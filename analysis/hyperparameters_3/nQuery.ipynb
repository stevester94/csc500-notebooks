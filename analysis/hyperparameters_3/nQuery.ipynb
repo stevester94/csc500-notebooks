{
 "cells": [
  {
   "cell_type": "code",
   "execution_count": 1,
   "id": "d4ebe37a",
   "metadata": {},
   "outputs": [],
   "source": [
    "import pandas as pd\n",
    "import json\n",
    "import os\n",
    "import matplotlib.pyplot as plt\n",
    "import seaborn as sb\n",
    "\n",
    "from steves_utils.ptn_do_report import (\n",
    "    get_loss_curve,\n",
    ")\n",
    "\n",
    "\n",
    "from steves_utils.summary_utils import (\n",
    "    get_experiments_from_path\n",
    ")\n",
    "\n",
    "from steves_utils.utils_v2 import (\n",
    "    get_experiments_base_path\n",
    ")"
   ]
  },
  {
   "cell_type": "code",
   "execution_count": 2,
   "id": "42ff168e",
   "metadata": {},
   "outputs": [
    {
     "data": {
      "text/html": [
       "<div>\n",
       "<style scoped>\n",
       "    .dataframe tbody tr th:only-of-type {\n",
       "        vertical-align: middle;\n",
       "    }\n",
       "\n",
       "    .dataframe tbody tr th {\n",
       "        vertical-align: top;\n",
       "    }\n",
       "\n",
       "    .dataframe thead th {\n",
       "        text-align: right;\n",
       "    }\n",
       "</style>\n",
       "<table border=\"1\" class=\"dataframe\">\n",
       "  <thead>\n",
       "    <tr style=\"text-align: right;\">\n",
       "      <th></th>\n",
       "      <th>source_val_label_accuracy</th>\n",
       "      <th>source_val_label_loss</th>\n",
       "      <th>target_val_label_accuracy</th>\n",
       "      <th>target_val_label_loss</th>\n",
       "      <th>total_epochs_trained</th>\n",
       "      <th>total_experiment_time_secs</th>\n",
       "      <th>n_query</th>\n",
       "    </tr>\n",
       "  </thead>\n",
       "  <tbody>\n",
       "    <tr>\n",
       "      <th>0</th>\n",
       "      <td>0.770660</td>\n",
       "      <td>0.610240</td>\n",
       "      <td>0.622708</td>\n",
       "      <td>1.204355</td>\n",
       "      <td>12.0</td>\n",
       "      <td>648.351718</td>\n",
       "      <td>2.0</td>\n",
       "    </tr>\n",
       "    <tr>\n",
       "      <th>1</th>\n",
       "      <td>0.752662</td>\n",
       "      <td>0.687113</td>\n",
       "      <td>0.606597</td>\n",
       "      <td>1.202507</td>\n",
       "      <td>8.0</td>\n",
       "      <td>420.562757</td>\n",
       "      <td>5.0</td>\n",
       "    </tr>\n",
       "    <tr>\n",
       "      <th>2</th>\n",
       "      <td>0.744792</td>\n",
       "      <td>0.668007</td>\n",
       "      <td>0.602273</td>\n",
       "      <td>1.240154</td>\n",
       "      <td>10.0</td>\n",
       "      <td>506.331586</td>\n",
       "      <td>10.0</td>\n",
       "    </tr>\n",
       "    <tr>\n",
       "      <th>3</th>\n",
       "      <td>0.502815</td>\n",
       "      <td>1.234007</td>\n",
       "      <td>0.416385</td>\n",
       "      <td>1.592985</td>\n",
       "      <td>10.0</td>\n",
       "      <td>563.393555</td>\n",
       "      <td>1.0</td>\n",
       "    </tr>\n",
       "  </tbody>\n",
       "</table>\n",
       "</div>"
      ],
      "text/plain": [
       "   source_val_label_accuracy  source_val_label_loss  \\\n",
       "0                   0.770660               0.610240   \n",
       "1                   0.752662               0.687113   \n",
       "2                   0.744792               0.668007   \n",
       "3                   0.502815               1.234007   \n",
       "\n",
       "   target_val_label_accuracy  target_val_label_loss  total_epochs_trained  \\\n",
       "0                   0.622708               1.204355                  12.0   \n",
       "1                   0.606597               1.202507                   8.0   \n",
       "2                   0.602273               1.240154                  10.0   \n",
       "3                   0.416385               1.592985                  10.0   \n",
       "\n",
       "   total_experiment_time_secs  n_query  \n",
       "0                  648.351718      2.0  \n",
       "1                  420.562757      5.0  \n",
       "2                  506.331586     10.0  \n",
       "3                  563.393555      1.0  "
      ]
     },
     "execution_count": 2,
     "metadata": {},
     "output_type": "execute_result"
    }
   ],
   "source": [
    "trials = get_experiments_from_path(\n",
    "    os.path.join(get_experiments_base_path(), \"hyperparameters_3/nQuery\")\n",
    ")\n",
    "\n",
    "all_trials = pd.DataFrame(columns=[\n",
    "    \"source_val_label_accuracy\",\n",
    "    \"source_val_label_loss\",\n",
    "    \"target_val_label_accuracy\",\n",
    "    \"target_val_label_loss\",\n",
    "    \"total_epochs_trained\",\n",
    "    \"total_experiment_time_secs\",\n",
    "    \"n_query\",\n",
    "])\n",
    "\n",
    "for trial in trials:\n",
    "    f = pd.DataFrame(trial[\"results\"])\n",
    "    f[\"n_query\"] = trial[\"parameters\"][\"n_query\"]\n",
    "    f = f[all_trials.columns]\n",
    "\n",
    "    f = f.iloc[0] # Unknown why, but pandas is repeating trials for each domain in the trial!\n",
    "\n",
    "\n",
    "    all_trials = all_trials.append(f)\n",
    "    \n",
    "all_trials = all_trials.reset_index(drop=True)\n",
    "all_trials"
   ]
  },
  {
   "cell_type": "code",
   "execution_count": 3,
   "id": "795608fe",
   "metadata": {},
   "outputs": [
    {
     "data": {
      "text/html": [
       "<div>\n",
       "<style scoped>\n",
       "    .dataframe tbody tr th:only-of-type {\n",
       "        vertical-align: middle;\n",
       "    }\n",
       "\n",
       "    .dataframe tbody tr th {\n",
       "        vertical-align: top;\n",
       "    }\n",
       "\n",
       "    .dataframe thead th {\n",
       "        text-align: right;\n",
       "    }\n",
       "</style>\n",
       "<table border=\"1\" class=\"dataframe\">\n",
       "  <thead>\n",
       "    <tr style=\"text-align: right;\">\n",
       "      <th></th>\n",
       "      <th>source_val_label_accuracy</th>\n",
       "      <th>target_val_label_accuracy</th>\n",
       "    </tr>\n",
       "    <tr>\n",
       "      <th>n_query</th>\n",
       "      <th></th>\n",
       "      <th></th>\n",
       "    </tr>\n",
       "  </thead>\n",
       "  <tbody>\n",
       "    <tr>\n",
       "      <th>1.0</th>\n",
       "      <td>0.502815</td>\n",
       "      <td>0.416385</td>\n",
       "    </tr>\n",
       "    <tr>\n",
       "      <th>2.0</th>\n",
       "      <td>0.770660</td>\n",
       "      <td>0.622708</td>\n",
       "    </tr>\n",
       "    <tr>\n",
       "      <th>5.0</th>\n",
       "      <td>0.752662</td>\n",
       "      <td>0.606597</td>\n",
       "    </tr>\n",
       "    <tr>\n",
       "      <th>10.0</th>\n",
       "      <td>0.744792</td>\n",
       "      <td>0.602273</td>\n",
       "    </tr>\n",
       "  </tbody>\n",
       "</table>\n",
       "</div>"
      ],
      "text/plain": [
       "         source_val_label_accuracy  target_val_label_accuracy\n",
       "n_query                                                      \n",
       "1.0                       0.502815                   0.416385\n",
       "2.0                       0.770660                   0.622708\n",
       "5.0                       0.752662                   0.606597\n",
       "10.0                      0.744792                   0.602273"
      ]
     },
     "execution_count": 3,
     "metadata": {},
     "output_type": "execute_result"
    }
   ],
   "source": [
    "g = all_trials.groupby(\"n_query\")[[\n",
    "    \"source_val_label_accuracy\",\n",
    "    \"target_val_label_accuracy\",\n",
    "]].mean()\n",
    "g"
   ]
  },
  {
   "cell_type": "code",
   "execution_count": 4,
   "id": "1466b0d8",
   "metadata": {},
   "outputs": [
    {
     "data": {
      "text/plain": [
       "<matplotlib.axes._subplots.AxesSubplot at 0x7f2bc8b67040>"
      ]
     },
     "execution_count": 4,
     "metadata": {},
     "output_type": "execute_result"
    },
    {
     "data": {
      "image/png": "[encoded data removed]",
      "text/plain": [
       "<Figure size 432x288 with 1 Axes>"
      ]
     },
     "metadata": {
      "needs_background": "light"
     },
     "output_type": "display_data"
    }
   ],
   "source": [
    "ax = all_trials.groupby(\"n_query\")[[\n",
    "    \"source_val_label_accuracy\",\n",
    "    \"target_val_label_accuracy\"\n",
    "]].mean().sort_values(\"n_query\", ascending=False).plot(kind=\"bar\")\n",
    "\n",
    "ax.set_ylim(0,1)\n",
    "ax"
   ]
  }
 ],
 "metadata": {
  "kernelspec": {
   "display_name": "Python 3 (ipykernel)",
   "language": "python",
   "name": "python3"
  },
  "language_info": {
   "codemirror_mode": {
    "name": "ipython",
    "version": 3
   },
   "file_extension": ".py",
   "mimetype": "text/x-python",
   "name": "python",
   "nbconvert_exporter": "python",
   "pygments_lexer": "ipython3",
   "version": "3.8.10"
  }
 },
 "nbformat": 4,
 "nbformat_minor": 5
}
