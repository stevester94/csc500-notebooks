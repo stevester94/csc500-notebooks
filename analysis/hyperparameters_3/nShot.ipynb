{
 "cells": [
  {
   "cell_type": "code",
   "execution_count": 1,
   "id": "d4ebe37a",
   "metadata": {},
   "outputs": [],
   "source": [
    "import pandas as pd\n",
    "import json\n",
    "import os\n",
    "import matplotlib.pyplot as plt\n",
    "import seaborn as sb\n",
    "\n",
    "from steves_utils.ptn_do_report import (\n",
    "    get_loss_curve,\n",
    ")\n",
    "\n",
    "\n",
    "from steves_utils.summary_utils import (\n",
    "    get_experiments_from_path\n",
    ")\n",
    "\n",
    "from steves_utils.utils_v2 import (\n",
    "    get_experiments_base_path\n",
    ")"
   ]
  },
  {
   "cell_type": "code",
   "execution_count": 2,
   "id": "42ff168e",
   "metadata": {},
   "outputs": [
    {
     "data": {
      "text/html": [
       "<div>\n",
       "<style scoped>\n",
       "    .dataframe tbody tr th:only-of-type {\n",
       "        vertical-align: middle;\n",
       "    }\n",
       "\n",
       "    .dataframe tbody tr th {\n",
       "        vertical-align: top;\n",
       "    }\n",
       "\n",
       "    .dataframe thead th {\n",
       "        text-align: right;\n",
       "    }\n",
       "</style>\n",
       "<table border=\"1\" class=\"dataframe\">\n",
       "  <thead>\n",
       "    <tr style=\"text-align: right;\">\n",
       "      <th></th>\n",
       "      <th>source_val_label_accuracy</th>\n",
       "      <th>source_val_label_loss</th>\n",
       "      <th>target_val_label_accuracy</th>\n",
       "      <th>target_val_label_loss</th>\n",
       "      <th>total_epochs_trained</th>\n",
       "      <th>total_experiment_time_secs</th>\n",
       "      <th>n_shot</th>\n",
       "    </tr>\n",
       "  </thead>\n",
       "  <tbody>\n",
       "    <tr>\n",
       "      <th>0</th>\n",
       "      <td>0.712838</td>\n",
       "      <td>0.758901</td>\n",
       "      <td>0.569088</td>\n",
       "      <td>1.323158</td>\n",
       "      <td>14.0</td>\n",
       "      <td>789.565952</td>\n",
       "      <td>2.0</td>\n",
       "    </tr>\n",
       "    <tr>\n",
       "      <th>1</th>\n",
       "      <td>0.785466</td>\n",
       "      <td>0.586422</td>\n",
       "      <td>0.639583</td>\n",
       "      <td>1.213695</td>\n",
       "      <td>15.0</td>\n",
       "      <td>784.106309</td>\n",
       "      <td>5.0</td>\n",
       "    </tr>\n",
       "    <tr>\n",
       "      <th>2</th>\n",
       "      <td>0.789062</td>\n",
       "      <td>0.573106</td>\n",
       "      <td>0.653646</td>\n",
       "      <td>1.144937</td>\n",
       "      <td>25.0</td>\n",
       "      <td>1245.758807</td>\n",
       "      <td>10.0</td>\n",
       "    </tr>\n",
       "    <tr>\n",
       "      <th>3</th>\n",
       "      <td>0.718646</td>\n",
       "      <td>0.750541</td>\n",
       "      <td>0.561937</td>\n",
       "      <td>1.424482</td>\n",
       "      <td>11.0</td>\n",
       "      <td>662.212307</td>\n",
       "      <td>1.0</td>\n",
       "    </tr>\n",
       "  </tbody>\n",
       "</table>\n",
       "</div>"
      ],
      "text/plain": [
       "   source_val_label_accuracy  source_val_label_loss  \\\n",
       "0                   0.712838               0.758901   \n",
       "1                   0.785466               0.586422   \n",
       "2                   0.789062               0.573106   \n",
       "3                   0.718646               0.750541   \n",
       "\n",
       "   target_val_label_accuracy  target_val_label_loss  total_epochs_trained  \\\n",
       "0                   0.569088               1.323158                  14.0   \n",
       "1                   0.639583               1.213695                  15.0   \n",
       "2                   0.653646               1.144937                  25.0   \n",
       "3                   0.561937               1.424482                  11.0   \n",
       "\n",
       "   total_experiment_time_secs  n_shot  \n",
       "0                  789.565952     2.0  \n",
       "1                  784.106309     5.0  \n",
       "2                 1245.758807    10.0  \n",
       "3                  662.212307     1.0  "
      ]
     },
     "execution_count": 2,
     "metadata": {},
     "output_type": "execute_result"
    }
   ],
   "source": [
    "trials = get_experiments_from_path(\n",
    "    os.path.join(get_experiments_base_path(), \"hyperparameters_3/nShot\")\n",
    ")\n",
    "\n",
    "all_trials = pd.DataFrame(columns=[\n",
    "    \"source_val_label_accuracy\",\n",
    "    \"source_val_label_loss\",\n",
    "    \"target_val_label_accuracy\",\n",
    "    \"target_val_label_loss\",\n",
    "    \"total_epochs_trained\",\n",
    "    \"total_experiment_time_secs\",\n",
    "    \"n_shot\",\n",
    "])\n",
    "\n",
    "for trial in trials:\n",
    "    f = pd.DataFrame(trial[\"results\"])\n",
    "    f[\"n_shot\"] = trial[\"parameters\"][\"n_shot\"]\n",
    "    f = f[all_trials.columns]\n",
    "\n",
    "    f = f.iloc[0] # Unknown why, but pandas is repeating trials for each domain in the trial!\n",
    "\n",
    "\n",
    "    all_trials = all_trials.append(f)\n",
    "    \n",
    "all_trials = all_trials.reset_index(drop=True)\n",
    "all_trials"
   ]
  },
  {
   "cell_type": "code",
   "execution_count": 3,
   "id": "795608fe",
   "metadata": {},
   "outputs": [
    {
     "data": {
      "text/html": [
       "<div>\n",
       "<style scoped>\n",
       "    .dataframe tbody tr th:only-of-type {\n",
       "        vertical-align: middle;\n",
       "    }\n",
       "\n",
       "    .dataframe tbody tr th {\n",
       "        vertical-align: top;\n",
       "    }\n",
       "\n",
       "    .dataframe thead th {\n",
       "        text-align: right;\n",
       "    }\n",
       "</style>\n",
       "<table border=\"1\" class=\"dataframe\">\n",
       "  <thead>\n",
       "    <tr style=\"text-align: right;\">\n",
       "      <th></th>\n",
       "      <th>source_val_label_accuracy</th>\n",
       "      <th>target_val_label_accuracy</th>\n",
       "    </tr>\n",
       "    <tr>\n",
       "      <th>n_shot</th>\n",
       "      <th></th>\n",
       "      <th></th>\n",
       "    </tr>\n",
       "  </thead>\n",
       "  <tbody>\n",
       "    <tr>\n",
       "      <th>1.0</th>\n",
       "      <td>0.718646</td>\n",
       "      <td>0.561937</td>\n",
       "    </tr>\n",
       "    <tr>\n",
       "      <th>2.0</th>\n",
       "      <td>0.712838</td>\n",
       "      <td>0.569088</td>\n",
       "    </tr>\n",
       "    <tr>\n",
       "      <th>5.0</th>\n",
       "      <td>0.785466</td>\n",
       "      <td>0.639583</td>\n",
       "    </tr>\n",
       "    <tr>\n",
       "      <th>10.0</th>\n",
       "      <td>0.789062</td>\n",
       "      <td>0.653646</td>\n",
       "    </tr>\n",
       "  </tbody>\n",
       "</table>\n",
       "</div>"
      ],
      "text/plain": [
       "        source_val_label_accuracy  target_val_label_accuracy\n",
       "n_shot                                                      \n",
       "1.0                      0.718646                   0.561937\n",
       "2.0                      0.712838                   0.569088\n",
       "5.0                      0.785466                   0.639583\n",
       "10.0                     0.789062                   0.653646"
      ]
     },
     "execution_count": 3,
     "metadata": {},
     "output_type": "execute_result"
    }
   ],
   "source": [
    "g = all_trials.groupby(\"n_shot\")[[\n",
    "    \"source_val_label_accuracy\",\n",
    "    \"target_val_label_accuracy\",\n",
    "]].mean()\n",
    "g"
   ]
  },
  {
   "cell_type": "code",
   "execution_count": 4,
   "id": "1466b0d8",
   "metadata": {},
   "outputs": [
    {
     "data": {
      "text/plain": [
       "<matplotlib.axes._subplots.AxesSubplot at 0x7feb30d90bb0>"
      ]
     },
     "execution_count": 4,
     "metadata": {},
     "output_type": "execute_result"
    },
    {
     "data": {
      "image/png": "[encoded data removed]",
      "text/plain": [
       "<Figure size 432x288 with 1 Axes>"
      ]
     },
     "metadata": {
      "needs_background": "light"
     },
     "output_type": "display_data"
    }
   ],
   "source": [
    "ax = all_trials.groupby(\"n_shot\")[[\n",
    "    \"source_val_label_accuracy\",\n",
    "    \"target_val_label_accuracy\"\n",
    "]].mean().sort_values(\"n_shot\", ascending=False).plot(kind=\"bar\")\n",
    "\n",
    "ax.set_ylim(0,1)\n",
    "ax"
   ]
  }
 ],
 "metadata": {
  "kernelspec": {
   "display_name": "Python 3 (ipykernel)",
   "language": "python",
   "name": "python3"
  },
  "language_info": {
   "codemirror_mode": {
    "name": "ipython",
    "version": 3
   },
   "file_extension": ".py",
   "mimetype": "text/x-python",
   "name": "python",
   "nbconvert_exporter": "python",
   "pygments_lexer": "ipython3",
   "version": "3.8.10"
  }
 },
 "nbformat": 4,
 "nbformat_minor": 5
}
