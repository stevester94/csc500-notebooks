{
 "cells": [
  {
   "cell_type": "code",
   "execution_count": 1,
   "id": "d4ebe37a",
   "metadata": {},
   "outputs": [],
   "source": [
    "import pandas as pd\n",
    "import json\n",
    "import os\n",
    "import matplotlib.pyplot as plt\n",
    "import seaborn as sb\n",
    "\n",
    "from steves_utils.ptn_do_report import (\n",
    "    get_loss_curve,\n",
    ")\n",
    "\n",
    "\n",
    "from steves_utils.summary_utils import (\n",
    "    get_experiments_from_path\n",
    ")\n",
    "\n",
    "from steves_utils.utils_v2 import (\n",
    "    get_experiments_base_path\n",
    ")"
   ]
  },
  {
   "cell_type": "code",
   "execution_count": 2,
   "id": "42ff168e",
   "metadata": {},
   "outputs": [
    {
     "data": {
      "text/html": [
       "<div>\n",
       "<style scoped>\n",
       "    .dataframe tbody tr th:only-of-type {\n",
       "        vertical-align: middle;\n",
       "    }\n",
       "\n",
       "    .dataframe tbody tr th {\n",
       "        vertical-align: top;\n",
       "    }\n",
       "\n",
       "    .dataframe thead th {\n",
       "        text-align: right;\n",
       "    }\n",
       "</style>\n",
       "<table border=\"1\" class=\"dataframe\">\n",
       "  <thead>\n",
       "    <tr style=\"text-align: right;\">\n",
       "      <th></th>\n",
       "      <th>source_val_label_accuracy</th>\n",
       "      <th>source_val_label_loss</th>\n",
       "      <th>target_val_label_accuracy</th>\n",
       "      <th>target_val_label_loss</th>\n",
       "      <th>total_epochs_trained</th>\n",
       "      <th>total_experiment_time_secs</th>\n",
       "      <th>n_way</th>\n",
       "    </tr>\n",
       "  </thead>\n",
       "  <tbody>\n",
       "    <tr>\n",
       "      <th>0</th>\n",
       "      <td>0.824088</td>\n",
       "      <td>0.473720</td>\n",
       "      <td>0.693297</td>\n",
       "      <td>0.887452</td>\n",
       "      <td>11.0</td>\n",
       "      <td>184.997943</td>\n",
       "      <td>10.0</td>\n",
       "    </tr>\n",
       "    <tr>\n",
       "      <th>1</th>\n",
       "      <td>0.897695</td>\n",
       "      <td>0.257854</td>\n",
       "      <td>0.807455</td>\n",
       "      <td>0.617650</td>\n",
       "      <td>11.0</td>\n",
       "      <td>240.020117</td>\n",
       "      <td>5.0</td>\n",
       "    </tr>\n",
       "    <tr>\n",
       "      <th>2</th>\n",
       "      <td>0.927650</td>\n",
       "      <td>0.188499</td>\n",
       "      <td>0.901965</td>\n",
       "      <td>0.255778</td>\n",
       "      <td>15.0</td>\n",
       "      <td>585.421455</td>\n",
       "      <td>2.0</td>\n",
       "    </tr>\n",
       "    <tr>\n",
       "      <th>3</th>\n",
       "      <td>0.770660</td>\n",
       "      <td>0.610240</td>\n",
       "      <td>0.622708</td>\n",
       "      <td>1.204355</td>\n",
       "      <td>12.0</td>\n",
       "      <td>178.175243</td>\n",
       "      <td>16.0</td>\n",
       "    </tr>\n",
       "  </tbody>\n",
       "</table>\n",
       "</div>"
      ],
      "text/plain": [
       "   source_val_label_accuracy  source_val_label_loss  \\\n",
       "0                   0.824088               0.473720   \n",
       "1                   0.897695               0.257854   \n",
       "2                   0.927650               0.188499   \n",
       "3                   0.770660               0.610240   \n",
       "\n",
       "   target_val_label_accuracy  target_val_label_loss  total_epochs_trained  \\\n",
       "0                   0.693297               0.887452                  11.0   \n",
       "1                   0.807455               0.617650                  11.0   \n",
       "2                   0.901965               0.255778                  15.0   \n",
       "3                   0.622708               1.204355                  12.0   \n",
       "\n",
       "   total_experiment_time_secs  n_way  \n",
       "0                  184.997943   10.0  \n",
       "1                  240.020117    5.0  \n",
       "2                  585.421455    2.0  \n",
       "3                  178.175243   16.0  "
      ]
     },
     "execution_count": 2,
     "metadata": {},
     "output_type": "execute_result"
    }
   ],
   "source": [
    "trials = get_experiments_from_path(\n",
    "    os.path.join(get_experiments_base_path(), \"hyperparameters_3/nWay\")\n",
    ")\n",
    "\n",
    "all_trials = pd.DataFrame(columns=[\n",
    "    \"source_val_label_accuracy\",\n",
    "    \"source_val_label_loss\",\n",
    "    \"target_val_label_accuracy\",\n",
    "    \"target_val_label_loss\",\n",
    "    \"total_epochs_trained\",\n",
    "    \"total_experiment_time_secs\",\n",
    "    \"n_way\",\n",
    "])\n",
    "\n",
    "for trial in trials:\n",
    "    f = pd.DataFrame(trial[\"results\"])\n",
    "    f[\"n_way\"] = trial[\"parameters\"][\"n_way\"]\n",
    "    f = f[all_trials.columns]\n",
    "\n",
    "    f = f.iloc[0] # Unknown why, but pandas is repeating trials for each domain in the trial!\n",
    "\n",
    "\n",
    "    all_trials = all_trials.append(f)\n",
    "    \n",
    "all_trials = all_trials.reset_index(drop=True)\n",
    "all_trials"
   ]
  },
  {
   "cell_type": "code",
   "execution_count": 3,
   "id": "795608fe",
   "metadata": {},
   "outputs": [
    {
     "data": {
      "text/html": [
       "<div>\n",
       "<style scoped>\n",
       "    .dataframe tbody tr th:only-of-type {\n",
       "        vertical-align: middle;\n",
       "    }\n",
       "\n",
       "    .dataframe tbody tr th {\n",
       "        vertical-align: top;\n",
       "    }\n",
       "\n",
       "    .dataframe thead th {\n",
       "        text-align: right;\n",
       "    }\n",
       "</style>\n",
       "<table border=\"1\" class=\"dataframe\">\n",
       "  <thead>\n",
       "    <tr style=\"text-align: right;\">\n",
       "      <th></th>\n",
       "      <th>source_val_label_accuracy</th>\n",
       "      <th>target_val_label_accuracy</th>\n",
       "    </tr>\n",
       "    <tr>\n",
       "      <th>n_way</th>\n",
       "      <th></th>\n",
       "      <th></th>\n",
       "    </tr>\n",
       "  </thead>\n",
       "  <tbody>\n",
       "    <tr>\n",
       "      <th>2.0</th>\n",
       "      <td>0.927650</td>\n",
       "      <td>0.901965</td>\n",
       "    </tr>\n",
       "    <tr>\n",
       "      <th>5.0</th>\n",
       "      <td>0.897695</td>\n",
       "      <td>0.807455</td>\n",
       "    </tr>\n",
       "    <tr>\n",
       "      <th>10.0</th>\n",
       "      <td>0.824088</td>\n",
       "      <td>0.693297</td>\n",
       "    </tr>\n",
       "    <tr>\n",
       "      <th>16.0</th>\n",
       "      <td>0.770660</td>\n",
       "      <td>0.622708</td>\n",
       "    </tr>\n",
       "  </tbody>\n",
       "</table>\n",
       "</div>"
      ],
      "text/plain": [
       "       source_val_label_accuracy  target_val_label_accuracy\n",
       "n_way                                                      \n",
       "2.0                     0.927650                   0.901965\n",
       "5.0                     0.897695                   0.807455\n",
       "10.0                    0.824088                   0.693297\n",
       "16.0                    0.770660                   0.622708"
      ]
     },
     "execution_count": 3,
     "metadata": {},
     "output_type": "execute_result"
    }
   ],
   "source": [
    "g = all_trials.groupby(\"n_way\")[[\n",
    "    \"source_val_label_accuracy\",\n",
    "    \"target_val_label_accuracy\",\n",
    "]].mean()\n",
    "g"
   ]
  },
  {
   "cell_type": "code",
   "execution_count": 4,
   "id": "1466b0d8",
   "metadata": {},
   "outputs": [
    {
     "data": {
      "text/plain": [
       "<matplotlib.axes._subplots.AxesSubplot at 0x7fcaf1032bb0>"
      ]
     },
     "execution_count": 4,
     "metadata": {},
     "output_type": "execute_result"
    },
    {
     "data": {
      "image/png": "[encoded data removed]",
      "text/plain": [
       "<Figure size 432x288 with 1 Axes>"
      ]
     },
     "metadata": {
      "needs_background": "light"
     },
     "output_type": "display_data"
    }
   ],
   "source": [
    "ax = all_trials.groupby(\"n_way\")[[\n",
    "    \"source_val_label_accuracy\",\n",
    "    \"target_val_label_accuracy\"\n",
    "]].mean().sort_values(\"n_way\", ascending=False).plot(kind=\"bar\")\n",
    "\n",
    "ax.set_ylim(0,1)\n",
    "ax"
   ]
  }
 ],
 "metadata": {
  "kernelspec": {
   "display_name": "Python 3 (ipykernel)",
   "language": "python",
   "name": "python3"
  },
  "language_info": {
   "codemirror_mode": {
    "name": "ipython",
    "version": 3
   },
   "file_extension": ".py",
   "mimetype": "text/x-python",
   "name": "python",
   "nbconvert_exporter": "python",
   "pygments_lexer": "ipython3",
   "version": "3.8.10"
  }
 },
 "nbformat": 4,
 "nbformat_minor": 5
}
