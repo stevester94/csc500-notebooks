{
 "cells": [
  {
   "cell_type": "code",
   "execution_count": 1,
   "id": "d4ebe37a",
   "metadata": {},
   "outputs": [],
   "source": [
    "import pandas as pd\n",
    "import json\n",
    "import os\n",
    "import matplotlib.pyplot as plt\n",
    "import seaborn as sb\n",
    "\n",
    "from steves_utils.ptn_do_report import (\n",
    "    get_loss_curve,\n",
    ")\n",
    "\n",
    "\n",
    "from steves_utils.summary_utils import (\n",
    "    get_experiments_from_path\n",
    ")\n",
    "\n",
    "from steves_utils.utils_v2 import (\n",
    "    get_experiments_base_path\n",
    ")"
   ]
  },
  {
   "cell_type": "code",
   "execution_count": 2,
   "id": "42ff168e",
   "metadata": {},
   "outputs": [
    {
     "data": {
      "text/html": [
       "<div>\n",
       "<style scoped>\n",
       "    .dataframe tbody tr th:only-of-type {\n",
       "        vertical-align: middle;\n",
       "    }\n",
       "\n",
       "    .dataframe tbody tr th {\n",
       "        vertical-align: top;\n",
       "    }\n",
       "\n",
       "    .dataframe thead th {\n",
       "        text-align: right;\n",
       "    }\n",
       "</style>\n",
       "<table border=\"1\" class=\"dataframe\">\n",
       "  <thead>\n",
       "    <tr style=\"text-align: right;\">\n",
       "      <th></th>\n",
       "      <th>source_val_label_accuracy</th>\n",
       "      <th>source_val_label_loss</th>\n",
       "      <th>target_val_label_accuracy</th>\n",
       "      <th>target_val_label_loss</th>\n",
       "      <th>total_epochs_trained</th>\n",
       "      <th>total_experiment_time_secs</th>\n",
       "      <th>train_k_factor</th>\n",
       "    </tr>\n",
       "  </thead>\n",
       "  <tbody>\n",
       "    <tr>\n",
       "      <th>0</th>\n",
       "      <td>0.767535</td>\n",
       "      <td>0.626134</td>\n",
       "      <td>0.624896</td>\n",
       "      <td>1.136125</td>\n",
       "      <td>8.0</td>\n",
       "      <td>203.893335</td>\n",
       "      <td>2.0</td>\n",
       "    </tr>\n",
       "    <tr>\n",
       "      <th>1</th>\n",
       "      <td>0.793229</td>\n",
       "      <td>0.559801</td>\n",
       "      <td>0.647708</td>\n",
       "      <td>1.145146</td>\n",
       "      <td>8.0</td>\n",
       "      <td>286.987192</td>\n",
       "      <td>3.0</td>\n",
       "    </tr>\n",
       "    <tr>\n",
       "      <th>2</th>\n",
       "      <td>0.790972</td>\n",
       "      <td>0.568236</td>\n",
       "      <td>0.638229</td>\n",
       "      <td>1.172892</td>\n",
       "      <td>7.0</td>\n",
       "      <td>325.285373</td>\n",
       "      <td>4.0</td>\n",
       "    </tr>\n",
       "    <tr>\n",
       "      <th>3</th>\n",
       "      <td>0.770660</td>\n",
       "      <td>0.610240</td>\n",
       "      <td>0.622708</td>\n",
       "      <td>1.204355</td>\n",
       "      <td>12.0</td>\n",
       "      <td>173.691011</td>\n",
       "      <td>1.0</td>\n",
       "    </tr>\n",
       "    <tr>\n",
       "      <th>4</th>\n",
       "      <td>0.780382</td>\n",
       "      <td>0.574816</td>\n",
       "      <td>0.638437</td>\n",
       "      <td>1.123723</td>\n",
       "      <td>6.0</td>\n",
       "      <td>345.938540</td>\n",
       "      <td>5.0</td>\n",
       "    </tr>\n",
       "  </tbody>\n",
       "</table>\n",
       "</div>"
      ],
      "text/plain": [
       "   source_val_label_accuracy  source_val_label_loss  \\\n",
       "0                   0.767535               0.626134   \n",
       "1                   0.793229               0.559801   \n",
       "2                   0.790972               0.568236   \n",
       "3                   0.770660               0.610240   \n",
       "4                   0.780382               0.574816   \n",
       "\n",
       "   target_val_label_accuracy  target_val_label_loss  total_epochs_trained  \\\n",
       "0                   0.624896               1.136125                   8.0   \n",
       "1                   0.647708               1.145146                   8.0   \n",
       "2                   0.638229               1.172892                   7.0   \n",
       "3                   0.622708               1.204355                  12.0   \n",
       "4                   0.638437               1.123723                   6.0   \n",
       "\n",
       "   total_experiment_time_secs  train_k_factor  \n",
       "0                  203.893335             2.0  \n",
       "1                  286.987192             3.0  \n",
       "2                  325.285373             4.0  \n",
       "3                  173.691011             1.0  \n",
       "4                  345.938540             5.0  "
      ]
     },
     "execution_count": 2,
     "metadata": {},
     "output_type": "execute_result"
    }
   ],
   "source": [
    "trials = get_experiments_from_path(\n",
    "    os.path.join(get_experiments_base_path(), \"hyperparameters_3/train_k_factor\")\n",
    ")\n",
    "\n",
    "all_trials = pd.DataFrame(columns=[\n",
    "    \"source_val_label_accuracy\",\n",
    "    \"source_val_label_loss\",\n",
    "    \"target_val_label_accuracy\",\n",
    "    \"target_val_label_loss\",\n",
    "    \"total_epochs_trained\",\n",
    "    \"total_experiment_time_secs\",\n",
    "    \"train_k_factor\",\n",
    "])\n",
    "\n",
    "for trial in trials:\n",
    "    f = pd.DataFrame(trial[\"results\"])\n",
    "    f[\"train_k_factor\"] = trial[\"parameters\"][\"train_k_factor\"]\n",
    "    f = f[all_trials.columns]\n",
    "\n",
    "    f = f.iloc[0] # Unknown why, but pandas is repeating trials for each domain in the trial!\n",
    "\n",
    "\n",
    "    all_trials = all_trials.append(f)\n",
    "    \n",
    "all_trials = all_trials.reset_index(drop=True)\n",
    "all_trials"
   ]
  },
  {
   "cell_type": "code",
   "execution_count": 3,
   "id": "795608fe",
   "metadata": {},
   "outputs": [
    {
     "data": {
      "text/html": [
       "<div>\n",
       "<style scoped>\n",
       "    .dataframe tbody tr th:only-of-type {\n",
       "        vertical-align: middle;\n",
       "    }\n",
       "\n",
       "    .dataframe tbody tr th {\n",
       "        vertical-align: top;\n",
       "    }\n",
       "\n",
       "    .dataframe thead th {\n",
       "        text-align: right;\n",
       "    }\n",
       "</style>\n",
       "<table border=\"1\" class=\"dataframe\">\n",
       "  <thead>\n",
       "    <tr style=\"text-align: right;\">\n",
       "      <th></th>\n",
       "      <th>source_val_label_accuracy</th>\n",
       "      <th>target_val_label_accuracy</th>\n",
       "    </tr>\n",
       "    <tr>\n",
       "      <th>train_k_factor</th>\n",
       "      <th></th>\n",
       "      <th></th>\n",
       "    </tr>\n",
       "  </thead>\n",
       "  <tbody>\n",
       "    <tr>\n",
       "      <th>1.0</th>\n",
       "      <td>0.770660</td>\n",
       "      <td>0.622708</td>\n",
       "    </tr>\n",
       "    <tr>\n",
       "      <th>2.0</th>\n",
       "      <td>0.767535</td>\n",
       "      <td>0.624896</td>\n",
       "    </tr>\n",
       "    <tr>\n",
       "      <th>3.0</th>\n",
       "      <td>0.793229</td>\n",
       "      <td>0.647708</td>\n",
       "    </tr>\n",
       "    <tr>\n",
       "      <th>4.0</th>\n",
       "      <td>0.790972</td>\n",
       "      <td>0.638229</td>\n",
       "    </tr>\n",
       "    <tr>\n",
       "      <th>5.0</th>\n",
       "      <td>0.780382</td>\n",
       "      <td>0.638437</td>\n",
       "    </tr>\n",
       "  </tbody>\n",
       "</table>\n",
       "</div>"
      ],
      "text/plain": [
       "                source_val_label_accuracy  target_val_label_accuracy\n",
       "train_k_factor                                                      \n",
       "1.0                              0.770660                   0.622708\n",
       "2.0                              0.767535                   0.624896\n",
       "3.0                              0.793229                   0.647708\n",
       "4.0                              0.790972                   0.638229\n",
       "5.0                              0.780382                   0.638437"
      ]
     },
     "execution_count": 3,
     "metadata": {},
     "output_type": "execute_result"
    }
   ],
   "source": [
    "g = all_trials.groupby(\"train_k_factor\")[[\n",
    "    \"source_val_label_accuracy\",\n",
    "    \"target_val_label_accuracy\",\n",
    "]].mean()\n",
    "g"
   ]
  },
  {
   "cell_type": "code",
   "execution_count": 4,
   "id": "1466b0d8",
   "metadata": {},
   "outputs": [
    {
     "data": {
      "text/plain": [
       "<matplotlib.axes._subplots.AxesSubplot at 0x7f46c1419bb0>"
      ]
     },
     "execution_count": 4,
     "metadata": {},
     "output_type": "execute_result"
    },
    {
     "data": {
      "image/png": "[encoded data removed]",
      "text/plain": [
       "<Figure size 432x288 with 1 Axes>"
      ]
     },
     "metadata": {
      "needs_background": "light"
     },
     "output_type": "display_data"
    }
   ],
   "source": [
    "ax = all_trials.groupby(\"train_k_factor\")[[\n",
    "    \"source_val_label_accuracy\",\n",
    "    \"target_val_label_accuracy\"\n",
    "]].mean().sort_values(\"train_k_factor\", ascending=False).plot(kind=\"bar\")\n",
    "\n",
    "ax.set_ylim(0,1)\n",
    "ax"
   ]
  }
 ],
 "metadata": {
  "kernelspec": {
   "display_name": "Python 3 (ipykernel)",
   "language": "python",
   "name": "python3"
  },
  "language_info": {
   "codemirror_mode": {
    "name": "ipython",
    "version": 3
   },
   "file_extension": ".py",
   "mimetype": "text/x-python",
   "name": "python",
   "nbconvert_exporter": "python",
   "pygments_lexer": "ipython3",
   "version": "3.8.10"
  }
 },
 "nbformat": 4,
 "nbformat_minor": 5
}
