{
 "cells": [
  {
   "cell_type": "code",
   "execution_count": 1,
   "id": "a2800c80",
   "metadata": {},
   "outputs": [],
   "source": [
    "import os\n",
    "import json\n",
    "import numpy as np\n",
    "import matplotlib.pyplot as plt\n",
    "\n",
    "from steves_utils.utils_v2 import get_datasets_base_path"
   ]
  },
  {
   "cell_type": "code",
   "execution_count": 2,
   "id": "2e713423",
   "metadata": {},
   "outputs": [],
   "source": [
    "# 34 seconds to process 1e6 samples\n",
    "class Packet_Detector:\n",
    "    def __init__(\n",
    "        self,\n",
    "        symbol_length:int\n",
    "    ):\n",
    "        self.symbol_length = symbol_length\n",
    "        \n",
    "        self.R   = np.empty(0, dtype=np.complex128)\n",
    "        self.R_d = np.empty(0, dtype=np.complex128)\n",
    "        self.m = []\n",
    "    def add(self, c:complex)->float:\n",
    "        self.R = np.append(self.R, c)\n",
    "        \n",
    "        if len(self.R) > self.symbol_length:\n",
    "            self.R_d = np.append(self.R_d, self.R[0])\n",
    "            self.R = np.delete(self.R, 0)\n",
    "            \n",
    "            if len(self.R_d) > self.symbol_length:\n",
    "                self.R_d = np.delete(self.R_d, 0)\n",
    "            \n",
    "        \n",
    "        if len(self.R_d) == self.symbol_length:\n",
    "            c = np.multiply(self.R, self.R_d.conjugate())\n",
    "            p = np.square(np.abs(self.R_d))\n",
    "            \n",
    "            c = np.sum(c)\n",
    "            p = np.sum(p)\n",
    "            \n",
    "            top = np.square(np.abs(c))\n",
    "            bottom = np.square(p)\n",
    "            \n",
    "            self.m.append(np.divide(top, bottom))\n",
    "    def get_m(self):\n",
    "        return self.m\n",
    "    \n",
    "    def get_packet_indices(self, up_threshold=0.8, down_threshold=0.3, min_duration=16):\n",
    "        indices = []\n",
    "        i = 0\n",
    "        in_packet = False\n",
    "        duration = 0\n",
    "        plateau_start = 0\n",
    "        while i < len(self.m):\n",
    "            if self.m[i] > up_threshold and not in_packet:\n",
    "                plateau_start = i\n",
    "                in_packet = True\n",
    "                \n",
    "            if in_packet:\n",
    "                duration += 1\n",
    "            \n",
    "            if duration == min_duration and in_packet:\n",
    "                indices.append(plateau_start)\n",
    "                \n",
    "            if self.m[i] < down_threshold:\n",
    "                in_packet = False\n",
    "                duration = 0\n",
    "            i += 1\n",
    "        return indices\n",
    "\n",
    "# 9 seconds on 1e6 samples\n",
    "def get_packet_indices(window_size, signal)->list:\n",
    "    R = np.lib.stride_tricks.sliding_window_view(signal, window_size)[window_size:]\n",
    "    R_d = np.lib.stride_tricks.sliding_window_view(signal[:-window_size], window_size)\n",
    "\n",
    "\n",
    "    C = []\n",
    "    for r, r_d in zip(R, R_d):\n",
    "        s = np.multiply(r, np.conjugate(r_d))\n",
    "        s = np.sum(s)\n",
    "\n",
    "        C.append(s)\n",
    "\n",
    "    C = np.array(C)\n",
    "    \n",
    "    P = []\n",
    "    for r_d in R_d:\n",
    "        p = np.square(np.abs(r_d))\n",
    "        p = np.sum(p)\n",
    "        P.append(p)\n",
    "    P = np.array(P)\n",
    "    \n",
    "    top = np.square(np.abs(C))\n",
    "    bottom = np.square(P)\n",
    "\n",
    "    M = np.divide(top, bottom)\n",
    "    \n",
    "    pd = Packet_Detector(16)\n",
    "    pd.m = M\n",
    "    \n",
    "    return pd.get_packet_indices()"
   ]
  },
  {
   "cell_type": "code",
   "execution_count": 3,
   "id": "24cd3c61",
   "metadata": {},
   "outputs": [],
   "source": [
    "bin_path = os.path.join(get_datasets_base_path(), \"KRI-16Devices-RawData/14ft/WiFi_air_X310_3123D52_14ft_run1.sigmf-data\")\n",
    "bin_path = os.path.join(get_datasets_base_path(), \"KRI-16Devices-RawData/38ft/WiFi_air_X310_3123D52_38ft_run1.sigmf-data\")\n",
    "bin_path = os.path.join(get_datasets_base_path(), \"KRI-16Devices-RawData/50ft/WiFi_air_X310_3123D52_50ft_run1.sigmf-data\")\n",
    "# bin_path = os.path.join(get_datasets_base_path(), \"KRI-16Devices-RawData/20ft/WiFi_air_X310_3123D52_20ft_run1.sigmf-data\")\n",
    "with open(bin_path, \"r+\") as f:\n",
    "    all_x = np.memmap(f, np.complex128)"
   ]
  },
  {
   "cell_type": "code",
   "execution_count": 4,
   "id": "cdb35268",
   "metadata": {},
   "outputs": [],
   "source": [
    "header_indices_path = \"/mnt/wd500GB/CSC500/csc500-main/csc500-dataset-preprocessor/ORACLE_framed/isolate_headers/indices.json\"\n",
    "\n",
    "with open(header_indices_path, \"r\") as f:\n",
    "    header_indices = json.load(f)\n",
    "\n",
    "for naked_path in list(header_indices.keys()):\n",
    "    full_path = os.path.join(get_datasets_base_path(), naked_path)\n",
    "    header_indices[full_path] = header_indices[naked_path]\n",
    "    del header_indices[naked_path]\n",
    "\n",
    "\n",
    "matlab_indices = header_indices[bin_path]"
   ]
  },
  {
   "cell_type": "code",
   "execution_count": 5,
   "id": "07aa7328",
   "metadata": {},
   "outputs": [],
   "source": [
    "# pd = Packet_Detector(symbol_length=16)\n",
    "# for c in all_x[:1000000]:\n",
    "#     pd.add(c)\n",
    "\n",
    "# my_indices=pd.get_packet_indices()\n",
    "my_indices = get_packet_indices(16, all_x)"
   ]
  },
  {
   "cell_type": "code",
   "execution_count": 7,
   "id": "d2a662c8",
   "metadata": {},
   "outputs": [
    {
     "name": "stdout",
     "output_type": "stream",
     "text": [
      "First matlab packet start: 1628\n"
     ]
    },
    {
     "data": {
      "image/png": "[encoded data removed]",
      "text/plain": [
       "<Figure size 432x288 with 1 Axes>"
      ]
     },
     "metadata": {
      "needs_background": "light"
     },
     "output_type": "display_data"
    }
   ],
   "source": [
    "# Hey matlab looks like its doing a good job here\n",
    "idx_to_get = 0\n",
    "print(\"First matlab packet start:\", matlab_indices[idx_to_get])\n",
    "start = matlab_indices[idx_to_get]-500\n",
    "stop = matlab_indices[idx_to_get]+500\n",
    "r = [i + start for i in range(stop-start)]\n",
    "\n",
    "\n",
    "\n",
    "plt.plot(r, np.abs(all_x[start:stop]))\n",
    "plt.axvline(x=matlab_indices[idx_to_get], color='red')\n",
    "plt.show()"
   ]
  },
  {
   "cell_type": "code",
   "execution_count": 11,
   "id": "b7d6fc38",
   "metadata": {},
   "outputs": [
    {
     "name": "stdout",
     "output_type": "stream",
     "text": [
      "It works!\n"
     ]
    }
   ],
   "source": [
    "# We allow a difference in index up to 5 samples\n",
    "# The vast majority are off my one, I accounted for matlab being 1-indexed so I'm not sure where\n",
    "# this offset of 1 is coming from.\n",
    "if len(matlab_indices) != len(my_indices):\n",
    "    raise Exception(\"Index lengths differ\")\n",
    "\n",
    "for mine, matlabs in zip(my_indices, matlab_indices):\n",
    "    if np.abs(mine-matlabs) > 5:\n",
    "        raise Exception(f\"{mine}, {matlabs}\")\n",
    "print(\"It works!\")"
   ]
  }
 ],
 "metadata": {
  "kernelspec": {
   "display_name": "Python 3 (ipykernel)",
   "language": "python",
   "name": "python3"
  },
  "language_info": {
   "codemirror_mode": {
    "name": "ipython",
    "version": 3
   },
   "file_extension": ".py",
   "mimetype": "text/x-python",
   "name": "python",
   "nbconvert_exporter": "python",
   "pygments_lexer": "ipython3",
   "version": "3.8.10"
  }
 },
 "nbformat": 4,
 "nbformat_minor": 5
}
