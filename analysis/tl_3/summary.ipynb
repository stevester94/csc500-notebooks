{
 "cells": [
  {
   "cell_type": "code",
   "execution_count": 1,
   "id": "d4ebe37a",
   "metadata": {},
   "outputs": [],
   "source": [
    "import pandas as pd\n",
    "import json\n",
    "import os\n",
    "import matplotlib.pyplot as plt\n",
    "import seaborn as sb\n",
    "import matplotlib\n",
    "\n",
    "\n",
    "\n",
    "from steves_utils.summary_utils import (\n",
    "    get_experiments_from_path\n",
    ")\n",
    "\n",
    "from steves_utils.utils_v2 import (\n",
    "    get_experiments_base_path\n",
    ")"
   ]
  },
  {
   "cell_type": "code",
   "execution_count": 2,
   "id": "073797b7",
   "metadata": {},
   "outputs": [
    {
     "name": "stdout",
     "output_type": "stream",
     "text": [
      "oracle.run1.framed-cores_wisig\n",
      "cores_wisig-oracle.run1.framed\n"
     ]
    }
   ],
   "source": [
    "experiments_to_get = [\n",
    "    \"oracle.run1.framed-cores_wisig\",\n",
    "    \"cores_wisig-oracle.run1.framed\",\n",
    "]\n",
    "\n",
    "experiments = {}\n",
    "\n",
    "for experiment in experiments_to_get:\n",
    "    print(experiment)\n",
    "    experiments[experiment] = get_experiments_from_path(\n",
    "        os.path.join(get_experiments_base_path(), \"tl_3/A\", experiment)\n",
    "    )"
   ]
  },
  {
   "cell_type": "code",
   "execution_count": 3,
   "id": "42ff168e",
   "metadata": {},
   "outputs": [
    {
     "ename": "AssertionError",
     "evalue": "",
     "output_type": "error",
     "traceback": [
      "\u001b[0;31m---------------------------------------------------------------------------\u001b[0m",
      "\u001b[0;31mAssertionError\u001b[0m                            Traceback (most recent call last)",
      "\u001b[0;32m/tmp/ipykernel_84660/571486012.py\u001b[0m in \u001b[0;36m<module>\u001b[0;34m\u001b[0m\n\u001b[1;32m     19\u001b[0m         \u001b[0mtransforms\u001b[0m \u001b[0;34m=\u001b[0m \u001b[0mlist\u001b[0m\u001b[0;34m(\u001b[0m\u001b[0mset\u001b[0m\u001b[0;34m(\u001b[0m \u001b[0;34m(\u001b[0m \u001b[0mtuple\u001b[0m\u001b[0;34m(\u001b[0m\u001b[0md\u001b[0m\u001b[0;34m[\u001b[0m\u001b[0;34m\"x_transforms\"\u001b[0m\u001b[0;34m]\u001b[0m\u001b[0;34m)\u001b[0m \u001b[0;32mfor\u001b[0m \u001b[0md\u001b[0m \u001b[0;32min\u001b[0m \u001b[0mdatasets\u001b[0m\u001b[0;34m)\u001b[0m \u001b[0;34m)\u001b[0m\u001b[0;34m)\u001b[0m\u001b[0;34m\u001b[0m\u001b[0;34m\u001b[0m\u001b[0m\n\u001b[1;32m     20\u001b[0m \u001b[0;34m\u001b[0m\u001b[0m\n\u001b[0;32m---> 21\u001b[0;31m         \u001b[0;32massert\u001b[0m \u001b[0mlen\u001b[0m\u001b[0;34m(\u001b[0m\u001b[0mtransforms\u001b[0m\u001b[0;34m)\u001b[0m \u001b[0;34m==\u001b[0m \u001b[0;36m1\u001b[0m\u001b[0;34m\u001b[0m\u001b[0;34m\u001b[0m\u001b[0m\n\u001b[0m\u001b[1;32m     22\u001b[0m \u001b[0;34m\u001b[0m\u001b[0m\n\u001b[1;32m     23\u001b[0m         \u001b[0mf\u001b[0m \u001b[0;34m=\u001b[0m \u001b[0mpd\u001b[0m\u001b[0;34m.\u001b[0m\u001b[0mDataFrame\u001b[0m\u001b[0;34m(\u001b[0m\u001b[0mtrial\u001b[0m\u001b[0;34m[\u001b[0m\u001b[0;34m\"results\"\u001b[0m\u001b[0;34m]\u001b[0m\u001b[0;34m)\u001b[0m\u001b[0;34m\u001b[0m\u001b[0;34m\u001b[0m\u001b[0m\n",
      "\u001b[0;31mAssertionError\u001b[0m: "
     ]
    }
   ],
   "source": [
    "all_trials = pd.DataFrame(columns=[\n",
    "    \"experiment_name\",\n",
    "    \"source_val_label_accuracy\",\n",
    "    \"target_val_label_accuracy\",\n",
    "    \"x_transform\",\n",
    "])\n",
    "\n",
    "# x_transform_mapping = {\n",
    "#     tuple([\"unit_power\"]):\"Unit Power\",\n",
    "#     tuple([\"unit_mag\"]): \"Unit Magnitude\",\n",
    "#     tuple([]): \"None\"\n",
    "# }\n",
    "\n",
    "for experiment in experiments_to_get:   \n",
    "    for trial in experiments[experiment]:\n",
    "       \n",
    "        datasets = trial[\"parameters\"][\"datasets\"]\n",
    "\n",
    "        transforms = list(set( ( tuple(d[\"x_transforms\"]) for d in datasets) ))\n",
    "\n",
    "        assert len(transforms) == 1\n",
    "        \n",
    "        f = pd.DataFrame(trial[\"results\"])\n",
    "        f[\"experiment_name\"] = experiment\n",
    "        f[\"x_transform\"] =  x_transform_mapping[transforms[0]]\n",
    "        f = f[all_trials.columns]\n",
    "        \n",
    "        f = f.iloc[0] # Unknown why, but pandas is repeating trials for each domain in the trial!\n",
    "        \n",
    "        \n",
    "        all_trials = all_trials.append(f)\n",
    "    \n",
    "all_trials = all_trials.reset_index(drop=True)\n",
    "all_trials"
   ]
  },
  {
   "cell_type": "code",
   "execution_count": null,
   "id": "76a0be22",
   "metadata": {},
   "outputs": [],
   "source": [
    "m = pd.melt(all_trials, \n",
    "        id_vars=[\"experiment_name\", \"x_transform\"], \n",
    "        value_vars=[\n",
    "            \"source_val_label_accuracy\",\n",
    "            \"target_val_label_accuracy\",\n",
    "        ])\n",
    "m"
   ]
  },
  {
   "cell_type": "code",
   "execution_count": null,
   "id": "4397a3d5",
   "metadata": {},
   "outputs": [],
   "source": [
    "matplotlib.rcParams.update({'font.size': 22})\n",
    "plt.style.use('seaborn-whitegrid')\n",
    "\n",
    "fg = sb.catplot(x='x_transform', col=\"experiment_name\", y='value', hue='variable', \n",
    "                        data=m, kind='bar', height=5, aspect=3, col_wrap=2, edgecolor = \"black\")\n",
    "fg.set_xlabels('')\n",
    "plt.figure(figsize=(15,50))\n",
    "\n",
    "# iterate through axes\n",
    "for ax in fg.axes.ravel():\n",
    "    \n",
    "    ax.tick_params(labelbottom=True)\n",
    "    \n",
    "    # add annotations\n",
    "    for c in ax.containers:\n",
    "        labels = [f'{(v.get_height()):.2f}' for v in c]\n",
    "        ax.bar_label(c, labels=labels, label_type='edge')\n",
    "    ax.margins(y=0.2)\n",
    "\n"
   ]
  }
 ],
 "metadata": {
  "kernelspec": {
   "display_name": "Python 3 (ipykernel)",
   "language": "python",
   "name": "python3"
  },
  "language_info": {
   "codemirror_mode": {
    "name": "ipython",
    "version": 3
   },
   "file_extension": ".py",
   "mimetype": "text/x-python",
   "name": "python",
   "nbconvert_exporter": "python",
   "pygments_lexer": "ipython3",
   "version": "3.8.10"
  }
 },
 "nbformat": 4,
 "nbformat_minor": 5
}
