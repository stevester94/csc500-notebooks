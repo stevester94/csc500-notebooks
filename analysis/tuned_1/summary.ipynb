{
 "cells": [
  {
   "cell_type": "code",
   "execution_count": 7,
   "id": "d4ebe37a",
   "metadata": {},
   "outputs": [],
   "source": [
    "import pandas as pd\n",
    "import json\n",
    "import os\n",
    "import matplotlib.pyplot as plt\n",
    "import seaborn as sb\n",
    "\n",
    "\n",
    "from steves_utils.summary_utils import (\n",
    "    get_experiments_from_path\n",
    ")\n",
    "\n",
    "from steves_utils.utils_v2 import (\n",
    "    get_experiments_base_path\n",
    ")"
   ]
  },
  {
   "cell_type": "code",
   "execution_count": 2,
   "id": "073797b7",
   "metadata": {},
   "outputs": [],
   "source": [
    "experiments_to_get = [\n",
    "    \"oracle.run2\",\n",
    "#     \"oracle.run1\",\n",
    "#     \"cores\",\n",
    "#     \"metehan\",\n",
    "#     \"wisig\",\n",
    "#     \"oracle.run1.framed\",\n",
    "#     \"oracle.run2.framed\",\n",
    "]\n",
    "\n",
    "experiments = {}\n",
    "\n",
    "for experiment in experiments_to_get:\n",
    "    experiments[experiment] = get_experiments_from_path(\n",
    "        os.path.join(get_experiments_base_path(), \"tmp\", experiment)\n",
    "    )"
   ]
  },
  {
   "cell_type": "code",
   "execution_count": 3,
   "id": "42ff168e",
   "metadata": {},
   "outputs": [
    {
     "data": {
      "text/html": [
       "<div>\n",
       "<style scoped>\n",
       "    .dataframe tbody tr th:only-of-type {\n",
       "        vertical-align: middle;\n",
       "    }\n",
       "\n",
       "    .dataframe tbody tr th {\n",
       "        vertical-align: top;\n",
       "    }\n",
       "\n",
       "    .dataframe thead th {\n",
       "        text-align: right;\n",
       "    }\n",
       "</style>\n",
       "<table border=\"1\" class=\"dataframe\">\n",
       "  <thead>\n",
       "    <tr style=\"text-align: right;\">\n",
       "      <th></th>\n",
       "      <th>experiment_name</th>\n",
       "      <th>source_val_label_accuracy</th>\n",
       "      <th>target_val_label_accuracy</th>\n",
       "      <th>x_transforms_source</th>\n",
       "    </tr>\n",
       "  </thead>\n",
       "  <tbody>\n",
       "    <tr>\n",
       "      <th>0</th>\n",
       "      <td>oracle.run2</td>\n",
       "      <td>0.793229</td>\n",
       "      <td>0.647708</td>\n",
       "      <td>[]</td>\n",
       "    </tr>\n",
       "    <tr>\n",
       "      <th>1</th>\n",
       "      <td>oracle.run2</td>\n",
       "      <td>0.553993</td>\n",
       "      <td>0.450625</td>\n",
       "      <td>['unit_power']</td>\n",
       "    </tr>\n",
       "    <tr>\n",
       "      <th>2</th>\n",
       "      <td>oracle.run2</td>\n",
       "      <td>0.062500</td>\n",
       "      <td>0.062500</td>\n",
       "      <td>['times_zero']</td>\n",
       "    </tr>\n",
       "    <tr>\n",
       "      <th>3</th>\n",
       "      <td>oracle.run2</td>\n",
       "      <td>0.543924</td>\n",
       "      <td>0.446667</td>\n",
       "      <td>['unit_mag']</td>\n",
       "    </tr>\n",
       "  </tbody>\n",
       "</table>\n",
       "</div>"
      ],
      "text/plain": [
       "  experiment_name  source_val_label_accuracy  target_val_label_accuracy  \\\n",
       "0     oracle.run2                   0.793229                   0.647708   \n",
       "1     oracle.run2                   0.553993                   0.450625   \n",
       "2     oracle.run2                   0.062500                   0.062500   \n",
       "3     oracle.run2                   0.543924                   0.446667   \n",
       "\n",
       "  x_transforms_source  \n",
       "0                  []  \n",
       "1      ['unit_power']  \n",
       "2      ['times_zero']  \n",
       "3        ['unit_mag']  "
      ]
     },
     "execution_count": 3,
     "metadata": {},
     "output_type": "execute_result"
    }
   ],
   "source": [
    "all_trials = pd.DataFrame(columns=[\n",
    "    \"experiment_name\",\n",
    "    \"source_val_label_accuracy\",\n",
    "    \"target_val_label_accuracy\",\n",
    "    \"x_transforms_source\"\n",
    "])\n",
    "\n",
    "for experiment in experiments_to_get:   \n",
    "    for trial in experiments[experiment]:\n",
    "        f = pd.DataFrame(trial[\"results\"])\n",
    "        f[\"experiment_name\"] = experiment\n",
    "        f[\"x_transforms_source\"] =  str(trial[\"parameters\"][\"x_transforms_source\"])\n",
    "        f = f[all_trials.columns]\n",
    "        \n",
    "        f = f.iloc[0] # Unknown why, but pandas is repeating trials for each domain in the trial!\n",
    "        \n",
    "        \n",
    "        all_trials = all_trials.append(f)\n",
    "    \n",
    "all_trials = all_trials.reset_index(drop=True)\n",
    "all_trials"
   ]
  },
  {
   "cell_type": "code",
   "execution_count": 22,
   "id": "76a0be22",
   "metadata": {},
   "outputs": [
    {
     "data": {
      "text/html": [
       "<div>\n",
       "<style scoped>\n",
       "    .dataframe tbody tr th:only-of-type {\n",
       "        vertical-align: middle;\n",
       "    }\n",
       "\n",
       "    .dataframe tbody tr th {\n",
       "        vertical-align: top;\n",
       "    }\n",
       "\n",
       "    .dataframe thead th {\n",
       "        text-align: right;\n",
       "    }\n",
       "</style>\n",
       "<table border=\"1\" class=\"dataframe\">\n",
       "  <thead>\n",
       "    <tr style=\"text-align: right;\">\n",
       "      <th></th>\n",
       "      <th>experiment_name</th>\n",
       "      <th>x_transforms_source</th>\n",
       "      <th>variable</th>\n",
       "      <th>value</th>\n",
       "    </tr>\n",
       "  </thead>\n",
       "  <tbody>\n",
       "    <tr>\n",
       "      <th>0</th>\n",
       "      <td>oracle.run2</td>\n",
       "      <td>[]</td>\n",
       "      <td>source_val_label_accuracy</td>\n",
       "      <td>0.793229</td>\n",
       "    </tr>\n",
       "    <tr>\n",
       "      <th>1</th>\n",
       "      <td>oracle.run2</td>\n",
       "      <td>['unit_power']</td>\n",
       "      <td>source_val_label_accuracy</td>\n",
       "      <td>0.553993</td>\n",
       "    </tr>\n",
       "    <tr>\n",
       "      <th>2</th>\n",
       "      <td>oracle.run2</td>\n",
       "      <td>['times_zero']</td>\n",
       "      <td>source_val_label_accuracy</td>\n",
       "      <td>0.062500</td>\n",
       "    </tr>\n",
       "    <tr>\n",
       "      <th>3</th>\n",
       "      <td>oracle.run2</td>\n",
       "      <td>['unit_mag']</td>\n",
       "      <td>source_val_label_accuracy</td>\n",
       "      <td>0.543924</td>\n",
       "    </tr>\n",
       "    <tr>\n",
       "      <th>4</th>\n",
       "      <td>oracle.run2</td>\n",
       "      <td>[]</td>\n",
       "      <td>target_val_label_accuracy</td>\n",
       "      <td>0.647708</td>\n",
       "    </tr>\n",
       "    <tr>\n",
       "      <th>5</th>\n",
       "      <td>oracle.run2</td>\n",
       "      <td>['unit_power']</td>\n",
       "      <td>target_val_label_accuracy</td>\n",
       "      <td>0.450625</td>\n",
       "    </tr>\n",
       "    <tr>\n",
       "      <th>6</th>\n",
       "      <td>oracle.run2</td>\n",
       "      <td>['times_zero']</td>\n",
       "      <td>target_val_label_accuracy</td>\n",
       "      <td>0.062500</td>\n",
       "    </tr>\n",
       "    <tr>\n",
       "      <th>7</th>\n",
       "      <td>oracle.run2</td>\n",
       "      <td>['unit_mag']</td>\n",
       "      <td>target_val_label_accuracy</td>\n",
       "      <td>0.446667</td>\n",
       "    </tr>\n",
       "  </tbody>\n",
       "</table>\n",
       "</div>"
      ],
      "text/plain": [
       "  experiment_name x_transforms_source                   variable     value\n",
       "0     oracle.run2                  []  source_val_label_accuracy  0.793229\n",
       "1     oracle.run2      ['unit_power']  source_val_label_accuracy  0.553993\n",
       "2     oracle.run2      ['times_zero']  source_val_label_accuracy  0.062500\n",
       "3     oracle.run2        ['unit_mag']  source_val_label_accuracy  0.543924\n",
       "4     oracle.run2                  []  target_val_label_accuracy  0.647708\n",
       "5     oracle.run2      ['unit_power']  target_val_label_accuracy  0.450625\n",
       "6     oracle.run2      ['times_zero']  target_val_label_accuracy  0.062500\n",
       "7     oracle.run2        ['unit_mag']  target_val_label_accuracy  0.446667"
      ]
     },
     "execution_count": 22,
     "metadata": {},
     "output_type": "execute_result"
    }
   ],
   "source": [
    "m = pd.melt(all_trials, \n",
    "        id_vars=[\"experiment_name\", \"x_transforms_source\"], \n",
    "        value_vars=[\n",
    "            \"source_val_label_accuracy\",\n",
    "            \"target_val_label_accuracy\",\n",
    "        ])\n",
    "m"
   ]
  },
  {
   "cell_type": "code",
   "execution_count": 24,
   "id": "4397a3d5",
   "metadata": {},
   "outputs": [
    {
     "data": {
      "text/plain": [
       "<seaborn.axisgrid.FacetGrid at 0x7fdc646e0670>"
      ]
     },
     "execution_count": 24,
     "metadata": {},
     "output_type": "execute_result"
    },
    {
     "data": {
      "image/png": "[encoded data removed]",
      "text/plain": [
       "<Figure size 1248.62x360 with 1 Axes>"
      ]
     },
     "metadata": {
      "needs_background": "light"
     },
     "output_type": "display_data"
    }
   ],
   "source": [
    "fg = sb.catplot(x='x_transforms_source', col=\"experiment_name\", y='value', hue='variable', \n",
    "                        data=m, kind='bar', height=5, aspect=3)\n",
    "fg.set_xlabels('')"
   ]
  }
 ],
 "metadata": {
  "kernelspec": {
   "display_name": "Python 3 (ipykernel)",
   "language": "python",
   "name": "python3"
  },
  "language_info": {
   "codemirror_mode": {
    "name": "ipython",
    "version": 3
   },
   "file_extension": ".py",
   "mimetype": "text/x-python",
   "name": "python",
   "nbconvert_exporter": "python",
   "pygments_lexer": "ipython3",
   "version": "3.8.10"
  }
 },
 "nbformat": 4,
 "nbformat_minor": 5
}
