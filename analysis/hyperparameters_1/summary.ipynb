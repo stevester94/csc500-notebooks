{
 "cells": [
  {
   "cell_type": "code",
   "execution_count": 1,
   "id": "d4ebe37a",
   "metadata": {},
   "outputs": [],
   "source": [
    "import pandas as pd\n",
    "import json\n",
    "import os\n",
    "import matplotlib.pyplot as plt\n",
    "import seaborn as sb\n",
    "\n",
    "\n",
    "from steves_utils.summary_utils import (\n",
    "    get_experiments_from_path\n",
    ")\n",
    "\n",
    "from steves_utils.utils_v2 import (\n",
    "    get_experiments_base_path\n",
    ")"
   ]
  },
  {
   "cell_type": "code",
   "execution_count": 2,
   "id": "42ff168e",
   "metadata": {},
   "outputs": [
    {
     "data": {
      "text/html": [
       "<div>\n",
       "<style scoped>\n",
       "    .dataframe tbody tr th:only-of-type {\n",
       "        vertical-align: middle;\n",
       "    }\n",
       "\n",
       "    .dataframe tbody tr th {\n",
       "        vertical-align: top;\n",
       "    }\n",
       "\n",
       "    .dataframe thead th {\n",
       "        text-align: right;\n",
       "    }\n",
       "</style>\n",
       "<table border=\"1\" class=\"dataframe\">\n",
       "  <thead>\n",
       "    <tr style=\"text-align: right;\">\n",
       "      <th></th>\n",
       "      <th>source_val_label_accuracy</th>\n",
       "      <th>source_val_label_loss</th>\n",
       "      <th>target_val_label_accuracy</th>\n",
       "      <th>target_val_label_loss</th>\n",
       "      <th>total_epochs_trained</th>\n",
       "      <th>total_experiment_time_secs</th>\n",
       "    </tr>\n",
       "  </thead>\n",
       "  <tbody>\n",
       "    <tr>\n",
       "      <th>0</th>\n",
       "      <td>0.758333</td>\n",
       "      <td>0.639240</td>\n",
       "      <td>0.620417</td>\n",
       "      <td>1.155011</td>\n",
       "      <td>12.0</td>\n",
       "      <td>669.400113</td>\n",
       "    </tr>\n",
       "    <tr>\n",
       "      <th>1</th>\n",
       "      <td>0.776563</td>\n",
       "      <td>0.603976</td>\n",
       "      <td>0.628021</td>\n",
       "      <td>1.172066</td>\n",
       "      <td>16.0</td>\n",
       "      <td>943.089365</td>\n",
       "    </tr>\n",
       "    <tr>\n",
       "      <th>2</th>\n",
       "      <td>0.760417</td>\n",
       "      <td>0.671422</td>\n",
       "      <td>0.602500</td>\n",
       "      <td>1.233359</td>\n",
       "      <td>10.0</td>\n",
       "      <td>583.758944</td>\n",
       "    </tr>\n",
       "    <tr>\n",
       "      <th>3</th>\n",
       "      <td>0.770660</td>\n",
       "      <td>0.610240</td>\n",
       "      <td>0.622708</td>\n",
       "      <td>1.204355</td>\n",
       "      <td>12.0</td>\n",
       "      <td>684.243059</td>\n",
       "    </tr>\n",
       "    <tr>\n",
       "      <th>4</th>\n",
       "      <td>0.754514</td>\n",
       "      <td>0.638551</td>\n",
       "      <td>0.588646</td>\n",
       "      <td>1.232948</td>\n",
       "      <td>9.0</td>\n",
       "      <td>517.577868</td>\n",
       "    </tr>\n",
       "  </tbody>\n",
       "</table>\n",
       "</div>"
      ],
      "text/plain": [
       "   source_val_label_accuracy  source_val_label_loss  \\\n",
       "0                   0.758333               0.639240   \n",
       "1                   0.776563               0.603976   \n",
       "2                   0.760417               0.671422   \n",
       "3                   0.770660               0.610240   \n",
       "4                   0.754514               0.638551   \n",
       "\n",
       "   target_val_label_accuracy  target_val_label_loss  total_epochs_trained  \\\n",
       "0                   0.620417               1.155011                  12.0   \n",
       "1                   0.628021               1.172066                  16.0   \n",
       "2                   0.602500               1.233359                  10.0   \n",
       "3                   0.622708               1.204355                  12.0   \n",
       "4                   0.588646               1.232948                   9.0   \n",
       "\n",
       "   total_experiment_time_secs  \n",
       "0                  669.400113  \n",
       "1                  943.089365  \n",
       "2                  583.758944  \n",
       "3                  684.243059  \n",
       "4                  517.577868  "
      ]
     },
     "execution_count": 2,
     "metadata": {},
     "output_type": "execute_result"
    }
   ],
   "source": [
    "trials = get_experiments_from_path(\n",
    "    os.path.join(get_experiments_base_path(), \"hyperparameters_1/seeds/oracle.run2\")\n",
    ")\n",
    "\n",
    "all_trials = pd.DataFrame(columns=[\n",
    "    \"source_val_label_accuracy\",\n",
    "    \"source_val_label_loss\",\n",
    "    \"target_val_label_accuracy\",\n",
    "    \"target_val_label_loss\",\n",
    "    \"total_epochs_trained\",\n",
    "    \"total_experiment_time_secs\",\n",
    "])\n",
    "\n",
    "for trial in trials:\n",
    "    f = pd.DataFrame(trial[\"results\"])\n",
    "    f = f[all_trials.columns]\n",
    "\n",
    "    f = f.iloc[0] # Unknown why, but pandas is repeating trials for each domain in the trial!\n",
    "\n",
    "\n",
    "    all_trials = all_trials.append(f)\n",
    "    \n",
    "all_trials = all_trials.reset_index(drop=True)\n",
    "all_trials"
   ]
  },
  {
   "cell_type": "code",
   "execution_count": 3,
   "id": "1466b0d8",
   "metadata": {},
   "outputs": [
    {
     "data": {
      "text/plain": [
       "source_val_label_accuracy    0.764097\n",
       "target_val_label_accuracy    0.612458\n",
       "dtype: float64"
      ]
     },
     "execution_count": 3,
     "metadata": {},
     "output_type": "execute_result"
    }
   ],
   "source": [
    "m = all_trials[[\"source_val_label_accuracy\", \"target_val_label_accuracy\"]].mean()\n",
    "m"
   ]
  },
  {
   "cell_type": "code",
   "execution_count": 4,
   "id": "dbef1eaa",
   "metadata": {},
   "outputs": [
    {
     "data": {
      "text/plain": [
       "source_val_label_accuracy    0.009180\n",
       "target_val_label_accuracy    0.016407\n",
       "dtype: float64"
      ]
     },
     "execution_count": 4,
     "metadata": {},
     "output_type": "execute_result"
    }
   ],
   "source": [
    "s = all_trials[[\"source_val_label_accuracy\", \"target_val_label_accuracy\"]].std()\n",
    "s"
   ]
  },
  {
   "cell_type": "code",
   "execution_count": 5,
   "id": "bf6f98dc",
   "metadata": {},
   "outputs": [
    {
     "data": {
      "text/plain": [
       "(0, 1)"
      ]
     },
     "execution_count": 5,
     "metadata": {},
     "output_type": "execute_result"
    },
    {
     "data": {
      "image/png": "[encoded data removed]",
      "text/plain": [
       "<Figure size 432x288 with 1 Axes>"
      ]
     },
     "metadata": {
      "needs_background": "light"
     },
     "output_type": "display_data"
    }
   ],
   "source": [
    "ax = m.plot(kind = \"bar\", y = \"mean\", legend = False, title = \"Average accuracy for varying seed\", xerr = s)\n",
    "ax.set_ylim(0,1)"
   ]
  },
  {
   "cell_type": "code",
   "execution_count": 6,
   "id": "f4d7f07f",
   "metadata": {},
   "outputs": [
    {
     "data": {
      "image/png": "[encoded data removed]",
      "text/plain": [
       "<Figure size 432x288 with 1 Axes>"
      ]
     },
     "metadata": {
      "needs_background": "light"
     },
     "output_type": "display_data"
    }
   ],
   "source": [
    "ax = sb.boxplot(x=all_trials[\"source_val_label_accuracy\"])"
   ]
  },
  {
   "cell_type": "code",
   "execution_count": 7,
   "id": "82841a98",
   "metadata": {},
   "outputs": [
    {
     "data": {
      "image/png": "[encoded data removed]",
      "text/plain": [
       "<Figure size 432x288 with 1 Axes>"
      ]
     },
     "metadata": {
      "needs_background": "light"
     },
     "output_type": "display_data"
    }
   ],
   "source": [
    "ax = sb.boxplot(x=all_trials[\"target_val_label_accuracy\"])"
   ]
  },
  {
   "cell_type": "markdown",
   "id": "79a3788e",
   "metadata": {},
   "source": [
    "### We conclude that varying the seed does not have a meaningful impact on accuracy"
   ]
  },
  {
   "cell_type": "code",
   "execution_count": 8,
   "id": "ba312684",
   "metadata": {},
   "outputs": [
    {
     "data": {
      "text/html": [
       "<div>\n",
       "<style scoped>\n",
       "    .dataframe tbody tr th:only-of-type {\n",
       "        vertical-align: middle;\n",
       "    }\n",
       "\n",
       "    .dataframe tbody tr th {\n",
       "        vertical-align: top;\n",
       "    }\n",
       "\n",
       "    .dataframe thead th {\n",
       "        text-align: right;\n",
       "    }\n",
       "</style>\n",
       "<table border=\"1\" class=\"dataframe\">\n",
       "  <thead>\n",
       "    <tr style=\"text-align: right;\">\n",
       "      <th></th>\n",
       "      <th>source_val_label_accuracy</th>\n",
       "      <th>source_val_label_loss</th>\n",
       "      <th>target_val_label_accuracy</th>\n",
       "      <th>target_val_label_loss</th>\n",
       "      <th>total_epochs_trained</th>\n",
       "      <th>total_experiment_time_secs</th>\n",
       "    </tr>\n",
       "  </thead>\n",
       "  <tbody>\n",
       "    <tr>\n",
       "      <th>0</th>\n",
       "      <td>0.777951</td>\n",
       "      <td>0.599629</td>\n",
       "      <td>0.624896</td>\n",
       "      <td>1.105129</td>\n",
       "      <td>12.0</td>\n",
       "      <td>682.267753</td>\n",
       "    </tr>\n",
       "    <tr>\n",
       "      <th>1</th>\n",
       "      <td>0.752257</td>\n",
       "      <td>0.661629</td>\n",
       "      <td>0.602396</td>\n",
       "      <td>1.179875</td>\n",
       "      <td>10.0</td>\n",
       "      <td>580.359569</td>\n",
       "    </tr>\n",
       "    <tr>\n",
       "      <th>2</th>\n",
       "      <td>0.776563</td>\n",
       "      <td>0.613172</td>\n",
       "      <td>0.632812</td>\n",
       "      <td>1.154313</td>\n",
       "      <td>13.0</td>\n",
       "      <td>772.265159</td>\n",
       "    </tr>\n",
       "    <tr>\n",
       "      <th>3</th>\n",
       "      <td>0.770660</td>\n",
       "      <td>0.610240</td>\n",
       "      <td>0.622708</td>\n",
       "      <td>1.204355</td>\n",
       "      <td>12.0</td>\n",
       "      <td>697.481237</td>\n",
       "    </tr>\n",
       "    <tr>\n",
       "      <th>4</th>\n",
       "      <td>0.762153</td>\n",
       "      <td>0.621443</td>\n",
       "      <td>0.617917</td>\n",
       "      <td>1.179611</td>\n",
       "      <td>11.0</td>\n",
       "      <td>623.777776</td>\n",
       "    </tr>\n",
       "  </tbody>\n",
       "</table>\n",
       "</div>"
      ],
      "text/plain": [
       "   source_val_label_accuracy  source_val_label_loss  \\\n",
       "0                   0.777951               0.599629   \n",
       "1                   0.752257               0.661629   \n",
       "2                   0.776563               0.613172   \n",
       "3                   0.770660               0.610240   \n",
       "4                   0.762153               0.621443   \n",
       "\n",
       "   target_val_label_accuracy  target_val_label_loss  total_epochs_trained  \\\n",
       "0                   0.624896               1.105129                  12.0   \n",
       "1                   0.602396               1.179875                  10.0   \n",
       "2                   0.632812               1.154313                  13.0   \n",
       "3                   0.622708               1.204355                  12.0   \n",
       "4                   0.617917               1.179611                  11.0   \n",
       "\n",
       "   total_experiment_time_secs  \n",
       "0                  682.267753  \n",
       "1                  580.359569  \n",
       "2                  772.265159  \n",
       "3                  697.481237  \n",
       "4                  623.777776  "
      ]
     },
     "execution_count": 8,
     "metadata": {},
     "output_type": "execute_result"
    }
   ],
   "source": [
    "trials = get_experiments_from_path(\n",
    "    os.path.join(get_experiments_base_path(), \"hyperparameters_1/dataset_seeds/oracle.run2\")\n",
    ")\n",
    "\n",
    "all_trials = pd.DataFrame(columns=[\n",
    "    \"source_val_label_accuracy\",\n",
    "    \"source_val_label_loss\",\n",
    "    \"target_val_label_accuracy\",\n",
    "    \"target_val_label_loss\",\n",
    "    \"total_epochs_trained\",\n",
    "    \"total_experiment_time_secs\",\n",
    "])\n",
    "\n",
    "for trial in trials:\n",
    "    f = pd.DataFrame(trial[\"results\"])\n",
    "    f = f[all_trials.columns]\n",
    "\n",
    "    f = f.iloc[0] # Unknown why, but pandas is repeating trials for each domain in the trial!\n",
    "\n",
    "\n",
    "    all_trials = all_trials.append(f)\n",
    "    \n",
    "all_trials = all_trials.reset_index(drop=True)\n",
    "all_trials"
   ]
  },
  {
   "cell_type": "code",
   "execution_count": 9,
   "id": "fba52166",
   "metadata": {},
   "outputs": [
    {
     "data": {
      "image/png": "[encoded data removed]",
      "text/plain": [
       "<Figure size 432x288 with 1 Axes>"
      ]
     },
     "metadata": {
      "needs_background": "light"
     },
     "output_type": "display_data"
    }
   ],
   "source": [
    "ax = sb.boxplot(x=all_trials[\"source_val_label_accuracy\"])"
   ]
  },
  {
   "cell_type": "code",
   "execution_count": 10,
   "id": "6e48f738",
   "metadata": {},
   "outputs": [
    {
     "data": {
      "image/png": "[encoded data removed]",
      "text/plain": [
       "<Figure size 432x288 with 1 Axes>"
      ]
     },
     "metadata": {
      "needs_background": "light"
     },
     "output_type": "display_data"
    }
   ],
   "source": [
    "ax = sb.boxplot(x=all_trials[\"target_val_label_accuracy\"])"
   ]
  },
  {
   "cell_type": "markdown",
   "id": "efab897d",
   "metadata": {},
   "source": [
    "### We conclude that varying the dataset_seed does not have a meaningful impact on accuracy"
   ]
  }
 ],
 "metadata": {
  "kernelspec": {
   "display_name": "Python 3 (ipykernel)",
   "language": "python",
   "name": "python3"
  },
  "language_info": {
   "codemirror_mode": {
    "name": "ipython",
    "version": 3
   },
   "file_extension": ".py",
   "mimetype": "text/x-python",
   "name": "python",
   "nbconvert_exporter": "python",
   "pygments_lexer": "ipython3",
   "version": "3.8.10"
  }
 },
 "nbformat": 4,
 "nbformat_minor": 5
}
