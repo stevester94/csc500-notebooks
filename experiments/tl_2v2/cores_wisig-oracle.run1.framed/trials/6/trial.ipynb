{
 "cells": [
  {
   "cell_type": "markdown",
   "id": "9fea5f46",
   "metadata": {
    "papermill": {
     "duration": 0.017669,
     "end_time": "2022-03-20T05:56:04.316109",
     "exception": false,
     "start_time": "2022-03-20T05:56:04.298440",
     "status": "completed"
    },
    "tags": []
   },
   "source": [
    "# Transfer Learning Template"
   ]
  },
  {
   "cell_type": "code",
   "execution_count": 1,
   "id": "0902182a",
   "metadata": {
    "execution": {
     "iopub.execute_input": "2022-03-20T05:56:04.354326Z",
     "iopub.status.busy": "2022-03-20T05:56:04.349584Z",
     "iopub.status.idle": "2022-03-20T05:56:05.351661Z",
     "shell.execute_reply": "2022-03-20T05:56:05.352067Z"
    },
    "papermill": {
     "duration": 1.022306,
     "end_time": "2022-03-20T05:56:05.352260",
     "exception": false,
     "start_time": "2022-03-20T05:56:04.329954",
     "status": "completed"
    },
    "tags": []
   },
   "outputs": [],
   "source": [
    "%load_ext autoreload\n",
    "%autoreload 2\n",
    "%matplotlib inline\n",
    "\n",
    "    \n",
    "import os, json, sys, time, random\n",
    "import numpy as np\n",
    "import torch\n",
    "from torch.optim import Adam\n",
    "from  easydict import EasyDict\n",
    "import matplotlib.pyplot as plt\n",
    "\n",
    "from steves_models.steves_ptn import Steves_Prototypical_Network\n",
    "\n",
    "from steves_utils.lazy_iterable_wrapper import Lazy_Iterable_Wrapper\n",
    "from steves_utils.iterable_aggregator import Iterable_Aggregator\n",
    "from steves_utils.ptn_train_eval_test_jig import  PTN_Train_Eval_Test_Jig\n",
    "from steves_utils.torch_sequential_builder import build_sequential\n",
    "from steves_utils.torch_utils import get_dataset_metrics, ptn_confusion_by_domain_over_dataloader\n",
    "from steves_utils.utils_v2 import (per_domain_accuracy_from_confusion, get_datasets_base_path)\n",
    "from steves_utils.PTN.utils import independent_accuracy_assesment\n",
    "\n",
    "from torch.utils.data import DataLoader\n",
    "\n",
    "from steves_utils.stratified_dataset.episodic_accessor import Episodic_Accessor_Factory\n",
    "\n",
    "from steves_utils.ptn_do_report import (\n",
    "    get_loss_curve,\n",
    "    get_results_table,\n",
    "    get_parameters_table,\n",
    "    get_domain_accuracies,\n",
    ")\n",
    "\n",
    "from steves_utils.transforms import get_chained_transform"
   ]
  },
  {
   "cell_type": "markdown",
   "id": "41c840b4",
   "metadata": {
    "papermill": {
     "duration": 0.013373,
     "end_time": "2022-03-20T05:56:05.383417",
     "exception": false,
     "start_time": "2022-03-20T05:56:05.370044",
     "status": "completed"
    },
    "tags": []
   },
   "source": [
    "# Allowed Parameters\n",
    "These are allowed parameters, not defaults\n",
    "Each of these values need to be present in the injected parameters (the notebook will raise an exception if they are not present)\n",
    "\n",
    "Papermill uses the cell tag \"parameters\" to inject the real parameters below this cell.\n",
    "Enable tags to see what I mean"
   ]
  },
  {
   "cell_type": "code",
   "execution_count": 2,
   "id": "fd44eb83",
   "metadata": {
    "execution": {
     "iopub.execute_input": "2022-03-20T05:56:05.413084Z",
     "iopub.status.busy": "2022-03-20T05:56:05.412519Z",
     "iopub.status.idle": "2022-03-20T05:56:05.428164Z",
     "shell.execute_reply": "2022-03-20T05:56:05.427703Z"
    },
    "papermill": {
     "duration": 0.031939,
     "end_time": "2022-03-20T05:56:05.428269",
     "exception": false,
     "start_time": "2022-03-20T05:56:05.396330",
     "status": "completed"
    },
    "tags": []
   },
   "outputs": [],
   "source": [
    "required_parameters = {\n",
    "    \"experiment_name\",\n",
    "    \"lr\",\n",
    "    \"device\",\n",
    "    \"seed\",\n",
    "    \"dataset_seed\",\n",
    "    \"n_shot\",\n",
    "    \"n_query\",\n",
    "    \"n_way\",\n",
    "    \"train_k_factor\",\n",
    "    \"val_k_factor\",\n",
    "    \"test_k_factor\",\n",
    "    \"n_epoch\",\n",
    "    \"patience\",\n",
    "    \"criteria_for_best\",\n",
    "    \"x_net\",\n",
    "    \"datasets\",\n",
    "    \"torch_default_dtype\",\n",
    "    \"NUM_LOGS_PER_EPOCH\",\n",
    "    \"BEST_MODEL_PATH\",\n",
    "    \"x_shape\",\n",
    "}"
   ]
  },
  {
   "cell_type": "code",
   "execution_count": 3,
   "id": "fa3f0049",
   "metadata": {
    "execution": {
     "iopub.execute_input": "2022-03-20T05:56:05.467579Z",
     "iopub.status.busy": "2022-03-20T05:56:05.465048Z",
     "iopub.status.idle": "2022-03-20T05:56:05.480820Z",
     "shell.execute_reply": "2022-03-20T05:56:05.480458Z"
    },
    "papermill": {
     "duration": 0.036081,
     "end_time": "2022-03-20T05:56:05.480904",
     "exception": false,
     "start_time": "2022-03-20T05:56:05.444823",
     "status": "completed"
    },
    "tags": [
     "parameters"
    ]
   },
   "outputs": [],
   "source": [
    "from steves_utils.CORES.utils import (\n",
    "    ALL_NODES,\n",
    "    ALL_NODES_MINIMUM_1000_EXAMPLES,\n",
    "    ALL_DAYS\n",
    ")\n",
    "\n",
    "from steves_utils.ORACLE.utils_v2 import (\n",
    "    ALL_DISTANCES_FEET_NARROWED,\n",
    "    ALL_RUNS,\n",
    "    ALL_SERIAL_NUMBERS,\n",
    ")\n",
    "\n",
    "standalone_parameters = {}\n",
    "standalone_parameters[\"experiment_name\"] = \"STANDALONE PTN\"\n",
    "standalone_parameters[\"lr\"] = 0.001\n",
    "standalone_parameters[\"device\"] = \"cuda\"\n",
    "\n",
    "standalone_parameters[\"seed\"] = 1337\n",
    "standalone_parameters[\"dataset_seed\"] = 1337\n",
    "\n",
    "standalone_parameters[\"n_way\"] = 8\n",
    "standalone_parameters[\"n_shot\"] = 3\n",
    "standalone_parameters[\"n_query\"]  = 2\n",
    "standalone_parameters[\"train_k_factor\"] = 1\n",
    "standalone_parameters[\"val_k_factor\"] = 2\n",
    "standalone_parameters[\"test_k_factor\"] = 2\n",
    "\n",
    "\n",
    "standalone_parameters[\"n_epoch\"] = 50\n",
    "\n",
    "standalone_parameters[\"patience\"] = 10\n",
    "standalone_parameters[\"criteria_for_best\"] = \"source_loss\"\n",
    "\n",
    "standalone_parameters[\"datasets\"] = [\n",
    "    {\n",
    "        \"labels\": ALL_SERIAL_NUMBERS,\n",
    "        \"domains\": ALL_DISTANCES_FEET_NARROWED,\n",
    "        \"num_examples_per_domain_per_label\": 100,\n",
    "        \"pickle_path\": os.path.join(get_datasets_base_path(), \"oracle.Run1_framed_2000Examples_stratified_ds.2022A.pkl\"),\n",
    "        \"source_or_target_dataset\": \"source\",\n",
    "        \"x_transforms\": [\"unit_mag\", \"minus_two\"],\n",
    "        \"episode_transforms\": [],\n",
    "        \"domain_prefix\": \"ORACLE_\"\n",
    "    },\n",
    "    {\n",
    "        \"labels\": ALL_NODES,\n",
    "        \"domains\": ALL_DAYS,\n",
    "        \"num_examples_per_domain_per_label\": 100,\n",
    "        \"pickle_path\": os.path.join(get_datasets_base_path(), \"cores.stratified_ds.2022A.pkl\"),\n",
    "        \"source_or_target_dataset\": \"target\",\n",
    "        \"x_transforms\": [\"unit_power\", \"times_zero\"],\n",
    "        \"episode_transforms\": [],\n",
    "        \"domain_prefix\": \"CORES_\"\n",
    "    }   \n",
    "]\n",
    "\n",
    "standalone_parameters[\"torch_default_dtype\"] = \"torch.float32\" \n",
    "\n",
    "\n",
    "\n",
    "standalone_parameters[\"x_net\"] =     [\n",
    "    {\"class\": \"nnReshape\", \"kargs\": {\"shape\":[-1, 1, 2, 256]}},\n",
    "    {\"class\": \"Conv2d\", \"kargs\": { \"in_channels\":1, \"out_channels\":256, \"kernel_size\":(1,7), \"bias\":False, \"padding\":(0,3), },},\n",
    "    {\"class\": \"ReLU\", \"kargs\": {\"inplace\": True}},\n",
    "    {\"class\": \"BatchNorm2d\", \"kargs\": {\"num_features\":256}},\n",
    "\n",
    "    {\"class\": \"Conv2d\", \"kargs\": { \"in_channels\":256, \"out_channels\":80, \"kernel_size\":(2,7), \"bias\":True, \"padding\":(0,3), },},\n",
    "    {\"class\": \"ReLU\", \"kargs\": {\"inplace\": True}},\n",
    "    {\"class\": \"BatchNorm2d\", \"kargs\": {\"num_features\":80}},\n",
    "    {\"class\": \"Flatten\", \"kargs\": {}},\n",
    "\n",
    "    {\"class\": \"Linear\", \"kargs\": {\"in_features\": 80*256, \"out_features\": 256}}, # 80 units per IQ pair\n",
    "    {\"class\": \"ReLU\", \"kargs\": {\"inplace\": True}},\n",
    "    {\"class\": \"BatchNorm1d\", \"kargs\": {\"num_features\":256}},\n",
    "\n",
    "    {\"class\": \"Linear\", \"kargs\": {\"in_features\": 256, \"out_features\": 256}},\n",
    "]\n",
    "\n",
    "# Parameters relevant to results\n",
    "# These parameters will basically never need to change\n",
    "standalone_parameters[\"NUM_LOGS_PER_EPOCH\"] = 10\n",
    "standalone_parameters[\"BEST_MODEL_PATH\"] = \"./best_model.pth\"\n",
    "\n",
    "\n",
    "\n",
    "\n"
   ]
  },
  {
   "cell_type": "code",
   "execution_count": 4,
   "id": "a97a72c8",
   "metadata": {
    "execution": {
     "iopub.execute_input": "2022-03-20T05:56:05.523598Z",
     "iopub.status.busy": "2022-03-20T05:56:05.518565Z",
     "iopub.status.idle": "2022-03-20T05:56:05.537388Z",
     "shell.execute_reply": "2022-03-20T05:56:05.537773Z"
    },
    "papermill": {
     "duration": 0.039355,
     "end_time": "2022-03-20T05:56:05.537903",
     "exception": false,
     "start_time": "2022-03-20T05:56:05.498548",
     "status": "completed"
    },
    "tags": [
     "injected-parameters"
    ]
   },
   "outputs": [],
   "source": [
    "# Parameters\n",
    "parameters = {\n",
    "    \"experiment_name\": \"tl_2v2:cores+wisig -> oracle.run1.framed\",\n",
    "    \"device\": \"cuda\",\n",
    "    \"lr\": 0.0001,\n",
    "    \"n_shot\": 3,\n",
    "    \"n_query\": 2,\n",
    "    \"train_k_factor\": 3,\n",
    "    \"val_k_factor\": 2,\n",
    "    \"test_k_factor\": 2,\n",
    "    \"torch_default_dtype\": \"torch.float32\",\n",
    "    \"n_epoch\": 50,\n",
    "    \"patience\": 3,\n",
    "    \"criteria_for_best\": \"target_accuracy\",\n",
    "    \"x_net\": [\n",
    "        {\"class\": \"nnReshape\", \"kargs\": {\"shape\": [-1, 1, 2, 256]}},\n",
    "        {\n",
    "            \"class\": \"Conv2d\",\n",
    "            \"kargs\": {\n",
    "                \"in_channels\": 1,\n",
    "                \"out_channels\": 256,\n",
    "                \"kernel_size\": [1, 7],\n",
    "                \"bias\": False,\n",
    "                \"padding\": [0, 3],\n",
    "            },\n",
    "        },\n",
    "        {\"class\": \"ReLU\", \"kargs\": {\"inplace\": True}},\n",
    "        {\"class\": \"BatchNorm2d\", \"kargs\": {\"num_features\": 256}},\n",
    "        {\n",
    "            \"class\": \"Conv2d\",\n",
    "            \"kargs\": {\n",
    "                \"in_channels\": 256,\n",
    "                \"out_channels\": 80,\n",
    "                \"kernel_size\": [2, 7],\n",
    "                \"bias\": True,\n",
    "                \"padding\": [0, 3],\n",
    "            },\n",
    "        },\n",
    "        {\"class\": \"ReLU\", \"kargs\": {\"inplace\": True}},\n",
    "        {\"class\": \"BatchNorm2d\", \"kargs\": {\"num_features\": 80}},\n",
    "        {\"class\": \"Flatten\", \"kargs\": {}},\n",
    "        {\"class\": \"Linear\", \"kargs\": {\"in_features\": 20480, \"out_features\": 256}},\n",
    "        {\"class\": \"ReLU\", \"kargs\": {\"inplace\": True}},\n",
    "        {\"class\": \"BatchNorm1d\", \"kargs\": {\"num_features\": 256}},\n",
    "        {\"class\": \"Linear\", \"kargs\": {\"in_features\": 256, \"out_features\": 256}},\n",
    "    ],\n",
    "    \"NUM_LOGS_PER_EPOCH\": 10,\n",
    "    \"BEST_MODEL_PATH\": \"./best_model.pth\",\n",
    "    \"n_way\": 16,\n",
    "    \"datasets\": [\n",
    "        {\n",
    "            \"labels\": [\n",
    "                \"1-10.\",\n",
    "                \"1-11.\",\n",
    "                \"1-15.\",\n",
    "                \"1-16.\",\n",
    "                \"1-17.\",\n",
    "                \"1-18.\",\n",
    "                \"1-19.\",\n",
    "                \"10-4.\",\n",
    "                \"10-7.\",\n",
    "                \"11-1.\",\n",
    "                \"11-14.\",\n",
    "                \"11-17.\",\n",
    "                \"11-20.\",\n",
    "                \"11-7.\",\n",
    "                \"13-20.\",\n",
    "                \"13-8.\",\n",
    "                \"14-10.\",\n",
    "                \"14-11.\",\n",
    "                \"14-14.\",\n",
    "                \"14-7.\",\n",
    "                \"15-1.\",\n",
    "                \"15-20.\",\n",
    "                \"16-1.\",\n",
    "                \"16-16.\",\n",
    "                \"17-10.\",\n",
    "                \"17-11.\",\n",
    "                \"17-2.\",\n",
    "                \"19-1.\",\n",
    "                \"19-16.\",\n",
    "                \"19-19.\",\n",
    "                \"19-20.\",\n",
    "                \"19-3.\",\n",
    "                \"2-10.\",\n",
    "                \"2-11.\",\n",
    "                \"2-17.\",\n",
    "                \"2-18.\",\n",
    "                \"2-20.\",\n",
    "                \"2-3.\",\n",
    "                \"2-4.\",\n",
    "                \"2-5.\",\n",
    "                \"2-6.\",\n",
    "                \"2-7.\",\n",
    "                \"2-8.\",\n",
    "                \"3-13.\",\n",
    "                \"3-18.\",\n",
    "                \"3-3.\",\n",
    "                \"4-1.\",\n",
    "                \"4-10.\",\n",
    "                \"4-11.\",\n",
    "                \"4-19.\",\n",
    "                \"5-5.\",\n",
    "                \"6-15.\",\n",
    "                \"7-10.\",\n",
    "                \"7-14.\",\n",
    "                \"8-18.\",\n",
    "                \"8-20.\",\n",
    "                \"8-3.\",\n",
    "                \"8-8.\",\n",
    "            ],\n",
    "            \"domains\": [1, 2, 3, 4, 5],\n",
    "            \"num_examples_per_domain_per_label\": -1,\n",
    "            \"pickle_path\": \"/mnt/wd500GB/CSC500/csc500-main/datasets/cores.stratified_ds.2022A.pkl\",\n",
    "            \"source_or_target_dataset\": \"source\",\n",
    "            \"x_transforms\": [\"unit_power\"],\n",
    "            \"episode_transforms\": [],\n",
    "            \"domain_prefix\": \"C_\",\n",
    "        },\n",
    "        {\n",
    "            \"labels\": [\n",
    "                \"1-10\",\n",
    "                \"1-12\",\n",
    "                \"1-14\",\n",
    "                \"1-16\",\n",
    "                \"1-18\",\n",
    "                \"1-19\",\n",
    "                \"1-8\",\n",
    "                \"10-11\",\n",
    "                \"10-17\",\n",
    "                \"10-4\",\n",
    "                \"10-7\",\n",
    "                \"11-1\",\n",
    "                \"11-10\",\n",
    "                \"11-19\",\n",
    "                \"11-20\",\n",
    "                \"11-4\",\n",
    "                \"11-7\",\n",
    "                \"12-19\",\n",
    "                \"12-20\",\n",
    "                \"12-7\",\n",
    "                \"13-14\",\n",
    "                \"13-18\",\n",
    "                \"13-19\",\n",
    "                \"13-20\",\n",
    "                \"13-3\",\n",
    "                \"13-7\",\n",
    "                \"14-10\",\n",
    "                \"14-11\",\n",
    "                \"14-12\",\n",
    "                \"14-13\",\n",
    "                \"14-14\",\n",
    "                \"14-19\",\n",
    "                \"14-20\",\n",
    "                \"14-7\",\n",
    "                \"14-8\",\n",
    "                \"14-9\",\n",
    "                \"15-1\",\n",
    "                \"15-19\",\n",
    "                \"15-6\",\n",
    "                \"16-1\",\n",
    "                \"16-16\",\n",
    "                \"16-19\",\n",
    "                \"16-20\",\n",
    "                \"17-10\",\n",
    "                \"17-11\",\n",
    "                \"18-1\",\n",
    "                \"18-10\",\n",
    "                \"18-11\",\n",
    "                \"18-12\",\n",
    "                \"18-13\",\n",
    "                \"18-14\",\n",
    "                \"18-15\",\n",
    "                \"18-16\",\n",
    "                \"18-17\",\n",
    "                \"18-19\",\n",
    "                \"18-2\",\n",
    "                \"18-20\",\n",
    "                \"18-4\",\n",
    "                \"18-5\",\n",
    "                \"18-7\",\n",
    "                \"18-8\",\n",
    "                \"18-9\",\n",
    "                \"19-1\",\n",
    "                \"19-10\",\n",
    "                \"19-11\",\n",
    "                \"19-12\",\n",
    "                \"19-13\",\n",
    "                \"19-14\",\n",
    "                \"19-15\",\n",
    "                \"19-19\",\n",
    "                \"19-2\",\n",
    "                \"19-20\",\n",
    "                \"19-3\",\n",
    "                \"19-4\",\n",
    "                \"19-6\",\n",
    "                \"19-7\",\n",
    "                \"19-8\",\n",
    "                \"19-9\",\n",
    "                \"2-1\",\n",
    "                \"2-13\",\n",
    "                \"2-15\",\n",
    "                \"2-3\",\n",
    "                \"2-4\",\n",
    "                \"2-5\",\n",
    "                \"2-6\",\n",
    "                \"2-7\",\n",
    "                \"2-8\",\n",
    "                \"20-1\",\n",
    "                \"20-12\",\n",
    "                \"20-14\",\n",
    "                \"20-15\",\n",
    "                \"20-16\",\n",
    "                \"20-18\",\n",
    "                \"20-19\",\n",
    "                \"20-20\",\n",
    "                \"20-3\",\n",
    "                \"20-4\",\n",
    "                \"20-5\",\n",
    "                \"20-7\",\n",
    "                \"20-8\",\n",
    "                \"3-1\",\n",
    "                \"3-13\",\n",
    "                \"3-18\",\n",
    "                \"3-2\",\n",
    "                \"3-8\",\n",
    "                \"4-1\",\n",
    "                \"4-10\",\n",
    "                \"4-11\",\n",
    "                \"5-1\",\n",
    "                \"5-5\",\n",
    "                \"6-1\",\n",
    "                \"6-15\",\n",
    "                \"6-6\",\n",
    "                \"7-10\",\n",
    "                \"7-11\",\n",
    "                \"7-12\",\n",
    "                \"7-13\",\n",
    "                \"7-14\",\n",
    "                \"7-7\",\n",
    "                \"7-8\",\n",
    "                \"7-9\",\n",
    "                \"8-1\",\n",
    "                \"8-13\",\n",
    "                \"8-14\",\n",
    "                \"8-18\",\n",
    "                \"8-20\",\n",
    "                \"8-3\",\n",
    "                \"8-8\",\n",
    "                \"9-1\",\n",
    "                \"9-7\",\n",
    "            ],\n",
    "            \"domains\": [1, 2, 3, 4],\n",
    "            \"num_examples_per_domain_per_label\": -1,\n",
    "            \"pickle_path\": \"/mnt/wd500GB/CSC500/csc500-main/datasets/wisig.node3-19.stratified_ds.2022A.pkl\",\n",
    "            \"source_or_target_dataset\": \"source\",\n",
    "            \"x_transforms\": [\"unit_power\"],\n",
    "            \"episode_transforms\": [],\n",
    "            \"domain_prefix\": \"W_\",\n",
    "        },\n",
    "        {\n",
    "            \"labels\": [\n",
    "                \"3123D52\",\n",
    "                \"3123D65\",\n",
    "                \"3123D79\",\n",
    "                \"3123D80\",\n",
    "                \"3123D54\",\n",
    "                \"3123D70\",\n",
    "                \"3123D7B\",\n",
    "                \"3123D89\",\n",
    "                \"3123D58\",\n",
    "                \"3123D76\",\n",
    "                \"3123D7D\",\n",
    "                \"3123EFE\",\n",
    "                \"3123D64\",\n",
    "                \"3123D78\",\n",
    "                \"3123D7E\",\n",
    "                \"3124E4A\",\n",
    "            ],\n",
    "            \"domains\": [32, 38, 8, 44, 14, 50, 20, 26],\n",
    "            \"num_examples_per_domain_per_label\": 2000,\n",
    "            \"pickle_path\": \"/mnt/wd500GB/CSC500/csc500-main/datasets/oracle.Run1_framed_2000Examples_stratified_ds.2022A.pkl\",\n",
    "            \"source_or_target_dataset\": \"target\",\n",
    "            \"x_transforms\": [\"unit_power\"],\n",
    "            \"episode_transforms\": [],\n",
    "            \"domain_prefix\": \"O_\",\n",
    "        },\n",
    "    ],\n",
    "    \"seed\": 154325,\n",
    "    \"dataset_seed\": 154325,\n",
    "}\n"
   ]
  },
  {
   "cell_type": "code",
   "execution_count": 5,
   "id": "8fa1cc33",
   "metadata": {
    "execution": {
     "iopub.execute_input": "2022-03-20T05:56:05.573144Z",
     "iopub.status.busy": "2022-03-20T05:56:05.572866Z",
     "iopub.status.idle": "2022-03-20T05:56:05.588568Z",
     "shell.execute_reply": "2022-03-20T05:56:05.588060Z"
    },
    "papermill": {
     "duration": 0.032653,
     "end_time": "2022-03-20T05:56:05.588674",
     "exception": false,
     "start_time": "2022-03-20T05:56:05.556021",
     "status": "completed"
    },
    "tags": []
   },
   "outputs": [],
   "source": [
    "# Set this to True if you want to run this template directly\n",
    "STANDALONE = False\n",
    "if STANDALONE:\n",
    "    print(\"parameters not injected, running with standalone_parameters\")\n",
    "    parameters = standalone_parameters\n",
    "\n",
    "if not 'parameters' in locals() and not 'parameters' in globals():\n",
    "    raise Exception(\"Parameter injection failed\")\n",
    "\n",
    "#Use an easy dict for all the parameters\n",
    "p = EasyDict(parameters)\n",
    "\n",
    "if \"x_shape\" not in p:\n",
    "    p.x_shape = [2,256] # Default to this if we dont supply x_shape\n",
    "\n",
    "\n",
    "supplied_keys = set(p.keys())\n",
    "\n",
    "if  supplied_keys != required_parameters:\n",
    "    print(\"Parameters are incorrect\")\n",
    "    if len(supplied_keys - required_parameters)>0: print(\"Shouldn't have:\", str(supplied_keys - required_parameters))\n",
    "    if len(required_parameters - supplied_keys)>0: print(\"Need to have:\", str(required_parameters - supplied_keys))\n",
    "    raise RuntimeError(\"Parameters are incorrect\")"
   ]
  },
  {
   "cell_type": "code",
   "execution_count": 6,
   "id": "3a028d58",
   "metadata": {
    "execution": {
     "iopub.execute_input": "2022-03-20T05:56:05.625176Z",
     "iopub.status.busy": "2022-03-20T05:56:05.623079Z",
     "iopub.status.idle": "2022-03-20T05:56:05.639751Z",
     "shell.execute_reply": "2022-03-20T05:56:05.639263Z"
    },
    "papermill": {
     "duration": 0.03212,
     "end_time": "2022-03-20T05:56:05.639853",
     "exception": false,
     "start_time": "2022-03-20T05:56:05.607733",
     "status": "completed"
    },
    "tags": []
   },
   "outputs": [],
   "source": [
    "###################################\n",
    "# Set the RNGs and make it all deterministic\n",
    "###################################\n",
    "np.random.seed(p.seed)\n",
    "random.seed(p.seed)\n",
    "torch.manual_seed(p.seed)\n",
    "\n",
    "torch.use_deterministic_algorithms(True) "
   ]
  },
  {
   "cell_type": "code",
   "execution_count": 7,
   "id": "b691acf6",
   "metadata": {
    "execution": {
     "iopub.execute_input": "2022-03-20T05:56:05.675743Z",
     "iopub.status.busy": "2022-03-20T05:56:05.675487Z",
     "iopub.status.idle": "2022-03-20T05:56:05.689119Z",
     "shell.execute_reply": "2022-03-20T05:56:05.688643Z"
    },
    "papermill": {
     "duration": 0.029761,
     "end_time": "2022-03-20T05:56:05.689234",
     "exception": false,
     "start_time": "2022-03-20T05:56:05.659473",
     "status": "completed"
    },
    "tags": []
   },
   "outputs": [],
   "source": [
    "###########################################\n",
    "# The stratified datasets honor this\n",
    "###########################################\n",
    "torch.set_default_dtype(eval(p.torch_default_dtype))"
   ]
  },
  {
   "cell_type": "code",
   "execution_count": 8,
   "id": "b5fba671",
   "metadata": {
    "execution": {
     "iopub.execute_input": "2022-03-20T05:56:05.723512Z",
     "iopub.status.busy": "2022-03-20T05:56:05.723020Z",
     "iopub.status.idle": "2022-03-20T05:56:05.766364Z",
     "shell.execute_reply": "2022-03-20T05:56:05.766771Z"
    },
    "papermill": {
     "duration": 0.058542,
     "end_time": "2022-03-20T05:56:05.766910",
     "exception": false,
     "start_time": "2022-03-20T05:56:05.708368",
     "status": "completed"
    },
    "tags": []
   },
   "outputs": [],
   "source": [
    "###################################\n",
    "# Build the network(s)\n",
    "# Note: It's critical to do this AFTER setting the RNG\n",
    "###################################\n",
    "x_net = build_sequential(p.x_net)"
   ]
  },
  {
   "cell_type": "code",
   "execution_count": 9,
   "id": "5d7e61cc",
   "metadata": {
    "execution": {
     "iopub.execute_input": "2022-03-20T05:56:05.802904Z",
     "iopub.status.busy": "2022-03-20T05:56:05.802645Z",
     "iopub.status.idle": "2022-03-20T05:56:05.816333Z",
     "shell.execute_reply": "2022-03-20T05:56:05.816729Z"
    },
    "papermill": {
     "duration": 0.031809,
     "end_time": "2022-03-20T05:56:05.816860",
     "exception": false,
     "start_time": "2022-03-20T05:56:05.785051",
     "status": "completed"
    },
    "tags": []
   },
   "outputs": [],
   "source": [
    "start_time_secs = time.time()"
   ]
  },
  {
   "cell_type": "code",
   "execution_count": 10,
   "id": "c6b67dfd",
   "metadata": {
    "execution": {
     "iopub.execute_input": "2022-03-20T05:56:05.852222Z",
     "iopub.status.busy": "2022-03-20T05:56:05.851955Z",
     "iopub.status.idle": "2022-03-20T05:56:05.865975Z",
     "shell.execute_reply": "2022-03-20T05:56:05.866262Z"
    },
    "papermill": {
     "duration": 0.030241,
     "end_time": "2022-03-20T05:56:05.866380",
     "exception": false,
     "start_time": "2022-03-20T05:56:05.836139",
     "status": "completed"
    },
    "tags": []
   },
   "outputs": [],
   "source": [
    "p.domains_source = []\n",
    "p.domains_target = []\n",
    "\n",
    "\n",
    "train_original_source = []\n",
    "val_original_source   = []\n",
    "test_original_source  = []\n",
    "\n",
    "train_original_target = []\n",
    "val_original_target   = []\n",
    "test_original_target  = []"
   ]
  },
  {
   "cell_type": "code",
   "execution_count": 11,
   "id": "e3d9c3d3",
   "metadata": {
    "execution": {
     "iopub.execute_input": "2022-03-20T05:56:05.900231Z",
     "iopub.status.busy": "2022-03-20T05:56:05.899974Z",
     "iopub.status.idle": "2022-03-20T05:56:05.913780Z",
     "shell.execute_reply": "2022-03-20T05:56:05.914202Z"
    },
    "papermill": {
     "duration": 0.029442,
     "end_time": "2022-03-20T05:56:05.914336",
     "exception": false,
     "start_time": "2022-03-20T05:56:05.884894",
     "status": "completed"
    },
    "tags": []
   },
   "outputs": [],
   "source": [
    "# global_x_transform_func = lambda x: normalize(x.to(torch.get_default_dtype()), \"unit_power\") # unit_power, unit_mag\n",
    "# global_x_transform_func = lambda x: normalize(x, \"unit_power\") # unit_power, unit_mag"
   ]
  },
  {
   "cell_type": "code",
   "execution_count": 12,
   "id": "acb78fd2",
   "metadata": {
    "execution": {
     "iopub.execute_input": "2022-03-20T05:56:05.952298Z",
     "iopub.status.busy": "2022-03-20T05:56:05.945941Z",
     "iopub.status.idle": "2022-03-20T05:56:05.965869Z",
     "shell.execute_reply": "2022-03-20T05:56:05.966274Z"
    },
    "papermill": {
     "duration": 0.03548,
     "end_time": "2022-03-20T05:56:05.966401",
     "exception": false,
     "start_time": "2022-03-20T05:56:05.930921",
     "status": "completed"
    },
    "tags": []
   },
   "outputs": [],
   "source": [
    "def add_dataset(\n",
    "    labels,\n",
    "    domains,\n",
    "    pickle_path,\n",
    "    x_transforms,\n",
    "    episode_transforms,\n",
    "    domain_prefix,\n",
    "    num_examples_per_domain_per_label,\n",
    "    source_or_target_dataset:str,\n",
    "    iterator_seed=p.seed,\n",
    "    dataset_seed=p.dataset_seed,\n",
    "    n_shot=p.n_shot,\n",
    "    n_way=p.n_way,\n",
    "    n_query=p.n_query,\n",
    "    train_val_test_k_factors=(p.train_k_factor,p.val_k_factor,p.test_k_factor),\n",
    "):\n",
    "   \n",
    "    if x_transforms == []: x_transform = None\n",
    "    else: x_transform = get_chained_transform(x_transforms)\n",
    "    \n",
    "    if episode_transforms == []: episode_transform = None\n",
    "    else: raise Exception(\"episode_transforms not implemented\")\n",
    "    \n",
    "    episode_transform = lambda tup, _prefix=domain_prefix: (_prefix + str(tup[0]), tup[1])\n",
    "\n",
    "\n",
    "    eaf = Episodic_Accessor_Factory(\n",
    "        labels=labels,\n",
    "        domains=domains,\n",
    "        num_examples_per_domain_per_label=num_examples_per_domain_per_label,\n",
    "        iterator_seed=iterator_seed,\n",
    "        dataset_seed=dataset_seed,\n",
    "        n_shot=n_shot,\n",
    "        n_way=n_way,\n",
    "        n_query=n_query,\n",
    "        train_val_test_k_factors=train_val_test_k_factors,\n",
    "        pickle_path=pickle_path,\n",
    "        x_transform_func=x_transform,\n",
    "    )\n",
    "\n",
    "    train, val, test = eaf.get_train(), eaf.get_val(), eaf.get_test()\n",
    "    train = Lazy_Iterable_Wrapper(train, episode_transform)\n",
    "    val = Lazy_Iterable_Wrapper(val, episode_transform)\n",
    "    test = Lazy_Iterable_Wrapper(test, episode_transform)\n",
    "\n",
    "    if source_or_target_dataset==\"source\":\n",
    "        train_original_source.append(train)\n",
    "        val_original_source.append(val)\n",
    "        test_original_source.append(test)\n",
    "\n",
    "        p.domains_source.extend(\n",
    "            [domain_prefix + str(u) for u in domains]\n",
    "        )\n",
    "    elif source_or_target_dataset==\"target\":\n",
    "        train_original_target.append(train)\n",
    "        val_original_target.append(val)\n",
    "        test_original_target.append(test)\n",
    "        p.domains_target.extend(\n",
    "            [domain_prefix + str(u) for u in domains]\n",
    "        )\n",
    "    else:\n",
    "        raise Exception(f\"invalid source_or_target_dataset: {source_or_target_dataset}\")\n",
    "    "
   ]
  },
  {
   "cell_type": "code",
   "execution_count": 13,
   "id": "fe266617",
   "metadata": {
    "execution": {
     "iopub.execute_input": "2022-03-20T05:56:06.001387Z",
     "iopub.status.busy": "2022-03-20T05:56:06.001126Z",
     "iopub.status.idle": "2022-03-20T05:56:55.111078Z",
     "shell.execute_reply": "2022-03-20T05:56:55.110608Z"
    },
    "papermill": {
     "duration": 49.125954,
     "end_time": "2022-03-20T05:56:55.111186",
     "exception": false,
     "start_time": "2022-03-20T05:56:05.985232",
     "status": "completed"
    },
    "tags": []
   },
   "outputs": [],
   "source": [
    "for ds in p.datasets:\n",
    "    add_dataset(**ds)"
   ]
  },
  {
   "cell_type": "code",
   "execution_count": 14,
   "id": "b90d65ac",
   "metadata": {
    "execution": {
     "iopub.execute_input": "2022-03-20T05:56:55.145230Z",
     "iopub.status.busy": "2022-03-20T05:56:55.144962Z",
     "iopub.status.idle": "2022-03-20T05:56:55.156122Z",
     "shell.execute_reply": "2022-03-20T05:56:55.155885Z"
    },
    "papermill": {
     "duration": 0.026488,
     "end_time": "2022-03-20T05:56:55.156181",
     "exception": false,
     "start_time": "2022-03-20T05:56:55.129693",
     "status": "completed"
    },
    "tags": []
   },
   "outputs": [],
   "source": [
    "# from steves_utils.CORES.utils import (\n",
    "#     ALL_NODES,\n",
    "#     ALL_NODES_MINIMUM_1000_EXAMPLES,\n",
    "#     ALL_DAYS\n",
    "# )\n",
    "\n",
    "# add_dataset(\n",
    "#     labels=ALL_NODES,\n",
    "#     domains = ALL_DAYS,\n",
    "#     num_examples_per_domain_per_label=100,\n",
    "#     pickle_path=os.path.join(get_datasets_base_path(), \"cores.stratified_ds.2022A.pkl\"),\n",
    "#     source_or_target_dataset=\"target\",\n",
    "#     x_transform_func=global_x_transform_func,\n",
    "#     domain_modifier=lambda u: f\"cores_{u}\"\n",
    "# )"
   ]
  },
  {
   "cell_type": "code",
   "execution_count": 15,
   "id": "76db484d",
   "metadata": {
    "execution": {
     "iopub.execute_input": "2022-03-20T05:56:55.188267Z",
     "iopub.status.busy": "2022-03-20T05:56:55.187975Z",
     "iopub.status.idle": "2022-03-20T05:56:55.199330Z",
     "shell.execute_reply": "2022-03-20T05:56:55.198903Z"
    },
    "papermill": {
     "duration": 0.026723,
     "end_time": "2022-03-20T05:56:55.199435",
     "exception": false,
     "start_time": "2022-03-20T05:56:55.172712",
     "status": "completed"
    },
    "tags": []
   },
   "outputs": [],
   "source": [
    "# from steves_utils.ORACLE.utils_v2 import (\n",
    "#     ALL_DISTANCES_FEET,\n",
    "#     ALL_RUNS,\n",
    "#     ALL_SERIAL_NUMBERS,\n",
    "# )\n",
    "\n",
    "\n",
    "# add_dataset(\n",
    "#     labels=ALL_SERIAL_NUMBERS,\n",
    "#     domains = list(set(ALL_DISTANCES_FEET) - {2,62}),\n",
    "#     num_examples_per_domain_per_label=100,\n",
    "#     pickle_path=os.path.join(get_datasets_base_path(), \"oracle.Run2_framed_2000Examples_stratified_ds.2022A.pkl\"),\n",
    "#     source_or_target_dataset=\"source\",\n",
    "#     x_transform_func=global_x_transform_func,\n",
    "#     domain_modifier=lambda u: f\"oracle1_{u}\"\n",
    "# )\n"
   ]
  },
  {
   "cell_type": "code",
   "execution_count": 16,
   "id": "97dea9d2",
   "metadata": {
    "execution": {
     "iopub.execute_input": "2022-03-20T05:56:55.230661Z",
     "iopub.status.busy": "2022-03-20T05:56:55.230405Z",
     "iopub.status.idle": "2022-03-20T05:56:55.241483Z",
     "shell.execute_reply": "2022-03-20T05:56:55.241054Z"
    },
    "papermill": {
     "duration": 0.026084,
     "end_time": "2022-03-20T05:56:55.241582",
     "exception": false,
     "start_time": "2022-03-20T05:56:55.215498",
     "status": "completed"
    },
    "tags": []
   },
   "outputs": [],
   "source": [
    "# from steves_utils.ORACLE.utils_v2 import (\n",
    "#     ALL_DISTANCES_FEET,\n",
    "#     ALL_RUNS,\n",
    "#     ALL_SERIAL_NUMBERS,\n",
    "# )\n",
    "\n",
    "\n",
    "# add_dataset(\n",
    "#     labels=ALL_SERIAL_NUMBERS,\n",
    "#     domains = list(set(ALL_DISTANCES_FEET) - {2,62,56}),\n",
    "#     num_examples_per_domain_per_label=100,\n",
    "#     pickle_path=os.path.join(get_datasets_base_path(), \"oracle.Run2_framed_2000Examples_stratified_ds.2022A.pkl\"),\n",
    "#     source_or_target_dataset=\"source\",\n",
    "#     x_transform_func=global_x_transform_func,\n",
    "#     domain_modifier=lambda u: f\"oracle2_{u}\"\n",
    "# )"
   ]
  },
  {
   "cell_type": "code",
   "execution_count": 17,
   "id": "6f289866",
   "metadata": {
    "execution": {
     "iopub.execute_input": "2022-03-20T05:56:55.276851Z",
     "iopub.status.busy": "2022-03-20T05:56:55.276599Z",
     "iopub.status.idle": "2022-03-20T05:56:55.293026Z",
     "shell.execute_reply": "2022-03-20T05:56:55.292606Z"
    },
    "papermill": {
     "duration": 0.03217,
     "end_time": "2022-03-20T05:56:55.293124",
     "exception": false,
     "start_time": "2022-03-20T05:56:55.260954",
     "status": "completed"
    },
    "tags": []
   },
   "outputs": [],
   "source": [
    "# add_dataset(\n",
    "#     labels=list(range(19)),\n",
    "#     domains = [0,1,2],\n",
    "#     num_examples_per_domain_per_label=100,\n",
    "#     pickle_path=os.path.join(get_datasets_base_path(), \"metehan.stratified_ds.2022A.pkl\"),\n",
    "#     source_or_target_dataset=\"target\",\n",
    "#     x_transform_func=global_x_transform_func,\n",
    "#     domain_modifier=lambda u: f\"met_{u}\"\n",
    "# )"
   ]
  },
  {
   "cell_type": "code",
   "execution_count": 18,
   "id": "86a863c3",
   "metadata": {
    "execution": {
     "iopub.execute_input": "2022-03-20T05:56:55.328836Z",
     "iopub.status.busy": "2022-03-20T05:56:55.328582Z",
     "iopub.status.idle": "2022-03-20T05:56:55.342312Z",
     "shell.execute_reply": "2022-03-20T05:56:55.341836Z"
    },
    "papermill": {
     "duration": 0.029532,
     "end_time": "2022-03-20T05:56:55.342409",
     "exception": false,
     "start_time": "2022-03-20T05:56:55.312877",
     "status": "completed"
    },
    "tags": []
   },
   "outputs": [],
   "source": [
    "# # from steves_utils.wisig.utils import (\n",
    "# #     ALL_NODES_MINIMUM_100_EXAMPLES,\n",
    "# #     ALL_NODES_MINIMUM_500_EXAMPLES,\n",
    "# #     ALL_NODES_MINIMUM_1000_EXAMPLES,\n",
    "# #     ALL_DAYS\n",
    "# # )\n",
    "\n",
    "# import steves_utils.wisig.utils as wisig\n",
    "\n",
    "\n",
    "# add_dataset(\n",
    "#     labels=wisig.ALL_NODES_MINIMUM_100_EXAMPLES,\n",
    "#     domains = wisig.ALL_DAYS,\n",
    "#     num_examples_per_domain_per_label=100,\n",
    "#     pickle_path=os.path.join(get_datasets_base_path(), \"wisig.node3-19.stratified_ds.2022A.pkl\"),\n",
    "#     source_or_target_dataset=\"target\",\n",
    "#     x_transform_func=global_x_transform_func,\n",
    "#     domain_modifier=lambda u: f\"wisig_{u}\"\n",
    "# )"
   ]
  },
  {
   "cell_type": "code",
   "execution_count": 19,
   "id": "fd5442bc",
   "metadata": {
    "execution": {
     "iopub.execute_input": "2022-03-20T05:56:55.382151Z",
     "iopub.status.busy": "2022-03-20T05:56:55.381893Z",
     "iopub.status.idle": "2022-03-20T05:56:55.396881Z",
     "shell.execute_reply": "2022-03-20T05:56:55.396396Z"
    },
    "papermill": {
     "duration": 0.035673,
     "end_time": "2022-03-20T05:56:55.396982",
     "exception": false,
     "start_time": "2022-03-20T05:56:55.361309",
     "status": "completed"
    },
    "tags": []
   },
   "outputs": [],
   "source": [
    "###################################\n",
    "# Build the dataset\n",
    "###################################\n",
    "train_original_source = Iterable_Aggregator(train_original_source, p.seed)\n",
    "val_original_source = Iterable_Aggregator(val_original_source, p.seed)\n",
    "test_original_source = Iterable_Aggregator(test_original_source, p.seed)\n",
    "\n",
    "\n",
    "train_original_target = Iterable_Aggregator(train_original_target, p.seed)\n",
    "val_original_target = Iterable_Aggregator(val_original_target, p.seed)\n",
    "test_original_target = Iterable_Aggregator(test_original_target, p.seed)\n",
    "\n",
    "# For CNN We only use X and Y. And we only train on the source.\n",
    "# Properly form the data using a transform lambda and Lazy_Iterable_Wrapper. Finally wrap them in a dataloader\n",
    "\n",
    "transform_lambda = lambda ex: ex[1] # Original is (<domain>, <episode>) so we strip down to episode only\n",
    "\n",
    "train_processed_source = Lazy_Iterable_Wrapper(train_original_source, transform_lambda)\n",
    "val_processed_source   = Lazy_Iterable_Wrapper(val_original_source, transform_lambda)\n",
    "test_processed_source  = Lazy_Iterable_Wrapper(test_original_source, transform_lambda)\n",
    "\n",
    "train_processed_target = Lazy_Iterable_Wrapper(train_original_target, transform_lambda)\n",
    "val_processed_target   = Lazy_Iterable_Wrapper(val_original_target, transform_lambda)\n",
    "test_processed_target  = Lazy_Iterable_Wrapper(test_original_target, transform_lambda)\n",
    "\n",
    "datasets = EasyDict({\n",
    "    \"source\": {\n",
    "        \"original\": {\"train\":train_original_source, \"val\":val_original_source, \"test\":test_original_source},\n",
    "        \"processed\": {\"train\":train_processed_source, \"val\":val_processed_source, \"test\":test_processed_source}\n",
    "    },\n",
    "    \"target\": {\n",
    "        \"original\": {\"train\":train_original_target, \"val\":val_original_target, \"test\":test_original_target},\n",
    "        \"processed\": {\"train\":train_processed_target, \"val\":val_processed_target, \"test\":test_processed_target}\n",
    "    },\n",
    "})"
   ]
  },
  {
   "cell_type": "code",
   "execution_count": 20,
   "id": "5b3c01fc",
   "metadata": {
    "execution": {
     "iopub.execute_input": "2022-03-20T05:56:55.434098Z",
     "iopub.status.busy": "2022-03-20T05:56:55.433848Z",
     "iopub.status.idle": "2022-03-20T05:57:05.058241Z",
     "shell.execute_reply": "2022-03-20T05:57:05.058596Z"
    },
    "papermill": {
     "duration": 9.641903,
     "end_time": "2022-03-20T05:57:05.058688",
     "exception": false,
     "start_time": "2022-03-20T05:56:55.416785",
     "status": "completed"
    },
    "tags": []
   },
   "outputs": [
    {
     "name": "stdout",
     "output_type": "stream",
     "text": [
      "{'C_3', 'C_2', 'C_5', 'C_4', 'C_1', 'W_4', 'W_3', 'W_1', 'W_2'}\n"
     ]
    },
    {
     "name": "stdout",
     "output_type": "stream",
     "text": [
      "{'O_14', 'O_20', 'O_32', 'O_8', 'O_50', 'O_26', 'O_44', 'O_38'}\n"
     ]
    },
    {
     "name": "stdout",
     "output_type": "stream",
     "text": [
      "tensor([[[-0.5519, -0.3236,  1.1819,  ..., -0.0289, -0.3930,  0.3207],\n",
      "         [ 0.2543, -0.9565, -0.5432,  ...,  0.2369,  0.1734, -1.2830]],\n",
      "\n",
      "        [[-0.2484,  0.1704,  1.2448,  ...,  0.1762, -0.3697,  0.2426],\n",
      "         [ 0.0144, -0.7250,  0.2917,  ...,  0.0866, -0.1733, -0.2137]],\n",
      "\n",
      "        [[ 0.3357, -1.1851, -0.7326,  ...,  0.7793,  0.5021, -0.7589],\n",
      "         [ 1.2639,  0.2481, -0.6918,  ...,  0.4991,  1.3602,  0.2335]],\n",
      "\n",
      "        ...,\n",
      "\n",
      "        [[-0.1845,  0.2060,  0.4858,  ...,  0.2613, -0.3136,  1.0115],\n",
      "         [ 0.5042,  0.5349, -0.1199,  ...,  0.0400,  0.2613,  0.2552]],\n",
      "\n",
      "        [[-0.0033,  0.2911, -0.1701,  ..., -0.6410, -0.5560,  0.3336],\n",
      "         [-0.0425, -0.4775, -0.5331,  ..., -0.8634,  0.1014, -0.2289]],\n",
      "\n",
      "        [[-0.1189,  0.1189,  0.1940,  ...,  0.1784, -0.8732, -0.8137],\n",
      "         [-0.0438,  0.0282,  0.0156,  ..., -1.2143, -0.9890,  0.7355]]])\n"
     ]
    }
   ],
   "source": [
    "from steves_utils.transforms import get_average_magnitude, get_average_power\n",
    "\n",
    "print(set([u for u,_ in val_original_source]))\n",
    "print(set([u for u,_ in val_original_target]))\n",
    "\n",
    "s_x, s_y, q_x, q_y, _ = next(iter(train_processed_source))\n",
    "print(s_x)\n",
    "\n",
    "# for ds in [\n",
    "#     train_processed_source,\n",
    "#     val_processed_source,\n",
    "#     test_processed_source,\n",
    "#     train_processed_target,\n",
    "#     val_processed_target,\n",
    "#     test_processed_target\n",
    "# ]:\n",
    "#     for s_x, s_y, q_x, q_y, _ in ds:\n",
    "#         for X in (s_x, q_x):\n",
    "#             for x in X:\n",
    "#                 assert np.isclose(get_average_magnitude(x.numpy()), 1.0)\n",
    "#                 assert np.isclose(get_average_power(x.numpy()), 1.0)\n",
    "                "
   ]
  },
  {
   "cell_type": "code",
   "execution_count": 21,
   "id": "bbdacba1",
   "metadata": {
    "execution": {
     "iopub.execute_input": "2022-03-20T05:57:05.101219Z",
     "iopub.status.busy": "2022-03-20T05:57:05.100946Z",
     "iopub.status.idle": "2022-03-20T05:57:05.162066Z",
     "shell.execute_reply": "2022-03-20T05:57:05.161643Z"
    },
    "papermill": {
     "duration": 0.079498,
     "end_time": "2022-03-20T05:57:05.162161",
     "exception": false,
     "start_time": "2022-03-20T05:57:05.082663",
     "status": "completed"
    },
    "tags": []
   },
   "outputs": [
    {
     "name": "stdout",
     "output_type": "stream",
     "text": [
      "(2, 256)\n"
     ]
    }
   ],
   "source": [
    "###################################\n",
    "# Build the model\n",
    "###################################\n",
    "# easfsl only wants a tuple for the shape\n",
    "model = Steves_Prototypical_Network(x_net, device=p.device, x_shape=tuple(p.x_shape))\n",
    "optimizer = Adam(params=model.parameters(), lr=p.lr)"
   ]
  },
  {
   "cell_type": "code",
   "execution_count": 22,
   "id": "22b39ac5",
   "metadata": {
    "execution": {
     "iopub.execute_input": "2022-03-20T05:57:05.200382Z",
     "iopub.status.busy": "2022-03-20T05:57:05.200122Z",
     "iopub.status.idle": "2022-03-20T07:09:24.008679Z",
     "shell.execute_reply": "2022-03-20T07:09:24.008448Z"
    },
    "papermill": {
     "duration": 4338.827246,
     "end_time": "2022-03-20T07:09:24.008739",
     "exception": false,
     "start_time": "2022-03-20T05:57:05.181493",
     "status": "completed"
    },
    "tags": []
   },
   "outputs": [
    {
     "name": "stdout",
     "output_type": "stream",
     "text": [
      "epoch: 1, [batch: 1 / 13145], examples_per_second: 23.2146, train_label_loss: 2.6479, \n"
     ]
    },
    {
     "name": "stdout",
     "output_type": "stream",
     "text": [
      "epoch: 1, [batch: 1315 / 13145], examples_per_second: 1784.0522, train_label_loss: 0.0931, \n"
     ]
    },
    {
     "name": "stdout",
     "output_type": "stream",
     "text": [
      "epoch: 1, [batch: 2629 / 13145], examples_per_second: 2147.6209, train_label_loss: 0.0030, \n"
     ]
    },
    {
     "name": "stdout",
     "output_type": "stream",
     "text": [
      "epoch: 1, [batch: 3944 / 13145], examples_per_second: 1724.7309, train_label_loss: 0.0893, \n"
     ]
    },
    {
     "name": "stdout",
     "output_type": "stream",
     "text": [
      "epoch: 1, [batch: 5258 / 13145], examples_per_second: 1720.2302, train_label_loss: 0.0015, \n"
     ]
    },
    {
     "name": "stdout",
     "output_type": "stream",
     "text": [
      "epoch: 1, [batch: 6573 / 13145], examples_per_second: 1720.5626, train_label_loss: 0.0397, \n"
     ]
    },
    {
     "name": "stdout",
     "output_type": "stream",
     "text": [
      "epoch: 1, [batch: 7887 / 13145], examples_per_second: 1725.4475, train_label_loss: 0.0541, \n"
     ]
    },
    {
     "name": "stdout",
     "output_type": "stream",
     "text": [
      "epoch: 1, [batch: 9201 / 13145], examples_per_second: 1720.8920, train_label_loss: 0.4007, \n"
     ]
    },
    {
     "name": "stdout",
     "output_type": "stream",
     "text": [
      "epoch: 1, [batch: 10516 / 13145], examples_per_second: 1722.5831, train_label_loss: 0.0491, \n"
     ]
    },
    {
     "name": "stdout",
     "output_type": "stream",
     "text": [
      "epoch: 1, [batch: 11830 / 13145], examples_per_second: 1727.4768, train_label_loss: 0.0009, \n"
     ]
    },
    {
     "name": "stdout",
     "output_type": "stream",
     "text": [
      "=============================================================\n",
      "epoch: 1, source_val_acc_label: 0.9810, target_val_acc_label: 0.1759, source_val_label_loss: 0.0907, target_val_label_loss: 2.5636, \n",
      "=============================================================\n"
     ]
    },
    {
     "name": "stdout",
     "output_type": "stream",
     "text": [
      "New best\n"
     ]
    },
    {
     "name": "stdout",
     "output_type": "stream",
     "text": [
      "epoch: 2, [batch: 1 / 13179], examples_per_second: 1.4631, train_label_loss: 0.0186, \n"
     ]
    },
    {
     "name": "stdout",
     "output_type": "stream",
     "text": [
      "epoch: 2, [batch: 1318 / 13179], examples_per_second: 1822.8335, train_label_loss: 0.0037, \n"
     ]
    },
    {
     "name": "stdout",
     "output_type": "stream",
     "text": [
      "epoch: 2, [batch: 2636 / 13179], examples_per_second: 2142.2701, train_label_loss: 0.0009, \n"
     ]
    },
    {
     "name": "stdout",
     "output_type": "stream",
     "text": [
      "epoch: 2, [batch: 3954 / 13179], examples_per_second: 1738.5915, train_label_loss: 0.0441, \n"
     ]
    },
    {
     "name": "stdout",
     "output_type": "stream",
     "text": [
      "epoch: 2, [batch: 5272 / 13179], examples_per_second: 1732.7076, train_label_loss: 0.0519, \n"
     ]
    },
    {
     "name": "stdout",
     "output_type": "stream",
     "text": [
      "epoch: 2, [batch: 6590 / 13179], examples_per_second: 1738.8876, train_label_loss: 0.0002, \n"
     ]
    },
    {
     "name": "stdout",
     "output_type": "stream",
     "text": [
      "epoch: 2, [batch: 7907 / 13179], examples_per_second: 1738.5878, train_label_loss: 0.0029, \n"
     ]
    },
    {
     "name": "stdout",
     "output_type": "stream",
     "text": [
      "epoch: 2, [batch: 9225 / 13179], examples_per_second: 1734.2515, train_label_loss: 0.0229, \n"
     ]
    },
    {
     "name": "stdout",
     "output_type": "stream",
     "text": [
      "epoch: 2, [batch: 10543 / 13179], examples_per_second: 1738.3512, train_label_loss: 0.2233, \n"
     ]
    },
    {
     "name": "stdout",
     "output_type": "stream",
     "text": [
      "epoch: 2, [batch: 11861 / 13179], examples_per_second: 1741.8673, train_label_loss: 0.0001, \n"
     ]
    },
    {
     "name": "stdout",
     "output_type": "stream",
     "text": [
      "=============================================================\n",
      "epoch: 2, source_val_acc_label: 0.9849, target_val_acc_label: 0.1714, source_val_label_loss: 0.0666, target_val_label_loss: 2.6239, \n",
      "=============================================================\n"
     ]
    },
    {
     "name": "stdout",
     "output_type": "stream",
     "text": [
      "epoch: 3, [batch: 1 / 13166], examples_per_second: 1.4628, train_label_loss: 0.1281, \n"
     ]
    },
    {
     "name": "stdout",
     "output_type": "stream",
     "text": [
      "epoch: 3, [batch: 1317 / 13166], examples_per_second: 1849.7542, train_label_loss: 0.0012, \n"
     ]
    },
    {
     "name": "stdout",
     "output_type": "stream",
     "text": [
      "epoch: 3, [batch: 2634 / 13166], examples_per_second: 2066.5232, train_label_loss: 0.0531, \n"
     ]
    },
    {
     "name": "stdout",
     "output_type": "stream",
     "text": [
      "epoch: 3, [batch: 3950 / 13166], examples_per_second: 1739.0615, train_label_loss: 0.0089, \n"
     ]
    },
    {
     "name": "stdout",
     "output_type": "stream",
     "text": [
      "epoch: 3, [batch: 5267 / 13166], examples_per_second: 1734.4215, train_label_loss: 0.0017, \n"
     ]
    },
    {
     "name": "stdout",
     "output_type": "stream",
     "text": [
      "epoch: 3, [batch: 6583 / 13166], examples_per_second: 1739.4063, train_label_loss: 0.0009, \n"
     ]
    },
    {
     "name": "stdout",
     "output_type": "stream",
     "text": [
      "epoch: 3, [batch: 7900 / 13166], examples_per_second: 1738.7585, train_label_loss: 0.0037, \n"
     ]
    },
    {
     "name": "stdout",
     "output_type": "stream",
     "text": [
      "epoch: 3, [batch: 9216 / 13166], examples_per_second: 1734.2122, train_label_loss: 0.0002, \n"
     ]
    },
    {
     "name": "stdout",
     "output_type": "stream",
     "text": [
      "epoch: 3, [batch: 10533 / 13166], examples_per_second: 1737.6151, train_label_loss: 0.3157, \n"
     ]
    },
    {
     "name": "stdout",
     "output_type": "stream",
     "text": [
      "epoch: 3, [batch: 11849 / 13166], examples_per_second: 1736.7649, train_label_loss: 0.0003, \n"
     ]
    },
    {
     "name": "stdout",
     "output_type": "stream",
     "text": [
      "=============================================================\n",
      "epoch: 3, source_val_acc_label: 0.9864, target_val_acc_label: 0.1985, source_val_label_loss: 0.0590, target_val_label_loss: 2.5078, \n",
      "=============================================================\n"
     ]
    },
    {
     "name": "stdout",
     "output_type": "stream",
     "text": [
      "New best\n"
     ]
    },
    {
     "name": "stdout",
     "output_type": "stream",
     "text": [
      "epoch: 4, [batch: 1 / 13172], examples_per_second: 1.4662, train_label_loss: 0.0007, \n"
     ]
    },
    {
     "name": "stdout",
     "output_type": "stream",
     "text": [
      "epoch: 4, [batch: 1318 / 13172], examples_per_second: 1919.5474, train_label_loss: 0.0887, \n"
     ]
    },
    {
     "name": "stdout",
     "output_type": "stream",
     "text": [
      "epoch: 4, [batch: 2635 / 13172], examples_per_second: 2068.3917, train_label_loss: 0.0006, \n"
     ]
    },
    {
     "name": "stdout",
     "output_type": "stream",
     "text": [
      "epoch: 4, [batch: 3952 / 13172], examples_per_second: 2072.3590, train_label_loss: 0.0001, \n"
     ]
    },
    {
     "name": "stdout",
     "output_type": "stream",
     "text": [
      "epoch: 4, [batch: 5269 / 13172], examples_per_second: 1990.4227, train_label_loss: 0.0958, \n"
     ]
    },
    {
     "name": "stdout",
     "output_type": "stream",
     "text": [
      "epoch: 4, [batch: 6586 / 13172], examples_per_second: 2573.9658, train_label_loss: 0.0008, \n"
     ]
    },
    {
     "name": "stdout",
     "output_type": "stream",
     "text": [
      "epoch: 4, [batch: 7903 / 13172], examples_per_second: 3113.1960, train_label_loss: 0.2150, \n"
     ]
    },
    {
     "name": "stdout",
     "output_type": "stream",
     "text": [
      "epoch: 4, [batch: 9220 / 13172], examples_per_second: 3122.7256, train_label_loss: 0.1349, \n"
     ]
    },
    {
     "name": "stdout",
     "output_type": "stream",
     "text": [
      "epoch: 4, [batch: 10537 / 13172], examples_per_second: 3153.5609, train_label_loss: 0.0000, \n"
     ]
    },
    {
     "name": "stdout",
     "output_type": "stream",
     "text": [
      "epoch: 4, [batch: 11854 / 13172], examples_per_second: 3138.9756, train_label_loss: 0.0008, \n"
     ]
    },
    {
     "name": "stdout",
     "output_type": "stream",
     "text": [
      "=============================================================\n",
      "epoch: 4, source_val_acc_label: 0.9869, target_val_acc_label: 0.1708, source_val_label_loss: 0.0585, target_val_label_loss: 2.8548, \n",
      "=============================================================\n"
     ]
    },
    {
     "name": "stdout",
     "output_type": "stream",
     "text": [
      "epoch: 5, [batch: 1 / 13165], examples_per_second: 1.5455, train_label_loss: 0.0012, \n"
     ]
    },
    {
     "name": "stdout",
     "output_type": "stream",
     "text": [
      "epoch: 5, [batch: 1317 / 13165], examples_per_second: 1733.3561, train_label_loss: 0.0004, \n"
     ]
    },
    {
     "name": "stdout",
     "output_type": "stream",
     "text": [
      "epoch: 5, [batch: 2633 / 13165], examples_per_second: 1737.4694, train_label_loss: 0.0188, \n"
     ]
    },
    {
     "name": "stdout",
     "output_type": "stream",
     "text": [
      "epoch: 5, [batch: 3950 / 13165], examples_per_second: 1734.7622, train_label_loss: 0.0002, \n"
     ]
    },
    {
     "name": "stdout",
     "output_type": "stream",
     "text": [
      "epoch: 5, [batch: 5266 / 13165], examples_per_second: 1731.1845, train_label_loss: 0.0001, \n"
     ]
    },
    {
     "name": "stdout",
     "output_type": "stream",
     "text": [
      "epoch: 5, [batch: 6583 / 13165], examples_per_second: 1738.8134, train_label_loss: 0.0004, \n"
     ]
    },
    {
     "name": "stdout",
     "output_type": "stream",
     "text": [
      "epoch: 5, [batch: 7899 / 13165], examples_per_second: 1737.4349, train_label_loss: 0.0485, \n"
     ]
    },
    {
     "name": "stdout",
     "output_type": "stream",
     "text": [
      "epoch: 5, [batch: 9215 / 13165], examples_per_second: 1731.7915, train_label_loss: 0.0001, \n"
     ]
    },
    {
     "name": "stdout",
     "output_type": "stream",
     "text": [
      "epoch: 5, [batch: 10532 / 13165], examples_per_second: 1738.6789, train_label_loss: 0.0002, \n"
     ]
    },
    {
     "name": "stdout",
     "output_type": "stream",
     "text": [
      "epoch: 5, [batch: 11848 / 13165], examples_per_second: 2113.2310, train_label_loss: 0.0001, \n"
     ]
    },
    {
     "name": "stdout",
     "output_type": "stream",
     "text": [
      "=============================================================\n",
      "epoch: 5, source_val_acc_label: 0.9868, target_val_acc_label: 0.1607, source_val_label_loss: 0.0593, target_val_label_loss: 3.1458, \n",
      "=============================================================\n"
     ]
    },
    {
     "name": "stdout",
     "output_type": "stream",
     "text": [
      "epoch: 6, [batch: 1 / 13167], examples_per_second: 1.5009, train_label_loss: 0.0012, \n"
     ]
    },
    {
     "name": "stdout",
     "output_type": "stream",
     "text": [
      "epoch: 6, [batch: 1317 / 13167], examples_per_second: 1736.1733, train_label_loss: 0.0002, \n"
     ]
    },
    {
     "name": "stdout",
     "output_type": "stream",
     "text": [
      "epoch: 6, [batch: 2634 / 13167], examples_per_second: 1738.2362, train_label_loss: 0.0000, \n"
     ]
    },
    {
     "name": "stdout",
     "output_type": "stream",
     "text": [
      "epoch: 6, [batch: 3950 / 13167], examples_per_second: 1738.7949, train_label_loss: 0.0000, \n"
     ]
    },
    {
     "name": "stdout",
     "output_type": "stream",
     "text": [
      "epoch: 6, [batch: 5267 / 13167], examples_per_second: 1734.8797, train_label_loss: 0.0000, \n"
     ]
    },
    {
     "name": "stdout",
     "output_type": "stream",
     "text": [
      "epoch: 6, [batch: 6584 / 13167], examples_per_second: 1738.6073, train_label_loss: 0.0002, \n"
     ]
    },
    {
     "name": "stdout",
     "output_type": "stream",
     "text": [
      "epoch: 6, [batch: 7900 / 13167], examples_per_second: 1736.2787, train_label_loss: 0.0001, \n"
     ]
    },
    {
     "name": "stdout",
     "output_type": "stream",
     "text": [
      "epoch: 6, [batch: 9217 / 13167], examples_per_second: 1734.7946, train_label_loss: 0.0010, \n"
     ]
    },
    {
     "name": "stdout",
     "output_type": "stream",
     "text": [
      "epoch: 6, [batch: 10533 / 13167], examples_per_second: 1752.9002, train_label_loss: 0.0047, \n"
     ]
    },
    {
     "name": "stdout",
     "output_type": "stream",
     "text": [
      "epoch: 6, [batch: 11850 / 13167], examples_per_second: 2203.1110, train_label_loss: 0.0001, \n"
     ]
    },
    {
     "name": "stdout",
     "output_type": "stream",
     "text": [
      "=============================================================\n",
      "epoch: 6, source_val_acc_label: 0.9866, target_val_acc_label: 0.1410, source_val_label_loss: 0.0616, target_val_label_loss: 3.4659, \n",
      "=============================================================\n"
     ]
    },
    {
     "name": "stdout",
     "output_type": "stream",
     "text": [
      "epoch: 7, [batch: 1 / 13157], examples_per_second: 1.4730, train_label_loss: 0.0000, \n"
     ]
    },
    {
     "name": "stdout",
     "output_type": "stream",
     "text": [
      "epoch: 7, [batch: 1316 / 13157], examples_per_second: 1737.2459, train_label_loss: 0.0002, \n"
     ]
    },
    {
     "name": "stdout",
     "output_type": "stream",
     "text": [
      "epoch: 7, [batch: 2632 / 13157], examples_per_second: 1732.2674, train_label_loss: 0.0000, \n"
     ]
    },
    {
     "name": "stdout",
     "output_type": "stream",
     "text": [
      "epoch: 7, [batch: 3947 / 13157], examples_per_second: 1739.3762, train_label_loss: 0.0007, \n"
     ]
    },
    {
     "name": "stdout",
     "output_type": "stream",
     "text": [
      "epoch: 7, [batch: 5263 / 13157], examples_per_second: 1733.7628, train_label_loss: 0.0000, \n"
     ]
    },
    {
     "name": "stdout",
     "output_type": "stream",
     "text": [
      "epoch: 7, [batch: 6579 / 13157], examples_per_second: 1741.8177, train_label_loss: 0.0053, \n"
     ]
    },
    {
     "name": "stdout",
     "output_type": "stream",
     "text": [
      "epoch: 7, [batch: 7894 / 13157], examples_per_second: 1738.3058, train_label_loss: 0.0592, \n"
     ]
    },
    {
     "name": "stdout",
     "output_type": "stream",
     "text": [
      "epoch: 7, [batch: 9210 / 13157], examples_per_second: 1732.8612, train_label_loss: 0.0000, \n"
     ]
    },
    {
     "name": "stdout",
     "output_type": "stream",
     "text": [
      "epoch: 7, [batch: 10525 / 13157], examples_per_second: 1790.9371, train_label_loss: 0.0000, \n"
     ]
    },
    {
     "name": "stdout",
     "output_type": "stream",
     "text": [
      "epoch: 7, [batch: 11841 / 13157], examples_per_second: 2161.5769, train_label_loss: 0.0000, \n"
     ]
    },
    {
     "name": "stdout",
     "output_type": "stream",
     "text": [
      "=============================================================\n",
      "epoch: 7, source_val_acc_label: 0.9871, target_val_acc_label: 0.1356, source_val_label_loss: 0.0623, target_val_label_loss: 3.9800, \n",
      "=============================================================\n"
     ]
    },
    {
     "name": "stdout",
     "output_type": "stream",
     "text": [
      "Patience (3) exhausted\n"
     ]
    }
   ],
   "source": [
    "###################################\n",
    "# train\n",
    "###################################\n",
    "jig = PTN_Train_Eval_Test_Jig(model, p.BEST_MODEL_PATH, p.device)\n",
    "\n",
    "jig.train(\n",
    "    train_iterable=datasets.source.processed.train,\n",
    "    source_val_iterable=datasets.source.processed.val,\n",
    "    target_val_iterable=datasets.target.processed.val,\n",
    "    num_epochs=p.n_epoch,\n",
    "    num_logs_per_epoch=p.NUM_LOGS_PER_EPOCH,\n",
    "    patience=p.patience,\n",
    "    optimizer=optimizer,\n",
    "    criteria_for_best=p.criteria_for_best,\n",
    ")"
   ]
  },
  {
   "cell_type": "code",
   "execution_count": 23,
   "id": "31e8fabf",
   "metadata": {
    "execution": {
     "iopub.execute_input": "2022-03-20T07:09:24.069094Z",
     "iopub.status.busy": "2022-03-20T07:09:24.068841Z",
     "iopub.status.idle": "2022-03-20T07:09:24.086824Z",
     "shell.execute_reply": "2022-03-20T07:09:24.087054Z"
    },
    "papermill": {
     "duration": 0.049721,
     "end_time": "2022-03-20T07:09:24.087141",
     "exception": false,
     "start_time": "2022-03-20T07:09:24.037420",
     "status": "completed"
    },
    "tags": []
   },
   "outputs": [],
   "source": [
    "total_experiment_time_secs = time.time() - start_time_secs"
   ]
  },
  {
   "cell_type": "code",
   "execution_count": 24,
   "id": "87b9595b",
   "metadata": {
    "execution": {
     "iopub.execute_input": "2022-03-20T07:09:24.149349Z",
     "iopub.status.busy": "2022-03-20T07:09:24.148930Z",
     "iopub.status.idle": "2022-03-20T07:13:13.914831Z",
     "shell.execute_reply": "2022-03-20T07:13:13.915500Z"
    },
    "papermill": {
     "duration": 229.798659,
     "end_time": "2022-03-20T07:13:13.915711",
     "exception": false,
     "start_time": "2022-03-20T07:09:24.117052",
     "status": "completed"
    },
    "tags": []
   },
   "outputs": [],
   "source": [
    "###################################\n",
    "# Evaluate the model\n",
    "###################################\n",
    "source_test_label_accuracy, source_test_label_loss = jig.test(datasets.source.processed.test)\n",
    "target_test_label_accuracy, target_test_label_loss = jig.test(datasets.target.processed.test)\n",
    "\n",
    "source_val_label_accuracy, source_val_label_loss = jig.test(datasets.source.processed.val)\n",
    "target_val_label_accuracy, target_val_label_loss = jig.test(datasets.target.processed.val)\n",
    "\n",
    "history = jig.get_history()\n",
    "\n",
    "total_epochs_trained = len(history[\"epoch_indices\"])\n",
    "\n",
    "val_dl = Iterable_Aggregator((datasets.source.original.val,datasets.target.original.val))\n",
    "\n",
    "confusion = ptn_confusion_by_domain_over_dataloader(model, p.device, val_dl)\n",
    "per_domain_accuracy = per_domain_accuracy_from_confusion(confusion)\n",
    "\n",
    "# Add a key to per_domain_accuracy for if it was a source domain\n",
    "for domain, accuracy in per_domain_accuracy.items():\n",
    "    per_domain_accuracy[domain] = {\n",
    "        \"accuracy\": accuracy,\n",
    "        \"source?\": domain in p.domains_source\n",
    "    }\n",
    "\n",
    "# Do an independent accuracy assesment JUST TO BE SURE!\n",
    "# _source_test_label_accuracy = independent_accuracy_assesment(model, datasets.source.processed.test, p.device)\n",
    "# _target_test_label_accuracy = independent_accuracy_assesment(model, datasets.target.processed.test, p.device)\n",
    "# _source_val_label_accuracy = independent_accuracy_assesment(model, datasets.source.processed.val, p.device)\n",
    "# _target_val_label_accuracy = independent_accuracy_assesment(model, datasets.target.processed.val, p.device)\n",
    "\n",
    "# assert(_source_test_label_accuracy == source_test_label_accuracy)\n",
    "# assert(_target_test_label_accuracy == target_test_label_accuracy)\n",
    "# assert(_source_val_label_accuracy == source_val_label_accuracy)\n",
    "# assert(_target_val_label_accuracy == target_val_label_accuracy)\n",
    "\n",
    "experiment = {\n",
    "    \"experiment_name\": p.experiment_name,\n",
    "    \"parameters\": dict(p),\n",
    "    \"results\": {\n",
    "        \"source_test_label_accuracy\": source_test_label_accuracy,\n",
    "        \"source_test_label_loss\": source_test_label_loss,\n",
    "        \"target_test_label_accuracy\": target_test_label_accuracy,\n",
    "        \"target_test_label_loss\": target_test_label_loss,\n",
    "        \"source_val_label_accuracy\": source_val_label_accuracy,\n",
    "        \"source_val_label_loss\": source_val_label_loss,\n",
    "        \"target_val_label_accuracy\": target_val_label_accuracy,\n",
    "        \"target_val_label_loss\": target_val_label_loss,\n",
    "        \"total_epochs_trained\": total_epochs_trained,\n",
    "        \"total_experiment_time_secs\": total_experiment_time_secs,\n",
    "        \"confusion\": confusion,\n",
    "        \"per_domain_accuracy\": per_domain_accuracy,\n",
    "    },\n",
    "    \"history\": history,\n",
    "    \"dataset_metrics\": get_dataset_metrics(datasets, \"ptn\"),\n",
    "}"
   ]
  },
  {
   "cell_type": "code",
   "execution_count": 25,
   "id": "54a21829",
   "metadata": {
    "execution": {
     "iopub.execute_input": "2022-03-20T07:13:13.996763Z",
     "iopub.status.busy": "2022-03-20T07:13:13.996491Z",
     "iopub.status.idle": "2022-03-20T07:13:14.129725Z",
     "shell.execute_reply": "2022-03-20T07:13:14.130155Z"
    },
    "papermill": {
     "duration": 0.176552,
     "end_time": "2022-03-20T07:13:14.130293",
     "exception": false,
     "start_time": "2022-03-20T07:13:13.953741",
     "status": "completed"
    },
    "tags": []
   },
   "outputs": [
    {
     "data": {
      "image/png": "[encoded data removed]",
      "text/plain": [
       "<Figure size 1080x504 with 1 Axes>"
      ]
     },
     "metadata": {
      "needs_background": "light"
     },
     "output_type": "display_data"
    }
   ],
   "source": [
    "ax = get_loss_curve(experiment)\n",
    "plt.show()"
   ]
  },
  {
   "cell_type": "code",
   "execution_count": 26,
   "id": "fd8a0f60",
   "metadata": {
    "execution": {
     "iopub.execute_input": "2022-03-20T07:13:14.197151Z",
     "iopub.status.busy": "2022-03-20T07:13:14.196886Z",
     "iopub.status.idle": "2022-03-20T07:13:14.341843Z",
     "shell.execute_reply": "2022-03-20T07:13:14.342131Z"
    },
    "papermill": {
     "duration": 0.177155,
     "end_time": "2022-03-20T07:13:14.342241",
     "exception": false,
     "start_time": "2022-03-20T07:13:14.165086",
     "status": "completed"
    },
    "tags": []
   },
   "outputs": [
    {
     "data": {
      "text/plain": [
       "<AxesSubplot:title={'center':'Results'}>"
      ]
     },
     "execution_count": 26,
     "metadata": {},
     "output_type": "execute_result"
    },
    {
     "data": {
      "image/png": "[encoded data removed]",
      "text/plain": [
       "<Figure size 1080x504 with 1 Axes>"
      ]
     },
     "metadata": {
      "needs_background": "light"
     },
     "output_type": "display_data"
    }
   ],
   "source": [
    "get_results_table(experiment)"
   ]
  },
  {
   "cell_type": "code",
   "execution_count": 27,
   "id": "cf8dc689",
   "metadata": {
    "execution": {
     "iopub.execute_input": "2022-03-20T07:13:14.410977Z",
     "iopub.status.busy": "2022-03-20T07:13:14.410378Z",
     "iopub.status.idle": "2022-03-20T07:13:14.568970Z",
     "shell.execute_reply": "2022-03-20T07:13:14.569385Z"
    },
    "papermill": {
     "duration": 0.192176,
     "end_time": "2022-03-20T07:13:14.569517",
     "exception": false,
     "start_time": "2022-03-20T07:13:14.377341",
     "status": "completed"
    },
    "tags": []
   },
   "outputs": [
    {
     "data": {
      "text/plain": [
       "<AxesSubplot:title={'center':'Per Domain Validation Accuracy'}, xlabel='domain'>"
      ]
     },
     "execution_count": 27,
     "metadata": {},
     "output_type": "execute_result"
    },
    {
     "data": {
      "image/png": "[encoded data removed]",
      "text/plain": [
       "<Figure size 1080x504 with 1 Axes>"
      ]
     },
     "metadata": {
      "needs_background": "light"
     },
     "output_type": "display_data"
    }
   ],
   "source": [
    "get_domain_accuracies(experiment)"
   ]
  },
  {
   "cell_type": "code",
   "execution_count": 28,
   "id": "a74ae082",
   "metadata": {
    "execution": {
     "iopub.execute_input": "2022-03-20T07:13:14.642588Z",
     "iopub.status.busy": "2022-03-20T07:13:14.642316Z",
     "iopub.status.idle": "2022-03-20T07:13:14.659223Z",
     "shell.execute_reply": "2022-03-20T07:13:14.658779Z"
    },
    "papermill": {
     "duration": 0.052609,
     "end_time": "2022-03-20T07:13:14.659361",
     "exception": false,
     "start_time": "2022-03-20T07:13:14.606752",
     "status": "completed"
    },
    "tags": []
   },
   "outputs": [
    {
     "name": "stdout",
     "output_type": "stream",
     "text": [
      "Source Test Label Accuracy: 0.9854290339989207 Target Test Label Accuracy: 0.19580078125\n",
      "Source Val Label Accuracy: 0.9863614474408365 Target Val Label Accuracy: 0.19850260416666668\n"
     ]
    }
   ],
   "source": [
    "print(\"Source Test Label Accuracy:\", experiment[\"results\"][\"source_test_label_accuracy\"], \"Target Test Label Accuracy:\", experiment[\"results\"][\"target_test_label_accuracy\"])\n",
    "print(\"Source Val Label Accuracy:\", experiment[\"results\"][\"source_val_label_accuracy\"], \"Target Val Label Accuracy:\", experiment[\"results\"][\"target_val_label_accuracy\"])"
   ]
  },
  {
   "cell_type": "code",
   "execution_count": 29,
   "id": "dacca602",
   "metadata": {
    "execution": {
     "iopub.execute_input": "2022-03-20T07:13:14.732763Z",
     "iopub.status.busy": "2022-03-20T07:13:14.732497Z",
     "iopub.status.idle": "2022-03-20T07:13:14.750773Z",
     "shell.execute_reply": "2022-03-20T07:13:14.751206Z"
    },
    "papermill": {
     "duration": 0.055484,
     "end_time": "2022-03-20T07:13:14.751405",
     "exception": false,
     "start_time": "2022-03-20T07:13:14.695921",
     "status": "completed"
    },
    "tags": [
     "experiment_json"
    ]
   },
   "outputs": [
    {
     "data": {
      "text/plain": [
       "'{\"experiment_name\": \"tl_2v2:cores+wisig -> oracle.run1.framed\", \"parameters\": {\"experiment_name\": \"tl_2v2:cores+wisig -> oracle.run1.framed\", \"device\": \"cuda\", \"lr\": 0.0001, \"n_shot\": 3, \"n_query\": 2, \"train_k_factor\": 3, \"val_k_factor\": 2, \"test_k_factor\": 2, \"torch_default_dtype\": \"torch.float32\", \"n_epoch\": 50, \"patience\": 3, \"criteria_for_best\": \"target_accuracy\", \"x_net\": [{\"class\": \"nnReshape\", \"kargs\": {\"shape\": [-1, 1, 2, 256]}}, {\"class\": \"Conv2d\", \"kargs\": {\"in_channels\": 1, \"out_channels\": 256, \"kernel_size\": [1, 7], \"bias\": false, \"padding\": [0, 3]}}, {\"class\": \"ReLU\", \"kargs\": {\"inplace\": true}}, {\"class\": \"BatchNorm2d\", \"kargs\": {\"num_features\": 256}}, {\"class\": \"Conv2d\", \"kargs\": {\"in_channels\": 256, \"out_channels\": 80, \"kernel_size\": [2, 7], \"bias\": true, \"padding\": [0, 3]}}, {\"class\": \"ReLU\", \"kargs\": {\"inplace\": true}}, {\"class\": \"BatchNorm2d\", \"kargs\": {\"num_features\": 80}}, {\"class\": \"Flatten\", \"kargs\": {}}, {\"class\": \"Linear\", \"kargs\": {\"in_features\": 20480, \"out_features\": 256}}, {\"class\": \"ReLU\", \"kargs\": {\"inplace\": true}}, {\"class\": \"BatchNorm1d\", \"kargs\": {\"num_features\": 256}}, {\"class\": \"Linear\", \"kargs\": {\"in_features\": 256, \"out_features\": 256}}], \"NUM_LOGS_PER_EPOCH\": 10, \"BEST_MODEL_PATH\": \"./best_model.pth\", \"n_way\": 16, \"datasets\": [{\"labels\": [\"1-10.\", \"1-11.\", \"1-15.\", \"1-16.\", \"1-17.\", \"1-18.\", \"1-19.\", \"10-4.\", \"10-7.\", \"11-1.\", \"11-14.\", \"11-17.\", \"11-20.\", \"11-7.\", \"13-20.\", \"13-8.\", \"14-10.\", \"14-11.\", \"14-14.\", \"14-7.\", \"15-1.\", \"15-20.\", \"16-1.\", \"16-16.\", \"17-10.\", \"17-11.\", \"17-2.\", \"19-1.\", \"19-16.\", \"19-19.\", \"19-20.\", \"19-3.\", \"2-10.\", \"2-11.\", \"2-17.\", \"2-18.\", \"2-20.\", \"2-3.\", \"2-4.\", \"2-5.\", \"2-6.\", \"2-7.\", \"2-8.\", \"3-13.\", \"3-18.\", \"3-3.\", \"4-1.\", \"4-10.\", \"4-11.\", \"4-19.\", \"5-5.\", \"6-15.\", \"7-10.\", \"7-14.\", \"8-18.\", \"8-20.\", \"8-3.\", \"8-8.\"], \"domains\": [1, 2, 3, 4, 5], \"num_examples_per_domain_per_label\": -1, \"pickle_path\": \"/mnt/wd500GB/CSC500/csc500-main/datasets/cores.stratified_ds.2022A.pkl\", \"source_or_target_dataset\": \"source\", \"x_transforms\": [\"unit_power\"], \"episode_transforms\": [], \"domain_prefix\": \"C_\"}, {\"labels\": [\"1-10\", \"1-12\", \"1-14\", \"1-16\", \"1-18\", \"1-19\", \"1-8\", \"10-11\", \"10-17\", \"10-4\", \"10-7\", \"11-1\", \"11-10\", \"11-19\", \"11-20\", \"11-4\", \"11-7\", \"12-19\", \"12-20\", \"12-7\", \"13-14\", \"13-18\", \"13-19\", \"13-20\", \"13-3\", \"13-7\", \"14-10\", \"14-11\", \"14-12\", \"14-13\", \"14-14\", \"14-19\", \"14-20\", \"14-7\", \"14-8\", \"14-9\", \"15-1\", \"15-19\", \"15-6\", \"16-1\", \"16-16\", \"16-19\", \"16-20\", \"17-10\", \"17-11\", \"18-1\", \"18-10\", \"18-11\", \"18-12\", \"18-13\", \"18-14\", \"18-15\", \"18-16\", \"18-17\", \"18-19\", \"18-2\", \"18-20\", \"18-4\", \"18-5\", \"18-7\", \"18-8\", \"18-9\", \"19-1\", \"19-10\", \"19-11\", \"19-12\", \"19-13\", \"19-14\", \"19-15\", \"19-19\", \"19-2\", \"19-20\", \"19-3\", \"19-4\", \"19-6\", \"19-7\", \"19-8\", \"19-9\", \"2-1\", \"2-13\", \"2-15\", \"2-3\", \"2-4\", \"2-5\", \"2-6\", \"2-7\", \"2-8\", \"20-1\", \"20-12\", \"20-14\", \"20-15\", \"20-16\", \"20-18\", \"20-19\", \"20-20\", \"20-3\", \"20-4\", \"20-5\", \"20-7\", \"20-8\", \"3-1\", \"3-13\", \"3-18\", \"3-2\", \"3-8\", \"4-1\", \"4-10\", \"4-11\", \"5-1\", \"5-5\", \"6-1\", \"6-15\", \"6-6\", \"7-10\", \"7-11\", \"7-12\", \"7-13\", \"7-14\", \"7-7\", \"7-8\", \"7-9\", \"8-1\", \"8-13\", \"8-14\", \"8-18\", \"8-20\", \"8-3\", \"8-8\", \"9-1\", \"9-7\"], \"domains\": [1, 2, 3, 4], \"num_examples_per_domain_per_label\": -1, \"pickle_path\": \"/mnt/wd500GB/CSC500/csc500-main/datasets/wisig.node3-19.stratified_ds.2022A.pkl\", \"source_or_target_dataset\": \"source\", \"x_transforms\": [\"unit_power\"], \"episode_transforms\": [], \"domain_prefix\": \"W_\"}, {\"labels\": [\"3123D52\", \"3123D65\", \"3123D79\", \"3123D80\", \"3123D54\", \"3123D70\", \"3123D7B\", \"3123D89\", \"3123D58\", \"3123D76\", \"3123D7D\", \"3123EFE\", \"3123D64\", \"3123D78\", \"3123D7E\", \"3124E4A\"], \"domains\": [32, 38, 8, 44, 14, 50, 20, 26], \"num_examples_per_domain_per_label\": 2000, \"pickle_path\": \"/mnt/wd500GB/CSC500/csc500-main/datasets/oracle.Run1_framed_2000Examples_stratified_ds.2022A.pkl\", \"source_or_target_dataset\": \"target\", \"x_transforms\": [\"unit_power\"], \"episode_transforms\": [], \"domain_prefix\": \"O_\"}], \"seed\": 154325, \"dataset_seed\": 154325, \"x_shape\": [2, 256], \"domains_source\": [\"C_1\", \"C_2\", \"C_3\", \"C_4\", \"C_5\", \"W_1\", \"W_2\", \"W_3\", \"W_4\"], \"domains_target\": [\"O_32\", \"O_38\", \"O_8\", \"O_44\", \"O_14\", \"O_50\", \"O_20\", \"O_26\"]}, \"results\": {\"source_test_label_accuracy\": 0.9854290339989207, \"source_test_label_loss\": 0.06494800001382828, \"target_test_label_accuracy\": 0.19580078125, \"target_test_label_loss\": 2.507927179336548, \"source_val_label_accuracy\": 0.9863614474408365, \"source_val_label_loss\": 0.0589606873691082, \"target_val_label_accuracy\": 0.19850260416666668, \"target_val_label_loss\": 2.5078465938568115, \"total_epochs_trained\": 7, \"total_experiment_time_secs\": 4398.270307064056, \"confusion\": {\"C_2\": {\"21\": {\"21\": 120}, \"4\": {\"4\": 130}, \"6\": {\"6\": 123, \"45\": 1}, \"10\": {\"10\": 112}, \"33\": {\"33\": 28}, \"56\": {\"56\": 122}, \"20\": {\"20\": 132}, \"24\": {\"24\": 96}, \"45\": {\"45\": 128}, \"32\": {\"32\": 28}, \"27\": {\"27\": 148}, \"53\": {\"53\": 136}, \"8\": {\"8\": 160}, \"54\": {\"54\": 108}, \"50\": {\"50\": 134}, \"44\": {\"44\": 100}, \"5\": {\"5\": 120}, \"38\": {\"38\": 20}, \"19\": {\"19\": 132}, \"1\": {\"1\": 112}, \"30\": {\"30\": 144}, \"15\": {\"15\": 144}, \"23\": {\"23\": 146}, \"35\": {\"35\": 32}, \"22\": {\"22\": 128}, \"40\": {\"40\": 140}, \"46\": {\"46\": 126}, \"3\": {\"3\": 92}, \"48\": {\"48\": 148}, \"52\": {\"52\": 124}, \"2\": {\"2\": 32}, \"26\": {\"26\": 24}, \"17\": {\"17\": 104}, \"55\": {\"55\": 144}, \"51\": {\"51\": 122}, \"42\": {\"42\": 36}, \"41\": {\"41\": 20}, \"31\": {\"31\": 28}, \"16\": {\"16\": 138}, \"36\": {\"36\": 116}, \"49\": {\"49\": 24}, \"0\": {\"0\": 48}, \"18\": {\"18\": 48}, \"25\": {\"25\": 146}, \"9\": {\"9\": 122}, \"47\": {\"47\": 132}, \"7\": {\"7\": 36}, \"37\": {\"37\": 36}, \"13\": {\"13\": 116}, \"14\": {\"14\": 24}, \"34\": {\"34\": 28}, \"57\": {\"57\": 140}, \"11\": {\"11\": 138}, \"39\": {\"39\": 28}, \"12\": {\"12\": 92}, \"28\": {\"28\": 28}, \"29\": {\"29\": 128}, \"43\": {\"43\": 140}}, \"W_2\": {\"56\": {\"56\": 12}, \"12\": {\"12\": 84, \"88\": 2, \"26\": 1, \"70\": 1}, \"15\": {\"15\": 112, \"102\": 1, \"44\": 1, \"69\": 2}, \"26\": {\"26\": 129, \"24\": 1, \"69\": 1, \"127\": 1}, \"82\": {\"82\": 36}, \"9\": {\"9\": 32}, \"49\": {\"49\": 23, \"58\": 1}, \"55\": {\"55\": 16}, \"102\": {\"102\": 124}, \"85\": {\"85\": 32}, \"73\": {\"73\": 28}, \"47\": {\"47\": 9, \"15\": 1, \"84\": 1, \"94\": 1}, \"20\": {\"20\": 15, \"70\": 1}, \"117\": {\"117\": 112, \"87\": 1, \"21\": 2, \"70\": 1}, \"122\": {\"122\": 132, \"87\": 1, \"71\": 1, \"5\": 1, \"70\": 1, \"127\": 3, \"39\": 1}, \"113\": {\"113\": 70, \"90\": 1, \"107\": 1}, \"87\": {\"21\": 2, \"87\": 104, \"71\": 1, \"69\": 2, \"111\": 1, \"109\": 1, \"127\": 1}, \"21\": {\"21\": 43, \"31\": 1, \"78\": 2, \"68\": 1, \"122\": 1}, \"106\": {\"106\": 115, \"12\": 1, \"0\": 1, \"27\": 1, \"117\": 1, \"40\": 1}, \"3\": {\"3\": 132, \"88\": 1, \"7\": 1, \"122\": 1, \"24\": 1}, \"126\": {\"126\": 120}, \"41\": {\"41\": 19, \"62\": 1}, \"76\": {\"76\": 16}, \"60\": {\"60\": 28}, \"94\": {\"94\": 58, \"88\": 1, \"62\": 1, \"107\": 1, \"59\": 1, \"126\": 1, \"12\": 1}, \"50\": {\"50\": 16}, \"97\": {\"97\": 20}, \"115\": {\"115\": 12}, \"38\": {\"38\": 16}, \"43\": {\"43\": 117, \"111\": 1, \"94\": 1, \"106\": 1, \"113\": 1, \"40\": 1, \"78\": 1, \"109\": 1}, \"67\": {\"67\": 16}, \"18\": {\"18\": 121, \"107\": 1, \"0\": 3, \"97\": 1, \"86\": 1, \"94\": 1}, \"23\": {\"23\": 44}, \"63\": {\"63\": 20}, \"127\": {\"127\": 120, \"124\": 1, \"111\": 1, \"69\": 1, \"26\": 1}, \"72\": {\"72\": 26, \"77\": 1, \"31\": 1}, \"128\": {\"128\": 24}, \"7\": {\"7\": 124, \"13\": 1, \"26\": 1, \"127\": 1, \"33\": 1}, \"108\": {\"108\": 134}, \"16\": {\"16\": 104, \"88\": 1, \"5\": 1, \"69\": 1, \"97\": 1, \"40\": 1, \"31\": 1, \"77\": 1, \"21\": 2, \"122\": 1}, \"29\": {\"29\": 32}, \"61\": {\"61\": 19, \"91\": 1}, \"104\": {\"104\": 20}, \"120\": {\"120\": 20}, \"124\": {\"124\": 123, \"6\": 1}, \"34\": {\"34\": 31, \"45\": 1}, \"84\": {\"84\": 86, \"21\": 1, \"122\": 1, \"127\": 2, \"68\": 1, \"98\": 1}, \"103\": {\"103\": 16}, \"100\": {\"100\": 16}, \"40\": {\"40\": 130, \"11\": 1, \"12\": 1, \"21\": 2, \"113\": 1, \"69\": 1, \"117\": 1, \"39\": 1, \"5\": 1, \"88\": 1}, \"35\": {\"35\": 12}, \"96\": {\"96\": 20}, \"101\": {\"101\": 119, \"98\": 1}, \"71\": {\"71\": 95, \"107\": 1, \"0\": 1, \"62\": 2, \"105\": 1}, \"81\": {\"81\": 23, \"77\": 1}, \"74\": {\"74\": 14, \"36\": 1, \"121\": 1}, \"119\": {\"119\": 19, \"83\": 1}, \"5\": {\"5\": 108, \"17\": 1, \"69\": 1, \"127\": 1, \"126\": 1}, \"68\": {\"68\": 16}, \"37\": {\"68\": 1, \"37\": 15}, \"58\": {\"58\": 20}, \"109\": {\"13\": 1, \"109\": 94, \"18\": 1, \"16\": 1, \"88\": 3}, \"107\": {\"107\": 58, \"125\": 1, \"36\": 1, \"18\": 2, \"113\": 1, \"118\": 1}, \"13\": {\"13\": 11, \"72\": 2, \"94\": 1, \"9\": 1, \"111\": 1}, \"52\": {\"52\": 19, \"124\": 1}, \"77\": {\"77\": 15, \"72\": 1}, \"95\": {\"95\": 36}, \"44\": {\"44\": 100}, \"88\": {\"88\": 116, \"126\": 2, \"102\": 1, \"23\": 1, \"93\": 1, \"70\": 1}, \"91\": {\"91\": 27, \"5\": 1}, \"93\": {\"93\": 136, \"107\": 2}, \"8\": {\"8\": 121, \"109\": 2, \"18\": 1}, \"1\": {\"1\": 111, \"24\": 1, \"111\": 1, \"39\": 1}, \"45\": {\"45\": 14, \"59\": 1, \"60\": 1}, \"111\": {\"111\": 124, \"62\": 1, \"0\": 1}, \"116\": {\"116\": 28}, \"48\": {\"48\": 20}, \"57\": {\"57\": 18, \"68\": 1, \"23\": 1}, \"10\": {\"10\": 58, \"12\": 1, \"26\": 1}, \"129\": {\"129\": 32}, \"98\": {\"98\": 115, \"26\": 1, \"18\": 1, \"94\": 1}, \"65\": {\"65\": 19, \"10\": 1}, \"6\": {\"6\": 31, \"34\": 1}, \"75\": {\"75\": 15, \"111\": 1}, \"14\": {\"14\": 46, \"111\": 1, \"0\": 1}, \"30\": {\"30\": 105, \"12\": 2, \"88\": 1, \"111\": 1, \"16\": 1, \"89\": 1, \"36\": 1}, \"83\": {\"83\": 40}, \"69\": {\"69\": 124, \"109\": 1, \"24\": 1, \"110\": 1, \"127\": 1}, \"125\": {\"125\": 145, \"98\": 1}, \"31\": {\"31\": 20}, \"118\": {\"118\": 67, \"43\": 1}, \"53\": {\"53\": 16}, \"54\": {\"54\": 20}, \"92\": {\"92\": 28}, \"19\": {\"19\": 28}, \"27\": {\"27\": 61, \"69\": 1, \"72\": 1, \"81\": 1, \"36\": 4}, \"17\": {\"17\": 15, \"59\": 1}, \"4\": {\"4\": 87, \"16\": 1}, \"36\": {\"27\": 2, \"36\": 116, \"40\": 1, \"127\": 2, \"30\": 1, \"101\": 1, \"107\": 1, \"24\": 1, \"15\": 2, \"69\": 1}, \"90\": {\"90\": 133, \"2\": 1, \"16\": 1, \"26\": 1}, \"64\": {\"64\": 15, \"43\": 1}, \"66\": {\"66\": 20}, \"46\": {\"46\": 14, \"16\": 1, \"24\": 1}, \"86\": {\"86\": 32}, \"114\": {\"114\": 108, \"122\": 1, \"127\": 1}, \"32\": {\"32\": 34, \"75\": 1, \"60\": 1}, \"78\": {\"78\": 47, \"56\": 1}, \"33\": {\"33\": 136, \"111\": 1, \"18\": 1}, \"70\": {\"70\": 118, \"53\": 1, \"127\": 1, \"69\": 1, \"12\": 1, \"21\": 1, \"117\": 1}, \"0\": {\"0\": 112, \"117\": 1, \"26\": 1, \"69\": 1, \"98\": 1}, \"110\": {\"110\": 38, \"87\": 1, \"51\": 1}, \"2\": {\"2\": 31, \"55\": 1}, \"28\": {\"28\": 18, \"62\": 2}, \"51\": {\"51\": 20}, \"79\": {\"79\": 16}, \"42\": {\"42\": 28}, \"112\": {\"112\": 16}, \"89\": {\"89\": 36}, \"59\": {\"59\": 16}, \"105\": {\"105\": 126, \"127\": 1, \"69\": 1}, \"121\": {\"121\": 33, \"65\": 2, \"23\": 1}, \"11\": {\"11\": 75, \"24\": 1, \"49\": 1, \"68\": 1, \"88\": 1, \"18\": 1}, \"99\": {\"99\": 30, \"12\": 1, \"33\": 1}, \"25\": {\"25\": 16}, \"62\": {\"62\": 123, \"20\": 1, \"12\": 1, \"24\": 2, \"8\": 1}, \"123\": {\"123\": 16}, \"24\": {\"24\": 107, \"12\": 1, \"70\": 1, \"111\": 1, \"126\": 1, \"69\": 1}, \"80\": {\"80\": 16}, \"39\": {\"39\": 94, \"117\": 1, \"127\": 1, \"70\": 1, \"88\": 1, \"122\": 1, \"33\": 1}, \"22\": {\"22\": 19, \"111\": 1}}, \"W_4\": {\"32\": {\"32\": 26, \"13\": 1, \"72\": 1}, \"22\": {\"22\": 15, \"35\": 1}, \"69\": {\"69\": 113, \"108\": 1, \"71\": 1, \"111\": 2, \"70\": 1, \"126\": 1, \"105\": 1}, \"65\": {\"65\": 12}, \"91\": {\"91\": 23, \"42\": 1}, \"63\": {\"63\": 16}, \"127\": {\"88\": 1, \"127\": 105, \"111\": 1, \"69\": 1}, \"11\": {\"11\": 136, \"84\": 1, \"81\": 1}, \"12\": {\"12\": 93, \"88\": 1, \"69\": 1, \"126\": 1, \"122\": 1, \"118\": 1, \"87\": 1, \"24\": 1}, \"111\": {\"111\": 125, \"105\": 1, \"95\": 1, \"27\": 1}, \"53\": {\"53\": 15, \"122\": 1}, \"73\": {\"73\": 22, \"35\": 2}, \"3\": {\"3\": 134, \"21\": 1, \"88\": 1}, \"83\": {\"83\": 27, \"38\": 1}, \"88\": {\"88\": 126, \"70\": 4}, \"87\": {\"87\": 130, \"108\": 1, \"105\": 1}, \"2\": {\"2\": 28}, \"86\": {\"86\": 28}, \"16\": {\"16\": 119, \"21\": 1, \"111\": 1, \"39\": 1}, \"21\": {\"21\": 35, \"82\": 1, \"62\": 1, \"27\": 1, \"51\": 1, \"110\": 1}, \"96\": {\"96\": 19, \"78\": 1}, \"100\": {\"100\": 20}, \"7\": {\"7\": 118, \"108\": 1, \"43\": 1}, \"75\": {\"75\": 15, \"54\": 1}, \"10\": {\"10\": 119, \"108\": 1, \"5\": 1, \"27\": 1, \"126\": 1, \"69\": 1}, \"43\": {\"43\": 116, \"110\": 1, \"0\": 1, \"19\": 1, \"14\": 1}, \"92\": {\"92\": 27, \"70\": 1}, \"62\": {\"62\": 57, \"8\": 1, \"126\": 1, \"108\": 1}, \"31\": {\"31\": 16}, \"0\": {\"0\": 112, \"113\": 1, \"122\": 1}, \"45\": {\"45\": 16}, \"85\": {\"85\": 27, \"54\": 1}, \"119\": {\"119\": 16}, \"46\": {\"46\": 20}, \"71\": {\"71\": 102, \"108\": 1, \"109\": 1}, \"8\": {\"8\": 130, \"5\": 1, \"40\": 1, \"70\": 1, \"26\": 1}, \"118\": {\"118\": 107, \"90\": 1, \"69\": 1, \"1\": 1, \"15\": 1, \"108\": 1}, \"1\": {\"1\": 101, \"90\": 1, \"84\": 1, \"106\": 1, \"124\": 1, \"21\": 1, \"15\": 1, \"101\": 1}, \"38\": {\"38\": 15, \"26\": 1}, \"30\": {\"30\": 72, \"111\": 1, \"108\": 1, \"21\": 1, \"34\": 1}, \"66\": {\"66\": 16}, \"9\": {\"9\": 28}, \"5\": {\"5\": 135, \"72\": 1}, \"24\": {\"24\": 112, \"30\": 1, \"26\": 1, \"27\": 1, \"36\": 4, \"10\": 1}, \"97\": {\"16\": 1, \"97\": 19}, \"67\": {\"67\": 15, \"113\": 1}, \"19\": {\"19\": 28}, \"77\": {\"77\": 12}, \"26\": {\"26\": 116, \"111\": 1, \"1\": 1}, \"115\": {\"10\": 1, \"115\": 15}, \"50\": {\"50\": 16}, \"120\": {\"120\": 20}, \"102\": {\"102\": 127, \"26\": 1}, \"29\": {\"29\": 32}, \"44\": {\"44\": 63, \"113\": 1}, \"124\": {\"124\": 117, \"118\": 1}, \"78\": {\"78\": 26, \"17\": 1, \"21\": 1, \"0\": 1, \"88\": 3, \"84\": 1, \"14\": 1, \"105\": 1, \"43\": 1}, \"104\": {\"104\": 16}, \"105\": {\"105\": 93, \"117\": 1, \"40\": 1, \"87\": 2, \"62\": 1, \"7\": 1, \"36\": 1}, \"28\": {\"28\": 20}, \"37\": {\"37\": 16}, \"107\": {\"107\": 128, \"84\": 1, \"108\": 1, \"39\": 1, \"15\": 1}, \"6\": {\"6\": 24}, \"17\": {\"17\": 18, \"104\": 2}, \"57\": {\"57\": 16}, \"121\": {\"121\": 25, \"57\": 1, \"13\": 1, \"74\": 1, \"51\": 1, \"21\": 1, \"60\": 1, \"89\": 1}, \"58\": {\"58\": 16}, \"64\": {\"64\": 16}, \"82\": {\"82\": 32}, \"39\": {\"39\": 98, \"27\": 1, \"124\": 1}, \"110\": {\"110\": 116, \"61\": 1, \"0\": 2, \"14\": 1, \"21\": 1, \"18\": 1, \"8\": 1, \"88\": 1}, \"114\": {\"114\": 126, \"39\": 1, \"71\": 1}, \"20\": {\"20\": 16}, \"117\": {\"117\": 114}, \"18\": {\"18\": 119, \"88\": 1}, \"99\": {\"99\": 40}, \"23\": {\"23\": 11, \"123\": 1, \"39\": 1, \"129\": 1, \"51\": 1, \"7\": 1}, \"128\": {\"128\": 22, \"81\": 1, \"118\": 1}, \"60\": {\"60\": 32}, \"70\": {\"70\": 114, \"82\": 1, \"111\": 1, \"106\": 1, \"88\": 3}, \"122\": {\"122\": 80, \"106\": 1, \"18\": 1, \"5\": 1, \"43\": 1}, \"101\": {\"101\": 129, \"7\": 1, \"69\": 1, \"108\": 1}, \"33\": {\"33\": 129, \"66\": 1, \"95\": 1, \"124\": 1}, \"40\": {\"40\": 126, \"108\": 1, \"69\": 1, \"70\": 1, \"0\": 1}, \"41\": {\"41\": 14, \"13\": 1, \"21\": 1}, \"59\": {\"59\": 12}, \"4\": {\"4\": 96, \"35\": 1, \"40\": 1, \"8\": 1, \"108\": 2, \"107\": 1, \"1\": 1, \"101\": 1}, \"112\": {\"112\": 15, \"95\": 1}, \"36\": {\"36\": 124, \"24\": 2, \"62\": 1, \"88\": 1}, \"48\": {\"48\": 13, \"60\": 2, \"21\": 1}, \"126\": {\"126\": 114, \"40\": 1, \"0\": 1}, \"125\": {\"125\": 119, \"109\": 1, \"98\": 1, \"3\": 1}, \"84\": {\"84\": 118, \"21\": 1, \"39\": 1, \"111\": 2, \"126\": 1, \"40\": 2, \"88\": 1, \"107\": 1, \"101\": 1}, \"80\": {\"80\": 16}, \"49\": {\"49\": 32}, \"47\": {\"25\": 1, \"47\": 11}, \"95\": {\"95\": 32}, \"54\": {\"54\": 16}, \"25\": {\"25\": 16}, \"116\": {\"116\": 27, \"1\": 1}, \"74\": {\"74\": 16}, \"35\": {\"35\": 12}, \"15\": {\"15\": 125, \"0\": 1, \"108\": 1, \"111\": 1}, \"108\": {\"108\": 84, \"1\": 1, \"88\": 3, \"94\": 1, \"93\": 1, \"19\": 1, \"51\": 1}, \"34\": {\"34\": 29, \"6\": 2, \"124\": 1}, \"81\": {\"81\": 35, \"73\": 1}, \"93\": {\"93\": 128}, \"55\": {\"55\": 16}, \"27\": {\"27\": 94, \"122\": 1, \"26\": 1, \"126\": 1, \"108\": 1, \"109\": 1, \"15\": 1}, \"109\": {\"109\": 107, \"16\": 1, \"90\": 1, \"108\": 1}, \"106\": {\"106\": 108, \"108\": 3, \"113\": 1, \"89\": 1, \"127\": 1, \"27\": 1, \"8\": 1}, \"68\": {\"68\": 15, \"108\": 1}, \"76\": {\"69\": 1, \"76\": 14, \"78\": 1}, \"103\": {\"103\": 15, \"106\": 1}, \"42\": {\"42\": 28}, \"129\": {\"129\": 28}, \"94\": {\"94\": 81, \"1\": 1, \"3\": 2, \"12\": 1, \"8\": 1, \"118\": 1, \"108\": 1}, \"123\": {\"123\": 16}, \"61\": {\"61\": 16}, \"51\": {\"4\": 1, \"51\": 9, \"49\": 1, \"111\": 1, \"21\": 1, \"6\": 1, \"47\": 2}, \"98\": {\"98\": 115, \"39\": 1, \"0\": 1, \"126\": 1}, \"56\": {\"56\": 12}, \"14\": {\"14\": 109, \"16\": 1, \"23\": 1, \"88\": 1}, \"90\": {\"90\": 137, \"126\": 1}, \"13\": {\"13\": 16}, \"89\": {\"89\": 32}, \"52\": {\"52\": 19, \"89\": 1}, \"72\": {\"72\": 32}, \"79\": {\"79\": 16}, \"113\": {\"113\": 122, \"26\": 1, \"69\": 1, \"108\": 1, \"39\": 1}}, \"W_1\": {\"68\": {\"68\": 16}, \"7\": {\"7\": 142}, \"125\": {\"125\": 118}, \"111\": {\"111\": 117, \"18\": 1, \"126\": 1, \"93\": 1}, \"101\": {\"101\": 123, \"65\": 1}, \"11\": {\"11\": 136}, \"76\": {\"76\": 16}, \"5\": {\"5\": 86, \"111\": 1, \"87\": 1}, \"123\": {\"123\": 14, \"21\": 1, \"95\": 1}, \"85\": {\"85\": 32}, \"34\": {\"34\": 26, \"125\": 2, \"14\": 4}, \"42\": {\"42\": 28}, \"81\": {\"81\": 28}, \"127\": {\"127\": 108}, \"60\": {\"60\": 15, \"14\": 1}, \"77\": {\"77\": 16}, \"65\": {\"65\": 12}, \"44\": {\"44\": 76}, \"100\": {\"100\": 16}, \"80\": {\"80\": 16}, \"83\": {\"83\": 26, \"1\": 1, \"77\": 1}, \"51\": {\"51\": 16}, \"93\": {\"93\": 132, \"24\": 1, \"87\": 1}, \"31\": {\"31\": 16}, \"33\": {\"33\": 124, \"69\": 1, \"45\": 1}, \"113\": {\"113\": 122, \"26\": 1, \"43\": 1}, \"126\": {\"126\": 122, \"62\": 1, \"26\": 1}, \"10\": {\"10\": 120}, \"21\": {\"21\": 37, \"93\": 1, \"59\": 1, \"27\": 1}, \"90\": {\"90\": 132}, \"38\": {\"38\": 16}, \"96\": {\"96\": 19, \"30\": 1}, \"6\": {\"6\": 32}, \"121\": {\"121\": 31, \"65\": 1}, \"37\": {\"37\": 16}, \"88\": {\"88\": 125, \"36\": 1}, \"54\": {\"54\": 16}, \"92\": {\"92\": 28}, \"19\": {\"19\": 28}, \"47\": {\"47\": 12}, \"94\": {\"94\": 89, \"84\": 1, \"69\": 1, \"62\": 1}, \"66\": {\"66\": 16}, \"73\": {\"73\": 19, \"59\": 1}, \"75\": {\"75\": 16}, \"28\": {\"28\": 19, \"113\": 1}, \"20\": {\"20\": 16}, \"78\": {\"21\": 1, \"78\": 14, \"87\": 1}, \"71\": {\"71\": 101, \"26\": 1, \"127\": 1, \"105\": 1}, \"13\": {\"13\": 16}, \"118\": {\"118\": 83, \"107\": 1}, \"72\": {\"72\": 32}, \"24\": {\"24\": 89, \"108\": 1, \"12\": 1, \"88\": 1}, \"41\": {\"41\": 16}, \"102\": {\"102\": 119, \"87\": 1}, \"8\": {\"118\": 1, \"8\": 137}, \"39\": {\"39\": 93, \"26\": 1, \"62\": 1, \"107\": 1}, \"97\": {\"97\": 19, \"6\": 1}, \"48\": {\"48\": 12}, \"57\": {\"57\": 12}, \"29\": {\"29\": 28}, \"119\": {\"119\": 16}, \"89\": {\"89\": 36}, \"40\": {\"40\": 140}, \"22\": {\"6\": 1, \"22\": 15}, \"53\": {\"53\": 19, \"49\": 1}, \"108\": {\"108\": 123, \"70\": 1}, \"23\": {\"23\": 23, \"25\": 1}, \"109\": {\"109\": 115, \"126\": 1}, \"112\": {\"112\": 16}, \"35\": {\"35\": 12}, \"3\": {\"3\": 84, \"113\": 1, \"36\": 1, \"107\": 1, \"12\": 1}, \"103\": {\"103\": 14, \"94\": 1, \"58\": 1}, \"4\": {\"4\": 98, \"109\": 1, \"17\": 1}, \"87\": {\"87\": 107, \"108\": 1}, \"25\": {\"127\": 1, \"25\": 14, \"73\": 1}, \"15\": {\"15\": 100, \"69\": 1, \"62\": 1, \"111\": 1, \"108\": 1}, \"95\": {\"95\": 36}, \"120\": {\"120\": 18, \"77\": 1, \"72\": 1}, \"59\": {\"59\": 11, \"96\": 1}, \"49\": {\"49\": 17, \"96\": 1, \"15\": 1, \"122\": 1}, \"52\": {\"52\": 19, \"101\": 1}, \"45\": {\"49\": 1, \"45\": 9, \"47\": 1, \"59\": 1}, \"107\": {\"107\": 124}, \"106\": {\"106\": 133, \"10\": 1}, \"18\": {\"18\": 124}, \"64\": {\"64\": 16}, \"86\": {\"86\": 35, \"87\": 1}, \"14\": {\"14\": 96}, \"115\": {\"115\": 12}, \"0\": {\"0\": 83, \"94\": 1}, \"104\": {\"104\": 16}, \"61\": {\"61\": 12}, \"129\": {\"129\": 28}, \"122\": {\"122\": 86, \"108\": 1, \"129\": 1}, \"67\": {\"67\": 14, \"108\": 1, \"68\": 1}, \"128\": {\"128\": 24}, \"26\": {\"26\": 131, \"105\": 2, \"126\": 1}, \"117\": {\"117\": 136}, \"91\": {\"91\": 27, \"86\": 1}, \"12\": {\"12\": 102, \"62\": 1, \"108\": 1}, \"50\": {\"50\": 16}, \"99\": {\"99\": 24}, \"110\": {\"110\": 104}, \"43\": {\"43\": 112, \"111\": 1, \"125\": 1, \"94\": 1, \"5\": 1}, \"82\": {\"82\": 36}, \"1\": {\"1\": 95, \"126\": 1}, \"46\": {\"12\": 2, \"46\": 9, \"72\": 1}, \"16\": {\"16\": 107, \"26\": 1}, \"74\": {\"74\": 15, \"62\": 1}, \"32\": {\"32\": 31, \"30\": 1}, \"62\": {\"62\": 118, \"127\": 1, \"102\": 1}, \"27\": {\"27\": 90, \"69\": 1, \"24\": 1}, \"17\": {\"17\": 16}, \"36\": {\"36\": 133, \"26\": 1}, \"2\": {\"2\": 32}, \"70\": {\"70\": 126, \"96\": 1, \"26\": 1}, \"9\": {\"9\": 32}, \"114\": {\"114\": 130}, \"79\": {\"79\": 12}, \"56\": {\"56\": 11, \"112\": 1}, \"124\": {\"124\": 102}, \"84\": {\"84\": 134}, \"69\": {\"69\": 108}, \"58\": {\"58\": 12}, \"30\": {\"30\": 52}, \"55\": {\"55\": 12}, \"105\": {\"105\": 84}, \"63\": {\"63\": 16}, \"98\": {\"98\": 107, \"13\": 1}, \"116\": {\"116\": 31, \"102\": 1}}, \"W_3\": {\"76\": {\"76\": 16}, \"6\": {\"6\": 29, \"58\": 1, \"9\": 1, \"45\": 1}, \"108\": {\"108\": 106}, \"29\": {\"29\": 31, \"2\": 1}, \"83\": {\"83\": 24}, \"18\": {\"18\": 126, \"39\": 1, \"78\": 1}, \"54\": {\"54\": 16}, \"15\": {\"15\": 104}, \"100\": {\"100\": 16}, \"90\": {\"90\": 132, \"86\": 1, \"44\": 1, \"94\": 1, \"88\": 1}, \"26\": {\"26\": 130, \"18\": 1, \"5\": 1}, \"115\": {\"115\": 16}, \"94\": {\"94\": 83, \"30\": 1}, \"46\": {\"46\": 16}, \"121\": {\"121\": 31, \"29\": 1}, \"109\": {\"109\": 128}, \"101\": {\"101\": 51, \"1\": 1}, \"99\": {\"99\": 36}, \"8\": {\"8\": 126, \"5\": 1, \"27\": 1}, \"102\": {\"102\": 104}, \"122\": {\"122\": 58, \"90\": 1, \"128\": 1}, \"36\": {\"36\": 113, \"24\": 1, \"27\": 1, \"98\": 1}, \"113\": {\"113\": 119, \"126\": 1}, \"123\": {\"123\": 16}, \"120\": {\"120\": 20}, \"125\": {\"125\": 107, \"30\": 1}, \"89\": {\"89\": 27, \"87\": 1}, \"9\": {\"9\": 32}, \"31\": {\"31\": 20}, \"62\": {\"62\": 112, \"105\": 2}, \"49\": {\"49\": 22, \"42\": 1, \"29\": 1}, \"23\": {\"23\": 31, \"119\": 1}, \"55\": {\"55\": 16}, \"128\": {\"128\": 32}, \"71\": {\"71\": 67, \"127\": 1}, \"51\": {\"51\": 16}, \"7\": {\"7\": 106}, \"117\": {\"117\": 104}, \"28\": {\"28\": 16}, \"127\": {\"127\": 127, \"17\": 1}, \"57\": {\"57\": 20}, \"78\": {\"78\": 11, \"84\": 2, \"16\": 1, \"17\": 1, \"61\": 1}, \"87\": {\"87\": 119, \"27\": 1}, \"40\": {\"40\": 126, \"23\": 1, \"69\": 1}, \"81\": {\"81\": 32}, \"2\": {\"2\": 28}, \"58\": {\"58\": 16}, \"68\": {\"68\": 15, \"101\": 1}, \"20\": {\"20\": 15, \"2\": 1}, \"35\": {\"35\": 12}, \"96\": {\"96\": 20}, \"84\": {\"84\": 108}, \"13\": {\"13\": 14, \"43\": 1, \"21\": 1}, \"64\": {\"64\": 20}, \"112\": {\"112\": 14, \"18\": 1, \"94\": 1}, \"103\": {\"103\": 16}, \"65\": {\"65\": 11, \"63\": 1}, \"118\": {\"118\": 100}, \"88\": {\"88\": 107, \"8\": 1, \"39\": 1, \"12\": 2, \"108\": 1}, \"85\": {\"85\": 36}, \"5\": {\"5\": 107, \"21\": 1, \"113\": 1, \"88\": 1, \"1\": 2}, \"93\": {\"93\": 137, \"90\": 1}, \"43\": {\"43\": 52, \"39\": 2, \"69\": 2}, \"67\": {\"67\": 15, \"3\": 1}, \"48\": {\"48\": 16}, \"73\": {\"73\": 38, \"92\": 1, \"62\": 1}, \"34\": {\"34\": 32}, \"91\": {\"91\": 23, \"21\": 1}, \"105\": {\"105\": 124}, \"10\": {\"10\": 105, \"105\": 1}, \"61\": {\"61\": 16}, \"74\": {\"74\": 13, \"19\": 1, \"62\": 2}, \"4\": {\"4\": 95, \"110\": 1}, \"37\": {\"37\": 16}, \"19\": {\"19\": 32}, \"44\": {\"44\": 72}, \"52\": {\"52\": 16}, \"92\": {\"92\": 32}, \"33\": {\"33\": 128}, \"45\": {\"45\": 16}, \"11\": {\"11\": 126, \"82\": 1, \"16\": 1}, \"129\": {\"129\": 32}, \"116\": {\"116\": 27, \"13\": 1}, \"75\": {\"75\": 16}, \"41\": {\"41\": 16}, \"21\": {\"21\": 44, \"43\": 1, \"94\": 1, \"101\": 2}, \"69\": {\"69\": 83, \"97\": 1}, \"16\": {\"16\": 107, \"21\": 1}, \"25\": {\"25\": 16}, \"12\": {\"12\": 103, \"16\": 1}, \"72\": {\"72\": 28}, \"0\": {\"0\": 115, \"26\": 1}, \"50\": {\"50\": 16}, \"107\": {\"107\": 140}, \"124\": {\"124\": 124}, \"53\": {\"53\": 19, \"127\": 1}, \"66\": {\"66\": 16}, \"47\": {\"47\": 12}, \"24\": {\"24\": 45, \"27\": 1, \"88\": 1, \"26\": 1}, \"95\": {\"95\": 31, \"23\": 1}, \"98\": {\"98\": 106}, \"63\": {\"63\": 16}, \"3\": {\"3\": 113, \"27\": 1, \"113\": 1, \"18\": 1}, \"14\": {\"14\": 80}, \"1\": {\"1\": 108}, \"38\": {\"38\": 16}, \"110\": {\"110\": 88, \"68\": 1, \"18\": 2, \"12\": 1}, \"17\": {\"109\": 1, \"17\": 9, \"82\": 1, \"40\": 2, \"23\": 1, \"68\": 2}, \"30\": {\"30\": 83, \"93\": 1}, \"56\": {\"56\": 11, \"75\": 1}, \"27\": {\"27\": 90, \"36\": 3, \"16\": 1, \"21\": 1, \"30\": 1}, \"104\": {\"104\": 16}, \"97\": {\"97\": 20}, \"42\": {\"42\": 27, \"25\": 1}, \"39\": {\"39\": 108}, \"70\": {\"70\": 71, \"101\": 1}, \"86\": {\"86\": 28}, \"119\": {\"119\": 16}, \"77\": {\"77\": 16}, \"59\": {\"59\": 12}, \"22\": {\"22\": 16}, \"79\": {\"79\": 12}, \"80\": {\"80\": 16}, \"111\": {\"111\": 130, \"49\": 1, \"98\": 1}, \"82\": {\"82\": 28}, \"126\": {\"126\": 122, \"21\": 1, \"122\": 1}, \"32\": {\"32\": 31, \"18\": 1}, \"106\": {\"106\": 98, \"69\": 1, \"18\": 1}, \"60\": {\"60\": 27, \"110\": 1}, \"114\": {\"114\": 106, \"18\": 1, \"16\": 1}}, \"C_5\": {\"12\": {\"12\": 96}, \"8\": {\"8\": 142}, \"29\": {\"29\": 132}, \"57\": {\"57\": 126}, \"38\": {\"38\": 32}, \"23\": {\"23\": 124}, \"56\": {\"56\": 138}, \"49\": {\"49\": 36}, \"4\": {\"4\": 100}, \"48\": {\"48\": 136}, \"21\": {\"21\": 144}, \"30\": {\"30\": 128}, \"1\": {\"1\": 148}, \"34\": {\"34\": 36}, \"35\": {\"35\": 36}, \"55\": {\"55\": 152}, \"5\": {\"5\": 122}, \"52\": {\"52\": 126}, \"6\": {\"6\": 127, \"45\": 1}, \"36\": {\"36\": 92}, \"41\": {\"41\": 28}, \"3\": {\"3\": 100}, \"28\": {\"28\": 32}, \"18\": {\"18\": 64}, \"25\": {\"25\": 136}, \"47\": {\"47\": 100}, \"13\": {\"13\": 160}, \"11\": {\"11\": 144}, \"53\": {\"53\": 144}, \"33\": {\"33\": 32}, \"46\": {\"46\": 148}, \"50\": {\"50\": 148}, \"10\": {\"10\": 68}, \"15\": {\"15\": 138}, \"44\": {\"44\": 140}, \"2\": {\"2\": 28}, \"7\": {\"7\": 32}, \"43\": {\"43\": 138}, \"32\": {\"32\": 32}, \"0\": {\"0\": 124}, \"39\": {\"39\": 20}, \"26\": {\"26\": 24}, \"27\": {\"27\": 112}, \"54\": {\"54\": 112}, \"17\": {\"17\": 116}, \"14\": {\"14\": 40, \"0\": 1, \"31\": 3}, \"16\": {\"16\": 148}, \"9\": {\"9\": 148}, \"19\": {\"19\": 152}, \"20\": {\"20\": 138}, \"37\": {\"37\": 24}, \"24\": {\"24\": 80}, \"40\": {\"40\": 122}, \"45\": {\"45\": 124}, \"22\": {\"22\": 28}, \"42\": {\"42\": 38, \"52\": 1, \"2\": 1}, \"51\": {\"51\": 118}, \"31\": {\"31\": 36}}, \"C_1\": {\"27\": {\"27\": 142}, \"2\": {\"2\": 36}, \"33\": {\"33\": 32}, \"45\": {\"45\": 156}, \"38\": {\"38\": 24}, \"4\": {\"4\": 132}, \"31\": {\"31\": 28}, \"55\": {\"55\": 140}, \"32\": {\"32\": 32}, \"57\": {\"57\": 140}, \"14\": {\"14\": 24}, \"16\": {\"16\": 140}, \"34\": {\"34\": 24}, \"56\": {\"56\": 126}, \"24\": {\"24\": 108}, \"30\": {\"30\": 112}, \"17\": {\"17\": 64}, \"13\": {\"13\": 138}, \"39\": {\"39\": 28}, \"50\": {\"50\": 146}, \"20\": {\"20\": 140}, \"41\": {\"41\": 24}, \"53\": {\"53\": 126}, \"48\": {\"48\": 142}, \"36\": {\"36\": 64}, \"8\": {\"8\": 140}, \"15\": {\"15\": 132}, \"40\": {\"40\": 156}, \"37\": {\"37\": 32}, \"21\": {\"21\": 120}, \"35\": {\"35\": 36}, \"49\": {\"49\": 32}, \"26\": {\"26\": 24}, \"28\": {\"28\": 28}, \"12\": {\"12\": 116}, \"5\": {\"5\": 152}, \"29\": {\"29\": 140}, \"47\": {\"47\": 140}, \"10\": {\"10\": 96}, \"18\": {\"18\": 71, \"50\": 1}, \"9\": {\"9\": 126}, \"3\": {\"3\": 140}, \"52\": {\"52\": 132}, \"25\": {\"25\": 136}, \"19\": {\"19\": 156}, \"11\": {\"11\": 136}, \"7\": {\"7\": 28}, \"23\": {\"23\": 136}, \"44\": {\"44\": 132}, \"42\": {\"42\": 40}, \"54\": {\"54\": 104}, \"1\": {\"1\": 100}, \"46\": {\"46\": 127, \"50\": 1}, \"6\": {\"6\": 96}, \"43\": {\"43\": 144}, \"51\": {\"51\": 142}, \"22\": {\"22\": 136}, \"0\": {\"0\": 128}}, \"C_4\": {\"32\": {\"32\": 24}, \"2\": {\"2\": 36}, \"41\": {\"41\": 36}, \"11\": {\"11\": 102}, \"57\": {\"57\": 100}, \"6\": {\"6\": 112}, \"23\": {\"23\": 136}, \"52\": {\"52\": 116}, \"38\": {\"38\": 40}, \"50\": {\"50\": 132}, \"55\": {\"55\": 152}, \"46\": {\"46\": 154}, \"37\": {\"37\": 24}, \"20\": {\"20\": 118}, \"49\": {\"49\": 20}, \"45\": {\"45\": 96}, \"54\": {\"54\": 108}, \"3\": {\"3\": 124}, \"13\": {\"13\": 152}, \"18\": {\"18\": 108}, \"21\": {\"21\": 125, \"51\": 1}, \"43\": {\"43\": 144}, \"47\": {\"47\": 120}, \"4\": {\"4\": 132}, \"12\": {\"12\": 92}, \"9\": {\"9\": 128}, \"7\": {\"7\": 24}, \"56\": {\"56\": 112}, \"28\": {\"28\": 32}, \"44\": {\"44\": 132}, \"24\": {\"24\": 56}, \"33\": {\"33\": 36}, \"35\": {\"35\": 40}, \"51\": {\"51\": 138}, \"39\": {\"39\": 20}, \"36\": {\"36\": 92}, \"19\": {\"19\": 140}, \"0\": {\"0\": 78, \"46\": 2}, \"15\": {\"15\": 136}, \"29\": {\"29\": 122, \"57\": 2}, \"30\": {\"30\": 44}, \"1\": {\"1\": 40}, \"22\": {\"22\": 128}, \"40\": {\"40\": 146}, \"8\": {\"8\": 128}, \"53\": {\"53\": 138}, \"34\": {\"34\": 24}, \"10\": {\"10\": 122}, \"31\": {\"31\": 28}, \"17\": {\"17\": 80}, \"16\": {\"16\": 96}, \"42\": {\"42\": 32}, \"27\": {\"27\": 142}, \"14\": {\"14\": 16}, \"25\": {\"25\": 122}, \"48\": {\"48\": 132}, \"26\": {\"26\": 24}, \"5\": {\"5\": 108}}, \"C_3\": {\"14\": {\"14\": 40}, \"18\": {\"18\": 84}, \"30\": {\"30\": 120}, \"16\": {\"16\": 156}, \"1\": {\"1\": 100}, \"20\": {\"20\": 132}, \"7\": {\"7\": 36}, \"52\": {\"52\": 130}, \"9\": {\"9\": 140}, \"23\": {\"23\": 144}, \"55\": {\"55\": 164}, \"29\": {\"29\": 126}, \"56\": {\"56\": 134}, \"3\": {\"3\": 124}, \"42\": {\"42\": 28}, \"6\": {\"6\": 88}, \"5\": {\"5\": 116}, \"27\": {\"27\": 144}, \"47\": {\"47\": 92}, \"39\": {\"39\": 16}, \"34\": {\"34\": 32}, \"4\": {\"4\": 126}, \"24\": {\"24\": 104}, \"46\": {\"46\": 118}, \"50\": {\"50\": 126}, \"38\": {\"38\": 28}, \"54\": {\"54\": 100}, \"35\": {\"35\": 28}, \"2\": {\"2\": 32}, \"41\": {\"41\": 28}, \"57\": {\"57\": 118}, \"25\": {\"25\": 150}, \"48\": {\"48\": 116}, \"33\": {\"33\": 28}, \"45\": {\"45\": 60}, \"13\": {\"13\": 126}, \"36\": {\"36\": 100}, \"43\": {\"43\": 132}, \"28\": {\"28\": 28}, \"0\": {\"0\": 124}, \"12\": {\"12\": 92}, \"31\": {\"31\": 28}, \"40\": {\"40\": 116}, \"44\": {\"44\": 87, \"36\": 1}, \"32\": {\"32\": 28}, \"26\": {\"26\": 24}, \"8\": {\"8\": 116}, \"10\": {\"10\": 64}, \"15\": {\"15\": 142}, \"21\": {\"21\": 128}, \"37\": {\"37\": 28}, \"17\": {\"17\": 108}, \"51\": {\"51\": 124}, \"53\": {\"53\": 144}, \"19\": {\"19\": 136}, \"49\": {\"49\": 20}, \"11\": {\"11\": 138}, \"22\": {\"22\": 130}}, \"O_8\": {\"13\": {\"15\": 6, \"4\": 17, \"12\": 7, \"14\": 26, \"0\": 25, \"10\": 22, \"11\": 11, \"7\": 20, \"5\": 18, \"6\": 22, \"1\": 7, \"13\": 27, \"2\": 14, \"8\": 8, \"9\": 3, \"3\": 7}, \"9\": {\"9\": 141, \"5\": 24, \"0\": 12, \"4\": 8, \"10\": 24, \"1\": 4, \"13\": 15, \"14\": 3, \"7\": 4, \"6\": 3, \"2\": 2}, \"15\": {\"15\": 35, \"0\": 5, \"13\": 10, \"8\": 21, \"12\": 36, \"1\": 15, \"2\": 17, \"14\": 9, \"6\": 18, \"7\": 13, \"11\": 17, \"3\": 30, \"10\": 5, \"5\": 4, \"4\": 5}, \"2\": {\"15\": 16, \"13\": 16, \"3\": 30, \"7\": 20, \"8\": 13, \"2\": 35, \"12\": 22, \"0\": 22, \"6\": 17, \"1\": 2, \"10\": 10, \"14\": 13, \"4\": 16, \"5\": 7, \"11\": 1}, \"3\": {\"2\": 45, \"3\": 38, \"6\": 19, \"12\": 39, \"0\": 6, \"15\": 29, \"10\": 5, \"13\": 12, \"7\": 16, \"8\": 10, \"4\": 11, \"14\": 4, \"11\": 1, \"1\": 5}, \"8\": {\"15\": 19, \"1\": 32, \"6\": 17, \"13\": 10, \"5\": 6, \"12\": 31, \"4\": 18, \"8\": 32, \"14\": 14, \"0\": 8, \"7\": 11, \"10\": 10, \"11\": 9, \"3\": 17, \"2\": 6}, \"5\": {\"1\": 25, \"4\": 22, \"13\": 24, \"5\": 44, \"10\": 17, \"0\": 17, \"6\": 16, \"14\": 19, \"11\": 26, \"7\": 13, \"8\": 6, \"3\": 2, \"12\": 3, \"15\": 4, \"2\": 2}, \"14\": {\"1\": 20, \"4\": 21, \"14\": 27, \"6\": 17, \"3\": 3, \"0\": 16, \"13\": 25, \"10\": 23, \"2\": 3, \"15\": 5, \"5\": 29, \"11\": 20, \"8\": 12, \"12\": 2, \"7\": 17}, \"1\": {\"5\": 25, \"13\": 17, \"7\": 13, \"14\": 21, \"6\": 21, \"11\": 24, \"10\": 17, \"4\": 23, \"1\": 27, \"15\": 18, \"8\": 16, \"3\": 6, \"12\": 5, \"2\": 4, \"0\": 3}, \"0\": {\"7\": 15, \"0\": 31, \"10\": 28, \"14\": 24, \"2\": 19, \"6\": 23, \"5\": 11, \"3\": 12, \"13\": 26, \"1\": 6, \"11\": 4, \"12\": 7, \"4\": 20, \"15\": 3, \"8\": 10, \"9\": 1}, \"10\": {\"1\": 18, \"8\": 8, \"7\": 25, \"10\": 29, \"4\": 30, \"13\": 24, \"9\": 3, \"14\": 24, \"3\": 5, \"5\": 18, \"11\": 13, \"2\": 7, \"12\": 3, \"0\": 17, \"6\": 15, \"15\": 1}, \"6\": {\"15\": 10, \"2\": 16, \"13\": 32, \"10\": 23, \"0\": 20, \"3\": 15, \"8\": 15, \"5\": 13, \"1\": 15, \"7\": 16, \"4\": 19, \"6\": 18, \"12\": 9, \"11\": 6, \"14\": 13}, \"11\": {\"1\": 38, \"2\": 5, \"10\": 17, \"13\": 11, \"6\": 19, \"11\": 40, \"4\": 18, \"5\": 31, \"8\": 14, \"7\": 5, \"15\": 9, \"0\": 4, \"14\": 22, \"12\": 6, \"3\": 1}, \"7\": {\"13\": 24, \"14\": 19, \"10\": 17, \"2\": 15, \"0\": 25, \"1\": 10, \"6\": 21, \"7\": 23, \"8\": 18, \"4\": 28, \"5\": 12, \"12\": 12, \"3\": 10, \"15\": 4, \"11\": 2}, \"4\": {\"8\": 15, \"4\": 24, \"15\": 10, \"0\": 15, \"11\": 16, \"10\": 22, \"6\": 16, \"1\": 19, \"14\": 18, \"13\": 22, \"7\": 24, \"2\": 9, \"5\": 15, \"12\": 8, \"3\": 6, \"9\": 1}, \"12\": {\"4\": 7, \"15\": 39, \"8\": 23, \"12\": 44, \"6\": 22, \"7\": 12, \"1\": 6, \"13\": 7, \"2\": 19, \"3\": 34, \"11\": 8, \"0\": 5, \"5\": 3, \"10\": 5, \"14\": 6}}, \"O_38\": {\"13\": {\"2\": 26, \"9\": 9, \"13\": 44, \"15\": 34, \"14\": 10, \"8\": 26, \"1\": 27, \"10\": 17, \"0\": 6, \"5\": 21, \"6\": 11, \"7\": 7, \"3\": 2}, \"12\": {\"0\": 6, \"4\": 49, \"12\": 105, \"10\": 17, \"7\": 6, \"8\": 3, \"14\": 34, \"11\": 18, \"5\": 1, \"15\": 1}, \"2\": {\"8\": 10, \"2\": 67, \"14\": 28, \"10\": 24, \"7\": 3, \"11\": 13, \"13\": 38, \"1\": 21, \"12\": 1, \"15\": 23, \"6\": 2, \"5\": 5, \"9\": 1, \"0\": 4}, \"9\": {\"6\": 56, \"9\": 47, \"1\": 27, \"3\": 31, \"0\": 6, \"8\": 12, \"5\": 27, \"7\": 7, \"13\": 14, \"15\": 12, \"10\": 1}, \"15\": {\"15\": 38, \"8\": 17, \"0\": 15, \"2\": 33, \"5\": 21, \"13\": 39, \"7\": 11, \"14\": 7, \"1\": 20, \"3\": 5, \"10\": 9, \"6\": 19, \"9\": 5, \"11\": 1}, \"5\": {\"5\": 39, \"3\": 18, \"7\": 27, \"8\": 35, \"13\": 11, \"9\": 19, \"0\": 23, \"1\": 12, \"6\": 18, \"10\": 10, \"2\": 7, \"14\": 2, \"15\": 17, \"12\": 1, \"4\": 1}, \"14\": {\"11\": 49, \"12\": 26, \"14\": 83, \"10\": 29, \"4\": 4, \"13\": 7, \"2\": 26, \"7\": 5, \"8\": 2, \"15\": 2, \"0\": 6, \"5\": 1}, \"0\": {\"5\": 39, \"9\": 11, \"7\": 26, \"13\": 15, \"0\": 39, \"8\": 33, \"3\": 20, \"2\": 2, \"6\": 10, \"15\": 14, \"12\": 4, \"11\": 5, \"10\": 14, \"1\": 1, \"4\": 4, \"14\": 3}, \"3\": {\"5\": 35, \"3\": 59, \"7\": 17, \"1\": 4, \"9\": 36, \"15\": 7, \"6\": 33, \"10\": 3, \"13\": 6, \"0\": 23, \"8\": 17}, \"1\": {\"1\": 62, \"9\": 16, \"6\": 25, \"15\": 37, \"13\": 29, \"8\": 12, \"2\": 24, \"10\": 5, \"7\": 1, \"5\": 18, \"3\": 3, \"0\": 7, \"14\": 1}, \"11\": {\"11\": 79, \"14\": 65, \"8\": 1, \"7\": 3, \"10\": 32, \"0\": 3, \"4\": 17, \"12\": 23, \"2\": 12, \"13\": 3, \"15\": 2}, \"7\": {\"7\": 60, \"0\": 33, \"5\": 31, \"10\": 34, \"12\": 4, \"3\": 15, \"8\": 27, \"13\": 9, \"15\": 10, \"4\": 3, \"2\": 2, \"1\": 1, \"14\": 2, \"9\": 1, \"6\": 6, \"11\": 2}, \"8\": {\"9\": 17, \"1\": 13, \"8\": 37, \"13\": 21, \"2\": 8, \"0\": 34, \"10\": 22, \"15\": 19, \"5\": 26, \"6\": 10, \"7\": 23, \"3\": 3, \"14\": 5, \"11\": 1, \"12\": 1}, \"4\": {\"4\": 125, \"8\": 1, \"11\": 30, \"10\": 9, \"12\": 55, \"7\": 6, \"14\": 8, \"0\": 6}, \"10\": {\"8\": 27, \"14\": 26, \"10\": 42, \"15\": 15, \"7\": 18, \"11\": 28, \"3\": 4, \"0\": 14, \"13\": 14, \"12\": 9, \"2\": 18, \"4\": 5, \"9\": 1, \"6\": 2, \"5\": 16, \"1\": 1}, \"6\": {\"9\": 44, \"5\": 33, \"3\": 27, \"6\": 57, \"8\": 9, \"13\": 12, \"1\": 31, \"0\": 8, \"15\": 15, \"10\": 2, \"7\": 2}}, \"O_26\": {\"10\": {\"6\": 16, \"1\": 19, \"5\": 9, \"7\": 23, \"15\": 11, \"9\": 9, \"0\": 25, \"2\": 12, \"4\": 20, \"8\": 19, \"10\": 23, \"14\": 22, \"12\": 7, \"3\": 17, \"13\": 8}, \"12\": {\"12\": 84, \"13\": 10, \"3\": 8, \"15\": 15, \"0\": 7, \"6\": 27, \"10\": 17, \"14\": 3, \"7\": 5, \"9\": 14, \"4\": 3, \"8\": 8, \"11\": 29, \"1\": 4, \"2\": 1, \"5\": 5}, \"1\": {\"14\": 29, \"6\": 12, \"10\": 22, \"1\": 37, \"15\": 7, \"3\": 24, \"4\": 25, \"8\": 23, \"0\": 20, \"7\": 25, \"13\": 2, \"9\": 6, \"2\": 7, \"5\": 1}, \"0\": {\"2\": 23, \"4\": 20, \"1\": 27, \"6\": 18, \"0\": 23, \"5\": 7, \"3\": 13, \"15\": 11, \"7\": 10, \"13\": 8, \"10\": 24, \"8\": 22, \"14\": 21, \"9\": 11, \"12\": 2}, \"15\": {\"8\": 20, \"6\": 20, \"10\": 19, \"4\": 12, \"2\": 17, \"7\": 14, \"9\": 19, \"15\": 22, \"12\": 5, \"3\": 15, \"0\": 18, \"1\": 13, \"5\": 17, \"14\": 8, \"11\": 7, \"13\": 14}, \"13\": {\"12\": 10, \"7\": 11, \"13\": 40, \"0\": 5, \"4\": 6, \"15\": 21, \"5\": 37, \"9\": 20, \"6\": 15, \"3\": 18, \"10\": 10, \"11\": 18, \"2\": 17, \"8\": 9, \"14\": 2, \"1\": 1}, \"8\": {\"12\": 5, \"3\": 24, \"6\": 24, \"1\": 16, \"2\": 19, \"15\": 21, \"13\": 13, \"4\": 10, \"10\": 20, \"14\": 23, \"7\": 20, \"8\": 11, \"0\": 15, \"9\": 9, \"11\": 1, \"5\": 9}, \"3\": {\"4\": 16, \"2\": 23, \"6\": 14, \"10\": 14, \"15\": 20, \"5\": 15, \"13\": 17, \"8\": 18, \"3\": 32, \"14\": 14, \"0\": 14, \"1\": 12, \"7\": 21, \"12\": 3, \"9\": 7}, \"11\": {\"11\": 90, \"12\": 53, \"5\": 12, \"6\": 14, \"0\": 2, \"13\": 27, \"9\": 10, \"8\": 5, \"7\": 5, \"15\": 8, \"2\": 4, \"4\": 3, \"3\": 1, \"10\": 5, \"1\": 1}, \"4\": {\"1\": 22, \"2\": 21, \"15\": 14, \"14\": 28, \"8\": 23, \"7\": 22, \"3\": 14, \"6\": 11, \"0\": 22, \"10\": 17, \"4\": 23, \"13\": 2, \"5\": 9, \"9\": 11, \"12\": 1}, \"6\": {\"0\": 16, \"15\": 27, \"6\": 30, \"12\": 21, \"5\": 18, \"10\": 13, \"13\": 19, \"9\": 20, \"8\": 14, \"2\": 14, \"1\": 4, \"3\": 4, \"11\": 7, \"4\": 11, \"7\": 13, \"14\": 9}, \"7\": {\"0\": 20, \"3\": 24, \"4\": 19, \"14\": 23, \"5\": 10, \"13\": 12, \"10\": 22, \"15\": 18, \"2\": 20, \"8\": 21, \"7\": 17, \"1\": 14, \"9\": 12, \"6\": 5, \"12\": 3}, \"14\": {\"1\": 24, \"8\": 17, \"2\": 17, \"4\": 19, \"6\": 16, \"3\": 17, \"10\": 25, \"7\": 21, \"0\": 26, \"14\": 27, \"15\": 11, \"13\": 3, \"5\": 7, \"9\": 8, \"12\": 2}, \"2\": {\"8\": 21, \"7\": 20, \"15\": 22, \"11\": 1, \"4\": 14, \"2\": 27, \"6\": 18, \"9\": 9, \"13\": 11, \"10\": 20, \"5\": 20, \"14\": 10, \"0\": 13, \"3\": 26, \"1\": 7, \"12\": 1}, \"5\": {\"3\": 22, \"2\": 19, \"11\": 8, \"4\": 8, \"9\": 23, \"13\": 24, \"6\": 22, \"15\": 16, \"7\": 13, \"8\": 15, \"0\": 8, \"10\": 10, \"14\": 14, \"12\": 10, \"5\": 25, \"1\": 3}, \"9\": {\"2\": 21, \"12\": 14, \"0\": 10, \"6\": 31, \"4\": 5, \"11\": 7, \"13\": 19, \"14\": 10, \"7\": 11, \"3\": 14, \"9\": 27, \"1\": 5, \"8\": 19, \"15\": 29, \"10\": 8, \"5\": 10}}, \"O_20\": {\"5\": {\"4\": 9, \"9\": 14, \"5\": 25, \"12\": 28, \"0\": 18, \"7\": 14, \"11\": 7, \"8\": 14, \"13\": 17, \"1\": 30, \"2\": 12, \"6\": 14, \"3\": 12, \"15\": 17, \"10\": 7, \"14\": 2}, \"15\": {\"15\": 19, \"13\": 29, \"12\": 20, \"9\": 16, \"1\": 22, \"7\": 25, \"5\": 18, \"2\": 16, \"6\": 6, \"0\": 24, \"3\": 13, \"4\": 9, \"8\": 9, \"11\": 7, \"14\": 4, \"10\": 3}, \"9\": {\"7\": 15, \"15\": 16, \"8\": 10, \"4\": 10, \"11\": 16, \"12\": 17, \"3\": 27, \"2\": 19, \"6\": 13, \"14\": 5, \"5\": 21, \"1\": 22, \"13\": 16, \"10\": 9, \"9\": 11, \"0\": 13}, \"7\": {\"8\": 13, \"6\": 14, \"7\": 17, \"12\": 20, \"3\": 19, \"13\": 12, \"11\": 14, \"5\": 19, \"1\": 17, \"14\": 12, \"9\": 15, \"10\": 11, \"15\": 19, \"4\": 8, \"2\": 21, \"0\": 9}, \"3\": {\"11\": 7, \"13\": 15, \"0\": 20, \"8\": 16, \"7\": 19, \"3\": 22, \"6\": 16, \"9\": 8, \"14\": 9, \"2\": 13, \"1\": 13, \"4\": 16, \"5\": 19, \"10\": 10, \"15\": 17, \"12\": 20}, \"8\": {\"15\": 15, \"0\": 19, \"8\": 19, \"1\": 7, \"7\": 21, \"4\": 29, \"5\": 16, \"12\": 10, \"11\": 5, \"14\": 16, \"6\": 17, \"9\": 12, \"3\": 11, \"2\": 7, \"10\": 24, \"13\": 12}, \"4\": {\"4\": 26, \"5\": 21, \"6\": 21, \"15\": 10, \"10\": 22, \"0\": 18, \"8\": 20, \"14\": 13, \"7\": 21, \"12\": 14, \"11\": 4, \"3\": 16, \"9\": 8, \"2\": 11, \"1\": 6, \"13\": 9}, \"6\": {\"4\": 16, \"6\": 28, \"15\": 7, \"13\": 9, \"12\": 20, \"2\": 23, \"14\": 25, \"5\": 11, \"8\": 22, \"0\": 9, \"11\": 5, \"9\": 15, \"3\": 7, \"10\": 18, \"7\": 14, \"1\": 11}, \"2\": {\"3\": 18, \"13\": 21, \"6\": 11, \"1\": 16, \"10\": 3, \"2\": 20, \"11\": 12, \"9\": 26, \"14\": 5, \"12\": 24, \"5\": 19, \"15\": 11, \"4\": 8, \"8\": 15, \"7\": 17, \"0\": 14}, \"12\": {\"7\": 21, \"13\": 14, \"4\": 12, \"15\": 23, \"0\": 17, \"12\": 18, \"2\": 15, \"3\": 23, \"9\": 19, \"5\": 16, \"1\": 14, \"14\": 3, \"10\": 9, \"11\": 8, \"6\": 17, \"8\": 11}, \"0\": {\"4\": 14, \"15\": 25, \"3\": 14, \"5\": 23, \"1\": 14, \"13\": 20, \"11\": 8, \"8\": 12, \"7\": 20, \"0\": 33, \"6\": 7, \"9\": 13, \"12\": 17, \"10\": 5, \"2\": 13, \"14\": 2}, \"13\": {\"15\": 30, \"9\": 18, \"7\": 14, \"2\": 17, \"6\": 6, \"11\": 17, \"0\": 26, \"1\": 19, \"5\": 13, \"3\": 15, \"14\": 6, \"12\": 21, \"13\": 30, \"10\": 2, \"8\": 5, \"4\": 1}, \"10\": {\"13\": 3, \"9\": 12, \"12\": 15, \"6\": 30, \"10\": 31, \"7\": 15, \"3\": 18, \"8\": 24, \"4\": 26, \"1\": 6, \"2\": 13, \"5\": 10, \"14\": 28, \"11\": 3, \"15\": 3, \"0\": 3}, \"11\": {\"11\": 48, \"6\": 13, \"7\": 18, \"13\": 28, \"3\": 10, \"0\": 14, \"1\": 6, \"2\": 24, \"12\": 15, \"9\": 24, \"5\": 5, \"15\": 12, \"8\": 10, \"4\": 4, \"10\": 6, \"14\": 3}, \"14\": {\"14\": 40, \"8\": 30, \"7\": 20, \"6\": 33, \"1\": 8, \"10\": 26, \"5\": 9, \"2\": 8, \"4\": 19, \"0\": 9, \"12\": 8, \"3\": 13, \"15\": 7, \"9\": 6, \"13\": 2, \"11\": 2}, \"1\": {\"11\": 5, \"7\": 19, \"5\": 20, \"12\": 28, \"0\": 23, \"13\": 12, \"6\": 11, \"1\": 23, \"15\": 17, \"3\": 24, \"4\": 8, \"2\": 13, \"10\": 8, \"9\": 14, \"14\": 4, \"8\": 11}}, \"O_50\": {\"1\": {\"14\": 11, \"1\": 50, \"6\": 23, \"11\": 19, \"10\": 8, \"4\": 23, \"0\": 7, \"12\": 6, \"7\": 19, \"9\": 10, \"5\": 17, \"2\": 5, \"15\": 30, \"13\": 9, \"3\": 1, \"8\": 2}, \"2\": {\"2\": 76, \"10\": 22, \"1\": 7, \"0\": 52, \"14\": 30, \"3\": 1, \"13\": 3, \"8\": 14, \"9\": 3, \"11\": 7, \"12\": 8, \"5\": 6, \"6\": 4, \"7\": 4, \"4\": 3}, \"8\": {\"8\": 62, \"3\": 65, \"6\": 6, \"2\": 5, \"10\": 39, \"0\": 31, \"13\": 11, \"7\": 12, \"11\": 1, \"5\": 4, \"4\": 1, \"15\": 1, \"1\": 2}, \"7\": {\"3\": 18, \"10\": 22, \"11\": 8, \"15\": 13, \"13\": 32, \"8\": 20, \"6\": 21, \"1\": 16, \"5\": 25, \"7\": 43, \"0\": 5, \"4\": 15, \"2\": 1, \"14\": 1}, \"14\": {\"14\": 40, \"2\": 28, \"1\": 21, \"12\": 55, \"0\": 17, \"11\": 29, \"9\": 18, \"10\": 6, \"15\": 6, \"6\": 8, \"5\": 5, \"4\": 3, \"13\": 4}, \"6\": {\"10\": 25, \"15\": 16, \"13\": 39, \"6\": 31, \"8\": 5, \"7\": 26, \"4\": 15, \"5\": 25, \"1\": 25, \"11\": 11, \"14\": 5, \"3\": 3, \"0\": 10, \"9\": 2, \"12\": 2}, \"3\": {\"3\": 98, \"8\": 71, \"10\": 27, \"13\": 12, \"0\": 8, \"7\": 11, \"15\": 1, \"5\": 6, \"4\": 3, \"6\": 3}, \"4\": {\"1\": 30, \"15\": 31, \"5\": 30, \"11\": 23, \"4\": 28, \"7\": 21, \"6\": 17, \"10\": 14, \"9\": 10, \"13\": 21, \"0\": 7, \"8\": 1, \"2\": 3, \"14\": 3, \"3\": 1}, \"12\": {\"14\": 60, \"12\": 67, \"4\": 5, \"11\": 29, \"9\": 38, \"2\": 14, \"0\": 5, \"15\": 7, \"1\": 11, \"13\": 2, \"7\": 1, \"10\": 1}, \"15\": {\"5\": 28, \"11\": 21, \"13\": 21, \"6\": 19, \"1\": 33, \"7\": 23, \"15\": 33, \"10\": 3, \"9\": 11, \"14\": 7, \"4\": 32, \"12\": 2, \"0\": 7}, \"11\": {\"14\": 15, \"9\": 47, \"1\": 35, \"11\": 50, \"15\": 22, \"0\": 5, \"2\": 2, \"6\": 13, \"4\": 13, \"7\": 4, \"12\": 20, \"5\": 8, \"13\": 5, \"10\": 1}, \"0\": {\"6\": 18, \"10\": 40, \"1\": 6, \"8\": 28, \"12\": 5, \"5\": 7, \"0\": 57, \"2\": 34, \"14\": 7, \"7\": 5, \"13\": 15, \"15\": 2, \"3\": 4, \"4\": 7, \"9\": 1, \"11\": 4}, \"9\": {\"9\": 63, \"4\": 14, \"12\": 41, \"15\": 19, \"11\": 44, \"14\": 31, \"1\": 19, \"5\": 1, \"6\": 3, \"0\": 2, \"7\": 1, \"13\": 1, \"2\": 1}, \"10\": {\"0\": 30, \"1\": 20, \"3\": 21, \"6\": 14, \"10\": 33, \"8\": 37, \"14\": 4, \"7\": 17, \"5\": 21, \"11\": 2, \"15\": 4, \"2\": 11, \"4\": 6, \"13\": 20}, \"5\": {\"15\": 22, \"6\": 29, \"9\": 3, \"5\": 37, \"13\": 28, \"11\": 9, \"7\": 21, \"10\": 20, \"4\": 22, \"3\": 7, \"1\": 24, \"14\": 4, \"0\": 7, \"12\": 3, \"8\": 2, \"2\": 2}, \"13\": {\"10\": 23, \"15\": 29, \"7\": 26, \"0\": 10, \"11\": 4, \"3\": 5, \"8\": 7, \"4\": 11, \"1\": 20, \"6\": 27, \"14\": 7, \"13\": 35, \"2\": 1, \"5\": 33, \"9\": 1, \"12\": 1}}, \"O_32\": {\"2\": {\"13\": 9, \"7\": 17, \"4\": 53, \"9\": 23, \"2\": 38, \"0\": 24, \"11\": 13, \"5\": 27, \"14\": 21, \"3\": 3, \"8\": 10, \"12\": 2}, \"6\": {\"10\": 26, \"6\": 120, \"12\": 57, \"9\": 18, \"1\": 19}, \"5\": {\"2\": 18, \"5\": 35, \"14\": 15, \"8\": 21, \"4\": 31, \"7\": 38, \"3\": 12, \"11\": 9, \"13\": 28, \"0\": 27, \"9\": 5, \"12\": 1}, \"12\": {\"5\": 3, \"9\": 56, \"12\": 112, \"10\": 25, \"6\": 22, \"0\": 1, \"2\": 5, \"8\": 3, \"1\": 9, \"4\": 2, \"7\": 2}, \"13\": {\"8\": 31, \"3\": 32, \"13\": 30, \"0\": 33, \"11\": 13, \"4\": 17, \"14\": 14, \"7\": 24, \"5\": 28, \"9\": 2, \"2\": 13, \"15\": 3}, \"9\": {\"12\": 51, \"9\": 77, \"6\": 14, \"5\": 6, \"4\": 20, \"7\": 12, \"2\": 34, \"0\": 13, \"13\": 5, \"10\": 2, \"8\": 1, \"14\": 5}, \"11\": {\"13\": 19, \"8\": 12, \"11\": 58, \"5\": 26, \"4\": 16, \"3\": 20, \"14\": 34, \"7\": 26, \"0\": 18, \"2\": 11}, \"1\": {\"1\": 141, \"10\": 85, \"6\": 10, \"12\": 4}, \"3\": {\"13\": 45, \"3\": 65, \"5\": 21, \"0\": 13, \"4\": 3, \"11\": 19, \"8\": 44, \"14\": 9, \"15\": 4, \"2\": 1, \"7\": 16}, \"7\": {\"4\": 26, \"14\": 26, \"2\": 24, \"11\": 35, \"5\": 25, \"0\": 25, \"8\": 13, \"7\": 40, \"3\": 6, \"13\": 15, \"15\": 1, \"9\": 4}, \"14\": {\"14\": 39, \"5\": 23, \"2\": 19, \"3\": 7, \"7\": 28, \"13\": 22, \"11\": 40, \"0\": 27, \"4\": 23, \"8\": 11, \"9\": 1}, \"8\": {\"5\": 29, \"3\": 44, \"11\": 13, \"13\": 35, \"14\": 15, \"8\": 39, \"15\": 7, \"0\": 26, \"4\": 19, \"7\": 9, \"2\": 3, \"9\": 1}, \"4\": {\"5\": 27, \"2\": 43, \"4\": 34, \"7\": 33, \"11\": 13, \"3\": 8, \"8\": 18, \"12\": 1, \"9\": 14, \"0\": 23, \"14\": 12, \"13\": 14}, \"0\": {\"4\": 26, \"9\": 5, \"5\": 21, \"14\": 24, \"7\": 31, \"11\": 17, \"0\": 40, \"8\": 23, \"3\": 15, \"13\": 20, \"2\": 17, \"15\": 1}, \"10\": {\"6\": 17, \"10\": 128, \"12\": 36, \"1\": 58, \"9\": 1}, \"15\": {\"15\": 166, \"11\": 2, \"8\": 22, \"3\": 36, \"13\": 10, \"5\": 3, \"0\": 1}}, \"O_44\": {\"13\": {\"13\": 44, \"6\": 30, \"2\": 15, \"11\": 27, \"9\": 43, \"7\": 45, \"4\": 10, \"5\": 3, \"10\": 7, \"14\": 6, \"3\": 2, \"1\": 5, \"15\": 1, \"12\": 2}, \"4\": {\"4\": 49, \"6\": 3, \"15\": 30, \"14\": 53, \"9\": 21, \"5\": 25, \"3\": 9, \"8\": 12, \"0\": 12, \"7\": 10, \"13\": 11, \"2\": 3, \"11\": 1, \"1\": 1}, \"6\": {\"13\": 47, \"2\": 23, \"6\": 60, \"7\": 19, \"9\": 37, \"11\": 32, \"4\": 5, \"1\": 3, \"10\": 9, \"14\": 2, \"12\": 3}, \"0\": {\"15\": 41, \"0\": 68, \"8\": 61, \"14\": 19, \"5\": 43, \"4\": 8}, \"10\": {\"7\": 30, \"12\": 26, \"1\": 33, \"10\": 47, \"13\": 13, \"2\": 30, \"3\": 24, \"6\": 11, \"9\": 23, \"4\": 1, \"11\": 2}, \"7\": {\"7\": 31, \"1\": 15, \"9\": 37, \"13\": 29, \"6\": 25, \"14\": 4, \"10\": 25, \"2\": 33, \"11\": 11, \"12\": 10, \"3\": 12, \"4\": 7, \"15\": 1}, \"14\": {\"4\": 47, \"14\": 64, \"15\": 28, \"5\": 34, \"12\": 1, \"0\": 20, \"13\": 7, \"8\": 10, \"1\": 4, \"7\": 5, \"9\": 10, \"10\": 1, \"2\": 5, \"3\": 3, \"6\": 1}, \"15\": {\"15\": 46, \"8\": 55, \"0\": 50, \"5\": 39, \"14\": 30, \"4\": 14, \"13\": 1, \"3\": 5}, \"5\": {\"14\": 32, \"15\": 41, \"4\": 37, \"0\": 40, \"8\": 38, \"5\": 47, \"13\": 3, \"3\": 1, \"7\": 1}, \"2\": {\"2\": 35, \"7\": 34, \"10\": 38, \"12\": 28, \"9\": 29, \"13\": 18, \"4\": 2, \"6\": 19, \"11\": 8, \"1\": 18, \"3\": 10, \"14\": 1}, \"9\": {\"9\": 47, \"3\": 11, \"11\": 13, \"13\": 31, \"12\": 10, \"14\": 7, \"7\": 35, \"10\": 16, \"2\": 22, \"1\": 13, \"6\": 23, \"4\": 8, \"5\": 3, \"0\": 1}, \"12\": {\"12\": 59, \"1\": 62, \"7\": 20, \"2\": 16, \"10\": 38, \"3\": 36, \"9\": 6, \"13\": 3}, \"8\": {\"8\": 75, \"0\": 69, \"14\": 15, \"15\": 50, \"5\": 25, \"4\": 6}, \"3\": {\"4\": 7, \"1\": 60, \"12\": 46, \"3\": 66, \"14\": 9, \"2\": 11, \"9\": 10, \"10\": 13, \"7\": 15, \"13\": 2, \"0\": 1}, \"1\": {\"12\": 42, \"9\": 14, \"10\": 27, \"1\": 56, \"7\": 21, \"4\": 4, \"3\": 41, \"2\": 24, \"14\": 3, \"13\": 6, \"11\": 1, \"6\": 1}, \"11\": {\"9\": 19, \"6\": 36, \"11\": 104, \"7\": 25, \"10\": 8, \"13\": 35, \"2\": 12, \"5\": 1}}, \"O_14\": {\"1\": {\"10\": 14, \"5\": 28, \"14\": 5, \"2\": 12, \"7\": 37, \"11\": 3, \"4\": 34, \"0\": 14, \"3\": 20, \"1\": 31, \"15\": 18, \"13\": 9, \"6\": 4, \"9\": 4, \"8\": 7}, \"15\": {\"4\": 23, \"7\": 44, \"5\": 27, \"13\": 14, \"3\": 9, \"15\": 62, \"1\": 26, \"6\": 10, \"2\": 12, \"0\": 3, \"14\": 4, \"11\": 1, \"10\": 5}, \"10\": {\"14\": 15, \"4\": 23, \"6\": 17, \"15\": 5, \"11\": 23, \"3\": 25, \"10\": 34, \"5\": 11, \"2\": 13, \"0\": 25, \"13\": 16, \"9\": 12, \"1\": 15, \"12\": 2, \"7\": 3, \"8\": 1}, \"2\": {\"7\": 17, \"2\": 33, \"10\": 20, \"13\": 19, \"4\": 26, \"6\": 20, \"1\": 12, \"3\": 18, \"14\": 20, \"0\": 14, \"5\": 23, \"15\": 11, \"9\": 1, \"11\": 5, \"12\": 1}, \"9\": {\"12\": 58, \"8\": 21, \"11\": 41, \"9\": 61, \"0\": 11, \"4\": 9, \"5\": 7, \"3\": 11, \"10\": 13, \"1\": 5, \"2\": 3}, \"5\": {\"10\": 16, \"2\": 27, \"0\": 15, \"1\": 25, \"3\": 20, \"13\": 9, \"7\": 30, \"5\": 25, \"11\": 5, \"15\": 19, \"6\": 7, \"4\": 19, \"14\": 18, \"8\": 4, \"9\": 1}, \"7\": {\"2\": 13, \"5\": 31, \"1\": 36, \"7\": 46, \"4\": 30, \"15\": 27, \"3\": 20, \"14\": 6, \"10\": 9, \"11\": 2, \"13\": 9, \"0\": 6, \"6\": 3, \"8\": 2}, \"13\": {\"13\": 36, \"10\": 23, \"2\": 33, \"15\": 14, \"3\": 15, \"6\": 34, \"5\": 20, \"4\": 16, \"1\": 9, \"14\": 24, \"7\": 2, \"11\": 6, \"0\": 8}, \"8\": {\"5\": 16, \"8\": 66, \"9\": 42, \"0\": 24, \"13\": 1, \"12\": 10, \"1\": 22, \"10\": 7, \"4\": 16, \"11\": 9, \"3\": 17, \"7\": 9, \"2\": 1}, \"6\": {\"5\": 13, \"13\": 35, \"10\": 34, \"6\": 36, \"0\": 6, \"15\": 15, \"3\": 21, \"14\": 33, \"2\": 27, \"7\": 5, \"1\": 4, \"4\": 11}, \"3\": {\"10\": 25, \"4\": 26, \"14\": 15, \"0\": 24, \"3\": 25, \"6\": 8, \"1\": 16, \"5\": 24, \"9\": 3, \"2\": 21, \"13\": 17, \"15\": 5, \"7\": 9, \"11\": 17, \"12\": 3, \"8\": 2}, \"12\": {\"11\": 47, \"9\": 59, \"10\": 4, \"12\": 98, \"8\": 14, \"3\": 3, \"0\": 12, \"1\": 1, \"2\": 1, \"5\": 1}, \"0\": {\"7\": 5, \"10\": 28, \"0\": 33, \"3\": 37, \"11\": 25, \"12\": 6, \"14\": 15, \"9\": 18, \"6\": 6, \"4\": 21, \"5\": 17, \"13\": 7, \"2\": 8, \"1\": 9, \"8\": 2, \"15\": 3}, \"4\": {\"7\": 12, \"4\": 33, \"2\": 19, \"3\": 26, \"6\": 10, \"1\": 24, \"13\": 15, \"5\": 28, \"15\": 16, \"14\": 10, \"10\": 18, \"0\": 18, \"8\": 4, \"11\": 3, \"9\": 4}, \"14\": {\"6\": 32, \"3\": 18, \"2\": 27, \"0\": 12, \"5\": 22, \"14\": 30, \"10\": 33, \"13\": 21, \"4\": 16, \"15\": 8, \"11\": 14, \"1\": 3, \"9\": 3, \"7\": 1}, \"11\": {\"9\": 30, \"12\": 24, \"3\": 20, \"10\": 33, \"4\": 10, \"11\": 40, \"0\": 31, \"6\": 3, \"13\": 2, \"2\": 17, \"7\": 2, \"5\": 8, \"14\": 13, \"1\": 2, \"8\": 5}}}, \"per_domain_accuracy\": {\"C_2\": {\"accuracy\": 0.9998224431818182, \"source?\": true}, \"W_2\": {\"accuracy\": 0.9648109243697479, \"source?\": true}, \"W_4\": {\"accuracy\": 0.964891975308642, \"source?\": true}, \"W_1\": {\"accuracy\": 0.9847074468085106, \"source?\": true}, \"W_3\": {\"accuracy\": 0.9833425110132159, \"source?\": true}, \"C_5\": {\"accuracy\": 0.9987710674157303, \"source?\": true}, \"C_1\": {\"accuracy\": 0.9996565934065934, \"source?\": true}, \"C_4\": {\"accuracy\": 0.999064371257485, \"source?\": true}, \"C_3\": {\"accuracy\": 0.9998172514619883, \"source?\": true}, \"O_8\": {\"accuracy\": 0.16015625, \"source?\": false}, \"O_38\": {\"accuracy\": 0.2559895833333333, \"source?\": false}, \"O_26\": {\"accuracy\": 0.14010416666666667, \"source?\": false}, \"O_20\": {\"accuracy\": 0.10677083333333333, \"source?\": false}, \"O_50\": {\"accuracy\": 0.20911458333333333, \"source?\": false}, \"O_32\": {\"accuracy\": 0.3026041666666667, \"source?\": false}, \"O_44\": {\"accuracy\": 0.23385416666666667, \"source?\": false}, \"O_14\": {\"accuracy\": 0.17942708333333332, \"source?\": false}}}, \"history\": {\"epoch_indices\": [1, 2, 3, 4, 5, 6, 7], \"train_label_loss\": [0.10615550169207684, 0.06430714263331344, 0.052888692350795, 0.04356877655991224, 0.036409451024043166, 0.030280559349881758, 0.024287203415797137], \"source_val_label_loss\": [0.09072325378656387, 0.06662649661302567, 0.0589606873691082, 0.05846251919865608, 0.05932962894439697, 0.061554115265607834, 0.06229088082909584], \"target_val_label_loss\": [2.563610553741455, 2.623875856399536, 2.5078465938568115, 2.8547823429107666, 3.1457908153533936, 3.4658608436584473, 3.979999303817749], \"source_val_acc_label\": [0.9809782608695652, 0.9848651623555311, 0.9863614474408365, 0.9869462025316456, 0.9868258117776555, 0.9865506329113924, 0.9870665932856356], \"target_val_acc_label\": [0.17591145833333333, 0.17135416666666667, 0.19850260416666668, 0.17080078125, 0.16067708333333333, 0.141015625, 0.13557942708333334]}, \"dataset_metrics\": {\"source\": {\"train\": {\"n_unique_x\": 364202, \"n_unique_y\": 130, \"n_batch/episode\": 13166}, \"val\": {\"n_unique_x\": 77154, \"n_unique_y\": 130, \"n_batch/episode\": 1817}, \"test\": {\"n_unique_x\": 78411, \"n_unique_y\": 130, \"n_batch/episode\": 1853}}, \"target\": {\"train\": {\"n_unique_x\": 179200, \"n_unique_y\": 16, \"n_batch/episode\": 6720}, \"val\": {\"n_unique_x\": 38400, \"n_unique_y\": 16, \"n_batch/episode\": 960}, \"test\": {\"n_unique_x\": 38400, \"n_unique_y\": 16, \"n_batch/episode\": 960}}}}'"
      ]
     },
     "execution_count": 29,
     "metadata": {},
     "output_type": "execute_result"
    }
   ],
   "source": [
    "json.dumps(experiment)"
   ]
  }
 ],
 "metadata": {
  "celltoolbar": "Tags",
  "kernelspec": {
   "display_name": "Python 3 (ipykernel)",
   "language": "python",
   "name": "python3"
  },
  "language_info": {
   "codemirror_mode": {
    "name": "ipython",
    "version": 3
   },
   "file_extension": ".py",
   "mimetype": "text/x-python",
   "name": "python",
   "nbconvert_exporter": "python",
   "pygments_lexer": "ipython3",
   "version": "3.8.10"
  },
  "papermill": {
   "default_parameters": {},
   "duration": 4633.093842,
   "end_time": "2022-03-20T07:13:16.603589",
   "environment_variables": {},
   "exception": null,
   "input_path": "/mnt/wd500GB/CSC500/csc500-main/csc500-notebooks/templates/tl_ptn_template.ipynb",
   "output_path": "trial.ipynb",
   "parameters": {
    "parameters": {
     "BEST_MODEL_PATH": "./best_model.pth",
     "NUM_LOGS_PER_EPOCH": 10,
     "criteria_for_best": "target_accuracy",
     "dataset_seed": 154325,
     "datasets": [
      {
       "domain_prefix": "C_",
       "domains": [
        1,
        2,
        3,
        4,
        5
       ],
       "episode_transforms": [],
       "labels": [
        "1-10.",
        "1-11.",
        "1-15.",
        "1-16.",
        "1-17.",
        "1-18.",
        "1-19.",
        "10-4.",
        "10-7.",
        "11-1.",
        "11-14.",
        "11-17.",
        "11-20.",
        "11-7.",
        "13-20.",
        "13-8.",
        "14-10.",
        "14-11.",
        "14-14.",
        "14-7.",
        "15-1.",
        "15-20.",
        "16-1.",
        "16-16.",
        "17-10.",
        "17-11.",
        "17-2.",
        "19-1.",
        "19-16.",
        "19-19.",
        "19-20.",
        "19-3.",
        "2-10.",
        "2-11.",
        "2-17.",
        "2-18.",
        "2-20.",
        "2-3.",
        "2-4.",
        "2-5.",
        "2-6.",
        "2-7.",
        "2-8.",
        "3-13.",
        "3-18.",
        "3-3.",
        "4-1.",
        "4-10.",
        "4-11.",
        "4-19.",
        "5-5.",
        "6-15.",
        "7-10.",
        "7-14.",
        "8-18.",
        "8-20.",
        "8-3.",
        "8-8."
       ],
       "num_examples_per_domain_per_label": -1,
       "pickle_path": "/mnt/wd500GB/CSC500/csc500-main/datasets/cores.stratified_ds.2022A.pkl",
       "source_or_target_dataset": "source",
       "x_transforms": [
        "unit_power"
       ]
      },
      {
       "domain_prefix": "W_",
       "domains": [
        1,
        2,
        3,
        4
       ],
       "episode_transforms": [],
       "labels": [
        "1-10",
        "1-12",
        "1-14",
        "1-16",
        "1-18",
        "1-19",
        "1-8",
        "10-11",
        "10-17",
        "10-4",
        "10-7",
        "11-1",
        "11-10",
        "11-19",
        "11-20",
        "11-4",
        "11-7",
        "12-19",
        "12-20",
        "12-7",
        "13-14",
        "13-18",
        "13-19",
        "13-20",
        "13-3",
        "13-7",
        "14-10",
        "14-11",
        "14-12",
        "14-13",
        "14-14",
        "14-19",
        "14-20",
        "14-7",
        "14-8",
        "14-9",
        "15-1",
        "15-19",
        "15-6",
        "16-1",
        "16-16",
        "16-19",
        "16-20",
        "17-10",
        "17-11",
        "18-1",
        "18-10",
        "18-11",
        "18-12",
        "18-13",
        "18-14",
        "18-15",
        "18-16",
        "18-17",
        "18-19",
        "18-2",
        "18-20",
        "18-4",
        "18-5",
        "18-7",
        "18-8",
        "18-9",
        "19-1",
        "19-10",
        "19-11",
        "19-12",
        "19-13",
        "19-14",
        "19-15",
        "19-19",
        "19-2",
        "19-20",
        "19-3",
        "19-4",
        "19-6",
        "19-7",
        "19-8",
        "19-9",
        "2-1",
        "2-13",
        "2-15",
        "2-3",
        "2-4",
        "2-5",
        "2-6",
        "2-7",
        "2-8",
        "20-1",
        "20-12",
        "20-14",
        "20-15",
        "20-16",
        "20-18",
        "20-19",
        "20-20",
        "20-3",
        "20-4",
        "20-5",
        "20-7",
        "20-8",
        "3-1",
        "3-13",
        "3-18",
        "3-2",
        "3-8",
        "4-1",
        "4-10",
        "4-11",
        "5-1",
        "5-5",
        "6-1",
        "6-15",
        "6-6",
        "7-10",
        "7-11",
        "7-12",
        "7-13",
        "7-14",
        "7-7",
        "7-8",
        "7-9",
        "8-1",
        "8-13",
        "8-14",
        "8-18",
        "8-20",
        "8-3",
        "8-8",
        "9-1",
        "9-7"
       ],
       "num_examples_per_domain_per_label": -1,
       "pickle_path": "/mnt/wd500GB/CSC500/csc500-main/datasets/wisig.node3-19.stratified_ds.2022A.pkl",
       "source_or_target_dataset": "source",
       "x_transforms": [
        "unit_power"
       ]
      },
      {
       "domain_prefix": "O_",
       "domains": [
        32,
        38,
        8,
        44,
        14,
        50,
        20,
        26
       ],
       "episode_transforms": [],
       "labels": [
        "3123D52",
        "3123D65",
        "3123D79",
        "3123D80",
        "3123D54",
        "3123D70",
        "3123D7B",
        "3123D89",
        "3123D58",
        "3123D76",
        "3123D7D",
        "3123EFE",
        "3123D64",
        "3123D78",
        "3123D7E",
        "3124E4A"
       ],
       "num_examples_per_domain_per_label": 2000,
       "pickle_path": "/mnt/wd500GB/CSC500/csc500-main/datasets/oracle.Run1_framed_2000Examples_stratified_ds.2022A.pkl",
       "source_or_target_dataset": "target",
       "x_transforms": [
        "unit_power"
       ]
      }
     ],
     "device": "cuda",
     "experiment_name": "tl_2v2:cores+wisig -> oracle.run1.framed",
     "lr": 0.0001,
     "n_epoch": 50,
     "n_query": 2,
     "n_shot": 3,
     "n_way": 16,
     "patience": 3,
     "seed": 154325,
     "test_k_factor": 2,
     "torch_default_dtype": "torch.float32",
     "train_k_factor": 3,
     "val_k_factor": 2,
     "x_net": [
      {
       "class": "nnReshape",
       "kargs": {
        "shape": [
         -1,
         1,
         2,
         256
        ]
       }
      },
      {
       "class": "Conv2d",
       "kargs": {
        "bias": false,
        "in_channels": 1,
        "kernel_size": [
         1,
         7
        ],
        "out_channels": 256,
        "padding": [
         0,
         3
        ]
       }
      },
      {
       "class": "ReLU",
       "kargs": {
        "inplace": true
       }
      },
      {
       "class": "BatchNorm2d",
       "kargs": {
        "num_features": 256
       }
      },
      {
       "class": "Conv2d",
       "kargs": {
        "bias": true,
        "in_channels": 256,
        "kernel_size": [
         2,
         7
        ],
        "out_channels": 80,
        "padding": [
         0,
         3
        ]
       }
      },
      {
       "class": "ReLU",
       "kargs": {
        "inplace": true
       }
      },
      {
       "class": "BatchNorm2d",
       "kargs": {
        "num_features": 80
       }
      },
      {
       "class": "Flatten",
       "kargs": {}
      },
      {
       "class": "Linear",
       "kargs": {
        "in_features": 20480,
        "out_features": 256
       }
      },
      {
       "class": "ReLU",
       "kargs": {
        "inplace": true
       }
      },
      {
       "class": "BatchNorm1d",
       "kargs": {
        "num_features": 256
       }
      },
      {
       "class": "Linear",
       "kargs": {
        "in_features": 256,
        "out_features": 256
       }
      }
     ]
    }
   },
   "start_time": "2022-03-20T05:56:03.509747",
   "version": "2.3.4"
  }
 },
 "nbformat": 4,
 "nbformat_minor": 5
}