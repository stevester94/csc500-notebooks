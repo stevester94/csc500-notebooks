{
 "cells": [
  {
   "cell_type": "markdown",
   "id": "9fea5f46",
   "metadata": {
    "papermill": {
     "duration": 0.018698,
     "end_time": "2022-03-20T10:43:59.956083",
     "exception": false,
     "start_time": "2022-03-20T10:43:59.937385",
     "status": "completed"
    },
    "tags": []
   },
   "source": [
    "# Transfer Learning Template"
   ]
  },
  {
   "cell_type": "code",
   "execution_count": 1,
   "id": "0902182a",
   "metadata": {
    "execution": {
     "iopub.execute_input": "2022-03-20T10:43:59.995601Z",
     "iopub.status.busy": "2022-03-20T10:43:59.993885Z",
     "iopub.status.idle": "2022-03-20T10:44:00.972544Z",
     "shell.execute_reply": "2022-03-20T10:44:00.972242Z"
    },
    "papermill": {
     "duration": 1.003521,
     "end_time": "2022-03-20T10:44:00.972615",
     "exception": false,
     "start_time": "2022-03-20T10:43:59.969094",
     "status": "completed"
    },
    "tags": []
   },
   "outputs": [],
   "source": [
    "%load_ext autoreload\n",
    "%autoreload 2\n",
    "%matplotlib inline\n",
    "\n",
    "    \n",
    "import os, json, sys, time, random\n",
    "import numpy as np\n",
    "import torch\n",
    "from torch.optim import Adam\n",
    "from  easydict import EasyDict\n",
    "import matplotlib.pyplot as plt\n",
    "\n",
    "from steves_models.steves_ptn import Steves_Prototypical_Network\n",
    "\n",
    "from steves_utils.lazy_iterable_wrapper import Lazy_Iterable_Wrapper\n",
    "from steves_utils.iterable_aggregator import Iterable_Aggregator\n",
    "from steves_utils.ptn_train_eval_test_jig import  PTN_Train_Eval_Test_Jig\n",
    "from steves_utils.torch_sequential_builder import build_sequential\n",
    "from steves_utils.torch_utils import get_dataset_metrics, ptn_confusion_by_domain_over_dataloader\n",
    "from steves_utils.utils_v2 import (per_domain_accuracy_from_confusion, get_datasets_base_path)\n",
    "from steves_utils.PTN.utils import independent_accuracy_assesment\n",
    "\n",
    "from torch.utils.data import DataLoader\n",
    "\n",
    "from steves_utils.stratified_dataset.episodic_accessor import Episodic_Accessor_Factory\n",
    "\n",
    "from steves_utils.ptn_do_report import (\n",
    "    get_loss_curve,\n",
    "    get_results_table,\n",
    "    get_parameters_table,\n",
    "    get_domain_accuracies,\n",
    ")\n",
    "\n",
    "from steves_utils.transforms import get_chained_transform"
   ]
  },
  {
   "cell_type": "markdown",
   "id": "41c840b4",
   "metadata": {
    "papermill": {
     "duration": 0.013835,
     "end_time": "2022-03-20T10:44:01.004194",
     "exception": false,
     "start_time": "2022-03-20T10:44:00.990359",
     "status": "completed"
    },
    "tags": []
   },
   "source": [
    "# Allowed Parameters\n",
    "These are allowed parameters, not defaults\n",
    "Each of these values need to be present in the injected parameters (the notebook will raise an exception if they are not present)\n",
    "\n",
    "Papermill uses the cell tag \"parameters\" to inject the real parameters below this cell.\n",
    "Enable tags to see what I mean"
   ]
  },
  {
   "cell_type": "code",
   "execution_count": 2,
   "id": "fd44eb83",
   "metadata": {
    "execution": {
     "iopub.execute_input": "2022-03-20T10:44:01.038864Z",
     "iopub.status.busy": "2022-03-20T10:44:01.038598Z",
     "iopub.status.idle": "2022-03-20T10:44:01.053344Z",
     "shell.execute_reply": "2022-03-20T10:44:01.053863Z"
    },
    "papermill": {
     "duration": 0.033777,
     "end_time": "2022-03-20T10:44:01.054017",
     "exception": false,
     "start_time": "2022-03-20T10:44:01.020240",
     "status": "completed"
    },
    "tags": []
   },
   "outputs": [],
   "source": [
    "required_parameters = {\n",
    "    \"experiment_name\",\n",
    "    \"lr\",\n",
    "    \"device\",\n",
    "    \"seed\",\n",
    "    \"dataset_seed\",\n",
    "    \"n_shot\",\n",
    "    \"n_query\",\n",
    "    \"n_way\",\n",
    "    \"train_k_factor\",\n",
    "    \"val_k_factor\",\n",
    "    \"test_k_factor\",\n",
    "    \"n_epoch\",\n",
    "    \"patience\",\n",
    "    \"criteria_for_best\",\n",
    "    \"x_net\",\n",
    "    \"datasets\",\n",
    "    \"torch_default_dtype\",\n",
    "    \"NUM_LOGS_PER_EPOCH\",\n",
    "    \"BEST_MODEL_PATH\",\n",
    "    \"x_shape\",\n",
    "}"
   ]
  },
  {
   "cell_type": "code",
   "execution_count": 3,
   "id": "fa3f0049",
   "metadata": {
    "execution": {
     "iopub.execute_input": "2022-03-20T10:44:01.104603Z",
     "iopub.status.busy": "2022-03-20T10:44:01.104189Z",
     "iopub.status.idle": "2022-03-20T10:44:01.117128Z",
     "shell.execute_reply": "2022-03-20T10:44:01.117501Z"
    },
    "papermill": {
     "duration": 0.046179,
     "end_time": "2022-03-20T10:44:01.117615",
     "exception": false,
     "start_time": "2022-03-20T10:44:01.071436",
     "status": "completed"
    },
    "tags": [
     "parameters"
    ]
   },
   "outputs": [],
   "source": [
    "from steves_utils.CORES.utils import (\n",
    "    ALL_NODES,\n",
    "    ALL_NODES_MINIMUM_1000_EXAMPLES,\n",
    "    ALL_DAYS\n",
    ")\n",
    "\n",
    "from steves_utils.ORACLE.utils_v2 import (\n",
    "    ALL_DISTANCES_FEET_NARROWED,\n",
    "    ALL_RUNS,\n",
    "    ALL_SERIAL_NUMBERS,\n",
    ")\n",
    "\n",
    "standalone_parameters = {}\n",
    "standalone_parameters[\"experiment_name\"] = \"STANDALONE PTN\"\n",
    "standalone_parameters[\"lr\"] = 0.001\n",
    "standalone_parameters[\"device\"] = \"cuda\"\n",
    "\n",
    "standalone_parameters[\"seed\"] = 1337\n",
    "standalone_parameters[\"dataset_seed\"] = 1337\n",
    "\n",
    "standalone_parameters[\"n_way\"] = 8\n",
    "standalone_parameters[\"n_shot\"] = 3\n",
    "standalone_parameters[\"n_query\"]  = 2\n",
    "standalone_parameters[\"train_k_factor\"] = 1\n",
    "standalone_parameters[\"val_k_factor\"] = 2\n",
    "standalone_parameters[\"test_k_factor\"] = 2\n",
    "\n",
    "\n",
    "standalone_parameters[\"n_epoch\"] = 50\n",
    "\n",
    "standalone_parameters[\"patience\"] = 10\n",
    "standalone_parameters[\"criteria_for_best\"] = \"source_loss\"\n",
    "\n",
    "standalone_parameters[\"datasets\"] = [\n",
    "    {\n",
    "        \"labels\": ALL_SERIAL_NUMBERS,\n",
    "        \"domains\": ALL_DISTANCES_FEET_NARROWED,\n",
    "        \"num_examples_per_domain_per_label\": 100,\n",
    "        \"pickle_path\": os.path.join(get_datasets_base_path(), \"oracle.Run1_framed_2000Examples_stratified_ds.2022A.pkl\"),\n",
    "        \"source_or_target_dataset\": \"source\",\n",
    "        \"x_transforms\": [\"unit_mag\", \"minus_two\"],\n",
    "        \"episode_transforms\": [],\n",
    "        \"domain_prefix\": \"ORACLE_\"\n",
    "    },\n",
    "    {\n",
    "        \"labels\": ALL_NODES,\n",
    "        \"domains\": ALL_DAYS,\n",
    "        \"num_examples_per_domain_per_label\": 100,\n",
    "        \"pickle_path\": os.path.join(get_datasets_base_path(), \"cores.stratified_ds.2022A.pkl\"),\n",
    "        \"source_or_target_dataset\": \"target\",\n",
    "        \"x_transforms\": [\"unit_power\", \"times_zero\"],\n",
    "        \"episode_transforms\": [],\n",
    "        \"domain_prefix\": \"CORES_\"\n",
    "    }   \n",
    "]\n",
    "\n",
    "standalone_parameters[\"torch_default_dtype\"] = \"torch.float32\" \n",
    "\n",
    "\n",
    "\n",
    "standalone_parameters[\"x_net\"] =     [\n",
    "    {\"class\": \"nnReshape\", \"kargs\": {\"shape\":[-1, 1, 2, 256]}},\n",
    "    {\"class\": \"Conv2d\", \"kargs\": { \"in_channels\":1, \"out_channels\":256, \"kernel_size\":(1,7), \"bias\":False, \"padding\":(0,3), },},\n",
    "    {\"class\": \"ReLU\", \"kargs\": {\"inplace\": True}},\n",
    "    {\"class\": \"BatchNorm2d\", \"kargs\": {\"num_features\":256}},\n",
    "\n",
    "    {\"class\": \"Conv2d\", \"kargs\": { \"in_channels\":256, \"out_channels\":80, \"kernel_size\":(2,7), \"bias\":True, \"padding\":(0,3), },},\n",
    "    {\"class\": \"ReLU\", \"kargs\": {\"inplace\": True}},\n",
    "    {\"class\": \"BatchNorm2d\", \"kargs\": {\"num_features\":80}},\n",
    "    {\"class\": \"Flatten\", \"kargs\": {}},\n",
    "\n",
    "    {\"class\": \"Linear\", \"kargs\": {\"in_features\": 80*256, \"out_features\": 256}}, # 80 units per IQ pair\n",
    "    {\"class\": \"ReLU\", \"kargs\": {\"inplace\": True}},\n",
    "    {\"class\": \"BatchNorm1d\", \"kargs\": {\"num_features\":256}},\n",
    "\n",
    "    {\"class\": \"Linear\", \"kargs\": {\"in_features\": 256, \"out_features\": 256}},\n",
    "]\n",
    "\n",
    "# Parameters relevant to results\n",
    "# These parameters will basically never need to change\n",
    "standalone_parameters[\"NUM_LOGS_PER_EPOCH\"] = 10\n",
    "standalone_parameters[\"BEST_MODEL_PATH\"] = \"./best_model.pth\"\n",
    "\n",
    "\n",
    "\n",
    "\n"
   ]
  },
  {
   "cell_type": "code",
   "execution_count": 4,
   "id": "f31d533b",
   "metadata": {
    "execution": {
     "iopub.execute_input": "2022-03-20T10:44:01.163548Z",
     "iopub.status.busy": "2022-03-20T10:44:01.163215Z",
     "iopub.status.idle": "2022-03-20T10:44:01.176659Z",
     "shell.execute_reply": "2022-03-20T10:44:01.176861Z"
    },
    "papermill": {
     "duration": 0.041174,
     "end_time": "2022-03-20T10:44:01.176921",
     "exception": false,
     "start_time": "2022-03-20T10:44:01.135747",
     "status": "completed"
    },
    "tags": [
     "injected-parameters"
    ]
   },
   "outputs": [],
   "source": [
    "# Parameters\n",
    "parameters = {\n",
    "    \"experiment_name\": \"tl_2v2:cores+wisig -> oracle.run1.framed\",\n",
    "    \"device\": \"cuda\",\n",
    "    \"lr\": 0.0001,\n",
    "    \"n_shot\": 3,\n",
    "    \"n_query\": 2,\n",
    "    \"train_k_factor\": 3,\n",
    "    \"val_k_factor\": 2,\n",
    "    \"test_k_factor\": 2,\n",
    "    \"torch_default_dtype\": \"torch.float32\",\n",
    "    \"n_epoch\": 50,\n",
    "    \"patience\": 3,\n",
    "    \"criteria_for_best\": \"target_accuracy\",\n",
    "    \"x_net\": [\n",
    "        {\"class\": \"nnReshape\", \"kargs\": {\"shape\": [-1, 1, 2, 256]}},\n",
    "        {\n",
    "            \"class\": \"Conv2d\",\n",
    "            \"kargs\": {\n",
    "                \"in_channels\": 1,\n",
    "                \"out_channels\": 256,\n",
    "                \"kernel_size\": [1, 7],\n",
    "                \"bias\": False,\n",
    "                \"padding\": [0, 3],\n",
    "            },\n",
    "        },\n",
    "        {\"class\": \"ReLU\", \"kargs\": {\"inplace\": True}},\n",
    "        {\"class\": \"BatchNorm2d\", \"kargs\": {\"num_features\": 256}},\n",
    "        {\n",
    "            \"class\": \"Conv2d\",\n",
    "            \"kargs\": {\n",
    "                \"in_channels\": 256,\n",
    "                \"out_channels\": 80,\n",
    "                \"kernel_size\": [2, 7],\n",
    "                \"bias\": True,\n",
    "                \"padding\": [0, 3],\n",
    "            },\n",
    "        },\n",
    "        {\"class\": \"ReLU\", \"kargs\": {\"inplace\": True}},\n",
    "        {\"class\": \"BatchNorm2d\", \"kargs\": {\"num_features\": 80}},\n",
    "        {\"class\": \"Flatten\", \"kargs\": {}},\n",
    "        {\"class\": \"Linear\", \"kargs\": {\"in_features\": 20480, \"out_features\": 256}},\n",
    "        {\"class\": \"ReLU\", \"kargs\": {\"inplace\": True}},\n",
    "        {\"class\": \"BatchNorm1d\", \"kargs\": {\"num_features\": 256}},\n",
    "        {\"class\": \"Linear\", \"kargs\": {\"in_features\": 256, \"out_features\": 256}},\n",
    "    ],\n",
    "    \"NUM_LOGS_PER_EPOCH\": 10,\n",
    "    \"BEST_MODEL_PATH\": \"./best_model.pth\",\n",
    "    \"n_way\": 16,\n",
    "    \"datasets\": [\n",
    "        {\n",
    "            \"labels\": [\n",
    "                \"1-10.\",\n",
    "                \"1-11.\",\n",
    "                \"1-15.\",\n",
    "                \"1-16.\",\n",
    "                \"1-17.\",\n",
    "                \"1-18.\",\n",
    "                \"1-19.\",\n",
    "                \"10-4.\",\n",
    "                \"10-7.\",\n",
    "                \"11-1.\",\n",
    "                \"11-14.\",\n",
    "                \"11-17.\",\n",
    "                \"11-20.\",\n",
    "                \"11-7.\",\n",
    "                \"13-20.\",\n",
    "                \"13-8.\",\n",
    "                \"14-10.\",\n",
    "                \"14-11.\",\n",
    "                \"14-14.\",\n",
    "                \"14-7.\",\n",
    "                \"15-1.\",\n",
    "                \"15-20.\",\n",
    "                \"16-1.\",\n",
    "                \"16-16.\",\n",
    "                \"17-10.\",\n",
    "                \"17-11.\",\n",
    "                \"17-2.\",\n",
    "                \"19-1.\",\n",
    "                \"19-16.\",\n",
    "                \"19-19.\",\n",
    "                \"19-20.\",\n",
    "                \"19-3.\",\n",
    "                \"2-10.\",\n",
    "                \"2-11.\",\n",
    "                \"2-17.\",\n",
    "                \"2-18.\",\n",
    "                \"2-20.\",\n",
    "                \"2-3.\",\n",
    "                \"2-4.\",\n",
    "                \"2-5.\",\n",
    "                \"2-6.\",\n",
    "                \"2-7.\",\n",
    "                \"2-8.\",\n",
    "                \"3-13.\",\n",
    "                \"3-18.\",\n",
    "                \"3-3.\",\n",
    "                \"4-1.\",\n",
    "                \"4-10.\",\n",
    "                \"4-11.\",\n",
    "                \"4-19.\",\n",
    "                \"5-5.\",\n",
    "                \"6-15.\",\n",
    "                \"7-10.\",\n",
    "                \"7-14.\",\n",
    "                \"8-18.\",\n",
    "                \"8-20.\",\n",
    "                \"8-3.\",\n",
    "                \"8-8.\",\n",
    "            ],\n",
    "            \"domains\": [1, 2, 3, 4, 5],\n",
    "            \"num_examples_per_domain_per_label\": -1,\n",
    "            \"pickle_path\": \"/mnt/wd500GB/CSC500/csc500-main/datasets/cores.stratified_ds.2022A.pkl\",\n",
    "            \"source_or_target_dataset\": \"source\",\n",
    "            \"x_transforms\": [\"unit_mag\"],\n",
    "            \"episode_transforms\": [],\n",
    "            \"domain_prefix\": \"C_\",\n",
    "        },\n",
    "        {\n",
    "            \"labels\": [\n",
    "                \"1-10\",\n",
    "                \"1-12\",\n",
    "                \"1-14\",\n",
    "                \"1-16\",\n",
    "                \"1-18\",\n",
    "                \"1-19\",\n",
    "                \"1-8\",\n",
    "                \"10-11\",\n",
    "                \"10-17\",\n",
    "                \"10-4\",\n",
    "                \"10-7\",\n",
    "                \"11-1\",\n",
    "                \"11-10\",\n",
    "                \"11-19\",\n",
    "                \"11-20\",\n",
    "                \"11-4\",\n",
    "                \"11-7\",\n",
    "                \"12-19\",\n",
    "                \"12-20\",\n",
    "                \"12-7\",\n",
    "                \"13-14\",\n",
    "                \"13-18\",\n",
    "                \"13-19\",\n",
    "                \"13-20\",\n",
    "                \"13-3\",\n",
    "                \"13-7\",\n",
    "                \"14-10\",\n",
    "                \"14-11\",\n",
    "                \"14-12\",\n",
    "                \"14-13\",\n",
    "                \"14-14\",\n",
    "                \"14-19\",\n",
    "                \"14-20\",\n",
    "                \"14-7\",\n",
    "                \"14-8\",\n",
    "                \"14-9\",\n",
    "                \"15-1\",\n",
    "                \"15-19\",\n",
    "                \"15-6\",\n",
    "                \"16-1\",\n",
    "                \"16-16\",\n",
    "                \"16-19\",\n",
    "                \"16-20\",\n",
    "                \"17-10\",\n",
    "                \"17-11\",\n",
    "                \"18-1\",\n",
    "                \"18-10\",\n",
    "                \"18-11\",\n",
    "                \"18-12\",\n",
    "                \"18-13\",\n",
    "                \"18-14\",\n",
    "                \"18-15\",\n",
    "                \"18-16\",\n",
    "                \"18-17\",\n",
    "                \"18-19\",\n",
    "                \"18-2\",\n",
    "                \"18-20\",\n",
    "                \"18-4\",\n",
    "                \"18-5\",\n",
    "                \"18-7\",\n",
    "                \"18-8\",\n",
    "                \"18-9\",\n",
    "                \"19-1\",\n",
    "                \"19-10\",\n",
    "                \"19-11\",\n",
    "                \"19-12\",\n",
    "                \"19-13\",\n",
    "                \"19-14\",\n",
    "                \"19-15\",\n",
    "                \"19-19\",\n",
    "                \"19-2\",\n",
    "                \"19-20\",\n",
    "                \"19-3\",\n",
    "                \"19-4\",\n",
    "                \"19-6\",\n",
    "                \"19-7\",\n",
    "                \"19-8\",\n",
    "                \"19-9\",\n",
    "                \"2-1\",\n",
    "                \"2-13\",\n",
    "                \"2-15\",\n",
    "                \"2-3\",\n",
    "                \"2-4\",\n",
    "                \"2-5\",\n",
    "                \"2-6\",\n",
    "                \"2-7\",\n",
    "                \"2-8\",\n",
    "                \"20-1\",\n",
    "                \"20-12\",\n",
    "                \"20-14\",\n",
    "                \"20-15\",\n",
    "                \"20-16\",\n",
    "                \"20-18\",\n",
    "                \"20-19\",\n",
    "                \"20-20\",\n",
    "                \"20-3\",\n",
    "                \"20-4\",\n",
    "                \"20-5\",\n",
    "                \"20-7\",\n",
    "                \"20-8\",\n",
    "                \"3-1\",\n",
    "                \"3-13\",\n",
    "                \"3-18\",\n",
    "                \"3-2\",\n",
    "                \"3-8\",\n",
    "                \"4-1\",\n",
    "                \"4-10\",\n",
    "                \"4-11\",\n",
    "                \"5-1\",\n",
    "                \"5-5\",\n",
    "                \"6-1\",\n",
    "                \"6-15\",\n",
    "                \"6-6\",\n",
    "                \"7-10\",\n",
    "                \"7-11\",\n",
    "                \"7-12\",\n",
    "                \"7-13\",\n",
    "                \"7-14\",\n",
    "                \"7-7\",\n",
    "                \"7-8\",\n",
    "                \"7-9\",\n",
    "                \"8-1\",\n",
    "                \"8-13\",\n",
    "                \"8-14\",\n",
    "                \"8-18\",\n",
    "                \"8-20\",\n",
    "                \"8-3\",\n",
    "                \"8-8\",\n",
    "                \"9-1\",\n",
    "                \"9-7\",\n",
    "            ],\n",
    "            \"domains\": [1, 2, 3, 4],\n",
    "            \"num_examples_per_domain_per_label\": -1,\n",
    "            \"pickle_path\": \"/mnt/wd500GB/CSC500/csc500-main/datasets/wisig.node3-19.stratified_ds.2022A.pkl\",\n",
    "            \"source_or_target_dataset\": \"source\",\n",
    "            \"x_transforms\": [\"unit_mag\"],\n",
    "            \"episode_transforms\": [],\n",
    "            \"domain_prefix\": \"W_\",\n",
    "        },\n",
    "        {\n",
    "            \"labels\": [\n",
    "                \"3123D52\",\n",
    "                \"3123D65\",\n",
    "                \"3123D79\",\n",
    "                \"3123D80\",\n",
    "                \"3123D54\",\n",
    "                \"3123D70\",\n",
    "                \"3123D7B\",\n",
    "                \"3123D89\",\n",
    "                \"3123D58\",\n",
    "                \"3123D76\",\n",
    "                \"3123D7D\",\n",
    "                \"3123EFE\",\n",
    "                \"3123D64\",\n",
    "                \"3123D78\",\n",
    "                \"3123D7E\",\n",
    "                \"3124E4A\",\n",
    "            ],\n",
    "            \"domains\": [32, 38, 8, 44, 14, 50, 20, 26],\n",
    "            \"num_examples_per_domain_per_label\": 2000,\n",
    "            \"pickle_path\": \"/mnt/wd500GB/CSC500/csc500-main/datasets/oracle.Run1_framed_2000Examples_stratified_ds.2022A.pkl\",\n",
    "            \"source_or_target_dataset\": \"target\",\n",
    "            \"x_transforms\": [\"unit_mag\"],\n",
    "            \"episode_transforms\": [],\n",
    "            \"domain_prefix\": \"O_\",\n",
    "        },\n",
    "    ],\n",
    "    \"seed\": 7,\n",
    "    \"dataset_seed\": 7,\n",
    "}\n"
   ]
  },
  {
   "cell_type": "code",
   "execution_count": 5,
   "id": "8fa1cc33",
   "metadata": {
    "execution": {
     "iopub.execute_input": "2022-03-20T10:44:01.205808Z",
     "iopub.status.busy": "2022-03-20T10:44:01.205557Z",
     "iopub.status.idle": "2022-03-20T10:44:01.221411Z",
     "shell.execute_reply": "2022-03-20T10:44:01.221159Z"
    },
    "papermill": {
     "duration": 0.031603,
     "end_time": "2022-03-20T10:44:01.221460",
     "exception": false,
     "start_time": "2022-03-20T10:44:01.189857",
     "status": "completed"
    },
    "tags": []
   },
   "outputs": [],
   "source": [
    "# Set this to True if you want to run this template directly\n",
    "STANDALONE = False\n",
    "if STANDALONE:\n",
    "    print(\"parameters not injected, running with standalone_parameters\")\n",
    "    parameters = standalone_parameters\n",
    "\n",
    "if not 'parameters' in locals() and not 'parameters' in globals():\n",
    "    raise Exception(\"Parameter injection failed\")\n",
    "\n",
    "#Use an easy dict for all the parameters\n",
    "p = EasyDict(parameters)\n",
    "\n",
    "if \"x_shape\" not in p:\n",
    "    p.x_shape = [2,256] # Default to this if we dont supply x_shape\n",
    "\n",
    "\n",
    "supplied_keys = set(p.keys())\n",
    "\n",
    "if  supplied_keys != required_parameters:\n",
    "    print(\"Parameters are incorrect\")\n",
    "    if len(supplied_keys - required_parameters)>0: print(\"Shouldn't have:\", str(supplied_keys - required_parameters))\n",
    "    if len(required_parameters - supplied_keys)>0: print(\"Need to have:\", str(required_parameters - supplied_keys))\n",
    "    raise RuntimeError(\"Parameters are incorrect\")"
   ]
  },
  {
   "cell_type": "code",
   "execution_count": 6,
   "id": "3a028d58",
   "metadata": {
    "execution": {
     "iopub.execute_input": "2022-03-20T10:44:01.250918Z",
     "iopub.status.busy": "2022-03-20T10:44:01.250672Z",
     "iopub.status.idle": "2022-03-20T10:44:01.266159Z",
     "shell.execute_reply": "2022-03-20T10:44:01.265945Z"
    },
    "papermill": {
     "duration": 0.031739,
     "end_time": "2022-03-20T10:44:01.266208",
     "exception": false,
     "start_time": "2022-03-20T10:44:01.234469",
     "status": "completed"
    },
    "tags": []
   },
   "outputs": [],
   "source": [
    "###################################\n",
    "# Set the RNGs and make it all deterministic\n",
    "###################################\n",
    "np.random.seed(p.seed)\n",
    "random.seed(p.seed)\n",
    "torch.manual_seed(p.seed)\n",
    "\n",
    "torch.use_deterministic_algorithms(True) "
   ]
  },
  {
   "cell_type": "code",
   "execution_count": 7,
   "id": "b691acf6",
   "metadata": {
    "execution": {
     "iopub.execute_input": "2022-03-20T10:44:01.294943Z",
     "iopub.status.busy": "2022-03-20T10:44:01.294697Z",
     "iopub.status.idle": "2022-03-20T10:44:01.309587Z",
     "shell.execute_reply": "2022-03-20T10:44:01.309314Z"
    },
    "papermill": {
     "duration": 0.030381,
     "end_time": "2022-03-20T10:44:01.309647",
     "exception": false,
     "start_time": "2022-03-20T10:44:01.279266",
     "status": "completed"
    },
    "tags": []
   },
   "outputs": [],
   "source": [
    "###########################################\n",
    "# The stratified datasets honor this\n",
    "###########################################\n",
    "torch.set_default_dtype(eval(p.torch_default_dtype))"
   ]
  },
  {
   "cell_type": "code",
   "execution_count": 8,
   "id": "b5fba671",
   "metadata": {
    "execution": {
     "iopub.execute_input": "2022-03-20T10:44:01.337810Z",
     "iopub.status.busy": "2022-03-20T10:44:01.337560Z",
     "iopub.status.idle": "2022-03-20T10:44:01.385214Z",
     "shell.execute_reply": "2022-03-20T10:44:01.384702Z"
    },
    "papermill": {
     "duration": 0.062455,
     "end_time": "2022-03-20T10:44:01.385321",
     "exception": false,
     "start_time": "2022-03-20T10:44:01.322866",
     "status": "completed"
    },
    "tags": []
   },
   "outputs": [],
   "source": [
    "###################################\n",
    "# Build the network(s)\n",
    "# Note: It's critical to do this AFTER setting the RNG\n",
    "###################################\n",
    "x_net = build_sequential(p.x_net)"
   ]
  },
  {
   "cell_type": "code",
   "execution_count": 9,
   "id": "5d7e61cc",
   "metadata": {
    "execution": {
     "iopub.execute_input": "2022-03-20T10:44:01.419745Z",
     "iopub.status.busy": "2022-03-20T10:44:01.419489Z",
     "iopub.status.idle": "2022-03-20T10:44:01.430526Z",
     "shell.execute_reply": "2022-03-20T10:44:01.430735Z"
    },
    "papermill": {
     "duration": 0.026409,
     "end_time": "2022-03-20T10:44:01.430814",
     "exception": false,
     "start_time": "2022-03-20T10:44:01.404405",
     "status": "completed"
    },
    "tags": []
   },
   "outputs": [],
   "source": [
    "start_time_secs = time.time()"
   ]
  },
  {
   "cell_type": "code",
   "execution_count": 10,
   "id": "c6b67dfd",
   "metadata": {
    "execution": {
     "iopub.execute_input": "2022-03-20T10:44:01.460404Z",
     "iopub.status.busy": "2022-03-20T10:44:01.460013Z",
     "iopub.status.idle": "2022-03-20T10:44:01.473720Z",
     "shell.execute_reply": "2022-03-20T10:44:01.473945Z"
    },
    "papermill": {
     "duration": 0.029539,
     "end_time": "2022-03-20T10:44:01.474023",
     "exception": false,
     "start_time": "2022-03-20T10:44:01.444484",
     "status": "completed"
    },
    "tags": []
   },
   "outputs": [],
   "source": [
    "p.domains_source = []\n",
    "p.domains_target = []\n",
    "\n",
    "\n",
    "train_original_source = []\n",
    "val_original_source   = []\n",
    "test_original_source  = []\n",
    "\n",
    "train_original_target = []\n",
    "val_original_target   = []\n",
    "test_original_target  = []"
   ]
  },
  {
   "cell_type": "code",
   "execution_count": 11,
   "id": "e3d9c3d3",
   "metadata": {
    "execution": {
     "iopub.execute_input": "2022-03-20T10:44:01.505224Z",
     "iopub.status.busy": "2022-03-20T10:44:01.504826Z",
     "iopub.status.idle": "2022-03-20T10:44:01.515909Z",
     "shell.execute_reply": "2022-03-20T10:44:01.516134Z"
    },
    "papermill": {
     "duration": 0.02649,
     "end_time": "2022-03-20T10:44:01.516209",
     "exception": false,
     "start_time": "2022-03-20T10:44:01.489719",
     "status": "completed"
    },
    "tags": []
   },
   "outputs": [],
   "source": [
    "# global_x_transform_func = lambda x: normalize(x.to(torch.get_default_dtype()), \"unit_power\") # unit_power, unit_mag\n",
    "# global_x_transform_func = lambda x: normalize(x, \"unit_power\") # unit_power, unit_mag"
   ]
  },
  {
   "cell_type": "code",
   "execution_count": 12,
   "id": "acb78fd2",
   "metadata": {
    "execution": {
     "iopub.execute_input": "2022-03-20T10:44:01.550448Z",
     "iopub.status.busy": "2022-03-20T10:44:01.550027Z",
     "iopub.status.idle": "2022-03-20T10:44:01.561933Z",
     "shell.execute_reply": "2022-03-20T10:44:01.562151Z"
    },
    "papermill": {
     "duration": 0.030065,
     "end_time": "2022-03-20T10:44:01.562226",
     "exception": false,
     "start_time": "2022-03-20T10:44:01.532161",
     "status": "completed"
    },
    "tags": []
   },
   "outputs": [],
   "source": [
    "def add_dataset(\n",
    "    labels,\n",
    "    domains,\n",
    "    pickle_path,\n",
    "    x_transforms,\n",
    "    episode_transforms,\n",
    "    domain_prefix,\n",
    "    num_examples_per_domain_per_label,\n",
    "    source_or_target_dataset:str,\n",
    "    iterator_seed=p.seed,\n",
    "    dataset_seed=p.dataset_seed,\n",
    "    n_shot=p.n_shot,\n",
    "    n_way=p.n_way,\n",
    "    n_query=p.n_query,\n",
    "    train_val_test_k_factors=(p.train_k_factor,p.val_k_factor,p.test_k_factor),\n",
    "):\n",
    "   \n",
    "    if x_transforms == []: x_transform = None\n",
    "    else: x_transform = get_chained_transform(x_transforms)\n",
    "    \n",
    "    if episode_transforms == []: episode_transform = None\n",
    "    else: raise Exception(\"episode_transforms not implemented\")\n",
    "    \n",
    "    episode_transform = lambda tup, _prefix=domain_prefix: (_prefix + str(tup[0]), tup[1])\n",
    "\n",
    "\n",
    "    eaf = Episodic_Accessor_Factory(\n",
    "        labels=labels,\n",
    "        domains=domains,\n",
    "        num_examples_per_domain_per_label=num_examples_per_domain_per_label,\n",
    "        iterator_seed=iterator_seed,\n",
    "        dataset_seed=dataset_seed,\n",
    "        n_shot=n_shot,\n",
    "        n_way=n_way,\n",
    "        n_query=n_query,\n",
    "        train_val_test_k_factors=train_val_test_k_factors,\n",
    "        pickle_path=pickle_path,\n",
    "        x_transform_func=x_transform,\n",
    "    )\n",
    "\n",
    "    train, val, test = eaf.get_train(), eaf.get_val(), eaf.get_test()\n",
    "    train = Lazy_Iterable_Wrapper(train, episode_transform)\n",
    "    val = Lazy_Iterable_Wrapper(val, episode_transform)\n",
    "    test = Lazy_Iterable_Wrapper(test, episode_transform)\n",
    "\n",
    "    if source_or_target_dataset==\"source\":\n",
    "        train_original_source.append(train)\n",
    "        val_original_source.append(val)\n",
    "        test_original_source.append(test)\n",
    "\n",
    "        p.domains_source.extend(\n",
    "            [domain_prefix + str(u) for u in domains]\n",
    "        )\n",
    "    elif source_or_target_dataset==\"target\":\n",
    "        train_original_target.append(train)\n",
    "        val_original_target.append(val)\n",
    "        test_original_target.append(test)\n",
    "        p.domains_target.extend(\n",
    "            [domain_prefix + str(u) for u in domains]\n",
    "        )\n",
    "    else:\n",
    "        raise Exception(f\"invalid source_or_target_dataset: {source_or_target_dataset}\")\n",
    "    "
   ]
  },
  {
   "cell_type": "code",
   "execution_count": 13,
   "id": "fe266617",
   "metadata": {
    "execution": {
     "iopub.execute_input": "2022-03-20T10:44:01.591344Z",
     "iopub.status.busy": "2022-03-20T10:44:01.590926Z",
     "iopub.status.idle": "2022-03-20T10:44:50.919929Z",
     "shell.execute_reply": "2022-03-20T10:44:50.920324Z"
    },
    "papermill": {
     "duration": 49.344588,
     "end_time": "2022-03-20T10:44:50.920461",
     "exception": false,
     "start_time": "2022-03-20T10:44:01.575873",
     "status": "completed"
    },
    "tags": []
   },
   "outputs": [],
   "source": [
    "for ds in p.datasets:\n",
    "    add_dataset(**ds)"
   ]
  },
  {
   "cell_type": "code",
   "execution_count": 14,
   "id": "b90d65ac",
   "metadata": {
    "execution": {
     "iopub.execute_input": "2022-03-20T10:44:50.956896Z",
     "iopub.status.busy": "2022-03-20T10:44:50.955884Z",
     "iopub.status.idle": "2022-03-20T10:44:50.969813Z",
     "shell.execute_reply": "2022-03-20T10:44:50.970212Z"
    },
    "papermill": {
     "duration": 0.030093,
     "end_time": "2022-03-20T10:44:50.970334",
     "exception": false,
     "start_time": "2022-03-20T10:44:50.940241",
     "status": "completed"
    },
    "tags": []
   },
   "outputs": [],
   "source": [
    "# from steves_utils.CORES.utils import (\n",
    "#     ALL_NODES,\n",
    "#     ALL_NODES_MINIMUM_1000_EXAMPLES,\n",
    "#     ALL_DAYS\n",
    "# )\n",
    "\n",
    "# add_dataset(\n",
    "#     labels=ALL_NODES,\n",
    "#     domains = ALL_DAYS,\n",
    "#     num_examples_per_domain_per_label=100,\n",
    "#     pickle_path=os.path.join(get_datasets_base_path(), \"cores.stratified_ds.2022A.pkl\"),\n",
    "#     source_or_target_dataset=\"target\",\n",
    "#     x_transform_func=global_x_transform_func,\n",
    "#     domain_modifier=lambda u: f\"cores_{u}\"\n",
    "# )"
   ]
  },
  {
   "cell_type": "code",
   "execution_count": 15,
   "id": "76db484d",
   "metadata": {
    "execution": {
     "iopub.execute_input": "2022-03-20T10:44:51.008530Z",
     "iopub.status.busy": "2022-03-20T10:44:51.008278Z",
     "iopub.status.idle": "2022-03-20T10:44:51.019577Z",
     "shell.execute_reply": "2022-03-20T10:44:51.019079Z"
    },
    "papermill": {
     "duration": 0.030692,
     "end_time": "2022-03-20T10:44:51.019677",
     "exception": false,
     "start_time": "2022-03-20T10:44:50.988985",
     "status": "completed"
    },
    "tags": []
   },
   "outputs": [],
   "source": [
    "# from steves_utils.ORACLE.utils_v2 import (\n",
    "#     ALL_DISTANCES_FEET,\n",
    "#     ALL_RUNS,\n",
    "#     ALL_SERIAL_NUMBERS,\n",
    "# )\n",
    "\n",
    "\n",
    "# add_dataset(\n",
    "#     labels=ALL_SERIAL_NUMBERS,\n",
    "#     domains = list(set(ALL_DISTANCES_FEET) - {2,62}),\n",
    "#     num_examples_per_domain_per_label=100,\n",
    "#     pickle_path=os.path.join(get_datasets_base_path(), \"oracle.Run2_framed_2000Examples_stratified_ds.2022A.pkl\"),\n",
    "#     source_or_target_dataset=\"source\",\n",
    "#     x_transform_func=global_x_transform_func,\n",
    "#     domain_modifier=lambda u: f\"oracle1_{u}\"\n",
    "# )\n"
   ]
  },
  {
   "cell_type": "code",
   "execution_count": 16,
   "id": "97dea9d2",
   "metadata": {
    "execution": {
     "iopub.execute_input": "2022-03-20T10:44:51.054779Z",
     "iopub.status.busy": "2022-03-20T10:44:51.054523Z",
     "iopub.status.idle": "2022-03-20T10:44:51.069883Z",
     "shell.execute_reply": "2022-03-20T10:44:51.070281Z"
    },
    "papermill": {
     "duration": 0.031761,
     "end_time": "2022-03-20T10:44:51.070398",
     "exception": false,
     "start_time": "2022-03-20T10:44:51.038637",
     "status": "completed"
    },
    "tags": []
   },
   "outputs": [],
   "source": [
    "# from steves_utils.ORACLE.utils_v2 import (\n",
    "#     ALL_DISTANCES_FEET,\n",
    "#     ALL_RUNS,\n",
    "#     ALL_SERIAL_NUMBERS,\n",
    "# )\n",
    "\n",
    "\n",
    "# add_dataset(\n",
    "#     labels=ALL_SERIAL_NUMBERS,\n",
    "#     domains = list(set(ALL_DISTANCES_FEET) - {2,62,56}),\n",
    "#     num_examples_per_domain_per_label=100,\n",
    "#     pickle_path=os.path.join(get_datasets_base_path(), \"oracle.Run2_framed_2000Examples_stratified_ds.2022A.pkl\"),\n",
    "#     source_or_target_dataset=\"source\",\n",
    "#     x_transform_func=global_x_transform_func,\n",
    "#     domain_modifier=lambda u: f\"oracle2_{u}\"\n",
    "# )"
   ]
  },
  {
   "cell_type": "code",
   "execution_count": 17,
   "id": "6f289866",
   "metadata": {
    "execution": {
     "iopub.execute_input": "2022-03-20T10:44:51.104816Z",
     "iopub.status.busy": "2022-03-20T10:44:51.104563Z",
     "iopub.status.idle": "2022-03-20T10:44:51.115790Z",
     "shell.execute_reply": "2022-03-20T10:44:51.115365Z"
    },
    "papermill": {
     "duration": 0.026489,
     "end_time": "2022-03-20T10:44:51.115889",
     "exception": false,
     "start_time": "2022-03-20T10:44:51.089400",
     "status": "completed"
    },
    "tags": []
   },
   "outputs": [],
   "source": [
    "# add_dataset(\n",
    "#     labels=list(range(19)),\n",
    "#     domains = [0,1,2],\n",
    "#     num_examples_per_domain_per_label=100,\n",
    "#     pickle_path=os.path.join(get_datasets_base_path(), \"metehan.stratified_ds.2022A.pkl\"),\n",
    "#     source_or_target_dataset=\"target\",\n",
    "#     x_transform_func=global_x_transform_func,\n",
    "#     domain_modifier=lambda u: f\"met_{u}\"\n",
    "# )"
   ]
  },
  {
   "cell_type": "code",
   "execution_count": 18,
   "id": "86a863c3",
   "metadata": {
    "execution": {
     "iopub.execute_input": "2022-03-20T10:44:51.149551Z",
     "iopub.status.busy": "2022-03-20T10:44:51.149299Z",
     "iopub.status.idle": "2022-03-20T10:44:51.163724Z",
     "shell.execute_reply": "2022-03-20T10:44:51.163492Z"
    },
    "papermill": {
     "duration": 0.030008,
     "end_time": "2022-03-20T10:44:51.163778",
     "exception": false,
     "start_time": "2022-03-20T10:44:51.133770",
     "status": "completed"
    },
    "tags": []
   },
   "outputs": [],
   "source": [
    "# # from steves_utils.wisig.utils import (\n",
    "# #     ALL_NODES_MINIMUM_100_EXAMPLES,\n",
    "# #     ALL_NODES_MINIMUM_500_EXAMPLES,\n",
    "# #     ALL_NODES_MINIMUM_1000_EXAMPLES,\n",
    "# #     ALL_DAYS\n",
    "# # )\n",
    "\n",
    "# import steves_utils.wisig.utils as wisig\n",
    "\n",
    "\n",
    "# add_dataset(\n",
    "#     labels=wisig.ALL_NODES_MINIMUM_100_EXAMPLES,\n",
    "#     domains = wisig.ALL_DAYS,\n",
    "#     num_examples_per_domain_per_label=100,\n",
    "#     pickle_path=os.path.join(get_datasets_base_path(), \"wisig.node3-19.stratified_ds.2022A.pkl\"),\n",
    "#     source_or_target_dataset=\"target\",\n",
    "#     x_transform_func=global_x_transform_func,\n",
    "#     domain_modifier=lambda u: f\"wisig_{u}\"\n",
    "# )"
   ]
  },
  {
   "cell_type": "code",
   "execution_count": 19,
   "id": "fd5442bc",
   "metadata": {
    "execution": {
     "iopub.execute_input": "2022-03-20T10:44:51.201392Z",
     "iopub.status.busy": "2022-03-20T10:44:51.200636Z",
     "iopub.status.idle": "2022-03-20T10:44:51.215522Z",
     "shell.execute_reply": "2022-03-20T10:44:51.215842Z"
    },
    "papermill": {
     "duration": 0.034112,
     "end_time": "2022-03-20T10:44:51.215939",
     "exception": false,
     "start_time": "2022-03-20T10:44:51.181827",
     "status": "completed"
    },
    "tags": []
   },
   "outputs": [],
   "source": [
    "###################################\n",
    "# Build the dataset\n",
    "###################################\n",
    "train_original_source = Iterable_Aggregator(train_original_source, p.seed)\n",
    "val_original_source = Iterable_Aggregator(val_original_source, p.seed)\n",
    "test_original_source = Iterable_Aggregator(test_original_source, p.seed)\n",
    "\n",
    "\n",
    "train_original_target = Iterable_Aggregator(train_original_target, p.seed)\n",
    "val_original_target = Iterable_Aggregator(val_original_target, p.seed)\n",
    "test_original_target = Iterable_Aggregator(test_original_target, p.seed)\n",
    "\n",
    "# For CNN We only use X and Y. And we only train on the source.\n",
    "# Properly form the data using a transform lambda and Lazy_Iterable_Wrapper. Finally wrap them in a dataloader\n",
    "\n",
    "transform_lambda = lambda ex: ex[1] # Original is (<domain>, <episode>) so we strip down to episode only\n",
    "\n",
    "train_processed_source = Lazy_Iterable_Wrapper(train_original_source, transform_lambda)\n",
    "val_processed_source   = Lazy_Iterable_Wrapper(val_original_source, transform_lambda)\n",
    "test_processed_source  = Lazy_Iterable_Wrapper(test_original_source, transform_lambda)\n",
    "\n",
    "train_processed_target = Lazy_Iterable_Wrapper(train_original_target, transform_lambda)\n",
    "val_processed_target   = Lazy_Iterable_Wrapper(val_original_target, transform_lambda)\n",
    "test_processed_target  = Lazy_Iterable_Wrapper(test_original_target, transform_lambda)\n",
    "\n",
    "datasets = EasyDict({\n",
    "    \"source\": {\n",
    "        \"original\": {\"train\":train_original_source, \"val\":val_original_source, \"test\":test_original_source},\n",
    "        \"processed\": {\"train\":train_processed_source, \"val\":val_processed_source, \"test\":test_processed_source}\n",
    "    },\n",
    "    \"target\": {\n",
    "        \"original\": {\"train\":train_original_target, \"val\":val_original_target, \"test\":test_original_target},\n",
    "        \"processed\": {\"train\":train_processed_target, \"val\":val_processed_target, \"test\":test_processed_target}\n",
    "    },\n",
    "})"
   ]
  },
  {
   "cell_type": "code",
   "execution_count": 20,
   "id": "5b3c01fc",
   "metadata": {
    "execution": {
     "iopub.execute_input": "2022-03-20T10:44:51.255197Z",
     "iopub.status.busy": "2022-03-20T10:44:51.254934Z",
     "iopub.status.idle": "2022-03-20T10:45:00.960821Z",
     "shell.execute_reply": "2022-03-20T10:45:00.961196Z"
    },
    "papermill": {
     "duration": 9.72261,
     "end_time": "2022-03-20T10:45:00.961307",
     "exception": false,
     "start_time": "2022-03-20T10:44:51.238697",
     "status": "completed"
    },
    "tags": []
   },
   "outputs": [
    {
     "name": "stdout",
     "output_type": "stream",
     "text": [
      "{'C_2', 'C_4', 'W_3', 'C_1', 'W_1', 'C_5', 'W_4', 'C_3', 'W_2'}\n"
     ]
    },
    {
     "name": "stdout",
     "output_type": "stream",
     "text": [
      "{'O_20', 'O_50', 'O_8', 'O_26', 'O_32', 'O_14', 'O_38', 'O_44'}\n"
     ]
    },
    {
     "name": "stdout",
     "output_type": "stream",
     "text": [
      "tensor([[[-0.4211,  0.5775,  1.1953,  ...,  0.1992,  0.4561,  1.0415],\n",
      "         [-0.4945, -1.0738,  0.2700,  ..., -0.2682, -0.6239, -0.0917]],\n",
      "\n",
      "        [[-0.3825,  0.7995,  1.2209,  ...,  0.1532,  0.5235,  1.1301],\n",
      "         [-0.9293, -0.9155,  0.5979,  ..., -0.3193, -0.5529, -0.0104]],\n",
      "\n",
      "        [[-0.6094,  0.8587,  1.0361,  ..., -0.4112,  0.3653,  0.9132],\n",
      "         [-0.8119, -1.0907,  0.4432,  ..., -0.5635, -1.0837, -0.0234]],\n",
      "\n",
      "        ...,\n",
      "\n",
      "        [[-0.2068,  1.1921,  1.8260,  ..., -0.3565,  1.2173,  1.1383],\n",
      "         [-0.2875, -1.2173, -0.4002,  ..., -0.4523,  0.2034,  0.5162]],\n",
      "\n",
      "        [[-0.6686,  1.1887,  1.9663,  ...,  0.2080,  0.9229,  0.1238],\n",
      "         [-0.1387, -0.2542,  0.5332,  ..., -0.2658, -0.2625,  0.8998]],\n",
      "\n",
      "        [[ 0.3971, -0.0899, -1.4323,  ...,  0.5125, -0.3292, -1.2185],\n",
      "         [-0.1527,  0.9588,  1.0929,  ...,  0.4022,  0.6449, -0.4277]]])\n"
     ]
    }
   ],
   "source": [
    "from steves_utils.transforms import get_average_magnitude, get_average_power\n",
    "\n",
    "print(set([u for u,_ in val_original_source]))\n",
    "print(set([u for u,_ in val_original_target]))\n",
    "\n",
    "s_x, s_y, q_x, q_y, _ = next(iter(train_processed_source))\n",
    "print(s_x)\n",
    "\n",
    "# for ds in [\n",
    "#     train_processed_source,\n",
    "#     val_processed_source,\n",
    "#     test_processed_source,\n",
    "#     train_processed_target,\n",
    "#     val_processed_target,\n",
    "#     test_processed_target\n",
    "# ]:\n",
    "#     for s_x, s_y, q_x, q_y, _ in ds:\n",
    "#         for X in (s_x, q_x):\n",
    "#             for x in X:\n",
    "#                 assert np.isclose(get_average_magnitude(x.numpy()), 1.0)\n",
    "#                 assert np.isclose(get_average_power(x.numpy()), 1.0)\n",
    "                "
   ]
  },
  {
   "cell_type": "code",
   "execution_count": 21,
   "id": "bbdacba1",
   "metadata": {
    "execution": {
     "iopub.execute_input": "2022-03-20T10:45:01.001111Z",
     "iopub.status.busy": "2022-03-20T10:45:01.000772Z",
     "iopub.status.idle": "2022-03-20T10:45:01.063156Z",
     "shell.execute_reply": "2022-03-20T10:45:01.063644Z"
    },
    "papermill": {
     "duration": 0.081302,
     "end_time": "2022-03-20T10:45:01.063790",
     "exception": false,
     "start_time": "2022-03-20T10:45:00.982488",
     "status": "completed"
    },
    "tags": []
   },
   "outputs": [
    {
     "name": "stdout",
     "output_type": "stream",
     "text": [
      "(2, 256)\n"
     ]
    }
   ],
   "source": [
    "###################################\n",
    "# Build the model\n",
    "###################################\n",
    "# easfsl only wants a tuple for the shape\n",
    "model = Steves_Prototypical_Network(x_net, device=p.device, x_shape=tuple(p.x_shape))\n",
    "optimizer = Adam(params=model.parameters(), lr=p.lr)"
   ]
  },
  {
   "cell_type": "code",
   "execution_count": 22,
   "id": "22b39ac5",
   "metadata": {
    "execution": {
     "iopub.execute_input": "2022-03-20T10:45:01.103960Z",
     "iopub.status.busy": "2022-03-20T10:45:01.103691Z",
     "iopub.status.idle": "2022-03-20T11:47:29.051022Z",
     "shell.execute_reply": "2022-03-20T11:47:29.050785Z"
    },
    "papermill": {
     "duration": 3747.966241,
     "end_time": "2022-03-20T11:47:29.051084",
     "exception": false,
     "start_time": "2022-03-20T10:45:01.084843",
     "status": "completed"
    },
    "tags": []
   },
   "outputs": [
    {
     "name": "stdout",
     "output_type": "stream",
     "text": [
      "epoch: 1, [batch: 1 / 13150], examples_per_second: 23.3077, train_label_loss: 2.5781, \n"
     ]
    },
    {
     "name": "stdout",
     "output_type": "stream",
     "text": [
      "epoch: 1, [batch: 1315 / 13150], examples_per_second: 1726.2530, train_label_loss: 0.0279, \n"
     ]
    },
    {
     "name": "stdout",
     "output_type": "stream",
     "text": [
      "epoch: 1, [batch: 2630 / 13150], examples_per_second: 1727.0382, train_label_loss: 0.0226, \n"
     ]
    },
    {
     "name": "stdout",
     "output_type": "stream",
     "text": [
      "epoch: 1, [batch: 3945 / 13150], examples_per_second: 1726.7754, train_label_loss: 0.0147, \n"
     ]
    },
    {
     "name": "stdout",
     "output_type": "stream",
     "text": [
      "epoch: 1, [batch: 5260 / 13150], examples_per_second: 1724.1454, train_label_loss: 0.3722, \n"
     ]
    },
    {
     "name": "stdout",
     "output_type": "stream",
     "text": [
      "epoch: 1, [batch: 6575 / 13150], examples_per_second: 1728.8723, train_label_loss: 0.0029, \n"
     ]
    },
    {
     "name": "stdout",
     "output_type": "stream",
     "text": [
      "epoch: 1, [batch: 7890 / 13150], examples_per_second: 1728.0397, train_label_loss: 0.2467, \n"
     ]
    },
    {
     "name": "stdout",
     "output_type": "stream",
     "text": [
      "epoch: 1, [batch: 9205 / 13150], examples_per_second: 1724.8176, train_label_loss: 0.0016, \n"
     ]
    },
    {
     "name": "stdout",
     "output_type": "stream",
     "text": [
      "epoch: 1, [batch: 10520 / 13150], examples_per_second: 1723.9199, train_label_loss: 0.4922, \n"
     ]
    },
    {
     "name": "stdout",
     "output_type": "stream",
     "text": [
      "epoch: 1, [batch: 11835 / 13150], examples_per_second: 1815.8262, train_label_loss: 0.0008, \n"
     ]
    },
    {
     "name": "stdout",
     "output_type": "stream",
     "text": [
      "=============================================================\n",
      "epoch: 1, source_val_acc_label: 0.9791, target_val_acc_label: 0.2000, source_val_label_loss: 0.0982, target_val_label_loss: 2.4958, \n",
      "=============================================================\n"
     ]
    },
    {
     "name": "stdout",
     "output_type": "stream",
     "text": [
      "New best\n"
     ]
    },
    {
     "name": "stdout",
     "output_type": "stream",
     "text": [
      "epoch: 2, [batch: 1 / 13146], examples_per_second: 1.6147, train_label_loss: 0.1035, \n"
     ]
    },
    {
     "name": "stdout",
     "output_type": "stream",
     "text": [
      "epoch: 2, [batch: 1315 / 13146], examples_per_second: 1739.6025, train_label_loss: 0.1466, \n"
     ]
    },
    {
     "name": "stdout",
     "output_type": "stream",
     "text": [
      "epoch: 2, [batch: 2630 / 13146], examples_per_second: 1742.4536, train_label_loss: 0.0902, \n"
     ]
    },
    {
     "name": "stdout",
     "output_type": "stream",
     "text": [
      "epoch: 2, [batch: 3944 / 13146], examples_per_second: 1739.2009, train_label_loss: 0.0021, \n"
     ]
    },
    {
     "name": "stdout",
     "output_type": "stream",
     "text": [
      "epoch: 2, [batch: 5259 / 13146], examples_per_second: 1735.5688, train_label_loss: 0.0181, \n"
     ]
    },
    {
     "name": "stdout",
     "output_type": "stream",
     "text": [
      "epoch: 2, [batch: 6573 / 13146], examples_per_second: 1738.5581, train_label_loss: 0.0006, \n"
     ]
    },
    {
     "name": "stdout",
     "output_type": "stream",
     "text": [
      "epoch: 2, [batch: 7888 / 13146], examples_per_second: 1741.8468, train_label_loss: 0.0005, \n"
     ]
    },
    {
     "name": "stdout",
     "output_type": "stream",
     "text": [
      "epoch: 2, [batch: 9202 / 13146], examples_per_second: 1734.7867, train_label_loss: 0.0016, \n"
     ]
    },
    {
     "name": "stdout",
     "output_type": "stream",
     "text": [
      "epoch: 2, [batch: 10517 / 13146], examples_per_second: 1740.6887, train_label_loss: 0.1351, \n"
     ]
    },
    {
     "name": "stdout",
     "output_type": "stream",
     "text": [
      "epoch: 2, [batch: 11831 / 13146], examples_per_second: 1882.3636, train_label_loss: 0.1889, \n"
     ]
    },
    {
     "name": "stdout",
     "output_type": "stream",
     "text": [
      "=============================================================\n",
      "epoch: 2, source_val_acc_label: 0.9842, target_val_acc_label: 0.2325, source_val_label_loss: 0.0724, target_val_label_loss: 2.3315, \n",
      "=============================================================\n"
     ]
    },
    {
     "name": "stdout",
     "output_type": "stream",
     "text": [
      "New best\n"
     ]
    },
    {
     "name": "stdout",
     "output_type": "stream",
     "text": [
      "epoch: 3, [batch: 1 / 13172], examples_per_second: 1.6131, train_label_loss: 0.0233, \n"
     ]
    },
    {
     "name": "stdout",
     "output_type": "stream",
     "text": [
      "epoch: 3, [batch: 1318 / 13172], examples_per_second: 1740.4736, train_label_loss: 0.0009, \n"
     ]
    },
    {
     "name": "stdout",
     "output_type": "stream",
     "text": [
      "epoch: 3, [batch: 2635 / 13172], examples_per_second: 1741.8521, train_label_loss: 0.0007, \n"
     ]
    },
    {
     "name": "stdout",
     "output_type": "stream",
     "text": [
      "epoch: 3, [batch: 3952 / 13172], examples_per_second: 1738.1218, train_label_loss: 0.0176, \n"
     ]
    },
    {
     "name": "stdout",
     "output_type": "stream",
     "text": [
      "epoch: 3, [batch: 5269 / 13172], examples_per_second: 1736.5727, train_label_loss: 0.0035, \n"
     ]
    },
    {
     "name": "stdout",
     "output_type": "stream",
     "text": [
      "epoch: 3, [batch: 6586 / 13172], examples_per_second: 1739.6608, train_label_loss: 0.0073, \n"
     ]
    },
    {
     "name": "stdout",
     "output_type": "stream",
     "text": [
      "epoch: 3, [batch: 7903 / 13172], examples_per_second: 1738.6287, train_label_loss: 0.0002, \n"
     ]
    },
    {
     "name": "stdout",
     "output_type": "stream",
     "text": [
      "epoch: 3, [batch: 9220 / 13172], examples_per_second: 1735.2611, train_label_loss: 0.1910, \n"
     ]
    },
    {
     "name": "stdout",
     "output_type": "stream",
     "text": [
      "epoch: 3, [batch: 10537 / 13172], examples_per_second: 1740.3086, train_label_loss: 0.0003, \n"
     ]
    },
    {
     "name": "stdout",
     "output_type": "stream",
     "text": [
      "epoch: 3, [batch: 11854 / 13172], examples_per_second: 1918.2925, train_label_loss: 0.0007, \n"
     ]
    },
    {
     "name": "stdout",
     "output_type": "stream",
     "text": [
      "=============================================================\n",
      "epoch: 3, source_val_acc_label: 0.9854, target_val_acc_label: 0.2000, source_val_label_loss: 0.0636, target_val_label_loss: 2.4491, \n",
      "=============================================================\n"
     ]
    },
    {
     "name": "stdout",
     "output_type": "stream",
     "text": [
      "epoch: 4, [batch: 1 / 13145], examples_per_second: 1.7820, train_label_loss: 0.0534, \n"
     ]
    },
    {
     "name": "stdout",
     "output_type": "stream",
     "text": [
      "epoch: 4, [batch: 1315 / 13145], examples_per_second: 1995.2024, train_label_loss: 0.0005, \n"
     ]
    },
    {
     "name": "stdout",
     "output_type": "stream",
     "text": [
      "epoch: 4, [batch: 2629 / 13145], examples_per_second: 2729.9993, train_label_loss: 0.0002, \n"
     ]
    },
    {
     "name": "stdout",
     "output_type": "stream",
     "text": [
      "epoch: 4, [batch: 3944 / 13145], examples_per_second: 3121.9250, train_label_loss: 0.0020, \n"
     ]
    },
    {
     "name": "stdout",
     "output_type": "stream",
     "text": [
      "epoch: 4, [batch: 5258 / 13145], examples_per_second: 3129.2661, train_label_loss: 0.0143, \n"
     ]
    },
    {
     "name": "stdout",
     "output_type": "stream",
     "text": [
      "epoch: 4, [batch: 6573 / 13145], examples_per_second: 2273.7335, train_label_loss: 0.0046, \n"
     ]
    },
    {
     "name": "stdout",
     "output_type": "stream",
     "text": [
      "epoch: 4, [batch: 7887 / 13145], examples_per_second: 1738.8999, train_label_loss: 0.0008, \n"
     ]
    },
    {
     "name": "stdout",
     "output_type": "stream",
     "text": [
      "epoch: 4, [batch: 9201 / 13145], examples_per_second: 1734.8593, train_label_loss: 0.0003, \n"
     ]
    },
    {
     "name": "stdout",
     "output_type": "stream",
     "text": [
      "epoch: 4, [batch: 10516 / 13145], examples_per_second: 1741.8359, train_label_loss: 0.0002, \n"
     ]
    },
    {
     "name": "stdout",
     "output_type": "stream",
     "text": [
      "epoch: 4, [batch: 11830 / 13145], examples_per_second: 1740.5177, train_label_loss: 0.0014, \n"
     ]
    },
    {
     "name": "stdout",
     "output_type": "stream",
     "text": [
      "=============================================================\n",
      "epoch: 4, source_val_acc_label: 0.9858, target_val_acc_label: 0.1840, source_val_label_loss: 0.0635, target_val_label_loss: 2.5780, \n",
      "=============================================================\n"
     ]
    },
    {
     "name": "stdout",
     "output_type": "stream",
     "text": [
      "epoch: 5, [batch: 1 / 13163], examples_per_second: 1.4646, train_label_loss: 0.0003, \n"
     ]
    },
    {
     "name": "stdout",
     "output_type": "stream",
     "text": [
      "epoch: 5, [batch: 1317 / 13163], examples_per_second: 1740.1117, train_label_loss: 0.0952, \n"
     ]
    },
    {
     "name": "stdout",
     "output_type": "stream",
     "text": [
      "epoch: 5, [batch: 2633 / 13163], examples_per_second: 1739.2397, train_label_loss: 0.0568, \n"
     ]
    },
    {
     "name": "stdout",
     "output_type": "stream",
     "text": [
      "epoch: 5, [batch: 3949 / 13163], examples_per_second: 1741.6037, train_label_loss: 0.0001, \n"
     ]
    },
    {
     "name": "stdout",
     "output_type": "stream",
     "text": [
      "epoch: 5, [batch: 5265 / 13163], examples_per_second: 1921.5584, train_label_loss: 0.1337, \n"
     ]
    },
    {
     "name": "stdout",
     "output_type": "stream",
     "text": [
      "epoch: 5, [batch: 6582 / 13163], examples_per_second: 1988.4247, train_label_loss: 0.1897, \n"
     ]
    },
    {
     "name": "stdout",
     "output_type": "stream",
     "text": [
      "epoch: 5, [batch: 7898 / 13163], examples_per_second: 1741.6122, train_label_loss: 0.0057, \n"
     ]
    },
    {
     "name": "stdout",
     "output_type": "stream",
     "text": [
      "epoch: 5, [batch: 9214 / 13163], examples_per_second: 1738.7538, train_label_loss: 0.0467, \n"
     ]
    },
    {
     "name": "stdout",
     "output_type": "stream",
     "text": [
      "epoch: 5, [batch: 10530 / 13163], examples_per_second: 1744.8787, train_label_loss: 0.0005, \n"
     ]
    },
    {
     "name": "stdout",
     "output_type": "stream",
     "text": [
      "epoch: 5, [batch: 11846 / 13163], examples_per_second: 1741.9077, train_label_loss: 0.0000, \n"
     ]
    },
    {
     "name": "stdout",
     "output_type": "stream",
     "text": [
      "=============================================================\n",
      "epoch: 5, source_val_acc_label: 0.9852, target_val_acc_label: 0.1642, source_val_label_loss: 0.0652, target_val_label_loss: 2.7762, \n",
      "=============================================================\n"
     ]
    },
    {
     "name": "stdout",
     "output_type": "stream",
     "text": [
      "epoch: 6, [batch: 1 / 13152], examples_per_second: 1.4676, train_label_loss: 0.1538, \n"
     ]
    },
    {
     "name": "stdout",
     "output_type": "stream",
     "text": [
      "epoch: 6, [batch: 1316 / 13152], examples_per_second: 1742.9593, train_label_loss: 0.0001, \n"
     ]
    },
    {
     "name": "stdout",
     "output_type": "stream",
     "text": [
      "epoch: 6, [batch: 2631 / 13152], examples_per_second: 1740.5683, train_label_loss: 0.0130, \n"
     ]
    },
    {
     "name": "stdout",
     "output_type": "stream",
     "text": [
      "epoch: 6, [batch: 3946 / 13152], examples_per_second: 1743.9139, train_label_loss: 0.0000, \n"
     ]
    },
    {
     "name": "stdout",
     "output_type": "stream",
     "text": [
      "epoch: 6, [batch: 5261 / 13152], examples_per_second: 1961.2840, train_label_loss: 0.0887, \n"
     ]
    },
    {
     "name": "stdout",
     "output_type": "stream",
     "text": [
      "epoch: 6, [batch: 6576 / 13152], examples_per_second: 1952.0178, train_label_loss: 0.0078, \n"
     ]
    },
    {
     "name": "stdout",
     "output_type": "stream",
     "text": [
      "epoch: 6, [batch: 7891 / 13152], examples_per_second: 1741.0172, train_label_loss: 0.0000, \n"
     ]
    },
    {
     "name": "stdout",
     "output_type": "stream",
     "text": [
      "epoch: 6, [batch: 9206 / 13152], examples_per_second: 1737.9376, train_label_loss: 0.0001, \n"
     ]
    },
    {
     "name": "stdout",
     "output_type": "stream",
     "text": [
      "epoch: 6, [batch: 10521 / 13152], examples_per_second: 1743.7293, train_label_loss: 0.0497, \n"
     ]
    },
    {
     "name": "stdout",
     "output_type": "stream",
     "text": [
      "epoch: 6, [batch: 11836 / 13152], examples_per_second: 1740.7104, train_label_loss: 0.0000, \n"
     ]
    },
    {
     "name": "stdout",
     "output_type": "stream",
     "text": [
      "=============================================================\n",
      "epoch: 6, source_val_acc_label: 0.9858, target_val_acc_label: 0.1574, source_val_label_loss: 0.0660, target_val_label_loss: 3.0642, \n",
      "=============================================================\n"
     ]
    },
    {
     "name": "stdout",
     "output_type": "stream",
     "text": [
      "Patience (3) exhausted\n"
     ]
    }
   ],
   "source": [
    "###################################\n",
    "# train\n",
    "###################################\n",
    "jig = PTN_Train_Eval_Test_Jig(model, p.BEST_MODEL_PATH, p.device)\n",
    "\n",
    "jig.train(\n",
    "    train_iterable=datasets.source.processed.train,\n",
    "    source_val_iterable=datasets.source.processed.val,\n",
    "    target_val_iterable=datasets.target.processed.val,\n",
    "    num_epochs=p.n_epoch,\n",
    "    num_logs_per_epoch=p.NUM_LOGS_PER_EPOCH,\n",
    "    patience=p.patience,\n",
    "    optimizer=optimizer,\n",
    "    criteria_for_best=p.criteria_for_best,\n",
    ")"
   ]
  },
  {
   "cell_type": "code",
   "execution_count": 23,
   "id": "31e8fabf",
   "metadata": {
    "execution": {
     "iopub.execute_input": "2022-03-20T11:47:29.112235Z",
     "iopub.status.busy": "2022-03-20T11:47:29.111779Z",
     "iopub.status.idle": "2022-03-20T11:47:29.130222Z",
     "shell.execute_reply": "2022-03-20T11:47:29.129759Z"
    },
    "papermill": {
     "duration": 0.05165,
     "end_time": "2022-03-20T11:47:29.130329",
     "exception": false,
     "start_time": "2022-03-20T11:47:29.078679",
     "status": "completed"
    },
    "tags": []
   },
   "outputs": [],
   "source": [
    "total_experiment_time_secs = time.time() - start_time_secs"
   ]
  },
  {
   "cell_type": "code",
   "execution_count": 24,
   "id": "87b9595b",
   "metadata": {
    "execution": {
     "iopub.execute_input": "2022-03-20T11:47:29.193486Z",
     "iopub.status.busy": "2022-03-20T11:47:29.193105Z",
     "iopub.status.idle": "2022-03-20T11:51:21.047501Z",
     "shell.execute_reply": "2022-03-20T11:51:21.047728Z"
    },
    "papermill": {
     "duration": 231.887887,
     "end_time": "2022-03-20T11:51:21.047810",
     "exception": false,
     "start_time": "2022-03-20T11:47:29.159923",
     "status": "completed"
    },
    "tags": []
   },
   "outputs": [],
   "source": [
    "###################################\n",
    "# Evaluate the model\n",
    "###################################\n",
    "source_test_label_accuracy, source_test_label_loss = jig.test(datasets.source.processed.test)\n",
    "target_test_label_accuracy, target_test_label_loss = jig.test(datasets.target.processed.test)\n",
    "\n",
    "source_val_label_accuracy, source_val_label_loss = jig.test(datasets.source.processed.val)\n",
    "target_val_label_accuracy, target_val_label_loss = jig.test(datasets.target.processed.val)\n",
    "\n",
    "history = jig.get_history()\n",
    "\n",
    "total_epochs_trained = len(history[\"epoch_indices\"])\n",
    "\n",
    "val_dl = Iterable_Aggregator((datasets.source.original.val,datasets.target.original.val))\n",
    "\n",
    "confusion = ptn_confusion_by_domain_over_dataloader(model, p.device, val_dl)\n",
    "per_domain_accuracy = per_domain_accuracy_from_confusion(confusion)\n",
    "\n",
    "# Add a key to per_domain_accuracy for if it was a source domain\n",
    "for domain, accuracy in per_domain_accuracy.items():\n",
    "    per_domain_accuracy[domain] = {\n",
    "        \"accuracy\": accuracy,\n",
    "        \"source?\": domain in p.domains_source\n",
    "    }\n",
    "\n",
    "# Do an independent accuracy assesment JUST TO BE SURE!\n",
    "# _source_test_label_accuracy = independent_accuracy_assesment(model, datasets.source.processed.test, p.device)\n",
    "# _target_test_label_accuracy = independent_accuracy_assesment(model, datasets.target.processed.test, p.device)\n",
    "# _source_val_label_accuracy = independent_accuracy_assesment(model, datasets.source.processed.val, p.device)\n",
    "# _target_val_label_accuracy = independent_accuracy_assesment(model, datasets.target.processed.val, p.device)\n",
    "\n",
    "# assert(_source_test_label_accuracy == source_test_label_accuracy)\n",
    "# assert(_target_test_label_accuracy == target_test_label_accuracy)\n",
    "# assert(_source_val_label_accuracy == source_val_label_accuracy)\n",
    "# assert(_target_val_label_accuracy == target_val_label_accuracy)\n",
    "\n",
    "experiment = {\n",
    "    \"experiment_name\": p.experiment_name,\n",
    "    \"parameters\": dict(p),\n",
    "    \"results\": {\n",
    "        \"source_test_label_accuracy\": source_test_label_accuracy,\n",
    "        \"source_test_label_loss\": source_test_label_loss,\n",
    "        \"target_test_label_accuracy\": target_test_label_accuracy,\n",
    "        \"target_test_label_loss\": target_test_label_loss,\n",
    "        \"source_val_label_accuracy\": source_val_label_accuracy,\n",
    "        \"source_val_label_loss\": source_val_label_loss,\n",
    "        \"target_val_label_accuracy\": target_val_label_accuracy,\n",
    "        \"target_val_label_loss\": target_val_label_loss,\n",
    "        \"total_epochs_trained\": total_epochs_trained,\n",
    "        \"total_experiment_time_secs\": total_experiment_time_secs,\n",
    "        \"confusion\": confusion,\n",
    "        \"per_domain_accuracy\": per_domain_accuracy,\n",
    "    },\n",
    "    \"history\": history,\n",
    "    \"dataset_metrics\": get_dataset_metrics(datasets, \"ptn\"),\n",
    "}"
   ]
  },
  {
   "cell_type": "code",
   "execution_count": 25,
   "id": "54a21829",
   "metadata": {
    "execution": {
     "iopub.execute_input": "2022-03-20T11:51:21.104453Z",
     "iopub.status.busy": "2022-03-20T11:51:21.104191Z",
     "iopub.status.idle": "2022-03-20T11:51:21.233127Z",
     "shell.execute_reply": "2022-03-20T11:51:21.233541Z"
    },
    "papermill": {
     "duration": 0.158908,
     "end_time": "2022-03-20T11:51:21.233672",
     "exception": false,
     "start_time": "2022-03-20T11:51:21.074764",
     "status": "completed"
    },
    "tags": []
   },
   "outputs": [
    {
     "data": {
      "image/png": "[encoded data removed]",
      "text/plain": [
       "<Figure size 1080x504 with 1 Axes>"
      ]
     },
     "metadata": {
      "needs_background": "light"
     },
     "output_type": "display_data"
    }
   ],
   "source": [
    "ax = get_loss_curve(experiment)\n",
    "plt.show()"
   ]
  },
  {
   "cell_type": "code",
   "execution_count": 26,
   "id": "fd8a0f60",
   "metadata": {
    "execution": {
     "iopub.execute_input": "2022-03-20T11:51:21.296738Z",
     "iopub.status.busy": "2022-03-20T11:51:21.296485Z",
     "iopub.status.idle": "2022-03-20T11:51:21.462010Z",
     "shell.execute_reply": "2022-03-20T11:51:21.462297Z"
    },
    "papermill": {
     "duration": 0.195783,
     "end_time": "2022-03-20T11:51:21.462395",
     "exception": false,
     "start_time": "2022-03-20T11:51:21.266612",
     "status": "completed"
    },
    "tags": []
   },
   "outputs": [
    {
     "data": {
      "text/plain": [
       "<AxesSubplot:title={'center':'Results'}>"
      ]
     },
     "execution_count": 26,
     "metadata": {},
     "output_type": "execute_result"
    },
    {
     "data": {
      "image/png": "[encoded data removed]",
      "text/plain": [
       "<Figure size 1080x504 with 1 Axes>"
      ]
     },
     "metadata": {
      "needs_background": "light"
     },
     "output_type": "display_data"
    }
   ],
   "source": [
    "get_results_table(experiment)"
   ]
  },
  {
   "cell_type": "code",
   "execution_count": 27,
   "id": "cf8dc689",
   "metadata": {
    "execution": {
     "iopub.execute_input": "2022-03-20T11:51:21.535068Z",
     "iopub.status.busy": "2022-03-20T11:51:21.534819Z",
     "iopub.status.idle": "2022-03-20T11:51:21.690406Z",
     "shell.execute_reply": "2022-03-20T11:51:21.690092Z"
    },
    "papermill": {
     "duration": 0.188393,
     "end_time": "2022-03-20T11:51:21.690487",
     "exception": false,
     "start_time": "2022-03-20T11:51:21.502094",
     "status": "completed"
    },
    "tags": []
   },
   "outputs": [
    {
     "data": {
      "text/plain": [
       "<AxesSubplot:title={'center':'Per Domain Validation Accuracy'}, xlabel='domain'>"
      ]
     },
     "execution_count": 27,
     "metadata": {},
     "output_type": "execute_result"
    },
    {
     "data": {
      "image/png": "[encoded data removed]",
      "text/plain": [
       "<Figure size 1080x504 with 1 Axes>"
      ]
     },
     "metadata": {
      "needs_background": "light"
     },
     "output_type": "display_data"
    }
   ],
   "source": [
    "get_domain_accuracies(experiment)"
   ]
  },
  {
   "cell_type": "code",
   "execution_count": 28,
   "id": "a74ae082",
   "metadata": {
    "execution": {
     "iopub.execute_input": "2022-03-20T11:51:21.761326Z",
     "iopub.status.busy": "2022-03-20T11:51:21.761067Z",
     "iopub.status.idle": "2022-03-20T11:51:21.776463Z",
     "shell.execute_reply": "2022-03-20T11:51:21.776668Z"
    },
    "papermill": {
     "duration": 0.048551,
     "end_time": "2022-03-20T11:51:21.776733",
     "exception": false,
     "start_time": "2022-03-20T11:51:21.728182",
     "status": "completed"
    },
    "tags": []
   },
   "outputs": [
    {
     "name": "stdout",
     "output_type": "stream",
     "text": [
      "Source Test Label Accuracy: 0.9835322276159655 Target Test Label Accuracy: 0.238671875\n",
      "Source Val Label Accuracy: 0.9841691822173436 Target Val Label Accuracy: 0.23251953125\n"
     ]
    }
   ],
   "source": [
    "print(\"Source Test Label Accuracy:\", experiment[\"results\"][\"source_test_label_accuracy\"], \"Target Test Label Accuracy:\", experiment[\"results\"][\"target_test_label_accuracy\"])\n",
    "print(\"Source Val Label Accuracy:\", experiment[\"results\"][\"source_val_label_accuracy\"], \"Target Val Label Accuracy:\", experiment[\"results\"][\"target_val_label_accuracy\"])"
   ]
  },
  {
   "cell_type": "code",
   "execution_count": 29,
   "id": "dacca602",
   "metadata": {
    "execution": {
     "iopub.execute_input": "2022-03-20T11:51:21.838998Z",
     "iopub.status.busy": "2022-03-20T11:51:21.838745Z",
     "iopub.status.idle": "2022-03-20T11:51:21.856520Z",
     "shell.execute_reply": "2022-03-20T11:51:21.856727Z"
    },
    "papermill": {
     "duration": 0.050186,
     "end_time": "2022-03-20T11:51:21.856797",
     "exception": false,
     "start_time": "2022-03-20T11:51:21.806611",
     "status": "completed"
    },
    "tags": [
     "experiment_json"
    ]
   },
   "outputs": [
    {
     "data": {
      "text/plain": [
       "'{\"experiment_name\": \"tl_2v2:cores+wisig -> oracle.run1.framed\", \"parameters\": {\"experiment_name\": \"tl_2v2:cores+wisig -> oracle.run1.framed\", \"device\": \"cuda\", \"lr\": 0.0001, \"n_shot\": 3, \"n_query\": 2, \"train_k_factor\": 3, \"val_k_factor\": 2, \"test_k_factor\": 2, \"torch_default_dtype\": \"torch.float32\", \"n_epoch\": 50, \"patience\": 3, \"criteria_for_best\": \"target_accuracy\", \"x_net\": [{\"class\": \"nnReshape\", \"kargs\": {\"shape\": [-1, 1, 2, 256]}}, {\"class\": \"Conv2d\", \"kargs\": {\"in_channels\": 1, \"out_channels\": 256, \"kernel_size\": [1, 7], \"bias\": false, \"padding\": [0, 3]}}, {\"class\": \"ReLU\", \"kargs\": {\"inplace\": true}}, {\"class\": \"BatchNorm2d\", \"kargs\": {\"num_features\": 256}}, {\"class\": \"Conv2d\", \"kargs\": {\"in_channels\": 256, \"out_channels\": 80, \"kernel_size\": [2, 7], \"bias\": true, \"padding\": [0, 3]}}, {\"class\": \"ReLU\", \"kargs\": {\"inplace\": true}}, {\"class\": \"BatchNorm2d\", \"kargs\": {\"num_features\": 80}}, {\"class\": \"Flatten\", \"kargs\": {}}, {\"class\": \"Linear\", \"kargs\": {\"in_features\": 20480, \"out_features\": 256}}, {\"class\": \"ReLU\", \"kargs\": {\"inplace\": true}}, {\"class\": \"BatchNorm1d\", \"kargs\": {\"num_features\": 256}}, {\"class\": \"Linear\", \"kargs\": {\"in_features\": 256, \"out_features\": 256}}], \"NUM_LOGS_PER_EPOCH\": 10, \"BEST_MODEL_PATH\": \"./best_model.pth\", \"n_way\": 16, \"datasets\": [{\"labels\": [\"1-10.\", \"1-11.\", \"1-15.\", \"1-16.\", \"1-17.\", \"1-18.\", \"1-19.\", \"10-4.\", \"10-7.\", \"11-1.\", \"11-14.\", \"11-17.\", \"11-20.\", \"11-7.\", \"13-20.\", \"13-8.\", \"14-10.\", \"14-11.\", \"14-14.\", \"14-7.\", \"15-1.\", \"15-20.\", \"16-1.\", \"16-16.\", \"17-10.\", \"17-11.\", \"17-2.\", \"19-1.\", \"19-16.\", \"19-19.\", \"19-20.\", \"19-3.\", \"2-10.\", \"2-11.\", \"2-17.\", \"2-18.\", \"2-20.\", \"2-3.\", \"2-4.\", \"2-5.\", \"2-6.\", \"2-7.\", \"2-8.\", \"3-13.\", \"3-18.\", \"3-3.\", \"4-1.\", \"4-10.\", \"4-11.\", \"4-19.\", \"5-5.\", \"6-15.\", \"7-10.\", \"7-14.\", \"8-18.\", \"8-20.\", \"8-3.\", \"8-8.\"], \"domains\": [1, 2, 3, 4, 5], \"num_examples_per_domain_per_label\": -1, \"pickle_path\": \"/mnt/wd500GB/CSC500/csc500-main/datasets/cores.stratified_ds.2022A.pkl\", \"source_or_target_dataset\": \"source\", \"x_transforms\": [\"unit_mag\"], \"episode_transforms\": [], \"domain_prefix\": \"C_\"}, {\"labels\": [\"1-10\", \"1-12\", \"1-14\", \"1-16\", \"1-18\", \"1-19\", \"1-8\", \"10-11\", \"10-17\", \"10-4\", \"10-7\", \"11-1\", \"11-10\", \"11-19\", \"11-20\", \"11-4\", \"11-7\", \"12-19\", \"12-20\", \"12-7\", \"13-14\", \"13-18\", \"13-19\", \"13-20\", \"13-3\", \"13-7\", \"14-10\", \"14-11\", \"14-12\", \"14-13\", \"14-14\", \"14-19\", \"14-20\", \"14-7\", \"14-8\", \"14-9\", \"15-1\", \"15-19\", \"15-6\", \"16-1\", \"16-16\", \"16-19\", \"16-20\", \"17-10\", \"17-11\", \"18-1\", \"18-10\", \"18-11\", \"18-12\", \"18-13\", \"18-14\", \"18-15\", \"18-16\", \"18-17\", \"18-19\", \"18-2\", \"18-20\", \"18-4\", \"18-5\", \"18-7\", \"18-8\", \"18-9\", \"19-1\", \"19-10\", \"19-11\", \"19-12\", \"19-13\", \"19-14\", \"19-15\", \"19-19\", \"19-2\", \"19-20\", \"19-3\", \"19-4\", \"19-6\", \"19-7\", \"19-8\", \"19-9\", \"2-1\", \"2-13\", \"2-15\", \"2-3\", \"2-4\", \"2-5\", \"2-6\", \"2-7\", \"2-8\", \"20-1\", \"20-12\", \"20-14\", \"20-15\", \"20-16\", \"20-18\", \"20-19\", \"20-20\", \"20-3\", \"20-4\", \"20-5\", \"20-7\", \"20-8\", \"3-1\", \"3-13\", \"3-18\", \"3-2\", \"3-8\", \"4-1\", \"4-10\", \"4-11\", \"5-1\", \"5-5\", \"6-1\", \"6-15\", \"6-6\", \"7-10\", \"7-11\", \"7-12\", \"7-13\", \"7-14\", \"7-7\", \"7-8\", \"7-9\", \"8-1\", \"8-13\", \"8-14\", \"8-18\", \"8-20\", \"8-3\", \"8-8\", \"9-1\", \"9-7\"], \"domains\": [1, 2, 3, 4], \"num_examples_per_domain_per_label\": -1, \"pickle_path\": \"/mnt/wd500GB/CSC500/csc500-main/datasets/wisig.node3-19.stratified_ds.2022A.pkl\", \"source_or_target_dataset\": \"source\", \"x_transforms\": [\"unit_mag\"], \"episode_transforms\": [], \"domain_prefix\": \"W_\"}, {\"labels\": [\"3123D52\", \"3123D65\", \"3123D79\", \"3123D80\", \"3123D54\", \"3123D70\", \"3123D7B\", \"3123D89\", \"3123D58\", \"3123D76\", \"3123D7D\", \"3123EFE\", \"3123D64\", \"3123D78\", \"3123D7E\", \"3124E4A\"], \"domains\": [32, 38, 8, 44, 14, 50, 20, 26], \"num_examples_per_domain_per_label\": 2000, \"pickle_path\": \"/mnt/wd500GB/CSC500/csc500-main/datasets/oracle.Run1_framed_2000Examples_stratified_ds.2022A.pkl\", \"source_or_target_dataset\": \"target\", \"x_transforms\": [\"unit_mag\"], \"episode_transforms\": [], \"domain_prefix\": \"O_\"}], \"seed\": 7, \"dataset_seed\": 7, \"x_shape\": [2, 256], \"domains_source\": [\"C_1\", \"C_2\", \"C_3\", \"C_4\", \"C_5\", \"W_1\", \"W_2\", \"W_3\", \"W_4\"], \"domains_target\": [\"O_32\", \"O_38\", \"O_8\", \"O_44\", \"O_14\", \"O_50\", \"O_20\", \"O_26\"]}, \"results\": {\"source_test_label_accuracy\": 0.9835322276159655, \"source_test_label_loss\": 0.07542654871940613, \"target_test_label_accuracy\": 0.238671875, \"target_test_label_loss\": 2.3206496238708496, \"source_val_label_accuracy\": 0.9841691822173436, \"source_val_label_loss\": 0.07244651764631271, \"target_val_label_accuracy\": 0.23251953125, \"target_val_label_loss\": 2.331481695175171, \"total_epochs_trained\": 6, \"total_experiment_time_secs\": 3807.6990292072296, \"confusion\": {\"W_4\": {\"71\": {\"71\": 103, \"70\": 1}, \"17\": {\"17\": 20}, \"105\": {\"105\": 85, \"82\": 1, \"111\": 2, \"118\": 2, \"40\": 3, \"87\": 2, \"108\": 1, \"43\": 1, \"69\": 1, \"26\": 1, \"128\": 1}, \"92\": {\"92\": 27, \"15\": 1}, \"100\": {\"100\": 20}, \"6\": {\"6\": 24}, \"36\": {\"36\": 122, \"97\": 1, \"24\": 3, \"84\": 1, \"69\": 1}, \"35\": {\"35\": 12}, \"63\": {\"63\": 16}, \"104\": {\"104\": 16}, \"114\": {\"114\": 125, \"94\": 1, \"3\": 1, \"105\": 1}, \"68\": {\"68\": 16}, \"109\": {\"109\": 112, \"84\": 1, \"14\": 2, \"69\": 1}, \"27\": {\"27\": 93, \"12\": 1, \"78\": 1, \"108\": 1, \"73\": 1, \"7\": 1, \"88\": 1, \"70\": 1}, \"79\": {\"79\": 16}, \"0\": {\"0\": 97, \"69\": 1, \"106\": 1, \"118\": 1, \"101\": 1, \"84\": 1, \"7\": 1, \"107\": 1, \"71\": 1, \"11\": 1}, \"28\": {\"28\": 19, \"84\": 1}, \"4\": {\"4\": 101, \"21\": 1, \"107\": 1, \"106\": 1}, \"106\": {\"106\": 98, \"21\": 1, \"39\": 2, \"69\": 1}, \"40\": {\"40\": 131, \"16\": 1, \"69\": 1, \"12\": 1}, \"127\": {\"127\": 106, \"83\": 1, \"12\": 1}, \"57\": {\"57\": 14, \"51\": 1, \"73\": 1}, \"60\": {\"60\": 31, \"43\": 1}, \"69\": {\"69\": 121, \"84\": 1, \"1\": 1, \"3\": 1}, \"84\": {\"84\": 128, \"108\": 1, \"78\": 1, \"121\": 1, \"3\": 1}, \"24\": {\"24\": 109, \"21\": 1, \"40\": 1, \"88\": 1, \"10\": 1, \"70\": 1, \"36\": 4, \"4\": 1, \"127\": 1}, \"94\": {\"69\": 1, \"94\": 83, \"36\": 1, \"105\": 1, \"15\": 1, \"26\": 1}, \"7\": {\"7\": 114, \"96\": 1, \"125\": 1, \"108\": 1, \"69\": 1, \"4\": 1, \"5\": 1}, \"96\": {\"96\": 16, \"84\": 1, \"89\": 1, \"82\": 1, \"31\": 1}, \"116\": {\"116\": 28}, \"47\": {\"47\": 9, \"127\": 1, \"55\": 1, \"70\": 1}, \"119\": {\"119\": 15, \"25\": 1}, \"74\": {\"74\": 16}, \"93\": {\"93\": 151, \"0\": 1}, \"2\": {\"93\": 2, \"2\": 24, \"26\": 2}, \"37\": {\"37\": 15, \"51\": 1}, \"15\": {\"15\": 125, \"26\": 1, \"106\": 1, \"69\": 1}, \"102\": {\"102\": 136}, \"87\": {\"87\": 116, \"70\": 1, \"105\": 1, \"18\": 1, \"118\": 1, \"43\": 2}, \"107\": {\"107\": 142, \"72\": 1, \"105\": 1}, \"61\": {\"61\": 14, \"118\": 1, \"21\": 1}, \"78\": {\"78\": 31, \"117\": 1, \"50\": 1, \"99\": 1, \"88\": 1, \"127\": 1}, \"9\": {\"9\": 28}, \"32\": {\"32\": 27, \"55\": 1}, \"14\": {\"14\": 111, \"78\": 1}, \"62\": {\"62\": 55, \"16\": 1, \"88\": 1, \"114\": 1, \"12\": 1, \"69\": 1}, \"1\": {\"24\": 1, \"1\": 98, \"101\": 1, \"118\": 1, \"3\": 1}, \"23\": {\"23\": 10, \"60\": 2, \"110\": 1, \"63\": 1, \"35\": 1, \"78\": 1}, \"95\": {\"95\": 32}, \"56\": {\"56\": 12}, \"91\": {\"91\": 23, \"85\": 1}, \"34\": {\"34\": 27, \"29\": 2, \"60\": 2, \"43\": 1}, \"25\": {\"25\": 16}, \"33\": {\"33\": 123, \"7\": 1}, \"16\": {\"16\": 117, \"69\": 1, \"101\": 2, \"39\": 2, \"118\": 1, \"87\": 1}, \"26\": {\"26\": 123, \"1\": 1, \"3\": 1, \"18\": 1}, \"5\": {\"5\": 128, \"16\": 2, \"3\": 1, \"15\": 1, \"102\": 1, \"71\": 1, \"106\": 1, \"43\": 1}, \"123\": {\"123\": 15, \"6\": 1}, \"8\": {\"8\": 118}, \"83\": {\"83\": 26, \"29\": 1, \"105\": 1}, \"125\": {\"125\": 134}, \"51\": {\"51\": 12, \"47\": 1, \"49\": 1, \"78\": 1, \"59\": 1}, \"22\": {\"22\": 16}, \"54\": {\"54\": 16}, \"66\": {\"66\": 16}, \"59\": {\"59\": 11, \"11\": 1}, \"111\": {\"111\": 126, \"5\": 1, \"11\": 1}, \"77\": {\"77\": 12}, \"103\": {\"103\": 16}, \"20\": {\"20\": 15, \"32\": 1}, \"124\": {\"124\": 118, \"0\": 1, \"125\": 1}, \"99\": {\"99\": 39, \"69\": 1}, \"120\": {\"118\": 1, \"120\": 18, \"21\": 1}, \"76\": {\"76\": 15, \"81\": 1}, \"110\": {\"110\": 111, \"114\": 1, \"118\": 1, \"105\": 1, \"36\": 1, \"69\": 1}, \"29\": {\"29\": 31, \"106\": 1}, \"118\": {\"118\": 106, \"12\": 1, \"71\": 1, \"106\": 1, \"21\": 1, \"78\": 1, \"11\": 1}, \"58\": {\"58\": 14, \"47\": 1, \"106\": 1}, \"13\": {\"13\": 15, \"94\": 1}, \"89\": {\"89\": 32}, \"31\": {\"31\": 15, \"95\": 1}, \"64\": {\"64\": 15, \"127\": 1}, \"65\": {\"65\": 12}, \"101\": {\"101\": 130, \"95\": 1, \"127\": 1}, \"126\": {\"126\": 116, \"111\": 1, \"118\": 1}, \"108\": {\"108\": 81, \"23\": 1, \"33\": 1, \"16\": 1, \"0\": 1, \"84\": 1, \"114\": 1, \"88\": 1, \"27\": 1, \"93\": 1, \"12\": 1, \"107\": 1}, \"45\": {\"45\": 16}, \"21\": {\"21\": 35, \"108\": 1, \"1\": 1, \"39\": 1, \"31\": 1, \"114\": 1}, \"30\": {\"30\": 74, \"39\": 1, \"102\": 1}, \"82\": {\"82\": 30, \"105\": 1, \"98\": 1}, \"85\": {\"85\": 28}, \"88\": {\"88\": 123, \"69\": 2, \"107\": 1, \"70\": 1, \"11\": 1, \"118\": 2, \"15\": 1, \"105\": 1}, \"41\": {\"41\": 15, \"88\": 1}, \"128\": {\"128\": 20, \"8\": 3, \"72\": 1}, \"39\": {\"39\": 95, \"114\": 1, \"102\": 1, \"69\": 1, \"122\": 1, \"72\": 1}, \"18\": {\"18\": 113, \"69\": 1, \"70\": 1, \"5\": 1, \"108\": 1, \"43\": 1, \"12\": 1, \"3\": 1}, \"113\": {\"113\": 122, \"114\": 1, \"84\": 1, \"26\": 1, \"3\": 2, \"105\": 1}, \"11\": {\"11\": 135, \"118\": 1, \"1\": 1, \"43\": 1}, \"43\": {\"43\": 117, \"71\": 1, \"87\": 1, \"105\": 1}, \"12\": {\"12\": 96, \"14\": 1, \"68\": 1, \"110\": 1, \"69\": 1}, \"122\": {\"122\": 79, \"105\": 1, \"40\": 1, \"109\": 1, \"88\": 1, \"84\": 1}, \"52\": {\"52\": 20}, \"44\": {\"44\": 62, \"65\": 1, \"98\": 1}, \"90\": {\"90\": 133, \"106\": 1}, \"112\": {\"112\": 15, \"42\": 1}, \"86\": {\"86\": 28}, \"3\": {\"3\": 114, \"84\": 1, \"16\": 1}, \"38\": {\"38\": 16}, \"121\": {\"121\": 28, \"38\": 1, \"44\": 2, \"51\": 1}, \"46\": {\"46\": 19, \"59\": 1}, \"70\": {\"70\": 121, \"88\": 1, \"117\": 1, \"126\": 1}, \"67\": {\"67\": 16}, \"53\": {\"53\": 16}, \"49\": {\"49\": 30, \"19\": 1, \"60\": 1}, \"42\": {\"42\": 25, \"9\": 1, \"8\": 2}, \"10\": {\"10\": 112, \"105\": 1, \"108\": 1, \"2\": 1, \"30\": 2, \"127\": 1}, \"50\": {\"50\": 16}, \"73\": {\"73\": 23, \"125\": 1}, \"115\": {\"115\": 13, \"29\": 2, \"78\": 1}, \"80\": {\"80\": 15, \"114\": 1}, \"19\": {\"19\": 26, \"26\": 1, \"7\": 1}, \"55\": {\"55\": 16}, \"72\": {\"72\": 31, \"106\": 1}, \"117\": {\"117\": 116}, \"81\": {\"81\": 33, \"72\": 1, \"69\": 1, \"127\": 1}, \"75\": {\"75\": 16}, \"98\": {\"98\": 115, \"30\": 1, \"24\": 1, \"25\": 2, \"71\": 1}, \"48\": {\"48\": 16}, \"129\": {\"19\": 1, \"129\": 26, \"10\": 1}, \"97\": {\"97\": 19, \"16\": 1}}, \"C_5\": {\"26\": {\"26\": 24}, \"7\": {\"7\": 32}, \"56\": {\"56\": 142}, \"36\": {\"36\": 91, \"40\": 1}, \"47\": {\"47\": 100}, \"2\": {\"2\": 28}, \"15\": {\"15\": 152}, \"14\": {\"14\": 39, \"40\": 1, \"31\": 1, \"0\": 2, \"35\": 1}, \"27\": {\"27\": 146}, \"40\": {\"40\": 124}, \"49\": {\"49\": 36}, \"45\": {\"45\": 124}, \"46\": {\"46\": 136}, \"11\": {\"11\": 130}, \"30\": {\"30\": 112}, \"0\": {\"0\": 124}, \"10\": {\"10\": 68}, \"1\": {\"1\": 148}, \"42\": {\"42\": 38, \"2\": 1, \"55\": 1}, \"54\": {\"54\": 112}, \"55\": {\"55\": 152}, \"23\": {\"23\": 124}, \"25\": {\"25\": 152}, \"28\": {\"28\": 32}, \"32\": {\"32\": 32}, \"9\": {\"9\": 142}, \"39\": {\"39\": 20}, \"3\": {\"3\": 100}, \"29\": {\"29\": 118}, \"17\": {\"17\": 116}, \"35\": {\"35\": 36}, \"44\": {\"44\": 152}, \"5\": {\"5\": 128}, \"33\": {\"33\": 32}, \"34\": {\"34\": 35, \"0\": 1}, \"13\": {\"13\": 138}, \"41\": {\"41\": 28}, \"6\": {\"6\": 128}, \"51\": {\"51\": 138}, \"50\": {\"50\": 144}, \"37\": {\"37\": 24}, \"19\": {\"19\": 144}, \"57\": {\"57\": 132}, \"21\": {\"21\": 144}, \"24\": {\"24\": 80}, \"8\": {\"8\": 130}, \"12\": {\"12\": 96}, \"48\": {\"48\": 132}, \"43\": {\"43\": 150}, \"53\": {\"53\": 148}, \"38\": {\"38\": 32}, \"16\": {\"16\": 142}, \"22\": {\"22\": 28}, \"4\": {\"4\": 100}, \"18\": {\"18\": 64}, \"20\": {\"20\": 144}, \"52\": {\"52\": 140}, \"31\": {\"31\": 36}}, \"W_1\": {\"105\": {\"105\": 82, \"40\": 2}, \"100\": {\"100\": 16}, \"112\": {\"112\": 16}, \"123\": {\"123\": 16}, \"13\": {\"13\": 16}, \"81\": {\"81\": 28}, \"124\": {\"124\": 119, \"117\": 1}, \"122\": {\"122\": 88}, \"111\": {\"111\": 118, \"69\": 1, \"70\": 1}, \"93\": {\"93\": 156, \"21\": 1, \"43\": 1}, \"106\": {\"106\": 115, \"71\": 1, \"24\": 1, \"43\": 1}, \"113\": {\"113\": 122, \"105\": 1, \"16\": 1}, \"95\": {\"95\": 36}, \"87\": {\"87\": 106, \"118\": 1, \"26\": 1}, \"86\": {\"86\": 35, \"24\": 1}, \"67\": {\"67\": 16}, \"85\": {\"85\": 32}, \"82\": {\"82\": 36}, \"115\": {\"115\": 12}, \"7\": {\"7\": 142}, \"44\": {\"44\": 76}, \"65\": {\"65\": 11, \"11\": 1}, \"129\": {\"129\": 25, \"19\": 1, \"27\": 1, \"101\": 1}, \"42\": {\"42\": 25, \"60\": 2, \"64\": 1}, \"28\": {\"88\": 1, \"28\": 18, \"24\": 1}, \"0\": {\"0\": 81, \"56\": 1, \"10\": 1, \"105\": 1}, \"10\": {\"10\": 120}, \"76\": {\"76\": 15, \"36\": 1}, \"88\": {\"88\": 125, \"36\": 1}, \"29\": {\"29\": 28}, \"16\": {\"16\": 106, \"73\": 1, \"69\": 1}, \"41\": {\"41\": 16}, \"27\": {\"27\": 92}, \"33\": {\"33\": 118, \"2\": 1, \"21\": 1}, \"75\": {\"75\": 16}, \"48\": {\"48\": 12}, \"56\": {\"56\": 12}, \"9\": {\"9\": 31, \"26\": 1}, \"1\": {\"1\": 125, \"93\": 1}, \"39\": {\"39\": 102, \"113\": 1, \"102\": 1}, \"50\": {\"39\": 1, \"50\": 12, \"43\": 1, \"10\": 1, \"65\": 1}, \"99\": {\"99\": 23, \"129\": 1}, \"90\": {\"90\": 122}, \"45\": {\"45\": 10, \"112\": 1, \"39\": 1}, \"5\": {\"5\": 88}, \"128\": {\"128\": 21, \"82\": 1, \"67\": 1, \"115\": 1}, \"2\": {\"2\": 27, \"82\": 1, \"115\": 1, \"116\": 1, \"100\": 2}, \"53\": {\"53\": 20}, \"104\": {\"104\": 16}, \"32\": {\"32\": 32}, \"92\": {\"92\": 28}, \"78\": {\"95\": 1, \"78\": 14, \"16\": 1}, \"19\": {\"19\": 28}, \"120\": {\"120\": 19, \"121\": 1}, \"43\": {\"43\": 122, \"106\": 2, \"114\": 1, \"40\": 1, \"87\": 1, \"84\": 1}, \"74\": {\"74\": 16}, \"11\": {\"11\": 129, \"16\": 1}, \"26\": {\"26\": 130, \"69\": 2}, \"125\": {\"125\": 132}, \"64\": {\"64\": 16}, \"127\": {\"127\": 105, \"84\": 1, \"69\": 1, \"94\": 1}, \"83\": {\"83\": 27, \"12\": 1}, \"118\": {\"118\": 84}, \"103\": {\"103\": 15, \"102\": 1}, \"55\": {\"55\": 12}, \"110\": {\"110\": 126}, \"30\": {\"30\": 51, \"62\": 1}, \"51\": {\"51\": 16}, \"6\": {\"6\": 28, \"52\": 1, \"83\": 1, \"91\": 1, \"59\": 1}, \"96\": {\"96\": 17, \"102\": 1, \"126\": 2}, \"114\": {\"114\": 142, \"93\": 1, \"39\": 1}, \"69\": {\"69\": 108}, \"60\": {\"60\": 11, \"100\": 1, \"57\": 1, \"81\": 1, \"123\": 1, \"42\": 1}, \"94\": {\"94\": 92}, \"79\": {\"79\": 12}, \"126\": {\"126\": 132, \"12\": 1, \"73\": 1}, \"68\": {\"68\": 16}, \"72\": {\"72\": 32}, \"63\": {\"63\": 16}, \"22\": {\"22\": 15, \"51\": 1}, \"121\": {\"121\": 31, \"69\": 1}, \"71\": {\"71\": 101, \"72\": 1, \"16\": 1, \"106\": 1, \"43\": 1, \"52\": 1, \"110\": 1, \"26\": 1}, \"54\": {\"54\": 16}, \"102\": {\"102\": 119, \"17\": 1}, \"73\": {\"73\": 17, \"71\": 1, \"105\": 1, \"104\": 1}, \"38\": {\"38\": 16}, \"4\": {\"4\": 96, \"87\": 1, \"102\": 1, \"69\": 2}, \"52\": {\"52\": 20}, \"70\": {\"70\": 126, \"21\": 1, \"3\": 1}, \"91\": {\"91\": 25, \"42\": 1, \"58\": 2}, \"77\": {\"77\": 15, \"61\": 1}, \"20\": {\"20\": 16}, \"59\": {\"59\": 12}, \"40\": {\"40\": 135, \"118\": 1}, \"98\": {\"98\": 108}, \"46\": {\"46\": 9, \"59\": 2, \"54\": 1}, \"34\": {\"34\": 31, \"53\": 1}, \"24\": {\"24\": 89, \"118\": 1, \"3\": 1, \"39\": 1}, \"62\": {\"62\": 119, \"82\": 1}, \"14\": {\"14\": 96}, \"12\": {\"12\": 99, \"106\": 1, \"121\": 1, \"40\": 1, \"69\": 1, \"27\": 1}, \"84\": {\"84\": 131, \"107\": 1, \"26\": 1, \"102\": 1}, \"37\": {\"37\": 16}, \"97\": {\"97\": 20}, \"57\": {\"57\": 11, \"89\": 1}, \"49\": {\"49\": 18, \"111\": 1, \"21\": 1}, \"17\": {\"17\": 14, \"2\": 1, \"121\": 1}, \"109\": {\"109\": 106}, \"80\": {\"80\": 16}, \"66\": {\"66\": 16}, \"101\": {\"101\": 123, \"40\": 1}, \"89\": {\"89\": 34, \"23\": 1, \"42\": 1}, \"31\": {\"31\": 16}, \"21\": {\"94\": 1, \"21\": 34, \"128\": 1, \"80\": 1, \"106\": 1, \"73\": 1, \"122\": 1}, \"23\": {\"23\": 21, \"70\": 1, \"6\": 1, \"55\": 1}, \"25\": {\"25\": 15, \"30\": 1}, \"107\": {\"107\": 110, \"40\": 1, \"94\": 1}, \"3\": {\"3\": 84, \"36\": 1, \"122\": 2, \"88\": 1}, \"61\": {\"61\": 11, \"65\": 1}, \"117\": {\"117\": 125, \"114\": 1}, \"119\": {\"119\": 15, \"65\": 1}, \"58\": {\"58\": 12}, \"47\": {\"47\": 12}, \"116\": {\"116\": 32}, \"18\": {\"18\": 122, \"113\": 1, \"26\": 1}, \"36\": {\"36\": 117, \"118\": 1, \"40\": 1, \"88\": 2, \"71\": 1}, \"108\": {\"108\": 112}, \"15\": {\"15\": 103, \"87\": 1}, \"8\": {\"8\": 114}, \"35\": {\"35\": 12}}, \"C_1\": {\"41\": {\"41\": 24}, \"40\": {\"40\": 110}, \"45\": {\"45\": 138}, \"51\": {\"51\": 148}, \"5\": {\"5\": 154}, \"30\": {\"30\": 120}, \"42\": {\"42\": 40}, \"46\": {\"46\": 136}, \"48\": {\"48\": 134}, \"53\": {\"53\": 144}, \"47\": {\"47\": 152}, \"49\": {\"49\": 32}, \"36\": {\"36\": 64}, \"32\": {\"32\": 32}, \"34\": {\"34\": 24}, \"29\": {\"29\": 140}, \"35\": {\"35\": 36}, \"3\": {\"3\": 134}, \"16\": {\"16\": 140}, \"26\": {\"26\": 24}, \"57\": {\"57\": 144}, \"44\": {\"44\": 128}, \"0\": {\"0\": 152}, \"4\": {\"4\": 132}, \"31\": {\"31\": 28}, \"11\": {\"11\": 140}, \"6\": {\"6\": 95, \"8\": 1}, \"54\": {\"54\": 104}, \"17\": {\"17\": 64}, \"20\": {\"20\": 128}, \"13\": {\"13\": 150}, \"33\": {\"33\": 32}, \"24\": {\"24\": 108}, \"52\": {\"52\": 132}, \"2\": {\"2\": 36}, \"19\": {\"19\": 156}, \"39\": {\"39\": 28}, \"8\": {\"8\": 140}, \"21\": {\"21\": 124}, \"10\": {\"10\": 96}, \"37\": {\"37\": 32}, \"25\": {\"25\": 144}, \"27\": {\"27\": 130}, \"23\": {\"23\": 136}, \"1\": {\"1\": 100}, \"50\": {\"50\": 152}, \"12\": {\"12\": 116}, \"18\": {\"18\": 72}, \"38\": {\"38\": 24}, \"14\": {\"14\": 24}, \"56\": {\"56\": 142}, \"55\": {\"55\": 160}, \"9\": {\"9\": 138}, \"15\": {\"15\": 146}, \"28\": {\"28\": 28}, \"7\": {\"7\": 28}, \"43\": {\"43\": 136}, \"22\": {\"22\": 136}}, \"C_3\": {\"1\": {\"1\": 100}, \"9\": {\"9\": 124}, \"22\": {\"22\": 136}, \"43\": {\"43\": 136}, \"49\": {\"49\": 20}, \"50\": {\"50\": 138}, \"53\": {\"53\": 136}, \"10\": {\"10\": 64}, \"48\": {\"48\": 115, \"15\": 1}, \"8\": {\"8\": 138}, \"31\": {\"31\": 28}, \"56\": {\"56\": 134}, \"25\": {\"25\": 142}, \"28\": {\"28\": 28}, \"38\": {\"38\": 28}, \"5\": {\"5\": 116}, \"12\": {\"12\": 92}, \"6\": {\"6\": 88}, \"19\": {\"19\": 152}, \"26\": {\"26\": 24}, \"32\": {\"32\": 28}, \"33\": {\"33\": 28}, \"3\": {\"3\": 118}, \"51\": {\"51\": 128}, \"16\": {\"16\": 138}, \"46\": {\"46\": 140}, \"7\": {\"7\": 36}, \"47\": {\"47\": 92}, \"39\": {\"39\": 16}, \"40\": {\"40\": 136}, \"14\": {\"14\": 40}, \"37\": {\"37\": 28}, \"2\": {\"2\": 32}, \"21\": {\"21\": 120}, \"35\": {\"35\": 28}, \"54\": {\"54\": 100}, \"52\": {\"52\": 116}, \"29\": {\"29\": 118}, \"20\": {\"20\": 132}, \"18\": {\"18\": 84}, \"11\": {\"11\": 142}, \"0\": {\"0\": 124}, \"36\": {\"36\": 100}, \"17\": {\"17\": 108}, \"30\": {\"30\": 114}, \"42\": {\"42\": 28}, \"45\": {\"45\": 60}, \"4\": {\"4\": 148}, \"23\": {\"23\": 134}, \"13\": {\"13\": 128}, \"15\": {\"15\": 128}, \"57\": {\"57\": 124}, \"27\": {\"27\": 134}, \"44\": {\"44\": 88}, \"34\": {\"34\": 32}, \"41\": {\"41\": 28}, \"24\": {\"24\": 104}, \"55\": {\"55\": 118}}, \"W_2\": {\"3\": {\"3\": 128, \"26\": 1, \"61\": 1, \"39\": 1, \"70\": 1}, \"127\": {\"127\": 119, \"94\": 1}, \"58\": {\"58\": 20}, \"114\": {\"114\": 110, \"46\": 1, \"69\": 1}, \"111\": {\"111\": 142, \"105\": 1, \"40\": 1}, \"105\": {\"105\": 131, \"69\": 1}, \"118\": {\"114\": 1, \"118\": 64, \"127\": 1, \"94\": 1, \"36\": 1}, \"23\": {\"23\": 41, \"61\": 1, \"122\": 1, \"87\": 1}, \"21\": {\"21\": 43, \"69\": 2, \"85\": 1, \"24\": 1, \"71\": 1}, \"20\": {\"20\": 15, \"21\": 1}, \"75\": {\"75\": 15, \"99\": 1}, \"86\": {\"86\": 32}, \"60\": {\"60\": 25, \"62\": 1, \"87\": 1, \"85\": 1}, \"69\": {\"69\": 134, \"87\": 1, \"18\": 1, \"43\": 1, \"117\": 1, \"94\": 1, \"70\": 1}, \"99\": {\"99\": 31, \"85\": 1}, \"14\": {\"14\": 40, \"81\": 1, \"62\": 1, \"84\": 1, \"78\": 1, \"107\": 1, \"71\": 2, \"40\": 1}, \"25\": {\"25\": 15, \"21\": 1}, \"52\": {\"52\": 19, \"30\": 1}, \"47\": {\"47\": 10, \"97\": 1, \"107\": 1}, \"48\": {\"48\": 19, \"87\": 1}, \"27\": {\"27\": 59, \"33\": 1, \"87\": 1, \"24\": 1, \"110\": 1, \"114\": 1, \"101\": 1, \"85\": 1, \"84\": 1, \"62\": 1}, \"78\": {\"78\": 44, \"43\": 1, \"87\": 1, \"55\": 1, \"70\": 1}, \"8\": {\"8\": 119, \"118\": 1, \"108\": 1, \"11\": 1}, \"90\": {\"90\": 156, \"46\": 1, \"39\": 1, \"61\": 1, \"30\": 1}, \"103\": {\"103\": 16}, \"120\": {\"120\": 20}, \"96\": {\"96\": 20}, \"30\": {\"30\": 101, \"7\": 1, \"69\": 1, \"27\": 1}, \"33\": {\"33\": 146}, \"35\": {\"35\": 12}, \"108\": {\"108\": 116}, \"112\": {\"112\": 16}, \"40\": {\"40\": 131, \"21\": 1, \"105\": 1, \"62\": 1, \"94\": 1, \"70\": 2, \"69\": 1, \"102\": 1, \"18\": 1}, \"102\": {\"102\": 113, \"69\": 3}, \"56\": {\"56\": 12}, \"93\": {\"93\": 134, \"114\": 1, \"40\": 1}, \"68\": {\"68\": 15, \"94\": 1}, \"70\": {\"70\": 119, \"87\": 1, \"62\": 1, \"102\": 1, \"19\": 1, \"108\": 1}, \"7\": {\"7\": 123, \"92\": 1}, \"87\": {\"87\": 104, \"95\": 1, \"2\": 1, \"53\": 1, \"71\": 1, \"69\": 3, \"40\": 1}, \"54\": {\"56\": 1, \"54\": 19}, \"71\": {\"71\": 93, \"3\": 2, \"69\": 1, \"101\": 1, \"39\": 2, \"21\": 1}, \"80\": {\"80\": 16}, \"18\": {\"18\": 120, \"39\": 1, \"26\": 1}, \"101\": {\"101\": 121, \"78\": 1}, \"92\": {\"92\": 27, \"18\": 1}, \"32\": {\"32\": 34, \"79\": 1, \"15\": 1}, \"128\": {\"101\": 2, \"128\": 22}, \"6\": {\"6\": 32}, \"51\": {\"51\": 17, \"125\": 1, \"6\": 1, \"10\": 1}, \"85\": {\"85\": 31, \"65\": 1}, \"46\": {\"46\": 16}, \"22\": {\"22\": 20}, \"1\": {\"1\": 117, \"78\": 2, \"26\": 1, \"87\": 1, \"69\": 1}, \"37\": {\"37\": 16}, \"44\": {\"44\": 97, \"73\": 1, \"87\": 1, \"118\": 1}, \"24\": {\"24\": 103, \"13\": 1, \"62\": 2, \"40\": 1, \"39\": 1, \"26\": 1, \"21\": 1, \"110\": 1, \"69\": 1}, \"9\": {\"9\": 32}, \"116\": {\"116\": 23, \"87\": 1, \"65\": 1, \"118\": 1, \"84\": 1, \"1\": 1}, \"64\": {\"64\": 16}, \"129\": {\"129\": 32}, \"42\": {\"47\": 1, \"112\": 1, \"42\": 23, \"69\": 1, \"84\": 1, \"107\": 1}, \"117\": {\"117\": 119, \"69\": 1}, \"88\": {\"88\": 118, \"106\": 1, \"111\": 1, \"71\": 1, \"70\": 1, \"62\": 1, \"69\": 1}, \"31\": {\"31\": 20}, \"113\": {\"113\": 71, \"51\": 1}, \"38\": {\"38\": 16}, \"83\": {\"83\": 37, \"31\": 1, \"98\": 1, \"84\": 1}, \"49\": {\"49\": 21, \"75\": 1, \"71\": 1, \"47\": 1}, \"97\": {\"97\": 18, \"94\": 1, \"15\": 1}, \"76\": {\"76\": 16}, \"29\": {\"29\": 32}, \"61\": {\"61\": 20}, \"125\": {\"125\": 147, \"121\": 1}, \"126\": {\"126\": 118, \"78\": 1, \"26\": 1}, \"55\": {\"55\": 16}, \"0\": {\"0\": 104, \"27\": 1, \"101\": 1, \"118\": 1, \"40\": 1}, \"15\": {\"15\": 116, \"36\": 1, \"40\": 1, \"7\": 1, \"24\": 1}, \"26\": {\"26\": 134, \"40\": 1, \"5\": 1, \"0\": 1, \"102\": 1}, \"63\": {\"63\": 20}, \"57\": {\"57\": 20}, \"39\": {\"39\": 109, \"27\": 1, \"84\": 1, \"69\": 1}, \"62\": {\"62\": 136, \"69\": 3, \"85\": 1}, \"82\": {\"82\": 34, \"87\": 1, \"53\": 1}, \"11\": {\"11\": 78, \"1\": 1, \"69\": 1}, \"4\": {\"4\": 87, \"53\": 1}, \"41\": {\"41\": 20}, \"72\": {\"72\": 27, \"14\": 1}, \"16\": {\"16\": 119, \"106\": 1, \"39\": 1, \"78\": 1, \"93\": 1, \"88\": 1}, \"81\": {\"81\": 22, \"62\": 1, \"92\": 1}, \"67\": {\"67\": 16}, \"123\": {\"123\": 16}, \"66\": {\"66\": 20}, \"36\": {\"36\": 119, \"1\": 1, \"127\": 1, \"43\": 1, \"87\": 1, \"15\": 1, \"17\": 1, \"21\": 1, \"49\": 1, \"69\": 1}, \"115\": {\"115\": 11, \"21\": 1}, \"77\": {\"77\": 16}, \"119\": {\"119\": 20}, \"65\": {\"65\": 19, \"49\": 1}, \"34\": {\"34\": 30, \"6\": 1, \"86\": 1}, \"107\": {\"107\": 60, \"69\": 1, \"10\": 1, \"70\": 1, \"101\": 1}, \"13\": {\"13\": 16}, \"110\": {\"25\": 1, \"110\": 36, \"68\": 1, \"21\": 1, \"106\": 1}, \"106\": {\"106\": 115, \"62\": 1, \"114\": 1, \"69\": 1}, \"89\": {\"89\": 36}, \"94\": {\"27\": 1, \"94\": 54, \"122\": 1, \"87\": 1, \"21\": 2, \"24\": 1, \"31\": 1, \"71\": 1, \"49\": 1, \"88\": 1}, \"98\": {\"98\": 109, \"121\": 1, \"69\": 1, \"21\": 1}, \"91\": {\"91\": 26, \"41\": 1, \"17\": 1}, \"84\": {\"84\": 89, \"43\": 2, \"88\": 1}, \"73\": {\"118\": 1, \"73\": 27}, \"104\": {\"74\": 2, \"104\": 15, \"52\": 1, \"118\": 1, \"122\": 1}, \"59\": {\"59\": 15, \"52\": 1}, \"74\": {\"74\": 16}, \"28\": {\"28\": 19, \"68\": 1}, \"95\": {\"95\": 35, \"105\": 1}, \"2\": {\"2\": 30, \"100\": 1, \"1\": 1}, \"5\": {\"5\": 109, \"71\": 1, \"88\": 1, \"69\": 1}, \"50\": {\"50\": 15, \"69\": 1}, \"109\": {\"109\": 97, \"87\": 1, \"26\": 1, \"39\": 1}, \"10\": {\"10\": 58, \"40\": 1, \"26\": 1}, \"45\": {\"45\": 14, \"87\": 1, \"31\": 1}, \"121\": {\"121\": 31, \"18\": 2, \"38\": 1, \"89\": 2}, \"124\": {\"124\": 110}, \"53\": {\"105\": 1, \"53\": 13, \"52\": 1, \"25\": 1}, \"79\": {\"79\": 16}, \"43\": {\"43\": 110, \"26\": 1, \"122\": 1, \"15\": 1, \"16\": 1}, \"122\": {\"122\": 131, \"118\": 1, \"109\": 1, \"70\": 2, \"88\": 1, \"39\": 1, \"40\": 1}, \"100\": {\"100\": 16}, \"19\": {\"19\": 28}, \"12\": {\"12\": 83, \"128\": 2, \"70\": 1, \"26\": 1, \"69\": 1}, \"17\": {\"17\": 15, \"68\": 1}}, \"C_4\": {\"52\": {\"52\": 116}, \"6\": {\"6\": 112}, \"14\": {\"14\": 16}, \"49\": {\"49\": 20}, \"0\": {\"0\": 80}, \"46\": {\"46\": 155, \"47\": 1}, \"41\": {\"41\": 36}, \"24\": {\"24\": 56}, \"25\": {\"25\": 152}, \"40\": {\"40\": 138}, \"38\": {\"38\": 40}, \"13\": {\"13\": 152}, \"9\": {\"9\": 108}, \"45\": {\"45\": 96}, \"43\": {\"43\": 144}, \"10\": {\"10\": 130}, \"15\": {\"15\": 128}, \"39\": {\"39\": 20}, \"4\": {\"4\": 132}, \"53\": {\"53\": 132}, \"1\": {\"1\": 40}, \"28\": {\"28\": 32}, \"54\": {\"54\": 108}, \"21\": {\"21\": 132}, \"7\": {\"7\": 24}, \"8\": {\"8\": 136}, \"42\": {\"42\": 32}, \"11\": {\"11\": 103, \"15\": 1}, \"33\": {\"33\": 36}, \"27\": {\"27\": 142}, \"19\": {\"19\": 144}, \"2\": {\"2\": 36}, \"3\": {\"3\": 119, \"6\": 1}, \"57\": {\"57\": 100}, \"20\": {\"20\": 112}, \"23\": {\"23\": 128}, \"22\": {\"22\": 128}, \"29\": {\"29\": 124}, \"36\": {\"36\": 92}, \"51\": {\"51\": 132}, \"31\": {\"31\": 28}, \"12\": {\"12\": 92}, \"56\": {\"56\": 138}, \"5\": {\"5\": 108}, \"35\": {\"35\": 40}, \"17\": {\"17\": 80}, \"32\": {\"32\": 24}, \"47\": {\"47\": 120}, \"18\": {\"18\": 107, \"25\": 1}, \"26\": {\"26\": 24}, \"50\": {\"50\": 122}, \"55\": {\"55\": 124}, \"34\": {\"34\": 24}, \"30\": {\"30\": 44}, \"37\": {\"37\": 24}, \"44\": {\"44\": 132}, \"48\": {\"48\": 118}, \"16\": {\"16\": 96}}, \"C_2\": {\"11\": {\"11\": 130}, \"21\": {\"21\": 120}, \"19\": {\"19\": 140}, \"20\": {\"20\": 128}, \"9\": {\"9\": 140}, \"10\": {\"10\": 112}, \"37\": {\"37\": 36}, \"32\": {\"32\": 28}, \"3\": {\"3\": 92}, \"39\": {\"39\": 28}, \"45\": {\"45\": 128}, \"50\": {\"50\": 136}, \"40\": {\"40\": 140}, \"46\": {\"46\": 127, \"47\": 1}, \"12\": {\"12\": 92}, \"13\": {\"13\": 116}, \"47\": {\"47\": 132}, \"15\": {\"15\": 142}, \"54\": {\"54\": 108}, \"48\": {\"48\": 148}, \"23\": {\"23\": 142}, \"29\": {\"29\": 128}, \"38\": {\"38\": 20}, \"53\": {\"53\": 136}, \"27\": {\"27\": 150}, \"43\": {\"43\": 144}, \"35\": {\"35\": 32}, \"0\": {\"0\": 48}, \"52\": {\"52\": 124}, \"8\": {\"8\": 128}, \"24\": {\"24\": 96}, \"18\": {\"18\": 48}, \"25\": {\"25\": 148}, \"57\": {\"57\": 136}, \"55\": {\"55\": 134}, \"36\": {\"36\": 116}, \"17\": {\"17\": 104}, \"2\": {\"2\": 32}, \"34\": {\"34\": 28}, \"1\": {\"1\": 112}, \"51\": {\"51\": 136}, \"31\": {\"31\": 28}, \"49\": {\"49\": 24}, \"14\": {\"28\": 1, \"14\": 23}, \"33\": {\"33\": 28}, \"41\": {\"41\": 20}, \"28\": {\"28\": 28}, \"5\": {\"5\": 120}, \"16\": {\"16\": 150}, \"4\": {\"4\": 128}, \"22\": {\"22\": 136}, \"6\": {\"6\": 118}, \"30\": {\"30\": 124}, \"26\": {\"26\": 24}, \"56\": {\"56\": 142}, \"42\": {\"42\": 36}, \"44\": {\"44\": 100}, \"7\": {\"7\": 36}}, \"W_3\": {\"38\": {\"38\": 16}, \"88\": {\"88\": 109, \"70\": 1, \"25\": 1, \"114\": 1}, \"104\": {\"104\": 16}, \"11\": {\"11\": 139, \"107\": 1}, \"103\": {\"103\": 15, \"28\": 1}, \"124\": {\"124\": 115, \"90\": 1}, \"3\": {\"3\": 112, \"105\": 1, \"62\": 2, \"11\": 1}, \"74\": {\"74\": 15, \"25\": 1}, \"126\": {\"126\": 119, \"8\": 1, \"39\": 1, \"111\": 1}, \"123\": {\"123\": 16}, \"51\": {\"51\": 15, \"31\": 1}, \"14\": {\"14\": 80}, \"16\": {\"16\": 113, \"110\": 1, \"26\": 1, \"1\": 1}, \"22\": {\"22\": 16}, \"109\": {\"109\": 121, \"62\": 1}, \"27\": {\"27\": 93, \"36\": 2, \"109\": 1}, \"75\": {\"75\": 16}, \"66\": {\"66\": 16}, \"48\": {\"48\": 15, \"53\": 1}, \"6\": {\"6\": 31, \"58\": 1}, \"10\": {\"10\": 110, \"16\": 1, \"70\": 1}, \"99\": {\"99\": 35, \"97\": 1}, \"50\": {\"50\": 16}, \"54\": {\"54\": 16}, \"55\": {\"55\": 16}, \"53\": {\"53\": 20}, \"72\": {\"72\": 28}, \"64\": {\"64\": 20}, \"115\": {\"72\": 1, \"115\": 15}, \"23\": {\"23\": 29, \"63\": 1, \"110\": 1, \"47\": 1}, \"32\": {\"32\": 31, \"9\": 1}, \"15\": {\"15\": 101, \"105\": 1, \"16\": 1, \"118\": 1}, \"43\": {\"43\": 52, \"21\": 3, \"26\": 1}, \"114\": {\"114\": 121, \"26\": 1, \"105\": 1, \"10\": 1}, \"121\": {\"64\": 1, \"121\": 31}, \"79\": {\"79\": 12}, \"81\": {\"81\": 32}, \"8\": {\"8\": 124, \"108\": 2, \"85\": 2}, \"13\": {\"121\": 1, \"13\": 11, \"86\": 1, \"16\": 1, \"103\": 1, \"109\": 1}, \"90\": {\"90\": 156}, \"41\": {\"23\": 1, \"41\": 15}, \"107\": {\"107\": 136}, \"57\": {\"57\": 20}, \"33\": {\"33\": 119, \"92\": 1}, \"35\": {\"35\": 12}, \"29\": {\"29\": 32}, \"70\": {\"70\": 68, \"84\": 1, \"114\": 1, \"87\": 1, \"8\": 1}, \"42\": {\"69\": 1, \"42\": 25, \"73\": 1, \"49\": 1}, \"93\": {\"93\": 126}, \"86\": {\"86\": 28}, \"28\": {\"28\": 16}, \"1\": {\"1\": 105, \"26\": 1, \"101\": 1, \"102\": 1}, \"125\": {\"125\": 122, \"30\": 1, \"62\": 1}, \"69\": {\"69\": 83, \"70\": 1}, \"97\": {\"97\": 19, \"69\": 1}, \"117\": {\"117\": 112}, \"68\": {\"68\": 16}, \"30\": {\"30\": 81, \"12\": 1, \"21\": 1, \"105\": 1}, \"111\": {\"111\": 132}, \"47\": {\"47\": 12}, \"102\": {\"102\": 124}, \"65\": {\"65\": 12}, \"113\": {\"113\": 118, \"43\": 1, \"69\": 1}, \"36\": {\"36\": 112, \"27\": 1, \"70\": 1}, \"119\": {\"119\": 16}, \"46\": {\"46\": 16}, \"49\": {\"49\": 21, \"70\": 1, \"40\": 1, \"75\": 1}, \"0\": {\"0\": 115, \"30\": 1}, \"58\": {\"58\": 15, \"92\": 1}, \"63\": {\"63\": 16}, \"94\": {\"94\": 84}, \"17\": {\"72\": 1, \"94\": 1, \"69\": 1, \"39\": 1, \"17\": 7, \"86\": 2, \"116\": 2, \"127\": 1}, \"9\": {\"9\": 31, \"6\": 1}, \"87\": {\"87\": 120}, \"59\": {\"59\": 11, \"30\": 1}, \"105\": {\"105\": 120}, \"80\": {\"80\": 15, \"85\": 1}, \"120\": {\"120\": 19, \"68\": 1}, \"18\": {\"18\": 129, \"34\": 1, \"127\": 1, \"90\": 1}, \"78\": {\"78\": 15, \"82\": 1}, \"25\": {\"25\": 16}, \"19\": {\"19\": 32}, \"122\": {\"122\": 56, \"97\": 1, \"60\": 1, \"71\": 1, \"12\": 1}, \"39\": {\"39\": 108}, \"76\": {\"76\": 16}, \"89\": {\"89\": 28}, \"129\": {\"129\": 31, \"110\": 1}, \"26\": {\"26\": 96, \"30\": 1, \"12\": 2, \"70\": 1}, \"85\": {\"85\": 36}, \"71\": {\"71\": 67, \"30\": 1}, \"77\": {\"77\": 16}, \"128\": {\"128\": 32}, \"2\": {\"2\": 27, \"26\": 1}, \"56\": {\"56\": 12}, \"24\": {\"24\": 48}, \"101\": {\"26\": 1, \"101\": 50, \"9\": 1}, \"52\": {\"52\": 16}, \"84\": {\"84\": 107, \"117\": 1}, \"7\": {\"7\": 109, \"84\": 2, \"69\": 1}, \"82\": {\"82\": 28}, \"60\": {\"60\": 27, \"110\": 1}, \"45\": {\"122\": 1, \"45\": 13, \"52\": 1, \"73\": 1}, \"40\": {\"40\": 124}, \"20\": {\"20\": 16}, \"4\": {\"4\": 96}, \"116\": {\"116\": 28}, \"61\": {\"61\": 16}, \"5\": {\"5\": 110, \"70\": 1, \"39\": 1}, \"106\": {\"106\": 99, \"73\": 1}, \"12\": {\"12\": 104}, \"62\": {\"62\": 118, \"69\": 1, \"114\": 1}, \"34\": {\"34\": 32}, \"91\": {\"91\": 24}, \"112\": {\"112\": 15, \"12\": 1}, \"92\": {\"92\": 32}, \"95\": {\"95\": 32}, \"96\": {\"96\": 20}, \"127\": {\"127\": 105, \"26\": 1, \"69\": 1, \"109\": 1}, \"67\": {\"67\": 15, \"36\": 1}, \"83\": {\"83\": 24}, \"21\": {\"43\": 1, \"78\": 2, \"21\": 39, \"16\": 1, \"69\": 1, \"84\": 1, \"118\": 1, \"94\": 1, \"88\": 1}, \"98\": {\"98\": 122, \"12\": 1, \"44\": 1}, \"108\": {\"108\": 130, \"8\": 2}, \"31\": {\"31\": 20}, \"118\": {\"118\": 100}, \"110\": {\"110\": 92}, \"73\": {\"73\": 40}, \"44\": {\"44\": 69, \"90\": 1, \"109\": 1, \"4\": 1}, \"37\": {\"37\": 15, \"63\": 1}, \"100\": {\"100\": 16}}, \"O_26\": {\"0\": {\"4\": 25, \"14\": 26, \"10\": 34, \"3\": 19, \"15\": 10, \"0\": 25, \"2\": 15, \"1\": 20, \"8\": 23, \"7\": 19, \"6\": 9, \"9\": 8, \"5\": 4, \"12\": 1, \"13\": 2}, \"4\": {\"14\": 35, \"6\": 14, \"10\": 23, \"7\": 17, \"1\": 31, \"4\": 25, \"8\": 20, \"0\": 22, \"2\": 10, \"3\": 23, \"5\": 4, \"15\": 3, \"13\": 3, \"9\": 10}, \"14\": {\"8\": 18, \"10\": 30, \"4\": 30, \"7\": 26, \"2\": 7, \"3\": 16, \"0\": 32, \"1\": 34, \"14\": 25, \"6\": 7, \"15\": 6, \"9\": 6, \"12\": 1, \"5\": 2}, \"12\": {\"9\": 18, \"15\": 21, \"12\": 100, \"11\": 19, \"4\": 2, \"2\": 5, \"8\": 10, \"6\": 24, \"10\": 7, \"7\": 3, \"13\": 17, \"5\": 9, \"0\": 4, \"14\": 1}, \"8\": {\"9\": 14, \"8\": 19, \"0\": 26, \"6\": 17, \"1\": 7, \"15\": 19, \"4\": 21, \"2\": 24, \"7\": 24, \"3\": 15, \"10\": 21, \"14\": 18, \"12\": 4, \"5\": 7, \"13\": 4}, \"7\": {\"0\": 15, \"8\": 29, \"14\": 23, \"2\": 14, \"4\": 24, \"1\": 22, \"5\": 8, \"7\": 18, \"10\": 27, \"6\": 11, \"3\": 24, \"9\": 6, \"15\": 18, \"12\": 1}, \"13\": {\"10\": 7, \"5\": 36, \"13\": 52, \"15\": 34, \"9\": 27, \"2\": 19, \"6\": 12, \"12\": 23, \"0\": 6, \"8\": 6, \"11\": 7, \"4\": 2, \"3\": 3, \"7\": 4, \"14\": 2}, \"5\": {\"2\": 27, \"0\": 6, \"7\": 13, \"9\": 32, \"12\": 11, \"13\": 29, \"6\": 26, \"8\": 11, \"5\": 31, \"15\": 26, \"3\": 16, \"1\": 2, \"10\": 7, \"14\": 1, \"4\": 1, \"11\": 1}, \"15\": {\"8\": 14, \"6\": 32, \"15\": 22, \"9\": 32, \"10\": 11, \"3\": 20, \"13\": 15, \"7\": 15, \"2\": 20, \"0\": 7, \"12\": 14, \"5\": 21, \"4\": 7, \"14\": 7, \"1\": 3}, \"10\": {\"12\": 5, \"9\": 8, \"10\": 24, \"8\": 25, \"1\": 23, \"15\": 14, \"14\": 18, \"4\": 16, \"7\": 23, \"3\": 18, \"6\": 27, \"0\": 25, \"2\": 11, \"5\": 3}, \"3\": {\"0\": 21, \"8\": 12, \"6\": 19, \"14\": 21, \"4\": 17, \"15\": 21, \"2\": 19, \"10\": 14, \"1\": 9, \"3\": 34, \"7\": 27, \"13\": 7, \"5\": 10, \"9\": 9}, \"9\": {\"14\": 10, \"9\": 35, \"5\": 16, \"2\": 20, \"8\": 14, \"3\": 12, \"7\": 23, \"12\": 19, \"15\": 32, \"4\": 5, \"6\": 23, \"10\": 14, \"1\": 2, \"13\": 11, \"0\": 4}, \"6\": {\"6\": 29, \"15\": 29, \"9\": 18, \"10\": 14, \"14\": 7, \"3\": 15, \"7\": 8, \"2\": 18, \"8\": 23, \"4\": 11, \"5\": 19, \"12\": 22, \"13\": 10, \"0\": 14, \"1\": 3}, \"1\": {\"4\": 24, \"1\": 44, \"14\": 21, \"2\": 10, \"9\": 6, \"3\": 12, \"7\": 34, \"8\": 17, \"0\": 25, \"10\": 27, \"15\": 10, \"6\": 8, \"13\": 2}, \"11\": {\"11\": 144, \"13\": 37, \"5\": 11, \"15\": 7, \"12\": 31, \"2\": 2, \"6\": 4, \"9\": 2, \"3\": 2}, \"2\": {\"5\": 16, \"9\": 20, \"7\": 19, \"3\": 30, \"15\": 22, \"14\": 8, \"2\": 27, \"13\": 9, \"8\": 17, \"1\": 5, \"10\": 13, \"0\": 13, \"6\": 27, \"12\": 6, \"4\": 8}}, \"O_44\": {\"1\": {\"12\": 59, \"9\": 14, \"1\": 52, \"2\": 20, \"4\": 4, \"3\": 46, \"13\": 7, \"10\": 18, \"6\": 3, \"7\": 16, \"11\": 1}, \"11\": {\"6\": 51, \"13\": 40, \"12\": 3, \"11\": 89, \"2\": 14, \"7\": 16, \"10\": 14, \"4\": 1, \"9\": 11, \"1\": 1}, \"3\": {\"9\": 14, \"1\": 47, \"12\": 38, \"5\": 1, \"10\": 8, \"3\": 79, \"4\": 13, \"14\": 9, \"7\": 17, \"15\": 1, \"13\": 7, \"2\": 5, \"6\": 1}, \"6\": {\"9\": 16, \"13\": 42, \"6\": 56, \"11\": 52, \"7\": 23, \"2\": 26, \"12\": 2, \"1\": 3, \"4\": 2, \"10\": 18}, \"7\": {\"2\": 42, \"4\": 4, \"7\": 31, \"9\": 45, \"1\": 14, \"6\": 15, \"11\": 9, \"10\": 24, \"14\": 1, \"3\": 5, \"13\": 27, \"12\": 23}, \"5\": {\"4\": 38, \"5\": 73, \"14\": 45, \"0\": 30, \"15\": 40, \"8\": 14}, \"2\": {\"10\": 38, \"9\": 29, \"13\": 21, \"11\": 7, \"2\": 33, \"12\": 26, \"3\": 6, \"7\": 51, \"6\": 10, \"1\": 18, \"4\": 1}, \"15\": {\"8\": 37, \"0\": 52, \"5\": 39, \"3\": 9, \"14\": 30, \"15\": 62, \"4\": 11}, \"10\": {\"7\": 28, \"10\": 36, \"12\": 36, \"6\": 11, \"1\": 31, \"2\": 43, \"9\": 28, \"13\": 12, \"11\": 8, \"4\": 2, \"3\": 5}, \"13\": {\"7\": 30, \"13\": 53, \"11\": 29, \"6\": 40, \"2\": 24, \"10\": 17, \"14\": 1, \"9\": 37, \"1\": 3, \"12\": 3, \"4\": 2, \"3\": 1}, \"8\": {\"0\": 70, \"5\": 20, \"8\": 95, \"15\": 51, \"14\": 3, \"4\": 1}, \"4\": {\"14\": 62, \"5\": 33, \"9\": 12, \"13\": 7, \"4\": 64, \"3\": 23, \"15\": 13, \"1\": 8, \"0\": 3, \"7\": 9, \"12\": 3, \"8\": 3}, \"9\": {\"2\": 27, \"7\": 38, \"6\": 23, \"9\": 51, \"1\": 8, \"12\": 18, \"10\": 21, \"13\": 30, \"4\": 11, \"11\": 10, \"3\": 2, \"14\": 1}, \"14\": {\"9\": 3, \"4\": 60, \"15\": 29, \"5\": 44, \"14\": 63, \"3\": 23, \"7\": 2, \"0\": 5, \"1\": 5, \"8\": 4, \"12\": 2}, \"0\": {\"8\": 61, \"0\": 67, \"15\": 65, \"5\": 30, \"14\": 12, \"12\": 1, \"4\": 4}, \"12\": {\"1\": 57, \"3\": 31, \"12\": 55, \"10\": 28, \"2\": 34, \"9\": 14, \"7\": 12, \"13\": 7, \"6\": 1, \"4\": 1}}, \"O_50\": {\"15\": {\"15\": 43, \"6\": 23, \"5\": 21, \"11\": 49, \"13\": 19, \"9\": 20, \"1\": 25, \"7\": 14, \"0\": 1, \"2\": 1, \"4\": 23, \"14\": 1}, \"4\": {\"9\": 12, \"11\": 20, \"5\": 25, \"4\": 36, \"1\": 30, \"14\": 4, \"7\": 27, \"15\": 30, \"13\": 27, \"0\": 1, \"6\": 23, \"10\": 4, \"12\": 1}, \"6\": {\"15\": 18, \"9\": 8, \"7\": 30, \"5\": 25, \"1\": 33, \"4\": 29, \"6\": 36, \"14\": 7, \"11\": 15, \"10\": 7, \"0\": 4, \"13\": 24, \"12\": 3, \"8\": 1}, \"2\": {\"2\": 73, \"12\": 24, \"14\": 33, \"0\": 62, \"10\": 21, \"13\": 4, \"1\": 1, \"11\": 3, \"6\": 3, \"8\": 14, \"9\": 2}, \"5\": {\"7\": 37, \"13\": 34, \"4\": 31, \"1\": 29, \"11\": 9, \"5\": 37, \"6\": 21, \"9\": 4, \"10\": 12, \"15\": 16, \"14\": 5, \"0\": 1, \"8\": 2, \"12\": 1, \"3\": 1}, \"9\": {\"1\": 27, \"9\": 64, \"14\": 23, \"12\": 26, \"15\": 20, \"11\": 57, \"6\": 6, \"4\": 10, \"5\": 5, \"0\": 1, \"13\": 1}, \"8\": {\"3\": 59, \"0\": 38, \"8\": 85, \"13\": 4, \"10\": 32, \"7\": 5, \"2\": 16, \"5\": 1}, \"12\": {\"14\": 60, \"12\": 83, \"15\": 3, \"9\": 31, \"1\": 17, \"11\": 19, \"0\": 6, \"6\": 5, \"2\": 13, \"4\": 3}, \"10\": {\"8\": 42, \"0\": 38, \"13\": 21, \"3\": 21, \"12\": 1, \"2\": 10, \"5\": 8, \"10\": 64, \"6\": 9, \"7\": 14, \"1\": 4, \"4\": 3, \"14\": 5}, \"1\": {\"7\": 15, \"1\": 37, \"14\": 9, \"15\": 30, \"6\": 25, \"13\": 18, \"11\": 31, \"5\": 18, \"9\": 15, \"4\": 27, \"0\": 2, \"12\": 8, \"10\": 5}, \"0\": {\"8\": 25, \"10\": 33, \"0\": 85, \"12\": 5, \"2\": 56, \"14\": 17, \"13\": 8, \"1\": 3, \"7\": 3, \"6\": 1, \"3\": 2, \"11\": 1, \"5\": 1}, \"3\": {\"8\": 66, \"3\": 132, \"10\": 27, \"13\": 7, \"5\": 2, \"0\": 2, \"7\": 4}, \"13\": {\"15\": 12, \"7\": 40, \"4\": 31, \"1\": 26, \"5\": 29, \"6\": 32, \"10\": 16, \"13\": 34, \"12\": 4, \"11\": 3, \"8\": 2, \"2\": 1, \"0\": 3, \"3\": 3, \"9\": 3, \"14\": 1}, \"11\": {\"14\": 11, \"4\": 21, \"5\": 7, \"6\": 17, \"9\": 56, \"1\": 40, \"11\": 38, \"15\": 22, \"12\": 20, \"13\": 5, \"7\": 2, \"0\": 1}, \"7\": {\"1\": 17, \"6\": 25, \"4\": 24, \"13\": 34, \"7\": 52, \"0\": 5, \"5\": 28, \"11\": 6, \"10\": 27, \"15\": 8, \"14\": 2, \"12\": 2, \"8\": 5, \"3\": 4, \"9\": 1}, \"14\": {\"12\": 65, \"2\": 23, \"6\": 10, \"9\": 19, \"14\": 72, \"1\": 14, \"0\": 6, \"11\": 12, \"5\": 2, \"15\": 4, \"4\": 3, \"13\": 5, \"10\": 4, \"7\": 1}}, \"O_38\": {\"15\": {\"7\": 9, \"5\": 18, \"9\": 12, \"15\": 54, \"1\": 23, \"13\": 35, \"14\": 7, \"2\": 28, \"0\": 6, \"6\": 16, \"8\": 18, \"10\": 11, \"3\": 2, \"12\": 1}, \"11\": {\"11\": 90, \"14\": 73, \"7\": 4, \"2\": 12, \"10\": 25, \"15\": 3, \"12\": 18, \"4\": 11, \"5\": 1, \"3\": 1, \"13\": 1, \"8\": 1}, \"10\": {\"13\": 9, \"11\": 18, \"7\": 27, \"10\": 43, \"12\": 18, \"0\": 23, \"8\": 25, \"5\": 11, \"14\": 34, \"15\": 4, \"2\": 17, \"3\": 6, \"4\": 3, \"1\": 1, \"6\": 1}, \"14\": {\"13\": 10, \"11\": 51, \"14\": 86, \"12\": 21, \"10\": 36, \"0\": 4, \"5\": 1, \"2\": 23, \"15\": 2, \"7\": 2, \"8\": 4}, \"6\": {\"9\": 69, \"15\": 18, \"8\": 11, \"5\": 25, \"6\": 66, \"0\": 6, \"1\": 25, \"10\": 1, \"7\": 5, \"3\": 7, \"13\": 7}, \"4\": {\"12\": 70, \"4\": 154, \"11\": 10, \"7\": 5, \"0\": 1}, \"13\": {\"10\": 10, \"8\": 15, \"13\": 46, \"1\": 23, \"15\": 37, \"0\": 14, \"2\": 41, \"5\": 23, \"6\": 4, \"9\": 14, \"11\": 2, \"7\": 2, \"14\": 7, \"3\": 2}, \"3\": {\"3\": 67, \"7\": 15, \"5\": 35, \"0\": 30, \"6\": 15, \"8\": 22, \"9\": 41, \"10\": 6, \"15\": 4, \"1\": 1, \"13\": 3, \"12\": 1}, \"7\": {\"0\": 38, \"9\": 4, \"3\": 23, \"5\": 18, \"10\": 36, \"12\": 7, \"7\": 72, \"8\": 27, \"2\": 1, \"14\": 7, \"15\": 2, \"4\": 2, \"6\": 1, \"11\": 2}, \"8\": {\"8\": 41, \"10\": 22, \"7\": 18, \"5\": 48, \"13\": 8, \"0\": 27, \"6\": 11, \"15\": 20, \"2\": 3, \"9\": 9, \"3\": 20, \"14\": 9, \"11\": 3, \"1\": 1}, \"1\": {\"15\": 35, \"2\": 15, \"6\": 39, \"1\": 77, \"9\": 36, \"8\": 2, \"3\": 5, \"5\": 7, \"13\": 23, \"10\": 1}, \"5\": {\"8\": 38, \"3\": 14, \"15\": 30, \"7\": 20, \"9\": 22, \"0\": 26, \"5\": 38, \"2\": 4, \"13\": 14, \"1\": 9, \"6\": 13, \"10\": 8, \"11\": 1, \"14\": 2, \"12\": 1}, \"0\": {\"7\": 37, \"5\": 35, \"9\": 9, \"13\": 6, \"10\": 23, \"8\": 32, \"15\": 11, \"2\": 1, \"6\": 5, \"3\": 25, \"0\": 33, \"14\": 10, \"12\": 9, \"11\": 2, \"4\": 1, \"1\": 1}, \"2\": {\"13\": 44, \"5\": 10, \"2\": 82, \"14\": 22, \"15\": 39, \"10\": 18, \"8\": 4, \"0\": 4, \"6\": 4, \"11\": 6, \"9\": 2, \"12\": 1, \"1\": 3, \"7\": 1}, \"12\": {\"12\": 128, \"0\": 13, \"14\": 15, \"7\": 13, \"11\": 14, \"4\": 43, \"3\": 1, \"10\": 12, \"8\": 1}, \"9\": {\"2\": 2, \"9\": 62, \"5\": 27, \"6\": 46, \"1\": 39, \"0\": 8, \"15\": 14, \"7\": 4, \"8\": 14, \"3\": 15, \"13\": 7, \"10\": 2}}, \"O_20\": {\"10\": {\"8\": 21, \"6\": 32, \"4\": 40, \"3\": 13, \"10\": 46, \"7\": 21, \"5\": 9, \"0\": 7, \"14\": 31, \"11\": 3, \"1\": 2, \"15\": 2, \"12\": 6, \"9\": 4, \"2\": 2, \"13\": 1}, \"7\": {\"15\": 19, \"2\": 19, \"11\": 24, \"4\": 14, \"12\": 12, \"13\": 8, \"1\": 16, \"0\": 20, \"6\": 12, \"8\": 11, \"9\": 12, \"14\": 6, \"5\": 22, \"7\": 23, \"3\": 18, \"10\": 4}, \"4\": {\"8\": 29, \"9\": 13, \"6\": 17, \"7\": 25, \"14\": 16, \"0\": 9, \"3\": 16, \"10\": 23, \"4\": 39, \"12\": 10, \"5\": 14, \"1\": 10, \"15\": 4, \"2\": 8, \"13\": 3, \"11\": 4}, \"13\": {\"15\": 29, \"12\": 21, \"11\": 27, \"13\": 25, \"2\": 19, \"1\": 23, \"14\": 1, \"7\": 9, \"9\": 27, \"3\": 11, \"5\": 18, \"0\": 28, \"6\": 1, \"8\": 1}, \"1\": {\"7\": 17, \"0\": 29, \"15\": 25, \"9\": 22, \"13\": 13, \"5\": 19, \"12\": 22, \"3\": 18, \"1\": 26, \"2\": 20, \"8\": 9, \"6\": 3, \"11\": 10, \"4\": 5, \"10\": 2}, \"0\": {\"8\": 10, \"12\": 23, \"11\": 9, \"15\": 29, \"5\": 25, \"4\": 14, \"9\": 17, \"0\": 29, \"7\": 20, \"14\": 1, \"13\": 8, \"10\": 4, \"1\": 20, \"2\": 13, \"6\": 6, \"3\": 12}, \"12\": {\"1\": 25, \"2\": 19, \"3\": 27, \"11\": 9, \"7\": 20, \"5\": 12, \"10\": 3, \"9\": 26, \"12\": 19, \"13\": 17, \"15\": 12, \"0\": 17, \"4\": 13, \"8\": 12, \"6\": 5, \"14\": 4}, \"5\": {\"12\": 22, \"2\": 21, \"3\": 24, \"1\": 29, \"5\": 23, \"9\": 16, \"8\": 8, \"0\": 23, \"13\": 12, \"11\": 6, \"10\": 1, \"6\": 10, \"7\": 18, \"4\": 9, \"15\": 18}, \"6\": {\"8\": 30, \"3\": 20, \"4\": 24, \"0\": 6, \"14\": 32, \"7\": 22, \"12\": 10, \"10\": 22, \"2\": 12, \"5\": 6, \"6\": 34, \"1\": 6, \"11\": 6, \"13\": 4, \"15\": 3, \"9\": 3}, \"2\": {\"12\": 21, \"3\": 18, \"9\": 26, \"13\": 12, \"15\": 25, \"1\": 20, \"2\": 27, \"11\": 17, \"5\": 15, \"4\": 10, \"14\": 2, \"8\": 8, \"7\": 14, \"10\": 3, \"6\": 7, \"0\": 15}, \"8\": {\"4\": 24, \"1\": 9, \"8\": 33, \"0\": 13, \"7\": 22, \"3\": 23, \"12\": 16, \"6\": 22, \"11\": 1, \"10\": 15, \"15\": 6, \"2\": 6, \"14\": 17, \"9\": 15, \"5\": 15, \"13\": 3}, \"11\": {\"13\": 25, \"11\": 56, \"12\": 10, \"3\": 20, \"15\": 12, \"6\": 9, \"10\": 1, \"9\": 23, \"2\": 25, \"1\": 15, \"7\": 13, \"0\": 15, \"5\": 13, \"8\": 3}, \"9\": {\"11\": 12, \"13\": 20, \"9\": 15, \"0\": 18, \"5\": 22, \"7\": 23, \"1\": 15, \"4\": 13, \"2\": 23, \"15\": 21, \"6\": 15, \"12\": 18, \"8\": 6, \"3\": 17, \"10\": 2}, \"14\": {\"14\": 51, \"8\": 28, \"10\": 47, \"0\": 6, \"7\": 12, \"6\": 29, \"4\": 25, \"12\": 3, \"9\": 7, \"5\": 6, \"1\": 4, \"3\": 12, \"2\": 6, \"11\": 2, \"13\": 2}, \"15\": {\"12\": 24, \"15\": 33, \"9\": 25, \"1\": 22, \"13\": 22, \"2\": 21, \"0\": 26, \"4\": 6, \"5\": 20, \"3\": 18, \"7\": 13, \"10\": 1, \"11\": 6, \"6\": 1, \"8\": 1, \"14\": 1}, \"3\": {\"10\": 11, \"13\": 14, \"2\": 25, \"4\": 14, \"0\": 19, \"1\": 21, \"3\": 23, \"12\": 25, \"9\": 18, \"6\": 12, \"11\": 10, \"5\": 14, \"7\": 18, \"15\": 8, \"14\": 4, \"8\": 4}}, \"O_14\": {\"14\": {\"11\": 14, \"2\": 35, \"7\": 7, \"0\": 19, \"6\": 31, \"10\": 12, \"13\": 33, \"5\": 7, \"3\": 5, \"14\": 36, \"4\": 17, \"15\": 19, \"1\": 5}, \"0\": {\"5\": 16, \"0\": 41, \"3\": 29, \"11\": 46, \"10\": 22, \"1\": 24, \"14\": 8, \"4\": 16, \"9\": 8, \"8\": 3, \"2\": 8, \"15\": 5, \"7\": 8, \"12\": 1, \"13\": 4, \"6\": 1}, \"4\": {\"5\": 28, \"15\": 21, \"10\": 19, \"2\": 17, \"4\": 31, \"1\": 20, \"14\": 10, \"0\": 21, \"7\": 26, \"11\": 9, \"6\": 5, \"3\": 24, \"13\": 5, \"9\": 3, \"8\": 1}, \"11\": {\"3\": 24, \"14\": 5, \"11\": 58, \"9\": 34, \"0\": 37, \"12\": 18, \"10\": 26, \"4\": 13, \"6\": 1, \"13\": 2, \"2\": 3, \"7\": 5, \"5\": 9, \"1\": 3, \"15\": 1, \"8\": 1}, \"13\": {\"15\": 22, \"13\": 38, \"6\": 48, \"2\": 40, \"14\": 36, \"10\": 10, \"3\": 11, \"7\": 5, \"5\": 7, \"11\": 5, \"4\": 6, \"0\": 9, \"1\": 3}, \"9\": {\"4\": 3, \"9\": 77, \"8\": 42, \"11\": 33, \"0\": 13, \"12\": 58, \"1\": 6, \"7\": 1, \"10\": 3, \"15\": 1, \"5\": 2, \"3\": 1}, \"3\": {\"4\": 19, \"11\": 33, \"15\": 11, \"5\": 26, \"2\": 15, \"13\": 8, \"10\": 27, \"9\": 3, \"0\": 20, \"7\": 13, \"1\": 17, \"3\": 25, \"6\": 8, \"14\": 14, \"8\": 1}, \"6\": {\"15\": 22, \"13\": 42, \"7\": 8, \"2\": 31, \"14\": 46, \"6\": 48, \"10\": 10, \"3\": 7, \"5\": 13, \"0\": 5, \"4\": 4, \"11\": 4}, \"1\": {\"7\": 26, \"4\": 29, \"9\": 5, \"0\": 29, \"3\": 20, \"13\": 5, \"2\": 6, \"1\": 41, \"15\": 15, \"8\": 12, \"5\": 24, \"11\": 11, \"10\": 12, \"14\": 5}, \"5\": {\"9\": 2, \"14\": 13, \"5\": 29, \"7\": 31, \"0\": 14, \"10\": 11, \"6\": 7, \"4\": 27, \"1\": 20, \"3\": 29, \"2\": 22, \"11\": 8, \"15\": 17, \"13\": 8, \"8\": 2}, \"12\": {\"9\": 83, \"12\": 120, \"11\": 11, \"8\": 20, \"5\": 1, \"0\": 4, \"3\": 1}, \"10\": {\"5\": 18, \"1\": 17, \"10\": 41, \"11\": 26, \"0\": 31, \"6\": 7, \"14\": 10, \"3\": 29, \"13\": 11, \"2\": 9, \"4\": 18, \"7\": 12, \"12\": 2, \"15\": 5, \"9\": 4}, \"8\": {\"1\": 31, \"9\": 57, \"11\": 9, \"8\": 91, \"12\": 17, \"0\": 10, \"3\": 4, \"10\": 3, \"4\": 9, \"7\": 7, \"5\": 2}, \"7\": {\"4\": 22, \"7\": 47, \"3\": 19, \"11\": 5, \"15\": 39, \"14\": 7, \"1\": 33, \"2\": 11, \"0\": 12, \"5\": 30, \"6\": 3, \"13\": 4, \"10\": 5, \"8\": 3}, \"15\": {\"1\": 16, \"7\": 45, \"2\": 22, \"15\": 57, \"13\": 10, \"5\": 24, \"0\": 3, \"14\": 16, \"6\": 11, \"4\": 17, \"3\": 8, \"10\": 7, \"11\": 3, \"8\": 1}, \"2\": {\"15\": 20, \"3\": 13, \"2\": 29, \"14\": 30, \"0\": 16, \"6\": 32, \"1\": 6, \"10\": 9, \"7\": 13, \"5\": 17, \"11\": 7, \"4\": 17, \"13\": 31}}, \"O_32\": {\"11\": {\"14\": 41, \"11\": 43, \"7\": 34, \"4\": 20, \"3\": 8, \"8\": 13, \"2\": 18, \"13\": 19, \"0\": 28, \"5\": 15, \"9\": 1}, \"1\": {\"1\": 180, \"10\": 52, \"6\": 8}, \"2\": {\"0\": 25, \"14\": 23, \"13\": 11, \"4\": 46, \"2\": 42, \"11\": 22, \"7\": 27, \"5\": 13, \"9\": 29, \"12\": 1, \"8\": 1}, \"0\": {\"0\": 32, \"4\": 34, \"14\": 25, \"8\": 21, \"2\": 22, \"7\": 23, \"11\": 20, \"5\": 26, \"3\": 7, \"13\": 23, \"9\": 5, \"12\": 1, \"15\": 1}, \"3\": {\"3\": 77, \"8\": 49, \"13\": 41, \"11\": 11, \"5\": 28, \"14\": 6, \"15\": 10, \"7\": 3, \"4\": 7, \"0\": 7, \"2\": 1}, \"8\": {\"3\": 33, \"8\": 51, \"5\": 37, \"4\": 18, \"14\": 12, \"13\": 42, \"11\": 10, \"0\": 22, \"7\": 10, \"15\": 4, \"2\": 1}, \"12\": {\"10\": 41, \"12\": 122, \"9\": 62, \"2\": 5, \"0\": 1, \"6\": 3, \"11\": 1, \"7\": 1, \"13\": 1, \"14\": 3}, \"5\": {\"13\": 39, \"8\": 19, \"11\": 23, \"0\": 19, \"7\": 20, \"14\": 24, \"3\": 18, \"4\": 21, \"5\": 35, \"2\": 18, \"9\": 2, \"15\": 1, \"12\": 1}, \"15\": {\"15\": 197, \"3\": 22, \"13\": 10, \"8\": 8, \"0\": 2, \"7\": 1}, \"7\": {\"14\": 42, \"5\": 25, \"13\": 8, \"8\": 8, \"7\": 32, \"4\": 23, \"0\": 29, \"11\": 35, \"2\": 32, \"9\": 6}, \"4\": {\"4\": 36, \"7\": 36, \"5\": 27, \"13\": 22, \"0\": 24, \"11\": 21, \"14\": 23, \"2\": 21, \"8\": 22, \"3\": 5, \"9\": 3}, \"14\": {\"4\": 23, \"0\": 27, \"13\": 11, \"11\": 41, \"14\": 45, \"7\": 38, \"5\": 16, \"2\": 20, \"8\": 10, \"9\": 2, \"3\": 6, \"12\": 1}, \"10\": {\"10\": 150, \"1\": 52, \"12\": 27, \"6\": 11}, \"6\": {\"6\": 196, \"10\": 11, \"1\": 19, \"12\": 7, \"9\": 7}, \"13\": {\"3\": 29, \"11\": 21, \"8\": 42, \"2\": 10, \"0\": 21, \"13\": 34, \"4\": 26, \"14\": 19, \"7\": 18, \"5\": 20}, \"9\": {\"12\": 52, \"9\": 91, \"14\": 9, \"0\": 10, \"4\": 21, \"2\": 30, \"5\": 6, \"11\": 5, \"3\": 1, \"7\": 12, \"6\": 2, \"13\": 1}}, \"O_8\": {\"9\": {\"9\": 225, \"13\": 4, \"5\": 2, \"4\": 1, \"10\": 5, \"0\": 2, \"14\": 1}, \"11\": {\"11\": 45, \"8\": 27, \"12\": 10, \"10\": 10, \"1\": 40, \"2\": 7, \"15\": 17, \"13\": 7, \"5\": 19, \"6\": 10, \"4\": 14, \"14\": 18, \"3\": 8, \"0\": 1, \"7\": 7}, \"8\": {\"15\": 36, \"10\": 3, \"3\": 22, \"8\": 36, \"2\": 14, \"1\": 21, \"7\": 12, \"12\": 40, \"14\": 6, \"11\": 26, \"4\": 4, \"5\": 4, \"0\": 3, \"13\": 6, \"6\": 7}, \"4\": {\"14\": 38, \"5\": 25, \"10\": 28, \"7\": 26, \"12\": 3, \"0\": 19, \"6\": 26, \"2\": 12, \"15\": 5, \"13\": 10, \"4\": 24, \"1\": 11, \"3\": 5, \"11\": 8}, \"13\": {\"2\": 13, \"7\": 19, \"3\": 8, \"5\": 18, \"10\": 31, \"6\": 24, \"13\": 36, \"4\": 17, \"14\": 26, \"0\": 26, \"11\": 5, \"1\": 16, \"15\": 1}, \"14\": {\"4\": 27, \"0\": 19, \"5\": 19, \"10\": 27, \"7\": 21, \"6\": 28, \"2\": 7, \"14\": 30, \"13\": 20, \"11\": 9, \"15\": 6, \"1\": 15, \"8\": 7, \"12\": 2, \"3\": 3}, \"2\": {\"2\": 43, \"3\": 47, \"8\": 21, \"12\": 18, \"15\": 16, \"7\": 17, \"0\": 10, \"6\": 22, \"1\": 9, \"13\": 11, \"11\": 6, \"4\": 11, \"14\": 5, \"10\": 2, \"5\": 2}, \"3\": {\"3\": 50, \"6\": 14, \"7\": 20, \"10\": 3, \"8\": 23, \"0\": 8, \"15\": 32, \"2\": 36, \"1\": 4, \"12\": 24, \"14\": 7, \"13\": 5, \"4\": 7, \"11\": 7}, \"1\": {\"4\": 17, \"10\": 18, \"5\": 19, \"13\": 9, \"6\": 15, \"11\": 34, \"2\": 3, \"1\": 44, \"8\": 18, \"7\": 10, \"14\": 21, \"15\": 14, \"3\": 9, \"12\": 5, \"0\": 4}, \"0\": {\"7\": 27, \"13\": 35, \"4\": 19, \"10\": 28, \"2\": 24, \"6\": 25, \"14\": 17, \"5\": 12, \"0\": 30, \"1\": 8, \"11\": 3, \"3\": 10, \"12\": 1, \"15\": 1}, \"5\": {\"11\": 16, \"14\": 33, \"10\": 48, \"6\": 21, \"4\": 28, \"13\": 17, \"0\": 10, \"5\": 28, \"7\": 12, \"1\": 21, \"2\": 2, \"3\": 1, \"8\": 2, \"15\": 1}, \"15\": {\"3\": 36, \"8\": 43, \"10\": 4, \"2\": 19, \"15\": 34, \"1\": 16, \"7\": 10, \"11\": 17, \"12\": 39, \"6\": 13, \"14\": 2, \"13\": 4, \"4\": 3}, \"10\": {\"14\": 27, \"5\": 36, \"13\": 26, \"6\": 22, \"1\": 14, \"10\": 23, \"4\": 23, \"2\": 11, \"0\": 27, \"7\": 17, \"11\": 9, \"3\": 1, \"8\": 4}, \"12\": {\"6\": 12, \"3\": 42, \"7\": 7, \"11\": 23, \"12\": 43, \"15\": 39, \"8\": 41, \"2\": 20, \"1\": 6, \"14\": 3, \"13\": 3, \"4\": 1}, \"6\": {\"5\": 10, \"2\": 20, \"1\": 19, \"10\": 16, \"7\": 26, \"14\": 26, \"13\": 15, \"4\": 27, \"12\": 5, \"0\": 18, \"6\": 24, \"11\": 11, \"15\": 6, \"3\": 9, \"8\": 8}, \"7\": {\"2\": 21, \"7\": 31, \"13\": 17, \"6\": 23, \"3\": 17, \"1\": 15, \"14\": 24, \"4\": 12, \"0\": 9, \"10\": 28, \"15\": 7, \"5\": 11, \"11\": 12, \"8\": 8, \"12\": 5}}}, \"per_domain_accuracy\": {\"W_4\": {\"accuracy\": 0.959619341563786, \"source?\": true}, \"C_5\": {\"accuracy\": 0.9984287709497207, \"source?\": true}, \"W_1\": {\"accuracy\": 0.9786811440677966, \"source?\": true}, \"C_1\": {\"accuracy\": 0.9998301630434783, \"source?\": true}, \"C_3\": {\"accuracy\": 0.9998161764705882, \"source?\": true}, \"W_2\": {\"accuracy\": 0.9626046025104602, \"source?\": true}, \"C_4\": {\"accuracy\": 0.9992469879518072, \"source?\": true}, \"C_2\": {\"accuracy\": 0.9996448863636364, \"source?\": true}, \"W_3\": {\"accuracy\": 0.9802128820960698, \"source?\": true}, \"O_26\": {\"accuracy\": 0.1703125, \"source?\": false}, \"O_44\": {\"accuracy\": 0.24973958333333332, \"source?\": false}, \"O_50\": {\"accuracy\": 0.25286458333333334, \"source?\": false}, \"O_38\": {\"accuracy\": 0.29661458333333335, \"source?\": false}, \"O_20\": {\"accuracy\": 0.13072916666666667, \"source?\": false}, \"O_14\": {\"accuracy\": 0.21067708333333332, \"source?\": false}, \"O_32\": {\"accuracy\": 0.35494791666666664, \"source?\": false}, \"O_8\": {\"accuracy\": 0.19427083333333334, \"source?\": false}}}, \"history\": {\"epoch_indices\": [1, 2, 3, 4, 5, 6], \"train_label_loss\": [0.10809931539830588, 0.06498244014466094, 0.05218069600596071, 0.04354805319496854, 0.0356493560660787, 0.030185107192373634], \"source_val_label_loss\": [0.09820648282766342, 0.0724465474486351, 0.06363864988088608, 0.06345260143280029, 0.06519447267055511, 0.06598931550979614], \"target_val_label_loss\": [2.4957661628723145, 2.331481695175171, 2.4490926265716553, 2.5779690742492676, 2.776207447052002, 3.064225912094116], \"source_val_acc_label\": [0.9790580406147091, 0.9841691822173436, 0.9854040889132821, 0.9857642700329309, 0.9851639681668496, 0.985832875960483], \"target_val_acc_label\": [0.2, 0.23251953125, 0.20003255208333334, 0.18404947916666667, 0.16416015625, 0.157421875]}, \"dataset_metrics\": {\"source\": {\"train\": {\"n_unique_x\": 364259, \"n_unique_y\": 130, \"n_batch/episode\": 13174}, \"val\": {\"n_unique_x\": 77221, \"n_unique_y\": 130, \"n_batch/episode\": 1822}, \"test\": {\"n_unique_x\": 78360, \"n_unique_y\": 130, \"n_batch/episode\": 1854}}, \"target\": {\"train\": {\"n_unique_x\": 179200, \"n_unique_y\": 16, \"n_batch/episode\": 6720}, \"val\": {\"n_unique_x\": 38400, \"n_unique_y\": 16, \"n_batch/episode\": 960}, \"test\": {\"n_unique_x\": 38400, \"n_unique_y\": 16, \"n_batch/episode\": 960}}}}'"
      ]
     },
     "execution_count": 29,
     "metadata": {},
     "output_type": "execute_result"
    }
   ],
   "source": [
    "json.dumps(experiment)"
   ]
  }
 ],
 "metadata": {
  "celltoolbar": "Tags",
  "kernelspec": {
   "display_name": "Python 3 (ipykernel)",
   "language": "python",
   "name": "python3"
  },
  "language_info": {
   "codemirror_mode": {
    "name": "ipython",
    "version": 3
   },
   "file_extension": ".py",
   "mimetype": "text/x-python",
   "name": "python",
   "nbconvert_exporter": "python",
   "pygments_lexer": "ipython3",
   "version": "3.8.10"
  },
  "papermill": {
   "default_parameters": {},
   "duration": 4044.407645,
   "end_time": "2022-03-20T11:51:23.602259",
   "environment_variables": {},
   "exception": null,
   "input_path": "/mnt/wd500GB/CSC500/csc500-main/csc500-notebooks/templates/tl_ptn_template.ipynb",
   "output_path": "trial.ipynb",
   "parameters": {
    "parameters": {
     "BEST_MODEL_PATH": "./best_model.pth",
     "NUM_LOGS_PER_EPOCH": 10,
     "criteria_for_best": "target_accuracy",
     "dataset_seed": 7,
     "datasets": [
      {
       "domain_prefix": "C_",
       "domains": [
        1,
        2,
        3,
        4,
        5
       ],
       "episode_transforms": [],
       "labels": [
        "1-10.",
        "1-11.",
        "1-15.",
        "1-16.",
        "1-17.",
        "1-18.",
        "1-19.",
        "10-4.",
        "10-7.",
        "11-1.",
        "11-14.",
        "11-17.",
        "11-20.",
        "11-7.",
        "13-20.",
        "13-8.",
        "14-10.",
        "14-11.",
        "14-14.",
        "14-7.",
        "15-1.",
        "15-20.",
        "16-1.",
        "16-16.",
        "17-10.",
        "17-11.",
        "17-2.",
        "19-1.",
        "19-16.",
        "19-19.",
        "19-20.",
        "19-3.",
        "2-10.",
        "2-11.",
        "2-17.",
        "2-18.",
        "2-20.",
        "2-3.",
        "2-4.",
        "2-5.",
        "2-6.",
        "2-7.",
        "2-8.",
        "3-13.",
        "3-18.",
        "3-3.",
        "4-1.",
        "4-10.",
        "4-11.",
        "4-19.",
        "5-5.",
        "6-15.",
        "7-10.",
        "7-14.",
        "8-18.",
        "8-20.",
        "8-3.",
        "8-8."
       ],
       "num_examples_per_domain_per_label": -1,
       "pickle_path": "/mnt/wd500GB/CSC500/csc500-main/datasets/cores.stratified_ds.2022A.pkl",
       "source_or_target_dataset": "source",
       "x_transforms": [
        "unit_mag"
       ]
      },
      {
       "domain_prefix": "W_",
       "domains": [
        1,
        2,
        3,
        4
       ],
       "episode_transforms": [],
       "labels": [
        "1-10",
        "1-12",
        "1-14",
        "1-16",
        "1-18",
        "1-19",
        "1-8",
        "10-11",
        "10-17",
        "10-4",
        "10-7",
        "11-1",
        "11-10",
        "11-19",
        "11-20",
        "11-4",
        "11-7",
        "12-19",
        "12-20",
        "12-7",
        "13-14",
        "13-18",
        "13-19",
        "13-20",
        "13-3",
        "13-7",
        "14-10",
        "14-11",
        "14-12",
        "14-13",
        "14-14",
        "14-19",
        "14-20",
        "14-7",
        "14-8",
        "14-9",
        "15-1",
        "15-19",
        "15-6",
        "16-1",
        "16-16",
        "16-19",
        "16-20",
        "17-10",
        "17-11",
        "18-1",
        "18-10",
        "18-11",
        "18-12",
        "18-13",
        "18-14",
        "18-15",
        "18-16",
        "18-17",
        "18-19",
        "18-2",
        "18-20",
        "18-4",
        "18-5",
        "18-7",
        "18-8",
        "18-9",
        "19-1",
        "19-10",
        "19-11",
        "19-12",
        "19-13",
        "19-14",
        "19-15",
        "19-19",
        "19-2",
        "19-20",
        "19-3",
        "19-4",
        "19-6",
        "19-7",
        "19-8",
        "19-9",
        "2-1",
        "2-13",
        "2-15",
        "2-3",
        "2-4",
        "2-5",
        "2-6",
        "2-7",
        "2-8",
        "20-1",
        "20-12",
        "20-14",
        "20-15",
        "20-16",
        "20-18",
        "20-19",
        "20-20",
        "20-3",
        "20-4",
        "20-5",
        "20-7",
        "20-8",
        "3-1",
        "3-13",
        "3-18",
        "3-2",
        "3-8",
        "4-1",
        "4-10",
        "4-11",
        "5-1",
        "5-5",
        "6-1",
        "6-15",
        "6-6",
        "7-10",
        "7-11",
        "7-12",
        "7-13",
        "7-14",
        "7-7",
        "7-8",
        "7-9",
        "8-1",
        "8-13",
        "8-14",
        "8-18",
        "8-20",
        "8-3",
        "8-8",
        "9-1",
        "9-7"
       ],
       "num_examples_per_domain_per_label": -1,
       "pickle_path": "/mnt/wd500GB/CSC500/csc500-main/datasets/wisig.node3-19.stratified_ds.2022A.pkl",
       "source_or_target_dataset": "source",
       "x_transforms": [
        "unit_mag"
       ]
      },
      {
       "domain_prefix": "O_",
       "domains": [
        32,
        38,
        8,
        44,
        14,
        50,
        20,
        26
       ],
       "episode_transforms": [],
       "labels": [
        "3123D52",
        "3123D65",
        "3123D79",
        "3123D80",
        "3123D54",
        "3123D70",
        "3123D7B",
        "3123D89",
        "3123D58",
        "3123D76",
        "3123D7D",
        "3123EFE",
        "3123D64",
        "3123D78",
        "3123D7E",
        "3124E4A"
       ],
       "num_examples_per_domain_per_label": 2000,
       "pickle_path": "/mnt/wd500GB/CSC500/csc500-main/datasets/oracle.Run1_framed_2000Examples_stratified_ds.2022A.pkl",
       "source_or_target_dataset": "target",
       "x_transforms": [
        "unit_mag"
       ]
      }
     ],
     "device": "cuda",
     "experiment_name": "tl_2v2:cores+wisig -> oracle.run1.framed",
     "lr": 0.0001,
     "n_epoch": 50,
     "n_query": 2,
     "n_shot": 3,
     "n_way": 16,
     "patience": 3,
     "seed": 7,
     "test_k_factor": 2,
     "torch_default_dtype": "torch.float32",
     "train_k_factor": 3,
     "val_k_factor": 2,
     "x_net": [
      {
       "class": "nnReshape",
       "kargs": {
        "shape": [
         -1,
         1,
         2,
         256
        ]
       }
      },
      {
       "class": "Conv2d",
       "kargs": {
        "bias": false,
        "in_channels": 1,
        "kernel_size": [
         1,
         7
        ],
        "out_channels": 256,
        "padding": [
         0,
         3
        ]
       }
      },
      {
       "class": "ReLU",
       "kargs": {
        "inplace": true
       }
      },
      {
       "class": "BatchNorm2d",
       "kargs": {
        "num_features": 256
       }
      },
      {
       "class": "Conv2d",
       "kargs": {
        "bias": true,
        "in_channels": 256,
        "kernel_size": [
         2,
         7
        ],
        "out_channels": 80,
        "padding": [
         0,
         3
        ]
       }
      },
      {
       "class": "ReLU",
       "kargs": {
        "inplace": true
       }
      },
      {
       "class": "BatchNorm2d",
       "kargs": {
        "num_features": 80
       }
      },
      {
       "class": "Flatten",
       "kargs": {}
      },
      {
       "class": "Linear",
       "kargs": {
        "in_features": 20480,
        "out_features": 256
       }
      },
      {
       "class": "ReLU",
       "kargs": {
        "inplace": true
       }
      },
      {
       "class": "BatchNorm1d",
       "kargs": {
        "num_features": 256
       }
      },
      {
       "class": "Linear",
       "kargs": {
        "in_features": 256,
        "out_features": 256
       }
      }
     ]
    }
   },
   "start_time": "2022-03-20T10:43:59.194614",
   "version": "2.3.4"
  }
 },
 "nbformat": 4,
 "nbformat_minor": 5
}