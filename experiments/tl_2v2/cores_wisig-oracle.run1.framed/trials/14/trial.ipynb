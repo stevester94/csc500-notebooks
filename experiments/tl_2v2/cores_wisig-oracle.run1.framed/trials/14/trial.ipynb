{
 "cells": [
  {
   "cell_type": "markdown",
   "id": "9fea5f46",
   "metadata": {
    "papermill": {
     "duration": 0.018614,
     "end_time": "2022-03-20T15:10:57.546961",
     "exception": false,
     "start_time": "2022-03-20T15:10:57.528347",
     "status": "completed"
    },
    "tags": []
   },
   "source": [
    "# Transfer Learning Template"
   ]
  },
  {
   "cell_type": "code",
   "execution_count": 1,
   "id": "0902182a",
   "metadata": {
    "execution": {
     "iopub.execute_input": "2022-03-20T15:10:57.587295Z",
     "iopub.status.busy": "2022-03-20T15:10:57.587020Z",
     "iopub.status.idle": "2022-03-20T15:10:58.569869Z",
     "shell.execute_reply": "2022-03-20T15:10:58.569350Z"
    },
    "papermill": {
     "duration": 1.009973,
     "end_time": "2022-03-20T15:10:58.569987",
     "exception": false,
     "start_time": "2022-03-20T15:10:57.560014",
     "status": "completed"
    },
    "tags": []
   },
   "outputs": [],
   "source": [
    "%load_ext autoreload\n",
    "%autoreload 2\n",
    "%matplotlib inline\n",
    "\n",
    "    \n",
    "import os, json, sys, time, random\n",
    "import numpy as np\n",
    "import torch\n",
    "from torch.optim import Adam\n",
    "from  easydict import EasyDict\n",
    "import matplotlib.pyplot as plt\n",
    "\n",
    "from steves_models.steves_ptn import Steves_Prototypical_Network\n",
    "\n",
    "from steves_utils.lazy_iterable_wrapper import Lazy_Iterable_Wrapper\n",
    "from steves_utils.iterable_aggregator import Iterable_Aggregator\n",
    "from steves_utils.ptn_train_eval_test_jig import  PTN_Train_Eval_Test_Jig\n",
    "from steves_utils.torch_sequential_builder import build_sequential\n",
    "from steves_utils.torch_utils import get_dataset_metrics, ptn_confusion_by_domain_over_dataloader\n",
    "from steves_utils.utils_v2 import (per_domain_accuracy_from_confusion, get_datasets_base_path)\n",
    "from steves_utils.PTN.utils import independent_accuracy_assesment\n",
    "\n",
    "from torch.utils.data import DataLoader\n",
    "\n",
    "from steves_utils.stratified_dataset.episodic_accessor import Episodic_Accessor_Factory\n",
    "\n",
    "from steves_utils.ptn_do_report import (\n",
    "    get_loss_curve,\n",
    "    get_results_table,\n",
    "    get_parameters_table,\n",
    "    get_domain_accuracies,\n",
    ")\n",
    "\n",
    "from steves_utils.transforms import get_chained_transform"
   ]
  },
  {
   "cell_type": "markdown",
   "id": "41c840b4",
   "metadata": {
    "papermill": {
     "duration": 0.012578,
     "end_time": "2022-03-20T15:10:58.602555",
     "exception": false,
     "start_time": "2022-03-20T15:10:58.589977",
     "status": "completed"
    },
    "tags": []
   },
   "source": [
    "# Allowed Parameters\n",
    "These are allowed parameters, not defaults\n",
    "Each of these values need to be present in the injected parameters (the notebook will raise an exception if they are not present)\n",
    "\n",
    "Papermill uses the cell tag \"parameters\" to inject the real parameters below this cell.\n",
    "Enable tags to see what I mean"
   ]
  },
  {
   "cell_type": "code",
   "execution_count": 2,
   "id": "fd44eb83",
   "metadata": {
    "execution": {
     "iopub.execute_input": "2022-03-20T15:10:58.630729Z",
     "iopub.status.busy": "2022-03-20T15:10:58.630466Z",
     "iopub.status.idle": "2022-03-20T15:10:58.646419Z",
     "shell.execute_reply": "2022-03-20T15:10:58.646963Z"
    },
    "papermill": {
     "duration": 0.032048,
     "end_time": "2022-03-20T15:10:58.647125",
     "exception": false,
     "start_time": "2022-03-20T15:10:58.615077",
     "status": "completed"
    },
    "tags": []
   },
   "outputs": [],
   "source": [
    "required_parameters = {\n",
    "    \"experiment_name\",\n",
    "    \"lr\",\n",
    "    \"device\",\n",
    "    \"seed\",\n",
    "    \"dataset_seed\",\n",
    "    \"n_shot\",\n",
    "    \"n_query\",\n",
    "    \"n_way\",\n",
    "    \"train_k_factor\",\n",
    "    \"val_k_factor\",\n",
    "    \"test_k_factor\",\n",
    "    \"n_epoch\",\n",
    "    \"patience\",\n",
    "    \"criteria_for_best\",\n",
    "    \"x_net\",\n",
    "    \"datasets\",\n",
    "    \"torch_default_dtype\",\n",
    "    \"NUM_LOGS_PER_EPOCH\",\n",
    "    \"BEST_MODEL_PATH\",\n",
    "    \"x_shape\",\n",
    "}"
   ]
  },
  {
   "cell_type": "code",
   "execution_count": 3,
   "id": "fa3f0049",
   "metadata": {
    "execution": {
     "iopub.execute_input": "2022-03-20T15:10:58.695819Z",
     "iopub.status.busy": "2022-03-20T15:10:58.695419Z",
     "iopub.status.idle": "2022-03-20T15:10:58.708236Z",
     "shell.execute_reply": "2022-03-20T15:10:58.708458Z"
    },
    "papermill": {
     "duration": 0.041796,
     "end_time": "2022-03-20T15:10:58.708540",
     "exception": false,
     "start_time": "2022-03-20T15:10:58.666744",
     "status": "completed"
    },
    "tags": [
     "parameters"
    ]
   },
   "outputs": [],
   "source": [
    "from steves_utils.CORES.utils import (\n",
    "    ALL_NODES,\n",
    "    ALL_NODES_MINIMUM_1000_EXAMPLES,\n",
    "    ALL_DAYS\n",
    ")\n",
    "\n",
    "from steves_utils.ORACLE.utils_v2 import (\n",
    "    ALL_DISTANCES_FEET_NARROWED,\n",
    "    ALL_RUNS,\n",
    "    ALL_SERIAL_NUMBERS,\n",
    ")\n",
    "\n",
    "standalone_parameters = {}\n",
    "standalone_parameters[\"experiment_name\"] = \"STANDALONE PTN\"\n",
    "standalone_parameters[\"lr\"] = 0.001\n",
    "standalone_parameters[\"device\"] = \"cuda\"\n",
    "\n",
    "standalone_parameters[\"seed\"] = 1337\n",
    "standalone_parameters[\"dataset_seed\"] = 1337\n",
    "\n",
    "standalone_parameters[\"n_way\"] = 8\n",
    "standalone_parameters[\"n_shot\"] = 3\n",
    "standalone_parameters[\"n_query\"]  = 2\n",
    "standalone_parameters[\"train_k_factor\"] = 1\n",
    "standalone_parameters[\"val_k_factor\"] = 2\n",
    "standalone_parameters[\"test_k_factor\"] = 2\n",
    "\n",
    "\n",
    "standalone_parameters[\"n_epoch\"] = 50\n",
    "\n",
    "standalone_parameters[\"patience\"] = 10\n",
    "standalone_parameters[\"criteria_for_best\"] = \"source_loss\"\n",
    "\n",
    "standalone_parameters[\"datasets\"] = [\n",
    "    {\n",
    "        \"labels\": ALL_SERIAL_NUMBERS,\n",
    "        \"domains\": ALL_DISTANCES_FEET_NARROWED,\n",
    "        \"num_examples_per_domain_per_label\": 100,\n",
    "        \"pickle_path\": os.path.join(get_datasets_base_path(), \"oracle.Run1_framed_2000Examples_stratified_ds.2022A.pkl\"),\n",
    "        \"source_or_target_dataset\": \"source\",\n",
    "        \"x_transforms\": [\"unit_mag\", \"minus_two\"],\n",
    "        \"episode_transforms\": [],\n",
    "        \"domain_prefix\": \"ORACLE_\"\n",
    "    },\n",
    "    {\n",
    "        \"labels\": ALL_NODES,\n",
    "        \"domains\": ALL_DAYS,\n",
    "        \"num_examples_per_domain_per_label\": 100,\n",
    "        \"pickle_path\": os.path.join(get_datasets_base_path(), \"cores.stratified_ds.2022A.pkl\"),\n",
    "        \"source_or_target_dataset\": \"target\",\n",
    "        \"x_transforms\": [\"unit_power\", \"times_zero\"],\n",
    "        \"episode_transforms\": [],\n",
    "        \"domain_prefix\": \"CORES_\"\n",
    "    }   \n",
    "]\n",
    "\n",
    "standalone_parameters[\"torch_default_dtype\"] = \"torch.float32\" \n",
    "\n",
    "\n",
    "\n",
    "standalone_parameters[\"x_net\"] =     [\n",
    "    {\"class\": \"nnReshape\", \"kargs\": {\"shape\":[-1, 1, 2, 256]}},\n",
    "    {\"class\": \"Conv2d\", \"kargs\": { \"in_channels\":1, \"out_channels\":256, \"kernel_size\":(1,7), \"bias\":False, \"padding\":(0,3), },},\n",
    "    {\"class\": \"ReLU\", \"kargs\": {\"inplace\": True}},\n",
    "    {\"class\": \"BatchNorm2d\", \"kargs\": {\"num_features\":256}},\n",
    "\n",
    "    {\"class\": \"Conv2d\", \"kargs\": { \"in_channels\":256, \"out_channels\":80, \"kernel_size\":(2,7), \"bias\":True, \"padding\":(0,3), },},\n",
    "    {\"class\": \"ReLU\", \"kargs\": {\"inplace\": True}},\n",
    "    {\"class\": \"BatchNorm2d\", \"kargs\": {\"num_features\":80}},\n",
    "    {\"class\": \"Flatten\", \"kargs\": {}},\n",
    "\n",
    "    {\"class\": \"Linear\", \"kargs\": {\"in_features\": 80*256, \"out_features\": 256}}, # 80 units per IQ pair\n",
    "    {\"class\": \"ReLU\", \"kargs\": {\"inplace\": True}},\n",
    "    {\"class\": \"BatchNorm1d\", \"kargs\": {\"num_features\":256}},\n",
    "\n",
    "    {\"class\": \"Linear\", \"kargs\": {\"in_features\": 256, \"out_features\": 256}},\n",
    "]\n",
    "\n",
    "# Parameters relevant to results\n",
    "# These parameters will basically never need to change\n",
    "standalone_parameters[\"NUM_LOGS_PER_EPOCH\"] = 10\n",
    "standalone_parameters[\"BEST_MODEL_PATH\"] = \"./best_model.pth\"\n",
    "\n",
    "\n",
    "\n",
    "\n"
   ]
  },
  {
   "cell_type": "code",
   "execution_count": 4,
   "id": "74214bd9",
   "metadata": {
    "execution": {
     "iopub.execute_input": "2022-03-20T15:10:58.757475Z",
     "iopub.status.busy": "2022-03-20T15:10:58.745693Z",
     "iopub.status.idle": "2022-03-20T15:10:58.771829Z",
     "shell.execute_reply": "2022-03-20T15:10:58.771576Z"
    },
    "papermill": {
     "duration": 0.043997,
     "end_time": "2022-03-20T15:10:58.771893",
     "exception": false,
     "start_time": "2022-03-20T15:10:58.727896",
     "status": "completed"
    },
    "tags": [
     "injected-parameters"
    ]
   },
   "outputs": [],
   "source": [
    "# Parameters\n",
    "parameters = {\n",
    "    \"experiment_name\": \"tl_2v2:cores+wisig -> oracle.run1.framed\",\n",
    "    \"device\": \"cuda\",\n",
    "    \"lr\": 0.0001,\n",
    "    \"n_shot\": 3,\n",
    "    \"n_query\": 2,\n",
    "    \"train_k_factor\": 3,\n",
    "    \"val_k_factor\": 2,\n",
    "    \"test_k_factor\": 2,\n",
    "    \"torch_default_dtype\": \"torch.float32\",\n",
    "    \"n_epoch\": 50,\n",
    "    \"patience\": 3,\n",
    "    \"criteria_for_best\": \"target_accuracy\",\n",
    "    \"x_net\": [\n",
    "        {\"class\": \"nnReshape\", \"kargs\": {\"shape\": [-1, 1, 2, 256]}},\n",
    "        {\n",
    "            \"class\": \"Conv2d\",\n",
    "            \"kargs\": {\n",
    "                \"in_channels\": 1,\n",
    "                \"out_channels\": 256,\n",
    "                \"kernel_size\": [1, 7],\n",
    "                \"bias\": False,\n",
    "                \"padding\": [0, 3],\n",
    "            },\n",
    "        },\n",
    "        {\"class\": \"ReLU\", \"kargs\": {\"inplace\": True}},\n",
    "        {\"class\": \"BatchNorm2d\", \"kargs\": {\"num_features\": 256}},\n",
    "        {\n",
    "            \"class\": \"Conv2d\",\n",
    "            \"kargs\": {\n",
    "                \"in_channels\": 256,\n",
    "                \"out_channels\": 80,\n",
    "                \"kernel_size\": [2, 7],\n",
    "                \"bias\": True,\n",
    "                \"padding\": [0, 3],\n",
    "            },\n",
    "        },\n",
    "        {\"class\": \"ReLU\", \"kargs\": {\"inplace\": True}},\n",
    "        {\"class\": \"BatchNorm2d\", \"kargs\": {\"num_features\": 80}},\n",
    "        {\"class\": \"Flatten\", \"kargs\": {}},\n",
    "        {\"class\": \"Linear\", \"kargs\": {\"in_features\": 20480, \"out_features\": 256}},\n",
    "        {\"class\": \"ReLU\", \"kargs\": {\"inplace\": True}},\n",
    "        {\"class\": \"BatchNorm1d\", \"kargs\": {\"num_features\": 256}},\n",
    "        {\"class\": \"Linear\", \"kargs\": {\"in_features\": 256, \"out_features\": 256}},\n",
    "    ],\n",
    "    \"NUM_LOGS_PER_EPOCH\": 10,\n",
    "    \"BEST_MODEL_PATH\": \"./best_model.pth\",\n",
    "    \"n_way\": 16,\n",
    "    \"datasets\": [\n",
    "        {\n",
    "            \"labels\": [\n",
    "                \"1-10.\",\n",
    "                \"1-11.\",\n",
    "                \"1-15.\",\n",
    "                \"1-16.\",\n",
    "                \"1-17.\",\n",
    "                \"1-18.\",\n",
    "                \"1-19.\",\n",
    "                \"10-4.\",\n",
    "                \"10-7.\",\n",
    "                \"11-1.\",\n",
    "                \"11-14.\",\n",
    "                \"11-17.\",\n",
    "                \"11-20.\",\n",
    "                \"11-7.\",\n",
    "                \"13-20.\",\n",
    "                \"13-8.\",\n",
    "                \"14-10.\",\n",
    "                \"14-11.\",\n",
    "                \"14-14.\",\n",
    "                \"14-7.\",\n",
    "                \"15-1.\",\n",
    "                \"15-20.\",\n",
    "                \"16-1.\",\n",
    "                \"16-16.\",\n",
    "                \"17-10.\",\n",
    "                \"17-11.\",\n",
    "                \"17-2.\",\n",
    "                \"19-1.\",\n",
    "                \"19-16.\",\n",
    "                \"19-19.\",\n",
    "                \"19-20.\",\n",
    "                \"19-3.\",\n",
    "                \"2-10.\",\n",
    "                \"2-11.\",\n",
    "                \"2-17.\",\n",
    "                \"2-18.\",\n",
    "                \"2-20.\",\n",
    "                \"2-3.\",\n",
    "                \"2-4.\",\n",
    "                \"2-5.\",\n",
    "                \"2-6.\",\n",
    "                \"2-7.\",\n",
    "                \"2-8.\",\n",
    "                \"3-13.\",\n",
    "                \"3-18.\",\n",
    "                \"3-3.\",\n",
    "                \"4-1.\",\n",
    "                \"4-10.\",\n",
    "                \"4-11.\",\n",
    "                \"4-19.\",\n",
    "                \"5-5.\",\n",
    "                \"6-15.\",\n",
    "                \"7-10.\",\n",
    "                \"7-14.\",\n",
    "                \"8-18.\",\n",
    "                \"8-20.\",\n",
    "                \"8-3.\",\n",
    "                \"8-8.\",\n",
    "            ],\n",
    "            \"domains\": [1, 2, 3, 4, 5],\n",
    "            \"num_examples_per_domain_per_label\": -1,\n",
    "            \"pickle_path\": \"/mnt/wd500GB/CSC500/csc500-main/datasets/cores.stratified_ds.2022A.pkl\",\n",
    "            \"source_or_target_dataset\": \"source\",\n",
    "            \"x_transforms\": [],\n",
    "            \"episode_transforms\": [],\n",
    "            \"domain_prefix\": \"C_\",\n",
    "        },\n",
    "        {\n",
    "            \"labels\": [\n",
    "                \"1-10\",\n",
    "                \"1-12\",\n",
    "                \"1-14\",\n",
    "                \"1-16\",\n",
    "                \"1-18\",\n",
    "                \"1-19\",\n",
    "                \"1-8\",\n",
    "                \"10-11\",\n",
    "                \"10-17\",\n",
    "                \"10-4\",\n",
    "                \"10-7\",\n",
    "                \"11-1\",\n",
    "                \"11-10\",\n",
    "                \"11-19\",\n",
    "                \"11-20\",\n",
    "                \"11-4\",\n",
    "                \"11-7\",\n",
    "                \"12-19\",\n",
    "                \"12-20\",\n",
    "                \"12-7\",\n",
    "                \"13-14\",\n",
    "                \"13-18\",\n",
    "                \"13-19\",\n",
    "                \"13-20\",\n",
    "                \"13-3\",\n",
    "                \"13-7\",\n",
    "                \"14-10\",\n",
    "                \"14-11\",\n",
    "                \"14-12\",\n",
    "                \"14-13\",\n",
    "                \"14-14\",\n",
    "                \"14-19\",\n",
    "                \"14-20\",\n",
    "                \"14-7\",\n",
    "                \"14-8\",\n",
    "                \"14-9\",\n",
    "                \"15-1\",\n",
    "                \"15-19\",\n",
    "                \"15-6\",\n",
    "                \"16-1\",\n",
    "                \"16-16\",\n",
    "                \"16-19\",\n",
    "                \"16-20\",\n",
    "                \"17-10\",\n",
    "                \"17-11\",\n",
    "                \"18-1\",\n",
    "                \"18-10\",\n",
    "                \"18-11\",\n",
    "                \"18-12\",\n",
    "                \"18-13\",\n",
    "                \"18-14\",\n",
    "                \"18-15\",\n",
    "                \"18-16\",\n",
    "                \"18-17\",\n",
    "                \"18-19\",\n",
    "                \"18-2\",\n",
    "                \"18-20\",\n",
    "                \"18-4\",\n",
    "                \"18-5\",\n",
    "                \"18-7\",\n",
    "                \"18-8\",\n",
    "                \"18-9\",\n",
    "                \"19-1\",\n",
    "                \"19-10\",\n",
    "                \"19-11\",\n",
    "                \"19-12\",\n",
    "                \"19-13\",\n",
    "                \"19-14\",\n",
    "                \"19-15\",\n",
    "                \"19-19\",\n",
    "                \"19-2\",\n",
    "                \"19-20\",\n",
    "                \"19-3\",\n",
    "                \"19-4\",\n",
    "                \"19-6\",\n",
    "                \"19-7\",\n",
    "                \"19-8\",\n",
    "                \"19-9\",\n",
    "                \"2-1\",\n",
    "                \"2-13\",\n",
    "                \"2-15\",\n",
    "                \"2-3\",\n",
    "                \"2-4\",\n",
    "                \"2-5\",\n",
    "                \"2-6\",\n",
    "                \"2-7\",\n",
    "                \"2-8\",\n",
    "                \"20-1\",\n",
    "                \"20-12\",\n",
    "                \"20-14\",\n",
    "                \"20-15\",\n",
    "                \"20-16\",\n",
    "                \"20-18\",\n",
    "                \"20-19\",\n",
    "                \"20-20\",\n",
    "                \"20-3\",\n",
    "                \"20-4\",\n",
    "                \"20-5\",\n",
    "                \"20-7\",\n",
    "                \"20-8\",\n",
    "                \"3-1\",\n",
    "                \"3-13\",\n",
    "                \"3-18\",\n",
    "                \"3-2\",\n",
    "                \"3-8\",\n",
    "                \"4-1\",\n",
    "                \"4-10\",\n",
    "                \"4-11\",\n",
    "                \"5-1\",\n",
    "                \"5-5\",\n",
    "                \"6-1\",\n",
    "                \"6-15\",\n",
    "                \"6-6\",\n",
    "                \"7-10\",\n",
    "                \"7-11\",\n",
    "                \"7-12\",\n",
    "                \"7-13\",\n",
    "                \"7-14\",\n",
    "                \"7-7\",\n",
    "                \"7-8\",\n",
    "                \"7-9\",\n",
    "                \"8-1\",\n",
    "                \"8-13\",\n",
    "                \"8-14\",\n",
    "                \"8-18\",\n",
    "                \"8-20\",\n",
    "                \"8-3\",\n",
    "                \"8-8\",\n",
    "                \"9-1\",\n",
    "                \"9-7\",\n",
    "            ],\n",
    "            \"domains\": [1, 2, 3, 4],\n",
    "            \"num_examples_per_domain_per_label\": -1,\n",
    "            \"pickle_path\": \"/mnt/wd500GB/CSC500/csc500-main/datasets/wisig.node3-19.stratified_ds.2022A.pkl\",\n",
    "            \"source_or_target_dataset\": \"source\",\n",
    "            \"x_transforms\": [],\n",
    "            \"episode_transforms\": [],\n",
    "            \"domain_prefix\": \"W_\",\n",
    "        },\n",
    "        {\n",
    "            \"labels\": [\n",
    "                \"3123D52\",\n",
    "                \"3123D65\",\n",
    "                \"3123D79\",\n",
    "                \"3123D80\",\n",
    "                \"3123D54\",\n",
    "                \"3123D70\",\n",
    "                \"3123D7B\",\n",
    "                \"3123D89\",\n",
    "                \"3123D58\",\n",
    "                \"3123D76\",\n",
    "                \"3123D7D\",\n",
    "                \"3123EFE\",\n",
    "                \"3123D64\",\n",
    "                \"3123D78\",\n",
    "                \"3123D7E\",\n",
    "                \"3124E4A\",\n",
    "            ],\n",
    "            \"domains\": [32, 38, 8, 44, 14, 50, 20, 26],\n",
    "            \"num_examples_per_domain_per_label\": 2000,\n",
    "            \"pickle_path\": \"/mnt/wd500GB/CSC500/csc500-main/datasets/oracle.Run1_framed_2000Examples_stratified_ds.2022A.pkl\",\n",
    "            \"source_or_target_dataset\": \"target\",\n",
    "            \"x_transforms\": [],\n",
    "            \"episode_transforms\": [],\n",
    "            \"domain_prefix\": \"O_\",\n",
    "        },\n",
    "    ],\n",
    "    \"seed\": 500,\n",
    "    \"dataset_seed\": 500,\n",
    "}\n"
   ]
  },
  {
   "cell_type": "code",
   "execution_count": 5,
   "id": "8fa1cc33",
   "metadata": {
    "execution": {
     "iopub.execute_input": "2022-03-20T15:10:58.804037Z",
     "iopub.status.busy": "2022-03-20T15:10:58.803626Z",
     "iopub.status.idle": "2022-03-20T15:10:58.815207Z",
     "shell.execute_reply": "2022-03-20T15:10:58.815435Z"
    },
    "papermill": {
     "duration": 0.027722,
     "end_time": "2022-03-20T15:10:58.815514",
     "exception": false,
     "start_time": "2022-03-20T15:10:58.787792",
     "status": "completed"
    },
    "tags": []
   },
   "outputs": [],
   "source": [
    "# Set this to True if you want to run this template directly\n",
    "STANDALONE = False\n",
    "if STANDALONE:\n",
    "    print(\"parameters not injected, running with standalone_parameters\")\n",
    "    parameters = standalone_parameters\n",
    "\n",
    "if not 'parameters' in locals() and not 'parameters' in globals():\n",
    "    raise Exception(\"Parameter injection failed\")\n",
    "\n",
    "#Use an easy dict for all the parameters\n",
    "p = EasyDict(parameters)\n",
    "\n",
    "if \"x_shape\" not in p:\n",
    "    p.x_shape = [2,256] # Default to this if we dont supply x_shape\n",
    "\n",
    "\n",
    "supplied_keys = set(p.keys())\n",
    "\n",
    "if  supplied_keys != required_parameters:\n",
    "    print(\"Parameters are incorrect\")\n",
    "    if len(supplied_keys - required_parameters)>0: print(\"Shouldn't have:\", str(supplied_keys - required_parameters))\n",
    "    if len(required_parameters - supplied_keys)>0: print(\"Need to have:\", str(required_parameters - supplied_keys))\n",
    "    raise RuntimeError(\"Parameters are incorrect\")"
   ]
  },
  {
   "cell_type": "code",
   "execution_count": 6,
   "id": "3a028d58",
   "metadata": {
    "execution": {
     "iopub.execute_input": "2022-03-20T15:10:58.845508Z",
     "iopub.status.busy": "2022-03-20T15:10:58.845251Z",
     "iopub.status.idle": "2022-03-20T15:10:58.863924Z",
     "shell.execute_reply": "2022-03-20T15:10:58.864330Z"
    },
    "papermill": {
     "duration": 0.034198,
     "end_time": "2022-03-20T15:10:58.864460",
     "exception": false,
     "start_time": "2022-03-20T15:10:58.830262",
     "status": "completed"
    },
    "tags": []
   },
   "outputs": [],
   "source": [
    "###################################\n",
    "# Set the RNGs and make it all deterministic\n",
    "###################################\n",
    "np.random.seed(p.seed)\n",
    "random.seed(p.seed)\n",
    "torch.manual_seed(p.seed)\n",
    "\n",
    "torch.use_deterministic_algorithms(True) "
   ]
  },
  {
   "cell_type": "code",
   "execution_count": 7,
   "id": "b691acf6",
   "metadata": {
    "execution": {
     "iopub.execute_input": "2022-03-20T15:10:58.899990Z",
     "iopub.status.busy": "2022-03-20T15:10:58.899732Z",
     "iopub.status.idle": "2022-03-20T15:10:58.913756Z",
     "shell.execute_reply": "2022-03-20T15:10:58.913315Z"
    },
    "papermill": {
     "duration": 0.030792,
     "end_time": "2022-03-20T15:10:58.913860",
     "exception": false,
     "start_time": "2022-03-20T15:10:58.883068",
     "status": "completed"
    },
    "tags": []
   },
   "outputs": [],
   "source": [
    "###########################################\n",
    "# The stratified datasets honor this\n",
    "###########################################\n",
    "torch.set_default_dtype(eval(p.torch_default_dtype))"
   ]
  },
  {
   "cell_type": "code",
   "execution_count": 8,
   "id": "b5fba671",
   "metadata": {
    "execution": {
     "iopub.execute_input": "2022-03-20T15:10:58.946382Z",
     "iopub.status.busy": "2022-03-20T15:10:58.946128Z",
     "iopub.status.idle": "2022-03-20T15:10:58.996719Z",
     "shell.execute_reply": "2022-03-20T15:10:58.997144Z"
    },
    "papermill": {
     "duration": 0.066585,
     "end_time": "2022-03-20T15:10:58.997286",
     "exception": false,
     "start_time": "2022-03-20T15:10:58.930701",
     "status": "completed"
    },
    "tags": []
   },
   "outputs": [],
   "source": [
    "###################################\n",
    "# Build the network(s)\n",
    "# Note: It's critical to do this AFTER setting the RNG\n",
    "###################################\n",
    "x_net = build_sequential(p.x_net)"
   ]
  },
  {
   "cell_type": "code",
   "execution_count": 9,
   "id": "5d7e61cc",
   "metadata": {
    "execution": {
     "iopub.execute_input": "2022-03-20T15:10:59.033271Z",
     "iopub.status.busy": "2022-03-20T15:10:59.033023Z",
     "iopub.status.idle": "2022-03-20T15:10:59.049421Z",
     "shell.execute_reply": "2022-03-20T15:10:59.048985Z"
    },
    "papermill": {
     "duration": 0.033621,
     "end_time": "2022-03-20T15:10:59.049524",
     "exception": false,
     "start_time": "2022-03-20T15:10:59.015903",
     "status": "completed"
    },
    "tags": []
   },
   "outputs": [],
   "source": [
    "start_time_secs = time.time()"
   ]
  },
  {
   "cell_type": "code",
   "execution_count": 10,
   "id": "c6b67dfd",
   "metadata": {
    "execution": {
     "iopub.execute_input": "2022-03-20T15:10:59.086404Z",
     "iopub.status.busy": "2022-03-20T15:10:59.086142Z",
     "iopub.status.idle": "2022-03-20T15:10:59.099220Z",
     "shell.execute_reply": "2022-03-20T15:10:59.098780Z"
    },
    "papermill": {
     "duration": 0.030507,
     "end_time": "2022-03-20T15:10:59.099341",
     "exception": false,
     "start_time": "2022-03-20T15:10:59.068834",
     "status": "completed"
    },
    "tags": []
   },
   "outputs": [],
   "source": [
    "p.domains_source = []\n",
    "p.domains_target = []\n",
    "\n",
    "\n",
    "train_original_source = []\n",
    "val_original_source   = []\n",
    "test_original_source  = []\n",
    "\n",
    "train_original_target = []\n",
    "val_original_target   = []\n",
    "test_original_target  = []"
   ]
  },
  {
   "cell_type": "code",
   "execution_count": 11,
   "id": "e3d9c3d3",
   "metadata": {
    "execution": {
     "iopub.execute_input": "2022-03-20T15:10:59.134132Z",
     "iopub.status.busy": "2022-03-20T15:10:59.133635Z",
     "iopub.status.idle": "2022-03-20T15:10:59.145188Z",
     "shell.execute_reply": "2022-03-20T15:10:59.145494Z"
    },
    "papermill": {
     "duration": 0.027717,
     "end_time": "2022-03-20T15:10:59.145600",
     "exception": false,
     "start_time": "2022-03-20T15:10:59.117883",
     "status": "completed"
    },
    "tags": []
   },
   "outputs": [],
   "source": [
    "# global_x_transform_func = lambda x: normalize(x.to(torch.get_default_dtype()), \"unit_power\") # unit_power, unit_mag\n",
    "# global_x_transform_func = lambda x: normalize(x, \"unit_power\") # unit_power, unit_mag"
   ]
  },
  {
   "cell_type": "code",
   "execution_count": 12,
   "id": "acb78fd2",
   "metadata": {
    "execution": {
     "iopub.execute_input": "2022-03-20T15:10:59.182179Z",
     "iopub.status.busy": "2022-03-20T15:10:59.181909Z",
     "iopub.status.idle": "2022-03-20T15:10:59.196435Z",
     "shell.execute_reply": "2022-03-20T15:10:59.196829Z"
    },
    "papermill": {
     "duration": 0.032578,
     "end_time": "2022-03-20T15:10:59.196960",
     "exception": false,
     "start_time": "2022-03-20T15:10:59.164382",
     "status": "completed"
    },
    "tags": []
   },
   "outputs": [],
   "source": [
    "def add_dataset(\n",
    "    labels,\n",
    "    domains,\n",
    "    pickle_path,\n",
    "    x_transforms,\n",
    "    episode_transforms,\n",
    "    domain_prefix,\n",
    "    num_examples_per_domain_per_label,\n",
    "    source_or_target_dataset:str,\n",
    "    iterator_seed=p.seed,\n",
    "    dataset_seed=p.dataset_seed,\n",
    "    n_shot=p.n_shot,\n",
    "    n_way=p.n_way,\n",
    "    n_query=p.n_query,\n",
    "    train_val_test_k_factors=(p.train_k_factor,p.val_k_factor,p.test_k_factor),\n",
    "):\n",
    "   \n",
    "    if x_transforms == []: x_transform = None\n",
    "    else: x_transform = get_chained_transform(x_transforms)\n",
    "    \n",
    "    if episode_transforms == []: episode_transform = None\n",
    "    else: raise Exception(\"episode_transforms not implemented\")\n",
    "    \n",
    "    episode_transform = lambda tup, _prefix=domain_prefix: (_prefix + str(tup[0]), tup[1])\n",
    "\n",
    "\n",
    "    eaf = Episodic_Accessor_Factory(\n",
    "        labels=labels,\n",
    "        domains=domains,\n",
    "        num_examples_per_domain_per_label=num_examples_per_domain_per_label,\n",
    "        iterator_seed=iterator_seed,\n",
    "        dataset_seed=dataset_seed,\n",
    "        n_shot=n_shot,\n",
    "        n_way=n_way,\n",
    "        n_query=n_query,\n",
    "        train_val_test_k_factors=train_val_test_k_factors,\n",
    "        pickle_path=pickle_path,\n",
    "        x_transform_func=x_transform,\n",
    "    )\n",
    "\n",
    "    train, val, test = eaf.get_train(), eaf.get_val(), eaf.get_test()\n",
    "    train = Lazy_Iterable_Wrapper(train, episode_transform)\n",
    "    val = Lazy_Iterable_Wrapper(val, episode_transform)\n",
    "    test = Lazy_Iterable_Wrapper(test, episode_transform)\n",
    "\n",
    "    if source_or_target_dataset==\"source\":\n",
    "        train_original_source.append(train)\n",
    "        val_original_source.append(val)\n",
    "        test_original_source.append(test)\n",
    "\n",
    "        p.domains_source.extend(\n",
    "            [domain_prefix + str(u) for u in domains]\n",
    "        )\n",
    "    elif source_or_target_dataset==\"target\":\n",
    "        train_original_target.append(train)\n",
    "        val_original_target.append(val)\n",
    "        test_original_target.append(test)\n",
    "        p.domains_target.extend(\n",
    "            [domain_prefix + str(u) for u in domains]\n",
    "        )\n",
    "    else:\n",
    "        raise Exception(f\"invalid source_or_target_dataset: {source_or_target_dataset}\")\n",
    "    "
   ]
  },
  {
   "cell_type": "code",
   "execution_count": 13,
   "id": "fe266617",
   "metadata": {
    "execution": {
     "iopub.execute_input": "2022-03-20T15:10:59.233897Z",
     "iopub.status.busy": "2022-03-20T15:10:59.233640Z",
     "iopub.status.idle": "2022-03-20T15:11:02.687581Z",
     "shell.execute_reply": "2022-03-20T15:11:02.687219Z"
    },
    "papermill": {
     "duration": 3.470942,
     "end_time": "2022-03-20T15:11:02.687669",
     "exception": false,
     "start_time": "2022-03-20T15:10:59.216727",
     "status": "completed"
    },
    "tags": []
   },
   "outputs": [],
   "source": [
    "for ds in p.datasets:\n",
    "    add_dataset(**ds)"
   ]
  },
  {
   "cell_type": "code",
   "execution_count": 14,
   "id": "b90d65ac",
   "metadata": {
    "execution": {
     "iopub.execute_input": "2022-03-20T15:11:02.728694Z",
     "iopub.status.busy": "2022-03-20T15:11:02.728434Z",
     "iopub.status.idle": "2022-03-20T15:11:02.743046Z",
     "shell.execute_reply": "2022-03-20T15:11:02.742786Z"
    },
    "papermill": {
     "duration": 0.034481,
     "end_time": "2022-03-20T15:11:02.743103",
     "exception": false,
     "start_time": "2022-03-20T15:11:02.708622",
     "status": "completed"
    },
    "tags": []
   },
   "outputs": [],
   "source": [
    "# from steves_utils.CORES.utils import (\n",
    "#     ALL_NODES,\n",
    "#     ALL_NODES_MINIMUM_1000_EXAMPLES,\n",
    "#     ALL_DAYS\n",
    "# )\n",
    "\n",
    "# add_dataset(\n",
    "#     labels=ALL_NODES,\n",
    "#     domains = ALL_DAYS,\n",
    "#     num_examples_per_domain_per_label=100,\n",
    "#     pickle_path=os.path.join(get_datasets_base_path(), \"cores.stratified_ds.2022A.pkl\"),\n",
    "#     source_or_target_dataset=\"target\",\n",
    "#     x_transform_func=global_x_transform_func,\n",
    "#     domain_modifier=lambda u: f\"cores_{u}\"\n",
    "# )"
   ]
  },
  {
   "cell_type": "code",
   "execution_count": 15,
   "id": "76db484d",
   "metadata": {
    "execution": {
     "iopub.execute_input": "2022-03-20T15:11:02.772064Z",
     "iopub.status.busy": "2022-03-20T15:11:02.771806Z",
     "iopub.status.idle": "2022-03-20T15:11:02.782569Z",
     "shell.execute_reply": "2022-03-20T15:11:02.782973Z"
    },
    "papermill": {
     "duration": 0.026093,
     "end_time": "2022-03-20T15:11:02.783094",
     "exception": false,
     "start_time": "2022-03-20T15:11:02.757001",
     "status": "completed"
    },
    "tags": []
   },
   "outputs": [],
   "source": [
    "# from steves_utils.ORACLE.utils_v2 import (\n",
    "#     ALL_DISTANCES_FEET,\n",
    "#     ALL_RUNS,\n",
    "#     ALL_SERIAL_NUMBERS,\n",
    "# )\n",
    "\n",
    "\n",
    "# add_dataset(\n",
    "#     labels=ALL_SERIAL_NUMBERS,\n",
    "#     domains = list(set(ALL_DISTANCES_FEET) - {2,62}),\n",
    "#     num_examples_per_domain_per_label=100,\n",
    "#     pickle_path=os.path.join(get_datasets_base_path(), \"oracle.Run2_framed_2000Examples_stratified_ds.2022A.pkl\"),\n",
    "#     source_or_target_dataset=\"source\",\n",
    "#     x_transform_func=global_x_transform_func,\n",
    "#     domain_modifier=lambda u: f\"oracle1_{u}\"\n",
    "# )\n"
   ]
  },
  {
   "cell_type": "code",
   "execution_count": 16,
   "id": "97dea9d2",
   "metadata": {
    "execution": {
     "iopub.execute_input": "2022-03-20T15:11:02.817428Z",
     "iopub.status.busy": "2022-03-20T15:11:02.817160Z",
     "iopub.status.idle": "2022-03-20T15:11:02.828086Z",
     "shell.execute_reply": "2022-03-20T15:11:02.827823Z"
    },
    "papermill": {
     "duration": 0.026862,
     "end_time": "2022-03-20T15:11:02.828144",
     "exception": false,
     "start_time": "2022-03-20T15:11:02.801282",
     "status": "completed"
    },
    "tags": []
   },
   "outputs": [],
   "source": [
    "# from steves_utils.ORACLE.utils_v2 import (\n",
    "#     ALL_DISTANCES_FEET,\n",
    "#     ALL_RUNS,\n",
    "#     ALL_SERIAL_NUMBERS,\n",
    "# )\n",
    "\n",
    "\n",
    "# add_dataset(\n",
    "#     labels=ALL_SERIAL_NUMBERS,\n",
    "#     domains = list(set(ALL_DISTANCES_FEET) - {2,62,56}),\n",
    "#     num_examples_per_domain_per_label=100,\n",
    "#     pickle_path=os.path.join(get_datasets_base_path(), \"oracle.Run2_framed_2000Examples_stratified_ds.2022A.pkl\"),\n",
    "#     source_or_target_dataset=\"source\",\n",
    "#     x_transform_func=global_x_transform_func,\n",
    "#     domain_modifier=lambda u: f\"oracle2_{u}\"\n",
    "# )"
   ]
  },
  {
   "cell_type": "code",
   "execution_count": 17,
   "id": "6f289866",
   "metadata": {
    "execution": {
     "iopub.execute_input": "2022-03-20T15:11:02.857735Z",
     "iopub.status.busy": "2022-03-20T15:11:02.857476Z",
     "iopub.status.idle": "2022-03-20T15:11:02.871751Z",
     "shell.execute_reply": "2022-03-20T15:11:02.871524Z"
    },
    "papermill": {
     "duration": 0.029547,
     "end_time": "2022-03-20T15:11:02.871807",
     "exception": false,
     "start_time": "2022-03-20T15:11:02.842260",
     "status": "completed"
    },
    "tags": []
   },
   "outputs": [],
   "source": [
    "# add_dataset(\n",
    "#     labels=list(range(19)),\n",
    "#     domains = [0,1,2],\n",
    "#     num_examples_per_domain_per_label=100,\n",
    "#     pickle_path=os.path.join(get_datasets_base_path(), \"metehan.stratified_ds.2022A.pkl\"),\n",
    "#     source_or_target_dataset=\"target\",\n",
    "#     x_transform_func=global_x_transform_func,\n",
    "#     domain_modifier=lambda u: f\"met_{u}\"\n",
    "# )"
   ]
  },
  {
   "cell_type": "code",
   "execution_count": 18,
   "id": "86a863c3",
   "metadata": {
    "execution": {
     "iopub.execute_input": "2022-03-20T15:11:02.901912Z",
     "iopub.status.busy": "2022-03-20T15:11:02.901646Z",
     "iopub.status.idle": "2022-03-20T15:11:02.917766Z",
     "shell.execute_reply": "2022-03-20T15:11:02.917318Z"
    },
    "papermill": {
     "duration": 0.032067,
     "end_time": "2022-03-20T15:11:02.917870",
     "exception": false,
     "start_time": "2022-03-20T15:11:02.885803",
     "status": "completed"
    },
    "tags": []
   },
   "outputs": [],
   "source": [
    "# # from steves_utils.wisig.utils import (\n",
    "# #     ALL_NODES_MINIMUM_100_EXAMPLES,\n",
    "# #     ALL_NODES_MINIMUM_500_EXAMPLES,\n",
    "# #     ALL_NODES_MINIMUM_1000_EXAMPLES,\n",
    "# #     ALL_DAYS\n",
    "# # )\n",
    "\n",
    "# import steves_utils.wisig.utils as wisig\n",
    "\n",
    "\n",
    "# add_dataset(\n",
    "#     labels=wisig.ALL_NODES_MINIMUM_100_EXAMPLES,\n",
    "#     domains = wisig.ALL_DAYS,\n",
    "#     num_examples_per_domain_per_label=100,\n",
    "#     pickle_path=os.path.join(get_datasets_base_path(), \"wisig.node3-19.stratified_ds.2022A.pkl\"),\n",
    "#     source_or_target_dataset=\"target\",\n",
    "#     x_transform_func=global_x_transform_func,\n",
    "#     domain_modifier=lambda u: f\"wisig_{u}\"\n",
    "# )"
   ]
  },
  {
   "cell_type": "code",
   "execution_count": 19,
   "id": "fd5442bc",
   "metadata": {
    "execution": {
     "iopub.execute_input": "2022-03-20T15:11:02.955767Z",
     "iopub.status.busy": "2022-03-20T15:11:02.952034Z",
     "iopub.status.idle": "2022-03-20T15:11:02.969636Z",
     "shell.execute_reply": "2022-03-20T15:11:02.969204Z"
    },
    "papermill": {
     "duration": 0.032885,
     "end_time": "2022-03-20T15:11:02.969737",
     "exception": false,
     "start_time": "2022-03-20T15:11:02.936852",
     "status": "completed"
    },
    "tags": []
   },
   "outputs": [],
   "source": [
    "###################################\n",
    "# Build the dataset\n",
    "###################################\n",
    "train_original_source = Iterable_Aggregator(train_original_source, p.seed)\n",
    "val_original_source = Iterable_Aggregator(val_original_source, p.seed)\n",
    "test_original_source = Iterable_Aggregator(test_original_source, p.seed)\n",
    "\n",
    "\n",
    "train_original_target = Iterable_Aggregator(train_original_target, p.seed)\n",
    "val_original_target = Iterable_Aggregator(val_original_target, p.seed)\n",
    "test_original_target = Iterable_Aggregator(test_original_target, p.seed)\n",
    "\n",
    "# For CNN We only use X and Y. And we only train on the source.\n",
    "# Properly form the data using a transform lambda and Lazy_Iterable_Wrapper. Finally wrap them in a dataloader\n",
    "\n",
    "transform_lambda = lambda ex: ex[1] # Original is (<domain>, <episode>) so we strip down to episode only\n",
    "\n",
    "train_processed_source = Lazy_Iterable_Wrapper(train_original_source, transform_lambda)\n",
    "val_processed_source   = Lazy_Iterable_Wrapper(val_original_source, transform_lambda)\n",
    "test_processed_source  = Lazy_Iterable_Wrapper(test_original_source, transform_lambda)\n",
    "\n",
    "train_processed_target = Lazy_Iterable_Wrapper(train_original_target, transform_lambda)\n",
    "val_processed_target   = Lazy_Iterable_Wrapper(val_original_target, transform_lambda)\n",
    "test_processed_target  = Lazy_Iterable_Wrapper(test_original_target, transform_lambda)\n",
    "\n",
    "datasets = EasyDict({\n",
    "    \"source\": {\n",
    "        \"original\": {\"train\":train_original_source, \"val\":val_original_source, \"test\":test_original_source},\n",
    "        \"processed\": {\"train\":train_processed_source, \"val\":val_processed_source, \"test\":test_processed_source}\n",
    "    },\n",
    "    \"target\": {\n",
    "        \"original\": {\"train\":train_original_target, \"val\":val_original_target, \"test\":test_original_target},\n",
    "        \"processed\": {\"train\":train_processed_target, \"val\":val_processed_target, \"test\":test_processed_target}\n",
    "    },\n",
    "})"
   ]
  },
  {
   "cell_type": "code",
   "execution_count": 20,
   "id": "5b3c01fc",
   "metadata": {
    "execution": {
     "iopub.execute_input": "2022-03-20T15:11:03.005555Z",
     "iopub.status.busy": "2022-03-20T15:11:03.003998Z",
     "iopub.status.idle": "2022-03-20T15:11:12.636825Z",
     "shell.execute_reply": "2022-03-20T15:11:12.637300Z"
    },
    "papermill": {
     "duration": 9.648756,
     "end_time": "2022-03-20T15:11:12.637412",
     "exception": false,
     "start_time": "2022-03-20T15:11:02.988656",
     "status": "completed"
    },
    "tags": []
   },
   "outputs": [
    {
     "name": "stdout",
     "output_type": "stream",
     "text": [
      "{'W_4', 'C_5', 'C_3', 'C_2', 'C_4', 'W_3', 'C_1', 'W_1', 'W_2'}\n"
     ]
    },
    {
     "name": "stdout",
     "output_type": "stream",
     "text": [
      "{'O_8', 'O_38', 'O_14', 'O_26', 'O_20', 'O_32', 'O_44', 'O_50'}\n"
     ]
    },
    {
     "name": "stdout",
     "output_type": "stream",
     "text": [
      "tensor([[[ 5.8382e-02, -9.0030e-03,  3.2350e-03,  ...,  6.6836e-03,\n",
      "           7.7822e-03,  1.7212e-02],\n",
      "         [ 2.6276e-02,  3.8881e-02,  1.3459e-02,  ...,  6.6836e-03,\n",
      "           1.2116e-02, -2.4415e-03]],\n",
      "\n",
      "        [[-1.5046e-02,  2.0234e-02,  5.7070e-03,  ..., -6.7446e-03,\n",
      "           1.6785e-03, -9.0945e-03],\n",
      "         [-5.5727e-02, -1.2146e-02,  9.7659e-04,  ..., -1.0865e-02,\n",
      "          -3.4181e-03, -5.8596e-03]],\n",
      "\n",
      "        [[ 2.6795e-02, -2.2279e-03,  5.9206e-03,  ...,  1.0773e-02,\n",
      "           4.4557e-03,  2.4567e-02],\n",
      "         [ 3.6897e-02,  8.8504e-03, -4.7304e-03,  ...,  9.7659e-04,\n",
      "          -3.1739e-03, -3.2350e-02]],\n",
      "\n",
      "        ...,\n",
      "\n",
      "        [[-1.3581e-02,  1.5717e-02,  2.4964e-02,  ..., -1.2055e-02,\n",
      "          -2.8993e-02,  9.2166e-03],\n",
      "         [-1.6755e-02, -2.4232e-02,  1.0743e-02,  ...,  1.9471e-02,\n",
      "           3.0519e-05, -2.0112e-02]],\n",
      "\n",
      "        [[ 3.6195e-02, -3.0824e-03, -2.5544e-02,  ..., -1.7701e-03,\n",
      "           2.8504e-02,  2.4140e-02],\n",
      "         [ 1.7335e-02,  3.6561e-02,  4.3031e-03,  ..., -3.4791e-02,\n",
      "          -2.8626e-02, -3.6622e-04]],\n",
      "\n",
      "        [[ 7.0498e-03, -1.3581e-02, -1.8799e-02,  ..., -8.8198e-03,\n",
      "           5.0661e-03, -1.0254e-02],\n",
      "         [ 4.3641e-03,  2.1302e-02, -1.4374e-02,  ...,  4.4557e-03,\n",
      "           1.4100e-02,  1.9593e-02]]])\n"
     ]
    }
   ],
   "source": [
    "from steves_utils.transforms import get_average_magnitude, get_average_power\n",
    "\n",
    "print(set([u for u,_ in val_original_source]))\n",
    "print(set([u for u,_ in val_original_target]))\n",
    "\n",
    "s_x, s_y, q_x, q_y, _ = next(iter(train_processed_source))\n",
    "print(s_x)\n",
    "\n",
    "# for ds in [\n",
    "#     train_processed_source,\n",
    "#     val_processed_source,\n",
    "#     test_processed_source,\n",
    "#     train_processed_target,\n",
    "#     val_processed_target,\n",
    "#     test_processed_target\n",
    "# ]:\n",
    "#     for s_x, s_y, q_x, q_y, _ in ds:\n",
    "#         for X in (s_x, q_x):\n",
    "#             for x in X:\n",
    "#                 assert np.isclose(get_average_magnitude(x.numpy()), 1.0)\n",
    "#                 assert np.isclose(get_average_power(x.numpy()), 1.0)\n",
    "                "
   ]
  },
  {
   "cell_type": "code",
   "execution_count": 21,
   "id": "bbdacba1",
   "metadata": {
    "execution": {
     "iopub.execute_input": "2022-03-20T15:11:12.673574Z",
     "iopub.status.busy": "2022-03-20T15:11:12.673173Z",
     "iopub.status.idle": "2022-03-20T15:11:12.730616Z",
     "shell.execute_reply": "2022-03-20T15:11:12.730832Z"
    },
    "papermill": {
     "duration": 0.074795,
     "end_time": "2022-03-20T15:11:12.730910",
     "exception": false,
     "start_time": "2022-03-20T15:11:12.656115",
     "status": "completed"
    },
    "tags": []
   },
   "outputs": [
    {
     "name": "stdout",
     "output_type": "stream",
     "text": [
      "(2, 256)\n"
     ]
    }
   ],
   "source": [
    "###################################\n",
    "# Build the model\n",
    "###################################\n",
    "# easfsl only wants a tuple for the shape\n",
    "model = Steves_Prototypical_Network(x_net, device=p.device, x_shape=tuple(p.x_shape))\n",
    "optimizer = Adam(params=model.parameters(), lr=p.lr)"
   ]
  },
  {
   "cell_type": "code",
   "execution_count": 22,
   "id": "22b39ac5",
   "metadata": {
    "execution": {
     "iopub.execute_input": "2022-03-20T15:11:12.763306Z",
     "iopub.status.busy": "2022-03-20T15:11:12.762891Z",
     "iopub.status.idle": "2022-03-20T16:23:24.821278Z",
     "shell.execute_reply": "2022-03-20T16:23:24.821030Z"
    },
    "papermill": {
     "duration": 4332.075402,
     "end_time": "2022-03-20T16:23:24.821342",
     "exception": false,
     "start_time": "2022-03-20T15:11:12.745940",
     "status": "completed"
    },
    "tags": []
   },
   "outputs": [
    {
     "name": "stdout",
     "output_type": "stream",
     "text": [
      "epoch: 1, [batch: 1 / 13148], examples_per_second: 24.2870, train_label_loss: 2.0249, \n"
     ]
    },
    {
     "name": "stdout",
     "output_type": "stream",
     "text": [
      "epoch: 1, [batch: 1315 / 13148], examples_per_second: 1729.6231, train_label_loss: 0.2543, \n"
     ]
    },
    {
     "name": "stdout",
     "output_type": "stream",
     "text": [
      "epoch: 1, [batch: 2630 / 13148], examples_per_second: 1731.1624, train_label_loss: 0.0286, \n"
     ]
    },
    {
     "name": "stdout",
     "output_type": "stream",
     "text": [
      "epoch: 1, [batch: 3945 / 13148], examples_per_second: 1730.3568, train_label_loss: 0.0047, \n"
     ]
    },
    {
     "name": "stdout",
     "output_type": "stream",
     "text": [
      "epoch: 1, [batch: 5259 / 13148], examples_per_second: 1726.6027, train_label_loss: 0.0256, \n"
     ]
    },
    {
     "name": "stdout",
     "output_type": "stream",
     "text": [
      "epoch: 1, [batch: 6574 / 13148], examples_per_second: 1729.7596, train_label_loss: 0.4798, \n"
     ]
    },
    {
     "name": "stdout",
     "output_type": "stream",
     "text": [
      "epoch: 1, [batch: 7889 / 13148], examples_per_second: 1862.3066, train_label_loss: 0.0088, \n"
     ]
    },
    {
     "name": "stdout",
     "output_type": "stream",
     "text": [
      "epoch: 1, [batch: 9203 / 13148], examples_per_second: 2033.3733, train_label_loss: 0.0111, \n"
     ]
    },
    {
     "name": "stdout",
     "output_type": "stream",
     "text": [
      "epoch: 1, [batch: 10518 / 13148], examples_per_second: 1729.0633, train_label_loss: 0.0339, \n"
     ]
    },
    {
     "name": "stdout",
     "output_type": "stream",
     "text": [
      "epoch: 1, [batch: 11833 / 13148], examples_per_second: 1727.3517, train_label_loss: 0.0344, \n"
     ]
    },
    {
     "name": "stdout",
     "output_type": "stream",
     "text": [
      "=============================================================\n",
      "epoch: 1, source_val_acc_label: 0.9779, target_val_acc_label: 0.4213, source_val_label_loss: 0.1192, target_val_label_loss: 2.4376, \n",
      "=============================================================\n"
     ]
    },
    {
     "name": "stdout",
     "output_type": "stream",
     "text": [
      "New best\n"
     ]
    },
    {
     "name": "stdout",
     "output_type": "stream",
     "text": [
      "epoch: 2, [batch: 1 / 13145], examples_per_second: 1.4741, train_label_loss: 0.0212, \n"
     ]
    },
    {
     "name": "stdout",
     "output_type": "stream",
     "text": [
      "epoch: 2, [batch: 1315 / 13145], examples_per_second: 1741.7897, train_label_loss: 0.0087, \n"
     ]
    },
    {
     "name": "stdout",
     "output_type": "stream",
     "text": [
      "epoch: 2, [batch: 2629 / 13145], examples_per_second: 1746.1257, train_label_loss: 0.0033, \n"
     ]
    },
    {
     "name": "stdout",
     "output_type": "stream",
     "text": [
      "epoch: 2, [batch: 3944 / 13145], examples_per_second: 1744.5194, train_label_loss: 0.0217, \n"
     ]
    },
    {
     "name": "stdout",
     "output_type": "stream",
     "text": [
      "epoch: 2, [batch: 5258 / 13145], examples_per_second: 1739.0959, train_label_loss: 0.0502, \n"
     ]
    },
    {
     "name": "stdout",
     "output_type": "stream",
     "text": [
      "epoch: 2, [batch: 6573 / 13145], examples_per_second: 1744.3291, train_label_loss: 0.0057, \n"
     ]
    },
    {
     "name": "stdout",
     "output_type": "stream",
     "text": [
      "epoch: 2, [batch: 7887 / 13145], examples_per_second: 1919.5934, train_label_loss: 0.2857, \n"
     ]
    },
    {
     "name": "stdout",
     "output_type": "stream",
     "text": [
      "epoch: 2, [batch: 9201 / 13145], examples_per_second: 2002.6563, train_label_loss: 0.0006, \n"
     ]
    },
    {
     "name": "stdout",
     "output_type": "stream",
     "text": [
      "epoch: 2, [batch: 10516 / 13145], examples_per_second: 1743.0269, train_label_loss: 0.0055, \n"
     ]
    },
    {
     "name": "stdout",
     "output_type": "stream",
     "text": [
      "epoch: 2, [batch: 11830 / 13145], examples_per_second: 1742.9323, train_label_loss: 0.0133, \n"
     ]
    },
    {
     "name": "stdout",
     "output_type": "stream",
     "text": [
      "=============================================================\n",
      "epoch: 2, source_val_acc_label: 0.9840, target_val_acc_label: 0.3940, source_val_label_loss: 0.0736, target_val_label_loss: 2.4067, \n",
      "=============================================================\n"
     ]
    },
    {
     "name": "stdout",
     "output_type": "stream",
     "text": [
      "epoch: 3, [batch: 1 / 13153], examples_per_second: 1.4830, train_label_loss: 0.0022, \n"
     ]
    },
    {
     "name": "stdout",
     "output_type": "stream",
     "text": [
      "epoch: 3, [batch: 1316 / 13153], examples_per_second: 1741.7092, train_label_loss: 0.1389, \n"
     ]
    },
    {
     "name": "stdout",
     "output_type": "stream",
     "text": [
      "epoch: 3, [batch: 2631 / 13153], examples_per_second: 1744.0098, train_label_loss: 0.0013, \n"
     ]
    },
    {
     "name": "stdout",
     "output_type": "stream",
     "text": [
      "epoch: 3, [batch: 3946 / 13153], examples_per_second: 1744.4582, train_label_loss: 0.0029, \n"
     ]
    },
    {
     "name": "stdout",
     "output_type": "stream",
     "text": [
      "epoch: 3, [batch: 5261 / 13153], examples_per_second: 1738.7516, train_label_loss: 0.0011, \n"
     ]
    },
    {
     "name": "stdout",
     "output_type": "stream",
     "text": [
      "epoch: 3, [batch: 6577 / 13153], examples_per_second: 1743.9089, train_label_loss: 0.0001, \n"
     ]
    },
    {
     "name": "stdout",
     "output_type": "stream",
     "text": [
      "epoch: 3, [batch: 7892 / 13153], examples_per_second: 1946.2620, train_label_loss: 0.0048, \n"
     ]
    },
    {
     "name": "stdout",
     "output_type": "stream",
     "text": [
      "epoch: 3, [batch: 9207 / 13153], examples_per_second: 1975.9250, train_label_loss: 0.0001, \n"
     ]
    },
    {
     "name": "stdout",
     "output_type": "stream",
     "text": [
      "epoch: 3, [batch: 10522 / 13153], examples_per_second: 1741.7958, train_label_loss: 0.0020, \n"
     ]
    },
    {
     "name": "stdout",
     "output_type": "stream",
     "text": [
      "epoch: 3, [batch: 11837 / 13153], examples_per_second: 1743.7850, train_label_loss: 0.2540, \n"
     ]
    },
    {
     "name": "stdout",
     "output_type": "stream",
     "text": [
      "=============================================================\n",
      "epoch: 3, source_val_acc_label: 0.9861, target_val_acc_label: 0.4794, source_val_label_loss: 0.0594, target_val_label_loss: 2.2775, \n",
      "=============================================================\n"
     ]
    },
    {
     "name": "stdout",
     "output_type": "stream",
     "text": [
      "New best\n"
     ]
    },
    {
     "name": "stdout",
     "output_type": "stream",
     "text": [
      "epoch: 4, [batch: 1 / 13157], examples_per_second: 1.4826, train_label_loss: 0.0006, \n"
     ]
    },
    {
     "name": "stdout",
     "output_type": "stream",
     "text": [
      "epoch: 4, [batch: 1316 / 13157], examples_per_second: 1742.6815, train_label_loss: 0.0011, \n"
     ]
    },
    {
     "name": "stdout",
     "output_type": "stream",
     "text": [
      "epoch: 4, [batch: 2632 / 13157], examples_per_second: 1742.5220, train_label_loss: 0.0013, \n"
     ]
    },
    {
     "name": "stdout",
     "output_type": "stream",
     "text": [
      "epoch: 4, [batch: 3947 / 13157], examples_per_second: 1744.8272, train_label_loss: 0.0024, \n"
     ]
    },
    {
     "name": "stdout",
     "output_type": "stream",
     "text": [
      "epoch: 4, [batch: 5263 / 13157], examples_per_second: 1737.5424, train_label_loss: 0.0001, \n"
     ]
    },
    {
     "name": "stdout",
     "output_type": "stream",
     "text": [
      "epoch: 4, [batch: 6579 / 13157], examples_per_second: 1744.0606, train_label_loss: 0.0553, \n"
     ]
    },
    {
     "name": "stdout",
     "output_type": "stream",
     "text": [
      "epoch: 4, [batch: 7894 / 13157], examples_per_second: 1986.8249, train_label_loss: 0.0875, \n"
     ]
    },
    {
     "name": "stdout",
     "output_type": "stream",
     "text": [
      "epoch: 4, [batch: 9210 / 13157], examples_per_second: 1945.5303, train_label_loss: 0.0998, \n"
     ]
    },
    {
     "name": "stdout",
     "output_type": "stream",
     "text": [
      "epoch: 4, [batch: 10525 / 13157], examples_per_second: 1744.2667, train_label_loss: 0.0016, \n"
     ]
    },
    {
     "name": "stdout",
     "output_type": "stream",
     "text": [
      "epoch: 4, [batch: 11841 / 13157], examples_per_second: 1743.6496, train_label_loss: 0.0021, \n"
     ]
    },
    {
     "name": "stdout",
     "output_type": "stream",
     "text": [
      "=============================================================\n",
      "epoch: 4, source_val_acc_label: 0.9865, target_val_acc_label: 0.4381, source_val_label_loss: 0.0650, target_val_label_loss: 2.2980, \n",
      "=============================================================\n"
     ]
    },
    {
     "name": "stdout",
     "output_type": "stream",
     "text": [
      "epoch: 5, [batch: 1 / 13184], examples_per_second: 1.4818, train_label_loss: 0.0014, \n"
     ]
    },
    {
     "name": "stdout",
     "output_type": "stream",
     "text": [
      "epoch: 5, [batch: 1319 / 13184], examples_per_second: 1741.5365, train_label_loss: 0.1168, \n"
     ]
    },
    {
     "name": "stdout",
     "output_type": "stream",
     "text": [
      "epoch: 5, [batch: 2637 / 13184], examples_per_second: 1742.4799, train_label_loss: 0.0006, \n"
     ]
    },
    {
     "name": "stdout",
     "output_type": "stream",
     "text": [
      "epoch: 5, [batch: 3955 / 13184], examples_per_second: 1744.9484, train_label_loss: 0.0004, \n"
     ]
    },
    {
     "name": "stdout",
     "output_type": "stream",
     "text": [
      "epoch: 5, [batch: 5274 / 13184], examples_per_second: 1739.8377, train_label_loss: 0.0002, \n"
     ]
    },
    {
     "name": "stdout",
     "output_type": "stream",
     "text": [
      "epoch: 5, [batch: 6592 / 13184], examples_per_second: 1743.7635, train_label_loss: 0.2618, \n"
     ]
    },
    {
     "name": "stdout",
     "output_type": "stream",
     "text": [
      "epoch: 5, [batch: 7910 / 13184], examples_per_second: 2013.5467, train_label_loss: 0.0940, \n"
     ]
    },
    {
     "name": "stdout",
     "output_type": "stream",
     "text": [
      "epoch: 5, [batch: 9229 / 13184], examples_per_second: 2112.0480, train_label_loss: 0.0026, \n"
     ]
    },
    {
     "name": "stdout",
     "output_type": "stream",
     "text": [
      "epoch: 5, [batch: 10547 / 13184], examples_per_second: 2062.4220, train_label_loss: 0.0006, \n"
     ]
    },
    {
     "name": "stdout",
     "output_type": "stream",
     "text": [
      "epoch: 5, [batch: 11865 / 13184], examples_per_second: 2000.8176, train_label_loss: 0.0000, \n"
     ]
    },
    {
     "name": "stdout",
     "output_type": "stream",
     "text": [
      "=============================================================\n",
      "epoch: 5, source_val_acc_label: 0.9864, target_val_acc_label: 0.4010, source_val_label_loss: 0.0594, target_val_label_loss: 2.2964, \n",
      "=============================================================\n"
     ]
    },
    {
     "name": "stdout",
     "output_type": "stream",
     "text": [
      "epoch: 6, [batch: 1 / 13166], examples_per_second: 2.5267, train_label_loss: 0.0012, \n"
     ]
    },
    {
     "name": "stdout",
     "output_type": "stream",
     "text": [
      "epoch: 6, [batch: 1317 / 13166], examples_per_second: 3155.1453, train_label_loss: 0.0019, \n"
     ]
    },
    {
     "name": "stdout",
     "output_type": "stream",
     "text": [
      "epoch: 6, [batch: 2634 / 13166], examples_per_second: 3172.8484, train_label_loss: 0.0008, \n"
     ]
    },
    {
     "name": "stdout",
     "output_type": "stream",
     "text": [
      "epoch: 6, [batch: 3950 / 13166], examples_per_second: 3167.5318, train_label_loss: 0.1691, \n"
     ]
    },
    {
     "name": "stdout",
     "output_type": "stream",
     "text": [
      "epoch: 6, [batch: 5267 / 13166], examples_per_second: 1922.3991, train_label_loss: 0.0000, \n"
     ]
    },
    {
     "name": "stdout",
     "output_type": "stream",
     "text": [
      "epoch: 6, [batch: 6583 / 13166], examples_per_second: 1739.5988, train_label_loss: 0.2049, \n"
     ]
    },
    {
     "name": "stdout",
     "output_type": "stream",
     "text": [
      "epoch: 6, [batch: 7900 / 13166], examples_per_second: 1740.9390, train_label_loss: 0.0459, \n"
     ]
    },
    {
     "name": "stdout",
     "output_type": "stream",
     "text": [
      "epoch: 6, [batch: 9216 / 13166], examples_per_second: 1737.7078, train_label_loss: 0.1545, \n"
     ]
    },
    {
     "name": "stdout",
     "output_type": "stream",
     "text": [
      "epoch: 6, [batch: 10533 / 13166], examples_per_second: 1740.7856, train_label_loss: 0.1878, \n"
     ]
    },
    {
     "name": "stdout",
     "output_type": "stream",
     "text": [
      "epoch: 6, [batch: 11849 / 13166], examples_per_second: 1741.0702, train_label_loss: 0.0002, \n"
     ]
    },
    {
     "name": "stdout",
     "output_type": "stream",
     "text": [
      "=============================================================\n",
      "epoch: 6, source_val_acc_label: 0.9867, target_val_acc_label: 0.4392, source_val_label_loss: 0.0575, target_val_label_loss: 2.2347, \n",
      "=============================================================\n"
     ]
    },
    {
     "name": "stdout",
     "output_type": "stream",
     "text": [
      "epoch: 7, [batch: 1 / 13163], examples_per_second: 1.4798, train_label_loss: 0.0083, \n"
     ]
    },
    {
     "name": "stdout",
     "output_type": "stream",
     "text": [
      "epoch: 7, [batch: 1317 / 13163], examples_per_second: 1739.7790, train_label_loss: 0.0007, \n"
     ]
    },
    {
     "name": "stdout",
     "output_type": "stream",
     "text": [
      "epoch: 7, [batch: 2633 / 13163], examples_per_second: 1741.9906, train_label_loss: 0.0001, \n"
     ]
    },
    {
     "name": "stdout",
     "output_type": "stream",
     "text": [
      "epoch: 7, [batch: 3949 / 13163], examples_per_second: 2099.1315, train_label_loss: 0.0001, \n"
     ]
    },
    {
     "name": "stdout",
     "output_type": "stream",
     "text": [
      "epoch: 7, [batch: 5265 / 13163], examples_per_second: 1840.9378, train_label_loss: 0.2838, \n"
     ]
    },
    {
     "name": "stdout",
     "output_type": "stream",
     "text": [
      "epoch: 7, [batch: 6582 / 13163], examples_per_second: 1741.6236, train_label_loss: 0.0001, \n"
     ]
    },
    {
     "name": "stdout",
     "output_type": "stream",
     "text": [
      "epoch: 7, [batch: 7898 / 13163], examples_per_second: 1740.4983, train_label_loss: 0.0003, \n"
     ]
    },
    {
     "name": "stdout",
     "output_type": "stream",
     "text": [
      "epoch: 7, [batch: 9214 / 13163], examples_per_second: 1740.1007, train_label_loss: 0.0097, \n"
     ]
    },
    {
     "name": "stdout",
     "output_type": "stream",
     "text": [
      "epoch: 7, [batch: 10530 / 13163], examples_per_second: 1740.7063, train_label_loss: 0.1391, \n"
     ]
    },
    {
     "name": "stdout",
     "output_type": "stream",
     "text": [
      "epoch: 7, [batch: 11846 / 13163], examples_per_second: 1741.6776, train_label_loss: 0.0015, \n"
     ]
    },
    {
     "name": "stdout",
     "output_type": "stream",
     "text": [
      "=============================================================\n",
      "epoch: 7, source_val_acc_label: 0.9870, target_val_acc_label: 0.3753, source_val_label_loss: 0.0575, target_val_label_loss: 2.2440, \n",
      "=============================================================\n"
     ]
    },
    {
     "name": "stdout",
     "output_type": "stream",
     "text": [
      "Patience (3) exhausted\n"
     ]
    }
   ],
   "source": [
    "###################################\n",
    "# train\n",
    "###################################\n",
    "jig = PTN_Train_Eval_Test_Jig(model, p.BEST_MODEL_PATH, p.device)\n",
    "\n",
    "jig.train(\n",
    "    train_iterable=datasets.source.processed.train,\n",
    "    source_val_iterable=datasets.source.processed.val,\n",
    "    target_val_iterable=datasets.target.processed.val,\n",
    "    num_epochs=p.n_epoch,\n",
    "    num_logs_per_epoch=p.NUM_LOGS_PER_EPOCH,\n",
    "    patience=p.patience,\n",
    "    optimizer=optimizer,\n",
    "    criteria_for_best=p.criteria_for_best,\n",
    ")"
   ]
  },
  {
   "cell_type": "code",
   "execution_count": 23,
   "id": "31e8fabf",
   "metadata": {
    "execution": {
     "iopub.execute_input": "2022-03-20T16:23:24.889256Z",
     "iopub.status.busy": "2022-03-20T16:23:24.888979Z",
     "iopub.status.idle": "2022-03-20T16:23:24.913455Z",
     "shell.execute_reply": "2022-03-20T16:23:24.913034Z"
    },
    "papermill": {
     "duration": 0.058112,
     "end_time": "2022-03-20T16:23:24.913565",
     "exception": false,
     "start_time": "2022-03-20T16:23:24.855453",
     "status": "completed"
    },
    "tags": []
   },
   "outputs": [],
   "source": [
    "total_experiment_time_secs = time.time() - start_time_secs"
   ]
  },
  {
   "cell_type": "code",
   "execution_count": 24,
   "id": "87b9595b",
   "metadata": {
    "execution": {
     "iopub.execute_input": "2022-03-20T16:23:24.985118Z",
     "iopub.status.busy": "2022-03-20T16:23:24.984706Z",
     "iopub.status.idle": "2022-03-20T16:26:59.555799Z",
     "shell.execute_reply": "2022-03-20T16:26:59.556209Z"
    },
    "papermill": {
     "duration": 214.607797,
     "end_time": "2022-03-20T16:26:59.556351",
     "exception": false,
     "start_time": "2022-03-20T16:23:24.948554",
     "status": "completed"
    },
    "tags": []
   },
   "outputs": [],
   "source": [
    "###################################\n",
    "# Evaluate the model\n",
    "###################################\n",
    "source_test_label_accuracy, source_test_label_loss = jig.test(datasets.source.processed.test)\n",
    "target_test_label_accuracy, target_test_label_loss = jig.test(datasets.target.processed.test)\n",
    "\n",
    "source_val_label_accuracy, source_val_label_loss = jig.test(datasets.source.processed.val)\n",
    "target_val_label_accuracy, target_val_label_loss = jig.test(datasets.target.processed.val)\n",
    "\n",
    "history = jig.get_history()\n",
    "\n",
    "total_epochs_trained = len(history[\"epoch_indices\"])\n",
    "\n",
    "val_dl = Iterable_Aggregator((datasets.source.original.val,datasets.target.original.val))\n",
    "\n",
    "confusion = ptn_confusion_by_domain_over_dataloader(model, p.device, val_dl)\n",
    "per_domain_accuracy = per_domain_accuracy_from_confusion(confusion)\n",
    "\n",
    "# Add a key to per_domain_accuracy for if it was a source domain\n",
    "for domain, accuracy in per_domain_accuracy.items():\n",
    "    per_domain_accuracy[domain] = {\n",
    "        \"accuracy\": accuracy,\n",
    "        \"source?\": domain in p.domains_source\n",
    "    }\n",
    "\n",
    "# Do an independent accuracy assesment JUST TO BE SURE!\n",
    "# _source_test_label_accuracy = independent_accuracy_assesment(model, datasets.source.processed.test, p.device)\n",
    "# _target_test_label_accuracy = independent_accuracy_assesment(model, datasets.target.processed.test, p.device)\n",
    "# _source_val_label_accuracy = independent_accuracy_assesment(model, datasets.source.processed.val, p.device)\n",
    "# _target_val_label_accuracy = independent_accuracy_assesment(model, datasets.target.processed.val, p.device)\n",
    "\n",
    "# assert(_source_test_label_accuracy == source_test_label_accuracy)\n",
    "# assert(_target_test_label_accuracy == target_test_label_accuracy)\n",
    "# assert(_source_val_label_accuracy == source_val_label_accuracy)\n",
    "# assert(_target_val_label_accuracy == target_val_label_accuracy)\n",
    "\n",
    "experiment = {\n",
    "    \"experiment_name\": p.experiment_name,\n",
    "    \"parameters\": dict(p),\n",
    "    \"results\": {\n",
    "        \"source_test_label_accuracy\": source_test_label_accuracy,\n",
    "        \"source_test_label_loss\": source_test_label_loss,\n",
    "        \"target_test_label_accuracy\": target_test_label_accuracy,\n",
    "        \"target_test_label_loss\": target_test_label_loss,\n",
    "        \"source_val_label_accuracy\": source_val_label_accuracy,\n",
    "        \"source_val_label_loss\": source_val_label_loss,\n",
    "        \"target_val_label_accuracy\": target_val_label_accuracy,\n",
    "        \"target_val_label_loss\": target_val_label_loss,\n",
    "        \"total_epochs_trained\": total_epochs_trained,\n",
    "        \"total_experiment_time_secs\": total_experiment_time_secs,\n",
    "        \"confusion\": confusion,\n",
    "        \"per_domain_accuracy\": per_domain_accuracy,\n",
    "    },\n",
    "    \"history\": history,\n",
    "    \"dataset_metrics\": get_dataset_metrics(datasets, \"ptn\"),\n",
    "}"
   ]
  },
  {
   "cell_type": "code",
   "execution_count": 25,
   "id": "54a21829",
   "metadata": {
    "execution": {
     "iopub.execute_input": "2022-03-20T16:26:59.619959Z",
     "iopub.status.busy": "2022-03-20T16:26:59.619552Z",
     "iopub.status.idle": "2022-03-20T16:26:59.747440Z",
     "shell.execute_reply": "2022-03-20T16:26:59.747681Z"
    },
    "papermill": {
     "duration": 0.15983,
     "end_time": "2022-03-20T16:26:59.747760",
     "exception": false,
     "start_time": "2022-03-20T16:26:59.587930",
     "status": "completed"
    },
    "tags": []
   },
   "outputs": [
    {
     "data": {
      "image/png": "[encoded data removed]",
      "text/plain": [
       "<Figure size 1080x504 with 1 Axes>"
      ]
     },
     "metadata": {
      "needs_background": "light"
     },
     "output_type": "display_data"
    }
   ],
   "source": [
    "ax = get_loss_curve(experiment)\n",
    "plt.show()"
   ]
  },
  {
   "cell_type": "code",
   "execution_count": 26,
   "id": "fd8a0f60",
   "metadata": {
    "execution": {
     "iopub.execute_input": "2022-03-20T16:26:59.809605Z",
     "iopub.status.busy": "2022-03-20T16:26:59.809200Z",
     "iopub.status.idle": "2022-03-20T16:26:59.968356Z",
     "shell.execute_reply": "2022-03-20T16:26:59.968806Z"
    },
    "papermill": {
     "duration": 0.191474,
     "end_time": "2022-03-20T16:26:59.968947",
     "exception": false,
     "start_time": "2022-03-20T16:26:59.777473",
     "status": "completed"
    },
    "tags": []
   },
   "outputs": [
    {
     "data": {
      "text/plain": [
       "<AxesSubplot:title={'center':'Results'}>"
      ]
     },
     "execution_count": 26,
     "metadata": {},
     "output_type": "execute_result"
    },
    {
     "data": {
      "image/png": "[encoded data removed]",
      "text/plain": [
       "<Figure size 1080x504 with 1 Axes>"
      ]
     },
     "metadata": {
      "needs_background": "light"
     },
     "output_type": "display_data"
    }
   ],
   "source": [
    "get_results_table(experiment)"
   ]
  },
  {
   "cell_type": "code",
   "execution_count": 27,
   "id": "cf8dc689",
   "metadata": {
    "execution": {
     "iopub.execute_input": "2022-03-20T16:27:00.040980Z",
     "iopub.status.busy": "2022-03-20T16:27:00.040709Z",
     "iopub.status.idle": "2022-03-20T16:27:00.196536Z",
     "shell.execute_reply": "2022-03-20T16:27:00.196103Z"
    },
    "papermill": {
     "duration": 0.190625,
     "end_time": "2022-03-20T16:27:00.196648",
     "exception": false,
     "start_time": "2022-03-20T16:27:00.006023",
     "status": "completed"
    },
    "tags": []
   },
   "outputs": [
    {
     "data": {
      "text/plain": [
       "<AxesSubplot:title={'center':'Per Domain Validation Accuracy'}, xlabel='domain'>"
      ]
     },
     "execution_count": 27,
     "metadata": {},
     "output_type": "execute_result"
    },
    {
     "data": {
      "image/png": "[encoded data removed]",
      "text/plain": [
       "<Figure size 1080x504 with 1 Axes>"
      ]
     },
     "metadata": {
      "needs_background": "light"
     },
     "output_type": "display_data"
    }
   ],
   "source": [
    "get_domain_accuracies(experiment)"
   ]
  },
  {
   "cell_type": "code",
   "execution_count": 28,
   "id": "a74ae082",
   "metadata": {
    "execution": {
     "iopub.execute_input": "2022-03-20T16:27:00.270468Z",
     "iopub.status.busy": "2022-03-20T16:27:00.269420Z",
     "iopub.status.idle": "2022-03-20T16:27:00.285407Z",
     "shell.execute_reply": "2022-03-20T16:27:00.285824Z"
    },
    "papermill": {
     "duration": 0.051924,
     "end_time": "2022-03-20T16:27:00.285958",
     "exception": false,
     "start_time": "2022-03-20T16:27:00.234034",
     "status": "completed"
    },
    "tags": []
   },
   "outputs": [
    {
     "name": "stdout",
     "output_type": "stream",
     "text": [
      "Source Test Label Accuracy: 0.9854772482498654 Target Test Label Accuracy: 0.4730143229166667\n",
      "Source Val Label Accuracy: 0.9860634942402633 Target Val Label Accuracy: 0.4793619791666667\n"
     ]
    }
   ],
   "source": [
    "print(\"Source Test Label Accuracy:\", experiment[\"results\"][\"source_test_label_accuracy\"], \"Target Test Label Accuracy:\", experiment[\"results\"][\"target_test_label_accuracy\"])\n",
    "print(\"Source Val Label Accuracy:\", experiment[\"results\"][\"source_val_label_accuracy\"], \"Target Val Label Accuracy:\", experiment[\"results\"][\"target_val_label_accuracy\"])"
   ]
  },
  {
   "cell_type": "code",
   "execution_count": 29,
   "id": "dacca602",
   "metadata": {
    "execution": {
     "iopub.execute_input": "2022-03-20T16:27:00.359461Z",
     "iopub.status.busy": "2022-03-20T16:27:00.359194Z",
     "iopub.status.idle": "2022-03-20T16:27:00.376778Z",
     "shell.execute_reply": "2022-03-20T16:27:00.377188Z"
    },
    "papermill": {
     "duration": 0.052817,
     "end_time": "2022-03-20T16:27:00.377315",
     "exception": false,
     "start_time": "2022-03-20T16:27:00.324498",
     "status": "completed"
    },
    "tags": [
     "experiment_json"
    ]
   },
   "outputs": [
    {
     "data": {
      "text/plain": [
       "'{\"experiment_name\": \"tl_2v2:cores+wisig -> oracle.run1.framed\", \"parameters\": {\"experiment_name\": \"tl_2v2:cores+wisig -> oracle.run1.framed\", \"device\": \"cuda\", \"lr\": 0.0001, \"n_shot\": 3, \"n_query\": 2, \"train_k_factor\": 3, \"val_k_factor\": 2, \"test_k_factor\": 2, \"torch_default_dtype\": \"torch.float32\", \"n_epoch\": 50, \"patience\": 3, \"criteria_for_best\": \"target_accuracy\", \"x_net\": [{\"class\": \"nnReshape\", \"kargs\": {\"shape\": [-1, 1, 2, 256]}}, {\"class\": \"Conv2d\", \"kargs\": {\"in_channels\": 1, \"out_channels\": 256, \"kernel_size\": [1, 7], \"bias\": false, \"padding\": [0, 3]}}, {\"class\": \"ReLU\", \"kargs\": {\"inplace\": true}}, {\"class\": \"BatchNorm2d\", \"kargs\": {\"num_features\": 256}}, {\"class\": \"Conv2d\", \"kargs\": {\"in_channels\": 256, \"out_channels\": 80, \"kernel_size\": [2, 7], \"bias\": true, \"padding\": [0, 3]}}, {\"class\": \"ReLU\", \"kargs\": {\"inplace\": true}}, {\"class\": \"BatchNorm2d\", \"kargs\": {\"num_features\": 80}}, {\"class\": \"Flatten\", \"kargs\": {}}, {\"class\": \"Linear\", \"kargs\": {\"in_features\": 20480, \"out_features\": 256}}, {\"class\": \"ReLU\", \"kargs\": {\"inplace\": true}}, {\"class\": \"BatchNorm1d\", \"kargs\": {\"num_features\": 256}}, {\"class\": \"Linear\", \"kargs\": {\"in_features\": 256, \"out_features\": 256}}], \"NUM_LOGS_PER_EPOCH\": 10, \"BEST_MODEL_PATH\": \"./best_model.pth\", \"n_way\": 16, \"datasets\": [{\"labels\": [\"1-10.\", \"1-11.\", \"1-15.\", \"1-16.\", \"1-17.\", \"1-18.\", \"1-19.\", \"10-4.\", \"10-7.\", \"11-1.\", \"11-14.\", \"11-17.\", \"11-20.\", \"11-7.\", \"13-20.\", \"13-8.\", \"14-10.\", \"14-11.\", \"14-14.\", \"14-7.\", \"15-1.\", \"15-20.\", \"16-1.\", \"16-16.\", \"17-10.\", \"17-11.\", \"17-2.\", \"19-1.\", \"19-16.\", \"19-19.\", \"19-20.\", \"19-3.\", \"2-10.\", \"2-11.\", \"2-17.\", \"2-18.\", \"2-20.\", \"2-3.\", \"2-4.\", \"2-5.\", \"2-6.\", \"2-7.\", \"2-8.\", \"3-13.\", \"3-18.\", \"3-3.\", \"4-1.\", \"4-10.\", \"4-11.\", \"4-19.\", \"5-5.\", \"6-15.\", \"7-10.\", \"7-14.\", \"8-18.\", \"8-20.\", \"8-3.\", \"8-8.\"], \"domains\": [1, 2, 3, 4, 5], \"num_examples_per_domain_per_label\": -1, \"pickle_path\": \"/mnt/wd500GB/CSC500/csc500-main/datasets/cores.stratified_ds.2022A.pkl\", \"source_or_target_dataset\": \"source\", \"x_transforms\": [], \"episode_transforms\": [], \"domain_prefix\": \"C_\"}, {\"labels\": [\"1-10\", \"1-12\", \"1-14\", \"1-16\", \"1-18\", \"1-19\", \"1-8\", \"10-11\", \"10-17\", \"10-4\", \"10-7\", \"11-1\", \"11-10\", \"11-19\", \"11-20\", \"11-4\", \"11-7\", \"12-19\", \"12-20\", \"12-7\", \"13-14\", \"13-18\", \"13-19\", \"13-20\", \"13-3\", \"13-7\", \"14-10\", \"14-11\", \"14-12\", \"14-13\", \"14-14\", \"14-19\", \"14-20\", \"14-7\", \"14-8\", \"14-9\", \"15-1\", \"15-19\", \"15-6\", \"16-1\", \"16-16\", \"16-19\", \"16-20\", \"17-10\", \"17-11\", \"18-1\", \"18-10\", \"18-11\", \"18-12\", \"18-13\", \"18-14\", \"18-15\", \"18-16\", \"18-17\", \"18-19\", \"18-2\", \"18-20\", \"18-4\", \"18-5\", \"18-7\", \"18-8\", \"18-9\", \"19-1\", \"19-10\", \"19-11\", \"19-12\", \"19-13\", \"19-14\", \"19-15\", \"19-19\", \"19-2\", \"19-20\", \"19-3\", \"19-4\", \"19-6\", \"19-7\", \"19-8\", \"19-9\", \"2-1\", \"2-13\", \"2-15\", \"2-3\", \"2-4\", \"2-5\", \"2-6\", \"2-7\", \"2-8\", \"20-1\", \"20-12\", \"20-14\", \"20-15\", \"20-16\", \"20-18\", \"20-19\", \"20-20\", \"20-3\", \"20-4\", \"20-5\", \"20-7\", \"20-8\", \"3-1\", \"3-13\", \"3-18\", \"3-2\", \"3-8\", \"4-1\", \"4-10\", \"4-11\", \"5-1\", \"5-5\", \"6-1\", \"6-15\", \"6-6\", \"7-10\", \"7-11\", \"7-12\", \"7-13\", \"7-14\", \"7-7\", \"7-8\", \"7-9\", \"8-1\", \"8-13\", \"8-14\", \"8-18\", \"8-20\", \"8-3\", \"8-8\", \"9-1\", \"9-7\"], \"domains\": [1, 2, 3, 4], \"num_examples_per_domain_per_label\": -1, \"pickle_path\": \"/mnt/wd500GB/CSC500/csc500-main/datasets/wisig.node3-19.stratified_ds.2022A.pkl\", \"source_or_target_dataset\": \"source\", \"x_transforms\": [], \"episode_transforms\": [], \"domain_prefix\": \"W_\"}, {\"labels\": [\"3123D52\", \"3123D65\", \"3123D79\", \"3123D80\", \"3123D54\", \"3123D70\", \"3123D7B\", \"3123D89\", \"3123D58\", \"3123D76\", \"3123D7D\", \"3123EFE\", \"3123D64\", \"3123D78\", \"3123D7E\", \"3124E4A\"], \"domains\": [32, 38, 8, 44, 14, 50, 20, 26], \"num_examples_per_domain_per_label\": 2000, \"pickle_path\": \"/mnt/wd500GB/CSC500/csc500-main/datasets/oracle.Run1_framed_2000Examples_stratified_ds.2022A.pkl\", \"source_or_target_dataset\": \"target\", \"x_transforms\": [], \"episode_transforms\": [], \"domain_prefix\": \"O_\"}], \"seed\": 500, \"dataset_seed\": 500, \"x_shape\": [2, 256], \"domains_source\": [\"C_1\", \"C_2\", \"C_3\", \"C_4\", \"C_5\", \"W_1\", \"W_2\", \"W_3\", \"W_4\"], \"domains_target\": [\"O_32\", \"O_38\", \"O_8\", \"O_44\", \"O_14\", \"O_50\", \"O_20\", \"O_26\"]}, \"results\": {\"source_test_label_accuracy\": 0.9854772482498654, \"source_test_label_loss\": 0.06322000175714493, \"target_test_label_accuracy\": 0.4730143229166667, \"target_test_label_loss\": 2.2771401405334473, \"source_val_label_accuracy\": 0.9860634942402633, \"source_val_label_loss\": 0.059439655393362045, \"target_val_label_accuracy\": 0.4793619791666667, \"target_val_label_loss\": 2.2775189876556396, \"total_epochs_trained\": 7, \"total_experiment_time_secs\": 4345.863303899765, \"confusion\": {\"W_3\": {\"99\": {\"99\": 34, \"25\": 1, \"106\": 1}, \"8\": {\"8\": 124}, \"65\": {\"57\": 1, \"65\": 11}, \"117\": {\"117\": 110, \"7\": 1, \"88\": 1}, \"18\": {\"18\": 122, \"88\": 1, \"126\": 1}, \"39\": {\"39\": 107, \"16\": 1}, \"102\": {\"102\": 124}, \"76\": {\"99\": 1, \"76\": 15}, \"101\": {\"101\": 50, \"26\": 1, \"30\": 1}, \"57\": {\"57\": 20}, \"86\": {\"86\": 27, \"101\": 1}, \"11\": {\"11\": 132}, \"98\": {\"98\": 128}, \"42\": {\"42\": 28}, \"47\": {\"47\": 12}, \"49\": {\"49\": 24}, \"111\": {\"111\": 130, \"124\": 1, \"125\": 1}, \"36\": {\"36\": 114, \"27\": 2}, \"124\": {\"124\": 104, \"25\": 1, \"111\": 1}, \"122\": {\"122\": 55, \"21\": 1, \"69\": 1, \"88\": 1, \"70\": 1, \"18\": 1}, \"93\": {\"93\": 142}, \"89\": {\"89\": 28}, \"51\": {\"51\": 16}, \"73\": {\"73\": 39, \"21\": 1}, \"45\": {\"45\": 16}, \"5\": {\"5\": 107, \"26\": 1, \"70\": 1, \"88\": 1, \"18\": 1, \"113\": 1}, \"69\": {\"69\": 82, \"94\": 1, \"106\": 1}, \"26\": {\"26\": 130}, \"1\": {\"1\": 107, \"69\": 1}, \"92\": {\"92\": 32}, \"96\": {\"96\": 20}, \"85\": {\"85\": 36}, \"114\": {\"114\": 125, \"128\": 1}, \"50\": {\"50\": 16}, \"81\": {\"81\": 32}, \"2\": {\"2\": 27, \"92\": 1}, \"33\": {\"33\": 145, \"88\": 1}, \"31\": {\"31\": 20}, \"90\": {\"90\": 116, \"101\": 1, \"124\": 1}, \"17\": {\"17\": 10, \"120\": 1, \"63\": 1, \"100\": 1, \"88\": 1, \"11\": 1, \"115\": 1}, \"116\": {\"116\": 28}, \"91\": {\"91\": 22, \"6\": 1, \"32\": 1}, \"120\": {\"120\": 20}, \"128\": {\"128\": 32}, \"78\": {\"78\": 14, \"17\": 1, \"62\": 1}, \"58\": {\"58\": 16}, \"23\": {\"23\": 29, \"60\": 2, \"108\": 1}, \"15\": {\"15\": 102, \"110\": 1, \"88\": 1}, \"74\": {\"74\": 16}, \"34\": {\"34\": 31, \"0\": 1}, \"103\": {\"103\": 16}, \"106\": {\"106\": 100}, \"44\": {\"44\": 72}, \"9\": {\"9\": 31, \"26\": 1}, \"97\": {\"97\": 20}, \"123\": {\"123\": 14, \"113\": 1, \"50\": 1}, \"6\": {\"6\": 30, \"101\": 1, \"118\": 1}, \"68\": {\"68\": 16}, \"24\": {\"24\": 46, \"27\": 2}, \"21\": {\"21\": 42, \"25\": 1, \"70\": 1, \"82\": 1, \"30\": 1, \"18\": 1, \"26\": 1}, \"83\": {\"83\": 22, \"30\": 1, \"94\": 1}, \"60\": {\"60\": 28}, \"87\": {\"87\": 120}, \"30\": {\"30\": 81, \"116\": 1, \"10\": 1, \"124\": 1}, \"43\": {\"43\": 53, \"27\": 1, \"21\": 2}, \"115\": {\"115\": 16}, \"40\": {\"40\": 119, \"84\": 1}, \"112\": {\"112\": 13, \"16\": 1, \"46\": 1, \"92\": 1}, \"66\": {\"66\": 16}, \"110\": {\"110\": 91, \"24\": 1}, \"3\": {\"3\": 113, \"111\": 1}, \"20\": {\"20\": 16}, \"28\": {\"28\": 16}, \"84\": {\"84\": 103, \"69\": 1, \"110\": 1, \"16\": 1, \"62\": 1, \"33\": 1}, \"79\": {\"79\": 12}, \"118\": {\"118\": 97, \"117\": 1, \"94\": 1, \"126\": 1}, \"56\": {\"56\": 10, \"84\": 1, \"21\": 1}, \"48\": {\"48\": 15, \"79\": 1}, \"77\": {\"77\": 16}, \"14\": {\"14\": 80}, \"64\": {\"64\": 20}, \"67\": {\"67\": 15, \"27\": 1}, \"62\": {\"62\": 124}, \"75\": {\"75\": 16}, \"63\": {\"63\": 13, \"19\": 1, \"81\": 1, \"82\": 1}, \"7\": {\"7\": 112}, \"125\": {\"125\": 100, \"124\": 1, \"113\": 1, \"82\": 1, \"101\": 1}, \"37\": {\"37\": 16}, \"121\": {\"121\": 30, \"73\": 1, \"88\": 1}, \"16\": {\"16\": 101, \"88\": 1, \"94\": 1, \"26\": 1}, \"35\": {\"35\": 11, \"1\": 1}, \"32\": {\"32\": 32}, \"46\": {\"46\": 16}, \"70\": {\"70\": 70, \"84\": 1, \"69\": 1}, \"129\": {\"129\": 32}, \"95\": {\"95\": 31, \"84\": 1}, \"72\": {\"72\": 28}, \"19\": {\"19\": 32}, \"52\": {\"52\": 16}, \"100\": {\"100\": 16}, \"104\": {\"104\": 16}, \"59\": {\"59\": 12}, \"109\": {\"109\": 124, \"62\": 1, \"118\": 1}, \"88\": {\"88\": 108}, \"27\": {\"27\": 87, \"21\": 1, \"26\": 2, \"110\": 1, \"36\": 3}, \"113\": {\"113\": 118, \"84\": 1, \"82\": 1}, \"105\": {\"105\": 124}, \"71\": {\"71\": 65, \"12\": 2, \"39\": 1}, \"108\": {\"108\": 124}, \"41\": {\"41\": 16}, \"80\": {\"80\": 15, \"23\": 1}, \"13\": {\"63\": 1, \"13\": 8, \"78\": 2, \"115\": 2, \"70\": 2, \"40\": 1}, \"55\": {\"55\": 16}, \"0\": {\"0\": 103, \"1\": 1, \"16\": 1, \"19\": 1}, \"25\": {\"25\": 16}, \"53\": {\"53\": 20}, \"61\": {\"61\": 16}, \"38\": {\"38\": 16}, \"127\": {\"127\": 124, \"88\": 1, \"39\": 1, \"113\": 1, \"84\": 1}, \"4\": {\"4\": 93, \"69\": 1, \"62\": 1, \"0\": 1}, \"12\": {\"12\": 104}, \"126\": {\"126\": 118, \"88\": 2, \"109\": 1, \"39\": 3}, \"29\": {\"29\": 32}, \"107\": {\"107\": 136}, \"82\": {\"82\": 28}, \"94\": {\"94\": 83, \"18\": 1}, \"54\": {\"54\": 16}, \"10\": {\"10\": 127, \"88\": 1}, \"22\": {\"22\": 16}, \"119\": {\"119\": 16}}, \"W_2\": {\"73\": {\"73\": 27, \"75\": 1}, \"40\": {\"40\": 126, \"52\": 1, \"16\": 1, \"14\": 1, \"3\": 2, \"18\": 1}, \"99\": {\"99\": 31, \"27\": 1}, \"5\": {\"5\": 107, \"0\": 2, \"62\": 1, \"26\": 1, \"88\": 1}, \"108\": {\"108\": 132}, \"128\": {\"128\": 23, \"17\": 1}, \"89\": {\"89\": 35, \"84\": 1}, \"107\": {\"107\": 53, \"58\": 1, \"122\": 1, \"21\": 2, \"8\": 1, \"70\": 1, \"71\": 1, \"15\": 1, \"109\": 1, \"14\": 2}, \"2\": {\"2\": 31, \"3\": 1}, \"78\": {\"78\": 43, \"70\": 4, \"21\": 1}, \"85\": {\"85\": 32}, \"44\": {\"44\": 100}, \"58\": {\"58\": 20}, \"57\": {\"57\": 18, \"10\": 1, \"88\": 1}, \"41\": {\"41\": 19, \"3\": 1}, \"53\": {\"53\": 16}, \"14\": {\"14\": 41, \"55\": 1, \"24\": 2, \"21\": 2, \"2\": 1, \"74\": 1}, \"83\": {\"83\": 38, \"14\": 1, \"15\": 1}, \"119\": {\"119\": 20}, \"95\": {\"95\": 35, \"24\": 1}, \"28\": {\"28\": 19, \"34\": 1}, \"19\": {\"19\": 28}, \"69\": {\"69\": 126, \"18\": 1, \"3\": 2, \"13\": 1, \"7\": 1, \"40\": 1}, \"93\": {\"93\": 132, \"71\": 1, \"70\": 1}, \"9\": {\"9\": 32}, \"118\": {\"118\": 66, \"70\": 1, \"1\": 1}, \"43\": {\"43\": 112, \"87\": 1, \"14\": 1, \"94\": 1, \"0\": 1}, \"47\": {\"47\": 12}, \"125\": {\"125\": 143, \"70\": 1}, \"29\": {\"29\": 32}, \"122\": {\"122\": 135, \"40\": 1, \"70\": 1, \"105\": 1, \"11\": 1, \"109\": 1}, \"46\": {\"46\": 16}, \"86\": {\"86\": 32}, \"70\": {\"70\": 110, \"17\": 1, \"21\": 2, \"78\": 2, \"87\": 1, \"122\": 1, \"18\": 1, \"3\": 1, \"88\": 2, \"109\": 1, \"15\": 1, \"0\": 1}, \"51\": {\"51\": 17, \"59\": 1, \"4\": 1, \"89\": 1}, \"23\": {\"23\": 43, \"110\": 1}, \"121\": {\"121\": 36}, \"63\": {\"21\": 1, \"63\": 17, \"13\": 1, \"49\": 1}, \"102\": {\"102\": 121, \"40\": 1}, \"21\": {\"21\": 48}, \"55\": {\"55\": 15, \"79\": 1}, \"54\": {\"54\": 20}, \"6\": {\"6\": 32}, \"109\": {\"109\": 90, \"78\": 1, \"70\": 2, \"87\": 1, \"88\": 1, \"39\": 5}, \"64\": {\"55\": 1, \"64\": 15}, \"20\": {\"20\": 16}, \"98\": {\"98\": 111, \"121\": 1, \"0\": 1, \"69\": 1}, \"92\": {\"92\": 26, \"13\": 1, \"53\": 1}, \"35\": {\"35\": 12}, \"113\": {\"113\": 64, \"109\": 2, \"26\": 1, \"16\": 1, \"11\": 1, \"21\": 1, \"62\": 1, \"3\": 1}, \"71\": {\"71\": 95, \"84\": 1, \"122\": 1, \"13\": 1, \"109\": 1, \"87\": 1}, \"94\": {\"94\": 55, \"71\": 1, \"42\": 1, \"3\": 1, \"69\": 1, \"26\": 1, \"89\": 1, \"0\": 1, \"74\": 1, \"24\": 1}, \"52\": {\"52\": 19, \"70\": 1}, \"116\": {\"116\": 27, \"52\": 1}, \"87\": {\"87\": 104, \"18\": 1, \"43\": 1, \"0\": 1, \"16\": 1, \"11\": 1, \"24\": 2, \"105\": 1}, \"90\": {\"90\": 147, \"101\": 1}, \"91\": {\"91\": 27, \"103\": 1}, \"84\": {\"84\": 88, \"109\": 1, \"7\": 1, \"11\": 1, \"1\": 1}, \"24\": {\"24\": 103, \"109\": 1, \"16\": 1, \"70\": 1, \"0\": 2, \"3\": 1, \"117\": 1, \"88\": 1, \"26\": 1}, \"33\": {\"33\": 131, \"87\": 1, \"69\": 1, \"18\": 1}, \"81\": {\"81\": 23, \"107\": 1}, \"115\": {\"115\": 11, \"84\": 1}, \"77\": {\"77\": 16}, \"106\": {\"106\": 117, \"21\": 1, \"70\": 1, \"24\": 1}, \"42\": {\"42\": 24, \"70\": 1, \"109\": 1, \"107\": 1, \"26\": 1}, \"38\": {\"38\": 16}, \"36\": {\"36\": 108, \"97\": 1, \"14\": 1, \"30\": 1, \"3\": 1, \"15\": 1, \"43\": 1}, \"79\": {\"79\": 16}, \"60\": {\"60\": 26, \"107\": 1, \"71\": 1}, \"80\": {\"80\": 15, \"29\": 1}, \"32\": {\"32\": 36}, \"0\": {\"0\": 115, \"24\": 1}, \"127\": {\"127\": 123, \"24\": 1}, \"114\": {\"114\": 114, \"90\": 1, \"0\": 1}, \"62\": {\"62\": 138, \"21\": 1, \"26\": 1}, \"129\": {\"129\": 31, \"73\": 1}, \"56\": {\"56\": 12}, \"76\": {\"76\": 16}, \"72\": {\"72\": 26, \"21\": 1, \"115\": 1}, \"88\": {\"88\": 122, \"71\": 1, \"11\": 1}, \"68\": {\"68\": 14, \"21\": 1, \"12\": 1}, \"67\": {\"67\": 12, \"75\": 2, \"80\": 2}, \"100\": {\"100\": 16}, \"34\": {\"34\": 29, \"0\": 1, \"24\": 1, \"66\": 1}, \"16\": {\"16\": 124}, \"126\": {\"126\": 120}, \"4\": {\"4\": 85, \"98\": 1, \"14\": 1, \"24\": 1}, \"101\": {\"101\": 146}, \"104\": {\"104\": 18, \"16\": 1, \"24\": 1}, \"30\": {\"67\": 1, \"30\": 106, \"28\": 1, \"24\": 1, \"40\": 1}, \"8\": {\"8\": 126, \"93\": 1, \"113\": 1}, \"82\": {\"82\": 34, \"16\": 1, \"70\": 1}, \"26\": {\"26\": 127, \"107\": 1, \"87\": 1, \"69\": 2, \"113\": 1, \"24\": 1, \"3\": 1, \"18\": 1, \"1\": 1, \"43\": 1, \"40\": 1}, \"96\": {\"96\": 20}, \"3\": {\"3\": 134, \"15\": 2}, \"25\": {\"25\": 14, \"21\": 1, \"3\": 1}, \"13\": {\"13\": 13, \"93\": 1, \"3\": 1, \"70\": 1}, \"37\": {\"37\": 15, \"16\": 1}, \"49\": {\"49\": 21, \"16\": 1, \"92\": 1, \"61\": 1}, \"111\": {\"111\": 136}, \"105\": {\"105\": 131, \"7\": 1}, \"17\": {\"17\": 13, \"42\": 1, \"87\": 1, \"70\": 1}, \"65\": {\"65\": 18, \"107\": 1, \"94\": 1}, \"123\": {\"123\": 15, \"52\": 1}, \"74\": {\"74\": 14, \"40\": 1, \"17\": 1}, \"97\": {\"97\": 16, \"15\": 1, \"121\": 1, \"13\": 1, \"91\": 1}, \"112\": {\"112\": 13, \"25\": 1, \"85\": 1, \"42\": 1}, \"120\": {\"120\": 19, \"121\": 1}, \"50\": {\"50\": 14, \"29\": 1, \"128\": 1}, \"59\": {\"59\": 15, \"24\": 1}, \"10\": {\"10\": 56, \"14\": 1, \"12\": 1, \"70\": 1, \"49\": 1}, \"45\": {\"45\": 15, \"88\": 1}, \"12\": {\"12\": 85, \"21\": 2, \"117\": 1}, \"75\": {\"51\": 2, \"75\": 13, \"18\": 1}, \"48\": {\"48\": 20}, \"61\": {\"61\": 17, \"10\": 1, \"71\": 1, \"89\": 1}, \"124\": {\"124\": 124}, \"11\": {\"11\": 77, \"69\": 1, \"8\": 1, \"10\": 1}, \"103\": {\"103\": 14, \"49\": 1, \"75\": 1}, \"7\": {\"7\": 128, \"109\": 1, \"110\": 1, \"26\": 1, \"78\": 1}, \"18\": {\"18\": 117, \"55\": 1, \"24\": 1, \"26\": 1}, \"31\": {\"31\": 20}, \"15\": {\"15\": 116, \"40\": 1, \"3\": 1}, \"1\": {\"1\": 119, \"3\": 1, \"36\": 1, \"75\": 1}, \"66\": {\"66\": 19, \"89\": 1}, \"110\": {\"110\": 32, \"70\": 1, \"107\": 1, \"8\": 1, \"122\": 2, \"26\": 1, \"12\": 1, \"87\": 1}, \"27\": {\"27\": 58, \"69\": 1, \"94\": 1, \"36\": 2, \"71\": 1, \"110\": 1, \"3\": 2, \"11\": 2}, \"22\": {\"22\": 18, \"16\": 1, \"75\": 1}, \"117\": {\"117\": 117, \"30\": 1, \"109\": 1, \"15\": 1}, \"39\": {\"39\": 103, \"109\": 4, \"26\": 1}}, \"C_4\": {\"38\": {\"38\": 40}, \"3\": {\"3\": 124}, \"24\": {\"24\": 56}, \"49\": {\"49\": 20}, \"7\": {\"7\": 24}, \"17\": {\"17\": 80}, \"43\": {\"43\": 148}, \"30\": {\"30\": 44}, \"44\": {\"44\": 132}, \"23\": {\"23\": 144}, \"37\": {\"37\": 24}, \"4\": {\"4\": 132}, \"57\": {\"57\": 100}, \"16\": {\"16\": 96}, \"18\": {\"18\": 107, \"53\": 1}, \"20\": {\"20\": 124}, \"45\": {\"45\": 96}, \"15\": {\"15\": 132}, \"52\": {\"52\": 116}, \"19\": {\"19\": 140}, \"54\": {\"54\": 108}, \"56\": {\"56\": 130}, \"40\": {\"40\": 134}, \"28\": {\"28\": 32}, \"2\": {\"2\": 36}, \"9\": {\"9\": 120}, \"0\": {\"0\": 80}, \"36\": {\"36\": 92}, \"55\": {\"55\": 130}, \"35\": {\"35\": 40}, \"39\": {\"39\": 20}, \"31\": {\"31\": 28}, \"14\": {\"14\": 16}, \"12\": {\"12\": 92}, \"6\": {\"6\": 112}, \"26\": {\"26\": 24}, \"50\": {\"50\": 131, \"3\": 1}, \"21\": {\"21\": 122}, \"46\": {\"46\": 140}, \"51\": {\"51\": 140}, \"41\": {\"41\": 36}, \"34\": {\"34\": 24}, \"47\": {\"47\": 120}, \"5\": {\"5\": 108}, \"1\": {\"1\": 40}, \"48\": {\"48\": 134}, \"29\": {\"29\": 117, \"1\": 1}, \"22\": {\"22\": 128}, \"10\": {\"10\": 132}, \"32\": {\"32\": 24}, \"13\": {\"13\": 112}, \"42\": {\"42\": 32}, \"27\": {\"27\": 138}, \"8\": {\"8\": 142}, \"33\": {\"33\": 36}, \"25\": {\"25\": 132}, \"11\": {\"11\": 103, \"16\": 1}, \"53\": {\"53\": 112}}, \"W_1\": {\"60\": {\"60\": 15, \"23\": 1}, \"59\": {\"60\": 1, \"59\": 10, \"28\": 1}, \"107\": {\"107\": 122, \"94\": 1, \"26\": 1}, \"113\": {\"113\": 123, \"17\": 1}, \"6\": {\"6\": 29, \"49\": 1, \"21\": 1, \"94\": 1}, \"24\": {\"24\": 89, \"108\": 1, \"88\": 1, \"3\": 1}, \"50\": {\"50\": 15, \"30\": 1}, \"62\": {\"62\": 119, \"70\": 1}, \"48\": {\"48\": 12}, \"104\": {\"104\": 16}, \"105\": {\"105\": 78, \"40\": 4, \"26\": 1, \"15\": 1}, \"44\": {\"44\": 76}, \"49\": {\"49\": 20}, \"55\": {\"55\": 12}, \"4\": {\"4\": 100}, \"76\": {\"76\": 16}, \"85\": {\"85\": 32}, \"89\": {\"89\": 36}, \"74\": {\"74\": 16}, \"112\": {\"112\": 16}, \"79\": {\"79\": 12}, \"0\": {\"0\": 83, \"30\": 1}, \"91\": {\"91\": 28}, \"118\": {\"118\": 83, \"16\": 1}, \"80\": {\"80\": 16}, \"64\": {\"64\": 16}, \"97\": {\"97\": 18, \"27\": 1, \"88\": 1}, \"84\": {\"84\": 124}, \"38\": {\"38\": 16}, \"30\": {\"30\": 52}, \"32\": {\"32\": 29, \"65\": 1, \"121\": 1, \"3\": 1}, \"72\": {\"72\": 32}, \"33\": {\"33\": 130, \"86\": 1, \"70\": 1}, \"34\": {\"34\": 32}, \"28\": {\"28\": 20}, \"123\": {\"123\": 15, \"17\": 1}, \"2\": {\"2\": 30, \"49\": 1, \"21\": 1}, \"70\": {\"70\": 124}, \"127\": {\"127\": 107, \"78\": 1}, \"110\": {\"110\": 125, \"39\": 1, \"113\": 1, \"15\": 1}, \"126\": {\"126\": 136}, \"13\": {\"13\": 16}, \"15\": {\"15\": 104}, \"29\": {\"29\": 28}, \"18\": {\"18\": 119, \"23\": 1}, \"7\": {\"7\": 142}, \"56\": {\"56\": 12}, \"98\": {\"98\": 108}, \"99\": {\"99\": 24}, \"77\": {\"77\": 15, \"103\": 1}, \"103\": {\"15\": 1, \"103\": 14, \"94\": 1}, \"128\": {\"128\": 24}, \"3\": {\"3\": 84, \"93\": 1, \"127\": 2, \"15\": 1}, \"121\": {\"121\": 32}, \"42\": {\"42\": 28}, \"90\": {\"90\": 120}, \"37\": {\"37\": 16}, \"120\": {\"50\": 1, \"120\": 17, \"21\": 1, \"26\": 1}, \"117\": {\"117\": 118}, \"9\": {\"9\": 32}, \"108\": {\"108\": 123, \"72\": 1}, \"83\": {\"28\": 1, \"83\": 27}, \"14\": {\"14\": 96}, \"63\": {\"63\": 15, \"121\": 1}, \"11\": {\"11\": 117, \"26\": 1}, \"95\": {\"95\": 36}, \"26\": {\"26\": 129, \"88\": 1}, \"22\": {\"22\": 16}, \"102\": {\"102\": 120}, \"69\": {\"69\": 100, \"94\": 1, \"70\": 2, \"39\": 2, \"109\": 1}, \"1\": {\"1\": 130}, \"67\": {\"67\": 16}, \"57\": {\"57\": 12}, \"8\": {\"8\": 131, \"40\": 1, \"17\": 1, \"122\": 1}, \"109\": {\"109\": 122, \"94\": 1, \"70\": 1}, \"129\": {\"129\": 28}, \"111\": {\"111\": 120}, \"71\": {\"71\": 101, \"102\": 1, \"1\": 1, \"124\": 2, \"26\": 1, \"70\": 2}, \"47\": {\"47\": 12}, \"82\": {\"82\": 35, \"28\": 1}, \"27\": {\"27\": 91, \"88\": 1}, \"19\": {\"19\": 28}, \"122\": {\"87\": 1, \"122\": 86, \"21\": 1}, \"53\": {\"53\": 20}, \"87\": {\"87\": 106, \"70\": 1, \"37\": 1}, \"100\": {\"100\": 16}, \"66\": {\"66\": 16}, \"31\": {\"31\": 16}, \"58\": {\"58\": 12}, \"68\": {\"68\": 16}, \"88\": {\"88\": 114}, \"45\": {\"45\": 9, \"2\": 1, \"115\": 1, \"84\": 1}, \"114\": {\"114\": 128}, \"23\": {\"23\": 24}, \"65\": {\"3\": 1, \"65\": 9, \"51\": 1, \"70\": 1}, \"124\": {\"124\": 118}, \"10\": {\"10\": 117, \"5\": 1, \"70\": 1, \"87\": 1}, \"92\": {\"92\": 28}, \"40\": {\"40\": 142, \"26\": 1, \"16\": 1}, \"73\": {\"73\": 18, \"23\": 1, \"30\": 1}, \"94\": {\"94\": 91, \"15\": 1}, \"81\": {\"81\": 28}, \"101\": {\"101\": 110}, \"86\": {\"86\": 33, \"21\": 1, \"105\": 1, \"3\": 1}, \"78\": {\"78\": 16}, \"96\": {\"96\": 19, \"42\": 1}, \"5\": {\"5\": 86, \"70\": 1, \"33\": 1}, \"16\": {\"16\": 104, \"94\": 1, \"3\": 1, \"88\": 2}, \"35\": {\"35\": 12}, \"51\": {\"51\": 16}, \"46\": {\"46\": 11, \"103\": 1}, \"20\": {\"20\": 16}, \"116\": {\"116\": 29, \"66\": 2, \"81\": 1}, \"75\": {\"75\": 16}, \"43\": {\"43\": 125, \"26\": 1, \"122\": 1, \"87\": 1}, \"17\": {\"17\": 15, \"4\": 1}, \"12\": {\"12\": 103, \"107\": 1}, \"25\": {\"25\": 16}, \"54\": {\"54\": 14, \"89\": 1, \"81\": 1}, \"36\": {\"36\": 109, \"3\": 2, \"113\": 1}, \"52\": {\"52\": 20}, \"61\": {\"61\": 12}, \"106\": {\"106\": 120}, \"39\": {\"39\": 101, \"70\": 1, \"122\": 1, \"87\": 1}, \"119\": {\"119\": 16}, \"125\": {\"125\": 148}, \"93\": {\"93\": 147, \"3\": 1}, \"115\": {\"115\": 12}, \"21\": {\"21\": 38, \"30\": 1, \"86\": 1}, \"41\": {\"41\": 16}}, \"W_4\": {\"55\": {\"55\": 16}, \"9\": {\"9\": 27, \"53\": 1}, \"70\": {\"70\": 120, \"39\": 1, \"27\": 1}, \"112\": {\"112\": 16}, \"115\": {\"115\": 12, \"36\": 1, \"48\": 1, \"64\": 1, \"128\": 1}, \"56\": {\"56\": 11, \"28\": 1}, \"108\": {\"111\": 1, \"108\": 85, \"25\": 1, \"81\": 1, \"94\": 1, \"88\": 1, \"1\": 1, \"18\": 1}, \"117\": {\"117\": 122, \"110\": 1, \"74\": 1}, \"111\": {\"111\": 129, \"88\": 1, \"62\": 1, \"3\": 1}, \"71\": {\"71\": 95, \"50\": 1, \"114\": 1, \"26\": 1, \"9\": 1, \"36\": 1, \"5\": 1, \"118\": 1, \"10\": 1, \"84\": 1}, \"59\": {\"59\": 10, \"6\": 2}, \"10\": {\"10\": 122, \"24\": 1, \"84\": 1}, \"83\": {\"83\": 28}, \"116\": {\"116\": 28}, \"13\": {\"13\": 16}, \"4\": {\"4\": 103, \"69\": 1}, \"125\": {\"125\": 104, \"117\": 1, \"124\": 1}, \"102\": {\"102\": 122, \"105\": 1, \"5\": 1}, \"47\": {\"47\": 12}, \"28\": {\"28\": 20}, \"82\": {\"82\": 30, \"124\": 1, \"88\": 1}, \"60\": {\"60\": 32}, \"107\": {\"107\": 130, \"90\": 1, \"55\": 1, \"33\": 1, \"44\": 1}, \"75\": {\"75\": 16}, \"31\": {\"31\": 16}, \"92\": {\"92\": 28}, \"58\": {\"58\": 16}, \"113\": {\"113\": 123, \"21\": 1, \"30\": 1, \"110\": 1, \"3\": 1, \"1\": 1}, \"95\": {\"95\": 31, \"77\": 1}, \"14\": {\"14\": 109, \"69\": 1, \"110\": 1, \"118\": 1}, \"17\": {\"17\": 20}, \"104\": {\"104\": 16}, \"72\": {\"72\": 28, \"128\": 1, \"60\": 1, \"56\": 1, \"81\": 1}, \"69\": {\"69\": 124, \"88\": 1, \"21\": 1, \"105\": 1, \"109\": 1}, \"63\": {\"63\": 16}, \"12\": {\"12\": 97, \"88\": 1, \"82\": 1, \"84\": 1}, \"25\": {\"25\": 16}, \"67\": {\"67\": 15, \"123\": 1}, \"50\": {\"50\": 16}, \"43\": {\"43\": 114, \"23\": 2, \"44\": 1, \"87\": 1, \"118\": 1, \"88\": 1}, \"96\": {\"96\": 20}, \"128\": {\"128\": 24}, \"77\": {\"77\": 12}, \"54\": {\"54\": 16}, \"118\": {\"118\": 106, \"0\": 1, \"15\": 1, \"69\": 1, \"26\": 1, \"30\": 1, \"21\": 1}, \"30\": {\"30\": 76}, \"51\": {\"51\": 13, \"75\": 2, \"1\": 1}, \"122\": {\"122\": 80, \"10\": 1, \"30\": 1, \"111\": 1, \"7\": 1}, \"46\": {\"46\": 19, \"20\": 1}, \"79\": {\"79\": 16}, \"103\": {\"103\": 16}, \"74\": {\"74\": 16}, \"90\": {\"90\": 146}, \"8\": {\"8\": 139, \"71\": 1, \"90\": 1, \"114\": 1}, \"94\": {\"94\": 83, \"18\": 1, \"111\": 1, \"78\": 1, \"36\": 1, \"69\": 1}, \"7\": {\"7\": 119, \"36\": 1, \"1\": 1, \"3\": 1}, \"61\": {\"61\": 16}, \"26\": {\"26\": 118, \"30\": 2}, \"127\": {\"127\": 107, \"26\": 1}, \"23\": {\"23\": 12, \"21\": 1, \"60\": 1, \"84\": 1, \"122\": 1}, \"1\": {\"1\": 105, \"88\": 1, \"39\": 1, \"10\": 1}, \"93\": {\"93\": 134}, \"106\": {\"106\": 106, \"109\": 2, \"18\": 1, \"84\": 1, \"118\": 1, \"57\": 1, \"113\": 1, \"27\": 1, \"78\": 1, \"30\": 1}, \"110\": {\"110\": 117, \"5\": 1}, \"76\": {\"76\": 16}, \"36\": {\"36\": 118, \"24\": 1, \"1\": 1}, \"21\": {\"21\": 38, \"84\": 1, \"62\": 1}, \"37\": {\"37\": 16}, \"11\": {\"11\": 119, \"110\": 1}, \"109\": {\"109\": 115, \"24\": 1}, \"62\": {\"21\": 1, \"62\": 54, \"81\": 1, \"30\": 1, \"3\": 1, \"26\": 1, \"113\": 1}, \"89\": {\"89\": 31, \"48\": 1}, \"126\": {\"126\": 117, \"30\": 1, \"84\": 1, \"39\": 3, \"16\": 1, \"122\": 1}, \"101\": {\"101\": 123, \"15\": 1, \"1\": 1, \"124\": 1, \"108\": 1, \"84\": 1}, \"65\": {\"65\": 12}, \"19\": {\"19\": 28}, \"27\": {\"27\": 97, \"0\": 1, \"69\": 1, \"70\": 1}, \"5\": {\"5\": 133, \"23\": 1, \"114\": 1, \"1\": 1}, \"73\": {\"73\": 19, \"19\": 3, \"5\": 1, \"46\": 1}, \"6\": {\"6\": 24}, \"29\": {\"29\": 32}, \"114\": {\"114\": 127, \"82\": 1}, \"49\": {\"49\": 32}, \"16\": {\"16\": 115, \"70\": 1, \"88\": 1, \"69\": 1}, \"68\": {\"68\": 16}, \"98\": {\"98\": 118, \"16\": 1, \"101\": 1}, \"64\": {\"64\": 16}, \"121\": {\"121\": 31, \"91\": 1}, \"124\": {\"124\": 114}, \"97\": {\"97\": 20}, \"40\": {\"40\": 136}, \"119\": {\"119\": 16}, \"100\": {\"119\": 1, \"100\": 17, \"34\": 1, \"46\": 1}, \"87\": {\"87\": 115, \"110\": 1}, \"88\": {\"88\": 121, \"108\": 2, \"26\": 1, \"105\": 1, \"21\": 1, \"113\": 1, \"70\": 1}, \"52\": {\"52\": 15, \"114\": 1, \"78\": 1, \"48\": 1, \"53\": 1, \"18\": 1}, \"80\": {\"80\": 15, \"96\": 1}, \"105\": {\"105\": 92, \"99\": 1, \"18\": 1, \"44\": 1, \"8\": 1, \"40\": 2, \"4\": 1, \"15\": 1}, \"32\": {\"32\": 28}, \"35\": {\"35\": 12}, \"99\": {\"99\": 40}, \"18\": {\"18\": 118, \"16\": 1, \"30\": 1}, \"24\": {\"24\": 112}, \"85\": {\"85\": 27, \"26\": 1}, \"39\": {\"39\": 96, \"106\": 1, \"30\": 1, \"110\": 1, \"109\": 1}, \"123\": {\"123\": 16}, \"91\": {\"91\": 24}, \"78\": {\"78\": 32, \"21\": 1, \"84\": 1, \"101\": 1, \"26\": 1}, \"38\": {\"38\": 16}, \"15\": {\"15\": 124, \"3\": 1, \"18\": 1, \"110\": 1, \"105\": 1}, \"48\": {\"48\": 16}, \"45\": {\"45\": 16}, \"120\": {\"120\": 20}, \"44\": {\"44\": 64}, \"86\": {\"86\": 26, \"3\": 1, \"21\": 1}, \"20\": {\"20\": 16}, \"33\": {\"33\": 147, \"90\": 1, \"21\": 1, \"10\": 1}, \"129\": {\"129\": 28}, \"34\": {\"34\": 30, \"25\": 2}, \"81\": {\"81\": 35, \"21\": 1}, \"57\": {\"57\": 12, \"24\": 1, \"90\": 2, \"70\": 1}, \"0\": {\"0\": 113, \"88\": 1, \"95\": 1, \"110\": 1}, \"2\": {\"2\": 27, \"117\": 1}, \"42\": {\"42\": 28}, \"84\": {\"84\": 127, \"96\": 1, \"106\": 1, \"88\": 1, \"26\": 1, \"87\": 1}, \"3\": {\"3\": 122, \"15\": 1, \"78\": 1, \"110\": 1, \"90\": 1}, \"41\": {\"41\": 15, \"48\": 1}, \"53\": {\"53\": 14, \"0\": 1, \"52\": 1}, \"66\": {\"66\": 16}, \"22\": {\"22\": 16}}, \"C_2\": {\"32\": {\"32\": 28}, \"17\": {\"17\": 104}, \"38\": {\"38\": 20}, \"2\": {\"2\": 32}, \"43\": {\"43\": 144}, \"56\": {\"56\": 144}, \"37\": {\"37\": 36}, \"49\": {\"49\": 24}, \"0\": {\"0\": 48}, \"29\": {\"29\": 128}, \"35\": {\"35\": 32}, \"18\": {\"18\": 48}, \"25\": {\"25\": 136}, \"23\": {\"23\": 124}, \"15\": {\"15\": 146}, \"21\": {\"21\": 120}, \"51\": {\"51\": 128}, \"20\": {\"20\": 138}, \"7\": {\"7\": 36}, \"50\": {\"50\": 136}, \"31\": {\"31\": 28}, \"30\": {\"30\": 140}, \"19\": {\"19\": 156}, \"9\": {\"9\": 144}, \"52\": {\"52\": 124}, \"45\": {\"45\": 128}, \"8\": {\"8\": 154}, \"55\": {\"55\": 160}, \"12\": {\"12\": 92}, \"40\": {\"40\": 140}, \"28\": {\"28\": 28}, \"36\": {\"36\": 116}, \"39\": {\"39\": 28}, \"46\": {\"46\": 122}, \"14\": {\"14\": 24}, \"57\": {\"57\": 142}, \"34\": {\"34\": 28}, \"1\": {\"1\": 112}, \"53\": {\"53\": 136}, \"48\": {\"48\": 130}, \"3\": {\"3\": 92}, \"16\": {\"16\": 152}, \"6\": {\"6\": 124}, \"10\": {\"10\": 112}, \"13\": {\"13\": 116}, \"26\": {\"26\": 24}, \"24\": {\"24\": 96}, \"44\": {\"44\": 100}, \"27\": {\"27\": 150}, \"22\": {\"22\": 128}, \"33\": {\"33\": 28}, \"47\": {\"47\": 118}, \"5\": {\"5\": 120}, \"4\": {\"4\": 138}, \"41\": {\"41\": 20}, \"11\": {\"11\": 150}, \"54\": {\"54\": 108}, \"42\": {\"42\": 36}}, \"C_3\": {\"5\": {\"5\": 116}, \"32\": {\"32\": 28}, \"33\": {\"33\": 28}, \"49\": {\"49\": 20}, \"39\": {\"39\": 16}, \"11\": {\"11\": 142}, \"8\": {\"8\": 116}, \"26\": {\"26\": 24}, \"51\": {\"51\": 122}, \"4\": {\"4\": 146}, \"52\": {\"52\": 118}, \"47\": {\"47\": 92}, \"17\": {\"17\": 107, \"12\": 1}, \"53\": {\"53\": 136}, \"2\": {\"2\": 32}, \"12\": {\"12\": 92}, \"37\": {\"37\": 28}, \"9\": {\"9\": 148}, \"13\": {\"13\": 128}, \"54\": {\"54\": 100}, \"31\": {\"31\": 28}, \"34\": {\"34\": 32}, \"24\": {\"24\": 104}, \"7\": {\"7\": 36}, \"50\": {\"50\": 118}, \"46\": {\"46\": 128}, \"44\": {\"44\": 88}, \"40\": {\"40\": 116}, \"21\": {\"21\": 128}, \"45\": {\"45\": 60}, \"16\": {\"16\": 126}, \"14\": {\"14\": 40}, \"36\": {\"36\": 100}, \"56\": {\"56\": 114}, \"10\": {\"10\": 64}, \"18\": {\"18\": 84}, \"48\": {\"48\": 116}, \"38\": {\"38\": 28}, \"27\": {\"27\": 130}, \"42\": {\"42\": 28}, \"15\": {\"15\": 134}, \"1\": {\"1\": 100}, \"28\": {\"28\": 28}, \"43\": {\"43\": 136}, \"0\": {\"0\": 124}, \"57\": {\"57\": 124}, \"3\": {\"3\": 148}, \"29\": {\"29\": 124}, \"41\": {\"41\": 28}, \"25\": {\"25\": 146}, \"6\": {\"6\": 88}, \"35\": {\"35\": 28}, \"20\": {\"20\": 126}, \"23\": {\"23\": 134}, \"22\": {\"22\": 139, \"56\": 1}, \"19\": {\"19\": 116}, \"55\": {\"55\": 124}, \"30\": {\"30\": 120}}, \"C_1\": {\"24\": {\"24\": 108}, \"25\": {\"25\": 140}, \"45\": {\"45\": 143, \"56\": 1}, \"42\": {\"42\": 40}, \"2\": {\"2\": 36}, \"9\": {\"9\": 150}, \"21\": {\"21\": 124}, \"26\": {\"26\": 24}, \"49\": {\"49\": 32}, \"39\": {\"39\": 28}, \"46\": {\"46\": 136}, \"17\": {\"17\": 64}, \"19\": {\"19\": 156}, \"23\": {\"23\": 132}, \"1\": {\"1\": 100}, \"29\": {\"29\": 140}, \"56\": {\"56\": 150}, \"37\": {\"37\": 32}, \"33\": {\"33\": 32}, \"55\": {\"55\": 142}, \"30\": {\"30\": 120}, \"0\": {\"0\": 152}, \"36\": {\"36\": 64}, \"32\": {\"32\": 32}, \"31\": {\"31\": 28}, \"15\": {\"15\": 138}, \"12\": {\"12\": 116}, \"38\": {\"38\": 24}, \"40\": {\"40\": 146}, \"14\": {\"14\": 24}, \"13\": {\"13\": 150}, \"48\": {\"48\": 148}, \"34\": {\"34\": 24}, \"44\": {\"44\": 130}, \"5\": {\"5\": 152}, \"11\": {\"11\": 140}, \"7\": {\"7\": 28}, \"18\": {\"18\": 72}, \"52\": {\"52\": 132}, \"51\": {\"51\": 142}, \"41\": {\"41\": 24}, \"16\": {\"16\": 140}, \"22\": {\"22\": 134}, \"3\": {\"3\": 140}, \"54\": {\"54\": 104}, \"27\": {\"27\": 144}, \"20\": {\"20\": 140}, \"8\": {\"8\": 138}, \"50\": {\"50\": 144}, \"57\": {\"57\": 140}, \"4\": {\"4\": 132}, \"47\": {\"47\": 146}, \"10\": {\"10\": 96}, \"35\": {\"35\": 36}, \"53\": {\"53\": 126}, \"6\": {\"6\": 96}, \"43\": {\"43\": 140}, \"28\": {\"28\": 28}}, \"C_5\": {\"35\": {\"35\": 36}, \"57\": {\"57\": 132}, \"20\": {\"20\": 144}, \"12\": {\"12\": 96}, \"32\": {\"32\": 32}, \"25\": {\"25\": 138}, \"44\": {\"44\": 148}, \"31\": {\"31\": 36}, \"11\": {\"11\": 150}, \"47\": {\"47\": 100}, \"23\": {\"23\": 124}, \"43\": {\"43\": 144}, \"37\": {\"37\": 24}, \"5\": {\"5\": 128}, \"45\": {\"45\": 124}, \"7\": {\"7\": 32}, \"13\": {\"13\": 136}, \"49\": {\"49\": 36}, \"46\": {\"46\": 148}, \"16\": {\"16\": 136}, \"54\": {\"54\": 112}, \"19\": {\"19\": 152}, \"55\": {\"55\": 150}, \"30\": {\"30\": 128}, \"34\": {\"34\": 36}, \"50\": {\"50\": 134}, \"3\": {\"3\": 100}, \"10\": {\"10\": 68}, \"27\": {\"27\": 142}, \"33\": {\"33\": 32}, \"56\": {\"56\": 142}, \"9\": {\"9\": 150}, \"14\": {\"14\": 44}, \"4\": {\"4\": 100}, \"42\": {\"42\": 40}, \"24\": {\"24\": 80}, \"39\": {\"39\": 20}, \"52\": {\"52\": 130}, \"2\": {\"2\": 28}, \"28\": {\"28\": 32}, \"53\": {\"53\": 122}, \"17\": {\"17\": 116}, \"29\": {\"29\": 132}, \"38\": {\"38\": 32}, \"15\": {\"15\": 144}, \"26\": {\"26\": 24}, \"21\": {\"21\": 144}, \"41\": {\"41\": 28}, \"48\": {\"48\": 136}, \"22\": {\"22\": 28}, \"8\": {\"8\": 148}, \"18\": {\"18\": 64}, \"0\": {\"0\": 122}, \"1\": {\"1\": 138}, \"40\": {\"40\": 124}, \"6\": {\"6\": 127, \"45\": 1}, \"51\": {\"51\": 142}, \"36\": {\"36\": 92}}, \"O_50\": {\"7\": {\"4\": 71, \"7\": 132, \"5\": 29, \"3\": 4, \"6\": 4}, \"10\": {\"8\": 47, \"10\": 130, \"1\": 23, \"0\": 37, \"2\": 3}, \"0\": {\"14\": 30, \"2\": 64, \"0\": 120, \"10\": 26}, \"11\": {\"12\": 49, \"11\": 124, \"9\": 27, \"15\": 19, \"13\": 13, \"6\": 4, \"1\": 1, \"5\": 3}, \"2\": {\"2\": 134, \"14\": 38, \"0\": 67, \"10\": 1}, \"14\": {\"2\": 62, \"14\": 139, \"0\": 37, \"10\": 2}, \"9\": {\"12\": 32, \"9\": 110, \"15\": 51, \"11\": 22, \"4\": 1, \"6\": 13, \"5\": 8, \"3\": 1, \"7\": 1, \"1\": 1}, \"13\": {\"13\": 134, \"8\": 21, \"11\": 30, \"1\": 37, \"12\": 10, \"15\": 2, \"3\": 2, \"9\": 2, \"5\": 2}, \"8\": {\"8\": 178, \"10\": 40, \"1\": 19, \"0\": 1, \"13\": 2}, \"15\": {\"6\": 55, \"15\": 93, \"9\": 38, \"5\": 34, \"11\": 10, \"12\": 4, \"7\": 2, \"4\": 3, \"3\": 1}, \"4\": {\"4\": 111, \"7\": 82, \"5\": 38, \"6\": 3, \"15\": 6}, \"5\": {\"7\": 40, \"5\": 73, \"6\": 35, \"4\": 41, \"11\": 11, \"15\": 19, \"13\": 7, \"3\": 7, \"9\": 5, \"12\": 2}, \"3\": {\"3\": 192, \"9\": 2, \"6\": 31, \"5\": 11, \"11\": 2, \"15\": 1, \"12\": 1}, \"1\": {\"10\": 16, \"13\": 41, \"11\": 11, \"1\": 154, \"8\": 14, \"12\": 2, \"15\": 1, \"0\": 1}, \"6\": {\"6\": 82, \"5\": 35, \"3\": 18, \"15\": 56, \"11\": 8, \"9\": 31, \"12\": 7, \"7\": 2, \"4\": 1}, \"12\": {\"12\": 120, \"9\": 45, \"11\": 47, \"6\": 11, \"15\": 6, \"3\": 3, \"13\": 8}}, \"O_14\": {\"14\": {\"2\": 38, \"6\": 25, \"0\": 22, \"14\": 77, \"3\": 17, \"13\": 33, \"7\": 14, \"5\": 14}, \"6\": {\"6\": 107, \"13\": 65, \"14\": 24, \"2\": 11, \"3\": 27, \"0\": 2, \"7\": 1, \"5\": 3}, \"5\": {\"7\": 25, \"0\": 25, \"5\": 93, \"2\": 42, \"13\": 8, \"8\": 16, \"14\": 14, \"3\": 1, \"6\": 1, \"4\": 12, \"12\": 3}, \"15\": {\"15\": 240}, \"11\": {\"11\": 236, \"1\": 2, \"9\": 2}, \"8\": {\"12\": 46, \"8\": 125, \"7\": 11, \"0\": 21, \"5\": 24, \"4\": 7, \"10\": 1, \"14\": 2, \"2\": 2, \"3\": 1}, \"12\": {\"4\": 12, \"12\": 144, \"8\": 63, \"0\": 9, \"10\": 2, \"5\": 6, \"9\": 2, \"7\": 1, \"13\": 1}, \"1\": {\"1\": 171, \"10\": 25, \"9\": 42, \"4\": 2}, \"2\": {\"13\": 21, \"2\": 54, \"3\": 27, \"14\": 42, \"8\": 4, \"0\": 12, \"5\": 49, \"7\": 11, \"4\": 9, \"6\": 10, \"10\": 1}, \"13\": {\"0\": 11, \"13\": 51, \"6\": 62, \"7\": 5, \"2\": 22, \"14\": 25, \"4\": 8, \"5\": 19, \"15\": 15, \"3\": 20, \"8\": 2}, \"3\": {\"3\": 90, \"13\": 29, \"0\": 30, \"7\": 22, \"2\": 12, \"14\": 17, \"6\": 32, \"5\": 4, \"8\": 4}, \"0\": {\"0\": 60, \"8\": 23, \"7\": 17, \"12\": 4, \"4\": 10, \"3\": 33, \"14\": 17, \"2\": 21, \"5\": 27, \"13\": 15, \"6\": 13}, \"9\": {\"9\": 168, \"1\": 50, \"10\": 21, \"4\": 1}, \"4\": {\"8\": 8, \"10\": 56, \"4\": 119, \"2\": 20, \"12\": 4, \"5\": 26, \"0\": 4, \"1\": 2, \"14\": 1}, \"7\": {\"5\": 26, \"0\": 27, \"7\": 93, \"8\": 18, \"3\": 20, \"2\": 23, \"14\": 19, \"6\": 5, \"13\": 9}, \"10\": {\"4\": 80, \"10\": 124, \"1\": 12, \"9\": 18, \"12\": 1, \"5\": 2, \"2\": 3}}, \"O_32\": {\"4\": {\"4\": 95, \"3\": 39, \"13\": 25, \"2\": 70, \"14\": 1, \"9\": 10}, \"14\": {\"0\": 49, \"4\": 10, \"14\": 56, \"7\": 48, \"5\": 16, \"8\": 25, \"2\": 35, \"13\": 1}, \"5\": {\"5\": 83, \"8\": 33, \"15\": 14, \"2\": 4, \"14\": 19, \"7\": 53, \"0\": 33, \"4\": 1}, \"10\": {\"10\": 187, \"12\": 48, \"9\": 2, \"6\": 3}, \"13\": {\"9\": 13, \"3\": 73, \"4\": 35, \"13\": 102, \"2\": 8, \"11\": 9}, \"9\": {\"12\": 42, \"4\": 25, \"11\": 23, \"9\": 112, \"2\": 15, \"13\": 19, \"3\": 2, \"1\": 1, \"10\": 1}, \"6\": {\"6\": 222, \"10\": 17, \"12\": 1}, \"3\": {\"3\": 135, \"13\": 74, \"4\": 27, \"2\": 3, \"9\": 1}, \"15\": {\"15\": 206, \"7\": 2, \"5\": 19, \"8\": 13}, \"7\": {\"14\": 38, \"5\": 45, \"7\": 74, \"2\": 4, \"0\": 56, \"8\": 23}, \"12\": {\"12\": 150, \"10\": 29, \"9\": 44, \"11\": 16, \"13\": 1}, \"8\": {\"8\": 85, \"0\": 45, \"5\": 26, \"4\": 2, \"7\": 27, \"14\": 36, \"15\": 11, \"13\": 1, \"3\": 2, \"2\": 5}, \"11\": {\"11\": 185, \"9\": 22, \"12\": 13, \"13\": 15, \"3\": 5}, \"2\": {\"2\": 124, \"9\": 8, \"13\": 6, \"4\": 67, \"14\": 16, \"8\": 10, \"0\": 5, \"3\": 4}, \"1\": {\"1\": 234, \"2\": 6}, \"0\": {\"14\": 48, \"7\": 43, \"0\": 61, \"8\": 31, \"5\": 51, \"15\": 1, \"2\": 5}}, \"O_44\": {\"8\": {\"0\": 85, \"8\": 98, \"15\": 50, \"5\": 4, \"4\": 1, \"14\": 2}, \"11\": {\"11\": 240}, \"14\": {\"4\": 50, \"14\": 77, \"5\": 68, \"15\": 20, \"9\": 11, \"10\": 6, \"2\": 2, \"7\": 5, \"8\": 1}, \"10\": {\"7\": 92, \"10\": 94, \"9\": 28, \"2\": 10, \"4\": 7, \"1\": 4, \"6\": 3, \"14\": 1, \"15\": 1}, \"3\": {\"3\": 159, \"12\": 81}, \"15\": {\"1\": 3, \"0\": 17, \"8\": 55, \"15\": 85, \"14\": 29, \"5\": 36, \"4\": 13, \"10\": 1, \"9\": 1}, \"2\": {\"2\": 168, \"1\": 45, \"4\": 3, \"15\": 3, \"10\": 15, \"9\": 4, \"7\": 1, \"14\": 1}, \"12\": {\"12\": 145, \"3\": 95}, \"4\": {\"14\": 70, \"4\": 55, \"5\": 38, \"2\": 9, \"9\": 29, \"15\": 8, \"1\": 1, \"7\": 19, \"10\": 5, \"6\": 3, \"8\": 2, \"13\": 1}, \"1\": {\"8\": 5, \"1\": 157, \"2\": 64, \"0\": 6, \"15\": 5, \"10\": 1, \"3\": 1, \"4\": 1}, \"0\": {\"0\": 137, \"8\": 80, \"15\": 15, \"1\": 7, \"14\": 1}, \"9\": {\"6\": 38, \"7\": 55, \"9\": 60, \"10\": 30, \"13\": 27, \"14\": 7, \"2\": 6, \"4\": 14, \"15\": 1, \"5\": 2}, \"5\": {\"5\": 89, \"15\": 29, \"4\": 45, \"14\": 67, \"8\": 10}, \"6\": {\"6\": 135, \"13\": 74, \"9\": 20, \"7\": 6, \"10\": 2, \"4\": 3}, \"7\": {\"7\": 98, \"9\": 58, \"10\": 46, \"4\": 22, \"5\": 1, \"14\": 6, \"6\": 8, \"13\": 1}, \"13\": {\"6\": 80, \"13\": 137, \"9\": 18, \"7\": 2, \"11\": 3}}, \"O_8\": {\"13\": {\"10\": 39, \"1\": 22, \"7\": 52, \"6\": 17, \"13\": 62, \"5\": 45, \"8\": 1, \"11\": 2}, \"3\": {\"3\": 221, \"2\": 17, \"9\": 1, \"15\": 1}, \"15\": {\"15\": 112, \"12\": 73, \"2\": 54, \"3\": 1}, \"4\": {\"4\": 110, \"11\": 28, \"14\": 38, \"8\": 33, \"6\": 12, \"5\": 4, \"1\": 9, \"13\": 2, \"7\": 2, \"10\": 2}, \"7\": {\"13\": 35, \"1\": 31, \"11\": 12, \"6\": 42, \"7\": 65, \"10\": 35, \"5\": 18, \"4\": 1, \"8\": 1}, \"2\": {\"2\": 106, \"3\": 40, \"15\": 57, \"12\": 36, \"13\": 1}, \"1\": {\"5\": 23, \"8\": 6, \"10\": 20, \"1\": 53, \"11\": 26, \"6\": 43, \"13\": 26, \"7\": 39, \"4\": 4}, \"0\": {\"0\": 240}, \"12\": {\"12\": 128, \"15\": 82, \"2\": 30}, \"6\": {\"6\": 61, \"8\": 8, \"7\": 52, \"10\": 28, \"11\": 23, \"1\": 36, \"4\": 5, \"13\": 10, \"5\": 17}, \"11\": {\"11\": 56, \"4\": 31, \"8\": 27, \"6\": 36, \"10\": 14, \"1\": 34, \"14\": 6, \"7\": 20, \"5\": 11, \"13\": 5}, \"9\": {\"9\": 235, \"3\": 4, \"2\": 1}, \"5\": {\"10\": 50, \"13\": 58, \"7\": 22, \"14\": 3, \"5\": 64, \"6\": 16, \"4\": 4, \"2\": 1, \"11\": 6, \"1\": 15, \"12\": 1}, \"10\": {\"6\": 30, \"10\": 52, \"7\": 40, \"5\": 37, \"1\": 23, \"13\": 43, \"11\": 12, \"8\": 2, \"4\": 1}, \"14\": {\"14\": 159, \"4\": 60, \"11\": 11, \"8\": 9, \"5\": 1}, \"8\": {\"4\": 38, \"8\": 102, \"6\": 21, \"1\": 18, \"10\": 2, \"14\": 9, \"11\": 44, \"5\": 3, \"7\": 3}}, \"O_20\": {\"6\": {\"2\": 18, \"7\": 34, \"6\": 77, \"14\": 20, \"4\": 29, \"3\": 9, \"1\": 4, \"13\": 2, \"10\": 3, \"8\": 3, \"5\": 7, \"15\": 6, \"9\": 21, \"12\": 7}, \"11\": {\"11\": 139, \"0\": 90, \"8\": 6, \"14\": 1, \"1\": 1, \"3\": 1, \"5\": 2}, \"5\": {\"1\": 33, \"9\": 23, \"8\": 18, \"6\": 5, \"3\": 49, \"5\": 49, \"15\": 9, \"7\": 19, \"2\": 9, \"13\": 4, \"14\": 12, \"4\": 4, \"12\": 6}, \"14\": {\"14\": 95, \"8\": 63, \"4\": 3, \"3\": 26, \"5\": 20, \"9\": 8, \"6\": 9, \"7\": 6, \"0\": 5, \"12\": 1, \"1\": 4}, \"2\": {\"15\": 37, \"2\": 39, \"13\": 13, \"6\": 12, \"5\": 1, \"4\": 29, \"12\": 34, \"7\": 29, \"3\": 1, \"14\": 1, \"1\": 20, \"9\": 19, \"10\": 5}, \"7\": {\"14\": 5, \"9\": 28, \"2\": 28, \"12\": 17, \"1\": 26, \"7\": 42, \"6\": 29, \"15\": 23, \"10\": 3, \"8\": 3, \"4\": 18, \"5\": 9, \"3\": 8, \"13\": 1}, \"3\": {\"9\": 23, \"14\": 22, \"8\": 30, \"5\": 35, \"6\": 12, \"3\": 65, \"1\": 21, \"7\": 21, \"2\": 2, \"15\": 6, \"0\": 1, \"12\": 1, \"11\": 1}, \"4\": {\"12\": 25, \"9\": 12, \"4\": 46, \"2\": 32, \"15\": 23, \"6\": 35, \"14\": 4, \"10\": 14, \"5\": 3, \"1\": 7, \"3\": 1, \"13\": 8, \"7\": 30}, \"9\": {\"1\": 36, \"14\": 5, \"2\": 14, \"3\": 24, \"7\": 33, \"9\": 39, \"15\": 21, \"4\": 12, \"5\": 15, \"12\": 19, \"8\": 7, \"6\": 12, \"10\": 1, \"13\": 2}, \"12\": {\"7\": 29, \"12\": 40, \"2\": 33, \"9\": 16, \"13\": 21, \"15\": 39, \"4\": 25, \"1\": 15, \"6\": 12, \"5\": 5, \"10\": 4, \"3\": 1}, \"0\": {\"0\": 107, \"11\": 70, \"5\": 14, \"14\": 9, \"8\": 22, \"3\": 13, \"9\": 2, \"1\": 1, \"6\": 1, \"7\": 1}, \"10\": {\"10\": 112, \"2\": 16, \"4\": 48, \"15\": 6, \"7\": 10, \"6\": 10, \"12\": 10, \"9\": 3, \"13\": 25}, \"8\": {\"8\": 68, \"3\": 46, \"14\": 64, \"5\": 26, \"0\": 13, \"11\": 1, \"1\": 5, \"7\": 5, \"6\": 4, \"9\": 8}, \"13\": {\"15\": 42, \"2\": 41, \"12\": 44, \"10\": 10, \"4\": 15, \"13\": 70, \"7\": 11, \"9\": 2, \"1\": 4, \"6\": 1}, \"1\": {\"5\": 33, \"3\": 25, \"9\": 43, \"1\": 39, \"7\": 25, \"2\": 15, \"4\": 4, \"15\": 19, \"12\": 14, \"8\": 6, \"6\": 7, \"14\": 7, \"13\": 3}, \"15\": {\"15\": 57, \"2\": 30, \"12\": 29, \"5\": 4, \"4\": 17, \"13\": 41, \"7\": 19, \"9\": 14, \"1\": 21, \"3\": 4, \"10\": 2, \"6\": 2}}, \"O_38\": {\"3\": {\"3\": 228, \"10\": 8, \"11\": 1, \"0\": 3}, \"8\": {\"15\": 24, \"8\": 58, \"5\": 57, \"2\": 14, \"9\": 32, \"7\": 26, \"12\": 18, \"13\": 1, \"14\": 10}, \"0\": {\"10\": 75, \"0\": 51, \"13\": 39, \"7\": 27, \"14\": 16, \"4\": 16, \"2\": 9, \"3\": 5, \"5\": 2}, \"2\": {\"2\": 160, \"7\": 17, \"14\": 41, \"9\": 6, \"8\": 6, \"0\": 2, \"5\": 3, \"13\": 5}, \"4\": {\"4\": 216, \"10\": 14, \"0\": 10}, \"7\": {\"7\": 155, \"2\": 14, \"13\": 2, \"8\": 10, \"0\": 5, \"4\": 2, \"12\": 4, \"14\": 37, \"9\": 5, \"5\": 6}, \"12\": {\"12\": 192, \"8\": 27, \"7\": 7, \"5\": 13, \"15\": 1}, \"6\": {\"1\": 98, \"6\": 139, \"15\": 3}, \"15\": {\"15\": 180, \"5\": 26, \"8\": 14, \"1\": 10, \"12\": 2, \"9\": 3, \"6\": 5}, \"11\": {\"11\": 234, \"3\": 6}, \"9\": {\"5\": 50, \"2\": 8, \"9\": 119, \"8\": 50, \"7\": 11, \"15\": 2}, \"14\": {\"13\": 22, \"14\": 126, \"2\": 62, \"0\": 4, \"7\": 14, \"12\": 1, \"4\": 7, \"8\": 3, \"5\": 1}, \"10\": {\"10\": 130, \"0\": 63, \"3\": 14, \"13\": 20, \"4\": 12, \"14\": 1}, \"5\": {\"9\": 35, \"8\": 62, \"12\": 13, \"15\": 33, \"14\": 2, \"5\": 64, \"7\": 25, \"2\": 6}, \"1\": {\"1\": 156, \"6\": 83, \"15\": 1}, \"13\": {\"13\": 136, \"0\": 43, \"14\": 23, \"10\": 16, \"2\": 16, \"7\": 6}}, \"O_26\": {\"5\": {\"5\": 79, \"10\": 8, \"6\": 46, \"15\": 58, \"0\": 2, \"1\": 25, \"11\": 9, \"14\": 13}, \"8\": {\"8\": 64, \"9\": 24, \"2\": 33, \"12\": 16, \"3\": 17, \"0\": 17, \"7\": 63, \"10\": 2, \"13\": 3, \"14\": 1}, \"4\": {\"3\": 35, \"4\": 157, \"13\": 38, \"9\": 7, \"7\": 2, \"8\": 1}, \"12\": {\"2\": 7, \"12\": 122, \"9\": 52, \"8\": 17, \"7\": 9, \"13\": 24, \"3\": 7, \"0\": 2}, \"6\": {\"15\": 57, \"6\": 59, \"14\": 20, \"10\": 31, \"5\": 32, \"1\": 34, \"11\": 3, \"0\": 4}, \"7\": {\"7\": 73, \"8\": 43, \"12\": 6, \"2\": 49, \"3\": 35, \"9\": 23, \"10\": 2, \"0\": 4, \"13\": 4, \"14\": 1}, \"10\": {\"1\": 15, \"6\": 28, \"10\": 59, \"14\": 48, \"5\": 19, \"0\": 34, \"15\": 37}, \"0\": {\"1\": 8, \"0\": 62, \"15\": 15, \"10\": 59, \"8\": 16, \"14\": 40, \"12\": 1, \"9\": 2, \"6\": 13, \"2\": 16, \"7\": 6, \"5\": 2}, \"15\": {\"5\": 47, \"11\": 4, \"15\": 71, \"6\": 34, \"10\": 29, \"8\": 1, \"14\": 16, \"0\": 13, \"1\": 20, \"9\": 1, \"2\": 4}, \"9\": {\"12\": 39, \"8\": 34, \"7\": 26, \"9\": 49, \"13\": 24, \"2\": 32, \"3\": 28, \"0\": 5, \"10\": 3}, \"11\": {\"11\": 182, \"5\": 37, \"6\": 8, \"10\": 1, \"1\": 5, \"15\": 7}, \"14\": {\"1\": 35, \"6\": 22, \"14\": 70, \"10\": 53, \"0\": 22, \"15\": 28, \"5\": 10}, \"2\": {\"2\": 60, \"0\": 18, \"8\": 45, \"7\": 47, \"14\": 4, \"9\": 33, \"3\": 14, \"10\": 6, \"12\": 8, \"13\": 5}, \"13\": {\"13\": 132, \"8\": 1, \"2\": 1, \"3\": 28, \"9\": 40, \"4\": 16, \"12\": 19, \"7\": 3}, \"3\": {\"7\": 29, \"12\": 5, \"9\": 40, \"3\": 99, \"8\": 14, \"13\": 34, \"4\": 4, \"2\": 14, \"0\": 1}, \"1\": {\"14\": 26, \"1\": 111, \"6\": 37, \"10\": 23, \"15\": 22, \"5\": 19, \"0\": 2}}}, \"per_domain_accuracy\": {\"W_3\": {\"accuracy\": 0.9796670305676856, \"source?\": true}, \"W_2\": {\"accuracy\": 0.9598958333333333, \"source?\": true}, \"C_4\": {\"accuracy\": 0.9992424242424243, \"source?\": true}, \"W_1\": {\"accuracy\": 0.9841101694915254, \"source?\": true}, \"W_4\": {\"accuracy\": 0.970679012345679, \"source?\": true}, \"C_2\": {\"accuracy\": 1.0, \"source?\": true}, \"C_3\": {\"accuracy\": 0.9996279761904762, \"source?\": true}, \"C_1\": {\"accuracy\": 0.9998310810810811, \"source?\": true}, \"C_5\": {\"accuracy\": 0.9998254189944135, \"source?\": true}, \"O_50\": {\"accuracy\": 0.5276041666666667, \"source?\": false}, \"O_14\": {\"accuracy\": 0.5083333333333333, \"source?\": false}, \"O_32\": {\"accuracy\": 0.5497395833333333, \"source?\": false}, \"O_44\": {\"accuracy\": 0.5036458333333333, \"source?\": false}, \"O_8\": {\"accuracy\": 0.47552083333333334, \"source?\": false}, \"O_20\": {\"accuracy\": 0.28229166666666666, \"source?\": false}, \"O_38\": {\"accuracy\": 0.6104166666666667, \"source?\": false}, \"O_26\": {\"accuracy\": 0.37734375, \"source?\": false}}}, \"history\": {\"epoch_indices\": [1, 2, 3, 4, 5, 6, 7], \"train_label_loss\": [0.11287802846656368, 0.07464308039437652, 0.06237597342315864, 0.0536367190926693, 0.051020482163816445, 0.046659553332760034, 0.04381661847959356], \"source_val_label_loss\": [0.11915920674800873, 0.07357136160135269, 0.05943964794278145, 0.06501051038503647, 0.05943666771054268, 0.0575222484767437, 0.05746780335903168], \"target_val_label_loss\": [2.437635898590088, 2.406653642654419, 2.2775189876556396, 2.29803729057312, 2.2964158058166504, 2.2346692085266113, 2.24396014213562], \"source_val_acc_label\": [0.9779381513987931, 0.9840407295666483, 0.9860634942402633, 0.9865091881513988, 0.986372051563357, 0.9867148930334614, 0.9869720241360395], \"target_val_acc_label\": [0.4212565104166667, 0.39401041666666664, 0.4793619791666667, 0.4380859375, 0.4009765625, 0.43919270833333335, 0.3753255208333333]}, \"dataset_metrics\": {\"source\": {\"train\": {\"n_unique_x\": 364164, \"n_unique_y\": 130, \"n_batch/episode\": 13156}, \"val\": {\"n_unique_x\": 77236, \"n_unique_y\": 130, \"n_batch/episode\": 1823}, \"test\": {\"n_unique_x\": 78478, \"n_unique_y\": 130, \"n_batch/episode\": 1857}}, \"target\": {\"train\": {\"n_unique_x\": 179200, \"n_unique_y\": 16, \"n_batch/episode\": 6720}, \"val\": {\"n_unique_x\": 38400, \"n_unique_y\": 16, \"n_batch/episode\": 960}, \"test\": {\"n_unique_x\": 38400, \"n_unique_y\": 16, \"n_batch/episode\": 960}}}}'"
      ]
     },
     "execution_count": 29,
     "metadata": {},
     "output_type": "execute_result"
    }
   ],
   "source": [
    "json.dumps(experiment)"
   ]
  }
 ],
 "metadata": {
  "celltoolbar": "Tags",
  "kernelspec": {
   "display_name": "Python 3 (ipykernel)",
   "language": "python",
   "name": "python3"
  },
  "language_info": {
   "codemirror_mode": {
    "name": "ipython",
    "version": 3
   },
   "file_extension": ".py",
   "mimetype": "text/x-python",
   "name": "python",
   "nbconvert_exporter": "python",
   "pygments_lexer": "ipython3",
   "version": "3.8.10"
  },
  "papermill": {
   "default_parameters": {},
   "duration": 4564.618781,
   "end_time": "2022-03-20T16:27:01.527861",
   "environment_variables": {},
   "exception": null,
   "input_path": "/mnt/wd500GB/CSC500/csc500-main/csc500-notebooks/templates/tl_ptn_template.ipynb",
   "output_path": "trial.ipynb",
   "parameters": {
    "parameters": {
     "BEST_MODEL_PATH": "./best_model.pth",
     "NUM_LOGS_PER_EPOCH": 10,
     "criteria_for_best": "target_accuracy",
     "dataset_seed": 500,
     "datasets": [
      {
       "domain_prefix": "C_",
       "domains": [
        1,
        2,
        3,
        4,
        5
       ],
       "episode_transforms": [],
       "labels": [
        "1-10.",
        "1-11.",
        "1-15.",
        "1-16.",
        "1-17.",
        "1-18.",
        "1-19.",
        "10-4.",
        "10-7.",
        "11-1.",
        "11-14.",
        "11-17.",
        "11-20.",
        "11-7.",
        "13-20.",
        "13-8.",
        "14-10.",
        "14-11.",
        "14-14.",
        "14-7.",
        "15-1.",
        "15-20.",
        "16-1.",
        "16-16.",
        "17-10.",
        "17-11.",
        "17-2.",
        "19-1.",
        "19-16.",
        "19-19.",
        "19-20.",
        "19-3.",
        "2-10.",
        "2-11.",
        "2-17.",
        "2-18.",
        "2-20.",
        "2-3.",
        "2-4.",
        "2-5.",
        "2-6.",
        "2-7.",
        "2-8.",
        "3-13.",
        "3-18.",
        "3-3.",
        "4-1.",
        "4-10.",
        "4-11.",
        "4-19.",
        "5-5.",
        "6-15.",
        "7-10.",
        "7-14.",
        "8-18.",
        "8-20.",
        "8-3.",
        "8-8."
       ],
       "num_examples_per_domain_per_label": -1,
       "pickle_path": "/mnt/wd500GB/CSC500/csc500-main/datasets/cores.stratified_ds.2022A.pkl",
       "source_or_target_dataset": "source",
       "x_transforms": []
      },
      {
       "domain_prefix": "W_",
       "domains": [
        1,
        2,
        3,
        4
       ],
       "episode_transforms": [],
       "labels": [
        "1-10",
        "1-12",
        "1-14",
        "1-16",
        "1-18",
        "1-19",
        "1-8",
        "10-11",
        "10-17",
        "10-4",
        "10-7",
        "11-1",
        "11-10",
        "11-19",
        "11-20",
        "11-4",
        "11-7",
        "12-19",
        "12-20",
        "12-7",
        "13-14",
        "13-18",
        "13-19",
        "13-20",
        "13-3",
        "13-7",
        "14-10",
        "14-11",
        "14-12",
        "14-13",
        "14-14",
        "14-19",
        "14-20",
        "14-7",
        "14-8",
        "14-9",
        "15-1",
        "15-19",
        "15-6",
        "16-1",
        "16-16",
        "16-19",
        "16-20",
        "17-10",
        "17-11",
        "18-1",
        "18-10",
        "18-11",
        "18-12",
        "18-13",
        "18-14",
        "18-15",
        "18-16",
        "18-17",
        "18-19",
        "18-2",
        "18-20",
        "18-4",
        "18-5",
        "18-7",
        "18-8",
        "18-9",
        "19-1",
        "19-10",
        "19-11",
        "19-12",
        "19-13",
        "19-14",
        "19-15",
        "19-19",
        "19-2",
        "19-20",
        "19-3",
        "19-4",
        "19-6",
        "19-7",
        "19-8",
        "19-9",
        "2-1",
        "2-13",
        "2-15",
        "2-3",
        "2-4",
        "2-5",
        "2-6",
        "2-7",
        "2-8",
        "20-1",
        "20-12",
        "20-14",
        "20-15",
        "20-16",
        "20-18",
        "20-19",
        "20-20",
        "20-3",
        "20-4",
        "20-5",
        "20-7",
        "20-8",
        "3-1",
        "3-13",
        "3-18",
        "3-2",
        "3-8",
        "4-1",
        "4-10",
        "4-11",
        "5-1",
        "5-5",
        "6-1",
        "6-15",
        "6-6",
        "7-10",
        "7-11",
        "7-12",
        "7-13",
        "7-14",
        "7-7",
        "7-8",
        "7-9",
        "8-1",
        "8-13",
        "8-14",
        "8-18",
        "8-20",
        "8-3",
        "8-8",
        "9-1",
        "9-7"
       ],
       "num_examples_per_domain_per_label": -1,
       "pickle_path": "/mnt/wd500GB/CSC500/csc500-main/datasets/wisig.node3-19.stratified_ds.2022A.pkl",
       "source_or_target_dataset": "source",
       "x_transforms": []
      },
      {
       "domain_prefix": "O_",
       "domains": [
        32,
        38,
        8,
        44,
        14,
        50,
        20,
        26
       ],
       "episode_transforms": [],
       "labels": [
        "3123D52",
        "3123D65",
        "3123D79",
        "3123D80",
        "3123D54",
        "3123D70",
        "3123D7B",
        "3123D89",
        "3123D58",
        "3123D76",
        "3123D7D",
        "3123EFE",
        "3123D64",
        "3123D78",
        "3123D7E",
        "3124E4A"
       ],
       "num_examples_per_domain_per_label": 2000,
       "pickle_path": "/mnt/wd500GB/CSC500/csc500-main/datasets/oracle.Run1_framed_2000Examples_stratified_ds.2022A.pkl",
       "source_or_target_dataset": "target",
       "x_transforms": []
      }
     ],
     "device": "cuda",
     "experiment_name": "tl_2v2:cores+wisig -> oracle.run1.framed",
     "lr": 0.0001,
     "n_epoch": 50,
     "n_query": 2,
     "n_shot": 3,
     "n_way": 16,
     "patience": 3,
     "seed": 500,
     "test_k_factor": 2,
     "torch_default_dtype": "torch.float32",
     "train_k_factor": 3,
     "val_k_factor": 2,
     "x_net": [
      {
       "class": "nnReshape",
       "kargs": {
        "shape": [
         -1,
         1,
         2,
         256
        ]
       }
      },
      {
       "class": "Conv2d",
       "kargs": {
        "bias": false,
        "in_channels": 1,
        "kernel_size": [
         1,
         7
        ],
        "out_channels": 256,
        "padding": [
         0,
         3
        ]
       }
      },
      {
       "class": "ReLU",
       "kargs": {
        "inplace": true
       }
      },
      {
       "class": "BatchNorm2d",
       "kargs": {
        "num_features": 256
       }
      },
      {
       "class": "Conv2d",
       "kargs": {
        "bias": true,
        "in_channels": 256,
        "kernel_size": [
         2,
         7
        ],
        "out_channels": 80,
        "padding": [
         0,
         3
        ]
       }
      },
      {
       "class": "ReLU",
       "kargs": {
        "inplace": true
       }
      },
      {
       "class": "BatchNorm2d",
       "kargs": {
        "num_features": 80
       }
      },
      {
       "class": "Flatten",
       "kargs": {}
      },
      {
       "class": "Linear",
       "kargs": {
        "in_features": 20480,
        "out_features": 256
       }
      },
      {
       "class": "ReLU",
       "kargs": {
        "inplace": true
       }
      },
      {
       "class": "BatchNorm1d",
       "kargs": {
        "num_features": 256
       }
      },
      {
       "class": "Linear",
       "kargs": {
        "in_features": 256,
        "out_features": 256
       }
      }
     ]
    }
   },
   "start_time": "2022-03-20T15:10:56.909080",
   "version": "2.3.4"
  }
 },
 "nbformat": 4,
 "nbformat_minor": 5
}