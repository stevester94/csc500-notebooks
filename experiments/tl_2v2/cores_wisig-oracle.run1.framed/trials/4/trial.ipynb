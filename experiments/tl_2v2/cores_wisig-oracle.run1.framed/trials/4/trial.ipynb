{
 "cells": [
  {
   "cell_type": "markdown",
   "id": "9fea5f46",
   "metadata": {
    "papermill": {
     "duration": 0.016668,
     "end_time": "2022-03-20T04:32:05.764035",
     "exception": false,
     "start_time": "2022-03-20T04:32:05.747367",
     "status": "completed"
    },
    "tags": []
   },
   "source": [
    "# Transfer Learning Template"
   ]
  },
  {
   "cell_type": "code",
   "execution_count": 1,
   "id": "0902182a",
   "metadata": {
    "execution": {
     "iopub.execute_input": "2022-03-20T04:32:05.800974Z",
     "iopub.status.busy": "2022-03-20T04:32:05.796076Z",
     "iopub.status.idle": "2022-03-20T04:32:06.712373Z",
     "shell.execute_reply": "2022-03-20T04:32:06.712080Z"
    },
    "papermill": {
     "duration": 0.93581,
     "end_time": "2022-03-20T04:32:06.712441",
     "exception": false,
     "start_time": "2022-03-20T04:32:05.776631",
     "status": "completed"
    },
    "tags": []
   },
   "outputs": [],
   "source": [
    "%load_ext autoreload\n",
    "%autoreload 2\n",
    "%matplotlib inline\n",
    "\n",
    "    \n",
    "import os, json, sys, time, random\n",
    "import numpy as np\n",
    "import torch\n",
    "from torch.optim import Adam\n",
    "from  easydict import EasyDict\n",
    "import matplotlib.pyplot as plt\n",
    "\n",
    "from steves_models.steves_ptn import Steves_Prototypical_Network\n",
    "\n",
    "from steves_utils.lazy_iterable_wrapper import Lazy_Iterable_Wrapper\n",
    "from steves_utils.iterable_aggregator import Iterable_Aggregator\n",
    "from steves_utils.ptn_train_eval_test_jig import  PTN_Train_Eval_Test_Jig\n",
    "from steves_utils.torch_sequential_builder import build_sequential\n",
    "from steves_utils.torch_utils import get_dataset_metrics, ptn_confusion_by_domain_over_dataloader\n",
    "from steves_utils.utils_v2 import (per_domain_accuracy_from_confusion, get_datasets_base_path)\n",
    "from steves_utils.PTN.utils import independent_accuracy_assesment\n",
    "\n",
    "from torch.utils.data import DataLoader\n",
    "\n",
    "from steves_utils.stratified_dataset.episodic_accessor import Episodic_Accessor_Factory\n",
    "\n",
    "from steves_utils.ptn_do_report import (\n",
    "    get_loss_curve,\n",
    "    get_results_table,\n",
    "    get_parameters_table,\n",
    "    get_domain_accuracies,\n",
    ")\n",
    "\n",
    "from steves_utils.transforms import get_chained_transform"
   ]
  },
  {
   "cell_type": "markdown",
   "id": "41c840b4",
   "metadata": {
    "papermill": {
     "duration": 0.012853,
     "end_time": "2022-03-20T04:32:06.738527",
     "exception": false,
     "start_time": "2022-03-20T04:32:06.725674",
     "status": "completed"
    },
    "tags": []
   },
   "source": [
    "# Allowed Parameters\n",
    "These are allowed parameters, not defaults\n",
    "Each of these values need to be present in the injected parameters (the notebook will raise an exception if they are not present)\n",
    "\n",
    "Papermill uses the cell tag \"parameters\" to inject the real parameters below this cell.\n",
    "Enable tags to see what I mean"
   ]
  },
  {
   "cell_type": "code",
   "execution_count": 2,
   "id": "fd44eb83",
   "metadata": {
    "execution": {
     "iopub.execute_input": "2022-03-20T04:32:06.766437Z",
     "iopub.status.busy": "2022-03-20T04:32:06.766177Z",
     "iopub.status.idle": "2022-03-20T04:32:06.777276Z",
     "shell.execute_reply": "2022-03-20T04:32:06.776912Z"
    },
    "papermill": {
     "duration": 0.025743,
     "end_time": "2022-03-20T04:32:06.777348",
     "exception": false,
     "start_time": "2022-03-20T04:32:06.751605",
     "status": "completed"
    },
    "tags": []
   },
   "outputs": [],
   "source": [
    "required_parameters = {\n",
    "    \"experiment_name\",\n",
    "    \"lr\",\n",
    "    \"device\",\n",
    "    \"seed\",\n",
    "    \"dataset_seed\",\n",
    "    \"n_shot\",\n",
    "    \"n_query\",\n",
    "    \"n_way\",\n",
    "    \"train_k_factor\",\n",
    "    \"val_k_factor\",\n",
    "    \"test_k_factor\",\n",
    "    \"n_epoch\",\n",
    "    \"patience\",\n",
    "    \"criteria_for_best\",\n",
    "    \"x_net\",\n",
    "    \"datasets\",\n",
    "    \"torch_default_dtype\",\n",
    "    \"NUM_LOGS_PER_EPOCH\",\n",
    "    \"BEST_MODEL_PATH\",\n",
    "    \"x_shape\",\n",
    "}"
   ]
  },
  {
   "cell_type": "code",
   "execution_count": 3,
   "id": "fa3f0049",
   "metadata": {
    "execution": {
     "iopub.execute_input": "2022-03-20T04:32:06.814859Z",
     "iopub.status.busy": "2022-03-20T04:32:06.813863Z",
     "iopub.status.idle": "2022-03-20T04:32:06.827227Z",
     "shell.execute_reply": "2022-03-20T04:32:06.826815Z"
    },
    "papermill": {
     "duration": 0.032054,
     "end_time": "2022-03-20T04:32:06.827333",
     "exception": false,
     "start_time": "2022-03-20T04:32:06.795279",
     "status": "completed"
    },
    "tags": [
     "parameters"
    ]
   },
   "outputs": [],
   "source": [
    "from steves_utils.CORES.utils import (\n",
    "    ALL_NODES,\n",
    "    ALL_NODES_MINIMUM_1000_EXAMPLES,\n",
    "    ALL_DAYS\n",
    ")\n",
    "\n",
    "from steves_utils.ORACLE.utils_v2 import (\n",
    "    ALL_DISTANCES_FEET_NARROWED,\n",
    "    ALL_RUNS,\n",
    "    ALL_SERIAL_NUMBERS,\n",
    ")\n",
    "\n",
    "standalone_parameters = {}\n",
    "standalone_parameters[\"experiment_name\"] = \"STANDALONE PTN\"\n",
    "standalone_parameters[\"lr\"] = 0.001\n",
    "standalone_parameters[\"device\"] = \"cuda\"\n",
    "\n",
    "standalone_parameters[\"seed\"] = 1337\n",
    "standalone_parameters[\"dataset_seed\"] = 1337\n",
    "\n",
    "standalone_parameters[\"n_way\"] = 8\n",
    "standalone_parameters[\"n_shot\"] = 3\n",
    "standalone_parameters[\"n_query\"]  = 2\n",
    "standalone_parameters[\"train_k_factor\"] = 1\n",
    "standalone_parameters[\"val_k_factor\"] = 2\n",
    "standalone_parameters[\"test_k_factor\"] = 2\n",
    "\n",
    "\n",
    "standalone_parameters[\"n_epoch\"] = 50\n",
    "\n",
    "standalone_parameters[\"patience\"] = 10\n",
    "standalone_parameters[\"criteria_for_best\"] = \"source_loss\"\n",
    "\n",
    "standalone_parameters[\"datasets\"] = [\n",
    "    {\n",
    "        \"labels\": ALL_SERIAL_NUMBERS,\n",
    "        \"domains\": ALL_DISTANCES_FEET_NARROWED,\n",
    "        \"num_examples_per_domain_per_label\": 100,\n",
    "        \"pickle_path\": os.path.join(get_datasets_base_path(), \"oracle.Run1_framed_2000Examples_stratified_ds.2022A.pkl\"),\n",
    "        \"source_or_target_dataset\": \"source\",\n",
    "        \"x_transforms\": [\"unit_mag\", \"minus_two\"],\n",
    "        \"episode_transforms\": [],\n",
    "        \"domain_prefix\": \"ORACLE_\"\n",
    "    },\n",
    "    {\n",
    "        \"labels\": ALL_NODES,\n",
    "        \"domains\": ALL_DAYS,\n",
    "        \"num_examples_per_domain_per_label\": 100,\n",
    "        \"pickle_path\": os.path.join(get_datasets_base_path(), \"cores.stratified_ds.2022A.pkl\"),\n",
    "        \"source_or_target_dataset\": \"target\",\n",
    "        \"x_transforms\": [\"unit_power\", \"times_zero\"],\n",
    "        \"episode_transforms\": [],\n",
    "        \"domain_prefix\": \"CORES_\"\n",
    "    }   \n",
    "]\n",
    "\n",
    "standalone_parameters[\"torch_default_dtype\"] = \"torch.float32\" \n",
    "\n",
    "\n",
    "\n",
    "standalone_parameters[\"x_net\"] =     [\n",
    "    {\"class\": \"nnReshape\", \"kargs\": {\"shape\":[-1, 1, 2, 256]}},\n",
    "    {\"class\": \"Conv2d\", \"kargs\": { \"in_channels\":1, \"out_channels\":256, \"kernel_size\":(1,7), \"bias\":False, \"padding\":(0,3), },},\n",
    "    {\"class\": \"ReLU\", \"kargs\": {\"inplace\": True}},\n",
    "    {\"class\": \"BatchNorm2d\", \"kargs\": {\"num_features\":256}},\n",
    "\n",
    "    {\"class\": \"Conv2d\", \"kargs\": { \"in_channels\":256, \"out_channels\":80, \"kernel_size\":(2,7), \"bias\":True, \"padding\":(0,3), },},\n",
    "    {\"class\": \"ReLU\", \"kargs\": {\"inplace\": True}},\n",
    "    {\"class\": \"BatchNorm2d\", \"kargs\": {\"num_features\":80}},\n",
    "    {\"class\": \"Flatten\", \"kargs\": {}},\n",
    "\n",
    "    {\"class\": \"Linear\", \"kargs\": {\"in_features\": 80*256, \"out_features\": 256}}, # 80 units per IQ pair\n",
    "    {\"class\": \"ReLU\", \"kargs\": {\"inplace\": True}},\n",
    "    {\"class\": \"BatchNorm1d\", \"kargs\": {\"num_features\":256}},\n",
    "\n",
    "    {\"class\": \"Linear\", \"kargs\": {\"in_features\": 256, \"out_features\": 256}},\n",
    "]\n",
    "\n",
    "# Parameters relevant to results\n",
    "# These parameters will basically never need to change\n",
    "standalone_parameters[\"NUM_LOGS_PER_EPOCH\"] = 10\n",
    "standalone_parameters[\"BEST_MODEL_PATH\"] = \"./best_model.pth\"\n",
    "\n",
    "\n",
    "\n",
    "\n"
   ]
  },
  {
   "cell_type": "code",
   "execution_count": 4,
   "id": "35affc33",
   "metadata": {
    "execution": {
     "iopub.execute_input": "2022-03-20T04:32:06.864438Z",
     "iopub.status.busy": "2022-03-20T04:32:06.863834Z",
     "iopub.status.idle": "2022-03-20T04:32:06.877446Z",
     "shell.execute_reply": "2022-03-20T04:32:06.876986Z"
    },
    "papermill": {
     "duration": 0.035099,
     "end_time": "2022-03-20T04:32:06.877538",
     "exception": false,
     "start_time": "2022-03-20T04:32:06.842439",
     "status": "completed"
    },
    "tags": [
     "injected-parameters"
    ]
   },
   "outputs": [],
   "source": [
    "# Parameters\n",
    "parameters = {\n",
    "    \"experiment_name\": \"tl_2v2:cores+wisig -> oracle.run1.framed\",\n",
    "    \"device\": \"cuda\",\n",
    "    \"lr\": 0.0001,\n",
    "    \"n_shot\": 3,\n",
    "    \"n_query\": 2,\n",
    "    \"train_k_factor\": 3,\n",
    "    \"val_k_factor\": 2,\n",
    "    \"test_k_factor\": 2,\n",
    "    \"torch_default_dtype\": \"torch.float32\",\n",
    "    \"n_epoch\": 50,\n",
    "    \"patience\": 3,\n",
    "    \"criteria_for_best\": \"target_accuracy\",\n",
    "    \"x_net\": [\n",
    "        {\"class\": \"nnReshape\", \"kargs\": {\"shape\": [-1, 1, 2, 256]}},\n",
    "        {\n",
    "            \"class\": \"Conv2d\",\n",
    "            \"kargs\": {\n",
    "                \"in_channels\": 1,\n",
    "                \"out_channels\": 256,\n",
    "                \"kernel_size\": [1, 7],\n",
    "                \"bias\": False,\n",
    "                \"padding\": [0, 3],\n",
    "            },\n",
    "        },\n",
    "        {\"class\": \"ReLU\", \"kargs\": {\"inplace\": True}},\n",
    "        {\"class\": \"BatchNorm2d\", \"kargs\": {\"num_features\": 256}},\n",
    "        {\n",
    "            \"class\": \"Conv2d\",\n",
    "            \"kargs\": {\n",
    "                \"in_channels\": 256,\n",
    "                \"out_channels\": 80,\n",
    "                \"kernel_size\": [2, 7],\n",
    "                \"bias\": True,\n",
    "                \"padding\": [0, 3],\n",
    "            },\n",
    "        },\n",
    "        {\"class\": \"ReLU\", \"kargs\": {\"inplace\": True}},\n",
    "        {\"class\": \"BatchNorm2d\", \"kargs\": {\"num_features\": 80}},\n",
    "        {\"class\": \"Flatten\", \"kargs\": {}},\n",
    "        {\"class\": \"Linear\", \"kargs\": {\"in_features\": 20480, \"out_features\": 256}},\n",
    "        {\"class\": \"ReLU\", \"kargs\": {\"inplace\": True}},\n",
    "        {\"class\": \"BatchNorm1d\", \"kargs\": {\"num_features\": 256}},\n",
    "        {\"class\": \"Linear\", \"kargs\": {\"in_features\": 256, \"out_features\": 256}},\n",
    "    ],\n",
    "    \"NUM_LOGS_PER_EPOCH\": 10,\n",
    "    \"BEST_MODEL_PATH\": \"./best_model.pth\",\n",
    "    \"n_way\": 16,\n",
    "    \"datasets\": [\n",
    "        {\n",
    "            \"labels\": [\n",
    "                \"1-10.\",\n",
    "                \"1-11.\",\n",
    "                \"1-15.\",\n",
    "                \"1-16.\",\n",
    "                \"1-17.\",\n",
    "                \"1-18.\",\n",
    "                \"1-19.\",\n",
    "                \"10-4.\",\n",
    "                \"10-7.\",\n",
    "                \"11-1.\",\n",
    "                \"11-14.\",\n",
    "                \"11-17.\",\n",
    "                \"11-20.\",\n",
    "                \"11-7.\",\n",
    "                \"13-20.\",\n",
    "                \"13-8.\",\n",
    "                \"14-10.\",\n",
    "                \"14-11.\",\n",
    "                \"14-14.\",\n",
    "                \"14-7.\",\n",
    "                \"15-1.\",\n",
    "                \"15-20.\",\n",
    "                \"16-1.\",\n",
    "                \"16-16.\",\n",
    "                \"17-10.\",\n",
    "                \"17-11.\",\n",
    "                \"17-2.\",\n",
    "                \"19-1.\",\n",
    "                \"19-16.\",\n",
    "                \"19-19.\",\n",
    "                \"19-20.\",\n",
    "                \"19-3.\",\n",
    "                \"2-10.\",\n",
    "                \"2-11.\",\n",
    "                \"2-17.\",\n",
    "                \"2-18.\",\n",
    "                \"2-20.\",\n",
    "                \"2-3.\",\n",
    "                \"2-4.\",\n",
    "                \"2-5.\",\n",
    "                \"2-6.\",\n",
    "                \"2-7.\",\n",
    "                \"2-8.\",\n",
    "                \"3-13.\",\n",
    "                \"3-18.\",\n",
    "                \"3-3.\",\n",
    "                \"4-1.\",\n",
    "                \"4-10.\",\n",
    "                \"4-11.\",\n",
    "                \"4-19.\",\n",
    "                \"5-5.\",\n",
    "                \"6-15.\",\n",
    "                \"7-10.\",\n",
    "                \"7-14.\",\n",
    "                \"8-18.\",\n",
    "                \"8-20.\",\n",
    "                \"8-3.\",\n",
    "                \"8-8.\",\n",
    "            ],\n",
    "            \"domains\": [1, 2, 3, 4, 5],\n",
    "            \"num_examples_per_domain_per_label\": -1,\n",
    "            \"pickle_path\": \"/mnt/wd500GB/CSC500/csc500-main/datasets/cores.stratified_ds.2022A.pkl\",\n",
    "            \"source_or_target_dataset\": \"source\",\n",
    "            \"x_transforms\": [\"unit_mag\"],\n",
    "            \"episode_transforms\": [],\n",
    "            \"domain_prefix\": \"C_\",\n",
    "        },\n",
    "        {\n",
    "            \"labels\": [\n",
    "                \"1-10\",\n",
    "                \"1-12\",\n",
    "                \"1-14\",\n",
    "                \"1-16\",\n",
    "                \"1-18\",\n",
    "                \"1-19\",\n",
    "                \"1-8\",\n",
    "                \"10-11\",\n",
    "                \"10-17\",\n",
    "                \"10-4\",\n",
    "                \"10-7\",\n",
    "                \"11-1\",\n",
    "                \"11-10\",\n",
    "                \"11-19\",\n",
    "                \"11-20\",\n",
    "                \"11-4\",\n",
    "                \"11-7\",\n",
    "                \"12-19\",\n",
    "                \"12-20\",\n",
    "                \"12-7\",\n",
    "                \"13-14\",\n",
    "                \"13-18\",\n",
    "                \"13-19\",\n",
    "                \"13-20\",\n",
    "                \"13-3\",\n",
    "                \"13-7\",\n",
    "                \"14-10\",\n",
    "                \"14-11\",\n",
    "                \"14-12\",\n",
    "                \"14-13\",\n",
    "                \"14-14\",\n",
    "                \"14-19\",\n",
    "                \"14-20\",\n",
    "                \"14-7\",\n",
    "                \"14-8\",\n",
    "                \"14-9\",\n",
    "                \"15-1\",\n",
    "                \"15-19\",\n",
    "                \"15-6\",\n",
    "                \"16-1\",\n",
    "                \"16-16\",\n",
    "                \"16-19\",\n",
    "                \"16-20\",\n",
    "                \"17-10\",\n",
    "                \"17-11\",\n",
    "                \"18-1\",\n",
    "                \"18-10\",\n",
    "                \"18-11\",\n",
    "                \"18-12\",\n",
    "                \"18-13\",\n",
    "                \"18-14\",\n",
    "                \"18-15\",\n",
    "                \"18-16\",\n",
    "                \"18-17\",\n",
    "                \"18-19\",\n",
    "                \"18-2\",\n",
    "                \"18-20\",\n",
    "                \"18-4\",\n",
    "                \"18-5\",\n",
    "                \"18-7\",\n",
    "                \"18-8\",\n",
    "                \"18-9\",\n",
    "                \"19-1\",\n",
    "                \"19-10\",\n",
    "                \"19-11\",\n",
    "                \"19-12\",\n",
    "                \"19-13\",\n",
    "                \"19-14\",\n",
    "                \"19-15\",\n",
    "                \"19-19\",\n",
    "                \"19-2\",\n",
    "                \"19-20\",\n",
    "                \"19-3\",\n",
    "                \"19-4\",\n",
    "                \"19-6\",\n",
    "                \"19-7\",\n",
    "                \"19-8\",\n",
    "                \"19-9\",\n",
    "                \"2-1\",\n",
    "                \"2-13\",\n",
    "                \"2-15\",\n",
    "                \"2-3\",\n",
    "                \"2-4\",\n",
    "                \"2-5\",\n",
    "                \"2-6\",\n",
    "                \"2-7\",\n",
    "                \"2-8\",\n",
    "                \"20-1\",\n",
    "                \"20-12\",\n",
    "                \"20-14\",\n",
    "                \"20-15\",\n",
    "                \"20-16\",\n",
    "                \"20-18\",\n",
    "                \"20-19\",\n",
    "                \"20-20\",\n",
    "                \"20-3\",\n",
    "                \"20-4\",\n",
    "                \"20-5\",\n",
    "                \"20-7\",\n",
    "                \"20-8\",\n",
    "                \"3-1\",\n",
    "                \"3-13\",\n",
    "                \"3-18\",\n",
    "                \"3-2\",\n",
    "                \"3-8\",\n",
    "                \"4-1\",\n",
    "                \"4-10\",\n",
    "                \"4-11\",\n",
    "                \"5-1\",\n",
    "                \"5-5\",\n",
    "                \"6-1\",\n",
    "                \"6-15\",\n",
    "                \"6-6\",\n",
    "                \"7-10\",\n",
    "                \"7-11\",\n",
    "                \"7-12\",\n",
    "                \"7-13\",\n",
    "                \"7-14\",\n",
    "                \"7-7\",\n",
    "                \"7-8\",\n",
    "                \"7-9\",\n",
    "                \"8-1\",\n",
    "                \"8-13\",\n",
    "                \"8-14\",\n",
    "                \"8-18\",\n",
    "                \"8-20\",\n",
    "                \"8-3\",\n",
    "                \"8-8\",\n",
    "                \"9-1\",\n",
    "                \"9-7\",\n",
    "            ],\n",
    "            \"domains\": [1, 2, 3, 4],\n",
    "            \"num_examples_per_domain_per_label\": -1,\n",
    "            \"pickle_path\": \"/mnt/wd500GB/CSC500/csc500-main/datasets/wisig.node3-19.stratified_ds.2022A.pkl\",\n",
    "            \"source_or_target_dataset\": \"source\",\n",
    "            \"x_transforms\": [\"unit_mag\"],\n",
    "            \"episode_transforms\": [],\n",
    "            \"domain_prefix\": \"W_\",\n",
    "        },\n",
    "        {\n",
    "            \"labels\": [\n",
    "                \"3123D52\",\n",
    "                \"3123D65\",\n",
    "                \"3123D79\",\n",
    "                \"3123D80\",\n",
    "                \"3123D54\",\n",
    "                \"3123D70\",\n",
    "                \"3123D7B\",\n",
    "                \"3123D89\",\n",
    "                \"3123D58\",\n",
    "                \"3123D76\",\n",
    "                \"3123D7D\",\n",
    "                \"3123EFE\",\n",
    "                \"3123D64\",\n",
    "                \"3123D78\",\n",
    "                \"3123D7E\",\n",
    "                \"3124E4A\",\n",
    "            ],\n",
    "            \"domains\": [32, 38, 8, 44, 14, 50, 20, 26],\n",
    "            \"num_examples_per_domain_per_label\": 2000,\n",
    "            \"pickle_path\": \"/mnt/wd500GB/CSC500/csc500-main/datasets/oracle.Run1_framed_2000Examples_stratified_ds.2022A.pkl\",\n",
    "            \"source_or_target_dataset\": \"target\",\n",
    "            \"x_transforms\": [\"unit_mag\"],\n",
    "            \"episode_transforms\": [],\n",
    "            \"domain_prefix\": \"O_\",\n",
    "        },\n",
    "    ],\n",
    "    \"seed\": 420,\n",
    "    \"dataset_seed\": 420,\n",
    "}\n"
   ]
  },
  {
   "cell_type": "code",
   "execution_count": 5,
   "id": "8fa1cc33",
   "metadata": {
    "execution": {
     "iopub.execute_input": "2022-03-20T04:32:06.912597Z",
     "iopub.status.busy": "2022-03-20T04:32:06.912335Z",
     "iopub.status.idle": "2022-03-20T04:32:06.923094Z",
     "shell.execute_reply": "2022-03-20T04:32:06.922846Z"
    },
    "papermill": {
     "duration": 0.026822,
     "end_time": "2022-03-20T04:32:06.923143",
     "exception": false,
     "start_time": "2022-03-20T04:32:06.896321",
     "status": "completed"
    },
    "tags": []
   },
   "outputs": [],
   "source": [
    "# Set this to True if you want to run this template directly\n",
    "STANDALONE = False\n",
    "if STANDALONE:\n",
    "    print(\"parameters not injected, running with standalone_parameters\")\n",
    "    parameters = standalone_parameters\n",
    "\n",
    "if not 'parameters' in locals() and not 'parameters' in globals():\n",
    "    raise Exception(\"Parameter injection failed\")\n",
    "\n",
    "#Use an easy dict for all the parameters\n",
    "p = EasyDict(parameters)\n",
    "\n",
    "if \"x_shape\" not in p:\n",
    "    p.x_shape = [2,256] # Default to this if we dont supply x_shape\n",
    "\n",
    "\n",
    "supplied_keys = set(p.keys())\n",
    "\n",
    "if  supplied_keys != required_parameters:\n",
    "    print(\"Parameters are incorrect\")\n",
    "    if len(supplied_keys - required_parameters)>0: print(\"Shouldn't have:\", str(supplied_keys - required_parameters))\n",
    "    if len(required_parameters - supplied_keys)>0: print(\"Need to have:\", str(required_parameters - supplied_keys))\n",
    "    raise RuntimeError(\"Parameters are incorrect\")"
   ]
  },
  {
   "cell_type": "code",
   "execution_count": 6,
   "id": "3a028d58",
   "metadata": {
    "execution": {
     "iopub.execute_input": "2022-03-20T04:32:06.954514Z",
     "iopub.status.busy": "2022-03-20T04:32:06.954226Z",
     "iopub.status.idle": "2022-03-20T04:32:06.965191Z",
     "shell.execute_reply": "2022-03-20T04:32:06.964768Z"
    },
    "papermill": {
     "duration": 0.025392,
     "end_time": "2022-03-20T04:32:06.965283",
     "exception": false,
     "start_time": "2022-03-20T04:32:06.939891",
     "status": "completed"
    },
    "tags": []
   },
   "outputs": [],
   "source": [
    "###################################\n",
    "# Set the RNGs and make it all deterministic\n",
    "###################################\n",
    "np.random.seed(p.seed)\n",
    "random.seed(p.seed)\n",
    "torch.manual_seed(p.seed)\n",
    "\n",
    "torch.use_deterministic_algorithms(True) "
   ]
  },
  {
   "cell_type": "code",
   "execution_count": 7,
   "id": "b691acf6",
   "metadata": {
    "execution": {
     "iopub.execute_input": "2022-03-20T04:32:07.005687Z",
     "iopub.status.busy": "2022-03-20T04:32:06.997425Z",
     "iopub.status.idle": "2022-03-20T04:32:07.015766Z",
     "shell.execute_reply": "2022-03-20T04:32:07.015300Z"
    },
    "papermill": {
     "duration": 0.03251,
     "end_time": "2022-03-20T04:32:07.015859",
     "exception": false,
     "start_time": "2022-03-20T04:32:06.983349",
     "status": "completed"
    },
    "tags": []
   },
   "outputs": [],
   "source": [
    "###########################################\n",
    "# The stratified datasets honor this\n",
    "###########################################\n",
    "torch.set_default_dtype(eval(p.torch_default_dtype))"
   ]
  },
  {
   "cell_type": "code",
   "execution_count": 8,
   "id": "b5fba671",
   "metadata": {
    "execution": {
     "iopub.execute_input": "2022-03-20T04:32:07.048150Z",
     "iopub.status.busy": "2022-03-20T04:32:07.047893Z",
     "iopub.status.idle": "2022-03-20T04:32:07.087483Z",
     "shell.execute_reply": "2022-03-20T04:32:07.087087Z"
    },
    "papermill": {
     "duration": 0.054669,
     "end_time": "2022-03-20T04:32:07.087571",
     "exception": false,
     "start_time": "2022-03-20T04:32:07.032902",
     "status": "completed"
    },
    "tags": []
   },
   "outputs": [],
   "source": [
    "###################################\n",
    "# Build the network(s)\n",
    "# Note: It's critical to do this AFTER setting the RNG\n",
    "###################################\n",
    "x_net = build_sequential(p.x_net)"
   ]
  },
  {
   "cell_type": "code",
   "execution_count": 9,
   "id": "5d7e61cc",
   "metadata": {
    "execution": {
     "iopub.execute_input": "2022-03-20T04:32:07.120339Z",
     "iopub.status.busy": "2022-03-20T04:32:07.120087Z",
     "iopub.status.idle": "2022-03-20T04:32:07.134984Z",
     "shell.execute_reply": "2022-03-20T04:32:07.135326Z"
    },
    "papermill": {
     "duration": 0.030755,
     "end_time": "2022-03-20T04:32:07.135454",
     "exception": false,
     "start_time": "2022-03-20T04:32:07.104699",
     "status": "completed"
    },
    "tags": []
   },
   "outputs": [],
   "source": [
    "start_time_secs = time.time()"
   ]
  },
  {
   "cell_type": "code",
   "execution_count": 10,
   "id": "c6b67dfd",
   "metadata": {
    "execution": {
     "iopub.execute_input": "2022-03-20T04:32:07.169938Z",
     "iopub.status.busy": "2022-03-20T04:32:07.169445Z",
     "iopub.status.idle": "2022-03-20T04:32:07.184902Z",
     "shell.execute_reply": "2022-03-20T04:32:07.185293Z"
    },
    "papermill": {
     "duration": 0.031766,
     "end_time": "2022-03-20T04:32:07.185421",
     "exception": false,
     "start_time": "2022-03-20T04:32:07.153655",
     "status": "completed"
    },
    "tags": []
   },
   "outputs": [],
   "source": [
    "p.domains_source = []\n",
    "p.domains_target = []\n",
    "\n",
    "\n",
    "train_original_source = []\n",
    "val_original_source   = []\n",
    "test_original_source  = []\n",
    "\n",
    "train_original_target = []\n",
    "val_original_target   = []\n",
    "test_original_target  = []"
   ]
  },
  {
   "cell_type": "code",
   "execution_count": 11,
   "id": "e3d9c3d3",
   "metadata": {
    "execution": {
     "iopub.execute_input": "2022-03-20T04:32:07.242569Z",
     "iopub.status.busy": "2022-03-20T04:32:07.242315Z",
     "iopub.status.idle": "2022-03-20T04:32:07.252996Z",
     "shell.execute_reply": "2022-03-20T04:32:07.253190Z"
    },
    "papermill": {
     "duration": 0.051029,
     "end_time": "2022-03-20T04:32:07.253262",
     "exception": false,
     "start_time": "2022-03-20T04:32:07.202233",
     "status": "completed"
    },
    "tags": []
   },
   "outputs": [],
   "source": [
    "# global_x_transform_func = lambda x: normalize(x.to(torch.get_default_dtype()), \"unit_power\") # unit_power, unit_mag\n",
    "# global_x_transform_func = lambda x: normalize(x, \"unit_power\") # unit_power, unit_mag"
   ]
  },
  {
   "cell_type": "code",
   "execution_count": 12,
   "id": "acb78fd2",
   "metadata": {
    "execution": {
     "iopub.execute_input": "2022-03-20T04:32:07.290727Z",
     "iopub.status.busy": "2022-03-20T04:32:07.290443Z",
     "iopub.status.idle": "2022-03-20T04:32:07.302045Z",
     "shell.execute_reply": "2022-03-20T04:32:07.302422Z"
    },
    "papermill": {
     "duration": 0.030327,
     "end_time": "2022-03-20T04:32:07.302551",
     "exception": false,
     "start_time": "2022-03-20T04:32:07.272224",
     "status": "completed"
    },
    "tags": []
   },
   "outputs": [],
   "source": [
    "def add_dataset(\n",
    "    labels,\n",
    "    domains,\n",
    "    pickle_path,\n",
    "    x_transforms,\n",
    "    episode_transforms,\n",
    "    domain_prefix,\n",
    "    num_examples_per_domain_per_label,\n",
    "    source_or_target_dataset:str,\n",
    "    iterator_seed=p.seed,\n",
    "    dataset_seed=p.dataset_seed,\n",
    "    n_shot=p.n_shot,\n",
    "    n_way=p.n_way,\n",
    "    n_query=p.n_query,\n",
    "    train_val_test_k_factors=(p.train_k_factor,p.val_k_factor,p.test_k_factor),\n",
    "):\n",
    "   \n",
    "    if x_transforms == []: x_transform = None\n",
    "    else: x_transform = get_chained_transform(x_transforms)\n",
    "    \n",
    "    if episode_transforms == []: episode_transform = None\n",
    "    else: raise Exception(\"episode_transforms not implemented\")\n",
    "    \n",
    "    episode_transform = lambda tup, _prefix=domain_prefix: (_prefix + str(tup[0]), tup[1])\n",
    "\n",
    "\n",
    "    eaf = Episodic_Accessor_Factory(\n",
    "        labels=labels,\n",
    "        domains=domains,\n",
    "        num_examples_per_domain_per_label=num_examples_per_domain_per_label,\n",
    "        iterator_seed=iterator_seed,\n",
    "        dataset_seed=dataset_seed,\n",
    "        n_shot=n_shot,\n",
    "        n_way=n_way,\n",
    "        n_query=n_query,\n",
    "        train_val_test_k_factors=train_val_test_k_factors,\n",
    "        pickle_path=pickle_path,\n",
    "        x_transform_func=x_transform,\n",
    "    )\n",
    "\n",
    "    train, val, test = eaf.get_train(), eaf.get_val(), eaf.get_test()\n",
    "    train = Lazy_Iterable_Wrapper(train, episode_transform)\n",
    "    val = Lazy_Iterable_Wrapper(val, episode_transform)\n",
    "    test = Lazy_Iterable_Wrapper(test, episode_transform)\n",
    "\n",
    "    if source_or_target_dataset==\"source\":\n",
    "        train_original_source.append(train)\n",
    "        val_original_source.append(val)\n",
    "        test_original_source.append(test)\n",
    "\n",
    "        p.domains_source.extend(\n",
    "            [domain_prefix + str(u) for u in domains]\n",
    "        )\n",
    "    elif source_or_target_dataset==\"target\":\n",
    "        train_original_target.append(train)\n",
    "        val_original_target.append(val)\n",
    "        test_original_target.append(test)\n",
    "        p.domains_target.extend(\n",
    "            [domain_prefix + str(u) for u in domains]\n",
    "        )\n",
    "    else:\n",
    "        raise Exception(f\"invalid source_or_target_dataset: {source_or_target_dataset}\")\n",
    "    "
   ]
  },
  {
   "cell_type": "code",
   "execution_count": 13,
   "id": "fe266617",
   "metadata": {
    "execution": {
     "iopub.execute_input": "2022-03-20T04:32:07.336023Z",
     "iopub.status.busy": "2022-03-20T04:32:07.335762Z",
     "iopub.status.idle": "2022-03-20T04:32:53.744530Z",
     "shell.execute_reply": "2022-03-20T04:32:53.744039Z"
    },
    "papermill": {
     "duration": 46.425292,
     "end_time": "2022-03-20T04:32:53.744647",
     "exception": false,
     "start_time": "2022-03-20T04:32:07.319355",
     "status": "completed"
    },
    "tags": []
   },
   "outputs": [],
   "source": [
    "for ds in p.datasets:\n",
    "    add_dataset(**ds)"
   ]
  },
  {
   "cell_type": "code",
   "execution_count": 14,
   "id": "b90d65ac",
   "metadata": {
    "execution": {
     "iopub.execute_input": "2022-03-20T04:32:53.778178Z",
     "iopub.status.busy": "2022-03-20T04:32:53.777920Z",
     "iopub.status.idle": "2022-03-20T04:32:53.790195Z",
     "shell.execute_reply": "2022-03-20T04:32:53.789742Z"
    },
    "papermill": {
     "duration": 0.027543,
     "end_time": "2022-03-20T04:32:53.790297",
     "exception": false,
     "start_time": "2022-03-20T04:32:53.762754",
     "status": "completed"
    },
    "tags": []
   },
   "outputs": [],
   "source": [
    "# from steves_utils.CORES.utils import (\n",
    "#     ALL_NODES,\n",
    "#     ALL_NODES_MINIMUM_1000_EXAMPLES,\n",
    "#     ALL_DAYS\n",
    "# )\n",
    "\n",
    "# add_dataset(\n",
    "#     labels=ALL_NODES,\n",
    "#     domains = ALL_DAYS,\n",
    "#     num_examples_per_domain_per_label=100,\n",
    "#     pickle_path=os.path.join(get_datasets_base_path(), \"cores.stratified_ds.2022A.pkl\"),\n",
    "#     source_or_target_dataset=\"target\",\n",
    "#     x_transform_func=global_x_transform_func,\n",
    "#     domain_modifier=lambda u: f\"cores_{u}\"\n",
    "# )"
   ]
  },
  {
   "cell_type": "code",
   "execution_count": 15,
   "id": "76db484d",
   "metadata": {
    "execution": {
     "iopub.execute_input": "2022-03-20T04:32:53.824629Z",
     "iopub.status.busy": "2022-03-20T04:32:53.822517Z",
     "iopub.status.idle": "2022-03-20T04:32:53.837323Z",
     "shell.execute_reply": "2022-03-20T04:32:53.836903Z"
    },
    "papermill": {
     "duration": 0.030595,
     "end_time": "2022-03-20T04:32:53.837427",
     "exception": false,
     "start_time": "2022-03-20T04:32:53.806832",
     "status": "completed"
    },
    "tags": []
   },
   "outputs": [],
   "source": [
    "# from steves_utils.ORACLE.utils_v2 import (\n",
    "#     ALL_DISTANCES_FEET,\n",
    "#     ALL_RUNS,\n",
    "#     ALL_SERIAL_NUMBERS,\n",
    "# )\n",
    "\n",
    "\n",
    "# add_dataset(\n",
    "#     labels=ALL_SERIAL_NUMBERS,\n",
    "#     domains = list(set(ALL_DISTANCES_FEET) - {2,62}),\n",
    "#     num_examples_per_domain_per_label=100,\n",
    "#     pickle_path=os.path.join(get_datasets_base_path(), \"oracle.Run2_framed_2000Examples_stratified_ds.2022A.pkl\"),\n",
    "#     source_or_target_dataset=\"source\",\n",
    "#     x_transform_func=global_x_transform_func,\n",
    "#     domain_modifier=lambda u: f\"oracle1_{u}\"\n",
    "# )\n"
   ]
  },
  {
   "cell_type": "code",
   "execution_count": 16,
   "id": "97dea9d2",
   "metadata": {
    "execution": {
     "iopub.execute_input": "2022-03-20T04:32:53.872577Z",
     "iopub.status.busy": "2022-03-20T04:32:53.872326Z",
     "iopub.status.idle": "2022-03-20T04:32:53.886653Z",
     "shell.execute_reply": "2022-03-20T04:32:53.886141Z"
    },
    "papermill": {
     "duration": 0.030047,
     "end_time": "2022-03-20T04:32:53.886753",
     "exception": false,
     "start_time": "2022-03-20T04:32:53.856706",
     "status": "completed"
    },
    "tags": []
   },
   "outputs": [],
   "source": [
    "# from steves_utils.ORACLE.utils_v2 import (\n",
    "#     ALL_DISTANCES_FEET,\n",
    "#     ALL_RUNS,\n",
    "#     ALL_SERIAL_NUMBERS,\n",
    "# )\n",
    "\n",
    "\n",
    "# add_dataset(\n",
    "#     labels=ALL_SERIAL_NUMBERS,\n",
    "#     domains = list(set(ALL_DISTANCES_FEET) - {2,62,56}),\n",
    "#     num_examples_per_domain_per_label=100,\n",
    "#     pickle_path=os.path.join(get_datasets_base_path(), \"oracle.Run2_framed_2000Examples_stratified_ds.2022A.pkl\"),\n",
    "#     source_or_target_dataset=\"source\",\n",
    "#     x_transform_func=global_x_transform_func,\n",
    "#     domain_modifier=lambda u: f\"oracle2_{u}\"\n",
    "# )"
   ]
  },
  {
   "cell_type": "code",
   "execution_count": 17,
   "id": "6f289866",
   "metadata": {
    "execution": {
     "iopub.execute_input": "2022-03-20T04:32:53.929621Z",
     "iopub.status.busy": "2022-03-20T04:32:53.929097Z",
     "iopub.status.idle": "2022-03-20T04:32:53.935703Z",
     "shell.execute_reply": "2022-03-20T04:32:53.935227Z"
    },
    "papermill": {
     "duration": 0.030844,
     "end_time": "2022-03-20T04:32:53.935803",
     "exception": false,
     "start_time": "2022-03-20T04:32:53.904959",
     "status": "completed"
    },
    "tags": []
   },
   "outputs": [],
   "source": [
    "# add_dataset(\n",
    "#     labels=list(range(19)),\n",
    "#     domains = [0,1,2],\n",
    "#     num_examples_per_domain_per_label=100,\n",
    "#     pickle_path=os.path.join(get_datasets_base_path(), \"metehan.stratified_ds.2022A.pkl\"),\n",
    "#     source_or_target_dataset=\"target\",\n",
    "#     x_transform_func=global_x_transform_func,\n",
    "#     domain_modifier=lambda u: f\"met_{u}\"\n",
    "# )"
   ]
  },
  {
   "cell_type": "code",
   "execution_count": 18,
   "id": "86a863c3",
   "metadata": {
    "execution": {
     "iopub.execute_input": "2022-03-20T04:32:53.977199Z",
     "iopub.status.busy": "2022-03-20T04:32:53.969759Z",
     "iopub.status.idle": "2022-03-20T04:32:53.984901Z",
     "shell.execute_reply": "2022-03-20T04:32:53.985096Z"
    },
    "papermill": {
     "duration": 0.031225,
     "end_time": "2022-03-20T04:32:53.985154",
     "exception": false,
     "start_time": "2022-03-20T04:32:53.953929",
     "status": "completed"
    },
    "tags": []
   },
   "outputs": [],
   "source": [
    "# # from steves_utils.wisig.utils import (\n",
    "# #     ALL_NODES_MINIMUM_100_EXAMPLES,\n",
    "# #     ALL_NODES_MINIMUM_500_EXAMPLES,\n",
    "# #     ALL_NODES_MINIMUM_1000_EXAMPLES,\n",
    "# #     ALL_DAYS\n",
    "# # )\n",
    "\n",
    "# import steves_utils.wisig.utils as wisig\n",
    "\n",
    "\n",
    "# add_dataset(\n",
    "#     labels=wisig.ALL_NODES_MINIMUM_100_EXAMPLES,\n",
    "#     domains = wisig.ALL_DAYS,\n",
    "#     num_examples_per_domain_per_label=100,\n",
    "#     pickle_path=os.path.join(get_datasets_base_path(), \"wisig.node3-19.stratified_ds.2022A.pkl\"),\n",
    "#     source_or_target_dataset=\"target\",\n",
    "#     x_transform_func=global_x_transform_func,\n",
    "#     domain_modifier=lambda u: f\"wisig_{u}\"\n",
    "# )"
   ]
  },
  {
   "cell_type": "code",
   "execution_count": 19,
   "id": "fd5442bc",
   "metadata": {
    "execution": {
     "iopub.execute_input": "2022-03-20T04:32:54.016521Z",
     "iopub.status.busy": "2022-03-20T04:32:54.016254Z",
     "iopub.status.idle": "2022-03-20T04:32:54.027408Z",
     "shell.execute_reply": "2022-03-20T04:32:54.026944Z"
    },
    "papermill": {
     "duration": 0.028468,
     "end_time": "2022-03-20T04:32:54.027498",
     "exception": false,
     "start_time": "2022-03-20T04:32:53.999030",
     "status": "completed"
    },
    "tags": []
   },
   "outputs": [],
   "source": [
    "###################################\n",
    "# Build the dataset\n",
    "###################################\n",
    "train_original_source = Iterable_Aggregator(train_original_source, p.seed)\n",
    "val_original_source = Iterable_Aggregator(val_original_source, p.seed)\n",
    "test_original_source = Iterable_Aggregator(test_original_source, p.seed)\n",
    "\n",
    "\n",
    "train_original_target = Iterable_Aggregator(train_original_target, p.seed)\n",
    "val_original_target = Iterable_Aggregator(val_original_target, p.seed)\n",
    "test_original_target = Iterable_Aggregator(test_original_target, p.seed)\n",
    "\n",
    "# For CNN We only use X and Y. And we only train on the source.\n",
    "# Properly form the data using a transform lambda and Lazy_Iterable_Wrapper. Finally wrap them in a dataloader\n",
    "\n",
    "transform_lambda = lambda ex: ex[1] # Original is (<domain>, <episode>) so we strip down to episode only\n",
    "\n",
    "train_processed_source = Lazy_Iterable_Wrapper(train_original_source, transform_lambda)\n",
    "val_processed_source   = Lazy_Iterable_Wrapper(val_original_source, transform_lambda)\n",
    "test_processed_source  = Lazy_Iterable_Wrapper(test_original_source, transform_lambda)\n",
    "\n",
    "train_processed_target = Lazy_Iterable_Wrapper(train_original_target, transform_lambda)\n",
    "val_processed_target   = Lazy_Iterable_Wrapper(val_original_target, transform_lambda)\n",
    "test_processed_target  = Lazy_Iterable_Wrapper(test_original_target, transform_lambda)\n",
    "\n",
    "datasets = EasyDict({\n",
    "    \"source\": {\n",
    "        \"original\": {\"train\":train_original_source, \"val\":val_original_source, \"test\":test_original_source},\n",
    "        \"processed\": {\"train\":train_processed_source, \"val\":val_processed_source, \"test\":test_processed_source}\n",
    "    },\n",
    "    \"target\": {\n",
    "        \"original\": {\"train\":train_original_target, \"val\":val_original_target, \"test\":test_original_target},\n",
    "        \"processed\": {\"train\":train_processed_target, \"val\":val_processed_target, \"test\":test_processed_target}\n",
    "    },\n",
    "})"
   ]
  },
  {
   "cell_type": "code",
   "execution_count": 20,
   "id": "5b3c01fc",
   "metadata": {
    "execution": {
     "iopub.execute_input": "2022-03-20T04:32:54.060307Z",
     "iopub.status.busy": "2022-03-20T04:32:54.060056Z",
     "iopub.status.idle": "2022-03-20T04:33:03.141911Z",
     "shell.execute_reply": "2022-03-20T04:33:03.142375Z"
    },
    "papermill": {
     "duration": 9.098509,
     "end_time": "2022-03-20T04:33:03.142519",
     "exception": false,
     "start_time": "2022-03-20T04:32:54.044010",
     "status": "completed"
    },
    "tags": []
   },
   "outputs": [
    {
     "name": "stdout",
     "output_type": "stream",
     "text": [
      "{'C_2', 'C_4', 'C_5', 'W_1', 'C_1', 'W_2', 'W_3', 'C_3', 'W_4'}\n"
     ]
    },
    {
     "name": "stdout",
     "output_type": "stream",
     "text": [
      "{'O_32', 'O_50', 'O_44', 'O_14', 'O_38', 'O_20', 'O_8', 'O_26'}\n"
     ]
    },
    {
     "name": "stdout",
     "output_type": "stream",
     "text": [
      "tensor([[[-0.4531,  1.2046,  0.5952,  ...,  0.3947,  1.1178,  1.4620],\n",
      "         [-0.8147, -0.8478,  1.0041,  ..., -0.9410, -1.1194,  0.2763]],\n",
      "\n",
      "        [[-1.4549, -1.8942,  0.0950,  ..., -0.2913, -0.4206, -0.1947],\n",
      "         [ 0.2742, -1.3536, -1.0359,  ..., -0.0841, -0.6636, -0.5935]],\n",
      "\n",
      "        [[ 0.1590, -1.2656, -0.6832,  ...,  0.9303, -0.6234, -0.7052],\n",
      "         [ 1.2688,  0.1763, -0.9902,  ...,  1.3790,  1.1397, -0.2928]],\n",
      "\n",
      "        ...,\n",
      "\n",
      "        [[-0.1093, -0.7934, -0.3406,  ..., -1.1716, -0.7290,  0.7570],\n",
      "         [ 0.5998, -0.3104, -0.8515,  ...,  0.4727, -1.2505, -1.2749]],\n",
      "\n",
      "        [[ 0.4837, -1.0753,  0.0759,  ..., -0.8740, -0.7751,  0.9966],\n",
      "         [ 0.7901, -0.0910, -1.3330,  ...,  0.3620, -1.0774, -1.1377]],\n",
      "\n",
      "        [[-0.7524,  0.8484,  0.0327,  ...,  0.9679,  0.8704, -0.6266],\n",
      "         [-0.5404, -0.0853,  1.3781,  ..., -0.6410,  1.1181,  1.3735]]])\n"
     ]
    }
   ],
   "source": [
    "from steves_utils.transforms import get_average_magnitude, get_average_power\n",
    "\n",
    "print(set([u for u,_ in val_original_source]))\n",
    "print(set([u for u,_ in val_original_target]))\n",
    "\n",
    "s_x, s_y, q_x, q_y, _ = next(iter(train_processed_source))\n",
    "print(s_x)\n",
    "\n",
    "# for ds in [\n",
    "#     train_processed_source,\n",
    "#     val_processed_source,\n",
    "#     test_processed_source,\n",
    "#     train_processed_target,\n",
    "#     val_processed_target,\n",
    "#     test_processed_target\n",
    "# ]:\n",
    "#     for s_x, s_y, q_x, q_y, _ in ds:\n",
    "#         for X in (s_x, q_x):\n",
    "#             for x in X:\n",
    "#                 assert np.isclose(get_average_magnitude(x.numpy()), 1.0)\n",
    "#                 assert np.isclose(get_average_power(x.numpy()), 1.0)\n",
    "                "
   ]
  },
  {
   "cell_type": "code",
   "execution_count": 21,
   "id": "bbdacba1",
   "metadata": {
    "execution": {
     "iopub.execute_input": "2022-03-20T04:33:03.181522Z",
     "iopub.status.busy": "2022-03-20T04:33:03.179826Z",
     "iopub.status.idle": "2022-03-20T04:33:03.241334Z",
     "shell.execute_reply": "2022-03-20T04:33:03.241687Z"
    },
    "papermill": {
     "duration": 0.07983,
     "end_time": "2022-03-20T04:33:03.241804",
     "exception": false,
     "start_time": "2022-03-20T04:33:03.161974",
     "status": "completed"
    },
    "tags": []
   },
   "outputs": [
    {
     "name": "stdout",
     "output_type": "stream",
     "text": [
      "(2, 256)\n"
     ]
    }
   ],
   "source": [
    "###################################\n",
    "# Build the model\n",
    "###################################\n",
    "# easfsl only wants a tuple for the shape\n",
    "model = Steves_Prototypical_Network(x_net, device=p.device, x_shape=tuple(p.x_shape))\n",
    "optimizer = Adam(params=model.parameters(), lr=p.lr)"
   ]
  },
  {
   "cell_type": "code",
   "execution_count": 22,
   "id": "22b39ac5",
   "metadata": {
    "execution": {
     "iopub.execute_input": "2022-03-20T04:33:03.278651Z",
     "iopub.status.busy": "2022-03-20T04:33:03.276990Z",
     "iopub.status.idle": "2022-03-20T05:03:17.011119Z",
     "shell.execute_reply": "2022-03-20T05:03:17.010883Z"
    },
    "papermill": {
     "duration": 1813.750125,
     "end_time": "2022-03-20T05:03:17.011178",
     "exception": false,
     "start_time": "2022-03-20T04:33:03.261053",
     "status": "completed"
    },
    "tags": []
   },
   "outputs": [
    {
     "name": "stdout",
     "output_type": "stream",
     "text": [
      "epoch: 1, [batch: 1 / 13172], examples_per_second: 24.3928, train_label_loss: 2.6374, \n"
     ]
    },
    {
     "name": "stdout",
     "output_type": "stream",
     "text": [
      "epoch: 1, [batch: 1318 / 13172], examples_per_second: 3142.7702, train_label_loss: 0.0723, \n"
     ]
    },
    {
     "name": "stdout",
     "output_type": "stream",
     "text": [
      "epoch: 1, [batch: 2635 / 13172], examples_per_second: 3124.0458, train_label_loss: 0.4871, \n"
     ]
    },
    {
     "name": "stdout",
     "output_type": "stream",
     "text": [
      "epoch: 1, [batch: 3952 / 13172], examples_per_second: 3125.7862, train_label_loss: 0.0038, \n"
     ]
    },
    {
     "name": "stdout",
     "output_type": "stream",
     "text": [
      "epoch: 1, [batch: 5269 / 13172], examples_per_second: 3116.2616, train_label_loss: 0.0942, \n"
     ]
    },
    {
     "name": "stdout",
     "output_type": "stream",
     "text": [
      "epoch: 1, [batch: 6586 / 13172], examples_per_second: 3112.7813, train_label_loss: 0.0014, \n"
     ]
    },
    {
     "name": "stdout",
     "output_type": "stream",
     "text": [
      "epoch: 1, [batch: 7903 / 13172], examples_per_second: 3119.2309, train_label_loss: 0.0041, \n"
     ]
    },
    {
     "name": "stdout",
     "output_type": "stream",
     "text": [
      "epoch: 1, [batch: 9220 / 13172], examples_per_second: 3102.9609, train_label_loss: 0.0022, \n"
     ]
    },
    {
     "name": "stdout",
     "output_type": "stream",
     "text": [
      "epoch: 1, [batch: 10537 / 13172], examples_per_second: 3116.9651, train_label_loss: 0.1007, \n"
     ]
    },
    {
     "name": "stdout",
     "output_type": "stream",
     "text": [
      "epoch: 1, [batch: 11854 / 13172], examples_per_second: 3114.8248, train_label_loss: 0.2197, \n"
     ]
    },
    {
     "name": "stdout",
     "output_type": "stream",
     "text": [
      "=============================================================\n",
      "epoch: 1, source_val_acc_label: 0.9789, target_val_acc_label: 0.2029, source_val_label_loss: 0.0971, target_val_label_loss: 2.4647, \n",
      "=============================================================\n"
     ]
    },
    {
     "name": "stdout",
     "output_type": "stream",
     "text": [
      "New best\n"
     ]
    },
    {
     "name": "stdout",
     "output_type": "stream",
     "text": [
      "epoch: 2, [batch: 1 / 13187], examples_per_second: 2.6446, train_label_loss: 0.0079, \n"
     ]
    },
    {
     "name": "stdout",
     "output_type": "stream",
     "text": [
      "epoch: 2, [batch: 1319 / 13187], examples_per_second: 3139.0243, train_label_loss: 0.1842, \n"
     ]
    },
    {
     "name": "stdout",
     "output_type": "stream",
     "text": [
      "epoch: 2, [batch: 2638 / 13187], examples_per_second: 3129.6796, train_label_loss: 0.0096, \n"
     ]
    },
    {
     "name": "stdout",
     "output_type": "stream",
     "text": [
      "epoch: 2, [batch: 3956 / 13187], examples_per_second: 3145.4405, train_label_loss: 0.0071, \n"
     ]
    },
    {
     "name": "stdout",
     "output_type": "stream",
     "text": [
      "epoch: 2, [batch: 5275 / 13187], examples_per_second: 3126.1801, train_label_loss: 0.0005, \n"
     ]
    },
    {
     "name": "stdout",
     "output_type": "stream",
     "text": [
      "epoch: 2, [batch: 6594 / 13187], examples_per_second: 3140.4723, train_label_loss: 0.0024, \n"
     ]
    },
    {
     "name": "stdout",
     "output_type": "stream",
     "text": [
      "epoch: 2, [batch: 7912 / 13187], examples_per_second: 3143.1235, train_label_loss: 0.0019, \n"
     ]
    },
    {
     "name": "stdout",
     "output_type": "stream",
     "text": [
      "epoch: 2, [batch: 9231 / 13187], examples_per_second: 3129.4133, train_label_loss: 0.2941, \n"
     ]
    },
    {
     "name": "stdout",
     "output_type": "stream",
     "text": [
      "epoch: 2, [batch: 10549 / 13187], examples_per_second: 3138.6161, train_label_loss: 0.0063, \n"
     ]
    },
    {
     "name": "stdout",
     "output_type": "stream",
     "text": [
      "epoch: 2, [batch: 11868 / 13187], examples_per_second: 3144.7463, train_label_loss: 0.0005, \n"
     ]
    },
    {
     "name": "stdout",
     "output_type": "stream",
     "text": [
      "=============================================================\n",
      "epoch: 2, source_val_acc_label: 0.9844, target_val_acc_label: 0.1860, source_val_label_loss: 0.0674, target_val_label_loss: 2.5130, \n",
      "=============================================================\n"
     ]
    },
    {
     "name": "stdout",
     "output_type": "stream",
     "text": [
      "epoch: 3, [batch: 1 / 13151], examples_per_second: 2.6374, train_label_loss: 0.0030, \n"
     ]
    },
    {
     "name": "stdout",
     "output_type": "stream",
     "text": [
      "epoch: 3, [batch: 1316 / 13151], examples_per_second: 3136.6772, train_label_loss: 0.0032, \n"
     ]
    },
    {
     "name": "stdout",
     "output_type": "stream",
     "text": [
      "epoch: 3, [batch: 2631 / 13151], examples_per_second: 3136.6808, train_label_loss: 0.0166, \n"
     ]
    },
    {
     "name": "stdout",
     "output_type": "stream",
     "text": [
      "epoch: 3, [batch: 3946 / 13151], examples_per_second: 3137.6923, train_label_loss: 0.0010, \n"
     ]
    },
    {
     "name": "stdout",
     "output_type": "stream",
     "text": [
      "epoch: 3, [batch: 5261 / 13151], examples_per_second: 3133.6869, train_label_loss: 0.0662, \n"
     ]
    },
    {
     "name": "stdout",
     "output_type": "stream",
     "text": [
      "epoch: 3, [batch: 6576 / 13151], examples_per_second: 3138.0272, train_label_loss: 0.4639, \n"
     ]
    },
    {
     "name": "stdout",
     "output_type": "stream",
     "text": [
      "epoch: 3, [batch: 7891 / 13151], examples_per_second: 3141.8641, train_label_loss: 0.0008, \n"
     ]
    },
    {
     "name": "stdout",
     "output_type": "stream",
     "text": [
      "epoch: 3, [batch: 9206 / 13151], examples_per_second: 3132.4825, train_label_loss: 0.0086, \n"
     ]
    },
    {
     "name": "stdout",
     "output_type": "stream",
     "text": [
      "epoch: 3, [batch: 10521 / 13151], examples_per_second: 3136.6106, train_label_loss: 0.0001, \n"
     ]
    },
    {
     "name": "stdout",
     "output_type": "stream",
     "text": [
      "epoch: 3, [batch: 11836 / 13151], examples_per_second: 3138.1449, train_label_loss: 0.0007, \n"
     ]
    },
    {
     "name": "stdout",
     "output_type": "stream",
     "text": [
      "=============================================================\n",
      "epoch: 3, source_val_acc_label: 0.9856, target_val_acc_label: 0.1929, source_val_label_loss: 0.0615, target_val_label_loss: 2.5169, \n",
      "=============================================================\n"
     ]
    },
    {
     "name": "stdout",
     "output_type": "stream",
     "text": [
      "epoch: 4, [batch: 1 / 13164], examples_per_second: 2.6631, train_label_loss: 0.0021, \n"
     ]
    },
    {
     "name": "stdout",
     "output_type": "stream",
     "text": [
      "epoch: 4, [batch: 1317 / 13164], examples_per_second: 3133.6514, train_label_loss: 0.0044, \n"
     ]
    },
    {
     "name": "stdout",
     "output_type": "stream",
     "text": [
      "epoch: 4, [batch: 2633 / 13164], examples_per_second: 3136.4332, train_label_loss: 0.0635, \n"
     ]
    },
    {
     "name": "stdout",
     "output_type": "stream",
     "text": [
      "epoch: 4, [batch: 3949 / 13164], examples_per_second: 3146.8841, train_label_loss: 0.0004, \n"
     ]
    },
    {
     "name": "stdout",
     "output_type": "stream",
     "text": [
      "epoch: 4, [batch: 5266 / 13164], examples_per_second: 3127.3572, train_label_loss: 0.1697, \n"
     ]
    },
    {
     "name": "stdout",
     "output_type": "stream",
     "text": [
      "epoch: 4, [batch: 6582 / 13164], examples_per_second: 3149.6966, train_label_loss: 0.0115, \n"
     ]
    },
    {
     "name": "stdout",
     "output_type": "stream",
     "text": [
      "epoch: 4, [batch: 7898 / 13164], examples_per_second: 3144.4395, train_label_loss: 0.0820, \n"
     ]
    },
    {
     "name": "stdout",
     "output_type": "stream",
     "text": [
      "epoch: 4, [batch: 9215 / 13164], examples_per_second: 3139.6450, train_label_loss: 0.0005, \n"
     ]
    },
    {
     "name": "stdout",
     "output_type": "stream",
     "text": [
      "epoch: 4, [batch: 10531 / 13164], examples_per_second: 3144.0055, train_label_loss: 0.0054, \n"
     ]
    },
    {
     "name": "stdout",
     "output_type": "stream",
     "text": [
      "epoch: 4, [batch: 11847 / 13164], examples_per_second: 3143.6591, train_label_loss: 0.0674, \n"
     ]
    },
    {
     "name": "stdout",
     "output_type": "stream",
     "text": [
      "=============================================================\n",
      "epoch: 4, source_val_acc_label: 0.9852, target_val_acc_label: 0.1715, source_val_label_loss: 0.0630, target_val_label_loss: 2.7095, \n",
      "=============================================================\n"
     ]
    },
    {
     "name": "stdout",
     "output_type": "stream",
     "text": [
      "epoch: 5, [batch: 1 / 13144], examples_per_second: 2.6553, train_label_loss: 0.0095, \n"
     ]
    },
    {
     "name": "stdout",
     "output_type": "stream",
     "text": [
      "epoch: 5, [batch: 1315 / 13144], examples_per_second: 3127.6619, train_label_loss: 0.0002, \n"
     ]
    },
    {
     "name": "stdout",
     "output_type": "stream",
     "text": [
      "epoch: 5, [batch: 2629 / 13144], examples_per_second: 3135.1227, train_label_loss: 0.0006, \n"
     ]
    },
    {
     "name": "stdout",
     "output_type": "stream",
     "text": [
      "epoch: 5, [batch: 3943 / 13144], examples_per_second: 3136.0656, train_label_loss: 0.0002, \n"
     ]
    },
    {
     "name": "stdout",
     "output_type": "stream",
     "text": [
      "epoch: 5, [batch: 5258 / 13144], examples_per_second: 3127.1420, train_label_loss: 0.0002, \n"
     ]
    },
    {
     "name": "stdout",
     "output_type": "stream",
     "text": [
      "epoch: 5, [batch: 6572 / 13144], examples_per_second: 3140.9487, train_label_loss: 0.1442, \n"
     ]
    },
    {
     "name": "stdout",
     "output_type": "stream",
     "text": [
      "epoch: 5, [batch: 7886 / 13144], examples_per_second: 3144.3729, train_label_loss: 0.4521, \n"
     ]
    },
    {
     "name": "stdout",
     "output_type": "stream",
     "text": [
      "epoch: 5, [batch: 9201 / 13144], examples_per_second: 3128.0480, train_label_loss: 0.0001, \n"
     ]
    },
    {
     "name": "stdout",
     "output_type": "stream",
     "text": [
      "epoch: 5, [batch: 10515 / 13144], examples_per_second: 3132.7429, train_label_loss: 0.0001, \n"
     ]
    },
    {
     "name": "stdout",
     "output_type": "stream",
     "text": [
      "epoch: 5, [batch: 11829 / 13144], examples_per_second: 3136.3982, train_label_loss: 0.1855, \n"
     ]
    },
    {
     "name": "stdout",
     "output_type": "stream",
     "text": [
      "=============================================================\n",
      "epoch: 5, source_val_acc_label: 0.9860, target_val_acc_label: 0.1570, source_val_label_loss: 0.0633, target_val_label_loss: 2.8083, \n",
      "=============================================================\n"
     ]
    },
    {
     "name": "stdout",
     "output_type": "stream",
     "text": [
      "Patience (3) exhausted\n"
     ]
    }
   ],
   "source": [
    "###################################\n",
    "# train\n",
    "###################################\n",
    "jig = PTN_Train_Eval_Test_Jig(model, p.BEST_MODEL_PATH, p.device)\n",
    "\n",
    "jig.train(\n",
    "    train_iterable=datasets.source.processed.train,\n",
    "    source_val_iterable=datasets.source.processed.val,\n",
    "    target_val_iterable=datasets.target.processed.val,\n",
    "    num_epochs=p.n_epoch,\n",
    "    num_logs_per_epoch=p.NUM_LOGS_PER_EPOCH,\n",
    "    patience=p.patience,\n",
    "    optimizer=optimizer,\n",
    "    criteria_for_best=p.criteria_for_best,\n",
    ")"
   ]
  },
  {
   "cell_type": "code",
   "execution_count": 23,
   "id": "31e8fabf",
   "metadata": {
    "execution": {
     "iopub.execute_input": "2022-03-20T05:03:17.063489Z",
     "iopub.status.busy": "2022-03-20T05:03:17.062580Z",
     "iopub.status.idle": "2022-03-20T05:03:17.078509Z",
     "shell.execute_reply": "2022-03-20T05:03:17.078062Z"
    },
    "papermill": {
     "duration": 0.042571,
     "end_time": "2022-03-20T05:03:17.078600",
     "exception": false,
     "start_time": "2022-03-20T05:03:17.036029",
     "status": "completed"
    },
    "tags": []
   },
   "outputs": [],
   "source": [
    "total_experiment_time_secs = time.time() - start_time_secs"
   ]
  },
  {
   "cell_type": "code",
   "execution_count": 24,
   "id": "87b9595b",
   "metadata": {
    "execution": {
     "iopub.execute_input": "2022-03-20T05:03:17.136291Z",
     "iopub.status.busy": "2022-03-20T05:03:17.136021Z",
     "iopub.status.idle": "2022-03-20T05:05:43.141285Z",
     "shell.execute_reply": "2022-03-20T05:05:43.141714Z"
    },
    "papermill": {
     "duration": 146.034426,
     "end_time": "2022-03-20T05:05:43.141855",
     "exception": false,
     "start_time": "2022-03-20T05:03:17.107429",
     "status": "completed"
    },
    "tags": []
   },
   "outputs": [],
   "source": [
    "###################################\n",
    "# Evaluate the model\n",
    "###################################\n",
    "source_test_label_accuracy, source_test_label_loss = jig.test(datasets.source.processed.test)\n",
    "target_test_label_accuracy, target_test_label_loss = jig.test(datasets.target.processed.test)\n",
    "\n",
    "source_val_label_accuracy, source_val_label_loss = jig.test(datasets.source.processed.val)\n",
    "target_val_label_accuracy, target_val_label_loss = jig.test(datasets.target.processed.val)\n",
    "\n",
    "history = jig.get_history()\n",
    "\n",
    "total_epochs_trained = len(history[\"epoch_indices\"])\n",
    "\n",
    "val_dl = Iterable_Aggregator((datasets.source.original.val,datasets.target.original.val))\n",
    "\n",
    "confusion = ptn_confusion_by_domain_over_dataloader(model, p.device, val_dl)\n",
    "per_domain_accuracy = per_domain_accuracy_from_confusion(confusion)\n",
    "\n",
    "# Add a key to per_domain_accuracy for if it was a source domain\n",
    "for domain, accuracy in per_domain_accuracy.items():\n",
    "    per_domain_accuracy[domain] = {\n",
    "        \"accuracy\": accuracy,\n",
    "        \"source?\": domain in p.domains_source\n",
    "    }\n",
    "\n",
    "# Do an independent accuracy assesment JUST TO BE SURE!\n",
    "# _source_test_label_accuracy = independent_accuracy_assesment(model, datasets.source.processed.test, p.device)\n",
    "# _target_test_label_accuracy = independent_accuracy_assesment(model, datasets.target.processed.test, p.device)\n",
    "# _source_val_label_accuracy = independent_accuracy_assesment(model, datasets.source.processed.val, p.device)\n",
    "# _target_val_label_accuracy = independent_accuracy_assesment(model, datasets.target.processed.val, p.device)\n",
    "\n",
    "# assert(_source_test_label_accuracy == source_test_label_accuracy)\n",
    "# assert(_target_test_label_accuracy == target_test_label_accuracy)\n",
    "# assert(_source_val_label_accuracy == source_val_label_accuracy)\n",
    "# assert(_target_val_label_accuracy == target_val_label_accuracy)\n",
    "\n",
    "experiment = {\n",
    "    \"experiment_name\": p.experiment_name,\n",
    "    \"parameters\": dict(p),\n",
    "    \"results\": {\n",
    "        \"source_test_label_accuracy\": source_test_label_accuracy,\n",
    "        \"source_test_label_loss\": source_test_label_loss,\n",
    "        \"target_test_label_accuracy\": target_test_label_accuracy,\n",
    "        \"target_test_label_loss\": target_test_label_loss,\n",
    "        \"source_val_label_accuracy\": source_val_label_accuracy,\n",
    "        \"source_val_label_loss\": source_val_label_loss,\n",
    "        \"target_val_label_accuracy\": target_val_label_accuracy,\n",
    "        \"target_val_label_loss\": target_val_label_loss,\n",
    "        \"total_epochs_trained\": total_epochs_trained,\n",
    "        \"total_experiment_time_secs\": total_experiment_time_secs,\n",
    "        \"confusion\": confusion,\n",
    "        \"per_domain_accuracy\": per_domain_accuracy,\n",
    "    },\n",
    "    \"history\": history,\n",
    "    \"dataset_metrics\": get_dataset_metrics(datasets, \"ptn\"),\n",
    "}"
   ]
  },
  {
   "cell_type": "code",
   "execution_count": 25,
   "id": "54a21829",
   "metadata": {
    "execution": {
     "iopub.execute_input": "2022-03-20T05:05:43.200644Z",
     "iopub.status.busy": "2022-03-20T05:05:43.199743Z",
     "iopub.status.idle": "2022-03-20T05:05:43.318034Z",
     "shell.execute_reply": "2022-03-20T05:05:43.318471Z"
    },
    "papermill": {
     "duration": 0.145068,
     "end_time": "2022-03-20T05:05:43.318606",
     "exception": false,
     "start_time": "2022-03-20T05:05:43.173538",
     "status": "completed"
    },
    "tags": []
   },
   "outputs": [
    {
     "data": {
      "image/png": "[encoded data removed]",
      "text/plain": [
       "<Figure size 1080x504 with 1 Axes>"
      ]
     },
     "metadata": {
      "needs_background": "light"
     },
     "output_type": "display_data"
    }
   ],
   "source": [
    "ax = get_loss_curve(experiment)\n",
    "plt.show()"
   ]
  },
  {
   "cell_type": "code",
   "execution_count": 26,
   "id": "fd8a0f60",
   "metadata": {
    "execution": {
     "iopub.execute_input": "2022-03-20T05:05:43.375476Z",
     "iopub.status.busy": "2022-03-20T05:05:43.375213Z",
     "iopub.status.idle": "2022-03-20T05:05:43.518098Z",
     "shell.execute_reply": "2022-03-20T05:05:43.518388Z"
    },
    "papermill": {
     "duration": 0.171373,
     "end_time": "2022-03-20T05:05:43.518476",
     "exception": false,
     "start_time": "2022-03-20T05:05:43.347103",
     "status": "completed"
    },
    "tags": []
   },
   "outputs": [
    {
     "data": {
      "text/plain": [
       "<AxesSubplot:title={'center':'Results'}>"
      ]
     },
     "execution_count": 26,
     "metadata": {},
     "output_type": "execute_result"
    },
    {
     "data": {
      "image/png": "[encoded data removed]",
      "text/plain": [
       "<Figure size 1080x504 with 1 Axes>"
      ]
     },
     "metadata": {
      "needs_background": "light"
     },
     "output_type": "display_data"
    }
   ],
   "source": [
    "get_results_table(experiment)"
   ]
  },
  {
   "cell_type": "code",
   "execution_count": 27,
   "id": "cf8dc689",
   "metadata": {
    "execution": {
     "iopub.execute_input": "2022-03-20T05:05:43.582632Z",
     "iopub.status.busy": "2022-03-20T05:05:43.582375Z",
     "iopub.status.idle": "2022-03-20T05:05:43.730768Z",
     "shell.execute_reply": "2022-03-20T05:05:43.730315Z"
    },
    "papermill": {
     "duration": 0.17772,
     "end_time": "2022-03-20T05:05:43.730866",
     "exception": false,
     "start_time": "2022-03-20T05:05:43.553146",
     "status": "completed"
    },
    "tags": []
   },
   "outputs": [
    {
     "data": {
      "text/plain": [
       "<AxesSubplot:title={'center':'Per Domain Validation Accuracy'}, xlabel='domain'>"
      ]
     },
     "execution_count": 27,
     "metadata": {},
     "output_type": "execute_result"
    },
    {
     "data": {
      "image/png": "[encoded data removed]",
      "text/plain": [
       "<Figure size 1080x504 with 1 Axes>"
      ]
     },
     "metadata": {
      "needs_background": "light"
     },
     "output_type": "display_data"
    }
   ],
   "source": [
    "get_domain_accuracies(experiment)"
   ]
  },
  {
   "cell_type": "code",
   "execution_count": 28,
   "id": "a74ae082",
   "metadata": {
    "execution": {
     "iopub.execute_input": "2022-03-20T05:05:43.793856Z",
     "iopub.status.busy": "2022-03-20T05:05:43.793602Z",
     "iopub.status.idle": "2022-03-20T05:05:43.809701Z",
     "shell.execute_reply": "2022-03-20T05:05:43.809993Z"
    },
    "papermill": {
     "duration": 0.04736,
     "end_time": "2022-03-20T05:05:43.810081",
     "exception": false,
     "start_time": "2022-03-20T05:05:43.762721",
     "status": "completed"
    },
    "tags": []
   },
   "outputs": [
    {
     "name": "stdout",
     "output_type": "stream",
     "text": [
      "Source Test Label Accuracy: 0.9790091792656588 Target Test Label Accuracy: 0.20377604166666666\n",
      "Source Val Label Accuracy: 0.9789435749588138 Target Val Label Accuracy: 0.2029296875\n"
     ]
    }
   ],
   "source": [
    "print(\"Source Test Label Accuracy:\", experiment[\"results\"][\"source_test_label_accuracy\"], \"Target Test Label Accuracy:\", experiment[\"results\"][\"target_test_label_accuracy\"])\n",
    "print(\"Source Val Label Accuracy:\", experiment[\"results\"][\"source_val_label_accuracy\"], \"Target Val Label Accuracy:\", experiment[\"results\"][\"target_val_label_accuracy\"])"
   ]
  },
  {
   "cell_type": "code",
   "execution_count": 29,
   "id": "dacca602",
   "metadata": {
    "execution": {
     "iopub.execute_input": "2022-03-20T05:05:43.872311Z",
     "iopub.status.busy": "2022-03-20T05:05:43.872059Z",
     "iopub.status.idle": "2022-03-20T05:05:43.890066Z",
     "shell.execute_reply": "2022-03-20T05:05:43.890500Z"
    },
    "papermill": {
     "duration": 0.048407,
     "end_time": "2022-03-20T05:05:43.890622",
     "exception": false,
     "start_time": "2022-03-20T05:05:43.842215",
     "status": "completed"
    },
    "tags": [
     "experiment_json"
    ]
   },
   "outputs": [
    {
     "data": {
      "text/plain": [
       "'{\"experiment_name\": \"tl_2v2:cores+wisig -> oracle.run1.framed\", \"parameters\": {\"experiment_name\": \"tl_2v2:cores+wisig -> oracle.run1.framed\", \"device\": \"cuda\", \"lr\": 0.0001, \"n_shot\": 3, \"n_query\": 2, \"train_k_factor\": 3, \"val_k_factor\": 2, \"test_k_factor\": 2, \"torch_default_dtype\": \"torch.float32\", \"n_epoch\": 50, \"patience\": 3, \"criteria_for_best\": \"target_accuracy\", \"x_net\": [{\"class\": \"nnReshape\", \"kargs\": {\"shape\": [-1, 1, 2, 256]}}, {\"class\": \"Conv2d\", \"kargs\": {\"in_channels\": 1, \"out_channels\": 256, \"kernel_size\": [1, 7], \"bias\": false, \"padding\": [0, 3]}}, {\"class\": \"ReLU\", \"kargs\": {\"inplace\": true}}, {\"class\": \"BatchNorm2d\", \"kargs\": {\"num_features\": 256}}, {\"class\": \"Conv2d\", \"kargs\": {\"in_channels\": 256, \"out_channels\": 80, \"kernel_size\": [2, 7], \"bias\": true, \"padding\": [0, 3]}}, {\"class\": \"ReLU\", \"kargs\": {\"inplace\": true}}, {\"class\": \"BatchNorm2d\", \"kargs\": {\"num_features\": 80}}, {\"class\": \"Flatten\", \"kargs\": {}}, {\"class\": \"Linear\", \"kargs\": {\"in_features\": 20480, \"out_features\": 256}}, {\"class\": \"ReLU\", \"kargs\": {\"inplace\": true}}, {\"class\": \"BatchNorm1d\", \"kargs\": {\"num_features\": 256}}, {\"class\": \"Linear\", \"kargs\": {\"in_features\": 256, \"out_features\": 256}}], \"NUM_LOGS_PER_EPOCH\": 10, \"BEST_MODEL_PATH\": \"./best_model.pth\", \"n_way\": 16, \"datasets\": [{\"labels\": [\"1-10.\", \"1-11.\", \"1-15.\", \"1-16.\", \"1-17.\", \"1-18.\", \"1-19.\", \"10-4.\", \"10-7.\", \"11-1.\", \"11-14.\", \"11-17.\", \"11-20.\", \"11-7.\", \"13-20.\", \"13-8.\", \"14-10.\", \"14-11.\", \"14-14.\", \"14-7.\", \"15-1.\", \"15-20.\", \"16-1.\", \"16-16.\", \"17-10.\", \"17-11.\", \"17-2.\", \"19-1.\", \"19-16.\", \"19-19.\", \"19-20.\", \"19-3.\", \"2-10.\", \"2-11.\", \"2-17.\", \"2-18.\", \"2-20.\", \"2-3.\", \"2-4.\", \"2-5.\", \"2-6.\", \"2-7.\", \"2-8.\", \"3-13.\", \"3-18.\", \"3-3.\", \"4-1.\", \"4-10.\", \"4-11.\", \"4-19.\", \"5-5.\", \"6-15.\", \"7-10.\", \"7-14.\", \"8-18.\", \"8-20.\", \"8-3.\", \"8-8.\"], \"domains\": [1, 2, 3, 4, 5], \"num_examples_per_domain_per_label\": -1, \"pickle_path\": \"/mnt/wd500GB/CSC500/csc500-main/datasets/cores.stratified_ds.2022A.pkl\", \"source_or_target_dataset\": \"source\", \"x_transforms\": [\"unit_mag\"], \"episode_transforms\": [], \"domain_prefix\": \"C_\"}, {\"labels\": [\"1-10\", \"1-12\", \"1-14\", \"1-16\", \"1-18\", \"1-19\", \"1-8\", \"10-11\", \"10-17\", \"10-4\", \"10-7\", \"11-1\", \"11-10\", \"11-19\", \"11-20\", \"11-4\", \"11-7\", \"12-19\", \"12-20\", \"12-7\", \"13-14\", \"13-18\", \"13-19\", \"13-20\", \"13-3\", \"13-7\", \"14-10\", \"14-11\", \"14-12\", \"14-13\", \"14-14\", \"14-19\", \"14-20\", \"14-7\", \"14-8\", \"14-9\", \"15-1\", \"15-19\", \"15-6\", \"16-1\", \"16-16\", \"16-19\", \"16-20\", \"17-10\", \"17-11\", \"18-1\", \"18-10\", \"18-11\", \"18-12\", \"18-13\", \"18-14\", \"18-15\", \"18-16\", \"18-17\", \"18-19\", \"18-2\", \"18-20\", \"18-4\", \"18-5\", \"18-7\", \"18-8\", \"18-9\", \"19-1\", \"19-10\", \"19-11\", \"19-12\", \"19-13\", \"19-14\", \"19-15\", \"19-19\", \"19-2\", \"19-20\", \"19-3\", \"19-4\", \"19-6\", \"19-7\", \"19-8\", \"19-9\", \"2-1\", \"2-13\", \"2-15\", \"2-3\", \"2-4\", \"2-5\", \"2-6\", \"2-7\", \"2-8\", \"20-1\", \"20-12\", \"20-14\", \"20-15\", \"20-16\", \"20-18\", \"20-19\", \"20-20\", \"20-3\", \"20-4\", \"20-5\", \"20-7\", \"20-8\", \"3-1\", \"3-13\", \"3-18\", \"3-2\", \"3-8\", \"4-1\", \"4-10\", \"4-11\", \"5-1\", \"5-5\", \"6-1\", \"6-15\", \"6-6\", \"7-10\", \"7-11\", \"7-12\", \"7-13\", \"7-14\", \"7-7\", \"7-8\", \"7-9\", \"8-1\", \"8-13\", \"8-14\", \"8-18\", \"8-20\", \"8-3\", \"8-8\", \"9-1\", \"9-7\"], \"domains\": [1, 2, 3, 4], \"num_examples_per_domain_per_label\": -1, \"pickle_path\": \"/mnt/wd500GB/CSC500/csc500-main/datasets/wisig.node3-19.stratified_ds.2022A.pkl\", \"source_or_target_dataset\": \"source\", \"x_transforms\": [\"unit_mag\"], \"episode_transforms\": [], \"domain_prefix\": \"W_\"}, {\"labels\": [\"3123D52\", \"3123D65\", \"3123D79\", \"3123D80\", \"3123D54\", \"3123D70\", \"3123D7B\", \"3123D89\", \"3123D58\", \"3123D76\", \"3123D7D\", \"3123EFE\", \"3123D64\", \"3123D78\", \"3123D7E\", \"3124E4A\"], \"domains\": [32, 38, 8, 44, 14, 50, 20, 26], \"num_examples_per_domain_per_label\": 2000, \"pickle_path\": \"/mnt/wd500GB/CSC500/csc500-main/datasets/oracle.Run1_framed_2000Examples_stratified_ds.2022A.pkl\", \"source_or_target_dataset\": \"target\", \"x_transforms\": [\"unit_mag\"], \"episode_transforms\": [], \"domain_prefix\": \"O_\"}], \"seed\": 420, \"dataset_seed\": 420, \"x_shape\": [2, 256], \"domains_source\": [\"C_1\", \"C_2\", \"C_3\", \"C_4\", \"C_5\", \"W_1\", \"W_2\", \"W_3\", \"W_4\"], \"domains_target\": [\"O_32\", \"O_38\", \"O_8\", \"O_44\", \"O_14\", \"O_50\", \"O_20\", \"O_26\"]}, \"results\": {\"source_test_label_accuracy\": 0.9790091792656588, \"source_test_label_loss\": 0.09889958053827286, \"target_test_label_accuracy\": 0.20377604166666666, \"target_test_label_loss\": 2.4669063091278076, \"source_val_label_accuracy\": 0.9789435749588138, \"source_val_label_loss\": 0.0971420556306839, \"target_val_label_accuracy\": 0.2029296875, \"target_val_label_loss\": 2.464670181274414, \"total_epochs_trained\": 5, \"total_experiment_time_secs\": 1869.9430813789368, \"confusion\": {\"W_3\": {\"110\": {\"110\": 89, \"8\": 2, \"128\": 1}, \"1\": {\"1\": 107, \"21\": 1}, \"2\": {\"2\": 24, \"102\": 2, \"26\": 1, \"117\": 1}, \"94\": {\"94\": 80, \"27\": 1, \"70\": 1, \"129\": 1, \"127\": 1}, \"64\": {\"64\": 20}, \"78\": {\"78\": 13, \"4\": 1, \"21\": 2}, \"47\": {\"47\": 11, \"103\": 1}, \"127\": {\"127\": 127, \"26\": 1}, \"89\": {\"89\": 28}, \"79\": {\"79\": 12}, \"22\": {\"22\": 16}, \"117\": {\"117\": 112}, \"49\": {\"49\": 20, \"47\": 1, \"108\": 1, \"82\": 1, \"129\": 1}, \"14\": {\"14\": 80}, \"103\": {\"103\": 16}, \"123\": {\"123\": 16}, \"98\": {\"98\": 126, \"117\": 1, \"90\": 1}, \"18\": {\"18\": 108}, \"61\": {\"61\": 16}, \"108\": {\"108\": 123, \"110\": 1, \"88\": 1, \"40\": 1}, \"100\": {\"100\": 16}, \"0\": {\"0\": 115, \"127\": 1}, \"107\": {\"107\": 130}, \"58\": {\"58\": 16}, \"8\": {\"8\": 120}, \"85\": {\"85\": 36}, \"31\": {\"31\": 19, \"129\": 1}, \"81\": {\"81\": 32}, \"60\": {\"60\": 21, \"31\": 1, \"23\": 2, \"110\": 1, \"19\": 1, \"122\": 2}, \"102\": {\"102\": 116}, \"19\": {\"19\": 30, \"28\": 1, \"128\": 1}, \"23\": {\"60\": 1, \"19\": 1, \"23\": 22, \"51\": 1, \"67\": 1, \"122\": 1, \"73\": 2, \"123\": 1, \"44\": 1, \"97\": 1}, \"32\": {\"32\": 26, \"66\": 1, \"107\": 2, \"9\": 1, \"11\": 1, \"62\": 1}, \"39\": {\"39\": 104, \"126\": 2, \"113\": 1, \"21\": 1}, \"129\": {\"129\": 32}, \"71\": {\"71\": 67, \"84\": 1}, \"91\": {\"91\": 20, \"57\": 1, \"58\": 1, \"70\": 1, \"42\": 1}, \"101\": {\"101\": 50, \"21\": 1, \"113\": 1}, \"62\": {\"62\": 120, \"3\": 1, \"118\": 1}, \"63\": {\"63\": 16}, \"125\": {\"125\": 117, \"26\": 1, \"105\": 1, \"49\": 1}, \"57\": {\"57\": 20}, \"28\": {\"28\": 16}, \"70\": {\"70\": 59, \"25\": 1, \"43\": 1, \"21\": 1, \"4\": 2, \"102\": 1, \"15\": 1, \"127\": 1, \"105\": 1, \"114\": 1, \"69\": 2, \"33\": 1}, \"99\": {\"99\": 33, \"17\": 1, \"27\": 1, \"21\": 1}, \"121\": {\"121\": 28, \"61\": 1, \"80\": 1, \"19\": 1, \"118\": 1}, \"4\": {\"4\": 95, \"94\": 1}, \"80\": {\"80\": 16}, \"51\": {\"15\": 1, \"51\": 12, \"33\": 1, \"57\": 1, \"5\": 1}, \"3\": {\"3\": 113, \"14\": 1, \"70\": 1, \"109\": 1}, \"9\": {\"9\": 32}, \"53\": {\"53\": 19, \"9\": 1}, \"30\": {\"30\": 83, \"116\": 1}, \"33\": {\"33\": 122}, \"15\": {\"15\": 103, \"8\": 1}, \"97\": {\"30\": 1, \"97\": 19}, \"86\": {\"86\": 27, \"128\": 1}, \"20\": {\"20\": 16}, \"66\": {\"66\": 16}, \"10\": {\"10\": 119, \"9\": 1, \"4\": 1, \"43\": 1}, \"29\": {\"29\": 31, \"9\": 1}, \"109\": {\"109\": 112, \"5\": 1, \"108\": 1}, \"52\": {\"52\": 16}, \"67\": {\"67\": 15, \"23\": 1}, \"83\": {\"83\": 22, \"121\": 1, \"43\": 1}, \"72\": {\"72\": 28}, \"90\": {\"90\": 124, \"26\": 2}, \"69\": {\"69\": 83, \"92\": 1}, \"88\": {\"88\": 109, \"8\": 1, \"39\": 1, \"36\": 1}, \"115\": {\"115\": 16}, \"73\": {\"73\": 35, \"22\": 1, \"24\": 1, \"25\": 1, \"69\": 1, \"89\": 1}, \"34\": {\"34\": 21, \"6\": 2, \"122\": 1, \"14\": 3, \"124\": 1, \"17\": 1, \"28\": 2, \"58\": 1}, \"25\": {\"25\": 16}, \"44\": {\"44\": 70, \"90\": 1, \"113\": 1}, \"112\": {\"112\": 15, \"97\": 1}, \"37\": {\"37\": 16}, \"77\": {\"77\": 16}, \"111\": {\"111\": 119, \"127\": 2, \"106\": 1}, \"119\": {\"119\": 16}, \"56\": {\"56\": 12}, \"5\": {\"5\": 110, \"4\": 1, \"21\": 1}, \"122\": {\"122\": 57, \"21\": 3}, \"74\": {\"74\": 16}, \"11\": {\"11\": 150, \"107\": 1, \"16\": 1}, \"41\": {\"41\": 16}, \"104\": {\"104\": 16}, \"21\": {\"21\": 45, \"101\": 2, \"105\": 1}, \"118\": {\"118\": 98, \"6\": 1, \"90\": 1}, \"40\": {\"40\": 121, \"21\": 1}, \"6\": {\"6\": 32}, \"27\": {\"27\": 88, \"36\": 7, \"127\": 1}, \"113\": {\"113\": 117, \"43\": 2, \"23\": 1}, \"68\": {\"68\": 16}, \"12\": {\"12\": 102}, \"54\": {\"54\": 16}, \"24\": {\"24\": 46, \"86\": 1, \"54\": 1}, \"106\": {\"106\": 97, \"73\": 1, \"87\": 1, \"97\": 1}, \"128\": {\"128\": 32}, \"48\": {\"48\": 9, \"104\": 1, \"10\": 1, \"121\": 1, \"79\": 2, \"95\": 2}, \"92\": {\"92\": 32}, \"35\": {\"35\": 10, \"24\": 1, \"27\": 1}, \"116\": {\"116\": 26, \"60\": 1, \"82\": 1}, \"38\": {\"38\": 15, \"25\": 1}, \"126\": {\"126\": 122, \"17\": 1, \"39\": 1}, \"46\": {\"46\": 16}, \"120\": {\"120\": 20}, \"7\": {\"7\": 111, \"84\": 1}, \"13\": {\"13\": 7, \"122\": 2, \"11\": 2, \"70\": 1, \"82\": 1, \"121\": 1, \"120\": 1, \"17\": 1}, \"43\": {\"43\": 47, \"33\": 2, \"113\": 1, \"84\": 3, \"110\": 1, \"102\": 2}, \"93\": {\"93\": 132}, \"26\": {\"26\": 131, \"69\": 1}, \"76\": {\"76\": 16}, \"59\": {\"59\": 12}, \"65\": {\"65\": 11, \"17\": 1}, \"87\": {\"87\": 119, \"110\": 1}, \"124\": {\"124\": 122, \"128\": 1, \"11\": 1}, \"84\": {\"84\": 107, \"113\": 1}, \"82\": {\"82\": 28}, \"75\": {\"75\": 16}, \"17\": {\"10\": 1, \"17\": 6, \"116\": 1, \"104\": 1, \"55\": 1, \"106\": 1, \"105\": 1, \"7\": 2, \"0\": 1, \"51\": 1}, \"105\": {\"105\": 124}, \"95\": {\"95\": 32}, \"42\": {\"42\": 22, \"124\": 2, \"112\": 1, \"88\": 1, \"83\": 2}, \"55\": {\"55\": 16}, \"16\": {\"16\": 115, \"97\": 1}, \"50\": {\"50\": 16}, \"96\": {\"96\": 20}, \"45\": {\"45\": 16}, \"36\": {\"36\": 119, \"27\": 1}, \"114\": {\"114\": 119, \"102\": 1, \"122\": 1, \"39\": 1, \"106\": 1, \"11\": 1}}, \"W_4\": {\"113\": {\"113\": 121, \"126\": 1, \"69\": 2}, \"85\": {\"85\": 26, \"36\": 1, \"102\": 1}, \"34\": {\"34\": 22, \"72\": 2, \"75\": 1, \"47\": 4, \"91\": 2, \"45\": 1}, \"55\": {\"55\": 16}, \"42\": {\"42\": 18, \"20\": 2, \"124\": 1, \"34\": 3, \"8\": 2, \"112\": 1, \"19\": 1}, \"13\": {\"13\": 16}, \"69\": {\"69\": 118, \"70\": 1, \"8\": 1, \"1\": 1, \"78\": 1, \"40\": 1, \"16\": 1}, \"35\": {\"35\": 12}, \"83\": {\"83\": 26, \"21\": 1, \"89\": 1}, \"51\": {\"51\": 8, \"24\": 1, \"62\": 2, \"29\": 2, \"91\": 1, \"60\": 1, \"98\": 1}, \"72\": {\"72\": 32}, \"24\": {\"24\": 116, \"10\": 2, \"21\": 1, \"27\": 1}, \"53\": {\"53\": 16}, \"8\": {\"8\": 137, \"49\": 1, \"108\": 1, \"36\": 1, \"107\": 1, \"66\": 1, \"21\": 1, \"69\": 1}, \"49\": {\"49\": 30, \"88\": 1, \"5\": 1}, \"21\": {\"21\": 39, \"23\": 1}, \"18\": {\"18\": 118, \"24\": 1, \"122\": 1}, \"114\": {\"114\": 116, \"12\": 1, \"3\": 1}, \"58\": {\"58\": 15, \"31\": 1}, \"56\": {\"56\": 12}, \"80\": {\"80\": 16}, \"11\": {\"11\": 153, \"40\": 1}, \"15\": {\"15\": 122, \"97\": 1, \"105\": 1, \"10\": 2, \"40\": 1, \"69\": 1}, \"50\": {\"50\": 15, \"43\": 1}, \"111\": {\"111\": 137, \"27\": 1}, \"108\": {\"108\": 83, \"88\": 1, \"70\": 1, \"122\": 1, \"27\": 1, \"5\": 1, \"39\": 2, \"26\": 1, \"110\": 1}, \"104\": {\"104\": 16}, \"32\": {\"32\": 20, \"8\": 1, \"108\": 1, \"14\": 1, \"62\": 1, \"45\": 2, \"7\": 1, \"40\": 1}, \"68\": {\"68\": 15, \"51\": 1}, \"73\": {\"73\": 24}, \"92\": {\"92\": 28}, \"57\": {\"57\": 16}, \"40\": {\"40\": 132, \"107\": 1, \"8\": 1, \"122\": 1, \"126\": 1}, \"71\": {\"71\": 101, \"30\": 1, \"1\": 1, \"69\": 1}, \"121\": {\"121\": 26, \"80\": 1, \"27\": 1, \"90\": 1, \"63\": 1, \"115\": 2}, \"62\": {\"62\": 53, \"122\": 1, \"21\": 2, \"2\": 1, \"41\": 1, \"39\": 1, \"10\": 1}, \"39\": {\"39\": 90, \"88\": 1, \"67\": 1, \"81\": 3, \"117\": 1, \"122\": 2, \"105\": 1, \"113\": 1}, \"107\": {\"107\": 142, \"115\": 1, \"88\": 1}, \"60\": {\"60\": 28, \"110\": 1, \"19\": 1, \"50\": 1, \"122\": 1}, \"129\": {\"129\": 25, \"122\": 1, \"121\": 1, \"27\": 1}, \"84\": {\"84\": 127, \"88\": 2, \"109\": 1, \"122\": 1, \"118\": 1}, \"106\": {\"106\": 114, \"21\": 1, \"118\": 1}, \"87\": {\"87\": 129, \"43\": 2, \"105\": 1}, \"110\": {\"110\": 89, \"49\": 1, \"113\": 1, \"27\": 1, \"24\": 1, \"102\": 1}, \"118\": {\"118\": 107, \"22\": 1, \"62\": 1, \"107\": 1, \"94\": 1, \"40\": 1}, \"64\": {\"64\": 15, \"106\": 1}, \"82\": {\"60\": 1, \"82\": 30, \"17\": 1}, \"7\": {\"7\": 121, \"102\": 1, \"69\": 1, \"24\": 1}, \"0\": {\"0\": 110, \"84\": 2, \"101\": 2, \"21\": 2}, \"41\": {\"41\": 14, \"91\": 1, \"47\": 1}, \"102\": {\"102\": 127, \"70\": 1, \"127\": 1, \"19\": 1}, \"89\": {\"89\": 31, \"51\": 1}, \"26\": {\"26\": 125, \"107\": 1, \"40\": 1, \"8\": 1}, \"103\": {\"103\": 14, \"91\": 1, \"29\": 1}, \"90\": {\"90\": 115, \"114\": 1, \"121\": 1, \"88\": 1}, \"14\": {\"14\": 111, \"89\": 1}, \"9\": {\"9\": 28}, \"5\": {\"5\": 133, \"113\": 1, \"40\": 2}, \"22\": {\"22\": 15, \"89\": 1}, \"2\": {\"2\": 26, \"26\": 2}, \"77\": {\"77\": 12}, \"59\": {\"59\": 10, \"22\": 1, \"69\": 1}, \"127\": {\"127\": 95, \"23\": 1, \"16\": 1, \"8\": 1, \"105\": 2, \"81\": 1, \"94\": 1}, \"61\": {\"61\": 15, \"35\": 1}, \"17\": {\"17\": 19, \"81\": 1}, \"45\": {\"45\": 15, \"120\": 1}, \"19\": {\"19\": 28}, \"52\": {\"52\": 19, \"15\": 1}, \"123\": {\"84\": 1, \"123\": 13, \"23\": 2}, \"20\": {\"20\": 15, \"31\": 1}, \"112\": {\"112\": 14, \"53\": 1, \"126\": 1}, \"37\": {\"37\": 16}, \"29\": {\"29\": 32}, \"128\": {\"8\": 2, \"128\": 19, \"78\": 1, \"115\": 2}, \"100\": {\"100\": 20}, \"67\": {\"67\": 11, \"123\": 1, \"115\": 1, \"2\": 1, \"69\": 2}, \"12\": {\"12\": 95, \"106\": 1, \"88\": 1, \"111\": 1, \"71\": 1, \"16\": 1}, \"101\": {\"101\": 125, \"87\": 1, \"0\": 2}, \"76\": {\"76\": 16}, \"70\": {\"70\": 118, \"88\": 1, \"27\": 2, \"10\": 1, \"53\": 1, \"7\": 1}, \"31\": {\"70\": 1, \"31\": 15}, \"86\": {\"86\": 28}, \"88\": {\"70\": 1, \"88\": 128, \"69\": 1, \"94\": 1, \"27\": 1}, \"3\": {\"3\": 123, \"70\": 1, \"122\": 1, \"107\": 1}, \"117\": {\"117\": 117, \"122\": 1, \"107\": 1, \"69\": 1}, \"30\": {\"30\": 71, \"105\": 1, \"10\": 1, \"122\": 1, \"81\": 1, \"114\": 1}, \"96\": {\"96\": 20}, \"27\": {\"27\": 88, \"92\": 1, \"7\": 1, \"24\": 2, \"70\": 1, \"87\": 1, \"21\": 1, \"5\": 1, \"6\": 1, \"94\": 1, \"108\": 1, \"88\": 1}, \"122\": {\"122\": 84}, \"120\": {\"120\": 19, \"21\": 1}, \"44\": {\"44\": 60, \"121\": 2, \"90\": 1, \"73\": 1}, \"79\": {\"79\": 15, \"122\": 1}, \"105\": {\"105\": 95, \"122\": 1, \"102\": 1, \"87\": 1, \"108\": 1, \"24\": 1}, \"95\": {\"95\": 30, \"21\": 1, \"27\": 1}, \"109\": {\"109\": 111, \"88\": 1, \"14\": 3, \"78\": 1}, \"16\": {\"16\": 115, \"99\": 1, \"114\": 1, \"87\": 1}, \"36\": {\"36\": 89, \"21\": 2, \"24\": 5, \"27\": 2}, \"125\": {\"125\": 135, \"39\": 1}, \"97\": {\"36\": 2, \"97\": 15, \"10\": 2, \"108\": 1}, \"91\": {\"91\": 21, \"94\": 1, \"34\": 1, \"47\": 1}, \"28\": {\"28\": 20}, \"81\": {\"81\": 36}, \"126\": {\"126\": 113, \"69\": 1, \"78\": 1, \"106\": 1, \"87\": 1, \"113\": 1, \"39\": 2, \"93\": 2}, \"4\": {\"4\": 98, \"122\": 1, \"39\": 1, \"10\": 1, \"107\": 1, \"110\": 1, \"69\": 1}, \"10\": {\"10\": 120, \"94\": 1, \"30\": 2, \"106\": 1}, \"63\": {\"63\": 16}, \"43\": {\"43\": 117, \"87\": 1}, \"116\": {\"116\": 26, \"122\": 1, \"99\": 1}, \"1\": {\"1\": 99, \"69\": 1, \"10\": 1, \"101\": 1, \"110\": 1, \"40\": 1, \"122\": 1, \"4\": 1, \"88\": 1, \"12\": 1}, \"94\": {\"94\": 85, \"12\": 1, \"40\": 2}, \"38\": {\"38\": 16}, \"54\": {\"54\": 16}, \"74\": {\"74\": 16}, \"25\": {\"25\": 16}, \"75\": {\"75\": 16}, \"119\": {\"119\": 15, \"23\": 1}, \"46\": {\"46\": 19, \"31\": 1}, \"23\": {\"23\": 12, \"67\": 1, \"1\": 1, \"123\": 1, \"102\": 1}, \"99\": {\"99\": 40}, \"33\": {\"33\": 116, \"125\": 1, \"24\": 1}, \"47\": {\"47\": 9, \"112\": 1, \"49\": 1, \"27\": 1}, \"115\": {\"87\": 2, \"115\": 10, \"43\": 1, \"124\": 1, \"108\": 2}, \"6\": {\"85\": 1, \"6\": 21, \"58\": 1, \"122\": 1}, \"65\": {\"65\": 12}, \"66\": {\"66\": 16}, \"78\": {\"78\": 27, \"6\": 1, \"88\": 1, \"107\": 1, \"89\": 1, \"94\": 1, \"87\": 1, \"30\": 1, \"122\": 1, \"43\": 1}, \"98\": {\"98\": 116}, \"93\": {\"93\": 115, \"69\": 1}, \"48\": {\"48\": 15, \"62\": 1}, \"124\": {\"124\": 113, \"24\": 1}}, \"C_4\": {\"42\": {\"42\": 32}, \"0\": {\"0\": 80}, \"1\": {\"1\": 40}, \"39\": {\"39\": 20}, \"28\": {\"28\": 32}, \"53\": {\"53\": 124}, \"19\": {\"19\": 144}, \"34\": {\"34\": 24}, \"33\": {\"33\": 36}, \"32\": {\"32\": 24}, \"10\": {\"10\": 136}, \"46\": {\"46\": 131, \"11\": 2, \"5\": 1}, \"20\": {\"20\": 122}, \"5\": {\"5\": 108}, \"40\": {\"40\": 124}, \"51\": {\"51\": 144}, \"37\": {\"37\": 24}, \"17\": {\"17\": 80}, \"45\": {\"45\": 95, \"17\": 1}, \"13\": {\"13\": 142}, \"27\": {\"27\": 144}, \"24\": {\"24\": 56}, \"30\": {\"30\": 44}, \"31\": {\"31\": 28}, \"41\": {\"41\": 34, \"25\": 1, \"49\": 1}, \"36\": {\"36\": 92}, \"16\": {\"16\": 96}, \"22\": {\"22\": 128}, \"44\": {\"44\": 132}, \"9\": {\"9\": 140}, \"57\": {\"57\": 100}, \"8\": {\"8\": 138}, \"23\": {\"23\": 132}, \"47\": {\"47\": 120}, \"43\": {\"43\": 138}, \"49\": {\"49\": 20}, \"3\": {\"3\": 123, \"50\": 1}, \"12\": {\"12\": 92}, \"38\": {\"38\": 40}, \"7\": {\"7\": 24}, \"14\": {\"14\": 15, \"29\": 1}, \"15\": {\"15\": 146}, \"25\": {\"25\": 128}, \"26\": {\"26\": 24}, \"21\": {\"21\": 132}, \"48\": {\"48\": 144}, \"56\": {\"56\": 134}, \"11\": {\"11\": 104}, \"2\": {\"2\": 36}, \"6\": {\"6\": 112}, \"55\": {\"55\": 140}, \"54\": {\"54\": 108}, \"29\": {\"29\": 123, \"57\": 1}, \"50\": {\"50\": 121, \"3\": 1}, \"52\": {\"52\": 116}, \"35\": {\"35\": 40}, \"4\": {\"4\": 120}, \"18\": {\"18\": 108}}, \"C_5\": {\"43\": {\"43\": 152}, \"35\": {\"35\": 36}, \"54\": {\"54\": 112}, \"22\": {\"22\": 28}, \"16\": {\"16\": 146}, \"5\": {\"5\": 128}, \"28\": {\"28\": 32}, \"14\": {\"14\": 37, \"31\": 1, \"5\": 2, \"46\": 1, \"29\": 1, \"50\": 2}, \"51\": {\"51\": 128}, \"19\": {\"19\": 140}, \"31\": {\"31\": 36}, \"10\": {\"10\": 68}, \"21\": {\"21\": 136}, \"3\": {\"3\": 99, \"24\": 1}, \"57\": {\"57\": 132}, \"9\": {\"9\": 142, \"20\": 2, \"30\": 2}, \"8\": {\"8\": 132}, \"46\": {\"46\": 137, \"47\": 2, \"3\": 1}, \"23\": {\"23\": 123, \"43\": 1}, \"37\": {\"37\": 24}, \"34\": {\"34\": 36}, \"4\": {\"4\": 100}, \"6\": {\"6\": 118, \"38\": 1, \"21\": 1, \"20\": 8}, \"48\": {\"48\": 134, \"1\": 2}, \"44\": {\"44\": 138}, \"40\": {\"40\": 124}, \"12\": {\"12\": 96}, \"30\": {\"30\": 128}, \"39\": {\"39\": 20}, \"45\": {\"45\": 120, \"9\": 1, \"6\": 1, \"55\": 1, \"53\": 1}, \"36\": {\"36\": 92}, \"27\": {\"27\": 140}, \"32\": {\"32\": 32}, \"52\": {\"52\": 130}, \"0\": {\"0\": 124}, \"26\": {\"26\": 24}, \"1\": {\"1\": 148}, \"53\": {\"53\": 144, \"21\": 2}, \"25\": {\"25\": 144}, \"24\": {\"24\": 80}, \"7\": {\"7\": 32}, \"18\": {\"18\": 64}, \"20\": {\"20\": 144}, \"33\": {\"33\": 32}, \"55\": {\"55\": 140}, \"41\": {\"41\": 28}, \"42\": {\"42\": 39, \"45\": 1}, \"49\": {\"49\": 36}, \"13\": {\"13\": 148}, \"38\": {\"38\": 32}, \"2\": {\"2\": 28}, \"47\": {\"47\": 99, \"46\": 1}, \"17\": {\"17\": 116}, \"11\": {\"11\": 154}, \"29\": {\"29\": 132}, \"50\": {\"50\": 137, \"18\": 1}, \"56\": {\"56\": 148}, \"15\": {\"15\": 142}}, \"C_2\": {\"49\": {\"49\": 24}, \"13\": {\"13\": 116}, \"37\": {\"37\": 36}, \"41\": {\"41\": 20}, \"15\": {\"15\": 142}, \"56\": {\"56\": 141, \"45\": 1}, \"14\": {\"14\": 20, \"55\": 1, \"40\": 1, \"42\": 2}, \"3\": {\"3\": 92}, \"38\": {\"38\": 20}, \"43\": {\"43\": 138}, \"33\": {\"33\": 28}, \"47\": {\"47\": 138}, \"30\": {\"30\": 144}, \"39\": {\"39\": 28}, \"12\": {\"12\": 92}, \"6\": {\"6\": 124}, \"51\": {\"51\": 134}, \"5\": {\"5\": 119, \"19\": 1}, \"34\": {\"34\": 28}, \"35\": {\"35\": 32}, \"0\": {\"0\": 48}, \"7\": {\"7\": 36}, \"24\": {\"24\": 96}, \"8\": {\"8\": 136}, \"20\": {\"20\": 124}, \"36\": {\"36\": 116}, \"42\": {\"42\": 36}, \"1\": {\"1\": 112}, \"4\": {\"4\": 148}, \"28\": {\"28\": 28}, \"50\": {\"50\": 136}, \"45\": {\"45\": 127, \"53\": 1}, \"18\": {\"18\": 48}, \"57\": {\"57\": 120}, \"46\": {\"46\": 128}, \"23\": {\"23\": 148}, \"27\": {\"27\": 138}, \"19\": {\"19\": 134}, \"22\": {\"22\": 136}, \"17\": {\"17\": 104}, \"55\": {\"55\": 136}, \"44\": {\"44\": 99, \"9\": 1}, \"26\": {\"26\": 24}, \"31\": {\"31\": 28}, \"16\": {\"16\": 130}, \"11\": {\"11\": 128}, \"25\": {\"25\": 126}, \"54\": {\"54\": 108}, \"32\": {\"32\": 28}, \"52\": {\"52\": 124}, \"40\": {\"40\": 132}, \"2\": {\"2\": 32}, \"10\": {\"10\": 110}, \"53\": {\"53\": 136}, \"9\": {\"9\": 150}, \"21\": {\"21\": 120}, \"48\": {\"48\": 138}, \"29\": {\"29\": 127, \"57\": 1}}, \"W_2\": {\"115\": {\"115\": 12}, \"34\": {\"34\": 28, \"110\": 2, \"124\": 1, \"6\": 1}, \"97\": {\"97\": 18, \"15\": 1, \"14\": 1}, \"100\": {\"100\": 16}, \"129\": {\"129\": 31, \"123\": 1}, \"90\": {\"90\": 141, \"98\": 1}, \"125\": {\"125\": 131, \"2\": 1}, \"7\": {\"7\": 125, \"24\": 3}, \"92\": {\"92\": 27, \"89\": 1}, \"114\": {\"114\": 114, \"107\": 1, \"71\": 1}, \"80\": {\"80\": 15, \"29\": 1}, \"16\": {\"16\": 116, \"40\": 2, \"27\": 1, \"24\": 1, \"110\": 1, \"8\": 1}, \"69\": {\"69\": 113, \"24\": 1, \"70\": 1, \"87\": 1}, \"102\": {\"102\": 114}, \"33\": {\"33\": 130}, \"17\": {\"17\": 15, \"27\": 1}, \"27\": {\"27\": 63, \"24\": 2, \"102\": 1, \"112\": 1, \"94\": 1}, \"117\": {\"117\": 104, \"12\": 1, \"24\": 1}, \"14\": {\"14\": 46, \"58\": 1, \"21\": 1}, \"86\": {\"86\": 32}, \"0\": {\"0\": 113, \"21\": 1, \"97\": 1, \"94\": 1}, \"62\": {\"62\": 135, \"55\": 1, \"23\": 1, \"24\": 1}, \"39\": {\"39\": 104, \"110\": 1, \"78\": 1, \"94\": 2, \"69\": 1, \"84\": 1, \"18\": 1, \"70\": 1}, \"19\": {\"19\": 27, \"110\": 1}, \"44\": {\"44\": 100}, \"104\": {\"104\": 20}, \"3\": {\"3\": 125, \"87\": 1, \"24\": 1, \"62\": 1, \"21\": 1, \"36\": 1}, \"10\": {\"10\": 52, \"62\": 1, \"53\": 1, \"97\": 1, \"21\": 1, \"7\": 1, \"87\": 1, \"36\": 1, \"94\": 1}, \"61\": {\"61\": 16, \"36\": 1, \"30\": 1, \"80\": 2}, \"111\": {\"111\": 114}, \"68\": {\"68\": 16}, \"101\": {\"101\": 141, \"62\": 1, \"118\": 1, \"30\": 1}, \"36\": {\"36\": 119, \"51\": 1, \"18\": 1, \"24\": 1, \"62\": 1, \"70\": 1, \"73\": 1, \"4\": 1, \"40\": 1, \"30\": 1}, \"120\": {\"120\": 20}, \"103\": {\"103\": 16}, \"47\": {\"47\": 12}, \"98\": {\"98\": 120}, \"76\": {\"76\": 16}, \"88\": {\"88\": 120, \"20\": 1, \"126\": 2, \"27\": 1}, \"93\": {\"93\": 136, \"118\": 1, \"24\": 1}, \"23\": {\"23\": 38, \"91\": 1, \"111\": 1, \"87\": 1, \"110\": 1, \"60\": 1, \"99\": 1}, \"108\": {\"108\": 122, \"112\": 1, \"40\": 1}, \"51\": {\"77\": 1, \"51\": 13, \"14\": 1, \"54\": 1, \"41\": 2, \"93\": 1, \"24\": 1}, \"13\": {\"13\": 13, \"36\": 1, \"118\": 2}, \"77\": {\"77\": 16}, \"46\": {\"46\": 16}, \"96\": {\"96\": 20}, \"119\": {\"119\": 19, \"126\": 1}, \"121\": {\"121\": 36}, \"54\": {\"54\": 18, \"28\": 1, \"118\": 1}, \"82\": {\"82\": 35, \"78\": 1}, \"12\": {\"12\": 85, \"62\": 1, \"24\": 1, \"127\": 1}, \"74\": {\"74\": 15, \"22\": 1}, \"66\": {\"66\": 18, \"24\": 1, \"27\": 1}, \"28\": {\"28\": 20}, \"52\": {\"52\": 18, \"21\": 1, \"107\": 1}, \"41\": {\"41\": 18, \"15\": 1, \"110\": 1}, \"81\": {\"81\": 24}, \"48\": {\"48\": 20}, \"113\": {\"113\": 70, \"49\": 1, \"11\": 1}, \"53\": {\"53\": 16}, \"15\": {\"15\": 116, \"97\": 1, \"111\": 2, \"36\": 1}, \"30\": {\"30\": 109, \"36\": 2, \"107\": 1}, \"43\": {\"43\": 120, \"21\": 1, \"106\": 1, \"107\": 1, \"122\": 1}, \"29\": {\"29\": 31, \"110\": 1}, \"109\": {\"109\": 95, \"110\": 1, \"120\": 1, \"70\": 1, \"84\": 2}, \"60\": {\"60\": 24, \"122\": 2, \"87\": 1, \"36\": 1}, \"70\": {\"70\": 116, \"25\": 1, \"107\": 1, \"49\": 1, \"71\": 1, \"21\": 1, \"3\": 1}, \"127\": {\"127\": 123, \"16\": 1}, \"32\": {\"32\": 20, \"70\": 1, \"52\": 1, \"68\": 1, \"14\": 2, \"101\": 1, \"72\": 2, \"95\": 1, \"10\": 2, \"0\": 2, \"62\": 3}, \"73\": {\"73\": 27, \"24\": 1}, \"50\": {\"50\": 13, \"9\": 1, \"62\": 1, \"23\": 1}, \"1\": {\"1\": 119, \"69\": 1, \"12\": 1, \"87\": 1, \"36\": 1, \"26\": 1}, \"106\": {\"106\": 116, \"36\": 3, \"19\": 1}, \"123\": {\"123\": 16}, \"79\": {\"79\": 16}, \"4\": {\"4\": 85, \"94\": 1, \"112\": 1, \"62\": 1}, \"2\": {\"2\": 28, \"26\": 3, \"117\": 1}, \"8\": {\"8\": 124, \"69\": 1, \"36\": 1, \"12\": 1, \"84\": 1}, \"83\": {\"83\": 40}, \"105\": {\"105\": 129, \"23\": 1}, \"5\": {\"5\": 107, \"21\": 1, \"70\": 2, \"23\": 1, \"94\": 1}, \"99\": {\"99\": 32}, \"25\": {\"25\": 15, \"2\": 1}, \"59\": {\"59\": 15, \"21\": 1}, \"42\": {\"42\": 24, \"83\": 1, \"73\": 1, \"89\": 1, \"18\": 1}, \"55\": {\"55\": 16}, \"75\": {\"75\": 16}, \"118\": {\"118\": 67, \"36\": 1}, \"95\": {\"95\": 32, \"62\": 1, \"13\": 1, \"40\": 2}, \"122\": {\"122\": 115, \"24\": 1, \"12\": 1, \"70\": 1, \"110\": 1, \"5\": 1}, \"20\": {\"20\": 16}, \"110\": {\"110\": 35, \"34\": 1, \"35\": 1, \"21\": 1, \"24\": 1, \"80\": 1}, \"65\": {\"65\": 20}, \"37\": {\"79\": 1, \"37\": 14, \"104\": 1}, \"64\": {\"64\": 16}, \"63\": {\"63\": 19, \"118\": 1}, \"40\": {\"40\": 129, \"12\": 1, \"24\": 1, \"70\": 1, \"18\": 1, \"73\": 1, \"71\": 1, \"110\": 1, \"102\": 1, \"4\": 1, \"69\": 2}, \"21\": {\"21\": 45, \"70\": 1, \"82\": 1, \"62\": 1}, \"11\": {\"11\": 77, \"122\": 1, \"47\": 1, \"18\": 1}, \"67\": {\"67\": 16}, \"91\": {\"91\": 26, \"25\": 1, \"18\": 1}, \"87\": {\"87\": 100, \"116\": 2, \"70\": 1, \"102\": 2, \"13\": 1, \"53\": 1, \"107\": 1, \"39\": 1, \"84\": 1, \"94\": 2}, \"89\": {\"89\": 34, \"98\": 1, \"92\": 1}, \"9\": {\"9\": 32}, \"124\": {\"124\": 114}, \"56\": {\"56\": 10, \"12\": 1, \"30\": 1}, \"38\": {\"38\": 16}, \"94\": {\"94\": 57, \"102\": 3, \"26\": 1, \"12\": 1, \"36\": 1, \"39\": 1}, \"6\": {\"6\": 31, \"51\": 1}, \"58\": {\"58\": 19, \"42\": 1}, \"22\": {\"22\": 20}, \"24\": {\"24\": 102, \"118\": 1, \"107\": 1, \"36\": 1, \"71\": 1, \"69\": 3, \"16\": 1, \"109\": 1, \"102\": 1}, \"57\": {\"57\": 20}, \"112\": {\"112\": 10, \"53\": 1, \"15\": 1, \"49\": 1, \"24\": 2, \"94\": 1}, \"116\": {\"116\": 22, \"107\": 1, \"1\": 3, \"78\": 1, \"70\": 1}, \"18\": {\"18\": 118, \"42\": 1, \"117\": 1, \"94\": 1, \"69\": 1, \"24\": 2, \"70\": 1, \"39\": 2, \"62\": 1}, \"49\": {\"49\": 19, \"112\": 1, \"11\": 1, \"29\": 1, \"68\": 1, \"19\": 1}, \"45\": {\"45\": 16}, \"107\": {\"107\": 54, \"49\": 1, \"0\": 1, \"36\": 2, \"4\": 2, \"62\": 1, \"61\": 1, \"24\": 1, \"109\": 1}, \"35\": {\"35\": 12}, \"78\": {\"78\": 42, \"118\": 1, \"43\": 1, \"94\": 1, \"95\": 1, \"36\": 1, \"21\": 1}, \"126\": {\"126\": 120}, \"85\": {\"85\": 32}, \"72\": {\"72\": 27, \"36\": 1}, \"26\": {\"26\": 120, \"102\": 2, \"70\": 1, \"18\": 1}, \"84\": {\"84\": 89, \"118\": 1, \"87\": 1, \"2\": 1}, \"128\": {\"128\": 20, \"114\": 1, \"97\": 2, \"101\": 1}, \"31\": {\"31\": 20}, \"71\": {\"71\": 98, \"40\": 1, \"11\": 1}}, \"C_1\": {\"9\": {\"9\": 142}, \"25\": {\"25\": 128}, \"41\": {\"41\": 24}, \"29\": {\"29\": 140}, \"46\": {\"46\": 127, \"48\": 1}, \"4\": {\"4\": 132}, \"31\": {\"31\": 28}, \"36\": {\"36\": 64}, \"20\": {\"20\": 128}, \"7\": {\"7\": 28}, \"6\": {\"6\": 95, \"2\": 1}, \"16\": {\"16\": 138}, \"17\": {\"17\": 64}, \"50\": {\"50\": 148}, \"57\": {\"57\": 144}, \"23\": {\"23\": 136}, \"3\": {\"3\": 126}, \"53\": {\"53\": 140}, \"49\": {\"49\": 32}, \"56\": {\"56\": 152}, \"51\": {\"51\": 142}, \"26\": {\"26\": 24}, \"43\": {\"43\": 144}, \"22\": {\"22\": 136}, \"45\": {\"45\": 146}, \"13\": {\"13\": 152}, \"12\": {\"12\": 116}, \"54\": {\"54\": 104}, \"24\": {\"24\": 108}, \"44\": {\"44\": 136}, \"28\": {\"28\": 28}, \"33\": {\"33\": 32}, \"38\": {\"38\": 24}, \"0\": {\"0\": 144}, \"47\": {\"47\": 154}, \"42\": {\"42\": 39, \"55\": 1}, \"34\": {\"34\": 24}, \"48\": {\"48\": 142}, \"35\": {\"35\": 36}, \"2\": {\"2\": 36}, \"30\": {\"30\": 120}, \"18\": {\"18\": 72}, \"37\": {\"37\": 32}, \"1\": {\"1\": 100}, \"11\": {\"11\": 138}, \"55\": {\"55\": 130}, \"15\": {\"15\": 150}, \"10\": {\"10\": 96}, \"27\": {\"27\": 160}, \"19\": {\"19\": 146}, \"14\": {\"8\": 1, \"14\": 19, \"30\": 3, \"6\": 1}, \"8\": {\"8\": 140}, \"5\": {\"5\": 136}, \"39\": {\"39\": 28}, \"52\": {\"52\": 122}, \"21\": {\"21\": 124}, \"40\": {\"40\": 152}, \"32\": {\"32\": 32}}, \"C_3\": {\"56\": {\"56\": 120}, \"4\": {\"4\": 146}, \"34\": {\"34\": 32}, \"52\": {\"52\": 136}, \"32\": {\"32\": 28}, \"46\": {\"46\": 134, \"11\": 1, \"20\": 1}, \"12\": {\"12\": 92}, \"20\": {\"20\": 132}, \"54\": {\"54\": 100}, \"22\": {\"22\": 140}, \"26\": {\"26\": 24}, \"31\": {\"31\": 28}, \"10\": {\"10\": 64}, \"27\": {\"27\": 144}, \"40\": {\"40\": 136}, \"28\": {\"28\": 28}, \"5\": {\"5\": 116}, \"30\": {\"30\": 119, \"18\": 1}, \"7\": {\"7\": 36}, \"18\": {\"18\": 84}, \"39\": {\"39\": 16}, \"50\": {\"50\": 136}, \"49\": {\"49\": 20}, \"43\": {\"43\": 122}, \"29\": {\"29\": 114}, \"35\": {\"35\": 28}, \"13\": {\"13\": 124}, \"36\": {\"36\": 100}, \"11\": {\"11\": 146}, \"57\": {\"57\": 124}, \"9\": {\"9\": 130}, \"25\": {\"25\": 130}, \"16\": {\"16\": 125, \"18\": 1}, \"53\": {\"53\": 118}, \"33\": {\"33\": 28}, \"51\": {\"51\": 128}, \"44\": {\"44\": 88}, \"48\": {\"48\": 113, \"1\": 1}, \"6\": {\"6\": 88}, \"23\": {\"23\": 144}, \"1\": {\"1\": 100}, \"17\": {\"17\": 108}, \"21\": {\"21\": 122}, \"14\": {\"14\": 40}, \"55\": {\"55\": 144}, \"41\": {\"41\": 28}, \"3\": {\"3\": 138}, \"38\": {\"38\": 28}, \"2\": {\"2\": 32}, \"8\": {\"8\": 142}, \"37\": {\"37\": 28}, \"45\": {\"45\": 59, \"17\": 1}, \"42\": {\"42\": 28}, \"24\": {\"24\": 104}, \"15\": {\"15\": 136}, \"0\": {\"0\": 124}, \"47\": {\"47\": 92}, \"19\": {\"19\": 120}}, \"W_1\": {\"22\": {\"22\": 16}, \"58\": {\"58\": 12}, \"109\": {\"109\": 124}, \"77\": {\"77\": 16}, \"74\": {\"74\": 16}, \"10\": {\"10\": 114, \"85\": 2, \"0\": 3, \"18\": 1}, \"70\": {\"70\": 124, \"84\": 2, \"12\": 1, \"62\": 1}, \"84\": {\"84\": 108}, \"52\": {\"52\": 20}, \"20\": {\"20\": 15, \"102\": 1}, \"14\": {\"14\": 95, \"122\": 1}, \"37\": {\"37\": 16}, \"42\": {\"42\": 22, \"2\": 2, \"98\": 1, \"123\": 1, \"91\": 1, \"95\": 1}, \"99\": {\"99\": 24}, \"35\": {\"35\": 12}, \"62\": {\"62\": 119, \"36\": 1}, \"61\": {\"61\": 12}, \"7\": {\"7\": 141, \"43\": 1}, \"69\": {\"69\": 100, \"88\": 1, \"27\": 1, \"94\": 1, \"36\": 1}, \"55\": {\"55\": 12}, \"41\": {\"41\": 16}, \"120\": {\"120\": 20}, \"123\": {\"123\": 16}, \"97\": {\"97\": 14, \"57\": 1, \"34\": 1, \"24\": 2, \"102\": 1, \"95\": 1}, \"102\": {\"102\": 119, \"16\": 1}, \"60\": {\"20\": 1, \"120\": 1, \"60\": 5, \"25\": 1, \"13\": 2, \"42\": 2, \"109\": 1, \"6\": 1, \"19\": 1, \"30\": 1}, \"127\": {\"127\": 104, \"4\": 1, \"122\": 2, \"129\": 1}, \"32\": {\"32\": 30, \"127\": 2}, \"3\": {\"3\": 80, \"18\": 3, \"85\": 1, \"12\": 1, \"30\": 1, \"0\": 1, \"87\": 1}, \"8\": {\"8\": 121, \"29\": 1}, \"129\": {\"129\": 25, \"2\": 1, \"102\": 1, \"42\": 1}, \"119\": {\"119\": 16}, \"21\": {\"21\": 33, \"70\": 1, \"78\": 1, \"23\": 1, \"14\": 1, \"83\": 1, \"84\": 2}, \"53\": {\"53\": 20}, \"28\": {\"28\": 20}, \"117\": {\"117\": 144}, \"112\": {\"112\": 16}, \"126\": {\"126\": 130, \"109\": 2, \"88\": 1, \"122\": 1}, \"30\": {\"30\": 52}, \"105\": {\"105\": 80, \"102\": 2, \"129\": 1, \"40\": 1}, \"29\": {\"29\": 28}, \"57\": {\"57\": 12}, \"93\": {\"93\": 139, \"87\": 1}, \"17\": {\"17\": 15, \"57\": 1}, \"44\": {\"44\": 76}, \"63\": {\"63\": 16}, \"87\": {\"87\": 106, \"88\": 1, \"12\": 1}, \"0\": {\"0\": 83, \"122\": 1}, \"96\": {\"96\": 19, \"91\": 1}, \"98\": {\"98\": 108}, \"75\": {\"75\": 16}, \"78\": {\"78\": 14, \"21\": 1, \"43\": 1}, \"116\": {\"116\": 30, \"34\": 1, \"94\": 1}, \"114\": {\"114\": 126, \"3\": 1, \"94\": 1}, \"103\": {\"103\": 15, \"125\": 1}, \"50\": {\"50\": 16}, \"124\": {\"124\": 128}, \"5\": {\"5\": 86, \"27\": 1, \"14\": 1}, \"73\": {\"73\": 19, \"93\": 1}, \"81\": {\"81\": 28}, \"49\": {\"49\": 13, \"81\": 1, \"70\": 3, \"30\": 1, \"1\": 1, \"5\": 1}, \"16\": {\"16\": 105, \"27\": 2, \"107\": 1}, \"101\": {\"101\": 124}, \"125\": {\"125\": 118}, \"65\": {\"66\": 1, \"65\": 5, \"67\": 1, \"45\": 1, \"82\": 2, \"76\": 1, \"115\": 1}, \"66\": {\"66\": 16}, \"79\": {\"79\": 12}, \"39\": {\"39\": 102, \"93\": 1, \"6\": 1}, \"104\": {\"104\": 16}, \"91\": {\"91\": 27, \"53\": 1}, \"25\": {\"25\": 16}, \"64\": {\"64\": 16}, \"34\": {\"60\": 2, \"34\": 22, \"51\": 1, \"42\": 1, \"122\": 2, \"6\": 2, \"125\": 1, \"98\": 1}, \"82\": {\"82\": 36}, \"18\": {\"18\": 124}, \"43\": {\"43\": 127, \"71\": 1}, \"47\": {\"47\": 12}, \"108\": {\"108\": 120, \"24\": 2, \"70\": 1, \"69\": 1}, \"111\": {\"111\": 107, \"93\": 1}, \"23\": {\"23\": 12, \"4\": 1, \"44\": 1, \"86\": 2, \"110\": 2, \"6\": 1, \"32\": 1, \"53\": 2, \"127\": 2}, \"90\": {\"90\": 157, \"122\": 1, \"113\": 1, \"102\": 1}, \"4\": {\"4\": 99, \"27\": 1}, \"92\": {\"92\": 28}, \"2\": {\"2\": 25, \"33\": 1, \"82\": 2, \"11\": 3, \"81\": 1}, \"45\": {\"2\": 1, \"45\": 5, \"104\": 1, \"42\": 1, \"102\": 1, \"82\": 1, \"43\": 1, \"124\": 1}, \"68\": {\"68\": 16}, \"26\": {\"26\": 128}, \"38\": {\"38\": 16}, \"40\": {\"40\": 140, \"105\": 1, \"4\": 1}, \"80\": {\"80\": 14, \"49\": 1, \"86\": 1}, \"107\": {\"107\": 118, \"65\": 1, \"102\": 2, \"69\": 1}, \"94\": {\"94\": 92}, \"115\": {\"115\": 12}, \"46\": {\"46\": 5, \"30\": 1, \"12\": 2, \"62\": 1, \"70\": 2, \"98\": 1}, \"72\": {\"72\": 32}, \"19\": {\"19\": 28}, \"100\": {\"100\": 14, \"65\": 1, \"24\": 1}, \"76\": {\"76\": 15, \"88\": 1}, \"106\": {\"106\": 131, \"68\": 1}, \"88\": {\"88\": 127, \"27\": 2, \"36\": 1}, \"15\": {\"15\": 95, \"71\": 2, \"111\": 5, \"12\": 1, \"70\": 1}, \"54\": {\"54\": 14, \"60\": 1, \"80\": 1}, \"13\": {\"13\": 16}, \"51\": {\"51\": 16}, \"24\": {\"24\": 89, \"97\": 1, \"34\": 1, \"108\": 1}, \"48\": {\"48\": 12}, \"85\": {\"85\": 32}, \"33\": {\"33\": 140}, \"71\": {\"71\": 104, \"18\": 1, \"117\": 1, \"6\": 1, \"1\": 1}, \"6\": {\"6\": 29, \"98\": 1, \"58\": 1, \"52\": 1}, \"83\": {\"83\": 26, \"69\": 1, \"118\": 1}, \"121\": {\"121\": 27, \"16\": 2, \"26\": 2, \"18\": 1}, \"31\": {\"31\": 15, \"122\": 1}, \"67\": {\"53\": 1, \"67\": 15}, \"1\": {\"1\": 135, \"18\": 1}, \"27\": {\"27\": 89, \"107\": 1, \"15\": 2}, \"118\": {\"118\": 82, \"87\": 1, \"103\": 1}, \"56\": {\"56\": 12}, \"36\": {\"36\": 126, \"43\": 1, \"88\": 1}, \"11\": {\"11\": 125, \"88\": 1}, \"110\": {\"110\": 120, \"88\": 1, \"18\": 1}, \"89\": {\"89\": 36}, \"113\": {\"113\": 112, \"6\": 1, \"40\": 2, \"33\": 1, \"69\": 1, \"102\": 1}, \"59\": {\"59\": 12}, \"9\": {\"9\": 31, \"88\": 1}, \"86\": {\"86\": 34, \"94\": 1, \"10\": 1}, \"12\": {\"12\": 100, \"94\": 1, \"108\": 1, \"24\": 1, \"43\": 1}, \"122\": {\"122\": 86, \"27\": 1, \"43\": 1}, \"128\": {\"128\": 16, \"114\": 1, \"70\": 4, \"82\": 1, \"5\": 1, \"72\": 1}, \"95\": {\"95\": 35, \"102\": 1}}, \"O_14\": {\"15\": {\"7\": 22, \"2\": 16, \"4\": 22, \"14\": 18, \"13\": 38, \"15\": 51, \"6\": 29, \"5\": 10, \"3\": 9, \"1\": 11, \"10\": 11, \"11\": 1, \"0\": 1, \"8\": 1}, \"5\": {\"0\": 19, \"4\": 33, \"5\": 24, \"9\": 4, \"11\": 6, \"3\": 27, \"14\": 13, \"7\": 18, \"1\": 20, \"2\": 11, \"10\": 20, \"13\": 10, \"15\": 19, \"6\": 14, \"8\": 2}, \"7\": {\"2\": 17, \"4\": 32, \"7\": 37, \"15\": 20, \"6\": 8, \"1\": 26, \"5\": 29, \"14\": 18, \"11\": 3, \"10\": 16, \"13\": 9, \"3\": 15, \"8\": 5, \"0\": 5}, \"4\": {\"13\": 20, \"8\": 4, \"6\": 12, \"4\": 25, \"1\": 18, \"10\": 23, \"3\": 22, \"7\": 25, \"2\": 12, \"15\": 8, \"11\": 5, \"14\": 18, \"5\": 32, \"0\": 15, \"9\": 1}, \"10\": {\"11\": 24, \"5\": 17, \"2\": 15, \"14\": 9, \"8\": 3, \"3\": 25, \"9\": 5, \"0\": 33, \"1\": 17, \"13\": 10, \"10\": 30, \"4\": 27, \"6\": 13, \"7\": 7, \"12\": 1, \"15\": 4}, \"11\": {\"11\": 47, \"0\": 35, \"4\": 20, \"8\": 22, \"3\": 16, \"9\": 21, \"13\": 7, \"14\": 10, \"1\": 13, \"12\": 9, \"10\": 17, \"7\": 6, \"5\": 11, \"6\": 2, \"2\": 4}, \"12\": {\"12\": 102, \"11\": 26, \"9\": 72, \"8\": 32, \"3\": 2, \"0\": 2, \"4\": 2, \"10\": 1, \"1\": 1}, \"0\": {\"0\": 24, \"10\": 18, \"3\": 21, \"14\": 13, \"8\": 19, \"11\": 37, \"15\": 3, \"4\": 22, \"2\": 12, \"13\": 3, \"5\": 19, \"7\": 5, \"9\": 13, \"1\": 23, \"6\": 6, \"12\": 2}, \"14\": {\"5\": 24, \"14\": 26, \"4\": 19, \"2\": 28, \"10\": 17, \"7\": 10, \"13\": 19, \"1\": 14, \"15\": 14, \"11\": 14, \"3\": 13, \"6\": 28, \"0\": 11, \"9\": 3}, \"8\": {\"8\": 66, \"0\": 8, \"14\": 1, \"11\": 36, \"7\": 5, \"4\": 8, \"12\": 22, \"3\": 13, \"1\": 15, \"9\": 53, \"2\": 3, \"5\": 7, \"10\": 3}, \"13\": {\"6\": 31, \"14\": 26, \"3\": 11, \"2\": 36, \"13\": 38, \"4\": 20, \"7\": 9, \"5\": 16, \"10\": 21, \"1\": 6, \"15\": 21, \"0\": 2, \"11\": 3}, \"6\": {\"6\": 48, \"14\": 31, \"4\": 21, \"13\": 39, \"7\": 14, \"3\": 10, \"2\": 33, \"1\": 4, \"10\": 11, \"5\": 9, \"15\": 15, \"0\": 4, \"11\": 1}, \"1\": {\"1\": 27, \"10\": 15, \"3\": 32, \"4\": 30, \"14\": 14, \"15\": 9, \"11\": 15, \"5\": 22, \"0\": 20, \"9\": 3, \"7\": 24, \"2\": 15, \"8\": 5, \"13\": 1, \"6\": 8}, \"3\": {\"0\": 34, \"4\": 19, \"11\": 23, \"7\": 7, \"2\": 15, \"3\": 25, \"10\": 26, \"14\": 19, \"5\": 25, \"15\": 6, \"8\": 3, \"1\": 20, \"13\": 6, \"9\": 6, \"6\": 5, \"12\": 1}, \"9\": {\"0\": 18, \"11\": 30, \"9\": 58, \"7\": 2, \"8\": 52, \"12\": 60, \"1\": 5, \"3\": 5, \"10\": 5, \"4\": 3, \"5\": 2}, \"2\": {\"10\": 16, \"6\": 25, \"14\": 35, \"1\": 13, \"2\": 23, \"11\": 12, \"7\": 8, \"5\": 31, \"15\": 11, \"4\": 19, \"13\": 19, \"3\": 19, \"0\": 9}}, \"O_20\": {\"4\": {\"13\": 9, \"9\": 16, \"8\": 20, \"4\": 23, \"6\": 14, \"11\": 8, \"14\": 23, \"5\": 11, \"1\": 11, \"3\": 18, \"0\": 11, \"7\": 15, \"12\": 16, \"2\": 13, \"10\": 25, \"15\": 7}, \"10\": {\"6\": 22, \"4\": 34, \"11\": 5, \"14\": 30, \"10\": 26, \"1\": 10, \"7\": 15, \"8\": 26, \"2\": 14, \"3\": 20, \"9\": 16, \"12\": 7, \"5\": 6, \"15\": 3, \"0\": 2, \"13\": 4}, \"15\": {\"5\": 19, \"0\": 22, \"12\": 21, \"3\": 16, \"11\": 20, \"13\": 22, \"1\": 23, \"2\": 15, \"8\": 8, \"9\": 19, \"7\": 13, \"4\": 8, \"10\": 3, \"15\": 23, \"14\": 4, \"6\": 4}, \"0\": {\"5\": 20, \"12\": 10, \"11\": 14, \"9\": 19, \"7\": 17, \"4\": 11, \"0\": 23, \"1\": 24, \"8\": 10, \"15\": 27, \"3\": 13, \"13\": 23, \"2\": 18, \"10\": 3, \"14\": 5, \"6\": 3}, \"6\": {\"13\": 8, \"2\": 15, \"1\": 13, \"8\": 19, \"5\": 7, \"0\": 9, \"9\": 16, \"10\": 26, \"7\": 25, \"6\": 22, \"14\": 25, \"3\": 20, \"4\": 23, \"15\": 2, \"11\": 4, \"12\": 6}, \"3\": {\"6\": 10, \"11\": 7, \"5\": 15, \"3\": 17, \"4\": 12, \"12\": 16, \"1\": 17, \"8\": 17, \"10\": 13, \"13\": 17, \"0\": 13, \"2\": 23, \"15\": 15, \"7\": 13, \"9\": 21, \"14\": 14}, \"7\": {\"5\": 15, \"4\": 18, \"1\": 16, \"3\": 17, \"10\": 7, \"8\": 15, \"6\": 13, \"13\": 10, \"11\": 13, \"15\": 12, \"0\": 22, \"7\": 16, \"9\": 20, \"12\": 12, \"2\": 24, \"14\": 10}, \"2\": {\"4\": 10, \"13\": 16, \"9\": 18, \"8\": 12, \"0\": 15, \"11\": 21, \"2\": 19, \"6\": 10, \"14\": 11, \"7\": 21, \"12\": 16, \"3\": 22, \"1\": 22, \"10\": 6, \"5\": 8, \"15\": 13}, \"8\": {\"8\": 30, \"4\": 23, \"11\": 11, \"14\": 28, \"12\": 17, \"6\": 17, \"5\": 14, \"2\": 12, \"9\": 15, \"15\": 6, \"0\": 9, \"13\": 9, \"10\": 15, \"7\": 15, \"1\": 5, \"3\": 14}, \"11\": {\"6\": 9, \"2\": 22, \"0\": 12, \"3\": 10, \"8\": 16, \"4\": 6, \"7\": 18, \"11\": 39, \"5\": 16, \"15\": 20, \"13\": 19, \"9\": 16, \"1\": 12, \"12\": 14, \"14\": 9, \"10\": 2}, \"14\": {\"4\": 30, \"10\": 38, \"11\": 8, \"5\": 6, \"6\": 24, \"3\": 13, \"9\": 15, \"8\": 25, \"12\": 5, \"2\": 17, \"7\": 14, \"15\": 7, \"14\": 28, \"1\": 4, \"0\": 5, \"13\": 1}, \"12\": {\"6\": 5, \"4\": 16, \"0\": 15, \"11\": 10, \"3\": 21, \"8\": 13, \"2\": 17, \"1\": 17, \"7\": 16, \"14\": 8, \"15\": 22, \"9\": 15, \"13\": 17, \"5\": 26, \"10\": 8, \"12\": 14}, \"13\": {\"0\": 22, \"9\": 17, \"8\": 12, \"3\": 16, \"2\": 14, \"1\": 18, \"13\": 24, \"5\": 26, \"15\": 18, \"11\": 18, \"12\": 22, \"7\": 15, \"6\": 3, \"10\": 5, \"4\": 7, \"14\": 3}, \"9\": {\"12\": 19, \"7\": 20, \"11\": 18, \"3\": 25, \"14\": 5, \"1\": 13, \"6\": 10, \"10\": 9, \"0\": 18, \"15\": 14, \"9\": 17, \"8\": 11, \"13\": 17, \"5\": 13, \"2\": 17, \"4\": 14}, \"5\": {\"6\": 7, \"4\": 13, \"11\": 14, \"3\": 15, \"0\": 25, \"7\": 16, \"2\": 15, \"5\": 13, \"15\": 14, \"8\": 19, \"13\": 29, \"14\": 6, \"9\": 17, \"1\": 11, \"12\": 16, \"10\": 10}, \"1\": {\"15\": 15, \"12\": 17, \"11\": 11, \"3\": 21, \"4\": 7, \"8\": 9, \"0\": 18, \"1\": 18, \"13\": 26, \"2\": 15, \"14\": 8, \"9\": 22, \"5\": 29, \"7\": 15, \"6\": 5, \"10\": 4}}, \"O_50\": {\"5\": {\"7\": 29, \"6\": 33, \"3\": 3, \"4\": 17, \"5\": 38, \"11\": 18, \"13\": 32, \"0\": 4, \"9\": 10, \"10\": 11, \"12\": 1, \"15\": 23, \"2\": 4, \"1\": 14, \"8\": 2, \"14\": 1}, \"12\": {\"14\": 46, \"11\": 36, \"12\": 47, \"10\": 2, \"6\": 9, \"15\": 7, \"9\": 23, \"1\": 23, \"2\": 14, \"0\": 17, \"5\": 6, \"13\": 3, \"4\": 6, \"7\": 1}, \"14\": {\"14\": 56, \"1\": 14, \"12\": 53, \"0\": 17, \"11\": 18, \"9\": 13, \"6\": 9, \"13\": 7, \"2\": 24, \"10\": 5, \"5\": 5, \"15\": 13, \"4\": 4, \"7\": 2}, \"4\": {\"11\": 19, \"13\": 27, \"5\": 26, \"7\": 15, \"15\": 35, \"4\": 43, \"1\": 26, \"9\": 17, \"6\": 23, \"10\": 4, \"14\": 4, \"12\": 1}, \"13\": {\"7\": 25, \"13\": 39, \"6\": 21, \"5\": 28, \"4\": 18, \"1\": 25, \"8\": 3, \"11\": 11, \"15\": 16, \"12\": 5, \"9\": 2, \"10\": 21, \"0\": 11, \"3\": 3, \"14\": 11, \"2\": 1}, \"10\": {\"6\": 7, \"8\": 37, \"10\": 50, \"14\": 5, \"11\": 1, \"13\": 21, \"2\": 29, \"3\": 16, \"7\": 11, \"0\": 39, \"4\": 2, \"5\": 12, \"1\": 7, \"15\": 2, \"12\": 1}, \"9\": {\"11\": 41, \"12\": 24, \"9\": 39, \"15\": 28, \"4\": 21, \"1\": 31, \"13\": 10, \"14\": 18, \"5\": 6, \"6\": 7, \"10\": 4, \"7\": 5, \"0\": 3, \"8\": 1, \"2\": 2}, \"15\": {\"7\": 6, \"15\": 43, \"9\": 22, \"5\": 15, \"4\": 21, \"12\": 7, \"11\": 36, \"6\": 31, \"1\": 35, \"13\": 15, \"14\": 5, \"2\": 2, \"10\": 2}, \"6\": {\"12\": 11, \"6\": 40, \"13\": 31, \"1\": 28, \"15\": 22, \"5\": 20, \"2\": 3, \"11\": 13, \"4\": 20, \"7\": 15, \"8\": 2, \"9\": 9, \"10\": 6, \"14\": 12, \"0\": 8}, \"2\": {\"2\": 65, \"0\": 71, \"8\": 15, \"1\": 6, \"14\": 11, \"12\": 16, \"10\": 25, \"13\": 6, \"15\": 4, \"11\": 4, \"6\": 5, \"4\": 3, \"9\": 2, \"5\": 2, \"7\": 4, \"3\": 1}, \"0\": {\"10\": 38, \"2\": 60, \"8\": 24, \"0\": 55, \"12\": 8, \"13\": 10, \"4\": 2, \"14\": 13, \"5\": 5, \"11\": 2, \"6\": 9, \"1\": 5, \"7\": 6, \"15\": 1, \"3\": 2}, \"11\": {\"11\": 38, \"15\": 23, \"9\": 34, \"4\": 22, \"1\": 37, \"13\": 13, \"5\": 9, \"14\": 13, \"6\": 21, \"12\": 19, \"10\": 2, \"2\": 2, \"7\": 6, \"0\": 1}, \"3\": {\"10\": 27, \"3\": 123, \"7\": 12, \"0\": 6, \"8\": 62, \"13\": 4, \"15\": 1, \"5\": 3, \"4\": 1, \"2\": 1}, \"8\": {\"8\": 68, \"10\": 48, \"2\": 24, \"3\": 49, \"0\": 30, \"7\": 9, \"4\": 1, \"6\": 1, \"13\": 5, \"5\": 4, \"14\": 1}, \"7\": {\"1\": 12, \"5\": 28, \"4\": 14, \"6\": 21, \"10\": 30, \"13\": 43, \"7\": 42, \"0\": 11, \"15\": 13, \"3\": 4, \"14\": 3, \"9\": 1, \"8\": 5, \"11\": 7, \"12\": 2, \"2\": 4}, \"1\": {\"13\": 25, \"15\": 31, \"9\": 14, \"5\": 13, \"11\": 20, \"14\": 15, \"4\": 16, \"1\": 38, \"6\": 28, \"12\": 17, \"2\": 4, \"7\": 10, \"0\": 6, \"10\": 3}}, \"O_26\": {\"7\": {\"1\": 17, \"2\": 16, \"14\": 20, \"5\": 11, \"15\": 12, \"4\": 27, \"10\": 24, \"3\": 19, \"7\": 22, \"13\": 3, \"9\": 14, \"8\": 15, \"6\": 16, \"0\": 22, \"12\": 2}, \"6\": {\"3\": 12, \"9\": 26, \"7\": 12, \"5\": 11, \"10\": 21, \"6\": 22, \"1\": 5, \"15\": 29, \"8\": 24, \"14\": 11, \"4\": 9, \"13\": 13, \"2\": 12, \"12\": 17, \"0\": 15, \"11\": 1}, \"14\": {\"3\": 22, \"4\": 27, \"0\": 24, \"5\": 7, \"15\": 12, \"7\": 19, \"14\": 19, \"2\": 24, \"8\": 25, \"1\": 17, \"10\": 17, \"6\": 14, \"9\": 10, \"13\": 2, \"12\": 1}, \"15\": {\"12\": 8, \"15\": 26, \"3\": 10, \"1\": 5, \"7\": 17, \"5\": 18, \"10\": 15, \"6\": 29, \"4\": 8, \"9\": 14, \"0\": 18, \"8\": 22, \"2\": 18, \"13\": 24, \"14\": 7, \"11\": 1}, \"5\": {\"7\": 13, \"10\": 11, \"5\": 18, \"13\": 34, \"9\": 26, \"8\": 8, \"2\": 16, \"6\": 26, \"12\": 19, \"14\": 3, \"3\": 12, \"0\": 13, \"15\": 24, \"11\": 6, \"1\": 6, \"4\": 5}, \"10\": {\"15\": 13, \"8\": 30, \"4\": 17, \"5\": 12, \"10\": 24, \"7\": 10, \"14\": 17, \"0\": 18, \"2\": 13, \"13\": 10, \"9\": 13, \"3\": 26, \"1\": 19, \"12\": 4, \"6\": 14}, \"4\": {\"10\": 20, \"5\": 8, \"3\": 24, \"7\": 18, \"1\": 26, \"15\": 8, \"8\": 15, \"9\": 11, \"2\": 23, \"0\": 21, \"4\": 29, \"14\": 20, \"6\": 11, \"13\": 5, \"12\": 1}, \"11\": {\"11\": 129, \"7\": 1, \"12\": 49, \"5\": 11, \"9\": 10, \"6\": 5, \"13\": 24, \"3\": 1, \"2\": 2, \"15\": 6, \"10\": 2}, \"13\": {\"9\": 25, \"2\": 14, \"15\": 26, \"5\": 34, \"13\": 43, \"6\": 25, \"10\": 5, \"4\": 4, \"7\": 11, \"12\": 22, \"0\": 5, \"11\": 7, \"8\": 12, \"3\": 7}, \"2\": {\"11\": 3, \"13\": 10, \"15\": 19, \"10\": 20, \"5\": 20, \"9\": 16, \"0\": 13, \"7\": 24, \"1\": 7, \"14\": 18, \"3\": 21, \"12\": 3, \"2\": 18, \"8\": 16, \"6\": 13, \"4\": 19}, \"0\": {\"4\": 19, \"15\": 16, \"0\": 26, \"10\": 20, \"6\": 14, \"5\": 7, \"8\": 19, \"1\": 20, \"3\": 21, \"12\": 6, \"7\": 18, \"9\": 10, \"2\": 23, \"14\": 16, \"13\": 5}, \"12\": {\"12\": 51, \"6\": 23, \"5\": 24, \"15\": 14, \"11\": 26, \"2\": 9, \"3\": 6, \"13\": 38, \"9\": 17, \"10\": 9, \"8\": 12, \"4\": 1, \"0\": 5, \"1\": 3, \"14\": 2}, \"3\": {\"3\": 33, \"15\": 13, \"1\": 21, \"7\": 20, \"2\": 27, \"4\": 16, \"0\": 14, \"10\": 17, \"8\": 17, \"6\": 12, \"5\": 13, \"14\": 20, \"13\": 4, \"9\": 13}, \"9\": {\"4\": 12, \"8\": 16, \"13\": 20, \"5\": 22, \"14\": 11, \"0\": 13, \"15\": 18, \"7\": 13, \"2\": 27, \"9\": 28, \"10\": 10, \"3\": 18, \"6\": 16, \"12\": 12, \"1\": 4}, \"8\": {\"3\": 13, \"1\": 12, \"8\": 17, \"7\": 17, \"10\": 30, \"15\": 18, \"5\": 13, \"0\": 24, \"2\": 26, \"9\": 8, \"14\": 17, \"4\": 20, \"12\": 4, \"6\": 17, \"13\": 4}, \"1\": {\"9\": 16, \"4\": 26, \"7\": 17, \"6\": 5, \"3\": 24, \"15\": 9, \"10\": 24, \"12\": 1, \"2\": 21, \"8\": 16, \"14\": 27, \"1\": 28, \"5\": 4, \"0\": 20, \"13\": 2}}, \"O_32\": {\"7\": {\"4\": 30, \"14\": 34, \"13\": 21, \"11\": 17, \"7\": 32, \"5\": 22, \"0\": 31, \"3\": 6, \"2\": 32, \"9\": 7, \"8\": 8}, \"2\": {\"0\": 19, \"4\": 30, \"8\": 11, \"7\": 30, \"13\": 13, \"2\": 51, \"11\": 16, \"5\": 18, \"14\": 27, \"9\": 22, \"12\": 3}, \"5\": {\"15\": 2, \"3\": 19, \"11\": 20, \"0\": 22, \"13\": 21, \"14\": 28, \"2\": 15, \"5\": 34, \"8\": 31, \"4\": 29, \"7\": 17, \"9\": 2}, \"6\": {\"6\": 134, \"12\": 22, \"1\": 23, \"10\": 53, \"9\": 8}, \"13\": {\"8\": 36, \"13\": 40, \"0\": 23, \"5\": 24, \"2\": 11, \"3\": 22, \"4\": 28, \"11\": 21, \"14\": 17, \"7\": 16, \"9\": 2}, \"4\": {\"0\": 19, \"5\": 30, \"13\": 18, \"4\": 37, \"14\": 31, \"8\": 6, \"7\": 29, \"11\": 15, \"2\": 34, \"9\": 12, \"3\": 8, \"12\": 1}, \"3\": {\"7\": 14, \"3\": 53, \"13\": 27, \"5\": 31, \"8\": 39, \"15\": 20, \"11\": 21, \"4\": 9, \"14\": 17, \"0\": 9}, \"0\": {\"4\": 25, \"13\": 22, \"2\": 23, \"14\": 27, \"7\": 20, \"11\": 25, \"5\": 21, \"0\": 42, \"8\": 15, \"9\": 9, \"3\": 9, \"15\": 1, \"12\": 1}, \"9\": {\"9\": 91, \"0\": 10, \"12\": 76, \"14\": 8, \"2\": 26, \"13\": 1, \"4\": 11, \"7\": 7, \"5\": 4, \"11\": 4, \"6\": 1, \"10\": 1}, \"12\": {\"12\": 108, \"2\": 10, \"10\": 32, \"6\": 9, \"9\": 71, \"0\": 4, \"7\": 1, \"4\": 1, \"11\": 1, \"8\": 2, \"14\": 1}, \"8\": {\"13\": 40, \"8\": 32, \"0\": 14, \"3\": 41, \"2\": 11, \"11\": 19, \"7\": 18, \"5\": 21, \"14\": 20, \"4\": 19, \"15\": 5}, \"14\": {\"2\": 14, \"9\": 4, \"8\": 21, \"0\": 30, \"5\": 35, \"11\": 25, \"14\": 32, \"7\": 24, \"12\": 1, \"3\": 15, \"13\": 20, \"4\": 19}, \"15\": {\"15\": 188, \"3\": 30, \"8\": 12, \"5\": 2, \"13\": 5, \"4\": 1, \"11\": 1, \"0\": 1}, \"11\": {\"11\": 42, \"8\": 18, \"13\": 13, \"14\": 35, \"0\": 28, \"3\": 16, \"4\": 19, \"7\": 25, \"2\": 18, \"5\": 25, \"9\": 1}, \"10\": {\"1\": 50, \"10\": 139, \"6\": 29, \"12\": 19, \"9\": 3}, \"1\": {\"6\": 29, \"1\": 167, \"10\": 44}}, \"O_44\": {\"11\": {\"10\": 20, \"7\": 7, \"11\": 114, \"6\": 48, \"2\": 11, \"13\": 23, \"9\": 9, \"4\": 1, \"12\": 5, \"1\": 2}, \"7\": {\"7\": 48, \"9\": 33, \"6\": 23, \"10\": 31, \"3\": 9, \"12\": 29, \"1\": 26, \"2\": 21, \"13\": 13, \"5\": 1, \"11\": 3, \"4\": 2, \"14\": 1}, \"6\": {\"7\": 27, \"11\": 47, \"6\": 49, \"10\": 26, \"9\": 22, \"13\": 42, \"12\": 3, \"2\": 18, \"4\": 2, \"1\": 4}, \"12\": {\"1\": 45, \"7\": 23, \"12\": 56, \"2\": 24, \"10\": 31, \"3\": 28, \"9\": 16, \"13\": 11, \"6\": 5, \"11\": 1}, \"4\": {\"4\": 60, \"5\": 33, \"14\": 52, \"0\": 8, \"9\": 15, \"13\": 7, \"15\": 23, \"1\": 8, \"7\": 4, \"3\": 22, \"12\": 3, \"2\": 3, \"8\": 1, \"11\": 1}, \"13\": {\"2\": 34, \"10\": 14, \"7\": 26, \"12\": 6, \"11\": 22, \"9\": 28, \"1\": 10, \"13\": 46, \"14\": 6, \"6\": 40, \"3\": 6, \"4\": 2}, \"8\": {\"0\": 61, \"8\": 91, \"14\": 13, \"15\": 43, \"5\": 30, \"4\": 2}, \"5\": {\"4\": 29, \"5\": 57, \"15\": 45, \"8\": 32, \"0\": 32, \"14\": 35, \"9\": 1, \"3\": 4, \"12\": 1, \"13\": 3, \"10\": 1}, \"14\": {\"0\": 14, \"4\": 46, \"7\": 3, \"5\": 40, \"14\": 67, \"1\": 5, \"9\": 3, \"15\": 30, \"3\": 19, \"8\": 5, \"13\": 2, \"12\": 3, \"6\": 1, \"2\": 2}, \"3\": {\"7\": 17, \"3\": 51, \"1\": 42, \"2\": 12, \"4\": 23, \"12\": 34, \"9\": 24, \"14\": 12, \"13\": 8, \"10\": 13, \"15\": 3, \"6\": 1}, \"10\": {\"10\": 45, \"1\": 25, \"7\": 19, \"2\": 46, \"12\": 38, \"9\": 15, \"13\": 15, \"3\": 6, \"6\": 18, \"11\": 12, \"4\": 1}, \"1\": {\"10\": 27, \"7\": 34, \"1\": 59, \"6\": 4, \"2\": 24, \"12\": 42, \"9\": 19, \"3\": 20, \"13\": 10, \"4\": 1}, \"2\": {\"6\": 16, \"10\": 38, \"9\": 26, \"1\": 30, \"2\": 49, \"3\": 11, \"7\": 30, \"13\": 16, \"12\": 19, \"4\": 1, \"11\": 4}, \"15\": {\"14\": 38, \"15\": 56, \"8\": 37, \"0\": 47, \"5\": 29, \"4\": 28, \"9\": 2, \"3\": 2, \"7\": 1}, \"9\": {\"2\": 26, \"1\": 21, \"9\": 41, \"12\": 18, \"3\": 12, \"6\": 22, \"10\": 14, \"13\": 38, \"7\": 32, \"14\": 2, \"4\": 8, \"11\": 6}, \"0\": {\"0\": 59, \"14\": 31, \"15\": 49, \"5\": 42, \"8\": 45, \"4\": 14}}, \"O_8\": {\"10\": {\"1\": 19, \"0\": 24, \"14\": 23, \"6\": 26, \"13\": 31, \"7\": 22, \"5\": 21, \"4\": 15, \"11\": 5, \"10\": 28, \"3\": 3, \"15\": 7, \"2\": 6, \"8\": 8, \"12\": 2}, \"6\": {\"10\": 8, \"4\": 16, \"0\": 32, \"13\": 21, \"14\": 20, \"12\": 10, \"7\": 13, \"11\": 15, \"15\": 14, \"3\": 14, \"6\": 21, \"5\": 9, \"8\": 19, \"1\": 15, \"2\": 13}, \"13\": {\"5\": 20, \"13\": 32, \"1\": 11, \"6\": 19, \"14\": 17, \"11\": 14, \"4\": 21, \"0\": 26, \"8\": 6, \"10\": 28, \"15\": 8, \"12\": 4, \"7\": 21, \"2\": 9, \"3\": 4}, \"3\": {\"8\": 27, \"10\": 3, \"12\": 33, \"15\": 30, \"6\": 16, \"2\": 32, \"11\": 6, \"3\": 41, \"14\": 7, \"5\": 1, \"13\": 7, \"1\": 5, \"4\": 14, \"0\": 9, \"7\": 9}, \"9\": {\"9\": 205, \"4\": 2, \"10\": 7, \"0\": 5, \"5\": 13, \"7\": 1, \"13\": 4, \"14\": 1, \"11\": 2}, \"1\": {\"14\": 20, \"1\": 25, \"8\": 20, \"11\": 32, \"4\": 10, \"13\": 17, \"5\": 27, \"15\": 13, \"2\": 6, \"7\": 15, \"3\": 6, \"6\": 14, \"0\": 11, \"12\": 5, \"10\": 19}, \"5\": {\"5\": 43, \"7\": 16, \"11\": 11, \"9\": 1, \"1\": 18, \"4\": 32, \"15\": 2, \"10\": 27, \"13\": 20, \"14\": 22, \"6\": 16, \"0\": 22, \"3\": 3, \"8\": 5, \"2\": 1, \"12\": 1}, \"11\": {\"7\": 15, \"14\": 21, \"5\": 14, \"12\": 6, \"1\": 29, \"0\": 13, \"11\": 29, \"4\": 11, \"15\": 20, \"6\": 19, \"8\": 20, \"2\": 8, \"3\": 11, \"13\": 8, \"10\": 16}, \"4\": {\"4\": 19, \"14\": 19, \"13\": 23, \"5\": 18, \"15\": 9, \"1\": 18, \"10\": 24, \"2\": 9, \"6\": 23, \"0\": 17, \"7\": 23, \"8\": 13, \"3\": 6, \"11\": 14, \"12\": 5}, \"14\": {\"11\": 21, \"2\": 10, \"6\": 22, \"14\": 23, \"13\": 15, \"5\": 21, \"0\": 15, \"1\": 14, \"7\": 27, \"10\": 19, \"4\": 30, \"12\": 3, \"3\": 7, \"15\": 7, \"8\": 6}, \"12\": {\"6\": 16, \"1\": 13, \"2\": 20, \"12\": 37, \"15\": 37, \"3\": 35, \"8\": 33, \"4\": 8, \"11\": 12, \"0\": 5, \"13\": 5, \"7\": 13, \"10\": 2, \"14\": 2, \"5\": 2}, \"7\": {\"14\": 20, \"7\": 27, \"1\": 13, \"13\": 24, \"6\": 15, \"2\": 21, \"10\": 21, \"4\": 21, \"15\": 9, \"8\": 9, \"5\": 7, \"0\": 21, \"12\": 11, \"3\": 8, \"11\": 13}, \"0\": {\"10\": 27, \"14\": 23, \"13\": 32, \"0\": 23, \"2\": 9, \"4\": 27, \"6\": 31, \"7\": 27, \"1\": 5, \"5\": 14, \"15\": 3, \"3\": 6, \"11\": 7, \"8\": 4, \"12\": 2}, \"15\": {\"0\": 9, \"7\": 12, \"6\": 20, \"15\": 26, \"13\": 8, \"11\": 12, \"4\": 14, \"3\": 32, \"2\": 20, \"12\": 31, \"8\": 37, \"10\": 1, \"14\": 10, \"1\": 8}, \"2\": {\"4\": 15, \"1\": 7, \"0\": 12, \"15\": 16, \"6\": 24, \"2\": 39, \"3\": 33, \"10\": 13, \"7\": 18, \"12\": 14, \"11\": 8, \"14\": 10, \"8\": 19, \"13\": 11, \"5\": 1}, \"8\": {\"3\": 19, \"7\": 19, \"6\": 17, \"1\": 20, \"15\": 30, \"8\": 27, \"12\": 27, \"0\": 10, \"5\": 7, \"13\": 14, \"11\": 13, \"14\": 5, \"2\": 16, \"4\": 13, \"10\": 3}}, \"O_38\": {\"4\": {\"4\": 177, \"12\": 43, \"7\": 3, \"10\": 5, \"11\": 10, \"3\": 1, \"0\": 1}, \"7\": {\"10\": 28, \"7\": 59, \"3\": 19, \"5\": 24, \"8\": 34, \"0\": 33, \"14\": 4, \"12\": 13, \"9\": 9, \"13\": 4, \"4\": 5, \"15\": 4, \"6\": 4}, \"12\": {\"10\": 15, \"11\": 18, \"12\": 120, \"4\": 27, \"14\": 21, \"7\": 11, \"3\": 1, \"8\": 7, \"5\": 3, \"0\": 12, \"13\": 1, \"15\": 3, \"1\": 1}, \"10\": {\"15\": 13, \"6\": 4, \"5\": 23, \"10\": 34, \"13\": 16, \"9\": 7, \"0\": 23, \"11\": 16, \"12\": 15, \"7\": 21, \"8\": 25, \"14\": 27, \"2\": 9, \"3\": 4, \"1\": 2, \"4\": 1}, \"0\": {\"0\": 32, \"3\": 22, \"8\": 36, \"10\": 16, \"7\": 39, \"14\": 7, \"6\": 14, \"4\": 5, \"15\": 14, \"12\": 13, \"13\": 5, \"9\": 15, \"5\": 16, \"1\": 5, \"11\": 1}, \"1\": {\"2\": 19, \"15\": 43, \"1\": 71, \"5\": 13, \"6\": 38, \"3\": 2, \"13\": 14, \"8\": 15, \"9\": 16, \"0\": 6, \"10\": 2, \"7\": 1}, \"5\": {\"8\": 34, \"6\": 26, \"13\": 16, \"3\": 15, \"14\": 2, \"5\": 29, \"7\": 20, \"0\": 17, \"15\": 26, \"2\": 3, \"1\": 14, \"9\": 26, \"10\": 9, \"12\": 2, \"11\": 1}, \"15\": {\"1\": 36, \"6\": 24, \"13\": 27, \"5\": 20, \"7\": 4, \"3\": 3, \"9\": 13, \"15\": 49, \"8\": 14, \"10\": 14, \"2\": 16, \"14\": 9, \"0\": 11}, \"9\": {\"6\": 39, \"1\": 13, \"8\": 24, \"3\": 30, \"15\": 17, \"9\": 43, \"5\": 31, \"7\": 11, \"2\": 2, \"0\": 12, \"13\": 13, \"10\": 4, \"14\": 1}, \"11\": {\"11\": 83, \"4\": 22, \"14\": 62, \"12\": 19, \"10\": 22, \"13\": 8, \"0\": 2, \"2\": 10, \"1\": 3, \"15\": 3, \"7\": 3, \"5\": 1, \"6\": 1, \"8\": 1}, \"14\": {\"8\": 11, \"10\": 36, \"12\": 16, \"11\": 31, \"0\": 7, \"14\": 69, \"2\": 34, \"15\": 11, \"13\": 9, \"1\": 6, \"4\": 3, \"5\": 3, \"6\": 2, \"7\": 2}, \"6\": {\"2\": 1, \"9\": 39, \"6\": 62, \"1\": 42, \"7\": 7, \"15\": 23, \"0\": 14, \"3\": 5, \"8\": 20, \"5\": 15, \"14\": 1, \"13\": 11}, \"8\": {\"7\": 22, \"6\": 17, \"8\": 45, \"15\": 13, \"1\": 14, \"5\": 31, \"10\": 15, \"0\": 25, \"13\": 12, \"12\": 5, \"14\": 7, \"3\": 16, \"9\": 14, \"2\": 4}, \"3\": {\"8\": 19, \"7\": 34, \"3\": 78, \"10\": 5, \"0\": 38, \"9\": 26, \"6\": 10, \"1\": 2, \"5\": 14, \"13\": 4, \"15\": 4, \"11\": 1, \"12\": 3, \"4\": 1, \"2\": 1}, \"2\": {\"13\": 41, \"2\": 65, \"1\": 30, \"15\": 33, \"14\": 20, \"5\": 6, \"0\": 5, \"8\": 10, \"10\": 19, \"11\": 7, \"9\": 1, \"12\": 1, \"7\": 1, \"6\": 1}, \"13\": {\"9\": 14, \"3\": 6, \"13\": 43, \"14\": 16, \"8\": 18, \"10\": 23, \"0\": 11, \"15\": 31, \"5\": 11, \"1\": 22, \"2\": 30, \"6\": 7, \"7\": 6, \"11\": 2}}}, \"per_domain_accuracy\": {\"W_3\": {\"accuracy\": 0.9686135371179039, \"source?\": true}, \"W_4\": {\"accuracy\": 0.9541580578512396, \"source?\": true}, \"C_4\": {\"accuracy\": 0.9981287425149701, \"source?\": true}, \"C_5\": {\"accuracy\": 0.9935405027932961, \"source?\": true}, \"C_2\": {\"accuracy\": 0.9983928571428572, \"source?\": true}, \"W_2\": {\"accuracy\": 0.9567510548523207, \"source?\": true}, \"C_1\": {\"accuracy\": 0.998641304347826, \"source?\": true}, \"C_3\": {\"accuracy\": 0.9988970588235294, \"source?\": true}, \"W_1\": {\"accuracy\": 0.9679621848739496, \"source?\": true}, \"O_14\": {\"accuracy\": 0.16953125, \"source?\": false}, \"O_20\": {\"accuracy\": 0.09166666666666666, \"source?\": false}, \"O_50\": {\"accuracy\": 0.21458333333333332, \"source?\": false}, \"O_26\": {\"accuracy\": 0.13880208333333333, \"source?\": false}, \"O_32\": {\"accuracy\": 0.3182291666666667, \"source?\": false}, \"O_44\": {\"accuracy\": 0.246875, \"source?\": false}, \"O_8\": {\"accuracy\": 0.16796875, \"source?\": false}, \"O_38\": {\"accuracy\": 0.27578125, \"source?\": false}}}, \"history\": {\"epoch_indices\": [1, 2, 3, 4, 5], \"train_label_loss\": [0.10707990694206461, 0.06533579818614464, 0.05279398090268955, 0.04437779195573759, 0.03703902694254593], \"source_val_label_loss\": [0.0971420630812645, 0.06740319728851318, 0.06145892292261124, 0.06301908940076828, 0.06333532184362411], \"target_val_label_loss\": [2.464670181274414, 2.5130391120910645, 2.5168709754943848, 2.709493637084961, 2.808318614959717], \"source_val_acc_label\": [0.9789435749588138, 0.9844179022515102, 0.9856363261943987, 0.985190142778693, 0.9860481878088962], \"target_val_acc_label\": [0.2029296875, 0.18603515625, 0.19287109375, 0.17151692708333333, 0.15699869791666668]}, \"dataset_metrics\": {\"source\": {\"train\": {\"n_unique_x\": 364219, \"n_unique_y\": 130, \"n_batch/episode\": 13141}, \"val\": {\"n_unique_x\": 77265, \"n_unique_y\": 130, \"n_batch/episode\": 1821}, \"test\": {\"n_unique_x\": 78390, \"n_unique_y\": 130, \"n_batch/episode\": 1852}}, \"target\": {\"train\": {\"n_unique_x\": 179200, \"n_unique_y\": 16, \"n_batch/episode\": 6720}, \"val\": {\"n_unique_x\": 38400, \"n_unique_y\": 16, \"n_batch/episode\": 960}, \"test\": {\"n_unique_x\": 38400, \"n_unique_y\": 16, \"n_batch/episode\": 960}}}}'"
      ]
     },
     "execution_count": 29,
     "metadata": {},
     "output_type": "execute_result"
    }
   ],
   "source": [
    "json.dumps(experiment)"
   ]
  }
 ],
 "metadata": {
  "celltoolbar": "Tags",
  "kernelspec": {
   "display_name": "Python 3 (ipykernel)",
   "language": "python",
   "name": "python3"
  },
  "language_info": {
   "codemirror_mode": {
    "name": "ipython",
    "version": 3
   },
   "file_extension": ".py",
   "mimetype": "text/x-python",
   "name": "python",
   "nbconvert_exporter": "python",
   "pygments_lexer": "ipython3",
   "version": "3.8.10"
  },
  "papermill": {
   "default_parameters": {},
   "duration": 2020.622287,
   "end_time": "2022-03-20T05:05:45.634777",
   "environment_variables": {},
   "exception": null,
   "input_path": "/mnt/wd500GB/CSC500/csc500-main/csc500-notebooks/templates/tl_ptn_template.ipynb",
   "output_path": "trial.ipynb",
   "parameters": {
    "parameters": {
     "BEST_MODEL_PATH": "./best_model.pth",
     "NUM_LOGS_PER_EPOCH": 10,
     "criteria_for_best": "target_accuracy",
     "dataset_seed": 420,
     "datasets": [
      {
       "domain_prefix": "C_",
       "domains": [
        1,
        2,
        3,
        4,
        5
       ],
       "episode_transforms": [],
       "labels": [
        "1-10.",
        "1-11.",
        "1-15.",
        "1-16.",
        "1-17.",
        "1-18.",
        "1-19.",
        "10-4.",
        "10-7.",
        "11-1.",
        "11-14.",
        "11-17.",
        "11-20.",
        "11-7.",
        "13-20.",
        "13-8.",
        "14-10.",
        "14-11.",
        "14-14.",
        "14-7.",
        "15-1.",
        "15-20.",
        "16-1.",
        "16-16.",
        "17-10.",
        "17-11.",
        "17-2.",
        "19-1.",
        "19-16.",
        "19-19.",
        "19-20.",
        "19-3.",
        "2-10.",
        "2-11.",
        "2-17.",
        "2-18.",
        "2-20.",
        "2-3.",
        "2-4.",
        "2-5.",
        "2-6.",
        "2-7.",
        "2-8.",
        "3-13.",
        "3-18.",
        "3-3.",
        "4-1.",
        "4-10.",
        "4-11.",
        "4-19.",
        "5-5.",
        "6-15.",
        "7-10.",
        "7-14.",
        "8-18.",
        "8-20.",
        "8-3.",
        "8-8."
       ],
       "num_examples_per_domain_per_label": -1,
       "pickle_path": "/mnt/wd500GB/CSC500/csc500-main/datasets/cores.stratified_ds.2022A.pkl",
       "source_or_target_dataset": "source",
       "x_transforms": [
        "unit_mag"
       ]
      },
      {
       "domain_prefix": "W_",
       "domains": [
        1,
        2,
        3,
        4
       ],
       "episode_transforms": [],
       "labels": [
        "1-10",
        "1-12",
        "1-14",
        "1-16",
        "1-18",
        "1-19",
        "1-8",
        "10-11",
        "10-17",
        "10-4",
        "10-7",
        "11-1",
        "11-10",
        "11-19",
        "11-20",
        "11-4",
        "11-7",
        "12-19",
        "12-20",
        "12-7",
        "13-14",
        "13-18",
        "13-19",
        "13-20",
        "13-3",
        "13-7",
        "14-10",
        "14-11",
        "14-12",
        "14-13",
        "14-14",
        "14-19",
        "14-20",
        "14-7",
        "14-8",
        "14-9",
        "15-1",
        "15-19",
        "15-6",
        "16-1",
        "16-16",
        "16-19",
        "16-20",
        "17-10",
        "17-11",
        "18-1",
        "18-10",
        "18-11",
        "18-12",
        "18-13",
        "18-14",
        "18-15",
        "18-16",
        "18-17",
        "18-19",
        "18-2",
        "18-20",
        "18-4",
        "18-5",
        "18-7",
        "18-8",
        "18-9",
        "19-1",
        "19-10",
        "19-11",
        "19-12",
        "19-13",
        "19-14",
        "19-15",
        "19-19",
        "19-2",
        "19-20",
        "19-3",
        "19-4",
        "19-6",
        "19-7",
        "19-8",
        "19-9",
        "2-1",
        "2-13",
        "2-15",
        "2-3",
        "2-4",
        "2-5",
        "2-6",
        "2-7",
        "2-8",
        "20-1",
        "20-12",
        "20-14",
        "20-15",
        "20-16",
        "20-18",
        "20-19",
        "20-20",
        "20-3",
        "20-4",
        "20-5",
        "20-7",
        "20-8",
        "3-1",
        "3-13",
        "3-18",
        "3-2",
        "3-8",
        "4-1",
        "4-10",
        "4-11",
        "5-1",
        "5-5",
        "6-1",
        "6-15",
        "6-6",
        "7-10",
        "7-11",
        "7-12",
        "7-13",
        "7-14",
        "7-7",
        "7-8",
        "7-9",
        "8-1",
        "8-13",
        "8-14",
        "8-18",
        "8-20",
        "8-3",
        "8-8",
        "9-1",
        "9-7"
       ],
       "num_examples_per_domain_per_label": -1,
       "pickle_path": "/mnt/wd500GB/CSC500/csc500-main/datasets/wisig.node3-19.stratified_ds.2022A.pkl",
       "source_or_target_dataset": "source",
       "x_transforms": [
        "unit_mag"
       ]
      },
      {
       "domain_prefix": "O_",
       "domains": [
        32,
        38,
        8,
        44,
        14,
        50,
        20,
        26
       ],
       "episode_transforms": [],
       "labels": [
        "3123D52",
        "3123D65",
        "3123D79",
        "3123D80",
        "3123D54",
        "3123D70",
        "3123D7B",
        "3123D89",
        "3123D58",
        "3123D76",
        "3123D7D",
        "3123EFE",
        "3123D64",
        "3123D78",
        "3123D7E",
        "3124E4A"
       ],
       "num_examples_per_domain_per_label": 2000,
       "pickle_path": "/mnt/wd500GB/CSC500/csc500-main/datasets/oracle.Run1_framed_2000Examples_stratified_ds.2022A.pkl",
       "source_or_target_dataset": "target",
       "x_transforms": [
        "unit_mag"
       ]
      }
     ],
     "device": "cuda",
     "experiment_name": "tl_2v2:cores+wisig -> oracle.run1.framed",
     "lr": 0.0001,
     "n_epoch": 50,
     "n_query": 2,
     "n_shot": 3,
     "n_way": 16,
     "patience": 3,
     "seed": 420,
     "test_k_factor": 2,
     "torch_default_dtype": "torch.float32",
     "train_k_factor": 3,
     "val_k_factor": 2,
     "x_net": [
      {
       "class": "nnReshape",
       "kargs": {
        "shape": [
         -1,
         1,
         2,
         256
        ]
       }
      },
      {
       "class": "Conv2d",
       "kargs": {
        "bias": false,
        "in_channels": 1,
        "kernel_size": [
         1,
         7
        ],
        "out_channels": 256,
        "padding": [
         0,
         3
        ]
       }
      },
      {
       "class": "ReLU",
       "kargs": {
        "inplace": true
       }
      },
      {
       "class": "BatchNorm2d",
       "kargs": {
        "num_features": 256
       }
      },
      {
       "class": "Conv2d",
       "kargs": {
        "bias": true,
        "in_channels": 256,
        "kernel_size": [
         2,
         7
        ],
        "out_channels": 80,
        "padding": [
         0,
         3
        ]
       }
      },
      {
       "class": "ReLU",
       "kargs": {
        "inplace": true
       }
      },
      {
       "class": "BatchNorm2d",
       "kargs": {
        "num_features": 80
       }
      },
      {
       "class": "Flatten",
       "kargs": {}
      },
      {
       "class": "Linear",
       "kargs": {
        "in_features": 20480,
        "out_features": 256
       }
      },
      {
       "class": "ReLU",
       "kargs": {
        "inplace": true
       }
      },
      {
       "class": "BatchNorm1d",
       "kargs": {
        "num_features": 256
       }
      },
      {
       "class": "Linear",
       "kargs": {
        "in_features": 256,
        "out_features": 256
       }
      }
     ]
    }
   },
   "start_time": "2022-03-20T04:32:05.012490",
   "version": "2.3.4"
  }
 },
 "nbformat": 4,
 "nbformat_minor": 5
}