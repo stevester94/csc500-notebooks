{
 "cells": [
  {
   "cell_type": "markdown",
   "id": "9fea5f46",
   "metadata": {
    "papermill": {
     "duration": 0.016831,
     "end_time": "2022-03-20T05:05:46.335905",
     "exception": false,
     "start_time": "2022-03-20T05:05:46.319074",
     "status": "completed"
    },
    "tags": []
   },
   "source": [
    "# Transfer Learning Template"
   ]
  },
  {
   "cell_type": "code",
   "execution_count": 1,
   "id": "0902182a",
   "metadata": {
    "execution": {
     "iopub.execute_input": "2022-03-20T05:05:46.374926Z",
     "iopub.status.busy": "2022-03-20T05:05:46.374549Z",
     "iopub.status.idle": "2022-03-20T05:05:47.281351Z",
     "shell.execute_reply": "2022-03-20T05:05:47.281571Z"
    },
    "papermill": {
     "duration": 0.93309,
     "end_time": "2022-03-20T05:05:47.281676",
     "exception": false,
     "start_time": "2022-03-20T05:05:46.348586",
     "status": "completed"
    },
    "tags": []
   },
   "outputs": [],
   "source": [
    "%load_ext autoreload\n",
    "%autoreload 2\n",
    "%matplotlib inline\n",
    "\n",
    "    \n",
    "import os, json, sys, time, random\n",
    "import numpy as np\n",
    "import torch\n",
    "from torch.optim import Adam\n",
    "from  easydict import EasyDict\n",
    "import matplotlib.pyplot as plt\n",
    "\n",
    "from steves_models.steves_ptn import Steves_Prototypical_Network\n",
    "\n",
    "from steves_utils.lazy_iterable_wrapper import Lazy_Iterable_Wrapper\n",
    "from steves_utils.iterable_aggregator import Iterable_Aggregator\n",
    "from steves_utils.ptn_train_eval_test_jig import  PTN_Train_Eval_Test_Jig\n",
    "from steves_utils.torch_sequential_builder import build_sequential\n",
    "from steves_utils.torch_utils import get_dataset_metrics, ptn_confusion_by_domain_over_dataloader\n",
    "from steves_utils.utils_v2 import (per_domain_accuracy_from_confusion, get_datasets_base_path)\n",
    "from steves_utils.PTN.utils import independent_accuracy_assesment\n",
    "\n",
    "from torch.utils.data import DataLoader\n",
    "\n",
    "from steves_utils.stratified_dataset.episodic_accessor import Episodic_Accessor_Factory\n",
    "\n",
    "from steves_utils.ptn_do_report import (\n",
    "    get_loss_curve,\n",
    "    get_results_table,\n",
    "    get_parameters_table,\n",
    "    get_domain_accuracies,\n",
    ")\n",
    "\n",
    "from steves_utils.transforms import get_chained_transform"
   ]
  },
  {
   "cell_type": "markdown",
   "id": "41c840b4",
   "metadata": {
    "papermill": {
     "duration": 0.012541,
     "end_time": "2022-03-20T05:05:47.309657",
     "exception": false,
     "start_time": "2022-03-20T05:05:47.297116",
     "status": "completed"
    },
    "tags": []
   },
   "source": [
    "# Allowed Parameters\n",
    "These are allowed parameters, not defaults\n",
    "Each of these values need to be present in the injected parameters (the notebook will raise an exception if they are not present)\n",
    "\n",
    "Papermill uses the cell tag \"parameters\" to inject the real parameters below this cell.\n",
    "Enable tags to see what I mean"
   ]
  },
  {
   "cell_type": "code",
   "execution_count": 2,
   "id": "fd44eb83",
   "metadata": {
    "execution": {
     "iopub.execute_input": "2022-03-20T05:05:47.338160Z",
     "iopub.status.busy": "2022-03-20T05:05:47.337900Z",
     "iopub.status.idle": "2022-03-20T05:05:47.352113Z",
     "shell.execute_reply": "2022-03-20T05:05:47.352478Z"
    },
    "papermill": {
     "duration": 0.030273,
     "end_time": "2022-03-20T05:05:47.352585",
     "exception": false,
     "start_time": "2022-03-20T05:05:47.322312",
     "status": "completed"
    },
    "tags": []
   },
   "outputs": [],
   "source": [
    "required_parameters = {\n",
    "    \"experiment_name\",\n",
    "    \"lr\",\n",
    "    \"device\",\n",
    "    \"seed\",\n",
    "    \"dataset_seed\",\n",
    "    \"n_shot\",\n",
    "    \"n_query\",\n",
    "    \"n_way\",\n",
    "    \"train_k_factor\",\n",
    "    \"val_k_factor\",\n",
    "    \"test_k_factor\",\n",
    "    \"n_epoch\",\n",
    "    \"patience\",\n",
    "    \"criteria_for_best\",\n",
    "    \"x_net\",\n",
    "    \"datasets\",\n",
    "    \"torch_default_dtype\",\n",
    "    \"NUM_LOGS_PER_EPOCH\",\n",
    "    \"BEST_MODEL_PATH\",\n",
    "    \"x_shape\",\n",
    "}"
   ]
  },
  {
   "cell_type": "code",
   "execution_count": 3,
   "id": "fa3f0049",
   "metadata": {
    "execution": {
     "iopub.execute_input": "2022-03-20T05:05:47.392574Z",
     "iopub.status.busy": "2022-03-20T05:05:47.392296Z",
     "iopub.status.idle": "2022-03-20T05:05:47.405226Z",
     "shell.execute_reply": "2022-03-20T05:05:47.404747Z"
    },
    "papermill": {
     "duration": 0.035156,
     "end_time": "2022-03-20T05:05:47.405326",
     "exception": false,
     "start_time": "2022-03-20T05:05:47.370170",
     "status": "completed"
    },
    "tags": [
     "parameters"
    ]
   },
   "outputs": [],
   "source": [
    "from steves_utils.CORES.utils import (\n",
    "    ALL_NODES,\n",
    "    ALL_NODES_MINIMUM_1000_EXAMPLES,\n",
    "    ALL_DAYS\n",
    ")\n",
    "\n",
    "from steves_utils.ORACLE.utils_v2 import (\n",
    "    ALL_DISTANCES_FEET_NARROWED,\n",
    "    ALL_RUNS,\n",
    "    ALL_SERIAL_NUMBERS,\n",
    ")\n",
    "\n",
    "standalone_parameters = {}\n",
    "standalone_parameters[\"experiment_name\"] = \"STANDALONE PTN\"\n",
    "standalone_parameters[\"lr\"] = 0.001\n",
    "standalone_parameters[\"device\"] = \"cuda\"\n",
    "\n",
    "standalone_parameters[\"seed\"] = 1337\n",
    "standalone_parameters[\"dataset_seed\"] = 1337\n",
    "\n",
    "standalone_parameters[\"n_way\"] = 8\n",
    "standalone_parameters[\"n_shot\"] = 3\n",
    "standalone_parameters[\"n_query\"]  = 2\n",
    "standalone_parameters[\"train_k_factor\"] = 1\n",
    "standalone_parameters[\"val_k_factor\"] = 2\n",
    "standalone_parameters[\"test_k_factor\"] = 2\n",
    "\n",
    "\n",
    "standalone_parameters[\"n_epoch\"] = 50\n",
    "\n",
    "standalone_parameters[\"patience\"] = 10\n",
    "standalone_parameters[\"criteria_for_best\"] = \"source_loss\"\n",
    "\n",
    "standalone_parameters[\"datasets\"] = [\n",
    "    {\n",
    "        \"labels\": ALL_SERIAL_NUMBERS,\n",
    "        \"domains\": ALL_DISTANCES_FEET_NARROWED,\n",
    "        \"num_examples_per_domain_per_label\": 100,\n",
    "        \"pickle_path\": os.path.join(get_datasets_base_path(), \"oracle.Run1_framed_2000Examples_stratified_ds.2022A.pkl\"),\n",
    "        \"source_or_target_dataset\": \"source\",\n",
    "        \"x_transforms\": [\"unit_mag\", \"minus_two\"],\n",
    "        \"episode_transforms\": [],\n",
    "        \"domain_prefix\": \"ORACLE_\"\n",
    "    },\n",
    "    {\n",
    "        \"labels\": ALL_NODES,\n",
    "        \"domains\": ALL_DAYS,\n",
    "        \"num_examples_per_domain_per_label\": 100,\n",
    "        \"pickle_path\": os.path.join(get_datasets_base_path(), \"cores.stratified_ds.2022A.pkl\"),\n",
    "        \"source_or_target_dataset\": \"target\",\n",
    "        \"x_transforms\": [\"unit_power\", \"times_zero\"],\n",
    "        \"episode_transforms\": [],\n",
    "        \"domain_prefix\": \"CORES_\"\n",
    "    }   \n",
    "]\n",
    "\n",
    "standalone_parameters[\"torch_default_dtype\"] = \"torch.float32\" \n",
    "\n",
    "\n",
    "\n",
    "standalone_parameters[\"x_net\"] =     [\n",
    "    {\"class\": \"nnReshape\", \"kargs\": {\"shape\":[-1, 1, 2, 256]}},\n",
    "    {\"class\": \"Conv2d\", \"kargs\": { \"in_channels\":1, \"out_channels\":256, \"kernel_size\":(1,7), \"bias\":False, \"padding\":(0,3), },},\n",
    "    {\"class\": \"ReLU\", \"kargs\": {\"inplace\": True}},\n",
    "    {\"class\": \"BatchNorm2d\", \"kargs\": {\"num_features\":256}},\n",
    "\n",
    "    {\"class\": \"Conv2d\", \"kargs\": { \"in_channels\":256, \"out_channels\":80, \"kernel_size\":(2,7), \"bias\":True, \"padding\":(0,3), },},\n",
    "    {\"class\": \"ReLU\", \"kargs\": {\"inplace\": True}},\n",
    "    {\"class\": \"BatchNorm2d\", \"kargs\": {\"num_features\":80}},\n",
    "    {\"class\": \"Flatten\", \"kargs\": {}},\n",
    "\n",
    "    {\"class\": \"Linear\", \"kargs\": {\"in_features\": 80*256, \"out_features\": 256}}, # 80 units per IQ pair\n",
    "    {\"class\": \"ReLU\", \"kargs\": {\"inplace\": True}},\n",
    "    {\"class\": \"BatchNorm1d\", \"kargs\": {\"num_features\":256}},\n",
    "\n",
    "    {\"class\": \"Linear\", \"kargs\": {\"in_features\": 256, \"out_features\": 256}},\n",
    "]\n",
    "\n",
    "# Parameters relevant to results\n",
    "# These parameters will basically never need to change\n",
    "standalone_parameters[\"NUM_LOGS_PER_EPOCH\"] = 10\n",
    "standalone_parameters[\"BEST_MODEL_PATH\"] = \"./best_model.pth\"\n",
    "\n",
    "\n",
    "\n",
    "\n"
   ]
  },
  {
   "cell_type": "code",
   "execution_count": 4,
   "id": "48be0f90",
   "metadata": {
    "execution": {
     "iopub.execute_input": "2022-03-20T05:05:47.450429Z",
     "iopub.status.busy": "2022-03-20T05:05:47.449850Z",
     "iopub.status.idle": "2022-03-20T05:05:47.462938Z",
     "shell.execute_reply": "2022-03-20T05:05:47.463326Z"
    },
    "papermill": {
     "duration": 0.040227,
     "end_time": "2022-03-20T05:05:47.463430",
     "exception": false,
     "start_time": "2022-03-20T05:05:47.423203",
     "status": "completed"
    },
    "tags": [
     "injected-parameters"
    ]
   },
   "outputs": [],
   "source": [
    "# Parameters\n",
    "parameters = {\n",
    "    \"experiment_name\": \"tl_2v2:cores+wisig -> oracle.run1.framed\",\n",
    "    \"device\": \"cuda\",\n",
    "    \"lr\": 0.0001,\n",
    "    \"n_shot\": 3,\n",
    "    \"n_query\": 2,\n",
    "    \"train_k_factor\": 3,\n",
    "    \"val_k_factor\": 2,\n",
    "    \"test_k_factor\": 2,\n",
    "    \"torch_default_dtype\": \"torch.float32\",\n",
    "    \"n_epoch\": 50,\n",
    "    \"patience\": 3,\n",
    "    \"criteria_for_best\": \"target_accuracy\",\n",
    "    \"x_net\": [\n",
    "        {\"class\": \"nnReshape\", \"kargs\": {\"shape\": [-1, 1, 2, 256]}},\n",
    "        {\n",
    "            \"class\": \"Conv2d\",\n",
    "            \"kargs\": {\n",
    "                \"in_channels\": 1,\n",
    "                \"out_channels\": 256,\n",
    "                \"kernel_size\": [1, 7],\n",
    "                \"bias\": False,\n",
    "                \"padding\": [0, 3],\n",
    "            },\n",
    "        },\n",
    "        {\"class\": \"ReLU\", \"kargs\": {\"inplace\": True}},\n",
    "        {\"class\": \"BatchNorm2d\", \"kargs\": {\"num_features\": 256}},\n",
    "        {\n",
    "            \"class\": \"Conv2d\",\n",
    "            \"kargs\": {\n",
    "                \"in_channels\": 256,\n",
    "                \"out_channels\": 80,\n",
    "                \"kernel_size\": [2, 7],\n",
    "                \"bias\": True,\n",
    "                \"padding\": [0, 3],\n",
    "            },\n",
    "        },\n",
    "        {\"class\": \"ReLU\", \"kargs\": {\"inplace\": True}},\n",
    "        {\"class\": \"BatchNorm2d\", \"kargs\": {\"num_features\": 80}},\n",
    "        {\"class\": \"Flatten\", \"kargs\": {}},\n",
    "        {\"class\": \"Linear\", \"kargs\": {\"in_features\": 20480, \"out_features\": 256}},\n",
    "        {\"class\": \"ReLU\", \"kargs\": {\"inplace\": True}},\n",
    "        {\"class\": \"BatchNorm1d\", \"kargs\": {\"num_features\": 256}},\n",
    "        {\"class\": \"Linear\", \"kargs\": {\"in_features\": 256, \"out_features\": 256}},\n",
    "    ],\n",
    "    \"NUM_LOGS_PER_EPOCH\": 10,\n",
    "    \"BEST_MODEL_PATH\": \"./best_model.pth\",\n",
    "    \"n_way\": 16,\n",
    "    \"datasets\": [\n",
    "        {\n",
    "            \"labels\": [\n",
    "                \"1-10.\",\n",
    "                \"1-11.\",\n",
    "                \"1-15.\",\n",
    "                \"1-16.\",\n",
    "                \"1-17.\",\n",
    "                \"1-18.\",\n",
    "                \"1-19.\",\n",
    "                \"10-4.\",\n",
    "                \"10-7.\",\n",
    "                \"11-1.\",\n",
    "                \"11-14.\",\n",
    "                \"11-17.\",\n",
    "                \"11-20.\",\n",
    "                \"11-7.\",\n",
    "                \"13-20.\",\n",
    "                \"13-8.\",\n",
    "                \"14-10.\",\n",
    "                \"14-11.\",\n",
    "                \"14-14.\",\n",
    "                \"14-7.\",\n",
    "                \"15-1.\",\n",
    "                \"15-20.\",\n",
    "                \"16-1.\",\n",
    "                \"16-16.\",\n",
    "                \"17-10.\",\n",
    "                \"17-11.\",\n",
    "                \"17-2.\",\n",
    "                \"19-1.\",\n",
    "                \"19-16.\",\n",
    "                \"19-19.\",\n",
    "                \"19-20.\",\n",
    "                \"19-3.\",\n",
    "                \"2-10.\",\n",
    "                \"2-11.\",\n",
    "                \"2-17.\",\n",
    "                \"2-18.\",\n",
    "                \"2-20.\",\n",
    "                \"2-3.\",\n",
    "                \"2-4.\",\n",
    "                \"2-5.\",\n",
    "                \"2-6.\",\n",
    "                \"2-7.\",\n",
    "                \"2-8.\",\n",
    "                \"3-13.\",\n",
    "                \"3-18.\",\n",
    "                \"3-3.\",\n",
    "                \"4-1.\",\n",
    "                \"4-10.\",\n",
    "                \"4-11.\",\n",
    "                \"4-19.\",\n",
    "                \"5-5.\",\n",
    "                \"6-15.\",\n",
    "                \"7-10.\",\n",
    "                \"7-14.\",\n",
    "                \"8-18.\",\n",
    "                \"8-20.\",\n",
    "                \"8-3.\",\n",
    "                \"8-8.\",\n",
    "            ],\n",
    "            \"domains\": [1, 2, 3, 4, 5],\n",
    "            \"num_examples_per_domain_per_label\": -1,\n",
    "            \"pickle_path\": \"/mnt/wd500GB/CSC500/csc500-main/datasets/cores.stratified_ds.2022A.pkl\",\n",
    "            \"source_or_target_dataset\": \"source\",\n",
    "            \"x_transforms\": [],\n",
    "            \"episode_transforms\": [],\n",
    "            \"domain_prefix\": \"C_\",\n",
    "        },\n",
    "        {\n",
    "            \"labels\": [\n",
    "                \"1-10\",\n",
    "                \"1-12\",\n",
    "                \"1-14\",\n",
    "                \"1-16\",\n",
    "                \"1-18\",\n",
    "                \"1-19\",\n",
    "                \"1-8\",\n",
    "                \"10-11\",\n",
    "                \"10-17\",\n",
    "                \"10-4\",\n",
    "                \"10-7\",\n",
    "                \"11-1\",\n",
    "                \"11-10\",\n",
    "                \"11-19\",\n",
    "                \"11-20\",\n",
    "                \"11-4\",\n",
    "                \"11-7\",\n",
    "                \"12-19\",\n",
    "                \"12-20\",\n",
    "                \"12-7\",\n",
    "                \"13-14\",\n",
    "                \"13-18\",\n",
    "                \"13-19\",\n",
    "                \"13-20\",\n",
    "                \"13-3\",\n",
    "                \"13-7\",\n",
    "                \"14-10\",\n",
    "                \"14-11\",\n",
    "                \"14-12\",\n",
    "                \"14-13\",\n",
    "                \"14-14\",\n",
    "                \"14-19\",\n",
    "                \"14-20\",\n",
    "                \"14-7\",\n",
    "                \"14-8\",\n",
    "                \"14-9\",\n",
    "                \"15-1\",\n",
    "                \"15-19\",\n",
    "                \"15-6\",\n",
    "                \"16-1\",\n",
    "                \"16-16\",\n",
    "                \"16-19\",\n",
    "                \"16-20\",\n",
    "                \"17-10\",\n",
    "                \"17-11\",\n",
    "                \"18-1\",\n",
    "                \"18-10\",\n",
    "                \"18-11\",\n",
    "                \"18-12\",\n",
    "                \"18-13\",\n",
    "                \"18-14\",\n",
    "                \"18-15\",\n",
    "                \"18-16\",\n",
    "                \"18-17\",\n",
    "                \"18-19\",\n",
    "                \"18-2\",\n",
    "                \"18-20\",\n",
    "                \"18-4\",\n",
    "                \"18-5\",\n",
    "                \"18-7\",\n",
    "                \"18-8\",\n",
    "                \"18-9\",\n",
    "                \"19-1\",\n",
    "                \"19-10\",\n",
    "                \"19-11\",\n",
    "                \"19-12\",\n",
    "                \"19-13\",\n",
    "                \"19-14\",\n",
    "                \"19-15\",\n",
    "                \"19-19\",\n",
    "                \"19-2\",\n",
    "                \"19-20\",\n",
    "                \"19-3\",\n",
    "                \"19-4\",\n",
    "                \"19-6\",\n",
    "                \"19-7\",\n",
    "                \"19-8\",\n",
    "                \"19-9\",\n",
    "                \"2-1\",\n",
    "                \"2-13\",\n",
    "                \"2-15\",\n",
    "                \"2-3\",\n",
    "                \"2-4\",\n",
    "                \"2-5\",\n",
    "                \"2-6\",\n",
    "                \"2-7\",\n",
    "                \"2-8\",\n",
    "                \"20-1\",\n",
    "                \"20-12\",\n",
    "                \"20-14\",\n",
    "                \"20-15\",\n",
    "                \"20-16\",\n",
    "                \"20-18\",\n",
    "                \"20-19\",\n",
    "                \"20-20\",\n",
    "                \"20-3\",\n",
    "                \"20-4\",\n",
    "                \"20-5\",\n",
    "                \"20-7\",\n",
    "                \"20-8\",\n",
    "                \"3-1\",\n",
    "                \"3-13\",\n",
    "                \"3-18\",\n",
    "                \"3-2\",\n",
    "                \"3-8\",\n",
    "                \"4-1\",\n",
    "                \"4-10\",\n",
    "                \"4-11\",\n",
    "                \"5-1\",\n",
    "                \"5-5\",\n",
    "                \"6-1\",\n",
    "                \"6-15\",\n",
    "                \"6-6\",\n",
    "                \"7-10\",\n",
    "                \"7-11\",\n",
    "                \"7-12\",\n",
    "                \"7-13\",\n",
    "                \"7-14\",\n",
    "                \"7-7\",\n",
    "                \"7-8\",\n",
    "                \"7-9\",\n",
    "                \"8-1\",\n",
    "                \"8-13\",\n",
    "                \"8-14\",\n",
    "                \"8-18\",\n",
    "                \"8-20\",\n",
    "                \"8-3\",\n",
    "                \"8-8\",\n",
    "                \"9-1\",\n",
    "                \"9-7\",\n",
    "            ],\n",
    "            \"domains\": [1, 2, 3, 4],\n",
    "            \"num_examples_per_domain_per_label\": -1,\n",
    "            \"pickle_path\": \"/mnt/wd500GB/CSC500/csc500-main/datasets/wisig.node3-19.stratified_ds.2022A.pkl\",\n",
    "            \"source_or_target_dataset\": \"source\",\n",
    "            \"x_transforms\": [],\n",
    "            \"episode_transforms\": [],\n",
    "            \"domain_prefix\": \"W_\",\n",
    "        },\n",
    "        {\n",
    "            \"labels\": [\n",
    "                \"3123D52\",\n",
    "                \"3123D65\",\n",
    "                \"3123D79\",\n",
    "                \"3123D80\",\n",
    "                \"3123D54\",\n",
    "                \"3123D70\",\n",
    "                \"3123D7B\",\n",
    "                \"3123D89\",\n",
    "                \"3123D58\",\n",
    "                \"3123D76\",\n",
    "                \"3123D7D\",\n",
    "                \"3123EFE\",\n",
    "                \"3123D64\",\n",
    "                \"3123D78\",\n",
    "                \"3123D7E\",\n",
    "                \"3124E4A\",\n",
    "            ],\n",
    "            \"domains\": [32, 38, 8, 44, 14, 50, 20, 26],\n",
    "            \"num_examples_per_domain_per_label\": 2000,\n",
    "            \"pickle_path\": \"/mnt/wd500GB/CSC500/csc500-main/datasets/oracle.Run1_framed_2000Examples_stratified_ds.2022A.pkl\",\n",
    "            \"source_or_target_dataset\": \"target\",\n",
    "            \"x_transforms\": [],\n",
    "            \"episode_transforms\": [],\n",
    "            \"domain_prefix\": \"O_\",\n",
    "        },\n",
    "    ],\n",
    "    \"seed\": 420,\n",
    "    \"dataset_seed\": 420,\n",
    "}\n"
   ]
  },
  {
   "cell_type": "code",
   "execution_count": 5,
   "id": "8fa1cc33",
   "metadata": {
    "execution": {
     "iopub.execute_input": "2022-03-20T05:05:47.498723Z",
     "iopub.status.busy": "2022-03-20T05:05:47.498472Z",
     "iopub.status.idle": "2022-03-20T05:05:47.511754Z",
     "shell.execute_reply": "2022-03-20T05:05:47.512124Z"
    },
    "papermill": {
     "duration": 0.030182,
     "end_time": "2022-03-20T05:05:47.512228",
     "exception": false,
     "start_time": "2022-03-20T05:05:47.482046",
     "status": "completed"
    },
    "tags": []
   },
   "outputs": [],
   "source": [
    "# Set this to True if you want to run this template directly\n",
    "STANDALONE = False\n",
    "if STANDALONE:\n",
    "    print(\"parameters not injected, running with standalone_parameters\")\n",
    "    parameters = standalone_parameters\n",
    "\n",
    "if not 'parameters' in locals() and not 'parameters' in globals():\n",
    "    raise Exception(\"Parameter injection failed\")\n",
    "\n",
    "#Use an easy dict for all the parameters\n",
    "p = EasyDict(parameters)\n",
    "\n",
    "if \"x_shape\" not in p:\n",
    "    p.x_shape = [2,256] # Default to this if we dont supply x_shape\n",
    "\n",
    "\n",
    "supplied_keys = set(p.keys())\n",
    "\n",
    "if  supplied_keys != required_parameters:\n",
    "    print(\"Parameters are incorrect\")\n",
    "    if len(supplied_keys - required_parameters)>0: print(\"Shouldn't have:\", str(supplied_keys - required_parameters))\n",
    "    if len(required_parameters - supplied_keys)>0: print(\"Need to have:\", str(required_parameters - supplied_keys))\n",
    "    raise RuntimeError(\"Parameters are incorrect\")"
   ]
  },
  {
   "cell_type": "code",
   "execution_count": 6,
   "id": "3a028d58",
   "metadata": {
    "execution": {
     "iopub.execute_input": "2022-03-20T05:05:47.545846Z",
     "iopub.status.busy": "2022-03-20T05:05:47.545596Z",
     "iopub.status.idle": "2022-03-20T05:05:47.560732Z",
     "shell.execute_reply": "2022-03-20T05:05:47.561100Z"
    },
    "papermill": {
     "duration": 0.030723,
     "end_time": "2022-03-20T05:05:47.561202",
     "exception": false,
     "start_time": "2022-03-20T05:05:47.530479",
     "status": "completed"
    },
    "tags": []
   },
   "outputs": [],
   "source": [
    "###################################\n",
    "# Set the RNGs and make it all deterministic\n",
    "###################################\n",
    "np.random.seed(p.seed)\n",
    "random.seed(p.seed)\n",
    "torch.manual_seed(p.seed)\n",
    "\n",
    "torch.use_deterministic_algorithms(True) "
   ]
  },
  {
   "cell_type": "code",
   "execution_count": 7,
   "id": "b691acf6",
   "metadata": {
    "execution": {
     "iopub.execute_input": "2022-03-20T05:05:47.594161Z",
     "iopub.status.busy": "2022-03-20T05:05:47.593854Z",
     "iopub.status.idle": "2022-03-20T05:05:47.609046Z",
     "shell.execute_reply": "2022-03-20T05:05:47.608600Z"
    },
    "papermill": {
     "duration": 0.030118,
     "end_time": "2022-03-20T05:05:47.609134",
     "exception": false,
     "start_time": "2022-03-20T05:05:47.579016",
     "status": "completed"
    },
    "tags": []
   },
   "outputs": [],
   "source": [
    "###########################################\n",
    "# The stratified datasets honor this\n",
    "###########################################\n",
    "torch.set_default_dtype(eval(p.torch_default_dtype))"
   ]
  },
  {
   "cell_type": "code",
   "execution_count": 8,
   "id": "b5fba671",
   "metadata": {
    "execution": {
     "iopub.execute_input": "2022-03-20T05:05:47.641998Z",
     "iopub.status.busy": "2022-03-20T05:05:47.641739Z",
     "iopub.status.idle": "2022-03-20T05:05:47.682733Z",
     "shell.execute_reply": "2022-03-20T05:05:47.682276Z"
    },
    "papermill": {
     "duration": 0.055618,
     "end_time": "2022-03-20T05:05:47.682821",
     "exception": false,
     "start_time": "2022-03-20T05:05:47.627203",
     "status": "completed"
    },
    "tags": []
   },
   "outputs": [],
   "source": [
    "###################################\n",
    "# Build the network(s)\n",
    "# Note: It's critical to do this AFTER setting the RNG\n",
    "###################################\n",
    "x_net = build_sequential(p.x_net)"
   ]
  },
  {
   "cell_type": "code",
   "execution_count": 9,
   "id": "5d7e61cc",
   "metadata": {
    "execution": {
     "iopub.execute_input": "2022-03-20T05:05:47.717467Z",
     "iopub.status.busy": "2022-03-20T05:05:47.717221Z",
     "iopub.status.idle": "2022-03-20T05:05:47.733252Z",
     "shell.execute_reply": "2022-03-20T05:05:47.732806Z"
    },
    "papermill": {
     "duration": 0.031027,
     "end_time": "2022-03-20T05:05:47.733339",
     "exception": false,
     "start_time": "2022-03-20T05:05:47.702312",
     "status": "completed"
    },
    "tags": []
   },
   "outputs": [],
   "source": [
    "start_time_secs = time.time()"
   ]
  },
  {
   "cell_type": "code",
   "execution_count": 10,
   "id": "c6b67dfd",
   "metadata": {
    "execution": {
     "iopub.execute_input": "2022-03-20T05:05:47.767132Z",
     "iopub.status.busy": "2022-03-20T05:05:47.766886Z",
     "iopub.status.idle": "2022-03-20T05:05:47.781353Z",
     "shell.execute_reply": "2022-03-20T05:05:47.781728Z"
    },
    "papermill": {
     "duration": 0.030315,
     "end_time": "2022-03-20T05:05:47.781829",
     "exception": false,
     "start_time": "2022-03-20T05:05:47.751514",
     "status": "completed"
    },
    "tags": []
   },
   "outputs": [],
   "source": [
    "p.domains_source = []\n",
    "p.domains_target = []\n",
    "\n",
    "\n",
    "train_original_source = []\n",
    "val_original_source   = []\n",
    "test_original_source  = []\n",
    "\n",
    "train_original_target = []\n",
    "val_original_target   = []\n",
    "test_original_target  = []"
   ]
  },
  {
   "cell_type": "code",
   "execution_count": 11,
   "id": "e3d9c3d3",
   "metadata": {
    "execution": {
     "iopub.execute_input": "2022-03-20T05:05:47.814732Z",
     "iopub.status.busy": "2022-03-20T05:05:47.814488Z",
     "iopub.status.idle": "2022-03-20T05:05:47.828852Z",
     "shell.execute_reply": "2022-03-20T05:05:47.828411Z"
    },
    "papermill": {
     "duration": 0.029519,
     "end_time": "2022-03-20T05:05:47.828940",
     "exception": false,
     "start_time": "2022-03-20T05:05:47.799421",
     "status": "completed"
    },
    "tags": []
   },
   "outputs": [],
   "source": [
    "# global_x_transform_func = lambda x: normalize(x.to(torch.get_default_dtype()), \"unit_power\") # unit_power, unit_mag\n",
    "# global_x_transform_func = lambda x: normalize(x, \"unit_power\") # unit_power, unit_mag"
   ]
  },
  {
   "cell_type": "code",
   "execution_count": 12,
   "id": "acb78fd2",
   "metadata": {
    "execution": {
     "iopub.execute_input": "2022-03-20T05:05:47.867135Z",
     "iopub.status.busy": "2022-03-20T05:05:47.866848Z",
     "iopub.status.idle": "2022-03-20T05:05:47.880481Z",
     "shell.execute_reply": "2022-03-20T05:05:47.880037Z"
    },
    "papermill": {
     "duration": 0.033538,
     "end_time": "2022-03-20T05:05:47.880567",
     "exception": false,
     "start_time": "2022-03-20T05:05:47.847029",
     "status": "completed"
    },
    "tags": []
   },
   "outputs": [],
   "source": [
    "def add_dataset(\n",
    "    labels,\n",
    "    domains,\n",
    "    pickle_path,\n",
    "    x_transforms,\n",
    "    episode_transforms,\n",
    "    domain_prefix,\n",
    "    num_examples_per_domain_per_label,\n",
    "    source_or_target_dataset:str,\n",
    "    iterator_seed=p.seed,\n",
    "    dataset_seed=p.dataset_seed,\n",
    "    n_shot=p.n_shot,\n",
    "    n_way=p.n_way,\n",
    "    n_query=p.n_query,\n",
    "    train_val_test_k_factors=(p.train_k_factor,p.val_k_factor,p.test_k_factor),\n",
    "):\n",
    "   \n",
    "    if x_transforms == []: x_transform = None\n",
    "    else: x_transform = get_chained_transform(x_transforms)\n",
    "    \n",
    "    if episode_transforms == []: episode_transform = None\n",
    "    else: raise Exception(\"episode_transforms not implemented\")\n",
    "    \n",
    "    episode_transform = lambda tup, _prefix=domain_prefix: (_prefix + str(tup[0]), tup[1])\n",
    "\n",
    "\n",
    "    eaf = Episodic_Accessor_Factory(\n",
    "        labels=labels,\n",
    "        domains=domains,\n",
    "        num_examples_per_domain_per_label=num_examples_per_domain_per_label,\n",
    "        iterator_seed=iterator_seed,\n",
    "        dataset_seed=dataset_seed,\n",
    "        n_shot=n_shot,\n",
    "        n_way=n_way,\n",
    "        n_query=n_query,\n",
    "        train_val_test_k_factors=train_val_test_k_factors,\n",
    "        pickle_path=pickle_path,\n",
    "        x_transform_func=x_transform,\n",
    "    )\n",
    "\n",
    "    train, val, test = eaf.get_train(), eaf.get_val(), eaf.get_test()\n",
    "    train = Lazy_Iterable_Wrapper(train, episode_transform)\n",
    "    val = Lazy_Iterable_Wrapper(val, episode_transform)\n",
    "    test = Lazy_Iterable_Wrapper(test, episode_transform)\n",
    "\n",
    "    if source_or_target_dataset==\"source\":\n",
    "        train_original_source.append(train)\n",
    "        val_original_source.append(val)\n",
    "        test_original_source.append(test)\n",
    "\n",
    "        p.domains_source.extend(\n",
    "            [domain_prefix + str(u) for u in domains]\n",
    "        )\n",
    "    elif source_or_target_dataset==\"target\":\n",
    "        train_original_target.append(train)\n",
    "        val_original_target.append(val)\n",
    "        test_original_target.append(test)\n",
    "        p.domains_target.extend(\n",
    "            [domain_prefix + str(u) for u in domains]\n",
    "        )\n",
    "    else:\n",
    "        raise Exception(f\"invalid source_or_target_dataset: {source_or_target_dataset}\")\n",
    "    "
   ]
  },
  {
   "cell_type": "code",
   "execution_count": 13,
   "id": "fe266617",
   "metadata": {
    "execution": {
     "iopub.execute_input": "2022-03-20T05:05:47.912804Z",
     "iopub.status.busy": "2022-03-20T05:05:47.912554Z",
     "iopub.status.idle": "2022-03-20T05:05:51.309435Z",
     "shell.execute_reply": "2022-03-20T05:05:51.309006Z"
    },
    "papermill": {
     "duration": 3.412427,
     "end_time": "2022-03-20T05:05:51.309539",
     "exception": false,
     "start_time": "2022-03-20T05:05:47.897112",
     "status": "completed"
    },
    "tags": []
   },
   "outputs": [],
   "source": [
    "for ds in p.datasets:\n",
    "    add_dataset(**ds)"
   ]
  },
  {
   "cell_type": "code",
   "execution_count": 14,
   "id": "b90d65ac",
   "metadata": {
    "execution": {
     "iopub.execute_input": "2022-03-20T05:05:51.345847Z",
     "iopub.status.busy": "2022-03-20T05:05:51.345594Z",
     "iopub.status.idle": "2022-03-20T05:05:51.362002Z",
     "shell.execute_reply": "2022-03-20T05:05:51.362367Z"
    },
    "papermill": {
     "duration": 0.032553,
     "end_time": "2022-03-20T05:05:51.362470",
     "exception": false,
     "start_time": "2022-03-20T05:05:51.329917",
     "status": "completed"
    },
    "tags": []
   },
   "outputs": [],
   "source": [
    "# from steves_utils.CORES.utils import (\n",
    "#     ALL_NODES,\n",
    "#     ALL_NODES_MINIMUM_1000_EXAMPLES,\n",
    "#     ALL_DAYS\n",
    "# )\n",
    "\n",
    "# add_dataset(\n",
    "#     labels=ALL_NODES,\n",
    "#     domains = ALL_DAYS,\n",
    "#     num_examples_per_domain_per_label=100,\n",
    "#     pickle_path=os.path.join(get_datasets_base_path(), \"cores.stratified_ds.2022A.pkl\"),\n",
    "#     source_or_target_dataset=\"target\",\n",
    "#     x_transform_func=global_x_transform_func,\n",
    "#     domain_modifier=lambda u: f\"cores_{u}\"\n",
    "# )"
   ]
  },
  {
   "cell_type": "code",
   "execution_count": 15,
   "id": "76db484d",
   "metadata": {
    "execution": {
     "iopub.execute_input": "2022-03-20T05:05:51.396063Z",
     "iopub.status.busy": "2022-03-20T05:05:51.395811Z",
     "iopub.status.idle": "2022-03-20T05:05:51.410220Z",
     "shell.execute_reply": "2022-03-20T05:05:51.409774Z"
    },
    "papermill": {
     "duration": 0.029868,
     "end_time": "2022-03-20T05:05:51.410307",
     "exception": false,
     "start_time": "2022-03-20T05:05:51.380439",
     "status": "completed"
    },
    "tags": []
   },
   "outputs": [],
   "source": [
    "# from steves_utils.ORACLE.utils_v2 import (\n",
    "#     ALL_DISTANCES_FEET,\n",
    "#     ALL_RUNS,\n",
    "#     ALL_SERIAL_NUMBERS,\n",
    "# )\n",
    "\n",
    "\n",
    "# add_dataset(\n",
    "#     labels=ALL_SERIAL_NUMBERS,\n",
    "#     domains = list(set(ALL_DISTANCES_FEET) - {2,62}),\n",
    "#     num_examples_per_domain_per_label=100,\n",
    "#     pickle_path=os.path.join(get_datasets_base_path(), \"oracle.Run2_framed_2000Examples_stratified_ds.2022A.pkl\"),\n",
    "#     source_or_target_dataset=\"source\",\n",
    "#     x_transform_func=global_x_transform_func,\n",
    "#     domain_modifier=lambda u: f\"oracle1_{u}\"\n",
    "# )\n"
   ]
  },
  {
   "cell_type": "code",
   "execution_count": 16,
   "id": "97dea9d2",
   "metadata": {
    "execution": {
     "iopub.execute_input": "2022-03-20T05:05:51.444568Z",
     "iopub.status.busy": "2022-03-20T05:05:51.444316Z",
     "iopub.status.idle": "2022-03-20T05:05:51.458586Z",
     "shell.execute_reply": "2022-03-20T05:05:51.458954Z"
    },
    "papermill": {
     "duration": 0.030725,
     "end_time": "2022-03-20T05:05:51.459055",
     "exception": false,
     "start_time": "2022-03-20T05:05:51.428330",
     "status": "completed"
    },
    "tags": []
   },
   "outputs": [],
   "source": [
    "# from steves_utils.ORACLE.utils_v2 import (\n",
    "#     ALL_DISTANCES_FEET,\n",
    "#     ALL_RUNS,\n",
    "#     ALL_SERIAL_NUMBERS,\n",
    "# )\n",
    "\n",
    "\n",
    "# add_dataset(\n",
    "#     labels=ALL_SERIAL_NUMBERS,\n",
    "#     domains = list(set(ALL_DISTANCES_FEET) - {2,62,56}),\n",
    "#     num_examples_per_domain_per_label=100,\n",
    "#     pickle_path=os.path.join(get_datasets_base_path(), \"oracle.Run2_framed_2000Examples_stratified_ds.2022A.pkl\"),\n",
    "#     source_or_target_dataset=\"source\",\n",
    "#     x_transform_func=global_x_transform_func,\n",
    "#     domain_modifier=lambda u: f\"oracle2_{u}\"\n",
    "# )"
   ]
  },
  {
   "cell_type": "code",
   "execution_count": 17,
   "id": "6f289866",
   "metadata": {
    "execution": {
     "iopub.execute_input": "2022-03-20T05:05:51.494205Z",
     "iopub.status.busy": "2022-03-20T05:05:51.493947Z",
     "iopub.status.idle": "2022-03-20T05:05:51.507128Z",
     "shell.execute_reply": "2022-03-20T05:05:51.507517Z"
    },
    "papermill": {
     "duration": 0.028791,
     "end_time": "2022-03-20T05:05:51.507619",
     "exception": false,
     "start_time": "2022-03-20T05:05:51.478828",
     "status": "completed"
    },
    "tags": []
   },
   "outputs": [],
   "source": [
    "# add_dataset(\n",
    "#     labels=list(range(19)),\n",
    "#     domains = [0,1,2],\n",
    "#     num_examples_per_domain_per_label=100,\n",
    "#     pickle_path=os.path.join(get_datasets_base_path(), \"metehan.stratified_ds.2022A.pkl\"),\n",
    "#     source_or_target_dataset=\"target\",\n",
    "#     x_transform_func=global_x_transform_func,\n",
    "#     domain_modifier=lambda u: f\"met_{u}\"\n",
    "# )"
   ]
  },
  {
   "cell_type": "code",
   "execution_count": 18,
   "id": "86a863c3",
   "metadata": {
    "execution": {
     "iopub.execute_input": "2022-03-20T05:05:51.538968Z",
     "iopub.status.busy": "2022-03-20T05:05:51.538717Z",
     "iopub.status.idle": "2022-03-20T05:05:51.552814Z",
     "shell.execute_reply": "2022-03-20T05:05:51.552371Z"
    },
    "papermill": {
     "duration": 0.029836,
     "end_time": "2022-03-20T05:05:51.552900",
     "exception": false,
     "start_time": "2022-03-20T05:05:51.523064",
     "status": "completed"
    },
    "tags": []
   },
   "outputs": [],
   "source": [
    "# # from steves_utils.wisig.utils import (\n",
    "# #     ALL_NODES_MINIMUM_100_EXAMPLES,\n",
    "# #     ALL_NODES_MINIMUM_500_EXAMPLES,\n",
    "# #     ALL_NODES_MINIMUM_1000_EXAMPLES,\n",
    "# #     ALL_DAYS\n",
    "# # )\n",
    "\n",
    "# import steves_utils.wisig.utils as wisig\n",
    "\n",
    "\n",
    "# add_dataset(\n",
    "#     labels=wisig.ALL_NODES_MINIMUM_100_EXAMPLES,\n",
    "#     domains = wisig.ALL_DAYS,\n",
    "#     num_examples_per_domain_per_label=100,\n",
    "#     pickle_path=os.path.join(get_datasets_base_path(), \"wisig.node3-19.stratified_ds.2022A.pkl\"),\n",
    "#     source_or_target_dataset=\"target\",\n",
    "#     x_transform_func=global_x_transform_func,\n",
    "#     domain_modifier=lambda u: f\"wisig_{u}\"\n",
    "# )"
   ]
  },
  {
   "cell_type": "code",
   "execution_count": 19,
   "id": "fd5442bc",
   "metadata": {
    "execution": {
     "iopub.execute_input": "2022-03-20T05:05:51.590130Z",
     "iopub.status.busy": "2022-03-20T05:05:51.589874Z",
     "iopub.status.idle": "2022-03-20T05:05:51.604081Z",
     "shell.execute_reply": "2022-03-20T05:05:51.603674Z"
    },
    "papermill": {
     "duration": 0.032566,
     "end_time": "2022-03-20T05:05:51.604167",
     "exception": false,
     "start_time": "2022-03-20T05:05:51.571601",
     "status": "completed"
    },
    "tags": []
   },
   "outputs": [],
   "source": [
    "###################################\n",
    "# Build the dataset\n",
    "###################################\n",
    "train_original_source = Iterable_Aggregator(train_original_source, p.seed)\n",
    "val_original_source = Iterable_Aggregator(val_original_source, p.seed)\n",
    "test_original_source = Iterable_Aggregator(test_original_source, p.seed)\n",
    "\n",
    "\n",
    "train_original_target = Iterable_Aggregator(train_original_target, p.seed)\n",
    "val_original_target = Iterable_Aggregator(val_original_target, p.seed)\n",
    "test_original_target = Iterable_Aggregator(test_original_target, p.seed)\n",
    "\n",
    "# For CNN We only use X and Y. And we only train on the source.\n",
    "# Properly form the data using a transform lambda and Lazy_Iterable_Wrapper. Finally wrap them in a dataloader\n",
    "\n",
    "transform_lambda = lambda ex: ex[1] # Original is (<domain>, <episode>) so we strip down to episode only\n",
    "\n",
    "train_processed_source = Lazy_Iterable_Wrapper(train_original_source, transform_lambda)\n",
    "val_processed_source   = Lazy_Iterable_Wrapper(val_original_source, transform_lambda)\n",
    "test_processed_source  = Lazy_Iterable_Wrapper(test_original_source, transform_lambda)\n",
    "\n",
    "train_processed_target = Lazy_Iterable_Wrapper(train_original_target, transform_lambda)\n",
    "val_processed_target   = Lazy_Iterable_Wrapper(val_original_target, transform_lambda)\n",
    "test_processed_target  = Lazy_Iterable_Wrapper(test_original_target, transform_lambda)\n",
    "\n",
    "datasets = EasyDict({\n",
    "    \"source\": {\n",
    "        \"original\": {\"train\":train_original_source, \"val\":val_original_source, \"test\":test_original_source},\n",
    "        \"processed\": {\"train\":train_processed_source, \"val\":val_processed_source, \"test\":test_processed_source}\n",
    "    },\n",
    "    \"target\": {\n",
    "        \"original\": {\"train\":train_original_target, \"val\":val_original_target, \"test\":test_original_target},\n",
    "        \"processed\": {\"train\":train_processed_target, \"val\":val_processed_target, \"test\":test_processed_target}\n",
    "    },\n",
    "})"
   ]
  },
  {
   "cell_type": "code",
   "execution_count": 20,
   "id": "5b3c01fc",
   "metadata": {
    "execution": {
     "iopub.execute_input": "2022-03-20T05:05:51.639098Z",
     "iopub.status.busy": "2022-03-20T05:05:51.638843Z",
     "iopub.status.idle": "2022-03-20T05:06:00.499850Z",
     "shell.execute_reply": "2022-03-20T05:06:00.500218Z"
    },
    "papermill": {
     "duration": 8.877073,
     "end_time": "2022-03-20T05:06:00.500325",
     "exception": false,
     "start_time": "2022-03-20T05:05:51.623252",
     "status": "completed"
    },
    "tags": []
   },
   "outputs": [
    {
     "name": "stdout",
     "output_type": "stream",
     "text": [
      "{'W_2', 'C_3', 'C_1', 'W_1', 'C_5', 'C_4', 'C_2', 'W_4', 'W_3'}\n"
     ]
    },
    {
     "name": "stdout",
     "output_type": "stream",
     "text": [
      "{'O_20', 'O_50', 'O_44', 'O_14', 'O_26', 'O_8', 'O_38', 'O_32'}\n"
     ]
    },
    {
     "name": "stdout",
     "output_type": "stream",
     "text": [
      "tensor([[[-0.0088,  0.0233,  0.0115,  ...,  0.0076,  0.0216,  0.0283],\n",
      "         [-0.0157, -0.0164,  0.0194,  ..., -0.0182, -0.0216,  0.0053]],\n",
      "\n",
      "        [[-0.0285, -0.0371,  0.0019,  ..., -0.0057, -0.0082, -0.0038],\n",
      "         [ 0.0054, -0.0265, -0.0203,  ..., -0.0016, -0.0130, -0.0116]],\n",
      "\n",
      "        [[ 0.0031, -0.0245, -0.0132,  ...,  0.0180, -0.0121, -0.0137],\n",
      "         [ 0.0246,  0.0034, -0.0192,  ...,  0.0267,  0.0221, -0.0057]],\n",
      "\n",
      "        ...,\n",
      "\n",
      "        [[-0.0111, -0.0804, -0.0345,  ..., -0.1187, -0.0739,  0.0767],\n",
      "         [ 0.0608, -0.0315, -0.0863,  ...,  0.0479, -0.1267, -0.1292]],\n",
      "\n",
      "        [[ 0.0636, -0.1413,  0.0100,  ..., -0.1149, -0.1019,  0.1310],\n",
      "         [ 0.1039, -0.0120, -0.1752,  ...,  0.0476, -0.1416, -0.1495]],\n",
      "\n",
      "        [[-0.0765,  0.0862,  0.0033,  ...,  0.0984,  0.0885, -0.0637],\n",
      "         [-0.0549, -0.0087,  0.1401,  ..., -0.0652,  0.1137,  0.1396]]])\n"
     ]
    }
   ],
   "source": [
    "from steves_utils.transforms import get_average_magnitude, get_average_power\n",
    "\n",
    "print(set([u for u,_ in val_original_source]))\n",
    "print(set([u for u,_ in val_original_target]))\n",
    "\n",
    "s_x, s_y, q_x, q_y, _ = next(iter(train_processed_source))\n",
    "print(s_x)\n",
    "\n",
    "# for ds in [\n",
    "#     train_processed_source,\n",
    "#     val_processed_source,\n",
    "#     test_processed_source,\n",
    "#     train_processed_target,\n",
    "#     val_processed_target,\n",
    "#     test_processed_target\n",
    "# ]:\n",
    "#     for s_x, s_y, q_x, q_y, _ in ds:\n",
    "#         for X in (s_x, q_x):\n",
    "#             for x in X:\n",
    "#                 assert np.isclose(get_average_magnitude(x.numpy()), 1.0)\n",
    "#                 assert np.isclose(get_average_power(x.numpy()), 1.0)\n",
    "                "
   ]
  },
  {
   "cell_type": "code",
   "execution_count": 21,
   "id": "bbdacba1",
   "metadata": {
    "execution": {
     "iopub.execute_input": "2022-03-20T05:06:00.546837Z",
     "iopub.status.busy": "2022-03-20T05:06:00.540055Z",
     "iopub.status.idle": "2022-03-20T05:06:00.600841Z",
     "shell.execute_reply": "2022-03-20T05:06:00.600352Z"
    },
    "papermill": {
     "duration": 0.079152,
     "end_time": "2022-03-20T05:06:00.600945",
     "exception": false,
     "start_time": "2022-03-20T05:06:00.521793",
     "status": "completed"
    },
    "tags": []
   },
   "outputs": [
    {
     "name": "stdout",
     "output_type": "stream",
     "text": [
      "(2, 256)\n"
     ]
    }
   ],
   "source": [
    "###################################\n",
    "# Build the model\n",
    "###################################\n",
    "# easfsl only wants a tuple for the shape\n",
    "model = Steves_Prototypical_Network(x_net, device=p.device, x_shape=tuple(p.x_shape))\n",
    "optimizer = Adam(params=model.parameters(), lr=p.lr)"
   ]
  },
  {
   "cell_type": "code",
   "execution_count": 22,
   "id": "22b39ac5",
   "metadata": {
    "execution": {
     "iopub.execute_input": "2022-03-20T05:06:00.638691Z",
     "iopub.status.busy": "2022-03-20T05:06:00.638435Z",
     "iopub.status.idle": "2022-03-20T05:52:19.429751Z",
     "shell.execute_reply": "2022-03-20T05:52:19.429386Z"
    },
    "papermill": {
     "duration": 2778.808836,
     "end_time": "2022-03-20T05:52:19.429838",
     "exception": false,
     "start_time": "2022-03-20T05:06:00.621002",
     "status": "completed"
    },
    "tags": []
   },
   "outputs": [
    {
     "name": "stdout",
     "output_type": "stream",
     "text": [
      "epoch: 1, [batch: 1 / 13172], examples_per_second: 24.4828, train_label_loss: 2.0579, \n"
     ]
    },
    {
     "name": "stdout",
     "output_type": "stream",
     "text": [
      "epoch: 1, [batch: 1318 / 13172], examples_per_second: 3148.6016, train_label_loss: 0.0263, \n"
     ]
    },
    {
     "name": "stdout",
     "output_type": "stream",
     "text": [
      "epoch: 1, [batch: 2635 / 13172], examples_per_second: 3131.4908, train_label_loss: 0.3990, \n"
     ]
    },
    {
     "name": "stdout",
     "output_type": "stream",
     "text": [
      "epoch: 1, [batch: 3952 / 13172], examples_per_second: 3136.8919, train_label_loss: 0.0335, \n"
     ]
    },
    {
     "name": "stdout",
     "output_type": "stream",
     "text": [
      "epoch: 1, [batch: 5269 / 13172], examples_per_second: 3122.6302, train_label_loss: 0.0879, \n"
     ]
    },
    {
     "name": "stdout",
     "output_type": "stream",
     "text": [
      "epoch: 1, [batch: 6586 / 13172], examples_per_second: 3124.2296, train_label_loss: 0.0046, \n"
     ]
    },
    {
     "name": "stdout",
     "output_type": "stream",
     "text": [
      "epoch: 1, [batch: 7903 / 13172], examples_per_second: 3117.6912, train_label_loss: 0.0015, \n"
     ]
    },
    {
     "name": "stdout",
     "output_type": "stream",
     "text": [
      "epoch: 1, [batch: 9220 / 13172], examples_per_second: 3079.5293, train_label_loss: 0.0043, \n"
     ]
    },
    {
     "name": "stdout",
     "output_type": "stream",
     "text": [
      "epoch: 1, [batch: 10537 / 13172], examples_per_second: 3044.3667, train_label_loss: 0.0654, \n"
     ]
    },
    {
     "name": "stdout",
     "output_type": "stream",
     "text": [
      "epoch: 1, [batch: 11854 / 13172], examples_per_second: 3089.2116, train_label_loss: 0.2012, \n"
     ]
    },
    {
     "name": "stdout",
     "output_type": "stream",
     "text": [
      "=============================================================\n",
      "epoch: 1, source_val_acc_label: 0.9788, target_val_acc_label: 0.4414, source_val_label_loss: 0.1190, target_val_label_loss: 2.5014, \n",
      "=============================================================\n"
     ]
    },
    {
     "name": "stdout",
     "output_type": "stream",
     "text": [
      "New best\n"
     ]
    },
    {
     "name": "stdout",
     "output_type": "stream",
     "text": [
      "epoch: 2, [batch: 1 / 13187], examples_per_second: 2.0180, train_label_loss: 0.0108, \n"
     ]
    },
    {
     "name": "stdout",
     "output_type": "stream",
     "text": [
      "epoch: 2, [batch: 1319 / 13187], examples_per_second: 1832.5207, train_label_loss: 0.0664, \n"
     ]
    },
    {
     "name": "stdout",
     "output_type": "stream",
     "text": [
      "epoch: 2, [batch: 2638 / 13187], examples_per_second: 1834.1838, train_label_loss: 0.0046, \n"
     ]
    },
    {
     "name": "stdout",
     "output_type": "stream",
     "text": [
      "epoch: 2, [batch: 3956 / 13187], examples_per_second: 1839.9746, train_label_loss: 0.0037, \n"
     ]
    },
    {
     "name": "stdout",
     "output_type": "stream",
     "text": [
      "epoch: 2, [batch: 5275 / 13187], examples_per_second: 1845.2079, train_label_loss: 0.0131, \n"
     ]
    },
    {
     "name": "stdout",
     "output_type": "stream",
     "text": [
      "epoch: 2, [batch: 6594 / 13187], examples_per_second: 1848.1767, train_label_loss: 0.0018, \n"
     ]
    },
    {
     "name": "stdout",
     "output_type": "stream",
     "text": [
      "epoch: 2, [batch: 7912 / 13187], examples_per_second: 1849.1513, train_label_loss: 0.0059, \n"
     ]
    },
    {
     "name": "stdout",
     "output_type": "stream",
     "text": [
      "epoch: 2, [batch: 9231 / 13187], examples_per_second: 1846.7168, train_label_loss: 0.2481, \n"
     ]
    },
    {
     "name": "stdout",
     "output_type": "stream",
     "text": [
      "epoch: 2, [batch: 10549 / 13187], examples_per_second: 1849.0583, train_label_loss: 0.0046, \n"
     ]
    },
    {
     "name": "stdout",
     "output_type": "stream",
     "text": [
      "epoch: 2, [batch: 11868 / 13187], examples_per_second: 1895.7902, train_label_loss: 0.0096, \n"
     ]
    },
    {
     "name": "stdout",
     "output_type": "stream",
     "text": [
      "=============================================================\n",
      "epoch: 2, source_val_acc_label: 0.9848, target_val_acc_label: 0.3932, source_val_label_loss: 0.0697, target_val_label_loss: 2.3945, \n",
      "=============================================================\n"
     ]
    },
    {
     "name": "stdout",
     "output_type": "stream",
     "text": [
      "epoch: 3, [batch: 1 / 13151], examples_per_second: 1.8075, train_label_loss: 0.0061, \n"
     ]
    },
    {
     "name": "stdout",
     "output_type": "stream",
     "text": [
      "epoch: 3, [batch: 1316 / 13151], examples_per_second: 1853.8354, train_label_loss: 0.0057, \n"
     ]
    },
    {
     "name": "stdout",
     "output_type": "stream",
     "text": [
      "epoch: 3, [batch: 2631 / 13151], examples_per_second: 1854.1914, train_label_loss: 0.0404, \n"
     ]
    },
    {
     "name": "stdout",
     "output_type": "stream",
     "text": [
      "epoch: 3, [batch: 3946 / 13151], examples_per_second: 1859.1685, train_label_loss: 0.0014, \n"
     ]
    },
    {
     "name": "stdout",
     "output_type": "stream",
     "text": [
      "epoch: 3, [batch: 5261 / 13151], examples_per_second: 1851.8850, train_label_loss: 0.1284, \n"
     ]
    },
    {
     "name": "stdout",
     "output_type": "stream",
     "text": [
      "epoch: 3, [batch: 6576 / 13151], examples_per_second: 1855.7426, train_label_loss: 0.3827, \n"
     ]
    },
    {
     "name": "stdout",
     "output_type": "stream",
     "text": [
      "epoch: 3, [batch: 7891 / 13151], examples_per_second: 1858.0294, train_label_loss: 0.0042, \n"
     ]
    },
    {
     "name": "stdout",
     "output_type": "stream",
     "text": [
      "epoch: 3, [batch: 9206 / 13151], examples_per_second: 1851.6203, train_label_loss: 0.0041, \n"
     ]
    },
    {
     "name": "stdout",
     "output_type": "stream",
     "text": [
      "epoch: 3, [batch: 10521 / 13151], examples_per_second: 1855.4552, train_label_loss: 0.0008, \n"
     ]
    },
    {
     "name": "stdout",
     "output_type": "stream",
     "text": [
      "epoch: 3, [batch: 11836 / 13151], examples_per_second: 1899.9259, train_label_loss: 0.0009, \n"
     ]
    },
    {
     "name": "stdout",
     "output_type": "stream",
     "text": [
      "=============================================================\n",
      "epoch: 3, source_val_acc_label: 0.9861, target_val_acc_label: 0.3806, source_val_label_loss: 0.0609, target_val_label_loss: 2.4160, \n",
      "=============================================================\n"
     ]
    },
    {
     "name": "stdout",
     "output_type": "stream",
     "text": [
      "epoch: 4, [batch: 1 / 13164], examples_per_second: 1.8091, train_label_loss: 0.0015, \n"
     ]
    },
    {
     "name": "stdout",
     "output_type": "stream",
     "text": [
      "epoch: 4, [batch: 1317 / 13164], examples_per_second: 1855.1485, train_label_loss: 0.0077, \n"
     ]
    },
    {
     "name": "stdout",
     "output_type": "stream",
     "text": [
      "epoch: 4, [batch: 2633 / 13164], examples_per_second: 1855.4501, train_label_loss: 0.1137, \n"
     ]
    },
    {
     "name": "stdout",
     "output_type": "stream",
     "text": [
      "epoch: 4, [batch: 3949 / 13164], examples_per_second: 1857.7674, train_label_loss: 0.0004, \n"
     ]
    },
    {
     "name": "stdout",
     "output_type": "stream",
     "text": [
      "epoch: 4, [batch: 5266 / 13164], examples_per_second: 1850.5897, train_label_loss: 0.1362, \n"
     ]
    },
    {
     "name": "stdout",
     "output_type": "stream",
     "text": [
      "epoch: 4, [batch: 6582 / 13164], examples_per_second: 1855.4985, train_label_loss: 0.0089, \n"
     ]
    },
    {
     "name": "stdout",
     "output_type": "stream",
     "text": [
      "epoch: 4, [batch: 7898 / 13164], examples_per_second: 1858.4849, train_label_loss: 0.1955, \n"
     ]
    },
    {
     "name": "stdout",
     "output_type": "stream",
     "text": [
      "epoch: 4, [batch: 9215 / 13164], examples_per_second: 1851.0773, train_label_loss: 0.0012, \n"
     ]
    },
    {
     "name": "stdout",
     "output_type": "stream",
     "text": [
      "epoch: 4, [batch: 10531 / 13164], examples_per_second: 1854.3963, train_label_loss: 0.0031, \n"
     ]
    },
    {
     "name": "stdout",
     "output_type": "stream",
     "text": [
      "epoch: 4, [batch: 11847 / 13164], examples_per_second: 1904.6739, train_label_loss: 0.0939, \n"
     ]
    },
    {
     "name": "stdout",
     "output_type": "stream",
     "text": [
      "=============================================================\n",
      "epoch: 4, source_val_acc_label: 0.9862, target_val_acc_label: 0.3180, source_val_label_loss: 0.0595, target_val_label_loss: 2.4182, \n",
      "=============================================================\n"
     ]
    },
    {
     "name": "stdout",
     "output_type": "stream",
     "text": [
      "epoch: 5, [batch: 1 / 13144], examples_per_second: 1.8064, train_label_loss: 0.0470, \n"
     ]
    },
    {
     "name": "stdout",
     "output_type": "stream",
     "text": [
      "epoch: 5, [batch: 1315 / 13144], examples_per_second: 1855.3239, train_label_loss: 0.0019, \n"
     ]
    },
    {
     "name": "stdout",
     "output_type": "stream",
     "text": [
      "epoch: 5, [batch: 2629 / 13144], examples_per_second: 1854.8420, train_label_loss: 0.0017, \n"
     ]
    },
    {
     "name": "stdout",
     "output_type": "stream",
     "text": [
      "epoch: 5, [batch: 3943 / 13144], examples_per_second: 1858.7812, train_label_loss: 0.0007, \n"
     ]
    },
    {
     "name": "stdout",
     "output_type": "stream",
     "text": [
      "epoch: 5, [batch: 5258 / 13144], examples_per_second: 1851.4213, train_label_loss: 0.0017, \n"
     ]
    },
    {
     "name": "stdout",
     "output_type": "stream",
     "text": [
      "epoch: 5, [batch: 6572 / 13144], examples_per_second: 1855.0698, train_label_loss: 0.1728, \n"
     ]
    },
    {
     "name": "stdout",
     "output_type": "stream",
     "text": [
      "epoch: 5, [batch: 7886 / 13144], examples_per_second: 1857.5407, train_label_loss: 0.3266, \n"
     ]
    },
    {
     "name": "stdout",
     "output_type": "stream",
     "text": [
      "epoch: 5, [batch: 9201 / 13144], examples_per_second: 1852.5264, train_label_loss: 0.0004, \n"
     ]
    },
    {
     "name": "stdout",
     "output_type": "stream",
     "text": [
      "epoch: 5, [batch: 10515 / 13144], examples_per_second: 1854.9888, train_label_loss: 0.0002, \n"
     ]
    },
    {
     "name": "stdout",
     "output_type": "stream",
     "text": [
      "epoch: 5, [batch: 11829 / 13144], examples_per_second: 1900.3051, train_label_loss: 0.2350, \n"
     ]
    },
    {
     "name": "stdout",
     "output_type": "stream",
     "text": [
      "=============================================================\n",
      "epoch: 5, source_val_acc_label: 0.9866, target_val_acc_label: 0.3350, source_val_label_loss: 0.0579, target_val_label_loss: 2.3538, \n",
      "=============================================================\n"
     ]
    },
    {
     "name": "stdout",
     "output_type": "stream",
     "text": [
      "Patience (3) exhausted\n"
     ]
    }
   ],
   "source": [
    "###################################\n",
    "# train\n",
    "###################################\n",
    "jig = PTN_Train_Eval_Test_Jig(model, p.BEST_MODEL_PATH, p.device)\n",
    "\n",
    "jig.train(\n",
    "    train_iterable=datasets.source.processed.train,\n",
    "    source_val_iterable=datasets.source.processed.val,\n",
    "    target_val_iterable=datasets.target.processed.val,\n",
    "    num_epochs=p.n_epoch,\n",
    "    num_logs_per_epoch=p.NUM_LOGS_PER_EPOCH,\n",
    "    patience=p.patience,\n",
    "    optimizer=optimizer,\n",
    "    criteria_for_best=p.criteria_for_best,\n",
    ")"
   ]
  },
  {
   "cell_type": "code",
   "execution_count": 23,
   "id": "31e8fabf",
   "metadata": {
    "execution": {
     "iopub.execute_input": "2022-03-20T05:52:19.485193Z",
     "iopub.status.busy": "2022-03-20T05:52:19.484884Z",
     "iopub.status.idle": "2022-03-20T05:52:19.503859Z",
     "shell.execute_reply": "2022-03-20T05:52:19.503391Z"
    },
    "papermill": {
     "duration": 0.047618,
     "end_time": "2022-03-20T05:52:19.503966",
     "exception": false,
     "start_time": "2022-03-20T05:52:19.456348",
     "status": "completed"
    },
    "tags": []
   },
   "outputs": [],
   "source": [
    "total_experiment_time_secs = time.time() - start_time_secs"
   ]
  },
  {
   "cell_type": "code",
   "execution_count": 24,
   "id": "87b9595b",
   "metadata": {
    "execution": {
     "iopub.execute_input": "2022-03-20T05:52:19.567591Z",
     "iopub.status.busy": "2022-03-20T05:52:19.565851Z",
     "iopub.status.idle": "2022-03-20T05:56:01.407913Z",
     "shell.execute_reply": "2022-03-20T05:56:01.408143Z"
    },
    "papermill": {
     "duration": 221.873395,
     "end_time": "2022-03-20T05:56:01.408226",
     "exception": false,
     "start_time": "2022-03-20T05:52:19.534831",
     "status": "completed"
    },
    "tags": []
   },
   "outputs": [],
   "source": [
    "###################################\n",
    "# Evaluate the model\n",
    "###################################\n",
    "source_test_label_accuracy, source_test_label_loss = jig.test(datasets.source.processed.test)\n",
    "target_test_label_accuracy, target_test_label_loss = jig.test(datasets.target.processed.test)\n",
    "\n",
    "source_val_label_accuracy, source_val_label_loss = jig.test(datasets.source.processed.val)\n",
    "target_val_label_accuracy, target_val_label_loss = jig.test(datasets.target.processed.val)\n",
    "\n",
    "history = jig.get_history()\n",
    "\n",
    "total_epochs_trained = len(history[\"epoch_indices\"])\n",
    "\n",
    "val_dl = Iterable_Aggregator((datasets.source.original.val,datasets.target.original.val))\n",
    "\n",
    "confusion = ptn_confusion_by_domain_over_dataloader(model, p.device, val_dl)\n",
    "per_domain_accuracy = per_domain_accuracy_from_confusion(confusion)\n",
    "\n",
    "# Add a key to per_domain_accuracy for if it was a source domain\n",
    "for domain, accuracy in per_domain_accuracy.items():\n",
    "    per_domain_accuracy[domain] = {\n",
    "        \"accuracy\": accuracy,\n",
    "        \"source?\": domain in p.domains_source\n",
    "    }\n",
    "\n",
    "# Do an independent accuracy assesment JUST TO BE SURE!\n",
    "# _source_test_label_accuracy = independent_accuracy_assesment(model, datasets.source.processed.test, p.device)\n",
    "# _target_test_label_accuracy = independent_accuracy_assesment(model, datasets.target.processed.test, p.device)\n",
    "# _source_val_label_accuracy = independent_accuracy_assesment(model, datasets.source.processed.val, p.device)\n",
    "# _target_val_label_accuracy = independent_accuracy_assesment(model, datasets.target.processed.val, p.device)\n",
    "\n",
    "# assert(_source_test_label_accuracy == source_test_label_accuracy)\n",
    "# assert(_target_test_label_accuracy == target_test_label_accuracy)\n",
    "# assert(_source_val_label_accuracy == source_val_label_accuracy)\n",
    "# assert(_target_val_label_accuracy == target_val_label_accuracy)\n",
    "\n",
    "experiment = {\n",
    "    \"experiment_name\": p.experiment_name,\n",
    "    \"parameters\": dict(p),\n",
    "    \"results\": {\n",
    "        \"source_test_label_accuracy\": source_test_label_accuracy,\n",
    "        \"source_test_label_loss\": source_test_label_loss,\n",
    "        \"target_test_label_accuracy\": target_test_label_accuracy,\n",
    "        \"target_test_label_loss\": target_test_label_loss,\n",
    "        \"source_val_label_accuracy\": source_val_label_accuracy,\n",
    "        \"source_val_label_loss\": source_val_label_loss,\n",
    "        \"target_val_label_accuracy\": target_val_label_accuracy,\n",
    "        \"target_val_label_loss\": target_val_label_loss,\n",
    "        \"total_epochs_trained\": total_epochs_trained,\n",
    "        \"total_experiment_time_secs\": total_experiment_time_secs,\n",
    "        \"confusion\": confusion,\n",
    "        \"per_domain_accuracy\": per_domain_accuracy,\n",
    "    },\n",
    "    \"history\": history,\n",
    "    \"dataset_metrics\": get_dataset_metrics(datasets, \"ptn\"),\n",
    "}"
   ]
  },
  {
   "cell_type": "code",
   "execution_count": 25,
   "id": "54a21829",
   "metadata": {
    "execution": {
     "iopub.execute_input": "2022-03-20T05:56:01.499331Z",
     "iopub.status.busy": "2022-03-20T05:56:01.498911Z",
     "iopub.status.idle": "2022-03-20T05:56:01.616414Z",
     "shell.execute_reply": "2022-03-20T05:56:01.616136Z"
    },
    "papermill": {
     "duration": 0.149791,
     "end_time": "2022-03-20T05:56:01.616476",
     "exception": false,
     "start_time": "2022-03-20T05:56:01.466685",
     "status": "completed"
    },
    "tags": []
   },
   "outputs": [
    {
     "data": {
      "image/png": "[encoded data removed]",
      "text/plain": [
       "<Figure size 1080x504 with 1 Axes>"
      ]
     },
     "metadata": {
      "needs_background": "light"
     },
     "output_type": "display_data"
    }
   ],
   "source": [
    "ax = get_loss_curve(experiment)\n",
    "plt.show()"
   ]
  },
  {
   "cell_type": "code",
   "execution_count": 26,
   "id": "fd8a0f60",
   "metadata": {
    "execution": {
     "iopub.execute_input": "2022-03-20T05:56:01.674349Z",
     "iopub.status.busy": "2022-03-20T05:56:01.674092Z",
     "iopub.status.idle": "2022-03-20T05:56:01.835589Z",
     "shell.execute_reply": "2022-03-20T05:56:01.836034Z"
    },
    "papermill": {
     "duration": 0.192071,
     "end_time": "2022-03-20T05:56:01.836196",
     "exception": false,
     "start_time": "2022-03-20T05:56:01.644125",
     "status": "completed"
    },
    "tags": []
   },
   "outputs": [
    {
     "data": {
      "text/plain": [
       "<AxesSubplot:title={'center':'Results'}>"
      ]
     },
     "execution_count": 26,
     "metadata": {},
     "output_type": "execute_result"
    },
    {
     "data": {
      "image/png": "[encoded data removed]",
      "text/plain": [
       "<Figure size 1080x504 with 1 Axes>"
      ]
     },
     "metadata": {
      "needs_background": "light"
     },
     "output_type": "display_data"
    }
   ],
   "source": [
    "get_results_table(experiment)"
   ]
  },
  {
   "cell_type": "code",
   "execution_count": 27,
   "id": "cf8dc689",
   "metadata": {
    "execution": {
     "iopub.execute_input": "2022-03-20T05:56:01.915354Z",
     "iopub.status.busy": "2022-03-20T05:56:01.914926Z",
     "iopub.status.idle": "2022-03-20T05:56:02.068994Z",
     "shell.execute_reply": "2022-03-20T05:56:02.069246Z"
    },
    "papermill": {
     "duration": 0.193183,
     "end_time": "2022-03-20T05:56:02.069355",
     "exception": false,
     "start_time": "2022-03-20T05:56:01.876172",
     "status": "completed"
    },
    "tags": []
   },
   "outputs": [
    {
     "data": {
      "text/plain": [
       "<AxesSubplot:title={'center':'Per Domain Validation Accuracy'}, xlabel='domain'>"
      ]
     },
     "execution_count": 27,
     "metadata": {},
     "output_type": "execute_result"
    },
    {
     "data": {
      "image/png": "[encoded data removed]",
      "text/plain": [
       "<Figure size 1080x504 with 1 Axes>"
      ]
     },
     "metadata": {
      "needs_background": "light"
     },
     "output_type": "display_data"
    }
   ],
   "source": [
    "get_domain_accuracies(experiment)"
   ]
  },
  {
   "cell_type": "code",
   "execution_count": 28,
   "id": "a74ae082",
   "metadata": {
    "execution": {
     "iopub.execute_input": "2022-03-20T05:56:02.151866Z",
     "iopub.status.busy": "2022-03-20T05:56:02.151594Z",
     "iopub.status.idle": "2022-03-20T05:56:02.168284Z",
     "shell.execute_reply": "2022-03-20T05:56:02.167793Z"
    },
    "papermill": {
     "duration": 0.057307,
     "end_time": "2022-03-20T05:56:02.168390",
     "exception": false,
     "start_time": "2022-03-20T05:56:02.111083",
     "status": "completed"
    },
    "tags": []
   },
   "outputs": [
    {
     "name": "stdout",
     "output_type": "stream",
     "text": [
      "Source Test Label Accuracy: 0.9787898218142549 Target Test Label Accuracy: 0.4375\n",
      "Source Val Label Accuracy: 0.9787891268533773 Target Val Label Accuracy: 0.44140625\n"
     ]
    }
   ],
   "source": [
    "print(\"Source Test Label Accuracy:\", experiment[\"results\"][\"source_test_label_accuracy\"], \"Target Test Label Accuracy:\", experiment[\"results\"][\"target_test_label_accuracy\"])\n",
    "print(\"Source Val Label Accuracy:\", experiment[\"results\"][\"source_val_label_accuracy\"], \"Target Val Label Accuracy:\", experiment[\"results\"][\"target_val_label_accuracy\"])"
   ]
  },
  {
   "cell_type": "code",
   "execution_count": 29,
   "id": "dacca602",
   "metadata": {
    "execution": {
     "iopub.execute_input": "2022-03-20T05:56:02.234010Z",
     "iopub.status.busy": "2022-03-20T05:56:02.233750Z",
     "iopub.status.idle": "2022-03-20T05:56:02.246480Z",
     "shell.execute_reply": "2022-03-20T05:56:02.246215Z"
    },
    "papermill": {
     "duration": 0.043141,
     "end_time": "2022-03-20T05:56:02.246561",
     "exception": false,
     "start_time": "2022-03-20T05:56:02.203420",
     "status": "completed"
    },
    "tags": [
     "experiment_json"
    ]
   },
   "outputs": [
    {
     "data": {
      "text/plain": [
       "'{\"experiment_name\": \"tl_2v2:cores+wisig -> oracle.run1.framed\", \"parameters\": {\"experiment_name\": \"tl_2v2:cores+wisig -> oracle.run1.framed\", \"device\": \"cuda\", \"lr\": 0.0001, \"n_shot\": 3, \"n_query\": 2, \"train_k_factor\": 3, \"val_k_factor\": 2, \"test_k_factor\": 2, \"torch_default_dtype\": \"torch.float32\", \"n_epoch\": 50, \"patience\": 3, \"criteria_for_best\": \"target_accuracy\", \"x_net\": [{\"class\": \"nnReshape\", \"kargs\": {\"shape\": [-1, 1, 2, 256]}}, {\"class\": \"Conv2d\", \"kargs\": {\"in_channels\": 1, \"out_channels\": 256, \"kernel_size\": [1, 7], \"bias\": false, \"padding\": [0, 3]}}, {\"class\": \"ReLU\", \"kargs\": {\"inplace\": true}}, {\"class\": \"BatchNorm2d\", \"kargs\": {\"num_features\": 256}}, {\"class\": \"Conv2d\", \"kargs\": {\"in_channels\": 256, \"out_channels\": 80, \"kernel_size\": [2, 7], \"bias\": true, \"padding\": [0, 3]}}, {\"class\": \"ReLU\", \"kargs\": {\"inplace\": true}}, {\"class\": \"BatchNorm2d\", \"kargs\": {\"num_features\": 80}}, {\"class\": \"Flatten\", \"kargs\": {}}, {\"class\": \"Linear\", \"kargs\": {\"in_features\": 20480, \"out_features\": 256}}, {\"class\": \"ReLU\", \"kargs\": {\"inplace\": true}}, {\"class\": \"BatchNorm1d\", \"kargs\": {\"num_features\": 256}}, {\"class\": \"Linear\", \"kargs\": {\"in_features\": 256, \"out_features\": 256}}], \"NUM_LOGS_PER_EPOCH\": 10, \"BEST_MODEL_PATH\": \"./best_model.pth\", \"n_way\": 16, \"datasets\": [{\"labels\": [\"1-10.\", \"1-11.\", \"1-15.\", \"1-16.\", \"1-17.\", \"1-18.\", \"1-19.\", \"10-4.\", \"10-7.\", \"11-1.\", \"11-14.\", \"11-17.\", \"11-20.\", \"11-7.\", \"13-20.\", \"13-8.\", \"14-10.\", \"14-11.\", \"14-14.\", \"14-7.\", \"15-1.\", \"15-20.\", \"16-1.\", \"16-16.\", \"17-10.\", \"17-11.\", \"17-2.\", \"19-1.\", \"19-16.\", \"19-19.\", \"19-20.\", \"19-3.\", \"2-10.\", \"2-11.\", \"2-17.\", \"2-18.\", \"2-20.\", \"2-3.\", \"2-4.\", \"2-5.\", \"2-6.\", \"2-7.\", \"2-8.\", \"3-13.\", \"3-18.\", \"3-3.\", \"4-1.\", \"4-10.\", \"4-11.\", \"4-19.\", \"5-5.\", \"6-15.\", \"7-10.\", \"7-14.\", \"8-18.\", \"8-20.\", \"8-3.\", \"8-8.\"], \"domains\": [1, 2, 3, 4, 5], \"num_examples_per_domain_per_label\": -1, \"pickle_path\": \"/mnt/wd500GB/CSC500/csc500-main/datasets/cores.stratified_ds.2022A.pkl\", \"source_or_target_dataset\": \"source\", \"x_transforms\": [], \"episode_transforms\": [], \"domain_prefix\": \"C_\"}, {\"labels\": [\"1-10\", \"1-12\", \"1-14\", \"1-16\", \"1-18\", \"1-19\", \"1-8\", \"10-11\", \"10-17\", \"10-4\", \"10-7\", \"11-1\", \"11-10\", \"11-19\", \"11-20\", \"11-4\", \"11-7\", \"12-19\", \"12-20\", \"12-7\", \"13-14\", \"13-18\", \"13-19\", \"13-20\", \"13-3\", \"13-7\", \"14-10\", \"14-11\", \"14-12\", \"14-13\", \"14-14\", \"14-19\", \"14-20\", \"14-7\", \"14-8\", \"14-9\", \"15-1\", \"15-19\", \"15-6\", \"16-1\", \"16-16\", \"16-19\", \"16-20\", \"17-10\", \"17-11\", \"18-1\", \"18-10\", \"18-11\", \"18-12\", \"18-13\", \"18-14\", \"18-15\", \"18-16\", \"18-17\", \"18-19\", \"18-2\", \"18-20\", \"18-4\", \"18-5\", \"18-7\", \"18-8\", \"18-9\", \"19-1\", \"19-10\", \"19-11\", \"19-12\", \"19-13\", \"19-14\", \"19-15\", \"19-19\", \"19-2\", \"19-20\", \"19-3\", \"19-4\", \"19-6\", \"19-7\", \"19-8\", \"19-9\", \"2-1\", \"2-13\", \"2-15\", \"2-3\", \"2-4\", \"2-5\", \"2-6\", \"2-7\", \"2-8\", \"20-1\", \"20-12\", \"20-14\", \"20-15\", \"20-16\", \"20-18\", \"20-19\", \"20-20\", \"20-3\", \"20-4\", \"20-5\", \"20-7\", \"20-8\", \"3-1\", \"3-13\", \"3-18\", \"3-2\", \"3-8\", \"4-1\", \"4-10\", \"4-11\", \"5-1\", \"5-5\", \"6-1\", \"6-15\", \"6-6\", \"7-10\", \"7-11\", \"7-12\", \"7-13\", \"7-14\", \"7-7\", \"7-8\", \"7-9\", \"8-1\", \"8-13\", \"8-14\", \"8-18\", \"8-20\", \"8-3\", \"8-8\", \"9-1\", \"9-7\"], \"domains\": [1, 2, 3, 4], \"num_examples_per_domain_per_label\": -1, \"pickle_path\": \"/mnt/wd500GB/CSC500/csc500-main/datasets/wisig.node3-19.stratified_ds.2022A.pkl\", \"source_or_target_dataset\": \"source\", \"x_transforms\": [], \"episode_transforms\": [], \"domain_prefix\": \"W_\"}, {\"labels\": [\"3123D52\", \"3123D65\", \"3123D79\", \"3123D80\", \"3123D54\", \"3123D70\", \"3123D7B\", \"3123D89\", \"3123D58\", \"3123D76\", \"3123D7D\", \"3123EFE\", \"3123D64\", \"3123D78\", \"3123D7E\", \"3124E4A\"], \"domains\": [32, 38, 8, 44, 14, 50, 20, 26], \"num_examples_per_domain_per_label\": 2000, \"pickle_path\": \"/mnt/wd500GB/CSC500/csc500-main/datasets/oracle.Run1_framed_2000Examples_stratified_ds.2022A.pkl\", \"source_or_target_dataset\": \"target\", \"x_transforms\": [], \"episode_transforms\": [], \"domain_prefix\": \"O_\"}], \"seed\": 420, \"dataset_seed\": 420, \"x_shape\": [2, 256], \"domains_source\": [\"C_1\", \"C_2\", \"C_3\", \"C_4\", \"C_5\", \"W_1\", \"W_2\", \"W_3\", \"W_4\"], \"domains_target\": [\"O_32\", \"O_38\", \"O_8\", \"O_44\", \"O_14\", \"O_50\", \"O_20\", \"O_26\"]}, \"results\": {\"source_test_label_accuracy\": 0.9787898218142549, \"source_test_label_loss\": 0.11640534549951553, \"target_test_label_accuracy\": 0.4375, \"target_test_label_loss\": 2.5008816719055176, \"source_val_label_accuracy\": 0.9787891268533773, \"source_val_label_loss\": 0.11897950619459152, \"target_val_label_accuracy\": 0.44140625, \"target_val_label_loss\": 2.50144362449646, \"total_epochs_trained\": 5, \"total_experiment_time_secs\": 2791.770239830017, \"confusion\": {\"W_3\": {\"110\": {\"110\": 88, \"44\": 1, \"111\": 1, \"11\": 1, \"98\": 1}, \"1\": {\"1\": 107, \"69\": 1}, \"2\": {\"117\": 3, \"2\": 22, \"102\": 2, \"129\": 1}, \"94\": {\"94\": 81, \"27\": 1, \"70\": 1, \"108\": 1}, \"64\": {\"64\": 20}, \"78\": {\"78\": 14, \"21\": 2}, \"47\": {\"47\": 11, \"69\": 1}, \"127\": {\"127\": 127, \"111\": 1}, \"89\": {\"89\": 28}, \"79\": {\"79\": 12}, \"22\": {\"22\": 16}, \"117\": {\"117\": 112}, \"49\": {\"49\": 22, \"94\": 1, \"1\": 1}, \"14\": {\"14\": 80}, \"103\": {\"103\": 16}, \"123\": {\"123\": 16}, \"98\": {\"98\": 127, \"117\": 1}, \"18\": {\"18\": 108}, \"61\": {\"61\": 16}, \"108\": {\"108\": 124, \"110\": 1, \"70\": 1}, \"100\": {\"100\": 16}, \"0\": {\"0\": 115, \"10\": 1}, \"107\": {\"107\": 130}, \"58\": {\"58\": 16}, \"8\": {\"8\": 120}, \"85\": {\"85\": 35, \"52\": 1}, \"31\": {\"31\": 19, \"122\": 1}, \"81\": {\"81\": 32}, \"60\": {\"60\": 25, \"23\": 2, \"122\": 1}, \"102\": {\"102\": 116}, \"19\": {\"19\": 28, \"100\": 1, \"77\": 1, \"5\": 1, \"46\": 1}, \"23\": {\"60\": 2, \"23\": 25, \"30\": 4, \"122\": 1}, \"32\": {\"32\": 25, \"65\": 1, \"107\": 1, \"14\": 1, \"38\": 2, \"9\": 1, \"128\": 1}, \"39\": {\"39\": 107, \"21\": 1}, \"129\": {\"129\": 32}, \"71\": {\"71\": 67, \"84\": 1}, \"91\": {\"91\": 15, \"62\": 1, \"58\": 1, \"78\": 1, \"72\": 1, \"128\": 1, \"68\": 1, \"6\": 1, \"70\": 1, \"106\": 1}, \"101\": {\"101\": 48, \"70\": 1, \"12\": 2, \"122\": 1}, \"62\": {\"62\": 120, \"88\": 2}, \"63\": {\"63\": 16}, \"125\": {\"125\": 117, \"102\": 1, \"40\": 1, \"24\": 1}, \"57\": {\"57\": 20}, \"28\": {\"28\": 16}, \"70\": {\"70\": 65, \"82\": 1, \"110\": 1, \"30\": 1, \"88\": 1, \"69\": 2, \"108\": 1}, \"99\": {\"99\": 34, \"21\": 1, \"27\": 1}, \"121\": {\"121\": 27, \"61\": 1, \"26\": 1, \"129\": 1, \"81\": 2}, \"4\": {\"4\": 95, \"40\": 1}, \"80\": {\"80\": 15, \"67\": 1}, \"51\": {\"15\": 1, \"51\": 13, \"33\": 1, \"105\": 1}, \"3\": {\"3\": 113, \"78\": 1, \"70\": 1, \"16\": 1}, \"9\": {\"9\": 32}, \"53\": {\"53\": 17, \"42\": 1, \"112\": 1, \"69\": 1}, \"30\": {\"30\": 83, \"69\": 1}, \"33\": {\"33\": 122}, \"15\": {\"15\": 103, \"88\": 1}, \"97\": {\"1\": 1, \"97\": 18, \"15\": 1}, \"86\": {\"86\": 27, \"6\": 1}, \"20\": {\"20\": 16}, \"66\": {\"66\": 16}, \"10\": {\"10\": 121, \"33\": 1}, \"29\": {\"29\": 31, \"83\": 1}, \"109\": {\"109\": 112, \"5\": 1, \"102\": 1}, \"52\": {\"52\": 16}, \"67\": {\"67\": 16}, \"83\": {\"83\": 22, \"78\": 1, \"43\": 1}, \"72\": {\"72\": 28}, \"90\": {\"90\": 123, \"117\": 2, \"64\": 1}, \"69\": {\"69\": 83, \"90\": 1}, \"88\": {\"88\": 110, \"70\": 1, \"8\": 1}, \"115\": {\"115\": 16}, \"73\": {\"73\": 35, \"126\": 1, \"88\": 1, \"100\": 1, \"108\": 1, \"89\": 1}, \"34\": {\"34\": 30, \"14\": 2}, \"25\": {\"25\": 16}, \"44\": {\"44\": 72}, \"112\": {\"112\": 13, \"97\": 1, \"85\": 1, \"59\": 1}, \"37\": {\"37\": 16}, \"77\": {\"77\": 16}, \"111\": {\"111\": 119, \"127\": 1, \"16\": 1, \"10\": 1}, \"119\": {\"119\": 16}, \"56\": {\"56\": 12}, \"5\": {\"5\": 110, \"70\": 1, \"69\": 1}, \"122\": {\"122\": 56, \"110\": 1, \"108\": 1, \"60\": 1, \"30\": 1}, \"74\": {\"74\": 15, \"54\": 1}, \"11\": {\"11\": 151, \"87\": 1}, \"41\": {\"41\": 16}, \"104\": {\"104\": 16}, \"21\": {\"21\": 45, \"101\": 2, \"30\": 1}, \"118\": {\"118\": 98, \"6\": 1, \"44\": 1}, \"40\": {\"40\": 121, \"21\": 1}, \"6\": {\"6\": 29, \"68\": 1, \"44\": 1, \"106\": 1}, \"27\": {\"27\": 92, \"36\": 3, \"70\": 1}, \"113\": {\"113\": 118, \"21\": 1, \"26\": 1}, \"68\": {\"68\": 16}, \"12\": {\"12\": 102}, \"54\": {\"54\": 16}, \"24\": {\"24\": 46, \"86\": 1, \"108\": 1}, \"106\": {\"106\": 95, \"126\": 1, \"6\": 1, \"97\": 1, \"15\": 2}, \"128\": {\"128\": 30, \"72\": 2}, \"48\": {\"48\": 7, \"104\": 1, \"121\": 1, \"79\": 2, \"95\": 2, \"22\": 1, \"2\": 1, \"29\": 1}, \"92\": {\"92\": 32}, \"35\": {\"35\": 10, \"54\": 1, \"117\": 1}, \"116\": {\"116\": 28}, \"38\": {\"38\": 15, \"13\": 1}, \"126\": {\"126\": 121, \"17\": 1, \"39\": 2}, \"46\": {\"46\": 14, \"1\": 1, \"77\": 1}, \"120\": {\"120\": 18, \"17\": 2}, \"7\": {\"7\": 111, \"19\": 1}, \"13\": {\"13\": 8, \"76\": 1, \"112\": 2, \"70\": 1, \"80\": 1, \"2\": 2, \"6\": 1}, \"43\": {\"43\": 50, \"113\": 1, \"70\": 1, \"83\": 1, \"30\": 1, \"69\": 1, \"16\": 1}, \"93\": {\"93\": 130, \"10\": 1, \"16\": 1}, \"26\": {\"26\": 131, \"69\": 1}, \"76\": {\"76\": 16}, \"59\": {\"59\": 12}, \"65\": {\"65\": 11, \"17\": 1}, \"87\": {\"87\": 119, \"110\": 1}, \"124\": {\"124\": 122, \"86\": 1, \"90\": 1}, \"84\": {\"84\": 107, \"40\": 1}, \"82\": {\"82\": 28}, \"75\": {\"75\": 16}, \"17\": {\"4\": 1, \"17\": 9, \"67\": 1, \"55\": 1, \"106\": 1, \"7\": 1, \"88\": 1, \"114\": 1}, \"105\": {\"105\": 124}, \"95\": {\"95\": 32}, \"42\": {\"42\": 26, \"124\": 1, \"85\": 1}, \"55\": {\"55\": 16}, \"16\": {\"16\": 115, \"6\": 1}, \"50\": {\"50\": 16}, \"96\": {\"96\": 20}, \"45\": {\"45\": 16}, \"36\": {\"36\": 118, \"27\": 2}, \"114\": {\"114\": 119, \"69\": 1, \"30\": 1, \"94\": 1, \"106\": 1, \"102\": 1}}, \"W_4\": {\"113\": {\"113\": 121, \"126\": 1, \"27\": 2}, \"85\": {\"85\": 26, \"118\": 1, \"14\": 1}, \"34\": {\"34\": 28, \"47\": 3, \"120\": 1}, \"55\": {\"55\": 16}, \"42\": {\"42\": 25, \"124\": 1, \"112\": 1, \"79\": 1}, \"13\": {\"13\": 15, \"73\": 1}, \"69\": {\"69\": 117, \"39\": 1, \"8\": 1, \"88\": 2, \"70\": 1, \"21\": 1, \"16\": 1}, \"35\": {\"35\": 12}, \"83\": {\"83\": 26, \"21\": 1, \"88\": 1}, \"51\": {\"51\": 10, \"24\": 1, \"62\": 1, \"70\": 1, \"12\": 1, \"39\": 1, \"100\": 1}, \"72\": {\"72\": 32}, \"24\": {\"24\": 117, \"21\": 1, \"10\": 1, \"97\": 1}, \"53\": {\"53\": 15, \"92\": 1}, \"8\": {\"8\": 135, \"5\": 1, \"108\": 1, \"30\": 1, \"24\": 1, \"88\": 1, \"66\": 1, \"15\": 1, \"10\": 2}, \"49\": {\"49\": 28, \"106\": 3, \"5\": 1}, \"21\": {\"21\": 37, \"23\": 1, \"108\": 1, \"70\": 1}, \"18\": {\"18\": 118, \"27\": 1, \"108\": 1}, \"114\": {\"114\": 116, \"88\": 1, \"3\": 1}, \"58\": {\"58\": 15, \"2\": 1}, \"56\": {\"56\": 12}, \"80\": {\"80\": 16}, \"11\": {\"11\": 151, \"93\": 2, \"1\": 1}, \"15\": {\"15\": 124, \"36\": 1, \"27\": 1, \"88\": 1, \"69\": 1}, \"50\": {\"50\": 13, \"119\": 2, \"91\": 1}, \"111\": {\"111\": 137, \"27\": 1}, \"108\": {\"108\": 81, \"88\": 3, \"70\": 2, \"27\": 1, \"10\": 1, \"26\": 1, \"102\": 1, \"39\": 1, \"69\": 1}, \"104\": {\"104\": 16}, \"32\": {\"32\": 19, \"64\": 3, \"108\": 1, \"14\": 1, \"89\": 1, \"120\": 1, \"40\": 2}, \"68\": {\"68\": 15, \"108\": 1}, \"73\": {\"83\": 1, \"73\": 23}, \"92\": {\"92\": 27, \"32\": 1}, \"57\": {\"57\": 16}, \"40\": {\"40\": 132, \"108\": 1, \"70\": 2, \"27\": 1}, \"71\": {\"71\": 99, \"12\": 1, \"108\": 1, \"1\": 1, \"52\": 1, \"27\": 1}, \"121\": {\"121\": 24, \"21\": 1, \"41\": 2, \"81\": 1, \"129\": 2, \"42\": 1, \"74\": 1}, \"62\": {\"62\": 53, \"122\": 1, \"27\": 1, \"14\": 1, \"106\": 1, \"39\": 1, \"10\": 1, \"21\": 1}, \"39\": {\"39\": 95, \"88\": 1, \"72\": 1, \"10\": 2, \"30\": 1}, \"107\": {\"107\": 142, \"115\": 1, \"102\": 1}, \"60\": {\"60\": 31, \"72\": 1}, \"129\": {\"129\": 26, \"105\": 1, \"33\": 1}, \"84\": {\"84\": 126, \"88\": 4, \"108\": 2}, \"106\": {\"106\": 112, \"12\": 2, \"92\": 1, \"88\": 1}, \"87\": {\"87\": 131, \"43\": 1}, \"110\": {\"110\": 88, \"78\": 1, \"113\": 1, \"27\": 1, \"36\": 1, \"43\": 1, \"88\": 1}, \"118\": {\"118\": 108, \"22\": 1, \"107\": 1, \"88\": 2}, \"64\": {\"64\": 15, \"106\": 1}, \"82\": {\"129\": 1, \"82\": 30, \"17\": 1}, \"7\": {\"7\": 120, \"72\": 1, \"107\": 1, \"70\": 1, \"27\": 1}, \"0\": {\"0\": 112, \"88\": 1, \"107\": 1, \"21\": 2}, \"41\": {\"41\": 12, \"102\": 1, \"100\": 1, \"98\": 2}, \"102\": {\"102\": 128, \"107\": 1, \"126\": 1}, \"89\": {\"89\": 31, \"51\": 1}, \"26\": {\"26\": 125, \"102\": 1, \"70\": 1, \"15\": 1}, \"103\": {\"103\": 13, \"88\": 1, \"91\": 1, \"27\": 1}, \"90\": {\"90\": 114, \"111\": 1, \"117\": 2, \"88\": 1}, \"14\": {\"14\": 111, \"78\": 1}, \"9\": {\"9\": 28}, \"5\": {\"83\": 1, \"5\": 132, \"27\": 1, \"88\": 1, \"117\": 1}, \"22\": {\"22\": 16}, \"2\": {\"2\": 28}, \"77\": {\"77\": 12}, \"59\": {\"59\": 10, \"70\": 1, \"88\": 1}, \"127\": {\"127\": 95, \"72\": 1, \"82\": 1, \"88\": 1, \"105\": 2, \"62\": 1, \"10\": 1}, \"61\": {\"61\": 16}, \"17\": {\"17\": 18, \"81\": 1, \"82\": 1}, \"45\": {\"45\": 16}, \"19\": {\"19\": 27, \"129\": 1}, \"52\": {\"52\": 19, \"70\": 1}, \"123\": {\"84\": 1, \"123\": 13, \"23\": 2}, \"20\": {\"20\": 15, \"31\": 1}, \"112\": {\"112\": 12, \"84\": 1, \"5\": 2, \"15\": 1}, \"37\": {\"37\": 16}, \"29\": {\"29\": 32}, \"128\": {\"100\": 2, \"128\": 16, \"85\": 1, \"107\": 1, \"91\": 1, \"77\": 1, \"32\": 1, \"98\": 1}, \"100\": {\"100\": 20}, \"67\": {\"67\": 12, \"115\": 1, \"2\": 1, \"32\": 2}, \"12\": {\"12\": 96, \"106\": 1, \"102\": 1, \"16\": 1, \"87\": 1}, \"101\": {\"101\": 126, \"10\": 1, \"0\": 1}, \"76\": {\"76\": 16}, \"70\": {\"70\": 117, \"108\": 2, \"36\": 1, \"88\": 1, \"10\": 1, \"27\": 2}, \"31\": {\"88\": 1, \"31\": 15}, \"86\": {\"86\": 28}, \"88\": {\"88\": 129, \"69\": 1, \"70\": 1, \"94\": 1}, \"3\": {\"3\": 123, \"108\": 1, \"70\": 1, \"52\": 1}, \"117\": {\"117\": 117, \"107\": 1, \"114\": 1, \"69\": 1}, \"30\": {\"30\": 72, \"10\": 1, \"24\": 2, \"70\": 1}, \"96\": {\"96\": 18, \"122\": 2}, \"27\": {\"27\": 92, \"92\": 1, \"88\": 2, \"108\": 3, \"70\": 1, \"21\": 1}, \"122\": {\"122\": 79, \"43\": 2, \"110\": 2, \"39\": 1}, \"120\": {\"120\": 17, \"64\": 1, \"21\": 1, \"45\": 1}, \"44\": {\"44\": 60, \"121\": 2, \"90\": 1, \"127\": 1}, \"79\": {\"79\": 15, \"39\": 1}, \"105\": {\"105\": 93, \"33\": 1, \"40\": 2, \"88\": 1, \"72\": 1, \"102\": 1, \"39\": 1}, \"95\": {\"95\": 30, \"21\": 1, \"27\": 1}, \"109\": {\"109\": 114, \"121\": 1, \"78\": 1}, \"16\": {\"16\": 115, \"88\": 1, \"114\": 1, \"70\": 1}, \"36\": {\"36\": 92, \"113\": 1, \"108\": 1, \"24\": 1, \"27\": 3}, \"125\": {\"125\": 134, \"78\": 1, \"117\": 1}, \"97\": {\"36\": 2, \"97\": 14, \"10\": 2, \"102\": 2}, \"91\": {\"91\": 20, \"88\": 1, \"34\": 2, \"107\": 1}, \"28\": {\"28\": 19, \"129\": 1}, \"81\": {\"81\": 36}, \"126\": {\"126\": 114, \"88\": 1, \"78\": 1, \"10\": 2, \"81\": 1, \"97\": 1, \"113\": 2}, \"4\": {\"4\": 98, \"27\": 2, \"39\": 1, \"88\": 2, \"108\": 1}, \"10\": {\"10\": 121, \"94\": 1, \"70\": 1, \"43\": 1}, \"63\": {\"63\": 16}, \"43\": {\"43\": 118}, \"116\": {\"116\": 28}, \"1\": {\"1\": 98, \"116\": 1, \"71\": 2, \"110\": 1, \"95\": 1, \"4\": 1, \"108\": 1, \"70\": 1, \"27\": 1, \"88\": 1}, \"94\": {\"94\": 83, \"15\": 2, \"78\": 1, \"10\": 1, \"70\": 1}, \"38\": {\"38\": 16}, \"54\": {\"54\": 16}, \"74\": {\"74\": 15, \"119\": 1}, \"25\": {\"25\": 16}, \"75\": {\"75\": 16}, \"119\": {\"119\": 15, \"41\": 1}, \"46\": {\"46\": 13, \"73\": 1, \"5\": 2, \"23\": 1, \"129\": 1, \"122\": 1, \"111\": 1}, \"23\": {\"23\": 7, \"14\": 1, \"72\": 2, \"93\": 1, \"39\": 1, \"60\": 1, \"113\": 1, \"10\": 1, \"34\": 1}, \"99\": {\"99\": 40}, \"33\": {\"33\": 116, \"102\": 1, \"39\": 1}, \"47\": {\"47\": 9, \"112\": 1, \"49\": 1, \"83\": 1}, \"115\": {\"102\": 3, \"115\": 11, \"78\": 2}, \"6\": {\"6\": 21, \"58\": 2, \"27\": 1}, \"65\": {\"65\": 12}, \"66\": {\"66\": 14, \"90\": 2}, \"78\": {\"78\": 34, \"88\": 1, \"109\": 1}, \"98\": {\"98\": 116}, \"93\": {\"93\": 113, \"84\": 1, \"11\": 2}, \"48\": {\"48\": 15, \"102\": 1}, \"124\": {\"124\": 113, \"117\": 1}}, \"C_4\": {\"42\": {\"42\": 32}, \"0\": {\"0\": 80}, \"1\": {\"1\": 40}, \"39\": {\"39\": 20}, \"28\": {\"28\": 31, \"19\": 1}, \"53\": {\"53\": 124}, \"19\": {\"19\": 144}, \"34\": {\"34\": 24}, \"33\": {\"33\": 36}, \"32\": {\"32\": 24}, \"10\": {\"10\": 136}, \"46\": {\"46\": 134}, \"20\": {\"20\": 122}, \"5\": {\"5\": 108}, \"40\": {\"40\": 124}, \"51\": {\"51\": 144}, \"37\": {\"37\": 24}, \"17\": {\"17\": 80}, \"45\": {\"45\": 96}, \"13\": {\"13\": 141, \"56\": 1}, \"27\": {\"27\": 144}, \"24\": {\"24\": 56}, \"30\": {\"30\": 44}, \"31\": {\"31\": 28}, \"41\": {\"41\": 34, \"19\": 1, \"13\": 1}, \"36\": {\"36\": 92}, \"16\": {\"16\": 96}, \"22\": {\"22\": 128}, \"44\": {\"44\": 132}, \"9\": {\"9\": 140}, \"57\": {\"57\": 100}, \"8\": {\"8\": 138}, \"23\": {\"23\": 132}, \"47\": {\"47\": 120}, \"43\": {\"43\": 138}, \"49\": {\"49\": 20}, \"3\": {\"3\": 123, \"50\": 1}, \"12\": {\"12\": 91, \"45\": 1}, \"38\": {\"38\": 40}, \"7\": {\"49\": 2, \"7\": 22}, \"14\": {\"38\": 1, \"14\": 12, \"29\": 2, \"19\": 1}, \"15\": {\"15\": 146}, \"25\": {\"25\": 128}, \"26\": {\"26\": 22, \"54\": 2}, \"21\": {\"21\": 131, \"30\": 1}, \"48\": {\"48\": 144}, \"56\": {\"56\": 134}, \"11\": {\"11\": 104}, \"2\": {\"2\": 36}, \"6\": {\"6\": 111, \"3\": 1}, \"55\": {\"55\": 140}, \"54\": {\"54\": 108}, \"29\": {\"29\": 124}, \"50\": {\"50\": 120, \"3\": 2}, \"52\": {\"52\": 116}, \"35\": {\"35\": 40}, \"4\": {\"4\": 120}, \"18\": {\"18\": 108}}, \"C_5\": {\"43\": {\"43\": 152}, \"35\": {\"35\": 36}, \"54\": {\"54\": 112}, \"22\": {\"22\": 28}, \"16\": {\"16\": 146}, \"5\": {\"5\": 128}, \"28\": {\"28\": 32}, \"14\": {\"14\": 28, \"0\": 1, \"13\": 3, \"57\": 4, \"40\": 1, \"47\": 2, \"43\": 1, \"29\": 3, \"55\": 1}, \"51\": {\"51\": 128}, \"19\": {\"19\": 140}, \"31\": {\"31\": 36}, \"10\": {\"10\": 68}, \"21\": {\"21\": 136}, \"3\": {\"3\": 100}, \"57\": {\"57\": 132}, \"9\": {\"9\": 145, \"4\": 1}, \"8\": {\"8\": 132}, \"46\": {\"46\": 138, \"3\": 2}, \"23\": {\"23\": 124}, \"37\": {\"37\": 24}, \"34\": {\"34\": 36}, \"4\": {\"4\": 100}, \"6\": {\"6\": 123, \"45\": 5}, \"48\": {\"48\": 136}, \"44\": {\"44\": 138}, \"40\": {\"40\": 124}, \"12\": {\"12\": 96}, \"30\": {\"30\": 128}, \"39\": {\"39\": 20}, \"45\": {\"45\": 124}, \"36\": {\"36\": 92}, \"27\": {\"27\": 140}, \"32\": {\"32\": 32}, \"52\": {\"52\": 130}, \"0\": {\"0\": 124}, \"26\": {\"26\": 24}, \"1\": {\"1\": 147, \"21\": 1}, \"53\": {\"53\": 146}, \"25\": {\"25\": 144}, \"24\": {\"24\": 80}, \"7\": {\"7\": 32}, \"18\": {\"18\": 64}, \"20\": {\"20\": 144}, \"33\": {\"33\": 32}, \"55\": {\"55\": 140}, \"41\": {\"41\": 28}, \"42\": {\"42\": 39, \"16\": 1}, \"49\": {\"49\": 36}, \"13\": {\"13\": 148}, \"38\": {\"38\": 31, \"7\": 1}, \"2\": {\"2\": 28}, \"47\": {\"47\": 100}, \"17\": {\"17\": 116}, \"11\": {\"11\": 154}, \"29\": {\"29\": 132}, \"50\": {\"50\": 137, \"6\": 1}, \"56\": {\"56\": 148}, \"15\": {\"15\": 142}}, \"C_2\": {\"49\": {\"49\": 24}, \"13\": {\"13\": 116}, \"37\": {\"37\": 36}, \"41\": {\"41\": 19, \"1\": 1}, \"15\": {\"15\": 142}, \"56\": {\"56\": 141, \"23\": 1}, \"14\": {\"14\": 18, \"55\": 2, \"41\": 1, \"56\": 2, \"29\": 1}, \"3\": {\"3\": 92}, \"38\": {\"38\": 20}, \"43\": {\"43\": 138}, \"33\": {\"33\": 28}, \"47\": {\"47\": 138}, \"30\": {\"30\": 144}, \"39\": {\"39\": 28}, \"12\": {\"12\": 92}, \"6\": {\"6\": 123, \"45\": 1}, \"51\": {\"51\": 134}, \"5\": {\"5\": 120}, \"34\": {\"34\": 28}, \"35\": {\"35\": 32}, \"0\": {\"0\": 48}, \"7\": {\"7\": 36}, \"24\": {\"24\": 96}, \"8\": {\"8\": 136}, \"20\": {\"20\": 124}, \"36\": {\"36\": 116}, \"42\": {\"42\": 36}, \"1\": {\"1\": 112}, \"4\": {\"4\": 148}, \"28\": {\"28\": 28}, \"50\": {\"50\": 136}, \"45\": {\"45\": 128}, \"18\": {\"18\": 48}, \"57\": {\"57\": 120}, \"46\": {\"46\": 128}, \"23\": {\"23\": 148}, \"27\": {\"27\": 138}, \"19\": {\"19\": 134}, \"22\": {\"22\": 136}, \"17\": {\"17\": 104}, \"55\": {\"55\": 136}, \"44\": {\"44\": 100}, \"26\": {\"26\": 23, \"36\": 1}, \"31\": {\"31\": 28}, \"16\": {\"16\": 130}, \"11\": {\"11\": 128}, \"25\": {\"25\": 126}, \"54\": {\"54\": 108}, \"32\": {\"32\": 28}, \"52\": {\"52\": 124}, \"40\": {\"40\": 131, \"9\": 1}, \"2\": {\"2\": 32}, \"10\": {\"10\": 110}, \"53\": {\"53\": 136}, \"9\": {\"9\": 150}, \"21\": {\"21\": 120}, \"48\": {\"48\": 138}, \"29\": {\"29\": 125, \"57\": 3}}, \"W_2\": {\"115\": {\"115\": 12}, \"34\": {\"34\": 26, \"64\": 2, \"86\": 1, \"28\": 2, \"52\": 1}, \"97\": {\"97\": 17, \"89\": 1, \"101\": 2}, \"100\": {\"100\": 16}, \"129\": {\"129\": 31, \"73\": 1}, \"90\": {\"90\": 140, \"98\": 1, \"102\": 1}, \"125\": {\"125\": 131, \"2\": 1}, \"7\": {\"7\": 124, \"105\": 1, \"24\": 2, \"88\": 1}, \"92\": {\"92\": 26, \"55\": 2}, \"114\": {\"114\": 115, \"107\": 1}, \"80\": {\"80\": 15, \"83\": 1}, \"16\": {\"16\": 117, \"24\": 2, \"40\": 1, \"88\": 1, \"102\": 1}, \"69\": {\"69\": 112, \"24\": 2, \"70\": 1, \"88\": 1}, \"102\": {\"102\": 114}, \"33\": {\"33\": 130}, \"17\": {\"17\": 14, \"27\": 1, \"104\": 1}, \"27\": {\"27\": 63, \"24\": 2, \"109\": 1, \"36\": 1, \"26\": 1}, \"117\": {\"117\": 104, \"1\": 1, \"39\": 1}, \"14\": {\"14\": 46, \"126\": 1, \"21\": 1}, \"86\": {\"86\": 32}, \"0\": {\"0\": 113, \"21\": 1, \"69\": 1, \"24\": 1}, \"62\": {\"62\": 136, \"36\": 1, \"24\": 1}, \"39\": {\"39\": 103, \"1\": 1, \"24\": 1, \"94\": 1, \"69\": 1, \"109\": 4, \"70\": 1}, \"19\": {\"19\": 28}, \"44\": {\"44\": 100}, \"104\": {\"104\": 19, \"86\": 1}, \"3\": {\"3\": 125, \"69\": 2, \"24\": 1, \"21\": 1, \"36\": 1}, \"10\": {\"10\": 55, \"69\": 1, \"89\": 1, \"24\": 1, \"88\": 1, \"108\": 1}, \"61\": {\"61\": 14, \"82\": 1, \"70\": 1, \"92\": 2, \"126\": 2}, \"111\": {\"111\": 114}, \"68\": {\"68\": 14, \"58\": 2}, \"101\": {\"101\": 142, \"21\": 1, \"71\": 1}, \"36\": {\"36\": 119, \"82\": 1, \"18\": 1, \"88\": 1, \"26\": 1, \"16\": 1, \"24\": 2, \"4\": 1, \"108\": 1}, \"120\": {\"120\": 20}, \"103\": {\"103\": 16}, \"47\": {\"47\": 12}, \"98\": {\"98\": 119, \"3\": 1}, \"76\": {\"76\": 16}, \"88\": {\"88\": 121, \"70\": 2, \"109\": 1}, \"93\": {\"93\": 135, \"88\": 1, \"24\": 1, \"16\": 1}, \"23\": {\"93\": 1, \"23\": 37, \"126\": 1, \"16\": 1, \"87\": 1, \"60\": 2, \"113\": 1}, \"108\": {\"108\": 123, \"109\": 1}, \"51\": {\"51\": 16, \"89\": 1, \"58\": 1, \"39\": 1, \"24\": 1}, \"13\": {\"13\": 12, \"82\": 1, \"88\": 1, \"27\": 1, \"110\": 1}, \"77\": {\"77\": 15, \"91\": 1}, \"46\": {\"46\": 16}, \"96\": {\"96\": 20}, \"119\": {\"119\": 19, \"1\": 1}, \"121\": {\"121\": 34, \"81\": 2}, \"54\": {\"54\": 18, \"41\": 1, \"126\": 1}, \"82\": {\"82\": 36}, \"12\": {\"12\": 82, \"39\": 1, \"0\": 2, \"126\": 1, \"84\": 1, \"24\": 1}, \"74\": {\"74\": 15, \"107\": 1}, \"66\": {\"66\": 18, \"118\": 1, \"82\": 1}, \"28\": {\"28\": 19, \"73\": 1}, \"52\": {\"52\": 18, \"40\": 1, \"107\": 1}, \"41\": {\"41\": 18, \"52\": 1, \"110\": 1}, \"81\": {\"81\": 24}, \"48\": {\"48\": 20}, \"113\": {\"113\": 70, \"88\": 1, \"105\": 1}, \"53\": {\"53\": 16}, \"15\": {\"15\": 117, \"97\": 2, \"126\": 1}, \"30\": {\"30\": 108, \"0\": 1, \"24\": 1, \"122\": 1, \"126\": 1}, \"43\": {\"43\": 121, \"88\": 2, \"107\": 1}, \"29\": {\"29\": 31, \"123\": 1}, \"109\": {\"109\": 90, \"39\": 6, \"26\": 1, \"88\": 2, \"84\": 1}, \"60\": {\"60\": 24, \"122\": 3, \"70\": 1}, \"70\": {\"70\": 113, \"78\": 1, \"109\": 3, \"88\": 2, \"15\": 1, \"39\": 1, \"43\": 1}, \"127\": {\"127\": 123, \"16\": 1}, \"32\": {\"32\": 26, \"52\": 1, \"14\": 2, \"56\": 1, \"1\": 1, \"95\": 1, \"104\": 2, \"34\": 2}, \"73\": {\"73\": 27, \"88\": 1}, \"50\": {\"50\": 13, \"107\": 1, \"21\": 1, \"33\": 1}, \"1\": {\"1\": 119, \"69\": 1, \"12\": 1, \"93\": 1, \"88\": 1, \"126\": 1}, \"106\": {\"106\": 116, \"126\": 2, \"26\": 1, \"88\": 1}, \"123\": {\"123\": 15, \"82\": 1}, \"79\": {\"79\": 16}, \"4\": {\"4\": 85, \"84\": 1, \"126\": 1, \"108\": 1}, \"2\": {\"2\": 25, \"81\": 1, \"117\": 1, \"15\": 1, \"102\": 2, \"13\": 2}, \"8\": {\"8\": 124, \"88\": 2, \"39\": 1, \"109\": 1}, \"83\": {\"83\": 40}, \"105\": {\"105\": 128, \"21\": 1, \"7\": 1}, \"5\": {\"5\": 107, \"21\": 1, \"70\": 2, \"26\": 1, \"88\": 1}, \"99\": {\"99\": 32}, \"25\": {\"25\": 15, \"28\": 1}, \"59\": {\"59\": 11, \"21\": 2, \"5\": 2, \"126\": 1}, \"42\": {\"42\": 22, \"129\": 2, \"73\": 1, \"18\": 1, \"85\": 1, \"88\": 1}, \"55\": {\"55\": 16}, \"75\": {\"75\": 16}, \"118\": {\"118\": 66, \"39\": 1, \"69\": 1}, \"95\": {\"95\": 33, \"21\": 1, \"24\": 1, \"40\": 1}, \"122\": {\"122\": 118, \"24\": 1, \"0\": 1}, \"20\": {\"20\": 16}, \"110\": {\"110\": 31, \"78\": 1, \"1\": 1, \"35\": 1, \"21\": 1, \"24\": 1, \"14\": 2, \"69\": 1, \"16\": 1}, \"65\": {\"65\": 20}, \"37\": {\"79\": 1, \"37\": 14, \"104\": 1}, \"64\": {\"64\": 15, \"66\": 1}, \"63\": {\"63\": 19, \"10\": 1}, \"40\": {\"40\": 128, \"18\": 1, \"88\": 4, \"69\": 2, \"24\": 2, \"73\": 1, \"78\": 1, \"108\": 1}, \"21\": {\"21\": 45, \"109\": 1, \"39\": 2}, \"11\": {\"11\": 76, \"108\": 1, \"111\": 1, \"88\": 1, \"4\": 1}, \"67\": {\"67\": 16}, \"91\": {\"103\": 1, \"70\": 1, \"91\": 25, \"18\": 1}, \"87\": {\"87\": 103, \"43\": 1, \"39\": 2, \"88\": 1, \"24\": 2, \"107\": 1, \"109\": 1, \"69\": 1}, \"89\": {\"89\": 35, \"92\": 1}, \"9\": {\"9\": 32}, \"124\": {\"124\": 114}, \"56\": {\"56\": 11, \"103\": 1}, \"38\": {\"38\": 16}, \"94\": {\"94\": 58, \"109\": 1, \"26\": 1, \"12\": 1, \"1\": 1, \"24\": 1, \"39\": 1}, \"6\": {\"6\": 31, \"91\": 1}, \"58\": {\"58\": 19, \"42\": 1}, \"22\": {\"22\": 20}, \"24\": {\"108\": 2, \"24\": 99, \"118\": 1, \"107\": 1, \"36\": 1, \"27\": 1, \"70\": 1, \"69\": 1, \"57\": 1, \"109\": 1, \"39\": 1, \"15\": 1, \"88\": 1}, \"57\": {\"57\": 20}, \"112\": {\"112\": 12, \"53\": 1, \"6\": 1, \"111\": 1, \"85\": 1}, \"116\": {\"116\": 26, \"39\": 1, \"78\": 1}, \"18\": {\"18\": 120, \"42\": 1, \"73\": 1, \"69\": 1, \"70\": 1, \"88\": 1, \"24\": 1, \"82\": 1, \"126\": 1}, \"49\": {\"49\": 17, \"78\": 1, \"44\": 1, \"12\": 1, \"114\": 1, \"21\": 1, \"58\": 1, \"88\": 1}, \"45\": {\"45\": 16}, \"107\": {\"107\": 54, \"82\": 1, \"110\": 2, \"126\": 1, \"33\": 1, \"78\": 1, \"108\": 1, \"88\": 1, \"36\": 1, \"102\": 1}, \"35\": {\"35\": 12}, \"78\": {\"78\": 42, \"14\": 1, \"70\": 1, \"109\": 3, \"69\": 1}, \"126\": {\"126\": 120}, \"85\": {\"85\": 32}, \"72\": {\"72\": 27, \"21\": 1}, \"26\": {\"26\": 120, \"70\": 1, \"1\": 1, \"88\": 1, \"108\": 1}, \"84\": {\"84\": 89, \"82\": 1, \"24\": 1, \"26\": 1}, \"128\": {\"128\": 19, \"114\": 2, \"34\": 2, \"101\": 1}, \"31\": {\"31\": 20}, \"71\": {\"71\": 98, \"16\": 1, \"88\": 1}}, \"C_1\": {\"9\": {\"9\": 142}, \"25\": {\"25\": 128}, \"41\": {\"41\": 24}, \"29\": {\"29\": 140}, \"46\": {\"46\": 127, \"50\": 1}, \"4\": {\"4\": 132}, \"31\": {\"31\": 28}, \"36\": {\"36\": 64}, \"20\": {\"20\": 128}, \"7\": {\"7\": 28}, \"6\": {\"6\": 96}, \"16\": {\"16\": 138}, \"17\": {\"17\": 64}, \"50\": {\"50\": 148}, \"57\": {\"57\": 144}, \"23\": {\"23\": 136}, \"3\": {\"3\": 125, \"56\": 1}, \"53\": {\"53\": 140}, \"49\": {\"49\": 32}, \"56\": {\"56\": 152}, \"51\": {\"51\": 142}, \"26\": {\"26\": 24}, \"43\": {\"43\": 144}, \"22\": {\"22\": 136}, \"45\": {\"45\": 145, \"56\": 1}, \"13\": {\"13\": 152}, \"12\": {\"12\": 116}, \"54\": {\"54\": 104}, \"24\": {\"24\": 108}, \"44\": {\"44\": 136}, \"28\": {\"28\": 28}, \"33\": {\"33\": 32}, \"38\": {\"38\": 21, \"36\": 2, \"1\": 1}, \"0\": {\"0\": 144}, \"47\": {\"47\": 154}, \"42\": {\"42\": 40}, \"34\": {\"34\": 24}, \"48\": {\"48\": 142}, \"35\": {\"35\": 36}, \"2\": {\"2\": 36}, \"30\": {\"30\": 120}, \"18\": {\"18\": 72}, \"37\": {\"37\": 31, \"29\": 1}, \"1\": {\"1\": 100}, \"11\": {\"11\": 138}, \"55\": {\"55\": 130}, \"15\": {\"15\": 150}, \"10\": {\"10\": 96}, \"27\": {\"27\": 159, \"21\": 1}, \"19\": {\"19\": 146}, \"14\": {\"30\": 4, \"14\": 20}, \"8\": {\"8\": 140}, \"5\": {\"5\": 136}, \"39\": {\"39\": 26, \"47\": 2}, \"52\": {\"52\": 122}, \"21\": {\"21\": 124}, \"40\": {\"40\": 152}, \"32\": {\"32\": 32}}, \"C_3\": {\"56\": {\"56\": 120}, \"4\": {\"4\": 146}, \"34\": {\"34\": 32}, \"52\": {\"52\": 136}, \"32\": {\"32\": 28}, \"46\": {\"46\": 135, \"52\": 1}, \"12\": {\"12\": 90, \"45\": 2}, \"20\": {\"20\": 132}, \"54\": {\"54\": 100}, \"22\": {\"22\": 140}, \"26\": {\"26\": 24}, \"31\": {\"31\": 28}, \"10\": {\"10\": 64}, \"27\": {\"27\": 144}, \"40\": {\"40\": 136}, \"28\": {\"28\": 28}, \"5\": {\"5\": 116}, \"30\": {\"30\": 120}, \"7\": {\"7\": 36}, \"18\": {\"18\": 84}, \"39\": {\"39\": 16}, \"50\": {\"50\": 136}, \"49\": {\"49\": 17, \"24\": 3}, \"43\": {\"43\": 122}, \"29\": {\"29\": 114}, \"35\": {\"35\": 28}, \"13\": {\"13\": 124}, \"36\": {\"36\": 100}, \"11\": {\"11\": 146}, \"57\": {\"57\": 117, \"29\": 7}, \"9\": {\"9\": 130}, \"25\": {\"25\": 130}, \"16\": {\"16\": 126}, \"53\": {\"53\": 118}, \"33\": {\"33\": 28}, \"51\": {\"51\": 128}, \"44\": {\"44\": 88}, \"48\": {\"48\": 114}, \"6\": {\"6\": 88}, \"23\": {\"23\": 144}, \"1\": {\"1\": 100}, \"17\": {\"17\": 108}, \"21\": {\"21\": 121, \"46\": 1}, \"14\": {\"14\": 34, \"55\": 3, \"47\": 1, \"13\": 2}, \"55\": {\"55\": 144}, \"41\": {\"41\": 26, \"48\": 2}, \"3\": {\"3\": 136, \"50\": 2}, \"38\": {\"38\": 28}, \"2\": {\"2\": 32}, \"8\": {\"8\": 142}, \"37\": {\"37\": 28}, \"45\": {\"45\": 59, \"6\": 1}, \"42\": {\"42\": 28}, \"24\": {\"24\": 104}, \"15\": {\"15\": 136}, \"0\": {\"0\": 124}, \"47\": {\"47\": 92}, \"19\": {\"19\": 120}}, \"W_1\": {\"22\": {\"22\": 16}, \"58\": {\"58\": 12}, \"109\": {\"109\": 124}, \"77\": {\"77\": 16}, \"74\": {\"74\": 16}, \"10\": {\"10\": 119, \"109\": 1}, \"70\": {\"70\": 125, \"109\": 2, \"62\": 1}, \"84\": {\"84\": 108}, \"52\": {\"52\": 20}, \"20\": {\"20\": 16}, \"14\": {\"14\": 95, \"108\": 1}, \"37\": {\"37\": 16}, \"42\": {\"42\": 22, \"72\": 1, \"2\": 2, \"91\": 1, \"29\": 1, \"86\": 1}, \"99\": {\"99\": 24}, \"35\": {\"35\": 12}, \"62\": {\"62\": 119, \"108\": 1}, \"61\": {\"61\": 12}, \"7\": {\"7\": 141, \"70\": 1}, \"69\": {\"69\": 100, \"88\": 2, \"108\": 1, \"109\": 1}, \"55\": {\"55\": 12}, \"41\": {\"41\": 16}, \"120\": {\"120\": 20}, \"123\": {\"123\": 16}, \"97\": {\"97\": 16, \"78\": 1, \"42\": 1, \"59\": 1, \"95\": 1}, \"102\": {\"102\": 117, \"16\": 1, \"108\": 1, \"109\": 1}, \"60\": {\"20\": 2, \"60\": 7, \"18\": 1, \"106\": 2, \"61\": 1, \"110\": 1, \"8\": 1, \"30\": 1}, \"127\": {\"127\": 104, \"1\": 1, \"88\": 1, \"11\": 1, \"31\": 1}, \"32\": {\"32\": 32}, \"3\": {\"3\": 82, \"102\": 2, \"85\": 1, \"93\": 1, \"30\": 1, \"108\": 1}, \"8\": {\"8\": 122}, \"129\": {\"129\": 24, \"2\": 1, \"5\": 2, \"42\": 1}, \"119\": {\"119\": 16}, \"21\": {\"21\": 38, \"108\": 1, \"5\": 1}, \"53\": {\"53\": 20}, \"28\": {\"28\": 20}, \"117\": {\"117\": 144}, \"112\": {\"112\": 16}, \"126\": {\"126\": 130, \"108\": 1, \"88\": 2, \"24\": 1}, \"30\": {\"30\": 51, \"97\": 1}, \"105\": {\"105\": 81, \"88\": 1, \"126\": 1, \"70\": 1}, \"29\": {\"29\": 28}, \"57\": {\"57\": 12}, \"93\": {\"93\": 140}, \"17\": {\"17\": 15, \"97\": 1}, \"44\": {\"44\": 76}, \"63\": {\"63\": 15, \"116\": 1}, \"87\": {\"87\": 106, \"109\": 1, \"108\": 1}, \"0\": {\"0\": 83, \"122\": 1}, \"96\": {\"96\": 18, \"25\": 1, \"19\": 1}, \"98\": {\"98\": 108}, \"75\": {\"75\": 16}, \"78\": {\"78\": 14, \"21\": 1, \"27\": 1}, \"116\": {\"116\": 30, \"22\": 1, \"70\": 1}, \"114\": {\"114\": 126, \"109\": 1, \"70\": 1}, \"103\": {\"103\": 15, \"124\": 1}, \"50\": {\"50\": 16}, \"124\": {\"124\": 128}, \"5\": {\"5\": 85, \"82\": 1, \"81\": 1, \"15\": 1}, \"73\": {\"73\": 19, \"49\": 1}, \"81\": {\"81\": 28}, \"49\": {\"49\": 14, \"5\": 1, \"72\": 1, \"1\": 1, \"106\": 1, \"6\": 1, \"101\": 1}, \"16\": {\"16\": 106, \"70\": 1, \"81\": 1}, \"101\": {\"101\": 124}, \"125\": {\"125\": 118}, \"65\": {\"66\": 1, \"65\": 6, \"76\": 1, \"45\": 1, \"42\": 1, \"23\": 1, \"115\": 1}, \"66\": {\"66\": 15, \"90\": 1}, \"79\": {\"104\": 1, \"79\": 11}, \"39\": {\"39\": 102, \"30\": 1, \"11\": 1}, \"104\": {\"104\": 16}, \"91\": {\"91\": 27, \"86\": 1}, \"25\": {\"25\": 14, \"1\": 1, \"104\": 1}, \"64\": {\"64\": 16}, \"34\": {\"34\": 28, \"83\": 2, \"30\": 1, \"6\": 1}, \"82\": {\"82\": 36}, \"18\": {\"18\": 124}, \"43\": {\"43\": 127, \"78\": 1}, \"47\": {\"47\": 12}, \"108\": {\"108\": 120, \"50\": 1, \"88\": 2, \"70\": 1}, \"111\": {\"111\": 107, \"70\": 1}, \"23\": {\"23\": 17, \"87\": 3, \"44\": 1, \"122\": 2, \"110\": 1}, \"90\": {\"90\": 157, \"35\": 1, \"113\": 1, \"84\": 1}, \"4\": {\"4\": 99, \"27\": 1}, \"92\": {\"92\": 28}, \"2\": {\"2\": 26, \"119\": 1, \"5\": 2, \"129\": 1, \"82\": 1, \"15\": 1}, \"45\": {\"2\": 1, \"45\": 5, \"104\": 1, \"124\": 2, \"42\": 1, \"70\": 1, \"21\": 1}, \"68\": {\"68\": 16}, \"26\": {\"26\": 128}, \"38\": {\"38\": 16}, \"40\": {\"40\": 141, \"110\": 1}, \"80\": {\"80\": 14, \"20\": 1, \"73\": 1}, \"107\": {\"107\": 118, \"81\": 1, \"108\": 1, \"39\": 1, \"113\": 1}, \"94\": {\"94\": 91, \"15\": 1}, \"115\": {\"115\": 12}, \"46\": {\"46\": 7, \"5\": 2, \"86\": 1, \"70\": 1, \"91\": 1}, \"72\": {\"72\": 32}, \"19\": {\"19\": 28}, \"100\": {\"100\": 14, \"84\": 1, \"109\": 1}, \"76\": {\"76\": 15, \"88\": 1}, \"106\": {\"106\": 132}, \"88\": {\"88\": 129, \"108\": 1}, \"15\": {\"15\": 97, \"94\": 6, \"70\": 1}, \"54\": {\"54\": 14, \"60\": 1, \"30\": 1}, \"13\": {\"13\": 16}, \"51\": {\"51\": 16}, \"24\": {\"24\": 87, \"88\": 4, \"34\": 1}, \"48\": {\"48\": 12}, \"85\": {\"85\": 32}, \"33\": {\"33\": 140}, \"71\": {\"71\": 102, \"31\": 1, \"117\": 1, \"12\": 2, \"6\": 1, \"1\": 1}, \"6\": {\"6\": 31, \"58\": 1}, \"83\": {\"83\": 26, \"102\": 1, \"118\": 1}, \"121\": {\"121\": 32}, \"31\": {\"31\": 15, \"122\": 1}, \"67\": {\"109\": 1, \"67\": 15}, \"1\": {\"1\": 135, \"81\": 1}, \"27\": {\"27\": 91, \"109\": 1}, \"118\": {\"118\": 82, \"108\": 1, \"103\": 1}, \"56\": {\"56\": 12}, \"36\": {\"36\": 127, \"70\": 1}, \"11\": {\"11\": 125, \"111\": 1}, \"110\": {\"110\": 120, \"88\": 1, \"81\": 1}, \"89\": {\"89\": 36}, \"113\": {\"113\": 113, \"110\": 2, \"33\": 1, \"108\": 1, \"39\": 1}, \"59\": {\"59\": 12}, \"9\": {\"9\": 31, \"108\": 1}, \"86\": {\"86\": 31, \"59\": 1, \"5\": 2, \"94\": 1, \"62\": 1}, \"12\": {\"12\": 96, \"71\": 2, \"70\": 2, \"109\": 1, \"106\": 2, \"24\": 1}, \"122\": {\"122\": 80, \"43\": 5, \"27\": 1, \"70\": 2}, \"128\": {\"128\": 19, \"89\": 1, \"82\": 1, \"5\": 1, \"72\": 2}, \"95\": {\"95\": 35, \"24\": 1}}, \"O_14\": {\"15\": {\"15\": 240}, \"5\": {\"8\": 30, \"13\": 15, \"5\": 73, \"2\": 31, \"14\": 28, \"0\": 16, \"4\": 13, \"7\": 20, \"10\": 4, \"12\": 7, \"3\": 1, \"6\": 2}, \"7\": {\"8\": 35, \"5\": 30, \"3\": 16, \"6\": 5, \"2\": 11, \"0\": 23, \"14\": 9, \"7\": 90, \"13\": 19, \"12\": 2}, \"4\": {\"13\": 2, \"4\": 112, \"12\": 11, \"10\": 64, \"5\": 20, \"2\": 8, \"9\": 11, \"0\": 3, \"1\": 3, \"8\": 2, \"7\": 2, \"14\": 2}, \"10\": {\"10\": 126, \"4\": 70, \"9\": 23, \"1\": 7, \"13\": 2, \"2\": 4, \"14\": 4, \"12\": 2, \"0\": 1, \"5\": 1}, \"11\": {\"11\": 234, \"1\": 5, \"9\": 1}, \"12\": {\"12\": 137, \"8\": 65, \"0\": 15, \"7\": 5, \"5\": 10, \"2\": 2, \"4\": 2, \"9\": 2, \"14\": 1, \"10\": 1}, \"0\": {\"8\": 16, \"6\": 20, \"14\": 15, \"0\": 41, \"4\": 3, \"3\": 37, \"5\": 22, \"13\": 24, \"7\": 22, \"2\": 19, \"10\": 1, \"12\": 20}, \"14\": {\"7\": 7, \"13\": 32, \"3\": 21, \"14\": 81, \"6\": 19, \"0\": 27, \"2\": 35, \"5\": 17, \"8\": 1}, \"8\": {\"8\": 110, \"7\": 32, \"0\": 12, \"5\": 28, \"12\": 56, \"13\": 1, \"14\": 1}, \"13\": {\"6\": 64, \"13\": 51, \"7\": 6, \"14\": 33, \"0\": 10, \"15\": 15, \"3\": 24, \"2\": 17, \"5\": 15, \"10\": 1, \"4\": 4}, \"6\": {\"0\": 16, \"6\": 79, \"2\": 8, \"13\": 57, \"14\": 27, \"7\": 1, \"3\": 49, \"5\": 3}, \"1\": {\"1\": 157, \"9\": 44, \"10\": 35, \"4\": 4}, \"3\": {\"7\": 18, \"0\": 44, \"3\": 87, \"6\": 25, \"13\": 31, \"5\": 5, \"14\": 11, \"2\": 9, \"8\": 10}, \"9\": {\"4\": 11, \"1\": 38, \"9\": 165, \"10\": 24, \"8\": 1, \"12\": 1}, \"2\": {\"5\": 37, \"14\": 37, \"10\": 14, \"2\": 38, \"4\": 20, \"7\": 6, \"3\": 21, \"6\": 17, \"13\": 19, \"0\": 26, \"12\": 4, \"8\": 1}}, \"O_20\": {\"4\": {\"14\": 6, \"10\": 31, \"1\": 3, \"4\": 70, \"8\": 3, \"2\": 19, \"7\": 24, \"6\": 24, \"12\": 28, \"15\": 10, \"13\": 12, \"9\": 8, \"3\": 2}, \"10\": {\"6\": 18, \"12\": 12, \"4\": 36, \"10\": 140, \"13\": 19, \"2\": 9, \"14\": 2, \"7\": 3, \"15\": 1}, \"15\": {\"15\": 33, \"1\": 20, \"13\": 26, \"7\": 31, \"12\": 27, \"6\": 16, \"4\": 17, \"8\": 2, \"2\": 31, \"9\": 23, \"3\": 6, \"5\": 4, \"14\": 3, \"10\": 1}, \"0\": {\"0\": 106, \"8\": 32, \"11\": 70, \"3\": 12, \"14\": 10, \"5\": 7, \"1\": 2, \"9\": 1}, \"6\": {\"6\": 56, \"14\": 14, \"15\": 17, \"12\": 20, \"10\": 17, \"7\": 24, \"2\": 16, \"4\": 37, \"1\": 7, \"9\": 14, \"5\": 2, \"13\": 7, \"8\": 5, \"3\": 4}, \"3\": {\"6\": 7, \"8\": 29, \"15\": 13, \"9\": 27, \"1\": 33, \"5\": 39, \"14\": 38, \"7\": 10, \"0\": 3, \"3\": 33, \"12\": 3, \"2\": 2, \"4\": 3}, \"7\": {\"9\": 37, \"3\": 9, \"15\": 26, \"4\": 31, \"6\": 21, \"2\": 29, \"13\": 14, \"7\": 23, \"12\": 12, \"14\": 8, \"1\": 15, \"5\": 9, \"10\": 2, \"8\": 4}, \"2\": {\"2\": 40, \"7\": 22, \"15\": 29, \"4\": 24, \"10\": 9, \"13\": 42, \"12\": 27, \"6\": 12, \"1\": 12, \"3\": 2, \"9\": 18, \"14\": 3}, \"8\": {\"5\": 27, \"1\": 17, \"8\": 58, \"14\": 59, \"6\": 5, \"9\": 11, \"3\": 45, \"0\": 9, \"2\": 1, \"11\": 2, \"12\": 1, \"15\": 2, \"4\": 2, \"7\": 1}, \"11\": {\"11\": 146, \"0\": 84, \"8\": 4, \"5\": 2, \"3\": 3, \"9\": 1}, \"14\": {\"14\": 80, \"5\": 29, \"8\": 47, \"1\": 8, \"6\": 15, \"3\": 23, \"4\": 7, \"9\": 16, \"0\": 2, \"7\": 9, \"10\": 1, \"15\": 1, \"12\": 2}, \"12\": {\"6\": 20, \"12\": 29, \"9\": 21, \"15\": 30, \"2\": 31, \"4\": 32, \"7\": 24, \"10\": 7, \"13\": 32, \"1\": 10, \"8\": 2, \"5\": 1, \"3\": 1}, \"13\": {\"12\": 33, \"10\": 15, \"13\": 71, \"2\": 43, \"7\": 14, \"4\": 12, \"15\": 37, \"6\": 7, \"5\": 1, \"9\": 5, \"1\": 2}, \"9\": {\"9\": 38, \"1\": 40, \"3\": 22, \"14\": 15, \"4\": 9, \"15\": 18, \"12\": 13, \"6\": 18, \"2\": 14, \"5\": 22, \"7\": 18, \"8\": 6, \"10\": 1, \"13\": 6}, \"5\": {\"2\": 11, \"5\": 42, \"3\": 35, \"1\": 29, \"15\": 18, \"7\": 17, \"8\": 28, \"9\": 25, \"14\": 12, \"6\": 11, \"11\": 1, \"12\": 2, \"13\": 5, \"0\": 3, \"4\": 1}, \"1\": {\"2\": 13, \"14\": 11, \"15\": 31, \"3\": 25, \"6\": 7, \"9\": 42, \"5\": 35, \"7\": 20, \"12\": 8, \"1\": 30, \"8\": 7, \"4\": 6, \"13\": 5}}, \"O_50\": {\"5\": {\"15\": 31, \"3\": 14, \"9\": 16, \"6\": 27, \"7\": 34, \"4\": 39, \"5\": 54, \"11\": 16, \"13\": 7, \"12\": 2}, \"12\": {\"9\": 39, \"6\": 15, \"12\": 135, \"8\": 2, \"11\": 29, \"3\": 16, \"15\": 2, \"5\": 1, \"13\": 1}, \"14\": {\"0\": 55, \"14\": 98, \"2\": 84, \"10\": 1, \"1\": 2}, \"4\": {\"4\": 104, \"7\": 83, \"5\": 40, \"15\": 5, \"9\": 2, \"6\": 6}, \"13\": {\"1\": 34, \"13\": 136, \"11\": 38, \"8\": 14, \"5\": 3, \"3\": 2, \"12\": 9, \"9\": 2, \"15\": 2}, \"10\": {\"8\": 44, \"10\": 124, \"1\": 25, \"0\": 43, \"2\": 3, \"14\": 1}, \"9\": {\"11\": 19, \"5\": 24, \"9\": 64, \"12\": 46, \"15\": 37, \"6\": 33, \"3\": 16, \"13\": 1}, \"15\": {\"6\": 57, \"15\": 94, \"5\": 27, \"9\": 37, \"3\": 13, \"12\": 7, \"11\": 4, \"4\": 1}, \"6\": {\"15\": 62, \"3\": 32, \"6\": 65, \"11\": 8, \"9\": 30, \"4\": 1, \"5\": 27, \"12\": 15}, \"2\": {\"2\": 112, \"14\": 66, \"0\": 60, \"10\": 2}, \"0\": {\"0\": 105, \"2\": 73, \"10\": 41, \"14\": 21}, \"11\": {\"13\": 20, \"6\": 17, \"12\": 48, \"11\": 82, \"15\": 24, \"9\": 22, \"5\": 9, \"3\": 18}, \"3\": {\"3\": 96, \"9\": 26, \"6\": 35, \"12\": 36, \"15\": 20, \"11\": 13, \"5\": 13, \"13\": 1}, \"8\": {\"8\": 154, \"1\": 43, \"10\": 28, \"13\": 7, \"12\": 2, \"2\": 1, \"0\": 5}, \"7\": {\"7\": 116, \"4\": 89, \"5\": 26, \"15\": 2, \"6\": 3, \"9\": 2, \"3\": 2}, \"1\": {\"8\": 48, \"1\": 125, \"13\": 41, \"11\": 6, \"10\": 18, \"0\": 1, \"15\": 1}}, \"O_26\": {\"7\": {\"7\": 64, \"9\": 29, \"12\": 13, \"3\": 28, \"8\": 59, \"2\": 39, \"10\": 1, \"0\": 4, \"13\": 3}, \"6\": {\"5\": 48, \"10\": 23, \"11\": 15, \"15\": 46, \"6\": 57, \"14\": 16, \"1\": 31, \"0\": 4}, \"14\": {\"10\": 59, \"14\": 54, \"6\": 16, \"0\": 46, \"15\": 23, \"5\": 8, \"1\": 28, \"2\": 5, \"8\": 1}, \"15\": {\"6\": 49, \"15\": 58, \"14\": 19, \"1\": 25, \"5\": 38, \"10\": 28, \"11\": 9, \"0\": 14}, \"5\": {\"15\": 47, \"5\": 89, \"11\": 36, \"1\": 20, \"10\": 9, \"6\": 32, \"14\": 6, \"0\": 1}, \"10\": {\"14\": 47, \"15\": 40, \"10\": 56, \"0\": 34, \"5\": 17, \"1\": 23, \"6\": 21, \"2\": 1, \"11\": 1}, \"4\": {\"4\": 173, \"3\": 36, \"13\": 23, \"9\": 2, \"7\": 4, \"8\": 1, \"12\": 1}, \"11\": {\"11\": 156, \"15\": 14, \"6\": 17, \"5\": 49, \"1\": 4}, \"13\": {\"13\": 116, \"12\": 21, \"9\": 33, \"3\": 35, \"4\": 8, \"2\": 10, \"7\": 11, \"8\": 6}, \"2\": {\"12\": 18, \"9\": 26, \"8\": 41, \"2\": 56, \"7\": 37, \"3\": 18, \"13\": 15, \"14\": 3, \"0\": 19, \"15\": 4, \"10\": 3}, \"0\": {\"14\": 45, \"8\": 14, \"0\": 76, \"10\": 58, \"9\": 3, \"2\": 16, \"7\": 6, \"5\": 4, \"6\": 5, \"15\": 11, \"1\": 1, \"12\": 1}, \"12\": {\"12\": 86, \"3\": 10, \"9\": 45, \"13\": 41, \"2\": 24, \"7\": 19, \"8\": 15}, \"3\": {\"3\": 91, \"9\": 29, \"7\": 40, \"12\": 10, \"2\": 16, \"8\": 20, \"13\": 26, \"4\": 8}, \"9\": {\"3\": 33, \"8\": 20, \"13\": 33, \"2\": 40, \"9\": 52, \"7\": 31, \"12\": 28, \"0\": 2, \"10\": 1}, \"8\": {\"9\": 23, \"8\": 59, \"7\": 55, \"3\": 12, \"2\": 46, \"12\": 20, \"13\": 4, \"0\": 15, \"14\": 2, \"10\": 4}, \"1\": {\"10\": 25, \"1\": 119, \"6\": 34, \"5\": 11, \"15\": 14, \"14\": 30, \"0\": 6, \"11\": 1}}, \"O_32\": {\"7\": {\"7\": 68, \"14\": 50, \"5\": 47, \"0\": 45, \"8\": 27, \"1\": 3}, \"2\": {\"2\": 113, \"4\": 57, \"1\": 28, \"14\": 20, \"5\": 1, \"8\": 7, \"3\": 6, \"9\": 1, \"0\": 2, \"13\": 3, \"7\": 2}, \"5\": {\"5\": 84, \"0\": 43, \"7\": 48, \"14\": 18, \"8\": 36, \"15\": 8, \"1\": 2, \"2\": 1}, \"6\": {\"6\": 218, \"10\": 22}, \"13\": {\"4\": 37, \"13\": 82, \"9\": 26, \"3\": 77, \"11\": 9, \"2\": 7, \"12\": 2}, \"4\": {\"2\": 73, \"4\": 86, \"1\": 9, \"3\": 31, \"13\": 26, \"8\": 5, \"9\": 10}, \"3\": {\"3\": 149, \"13\": 57, \"4\": 26, \"9\": 6, \"2\": 2}, \"0\": {\"14\": 44, \"0\": 64, \"5\": 49, \"7\": 39, \"8\": 38, \"1\": 2, \"2\": 1, \"15\": 3}, \"9\": {\"13\": 29, \"11\": 30, \"4\": 19, \"9\": 94, \"1\": 3, \"10\": 10, \"3\": 15, \"12\": 31, \"2\": 9}, \"12\": {\"12\": 122, \"9\": 37, \"13\": 4, \"11\": 29, \"10\": 46, \"3\": 2}, \"8\": {\"8\": 97, \"0\": 50, \"14\": 17, \"15\": 22, \"5\": 26, \"2\": 5, \"7\": 15, \"3\": 1, \"1\": 1, \"4\": 5, \"13\": 1}, \"14\": {\"1\": 9, \"7\": 49, \"0\": 40, \"8\": 26, \"5\": 20, \"14\": 56, \"2\": 32, \"4\": 7, \"15\": 1}, \"15\": {\"8\": 15, \"15\": 213, \"0\": 2, \"5\": 9, \"7\": 1}, \"11\": {\"11\": 135, \"12\": 44, \"13\": 12, \"9\": 38, \"3\": 10, \"10\": 1}, \"10\": {\"10\": 175, \"9\": 2, \"12\": 50, \"11\": 4, \"6\": 9}, \"1\": {\"1\": 191, \"2\": 15, \"14\": 11, \"0\": 6, \"8\": 7, \"7\": 7, \"4\": 3}}, \"O_44\": {\"11\": {\"11\": 238, \"13\": 2}, \"7\": {\"4\": 27, \"7\": 85, \"9\": 40, \"14\": 11, \"6\": 7, \"10\": 59, \"5\": 9, \"2\": 2}, \"6\": {\"6\": 144, \"13\": 65, \"9\": 24, \"10\": 3, \"4\": 2, \"7\": 2}, \"12\": {\"12\": 164, \"3\": 74, \"1\": 1, \"0\": 1}, \"4\": {\"4\": 54, \"7\": 22, \"5\": 46, \"9\": 30, \"2\": 8, \"14\": 40, \"15\": 14, \"1\": 3, \"10\": 19, \"8\": 3, \"6\": 1}, \"13\": {\"6\": 81, \"13\": 142, \"9\": 14, \"11\": 1, \"4\": 2}, \"8\": {\"14\": 6, \"8\": 97, \"15\": 61, \"0\": 58, \"4\": 4, \"5\": 8, \"1\": 4, \"2\": 2}, \"5\": {\"4\": 36, \"9\": 8, \"5\": 67, \"8\": 11, \"14\": 54, \"15\": 40, \"7\": 11, \"10\": 10, \"2\": 3}, \"14\": {\"15\": 28, \"4\": 50, \"7\": 19, \"14\": 54, \"5\": 45, \"10\": 29, \"9\": 10, \"2\": 1, \"8\": 4}, \"3\": {\"12\": 93, \"3\": 145, \"0\": 2}, \"10\": {\"7\": 71, \"10\": 71, \"4\": 25, \"9\": 24, \"2\": 13, \"5\": 7, \"1\": 5, \"14\": 20, \"6\": 3, \"15\": 1}, \"1\": {\"1\": 143, \"10\": 6, \"0\": 21, \"2\": 50, \"8\": 5, \"5\": 4, \"15\": 6, \"4\": 3, \"3\": 1, \"9\": 1}, \"2\": {\"2\": 141, \"4\": 13, \"1\": 49, \"10\": 21, \"0\": 1, \"5\": 3, \"15\": 4, \"14\": 3, \"9\": 2, \"7\": 3}, \"15\": {\"5\": 32, \"14\": 30, \"8\": 63, \"15\": 84, \"0\": 7, \"1\": 5, \"4\": 12, \"10\": 5, \"2\": 2}, \"9\": {\"10\": 46, \"4\": 18, \"13\": 30, \"7\": 49, \"6\": 34, \"9\": 43, \"14\": 9, \"5\": 5, \"2\": 5, \"1\": 1}, \"0\": {\"8\": 63, \"0\": 128, \"1\": 33, \"15\": 16}}, \"O_8\": {\"10\": {\"7\": 41, \"6\": 33, \"13\": 36, \"10\": 44, \"1\": 20, \"11\": 25, \"5\": 32, \"4\": 4, \"8\": 3, \"14\": 2}, \"6\": {\"7\": 48, \"6\": 60, \"8\": 15, \"1\": 32, \"13\": 17, \"11\": 36, \"4\": 11, \"10\": 13, \"5\": 8}, \"13\": {\"7\": 41, \"13\": 67, \"5\": 40, \"10\": 42, \"1\": 16, \"6\": 20, \"11\": 14}, \"3\": {\"3\": 210, \"2\": 23, \"9\": 4, \"15\": 3}, \"9\": {\"9\": 227, \"3\": 11, \"2\": 2}, \"1\": {\"13\": 23, \"7\": 45, \"10\": 24, \"4\": 6, \"8\": 18, \"5\": 12, \"1\": 42, \"6\": 31, \"11\": 39}, \"5\": {\"7\": 46, \"10\": 31, \"13\": 40, \"6\": 15, \"5\": 52, \"4\": 6, \"1\": 24, \"11\": 18, \"8\": 5, \"12\": 2, \"14\": 1}, \"11\": {\"5\": 9, \"1\": 33, \"11\": 48, \"4\": 27, \"14\": 11, \"7\": 25, \"8\": 42, \"6\": 25, \"10\": 13, \"13\": 7}, \"4\": {\"4\": 74, \"14\": 44, \"8\": 47, \"13\": 2, \"11\": 30, \"6\": 20, \"1\": 5, \"10\": 10, \"7\": 8}, \"14\": {\"4\": 69, \"8\": 29, \"14\": 121, \"11\": 11, \"0\": 2, \"6\": 4, \"7\": 2, \"10\": 2}, \"12\": {\"12\": 121, \"15\": 100, \"2\": 19}, \"7\": {\"5\": 20, \"7\": 63, \"6\": 39, \"8\": 5, \"10\": 37, \"13\": 24, \"1\": 21, \"11\": 27, \"4\": 4}, \"0\": {\"0\": 238, \"14\": 2}, \"15\": {\"15\": 121, \"12\": 79, \"2\": 40}, \"2\": {\"2\": 106, \"15\": 56, \"3\": 39, \"12\": 37, \"9\": 1, \"10\": 1}, \"8\": {\"4\": 45, \"8\": 79, \"1\": 15, \"10\": 3, \"11\": 46, \"6\": 24, \"7\": 11, \"14\": 16, \"5\": 1}}, \"O_38\": {\"4\": {\"4\": 226, \"10\": 7, \"14\": 3, \"0\": 4}, \"7\": {\"2\": 42, \"14\": 67, \"7\": 100, \"5\": 6, \"12\": 2, \"13\": 2, \"9\": 8, \"0\": 4, \"8\": 5, \"4\": 4}, \"12\": {\"12\": 210, \"8\": 19, \"5\": 9, \"15\": 1, \"7\": 1}, \"10\": {\"10\": 151, \"13\": 18, \"0\": 54, \"4\": 13, \"3\": 4}, \"0\": {\"13\": 49, \"10\": 81, \"0\": 59, \"2\": 9, \"3\": 8, \"14\": 23, \"7\": 5, \"4\": 4, \"8\": 1, \"9\": 1}, \"1\": {\"1\": 136, \"15\": 4, \"6\": 100}, \"5\": {\"8\": 69, \"9\": 49, \"5\": 58, \"15\": 22, \"7\": 22, \"13\": 1, \"12\": 8, \"2\": 9, \"14\": 2}, \"15\": {\"15\": 152, \"8\": 20, \"1\": 7, \"5\": 29, \"6\": 12, \"9\": 8, \"12\": 12}, \"9\": {\"9\": 160, \"8\": 23, \"5\": 22, \"2\": 21, \"7\": 12, \"14\": 2}, \"11\": {\"11\": 239, \"3\": 1}, \"14\": {\"7\": 53, \"14\": 116, \"13\": 15, \"4\": 9, \"2\": 40, \"9\": 1, \"0\": 6}, \"6\": {\"1\": 105, \"6\": 129, \"15\": 6}, \"8\": {\"7\": 27, \"14\": 13, \"5\": 61, \"8\": 57, \"2\": 25, \"15\": 18, \"9\": 20, \"12\": 19}, \"3\": {\"3\": 231, \"10\": 4, \"11\": 4, \"0\": 1}, \"2\": {\"2\": 126, \"7\": 26, \"13\": 15, \"14\": 33, \"5\": 4, \"9\": 24, \"0\": 3, \"8\": 8, \"12\": 1}, \"13\": {\"13\": 148, \"4\": 3, \"0\": 53, \"2\": 20, \"10\": 10, \"14\": 5, \"7\": 1}}}, \"per_domain_accuracy\": {\"W_3\": {\"accuracy\": 0.9709334061135371, \"source?\": true}, \"W_4\": {\"accuracy\": 0.953125, \"source?\": true}, \"C_4\": {\"accuracy\": 0.9966317365269461, \"source?\": true}, \"C_5\": {\"accuracy\": 0.9951117318435754, \"source?\": true}, \"C_2\": {\"accuracy\": 0.9975, \"source?\": true}, \"W_2\": {\"accuracy\": 0.9541139240506329, \"source?\": true}, \"C_1\": {\"accuracy\": 0.9976222826086957, \"source?\": true}, \"C_3\": {\"accuracy\": 0.9954044117647058, \"source?\": true}, \"W_1\": {\"accuracy\": 0.9720325630252101, \"source?\": true}, \"O_14\": {\"accuracy\": 0.47421875, \"source?\": false}, \"O_20\": {\"accuracy\": 0.2591145833333333, \"source?\": false}, \"O_50\": {\"accuracy\": 0.43333333333333335, \"source?\": false}, \"O_26\": {\"accuracy\": 0.3546875, \"source?\": false}, \"O_32\": {\"accuracy\": 0.50703125, \"source?\": false}, \"O_44\": {\"accuracy\": 0.46875, \"source?\": false}, \"O_8\": {\"accuracy\": 0.4356770833333333, \"source?\": false}, \"O_38\": {\"accuracy\": 0.5984375, \"source?\": false}}}, \"history\": {\"epoch_indices\": [1, 2, 3, 4, 5], \"train_label_loss\": [0.11182290963723979, 0.07655216539294644, 0.06219926768539241, 0.05593395340664468, 0.05138106954675893], \"source_val_label_loss\": [0.1189795434474945, 0.06971271336078644, 0.06086457893252373, 0.05949102342128754, 0.05792498588562012], \"target_val_label_loss\": [2.50144362449646, 2.3945305347442627, 2.4159929752349854, 2.4181714057922363, 2.3537867069244385], \"source_val_acc_label\": [0.9787891268533773, 0.9847611202635914, 0.9860825096101044, 0.9861511532125206, 0.9865973366282262], \"target_val_acc_label\": [0.44140625, 0.3931966145833333, 0.38056640625, 0.3180013020833333, 0.3349609375]}, \"dataset_metrics\": {\"source\": {\"train\": {\"n_unique_x\": 364219, \"n_unique_y\": 130, \"n_batch/episode\": 13141}, \"val\": {\"n_unique_x\": 77265, \"n_unique_y\": 130, \"n_batch/episode\": 1821}, \"test\": {\"n_unique_x\": 78390, \"n_unique_y\": 130, \"n_batch/episode\": 1852}}, \"target\": {\"train\": {\"n_unique_x\": 179200, \"n_unique_y\": 16, \"n_batch/episode\": 6720}, \"val\": {\"n_unique_x\": 38400, \"n_unique_y\": 16, \"n_batch/episode\": 960}, \"test\": {\"n_unique_x\": 38400, \"n_unique_y\": 16, \"n_batch/episode\": 960}}}}'"
      ]
     },
     "execution_count": 29,
     "metadata": {},
     "output_type": "execute_result"
    }
   ],
   "source": [
    "json.dumps(experiment)"
   ]
  }
 ],
 "metadata": {
  "celltoolbar": "Tags",
  "kernelspec": {
   "display_name": "Python 3 (ipykernel)",
   "language": "python",
   "name": "python3"
  },
  "language_info": {
   "codemirror_mode": {
    "name": "ipython",
    "version": 3
   },
   "file_extension": ".py",
   "mimetype": "text/x-python",
   "name": "python",
   "nbconvert_exporter": "python",
   "pygments_lexer": "ipython3",
   "version": "3.8.10"
  },
  "papermill": {
   "default_parameters": {},
   "duration": 3017.643529,
   "end_time": "2022-03-20T05:56:03.393576",
   "environment_variables": {},
   "exception": null,
   "input_path": "/mnt/wd500GB/CSC500/csc500-main/csc500-notebooks/templates/tl_ptn_template.ipynb",
   "output_path": "trial.ipynb",
   "parameters": {
    "parameters": {
     "BEST_MODEL_PATH": "./best_model.pth",
     "NUM_LOGS_PER_EPOCH": 10,
     "criteria_for_best": "target_accuracy",
     "dataset_seed": 420,
     "datasets": [
      {
       "domain_prefix": "C_",
       "domains": [
        1,
        2,
        3,
        4,
        5
       ],
       "episode_transforms": [],
       "labels": [
        "1-10.",
        "1-11.",
        "1-15.",
        "1-16.",
        "1-17.",
        "1-18.",
        "1-19.",
        "10-4.",
        "10-7.",
        "11-1.",
        "11-14.",
        "11-17.",
        "11-20.",
        "11-7.",
        "13-20.",
        "13-8.",
        "14-10.",
        "14-11.",
        "14-14.",
        "14-7.",
        "15-1.",
        "15-20.",
        "16-1.",
        "16-16.",
        "17-10.",
        "17-11.",
        "17-2.",
        "19-1.",
        "19-16.",
        "19-19.",
        "19-20.",
        "19-3.",
        "2-10.",
        "2-11.",
        "2-17.",
        "2-18.",
        "2-20.",
        "2-3.",
        "2-4.",
        "2-5.",
        "2-6.",
        "2-7.",
        "2-8.",
        "3-13.",
        "3-18.",
        "3-3.",
        "4-1.",
        "4-10.",
        "4-11.",
        "4-19.",
        "5-5.",
        "6-15.",
        "7-10.",
        "7-14.",
        "8-18.",
        "8-20.",
        "8-3.",
        "8-8."
       ],
       "num_examples_per_domain_per_label": -1,
       "pickle_path": "/mnt/wd500GB/CSC500/csc500-main/datasets/cores.stratified_ds.2022A.pkl",
       "source_or_target_dataset": "source",
       "x_transforms": []
      },
      {
       "domain_prefix": "W_",
       "domains": [
        1,
        2,
        3,
        4
       ],
       "episode_transforms": [],
       "labels": [
        "1-10",
        "1-12",
        "1-14",
        "1-16",
        "1-18",
        "1-19",
        "1-8",
        "10-11",
        "10-17",
        "10-4",
        "10-7",
        "11-1",
        "11-10",
        "11-19",
        "11-20",
        "11-4",
        "11-7",
        "12-19",
        "12-20",
        "12-7",
        "13-14",
        "13-18",
        "13-19",
        "13-20",
        "13-3",
        "13-7",
        "14-10",
        "14-11",
        "14-12",
        "14-13",
        "14-14",
        "14-19",
        "14-20",
        "14-7",
        "14-8",
        "14-9",
        "15-1",
        "15-19",
        "15-6",
        "16-1",
        "16-16",
        "16-19",
        "16-20",
        "17-10",
        "17-11",
        "18-1",
        "18-10",
        "18-11",
        "18-12",
        "18-13",
        "18-14",
        "18-15",
        "18-16",
        "18-17",
        "18-19",
        "18-2",
        "18-20",
        "18-4",
        "18-5",
        "18-7",
        "18-8",
        "18-9",
        "19-1",
        "19-10",
        "19-11",
        "19-12",
        "19-13",
        "19-14",
        "19-15",
        "19-19",
        "19-2",
        "19-20",
        "19-3",
        "19-4",
        "19-6",
        "19-7",
        "19-8",
        "19-9",
        "2-1",
        "2-13",
        "2-15",
        "2-3",
        "2-4",
        "2-5",
        "2-6",
        "2-7",
        "2-8",
        "20-1",
        "20-12",
        "20-14",
        "20-15",
        "20-16",
        "20-18",
        "20-19",
        "20-20",
        "20-3",
        "20-4",
        "20-5",
        "20-7",
        "20-8",
        "3-1",
        "3-13",
        "3-18",
        "3-2",
        "3-8",
        "4-1",
        "4-10",
        "4-11",
        "5-1",
        "5-5",
        "6-1",
        "6-15",
        "6-6",
        "7-10",
        "7-11",
        "7-12",
        "7-13",
        "7-14",
        "7-7",
        "7-8",
        "7-9",
        "8-1",
        "8-13",
        "8-14",
        "8-18",
        "8-20",
        "8-3",
        "8-8",
        "9-1",
        "9-7"
       ],
       "num_examples_per_domain_per_label": -1,
       "pickle_path": "/mnt/wd500GB/CSC500/csc500-main/datasets/wisig.node3-19.stratified_ds.2022A.pkl",
       "source_or_target_dataset": "source",
       "x_transforms": []
      },
      {
       "domain_prefix": "O_",
       "domains": [
        32,
        38,
        8,
        44,
        14,
        50,
        20,
        26
       ],
       "episode_transforms": [],
       "labels": [
        "3123D52",
        "3123D65",
        "3123D79",
        "3123D80",
        "3123D54",
        "3123D70",
        "3123D7B",
        "3123D89",
        "3123D58",
        "3123D76",
        "3123D7D",
        "3123EFE",
        "3123D64",
        "3123D78",
        "3123D7E",
        "3124E4A"
       ],
       "num_examples_per_domain_per_label": 2000,
       "pickle_path": "/mnt/wd500GB/CSC500/csc500-main/datasets/oracle.Run1_framed_2000Examples_stratified_ds.2022A.pkl",
       "source_or_target_dataset": "target",
       "x_transforms": []
      }
     ],
     "device": "cuda",
     "experiment_name": "tl_2v2:cores+wisig -> oracle.run1.framed",
     "lr": 0.0001,
     "n_epoch": 50,
     "n_query": 2,
     "n_shot": 3,
     "n_way": 16,
     "patience": 3,
     "seed": 420,
     "test_k_factor": 2,
     "torch_default_dtype": "torch.float32",
     "train_k_factor": 3,
     "val_k_factor": 2,
     "x_net": [
      {
       "class": "nnReshape",
       "kargs": {
        "shape": [
         -1,
         1,
         2,
         256
        ]
       }
      },
      {
       "class": "Conv2d",
       "kargs": {
        "bias": false,
        "in_channels": 1,
        "kernel_size": [
         1,
         7
        ],
        "out_channels": 256,
        "padding": [
         0,
         3
        ]
       }
      },
      {
       "class": "ReLU",
       "kargs": {
        "inplace": true
       }
      },
      {
       "class": "BatchNorm2d",
       "kargs": {
        "num_features": 256
       }
      },
      {
       "class": "Conv2d",
       "kargs": {
        "bias": true,
        "in_channels": 256,
        "kernel_size": [
         2,
         7
        ],
        "out_channels": 80,
        "padding": [
         0,
         3
        ]
       }
      },
      {
       "class": "ReLU",
       "kargs": {
        "inplace": true
       }
      },
      {
       "class": "BatchNorm2d",
       "kargs": {
        "num_features": 80
       }
      },
      {
       "class": "Flatten",
       "kargs": {}
      },
      {
       "class": "Linear",
       "kargs": {
        "in_features": 20480,
        "out_features": 256
       }
      },
      {
       "class": "ReLU",
       "kargs": {
        "inplace": true
       }
      },
      {
       "class": "BatchNorm1d",
       "kargs": {
        "num_features": 256
       }
      },
      {
       "class": "Linear",
       "kargs": {
        "in_features": 256,
        "out_features": 256
       }
      }
     ]
    }
   },
   "start_time": "2022-03-20T05:05:45.750047",
   "version": "2.3.4"
  }
 },
 "nbformat": 4,
 "nbformat_minor": 5
}