{
 "cells": [
  {
   "cell_type": "markdown",
   "id": "9fea5f46",
   "metadata": {
    "papermill": {
     "duration": 0.018813,
     "end_time": "2022-03-20T02:01:11.449083",
     "exception": false,
     "start_time": "2022-03-20T02:01:11.430270",
     "status": "completed"
    },
    "tags": []
   },
   "source": [
    "# Transfer Learning Template"
   ]
  },
  {
   "cell_type": "code",
   "execution_count": 1,
   "id": "0902182a",
   "metadata": {
    "execution": {
     "iopub.execute_input": "2022-03-20T02:01:11.492112Z",
     "iopub.status.busy": "2022-03-20T02:01:11.491725Z",
     "iopub.status.idle": "2022-03-20T02:01:12.440591Z",
     "shell.execute_reply": "2022-03-20T02:01:12.440088Z"
    },
    "papermill": {
     "duration": 0.977564,
     "end_time": "2022-03-20T02:01:12.440705",
     "exception": false,
     "start_time": "2022-03-20T02:01:11.463141",
     "status": "completed"
    },
    "tags": []
   },
   "outputs": [],
   "source": [
    "%load_ext autoreload\n",
    "%autoreload 2\n",
    "%matplotlib inline\n",
    "\n",
    "    \n",
    "import os, json, sys, time, random\n",
    "import numpy as np\n",
    "import torch\n",
    "from torch.optim import Adam\n",
    "from  easydict import EasyDict\n",
    "import matplotlib.pyplot as plt\n",
    "\n",
    "from steves_models.steves_ptn import Steves_Prototypical_Network\n",
    "\n",
    "from steves_utils.lazy_iterable_wrapper import Lazy_Iterable_Wrapper\n",
    "from steves_utils.iterable_aggregator import Iterable_Aggregator\n",
    "from steves_utils.ptn_train_eval_test_jig import  PTN_Train_Eval_Test_Jig\n",
    "from steves_utils.torch_sequential_builder import build_sequential\n",
    "from steves_utils.torch_utils import get_dataset_metrics, ptn_confusion_by_domain_over_dataloader\n",
    "from steves_utils.utils_v2 import (per_domain_accuracy_from_confusion, get_datasets_base_path)\n",
    "from steves_utils.PTN.utils import independent_accuracy_assesment\n",
    "\n",
    "from torch.utils.data import DataLoader\n",
    "\n",
    "from steves_utils.stratified_dataset.episodic_accessor import Episodic_Accessor_Factory\n",
    "\n",
    "from steves_utils.ptn_do_report import (\n",
    "    get_loss_curve,\n",
    "    get_results_table,\n",
    "    get_parameters_table,\n",
    "    get_domain_accuracies,\n",
    ")\n",
    "\n",
    "from steves_utils.transforms import get_chained_transform"
   ]
  },
  {
   "cell_type": "markdown",
   "id": "41c840b4",
   "metadata": {
    "papermill": {
     "duration": 0.013007,
     "end_time": "2022-03-20T02:01:12.471885",
     "exception": false,
     "start_time": "2022-03-20T02:01:12.458878",
     "status": "completed"
    },
    "tags": []
   },
   "source": [
    "# Allowed Parameters\n",
    "These are allowed parameters, not defaults\n",
    "Each of these values need to be present in the injected parameters (the notebook will raise an exception if they are not present)\n",
    "\n",
    "Papermill uses the cell tag \"parameters\" to inject the real parameters below this cell.\n",
    "Enable tags to see what I mean"
   ]
  },
  {
   "cell_type": "code",
   "execution_count": 2,
   "id": "fd44eb83",
   "metadata": {
    "execution": {
     "iopub.execute_input": "2022-03-20T02:01:12.503167Z",
     "iopub.status.busy": "2022-03-20T02:01:12.501225Z",
     "iopub.status.idle": "2022-03-20T02:01:12.515304Z",
     "shell.execute_reply": "2022-03-20T02:01:12.515751Z"
    },
    "papermill": {
     "duration": 0.031214,
     "end_time": "2022-03-20T02:01:12.515881",
     "exception": false,
     "start_time": "2022-03-20T02:01:12.484667",
     "status": "completed"
    },
    "tags": []
   },
   "outputs": [],
   "source": [
    "required_parameters = {\n",
    "    \"experiment_name\",\n",
    "    \"lr\",\n",
    "    \"device\",\n",
    "    \"seed\",\n",
    "    \"dataset_seed\",\n",
    "    \"n_shot\",\n",
    "    \"n_query\",\n",
    "    \"n_way\",\n",
    "    \"train_k_factor\",\n",
    "    \"val_k_factor\",\n",
    "    \"test_k_factor\",\n",
    "    \"n_epoch\",\n",
    "    \"patience\",\n",
    "    \"criteria_for_best\",\n",
    "    \"x_net\",\n",
    "    \"datasets\",\n",
    "    \"torch_default_dtype\",\n",
    "    \"NUM_LOGS_PER_EPOCH\",\n",
    "    \"BEST_MODEL_PATH\",\n",
    "    \"x_shape\",\n",
    "}"
   ]
  },
  {
   "cell_type": "code",
   "execution_count": 3,
   "id": "fa3f0049",
   "metadata": {
    "execution": {
     "iopub.execute_input": "2022-03-20T02:01:12.554470Z",
     "iopub.status.busy": "2022-03-20T02:01:12.553977Z",
     "iopub.status.idle": "2022-03-20T02:01:12.568749Z",
     "shell.execute_reply": "2022-03-20T02:01:12.568295Z"
    },
    "papermill": {
     "duration": 0.035929,
     "end_time": "2022-03-20T02:01:12.568842",
     "exception": false,
     "start_time": "2022-03-20T02:01:12.532913",
     "status": "completed"
    },
    "tags": [
     "parameters"
    ]
   },
   "outputs": [],
   "source": [
    "from steves_utils.CORES.utils import (\n",
    "    ALL_NODES,\n",
    "    ALL_NODES_MINIMUM_1000_EXAMPLES,\n",
    "    ALL_DAYS\n",
    ")\n",
    "\n",
    "from steves_utils.ORACLE.utils_v2 import (\n",
    "    ALL_DISTANCES_FEET_NARROWED,\n",
    "    ALL_RUNS,\n",
    "    ALL_SERIAL_NUMBERS,\n",
    ")\n",
    "\n",
    "standalone_parameters = {}\n",
    "standalone_parameters[\"experiment_name\"] = \"STANDALONE PTN\"\n",
    "standalone_parameters[\"lr\"] = 0.001\n",
    "standalone_parameters[\"device\"] = \"cuda\"\n",
    "\n",
    "standalone_parameters[\"seed\"] = 1337\n",
    "standalone_parameters[\"dataset_seed\"] = 1337\n",
    "\n",
    "standalone_parameters[\"n_way\"] = 8\n",
    "standalone_parameters[\"n_shot\"] = 3\n",
    "standalone_parameters[\"n_query\"]  = 2\n",
    "standalone_parameters[\"train_k_factor\"] = 1\n",
    "standalone_parameters[\"val_k_factor\"] = 2\n",
    "standalone_parameters[\"test_k_factor\"] = 2\n",
    "\n",
    "\n",
    "standalone_parameters[\"n_epoch\"] = 50\n",
    "\n",
    "standalone_parameters[\"patience\"] = 10\n",
    "standalone_parameters[\"criteria_for_best\"] = \"source_loss\"\n",
    "\n",
    "standalone_parameters[\"datasets\"] = [\n",
    "    {\n",
    "        \"labels\": ALL_SERIAL_NUMBERS,\n",
    "        \"domains\": ALL_DISTANCES_FEET_NARROWED,\n",
    "        \"num_examples_per_domain_per_label\": 100,\n",
    "        \"pickle_path\": os.path.join(get_datasets_base_path(), \"oracle.Run1_framed_2000Examples_stratified_ds.2022A.pkl\"),\n",
    "        \"source_or_target_dataset\": \"source\",\n",
    "        \"x_transforms\": [\"unit_mag\", \"minus_two\"],\n",
    "        \"episode_transforms\": [],\n",
    "        \"domain_prefix\": \"ORACLE_\"\n",
    "    },\n",
    "    {\n",
    "        \"labels\": ALL_NODES,\n",
    "        \"domains\": ALL_DAYS,\n",
    "        \"num_examples_per_domain_per_label\": 100,\n",
    "        \"pickle_path\": os.path.join(get_datasets_base_path(), \"cores.stratified_ds.2022A.pkl\"),\n",
    "        \"source_or_target_dataset\": \"target\",\n",
    "        \"x_transforms\": [\"unit_power\", \"times_zero\"],\n",
    "        \"episode_transforms\": [],\n",
    "        \"domain_prefix\": \"CORES_\"\n",
    "    }   \n",
    "]\n",
    "\n",
    "standalone_parameters[\"torch_default_dtype\"] = \"torch.float32\" \n",
    "\n",
    "\n",
    "\n",
    "standalone_parameters[\"x_net\"] =     [\n",
    "    {\"class\": \"nnReshape\", \"kargs\": {\"shape\":[-1, 1, 2, 256]}},\n",
    "    {\"class\": \"Conv2d\", \"kargs\": { \"in_channels\":1, \"out_channels\":256, \"kernel_size\":(1,7), \"bias\":False, \"padding\":(0,3), },},\n",
    "    {\"class\": \"ReLU\", \"kargs\": {\"inplace\": True}},\n",
    "    {\"class\": \"BatchNorm2d\", \"kargs\": {\"num_features\":256}},\n",
    "\n",
    "    {\"class\": \"Conv2d\", \"kargs\": { \"in_channels\":256, \"out_channels\":80, \"kernel_size\":(2,7), \"bias\":True, \"padding\":(0,3), },},\n",
    "    {\"class\": \"ReLU\", \"kargs\": {\"inplace\": True}},\n",
    "    {\"class\": \"BatchNorm2d\", \"kargs\": {\"num_features\":80}},\n",
    "    {\"class\": \"Flatten\", \"kargs\": {}},\n",
    "\n",
    "    {\"class\": \"Linear\", \"kargs\": {\"in_features\": 80*256, \"out_features\": 256}}, # 80 units per IQ pair\n",
    "    {\"class\": \"ReLU\", \"kargs\": {\"inplace\": True}},\n",
    "    {\"class\": \"BatchNorm1d\", \"kargs\": {\"num_features\":256}},\n",
    "\n",
    "    {\"class\": \"Linear\", \"kargs\": {\"in_features\": 256, \"out_features\": 256}},\n",
    "]\n",
    "\n",
    "# Parameters relevant to results\n",
    "# These parameters will basically never need to change\n",
    "standalone_parameters[\"NUM_LOGS_PER_EPOCH\"] = 10\n",
    "standalone_parameters[\"BEST_MODEL_PATH\"] = \"./best_model.pth\"\n",
    "\n",
    "\n",
    "\n",
    "\n"
   ]
  },
  {
   "cell_type": "code",
   "execution_count": 4,
   "id": "dda54973",
   "metadata": {
    "execution": {
     "iopub.execute_input": "2022-03-20T02:01:12.615626Z",
     "iopub.status.busy": "2022-03-20T02:01:12.614882Z",
     "iopub.status.idle": "2022-03-20T02:01:12.628753Z",
     "shell.execute_reply": "2022-03-20T02:01:12.628305Z"
    },
    "papermill": {
     "duration": 0.040872,
     "end_time": "2022-03-20T02:01:12.628852",
     "exception": false,
     "start_time": "2022-03-20T02:01:12.587980",
     "status": "completed"
    },
    "tags": [
     "injected-parameters"
    ]
   },
   "outputs": [],
   "source": [
    "# Parameters\n",
    "parameters = {\n",
    "    \"experiment_name\": \"tl_2v2:cores+wisig -> oracle.run1.framed\",\n",
    "    \"device\": \"cuda\",\n",
    "    \"lr\": 0.0001,\n",
    "    \"n_shot\": 3,\n",
    "    \"n_query\": 2,\n",
    "    \"train_k_factor\": 3,\n",
    "    \"val_k_factor\": 2,\n",
    "    \"test_k_factor\": 2,\n",
    "    \"torch_default_dtype\": \"torch.float32\",\n",
    "    \"n_epoch\": 50,\n",
    "    \"patience\": 3,\n",
    "    \"criteria_for_best\": \"target_accuracy\",\n",
    "    \"x_net\": [\n",
    "        {\"class\": \"nnReshape\", \"kargs\": {\"shape\": [-1, 1, 2, 256]}},\n",
    "        {\n",
    "            \"class\": \"Conv2d\",\n",
    "            \"kargs\": {\n",
    "                \"in_channels\": 1,\n",
    "                \"out_channels\": 256,\n",
    "                \"kernel_size\": [1, 7],\n",
    "                \"bias\": False,\n",
    "                \"padding\": [0, 3],\n",
    "            },\n",
    "        },\n",
    "        {\"class\": \"ReLU\", \"kargs\": {\"inplace\": True}},\n",
    "        {\"class\": \"BatchNorm2d\", \"kargs\": {\"num_features\": 256}},\n",
    "        {\n",
    "            \"class\": \"Conv2d\",\n",
    "            \"kargs\": {\n",
    "                \"in_channels\": 256,\n",
    "                \"out_channels\": 80,\n",
    "                \"kernel_size\": [2, 7],\n",
    "                \"bias\": True,\n",
    "                \"padding\": [0, 3],\n",
    "            },\n",
    "        },\n",
    "        {\"class\": \"ReLU\", \"kargs\": {\"inplace\": True}},\n",
    "        {\"class\": \"BatchNorm2d\", \"kargs\": {\"num_features\": 80}},\n",
    "        {\"class\": \"Flatten\", \"kargs\": {}},\n",
    "        {\"class\": \"Linear\", \"kargs\": {\"in_features\": 20480, \"out_features\": 256}},\n",
    "        {\"class\": \"ReLU\", \"kargs\": {\"inplace\": True}},\n",
    "        {\"class\": \"BatchNorm1d\", \"kargs\": {\"num_features\": 256}},\n",
    "        {\"class\": \"Linear\", \"kargs\": {\"in_features\": 256, \"out_features\": 256}},\n",
    "    ],\n",
    "    \"NUM_LOGS_PER_EPOCH\": 10,\n",
    "    \"BEST_MODEL_PATH\": \"./best_model.pth\",\n",
    "    \"n_way\": 16,\n",
    "    \"datasets\": [\n",
    "        {\n",
    "            \"labels\": [\n",
    "                \"1-10.\",\n",
    "                \"1-11.\",\n",
    "                \"1-15.\",\n",
    "                \"1-16.\",\n",
    "                \"1-17.\",\n",
    "                \"1-18.\",\n",
    "                \"1-19.\",\n",
    "                \"10-4.\",\n",
    "                \"10-7.\",\n",
    "                \"11-1.\",\n",
    "                \"11-14.\",\n",
    "                \"11-17.\",\n",
    "                \"11-20.\",\n",
    "                \"11-7.\",\n",
    "                \"13-20.\",\n",
    "                \"13-8.\",\n",
    "                \"14-10.\",\n",
    "                \"14-11.\",\n",
    "                \"14-14.\",\n",
    "                \"14-7.\",\n",
    "                \"15-1.\",\n",
    "                \"15-20.\",\n",
    "                \"16-1.\",\n",
    "                \"16-16.\",\n",
    "                \"17-10.\",\n",
    "                \"17-11.\",\n",
    "                \"17-2.\",\n",
    "                \"19-1.\",\n",
    "                \"19-16.\",\n",
    "                \"19-19.\",\n",
    "                \"19-20.\",\n",
    "                \"19-3.\",\n",
    "                \"2-10.\",\n",
    "                \"2-11.\",\n",
    "                \"2-17.\",\n",
    "                \"2-18.\",\n",
    "                \"2-20.\",\n",
    "                \"2-3.\",\n",
    "                \"2-4.\",\n",
    "                \"2-5.\",\n",
    "                \"2-6.\",\n",
    "                \"2-7.\",\n",
    "                \"2-8.\",\n",
    "                \"3-13.\",\n",
    "                \"3-18.\",\n",
    "                \"3-3.\",\n",
    "                \"4-1.\",\n",
    "                \"4-10.\",\n",
    "                \"4-11.\",\n",
    "                \"4-19.\",\n",
    "                \"5-5.\",\n",
    "                \"6-15.\",\n",
    "                \"7-10.\",\n",
    "                \"7-14.\",\n",
    "                \"8-18.\",\n",
    "                \"8-20.\",\n",
    "                \"8-3.\",\n",
    "                \"8-8.\",\n",
    "            ],\n",
    "            \"domains\": [1, 2, 3, 4, 5],\n",
    "            \"num_examples_per_domain_per_label\": -1,\n",
    "            \"pickle_path\": \"/mnt/wd500GB/CSC500/csc500-main/datasets/cores.stratified_ds.2022A.pkl\",\n",
    "            \"source_or_target_dataset\": \"source\",\n",
    "            \"x_transforms\": [\"unit_power\"],\n",
    "            \"episode_transforms\": [],\n",
    "            \"domain_prefix\": \"C_\",\n",
    "        },\n",
    "        {\n",
    "            \"labels\": [\n",
    "                \"1-10\",\n",
    "                \"1-12\",\n",
    "                \"1-14\",\n",
    "                \"1-16\",\n",
    "                \"1-18\",\n",
    "                \"1-19\",\n",
    "                \"1-8\",\n",
    "                \"10-11\",\n",
    "                \"10-17\",\n",
    "                \"10-4\",\n",
    "                \"10-7\",\n",
    "                \"11-1\",\n",
    "                \"11-10\",\n",
    "                \"11-19\",\n",
    "                \"11-20\",\n",
    "                \"11-4\",\n",
    "                \"11-7\",\n",
    "                \"12-19\",\n",
    "                \"12-20\",\n",
    "                \"12-7\",\n",
    "                \"13-14\",\n",
    "                \"13-18\",\n",
    "                \"13-19\",\n",
    "                \"13-20\",\n",
    "                \"13-3\",\n",
    "                \"13-7\",\n",
    "                \"14-10\",\n",
    "                \"14-11\",\n",
    "                \"14-12\",\n",
    "                \"14-13\",\n",
    "                \"14-14\",\n",
    "                \"14-19\",\n",
    "                \"14-20\",\n",
    "                \"14-7\",\n",
    "                \"14-8\",\n",
    "                \"14-9\",\n",
    "                \"15-1\",\n",
    "                \"15-19\",\n",
    "                \"15-6\",\n",
    "                \"16-1\",\n",
    "                \"16-16\",\n",
    "                \"16-19\",\n",
    "                \"16-20\",\n",
    "                \"17-10\",\n",
    "                \"17-11\",\n",
    "                \"18-1\",\n",
    "                \"18-10\",\n",
    "                \"18-11\",\n",
    "                \"18-12\",\n",
    "                \"18-13\",\n",
    "                \"18-14\",\n",
    "                \"18-15\",\n",
    "                \"18-16\",\n",
    "                \"18-17\",\n",
    "                \"18-19\",\n",
    "                \"18-2\",\n",
    "                \"18-20\",\n",
    "                \"18-4\",\n",
    "                \"18-5\",\n",
    "                \"18-7\",\n",
    "                \"18-8\",\n",
    "                \"18-9\",\n",
    "                \"19-1\",\n",
    "                \"19-10\",\n",
    "                \"19-11\",\n",
    "                \"19-12\",\n",
    "                \"19-13\",\n",
    "                \"19-14\",\n",
    "                \"19-15\",\n",
    "                \"19-19\",\n",
    "                \"19-2\",\n",
    "                \"19-20\",\n",
    "                \"19-3\",\n",
    "                \"19-4\",\n",
    "                \"19-6\",\n",
    "                \"19-7\",\n",
    "                \"19-8\",\n",
    "                \"19-9\",\n",
    "                \"2-1\",\n",
    "                \"2-13\",\n",
    "                \"2-15\",\n",
    "                \"2-3\",\n",
    "                \"2-4\",\n",
    "                \"2-5\",\n",
    "                \"2-6\",\n",
    "                \"2-7\",\n",
    "                \"2-8\",\n",
    "                \"20-1\",\n",
    "                \"20-12\",\n",
    "                \"20-14\",\n",
    "                \"20-15\",\n",
    "                \"20-16\",\n",
    "                \"20-18\",\n",
    "                \"20-19\",\n",
    "                \"20-20\",\n",
    "                \"20-3\",\n",
    "                \"20-4\",\n",
    "                \"20-5\",\n",
    "                \"20-7\",\n",
    "                \"20-8\",\n",
    "                \"3-1\",\n",
    "                \"3-13\",\n",
    "                \"3-18\",\n",
    "                \"3-2\",\n",
    "                \"3-8\",\n",
    "                \"4-1\",\n",
    "                \"4-10\",\n",
    "                \"4-11\",\n",
    "                \"5-1\",\n",
    "                \"5-5\",\n",
    "                \"6-1\",\n",
    "                \"6-15\",\n",
    "                \"6-6\",\n",
    "                \"7-10\",\n",
    "                \"7-11\",\n",
    "                \"7-12\",\n",
    "                \"7-13\",\n",
    "                \"7-14\",\n",
    "                \"7-7\",\n",
    "                \"7-8\",\n",
    "                \"7-9\",\n",
    "                \"8-1\",\n",
    "                \"8-13\",\n",
    "                \"8-14\",\n",
    "                \"8-18\",\n",
    "                \"8-20\",\n",
    "                \"8-3\",\n",
    "                \"8-8\",\n",
    "                \"9-1\",\n",
    "                \"9-7\",\n",
    "            ],\n",
    "            \"domains\": [1, 2, 3, 4],\n",
    "            \"num_examples_per_domain_per_label\": -1,\n",
    "            \"pickle_path\": \"/mnt/wd500GB/CSC500/csc500-main/datasets/wisig.node3-19.stratified_ds.2022A.pkl\",\n",
    "            \"source_or_target_dataset\": \"source\",\n",
    "            \"x_transforms\": [\"unit_power\"],\n",
    "            \"episode_transforms\": [],\n",
    "            \"domain_prefix\": \"W_\",\n",
    "        },\n",
    "        {\n",
    "            \"labels\": [\n",
    "                \"3123D52\",\n",
    "                \"3123D65\",\n",
    "                \"3123D79\",\n",
    "                \"3123D80\",\n",
    "                \"3123D54\",\n",
    "                \"3123D70\",\n",
    "                \"3123D7B\",\n",
    "                \"3123D89\",\n",
    "                \"3123D58\",\n",
    "                \"3123D76\",\n",
    "                \"3123D7D\",\n",
    "                \"3123EFE\",\n",
    "                \"3123D64\",\n",
    "                \"3123D78\",\n",
    "                \"3123D7E\",\n",
    "                \"3124E4A\",\n",
    "            ],\n",
    "            \"domains\": [32, 38, 8, 44, 14, 50, 20, 26],\n",
    "            \"num_examples_per_domain_per_label\": 2000,\n",
    "            \"pickle_path\": \"/mnt/wd500GB/CSC500/csc500-main/datasets/oracle.Run1_framed_2000Examples_stratified_ds.2022A.pkl\",\n",
    "            \"source_or_target_dataset\": \"target\",\n",
    "            \"x_transforms\": [\"unit_power\"],\n",
    "            \"episode_transforms\": [],\n",
    "            \"domain_prefix\": \"O_\",\n",
    "        },\n",
    "    ],\n",
    "    \"seed\": 1337,\n",
    "    \"dataset_seed\": 1337,\n",
    "}\n"
   ]
  },
  {
   "cell_type": "code",
   "execution_count": 5,
   "id": "8fa1cc33",
   "metadata": {
    "execution": {
     "iopub.execute_input": "2022-03-20T02:01:12.667585Z",
     "iopub.status.busy": "2022-03-20T02:01:12.664656Z",
     "iopub.status.idle": "2022-03-20T02:01:12.678387Z",
     "shell.execute_reply": "2022-03-20T02:01:12.677907Z"
    },
    "papermill": {
     "duration": 0.031423,
     "end_time": "2022-03-20T02:01:12.678500",
     "exception": false,
     "start_time": "2022-03-20T02:01:12.647077",
     "status": "completed"
    },
    "tags": []
   },
   "outputs": [],
   "source": [
    "# Set this to True if you want to run this template directly\n",
    "STANDALONE = False\n",
    "if STANDALONE:\n",
    "    print(\"parameters not injected, running with standalone_parameters\")\n",
    "    parameters = standalone_parameters\n",
    "\n",
    "if not 'parameters' in locals() and not 'parameters' in globals():\n",
    "    raise Exception(\"Parameter injection failed\")\n",
    "\n",
    "#Use an easy dict for all the parameters\n",
    "p = EasyDict(parameters)\n",
    "\n",
    "if \"x_shape\" not in p:\n",
    "    p.x_shape = [2,256] # Default to this if we dont supply x_shape\n",
    "\n",
    "\n",
    "supplied_keys = set(p.keys())\n",
    "\n",
    "if  supplied_keys != required_parameters:\n",
    "    print(\"Parameters are incorrect\")\n",
    "    if len(supplied_keys - required_parameters)>0: print(\"Shouldn't have:\", str(supplied_keys - required_parameters))\n",
    "    if len(required_parameters - supplied_keys)>0: print(\"Need to have:\", str(required_parameters - supplied_keys))\n",
    "    raise RuntimeError(\"Parameters are incorrect\")"
   ]
  },
  {
   "cell_type": "code",
   "execution_count": 6,
   "id": "3a028d58",
   "metadata": {
    "execution": {
     "iopub.execute_input": "2022-03-20T02:01:12.714825Z",
     "iopub.status.busy": "2022-03-20T02:01:12.713902Z",
     "iopub.status.idle": "2022-03-20T02:01:12.729260Z",
     "shell.execute_reply": "2022-03-20T02:01:12.728797Z"
    },
    "papermill": {
     "duration": 0.031589,
     "end_time": "2022-03-20T02:01:12.729365",
     "exception": false,
     "start_time": "2022-03-20T02:01:12.697776",
     "status": "completed"
    },
    "tags": []
   },
   "outputs": [],
   "source": [
    "###################################\n",
    "# Set the RNGs and make it all deterministic\n",
    "###################################\n",
    "np.random.seed(p.seed)\n",
    "random.seed(p.seed)\n",
    "torch.manual_seed(p.seed)\n",
    "\n",
    "torch.use_deterministic_algorithms(True) "
   ]
  },
  {
   "cell_type": "code",
   "execution_count": 7,
   "id": "b691acf6",
   "metadata": {
    "execution": {
     "iopub.execute_input": "2022-03-20T02:01:12.763571Z",
     "iopub.status.busy": "2022-03-20T02:01:12.762605Z",
     "iopub.status.idle": "2022-03-20T02:01:12.777248Z",
     "shell.execute_reply": "2022-03-20T02:01:12.776904Z"
    },
    "papermill": {
     "duration": 0.031596,
     "end_time": "2022-03-20T02:01:12.777332",
     "exception": false,
     "start_time": "2022-03-20T02:01:12.745736",
     "status": "completed"
    },
    "tags": []
   },
   "outputs": [],
   "source": [
    "###########################################\n",
    "# The stratified datasets honor this\n",
    "###########################################\n",
    "torch.set_default_dtype(eval(p.torch_default_dtype))"
   ]
  },
  {
   "cell_type": "code",
   "execution_count": 8,
   "id": "b5fba671",
   "metadata": {
    "execution": {
     "iopub.execute_input": "2022-03-20T02:01:12.809656Z",
     "iopub.status.busy": "2022-03-20T02:01:12.809394Z",
     "iopub.status.idle": "2022-03-20T02:01:12.850095Z",
     "shell.execute_reply": "2022-03-20T02:01:12.850412Z"
    },
    "papermill": {
     "duration": 0.056712,
     "end_time": "2022-03-20T02:01:12.850524",
     "exception": false,
     "start_time": "2022-03-20T02:01:12.793812",
     "status": "completed"
    },
    "tags": []
   },
   "outputs": [],
   "source": [
    "###################################\n",
    "# Build the network(s)\n",
    "# Note: It's critical to do this AFTER setting the RNG\n",
    "###################################\n",
    "x_net = build_sequential(p.x_net)"
   ]
  },
  {
   "cell_type": "code",
   "execution_count": 9,
   "id": "5d7e61cc",
   "metadata": {
    "execution": {
     "iopub.execute_input": "2022-03-20T02:01:12.883253Z",
     "iopub.status.busy": "2022-03-20T02:01:12.882995Z",
     "iopub.status.idle": "2022-03-20T02:01:12.898543Z",
     "shell.execute_reply": "2022-03-20T02:01:12.897944Z"
    },
    "papermill": {
     "duration": 0.031247,
     "end_time": "2022-03-20T02:01:12.898700",
     "exception": false,
     "start_time": "2022-03-20T02:01:12.867453",
     "status": "completed"
    },
    "tags": []
   },
   "outputs": [],
   "source": [
    "start_time_secs = time.time()"
   ]
  },
  {
   "cell_type": "code",
   "execution_count": 10,
   "id": "c6b67dfd",
   "metadata": {
    "execution": {
     "iopub.execute_input": "2022-03-20T02:01:12.939199Z",
     "iopub.status.busy": "2022-03-20T02:01:12.938939Z",
     "iopub.status.idle": "2022-03-20T02:01:12.950465Z",
     "shell.execute_reply": "2022-03-20T02:01:12.949958Z"
    },
    "papermill": {
     "duration": 0.033288,
     "end_time": "2022-03-20T02:01:12.950568",
     "exception": false,
     "start_time": "2022-03-20T02:01:12.917280",
     "status": "completed"
    },
    "tags": []
   },
   "outputs": [],
   "source": [
    "p.domains_source = []\n",
    "p.domains_target = []\n",
    "\n",
    "\n",
    "train_original_source = []\n",
    "val_original_source   = []\n",
    "test_original_source  = []\n",
    "\n",
    "train_original_target = []\n",
    "val_original_target   = []\n",
    "test_original_target  = []"
   ]
  },
  {
   "cell_type": "code",
   "execution_count": 11,
   "id": "e3d9c3d3",
   "metadata": {
    "execution": {
     "iopub.execute_input": "2022-03-20T02:01:12.984036Z",
     "iopub.status.busy": "2022-03-20T02:01:12.983743Z",
     "iopub.status.idle": "2022-03-20T02:01:12.997512Z",
     "shell.execute_reply": "2022-03-20T02:01:12.997011Z"
    },
    "papermill": {
     "duration": 0.028659,
     "end_time": "2022-03-20T02:01:12.997614",
     "exception": false,
     "start_time": "2022-03-20T02:01:12.968955",
     "status": "completed"
    },
    "tags": []
   },
   "outputs": [],
   "source": [
    "# global_x_transform_func = lambda x: normalize(x.to(torch.get_default_dtype()), \"unit_power\") # unit_power, unit_mag\n",
    "# global_x_transform_func = lambda x: normalize(x, \"unit_power\") # unit_power, unit_mag"
   ]
  },
  {
   "cell_type": "code",
   "execution_count": 12,
   "id": "acb78fd2",
   "metadata": {
    "execution": {
     "iopub.execute_input": "2022-03-20T02:01:13.034406Z",
     "iopub.status.busy": "2022-03-20T02:01:13.034135Z",
     "iopub.status.idle": "2022-03-20T02:01:13.046449Z",
     "shell.execute_reply": "2022-03-20T02:01:13.045942Z"
    },
    "papermill": {
     "duration": 0.030079,
     "end_time": "2022-03-20T02:01:13.046555",
     "exception": false,
     "start_time": "2022-03-20T02:01:13.016476",
     "status": "completed"
    },
    "tags": []
   },
   "outputs": [],
   "source": [
    "def add_dataset(\n",
    "    labels,\n",
    "    domains,\n",
    "    pickle_path,\n",
    "    x_transforms,\n",
    "    episode_transforms,\n",
    "    domain_prefix,\n",
    "    num_examples_per_domain_per_label,\n",
    "    source_or_target_dataset:str,\n",
    "    iterator_seed=p.seed,\n",
    "    dataset_seed=p.dataset_seed,\n",
    "    n_shot=p.n_shot,\n",
    "    n_way=p.n_way,\n",
    "    n_query=p.n_query,\n",
    "    train_val_test_k_factors=(p.train_k_factor,p.val_k_factor,p.test_k_factor),\n",
    "):\n",
    "   \n",
    "    if x_transforms == []: x_transform = None\n",
    "    else: x_transform = get_chained_transform(x_transforms)\n",
    "    \n",
    "    if episode_transforms == []: episode_transform = None\n",
    "    else: raise Exception(\"episode_transforms not implemented\")\n",
    "    \n",
    "    episode_transform = lambda tup, _prefix=domain_prefix: (_prefix + str(tup[0]), tup[1])\n",
    "\n",
    "\n",
    "    eaf = Episodic_Accessor_Factory(\n",
    "        labels=labels,\n",
    "        domains=domains,\n",
    "        num_examples_per_domain_per_label=num_examples_per_domain_per_label,\n",
    "        iterator_seed=iterator_seed,\n",
    "        dataset_seed=dataset_seed,\n",
    "        n_shot=n_shot,\n",
    "        n_way=n_way,\n",
    "        n_query=n_query,\n",
    "        train_val_test_k_factors=train_val_test_k_factors,\n",
    "        pickle_path=pickle_path,\n",
    "        x_transform_func=x_transform,\n",
    "    )\n",
    "\n",
    "    train, val, test = eaf.get_train(), eaf.get_val(), eaf.get_test()\n",
    "    train = Lazy_Iterable_Wrapper(train, episode_transform)\n",
    "    val = Lazy_Iterable_Wrapper(val, episode_transform)\n",
    "    test = Lazy_Iterable_Wrapper(test, episode_transform)\n",
    "\n",
    "    if source_or_target_dataset==\"source\":\n",
    "        train_original_source.append(train)\n",
    "        val_original_source.append(val)\n",
    "        test_original_source.append(test)\n",
    "\n",
    "        p.domains_source.extend(\n",
    "            [domain_prefix + str(u) for u in domains]\n",
    "        )\n",
    "    elif source_or_target_dataset==\"target\":\n",
    "        train_original_target.append(train)\n",
    "        val_original_target.append(val)\n",
    "        test_original_target.append(test)\n",
    "        p.domains_target.extend(\n",
    "            [domain_prefix + str(u) for u in domains]\n",
    "        )\n",
    "    else:\n",
    "        raise Exception(f\"invalid source_or_target_dataset: {source_or_target_dataset}\")\n",
    "    "
   ]
  },
  {
   "cell_type": "code",
   "execution_count": 13,
   "id": "fe266617",
   "metadata": {
    "execution": {
     "iopub.execute_input": "2022-03-20T02:01:13.080538Z",
     "iopub.status.busy": "2022-03-20T02:01:13.080281Z",
     "iopub.status.idle": "2022-03-20T02:02:03.127212Z",
     "shell.execute_reply": "2022-03-20T02:02:03.126774Z"
    },
    "papermill": {
     "duration": 50.062386,
     "end_time": "2022-03-20T02:02:03.127333",
     "exception": false,
     "start_time": "2022-03-20T02:01:13.064947",
     "status": "completed"
    },
    "tags": []
   },
   "outputs": [],
   "source": [
    "for ds in p.datasets:\n",
    "    add_dataset(**ds)"
   ]
  },
  {
   "cell_type": "code",
   "execution_count": 14,
   "id": "b90d65ac",
   "metadata": {
    "execution": {
     "iopub.execute_input": "2022-03-20T02:02:03.161135Z",
     "iopub.status.busy": "2022-03-20T02:02:03.160867Z",
     "iopub.status.idle": "2022-03-20T02:02:03.172524Z",
     "shell.execute_reply": "2022-03-20T02:02:03.172034Z"
    },
    "papermill": {
     "duration": 0.026984,
     "end_time": "2022-03-20T02:02:03.172627",
     "exception": false,
     "start_time": "2022-03-20T02:02:03.145643",
     "status": "completed"
    },
    "tags": []
   },
   "outputs": [],
   "source": [
    "# from steves_utils.CORES.utils import (\n",
    "#     ALL_NODES,\n",
    "#     ALL_NODES_MINIMUM_1000_EXAMPLES,\n",
    "#     ALL_DAYS\n",
    "# )\n",
    "\n",
    "# add_dataset(\n",
    "#     labels=ALL_NODES,\n",
    "#     domains = ALL_DAYS,\n",
    "#     num_examples_per_domain_per_label=100,\n",
    "#     pickle_path=os.path.join(get_datasets_base_path(), \"cores.stratified_ds.2022A.pkl\"),\n",
    "#     source_or_target_dataset=\"target\",\n",
    "#     x_transform_func=global_x_transform_func,\n",
    "#     domain_modifier=lambda u: f\"cores_{u}\"\n",
    "# )"
   ]
  },
  {
   "cell_type": "code",
   "execution_count": 15,
   "id": "76db484d",
   "metadata": {
    "execution": {
     "iopub.execute_input": "2022-03-20T02:02:03.203825Z",
     "iopub.status.busy": "2022-03-20T02:02:03.203563Z",
     "iopub.status.idle": "2022-03-20T02:02:03.218071Z",
     "shell.execute_reply": "2022-03-20T02:02:03.217599Z"
    },
    "papermill": {
     "duration": 0.030035,
     "end_time": "2022-03-20T02:02:03.218179",
     "exception": false,
     "start_time": "2022-03-20T02:02:03.188144",
     "status": "completed"
    },
    "tags": []
   },
   "outputs": [],
   "source": [
    "# from steves_utils.ORACLE.utils_v2 import (\n",
    "#     ALL_DISTANCES_FEET,\n",
    "#     ALL_RUNS,\n",
    "#     ALL_SERIAL_NUMBERS,\n",
    "# )\n",
    "\n",
    "\n",
    "# add_dataset(\n",
    "#     labels=ALL_SERIAL_NUMBERS,\n",
    "#     domains = list(set(ALL_DISTANCES_FEET) - {2,62}),\n",
    "#     num_examples_per_domain_per_label=100,\n",
    "#     pickle_path=os.path.join(get_datasets_base_path(), \"oracle.Run2_framed_2000Examples_stratified_ds.2022A.pkl\"),\n",
    "#     source_or_target_dataset=\"source\",\n",
    "#     x_transform_func=global_x_transform_func,\n",
    "#     domain_modifier=lambda u: f\"oracle1_{u}\"\n",
    "# )\n"
   ]
  },
  {
   "cell_type": "code",
   "execution_count": 16,
   "id": "97dea9d2",
   "metadata": {
    "execution": {
     "iopub.execute_input": "2022-03-20T02:02:03.252859Z",
     "iopub.status.busy": "2022-03-20T02:02:03.251674Z",
     "iopub.status.idle": "2022-03-20T02:02:03.265128Z",
     "shell.execute_reply": "2022-03-20T02:02:03.265513Z"
    },
    "papermill": {
     "duration": 0.029138,
     "end_time": "2022-03-20T02:02:03.265638",
     "exception": false,
     "start_time": "2022-03-20T02:02:03.236500",
     "status": "completed"
    },
    "tags": []
   },
   "outputs": [],
   "source": [
    "# from steves_utils.ORACLE.utils_v2 import (\n",
    "#     ALL_DISTANCES_FEET,\n",
    "#     ALL_RUNS,\n",
    "#     ALL_SERIAL_NUMBERS,\n",
    "# )\n",
    "\n",
    "\n",
    "# add_dataset(\n",
    "#     labels=ALL_SERIAL_NUMBERS,\n",
    "#     domains = list(set(ALL_DISTANCES_FEET) - {2,62,56}),\n",
    "#     num_examples_per_domain_per_label=100,\n",
    "#     pickle_path=os.path.join(get_datasets_base_path(), \"oracle.Run2_framed_2000Examples_stratified_ds.2022A.pkl\"),\n",
    "#     source_or_target_dataset=\"source\",\n",
    "#     x_transform_func=global_x_transform_func,\n",
    "#     domain_modifier=lambda u: f\"oracle2_{u}\"\n",
    "# )"
   ]
  },
  {
   "cell_type": "code",
   "execution_count": 17,
   "id": "6f289866",
   "metadata": {
    "execution": {
     "iopub.execute_input": "2022-03-20T02:02:03.300843Z",
     "iopub.status.busy": "2022-03-20T02:02:03.300576Z",
     "iopub.status.idle": "2022-03-20T02:02:03.312305Z",
     "shell.execute_reply": "2022-03-20T02:02:03.311846Z"
    },
    "papermill": {
     "duration": 0.02754,
     "end_time": "2022-03-20T02:02:03.312415",
     "exception": false,
     "start_time": "2022-03-20T02:02:03.284875",
     "status": "completed"
    },
    "tags": []
   },
   "outputs": [],
   "source": [
    "# add_dataset(\n",
    "#     labels=list(range(19)),\n",
    "#     domains = [0,1,2],\n",
    "#     num_examples_per_domain_per_label=100,\n",
    "#     pickle_path=os.path.join(get_datasets_base_path(), \"metehan.stratified_ds.2022A.pkl\"),\n",
    "#     source_or_target_dataset=\"target\",\n",
    "#     x_transform_func=global_x_transform_func,\n",
    "#     domain_modifier=lambda u: f\"met_{u}\"\n",
    "# )"
   ]
  },
  {
   "cell_type": "code",
   "execution_count": 18,
   "id": "86a863c3",
   "metadata": {
    "execution": {
     "iopub.execute_input": "2022-03-20T02:02:03.346851Z",
     "iopub.status.busy": "2022-03-20T02:02:03.346576Z",
     "iopub.status.idle": "2022-03-20T02:02:03.357906Z",
     "shell.execute_reply": "2022-03-20T02:02:03.357593Z"
    },
    "papermill": {
     "duration": 0.027792,
     "end_time": "2022-03-20T02:02:03.357985",
     "exception": false,
     "start_time": "2022-03-20T02:02:03.330193",
     "status": "completed"
    },
    "tags": []
   },
   "outputs": [],
   "source": [
    "# # from steves_utils.wisig.utils import (\n",
    "# #     ALL_NODES_MINIMUM_100_EXAMPLES,\n",
    "# #     ALL_NODES_MINIMUM_500_EXAMPLES,\n",
    "# #     ALL_NODES_MINIMUM_1000_EXAMPLES,\n",
    "# #     ALL_DAYS\n",
    "# # )\n",
    "\n",
    "# import steves_utils.wisig.utils as wisig\n",
    "\n",
    "\n",
    "# add_dataset(\n",
    "#     labels=wisig.ALL_NODES_MINIMUM_100_EXAMPLES,\n",
    "#     domains = wisig.ALL_DAYS,\n",
    "#     num_examples_per_domain_per_label=100,\n",
    "#     pickle_path=os.path.join(get_datasets_base_path(), \"wisig.node3-19.stratified_ds.2022A.pkl\"),\n",
    "#     source_or_target_dataset=\"target\",\n",
    "#     x_transform_func=global_x_transform_func,\n",
    "#     domain_modifier=lambda u: f\"wisig_{u}\"\n",
    "# )"
   ]
  },
  {
   "cell_type": "code",
   "execution_count": 19,
   "id": "fd5442bc",
   "metadata": {
    "execution": {
     "iopub.execute_input": "2022-03-20T02:02:03.394131Z",
     "iopub.status.busy": "2022-03-20T02:02:03.393845Z",
     "iopub.status.idle": "2022-03-20T02:02:03.408660Z",
     "shell.execute_reply": "2022-03-20T02:02:03.408432Z"
    },
    "papermill": {
     "duration": 0.031987,
     "end_time": "2022-03-20T02:02:03.408716",
     "exception": false,
     "start_time": "2022-03-20T02:02:03.376729",
     "status": "completed"
    },
    "tags": []
   },
   "outputs": [],
   "source": [
    "###################################\n",
    "# Build the dataset\n",
    "###################################\n",
    "train_original_source = Iterable_Aggregator(train_original_source, p.seed)\n",
    "val_original_source = Iterable_Aggregator(val_original_source, p.seed)\n",
    "test_original_source = Iterable_Aggregator(test_original_source, p.seed)\n",
    "\n",
    "\n",
    "train_original_target = Iterable_Aggregator(train_original_target, p.seed)\n",
    "val_original_target = Iterable_Aggregator(val_original_target, p.seed)\n",
    "test_original_target = Iterable_Aggregator(test_original_target, p.seed)\n",
    "\n",
    "# For CNN We only use X and Y. And we only train on the source.\n",
    "# Properly form the data using a transform lambda and Lazy_Iterable_Wrapper. Finally wrap them in a dataloader\n",
    "\n",
    "transform_lambda = lambda ex: ex[1] # Original is (<domain>, <episode>) so we strip down to episode only\n",
    "\n",
    "train_processed_source = Lazy_Iterable_Wrapper(train_original_source, transform_lambda)\n",
    "val_processed_source   = Lazy_Iterable_Wrapper(val_original_source, transform_lambda)\n",
    "test_processed_source  = Lazy_Iterable_Wrapper(test_original_source, transform_lambda)\n",
    "\n",
    "train_processed_target = Lazy_Iterable_Wrapper(train_original_target, transform_lambda)\n",
    "val_processed_target   = Lazy_Iterable_Wrapper(val_original_target, transform_lambda)\n",
    "test_processed_target  = Lazy_Iterable_Wrapper(test_original_target, transform_lambda)\n",
    "\n",
    "datasets = EasyDict({\n",
    "    \"source\": {\n",
    "        \"original\": {\"train\":train_original_source, \"val\":val_original_source, \"test\":test_original_source},\n",
    "        \"processed\": {\"train\":train_processed_source, \"val\":val_processed_source, \"test\":test_processed_source}\n",
    "    },\n",
    "    \"target\": {\n",
    "        \"original\": {\"train\":train_original_target, \"val\":val_original_target, \"test\":test_original_target},\n",
    "        \"processed\": {\"train\":train_processed_target, \"val\":val_processed_target, \"test\":test_processed_target}\n",
    "    },\n",
    "})"
   ]
  },
  {
   "cell_type": "code",
   "execution_count": 20,
   "id": "5b3c01fc",
   "metadata": {
    "execution": {
     "iopub.execute_input": "2022-03-20T02:02:03.440196Z",
     "iopub.status.busy": "2022-03-20T02:02:03.439936Z",
     "iopub.status.idle": "2022-03-20T02:02:12.582650Z",
     "shell.execute_reply": "2022-03-20T02:02:12.582940Z"
    },
    "papermill": {
     "duration": 9.1602,
     "end_time": "2022-03-20T02:02:12.583023",
     "exception": false,
     "start_time": "2022-03-20T02:02:03.422823",
     "status": "completed"
    },
    "tags": []
   },
   "outputs": [
    {
     "name": "stdout",
     "output_type": "stream",
     "text": [
      "{'W_4', 'W_1', 'C_1', 'W_2', 'C_3', 'C_4', 'W_3', 'C_5', 'C_2'}\n"
     ]
    },
    {
     "name": "stdout",
     "output_type": "stream",
     "text": [
      "{'O_44', 'O_8', 'O_32', 'O_14', 'O_38', 'O_50', 'O_20', 'O_26'}\n"
     ]
    },
    {
     "name": "stdout",
     "output_type": "stream",
     "text": [
      "tensor([[[-0.0481,  1.2260,  0.0481,  ...,  0.3650,  0.7321, -0.1770],\n",
      "         [-0.9288,  0.1224,  1.4795,  ..., -0.4458,  0.2032,  1.2282]],\n",
      "\n",
      "        [[ 0.4847,  0.7729, -1.0633,  ...,  0.4389,  0.2009, -0.8515],\n",
      "         [-0.5808,  0.4891,  0.9498,  ...,  0.3188,  0.4847,  0.4913]],\n",
      "\n",
      "        [[ 0.3667,  1.3447,  0.4300,  ...,  0.5719,  1.1308, -0.0327],\n",
      "         [-0.9343,  0.4038,  1.2268,  ..., -0.6112,  0.6876,  1.3818]],\n",
      "\n",
      "        ...,\n",
      "\n",
      "        [[-0.7382, -0.7514,  0.1171,  ..., -1.3183, -0.7209, -0.4505],\n",
      "         [ 0.7576, -0.0312, -1.1055,  ..., -0.3535, -0.6287,  0.0062]],\n",
      "\n",
      "        [[-0.0416, -0.0433, -0.0552,  ...,  0.6353, -0.1170, -1.2493],\n",
      "         [-0.0683, -0.0760, -0.0059,  ..., -0.1918,  0.8444,  0.0938]],\n",
      "\n",
      "        [[-0.1019, -0.3426,  0.0021,  ..., -0.5681,  0.3029,  0.5639],\n",
      "         [-0.1738, -0.1800, -0.7816,  ..., -0.7446, -1.0251, -0.2882]]])\n"
     ]
    }
   ],
   "source": [
    "from steves_utils.transforms import get_average_magnitude, get_average_power\n",
    "\n",
    "print(set([u for u,_ in val_original_source]))\n",
    "print(set([u for u,_ in val_original_target]))\n",
    "\n",
    "s_x, s_y, q_x, q_y, _ = next(iter(train_processed_source))\n",
    "print(s_x)\n",
    "\n",
    "# for ds in [\n",
    "#     train_processed_source,\n",
    "#     val_processed_source,\n",
    "#     test_processed_source,\n",
    "#     train_processed_target,\n",
    "#     val_processed_target,\n",
    "#     test_processed_target\n",
    "# ]:\n",
    "#     for s_x, s_y, q_x, q_y, _ in ds:\n",
    "#         for X in (s_x, q_x):\n",
    "#             for x in X:\n",
    "#                 assert np.isclose(get_average_magnitude(x.numpy()), 1.0)\n",
    "#                 assert np.isclose(get_average_power(x.numpy()), 1.0)\n",
    "                "
   ]
  },
  {
   "cell_type": "code",
   "execution_count": 21,
   "id": "bbdacba1",
   "metadata": {
    "execution": {
     "iopub.execute_input": "2022-03-20T02:02:12.617431Z",
     "iopub.status.busy": "2022-03-20T02:02:12.617130Z",
     "iopub.status.idle": "2022-03-20T02:02:12.706556Z",
     "shell.execute_reply": "2022-03-20T02:02:12.706116Z"
    },
    "papermill": {
     "duration": 0.107993,
     "end_time": "2022-03-20T02:02:12.706661",
     "exception": false,
     "start_time": "2022-03-20T02:02:12.598668",
     "status": "completed"
    },
    "tags": []
   },
   "outputs": [
    {
     "name": "stdout",
     "output_type": "stream",
     "text": [
      "(2, 256)\n"
     ]
    }
   ],
   "source": [
    "###################################\n",
    "# Build the model\n",
    "###################################\n",
    "# easfsl only wants a tuple for the shape\n",
    "model = Steves_Prototypical_Network(x_net, device=p.device, x_shape=tuple(p.x_shape))\n",
    "optimizer = Adam(params=model.parameters(), lr=p.lr)"
   ]
  },
  {
   "cell_type": "code",
   "execution_count": 22,
   "id": "22b39ac5",
   "metadata": {
    "execution": {
     "iopub.execute_input": "2022-03-20T02:02:12.749183Z",
     "iopub.status.busy": "2022-03-20T02:02:12.748803Z",
     "iopub.status.idle": "2022-03-20T02:37:57.573208Z",
     "shell.execute_reply": "2022-03-20T02:37:57.572973Z"
    },
    "papermill": {
     "duration": 2144.846585,
     "end_time": "2022-03-20T02:37:57.573267",
     "exception": false,
     "start_time": "2022-03-20T02:02:12.726682",
     "status": "completed"
    },
    "tags": []
   },
   "outputs": [
    {
     "name": "stdout",
     "output_type": "stream",
     "text": [
      "epoch: 1, [batch: 1 / 13178], examples_per_second: 23.0391, train_label_loss: 2.5519, \n"
     ]
    },
    {
     "name": "stdout",
     "output_type": "stream",
     "text": [
      "epoch: 1, [batch: 1318 / 13178], examples_per_second: 3184.0813, train_label_loss: 0.0080, \n"
     ]
    },
    {
     "name": "stdout",
     "output_type": "stream",
     "text": [
      "epoch: 1, [batch: 2636 / 13178], examples_per_second: 3183.3309, train_label_loss: 0.3906, \n"
     ]
    },
    {
     "name": "stdout",
     "output_type": "stream",
     "text": [
      "epoch: 1, [batch: 3954 / 13178], examples_per_second: 3171.0537, train_label_loss: 0.3170, \n"
     ]
    },
    {
     "name": "stdout",
     "output_type": "stream",
     "text": [
      "epoch: 1, [batch: 5271 / 13178], examples_per_second: 3082.5472, train_label_loss: 0.0040, \n"
     ]
    },
    {
     "name": "stdout",
     "output_type": "stream",
     "text": [
      "epoch: 1, [batch: 6589 / 13178], examples_per_second: 3116.9002, train_label_loss: 0.0137, \n"
     ]
    },
    {
     "name": "stdout",
     "output_type": "stream",
     "text": [
      "epoch: 1, [batch: 7907 / 13178], examples_per_second: 3128.6990, train_label_loss: 0.0161, \n"
     ]
    },
    {
     "name": "stdout",
     "output_type": "stream",
     "text": [
      "epoch: 1, [batch: 9224 / 13178], examples_per_second: 3172.2883, train_label_loss: 0.0009, \n"
     ]
    },
    {
     "name": "stdout",
     "output_type": "stream",
     "text": [
      "epoch: 1, [batch: 10542 / 13178], examples_per_second: 3179.7374, train_label_loss: 0.0897, \n"
     ]
    },
    {
     "name": "stdout",
     "output_type": "stream",
     "text": [
      "epoch: 1, [batch: 11860 / 13178], examples_per_second: 3209.5859, train_label_loss: 0.0499, \n"
     ]
    },
    {
     "name": "stdout",
     "output_type": "stream",
     "text": [
      "=============================================================\n",
      "epoch: 1, source_val_acc_label: 0.9787, target_val_acc_label: 0.1805, source_val_label_loss: 0.1002, target_val_label_loss: 2.5024, \n",
      "=============================================================\n"
     ]
    },
    {
     "name": "stdout",
     "output_type": "stream",
     "text": [
      "New best\n"
     ]
    },
    {
     "name": "stdout",
     "output_type": "stream",
     "text": [
      "epoch: 2, [batch: 1 / 13164], examples_per_second: 2.6774, train_label_loss: 0.0168, \n"
     ]
    },
    {
     "name": "stdout",
     "output_type": "stream",
     "text": [
      "epoch: 2, [batch: 1317 / 13164], examples_per_second: 3195.5753, train_label_loss: 0.0234, \n"
     ]
    },
    {
     "name": "stdout",
     "output_type": "stream",
     "text": [
      "epoch: 2, [batch: 2633 / 13164], examples_per_second: 3144.0475, train_label_loss: 0.1306, \n"
     ]
    },
    {
     "name": "stdout",
     "output_type": "stream",
     "text": [
      "epoch: 2, [batch: 3949 / 13164], examples_per_second: 3199.4558, train_label_loss: 0.0007, \n"
     ]
    },
    {
     "name": "stdout",
     "output_type": "stream",
     "text": [
      "epoch: 2, [batch: 5266 / 13164], examples_per_second: 3161.3239, train_label_loss: 0.0292, \n"
     ]
    },
    {
     "name": "stdout",
     "output_type": "stream",
     "text": [
      "epoch: 2, [batch: 6582 / 13164], examples_per_second: 3204.4785, train_label_loss: 0.0038, \n"
     ]
    },
    {
     "name": "stdout",
     "output_type": "stream",
     "text": [
      "epoch: 2, [batch: 7898 / 13164], examples_per_second: 3161.3682, train_label_loss: 0.0051, \n"
     ]
    },
    {
     "name": "stdout",
     "output_type": "stream",
     "text": [
      "epoch: 2, [batch: 9215 / 13164], examples_per_second: 3167.0073, train_label_loss: 0.0007, \n"
     ]
    },
    {
     "name": "stdout",
     "output_type": "stream",
     "text": [
      "epoch: 2, [batch: 10531 / 13164], examples_per_second: 3218.6022, train_label_loss: 0.0003, \n"
     ]
    },
    {
     "name": "stdout",
     "output_type": "stream",
     "text": [
      "epoch: 2, [batch: 11847 / 13164], examples_per_second: 3215.5417, train_label_loss: 0.0854, \n"
     ]
    },
    {
     "name": "stdout",
     "output_type": "stream",
     "text": [
      "=============================================================\n",
      "epoch: 2, source_val_acc_label: 0.9841, target_val_acc_label: 0.1927, source_val_label_loss: 0.0713, target_val_label_loss: 2.5269, \n",
      "=============================================================\n"
     ]
    },
    {
     "name": "stdout",
     "output_type": "stream",
     "text": [
      "New best\n"
     ]
    },
    {
     "name": "stdout",
     "output_type": "stream",
     "text": [
      "epoch: 3, [batch: 1 / 13141], examples_per_second: 2.7089, train_label_loss: 0.2484, \n"
     ]
    },
    {
     "name": "stdout",
     "output_type": "stream",
     "text": [
      "epoch: 3, [batch: 1315 / 13141], examples_per_second: 3213.4619, train_label_loss: 0.0003, \n"
     ]
    },
    {
     "name": "stdout",
     "output_type": "stream",
     "text": [
      "epoch: 3, [batch: 2629 / 13141], examples_per_second: 3224.0569, train_label_loss: 0.2301, \n"
     ]
    },
    {
     "name": "stdout",
     "output_type": "stream",
     "text": [
      "epoch: 3, [batch: 3943 / 13141], examples_per_second: 3215.3788, train_label_loss: 0.3637, \n"
     ]
    },
    {
     "name": "stdout",
     "output_type": "stream",
     "text": [
      "epoch: 3, [batch: 5257 / 13141], examples_per_second: 3143.3834, train_label_loss: 0.0001, \n"
     ]
    },
    {
     "name": "stdout",
     "output_type": "stream",
     "text": [
      "epoch: 3, [batch: 6571 / 13141], examples_per_second: 3204.2314, train_label_loss: 0.0004, \n"
     ]
    },
    {
     "name": "stdout",
     "output_type": "stream",
     "text": [
      "epoch: 3, [batch: 7885 / 13141], examples_per_second: 3222.4716, train_label_loss: 0.0004, \n"
     ]
    },
    {
     "name": "stdout",
     "output_type": "stream",
     "text": [
      "epoch: 3, [batch: 9199 / 13141], examples_per_second: 3210.7597, train_label_loss: 0.1449, \n"
     ]
    },
    {
     "name": "stdout",
     "output_type": "stream",
     "text": [
      "epoch: 3, [batch: 10513 / 13141], examples_per_second: 3183.2182, train_label_loss: 0.1957, \n"
     ]
    },
    {
     "name": "stdout",
     "output_type": "stream",
     "text": [
      "epoch: 3, [batch: 11827 / 13141], examples_per_second: 3190.9390, train_label_loss: 0.3417, \n"
     ]
    },
    {
     "name": "stdout",
     "output_type": "stream",
     "text": [
      "=============================================================\n",
      "epoch: 3, source_val_acc_label: 0.9853, target_val_acc_label: 0.1709, source_val_label_loss: 0.0641, target_val_label_loss: 2.7669, \n",
      "=============================================================\n"
     ]
    },
    {
     "name": "stdout",
     "output_type": "stream",
     "text": [
      "epoch: 4, [batch: 1 / 13165], examples_per_second: 2.6521, train_label_loss: 0.0039, \n"
     ]
    },
    {
     "name": "stdout",
     "output_type": "stream",
     "text": [
      "epoch: 4, [batch: 1317 / 13165], examples_per_second: 3207.2944, train_label_loss: 0.0405, \n"
     ]
    },
    {
     "name": "stdout",
     "output_type": "stream",
     "text": [
      "epoch: 4, [batch: 2633 / 13165], examples_per_second: 3189.6596, train_label_loss: 0.0005, \n"
     ]
    },
    {
     "name": "stdout",
     "output_type": "stream",
     "text": [
      "epoch: 4, [batch: 3950 / 13165], examples_per_second: 3246.6635, train_label_loss: 0.0004, \n"
     ]
    },
    {
     "name": "stdout",
     "output_type": "stream",
     "text": [
      "epoch: 4, [batch: 5266 / 13165], examples_per_second: 3203.6341, train_label_loss: 0.2041, \n"
     ]
    },
    {
     "name": "stdout",
     "output_type": "stream",
     "text": [
      "epoch: 4, [batch: 6583 / 13165], examples_per_second: 3233.2062, train_label_loss: 0.0004, \n"
     ]
    },
    {
     "name": "stdout",
     "output_type": "stream",
     "text": [
      "epoch: 4, [batch: 7899 / 13165], examples_per_second: 3166.2369, train_label_loss: 0.2660, \n"
     ]
    },
    {
     "name": "stdout",
     "output_type": "stream",
     "text": [
      "epoch: 4, [batch: 9215 / 13165], examples_per_second: 3171.6021, train_label_loss: 0.0683, \n"
     ]
    },
    {
     "name": "stdout",
     "output_type": "stream",
     "text": [
      "epoch: 4, [batch: 10532 / 13165], examples_per_second: 3211.3326, train_label_loss: 0.0036, \n"
     ]
    },
    {
     "name": "stdout",
     "output_type": "stream",
     "text": [
      "epoch: 4, [batch: 11848 / 13165], examples_per_second: 3174.0268, train_label_loss: 0.1238, \n"
     ]
    },
    {
     "name": "stdout",
     "output_type": "stream",
     "text": [
      "=============================================================\n",
      "epoch: 4, source_val_acc_label: 0.9857, target_val_acc_label: 0.1866, source_val_label_loss: 0.0660, target_val_label_loss: 2.6152, \n",
      "=============================================================\n"
     ]
    },
    {
     "name": "stdout",
     "output_type": "stream",
     "text": [
      "epoch: 5, [batch: 1 / 13180], examples_per_second: 2.6555, train_label_loss: 0.0031, \n"
     ]
    },
    {
     "name": "stdout",
     "output_type": "stream",
     "text": [
      "epoch: 5, [batch: 1318 / 13180], examples_per_second: 3142.1952, train_label_loss: 0.0012, \n"
     ]
    },
    {
     "name": "stdout",
     "output_type": "stream",
     "text": [
      "epoch: 5, [batch: 2636 / 13180], examples_per_second: 3141.1819, train_label_loss: 0.1782, \n"
     ]
    },
    {
     "name": "stdout",
     "output_type": "stream",
     "text": [
      "epoch: 5, [batch: 3954 / 13180], examples_per_second: 3178.8024, train_label_loss: 0.0000, \n"
     ]
    },
    {
     "name": "stdout",
     "output_type": "stream",
     "text": [
      "epoch: 5, [batch: 5272 / 13180], examples_per_second: 3140.2717, train_label_loss: 0.0000, \n"
     ]
    },
    {
     "name": "stdout",
     "output_type": "stream",
     "text": [
      "epoch: 5, [batch: 6590 / 13180], examples_per_second: 3235.1666, train_label_loss: 0.0002, \n"
     ]
    },
    {
     "name": "stdout",
     "output_type": "stream",
     "text": [
      "epoch: 5, [batch: 7908 / 13180], examples_per_second: 3217.5348, train_label_loss: 0.2701, \n"
     ]
    },
    {
     "name": "stdout",
     "output_type": "stream",
     "text": [
      "epoch: 5, [batch: 9226 / 13180], examples_per_second: 3190.6845, train_label_loss: 0.1735, \n"
     ]
    },
    {
     "name": "stdout",
     "output_type": "stream",
     "text": [
      "epoch: 5, [batch: 10544 / 13180], examples_per_second: 3178.4049, train_label_loss: 0.0000, \n"
     ]
    },
    {
     "name": "stdout",
     "output_type": "stream",
     "text": [
      "epoch: 5, [batch: 11862 / 13180], examples_per_second: 3184.3249, train_label_loss: 0.0035, \n"
     ]
    },
    {
     "name": "stdout",
     "output_type": "stream",
     "text": [
      "=============================================================\n",
      "epoch: 5, source_val_acc_label: 0.9853, target_val_acc_label: 0.1566, source_val_label_loss: 0.0682, target_val_label_loss: 2.9193, \n",
      "=============================================================\n"
     ]
    },
    {
     "name": "stdout",
     "output_type": "stream",
     "text": [
      "epoch: 6, [batch: 1 / 13166], examples_per_second: 2.6877, train_label_loss: 0.0004, \n"
     ]
    },
    {
     "name": "stdout",
     "output_type": "stream",
     "text": [
      "epoch: 6, [batch: 1317 / 13166], examples_per_second: 3193.4497, train_label_loss: 0.0001, \n"
     ]
    },
    {
     "name": "stdout",
     "output_type": "stream",
     "text": [
      "epoch: 6, [batch: 2634 / 13166], examples_per_second: 3225.8313, train_label_loss: 0.0269, \n"
     ]
    },
    {
     "name": "stdout",
     "output_type": "stream",
     "text": [
      "epoch: 6, [batch: 3950 / 13166], examples_per_second: 3232.1454, train_label_loss: 0.0006, \n"
     ]
    },
    {
     "name": "stdout",
     "output_type": "stream",
     "text": [
      "epoch: 6, [batch: 5267 / 13166], examples_per_second: 3222.4905, train_label_loss: 0.0150, \n"
     ]
    },
    {
     "name": "stdout",
     "output_type": "stream",
     "text": [
      "epoch: 6, [batch: 6583 / 13166], examples_per_second: 3188.3612, train_label_loss: 0.0275, \n"
     ]
    },
    {
     "name": "stdout",
     "output_type": "stream",
     "text": [
      "epoch: 6, [batch: 7900 / 13166], examples_per_second: 3194.5503, train_label_loss: 0.1652, \n"
     ]
    },
    {
     "name": "stdout",
     "output_type": "stream",
     "text": [
      "epoch: 6, [batch: 9216 / 13166], examples_per_second: 3141.8780, train_label_loss: 0.0001, \n"
     ]
    },
    {
     "name": "stdout",
     "output_type": "stream",
     "text": [
      "epoch: 6, [batch: 10533 / 13166], examples_per_second: 3144.3033, train_label_loss: 0.0017, \n"
     ]
    },
    {
     "name": "stdout",
     "output_type": "stream",
     "text": [
      "epoch: 6, [batch: 11849 / 13166], examples_per_second: 3166.2384, train_label_loss: 0.0001, \n"
     ]
    },
    {
     "name": "stdout",
     "output_type": "stream",
     "text": [
      "=============================================================\n",
      "epoch: 6, source_val_acc_label: 0.9858, target_val_acc_label: 0.1601, source_val_label_loss: 0.0664, target_val_label_loss: 3.0112, \n",
      "=============================================================\n"
     ]
    },
    {
     "name": "stdout",
     "output_type": "stream",
     "text": [
      "Patience (3) exhausted\n"
     ]
    }
   ],
   "source": [
    "###################################\n",
    "# train\n",
    "###################################\n",
    "jig = PTN_Train_Eval_Test_Jig(model, p.BEST_MODEL_PATH, p.device)\n",
    "\n",
    "jig.train(\n",
    "    train_iterable=datasets.source.processed.train,\n",
    "    source_val_iterable=datasets.source.processed.val,\n",
    "    target_val_iterable=datasets.target.processed.val,\n",
    "    num_epochs=p.n_epoch,\n",
    "    num_logs_per_epoch=p.NUM_LOGS_PER_EPOCH,\n",
    "    patience=p.patience,\n",
    "    optimizer=optimizer,\n",
    "    criteria_for_best=p.criteria_for_best,\n",
    ")"
   ]
  },
  {
   "cell_type": "code",
   "execution_count": 23,
   "id": "31e8fabf",
   "metadata": {
    "execution": {
     "iopub.execute_input": "2022-03-20T02:37:57.629067Z",
     "iopub.status.busy": "2022-03-20T02:37:57.628814Z",
     "iopub.status.idle": "2022-03-20T02:37:57.645887Z",
     "shell.execute_reply": "2022-03-20T02:37:57.645436Z"
    },
    "papermill": {
     "duration": 0.046261,
     "end_time": "2022-03-20T02:37:57.645976",
     "exception": false,
     "start_time": "2022-03-20T02:37:57.599715",
     "status": "completed"
    },
    "tags": []
   },
   "outputs": [],
   "source": [
    "total_experiment_time_secs = time.time() - start_time_secs"
   ]
  },
  {
   "cell_type": "code",
   "execution_count": 24,
   "id": "87b9595b",
   "metadata": {
    "execution": {
     "iopub.execute_input": "2022-03-20T02:37:57.707222Z",
     "iopub.status.busy": "2022-03-20T02:37:57.706955Z",
     "iopub.status.idle": "2022-03-20T02:40:27.586901Z",
     "shell.execute_reply": "2022-03-20T02:40:27.587128Z"
    },
    "papermill": {
     "duration": 149.912039,
     "end_time": "2022-03-20T02:40:27.587216",
     "exception": false,
     "start_time": "2022-03-20T02:37:57.675177",
     "status": "completed"
    },
    "tags": []
   },
   "outputs": [],
   "source": [
    "###################################\n",
    "# Evaluate the model\n",
    "###################################\n",
    "source_test_label_accuracy, source_test_label_loss = jig.test(datasets.source.processed.test)\n",
    "target_test_label_accuracy, target_test_label_loss = jig.test(datasets.target.processed.test)\n",
    "\n",
    "source_val_label_accuracy, source_val_label_loss = jig.test(datasets.source.processed.val)\n",
    "target_val_label_accuracy, target_val_label_loss = jig.test(datasets.target.processed.val)\n",
    "\n",
    "history = jig.get_history()\n",
    "\n",
    "total_epochs_trained = len(history[\"epoch_indices\"])\n",
    "\n",
    "val_dl = Iterable_Aggregator((datasets.source.original.val,datasets.target.original.val))\n",
    "\n",
    "confusion = ptn_confusion_by_domain_over_dataloader(model, p.device, val_dl)\n",
    "per_domain_accuracy = per_domain_accuracy_from_confusion(confusion)\n",
    "\n",
    "# Add a key to per_domain_accuracy for if it was a source domain\n",
    "for domain, accuracy in per_domain_accuracy.items():\n",
    "    per_domain_accuracy[domain] = {\n",
    "        \"accuracy\": accuracy,\n",
    "        \"source?\": domain in p.domains_source\n",
    "    }\n",
    "\n",
    "# Do an independent accuracy assesment JUST TO BE SURE!\n",
    "# _source_test_label_accuracy = independent_accuracy_assesment(model, datasets.source.processed.test, p.device)\n",
    "# _target_test_label_accuracy = independent_accuracy_assesment(model, datasets.target.processed.test, p.device)\n",
    "# _source_val_label_accuracy = independent_accuracy_assesment(model, datasets.source.processed.val, p.device)\n",
    "# _target_val_label_accuracy = independent_accuracy_assesment(model, datasets.target.processed.val, p.device)\n",
    "\n",
    "# assert(_source_test_label_accuracy == source_test_label_accuracy)\n",
    "# assert(_target_test_label_accuracy == target_test_label_accuracy)\n",
    "# assert(_source_val_label_accuracy == source_val_label_accuracy)\n",
    "# assert(_target_val_label_accuracy == target_val_label_accuracy)\n",
    "\n",
    "experiment = {\n",
    "    \"experiment_name\": p.experiment_name,\n",
    "    \"parameters\": dict(p),\n",
    "    \"results\": {\n",
    "        \"source_test_label_accuracy\": source_test_label_accuracy,\n",
    "        \"source_test_label_loss\": source_test_label_loss,\n",
    "        \"target_test_label_accuracy\": target_test_label_accuracy,\n",
    "        \"target_test_label_loss\": target_test_label_loss,\n",
    "        \"source_val_label_accuracy\": source_val_label_accuracy,\n",
    "        \"source_val_label_loss\": source_val_label_loss,\n",
    "        \"target_val_label_accuracy\": target_val_label_accuracy,\n",
    "        \"target_val_label_loss\": target_val_label_loss,\n",
    "        \"total_epochs_trained\": total_epochs_trained,\n",
    "        \"total_experiment_time_secs\": total_experiment_time_secs,\n",
    "        \"confusion\": confusion,\n",
    "        \"per_domain_accuracy\": per_domain_accuracy,\n",
    "    },\n",
    "    \"history\": history,\n",
    "    \"dataset_metrics\": get_dataset_metrics(datasets, \"ptn\"),\n",
    "}"
   ]
  },
  {
   "cell_type": "code",
   "execution_count": 25,
   "id": "54a21829",
   "metadata": {
    "execution": {
     "iopub.execute_input": "2022-03-20T02:40:27.647881Z",
     "iopub.status.busy": "2022-03-20T02:40:27.647540Z",
     "iopub.status.idle": "2022-03-20T02:40:27.777546Z",
     "shell.execute_reply": "2022-03-20T02:40:27.778037Z"
    },
    "papermill": {
     "duration": 0.160924,
     "end_time": "2022-03-20T02:40:27.778178",
     "exception": false,
     "start_time": "2022-03-20T02:40:27.617254",
     "status": "completed"
    },
    "tags": []
   },
   "outputs": [
    {
     "data": {
      "image/png": "[encoded data removed]",
      "text/plain": [
       "<Figure size 1080x504 with 1 Axes>"
      ]
     },
     "metadata": {
      "needs_background": "light"
     },
     "output_type": "display_data"
    }
   ],
   "source": [
    "ax = get_loss_curve(experiment)\n",
    "plt.show()"
   ]
  },
  {
   "cell_type": "code",
   "execution_count": 26,
   "id": "fd8a0f60",
   "metadata": {
    "execution": {
     "iopub.execute_input": "2022-03-20T02:40:27.846686Z",
     "iopub.status.busy": "2022-03-20T02:40:27.841658Z",
     "iopub.status.idle": "2022-03-20T02:40:27.991773Z",
     "shell.execute_reply": "2022-03-20T02:40:27.991437Z"
    },
    "papermill": {
     "duration": 0.182691,
     "end_time": "2022-03-20T02:40:27.991852",
     "exception": false,
     "start_time": "2022-03-20T02:40:27.809161",
     "status": "completed"
    },
    "tags": []
   },
   "outputs": [
    {
     "data": {
      "text/plain": [
       "<AxesSubplot:title={'center':'Results'}>"
      ]
     },
     "execution_count": 26,
     "metadata": {},
     "output_type": "execute_result"
    },
    {
     "data": {
      "image/png": "[encoded data removed]",
      "text/plain": [
       "<Figure size 1080x504 with 1 Axes>"
      ]
     },
     "metadata": {
      "needs_background": "light"
     },
     "output_type": "display_data"
    }
   ],
   "source": [
    "get_results_table(experiment)"
   ]
  },
  {
   "cell_type": "code",
   "execution_count": 27,
   "id": "cf8dc689",
   "metadata": {
    "execution": {
     "iopub.execute_input": "2022-03-20T02:40:28.064381Z",
     "iopub.status.busy": "2022-03-20T02:40:28.064104Z",
     "iopub.status.idle": "2022-03-20T02:40:28.222513Z",
     "shell.execute_reply": "2022-03-20T02:40:28.221920Z"
    },
    "papermill": {
     "duration": 0.191206,
     "end_time": "2022-03-20T02:40:28.222664",
     "exception": false,
     "start_time": "2022-03-20T02:40:28.031458",
     "status": "completed"
    },
    "tags": []
   },
   "outputs": [
    {
     "data": {
      "text/plain": [
       "<AxesSubplot:title={'center':'Per Domain Validation Accuracy'}, xlabel='domain'>"
      ]
     },
     "execution_count": 27,
     "metadata": {},
     "output_type": "execute_result"
    },
    {
     "data": {
      "image/png": "[encoded data removed]",
      "text/plain": [
       "<Figure size 1080x504 with 1 Axes>"
      ]
     },
     "metadata": {
      "needs_background": "light"
     },
     "output_type": "display_data"
    }
   ],
   "source": [
    "get_domain_accuracies(experiment)"
   ]
  },
  {
   "cell_type": "code",
   "execution_count": 28,
   "id": "a74ae082",
   "metadata": {
    "execution": {
     "iopub.execute_input": "2022-03-20T02:40:28.294270Z",
     "iopub.status.busy": "2022-03-20T02:40:28.292587Z",
     "iopub.status.idle": "2022-03-20T02:40:28.311646Z",
     "shell.execute_reply": "2022-03-20T02:40:28.311372Z"
    },
    "papermill": {
     "duration": 0.05549,
     "end_time": "2022-03-20T02:40:28.311707",
     "exception": false,
     "start_time": "2022-03-20T02:40:28.256217",
     "status": "completed"
    },
    "tags": []
   },
   "outputs": [
    {
     "name": "stdout",
     "output_type": "stream",
     "text": [
      "Source Test Label Accuracy: 0.984375 Target Test Label Accuracy: 0.1986328125\n",
      "Source Val Label Accuracy: 0.9841346153846153 Target Val Label Accuracy: 0.19274088541666667\n"
     ]
    }
   ],
   "source": [
    "print(\"Source Test Label Accuracy:\", experiment[\"results\"][\"source_test_label_accuracy\"], \"Target Test Label Accuracy:\", experiment[\"results\"][\"target_test_label_accuracy\"])\n",
    "print(\"Source Val Label Accuracy:\", experiment[\"results\"][\"source_val_label_accuracy\"], \"Target Val Label Accuracy:\", experiment[\"results\"][\"target_val_label_accuracy\"])"
   ]
  },
  {
   "cell_type": "code",
   "execution_count": 29,
   "id": "dacca602",
   "metadata": {
    "execution": {
     "iopub.execute_input": "2022-03-20T02:40:28.379380Z",
     "iopub.status.busy": "2022-03-20T02:40:28.378651Z",
     "iopub.status.idle": "2022-03-20T02:40:28.396951Z",
     "shell.execute_reply": "2022-03-20T02:40:28.397356Z"
    },
    "papermill": {
     "duration": 0.051547,
     "end_time": "2022-03-20T02:40:28.397483",
     "exception": false,
     "start_time": "2022-03-20T02:40:28.345936",
     "status": "completed"
    },
    "tags": [
     "experiment_json"
    ]
   },
   "outputs": [
    {
     "data": {
      "text/plain": [
       "'{\"experiment_name\": \"tl_2v2:cores+wisig -> oracle.run1.framed\", \"parameters\": {\"experiment_name\": \"tl_2v2:cores+wisig -> oracle.run1.framed\", \"device\": \"cuda\", \"lr\": 0.0001, \"n_shot\": 3, \"n_query\": 2, \"train_k_factor\": 3, \"val_k_factor\": 2, \"test_k_factor\": 2, \"torch_default_dtype\": \"torch.float32\", \"n_epoch\": 50, \"patience\": 3, \"criteria_for_best\": \"target_accuracy\", \"x_net\": [{\"class\": \"nnReshape\", \"kargs\": {\"shape\": [-1, 1, 2, 256]}}, {\"class\": \"Conv2d\", \"kargs\": {\"in_channels\": 1, \"out_channels\": 256, \"kernel_size\": [1, 7], \"bias\": false, \"padding\": [0, 3]}}, {\"class\": \"ReLU\", \"kargs\": {\"inplace\": true}}, {\"class\": \"BatchNorm2d\", \"kargs\": {\"num_features\": 256}}, {\"class\": \"Conv2d\", \"kargs\": {\"in_channels\": 256, \"out_channels\": 80, \"kernel_size\": [2, 7], \"bias\": true, \"padding\": [0, 3]}}, {\"class\": \"ReLU\", \"kargs\": {\"inplace\": true}}, {\"class\": \"BatchNorm2d\", \"kargs\": {\"num_features\": 80}}, {\"class\": \"Flatten\", \"kargs\": {}}, {\"class\": \"Linear\", \"kargs\": {\"in_features\": 20480, \"out_features\": 256}}, {\"class\": \"ReLU\", \"kargs\": {\"inplace\": true}}, {\"class\": \"BatchNorm1d\", \"kargs\": {\"num_features\": 256}}, {\"class\": \"Linear\", \"kargs\": {\"in_features\": 256, \"out_features\": 256}}], \"NUM_LOGS_PER_EPOCH\": 10, \"BEST_MODEL_PATH\": \"./best_model.pth\", \"n_way\": 16, \"datasets\": [{\"labels\": [\"1-10.\", \"1-11.\", \"1-15.\", \"1-16.\", \"1-17.\", \"1-18.\", \"1-19.\", \"10-4.\", \"10-7.\", \"11-1.\", \"11-14.\", \"11-17.\", \"11-20.\", \"11-7.\", \"13-20.\", \"13-8.\", \"14-10.\", \"14-11.\", \"14-14.\", \"14-7.\", \"15-1.\", \"15-20.\", \"16-1.\", \"16-16.\", \"17-10.\", \"17-11.\", \"17-2.\", \"19-1.\", \"19-16.\", \"19-19.\", \"19-20.\", \"19-3.\", \"2-10.\", \"2-11.\", \"2-17.\", \"2-18.\", \"2-20.\", \"2-3.\", \"2-4.\", \"2-5.\", \"2-6.\", \"2-7.\", \"2-8.\", \"3-13.\", \"3-18.\", \"3-3.\", \"4-1.\", \"4-10.\", \"4-11.\", \"4-19.\", \"5-5.\", \"6-15.\", \"7-10.\", \"7-14.\", \"8-18.\", \"8-20.\", \"8-3.\", \"8-8.\"], \"domains\": [1, 2, 3, 4, 5], \"num_examples_per_domain_per_label\": -1, \"pickle_path\": \"/mnt/wd500GB/CSC500/csc500-main/datasets/cores.stratified_ds.2022A.pkl\", \"source_or_target_dataset\": \"source\", \"x_transforms\": [\"unit_power\"], \"episode_transforms\": [], \"domain_prefix\": \"C_\"}, {\"labels\": [\"1-10\", \"1-12\", \"1-14\", \"1-16\", \"1-18\", \"1-19\", \"1-8\", \"10-11\", \"10-17\", \"10-4\", \"10-7\", \"11-1\", \"11-10\", \"11-19\", \"11-20\", \"11-4\", \"11-7\", \"12-19\", \"12-20\", \"12-7\", \"13-14\", \"13-18\", \"13-19\", \"13-20\", \"13-3\", \"13-7\", \"14-10\", \"14-11\", \"14-12\", \"14-13\", \"14-14\", \"14-19\", \"14-20\", \"14-7\", \"14-8\", \"14-9\", \"15-1\", \"15-19\", \"15-6\", \"16-1\", \"16-16\", \"16-19\", \"16-20\", \"17-10\", \"17-11\", \"18-1\", \"18-10\", \"18-11\", \"18-12\", \"18-13\", \"18-14\", \"18-15\", \"18-16\", \"18-17\", \"18-19\", \"18-2\", \"18-20\", \"18-4\", \"18-5\", \"18-7\", \"18-8\", \"18-9\", \"19-1\", \"19-10\", \"19-11\", \"19-12\", \"19-13\", \"19-14\", \"19-15\", \"19-19\", \"19-2\", \"19-20\", \"19-3\", \"19-4\", \"19-6\", \"19-7\", \"19-8\", \"19-9\", \"2-1\", \"2-13\", \"2-15\", \"2-3\", \"2-4\", \"2-5\", \"2-6\", \"2-7\", \"2-8\", \"20-1\", \"20-12\", \"20-14\", \"20-15\", \"20-16\", \"20-18\", \"20-19\", \"20-20\", \"20-3\", \"20-4\", \"20-5\", \"20-7\", \"20-8\", \"3-1\", \"3-13\", \"3-18\", \"3-2\", \"3-8\", \"4-1\", \"4-10\", \"4-11\", \"5-1\", \"5-5\", \"6-1\", \"6-15\", \"6-6\", \"7-10\", \"7-11\", \"7-12\", \"7-13\", \"7-14\", \"7-7\", \"7-8\", \"7-9\", \"8-1\", \"8-13\", \"8-14\", \"8-18\", \"8-20\", \"8-3\", \"8-8\", \"9-1\", \"9-7\"], \"domains\": [1, 2, 3, 4], \"num_examples_per_domain_per_label\": -1, \"pickle_path\": \"/mnt/wd500GB/CSC500/csc500-main/datasets/wisig.node3-19.stratified_ds.2022A.pkl\", \"source_or_target_dataset\": \"source\", \"x_transforms\": [\"unit_power\"], \"episode_transforms\": [], \"domain_prefix\": \"W_\"}, {\"labels\": [\"3123D52\", \"3123D65\", \"3123D79\", \"3123D80\", \"3123D54\", \"3123D70\", \"3123D7B\", \"3123D89\", \"3123D58\", \"3123D76\", \"3123D7D\", \"3123EFE\", \"3123D64\", \"3123D78\", \"3123D7E\", \"3124E4A\"], \"domains\": [32, 38, 8, 44, 14, 50, 20, 26], \"num_examples_per_domain_per_label\": 2000, \"pickle_path\": \"/mnt/wd500GB/CSC500/csc500-main/datasets/oracle.Run1_framed_2000Examples_stratified_ds.2022A.pkl\", \"source_or_target_dataset\": \"target\", \"x_transforms\": [\"unit_power\"], \"episode_transforms\": [], \"domain_prefix\": \"O_\"}], \"seed\": 1337, \"dataset_seed\": 1337, \"x_shape\": [2, 256], \"domains_source\": [\"C_1\", \"C_2\", \"C_3\", \"C_4\", \"C_5\", \"W_1\", \"W_2\", \"W_3\", \"W_4\"], \"domains_target\": [\"O_32\", \"O_38\", \"O_8\", \"O_44\", \"O_14\", \"O_50\", \"O_20\", \"O_26\"]}, \"results\": {\"source_test_label_accuracy\": 0.984375, \"source_test_label_loss\": 0.06670206785202026, \"target_test_label_accuracy\": 0.1986328125, \"target_test_label_loss\": 2.514416456222534, \"source_val_label_accuracy\": 0.9841346153846153, \"source_val_label_loss\": 0.07132194936275482, \"target_val_label_accuracy\": 0.19274088541666667, \"target_val_label_loss\": 2.526853084564209, \"total_epochs_trained\": 6, \"total_experiment_time_secs\": 2204.7475991249084, \"confusion\": {\"W_3\": {\"109\": {\"109\": 127, \"127\": 1}, \"127\": {\"127\": 125, \"73\": 1, \"69\": 1, \"4\": 1}, \"14\": {\"14\": 80}, \"7\": {\"7\": 111, \"111\": 1}, \"129\": {\"129\": 32}, \"57\": {\"57\": 20}, \"84\": {\"84\": 107, \"10\": 1}, \"114\": {\"114\": 121, \"29\": 1, \"69\": 1, \"127\": 1}, \"44\": {\"44\": 72}, \"21\": {\"21\": 46, \"101\": 1, \"0\": 1}, \"46\": {\"46\": 16}, \"100\": {\"100\": 16}, \"63\": {\"63\": 15, \"122\": 1}, \"24\": {\"24\": 48}, \"107\": {\"107\": 117, \"11\": 1}, \"35\": {\"35\": 11, \"49\": 1}, \"81\": {\"81\": 32}, \"64\": {\"64\": 20}, \"59\": {\"59\": 12}, \"33\": {\"33\": 112, \"90\": 1, \"3\": 1}, \"34\": {\"34\": 32}, \"36\": {\"36\": 116, \"27\": 1, \"98\": 1, \"24\": 1, \"111\": 1}, \"79\": {\"79\": 12}, \"80\": {\"80\": 16}, \"77\": {\"77\": 15, \"36\": 1}, \"22\": {\"22\": 16}, \"124\": {\"124\": 122, \"98\": 1, \"32\": 1}, \"2\": {\"2\": 26, \"26\": 1, \"81\": 1}, \"87\": {\"87\": 111, \"30\": 1}, \"105\": {\"105\": 122}, \"95\": {\"95\": 32}, \"43\": {\"43\": 50, \"21\": 1, \"122\": 1, \"30\": 1, \"69\": 1, \"78\": 1, \"87\": 1}, \"56\": {\"56\": 12}, \"18\": {\"18\": 121, \"30\": 1, \"21\": 1, \"62\": 1}, \"85\": {\"85\": 36}, \"113\": {\"113\": 119, \"62\": 1}, \"97\": {\"97\": 17, \"27\": 1, \"15\": 1, \"13\": 1}, \"86\": {\"86\": 26, \"84\": 1, \"111\": 1}, \"128\": {\"128\": 31, \"101\": 1}, \"123\": {\"123\": 16}, \"8\": {\"8\": 130}, \"110\": {\"110\": 83, \"17\": 1, \"78\": 1, \"30\": 1, \"71\": 1, \"101\": 1, \"5\": 1, \"7\": 1}, \"126\": {\"21\": 1, \"126\": 99, \"94\": 1, \"111\": 1, \"105\": 1, \"39\": 1}, \"42\": {\"42\": 26, \"8\": 1, \"112\": 1}, \"96\": {\"96\": 20}, \"83\": {\"83\": 24}, \"54\": {\"54\": 16}, \"65\": {\"65\": 11, \"92\": 1}, \"30\": {\"30\": 81, \"36\": 1, \"69\": 1, \"70\": 1}, \"121\": {\"121\": 27, \"80\": 1, \"21\": 1, \"30\": 1, \"0\": 2}, \"68\": {\"68\": 15, \"20\": 1}, \"45\": {\"45\": 15, \"73\": 1}, \"48\": {\"48\": 13, \"13\": 2, \"79\": 1}, \"4\": {\"4\": 94, \"39\": 1, \"87\": 1}, \"67\": {\"67\": 16}, \"103\": {\"103\": 15, \"81\": 1}, \"74\": {\"74\": 16}, \"1\": {\"1\": 106, \"84\": 2}, \"61\": {\"61\": 16}, \"101\": {\"101\": 47, \"25\": 2, \"0\": 2, \"127\": 1}, \"93\": {\"93\": 138}, \"26\": {\"26\": 130}, \"71\": {\"71\": 66, \"3\": 1, \"127\": 1}, \"15\": {\"15\": 102, \"40\": 1, \"127\": 1}, \"55\": {\"55\": 16}, \"104\": {\"104\": 16}, \"112\": {\"112\": 15, \"38\": 1}, \"102\": {\"102\": 122}, \"117\": {\"117\": 112}, \"119\": {\"119\": 16}, \"20\": {\"20\": 15, \"80\": 1}, \"120\": {\"120\": 20}, \"39\": {\"39\": 101, \"111\": 1, \"127\": 2, \"49\": 1, \"70\": 1, \"105\": 1, \"8\": 1}, \"49\": {\"49\": 22, \"8\": 1, \"42\": 1}, \"53\": {\"53\": 20}, \"92\": {\"92\": 31, \"39\": 1}, \"3\": {\"3\": 116}, \"47\": {\"47\": 12}, \"115\": {\"115\": 16}, \"58\": {\"58\": 16}, \"29\": {\"29\": 32}, \"12\": {\"12\": 104}, \"62\": {\"62\": 116, \"40\": 1, \"127\": 1}, \"11\": {\"11\": 139, \"16\": 1}, \"72\": {\"72\": 28}, \"98\": {\"98\": 106}, \"122\": {\"122\": 57, \"21\": 2, \"82\": 1}, \"17\": {\"29\": 1, \"17\": 8, \"110\": 1, \"63\": 1, \"86\": 1, \"9\": 1, \"68\": 1, \"104\": 1, \"40\": 1}, \"94\": {\"94\": 83, \"73\": 1}, \"106\": {\"106\": 89, \"94\": 1}, \"28\": {\"28\": 16}, \"69\": {\"69\": 78, \"87\": 2, \"127\": 1, \"12\": 1, \"5\": 1, \"27\": 1}, \"125\": {\"125\": 112, \"98\": 1, \"69\": 1}, \"19\": {\"19\": 32}, \"41\": {\"41\": 16}, \"60\": {\"60\": 28}, \"70\": {\"70\": 67, \"3\": 2, \"56\": 1, \"92\": 1, \"127\": 1}, \"27\": {\"27\": 94, \"94\": 1, \"36\": 1}, \"10\": {\"10\": 116, \"7\": 1, \"4\": 1}, \"108\": {\"108\": 138, \"39\": 1, \"110\": 1}, \"9\": {\"9\": 32}, \"25\": {\"25\": 16}, \"37\": {\"37\": 15, \"73\": 1}, \"0\": {\"0\": 115, \"10\": 1}, \"66\": {\"66\": 16}, \"51\": {\"51\": 16}, \"76\": {\"76\": 16}, \"32\": {\"32\": 31, \"61\": 1}, \"88\": {\"88\": 108, \"70\": 1, \"106\": 2, \"84\": 1}, \"31\": {\"31\": 20}, \"91\": {\"91\": 22, \"65\": 1, \"103\": 1}, \"90\": {\"90\": 126}, \"13\": {\"13\": 12, \"30\": 1, \"25\": 1, \"44\": 2}, \"50\": {\"50\": 16}, \"78\": {\"78\": 15, \"82\": 1}, \"116\": {\"116\": 22, \"43\": 3, \"13\": 1, \"16\": 1, \"84\": 1}, \"5\": {\"5\": 109, \"39\": 1, \"1\": 1, \"70\": 1}, \"75\": {\"75\": 16}, \"89\": {\"89\": 28}, \"16\": {\"16\": 115, \"3\": 1}, \"38\": {\"38\": 15, \"73\": 1}, \"118\": {\"118\": 97, \"30\": 1, \"105\": 1, \"127\": 1}, \"99\": {\"99\": 35, \"36\": 1}, \"52\": {\"52\": 16}, \"111\": {\"111\": 128}, \"23\": {\"23\": 31, \"5\": 1}, \"73\": {\"73\": 39, \"21\": 1}, \"82\": {\"82\": 26, \"110\": 1, \"122\": 1}, \"40\": {\"40\": 126, \"7\": 1, \"127\": 1}, \"6\": {\"6\": 32}}, \"C_3\": {\"43\": {\"43\": 128}, \"9\": {\"9\": 150}, \"6\": {\"6\": 88}, \"3\": {\"3\": 144}, \"16\": {\"16\": 134}, \"51\": {\"51\": 128}, \"31\": {\"31\": 28}, \"46\": {\"46\": 134}, \"19\": {\"19\": 124}, \"8\": {\"8\": 152}, \"18\": {\"18\": 84}, \"37\": {\"37\": 28}, \"24\": {\"24\": 104}, \"10\": {\"10\": 64}, \"44\": {\"44\": 87, \"36\": 1}, \"14\": {\"14\": 40}, \"38\": {\"38\": 28}, \"53\": {\"53\": 140}, \"20\": {\"20\": 132}, \"32\": {\"32\": 28}, \"36\": {\"36\": 100}, \"33\": {\"33\": 28}, \"56\": {\"56\": 136}, \"23\": {\"23\": 130}, \"54\": {\"54\": 100}, \"21\": {\"21\": 126}, \"28\": {\"28\": 28}, \"26\": {\"26\": 24}, \"48\": {\"48\": 116}, \"52\": {\"52\": 118}, \"39\": {\"39\": 16}, \"22\": {\"22\": 140}, \"13\": {\"13\": 128}, \"2\": {\"2\": 32}, \"34\": {\"34\": 32}, \"27\": {\"27\": 132}, \"45\": {\"45\": 60}, \"35\": {\"35\": 28}, \"29\": {\"29\": 128}, \"25\": {\"25\": 144}, \"0\": {\"0\": 124}, \"41\": {\"41\": 28}, \"11\": {\"11\": 142}, \"5\": {\"5\": 108}, \"1\": {\"1\": 100}, \"57\": {\"57\": 116}, \"17\": {\"17\": 106, \"50\": 1, \"45\": 1}, \"7\": {\"7\": 36}, \"12\": {\"12\": 92}, \"47\": {\"47\": 92}, \"40\": {\"40\": 136}, \"15\": {\"15\": 142}, \"42\": {\"42\": 28}, \"55\": {\"55\": 150}, \"49\": {\"49\": 20}, \"30\": {\"30\": 118, \"23\": 1, \"5\": 1}, \"50\": {\"50\": 134}, \"4\": {\"4\": 136}}, \"C_4\": {\"35\": {\"35\": 40}, \"25\": {\"25\": 134}, \"24\": {\"24\": 56}, \"48\": {\"48\": 138}, \"51\": {\"51\": 144}, \"13\": {\"13\": 120}, \"14\": {\"14\": 14, \"38\": 1, \"0\": 1}, \"32\": {\"32\": 24}, \"30\": {\"30\": 44}, \"34\": {\"34\": 24}, \"9\": {\"9\": 136}, \"1\": {\"1\": 40}, \"0\": {\"0\": 80}, \"38\": {\"38\": 40}, \"22\": {\"22\": 128}, \"40\": {\"40\": 120}, \"6\": {\"6\": 112}, \"16\": {\"16\": 96}, \"11\": {\"11\": 104}, \"20\": {\"20\": 122}, \"17\": {\"17\": 80}, \"26\": {\"26\": 24}, \"54\": {\"54\": 108}, \"55\": {\"55\": 154}, \"50\": {\"50\": 131, \"55\": 1}, \"19\": {\"19\": 142}, \"44\": {\"44\": 122}, \"47\": {\"47\": 120}, \"33\": {\"33\": 36}, \"5\": {\"5\": 108}, \"18\": {\"18\": 108}, \"21\": {\"21\": 124}, \"41\": {\"41\": 36}, \"23\": {\"23\": 128}, \"39\": {\"39\": 20}, \"37\": {\"37\": 24}, \"8\": {\"8\": 144}, \"49\": {\"49\": 20}, \"53\": {\"53\": 140}, \"31\": {\"31\": 28}, \"28\": {\"28\": 32}, \"3\": {\"3\": 124}, \"27\": {\"27\": 138}, \"46\": {\"46\": 128}, \"12\": {\"12\": 92}, \"7\": {\"7\": 24}, \"4\": {\"4\": 132}, \"42\": {\"42\": 32}, \"43\": {\"43\": 130}, \"29\": {\"29\": 120}, \"57\": {\"57\": 100}, \"52\": {\"52\": 104}, \"45\": {\"45\": 96}, \"36\": {\"36\": 92}, \"10\": {\"10\": 126}, \"15\": {\"15\": 134}, \"56\": {\"56\": 124}, \"2\": {\"2\": 36}}, \"W_4\": {\"28\": {\"28\": 20}, \"4\": {\"4\": 101, \"12\": 1, \"3\": 1, \"110\": 1}, \"72\": {\"72\": 30, \"69\": 1, \"84\": 1}, \"111\": {\"111\": 132, \"24\": 1, \"16\": 1, \"110\": 1, \"106\": 1}, \"108\": {\"108\": 80, \"88\": 2, \"129\": 2, \"122\": 1, \"3\": 1, \"125\": 1, \"27\": 1, \"93\": 2, \"70\": 1, \"7\": 1}, \"43\": {\"43\": 113, \"87\": 5, \"99\": 1, \"70\": 1}, \"96\": {\"96\": 20}, \"89\": {\"89\": 29, \"1\": 1, \"7\": 1, \"81\": 1}, \"31\": {\"31\": 16}, \"45\": {\"45\": 16}, \"2\": {\"2\": 27, \"26\": 1}, \"114\": {\"114\": 126, \"12\": 1, \"118\": 1}, \"11\": {\"11\": 135, \"101\": 1}, \"12\": {\"12\": 96, \"36\": 1, \"62\": 1, \"72\": 1, \"106\": 1}, \"14\": {\"14\": 111, \"8\": 1}, \"90\": {\"90\": 153, \"69\": 1}, \"10\": {\"10\": 118, \"15\": 1, \"87\": 1, \"88\": 1, \"27\": 1}, \"63\": {\"63\": 16}, \"85\": {\"85\": 27, \"78\": 1}, \"64\": {\"64\": 14, \"84\": 1, \"129\": 1}, \"82\": {\"82\": 31, \"122\": 1}, \"58\": {\"58\": 15, \"27\": 1}, \"3\": {\"3\": 132, \"47\": 1, \"10\": 1, \"21\": 1, \"27\": 1}, \"54\": {\"54\": 16}, \"121\": {\"121\": 30, \"63\": 1, \"44\": 1}, \"42\": {\"42\": 21, \"119\": 1, \"9\": 2, \"49\": 1, \"98\": 1, \"11\": 1, \"8\": 1}, \"98\": {\"98\": 115, \"121\": 2, \"126\": 1, \"99\": 1, \"25\": 1}, \"123\": {\"123\": 16}, \"91\": {\"91\": 24}, \"83\": {\"83\": 26, \"119\": 1, \"106\": 1}, \"99\": {\"99\": 40}, \"112\": {\"112\": 16}, \"119\": {\"119\": 16}, \"70\": {\"70\": 117, \"102\": 1, \"88\": 4, \"67\": 1, \"117\": 1}, \"20\": {\"20\": 15, \"1\": 1}, \"120\": {\"120\": 20}, \"7\": {\"7\": 122, \"14\": 1, \"1\": 1}, \"60\": {\"60\": 32}, \"113\": {\"113\": 116, \"118\": 1, \"4\": 1}, \"37\": {\"37\": 14, \"23\": 1, \"9\": 1}, \"124\": {\"124\": 110}, \"27\": {\"27\": 97, \"111\": 1, \"10\": 1, \"126\": 1}, \"86\": {\"86\": 28}, \"127\": {\"127\": 102, \"0\": 2, \"3\": 1, \"111\": 1, \"122\": 1, \"1\": 1}, \"62\": {\"62\": 55, \"71\": 1, \"122\": 1, \"94\": 1, \"15\": 1, \"110\": 1}, \"122\": {\"122\": 80, \"3\": 1, \"33\": 1, \"121\": 1, \"1\": 1}, \"51\": {\"51\": 10, \"6\": 1, \"30\": 1, \"21\": 1, \"23\": 1, \"62\": 1, \"86\": 1}, \"109\": {\"109\": 113, \"1\": 1}, \"106\": {\"106\": 107, \"97\": 1, \"3\": 2, \"78\": 1, \"1\": 1, \"111\": 1, \"88\": 1}, \"94\": {\"94\": 87, \"7\": 1}, \"38\": {\"38\": 16}, \"129\": {\"129\": 27, \"59\": 1}, \"116\": {\"116\": 24, \"33\": 2, \"43\": 2}, \"107\": {\"107\": 118}, \"30\": {\"30\": 73, \"7\": 1, \"105\": 1, \"27\": 1}, \"102\": {\"102\": 131, \"15\": 1}, \"74\": {\"74\": 15, \"99\": 1}, \"101\": {\"101\": 128, \"0\": 3, \"106\": 1}, \"117\": {\"117\": 119, \"71\": 1, \"1\": 1, \"24\": 1, \"90\": 1, \"81\": 1}, \"1\": {\"1\": 97, \"88\": 3, \"122\": 1, \"24\": 2, \"15\": 1, \"127\": 1, \"3\": 1, \"21\": 1, \"14\": 1}, \"84\": {\"84\": 129, \"105\": 1, \"14\": 1, \"4\": 1}, \"17\": {\"17\": 20}, \"6\": {\"6\": 24}, \"110\": {\"110\": 122, \"24\": 1, \"1\": 1}, \"77\": {\"77\": 12}, \"8\": {\"8\": 128, \"3\": 1, \"73\": 1, \"127\": 1, \"110\": 1}, \"73\": {\"73\": 21, \"10\": 1, \"0\": 1, \"36\": 1}, \"126\": {\"126\": 121, \"43\": 1, \"24\": 1, \"88\": 1}, \"57\": {\"57\": 16}, \"95\": {\"95\": 31, \"8\": 1}, \"103\": {\"103\": 16}, \"97\": {\"97\": 19, \"78\": 1}, \"39\": {\"110\": 1, \"39\": 91, \"126\": 1, \"84\": 1, \"106\": 1, \"113\": 1, \"21\": 2, \"108\": 1, \"87\": 1}, \"100\": {\"100\": 20}, \"40\": {\"40\": 109, \"69\": 1}, \"36\": {\"36\": 122, \"24\": 2, \"84\": 1, \"21\": 1}, \"19\": {\"19\": 28}, \"118\": {\"118\": 109, \"3\": 1, \"24\": 1, \"12\": 1}, \"56\": {\"56\": 12}, \"26\": {\"26\": 125, \"84\": 1}, \"5\": {\"5\": 134, \"106\": 1, \"4\": 1}, \"21\": {\"21\": 37, \"97\": 1, \"78\": 1, \"84\": 1}, \"22\": {\"22\": 15, \"36\": 1}, \"68\": {\"68\": 16}, \"9\": {\"9\": 28}, \"66\": {\"66\": 15, \"50\": 1}, \"87\": {\"87\": 121, \"105\": 1, \"43\": 1, \"110\": 1}, \"71\": {\"71\": 100, \"19\": 1, \"43\": 1, \"21\": 1, \"4\": 1}, \"115\": {\"115\": 15, \"72\": 1}, \"23\": {\"17\": 1, \"23\": 7, \"56\": 1, \"80\": 1, \"121\": 1, \"51\": 1, \"47\": 1, \"10\": 1, \"118\": 1, \"123\": 1}, \"33\": {\"33\": 116, \"5\": 1, \"7\": 1}, \"35\": {\"35\": 11, \"3\": 1}, \"125\": {\"125\": 127, \"43\": 2, \"90\": 1, \"92\": 1, \"10\": 1}, \"47\": {\"125\": 1, \"47\": 11}, \"79\": {\"79\": 16}, \"53\": {\"53\": 16}, \"67\": {\"67\": 12, \"113\": 1, \"33\": 1, \"106\": 1, \"104\": 1}, \"80\": {\"80\": 16}, \"105\": {\"105\": 94, \"43\": 1, \"36\": 1, \"3\": 1, \"70\": 1, \"39\": 1, \"106\": 1}, \"76\": {\"76\": 16}, \"46\": {\"46\": 20}, \"34\": {\"34\": 27, \"120\": 1, \"98\": 2, \"75\": 1, \"72\": 1}, \"32\": {\"32\": 27, \"128\": 1}, \"13\": {\"13\": 16}, \"78\": {\"78\": 32, \"106\": 1, \"12\": 1, \"4\": 1, \"1\": 1}, \"41\": {\"41\": 16}, \"69\": {\"69\": 124, \"88\": 1, \"4\": 1, \"71\": 1, \"27\": 1}, \"88\": {\"88\": 116, \"59\": 1, \"74\": 1, \"108\": 2, \"70\": 7, \"124\": 1, \"3\": 1, \"5\": 1, \"126\": 1, \"90\": 1}, \"15\": {\"15\": 124, \"106\": 2, \"21\": 1, \"10\": 1}, \"61\": {\"61\": 15, \"35\": 1}, \"0\": {\"0\": 111, \"24\": 1, \"105\": 2, \"27\": 1, \"4\": 1}, \"104\": {\"104\": 15, \"70\": 1}, \"48\": {\"48\": 15, \"68\": 1}, \"25\": {\"25\": 16}, \"75\": {\"75\": 16}, \"81\": {\"81\": 34, \"69\": 1, \"15\": 1}, \"50\": {\"50\": 16}, \"52\": {\"52\": 20}, \"16\": {\"16\": 117, \"70\": 1, \"3\": 1, \"114\": 1}, \"44\": {\"44\": 63, \"2\": 1}, \"29\": {\"29\": 30, \"21\": 1, \"1\": 1}, \"93\": {\"93\": 123, \"84\": 1}, \"18\": {\"18\": 114}, \"49\": {\"49\": 32}, \"55\": {\"55\": 16}, \"59\": {\"59\": 11, \"21\": 1}, \"128\": {\"128\": 19, \"62\": 1, \"28\": 1, \"98\": 2, \"91\": 1}, \"24\": {\"24\": 113, \"0\": 1, \"36\": 3, \"7\": 1, \"111\": 1, \"10\": 1}, \"65\": {\"65\": 12}, \"92\": {\"92\": 28}}, \"W_1\": {\"108\": {\"108\": 124}, \"40\": {\"40\": 136}, \"68\": {\"68\": 15, \"4\": 1}, \"23\": {\"23\": 22, \"63\": 2}, \"26\": {\"26\": 118, \"12\": 1, \"94\": 1}, \"64\": {\"64\": 16}, \"22\": {\"22\": 14, \"2\": 1, \"43\": 1}, \"3\": {\"3\": 85, \"71\": 1, \"1\": 1, \"10\": 1}, \"4\": {\"4\": 99, \"12\": 1}, \"70\": {\"70\": 114, \"39\": 1, \"6\": 1, \"12\": 2, \"24\": 1, \"94\": 1}, \"57\": {\"57\": 11, \"53\": 1}, \"79\": {\"79\": 12}, \"9\": {\"9\": 32}, \"89\": {\"89\": 36}, \"110\": {\"110\": 128}, \"102\": {\"102\": 118, \"14\": 1, \"118\": 1}, \"31\": {\"31\": 16}, \"58\": {\"58\": 11, \"52\": 1}, \"47\": {\"47\": 12}, \"24\": {\"24\": 88, \"12\": 1, \"27\": 1, \"18\": 1, \"108\": 1}, \"19\": {\"19\": 28}, \"11\": {\"11\": 132}, \"52\": {\"52\": 20}, \"17\": {\"17\": 13, \"68\": 2, \"53\": 1}, \"25\": {\"25\": 16}, \"69\": {\"69\": 105, \"43\": 1, \"101\": 1, \"14\": 1}, \"96\": {\"96\": 14, \"17\": 1, \"23\": 1, \"49\": 1, \"126\": 1, \"35\": 1, \"5\": 1}, \"109\": {\"109\": 111, \"3\": 1, \"126\": 1, \"43\": 1}, \"115\": {\"115\": 12}, \"83\": {\"83\": 27, \"27\": 1}, \"84\": {\"84\": 127, \"88\": 1}, \"119\": {\"119\": 16}, \"122\": {\"122\": 82, \"70\": 1, \"78\": 1, \"43\": 1, \"4\": 1, \"21\": 1, \"39\": 1}, \"99\": {\"99\": 24}, \"1\": {\"1\": 133, \"129\": 1, \"39\": 1, \"127\": 1}, \"74\": {\"74\": 16}, \"85\": {\"85\": 32}, \"127\": {\"127\": 106, \"88\": 1, \"12\": 1}, \"111\": {\"111\": 119, \"24\": 1}, \"53\": {\"53\": 20}, \"88\": {\"88\": 131, \"126\": 1}, \"65\": {\"65\": 9, \"21\": 1, \"66\": 1, \"102\": 1}, \"7\": {\"7\": 134}, \"16\": {\"16\": 107, \"127\": 1}, \"128\": {\"128\": 21, \"0\": 1, \"72\": 1, \"70\": 1}, \"34\": {\"34\": 30, \"60\": 1, \"86\": 1}, \"129\": {\"129\": 26, \"2\": 2}, \"43\": {\"43\": 128}, \"92\": {\"92\": 28}, \"28\": {\"28\": 18, \"17\": 1, \"127\": 1}, \"27\": {\"27\": 92}, \"114\": {\"114\": 123, \"71\": 1}, \"73\": {\"73\": 20}, \"0\": {\"0\": 84}, \"104\": {\"104\": 16}, \"118\": {\"118\": 83, \"71\": 1}, \"41\": {\"41\": 16}, \"91\": {\"91\": 28}, \"124\": {\"124\": 122}, \"81\": {\"81\": 28}, \"63\": {\"63\": 16}, \"76\": {\"76\": 16}, \"10\": {\"10\": 118, \"53\": 1, \"43\": 1}, \"51\": {\"51\": 15, \"53\": 1}, \"82\": {\"82\": 36}, \"56\": {\"56\": 11, \"53\": 1}, \"30\": {\"30\": 52}, \"21\": {\"21\": 30, \"43\": 1, \"70\": 1, \"39\": 1, \"50\": 1, \"5\": 1, \"49\": 1, \"87\": 1, \"94\": 1, \"3\": 1, \"84\": 1}, \"46\": {\"46\": 12}, \"33\": {\"33\": 138}, \"101\": {\"101\": 121, \"27\": 1, \"16\": 1, \"26\": 1}, \"105\": {\"105\": 81, \"6\": 1, \"40\": 2}, \"50\": {\"50\": 15, \"36\": 1}, \"116\": {\"116\": 32}, \"77\": {\"77\": 16}, \"75\": {\"75\": 16}, \"95\": {\"95\": 36}, \"120\": {\"120\": 20}, \"18\": {\"18\": 108}, \"14\": {\"14\": 96}, \"44\": {\"44\": 76}, \"98\": {\"98\": 96}, \"121\": {\"121\": 32}, \"113\": {\"113\": 108}, \"103\": {\"103\": 16}, \"62\": {\"62\": 117, \"39\": 2, \"107\": 1}, \"32\": {\"32\": 30, \"0\": 1, \"23\": 1}, \"71\": {\"71\": 104, \"127\": 2, \"84\": 1, \"12\": 1}, \"94\": {\"94\": 90, \"12\": 1, \"88\": 1}, \"49\": {\"49\": 17, \"34\": 1, \"98\": 1, \"31\": 1}, \"12\": {\"12\": 101, \"71\": 1, \"21\": 1, \"43\": 1}, \"90\": {\"90\": 124}, \"93\": {\"93\": 121, \"4\": 1, \"43\": 1, \"87\": 1}, \"13\": {\"13\": 16}, \"67\": {\"23\": 1, \"67\": 15}, \"20\": {\"20\": 14, \"27\": 1, \"122\": 1}, \"2\": {\"2\": 32}, \"5\": {\"5\": 87, \"49\": 1}, \"54\": {\"54\": 15, \"75\": 1}, \"37\": {\"37\": 16}, \"38\": {\"38\": 16}, \"86\": {\"86\": 33, \"122\": 1, \"35\": 1, \"71\": 1}, \"55\": {\"55\": 12}, \"97\": {\"97\": 18, \"122\": 1, \"91\": 1}, \"29\": {\"29\": 28}, \"48\": {\"63\": 1, \"48\": 11}, \"60\": {\"60\": 15, \"99\": 1}, \"36\": {\"36\": 119, \"88\": 2, \"113\": 1}, \"42\": {\"58\": 1, \"42\": 21, \"91\": 3, \"49\": 1, \"21\": 1, \"86\": 1}, \"66\": {\"66\": 16}, \"126\": {\"126\": 127, \"5\": 1}, \"39\": {\"39\": 104}, \"107\": {\"107\": 123, \"39\": 1}, \"59\": {\"59\": 9, \"71\": 1, \"95\": 1, \"66\": 1}, \"117\": {\"117\": 138}, \"6\": {\"6\": 32}, \"123\": {\"123\": 16}, \"8\": {\"8\": 123, \"39\": 1}, \"112\": {\"112\": 15, \"86\": 1}, \"80\": {\"80\": 15, \"6\": 1}, \"125\": {\"125\": 136}, \"61\": {\"61\": 12}, \"45\": {\"45\": 7, \"115\": 1, \"86\": 1, \"129\": 1, \"64\": 2}, \"72\": {\"72\": 32}, \"87\": {\"87\": 107, \"27\": 1}, \"106\": {\"106\": 123, \"113\": 1}, \"35\": {\"35\": 9, \"87\": 1, \"96\": 1, \"6\": 1}, \"78\": {\"78\": 11, \"87\": 1, \"43\": 1, \"83\": 1, \"5\": 1, \"105\": 1}, \"15\": {\"15\": 98, \"39\": 1, \"40\": 2, \"111\": 1, \"12\": 1, \"21\": 1}, \"100\": {\"100\": 16}}, \"C_5\": {\"47\": {\"47\": 100}, \"53\": {\"53\": 150}, \"29\": {\"29\": 126}, \"52\": {\"52\": 130}, \"55\": {\"55\": 144}, \"17\": {\"17\": 116}, \"42\": {\"42\": 40}, \"33\": {\"33\": 32}, \"11\": {\"11\": 148}, \"19\": {\"19\": 118}, \"1\": {\"1\": 144}, \"44\": {\"44\": 142}, \"49\": {\"49\": 36}, \"4\": {\"4\": 100}, \"6\": {\"6\": 116}, \"39\": {\"39\": 20}, \"50\": {\"50\": 148}, \"56\": {\"56\": 130}, \"25\": {\"25\": 144}, \"28\": {\"28\": 32}, \"35\": {\"35\": 36}, \"24\": {\"24\": 80}, \"21\": {\"21\": 132}, \"45\": {\"45\": 123, \"6\": 1}, \"16\": {\"16\": 144}, \"37\": {\"37\": 24}, \"57\": {\"57\": 132}, \"34\": {\"34\": 36}, \"38\": {\"38\": 32}, \"48\": {\"48\": 130}, \"26\": {\"26\": 24}, \"9\": {\"9\": 152}, \"18\": {\"18\": 64}, \"3\": {\"3\": 97, \"46\": 3}, \"23\": {\"23\": 124}, \"15\": {\"15\": 154}, \"10\": {\"10\": 68}, \"46\": {\"46\": 148}, \"22\": {\"22\": 28}, \"54\": {\"54\": 112}, \"27\": {\"27\": 160}, \"41\": {\"41\": 28}, \"31\": {\"31\": 36}, \"0\": {\"0\": 124}, \"7\": {\"7\": 32}, \"2\": {\"2\": 28}, \"14\": {\"14\": 40, \"5\": 2, \"54\": 1, \"29\": 1}, \"40\": {\"40\": 124}, \"5\": {\"5\": 128}, \"12\": {\"12\": 96}, \"43\": {\"43\": 142}, \"13\": {\"13\": 148}, \"36\": {\"36\": 92}, \"8\": {\"8\": 150}, \"32\": {\"32\": 32}, \"30\": {\"30\": 128}, \"51\": {\"51\": 138}, \"20\": {\"20\": 138}}, \"C_1\": {\"46\": {\"46\": 140}, \"16\": {\"16\": 134}, \"26\": {\"26\": 24}, \"10\": {\"10\": 96}, \"9\": {\"9\": 156}, \"28\": {\"28\": 28}, \"51\": {\"51\": 156}, \"1\": {\"1\": 100}, \"55\": {\"55\": 148}, \"27\": {\"27\": 124}, \"22\": {\"22\": 124}, \"52\": {\"52\": 126}, \"3\": {\"3\": 140}, \"33\": {\"33\": 32}, \"47\": {\"47\": 120}, \"42\": {\"42\": 40}, \"12\": {\"12\": 116}, \"23\": {\"23\": 132}, \"49\": {\"49\": 32}, \"7\": {\"7\": 28}, \"4\": {\"4\": 132}, \"50\": {\"50\": 134}, \"19\": {\"19\": 154}, \"11\": {\"11\": 140}, \"31\": {\"31\": 28}, \"41\": {\"41\": 24}, \"56\": {\"56\": 138}, \"0\": {\"0\": 148}, \"57\": {\"57\": 128}, \"53\": {\"53\": 140}, \"43\": {\"43\": 144}, \"37\": {\"37\": 32}, \"2\": {\"2\": 36}, \"6\": {\"6\": 96}, \"13\": {\"13\": 150}, \"18\": {\"18\": 72}, \"36\": {\"36\": 64}, \"29\": {\"29\": 140}, \"39\": {\"39\": 28}, \"17\": {\"17\": 64}, \"21\": {\"21\": 124}, \"25\": {\"25\": 132}, \"45\": {\"45\": 142}, \"38\": {\"38\": 24}, \"30\": {\"30\": 120}, \"24\": {\"24\": 108}, \"20\": {\"20\": 140}, \"8\": {\"8\": 140}, \"35\": {\"35\": 36}, \"54\": {\"54\": 104}, \"5\": {\"5\": 148}, \"48\": {\"48\": 144}, \"15\": {\"15\": 142}, \"34\": {\"34\": 24}, \"14\": {\"14\": 21, \"32\": 1, \"6\": 1, \"8\": 1}, \"32\": {\"32\": 32}, \"40\": {\"40\": 148}, \"44\": {\"44\": 136}}, \"W_2\": {\"91\": {\"91\": 26, \"49\": 1, \"94\": 1}, \"12\": {\"12\": 83, \"87\": 1, \"16\": 1, \"122\": 1, \"118\": 1, \"10\": 1}, \"101\": {\"101\": 147, \"36\": 1}, \"121\": {\"121\": 35, \"70\": 1}, \"118\": {\"118\": 66, \"94\": 1, \"87\": 1}, \"10\": {\"10\": 56, \"122\": 1, \"70\": 1, \"11\": 1, \"52\": 1}, \"117\": {\"117\": 118, \"5\": 1, \"44\": 1}, \"110\": {\"110\": 34, \"120\": 1, \"10\": 2, \"14\": 1, \"90\": 1, \"36\": 1}, \"97\": {\"97\": 20}, \"28\": {\"28\": 20}, \"88\": {\"88\": 119, \"24\": 1, \"43\": 1, \"3\": 2, \"70\": 1}, \"17\": {\"17\": 16}, \"126\": {\"126\": 111, \"90\": 1, \"13\": 1, \"88\": 1}, \"33\": {\"33\": 125, \"4\": 1, \"70\": 2}, \"86\": {\"86\": 32}, \"106\": {\"106\": 114, \"7\": 1, \"122\": 1, \"24\": 1, \"78\": 1, \"27\": 1, \"70\": 1}, \"54\": {\"54\": 20}, \"125\": {\"125\": 131, \"3\": 1}, \"83\": {\"83\": 39, \"0\": 1}, \"98\": {\"98\": 117, \"113\": 1, \"117\": 1, \"26\": 1}, \"11\": {\"11\": 77, \"94\": 1, \"12\": 1, \"24\": 1}, \"32\": {\"32\": 35, \"12\": 1}, \"42\": {\"42\": 28}, \"103\": {\"103\": 16}, \"87\": {\"87\": 103, \"39\": 1, \"5\": 1, \"106\": 1, \"109\": 1, \"94\": 1, \"93\": 1, \"78\": 1, \"84\": 1, \"24\": 1}, \"61\": {\"61\": 16, \"97\": 1, \"24\": 1, \"108\": 1, \"21\": 1}, \"13\": {\"13\": 12, \"61\": 1, \"14\": 1, \"34\": 1, \"122\": 1}, \"4\": {\"4\": 83, \"0\": 1, \"71\": 1, \"109\": 1}, \"15\": {\"15\": 116, \"25\": 1, \"0\": 2, \"105\": 1}, \"120\": {\"120\": 20}, \"80\": {\"80\": 16}, \"72\": {\"72\": 28}, \"64\": {\"64\": 15, \"3\": 1}, \"81\": {\"81\": 22, \"88\": 1, \"12\": 1}, \"102\": {\"102\": 112}, \"76\": {\"76\": 16}, \"49\": {\"49\": 19, \"3\": 1, \"58\": 1, \"59\": 1, \"7\": 1, \"85\": 1}, \"129\": {\"129\": 32}, \"89\": {\"89\": 34, \"15\": 1, \"82\": 1}, \"52\": {\"52\": 18, \"49\": 1, \"68\": 1}, \"35\": {\"35\": 12}, \"53\": {\"53\": 16}, \"26\": {\"26\": 124, \"87\": 1, \"3\": 1, \"24\": 1, \"10\": 1}, \"96\": {\"96\": 20}, \"27\": {\"27\": 56, \"21\": 3, \"10\": 1, \"70\": 1, \"3\": 1, \"84\": 1, \"62\": 1, \"113\": 1, \"7\": 1, \"78\": 1, \"87\": 1}, \"24\": {\"24\": 104, \"27\": 1, \"69\": 1, \"39\": 1, \"70\": 1, \"107\": 1, \"10\": 1, \"3\": 1, \"94\": 1}, \"82\": {\"82\": 32, \"15\": 2, \"3\": 1, \"7\": 1}, \"18\": {\"18\": 123, \"46\": 1, \"39\": 1, \"16\": 1, \"10\": 1, \"14\": 1}, \"69\": {\"69\": 118, \"70\": 1, \"5\": 1, \"109\": 1, \"106\": 1}, \"47\": {\"47\": 12}, \"85\": {\"85\": 32}, \"2\": {\"2\": 32}, \"67\": {\"67\": 15, \"24\": 1}, \"39\": {\"39\": 108, \"70\": 2, \"18\": 1, \"5\": 1}, \"99\": {\"99\": 32}, \"74\": {\"74\": 13, \"3\": 1, \"10\": 2}, \"105\": {\"105\": 128, \"7\": 1, \"5\": 1, \"36\": 1, \"87\": 1}, \"70\": {\"70\": 116, \"78\": 2, \"3\": 2, \"122\": 1, \"69\": 1}, \"55\": {\"55\": 16}, \"30\": {\"30\": 109, \"70\": 2, \"61\": 1}, \"60\": {\"60\": 23, \"87\": 1, \"116\": 1, \"23\": 1, \"46\": 1, \"57\": 1}, \"92\": {\"92\": 25, \"5\": 1, \"71\": 1, \"69\": 1}, \"45\": {\"45\": 15, \"70\": 1}, \"127\": {\"127\": 111, \"89\": 1}, \"9\": {\"110\": 1, \"9\": 30, \"10\": 1}, \"115\": {\"115\": 12}, \"73\": {\"73\": 28}, \"108\": {\"108\": 138}, \"114\": {\"114\": 113, \"7\": 2, \"70\": 1}, \"63\": {\"63\": 19, \"97\": 1}, \"93\": {\"93\": 128}, \"7\": {\"7\": 132}, \"31\": {\"31\": 19, \"78\": 1}, \"123\": {\"123\": 16}, \"128\": {\"19\": 2, \"128\": 19, \"54\": 1, \"70\": 1, \"30\": 1}, \"0\": {\"0\": 110, \"24\": 3, \"69\": 1, \"83\": 1, \"70\": 1}, \"3\": {\"3\": 134, \"18\": 1, \"39\": 1}, \"19\": {\"19\": 28}, \"57\": {\"57\": 19, \"122\": 1}, \"78\": {\"78\": 45, \"70\": 1, \"43\": 1, \"95\": 1}, \"95\": {\"95\": 35, \"70\": 1}, \"40\": {\"40\": 131, \"71\": 2, \"109\": 1, \"5\": 1, \"94\": 1, \"0\": 1, \"3\": 2, \"7\": 1}, \"14\": {\"14\": 41, \"3\": 1, \"70\": 1, \"127\": 1, \"122\": 1, \"88\": 1, \"118\": 1, \"94\": 1}, \"36\": {\"36\": 120, \"21\": 1, \"118\": 1, \"70\": 1, \"71\": 2, \"107\": 1, \"87\": 1, \"3\": 1}, \"56\": {\"56\": 12}, \"111\": {\"111\": 127, \"24\": 1}, \"59\": {\"59\": 14, \"106\": 1, \"24\": 1}, \"79\": {\"79\": 14, \"40\": 1, \"127\": 1}, \"62\": {\"62\": 121, \"0\": 1}, \"21\": {\"21\": 43, \"24\": 1, \"17\": 1, \"10\": 1, \"70\": 1, \"40\": 1}, \"48\": {\"48\": 20}, \"16\": {\"16\": 119, \"12\": 1, \"70\": 1, \"24\": 1, \"5\": 1, \"1\": 1}, \"50\": {\"50\": 15, \"37\": 1}, \"44\": {\"44\": 95, \"98\": 1}, \"5\": {\"5\": 108, \"3\": 1, \"12\": 1}, \"20\": {\"20\": 15, \"24\": 1}, \"1\": {\"1\": 118, \"129\": 1, \"126\": 1}, \"65\": {\"65\": 18, \"49\": 1, \"71\": 1}, \"116\": {\"116\": 28}, \"51\": {\"51\": 19, \"71\": 1}, \"75\": {\"75\": 15, \"71\": 1}, \"100\": {\"100\": 16}, \"113\": {\"113\": 72}, \"41\": {\"41\": 20}, \"29\": {\"29\": 32}, \"23\": {\"23\": 42, \"111\": 1, \"110\": 1}, \"124\": {\"124\": 122, \"21\": 1, \"117\": 1}, \"68\": {\"68\": 15, \"10\": 1}, \"71\": {\"71\": 98, \"94\": 1, \"70\": 1}, \"107\": {\"107\": 54, \"94\": 1, \"15\": 1, \"25\": 1, \"42\": 1, \"114\": 1, \"109\": 2, \"129\": 1, \"10\": 1, \"82\": 1}, \"94\": {\"94\": 63, \"110\": 1}, \"77\": {\"77\": 15, \"39\": 1}, \"8\": {\"8\": 120, \"24\": 1, \"101\": 1}, \"46\": {\"46\": 16}, \"25\": {\"25\": 14, \"59\": 1, \"61\": 1}, \"122\": {\"122\": 135, \"11\": 1, \"109\": 1, \"5\": 1, \"81\": 1, \"23\": 1}, \"58\": {\"58\": 15, \"77\": 2, \"17\": 1, \"94\": 1, \"24\": 1}, \"6\": {\"6\": 31, \"101\": 1}, \"109\": {\"109\": 96, \"87\": 1, \"24\": 1, \"70\": 2}, \"119\": {\"119\": 19, \"24\": 1}, \"34\": {\"34\": 28, \"3\": 1, \"41\": 1, \"71\": 1, \"66\": 1}, \"90\": {\"90\": 138, \"6\": 1, \"26\": 1}, \"38\": {\"38\": 16}, \"104\": {\"29\": 1, \"104\": 17, \"3\": 1, \"19\": 1}, \"84\": {\"84\": 90, \"58\": 1, \"106\": 1}, \"112\": {\"112\": 16}, \"66\": {\"66\": 17, \"7\": 1, \"71\": 1, \"40\": 1}, \"22\": {\"22\": 20}, \"37\": {\"37\": 16}, \"43\": {\"43\": 118, \"0\": 1, \"62\": 1, \"84\": 1, \"70\": 2, \"3\": 1}}, \"C_2\": {\"36\": {\"36\": 116}, \"5\": {\"5\": 120}, \"45\": {\"45\": 128}, \"49\": {\"49\": 24}, \"50\": {\"50\": 136}, \"4\": {\"4\": 138}, \"43\": {\"43\": 148}, \"41\": {\"41\": 20}, \"37\": {\"37\": 36}, \"12\": {\"12\": 92}, \"33\": {\"33\": 28}, \"7\": {\"7\": 36}, \"56\": {\"56\": 140}, \"14\": {\"14\": 24}, \"52\": {\"52\": 124}, \"44\": {\"44\": 96}, \"48\": {\"48\": 144}, \"20\": {\"20\": 128}, \"55\": {\"55\": 144}, \"32\": {\"32\": 28}, \"40\": {\"40\": 136}, \"54\": {\"54\": 108}, \"17\": {\"17\": 104}, \"38\": {\"38\": 20}, \"24\": {\"24\": 96}, \"1\": {\"1\": 112}, \"6\": {\"6\": 124}, \"34\": {\"34\": 28}, \"11\": {\"11\": 136}, \"9\": {\"9\": 150}, \"8\": {\"8\": 152}, \"22\": {\"22\": 136}, \"26\": {\"26\": 24}, \"23\": {\"23\": 146}, \"10\": {\"10\": 112}, \"18\": {\"18\": 48}, \"13\": {\"13\": 116}, \"30\": {\"30\": 128}, \"42\": {\"42\": 36}, \"31\": {\"31\": 28}, \"46\": {\"46\": 128}, \"57\": {\"57\": 142}, \"47\": {\"47\": 138}, \"35\": {\"35\": 32}, \"15\": {\"15\": 132}, \"25\": {\"25\": 136}, \"19\": {\"19\": 136}, \"51\": {\"51\": 128}, \"53\": {\"53\": 134}, \"21\": {\"21\": 120}, \"39\": {\"39\": 28}, \"2\": {\"2\": 32}, \"16\": {\"16\": 150}, \"0\": {\"0\": 48}, \"3\": {\"3\": 92}, \"27\": {\"27\": 142}, \"28\": {\"28\": 28}, \"29\": {\"29\": 128}}, \"O_14\": {\"15\": {\"2\": 23, \"5\": 23, \"15\": 37, \"4\": 29, \"14\": 21, \"7\": 29, \"11\": 2, \"13\": 18, \"1\": 18, \"3\": 14, \"10\": 6, \"6\": 18, \"0\": 2}, \"3\": {\"13\": 13, \"1\": 20, \"5\": 24, \"3\": 31, \"4\": 33, \"11\": 15, \"10\": 21, \"7\": 13, \"2\": 14, \"14\": 16, \"15\": 7, \"9\": 3, \"6\": 9, \"0\": 21}, \"6\": {\"2\": 36, \"10\": 21, \"14\": 39, \"3\": 13, \"15\": 22, \"13\": 43, \"11\": 2, \"4\": 13, \"6\": 37, \"7\": 3, \"5\": 7, \"0\": 3, \"1\": 1}, \"1\": {\"11\": 15, \"1\": 42, \"3\": 22, \"4\": 21, \"2\": 13, \"0\": 18, \"5\": 28, \"7\": 25, \"9\": 4, \"15\": 15, \"10\": 10, \"8\": 12, \"14\": 9, \"6\": 2, \"13\": 4}, \"8\": {\"8\": 75, \"9\": 51, \"3\": 10, \"0\": 21, \"7\": 13, \"5\": 9, \"12\": 21, \"11\": 12, \"1\": 20, \"10\": 5, \"4\": 2, \"14\": 1}, \"10\": {\"11\": 22, \"0\": 25, \"2\": 15, \"1\": 6, \"14\": 16, \"3\": 26, \"10\": 40, \"6\": 13, \"5\": 24, \"13\": 15, \"4\": 25, \"7\": 3, \"9\": 6, \"15\": 3, \"12\": 1}, \"9\": {\"0\": 26, \"9\": 68, \"8\": 30, \"11\": 30, \"5\": 4, \"12\": 54, \"3\": 10, \"10\": 6, \"4\": 5, \"1\": 5, \"14\": 1, \"2\": 1}, \"13\": {\"5\": 13, \"10\": 24, \"6\": 42, \"2\": 29, \"4\": 15, \"3\": 10, \"14\": 36, \"7\": 3, \"13\": 40, \"15\": 13, \"1\": 5, \"11\": 5, \"0\": 5}, \"12\": {\"8\": 34, \"12\": 88, \"9\": 79, \"11\": 21, \"0\": 10, \"10\": 2, \"3\": 2, \"14\": 1, \"2\": 1, \"4\": 2}, \"5\": {\"0\": 17, \"1\": 33, \"4\": 25, \"13\": 12, \"2\": 16, \"3\": 29, \"7\": 16, \"5\": 22, \"6\": 10, \"10\": 19, \"11\": 4, \"15\": 17, \"14\": 16, \"8\": 3, \"9\": 1}, \"0\": {\"10\": 28, \"0\": 32, \"13\": 6, \"9\": 18, \"14\": 17, \"5\": 14, \"3\": 26, \"2\": 10, \"4\": 21, \"7\": 5, \"11\": 28, \"12\": 2, \"1\": 19, \"15\": 4, \"8\": 8, \"6\": 2}, \"2\": {\"14\": 30, \"2\": 27, \"6\": 20, \"4\": 15, \"5\": 24, \"3\": 24, \"15\": 19, \"11\": 7, \"10\": 18, \"13\": 22, \"1\": 14, \"7\": 9, \"0\": 11}, \"11\": {\"11\": 47, \"10\": 27, \"3\": 29, \"0\": 34, \"5\": 10, \"9\": 23, \"2\": 4, \"14\": 10, \"12\": 14, \"4\": 11, \"6\": 6, \"13\": 8, \"8\": 8, \"1\": 5, \"15\": 1, \"7\": 3}, \"14\": {\"5\": 24, \"2\": 20, \"10\": 33, \"14\": 33, \"4\": 24, \"13\": 25, \"11\": 7, \"7\": 7, \"6\": 22, \"3\": 12, \"15\": 11, \"1\": 8, \"8\": 2, \"0\": 12}, \"7\": {\"13\": 2, \"1\": 41, \"4\": 25, \"15\": 26, \"0\": 13, \"8\": 9, \"7\": 42, \"5\": 31, \"10\": 4, \"3\": 15, \"11\": 3, \"2\": 20, \"14\": 8, \"6\": 1}, \"4\": {\"1\": 27, \"2\": 19, \"6\": 9, \"4\": 23, \"5\": 30, \"10\": 24, \"15\": 10, \"0\": 17, \"9\": 5, \"13\": 13, \"7\": 17, \"14\": 16, \"3\": 19, \"11\": 9, \"8\": 1, \"12\": 1}}, \"O_20\": {\"3\": {\"2\": 20, \"6\": 11, \"9\": 38, \"3\": 22, \"7\": 18, \"1\": 15, \"13\": 15, \"8\": 7, \"14\": 7, \"10\": 13, \"0\": 13, \"5\": 12, \"15\": 14, \"12\": 15, \"11\": 10, \"4\": 10}, \"15\": {\"15\": 34, \"2\": 22, \"0\": 24, \"12\": 20, \"7\": 10, \"13\": 22, \"3\": 13, \"1\": 24, \"5\": 20, \"9\": 21, \"8\": 10, \"6\": 6, \"10\": 1, \"11\": 6, \"14\": 1, \"4\": 6}, \"8\": {\"7\": 23, \"1\": 8, \"15\": 11, \"8\": 25, \"12\": 11, \"5\": 14, \"10\": 16, \"0\": 14, \"6\": 24, \"14\": 18, \"2\": 19, \"4\": 16, \"9\": 17, \"3\": 15, \"13\": 5, \"11\": 4}, \"4\": {\"2\": 9, \"6\": 18, \"1\": 9, \"10\": 26, \"12\": 12, \"0\": 10, \"7\": 8, \"11\": 4, \"9\": 26, \"8\": 21, \"3\": 23, \"5\": 17, \"14\": 22, \"4\": 22, \"15\": 7, \"13\": 6}, \"14\": {\"14\": 34, \"4\": 27, \"10\": 30, \"3\": 18, \"9\": 13, \"8\": 29, \"15\": 5, \"6\": 32, \"12\": 14, \"2\": 9, \"5\": 7, \"7\": 13, \"11\": 3, \"0\": 3, \"1\": 3}, \"0\": {\"5\": 23, \"15\": 24, \"9\": 18, \"8\": 10, \"3\": 19, \"1\": 15, \"13\": 28, \"11\": 14, \"4\": 10, \"12\": 18, \"10\": 4, \"0\": 19, \"2\": 16, \"7\": 11, \"14\": 4, \"6\": 7}, \"7\": {\"3\": 21, \"2\": 20, \"15\": 14, \"5\": 19, \"13\": 13, \"9\": 18, \"11\": 10, \"12\": 16, \"1\": 21, \"6\": 15, \"0\": 16, \"7\": 20, \"14\": 9, \"10\": 6, \"4\": 10, \"8\": 12}, \"6\": {\"14\": 24, \"8\": 29, \"1\": 10, \"10\": 24, \"3\": 17, \"7\": 19, \"4\": 15, \"2\": 16, \"9\": 17, \"11\": 7, \"6\": 26, \"5\": 11, \"12\": 9, \"0\": 6, \"15\": 5, \"13\": 5}, \"10\": {\"14\": 37, \"9\": 14, \"10\": 30, \"6\": 30, \"3\": 19, \"5\": 10, \"2\": 9, \"8\": 23, \"4\": 28, \"7\": 10, \"0\": 4, \"12\": 17, \"11\": 4, \"13\": 2, \"1\": 3}, \"5\": {\"3\": 17, \"0\": 12, \"9\": 29, \"5\": 18, \"10\": 9, \"13\": 13, \"8\": 13, \"2\": 18, \"12\": 15, \"1\": 23, \"15\": 21, \"6\": 8, \"7\": 18, \"11\": 13, \"14\": 7, \"4\": 6}, \"2\": {\"1\": 21, \"14\": 4, \"0\": 15, \"7\": 15, \"12\": 19, \"5\": 19, \"10\": 8, \"11\": 14, \"3\": 14, \"9\": 17, \"4\": 15, \"13\": 12, \"15\": 22, \"2\": 25, \"8\": 12, \"6\": 8}, \"12\": {\"8\": 13, \"15\": 17, \"10\": 8, \"1\": 19, \"9\": 23, \"11\": 11, \"2\": 17, \"12\": 15, \"7\": 16, \"6\": 11, \"0\": 16, \"5\": 19, \"14\": 4, \"3\": 27, \"13\": 15, \"4\": 9}, \"9\": {\"3\": 22, \"15\": 28, \"2\": 19, \"1\": 20, \"0\": 13, \"11\": 6, \"12\": 19, \"10\": 7, \"8\": 14, \"7\": 18, \"6\": 11, \"9\": 20, \"5\": 16, \"4\": 11, \"13\": 11, \"14\": 5}, \"1\": {\"5\": 17, \"15\": 23, \"1\": 17, \"10\": 11, \"3\": 19, \"11\": 8, \"4\": 10, \"2\": 20, \"13\": 21, \"0\": 17, \"6\": 5, \"12\": 19, \"14\": 3, \"9\": 23, \"8\": 14, \"7\": 13}, \"11\": {\"15\": 12, \"11\": 48, \"13\": 28, \"1\": 14, \"9\": 11, \"7\": 25, \"8\": 14, \"2\": 20, \"6\": 13, \"12\": 11, \"14\": 5, \"5\": 7, \"3\": 11, \"0\": 14, \"4\": 4, \"10\": 3}, \"13\": {\"13\": 28, \"3\": 20, \"0\": 18, \"9\": 20, \"12\": 13, \"8\": 5, \"11\": 22, \"7\": 17, \"5\": 17, \"10\": 3, \"15\": 28, \"2\": 18, \"4\": 6, \"14\": 2, \"1\": 17, \"6\": 6}}, \"O_38\": {\"5\": {\"8\": 29, \"3\": 13, \"13\": 13, \"9\": 16, \"14\": 4, \"10\": 10, \"5\": 25, \"15\": 25, \"7\": 18, \"0\": 22, \"2\": 16, \"1\": 17, \"6\": 31, \"11\": 1}, \"8\": {\"13\": 14, \"5\": 30, \"8\": 25, \"9\": 11, \"15\": 37, \"0\": 29, \"10\": 19, \"14\": 10, \"6\": 12, \"3\": 9, \"7\": 20, \"1\": 12, \"2\": 5, \"11\": 5, \"12\": 2}, \"11\": {\"11\": 86, \"15\": 4, \"14\": 55, \"7\": 5, \"2\": 13, \"10\": 26, \"4\": 19, \"8\": 3, \"0\": 2, \"12\": 17, \"13\": 9, \"5\": 1}, \"1\": {\"5\": 19, \"3\": 3, \"1\": 73, \"15\": 39, \"13\": 30, \"6\": 25, \"10\": 3, \"0\": 4, \"8\": 5, \"9\": 15, \"2\": 21, \"14\": 1, \"11\": 1, \"7\": 1}, \"10\": {\"13\": 16, \"0\": 16, \"8\": 22, \"11\": 22, \"3\": 6, \"14\": 35, \"10\": 36, \"12\": 10, \"7\": 20, \"2\": 14, \"5\": 20, \"6\": 2, \"15\": 15, \"9\": 1, \"4\": 3, \"1\": 2}, \"15\": {\"13\": 32, \"1\": 28, \"15\": 40, \"5\": 15, \"2\": 27, \"10\": 10, \"6\": 11, \"0\": 11, \"8\": 28, \"14\": 14, \"9\": 9, \"7\": 9, \"12\": 2, \"11\": 2, \"3\": 2}, \"3\": {\"7\": 18, \"3\": 59, \"5\": 34, \"0\": 29, \"15\": 6, \"8\": 20, \"10\": 9, \"6\": 25, \"9\": 33, \"1\": 4, \"12\": 1, \"13\": 1, \"14\": 1}, \"7\": {\"6\": 4, \"8\": 22, \"0\": 38, \"7\": 63, \"5\": 24, \"12\": 11, \"14\": 6, \"3\": 18, \"15\": 9, \"10\": 27, \"11\": 3, \"4\": 5, \"9\": 7, \"13\": 3}, \"4\": {\"11\": 9, \"4\": 140, \"12\": 64, \"10\": 8, \"7\": 10, \"14\": 6, \"5\": 1, \"3\": 1, \"0\": 1}, \"14\": {\"15\": 11, \"11\": 44, \"2\": 29, \"13\": 15, \"14\": 64, \"4\": 6, \"8\": 8, \"10\": 24, \"12\": 20, \"7\": 5, \"0\": 5, \"1\": 5, \"5\": 3, \"6\": 1}, \"9\": {\"9\": 46, \"8\": 13, \"1\": 21, \"5\": 35, \"0\": 20, \"6\": 40, \"3\": 32, \"15\": 17, \"7\": 8, \"13\": 5, \"10\": 1, \"14\": 2}, \"12\": {\"4\": 27, \"12\": 83, \"7\": 21, \"10\": 35, \"8\": 8, \"14\": 26, \"11\": 21, \"0\": 12, \"5\": 5, \"15\": 2}, \"6\": {\"9\": 47, \"6\": 52, \"1\": 22, \"0\": 18, \"5\": 25, \"10\": 2, \"13\": 11, \"3\": 20, \"8\": 11, \"15\": 20, \"7\": 6, \"2\": 5, \"14\": 1}, \"2\": {\"13\": 43, \"10\": 14, \"2\": 57, \"15\": 32, \"14\": 46, \"5\": 6, \"11\": 20, \"9\": 3, \"7\": 5, \"1\": 7, \"0\": 5, \"8\": 2}, \"0\": {\"13\": 9, \"10\": 20, \"0\": 25, \"5\": 34, \"6\": 10, \"7\": 28, \"15\": 17, \"14\": 5, \"8\": 36, \"3\": 15, \"11\": 6, \"9\": 12, \"1\": 7, \"12\": 10, \"4\": 2, \"2\": 4}, \"13\": {\"14\": 17, \"15\": 33, \"2\": 38, \"8\": 20, \"13\": 39, \"10\": 13, \"6\": 10, \"1\": 30, \"0\": 9, \"5\": 13, \"7\": 5, \"11\": 8, \"9\": 2, \"3\": 3}}, \"O_8\": {\"9\": {\"9\": 152, \"13\": 11, \"5\": 31, \"11\": 3, \"10\": 15, \"6\": 5, \"0\": 10, \"4\": 4, \"14\": 5, \"1\": 3, \"7\": 1}, \"10\": {\"13\": 31, \"10\": 27, \"7\": 17, \"5\": 26, \"0\": 14, \"14\": 20, \"11\": 25, \"8\": 7, \"4\": 23, \"2\": 3, \"15\": 5, \"6\": 17, \"3\": 4, \"1\": 17, \"9\": 1, \"12\": 3}, \"13\": {\"6\": 25, \"13\": 29, \"5\": 21, \"0\": 20, \"10\": 30, \"14\": 21, \"11\": 9, \"7\": 20, \"2\": 10, \"4\": 22, \"1\": 13, \"8\": 8, \"12\": 4, \"3\": 6, \"15\": 2}, \"0\": {\"14\": 22, \"7\": 21, \"10\": 23, \"13\": 32, \"11\": 14, \"3\": 8, \"4\": 22, \"12\": 6, \"6\": 22, \"2\": 17, \"0\": 21, \"5\": 13, \"8\": 5, \"15\": 5, \"1\": 9}, \"1\": {\"5\": 30, \"7\": 20, \"6\": 15, \"1\": 18, \"14\": 22, \"12\": 6, \"10\": 9, \"13\": 23, \"8\": 17, \"0\": 10, \"3\": 4, \"11\": 26, \"15\": 20, \"4\": 15, \"2\": 5}, \"15\": {\"15\": 34, \"12\": 28, \"1\": 13, \"11\": 18, \"5\": 5, \"7\": 14, \"8\": 25, \"2\": 22, \"3\": 27, \"4\": 12, \"14\": 9, \"0\": 5, \"6\": 15, \"13\": 9, \"10\": 4}, \"5\": {\"6\": 21, \"1\": 17, \"5\": 28, \"13\": 25, \"10\": 38, \"11\": 20, \"3\": 1, \"9\": 4, \"14\": 24, \"8\": 6, \"4\": 16, \"15\": 3, \"0\": 18, \"7\": 18, \"2\": 1}, \"3\": {\"2\": 38, \"8\": 21, \"3\": 35, \"7\": 23, \"12\": 36, \"0\": 6, \"11\": 10, \"15\": 22, \"13\": 6, \"4\": 10, \"6\": 19, \"10\": 4, \"1\": 6, \"14\": 3, \"5\": 1}, \"6\": {\"8\": 15, \"7\": 19, \"4\": 19, \"5\": 22, \"14\": 18, \"0\": 16, \"11\": 13, \"13\": 15, \"6\": 29, \"10\": 10, \"1\": 20, \"15\": 8, \"3\": 8, \"12\": 11, \"2\": 17}, \"11\": {\"12\": 11, \"5\": 22, \"14\": 16, \"10\": 18, \"13\": 16, \"1\": 18, \"6\": 15, \"2\": 6, \"15\": 11, \"8\": 23, \"4\": 25, \"7\": 14, \"0\": 11, \"11\": 30, \"3\": 4}, \"8\": {\"2\": 15, \"14\": 8, \"7\": 14, \"1\": 19, \"8\": 24, \"15\": 30, \"11\": 24, \"3\": 19, \"12\": 22, \"6\": 19, \"4\": 18, \"10\": 10, \"13\": 6, \"0\": 6, \"5\": 6}, \"4\": {\"10\": 17, \"13\": 25, \"1\": 19, \"5\": 15, \"0\": 12, \"8\": 7, \"2\": 15, \"11\": 15, \"14\": 21, \"6\": 20, \"4\": 27, \"7\": 27, \"15\": 8, \"12\": 8, \"3\": 4}, \"12\": {\"15\": 35, \"12\": 43, \"13\": 3, \"11\": 13, \"2\": 23, \"8\": 38, \"4\": 7, \"7\": 10, \"3\": 27, \"6\": 17, \"1\": 9, \"0\": 5, \"5\": 2, \"14\": 5, \"10\": 3}, \"14\": {\"14\": 22, \"5\": 29, \"6\": 22, \"1\": 21, \"10\": 21, \"11\": 13, \"4\": 18, \"7\": 18, \"13\": 23, \"2\": 7, \"0\": 17, \"8\": 12, \"12\": 6, \"15\": 5, \"3\": 6}, \"2\": {\"3\": 27, \"12\": 21, \"11\": 8, \"7\": 22, \"15\": 21, \"6\": 24, \"2\": 34, \"0\": 10, \"4\": 11, \"8\": 18, \"13\": 12, \"5\": 4, \"14\": 10, \"10\": 8, \"1\": 10}, \"7\": {\"10\": 18, \"12\": 8, \"13\": 20, \"3\": 13, \"15\": 7, \"1\": 14, \"6\": 25, \"14\": 27, \"11\": 11, \"5\": 11, \"4\": 20, \"0\": 9, \"7\": 24, \"8\": 18, \"2\": 15}}, \"O_50\": {\"7\": {\"10\": 33, \"5\": 37, \"1\": 10, \"7\": 31, \"11\": 4, \"13\": 30, \"4\": 24, \"2\": 2, \"0\": 5, \"6\": 35, \"3\": 8, \"15\": 13, \"14\": 2, \"12\": 2, \"8\": 3, \"9\": 1}, \"3\": {\"3\": 108, \"0\": 7, \"8\": 72, \"10\": 29, \"7\": 10, \"13\": 5, \"2\": 4, \"4\": 2, \"5\": 3}, \"8\": {\"8\": 72, \"3\": 52, \"0\": 31, \"2\": 19, \"7\": 13, \"10\": 42, \"12\": 1, \"13\": 8, \"6\": 2}, \"2\": {\"0\": 50, \"2\": 65, \"8\": 19, \"1\": 8, \"6\": 11, \"14\": 21, \"10\": 31, \"13\": 10, \"12\": 9, \"11\": 3, \"9\": 3, \"4\": 2, \"7\": 4, \"15\": 1, \"5\": 2, \"3\": 1}, \"14\": {\"12\": 45, \"14\": 59, \"0\": 7, \"11\": 27, \"2\": 32, \"10\": 6, \"1\": 12, \"5\": 3, \"15\": 5, \"9\": 17, \"6\": 17, \"4\": 4, \"13\": 5, \"7\": 1}, \"4\": {\"15\": 26, \"1\": 30, \"6\": 24, \"13\": 21, \"9\": 14, \"5\": 28, \"4\": 39, \"7\": 25, \"11\": 16, \"14\": 4, \"12\": 3, \"2\": 3, \"10\": 4, \"3\": 2, \"0\": 1}, \"6\": {\"7\": 18, \"1\": 27, \"4\": 19, \"14\": 15, \"13\": 30, \"0\": 8, \"6\": 30, \"9\": 10, \"2\": 3, \"5\": 18, \"15\": 26, \"11\": 15, \"10\": 16, \"12\": 2, \"3\": 1, \"8\": 2}, \"15\": {\"15\": 34, \"6\": 32, \"7\": 8, \"1\": 36, \"5\": 23, \"4\": 31, \"12\": 4, \"9\": 27, \"11\": 25, \"10\": 5, \"13\": 12, \"2\": 1, \"14\": 2}, \"10\": {\"14\": 4, \"3\": 14, \"13\": 18, \"2\": 16, \"0\": 38, \"7\": 29, \"8\": 37, \"10\": 42, \"5\": 15, \"6\": 13, \"15\": 2, \"4\": 8, \"1\": 3, \"12\": 1}, \"11\": {\"4\": 17, \"1\": 25, \"9\": 41, \"15\": 33, \"11\": 49, \"6\": 22, \"2\": 2, \"5\": 7, \"12\": 28, \"13\": 5, \"14\": 8, \"7\": 2, \"0\": 1}, \"13\": {\"7\": 36, \"13\": 28, \"6\": 32, \"4\": 16, \"5\": 35, \"1\": 20, \"14\": 6, \"3\": 5, \"10\": 15, \"8\": 5, \"0\": 11, \"12\": 2, \"15\": 12, \"2\": 5, \"11\": 7, \"9\": 5}, \"9\": {\"15\": 23, \"12\": 21, \"9\": 61, \"1\": 19, \"11\": 67, \"6\": 7, \"14\": 16, \"4\": 11, \"13\": 7, \"2\": 1, \"10\": 1, \"7\": 2, \"5\": 4}, \"0\": {\"2\": 37, \"0\": 51, \"14\": 25, \"8\": 20, \"5\": 5, \"13\": 14, \"10\": 37, \"6\": 14, \"12\": 5, \"1\": 5, \"15\": 2, \"7\": 11, \"4\": 6, \"3\": 6, \"11\": 2}, \"1\": {\"13\": 17, \"9\": 22, \"14\": 14, \"6\": 37, \"15\": 20, \"4\": 24, \"5\": 20, \"10\": 11, \"1\": 35, \"12\": 7, \"0\": 4, \"11\": 12, \"2\": 4, \"7\": 13}, \"12\": {\"9\": 26, \"15\": 14, \"11\": 19, \"12\": 78, \"14\": 51, \"6\": 10, \"2\": 15, \"1\": 17, \"4\": 5, \"0\": 4, \"5\": 1}, \"5\": {\"4\": 32, \"10\": 18, \"7\": 34, \"1\": 26, \"15\": 17, \"6\": 28, \"13\": 33, \"5\": 31, \"12\": 1, \"8\": 3, \"14\": 2, \"11\": 6, \"3\": 2, \"9\": 3, \"2\": 1, \"0\": 3}}, \"O_32\": {\"8\": {\"13\": 49, \"4\": 8, \"11\": 12, \"0\": 26, \"8\": 40, \"5\": 32, \"3\": 40, \"14\": 13, \"7\": 12, \"2\": 5, \"15\": 3}, \"14\": {\"7\": 32, \"14\": 39, \"5\": 21, \"13\": 20, \"11\": 34, \"0\": 29, \"9\": 5, \"2\": 15, \"8\": 13, \"4\": 29, \"3\": 3}, \"2\": {\"9\": 17, \"4\": 44, \"2\": 46, \"14\": 13, \"5\": 20, \"8\": 13, \"12\": 5, \"7\": 33, \"13\": 13, \"0\": 23, \"11\": 12, \"3\": 1}, \"0\": {\"7\": 30, \"4\": 24, \"13\": 25, \"14\": 13, \"0\": 36, \"2\": 23, \"3\": 11, \"11\": 26, \"5\": 22, \"9\": 3, \"8\": 26, \"12\": 1}, \"1\": {\"1\": 136, \"10\": 72, \"6\": 32}, \"10\": {\"10\": 113, \"6\": 25, \"12\": 27, \"1\": 72, \"9\": 3}, \"11\": {\"3\": 21, \"8\": 21, \"2\": 11, \"14\": 28, \"11\": 52, \"5\": 14, \"7\": 28, \"4\": 20, \"13\": 19, \"0\": 25, \"9\": 1}, \"5\": {\"5\": 26, \"4\": 29, \"0\": 23, \"8\": 24, \"7\": 37, \"13\": 26, \"3\": 18, \"11\": 22, \"2\": 17, \"14\": 17, \"9\": 1}, \"15\": {\"15\": 195, \"8\": 10, \"3\": 27, \"5\": 2, \"13\": 6}, \"3\": {\"15\": 8, \"13\": 37, \"0\": 13, \"8\": 39, \"4\": 7, \"11\": 19, \"14\": 17, \"3\": 61, \"7\": 6, \"5\": 32, \"2\": 1}, \"12\": {\"12\": 106, \"2\": 4, \"9\": 60, \"10\": 38, \"13\": 4, \"6\": 21, \"5\": 3, \"4\": 1, \"0\": 3}, \"7\": {\"4\": 24, \"0\": 17, \"2\": 28, \"3\": 6, \"8\": 20, \"5\": 33, \"7\": 36, \"11\": 26, \"14\": 27, \"9\": 4, \"13\": 18, \"12\": 1}, \"13\": {\"5\": 30, \"3\": 27, \"7\": 24, \"4\": 20, \"13\": 30, \"14\": 17, \"8\": 34, \"0\": 20, \"11\": 22, \"2\": 10, \"9\": 4, \"15\": 1, \"12\": 1}, \"6\": {\"6\": 138, \"12\": 23, \"10\": 38, \"1\": 35, \"9\": 6}, \"4\": {\"5\": 20, \"0\": 26, \"4\": 42, \"3\": 10, \"8\": 10, \"7\": 40, \"2\": 35, \"13\": 21, \"14\": 15, \"11\": 13, \"9\": 8}, \"9\": {\"9\": 82, \"4\": 22, \"2\": 28, \"11\": 5, \"14\": 5, \"12\": 49, \"7\": 11, \"0\": 14, \"6\": 11, \"10\": 3, \"5\": 4, \"8\": 4, \"13\": 2}}, \"O_26\": {\"4\": {\"15\": 9, \"6\": 11, \"8\": 19, \"2\": 22, \"1\": 26, \"14\": 24, \"7\": 27, \"4\": 23, \"0\": 22, \"13\": 4, \"9\": 7, \"3\": 17, \"10\": 20, \"5\": 8, \"12\": 1}, \"12\": {\"13\": 16, \"1\": 2, \"12\": 62, \"5\": 15, \"11\": 33, \"3\": 6, \"8\": 12, \"9\": 19, \"15\": 21, \"6\": 21, \"0\": 9, \"4\": 3, \"7\": 2, \"2\": 6, \"10\": 10, \"14\": 3}, \"10\": {\"0\": 25, \"15\": 12, \"13\": 9, \"10\": 14, \"3\": 16, \"14\": 25, \"5\": 13, \"8\": 27, \"9\": 11, \"2\": 11, \"1\": 19, \"7\": 21, \"4\": 20, \"6\": 9, \"12\": 8}, \"0\": {\"15\": 12, \"4\": 23, \"8\": 17, \"10\": 15, \"7\": 14, \"14\": 27, \"0\": 23, \"9\": 11, \"2\": 17, \"1\": 21, \"13\": 5, \"3\": 16, \"6\": 21, \"5\": 12, \"12\": 5, \"11\": 1}, \"13\": {\"15\": 20, \"6\": 18, \"12\": 19, \"1\": 4, \"3\": 18, \"0\": 10, \"13\": 39, \"8\": 9, \"14\": 2, \"9\": 25, \"2\": 17, \"4\": 4, \"10\": 4, \"5\": 27, \"11\": 12, \"7\": 12}, \"9\": {\"8\": 18, \"2\": 12, \"6\": 24, \"13\": 24, \"10\": 13, \"1\": 6, \"15\": 18, \"14\": 8, \"0\": 12, \"12\": 16, \"11\": 4, \"4\": 8, \"3\": 16, \"5\": 21, \"9\": 25, \"7\": 15}, \"3\": {\"1\": 20, \"15\": 18, \"6\": 15, \"10\": 20, \"7\": 19, \"3\": 20, \"8\": 19, \"4\": 20, \"5\": 13, \"14\": 19, \"2\": 24, \"13\": 6, \"0\": 11, \"9\": 15, \"12\": 1}, \"2\": {\"14\": 15, \"3\": 26, \"12\": 3, \"4\": 14, \"1\": 12, \"2\": 23, \"8\": 20, \"7\": 20, \"13\": 12, \"10\": 8, \"6\": 15, \"0\": 15, \"9\": 16, \"5\": 23, \"15\": 18}, \"5\": {\"8\": 15, \"9\": 27, \"15\": 22, \"11\": 7, \"6\": 19, \"2\": 20, \"14\": 10, \"10\": 15, \"5\": 25, \"0\": 11, \"12\": 11, \"4\": 2, \"3\": 20, \"13\": 24, \"7\": 10, \"1\": 2}, \"14\": {\"15\": 10, \"8\": 16, \"4\": 26, \"12\": 3, \"1\": 31, \"10\": 27, \"14\": 25, \"13\": 3, \"5\": 7, \"0\": 19, \"2\": 14, \"3\": 21, \"7\": 17, \"6\": 17, \"9\": 3, \"11\": 1}, \"8\": {\"15\": 17, \"4\": 19, \"5\": 14, \"8\": 20, \"9\": 13, \"1\": 19, \"2\": 19, \"6\": 17, \"10\": 14, \"7\": 17, \"0\": 29, \"3\": 14, \"14\": 15, \"13\": 4, \"12\": 8, \"11\": 1}, \"7\": {\"14\": 18, \"3\": 28, \"12\": 4, \"2\": 20, \"8\": 30, \"10\": 18, \"0\": 19, \"4\": 20, \"13\": 9, \"15\": 7, \"1\": 11, \"9\": 13, \"5\": 12, \"6\": 16, \"7\": 15}, \"6\": {\"2\": 16, \"13\": 13, \"12\": 21, \"6\": 22, \"9\": 24, \"10\": 18, \"1\": 7, \"7\": 11, \"8\": 21, \"4\": 9, \"3\": 16, \"14\": 11, \"5\": 12, \"15\": 20, \"0\": 15, \"11\": 4}, \"11\": {\"12\": 62, \"11\": 94, \"6\": 7, \"5\": 15, \"8\": 8, \"13\": 28, \"9\": 13, \"15\": 7, \"4\": 1, \"2\": 3, \"0\": 2}, \"15\": {\"8\": 18, \"13\": 24, \"12\": 10, \"10\": 12, \"7\": 15, \"15\": 20, \"3\": 20, \"2\": 16, \"4\": 13, \"14\": 13, \"6\": 22, \"9\": 14, \"5\": 23, \"0\": 11, \"1\": 5, \"11\": 4}, \"1\": {\"1\": 28, \"3\": 17, \"8\": 17, \"10\": 30, \"4\": 28, \"0\": 23, \"14\": 31, \"13\": 2, \"2\": 15, \"5\": 7, \"7\": 22, \"9\": 8, \"6\": 8, \"15\": 3, \"12\": 1}}, \"O_44\": {\"12\": {\"12\": 44, \"2\": 40, \"1\": 46, \"3\": 32, \"10\": 38, \"9\": 13, \"7\": 18, \"6\": 4, \"11\": 1, \"13\": 4}, \"7\": {\"7\": 32, \"10\": 23, \"12\": 15, \"3\": 16, \"1\": 17, \"9\": 30, \"2\": 40, \"13\": 30, \"4\": 5, \"11\": 6, \"6\": 25, \"14\": 1}, \"5\": {\"5\": 69, \"15\": 28, \"7\": 1, \"8\": 29, \"0\": 41, \"14\": 37, \"4\": 30, \"9\": 3, \"1\": 1, \"3\": 1}, \"15\": {\"15\": 45, \"7\": 1, \"5\": 38, \"0\": 50, \"14\": 37, \"4\": 22, \"8\": 41, \"1\": 1, \"3\": 3, \"9\": 2}, \"8\": {\"15\": 45, \"8\": 69, \"0\": 71, \"5\": 40, \"14\": 9, \"4\": 4, \"9\": 1, \"3\": 1}, \"2\": {\"2\": 27, \"7\": 41, \"12\": 17, \"13\": 21, \"10\": 38, \"1\": 29, \"9\": 26, \"11\": 4, \"3\": 12, \"6\": 23, \"4\": 1, \"14\": 1}, \"13\": {\"13\": 48, \"7\": 32, \"6\": 37, \"2\": 23, \"11\": 12, \"9\": 47, \"4\": 8, \"1\": 6, \"10\": 12, \"12\": 8, \"3\": 4, \"14\": 3}, \"4\": {\"14\": 67, \"4\": 66, \"9\": 15, \"13\": 7, \"6\": 2, \"5\": 40, \"3\": 10, \"0\": 5, \"7\": 7, \"12\": 2, \"15\": 12, \"1\": 3, \"8\": 4}, \"0\": {\"15\": 46, \"8\": 62, \"5\": 45, \"4\": 12, \"14\": 15, \"0\": 60}, \"6\": {\"7\": 28, \"11\": 20, \"1\": 5, \"6\": 46, \"9\": 39, \"10\": 20, \"13\": 44, \"2\": 26, \"3\": 3, \"4\": 3, \"12\": 4, \"14\": 2}, \"9\": {\"7\": 33, \"12\": 14, \"13\": 31, \"9\": 37, \"11\": 1, \"6\": 25, \"2\": 31, \"10\": 22, \"1\": 19, \"3\": 10, \"14\": 4, \"4\": 13}, \"11\": {\"11\": 128, \"13\": 39, \"6\": 38, \"10\": 5, \"9\": 7, \"2\": 12, \"7\": 9, \"1\": 1, \"12\": 1}, \"10\": {\"12\": 35, \"10\": 48, \"1\": 30, \"3\": 12, \"7\": 25, \"13\": 15, \"6\": 8, \"2\": 42, \"9\": 24, \"11\": 1}, \"14\": {\"3\": 14, \"5\": 40, \"14\": 59, \"9\": 10, \"4\": 42, \"8\": 9, \"1\": 5, \"15\": 30, \"0\": 14, \"7\": 6, \"2\": 1, \"13\": 3, \"6\": 2, \"12\": 3, \"11\": 1, \"10\": 1}, \"1\": {\"2\": 34, \"12\": 54, \"3\": 34, \"13\": 8, \"9\": 15, \"1\": 44, \"7\": 13, \"10\": 23, \"6\": 4, \"14\": 5, \"4\": 5, \"5\": 1}, \"3\": {\"12\": 33, \"1\": 59, \"3\": 53, \"7\": 19, \"13\": 7, \"14\": 10, \"9\": 15, \"10\": 19, \"2\": 13, \"5\": 2, \"4\": 7, \"6\": 2, \"15\": 1}}}, \"per_domain_accuracy\": {\"W_3\": {\"accuracy\": 0.9772478070175439, \"source?\": true}, \"C_3\": {\"accuracy\": 0.9990915697674418, \"source?\": true}, \"C_4\": {\"accuracy\": 0.9994318181818181, \"source?\": true}, \"W_4\": {\"accuracy\": 0.9628343621399177, \"source?\": true}, \"W_1\": {\"accuracy\": 0.9784574468085107, \"source?\": true}, \"C_5\": {\"accuracy\": 0.9986033519553073, \"source?\": true}, \"C_1\": {\"accuracy\": 0.9994877049180327, \"source?\": true}, \"W_2\": {\"accuracy\": 0.9621848739495799, \"source?\": true}, \"C_2\": {\"accuracy\": 1.0, \"source?\": true}, \"O_14\": {\"accuracy\": 0.178125, \"source?\": false}, \"O_20\": {\"accuracy\": 0.10494791666666667, \"source?\": false}, \"O_38\": {\"accuracy\": 0.23776041666666667, \"source?\": false}, \"O_8\": {\"accuracy\": 0.15026041666666667, \"source?\": false}, \"O_50\": {\"accuracy\": 0.21171875, \"source?\": false}, \"O_32\": {\"accuracy\": 0.3067708333333333, \"source?\": false}, \"O_26\": {\"accuracy\": 0.12447916666666667, \"source?\": false}, \"O_44\": {\"accuracy\": 0.22786458333333334, \"source?\": false}}}, \"history\": {\"epoch_indices\": [1, 2, 3, 4, 5, 6], \"train_label_loss\": [0.10548673073302164, 0.0651566338137697, 0.05286038658297531, 0.044540661110634205, 0.03757293128312436, 0.031311869366267495], \"source_val_label_loss\": [0.10023253411054611, 0.07132194191217422, 0.06410450488328934, 0.06601375341415405, 0.06824299693107605, 0.06636510789394379], \"target_val_label_loss\": [2.502411127090454, 2.526853084564209, 2.7669029235839844, 2.6152100563049316, 2.9193167686462402, 3.011213541030884], \"source_val_acc_label\": [0.9787431318681319, 0.9841346153846153, 0.9853021978021979, 0.9857142857142858, 0.9852678571428571, 0.9857657967032967], \"target_val_acc_label\": [0.18046875, 0.19274088541666667, 0.1708984375, 0.18662109375, 0.156640625, 0.16009114583333334]}, \"dataset_metrics\": {\"source\": {\"train\": {\"n_unique_x\": 364180, \"n_unique_y\": 130, \"n_batch/episode\": 13148}, \"val\": {\"n_unique_x\": 77264, \"n_unique_y\": 130, \"n_batch/episode\": 1820}, \"test\": {\"n_unique_x\": 78450, \"n_unique_y\": 130, \"n_batch/episode\": 1860}}, \"target\": {\"train\": {\"n_unique_x\": 179200, \"n_unique_y\": 16, \"n_batch/episode\": 6720}, \"val\": {\"n_unique_x\": 38400, \"n_unique_y\": 16, \"n_batch/episode\": 960}, \"test\": {\"n_unique_x\": 38400, \"n_unique_y\": 16, \"n_batch/episode\": 960}}}}'"
      ]
     },
     "execution_count": 29,
     "metadata": {},
     "output_type": "execute_result"
    }
   ],
   "source": [
    "json.dumps(experiment)"
   ]
  }
 ],
 "metadata": {
  "celltoolbar": "Tags",
  "kernelspec": {
   "display_name": "Python 3 (ipykernel)",
   "language": "python",
   "name": "python3"
  },
  "language_info": {
   "codemirror_mode": {
    "name": "ipython",
    "version": 3
   },
   "file_extension": ".py",
   "mimetype": "text/x-python",
   "name": "python",
   "nbconvert_exporter": "python",
   "pygments_lexer": "ipython3",
   "version": "3.8.10"
  },
  "papermill": {
   "default_parameters": {},
   "duration": 2359.768836,
   "end_time": "2022-03-20T02:40:30.244366",
   "environment_variables": {},
   "exception": null,
   "input_path": "/mnt/wd500GB/CSC500/csc500-main/csc500-notebooks/templates/tl_ptn_template.ipynb",
   "output_path": "trial.ipynb",
   "parameters": {
    "parameters": {
     "BEST_MODEL_PATH": "./best_model.pth",
     "NUM_LOGS_PER_EPOCH": 10,
     "criteria_for_best": "target_accuracy",
     "dataset_seed": 1337,
     "datasets": [
      {
       "domain_prefix": "C_",
       "domains": [
        1,
        2,
        3,
        4,
        5
       ],
       "episode_transforms": [],
       "labels": [
        "1-10.",
        "1-11.",
        "1-15.",
        "1-16.",
        "1-17.",
        "1-18.",
        "1-19.",
        "10-4.",
        "10-7.",
        "11-1.",
        "11-14.",
        "11-17.",
        "11-20.",
        "11-7.",
        "13-20.",
        "13-8.",
        "14-10.",
        "14-11.",
        "14-14.",
        "14-7.",
        "15-1.",
        "15-20.",
        "16-1.",
        "16-16.",
        "17-10.",
        "17-11.",
        "17-2.",
        "19-1.",
        "19-16.",
        "19-19.",
        "19-20.",
        "19-3.",
        "2-10.",
        "2-11.",
        "2-17.",
        "2-18.",
        "2-20.",
        "2-3.",
        "2-4.",
        "2-5.",
        "2-6.",
        "2-7.",
        "2-8.",
        "3-13.",
        "3-18.",
        "3-3.",
        "4-1.",
        "4-10.",
        "4-11.",
        "4-19.",
        "5-5.",
        "6-15.",
        "7-10.",
        "7-14.",
        "8-18.",
        "8-20.",
        "8-3.",
        "8-8."
       ],
       "num_examples_per_domain_per_label": -1,
       "pickle_path": "/mnt/wd500GB/CSC500/csc500-main/datasets/cores.stratified_ds.2022A.pkl",
       "source_or_target_dataset": "source",
       "x_transforms": [
        "unit_power"
       ]
      },
      {
       "domain_prefix": "W_",
       "domains": [
        1,
        2,
        3,
        4
       ],
       "episode_transforms": [],
       "labels": [
        "1-10",
        "1-12",
        "1-14",
        "1-16",
        "1-18",
        "1-19",
        "1-8",
        "10-11",
        "10-17",
        "10-4",
        "10-7",
        "11-1",
        "11-10",
        "11-19",
        "11-20",
        "11-4",
        "11-7",
        "12-19",
        "12-20",
        "12-7",
        "13-14",
        "13-18",
        "13-19",
        "13-20",
        "13-3",
        "13-7",
        "14-10",
        "14-11",
        "14-12",
        "14-13",
        "14-14",
        "14-19",
        "14-20",
        "14-7",
        "14-8",
        "14-9",
        "15-1",
        "15-19",
        "15-6",
        "16-1",
        "16-16",
        "16-19",
        "16-20",
        "17-10",
        "17-11",
        "18-1",
        "18-10",
        "18-11",
        "18-12",
        "18-13",
        "18-14",
        "18-15",
        "18-16",
        "18-17",
        "18-19",
        "18-2",
        "18-20",
        "18-4",
        "18-5",
        "18-7",
        "18-8",
        "18-9",
        "19-1",
        "19-10",
        "19-11",
        "19-12",
        "19-13",
        "19-14",
        "19-15",
        "19-19",
        "19-2",
        "19-20",
        "19-3",
        "19-4",
        "19-6",
        "19-7",
        "19-8",
        "19-9",
        "2-1",
        "2-13",
        "2-15",
        "2-3",
        "2-4",
        "2-5",
        "2-6",
        "2-7",
        "2-8",
        "20-1",
        "20-12",
        "20-14",
        "20-15",
        "20-16",
        "20-18",
        "20-19",
        "20-20",
        "20-3",
        "20-4",
        "20-5",
        "20-7",
        "20-8",
        "3-1",
        "3-13",
        "3-18",
        "3-2",
        "3-8",
        "4-1",
        "4-10",
        "4-11",
        "5-1",
        "5-5",
        "6-1",
        "6-15",
        "6-6",
        "7-10",
        "7-11",
        "7-12",
        "7-13",
        "7-14",
        "7-7",
        "7-8",
        "7-9",
        "8-1",
        "8-13",
        "8-14",
        "8-18",
        "8-20",
        "8-3",
        "8-8",
        "9-1",
        "9-7"
       ],
       "num_examples_per_domain_per_label": -1,
       "pickle_path": "/mnt/wd500GB/CSC500/csc500-main/datasets/wisig.node3-19.stratified_ds.2022A.pkl",
       "source_or_target_dataset": "source",
       "x_transforms": [
        "unit_power"
       ]
      },
      {
       "domain_prefix": "O_",
       "domains": [
        32,
        38,
        8,
        44,
        14,
        50,
        20,
        26
       ],
       "episode_transforms": [],
       "labels": [
        "3123D52",
        "3123D65",
        "3123D79",
        "3123D80",
        "3123D54",
        "3123D70",
        "3123D7B",
        "3123D89",
        "3123D58",
        "3123D76",
        "3123D7D",
        "3123EFE",
        "3123D64",
        "3123D78",
        "3123D7E",
        "3124E4A"
       ],
       "num_examples_per_domain_per_label": 2000,
       "pickle_path": "/mnt/wd500GB/CSC500/csc500-main/datasets/oracle.Run1_framed_2000Examples_stratified_ds.2022A.pkl",
       "source_or_target_dataset": "target",
       "x_transforms": [
        "unit_power"
       ]
      }
     ],
     "device": "cuda",
     "experiment_name": "tl_2v2:cores+wisig -> oracle.run1.framed",
     "lr": 0.0001,
     "n_epoch": 50,
     "n_query": 2,
     "n_shot": 3,
     "n_way": 16,
     "patience": 3,
     "seed": 1337,
     "test_k_factor": 2,
     "torch_default_dtype": "torch.float32",
     "train_k_factor": 3,
     "val_k_factor": 2,
     "x_net": [
      {
       "class": "nnReshape",
       "kargs": {
        "shape": [
         -1,
         1,
         2,
         256
        ]
       }
      },
      {
       "class": "Conv2d",
       "kargs": {
        "bias": false,
        "in_channels": 1,
        "kernel_size": [
         1,
         7
        ],
        "out_channels": 256,
        "padding": [
         0,
         3
        ]
       }
      },
      {
       "class": "ReLU",
       "kargs": {
        "inplace": true
       }
      },
      {
       "class": "BatchNorm2d",
       "kargs": {
        "num_features": 256
       }
      },
      {
       "class": "Conv2d",
       "kargs": {
        "bias": true,
        "in_channels": 256,
        "kernel_size": [
         2,
         7
        ],
        "out_channels": 80,
        "padding": [
         0,
         3
        ]
       }
      },
      {
       "class": "ReLU",
       "kargs": {
        "inplace": true
       }
      },
      {
       "class": "BatchNorm2d",
       "kargs": {
        "num_features": 80
       }
      },
      {
       "class": "Flatten",
       "kargs": {}
      },
      {
       "class": "Linear",
       "kargs": {
        "in_features": 20480,
        "out_features": 256
       }
      },
      {
       "class": "ReLU",
       "kargs": {
        "inplace": true
       }
      },
      {
       "class": "BatchNorm1d",
       "kargs": {
        "num_features": 256
       }
      },
      {
       "class": "Linear",
       "kargs": {
        "in_features": 256,
        "out_features": 256
       }
      }
     ]
    }
   },
   "start_time": "2022-03-20T02:01:10.475530",
   "version": "2.3.4"
  }
 },
 "nbformat": 4,
 "nbformat_minor": 5
}