{
 "cells": [
  {
   "cell_type": "markdown",
   "id": "9fea5f46",
   "metadata": {
    "papermill": {
     "duration": 0.018389,
     "end_time": "2022-03-20T09:26:55.534504",
     "exception": false,
     "start_time": "2022-03-20T09:26:55.516115",
     "status": "completed"
    },
    "tags": []
   },
   "source": [
    "# Transfer Learning Template"
   ]
  },
  {
   "cell_type": "code",
   "execution_count": 1,
   "id": "0902182a",
   "metadata": {
    "execution": {
     "iopub.execute_input": "2022-03-20T09:26:55.569672Z",
     "iopub.status.busy": "2022-03-20T09:26:55.569272Z",
     "iopub.status.idle": "2022-03-20T09:26:56.547499Z",
     "shell.execute_reply": "2022-03-20T09:26:56.547939Z"
    },
    "papermill": {
     "duration": 1.000829,
     "end_time": "2022-03-20T09:26:56.548134",
     "exception": false,
     "start_time": "2022-03-20T09:26:55.547305",
     "status": "completed"
    },
    "tags": []
   },
   "outputs": [],
   "source": [
    "%load_ext autoreload\n",
    "%autoreload 2\n",
    "%matplotlib inline\n",
    "\n",
    "    \n",
    "import os, json, sys, time, random\n",
    "import numpy as np\n",
    "import torch\n",
    "from torch.optim import Adam\n",
    "from  easydict import EasyDict\n",
    "import matplotlib.pyplot as plt\n",
    "\n",
    "from steves_models.steves_ptn import Steves_Prototypical_Network\n",
    "\n",
    "from steves_utils.lazy_iterable_wrapper import Lazy_Iterable_Wrapper\n",
    "from steves_utils.iterable_aggregator import Iterable_Aggregator\n",
    "from steves_utils.ptn_train_eval_test_jig import  PTN_Train_Eval_Test_Jig\n",
    "from steves_utils.torch_sequential_builder import build_sequential\n",
    "from steves_utils.torch_utils import get_dataset_metrics, ptn_confusion_by_domain_over_dataloader\n",
    "from steves_utils.utils_v2 import (per_domain_accuracy_from_confusion, get_datasets_base_path)\n",
    "from steves_utils.PTN.utils import independent_accuracy_assesment\n",
    "\n",
    "from torch.utils.data import DataLoader\n",
    "\n",
    "from steves_utils.stratified_dataset.episodic_accessor import Episodic_Accessor_Factory\n",
    "\n",
    "from steves_utils.ptn_do_report import (\n",
    "    get_loss_curve,\n",
    "    get_results_table,\n",
    "    get_parameters_table,\n",
    "    get_domain_accuracies,\n",
    ")\n",
    "\n",
    "from steves_utils.transforms import get_chained_transform"
   ]
  },
  {
   "cell_type": "markdown",
   "id": "41c840b4",
   "metadata": {
    "papermill": {
     "duration": 0.013642,
     "end_time": "2022-03-20T09:26:56.579335",
     "exception": false,
     "start_time": "2022-03-20T09:26:56.565693",
     "status": "completed"
    },
    "tags": []
   },
   "source": [
    "# Allowed Parameters\n",
    "These are allowed parameters, not defaults\n",
    "Each of these values need to be present in the injected parameters (the notebook will raise an exception if they are not present)\n",
    "\n",
    "Papermill uses the cell tag \"parameters\" to inject the real parameters below this cell.\n",
    "Enable tags to see what I mean"
   ]
  },
  {
   "cell_type": "code",
   "execution_count": 2,
   "id": "fd44eb83",
   "metadata": {
    "execution": {
     "iopub.execute_input": "2022-03-20T09:26:56.609753Z",
     "iopub.status.busy": "2022-03-20T09:26:56.609480Z",
     "iopub.status.idle": "2022-03-20T09:26:56.622777Z",
     "shell.execute_reply": "2022-03-20T09:26:56.623015Z"
    },
    "papermill": {
     "duration": 0.030373,
     "end_time": "2022-03-20T09:26:56.623151",
     "exception": false,
     "start_time": "2022-03-20T09:26:56.592778",
     "status": "completed"
    },
    "tags": []
   },
   "outputs": [],
   "source": [
    "required_parameters = {\n",
    "    \"experiment_name\",\n",
    "    \"lr\",\n",
    "    \"device\",\n",
    "    \"seed\",\n",
    "    \"dataset_seed\",\n",
    "    \"n_shot\",\n",
    "    \"n_query\",\n",
    "    \"n_way\",\n",
    "    \"train_k_factor\",\n",
    "    \"val_k_factor\",\n",
    "    \"test_k_factor\",\n",
    "    \"n_epoch\",\n",
    "    \"patience\",\n",
    "    \"criteria_for_best\",\n",
    "    \"x_net\",\n",
    "    \"datasets\",\n",
    "    \"torch_default_dtype\",\n",
    "    \"NUM_LOGS_PER_EPOCH\",\n",
    "    \"BEST_MODEL_PATH\",\n",
    "    \"x_shape\",\n",
    "}"
   ]
  },
  {
   "cell_type": "code",
   "execution_count": 3,
   "id": "fa3f0049",
   "metadata": {
    "execution": {
     "iopub.execute_input": "2022-03-20T09:26:56.665431Z",
     "iopub.status.busy": "2022-03-20T09:26:56.664840Z",
     "iopub.status.idle": "2022-03-20T09:26:56.676451Z",
     "shell.execute_reply": "2022-03-20T09:26:56.676741Z"
    },
    "papermill": {
     "duration": 0.035626,
     "end_time": "2022-03-20T09:26:56.676846",
     "exception": false,
     "start_time": "2022-03-20T09:26:56.641220",
     "status": "completed"
    },
    "tags": [
     "parameters"
    ]
   },
   "outputs": [],
   "source": [
    "from steves_utils.CORES.utils import (\n",
    "    ALL_NODES,\n",
    "    ALL_NODES_MINIMUM_1000_EXAMPLES,\n",
    "    ALL_DAYS\n",
    ")\n",
    "\n",
    "from steves_utils.ORACLE.utils_v2 import (\n",
    "    ALL_DISTANCES_FEET_NARROWED,\n",
    "    ALL_RUNS,\n",
    "    ALL_SERIAL_NUMBERS,\n",
    ")\n",
    "\n",
    "standalone_parameters = {}\n",
    "standalone_parameters[\"experiment_name\"] = \"STANDALONE PTN\"\n",
    "standalone_parameters[\"lr\"] = 0.001\n",
    "standalone_parameters[\"device\"] = \"cuda\"\n",
    "\n",
    "standalone_parameters[\"seed\"] = 1337\n",
    "standalone_parameters[\"dataset_seed\"] = 1337\n",
    "\n",
    "standalone_parameters[\"n_way\"] = 8\n",
    "standalone_parameters[\"n_shot\"] = 3\n",
    "standalone_parameters[\"n_query\"]  = 2\n",
    "standalone_parameters[\"train_k_factor\"] = 1\n",
    "standalone_parameters[\"val_k_factor\"] = 2\n",
    "standalone_parameters[\"test_k_factor\"] = 2\n",
    "\n",
    "\n",
    "standalone_parameters[\"n_epoch\"] = 50\n",
    "\n",
    "standalone_parameters[\"patience\"] = 10\n",
    "standalone_parameters[\"criteria_for_best\"] = \"source_loss\"\n",
    "\n",
    "standalone_parameters[\"datasets\"] = [\n",
    "    {\n",
    "        \"labels\": ALL_SERIAL_NUMBERS,\n",
    "        \"domains\": ALL_DISTANCES_FEET_NARROWED,\n",
    "        \"num_examples_per_domain_per_label\": 100,\n",
    "        \"pickle_path\": os.path.join(get_datasets_base_path(), \"oracle.Run1_framed_2000Examples_stratified_ds.2022A.pkl\"),\n",
    "        \"source_or_target_dataset\": \"source\",\n",
    "        \"x_transforms\": [\"unit_mag\", \"minus_two\"],\n",
    "        \"episode_transforms\": [],\n",
    "        \"domain_prefix\": \"ORACLE_\"\n",
    "    },\n",
    "    {\n",
    "        \"labels\": ALL_NODES,\n",
    "        \"domains\": ALL_DAYS,\n",
    "        \"num_examples_per_domain_per_label\": 100,\n",
    "        \"pickle_path\": os.path.join(get_datasets_base_path(), \"cores.stratified_ds.2022A.pkl\"),\n",
    "        \"source_or_target_dataset\": \"target\",\n",
    "        \"x_transforms\": [\"unit_power\", \"times_zero\"],\n",
    "        \"episode_transforms\": [],\n",
    "        \"domain_prefix\": \"CORES_\"\n",
    "    }   \n",
    "]\n",
    "\n",
    "standalone_parameters[\"torch_default_dtype\"] = \"torch.float32\" \n",
    "\n",
    "\n",
    "\n",
    "standalone_parameters[\"x_net\"] =     [\n",
    "    {\"class\": \"nnReshape\", \"kargs\": {\"shape\":[-1, 1, 2, 256]}},\n",
    "    {\"class\": \"Conv2d\", \"kargs\": { \"in_channels\":1, \"out_channels\":256, \"kernel_size\":(1,7), \"bias\":False, \"padding\":(0,3), },},\n",
    "    {\"class\": \"ReLU\", \"kargs\": {\"inplace\": True}},\n",
    "    {\"class\": \"BatchNorm2d\", \"kargs\": {\"num_features\":256}},\n",
    "\n",
    "    {\"class\": \"Conv2d\", \"kargs\": { \"in_channels\":256, \"out_channels\":80, \"kernel_size\":(2,7), \"bias\":True, \"padding\":(0,3), },},\n",
    "    {\"class\": \"ReLU\", \"kargs\": {\"inplace\": True}},\n",
    "    {\"class\": \"BatchNorm2d\", \"kargs\": {\"num_features\":80}},\n",
    "    {\"class\": \"Flatten\", \"kargs\": {}},\n",
    "\n",
    "    {\"class\": \"Linear\", \"kargs\": {\"in_features\": 80*256, \"out_features\": 256}}, # 80 units per IQ pair\n",
    "    {\"class\": \"ReLU\", \"kargs\": {\"inplace\": True}},\n",
    "    {\"class\": \"BatchNorm1d\", \"kargs\": {\"num_features\":256}},\n",
    "\n",
    "    {\"class\": \"Linear\", \"kargs\": {\"in_features\": 256, \"out_features\": 256}},\n",
    "]\n",
    "\n",
    "# Parameters relevant to results\n",
    "# These parameters will basically never need to change\n",
    "standalone_parameters[\"NUM_LOGS_PER_EPOCH\"] = 10\n",
    "standalone_parameters[\"BEST_MODEL_PATH\"] = \"./best_model.pth\"\n",
    "\n",
    "\n",
    "\n",
    "\n"
   ]
  },
  {
   "cell_type": "code",
   "execution_count": 4,
   "id": "ac23dbff",
   "metadata": {
    "execution": {
     "iopub.execute_input": "2022-03-20T09:26:56.722378Z",
     "iopub.status.busy": "2022-03-20T09:26:56.722032Z",
     "iopub.status.idle": "2022-03-20T09:26:56.734723Z",
     "shell.execute_reply": "2022-03-20T09:26:56.734936Z"
    },
    "papermill": {
     "duration": 0.039271,
     "end_time": "2022-03-20T09:26:56.735015",
     "exception": false,
     "start_time": "2022-03-20T09:26:56.695744",
     "status": "completed"
    },
    "tags": [
     "injected-parameters"
    ]
   },
   "outputs": [],
   "source": [
    "# Parameters\n",
    "parameters = {\n",
    "    \"experiment_name\": \"tl_2v2:cores+wisig -> oracle.run1.framed\",\n",
    "    \"device\": \"cuda\",\n",
    "    \"lr\": 0.0001,\n",
    "    \"n_shot\": 3,\n",
    "    \"n_query\": 2,\n",
    "    \"train_k_factor\": 3,\n",
    "    \"val_k_factor\": 2,\n",
    "    \"test_k_factor\": 2,\n",
    "    \"torch_default_dtype\": \"torch.float32\",\n",
    "    \"n_epoch\": 50,\n",
    "    \"patience\": 3,\n",
    "    \"criteria_for_best\": \"target_accuracy\",\n",
    "    \"x_net\": [\n",
    "        {\"class\": \"nnReshape\", \"kargs\": {\"shape\": [-1, 1, 2, 256]}},\n",
    "        {\n",
    "            \"class\": \"Conv2d\",\n",
    "            \"kargs\": {\n",
    "                \"in_channels\": 1,\n",
    "                \"out_channels\": 256,\n",
    "                \"kernel_size\": [1, 7],\n",
    "                \"bias\": False,\n",
    "                \"padding\": [0, 3],\n",
    "            },\n",
    "        },\n",
    "        {\"class\": \"ReLU\", \"kargs\": {\"inplace\": True}},\n",
    "        {\"class\": \"BatchNorm2d\", \"kargs\": {\"num_features\": 256}},\n",
    "        {\n",
    "            \"class\": \"Conv2d\",\n",
    "            \"kargs\": {\n",
    "                \"in_channels\": 256,\n",
    "                \"out_channels\": 80,\n",
    "                \"kernel_size\": [2, 7],\n",
    "                \"bias\": True,\n",
    "                \"padding\": [0, 3],\n",
    "            },\n",
    "        },\n",
    "        {\"class\": \"ReLU\", \"kargs\": {\"inplace\": True}},\n",
    "        {\"class\": \"BatchNorm2d\", \"kargs\": {\"num_features\": 80}},\n",
    "        {\"class\": \"Flatten\", \"kargs\": {}},\n",
    "        {\"class\": \"Linear\", \"kargs\": {\"in_features\": 20480, \"out_features\": 256}},\n",
    "        {\"class\": \"ReLU\", \"kargs\": {\"inplace\": True}},\n",
    "        {\"class\": \"BatchNorm1d\", \"kargs\": {\"num_features\": 256}},\n",
    "        {\"class\": \"Linear\", \"kargs\": {\"in_features\": 256, \"out_features\": 256}},\n",
    "    ],\n",
    "    \"NUM_LOGS_PER_EPOCH\": 10,\n",
    "    \"BEST_MODEL_PATH\": \"./best_model.pth\",\n",
    "    \"n_way\": 16,\n",
    "    \"datasets\": [\n",
    "        {\n",
    "            \"labels\": [\n",
    "                \"1-10.\",\n",
    "                \"1-11.\",\n",
    "                \"1-15.\",\n",
    "                \"1-16.\",\n",
    "                \"1-17.\",\n",
    "                \"1-18.\",\n",
    "                \"1-19.\",\n",
    "                \"10-4.\",\n",
    "                \"10-7.\",\n",
    "                \"11-1.\",\n",
    "                \"11-14.\",\n",
    "                \"11-17.\",\n",
    "                \"11-20.\",\n",
    "                \"11-7.\",\n",
    "                \"13-20.\",\n",
    "                \"13-8.\",\n",
    "                \"14-10.\",\n",
    "                \"14-11.\",\n",
    "                \"14-14.\",\n",
    "                \"14-7.\",\n",
    "                \"15-1.\",\n",
    "                \"15-20.\",\n",
    "                \"16-1.\",\n",
    "                \"16-16.\",\n",
    "                \"17-10.\",\n",
    "                \"17-11.\",\n",
    "                \"17-2.\",\n",
    "                \"19-1.\",\n",
    "                \"19-16.\",\n",
    "                \"19-19.\",\n",
    "                \"19-20.\",\n",
    "                \"19-3.\",\n",
    "                \"2-10.\",\n",
    "                \"2-11.\",\n",
    "                \"2-17.\",\n",
    "                \"2-18.\",\n",
    "                \"2-20.\",\n",
    "                \"2-3.\",\n",
    "                \"2-4.\",\n",
    "                \"2-5.\",\n",
    "                \"2-6.\",\n",
    "                \"2-7.\",\n",
    "                \"2-8.\",\n",
    "                \"3-13.\",\n",
    "                \"3-18.\",\n",
    "                \"3-3.\",\n",
    "                \"4-1.\",\n",
    "                \"4-10.\",\n",
    "                \"4-11.\",\n",
    "                \"4-19.\",\n",
    "                \"5-5.\",\n",
    "                \"6-15.\",\n",
    "                \"7-10.\",\n",
    "                \"7-14.\",\n",
    "                \"8-18.\",\n",
    "                \"8-20.\",\n",
    "                \"8-3.\",\n",
    "                \"8-8.\",\n",
    "            ],\n",
    "            \"domains\": [1, 2, 3, 4, 5],\n",
    "            \"num_examples_per_domain_per_label\": -1,\n",
    "            \"pickle_path\": \"/mnt/wd500GB/CSC500/csc500-main/datasets/cores.stratified_ds.2022A.pkl\",\n",
    "            \"source_or_target_dataset\": \"source\",\n",
    "            \"x_transforms\": [\"unit_power\"],\n",
    "            \"episode_transforms\": [],\n",
    "            \"domain_prefix\": \"C_\",\n",
    "        },\n",
    "        {\n",
    "            \"labels\": [\n",
    "                \"1-10\",\n",
    "                \"1-12\",\n",
    "                \"1-14\",\n",
    "                \"1-16\",\n",
    "                \"1-18\",\n",
    "                \"1-19\",\n",
    "                \"1-8\",\n",
    "                \"10-11\",\n",
    "                \"10-17\",\n",
    "                \"10-4\",\n",
    "                \"10-7\",\n",
    "                \"11-1\",\n",
    "                \"11-10\",\n",
    "                \"11-19\",\n",
    "                \"11-20\",\n",
    "                \"11-4\",\n",
    "                \"11-7\",\n",
    "                \"12-19\",\n",
    "                \"12-20\",\n",
    "                \"12-7\",\n",
    "                \"13-14\",\n",
    "                \"13-18\",\n",
    "                \"13-19\",\n",
    "                \"13-20\",\n",
    "                \"13-3\",\n",
    "                \"13-7\",\n",
    "                \"14-10\",\n",
    "                \"14-11\",\n",
    "                \"14-12\",\n",
    "                \"14-13\",\n",
    "                \"14-14\",\n",
    "                \"14-19\",\n",
    "                \"14-20\",\n",
    "                \"14-7\",\n",
    "                \"14-8\",\n",
    "                \"14-9\",\n",
    "                \"15-1\",\n",
    "                \"15-19\",\n",
    "                \"15-6\",\n",
    "                \"16-1\",\n",
    "                \"16-16\",\n",
    "                \"16-19\",\n",
    "                \"16-20\",\n",
    "                \"17-10\",\n",
    "                \"17-11\",\n",
    "                \"18-1\",\n",
    "                \"18-10\",\n",
    "                \"18-11\",\n",
    "                \"18-12\",\n",
    "                \"18-13\",\n",
    "                \"18-14\",\n",
    "                \"18-15\",\n",
    "                \"18-16\",\n",
    "                \"18-17\",\n",
    "                \"18-19\",\n",
    "                \"18-2\",\n",
    "                \"18-20\",\n",
    "                \"18-4\",\n",
    "                \"18-5\",\n",
    "                \"18-7\",\n",
    "                \"18-8\",\n",
    "                \"18-9\",\n",
    "                \"19-1\",\n",
    "                \"19-10\",\n",
    "                \"19-11\",\n",
    "                \"19-12\",\n",
    "                \"19-13\",\n",
    "                \"19-14\",\n",
    "                \"19-15\",\n",
    "                \"19-19\",\n",
    "                \"19-2\",\n",
    "                \"19-20\",\n",
    "                \"19-3\",\n",
    "                \"19-4\",\n",
    "                \"19-6\",\n",
    "                \"19-7\",\n",
    "                \"19-8\",\n",
    "                \"19-9\",\n",
    "                \"2-1\",\n",
    "                \"2-13\",\n",
    "                \"2-15\",\n",
    "                \"2-3\",\n",
    "                \"2-4\",\n",
    "                \"2-5\",\n",
    "                \"2-6\",\n",
    "                \"2-7\",\n",
    "                \"2-8\",\n",
    "                \"20-1\",\n",
    "                \"20-12\",\n",
    "                \"20-14\",\n",
    "                \"20-15\",\n",
    "                \"20-16\",\n",
    "                \"20-18\",\n",
    "                \"20-19\",\n",
    "                \"20-20\",\n",
    "                \"20-3\",\n",
    "                \"20-4\",\n",
    "                \"20-5\",\n",
    "                \"20-7\",\n",
    "                \"20-8\",\n",
    "                \"3-1\",\n",
    "                \"3-13\",\n",
    "                \"3-18\",\n",
    "                \"3-2\",\n",
    "                \"3-8\",\n",
    "                \"4-1\",\n",
    "                \"4-10\",\n",
    "                \"4-11\",\n",
    "                \"5-1\",\n",
    "                \"5-5\",\n",
    "                \"6-1\",\n",
    "                \"6-15\",\n",
    "                \"6-6\",\n",
    "                \"7-10\",\n",
    "                \"7-11\",\n",
    "                \"7-12\",\n",
    "                \"7-13\",\n",
    "                \"7-14\",\n",
    "                \"7-7\",\n",
    "                \"7-8\",\n",
    "                \"7-9\",\n",
    "                \"8-1\",\n",
    "                \"8-13\",\n",
    "                \"8-14\",\n",
    "                \"8-18\",\n",
    "                \"8-20\",\n",
    "                \"8-3\",\n",
    "                \"8-8\",\n",
    "                \"9-1\",\n",
    "                \"9-7\",\n",
    "            ],\n",
    "            \"domains\": [1, 2, 3, 4],\n",
    "            \"num_examples_per_domain_per_label\": -1,\n",
    "            \"pickle_path\": \"/mnt/wd500GB/CSC500/csc500-main/datasets/wisig.node3-19.stratified_ds.2022A.pkl\",\n",
    "            \"source_or_target_dataset\": \"source\",\n",
    "            \"x_transforms\": [\"unit_power\"],\n",
    "            \"episode_transforms\": [],\n",
    "            \"domain_prefix\": \"W_\",\n",
    "        },\n",
    "        {\n",
    "            \"labels\": [\n",
    "                \"3123D52\",\n",
    "                \"3123D65\",\n",
    "                \"3123D79\",\n",
    "                \"3123D80\",\n",
    "                \"3123D54\",\n",
    "                \"3123D70\",\n",
    "                \"3123D7B\",\n",
    "                \"3123D89\",\n",
    "                \"3123D58\",\n",
    "                \"3123D76\",\n",
    "                \"3123D7D\",\n",
    "                \"3123EFE\",\n",
    "                \"3123D64\",\n",
    "                \"3123D78\",\n",
    "                \"3123D7E\",\n",
    "                \"3124E4A\",\n",
    "            ],\n",
    "            \"domains\": [32, 38, 8, 44, 14, 50, 20, 26],\n",
    "            \"num_examples_per_domain_per_label\": 2000,\n",
    "            \"pickle_path\": \"/mnt/wd500GB/CSC500/csc500-main/datasets/oracle.Run1_framed_2000Examples_stratified_ds.2022A.pkl\",\n",
    "            \"source_or_target_dataset\": \"target\",\n",
    "            \"x_transforms\": [\"unit_power\"],\n",
    "            \"episode_transforms\": [],\n",
    "            \"domain_prefix\": \"O_\",\n",
    "        },\n",
    "    ],\n",
    "    \"seed\": 7,\n",
    "    \"dataset_seed\": 7,\n",
    "}\n"
   ]
  },
  {
   "cell_type": "code",
   "execution_count": 5,
   "id": "8fa1cc33",
   "metadata": {
    "execution": {
     "iopub.execute_input": "2022-03-20T09:26:56.766999Z",
     "iopub.status.busy": "2022-03-20T09:26:56.766658Z",
     "iopub.status.idle": "2022-03-20T09:26:56.779927Z",
     "shell.execute_reply": "2022-03-20T09:26:56.780338Z"
    },
    "papermill": {
     "duration": 0.03219,
     "end_time": "2022-03-20T09:26:56.780465",
     "exception": false,
     "start_time": "2022-03-20T09:26:56.748275",
     "status": "completed"
    },
    "tags": []
   },
   "outputs": [],
   "source": [
    "# Set this to True if you want to run this template directly\n",
    "STANDALONE = False\n",
    "if STANDALONE:\n",
    "    print(\"parameters not injected, running with standalone_parameters\")\n",
    "    parameters = standalone_parameters\n",
    "\n",
    "if not 'parameters' in locals() and not 'parameters' in globals():\n",
    "    raise Exception(\"Parameter injection failed\")\n",
    "\n",
    "#Use an easy dict for all the parameters\n",
    "p = EasyDict(parameters)\n",
    "\n",
    "if \"x_shape\" not in p:\n",
    "    p.x_shape = [2,256] # Default to this if we dont supply x_shape\n",
    "\n",
    "\n",
    "supplied_keys = set(p.keys())\n",
    "\n",
    "if  supplied_keys != required_parameters:\n",
    "    print(\"Parameters are incorrect\")\n",
    "    if len(supplied_keys - required_parameters)>0: print(\"Shouldn't have:\", str(supplied_keys - required_parameters))\n",
    "    if len(required_parameters - supplied_keys)>0: print(\"Need to have:\", str(required_parameters - supplied_keys))\n",
    "    raise RuntimeError(\"Parameters are incorrect\")"
   ]
  },
  {
   "cell_type": "code",
   "execution_count": 6,
   "id": "3a028d58",
   "metadata": {
    "execution": {
     "iopub.execute_input": "2022-03-20T09:26:56.815449Z",
     "iopub.status.busy": "2022-03-20T09:26:56.815170Z",
     "iopub.status.idle": "2022-03-20T09:26:56.830479Z",
     "shell.execute_reply": "2022-03-20T09:26:56.830859Z"
    },
    "papermill": {
     "duration": 0.031097,
     "end_time": "2022-03-20T09:26:56.830990",
     "exception": false,
     "start_time": "2022-03-20T09:26:56.799893",
     "status": "completed"
    },
    "tags": []
   },
   "outputs": [],
   "source": [
    "###################################\n",
    "# Set the RNGs and make it all deterministic\n",
    "###################################\n",
    "np.random.seed(p.seed)\n",
    "random.seed(p.seed)\n",
    "torch.manual_seed(p.seed)\n",
    "\n",
    "torch.use_deterministic_algorithms(True) "
   ]
  },
  {
   "cell_type": "code",
   "execution_count": 7,
   "id": "b691acf6",
   "metadata": {
    "execution": {
     "iopub.execute_input": "2022-03-20T09:26:56.865674Z",
     "iopub.status.busy": "2022-03-20T09:26:56.865412Z",
     "iopub.status.idle": "2022-03-20T09:26:56.881533Z",
     "shell.execute_reply": "2022-03-20T09:26:56.881012Z"
    },
    "papermill": {
     "duration": 0.032319,
     "end_time": "2022-03-20T09:26:56.881642",
     "exception": false,
     "start_time": "2022-03-20T09:26:56.849323",
     "status": "completed"
    },
    "tags": []
   },
   "outputs": [],
   "source": [
    "###########################################\n",
    "# The stratified datasets honor this\n",
    "###########################################\n",
    "torch.set_default_dtype(eval(p.torch_default_dtype))"
   ]
  },
  {
   "cell_type": "code",
   "execution_count": 8,
   "id": "b5fba671",
   "metadata": {
    "execution": {
     "iopub.execute_input": "2022-03-20T09:26:56.915802Z",
     "iopub.status.busy": "2022-03-20T09:26:56.915548Z",
     "iopub.status.idle": "2022-03-20T09:26:56.958932Z",
     "shell.execute_reply": "2022-03-20T09:26:56.958416Z"
    },
    "papermill": {
     "duration": 0.058732,
     "end_time": "2022-03-20T09:26:56.959038",
     "exception": false,
     "start_time": "2022-03-20T09:26:56.900306",
     "status": "completed"
    },
    "tags": []
   },
   "outputs": [],
   "source": [
    "###################################\n",
    "# Build the network(s)\n",
    "# Note: It's critical to do this AFTER setting the RNG\n",
    "###################################\n",
    "x_net = build_sequential(p.x_net)"
   ]
  },
  {
   "cell_type": "code",
   "execution_count": 9,
   "id": "5d7e61cc",
   "metadata": {
    "execution": {
     "iopub.execute_input": "2022-03-20T09:26:56.999086Z",
     "iopub.status.busy": "2022-03-20T09:26:56.998834Z",
     "iopub.status.idle": "2022-03-20T09:26:57.013907Z",
     "shell.execute_reply": "2022-03-20T09:26:57.013555Z"
    },
    "papermill": {
     "duration": 0.035078,
     "end_time": "2022-03-20T09:26:57.013988",
     "exception": false,
     "start_time": "2022-03-20T09:26:56.978910",
     "status": "completed"
    },
    "tags": []
   },
   "outputs": [],
   "source": [
    "start_time_secs = time.time()"
   ]
  },
  {
   "cell_type": "code",
   "execution_count": 10,
   "id": "c6b67dfd",
   "metadata": {
    "execution": {
     "iopub.execute_input": "2022-03-20T09:26:57.050261Z",
     "iopub.status.busy": "2022-03-20T09:26:57.050005Z",
     "iopub.status.idle": "2022-03-20T09:26:57.060949Z",
     "shell.execute_reply": "2022-03-20T09:26:57.060443Z"
    },
    "papermill": {
     "duration": 0.029073,
     "end_time": "2022-03-20T09:26:57.061053",
     "exception": false,
     "start_time": "2022-03-20T09:26:57.031980",
     "status": "completed"
    },
    "tags": []
   },
   "outputs": [],
   "source": [
    "p.domains_source = []\n",
    "p.domains_target = []\n",
    "\n",
    "\n",
    "train_original_source = []\n",
    "val_original_source   = []\n",
    "test_original_source  = []\n",
    "\n",
    "train_original_target = []\n",
    "val_original_target   = []\n",
    "test_original_target  = []"
   ]
  },
  {
   "cell_type": "code",
   "execution_count": 11,
   "id": "e3d9c3d3",
   "metadata": {
    "execution": {
     "iopub.execute_input": "2022-03-20T09:26:57.096388Z",
     "iopub.status.busy": "2022-03-20T09:26:57.096135Z",
     "iopub.status.idle": "2022-03-20T09:26:57.106345Z",
     "shell.execute_reply": "2022-03-20T09:26:57.105959Z"
    },
    "papermill": {
     "duration": 0.025336,
     "end_time": "2022-03-20T09:26:57.106427",
     "exception": false,
     "start_time": "2022-03-20T09:26:57.081091",
     "status": "completed"
    },
    "tags": []
   },
   "outputs": [],
   "source": [
    "# global_x_transform_func = lambda x: normalize(x.to(torch.get_default_dtype()), \"unit_power\") # unit_power, unit_mag\n",
    "# global_x_transform_func = lambda x: normalize(x, \"unit_power\") # unit_power, unit_mag"
   ]
  },
  {
   "cell_type": "code",
   "execution_count": 12,
   "id": "acb78fd2",
   "metadata": {
    "execution": {
     "iopub.execute_input": "2022-03-20T09:26:57.141273Z",
     "iopub.status.busy": "2022-03-20T09:26:57.140849Z",
     "iopub.status.idle": "2022-03-20T09:26:57.154186Z",
     "shell.execute_reply": "2022-03-20T09:26:57.153693Z"
    },
    "papermill": {
     "duration": 0.03127,
     "end_time": "2022-03-20T09:26:57.154290",
     "exception": false,
     "start_time": "2022-03-20T09:26:57.123020",
     "status": "completed"
    },
    "tags": []
   },
   "outputs": [],
   "source": [
    "def add_dataset(\n",
    "    labels,\n",
    "    domains,\n",
    "    pickle_path,\n",
    "    x_transforms,\n",
    "    episode_transforms,\n",
    "    domain_prefix,\n",
    "    num_examples_per_domain_per_label,\n",
    "    source_or_target_dataset:str,\n",
    "    iterator_seed=p.seed,\n",
    "    dataset_seed=p.dataset_seed,\n",
    "    n_shot=p.n_shot,\n",
    "    n_way=p.n_way,\n",
    "    n_query=p.n_query,\n",
    "    train_val_test_k_factors=(p.train_k_factor,p.val_k_factor,p.test_k_factor),\n",
    "):\n",
    "   \n",
    "    if x_transforms == []: x_transform = None\n",
    "    else: x_transform = get_chained_transform(x_transforms)\n",
    "    \n",
    "    if episode_transforms == []: episode_transform = None\n",
    "    else: raise Exception(\"episode_transforms not implemented\")\n",
    "    \n",
    "    episode_transform = lambda tup, _prefix=domain_prefix: (_prefix + str(tup[0]), tup[1])\n",
    "\n",
    "\n",
    "    eaf = Episodic_Accessor_Factory(\n",
    "        labels=labels,\n",
    "        domains=domains,\n",
    "        num_examples_per_domain_per_label=num_examples_per_domain_per_label,\n",
    "        iterator_seed=iterator_seed,\n",
    "        dataset_seed=dataset_seed,\n",
    "        n_shot=n_shot,\n",
    "        n_way=n_way,\n",
    "        n_query=n_query,\n",
    "        train_val_test_k_factors=train_val_test_k_factors,\n",
    "        pickle_path=pickle_path,\n",
    "        x_transform_func=x_transform,\n",
    "    )\n",
    "\n",
    "    train, val, test = eaf.get_train(), eaf.get_val(), eaf.get_test()\n",
    "    train = Lazy_Iterable_Wrapper(train, episode_transform)\n",
    "    val = Lazy_Iterable_Wrapper(val, episode_transform)\n",
    "    test = Lazy_Iterable_Wrapper(test, episode_transform)\n",
    "\n",
    "    if source_or_target_dataset==\"source\":\n",
    "        train_original_source.append(train)\n",
    "        val_original_source.append(val)\n",
    "        test_original_source.append(test)\n",
    "\n",
    "        p.domains_source.extend(\n",
    "            [domain_prefix + str(u) for u in domains]\n",
    "        )\n",
    "    elif source_or_target_dataset==\"target\":\n",
    "        train_original_target.append(train)\n",
    "        val_original_target.append(val)\n",
    "        test_original_target.append(test)\n",
    "        p.domains_target.extend(\n",
    "            [domain_prefix + str(u) for u in domains]\n",
    "        )\n",
    "    else:\n",
    "        raise Exception(f\"invalid source_or_target_dataset: {source_or_target_dataset}\")\n",
    "    "
   ]
  },
  {
   "cell_type": "code",
   "execution_count": 13,
   "id": "fe266617",
   "metadata": {
    "execution": {
     "iopub.execute_input": "2022-03-20T09:26:57.189891Z",
     "iopub.status.busy": "2022-03-20T09:26:57.189636Z",
     "iopub.status.idle": "2022-03-20T09:27:45.513920Z",
     "shell.execute_reply": "2022-03-20T09:27:45.514317Z"
    },
    "papermill": {
     "duration": 48.340919,
     "end_time": "2022-03-20T09:27:45.514454",
     "exception": false,
     "start_time": "2022-03-20T09:26:57.173535",
     "status": "completed"
    },
    "tags": []
   },
   "outputs": [],
   "source": [
    "for ds in p.datasets:\n",
    "    add_dataset(**ds)"
   ]
  },
  {
   "cell_type": "code",
   "execution_count": 14,
   "id": "b90d65ac",
   "metadata": {
    "execution": {
     "iopub.execute_input": "2022-03-20T09:27:45.550990Z",
     "iopub.status.busy": "2022-03-20T09:27:45.550664Z",
     "iopub.status.idle": "2022-03-20T09:27:45.565522Z",
     "shell.execute_reply": "2022-03-20T09:27:45.565945Z"
    },
    "papermill": {
     "duration": 0.031755,
     "end_time": "2022-03-20T09:27:45.566092",
     "exception": false,
     "start_time": "2022-03-20T09:27:45.534337",
     "status": "completed"
    },
    "tags": []
   },
   "outputs": [],
   "source": [
    "# from steves_utils.CORES.utils import (\n",
    "#     ALL_NODES,\n",
    "#     ALL_NODES_MINIMUM_1000_EXAMPLES,\n",
    "#     ALL_DAYS\n",
    "# )\n",
    "\n",
    "# add_dataset(\n",
    "#     labels=ALL_NODES,\n",
    "#     domains = ALL_DAYS,\n",
    "#     num_examples_per_domain_per_label=100,\n",
    "#     pickle_path=os.path.join(get_datasets_base_path(), \"cores.stratified_ds.2022A.pkl\"),\n",
    "#     source_or_target_dataset=\"target\",\n",
    "#     x_transform_func=global_x_transform_func,\n",
    "#     domain_modifier=lambda u: f\"cores_{u}\"\n",
    "# )"
   ]
  },
  {
   "cell_type": "code",
   "execution_count": 15,
   "id": "76db484d",
   "metadata": {
    "execution": {
     "iopub.execute_input": "2022-03-20T09:27:45.610573Z",
     "iopub.status.busy": "2022-03-20T09:27:45.610305Z",
     "iopub.status.idle": "2022-03-20T09:27:45.625873Z",
     "shell.execute_reply": "2022-03-20T09:27:45.626289Z"
    },
    "papermill": {
     "duration": 0.037842,
     "end_time": "2022-03-20T09:27:45.626422",
     "exception": false,
     "start_time": "2022-03-20T09:27:45.588580",
     "status": "completed"
    },
    "tags": []
   },
   "outputs": [],
   "source": [
    "# from steves_utils.ORACLE.utils_v2 import (\n",
    "#     ALL_DISTANCES_FEET,\n",
    "#     ALL_RUNS,\n",
    "#     ALL_SERIAL_NUMBERS,\n",
    "# )\n",
    "\n",
    "\n",
    "# add_dataset(\n",
    "#     labels=ALL_SERIAL_NUMBERS,\n",
    "#     domains = list(set(ALL_DISTANCES_FEET) - {2,62}),\n",
    "#     num_examples_per_domain_per_label=100,\n",
    "#     pickle_path=os.path.join(get_datasets_base_path(), \"oracle.Run2_framed_2000Examples_stratified_ds.2022A.pkl\"),\n",
    "#     source_or_target_dataset=\"source\",\n",
    "#     x_transform_func=global_x_transform_func,\n",
    "#     domain_modifier=lambda u: f\"oracle1_{u}\"\n",
    "# )\n"
   ]
  },
  {
   "cell_type": "code",
   "execution_count": 16,
   "id": "97dea9d2",
   "metadata": {
    "execution": {
     "iopub.execute_input": "2022-03-20T09:27:45.661899Z",
     "iopub.status.busy": "2022-03-20T09:27:45.661630Z",
     "iopub.status.idle": "2022-03-20T09:27:45.677680Z",
     "shell.execute_reply": "2022-03-20T09:27:45.677187Z"
    },
    "papermill": {
     "duration": 0.032269,
     "end_time": "2022-03-20T09:27:45.677781",
     "exception": false,
     "start_time": "2022-03-20T09:27:45.645512",
     "status": "completed"
    },
    "tags": []
   },
   "outputs": [],
   "source": [
    "# from steves_utils.ORACLE.utils_v2 import (\n",
    "#     ALL_DISTANCES_FEET,\n",
    "#     ALL_RUNS,\n",
    "#     ALL_SERIAL_NUMBERS,\n",
    "# )\n",
    "\n",
    "\n",
    "# add_dataset(\n",
    "#     labels=ALL_SERIAL_NUMBERS,\n",
    "#     domains = list(set(ALL_DISTANCES_FEET) - {2,62,56}),\n",
    "#     num_examples_per_domain_per_label=100,\n",
    "#     pickle_path=os.path.join(get_datasets_base_path(), \"oracle.Run2_framed_2000Examples_stratified_ds.2022A.pkl\"),\n",
    "#     source_or_target_dataset=\"source\",\n",
    "#     x_transform_func=global_x_transform_func,\n",
    "#     domain_modifier=lambda u: f\"oracle2_{u}\"\n",
    "# )"
   ]
  },
  {
   "cell_type": "code",
   "execution_count": 17,
   "id": "6f289866",
   "metadata": {
    "execution": {
     "iopub.execute_input": "2022-03-20T09:27:45.712927Z",
     "iopub.status.busy": "2022-03-20T09:27:45.712667Z",
     "iopub.status.idle": "2022-03-20T09:27:45.727568Z",
     "shell.execute_reply": "2022-03-20T09:27:45.727775Z"
    },
    "papermill": {
     "duration": 0.03114,
     "end_time": "2022-03-20T09:27:45.727846",
     "exception": false,
     "start_time": "2022-03-20T09:27:45.696706",
     "status": "completed"
    },
    "tags": []
   },
   "outputs": [],
   "source": [
    "# add_dataset(\n",
    "#     labels=list(range(19)),\n",
    "#     domains = [0,1,2],\n",
    "#     num_examples_per_domain_per_label=100,\n",
    "#     pickle_path=os.path.join(get_datasets_base_path(), \"metehan.stratified_ds.2022A.pkl\"),\n",
    "#     source_or_target_dataset=\"target\",\n",
    "#     x_transform_func=global_x_transform_func,\n",
    "#     domain_modifier=lambda u: f\"met_{u}\"\n",
    "# )"
   ]
  },
  {
   "cell_type": "code",
   "execution_count": 18,
   "id": "86a863c3",
   "metadata": {
    "execution": {
     "iopub.execute_input": "2022-03-20T09:27:45.761031Z",
     "iopub.status.busy": "2022-03-20T09:27:45.760497Z",
     "iopub.status.idle": "2022-03-20T09:27:45.772534Z",
     "shell.execute_reply": "2022-03-20T09:27:45.772813Z"
    },
    "papermill": {
     "duration": 0.030921,
     "end_time": "2022-03-20T09:27:45.772908",
     "exception": false,
     "start_time": "2022-03-20T09:27:45.741987",
     "status": "completed"
    },
    "tags": []
   },
   "outputs": [],
   "source": [
    "# # from steves_utils.wisig.utils import (\n",
    "# #     ALL_NODES_MINIMUM_100_EXAMPLES,\n",
    "# #     ALL_NODES_MINIMUM_500_EXAMPLES,\n",
    "# #     ALL_NODES_MINIMUM_1000_EXAMPLES,\n",
    "# #     ALL_DAYS\n",
    "# # )\n",
    "\n",
    "# import steves_utils.wisig.utils as wisig\n",
    "\n",
    "\n",
    "# add_dataset(\n",
    "#     labels=wisig.ALL_NODES_MINIMUM_100_EXAMPLES,\n",
    "#     domains = wisig.ALL_DAYS,\n",
    "#     num_examples_per_domain_per_label=100,\n",
    "#     pickle_path=os.path.join(get_datasets_base_path(), \"wisig.node3-19.stratified_ds.2022A.pkl\"),\n",
    "#     source_or_target_dataset=\"target\",\n",
    "#     x_transform_func=global_x_transform_func,\n",
    "#     domain_modifier=lambda u: f\"wisig_{u}\"\n",
    "# )"
   ]
  },
  {
   "cell_type": "code",
   "execution_count": 19,
   "id": "fd5442bc",
   "metadata": {
    "execution": {
     "iopub.execute_input": "2022-03-20T09:27:45.812175Z",
     "iopub.status.busy": "2022-03-20T09:27:45.811902Z",
     "iopub.status.idle": "2022-03-20T09:27:45.823891Z",
     "shell.execute_reply": "2022-03-20T09:27:45.823389Z"
    },
    "papermill": {
     "duration": 0.030912,
     "end_time": "2022-03-20T09:27:45.823997",
     "exception": false,
     "start_time": "2022-03-20T09:27:45.793085",
     "status": "completed"
    },
    "tags": []
   },
   "outputs": [],
   "source": [
    "###################################\n",
    "# Build the dataset\n",
    "###################################\n",
    "train_original_source = Iterable_Aggregator(train_original_source, p.seed)\n",
    "val_original_source = Iterable_Aggregator(val_original_source, p.seed)\n",
    "test_original_source = Iterable_Aggregator(test_original_source, p.seed)\n",
    "\n",
    "\n",
    "train_original_target = Iterable_Aggregator(train_original_target, p.seed)\n",
    "val_original_target = Iterable_Aggregator(val_original_target, p.seed)\n",
    "test_original_target = Iterable_Aggregator(test_original_target, p.seed)\n",
    "\n",
    "# For CNN We only use X and Y. And we only train on the source.\n",
    "# Properly form the data using a transform lambda and Lazy_Iterable_Wrapper. Finally wrap them in a dataloader\n",
    "\n",
    "transform_lambda = lambda ex: ex[1] # Original is (<domain>, <episode>) so we strip down to episode only\n",
    "\n",
    "train_processed_source = Lazy_Iterable_Wrapper(train_original_source, transform_lambda)\n",
    "val_processed_source   = Lazy_Iterable_Wrapper(val_original_source, transform_lambda)\n",
    "test_processed_source  = Lazy_Iterable_Wrapper(test_original_source, transform_lambda)\n",
    "\n",
    "train_processed_target = Lazy_Iterable_Wrapper(train_original_target, transform_lambda)\n",
    "val_processed_target   = Lazy_Iterable_Wrapper(val_original_target, transform_lambda)\n",
    "test_processed_target  = Lazy_Iterable_Wrapper(test_original_target, transform_lambda)\n",
    "\n",
    "datasets = EasyDict({\n",
    "    \"source\": {\n",
    "        \"original\": {\"train\":train_original_source, \"val\":val_original_source, \"test\":test_original_source},\n",
    "        \"processed\": {\"train\":train_processed_source, \"val\":val_processed_source, \"test\":test_processed_source}\n",
    "    },\n",
    "    \"target\": {\n",
    "        \"original\": {\"train\":train_original_target, \"val\":val_original_target, \"test\":test_original_target},\n",
    "        \"processed\": {\"train\":train_processed_target, \"val\":val_processed_target, \"test\":test_processed_target}\n",
    "    },\n",
    "})"
   ]
  },
  {
   "cell_type": "code",
   "execution_count": 20,
   "id": "5b3c01fc",
   "metadata": {
    "execution": {
     "iopub.execute_input": "2022-03-20T09:27:45.861780Z",
     "iopub.status.busy": "2022-03-20T09:27:45.861503Z",
     "iopub.status.idle": "2022-03-20T09:27:55.449035Z",
     "shell.execute_reply": "2022-03-20T09:27:55.449289Z"
    },
    "papermill": {
     "duration": 9.605945,
     "end_time": "2022-03-20T09:27:55.449376",
     "exception": false,
     "start_time": "2022-03-20T09:27:45.843431",
     "status": "completed"
    },
    "tags": []
   },
   "outputs": [
    {
     "name": "stdout",
     "output_type": "stream",
     "text": [
      "{'W_4', 'C_1', 'C_5', 'W_3', 'C_2', 'W_1', 'C_4', 'W_2', 'C_3'}\n"
     ]
    },
    {
     "name": "stdout",
     "output_type": "stream",
     "text": [
      "{'O_26', 'O_38', 'O_32', 'O_14', 'O_20', 'O_44', 'O_8', 'O_50'}\n"
     ]
    },
    {
     "name": "stdout",
     "output_type": "stream",
     "text": [
      "tensor([[[-0.3864,  0.5299,  1.0966,  ...,  0.1828,  0.4184,  0.9555],\n",
      "         [-0.4537, -0.9852,  0.2477,  ..., -0.2461, -0.5724, -0.0842]],\n",
      "\n",
      "        [[-0.3494,  0.7304,  1.1154,  ...,  0.1399,  0.4783,  1.0324],\n",
      "         [-0.8490, -0.8364,  0.5462,  ..., -0.2917, -0.5051, -0.0095]],\n",
      "\n",
      "        [[-0.5588,  0.7875,  0.9502,  ..., -0.3771,  0.3350,  0.8375],\n",
      "         [-0.7446, -1.0002,  0.4064,  ..., -0.5168, -0.9938, -0.0214]],\n",
      "\n",
      "        ...,\n",
      "\n",
      "        [[-0.1855,  1.0692,  1.6378,  ..., -0.3197,  1.0919,  1.0210],\n",
      "         [-0.2579, -1.0919, -0.3589,  ..., -0.4057,  0.1825,  0.4630]],\n",
      "\n",
      "        [[-0.6034,  1.0727,  1.7744,  ...,  0.1877,  0.8328,  0.1117],\n",
      "         [-0.1251, -0.2294,  0.4812,  ..., -0.2399, -0.2369,  0.8119]],\n",
      "\n",
      "        [[ 0.3618, -0.0819, -1.3048,  ...,  0.4669, -0.2999, -1.1100],\n",
      "         [-0.1391,  0.8735,  0.9956,  ...,  0.3664,  0.5875, -0.3896]]])\n"
     ]
    }
   ],
   "source": [
    "from steves_utils.transforms import get_average_magnitude, get_average_power\n",
    "\n",
    "print(set([u for u,_ in val_original_source]))\n",
    "print(set([u for u,_ in val_original_target]))\n",
    "\n",
    "s_x, s_y, q_x, q_y, _ = next(iter(train_processed_source))\n",
    "print(s_x)\n",
    "\n",
    "# for ds in [\n",
    "#     train_processed_source,\n",
    "#     val_processed_source,\n",
    "#     test_processed_source,\n",
    "#     train_processed_target,\n",
    "#     val_processed_target,\n",
    "#     test_processed_target\n",
    "# ]:\n",
    "#     for s_x, s_y, q_x, q_y, _ in ds:\n",
    "#         for X in (s_x, q_x):\n",
    "#             for x in X:\n",
    "#                 assert np.isclose(get_average_magnitude(x.numpy()), 1.0)\n",
    "#                 assert np.isclose(get_average_power(x.numpy()), 1.0)\n",
    "                "
   ]
  },
  {
   "cell_type": "code",
   "execution_count": 21,
   "id": "bbdacba1",
   "metadata": {
    "execution": {
     "iopub.execute_input": "2022-03-20T09:27:55.490187Z",
     "iopub.status.busy": "2022-03-20T09:27:55.489911Z",
     "iopub.status.idle": "2022-03-20T09:27:55.550401Z",
     "shell.execute_reply": "2022-03-20T09:27:55.550029Z"
    },
    "papermill": {
     "duration": 0.080559,
     "end_time": "2022-03-20T09:27:55.550488",
     "exception": false,
     "start_time": "2022-03-20T09:27:55.469929",
     "status": "completed"
    },
    "tags": []
   },
   "outputs": [
    {
     "name": "stdout",
     "output_type": "stream",
     "text": [
      "(2, 256)\n"
     ]
    }
   ],
   "source": [
    "###################################\n",
    "# Build the model\n",
    "###################################\n",
    "# easfsl only wants a tuple for the shape\n",
    "model = Steves_Prototypical_Network(x_net, device=p.device, x_shape=tuple(p.x_shape))\n",
    "optimizer = Adam(params=model.parameters(), lr=p.lr)"
   ]
  },
  {
   "cell_type": "code",
   "execution_count": 22,
   "id": "22b39ac5",
   "metadata": {
    "execution": {
     "iopub.execute_input": "2022-03-20T09:27:55.590636Z",
     "iopub.status.busy": "2022-03-20T09:27:55.590259Z",
     "iopub.status.idle": "2022-03-20T10:40:05.892204Z",
     "shell.execute_reply": "2022-03-20T10:40:05.891918Z"
    },
    "papermill": {
     "duration": 4330.320565,
     "end_time": "2022-03-20T10:40:05.892288",
     "exception": false,
     "start_time": "2022-03-20T09:27:55.571723",
     "status": "completed"
    },
    "tags": []
   },
   "outputs": [
    {
     "name": "stdout",
     "output_type": "stream",
     "text": [
      "epoch: 1, [batch: 1 / 13150], examples_per_second: 24.0301, train_label_loss: 2.5770, \n"
     ]
    },
    {
     "name": "stdout",
     "output_type": "stream",
     "text": [
      "epoch: 1, [batch: 1315 / 13150], examples_per_second: 1727.9224, train_label_loss: 0.0303, \n"
     ]
    },
    {
     "name": "stdout",
     "output_type": "stream",
     "text": [
      "epoch: 1, [batch: 2630 / 13150], examples_per_second: 1727.1491, train_label_loss: 0.0334, \n"
     ]
    },
    {
     "name": "stdout",
     "output_type": "stream",
     "text": [
      "epoch: 1, [batch: 3945 / 13150], examples_per_second: 1730.0860, train_label_loss: 0.0141, \n"
     ]
    },
    {
     "name": "stdout",
     "output_type": "stream",
     "text": [
      "epoch: 1, [batch: 5260 / 13150], examples_per_second: 1725.0695, train_label_loss: 0.3012, \n"
     ]
    },
    {
     "name": "stdout",
     "output_type": "stream",
     "text": [
      "epoch: 1, [batch: 6575 / 13150], examples_per_second: 1727.5403, train_label_loss: 0.0031, \n"
     ]
    },
    {
     "name": "stdout",
     "output_type": "stream",
     "text": [
      "epoch: 1, [batch: 7890 / 13150], examples_per_second: 1728.9671, train_label_loss: 0.2784, \n"
     ]
    },
    {
     "name": "stdout",
     "output_type": "stream",
     "text": [
      "epoch: 1, [batch: 9205 / 13150], examples_per_second: 1728.3599, train_label_loss: 0.0009, \n"
     ]
    },
    {
     "name": "stdout",
     "output_type": "stream",
     "text": [
      "epoch: 1, [batch: 10520 / 13150], examples_per_second: 1726.9286, train_label_loss: 0.5673, \n"
     ]
    },
    {
     "name": "stdout",
     "output_type": "stream",
     "text": [
      "epoch: 1, [batch: 11835 / 13150], examples_per_second: 1729.8273, train_label_loss: 0.0008, \n"
     ]
    },
    {
     "name": "stdout",
     "output_type": "stream",
     "text": [
      "=============================================================\n",
      "epoch: 1, source_val_acc_label: 0.9796, target_val_acc_label: 0.1708, source_val_label_loss: 0.0990, target_val_label_loss: 2.5878, \n",
      "=============================================================\n"
     ]
    },
    {
     "name": "stdout",
     "output_type": "stream",
     "text": [
      "New best\n"
     ]
    },
    {
     "name": "stdout",
     "output_type": "stream",
     "text": [
      "epoch: 2, [batch: 1 / 13146], examples_per_second: 1.7182, train_label_loss: 0.1002, \n"
     ]
    },
    {
     "name": "stdout",
     "output_type": "stream",
     "text": [
      "epoch: 2, [batch: 1315 / 13146], examples_per_second: 1740.2506, train_label_loss: 0.1099, \n"
     ]
    },
    {
     "name": "stdout",
     "output_type": "stream",
     "text": [
      "epoch: 2, [batch: 2630 / 13146], examples_per_second: 1742.3570, train_label_loss: 0.1158, \n"
     ]
    },
    {
     "name": "stdout",
     "output_type": "stream",
     "text": [
      "epoch: 2, [batch: 3944 / 13146], examples_per_second: 1744.4924, train_label_loss: 0.0019, \n"
     ]
    },
    {
     "name": "stdout",
     "output_type": "stream",
     "text": [
      "epoch: 2, [batch: 5259 / 13146], examples_per_second: 1735.8832, train_label_loss: 0.0139, \n"
     ]
    },
    {
     "name": "stdout",
     "output_type": "stream",
     "text": [
      "epoch: 2, [batch: 6573 / 13146], examples_per_second: 1740.5427, train_label_loss: 0.0004, \n"
     ]
    },
    {
     "name": "stdout",
     "output_type": "stream",
     "text": [
      "epoch: 2, [batch: 7888 / 13146], examples_per_second: 1742.3140, train_label_loss: 0.0007, \n"
     ]
    },
    {
     "name": "stdout",
     "output_type": "stream",
     "text": [
      "epoch: 2, [batch: 9202 / 13146], examples_per_second: 1738.1659, train_label_loss: 0.0009, \n"
     ]
    },
    {
     "name": "stdout",
     "output_type": "stream",
     "text": [
      "epoch: 2, [batch: 10517 / 13146], examples_per_second: 1740.4151, train_label_loss: 0.0666, \n"
     ]
    },
    {
     "name": "stdout",
     "output_type": "stream",
     "text": [
      "epoch: 2, [batch: 11831 / 13146], examples_per_second: 1742.7896, train_label_loss: 0.2132, \n"
     ]
    },
    {
     "name": "stdout",
     "output_type": "stream",
     "text": [
      "=============================================================\n",
      "epoch: 2, source_val_acc_label: 0.9836, target_val_acc_label: 0.1964, source_val_label_loss: 0.0733, target_val_label_loss: 2.4687, \n",
      "=============================================================\n"
     ]
    },
    {
     "name": "stdout",
     "output_type": "stream",
     "text": [
      "New best\n"
     ]
    },
    {
     "name": "stdout",
     "output_type": "stream",
     "text": [
      "epoch: 3, [batch: 1 / 13172], examples_per_second: 1.7381, train_label_loss: 0.0279, \n"
     ]
    },
    {
     "name": "stdout",
     "output_type": "stream",
     "text": [
      "epoch: 3, [batch: 1318 / 13172], examples_per_second: 1740.4670, train_label_loss: 0.0017, \n"
     ]
    },
    {
     "name": "stdout",
     "output_type": "stream",
     "text": [
      "epoch: 3, [batch: 2635 / 13172], examples_per_second: 1742.1083, train_label_loss: 0.0005, \n"
     ]
    },
    {
     "name": "stdout",
     "output_type": "stream",
     "text": [
      "epoch: 3, [batch: 3952 / 13172], examples_per_second: 1742.9674, train_label_loss: 0.0104, \n"
     ]
    },
    {
     "name": "stdout",
     "output_type": "stream",
     "text": [
      "epoch: 3, [batch: 5269 / 13172], examples_per_second: 1737.9473, train_label_loss: 0.0034, \n"
     ]
    },
    {
     "name": "stdout",
     "output_type": "stream",
     "text": [
      "epoch: 3, [batch: 6586 / 13172], examples_per_second: 1740.6101, train_label_loss: 0.0214, \n"
     ]
    },
    {
     "name": "stdout",
     "output_type": "stream",
     "text": [
      "epoch: 3, [batch: 7903 / 13172], examples_per_second: 1743.5098, train_label_loss: 0.0002, \n"
     ]
    },
    {
     "name": "stdout",
     "output_type": "stream",
     "text": [
      "epoch: 3, [batch: 9220 / 13172], examples_per_second: 1738.9884, train_label_loss: 0.1816, \n"
     ]
    },
    {
     "name": "stdout",
     "output_type": "stream",
     "text": [
      "epoch: 3, [batch: 10537 / 13172], examples_per_second: 1739.6315, train_label_loss: 0.0004, \n"
     ]
    },
    {
     "name": "stdout",
     "output_type": "stream",
     "text": [
      "epoch: 3, [batch: 11854 / 13172], examples_per_second: 1743.3281, train_label_loss: 0.0004, \n"
     ]
    },
    {
     "name": "stdout",
     "output_type": "stream",
     "text": [
      "=============================================================\n",
      "epoch: 3, source_val_acc_label: 0.9854, target_val_acc_label: 0.1987, source_val_label_loss: 0.0632, target_val_label_loss: 2.5057, \n",
      "=============================================================\n"
     ]
    },
    {
     "name": "stdout",
     "output_type": "stream",
     "text": [
      "New best\n"
     ]
    },
    {
     "name": "stdout",
     "output_type": "stream",
     "text": [
      "epoch: 4, [batch: 1 / 13145], examples_per_second: 1.7356, train_label_loss: 0.0151, \n"
     ]
    },
    {
     "name": "stdout",
     "output_type": "stream",
     "text": [
      "epoch: 4, [batch: 1315 / 13145], examples_per_second: 1738.2712, train_label_loss: 0.0004, \n"
     ]
    },
    {
     "name": "stdout",
     "output_type": "stream",
     "text": [
      "epoch: 4, [batch: 2629 / 13145], examples_per_second: 1741.8446, train_label_loss: 0.0001, \n"
     ]
    },
    {
     "name": "stdout",
     "output_type": "stream",
     "text": [
      "epoch: 4, [batch: 3944 / 13145], examples_per_second: 1742.0768, train_label_loss: 0.0020, \n"
     ]
    },
    {
     "name": "stdout",
     "output_type": "stream",
     "text": [
      "epoch: 4, [batch: 5258 / 13145], examples_per_second: 1737.6464, train_label_loss: 0.0184, \n"
     ]
    },
    {
     "name": "stdout",
     "output_type": "stream",
     "text": [
      "epoch: 4, [batch: 6573 / 13145], examples_per_second: 1741.3997, train_label_loss: 0.0091, \n"
     ]
    },
    {
     "name": "stdout",
     "output_type": "stream",
     "text": [
      "epoch: 4, [batch: 7887 / 13145], examples_per_second: 1741.7774, train_label_loss: 0.0009, \n"
     ]
    },
    {
     "name": "stdout",
     "output_type": "stream",
     "text": [
      "epoch: 4, [batch: 9201 / 13145], examples_per_second: 1740.5348, train_label_loss: 0.0001, \n"
     ]
    },
    {
     "name": "stdout",
     "output_type": "stream",
     "text": [
      "epoch: 4, [batch: 10516 / 13145], examples_per_second: 1742.7532, train_label_loss: 0.0002, \n"
     ]
    },
    {
     "name": "stdout",
     "output_type": "stream",
     "text": [
      "epoch: 4, [batch: 11830 / 13145], examples_per_second: 1743.5716, train_label_loss: 0.0019, \n"
     ]
    },
    {
     "name": "stdout",
     "output_type": "stream",
     "text": [
      "=============================================================\n",
      "epoch: 4, source_val_acc_label: 0.9861, target_val_acc_label: 0.1811, source_val_label_loss: 0.0628, target_val_label_loss: 2.7384, \n",
      "=============================================================\n"
     ]
    },
    {
     "name": "stdout",
     "output_type": "stream",
     "text": [
      "epoch: 5, [batch: 1 / 13163], examples_per_second: 1.7412, train_label_loss: 0.0003, \n"
     ]
    },
    {
     "name": "stdout",
     "output_type": "stream",
     "text": [
      "epoch: 5, [batch: 1317 / 13163], examples_per_second: 1739.5080, train_label_loss: 0.0829, \n"
     ]
    },
    {
     "name": "stdout",
     "output_type": "stream",
     "text": [
      "epoch: 5, [batch: 2633 / 13163], examples_per_second: 1741.0379, train_label_loss: 0.0537, \n"
     ]
    },
    {
     "name": "stdout",
     "output_type": "stream",
     "text": [
      "epoch: 5, [batch: 3949 / 13163], examples_per_second: 1744.8078, train_label_loss: 0.0153, \n"
     ]
    },
    {
     "name": "stdout",
     "output_type": "stream",
     "text": [
      "epoch: 5, [batch: 5265 / 13163], examples_per_second: 1738.5738, train_label_loss: 0.1568, \n"
     ]
    },
    {
     "name": "stdout",
     "output_type": "stream",
     "text": [
      "epoch: 5, [batch: 6582 / 13163], examples_per_second: 1739.7956, train_label_loss: 0.1761, \n"
     ]
    },
    {
     "name": "stdout",
     "output_type": "stream",
     "text": [
      "epoch: 5, [batch: 7898 / 13163], examples_per_second: 1740.9226, train_label_loss: 0.0082, \n"
     ]
    },
    {
     "name": "stdout",
     "output_type": "stream",
     "text": [
      "epoch: 5, [batch: 9214 / 13163], examples_per_second: 1739.2261, train_label_loss: 0.0306, \n"
     ]
    },
    {
     "name": "stdout",
     "output_type": "stream",
     "text": [
      "epoch: 5, [batch: 10530 / 13163], examples_per_second: 1741.9483, train_label_loss: 0.0007, \n"
     ]
    },
    {
     "name": "stdout",
     "output_type": "stream",
     "text": [
      "epoch: 5, [batch: 11846 / 13163], examples_per_second: 1744.1703, train_label_loss: 0.0000, \n"
     ]
    },
    {
     "name": "stdout",
     "output_type": "stream",
     "text": [
      "=============================================================\n",
      "epoch: 5, source_val_acc_label: 0.9854, target_val_acc_label: 0.1529, source_val_label_loss: 0.0690, target_val_label_loss: 3.3104, \n",
      "=============================================================\n"
     ]
    },
    {
     "name": "stdout",
     "output_type": "stream",
     "text": [
      "epoch: 6, [batch: 1 / 13152], examples_per_second: 1.7345, train_label_loss: 0.0293, \n"
     ]
    },
    {
     "name": "stdout",
     "output_type": "stream",
     "text": [
      "epoch: 6, [batch: 1316 / 13152], examples_per_second: 2061.8677, train_label_loss: 0.0003, \n"
     ]
    },
    {
     "name": "stdout",
     "output_type": "stream",
     "text": [
      "epoch: 6, [batch: 2631 / 13152], examples_per_second: 1998.4189, train_label_loss: 0.0064, \n"
     ]
    },
    {
     "name": "stdout",
     "output_type": "stream",
     "text": [
      "epoch: 6, [batch: 3946 / 13152], examples_per_second: 2952.5412, train_label_loss: 0.0000, \n"
     ]
    },
    {
     "name": "stdout",
     "output_type": "stream",
     "text": [
      "epoch: 6, [batch: 5261 / 13152], examples_per_second: 3120.4702, train_label_loss: 0.1141, \n"
     ]
    },
    {
     "name": "stdout",
     "output_type": "stream",
     "text": [
      "epoch: 6, [batch: 6576 / 13152], examples_per_second: 3154.1090, train_label_loss: 0.0028, \n"
     ]
    },
    {
     "name": "stdout",
     "output_type": "stream",
     "text": [
      "epoch: 6, [batch: 7891 / 13152], examples_per_second: 3176.9096, train_label_loss: 0.0001, \n"
     ]
    },
    {
     "name": "stdout",
     "output_type": "stream",
     "text": [
      "epoch: 6, [batch: 9206 / 13152], examples_per_second: 2967.7082, train_label_loss: 0.0000, \n"
     ]
    },
    {
     "name": "stdout",
     "output_type": "stream",
     "text": [
      "epoch: 6, [batch: 10521 / 13152], examples_per_second: 1737.2110, train_label_loss: 0.1070, \n"
     ]
    },
    {
     "name": "stdout",
     "output_type": "stream",
     "text": [
      "epoch: 6, [batch: 11836 / 13152], examples_per_second: 1739.6846, train_label_loss: 0.0008, \n"
     ]
    },
    {
     "name": "stdout",
     "output_type": "stream",
     "text": [
      "=============================================================\n",
      "epoch: 6, source_val_acc_label: 0.9856, target_val_acc_label: 0.1494, source_val_label_loss: 0.0669, target_val_label_loss: 3.4283, \n",
      "=============================================================\n"
     ]
    },
    {
     "name": "stdout",
     "output_type": "stream",
     "text": [
      "epoch: 7, [batch: 1 / 13174], examples_per_second: 1.4723, train_label_loss: 0.0579, \n"
     ]
    },
    {
     "name": "stdout",
     "output_type": "stream",
     "text": [
      "epoch: 7, [batch: 1318 / 13174], examples_per_second: 1736.2688, train_label_loss: 0.0002, \n"
     ]
    },
    {
     "name": "stdout",
     "output_type": "stream",
     "text": [
      "epoch: 7, [batch: 2635 / 13174], examples_per_second: 1737.8552, train_label_loss: 0.0003, \n"
     ]
    },
    {
     "name": "stdout",
     "output_type": "stream",
     "text": [
      "epoch: 7, [batch: 3952 / 13174], examples_per_second: 1739.4465, train_label_loss: 0.0002, \n"
     ]
    },
    {
     "name": "stdout",
     "output_type": "stream",
     "text": [
      "epoch: 7, [batch: 5270 / 13174], examples_per_second: 1735.7800, train_label_loss: 0.0739, \n"
     ]
    },
    {
     "name": "stdout",
     "output_type": "stream",
     "text": [
      "epoch: 7, [batch: 6587 / 13174], examples_per_second: 1737.2377, train_label_loss: 0.1542, \n"
     ]
    },
    {
     "name": "stdout",
     "output_type": "stream",
     "text": [
      "epoch: 7, [batch: 7904 / 13174], examples_per_second: 1792.5555, train_label_loss: 0.0185, \n"
     ]
    },
    {
     "name": "stdout",
     "output_type": "stream",
     "text": [
      "epoch: 7, [batch: 9222 / 13174], examples_per_second: 2172.0154, train_label_loss: 0.0522, \n"
     ]
    },
    {
     "name": "stdout",
     "output_type": "stream",
     "text": [
      "epoch: 7, [batch: 10539 / 13174], examples_per_second: 1739.2975, train_label_loss: 0.1356, \n"
     ]
    },
    {
     "name": "stdout",
     "output_type": "stream",
     "text": [
      "epoch: 7, [batch: 11856 / 13174], examples_per_second: 1740.5010, train_label_loss: 0.1923, \n"
     ]
    },
    {
     "name": "stdout",
     "output_type": "stream",
     "text": [
      "=============================================================\n",
      "epoch: 7, source_val_acc_label: 0.9856, target_val_acc_label: 0.1412, source_val_label_loss: 0.0696, target_val_label_loss: 3.9338, \n",
      "=============================================================\n"
     ]
    },
    {
     "name": "stdout",
     "output_type": "stream",
     "text": [
      "Patience (3) exhausted\n"
     ]
    }
   ],
   "source": [
    "###################################\n",
    "# train\n",
    "###################################\n",
    "jig = PTN_Train_Eval_Test_Jig(model, p.BEST_MODEL_PATH, p.device)\n",
    "\n",
    "jig.train(\n",
    "    train_iterable=datasets.source.processed.train,\n",
    "    source_val_iterable=datasets.source.processed.val,\n",
    "    target_val_iterable=datasets.target.processed.val,\n",
    "    num_epochs=p.n_epoch,\n",
    "    num_logs_per_epoch=p.NUM_LOGS_PER_EPOCH,\n",
    "    patience=p.patience,\n",
    "    optimizer=optimizer,\n",
    "    criteria_for_best=p.criteria_for_best,\n",
    ")"
   ]
  },
  {
   "cell_type": "code",
   "execution_count": 23,
   "id": "31e8fabf",
   "metadata": {
    "execution": {
     "iopub.execute_input": "2022-03-20T10:40:05.961523Z",
     "iopub.status.busy": "2022-03-20T10:40:05.960230Z",
     "iopub.status.idle": "2022-03-20T10:40:05.980099Z",
     "shell.execute_reply": "2022-03-20T10:40:05.979643Z"
    },
    "papermill": {
     "duration": 0.056378,
     "end_time": "2022-03-20T10:40:05.980207",
     "exception": false,
     "start_time": "2022-03-20T10:40:05.923829",
     "status": "completed"
    },
    "tags": []
   },
   "outputs": [],
   "source": [
    "total_experiment_time_secs = time.time() - start_time_secs"
   ]
  },
  {
   "cell_type": "code",
   "execution_count": 24,
   "id": "87b9595b",
   "metadata": {
    "execution": {
     "iopub.execute_input": "2022-03-20T10:40:06.048215Z",
     "iopub.status.busy": "2022-03-20T10:40:06.047933Z",
     "iopub.status.idle": "2022-03-20T10:43:56.389113Z",
     "shell.execute_reply": "2022-03-20T10:43:56.389550Z"
    },
    "papermill": {
     "duration": 230.376563,
     "end_time": "2022-03-20T10:43:56.389688",
     "exception": false,
     "start_time": "2022-03-20T10:40:06.013125",
     "status": "completed"
    },
    "tags": []
   },
   "outputs": [],
   "source": [
    "###################################\n",
    "# Evaluate the model\n",
    "###################################\n",
    "source_test_label_accuracy, source_test_label_loss = jig.test(datasets.source.processed.test)\n",
    "target_test_label_accuracy, target_test_label_loss = jig.test(datasets.target.processed.test)\n",
    "\n",
    "source_val_label_accuracy, source_val_label_loss = jig.test(datasets.source.processed.val)\n",
    "target_val_label_accuracy, target_val_label_loss = jig.test(datasets.target.processed.val)\n",
    "\n",
    "history = jig.get_history()\n",
    "\n",
    "total_epochs_trained = len(history[\"epoch_indices\"])\n",
    "\n",
    "val_dl = Iterable_Aggregator((datasets.source.original.val,datasets.target.original.val))\n",
    "\n",
    "confusion = ptn_confusion_by_domain_over_dataloader(model, p.device, val_dl)\n",
    "per_domain_accuracy = per_domain_accuracy_from_confusion(confusion)\n",
    "\n",
    "# Add a key to per_domain_accuracy for if it was a source domain\n",
    "for domain, accuracy in per_domain_accuracy.items():\n",
    "    per_domain_accuracy[domain] = {\n",
    "        \"accuracy\": accuracy,\n",
    "        \"source?\": domain in p.domains_source\n",
    "    }\n",
    "\n",
    "# Do an independent accuracy assesment JUST TO BE SURE!\n",
    "# _source_test_label_accuracy = independent_accuracy_assesment(model, datasets.source.processed.test, p.device)\n",
    "# _target_test_label_accuracy = independent_accuracy_assesment(model, datasets.target.processed.test, p.device)\n",
    "# _source_val_label_accuracy = independent_accuracy_assesment(model, datasets.source.processed.val, p.device)\n",
    "# _target_val_label_accuracy = independent_accuracy_assesment(model, datasets.target.processed.val, p.device)\n",
    "\n",
    "# assert(_source_test_label_accuracy == source_test_label_accuracy)\n",
    "# assert(_target_test_label_accuracy == target_test_label_accuracy)\n",
    "# assert(_source_val_label_accuracy == source_val_label_accuracy)\n",
    "# assert(_target_val_label_accuracy == target_val_label_accuracy)\n",
    "\n",
    "experiment = {\n",
    "    \"experiment_name\": p.experiment_name,\n",
    "    \"parameters\": dict(p),\n",
    "    \"results\": {\n",
    "        \"source_test_label_accuracy\": source_test_label_accuracy,\n",
    "        \"source_test_label_loss\": source_test_label_loss,\n",
    "        \"target_test_label_accuracy\": target_test_label_accuracy,\n",
    "        \"target_test_label_loss\": target_test_label_loss,\n",
    "        \"source_val_label_accuracy\": source_val_label_accuracy,\n",
    "        \"source_val_label_loss\": source_val_label_loss,\n",
    "        \"target_val_label_accuracy\": target_val_label_accuracy,\n",
    "        \"target_val_label_loss\": target_val_label_loss,\n",
    "        \"total_epochs_trained\": total_epochs_trained,\n",
    "        \"total_experiment_time_secs\": total_experiment_time_secs,\n",
    "        \"confusion\": confusion,\n",
    "        \"per_domain_accuracy\": per_domain_accuracy,\n",
    "    },\n",
    "    \"history\": history,\n",
    "    \"dataset_metrics\": get_dataset_metrics(datasets, \"ptn\"),\n",
    "}"
   ]
  },
  {
   "cell_type": "code",
   "execution_count": 25,
   "id": "54a21829",
   "metadata": {
    "execution": {
     "iopub.execute_input": "2022-03-20T10:43:56.456792Z",
     "iopub.status.busy": "2022-03-20T10:43:56.455952Z",
     "iopub.status.idle": "2022-03-20T10:43:56.585345Z",
     "shell.execute_reply": "2022-03-20T10:43:56.585763Z"
    },
    "papermill": {
     "duration": 0.159822,
     "end_time": "2022-03-20T10:43:56.585896",
     "exception": false,
     "start_time": "2022-03-20T10:43:56.426074",
     "status": "completed"
    },
    "tags": []
   },
   "outputs": [
    {
     "data": {
      "image/png": "[encoded data removed]",
      "text/plain": [
       "<Figure size 1080x504 with 1 Axes>"
      ]
     },
     "metadata": {
      "needs_background": "light"
     },
     "output_type": "display_data"
    }
   ],
   "source": [
    "ax = get_loss_curve(experiment)\n",
    "plt.show()"
   ]
  },
  {
   "cell_type": "code",
   "execution_count": 26,
   "id": "fd8a0f60",
   "metadata": {
    "execution": {
     "iopub.execute_input": "2022-03-20T10:43:56.650496Z",
     "iopub.status.busy": "2022-03-20T10:43:56.650234Z",
     "iopub.status.idle": "2022-03-20T10:43:56.820974Z",
     "shell.execute_reply": "2022-03-20T10:43:56.821209Z"
    },
    "papermill": {
     "duration": 0.202541,
     "end_time": "2022-03-20T10:43:56.821294",
     "exception": false,
     "start_time": "2022-03-20T10:43:56.618753",
     "status": "completed"
    },
    "tags": []
   },
   "outputs": [
    {
     "data": {
      "text/plain": [
       "<AxesSubplot:title={'center':'Results'}>"
      ]
     },
     "execution_count": 26,
     "metadata": {},
     "output_type": "execute_result"
    },
    {
     "data": {
      "image/png": "[encoded data removed]",
      "text/plain": [
       "<Figure size 1080x504 with 1 Axes>"
      ]
     },
     "metadata": {
      "needs_background": "light"
     },
     "output_type": "display_data"
    }
   ],
   "source": [
    "get_results_table(experiment)"
   ]
  },
  {
   "cell_type": "code",
   "execution_count": 27,
   "id": "cf8dc689",
   "metadata": {
    "execution": {
     "iopub.execute_input": "2022-03-20T10:43:56.887119Z",
     "iopub.status.busy": "2022-03-20T10:43:56.886707Z",
     "iopub.status.idle": "2022-03-20T10:43:57.036351Z",
     "shell.execute_reply": "2022-03-20T10:43:57.036585Z"
    },
    "papermill": {
     "duration": 0.183189,
     "end_time": "2022-03-20T10:43:57.036667",
     "exception": false,
     "start_time": "2022-03-20T10:43:56.853478",
     "status": "completed"
    },
    "tags": []
   },
   "outputs": [
    {
     "data": {
      "text/plain": [
       "<AxesSubplot:title={'center':'Per Domain Validation Accuracy'}, xlabel='domain'>"
      ]
     },
     "execution_count": 27,
     "metadata": {},
     "output_type": "execute_result"
    },
    {
     "data": {
      "image/png": "[encoded data removed]",
      "text/plain": [
       "<Figure size 1080x504 with 1 Axes>"
      ]
     },
     "metadata": {
      "needs_background": "light"
     },
     "output_type": "display_data"
    }
   ],
   "source": [
    "get_domain_accuracies(experiment)"
   ]
  },
  {
   "cell_type": "code",
   "execution_count": 28,
   "id": "a74ae082",
   "metadata": {
    "execution": {
     "iopub.execute_input": "2022-03-20T10:43:57.106734Z",
     "iopub.status.busy": "2022-03-20T10:43:57.106459Z",
     "iopub.status.idle": "2022-03-20T10:43:57.120010Z",
     "shell.execute_reply": "2022-03-20T10:43:57.120223Z"
    },
    "papermill": {
     "duration": 0.048662,
     "end_time": "2022-03-20T10:43:57.120299",
     "exception": false,
     "start_time": "2022-03-20T10:43:57.071637",
     "status": "completed"
    },
    "tags": []
   },
   "outputs": [
    {
     "name": "stdout",
     "output_type": "stream",
     "text": [
      "Source Test Label Accuracy: 0.9848469525350594 Target Test Label Accuracy: 0.20397135416666667\n",
      "Source Val Label Accuracy: 0.9854383918770582 Target Val Label Accuracy: 0.19866536458333334\n"
     ]
    }
   ],
   "source": [
    "print(\"Source Test Label Accuracy:\", experiment[\"results\"][\"source_test_label_accuracy\"], \"Target Test Label Accuracy:\", experiment[\"results\"][\"target_test_label_accuracy\"])\n",
    "print(\"Source Val Label Accuracy:\", experiment[\"results\"][\"source_val_label_accuracy\"], \"Target Val Label Accuracy:\", experiment[\"results\"][\"target_val_label_accuracy\"])"
   ]
  },
  {
   "cell_type": "code",
   "execution_count": 29,
   "id": "dacca602",
   "metadata": {
    "execution": {
     "iopub.execute_input": "2022-03-20T10:43:57.189720Z",
     "iopub.status.busy": "2022-03-20T10:43:57.189325Z",
     "iopub.status.idle": "2022-03-20T10:43:57.207554Z",
     "shell.execute_reply": "2022-03-20T10:43:57.207772Z"
    },
    "papermill": {
     "duration": 0.054431,
     "end_time": "2022-03-20T10:43:57.207870",
     "exception": false,
     "start_time": "2022-03-20T10:43:57.153439",
     "status": "completed"
    },
    "tags": [
     "experiment_json"
    ]
   },
   "outputs": [
    {
     "data": {
      "text/plain": [
       "'{\"experiment_name\": \"tl_2v2:cores+wisig -> oracle.run1.framed\", \"parameters\": {\"experiment_name\": \"tl_2v2:cores+wisig -> oracle.run1.framed\", \"device\": \"cuda\", \"lr\": 0.0001, \"n_shot\": 3, \"n_query\": 2, \"train_k_factor\": 3, \"val_k_factor\": 2, \"test_k_factor\": 2, \"torch_default_dtype\": \"torch.float32\", \"n_epoch\": 50, \"patience\": 3, \"criteria_for_best\": \"target_accuracy\", \"x_net\": [{\"class\": \"nnReshape\", \"kargs\": {\"shape\": [-1, 1, 2, 256]}}, {\"class\": \"Conv2d\", \"kargs\": {\"in_channels\": 1, \"out_channels\": 256, \"kernel_size\": [1, 7], \"bias\": false, \"padding\": [0, 3]}}, {\"class\": \"ReLU\", \"kargs\": {\"inplace\": true}}, {\"class\": \"BatchNorm2d\", \"kargs\": {\"num_features\": 256}}, {\"class\": \"Conv2d\", \"kargs\": {\"in_channels\": 256, \"out_channels\": 80, \"kernel_size\": [2, 7], \"bias\": true, \"padding\": [0, 3]}}, {\"class\": \"ReLU\", \"kargs\": {\"inplace\": true}}, {\"class\": \"BatchNorm2d\", \"kargs\": {\"num_features\": 80}}, {\"class\": \"Flatten\", \"kargs\": {}}, {\"class\": \"Linear\", \"kargs\": {\"in_features\": 20480, \"out_features\": 256}}, {\"class\": \"ReLU\", \"kargs\": {\"inplace\": true}}, {\"class\": \"BatchNorm1d\", \"kargs\": {\"num_features\": 256}}, {\"class\": \"Linear\", \"kargs\": {\"in_features\": 256, \"out_features\": 256}}], \"NUM_LOGS_PER_EPOCH\": 10, \"BEST_MODEL_PATH\": \"./best_model.pth\", \"n_way\": 16, \"datasets\": [{\"labels\": [\"1-10.\", \"1-11.\", \"1-15.\", \"1-16.\", \"1-17.\", \"1-18.\", \"1-19.\", \"10-4.\", \"10-7.\", \"11-1.\", \"11-14.\", \"11-17.\", \"11-20.\", \"11-7.\", \"13-20.\", \"13-8.\", \"14-10.\", \"14-11.\", \"14-14.\", \"14-7.\", \"15-1.\", \"15-20.\", \"16-1.\", \"16-16.\", \"17-10.\", \"17-11.\", \"17-2.\", \"19-1.\", \"19-16.\", \"19-19.\", \"19-20.\", \"19-3.\", \"2-10.\", \"2-11.\", \"2-17.\", \"2-18.\", \"2-20.\", \"2-3.\", \"2-4.\", \"2-5.\", \"2-6.\", \"2-7.\", \"2-8.\", \"3-13.\", \"3-18.\", \"3-3.\", \"4-1.\", \"4-10.\", \"4-11.\", \"4-19.\", \"5-5.\", \"6-15.\", \"7-10.\", \"7-14.\", \"8-18.\", \"8-20.\", \"8-3.\", \"8-8.\"], \"domains\": [1, 2, 3, 4, 5], \"num_examples_per_domain_per_label\": -1, \"pickle_path\": \"/mnt/wd500GB/CSC500/csc500-main/datasets/cores.stratified_ds.2022A.pkl\", \"source_or_target_dataset\": \"source\", \"x_transforms\": [\"unit_power\"], \"episode_transforms\": [], \"domain_prefix\": \"C_\"}, {\"labels\": [\"1-10\", \"1-12\", \"1-14\", \"1-16\", \"1-18\", \"1-19\", \"1-8\", \"10-11\", \"10-17\", \"10-4\", \"10-7\", \"11-1\", \"11-10\", \"11-19\", \"11-20\", \"11-4\", \"11-7\", \"12-19\", \"12-20\", \"12-7\", \"13-14\", \"13-18\", \"13-19\", \"13-20\", \"13-3\", \"13-7\", \"14-10\", \"14-11\", \"14-12\", \"14-13\", \"14-14\", \"14-19\", \"14-20\", \"14-7\", \"14-8\", \"14-9\", \"15-1\", \"15-19\", \"15-6\", \"16-1\", \"16-16\", \"16-19\", \"16-20\", \"17-10\", \"17-11\", \"18-1\", \"18-10\", \"18-11\", \"18-12\", \"18-13\", \"18-14\", \"18-15\", \"18-16\", \"18-17\", \"18-19\", \"18-2\", \"18-20\", \"18-4\", \"18-5\", \"18-7\", \"18-8\", \"18-9\", \"19-1\", \"19-10\", \"19-11\", \"19-12\", \"19-13\", \"19-14\", \"19-15\", \"19-19\", \"19-2\", \"19-20\", \"19-3\", \"19-4\", \"19-6\", \"19-7\", \"19-8\", \"19-9\", \"2-1\", \"2-13\", \"2-15\", \"2-3\", \"2-4\", \"2-5\", \"2-6\", \"2-7\", \"2-8\", \"20-1\", \"20-12\", \"20-14\", \"20-15\", \"20-16\", \"20-18\", \"20-19\", \"20-20\", \"20-3\", \"20-4\", \"20-5\", \"20-7\", \"20-8\", \"3-1\", \"3-13\", \"3-18\", \"3-2\", \"3-8\", \"4-1\", \"4-10\", \"4-11\", \"5-1\", \"5-5\", \"6-1\", \"6-15\", \"6-6\", \"7-10\", \"7-11\", \"7-12\", \"7-13\", \"7-14\", \"7-7\", \"7-8\", \"7-9\", \"8-1\", \"8-13\", \"8-14\", \"8-18\", \"8-20\", \"8-3\", \"8-8\", \"9-1\", \"9-7\"], \"domains\": [1, 2, 3, 4], \"num_examples_per_domain_per_label\": -1, \"pickle_path\": \"/mnt/wd500GB/CSC500/csc500-main/datasets/wisig.node3-19.stratified_ds.2022A.pkl\", \"source_or_target_dataset\": \"source\", \"x_transforms\": [\"unit_power\"], \"episode_transforms\": [], \"domain_prefix\": \"W_\"}, {\"labels\": [\"3123D52\", \"3123D65\", \"3123D79\", \"3123D80\", \"3123D54\", \"3123D70\", \"3123D7B\", \"3123D89\", \"3123D58\", \"3123D76\", \"3123D7D\", \"3123EFE\", \"3123D64\", \"3123D78\", \"3123D7E\", \"3124E4A\"], \"domains\": [32, 38, 8, 44, 14, 50, 20, 26], \"num_examples_per_domain_per_label\": 2000, \"pickle_path\": \"/mnt/wd500GB/CSC500/csc500-main/datasets/oracle.Run1_framed_2000Examples_stratified_ds.2022A.pkl\", \"source_or_target_dataset\": \"target\", \"x_transforms\": [\"unit_power\"], \"episode_transforms\": [], \"domain_prefix\": \"O_\"}], \"seed\": 7, \"dataset_seed\": 7, \"x_shape\": [2, 256], \"domains_source\": [\"C_1\", \"C_2\", \"C_3\", \"C_4\", \"C_5\", \"W_1\", \"W_2\", \"W_3\", \"W_4\"], \"domains_target\": [\"O_32\", \"O_38\", \"O_8\", \"O_44\", \"O_14\", \"O_50\", \"O_20\", \"O_26\"]}, \"results\": {\"source_test_label_accuracy\": 0.9848469525350594, \"source_test_label_loss\": 0.06487979739904404, \"target_test_label_accuracy\": 0.20397135416666667, \"target_test_label_loss\": 2.495924711227417, \"source_val_label_accuracy\": 0.9854383918770582, \"source_val_label_loss\": 0.06320352107286453, \"target_val_label_accuracy\": 0.19866536458333334, \"target_val_label_loss\": 2.5057291984558105, \"total_epochs_trained\": 7, \"total_experiment_time_secs\": 4388.965619325638, \"confusion\": {\"C_5\": {\"26\": {\"26\": 24}, \"7\": {\"7\": 32}, \"56\": {\"56\": 142}, \"36\": {\"36\": 91, \"40\": 1}, \"47\": {\"47\": 100}, \"2\": {\"2\": 28}, \"15\": {\"15\": 152}, \"14\": {\"14\": 40, \"47\": 1, \"3\": 1, \"39\": 1, \"5\": 1}, \"27\": {\"27\": 146}, \"40\": {\"40\": 124}, \"49\": {\"49\": 36}, \"45\": {\"45\": 124}, \"46\": {\"46\": 136}, \"11\": {\"11\": 130}, \"30\": {\"30\": 112}, \"0\": {\"0\": 124}, \"10\": {\"10\": 68}, \"1\": {\"1\": 148}, \"42\": {\"42\": 38, \"3\": 2}, \"54\": {\"54\": 112}, \"55\": {\"55\": 152}, \"23\": {\"23\": 124}, \"25\": {\"25\": 152}, \"28\": {\"28\": 32}, \"32\": {\"32\": 32}, \"9\": {\"9\": 142}, \"39\": {\"39\": 20}, \"3\": {\"3\": 100}, \"29\": {\"29\": 118}, \"17\": {\"17\": 116}, \"35\": {\"35\": 36}, \"44\": {\"44\": 152}, \"5\": {\"5\": 128}, \"33\": {\"33\": 32}, \"34\": {\"34\": 36}, \"13\": {\"13\": 138}, \"41\": {\"41\": 28}, \"6\": {\"6\": 127, \"9\": 1}, \"51\": {\"51\": 138}, \"50\": {\"50\": 144}, \"37\": {\"37\": 24}, \"19\": {\"19\": 143, \"5\": 1}, \"57\": {\"57\": 132}, \"21\": {\"21\": 144}, \"24\": {\"24\": 80}, \"8\": {\"8\": 130}, \"12\": {\"12\": 96}, \"48\": {\"48\": 132}, \"43\": {\"43\": 150}, \"53\": {\"53\": 148}, \"38\": {\"38\": 32}, \"16\": {\"16\": 142}, \"22\": {\"22\": 28}, \"4\": {\"4\": 100}, \"18\": {\"18\": 64}, \"20\": {\"20\": 144}, \"52\": {\"52\": 140}, \"31\": {\"31\": 36}}, \"W_4\": {\"71\": {\"71\": 103, \"70\": 1}, \"17\": {\"17\": 20}, \"105\": {\"105\": 88, \"82\": 1, \"0\": 1, \"14\": 1, \"40\": 2, \"88\": 1, \"84\": 1, \"109\": 1, \"126\": 1, \"74\": 1, \"87\": 1, \"7\": 1}, \"92\": {\"92\": 27, \"2\": 1}, \"100\": {\"100\": 20}, \"6\": {\"6\": 23, \"10\": 1}, \"36\": {\"36\": 125, \"24\": 1, \"27\": 1, \"88\": 1}, \"35\": {\"35\": 12}, \"63\": {\"63\": 16}, \"104\": {\"104\": 16}, \"114\": {\"114\": 124, \"110\": 1, \"4\": 1, \"3\": 1, \"105\": 1}, \"68\": {\"68\": 16}, \"109\": {\"109\": 114, \"91\": 1, \"27\": 1}, \"27\": {\"27\": 95, \"0\": 2, \"78\": 1, \"108\": 1, \"88\": 1}, \"79\": {\"79\": 16}, \"0\": {\"0\": 97, \"39\": 2, \"27\": 2, \"118\": 1, \"101\": 1, \"87\": 1, \"126\": 1, \"4\": 1}, \"28\": {\"28\": 19, \"108\": 1}, \"4\": {\"4\": 102, \"21\": 1, \"27\": 1}, \"106\": {\"106\": 98, \"21\": 1, \"39\": 2, \"108\": 1}, \"40\": {\"40\": 131, \"16\": 1, \"69\": 1, \"18\": 1}, \"127\": {\"127\": 106, \"71\": 1, \"12\": 1}, \"57\": {\"57\": 14, \"47\": 1, \"73\": 1}, \"60\": {\"60\": 32}, \"69\": {\"69\": 120, \"118\": 1, \"27\": 1, \"126\": 1, \"39\": 1}, \"84\": {\"84\": 128, \"30\": 1, \"78\": 1, \"121\": 1, \"3\": 1}, \"24\": {\"24\": 111, \"10\": 2, \"71\": 1, \"27\": 1, \"70\": 1, \"36\": 2, \"4\": 1, \"127\": 1}, \"94\": {\"84\": 1, \"94\": 85, \"102\": 1, \"126\": 1}, \"7\": {\"7\": 115, \"87\": 1, \"108\": 1, \"16\": 1, \"85\": 1, \"27\": 1}, \"96\": {\"96\": 16, \"91\": 1, \"128\": 1, \"7\": 1, \"77\": 1}, \"116\": {\"116\": 28}, \"47\": {\"47\": 9, \"4\": 1, \"65\": 1, \"27\": 1}, \"119\": {\"119\": 15, \"24\": 1}, \"74\": {\"74\": 16}, \"93\": {\"93\": 151, \"0\": 1}, \"2\": {\"2\": 28}, \"37\": {\"37\": 15, \"47\": 1}, \"15\": {\"15\": 123, \"26\": 1, \"24\": 1, \"0\": 1, \"8\": 1, \"110\": 1}, \"102\": {\"102\": 136}, \"87\": {\"87\": 118, \"71\": 1, \"18\": 1, \"118\": 1, \"43\": 1}, \"107\": {\"107\": 142, \"72\": 1, \"101\": 1}, \"61\": {\"61\": 14, \"91\": 1, \"86\": 1}, \"78\": {\"74\": 2, \"78\": 27, \"50\": 1, \"27\": 1, \"105\": 1, \"126\": 1, \"35\": 1, \"95\": 1, \"36\": 1}, \"9\": {\"9\": 28}, \"32\": {\"32\": 27, \"55\": 1}, \"14\": {\"14\": 111, \"53\": 1}, \"62\": {\"62\": 55, \"81\": 1, \"88\": 1, \"72\": 1, \"0\": 1, \"105\": 1}, \"1\": {\"24\": 1, \"1\": 98, \"0\": 1, \"111\": 1, \"3\": 1}, \"23\": {\"23\": 11, \"60\": 1, \"110\": 1, \"63\": 1, \"78\": 1, \"12\": 1}, \"95\": {\"95\": 31, \"76\": 1}, \"56\": {\"56\": 12}, \"91\": {\"91\": 23, \"85\": 1}, \"34\": {\"34\": 31, \"43\": 1}, \"25\": {\"25\": 16}, \"33\": {\"33\": 123, \"122\": 1}, \"16\": {\"16\": 118, \"69\": 1, \"8\": 1, \"39\": 1, \"118\": 1, \"87\": 1, \"7\": 1}, \"26\": {\"26\": 123, \"1\": 1, \"3\": 1, \"18\": 1}, \"5\": {\"5\": 128, \"16\": 2, \"3\": 1, \"39\": 1, \"108\": 1, \"71\": 1, \"129\": 1, \"93\": 1}, \"123\": {\"123\": 15, \"6\": 1}, \"8\": {\"8\": 118}, \"83\": {\"83\": 24, \"79\": 1, \"55\": 1, \"113\": 1, \"105\": 1}, \"125\": {\"125\": 134}, \"51\": {\"51\": 13, \"47\": 1, \"78\": 1, \"49\": 1}, \"22\": {\"22\": 16}, \"54\": {\"54\": 16}, \"66\": {\"66\": 16}, \"59\": {\"59\": 11, \"82\": 1}, \"111\": {\"111\": 126, \"5\": 1, \"11\": 1}, \"77\": {\"77\": 12}, \"103\": {\"103\": 16}, \"20\": {\"20\": 15, \"77\": 1}, \"124\": {\"124\": 118, \"98\": 1, \"0\": 1}, \"99\": {\"99\": 39, \"69\": 1}, \"120\": {\"84\": 1, \"120\": 18, \"21\": 1}, \"76\": {\"76\": 15, \"112\": 1}, \"110\": {\"110\": 112, \"16\": 1, \"27\": 1, \"36\": 1, \"126\": 1}, \"29\": {\"29\": 32}, \"118\": {\"118\": 106, \"71\": 1, \"106\": 1, \"126\": 1, \"21\": 1, \"78\": 1, \"110\": 1}, \"58\": {\"58\": 14, \"27\": 1, \"88\": 1}, \"13\": {\"13\": 15, \"119\": 1}, \"89\": {\"89\": 32}, \"31\": {\"31\": 15, \"27\": 1}, \"64\": {\"64\": 15, \"101\": 1}, \"65\": {\"65\": 12}, \"101\": {\"101\": 130, \"83\": 1, \"108\": 1}, \"126\": {\"126\": 117, \"111\": 1}, \"108\": {\"108\": 77, \"23\": 1, \"5\": 1, \"0\": 1, \"27\": 2, \"3\": 1, \"88\": 5, \"93\": 2, \"18\": 1, \"107\": 1}, \"45\": {\"45\": 16}, \"21\": {\"21\": 35, \"30\": 1, \"1\": 1, \"39\": 1, \"43\": 1, \"78\": 1}, \"30\": {\"30\": 74, \"39\": 1, \"101\": 1}, \"82\": {\"82\": 30, \"105\": 1, \"98\": 1}, \"85\": {\"85\": 28}, \"88\": {\"88\": 123, \"3\": 1, \"27\": 2, \"70\": 1, \"122\": 1, \"118\": 3, \"105\": 1}, \"41\": {\"41\": 15, \"88\": 1}, \"128\": {\"128\": 23, \"72\": 1}, \"39\": {\"39\": 95, \"110\": 1, \"118\": 1, \"122\": 1, \"108\": 1, \"18\": 1}, \"18\": {\"18\": 113, \"69\": 1, \"27\": 1, \"5\": 1, \"108\": 1, \"39\": 1, \"126\": 1, \"3\": 1}, \"113\": {\"113\": 122, \"114\": 1, \"110\": 1, \"0\": 1, \"3\": 2, \"97\": 1}, \"11\": {\"11\": 134, \"70\": 1, \"126\": 2, \"84\": 1}, \"43\": {\"43\": 118, \"71\": 1, \"105\": 1}, \"12\": {\"12\": 97, \"1\": 1, \"109\": 1, \"84\": 1}, \"122\": {\"122\": 79, \"3\": 1, \"126\": 2, \"0\": 1, \"105\": 1}, \"52\": {\"52\": 20}, \"44\": {\"44\": 63, \"65\": 1}, \"90\": {\"90\": 133, \"98\": 1}, \"112\": {\"112\": 16}, \"86\": {\"86\": 28}, \"3\": {\"3\": 114, \"9\": 1, \"1\": 1}, \"38\": {\"38\": 16}, \"121\": {\"121\": 30, \"44\": 2}, \"46\": {\"46\": 19, \"59\": 1}, \"70\": {\"70\": 121, \"12\": 1, \"112\": 1, \"11\": 1}, \"67\": {\"67\": 16}, \"53\": {\"53\": 16}, \"49\": {\"49\": 31, \"19\": 1}, \"42\": {\"42\": 27, \"8\": 1}, \"10\": {\"10\": 113, \"101\": 1, \"86\": 1, \"129\": 1, \"24\": 1, \"127\": 1}, \"50\": {\"50\": 16}, \"73\": {\"73\": 22, \"101\": 1, \"46\": 1}, \"115\": {\"115\": 16}, \"80\": {\"80\": 15, \"51\": 1}, \"19\": {\"19\": 26, \"26\": 1, \"126\": 1}, \"55\": {\"55\": 16}, \"72\": {\"72\": 31, \"51\": 1}, \"117\": {\"117\": 116}, \"81\": {\"81\": 33, \"72\": 1, \"127\": 1, \"78\": 1}, \"75\": {\"75\": 16}, \"98\": {\"98\": 116, \"30\": 1, \"102\": 1, \"1\": 1, \"88\": 1}, \"48\": {\"48\": 16}, \"129\": {\"129\": 25, \"108\": 1, \"8\": 1, \"22\": 1}, \"97\": {\"97\": 19, \"16\": 1}}, \"C_1\": {\"41\": {\"41\": 24}, \"40\": {\"40\": 110}, \"45\": {\"45\": 138}, \"51\": {\"51\": 148}, \"5\": {\"5\": 154}, \"30\": {\"30\": 120}, \"42\": {\"42\": 40}, \"46\": {\"46\": 136}, \"48\": {\"48\": 134}, \"53\": {\"53\": 144}, \"47\": {\"47\": 152}, \"49\": {\"49\": 32}, \"36\": {\"36\": 64}, \"32\": {\"32\": 32}, \"34\": {\"34\": 24}, \"29\": {\"29\": 140}, \"35\": {\"35\": 36}, \"3\": {\"3\": 134}, \"16\": {\"16\": 140}, \"26\": {\"26\": 24}, \"57\": {\"57\": 144}, \"44\": {\"44\": 128}, \"0\": {\"0\": 152}, \"4\": {\"4\": 132}, \"31\": {\"31\": 28}, \"11\": {\"11\": 140}, \"6\": {\"6\": 95, \"8\": 1}, \"54\": {\"54\": 104}, \"17\": {\"17\": 64}, \"20\": {\"20\": 128}, \"13\": {\"13\": 150}, \"33\": {\"33\": 32}, \"24\": {\"24\": 108}, \"52\": {\"52\": 132}, \"2\": {\"2\": 36}, \"19\": {\"19\": 156}, \"39\": {\"39\": 28}, \"8\": {\"8\": 140}, \"21\": {\"21\": 124}, \"10\": {\"10\": 96}, \"37\": {\"37\": 32}, \"25\": {\"25\": 144}, \"27\": {\"27\": 130}, \"23\": {\"23\": 136}, \"1\": {\"1\": 100}, \"50\": {\"50\": 152}, \"12\": {\"12\": 116}, \"18\": {\"18\": 72}, \"38\": {\"38\": 24}, \"14\": {\"14\": 24}, \"56\": {\"56\": 142}, \"55\": {\"55\": 160}, \"9\": {\"9\": 138}, \"15\": {\"15\": 146}, \"28\": {\"28\": 28}, \"7\": {\"7\": 28}, \"43\": {\"43\": 136}, \"22\": {\"22\": 136}}, \"W_1\": {\"105\": {\"105\": 84}, \"100\": {\"100\": 16}, \"112\": {\"112\": 16}, \"123\": {\"123\": 16}, \"13\": {\"13\": 16}, \"81\": {\"81\": 28}, \"124\": {\"124\": 119, \"125\": 1}, \"122\": {\"122\": 88}, \"111\": {\"111\": 118, \"87\": 1, \"93\": 1}, \"93\": {\"93\": 155, \"21\": 1, \"43\": 2}, \"106\": {\"106\": 114, \"71\": 1, \"24\": 2, \"39\": 1}, \"113\": {\"113\": 123, \"3\": 1}, \"95\": {\"95\": 36}, \"87\": {\"87\": 104, \"118\": 1, \"105\": 2, \"5\": 1}, \"86\": {\"86\": 35, \"71\": 1}, \"67\": {\"67\": 16}, \"85\": {\"85\": 32}, \"82\": {\"82\": 36}, \"115\": {\"115\": 12}, \"7\": {\"7\": 142}, \"44\": {\"44\": 76}, \"65\": {\"65\": 11, \"74\": 1}, \"129\": {\"129\": 25, \"84\": 1, \"27\": 1, \"111\": 1}, \"42\": {\"42\": 25, \"60\": 3}, \"28\": {\"112\": 1, \"28\": 18, \"30\": 1}, \"0\": {\"0\": 82, \"56\": 1, \"24\": 1}, \"10\": {\"10\": 119, \"43\": 1}, \"76\": {\"76\": 15, \"36\": 1}, \"88\": {\"88\": 126}, \"29\": {\"29\": 28}, \"16\": {\"16\": 105, \"107\": 2, \"114\": 1}, \"41\": {\"41\": 16}, \"27\": {\"27\": 92}, \"33\": {\"33\": 118, \"32\": 1, \"125\": 1}, \"75\": {\"75\": 16}, \"48\": {\"48\": 12}, \"56\": {\"56\": 11, \"71\": 1}, \"9\": {\"9\": 31, \"102\": 1}, \"1\": {\"1\": 125, \"18\": 1}, \"39\": {\"39\": 104}, \"50\": {\"39\": 2, \"50\": 12, \"43\": 1, \"10\": 1}, \"99\": {\"99\": 23, \"129\": 1}, \"90\": {\"90\": 122}, \"45\": {\"45\": 11, \"39\": 1}, \"5\": {\"5\": 88}, \"128\": {\"128\": 23, \"72\": 1}, \"2\": {\"2\": 29, \"115\": 1, \"7\": 1, \"22\": 1}, \"53\": {\"53\": 20}, \"104\": {\"104\": 16}, \"32\": {\"32\": 32}, \"92\": {\"92\": 28}, \"78\": {\"78\": 14, \"37\": 1, \"110\": 1}, \"19\": {\"19\": 28}, \"120\": {\"120\": 19, \"121\": 1}, \"43\": {\"43\": 123, \"39\": 1, \"106\": 1, \"87\": 1, \"12\": 1, \"84\": 1}, \"74\": {\"74\": 16}, \"11\": {\"11\": 129, \"127\": 1}, \"26\": {\"26\": 129, \"69\": 2, \"39\": 1}, \"125\": {\"125\": 132}, \"64\": {\"64\": 16}, \"127\": {\"127\": 105, \"84\": 1, \"69\": 1, \"94\": 1}, \"83\": {\"83\": 25, \"49\": 1, \"12\": 1, \"104\": 1}, \"118\": {\"118\": 83, \"43\": 1}, \"103\": {\"103\": 15, \"104\": 1}, \"55\": {\"55\": 12}, \"110\": {\"110\": 126}, \"30\": {\"30\": 52}, \"51\": {\"51\": 16}, \"6\": {\"6\": 32}, \"96\": {\"96\": 18, \"12\": 1, \"126\": 1}, \"114\": {\"114\": 142, \"71\": 1, \"27\": 1}, \"69\": {\"69\": 108}, \"60\": {\"60\": 13, \"1\": 1, \"17\": 1, \"123\": 1}, \"94\": {\"94\": 91, \"93\": 1}, \"79\": {\"79\": 12}, \"126\": {\"126\": 132, \"12\": 1, \"21\": 1}, \"68\": {\"68\": 16}, \"72\": {\"72\": 32}, \"63\": {\"63\": 16}, \"22\": {\"22\": 15, \"5\": 1}, \"121\": {\"121\": 30, \"97\": 1, \"112\": 1}, \"71\": {\"71\": 102, \"118\": 1, \"24\": 1, \"107\": 1, \"75\": 1, \"1\": 1, \"39\": 1}, \"54\": {\"54\": 14, \"70\": 1, \"46\": 1}, \"102\": {\"102\": 119, \"17\": 1}, \"73\": {\"73\": 18, \"127\": 1, \"104\": 1}, \"38\": {\"38\": 16}, \"4\": {\"4\": 97, \"102\": 2, \"3\": 1}, \"52\": {\"52\": 20}, \"70\": {\"70\": 127, \"7\": 1}, \"91\": {\"91\": 26, \"58\": 2}, \"77\": {\"77\": 15, \"61\": 1}, \"20\": {\"20\": 16}, \"59\": {\"59\": 12}, \"40\": {\"40\": 134, \"118\": 1, \"88\": 1}, \"98\": {\"98\": 108}, \"46\": {\"46\": 10, \"59\": 2}, \"34\": {\"34\": 31, \"53\": 1}, \"24\": {\"24\": 91, \"39\": 1}, \"62\": {\"62\": 117, \"69\": 1, \"21\": 1, \"7\": 1}, \"14\": {\"14\": 96}, \"12\": {\"12\": 100, \"3\": 1, \"43\": 1, \"102\": 1, \"27\": 1}, \"84\": {\"84\": 131, \"7\": 1, \"36\": 1, \"18\": 1}, \"37\": {\"37\": 16}, \"97\": {\"97\": 20}, \"57\": {\"57\": 11, \"89\": 1}, \"49\": {\"49\": 18, \"70\": 1, \"42\": 1}, \"17\": {\"17\": 14, \"123\": 1, \"49\": 1}, \"109\": {\"109\": 106}, \"80\": {\"80\": 16}, \"66\": {\"66\": 16}, \"101\": {\"101\": 123, \"40\": 1}, \"89\": {\"89\": 33, \"23\": 1, \"42\": 1, \"124\": 1}, \"31\": {\"31\": 16}, \"21\": {\"94\": 1, \"21\": 33, \"128\": 1, \"80\": 1, \"106\": 1, \"24\": 1, \"82\": 1, \"10\": 1}, \"23\": {\"23\": 19, \"18\": 1, \"29\": 2, \"83\": 1, \"55\": 1}, \"25\": {\"25\": 15, \"30\": 1}, \"107\": {\"107\": 111, \"5\": 1}, \"3\": {\"3\": 84, \"24\": 1, \"102\": 1, \"28\": 1, \"86\": 1}, \"61\": {\"61\": 11, \"65\": 1}, \"117\": {\"117\": 125, \"62\": 1}, \"119\": {\"119\": 15, \"65\": 1}, \"58\": {\"58\": 12}, \"47\": {\"47\": 12}, \"116\": {\"116\": 31, \"33\": 1}, \"18\": {\"18\": 122, \"113\": 1, \"122\": 1}, \"36\": {\"36\": 118, \"97\": 1, \"24\": 1, \"71\": 1, \"88\": 1}, \"108\": {\"108\": 111, \"70\": 1}, \"15\": {\"15\": 103, \"24\": 1}, \"8\": {\"8\": 114}, \"35\": {\"35\": 12}}, \"W_2\": {\"3\": {\"3\": 127, \"70\": 2, \"71\": 1, \"39\": 1, \"36\": 1}, \"127\": {\"127\": 119, \"110\": 1}, \"58\": {\"58\": 20}, \"114\": {\"114\": 110, \"46\": 1, \"21\": 1}, \"111\": {\"111\": 142, \"105\": 1, \"40\": 1}, \"105\": {\"105\": 131, \"102\": 1}, \"118\": {\"114\": 1, \"118\": 64, \"24\": 1, \"94\": 1, \"36\": 1}, \"23\": {\"23\": 44}, \"21\": {\"21\": 42, \"12\": 1, \"17\": 1, \"40\": 1, \"85\": 1, \"24\": 1, \"71\": 1}, \"20\": {\"20\": 15, \"21\": 1}, \"75\": {\"75\": 15, \"99\": 1}, \"86\": {\"86\": 32}, \"60\": {\"60\": 25, \"88\": 1, \"28\": 1, \"22\": 1}, \"69\": {\"69\": 130, \"87\": 1, \"18\": 1, \"12\": 1, \"70\": 2, \"94\": 1, \"39\": 1, \"88\": 2, \"62\": 1}, \"99\": {\"99\": 31, \"65\": 1}, \"14\": {\"14\": 40, \"81\": 1, \"62\": 1, \"84\": 1, \"110\": 1, \"107\": 1, \"71\": 1, \"40\": 1, \"7\": 1}, \"25\": {\"25\": 16}, \"52\": {\"52\": 19, \"128\": 1}, \"47\": {\"47\": 10, \"49\": 1, \"72\": 1}, \"48\": {\"48\": 19, \"5\": 1}, \"27\": {\"27\": 61, \"78\": 1, \"87\": 1, \"24\": 1, \"84\": 1, \"114\": 1, \"0\": 1, \"85\": 1}, \"78\": {\"78\": 43, \"14\": 1, \"43\": 1, \"10\": 1, \"70\": 1, \"84\": 1}, \"8\": {\"8\": 119, \"84\": 1, \"69\": 1, \"5\": 1}, \"90\": {\"90\": 156, \"16\": 1, \"114\": 1, \"61\": 1, \"71\": 1}, \"103\": {\"103\": 16}, \"120\": {\"120\": 20}, \"96\": {\"96\": 20}, \"30\": {\"30\": 101, \"43\": 1, \"69\": 1, \"24\": 1}, \"33\": {\"33\": 146}, \"35\": {\"35\": 12}, \"108\": {\"108\": 116}, \"112\": {\"112\": 16}, \"40\": {\"40\": 131, \"21\": 1, \"4\": 1, \"24\": 1, \"94\": 1, \"70\": 2, \"69\": 1, \"102\": 1, \"18\": 1}, \"102\": {\"102\": 115, \"30\": 1}, \"56\": {\"56\": 12}, \"93\": {\"93\": 134, \"106\": 1, \"40\": 1}, \"68\": {\"68\": 15, \"81\": 1}, \"70\": {\"70\": 119, \"88\": 2, \"8\": 1, \"78\": 1, \"73\": 1}, \"7\": {\"7\": 123, \"0\": 1}, \"87\": {\"87\": 101, \"4\": 2, \"21\": 2, \"78\": 1, \"109\": 1, \"53\": 1, \"30\": 1, \"16\": 2, \"114\": 1}, \"54\": {\"56\": 1, \"54\": 19}, \"71\": {\"71\": 96, \"1\": 1, \"39\": 1, \"21\": 1, \"107\": 1}, \"80\": {\"80\": 16}, \"18\": {\"18\": 120, \"39\": 1, \"16\": 1}, \"101\": {\"101\": 119, \"106\": 1, \"0\": 1, \"79\": 1}, \"92\": {\"92\": 27, \"71\": 1}, \"32\": {\"32\": 35, \"124\": 1}, \"128\": {\"128\": 24}, \"6\": {\"6\": 32}, \"51\": {\"51\": 18, \"6\": 1, \"10\": 1}, \"85\": {\"85\": 31, \"121\": 1}, \"46\": {\"46\": 16}, \"22\": {\"22\": 19, \"62\": 1}, \"1\": {\"1\": 117, \"78\": 1, \"71\": 1, \"30\": 1, \"87\": 1, \"69\": 1}, \"37\": {\"37\": 16}, \"44\": {\"44\": 97, \"73\": 1, \"87\": 1, \"62\": 1}, \"24\": {\"24\": 103, \"32\": 1, \"62\": 1, \"16\": 1, \"39\": 2, \"26\": 1, \"21\": 1, \"27\": 1, \"70\": 1}, \"9\": {\"9\": 32}, \"116\": {\"116\": 27, \"109\": 1}, \"64\": {\"64\": 16}, \"129\": {\"129\": 32}, \"42\": {\"112\": 2, \"42\": 23, \"46\": 2, \"66\": 1}, \"117\": {\"117\": 119, \"7\": 1}, \"88\": {\"88\": 118, \"126\": 1, \"36\": 1, \"66\": 1, \"18\": 1, \"93\": 1, \"70\": 1}, \"31\": {\"31\": 20}, \"113\": {\"113\": 71, \"51\": 1}, \"38\": {\"38\": 16}, \"83\": {\"83\": 37, \"25\": 1, \"13\": 1, \"36\": 1}, \"49\": {\"49\": 22, \"71\": 1, \"47\": 1}, \"97\": {\"97\": 19, \"94\": 1}, \"76\": {\"76\": 16}, \"29\": {\"29\": 32}, \"61\": {\"61\": 20}, \"125\": {\"125\": 147, \"121\": 1}, \"126\": {\"126\": 118, \"78\": 2}, \"55\": {\"55\": 16}, \"0\": {\"0\": 103, \"27\": 1, \"101\": 1, \"92\": 1, \"113\": 1, \"18\": 1}, \"15\": {\"15\": 116, \"36\": 1, \"26\": 1, \"7\": 1, \"111\": 1}, \"26\": {\"26\": 132, \"16\": 1, \"111\": 1, \"40\": 1, \"5\": 2, \"0\": 1}, \"63\": {\"63\": 20}, \"57\": {\"57\": 20}, \"39\": {\"39\": 109, \"27\": 1, \"18\": 1, \"84\": 1}, \"62\": {\"62\": 135, \"116\": 1, \"24\": 1, \"28\": 1, \"14\": 1, \"88\": 1}, \"82\": {\"82\": 33, \"83\": 1, \"87\": 1, \"7\": 1}, \"11\": {\"11\": 78, \"24\": 1, \"69\": 1}, \"4\": {\"4\": 87, \"61\": 1}, \"41\": {\"41\": 20}, \"72\": {\"72\": 27, \"14\": 1}, \"16\": {\"16\": 119, \"24\": 1, \"39\": 1, \"110\": 1, \"93\": 2}, \"81\": {\"81\": 22, \"54\": 1, \"118\": 1}, \"67\": {\"67\": 15, \"76\": 1}, \"123\": {\"123\": 16}, \"66\": {\"66\": 19, \"86\": 1}, \"36\": {\"36\": 118, \"1\": 1, \"84\": 1, \"43\": 1, \"87\": 1, \"105\": 1, \"17\": 1, \"21\": 1, \"129\": 1, \"27\": 1, \"69\": 1}, \"115\": {\"115\": 11, \"21\": 1}, \"77\": {\"77\": 16}, \"119\": {\"119\": 20}, \"65\": {\"65\": 19, \"36\": 1}, \"34\": {\"34\": 32}, \"107\": {\"107\": 61, \"71\": 1, \"70\": 1, \"61\": 1}, \"13\": {\"13\": 16}, \"110\": {\"25\": 1, \"110\": 36, \"68\": 1, \"21\": 1, \"106\": 1}, \"106\": {\"106\": 114, \"88\": 2, \"114\": 1, \"36\": 1}, \"89\": {\"89\": 36}, \"94\": {\"94\": 54, \"122\": 1, \"87\": 1, \"21\": 2, \"114\": 1, \"24\": 1, \"31\": 1, \"71\": 1, \"49\": 1, \"88\": 1}, \"98\": {\"98\": 109, \"121\": 1, \"62\": 1, \"21\": 1}, \"91\": {\"91\": 24, \"75\": 1, \"59\": 1, \"41\": 1, \"125\": 1}, \"84\": {\"84\": 89, \"33\": 1, \"43\": 1, \"88\": 1}, \"73\": {\"104\": 1, \"73\": 27}, \"104\": {\"104\": 17, \"16\": 1, \"46\": 1, \"93\": 1}, \"59\": {\"59\": 15, \"52\": 1}, \"74\": {\"74\": 16}, \"28\": {\"28\": 19, \"93\": 1}, \"95\": {\"95\": 35, \"105\": 1}, \"2\": {\"2\": 31, \"115\": 1}, \"5\": {\"5\": 109, \"107\": 1, \"88\": 1, \"93\": 1}, \"50\": {\"50\": 15, \"27\": 1}, \"109\": {\"109\": 96, \"70\": 1, \"8\": 1, \"18\": 1, \"106\": 1}, \"10\": {\"10\": 59, \"21\": 1}, \"45\": {\"45\": 14, \"35\": 1, \"21\": 1}, \"121\": {\"121\": 36}, \"124\": {\"124\": 109, \"89\": 1}, \"53\": {\"121\": 1, \"53\": 13, \"113\": 1, \"25\": 1}, \"79\": {\"79\": 16}, \"43\": {\"43\": 110, \"18\": 1, \"122\": 1, \"102\": 1, \"16\": 1}, \"122\": {\"122\": 129, \"118\": 1, \"109\": 1, \"70\": 4, \"88\": 1, \"39\": 1, \"40\": 1}, \"100\": {\"100\": 16}, \"19\": {\"19\": 28}, \"12\": {\"12\": 85, \"109\": 1, \"70\": 1, \"102\": 1}, \"17\": {\"17\": 15, \"113\": 1}}, \"C_3\": {\"1\": {\"1\": 100}, \"9\": {\"9\": 124}, \"22\": {\"22\": 136}, \"43\": {\"43\": 136}, \"49\": {\"49\": 20}, \"50\": {\"50\": 138}, \"53\": {\"53\": 136}, \"10\": {\"10\": 64}, \"48\": {\"48\": 116}, \"8\": {\"8\": 138}, \"31\": {\"31\": 28}, \"56\": {\"56\": 134}, \"25\": {\"25\": 142}, \"28\": {\"28\": 28}, \"38\": {\"38\": 28}, \"5\": {\"5\": 116}, \"12\": {\"12\": 92}, \"6\": {\"6\": 88}, \"19\": {\"19\": 152}, \"26\": {\"26\": 24}, \"32\": {\"32\": 28}, \"33\": {\"33\": 28}, \"3\": {\"3\": 118}, \"51\": {\"51\": 128}, \"16\": {\"16\": 138}, \"46\": {\"46\": 140}, \"7\": {\"7\": 36}, \"47\": {\"47\": 92}, \"39\": {\"39\": 16}, \"40\": {\"40\": 136}, \"14\": {\"14\": 40}, \"37\": {\"37\": 28}, \"2\": {\"2\": 32}, \"21\": {\"21\": 120}, \"35\": {\"35\": 28}, \"54\": {\"54\": 100}, \"52\": {\"52\": 116}, \"29\": {\"29\": 118}, \"20\": {\"20\": 132}, \"18\": {\"18\": 84}, \"11\": {\"11\": 142}, \"0\": {\"0\": 124}, \"36\": {\"36\": 100}, \"17\": {\"17\": 108}, \"30\": {\"30\": 114}, \"42\": {\"42\": 28}, \"45\": {\"45\": 60}, \"4\": {\"4\": 148}, \"23\": {\"23\": 134}, \"13\": {\"13\": 128}, \"15\": {\"15\": 128}, \"57\": {\"57\": 124}, \"27\": {\"27\": 134}, \"44\": {\"44\": 88}, \"34\": {\"34\": 32}, \"41\": {\"41\": 28}, \"24\": {\"24\": 104}, \"55\": {\"55\": 118}}, \"W_3\": {\"38\": {\"38\": 16}, \"88\": {\"88\": 108, \"37\": 1, \"28\": 1, \"70\": 1, \"36\": 1}, \"104\": {\"104\": 16}, \"11\": {\"11\": 139, \"107\": 1}, \"103\": {\"103\": 15, \"28\": 1}, \"124\": {\"124\": 115, \"90\": 1}, \"3\": {\"3\": 113, \"101\": 1, \"26\": 1, \"16\": 1}, \"74\": {\"74\": 15, \"25\": 1}, \"126\": {\"126\": 118, \"8\": 1, \"18\": 1, \"39\": 1, \"127\": 1}, \"123\": {\"123\": 16}, \"51\": {\"51\": 16}, \"14\": {\"14\": 80}, \"16\": {\"16\": 113, \"110\": 1, \"106\": 1, \"10\": 1}, \"22\": {\"22\": 16}, \"109\": {\"109\": 122}, \"27\": {\"27\": 95, \"113\": 1}, \"75\": {\"75\": 16}, \"66\": {\"66\": 16}, \"48\": {\"48\": 16}, \"6\": {\"6\": 32}, \"10\": {\"10\": 110, \"16\": 1, \"35\": 1}, \"99\": {\"99\": 35, \"35\": 1}, \"50\": {\"50\": 16}, \"54\": {\"54\": 16}, \"55\": {\"55\": 16}, \"53\": {\"53\": 20}, \"72\": {\"72\": 28}, \"64\": {\"64\": 20}, \"115\": {\"72\": 1, \"115\": 15}, \"23\": {\"23\": 30, \"47\": 1, \"1\": 1}, \"32\": {\"32\": 32}, \"15\": {\"15\": 101, \"43\": 1, \"4\": 1, \"39\": 1}, \"43\": {\"43\": 53, \"21\": 2, \"84\": 1}, \"114\": {\"114\": 121, \"26\": 1, \"102\": 1, \"12\": 1}, \"121\": {\"121\": 32}, \"79\": {\"79\": 12}, \"81\": {\"81\": 32}, \"8\": {\"8\": 126, \"108\": 2}, \"13\": {\"43\": 1, \"13\": 14, \"103\": 1}, \"90\": {\"90\": 156}, \"41\": {\"121\": 1, \"41\": 15}, \"107\": {\"107\": 136}, \"57\": {\"57\": 20}, \"33\": {\"33\": 119, \"92\": 1}, \"35\": {\"35\": 12}, \"29\": {\"29\": 32}, \"70\": {\"70\": 67, \"84\": 1, \"10\": 2, \"94\": 1, \"8\": 1}, \"42\": {\"35\": 1, \"42\": 26, \"118\": 1}, \"93\": {\"93\": 126}, \"86\": {\"86\": 28}, \"28\": {\"28\": 16}, \"1\": {\"1\": 105, \"71\": 1, \"101\": 1, \"109\": 1}, \"125\": {\"125\": 122, \"30\": 1, \"5\": 1}, \"69\": {\"69\": 81, \"21\": 1, \"8\": 1, \"70\": 1}, \"97\": {\"97\": 19, \"106\": 1}, \"117\": {\"117\": 112}, \"68\": {\"68\": 16}, \"30\": {\"30\": 81, \"16\": 1, \"101\": 1, \"105\": 1}, \"111\": {\"111\": 132}, \"47\": {\"47\": 12}, \"102\": {\"102\": 124}, \"65\": {\"65\": 12}, \"113\": {\"113\": 118, \"101\": 1, \"30\": 1}, \"36\": {\"36\": 113, \"3\": 1}, \"119\": {\"119\": 16}, \"46\": {\"46\": 16}, \"49\": {\"49\": 22, \"42\": 1, \"30\": 1}, \"0\": {\"0\": 115, \"113\": 1}, \"58\": {\"58\": 15, \"49\": 1}, \"63\": {\"63\": 16}, \"94\": {\"94\": 84}, \"17\": {\"17\": 10, \"94\": 1, \"36\": 2, \"67\": 1, \"112\": 1, \"86\": 1}, \"9\": {\"9\": 31, \"6\": 1}, \"87\": {\"87\": 120}, \"59\": {\"59\": 11, \"30\": 1}, \"105\": {\"105\": 120}, \"80\": {\"80\": 15, \"59\": 1}, \"120\": {\"120\": 19, \"81\": 1}, \"18\": {\"18\": 129, \"128\": 1, \"39\": 1, \"124\": 1}, \"78\": {\"78\": 15, \"7\": 1}, \"25\": {\"25\": 16}, \"19\": {\"19\": 32}, \"122\": {\"122\": 56, \"113\": 1, \"110\": 1, \"18\": 1, \"16\": 1}, \"39\": {\"39\": 106, \"113\": 1, \"126\": 1}, \"76\": {\"76\": 16}, \"89\": {\"89\": 28}, \"129\": {\"129\": 32}, \"26\": {\"26\": 96, \"30\": 1, \"12\": 1, \"70\": 1, \"108\": 1}, \"85\": {\"85\": 36}, \"71\": {\"71\": 67, \"43\": 1}, \"77\": {\"77\": 16}, \"128\": {\"128\": 32}, \"2\": {\"2\": 28}, \"56\": {\"56\": 12}, \"24\": {\"24\": 48}, \"101\": {\"72\": 1, \"101\": 50, \"9\": 1}, \"52\": {\"52\": 16}, \"84\": {\"84\": 107, \"7\": 1}, \"7\": {\"7\": 109, \"87\": 1, \"16\": 1, \"127\": 1}, \"82\": {\"82\": 28}, \"60\": {\"60\": 28}, \"45\": {\"60\": 1, \"45\": 13, \"18\": 1, \"73\": 1}, \"40\": {\"40\": 124}, \"20\": {\"20\": 16}, \"4\": {\"4\": 96}, \"116\": {\"116\": 28}, \"61\": {\"61\": 16}, \"5\": {\"5\": 110, \"70\": 1, \"7\": 1}, \"106\": {\"106\": 99, \"73\": 1}, \"12\": {\"12\": 104}, \"62\": {\"62\": 119, \"105\": 1}, \"34\": {\"34\": 32}, \"91\": {\"91\": 24}, \"112\": {\"112\": 15, \"8\": 1}, \"92\": {\"92\": 32}, \"95\": {\"95\": 32}, \"96\": {\"96\": 20}, \"127\": {\"127\": 108}, \"67\": {\"67\": 15, \"0\": 1}, \"83\": {\"83\": 24}, \"21\": {\"43\": 1, \"78\": 1, \"21\": 39, \"71\": 1, \"0\": 1, \"118\": 1, \"35\": 1, \"94\": 1, \"127\": 1, \"101\": 1}, \"98\": {\"98\": 123, \"44\": 1}, \"108\": {\"108\": 130, \"8\": 2}, \"31\": {\"31\": 20}, \"118\": {\"118\": 100}, \"110\": {\"110\": 92}, \"73\": {\"73\": 40}, \"44\": {\"44\": 70, \"16\": 1, \"30\": 1}, \"37\": {\"37\": 15, \"64\": 1}, \"100\": {\"100\": 16}}, \"C_4\": {\"52\": {\"52\": 116}, \"6\": {\"6\": 112}, \"14\": {\"14\": 16}, \"49\": {\"49\": 20}, \"0\": {\"0\": 79, \"46\": 1}, \"46\": {\"46\": 156}, \"41\": {\"41\": 36}, \"24\": {\"24\": 56}, \"25\": {\"25\": 152}, \"40\": {\"40\": 138}, \"38\": {\"38\": 40}, \"13\": {\"13\": 152}, \"9\": {\"9\": 108}, \"45\": {\"45\": 96}, \"43\": {\"43\": 144}, \"10\": {\"10\": 130}, \"15\": {\"15\": 128}, \"39\": {\"39\": 20}, \"4\": {\"4\": 132}, \"53\": {\"53\": 132}, \"1\": {\"1\": 40}, \"28\": {\"28\": 32}, \"54\": {\"54\": 108}, \"21\": {\"21\": 132}, \"7\": {\"7\": 24}, \"8\": {\"8\": 136}, \"42\": {\"42\": 32}, \"11\": {\"11\": 104}, \"33\": {\"33\": 36}, \"27\": {\"27\": 142}, \"19\": {\"19\": 144}, \"2\": {\"2\": 36}, \"3\": {\"3\": 120}, \"57\": {\"57\": 100}, \"20\": {\"20\": 112}, \"23\": {\"23\": 128}, \"22\": {\"22\": 128}, \"29\": {\"29\": 123, \"54\": 1}, \"36\": {\"36\": 92}, \"51\": {\"51\": 132}, \"31\": {\"31\": 28}, \"12\": {\"12\": 92}, \"56\": {\"56\": 138}, \"5\": {\"5\": 108}, \"35\": {\"35\": 40}, \"17\": {\"17\": 80}, \"32\": {\"32\": 24}, \"47\": {\"47\": 120}, \"18\": {\"18\": 107, \"13\": 1}, \"26\": {\"26\": 24}, \"50\": {\"50\": 122}, \"55\": {\"55\": 124}, \"34\": {\"34\": 24}, \"30\": {\"30\": 44}, \"37\": {\"37\": 24}, \"44\": {\"44\": 132}, \"48\": {\"48\": 118}, \"16\": {\"16\": 96}}, \"C_2\": {\"11\": {\"11\": 130}, \"21\": {\"21\": 120}, \"19\": {\"19\": 140}, \"20\": {\"20\": 128}, \"9\": {\"9\": 140}, \"10\": {\"10\": 112}, \"37\": {\"37\": 36}, \"32\": {\"32\": 28}, \"3\": {\"3\": 92}, \"39\": {\"39\": 28}, \"45\": {\"45\": 128}, \"50\": {\"50\": 136}, \"40\": {\"40\": 140}, \"46\": {\"46\": 128}, \"12\": {\"12\": 92}, \"13\": {\"13\": 116}, \"47\": {\"47\": 132}, \"15\": {\"15\": 142}, \"54\": {\"54\": 108}, \"48\": {\"48\": 148}, \"23\": {\"23\": 142}, \"29\": {\"29\": 128}, \"38\": {\"38\": 20}, \"53\": {\"53\": 136}, \"27\": {\"27\": 150}, \"43\": {\"43\": 144}, \"35\": {\"35\": 32}, \"0\": {\"0\": 48}, \"52\": {\"52\": 124}, \"8\": {\"8\": 128}, \"24\": {\"24\": 96}, \"18\": {\"18\": 48}, \"25\": {\"25\": 148}, \"57\": {\"57\": 136}, \"55\": {\"55\": 134}, \"36\": {\"36\": 116}, \"17\": {\"17\": 104}, \"2\": {\"2\": 32}, \"34\": {\"34\": 28}, \"1\": {\"1\": 112}, \"51\": {\"51\": 136}, \"31\": {\"31\": 28}, \"49\": {\"49\": 24}, \"14\": {\"14\": 24}, \"33\": {\"33\": 28}, \"41\": {\"41\": 20}, \"28\": {\"28\": 28}, \"5\": {\"5\": 120}, \"16\": {\"16\": 150}, \"4\": {\"4\": 128}, \"22\": {\"22\": 136}, \"6\": {\"6\": 118}, \"30\": {\"30\": 124}, \"26\": {\"26\": 24}, \"56\": {\"56\": 142}, \"42\": {\"42\": 36}, \"44\": {\"44\": 100}, \"7\": {\"7\": 36}}, \"O_26\": {\"0\": {\"7\": 22, \"6\": 17, \"14\": 14, \"9\": 12, \"3\": 12, \"0\": 25, \"2\": 12, \"12\": 11, \"13\": 6, \"1\": 15, \"4\": 24, \"10\": 28, \"15\": 12, \"8\": 23, \"11\": 2, \"5\": 5}, \"4\": {\"1\": 27, \"6\": 14, \"4\": 22, \"15\": 19, \"14\": 25, \"7\": 14, \"13\": 3, \"10\": 24, \"0\": 23, \"2\": 11, \"5\": 2, \"9\": 9, \"12\": 5, \"3\": 25, \"8\": 17}, \"14\": {\"8\": 16, \"4\": 24, \"0\": 30, \"12\": 10, \"10\": 24, \"7\": 26, \"6\": 18, \"3\": 14, \"14\": 22, \"1\": 26, \"9\": 8, \"2\": 8, \"5\": 3, \"15\": 8, \"13\": 3}, \"12\": {\"9\": 20, \"2\": 3, \"0\": 13, \"12\": 92, \"8\": 8, \"10\": 16, \"15\": 11, \"4\": 11, \"14\": 5, \"3\": 3, \"13\": 7, \"6\": 26, \"1\": 2, \"11\": 16, \"7\": 2, \"5\": 5}, \"8\": {\"13\": 7, \"8\": 13, \"12\": 14, \"10\": 24, \"1\": 11, \"9\": 13, \"4\": 22, \"3\": 15, \"14\": 16, \"7\": 18, \"2\": 20, \"0\": 20, \"6\": 21, \"5\": 11, \"15\": 15}, \"7\": {\"0\": 11, \"1\": 32, \"13\": 3, \"14\": 11, \"3\": 24, \"9\": 7, \"4\": 18, \"6\": 14, \"2\": 17, \"7\": 23, \"10\": 26, \"15\": 19, \"8\": 17, \"12\": 5, \"5\": 11, \"11\": 2}, \"13\": {\"10\": 6, \"7\": 14, \"13\": 32, \"5\": 27, \"3\": 8, \"15\": 22, \"9\": 30, \"0\": 6, \"2\": 26, \"1\": 5, \"8\": 10, \"12\": 14, \"6\": 17, \"4\": 4, \"11\": 15, \"14\": 4}, \"5\": {\"2\": 24, \"0\": 7, \"3\": 32, \"13\": 32, \"10\": 7, \"5\": 29, \"11\": 4, \"6\": 17, \"12\": 8, \"8\": 6, \"9\": 23, \"15\": 23, \"7\": 19, \"14\": 4, \"1\": 3, \"4\": 2}, \"15\": {\"3\": 25, \"9\": 17, \"15\": 24, \"2\": 20, \"13\": 18, \"4\": 11, \"10\": 11, \"5\": 21, \"6\": 21, \"8\": 15, \"1\": 11, \"14\": 7, \"12\": 16, \"7\": 12, \"0\": 9, \"11\": 2}, \"10\": {\"7\": 16, \"6\": 22, \"0\": 18, \"1\": 19, \"9\": 14, \"14\": 24, \"4\": 20, \"3\": 15, \"15\": 18, \"2\": 9, \"8\": 23, \"10\": 23, \"12\": 11, \"13\": 1, \"5\": 5, \"11\": 2}, \"3\": {\"0\": 13, \"3\": 31, \"14\": 19, \"2\": 15, \"4\": 15, \"1\": 10, \"10\": 17, \"5\": 16, \"7\": 28, \"6\": 11, \"15\": 24, \"13\": 15, \"8\": 10, \"9\": 15, \"12\": 1}, \"9\": {\"3\": 18, \"1\": 8, \"13\": 22, \"15\": 27, \"6\": 27, \"8\": 14, \"0\": 6, \"7\": 15, \"5\": 17, \"11\": 5, \"9\": 22, \"2\": 15, \"12\": 15, \"4\": 7, \"14\": 6, \"10\": 16}, \"6\": {\"7\": 16, \"15\": 24, \"12\": 19, \"9\": 22, \"14\": 7, \"3\": 18, \"10\": 24, \"0\": 7, \"4\": 9, \"2\": 20, \"8\": 17, \"6\": 26, \"13\": 8, \"5\": 9, \"1\": 9, \"11\": 5}, \"1\": {\"4\": 31, \"1\": 40, \"14\": 28, \"2\": 7, \"9\": 9, \"6\": 9, \"7\": 25, \"10\": 23, \"15\": 12, \"8\": 16, \"5\": 5, \"0\": 18, \"13\": 2, \"12\": 5, \"3\": 10}, \"11\": {\"9\": 8, \"12\": 36, \"11\": 96, \"13\": 37, \"7\": 4, \"5\": 15, \"1\": 1, \"2\": 5, \"15\": 10, \"8\": 6, \"6\": 19, \"4\": 2, \"14\": 1}, \"2\": {\"14\": 11, \"3\": 30, \"9\": 22, \"15\": 22, \"5\": 17, \"7\": 23, \"8\": 14, \"2\": 26, \"1\": 10, \"10\": 5, \"13\": 15, \"11\": 3, \"6\": 14, \"0\": 11, \"4\": 11, \"12\": 6}}, \"O_44\": {\"1\": {\"12\": 47, \"9\": 14, \"4\": 4, \"1\": 42, \"3\": 42, \"10\": 39, \"2\": 20, \"7\": 20, \"14\": 4, \"13\": 5, \"11\": 2, \"15\": 1}, \"11\": {\"6\": 64, \"7\": 15, \"13\": 33, \"12\": 2, \"2\": 17, \"9\": 15, \"11\": 77, \"14\": 2, \"1\": 2, \"10\": 11, \"4\": 2}, \"3\": {\"12\": 43, \"1\": 51, \"14\": 11, \"10\": 20, \"8\": 1, \"3\": 61, \"4\": 10, \"7\": 8, \"15\": 4, \"9\": 11, \"13\": 5, \"2\": 14, \"5\": 1}, \"6\": {\"9\": 28, \"6\": 55, \"13\": 38, \"11\": 41, \"14\": 3, \"7\": 32, \"2\": 25, \"10\": 6, \"1\": 5, \"5\": 2, \"12\": 2, \"4\": 3}, \"7\": {\"2\": 40, \"1\": 16, \"12\": 25, \"9\": 34, \"6\": 16, \"14\": 6, \"4\": 8, \"10\": 21, \"13\": 25, \"11\": 9, \"7\": 27, \"3\": 13}, \"5\": {\"4\": 34, \"15\": 28, \"14\": 33, \"8\": 36, \"5\": 69, \"9\": 3, \"0\": 30, \"3\": 3, \"13\": 3, \"7\": 1}, \"2\": {\"10\": 35, \"13\": 22, \"12\": 22, \"4\": 5, \"11\": 12, \"2\": 33, \"9\": 25, \"6\": 14, \"7\": 44, \"14\": 2, \"1\": 20, \"3\": 6}, \"15\": {\"8\": 38, \"0\": 48, \"5\": 21, \"9\": 5, \"14\": 32, \"15\": 55, \"4\": 29, \"7\": 3, \"3\": 6, \"1\": 2, \"12\": 1}, \"10\": {\"7\": 23, \"1\": 31, \"9\": 28, \"12\": 45, \"2\": 40, \"10\": 39, \"4\": 2, \"13\": 7, \"6\": 11, \"3\": 10, \"11\": 4}, \"13\": {\"9\": 38, \"7\": 36, \"13\": 46, \"11\": 29, \"6\": 33, \"2\": 19, \"1\": 4, \"14\": 8, \"10\": 10, \"4\": 9, \"5\": 3, \"12\": 4, \"3\": 1}, \"8\": {\"5\": 29, \"15\": 47, \"8\": 75, \"0\": 62, \"4\": 13, \"14\": 14}, \"4\": {\"14\": 43, \"2\": 6, \"15\": 26, \"0\": 12, \"3\": 14, \"5\": 34, \"4\": 40, \"9\": 21, \"13\": 14, \"12\": 1, \"10\": 2, \"7\": 9, \"6\": 6, \"8\": 6, \"1\": 5, \"11\": 1}, \"9\": {\"2\": 23, \"1\": 14, \"6\": 16, \"9\": 40, \"13\": 26, \"12\": 13, \"10\": 27, \"4\": 16, \"11\": 14, \"7\": 30, \"3\": 8, \"0\": 1, \"14\": 7, \"5\": 5}, \"14\": {\"9\": 12, \"4\": 49, \"15\": 31, \"5\": 44, \"14\": 44, \"3\": 15, \"2\": 4, \"6\": 3, \"8\": 5, \"13\": 10, \"7\": 6, \"0\": 10, \"12\": 2, \"10\": 1, \"1\": 4}, \"0\": {\"5\": 42, \"8\": 70, \"0\": 49, \"15\": 38, \"4\": 17, \"14\": 22, \"12\": 1, \"3\": 1}, \"12\": {\"10\": 38, \"3\": 35, \"12\": 58, \"2\": 22, \"13\": 7, \"7\": 12, \"9\": 10, \"1\": 51, \"5\": 1, \"14\": 1, \"6\": 1, \"4\": 2, \"11\": 2}}, \"O_50\": {\"15\": {\"6\": 22, \"10\": 6, \"5\": 19, \"11\": 22, \"9\": 17, \"15\": 44, \"4\": 40, \"7\": 9, \"1\": 29, \"8\": 1, \"12\": 8, \"13\": 11, \"2\": 2, \"14\": 8, \"0\": 1, \"3\": 1}, \"4\": {\"4\": 36, \"11\": 18, \"14\": 6, \"5\": 19, \"6\": 20, \"9\": 13, \"10\": 13, \"1\": 31, \"7\": 16, \"15\": 28, \"12\": 3, \"13\": 27, \"3\": 2, \"2\": 3, \"0\": 4, \"8\": 1}, \"6\": {\"6\": 32, \"1\": 31, \"8\": 5, \"5\": 23, \"4\": 24, \"9\": 5, \"10\": 23, \"3\": 3, \"7\": 23, \"14\": 6, \"11\": 12, \"15\": 22, \"13\": 19, \"12\": 3, \"0\": 3, \"2\": 6}, \"2\": {\"2\": 64, \"14\": 23, \"0\": 50, \"4\": 5, \"10\": 29, \"13\": 1, \"7\": 4, \"11\": 8, \"9\": 4, \"8\": 13, \"5\": 4, \"12\": 24, \"6\": 3, \"1\": 7, \"15\": 1}, \"5\": {\"7\": 31, \"1\": 28, \"8\": 4, \"13\": 36, \"5\": 35, \"0\": 5, \"3\": 7, \"11\": 8, \"10\": 21, \"6\": 18, \"4\": 22, \"9\": 4, \"15\": 14, \"14\": 2, \"2\": 5}, \"9\": {\"1\": 26, \"4\": 4, \"14\": 18, \"9\": 84, \"12\": 34, \"11\": 39, \"6\": 4, \"15\": 20, \"5\": 4, \"13\": 1, \"2\": 2, \"7\": 1, \"0\": 3}, \"8\": {\"10\": 44, \"13\": 14, \"3\": 62, \"0\": 19, \"2\": 11, \"8\": 74, \"7\": 9, \"5\": 3, \"6\": 3, \"1\": 1}, \"12\": {\"11\": 25, \"14\": 49, \"9\": 32, \"12\": 89, \"1\": 8, \"0\": 9, \"2\": 16, \"15\": 5, \"6\": 3, \"4\": 2, \"5\": 1, \"13\": 1}, \"10\": {\"8\": 46, \"0\": 31, \"3\": 15, \"2\": 12, \"6\": 21, \"11\": 4, \"10\": 43, \"13\": 21, \"7\": 23, \"1\": 6, \"5\": 9, \"4\": 5, \"15\": 2, \"12\": 1, \"9\": 1}, \"1\": {\"7\": 19, \"4\": 23, \"1\": 29, \"15\": 39, \"0\": 9, \"13\": 23, \"6\": 22, \"11\": 15, \"10\": 12, \"5\": 12, \"9\": 16, \"2\": 4, \"12\": 8, \"14\": 9}, \"0\": {\"10\": 33, \"13\": 10, \"2\": 38, \"11\": 3, \"8\": 22, \"6\": 4, \"0\": 57, \"1\": 17, \"14\": 18, \"7\": 9, \"12\": 3, \"15\": 3, \"3\": 7, \"5\": 6, \"4\": 10}, \"3\": {\"8\": 67, \"0\": 5, \"3\": 111, \"10\": 31, \"7\": 9, \"13\": 8, \"5\": 4, \"6\": 1, \"2\": 3, \"4\": 1}, \"13\": {\"6\": 22, \"0\": 11, \"1\": 26, \"5\": 26, \"10\": 19, \"15\": 12, \"7\": 31, \"13\": 35, \"4\": 26, \"3\": 8, \"8\": 10, \"11\": 5, \"2\": 4, \"12\": 1, \"9\": 3, \"14\": 1}, \"11\": {\"4\": 22, \"1\": 34, \"11\": 32, \"9\": 41, \"6\": 14, \"15\": 29, \"12\": 20, \"14\": 34, \"0\": 4, \"5\": 4, \"7\": 2, \"2\": 2, \"10\": 1, \"13\": 1}, \"7\": {\"7\": 43, \"10\": 35, \"11\": 4, \"13\": 28, \"5\": 23, \"6\": 30, \"3\": 8, \"15\": 16, \"1\": 18, \"0\": 8, \"4\": 13, \"14\": 3, \"2\": 2, \"8\": 8, \"12\": 1}, \"14\": {\"12\": 50, \"9\": 24, \"11\": 21, \"2\": 27, \"15\": 9, \"0\": 11, \"4\": 7, \"14\": 53, \"6\": 8, \"1\": 18, \"5\": 5, \"10\": 4, \"8\": 1, \"13\": 2}}, \"O_38\": {\"15\": {\"7\": 11, \"8\": 20, \"11\": 2, \"9\": 4, \"10\": 15, \"13\": 31, \"5\": 32, \"1\": 23, \"6\": 12, \"15\": 41, \"14\": 11, \"2\": 28, \"3\": 4, \"0\": 6}, \"11\": {\"11\": 76, \"12\": 27, \"15\": 3, \"14\": 67, \"2\": 16, \"7\": 7, \"10\": 19, \"0\": 3, \"8\": 6, \"4\": 14, \"13\": 2}, \"10\": {\"11\": 20, \"4\": 5, \"12\": 11, \"7\": 18, \"15\": 28, \"5\": 15, \"10\": 36, \"13\": 11, \"1\": 5, \"14\": 21, \"2\": 21, \"0\": 24, \"8\": 19, \"6\": 6}, \"14\": {\"13\": 9, \"12\": 26, \"11\": 54, \"14\": 76, \"2\": 27, \"4\": 3, \"10\": 24, \"5\": 2, \"7\": 6, \"8\": 8, \"15\": 4, \"1\": 1}, \"6\": {\"7\": 9, \"9\": 57, \"15\": 15, \"5\": 19, \"8\": 21, \"13\": 11, \"0\": 11, \"3\": 26, \"6\": 49, \"1\": 20, \"2\": 1, \"10\": 1}, \"4\": {\"4\": 128, \"14\": 4, \"10\": 14, \"11\": 17, \"12\": 53, \"7\": 13, \"5\": 2, \"8\": 3, \"0\": 4, \"3\": 1, \"15\": 1}, \"13\": {\"15\": 36, \"8\": 20, \"10\": 17, \"2\": 32, \"9\": 11, \"13\": 35, \"6\": 12, \"1\": 25, \"5\": 19, \"0\": 15, \"3\": 7, \"14\": 4, \"11\": 4, \"7\": 3}, \"3\": {\"9\": 56, \"8\": 11, \"5\": 19, \"13\": 5, \"3\": 80, \"6\": 31, \"10\": 2, \"0\": 15, \"7\": 10, \"15\": 2, \"1\": 9}, \"7\": {\"5\": 26, \"10\": 28, \"7\": 62, \"12\": 4, \"8\": 27, \"0\": 33, \"15\": 12, \"14\": 3, \"9\": 5, \"3\": 17, \"6\": 7, \"13\": 7, \"1\": 3, \"2\": 2, \"4\": 3, \"11\": 1}, \"8\": {\"6\": 12, \"10\": 24, \"7\": 24, \"5\": 34, \"8\": 33, \"2\": 13, \"0\": 30, \"15\": 22, \"13\": 19, \"3\": 7, \"9\": 5, \"1\": 9, \"12\": 3, \"14\": 3, \"11\": 2}, \"1\": {\"15\": 32, \"2\": 14, \"9\": 27, \"1\": 52, \"6\": 34, \"8\": 11, \"13\": 35, \"0\": 9, \"3\": 5, \"5\": 15, \"7\": 2, \"10\": 2, \"14\": 2}, \"5\": {\"3\": 15, \"5\": 37, \"15\": 28, \"7\": 28, \"9\": 15, \"10\": 12, \"13\": 22, \"0\": 23, \"6\": 12, \"1\": 13, \"8\": 25, \"2\": 4, \"11\": 3, \"4\": 2, \"14\": 1}, \"0\": {\"8\": 27, \"7\": 36, \"0\": 32, \"10\": 27, \"13\": 10, \"6\": 11, \"5\": 34, \"15\": 13, \"9\": 10, \"3\": 16, \"11\": 4, \"2\": 5, \"12\": 3, \"1\": 6, \"14\": 6}, \"2\": {\"13\": 36, \"5\": 8, \"1\": 14, \"14\": 28, \"9\": 2, \"2\": 64, \"11\": 11, \"15\": 33, \"10\": 23, \"12\": 2, \"8\": 10, \"0\": 4, \"6\": 4, \"7\": 1}, \"12\": {\"12\": 101, \"0\": 3, \"4\": 49, \"11\": 26, \"13\": 2, \"10\": 22, \"7\": 9, \"14\": 23, \"5\": 2, \"8\": 2, \"15\": 1}, \"9\": {\"2\": 1, \"3\": 34, \"5\": 18, \"9\": 58, \"6\": 59, \"13\": 11, \"1\": 22, \"0\": 9, \"15\": 8, \"7\": 12, \"8\": 8}}, \"O_20\": {\"10\": {\"12\": 11, \"6\": 28, \"4\": 32, \"3\": 15, \"10\": 29, \"14\": 25, \"7\": 26, \"15\": 10, \"0\": 13, \"9\": 8, \"5\": 14, \"13\": 3, \"8\": 14, \"1\": 4, \"2\": 6, \"11\": 2}, \"7\": {\"4\": 5, \"7\": 24, \"11\": 15, \"12\": 17, \"15\": 21, \"3\": 15, \"14\": 14, \"2\": 11, \"8\": 14, \"5\": 20, \"9\": 12, \"0\": 22, \"13\": 11, \"6\": 20, \"10\": 6, \"1\": 13}, \"4\": {\"8\": 21, \"6\": 25, \"14\": 25, \"9\": 14, \"5\": 17, \"3\": 17, \"10\": 22, \"4\": 23, \"12\": 16, \"13\": 6, \"1\": 8, \"11\": 2, \"15\": 7, \"7\": 17, \"0\": 13, \"2\": 7}, \"13\": {\"13\": 25, \"12\": 19, \"6\": 12, \"5\": 19, \"2\": 19, \"1\": 20, \"0\": 24, \"9\": 26, \"7\": 17, \"3\": 6, \"8\": 6, \"11\": 19, \"15\": 21, \"10\": 2, \"14\": 2, \"4\": 3}, \"1\": {\"13\": 17, \"2\": 15, \"0\": 23, \"15\": 31, \"9\": 19, \"4\": 4, \"12\": 24, \"3\": 20, \"10\": 5, \"8\": 10, \"5\": 15, \"11\": 4, \"6\": 13, \"1\": 21, \"7\": 16, \"14\": 3}, \"0\": {\"8\": 15, \"12\": 19, \"9\": 15, \"4\": 13, \"15\": 31, \"5\": 24, \"0\": 29, \"13\": 15, \"7\": 15, \"2\": 8, \"1\": 16, \"6\": 11, \"10\": 4, \"11\": 4, \"3\": 16, \"14\": 5}, \"12\": {\"13\": 18, \"11\": 10, \"15\": 19, \"5\": 9, \"3\": 20, \"0\": 17, \"7\": 24, \"6\": 20, \"1\": 25, \"9\": 18, \"12\": 16, \"8\": 12, \"2\": 7, \"10\": 7, \"14\": 8, \"4\": 10}, \"5\": {\"1\": 20, \"12\": 21, \"0\": 27, \"13\": 14, \"3\": 24, \"7\": 18, \"9\": 16, \"10\": 7, \"8\": 12, \"11\": 4, \"15\": 25, \"2\": 11, \"5\": 13, \"4\": 12, \"14\": 3, \"6\": 13}, \"6\": {\"8\": 24, \"10\": 24, \"4\": 17, \"0\": 12, \"15\": 10, \"5\": 7, \"14\": 19, \"2\": 15, \"3\": 17, \"7\": 21, \"11\": 7, \"12\": 13, \"9\": 11, \"1\": 9, \"13\": 7, \"6\": 27}, \"2\": {\"4\": 15, \"12\": 15, \"13\": 20, \"15\": 18, \"0\": 20, \"9\": 15, \"11\": 16, \"2\": 24, \"10\": 5, \"8\": 12, \"1\": 17, \"14\": 8, \"5\": 10, \"7\": 17, \"3\": 15, \"6\": 13}, \"8\": {\"6\": 27, \"12\": 13, \"4\": 19, \"3\": 21, \"7\": 9, \"2\": 12, \"1\": 16, \"9\": 16, \"5\": 19, \"10\": 10, \"15\": 12, \"8\": 20, \"0\": 14, \"11\": 4, \"14\": 19, \"13\": 9}, \"11\": {\"13\": 31, \"1\": 15, \"11\": 48, \"5\": 11, \"2\": 23, \"3\": 15, \"7\": 15, \"12\": 16, \"10\": 4, \"6\": 15, \"9\": 16, \"0\": 14, \"8\": 5, \"15\": 9, \"14\": 3}, \"9\": {\"6\": 25, \"13\": 21, \"11\": 10, \"0\": 20, \"2\": 16, \"5\": 21, \"7\": 12, \"1\": 10, \"15\": 24, \"3\": 19, \"8\": 10, \"12\": 16, \"10\": 11, \"4\": 12, \"9\": 9, \"14\": 4}, \"14\": {\"4\": 21, \"12\": 10, \"0\": 20, \"6\": 25, \"8\": 23, \"7\": 17, \"1\": 10, \"9\": 13, \"3\": 18, \"10\": 25, \"2\": 10, \"14\": 27, \"5\": 11, \"13\": 3, \"15\": 2, \"11\": 5}, \"15\": {\"12\": 17, \"7\": 16, \"2\": 21, \"13\": 26, \"5\": 12, \"15\": 23, \"1\": 15, \"3\": 18, \"8\": 9, \"11\": 7, \"4\": 5, \"9\": 22, \"0\": 30, \"10\": 6, \"6\": 9, \"14\": 4}, \"3\": {\"10\": 18, \"6\": 25, \"5\": 12, \"4\": 10, \"1\": 24, \"14\": 11, \"3\": 17, \"0\": 18, \"9\": 12, \"8\": 7, \"7\": 17, \"12\": 20, \"13\": 15, \"11\": 8, \"2\": 15, \"15\": 11}}, \"O_14\": {\"14\": {\"13\": 28, \"14\": 27, \"2\": 29, \"7\": 3, \"5\": 18, \"4\": 18, \"0\": 22, \"6\": 29, \"3\": 18, \"11\": 15, \"10\": 19, \"8\": 1, \"1\": 4, \"15\": 6, \"9\": 3}, \"0\": {\"5\": 12, \"9\": 24, \"7\": 4, \"13\": 13, \"14\": 14, \"2\": 11, \"0\": 32, \"1\": 14, \"6\": 4, \"10\": 21, \"3\": 20, \"11\": 38, \"4\": 15, \"12\": 9, \"8\": 8, \"15\": 1}, \"4\": {\"0\": 11, \"15\": 14, \"3\": 24, \"2\": 19, \"1\": 34, \"14\": 16, \"10\": 13, \"13\": 9, \"4\": 35, \"5\": 20, \"7\": 18, \"11\": 11, \"9\": 3, \"6\": 8, \"8\": 4, \"12\": 1}, \"11\": {\"14\": 10, \"12\": 35, \"3\": 15, \"11\": 55, \"6\": 7, \"9\": 34, \"0\": 37, \"10\": 16, \"4\": 7, \"2\": 9, \"8\": 3, \"5\": 6, \"13\": 4, \"7\": 1, \"15\": 1}, \"13\": {\"5\": 17, \"0\": 8, \"13\": 30, \"2\": 43, \"6\": 39, \"14\": 27, \"10\": 17, \"3\": 16, \"15\": 11, \"4\": 15, \"11\": 5, \"7\": 6, \"1\": 5, \"9\": 1}, \"9\": {\"14\": 5, \"11\": 33, \"9\": 60, \"0\": 28, \"12\": 60, \"5\": 9, \"1\": 5, \"10\": 8, \"8\": 14, \"7\": 1, \"2\": 2, \"3\": 8, \"4\": 7}, \"3\": {\"2\": 18, \"9\": 10, \"3\": 22, \"15\": 18, \"10\": 22, \"4\": 23, \"11\": 29, \"1\": 8, \"13\": 16, \"5\": 17, \"14\": 19, \"0\": 14, \"6\": 12, \"7\": 9, \"8\": 3}, \"6\": {\"13\": 32, \"3\": 15, \"7\": 5, \"14\": 30, \"6\": 47, \"2\": 28, \"11\": 12, \"4\": 16, \"10\": 20, \"5\": 17, \"15\": 8, \"0\": 7, \"1\": 3}, \"1\": {\"7\": 26, \"9\": 8, \"0\": 13, \"1\": 40, \"13\": 8, \"15\": 21, \"6\": 6, \"3\": 19, \"5\": 30, \"4\": 33, \"8\": 10, \"2\": 7, \"14\": 4, \"11\": 6, \"10\": 9}, \"5\": {\"11\": 8, \"14\": 9, \"5\": 26, \"2\": 17, \"0\": 21, \"1\": 24, \"4\": 24, \"3\": 23, \"15\": 27, \"6\": 8, \"7\": 23, \"8\": 5, \"13\": 11, \"10\": 6, \"9\": 8}, \"12\": {\"9\": 67, \"11\": 20, \"12\": 109, \"5\": 2, \"3\": 2, \"8\": 16, \"10\": 8, \"1\": 1, \"0\": 14, \"6\": 1}, \"10\": {\"5\": 12, \"6\": 13, \"3\": 25, \"14\": 22, \"0\": 19, \"11\": 22, \"2\": 19, \"9\": 14, \"13\": 19, \"4\": 14, \"10\": 37, \"1\": 10, \"15\": 4, \"7\": 5, \"12\": 5}, \"8\": {\"5\": 19, \"9\": 29, \"1\": 29, \"8\": 71, \"7\": 17, \"0\": 9, \"3\": 14, \"12\": 18, \"15\": 9, \"10\": 3, \"11\": 5, \"4\": 12, \"2\": 3, \"14\": 1, \"13\": 1}, \"7\": {\"7\": 52, \"4\": 23, \"3\": 15, \"1\": 36, \"2\": 7, \"5\": 25, \"13\": 5, \"0\": 9, \"15\": 48, \"6\": 4, \"8\": 9, \"14\": 3, \"11\": 1, \"9\": 1, \"10\": 2}, \"15\": {\"6\": 13, \"15\": 61, \"2\": 12, \"7\": 47, \"5\": 29, \"4\": 22, \"1\": 16, \"0\": 5, \"13\": 12, \"14\": 4, \"3\": 12, \"8\": 2, \"10\": 4, \"11\": 1}, \"2\": {\"15\": 15, \"13\": 35, \"3\": 15, \"2\": 23, \"6\": 28, \"0\": 16, \"4\": 23, \"14\": 21, \"10\": 15, \"8\": 1, \"5\": 21, \"9\": 5, \"7\": 13, \"11\": 6, \"1\": 3}}, \"O_32\": {\"11\": {\"4\": 16, \"11\": 51, \"3\": 16, \"7\": 26, \"2\": 20, \"14\": 42, \"13\": 14, \"5\": 15, \"8\": 12, \"0\": 28}, \"1\": {\"1\": 165, \"10\": 54, \"6\": 19, \"12\": 2}, \"2\": {\"11\": 19, \"4\": 36, \"5\": 26, \"2\": 46, \"9\": 25, \"14\": 22, \"7\": 22, \"13\": 12, \"0\": 23, \"8\": 7, \"3\": 2}, \"0\": {\"11\": 13, \"4\": 28, \"5\": 15, \"3\": 19, \"2\": 25, \"0\": 36, \"7\": 26, \"13\": 26, \"14\": 22, \"8\": 21, \"9\": 9}, \"3\": {\"0\": 18, \"4\": 22, \"13\": 38, \"11\": 16, \"3\": 51, \"14\": 17, \"8\": 33, \"7\": 5, \"5\": 23, \"2\": 9, \"15\": 6, \"9\": 2}, \"8\": {\"3\": 38, \"8\": 42, \"5\": 28, \"4\": 22, \"14\": 15, \"11\": 12, \"13\": 25, \"9\": 7, \"0\": 29, \"2\": 7, \"15\": 2, \"7\": 13}, \"12\": {\"12\": 107, \"9\": 59, \"10\": 39, \"6\": 20, \"13\": 2, \"2\": 5, \"1\": 4, \"0\": 2, \"4\": 1, \"3\": 1}, \"5\": {\"13\": 31, \"9\": 9, \"5\": 34, \"0\": 23, \"4\": 25, \"11\": 20, \"7\": 27, \"2\": 21, \"8\": 16, \"3\": 14, \"14\": 18, \"12\": 1, \"15\": 1}, \"15\": {\"15\": 173, \"4\": 1, \"8\": 18, \"3\": 27, \"13\": 15, \"5\": 2, \"14\": 1, \"11\": 1, \"7\": 1, \"2\": 1}, \"7\": {\"14\": 34, \"2\": 28, \"13\": 9, \"0\": 27, \"8\": 13, \"7\": 35, \"5\": 23, \"11\": 26, \"4\": 31, \"3\": 10, \"9\": 3, \"15\": 1}, \"4\": {\"14\": 21, \"7\": 28, \"4\": 31, \"5\": 30, \"13\": 32, \"2\": 17, \"0\": 24, \"9\": 16, \"11\": 15, \"8\": 19, \"3\": 7}, \"14\": {\"4\": 22, \"2\": 23, \"13\": 12, \"7\": 35, \"11\": 44, \"14\": 41, \"5\": 16, \"3\": 11, \"9\": 2, \"8\": 8, \"0\": 26}, \"10\": {\"10\": 135, \"1\": 59, \"6\": 17, \"12\": 29}, \"6\": {\"6\": 143, \"9\": 18, \"1\": 29, \"12\": 29, \"10\": 21}, \"13\": {\"3\": 24, \"0\": 20, \"13\": 36, \"8\": 40, \"2\": 17, \"4\": 31, \"14\": 15, \"5\": 23, \"9\": 6, \"11\": 12, \"7\": 15, \"15\": 1}, \"9\": {\"12\": 44, \"8\": 6, \"6\": 9, \"13\": 11, \"0\": 14, \"2\": 24, \"9\": 73, \"5\": 11, \"4\": 27, \"7\": 12, \"10\": 3, \"11\": 1, \"14\": 5}}, \"O_8\": {\"9\": {\"13\": 8, \"9\": 173, \"10\": 15, \"5\": 14, \"11\": 1, \"0\": 10, \"1\": 2, \"7\": 1, \"14\": 6, \"4\": 5, \"6\": 5}, \"11\": {\"8\": 29, \"11\": 44, \"10\": 15, \"7\": 12, \"1\": 27, \"4\": 20, \"15\": 15, \"5\": 19, \"12\": 11, \"14\": 21, \"3\": 3, \"0\": 4, \"2\": 3, \"6\": 7, \"13\": 10}, \"8\": {\"15\": 34, \"12\": 29, \"2\": 14, \"7\": 14, \"8\": 24, \"3\": 18, \"6\": 12, \"11\": 25, \"1\": 18, \"14\": 10, \"4\": 10, \"0\": 4, \"5\": 9, \"13\": 9, \"10\": 10}, \"4\": {\"7\": 31, \"4\": 24, \"10\": 21, \"12\": 7, \"0\": 12, \"6\": 20, \"14\": 25, \"2\": 11, \"13\": 16, \"1\": 13, \"5\": 24, \"8\": 12, \"15\": 8, \"3\": 10, \"11\": 6}, \"13\": {\"4\": 18, \"10\": 26, \"0\": 23, \"6\": 16, \"15\": 8, \"13\": 21, \"3\": 16, \"12\": 9, \"8\": 9, \"14\": 26, \"1\": 15, \"7\": 24, \"5\": 13, \"11\": 8, \"2\": 7, \"9\": 1}, \"14\": {\"14\": 30, \"0\": 17, \"10\": 27, \"3\": 6, \"5\": 20, \"7\": 28, \"15\": 11, \"13\": 14, \"4\": 11, \"6\": 22, \"11\": 12, \"1\": 14, \"8\": 16, \"2\": 7, \"12\": 4, \"9\": 1}, \"2\": {\"2\": 39, \"3\": 50, \"8\": 7, \"0\": 19, \"12\": 19, \"13\": 16, \"6\": 20, \"15\": 12, \"10\": 7, \"7\": 18, \"11\": 3, \"4\": 19, \"1\": 3, \"5\": 2, \"14\": 6}, \"3\": {\"3\": 49, \"14\": 5, \"7\": 20, \"12\": 30, \"0\": 11, \"15\": 27, \"6\": 17, \"10\": 5, \"13\": 6, \"2\": 39, \"5\": 1, \"4\": 8, \"1\": 5, \"8\": 16, \"11\": 1}, \"1\": {\"15\": 13, \"0\": 9, \"4\": 14, \"10\": 25, \"1\": 25, \"7\": 15, \"11\": 35, \"8\": 16, \"13\": 6, \"5\": 26, \"2\": 6, \"12\": 10, \"14\": 25, \"6\": 12, \"3\": 3}, \"0\": {\"3\": 22, \"2\": 22, \"7\": 22, \"4\": 22, \"6\": 24, \"10\": 23, \"5\": 12, \"13\": 22, \"12\": 10, \"8\": 8, \"1\": 3, \"0\": 20, \"11\": 3, \"9\": 1, \"14\": 17, \"15\": 9}, \"5\": {\"6\": 20, \"14\": 24, \"4\": 29, \"15\": 7, \"10\": 32, \"0\": 9, \"8\": 11, \"13\": 11, \"11\": 25, \"7\": 17, \"5\": 21, \"3\": 3, \"2\": 4, \"1\": 23, \"12\": 3, \"9\": 1}, \"15\": {\"3\": 34, \"8\": 20, \"12\": 35, \"2\": 24, \"15\": 31, \"7\": 16, \"6\": 10, \"13\": 13, \"4\": 9, \"11\": 9, \"5\": 3, \"1\": 13, \"10\": 10, \"14\": 10, \"0\": 3}, \"10\": {\"14\": 26, \"10\": 22, \"0\": 23, \"6\": 31, \"4\": 19, \"8\": 15, \"7\": 12, \"3\": 6, \"5\": 27, \"13\": 19, \"1\": 10, \"2\": 8, \"15\": 9, \"11\": 8, \"12\": 4, \"9\": 1}, \"12\": {\"11\": 11, \"2\": 27, \"3\": 30, \"15\": 29, \"12\": 58, \"4\": 9, \"6\": 9, \"5\": 3, \"1\": 6, \"8\": 25, \"13\": 6, \"10\": 3, \"7\": 10, \"14\": 10, \"0\": 4}, \"6\": {\"6\": 22, \"2\": 17, \"14\": 24, \"3\": 20, \"15\": 12, \"7\": 20, \"10\": 18, \"4\": 18, \"12\": 16, \"13\": 14, \"8\": 9, \"0\": 19, \"5\": 6, \"11\": 10, \"1\": 15}, \"7\": {\"4\": 21, \"3\": 20, \"0\": 14, \"13\": 14, \"1\": 7, \"14\": 20, \"2\": 17, \"5\": 15, \"7\": 22, \"15\": 17, \"10\": 31, \"12\": 14, \"11\": 12, \"6\": 10, \"8\": 6}}}, \"per_domain_accuracy\": {\"C_5\": {\"accuracy\": 0.9984287709497207, \"source?\": true}, \"W_4\": {\"accuracy\": 0.9636059670781894, \"source?\": true}, \"C_1\": {\"accuracy\": 0.9998301630434783, \"source?\": true}, \"W_1\": {\"accuracy\": 0.979740466101695, \"source?\": true}, \"W_2\": {\"accuracy\": 0.9635198744769874, \"source?\": true}, \"C_3\": {\"accuracy\": 1.0, \"source?\": true}, \"W_3\": {\"accuracy\": 0.9834879912663755, \"source?\": true}, \"C_4\": {\"accuracy\": 0.9994352409638554, \"source?\": true}, \"C_2\": {\"accuracy\": 1.0, \"source?\": true}, \"O_26\": {\"accuracy\": 0.1421875, \"source?\": false}, \"O_44\": {\"accuracy\": 0.2109375, \"source?\": false}, \"O_50\": {\"accuracy\": 0.22421875, \"source?\": false}, \"O_38\": {\"accuracy\": 0.25, \"source?\": false}, \"O_20\": {\"accuracy\": 0.09765625, \"source?\": false}, \"O_14\": {\"accuracy\": 0.18932291666666667, \"source?\": false}, \"O_32\": {\"accuracy\": 0.31223958333333335, \"source?\": false}, \"O_8\": {\"accuracy\": 0.16276041666666666, \"source?\": false}}}, \"history\": {\"epoch_indices\": [1, 2, 3, 4, 5, 6, 7], \"train_label_loss\": [0.10754730422510664, 0.06478192105073319, 0.05185332243720355, 0.04331532900424149, 0.03554918145111435, 0.02955323774289383, 0.024077178092734883], \"source_val_label_loss\": [0.09897110611200333, 0.07334253191947937, 0.06320351362228394, 0.06277350336313248, 0.0689612403512001, 0.06685177981853485, 0.06956801563501358], \"target_val_label_loss\": [2.58784556388855, 2.4687399864196777, 2.5057291984558105, 2.7383999824523926, 3.3104007244110107, 3.428349733352661, 3.9338183403015137], \"source_val_acc_label\": [0.9796240395170143, 0.9835688803512623, 0.9854383918770582, 0.9860901481888035, 0.9854040889132821, 0.9855756037321625, 0.9855756037321625], \"target_val_acc_label\": [0.17080078125, 0.19641927083333333, 0.19866536458333334, 0.1810546875, 0.15289713541666666, 0.1494140625, 0.14124348958333333]}, \"dataset_metrics\": {\"source\": {\"train\": {\"n_unique_x\": 364149, \"n_unique_y\": 130, \"n_batch/episode\": 13140}, \"val\": {\"n_unique_x\": 77221, \"n_unique_y\": 130, \"n_batch/episode\": 1822}, \"test\": {\"n_unique_x\": 78360, \"n_unique_y\": 130, \"n_batch/episode\": 1854}}, \"target\": {\"train\": {\"n_unique_x\": 179200, \"n_unique_y\": 16, \"n_batch/episode\": 6720}, \"val\": {\"n_unique_x\": 38400, \"n_unique_y\": 16, \"n_batch/episode\": 960}, \"test\": {\"n_unique_x\": 38400, \"n_unique_y\": 16, \"n_batch/episode\": 960}}}}'"
      ]
     },
     "execution_count": 29,
     "metadata": {},
     "output_type": "execute_result"
    }
   ],
   "source": [
    "json.dumps(experiment)"
   ]
  }
 ],
 "metadata": {
  "celltoolbar": "Tags",
  "kernelspec": {
   "display_name": "Python 3 (ipykernel)",
   "language": "python",
   "name": "python3"
  },
  "language_info": {
   "codemirror_mode": {
    "name": "ipython",
    "version": 3
   },
   "file_extension": ".py",
   "mimetype": "text/x-python",
   "name": "python",
   "nbconvert_exporter": "python",
   "pygments_lexer": "ipython3",
   "version": "3.8.10"
  },
  "papermill": {
   "default_parameters": {},
   "duration": 4624.145312,
   "end_time": "2022-03-20T10:43:59.067226",
   "environment_variables": {},
   "exception": null,
   "input_path": "/mnt/wd500GB/CSC500/csc500-main/csc500-notebooks/templates/tl_ptn_template.ipynb",
   "output_path": "trial.ipynb",
   "parameters": {
    "parameters": {
     "BEST_MODEL_PATH": "./best_model.pth",
     "NUM_LOGS_PER_EPOCH": 10,
     "criteria_for_best": "target_accuracy",
     "dataset_seed": 7,
     "datasets": [
      {
       "domain_prefix": "C_",
       "domains": [
        1,
        2,
        3,
        4,
        5
       ],
       "episode_transforms": [],
       "labels": [
        "1-10.",
        "1-11.",
        "1-15.",
        "1-16.",
        "1-17.",
        "1-18.",
        "1-19.",
        "10-4.",
        "10-7.",
        "11-1.",
        "11-14.",
        "11-17.",
        "11-20.",
        "11-7.",
        "13-20.",
        "13-8.",
        "14-10.",
        "14-11.",
        "14-14.",
        "14-7.",
        "15-1.",
        "15-20.",
        "16-1.",
        "16-16.",
        "17-10.",
        "17-11.",
        "17-2.",
        "19-1.",
        "19-16.",
        "19-19.",
        "19-20.",
        "19-3.",
        "2-10.",
        "2-11.",
        "2-17.",
        "2-18.",
        "2-20.",
        "2-3.",
        "2-4.",
        "2-5.",
        "2-6.",
        "2-7.",
        "2-8.",
        "3-13.",
        "3-18.",
        "3-3.",
        "4-1.",
        "4-10.",
        "4-11.",
        "4-19.",
        "5-5.",
        "6-15.",
        "7-10.",
        "7-14.",
        "8-18.",
        "8-20.",
        "8-3.",
        "8-8."
       ],
       "num_examples_per_domain_per_label": -1,
       "pickle_path": "/mnt/wd500GB/CSC500/csc500-main/datasets/cores.stratified_ds.2022A.pkl",
       "source_or_target_dataset": "source",
       "x_transforms": [
        "unit_power"
       ]
      },
      {
       "domain_prefix": "W_",
       "domains": [
        1,
        2,
        3,
        4
       ],
       "episode_transforms": [],
       "labels": [
        "1-10",
        "1-12",
        "1-14",
        "1-16",
        "1-18",
        "1-19",
        "1-8",
        "10-11",
        "10-17",
        "10-4",
        "10-7",
        "11-1",
        "11-10",
        "11-19",
        "11-20",
        "11-4",
        "11-7",
        "12-19",
        "12-20",
        "12-7",
        "13-14",
        "13-18",
        "13-19",
        "13-20",
        "13-3",
        "13-7",
        "14-10",
        "14-11",
        "14-12",
        "14-13",
        "14-14",
        "14-19",
        "14-20",
        "14-7",
        "14-8",
        "14-9",
        "15-1",
        "15-19",
        "15-6",
        "16-1",
        "16-16",
        "16-19",
        "16-20",
        "17-10",
        "17-11",
        "18-1",
        "18-10",
        "18-11",
        "18-12",
        "18-13",
        "18-14",
        "18-15",
        "18-16",
        "18-17",
        "18-19",
        "18-2",
        "18-20",
        "18-4",
        "18-5",
        "18-7",
        "18-8",
        "18-9",
        "19-1",
        "19-10",
        "19-11",
        "19-12",
        "19-13",
        "19-14",
        "19-15",
        "19-19",
        "19-2",
        "19-20",
        "19-3",
        "19-4",
        "19-6",
        "19-7",
        "19-8",
        "19-9",
        "2-1",
        "2-13",
        "2-15",
        "2-3",
        "2-4",
        "2-5",
        "2-6",
        "2-7",
        "2-8",
        "20-1",
        "20-12",
        "20-14",
        "20-15",
        "20-16",
        "20-18",
        "20-19",
        "20-20",
        "20-3",
        "20-4",
        "20-5",
        "20-7",
        "20-8",
        "3-1",
        "3-13",
        "3-18",
        "3-2",
        "3-8",
        "4-1",
        "4-10",
        "4-11",
        "5-1",
        "5-5",
        "6-1",
        "6-15",
        "6-6",
        "7-10",
        "7-11",
        "7-12",
        "7-13",
        "7-14",
        "7-7",
        "7-8",
        "7-9",
        "8-1",
        "8-13",
        "8-14",
        "8-18",
        "8-20",
        "8-3",
        "8-8",
        "9-1",
        "9-7"
       ],
       "num_examples_per_domain_per_label": -1,
       "pickle_path": "/mnt/wd500GB/CSC500/csc500-main/datasets/wisig.node3-19.stratified_ds.2022A.pkl",
       "source_or_target_dataset": "source",
       "x_transforms": [
        "unit_power"
       ]
      },
      {
       "domain_prefix": "O_",
       "domains": [
        32,
        38,
        8,
        44,
        14,
        50,
        20,
        26
       ],
       "episode_transforms": [],
       "labels": [
        "3123D52",
        "3123D65",
        "3123D79",
        "3123D80",
        "3123D54",
        "3123D70",
        "3123D7B",
        "3123D89",
        "3123D58",
        "3123D76",
        "3123D7D",
        "3123EFE",
        "3123D64",
        "3123D78",
        "3123D7E",
        "3124E4A"
       ],
       "num_examples_per_domain_per_label": 2000,
       "pickle_path": "/mnt/wd500GB/CSC500/csc500-main/datasets/oracle.Run1_framed_2000Examples_stratified_ds.2022A.pkl",
       "source_or_target_dataset": "target",
       "x_transforms": [
        "unit_power"
       ]
      }
     ],
     "device": "cuda",
     "experiment_name": "tl_2v2:cores+wisig -> oracle.run1.framed",
     "lr": 0.0001,
     "n_epoch": 50,
     "n_query": 2,
     "n_shot": 3,
     "n_way": 16,
     "patience": 3,
     "seed": 7,
     "test_k_factor": 2,
     "torch_default_dtype": "torch.float32",
     "train_k_factor": 3,
     "val_k_factor": 2,
     "x_net": [
      {
       "class": "nnReshape",
       "kargs": {
        "shape": [
         -1,
         1,
         2,
         256
        ]
       }
      },
      {
       "class": "Conv2d",
       "kargs": {
        "bias": false,
        "in_channels": 1,
        "kernel_size": [
         1,
         7
        ],
        "out_channels": 256,
        "padding": [
         0,
         3
        ]
       }
      },
      {
       "class": "ReLU",
       "kargs": {
        "inplace": true
       }
      },
      {
       "class": "BatchNorm2d",
       "kargs": {
        "num_features": 256
       }
      },
      {
       "class": "Conv2d",
       "kargs": {
        "bias": true,
        "in_channels": 256,
        "kernel_size": [
         2,
         7
        ],
        "out_channels": 80,
        "padding": [
         0,
         3
        ]
       }
      },
      {
       "class": "ReLU",
       "kargs": {
        "inplace": true
       }
      },
      {
       "class": "BatchNorm2d",
       "kargs": {
        "num_features": 80
       }
      },
      {
       "class": "Flatten",
       "kargs": {}
      },
      {
       "class": "Linear",
       "kargs": {
        "in_features": 20480,
        "out_features": 256
       }
      },
      {
       "class": "ReLU",
       "kargs": {
        "inplace": true
       }
      },
      {
       "class": "BatchNorm1d",
       "kargs": {
        "num_features": 256
       }
      },
      {
       "class": "Linear",
       "kargs": {
        "in_features": 256,
        "out_features": 256
       }
      }
     ]
    }
   },
   "start_time": "2022-03-20T09:26:54.921914",
   "version": "2.3.4"
  }
 },
 "nbformat": 4,
 "nbformat_minor": 5
}