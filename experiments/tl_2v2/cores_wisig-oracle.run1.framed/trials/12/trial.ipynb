{
 "cells": [
  {
   "cell_type": "markdown",
   "id": "9fea5f46",
   "metadata": {
    "papermill": {
     "duration": 0.018696,
     "end_time": "2022-03-20T12:57:15.130888",
     "exception": false,
     "start_time": "2022-03-20T12:57:15.112192",
     "status": "completed"
    },
    "tags": []
   },
   "source": [
    "# Transfer Learning Template"
   ]
  },
  {
   "cell_type": "code",
   "execution_count": 1,
   "id": "0902182a",
   "metadata": {
    "execution": {
     "iopub.execute_input": "2022-03-20T12:57:15.172249Z",
     "iopub.status.busy": "2022-03-20T12:57:15.171742Z",
     "iopub.status.idle": "2022-03-20T12:57:16.158606Z",
     "shell.execute_reply": "2022-03-20T12:57:16.158192Z"
    },
    "papermill": {
     "duration": 1.014335,
     "end_time": "2022-03-20T12:57:16.158702",
     "exception": false,
     "start_time": "2022-03-20T12:57:15.144367",
     "status": "completed"
    },
    "tags": []
   },
   "outputs": [],
   "source": [
    "%load_ext autoreload\n",
    "%autoreload 2\n",
    "%matplotlib inline\n",
    "\n",
    "    \n",
    "import os, json, sys, time, random\n",
    "import numpy as np\n",
    "import torch\n",
    "from torch.optim import Adam\n",
    "from  easydict import EasyDict\n",
    "import matplotlib.pyplot as plt\n",
    "\n",
    "from steves_models.steves_ptn import Steves_Prototypical_Network\n",
    "\n",
    "from steves_utils.lazy_iterable_wrapper import Lazy_Iterable_Wrapper\n",
    "from steves_utils.iterable_aggregator import Iterable_Aggregator\n",
    "from steves_utils.ptn_train_eval_test_jig import  PTN_Train_Eval_Test_Jig\n",
    "from steves_utils.torch_sequential_builder import build_sequential\n",
    "from steves_utils.torch_utils import get_dataset_metrics, ptn_confusion_by_domain_over_dataloader\n",
    "from steves_utils.utils_v2 import (per_domain_accuracy_from_confusion, get_datasets_base_path)\n",
    "from steves_utils.PTN.utils import independent_accuracy_assesment\n",
    "\n",
    "from torch.utils.data import DataLoader\n",
    "\n",
    "from steves_utils.stratified_dataset.episodic_accessor import Episodic_Accessor_Factory\n",
    "\n",
    "from steves_utils.ptn_do_report import (\n",
    "    get_loss_curve,\n",
    "    get_results_table,\n",
    "    get_parameters_table,\n",
    "    get_domain_accuracies,\n",
    ")\n",
    "\n",
    "from steves_utils.transforms import get_chained_transform"
   ]
  },
  {
   "cell_type": "markdown",
   "id": "41c840b4",
   "metadata": {
    "papermill": {
     "duration": 0.01812,
     "end_time": "2022-03-20T12:57:16.201508",
     "exception": false,
     "start_time": "2022-03-20T12:57:16.183388",
     "status": "completed"
    },
    "tags": []
   },
   "source": [
    "# Allowed Parameters\n",
    "These are allowed parameters, not defaults\n",
    "Each of these values need to be present in the injected parameters (the notebook will raise an exception if they are not present)\n",
    "\n",
    "Papermill uses the cell tag \"parameters\" to inject the real parameters below this cell.\n",
    "Enable tags to see what I mean"
   ]
  },
  {
   "cell_type": "code",
   "execution_count": 2,
   "id": "fd44eb83",
   "metadata": {
    "execution": {
     "iopub.execute_input": "2022-03-20T12:57:16.235117Z",
     "iopub.status.busy": "2022-03-20T12:57:16.234772Z",
     "iopub.status.idle": "2022-03-20T12:57:16.250227Z",
     "shell.execute_reply": "2022-03-20T12:57:16.250453Z"
    },
    "papermill": {
     "duration": 0.035364,
     "end_time": "2022-03-20T12:57:16.250533",
     "exception": false,
     "start_time": "2022-03-20T12:57:16.215169",
     "status": "completed"
    },
    "tags": []
   },
   "outputs": [],
   "source": [
    "required_parameters = {\n",
    "    \"experiment_name\",\n",
    "    \"lr\",\n",
    "    \"device\",\n",
    "    \"seed\",\n",
    "    \"dataset_seed\",\n",
    "    \"n_shot\",\n",
    "    \"n_query\",\n",
    "    \"n_way\",\n",
    "    \"train_k_factor\",\n",
    "    \"val_k_factor\",\n",
    "    \"test_k_factor\",\n",
    "    \"n_epoch\",\n",
    "    \"patience\",\n",
    "    \"criteria_for_best\",\n",
    "    \"x_net\",\n",
    "    \"datasets\",\n",
    "    \"torch_default_dtype\",\n",
    "    \"NUM_LOGS_PER_EPOCH\",\n",
    "    \"BEST_MODEL_PATH\",\n",
    "    \"x_shape\",\n",
    "}"
   ]
  },
  {
   "cell_type": "code",
   "execution_count": 3,
   "id": "fa3f0049",
   "metadata": {
    "execution": {
     "iopub.execute_input": "2022-03-20T12:57:16.289946Z",
     "iopub.status.busy": "2022-03-20T12:57:16.289550Z",
     "iopub.status.idle": "2022-03-20T12:57:16.301514Z",
     "shell.execute_reply": "2022-03-20T12:57:16.301726Z"
    },
    "papermill": {
     "duration": 0.03367,
     "end_time": "2022-03-20T12:57:16.301801",
     "exception": false,
     "start_time": "2022-03-20T12:57:16.268131",
     "status": "completed"
    },
    "tags": [
     "parameters"
    ]
   },
   "outputs": [],
   "source": [
    "from steves_utils.CORES.utils import (\n",
    "    ALL_NODES,\n",
    "    ALL_NODES_MINIMUM_1000_EXAMPLES,\n",
    "    ALL_DAYS\n",
    ")\n",
    "\n",
    "from steves_utils.ORACLE.utils_v2 import (\n",
    "    ALL_DISTANCES_FEET_NARROWED,\n",
    "    ALL_RUNS,\n",
    "    ALL_SERIAL_NUMBERS,\n",
    ")\n",
    "\n",
    "standalone_parameters = {}\n",
    "standalone_parameters[\"experiment_name\"] = \"STANDALONE PTN\"\n",
    "standalone_parameters[\"lr\"] = 0.001\n",
    "standalone_parameters[\"device\"] = \"cuda\"\n",
    "\n",
    "standalone_parameters[\"seed\"] = 1337\n",
    "standalone_parameters[\"dataset_seed\"] = 1337\n",
    "\n",
    "standalone_parameters[\"n_way\"] = 8\n",
    "standalone_parameters[\"n_shot\"] = 3\n",
    "standalone_parameters[\"n_query\"]  = 2\n",
    "standalone_parameters[\"train_k_factor\"] = 1\n",
    "standalone_parameters[\"val_k_factor\"] = 2\n",
    "standalone_parameters[\"test_k_factor\"] = 2\n",
    "\n",
    "\n",
    "standalone_parameters[\"n_epoch\"] = 50\n",
    "\n",
    "standalone_parameters[\"patience\"] = 10\n",
    "standalone_parameters[\"criteria_for_best\"] = \"source_loss\"\n",
    "\n",
    "standalone_parameters[\"datasets\"] = [\n",
    "    {\n",
    "        \"labels\": ALL_SERIAL_NUMBERS,\n",
    "        \"domains\": ALL_DISTANCES_FEET_NARROWED,\n",
    "        \"num_examples_per_domain_per_label\": 100,\n",
    "        \"pickle_path\": os.path.join(get_datasets_base_path(), \"oracle.Run1_framed_2000Examples_stratified_ds.2022A.pkl\"),\n",
    "        \"source_or_target_dataset\": \"source\",\n",
    "        \"x_transforms\": [\"unit_mag\", \"minus_two\"],\n",
    "        \"episode_transforms\": [],\n",
    "        \"domain_prefix\": \"ORACLE_\"\n",
    "    },\n",
    "    {\n",
    "        \"labels\": ALL_NODES,\n",
    "        \"domains\": ALL_DAYS,\n",
    "        \"num_examples_per_domain_per_label\": 100,\n",
    "        \"pickle_path\": os.path.join(get_datasets_base_path(), \"cores.stratified_ds.2022A.pkl\"),\n",
    "        \"source_or_target_dataset\": \"target\",\n",
    "        \"x_transforms\": [\"unit_power\", \"times_zero\"],\n",
    "        \"episode_transforms\": [],\n",
    "        \"domain_prefix\": \"CORES_\"\n",
    "    }   \n",
    "]\n",
    "\n",
    "standalone_parameters[\"torch_default_dtype\"] = \"torch.float32\" \n",
    "\n",
    "\n",
    "\n",
    "standalone_parameters[\"x_net\"] =     [\n",
    "    {\"class\": \"nnReshape\", \"kargs\": {\"shape\":[-1, 1, 2, 256]}},\n",
    "    {\"class\": \"Conv2d\", \"kargs\": { \"in_channels\":1, \"out_channels\":256, \"kernel_size\":(1,7), \"bias\":False, \"padding\":(0,3), },},\n",
    "    {\"class\": \"ReLU\", \"kargs\": {\"inplace\": True}},\n",
    "    {\"class\": \"BatchNorm2d\", \"kargs\": {\"num_features\":256}},\n",
    "\n",
    "    {\"class\": \"Conv2d\", \"kargs\": { \"in_channels\":256, \"out_channels\":80, \"kernel_size\":(2,7), \"bias\":True, \"padding\":(0,3), },},\n",
    "    {\"class\": \"ReLU\", \"kargs\": {\"inplace\": True}},\n",
    "    {\"class\": \"BatchNorm2d\", \"kargs\": {\"num_features\":80}},\n",
    "    {\"class\": \"Flatten\", \"kargs\": {}},\n",
    "\n",
    "    {\"class\": \"Linear\", \"kargs\": {\"in_features\": 80*256, \"out_features\": 256}}, # 80 units per IQ pair\n",
    "    {\"class\": \"ReLU\", \"kargs\": {\"inplace\": True}},\n",
    "    {\"class\": \"BatchNorm1d\", \"kargs\": {\"num_features\":256}},\n",
    "\n",
    "    {\"class\": \"Linear\", \"kargs\": {\"in_features\": 256, \"out_features\": 256}},\n",
    "]\n",
    "\n",
    "# Parameters relevant to results\n",
    "# These parameters will basically never need to change\n",
    "standalone_parameters[\"NUM_LOGS_PER_EPOCH\"] = 10\n",
    "standalone_parameters[\"BEST_MODEL_PATH\"] = \"./best_model.pth\"\n",
    "\n",
    "\n",
    "\n",
    "\n"
   ]
  },
  {
   "cell_type": "code",
   "execution_count": 4,
   "id": "20ae5e8d",
   "metadata": {
    "execution": {
     "iopub.execute_input": "2022-03-20T12:57:16.350337Z",
     "iopub.status.busy": "2022-03-20T12:57:16.349393Z",
     "iopub.status.idle": "2022-03-20T12:57:16.362572Z",
     "shell.execute_reply": "2022-03-20T12:57:16.362791Z"
    },
    "papermill": {
     "duration": 0.041426,
     "end_time": "2022-03-20T12:57:16.362870",
     "exception": false,
     "start_time": "2022-03-20T12:57:16.321444",
     "status": "completed"
    },
    "tags": [
     "injected-parameters"
    ]
   },
   "outputs": [],
   "source": [
    "# Parameters\n",
    "parameters = {\n",
    "    \"experiment_name\": \"tl_2v2:cores+wisig -> oracle.run1.framed\",\n",
    "    \"device\": \"cuda\",\n",
    "    \"lr\": 0.0001,\n",
    "    \"n_shot\": 3,\n",
    "    \"n_query\": 2,\n",
    "    \"train_k_factor\": 3,\n",
    "    \"val_k_factor\": 2,\n",
    "    \"test_k_factor\": 2,\n",
    "    \"torch_default_dtype\": \"torch.float32\",\n",
    "    \"n_epoch\": 50,\n",
    "    \"patience\": 3,\n",
    "    \"criteria_for_best\": \"target_accuracy\",\n",
    "    \"x_net\": [\n",
    "        {\"class\": \"nnReshape\", \"kargs\": {\"shape\": [-1, 1, 2, 256]}},\n",
    "        {\n",
    "            \"class\": \"Conv2d\",\n",
    "            \"kargs\": {\n",
    "                \"in_channels\": 1,\n",
    "                \"out_channels\": 256,\n",
    "                \"kernel_size\": [1, 7],\n",
    "                \"bias\": False,\n",
    "                \"padding\": [0, 3],\n",
    "            },\n",
    "        },\n",
    "        {\"class\": \"ReLU\", \"kargs\": {\"inplace\": True}},\n",
    "        {\"class\": \"BatchNorm2d\", \"kargs\": {\"num_features\": 256}},\n",
    "        {\n",
    "            \"class\": \"Conv2d\",\n",
    "            \"kargs\": {\n",
    "                \"in_channels\": 256,\n",
    "                \"out_channels\": 80,\n",
    "                \"kernel_size\": [2, 7],\n",
    "                \"bias\": True,\n",
    "                \"padding\": [0, 3],\n",
    "            },\n",
    "        },\n",
    "        {\"class\": \"ReLU\", \"kargs\": {\"inplace\": True}},\n",
    "        {\"class\": \"BatchNorm2d\", \"kargs\": {\"num_features\": 80}},\n",
    "        {\"class\": \"Flatten\", \"kargs\": {}},\n",
    "        {\"class\": \"Linear\", \"kargs\": {\"in_features\": 20480, \"out_features\": 256}},\n",
    "        {\"class\": \"ReLU\", \"kargs\": {\"inplace\": True}},\n",
    "        {\"class\": \"BatchNorm1d\", \"kargs\": {\"num_features\": 256}},\n",
    "        {\"class\": \"Linear\", \"kargs\": {\"in_features\": 256, \"out_features\": 256}},\n",
    "    ],\n",
    "    \"NUM_LOGS_PER_EPOCH\": 10,\n",
    "    \"BEST_MODEL_PATH\": \"./best_model.pth\",\n",
    "    \"n_way\": 16,\n",
    "    \"datasets\": [\n",
    "        {\n",
    "            \"labels\": [\n",
    "                \"1-10.\",\n",
    "                \"1-11.\",\n",
    "                \"1-15.\",\n",
    "                \"1-16.\",\n",
    "                \"1-17.\",\n",
    "                \"1-18.\",\n",
    "                \"1-19.\",\n",
    "                \"10-4.\",\n",
    "                \"10-7.\",\n",
    "                \"11-1.\",\n",
    "                \"11-14.\",\n",
    "                \"11-17.\",\n",
    "                \"11-20.\",\n",
    "                \"11-7.\",\n",
    "                \"13-20.\",\n",
    "                \"13-8.\",\n",
    "                \"14-10.\",\n",
    "                \"14-11.\",\n",
    "                \"14-14.\",\n",
    "                \"14-7.\",\n",
    "                \"15-1.\",\n",
    "                \"15-20.\",\n",
    "                \"16-1.\",\n",
    "                \"16-16.\",\n",
    "                \"17-10.\",\n",
    "                \"17-11.\",\n",
    "                \"17-2.\",\n",
    "                \"19-1.\",\n",
    "                \"19-16.\",\n",
    "                \"19-19.\",\n",
    "                \"19-20.\",\n",
    "                \"19-3.\",\n",
    "                \"2-10.\",\n",
    "                \"2-11.\",\n",
    "                \"2-17.\",\n",
    "                \"2-18.\",\n",
    "                \"2-20.\",\n",
    "                \"2-3.\",\n",
    "                \"2-4.\",\n",
    "                \"2-5.\",\n",
    "                \"2-6.\",\n",
    "                \"2-7.\",\n",
    "                \"2-8.\",\n",
    "                \"3-13.\",\n",
    "                \"3-18.\",\n",
    "                \"3-3.\",\n",
    "                \"4-1.\",\n",
    "                \"4-10.\",\n",
    "                \"4-11.\",\n",
    "                \"4-19.\",\n",
    "                \"5-5.\",\n",
    "                \"6-15.\",\n",
    "                \"7-10.\",\n",
    "                \"7-14.\",\n",
    "                \"8-18.\",\n",
    "                \"8-20.\",\n",
    "                \"8-3.\",\n",
    "                \"8-8.\",\n",
    "            ],\n",
    "            \"domains\": [1, 2, 3, 4, 5],\n",
    "            \"num_examples_per_domain_per_label\": -1,\n",
    "            \"pickle_path\": \"/mnt/wd500GB/CSC500/csc500-main/datasets/cores.stratified_ds.2022A.pkl\",\n",
    "            \"source_or_target_dataset\": \"source\",\n",
    "            \"x_transforms\": [\"unit_power\"],\n",
    "            \"episode_transforms\": [],\n",
    "            \"domain_prefix\": \"C_\",\n",
    "        },\n",
    "        {\n",
    "            \"labels\": [\n",
    "                \"1-10\",\n",
    "                \"1-12\",\n",
    "                \"1-14\",\n",
    "                \"1-16\",\n",
    "                \"1-18\",\n",
    "                \"1-19\",\n",
    "                \"1-8\",\n",
    "                \"10-11\",\n",
    "                \"10-17\",\n",
    "                \"10-4\",\n",
    "                \"10-7\",\n",
    "                \"11-1\",\n",
    "                \"11-10\",\n",
    "                \"11-19\",\n",
    "                \"11-20\",\n",
    "                \"11-4\",\n",
    "                \"11-7\",\n",
    "                \"12-19\",\n",
    "                \"12-20\",\n",
    "                \"12-7\",\n",
    "                \"13-14\",\n",
    "                \"13-18\",\n",
    "                \"13-19\",\n",
    "                \"13-20\",\n",
    "                \"13-3\",\n",
    "                \"13-7\",\n",
    "                \"14-10\",\n",
    "                \"14-11\",\n",
    "                \"14-12\",\n",
    "                \"14-13\",\n",
    "                \"14-14\",\n",
    "                \"14-19\",\n",
    "                \"14-20\",\n",
    "                \"14-7\",\n",
    "                \"14-8\",\n",
    "                \"14-9\",\n",
    "                \"15-1\",\n",
    "                \"15-19\",\n",
    "                \"15-6\",\n",
    "                \"16-1\",\n",
    "                \"16-16\",\n",
    "                \"16-19\",\n",
    "                \"16-20\",\n",
    "                \"17-10\",\n",
    "                \"17-11\",\n",
    "                \"18-1\",\n",
    "                \"18-10\",\n",
    "                \"18-11\",\n",
    "                \"18-12\",\n",
    "                \"18-13\",\n",
    "                \"18-14\",\n",
    "                \"18-15\",\n",
    "                \"18-16\",\n",
    "                \"18-17\",\n",
    "                \"18-19\",\n",
    "                \"18-2\",\n",
    "                \"18-20\",\n",
    "                \"18-4\",\n",
    "                \"18-5\",\n",
    "                \"18-7\",\n",
    "                \"18-8\",\n",
    "                \"18-9\",\n",
    "                \"19-1\",\n",
    "                \"19-10\",\n",
    "                \"19-11\",\n",
    "                \"19-12\",\n",
    "                \"19-13\",\n",
    "                \"19-14\",\n",
    "                \"19-15\",\n",
    "                \"19-19\",\n",
    "                \"19-2\",\n",
    "                \"19-20\",\n",
    "                \"19-3\",\n",
    "                \"19-4\",\n",
    "                \"19-6\",\n",
    "                \"19-7\",\n",
    "                \"19-8\",\n",
    "                \"19-9\",\n",
    "                \"2-1\",\n",
    "                \"2-13\",\n",
    "                \"2-15\",\n",
    "                \"2-3\",\n",
    "                \"2-4\",\n",
    "                \"2-5\",\n",
    "                \"2-6\",\n",
    "                \"2-7\",\n",
    "                \"2-8\",\n",
    "                \"20-1\",\n",
    "                \"20-12\",\n",
    "                \"20-14\",\n",
    "                \"20-15\",\n",
    "                \"20-16\",\n",
    "                \"20-18\",\n",
    "                \"20-19\",\n",
    "                \"20-20\",\n",
    "                \"20-3\",\n",
    "                \"20-4\",\n",
    "                \"20-5\",\n",
    "                \"20-7\",\n",
    "                \"20-8\",\n",
    "                \"3-1\",\n",
    "                \"3-13\",\n",
    "                \"3-18\",\n",
    "                \"3-2\",\n",
    "                \"3-8\",\n",
    "                \"4-1\",\n",
    "                \"4-10\",\n",
    "                \"4-11\",\n",
    "                \"5-1\",\n",
    "                \"5-5\",\n",
    "                \"6-1\",\n",
    "                \"6-15\",\n",
    "                \"6-6\",\n",
    "                \"7-10\",\n",
    "                \"7-11\",\n",
    "                \"7-12\",\n",
    "                \"7-13\",\n",
    "                \"7-14\",\n",
    "                \"7-7\",\n",
    "                \"7-8\",\n",
    "                \"7-9\",\n",
    "                \"8-1\",\n",
    "                \"8-13\",\n",
    "                \"8-14\",\n",
    "                \"8-18\",\n",
    "                \"8-20\",\n",
    "                \"8-3\",\n",
    "                \"8-8\",\n",
    "                \"9-1\",\n",
    "                \"9-7\",\n",
    "            ],\n",
    "            \"domains\": [1, 2, 3, 4],\n",
    "            \"num_examples_per_domain_per_label\": -1,\n",
    "            \"pickle_path\": \"/mnt/wd500GB/CSC500/csc500-main/datasets/wisig.node3-19.stratified_ds.2022A.pkl\",\n",
    "            \"source_or_target_dataset\": \"source\",\n",
    "            \"x_transforms\": [\"unit_power\"],\n",
    "            \"episode_transforms\": [],\n",
    "            \"domain_prefix\": \"W_\",\n",
    "        },\n",
    "        {\n",
    "            \"labels\": [\n",
    "                \"3123D52\",\n",
    "                \"3123D65\",\n",
    "                \"3123D79\",\n",
    "                \"3123D80\",\n",
    "                \"3123D54\",\n",
    "                \"3123D70\",\n",
    "                \"3123D7B\",\n",
    "                \"3123D89\",\n",
    "                \"3123D58\",\n",
    "                \"3123D76\",\n",
    "                \"3123D7D\",\n",
    "                \"3123EFE\",\n",
    "                \"3123D64\",\n",
    "                \"3123D78\",\n",
    "                \"3123D7E\",\n",
    "                \"3124E4A\",\n",
    "            ],\n",
    "            \"domains\": [32, 38, 8, 44, 14, 50, 20, 26],\n",
    "            \"num_examples_per_domain_per_label\": 2000,\n",
    "            \"pickle_path\": \"/mnt/wd500GB/CSC500/csc500-main/datasets/oracle.Run1_framed_2000Examples_stratified_ds.2022A.pkl\",\n",
    "            \"source_or_target_dataset\": \"target\",\n",
    "            \"x_transforms\": [\"unit_power\"],\n",
    "            \"episode_transforms\": [],\n",
    "            \"domain_prefix\": \"O_\",\n",
    "        },\n",
    "    ],\n",
    "    \"seed\": 500,\n",
    "    \"dataset_seed\": 500,\n",
    "}\n"
   ]
  },
  {
   "cell_type": "code",
   "execution_count": 5,
   "id": "8fa1cc33",
   "metadata": {
    "execution": {
     "iopub.execute_input": "2022-03-20T12:57:16.399995Z",
     "iopub.status.busy": "2022-03-20T12:57:16.399633Z",
     "iopub.status.idle": "2022-03-20T12:57:16.412443Z",
     "shell.execute_reply": "2022-03-20T12:57:16.412184Z"
    },
    "papermill": {
     "duration": 0.031382,
     "end_time": "2022-03-20T12:57:16.412499",
     "exception": false,
     "start_time": "2022-03-20T12:57:16.381117",
     "status": "completed"
    },
    "tags": []
   },
   "outputs": [],
   "source": [
    "# Set this to True if you want to run this template directly\n",
    "STANDALONE = False\n",
    "if STANDALONE:\n",
    "    print(\"parameters not injected, running with standalone_parameters\")\n",
    "    parameters = standalone_parameters\n",
    "\n",
    "if not 'parameters' in locals() and not 'parameters' in globals():\n",
    "    raise Exception(\"Parameter injection failed\")\n",
    "\n",
    "#Use an easy dict for all the parameters\n",
    "p = EasyDict(parameters)\n",
    "\n",
    "if \"x_shape\" not in p:\n",
    "    p.x_shape = [2,256] # Default to this if we dont supply x_shape\n",
    "\n",
    "\n",
    "supplied_keys = set(p.keys())\n",
    "\n",
    "if  supplied_keys != required_parameters:\n",
    "    print(\"Parameters are incorrect\")\n",
    "    if len(supplied_keys - required_parameters)>0: print(\"Shouldn't have:\", str(supplied_keys - required_parameters))\n",
    "    if len(required_parameters - supplied_keys)>0: print(\"Need to have:\", str(required_parameters - supplied_keys))\n",
    "    raise RuntimeError(\"Parameters are incorrect\")"
   ]
  },
  {
   "cell_type": "code",
   "execution_count": 6,
   "id": "3a028d58",
   "metadata": {
    "execution": {
     "iopub.execute_input": "2022-03-20T12:57:16.449528Z",
     "iopub.status.busy": "2022-03-20T12:57:16.449259Z",
     "iopub.status.idle": "2022-03-20T12:57:16.459995Z",
     "shell.execute_reply": "2022-03-20T12:57:16.460410Z"
    },
    "papermill": {
     "duration": 0.029327,
     "end_time": "2022-03-20T12:57:16.460548",
     "exception": false,
     "start_time": "2022-03-20T12:57:16.431221",
     "status": "completed"
    },
    "tags": []
   },
   "outputs": [],
   "source": [
    "###################################\n",
    "# Set the RNGs and make it all deterministic\n",
    "###################################\n",
    "np.random.seed(p.seed)\n",
    "random.seed(p.seed)\n",
    "torch.manual_seed(p.seed)\n",
    "\n",
    "torch.use_deterministic_algorithms(True) "
   ]
  },
  {
   "cell_type": "code",
   "execution_count": 7,
   "id": "b691acf6",
   "metadata": {
    "execution": {
     "iopub.execute_input": "2022-03-20T12:57:16.500007Z",
     "iopub.status.busy": "2022-03-20T12:57:16.499741Z",
     "iopub.status.idle": "2022-03-20T12:57:16.513850Z",
     "shell.execute_reply": "2022-03-20T12:57:16.513463Z"
    },
    "papermill": {
     "duration": 0.03353,
     "end_time": "2022-03-20T12:57:16.513931",
     "exception": false,
     "start_time": "2022-03-20T12:57:16.480401",
     "status": "completed"
    },
    "tags": []
   },
   "outputs": [],
   "source": [
    "###########################################\n",
    "# The stratified datasets honor this\n",
    "###########################################\n",
    "torch.set_default_dtype(eval(p.torch_default_dtype))"
   ]
  },
  {
   "cell_type": "code",
   "execution_count": 8,
   "id": "b5fba671",
   "metadata": {
    "execution": {
     "iopub.execute_input": "2022-03-20T12:57:16.549334Z",
     "iopub.status.busy": "2022-03-20T12:57:16.549061Z",
     "iopub.status.idle": "2022-03-20T12:57:16.586935Z",
     "shell.execute_reply": "2022-03-20T12:57:16.586486Z"
    },
    "papermill": {
     "duration": 0.054,
     "end_time": "2022-03-20T12:57:16.587041",
     "exception": false,
     "start_time": "2022-03-20T12:57:16.533041",
     "status": "completed"
    },
    "tags": []
   },
   "outputs": [],
   "source": [
    "###################################\n",
    "# Build the network(s)\n",
    "# Note: It's critical to do this AFTER setting the RNG\n",
    "###################################\n",
    "x_net = build_sequential(p.x_net)"
   ]
  },
  {
   "cell_type": "code",
   "execution_count": 9,
   "id": "5d7e61cc",
   "metadata": {
    "execution": {
     "iopub.execute_input": "2022-03-20T12:57:16.621664Z",
     "iopub.status.busy": "2022-03-20T12:57:16.621359Z",
     "iopub.status.idle": "2022-03-20T12:57:16.633497Z",
     "shell.execute_reply": "2022-03-20T12:57:16.633010Z"
    },
    "papermill": {
     "duration": 0.027366,
     "end_time": "2022-03-20T12:57:16.633594",
     "exception": false,
     "start_time": "2022-03-20T12:57:16.606228",
     "status": "completed"
    },
    "tags": []
   },
   "outputs": [],
   "source": [
    "start_time_secs = time.time()"
   ]
  },
  {
   "cell_type": "code",
   "execution_count": 10,
   "id": "c6b67dfd",
   "metadata": {
    "execution": {
     "iopub.execute_input": "2022-03-20T12:57:16.668947Z",
     "iopub.status.busy": "2022-03-20T12:57:16.668681Z",
     "iopub.status.idle": "2022-03-20T12:57:16.678506Z",
     "shell.execute_reply": "2022-03-20T12:57:16.678794Z"
    },
    "papermill": {
     "duration": 0.025679,
     "end_time": "2022-03-20T12:57:16.678886",
     "exception": false,
     "start_time": "2022-03-20T12:57:16.653207",
     "status": "completed"
    },
    "tags": []
   },
   "outputs": [],
   "source": [
    "p.domains_source = []\n",
    "p.domains_target = []\n",
    "\n",
    "\n",
    "train_original_source = []\n",
    "val_original_source   = []\n",
    "test_original_source  = []\n",
    "\n",
    "train_original_target = []\n",
    "val_original_target   = []\n",
    "test_original_target  = []"
   ]
  },
  {
   "cell_type": "code",
   "execution_count": 11,
   "id": "e3d9c3d3",
   "metadata": {
    "execution": {
     "iopub.execute_input": "2022-03-20T12:57:16.711949Z",
     "iopub.status.busy": "2022-03-20T12:57:16.711684Z",
     "iopub.status.idle": "2022-03-20T12:57:16.727470Z",
     "shell.execute_reply": "2022-03-20T12:57:16.726742Z"
    },
    "papermill": {
     "duration": 0.03169,
     "end_time": "2022-03-20T12:57:16.727627",
     "exception": false,
     "start_time": "2022-03-20T12:57:16.695937",
     "status": "completed"
    },
    "tags": []
   },
   "outputs": [],
   "source": [
    "# global_x_transform_func = lambda x: normalize(x.to(torch.get_default_dtype()), \"unit_power\") # unit_power, unit_mag\n",
    "# global_x_transform_func = lambda x: normalize(x, \"unit_power\") # unit_power, unit_mag"
   ]
  },
  {
   "cell_type": "code",
   "execution_count": 12,
   "id": "acb78fd2",
   "metadata": {
    "execution": {
     "iopub.execute_input": "2022-03-20T12:57:16.763332Z",
     "iopub.status.busy": "2022-03-20T12:57:16.763023Z",
     "iopub.status.idle": "2022-03-20T12:57:16.779309Z",
     "shell.execute_reply": "2022-03-20T12:57:16.778837Z"
    },
    "papermill": {
     "duration": 0.03413,
     "end_time": "2022-03-20T12:57:16.779413",
     "exception": false,
     "start_time": "2022-03-20T12:57:16.745283",
     "status": "completed"
    },
    "tags": []
   },
   "outputs": [],
   "source": [
    "def add_dataset(\n",
    "    labels,\n",
    "    domains,\n",
    "    pickle_path,\n",
    "    x_transforms,\n",
    "    episode_transforms,\n",
    "    domain_prefix,\n",
    "    num_examples_per_domain_per_label,\n",
    "    source_or_target_dataset:str,\n",
    "    iterator_seed=p.seed,\n",
    "    dataset_seed=p.dataset_seed,\n",
    "    n_shot=p.n_shot,\n",
    "    n_way=p.n_way,\n",
    "    n_query=p.n_query,\n",
    "    train_val_test_k_factors=(p.train_k_factor,p.val_k_factor,p.test_k_factor),\n",
    "):\n",
    "   \n",
    "    if x_transforms == []: x_transform = None\n",
    "    else: x_transform = get_chained_transform(x_transforms)\n",
    "    \n",
    "    if episode_transforms == []: episode_transform = None\n",
    "    else: raise Exception(\"episode_transforms not implemented\")\n",
    "    \n",
    "    episode_transform = lambda tup, _prefix=domain_prefix: (_prefix + str(tup[0]), tup[1])\n",
    "\n",
    "\n",
    "    eaf = Episodic_Accessor_Factory(\n",
    "        labels=labels,\n",
    "        domains=domains,\n",
    "        num_examples_per_domain_per_label=num_examples_per_domain_per_label,\n",
    "        iterator_seed=iterator_seed,\n",
    "        dataset_seed=dataset_seed,\n",
    "        n_shot=n_shot,\n",
    "        n_way=n_way,\n",
    "        n_query=n_query,\n",
    "        train_val_test_k_factors=train_val_test_k_factors,\n",
    "        pickle_path=pickle_path,\n",
    "        x_transform_func=x_transform,\n",
    "    )\n",
    "\n",
    "    train, val, test = eaf.get_train(), eaf.get_val(), eaf.get_test()\n",
    "    train = Lazy_Iterable_Wrapper(train, episode_transform)\n",
    "    val = Lazy_Iterable_Wrapper(val, episode_transform)\n",
    "    test = Lazy_Iterable_Wrapper(test, episode_transform)\n",
    "\n",
    "    if source_or_target_dataset==\"source\":\n",
    "        train_original_source.append(train)\n",
    "        val_original_source.append(val)\n",
    "        test_original_source.append(test)\n",
    "\n",
    "        p.domains_source.extend(\n",
    "            [domain_prefix + str(u) for u in domains]\n",
    "        )\n",
    "    elif source_or_target_dataset==\"target\":\n",
    "        train_original_target.append(train)\n",
    "        val_original_target.append(val)\n",
    "        test_original_target.append(test)\n",
    "        p.domains_target.extend(\n",
    "            [domain_prefix + str(u) for u in domains]\n",
    "        )\n",
    "    else:\n",
    "        raise Exception(f\"invalid source_or_target_dataset: {source_or_target_dataset}\")\n",
    "    "
   ]
  },
  {
   "cell_type": "code",
   "execution_count": 13,
   "id": "fe266617",
   "metadata": {
    "execution": {
     "iopub.execute_input": "2022-03-20T12:57:16.817381Z",
     "iopub.status.busy": "2022-03-20T12:57:16.817121Z",
     "iopub.status.idle": "2022-03-20T12:58:04.135257Z",
     "shell.execute_reply": "2022-03-20T12:58:04.135685Z"
    },
    "papermill": {
     "duration": 47.338172,
     "end_time": "2022-03-20T12:58:04.135818",
     "exception": false,
     "start_time": "2022-03-20T12:57:16.797646",
     "status": "completed"
    },
    "tags": []
   },
   "outputs": [],
   "source": [
    "for ds in p.datasets:\n",
    "    add_dataset(**ds)"
   ]
  },
  {
   "cell_type": "code",
   "execution_count": 14,
   "id": "b90d65ac",
   "metadata": {
    "execution": {
     "iopub.execute_input": "2022-03-20T12:58:04.171496Z",
     "iopub.status.busy": "2022-03-20T12:58:04.171227Z",
     "iopub.status.idle": "2022-03-20T12:58:04.184888Z",
     "shell.execute_reply": "2022-03-20T12:58:04.184558Z"
    },
    "papermill": {
     "duration": 0.02905,
     "end_time": "2022-03-20T12:58:04.184968",
     "exception": false,
     "start_time": "2022-03-20T12:58:04.155918",
     "status": "completed"
    },
    "tags": []
   },
   "outputs": [],
   "source": [
    "# from steves_utils.CORES.utils import (\n",
    "#     ALL_NODES,\n",
    "#     ALL_NODES_MINIMUM_1000_EXAMPLES,\n",
    "#     ALL_DAYS\n",
    "# )\n",
    "\n",
    "# add_dataset(\n",
    "#     labels=ALL_NODES,\n",
    "#     domains = ALL_DAYS,\n",
    "#     num_examples_per_domain_per_label=100,\n",
    "#     pickle_path=os.path.join(get_datasets_base_path(), \"cores.stratified_ds.2022A.pkl\"),\n",
    "#     source_or_target_dataset=\"target\",\n",
    "#     x_transform_func=global_x_transform_func,\n",
    "#     domain_modifier=lambda u: f\"cores_{u}\"\n",
    "# )"
   ]
  },
  {
   "cell_type": "code",
   "execution_count": 15,
   "id": "76db484d",
   "metadata": {
    "execution": {
     "iopub.execute_input": "2022-03-20T12:58:04.218352Z",
     "iopub.status.busy": "2022-03-20T12:58:04.217851Z",
     "iopub.status.idle": "2022-03-20T12:58:04.228140Z",
     "shell.execute_reply": "2022-03-20T12:58:04.228532Z"
    },
    "papermill": {
     "duration": 0.025793,
     "end_time": "2022-03-20T12:58:04.228659",
     "exception": false,
     "start_time": "2022-03-20T12:58:04.202866",
     "status": "completed"
    },
    "tags": []
   },
   "outputs": [],
   "source": [
    "# from steves_utils.ORACLE.utils_v2 import (\n",
    "#     ALL_DISTANCES_FEET,\n",
    "#     ALL_RUNS,\n",
    "#     ALL_SERIAL_NUMBERS,\n",
    "# )\n",
    "\n",
    "\n",
    "# add_dataset(\n",
    "#     labels=ALL_SERIAL_NUMBERS,\n",
    "#     domains = list(set(ALL_DISTANCES_FEET) - {2,62}),\n",
    "#     num_examples_per_domain_per_label=100,\n",
    "#     pickle_path=os.path.join(get_datasets_base_path(), \"oracle.Run2_framed_2000Examples_stratified_ds.2022A.pkl\"),\n",
    "#     source_or_target_dataset=\"source\",\n",
    "#     x_transform_func=global_x_transform_func,\n",
    "#     domain_modifier=lambda u: f\"oracle1_{u}\"\n",
    "# )\n"
   ]
  },
  {
   "cell_type": "code",
   "execution_count": 16,
   "id": "97dea9d2",
   "metadata": {
    "execution": {
     "iopub.execute_input": "2022-03-20T12:58:04.263774Z",
     "iopub.status.busy": "2022-03-20T12:58:04.263522Z",
     "iopub.status.idle": "2022-03-20T12:58:04.277987Z",
     "shell.execute_reply": "2022-03-20T12:58:04.278383Z"
    },
    "papermill": {
     "duration": 0.030474,
     "end_time": "2022-03-20T12:58:04.278502",
     "exception": false,
     "start_time": "2022-03-20T12:58:04.248028",
     "status": "completed"
    },
    "tags": []
   },
   "outputs": [],
   "source": [
    "# from steves_utils.ORACLE.utils_v2 import (\n",
    "#     ALL_DISTANCES_FEET,\n",
    "#     ALL_RUNS,\n",
    "#     ALL_SERIAL_NUMBERS,\n",
    "# )\n",
    "\n",
    "\n",
    "# add_dataset(\n",
    "#     labels=ALL_SERIAL_NUMBERS,\n",
    "#     domains = list(set(ALL_DISTANCES_FEET) - {2,62,56}),\n",
    "#     num_examples_per_domain_per_label=100,\n",
    "#     pickle_path=os.path.join(get_datasets_base_path(), \"oracle.Run2_framed_2000Examples_stratified_ds.2022A.pkl\"),\n",
    "#     source_or_target_dataset=\"source\",\n",
    "#     x_transform_func=global_x_transform_func,\n",
    "#     domain_modifier=lambda u: f\"oracle2_{u}\"\n",
    "# )"
   ]
  },
  {
   "cell_type": "code",
   "execution_count": 17,
   "id": "6f289866",
   "metadata": {
    "execution": {
     "iopub.execute_input": "2022-03-20T12:58:04.313267Z",
     "iopub.status.busy": "2022-03-20T12:58:04.312748Z",
     "iopub.status.idle": "2022-03-20T12:58:04.328312Z",
     "shell.execute_reply": "2022-03-20T12:58:04.328712Z"
    },
    "papermill": {
     "duration": 0.031722,
     "end_time": "2022-03-20T12:58:04.328835",
     "exception": false,
     "start_time": "2022-03-20T12:58:04.297113",
     "status": "completed"
    },
    "tags": []
   },
   "outputs": [],
   "source": [
    "# add_dataset(\n",
    "#     labels=list(range(19)),\n",
    "#     domains = [0,1,2],\n",
    "#     num_examples_per_domain_per_label=100,\n",
    "#     pickle_path=os.path.join(get_datasets_base_path(), \"metehan.stratified_ds.2022A.pkl\"),\n",
    "#     source_or_target_dataset=\"target\",\n",
    "#     x_transform_func=global_x_transform_func,\n",
    "#     domain_modifier=lambda u: f\"met_{u}\"\n",
    "# )"
   ]
  },
  {
   "cell_type": "code",
   "execution_count": 18,
   "id": "86a863c3",
   "metadata": {
    "execution": {
     "iopub.execute_input": "2022-03-20T12:58:04.362180Z",
     "iopub.status.busy": "2022-03-20T12:58:04.361908Z",
     "iopub.status.idle": "2022-03-20T12:58:04.376611Z",
     "shell.execute_reply": "2022-03-20T12:58:04.376908Z"
    },
    "papermill": {
     "duration": 0.030479,
     "end_time": "2022-03-20T12:58:04.377002",
     "exception": false,
     "start_time": "2022-03-20T12:58:04.346523",
     "status": "completed"
    },
    "tags": []
   },
   "outputs": [],
   "source": [
    "# # from steves_utils.wisig.utils import (\n",
    "# #     ALL_NODES_MINIMUM_100_EXAMPLES,\n",
    "# #     ALL_NODES_MINIMUM_500_EXAMPLES,\n",
    "# #     ALL_NODES_MINIMUM_1000_EXAMPLES,\n",
    "# #     ALL_DAYS\n",
    "# # )\n",
    "\n",
    "# import steves_utils.wisig.utils as wisig\n",
    "\n",
    "\n",
    "# add_dataset(\n",
    "#     labels=wisig.ALL_NODES_MINIMUM_100_EXAMPLES,\n",
    "#     domains = wisig.ALL_DAYS,\n",
    "#     num_examples_per_domain_per_label=100,\n",
    "#     pickle_path=os.path.join(get_datasets_base_path(), \"wisig.node3-19.stratified_ds.2022A.pkl\"),\n",
    "#     source_or_target_dataset=\"target\",\n",
    "#     x_transform_func=global_x_transform_func,\n",
    "#     domain_modifier=lambda u: f\"wisig_{u}\"\n",
    "# )"
   ]
  },
  {
   "cell_type": "code",
   "execution_count": 19,
   "id": "fd5442bc",
   "metadata": {
    "execution": {
     "iopub.execute_input": "2022-03-20T12:58:04.413313Z",
     "iopub.status.busy": "2022-03-20T12:58:04.413043Z",
     "iopub.status.idle": "2022-03-20T12:58:04.424922Z",
     "shell.execute_reply": "2022-03-20T12:58:04.425320Z"
    },
    "papermill": {
     "duration": 0.029291,
     "end_time": "2022-03-20T12:58:04.425445",
     "exception": false,
     "start_time": "2022-03-20T12:58:04.396154",
     "status": "completed"
    },
    "tags": []
   },
   "outputs": [],
   "source": [
    "###################################\n",
    "# Build the dataset\n",
    "###################################\n",
    "train_original_source = Iterable_Aggregator(train_original_source, p.seed)\n",
    "val_original_source = Iterable_Aggregator(val_original_source, p.seed)\n",
    "test_original_source = Iterable_Aggregator(test_original_source, p.seed)\n",
    "\n",
    "\n",
    "train_original_target = Iterable_Aggregator(train_original_target, p.seed)\n",
    "val_original_target = Iterable_Aggregator(val_original_target, p.seed)\n",
    "test_original_target = Iterable_Aggregator(test_original_target, p.seed)\n",
    "\n",
    "# For CNN We only use X and Y. And we only train on the source.\n",
    "# Properly form the data using a transform lambda and Lazy_Iterable_Wrapper. Finally wrap them in a dataloader\n",
    "\n",
    "transform_lambda = lambda ex: ex[1] # Original is (<domain>, <episode>) so we strip down to episode only\n",
    "\n",
    "train_processed_source = Lazy_Iterable_Wrapper(train_original_source, transform_lambda)\n",
    "val_processed_source   = Lazy_Iterable_Wrapper(val_original_source, transform_lambda)\n",
    "test_processed_source  = Lazy_Iterable_Wrapper(test_original_source, transform_lambda)\n",
    "\n",
    "train_processed_target = Lazy_Iterable_Wrapper(train_original_target, transform_lambda)\n",
    "val_processed_target   = Lazy_Iterable_Wrapper(val_original_target, transform_lambda)\n",
    "test_processed_target  = Lazy_Iterable_Wrapper(test_original_target, transform_lambda)\n",
    "\n",
    "datasets = EasyDict({\n",
    "    \"source\": {\n",
    "        \"original\": {\"train\":train_original_source, \"val\":val_original_source, \"test\":test_original_source},\n",
    "        \"processed\": {\"train\":train_processed_source, \"val\":val_processed_source, \"test\":test_processed_source}\n",
    "    },\n",
    "    \"target\": {\n",
    "        \"original\": {\"train\":train_original_target, \"val\":val_original_target, \"test\":test_original_target},\n",
    "        \"processed\": {\"train\":train_processed_target, \"val\":val_processed_target, \"test\":test_processed_target}\n",
    "    },\n",
    "})"
   ]
  },
  {
   "cell_type": "code",
   "execution_count": 20,
   "id": "5b3c01fc",
   "metadata": {
    "execution": {
     "iopub.execute_input": "2022-03-20T12:58:04.461414Z",
     "iopub.status.busy": "2022-03-20T12:58:04.461037Z",
     "iopub.status.idle": "2022-03-20T12:58:14.080123Z",
     "shell.execute_reply": "2022-03-20T12:58:14.080582Z"
    },
    "papermill": {
     "duration": 9.635975,
     "end_time": "2022-03-20T12:58:14.080724",
     "exception": false,
     "start_time": "2022-03-20T12:58:04.444749",
     "status": "completed"
    },
    "tags": []
   },
   "outputs": [
    {
     "name": "stdout",
     "output_type": "stream",
     "text": [
      "{'W_2', 'W_3', 'C_1', 'W_4', 'W_1', 'C_3', 'C_2', 'C_4', 'C_5'}\n"
     ]
    },
    {
     "name": "stdout",
     "output_type": "stream",
     "text": [
      "{'O_32', 'O_14', 'O_44', 'O_20', 'O_38', 'O_50', 'O_26', 'O_8'}\n"
     ]
    },
    {
     "name": "stdout",
     "output_type": "stream",
     "text": [
      "tensor([[[ 1.0826e+00, -1.6694e-01,  5.9985e-02,  ...,  1.2393e-01,\n",
      "           1.4430e-01,  3.1916e-01],\n",
      "         [ 4.8724e-01,  7.2095e-01,  2.4956e-01,  ...,  1.2393e-01,\n",
      "           2.2466e-01, -4.5272e-02]],\n",
      "\n",
      "        [[-3.3355e-01,  4.4856e-01,  1.2652e-01,  ..., -1.4952e-01,\n",
      "           3.7211e-02, -2.0162e-01],\n",
      "         [-1.2354e+00, -2.6927e-01,  2.1650e-02,  ..., -2.4086e-01,\n",
      "          -7.5775e-02, -1.2990e-01]],\n",
      "\n",
      "        [[ 4.9976e-01, -4.1552e-02,  1.1043e-01,  ...,  2.0093e-01,\n",
      "           8.3104e-02,  4.5821e-01],\n",
      "         [ 6.8817e-01,  1.6507e-01, -8.8227e-02,  ...,  1.8215e-02,\n",
      "          -5.9198e-02, -6.0336e-01]],\n",
      "\n",
      "        ...,\n",
      "\n",
      "        [[-5.0337e-01,  5.8255e-01,  9.2530e-01,  ..., -4.4681e-01,\n",
      "          -1.0746e+00,  3.4161e-01],\n",
      "         [-6.2101e-01, -8.9815e-01,  3.9817e-01,  ...,  7.2169e-01,\n",
      "           1.1312e-03, -7.4544e-01]],\n",
      "\n",
      "        [[ 1.2042e+00, -1.0255e-01, -8.4983e-01,  ..., -5.8889e-02,\n",
      "           9.4831e-01,  8.0312e-01],\n",
      "         [ 5.7670e-01,  1.2164e+00,  1.4316e-01,  ..., -1.1575e+00,\n",
      "          -9.5237e-01, -1.2184e-02]],\n",
      "\n",
      "        [[ 2.7699e-01, -5.3359e-01, -7.3864e-01,  ..., -3.4654e-01,\n",
      "           1.9905e-01, -4.0289e-01],\n",
      "         [ 1.7147e-01,  8.3696e-01, -5.6477e-01,  ...,  1.7507e-01,\n",
      "           5.5398e-01,  7.6981e-01]]])\n"
     ]
    }
   ],
   "source": [
    "from steves_utils.transforms import get_average_magnitude, get_average_power\n",
    "\n",
    "print(set([u for u,_ in val_original_source]))\n",
    "print(set([u for u,_ in val_original_target]))\n",
    "\n",
    "s_x, s_y, q_x, q_y, _ = next(iter(train_processed_source))\n",
    "print(s_x)\n",
    "\n",
    "# for ds in [\n",
    "#     train_processed_source,\n",
    "#     val_processed_source,\n",
    "#     test_processed_source,\n",
    "#     train_processed_target,\n",
    "#     val_processed_target,\n",
    "#     test_processed_target\n",
    "# ]:\n",
    "#     for s_x, s_y, q_x, q_y, _ in ds:\n",
    "#         for X in (s_x, q_x):\n",
    "#             for x in X:\n",
    "#                 assert np.isclose(get_average_magnitude(x.numpy()), 1.0)\n",
    "#                 assert np.isclose(get_average_power(x.numpy()), 1.0)\n",
    "                "
   ]
  },
  {
   "cell_type": "code",
   "execution_count": 21,
   "id": "bbdacba1",
   "metadata": {
    "execution": {
     "iopub.execute_input": "2022-03-20T12:58:14.120130Z",
     "iopub.status.busy": "2022-03-20T12:58:14.118209Z",
     "iopub.status.idle": "2022-03-20T12:58:14.177862Z",
     "shell.execute_reply": "2022-03-20T12:58:14.177422Z"
    },
    "papermill": {
     "duration": 0.080289,
     "end_time": "2022-03-20T12:58:14.177967",
     "exception": false,
     "start_time": "2022-03-20T12:58:14.097678",
     "status": "completed"
    },
    "tags": []
   },
   "outputs": [
    {
     "name": "stdout",
     "output_type": "stream",
     "text": [
      "(2, 256)\n"
     ]
    }
   ],
   "source": [
    "###################################\n",
    "# Build the model\n",
    "###################################\n",
    "# easfsl only wants a tuple for the shape\n",
    "model = Steves_Prototypical_Network(x_net, device=p.device, x_shape=tuple(p.x_shape))\n",
    "optimizer = Adam(params=model.parameters(), lr=p.lr)"
   ]
  },
  {
   "cell_type": "code",
   "execution_count": 22,
   "id": "22b39ac5",
   "metadata": {
    "execution": {
     "iopub.execute_input": "2022-03-20T12:58:14.219893Z",
     "iopub.status.busy": "2022-03-20T12:58:14.216956Z",
     "iopub.status.idle": "2022-03-20T14:00:05.635087Z",
     "shell.execute_reply": "2022-03-20T14:00:05.634843Z"
    },
    "papermill": {
     "duration": 3711.4356,
     "end_time": "2022-03-20T14:00:05.635149",
     "exception": false,
     "start_time": "2022-03-20T12:58:14.199549",
     "status": "completed"
    },
    "tags": []
   },
   "outputs": [
    {
     "name": "stdout",
     "output_type": "stream",
     "text": [
      "epoch: 1, [batch: 1 / 13148], examples_per_second: 23.3243, train_label_loss: 2.6296, \n"
     ]
    },
    {
     "name": "stdout",
     "output_type": "stream",
     "text": [
      "epoch: 1, [batch: 1315 / 13148], examples_per_second: 1727.4677, train_label_loss: 0.1531, \n"
     ]
    },
    {
     "name": "stdout",
     "output_type": "stream",
     "text": [
      "epoch: 1, [batch: 2630 / 13148], examples_per_second: 1728.7349, train_label_loss: 0.0081, \n"
     ]
    },
    {
     "name": "stdout",
     "output_type": "stream",
     "text": [
      "epoch: 1, [batch: 3945 / 13148], examples_per_second: 1724.5440, train_label_loss: 0.0023, \n"
     ]
    },
    {
     "name": "stdout",
     "output_type": "stream",
     "text": [
      "epoch: 1, [batch: 5259 / 13148], examples_per_second: 1723.0082, train_label_loss: 0.1991, \n"
     ]
    },
    {
     "name": "stdout",
     "output_type": "stream",
     "text": [
      "epoch: 1, [batch: 6574 / 13148], examples_per_second: 1726.8415, train_label_loss: 0.3873, \n"
     ]
    },
    {
     "name": "stdout",
     "output_type": "stream",
     "text": [
      "epoch: 1, [batch: 7889 / 13148], examples_per_second: 1726.7960, train_label_loss: 0.0017, \n"
     ]
    },
    {
     "name": "stdout",
     "output_type": "stream",
     "text": [
      "epoch: 1, [batch: 9203 / 13148], examples_per_second: 1825.9728, train_label_loss: 0.0021, \n"
     ]
    },
    {
     "name": "stdout",
     "output_type": "stream",
     "text": [
      "epoch: 1, [batch: 10518 / 13148], examples_per_second: 2031.2864, train_label_loss: 0.0187, \n"
     ]
    },
    {
     "name": "stdout",
     "output_type": "stream",
     "text": [
      "epoch: 1, [batch: 11833 / 13148], examples_per_second: 1728.2279, train_label_loss: 0.0232, \n"
     ]
    },
    {
     "name": "stdout",
     "output_type": "stream",
     "text": [
      "=============================================================\n",
      "epoch: 1, source_val_acc_label: 0.9779, target_val_acc_label: 0.2210, source_val_label_loss: 0.1010, target_val_label_loss: 2.4141, \n",
      "=============================================================\n"
     ]
    },
    {
     "name": "stdout",
     "output_type": "stream",
     "text": [
      "New best\n"
     ]
    },
    {
     "name": "stdout",
     "output_type": "stream",
     "text": [
      "epoch: 2, [batch: 1 / 13145], examples_per_second: 1.4708, train_label_loss: 0.0498, \n"
     ]
    },
    {
     "name": "stdout",
     "output_type": "stream",
     "text": [
      "epoch: 2, [batch: 1315 / 13145], examples_per_second: 1740.2596, train_label_loss: 0.0014, \n"
     ]
    },
    {
     "name": "stdout",
     "output_type": "stream",
     "text": [
      "epoch: 2, [batch: 2629 / 13145], examples_per_second: 1740.8513, train_label_loss: 0.0007, \n"
     ]
    },
    {
     "name": "stdout",
     "output_type": "stream",
     "text": [
      "epoch: 2, [batch: 3944 / 13145], examples_per_second: 1743.6866, train_label_loss: 0.0084, \n"
     ]
    },
    {
     "name": "stdout",
     "output_type": "stream",
     "text": [
      "epoch: 2, [batch: 5258 / 13145], examples_per_second: 1740.6725, train_label_loss: 0.0659, \n"
     ]
    },
    {
     "name": "stdout",
     "output_type": "stream",
     "text": [
      "epoch: 2, [batch: 6573 / 13145], examples_per_second: 1742.2279, train_label_loss: 0.0010, \n"
     ]
    },
    {
     "name": "stdout",
     "output_type": "stream",
     "text": [
      "epoch: 2, [batch: 7887 / 13145], examples_per_second: 1743.5031, train_label_loss: 0.2141, \n"
     ]
    },
    {
     "name": "stdout",
     "output_type": "stream",
     "text": [
      "epoch: 2, [batch: 9201 / 13145], examples_per_second: 1907.4186, train_label_loss: 0.0008, \n"
     ]
    },
    {
     "name": "stdout",
     "output_type": "stream",
     "text": [
      "epoch: 2, [batch: 10516 / 13145], examples_per_second: 2016.6578, train_label_loss: 0.0028, \n"
     ]
    },
    {
     "name": "stdout",
     "output_type": "stream",
     "text": [
      "epoch: 2, [batch: 11830 / 13145], examples_per_second: 1740.3237, train_label_loss: 0.0010, \n"
     ]
    },
    {
     "name": "stdout",
     "output_type": "stream",
     "text": [
      "=============================================================\n",
      "epoch: 2, source_val_acc_label: 0.9847, target_val_acc_label: 0.2229, source_val_label_loss: 0.0694, target_val_label_loss: 2.3782, \n",
      "=============================================================\n"
     ]
    },
    {
     "name": "stdout",
     "output_type": "stream",
     "text": [
      "New best\n"
     ]
    },
    {
     "name": "stdout",
     "output_type": "stream",
     "text": [
      "epoch: 3, [batch: 1 / 13153], examples_per_second: 1.4767, train_label_loss: 0.0014, \n"
     ]
    },
    {
     "name": "stdout",
     "output_type": "stream",
     "text": [
      "epoch: 3, [batch: 1316 / 13153], examples_per_second: 1740.7963, train_label_loss: 0.0912, \n"
     ]
    },
    {
     "name": "stdout",
     "output_type": "stream",
     "text": [
      "epoch: 3, [batch: 2631 / 13153], examples_per_second: 1742.8352, train_label_loss: 0.0009, \n"
     ]
    },
    {
     "name": "stdout",
     "output_type": "stream",
     "text": [
      "epoch: 3, [batch: 3946 / 13153], examples_per_second: 1744.1326, train_label_loss: 0.0001, \n"
     ]
    },
    {
     "name": "stdout",
     "output_type": "stream",
     "text": [
      "epoch: 3, [batch: 5261 / 13153], examples_per_second: 1738.9817, train_label_loss: 0.0009, \n"
     ]
    },
    {
     "name": "stdout",
     "output_type": "stream",
     "text": [
      "epoch: 3, [batch: 6577 / 13153], examples_per_second: 1740.8804, train_label_loss: 0.0006, \n"
     ]
    },
    {
     "name": "stdout",
     "output_type": "stream",
     "text": [
      "epoch: 3, [batch: 7892 / 13153], examples_per_second: 1743.9321, train_label_loss: 0.0003, \n"
     ]
    },
    {
     "name": "stdout",
     "output_type": "stream",
     "text": [
      "epoch: 3, [batch: 9207 / 13153], examples_per_second: 1923.4421, train_label_loss: 0.0005, \n"
     ]
    },
    {
     "name": "stdout",
     "output_type": "stream",
     "text": [
      "epoch: 3, [batch: 10522 / 13153], examples_per_second: 2079.9369, train_label_loss: 0.0005, \n"
     ]
    },
    {
     "name": "stdout",
     "output_type": "stream",
     "text": [
      "epoch: 3, [batch: 11837 / 13153], examples_per_second: 2050.5698, train_label_loss: 0.0469, \n"
     ]
    },
    {
     "name": "stdout",
     "output_type": "stream",
     "text": [
      "=============================================================\n",
      "epoch: 3, source_val_acc_label: 0.9855, target_val_acc_label: 0.1931, source_val_label_loss: 0.0606, target_val_label_loss: 2.6662, \n",
      "=============================================================\n"
     ]
    },
    {
     "name": "stdout",
     "output_type": "stream",
     "text": [
      "epoch: 4, [batch: 1 / 13157], examples_per_second: 1.8831, train_label_loss: 0.0011, \n"
     ]
    },
    {
     "name": "stdout",
     "output_type": "stream",
     "text": [
      "epoch: 4, [batch: 1316 / 13157], examples_per_second: 3083.6632, train_label_loss: 0.0003, \n"
     ]
    },
    {
     "name": "stdout",
     "output_type": "stream",
     "text": [
      "epoch: 4, [batch: 2632 / 13157], examples_per_second: 3140.2449, train_label_loss: 0.0007, \n"
     ]
    },
    {
     "name": "stdout",
     "output_type": "stream",
     "text": [
      "epoch: 4, [batch: 3947 / 13157], examples_per_second: 3174.1253, train_label_loss: 0.0008, \n"
     ]
    },
    {
     "name": "stdout",
     "output_type": "stream",
     "text": [
      "epoch: 4, [batch: 5263 / 13157], examples_per_second: 3151.6890, train_label_loss: 0.0000, \n"
     ]
    },
    {
     "name": "stdout",
     "output_type": "stream",
     "text": [
      "epoch: 4, [batch: 6579 / 13157], examples_per_second: 1869.3284, train_label_loss: 0.0192, \n"
     ]
    },
    {
     "name": "stdout",
     "output_type": "stream",
     "text": [
      "epoch: 4, [batch: 7894 / 13157], examples_per_second: 1738.2632, train_label_loss: 0.0942, \n"
     ]
    },
    {
     "name": "stdout",
     "output_type": "stream",
     "text": [
      "epoch: 4, [batch: 9210 / 13157], examples_per_second: 1733.7108, train_label_loss: 0.0614, \n"
     ]
    },
    {
     "name": "stdout",
     "output_type": "stream",
     "text": [
      "epoch: 4, [batch: 10525 / 13157], examples_per_second: 1739.5060, train_label_loss: 0.0001, \n"
     ]
    },
    {
     "name": "stdout",
     "output_type": "stream",
     "text": [
      "epoch: 4, [batch: 11841 / 13157], examples_per_second: 1736.9456, train_label_loss: 0.0000, \n"
     ]
    },
    {
     "name": "stdout",
     "output_type": "stream",
     "text": [
      "=============================================================\n",
      "epoch: 4, source_val_acc_label: 0.9859, target_val_acc_label: 0.1876, source_val_label_loss: 0.0612, target_val_label_loss: 2.6706, \n",
      "=============================================================\n"
     ]
    },
    {
     "name": "stdout",
     "output_type": "stream",
     "text": [
      "epoch: 5, [batch: 1 / 13184], examples_per_second: 1.4676, train_label_loss: 0.0000, \n"
     ]
    },
    {
     "name": "stdout",
     "output_type": "stream",
     "text": [
      "epoch: 5, [batch: 1319 / 13184], examples_per_second: 1735.1785, train_label_loss: 0.1387, \n"
     ]
    },
    {
     "name": "stdout",
     "output_type": "stream",
     "text": [
      "epoch: 5, [batch: 2637 / 13184], examples_per_second: 1736.9294, train_label_loss: 0.0001, \n"
     ]
    },
    {
     "name": "stdout",
     "output_type": "stream",
     "text": [
      "epoch: 5, [batch: 3955 / 13184], examples_per_second: 1739.9590, train_label_loss: 0.0006, \n"
     ]
    },
    {
     "name": "stdout",
     "output_type": "stream",
     "text": [
      "epoch: 5, [batch: 5274 / 13184], examples_per_second: 2204.2306, train_label_loss: 0.0001, \n"
     ]
    },
    {
     "name": "stdout",
     "output_type": "stream",
     "text": [
      "epoch: 5, [batch: 6592 / 13184], examples_per_second: 1748.9848, train_label_loss: 0.4088, \n"
     ]
    },
    {
     "name": "stdout",
     "output_type": "stream",
     "text": [
      "epoch: 5, [batch: 7910 / 13184], examples_per_second: 1739.3393, train_label_loss: 0.0427, \n"
     ]
    },
    {
     "name": "stdout",
     "output_type": "stream",
     "text": [
      "epoch: 5, [batch: 9229 / 13184], examples_per_second: 1737.0545, train_label_loss: 0.0009, \n"
     ]
    },
    {
     "name": "stdout",
     "output_type": "stream",
     "text": [
      "epoch: 5, [batch: 10547 / 13184], examples_per_second: 1740.1491, train_label_loss: 0.0002, \n"
     ]
    },
    {
     "name": "stdout",
     "output_type": "stream",
     "text": [
      "epoch: 5, [batch: 11865 / 13184], examples_per_second: 1739.2186, train_label_loss: 0.0001, \n"
     ]
    },
    {
     "name": "stdout",
     "output_type": "stream",
     "text": [
      "=============================================================\n",
      "epoch: 5, source_val_acc_label: 0.9863, target_val_acc_label: 0.1754, source_val_label_loss: 0.0606, target_val_label_loss: 2.8263, \n",
      "=============================================================\n"
     ]
    },
    {
     "name": "stdout",
     "output_type": "stream",
     "text": [
      "epoch: 6, [batch: 1 / 13166], examples_per_second: 1.4645, train_label_loss: 0.0001, \n"
     ]
    },
    {
     "name": "stdout",
     "output_type": "stream",
     "text": [
      "epoch: 6, [batch: 1317 / 13166], examples_per_second: 1737.1726, train_label_loss: 0.0020, \n"
     ]
    },
    {
     "name": "stdout",
     "output_type": "stream",
     "text": [
      "epoch: 6, [batch: 2634 / 13166], examples_per_second: 1740.0462, train_label_loss: 0.0002, \n"
     ]
    },
    {
     "name": "stdout",
     "output_type": "stream",
     "text": [
      "epoch: 6, [batch: 3950 / 13166], examples_per_second: 1778.1676, train_label_loss: 0.0234, \n"
     ]
    },
    {
     "name": "stdout",
     "output_type": "stream",
     "text": [
      "epoch: 6, [batch: 5267 / 13166], examples_per_second: 2160.8432, train_label_loss: 0.0002, \n"
     ]
    },
    {
     "name": "stdout",
     "output_type": "stream",
     "text": [
      "epoch: 6, [batch: 6583 / 13166], examples_per_second: 1741.4027, train_label_loss: 0.0448, \n"
     ]
    },
    {
     "name": "stdout",
     "output_type": "stream",
     "text": [
      "epoch: 6, [batch: 7900 / 13166], examples_per_second: 1740.2870, train_label_loss: 0.2175, \n"
     ]
    },
    {
     "name": "stdout",
     "output_type": "stream",
     "text": [
      "epoch: 6, [batch: 9216 / 13166], examples_per_second: 1736.0493, train_label_loss: 0.1610, \n"
     ]
    },
    {
     "name": "stdout",
     "output_type": "stream",
     "text": [
      "epoch: 6, [batch: 10533 / 13166], examples_per_second: 1742.6666, train_label_loss: 0.1630, \n"
     ]
    },
    {
     "name": "stdout",
     "output_type": "stream",
     "text": [
      "epoch: 6, [batch: 11849 / 13166], examples_per_second: 1739.4104, train_label_loss: 0.0001, \n"
     ]
    },
    {
     "name": "stdout",
     "output_type": "stream",
     "text": [
      "=============================================================\n",
      "epoch: 6, source_val_acc_label: 0.9863, target_val_acc_label: 0.1588, source_val_label_loss: 0.0627, target_val_label_loss: 3.1539, \n",
      "=============================================================\n"
     ]
    },
    {
     "name": "stdout",
     "output_type": "stream",
     "text": [
      "Patience (3) exhausted\n"
     ]
    }
   ],
   "source": [
    "###################################\n",
    "# train\n",
    "###################################\n",
    "jig = PTN_Train_Eval_Test_Jig(model, p.BEST_MODEL_PATH, p.device)\n",
    "\n",
    "jig.train(\n",
    "    train_iterable=datasets.source.processed.train,\n",
    "    source_val_iterable=datasets.source.processed.val,\n",
    "    target_val_iterable=datasets.target.processed.val,\n",
    "    num_epochs=p.n_epoch,\n",
    "    num_logs_per_epoch=p.NUM_LOGS_PER_EPOCH,\n",
    "    patience=p.patience,\n",
    "    optimizer=optimizer,\n",
    "    criteria_for_best=p.criteria_for_best,\n",
    ")"
   ]
  },
  {
   "cell_type": "code",
   "execution_count": 23,
   "id": "31e8fabf",
   "metadata": {
    "execution": {
     "iopub.execute_input": "2022-03-20T14:00:05.693857Z",
     "iopub.status.busy": "2022-03-20T14:00:05.692982Z",
     "iopub.status.idle": "2022-03-20T14:00:05.713847Z",
     "shell.execute_reply": "2022-03-20T14:00:05.714247Z"
    },
    "papermill": {
     "duration": 0.051223,
     "end_time": "2022-03-20T14:00:05.714369",
     "exception": false,
     "start_time": "2022-03-20T14:00:05.663146",
     "status": "completed"
    },
    "tags": []
   },
   "outputs": [],
   "source": [
    "total_experiment_time_secs = time.time() - start_time_secs"
   ]
  },
  {
   "cell_type": "code",
   "execution_count": 24,
   "id": "87b9595b",
   "metadata": {
    "execution": {
     "iopub.execute_input": "2022-03-20T14:00:05.780955Z",
     "iopub.status.busy": "2022-03-20T14:00:05.780566Z",
     "iopub.status.idle": "2022-03-20T14:03:53.884364Z",
     "shell.execute_reply": "2022-03-20T14:03:53.884830Z"
    },
    "papermill": {
     "duration": 228.138675,
     "end_time": "2022-03-20T14:03:53.884974",
     "exception": false,
     "start_time": "2022-03-20T14:00:05.746299",
     "status": "completed"
    },
    "tags": []
   },
   "outputs": [],
   "source": [
    "###################################\n",
    "# Evaluate the model\n",
    "###################################\n",
    "source_test_label_accuracy, source_test_label_loss = jig.test(datasets.source.processed.test)\n",
    "target_test_label_accuracy, target_test_label_loss = jig.test(datasets.target.processed.test)\n",
    "\n",
    "source_val_label_accuracy, source_val_label_loss = jig.test(datasets.source.processed.val)\n",
    "target_val_label_accuracy, target_val_label_loss = jig.test(datasets.target.processed.val)\n",
    "\n",
    "history = jig.get_history()\n",
    "\n",
    "total_epochs_trained = len(history[\"epoch_indices\"])\n",
    "\n",
    "val_dl = Iterable_Aggregator((datasets.source.original.val,datasets.target.original.val))\n",
    "\n",
    "confusion = ptn_confusion_by_domain_over_dataloader(model, p.device, val_dl)\n",
    "per_domain_accuracy = per_domain_accuracy_from_confusion(confusion)\n",
    "\n",
    "# Add a key to per_domain_accuracy for if it was a source domain\n",
    "for domain, accuracy in per_domain_accuracy.items():\n",
    "    per_domain_accuracy[domain] = {\n",
    "        \"accuracy\": accuracy,\n",
    "        \"source?\": domain in p.domains_source\n",
    "    }\n",
    "\n",
    "# Do an independent accuracy assesment JUST TO BE SURE!\n",
    "# _source_test_label_accuracy = independent_accuracy_assesment(model, datasets.source.processed.test, p.device)\n",
    "# _target_test_label_accuracy = independent_accuracy_assesment(model, datasets.target.processed.test, p.device)\n",
    "# _source_val_label_accuracy = independent_accuracy_assesment(model, datasets.source.processed.val, p.device)\n",
    "# _target_val_label_accuracy = independent_accuracy_assesment(model, datasets.target.processed.val, p.device)\n",
    "\n",
    "# assert(_source_test_label_accuracy == source_test_label_accuracy)\n",
    "# assert(_target_test_label_accuracy == target_test_label_accuracy)\n",
    "# assert(_source_val_label_accuracy == source_val_label_accuracy)\n",
    "# assert(_target_val_label_accuracy == target_val_label_accuracy)\n",
    "\n",
    "experiment = {\n",
    "    \"experiment_name\": p.experiment_name,\n",
    "    \"parameters\": dict(p),\n",
    "    \"results\": {\n",
    "        \"source_test_label_accuracy\": source_test_label_accuracy,\n",
    "        \"source_test_label_loss\": source_test_label_loss,\n",
    "        \"target_test_label_accuracy\": target_test_label_accuracy,\n",
    "        \"target_test_label_loss\": target_test_label_loss,\n",
    "        \"source_val_label_accuracy\": source_val_label_accuracy,\n",
    "        \"source_val_label_loss\": source_val_label_loss,\n",
    "        \"target_val_label_accuracy\": target_val_label_accuracy,\n",
    "        \"target_val_label_loss\": target_val_label_loss,\n",
    "        \"total_epochs_trained\": total_epochs_trained,\n",
    "        \"total_experiment_time_secs\": total_experiment_time_secs,\n",
    "        \"confusion\": confusion,\n",
    "        \"per_domain_accuracy\": per_domain_accuracy,\n",
    "    },\n",
    "    \"history\": history,\n",
    "    \"dataset_metrics\": get_dataset_metrics(datasets, \"ptn\"),\n",
    "}"
   ]
  },
  {
   "cell_type": "code",
   "execution_count": 25,
   "id": "54a21829",
   "metadata": {
    "execution": {
     "iopub.execute_input": "2022-03-20T14:03:53.947301Z",
     "iopub.status.busy": "2022-03-20T14:03:53.947013Z",
     "iopub.status.idle": "2022-03-20T14:03:54.070541Z",
     "shell.execute_reply": "2022-03-20T14:03:54.070863Z"
    },
    "papermill": {
     "duration": 0.153868,
     "end_time": "2022-03-20T14:03:54.070970",
     "exception": false,
     "start_time": "2022-03-20T14:03:53.917102",
     "status": "completed"
    },
    "tags": []
   },
   "outputs": [
    {
     "data": {
      "image/png": "[encoded data removed]",
      "text/plain": [
       "<Figure size 1080x504 with 1 Axes>"
      ]
     },
     "metadata": {
      "needs_background": "light"
     },
     "output_type": "display_data"
    }
   ],
   "source": [
    "ax = get_loss_curve(experiment)\n",
    "plt.show()"
   ]
  },
  {
   "cell_type": "code",
   "execution_count": 26,
   "id": "fd8a0f60",
   "metadata": {
    "execution": {
     "iopub.execute_input": "2022-03-20T14:03:54.135118Z",
     "iopub.status.busy": "2022-03-20T14:03:54.134857Z",
     "iopub.status.idle": "2022-03-20T14:03:54.278928Z",
     "shell.execute_reply": "2022-03-20T14:03:54.279219Z"
    },
    "papermill": {
     "duration": 0.175933,
     "end_time": "2022-03-20T14:03:54.279324",
     "exception": false,
     "start_time": "2022-03-20T14:03:54.103391",
     "status": "completed"
    },
    "tags": []
   },
   "outputs": [
    {
     "data": {
      "text/plain": [
       "<AxesSubplot:title={'center':'Results'}>"
      ]
     },
     "execution_count": 26,
     "metadata": {},
     "output_type": "execute_result"
    },
    {
     "data": {
      "image/png": "[encoded data removed]",
      "text/plain": [
       "<Figure size 1080x504 with 1 Axes>"
      ]
     },
     "metadata": {
      "needs_background": "light"
     },
     "output_type": "display_data"
    }
   ],
   "source": [
    "get_results_table(experiment)"
   ]
  },
  {
   "cell_type": "code",
   "execution_count": 27,
   "id": "cf8dc689",
   "metadata": {
    "execution": {
     "iopub.execute_input": "2022-03-20T14:03:54.350939Z",
     "iopub.status.busy": "2022-03-20T14:03:54.350675Z",
     "iopub.status.idle": "2022-03-20T14:03:54.520671Z",
     "shell.execute_reply": "2022-03-20T14:03:54.520162Z"
    },
    "papermill": {
     "duration": 0.201299,
     "end_time": "2022-03-20T14:03:54.520778",
     "exception": false,
     "start_time": "2022-03-20T14:03:54.319479",
     "status": "completed"
    },
    "tags": []
   },
   "outputs": [
    {
     "data": {
      "text/plain": [
       "<AxesSubplot:title={'center':'Per Domain Validation Accuracy'}, xlabel='domain'>"
      ]
     },
     "execution_count": 27,
     "metadata": {},
     "output_type": "execute_result"
    },
    {
     "data": {
      "image/png": "[encoded data removed]",
      "text/plain": [
       "<Figure size 1080x504 with 1 Axes>"
      ]
     },
     "metadata": {
      "needs_background": "light"
     },
     "output_type": "display_data"
    }
   ],
   "source": [
    "get_domain_accuracies(experiment)"
   ]
  },
  {
   "cell_type": "code",
   "execution_count": 28,
   "id": "a74ae082",
   "metadata": {
    "execution": {
     "iopub.execute_input": "2022-03-20T14:03:54.588280Z",
     "iopub.status.busy": "2022-03-20T14:03:54.588019Z",
     "iopub.status.idle": "2022-03-20T14:03:54.602974Z",
     "shell.execute_reply": "2022-03-20T14:03:54.603405Z"
    },
    "papermill": {
     "duration": 0.049293,
     "end_time": "2022-03-20T14:03:54.603532",
     "exception": false,
     "start_time": "2022-03-20T14:03:54.554239",
     "status": "completed"
    },
    "tags": []
   },
   "outputs": [
    {
     "name": "stdout",
     "output_type": "stream",
     "text": [
      "Source Test Label Accuracy: 0.9830539849219171 Target Test Label Accuracy: 0.22138671875\n",
      "Source Val Label Accuracy: 0.984743554580362 Target Val Label Accuracy: 0.22291666666666668\n"
     ]
    }
   ],
   "source": [
    "print(\"Source Test Label Accuracy:\", experiment[\"results\"][\"source_test_label_accuracy\"], \"Target Test Label Accuracy:\", experiment[\"results\"][\"target_test_label_accuracy\"])\n",
    "print(\"Source Val Label Accuracy:\", experiment[\"results\"][\"source_val_label_accuracy\"], \"Target Val Label Accuracy:\", experiment[\"results\"][\"target_val_label_accuracy\"])"
   ]
  },
  {
   "cell_type": "code",
   "execution_count": 29,
   "id": "dacca602",
   "metadata": {
    "execution": {
     "iopub.execute_input": "2022-03-20T14:03:54.671717Z",
     "iopub.status.busy": "2022-03-20T14:03:54.671460Z",
     "iopub.status.idle": "2022-03-20T14:03:54.688408Z",
     "shell.execute_reply": "2022-03-20T14:03:54.688808Z"
    },
    "papermill": {
     "duration": 0.051487,
     "end_time": "2022-03-20T14:03:54.688932",
     "exception": false,
     "start_time": "2022-03-20T14:03:54.637445",
     "status": "completed"
    },
    "tags": [
     "experiment_json"
    ]
   },
   "outputs": [
    {
     "data": {
      "text/plain": [
       "'{\"experiment_name\": \"tl_2v2:cores+wisig -> oracle.run1.framed\", \"parameters\": {\"experiment_name\": \"tl_2v2:cores+wisig -> oracle.run1.framed\", \"device\": \"cuda\", \"lr\": 0.0001, \"n_shot\": 3, \"n_query\": 2, \"train_k_factor\": 3, \"val_k_factor\": 2, \"test_k_factor\": 2, \"torch_default_dtype\": \"torch.float32\", \"n_epoch\": 50, \"patience\": 3, \"criteria_for_best\": \"target_accuracy\", \"x_net\": [{\"class\": \"nnReshape\", \"kargs\": {\"shape\": [-1, 1, 2, 256]}}, {\"class\": \"Conv2d\", \"kargs\": {\"in_channels\": 1, \"out_channels\": 256, \"kernel_size\": [1, 7], \"bias\": false, \"padding\": [0, 3]}}, {\"class\": \"ReLU\", \"kargs\": {\"inplace\": true}}, {\"class\": \"BatchNorm2d\", \"kargs\": {\"num_features\": 256}}, {\"class\": \"Conv2d\", \"kargs\": {\"in_channels\": 256, \"out_channels\": 80, \"kernel_size\": [2, 7], \"bias\": true, \"padding\": [0, 3]}}, {\"class\": \"ReLU\", \"kargs\": {\"inplace\": true}}, {\"class\": \"BatchNorm2d\", \"kargs\": {\"num_features\": 80}}, {\"class\": \"Flatten\", \"kargs\": {}}, {\"class\": \"Linear\", \"kargs\": {\"in_features\": 20480, \"out_features\": 256}}, {\"class\": \"ReLU\", \"kargs\": {\"inplace\": true}}, {\"class\": \"BatchNorm1d\", \"kargs\": {\"num_features\": 256}}, {\"class\": \"Linear\", \"kargs\": {\"in_features\": 256, \"out_features\": 256}}], \"NUM_LOGS_PER_EPOCH\": 10, \"BEST_MODEL_PATH\": \"./best_model.pth\", \"n_way\": 16, \"datasets\": [{\"labels\": [\"1-10.\", \"1-11.\", \"1-15.\", \"1-16.\", \"1-17.\", \"1-18.\", \"1-19.\", \"10-4.\", \"10-7.\", \"11-1.\", \"11-14.\", \"11-17.\", \"11-20.\", \"11-7.\", \"13-20.\", \"13-8.\", \"14-10.\", \"14-11.\", \"14-14.\", \"14-7.\", \"15-1.\", \"15-20.\", \"16-1.\", \"16-16.\", \"17-10.\", \"17-11.\", \"17-2.\", \"19-1.\", \"19-16.\", \"19-19.\", \"19-20.\", \"19-3.\", \"2-10.\", \"2-11.\", \"2-17.\", \"2-18.\", \"2-20.\", \"2-3.\", \"2-4.\", \"2-5.\", \"2-6.\", \"2-7.\", \"2-8.\", \"3-13.\", \"3-18.\", \"3-3.\", \"4-1.\", \"4-10.\", \"4-11.\", \"4-19.\", \"5-5.\", \"6-15.\", \"7-10.\", \"7-14.\", \"8-18.\", \"8-20.\", \"8-3.\", \"8-8.\"], \"domains\": [1, 2, 3, 4, 5], \"num_examples_per_domain_per_label\": -1, \"pickle_path\": \"/mnt/wd500GB/CSC500/csc500-main/datasets/cores.stratified_ds.2022A.pkl\", \"source_or_target_dataset\": \"source\", \"x_transforms\": [\"unit_power\"], \"episode_transforms\": [], \"domain_prefix\": \"C_\"}, {\"labels\": [\"1-10\", \"1-12\", \"1-14\", \"1-16\", \"1-18\", \"1-19\", \"1-8\", \"10-11\", \"10-17\", \"10-4\", \"10-7\", \"11-1\", \"11-10\", \"11-19\", \"11-20\", \"11-4\", \"11-7\", \"12-19\", \"12-20\", \"12-7\", \"13-14\", \"13-18\", \"13-19\", \"13-20\", \"13-3\", \"13-7\", \"14-10\", \"14-11\", \"14-12\", \"14-13\", \"14-14\", \"14-19\", \"14-20\", \"14-7\", \"14-8\", \"14-9\", \"15-1\", \"15-19\", \"15-6\", \"16-1\", \"16-16\", \"16-19\", \"16-20\", \"17-10\", \"17-11\", \"18-1\", \"18-10\", \"18-11\", \"18-12\", \"18-13\", \"18-14\", \"18-15\", \"18-16\", \"18-17\", \"18-19\", \"18-2\", \"18-20\", \"18-4\", \"18-5\", \"18-7\", \"18-8\", \"18-9\", \"19-1\", \"19-10\", \"19-11\", \"19-12\", \"19-13\", \"19-14\", \"19-15\", \"19-19\", \"19-2\", \"19-20\", \"19-3\", \"19-4\", \"19-6\", \"19-7\", \"19-8\", \"19-9\", \"2-1\", \"2-13\", \"2-15\", \"2-3\", \"2-4\", \"2-5\", \"2-6\", \"2-7\", \"2-8\", \"20-1\", \"20-12\", \"20-14\", \"20-15\", \"20-16\", \"20-18\", \"20-19\", \"20-20\", \"20-3\", \"20-4\", \"20-5\", \"20-7\", \"20-8\", \"3-1\", \"3-13\", \"3-18\", \"3-2\", \"3-8\", \"4-1\", \"4-10\", \"4-11\", \"5-1\", \"5-5\", \"6-1\", \"6-15\", \"6-6\", \"7-10\", \"7-11\", \"7-12\", \"7-13\", \"7-14\", \"7-7\", \"7-8\", \"7-9\", \"8-1\", \"8-13\", \"8-14\", \"8-18\", \"8-20\", \"8-3\", \"8-8\", \"9-1\", \"9-7\"], \"domains\": [1, 2, 3, 4], \"num_examples_per_domain_per_label\": -1, \"pickle_path\": \"/mnt/wd500GB/CSC500/csc500-main/datasets/wisig.node3-19.stratified_ds.2022A.pkl\", \"source_or_target_dataset\": \"source\", \"x_transforms\": [\"unit_power\"], \"episode_transforms\": [], \"domain_prefix\": \"W_\"}, {\"labels\": [\"3123D52\", \"3123D65\", \"3123D79\", \"3123D80\", \"3123D54\", \"3123D70\", \"3123D7B\", \"3123D89\", \"3123D58\", \"3123D76\", \"3123D7D\", \"3123EFE\", \"3123D64\", \"3123D78\", \"3123D7E\", \"3124E4A\"], \"domains\": [32, 38, 8, 44, 14, 50, 20, 26], \"num_examples_per_domain_per_label\": 2000, \"pickle_path\": \"/mnt/wd500GB/CSC500/csc500-main/datasets/oracle.Run1_framed_2000Examples_stratified_ds.2022A.pkl\", \"source_or_target_dataset\": \"target\", \"x_transforms\": [\"unit_power\"], \"episode_transforms\": [], \"domain_prefix\": \"O_\"}], \"seed\": 500, \"dataset_seed\": 500, \"x_shape\": [2, 256], \"domains_source\": [\"C_1\", \"C_2\", \"C_3\", \"C_4\", \"C_5\", \"W_1\", \"W_2\", \"W_3\", \"W_4\"], \"domains_target\": [\"O_32\", \"O_38\", \"O_8\", \"O_44\", \"O_14\", \"O_50\", \"O_20\", \"O_26\"]}, \"results\": {\"source_test_label_accuracy\": 0.9830539849219171, \"source_test_label_loss\": 0.0756717398762703, \"target_test_label_accuracy\": 0.22138671875, \"target_test_label_loss\": 2.376896858215332, \"source_val_label_accuracy\": 0.984743554580362, \"source_val_label_loss\": 0.0694146528840065, \"target_val_label_accuracy\": 0.22291666666666668, \"target_val_label_loss\": 2.378206491470337, \"total_epochs_trained\": 6, \"total_experiment_time_secs\": 3769.0808579921722, \"confusion\": {\"W_3\": {\"99\": {\"99\": 34, \"25\": 1, \"112\": 1}, \"8\": {\"8\": 124}, \"65\": {\"39\": 1, \"65\": 11}, \"117\": {\"117\": 110, \"7\": 1, \"40\": 1}, \"18\": {\"18\": 122, \"114\": 1, \"126\": 1}, \"39\": {\"39\": 107, \"16\": 1}, \"102\": {\"102\": 124}, \"76\": {\"57\": 1, \"76\": 15}, \"101\": {\"101\": 50, \"10\": 1, \"30\": 1}, \"57\": {\"57\": 20}, \"86\": {\"86\": 27, \"26\": 1}, \"11\": {\"11\": 131, \"110\": 1}, \"98\": {\"98\": 127, \"19\": 1}, \"42\": {\"42\": 28}, \"47\": {\"47\": 12}, \"49\": {\"42\": 2, \"49\": 21, \"70\": 1}, \"111\": {\"111\": 131, \"125\": 1}, \"36\": {\"36\": 116}, \"124\": {\"124\": 104, \"49\": 1, \"90\": 1}, \"122\": {\"122\": 55, \"106\": 1, \"40\": 2, \"70\": 2}, \"93\": {\"93\": 142}, \"89\": {\"89\": 28}, \"51\": {\"51\": 16}, \"73\": {\"73\": 39, \"36\": 1}, \"45\": {\"45\": 16}, \"5\": {\"5\": 107, \"25\": 1, \"40\": 2, \"8\": 1, \"101\": 1}, \"69\": {\"69\": 83, \"106\": 1}, \"26\": {\"26\": 130}, \"1\": {\"1\": 107, \"21\": 1}, \"92\": {\"92\": 32}, \"96\": {\"96\": 20}, \"85\": {\"85\": 36}, \"114\": {\"114\": 125, \"128\": 1}, \"50\": {\"50\": 16}, \"81\": {\"81\": 32}, \"2\": {\"2\": 27, \"91\": 1}, \"33\": {\"33\": 145, \"21\": 1}, \"31\": {\"31\": 20}, \"90\": {\"90\": 117, \"26\": 1}, \"17\": {\"86\": 2, \"23\": 3, \"63\": 2, \"17\": 7, \"78\": 1, \"105\": 1}, \"116\": {\"116\": 27, \"82\": 1}, \"91\": {\"91\": 22, \"77\": 1, \"12\": 1}, \"120\": {\"120\": 20}, \"128\": {\"128\": 31, \"19\": 1}, \"78\": {\"78\": 12, \"84\": 1, \"69\": 1, \"71\": 1, \"40\": 1}, \"58\": {\"58\": 16}, \"23\": {\"23\": 27, \"60\": 4, \"123\": 1}, \"15\": {\"15\": 102, \"52\": 1, \"69\": 1}, \"74\": {\"74\": 16}, \"34\": {\"34\": 29, \"124\": 1, \"8\": 1, \"110\": 1}, \"103\": {\"103\": 16}, \"106\": {\"106\": 100}, \"44\": {\"44\": 71, \"113\": 1}, \"9\": {\"9\": 30, \"43\": 1, \"80\": 1}, \"97\": {\"97\": 20}, \"123\": {\"123\": 14, \"63\": 1, \"116\": 1}, \"6\": {\"6\": 28, \"89\": 1, \"34\": 2, \"69\": 1}, \"68\": {\"68\": 16}, \"24\": {\"24\": 46, \"27\": 2}, \"21\": {\"21\": 43, \"49\": 1, \"126\": 1, \"34\": 1, \"23\": 1, \"98\": 1}, \"83\": {\"83\": 22, \"72\": 1, \"76\": 1}, \"60\": {\"60\": 27, \"122\": 1}, \"87\": {\"87\": 120}, \"30\": {\"30\": 79, \"116\": 1, \"98\": 1, \"94\": 1, \"17\": 1, \"39\": 1}, \"43\": {\"43\": 53, \"129\": 1, \"21\": 2}, \"115\": {\"115\": 16}, \"40\": {\"40\": 119, \"69\": 1}, \"112\": {\"112\": 14, \"48\": 1, \"126\": 1}, \"66\": {\"66\": 16}, \"110\": {\"110\": 91, \"73\": 1}, \"3\": {\"3\": 112, \"94\": 1, \"48\": 1}, \"20\": {\"20\": 16}, \"28\": {\"28\": 16}, \"84\": {\"84\": 104, \"40\": 2, \"73\": 1, \"8\": 1}, \"79\": {\"79\": 12}, \"118\": {\"118\": 97, \"98\": 1, \"40\": 1, \"8\": 1}, \"56\": {\"56\": 10, \"98\": 1, \"21\": 1}, \"48\": {\"48\": 11, \"20\": 2, \"13\": 1, \"37\": 1, \"79\": 1}, \"77\": {\"77\": 16}, \"14\": {\"14\": 80}, \"64\": {\"64\": 20}, \"67\": {\"67\": 15, \"40\": 1}, \"62\": {\"62\": 124}, \"75\": {\"75\": 16}, \"63\": {\"63\": 14, \"34\": 1, \"60\": 1}, \"7\": {\"7\": 112}, \"125\": {\"125\": 101, \"113\": 1, \"23\": 2}, \"37\": {\"37\": 16}, \"121\": {\"121\": 31, \"23\": 1}, \"16\": {\"16\": 102, \"40\": 1, \"94\": 1}, \"35\": {\"35\": 10, \"0\": 1, \"70\": 1}, \"32\": {\"32\": 32}, \"46\": {\"46\": 16}, \"70\": {\"70\": 69, \"122\": 1, \"71\": 1, \"21\": 1}, \"129\": {\"129\": 32}, \"95\": {\"95\": 31, \"70\": 1}, \"72\": {\"72\": 28}, \"19\": {\"19\": 32}, \"52\": {\"52\": 16}, \"100\": {\"100\": 14, \"69\": 1, \"11\": 1}, \"104\": {\"104\": 16}, \"59\": {\"59\": 12}, \"109\": {\"109\": 126}, \"88\": {\"88\": 106, \"69\": 1, \"106\": 1}, \"27\": {\"27\": 88, \"69\": 2, \"40\": 1, \"110\": 1, \"36\": 2}, \"113\": {\"113\": 118, \"29\": 1, \"82\": 1}, \"105\": {\"105\": 124}, \"71\": {\"71\": 68}, \"108\": {\"108\": 123, \"8\": 1}, \"41\": {\"41\": 16}, \"80\": {\"80\": 15, \"2\": 1}, \"13\": {\"44\": 1, \"13\": 13, \"115\": 1, \"25\": 1}, \"55\": {\"55\": 16}, \"0\": {\"0\": 103, \"110\": 1, \"8\": 1, \"19\": 1}, \"25\": {\"25\": 16}, \"53\": {\"53\": 20}, \"61\": {\"61\": 16}, \"38\": {\"38\": 16}, \"127\": {\"127\": 124, \"114\": 2, \"108\": 1, \"84\": 1}, \"4\": {\"4\": 93, \"69\": 1, \"11\": 1, \"40\": 1}, \"12\": {\"12\": 104}, \"126\": {\"126\": 122, \"108\": 1, \"7\": 1}, \"29\": {\"29\": 32}, \"107\": {\"107\": 136}, \"82\": {\"82\": 28}, \"94\": {\"94\": 83, \"8\": 1}, \"54\": {\"54\": 16}, \"10\": {\"10\": 127, \"106\": 1}, \"22\": {\"22\": 16}, \"119\": {\"119\": 16}}, \"C_4\": {\"38\": {\"38\": 40}, \"3\": {\"3\": 124}, \"24\": {\"24\": 56}, \"49\": {\"49\": 20}, \"7\": {\"7\": 24}, \"17\": {\"17\": 80}, \"43\": {\"43\": 148}, \"30\": {\"30\": 44}, \"44\": {\"44\": 132}, \"23\": {\"23\": 144}, \"37\": {\"37\": 24}, \"4\": {\"4\": 132}, \"57\": {\"57\": 100}, \"16\": {\"16\": 96}, \"18\": {\"18\": 107, \"13\": 1}, \"20\": {\"20\": 124}, \"45\": {\"45\": 96}, \"15\": {\"15\": 132}, \"52\": {\"52\": 116}, \"19\": {\"19\": 140}, \"54\": {\"54\": 108}, \"56\": {\"56\": 130}, \"40\": {\"40\": 134}, \"28\": {\"28\": 32}, \"2\": {\"2\": 36}, \"9\": {\"9\": 120}, \"0\": {\"0\": 80}, \"36\": {\"36\": 92}, \"55\": {\"55\": 130}, \"35\": {\"35\": 40}, \"39\": {\"39\": 20}, \"31\": {\"31\": 28}, \"14\": {\"14\": 16}, \"12\": {\"12\": 92}, \"6\": {\"6\": 112}, \"26\": {\"26\": 24}, \"50\": {\"50\": 132}, \"21\": {\"21\": 122}, \"46\": {\"46\": 139, \"47\": 1}, \"51\": {\"51\": 140}, \"41\": {\"41\": 36}, \"34\": {\"34\": 24}, \"47\": {\"47\": 120}, \"5\": {\"5\": 108}, \"1\": {\"1\": 40}, \"48\": {\"48\": 134}, \"29\": {\"29\": 118}, \"22\": {\"22\": 128}, \"10\": {\"10\": 132}, \"32\": {\"32\": 24}, \"13\": {\"13\": 112}, \"42\": {\"42\": 32}, \"27\": {\"27\": 138}, \"8\": {\"8\": 142}, \"33\": {\"33\": 36}, \"25\": {\"25\": 132}, \"11\": {\"11\": 103, \"46\": 1}, \"53\": {\"53\": 112}}, \"C_2\": {\"32\": {\"32\": 28}, \"17\": {\"17\": 104}, \"38\": {\"38\": 20}, \"2\": {\"2\": 32}, \"43\": {\"43\": 143, \"5\": 1}, \"56\": {\"56\": 144}, \"37\": {\"37\": 36}, \"49\": {\"49\": 24}, \"0\": {\"0\": 48}, \"29\": {\"29\": 128}, \"35\": {\"35\": 32}, \"18\": {\"18\": 48}, \"25\": {\"25\": 136}, \"23\": {\"23\": 124}, \"15\": {\"15\": 146}, \"21\": {\"21\": 120}, \"51\": {\"51\": 128}, \"20\": {\"20\": 138}, \"7\": {\"7\": 36}, \"50\": {\"50\": 136}, \"31\": {\"31\": 28}, \"30\": {\"30\": 140}, \"19\": {\"19\": 156}, \"9\": {\"9\": 144}, \"52\": {\"52\": 124}, \"45\": {\"45\": 128}, \"8\": {\"8\": 154}, \"55\": {\"55\": 160}, \"12\": {\"12\": 92}, \"40\": {\"40\": 140}, \"28\": {\"28\": 28}, \"36\": {\"36\": 116}, \"39\": {\"39\": 28}, \"46\": {\"46\": 122}, \"14\": {\"14\": 22, \"37\": 2}, \"57\": {\"57\": 142}, \"34\": {\"34\": 28}, \"1\": {\"1\": 112}, \"53\": {\"53\": 136}, \"48\": {\"48\": 130}, \"3\": {\"3\": 92}, \"16\": {\"16\": 152}, \"6\": {\"6\": 124}, \"10\": {\"10\": 112}, \"13\": {\"13\": 116}, \"26\": {\"26\": 24}, \"24\": {\"24\": 96}, \"44\": {\"44\": 100}, \"27\": {\"27\": 150}, \"22\": {\"22\": 128}, \"33\": {\"33\": 28}, \"47\": {\"47\": 118}, \"5\": {\"5\": 120}, \"4\": {\"4\": 138}, \"41\": {\"41\": 20}, \"11\": {\"11\": 150}, \"54\": {\"54\": 108}, \"42\": {\"42\": 36}}, \"C_3\": {\"5\": {\"5\": 116}, \"32\": {\"32\": 28}, \"33\": {\"33\": 28}, \"49\": {\"49\": 20}, \"39\": {\"39\": 16}, \"11\": {\"11\": 142}, \"8\": {\"8\": 116}, \"26\": {\"26\": 24}, \"51\": {\"51\": 122}, \"4\": {\"4\": 146}, \"52\": {\"52\": 118}, \"47\": {\"47\": 92}, \"17\": {\"17\": 107, \"56\": 1}, \"53\": {\"53\": 136}, \"2\": {\"2\": 32}, \"12\": {\"12\": 92}, \"37\": {\"37\": 28}, \"9\": {\"9\": 148}, \"13\": {\"13\": 128}, \"54\": {\"54\": 100}, \"31\": {\"31\": 28}, \"34\": {\"34\": 32}, \"24\": {\"24\": 104}, \"7\": {\"7\": 36}, \"50\": {\"50\": 118}, \"46\": {\"46\": 128}, \"44\": {\"44\": 88}, \"40\": {\"40\": 116}, \"21\": {\"21\": 128}, \"45\": {\"45\": 60}, \"16\": {\"16\": 126}, \"14\": {\"14\": 40}, \"36\": {\"36\": 100}, \"56\": {\"56\": 114}, \"10\": {\"10\": 64}, \"18\": {\"18\": 84}, \"48\": {\"48\": 116}, \"38\": {\"38\": 28}, \"27\": {\"27\": 130}, \"42\": {\"42\": 28}, \"15\": {\"15\": 134}, \"1\": {\"1\": 100}, \"28\": {\"28\": 28}, \"43\": {\"43\": 136}, \"0\": {\"0\": 124}, \"57\": {\"57\": 124}, \"3\": {\"3\": 148}, \"29\": {\"29\": 124}, \"41\": {\"41\": 28}, \"25\": {\"25\": 146}, \"6\": {\"6\": 88}, \"35\": {\"35\": 28}, \"20\": {\"20\": 126}, \"23\": {\"23\": 134}, \"22\": {\"22\": 140}, \"19\": {\"19\": 116}, \"55\": {\"55\": 124}, \"30\": {\"30\": 120}}, \"W_2\": {\"73\": {\"73\": 27, \"2\": 1}, \"40\": {\"40\": 131, \"16\": 1}, \"99\": {\"99\": 29, \"48\": 2, \"27\": 1}, \"5\": {\"5\": 107, \"40\": 1, \"105\": 1, \"69\": 1, \"88\": 1, \"106\": 1}, \"108\": {\"108\": 132}, \"128\": {\"128\": 17, \"29\": 2, \"71\": 1, \"5\": 1, \"47\": 1, \"19\": 1, \"17\": 1}, \"89\": {\"89\": 33, \"92\": 2, \"73\": 1}, \"107\": {\"107\": 52, \"128\": 1, \"94\": 3, \"21\": 2, \"16\": 1, \"127\": 1, \"71\": 1, \"40\": 3}, \"2\": {\"2\": 31, \"39\": 1}, \"78\": {\"78\": 47, \"21\": 1}, \"85\": {\"85\": 32}, \"44\": {\"44\": 100}, \"58\": {\"58\": 20}, \"57\": {\"57\": 18, \"40\": 1, \"87\": 1}, \"41\": {\"41\": 19, \"40\": 1}, \"53\": {\"53\": 16}, \"14\": {\"14\": 41, \"36\": 1, \"69\": 1, \"21\": 1, \"2\": 1, \"74\": 1, \"78\": 1, \"71\": 1}, \"83\": {\"83\": 38, \"69\": 1, \"15\": 1}, \"119\": {\"119\": 20}, \"95\": {\"95\": 35, \"40\": 1}, \"28\": {\"28\": 19, \"13\": 1}, \"19\": {\"19\": 28}, \"69\": {\"69\": 125, \"40\": 2, \"105\": 1, \"7\": 3, \"13\": 1}, \"93\": {\"93\": 131, \"125\": 1, \"109\": 1, \"16\": 1}, \"9\": {\"9\": 32}, \"118\": {\"118\": 66, \"11\": 1, \"40\": 1}, \"43\": {\"43\": 112, \"60\": 1, \"14\": 1, \"40\": 2}, \"47\": {\"47\": 12}, \"125\": {\"125\": 144}, \"29\": {\"29\": 32}, \"122\": {\"122\": 135, \"40\": 1, \"70\": 1, \"105\": 1, \"11\": 1, \"26\": 1}, \"46\": {\"46\": 16}, \"86\": {\"86\": 32}, \"70\": {\"70\": 112, \"17\": 1, \"72\": 1, \"43\": 2, \"21\": 3, \"5\": 1, \"122\": 1, \"40\": 3}, \"51\": {\"51\": 17, \"59\": 1, \"10\": 1, \"89\": 1}, \"23\": {\"23\": 40, \"127\": 1, \"110\": 2, \"44\": 1}, \"121\": {\"121\": 36}, \"63\": {\"46\": 1, \"63\": 17, \"13\": 1, \"49\": 1}, \"102\": {\"102\": 121, \"40\": 1}, \"21\": {\"21\": 45, \"74\": 1, \"92\": 1, \"36\": 1}, \"55\": {\"55\": 13, \"83\": 1, \"62\": 2}, \"54\": {\"54\": 20}, \"6\": {\"6\": 31, \"34\": 1}, \"109\": {\"109\": 95, \"87\": 1, \"96\": 1, \"88\": 1, \"39\": 1, \"40\": 1}, \"64\": {\"92\": 1, \"64\": 15}, \"20\": {\"20\": 16}, \"98\": {\"98\": 111, \"121\": 1, \"87\": 1, \"40\": 1}, \"92\": {\"92\": 26, \"13\": 1, \"53\": 1}, \"35\": {\"35\": 12}, \"113\": {\"113\": 64, \"109\": 2, \"12\": 1, \"78\": 1, \"124\": 1, \"114\": 1, \"21\": 1, \"62\": 1}, \"71\": {\"71\": 96, \"118\": 1, \"13\": 1, \"12\": 1, \"27\": 1}, \"94\": {\"94\": 54, \"71\": 1, \"87\": 2, \"78\": 1, \"92\": 1, \"69\": 1, \"89\": 1, \"73\": 1, \"105\": 1, \"106\": 1}, \"52\": {\"52\": 19, \"70\": 1}, \"116\": {\"116\": 27, \"29\": 1}, \"87\": {\"87\": 104, \"5\": 1, \"43\": 1, \"18\": 1, \"70\": 1, \"19\": 1, \"105\": 1, \"71\": 1, \"33\": 1}, \"90\": {\"90\": 148}, \"91\": {\"91\": 28}, \"84\": {\"84\": 88, \"107\": 1, \"7\": 1, \"122\": 1, \"1\": 1}, \"24\": {\"24\": 104, \"69\": 1, \"94\": 1, \"43\": 1, \"36\": 1, \"106\": 1, \"33\": 1, \"40\": 1, \"30\": 1}, \"33\": {\"33\": 131, \"87\": 1, \"69\": 1, \"40\": 1}, \"81\": {\"81\": 23, \"92\": 1}, \"115\": {\"115\": 10, \"60\": 1, \"95\": 1}, \"77\": {\"77\": 16}, \"106\": {\"106\": 116, \"21\": 1, \"40\": 1, \"43\": 1, \"24\": 1}, \"42\": {\"42\": 24, \"114\": 1, \"24\": 1, \"107\": 1, \"87\": 1}, \"38\": {\"38\": 16}, \"36\": {\"36\": 107, \"78\": 1, \"14\": 1, \"85\": 1, \"40\": 2, \"11\": 1, \"87\": 1}, \"79\": {\"79\": 16}, \"60\": {\"60\": 26, \"73\": 1, \"87\": 1}, \"80\": {\"80\": 15, \"29\": 1}, \"32\": {\"32\": 36}, \"0\": {\"0\": 116}, \"127\": {\"127\": 123, \"24\": 1}, \"114\": {\"114\": 114, \"13\": 1, \"124\": 1}, \"62\": {\"62\": 138, \"92\": 1, \"87\": 1}, \"129\": {\"129\": 32}, \"56\": {\"56\": 12}, \"76\": {\"76\": 16}, \"72\": {\"72\": 26, \"21\": 1, \"34\": 1}, \"88\": {\"88\": 122, \"71\": 1, \"40\": 1}, \"68\": {\"68\": 16}, \"67\": {\"67\": 14, \"59\": 1, \"75\": 1}, \"100\": {\"100\": 16}, \"34\": {\"34\": 25, \"124\": 2, \"91\": 1, \"29\": 1, \"92\": 1, \"24\": 1, \"52\": 1}, \"16\": {\"16\": 123, \"36\": 1}, \"126\": {\"126\": 120}, \"4\": {\"4\": 85, \"75\": 1, \"14\": 1, \"24\": 1}, \"101\": {\"101\": 146}, \"104\": {\"104\": 18, \"72\": 1, \"105\": 1}, \"30\": {\"67\": 1, \"30\": 106, \"0\": 1, \"106\": 1, \"40\": 1}, \"8\": {\"8\": 127, \"113\": 1}, \"82\": {\"82\": 34, \"16\": 1, \"70\": 1}, \"26\": {\"26\": 129, \"87\": 1, \"69\": 2, \"113\": 1, \"40\": 3, \"39\": 1, \"1\": 1}, \"96\": {\"96\": 20}, \"3\": {\"3\": 134, \"15\": 1, \"40\": 1}, \"25\": {\"25\": 14, \"36\": 1, \"92\": 1}, \"13\": {\"13\": 11, \"91\": 1, \"85\": 1, \"70\": 1, \"90\": 1, \"82\": 1}, \"37\": {\"37\": 15, \"40\": 1}, \"49\": {\"49\": 20, \"80\": 1, \"11\": 1, \"92\": 1, \"61\": 1}, \"111\": {\"111\": 136}, \"105\": {\"105\": 131, \"78\": 1}, \"17\": {\"17\": 13, \"42\": 1, \"87\": 1, \"70\": 1}, \"65\": {\"65\": 18, \"73\": 2}, \"123\": {\"123\": 15, \"39\": 1}, \"74\": {\"74\": 14, \"40\": 1, \"17\": 1}, \"97\": {\"97\": 17, \"56\": 1, \"13\": 1, \"91\": 1}, \"112\": {\"112\": 14, \"47\": 1, \"108\": 1}, \"120\": {\"120\": 19, \"113\": 1}, \"50\": {\"50\": 14, \"29\": 1, \"128\": 1}, \"59\": {\"59\": 15, \"24\": 1}, \"10\": {\"10\": 57, \"114\": 1, \"78\": 1, \"12\": 1}, \"45\": {\"45\": 15, \"107\": 1}, \"12\": {\"12\": 85, \"92\": 1, \"78\": 1, \"69\": 1}, \"75\": {\"75\": 15, \"40\": 1}, \"48\": {\"48\": 20}, \"61\": {\"61\": 17, \"40\": 1, \"36\": 1, \"89\": 1}, \"124\": {\"124\": 124}, \"11\": {\"11\": 77, \"87\": 1, \"88\": 1, \"69\": 1}, \"103\": {\"103\": 14, \"49\": 1, \"22\": 1}, \"7\": {\"7\": 128, \"107\": 1, \"27\": 1, \"69\": 1, \"40\": 1}, \"18\": {\"18\": 116, \"55\": 1, \"24\": 1, \"26\": 1, \"40\": 1}, \"31\": {\"31\": 20}, \"15\": {\"15\": 115, \"40\": 1, \"70\": 1, \"111\": 1}, \"1\": {\"1\": 119, \"92\": 1, \"36\": 1, \"75\": 1}, \"66\": {\"66\": 19, \"89\": 1}, \"110\": {\"110\": 33, \"114\": 1, \"111\": 1, \"122\": 2, \"26\": 1, \"12\": 1, \"73\": 1}, \"27\": {\"27\": 60, \"69\": 1, \"94\": 1, \"36\": 2, \"71\": 1, \"11\": 1, \"62\": 1, \"87\": 1}, \"22\": {\"22\": 18, \"43\": 1, \"75\": 1}, \"117\": {\"117\": 117, \"40\": 1, \"78\": 1, \"87\": 1}, \"39\": {\"39\": 107, \"124\": 1}}, \"C_1\": {\"24\": {\"24\": 108}, \"25\": {\"25\": 140}, \"45\": {\"45\": 144}, \"42\": {\"42\": 40}, \"2\": {\"2\": 36}, \"9\": {\"9\": 150}, \"21\": {\"21\": 124}, \"26\": {\"26\": 24}, \"49\": {\"49\": 32}, \"39\": {\"39\": 28}, \"46\": {\"46\": 136}, \"17\": {\"17\": 64}, \"19\": {\"19\": 156}, \"23\": {\"23\": 132}, \"1\": {\"1\": 100}, \"29\": {\"29\": 140}, \"56\": {\"56\": 150}, \"37\": {\"37\": 32}, \"33\": {\"33\": 32}, \"55\": {\"55\": 142}, \"30\": {\"30\": 120}, \"0\": {\"0\": 152}, \"36\": {\"36\": 64}, \"32\": {\"32\": 32}, \"31\": {\"31\": 28}, \"15\": {\"15\": 138}, \"12\": {\"12\": 116}, \"38\": {\"38\": 24}, \"40\": {\"40\": 146}, \"14\": {\"14\": 24}, \"13\": {\"13\": 150}, \"48\": {\"48\": 148}, \"34\": {\"34\": 24}, \"44\": {\"44\": 130}, \"5\": {\"5\": 152}, \"11\": {\"11\": 140}, \"7\": {\"7\": 28}, \"18\": {\"18\": 72}, \"52\": {\"52\": 132}, \"51\": {\"51\": 142}, \"41\": {\"41\": 24}, \"16\": {\"16\": 140}, \"22\": {\"22\": 134}, \"3\": {\"3\": 140}, \"54\": {\"54\": 104}, \"27\": {\"27\": 144}, \"20\": {\"20\": 140}, \"8\": {\"8\": 138}, \"50\": {\"50\": 144}, \"57\": {\"57\": 140}, \"4\": {\"4\": 132}, \"47\": {\"47\": 146}, \"10\": {\"10\": 96}, \"35\": {\"35\": 36}, \"53\": {\"53\": 126}, \"6\": {\"6\": 96}, \"43\": {\"43\": 139, \"23\": 1}, \"28\": {\"28\": 28}}, \"W_1\": {\"60\": {\"60\": 13, \"34\": 1, \"57\": 1, \"23\": 1}, \"59\": {\"60\": 1, \"59\": 10, \"29\": 1}, \"107\": {\"107\": 122, \"94\": 1, \"69\": 1}, \"113\": {\"113\": 123, \"129\": 1}, \"6\": {\"6\": 26, \"77\": 1, \"21\": 1, \"30\": 1, \"71\": 1, \"59\": 1, \"94\": 1}, \"24\": {\"24\": 90, \"108\": 1, \"3\": 1}, \"50\": {\"50\": 15, \"30\": 1}, \"62\": {\"62\": 119, \"70\": 1}, \"48\": {\"48\": 12}, \"104\": {\"104\": 16}, \"105\": {\"105\": 79, \"40\": 3, \"65\": 1, \"111\": 1}, \"44\": {\"44\": 76}, \"49\": {\"49\": 18, \"42\": 1, \"101\": 1}, \"55\": {\"55\": 12}, \"4\": {\"4\": 100}, \"76\": {\"76\": 16}, \"85\": {\"85\": 32}, \"89\": {\"89\": 36}, \"74\": {\"74\": 16}, \"112\": {\"112\": 16}, \"79\": {\"79\": 12}, \"0\": {\"0\": 83, \"97\": 1}, \"91\": {\"91\": 27, \"75\": 1}, \"118\": {\"118\": 83, \"39\": 1}, \"80\": {\"80\": 15, \"57\": 1}, \"64\": {\"64\": 16}, \"97\": {\"97\": 20}, \"84\": {\"84\": 124}, \"38\": {\"38\": 16}, \"30\": {\"30\": 51, \"5\": 1}, \"32\": {\"32\": 29, \"65\": 1, \"121\": 1, \"86\": 1}, \"72\": {\"72\": 32}, \"33\": {\"33\": 130, \"86\": 1, \"1\": 1}, \"34\": {\"34\": 32}, \"28\": {\"28\": 20}, \"123\": {\"123\": 15, \"17\": 1}, \"2\": {\"2\": 24, \"11\": 1, \"83\": 1, \"129\": 1, \"120\": 1, \"96\": 1, \"114\": 1, \"9\": 1, \"21\": 1}, \"70\": {\"70\": 123, \"69\": 1}, \"127\": {\"127\": 107, \"78\": 1}, \"110\": {\"110\": 125, \"114\": 1, \"113\": 1, \"88\": 1}, \"126\": {\"126\": 136}, \"13\": {\"13\": 16}, \"15\": {\"15\": 103, \"111\": 1}, \"29\": {\"29\": 28}, \"18\": {\"18\": 119, \"23\": 1}, \"7\": {\"7\": 142}, \"56\": {\"56\": 12}, \"98\": {\"98\": 108}, \"99\": {\"99\": 24}, \"77\": {\"77\": 15, \"103\": 1}, \"103\": {\"6\": 1, \"103\": 14, \"57\": 1}, \"128\": {\"128\": 24}, \"3\": {\"3\": 84, \"107\": 1, \"105\": 1, \"8\": 1, \"15\": 1}, \"121\": {\"121\": 32}, \"42\": {\"42\": 28}, \"90\": {\"90\": 120}, \"37\": {\"37\": 16}, \"120\": {\"128\": 1, \"120\": 17, \"94\": 1, \"78\": 1}, \"117\": {\"117\": 118}, \"9\": {\"9\": 32}, \"108\": {\"108\": 124}, \"83\": {\"83\": 28}, \"14\": {\"14\": 95, \"65\": 1}, \"63\": {\"63\": 16}, \"11\": {\"11\": 117, \"26\": 1}, \"95\": {\"95\": 36}, \"26\": {\"26\": 129, \"51\": 1}, \"22\": {\"22\": 16}, \"102\": {\"102\": 120}, \"69\": {\"69\": 100, \"94\": 1, \"40\": 1, \"114\": 1, \"88\": 1, \"39\": 1, \"70\": 1}, \"1\": {\"1\": 130}, \"67\": {\"67\": 16}, \"57\": {\"57\": 12}, \"8\": {\"8\": 132, \"40\": 1, \"47\": 1}, \"109\": {\"109\": 120, \"70\": 1, \"108\": 2, \"88\": 1}, \"129\": {\"129\": 26, \"39\": 1, \"2\": 1}, \"111\": {\"111\": 120}, \"71\": {\"71\": 101, \"102\": 1, \"12\": 1, \"69\": 1, \"26\": 1, \"111\": 1, \"40\": 1, \"124\": 1}, \"47\": {\"47\": 12}, \"82\": {\"82\": 35, \"13\": 1}, \"27\": {\"27\": 91, \"88\": 1}, \"19\": {\"19\": 28}, \"122\": {\"87\": 1, \"122\": 86, \"21\": 1}, \"53\": {\"53\": 20}, \"87\": {\"87\": 106, \"40\": 1, \"37\": 1}, \"100\": {\"100\": 16}, \"66\": {\"66\": 16}, \"31\": {\"31\": 16}, \"58\": {\"58\": 11, \"54\": 1}, \"68\": {\"68\": 16}, \"88\": {\"88\": 107, \"97\": 1, \"27\": 1, \"40\": 2, \"36\": 2, \"24\": 1}, \"45\": {\"45\": 8, \"2\": 1, \"115\": 1, \"118\": 1, \"128\": 1}, \"114\": {\"114\": 128}, \"23\": {\"58\": 3, \"23\": 20, \"60\": 1}, \"65\": {\"50\": 1, \"65\": 9, \"74\": 1, \"70\": 1}, \"124\": {\"124\": 118}, \"10\": {\"10\": 116, \"18\": 1, \"94\": 1, \"87\": 1, \"27\": 1}, \"92\": {\"92\": 28}, \"40\": {\"40\": 142, \"26\": 1, \"39\": 1}, \"73\": {\"73\": 18, \"94\": 1, \"30\": 1}, \"94\": {\"94\": 91, \"27\": 1}, \"81\": {\"81\": 28}, \"101\": {\"101\": 108, \"18\": 1, \"39\": 1}, \"86\": {\"86\": 33, \"85\": 1, \"105\": 1, \"6\": 1}, \"78\": {\"78\": 13, \"87\": 2, \"40\": 1}, \"96\": {\"96\": 19, \"42\": 1}, \"5\": {\"5\": 84, \"110\": 1, \"108\": 1, \"27\": 1, \"107\": 1}, \"16\": {\"16\": 104, \"27\": 1, \"121\": 1, \"88\": 2}, \"35\": {\"35\": 12}, \"51\": {\"51\": 16}, \"46\": {\"46\": 10, \"12\": 1, \"25\": 1}, \"20\": {\"20\": 16}, \"116\": {\"116\": 30, \"114\": 1, \"94\": 1}, \"75\": {\"75\": 16}, \"43\": {\"43\": 126, \"26\": 1, \"87\": 1}, \"17\": {\"17\": 16}, \"12\": {\"12\": 103, \"36\": 1}, \"25\": {\"25\": 16}, \"54\": {\"54\": 15, \"3\": 1}, \"36\": {\"36\": 109, \"93\": 1, \"113\": 1, \"69\": 1}, \"52\": {\"52\": 20}, \"61\": {\"61\": 12}, \"106\": {\"106\": 120}, \"39\": {\"39\": 102, \"122\": 1, \"87\": 1}, \"119\": {\"119\": 16}, \"125\": {\"125\": 148}, \"93\": {\"93\": 144, \"87\": 3, \"1\": 1}, \"115\": {\"115\": 12}, \"21\": {\"21\": 34, \"5\": 1, \"30\": 1, \"128\": 1, \"34\": 1, \"107\": 1, \"113\": 1}, \"41\": {\"41\": 16}}, \"W_4\": {\"55\": {\"55\": 16}, \"9\": {\"9\": 28}, \"70\": {\"70\": 116, \"39\": 1, \"88\": 4, \"102\": 1}, \"112\": {\"112\": 16}, \"115\": {\"115\": 14, \"25\": 1, \"28\": 1}, \"56\": {\"56\": 9, \"72\": 1, \"86\": 2}, \"108\": {\"4\": 1, \"108\": 85, \"13\": 1, \"84\": 1, \"94\": 1, \"20\": 1, \"113\": 1, \"26\": 1}, \"117\": {\"117\": 122, \"111\": 1, \"70\": 1}, \"111\": {\"111\": 130, \"101\": 1, \"24\": 1}, \"71\": {\"71\": 94, \"77\": 1, \"114\": 2, \"7\": 2, \"9\": 1, \"40\": 1, \"118\": 1, \"10\": 1, \"1\": 1}, \"59\": {\"59\": 12}, \"10\": {\"10\": 123, \"1\": 1}, \"83\": {\"83\": 28}, \"116\": {\"116\": 28}, \"13\": {\"13\": 16}, \"4\": {\"4\": 103, \"69\": 1}, \"125\": {\"125\": 105, \"124\": 1}, \"102\": {\"102\": 122, \"105\": 1, \"114\": 1}, \"47\": {\"47\": 12}, \"28\": {\"28\": 20}, \"82\": {\"82\": 30, \"124\": 1, \"78\": 1}, \"60\": {\"60\": 32}, \"107\": {\"107\": 130, \"78\": 2, \"113\": 1, \"39\": 1}, \"75\": {\"75\": 16}, \"31\": {\"31\": 16}, \"92\": {\"92\": 28}, \"58\": {\"58\": 16}, \"113\": {\"113\": 123, \"69\": 1, \"40\": 2, \"39\": 1, \"1\": 1}, \"95\": {\"95\": 32}, \"14\": {\"14\": 109, \"40\": 1, \"107\": 1, \"105\": 1}, \"17\": {\"17\": 20}, \"104\": {\"104\": 16}, \"72\": {\"72\": 30, \"50\": 1, \"19\": 1}, \"69\": {\"69\": 123, \"88\": 1, \"40\": 2, \"105\": 1, \"109\": 1}, \"63\": {\"63\": 16}, \"12\": {\"12\": 97, \"105\": 1, \"29\": 1, \"62\": 1}, \"25\": {\"25\": 16}, \"67\": {\"67\": 12, \"40\": 2, \"123\": 2}, \"50\": {\"50\": 16}, \"43\": {\"43\": 113, \"23\": 1, \"105\": 1, \"69\": 1, \"40\": 1, \"118\": 2, \"87\": 1}, \"96\": {\"96\": 20}, \"128\": {\"128\": 24}, \"77\": {\"77\": 12}, \"54\": {\"54\": 16}, \"118\": {\"118\": 104, \"57\": 1, \"40\": 1, \"15\": 1, \"1\": 1, \"69\": 1, \"9\": 1, \"127\": 1, \"78\": 1}, \"30\": {\"30\": 76}, \"51\": {\"51\": 13, \"34\": 1, \"1\": 1, \"25\": 1}, \"122\": {\"122\": 76, \"14\": 2, \"107\": 1, \"40\": 2, \"94\": 1, \"4\": 1, \"111\": 1}, \"46\": {\"46\": 20}, \"79\": {\"79\": 16}, \"103\": {\"103\": 16}, \"74\": {\"31\": 1, \"74\": 15}, \"90\": {\"90\": 146}, \"8\": {\"8\": 139, \"40\": 1, \"39\": 1, \"114\": 1}, \"94\": {\"94\": 83, \"15\": 2, \"111\": 1, \"118\": 1, \"5\": 1}, \"7\": {\"7\": 119, \"40\": 1, \"87\": 1, \"24\": 1}, \"61\": {\"61\": 16}, \"26\": {\"26\": 118, \"30\": 1, \"12\": 1}, \"127\": {\"127\": 107, \"70\": 1}, \"23\": {\"23\": 13, \"21\": 1, \"112\": 1, \"70\": 1}, \"1\": {\"1\": 103, \"43\": 1, \"40\": 1, \"39\": 1, \"127\": 1, \"33\": 1}, \"93\": {\"93\": 134}, \"106\": {\"106\": 106, \"71\": 1, \"18\": 1, \"94\": 1, \"40\": 1, \"57\": 1, \"70\": 1, \"78\": 2, \"69\": 1, \"12\": 1}, \"110\": {\"110\": 117, \"5\": 1}, \"76\": {\"76\": 15, \"17\": 1}, \"36\": {\"36\": 118, \"24\": 1, \"105\": 1}, \"21\": {\"21\": 33, \"78\": 3, \"3\": 1, \"62\": 1, \"37\": 1, \"43\": 1}, \"37\": {\"37\": 16}, \"11\": {\"11\": 119, \"107\": 1}, \"109\": {\"109\": 114, \"24\": 1, \"118\": 1}, \"62\": {\"21\": 1, \"62\": 54, \"111\": 1, \"106\": 1, \"40\": 1, \"24\": 1, \"105\": 1}, \"89\": {\"89\": 32}, \"126\": {\"126\": 117, \"40\": 2, \"106\": 1, \"39\": 1, \"26\": 1, \"122\": 1, \"105\": 1}, \"101\": {\"101\": 123, \"111\": 1, \"4\": 1, \"12\": 1, \"108\": 1, \"40\": 1}, \"65\": {\"65\": 12}, \"19\": {\"19\": 27, \"128\": 1}, \"27\": {\"27\": 98, \"0\": 1, \"24\": 1}, \"5\": {\"5\": 133, \"23\": 1, \"124\": 1, \"69\": 1}, \"73\": {\"73\": 23, \"46\": 1}, \"6\": {\"6\": 24}, \"29\": {\"29\": 32}, \"114\": {\"114\": 127, \"105\": 1}, \"49\": {\"49\": 30, \"42\": 1, \"53\": 1}, \"16\": {\"16\": 115, \"70\": 1, \"11\": 1, \"126\": 1}, \"68\": {\"68\": 16}, \"98\": {\"98\": 117, \"102\": 1, \"101\": 1, \"90\": 1}, \"64\": {\"64\": 16}, \"121\": {\"121\": 30, \"116\": 1, \"96\": 1}, \"124\": {\"124\": 114}, \"97\": {\"97\": 20}, \"40\": {\"40\": 136}, \"119\": {\"119\": 16}, \"100\": {\"100\": 19, \"91\": 1}, \"87\": {\"87\": 115, \"105\": 1}, \"88\": {\"88\": 119, \"73\": 1, \"26\": 1, \"105\": 1, \"70\": 2, \"21\": 1, \"113\": 1, \"108\": 2}, \"52\": {\"52\": 17, \"82\": 1, \"31\": 1, \"62\": 1}, \"80\": {\"80\": 15, \"115\": 1}, \"105\": {\"105\": 94, \"87\": 1, \"40\": 2, \"27\": 1, \"118\": 1, \"4\": 1}, \"32\": {\"14\": 1, \"32\": 25, \"118\": 1, \"72\": 1}, \"35\": {\"35\": 12}, \"99\": {\"99\": 40}, \"18\": {\"18\": 118, \"71\": 1, \"106\": 1}, \"24\": {\"24\": 111, \"27\": 1}, \"85\": {\"85\": 27, \"26\": 1}, \"39\": {\"39\": 98, \"106\": 1, \"40\": 1}, \"123\": {\"123\": 16}, \"91\": {\"91\": 23, \"35\": 1}, \"78\": {\"78\": 26, \"21\": 6, \"40\": 1, \"115\": 1, \"107\": 1, \"15\": 1}, \"38\": {\"38\": 16}, \"15\": {\"15\": 124, \"105\": 2, \"18\": 1, \"78\": 1}, \"48\": {\"48\": 16}, \"45\": {\"45\": 16}, \"120\": {\"120\": 20}, \"44\": {\"44\": 63, \"124\": 1}, \"86\": {\"86\": 26, \"73\": 1, \"37\": 1}, \"20\": {\"20\": 16}, \"33\": {\"33\": 146, \"90\": 1, \"21\": 1, \"102\": 1, \"10\": 1}, \"129\": {\"129\": 25, \"73\": 3}, \"34\": {\"34\": 24, \"45\": 3, \"14\": 1, \"125\": 1, \"91\": 1, \"25\": 2}, \"81\": {\"81\": 35, \"37\": 1}, \"57\": {\"57\": 12, \"21\": 1, \"100\": 2, \"22\": 1}, \"0\": {\"0\": 112, \"70\": 1, \"101\": 1, \"95\": 1, \"129\": 1}, \"2\": {\"2\": 28}, \"42\": {\"42\": 28}, \"84\": {\"84\": 127, \"27\": 1, \"30\": 1, \"11\": 1, \"40\": 1, \"125\": 1}, \"3\": {\"3\": 119, \"40\": 1, \"69\": 1, \"23\": 1, \"78\": 1, \"105\": 1, \"24\": 1, \"90\": 1}, \"41\": {\"41\": 15, \"28\": 1}, \"53\": {\"53\": 16}, \"66\": {\"66\": 16}, \"22\": {\"22\": 16}}, \"C_5\": {\"35\": {\"35\": 36}, \"57\": {\"57\": 132}, \"20\": {\"20\": 144}, \"12\": {\"12\": 96}, \"32\": {\"32\": 32}, \"25\": {\"25\": 138}, \"44\": {\"44\": 148}, \"31\": {\"31\": 36}, \"11\": {\"11\": 150}, \"47\": {\"47\": 100}, \"23\": {\"23\": 124}, \"43\": {\"43\": 144}, \"37\": {\"37\": 24}, \"5\": {\"5\": 128}, \"45\": {\"45\": 124}, \"7\": {\"7\": 32}, \"13\": {\"13\": 136}, \"49\": {\"49\": 36}, \"46\": {\"46\": 148}, \"16\": {\"16\": 136}, \"54\": {\"54\": 112}, \"19\": {\"19\": 152}, \"55\": {\"55\": 150}, \"30\": {\"30\": 128}, \"34\": {\"34\": 36}, \"50\": {\"50\": 134}, \"3\": {\"3\": 100}, \"10\": {\"10\": 68}, \"27\": {\"27\": 142}, \"33\": {\"33\": 32}, \"56\": {\"56\": 142}, \"9\": {\"9\": 150}, \"14\": {\"14\": 39, \"40\": 2, \"57\": 1, \"50\": 1, \"0\": 1}, \"4\": {\"4\": 100}, \"42\": {\"42\": 40}, \"24\": {\"24\": 80}, \"39\": {\"39\": 20}, \"52\": {\"52\": 130}, \"2\": {\"2\": 28}, \"28\": {\"28\": 32}, \"53\": {\"53\": 122}, \"17\": {\"17\": 116}, \"29\": {\"29\": 132}, \"38\": {\"38\": 32}, \"15\": {\"15\": 144}, \"26\": {\"26\": 24}, \"21\": {\"21\": 144}, \"41\": {\"41\": 28}, \"48\": {\"48\": 136}, \"22\": {\"22\": 28}, \"8\": {\"8\": 148}, \"18\": {\"18\": 64}, \"0\": {\"0\": 122}, \"1\": {\"1\": 138}, \"40\": {\"40\": 124}, \"6\": {\"6\": 128}, \"51\": {\"51\": 142}, \"36\": {\"36\": 92}}, \"O_50\": {\"7\": {\"13\": 45, \"10\": 27, \"7\": 41, \"6\": 21, \"1\": 7, \"4\": 16, \"11\": 3, \"5\": 45, \"0\": 11, \"15\": 7, \"8\": 6, \"14\": 3, \"2\": 5, \"9\": 1, \"3\": 2}, \"10\": {\"10\": 52, \"4\": 4, \"0\": 41, \"6\": 8, \"7\": 26, \"14\": 3, \"2\": 22, \"5\": 13, \"8\": 37, \"3\": 12, \"13\": 19, \"1\": 2, \"11\": 1}, \"0\": {\"5\": 9, \"0\": 46, \"13\": 15, \"10\": 49, \"2\": 57, \"8\": 28, \"6\": 10, \"1\": 6, \"12\": 4, \"9\": 1, \"15\": 1, \"7\": 4, \"11\": 2, \"14\": 6, \"4\": 2}, \"11\": {\"12\": 23, \"14\": 20, \"9\": 40, \"1\": 23, \"15\": 22, \"4\": 24, \"11\": 51, \"7\": 2, \"6\": 18, \"5\": 9, \"13\": 5, \"10\": 2, \"0\": 1}, \"2\": {\"2\": 78, \"0\": 63, \"7\": 6, \"10\": 26, \"14\": 21, \"13\": 9, \"8\": 11, \"4\": 3, \"12\": 7, \"5\": 5, \"6\": 5, \"11\": 2, \"9\": 1, \"1\": 2, \"3\": 1}, \"14\": {\"0\": 8, \"14\": 68, \"4\": 9, \"12\": 45, \"15\": 9, \"9\": 28, \"11\": 25, \"2\": 13, \"13\": 3, \"5\": 5, \"1\": 14, \"6\": 9, \"7\": 3, \"10\": 1}, \"9\": {\"1\": 19, \"14\": 32, \"12\": 35, \"9\": 59, \"15\": 14, \"6\": 9, \"11\": 55, \"4\": 12, \"5\": 2, \"7\": 2, \"13\": 1}, \"13\": {\"6\": 25, \"10\": 19, \"7\": 36, \"4\": 27, \"1\": 18, \"15\": 9, \"8\": 8, \"14\": 2, \"3\": 1, \"13\": 36, \"2\": 6, \"5\": 40, \"12\": 2, \"11\": 3, \"0\": 7, \"9\": 1}, \"8\": {\"3\": 43, \"10\": 43, \"8\": 103, \"2\": 15, \"5\": 2, \"0\": 28, \"4\": 1, \"13\": 1, \"7\": 4}, \"15\": {\"15\": 41, \"6\": 27, \"1\": 32, \"11\": 41, \"4\": 28, \"13\": 13, \"7\": 10, \"12\": 10, \"5\": 16, \"9\": 10, \"14\": 11, \"0\": 1}, \"4\": {\"13\": 28, \"7\": 16, \"9\": 9, \"1\": 33, \"4\": 42, \"5\": 30, \"15\": 22, \"6\": 19, \"11\": 20, \"10\": 4, \"14\": 11, \"2\": 1, \"0\": 2, \"12\": 3}, \"5\": {\"13\": 33, \"5\": 50, \"4\": 38, \"6\": 18, \"0\": 7, \"12\": 3, \"7\": 34, \"1\": 22, \"15\": 6, \"10\": 12, \"14\": 5, \"11\": 6, \"8\": 2, \"9\": 2, \"2\": 2}, \"3\": {\"8\": 67, \"3\": 155, \"0\": 4, \"7\": 1, \"10\": 10, \"13\": 1, \"2\": 2}, \"1\": {\"6\": 23, \"7\": 14, \"12\": 13, \"9\": 16, \"15\": 24, \"14\": 23, \"5\": 22, \"1\": 35, \"13\": 10, \"11\": 26, \"2\": 4, \"4\": 24, \"10\": 3, \"0\": 3}, \"6\": {\"4\": 43, \"11\": 10, \"7\": 18, \"6\": 30, \"15\": 20, \"13\": 33, \"12\": 3, \"2\": 7, \"10\": 8, \"5\": 31, \"1\": 22, \"0\": 7, \"8\": 1, \"14\": 3, \"9\": 4}, \"12\": {\"12\": 73, \"11\": 23, \"9\": 51, \"14\": 60, \"15\": 6, \"2\": 10, \"4\": 1, \"0\": 2, \"1\": 8, \"10\": 1, \"6\": 3, \"13\": 2}}, \"O_14\": {\"14\": {\"0\": 13, \"2\": 28, \"14\": 40, \"15\": 4, \"10\": 15, \"6\": 33, \"4\": 10, \"11\": 8, \"1\": 10, \"5\": 20, \"3\": 21, \"13\": 30, \"7\": 8}, \"6\": {\"14\": 42, \"6\": 46, \"2\": 31, \"4\": 10, \"3\": 19, \"13\": 34, \"0\": 10, \"5\": 18, \"7\": 3, \"15\": 13, \"10\": 10, \"11\": 4}, \"5\": {\"15\": 8, \"5\": 34, \"4\": 29, \"1\": 27, \"13\": 14, \"2\": 23, \"3\": 18, \"10\": 16, \"14\": 23, \"6\": 11, \"7\": 21, \"0\": 14, \"8\": 1, \"11\": 1}, \"15\": {\"2\": 19, \"13\": 18, \"15\": 68, \"6\": 20, \"1\": 14, \"7\": 34, \"4\": 23, \"5\": 24, \"0\": 5, \"14\": 8, \"3\": 5, \"10\": 2}, \"11\": {\"8\": 5, \"4\": 10, \"3\": 28, \"10\": 33, \"12\": 9, \"0\": 46, \"11\": 54, \"9\": 20, \"2\": 5, \"5\": 9, \"1\": 7, \"14\": 9, \"13\": 3, \"15\": 1, \"6\": 1}, \"8\": {\"0\": 15, \"8\": 82, \"10\": 9, \"9\": 44, \"1\": 28, \"12\": 12, \"11\": 6, \"5\": 13, \"7\": 6, \"4\": 11, \"3\": 14}, \"12\": {\"9\": 69, \"0\": 11, \"12\": 118, \"11\": 17, \"10\": 6, \"8\": 17, \"3\": 2}, \"1\": {\"1\": 42, \"15\": 17, \"5\": 30, \"3\": 26, \"10\": 11, \"8\": 16, \"9\": 3, \"2\": 8, \"4\": 23, \"0\": 14, \"7\": 31, \"14\": 7, \"6\": 4, \"13\": 4, \"11\": 4}, \"2\": {\"13\": 31, \"15\": 5, \"14\": 29, \"3\": 20, \"6\": 25, \"2\": 35, \"1\": 13, \"0\": 11, \"7\": 15, \"10\": 18, \"4\": 15, \"5\": 22, \"11\": 1}, \"13\": {\"14\": 42, \"13\": 43, \"6\": 44, \"3\": 15, \"4\": 14, \"2\": 23, \"5\": 14, \"15\": 14, \"0\": 6, \"10\": 11, \"11\": 4, \"7\": 5, \"1\": 5}, \"3\": {\"1\": 23, \"7\": 7, \"0\": 20, \"3\": 28, \"6\": 7, \"10\": 28, \"4\": 24, \"13\": 12, \"5\": 30, \"11\": 13, \"2\": 19, \"9\": 5, \"14\": 15, \"8\": 4, \"15\": 5}, \"0\": {\"0\": 41, \"15\": 4, \"3\": 14, \"14\": 20, \"11\": 39, \"2\": 13, \"5\": 19, \"10\": 39, \"4\": 9, \"12\": 3, \"1\": 15, \"13\": 3, \"8\": 10, \"9\": 3, \"6\": 7, \"7\": 1}, \"9\": {\"0\": 12, \"9\": 78, \"11\": 30, \"4\": 3, \"10\": 11, \"8\": 48, \"12\": 43, \"3\": 9, \"1\": 4, \"6\": 1, \"5\": 1}, \"4\": {\"7\": 20, \"14\": 16, \"2\": 24, \"0\": 21, \"4\": 27, \"10\": 18, \"6\": 12, \"5\": 28, \"1\": 22, \"15\": 13, \"3\": 22, \"11\": 5, \"13\": 8, \"8\": 4}, \"7\": {\"5\": 37, \"7\": 64, \"1\": 27, \"3\": 18, \"4\": 23, \"2\": 10, \"15\": 38, \"0\": 2, \"13\": 7, \"14\": 6, \"6\": 4, \"10\": 3, \"8\": 1}, \"10\": {\"6\": 13, \"10\": 52, \"0\": 29, \"4\": 17, \"14\": 22, \"5\": 14, \"7\": 6, \"11\": 32, \"3\": 22, \"13\": 11, \"1\": 6, \"2\": 11, \"9\": 3, \"15\": 2}}, \"O_32\": {\"4\": {\"7\": 37, \"3\": 4, \"8\": 12, \"4\": 33, \"13\": 37, \"5\": 19, \"14\": 19, \"2\": 35, \"0\": 24, \"11\": 14, \"9\": 6}, \"14\": {\"13\": 23, \"7\": 43, \"11\": 39, \"5\": 24, \"4\": 18, \"3\": 13, \"2\": 15, \"14\": 29, \"0\": 18, \"8\": 18}, \"5\": {\"5\": 40, \"8\": 24, \"4\": 19, \"3\": 23, \"13\": 33, \"9\": 1, \"2\": 21, \"0\": 21, \"11\": 17, \"7\": 17, \"14\": 24}, \"10\": {\"10\": 157, \"1\": 53, \"6\": 22, \"12\": 7, \"9\": 1}, \"13\": {\"2\": 22, \"5\": 26, \"0\": 32, \"13\": 30, \"4\": 24, \"14\": 28, \"3\": 23, \"11\": 16, \"8\": 29, \"7\": 10}, \"9\": {\"9\": 106, \"7\": 7, \"12\": 48, \"4\": 15, \"13\": 4, \"6\": 6, \"2\": 33, \"5\": 2, \"14\": 4, \"0\": 12, \"11\": 1, \"10\": 1, \"8\": 1}, \"6\": {\"6\": 153, \"1\": 16, \"10\": 39, \"12\": 29, \"9\": 3}, \"3\": {\"11\": 14, \"14\": 14, \"3\": 64, \"0\": 13, \"8\": 38, \"15\": 14, \"5\": 27, \"4\": 10, \"7\": 9, \"13\": 35, \"2\": 2}, \"15\": {\"15\": 179, \"8\": 14, \"3\": 33, \"13\": 5, \"5\": 8, \"7\": 1}, \"7\": {\"2\": 31, \"14\": 29, \"7\": 30, \"5\": 26, \"4\": 30, \"3\": 12, \"0\": 28, \"13\": 23, \"11\": 20, \"8\": 10, \"9\": 1}, \"12\": {\"12\": 135, \"9\": 62, \"0\": 2, \"6\": 18, \"4\": 2, \"10\": 15, \"2\": 5, \"14\": 1}, \"8\": {\"14\": 8, \"13\": 44, \"0\": 22, \"7\": 12, \"5\": 23, \"15\": 14, \"3\": 45, \"8\": 41, \"11\": 10, \"4\": 16, \"2\": 5}, \"11\": {\"13\": 18, \"2\": 24, \"14\": 49, \"0\": 18, \"4\": 15, \"7\": 32, \"8\": 8, \"5\": 13, \"3\": 16, \"11\": 46, \"9\": 1}, \"2\": {\"13\": 15, \"2\": 52, \"7\": 27, \"8\": 10, \"4\": 32, \"14\": 24, \"9\": 15, \"0\": 27, \"11\": 13, \"5\": 22, \"3\": 3}, \"1\": {\"1\": 159, \"6\": 12, \"10\": 69}, \"0\": {\"8\": 25, \"3\": 16, \"13\": 29, \"14\": 22, \"7\": 26, \"5\": 26, \"4\": 20, \"0\": 31, \"2\": 14, \"11\": 28, \"9\": 2, \"12\": 1}}, \"O_44\": {\"8\": {\"0\": 78, \"8\": 80, \"15\": 38, \"5\": 28, \"14\": 11, \"4\": 5}, \"11\": {\"11\": 122, \"6\": 47, \"10\": 7, \"7\": 6, \"9\": 10, \"2\": 7, \"13\": 39, \"14\": 1, \"1\": 1}, \"14\": {\"14\": 42, \"15\": 41, \"5\": 40, \"0\": 19, \"12\": 2, \"1\": 4, \"4\": 51, \"9\": 11, \"7\": 10, \"3\": 7, \"6\": 2, \"2\": 2, \"8\": 6, \"13\": 3}, \"10\": {\"3\": 21, \"12\": 40, \"9\": 21, \"10\": 46, \"2\": 25, \"1\": 39, \"6\": 11, \"13\": 4, \"7\": 32, \"11\": 1}, \"3\": {\"2\": 23, \"3\": 82, \"4\": 8, \"1\": 41, \"12\": 28, \"10\": 21, \"9\": 15, \"14\": 6, \"7\": 14, \"13\": 2}, \"15\": {\"13\": 1, \"0\": 45, \"8\": 37, \"5\": 49, \"14\": 31, \"15\": 56, \"4\": 20, \"3\": 1}, \"2\": {\"12\": 18, \"7\": 40, \"2\": 33, \"10\": 28, \"6\": 24, \"1\": 24, \"13\": 26, \"9\": 27, \"3\": 16, \"11\": 3, \"4\": 1}, \"12\": {\"10\": 52, \"12\": 56, \"2\": 24, \"1\": 41, \"9\": 11, \"3\": 31, \"4\": 2, \"7\": 17, \"6\": 3, \"13\": 3}, \"4\": {\"14\": 67, \"4\": 66, \"5\": 21, \"13\": 9, \"9\": 14, \"2\": 4, \"0\": 6, \"7\": 6, \"3\": 11, \"15\": 17, \"1\": 8, \"8\": 4, \"6\": 5, \"12\": 1, \"10\": 1}, \"1\": {\"2\": 24, \"3\": 52, \"12\": 44, \"1\": 38, \"10\": 29, \"14\": 3, \"6\": 2, \"9\": 13, \"7\": 26, \"4\": 3, \"5\": 1, \"13\": 5}, \"0\": {\"0\": 71, \"8\": 52, \"15\": 58, \"5\": 44, \"14\": 8, \"4\": 7}, \"9\": {\"7\": 32, \"10\": 15, \"12\": 10, \"1\": 21, \"13\": 21, \"6\": 35, \"2\": 36, \"14\": 9, \"9\": 36, \"3\": 10, \"4\": 7, \"11\": 7, \"15\": 1}, \"5\": {\"0\": 38, \"5\": 71, \"8\": 32, \"4\": 30, \"14\": 25, \"15\": 41, \"9\": 1, \"3\": 2}, \"6\": {\"11\": 35, \"4\": 6, \"13\": 38, \"12\": 6, \"2\": 33, \"6\": 52, \"9\": 30, \"1\": 6, \"7\": 25, \"10\": 7, \"3\": 1, \"14\": 1}, \"7\": {\"1\": 19, \"2\": 35, \"6\": 17, \"12\": 24, \"7\": 35, \"10\": 25, \"9\": 26, \"3\": 19, \"14\": 1, \"13\": 26, \"11\": 7, \"4\": 6}, \"13\": {\"10\": 8, \"11\": 29, \"14\": 6, \"7\": 27, \"6\": 46, \"13\": 46, \"12\": 6, \"9\": 31, \"2\": 25, \"4\": 10, \"3\": 3, \"1\": 3}}, \"O_8\": {\"13\": {\"3\": 4, \"13\": 35, \"4\": 29, \"7\": 21, \"2\": 6, \"11\": 7, \"0\": 30, \"10\": 29, \"6\": 23, \"5\": 17, \"1\": 13, \"8\": 6, \"14\": 17, \"12\": 1, \"15\": 2}, \"3\": {\"8\": 25, \"12\": 45, \"2\": 36, \"3\": 37, \"6\": 12, \"1\": 3, \"7\": 19, \"4\": 9, \"15\": 35, \"0\": 6, \"14\": 4, \"11\": 3, \"13\": 4, \"10\": 2}, \"15\": {\"8\": 27, \"12\": 35, \"15\": 25, \"3\": 28, \"1\": 19, \"6\": 13, \"4\": 10, \"2\": 20, \"7\": 23, \"0\": 9, \"14\": 8, \"11\": 17, \"10\": 1, \"5\": 2, \"13\": 3}, \"4\": {\"7\": 26, \"6\": 22, \"4\": 27, \"2\": 10, \"11\": 17, \"0\": 24, \"10\": 20, \"3\": 3, \"13\": 18, \"14\": 24, \"5\": 12, \"1\": 21, \"15\": 6, \"8\": 9, \"12\": 1}, \"7\": {\"2\": 11, \"13\": 27, \"14\": 22, \"5\": 8, \"0\": 32, \"3\": 10, \"7\": 26, \"11\": 10, \"4\": 25, \"8\": 10, \"10\": 16, \"6\": 18, \"1\": 8, \"15\": 9, \"12\": 8}, \"2\": {\"2\": 42, \"12\": 26, \"6\": 21, \"0\": 15, \"3\": 44, \"7\": 27, \"8\": 12, \"14\": 15, \"13\": 7, \"15\": 13, \"4\": 11, \"10\": 3, \"1\": 3, \"11\": 1}, \"1\": {\"5\": 29, \"13\": 17, \"1\": 39, \"7\": 15, \"11\": 29, \"4\": 23, \"14\": 31, \"6\": 15, \"8\": 11, \"0\": 7, \"10\": 18, \"15\": 1, \"12\": 2, \"3\": 3}, \"0\": {\"6\": 13, \"2\": 10, \"13\": 28, \"14\": 25, \"0\": 34, \"7\": 27, \"4\": 26, \"1\": 14, \"11\": 9, \"10\": 22, \"5\": 11, \"15\": 6, \"8\": 7, \"12\": 4, \"3\": 4}, \"12\": {\"15\": 35, \"0\": 6, \"2\": 22, \"12\": 54, \"7\": 15, \"8\": 33, \"6\": 9, \"14\": 6, \"3\": 33, \"4\": 12, \"10\": 1, \"11\": 5, \"1\": 7, \"13\": 1, \"5\": 1}, \"6\": {\"0\": 17, \"2\": 15, \"7\": 34, \"4\": 23, \"11\": 19, \"10\": 19, \"3\": 7, \"1\": 17, \"8\": 11, \"13\": 14, \"5\": 13, \"14\": 16, \"6\": 19, \"12\": 6, \"15\": 10}, \"11\": {\"7\": 16, \"4\": 19, \"8\": 14, \"13\": 10, \"6\": 17, \"11\": 43, \"5\": 27, \"1\": 31, \"14\": 23, \"10\": 13, \"0\": 5, \"15\": 15, \"2\": 6, \"3\": 1}, \"9\": {\"9\": 203, \"6\": 1, \"10\": 10, \"5\": 12, \"14\": 2, \"0\": 5, \"4\": 2, \"13\": 5}, \"5\": {\"0\": 15, \"13\": 18, \"4\": 19, \"15\": 2, \"7\": 17, \"11\": 16, \"6\": 11, \"5\": 49, \"14\": 30, \"1\": 33, \"10\": 24, \"8\": 4, \"3\": 1, \"9\": 1}, \"10\": {\"0\": 25, \"5\": 30, \"11\": 16, \"14\": 21, \"10\": 26, \"1\": 22, \"4\": 18, \"13\": 28, \"6\": 21, \"3\": 2, \"2\": 5, \"7\": 22, \"8\": 2, \"15\": 2}, \"14\": {\"14\": 26, \"1\": 23, \"4\": 23, \"0\": 23, \"13\": 19, \"6\": 16, \"11\": 20, \"5\": 20, \"2\": 4, \"7\": 16, \"10\": 26, \"8\": 13, \"3\": 5, \"15\": 4, \"12\": 2}, \"8\": {\"6\": 17, \"7\": 14, \"15\": 33, \"8\": 26, \"12\": 23, \"14\": 16, \"1\": 15, \"4\": 17, \"11\": 30, \"3\": 16, \"2\": 12, \"13\": 5, \"0\": 5, \"5\": 7, \"10\": 4}}, \"O_20\": {\"6\": {\"0\": 10, \"1\": 7, \"6\": 31, \"14\": 25, \"15\": 5, \"7\": 12, \"2\": 14, \"11\": 21, \"8\": 30, \"10\": 16, \"3\": 14, \"9\": 14, \"12\": 9, \"4\": 17, \"13\": 7, \"5\": 8}, \"11\": {\"0\": 14, \"9\": 14, \"4\": 4, \"13\": 28, \"8\": 5, \"1\": 14, \"7\": 21, \"12\": 15, \"6\": 13, \"2\": 26, \"3\": 20, \"11\": 43, \"10\": 5, \"5\": 8, \"15\": 6, \"14\": 4}, \"5\": {\"1\": 17, \"13\": 25, \"9\": 13, \"10\": 7, \"15\": 17, \"4\": 15, \"2\": 16, \"5\": 23, \"3\": 16, \"7\": 13, \"8\": 17, \"12\": 23, \"6\": 6, \"14\": 9, \"11\": 4, \"0\": 19}, \"14\": {\"14\": 44, \"8\": 26, \"6\": 38, \"10\": 25, \"2\": 10, \"4\": 24, \"11\": 6, \"5\": 6, \"0\": 9, \"9\": 9, \"3\": 17, \"7\": 13, \"12\": 6, \"1\": 6, \"15\": 1}, \"2\": {\"3\": 18, \"1\": 19, \"9\": 23, \"10\": 5, \"13\": 20, \"2\": 22, \"5\": 17, \"15\": 14, \"12\": 17, \"11\": 15, \"0\": 12, \"4\": 9, \"7\": 25, \"6\": 8, \"8\": 14, \"14\": 2}, \"7\": {\"8\": 22, \"9\": 17, \"15\": 8, \"12\": 21, \"13\": 9, \"4\": 18, \"3\": 16, \"5\": 18, \"6\": 11, \"0\": 20, \"7\": 18, \"1\": 16, \"11\": 13, \"14\": 10, \"2\": 14, \"10\": 9}, \"3\": {\"2\": 21, \"10\": 13, \"13\": 11, \"12\": 20, \"1\": 17, \"4\": 16, \"5\": 12, \"15\": 15, \"3\": 21, \"7\": 20, \"9\": 16, \"11\": 12, \"8\": 18, \"0\": 10, \"6\": 9, \"14\": 9}, \"4\": {\"1\": 9, \"6\": 21, \"10\": 25, \"0\": 10, \"8\": 24, \"2\": 12, \"11\": 10, \"9\": 11, \"3\": 18, \"5\": 22, \"7\": 17, \"4\": 26, \"13\": 6, \"14\": 11, \"12\": 10, \"15\": 8}, \"9\": {\"10\": 5, \"0\": 10, \"9\": 19, \"4\": 17, \"7\": 19, \"12\": 18, \"13\": 18, \"2\": 19, \"1\": 19, \"5\": 10, \"15\": 12, \"14\": 9, \"6\": 8, \"3\": 23, \"8\": 17, \"11\": 17}, \"12\": {\"7\": 18, \"12\": 21, \"4\": 18, \"10\": 6, \"2\": 14, \"0\": 19, \"11\": 13, \"13\": 19, \"9\": 20, \"14\": 8, \"1\": 18, \"6\": 4, \"15\": 20, \"3\": 18, \"8\": 12, \"5\": 12}, \"0\": {\"5\": 27, \"9\": 20, \"15\": 23, \"0\": 19, \"12\": 25, \"2\": 15, \"1\": 22, \"7\": 18, \"8\": 18, \"3\": 11, \"6\": 8, \"10\": 6, \"13\": 15, \"4\": 5, \"11\": 7, \"14\": 1}, \"10\": {\"8\": 19, \"10\": 39, \"4\": 36, \"3\": 13, \"7\": 16, \"6\": 26, \"14\": 31, \"0\": 12, \"9\": 6, \"12\": 11, \"2\": 11, \"1\": 5, \"5\": 7, \"11\": 2, \"13\": 1, \"15\": 5}, \"8\": {\"11\": 9, \"6\": 21, \"10\": 22, \"5\": 14, \"15\": 4, \"8\": 24, \"4\": 23, \"14\": 22, \"1\": 4, \"12\": 20, \"3\": 11, \"7\": 19, \"2\": 10, \"0\": 13, \"9\": 14, \"13\": 10}, \"13\": {\"12\": 25, \"1\": 25, \"4\": 4, \"13\": 24, \"15\": 23, \"3\": 10, \"9\": 13, \"5\": 16, \"2\": 32, \"11\": 19, \"0\": 21, \"7\": 17, \"6\": 7, \"8\": 3, \"10\": 1}, \"1\": {\"1\": 20, \"5\": 20, \"4\": 13, \"15\": 21, \"2\": 20, \"3\": 15, \"13\": 21, \"7\": 22, \"8\": 8, \"12\": 21, \"9\": 20, \"11\": 10, \"0\": 17, \"10\": 6, \"6\": 3, \"14\": 3}, \"15\": {\"15\": 30, \"11\": 9, \"0\": 17, \"12\": 15, \"9\": 16, \"14\": 4, \"3\": 20, \"6\": 6, \"13\": 30, \"7\": 19, \"5\": 24, \"2\": 21, \"1\": 16, \"10\": 4, \"8\": 4, \"4\": 5}}, \"O_38\": {\"3\": {\"7\": 27, \"13\": 2, \"0\": 20, \"6\": 38, \"15\": 5, \"9\": 45, \"5\": 17, \"3\": 70, \"8\": 13, \"10\": 3}, \"8\": {\"3\": 8, \"15\": 23, \"5\": 35, \"10\": 28, \"8\": 33, \"6\": 20, \"0\": 27, \"7\": 24, \"13\": 10, \"4\": 2, \"1\": 9, \"2\": 1, \"9\": 10, \"12\": 5, \"14\": 5}, \"0\": {\"7\": 32, \"8\": 39, \"0\": 39, \"4\": 6, \"3\": 23, \"9\": 14, \"12\": 6, \"5\": 30, \"10\": 15, \"15\": 14, \"13\": 7, \"6\": 7, \"14\": 5, \"11\": 2, \"2\": 1}, \"2\": {\"14\": 38, \"11\": 26, \"5\": 4, \"1\": 24, \"8\": 3, \"7\": 2, \"15\": 20, \"2\": 83, \"13\": 24, \"10\": 16}, \"4\": {\"12\": 55, \"4\": 139, \"0\": 9, \"7\": 16, \"10\": 8, \"11\": 9, \"8\": 3, \"14\": 1}, \"7\": {\"0\": 39, \"10\": 21, \"7\": 68, \"12\": 12, \"5\": 18, \"8\": 29, \"6\": 7, \"4\": 4, \"15\": 8, \"3\": 17, \"9\": 7, \"13\": 8, \"1\": 1, \"11\": 1}, \"12\": {\"8\": 9, \"4\": 53, \"12\": 110, \"10\": 18, \"7\": 10, \"11\": 8, \"0\": 12, \"14\": 12, \"13\": 1, \"15\": 3, \"3\": 2, \"5\": 1, \"2\": 1}, \"6\": {\"6\": 58, \"1\": 32, \"5\": 32, \"8\": 13, \"3\": 22, \"9\": 45, \"15\": 17, \"0\": 9, \"7\": 6, \"13\": 5, \"10\": 1}, \"15\": {\"14\": 6, \"2\": 30, \"8\": 23, \"13\": 38, \"1\": 30, \"15\": 36, \"7\": 7, \"0\": 8, \"10\": 16, \"9\": 9, \"6\": 11, \"3\": 1, \"5\": 24, \"12\": 1}, \"11\": {\"14\": 63, \"10\": 21, \"11\": 100, \"4\": 14, \"0\": 1, \"12\": 18, \"2\": 14, \"13\": 6, \"8\": 1, \"15\": 1, \"5\": 1}, \"9\": {\"5\": 20, \"7\": 7, \"6\": 59, \"0\": 12, \"9\": 62, \"1\": 21, \"8\": 10, \"3\": 29, \"13\": 5, \"15\": 15}, \"14\": {\"14\": 71, \"11\": 61, \"13\": 12, \"10\": 30, \"15\": 10, \"1\": 2, \"2\": 28, \"8\": 6, \"12\": 12, \"0\": 1, \"4\": 4, \"7\": 2, \"5\": 1}, \"10\": {\"4\": 11, \"3\": 1, \"13\": 11, \"10\": 55, \"0\": 12, \"14\": 23, \"8\": 25, \"7\": 24, \"1\": 4, \"12\": 17, \"15\": 19, \"6\": 1, \"5\": 13, \"11\": 13, \"2\": 10, \"9\": 1}, \"5\": {\"9\": 30, \"13\": 16, \"5\": 36, \"8\": 27, \"12\": 2, \"6\": 19, \"2\": 4, \"4\": 2, \"15\": 23, \"1\": 6, \"7\": 19, \"0\": 33, \"3\": 13, \"10\": 10}, \"1\": {\"1\": 87, \"8\": 11, \"15\": 35, \"2\": 10, \"10\": 4, \"13\": 34, \"9\": 14, \"5\": 12, \"6\": 27, \"3\": 2, \"7\": 1, \"0\": 3}, \"13\": {\"14\": 21, \"8\": 22, \"7\": 6, \"15\": 35, \"13\": 28, \"11\": 2, \"2\": 29, \"6\": 9, \"1\": 21, \"0\": 13, \"10\": 22, \"9\": 7, \"5\": 22, \"12\": 1, \"3\": 2}}, \"O_26\": {\"5\": {\"9\": 19, \"10\": 9, \"4\": 3, \"15\": 31, \"6\": 20, \"1\": 4, \"13\": 32, \"8\": 13, \"3\": 21, \"5\": 35, \"0\": 9, \"2\": 19, \"12\": 7, \"7\": 13, \"14\": 5}, \"8\": {\"9\": 7, \"14\": 22, \"10\": 29, \"4\": 14, \"15\": 12, \"6\": 27, \"3\": 14, \"0\": 21, \"5\": 10, \"1\": 20, \"7\": 17, \"8\": 21, \"13\": 9, \"2\": 10, \"12\": 6, \"11\": 1}, \"4\": {\"1\": 32, \"14\": 24, \"10\": 22, \"9\": 5, \"4\": 31, \"7\": 20, \"2\": 12, \"3\": 22, \"15\": 14, \"0\": 18, \"6\": 8, \"8\": 23, \"13\": 1, \"5\": 7, \"11\": 1}, \"12\": {\"2\": 2, \"8\": 6, \"10\": 17, \"12\": 90, \"13\": 25, \"6\": 24, \"9\": 11, \"11\": 28, \"15\": 11, \"5\": 7, \"0\": 4, \"7\": 4, \"14\": 5, \"4\": 5, \"1\": 1}, \"6\": {\"9\": 19, \"2\": 14, \"5\": 25, \"8\": 22, \"13\": 17, \"15\": 15, \"1\": 8, \"3\": 7, \"10\": 16, \"14\": 12, \"6\": 25, \"12\": 13, \"0\": 16, \"4\": 14, \"7\": 17}, \"7\": {\"3\": 35, \"7\": 26, \"2\": 19, \"8\": 11, \"4\": 22, \"6\": 15, \"9\": 16, \"10\": 18, \"1\": 16, \"14\": 21, \"5\": 11, \"15\": 13, \"0\": 14, \"13\": 3}, \"10\": {\"1\": 25, \"6\": 30, \"10\": 22, \"12\": 9, \"9\": 9, \"5\": 8, \"14\": 22, \"7\": 11, \"0\": 15, \"3\": 18, \"8\": 18, \"2\": 11, \"13\": 6, \"15\": 15, \"4\": 21}, \"0\": {\"3\": 15, \"1\": 22, \"7\": 24, \"10\": 28, \"8\": 15, \"2\": 13, \"4\": 17, \"14\": 25, \"9\": 15, \"6\": 21, \"13\": 2, \"0\": 22, \"15\": 11, \"5\": 9, \"12\": 1}, \"15\": {\"10\": 13, \"14\": 11, \"5\": 24, \"2\": 18, \"9\": 25, \"15\": 23, \"6\": 17, \"13\": 27, \"12\": 8, \"8\": 11, \"3\": 11, \"1\": 6, \"0\": 15, \"7\": 19, \"4\": 12}, \"9\": {\"5\": 19, \"7\": 16, \"8\": 19, \"2\": 17, \"0\": 18, \"13\": 18, \"3\": 17, \"15\": 18, \"9\": 28, \"4\": 11, \"1\": 6, \"10\": 12, \"14\": 6, \"6\": 25, \"12\": 7, \"11\": 3}, \"11\": {\"11\": 139, \"12\": 46, \"15\": 4, \"5\": 12, \"3\": 1, \"13\": 22, \"6\": 5, \"8\": 1, \"9\": 5, \"2\": 1, \"7\": 1, \"10\": 3}, \"14\": {\"3\": 16, \"4\": 26, \"7\": 22, \"14\": 25, \"6\": 12, \"10\": 31, \"1\": 23, \"8\": 24, \"15\": 8, \"5\": 5, \"2\": 13, \"0\": 27, \"9\": 5, \"12\": 1, \"13\": 2}, \"2\": {\"2\": 20, \"6\": 14, \"8\": 20, \"7\": 34, \"0\": 13, \"5\": 16, \"15\": 24, \"10\": 18, \"3\": 19, \"1\": 13, \"9\": 11, \"13\": 11, \"4\": 19, \"14\": 8}, \"13\": {\"2\": 20, \"10\": 8, \"15\": 33, \"5\": 36, \"6\": 20, \"12\": 16, \"13\": 29, \"3\": 13, \"7\": 7, \"8\": 12, \"11\": 6, \"9\": 26, \"0\": 2, \"14\": 3, \"4\": 7, \"1\": 2}, \"3\": {\"14\": 19, \"8\": 13, \"3\": 35, \"0\": 14, \"9\": 17, \"5\": 15, \"4\": 23, \"15\": 15, \"2\": 14, \"7\": 18, \"6\": 8, \"10\": 17, \"1\": 26, \"13\": 6}, \"1\": {\"14\": 26, \"3\": 17, \"1\": 38, \"7\": 21, \"4\": 22, \"0\": 27, \"5\": 4, \"8\": 17, \"2\": 13, \"6\": 9, \"15\": 9, \"10\": 26, \"13\": 2, \"12\": 1, \"9\": 8}}}, \"per_domain_accuracy\": {\"W_3\": {\"accuracy\": 0.978575327510917, \"source?\": true}, \"C_4\": {\"accuracy\": 0.9994318181818181, \"source?\": true}, \"C_2\": {\"accuracy\": 0.9994733146067416, \"source?\": true}, \"C_3\": {\"accuracy\": 0.9998139880952381, \"source?\": true}, \"W_2\": {\"accuracy\": 0.9606770833333333, \"source?\": true}, \"C_1\": {\"accuracy\": 0.9998310810810811, \"source?\": true}, \"W_1\": {\"accuracy\": 0.9789459745762712, \"source?\": true}, \"W_4\": {\"accuracy\": 0.9666923868312757, \"source?\": true}, \"C_5\": {\"accuracy\": 0.9991270949720671, \"source?\": true}, \"O_50\": {\"accuracy\": 0.25, \"source?\": false}, \"O_14\": {\"accuracy\": 0.221875, \"source?\": false}, \"O_32\": {\"accuracy\": 0.3346354166666667, \"source?\": false}, \"O_44\": {\"accuracy\": 0.24270833333333333, \"source?\": false}, \"O_8\": {\"accuracy\": 0.18515625, \"source?\": false}, \"O_20\": {\"accuracy\": 0.11041666666666666, \"source?\": false}, \"O_38\": {\"accuracy\": 0.2799479166666667, \"source?\": false}, \"O_26\": {\"accuracy\": 0.15859375, \"source?\": false}}}, \"history\": {\"epoch_indices\": [1, 2, 3, 4, 5, 6], \"train_label_loss\": [0.1055187502767761, 0.06517794918686219, 0.05350235400682729, 0.04303662006272912, 0.037404708118711404, 0.029973852447749087], \"source_val_label_loss\": [0.10102130472660065, 0.0694146603345871, 0.060553815215826035, 0.06121300905942917, 0.06056654080748558, 0.06267013400793076], \"target_val_label_loss\": [2.414107322692871, 2.378206491470337, 2.666156768798828, 2.6705856323242188, 2.826258659362793, 3.1539390087127686], \"source_val_acc_label\": [0.9779038672517828, 0.984743554580362, 0.9855492320351069, 0.9859092155787164, 0.9863377674163467, 0.9863377674163467], \"target_val_acc_label\": [0.22099609375, 0.22291666666666668, 0.19306640625, 0.18763020833333333, 0.175390625, 0.1587890625]}, \"dataset_metrics\": {\"source\": {\"train\": {\"n_unique_x\": 364223, \"n_unique_y\": 130, \"n_batch/episode\": 13163}, \"val\": {\"n_unique_x\": 77236, \"n_unique_y\": 130, \"n_batch/episode\": 1823}, \"test\": {\"n_unique_x\": 78478, \"n_unique_y\": 130, \"n_batch/episode\": 1857}}, \"target\": {\"train\": {\"n_unique_x\": 179200, \"n_unique_y\": 16, \"n_batch/episode\": 6720}, \"val\": {\"n_unique_x\": 38400, \"n_unique_y\": 16, \"n_batch/episode\": 960}, \"test\": {\"n_unique_x\": 38400, \"n_unique_y\": 16, \"n_batch/episode\": 960}}}}'"
      ]
     },
     "execution_count": 29,
     "metadata": {},
     "output_type": "execute_result"
    }
   ],
   "source": [
    "json.dumps(experiment)"
   ]
  }
 ],
 "metadata": {
  "celltoolbar": "Tags",
  "kernelspec": {
   "display_name": "Python 3 (ipykernel)",
   "language": "python",
   "name": "python3"
  },
  "language_info": {
   "codemirror_mode": {
    "name": "ipython",
    "version": 3
   },
   "file_extension": ".py",
   "mimetype": "text/x-python",
   "name": "python",
   "nbconvert_exporter": "python",
   "pygments_lexer": "ipython3",
   "version": "3.8.10"
  },
  "papermill": {
   "default_parameters": {},
   "duration": 4002.26642,
   "end_time": "2022-03-20T14:03:56.540237",
   "environment_variables": {},
   "exception": null,
   "input_path": "/mnt/wd500GB/CSC500/csc500-main/csc500-notebooks/templates/tl_ptn_template.ipynb",
   "output_path": "trial.ipynb",
   "parameters": {
    "parameters": {
     "BEST_MODEL_PATH": "./best_model.pth",
     "NUM_LOGS_PER_EPOCH": 10,
     "criteria_for_best": "target_accuracy",
     "dataset_seed": 500,
     "datasets": [
      {
       "domain_prefix": "C_",
       "domains": [
        1,
        2,
        3,
        4,
        5
       ],
       "episode_transforms": [],
       "labels": [
        "1-10.",
        "1-11.",
        "1-15.",
        "1-16.",
        "1-17.",
        "1-18.",
        "1-19.",
        "10-4.",
        "10-7.",
        "11-1.",
        "11-14.",
        "11-17.",
        "11-20.",
        "11-7.",
        "13-20.",
        "13-8.",
        "14-10.",
        "14-11.",
        "14-14.",
        "14-7.",
        "15-1.",
        "15-20.",
        "16-1.",
        "16-16.",
        "17-10.",
        "17-11.",
        "17-2.",
        "19-1.",
        "19-16.",
        "19-19.",
        "19-20.",
        "19-3.",
        "2-10.",
        "2-11.",
        "2-17.",
        "2-18.",
        "2-20.",
        "2-3.",
        "2-4.",
        "2-5.",
        "2-6.",
        "2-7.",
        "2-8.",
        "3-13.",
        "3-18.",
        "3-3.",
        "4-1.",
        "4-10.",
        "4-11.",
        "4-19.",
        "5-5.",
        "6-15.",
        "7-10.",
        "7-14.",
        "8-18.",
        "8-20.",
        "8-3.",
        "8-8."
       ],
       "num_examples_per_domain_per_label": -1,
       "pickle_path": "/mnt/wd500GB/CSC500/csc500-main/datasets/cores.stratified_ds.2022A.pkl",
       "source_or_target_dataset": "source",
       "x_transforms": [
        "unit_power"
       ]
      },
      {
       "domain_prefix": "W_",
       "domains": [
        1,
        2,
        3,
        4
       ],
       "episode_transforms": [],
       "labels": [
        "1-10",
        "1-12",
        "1-14",
        "1-16",
        "1-18",
        "1-19",
        "1-8",
        "10-11",
        "10-17",
        "10-4",
        "10-7",
        "11-1",
        "11-10",
        "11-19",
        "11-20",
        "11-4",
        "11-7",
        "12-19",
        "12-20",
        "12-7",
        "13-14",
        "13-18",
        "13-19",
        "13-20",
        "13-3",
        "13-7",
        "14-10",
        "14-11",
        "14-12",
        "14-13",
        "14-14",
        "14-19",
        "14-20",
        "14-7",
        "14-8",
        "14-9",
        "15-1",
        "15-19",
        "15-6",
        "16-1",
        "16-16",
        "16-19",
        "16-20",
        "17-10",
        "17-11",
        "18-1",
        "18-10",
        "18-11",
        "18-12",
        "18-13",
        "18-14",
        "18-15",
        "18-16",
        "18-17",
        "18-19",
        "18-2",
        "18-20",
        "18-4",
        "18-5",
        "18-7",
        "18-8",
        "18-9",
        "19-1",
        "19-10",
        "19-11",
        "19-12",
        "19-13",
        "19-14",
        "19-15",
        "19-19",
        "19-2",
        "19-20",
        "19-3",
        "19-4",
        "19-6",
        "19-7",
        "19-8",
        "19-9",
        "2-1",
        "2-13",
        "2-15",
        "2-3",
        "2-4",
        "2-5",
        "2-6",
        "2-7",
        "2-8",
        "20-1",
        "20-12",
        "20-14",
        "20-15",
        "20-16",
        "20-18",
        "20-19",
        "20-20",
        "20-3",
        "20-4",
        "20-5",
        "20-7",
        "20-8",
        "3-1",
        "3-13",
        "3-18",
        "3-2",
        "3-8",
        "4-1",
        "4-10",
        "4-11",
        "5-1",
        "5-5",
        "6-1",
        "6-15",
        "6-6",
        "7-10",
        "7-11",
        "7-12",
        "7-13",
        "7-14",
        "7-7",
        "7-8",
        "7-9",
        "8-1",
        "8-13",
        "8-14",
        "8-18",
        "8-20",
        "8-3",
        "8-8",
        "9-1",
        "9-7"
       ],
       "num_examples_per_domain_per_label": -1,
       "pickle_path": "/mnt/wd500GB/CSC500/csc500-main/datasets/wisig.node3-19.stratified_ds.2022A.pkl",
       "source_or_target_dataset": "source",
       "x_transforms": [
        "unit_power"
       ]
      },
      {
       "domain_prefix": "O_",
       "domains": [
        32,
        38,
        8,
        44,
        14,
        50,
        20,
        26
       ],
       "episode_transforms": [],
       "labels": [
        "3123D52",
        "3123D65",
        "3123D79",
        "3123D80",
        "3123D54",
        "3123D70",
        "3123D7B",
        "3123D89",
        "3123D58",
        "3123D76",
        "3123D7D",
        "3123EFE",
        "3123D64",
        "3123D78",
        "3123D7E",
        "3124E4A"
       ],
       "num_examples_per_domain_per_label": 2000,
       "pickle_path": "/mnt/wd500GB/CSC500/csc500-main/datasets/oracle.Run1_framed_2000Examples_stratified_ds.2022A.pkl",
       "source_or_target_dataset": "target",
       "x_transforms": [
        "unit_power"
       ]
      }
     ],
     "device": "cuda",
     "experiment_name": "tl_2v2:cores+wisig -> oracle.run1.framed",
     "lr": 0.0001,
     "n_epoch": 50,
     "n_query": 2,
     "n_shot": 3,
     "n_way": 16,
     "patience": 3,
     "seed": 500,
     "test_k_factor": 2,
     "torch_default_dtype": "torch.float32",
     "train_k_factor": 3,
     "val_k_factor": 2,
     "x_net": [
      {
       "class": "nnReshape",
       "kargs": {
        "shape": [
         -1,
         1,
         2,
         256
        ]
       }
      },
      {
       "class": "Conv2d",
       "kargs": {
        "bias": false,
        "in_channels": 1,
        "kernel_size": [
         1,
         7
        ],
        "out_channels": 256,
        "padding": [
         0,
         3
        ]
       }
      },
      {
       "class": "ReLU",
       "kargs": {
        "inplace": true
       }
      },
      {
       "class": "BatchNorm2d",
       "kargs": {
        "num_features": 256
       }
      },
      {
       "class": "Conv2d",
       "kargs": {
        "bias": true,
        "in_channels": 256,
        "kernel_size": [
         2,
         7
        ],
        "out_channels": 80,
        "padding": [
         0,
         3
        ]
       }
      },
      {
       "class": "ReLU",
       "kargs": {
        "inplace": true
       }
      },
      {
       "class": "BatchNorm2d",
       "kargs": {
        "num_features": 80
       }
      },
      {
       "class": "Flatten",
       "kargs": {}
      },
      {
       "class": "Linear",
       "kargs": {
        "in_features": 20480,
        "out_features": 256
       }
      },
      {
       "class": "ReLU",
       "kargs": {
        "inplace": true
       }
      },
      {
       "class": "BatchNorm1d",
       "kargs": {
        "num_features": 256
       }
      },
      {
       "class": "Linear",
       "kargs": {
        "in_features": 256,
        "out_features": 256
       }
      }
     ]
    }
   },
   "start_time": "2022-03-20T12:57:14.273817",
   "version": "2.3.4"
  }
 },
 "nbformat": 4,
 "nbformat_minor": 5
}