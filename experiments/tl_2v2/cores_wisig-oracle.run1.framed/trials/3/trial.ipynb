{
 "cells": [
  {
   "cell_type": "markdown",
   "id": "9fea5f46",
   "metadata": {
    "papermill": {
     "duration": 0.017983,
     "end_time": "2022-03-20T03:58:26.986475",
     "exception": false,
     "start_time": "2022-03-20T03:58:26.968492",
     "status": "completed"
    },
    "tags": []
   },
   "source": [
    "# Transfer Learning Template"
   ]
  },
  {
   "cell_type": "code",
   "execution_count": 1,
   "id": "0902182a",
   "metadata": {
    "execution": {
     "iopub.execute_input": "2022-03-20T03:58:27.018535Z",
     "iopub.status.busy": "2022-03-20T03:58:27.018272Z",
     "iopub.status.idle": "2022-03-20T03:58:27.958229Z",
     "shell.execute_reply": "2022-03-20T03:58:27.958460Z"
    },
    "papermill": {
     "duration": 0.959492,
     "end_time": "2022-03-20T03:58:27.958573",
     "exception": false,
     "start_time": "2022-03-20T03:58:26.999081",
     "status": "completed"
    },
    "tags": []
   },
   "outputs": [],
   "source": [
    "%load_ext autoreload\n",
    "%autoreload 2\n",
    "%matplotlib inline\n",
    "\n",
    "    \n",
    "import os, json, sys, time, random\n",
    "import numpy as np\n",
    "import torch\n",
    "from torch.optim import Adam\n",
    "from  easydict import EasyDict\n",
    "import matplotlib.pyplot as plt\n",
    "\n",
    "from steves_models.steves_ptn import Steves_Prototypical_Network\n",
    "\n",
    "from steves_utils.lazy_iterable_wrapper import Lazy_Iterable_Wrapper\n",
    "from steves_utils.iterable_aggregator import Iterable_Aggregator\n",
    "from steves_utils.ptn_train_eval_test_jig import  PTN_Train_Eval_Test_Jig\n",
    "from steves_utils.torch_sequential_builder import build_sequential\n",
    "from steves_utils.torch_utils import get_dataset_metrics, ptn_confusion_by_domain_over_dataloader\n",
    "from steves_utils.utils_v2 import (per_domain_accuracy_from_confusion, get_datasets_base_path)\n",
    "from steves_utils.PTN.utils import independent_accuracy_assesment\n",
    "\n",
    "from torch.utils.data import DataLoader\n",
    "\n",
    "from steves_utils.stratified_dataset.episodic_accessor import Episodic_Accessor_Factory\n",
    "\n",
    "from steves_utils.ptn_do_report import (\n",
    "    get_loss_curve,\n",
    "    get_results_table,\n",
    "    get_parameters_table,\n",
    "    get_domain_accuracies,\n",
    ")\n",
    "\n",
    "from steves_utils.transforms import get_chained_transform"
   ]
  },
  {
   "cell_type": "markdown",
   "id": "41c840b4",
   "metadata": {
    "papermill": {
     "duration": 0.012716,
     "end_time": "2022-03-20T03:58:27.988272",
     "exception": false,
     "start_time": "2022-03-20T03:58:27.975556",
     "status": "completed"
    },
    "tags": []
   },
   "source": [
    "# Allowed Parameters\n",
    "These are allowed parameters, not defaults\n",
    "Each of these values need to be present in the injected parameters (the notebook will raise an exception if they are not present)\n",
    "\n",
    "Papermill uses the cell tag \"parameters\" to inject the real parameters below this cell.\n",
    "Enable tags to see what I mean"
   ]
  },
  {
   "cell_type": "code",
   "execution_count": 2,
   "id": "fd44eb83",
   "metadata": {
    "execution": {
     "iopub.execute_input": "2022-03-20T03:58:28.015757Z",
     "iopub.status.busy": "2022-03-20T03:58:28.015491Z",
     "iopub.status.idle": "2022-03-20T03:58:28.027361Z",
     "shell.execute_reply": "2022-03-20T03:58:28.026930Z"
    },
    "papermill": {
     "duration": 0.02666,
     "end_time": "2022-03-20T03:58:28.027440",
     "exception": false,
     "start_time": "2022-03-20T03:58:28.000780",
     "status": "completed"
    },
    "tags": []
   },
   "outputs": [],
   "source": [
    "required_parameters = {\n",
    "    \"experiment_name\",\n",
    "    \"lr\",\n",
    "    \"device\",\n",
    "    \"seed\",\n",
    "    \"dataset_seed\",\n",
    "    \"n_shot\",\n",
    "    \"n_query\",\n",
    "    \"n_way\",\n",
    "    \"train_k_factor\",\n",
    "    \"val_k_factor\",\n",
    "    \"test_k_factor\",\n",
    "    \"n_epoch\",\n",
    "    \"patience\",\n",
    "    \"criteria_for_best\",\n",
    "    \"x_net\",\n",
    "    \"datasets\",\n",
    "    \"torch_default_dtype\",\n",
    "    \"NUM_LOGS_PER_EPOCH\",\n",
    "    \"BEST_MODEL_PATH\",\n",
    "    \"x_shape\",\n",
    "}"
   ]
  },
  {
   "cell_type": "code",
   "execution_count": 3,
   "id": "fa3f0049",
   "metadata": {
    "execution": {
     "iopub.execute_input": "2022-03-20T03:58:28.063802Z",
     "iopub.status.busy": "2022-03-20T03:58:28.063519Z",
     "iopub.status.idle": "2022-03-20T03:58:28.075835Z",
     "shell.execute_reply": "2022-03-20T03:58:28.075454Z"
    },
    "papermill": {
     "duration": 0.031757,
     "end_time": "2022-03-20T03:58:28.075922",
     "exception": false,
     "start_time": "2022-03-20T03:58:28.044165",
     "status": "completed"
    },
    "tags": [
     "parameters"
    ]
   },
   "outputs": [],
   "source": [
    "from steves_utils.CORES.utils import (\n",
    "    ALL_NODES,\n",
    "    ALL_NODES_MINIMUM_1000_EXAMPLES,\n",
    "    ALL_DAYS\n",
    ")\n",
    "\n",
    "from steves_utils.ORACLE.utils_v2 import (\n",
    "    ALL_DISTANCES_FEET_NARROWED,\n",
    "    ALL_RUNS,\n",
    "    ALL_SERIAL_NUMBERS,\n",
    ")\n",
    "\n",
    "standalone_parameters = {}\n",
    "standalone_parameters[\"experiment_name\"] = \"STANDALONE PTN\"\n",
    "standalone_parameters[\"lr\"] = 0.001\n",
    "standalone_parameters[\"device\"] = \"cuda\"\n",
    "\n",
    "standalone_parameters[\"seed\"] = 1337\n",
    "standalone_parameters[\"dataset_seed\"] = 1337\n",
    "\n",
    "standalone_parameters[\"n_way\"] = 8\n",
    "standalone_parameters[\"n_shot\"] = 3\n",
    "standalone_parameters[\"n_query\"]  = 2\n",
    "standalone_parameters[\"train_k_factor\"] = 1\n",
    "standalone_parameters[\"val_k_factor\"] = 2\n",
    "standalone_parameters[\"test_k_factor\"] = 2\n",
    "\n",
    "\n",
    "standalone_parameters[\"n_epoch\"] = 50\n",
    "\n",
    "standalone_parameters[\"patience\"] = 10\n",
    "standalone_parameters[\"criteria_for_best\"] = \"source_loss\"\n",
    "\n",
    "standalone_parameters[\"datasets\"] = [\n",
    "    {\n",
    "        \"labels\": ALL_SERIAL_NUMBERS,\n",
    "        \"domains\": ALL_DISTANCES_FEET_NARROWED,\n",
    "        \"num_examples_per_domain_per_label\": 100,\n",
    "        \"pickle_path\": os.path.join(get_datasets_base_path(), \"oracle.Run1_framed_2000Examples_stratified_ds.2022A.pkl\"),\n",
    "        \"source_or_target_dataset\": \"source\",\n",
    "        \"x_transforms\": [\"unit_mag\", \"minus_two\"],\n",
    "        \"episode_transforms\": [],\n",
    "        \"domain_prefix\": \"ORACLE_\"\n",
    "    },\n",
    "    {\n",
    "        \"labels\": ALL_NODES,\n",
    "        \"domains\": ALL_DAYS,\n",
    "        \"num_examples_per_domain_per_label\": 100,\n",
    "        \"pickle_path\": os.path.join(get_datasets_base_path(), \"cores.stratified_ds.2022A.pkl\"),\n",
    "        \"source_or_target_dataset\": \"target\",\n",
    "        \"x_transforms\": [\"unit_power\", \"times_zero\"],\n",
    "        \"episode_transforms\": [],\n",
    "        \"domain_prefix\": \"CORES_\"\n",
    "    }   \n",
    "]\n",
    "\n",
    "standalone_parameters[\"torch_default_dtype\"] = \"torch.float32\" \n",
    "\n",
    "\n",
    "\n",
    "standalone_parameters[\"x_net\"] =     [\n",
    "    {\"class\": \"nnReshape\", \"kargs\": {\"shape\":[-1, 1, 2, 256]}},\n",
    "    {\"class\": \"Conv2d\", \"kargs\": { \"in_channels\":1, \"out_channels\":256, \"kernel_size\":(1,7), \"bias\":False, \"padding\":(0,3), },},\n",
    "    {\"class\": \"ReLU\", \"kargs\": {\"inplace\": True}},\n",
    "    {\"class\": \"BatchNorm2d\", \"kargs\": {\"num_features\":256}},\n",
    "\n",
    "    {\"class\": \"Conv2d\", \"kargs\": { \"in_channels\":256, \"out_channels\":80, \"kernel_size\":(2,7), \"bias\":True, \"padding\":(0,3), },},\n",
    "    {\"class\": \"ReLU\", \"kargs\": {\"inplace\": True}},\n",
    "    {\"class\": \"BatchNorm2d\", \"kargs\": {\"num_features\":80}},\n",
    "    {\"class\": \"Flatten\", \"kargs\": {}},\n",
    "\n",
    "    {\"class\": \"Linear\", \"kargs\": {\"in_features\": 80*256, \"out_features\": 256}}, # 80 units per IQ pair\n",
    "    {\"class\": \"ReLU\", \"kargs\": {\"inplace\": True}},\n",
    "    {\"class\": \"BatchNorm1d\", \"kargs\": {\"num_features\":256}},\n",
    "\n",
    "    {\"class\": \"Linear\", \"kargs\": {\"in_features\": 256, \"out_features\": 256}},\n",
    "]\n",
    "\n",
    "# Parameters relevant to results\n",
    "# These parameters will basically never need to change\n",
    "standalone_parameters[\"NUM_LOGS_PER_EPOCH\"] = 10\n",
    "standalone_parameters[\"BEST_MODEL_PATH\"] = \"./best_model.pth\"\n",
    "\n",
    "\n",
    "\n",
    "\n"
   ]
  },
  {
   "cell_type": "code",
   "execution_count": 4,
   "id": "22fd4516",
   "metadata": {
    "execution": {
     "iopub.execute_input": "2022-03-20T03:58:28.116003Z",
     "iopub.status.busy": "2022-03-20T03:58:28.115541Z",
     "iopub.status.idle": "2022-03-20T03:58:28.129138Z",
     "shell.execute_reply": "2022-03-20T03:58:28.128747Z"
    },
    "papermill": {
     "duration": 0.035224,
     "end_time": "2022-03-20T03:58:28.129226",
     "exception": false,
     "start_time": "2022-03-20T03:58:28.094002",
     "status": "completed"
    },
    "tags": [
     "injected-parameters"
    ]
   },
   "outputs": [],
   "source": [
    "# Parameters\n",
    "parameters = {\n",
    "    \"experiment_name\": \"tl_2v2:cores+wisig -> oracle.run1.framed\",\n",
    "    \"device\": \"cuda\",\n",
    "    \"lr\": 0.0001,\n",
    "    \"n_shot\": 3,\n",
    "    \"n_query\": 2,\n",
    "    \"train_k_factor\": 3,\n",
    "    \"val_k_factor\": 2,\n",
    "    \"test_k_factor\": 2,\n",
    "    \"torch_default_dtype\": \"torch.float32\",\n",
    "    \"n_epoch\": 50,\n",
    "    \"patience\": 3,\n",
    "    \"criteria_for_best\": \"target_accuracy\",\n",
    "    \"x_net\": [\n",
    "        {\"class\": \"nnReshape\", \"kargs\": {\"shape\": [-1, 1, 2, 256]}},\n",
    "        {\n",
    "            \"class\": \"Conv2d\",\n",
    "            \"kargs\": {\n",
    "                \"in_channels\": 1,\n",
    "                \"out_channels\": 256,\n",
    "                \"kernel_size\": [1, 7],\n",
    "                \"bias\": False,\n",
    "                \"padding\": [0, 3],\n",
    "            },\n",
    "        },\n",
    "        {\"class\": \"ReLU\", \"kargs\": {\"inplace\": True}},\n",
    "        {\"class\": \"BatchNorm2d\", \"kargs\": {\"num_features\": 256}},\n",
    "        {\n",
    "            \"class\": \"Conv2d\",\n",
    "            \"kargs\": {\n",
    "                \"in_channels\": 256,\n",
    "                \"out_channels\": 80,\n",
    "                \"kernel_size\": [2, 7],\n",
    "                \"bias\": True,\n",
    "                \"padding\": [0, 3],\n",
    "            },\n",
    "        },\n",
    "        {\"class\": \"ReLU\", \"kargs\": {\"inplace\": True}},\n",
    "        {\"class\": \"BatchNorm2d\", \"kargs\": {\"num_features\": 80}},\n",
    "        {\"class\": \"Flatten\", \"kargs\": {}},\n",
    "        {\"class\": \"Linear\", \"kargs\": {\"in_features\": 20480, \"out_features\": 256}},\n",
    "        {\"class\": \"ReLU\", \"kargs\": {\"inplace\": True}},\n",
    "        {\"class\": \"BatchNorm1d\", \"kargs\": {\"num_features\": 256}},\n",
    "        {\"class\": \"Linear\", \"kargs\": {\"in_features\": 256, \"out_features\": 256}},\n",
    "    ],\n",
    "    \"NUM_LOGS_PER_EPOCH\": 10,\n",
    "    \"BEST_MODEL_PATH\": \"./best_model.pth\",\n",
    "    \"n_way\": 16,\n",
    "    \"datasets\": [\n",
    "        {\n",
    "            \"labels\": [\n",
    "                \"1-10.\",\n",
    "                \"1-11.\",\n",
    "                \"1-15.\",\n",
    "                \"1-16.\",\n",
    "                \"1-17.\",\n",
    "                \"1-18.\",\n",
    "                \"1-19.\",\n",
    "                \"10-4.\",\n",
    "                \"10-7.\",\n",
    "                \"11-1.\",\n",
    "                \"11-14.\",\n",
    "                \"11-17.\",\n",
    "                \"11-20.\",\n",
    "                \"11-7.\",\n",
    "                \"13-20.\",\n",
    "                \"13-8.\",\n",
    "                \"14-10.\",\n",
    "                \"14-11.\",\n",
    "                \"14-14.\",\n",
    "                \"14-7.\",\n",
    "                \"15-1.\",\n",
    "                \"15-20.\",\n",
    "                \"16-1.\",\n",
    "                \"16-16.\",\n",
    "                \"17-10.\",\n",
    "                \"17-11.\",\n",
    "                \"17-2.\",\n",
    "                \"19-1.\",\n",
    "                \"19-16.\",\n",
    "                \"19-19.\",\n",
    "                \"19-20.\",\n",
    "                \"19-3.\",\n",
    "                \"2-10.\",\n",
    "                \"2-11.\",\n",
    "                \"2-17.\",\n",
    "                \"2-18.\",\n",
    "                \"2-20.\",\n",
    "                \"2-3.\",\n",
    "                \"2-4.\",\n",
    "                \"2-5.\",\n",
    "                \"2-6.\",\n",
    "                \"2-7.\",\n",
    "                \"2-8.\",\n",
    "                \"3-13.\",\n",
    "                \"3-18.\",\n",
    "                \"3-3.\",\n",
    "                \"4-1.\",\n",
    "                \"4-10.\",\n",
    "                \"4-11.\",\n",
    "                \"4-19.\",\n",
    "                \"5-5.\",\n",
    "                \"6-15.\",\n",
    "                \"7-10.\",\n",
    "                \"7-14.\",\n",
    "                \"8-18.\",\n",
    "                \"8-20.\",\n",
    "                \"8-3.\",\n",
    "                \"8-8.\",\n",
    "            ],\n",
    "            \"domains\": [1, 2, 3, 4, 5],\n",
    "            \"num_examples_per_domain_per_label\": -1,\n",
    "            \"pickle_path\": \"/mnt/wd500GB/CSC500/csc500-main/datasets/cores.stratified_ds.2022A.pkl\",\n",
    "            \"source_or_target_dataset\": \"source\",\n",
    "            \"x_transforms\": [\"unit_power\"],\n",
    "            \"episode_transforms\": [],\n",
    "            \"domain_prefix\": \"C_\",\n",
    "        },\n",
    "        {\n",
    "            \"labels\": [\n",
    "                \"1-10\",\n",
    "                \"1-12\",\n",
    "                \"1-14\",\n",
    "                \"1-16\",\n",
    "                \"1-18\",\n",
    "                \"1-19\",\n",
    "                \"1-8\",\n",
    "                \"10-11\",\n",
    "                \"10-17\",\n",
    "                \"10-4\",\n",
    "                \"10-7\",\n",
    "                \"11-1\",\n",
    "                \"11-10\",\n",
    "                \"11-19\",\n",
    "                \"11-20\",\n",
    "                \"11-4\",\n",
    "                \"11-7\",\n",
    "                \"12-19\",\n",
    "                \"12-20\",\n",
    "                \"12-7\",\n",
    "                \"13-14\",\n",
    "                \"13-18\",\n",
    "                \"13-19\",\n",
    "                \"13-20\",\n",
    "                \"13-3\",\n",
    "                \"13-7\",\n",
    "                \"14-10\",\n",
    "                \"14-11\",\n",
    "                \"14-12\",\n",
    "                \"14-13\",\n",
    "                \"14-14\",\n",
    "                \"14-19\",\n",
    "                \"14-20\",\n",
    "                \"14-7\",\n",
    "                \"14-8\",\n",
    "                \"14-9\",\n",
    "                \"15-1\",\n",
    "                \"15-19\",\n",
    "                \"15-6\",\n",
    "                \"16-1\",\n",
    "                \"16-16\",\n",
    "                \"16-19\",\n",
    "                \"16-20\",\n",
    "                \"17-10\",\n",
    "                \"17-11\",\n",
    "                \"18-1\",\n",
    "                \"18-10\",\n",
    "                \"18-11\",\n",
    "                \"18-12\",\n",
    "                \"18-13\",\n",
    "                \"18-14\",\n",
    "                \"18-15\",\n",
    "                \"18-16\",\n",
    "                \"18-17\",\n",
    "                \"18-19\",\n",
    "                \"18-2\",\n",
    "                \"18-20\",\n",
    "                \"18-4\",\n",
    "                \"18-5\",\n",
    "                \"18-7\",\n",
    "                \"18-8\",\n",
    "                \"18-9\",\n",
    "                \"19-1\",\n",
    "                \"19-10\",\n",
    "                \"19-11\",\n",
    "                \"19-12\",\n",
    "                \"19-13\",\n",
    "                \"19-14\",\n",
    "                \"19-15\",\n",
    "                \"19-19\",\n",
    "                \"19-2\",\n",
    "                \"19-20\",\n",
    "                \"19-3\",\n",
    "                \"19-4\",\n",
    "                \"19-6\",\n",
    "                \"19-7\",\n",
    "                \"19-8\",\n",
    "                \"19-9\",\n",
    "                \"2-1\",\n",
    "                \"2-13\",\n",
    "                \"2-15\",\n",
    "                \"2-3\",\n",
    "                \"2-4\",\n",
    "                \"2-5\",\n",
    "                \"2-6\",\n",
    "                \"2-7\",\n",
    "                \"2-8\",\n",
    "                \"20-1\",\n",
    "                \"20-12\",\n",
    "                \"20-14\",\n",
    "                \"20-15\",\n",
    "                \"20-16\",\n",
    "                \"20-18\",\n",
    "                \"20-19\",\n",
    "                \"20-20\",\n",
    "                \"20-3\",\n",
    "                \"20-4\",\n",
    "                \"20-5\",\n",
    "                \"20-7\",\n",
    "                \"20-8\",\n",
    "                \"3-1\",\n",
    "                \"3-13\",\n",
    "                \"3-18\",\n",
    "                \"3-2\",\n",
    "                \"3-8\",\n",
    "                \"4-1\",\n",
    "                \"4-10\",\n",
    "                \"4-11\",\n",
    "                \"5-1\",\n",
    "                \"5-5\",\n",
    "                \"6-1\",\n",
    "                \"6-15\",\n",
    "                \"6-6\",\n",
    "                \"7-10\",\n",
    "                \"7-11\",\n",
    "                \"7-12\",\n",
    "                \"7-13\",\n",
    "                \"7-14\",\n",
    "                \"7-7\",\n",
    "                \"7-8\",\n",
    "                \"7-9\",\n",
    "                \"8-1\",\n",
    "                \"8-13\",\n",
    "                \"8-14\",\n",
    "                \"8-18\",\n",
    "                \"8-20\",\n",
    "                \"8-3\",\n",
    "                \"8-8\",\n",
    "                \"9-1\",\n",
    "                \"9-7\",\n",
    "            ],\n",
    "            \"domains\": [1, 2, 3, 4],\n",
    "            \"num_examples_per_domain_per_label\": -1,\n",
    "            \"pickle_path\": \"/mnt/wd500GB/CSC500/csc500-main/datasets/wisig.node3-19.stratified_ds.2022A.pkl\",\n",
    "            \"source_or_target_dataset\": \"source\",\n",
    "            \"x_transforms\": [\"unit_power\"],\n",
    "            \"episode_transforms\": [],\n",
    "            \"domain_prefix\": \"W_\",\n",
    "        },\n",
    "        {\n",
    "            \"labels\": [\n",
    "                \"3123D52\",\n",
    "                \"3123D65\",\n",
    "                \"3123D79\",\n",
    "                \"3123D80\",\n",
    "                \"3123D54\",\n",
    "                \"3123D70\",\n",
    "                \"3123D7B\",\n",
    "                \"3123D89\",\n",
    "                \"3123D58\",\n",
    "                \"3123D76\",\n",
    "                \"3123D7D\",\n",
    "                \"3123EFE\",\n",
    "                \"3123D64\",\n",
    "                \"3123D78\",\n",
    "                \"3123D7E\",\n",
    "                \"3124E4A\",\n",
    "            ],\n",
    "            \"domains\": [32, 38, 8, 44, 14, 50, 20, 26],\n",
    "            \"num_examples_per_domain_per_label\": 2000,\n",
    "            \"pickle_path\": \"/mnt/wd500GB/CSC500/csc500-main/datasets/oracle.Run1_framed_2000Examples_stratified_ds.2022A.pkl\",\n",
    "            \"source_or_target_dataset\": \"target\",\n",
    "            \"x_transforms\": [\"unit_power\"],\n",
    "            \"episode_transforms\": [],\n",
    "            \"domain_prefix\": \"O_\",\n",
    "        },\n",
    "    ],\n",
    "    \"seed\": 420,\n",
    "    \"dataset_seed\": 420,\n",
    "}\n"
   ]
  },
  {
   "cell_type": "code",
   "execution_count": 5,
   "id": "8fa1cc33",
   "metadata": {
    "execution": {
     "iopub.execute_input": "2022-03-20T03:58:28.162325Z",
     "iopub.status.busy": "2022-03-20T03:58:28.162072Z",
     "iopub.status.idle": "2022-03-20T03:58:28.173046Z",
     "shell.execute_reply": "2022-03-20T03:58:28.172792Z"
    },
    "papermill": {
     "duration": 0.026177,
     "end_time": "2022-03-20T03:58:28.173094",
     "exception": false,
     "start_time": "2022-03-20T03:58:28.146917",
     "status": "completed"
    },
    "tags": []
   },
   "outputs": [],
   "source": [
    "# Set this to True if you want to run this template directly\n",
    "STANDALONE = False\n",
    "if STANDALONE:\n",
    "    print(\"parameters not injected, running with standalone_parameters\")\n",
    "    parameters = standalone_parameters\n",
    "\n",
    "if not 'parameters' in locals() and not 'parameters' in globals():\n",
    "    raise Exception(\"Parameter injection failed\")\n",
    "\n",
    "#Use an easy dict for all the parameters\n",
    "p = EasyDict(parameters)\n",
    "\n",
    "if \"x_shape\" not in p:\n",
    "    p.x_shape = [2,256] # Default to this if we dont supply x_shape\n",
    "\n",
    "\n",
    "supplied_keys = set(p.keys())\n",
    "\n",
    "if  supplied_keys != required_parameters:\n",
    "    print(\"Parameters are incorrect\")\n",
    "    if len(supplied_keys - required_parameters)>0: print(\"Shouldn't have:\", str(supplied_keys - required_parameters))\n",
    "    if len(required_parameters - supplied_keys)>0: print(\"Need to have:\", str(required_parameters - supplied_keys))\n",
    "    raise RuntimeError(\"Parameters are incorrect\")"
   ]
  },
  {
   "cell_type": "code",
   "execution_count": 6,
   "id": "3a028d58",
   "metadata": {
    "execution": {
     "iopub.execute_input": "2022-03-20T03:58:28.203080Z",
     "iopub.status.busy": "2022-03-20T03:58:28.202828Z",
     "iopub.status.idle": "2022-03-20T03:58:28.213214Z",
     "shell.execute_reply": "2022-03-20T03:58:28.212970Z"
    },
    "papermill": {
     "duration": 0.024909,
     "end_time": "2022-03-20T03:58:28.213263",
     "exception": false,
     "start_time": "2022-03-20T03:58:28.188354",
     "status": "completed"
    },
    "tags": []
   },
   "outputs": [],
   "source": [
    "###################################\n",
    "# Set the RNGs and make it all deterministic\n",
    "###################################\n",
    "np.random.seed(p.seed)\n",
    "random.seed(p.seed)\n",
    "torch.manual_seed(p.seed)\n",
    "\n",
    "torch.use_deterministic_algorithms(True) "
   ]
  },
  {
   "cell_type": "code",
   "execution_count": 7,
   "id": "b691acf6",
   "metadata": {
    "execution": {
     "iopub.execute_input": "2022-03-20T03:58:28.243569Z",
     "iopub.status.busy": "2022-03-20T03:58:28.243317Z",
     "iopub.status.idle": "2022-03-20T03:58:28.253586Z",
     "shell.execute_reply": "2022-03-20T03:58:28.253340Z"
    },
    "papermill": {
     "duration": 0.024829,
     "end_time": "2022-03-20T03:58:28.253634",
     "exception": false,
     "start_time": "2022-03-20T03:58:28.228805",
     "status": "completed"
    },
    "tags": []
   },
   "outputs": [],
   "source": [
    "###########################################\n",
    "# The stratified datasets honor this\n",
    "###########################################\n",
    "torch.set_default_dtype(eval(p.torch_default_dtype))"
   ]
  },
  {
   "cell_type": "code",
   "execution_count": 8,
   "id": "b5fba671",
   "metadata": {
    "execution": {
     "iopub.execute_input": "2022-03-20T03:58:28.283639Z",
     "iopub.status.busy": "2022-03-20T03:58:28.283381Z",
     "iopub.status.idle": "2022-03-20T03:58:28.320042Z",
     "shell.execute_reply": "2022-03-20T03:58:28.319610Z"
    },
    "papermill": {
     "duration": 0.051165,
     "end_time": "2022-03-20T03:58:28.320128",
     "exception": false,
     "start_time": "2022-03-20T03:58:28.268963",
     "status": "completed"
    },
    "tags": []
   },
   "outputs": [],
   "source": [
    "###################################\n",
    "# Build the network(s)\n",
    "# Note: It's critical to do this AFTER setting the RNG\n",
    "###################################\n",
    "x_net = build_sequential(p.x_net)"
   ]
  },
  {
   "cell_type": "code",
   "execution_count": 9,
   "id": "5d7e61cc",
   "metadata": {
    "execution": {
     "iopub.execute_input": "2022-03-20T03:58:28.354231Z",
     "iopub.status.busy": "2022-03-20T03:58:28.353731Z",
     "iopub.status.idle": "2022-03-20T03:58:28.364995Z",
     "shell.execute_reply": "2022-03-20T03:58:28.364492Z"
    },
    "papermill": {
     "duration": 0.02622,
     "end_time": "2022-03-20T03:58:28.365094",
     "exception": false,
     "start_time": "2022-03-20T03:58:28.338874",
     "status": "completed"
    },
    "tags": []
   },
   "outputs": [],
   "source": [
    "start_time_secs = time.time()"
   ]
  },
  {
   "cell_type": "code",
   "execution_count": 10,
   "id": "c6b67dfd",
   "metadata": {
    "execution": {
     "iopub.execute_input": "2022-03-20T03:58:28.401164Z",
     "iopub.status.busy": "2022-03-20T03:58:28.400911Z",
     "iopub.status.idle": "2022-03-20T03:58:28.413312Z",
     "shell.execute_reply": "2022-03-20T03:58:28.413096Z"
    },
    "papermill": {
     "duration": 0.028886,
     "end_time": "2022-03-20T03:58:28.413363",
     "exception": false,
     "start_time": "2022-03-20T03:58:28.384477",
     "status": "completed"
    },
    "tags": []
   },
   "outputs": [],
   "source": [
    "p.domains_source = []\n",
    "p.domains_target = []\n",
    "\n",
    "\n",
    "train_original_source = []\n",
    "val_original_source   = []\n",
    "test_original_source  = []\n",
    "\n",
    "train_original_target = []\n",
    "val_original_target   = []\n",
    "test_original_target  = []"
   ]
  },
  {
   "cell_type": "code",
   "execution_count": 11,
   "id": "e3d9c3d3",
   "metadata": {
    "execution": {
     "iopub.execute_input": "2022-03-20T03:58:28.449202Z",
     "iopub.status.busy": "2022-03-20T03:58:28.448953Z",
     "iopub.status.idle": "2022-03-20T03:58:28.456275Z",
     "shell.execute_reply": "2022-03-20T03:58:28.456697Z"
    },
    "papermill": {
     "duration": 0.027788,
     "end_time": "2022-03-20T03:58:28.456814",
     "exception": false,
     "start_time": "2022-03-20T03:58:28.429026",
     "status": "completed"
    },
    "tags": []
   },
   "outputs": [],
   "source": [
    "# global_x_transform_func = lambda x: normalize(x.to(torch.get_default_dtype()), \"unit_power\") # unit_power, unit_mag\n",
    "# global_x_transform_func = lambda x: normalize(x, \"unit_power\") # unit_power, unit_mag"
   ]
  },
  {
   "cell_type": "code",
   "execution_count": 12,
   "id": "acb78fd2",
   "metadata": {
    "execution": {
     "iopub.execute_input": "2022-03-20T03:58:28.501233Z",
     "iopub.status.busy": "2022-03-20T03:58:28.499614Z",
     "iopub.status.idle": "2022-03-20T03:58:28.508171Z",
     "shell.execute_reply": "2022-03-20T03:58:28.507727Z"
    },
    "papermill": {
     "duration": 0.032526,
     "end_time": "2022-03-20T03:58:28.508272",
     "exception": false,
     "start_time": "2022-03-20T03:58:28.475746",
     "status": "completed"
    },
    "tags": []
   },
   "outputs": [],
   "source": [
    "def add_dataset(\n",
    "    labels,\n",
    "    domains,\n",
    "    pickle_path,\n",
    "    x_transforms,\n",
    "    episode_transforms,\n",
    "    domain_prefix,\n",
    "    num_examples_per_domain_per_label,\n",
    "    source_or_target_dataset:str,\n",
    "    iterator_seed=p.seed,\n",
    "    dataset_seed=p.dataset_seed,\n",
    "    n_shot=p.n_shot,\n",
    "    n_way=p.n_way,\n",
    "    n_query=p.n_query,\n",
    "    train_val_test_k_factors=(p.train_k_factor,p.val_k_factor,p.test_k_factor),\n",
    "):\n",
    "   \n",
    "    if x_transforms == []: x_transform = None\n",
    "    else: x_transform = get_chained_transform(x_transforms)\n",
    "    \n",
    "    if episode_transforms == []: episode_transform = None\n",
    "    else: raise Exception(\"episode_transforms not implemented\")\n",
    "    \n",
    "    episode_transform = lambda tup, _prefix=domain_prefix: (_prefix + str(tup[0]), tup[1])\n",
    "\n",
    "\n",
    "    eaf = Episodic_Accessor_Factory(\n",
    "        labels=labels,\n",
    "        domains=domains,\n",
    "        num_examples_per_domain_per_label=num_examples_per_domain_per_label,\n",
    "        iterator_seed=iterator_seed,\n",
    "        dataset_seed=dataset_seed,\n",
    "        n_shot=n_shot,\n",
    "        n_way=n_way,\n",
    "        n_query=n_query,\n",
    "        train_val_test_k_factors=train_val_test_k_factors,\n",
    "        pickle_path=pickle_path,\n",
    "        x_transform_func=x_transform,\n",
    "    )\n",
    "\n",
    "    train, val, test = eaf.get_train(), eaf.get_val(), eaf.get_test()\n",
    "    train = Lazy_Iterable_Wrapper(train, episode_transform)\n",
    "    val = Lazy_Iterable_Wrapper(val, episode_transform)\n",
    "    test = Lazy_Iterable_Wrapper(test, episode_transform)\n",
    "\n",
    "    if source_or_target_dataset==\"source\":\n",
    "        train_original_source.append(train)\n",
    "        val_original_source.append(val)\n",
    "        test_original_source.append(test)\n",
    "\n",
    "        p.domains_source.extend(\n",
    "            [domain_prefix + str(u) for u in domains]\n",
    "        )\n",
    "    elif source_or_target_dataset==\"target\":\n",
    "        train_original_target.append(train)\n",
    "        val_original_target.append(val)\n",
    "        test_original_target.append(test)\n",
    "        p.domains_target.extend(\n",
    "            [domain_prefix + str(u) for u in domains]\n",
    "        )\n",
    "    else:\n",
    "        raise Exception(f\"invalid source_or_target_dataset: {source_or_target_dataset}\")\n",
    "    "
   ]
  },
  {
   "cell_type": "code",
   "execution_count": 13,
   "id": "fe266617",
   "metadata": {
    "execution": {
     "iopub.execute_input": "2022-03-20T03:58:28.546124Z",
     "iopub.status.busy": "2022-03-20T03:58:28.544937Z",
     "iopub.status.idle": "2022-03-20T03:59:15.736274Z",
     "shell.execute_reply": "2022-03-20T03:59:15.735846Z"
    },
    "papermill": {
     "duration": 47.20948,
     "end_time": "2022-03-20T03:59:15.736374",
     "exception": false,
     "start_time": "2022-03-20T03:58:28.526894",
     "status": "completed"
    },
    "tags": []
   },
   "outputs": [],
   "source": [
    "for ds in p.datasets:\n",
    "    add_dataset(**ds)"
   ]
  },
  {
   "cell_type": "code",
   "execution_count": 14,
   "id": "b90d65ac",
   "metadata": {
    "execution": {
     "iopub.execute_input": "2022-03-20T03:59:15.771575Z",
     "iopub.status.busy": "2022-03-20T03:59:15.771306Z",
     "iopub.status.idle": "2022-03-20T03:59:15.786964Z",
     "shell.execute_reply": "2022-03-20T03:59:15.786656Z"
    },
    "papermill": {
     "duration": 0.031346,
     "end_time": "2022-03-20T03:59:15.787033",
     "exception": false,
     "start_time": "2022-03-20T03:59:15.755687",
     "status": "completed"
    },
    "tags": []
   },
   "outputs": [],
   "source": [
    "# from steves_utils.CORES.utils import (\n",
    "#     ALL_NODES,\n",
    "#     ALL_NODES_MINIMUM_1000_EXAMPLES,\n",
    "#     ALL_DAYS\n",
    "# )\n",
    "\n",
    "# add_dataset(\n",
    "#     labels=ALL_NODES,\n",
    "#     domains = ALL_DAYS,\n",
    "#     num_examples_per_domain_per_label=100,\n",
    "#     pickle_path=os.path.join(get_datasets_base_path(), \"cores.stratified_ds.2022A.pkl\"),\n",
    "#     source_or_target_dataset=\"target\",\n",
    "#     x_transform_func=global_x_transform_func,\n",
    "#     domain_modifier=lambda u: f\"cores_{u}\"\n",
    "# )"
   ]
  },
  {
   "cell_type": "code",
   "execution_count": 15,
   "id": "76db484d",
   "metadata": {
    "execution": {
     "iopub.execute_input": "2022-03-20T03:59:15.831166Z",
     "iopub.status.busy": "2022-03-20T03:59:15.830682Z",
     "iopub.status.idle": "2022-03-20T03:59:15.836505Z",
     "shell.execute_reply": "2022-03-20T03:59:15.836897Z"
    },
    "papermill": {
     "duration": 0.031078,
     "end_time": "2022-03-20T03:59:15.837005",
     "exception": false,
     "start_time": "2022-03-20T03:59:15.805927",
     "status": "completed"
    },
    "tags": []
   },
   "outputs": [],
   "source": [
    "# from steves_utils.ORACLE.utils_v2 import (\n",
    "#     ALL_DISTANCES_FEET,\n",
    "#     ALL_RUNS,\n",
    "#     ALL_SERIAL_NUMBERS,\n",
    "# )\n",
    "\n",
    "\n",
    "# add_dataset(\n",
    "#     labels=ALL_SERIAL_NUMBERS,\n",
    "#     domains = list(set(ALL_DISTANCES_FEET) - {2,62}),\n",
    "#     num_examples_per_domain_per_label=100,\n",
    "#     pickle_path=os.path.join(get_datasets_base_path(), \"oracle.Run2_framed_2000Examples_stratified_ds.2022A.pkl\"),\n",
    "#     source_or_target_dataset=\"source\",\n",
    "#     x_transform_func=global_x_transform_func,\n",
    "#     domain_modifier=lambda u: f\"oracle1_{u}\"\n",
    "# )\n"
   ]
  },
  {
   "cell_type": "code",
   "execution_count": 16,
   "id": "97dea9d2",
   "metadata": {
    "execution": {
     "iopub.execute_input": "2022-03-20T03:59:15.881158Z",
     "iopub.status.busy": "2022-03-20T03:59:15.880673Z",
     "iopub.status.idle": "2022-03-20T03:59:15.886785Z",
     "shell.execute_reply": "2022-03-20T03:59:15.886368Z"
    },
    "papermill": {
     "duration": 0.031031,
     "end_time": "2022-03-20T03:59:15.886878",
     "exception": false,
     "start_time": "2022-03-20T03:59:15.855847",
     "status": "completed"
    },
    "tags": []
   },
   "outputs": [],
   "source": [
    "# from steves_utils.ORACLE.utils_v2 import (\n",
    "#     ALL_DISTANCES_FEET,\n",
    "#     ALL_RUNS,\n",
    "#     ALL_SERIAL_NUMBERS,\n",
    "# )\n",
    "\n",
    "\n",
    "# add_dataset(\n",
    "#     labels=ALL_SERIAL_NUMBERS,\n",
    "#     domains = list(set(ALL_DISTANCES_FEET) - {2,62,56}),\n",
    "#     num_examples_per_domain_per_label=100,\n",
    "#     pickle_path=os.path.join(get_datasets_base_path(), \"oracle.Run2_framed_2000Examples_stratified_ds.2022A.pkl\"),\n",
    "#     source_or_target_dataset=\"source\",\n",
    "#     x_transform_func=global_x_transform_func,\n",
    "#     domain_modifier=lambda u: f\"oracle2_{u}\"\n",
    "# )"
   ]
  },
  {
   "cell_type": "code",
   "execution_count": 17,
   "id": "6f289866",
   "metadata": {
    "execution": {
     "iopub.execute_input": "2022-03-20T03:59:15.927280Z",
     "iopub.status.busy": "2022-03-20T03:59:15.918523Z",
     "iopub.status.idle": "2022-03-20T03:59:15.933573Z",
     "shell.execute_reply": "2022-03-20T03:59:15.933114Z"
    },
    "papermill": {
     "duration": 0.030415,
     "end_time": "2022-03-20T03:59:15.933672",
     "exception": false,
     "start_time": "2022-03-20T03:59:15.903257",
     "status": "completed"
    },
    "tags": []
   },
   "outputs": [],
   "source": [
    "# add_dataset(\n",
    "#     labels=list(range(19)),\n",
    "#     domains = [0,1,2],\n",
    "#     num_examples_per_domain_per_label=100,\n",
    "#     pickle_path=os.path.join(get_datasets_base_path(), \"metehan.stratified_ds.2022A.pkl\"),\n",
    "#     source_or_target_dataset=\"target\",\n",
    "#     x_transform_func=global_x_transform_func,\n",
    "#     domain_modifier=lambda u: f\"met_{u}\"\n",
    "# )"
   ]
  },
  {
   "cell_type": "code",
   "execution_count": 18,
   "id": "86a863c3",
   "metadata": {
    "execution": {
     "iopub.execute_input": "2022-03-20T03:59:15.970158Z",
     "iopub.status.busy": "2022-03-20T03:59:15.969635Z",
     "iopub.status.idle": "2022-03-20T03:59:15.984089Z",
     "shell.execute_reply": "2022-03-20T03:59:15.983698Z"
    },
    "papermill": {
     "duration": 0.029949,
     "end_time": "2022-03-20T03:59:15.984185",
     "exception": false,
     "start_time": "2022-03-20T03:59:15.954236",
     "status": "completed"
    },
    "tags": []
   },
   "outputs": [],
   "source": [
    "# # from steves_utils.wisig.utils import (\n",
    "# #     ALL_NODES_MINIMUM_100_EXAMPLES,\n",
    "# #     ALL_NODES_MINIMUM_500_EXAMPLES,\n",
    "# #     ALL_NODES_MINIMUM_1000_EXAMPLES,\n",
    "# #     ALL_DAYS\n",
    "# # )\n",
    "\n",
    "# import steves_utils.wisig.utils as wisig\n",
    "\n",
    "\n",
    "# add_dataset(\n",
    "#     labels=wisig.ALL_NODES_MINIMUM_100_EXAMPLES,\n",
    "#     domains = wisig.ALL_DAYS,\n",
    "#     num_examples_per_domain_per_label=100,\n",
    "#     pickle_path=os.path.join(get_datasets_base_path(), \"wisig.node3-19.stratified_ds.2022A.pkl\"),\n",
    "#     source_or_target_dataset=\"target\",\n",
    "#     x_transform_func=global_x_transform_func,\n",
    "#     domain_modifier=lambda u: f\"wisig_{u}\"\n",
    "# )"
   ]
  },
  {
   "cell_type": "code",
   "execution_count": 19,
   "id": "fd5442bc",
   "metadata": {
    "execution": {
     "iopub.execute_input": "2022-03-20T03:59:16.023803Z",
     "iopub.status.busy": "2022-03-20T03:59:16.022893Z",
     "iopub.status.idle": "2022-03-20T03:59:16.035954Z",
     "shell.execute_reply": "2022-03-20T03:59:16.035517Z"
    },
    "papermill": {
     "duration": 0.032414,
     "end_time": "2022-03-20T03:59:16.036050",
     "exception": false,
     "start_time": "2022-03-20T03:59:16.003636",
     "status": "completed"
    },
    "tags": []
   },
   "outputs": [],
   "source": [
    "###################################\n",
    "# Build the dataset\n",
    "###################################\n",
    "train_original_source = Iterable_Aggregator(train_original_source, p.seed)\n",
    "val_original_source = Iterable_Aggregator(val_original_source, p.seed)\n",
    "test_original_source = Iterable_Aggregator(test_original_source, p.seed)\n",
    "\n",
    "\n",
    "train_original_target = Iterable_Aggregator(train_original_target, p.seed)\n",
    "val_original_target = Iterable_Aggregator(val_original_target, p.seed)\n",
    "test_original_target = Iterable_Aggregator(test_original_target, p.seed)\n",
    "\n",
    "# For CNN We only use X and Y. And we only train on the source.\n",
    "# Properly form the data using a transform lambda and Lazy_Iterable_Wrapper. Finally wrap them in a dataloader\n",
    "\n",
    "transform_lambda = lambda ex: ex[1] # Original is (<domain>, <episode>) so we strip down to episode only\n",
    "\n",
    "train_processed_source = Lazy_Iterable_Wrapper(train_original_source, transform_lambda)\n",
    "val_processed_source   = Lazy_Iterable_Wrapper(val_original_source, transform_lambda)\n",
    "test_processed_source  = Lazy_Iterable_Wrapper(test_original_source, transform_lambda)\n",
    "\n",
    "train_processed_target = Lazy_Iterable_Wrapper(train_original_target, transform_lambda)\n",
    "val_processed_target   = Lazy_Iterable_Wrapper(val_original_target, transform_lambda)\n",
    "test_processed_target  = Lazy_Iterable_Wrapper(test_original_target, transform_lambda)\n",
    "\n",
    "datasets = EasyDict({\n",
    "    \"source\": {\n",
    "        \"original\": {\"train\":train_original_source, \"val\":val_original_source, \"test\":test_original_source},\n",
    "        \"processed\": {\"train\":train_processed_source, \"val\":val_processed_source, \"test\":test_processed_source}\n",
    "    },\n",
    "    \"target\": {\n",
    "        \"original\": {\"train\":train_original_target, \"val\":val_original_target, \"test\":test_original_target},\n",
    "        \"processed\": {\"train\":train_processed_target, \"val\":val_processed_target, \"test\":test_processed_target}\n",
    "    },\n",
    "})"
   ]
  },
  {
   "cell_type": "code",
   "execution_count": 20,
   "id": "5b3c01fc",
   "metadata": {
    "execution": {
     "iopub.execute_input": "2022-03-20T03:59:16.070637Z",
     "iopub.status.busy": "2022-03-20T03:59:16.068574Z",
     "iopub.status.idle": "2022-03-20T03:59:24.984020Z",
     "shell.execute_reply": "2022-03-20T03:59:24.983558Z"
    },
    "papermill": {
     "duration": 8.930688,
     "end_time": "2022-03-20T03:59:24.984114",
     "exception": false,
     "start_time": "2022-03-20T03:59:16.053426",
     "status": "completed"
    },
    "tags": []
   },
   "outputs": [
    {
     "name": "stdout",
     "output_type": "stream",
     "text": [
      "{'W_3', 'C_5', 'W_4', 'W_1', 'C_1', 'C_2', 'C_3', 'W_2', 'C_4'}\n"
     ]
    },
    {
     "name": "stdout",
     "output_type": "stream",
     "text": [
      "{'O_20', 'O_26', 'O_8', 'O_38', 'O_44', 'O_50', 'O_14', 'O_32'}\n"
     ]
    },
    {
     "name": "stdout",
     "output_type": "stream",
     "text": [
      "tensor([[[-0.4187,  1.1132,  0.5500,  ...,  0.3647,  1.0329,  1.3510],\n",
      "         [-0.7528, -0.7834,  0.9279,  ..., -0.8695, -1.0344,  0.2553]],\n",
      "\n",
      "        [[-1.2691, -1.6522,  0.0829,  ..., -0.2541, -0.3669, -0.1698],\n",
      "         [ 0.2391, -1.1807, -0.9036,  ..., -0.0734, -0.5788, -0.5177]],\n",
      "\n",
      "        [[ 0.1468, -1.1688, -0.6309,  ...,  0.8592, -0.5757, -0.6513],\n",
      "         [ 1.1717,  0.1628, -0.9144,  ...,  1.2735,  1.0525, -0.2704]],\n",
      "\n",
      "        ...,\n",
      "\n",
      "        [[-0.0922, -0.6696, -0.2874,  ..., -0.9887, -0.6152,  0.6388],\n",
      "         [ 0.5062, -0.2620, -0.7186,  ...,  0.3989, -1.0553, -1.0759]],\n",
      "\n",
      "        [[ 0.4114, -0.9146,  0.0646,  ..., -0.7434, -0.6593,  0.8477],\n",
      "         [ 0.6721, -0.0774, -1.1339,  ...,  0.3079, -0.9164, -0.9678]],\n",
      "\n",
      "        [[-0.6364,  0.7177,  0.0277,  ...,  0.8188,  0.7362, -0.5300],\n",
      "         [-0.4571, -0.0721,  1.1657,  ..., -0.5422,  0.9457,  1.1619]]])\n"
     ]
    }
   ],
   "source": [
    "from steves_utils.transforms import get_average_magnitude, get_average_power\n",
    "\n",
    "print(set([u for u,_ in val_original_source]))\n",
    "print(set([u for u,_ in val_original_target]))\n",
    "\n",
    "s_x, s_y, q_x, q_y, _ = next(iter(train_processed_source))\n",
    "print(s_x)\n",
    "\n",
    "# for ds in [\n",
    "#     train_processed_source,\n",
    "#     val_processed_source,\n",
    "#     test_processed_source,\n",
    "#     train_processed_target,\n",
    "#     val_processed_target,\n",
    "#     test_processed_target\n",
    "# ]:\n",
    "#     for s_x, s_y, q_x, q_y, _ in ds:\n",
    "#         for X in (s_x, q_x):\n",
    "#             for x in X:\n",
    "#                 assert np.isclose(get_average_magnitude(x.numpy()), 1.0)\n",
    "#                 assert np.isclose(get_average_power(x.numpy()), 1.0)\n",
    "                "
   ]
  },
  {
   "cell_type": "code",
   "execution_count": 21,
   "id": "bbdacba1",
   "metadata": {
    "execution": {
     "iopub.execute_input": "2022-03-20T03:59:25.021335Z",
     "iopub.status.busy": "2022-03-20T03:59:25.021068Z",
     "iopub.status.idle": "2022-03-20T03:59:25.088224Z",
     "shell.execute_reply": "2022-03-20T03:59:25.088597Z"
    },
    "papermill": {
     "duration": 0.08596,
     "end_time": "2022-03-20T03:59:25.088712",
     "exception": false,
     "start_time": "2022-03-20T03:59:25.002752",
     "status": "completed"
    },
    "tags": []
   },
   "outputs": [
    {
     "name": "stdout",
     "output_type": "stream",
     "text": [
      "(2, 256)\n"
     ]
    }
   ],
   "source": [
    "###################################\n",
    "# Build the model\n",
    "###################################\n",
    "# easfsl only wants a tuple for the shape\n",
    "model = Steves_Prototypical_Network(x_net, device=p.device, x_shape=tuple(p.x_shape))\n",
    "optimizer = Adam(params=model.parameters(), lr=p.lr)"
   ]
  },
  {
   "cell_type": "code",
   "execution_count": 22,
   "id": "22b39ac5",
   "metadata": {
    "execution": {
     "iopub.execute_input": "2022-03-20T03:59:25.126984Z",
     "iopub.status.busy": "2022-03-20T03:59:25.126734Z",
     "iopub.status.idle": "2022-03-20T04:29:34.309049Z",
     "shell.execute_reply": "2022-03-20T04:29:34.308816Z"
    },
    "papermill": {
     "duration": 1809.200564,
     "end_time": "2022-03-20T04:29:34.309108",
     "exception": false,
     "start_time": "2022-03-20T03:59:25.108544",
     "status": "completed"
    },
    "tags": []
   },
   "outputs": [
    {
     "name": "stdout",
     "output_type": "stream",
     "text": [
      "epoch: 1, [batch: 1 / 13172], examples_per_second: 24.3375, train_label_loss: 2.6423, \n"
     ]
    },
    {
     "name": "stdout",
     "output_type": "stream",
     "text": [
      "epoch: 1, [batch: 1318 / 13172], examples_per_second: 3142.1878, train_label_loss: 0.0814, \n"
     ]
    },
    {
     "name": "stdout",
     "output_type": "stream",
     "text": [
      "epoch: 1, [batch: 2635 / 13172], examples_per_second: 3134.7676, train_label_loss: 0.5173, \n"
     ]
    },
    {
     "name": "stdout",
     "output_type": "stream",
     "text": [
      "epoch: 1, [batch: 3952 / 13172], examples_per_second: 3132.2766, train_label_loss: 0.0033, \n"
     ]
    },
    {
     "name": "stdout",
     "output_type": "stream",
     "text": [
      "epoch: 1, [batch: 5269 / 13172], examples_per_second: 3124.6483, train_label_loss: 0.1091, \n"
     ]
    },
    {
     "name": "stdout",
     "output_type": "stream",
     "text": [
      "epoch: 1, [batch: 6586 / 13172], examples_per_second: 3135.2621, train_label_loss: 0.0012, \n"
     ]
    },
    {
     "name": "stdout",
     "output_type": "stream",
     "text": [
      "epoch: 1, [batch: 7903 / 13172], examples_per_second: 3144.7738, train_label_loss: 0.0030, \n"
     ]
    },
    {
     "name": "stdout",
     "output_type": "stream",
     "text": [
      "epoch: 1, [batch: 9220 / 13172], examples_per_second: 3135.2809, train_label_loss: 0.0014, \n"
     ]
    },
    {
     "name": "stdout",
     "output_type": "stream",
     "text": [
      "epoch: 1, [batch: 10537 / 13172], examples_per_second: 3133.0083, train_label_loss: 0.0597, \n"
     ]
    },
    {
     "name": "stdout",
     "output_type": "stream",
     "text": [
      "epoch: 1, [batch: 11854 / 13172], examples_per_second: 3133.0842, train_label_loss: 0.1677, \n"
     ]
    },
    {
     "name": "stdout",
     "output_type": "stream",
     "text": [
      "=============================================================\n",
      "epoch: 1, source_val_acc_label: 0.9791, target_val_acc_label: 0.2026, source_val_label_loss: 0.0988, target_val_label_loss: 2.4584, \n",
      "=============================================================\n"
     ]
    },
    {
     "name": "stdout",
     "output_type": "stream",
     "text": [
      "New best\n"
     ]
    },
    {
     "name": "stdout",
     "output_type": "stream",
     "text": [
      "epoch: 2, [batch: 1 / 13187], examples_per_second: 2.6554, train_label_loss: 0.0059, \n"
     ]
    },
    {
     "name": "stdout",
     "output_type": "stream",
     "text": [
      "epoch: 2, [batch: 1319 / 13187], examples_per_second: 3143.7680, train_label_loss: 0.1805, \n"
     ]
    },
    {
     "name": "stdout",
     "output_type": "stream",
     "text": [
      "epoch: 2, [batch: 2638 / 13187], examples_per_second: 3156.9205, train_label_loss: 0.0121, \n"
     ]
    },
    {
     "name": "stdout",
     "output_type": "stream",
     "text": [
      "epoch: 2, [batch: 3956 / 13187], examples_per_second: 3159.1194, train_label_loss: 0.0065, \n"
     ]
    },
    {
     "name": "stdout",
     "output_type": "stream",
     "text": [
      "epoch: 2, [batch: 5275 / 13187], examples_per_second: 3146.7487, train_label_loss: 0.0006, \n"
     ]
    },
    {
     "name": "stdout",
     "output_type": "stream",
     "text": [
      "epoch: 2, [batch: 6594 / 13187], examples_per_second: 3155.6901, train_label_loss: 0.0012, \n"
     ]
    },
    {
     "name": "stdout",
     "output_type": "stream",
     "text": [
      "epoch: 2, [batch: 7912 / 13187], examples_per_second: 3162.6930, train_label_loss: 0.0015, \n"
     ]
    },
    {
     "name": "stdout",
     "output_type": "stream",
     "text": [
      "epoch: 2, [batch: 9231 / 13187], examples_per_second: 3153.3788, train_label_loss: 0.2855, \n"
     ]
    },
    {
     "name": "stdout",
     "output_type": "stream",
     "text": [
      "epoch: 2, [batch: 10549 / 13187], examples_per_second: 3156.2880, train_label_loss: 0.0030, \n"
     ]
    },
    {
     "name": "stdout",
     "output_type": "stream",
     "text": [
      "epoch: 2, [batch: 11868 / 13187], examples_per_second: 3165.5429, train_label_loss: 0.0004, \n"
     ]
    },
    {
     "name": "stdout",
     "output_type": "stream",
     "text": [
      "=============================================================\n",
      "epoch: 2, source_val_acc_label: 0.9855, target_val_acc_label: 0.1967, source_val_label_loss: 0.0646, target_val_label_loss: 2.4672, \n",
      "=============================================================\n"
     ]
    },
    {
     "name": "stdout",
     "output_type": "stream",
     "text": [
      "epoch: 3, [batch: 1 / 13151], examples_per_second: 2.6670, train_label_loss: 0.0049, \n"
     ]
    },
    {
     "name": "stdout",
     "output_type": "stream",
     "text": [
      "epoch: 3, [batch: 1316 / 13151], examples_per_second: 3151.6806, train_label_loss: 0.0061, \n"
     ]
    },
    {
     "name": "stdout",
     "output_type": "stream",
     "text": [
      "epoch: 3, [batch: 2631 / 13151], examples_per_second: 3166.6420, train_label_loss: 0.0149, \n"
     ]
    },
    {
     "name": "stdout",
     "output_type": "stream",
     "text": [
      "epoch: 3, [batch: 3946 / 13151], examples_per_second: 3169.2888, train_label_loss: 0.0012, \n"
     ]
    },
    {
     "name": "stdout",
     "output_type": "stream",
     "text": [
      "epoch: 3, [batch: 5261 / 13151], examples_per_second: 3157.4889, train_label_loss: 0.0721, \n"
     ]
    },
    {
     "name": "stdout",
     "output_type": "stream",
     "text": [
      "epoch: 3, [batch: 6576 / 13151], examples_per_second: 3160.7345, train_label_loss: 0.3365, \n"
     ]
    },
    {
     "name": "stdout",
     "output_type": "stream",
     "text": [
      "epoch: 3, [batch: 7891 / 13151], examples_per_second: 3157.9732, train_label_loss: 0.0011, \n"
     ]
    },
    {
     "name": "stdout",
     "output_type": "stream",
     "text": [
      "epoch: 3, [batch: 9206 / 13151], examples_per_second: 3158.2672, train_label_loss: 0.0118, \n"
     ]
    },
    {
     "name": "stdout",
     "output_type": "stream",
     "text": [
      "epoch: 3, [batch: 10521 / 13151], examples_per_second: 3157.3672, train_label_loss: 0.0003, \n"
     ]
    },
    {
     "name": "stdout",
     "output_type": "stream",
     "text": [
      "epoch: 3, [batch: 11836 / 13151], examples_per_second: 3164.6711, train_label_loss: 0.0015, \n"
     ]
    },
    {
     "name": "stdout",
     "output_type": "stream",
     "text": [
      "=============================================================\n",
      "epoch: 3, source_val_acc_label: 0.9854, target_val_acc_label: 0.1680, source_val_label_loss: 0.0618, target_val_label_loss: 2.6243, \n",
      "=============================================================\n"
     ]
    },
    {
     "name": "stdout",
     "output_type": "stream",
     "text": [
      "epoch: 4, [batch: 1 / 13164], examples_per_second: 2.6771, train_label_loss: 0.0002, \n"
     ]
    },
    {
     "name": "stdout",
     "output_type": "stream",
     "text": [
      "epoch: 4, [batch: 1317 / 13164], examples_per_second: 3147.3840, train_label_loss: 0.0048, \n"
     ]
    },
    {
     "name": "stdout",
     "output_type": "stream",
     "text": [
      "epoch: 4, [batch: 2633 / 13164], examples_per_second: 3159.2233, train_label_loss: 0.1555, \n"
     ]
    },
    {
     "name": "stdout",
     "output_type": "stream",
     "text": [
      "epoch: 4, [batch: 3949 / 13164], examples_per_second: 3160.9413, train_label_loss: 0.0002, \n"
     ]
    },
    {
     "name": "stdout",
     "output_type": "stream",
     "text": [
      "epoch: 4, [batch: 5266 / 13164], examples_per_second: 3136.2960, train_label_loss: 0.2122, \n"
     ]
    },
    {
     "name": "stdout",
     "output_type": "stream",
     "text": [
      "epoch: 4, [batch: 6582 / 13164], examples_per_second: 3153.6832, train_label_loss: 0.0189, \n"
     ]
    },
    {
     "name": "stdout",
     "output_type": "stream",
     "text": [
      "epoch: 4, [batch: 7898 / 13164], examples_per_second: 3159.0015, train_label_loss: 0.1169, \n"
     ]
    },
    {
     "name": "stdout",
     "output_type": "stream",
     "text": [
      "epoch: 4, [batch: 9215 / 13164], examples_per_second: 3150.6092, train_label_loss: 0.0019, \n"
     ]
    },
    {
     "name": "stdout",
     "output_type": "stream",
     "text": [
      "epoch: 4, [batch: 10531 / 13164], examples_per_second: 3147.3827, train_label_loss: 0.0068, \n"
     ]
    },
    {
     "name": "stdout",
     "output_type": "stream",
     "text": [
      "epoch: 4, [batch: 11847 / 13164], examples_per_second: 3116.3862, train_label_loss: 0.0569, \n"
     ]
    },
    {
     "name": "stdout",
     "output_type": "stream",
     "text": [
      "=============================================================\n",
      "epoch: 4, source_val_acc_label: 0.9856, target_val_acc_label: 0.1836, source_val_label_loss: 0.0617, target_val_label_loss: 2.5724, \n",
      "=============================================================\n"
     ]
    },
    {
     "name": "stdout",
     "output_type": "stream",
     "text": [
      "epoch: 5, [batch: 1 / 13144], examples_per_second: 2.6352, train_label_loss: 0.0096, \n"
     ]
    },
    {
     "name": "stdout",
     "output_type": "stream",
     "text": [
      "epoch: 5, [batch: 1315 / 13144], examples_per_second: 3046.2531, train_label_loss: 0.0001, \n"
     ]
    },
    {
     "name": "stdout",
     "output_type": "stream",
     "text": [
      "epoch: 5, [batch: 2629 / 13144], examples_per_second: 3124.0813, train_label_loss: 0.0017, \n"
     ]
    },
    {
     "name": "stdout",
     "output_type": "stream",
     "text": [
      "epoch: 5, [batch: 3943 / 13144], examples_per_second: 3107.6371, train_label_loss: 0.0001, \n"
     ]
    },
    {
     "name": "stdout",
     "output_type": "stream",
     "text": [
      "epoch: 5, [batch: 5258 / 13144], examples_per_second: 3089.0896, train_label_loss: 0.0003, \n"
     ]
    },
    {
     "name": "stdout",
     "output_type": "stream",
     "text": [
      "epoch: 5, [batch: 6572 / 13144], examples_per_second: 3124.5489, train_label_loss: 0.1858, \n"
     ]
    },
    {
     "name": "stdout",
     "output_type": "stream",
     "text": [
      "epoch: 5, [batch: 7886 / 13144], examples_per_second: 3123.3027, train_label_loss: 0.3631, \n"
     ]
    },
    {
     "name": "stdout",
     "output_type": "stream",
     "text": [
      "epoch: 5, [batch: 9201 / 13144], examples_per_second: 3118.7500, train_label_loss: 0.0002, \n"
     ]
    },
    {
     "name": "stdout",
     "output_type": "stream",
     "text": [
      "epoch: 5, [batch: 10515 / 13144], examples_per_second: 3123.5846, train_label_loss: 0.0003, \n"
     ]
    },
    {
     "name": "stdout",
     "output_type": "stream",
     "text": [
      "epoch: 5, [batch: 11829 / 13144], examples_per_second: 3138.9976, train_label_loss: 0.1912, \n"
     ]
    },
    {
     "name": "stdout",
     "output_type": "stream",
     "text": [
      "=============================================================\n",
      "epoch: 5, source_val_acc_label: 0.9860, target_val_acc_label: 0.1542, source_val_label_loss: 0.0630, target_val_label_loss: 2.9872, \n",
      "=============================================================\n"
     ]
    },
    {
     "name": "stdout",
     "output_type": "stream",
     "text": [
      "Patience (3) exhausted\n"
     ]
    }
   ],
   "source": [
    "###################################\n",
    "# train\n",
    "###################################\n",
    "jig = PTN_Train_Eval_Test_Jig(model, p.BEST_MODEL_PATH, p.device)\n",
    "\n",
    "jig.train(\n",
    "    train_iterable=datasets.source.processed.train,\n",
    "    source_val_iterable=datasets.source.processed.val,\n",
    "    target_val_iterable=datasets.target.processed.val,\n",
    "    num_epochs=p.n_epoch,\n",
    "    num_logs_per_epoch=p.NUM_LOGS_PER_EPOCH,\n",
    "    patience=p.patience,\n",
    "    optimizer=optimizer,\n",
    "    criteria_for_best=p.criteria_for_best,\n",
    ")"
   ]
  },
  {
   "cell_type": "code",
   "execution_count": 23,
   "id": "31e8fabf",
   "metadata": {
    "execution": {
     "iopub.execute_input": "2022-03-20T04:29:34.362606Z",
     "iopub.status.busy": "2022-03-20T04:29:34.361814Z",
     "iopub.status.idle": "2022-03-20T04:29:34.381681Z",
     "shell.execute_reply": "2022-03-20T04:29:34.381379Z"
    },
    "papermill": {
     "duration": 0.047929,
     "end_time": "2022-03-20T04:29:34.381748",
     "exception": false,
     "start_time": "2022-03-20T04:29:34.333819",
     "status": "completed"
    },
    "tags": []
   },
   "outputs": [],
   "source": [
    "total_experiment_time_secs = time.time() - start_time_secs"
   ]
  },
  {
   "cell_type": "code",
   "execution_count": 24,
   "id": "87b9595b",
   "metadata": {
    "execution": {
     "iopub.execute_input": "2022-03-20T04:29:34.436257Z",
     "iopub.status.busy": "2022-03-20T04:29:34.435818Z",
     "iopub.status.idle": "2022-03-20T04:32:02.306546Z",
     "shell.execute_reply": "2022-03-20T04:32:02.306933Z"
    },
    "papermill": {
     "duration": 147.899973,
     "end_time": "2022-03-20T04:32:02.307072",
     "exception": false,
     "start_time": "2022-03-20T04:29:34.407099",
     "status": "completed"
    },
    "tags": []
   },
   "outputs": [],
   "source": [
    "###################################\n",
    "# Evaluate the model\n",
    "###################################\n",
    "source_test_label_accuracy, source_test_label_loss = jig.test(datasets.source.processed.test)\n",
    "target_test_label_accuracy, target_test_label_loss = jig.test(datasets.target.processed.test)\n",
    "\n",
    "source_val_label_accuracy, source_val_label_loss = jig.test(datasets.source.processed.val)\n",
    "target_val_label_accuracy, target_val_label_loss = jig.test(datasets.target.processed.val)\n",
    "\n",
    "history = jig.get_history()\n",
    "\n",
    "total_epochs_trained = len(history[\"epoch_indices\"])\n",
    "\n",
    "val_dl = Iterable_Aggregator((datasets.source.original.val,datasets.target.original.val))\n",
    "\n",
    "confusion = ptn_confusion_by_domain_over_dataloader(model, p.device, val_dl)\n",
    "per_domain_accuracy = per_domain_accuracy_from_confusion(confusion)\n",
    "\n",
    "# Add a key to per_domain_accuracy for if it was a source domain\n",
    "for domain, accuracy in per_domain_accuracy.items():\n",
    "    per_domain_accuracy[domain] = {\n",
    "        \"accuracy\": accuracy,\n",
    "        \"source?\": domain in p.domains_source\n",
    "    }\n",
    "\n",
    "# Do an independent accuracy assesment JUST TO BE SURE!\n",
    "# _source_test_label_accuracy = independent_accuracy_assesment(model, datasets.source.processed.test, p.device)\n",
    "# _target_test_label_accuracy = independent_accuracy_assesment(model, datasets.target.processed.test, p.device)\n",
    "# _source_val_label_accuracy = independent_accuracy_assesment(model, datasets.source.processed.val, p.device)\n",
    "# _target_val_label_accuracy = independent_accuracy_assesment(model, datasets.target.processed.val, p.device)\n",
    "\n",
    "# assert(_source_test_label_accuracy == source_test_label_accuracy)\n",
    "# assert(_target_test_label_accuracy == target_test_label_accuracy)\n",
    "# assert(_source_val_label_accuracy == source_val_label_accuracy)\n",
    "# assert(_target_val_label_accuracy == target_val_label_accuracy)\n",
    "\n",
    "experiment = {\n",
    "    \"experiment_name\": p.experiment_name,\n",
    "    \"parameters\": dict(p),\n",
    "    \"results\": {\n",
    "        \"source_test_label_accuracy\": source_test_label_accuracy,\n",
    "        \"source_test_label_loss\": source_test_label_loss,\n",
    "        \"target_test_label_accuracy\": target_test_label_accuracy,\n",
    "        \"target_test_label_loss\": target_test_label_loss,\n",
    "        \"source_val_label_accuracy\": source_val_label_accuracy,\n",
    "        \"source_val_label_loss\": source_val_label_loss,\n",
    "        \"target_val_label_accuracy\": target_val_label_accuracy,\n",
    "        \"target_val_label_loss\": target_val_label_loss,\n",
    "        \"total_epochs_trained\": total_epochs_trained,\n",
    "        \"total_experiment_time_secs\": total_experiment_time_secs,\n",
    "        \"confusion\": confusion,\n",
    "        \"per_domain_accuracy\": per_domain_accuracy,\n",
    "    },\n",
    "    \"history\": history,\n",
    "    \"dataset_metrics\": get_dataset_metrics(datasets, \"ptn\"),\n",
    "}"
   ]
  },
  {
   "cell_type": "code",
   "execution_count": 25,
   "id": "54a21829",
   "metadata": {
    "execution": {
     "iopub.execute_input": "2022-03-20T04:32:02.365860Z",
     "iopub.status.busy": "2022-03-20T04:32:02.365457Z",
     "iopub.status.idle": "2022-03-20T04:32:02.482906Z",
     "shell.execute_reply": "2022-03-20T04:32:02.483130Z"
    },
    "papermill": {
     "duration": 0.144832,
     "end_time": "2022-03-20T04:32:02.483211",
     "exception": false,
     "start_time": "2022-03-20T04:32:02.338379",
     "status": "completed"
    },
    "tags": []
   },
   "outputs": [
    {
     "data": {
      "image/png": "[encoded data removed]",
      "text/plain": [
       "<Figure size 1080x504 with 1 Axes>"
      ]
     },
     "metadata": {
      "needs_background": "light"
     },
     "output_type": "display_data"
    }
   ],
   "source": [
    "ax = get_loss_curve(experiment)\n",
    "plt.show()"
   ]
  },
  {
   "cell_type": "code",
   "execution_count": 26,
   "id": "fd8a0f60",
   "metadata": {
    "execution": {
     "iopub.execute_input": "2022-03-20T04:32:02.537813Z",
     "iopub.status.busy": "2022-03-20T04:32:02.537554Z",
     "iopub.status.idle": "2022-03-20T04:32:02.680196Z",
     "shell.execute_reply": "2022-03-20T04:32:02.680616Z"
    },
    "papermill": {
     "duration": 0.17022,
     "end_time": "2022-03-20T04:32:02.680748",
     "exception": false,
     "start_time": "2022-03-20T04:32:02.510528",
     "status": "completed"
    },
    "tags": []
   },
   "outputs": [
    {
     "data": {
      "text/plain": [
       "<AxesSubplot:title={'center':'Results'}>"
      ]
     },
     "execution_count": 26,
     "metadata": {},
     "output_type": "execute_result"
    },
    {
     "data": {
      "image/png": "[encoded data removed]",
      "text/plain": [
       "<Figure size 1080x504 with 1 Axes>"
      ]
     },
     "metadata": {
      "needs_background": "light"
     },
     "output_type": "display_data"
    }
   ],
   "source": [
    "get_results_table(experiment)"
   ]
  },
  {
   "cell_type": "code",
   "execution_count": 27,
   "id": "cf8dc689",
   "metadata": {
    "execution": {
     "iopub.execute_input": "2022-03-20T04:32:02.740900Z",
     "iopub.status.busy": "2022-03-20T04:32:02.740168Z",
     "iopub.status.idle": "2022-03-20T04:32:02.894694Z",
     "shell.execute_reply": "2022-03-20T04:32:02.895094Z"
    },
    "papermill": {
     "duration": 0.183455,
     "end_time": "2022-03-20T04:32:02.895223",
     "exception": false,
     "start_time": "2022-03-20T04:32:02.711768",
     "status": "completed"
    },
    "tags": []
   },
   "outputs": [
    {
     "data": {
      "text/plain": [
       "<AxesSubplot:title={'center':'Per Domain Validation Accuracy'}, xlabel='domain'>"
      ]
     },
     "execution_count": 27,
     "metadata": {},
     "output_type": "execute_result"
    },
    {
     "data": {
      "image/png": "[encoded data removed]",
      "text/plain": [
       "<Figure size 1080x504 with 1 Axes>"
      ]
     },
     "metadata": {
      "needs_background": "light"
     },
     "output_type": "display_data"
    }
   ],
   "source": [
    "get_domain_accuracies(experiment)"
   ]
  },
  {
   "cell_type": "code",
   "execution_count": 28,
   "id": "a74ae082",
   "metadata": {
    "execution": {
     "iopub.execute_input": "2022-03-20T04:32:02.958002Z",
     "iopub.status.busy": "2022-03-20T04:32:02.957678Z",
     "iopub.status.idle": "2022-03-20T04:32:02.974626Z",
     "shell.execute_reply": "2022-03-20T04:32:02.974141Z"
    },
    "papermill": {
     "duration": 0.047162,
     "end_time": "2022-03-20T04:32:02.974726",
     "exception": false,
     "start_time": "2022-03-20T04:32:02.927564",
     "status": "completed"
    },
    "tags": []
   },
   "outputs": [
    {
     "name": "stdout",
     "output_type": "stream",
     "text": [
      "Source Test Label Accuracy: 0.9781654967602592 Target Test Label Accuracy: 0.19703776041666668\n",
      "Source Val Label Accuracy: 0.9791323448654585 Target Val Label Accuracy: 0.20257161458333334\n"
     ]
    }
   ],
   "source": [
    "print(\"Source Test Label Accuracy:\", experiment[\"results\"][\"source_test_label_accuracy\"], \"Target Test Label Accuracy:\", experiment[\"results\"][\"target_test_label_accuracy\"])\n",
    "print(\"Source Val Label Accuracy:\", experiment[\"results\"][\"source_val_label_accuracy\"], \"Target Val Label Accuracy:\", experiment[\"results\"][\"target_val_label_accuracy\"])"
   ]
  },
  {
   "cell_type": "code",
   "execution_count": 29,
   "id": "dacca602",
   "metadata": {
    "execution": {
     "iopub.execute_input": "2022-03-20T04:32:03.038229Z",
     "iopub.status.busy": "2022-03-20T04:32:03.037904Z",
     "iopub.status.idle": "2022-03-20T04:32:03.056109Z",
     "shell.execute_reply": "2022-03-20T04:32:03.056505Z"
    },
    "papermill": {
     "duration": 0.048842,
     "end_time": "2022-03-20T04:32:03.056607",
     "exception": false,
     "start_time": "2022-03-20T04:32:03.007765",
     "status": "completed"
    },
    "tags": [
     "experiment_json"
    ]
   },
   "outputs": [
    {
     "data": {
      "text/plain": [
       "'{\"experiment_name\": \"tl_2v2:cores+wisig -> oracle.run1.framed\", \"parameters\": {\"experiment_name\": \"tl_2v2:cores+wisig -> oracle.run1.framed\", \"device\": \"cuda\", \"lr\": 0.0001, \"n_shot\": 3, \"n_query\": 2, \"train_k_factor\": 3, \"val_k_factor\": 2, \"test_k_factor\": 2, \"torch_default_dtype\": \"torch.float32\", \"n_epoch\": 50, \"patience\": 3, \"criteria_for_best\": \"target_accuracy\", \"x_net\": [{\"class\": \"nnReshape\", \"kargs\": {\"shape\": [-1, 1, 2, 256]}}, {\"class\": \"Conv2d\", \"kargs\": {\"in_channels\": 1, \"out_channels\": 256, \"kernel_size\": [1, 7], \"bias\": false, \"padding\": [0, 3]}}, {\"class\": \"ReLU\", \"kargs\": {\"inplace\": true}}, {\"class\": \"BatchNorm2d\", \"kargs\": {\"num_features\": 256}}, {\"class\": \"Conv2d\", \"kargs\": {\"in_channels\": 256, \"out_channels\": 80, \"kernel_size\": [2, 7], \"bias\": true, \"padding\": [0, 3]}}, {\"class\": \"ReLU\", \"kargs\": {\"inplace\": true}}, {\"class\": \"BatchNorm2d\", \"kargs\": {\"num_features\": 80}}, {\"class\": \"Flatten\", \"kargs\": {}}, {\"class\": \"Linear\", \"kargs\": {\"in_features\": 20480, \"out_features\": 256}}, {\"class\": \"ReLU\", \"kargs\": {\"inplace\": true}}, {\"class\": \"BatchNorm1d\", \"kargs\": {\"num_features\": 256}}, {\"class\": \"Linear\", \"kargs\": {\"in_features\": 256, \"out_features\": 256}}], \"NUM_LOGS_PER_EPOCH\": 10, \"BEST_MODEL_PATH\": \"./best_model.pth\", \"n_way\": 16, \"datasets\": [{\"labels\": [\"1-10.\", \"1-11.\", \"1-15.\", \"1-16.\", \"1-17.\", \"1-18.\", \"1-19.\", \"10-4.\", \"10-7.\", \"11-1.\", \"11-14.\", \"11-17.\", \"11-20.\", \"11-7.\", \"13-20.\", \"13-8.\", \"14-10.\", \"14-11.\", \"14-14.\", \"14-7.\", \"15-1.\", \"15-20.\", \"16-1.\", \"16-16.\", \"17-10.\", \"17-11.\", \"17-2.\", \"19-1.\", \"19-16.\", \"19-19.\", \"19-20.\", \"19-3.\", \"2-10.\", \"2-11.\", \"2-17.\", \"2-18.\", \"2-20.\", \"2-3.\", \"2-4.\", \"2-5.\", \"2-6.\", \"2-7.\", \"2-8.\", \"3-13.\", \"3-18.\", \"3-3.\", \"4-1.\", \"4-10.\", \"4-11.\", \"4-19.\", \"5-5.\", \"6-15.\", \"7-10.\", \"7-14.\", \"8-18.\", \"8-20.\", \"8-3.\", \"8-8.\"], \"domains\": [1, 2, 3, 4, 5], \"num_examples_per_domain_per_label\": -1, \"pickle_path\": \"/mnt/wd500GB/CSC500/csc500-main/datasets/cores.stratified_ds.2022A.pkl\", \"source_or_target_dataset\": \"source\", \"x_transforms\": [\"unit_power\"], \"episode_transforms\": [], \"domain_prefix\": \"C_\"}, {\"labels\": [\"1-10\", \"1-12\", \"1-14\", \"1-16\", \"1-18\", \"1-19\", \"1-8\", \"10-11\", \"10-17\", \"10-4\", \"10-7\", \"11-1\", \"11-10\", \"11-19\", \"11-20\", \"11-4\", \"11-7\", \"12-19\", \"12-20\", \"12-7\", \"13-14\", \"13-18\", \"13-19\", \"13-20\", \"13-3\", \"13-7\", \"14-10\", \"14-11\", \"14-12\", \"14-13\", \"14-14\", \"14-19\", \"14-20\", \"14-7\", \"14-8\", \"14-9\", \"15-1\", \"15-19\", \"15-6\", \"16-1\", \"16-16\", \"16-19\", \"16-20\", \"17-10\", \"17-11\", \"18-1\", \"18-10\", \"18-11\", \"18-12\", \"18-13\", \"18-14\", \"18-15\", \"18-16\", \"18-17\", \"18-19\", \"18-2\", \"18-20\", \"18-4\", \"18-5\", \"18-7\", \"18-8\", \"18-9\", \"19-1\", \"19-10\", \"19-11\", \"19-12\", \"19-13\", \"19-14\", \"19-15\", \"19-19\", \"19-2\", \"19-20\", \"19-3\", \"19-4\", \"19-6\", \"19-7\", \"19-8\", \"19-9\", \"2-1\", \"2-13\", \"2-15\", \"2-3\", \"2-4\", \"2-5\", \"2-6\", \"2-7\", \"2-8\", \"20-1\", \"20-12\", \"20-14\", \"20-15\", \"20-16\", \"20-18\", \"20-19\", \"20-20\", \"20-3\", \"20-4\", \"20-5\", \"20-7\", \"20-8\", \"3-1\", \"3-13\", \"3-18\", \"3-2\", \"3-8\", \"4-1\", \"4-10\", \"4-11\", \"5-1\", \"5-5\", \"6-1\", \"6-15\", \"6-6\", \"7-10\", \"7-11\", \"7-12\", \"7-13\", \"7-14\", \"7-7\", \"7-8\", \"7-9\", \"8-1\", \"8-13\", \"8-14\", \"8-18\", \"8-20\", \"8-3\", \"8-8\", \"9-1\", \"9-7\"], \"domains\": [1, 2, 3, 4], \"num_examples_per_domain_per_label\": -1, \"pickle_path\": \"/mnt/wd500GB/CSC500/csc500-main/datasets/wisig.node3-19.stratified_ds.2022A.pkl\", \"source_or_target_dataset\": \"source\", \"x_transforms\": [\"unit_power\"], \"episode_transforms\": [], \"domain_prefix\": \"W_\"}, {\"labels\": [\"3123D52\", \"3123D65\", \"3123D79\", \"3123D80\", \"3123D54\", \"3123D70\", \"3123D7B\", \"3123D89\", \"3123D58\", \"3123D76\", \"3123D7D\", \"3123EFE\", \"3123D64\", \"3123D78\", \"3123D7E\", \"3124E4A\"], \"domains\": [32, 38, 8, 44, 14, 50, 20, 26], \"num_examples_per_domain_per_label\": 2000, \"pickle_path\": \"/mnt/wd500GB/CSC500/csc500-main/datasets/oracle.Run1_framed_2000Examples_stratified_ds.2022A.pkl\", \"source_or_target_dataset\": \"target\", \"x_transforms\": [\"unit_power\"], \"episode_transforms\": [], \"domain_prefix\": \"O_\"}], \"seed\": 420, \"dataset_seed\": 420, \"x_shape\": [2, 256], \"domains_source\": [\"C_1\", \"C_2\", \"C_3\", \"C_4\", \"C_5\", \"W_1\", \"W_2\", \"W_3\", \"W_4\"], \"domains_target\": [\"O_32\", \"O_38\", \"O_8\", \"O_44\", \"O_14\", \"O_50\", \"O_20\", \"O_26\"]}, \"results\": {\"source_test_label_accuracy\": 0.9781654967602592, \"source_test_label_loss\": 0.10120004415512085, \"target_test_label_accuracy\": 0.19703776041666668, \"target_test_label_loss\": 2.4637973308563232, \"source_val_label_accuracy\": 0.9791323448654585, \"source_val_label_loss\": 0.09876225888729095, \"target_val_label_accuracy\": 0.20257161458333334, \"target_val_label_loss\": 2.4583797454833984, \"total_epochs_trained\": 5, \"total_experiment_time_secs\": 1866.0165915489197, \"confusion\": {\"W_3\": {\"110\": {\"110\": 89, \"8\": 2, \"129\": 1}, \"1\": {\"1\": 107, \"21\": 1}, \"2\": {\"2\": 26, \"26\": 1, \"102\": 1}, \"94\": {\"94\": 80, \"27\": 1, \"70\": 1, \"129\": 1, \"127\": 1}, \"64\": {\"64\": 20}, \"78\": {\"78\": 13, \"4\": 1, \"21\": 2}, \"47\": {\"47\": 11, \"69\": 1}, \"127\": {\"127\": 127, \"26\": 1}, \"89\": {\"89\": 27, \"69\": 1}, \"79\": {\"79\": 12}, \"22\": {\"22\": 16}, \"117\": {\"117\": 112}, \"49\": {\"49\": 21, \"47\": 1, \"108\": 1, \"63\": 1}, \"14\": {\"14\": 80}, \"103\": {\"103\": 16}, \"123\": {\"123\": 16}, \"98\": {\"98\": 126, \"26\": 1, \"90\": 1}, \"18\": {\"18\": 108}, \"61\": {\"61\": 16}, \"108\": {\"108\": 122, \"110\": 1, \"88\": 1, \"70\": 1, \"26\": 1}, \"100\": {\"100\": 16}, \"0\": {\"0\": 115, \"127\": 1}, \"107\": {\"107\": 130}, \"58\": {\"58\": 16}, \"8\": {\"8\": 119, \"85\": 1}, \"85\": {\"85\": 36}, \"31\": {\"31\": 19, \"129\": 1}, \"81\": {\"81\": 32}, \"60\": {\"60\": 19, \"31\": 2, \"23\": 2, \"85\": 1, \"116\": 2, \"122\": 2}, \"102\": {\"102\": 116}, \"19\": {\"19\": 30, \"28\": 1, \"128\": 1}, \"23\": {\"60\": 1, \"19\": 1, \"23\": 24, \"1\": 1, \"122\": 1, \"73\": 2, \"123\": 1, \"97\": 1}, \"32\": {\"32\": 24, \"65\": 1, \"66\": 1, \"107\": 2, \"11\": 3, \"62\": 1}, \"39\": {\"39\": 105, \"126\": 2, \"21\": 1}, \"129\": {\"129\": 32}, \"71\": {\"71\": 67, \"84\": 1}, \"91\": {\"91\": 20, \"57\": 1, \"58\": 1, \"42\": 2}, \"101\": {\"101\": 50, \"21\": 1, \"113\": 1}, \"62\": {\"62\": 120, \"3\": 1, \"118\": 1}, \"63\": {\"63\": 16}, \"125\": {\"125\": 117, \"6\": 1, \"105\": 1, \"40\": 1}, \"57\": {\"57\": 20}, \"28\": {\"28\": 16}, \"70\": {\"70\": 61, \"129\": 1, \"43\": 1, \"21\": 1, \"102\": 2, \"30\": 1, \"128\": 1, \"105\": 1, \"69\": 2, \"33\": 1}, \"99\": {\"99\": 33, \"21\": 2, \"27\": 1}, \"121\": {\"121\": 28, \"61\": 1, \"80\": 1, \"84\": 1, \"113\": 1}, \"4\": {\"4\": 95, \"94\": 1}, \"80\": {\"80\": 16}, \"51\": {\"15\": 1, \"51\": 12, \"43\": 1, \"57\": 1, \"5\": 1}, \"3\": {\"3\": 113, \"13\": 1, \"70\": 1, \"109\": 1}, \"9\": {\"9\": 32}, \"53\": {\"53\": 19, \"9\": 1}, \"30\": {\"30\": 83, \"69\": 1}, \"33\": {\"33\": 122}, \"15\": {\"15\": 103, \"8\": 1}, \"97\": {\"9\": 1, \"97\": 19}, \"86\": {\"86\": 27, \"128\": 1}, \"20\": {\"20\": 16}, \"66\": {\"66\": 16}, \"10\": {\"10\": 116, \"4\": 2, \"127\": 2, \"9\": 1, \"43\": 1}, \"29\": {\"29\": 31, \"9\": 1}, \"109\": {\"109\": 112, \"5\": 1, \"108\": 1}, \"52\": {\"52\": 16}, \"67\": {\"67\": 16}, \"83\": {\"83\": 22, \"121\": 1, \"43\": 1}, \"72\": {\"72\": 28}, \"90\": {\"90\": 124, \"26\": 2}, \"69\": {\"69\": 83, \"92\": 1}, \"88\": {\"88\": 109, \"8\": 1, \"39\": 1, \"36\": 1}, \"115\": {\"115\": 16}, \"73\": {\"73\": 35, \"22\": 1, \"42\": 1, \"25\": 1, \"69\": 1, \"49\": 1}, \"34\": {\"34\": 23, \"6\": 2, \"122\": 1, \"14\": 1, \"110\": 1, \"124\": 1, \"28\": 2, \"58\": 1}, \"25\": {\"25\": 16}, \"44\": {\"44\": 70, \"90\": 1, \"3\": 1}, \"112\": {\"112\": 15, \"97\": 1}, \"37\": {\"37\": 16}, \"77\": {\"77\": 16}, \"111\": {\"111\": 119, \"127\": 2, \"106\": 1}, \"119\": {\"119\": 16}, \"56\": {\"56\": 12}, \"5\": {\"5\": 110, \"102\": 1, \"21\": 1}, \"122\": {\"122\": 56, \"21\": 3, \"128\": 1}, \"74\": {\"74\": 16}, \"11\": {\"11\": 150, \"107\": 1, \"16\": 1}, \"41\": {\"41\": 16}, \"104\": {\"104\": 16}, \"21\": {\"21\": 46, \"101\": 2}, \"118\": {\"118\": 98, \"6\": 1, \"90\": 1}, \"40\": {\"40\": 121, \"21\": 1}, \"6\": {\"6\": 31, \"91\": 1}, \"27\": {\"27\": 88, \"24\": 1, \"36\": 6, \"127\": 1}, \"113\": {\"113\": 118, \"43\": 1, \"23\": 1}, \"68\": {\"68\": 16}, \"12\": {\"12\": 101, \"30\": 1}, \"54\": {\"54\": 16}, \"24\": {\"24\": 45, \"27\": 1, \"86\": 1, \"50\": 1}, \"106\": {\"106\": 98, \"87\": 1, \"6\": 1}, \"128\": {\"128\": 32}, \"48\": {\"48\": 8, \"104\": 1, \"10\": 1, \"11\": 1, \"79\": 2, \"95\": 2, \"33\": 1}, \"92\": {\"92\": 32}, \"35\": {\"35\": 10, \"24\": 1, \"27\": 1}, \"116\": {\"116\": 26, \"60\": 1, \"82\": 1}, \"38\": {\"38\": 15, \"25\": 1}, \"126\": {\"126\": 122, \"17\": 1, \"39\": 1}, \"46\": {\"46\": 16}, \"120\": {\"120\": 20}, \"7\": {\"7\": 111, \"84\": 1}, \"13\": {\"13\": 8, \"11\": 2, \"24\": 1, \"82\": 1, \"128\": 1, \"121\": 1, \"120\": 1, \"17\": 1}, \"43\": {\"43\": 47, \"33\": 4, \"128\": 1, \"84\": 1, \"83\": 1, \"102\": 2}, \"93\": {\"93\": 131, \"16\": 1}, \"26\": {\"26\": 131, \"102\": 1}, \"76\": {\"76\": 16}, \"59\": {\"59\": 12}, \"65\": {\"65\": 11, \"17\": 1}, \"87\": {\"87\": 119, \"110\": 1}, \"124\": {\"124\": 122, \"128\": 1, \"11\": 1}, \"84\": {\"84\": 107, \"40\": 1}, \"82\": {\"82\": 28}, \"75\": {\"75\": 16}, \"17\": {\"10\": 1, \"17\": 6, \"116\": 1, \"104\": 1, \"105\": 2, \"106\": 1, \"6\": 1, \"113\": 1, \"7\": 1, \"102\": 1}, \"105\": {\"105\": 124}, \"95\": {\"95\": 32}, \"42\": {\"42\": 21, \"124\": 2, \"70\": 1, \"112\": 1, \"96\": 1, \"83\": 2}, \"55\": {\"55\": 16}, \"16\": {\"16\": 115, \"6\": 1}, \"50\": {\"50\": 16}, \"96\": {\"96\": 20}, \"45\": {\"45\": 16}, \"36\": {\"36\": 118, \"27\": 2}, \"114\": {\"114\": 119, \"101\": 1, \"122\": 1, \"39\": 1, \"106\": 1, \"11\": 1}}, \"W_4\": {\"113\": {\"113\": 121, \"126\": 1, \"27\": 1, \"69\": 1}, \"85\": {\"85\": 26, \"118\": 1, \"102\": 1}, \"34\": {\"34\": 26, \"75\": 1, \"47\": 3, \"91\": 2}, \"55\": {\"55\": 16}, \"42\": {\"8\": 5, \"20\": 1, \"42\": 18, \"34\": 1, \"108\": 1, \"112\": 1, \"85\": 1}, \"13\": {\"13\": 16}, \"69\": {\"69\": 118, \"70\": 1, \"8\": 1, \"1\": 1, \"78\": 1, \"40\": 1, \"16\": 1}, \"35\": {\"35\": 12}, \"83\": {\"83\": 26, \"69\": 1, \"89\": 1}, \"51\": {\"34\": 1, \"24\": 1, \"62\": 2, \"51\": 7, \"29\": 1, \"6\": 2, \"91\": 1, \"60\": 1}, \"72\": {\"72\": 32}, \"24\": {\"24\": 115, \"21\": 1, \"122\": 1, \"36\": 3}, \"53\": {\"53\": 15, \"9\": 1}, \"8\": {\"8\": 137, \"49\": 1, \"108\": 1, \"1\": 1, \"107\": 1, \"66\": 1, \"21\": 1, \"69\": 1}, \"49\": {\"49\": 29, \"88\": 1, \"53\": 1, \"5\": 1}, \"21\": {\"21\": 39, \"23\": 1}, \"18\": {\"18\": 118, \"27\": 1, \"84\": 1}, \"114\": {\"114\": 116, \"87\": 1, \"3\": 1}, \"58\": {\"58\": 15, \"31\": 1}, \"56\": {\"56\": 12}, \"80\": {\"80\": 16}, \"11\": {\"11\": 153, \"7\": 1}, \"15\": {\"15\": 123, \"105\": 1, \"10\": 1, \"40\": 1, \"69\": 1, \"12\": 1}, \"50\": {\"50\": 14, \"43\": 2}, \"111\": {\"111\": 137, \"27\": 1}, \"108\": {\"108\": 82, \"88\": 3, \"122\": 1, \"27\": 1, \"5\": 1, \"39\": 2, \"18\": 1, \"16\": 1}, \"104\": {\"104\": 16}, \"32\": {\"32\": 22, \"8\": 1, \"108\": 1, \"14\": 1, \"45\": 2, \"7\": 1}, \"68\": {\"68\": 15, \"51\": 1}, \"73\": {\"73\": 24}, \"92\": {\"92\": 28}, \"57\": {\"57\": 16}, \"40\": {\"40\": 132, \"4\": 1, \"8\": 1, \"122\": 2}, \"71\": {\"71\": 101, \"108\": 1, \"1\": 1, \"69\": 1}, \"121\": {\"121\": 25, \"80\": 1, \"27\": 1, \"41\": 2, \"38\": 1, \"115\": 2}, \"62\": {\"62\": 53, \"122\": 1, \"21\": 2, \"2\": 1, \"41\": 1, \"39\": 1, \"10\": 1}, \"39\": {\"39\": 92, \"84\": 1, \"67\": 1, \"81\": 1, \"117\": 1, \"113\": 1, \"10\": 1, \"105\": 1, \"122\": 1}, \"107\": {\"107\": 142, \"115\": 1, \"88\": 1}, \"60\": {\"60\": 27, \"110\": 1, \"1\": 1, \"50\": 2, \"122\": 1}, \"129\": {\"129\": 23, \"19\": 1, \"122\": 1, \"21\": 1, \"27\": 1, \"8\": 1}, \"84\": {\"84\": 127, \"88\": 1, \"108\": 2, \"39\": 1, \"118\": 1}, \"106\": {\"106\": 114, \"21\": 1, \"118\": 1}, \"87\": {\"87\": 129, \"105\": 2, \"43\": 1}, \"110\": {\"110\": 89, \"49\": 1, \"113\": 1, \"27\": 1, \"36\": 1, \"16\": 1}, \"118\": {\"118\": 108, \"22\": 1, \"107\": 1, \"129\": 1, \"40\": 1}, \"64\": {\"64\": 15, \"106\": 1}, \"82\": {\"60\": 1, \"82\": 30, \"45\": 1}, \"7\": {\"7\": 121, \"102\": 1, \"69\": 1, \"24\": 1}, \"0\": {\"0\": 110, \"84\": 2, \"101\": 2, \"21\": 2}, \"41\": {\"41\": 14, \"34\": 1, \"21\": 1}, \"102\": {\"102\": 127, \"98\": 1, \"127\": 1, \"19\": 1}, \"89\": {\"89\": 31, \"51\": 1}, \"26\": {\"26\": 125, \"69\": 1, \"40\": 1, \"8\": 1}, \"103\": {\"103\": 16}, \"90\": {\"90\": 115, \"114\": 1, \"121\": 1, \"11\": 1}, \"14\": {\"14\": 111, \"89\": 1}, \"9\": {\"9\": 28}, \"5\": {\"5\": 133, \"113\": 1, \"40\": 2}, \"22\": {\"22\": 16}, \"2\": {\"2\": 26, \"26\": 2}, \"77\": {\"77\": 12}, \"59\": {\"59\": 10, \"22\": 1, \"69\": 1}, \"127\": {\"127\": 95, \"23\": 1, \"97\": 1, \"8\": 1, \"105\": 2, \"81\": 1, \"69\": 1}, \"61\": {\"61\": 14, \"35\": 2}, \"17\": {\"17\": 19, \"116\": 1}, \"45\": {\"45\": 15, \"120\": 1}, \"19\": {\"19\": 28}, \"52\": {\"52\": 19, \"129\": 1}, \"123\": {\"84\": 1, \"123\": 13, \"23\": 2}, \"20\": {\"20\": 15, \"31\": 1}, \"112\": {\"112\": 14, \"84\": 1, \"126\": 1}, \"37\": {\"37\": 16}, \"29\": {\"29\": 32}, \"128\": {\"8\": 2, \"128\": 20, \"78\": 1, \"115\": 1}, \"100\": {\"100\": 20}, \"67\": {\"67\": 9, \"123\": 2, \"115\": 1, \"39\": 1, \"2\": 1, \"69\": 2}, \"12\": {\"12\": 96, \"106\": 1, \"70\": 1, \"71\": 1, \"16\": 1}, \"101\": {\"101\": 127, \"108\": 1}, \"76\": {\"76\": 16}, \"70\": {\"70\": 115, \"88\": 4, \"98\": 1, \"27\": 1, \"108\": 1, \"53\": 1, \"7\": 1}, \"31\": {\"70\": 1, \"31\": 15}, \"86\": {\"86\": 28}, \"88\": {\"70\": 1, \"88\": 127, \"42\": 1, \"69\": 1, \"27\": 1, \"94\": 1}, \"3\": {\"3\": 123, \"108\": 1, \"27\": 1, \"2\": 1}, \"117\": {\"117\": 117, \"122\": 1, \"69\": 2}, \"30\": {\"30\": 71, \"40\": 1, \"36\": 1, \"16\": 1, \"81\": 1, \"114\": 1}, \"96\": {\"96\": 20}, \"27\": {\"27\": 88, \"92\": 1, \"7\": 1, \"108\": 3, \"70\": 1, \"84\": 1, \"21\": 1, \"5\": 1, \"6\": 1, \"69\": 1, \"88\": 1}, \"122\": {\"122\": 84}, \"120\": {\"120\": 19, \"21\": 1}, \"44\": {\"44\": 60, \"121\": 2, \"90\": 1, \"73\": 1}, \"79\": {\"79\": 15, \"122\": 1}, \"105\": {\"105\": 93, \"93\": 1, \"40\": 1, \"102\": 1, \"87\": 2, \"108\": 1, \"24\": 1}, \"95\": {\"95\": 30, \"21\": 1, \"27\": 1}, \"109\": {\"109\": 112, \"108\": 1, \"78\": 1, \"14\": 2}, \"16\": {\"16\": 115, \"122\": 1, \"114\": 1, \"87\": 1}, \"36\": {\"36\": 90, \"21\": 2, \"105\": 1, \"24\": 3, \"27\": 2}, \"125\": {\"125\": 135, \"39\": 1}, \"97\": {\"97\": 16, \"10\": 2, \"108\": 2}, \"91\": {\"91\": 20, \"84\": 1, \"34\": 1, \"128\": 1, \"47\": 1}, \"28\": {\"28\": 20}, \"81\": {\"81\": 36}, \"126\": {\"126\": 113, \"69\": 1, \"78\": 1, \"106\": 1, \"84\": 1, \"113\": 1, \"51\": 1, \"39\": 1, \"93\": 2}, \"4\": {\"4\": 98, \"122\": 1, \"39\": 1, \"118\": 1, \"27\": 1, \"108\": 1, \"69\": 1}, \"10\": {\"10\": 122, \"12\": 1, \"106\": 1}, \"63\": {\"63\": 16}, \"43\": {\"43\": 117, \"87\": 1}, \"116\": {\"116\": 27, \"99\": 1}, \"1\": {\"1\": 98, \"69\": 1, \"10\": 1, \"101\": 1, \"110\": 1, \"122\": 1, \"40\": 1, \"84\": 1, \"4\": 1, \"27\": 1, \"12\": 1}, \"94\": {\"94\": 86, \"40\": 1, \"122\": 1}, \"38\": {\"38\": 16}, \"54\": {\"54\": 16}, \"74\": {\"74\": 16}, \"25\": {\"25\": 16}, \"75\": {\"75\": 16}, \"119\": {\"119\": 15, \"123\": 1}, \"46\": {\"46\": 19, \"31\": 1}, \"23\": {\"21\": 1, \"23\": 12, \"67\": 1, \"1\": 1, \"123\": 1}, \"99\": {\"99\": 40}, \"33\": {\"33\": 116, \"125\": 1, \"101\": 1}, \"47\": {\"47\": 9, \"112\": 1, \"49\": 1, \"27\": 1}, \"115\": {\"87\": 2, \"115\": 13, \"124\": 1}, \"6\": {\"85\": 2, \"6\": 15, \"10\": 2, \"58\": 2, \"8\": 2, \"122\": 1}, \"65\": {\"65\": 12}, \"66\": {\"66\": 15, \"44\": 1}, \"78\": {\"78\": 26, \"43\": 2, \"84\": 1, \"40\": 1, \"89\": 1, \"94\": 1, \"87\": 1, \"30\": 1, \"109\": 1, \"122\": 1}, \"98\": {\"98\": 116}, \"93\": {\"93\": 115, \"69\": 1}, \"48\": {\"48\": 15, \"62\": 1}, \"124\": {\"124\": 113, \"24\": 1}}, \"C_4\": {\"42\": {\"42\": 32}, \"0\": {\"0\": 80}, \"1\": {\"1\": 40}, \"39\": {\"39\": 20}, \"28\": {\"28\": 32}, \"53\": {\"53\": 124}, \"19\": {\"19\": 144}, \"34\": {\"34\": 24}, \"33\": {\"33\": 36}, \"32\": {\"32\": 24}, \"10\": {\"10\": 136}, \"46\": {\"46\": 128, \"11\": 1, \"16\": 1, \"15\": 2, \"3\": 2}, \"20\": {\"20\": 122}, \"5\": {\"5\": 107, \"16\": 1}, \"40\": {\"40\": 124}, \"51\": {\"51\": 144}, \"37\": {\"37\": 24}, \"17\": {\"17\": 80}, \"45\": {\"45\": 95, \"21\": 1}, \"13\": {\"13\": 142}, \"27\": {\"27\": 144}, \"24\": {\"24\": 56}, \"30\": {\"30\": 44}, \"31\": {\"31\": 28}, \"41\": {\"41\": 34, \"25\": 1, \"49\": 1}, \"36\": {\"36\": 92}, \"16\": {\"16\": 96}, \"22\": {\"22\": 128}, \"44\": {\"44\": 132}, \"9\": {\"9\": 140}, \"57\": {\"57\": 100}, \"8\": {\"8\": 138}, \"23\": {\"23\": 132}, \"47\": {\"47\": 120}, \"43\": {\"43\": 138}, \"49\": {\"49\": 20}, \"3\": {\"3\": 122, \"7\": 1, \"50\": 1}, \"12\": {\"12\": 92}, \"38\": {\"38\": 40}, \"7\": {\"7\": 24}, \"14\": {\"14\": 15, \"29\": 1}, \"15\": {\"15\": 146}, \"25\": {\"25\": 128}, \"26\": {\"26\": 24}, \"21\": {\"21\": 132}, \"48\": {\"48\": 144}, \"56\": {\"56\": 134}, \"11\": {\"11\": 104}, \"2\": {\"2\": 36}, \"6\": {\"6\": 112}, \"55\": {\"55\": 139, \"56\": 1}, \"54\": {\"54\": 108}, \"29\": {\"29\": 124}, \"50\": {\"50\": 122}, \"52\": {\"52\": 116}, \"35\": {\"35\": 40}, \"4\": {\"4\": 120}, \"18\": {\"18\": 108}}, \"C_5\": {\"43\": {\"43\": 152}, \"35\": {\"35\": 36}, \"54\": {\"54\": 112}, \"22\": {\"22\": 28}, \"16\": {\"16\": 146}, \"5\": {\"5\": 127, \"16\": 1}, \"28\": {\"28\": 32}, \"14\": {\"14\": 32, \"31\": 1, \"5\": 2, \"0\": 3, \"46\": 3, \"54\": 1, \"50\": 2}, \"51\": {\"51\": 128}, \"19\": {\"19\": 140}, \"31\": {\"31\": 36}, \"10\": {\"10\": 68}, \"21\": {\"21\": 136}, \"3\": {\"3\": 100}, \"57\": {\"57\": 132}, \"9\": {\"9\": 146}, \"8\": {\"8\": 132}, \"46\": {\"46\": 137, \"14\": 1, \"47\": 1, \"16\": 1}, \"23\": {\"23\": 124}, \"37\": {\"37\": 24}, \"34\": {\"34\": 36}, \"4\": {\"4\": 100}, \"6\": {\"6\": 125, \"9\": 1, \"17\": 1, \"20\": 1}, \"48\": {\"48\": 134, \"1\": 2}, \"44\": {\"44\": 138}, \"40\": {\"40\": 124}, \"12\": {\"12\": 96}, \"30\": {\"30\": 128}, \"39\": {\"39\": 20}, \"45\": {\"45\": 123, \"53\": 1}, \"36\": {\"36\": 92}, \"27\": {\"27\": 140}, \"32\": {\"32\": 32}, \"52\": {\"52\": 130}, \"0\": {\"0\": 124}, \"26\": {\"26\": 24}, \"1\": {\"1\": 148}, \"53\": {\"53\": 146}, \"25\": {\"25\": 144}, \"24\": {\"24\": 80}, \"7\": {\"7\": 32}, \"18\": {\"18\": 64}, \"20\": {\"20\": 144}, \"33\": {\"33\": 32}, \"55\": {\"55\": 140}, \"41\": {\"41\": 28}, \"42\": {\"42\": 39, \"45\": 1}, \"49\": {\"49\": 36}, \"13\": {\"13\": 148}, \"38\": {\"38\": 32}, \"2\": {\"2\": 28}, \"47\": {\"47\": 100}, \"17\": {\"17\": 116}, \"11\": {\"11\": 153, \"15\": 1}, \"29\": {\"29\": 132}, \"50\": {\"50\": 137, \"18\": 1}, \"56\": {\"56\": 148}, \"15\": {\"15\": 142}}, \"C_2\": {\"49\": {\"49\": 24}, \"13\": {\"13\": 116}, \"37\": {\"37\": 36}, \"41\": {\"41\": 20}, \"15\": {\"15\": 142}, \"56\": {\"56\": 141, \"45\": 1}, \"14\": {\"14\": 21, \"55\": 1, \"3\": 1, \"42\": 1}, \"3\": {\"3\": 92}, \"38\": {\"38\": 20}, \"43\": {\"43\": 138}, \"33\": {\"33\": 27, \"35\": 1}, \"47\": {\"47\": 138}, \"30\": {\"30\": 143, \"16\": 1}, \"39\": {\"39\": 28}, \"12\": {\"12\": 92}, \"6\": {\"6\": 124}, \"51\": {\"51\": 134}, \"5\": {\"5\": 120}, \"34\": {\"34\": 28}, \"35\": {\"35\": 32}, \"0\": {\"0\": 48}, \"7\": {\"7\": 36}, \"24\": {\"24\": 96}, \"8\": {\"8\": 136}, \"20\": {\"20\": 124}, \"36\": {\"36\": 116}, \"42\": {\"42\": 36}, \"1\": {\"1\": 112}, \"4\": {\"4\": 148}, \"28\": {\"28\": 28}, \"50\": {\"50\": 136}, \"45\": {\"45\": 128}, \"18\": {\"18\": 48}, \"57\": {\"57\": 120}, \"46\": {\"46\": 128}, \"23\": {\"23\": 148}, \"27\": {\"27\": 138}, \"19\": {\"19\": 134}, \"22\": {\"22\": 136}, \"17\": {\"17\": 104}, \"55\": {\"55\": 136}, \"44\": {\"44\": 99, \"29\": 1}, \"26\": {\"26\": 24}, \"31\": {\"31\": 28}, \"16\": {\"16\": 130}, \"11\": {\"11\": 128}, \"25\": {\"25\": 126}, \"54\": {\"54\": 108}, \"32\": {\"32\": 28}, \"52\": {\"52\": 123, \"6\": 1}, \"40\": {\"40\": 132}, \"2\": {\"2\": 32}, \"10\": {\"10\": 110}, \"53\": {\"53\": 136}, \"9\": {\"9\": 150}, \"21\": {\"21\": 120}, \"48\": {\"48\": 138}, \"29\": {\"29\": 128}}, \"W_2\": {\"115\": {\"115\": 12}, \"34\": {\"34\": 28, \"110\": 2, \"124\": 1, \"6\": 1}, \"97\": {\"97\": 18, \"15\": 1, \"77\": 1}, \"100\": {\"100\": 16}, \"129\": {\"129\": 32}, \"90\": {\"90\": 142}, \"125\": {\"125\": 131, \"2\": 1}, \"7\": {\"7\": 125, \"18\": 1, \"24\": 2}, \"92\": {\"92\": 27, \"89\": 1}, \"114\": {\"114\": 115, \"107\": 1}, \"80\": {\"80\": 15, \"83\": 1}, \"16\": {\"16\": 115, \"123\": 1, \"40\": 2, \"27\": 1, \"24\": 1, \"88\": 1, \"8\": 1}, \"69\": {\"69\": 113, \"24\": 1, \"70\": 1, \"87\": 1}, \"102\": {\"102\": 114}, \"33\": {\"33\": 130}, \"17\": {\"17\": 15, \"27\": 1}, \"27\": {\"27\": 63, \"24\": 2, \"102\": 1, \"112\": 1, \"26\": 1}, \"117\": {\"117\": 104, \"12\": 1, \"24\": 1}, \"14\": {\"14\": 46, \"58\": 1, \"21\": 1}, \"86\": {\"86\": 32}, \"0\": {\"0\": 113, \"21\": 1, \"97\": 1, \"62\": 1}, \"62\": {\"62\": 136, \"23\": 1, \"24\": 1}, \"39\": {\"39\": 105, \"110\": 1, \"78\": 1, \"94\": 2, \"70\": 2, \"84\": 1}, \"19\": {\"19\": 27, \"110\": 1}, \"44\": {\"44\": 100}, \"104\": {\"104\": 20}, \"3\": {\"3\": 125, \"87\": 1, \"24\": 1, \"62\": 1, \"21\": 1, \"36\": 1}, \"10\": {\"10\": 51, \"62\": 1, \"41\": 1, \"97\": 1, \"21\": 1, \"7\": 1, \"78\": 1, \"87\": 1, \"36\": 1, \"102\": 1}, \"61\": {\"61\": 16, \"51\": 1, \"30\": 1, \"58\": 2}, \"111\": {\"111\": 114}, \"68\": {\"68\": 16}, \"101\": {\"101\": 142, \"69\": 1, \"110\": 1}, \"36\": {\"36\": 121, \"51\": 1, \"18\": 1, \"117\": 1, \"70\": 1, \"73\": 1, \"4\": 1, \"30\": 1}, \"120\": {\"120\": 20}, \"103\": {\"103\": 16}, \"47\": {\"47\": 12}, \"98\": {\"98\": 119, \"60\": 1}, \"76\": {\"76\": 16}, \"88\": {\"88\": 119, \"20\": 1, \"126\": 3, \"27\": 1}, \"93\": {\"93\": 136, \"118\": 1, \"24\": 1}, \"23\": {\"23\": 38, \"19\": 1, \"36\": 1, \"124\": 1, \"70\": 1, \"60\": 1, \"99\": 1}, \"108\": {\"108\": 123, \"40\": 1}, \"51\": {\"77\": 1, \"51\": 11, \"14\": 1, \"98\": 1, \"41\": 2, \"58\": 1, \"6\": 1, \"39\": 1, \"24\": 1}, \"13\": {\"13\": 13, \"36\": 1, \"118\": 2}, \"77\": {\"77\": 16}, \"46\": {\"46\": 16}, \"96\": {\"96\": 20}, \"119\": {\"119\": 19, \"1\": 1}, \"121\": {\"121\": 33, \"65\": 2, \"72\": 1}, \"54\": {\"54\": 18, \"28\": 1, \"118\": 1}, \"82\": {\"82\": 35, \"78\": 1}, \"12\": {\"12\": 85, \"62\": 1, \"24\": 1, \"127\": 1}, \"74\": {\"74\": 15, \"22\": 1}, \"66\": {\"66\": 18, \"24\": 1, \"27\": 1}, \"28\": {\"28\": 20}, \"52\": {\"52\": 18, \"21\": 1, \"107\": 1}, \"41\": {\"41\": 18, \"15\": 1, \"110\": 1}, \"81\": {\"81\": 24}, \"48\": {\"48\": 20}, \"113\": {\"113\": 70, \"62\": 1, \"84\": 1}, \"53\": {\"53\": 16}, \"15\": {\"15\": 115, \"97\": 1, \"9\": 1, \"111\": 2, \"36\": 1}, \"30\": {\"30\": 108, \"24\": 1, \"101\": 1, \"126\": 1, \"127\": 1}, \"43\": {\"43\": 120, \"21\": 1, \"70\": 1, \"107\": 1, \"40\": 1}, \"29\": {\"29\": 31, \"4\": 1}, \"109\": {\"109\": 95, \"110\": 1, \"120\": 1, \"70\": 1, \"84\": 2}, \"60\": {\"60\": 25, \"122\": 1, \"87\": 1, \"36\": 1}, \"70\": {\"70\": 113, \"25\": 1, \"31\": 1, \"49\": 1, \"71\": 1, \"21\": 3, \"84\": 1, \"3\": 1}, \"127\": {\"127\": 122, \"16\": 1, \"111\": 1}, \"32\": {\"32\": 25, \"52\": 1, \"68\": 1, \"14\": 1, \"101\": 1, \"95\": 1, \"10\": 2, \"0\": 1, \"72\": 1, \"62\": 2}, \"73\": {\"73\": 27, \"88\": 1}, \"50\": {\"50\": 13, \"69\": 1, \"62\": 1, \"78\": 1}, \"1\": {\"1\": 119, \"105\": 1, \"12\": 1, \"87\": 1, \"36\": 1, \"26\": 1}, \"106\": {\"106\": 116, \"36\": 2, \"19\": 1, \"62\": 1}, \"123\": {\"123\": 16}, \"79\": {\"79\": 16}, \"4\": {\"4\": 85, \"94\": 1, \"112\": 1, \"62\": 1}, \"2\": {\"2\": 28, \"117\": 2, \"26\": 2}, \"8\": {\"8\": 124, \"69\": 2, \"12\": 1, \"84\": 1}, \"83\": {\"83\": 40}, \"105\": {\"105\": 129, \"23\": 1}, \"5\": {\"5\": 107, \"21\": 1, \"70\": 2, \"23\": 1, \"102\": 1}, \"99\": {\"99\": 32}, \"25\": {\"25\": 15, \"2\": 1}, \"59\": {\"59\": 13, \"93\": 1, \"21\": 1, \"29\": 1}, \"42\": {\"42\": 26, \"83\": 1, \"53\": 1}, \"55\": {\"55\": 16}, \"75\": {\"75\": 16}, \"118\": {\"118\": 66, \"39\": 1, \"27\": 1}, \"95\": {\"95\": 32, \"62\": 1, \"13\": 1, \"40\": 2}, \"122\": {\"122\": 114, \"24\": 1, \"70\": 3, \"110\": 1, \"5\": 1}, \"20\": {\"20\": 16}, \"110\": {\"110\": 35, \"34\": 1, \"35\": 1, \"21\": 1, \"43\": 1, \"31\": 1}, \"65\": {\"65\": 20}, \"37\": {\"79\": 1, \"37\": 14, \"104\": 1}, \"64\": {\"64\": 16}, \"63\": {\"63\": 19, \"83\": 1}, \"40\": {\"40\": 128, \"12\": 1, \"24\": 1, \"69\": 3, \"70\": 1, \"18\": 1, \"73\": 1, \"71\": 1, \"110\": 1, \"102\": 1, \"4\": 1}, \"21\": {\"21\": 45, \"82\": 1, \"62\": 1, \"78\": 1}, \"11\": {\"11\": 76, \"71\": 1, \"68\": 1, \"47\": 1, \"18\": 1}, \"67\": {\"67\": 16}, \"91\": {\"91\": 26, \"25\": 1, \"18\": 1}, \"87\": {\"87\": 98, \"116\": 2, \"70\": 2, \"102\": 2, \"24\": 1, \"107\": 1, \"43\": 1, \"23\": 1, \"39\": 1, \"84\": 1, \"36\": 1, \"69\": 1}, \"89\": {\"89\": 33, \"98\": 1, \"92\": 2}, \"9\": {\"9\": 32}, \"124\": {\"124\": 114}, \"56\": {\"56\": 10, \"12\": 1, \"30\": 1}, \"38\": {\"38\": 16}, \"94\": {\"94\": 57, \"102\": 2, \"113\": 1, \"26\": 1, \"12\": 1, \"36\": 1, \"39\": 1}, \"6\": {\"6\": 29, \"45\": 1, \"97\": 1, \"51\": 1}, \"58\": {\"58\": 19, \"42\": 1}, \"22\": {\"22\": 20}, \"24\": {\"24\": 101, \"118\": 1, \"107\": 1, \"36\": 2, \"71\": 1, \"69\": 4, \"98\": 1, \"109\": 1}, \"57\": {\"57\": 20}, \"112\": {\"112\": 10, \"53\": 1, \"111\": 1, \"49\": 1, \"44\": 1, \"24\": 1, \"19\": 1}, \"116\": {\"116\": 24, \"107\": 1, \"1\": 1, \"78\": 1, \"70\": 1}, \"18\": {\"18\": 118, \"1\": 1, \"117\": 1, \"94\": 1, \"69\": 1, \"24\": 1, \"62\": 2, \"70\": 1, \"39\": 2}, \"49\": {\"49\": 19, \"51\": 1, \"11\": 1, \"5\": 1, \"68\": 1, \"59\": 1}, \"45\": {\"45\": 16}, \"107\": {\"107\": 52, \"49\": 1, \"0\": 1, \"36\": 2, \"4\": 2, \"62\": 1, \"61\": 1, \"110\": 1, \"15\": 1, \"31\": 1, \"109\": 1}, \"35\": {\"35\": 12}, \"78\": {\"78\": 40, \"118\": 1, \"70\": 1, \"94\": 1, \"95\": 1, \"36\": 1, \"40\": 2, \"21\": 1}, \"126\": {\"126\": 120}, \"85\": {\"85\": 32}, \"72\": {\"72\": 27, \"36\": 1}, \"26\": {\"26\": 120, \"102\": 2, \"70\": 1, \"18\": 1}, \"84\": {\"84\": 88, \"118\": 1, \"87\": 2, \"106\": 1}, \"128\": {\"128\": 20, \"114\": 1, \"97\": 2, \"101\": 1}, \"31\": {\"31\": 20}, \"71\": {\"71\": 98, \"40\": 1, \"11\": 1}}, \"C_1\": {\"9\": {\"9\": 142}, \"25\": {\"25\": 128}, \"41\": {\"41\": 24}, \"29\": {\"29\": 140}, \"46\": {\"46\": 128}, \"4\": {\"4\": 132}, \"31\": {\"31\": 28}, \"36\": {\"36\": 64}, \"20\": {\"20\": 128}, \"7\": {\"7\": 28}, \"6\": {\"6\": 94, \"2\": 1, \"46\": 1}, \"16\": {\"16\": 138}, \"17\": {\"17\": 64}, \"50\": {\"50\": 148}, \"57\": {\"57\": 144}, \"23\": {\"23\": 136}, \"3\": {\"3\": 126}, \"53\": {\"53\": 140}, \"49\": {\"49\": 32}, \"56\": {\"56\": 152}, \"51\": {\"51\": 142}, \"26\": {\"26\": 24}, \"43\": {\"43\": 144}, \"22\": {\"22\": 134, \"24\": 2}, \"45\": {\"45\": 146}, \"13\": {\"13\": 152}, \"12\": {\"12\": 116}, \"54\": {\"54\": 104}, \"24\": {\"24\": 106, \"21\": 2}, \"44\": {\"44\": 136}, \"28\": {\"28\": 28}, \"33\": {\"33\": 32}, \"38\": {\"38\": 24}, \"0\": {\"0\": 144}, \"47\": {\"47\": 154}, \"42\": {\"42\": 40}, \"34\": {\"34\": 24}, \"48\": {\"48\": 142}, \"35\": {\"35\": 36}, \"2\": {\"2\": 36}, \"30\": {\"30\": 120}, \"18\": {\"18\": 72}, \"37\": {\"37\": 32}, \"1\": {\"1\": 100}, \"11\": {\"11\": 138}, \"55\": {\"55\": 130}, \"15\": {\"15\": 150}, \"10\": {\"10\": 96}, \"27\": {\"27\": 160}, \"19\": {\"19\": 146}, \"14\": {\"8\": 2, \"14\": 18, \"18\": 1, \"30\": 2, \"6\": 1}, \"8\": {\"8\": 140}, \"5\": {\"5\": 136}, \"39\": {\"39\": 28}, \"52\": {\"52\": 122}, \"21\": {\"21\": 124}, \"40\": {\"40\": 152}, \"32\": {\"32\": 32}}, \"C_3\": {\"56\": {\"56\": 120}, \"4\": {\"4\": 146}, \"34\": {\"34\": 32}, \"52\": {\"52\": 136}, \"32\": {\"32\": 28}, \"46\": {\"46\": 135, \"20\": 1}, \"12\": {\"12\": 92}, \"20\": {\"20\": 132}, \"54\": {\"54\": 100}, \"22\": {\"22\": 140}, \"26\": {\"26\": 24}, \"31\": {\"31\": 28}, \"10\": {\"10\": 64}, \"27\": {\"27\": 144}, \"40\": {\"40\": 136}, \"28\": {\"28\": 28}, \"5\": {\"5\": 116}, \"30\": {\"30\": 120}, \"7\": {\"7\": 36}, \"18\": {\"18\": 84}, \"39\": {\"39\": 16}, \"50\": {\"50\": 136}, \"49\": {\"49\": 20}, \"43\": {\"43\": 122}, \"29\": {\"29\": 114}, \"35\": {\"35\": 28}, \"13\": {\"13\": 124}, \"36\": {\"36\": 100}, \"11\": {\"11\": 146}, \"57\": {\"57\": 124}, \"9\": {\"9\": 130}, \"25\": {\"25\": 130}, \"16\": {\"16\": 126}, \"53\": {\"53\": 118}, \"33\": {\"33\": 28}, \"51\": {\"51\": 128}, \"44\": {\"44\": 88}, \"48\": {\"48\": 114}, \"6\": {\"6\": 88}, \"23\": {\"23\": 144}, \"1\": {\"1\": 100}, \"17\": {\"17\": 108}, \"21\": {\"21\": 122}, \"14\": {\"14\": 36, \"43\": 1, \"5\": 1, \"3\": 2}, \"55\": {\"55\": 144}, \"41\": {\"41\": 28}, \"3\": {\"3\": 138}, \"38\": {\"38\": 28}, \"2\": {\"2\": 32}, \"8\": {\"8\": 142}, \"37\": {\"37\": 28}, \"45\": {\"45\": 60}, \"42\": {\"42\": 28}, \"24\": {\"24\": 104}, \"15\": {\"15\": 136}, \"0\": {\"0\": 124}, \"47\": {\"47\": 92}, \"19\": {\"19\": 120}}, \"W_1\": {\"22\": {\"22\": 16}, \"58\": {\"58\": 12}, \"109\": {\"109\": 124}, \"77\": {\"77\": 16}, \"74\": {\"74\": 16}, \"10\": {\"10\": 112, \"85\": 2, \"0\": 5, \"69\": 1}, \"70\": {\"70\": 122, \"128\": 1, \"84\": 1, \"12\": 1, \"106\": 1, \"62\": 1, \"108\": 1}, \"84\": {\"84\": 108}, \"52\": {\"52\": 20}, \"20\": {\"20\": 15, \"102\": 1}, \"14\": {\"14\": 95, \"122\": 1}, \"37\": {\"37\": 16}, \"42\": {\"42\": 23, \"2\": 2, \"49\": 1, \"124\": 1, \"95\": 1}, \"99\": {\"99\": 24}, \"35\": {\"35\": 12}, \"62\": {\"62\": 119, \"26\": 1}, \"61\": {\"61\": 12}, \"7\": {\"7\": 141, \"93\": 1}, \"69\": {\"69\": 101, \"26\": 1, \"122\": 1, \"36\": 1}, \"55\": {\"55\": 12}, \"41\": {\"41\": 16}, \"120\": {\"120\": 20}, \"123\": {\"123\": 16}, \"97\": {\"97\": 14, \"78\": 1, \"42\": 1, \"24\": 2, \"122\": 1, \"95\": 1}, \"102\": {\"102\": 118, \"16\": 1, \"69\": 1}, \"60\": {\"20\": 1, \"120\": 1, \"60\": 5, \"82\": 1, \"13\": 2, \"42\": 2, \"109\": 1, \"21\": 1, \"19\": 1, \"30\": 1}, \"127\": {\"127\": 104, \"4\": 1, \"122\": 2, \"129\": 1}, \"32\": {\"32\": 30, \"127\": 2}, \"3\": {\"3\": 85, \"85\": 1, \"0\": 1, \"87\": 1}, \"8\": {\"8\": 122}, \"129\": {\"129\": 25, \"2\": 1, \"102\": 1, \"123\": 1}, \"119\": {\"119\": 16}, \"21\": {\"21\": 35, \"70\": 1, \"78\": 1, \"14\": 1, \"83\": 1, \"84\": 1}, \"53\": {\"53\": 20}, \"28\": {\"28\": 20}, \"117\": {\"117\": 144}, \"112\": {\"112\": 16}, \"126\": {\"126\": 131, \"109\": 1, \"40\": 1, \"122\": 1}, \"30\": {\"30\": 52}, \"105\": {\"105\": 80, \"102\": 2, \"129\": 1, \"40\": 1}, \"29\": {\"29\": 28}, \"57\": {\"57\": 12}, \"93\": {\"93\": 139, \"87\": 1}, \"17\": {\"17\": 15, \"78\": 1}, \"44\": {\"44\": 76}, \"63\": {\"63\": 16}, \"87\": {\"87\": 106, \"88\": 1, \"108\": 1}, \"0\": {\"0\": 82, \"122\": 1, \"10\": 1}, \"96\": {\"96\": 19, \"91\": 1}, \"98\": {\"98\": 108}, \"75\": {\"75\": 16}, \"78\": {\"78\": 10, \"43\": 4, \"87\": 1, \"105\": 1}, \"116\": {\"116\": 30, \"34\": 1, \"94\": 1}, \"114\": {\"114\": 126, \"3\": 1, \"4\": 1}, \"103\": {\"103\": 16}, \"50\": {\"50\": 16}, \"124\": {\"124\": 128}, \"5\": {\"5\": 86, \"27\": 1, \"14\": 1}, \"73\": {\"73\": 19, \"93\": 1}, \"81\": {\"81\": 28}, \"49\": {\"49\": 15, \"70\": 3, \"30\": 1, \"42\": 1}, \"16\": {\"16\": 105, \"122\": 1, \"107\": 1, \"27\": 1}, \"101\": {\"101\": 124}, \"125\": {\"125\": 118}, \"65\": {\"66\": 1, \"65\": 4, \"67\": 1, \"45\": 1, \"82\": 1, \"74\": 2, \"76\": 1, \"115\": 1}, \"66\": {\"66\": 16}, \"79\": {\"79\": 12}, \"39\": {\"39\": 102, \"93\": 1, \"83\": 1}, \"104\": {\"104\": 16}, \"91\": {\"91\": 28}, \"25\": {\"25\": 16}, \"64\": {\"64\": 16}, \"34\": {\"60\": 2, \"34\": 24, \"42\": 1, \"70\": 1, \"6\": 3, \"98\": 1}, \"82\": {\"82\": 36}, \"18\": {\"18\": 124}, \"43\": {\"43\": 127, \"6\": 1}, \"47\": {\"47\": 12}, \"108\": {\"108\": 122, \"24\": 1, \"69\": 1}, \"111\": {\"111\": 107, \"93\": 1}, \"23\": {\"23\": 13, \"4\": 1, \"86\": 2, \"6\": 2, \"32\": 1, \"55\": 1, \"53\": 2, \"38\": 1, \"127\": 1}, \"90\": {\"90\": 157, \"122\": 1, \"124\": 1, \"102\": 1}, \"4\": {\"4\": 99, \"27\": 1}, \"92\": {\"92\": 28}, \"2\": {\"2\": 24, \"33\": 1, \"82\": 3, \"11\": 3, \"18\": 1}, \"45\": {\"70\": 1, \"45\": 5, \"104\": 1, \"42\": 1, \"102\": 1, \"46\": 1, \"43\": 1, \"124\": 1}, \"68\": {\"68\": 16}, \"26\": {\"26\": 128}, \"38\": {\"38\": 16}, \"40\": {\"40\": 140, \"105\": 1, \"4\": 1}, \"80\": {\"80\": 15, \"73\": 1}, \"107\": {\"107\": 118, \"65\": 1, \"102\": 1, \"39\": 1, \"69\": 1}, \"94\": {\"94\": 92}, \"115\": {\"115\": 12}, \"46\": {\"46\": 5, \"30\": 1, \"12\": 2, \"62\": 1, \"70\": 2, \"94\": 1}, \"72\": {\"72\": 32}, \"19\": {\"19\": 28}, \"100\": {\"100\": 14, \"65\": 1, \"24\": 1}, \"76\": {\"76\": 15, \"88\": 1}, \"106\": {\"106\": 131, \"68\": 1}, \"88\": {\"88\": 128, \"27\": 1, \"36\": 1}, \"15\": {\"15\": 98, \"111\": 4, \"12\": 1, \"122\": 1}, \"54\": {\"54\": 14, \"60\": 1, \"67\": 1}, \"13\": {\"13\": 16}, \"51\": {\"51\": 16}, \"24\": {\"24\": 90, \"102\": 1, \"108\": 1}, \"48\": {\"48\": 12}, \"85\": {\"85\": 32}, \"33\": {\"33\": 140}, \"71\": {\"71\": 104, \"31\": 1, \"117\": 1, \"6\": 1, \"1\": 1}, \"6\": {\"6\": 28, \"23\": 1, \"98\": 1, \"58\": 1, \"52\": 1}, \"83\": {\"83\": 26, \"69\": 1, \"118\": 1}, \"121\": {\"121\": 30, \"16\": 2}, \"31\": {\"31\": 15, \"122\": 1}, \"67\": {\"109\": 1, \"67\": 15}, \"1\": {\"1\": 135, \"18\": 1}, \"27\": {\"27\": 91, \"107\": 1}, \"118\": {\"118\": 82, \"87\": 1, \"103\": 1}, \"56\": {\"56\": 12}, \"36\": {\"36\": 125, \"43\": 1, \"88\": 2}, \"11\": {\"11\": 125, \"88\": 1}, \"110\": {\"110\": 120, \"26\": 1, \"18\": 1}, \"89\": {\"89\": 36}, \"113\": {\"113\": 112, \"6\": 1, \"40\": 2, \"33\": 1, \"69\": 1, \"26\": 1}, \"59\": {\"59\": 12}, \"9\": {\"9\": 31, \"26\": 1}, \"86\": {\"86\": 34, \"94\": 1, \"10\": 1}, \"12\": {\"12\": 100, \"87\": 1, \"126\": 1, \"24\": 1, \"26\": 1}, \"122\": {\"122\": 87, \"43\": 1}, \"128\": {\"128\": 21, \"70\": 2, \"82\": 1}, \"95\": {\"95\": 35, \"24\": 1}}, \"O_14\": {\"15\": {\"7\": 20, \"15\": 66, \"4\": 28, \"2\": 15, \"14\": 10, \"3\": 7, \"13\": 30, \"5\": 10, \"10\": 15, \"6\": 27, \"1\": 9, \"0\": 2, \"11\": 1}, \"5\": {\"11\": 9, \"0\": 15, \"1\": 18, \"10\": 23, \"9\": 3, \"4\": 32, \"15\": 20, \"3\": 31, \"5\": 23, \"7\": 23, \"14\": 9, \"6\": 12, \"13\": 7, \"2\": 14, \"8\": 1}, \"7\": {\"3\": 14, \"2\": 15, \"13\": 12, \"7\": 45, \"4\": 37, \"0\": 9, \"15\": 19, \"5\": 24, \"14\": 9, \"10\": 14, \"1\": 35, \"8\": 3, \"6\": 3, \"11\": 1}, \"4\": {\"4\": 36, \"10\": 18, \"1\": 15, \"5\": 33, \"3\": 24, \"7\": 28, \"11\": 9, \"15\": 7, \"13\": 12, \"14\": 23, \"9\": 2, \"0\": 16, \"2\": 10, \"6\": 5, \"8\": 1, \"12\": 1}, \"10\": {\"11\": 18, \"0\": 25, \"2\": 23, \"10\": 22, \"3\": 27, \"8\": 1, \"13\": 11, \"5\": 26, \"1\": 13, \"14\": 15, \"6\": 16, \"4\": 29, \"7\": 8, \"9\": 3, \"12\": 1, \"15\": 2}, \"11\": {\"11\": 47, \"0\": 41, \"13\": 6, \"9\": 27, \"3\": 17, \"14\": 11, \"12\": 7, \"1\": 14, \"10\": 17, \"7\": 7, \"8\": 7, \"4\": 12, \"6\": 2, \"5\": 16, \"2\": 9}, \"12\": {\"12\": 100, \"11\": 28, \"9\": 68, \"8\": 31, \"5\": 2, \"0\": 5, \"4\": 1, \"1\": 2, \"10\": 2, \"14\": 1}, \"0\": {\"0\": 24, \"8\": 9, \"3\": 23, \"5\": 29, \"11\": 31, \"10\": 22, \"4\": 12, \"2\": 17, \"7\": 12, \"9\": 14, \"13\": 3, \"14\": 10, \"1\": 22, \"12\": 6, \"6\": 4, \"15\": 2}, \"14\": {\"11\": 19, \"4\": 17, \"14\": 32, \"13\": 18, \"2\": 31, \"0\": 12, \"3\": 14, \"6\": 25, \"10\": 21, \"5\": 22, \"1\": 13, \"15\": 6, \"7\": 9, \"9\": 1}, \"8\": {\"9\": 55, \"4\": 9, \"5\": 10, \"11\": 16, \"8\": 73, \"1\": 18, \"7\": 4, \"0\": 10, \"3\": 12, \"12\": 27, \"10\": 3, \"15\": 1, \"2\": 2}, \"13\": {\"6\": 32, \"2\": 34, \"13\": 46, \"3\": 15, \"4\": 15, \"14\": 29, \"7\": 9, \"5\": 12, \"11\": 4, \"1\": 2, \"10\": 24, \"15\": 16, \"0\": 2}, \"6\": {\"6\": 53, \"10\": 23, \"13\": 55, \"2\": 30, \"14\": 27, \"7\": 10, \"5\": 6, \"4\": 10, \"11\": 1, \"3\": 8, \"0\": 3, \"15\": 13, \"1\": 1}, \"1\": {\"1\": 33, \"10\": 19, \"4\": 31, \"2\": 13, \"7\": 28, \"11\": 14, \"5\": 22, \"14\": 7, \"3\": 25, \"0\": 21, \"9\": 3, \"8\": 9, \"15\": 6, \"6\": 6, \"13\": 3}, \"3\": {\"10\": 36, \"2\": 23, \"14\": 20, \"7\": 8, \"5\": 30, \"0\": 19, \"4\": 17, \"3\": 28, \"6\": 6, \"11\": 18, \"1\": 18, \"15\": 5, \"13\": 8, \"9\": 4}, \"9\": {\"0\": 14, \"11\": 24, \"8\": 55, \"12\": 57, \"7\": 3, \"9\": 55, \"1\": 8, \"3\": 4, \"10\": 8, \"4\": 4, \"5\": 5, \"14\": 1, \"2\": 2}, \"2\": {\"1\": 7, \"10\": 18, \"6\": 23, \"5\": 30, \"7\": 8, \"11\": 10, \"8\": 1, \"14\": 35, \"2\": 25, \"15\": 11, \"3\": 26, \"13\": 23, \"4\": 16, \"0\": 7}}, \"O_20\": {\"4\": {\"1\": 14, \"14\": 23, \"11\": 5, \"3\": 15, \"6\": 22, \"8\": 20, \"9\": 12, \"5\": 12, \"7\": 15, \"10\": 28, \"2\": 15, \"4\": 27, \"0\": 10, \"13\": 3, \"12\": 13, \"15\": 6}, \"10\": {\"14\": 29, \"4\": 24, \"11\": 3, \"6\": 25, \"9\": 17, \"5\": 10, \"7\": 20, \"8\": 21, \"10\": 36, \"2\": 11, \"3\": 19, \"12\": 8, \"0\": 5, \"1\": 10, \"15\": 1, \"13\": 1}, \"15\": {\"5\": 21, \"15\": 27, \"12\": 22, \"3\": 13, \"11\": 22, \"0\": 26, \"8\": 11, \"2\": 19, \"9\": 22, \"1\": 16, \"4\": 5, \"10\": 4, \"7\": 10, \"13\": 17, \"14\": 3, \"6\": 2}, \"0\": {\"5\": 16, \"0\": 24, \"8\": 16, \"14\": 3, \"7\": 21, \"11\": 11, \"1\": 25, \"4\": 9, \"12\": 10, \"13\": 26, \"15\": 23, \"9\": 12, \"2\": 21, \"3\": 16, \"10\": 3, \"6\": 4}, \"6\": {\"9\": 11, \"4\": 23, \"1\": 6, \"11\": 5, \"5\": 9, \"0\": 11, \"7\": 27, \"10\": 26, \"12\": 7, \"8\": 22, \"6\": 28, \"14\": 28, \"2\": 12, \"3\": 20, \"15\": 3, \"13\": 2}, \"3\": {\"2\": 19, \"0\": 12, \"5\": 14, \"3\": 12, \"7\": 16, \"12\": 20, \"11\": 10, \"10\": 18, \"13\": 14, \"15\": 15, \"8\": 15, \"1\": 18, \"9\": 22, \"14\": 11, \"4\": 13, \"6\": 11}, \"7\": {\"5\": 12, \"4\": 14, \"11\": 22, \"1\": 14, \"3\": 18, \"6\": 12, \"9\": 31, \"13\": 8, \"8\": 13, \"15\": 18, \"7\": 18, \"12\": 10, \"0\": 14, \"2\": 24, \"10\": 7, \"14\": 5}, \"2\": {\"4\": 8, \"1\": 19, \"5\": 17, \"14\": 11, \"8\": 9, \"3\": 23, \"13\": 16, \"11\": 14, \"2\": 16, \"7\": 23, \"12\": 19, \"15\": 15, \"9\": 16, \"6\": 11, \"10\": 4, \"0\": 19}, \"8\": {\"8\": 28, \"1\": 5, \"12\": 20, \"14\": 24, \"9\": 18, \"11\": 7, \"5\": 12, \"15\": 12, \"0\": 14, \"10\": 12, \"2\": 12, \"3\": 12, \"7\": 19, \"13\": 6, \"6\": 22, \"4\": 17}, \"11\": {\"2\": 18, \"7\": 18, \"0\": 18, \"13\": 21, \"5\": 10, \"4\": 5, \"6\": 11, \"11\": 44, \"8\": 8, \"12\": 15, \"3\": 10, \"15\": 21, \"9\": 19, \"1\": 14, \"14\": 7, \"10\": 1}, \"14\": {\"4\": 33, \"7\": 16, \"10\": 35, \"6\": 28, \"5\": 7, \"9\": 17, \"2\": 15, \"12\": 7, \"8\": 28, \"14\": 30, \"3\": 9, \"15\": 6, \"0\": 5, \"1\": 1, \"11\": 3}, \"12\": {\"6\": 6, \"10\": 12, \"12\": 12, \"8\": 10, \"3\": 24, \"7\": 20, \"4\": 15, \"2\": 22, \"9\": 10, \"11\": 7, \"15\": 27, \"0\": 16, \"1\": 20, \"5\": 24, \"13\": 12, \"14\": 3}, \"13\": {\"0\": 20, \"9\": 18, \"11\": 19, \"15\": 24, \"2\": 14, \"8\": 8, \"13\": 29, \"12\": 19, \"5\": 18, \"3\": 19, \"7\": 21, \"1\": 16, \"6\": 2, \"14\": 7, \"10\": 4, \"4\": 2}, \"9\": {\"1\": 13, \"7\": 22, \"11\": 16, \"12\": 15, \"0\": 21, \"4\": 13, \"9\": 21, \"2\": 17, \"8\": 14, \"15\": 18, \"6\": 10, \"13\": 16, \"5\": 11, \"3\": 19, \"14\": 7, \"10\": 7}, \"5\": {\"13\": 21, \"4\": 8, \"6\": 9, \"9\": 15, \"0\": 20, \"7\": 24, \"8\": 19, \"11\": 14, \"5\": 16, \"15\": 16, \"10\": 9, \"14\": 10, \"12\": 13, \"1\": 14, \"3\": 18, \"2\": 14}, \"1\": {\"15\": 23, \"1\": 16, \"12\": 14, \"9\": 21, \"3\": 18, \"0\": 18, \"5\": 19, \"2\": 21, \"14\": 6, \"13\": 27, \"7\": 21, \"11\": 12, \"8\": 10, \"10\": 4, \"6\": 5, \"4\": 5}}, \"O_50\": {\"5\": {\"6\": 27, \"5\": 43, \"4\": 22, \"7\": 29, \"13\": 28, \"11\": 13, \"1\": 21, \"10\": 10, \"9\": 10, \"8\": 6, \"15\": 21, \"0\": 4, \"3\": 2, \"14\": 4}, \"12\": {\"14\": 54, \"11\": 30, \"13\": 3, \"10\": 5, \"6\": 9, \"15\": 5, \"2\": 16, \"9\": 30, \"1\": 12, \"12\": 50, \"0\": 14, \"5\": 4, \"8\": 2, \"4\": 4, \"7\": 2}, \"14\": {\"14\": 58, \"1\": 15, \"0\": 20, \"12\": 54, \"10\": 10, \"9\": 9, \"6\": 11, \"11\": 11, \"13\": 9, \"2\": 23, \"5\": 5, \"15\": 5, \"7\": 1, \"4\": 6, \"8\": 3}, \"4\": {\"15\": 35, \"1\": 32, \"5\": 28, \"7\": 21, \"13\": 27, \"4\": 34, \"11\": 15, \"6\": 17, \"10\": 8, \"9\": 12, \"3\": 5, \"14\": 3, \"12\": 2, \"0\": 1}, \"13\": {\"7\": 28, \"5\": 24, \"1\": 22, \"15\": 24, \"6\": 31, \"13\": 33, \"9\": 7, \"10\": 18, \"4\": 17, \"11\": 8, \"0\": 10, \"8\": 6, \"14\": 3, \"3\": 8, \"2\": 1}, \"10\": {\"6\": 12, \"8\": 35, \"10\": 41, \"14\": 5, \"12\": 3, \"11\": 4, \"2\": 25, \"13\": 16, \"0\": 38, \"4\": 4, \"1\": 10, \"3\": 23, \"7\": 10, \"5\": 11, \"9\": 1, \"15\": 2}, \"9\": {\"11\": 37, \"12\": 20, \"1\": 30, \"15\": 26, \"4\": 18, \"14\": 28, \"9\": 47, \"13\": 7, \"5\": 6, \"10\": 6, \"6\": 11, \"0\": 1, \"7\": 1, \"8\": 1, \"2\": 1}, \"15\": {\"7\": 15, \"15\": 40, \"9\": 27, \"5\": 23, \"1\": 30, \"6\": 20, \"4\": 17, \"13\": 23, \"11\": 33, \"14\": 4, \"12\": 6, \"10\": 2}, \"6\": {\"5\": 22, \"15\": 22, \"13\": 40, \"1\": 24, \"11\": 9, \"6\": 30, \"2\": 8, \"0\": 11, \"7\": 18, \"4\": 17, \"3\": 2, \"8\": 3, \"10\": 13, \"9\": 7, \"14\": 7, \"12\": 7}, \"2\": {\"2\": 54, \"10\": 30, \"5\": 4, \"0\": 60, \"8\": 24, \"12\": 14, \"11\": 1, \"14\": 31, \"13\": 7, \"1\": 2, \"6\": 3, \"9\": 3, \"4\": 1, \"15\": 2, \"7\": 3, \"3\": 1}, \"0\": {\"10\": 35, \"2\": 50, \"14\": 24, \"8\": 37, \"0\": 51, \"7\": 4, \"3\": 8, \"12\": 6, \"13\": 6, \"4\": 2, \"5\": 3, \"9\": 3, \"1\": 2, \"6\": 6, \"11\": 1, \"15\": 2}, \"11\": {\"4\": 28, \"15\": 22, \"9\": 30, \"11\": 45, \"1\": 32, \"13\": 16, \"14\": 11, \"6\": 17, \"10\": 4, \"5\": 10, \"7\": 3, \"2\": 3, \"12\": 17, \"0\": 2}, \"3\": {\"10\": 29, \"3\": 109, \"7\": 10, \"0\": 17, \"2\": 4, \"8\": 56, \"13\": 8, \"5\": 6, \"6\": 1}, \"8\": {\"8\": 68, \"10\": 39, \"3\": 46, \"0\": 44, \"2\": 23, \"6\": 5, \"15\": 1, \"4\": 1, \"12\": 1, \"13\": 4, \"1\": 1, \"7\": 4, \"5\": 2, \"11\": 1}, \"7\": {\"5\": 33, \"7\": 42, \"1\": 12, \"10\": 21, \"6\": 32, \"13\": 24, \"0\": 7, \"4\": 18, \"15\": 15, \"2\": 1, \"3\": 13, \"11\": 8, \"8\": 8, \"14\": 3, \"9\": 3}, \"1\": {\"1\": 35, \"15\": 26, \"10\": 11, \"7\": 11, \"13\": 26, \"5\": 15, \"9\": 16, \"14\": 14, \"4\": 20, \"6\": 25, \"12\": 11, \"2\": 3, \"11\": 21, \"0\": 4, \"3\": 2}}, \"O_26\": {\"7\": {\"3\": 21, \"1\": 13, \"6\": 13, \"5\": 11, \"2\": 18, \"4\": 25, \"8\": 22, \"7\": 17, \"10\": 26, \"0\": 20, \"9\": 19, \"15\": 9, \"14\": 23, \"13\": 2, \"12\": 1}, \"6\": {\"7\": 14, \"10\": 17, \"9\": 22, \"4\": 14, \"3\": 14, \"6\": 28, \"15\": 27, \"11\": 6, \"0\": 14, \"1\": 7, \"8\": 19, \"5\": 8, \"14\": 9, \"13\": 12, \"2\": 12, \"12\": 17}, \"14\": {\"1\": 19, \"7\": 25, \"0\": 21, \"12\": 2, \"15\": 15, \"8\": 20, \"4\": 27, \"14\": 17, \"10\": 23, \"5\": 8, \"2\": 14, \"3\": 18, \"9\": 11, \"6\": 18, \"13\": 2}, \"15\": {\"12\": 11, \"15\": 25, \"3\": 17, \"1\": 5, \"5\": 13, \"8\": 22, \"6\": 26, \"13\": 16, \"9\": 19, \"2\": 28, \"10\": 15, \"4\": 5, \"11\": 3, \"7\": 12, \"0\": 19, \"14\": 4}, \"5\": {\"7\": 15, \"10\": 13, \"5\": 24, \"13\": 30, \"9\": 31, \"15\": 20, \"2\": 22, \"6\": 17, \"4\": 5, \"12\": 17, \"14\": 3, \"0\": 10, \"3\": 8, \"11\": 9, \"1\": 4, \"8\": 12}, \"10\": {\"8\": 30, \"13\": 4, \"5\": 9, \"12\": 4, \"3\": 26, \"6\": 20, \"14\": 24, \"10\": 23, \"7\": 17, \"0\": 22, \"4\": 11, \"2\": 15, \"1\": 14, \"9\": 10, \"15\": 11}, \"4\": {\"10\": 13, \"5\": 6, \"3\": 30, \"7\": 21, \"1\": 26, \"12\": 6, \"8\": 13, \"9\": 11, \"0\": 26, \"4\": 32, \"14\": 22, \"2\": 14, \"15\": 6, \"6\": 10, \"13\": 4}, \"11\": {\"11\": 122, \"7\": 2, \"12\": 36, \"5\": 9, \"13\": 34, \"2\": 5, \"15\": 6, \"8\": 2, \"6\": 7, \"9\": 11, \"3\": 1, \"10\": 4, \"0\": 1}, \"13\": {\"13\": 39, \"7\": 5, \"15\": 25, \"5\": 27, \"9\": 25, \"6\": 28, \"10\": 13, \"3\": 14, \"11\": 16, \"4\": 5, \"12\": 13, \"0\": 4, \"8\": 10, \"2\": 13, \"14\": 3}, \"2\": {\"11\": 3, \"13\": 8, \"15\": 18, \"7\": 25, \"5\": 19, \"10\": 20, \"2\": 16, \"9\": 23, \"0\": 14, \"3\": 21, \"14\": 17, \"8\": 17, \"12\": 3, \"4\": 14, \"6\": 13, \"1\": 9}, \"0\": {\"4\": 18, \"15\": 12, \"9\": 13, \"0\": 25, \"1\": 21, \"6\": 20, \"14\": 20, \"10\": 31, \"5\": 6, \"12\": 9, \"8\": 15, \"3\": 21, \"7\": 12, \"2\": 16, \"13\": 1}, \"12\": {\"12\": 51, \"6\": 22, \"5\": 18, \"15\": 14, \"9\": 24, \"11\": 26, \"14\": 6, \"2\": 6, \"4\": 8, \"13\": 26, \"8\": 13, \"10\": 10, \"3\": 4, \"0\": 3, \"7\": 4, \"1\": 5}, \"3\": {\"7\": 21, \"8\": 20, \"15\": 11, \"3\": 30, \"12\": 2, \"2\": 25, \"4\": 18, \"14\": 14, \"10\": 19, \"1\": 16, \"9\": 18, \"5\": 16, \"0\": 17, \"6\": 10, \"13\": 3}, \"9\": {\"7\": 14, \"15\": 21, \"14\": 9, \"0\": 19, \"3\": 16, \"2\": 19, \"6\": 18, \"4\": 9, \"9\": 31, \"12\": 11, \"5\": 23, \"8\": 18, \"13\": 16, \"1\": 4, \"10\": 12}, \"8\": {\"3\": 16, \"6\": 16, \"7\": 23, \"10\": 23, \"15\": 20, \"5\": 12, \"14\": 17, \"9\": 12, \"0\": 23, \"2\": 17, \"8\": 17, \"13\": 4, \"12\": 6, \"1\": 13, \"4\": 20, \"11\": 1}, \"1\": {\"6\": 7, \"4\": 26, \"7\": 25, \"3\": 23, \"1\": 31, \"5\": 5, \"12\": 2, \"2\": 17, \"9\": 9, \"8\": 11, \"14\": 30, \"0\": 21, \"13\": 1, \"10\": 26, \"15\": 6}}, \"O_32\": {\"7\": {\"4\": 29, \"2\": 32, \"11\": 14, \"7\": 36, \"0\": 28, \"14\": 33, \"3\": 7, \"13\": 17, \"5\": 21, \"9\": 9, \"8\": 13, \"12\": 1}, \"2\": {\"0\": 18, \"9\": 25, \"8\": 6, \"7\": 35, \"13\": 15, \"2\": 52, \"4\": 26, \"5\": 16, \"14\": 19, \"12\": 9, \"11\": 16, \"3\": 3}, \"5\": {\"15\": 2, \"3\": 31, \"11\": 17, \"0\": 23, \"13\": 24, \"14\": 19, \"2\": 11, \"4\": 28, \"5\": 33, \"8\": 16, \"7\": 28, \"9\": 8}, \"6\": {\"6\": 138, \"12\": 23, \"1\": 33, \"9\": 15, \"10\": 31}, \"13\": {\"8\": 35, \"3\": 31, \"13\": 41, \"0\": 25, \"5\": 28, \"4\": 20, \"7\": 12, \"14\": 11, \"2\": 15, \"9\": 4, \"11\": 18}, \"4\": {\"13\": 21, \"5\": 36, \"0\": 20, \"2\": 32, \"8\": 11, \"14\": 17, \"11\": 17, \"7\": 28, \"4\": 31, \"9\": 13, \"3\": 10, \"12\": 4}, \"3\": {\"3\": 66, \"7\": 8, \"11\": 17, \"5\": 26, \"13\": 33, \"8\": 48, \"0\": 8, \"15\": 11, \"14\": 11, \"4\": 11, \"2\": 1}, \"0\": {\"4\": 24, \"14\": 29, \"11\": 24, \"7\": 24, \"0\": 33, \"5\": 14, \"2\": 26, \"8\": 17, \"13\": 27, \"3\": 8, \"9\": 8, \"12\": 5, \"15\": 1}, \"9\": {\"12\": 65, \"0\": 10, \"2\": 29, \"13\": 3, \"9\": 81, \"10\": 8, \"7\": 9, \"4\": 18, \"6\": 1, \"5\": 5, \"14\": 7, \"11\": 2, \"8\": 1, \"1\": 1}, \"12\": {\"12\": 92, \"13\": 2, \"9\": 58, \"10\": 52, \"5\": 1, \"4\": 2, \"6\": 10, \"2\": 10, \"1\": 3, \"7\": 2, \"11\": 1, \"0\": 3, \"8\": 2, \"14\": 2}, \"8\": {\"13\": 42, \"8\": 43, \"5\": 27, \"14\": 14, \"2\": 6, \"4\": 13, \"11\": 18, \"0\": 18, \"7\": 17, \"3\": 34, \"15\": 6, \"9\": 1, \"12\": 1}, \"14\": {\"14\": 37, \"9\": 4, \"5\": 26, \"8\": 15, \"0\": 36, \"4\": 15, \"2\": 16, \"7\": 32, \"11\": 29, \"3\": 10, \"13\": 17, \"12\": 3}, \"15\": {\"15\": 199, \"13\": 5, \"5\": 3, \"8\": 9, \"3\": 21, \"4\": 1, \"0\": 2}, \"11\": {\"11\": 39, \"14\": 39, \"0\": 32, \"8\": 21, \"3\": 14, \"13\": 14, \"7\": 31, \"2\": 14, \"5\": 20, \"9\": 2, \"4\": 14}, \"10\": {\"1\": 54, \"10\": 130, \"6\": 14, \"12\": 31, \"9\": 10, \"5\": 1}, \"1\": {\"6\": 26, \"1\": 165, \"10\": 47, \"9\": 1, \"12\": 1}}, \"O_44\": {\"11\": {\"6\": 52, \"7\": 10, \"11\": 111, \"9\": 15, \"1\": 2, \"10\": 14, \"2\": 6, \"13\": 27, \"12\": 2, \"14\": 1}, \"7\": {\"13\": 22, \"9\": 31, \"6\": 18, \"7\": 36, \"10\": 40, \"12\": 22, \"2\": 36, \"3\": 6, \"11\": 4, \"4\": 1, \"1\": 22, \"5\": 1, \"14\": 1}, \"6\": {\"7\": 20, \"6\": 59, \"13\": 47, \"11\": 51, \"10\": 17, \"9\": 23, \"2\": 17, \"4\": 1, \"12\": 3, \"1\": 2}, \"12\": {\"2\": 29, \"12\": 64, \"1\": 38, \"13\": 9, \"10\": 27, \"3\": 26, \"4\": 5, \"7\": 17, \"15\": 1, \"9\": 18, \"5\": 1, \"11\": 1, \"6\": 3, \"14\": 1}, \"4\": {\"14\": 48, \"4\": 57, \"0\": 9, \"9\": 19, \"13\": 4, \"5\": 37, \"7\": 11, \"15\": 24, \"1\": 7, \"3\": 16, \"12\": 3, \"10\": 3, \"2\": 1, \"8\": 1}, \"13\": {\"13\": 49, \"10\": 20, \"6\": 35, \"11\": 25, \"9\": 30, \"7\": 34, \"1\": 8, \"2\": 24, \"14\": 4, \"12\": 4, \"4\": 6, \"3\": 1}, \"8\": {\"0\": 58, \"8\": 103, \"14\": 7, \"15\": 43, \"5\": 28, \"4\": 1}, \"5\": {\"5\": 56, \"8\": 38, \"4\": 34, \"3\": 4, \"0\": 27, \"15\": 44, \"14\": 29, \"9\": 3, \"13\": 3, \"12\": 1, \"10\": 1}, \"14\": {\"0\": 17, \"14\": 51, \"4\": 55, \"3\": 25, \"5\": 36, \"15\": 24, \"1\": 4, \"8\": 9, \"9\": 3, \"13\": 6, \"12\": 4, \"2\": 2, \"11\": 1, \"7\": 2, \"6\": 1}, \"3\": {\"2\": 12, \"3\": 62, \"1\": 48, \"4\": 14, \"10\": 19, \"9\": 15, \"12\": 42, \"7\": 13, \"5\": 1, \"0\": 1, \"14\": 8, \"13\": 3, \"15\": 2}, \"10\": {\"3\": 8, \"12\": 37, \"6\": 17, \"7\": 26, \"1\": 15, \"10\": 52, \"9\": 18, \"2\": 42, \"13\": 19, \"11\": 5, \"4\": 1}, \"1\": {\"10\": 29, \"1\": 57, \"2\": 21, \"7\": 27, \"12\": 44, \"9\": 15, \"15\": 2, \"3\": 32, \"4\": 5, \"6\": 1, \"13\": 4, \"14\": 3}, \"2\": {\"10\": 45, \"7\": 29, \"9\": 26, \"1\": 22, \"2\": 47, \"6\": 14, \"12\": 17, \"13\": 21, \"3\": 10, \"11\": 5, \"14\": 2, \"4\": 2}, \"15\": {\"15\": 52, \"14\": 29, \"0\": 42, \"8\": 37, \"5\": 40, \"4\": 30, \"3\": 6, \"1\": 2, \"13\": 1, \"7\": 1}, \"9\": {\"4\": 10, \"3\": 8, \"1\": 17, \"13\": 28, \"2\": 25, \"9\": 49, \"12\": 18, \"6\": 21, \"5\": 2, \"10\": 25, \"7\": 28, \"14\": 6, \"11\": 3}, \"0\": {\"0\": 57, \"15\": 48, \"14\": 31, \"4\": 15, \"5\": 32, \"8\": 56, \"1\": 1}}, \"O_8\": {\"10\": {\"1\": 17, \"11\": 13, \"8\": 11, \"13\": 27, \"6\": 25, \"5\": 24, \"0\": 27, \"4\": 17, \"7\": 17, \"2\": 7, \"14\": 17, \"3\": 4, \"10\": 27, \"15\": 2, \"12\": 5}, \"6\": {\"13\": 24, \"8\": 28, \"0\": 24, \"10\": 14, \"4\": 12, \"7\": 18, \"15\": 10, \"2\": 13, \"6\": 25, \"14\": 17, \"5\": 16, \"12\": 9, \"3\": 9, \"1\": 15, \"11\": 6}, \"13\": {\"5\": 26, \"1\": 14, \"14\": 15, \"6\": 17, \"13\": 34, \"2\": 17, \"4\": 23, \"10\": 24, \"11\": 5, \"7\": 20, \"15\": 6, \"0\": 23, \"12\": 4, \"8\": 6, \"3\": 6}, \"3\": {\"3\": 38, \"13\": 10, \"12\": 33, \"2\": 28, \"6\": 16, \"15\": 27, \"1\": 12, \"8\": 29, \"14\": 5, \"10\": 8, \"0\": 7, \"4\": 9, \"7\": 9, \"11\": 7, \"5\": 2}, \"9\": {\"9\": 200, \"5\": 14, \"7\": 1, \"10\": 9, \"14\": 4, \"0\": 5, \"13\": 4, \"1\": 2, \"11\": 1}, \"1\": {\"3\": 11, \"1\": 25, \"11\": 28, \"13\": 21, \"4\": 10, \"5\": 29, \"14\": 10, \"8\": 19, \"7\": 12, \"15\": 16, \"6\": 18, \"12\": 9, \"0\": 10, \"10\": 17, \"2\": 5}, \"5\": {\"5\": 44, \"1\": 22, \"11\": 15, \"10\": 27, \"0\": 13, \"13\": 21, \"6\": 13, \"7\": 14, \"4\": 26, \"2\": 4, \"14\": 24, \"9\": 1, \"3\": 3, \"15\": 5, \"8\": 6, \"12\": 2}, \"11\": {\"1\": 33, \"4\": 11, \"5\": 20, \"14\": 18, \"13\": 9, \"2\": 10, \"15\": 15, \"11\": 24, \"8\": 30, \"6\": 13, \"3\": 10, \"12\": 15, \"7\": 16, \"10\": 9, \"0\": 7}, \"4\": {\"8\": 19, \"4\": 20, \"2\": 11, \"7\": 24, \"5\": 27, \"13\": 20, \"15\": 7, \"0\": 15, \"14\": 16, \"12\": 6, \"10\": 23, \"1\": 18, \"11\": 10, \"6\": 16, \"3\": 8}, \"14\": {\"11\": 19, \"2\": 11, \"6\": 23, \"5\": 16, \"13\": 18, \"1\": 13, \"7\": 21, \"10\": 24, \"14\": 20, \"4\": 28, \"12\": 5, \"15\": 9, \"0\": 19, \"8\": 9, \"3\": 5}, \"12\": {\"11\": 17, \"12\": 36, \"2\": 14, \"1\": 15, \"15\": 32, \"3\": 30, \"8\": 43, \"5\": 4, \"6\": 21, \"7\": 6, \"4\": 8, \"13\": 4, \"14\": 4, \"0\": 3, \"10\": 3}, \"7\": {\"14\": 15, \"7\": 22, \"1\": 11, \"6\": 11, \"10\": 18, \"2\": 25, \"0\": 24, \"4\": 17, \"5\": 19, \"13\": 18, \"15\": 14, \"8\": 8, \"12\": 13, \"3\": 13, \"11\": 12}, \"0\": {\"10\": 21, \"14\": 19, \"3\": 6, \"0\": 31, \"2\": 18, \"4\": 27, \"6\": 27, \"13\": 30, \"7\": 23, \"5\": 19, \"1\": 8, \"8\": 2, \"11\": 4, \"12\": 4, \"15\": 1}, \"15\": {\"13\": 9, \"1\": 16, \"3\": 27, \"15\": 25, \"6\": 20, \"11\": 11, \"2\": 17, \"12\": 35, \"14\": 16, \"8\": 31, \"7\": 10, \"4\": 8, \"10\": 4, \"0\": 7, \"5\": 4}, \"2\": {\"4\": 15, \"8\": 20, \"0\": 17, \"1\": 6, \"15\": 13, \"6\": 21, \"7\": 13, \"14\": 8, \"3\": 31, \"13\": 15, \"5\": 12, \"2\": 38, \"10\": 10, \"12\": 15, \"11\": 6}, \"8\": {\"4\": 12, \"1\": 19, \"6\": 22, \"5\": 9, \"15\": 26, \"8\": 24, \"2\": 15, \"7\": 12, \"0\": 10, \"3\": 20, \"11\": 20, \"12\": 19, \"13\": 13, \"10\": 10, \"14\": 9}}, \"O_38\": {\"4\": {\"12\": 52, \"4\": 179, \"14\": 1, \"10\": 2, \"7\": 2, \"0\": 1, \"11\": 3}, \"7\": {\"8\": 29, \"5\": 26, \"7\": 46, \"0\": 34, \"14\": 13, \"11\": 5, \"10\": 29, \"13\": 9, \"3\": 19, \"15\": 6, \"12\": 11, \"9\": 5, \"4\": 4, \"2\": 1, \"1\": 1, \"6\": 2}, \"12\": {\"10\": 14, \"11\": 21, \"12\": 118, \"4\": 36, \"7\": 15, \"14\": 20, \"8\": 5, \"0\": 9, \"5\": 2}, \"10\": {\"15\": 13, \"8\": 21, \"5\": 20, \"10\": 36, \"3\": 6, \"9\": 3, \"13\": 10, \"0\": 23, \"7\": 26, \"11\": 20, \"14\": 31, \"2\": 14, \"12\": 12, \"6\": 1, \"1\": 2, \"4\": 2}, \"0\": {\"0\": 35, \"3\": 29, \"8\": 33, \"10\": 18, \"7\": 39, \"14\": 11, \"6\": 5, \"4\": 3, \"15\": 14, \"13\": 9, \"5\": 17, \"12\": 9, \"11\": 6, \"1\": 7, \"9\": 5}, \"1\": {\"2\": 24, \"1\": 68, \"6\": 35, \"5\": 16, \"9\": 19, \"0\": 8, \"15\": 37, \"13\": 19, \"8\": 9, \"10\": 4, \"14\": 1}, \"5\": {\"8\": 35, \"1\": 17, \"13\": 22, \"7\": 18, \"0\": 19, \"5\": 30, \"3\": 19, \"6\": 22, \"15\": 15, \"2\": 10, \"10\": 11, \"14\": 3, \"9\": 17, \"12\": 2}, \"15\": {\"1\": 29, \"6\": 21, \"13\": 25, \"5\": 23, \"2\": 26, \"9\": 16, \"8\": 16, \"15\": 39, \"0\": 12, \"3\": 10, \"10\": 10, \"11\": 2, \"14\": 7, \"7\": 3, \"12\": 1}, \"9\": {\"1\": 21, \"5\": 28, \"15\": 18, \"8\": 18, \"9\": 50, \"6\": 46, \"3\": 30, \"13\": 13, \"10\": 3, \"0\": 6, \"7\": 5, \"2\": 2}, \"11\": {\"14\": 57, \"8\": 4, \"11\": 75, \"10\": 20, \"12\": 29, \"4\": 17, \"2\": 19, \"0\": 4, \"15\": 4, \"13\": 5, \"7\": 4, \"6\": 1, \"5\": 1}, \"14\": {\"10\": 33, \"8\": 9, \"11\": 42, \"3\": 1, \"2\": 26, \"14\": 67, \"7\": 7, \"5\": 6, \"0\": 6, \"1\": 4, \"12\": 16, \"15\": 11, \"13\": 10, \"4\": 1, \"6\": 1}, \"6\": {\"1\": 36, \"9\": 48, \"6\": 56, \"7\": 5, \"0\": 7, \"5\": 16, \"15\": 30, \"8\": 19, \"3\": 6, \"2\": 3, \"13\": 13, \"10\": 1}, \"8\": {\"7\": 25, \"6\": 21, \"8\": 40, \"0\": 26, \"2\": 11, \"10\": 13, \"13\": 16, \"9\": 11, \"5\": 31, \"15\": 19, \"3\": 15, \"12\": 2, \"14\": 5, \"1\": 5}, \"3\": {\"8\": 19, \"7\": 34, \"3\": 69, \"2\": 3, \"0\": 35, \"6\": 15, \"5\": 19, \"9\": 17, \"1\": 3, \"10\": 6, \"13\": 9, \"15\": 6, \"14\": 2, \"12\": 3}, \"2\": {\"14\": 17, \"2\": 68, \"10\": 18, \"15\": 37, \"5\": 13, \"13\": 33, \"9\": 5, \"8\": 10, \"0\": 8, \"1\": 25, \"3\": 2, \"11\": 2, \"6\": 2}, \"13\": {\"9\": 11, \"3\": 10, \"2\": 33, \"14\": 14, \"5\": 16, \"13\": 36, \"0\": 13, \"6\": 15, \"8\": 16, \"1\": 21, \"15\": 34, \"10\": 14, \"11\": 4, \"7\": 3}}}, \"per_domain_accuracy\": {\"W_3\": {\"accuracy\": 0.9682041484716157, \"source?\": true}, \"W_4\": {\"accuracy\": 0.9538997933884298, \"source?\": true}, \"C_4\": {\"accuracy\": 0.9973802395209581, \"source?\": true}, \"C_5\": {\"accuracy\": 0.9956354748603352, \"source?\": true}, \"C_2\": {\"accuracy\": 0.9985714285714286, \"source?\": true}, \"W_2\": {\"accuracy\": 0.9550369198312236, \"source?\": true}, \"C_1\": {\"accuracy\": 0.9979619565217391, \"source?\": true}, \"C_3\": {\"accuracy\": 0.9990808823529411, \"source?\": true}, \"W_1\": {\"accuracy\": 0.9709821428571429, \"source?\": true}, \"O_14\": {\"accuracy\": 0.184375, \"source?\": false}, \"O_20\": {\"accuracy\": 0.1, \"source?\": false}, \"O_50\": {\"accuracy\": 0.203125, \"source?\": false}, \"O_26\": {\"accuracy\": 0.1375, \"source?\": false}, \"O_32\": {\"accuracy\": 0.31666666666666665, \"source?\": false}, \"O_44\": {\"accuracy\": 0.25052083333333336, \"source?\": false}, \"O_8\": {\"accuracy\": 0.16484375, \"source?\": false}, \"O_38\": {\"accuracy\": 0.2635416666666667, \"source?\": false}}}, \"history\": {\"epoch_indices\": [1, 2, 3, 4, 5], \"train_label_loss\": [0.10592643150086868, 0.06465107564261034, 0.052688922564877644, 0.04441088319367695, 0.03695179318567032], \"source_val_label_loss\": [0.09876226633787155, 0.06457067281007767, 0.061849165707826614, 0.06172653287649155, 0.0629991739988327], \"target_val_label_loss\": [2.4583797454833984, 2.4672486782073975, 2.6242666244506836, 2.572413206100464, 2.9871652126312256], \"source_val_acc_label\": [0.9791323448654585, 0.9854818780889621, 0.9853960735859418, 0.9855505216913784, 0.986013866007688], \"target_val_acc_label\": [0.20257161458333334, 0.19674479166666667, 0.16796875, 0.18356119791666667, 0.15416666666666667]}, \"dataset_metrics\": {\"source\": {\"train\": {\"n_unique_x\": 364219, \"n_unique_y\": 130, \"n_batch/episode\": 13141}, \"val\": {\"n_unique_x\": 77265, \"n_unique_y\": 130, \"n_batch/episode\": 1821}, \"test\": {\"n_unique_x\": 78390, \"n_unique_y\": 130, \"n_batch/episode\": 1852}}, \"target\": {\"train\": {\"n_unique_x\": 179200, \"n_unique_y\": 16, \"n_batch/episode\": 6720}, \"val\": {\"n_unique_x\": 38400, \"n_unique_y\": 16, \"n_batch/episode\": 960}, \"test\": {\"n_unique_x\": 38400, \"n_unique_y\": 16, \"n_batch/episode\": 960}}}}'"
      ]
     },
     "execution_count": 29,
     "metadata": {},
     "output_type": "execute_result"
    }
   ],
   "source": [
    "json.dumps(experiment)"
   ]
  }
 ],
 "metadata": {
  "celltoolbar": "Tags",
  "kernelspec": {
   "display_name": "Python 3 (ipykernel)",
   "language": "python",
   "name": "python3"
  },
  "language_info": {
   "codemirror_mode": {
    "name": "ipython",
    "version": 3
   },
   "file_extension": ".py",
   "mimetype": "text/x-python",
   "name": "python",
   "nbconvert_exporter": "python",
   "pygments_lexer": "ipython3",
   "version": "3.8.10"
  },
  "papermill": {
   "default_parameters": {},
   "duration": 2018.535704,
   "end_time": "2022-03-20T04:32:04.899949",
   "environment_variables": {},
   "exception": null,
   "input_path": "/mnt/wd500GB/CSC500/csc500-main/csc500-notebooks/templates/tl_ptn_template.ipynb",
   "output_path": "trial.ipynb",
   "parameters": {
    "parameters": {
     "BEST_MODEL_PATH": "./best_model.pth",
     "NUM_LOGS_PER_EPOCH": 10,
     "criteria_for_best": "target_accuracy",
     "dataset_seed": 420,
     "datasets": [
      {
       "domain_prefix": "C_",
       "domains": [
        1,
        2,
        3,
        4,
        5
       ],
       "episode_transforms": [],
       "labels": [
        "1-10.",
        "1-11.",
        "1-15.",
        "1-16.",
        "1-17.",
        "1-18.",
        "1-19.",
        "10-4.",
        "10-7.",
        "11-1.",
        "11-14.",
        "11-17.",
        "11-20.",
        "11-7.",
        "13-20.",
        "13-8.",
        "14-10.",
        "14-11.",
        "14-14.",
        "14-7.",
        "15-1.",
        "15-20.",
        "16-1.",
        "16-16.",
        "17-10.",
        "17-11.",
        "17-2.",
        "19-1.",
        "19-16.",
        "19-19.",
        "19-20.",
        "19-3.",
        "2-10.",
        "2-11.",
        "2-17.",
        "2-18.",
        "2-20.",
        "2-3.",
        "2-4.",
        "2-5.",
        "2-6.",
        "2-7.",
        "2-8.",
        "3-13.",
        "3-18.",
        "3-3.",
        "4-1.",
        "4-10.",
        "4-11.",
        "4-19.",
        "5-5.",
        "6-15.",
        "7-10.",
        "7-14.",
        "8-18.",
        "8-20.",
        "8-3.",
        "8-8."
       ],
       "num_examples_per_domain_per_label": -1,
       "pickle_path": "/mnt/wd500GB/CSC500/csc500-main/datasets/cores.stratified_ds.2022A.pkl",
       "source_or_target_dataset": "source",
       "x_transforms": [
        "unit_power"
       ]
      },
      {
       "domain_prefix": "W_",
       "domains": [
        1,
        2,
        3,
        4
       ],
       "episode_transforms": [],
       "labels": [
        "1-10",
        "1-12",
        "1-14",
        "1-16",
        "1-18",
        "1-19",
        "1-8",
        "10-11",
        "10-17",
        "10-4",
        "10-7",
        "11-1",
        "11-10",
        "11-19",
        "11-20",
        "11-4",
        "11-7",
        "12-19",
        "12-20",
        "12-7",
        "13-14",
        "13-18",
        "13-19",
        "13-20",
        "13-3",
        "13-7",
        "14-10",
        "14-11",
        "14-12",
        "14-13",
        "14-14",
        "14-19",
        "14-20",
        "14-7",
        "14-8",
        "14-9",
        "15-1",
        "15-19",
        "15-6",
        "16-1",
        "16-16",
        "16-19",
        "16-20",
        "17-10",
        "17-11",
        "18-1",
        "18-10",
        "18-11",
        "18-12",
        "18-13",
        "18-14",
        "18-15",
        "18-16",
        "18-17",
        "18-19",
        "18-2",
        "18-20",
        "18-4",
        "18-5",
        "18-7",
        "18-8",
        "18-9",
        "19-1",
        "19-10",
        "19-11",
        "19-12",
        "19-13",
        "19-14",
        "19-15",
        "19-19",
        "19-2",
        "19-20",
        "19-3",
        "19-4",
        "19-6",
        "19-7",
        "19-8",
        "19-9",
        "2-1",
        "2-13",
        "2-15",
        "2-3",
        "2-4",
        "2-5",
        "2-6",
        "2-7",
        "2-8",
        "20-1",
        "20-12",
        "20-14",
        "20-15",
        "20-16",
        "20-18",
        "20-19",
        "20-20",
        "20-3",
        "20-4",
        "20-5",
        "20-7",
        "20-8",
        "3-1",
        "3-13",
        "3-18",
        "3-2",
        "3-8",
        "4-1",
        "4-10",
        "4-11",
        "5-1",
        "5-5",
        "6-1",
        "6-15",
        "6-6",
        "7-10",
        "7-11",
        "7-12",
        "7-13",
        "7-14",
        "7-7",
        "7-8",
        "7-9",
        "8-1",
        "8-13",
        "8-14",
        "8-18",
        "8-20",
        "8-3",
        "8-8",
        "9-1",
        "9-7"
       ],
       "num_examples_per_domain_per_label": -1,
       "pickle_path": "/mnt/wd500GB/CSC500/csc500-main/datasets/wisig.node3-19.stratified_ds.2022A.pkl",
       "source_or_target_dataset": "source",
       "x_transforms": [
        "unit_power"
       ]
      },
      {
       "domain_prefix": "O_",
       "domains": [
        32,
        38,
        8,
        44,
        14,
        50,
        20,
        26
       ],
       "episode_transforms": [],
       "labels": [
        "3123D52",
        "3123D65",
        "3123D79",
        "3123D80",
        "3123D54",
        "3123D70",
        "3123D7B",
        "3123D89",
        "3123D58",
        "3123D76",
        "3123D7D",
        "3123EFE",
        "3123D64",
        "3123D78",
        "3123D7E",
        "3124E4A"
       ],
       "num_examples_per_domain_per_label": 2000,
       "pickle_path": "/mnt/wd500GB/CSC500/csc500-main/datasets/oracle.Run1_framed_2000Examples_stratified_ds.2022A.pkl",
       "source_or_target_dataset": "target",
       "x_transforms": [
        "unit_power"
       ]
      }
     ],
     "device": "cuda",
     "experiment_name": "tl_2v2:cores+wisig -> oracle.run1.framed",
     "lr": 0.0001,
     "n_epoch": 50,
     "n_query": 2,
     "n_shot": 3,
     "n_way": 16,
     "patience": 3,
     "seed": 420,
     "test_k_factor": 2,
     "torch_default_dtype": "torch.float32",
     "train_k_factor": 3,
     "val_k_factor": 2,
     "x_net": [
      {
       "class": "nnReshape",
       "kargs": {
        "shape": [
         -1,
         1,
         2,
         256
        ]
       }
      },
      {
       "class": "Conv2d",
       "kargs": {
        "bias": false,
        "in_channels": 1,
        "kernel_size": [
         1,
         7
        ],
        "out_channels": 256,
        "padding": [
         0,
         3
        ]
       }
      },
      {
       "class": "ReLU",
       "kargs": {
        "inplace": true
       }
      },
      {
       "class": "BatchNorm2d",
       "kargs": {
        "num_features": 256
       }
      },
      {
       "class": "Conv2d",
       "kargs": {
        "bias": true,
        "in_channels": 256,
        "kernel_size": [
         2,
         7
        ],
        "out_channels": 80,
        "padding": [
         0,
         3
        ]
       }
      },
      {
       "class": "ReLU",
       "kargs": {
        "inplace": true
       }
      },
      {
       "class": "BatchNorm2d",
       "kargs": {
        "num_features": 80
       }
      },
      {
       "class": "Flatten",
       "kargs": {}
      },
      {
       "class": "Linear",
       "kargs": {
        "in_features": 20480,
        "out_features": 256
       }
      },
      {
       "class": "ReLU",
       "kargs": {
        "inplace": true
       }
      },
      {
       "class": "BatchNorm1d",
       "kargs": {
        "num_features": 256
       }
      },
      {
       "class": "Linear",
       "kargs": {
        "in_features": 256,
        "out_features": 256
       }
      }
     ]
    }
   },
   "start_time": "2022-03-20T03:58:26.364245",
   "version": "2.3.4"
  }
 },
 "nbformat": 4,
 "nbformat_minor": 5
}