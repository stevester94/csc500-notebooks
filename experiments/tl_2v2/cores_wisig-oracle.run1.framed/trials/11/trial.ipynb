{
 "cells": [
  {
   "cell_type": "markdown",
   "id": "9fea5f46",
   "metadata": {
    "papermill": {
     "duration": 0.018866,
     "end_time": "2022-03-20T11:51:24.476474",
     "exception": false,
     "start_time": "2022-03-20T11:51:24.457608",
     "status": "completed"
    },
    "tags": []
   },
   "source": [
    "# Transfer Learning Template"
   ]
  },
  {
   "cell_type": "code",
   "execution_count": 1,
   "id": "0902182a",
   "metadata": {
    "execution": {
     "iopub.execute_input": "2022-03-20T11:51:24.516993Z",
     "iopub.status.busy": "2022-03-20T11:51:24.516512Z",
     "iopub.status.idle": "2022-03-20T11:51:25.474548Z",
     "shell.execute_reply": "2022-03-20T11:51:25.474774Z"
    },
    "papermill": {
     "duration": 0.985458,
     "end_time": "2022-03-20T11:51:25.474896",
     "exception": false,
     "start_time": "2022-03-20T11:51:24.489438",
     "status": "completed"
    },
    "tags": []
   },
   "outputs": [],
   "source": [
    "%load_ext autoreload\n",
    "%autoreload 2\n",
    "%matplotlib inline\n",
    "\n",
    "    \n",
    "import os, json, sys, time, random\n",
    "import numpy as np\n",
    "import torch\n",
    "from torch.optim import Adam\n",
    "from  easydict import EasyDict\n",
    "import matplotlib.pyplot as plt\n",
    "\n",
    "from steves_models.steves_ptn import Steves_Prototypical_Network\n",
    "\n",
    "from steves_utils.lazy_iterable_wrapper import Lazy_Iterable_Wrapper\n",
    "from steves_utils.iterable_aggregator import Iterable_Aggregator\n",
    "from steves_utils.ptn_train_eval_test_jig import  PTN_Train_Eval_Test_Jig\n",
    "from steves_utils.torch_sequential_builder import build_sequential\n",
    "from steves_utils.torch_utils import get_dataset_metrics, ptn_confusion_by_domain_over_dataloader\n",
    "from steves_utils.utils_v2 import (per_domain_accuracy_from_confusion, get_datasets_base_path)\n",
    "from steves_utils.PTN.utils import independent_accuracy_assesment\n",
    "\n",
    "from torch.utils.data import DataLoader\n",
    "\n",
    "from steves_utils.stratified_dataset.episodic_accessor import Episodic_Accessor_Factory\n",
    "\n",
    "from steves_utils.ptn_do_report import (\n",
    "    get_loss_curve,\n",
    "    get_results_table,\n",
    "    get_parameters_table,\n",
    "    get_domain_accuracies,\n",
    ")\n",
    "\n",
    "from steves_utils.transforms import get_chained_transform"
   ]
  },
  {
   "cell_type": "markdown",
   "id": "41c840b4",
   "metadata": {
    "papermill": {
     "duration": 0.01354,
     "end_time": "2022-03-20T11:51:25.502299",
     "exception": false,
     "start_time": "2022-03-20T11:51:25.488759",
     "status": "completed"
    },
    "tags": []
   },
   "source": [
    "# Allowed Parameters\n",
    "These are allowed parameters, not defaults\n",
    "Each of these values need to be present in the injected parameters (the notebook will raise an exception if they are not present)\n",
    "\n",
    "Papermill uses the cell tag \"parameters\" to inject the real parameters below this cell.\n",
    "Enable tags to see what I mean"
   ]
  },
  {
   "cell_type": "code",
   "execution_count": 2,
   "id": "fd44eb83",
   "metadata": {
    "execution": {
     "iopub.execute_input": "2022-03-20T11:51:25.532734Z",
     "iopub.status.busy": "2022-03-20T11:51:25.532468Z",
     "iopub.status.idle": "2022-03-20T11:51:25.546448Z",
     "shell.execute_reply": "2022-03-20T11:51:25.546658Z"
    },
    "papermill": {
     "duration": 0.030824,
     "end_time": "2022-03-20T11:51:25.546730",
     "exception": false,
     "start_time": "2022-03-20T11:51:25.515906",
     "status": "completed"
    },
    "tags": []
   },
   "outputs": [],
   "source": [
    "required_parameters = {\n",
    "    \"experiment_name\",\n",
    "    \"lr\",\n",
    "    \"device\",\n",
    "    \"seed\",\n",
    "    \"dataset_seed\",\n",
    "    \"n_shot\",\n",
    "    \"n_query\",\n",
    "    \"n_way\",\n",
    "    \"train_k_factor\",\n",
    "    \"val_k_factor\",\n",
    "    \"test_k_factor\",\n",
    "    \"n_epoch\",\n",
    "    \"patience\",\n",
    "    \"criteria_for_best\",\n",
    "    \"x_net\",\n",
    "    \"datasets\",\n",
    "    \"torch_default_dtype\",\n",
    "    \"NUM_LOGS_PER_EPOCH\",\n",
    "    \"BEST_MODEL_PATH\",\n",
    "    \"x_shape\",\n",
    "}"
   ]
  },
  {
   "cell_type": "code",
   "execution_count": 3,
   "id": "fa3f0049",
   "metadata": {
    "execution": {
     "iopub.execute_input": "2022-03-20T11:51:25.582795Z",
     "iopub.status.busy": "2022-03-20T11:51:25.582381Z",
     "iopub.status.idle": "2022-03-20T11:51:25.594899Z",
     "shell.execute_reply": "2022-03-20T11:51:25.595317Z"
    },
    "papermill": {
     "duration": 0.034566,
     "end_time": "2022-03-20T11:51:25.595438",
     "exception": false,
     "start_time": "2022-03-20T11:51:25.560872",
     "status": "completed"
    },
    "tags": [
     "parameters"
    ]
   },
   "outputs": [],
   "source": [
    "from steves_utils.CORES.utils import (\n",
    "    ALL_NODES,\n",
    "    ALL_NODES_MINIMUM_1000_EXAMPLES,\n",
    "    ALL_DAYS\n",
    ")\n",
    "\n",
    "from steves_utils.ORACLE.utils_v2 import (\n",
    "    ALL_DISTANCES_FEET_NARROWED,\n",
    "    ALL_RUNS,\n",
    "    ALL_SERIAL_NUMBERS,\n",
    ")\n",
    "\n",
    "standalone_parameters = {}\n",
    "standalone_parameters[\"experiment_name\"] = \"STANDALONE PTN\"\n",
    "standalone_parameters[\"lr\"] = 0.001\n",
    "standalone_parameters[\"device\"] = \"cuda\"\n",
    "\n",
    "standalone_parameters[\"seed\"] = 1337\n",
    "standalone_parameters[\"dataset_seed\"] = 1337\n",
    "\n",
    "standalone_parameters[\"n_way\"] = 8\n",
    "standalone_parameters[\"n_shot\"] = 3\n",
    "standalone_parameters[\"n_query\"]  = 2\n",
    "standalone_parameters[\"train_k_factor\"] = 1\n",
    "standalone_parameters[\"val_k_factor\"] = 2\n",
    "standalone_parameters[\"test_k_factor\"] = 2\n",
    "\n",
    "\n",
    "standalone_parameters[\"n_epoch\"] = 50\n",
    "\n",
    "standalone_parameters[\"patience\"] = 10\n",
    "standalone_parameters[\"criteria_for_best\"] = \"source_loss\"\n",
    "\n",
    "standalone_parameters[\"datasets\"] = [\n",
    "    {\n",
    "        \"labels\": ALL_SERIAL_NUMBERS,\n",
    "        \"domains\": ALL_DISTANCES_FEET_NARROWED,\n",
    "        \"num_examples_per_domain_per_label\": 100,\n",
    "        \"pickle_path\": os.path.join(get_datasets_base_path(), \"oracle.Run1_framed_2000Examples_stratified_ds.2022A.pkl\"),\n",
    "        \"source_or_target_dataset\": \"source\",\n",
    "        \"x_transforms\": [\"unit_mag\", \"minus_two\"],\n",
    "        \"episode_transforms\": [],\n",
    "        \"domain_prefix\": \"ORACLE_\"\n",
    "    },\n",
    "    {\n",
    "        \"labels\": ALL_NODES,\n",
    "        \"domains\": ALL_DAYS,\n",
    "        \"num_examples_per_domain_per_label\": 100,\n",
    "        \"pickle_path\": os.path.join(get_datasets_base_path(), \"cores.stratified_ds.2022A.pkl\"),\n",
    "        \"source_or_target_dataset\": \"target\",\n",
    "        \"x_transforms\": [\"unit_power\", \"times_zero\"],\n",
    "        \"episode_transforms\": [],\n",
    "        \"domain_prefix\": \"CORES_\"\n",
    "    }   \n",
    "]\n",
    "\n",
    "standalone_parameters[\"torch_default_dtype\"] = \"torch.float32\" \n",
    "\n",
    "\n",
    "\n",
    "standalone_parameters[\"x_net\"] =     [\n",
    "    {\"class\": \"nnReshape\", \"kargs\": {\"shape\":[-1, 1, 2, 256]}},\n",
    "    {\"class\": \"Conv2d\", \"kargs\": { \"in_channels\":1, \"out_channels\":256, \"kernel_size\":(1,7), \"bias\":False, \"padding\":(0,3), },},\n",
    "    {\"class\": \"ReLU\", \"kargs\": {\"inplace\": True}},\n",
    "    {\"class\": \"BatchNorm2d\", \"kargs\": {\"num_features\":256}},\n",
    "\n",
    "    {\"class\": \"Conv2d\", \"kargs\": { \"in_channels\":256, \"out_channels\":80, \"kernel_size\":(2,7), \"bias\":True, \"padding\":(0,3), },},\n",
    "    {\"class\": \"ReLU\", \"kargs\": {\"inplace\": True}},\n",
    "    {\"class\": \"BatchNorm2d\", \"kargs\": {\"num_features\":80}},\n",
    "    {\"class\": \"Flatten\", \"kargs\": {}},\n",
    "\n",
    "    {\"class\": \"Linear\", \"kargs\": {\"in_features\": 80*256, \"out_features\": 256}}, # 80 units per IQ pair\n",
    "    {\"class\": \"ReLU\", \"kargs\": {\"inplace\": True}},\n",
    "    {\"class\": \"BatchNorm1d\", \"kargs\": {\"num_features\":256}},\n",
    "\n",
    "    {\"class\": \"Linear\", \"kargs\": {\"in_features\": 256, \"out_features\": 256}},\n",
    "]\n",
    "\n",
    "# Parameters relevant to results\n",
    "# These parameters will basically never need to change\n",
    "standalone_parameters[\"NUM_LOGS_PER_EPOCH\"] = 10\n",
    "standalone_parameters[\"BEST_MODEL_PATH\"] = \"./best_model.pth\"\n",
    "\n",
    "\n",
    "\n",
    "\n"
   ]
  },
  {
   "cell_type": "code",
   "execution_count": 4,
   "id": "4a8825f7",
   "metadata": {
    "execution": {
     "iopub.execute_input": "2022-03-20T11:51:25.641491Z",
     "iopub.status.busy": "2022-03-20T11:51:25.639676Z",
     "iopub.status.idle": "2022-03-20T11:51:25.654407Z",
     "shell.execute_reply": "2022-03-20T11:51:25.654146Z"
    },
    "papermill": {
     "duration": 0.039695,
     "end_time": "2022-03-20T11:51:25.654466",
     "exception": false,
     "start_time": "2022-03-20T11:51:25.614771",
     "status": "completed"
    },
    "tags": [
     "injected-parameters"
    ]
   },
   "outputs": [],
   "source": [
    "# Parameters\n",
    "parameters = {\n",
    "    \"experiment_name\": \"tl_2v2:cores+wisig -> oracle.run1.framed\",\n",
    "    \"device\": \"cuda\",\n",
    "    \"lr\": 0.0001,\n",
    "    \"n_shot\": 3,\n",
    "    \"n_query\": 2,\n",
    "    \"train_k_factor\": 3,\n",
    "    \"val_k_factor\": 2,\n",
    "    \"test_k_factor\": 2,\n",
    "    \"torch_default_dtype\": \"torch.float32\",\n",
    "    \"n_epoch\": 50,\n",
    "    \"patience\": 3,\n",
    "    \"criteria_for_best\": \"target_accuracy\",\n",
    "    \"x_net\": [\n",
    "        {\"class\": \"nnReshape\", \"kargs\": {\"shape\": [-1, 1, 2, 256]}},\n",
    "        {\n",
    "            \"class\": \"Conv2d\",\n",
    "            \"kargs\": {\n",
    "                \"in_channels\": 1,\n",
    "                \"out_channels\": 256,\n",
    "                \"kernel_size\": [1, 7],\n",
    "                \"bias\": False,\n",
    "                \"padding\": [0, 3],\n",
    "            },\n",
    "        },\n",
    "        {\"class\": \"ReLU\", \"kargs\": {\"inplace\": True}},\n",
    "        {\"class\": \"BatchNorm2d\", \"kargs\": {\"num_features\": 256}},\n",
    "        {\n",
    "            \"class\": \"Conv2d\",\n",
    "            \"kargs\": {\n",
    "                \"in_channels\": 256,\n",
    "                \"out_channels\": 80,\n",
    "                \"kernel_size\": [2, 7],\n",
    "                \"bias\": True,\n",
    "                \"padding\": [0, 3],\n",
    "            },\n",
    "        },\n",
    "        {\"class\": \"ReLU\", \"kargs\": {\"inplace\": True}},\n",
    "        {\"class\": \"BatchNorm2d\", \"kargs\": {\"num_features\": 80}},\n",
    "        {\"class\": \"Flatten\", \"kargs\": {}},\n",
    "        {\"class\": \"Linear\", \"kargs\": {\"in_features\": 20480, \"out_features\": 256}},\n",
    "        {\"class\": \"ReLU\", \"kargs\": {\"inplace\": True}},\n",
    "        {\"class\": \"BatchNorm1d\", \"kargs\": {\"num_features\": 256}},\n",
    "        {\"class\": \"Linear\", \"kargs\": {\"in_features\": 256, \"out_features\": 256}},\n",
    "    ],\n",
    "    \"NUM_LOGS_PER_EPOCH\": 10,\n",
    "    \"BEST_MODEL_PATH\": \"./best_model.pth\",\n",
    "    \"n_way\": 16,\n",
    "    \"datasets\": [\n",
    "        {\n",
    "            \"labels\": [\n",
    "                \"1-10.\",\n",
    "                \"1-11.\",\n",
    "                \"1-15.\",\n",
    "                \"1-16.\",\n",
    "                \"1-17.\",\n",
    "                \"1-18.\",\n",
    "                \"1-19.\",\n",
    "                \"10-4.\",\n",
    "                \"10-7.\",\n",
    "                \"11-1.\",\n",
    "                \"11-14.\",\n",
    "                \"11-17.\",\n",
    "                \"11-20.\",\n",
    "                \"11-7.\",\n",
    "                \"13-20.\",\n",
    "                \"13-8.\",\n",
    "                \"14-10.\",\n",
    "                \"14-11.\",\n",
    "                \"14-14.\",\n",
    "                \"14-7.\",\n",
    "                \"15-1.\",\n",
    "                \"15-20.\",\n",
    "                \"16-1.\",\n",
    "                \"16-16.\",\n",
    "                \"17-10.\",\n",
    "                \"17-11.\",\n",
    "                \"17-2.\",\n",
    "                \"19-1.\",\n",
    "                \"19-16.\",\n",
    "                \"19-19.\",\n",
    "                \"19-20.\",\n",
    "                \"19-3.\",\n",
    "                \"2-10.\",\n",
    "                \"2-11.\",\n",
    "                \"2-17.\",\n",
    "                \"2-18.\",\n",
    "                \"2-20.\",\n",
    "                \"2-3.\",\n",
    "                \"2-4.\",\n",
    "                \"2-5.\",\n",
    "                \"2-6.\",\n",
    "                \"2-7.\",\n",
    "                \"2-8.\",\n",
    "                \"3-13.\",\n",
    "                \"3-18.\",\n",
    "                \"3-3.\",\n",
    "                \"4-1.\",\n",
    "                \"4-10.\",\n",
    "                \"4-11.\",\n",
    "                \"4-19.\",\n",
    "                \"5-5.\",\n",
    "                \"6-15.\",\n",
    "                \"7-10.\",\n",
    "                \"7-14.\",\n",
    "                \"8-18.\",\n",
    "                \"8-20.\",\n",
    "                \"8-3.\",\n",
    "                \"8-8.\",\n",
    "            ],\n",
    "            \"domains\": [1, 2, 3, 4, 5],\n",
    "            \"num_examples_per_domain_per_label\": -1,\n",
    "            \"pickle_path\": \"/mnt/wd500GB/CSC500/csc500-main/datasets/cores.stratified_ds.2022A.pkl\",\n",
    "            \"source_or_target_dataset\": \"source\",\n",
    "            \"x_transforms\": [],\n",
    "            \"episode_transforms\": [],\n",
    "            \"domain_prefix\": \"C_\",\n",
    "        },\n",
    "        {\n",
    "            \"labels\": [\n",
    "                \"1-10\",\n",
    "                \"1-12\",\n",
    "                \"1-14\",\n",
    "                \"1-16\",\n",
    "                \"1-18\",\n",
    "                \"1-19\",\n",
    "                \"1-8\",\n",
    "                \"10-11\",\n",
    "                \"10-17\",\n",
    "                \"10-4\",\n",
    "                \"10-7\",\n",
    "                \"11-1\",\n",
    "                \"11-10\",\n",
    "                \"11-19\",\n",
    "                \"11-20\",\n",
    "                \"11-4\",\n",
    "                \"11-7\",\n",
    "                \"12-19\",\n",
    "                \"12-20\",\n",
    "                \"12-7\",\n",
    "                \"13-14\",\n",
    "                \"13-18\",\n",
    "                \"13-19\",\n",
    "                \"13-20\",\n",
    "                \"13-3\",\n",
    "                \"13-7\",\n",
    "                \"14-10\",\n",
    "                \"14-11\",\n",
    "                \"14-12\",\n",
    "                \"14-13\",\n",
    "                \"14-14\",\n",
    "                \"14-19\",\n",
    "                \"14-20\",\n",
    "                \"14-7\",\n",
    "                \"14-8\",\n",
    "                \"14-9\",\n",
    "                \"15-1\",\n",
    "                \"15-19\",\n",
    "                \"15-6\",\n",
    "                \"16-1\",\n",
    "                \"16-16\",\n",
    "                \"16-19\",\n",
    "                \"16-20\",\n",
    "                \"17-10\",\n",
    "                \"17-11\",\n",
    "                \"18-1\",\n",
    "                \"18-10\",\n",
    "                \"18-11\",\n",
    "                \"18-12\",\n",
    "                \"18-13\",\n",
    "                \"18-14\",\n",
    "                \"18-15\",\n",
    "                \"18-16\",\n",
    "                \"18-17\",\n",
    "                \"18-19\",\n",
    "                \"18-2\",\n",
    "                \"18-20\",\n",
    "                \"18-4\",\n",
    "                \"18-5\",\n",
    "                \"18-7\",\n",
    "                \"18-8\",\n",
    "                \"18-9\",\n",
    "                \"19-1\",\n",
    "                \"19-10\",\n",
    "                \"19-11\",\n",
    "                \"19-12\",\n",
    "                \"19-13\",\n",
    "                \"19-14\",\n",
    "                \"19-15\",\n",
    "                \"19-19\",\n",
    "                \"19-2\",\n",
    "                \"19-20\",\n",
    "                \"19-3\",\n",
    "                \"19-4\",\n",
    "                \"19-6\",\n",
    "                \"19-7\",\n",
    "                \"19-8\",\n",
    "                \"19-9\",\n",
    "                \"2-1\",\n",
    "                \"2-13\",\n",
    "                \"2-15\",\n",
    "                \"2-3\",\n",
    "                \"2-4\",\n",
    "                \"2-5\",\n",
    "                \"2-6\",\n",
    "                \"2-7\",\n",
    "                \"2-8\",\n",
    "                \"20-1\",\n",
    "                \"20-12\",\n",
    "                \"20-14\",\n",
    "                \"20-15\",\n",
    "                \"20-16\",\n",
    "                \"20-18\",\n",
    "                \"20-19\",\n",
    "                \"20-20\",\n",
    "                \"20-3\",\n",
    "                \"20-4\",\n",
    "                \"20-5\",\n",
    "                \"20-7\",\n",
    "                \"20-8\",\n",
    "                \"3-1\",\n",
    "                \"3-13\",\n",
    "                \"3-18\",\n",
    "                \"3-2\",\n",
    "                \"3-8\",\n",
    "                \"4-1\",\n",
    "                \"4-10\",\n",
    "                \"4-11\",\n",
    "                \"5-1\",\n",
    "                \"5-5\",\n",
    "                \"6-1\",\n",
    "                \"6-15\",\n",
    "                \"6-6\",\n",
    "                \"7-10\",\n",
    "                \"7-11\",\n",
    "                \"7-12\",\n",
    "                \"7-13\",\n",
    "                \"7-14\",\n",
    "                \"7-7\",\n",
    "                \"7-8\",\n",
    "                \"7-9\",\n",
    "                \"8-1\",\n",
    "                \"8-13\",\n",
    "                \"8-14\",\n",
    "                \"8-18\",\n",
    "                \"8-20\",\n",
    "                \"8-3\",\n",
    "                \"8-8\",\n",
    "                \"9-1\",\n",
    "                \"9-7\",\n",
    "            ],\n",
    "            \"domains\": [1, 2, 3, 4],\n",
    "            \"num_examples_per_domain_per_label\": -1,\n",
    "            \"pickle_path\": \"/mnt/wd500GB/CSC500/csc500-main/datasets/wisig.node3-19.stratified_ds.2022A.pkl\",\n",
    "            \"source_or_target_dataset\": \"source\",\n",
    "            \"x_transforms\": [],\n",
    "            \"episode_transforms\": [],\n",
    "            \"domain_prefix\": \"W_\",\n",
    "        },\n",
    "        {\n",
    "            \"labels\": [\n",
    "                \"3123D52\",\n",
    "                \"3123D65\",\n",
    "                \"3123D79\",\n",
    "                \"3123D80\",\n",
    "                \"3123D54\",\n",
    "                \"3123D70\",\n",
    "                \"3123D7B\",\n",
    "                \"3123D89\",\n",
    "                \"3123D58\",\n",
    "                \"3123D76\",\n",
    "                \"3123D7D\",\n",
    "                \"3123EFE\",\n",
    "                \"3123D64\",\n",
    "                \"3123D78\",\n",
    "                \"3123D7E\",\n",
    "                \"3124E4A\",\n",
    "            ],\n",
    "            \"domains\": [32, 38, 8, 44, 14, 50, 20, 26],\n",
    "            \"num_examples_per_domain_per_label\": 2000,\n",
    "            \"pickle_path\": \"/mnt/wd500GB/CSC500/csc500-main/datasets/oracle.Run1_framed_2000Examples_stratified_ds.2022A.pkl\",\n",
    "            \"source_or_target_dataset\": \"target\",\n",
    "            \"x_transforms\": [],\n",
    "            \"episode_transforms\": [],\n",
    "            \"domain_prefix\": \"O_\",\n",
    "        },\n",
    "    ],\n",
    "    \"seed\": 7,\n",
    "    \"dataset_seed\": 7,\n",
    "}\n"
   ]
  },
  {
   "cell_type": "code",
   "execution_count": 5,
   "id": "8fa1cc33",
   "metadata": {
    "execution": {
     "iopub.execute_input": "2022-03-20T11:51:25.685100Z",
     "iopub.status.busy": "2022-03-20T11:51:25.684836Z",
     "iopub.status.idle": "2022-03-20T11:51:25.699138Z",
     "shell.execute_reply": "2022-03-20T11:51:25.699583Z"
    },
    "papermill": {
     "duration": 0.032002,
     "end_time": "2022-03-20T11:51:25.699718",
     "exception": false,
     "start_time": "2022-03-20T11:51:25.667716",
     "status": "completed"
    },
    "tags": []
   },
   "outputs": [],
   "source": [
    "# Set this to True if you want to run this template directly\n",
    "STANDALONE = False\n",
    "if STANDALONE:\n",
    "    print(\"parameters not injected, running with standalone_parameters\")\n",
    "    parameters = standalone_parameters\n",
    "\n",
    "if not 'parameters' in locals() and not 'parameters' in globals():\n",
    "    raise Exception(\"Parameter injection failed\")\n",
    "\n",
    "#Use an easy dict for all the parameters\n",
    "p = EasyDict(parameters)\n",
    "\n",
    "if \"x_shape\" not in p:\n",
    "    p.x_shape = [2,256] # Default to this if we dont supply x_shape\n",
    "\n",
    "\n",
    "supplied_keys = set(p.keys())\n",
    "\n",
    "if  supplied_keys != required_parameters:\n",
    "    print(\"Parameters are incorrect\")\n",
    "    if len(supplied_keys - required_parameters)>0: print(\"Shouldn't have:\", str(supplied_keys - required_parameters))\n",
    "    if len(required_parameters - supplied_keys)>0: print(\"Need to have:\", str(required_parameters - supplied_keys))\n",
    "    raise RuntimeError(\"Parameters are incorrect\")"
   ]
  },
  {
   "cell_type": "code",
   "execution_count": 6,
   "id": "3a028d58",
   "metadata": {
    "execution": {
     "iopub.execute_input": "2022-03-20T11:51:25.732516Z",
     "iopub.status.busy": "2022-03-20T11:51:25.732245Z",
     "iopub.status.idle": "2022-03-20T11:51:25.743356Z",
     "shell.execute_reply": "2022-03-20T11:51:25.743754Z"
    },
    "papermill": {
     "duration": 0.026672,
     "end_time": "2022-03-20T11:51:25.743871",
     "exception": false,
     "start_time": "2022-03-20T11:51:25.717199",
     "status": "completed"
    },
    "tags": []
   },
   "outputs": [],
   "source": [
    "###################################\n",
    "# Set the RNGs and make it all deterministic\n",
    "###################################\n",
    "np.random.seed(p.seed)\n",
    "random.seed(p.seed)\n",
    "torch.manual_seed(p.seed)\n",
    "\n",
    "torch.use_deterministic_algorithms(True) "
   ]
  },
  {
   "cell_type": "code",
   "execution_count": 7,
   "id": "b691acf6",
   "metadata": {
    "execution": {
     "iopub.execute_input": "2022-03-20T11:51:25.774083Z",
     "iopub.status.busy": "2022-03-20T11:51:25.773619Z",
     "iopub.status.idle": "2022-03-20T11:51:25.785505Z",
     "shell.execute_reply": "2022-03-20T11:51:25.785713Z"
    },
    "papermill": {
     "duration": 0.026582,
     "end_time": "2022-03-20T11:51:25.785777",
     "exception": false,
     "start_time": "2022-03-20T11:51:25.759195",
     "status": "completed"
    },
    "tags": []
   },
   "outputs": [],
   "source": [
    "###########################################\n",
    "# The stratified datasets honor this\n",
    "###########################################\n",
    "torch.set_default_dtype(eval(p.torch_default_dtype))"
   ]
  },
  {
   "cell_type": "code",
   "execution_count": 8,
   "id": "b5fba671",
   "metadata": {
    "execution": {
     "iopub.execute_input": "2022-03-20T11:51:25.821406Z",
     "iopub.status.busy": "2022-03-20T11:51:25.820761Z",
     "iopub.status.idle": "2022-03-20T11:51:25.866608Z",
     "shell.execute_reply": "2022-03-20T11:51:25.867001Z"
    },
    "papermill": {
     "duration": 0.063038,
     "end_time": "2022-03-20T11:51:25.867138",
     "exception": false,
     "start_time": "2022-03-20T11:51:25.804100",
     "status": "completed"
    },
    "tags": []
   },
   "outputs": [],
   "source": [
    "###################################\n",
    "# Build the network(s)\n",
    "# Note: It's critical to do this AFTER setting the RNG\n",
    "###################################\n",
    "x_net = build_sequential(p.x_net)"
   ]
  },
  {
   "cell_type": "code",
   "execution_count": 9,
   "id": "5d7e61cc",
   "metadata": {
    "execution": {
     "iopub.execute_input": "2022-03-20T11:51:25.900536Z",
     "iopub.status.busy": "2022-03-20T11:51:25.900261Z",
     "iopub.status.idle": "2022-03-20T11:51:25.911247Z",
     "shell.execute_reply": "2022-03-20T11:51:25.911545Z"
    },
    "papermill": {
     "duration": 0.026577,
     "end_time": "2022-03-20T11:51:25.911636",
     "exception": false,
     "start_time": "2022-03-20T11:51:25.885059",
     "status": "completed"
    },
    "tags": []
   },
   "outputs": [],
   "source": [
    "start_time_secs = time.time()"
   ]
  },
  {
   "cell_type": "code",
   "execution_count": 10,
   "id": "c6b67dfd",
   "metadata": {
    "execution": {
     "iopub.execute_input": "2022-03-20T11:51:25.949303Z",
     "iopub.status.busy": "2022-03-20T11:51:25.949048Z",
     "iopub.status.idle": "2022-03-20T11:51:25.964284Z",
     "shell.execute_reply": "2022-03-20T11:51:25.963922Z"
    },
    "papermill": {
     "duration": 0.032388,
     "end_time": "2022-03-20T11:51:25.964360",
     "exception": false,
     "start_time": "2022-03-20T11:51:25.931972",
     "status": "completed"
    },
    "tags": []
   },
   "outputs": [],
   "source": [
    "p.domains_source = []\n",
    "p.domains_target = []\n",
    "\n",
    "\n",
    "train_original_source = []\n",
    "val_original_source   = []\n",
    "test_original_source  = []\n",
    "\n",
    "train_original_target = []\n",
    "val_original_target   = []\n",
    "test_original_target  = []"
   ]
  },
  {
   "cell_type": "code",
   "execution_count": 11,
   "id": "e3d9c3d3",
   "metadata": {
    "execution": {
     "iopub.execute_input": "2022-03-20T11:51:25.996912Z",
     "iopub.status.busy": "2022-03-20T11:51:25.996655Z",
     "iopub.status.idle": "2022-03-20T11:51:26.007272Z",
     "shell.execute_reply": "2022-03-20T11:51:26.007703Z"
    },
    "papermill": {
     "duration": 0.026187,
     "end_time": "2022-03-20T11:51:26.007829",
     "exception": false,
     "start_time": "2022-03-20T11:51:25.981642",
     "status": "completed"
    },
    "tags": []
   },
   "outputs": [],
   "source": [
    "# global_x_transform_func = lambda x: normalize(x.to(torch.get_default_dtype()), \"unit_power\") # unit_power, unit_mag\n",
    "# global_x_transform_func = lambda x: normalize(x, \"unit_power\") # unit_power, unit_mag"
   ]
  },
  {
   "cell_type": "code",
   "execution_count": 12,
   "id": "acb78fd2",
   "metadata": {
    "execution": {
     "iopub.execute_input": "2022-03-20T11:51:26.046202Z",
     "iopub.status.busy": "2022-03-20T11:51:26.045937Z",
     "iopub.status.idle": "2022-03-20T11:51:26.061784Z",
     "shell.execute_reply": "2022-03-20T11:51:26.062181Z"
    },
    "papermill": {
     "duration": 0.036642,
     "end_time": "2022-03-20T11:51:26.062302",
     "exception": false,
     "start_time": "2022-03-20T11:51:26.025660",
     "status": "completed"
    },
    "tags": []
   },
   "outputs": [],
   "source": [
    "def add_dataset(\n",
    "    labels,\n",
    "    domains,\n",
    "    pickle_path,\n",
    "    x_transforms,\n",
    "    episode_transforms,\n",
    "    domain_prefix,\n",
    "    num_examples_per_domain_per_label,\n",
    "    source_or_target_dataset:str,\n",
    "    iterator_seed=p.seed,\n",
    "    dataset_seed=p.dataset_seed,\n",
    "    n_shot=p.n_shot,\n",
    "    n_way=p.n_way,\n",
    "    n_query=p.n_query,\n",
    "    train_val_test_k_factors=(p.train_k_factor,p.val_k_factor,p.test_k_factor),\n",
    "):\n",
    "   \n",
    "    if x_transforms == []: x_transform = None\n",
    "    else: x_transform = get_chained_transform(x_transforms)\n",
    "    \n",
    "    if episode_transforms == []: episode_transform = None\n",
    "    else: raise Exception(\"episode_transforms not implemented\")\n",
    "    \n",
    "    episode_transform = lambda tup, _prefix=domain_prefix: (_prefix + str(tup[0]), tup[1])\n",
    "\n",
    "\n",
    "    eaf = Episodic_Accessor_Factory(\n",
    "        labels=labels,\n",
    "        domains=domains,\n",
    "        num_examples_per_domain_per_label=num_examples_per_domain_per_label,\n",
    "        iterator_seed=iterator_seed,\n",
    "        dataset_seed=dataset_seed,\n",
    "        n_shot=n_shot,\n",
    "        n_way=n_way,\n",
    "        n_query=n_query,\n",
    "        train_val_test_k_factors=train_val_test_k_factors,\n",
    "        pickle_path=pickle_path,\n",
    "        x_transform_func=x_transform,\n",
    "    )\n",
    "\n",
    "    train, val, test = eaf.get_train(), eaf.get_val(), eaf.get_test()\n",
    "    train = Lazy_Iterable_Wrapper(train, episode_transform)\n",
    "    val = Lazy_Iterable_Wrapper(val, episode_transform)\n",
    "    test = Lazy_Iterable_Wrapper(test, episode_transform)\n",
    "\n",
    "    if source_or_target_dataset==\"source\":\n",
    "        train_original_source.append(train)\n",
    "        val_original_source.append(val)\n",
    "        test_original_source.append(test)\n",
    "\n",
    "        p.domains_source.extend(\n",
    "            [domain_prefix + str(u) for u in domains]\n",
    "        )\n",
    "    elif source_or_target_dataset==\"target\":\n",
    "        train_original_target.append(train)\n",
    "        val_original_target.append(val)\n",
    "        test_original_target.append(test)\n",
    "        p.domains_target.extend(\n",
    "            [domain_prefix + str(u) for u in domains]\n",
    "        )\n",
    "    else:\n",
    "        raise Exception(f\"invalid source_or_target_dataset: {source_or_target_dataset}\")\n",
    "    "
   ]
  },
  {
   "cell_type": "code",
   "execution_count": 13,
   "id": "fe266617",
   "metadata": {
    "execution": {
     "iopub.execute_input": "2022-03-20T11:51:26.097598Z",
     "iopub.status.busy": "2022-03-20T11:51:26.097334Z",
     "iopub.status.idle": "2022-03-20T11:51:29.546486Z",
     "shell.execute_reply": "2022-03-20T11:51:29.546893Z"
    },
    "papermill": {
     "duration": 3.466127,
     "end_time": "2022-03-20T11:51:29.547033",
     "exception": false,
     "start_time": "2022-03-20T11:51:26.080906",
     "status": "completed"
    },
    "tags": []
   },
   "outputs": [],
   "source": [
    "for ds in p.datasets:\n",
    "    add_dataset(**ds)"
   ]
  },
  {
   "cell_type": "code",
   "execution_count": 14,
   "id": "b90d65ac",
   "metadata": {
    "execution": {
     "iopub.execute_input": "2022-03-20T11:51:29.580680Z",
     "iopub.status.busy": "2022-03-20T11:51:29.580394Z",
     "iopub.status.idle": "2022-03-20T11:51:29.595227Z",
     "shell.execute_reply": "2022-03-20T11:51:29.595680Z"
    },
    "papermill": {
     "duration": 0.031746,
     "end_time": "2022-03-20T11:51:29.595814",
     "exception": false,
     "start_time": "2022-03-20T11:51:29.564068",
     "status": "completed"
    },
    "tags": []
   },
   "outputs": [],
   "source": [
    "# from steves_utils.CORES.utils import (\n",
    "#     ALL_NODES,\n",
    "#     ALL_NODES_MINIMUM_1000_EXAMPLES,\n",
    "#     ALL_DAYS\n",
    "# )\n",
    "\n",
    "# add_dataset(\n",
    "#     labels=ALL_NODES,\n",
    "#     domains = ALL_DAYS,\n",
    "#     num_examples_per_domain_per_label=100,\n",
    "#     pickle_path=os.path.join(get_datasets_base_path(), \"cores.stratified_ds.2022A.pkl\"),\n",
    "#     source_or_target_dataset=\"target\",\n",
    "#     x_transform_func=global_x_transform_func,\n",
    "#     domain_modifier=lambda u: f\"cores_{u}\"\n",
    "# )"
   ]
  },
  {
   "cell_type": "code",
   "execution_count": 15,
   "id": "76db484d",
   "metadata": {
    "execution": {
     "iopub.execute_input": "2022-03-20T11:51:29.633054Z",
     "iopub.status.busy": "2022-03-20T11:51:29.632778Z",
     "iopub.status.idle": "2022-03-20T11:51:29.643092Z",
     "shell.execute_reply": "2022-03-20T11:51:29.643353Z"
    },
    "papermill": {
     "duration": 0.027393,
     "end_time": "2022-03-20T11:51:29.643447",
     "exception": false,
     "start_time": "2022-03-20T11:51:29.616054",
     "status": "completed"
    },
    "tags": []
   },
   "outputs": [],
   "source": [
    "# from steves_utils.ORACLE.utils_v2 import (\n",
    "#     ALL_DISTANCES_FEET,\n",
    "#     ALL_RUNS,\n",
    "#     ALL_SERIAL_NUMBERS,\n",
    "# )\n",
    "\n",
    "\n",
    "# add_dataset(\n",
    "#     labels=ALL_SERIAL_NUMBERS,\n",
    "#     domains = list(set(ALL_DISTANCES_FEET) - {2,62}),\n",
    "#     num_examples_per_domain_per_label=100,\n",
    "#     pickle_path=os.path.join(get_datasets_base_path(), \"oracle.Run2_framed_2000Examples_stratified_ds.2022A.pkl\"),\n",
    "#     source_or_target_dataset=\"source\",\n",
    "#     x_transform_func=global_x_transform_func,\n",
    "#     domain_modifier=lambda u: f\"oracle1_{u}\"\n",
    "# )\n"
   ]
  },
  {
   "cell_type": "code",
   "execution_count": 16,
   "id": "97dea9d2",
   "metadata": {
    "execution": {
     "iopub.execute_input": "2022-03-20T11:51:29.681446Z",
     "iopub.status.busy": "2022-03-20T11:51:29.681175Z",
     "iopub.status.idle": "2022-03-20T11:51:29.697810Z",
     "shell.execute_reply": "2022-03-20T11:51:29.697370Z"
    },
    "papermill": {
     "duration": 0.034527,
     "end_time": "2022-03-20T11:51:29.697912",
     "exception": false,
     "start_time": "2022-03-20T11:51:29.663385",
     "status": "completed"
    },
    "tags": []
   },
   "outputs": [],
   "source": [
    "# from steves_utils.ORACLE.utils_v2 import (\n",
    "#     ALL_DISTANCES_FEET,\n",
    "#     ALL_RUNS,\n",
    "#     ALL_SERIAL_NUMBERS,\n",
    "# )\n",
    "\n",
    "\n",
    "# add_dataset(\n",
    "#     labels=ALL_SERIAL_NUMBERS,\n",
    "#     domains = list(set(ALL_DISTANCES_FEET) - {2,62,56}),\n",
    "#     num_examples_per_domain_per_label=100,\n",
    "#     pickle_path=os.path.join(get_datasets_base_path(), \"oracle.Run2_framed_2000Examples_stratified_ds.2022A.pkl\"),\n",
    "#     source_or_target_dataset=\"source\",\n",
    "#     x_transform_func=global_x_transform_func,\n",
    "#     domain_modifier=lambda u: f\"oracle2_{u}\"\n",
    "# )"
   ]
  },
  {
   "cell_type": "code",
   "execution_count": 17,
   "id": "6f289866",
   "metadata": {
    "execution": {
     "iopub.execute_input": "2022-03-20T11:51:29.731651Z",
     "iopub.status.busy": "2022-03-20T11:51:29.731394Z",
     "iopub.status.idle": "2022-03-20T11:51:29.742229Z",
     "shell.execute_reply": "2022-03-20T11:51:29.742535Z"
    },
    "papermill": {
     "duration": 0.026476,
     "end_time": "2022-03-20T11:51:29.742632",
     "exception": false,
     "start_time": "2022-03-20T11:51:29.716156",
     "status": "completed"
    },
    "tags": []
   },
   "outputs": [],
   "source": [
    "# add_dataset(\n",
    "#     labels=list(range(19)),\n",
    "#     domains = [0,1,2],\n",
    "#     num_examples_per_domain_per_label=100,\n",
    "#     pickle_path=os.path.join(get_datasets_base_path(), \"metehan.stratified_ds.2022A.pkl\"),\n",
    "#     source_or_target_dataset=\"target\",\n",
    "#     x_transform_func=global_x_transform_func,\n",
    "#     domain_modifier=lambda u: f\"met_{u}\"\n",
    "# )"
   ]
  },
  {
   "cell_type": "code",
   "execution_count": 18,
   "id": "86a863c3",
   "metadata": {
    "execution": {
     "iopub.execute_input": "2022-03-20T11:51:29.778043Z",
     "iopub.status.busy": "2022-03-20T11:51:29.777630Z",
     "iopub.status.idle": "2022-03-20T11:51:29.787940Z",
     "shell.execute_reply": "2022-03-20T11:51:29.788162Z"
    },
    "papermill": {
     "duration": 0.026635,
     "end_time": "2022-03-20T11:51:29.788234",
     "exception": false,
     "start_time": "2022-03-20T11:51:29.761599",
     "status": "completed"
    },
    "tags": []
   },
   "outputs": [],
   "source": [
    "# # from steves_utils.wisig.utils import (\n",
    "# #     ALL_NODES_MINIMUM_100_EXAMPLES,\n",
    "# #     ALL_NODES_MINIMUM_500_EXAMPLES,\n",
    "# #     ALL_NODES_MINIMUM_1000_EXAMPLES,\n",
    "# #     ALL_DAYS\n",
    "# # )\n",
    "\n",
    "# import steves_utils.wisig.utils as wisig\n",
    "\n",
    "\n",
    "# add_dataset(\n",
    "#     labels=wisig.ALL_NODES_MINIMUM_100_EXAMPLES,\n",
    "#     domains = wisig.ALL_DAYS,\n",
    "#     num_examples_per_domain_per_label=100,\n",
    "#     pickle_path=os.path.join(get_datasets_base_path(), \"wisig.node3-19.stratified_ds.2022A.pkl\"),\n",
    "#     source_or_target_dataset=\"target\",\n",
    "#     x_transform_func=global_x_transform_func,\n",
    "#     domain_modifier=lambda u: f\"wisig_{u}\"\n",
    "# )"
   ]
  },
  {
   "cell_type": "code",
   "execution_count": 19,
   "id": "fd5442bc",
   "metadata": {
    "execution": {
     "iopub.execute_input": "2022-03-20T11:51:29.819807Z",
     "iopub.status.busy": "2022-03-20T11:51:29.819388Z",
     "iopub.status.idle": "2022-03-20T11:51:29.830871Z",
     "shell.execute_reply": "2022-03-20T11:51:29.831092Z"
    },
    "papermill": {
     "duration": 0.02874,
     "end_time": "2022-03-20T11:51:29.831167",
     "exception": false,
     "start_time": "2022-03-20T11:51:29.802427",
     "status": "completed"
    },
    "tags": []
   },
   "outputs": [],
   "source": [
    "###################################\n",
    "# Build the dataset\n",
    "###################################\n",
    "train_original_source = Iterable_Aggregator(train_original_source, p.seed)\n",
    "val_original_source = Iterable_Aggregator(val_original_source, p.seed)\n",
    "test_original_source = Iterable_Aggregator(test_original_source, p.seed)\n",
    "\n",
    "\n",
    "train_original_target = Iterable_Aggregator(train_original_target, p.seed)\n",
    "val_original_target = Iterable_Aggregator(val_original_target, p.seed)\n",
    "test_original_target = Iterable_Aggregator(test_original_target, p.seed)\n",
    "\n",
    "# For CNN We only use X and Y. And we only train on the source.\n",
    "# Properly form the data using a transform lambda and Lazy_Iterable_Wrapper. Finally wrap them in a dataloader\n",
    "\n",
    "transform_lambda = lambda ex: ex[1] # Original is (<domain>, <episode>) so we strip down to episode only\n",
    "\n",
    "train_processed_source = Lazy_Iterable_Wrapper(train_original_source, transform_lambda)\n",
    "val_processed_source   = Lazy_Iterable_Wrapper(val_original_source, transform_lambda)\n",
    "test_processed_source  = Lazy_Iterable_Wrapper(test_original_source, transform_lambda)\n",
    "\n",
    "train_processed_target = Lazy_Iterable_Wrapper(train_original_target, transform_lambda)\n",
    "val_processed_target   = Lazy_Iterable_Wrapper(val_original_target, transform_lambda)\n",
    "test_processed_target  = Lazy_Iterable_Wrapper(test_original_target, transform_lambda)\n",
    "\n",
    "datasets = EasyDict({\n",
    "    \"source\": {\n",
    "        \"original\": {\"train\":train_original_source, \"val\":val_original_source, \"test\":test_original_source},\n",
    "        \"processed\": {\"train\":train_processed_source, \"val\":val_processed_source, \"test\":test_processed_source}\n",
    "    },\n",
    "    \"target\": {\n",
    "        \"original\": {\"train\":train_original_target, \"val\":val_original_target, \"test\":test_original_target},\n",
    "        \"processed\": {\"train\":train_processed_target, \"val\":val_processed_target, \"test\":test_processed_target}\n",
    "    },\n",
    "})"
   ]
  },
  {
   "cell_type": "code",
   "execution_count": 20,
   "id": "5b3c01fc",
   "metadata": {
    "execution": {
     "iopub.execute_input": "2022-03-20T11:51:29.865271Z",
     "iopub.status.busy": "2022-03-20T11:51:29.864694Z",
     "iopub.status.idle": "2022-03-20T11:51:39.434154Z",
     "shell.execute_reply": "2022-03-20T11:51:39.434633Z"
    },
    "papermill": {
     "duration": 9.586463,
     "end_time": "2022-03-20T11:51:39.434769",
     "exception": false,
     "start_time": "2022-03-20T11:51:29.848306",
     "status": "completed"
    },
    "tags": []
   },
   "outputs": [
    {
     "name": "stdout",
     "output_type": "stream",
     "text": [
      "{'C_1', 'C_5', 'C_3', 'W_1', 'W_2', 'C_4', 'W_4', 'W_3', 'C_2'}\n"
     ]
    },
    {
     "name": "stdout",
     "output_type": "stream",
     "text": [
      "{'O_26', 'O_50', 'O_20', 'O_32', 'O_8', 'O_38', 'O_44', 'O_14'}\n"
     ]
    },
    {
     "name": "stdout",
     "output_type": "stream",
     "text": [
      "tensor([[[-0.0147,  0.0202,  0.0417,  ...,  0.0070,  0.0159,  0.0364],\n",
      "         [-0.0173, -0.0375,  0.0094,  ..., -0.0094, -0.0218, -0.0032]],\n",
      "\n",
      "        [[-0.0135,  0.0282,  0.0431,  ...,  0.0054,  0.0185,  0.0399],\n",
      "         [-0.0328, -0.0323,  0.0211,  ..., -0.0113, -0.0195, -0.0004]],\n",
      "\n",
      "        [[-0.0215,  0.0303,  0.0365,  ..., -0.0145,  0.0129,  0.0322],\n",
      "         [-0.0286, -0.0385,  0.0156,  ..., -0.0199, -0.0382, -0.0008]],\n",
      "\n",
      "        ...,\n",
      "\n",
      "        [[-0.0038,  0.0216,  0.0331,  ..., -0.0065,  0.0221,  0.0207],\n",
      "         [-0.0052, -0.0221, -0.0073,  ..., -0.0082,  0.0037,  0.0094]],\n",
      "\n",
      "        [[-0.0124,  0.0220,  0.0363,  ...,  0.0038,  0.0171,  0.0023],\n",
      "         [-0.0026, -0.0047,  0.0099,  ..., -0.0049, -0.0049,  0.0166]],\n",
      "\n",
      "        [[ 0.0071, -0.0016, -0.0258,  ...,  0.0092, -0.0059, -0.0219],\n",
      "         [-0.0027,  0.0172,  0.0197,  ...,  0.0072,  0.0116, -0.0077]]])\n"
     ]
    }
   ],
   "source": [
    "from steves_utils.transforms import get_average_magnitude, get_average_power\n",
    "\n",
    "print(set([u for u,_ in val_original_source]))\n",
    "print(set([u for u,_ in val_original_target]))\n",
    "\n",
    "s_x, s_y, q_x, q_y, _ = next(iter(train_processed_source))\n",
    "print(s_x)\n",
    "\n",
    "# for ds in [\n",
    "#     train_processed_source,\n",
    "#     val_processed_source,\n",
    "#     test_processed_source,\n",
    "#     train_processed_target,\n",
    "#     val_processed_target,\n",
    "#     test_processed_target\n",
    "# ]:\n",
    "#     for s_x, s_y, q_x, q_y, _ in ds:\n",
    "#         for X in (s_x, q_x):\n",
    "#             for x in X:\n",
    "#                 assert np.isclose(get_average_magnitude(x.numpy()), 1.0)\n",
    "#                 assert np.isclose(get_average_power(x.numpy()), 1.0)\n",
    "                "
   ]
  },
  {
   "cell_type": "code",
   "execution_count": 21,
   "id": "bbdacba1",
   "metadata": {
    "execution": {
     "iopub.execute_input": "2022-03-20T11:51:39.477961Z",
     "iopub.status.busy": "2022-03-20T11:51:39.477690Z",
     "iopub.status.idle": "2022-03-20T11:51:39.540355Z",
     "shell.execute_reply": "2022-03-20T11:51:39.539935Z"
    },
    "papermill": {
     "duration": 0.081283,
     "end_time": "2022-03-20T11:51:39.540471",
     "exception": false,
     "start_time": "2022-03-20T11:51:39.459188",
     "status": "completed"
    },
    "tags": []
   },
   "outputs": [
    {
     "name": "stdout",
     "output_type": "stream",
     "text": [
      "(2, 256)\n"
     ]
    }
   ],
   "source": [
    "###################################\n",
    "# Build the model\n",
    "###################################\n",
    "# easfsl only wants a tuple for the shape\n",
    "model = Steves_Prototypical_Network(x_net, device=p.device, x_shape=tuple(p.x_shape))\n",
    "optimizer = Adam(params=model.parameters(), lr=p.lr)"
   ]
  },
  {
   "cell_type": "code",
   "execution_count": 22,
   "id": "22b39ac5",
   "metadata": {
    "execution": {
     "iopub.execute_input": "2022-03-20T11:51:39.580984Z",
     "iopub.status.busy": "2022-03-20T11:51:39.580729Z",
     "iopub.status.idle": "2022-03-20T12:53:22.214842Z",
     "shell.execute_reply": "2022-03-20T12:53:22.214606Z"
    },
    "papermill": {
     "duration": 3702.653368,
     "end_time": "2022-03-20T12:53:22.214901",
     "exception": false,
     "start_time": "2022-03-20T11:51:39.561533",
     "status": "completed"
    },
    "tags": []
   },
   "outputs": [
    {
     "name": "stdout",
     "output_type": "stream",
     "text": [
      "epoch: 1, [batch: 1 / 13150], examples_per_second: 22.7342, train_label_loss: 2.2427, \n"
     ]
    },
    {
     "name": "stdout",
     "output_type": "stream",
     "text": [
      "epoch: 1, [batch: 1315 / 13150], examples_per_second: 1730.4521, train_label_loss: 0.0120, \n"
     ]
    },
    {
     "name": "stdout",
     "output_type": "stream",
     "text": [
      "epoch: 1, [batch: 2630 / 13150], examples_per_second: 1731.1677, train_label_loss: 0.0069, \n"
     ]
    },
    {
     "name": "stdout",
     "output_type": "stream",
     "text": [
      "epoch: 1, [batch: 3945 / 13150], examples_per_second: 1730.3425, train_label_loss: 0.0372, \n"
     ]
    },
    {
     "name": "stdout",
     "output_type": "stream",
     "text": [
      "epoch: 1, [batch: 5260 / 13150], examples_per_second: 1725.2540, train_label_loss: 0.0790, \n"
     ]
    },
    {
     "name": "stdout",
     "output_type": "stream",
     "text": [
      "epoch: 1, [batch: 6575 / 13150], examples_per_second: 1731.7540, train_label_loss: 0.0023, \n"
     ]
    },
    {
     "name": "stdout",
     "output_type": "stream",
     "text": [
      "epoch: 1, [batch: 7890 / 13150], examples_per_second: 1728.5396, train_label_loss: 0.2049, \n"
     ]
    },
    {
     "name": "stdout",
     "output_type": "stream",
     "text": [
      "epoch: 1, [batch: 9205 / 13150], examples_per_second: 1727.9702, train_label_loss: 0.0043, \n"
     ]
    },
    {
     "name": "stdout",
     "output_type": "stream",
     "text": [
      "epoch: 1, [batch: 10520 / 13150], examples_per_second: 1822.2626, train_label_loss: 0.2878, \n"
     ]
    },
    {
     "name": "stdout",
     "output_type": "stream",
     "text": [
      "epoch: 1, [batch: 11835 / 13150], examples_per_second: 2052.4174, train_label_loss: 0.0046, \n"
     ]
    },
    {
     "name": "stdout",
     "output_type": "stream",
     "text": [
      "=============================================================\n",
      "epoch: 1, source_val_acc_label: 0.9770, target_val_acc_label: 0.3372, source_val_label_loss: 0.1269, target_val_label_loss: 2.5377, \n",
      "=============================================================\n"
     ]
    },
    {
     "name": "stdout",
     "output_type": "stream",
     "text": [
      "New best\n"
     ]
    },
    {
     "name": "stdout",
     "output_type": "stream",
     "text": [
      "epoch: 2, [batch: 1 / 13146], examples_per_second: 1.4700, train_label_loss: 0.0369, \n"
     ]
    },
    {
     "name": "stdout",
     "output_type": "stream",
     "text": [
      "epoch: 2, [batch: 1315 / 13146], examples_per_second: 1743.9442, train_label_loss: 0.0940, \n"
     ]
    },
    {
     "name": "stdout",
     "output_type": "stream",
     "text": [
      "epoch: 2, [batch: 2630 / 13146], examples_per_second: 1741.6540, train_label_loss: 0.1967, \n"
     ]
    },
    {
     "name": "stdout",
     "output_type": "stream",
     "text": [
      "epoch: 2, [batch: 3944 / 13146], examples_per_second: 1741.5768, train_label_loss: 0.0158, \n"
     ]
    },
    {
     "name": "stdout",
     "output_type": "stream",
     "text": [
      "epoch: 2, [batch: 5259 / 13146], examples_per_second: 1739.5892, train_label_loss: 0.0222, \n"
     ]
    },
    {
     "name": "stdout",
     "output_type": "stream",
     "text": [
      "epoch: 2, [batch: 6573 / 13146], examples_per_second: 1743.1678, train_label_loss: 0.0021, \n"
     ]
    },
    {
     "name": "stdout",
     "output_type": "stream",
     "text": [
      "epoch: 2, [batch: 7888 / 13146], examples_per_second: 1743.3519, train_label_loss: 0.0060, \n"
     ]
    },
    {
     "name": "stdout",
     "output_type": "stream",
     "text": [
      "epoch: 2, [batch: 9202 / 13146], examples_per_second: 1737.9901, train_label_loss: 0.0008, \n"
     ]
    },
    {
     "name": "stdout",
     "output_type": "stream",
     "text": [
      "epoch: 2, [batch: 10517 / 13146], examples_per_second: 1898.7423, train_label_loss: 0.1732, \n"
     ]
    },
    {
     "name": "stdout",
     "output_type": "stream",
     "text": [
      "epoch: 2, [batch: 11831 / 13146], examples_per_second: 2012.4859, train_label_loss: 0.2355, \n"
     ]
    },
    {
     "name": "stdout",
     "output_type": "stream",
     "text": [
      "=============================================================\n",
      "epoch: 2, source_val_acc_label: 0.9829, target_val_acc_label: 0.4370, source_val_label_loss: 0.0771, target_val_label_loss: 2.3496, \n",
      "=============================================================\n"
     ]
    },
    {
     "name": "stdout",
     "output_type": "stream",
     "text": [
      "New best\n"
     ]
    },
    {
     "name": "stdout",
     "output_type": "stream",
     "text": [
      "epoch: 3, [batch: 1 / 13172], examples_per_second: 1.4713, train_label_loss: 0.0413, \n"
     ]
    },
    {
     "name": "stdout",
     "output_type": "stream",
     "text": [
      "epoch: 3, [batch: 1318 / 13172], examples_per_second: 1745.1433, train_label_loss: 0.0036, \n"
     ]
    },
    {
     "name": "stdout",
     "output_type": "stream",
     "text": [
      "epoch: 3, [batch: 2635 / 13172], examples_per_second: 1742.8658, train_label_loss: 0.0003, \n"
     ]
    },
    {
     "name": "stdout",
     "output_type": "stream",
     "text": [
      "epoch: 3, [batch: 3952 / 13172], examples_per_second: 1743.6275, train_label_loss: 0.0100, \n"
     ]
    },
    {
     "name": "stdout",
     "output_type": "stream",
     "text": [
      "epoch: 3, [batch: 5269 / 13172], examples_per_second: 1740.2038, train_label_loss: 0.0089, \n"
     ]
    },
    {
     "name": "stdout",
     "output_type": "stream",
     "text": [
      "epoch: 3, [batch: 6586 / 13172], examples_per_second: 1742.7859, train_label_loss: 0.0263, \n"
     ]
    },
    {
     "name": "stdout",
     "output_type": "stream",
     "text": [
      "epoch: 3, [batch: 7903 / 13172], examples_per_second: 1740.9930, train_label_loss: 0.0004, \n"
     ]
    },
    {
     "name": "stdout",
     "output_type": "stream",
     "text": [
      "epoch: 3, [batch: 9220 / 13172], examples_per_second: 1740.8071, train_label_loss: 0.2715, \n"
     ]
    },
    {
     "name": "stdout",
     "output_type": "stream",
     "text": [
      "epoch: 3, [batch: 10537 / 13172], examples_per_second: 1943.1995, train_label_loss: 0.0002, \n"
     ]
    },
    {
     "name": "stdout",
     "output_type": "stream",
     "text": [
      "epoch: 3, [batch: 11854 / 13172], examples_per_second: 2088.1514, train_label_loss: 0.0041, \n"
     ]
    },
    {
     "name": "stdout",
     "output_type": "stream",
     "text": [
      "=============================================================\n",
      "epoch: 3, source_val_acc_label: 0.9846, target_val_acc_label: 0.3936, source_val_label_loss: 0.0673, target_val_label_loss: 2.4663, \n",
      "=============================================================\n"
     ]
    },
    {
     "name": "stdout",
     "output_type": "stream",
     "text": [
      "epoch: 4, [batch: 1 / 13145], examples_per_second: 1.7379, train_label_loss: 0.0149, \n"
     ]
    },
    {
     "name": "stdout",
     "output_type": "stream",
     "text": [
      "epoch: 4, [batch: 1315 / 13145], examples_per_second: 2964.1617, train_label_loss: 0.0016, \n"
     ]
    },
    {
     "name": "stdout",
     "output_type": "stream",
     "text": [
      "epoch: 4, [batch: 2629 / 13145], examples_per_second: 3136.5681, train_label_loss: 0.0015, \n"
     ]
    },
    {
     "name": "stdout",
     "output_type": "stream",
     "text": [
      "epoch: 4, [batch: 3944 / 13145], examples_per_second: 3156.3320, train_label_loss: 0.0064, \n"
     ]
    },
    {
     "name": "stdout",
     "output_type": "stream",
     "text": [
      "epoch: 4, [batch: 5258 / 13145], examples_per_second: 3162.9639, train_label_loss: 0.0065, \n"
     ]
    },
    {
     "name": "stdout",
     "output_type": "stream",
     "text": [
      "epoch: 4, [batch: 6573 / 13145], examples_per_second: 2947.5362, train_label_loss: 0.0517, \n"
     ]
    },
    {
     "name": "stdout",
     "output_type": "stream",
     "text": [
      "epoch: 4, [batch: 7887 / 13145], examples_per_second: 1740.6971, train_label_loss: 0.0103, \n"
     ]
    },
    {
     "name": "stdout",
     "output_type": "stream",
     "text": [
      "epoch: 4, [batch: 9201 / 13145], examples_per_second: 1736.9440, train_label_loss: 0.0003, \n"
     ]
    },
    {
     "name": "stdout",
     "output_type": "stream",
     "text": [
      "epoch: 4, [batch: 10516 / 13145], examples_per_second: 1740.9737, train_label_loss: 0.0001, \n"
     ]
    },
    {
     "name": "stdout",
     "output_type": "stream",
     "text": [
      "epoch: 4, [batch: 11830 / 13145], examples_per_second: 1742.1667, train_label_loss: 0.0031, \n"
     ]
    },
    {
     "name": "stdout",
     "output_type": "stream",
     "text": [
      "=============================================================\n",
      "epoch: 4, source_val_acc_label: 0.9862, target_val_acc_label: 0.3979, source_val_label_loss: 0.0603, target_val_label_loss: 2.3417, \n",
      "=============================================================\n"
     ]
    },
    {
     "name": "stdout",
     "output_type": "stream",
     "text": [
      "epoch: 5, [batch: 1 / 13163], examples_per_second: 1.4707, train_label_loss: 0.0005, \n"
     ]
    },
    {
     "name": "stdout",
     "output_type": "stream",
     "text": [
      "epoch: 5, [batch: 1317 / 13163], examples_per_second: 1742.4383, train_label_loss: 0.1235, \n"
     ]
    },
    {
     "name": "stdout",
     "output_type": "stream",
     "text": [
      "epoch: 5, [batch: 2633 / 13163], examples_per_second: 1739.6750, train_label_loss: 0.0282, \n"
     ]
    },
    {
     "name": "stdout",
     "output_type": "stream",
     "text": [
      "epoch: 5, [batch: 3949 / 13163], examples_per_second: 1739.6261, train_label_loss: 0.0032, \n"
     ]
    },
    {
     "name": "stdout",
     "output_type": "stream",
     "text": [
      "epoch: 5, [batch: 5265 / 13163], examples_per_second: 1796.1427, train_label_loss: 0.4815, \n"
     ]
    },
    {
     "name": "stdout",
     "output_type": "stream",
     "text": [
      "epoch: 5, [batch: 6582 / 13163], examples_per_second: 2151.6289, train_label_loss: 0.3832, \n"
     ]
    },
    {
     "name": "stdout",
     "output_type": "stream",
     "text": [
      "epoch: 5, [batch: 7898 / 13163], examples_per_second: 1742.9507, train_label_loss: 0.0073, \n"
     ]
    },
    {
     "name": "stdout",
     "output_type": "stream",
     "text": [
      "epoch: 5, [batch: 9214 / 13163], examples_per_second: 1739.0497, train_label_loss: 0.2815, \n"
     ]
    },
    {
     "name": "stdout",
     "output_type": "stream",
     "text": [
      "epoch: 5, [batch: 10530 / 13163], examples_per_second: 1742.3100, train_label_loss: 0.0029, \n"
     ]
    },
    {
     "name": "stdout",
     "output_type": "stream",
     "text": [
      "epoch: 5, [batch: 11846 / 13163], examples_per_second: 1742.9117, train_label_loss: 0.0004, \n"
     ]
    },
    {
     "name": "stdout",
     "output_type": "stream",
     "text": [
      "=============================================================\n",
      "epoch: 5, source_val_acc_label: 0.9863, target_val_acc_label: 0.3744, source_val_label_loss: 0.0596, target_val_label_loss: 2.3533, \n",
      "=============================================================\n"
     ]
    },
    {
     "name": "stdout",
     "output_type": "stream",
     "text": [
      "epoch: 6, [batch: 1 / 13152], examples_per_second: 1.4723, train_label_loss: 0.1054, \n"
     ]
    },
    {
     "name": "stdout",
     "output_type": "stream",
     "text": [
      "epoch: 6, [batch: 1316 / 13152], examples_per_second: 1744.8438, train_label_loss: 0.0301, \n"
     ]
    },
    {
     "name": "stdout",
     "output_type": "stream",
     "text": [
      "epoch: 6, [batch: 2631 / 13152], examples_per_second: 1742.0541, train_label_loss: 0.0057, \n"
     ]
    },
    {
     "name": "stdout",
     "output_type": "stream",
     "text": [
      "epoch: 6, [batch: 3946 / 13152], examples_per_second: 1743.0794, train_label_loss: 0.0002, \n"
     ]
    },
    {
     "name": "stdout",
     "output_type": "stream",
     "text": [
      "epoch: 6, [batch: 5261 / 13152], examples_per_second: 1829.7144, train_label_loss: 0.0536, \n"
     ]
    },
    {
     "name": "stdout",
     "output_type": "stream",
     "text": [
      "epoch: 6, [batch: 6576 / 13152], examples_per_second: 2113.2477, train_label_loss: 0.0184, \n"
     ]
    },
    {
     "name": "stdout",
     "output_type": "stream",
     "text": [
      "epoch: 6, [batch: 7891 / 13152], examples_per_second: 1741.9435, train_label_loss: 0.0001, \n"
     ]
    },
    {
     "name": "stdout",
     "output_type": "stream",
     "text": [
      "epoch: 6, [batch: 9206 / 13152], examples_per_second: 1738.3822, train_label_loss: 0.0001, \n"
     ]
    },
    {
     "name": "stdout",
     "output_type": "stream",
     "text": [
      "epoch: 6, [batch: 10521 / 13152], examples_per_second: 1744.6835, train_label_loss: 0.0109, \n"
     ]
    },
    {
     "name": "stdout",
     "output_type": "stream",
     "text": [
      "epoch: 6, [batch: 11836 / 13152], examples_per_second: 1743.6594, train_label_loss: 0.0024, \n"
     ]
    },
    {
     "name": "stdout",
     "output_type": "stream",
     "text": [
      "=============================================================\n",
      "epoch: 6, source_val_acc_label: 0.9870, target_val_acc_label: 0.3196, source_val_label_loss: 0.0560, target_val_label_loss: 2.3420, \n",
      "=============================================================\n"
     ]
    },
    {
     "name": "stdout",
     "output_type": "stream",
     "text": [
      "Patience (3) exhausted\n"
     ]
    }
   ],
   "source": [
    "###################################\n",
    "# train\n",
    "###################################\n",
    "jig = PTN_Train_Eval_Test_Jig(model, p.BEST_MODEL_PATH, p.device)\n",
    "\n",
    "jig.train(\n",
    "    train_iterable=datasets.source.processed.train,\n",
    "    source_val_iterable=datasets.source.processed.val,\n",
    "    target_val_iterable=datasets.target.processed.val,\n",
    "    num_epochs=p.n_epoch,\n",
    "    num_logs_per_epoch=p.NUM_LOGS_PER_EPOCH,\n",
    "    patience=p.patience,\n",
    "    optimizer=optimizer,\n",
    "    criteria_for_best=p.criteria_for_best,\n",
    ")"
   ]
  },
  {
   "cell_type": "code",
   "execution_count": 23,
   "id": "31e8fabf",
   "metadata": {
    "execution": {
     "iopub.execute_input": "2022-03-20T12:53:22.272827Z",
     "iopub.status.busy": "2022-03-20T12:53:22.272293Z",
     "iopub.status.idle": "2022-03-20T12:53:22.290795Z",
     "shell.execute_reply": "2022-03-20T12:53:22.291315Z"
    },
    "papermill": {
     "duration": 0.049433,
     "end_time": "2022-03-20T12:53:22.291471",
     "exception": false,
     "start_time": "2022-03-20T12:53:22.242038",
     "status": "completed"
    },
    "tags": []
   },
   "outputs": [],
   "source": [
    "total_experiment_time_secs = time.time() - start_time_secs"
   ]
  },
  {
   "cell_type": "code",
   "execution_count": 24,
   "id": "87b9595b",
   "metadata": {
    "execution": {
     "iopub.execute_input": "2022-03-20T12:53:22.354080Z",
     "iopub.status.busy": "2022-03-20T12:53:22.351638Z",
     "iopub.status.idle": "2022-03-20T12:57:12.199294Z",
     "shell.execute_reply": "2022-03-20T12:57:12.199522Z"
    },
    "papermill": {
     "duration": 229.877612,
     "end_time": "2022-03-20T12:57:12.199607",
     "exception": false,
     "start_time": "2022-03-20T12:53:22.321995",
     "status": "completed"
    },
    "tags": []
   },
   "outputs": [],
   "source": [
    "###################################\n",
    "# Evaluate the model\n",
    "###################################\n",
    "source_test_label_accuracy, source_test_label_loss = jig.test(datasets.source.processed.test)\n",
    "target_test_label_accuracy, target_test_label_loss = jig.test(datasets.target.processed.test)\n",
    "\n",
    "source_val_label_accuracy, source_val_label_loss = jig.test(datasets.source.processed.val)\n",
    "target_val_label_accuracy, target_val_label_loss = jig.test(datasets.target.processed.val)\n",
    "\n",
    "history = jig.get_history()\n",
    "\n",
    "total_epochs_trained = len(history[\"epoch_indices\"])\n",
    "\n",
    "val_dl = Iterable_Aggregator((datasets.source.original.val,datasets.target.original.val))\n",
    "\n",
    "confusion = ptn_confusion_by_domain_over_dataloader(model, p.device, val_dl)\n",
    "per_domain_accuracy = per_domain_accuracy_from_confusion(confusion)\n",
    "\n",
    "# Add a key to per_domain_accuracy for if it was a source domain\n",
    "for domain, accuracy in per_domain_accuracy.items():\n",
    "    per_domain_accuracy[domain] = {\n",
    "        \"accuracy\": accuracy,\n",
    "        \"source?\": domain in p.domains_source\n",
    "    }\n",
    "\n",
    "# Do an independent accuracy assesment JUST TO BE SURE!\n",
    "# _source_test_label_accuracy = independent_accuracy_assesment(model, datasets.source.processed.test, p.device)\n",
    "# _target_test_label_accuracy = independent_accuracy_assesment(model, datasets.target.processed.test, p.device)\n",
    "# _source_val_label_accuracy = independent_accuracy_assesment(model, datasets.source.processed.val, p.device)\n",
    "# _target_val_label_accuracy = independent_accuracy_assesment(model, datasets.target.processed.val, p.device)\n",
    "\n",
    "# assert(_source_test_label_accuracy == source_test_label_accuracy)\n",
    "# assert(_target_test_label_accuracy == target_test_label_accuracy)\n",
    "# assert(_source_val_label_accuracy == source_val_label_accuracy)\n",
    "# assert(_target_val_label_accuracy == target_val_label_accuracy)\n",
    "\n",
    "experiment = {\n",
    "    \"experiment_name\": p.experiment_name,\n",
    "    \"parameters\": dict(p),\n",
    "    \"results\": {\n",
    "        \"source_test_label_accuracy\": source_test_label_accuracy,\n",
    "        \"source_test_label_loss\": source_test_label_loss,\n",
    "        \"target_test_label_accuracy\": target_test_label_accuracy,\n",
    "        \"target_test_label_loss\": target_test_label_loss,\n",
    "        \"source_val_label_accuracy\": source_val_label_accuracy,\n",
    "        \"source_val_label_loss\": source_val_label_loss,\n",
    "        \"target_val_label_accuracy\": target_val_label_accuracy,\n",
    "        \"target_val_label_loss\": target_val_label_loss,\n",
    "        \"total_epochs_trained\": total_epochs_trained,\n",
    "        \"total_experiment_time_secs\": total_experiment_time_secs,\n",
    "        \"confusion\": confusion,\n",
    "        \"per_domain_accuracy\": per_domain_accuracy,\n",
    "    },\n",
    "    \"history\": history,\n",
    "    \"dataset_metrics\": get_dataset_metrics(datasets, \"ptn\"),\n",
    "}"
   ]
  },
  {
   "cell_type": "code",
   "execution_count": 25,
   "id": "54a21829",
   "metadata": {
    "execution": {
     "iopub.execute_input": "2022-03-20T12:57:12.266480Z",
     "iopub.status.busy": "2022-03-20T12:57:12.265575Z",
     "iopub.status.idle": "2022-03-20T12:57:12.391062Z",
     "shell.execute_reply": "2022-03-20T12:57:12.391563Z"
    },
    "papermill": {
     "duration": 0.156772,
     "end_time": "2022-03-20T12:57:12.391702",
     "exception": false,
     "start_time": "2022-03-20T12:57:12.234930",
     "status": "completed"
    },
    "tags": []
   },
   "outputs": [
    {
     "data": {
      "image/png": "[encoded data removed]",
      "text/plain": [
       "<Figure size 1080x504 with 1 Axes>"
      ]
     },
     "metadata": {
      "needs_background": "light"
     },
     "output_type": "display_data"
    }
   ],
   "source": [
    "ax = get_loss_curve(experiment)\n",
    "plt.show()"
   ]
  },
  {
   "cell_type": "code",
   "execution_count": 26,
   "id": "fd8a0f60",
   "metadata": {
    "execution": {
     "iopub.execute_input": "2022-03-20T12:57:12.453591Z",
     "iopub.status.busy": "2022-03-20T12:57:12.453338Z",
     "iopub.status.idle": "2022-03-20T12:57:12.617168Z",
     "shell.execute_reply": "2022-03-20T12:57:12.617385Z"
    },
    "papermill": {
     "duration": 0.193694,
     "end_time": "2022-03-20T12:57:12.617469",
     "exception": false,
     "start_time": "2022-03-20T12:57:12.423775",
     "status": "completed"
    },
    "tags": []
   },
   "outputs": [
    {
     "data": {
      "text/plain": [
       "<AxesSubplot:title={'center':'Results'}>"
      ]
     },
     "execution_count": 26,
     "metadata": {},
     "output_type": "execute_result"
    },
    {
     "data": {
      "image/png": "[encoded data removed]",
      "text/plain": [
       "<Figure size 1080x504 with 1 Axes>"
      ]
     },
     "metadata": {
      "needs_background": "light"
     },
     "output_type": "display_data"
    }
   ],
   "source": [
    "get_results_table(experiment)"
   ]
  },
  {
   "cell_type": "code",
   "execution_count": 27,
   "id": "cf8dc689",
   "metadata": {
    "execution": {
     "iopub.execute_input": "2022-03-20T12:57:12.683043Z",
     "iopub.status.busy": "2022-03-20T12:57:12.682336Z",
     "iopub.status.idle": "2022-03-20T12:57:12.837256Z",
     "shell.execute_reply": "2022-03-20T12:57:12.836857Z"
    },
    "papermill": {
     "duration": 0.187969,
     "end_time": "2022-03-20T12:57:12.837343",
     "exception": false,
     "start_time": "2022-03-20T12:57:12.649374",
     "status": "completed"
    },
    "tags": []
   },
   "outputs": [
    {
     "data": {
      "text/plain": [
       "<AxesSubplot:title={'center':'Per Domain Validation Accuracy'}, xlabel='domain'>"
      ]
     },
     "execution_count": 27,
     "metadata": {},
     "output_type": "execute_result"
    },
    {
     "data": {
      "image/png": "[encoded data removed]",
      "text/plain": [
       "<Figure size 1080x504 with 1 Axes>"
      ]
     },
     "metadata": {
      "needs_background": "light"
     },
     "output_type": "display_data"
    }
   ],
   "source": [
    "get_domain_accuracies(experiment)"
   ]
  },
  {
   "cell_type": "code",
   "execution_count": 28,
   "id": "a74ae082",
   "metadata": {
    "execution": {
     "iopub.execute_input": "2022-03-20T12:57:12.904456Z",
     "iopub.status.busy": "2022-03-20T12:57:12.903085Z",
     "iopub.status.idle": "2022-03-20T12:57:12.920715Z",
     "shell.execute_reply": "2022-03-20T12:57:12.921027Z"
    },
    "papermill": {
     "duration": 0.049988,
     "end_time": "2022-03-20T12:57:12.921128",
     "exception": false,
     "start_time": "2022-03-20T12:57:12.871140",
     "status": "completed"
    },
    "tags": []
   },
   "outputs": [
    {
     "name": "stdout",
     "output_type": "stream",
     "text": [
      "Source Test Label Accuracy: 0.9828580097087378 Target Test Label Accuracy: 0.43938802083333334\n",
      "Source Val Label Accuracy: 0.982934275521405 Target Val Label Accuracy: 0.43697916666666664\n"
     ]
    }
   ],
   "source": [
    "print(\"Source Test Label Accuracy:\", experiment[\"results\"][\"source_test_label_accuracy\"], \"Target Test Label Accuracy:\", experiment[\"results\"][\"target_test_label_accuracy\"])\n",
    "print(\"Source Val Label Accuracy:\", experiment[\"results\"][\"source_val_label_accuracy\"], \"Target Val Label Accuracy:\", experiment[\"results\"][\"target_val_label_accuracy\"])"
   ]
  },
  {
   "cell_type": "code",
   "execution_count": 29,
   "id": "dacca602",
   "metadata": {
    "execution": {
     "iopub.execute_input": "2022-03-20T12:57:12.987950Z",
     "iopub.status.busy": "2022-03-20T12:57:12.987689Z",
     "iopub.status.idle": "2022-03-20T12:57:13.007932Z",
     "shell.execute_reply": "2022-03-20T12:57:13.008237Z"
    },
    "papermill": {
     "duration": 0.053168,
     "end_time": "2022-03-20T12:57:13.008337",
     "exception": false,
     "start_time": "2022-03-20T12:57:12.955169",
     "status": "completed"
    },
    "tags": [
     "experiment_json"
    ]
   },
   "outputs": [
    {
     "data": {
      "text/plain": [
       "'{\"experiment_name\": \"tl_2v2:cores+wisig -> oracle.run1.framed\", \"parameters\": {\"experiment_name\": \"tl_2v2:cores+wisig -> oracle.run1.framed\", \"device\": \"cuda\", \"lr\": 0.0001, \"n_shot\": 3, \"n_query\": 2, \"train_k_factor\": 3, \"val_k_factor\": 2, \"test_k_factor\": 2, \"torch_default_dtype\": \"torch.float32\", \"n_epoch\": 50, \"patience\": 3, \"criteria_for_best\": \"target_accuracy\", \"x_net\": [{\"class\": \"nnReshape\", \"kargs\": {\"shape\": [-1, 1, 2, 256]}}, {\"class\": \"Conv2d\", \"kargs\": {\"in_channels\": 1, \"out_channels\": 256, \"kernel_size\": [1, 7], \"bias\": false, \"padding\": [0, 3]}}, {\"class\": \"ReLU\", \"kargs\": {\"inplace\": true}}, {\"class\": \"BatchNorm2d\", \"kargs\": {\"num_features\": 256}}, {\"class\": \"Conv2d\", \"kargs\": {\"in_channels\": 256, \"out_channels\": 80, \"kernel_size\": [2, 7], \"bias\": true, \"padding\": [0, 3]}}, {\"class\": \"ReLU\", \"kargs\": {\"inplace\": true}}, {\"class\": \"BatchNorm2d\", \"kargs\": {\"num_features\": 80}}, {\"class\": \"Flatten\", \"kargs\": {}}, {\"class\": \"Linear\", \"kargs\": {\"in_features\": 20480, \"out_features\": 256}}, {\"class\": \"ReLU\", \"kargs\": {\"inplace\": true}}, {\"class\": \"BatchNorm1d\", \"kargs\": {\"num_features\": 256}}, {\"class\": \"Linear\", \"kargs\": {\"in_features\": 256, \"out_features\": 256}}], \"NUM_LOGS_PER_EPOCH\": 10, \"BEST_MODEL_PATH\": \"./best_model.pth\", \"n_way\": 16, \"datasets\": [{\"labels\": [\"1-10.\", \"1-11.\", \"1-15.\", \"1-16.\", \"1-17.\", \"1-18.\", \"1-19.\", \"10-4.\", \"10-7.\", \"11-1.\", \"11-14.\", \"11-17.\", \"11-20.\", \"11-7.\", \"13-20.\", \"13-8.\", \"14-10.\", \"14-11.\", \"14-14.\", \"14-7.\", \"15-1.\", \"15-20.\", \"16-1.\", \"16-16.\", \"17-10.\", \"17-11.\", \"17-2.\", \"19-1.\", \"19-16.\", \"19-19.\", \"19-20.\", \"19-3.\", \"2-10.\", \"2-11.\", \"2-17.\", \"2-18.\", \"2-20.\", \"2-3.\", \"2-4.\", \"2-5.\", \"2-6.\", \"2-7.\", \"2-8.\", \"3-13.\", \"3-18.\", \"3-3.\", \"4-1.\", \"4-10.\", \"4-11.\", \"4-19.\", \"5-5.\", \"6-15.\", \"7-10.\", \"7-14.\", \"8-18.\", \"8-20.\", \"8-3.\", \"8-8.\"], \"domains\": [1, 2, 3, 4, 5], \"num_examples_per_domain_per_label\": -1, \"pickle_path\": \"/mnt/wd500GB/CSC500/csc500-main/datasets/cores.stratified_ds.2022A.pkl\", \"source_or_target_dataset\": \"source\", \"x_transforms\": [], \"episode_transforms\": [], \"domain_prefix\": \"C_\"}, {\"labels\": [\"1-10\", \"1-12\", \"1-14\", \"1-16\", \"1-18\", \"1-19\", \"1-8\", \"10-11\", \"10-17\", \"10-4\", \"10-7\", \"11-1\", \"11-10\", \"11-19\", \"11-20\", \"11-4\", \"11-7\", \"12-19\", \"12-20\", \"12-7\", \"13-14\", \"13-18\", \"13-19\", \"13-20\", \"13-3\", \"13-7\", \"14-10\", \"14-11\", \"14-12\", \"14-13\", \"14-14\", \"14-19\", \"14-20\", \"14-7\", \"14-8\", \"14-9\", \"15-1\", \"15-19\", \"15-6\", \"16-1\", \"16-16\", \"16-19\", \"16-20\", \"17-10\", \"17-11\", \"18-1\", \"18-10\", \"18-11\", \"18-12\", \"18-13\", \"18-14\", \"18-15\", \"18-16\", \"18-17\", \"18-19\", \"18-2\", \"18-20\", \"18-4\", \"18-5\", \"18-7\", \"18-8\", \"18-9\", \"19-1\", \"19-10\", \"19-11\", \"19-12\", \"19-13\", \"19-14\", \"19-15\", \"19-19\", \"19-2\", \"19-20\", \"19-3\", \"19-4\", \"19-6\", \"19-7\", \"19-8\", \"19-9\", \"2-1\", \"2-13\", \"2-15\", \"2-3\", \"2-4\", \"2-5\", \"2-6\", \"2-7\", \"2-8\", \"20-1\", \"20-12\", \"20-14\", \"20-15\", \"20-16\", \"20-18\", \"20-19\", \"20-20\", \"20-3\", \"20-4\", \"20-5\", \"20-7\", \"20-8\", \"3-1\", \"3-13\", \"3-18\", \"3-2\", \"3-8\", \"4-1\", \"4-10\", \"4-11\", \"5-1\", \"5-5\", \"6-1\", \"6-15\", \"6-6\", \"7-10\", \"7-11\", \"7-12\", \"7-13\", \"7-14\", \"7-7\", \"7-8\", \"7-9\", \"8-1\", \"8-13\", \"8-14\", \"8-18\", \"8-20\", \"8-3\", \"8-8\", \"9-1\", \"9-7\"], \"domains\": [1, 2, 3, 4], \"num_examples_per_domain_per_label\": -1, \"pickle_path\": \"/mnt/wd500GB/CSC500/csc500-main/datasets/wisig.node3-19.stratified_ds.2022A.pkl\", \"source_or_target_dataset\": \"source\", \"x_transforms\": [], \"episode_transforms\": [], \"domain_prefix\": \"W_\"}, {\"labels\": [\"3123D52\", \"3123D65\", \"3123D79\", \"3123D80\", \"3123D54\", \"3123D70\", \"3123D7B\", \"3123D89\", \"3123D58\", \"3123D76\", \"3123D7D\", \"3123EFE\", \"3123D64\", \"3123D78\", \"3123D7E\", \"3124E4A\"], \"domains\": [32, 38, 8, 44, 14, 50, 20, 26], \"num_examples_per_domain_per_label\": 2000, \"pickle_path\": \"/mnt/wd500GB/CSC500/csc500-main/datasets/oracle.Run1_framed_2000Examples_stratified_ds.2022A.pkl\", \"source_or_target_dataset\": \"target\", \"x_transforms\": [], \"episode_transforms\": [], \"domain_prefix\": \"O_\"}], \"seed\": 7, \"dataset_seed\": 7, \"x_shape\": [2, 256], \"domains_source\": [\"C_1\", \"C_2\", \"C_3\", \"C_4\", \"C_5\", \"W_1\", \"W_2\", \"W_3\", \"W_4\"], \"domains_target\": [\"O_32\", \"O_38\", \"O_8\", \"O_44\", \"O_14\", \"O_50\", \"O_20\", \"O_26\"]}, \"results\": {\"source_test_label_accuracy\": 0.9828580097087378, \"source_test_label_loss\": 0.07740689069032669, \"target_test_label_accuracy\": 0.43938802083333334, \"target_test_label_loss\": 2.3481435775756836, \"source_val_label_accuracy\": 0.982934275521405, \"source_val_label_loss\": 0.07713653892278671, \"target_val_label_accuracy\": 0.43697916666666664, \"target_val_label_loss\": 2.349555015563965, \"total_epochs_trained\": 6, \"total_experiment_time_secs\": 3716.3791234493256, \"confusion\": {\"W_4\": {\"71\": {\"71\": 103, \"84\": 1}, \"17\": {\"17\": 20}, \"105\": {\"105\": 87, \"88\": 2, \"111\": 2, \"109\": 1, \"4\": 1, \"108\": 1, \"40\": 2, \"69\": 1, \"59\": 1, \"128\": 1, \"87\": 1}, \"92\": {\"92\": 27, \"15\": 1}, \"100\": {\"100\": 20}, \"6\": {\"6\": 24}, \"36\": {\"36\": 125, \"94\": 1, \"84\": 1, \"1\": 1}, \"35\": {\"35\": 12}, \"63\": {\"63\": 16}, \"104\": {\"104\": 16}, \"114\": {\"114\": 124, \"30\": 1, \"111\": 1, \"24\": 1, \"105\": 1}, \"68\": {\"68\": 16}, \"109\": {\"109\": 114, \"84\": 2}, \"27\": {\"27\": 93, \"111\": 2, \"78\": 1, \"108\": 1, \"88\": 2, \"26\": 1}, \"79\": {\"79\": 16}, \"0\": {\"0\": 98, \"109\": 1, \"70\": 1, \"118\": 1, \"84\": 1, \"27\": 1, \"107\": 1, \"1\": 2}, \"28\": {\"28\": 19, \"16\": 1}, \"4\": {\"4\": 101, \"21\": 1, \"109\": 1, \"85\": 1}, \"106\": {\"106\": 98, \"21\": 1, \"39\": 1, \"108\": 1, \"88\": 1}, \"40\": {\"40\": 131, \"16\": 1, \"69\": 1, \"18\": 1}, \"127\": {\"127\": 106, \"111\": 1, \"1\": 1}, \"57\": {\"57\": 14, \"51\": 1, \"27\": 1}, \"60\": {\"60\": 29, \"11\": 2, \"71\": 1}, \"69\": {\"69\": 120, \"84\": 1, \"27\": 1, \"111\": 1, \"3\": 1}, \"84\": {\"84\": 128, \"108\": 1, \"78\": 1, \"121\": 1, \"1\": 1}, \"24\": {\"24\": 112, \"21\": 1, \"40\": 1, \"10\": 2, \"113\": 1, \"84\": 2, \"4\": 1}, \"94\": {\"84\": 1, \"94\": 84, \"36\": 1, \"111\": 1, \"26\": 1}, \"7\": {\"7\": 114, \"68\": 1, \"111\": 1, \"88\": 1, \"69\": 1, \"85\": 1, \"5\": 1}, \"96\": {\"96\": 16, \"59\": 1, \"68\": 1, \"82\": 1, \"46\": 1}, \"116\": {\"116\": 28}, \"47\": {\"47\": 9, \"68\": 2, \"65\": 1}, \"119\": {\"119\": 15, \"95\": 1}, \"74\": {\"74\": 15, \"121\": 1}, \"93\": {\"93\": 151, \"0\": 1}, \"2\": {\"2\": 28}, \"37\": {\"37\": 15, \"127\": 1}, \"15\": {\"15\": 125, \"26\": 1, \"106\": 1, \"111\": 1}, \"102\": {\"102\": 135, \"115\": 1}, \"87\": {\"87\": 118, \"111\": 1, \"84\": 1, \"122\": 1, \"43\": 1}, \"107\": {\"107\": 142, \"41\": 1, \"88\": 1}, \"61\": {\"61\": 14, \"91\": 1, \"21\": 1}, \"78\": {\"78\": 34, \"70\": 1, \"27\": 1}, \"9\": {\"9\": 28}, \"32\": {\"32\": 27, \"55\": 1}, \"14\": {\"14\": 111, \"66\": 1}, \"62\": {\"62\": 55, \"84\": 1, \"88\": 1, \"27\": 1, \"106\": 2}, \"1\": {\"95\": 1, \"1\": 96, \"69\": 1, \"114\": 2, \"24\": 1, \"70\": 1}, \"23\": {\"23\": 7, \"111\": 1, \"60\": 2, \"48\": 1, \"110\": 1, \"35\": 1, \"51\": 1, \"12\": 2}, \"95\": {\"95\": 31, \"1\": 1}, \"56\": {\"56\": 12}, \"91\": {\"91\": 23, \"59\": 1}, \"34\": {\"34\": 31, \"120\": 1}, \"25\": {\"25\": 16}, \"33\": {\"33\": 123, \"121\": 1}, \"16\": {\"16\": 118, \"69\": 1, \"105\": 1, \"118\": 2, \"87\": 1, \"33\": 1}, \"26\": {\"26\": 123, \"21\": 1, \"3\": 1, \"18\": 1}, \"5\": {\"5\": 128, \"8\": 1, \"3\": 1, \"15\": 1, \"81\": 1, \"43\": 2, \"129\": 1, \"111\": 1}, \"123\": {\"123\": 15, \"16\": 1}, \"8\": {\"8\": 118}, \"83\": {\"83\": 25, \"111\": 1, \"86\": 1, \"105\": 1}, \"125\": {\"125\": 134}, \"51\": {\"51\": 10, \"47\": 1, \"88\": 1, \"75\": 2, \"78\": 1, \"62\": 1}, \"22\": {\"22\": 15, \"31\": 1}, \"54\": {\"54\": 16}, \"66\": {\"66\": 16}, \"59\": {\"59\": 10, \"6\": 1, \"21\": 1}, \"111\": {\"111\": 126, \"5\": 1, \"11\": 1}, \"77\": {\"77\": 12}, \"103\": {\"103\": 16}, \"20\": {\"20\": 15, \"2\": 1}, \"124\": {\"124\": 118, \"71\": 1, \"84\": 1}, \"99\": {\"99\": 39, \"69\": 1}, \"120\": {\"99\": 1, \"120\": 18, \"21\": 1}, \"76\": {\"76\": 15, \"81\": 1}, \"110\": {\"110\": 111, \"40\": 2, \"16\": 1, \"68\": 1, \"36\": 1}, \"29\": {\"29\": 31, \"24\": 1}, \"118\": {\"118\": 105, \"12\": 1, \"71\": 1, \"106\": 1, \"50\": 1, \"21\": 1, \"78\": 1, \"110\": 1}, \"58\": {\"58\": 14, \"88\": 2}, \"13\": {\"13\": 15, \"85\": 1}, \"89\": {\"89\": 32}, \"31\": {\"31\": 15, \"95\": 1}, \"64\": {\"64\": 15, \"85\": 1}, \"65\": {\"65\": 12}, \"101\": {\"101\": 129, \"95\": 1, \"14\": 1, \"127\": 1}, \"126\": {\"126\": 116, \"111\": 1, \"117\": 1}, \"108\": {\"108\": 79, \"23\": 1, \"70\": 2, \"43\": 1, \"16\": 1, \"98\": 1, \"27\": 2, \"129\": 1, \"18\": 1, \"88\": 2, \"107\": 1}, \"45\": {\"45\": 16}, \"21\": {\"21\": 37, \"108\": 1, \"69\": 1, \"43\": 1}, \"30\": {\"30\": 74, \"39\": 1, \"88\": 1}, \"82\": {\"82\": 30, \"105\": 1, \"98\": 1}, \"85\": {\"85\": 28}, \"88\": {\"88\": 124, \"70\": 2, \"111\": 1, \"118\": 2, \"15\": 1, \"105\": 1, \"27\": 1}, \"41\": {\"41\": 15, \"88\": 1}, \"128\": {\"128\": 20, \"32\": 1, \"52\": 1, \"85\": 2}, \"39\": {\"39\": 94, \"84\": 2, \"43\": 1, \"122\": 1, \"72\": 1, \"109\": 1}, \"18\": {\"18\": 113, \"60\": 1, \"27\": 1, \"5\": 1, \"111\": 1, \"43\": 1, \"84\": 2}, \"113\": {\"113\": 122, \"114\": 1, \"43\": 2, \"41\": 1, \"68\": 1, \"84\": 1}, \"11\": {\"11\": 134, \"33\": 1, \"84\": 1, \"1\": 1, \"43\": 1}, \"43\": {\"43\": 115, \"111\": 1, \"36\": 1, \"69\": 1, \"105\": 1, \"109\": 1}, \"12\": {\"12\": 97, \"111\": 2, \"14\": 1}, \"122\": {\"122\": 81, \"69\": 1, \"109\": 1, \"111\": 1}, \"52\": {\"52\": 20}, \"44\": {\"44\": 63, \"98\": 1}, \"90\": {\"90\": 133, \"33\": 1}, \"112\": {\"112\": 16}, \"86\": {\"86\": 28}, \"3\": {\"3\": 113, \"78\": 1, \"84\": 1, \"111\": 1}, \"38\": {\"38\": 16}, \"121\": {\"121\": 30, \"44\": 2}, \"46\": {\"46\": 18, \"121\": 1, \"73\": 1}, \"70\": {\"70\": 118, \"10\": 2, \"106\": 1, \"43\": 1, \"24\": 1, \"12\": 1}, \"67\": {\"67\": 16}, \"53\": {\"53\": 16}, \"49\": {\"49\": 29, \"25\": 1, \"100\": 1, \"19\": 1}, \"42\": {\"42\": 26, \"124\": 1, \"19\": 1}, \"10\": {\"10\": 114, \"111\": 1, \"40\": 1, \"122\": 1, \"127\": 1}, \"50\": {\"50\": 16}, \"73\": {\"73\": 23, \"62\": 1}, \"115\": {\"115\": 14, \"55\": 1, \"102\": 1}, \"80\": {\"80\": 15, \"72\": 1}, \"19\": {\"19\": 25, \"129\": 1, \"26\": 1, \"27\": 1}, \"55\": {\"55\": 16}, \"72\": {\"72\": 31, \"51\": 1}, \"117\": {\"117\": 116}, \"81\": {\"81\": 33, \"72\": 1, \"69\": 1, \"78\": 1}, \"75\": {\"75\": 16}, \"98\": {\"98\": 116, \"16\": 1, \"14\": 1, \"25\": 1, \"88\": 1}, \"48\": {\"48\": 16}, \"129\": {\"129\": 27, \"0\": 1}, \"97\": {\"97\": 17, \"24\": 2, \"16\": 1}}, \"C_5\": {\"26\": {\"26\": 24}, \"7\": {\"7\": 32}, \"56\": {\"56\": 142}, \"36\": {\"36\": 92}, \"47\": {\"47\": 100}, \"2\": {\"2\": 28}, \"15\": {\"15\": 152}, \"14\": {\"14\": 38, \"47\": 3, \"43\": 2, \"57\": 1}, \"27\": {\"27\": 146}, \"40\": {\"40\": 124}, \"49\": {\"49\": 36}, \"45\": {\"45\": 123, \"6\": 1}, \"46\": {\"46\": 136}, \"11\": {\"11\": 130}, \"30\": {\"30\": 112}, \"0\": {\"0\": 124}, \"10\": {\"10\": 68}, \"1\": {\"1\": 148}, \"42\": {\"42\": 38, \"10\": 1, \"38\": 1}, \"54\": {\"54\": 112}, \"55\": {\"55\": 152}, \"23\": {\"23\": 124}, \"25\": {\"25\": 152}, \"28\": {\"28\": 32}, \"32\": {\"32\": 32}, \"9\": {\"9\": 142}, \"39\": {\"39\": 20}, \"3\": {\"3\": 100}, \"29\": {\"29\": 118}, \"17\": {\"17\": 116}, \"35\": {\"35\": 36}, \"44\": {\"44\": 152}, \"5\": {\"5\": 128}, \"33\": {\"33\": 32}, \"34\": {\"34\": 36}, \"13\": {\"13\": 138}, \"41\": {\"41\": 28}, \"6\": {\"6\": 125, \"45\": 3}, \"51\": {\"51\": 138}, \"50\": {\"50\": 144}, \"37\": {\"37\": 24}, \"19\": {\"19\": 144}, \"57\": {\"57\": 132}, \"21\": {\"21\": 144}, \"24\": {\"24\": 80}, \"8\": {\"8\": 130}, \"12\": {\"12\": 96}, \"48\": {\"48\": 132}, \"43\": {\"43\": 150}, \"53\": {\"53\": 148}, \"38\": {\"38\": 32}, \"16\": {\"16\": 141, \"23\": 1}, \"22\": {\"22\": 28}, \"4\": {\"4\": 100}, \"18\": {\"18\": 64}, \"20\": {\"20\": 144}, \"52\": {\"52\": 140}, \"31\": {\"31\": 36}}, \"W_1\": {\"105\": {\"105\": 82, \"40\": 2}, \"100\": {\"100\": 16}, \"112\": {\"112\": 16}, \"123\": {\"123\": 16}, \"13\": {\"13\": 16}, \"81\": {\"81\": 28}, \"124\": {\"124\": 119, \"125\": 1}, \"122\": {\"122\": 88}, \"111\": {\"111\": 120}, \"93\": {\"93\": 155, \"21\": 1, \"43\": 1, \"11\": 1}, \"106\": {\"106\": 114, \"88\": 2, \"43\": 1, \"11\": 1}, \"113\": {\"113\": 123, \"122\": 1}, \"95\": {\"95\": 36}, \"87\": {\"87\": 105, \"84\": 1, \"43\": 1, \"18\": 1}, \"86\": {\"86\": 35, \"24\": 1}, \"67\": {\"67\": 16}, \"85\": {\"85\": 32}, \"82\": {\"82\": 36}, \"115\": {\"115\": 12}, \"7\": {\"7\": 142}, \"44\": {\"44\": 76}, \"65\": {\"65\": 11, \"61\": 1}, \"129\": {\"129\": 25, \"19\": 1, \"27\": 1, \"86\": 1}, \"42\": {\"42\": 27, \"124\": 1}, \"28\": {\"88\": 1, \"28\": 18, \"30\": 1}, \"0\": {\"0\": 82, \"33\": 1, \"24\": 1}, \"10\": {\"10\": 120}, \"76\": {\"76\": 15, \"105\": 1}, \"88\": {\"88\": 125, \"24\": 1}, \"29\": {\"29\": 28}, \"16\": {\"16\": 105, \"111\": 2, \"82\": 1}, \"41\": {\"41\": 16}, \"27\": {\"27\": 91, \"15\": 1}, \"33\": {\"33\": 118, \"121\": 1, \"40\": 1}, \"75\": {\"75\": 16}, \"48\": {\"48\": 12}, \"56\": {\"56\": 11, \"71\": 1}, \"9\": {\"9\": 31, \"26\": 1}, \"1\": {\"1\": 125, \"111\": 1}, \"39\": {\"39\": 103, \"43\": 1}, \"50\": {\"39\": 1, \"50\": 12, \"4\": 1, \"10\": 1, \"111\": 1}, \"99\": {\"99\": 23, \"86\": 1}, \"90\": {\"90\": 122}, \"45\": {\"104\": 1, \"45\": 8, \"84\": 1, \"46\": 1, \"39\": 1}, \"5\": {\"5\": 88}, \"128\": {\"128\": 19, \"25\": 1, \"73\": 2, \"89\": 1, \"19\": 1}, \"2\": {\"2\": 25, \"129\": 1, \"119\": 1, \"45\": 1, \"10\": 1, \"86\": 1, \"100\": 1, \"46\": 1}, \"53\": {\"53\": 20}, \"104\": {\"104\": 16}, \"32\": {\"32\": 32}, \"92\": {\"92\": 28}, \"78\": {\"53\": 1, \"78\": 13, \"31\": 1, \"118\": 1}, \"19\": {\"19\": 25, \"29\": 2, \"128\": 1}, \"120\": {\"120\": 19, \"14\": 1}, \"43\": {\"43\": 125, \"106\": 1, \"12\": 1, \"109\": 1}, \"74\": {\"74\": 16}, \"11\": {\"11\": 129, \"106\": 1}, \"26\": {\"26\": 129, \"43\": 2, \"69\": 1}, \"125\": {\"125\": 132}, \"64\": {\"64\": 16}, \"127\": {\"127\": 105, \"110\": 1, \"69\": 1, \"94\": 1}, \"83\": {\"83\": 27, \"12\": 1}, \"118\": {\"118\": 84}, \"103\": {\"103\": 15, \"68\": 1}, \"55\": {\"55\": 12}, \"110\": {\"110\": 126}, \"30\": {\"30\": 51, \"105\": 1}, \"51\": {\"51\": 16}, \"6\": {\"6\": 26, \"34\": 3, \"95\": 1, \"91\": 2}, \"96\": {\"96\": 19, \"74\": 1}, \"114\": {\"114\": 142, \"107\": 1, \"39\": 1}, \"69\": {\"69\": 107, \"109\": 1}, \"60\": {\"60\": 14, \"96\": 1, \"17\": 1}, \"94\": {\"94\": 91, \"109\": 1}, \"79\": {\"79\": 12}, \"126\": {\"126\": 132, \"12\": 1, \"21\": 1}, \"68\": {\"68\": 16}, \"72\": {\"72\": 32}, \"63\": {\"63\": 16}, \"22\": {\"22\": 15, \"106\": 1}, \"121\": {\"121\": 31, \"88\": 1}, \"71\": {\"71\": 101, \"52\": 1, \"53\": 2, \"106\": 1, \"43\": 1, \"125\": 1, \"26\": 1}, \"54\": {\"54\": 16}, \"102\": {\"102\": 119, \"17\": 1}, \"73\": {\"73\": 17, \"88\": 1, \"98\": 1, \"68\": 1}, \"38\": {\"38\": 16}, \"4\": {\"4\": 95, \"102\": 2, \"111\": 1, \"5\": 2}, \"52\": {\"52\": 20}, \"70\": {\"70\": 127, \"62\": 1}, \"91\": {\"91\": 25, \"42\": 1, \"58\": 2}, \"77\": {\"77\": 15, \"61\": 1}, \"20\": {\"20\": 16}, \"59\": {\"59\": 12}, \"40\": {\"40\": 133, \"105\": 1, \"82\": 1, \"111\": 1}, \"98\": {\"98\": 108}, \"46\": {\"46\": 8, \"25\": 1, \"59\": 2, \"53\": 1}, \"34\": {\"34\": 31, \"53\": 1}, \"24\": {\"24\": 88, \"59\": 1, \"97\": 1, \"3\": 1, \"11\": 1}, \"62\": {\"62\": 118, \"74\": 1, \"82\": 1}, \"14\": {\"14\": 96}, \"12\": {\"12\": 98, \"31\": 2, \"23\": 1, \"43\": 1, \"40\": 1, \"70\": 1}, \"84\": {\"84\": 131, \"107\": 1, \"26\": 1, \"11\": 1}, \"37\": {\"37\": 16}, \"97\": {\"27\": 3, \"97\": 16, \"15\": 1}, \"57\": {\"57\": 11, \"89\": 1}, \"49\": {\"49\": 19, \"101\": 1}, \"17\": {\"17\": 14, \"2\": 1, \"16\": 1}, \"109\": {\"109\": 105, \"70\": 1}, \"80\": {\"80\": 16}, \"66\": {\"66\": 16}, \"101\": {\"101\": 123, \"11\": 1}, \"89\": {\"89\": 34, \"25\": 1, \"42\": 1}, \"31\": {\"31\": 16}, \"21\": {\"21\": 35, \"85\": 1, \"106\": 1, \"73\": 1, \"40\": 2}, \"23\": {\"23\": 15, \"70\": 1, \"110\": 2, \"12\": 1, \"98\": 1, \"55\": 2, \"71\": 1, \"41\": 1}, \"25\": {\"25\": 13, \"42\": 2, \"30\": 1}, \"107\": {\"107\": 109, \"105\": 1, \"111\": 1, \"94\": 1}, \"3\": {\"3\": 84, \"71\": 1, \"122\": 1, \"12\": 1, \"69\": 1}, \"61\": {\"61\": 10, \"122\": 1, \"65\": 1}, \"117\": {\"117\": 125, \"5\": 1}, \"119\": {\"119\": 15, \"65\": 1}, \"58\": {\"58\": 12}, \"47\": {\"47\": 12}, \"116\": {\"116\": 32}, \"18\": {\"18\": 122, \"113\": 1, \"122\": 1}, \"36\": {\"36\": 119, \"82\": 1, \"40\": 1, \"71\": 1}, \"108\": {\"108\": 110, \"71\": 2}, \"15\": {\"15\": 103, \"87\": 1}, \"8\": {\"8\": 114}, \"35\": {\"35\": 12}}, \"C_1\": {\"41\": {\"41\": 24}, \"40\": {\"40\": 110}, \"45\": {\"45\": 138}, \"51\": {\"51\": 148}, \"5\": {\"5\": 154}, \"30\": {\"30\": 120}, \"42\": {\"42\": 40}, \"46\": {\"46\": 136}, \"48\": {\"48\": 134}, \"53\": {\"53\": 144}, \"47\": {\"47\": 152}, \"49\": {\"49\": 32}, \"36\": {\"36\": 64}, \"32\": {\"32\": 32}, \"34\": {\"34\": 24}, \"29\": {\"29\": 140}, \"35\": {\"35\": 36}, \"3\": {\"3\": 134}, \"16\": {\"16\": 140}, \"26\": {\"26\": 24}, \"57\": {\"57\": 144}, \"44\": {\"44\": 128}, \"0\": {\"0\": 152}, \"4\": {\"4\": 132}, \"31\": {\"31\": 28}, \"11\": {\"11\": 140}, \"6\": {\"6\": 96}, \"54\": {\"54\": 104}, \"17\": {\"17\": 64}, \"20\": {\"20\": 128}, \"13\": {\"13\": 150}, \"33\": {\"33\": 32}, \"24\": {\"24\": 108}, \"52\": {\"52\": 132}, \"2\": {\"2\": 36}, \"19\": {\"19\": 156}, \"39\": {\"39\": 28}, \"8\": {\"8\": 140}, \"21\": {\"21\": 124}, \"10\": {\"10\": 96}, \"37\": {\"37\": 32}, \"25\": {\"25\": 144}, \"27\": {\"27\": 130}, \"23\": {\"23\": 136}, \"1\": {\"1\": 100}, \"50\": {\"50\": 152}, \"12\": {\"12\": 116}, \"18\": {\"18\": 72}, \"38\": {\"38\": 24}, \"14\": {\"14\": 24}, \"56\": {\"56\": 142}, \"55\": {\"55\": 160}, \"9\": {\"9\": 138}, \"15\": {\"15\": 146}, \"28\": {\"28\": 28}, \"7\": {\"7\": 28}, \"43\": {\"43\": 136}, \"22\": {\"22\": 136}}, \"C_3\": {\"1\": {\"1\": 100}, \"9\": {\"9\": 124}, \"22\": {\"22\": 136}, \"43\": {\"43\": 136}, \"49\": {\"49\": 20}, \"50\": {\"50\": 138}, \"53\": {\"53\": 136}, \"10\": {\"10\": 64}, \"48\": {\"48\": 116}, \"8\": {\"8\": 138}, \"31\": {\"31\": 28}, \"56\": {\"56\": 134}, \"25\": {\"25\": 142}, \"28\": {\"28\": 28}, \"38\": {\"38\": 28}, \"5\": {\"5\": 116}, \"12\": {\"12\": 92}, \"6\": {\"6\": 88}, \"19\": {\"19\": 152}, \"26\": {\"26\": 24}, \"32\": {\"32\": 28}, \"33\": {\"33\": 28}, \"3\": {\"3\": 118}, \"51\": {\"51\": 128}, \"16\": {\"16\": 138}, \"46\": {\"46\": 140}, \"7\": {\"7\": 36}, \"47\": {\"47\": 92}, \"39\": {\"39\": 16}, \"40\": {\"40\": 136}, \"14\": {\"14\": 40}, \"37\": {\"37\": 28}, \"2\": {\"2\": 32}, \"21\": {\"21\": 120}, \"35\": {\"35\": 28}, \"54\": {\"54\": 100}, \"52\": {\"52\": 116}, \"29\": {\"29\": 118}, \"20\": {\"20\": 132}, \"18\": {\"18\": 84}, \"11\": {\"11\": 142}, \"0\": {\"0\": 124}, \"36\": {\"36\": 100}, \"17\": {\"17\": 108}, \"30\": {\"30\": 114}, \"42\": {\"42\": 28}, \"45\": {\"45\": 60}, \"4\": {\"4\": 148}, \"23\": {\"23\": 134}, \"13\": {\"13\": 128}, \"15\": {\"15\": 128}, \"57\": {\"57\": 124}, \"27\": {\"27\": 134}, \"44\": {\"44\": 88}, \"34\": {\"34\": 32}, \"41\": {\"41\": 28}, \"24\": {\"24\": 104}, \"55\": {\"55\": 118}}, \"W_2\": {\"3\": {\"3\": 127, \"26\": 1, \"111\": 1, \"39\": 1, \"70\": 2}, \"127\": {\"127\": 119, \"21\": 1}, \"58\": {\"58\": 20}, \"114\": {\"114\": 110, \"46\": 1, \"122\": 1}, \"111\": {\"111\": 142, \"15\": 1, \"40\": 1}, \"105\": {\"105\": 131, \"122\": 1}, \"118\": {\"114\": 1, \"118\": 64, \"24\": 1, \"94\": 1, \"40\": 1}, \"23\": {\"60\": 1, \"23\": 39, \"12\": 1, \"43\": 1, \"122\": 2}, \"21\": {\"21\": 43, \"2\": 1, \"69\": 2, \"85\": 1, \"24\": 1}, \"20\": {\"20\": 15, \"21\": 1}, \"75\": {\"75\": 15, \"2\": 1}, \"86\": {\"86\": 32}, \"60\": {\"60\": 26, \"88\": 1, \"85\": 1}, \"69\": {\"69\": 130, \"111\": 1, \"26\": 1, \"43\": 1, \"70\": 2, \"1\": 2, \"39\": 1, \"62\": 1, \"122\": 1}, \"99\": {\"99\": 31, \"85\": 1}, \"14\": {\"14\": 38, \"45\": 1, \"81\": 1, \"111\": 1, \"72\": 1, \"70\": 1, \"78\": 1, \"107\": 1, \"66\": 1, \"40\": 1, \"21\": 1}, \"25\": {\"25\": 15, \"18\": 1}, \"52\": {\"52\": 20}, \"47\": {\"47\": 10, \"29\": 1, \"78\": 1}, \"48\": {\"48\": 19, \"101\": 1}, \"27\": {\"27\": 60, \"33\": 1, \"87\": 1, \"24\": 1, \"11\": 1, \"114\": 1, \"98\": 1, \"18\": 1, \"36\": 1}, \"78\": {\"78\": 47, \"87\": 1}, \"8\": {\"8\": 119, \"19\": 1, \"108\": 1, \"30\": 1}, \"90\": {\"90\": 156, \"129\": 1, \"116\": 2, \"33\": 1}, \"103\": {\"103\": 16}, \"120\": {\"120\": 20}, \"96\": {\"96\": 20}, \"30\": {\"30\": 101, \"69\": 2, \"27\": 1}, \"33\": {\"33\": 146}, \"35\": {\"35\": 12}, \"108\": {\"108\": 116}, \"112\": {\"112\": 14, \"98\": 1, \"5\": 1}, \"40\": {\"40\": 132, \"21\": 1, \"62\": 1, \"94\": 1, \"70\": 2, \"69\": 1, \"111\": 1, \"18\": 1}, \"102\": {\"102\": 113, \"69\": 2, \"122\": 1}, \"56\": {\"56\": 12}, \"93\": {\"93\": 132, \"16\": 2, \"90\": 1, \"39\": 1}, \"68\": {\"68\": 15, \"107\": 1}, \"70\": {\"70\": 120, \"111\": 2, \"106\": 1, \"78\": 1}, \"7\": {\"7\": 123, \"118\": 1}, \"87\": {\"87\": 104, \"119\": 1, \"43\": 1, \"26\": 1, \"5\": 1, \"70\": 2, \"40\": 1, \"16\": 1}, \"54\": {\"40\": 1, \"54\": 19}, \"71\": {\"71\": 93, \"3\": 2, \"69\": 1, \"36\": 1, \"39\": 1, \"21\": 1, \"109\": 1}, \"80\": {\"80\": 16}, \"18\": {\"18\": 121, \"16\": 1}, \"101\": {\"101\": 121, \"111\": 1}, \"92\": {\"92\": 27, \"71\": 1}, \"32\": {\"32\": 35, \"127\": 1}, \"128\": {\"101\": 2, \"128\": 22}, \"6\": {\"6\": 31, \"103\": 1}, \"51\": {\"51\": 19, \"6\": 1}, \"85\": {\"85\": 32}, \"46\": {\"46\": 16}, \"22\": {\"22\": 20}, \"1\": {\"1\": 117, \"43\": 1, \"26\": 1, \"70\": 1, \"87\": 1, \"69\": 1}, \"37\": {\"37\": 16}, \"44\": {\"44\": 97, \"109\": 1, \"0\": 1, \"40\": 1}, \"24\": {\"24\": 103, \"88\": 1, \"62\": 1, \"94\": 1, \"39\": 2, \"21\": 1, \"109\": 2, \"122\": 1}, \"9\": {\"9\": 32}, \"116\": {\"116\": 27, \"109\": 1}, \"64\": {\"64\": 16}, \"129\": {\"129\": 31, \"73\": 1}, \"42\": {\"20\": 2, \"42\": 23, \"69\": 1, \"46\": 1, \"107\": 1}, \"117\": {\"117\": 119, \"69\": 1}, \"88\": {\"88\": 119, \"21\": 1, \"111\": 3, \"70\": 1}, \"31\": {\"31\": 20}, \"113\": {\"113\": 71, \"51\": 1}, \"38\": {\"38\": 16}, \"83\": {\"83\": 37, \"31\": 1, \"41\": 1, \"84\": 1}, \"49\": {\"49\": 21, \"44\": 2, \"71\": 1}, \"97\": {\"97\": 15, \"15\": 1, \"118\": 1, \"95\": 1, \"127\": 2}, \"76\": {\"76\": 16}, \"29\": {\"29\": 32}, \"61\": {\"61\": 19, \"23\": 1}, \"125\": {\"125\": 147, \"121\": 1}, \"126\": {\"126\": 118, \"111\": 1, \"40\": 1}, \"55\": {\"55\": 16}, \"0\": {\"0\": 104, \"27\": 1, \"101\": 1, \"118\": 1, \"21\": 1}, \"15\": {\"15\": 114, \"24\": 1, \"40\": 1, \"88\": 1, \"106\": 2, \"27\": 1}, \"26\": {\"26\": 133, \"111\": 2, \"40\": 1, \"69\": 1, \"0\": 1}, \"63\": {\"63\": 20}, \"57\": {\"57\": 19, \"120\": 1}, \"39\": {\"39\": 106, \"27\": 1, \"109\": 4, \"87\": 1}, \"62\": {\"62\": 135, \"39\": 1, \"70\": 2, \"5\": 1, \"69\": 1}, \"82\": {\"82\": 33, \"55\": 1, \"87\": 1, \"26\": 1}, \"11\": {\"11\": 78, \"127\": 1, \"69\": 1}, \"4\": {\"4\": 87, \"82\": 1}, \"41\": {\"41\": 20}, \"72\": {\"72\": 27, \"14\": 1}, \"16\": {\"16\": 118, \"59\": 1, \"93\": 3, \"39\": 1, \"40\": 1}, \"81\": {\"81\": 22, \"62\": 1, \"0\": 1}, \"67\": {\"67\": 15, \"80\": 1}, \"123\": {\"123\": 15, \"119\": 1}, \"66\": {\"66\": 20}, \"36\": {\"36\": 117, \"1\": 1, \"70\": 1, \"121\": 1, \"111\": 1, \"94\": 2, \"122\": 1, \"17\": 1, \"21\": 1, \"129\": 1, \"69\": 1}, \"115\": {\"115\": 11, \"21\": 1}, \"77\": {\"77\": 15, \"91\": 1}, \"119\": {\"119\": 20}, \"65\": {\"65\": 19, \"129\": 1}, \"34\": {\"34\": 31, \"6\": 1}, \"107\": {\"107\": 60, \"71\": 1, \"10\": 1, \"70\": 1, \"3\": 1}, \"13\": {\"13\": 16}, \"110\": {\"62\": 1, \"110\": 36, \"3\": 1, \"106\": 1, \"16\": 1}, \"106\": {\"106\": 114, \"88\": 1, \"90\": 1, \"122\": 1, \"39\": 1}, \"89\": {\"89\": 36}, \"94\": {\"27\": 2, \"94\": 51, \"122\": 1, \"87\": 1, \"21\": 2, \"107\": 1, \"71\": 1, \"129\": 1, \"88\": 1, \"36\": 3}, \"98\": {\"98\": 109, \"121\": 1, \"43\": 1, \"21\": 1}, \"91\": {\"91\": 23, \"37\": 1, \"19\": 2, \"41\": 1, \"17\": 1}, \"84\": {\"84\": 91, \"88\": 1}, \"73\": {\"84\": 1, \"73\": 27}, \"104\": {\"104\": 15, \"52\": 1, \"46\": 1, \"76\": 2, \"122\": 1}, \"59\": {\"59\": 15, \"127\": 1}, \"74\": {\"74\": 16}, \"28\": {\"28\": 19, \"59\": 1}, \"95\": {\"95\": 35, \"40\": 1}, \"2\": {\"2\": 30, \"69\": 1, \"115\": 1}, \"5\": {\"5\": 111, \"10\": 1}, \"50\": {\"50\": 15, \"69\": 1}, \"109\": {\"109\": 91, \"87\": 1, \"70\": 1, \"23\": 1, \"69\": 1, \"26\": 1, \"39\": 3, \"106\": 1}, \"10\": {\"10\": 56, \"95\": 1, \"40\": 1, \"26\": 1, \"62\": 1}, \"45\": {\"45\": 13, \"124\": 1, \"110\": 1, \"21\": 1}, \"121\": {\"121\": 35, \"65\": 1}, \"124\": {\"124\": 109, \"129\": 1}, \"53\": {\"85\": 1, \"53\": 12, \"128\": 1, \"82\": 1, \"83\": 1}, \"79\": {\"79\": 16}, \"43\": {\"43\": 109, \"26\": 1, \"87\": 1, \"122\": 1, \"3\": 1, \"69\": 1}, \"122\": {\"122\": 134, \"118\": 1, \"21\": 1, \"88\": 1, \"101\": 1}, \"100\": {\"100\": 15, \"83\": 1}, \"19\": {\"19\": 28}, \"12\": {\"12\": 83, \"127\": 2, \"70\": 2, \"26\": 1}, \"17\": {\"17\": 15, \"24\": 1}}, \"C_4\": {\"52\": {\"52\": 116}, \"6\": {\"6\": 111, \"3\": 1}, \"14\": {\"14\": 16}, \"49\": {\"49\": 20}, \"0\": {\"0\": 80}, \"46\": {\"46\": 156}, \"41\": {\"41\": 36}, \"24\": {\"24\": 56}, \"25\": {\"25\": 152}, \"40\": {\"40\": 136, \"44\": 2}, \"38\": {\"38\": 39, \"57\": 1}, \"13\": {\"13\": 152}, \"9\": {\"9\": 108}, \"45\": {\"45\": 96}, \"43\": {\"43\": 144}, \"10\": {\"10\": 130}, \"15\": {\"15\": 127, \"11\": 1}, \"39\": {\"39\": 20}, \"4\": {\"4\": 132}, \"53\": {\"53\": 132}, \"1\": {\"1\": 40}, \"28\": {\"28\": 32}, \"54\": {\"54\": 108}, \"21\": {\"21\": 132}, \"7\": {\"7\": 24}, \"8\": {\"8\": 136}, \"42\": {\"42\": 32}, \"11\": {\"11\": 104}, \"33\": {\"33\": 36}, \"27\": {\"27\": 142}, \"19\": {\"19\": 144}, \"2\": {\"2\": 36}, \"3\": {\"3\": 118, \"6\": 2}, \"57\": {\"57\": 100}, \"20\": {\"20\": 112}, \"23\": {\"23\": 128}, \"22\": {\"22\": 128}, \"29\": {\"29\": 123, \"14\": 1}, \"36\": {\"36\": 92}, \"51\": {\"51\": 132}, \"31\": {\"31\": 28}, \"12\": {\"12\": 92}, \"56\": {\"56\": 138}, \"5\": {\"5\": 108}, \"35\": {\"35\": 40}, \"17\": {\"17\": 80}, \"32\": {\"32\": 24}, \"47\": {\"47\": 120}, \"18\": {\"18\": 107, \"53\": 1}, \"26\": {\"26\": 24}, \"50\": {\"50\": 122}, \"55\": {\"55\": 124}, \"34\": {\"34\": 24}, \"30\": {\"30\": 44}, \"37\": {\"37\": 24}, \"44\": {\"44\": 132}, \"48\": {\"48\": 118}, \"16\": {\"16\": 96}}, \"C_2\": {\"11\": {\"11\": 130}, \"21\": {\"21\": 120}, \"19\": {\"19\": 140}, \"20\": {\"20\": 128}, \"9\": {\"9\": 140}, \"10\": {\"10\": 112}, \"37\": {\"37\": 36}, \"32\": {\"32\": 28}, \"3\": {\"3\": 92}, \"39\": {\"39\": 28}, \"45\": {\"45\": 127, \"6\": 1}, \"50\": {\"50\": 135, \"3\": 1}, \"40\": {\"40\": 139, \"9\": 1}, \"46\": {\"46\": 128}, \"12\": {\"12\": 92}, \"13\": {\"13\": 116}, \"47\": {\"47\": 132}, \"15\": {\"15\": 142}, \"54\": {\"54\": 108}, \"48\": {\"48\": 148}, \"23\": {\"23\": 142}, \"29\": {\"29\": 128}, \"38\": {\"38\": 20}, \"53\": {\"53\": 136}, \"27\": {\"27\": 150}, \"43\": {\"43\": 144}, \"35\": {\"35\": 32}, \"0\": {\"0\": 48}, \"52\": {\"52\": 124}, \"8\": {\"8\": 128}, \"24\": {\"24\": 96}, \"18\": {\"18\": 48}, \"25\": {\"25\": 148}, \"57\": {\"57\": 136}, \"55\": {\"55\": 134}, \"36\": {\"36\": 116}, \"17\": {\"17\": 104}, \"2\": {\"2\": 32}, \"34\": {\"34\": 28}, \"1\": {\"1\": 112}, \"51\": {\"51\": 136}, \"31\": {\"31\": 28}, \"49\": {\"49\": 24}, \"14\": {\"14\": 24}, \"33\": {\"33\": 28}, \"41\": {\"41\": 20}, \"28\": {\"28\": 28}, \"5\": {\"5\": 120}, \"16\": {\"16\": 150}, \"4\": {\"4\": 128}, \"22\": {\"22\": 135, \"56\": 1}, \"6\": {\"6\": 118}, \"30\": {\"30\": 124}, \"26\": {\"26\": 24}, \"56\": {\"56\": 142}, \"42\": {\"42\": 36}, \"44\": {\"44\": 100}, \"7\": {\"7\": 36}}, \"W_3\": {\"38\": {\"38\": 16}, \"88\": {\"88\": 108, \"70\": 2, \"82\": 1, \"16\": 1}, \"104\": {\"104\": 16}, \"11\": {\"11\": 140}, \"103\": {\"103\": 14, \"55\": 1, \"92\": 1}, \"124\": {\"124\": 115, \"90\": 1}, \"3\": {\"3\": 110, \"19\": 1, \"26\": 1, \"27\": 1, \"84\": 2, \"11\": 1}, \"74\": {\"74\": 15, \"47\": 1}, \"126\": {\"126\": 119, \"8\": 1, \"39\": 1, \"111\": 1}, \"123\": {\"123\": 16}, \"51\": {\"51\": 15, \"72\": 1}, \"14\": {\"14\": 80}, \"16\": {\"16\": 113, \"110\": 1, \"26\": 1, \"1\": 1}, \"22\": {\"22\": 16}, \"109\": {\"109\": 122}, \"27\": {\"27\": 93, \"36\": 2, \"111\": 1}, \"75\": {\"75\": 16}, \"66\": {\"66\": 16}, \"48\": {\"48\": 8, \"86\": 2, \"89\": 1, \"31\": 1, \"57\": 1, \"74\": 1, \"116\": 2}, \"6\": {\"6\": 30, \"34\": 2}, \"10\": {\"10\": 110, \"16\": 1, \"111\": 1}, \"99\": {\"99\": 35, \"54\": 1}, \"50\": {\"50\": 16}, \"54\": {\"54\": 16}, \"55\": {\"55\": 16}, \"53\": {\"53\": 20}, \"72\": {\"72\": 28}, \"64\": {\"64\": 20}, \"115\": {\"23\": 1, \"115\": 14, \"45\": 1}, \"23\": {\"23\": 30, \"110\": 1, \"122\": 1}, \"32\": {\"32\": 32}, \"15\": {\"15\": 101, \"100\": 1, \"84\": 1, \"5\": 1}, \"43\": {\"43\": 53, \"21\": 2, \"84\": 1}, \"114\": {\"114\": 121, \"26\": 1, \"111\": 1, \"62\": 1}, \"121\": {\"81\": 1, \"121\": 30, \"64\": 1}, \"79\": {\"79\": 12}, \"81\": {\"81\": 32}, \"8\": {\"8\": 128}, \"13\": {\"13\": 12, \"115\": 1, \"2\": 1, \"116\": 1, \"45\": 1}, \"90\": {\"90\": 156}, \"41\": {\"81\": 1, \"41\": 13, \"66\": 2}, \"107\": {\"107\": 135, \"34\": 1}, \"57\": {\"57\": 19, \"104\": 1}, \"33\": {\"33\": 119, \"92\": 1}, \"35\": {\"35\": 12}, \"29\": {\"29\": 32}, \"70\": {\"70\": 67, \"88\": 2, \"26\": 1, \"5\": 1, \"111\": 1}, \"42\": {\"70\": 1, \"42\": 26, \"84\": 1}, \"93\": {\"93\": 126}, \"86\": {\"86\": 28}, \"28\": {\"28\": 16}, \"1\": {\"1\": 105, \"5\": 1, \"101\": 1, \"125\": 1}, \"125\": {\"125\": 122, \"30\": 1, \"127\": 1}, \"69\": {\"69\": 81, \"84\": 2, \"5\": 1}, \"97\": {\"97\": 19, \"84\": 1}, \"117\": {\"117\": 111, \"129\": 1}, \"68\": {\"68\": 16}, \"30\": {\"30\": 81, \"2\": 1, \"3\": 1, \"111\": 1}, \"111\": {\"111\": 132}, \"47\": {\"47\": 12}, \"102\": {\"102\": 124}, \"65\": {\"65\": 12}, \"113\": {\"113\": 117, \"111\": 1, \"69\": 1, \"126\": 1}, \"36\": {\"36\": 113, \"111\": 1}, \"119\": {\"119\": 16}, \"46\": {\"46\": 16}, \"49\": {\"49\": 22, \"105\": 1, \"75\": 1}, \"0\": {\"0\": 115, \"113\": 1}, \"58\": {\"58\": 15, \"16\": 1}, \"63\": {\"63\": 16}, \"94\": {\"94\": 84}, \"17\": {\"23\": 1, \"94\": 1, \"39\": 1, \"17\": 7, \"5\": 1, \"86\": 2, \"4\": 1, \"67\": 1, \"72\": 1}, \"9\": {\"9\": 32}, \"87\": {\"87\": 120}, \"59\": {\"59\": 11, \"51\": 1}, \"105\": {\"105\": 120}, \"80\": {\"80\": 15, \"10\": 1}, \"120\": {\"120\": 18, \"52\": 1, \"81\": 1}, \"18\": {\"18\": 129, \"128\": 1, \"5\": 1, \"90\": 1}, \"78\": {\"78\": 12, \"21\": 2, \"10\": 1, \"111\": 1}, \"25\": {\"25\": 16}, \"19\": {\"19\": 32}, \"122\": {\"122\": 56, \"69\": 1, \"110\": 1, \"18\": 1, \"16\": 1}, \"39\": {\"39\": 107, \"126\": 1}, \"76\": {\"76\": 15, \"89\": 1}, \"89\": {\"89\": 28}, \"129\": {\"129\": 32}, \"26\": {\"26\": 98, \"70\": 1, \"108\": 1}, \"85\": {\"85\": 36}, \"71\": {\"71\": 67, \"5\": 1}, \"77\": {\"77\": 16}, \"128\": {\"128\": 29, \"19\": 2, \"72\": 1}, \"2\": {\"2\": 27, \"117\": 1}, \"56\": {\"56\": 12}, \"24\": {\"24\": 48}, \"101\": {\"26\": 1, \"101\": 49, \"99\": 1, \"127\": 1}, \"52\": {\"52\": 16}, \"84\": {\"84\": 107, \"39\": 1}, \"7\": {\"7\": 109, \"117\": 1, \"5\": 1, \"69\": 1}, \"82\": {\"82\": 28}, \"60\": {\"60\": 26, \"16\": 1, \"110\": 1}, \"45\": {\"122\": 1, \"45\": 13, \"18\": 1, \"5\": 1}, \"40\": {\"40\": 123, \"105\": 1}, \"20\": {\"20\": 15, \"121\": 1}, \"4\": {\"4\": 96}, \"116\": {\"116\": 28}, \"61\": {\"61\": 16}, \"5\": {\"5\": 110, \"111\": 1, \"39\": 1}, \"106\": {\"106\": 99, \"122\": 1}, \"12\": {\"12\": 104}, \"62\": {\"62\": 118, \"69\": 1, \"84\": 1}, \"34\": {\"34\": 31, \"116\": 1}, \"91\": {\"91\": 22, \"48\": 1, \"77\": 1}, \"112\": {\"112\": 15, \"106\": 1}, \"92\": {\"92\": 32}, \"95\": {\"95\": 32}, \"96\": {\"96\": 20}, \"127\": {\"127\": 104, \"26\": 1, \"40\": 1, \"62\": 1, \"111\": 1}, \"67\": {\"67\": 15, \"0\": 1}, \"83\": {\"83\": 24}, \"21\": {\"78\": 3, \"21\": 37, \"16\": 1, \"5\": 1, \"84\": 2, \"122\": 2, \"127\": 1, \"101\": 1}, \"98\": {\"98\": 124}, \"108\": {\"108\": 130, \"8\": 2}, \"31\": {\"31\": 20}, \"118\": {\"118\": 100}, \"110\": {\"110\": 92}, \"73\": {\"73\": 40}, \"44\": {\"44\": 70, \"62\": 1, \"90\": 1}, \"37\": {\"37\": 15, \"95\": 1}, \"100\": {\"100\": 16}}, \"O_26\": {\"0\": {\"14\": 45, \"6\": 8, \"0\": 58, \"10\": 52, \"8\": 14, \"15\": 19, \"2\": 22, \"7\": 11, \"5\": 5, \"11\": 1, \"9\": 3, \"1\": 2}, \"4\": {\"4\": 189, \"13\": 15, \"3\": 32, \"9\": 3, \"7\": 1}, \"14\": {\"14\": 64, \"10\": 61, \"1\": 29, \"0\": 42, \"15\": 19, \"6\": 20, \"7\": 1, \"5\": 2, \"8\": 1, \"2\": 1}, \"12\": {\"9\": 60, \"12\": 87, \"13\": 23, \"3\": 21, \"8\": 20, \"2\": 11, \"7\": 18}, \"8\": {\"13\": 6, \"8\": 55, \"0\": 16, \"2\": 51, \"9\": 28, \"7\": 54, \"12\": 11, \"3\": 16, \"15\": 2, \"14\": 1}, \"7\": {\"2\": 28, \"3\": 43, \"9\": 33, \"7\": 59, \"8\": 63, \"12\": 8, \"0\": 2, \"4\": 1, \"13\": 3}, \"13\": {\"13\": 105, \"12\": 36, \"3\": 28, \"8\": 2, \"7\": 11, \"9\": 42, \"4\": 11, \"2\": 5}, \"5\": {\"10\": 17, \"15\": 38, \"6\": 52, \"5\": 86, \"11\": 23, \"14\": 7, \"0\": 2, \"1\": 15}, \"15\": {\"14\": 19, \"5\": 41, \"15\": 58, \"6\": 52, \"1\": 21, \"10\": 30, \"11\": 14, \"0\": 3, \"2\": 2}, \"10\": {\"5\": 9, \"10\": 52, \"14\": 59, \"1\": 18, \"15\": 26, \"0\": 43, \"6\": 31, \"8\": 2}, \"3\": {\"3\": 83, \"7\": 58, \"8\": 14, \"2\": 10, \"4\": 7, \"9\": 29, \"13\": 27, \"12\": 12}, \"9\": {\"3\": 26, \"9\": 65, \"13\": 25, \"12\": 33, \"8\": 20, \"0\": 3, \"7\": 37, \"2\": 29, \"4\": 1, \"10\": 1}, \"6\": {\"5\": 44, \"15\": 68, \"6\": 53, \"14\": 24, \"1\": 26, \"10\": 18, \"11\": 5, \"0\": 2}, \"1\": {\"15\": 23, \"14\": 48, \"10\": 23, \"6\": 37, \"1\": 91, \"5\": 13, \"0\": 5}, \"11\": {\"11\": 158, \"6\": 21, \"5\": 51, \"15\": 9, \"1\": 1}, \"2\": {\"14\": 4, \"9\": 37, \"7\": 45, \"8\": 41, \"12\": 18, \"2\": 54, \"13\": 11, \"3\": 13, \"10\": 6, \"0\": 7, \"6\": 1, \"15\": 3}}, \"O_44\": {\"1\": {\"1\": 138, \"8\": 6, \"15\": 8, \"0\": 22, \"2\": 49, \"4\": 4, \"5\": 4, \"10\": 5, \"14\": 2, \"9\": 1, \"12\": 1}, \"11\": {\"6\": 1, \"11\": 230, \"13\": 9}, \"3\": {\"3\": 142, \"12\": 98}, \"6\": {\"9\": 36, \"13\": 69, \"6\": 110, \"4\": 3, \"7\": 16, \"10\": 5, \"2\": 1}, \"7\": {\"9\": 44, \"5\": 11, \"7\": 60, \"14\": 31, \"10\": 55, \"4\": 30, \"2\": 3, \"6\": 6}, \"5\": {\"4\": 49, \"5\": 67, \"14\": 43, \"9\": 8, \"15\": 26, \"8\": 10, \"2\": 2, \"10\": 23, \"7\": 11, \"1\": 1}, \"2\": {\"1\": 57, \"2\": 133, \"10\": 18, \"4\": 6, \"0\": 2, \"14\": 9, \"15\": 1, \"7\": 7, \"9\": 5, \"8\": 1, \"5\": 1}, \"15\": {\"5\": 38, \"15\": 84, \"8\": 49, \"1\": 12, \"14\": 29, \"4\": 12, \"0\": 10, \"2\": 1, \"10\": 5}, \"10\": {\"7\": 53, \"4\": 31, \"10\": 54, \"9\": 35, \"2\": 14, \"14\": 33, \"5\": 12, \"1\": 3, \"15\": 2, \"6\": 2, \"0\": 1}, \"13\": {\"13\": 119, \"6\": 77, \"9\": 21, \"14\": 1, \"11\": 10, \"7\": 3, \"4\": 8, \"10\": 1}, \"8\": {\"15\": 57, \"8\": 98, \"5\": 14, \"0\": 53, \"1\": 8, \"14\": 7, \"7\": 1, \"4\": 2}, \"4\": {\"7\": 26, \"9\": 30, \"2\": 10, \"6\": 7, \"4\": 35, \"14\": 32, \"10\": 37, \"5\": 37, \"15\": 11, \"8\": 5, \"1\": 6, \"13\": 3, \"0\": 1}, \"9\": {\"4\": 27, \"7\": 30, \"6\": 38, \"14\": 18, \"10\": 39, \"13\": 35, \"9\": 42, \"1\": 1, \"2\": 4, \"5\": 6}, \"14\": {\"9\": 18, \"5\": 54, \"14\": 54, \"4\": 36, \"7\": 21, \"10\": 34, \"15\": 14, \"8\": 4, \"2\": 3, \"1\": 2}, \"0\": {\"8\": 53, \"0\": 124, \"1\": 34, \"15\": 21, \"5\": 3, \"4\": 2, \"14\": 1, \"2\": 2}, \"12\": {\"3\": 110, \"12\": 130}}, \"O_50\": {\"15\": {\"5\": 36, \"15\": 66, \"9\": 36, \"6\": 50, \"3\": 23, \"11\": 18, \"12\": 8, \"4\": 2, \"7\": 1}, \"4\": {\"7\": 106, \"4\": 81, \"3\": 2, \"5\": 30, \"15\": 9, \"6\": 4, \"9\": 5, \"12\": 3}, \"6\": {\"15\": 50, \"9\": 30, \"6\": 56, \"5\": 27, \"3\": 45, \"12\": 9, \"11\": 16, \"7\": 3, \"13\": 2, \"4\": 2}, \"2\": {\"2\": 102, \"0\": 60, \"14\": 66, \"10\": 12}, \"5\": {\"7\": 43, \"11\": 12, \"4\": 35, \"6\": 30, \"5\": 53, \"3\": 19, \"15\": 22, \"13\": 10, \"9\": 15, \"1\": 1}, \"9\": {\"6\": 39, \"12\": 28, \"9\": 91, \"3\": 19, \"15\": 31, \"11\": 21, \"5\": 8, \"4\": 2, \"7\": 1}, \"8\": {\"8\": 145, \"1\": 46, \"13\": 19, \"10\": 24, \"12\": 3, \"0\": 2, \"11\": 1}, \"12\": {\"9\": 37, \"12\": 144, \"3\": 24, \"6\": 5, \"11\": 21, \"15\": 6, \"5\": 3}, \"10\": {\"8\": 40, \"0\": 43, \"10\": 128, \"2\": 8, \"1\": 19, \"14\": 2}, \"1\": {\"1\": 115, \"10\": 17, \"13\": 58, \"8\": 44, \"0\": 1, \"11\": 4, \"2\": 1}, \"0\": {\"14\": 47, \"0\": 100, \"10\": 32, \"2\": 61}, \"3\": {\"3\": 88, \"15\": 25, \"9\": 25, \"6\": 42, \"12\": 29, \"5\": 19, \"11\": 10, \"7\": 2}, \"13\": {\"1\": 55, \"13\": 115, \"6\": 5, \"11\": 45, \"9\": 1, \"8\": 12, \"12\": 4, \"3\": 2, \"5\": 1}, \"11\": {\"6\": 22, \"5\": 11, \"11\": 74, \"1\": 4, \"13\": 33, \"3\": 20, \"9\": 28, \"15\": 19, \"12\": 29}, \"7\": {\"7\": 112, \"4\": 86, \"5\": 30, \"9\": 4, \"15\": 3, \"3\": 3, \"6\": 2}, \"14\": {\"2\": 71, \"10\": 5, \"14\": 111, \"0\": 53}}, \"O_38\": {\"15\": {\"15\": 146, \"8\": 28, \"5\": 30, \"1\": 16, \"6\": 9, \"12\": 6, \"9\": 5}, \"11\": {\"11\": 230, \"3\": 10}, \"10\": {\"13\": 33, \"10\": 141, \"0\": 59, \"4\": 4, \"3\": 3}, \"14\": {\"7\": 69, \"2\": 31, \"4\": 11, \"14\": 102, \"5\": 4, \"13\": 7, \"8\": 5, \"0\": 9, \"9\": 1, \"10\": 1}, \"6\": {\"6\": 133, \"1\": 101, \"15\": 5, \"5\": 1}, \"4\": {\"4\": 207, \"14\": 12, \"0\": 3, \"7\": 7, \"10\": 11}, \"13\": {\"0\": 68, \"13\": 119, \"10\": 25, \"2\": 21, \"7\": 3, \"14\": 3, \"4\": 1}, \"3\": {\"3\": 225, \"11\": 9, \"10\": 5, \"0\": 1}, \"7\": {\"7\": 100, \"8\": 8, \"2\": 46, \"14\": 53, \"5\": 6, \"13\": 2, \"12\": 2, \"9\": 10, \"0\": 5, \"4\": 8}, \"8\": {\"8\": 43, \"5\": 58, \"7\": 26, \"12\": 22, \"2\": 36, \"15\": 20, \"9\": 24, \"13\": 1, \"14\": 10}, \"1\": {\"1\": 135, \"6\": 101, \"15\": 4}, \"5\": {\"15\": 27, \"7\": 23, \"9\": 21, \"5\": 72, \"8\": 66, \"14\": 6, \"12\": 9, \"2\": 13, \"13\": 1, \"1\": 1, \"0\": 1}, \"0\": {\"10\": 72, \"13\": 62, \"0\": 69, \"9\": 2, \"2\": 10, \"7\": 10, \"14\": 10, \"3\": 3, \"11\": 1, \"4\": 1}, \"2\": {\"13\": 18, \"7\": 46, \"2\": 102, \"9\": 30, \"8\": 8, \"14\": 25, \"5\": 9, \"0\": 2}, \"12\": {\"12\": 218, \"8\": 13, \"5\": 6, \"15\": 3}, \"9\": {\"9\": 144, \"2\": 31, \"8\": 25, \"5\": 25, \"7\": 12, \"13\": 2, \"0\": 1}}, \"O_20\": {\"10\": {\"7\": 6, \"12\": 14, \"4\": 59, \"6\": 32, \"10\": 110, \"13\": 9, \"2\": 3, \"15\": 6, \"14\": 1}, \"7\": {\"15\": 37, \"7\": 42, \"3\": 11, \"2\": 27, \"1\": 15, \"6\": 25, \"13\": 6, \"9\": 21, \"5\": 14, \"4\": 5, \"12\": 26, \"8\": 4, \"14\": 4, \"10\": 3}, \"4\": {\"9\": 8, \"4\": 64, \"6\": 45, \"7\": 21, \"2\": 14, \"1\": 8, \"10\": 24, \"5\": 4, \"12\": 22, \"13\": 10, \"15\": 20}, \"13\": {\"12\": 49, \"4\": 13, \"2\": 45, \"7\": 14, \"1\": 4, \"15\": 33, \"13\": 69, \"6\": 8, \"9\": 3, \"10\": 1, \"5\": 1}, \"1\": {\"7\": 25, \"5\": 38, \"1\": 45, \"15\": 27, \"3\": 26, \"9\": 37, \"12\": 12, \"8\": 5, \"4\": 3, \"14\": 9, \"6\": 6, \"13\": 2, \"2\": 5}, \"0\": {\"8\": 24, \"11\": 61, \"0\": 124, \"14\": 8, \"5\": 10, \"3\": 7, \"1\": 4, \"9\": 2}, \"12\": {\"13\": 26, \"2\": 36, \"15\": 30, \"7\": 30, \"12\": 41, \"1\": 11, \"9\": 15, \"4\": 20, \"6\": 22, \"5\": 3, \"10\": 2, \"3\": 3, \"14\": 1}, \"5\": {\"3\": 32, \"12\": 7, \"1\": 45, \"9\": 36, \"8\": 17, \"14\": 18, \"6\": 10, \"2\": 7, \"7\": 15, \"15\": 13, \"5\": 37, \"4\": 1, \"0\": 2}, \"6\": {\"12\": 9, \"14\": 15, \"6\": 64, \"7\": 25, \"4\": 39, \"2\": 25, \"9\": 13, \"15\": 11, \"8\": 5, \"10\": 7, \"13\": 3, \"5\": 7, \"1\": 10, \"3\": 7}, \"2\": {\"12\": 33, \"3\": 5, \"15\": 42, \"13\": 15, \"6\": 19, \"9\": 20, \"2\": 38, \"7\": 31, \"4\": 13, \"8\": 1, \"1\": 14, \"5\": 6, \"10\": 2, \"14\": 1}, \"8\": {\"0\": 9, \"14\": 54, \"8\": 57, \"1\": 16, \"9\": 22, \"3\": 36, \"5\": 35, \"7\": 7, \"4\": 1, \"15\": 2, \"6\": 1}, \"11\": {\"11\": 151, \"0\": 84, \"8\": 4, \"5\": 1}, \"9\": {\"15\": 21, \"1\": 38, \"9\": 37, \"2\": 14, \"5\": 36, \"12\": 11, \"7\": 25, \"13\": 4, \"3\": 25, \"6\": 14, \"8\": 7, \"14\": 5, \"4\": 2, \"10\": 1}, \"14\": {\"14\": 86, \"8\": 62, \"0\": 2, \"2\": 2, \"3\": 32, \"6\": 14, \"5\": 18, \"9\": 10, \"1\": 8, \"7\": 4, \"4\": 2}, \"15\": {\"12\": 36, \"7\": 33, \"13\": 33, \"15\": 41, \"1\": 15, \"2\": 36, \"9\": 15, \"5\": 11, \"10\": 1, \"6\": 9, \"3\": 2, \"4\": 8}, \"3\": {\"9\": 24, \"1\": 31, \"7\": 16, \"3\": 48, \"14\": 33, \"8\": 33, \"5\": 37, \"2\": 3, \"6\": 4, \"0\": 2, \"15\": 4, \"11\": 2, \"4\": 2, \"12\": 1}}, \"O_14\": {\"14\": {\"0\": 29, \"13\": 26, \"5\": 14, \"14\": 86, \"2\": 47, \"3\": 16, \"7\": 5, \"6\": 17}, \"0\": {\"5\": 43, \"7\": 21, \"0\": 56, \"6\": 8, \"2\": 14, \"3\": 25, \"13\": 16, \"8\": 11, \"12\": 14, \"14\": 28, \"4\": 4}, \"4\": {\"10\": 51, \"2\": 15, \"4\": 133, \"5\": 21, \"14\": 1, \"0\": 5, \"12\": 6, \"7\": 1, \"13\": 1, \"9\": 4, \"1\": 2}, \"11\": {\"11\": 240}, \"13\": {\"13\": 59, \"14\": 29, \"6\": 59, \"5\": 8, \"3\": 23, \"15\": 20, \"0\": 7, \"2\": 24, \"7\": 3, \"4\": 8}, \"9\": {\"1\": 55, \"10\": 10, \"9\": 175}, \"3\": {\"13\": 23, \"0\": 30, \"3\": 94, \"7\": 26, \"6\": 34, \"14\": 20, \"2\": 9, \"8\": 3, \"5\": 1}, \"6\": {\"13\": 68, \"6\": 95, \"3\": 39, \"7\": 3, \"14\": 17, \"2\": 10, \"0\": 7, \"5\": 1}, \"1\": {\"1\": 160, \"9\": 55, \"10\": 22, \"4\": 3}, \"5\": {\"0\": 32, \"14\": 11, \"5\": 87, \"4\": 8, \"2\": 47, \"13\": 5, \"7\": 26, \"12\": 5, \"3\": 5, \"8\": 12, \"6\": 2}, \"12\": {\"12\": 144, \"8\": 60, \"5\": 18, \"4\": 6, \"0\": 10, \"2\": 1, \"7\": 1}, \"10\": {\"10\": 137, \"4\": 73, \"1\": 13, \"9\": 12, \"12\": 1, \"2\": 3, \"5\": 1}, \"8\": {\"7\": 25, \"12\": 51, \"8\": 139, \"5\": 17, \"0\": 7, \"3\": 1}, \"7\": {\"7\": 94, \"0\": 35, \"5\": 29, \"8\": 19, \"2\": 14, \"3\": 32, \"6\": 6, \"14\": 9, \"13\": 1, \"12\": 1}, \"15\": {\"15\": 240}, \"2\": {\"13\": 19, \"5\": 34, \"6\": 21, \"4\": 20, \"0\": 24, \"14\": 39, \"7\": 12, \"3\": 13, \"10\": 3, \"8\": 3, \"2\": 50, \"12\": 2}}, \"O_32\": {\"11\": {\"9\": 44, \"11\": 145, \"13\": 17, \"12\": 26, \"3\": 8}, \"1\": {\"7\": 8, \"1\": 180, \"0\": 14, \"2\": 17, \"14\": 16, \"8\": 1, \"5\": 2, \"4\": 2}, \"2\": {\"2\": 110, \"4\": 70, \"13\": 2, \"14\": 21, \"9\": 4, \"1\": 15, \"8\": 9, \"3\": 6, \"0\": 2, \"7\": 1}, \"0\": {\"5\": 41, \"0\": 64, \"14\": 41, \"8\": 42, \"7\": 43, \"15\": 3, \"1\": 3, \"2\": 3}, \"3\": {\"3\": 122, \"13\": 82, \"4\": 24, \"9\": 7, \"2\": 4, \"8\": 1}, \"8\": {\"0\": 51, \"14\": 20, \"5\": 28, \"8\": 76, \"4\": 11, \"3\": 10, \"7\": 19, \"15\": 16, \"1\": 2, \"2\": 5, \"13\": 2}, \"12\": {\"12\": 126, \"10\": 47, \"11\": 29, \"9\": 35, \"13\": 3}, \"5\": {\"0\": 50, \"7\": 50, \"5\": 88, \"8\": 30, \"1\": 1, \"14\": 16, \"15\": 5}, \"15\": {\"15\": 219, \"5\": 3, \"0\": 5, \"8\": 11, \"7\": 2}, \"7\": {\"7\": 83, \"5\": 52, \"0\": 51, \"14\": 36, \"1\": 1, \"8\": 15, \"2\": 2}, \"4\": {\"4\": 76, \"13\": 46, \"3\": 37, \"2\": 58, \"14\": 4, \"8\": 5, \"9\": 8, \"1\": 6}, \"14\": {\"14\": 56, \"2\": 17, \"5\": 25, \"8\": 20, \"7\": 56, \"0\": 50, \"1\": 15, \"4\": 1}, \"10\": {\"12\": 74, \"10\": 160, \"9\": 4, \"11\": 1, \"6\": 1}, \"6\": {\"6\": 227, \"12\": 1, \"10\": 12}, \"13\": {\"13\": 81, \"3\": 70, \"11\": 7, \"4\": 42, \"2\": 9, \"9\": 29, \"12\": 2}, \"9\": {\"9\": 88, \"11\": 38, \"13\": 30, \"12\": 30, \"3\": 15, \"2\": 10, \"4\": 26, \"10\": 3}}, \"O_8\": {\"9\": {\"9\": 238, \"3\": 2}, \"11\": {\"8\": 54, \"11\": 48, \"4\": 29, \"1\": 44, \"6\": 25, \"7\": 12, \"5\": 9, \"13\": 5, \"10\": 8, \"14\": 6}, \"8\": {\"8\": 101, \"4\": 35, \"11\": 56, \"1\": 20, \"7\": 4, \"6\": 10, \"14\": 12, \"10\": 2}, \"4\": {\"4\": 104, \"6\": 20, \"10\": 3, \"8\": 34, \"11\": 34, \"14\": 33, \"1\": 8, \"7\": 3, \"5\": 1}, \"13\": {\"10\": 56, \"5\": 44, \"6\": 21, \"1\": 20, \"7\": 26, \"13\": 73}, \"14\": {\"14\": 134, \"4\": 65, \"8\": 24, \"11\": 17}, \"2\": {\"3\": 39, \"12\": 30, \"2\": 125, \"15\": 45, \"5\": 1}, \"3\": {\"3\": 221, \"2\": 17, \"9\": 2}, \"1\": {\"1\": 55, \"7\": 26, \"10\": 25, \"6\": 42, \"11\": 31, \"13\": 19, \"8\": 12, \"5\": 22, \"4\": 8}, \"0\": {\"0\": 240}, \"5\": {\"5\": 50, \"10\": 44, \"1\": 24, \"6\": 21, \"13\": 45, \"7\": 33, \"12\": 4, \"11\": 10, \"15\": 1, \"8\": 5, \"14\": 2, \"4\": 1}, \"15\": {\"12\": 81, \"15\": 115, \"2\": 43, \"3\": 1}, \"10\": {\"13\": 43, \"7\": 46, \"1\": 29, \"6\": 36, \"5\": 42, \"10\": 36, \"11\": 6, \"8\": 1, \"4\": 1}, \"12\": {\"12\": 133, \"15\": 86, \"2\": 21}, \"6\": {\"6\": 51, \"11\": 14, \"10\": 36, \"1\": 40, \"5\": 18, \"7\": 45, \"13\": 16, \"4\": 7, \"8\": 12, \"14\": 1}, \"7\": {\"10\": 60, \"1\": 29, \"13\": 22, \"7\": 52, \"11\": 9, \"6\": 40, \"5\": 24, \"8\": 4}}}, \"per_domain_accuracy\": {\"W_4\": {\"accuracy\": 0.9606481481481481, \"source?\": true}, \"C_5\": {\"accuracy\": 0.9977304469273743, \"source?\": true}, \"W_1\": {\"accuracy\": 0.9753707627118644, \"source?\": true}, \"C_1\": {\"accuracy\": 1.0, \"source?\": true}, \"C_3\": {\"accuracy\": 1.0, \"source?\": true}, \"W_2\": {\"accuracy\": 0.9594665271966527, \"source?\": true}, \"C_4\": {\"accuracy\": 0.9983057228915663, \"source?\": true}, \"C_2\": {\"accuracy\": 0.9992897727272727, \"source?\": true}, \"W_3\": {\"accuracy\": 0.9772106986899564, \"source?\": true}, \"O_26\": {\"accuracy\": 0.34296875, \"source?\": false}, \"O_44\": {\"accuracy\": 0.421875, \"source?\": false}, \"O_50\": {\"accuracy\": 0.41171875, \"source?\": false}, \"O_38\": {\"accuracy\": 0.5692708333333333, \"source?\": false}, \"O_20\": {\"accuracy\": 0.27447916666666666, \"source?\": false}, \"O_14\": {\"accuracy\": 0.51796875, \"source?\": false}, \"O_32\": {\"accuracy\": 0.49505208333333334, \"source?\": false}, \"O_8\": {\"accuracy\": 0.4625, \"source?\": false}}}, \"history\": {\"epoch_indices\": [1, 2, 3, 4, 5, 6], \"train_label_loss\": [0.11217653215800841, 0.07387309414787015, 0.06044718741597633, 0.0543081022667587, 0.04990279578167964, 0.04657740538784698], \"source_val_label_loss\": [0.12685875594615936, 0.07713649421930313, 0.06732383370399475, 0.06034362316131592, 0.05956773832440376, 0.05595855787396431], \"target_val_label_loss\": [2.5377042293548584, 2.349555015563965, 2.4662909507751465, 2.3416523933410645, 2.3532586097717285, 2.3419904708862305], \"source_val_acc_label\": [0.9769655598243688, 0.982934275521405, 0.9845979692645445, 0.9862273600439078, 0.9862616630076838, 0.9869648737650933], \"target_val_acc_label\": [0.33717447916666665, 0.43697916666666664, 0.39358723958333336, 0.39794921875, 0.3744140625, 0.31962890625]}, \"dataset_metrics\": {\"source\": {\"train\": {\"n_unique_x\": 364259, \"n_unique_y\": 130, \"n_batch/episode\": 13174}, \"val\": {\"n_unique_x\": 77221, \"n_unique_y\": 130, \"n_batch/episode\": 1822}, \"test\": {\"n_unique_x\": 78360, \"n_unique_y\": 130, \"n_batch/episode\": 1854}}, \"target\": {\"train\": {\"n_unique_x\": 179200, \"n_unique_y\": 16, \"n_batch/episode\": 6720}, \"val\": {\"n_unique_x\": 38400, \"n_unique_y\": 16, \"n_batch/episode\": 960}, \"test\": {\"n_unique_x\": 38400, \"n_unique_y\": 16, \"n_batch/episode\": 960}}}}'"
      ]
     },
     "execution_count": 29,
     "metadata": {},
     "output_type": "execute_result"
    }
   ],
   "source": [
    "json.dumps(experiment)"
   ]
  }
 ],
 "metadata": {
  "celltoolbar": "Tags",
  "kernelspec": {
   "display_name": "Python 3 (ipykernel)",
   "language": "python",
   "name": "python3"
  },
  "language_info": {
   "codemirror_mode": {
    "name": "ipython",
    "version": 3
   },
   "file_extension": ".py",
   "mimetype": "text/x-python",
   "name": "python",
   "nbconvert_exporter": "python",
   "pygments_lexer": "ipython3",
   "version": "3.8.10"
  },
  "papermill": {
   "default_parameters": {},
   "duration": 3950.406845,
   "end_time": "2022-03-20T12:57:14.153855",
   "environment_variables": {},
   "exception": null,
   "input_path": "/mnt/wd500GB/CSC500/csc500-main/csc500-notebooks/templates/tl_ptn_template.ipynb",
   "output_path": "trial.ipynb",
   "parameters": {
    "parameters": {
     "BEST_MODEL_PATH": "./best_model.pth",
     "NUM_LOGS_PER_EPOCH": 10,
     "criteria_for_best": "target_accuracy",
     "dataset_seed": 7,
     "datasets": [
      {
       "domain_prefix": "C_",
       "domains": [
        1,
        2,
        3,
        4,
        5
       ],
       "episode_transforms": [],
       "labels": [
        "1-10.",
        "1-11.",
        "1-15.",
        "1-16.",
        "1-17.",
        "1-18.",
        "1-19.",
        "10-4.",
        "10-7.",
        "11-1.",
        "11-14.",
        "11-17.",
        "11-20.",
        "11-7.",
        "13-20.",
        "13-8.",
        "14-10.",
        "14-11.",
        "14-14.",
        "14-7.",
        "15-1.",
        "15-20.",
        "16-1.",
        "16-16.",
        "17-10.",
        "17-11.",
        "17-2.",
        "19-1.",
        "19-16.",
        "19-19.",
        "19-20.",
        "19-3.",
        "2-10.",
        "2-11.",
        "2-17.",
        "2-18.",
        "2-20.",
        "2-3.",
        "2-4.",
        "2-5.",
        "2-6.",
        "2-7.",
        "2-8.",
        "3-13.",
        "3-18.",
        "3-3.",
        "4-1.",
        "4-10.",
        "4-11.",
        "4-19.",
        "5-5.",
        "6-15.",
        "7-10.",
        "7-14.",
        "8-18.",
        "8-20.",
        "8-3.",
        "8-8."
       ],
       "num_examples_per_domain_per_label": -1,
       "pickle_path": "/mnt/wd500GB/CSC500/csc500-main/datasets/cores.stratified_ds.2022A.pkl",
       "source_or_target_dataset": "source",
       "x_transforms": []
      },
      {
       "domain_prefix": "W_",
       "domains": [
        1,
        2,
        3,
        4
       ],
       "episode_transforms": [],
       "labels": [
        "1-10",
        "1-12",
        "1-14",
        "1-16",
        "1-18",
        "1-19",
        "1-8",
        "10-11",
        "10-17",
        "10-4",
        "10-7",
        "11-1",
        "11-10",
        "11-19",
        "11-20",
        "11-4",
        "11-7",
        "12-19",
        "12-20",
        "12-7",
        "13-14",
        "13-18",
        "13-19",
        "13-20",
        "13-3",
        "13-7",
        "14-10",
        "14-11",
        "14-12",
        "14-13",
        "14-14",
        "14-19",
        "14-20",
        "14-7",
        "14-8",
        "14-9",
        "15-1",
        "15-19",
        "15-6",
        "16-1",
        "16-16",
        "16-19",
        "16-20",
        "17-10",
        "17-11",
        "18-1",
        "18-10",
        "18-11",
        "18-12",
        "18-13",
        "18-14",
        "18-15",
        "18-16",
        "18-17",
        "18-19",
        "18-2",
        "18-20",
        "18-4",
        "18-5",
        "18-7",
        "18-8",
        "18-9",
        "19-1",
        "19-10",
        "19-11",
        "19-12",
        "19-13",
        "19-14",
        "19-15",
        "19-19",
        "19-2",
        "19-20",
        "19-3",
        "19-4",
        "19-6",
        "19-7",
        "19-8",
        "19-9",
        "2-1",
        "2-13",
        "2-15",
        "2-3",
        "2-4",
        "2-5",
        "2-6",
        "2-7",
        "2-8",
        "20-1",
        "20-12",
        "20-14",
        "20-15",
        "20-16",
        "20-18",
        "20-19",
        "20-20",
        "20-3",
        "20-4",
        "20-5",
        "20-7",
        "20-8",
        "3-1",
        "3-13",
        "3-18",
        "3-2",
        "3-8",
        "4-1",
        "4-10",
        "4-11",
        "5-1",
        "5-5",
        "6-1",
        "6-15",
        "6-6",
        "7-10",
        "7-11",
        "7-12",
        "7-13",
        "7-14",
        "7-7",
        "7-8",
        "7-9",
        "8-1",
        "8-13",
        "8-14",
        "8-18",
        "8-20",
        "8-3",
        "8-8",
        "9-1",
        "9-7"
       ],
       "num_examples_per_domain_per_label": -1,
       "pickle_path": "/mnt/wd500GB/CSC500/csc500-main/datasets/wisig.node3-19.stratified_ds.2022A.pkl",
       "source_or_target_dataset": "source",
       "x_transforms": []
      },
      {
       "domain_prefix": "O_",
       "domains": [
        32,
        38,
        8,
        44,
        14,
        50,
        20,
        26
       ],
       "episode_transforms": [],
       "labels": [
        "3123D52",
        "3123D65",
        "3123D79",
        "3123D80",
        "3123D54",
        "3123D70",
        "3123D7B",
        "3123D89",
        "3123D58",
        "3123D76",
        "3123D7D",
        "3123EFE",
        "3123D64",
        "3123D78",
        "3123D7E",
        "3124E4A"
       ],
       "num_examples_per_domain_per_label": 2000,
       "pickle_path": "/mnt/wd500GB/CSC500/csc500-main/datasets/oracle.Run1_framed_2000Examples_stratified_ds.2022A.pkl",
       "source_or_target_dataset": "target",
       "x_transforms": []
      }
     ],
     "device": "cuda",
     "experiment_name": "tl_2v2:cores+wisig -> oracle.run1.framed",
     "lr": 0.0001,
     "n_epoch": 50,
     "n_query": 2,
     "n_shot": 3,
     "n_way": 16,
     "patience": 3,
     "seed": 7,
     "test_k_factor": 2,
     "torch_default_dtype": "torch.float32",
     "train_k_factor": 3,
     "val_k_factor": 2,
     "x_net": [
      {
       "class": "nnReshape",
       "kargs": {
        "shape": [
         -1,
         1,
         2,
         256
        ]
       }
      },
      {
       "class": "Conv2d",
       "kargs": {
        "bias": false,
        "in_channels": 1,
        "kernel_size": [
         1,
         7
        ],
        "out_channels": 256,
        "padding": [
         0,
         3
        ]
       }
      },
      {
       "class": "ReLU",
       "kargs": {
        "inplace": true
       }
      },
      {
       "class": "BatchNorm2d",
       "kargs": {
        "num_features": 256
       }
      },
      {
       "class": "Conv2d",
       "kargs": {
        "bias": true,
        "in_channels": 256,
        "kernel_size": [
         2,
         7
        ],
        "out_channels": 80,
        "padding": [
         0,
         3
        ]
       }
      },
      {
       "class": "ReLU",
       "kargs": {
        "inplace": true
       }
      },
      {
       "class": "BatchNorm2d",
       "kargs": {
        "num_features": 80
       }
      },
      {
       "class": "Flatten",
       "kargs": {}
      },
      {
       "class": "Linear",
       "kargs": {
        "in_features": 20480,
        "out_features": 256
       }
      },
      {
       "class": "ReLU",
       "kargs": {
        "inplace": true
       }
      },
      {
       "class": "BatchNorm1d",
       "kargs": {
        "num_features": 256
       }
      },
      {
       "class": "Linear",
       "kargs": {
        "in_features": 256,
        "out_features": 256
       }
      }
     ]
    }
   },
   "start_time": "2022-03-20T11:51:23.747010",
   "version": "2.3.4"
  }
 },
 "nbformat": 4,
 "nbformat_minor": 5
}