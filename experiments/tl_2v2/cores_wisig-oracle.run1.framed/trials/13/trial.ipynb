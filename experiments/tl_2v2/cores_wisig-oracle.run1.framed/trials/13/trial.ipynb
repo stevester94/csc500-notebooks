{
 "cells": [
  {
   "cell_type": "markdown",
   "id": "9fea5f46",
   "metadata": {
    "papermill": {
     "duration": 0.01643,
     "end_time": "2022-03-20T14:03:57.285843",
     "exception": false,
     "start_time": "2022-03-20T14:03:57.269413",
     "status": "completed"
    },
    "tags": []
   },
   "source": [
    "# Transfer Learning Template"
   ]
  },
  {
   "cell_type": "code",
   "execution_count": 1,
   "id": "0902182a",
   "metadata": {
    "execution": {
     "iopub.execute_input": "2022-03-20T14:03:57.335546Z",
     "iopub.status.busy": "2022-03-20T14:03:57.334928Z",
     "iopub.status.idle": "2022-03-20T14:03:58.313577Z",
     "shell.execute_reply": "2022-03-20T14:03:58.313805Z"
    },
    "papermill": {
     "duration": 1.007001,
     "end_time": "2022-03-20T14:03:58.313925",
     "exception": false,
     "start_time": "2022-03-20T14:03:57.306924",
     "status": "completed"
    },
    "tags": []
   },
   "outputs": [],
   "source": [
    "%load_ext autoreload\n",
    "%autoreload 2\n",
    "%matplotlib inline\n",
    "\n",
    "    \n",
    "import os, json, sys, time, random\n",
    "import numpy as np\n",
    "import torch\n",
    "from torch.optim import Adam\n",
    "from  easydict import EasyDict\n",
    "import matplotlib.pyplot as plt\n",
    "\n",
    "from steves_models.steves_ptn import Steves_Prototypical_Network\n",
    "\n",
    "from steves_utils.lazy_iterable_wrapper import Lazy_Iterable_Wrapper\n",
    "from steves_utils.iterable_aggregator import Iterable_Aggregator\n",
    "from steves_utils.ptn_train_eval_test_jig import  PTN_Train_Eval_Test_Jig\n",
    "from steves_utils.torch_sequential_builder import build_sequential\n",
    "from steves_utils.torch_utils import get_dataset_metrics, ptn_confusion_by_domain_over_dataloader\n",
    "from steves_utils.utils_v2 import (per_domain_accuracy_from_confusion, get_datasets_base_path)\n",
    "from steves_utils.PTN.utils import independent_accuracy_assesment\n",
    "\n",
    "from torch.utils.data import DataLoader\n",
    "\n",
    "from steves_utils.stratified_dataset.episodic_accessor import Episodic_Accessor_Factory\n",
    "\n",
    "from steves_utils.ptn_do_report import (\n",
    "    get_loss_curve,\n",
    "    get_results_table,\n",
    "    get_parameters_table,\n",
    "    get_domain_accuracies,\n",
    ")\n",
    "\n",
    "from steves_utils.transforms import get_chained_transform"
   ]
  },
  {
   "cell_type": "markdown",
   "id": "41c840b4",
   "metadata": {
    "papermill": {
     "duration": 0.012901,
     "end_time": "2022-03-20T14:03:58.340092",
     "exception": false,
     "start_time": "2022-03-20T14:03:58.327191",
     "status": "completed"
    },
    "tags": []
   },
   "source": [
    "# Allowed Parameters\n",
    "These are allowed parameters, not defaults\n",
    "Each of these values need to be present in the injected parameters (the notebook will raise an exception if they are not present)\n",
    "\n",
    "Papermill uses the cell tag \"parameters\" to inject the real parameters below this cell.\n",
    "Enable tags to see what I mean"
   ]
  },
  {
   "cell_type": "code",
   "execution_count": 2,
   "id": "fd44eb83",
   "metadata": {
    "execution": {
     "iopub.execute_input": "2022-03-20T14:03:58.368157Z",
     "iopub.status.busy": "2022-03-20T14:03:58.366685Z",
     "iopub.status.idle": "2022-03-20T14:03:58.383390Z",
     "shell.execute_reply": "2022-03-20T14:03:58.382905Z"
    },
    "papermill": {
     "duration": 0.030625,
     "end_time": "2022-03-20T14:03:58.383507",
     "exception": false,
     "start_time": "2022-03-20T14:03:58.352882",
     "status": "completed"
    },
    "tags": []
   },
   "outputs": [],
   "source": [
    "required_parameters = {\n",
    "    \"experiment_name\",\n",
    "    \"lr\",\n",
    "    \"device\",\n",
    "    \"seed\",\n",
    "    \"dataset_seed\",\n",
    "    \"n_shot\",\n",
    "    \"n_query\",\n",
    "    \"n_way\",\n",
    "    \"train_k_factor\",\n",
    "    \"val_k_factor\",\n",
    "    \"test_k_factor\",\n",
    "    \"n_epoch\",\n",
    "    \"patience\",\n",
    "    \"criteria_for_best\",\n",
    "    \"x_net\",\n",
    "    \"datasets\",\n",
    "    \"torch_default_dtype\",\n",
    "    \"NUM_LOGS_PER_EPOCH\",\n",
    "    \"BEST_MODEL_PATH\",\n",
    "    \"x_shape\",\n",
    "}"
   ]
  },
  {
   "cell_type": "code",
   "execution_count": 3,
   "id": "fa3f0049",
   "metadata": {
    "execution": {
     "iopub.execute_input": "2022-03-20T14:03:58.427975Z",
     "iopub.status.busy": "2022-03-20T14:03:58.418876Z",
     "iopub.status.idle": "2022-03-20T14:03:58.445007Z",
     "shell.execute_reply": "2022-03-20T14:03:58.445419Z"
    },
    "papermill": {
     "duration": 0.040826,
     "end_time": "2022-03-20T14:03:58.445551",
     "exception": false,
     "start_time": "2022-03-20T14:03:58.404725",
     "status": "completed"
    },
    "tags": [
     "parameters"
    ]
   },
   "outputs": [],
   "source": [
    "from steves_utils.CORES.utils import (\n",
    "    ALL_NODES,\n",
    "    ALL_NODES_MINIMUM_1000_EXAMPLES,\n",
    "    ALL_DAYS\n",
    ")\n",
    "\n",
    "from steves_utils.ORACLE.utils_v2 import (\n",
    "    ALL_DISTANCES_FEET_NARROWED,\n",
    "    ALL_RUNS,\n",
    "    ALL_SERIAL_NUMBERS,\n",
    ")\n",
    "\n",
    "standalone_parameters = {}\n",
    "standalone_parameters[\"experiment_name\"] = \"STANDALONE PTN\"\n",
    "standalone_parameters[\"lr\"] = 0.001\n",
    "standalone_parameters[\"device\"] = \"cuda\"\n",
    "\n",
    "standalone_parameters[\"seed\"] = 1337\n",
    "standalone_parameters[\"dataset_seed\"] = 1337\n",
    "\n",
    "standalone_parameters[\"n_way\"] = 8\n",
    "standalone_parameters[\"n_shot\"] = 3\n",
    "standalone_parameters[\"n_query\"]  = 2\n",
    "standalone_parameters[\"train_k_factor\"] = 1\n",
    "standalone_parameters[\"val_k_factor\"] = 2\n",
    "standalone_parameters[\"test_k_factor\"] = 2\n",
    "\n",
    "\n",
    "standalone_parameters[\"n_epoch\"] = 50\n",
    "\n",
    "standalone_parameters[\"patience\"] = 10\n",
    "standalone_parameters[\"criteria_for_best\"] = \"source_loss\"\n",
    "\n",
    "standalone_parameters[\"datasets\"] = [\n",
    "    {\n",
    "        \"labels\": ALL_SERIAL_NUMBERS,\n",
    "        \"domains\": ALL_DISTANCES_FEET_NARROWED,\n",
    "        \"num_examples_per_domain_per_label\": 100,\n",
    "        \"pickle_path\": os.path.join(get_datasets_base_path(), \"oracle.Run1_framed_2000Examples_stratified_ds.2022A.pkl\"),\n",
    "        \"source_or_target_dataset\": \"source\",\n",
    "        \"x_transforms\": [\"unit_mag\", \"minus_two\"],\n",
    "        \"episode_transforms\": [],\n",
    "        \"domain_prefix\": \"ORACLE_\"\n",
    "    },\n",
    "    {\n",
    "        \"labels\": ALL_NODES,\n",
    "        \"domains\": ALL_DAYS,\n",
    "        \"num_examples_per_domain_per_label\": 100,\n",
    "        \"pickle_path\": os.path.join(get_datasets_base_path(), \"cores.stratified_ds.2022A.pkl\"),\n",
    "        \"source_or_target_dataset\": \"target\",\n",
    "        \"x_transforms\": [\"unit_power\", \"times_zero\"],\n",
    "        \"episode_transforms\": [],\n",
    "        \"domain_prefix\": \"CORES_\"\n",
    "    }   \n",
    "]\n",
    "\n",
    "standalone_parameters[\"torch_default_dtype\"] = \"torch.float32\" \n",
    "\n",
    "\n",
    "\n",
    "standalone_parameters[\"x_net\"] =     [\n",
    "    {\"class\": \"nnReshape\", \"kargs\": {\"shape\":[-1, 1, 2, 256]}},\n",
    "    {\"class\": \"Conv2d\", \"kargs\": { \"in_channels\":1, \"out_channels\":256, \"kernel_size\":(1,7), \"bias\":False, \"padding\":(0,3), },},\n",
    "    {\"class\": \"ReLU\", \"kargs\": {\"inplace\": True}},\n",
    "    {\"class\": \"BatchNorm2d\", \"kargs\": {\"num_features\":256}},\n",
    "\n",
    "    {\"class\": \"Conv2d\", \"kargs\": { \"in_channels\":256, \"out_channels\":80, \"kernel_size\":(2,7), \"bias\":True, \"padding\":(0,3), },},\n",
    "    {\"class\": \"ReLU\", \"kargs\": {\"inplace\": True}},\n",
    "    {\"class\": \"BatchNorm2d\", \"kargs\": {\"num_features\":80}},\n",
    "    {\"class\": \"Flatten\", \"kargs\": {}},\n",
    "\n",
    "    {\"class\": \"Linear\", \"kargs\": {\"in_features\": 80*256, \"out_features\": 256}}, # 80 units per IQ pair\n",
    "    {\"class\": \"ReLU\", \"kargs\": {\"inplace\": True}},\n",
    "    {\"class\": \"BatchNorm1d\", \"kargs\": {\"num_features\":256}},\n",
    "\n",
    "    {\"class\": \"Linear\", \"kargs\": {\"in_features\": 256, \"out_features\": 256}},\n",
    "]\n",
    "\n",
    "# Parameters relevant to results\n",
    "# These parameters will basically never need to change\n",
    "standalone_parameters[\"NUM_LOGS_PER_EPOCH\"] = 10\n",
    "standalone_parameters[\"BEST_MODEL_PATH\"] = \"./best_model.pth\"\n",
    "\n",
    "\n",
    "\n",
    "\n"
   ]
  },
  {
   "cell_type": "code",
   "execution_count": 4,
   "id": "152e0b45",
   "metadata": {
    "execution": {
     "iopub.execute_input": "2022-03-20T14:03:58.490953Z",
     "iopub.status.busy": "2022-03-20T14:03:58.489407Z",
     "iopub.status.idle": "2022-03-20T14:03:58.503609Z",
     "shell.execute_reply": "2022-03-20T14:03:58.503915Z"
    },
    "papermill": {
     "duration": 0.040034,
     "end_time": "2022-03-20T14:03:58.504013",
     "exception": false,
     "start_time": "2022-03-20T14:03:58.463979",
     "status": "completed"
    },
    "tags": [
     "injected-parameters"
    ]
   },
   "outputs": [],
   "source": [
    "# Parameters\n",
    "parameters = {\n",
    "    \"experiment_name\": \"tl_2v2:cores+wisig -> oracle.run1.framed\",\n",
    "    \"device\": \"cuda\",\n",
    "    \"lr\": 0.0001,\n",
    "    \"n_shot\": 3,\n",
    "    \"n_query\": 2,\n",
    "    \"train_k_factor\": 3,\n",
    "    \"val_k_factor\": 2,\n",
    "    \"test_k_factor\": 2,\n",
    "    \"torch_default_dtype\": \"torch.float32\",\n",
    "    \"n_epoch\": 50,\n",
    "    \"patience\": 3,\n",
    "    \"criteria_for_best\": \"target_accuracy\",\n",
    "    \"x_net\": [\n",
    "        {\"class\": \"nnReshape\", \"kargs\": {\"shape\": [-1, 1, 2, 256]}},\n",
    "        {\n",
    "            \"class\": \"Conv2d\",\n",
    "            \"kargs\": {\n",
    "                \"in_channels\": 1,\n",
    "                \"out_channels\": 256,\n",
    "                \"kernel_size\": [1, 7],\n",
    "                \"bias\": False,\n",
    "                \"padding\": [0, 3],\n",
    "            },\n",
    "        },\n",
    "        {\"class\": \"ReLU\", \"kargs\": {\"inplace\": True}},\n",
    "        {\"class\": \"BatchNorm2d\", \"kargs\": {\"num_features\": 256}},\n",
    "        {\n",
    "            \"class\": \"Conv2d\",\n",
    "            \"kargs\": {\n",
    "                \"in_channels\": 256,\n",
    "                \"out_channels\": 80,\n",
    "                \"kernel_size\": [2, 7],\n",
    "                \"bias\": True,\n",
    "                \"padding\": [0, 3],\n",
    "            },\n",
    "        },\n",
    "        {\"class\": \"ReLU\", \"kargs\": {\"inplace\": True}},\n",
    "        {\"class\": \"BatchNorm2d\", \"kargs\": {\"num_features\": 80}},\n",
    "        {\"class\": \"Flatten\", \"kargs\": {}},\n",
    "        {\"class\": \"Linear\", \"kargs\": {\"in_features\": 20480, \"out_features\": 256}},\n",
    "        {\"class\": \"ReLU\", \"kargs\": {\"inplace\": True}},\n",
    "        {\"class\": \"BatchNorm1d\", \"kargs\": {\"num_features\": 256}},\n",
    "        {\"class\": \"Linear\", \"kargs\": {\"in_features\": 256, \"out_features\": 256}},\n",
    "    ],\n",
    "    \"NUM_LOGS_PER_EPOCH\": 10,\n",
    "    \"BEST_MODEL_PATH\": \"./best_model.pth\",\n",
    "    \"n_way\": 16,\n",
    "    \"datasets\": [\n",
    "        {\n",
    "            \"labels\": [\n",
    "                \"1-10.\",\n",
    "                \"1-11.\",\n",
    "                \"1-15.\",\n",
    "                \"1-16.\",\n",
    "                \"1-17.\",\n",
    "                \"1-18.\",\n",
    "                \"1-19.\",\n",
    "                \"10-4.\",\n",
    "                \"10-7.\",\n",
    "                \"11-1.\",\n",
    "                \"11-14.\",\n",
    "                \"11-17.\",\n",
    "                \"11-20.\",\n",
    "                \"11-7.\",\n",
    "                \"13-20.\",\n",
    "                \"13-8.\",\n",
    "                \"14-10.\",\n",
    "                \"14-11.\",\n",
    "                \"14-14.\",\n",
    "                \"14-7.\",\n",
    "                \"15-1.\",\n",
    "                \"15-20.\",\n",
    "                \"16-1.\",\n",
    "                \"16-16.\",\n",
    "                \"17-10.\",\n",
    "                \"17-11.\",\n",
    "                \"17-2.\",\n",
    "                \"19-1.\",\n",
    "                \"19-16.\",\n",
    "                \"19-19.\",\n",
    "                \"19-20.\",\n",
    "                \"19-3.\",\n",
    "                \"2-10.\",\n",
    "                \"2-11.\",\n",
    "                \"2-17.\",\n",
    "                \"2-18.\",\n",
    "                \"2-20.\",\n",
    "                \"2-3.\",\n",
    "                \"2-4.\",\n",
    "                \"2-5.\",\n",
    "                \"2-6.\",\n",
    "                \"2-7.\",\n",
    "                \"2-8.\",\n",
    "                \"3-13.\",\n",
    "                \"3-18.\",\n",
    "                \"3-3.\",\n",
    "                \"4-1.\",\n",
    "                \"4-10.\",\n",
    "                \"4-11.\",\n",
    "                \"4-19.\",\n",
    "                \"5-5.\",\n",
    "                \"6-15.\",\n",
    "                \"7-10.\",\n",
    "                \"7-14.\",\n",
    "                \"8-18.\",\n",
    "                \"8-20.\",\n",
    "                \"8-3.\",\n",
    "                \"8-8.\",\n",
    "            ],\n",
    "            \"domains\": [1, 2, 3, 4, 5],\n",
    "            \"num_examples_per_domain_per_label\": -1,\n",
    "            \"pickle_path\": \"/mnt/wd500GB/CSC500/csc500-main/datasets/cores.stratified_ds.2022A.pkl\",\n",
    "            \"source_or_target_dataset\": \"source\",\n",
    "            \"x_transforms\": [\"unit_mag\"],\n",
    "            \"episode_transforms\": [],\n",
    "            \"domain_prefix\": \"C_\",\n",
    "        },\n",
    "        {\n",
    "            \"labels\": [\n",
    "                \"1-10\",\n",
    "                \"1-12\",\n",
    "                \"1-14\",\n",
    "                \"1-16\",\n",
    "                \"1-18\",\n",
    "                \"1-19\",\n",
    "                \"1-8\",\n",
    "                \"10-11\",\n",
    "                \"10-17\",\n",
    "                \"10-4\",\n",
    "                \"10-7\",\n",
    "                \"11-1\",\n",
    "                \"11-10\",\n",
    "                \"11-19\",\n",
    "                \"11-20\",\n",
    "                \"11-4\",\n",
    "                \"11-7\",\n",
    "                \"12-19\",\n",
    "                \"12-20\",\n",
    "                \"12-7\",\n",
    "                \"13-14\",\n",
    "                \"13-18\",\n",
    "                \"13-19\",\n",
    "                \"13-20\",\n",
    "                \"13-3\",\n",
    "                \"13-7\",\n",
    "                \"14-10\",\n",
    "                \"14-11\",\n",
    "                \"14-12\",\n",
    "                \"14-13\",\n",
    "                \"14-14\",\n",
    "                \"14-19\",\n",
    "                \"14-20\",\n",
    "                \"14-7\",\n",
    "                \"14-8\",\n",
    "                \"14-9\",\n",
    "                \"15-1\",\n",
    "                \"15-19\",\n",
    "                \"15-6\",\n",
    "                \"16-1\",\n",
    "                \"16-16\",\n",
    "                \"16-19\",\n",
    "                \"16-20\",\n",
    "                \"17-10\",\n",
    "                \"17-11\",\n",
    "                \"18-1\",\n",
    "                \"18-10\",\n",
    "                \"18-11\",\n",
    "                \"18-12\",\n",
    "                \"18-13\",\n",
    "                \"18-14\",\n",
    "                \"18-15\",\n",
    "                \"18-16\",\n",
    "                \"18-17\",\n",
    "                \"18-19\",\n",
    "                \"18-2\",\n",
    "                \"18-20\",\n",
    "                \"18-4\",\n",
    "                \"18-5\",\n",
    "                \"18-7\",\n",
    "                \"18-8\",\n",
    "                \"18-9\",\n",
    "                \"19-1\",\n",
    "                \"19-10\",\n",
    "                \"19-11\",\n",
    "                \"19-12\",\n",
    "                \"19-13\",\n",
    "                \"19-14\",\n",
    "                \"19-15\",\n",
    "                \"19-19\",\n",
    "                \"19-2\",\n",
    "                \"19-20\",\n",
    "                \"19-3\",\n",
    "                \"19-4\",\n",
    "                \"19-6\",\n",
    "                \"19-7\",\n",
    "                \"19-8\",\n",
    "                \"19-9\",\n",
    "                \"2-1\",\n",
    "                \"2-13\",\n",
    "                \"2-15\",\n",
    "                \"2-3\",\n",
    "                \"2-4\",\n",
    "                \"2-5\",\n",
    "                \"2-6\",\n",
    "                \"2-7\",\n",
    "                \"2-8\",\n",
    "                \"20-1\",\n",
    "                \"20-12\",\n",
    "                \"20-14\",\n",
    "                \"20-15\",\n",
    "                \"20-16\",\n",
    "                \"20-18\",\n",
    "                \"20-19\",\n",
    "                \"20-20\",\n",
    "                \"20-3\",\n",
    "                \"20-4\",\n",
    "                \"20-5\",\n",
    "                \"20-7\",\n",
    "                \"20-8\",\n",
    "                \"3-1\",\n",
    "                \"3-13\",\n",
    "                \"3-18\",\n",
    "                \"3-2\",\n",
    "                \"3-8\",\n",
    "                \"4-1\",\n",
    "                \"4-10\",\n",
    "                \"4-11\",\n",
    "                \"5-1\",\n",
    "                \"5-5\",\n",
    "                \"6-1\",\n",
    "                \"6-15\",\n",
    "                \"6-6\",\n",
    "                \"7-10\",\n",
    "                \"7-11\",\n",
    "                \"7-12\",\n",
    "                \"7-13\",\n",
    "                \"7-14\",\n",
    "                \"7-7\",\n",
    "                \"7-8\",\n",
    "                \"7-9\",\n",
    "                \"8-1\",\n",
    "                \"8-13\",\n",
    "                \"8-14\",\n",
    "                \"8-18\",\n",
    "                \"8-20\",\n",
    "                \"8-3\",\n",
    "                \"8-8\",\n",
    "                \"9-1\",\n",
    "                \"9-7\",\n",
    "            ],\n",
    "            \"domains\": [1, 2, 3, 4],\n",
    "            \"num_examples_per_domain_per_label\": -1,\n",
    "            \"pickle_path\": \"/mnt/wd500GB/CSC500/csc500-main/datasets/wisig.node3-19.stratified_ds.2022A.pkl\",\n",
    "            \"source_or_target_dataset\": \"source\",\n",
    "            \"x_transforms\": [\"unit_mag\"],\n",
    "            \"episode_transforms\": [],\n",
    "            \"domain_prefix\": \"W_\",\n",
    "        },\n",
    "        {\n",
    "            \"labels\": [\n",
    "                \"3123D52\",\n",
    "                \"3123D65\",\n",
    "                \"3123D79\",\n",
    "                \"3123D80\",\n",
    "                \"3123D54\",\n",
    "                \"3123D70\",\n",
    "                \"3123D7B\",\n",
    "                \"3123D89\",\n",
    "                \"3123D58\",\n",
    "                \"3123D76\",\n",
    "                \"3123D7D\",\n",
    "                \"3123EFE\",\n",
    "                \"3123D64\",\n",
    "                \"3123D78\",\n",
    "                \"3123D7E\",\n",
    "                \"3124E4A\",\n",
    "            ],\n",
    "            \"domains\": [32, 38, 8, 44, 14, 50, 20, 26],\n",
    "            \"num_examples_per_domain_per_label\": 2000,\n",
    "            \"pickle_path\": \"/mnt/wd500GB/CSC500/csc500-main/datasets/oracle.Run1_framed_2000Examples_stratified_ds.2022A.pkl\",\n",
    "            \"source_or_target_dataset\": \"target\",\n",
    "            \"x_transforms\": [\"unit_mag\"],\n",
    "            \"episode_transforms\": [],\n",
    "            \"domain_prefix\": \"O_\",\n",
    "        },\n",
    "    ],\n",
    "    \"seed\": 500,\n",
    "    \"dataset_seed\": 500,\n",
    "}\n"
   ]
  },
  {
   "cell_type": "code",
   "execution_count": 5,
   "id": "8fa1cc33",
   "metadata": {
    "execution": {
     "iopub.execute_input": "2022-03-20T14:03:58.539004Z",
     "iopub.status.busy": "2022-03-20T14:03:58.538732Z",
     "iopub.status.idle": "2022-03-20T14:03:58.554222Z",
     "shell.execute_reply": "2022-03-20T14:03:58.554618Z"
    },
    "papermill": {
     "duration": 0.032558,
     "end_time": "2022-03-20T14:03:58.554741",
     "exception": false,
     "start_time": "2022-03-20T14:03:58.522183",
     "status": "completed"
    },
    "tags": []
   },
   "outputs": [],
   "source": [
    "# Set this to True if you want to run this template directly\n",
    "STANDALONE = False\n",
    "if STANDALONE:\n",
    "    print(\"parameters not injected, running with standalone_parameters\")\n",
    "    parameters = standalone_parameters\n",
    "\n",
    "if not 'parameters' in locals() and not 'parameters' in globals():\n",
    "    raise Exception(\"Parameter injection failed\")\n",
    "\n",
    "#Use an easy dict for all the parameters\n",
    "p = EasyDict(parameters)\n",
    "\n",
    "if \"x_shape\" not in p:\n",
    "    p.x_shape = [2,256] # Default to this if we dont supply x_shape\n",
    "\n",
    "\n",
    "supplied_keys = set(p.keys())\n",
    "\n",
    "if  supplied_keys != required_parameters:\n",
    "    print(\"Parameters are incorrect\")\n",
    "    if len(supplied_keys - required_parameters)>0: print(\"Shouldn't have:\", str(supplied_keys - required_parameters))\n",
    "    if len(required_parameters - supplied_keys)>0: print(\"Need to have:\", str(required_parameters - supplied_keys))\n",
    "    raise RuntimeError(\"Parameters are incorrect\")"
   ]
  },
  {
   "cell_type": "code",
   "execution_count": 6,
   "id": "3a028d58",
   "metadata": {
    "execution": {
     "iopub.execute_input": "2022-03-20T14:03:58.587198Z",
     "iopub.status.busy": "2022-03-20T14:03:58.586948Z",
     "iopub.status.idle": "2022-03-20T14:03:58.598104Z",
     "shell.execute_reply": "2022-03-20T14:03:58.598497Z"
    },
    "papermill": {
     "duration": 0.026122,
     "end_time": "2022-03-20T14:03:58.598618",
     "exception": false,
     "start_time": "2022-03-20T14:03:58.572496",
     "status": "completed"
    },
    "tags": []
   },
   "outputs": [],
   "source": [
    "###################################\n",
    "# Set the RNGs and make it all deterministic\n",
    "###################################\n",
    "np.random.seed(p.seed)\n",
    "random.seed(p.seed)\n",
    "torch.manual_seed(p.seed)\n",
    "\n",
    "torch.use_deterministic_algorithms(True) "
   ]
  },
  {
   "cell_type": "code",
   "execution_count": 7,
   "id": "b691acf6",
   "metadata": {
    "execution": {
     "iopub.execute_input": "2022-03-20T14:03:58.630701Z",
     "iopub.status.busy": "2022-03-20T14:03:58.630448Z",
     "iopub.status.idle": "2022-03-20T14:03:58.641575Z",
     "shell.execute_reply": "2022-03-20T14:03:58.641202Z"
    },
    "papermill": {
     "duration": 0.025316,
     "end_time": "2022-03-20T14:03:58.641651",
     "exception": false,
     "start_time": "2022-03-20T14:03:58.616335",
     "status": "completed"
    },
    "tags": []
   },
   "outputs": [],
   "source": [
    "###########################################\n",
    "# The stratified datasets honor this\n",
    "###########################################\n",
    "torch.set_default_dtype(eval(p.torch_default_dtype))"
   ]
  },
  {
   "cell_type": "code",
   "execution_count": 8,
   "id": "b5fba671",
   "metadata": {
    "execution": {
     "iopub.execute_input": "2022-03-20T14:03:58.674477Z",
     "iopub.status.busy": "2022-03-20T14:03:58.674229Z",
     "iopub.status.idle": "2022-03-20T14:03:58.711185Z",
     "shell.execute_reply": "2022-03-20T14:03:58.710740Z"
    },
    "papermill": {
     "duration": 0.051522,
     "end_time": "2022-03-20T14:03:58.711298",
     "exception": false,
     "start_time": "2022-03-20T14:03:58.659776",
     "status": "completed"
    },
    "tags": []
   },
   "outputs": [],
   "source": [
    "###################################\n",
    "# Build the network(s)\n",
    "# Note: It's critical to do this AFTER setting the RNG\n",
    "###################################\n",
    "x_net = build_sequential(p.x_net)"
   ]
  },
  {
   "cell_type": "code",
   "execution_count": 9,
   "id": "5d7e61cc",
   "metadata": {
    "execution": {
     "iopub.execute_input": "2022-03-20T14:03:58.747320Z",
     "iopub.status.busy": "2022-03-20T14:03:58.747043Z",
     "iopub.status.idle": "2022-03-20T14:03:58.758010Z",
     "shell.execute_reply": "2022-03-20T14:03:58.758311Z"
    },
    "papermill": {
     "duration": 0.025795,
     "end_time": "2022-03-20T14:03:58.758407",
     "exception": false,
     "start_time": "2022-03-20T14:03:58.732612",
     "status": "completed"
    },
    "tags": []
   },
   "outputs": [],
   "source": [
    "start_time_secs = time.time()"
   ]
  },
  {
   "cell_type": "code",
   "execution_count": 10,
   "id": "c6b67dfd",
   "metadata": {
    "execution": {
     "iopub.execute_input": "2022-03-20T14:03:58.794836Z",
     "iopub.status.busy": "2022-03-20T14:03:58.794343Z",
     "iopub.status.idle": "2022-03-20T14:03:58.805541Z",
     "shell.execute_reply": "2022-03-20T14:03:58.805096Z"
    },
    "papermill": {
     "duration": 0.027547,
     "end_time": "2022-03-20T14:03:58.805645",
     "exception": false,
     "start_time": "2022-03-20T14:03:58.778098",
     "status": "completed"
    },
    "tags": []
   },
   "outputs": [],
   "source": [
    "p.domains_source = []\n",
    "p.domains_target = []\n",
    "\n",
    "\n",
    "train_original_source = []\n",
    "val_original_source   = []\n",
    "test_original_source  = []\n",
    "\n",
    "train_original_target = []\n",
    "val_original_target   = []\n",
    "test_original_target  = []"
   ]
  },
  {
   "cell_type": "code",
   "execution_count": 11,
   "id": "e3d9c3d3",
   "metadata": {
    "execution": {
     "iopub.execute_input": "2022-03-20T14:03:58.848458Z",
     "iopub.status.busy": "2022-03-20T14:03:58.847971Z",
     "iopub.status.idle": "2022-03-20T14:03:58.862299Z",
     "shell.execute_reply": "2022-03-20T14:03:58.862597Z"
    },
    "papermill": {
     "duration": 0.030848,
     "end_time": "2022-03-20T14:03:58.862693",
     "exception": false,
     "start_time": "2022-03-20T14:03:58.831845",
     "status": "completed"
    },
    "tags": []
   },
   "outputs": [],
   "source": [
    "# global_x_transform_func = lambda x: normalize(x.to(torch.get_default_dtype()), \"unit_power\") # unit_power, unit_mag\n",
    "# global_x_transform_func = lambda x: normalize(x, \"unit_power\") # unit_power, unit_mag"
   ]
  },
  {
   "cell_type": "code",
   "execution_count": 12,
   "id": "acb78fd2",
   "metadata": {
    "execution": {
     "iopub.execute_input": "2022-03-20T14:03:58.901960Z",
     "iopub.status.busy": "2022-03-20T14:03:58.901698Z",
     "iopub.status.idle": "2022-03-20T14:03:58.917649Z",
     "shell.execute_reply": "2022-03-20T14:03:58.918041Z"
    },
    "papermill": {
     "duration": 0.036796,
     "end_time": "2022-03-20T14:03:58.918165",
     "exception": false,
     "start_time": "2022-03-20T14:03:58.881369",
     "status": "completed"
    },
    "tags": []
   },
   "outputs": [],
   "source": [
    "def add_dataset(\n",
    "    labels,\n",
    "    domains,\n",
    "    pickle_path,\n",
    "    x_transforms,\n",
    "    episode_transforms,\n",
    "    domain_prefix,\n",
    "    num_examples_per_domain_per_label,\n",
    "    source_or_target_dataset:str,\n",
    "    iterator_seed=p.seed,\n",
    "    dataset_seed=p.dataset_seed,\n",
    "    n_shot=p.n_shot,\n",
    "    n_way=p.n_way,\n",
    "    n_query=p.n_query,\n",
    "    train_val_test_k_factors=(p.train_k_factor,p.val_k_factor,p.test_k_factor),\n",
    "):\n",
    "   \n",
    "    if x_transforms == []: x_transform = None\n",
    "    else: x_transform = get_chained_transform(x_transforms)\n",
    "    \n",
    "    if episode_transforms == []: episode_transform = None\n",
    "    else: raise Exception(\"episode_transforms not implemented\")\n",
    "    \n",
    "    episode_transform = lambda tup, _prefix=domain_prefix: (_prefix + str(tup[0]), tup[1])\n",
    "\n",
    "\n",
    "    eaf = Episodic_Accessor_Factory(\n",
    "        labels=labels,\n",
    "        domains=domains,\n",
    "        num_examples_per_domain_per_label=num_examples_per_domain_per_label,\n",
    "        iterator_seed=iterator_seed,\n",
    "        dataset_seed=dataset_seed,\n",
    "        n_shot=n_shot,\n",
    "        n_way=n_way,\n",
    "        n_query=n_query,\n",
    "        train_val_test_k_factors=train_val_test_k_factors,\n",
    "        pickle_path=pickle_path,\n",
    "        x_transform_func=x_transform,\n",
    "    )\n",
    "\n",
    "    train, val, test = eaf.get_train(), eaf.get_val(), eaf.get_test()\n",
    "    train = Lazy_Iterable_Wrapper(train, episode_transform)\n",
    "    val = Lazy_Iterable_Wrapper(val, episode_transform)\n",
    "    test = Lazy_Iterable_Wrapper(test, episode_transform)\n",
    "\n",
    "    if source_or_target_dataset==\"source\":\n",
    "        train_original_source.append(train)\n",
    "        val_original_source.append(val)\n",
    "        test_original_source.append(test)\n",
    "\n",
    "        p.domains_source.extend(\n",
    "            [domain_prefix + str(u) for u in domains]\n",
    "        )\n",
    "    elif source_or_target_dataset==\"target\":\n",
    "        train_original_target.append(train)\n",
    "        val_original_target.append(val)\n",
    "        test_original_target.append(test)\n",
    "        p.domains_target.extend(\n",
    "            [domain_prefix + str(u) for u in domains]\n",
    "        )\n",
    "    else:\n",
    "        raise Exception(f\"invalid source_or_target_dataset: {source_or_target_dataset}\")\n",
    "    "
   ]
  },
  {
   "cell_type": "code",
   "execution_count": 13,
   "id": "fe266617",
   "metadata": {
    "execution": {
     "iopub.execute_input": "2022-03-20T14:03:58.951921Z",
     "iopub.status.busy": "2022-03-20T14:03:58.951662Z",
     "iopub.status.idle": "2022-03-20T14:04:46.100454Z",
     "shell.execute_reply": "2022-03-20T14:04:46.099997Z"
    },
    "papermill": {
     "duration": 47.163737,
     "end_time": "2022-03-20T14:04:46.100561",
     "exception": false,
     "start_time": "2022-03-20T14:03:58.936824",
     "status": "completed"
    },
    "tags": []
   },
   "outputs": [],
   "source": [
    "for ds in p.datasets:\n",
    "    add_dataset(**ds)"
   ]
  },
  {
   "cell_type": "code",
   "execution_count": 14,
   "id": "b90d65ac",
   "metadata": {
    "execution": {
     "iopub.execute_input": "2022-03-20T14:04:46.133712Z",
     "iopub.status.busy": "2022-03-20T14:04:46.133452Z",
     "iopub.status.idle": "2022-03-20T14:04:46.144074Z",
     "shell.execute_reply": "2022-03-20T14:04:46.144293Z"
    },
    "papermill": {
     "duration": 0.026127,
     "end_time": "2022-03-20T14:04:46.144367",
     "exception": false,
     "start_time": "2022-03-20T14:04:46.118240",
     "status": "completed"
    },
    "tags": []
   },
   "outputs": [],
   "source": [
    "# from steves_utils.CORES.utils import (\n",
    "#     ALL_NODES,\n",
    "#     ALL_NODES_MINIMUM_1000_EXAMPLES,\n",
    "#     ALL_DAYS\n",
    "# )\n",
    "\n",
    "# add_dataset(\n",
    "#     labels=ALL_NODES,\n",
    "#     domains = ALL_DAYS,\n",
    "#     num_examples_per_domain_per_label=100,\n",
    "#     pickle_path=os.path.join(get_datasets_base_path(), \"cores.stratified_ds.2022A.pkl\"),\n",
    "#     source_or_target_dataset=\"target\",\n",
    "#     x_transform_func=global_x_transform_func,\n",
    "#     domain_modifier=lambda u: f\"cores_{u}\"\n",
    "# )"
   ]
  },
  {
   "cell_type": "code",
   "execution_count": 15,
   "id": "76db484d",
   "metadata": {
    "execution": {
     "iopub.execute_input": "2022-03-20T14:04:46.177523Z",
     "iopub.status.busy": "2022-03-20T14:04:46.177271Z",
     "iopub.status.idle": "2022-03-20T14:04:46.187746Z",
     "shell.execute_reply": "2022-03-20T14:04:46.187514Z"
    },
    "papermill": {
     "duration": 0.025247,
     "end_time": "2022-03-20T14:04:46.187803",
     "exception": false,
     "start_time": "2022-03-20T14:04:46.162556",
     "status": "completed"
    },
    "tags": []
   },
   "outputs": [],
   "source": [
    "# from steves_utils.ORACLE.utils_v2 import (\n",
    "#     ALL_DISTANCES_FEET,\n",
    "#     ALL_RUNS,\n",
    "#     ALL_SERIAL_NUMBERS,\n",
    "# )\n",
    "\n",
    "\n",
    "# add_dataset(\n",
    "#     labels=ALL_SERIAL_NUMBERS,\n",
    "#     domains = list(set(ALL_DISTANCES_FEET) - {2,62}),\n",
    "#     num_examples_per_domain_per_label=100,\n",
    "#     pickle_path=os.path.join(get_datasets_base_path(), \"oracle.Run2_framed_2000Examples_stratified_ds.2022A.pkl\"),\n",
    "#     source_or_target_dataset=\"source\",\n",
    "#     x_transform_func=global_x_transform_func,\n",
    "#     domain_modifier=lambda u: f\"oracle1_{u}\"\n",
    "# )\n"
   ]
  },
  {
   "cell_type": "code",
   "execution_count": 16,
   "id": "97dea9d2",
   "metadata": {
    "execution": {
     "iopub.execute_input": "2022-03-20T14:04:46.221639Z",
     "iopub.status.busy": "2022-03-20T14:04:46.221139Z",
     "iopub.status.idle": "2022-03-20T14:04:46.231560Z",
     "shell.execute_reply": "2022-03-20T14:04:46.231847Z"
    },
    "papermill": {
     "duration": 0.026367,
     "end_time": "2022-03-20T14:04:46.231946",
     "exception": false,
     "start_time": "2022-03-20T14:04:46.205579",
     "status": "completed"
    },
    "tags": []
   },
   "outputs": [],
   "source": [
    "# from steves_utils.ORACLE.utils_v2 import (\n",
    "#     ALL_DISTANCES_FEET,\n",
    "#     ALL_RUNS,\n",
    "#     ALL_SERIAL_NUMBERS,\n",
    "# )\n",
    "\n",
    "\n",
    "# add_dataset(\n",
    "#     labels=ALL_SERIAL_NUMBERS,\n",
    "#     domains = list(set(ALL_DISTANCES_FEET) - {2,62,56}),\n",
    "#     num_examples_per_domain_per_label=100,\n",
    "#     pickle_path=os.path.join(get_datasets_base_path(), \"oracle.Run2_framed_2000Examples_stratified_ds.2022A.pkl\"),\n",
    "#     source_or_target_dataset=\"source\",\n",
    "#     x_transform_func=global_x_transform_func,\n",
    "#     domain_modifier=lambda u: f\"oracle2_{u}\"\n",
    "# )"
   ]
  },
  {
   "cell_type": "code",
   "execution_count": 17,
   "id": "6f289866",
   "metadata": {
    "execution": {
     "iopub.execute_input": "2022-03-20T14:04:46.265511Z",
     "iopub.status.busy": "2022-03-20T14:04:46.265103Z",
     "iopub.status.idle": "2022-03-20T14:04:46.276123Z",
     "shell.execute_reply": "2022-03-20T14:04:46.275840Z"
    },
    "papermill": {
     "duration": 0.026191,
     "end_time": "2022-03-20T14:04:46.276186",
     "exception": false,
     "start_time": "2022-03-20T14:04:46.249995",
     "status": "completed"
    },
    "tags": []
   },
   "outputs": [],
   "source": [
    "# add_dataset(\n",
    "#     labels=list(range(19)),\n",
    "#     domains = [0,1,2],\n",
    "#     num_examples_per_domain_per_label=100,\n",
    "#     pickle_path=os.path.join(get_datasets_base_path(), \"metehan.stratified_ds.2022A.pkl\"),\n",
    "#     source_or_target_dataset=\"target\",\n",
    "#     x_transform_func=global_x_transform_func,\n",
    "#     domain_modifier=lambda u: f\"met_{u}\"\n",
    "# )"
   ]
  },
  {
   "cell_type": "code",
   "execution_count": 18,
   "id": "86a863c3",
   "metadata": {
    "execution": {
     "iopub.execute_input": "2022-03-20T14:04:46.307073Z",
     "iopub.status.busy": "2022-03-20T14:04:46.306807Z",
     "iopub.status.idle": "2022-03-20T14:04:46.320696Z",
     "shell.execute_reply": "2022-03-20T14:04:46.320262Z"
    },
    "papermill": {
     "duration": 0.030385,
     "end_time": "2022-03-20T14:04:46.320798",
     "exception": false,
     "start_time": "2022-03-20T14:04:46.290413",
     "status": "completed"
    },
    "tags": []
   },
   "outputs": [],
   "source": [
    "# # from steves_utils.wisig.utils import (\n",
    "# #     ALL_NODES_MINIMUM_100_EXAMPLES,\n",
    "# #     ALL_NODES_MINIMUM_500_EXAMPLES,\n",
    "# #     ALL_NODES_MINIMUM_1000_EXAMPLES,\n",
    "# #     ALL_DAYS\n",
    "# # )\n",
    "\n",
    "# import steves_utils.wisig.utils as wisig\n",
    "\n",
    "\n",
    "# add_dataset(\n",
    "#     labels=wisig.ALL_NODES_MINIMUM_100_EXAMPLES,\n",
    "#     domains = wisig.ALL_DAYS,\n",
    "#     num_examples_per_domain_per_label=100,\n",
    "#     pickle_path=os.path.join(get_datasets_base_path(), \"wisig.node3-19.stratified_ds.2022A.pkl\"),\n",
    "#     source_or_target_dataset=\"target\",\n",
    "#     x_transform_func=global_x_transform_func,\n",
    "#     domain_modifier=lambda u: f\"wisig_{u}\"\n",
    "# )"
   ]
  },
  {
   "cell_type": "code",
   "execution_count": 19,
   "id": "fd5442bc",
   "metadata": {
    "execution": {
     "iopub.execute_input": "2022-03-20T14:04:46.360858Z",
     "iopub.status.busy": "2022-03-20T14:04:46.360587Z",
     "iopub.status.idle": "2022-03-20T14:04:46.375526Z",
     "shell.execute_reply": "2022-03-20T14:04:46.375925Z"
    },
    "papermill": {
     "duration": 0.035855,
     "end_time": "2022-03-20T14:04:46.376045",
     "exception": false,
     "start_time": "2022-03-20T14:04:46.340190",
     "status": "completed"
    },
    "tags": []
   },
   "outputs": [],
   "source": [
    "###################################\n",
    "# Build the dataset\n",
    "###################################\n",
    "train_original_source = Iterable_Aggregator(train_original_source, p.seed)\n",
    "val_original_source = Iterable_Aggregator(val_original_source, p.seed)\n",
    "test_original_source = Iterable_Aggregator(test_original_source, p.seed)\n",
    "\n",
    "\n",
    "train_original_target = Iterable_Aggregator(train_original_target, p.seed)\n",
    "val_original_target = Iterable_Aggregator(val_original_target, p.seed)\n",
    "test_original_target = Iterable_Aggregator(test_original_target, p.seed)\n",
    "\n",
    "# For CNN We only use X and Y. And we only train on the source.\n",
    "# Properly form the data using a transform lambda and Lazy_Iterable_Wrapper. Finally wrap them in a dataloader\n",
    "\n",
    "transform_lambda = lambda ex: ex[1] # Original is (<domain>, <episode>) so we strip down to episode only\n",
    "\n",
    "train_processed_source = Lazy_Iterable_Wrapper(train_original_source, transform_lambda)\n",
    "val_processed_source   = Lazy_Iterable_Wrapper(val_original_source, transform_lambda)\n",
    "test_processed_source  = Lazy_Iterable_Wrapper(test_original_source, transform_lambda)\n",
    "\n",
    "train_processed_target = Lazy_Iterable_Wrapper(train_original_target, transform_lambda)\n",
    "val_processed_target   = Lazy_Iterable_Wrapper(val_original_target, transform_lambda)\n",
    "test_processed_target  = Lazy_Iterable_Wrapper(test_original_target, transform_lambda)\n",
    "\n",
    "datasets = EasyDict({\n",
    "    \"source\": {\n",
    "        \"original\": {\"train\":train_original_source, \"val\":val_original_source, \"test\":test_original_source},\n",
    "        \"processed\": {\"train\":train_processed_source, \"val\":val_processed_source, \"test\":test_processed_source}\n",
    "    },\n",
    "    \"target\": {\n",
    "        \"original\": {\"train\":train_original_target, \"val\":val_original_target, \"test\":test_original_target},\n",
    "        \"processed\": {\"train\":train_processed_target, \"val\":val_processed_target, \"test\":test_processed_target}\n",
    "    },\n",
    "})"
   ]
  },
  {
   "cell_type": "code",
   "execution_count": 20,
   "id": "5b3c01fc",
   "metadata": {
    "execution": {
     "iopub.execute_input": "2022-03-20T14:04:46.411800Z",
     "iopub.status.busy": "2022-03-20T14:04:46.411545Z",
     "iopub.status.idle": "2022-03-20T14:04:55.889931Z",
     "shell.execute_reply": "2022-03-20T14:04:55.889689Z"
    },
    "papermill": {
     "duration": 9.494707,
     "end_time": "2022-03-20T14:04:55.889994",
     "exception": false,
     "start_time": "2022-03-20T14:04:46.395287",
     "status": "completed"
    },
    "tags": []
   },
   "outputs": [
    {
     "name": "stdout",
     "output_type": "stream",
     "text": [
      "{'W_3', 'C_5', 'C_3', 'C_1', 'C_4', 'W_1', 'C_2', 'W_4', 'W_2'}\n"
     ]
    },
    {
     "name": "stdout",
     "output_type": "stream",
     "text": [
      "{'O_32', 'O_38', 'O_44', 'O_26', 'O_50', 'O_14', 'O_20', 'O_8'}\n"
     ]
    },
    {
     "name": "stdout",
     "output_type": "stream",
     "text": [
      "tensor([[[ 1.2278e+00, -1.8934e-01,  6.8033e-02,  ...,  1.4056e-01,\n",
      "           1.6367e-01,  3.6199e-01],\n",
      "         [ 5.5261e-01,  8.1768e-01,  2.8304e-01,  ...,  1.4056e-01,\n",
      "           2.5480e-01, -5.1346e-02]],\n",
      "\n",
      "        [[-3.7891e-01,  5.0957e-01,  1.4372e-01,  ..., -1.6986e-01,\n",
      "           4.2272e-02, -2.2904e-01],\n",
      "         [-1.4034e+00, -3.0590e-01,  2.4595e-02,  ..., -2.7362e-01,\n",
      "          -8.6081e-02, -1.4757e-01]],\n",
      "\n",
      "        [[ 5.6680e-01, -4.7126e-02,  1.2524e-01,  ...,  2.2788e-01,\n",
      "           9.4252e-02,  5.1968e-01],\n",
      "         [ 7.8048e-01,  1.8721e-01, -1.0006e-01,  ...,  2.0658e-02,\n",
      "          -6.7138e-02, -6.8429e-01]],\n",
      "\n",
      "        ...,\n",
      "\n",
      "        [[-5.4562e-01,  6.3145e-01,  1.0030e+00,  ..., -4.8431e-01,\n",
      "          -1.1648e+00,  3.7028e-01],\n",
      "         [-6.7313e-01, -9.7353e-01,  4.3159e-01,  ...,  7.8226e-01,\n",
      "           1.2261e-03, -8.0800e-01]],\n",
      "\n",
      "        [[ 1.3243e+00, -1.1278e-01, -9.3461e-01,  ..., -6.4764e-02,\n",
      "           1.0429e+00,  8.8325e-01],\n",
      "         [ 6.3424e-01,  1.3377e+00,  1.5744e-01,  ..., -1.2729e+00,\n",
      "          -1.0474e+00, -1.3399e-02]],\n",
      "\n",
      "        [[ 2.9981e-01, -5.7755e-01, -7.9949e-01,  ..., -3.7509e-01,\n",
      "           2.1545e-01, -4.3609e-01],\n",
      "         [ 1.8560e-01,  9.0592e-01, -6.1130e-01,  ...,  1.8949e-01,\n",
      "           5.9962e-01,  8.3324e-01]]])\n"
     ]
    }
   ],
   "source": [
    "from steves_utils.transforms import get_average_magnitude, get_average_power\n",
    "\n",
    "print(set([u for u,_ in val_original_source]))\n",
    "print(set([u for u,_ in val_original_target]))\n",
    "\n",
    "s_x, s_y, q_x, q_y, _ = next(iter(train_processed_source))\n",
    "print(s_x)\n",
    "\n",
    "# for ds in [\n",
    "#     train_processed_source,\n",
    "#     val_processed_source,\n",
    "#     test_processed_source,\n",
    "#     train_processed_target,\n",
    "#     val_processed_target,\n",
    "#     test_processed_target\n",
    "# ]:\n",
    "#     for s_x, s_y, q_x, q_y, _ in ds:\n",
    "#         for X in (s_x, q_x):\n",
    "#             for x in X:\n",
    "#                 assert np.isclose(get_average_magnitude(x.numpy()), 1.0)\n",
    "#                 assert np.isclose(get_average_power(x.numpy()), 1.0)\n",
    "                "
   ]
  },
  {
   "cell_type": "code",
   "execution_count": 21,
   "id": "bbdacba1",
   "metadata": {
    "execution": {
     "iopub.execute_input": "2022-03-20T14:04:55.925549Z",
     "iopub.status.busy": "2022-03-20T14:04:55.925139Z",
     "iopub.status.idle": "2022-03-20T14:04:55.988195Z",
     "shell.execute_reply": "2022-03-20T14:04:55.987686Z"
    },
    "papermill": {
     "duration": 0.08344,
     "end_time": "2022-03-20T14:04:55.988301",
     "exception": false,
     "start_time": "2022-03-20T14:04:55.904861",
     "status": "completed"
    },
    "tags": []
   },
   "outputs": [
    {
     "name": "stdout",
     "output_type": "stream",
     "text": [
      "(2, 256)\n"
     ]
    }
   ],
   "source": [
    "###################################\n",
    "# Build the model\n",
    "###################################\n",
    "# easfsl only wants a tuple for the shape\n",
    "model = Steves_Prototypical_Network(x_net, device=p.device, x_shape=tuple(p.x_shape))\n",
    "optimizer = Adam(params=model.parameters(), lr=p.lr)"
   ]
  },
  {
   "cell_type": "code",
   "execution_count": 22,
   "id": "22b39ac5",
   "metadata": {
    "execution": {
     "iopub.execute_input": "2022-03-20T14:04:56.025519Z",
     "iopub.status.busy": "2022-03-20T14:04:56.025263Z",
     "iopub.status.idle": "2022-03-20T15:07:19.946472Z",
     "shell.execute_reply": "2022-03-20T15:07:19.946240Z"
    },
    "papermill": {
     "duration": 3743.939523,
     "end_time": "2022-03-20T15:07:19.946530",
     "exception": false,
     "start_time": "2022-03-20T14:04:56.007007",
     "status": "completed"
    },
    "tags": []
   },
   "outputs": [
    {
     "name": "stdout",
     "output_type": "stream",
     "text": [
      "epoch: 1, [batch: 1 / 13148], examples_per_second: 23.7872, train_label_loss: 2.6322, \n"
     ]
    },
    {
     "name": "stdout",
     "output_type": "stream",
     "text": [
      "epoch: 1, [batch: 1315 / 13148], examples_per_second: 1725.6500, train_label_loss: 0.1791, \n"
     ]
    },
    {
     "name": "stdout",
     "output_type": "stream",
     "text": [
      "epoch: 1, [batch: 2630 / 13148], examples_per_second: 1727.4209, train_label_loss: 0.0102, \n"
     ]
    },
    {
     "name": "stdout",
     "output_type": "stream",
     "text": [
      "epoch: 1, [batch: 3945 / 13148], examples_per_second: 1729.7389, train_label_loss: 0.0030, \n"
     ]
    },
    {
     "name": "stdout",
     "output_type": "stream",
     "text": [
      "epoch: 1, [batch: 5259 / 13148], examples_per_second: 1723.1356, train_label_loss: 0.1964, \n"
     ]
    },
    {
     "name": "stdout",
     "output_type": "stream",
     "text": [
      "epoch: 1, [batch: 6574 / 13148], examples_per_second: 1728.9556, train_label_loss: 0.3566, \n"
     ]
    },
    {
     "name": "stdout",
     "output_type": "stream",
     "text": [
      "epoch: 1, [batch: 7889 / 13148], examples_per_second: 1773.2946, train_label_loss: 0.0020, \n"
     ]
    },
    {
     "name": "stdout",
     "output_type": "stream",
     "text": [
      "epoch: 1, [batch: 9203 / 13148], examples_per_second: 2168.3564, train_label_loss: 0.0039, \n"
     ]
    },
    {
     "name": "stdout",
     "output_type": "stream",
     "text": [
      "epoch: 1, [batch: 10518 / 13148], examples_per_second: 1728.1274, train_label_loss: 0.0054, \n"
     ]
    },
    {
     "name": "stdout",
     "output_type": "stream",
     "text": [
      "epoch: 1, [batch: 11833 / 13148], examples_per_second: 1728.1001, train_label_loss: 0.0279, \n"
     ]
    },
    {
     "name": "stdout",
     "output_type": "stream",
     "text": [
      "=============================================================\n",
      "epoch: 1, source_val_acc_label: 0.9792, target_val_acc_label: 0.2159, source_val_label_loss: 0.0975, target_val_label_loss: 2.4128, \n",
      "=============================================================\n"
     ]
    },
    {
     "name": "stdout",
     "output_type": "stream",
     "text": [
      "New best\n"
     ]
    },
    {
     "name": "stdout",
     "output_type": "stream",
     "text": [
      "epoch: 2, [batch: 1 / 13145], examples_per_second: 1.4693, train_label_loss: 0.0407, \n"
     ]
    },
    {
     "name": "stdout",
     "output_type": "stream",
     "text": [
      "epoch: 2, [batch: 1315 / 13145], examples_per_second: 1742.0971, train_label_loss: 0.0014, \n"
     ]
    },
    {
     "name": "stdout",
     "output_type": "stream",
     "text": [
      "epoch: 2, [batch: 2629 / 13145], examples_per_second: 1741.4200, train_label_loss: 0.0006, \n"
     ]
    },
    {
     "name": "stdout",
     "output_type": "stream",
     "text": [
      "epoch: 2, [batch: 3944 / 13145], examples_per_second: 1741.9280, train_label_loss: 0.0101, \n"
     ]
    },
    {
     "name": "stdout",
     "output_type": "stream",
     "text": [
      "epoch: 2, [batch: 5258 / 13145], examples_per_second: 1738.1187, train_label_loss: 0.0397, \n"
     ]
    },
    {
     "name": "stdout",
     "output_type": "stream",
     "text": [
      "epoch: 2, [batch: 6573 / 13145], examples_per_second: 1740.3565, train_label_loss: 0.0004, \n"
     ]
    },
    {
     "name": "stdout",
     "output_type": "stream",
     "text": [
      "epoch: 2, [batch: 7887 / 13145], examples_per_second: 1811.2284, train_label_loss: 0.2230, \n"
     ]
    },
    {
     "name": "stdout",
     "output_type": "stream",
     "text": [
      "epoch: 2, [batch: 9201 / 13145], examples_per_second: 2150.3149, train_label_loss: 0.0025, \n"
     ]
    },
    {
     "name": "stdout",
     "output_type": "stream",
     "text": [
      "epoch: 2, [batch: 10516 / 13145], examples_per_second: 1742.0802, train_label_loss: 0.0062, \n"
     ]
    },
    {
     "name": "stdout",
     "output_type": "stream",
     "text": [
      "epoch: 2, [batch: 11830 / 13145], examples_per_second: 1741.6049, train_label_loss: 0.0014, \n"
     ]
    },
    {
     "name": "stdout",
     "output_type": "stream",
     "text": [
      "=============================================================\n",
      "epoch: 2, source_val_acc_label: 0.9845, target_val_acc_label: 0.2451, source_val_label_loss: 0.0673, target_val_label_loss: 2.3138, \n",
      "=============================================================\n"
     ]
    },
    {
     "name": "stdout",
     "output_type": "stream",
     "text": [
      "New best\n"
     ]
    },
    {
     "name": "stdout",
     "output_type": "stream",
     "text": [
      "epoch: 3, [batch: 1 / 13153], examples_per_second: 1.4739, train_label_loss: 0.0019, \n"
     ]
    },
    {
     "name": "stdout",
     "output_type": "stream",
     "text": [
      "epoch: 3, [batch: 1316 / 13153], examples_per_second: 1739.7183, train_label_loss: 0.0683, \n"
     ]
    },
    {
     "name": "stdout",
     "output_type": "stream",
     "text": [
      "epoch: 3, [batch: 2631 / 13153], examples_per_second: 1742.0727, train_label_loss: 0.0006, \n"
     ]
    },
    {
     "name": "stdout",
     "output_type": "stream",
     "text": [
      "epoch: 3, [batch: 3946 / 13153], examples_per_second: 1743.0145, train_label_loss: 0.0001, \n"
     ]
    },
    {
     "name": "stdout",
     "output_type": "stream",
     "text": [
      "epoch: 3, [batch: 5261 / 13153], examples_per_second: 1738.9177, train_label_loss: 0.0002, \n"
     ]
    },
    {
     "name": "stdout",
     "output_type": "stream",
     "text": [
      "epoch: 3, [batch: 6577 / 13153], examples_per_second: 1742.3543, train_label_loss: 0.0004, \n"
     ]
    },
    {
     "name": "stdout",
     "output_type": "stream",
     "text": [
      "epoch: 3, [batch: 7892 / 13153], examples_per_second: 1816.8915, train_label_loss: 0.0005, \n"
     ]
    },
    {
     "name": "stdout",
     "output_type": "stream",
     "text": [
      "epoch: 3, [batch: 9207 / 13153], examples_per_second: 2096.3753, train_label_loss: 0.0004, \n"
     ]
    },
    {
     "name": "stdout",
     "output_type": "stream",
     "text": [
      "epoch: 3, [batch: 10522 / 13153], examples_per_second: 1737.6663, train_label_loss: 0.0032, \n"
     ]
    },
    {
     "name": "stdout",
     "output_type": "stream",
     "text": [
      "epoch: 3, [batch: 11837 / 13153], examples_per_second: 1739.5687, train_label_loss: 0.1018, \n"
     ]
    },
    {
     "name": "stdout",
     "output_type": "stream",
     "text": [
      "=============================================================\n",
      "epoch: 3, source_val_acc_label: 0.9859, target_val_acc_label: 0.1878, source_val_label_loss: 0.0602, target_val_label_loss: 2.6316, \n",
      "=============================================================\n"
     ]
    },
    {
     "name": "stdout",
     "output_type": "stream",
     "text": [
      "epoch: 4, [batch: 1 / 13157], examples_per_second: 1.4771, train_label_loss: 0.0002, \n"
     ]
    },
    {
     "name": "stdout",
     "output_type": "stream",
     "text": [
      "epoch: 4, [batch: 1316 / 13157], examples_per_second: 1740.7653, train_label_loss: 0.0004, \n"
     ]
    },
    {
     "name": "stdout",
     "output_type": "stream",
     "text": [
      "epoch: 4, [batch: 2632 / 13157], examples_per_second: 1743.3092, train_label_loss: 0.0001, \n"
     ]
    },
    {
     "name": "stdout",
     "output_type": "stream",
     "text": [
      "epoch: 4, [batch: 3947 / 13157], examples_per_second: 1741.9631, train_label_loss: 0.0005, \n"
     ]
    },
    {
     "name": "stdout",
     "output_type": "stream",
     "text": [
      "epoch: 4, [batch: 5263 / 13157], examples_per_second: 1737.8230, train_label_loss: 0.0001, \n"
     ]
    },
    {
     "name": "stdout",
     "output_type": "stream",
     "text": [
      "epoch: 4, [batch: 6579 / 13157], examples_per_second: 1741.3998, train_label_loss: 0.0359, \n"
     ]
    },
    {
     "name": "stdout",
     "output_type": "stream",
     "text": [
      "epoch: 4, [batch: 7894 / 13157], examples_per_second: 1874.5257, train_label_loss: 0.1295, \n"
     ]
    },
    {
     "name": "stdout",
     "output_type": "stream",
     "text": [
      "epoch: 4, [batch: 9210 / 13157], examples_per_second: 2084.9403, train_label_loss: 0.0184, \n"
     ]
    },
    {
     "name": "stdout",
     "output_type": "stream",
     "text": [
      "epoch: 4, [batch: 10525 / 13157], examples_per_second: 1741.7466, train_label_loss: 0.0001, \n"
     ]
    },
    {
     "name": "stdout",
     "output_type": "stream",
     "text": [
      "epoch: 4, [batch: 11841 / 13157], examples_per_second: 1742.5845, train_label_loss: 0.0000, \n"
     ]
    },
    {
     "name": "stdout",
     "output_type": "stream",
     "text": [
      "=============================================================\n",
      "epoch: 4, source_val_acc_label: 0.9861, target_val_acc_label: 0.1746, source_val_label_loss: 0.0616, target_val_label_loss: 2.8203, \n",
      "=============================================================\n"
     ]
    },
    {
     "name": "stdout",
     "output_type": "stream",
     "text": [
      "epoch: 5, [batch: 1 / 13184], examples_per_second: 1.4763, train_label_loss: 0.0001, \n"
     ]
    },
    {
     "name": "stdout",
     "output_type": "stream",
     "text": [
      "epoch: 5, [batch: 1319 / 13184], examples_per_second: 1739.8783, train_label_loss: 0.0781, \n"
     ]
    },
    {
     "name": "stdout",
     "output_type": "stream",
     "text": [
      "epoch: 5, [batch: 2637 / 13184], examples_per_second: 1741.9373, train_label_loss: 0.0010, \n"
     ]
    },
    {
     "name": "stdout",
     "output_type": "stream",
     "text": [
      "epoch: 5, [batch: 3955 / 13184], examples_per_second: 1740.3205, train_label_loss: 0.0001, \n"
     ]
    },
    {
     "name": "stdout",
     "output_type": "stream",
     "text": [
      "epoch: 5, [batch: 5274 / 13184], examples_per_second: 1737.6902, train_label_loss: 0.0000, \n"
     ]
    },
    {
     "name": "stdout",
     "output_type": "stream",
     "text": [
      "epoch: 5, [batch: 6592 / 13184], examples_per_second: 1739.3743, train_label_loss: 0.4341, \n"
     ]
    },
    {
     "name": "stdout",
     "output_type": "stream",
     "text": [
      "epoch: 5, [batch: 7910 / 13184], examples_per_second: 1896.7756, train_label_loss: 0.0380, \n"
     ]
    },
    {
     "name": "stdout",
     "output_type": "stream",
     "text": [
      "epoch: 5, [batch: 9229 / 13184], examples_per_second: 2096.8726, train_label_loss: 0.0023, \n"
     ]
    },
    {
     "name": "stdout",
     "output_type": "stream",
     "text": [
      "epoch: 5, [batch: 10547 / 13184], examples_per_second: 2061.1409, train_label_loss: 0.0002, \n"
     ]
    },
    {
     "name": "stdout",
     "output_type": "stream",
     "text": [
      "epoch: 5, [batch: 11865 / 13184], examples_per_second: 2001.4464, train_label_loss: 0.0001, \n"
     ]
    },
    {
     "name": "stdout",
     "output_type": "stream",
     "text": [
      "=============================================================\n",
      "epoch: 5, source_val_acc_label: 0.9861, target_val_acc_label: 0.1514, source_val_label_loss: 0.0616, target_val_label_loss: 3.1300, \n",
      "=============================================================\n"
     ]
    },
    {
     "name": "stdout",
     "output_type": "stream",
     "text": [
      "epoch: 6, [batch: 1 / 13166], examples_per_second: 2.3207, train_label_loss: 0.0011, \n"
     ]
    },
    {
     "name": "stdout",
     "output_type": "stream",
     "text": [
      "epoch: 6, [batch: 1317 / 13166], examples_per_second: 3125.0673, train_label_loss: 0.0004, \n"
     ]
    },
    {
     "name": "stdout",
     "output_type": "stream",
     "text": [
      "epoch: 6, [batch: 2634 / 13166], examples_per_second: 2836.5896, train_label_loss: 0.0006, \n"
     ]
    },
    {
     "name": "stdout",
     "output_type": "stream",
     "text": [
      "epoch: 6, [batch: 3950 / 13166], examples_per_second: 1741.6601, train_label_loss: 0.1437, \n"
     ]
    },
    {
     "name": "stdout",
     "output_type": "stream",
     "text": [
      "epoch: 6, [batch: 5267 / 13166], examples_per_second: 1736.5913, train_label_loss: 0.0004, \n"
     ]
    },
    {
     "name": "stdout",
     "output_type": "stream",
     "text": [
      "epoch: 6, [batch: 6583 / 13166], examples_per_second: 1739.3605, train_label_loss: 0.0855, \n"
     ]
    },
    {
     "name": "stdout",
     "output_type": "stream",
     "text": [
      "epoch: 6, [batch: 7900 / 13166], examples_per_second: 1742.9134, train_label_loss: 0.1628, \n"
     ]
    },
    {
     "name": "stdout",
     "output_type": "stream",
     "text": [
      "epoch: 6, [batch: 9216 / 13166], examples_per_second: 1737.2674, train_label_loss: 0.0931, \n"
     ]
    },
    {
     "name": "stdout",
     "output_type": "stream",
     "text": [
      "epoch: 6, [batch: 10533 / 13166], examples_per_second: 1740.2057, train_label_loss: 0.1322, \n"
     ]
    },
    {
     "name": "stdout",
     "output_type": "stream",
     "text": [
      "epoch: 6, [batch: 11849 / 13166], examples_per_second: 1742.9941, train_label_loss: 0.0001, \n"
     ]
    },
    {
     "name": "stdout",
     "output_type": "stream",
     "text": [
      "=============================================================\n",
      "epoch: 6, source_val_acc_label: 0.9860, target_val_acc_label: 0.1412, source_val_label_loss: 0.0631, target_val_label_loss: 3.6565, \n",
      "=============================================================\n"
     ]
    },
    {
     "name": "stdout",
     "output_type": "stream",
     "text": [
      "Patience (3) exhausted\n"
     ]
    }
   ],
   "source": [
    "###################################\n",
    "# train\n",
    "###################################\n",
    "jig = PTN_Train_Eval_Test_Jig(model, p.BEST_MODEL_PATH, p.device)\n",
    "\n",
    "jig.train(\n",
    "    train_iterable=datasets.source.processed.train,\n",
    "    source_val_iterable=datasets.source.processed.val,\n",
    "    target_val_iterable=datasets.target.processed.val,\n",
    "    num_epochs=p.n_epoch,\n",
    "    num_logs_per_epoch=p.NUM_LOGS_PER_EPOCH,\n",
    "    patience=p.patience,\n",
    "    optimizer=optimizer,\n",
    "    criteria_for_best=p.criteria_for_best,\n",
    ")"
   ]
  },
  {
   "cell_type": "code",
   "execution_count": 23,
   "id": "31e8fabf",
   "metadata": {
    "execution": {
     "iopub.execute_input": "2022-03-20T15:07:20.003375Z",
     "iopub.status.busy": "2022-03-20T15:07:20.003072Z",
     "iopub.status.idle": "2022-03-20T15:07:20.023322Z",
     "shell.execute_reply": "2022-03-20T15:07:20.022824Z"
    },
    "papermill": {
     "duration": 0.050192,
     "end_time": "2022-03-20T15:07:20.023431",
     "exception": false,
     "start_time": "2022-03-20T15:07:19.973239",
     "status": "completed"
    },
    "tags": []
   },
   "outputs": [],
   "source": [
    "total_experiment_time_secs = time.time() - start_time_secs"
   ]
  },
  {
   "cell_type": "code",
   "execution_count": 24,
   "id": "87b9595b",
   "metadata": {
    "execution": {
     "iopub.execute_input": "2022-03-20T15:07:20.087825Z",
     "iopub.status.busy": "2022-03-20T15:07:20.087549Z",
     "iopub.status.idle": "2022-03-20T15:10:54.215434Z",
     "shell.execute_reply": "2022-03-20T15:10:54.215668Z"
    },
    "papermill": {
     "duration": 214.158556,
     "end_time": "2022-03-20T15:10:54.215753",
     "exception": false,
     "start_time": "2022-03-20T15:07:20.057197",
     "status": "completed"
    },
    "tags": []
   },
   "outputs": [],
   "source": [
    "###################################\n",
    "# Evaluate the model\n",
    "###################################\n",
    "source_test_label_accuracy, source_test_label_loss = jig.test(datasets.source.processed.test)\n",
    "target_test_label_accuracy, target_test_label_loss = jig.test(datasets.target.processed.test)\n",
    "\n",
    "source_val_label_accuracy, source_val_label_loss = jig.test(datasets.source.processed.val)\n",
    "target_val_label_accuracy, target_val_label_loss = jig.test(datasets.target.processed.val)\n",
    "\n",
    "history = jig.get_history()\n",
    "\n",
    "total_epochs_trained = len(history[\"epoch_indices\"])\n",
    "\n",
    "val_dl = Iterable_Aggregator((datasets.source.original.val,datasets.target.original.val))\n",
    "\n",
    "confusion = ptn_confusion_by_domain_over_dataloader(model, p.device, val_dl)\n",
    "per_domain_accuracy = per_domain_accuracy_from_confusion(confusion)\n",
    "\n",
    "# Add a key to per_domain_accuracy for if it was a source domain\n",
    "for domain, accuracy in per_domain_accuracy.items():\n",
    "    per_domain_accuracy[domain] = {\n",
    "        \"accuracy\": accuracy,\n",
    "        \"source?\": domain in p.domains_source\n",
    "    }\n",
    "\n",
    "# Do an independent accuracy assesment JUST TO BE SURE!\n",
    "# _source_test_label_accuracy = independent_accuracy_assesment(model, datasets.source.processed.test, p.device)\n",
    "# _target_test_label_accuracy = independent_accuracy_assesment(model, datasets.target.processed.test, p.device)\n",
    "# _source_val_label_accuracy = independent_accuracy_assesment(model, datasets.source.processed.val, p.device)\n",
    "# _target_val_label_accuracy = independent_accuracy_assesment(model, datasets.target.processed.val, p.device)\n",
    "\n",
    "# assert(_source_test_label_accuracy == source_test_label_accuracy)\n",
    "# assert(_target_test_label_accuracy == target_test_label_accuracy)\n",
    "# assert(_source_val_label_accuracy == source_val_label_accuracy)\n",
    "# assert(_target_val_label_accuracy == target_val_label_accuracy)\n",
    "\n",
    "experiment = {\n",
    "    \"experiment_name\": p.experiment_name,\n",
    "    \"parameters\": dict(p),\n",
    "    \"results\": {\n",
    "        \"source_test_label_accuracy\": source_test_label_accuracy,\n",
    "        \"source_test_label_loss\": source_test_label_loss,\n",
    "        \"target_test_label_accuracy\": target_test_label_accuracy,\n",
    "        \"target_test_label_loss\": target_test_label_loss,\n",
    "        \"source_val_label_accuracy\": source_val_label_accuracy,\n",
    "        \"source_val_label_loss\": source_val_label_loss,\n",
    "        \"target_val_label_accuracy\": target_val_label_accuracy,\n",
    "        \"target_val_label_loss\": target_val_label_loss,\n",
    "        \"total_epochs_trained\": total_epochs_trained,\n",
    "        \"total_experiment_time_secs\": total_experiment_time_secs,\n",
    "        \"confusion\": confusion,\n",
    "        \"per_domain_accuracy\": per_domain_accuracy,\n",
    "    },\n",
    "    \"history\": history,\n",
    "    \"dataset_metrics\": get_dataset_metrics(datasets, \"ptn\"),\n",
    "}"
   ]
  },
  {
   "cell_type": "code",
   "execution_count": 25,
   "id": "54a21829",
   "metadata": {
    "execution": {
     "iopub.execute_input": "2022-03-20T15:10:54.278329Z",
     "iopub.status.busy": "2022-03-20T15:10:54.277635Z",
     "iopub.status.idle": "2022-03-20T15:10:54.404286Z",
     "shell.execute_reply": "2022-03-20T15:10:54.404689Z"
    },
    "papermill": {
     "duration": 0.156592,
     "end_time": "2022-03-20T15:10:54.404818",
     "exception": false,
     "start_time": "2022-03-20T15:10:54.248226",
     "status": "completed"
    },
    "tags": []
   },
   "outputs": [
    {
     "data": {
      "image/png": "[encoded data removed]",
      "text/plain": [
       "<Figure size 1080x504 with 1 Axes>"
      ]
     },
     "metadata": {
      "needs_background": "light"
     },
     "output_type": "display_data"
    }
   ],
   "source": [
    "ax = get_loss_curve(experiment)\n",
    "plt.show()"
   ]
  },
  {
   "cell_type": "code",
   "execution_count": 26,
   "id": "fd8a0f60",
   "metadata": {
    "execution": {
     "iopub.execute_input": "2022-03-20T15:10:54.467380Z",
     "iopub.status.busy": "2022-03-20T15:10:54.467106Z",
     "iopub.status.idle": "2022-03-20T15:10:54.635622Z",
     "shell.execute_reply": "2022-03-20T15:10:54.635945Z"
    },
    "papermill": {
     "duration": 0.199601,
     "end_time": "2022-03-20T15:10:54.636031",
     "exception": false,
     "start_time": "2022-03-20T15:10:54.436430",
     "status": "completed"
    },
    "tags": []
   },
   "outputs": [
    {
     "data": {
      "text/plain": [
       "<AxesSubplot:title={'center':'Results'}>"
      ]
     },
     "execution_count": 26,
     "metadata": {},
     "output_type": "execute_result"
    },
    {
     "data": {
      "image/png": "[encoded data removed]",
      "text/plain": [
       "<Figure size 1080x504 with 1 Axes>"
      ]
     },
     "metadata": {
      "needs_background": "light"
     },
     "output_type": "display_data"
    }
   ],
   "source": [
    "get_results_table(experiment)"
   ]
  },
  {
   "cell_type": "code",
   "execution_count": 27,
   "id": "cf8dc689",
   "metadata": {
    "execution": {
     "iopub.execute_input": "2022-03-20T15:10:54.709954Z",
     "iopub.status.busy": "2022-03-20T15:10:54.709103Z",
     "iopub.status.idle": "2022-03-20T15:10:54.862291Z",
     "shell.execute_reply": "2022-03-20T15:10:54.862517Z"
    },
    "papermill": {
     "duration": 0.190961,
     "end_time": "2022-03-20T15:10:54.862601",
     "exception": false,
     "start_time": "2022-03-20T15:10:54.671640",
     "status": "completed"
    },
    "tags": []
   },
   "outputs": [
    {
     "data": {
      "text/plain": [
       "<AxesSubplot:title={'center':'Per Domain Validation Accuracy'}, xlabel='domain'>"
      ]
     },
     "execution_count": 27,
     "metadata": {},
     "output_type": "execute_result"
    },
    {
     "data": {
      "image/png": "[encoded data removed]",
      "text/plain": [
       "<Figure size 1080x504 with 1 Axes>"
      ]
     },
     "metadata": {
      "needs_background": "light"
     },
     "output_type": "display_data"
    }
   ],
   "source": [
    "get_domain_accuracies(experiment)"
   ]
  },
  {
   "cell_type": "code",
   "execution_count": 28,
   "id": "a74ae082",
   "metadata": {
    "execution": {
     "iopub.execute_input": "2022-03-20T15:10:54.941729Z",
     "iopub.status.busy": "2022-03-20T15:10:54.941459Z",
     "iopub.status.idle": "2022-03-20T15:10:54.956278Z",
     "shell.execute_reply": "2022-03-20T15:10:54.956490Z"
    },
    "papermill": {
     "duration": 0.055414,
     "end_time": "2022-03-20T15:10:54.956568",
     "exception": false,
     "start_time": "2022-03-20T15:10:54.901154",
     "status": "completed"
    },
    "tags": []
   },
   "outputs": [
    {
     "name": "stdout",
     "output_type": "stream",
     "text": [
      "Source Test Label Accuracy: 0.9831717824448034 Target Test Label Accuracy: 0.24153645833333334\n",
      "Source Val Label Accuracy: 0.984503565551289 Target Val Label Accuracy: 0.24514973958333333\n"
     ]
    }
   ],
   "source": [
    "print(\"Source Test Label Accuracy:\", experiment[\"results\"][\"source_test_label_accuracy\"], \"Target Test Label Accuracy:\", experiment[\"results\"][\"target_test_label_accuracy\"])\n",
    "print(\"Source Val Label Accuracy:\", experiment[\"results\"][\"source_val_label_accuracy\"], \"Target Val Label Accuracy:\", experiment[\"results\"][\"target_val_label_accuracy\"])"
   ]
  },
  {
   "cell_type": "code",
   "execution_count": 29,
   "id": "dacca602",
   "metadata": {
    "execution": {
     "iopub.execute_input": "2022-03-20T15:10:55.018928Z",
     "iopub.status.busy": "2022-03-20T15:10:55.018670Z",
     "iopub.status.idle": "2022-03-20T15:10:55.035098Z",
     "shell.execute_reply": "2022-03-20T15:10:55.035432Z"
    },
    "papermill": {
     "duration": 0.048934,
     "end_time": "2022-03-20T15:10:55.035537",
     "exception": false,
     "start_time": "2022-03-20T15:10:54.986603",
     "status": "completed"
    },
    "tags": [
     "experiment_json"
    ]
   },
   "outputs": [
    {
     "data": {
      "text/plain": [
       "'{\"experiment_name\": \"tl_2v2:cores+wisig -> oracle.run1.framed\", \"parameters\": {\"experiment_name\": \"tl_2v2:cores+wisig -> oracle.run1.framed\", \"device\": \"cuda\", \"lr\": 0.0001, \"n_shot\": 3, \"n_query\": 2, \"train_k_factor\": 3, \"val_k_factor\": 2, \"test_k_factor\": 2, \"torch_default_dtype\": \"torch.float32\", \"n_epoch\": 50, \"patience\": 3, \"criteria_for_best\": \"target_accuracy\", \"x_net\": [{\"class\": \"nnReshape\", \"kargs\": {\"shape\": [-1, 1, 2, 256]}}, {\"class\": \"Conv2d\", \"kargs\": {\"in_channels\": 1, \"out_channels\": 256, \"kernel_size\": [1, 7], \"bias\": false, \"padding\": [0, 3]}}, {\"class\": \"ReLU\", \"kargs\": {\"inplace\": true}}, {\"class\": \"BatchNorm2d\", \"kargs\": {\"num_features\": 256}}, {\"class\": \"Conv2d\", \"kargs\": {\"in_channels\": 256, \"out_channels\": 80, \"kernel_size\": [2, 7], \"bias\": true, \"padding\": [0, 3]}}, {\"class\": \"ReLU\", \"kargs\": {\"inplace\": true}}, {\"class\": \"BatchNorm2d\", \"kargs\": {\"num_features\": 80}}, {\"class\": \"Flatten\", \"kargs\": {}}, {\"class\": \"Linear\", \"kargs\": {\"in_features\": 20480, \"out_features\": 256}}, {\"class\": \"ReLU\", \"kargs\": {\"inplace\": true}}, {\"class\": \"BatchNorm1d\", \"kargs\": {\"num_features\": 256}}, {\"class\": \"Linear\", \"kargs\": {\"in_features\": 256, \"out_features\": 256}}], \"NUM_LOGS_PER_EPOCH\": 10, \"BEST_MODEL_PATH\": \"./best_model.pth\", \"n_way\": 16, \"datasets\": [{\"labels\": [\"1-10.\", \"1-11.\", \"1-15.\", \"1-16.\", \"1-17.\", \"1-18.\", \"1-19.\", \"10-4.\", \"10-7.\", \"11-1.\", \"11-14.\", \"11-17.\", \"11-20.\", \"11-7.\", \"13-20.\", \"13-8.\", \"14-10.\", \"14-11.\", \"14-14.\", \"14-7.\", \"15-1.\", \"15-20.\", \"16-1.\", \"16-16.\", \"17-10.\", \"17-11.\", \"17-2.\", \"19-1.\", \"19-16.\", \"19-19.\", \"19-20.\", \"19-3.\", \"2-10.\", \"2-11.\", \"2-17.\", \"2-18.\", \"2-20.\", \"2-3.\", \"2-4.\", \"2-5.\", \"2-6.\", \"2-7.\", \"2-8.\", \"3-13.\", \"3-18.\", \"3-3.\", \"4-1.\", \"4-10.\", \"4-11.\", \"4-19.\", \"5-5.\", \"6-15.\", \"7-10.\", \"7-14.\", \"8-18.\", \"8-20.\", \"8-3.\", \"8-8.\"], \"domains\": [1, 2, 3, 4, 5], \"num_examples_per_domain_per_label\": -1, \"pickle_path\": \"/mnt/wd500GB/CSC500/csc500-main/datasets/cores.stratified_ds.2022A.pkl\", \"source_or_target_dataset\": \"source\", \"x_transforms\": [\"unit_mag\"], \"episode_transforms\": [], \"domain_prefix\": \"C_\"}, {\"labels\": [\"1-10\", \"1-12\", \"1-14\", \"1-16\", \"1-18\", \"1-19\", \"1-8\", \"10-11\", \"10-17\", \"10-4\", \"10-7\", \"11-1\", \"11-10\", \"11-19\", \"11-20\", \"11-4\", \"11-7\", \"12-19\", \"12-20\", \"12-7\", \"13-14\", \"13-18\", \"13-19\", \"13-20\", \"13-3\", \"13-7\", \"14-10\", \"14-11\", \"14-12\", \"14-13\", \"14-14\", \"14-19\", \"14-20\", \"14-7\", \"14-8\", \"14-9\", \"15-1\", \"15-19\", \"15-6\", \"16-1\", \"16-16\", \"16-19\", \"16-20\", \"17-10\", \"17-11\", \"18-1\", \"18-10\", \"18-11\", \"18-12\", \"18-13\", \"18-14\", \"18-15\", \"18-16\", \"18-17\", \"18-19\", \"18-2\", \"18-20\", \"18-4\", \"18-5\", \"18-7\", \"18-8\", \"18-9\", \"19-1\", \"19-10\", \"19-11\", \"19-12\", \"19-13\", \"19-14\", \"19-15\", \"19-19\", \"19-2\", \"19-20\", \"19-3\", \"19-4\", \"19-6\", \"19-7\", \"19-8\", \"19-9\", \"2-1\", \"2-13\", \"2-15\", \"2-3\", \"2-4\", \"2-5\", \"2-6\", \"2-7\", \"2-8\", \"20-1\", \"20-12\", \"20-14\", \"20-15\", \"20-16\", \"20-18\", \"20-19\", \"20-20\", \"20-3\", \"20-4\", \"20-5\", \"20-7\", \"20-8\", \"3-1\", \"3-13\", \"3-18\", \"3-2\", \"3-8\", \"4-1\", \"4-10\", \"4-11\", \"5-1\", \"5-5\", \"6-1\", \"6-15\", \"6-6\", \"7-10\", \"7-11\", \"7-12\", \"7-13\", \"7-14\", \"7-7\", \"7-8\", \"7-9\", \"8-1\", \"8-13\", \"8-14\", \"8-18\", \"8-20\", \"8-3\", \"8-8\", \"9-1\", \"9-7\"], \"domains\": [1, 2, 3, 4], \"num_examples_per_domain_per_label\": -1, \"pickle_path\": \"/mnt/wd500GB/CSC500/csc500-main/datasets/wisig.node3-19.stratified_ds.2022A.pkl\", \"source_or_target_dataset\": \"source\", \"x_transforms\": [\"unit_mag\"], \"episode_transforms\": [], \"domain_prefix\": \"W_\"}, {\"labels\": [\"3123D52\", \"3123D65\", \"3123D79\", \"3123D80\", \"3123D54\", \"3123D70\", \"3123D7B\", \"3123D89\", \"3123D58\", \"3123D76\", \"3123D7D\", \"3123EFE\", \"3123D64\", \"3123D78\", \"3123D7E\", \"3124E4A\"], \"domains\": [32, 38, 8, 44, 14, 50, 20, 26], \"num_examples_per_domain_per_label\": 2000, \"pickle_path\": \"/mnt/wd500GB/CSC500/csc500-main/datasets/oracle.Run1_framed_2000Examples_stratified_ds.2022A.pkl\", \"source_or_target_dataset\": \"target\", \"x_transforms\": [\"unit_mag\"], \"episode_transforms\": [], \"domain_prefix\": \"O_\"}], \"seed\": 500, \"dataset_seed\": 500, \"x_shape\": [2, 256], \"domains_source\": [\"C_1\", \"C_2\", \"C_3\", \"C_4\", \"C_5\", \"W_1\", \"W_2\", \"W_3\", \"W_4\"], \"domains_target\": [\"O_32\", \"O_38\", \"O_8\", \"O_44\", \"O_14\", \"O_50\", \"O_20\", \"O_26\"]}, \"results\": {\"source_test_label_accuracy\": 0.9831717824448034, \"source_test_label_loss\": 0.07391481846570969, \"target_test_label_accuracy\": 0.24153645833333334, \"target_test_label_loss\": 2.315316677093506, \"source_val_label_accuracy\": 0.984503565551289, \"source_val_label_loss\": 0.06728256493806839, \"target_val_label_accuracy\": 0.24514973958333333, \"target_val_label_loss\": 2.3137826919555664, \"total_epochs_trained\": 6, \"total_experiment_time_secs\": 3801.2643575668335, \"confusion\": {\"W_3\": {\"99\": {\"99\": 34, \"25\": 1, \"112\": 1}, \"8\": {\"8\": 124}, \"65\": {\"39\": 1, \"65\": 11}, \"117\": {\"117\": 110, \"7\": 1, \"40\": 1}, \"18\": {\"18\": 123, \"39\": 1}, \"39\": {\"39\": 106, \"113\": 1, \"16\": 1}, \"102\": {\"102\": 124}, \"76\": {\"86\": 1, \"76\": 15}, \"101\": {\"101\": 49, \"10\": 2, \"30\": 1}, \"57\": {\"57\": 20}, \"86\": {\"86\": 27, \"101\": 1}, \"11\": {\"11\": 131, \"110\": 1}, \"98\": {\"98\": 126, \"87\": 1, \"19\": 1}, \"42\": {\"42\": 27, \"49\": 1}, \"47\": {\"47\": 12}, \"49\": {\"49\": 22, \"42\": 1, \"70\": 1}, \"111\": {\"111\": 131, \"125\": 1}, \"36\": {\"36\": 113, \"27\": 3}, \"124\": {\"124\": 104, \"89\": 1, \"90\": 1}, \"122\": {\"122\": 55, \"106\": 1, \"69\": 1, \"70\": 2, \"30\": 1}, \"93\": {\"93\": 142}, \"89\": {\"89\": 28}, \"51\": {\"51\": 16}, \"73\": {\"73\": 39, \"21\": 1}, \"45\": {\"45\": 16}, \"5\": {\"5\": 107, \"122\": 1, \"71\": 1, \"8\": 1, \"101\": 1, \"40\": 1}, \"69\": {\"69\": 82, \"113\": 1, \"106\": 1}, \"26\": {\"26\": 130}, \"1\": {\"1\": 107, \"40\": 1}, \"92\": {\"92\": 32}, \"96\": {\"96\": 20}, \"85\": {\"85\": 36}, \"114\": {\"114\": 125, \"128\": 1}, \"50\": {\"50\": 16}, \"81\": {\"81\": 32}, \"2\": {\"2\": 27, \"28\": 1}, \"33\": {\"33\": 145, \"21\": 1}, \"31\": {\"31\": 20}, \"90\": {\"90\": 117, \"26\": 1}, \"17\": {\"86\": 2, \"23\": 3, \"63\": 1, \"43\": 1, \"17\": 7, \"78\": 1, \"105\": 1}, \"116\": {\"116\": 28}, \"91\": {\"91\": 22, \"77\": 1, \"12\": 1}, \"120\": {\"120\": 20}, \"128\": {\"128\": 32}, \"78\": {\"78\": 10, \"84\": 1, \"17\": 1, \"69\": 1, \"71\": 1, \"40\": 2}, \"58\": {\"58\": 16}, \"23\": {\"23\": 28, \"123\": 3, \"60\": 1}, \"15\": {\"15\": 102, \"10\": 1, \"69\": 1}, \"74\": {\"74\": 16}, \"34\": {\"34\": 28, \"124\": 1, \"8\": 1, \"91\": 1, \"110\": 1}, \"103\": {\"103\": 16}, \"106\": {\"106\": 100}, \"44\": {\"44\": 68, \"21\": 1, \"64\": 1, \"90\": 1, \"113\": 1}, \"9\": {\"9\": 30, \"39\": 1, \"80\": 1}, \"97\": {\"97\": 20}, \"123\": {\"123\": 14, \"63\": 1, \"116\": 1}, \"6\": {\"6\": 29, \"101\": 1, \"89\": 1, \"34\": 1}, \"68\": {\"68\": 16}, \"24\": {\"24\": 45, \"27\": 3}, \"21\": {\"21\": 42, \"89\": 1, \"126\": 1, \"106\": 1, \"31\": 1, \"98\": 1, \"129\": 1}, \"83\": {\"83\": 22, \"41\": 1, \"1\": 1}, \"60\": {\"60\": 25, \"43\": 1, \"28\": 1, \"122\": 1}, \"87\": {\"87\": 120}, \"30\": {\"30\": 78, \"116\": 1, \"98\": 1, \"95\": 1, \"17\": 1, \"26\": 1, \"8\": 1}, \"43\": {\"43\": 53, \"27\": 1, \"21\": 2}, \"115\": {\"115\": 16}, \"40\": {\"40\": 119, \"16\": 1}, \"112\": {\"112\": 14, \"48\": 1, \"126\": 1}, \"66\": {\"66\": 16}, \"110\": {\"110\": 91, \"73\": 1}, \"3\": {\"3\": 112, \"111\": 1, \"48\": 1}, \"20\": {\"20\": 16}, \"28\": {\"28\": 16}, \"84\": {\"84\": 103, \"40\": 2, \"73\": 1, \"1\": 1, \"118\": 1}, \"79\": {\"79\": 12}, \"118\": {\"118\": 96, \"98\": 1, \"40\": 1, \"84\": 1, \"126\": 1}, \"56\": {\"56\": 11, \"64\": 1}, \"48\": {\"48\": 11, \"20\": 2, \"13\": 1, \"37\": 1, \"79\": 1}, \"77\": {\"77\": 16}, \"14\": {\"14\": 80}, \"64\": {\"64\": 20}, \"67\": {\"67\": 15, \"40\": 1}, \"62\": {\"62\": 124}, \"75\": {\"75\": 16}, \"63\": {\"63\": 13, \"34\": 1, \"48\": 1, \"60\": 1}, \"7\": {\"7\": 112}, \"125\": {\"125\": 101, \"5\": 1, \"31\": 1, \"23\": 1}, \"37\": {\"37\": 16}, \"121\": {\"121\": 31, \"22\": 1}, \"16\": {\"16\": 102, \"62\": 1, \"94\": 1}, \"35\": {\"35\": 11, \"70\": 1}, \"32\": {\"32\": 31, \"57\": 1}, \"46\": {\"46\": 16}, \"70\": {\"70\": 69, \"71\": 1, \"67\": 1, \"69\": 1}, \"129\": {\"129\": 32}, \"95\": {\"95\": 31, \"70\": 1}, \"72\": {\"72\": 28}, \"19\": {\"19\": 32}, \"52\": {\"52\": 16}, \"100\": {\"100\": 15, \"69\": 1}, \"104\": {\"104\": 16}, \"59\": {\"59\": 12}, \"109\": {\"109\": 126}, \"88\": {\"88\": 106, \"69\": 1, \"126\": 1}, \"27\": {\"27\": 86, \"21\": 1, \"69\": 1, \"40\": 1, \"110\": 1, \"36\": 4}, \"113\": {\"113\": 118, \"29\": 1, \"82\": 1}, \"105\": {\"105\": 124}, \"71\": {\"71\": 67, \"39\": 1}, \"108\": {\"108\": 123, \"8\": 1}, \"41\": {\"41\": 16}, \"80\": {\"80\": 15, \"76\": 1}, \"13\": {\"13\": 12, \"18\": 2, \"115\": 2}, \"55\": {\"55\": 16}, \"0\": {\"0\": 103, \"128\": 1, \"8\": 1, \"19\": 1}, \"25\": {\"25\": 16}, \"53\": {\"53\": 20}, \"61\": {\"61\": 16}, \"38\": {\"38\": 16}, \"127\": {\"127\": 124, \"17\": 1, \"12\": 1, \"108\": 1, \"84\": 1}, \"4\": {\"4\": 93, \"69\": 1, \"26\": 1, \"106\": 1}, \"12\": {\"12\": 104}, \"126\": {\"126\": 122, \"108\": 1, \"4\": 1}, \"29\": {\"29\": 32}, \"107\": {\"107\": 136}, \"82\": {\"82\": 28}, \"94\": {\"94\": 83, \"40\": 1}, \"54\": {\"54\": 16}, \"10\": {\"10\": 127, \"106\": 1}, \"22\": {\"22\": 16}, \"119\": {\"119\": 16}}, \"C_4\": {\"38\": {\"38\": 40}, \"3\": {\"3\": 124}, \"24\": {\"24\": 56}, \"49\": {\"49\": 20}, \"7\": {\"7\": 24}, \"17\": {\"17\": 80}, \"43\": {\"43\": 148}, \"30\": {\"30\": 44}, \"44\": {\"44\": 132}, \"23\": {\"23\": 144}, \"37\": {\"37\": 24}, \"4\": {\"4\": 132}, \"57\": {\"57\": 100}, \"16\": {\"16\": 96}, \"18\": {\"18\": 107, \"13\": 1}, \"20\": {\"20\": 124}, \"45\": {\"45\": 96}, \"15\": {\"15\": 132}, \"52\": {\"52\": 116}, \"19\": {\"19\": 140}, \"54\": {\"54\": 108}, \"56\": {\"56\": 130}, \"40\": {\"40\": 134}, \"28\": {\"28\": 32}, \"2\": {\"2\": 36}, \"9\": {\"9\": 120}, \"0\": {\"0\": 79, \"46\": 1}, \"36\": {\"36\": 92}, \"55\": {\"55\": 130}, \"35\": {\"35\": 40}, \"39\": {\"39\": 20}, \"31\": {\"31\": 28}, \"14\": {\"14\": 16}, \"12\": {\"12\": 92}, \"6\": {\"6\": 112}, \"26\": {\"26\": 24}, \"50\": {\"50\": 132}, \"21\": {\"21\": 122}, \"46\": {\"46\": 139, \"47\": 1}, \"51\": {\"51\": 140}, \"41\": {\"41\": 36}, \"34\": {\"34\": 24}, \"47\": {\"47\": 120}, \"5\": {\"5\": 108}, \"1\": {\"1\": 40}, \"48\": {\"48\": 134}, \"29\": {\"29\": 117, \"32\": 1}, \"22\": {\"22\": 128}, \"10\": {\"10\": 132}, \"32\": {\"32\": 24}, \"13\": {\"13\": 112}, \"42\": {\"42\": 32}, \"27\": {\"27\": 138}, \"8\": {\"8\": 142}, \"33\": {\"33\": 36}, \"25\": {\"25\": 132}, \"11\": {\"11\": 104}, \"53\": {\"53\": 112}}, \"C_2\": {\"32\": {\"32\": 28}, \"17\": {\"17\": 104}, \"38\": {\"38\": 20}, \"2\": {\"2\": 32}, \"43\": {\"43\": 144}, \"56\": {\"56\": 144}, \"37\": {\"37\": 36}, \"49\": {\"49\": 24}, \"0\": {\"0\": 48}, \"29\": {\"29\": 128}, \"35\": {\"35\": 32}, \"18\": {\"18\": 48}, \"25\": {\"25\": 136}, \"23\": {\"23\": 124}, \"15\": {\"15\": 146}, \"21\": {\"21\": 120}, \"51\": {\"51\": 128}, \"20\": {\"20\": 138}, \"7\": {\"7\": 36}, \"50\": {\"50\": 136}, \"31\": {\"31\": 28}, \"30\": {\"30\": 140}, \"19\": {\"19\": 156}, \"9\": {\"9\": 144}, \"52\": {\"52\": 124}, \"45\": {\"45\": 128}, \"8\": {\"8\": 154}, \"55\": {\"55\": 160}, \"12\": {\"12\": 92}, \"40\": {\"40\": 140}, \"28\": {\"28\": 28}, \"36\": {\"36\": 116}, \"39\": {\"39\": 28}, \"46\": {\"46\": 122}, \"14\": {\"14\": 24}, \"57\": {\"57\": 142}, \"34\": {\"34\": 28}, \"1\": {\"1\": 112}, \"53\": {\"53\": 136}, \"48\": {\"48\": 130}, \"3\": {\"3\": 92}, \"16\": {\"16\": 152}, \"6\": {\"6\": 124}, \"10\": {\"10\": 112}, \"13\": {\"13\": 116}, \"26\": {\"26\": 24}, \"24\": {\"24\": 96}, \"44\": {\"44\": 100}, \"27\": {\"27\": 150}, \"22\": {\"22\": 128}, \"33\": {\"33\": 28}, \"47\": {\"47\": 118}, \"5\": {\"5\": 120}, \"4\": {\"4\": 138}, \"41\": {\"41\": 20}, \"11\": {\"11\": 150}, \"54\": {\"54\": 108}, \"42\": {\"42\": 36}}, \"C_3\": {\"5\": {\"5\": 116}, \"32\": {\"32\": 28}, \"33\": {\"33\": 28}, \"49\": {\"49\": 20}, \"39\": {\"39\": 16}, \"11\": {\"11\": 142}, \"8\": {\"8\": 116}, \"26\": {\"26\": 24}, \"51\": {\"51\": 122}, \"4\": {\"4\": 146}, \"52\": {\"52\": 118}, \"47\": {\"47\": 92}, \"17\": {\"17\": 107, \"12\": 1}, \"53\": {\"53\": 136}, \"2\": {\"2\": 32}, \"12\": {\"12\": 92}, \"37\": {\"37\": 28}, \"9\": {\"9\": 148}, \"13\": {\"13\": 128}, \"54\": {\"54\": 100}, \"31\": {\"31\": 28}, \"34\": {\"34\": 32}, \"24\": {\"24\": 104}, \"7\": {\"7\": 36}, \"50\": {\"50\": 118}, \"46\": {\"46\": 128}, \"44\": {\"44\": 88}, \"40\": {\"40\": 116}, \"21\": {\"21\": 128}, \"45\": {\"45\": 60}, \"16\": {\"16\": 126}, \"14\": {\"14\": 40}, \"36\": {\"36\": 100}, \"56\": {\"56\": 114}, \"10\": {\"10\": 64}, \"18\": {\"18\": 84}, \"48\": {\"48\": 116}, \"38\": {\"38\": 28}, \"27\": {\"27\": 130}, \"42\": {\"42\": 28}, \"15\": {\"15\": 134}, \"1\": {\"1\": 100}, \"28\": {\"28\": 28}, \"43\": {\"43\": 136}, \"0\": {\"0\": 124}, \"57\": {\"57\": 124}, \"3\": {\"3\": 148}, \"29\": {\"29\": 124}, \"41\": {\"41\": 28}, \"25\": {\"25\": 146}, \"6\": {\"6\": 88}, \"35\": {\"35\": 28}, \"20\": {\"20\": 126}, \"23\": {\"23\": 134}, \"22\": {\"22\": 140}, \"19\": {\"19\": 116}, \"55\": {\"55\": 124}, \"30\": {\"30\": 120}}, \"W_2\": {\"73\": {\"73\": 27, \"2\": 1}, \"40\": {\"40\": 129, \"105\": 2, \"16\": 1}, \"99\": {\"99\": 31, \"27\": 1}, \"5\": {\"5\": 107, \"40\": 1, \"105\": 1, \"69\": 1, \"88\": 1, \"106\": 1}, \"108\": {\"108\": 132}, \"128\": {\"128\": 18, \"29\": 2, \"71\": 1, \"5\": 1, \"19\": 1, \"25\": 1}, \"89\": {\"89\": 33, \"92\": 1, \"124\": 1, \"73\": 1}, \"107\": {\"107\": 52, \"89\": 1, \"94\": 1, \"21\": 2, \"16\": 1, \"70\": 1, \"25\": 1, \"106\": 1, \"7\": 1, \"40\": 3}, \"2\": {\"2\": 31, \"119\": 1}, \"78\": {\"78\": 46, \"21\": 2}, \"85\": {\"85\": 32}, \"44\": {\"44\": 100}, \"58\": {\"58\": 20}, \"57\": {\"57\": 18, \"10\": 1, \"87\": 1}, \"41\": {\"41\": 19, \"40\": 1}, \"53\": {\"53\": 16}, \"14\": {\"14\": 41, \"36\": 1, \"24\": 1, \"21\": 1, \"2\": 1, \"74\": 1, \"78\": 1, \"71\": 1}, \"83\": {\"83\": 38, \"119\": 1, \"113\": 1}, \"119\": {\"119\": 20}, \"95\": {\"95\": 35, \"40\": 1}, \"28\": {\"28\": 19, \"13\": 1}, \"19\": {\"19\": 28}, \"69\": {\"69\": 126, \"105\": 1, \"7\": 3, \"13\": 1, \"40\": 1}, \"93\": {\"93\": 132, \"125\": 1, \"109\": 1}, \"9\": {\"9\": 32}, \"118\": {\"118\": 66, \"11\": 1, \"40\": 1}, \"43\": {\"43\": 113, \"14\": 1, \"40\": 1, \"36\": 1}, \"47\": {\"47\": 11, \"88\": 1}, \"125\": {\"125\": 144}, \"29\": {\"29\": 32}, \"122\": {\"122\": 136, \"40\": 1, \"70\": 1, \"105\": 1, \"26\": 1}, \"46\": {\"46\": 16}, \"86\": {\"86\": 32}, \"70\": {\"70\": 111, \"87\": 1, \"72\": 1, \"43\": 1, \"107\": 1, \"5\": 1, \"122\": 2, \"40\": 3, \"21\": 2, \"3\": 1}, \"51\": {\"51\": 17, \"59\": 1, \"10\": 1, \"89\": 1}, \"23\": {\"23\": 40, \"78\": 1, \"110\": 2, \"77\": 1}, \"121\": {\"121\": 36}, \"63\": {\"46\": 1, \"63\": 17, \"13\": 1, \"49\": 1}, \"102\": {\"102\": 121, \"40\": 1}, \"21\": {\"21\": 43, \"74\": 1, \"92\": 1, \"69\": 1, \"106\": 1, \"36\": 1}, \"55\": {\"55\": 13, \"83\": 1, \"62\": 2}, \"54\": {\"54\": 20}, \"6\": {\"6\": 31, \"34\": 1}, \"109\": {\"109\": 96, \"118\": 1, \"107\": 1, \"88\": 1, \"40\": 1}, \"64\": {\"92\": 1, \"64\": 15}, \"20\": {\"20\": 16}, \"98\": {\"98\": 111, \"121\": 1, \"87\": 1, \"40\": 1}, \"92\": {\"92\": 26, \"13\": 1, \"53\": 1}, \"35\": {\"35\": 12}, \"113\": {\"113\": 63, \"109\": 2, \"19\": 1, \"78\": 1, \"5\": 1, \"11\": 1, \"21\": 2, \"62\": 1}, \"71\": {\"71\": 95, \"84\": 1, \"122\": 1, \"13\": 1, \"12\": 1, \"27\": 1}, \"94\": {\"94\": 54, \"71\": 1, \"87\": 2, \"78\": 1, \"92\": 1, \"69\": 1, \"89\": 1, \"73\": 1, \"105\": 1, \"74\": 1}, \"52\": {\"52\": 19, \"70\": 1}, \"116\": {\"116\": 26, \"29\": 1, \"124\": 1}, \"87\": {\"87\": 107, \"43\": 1, \"62\": 1, \"19\": 1, \"105\": 1, \"117\": 1}, \"90\": {\"90\": 148}, \"91\": {\"91\": 28}, \"84\": {\"84\": 88, \"107\": 1, \"7\": 1, \"127\": 1, \"1\": 1}, \"24\": {\"24\": 103, \"69\": 1, \"110\": 1, \"94\": 1, \"43\": 2, \"106\": 1, \"117\": 1, \"40\": 2}, \"33\": {\"33\": 131, \"87\": 1, \"69\": 1, \"36\": 1}, \"81\": {\"81\": 23, \"92\": 1}, \"115\": {\"115\": 10, \"60\": 1, \"62\": 1}, \"77\": {\"77\": 16}, \"106\": {\"106\": 116, \"21\": 1, \"40\": 1, \"43\": 1, \"24\": 1}, \"42\": {\"42\": 24, \"14\": 1, \"24\": 1, \"25\": 1, \"8\": 1}, \"38\": {\"38\": 16}, \"36\": {\"36\": 109, \"14\": 1, \"2\": 1, \"40\": 2, \"87\": 1}, \"79\": {\"79\": 16}, \"60\": {\"60\": 26, \"29\": 1, \"87\": 1}, \"80\": {\"80\": 15, \"29\": 1}, \"32\": {\"32\": 35, \"14\": 1}, \"0\": {\"0\": 116}, \"127\": {\"127\": 123, \"24\": 1}, \"114\": {\"114\": 114, \"13\": 1, \"12\": 1}, \"62\": {\"62\": 138, \"92\": 1, \"87\": 1}, \"129\": {\"129\": 32}, \"56\": {\"56\": 12}, \"76\": {\"76\": 16}, \"72\": {\"72\": 26, \"21\": 1, \"115\": 1}, \"88\": {\"88\": 122, \"71\": 1, \"40\": 1}, \"68\": {\"68\": 15, \"91\": 1}, \"67\": {\"67\": 14, \"59\": 1, \"75\": 1}, \"100\": {\"100\": 16}, \"34\": {\"34\": 24, \"86\": 1, \"29\": 2, \"22\": 1, \"24\": 1, \"52\": 1, \"124\": 1, \"6\": 1}, \"16\": {\"16\": 123, \"36\": 1}, \"126\": {\"126\": 120}, \"4\": {\"4\": 86, \"75\": 1, \"14\": 1}, \"101\": {\"101\": 146}, \"104\": {\"104\": 18, \"27\": 1, \"105\": 1}, \"30\": {\"67\": 1, \"30\": 106, \"0\": 1, \"106\": 1, \"40\": 1}, \"8\": {\"8\": 127, \"113\": 1}, \"82\": {\"82\": 34, \"16\": 1, \"7\": 1}, \"26\": {\"26\": 129, \"87\": 1, \"69\": 2, \"113\": 1, \"40\": 3, \"39\": 1, \"1\": 1}, \"96\": {\"96\": 20}, \"3\": {\"3\": 133, \"15\": 2, \"40\": 1}, \"25\": {\"25\": 14, \"36\": 1, \"78\": 1}, \"13\": {\"13\": 10, \"29\": 1, \"40\": 1, \"85\": 1, \"70\": 1, \"82\": 2}, \"37\": {\"37\": 15, \"22\": 1}, \"49\": {\"49\": 21, \"80\": 1, \"92\": 1, \"61\": 1}, \"111\": {\"111\": 136}, \"105\": {\"105\": 131, \"7\": 1}, \"17\": {\"17\": 12, \"42\": 1, \"87\": 1, \"70\": 1, \"91\": 1}, \"65\": {\"65\": 18, \"73\": 2}, \"123\": {\"123\": 15, \"22\": 1}, \"74\": {\"74\": 14, \"40\": 1, \"17\": 1}, \"97\": {\"97\": 17, \"110\": 1, \"13\": 1, \"100\": 1}, \"112\": {\"112\": 13, \"44\": 1, \"47\": 1, \"108\": 1}, \"120\": {\"120\": 20}, \"50\": {\"50\": 14, \"29\": 1, \"80\": 1}, \"59\": {\"59\": 15, \"24\": 1}, \"10\": {\"10\": 57, \"14\": 1, \"78\": 1, \"12\": 1}, \"45\": {\"45\": 15, \"47\": 1}, \"12\": {\"12\": 85, \"21\": 1, \"78\": 1, \"69\": 1}, \"75\": {\"75\": 15, \"40\": 1}, \"48\": {\"48\": 20}, \"61\": {\"61\": 17, \"40\": 1, \"36\": 1, \"89\": 1}, \"124\": {\"124\": 124}, \"11\": {\"11\": 78, \"117\": 1, \"88\": 1}, \"103\": {\"103\": 14, \"49\": 1, \"22\": 1}, \"7\": {\"7\": 128, \"109\": 1, \"27\": 1, \"69\": 1, \"40\": 1}, \"18\": {\"18\": 116, \"55\": 1, \"24\": 1, \"26\": 1, \"69\": 1}, \"31\": {\"31\": 20}, \"15\": {\"15\": 116, \"122\": 1, \"3\": 1}, \"1\": {\"1\": 119, \"92\": 1, \"43\": 1, \"75\": 1}, \"66\": {\"66\": 19, \"72\": 1}, \"110\": {\"110\": 32, \"14\": 1, \"94\": 1, \"24\": 1, \"122\": 2, \"26\": 1, \"12\": 1, \"87\": 1}, \"27\": {\"27\": 59, \"69\": 1, \"94\": 1, \"36\": 2, \"71\": 1, \"62\": 2, \"11\": 1, \"87\": 1}, \"22\": {\"22\": 19, \"75\": 1}, \"117\": {\"117\": 117, \"40\": 1, \"15\": 1, \"87\": 1}, \"39\": {\"39\": 105, \"109\": 1, \"78\": 1, \"114\": 1}}, \"C_1\": {\"24\": {\"24\": 108}, \"25\": {\"25\": 140}, \"45\": {\"45\": 144}, \"42\": {\"42\": 40}, \"2\": {\"2\": 36}, \"9\": {\"9\": 150}, \"21\": {\"21\": 124}, \"26\": {\"26\": 24}, \"49\": {\"49\": 32}, \"39\": {\"39\": 28}, \"46\": {\"46\": 136}, \"17\": {\"17\": 64}, \"19\": {\"19\": 156}, \"23\": {\"23\": 132}, \"1\": {\"1\": 100}, \"29\": {\"29\": 140}, \"56\": {\"56\": 150}, \"37\": {\"37\": 32}, \"33\": {\"33\": 32}, \"55\": {\"55\": 142}, \"30\": {\"30\": 120}, \"0\": {\"0\": 152}, \"36\": {\"36\": 64}, \"32\": {\"32\": 32}, \"31\": {\"31\": 28}, \"15\": {\"15\": 138}, \"12\": {\"12\": 116}, \"38\": {\"38\": 24}, \"40\": {\"40\": 146}, \"14\": {\"14\": 23, \"30\": 1}, \"13\": {\"13\": 150}, \"48\": {\"48\": 148}, \"34\": {\"34\": 24}, \"44\": {\"44\": 130}, \"5\": {\"5\": 152}, \"11\": {\"11\": 140}, \"7\": {\"7\": 28}, \"18\": {\"18\": 72}, \"52\": {\"52\": 132}, \"51\": {\"51\": 142}, \"41\": {\"41\": 24}, \"16\": {\"16\": 140}, \"22\": {\"22\": 134}, \"3\": {\"3\": 140}, \"54\": {\"54\": 104}, \"27\": {\"27\": 144}, \"20\": {\"20\": 140}, \"8\": {\"8\": 138}, \"50\": {\"50\": 144}, \"57\": {\"57\": 140}, \"4\": {\"4\": 132}, \"47\": {\"47\": 146}, \"10\": {\"10\": 96}, \"35\": {\"35\": 36}, \"53\": {\"53\": 126}, \"6\": {\"6\": 96}, \"43\": {\"43\": 140}, \"28\": {\"28\": 28}}, \"W_1\": {\"60\": {\"60\": 11, \"34\": 1, \"14\": 1, \"57\": 1, \"119\": 1, \"23\": 1}, \"59\": {\"48\": 1, \"59\": 10, \"28\": 1}, \"107\": {\"107\": 122, \"94\": 1, \"84\": 1}, \"113\": {\"113\": 123, \"105\": 1}, \"6\": {\"6\": 28, \"77\": 1, \"21\": 1, \"59\": 1, \"85\": 1}, \"24\": {\"24\": 90, \"108\": 1, \"62\": 1}, \"50\": {\"50\": 15, \"30\": 1}, \"62\": {\"62\": 119, \"70\": 1}, \"48\": {\"48\": 12}, \"104\": {\"104\": 16}, \"105\": {\"105\": 77, \"40\": 4, \"87\": 1, \"65\": 1, \"88\": 1}, \"44\": {\"44\": 76}, \"49\": {\"49\": 19, \"42\": 1}, \"55\": {\"55\": 12}, \"4\": {\"4\": 100}, \"76\": {\"76\": 16}, \"85\": {\"85\": 32}, \"89\": {\"89\": 36}, \"74\": {\"74\": 16}, \"112\": {\"112\": 16}, \"79\": {\"79\": 12}, \"0\": {\"0\": 83, \"30\": 1}, \"91\": {\"91\": 27, \"75\": 1}, \"118\": {\"118\": 83, \"94\": 1}, \"80\": {\"80\": 16}, \"64\": {\"64\": 16}, \"97\": {\"97\": 19, \"88\": 1}, \"84\": {\"84\": 124}, \"38\": {\"38\": 16}, \"30\": {\"30\": 51, \"5\": 1}, \"32\": {\"32\": 29, \"65\": 1, \"86\": 1, \"106\": 1}, \"72\": {\"72\": 32}, \"33\": {\"33\": 130, \"42\": 1, \"1\": 1}, \"34\": {\"34\": 31, \"91\": 1}, \"28\": {\"28\": 20}, \"123\": {\"123\": 15, \"17\": 1}, \"2\": {\"2\": 25, \"11\": 1, \"83\": 1, \"129\": 1, \"120\": 1, \"96\": 1, \"21\": 1, \"95\": 1}, \"70\": {\"70\": 122, \"69\": 1, \"128\": 1}, \"127\": {\"127\": 107, \"78\": 1}, \"110\": {\"110\": 125, \"114\": 1, \"113\": 1, \"94\": 1}, \"126\": {\"126\": 136}, \"13\": {\"13\": 16}, \"15\": {\"15\": 104}, \"29\": {\"29\": 28}, \"18\": {\"18\": 119, \"23\": 1}, \"7\": {\"7\": 142}, \"56\": {\"56\": 12}, \"98\": {\"98\": 108}, \"99\": {\"99\": 24}, \"77\": {\"77\": 15, \"90\": 1}, \"103\": {\"6\": 1, \"103\": 14, \"57\": 1}, \"128\": {\"128\": 24}, \"3\": {\"3\": 84, \"71\": 1, \"127\": 1, \"8\": 1, \"36\": 1}, \"121\": {\"121\": 32}, \"42\": {\"42\": 27, \"18\": 1}, \"90\": {\"90\": 120}, \"37\": {\"37\": 16}, \"120\": {\"80\": 1, \"120\": 17, \"94\": 1, \"78\": 1}, \"117\": {\"117\": 118}, \"9\": {\"9\": 32}, \"108\": {\"108\": 122, \"126\": 1, \"83\": 1}, \"83\": {\"83\": 28}, \"14\": {\"14\": 95, \"65\": 1}, \"63\": {\"63\": 16}, \"11\": {\"11\": 117, \"26\": 1}, \"95\": {\"95\": 36}, \"26\": {\"26\": 129, \"74\": 1}, \"22\": {\"22\": 15, \"13\": 1}, \"102\": {\"102\": 120}, \"69\": {\"69\": 100, \"94\": 1, \"40\": 1, \"39\": 2, \"1\": 2}, \"1\": {\"1\": 130}, \"67\": {\"67\": 16}, \"57\": {\"57\": 12}, \"8\": {\"8\": 132, \"40\": 1, \"17\": 1}, \"109\": {\"109\": 120, \"126\": 1, \"40\": 1, \"108\": 1, \"88\": 1}, \"129\": {\"129\": 25, \"39\": 1, \"2\": 2}, \"111\": {\"111\": 120}, \"71\": {\"71\": 101, \"102\": 1, \"12\": 1, \"69\": 1, \"26\": 1, \"113\": 1, \"43\": 1, \"124\": 1}, \"47\": {\"47\": 12}, \"82\": {\"82\": 35, \"128\": 1}, \"27\": {\"27\": 92}, \"19\": {\"19\": 28}, \"122\": {\"87\": 1, \"122\": 86, \"88\": 1}, \"53\": {\"53\": 20}, \"87\": {\"87\": 106, \"40\": 1, \"37\": 1}, \"100\": {\"100\": 16}, \"66\": {\"66\": 16}, \"31\": {\"31\": 16}, \"58\": {\"58\": 11, \"54\": 1}, \"68\": {\"68\": 16}, \"88\": {\"88\": 106, \"27\": 1, \"36\": 5, \"40\": 2}, \"45\": {\"45\": 7, \"2\": 1, \"47\": 1, \"127\": 1, \"128\": 2}, \"114\": {\"114\": 128}, \"23\": {\"58\": 4, \"23\": 20}, \"65\": {\"50\": 1, \"65\": 10, \"70\": 1}, \"124\": {\"124\": 118}, \"10\": {\"10\": 116, \"87\": 2, \"94\": 1, \"27\": 1}, \"92\": {\"92\": 28}, \"40\": {\"40\": 141, \"26\": 1, \"105\": 1, \"39\": 1}, \"73\": {\"73\": 18, \"23\": 1, \"108\": 1}, \"94\": {\"94\": 91, \"27\": 1}, \"81\": {\"81\": 28}, \"101\": {\"101\": 108, \"18\": 1, \"39\": 1}, \"86\": {\"86\": 33, \"85\": 1, \"105\": 1, \"3\": 1}, \"78\": {\"78\": 14, \"87\": 1, \"40\": 1}, \"96\": {\"96\": 19, \"42\": 1}, \"5\": {\"5\": 84, \"110\": 1, \"108\": 1, \"27\": 1, \"107\": 1}, \"16\": {\"16\": 104, \"27\": 2, \"26\": 1, \"88\": 1}, \"35\": {\"35\": 12}, \"51\": {\"51\": 16}, \"46\": {\"46\": 10, \"12\": 1, \"25\": 1}, \"20\": {\"20\": 16}, \"116\": {\"116\": 31, \"94\": 1}, \"75\": {\"75\": 16}, \"43\": {\"43\": 126, \"26\": 1, \"87\": 1}, \"17\": {\"17\": 16}, \"12\": {\"12\": 103, \"36\": 1}, \"25\": {\"25\": 16}, \"54\": {\"54\": 15, \"3\": 1}, \"36\": {\"36\": 109, \"93\": 1, \"113\": 1, \"69\": 1}, \"52\": {\"52\": 20}, \"61\": {\"61\": 12}, \"106\": {\"106\": 120}, \"39\": {\"39\": 101, \"70\": 1, \"122\": 1, \"87\": 1}, \"119\": {\"119\": 16}, \"125\": {\"125\": 148}, \"93\": {\"93\": 145, \"1\": 1, \"87\": 2}, \"115\": {\"115\": 12}, \"21\": {\"21\": 36, \"5\": 1, \"106\": 1, \"34\": 1, \"113\": 1}, \"41\": {\"41\": 16}}, \"W_4\": {\"55\": {\"55\": 16}, \"9\": {\"9\": 28}, \"70\": {\"70\": 116, \"39\": 1, \"88\": 4, \"102\": 1}, \"112\": {\"112\": 16}, \"115\": {\"115\": 14, \"25\": 1, \"28\": 1}, \"56\": {\"56\": 10, \"72\": 1, \"86\": 1}, \"108\": {\"111\": 1, \"108\": 84, \"13\": 1, \"19\": 1, \"21\": 1, \"94\": 1, \"20\": 1, \"125\": 1, \"26\": 1}, \"117\": {\"117\": 122, \"111\": 1, \"22\": 1}, \"111\": {\"111\": 130, \"101\": 1, \"8\": 1}, \"71\": {\"71\": 94, \"67\": 1, \"114\": 2, \"105\": 1, \"9\": 1, \"1\": 2, \"40\": 1, \"118\": 1, \"10\": 1}, \"59\": {\"59\": 12}, \"10\": {\"10\": 123, \"1\": 1}, \"83\": {\"83\": 28}, \"116\": {\"116\": 28}, \"13\": {\"13\": 16}, \"4\": {\"4\": 103, \"126\": 1}, \"125\": {\"125\": 106}, \"102\": {\"102\": 122, \"105\": 1, \"114\": 1}, \"47\": {\"47\": 12}, \"28\": {\"28\": 20}, \"82\": {\"82\": 30, \"124\": 1, \"78\": 1}, \"60\": {\"60\": 32}, \"107\": {\"107\": 130, \"78\": 2, \"113\": 1, \"39\": 1}, \"75\": {\"75\": 16}, \"31\": {\"31\": 16}, \"92\": {\"92\": 28}, \"58\": {\"58\": 16}, \"113\": {\"113\": 123, \"69\": 1, \"40\": 2, \"39\": 1, \"1\": 1}, \"95\": {\"95\": 32}, \"14\": {\"14\": 109, \"40\": 1, \"107\": 1, \"27\": 1}, \"17\": {\"17\": 20}, \"104\": {\"104\": 16}, \"72\": {\"72\": 31, \"7\": 1}, \"69\": {\"69\": 125, \"88\": 1, \"40\": 1, \"109\": 1}, \"63\": {\"63\": 16}, \"12\": {\"12\": 97, \"105\": 1, \"82\": 1, \"62\": 1}, \"25\": {\"25\": 16}, \"67\": {\"67\": 13, \"40\": 1, \"123\": 2}, \"50\": {\"50\": 16}, \"43\": {\"43\": 115, \"23\": 1, \"105\": 1, \"40\": 1, \"118\": 2}, \"96\": {\"96\": 20}, \"128\": {\"128\": 23, \"8\": 1}, \"77\": {\"77\": 12}, \"54\": {\"54\": 16}, \"118\": {\"118\": 104, \"57\": 1, \"40\": 1, \"15\": 1, \"1\": 1, \"69\": 1, \"8\": 1, \"30\": 1, \"78\": 1}, \"30\": {\"30\": 75, \"10\": 1}, \"51\": {\"51\": 14, \"1\": 1, \"94\": 1}, \"122\": {\"122\": 77, \"14\": 2, \"40\": 2, \"5\": 1, \"4\": 1, \"111\": 1}, \"46\": {\"46\": 20}, \"79\": {\"79\": 16}, \"103\": {\"103\": 16}, \"74\": {\"31\": 1, \"74\": 15}, \"90\": {\"90\": 146}, \"8\": {\"8\": 139, \"71\": 1, \"90\": 1, \"87\": 1}, \"94\": {\"94\": 84, \"15\": 1, \"111\": 1, \"118\": 1, \"69\": 1}, \"7\": {\"7\": 119, \"40\": 3}, \"61\": {\"61\": 16}, \"26\": {\"26\": 118, \"30\": 1, \"12\": 1}, \"127\": {\"127\": 107, \"70\": 1}, \"23\": {\"23\": 12, \"21\": 1, \"112\": 1, \"122\": 1, \"52\": 1}, \"1\": {\"1\": 104, \"43\": 1, \"40\": 1, \"39\": 1, \"127\": 1}, \"93\": {\"93\": 134}, \"106\": {\"106\": 108, \"18\": 1, \"87\": 1, \"118\": 1, \"57\": 1, \"70\": 1, \"69\": 1, \"78\": 1, \"12\": 1}, \"110\": {\"110\": 117, \"5\": 1}, \"76\": {\"76\": 16}, \"36\": {\"36\": 119, \"1\": 1}, \"21\": {\"21\": 32, \"78\": 4, \"69\": 1, \"62\": 1, \"1\": 1, \"43\": 1}, \"37\": {\"37\": 16}, \"11\": {\"11\": 119, \"107\": 1}, \"109\": {\"109\": 113, \"24\": 1, \"118\": 2}, \"62\": {\"21\": 1, \"62\": 54, \"111\": 1, \"69\": 3, \"113\": 1}, \"89\": {\"89\": 31, \"99\": 1}, \"126\": {\"126\": 117, \"40\": 2, \"106\": 1, \"39\": 1, \"27\": 1, \"122\": 1, \"105\": 1}, \"101\": {\"101\": 123, \"111\": 1, \"4\": 1, \"117\": 1, \"84\": 1, \"40\": 1}, \"65\": {\"65\": 12}, \"19\": {\"19\": 28}, \"27\": {\"27\": 98, \"0\": 1, \"24\": 1}, \"5\": {\"5\": 133, \"23\": 1, \"114\": 1, \"1\": 1}, \"73\": {\"73\": 22, \"46\": 2}, \"6\": {\"6\": 24}, \"29\": {\"29\": 32}, \"114\": {\"114\": 127, \"105\": 1}, \"49\": {\"49\": 31, \"42\": 1}, \"16\": {\"16\": 115, \"8\": 1, \"11\": 1, \"126\": 1}, \"68\": {\"68\": 16}, \"98\": {\"98\": 117, \"31\": 1, \"101\": 1, \"90\": 1}, \"64\": {\"64\": 16}, \"121\": {\"121\": 29, \"116\": 1, \"96\": 1, \"90\": 1}, \"124\": {\"124\": 114}, \"97\": {\"97\": 20}, \"40\": {\"40\": 136}, \"119\": {\"119\": 16}, \"100\": {\"100\": 19, \"91\": 1}, \"87\": {\"87\": 115, \"105\": 1}, \"88\": {\"88\": 118, \"112\": 1, \"108\": 2, \"30\": 1, \"105\": 1, \"70\": 3, \"21\": 1, \"113\": 1}, \"52\": {\"52\": 17, \"82\": 1, \"31\": 1, \"62\": 1}, \"80\": {\"80\": 15, \"115\": 1}, \"105\": {\"105\": 94, \"87\": 1, \"66\": 1, \"27\": 2, \"4\": 1, \"40\": 1}, \"32\": {\"14\": 1, \"32\": 25, \"109\": 2}, \"35\": {\"35\": 12}, \"99\": {\"99\": 40}, \"18\": {\"18\": 118, \"15\": 1, \"30\": 1}, \"24\": {\"24\": 111, \"27\": 1}, \"85\": {\"85\": 27, \"26\": 1}, \"39\": {\"39\": 97, \"106\": 1, \"40\": 1, \"26\": 1}, \"123\": {\"123\": 16}, \"91\": {\"91\": 24}, \"78\": {\"78\": 27, \"21\": 4, \"69\": 1, \"40\": 1, \"115\": 1, \"15\": 1, \"106\": 1}, \"38\": {\"38\": 16}, \"15\": {\"15\": 124, \"69\": 1, \"18\": 1, \"26\": 1, \"105\": 1}, \"48\": {\"48\": 16}, \"45\": {\"45\": 16}, \"120\": {\"120\": 20}, \"44\": {\"44\": 63, \"124\": 1}, \"86\": {\"86\": 26, \"73\": 1, \"21\": 1}, \"20\": {\"20\": 16}, \"33\": {\"33\": 147, \"90\": 1, \"21\": 1, \"10\": 1}, \"129\": {\"129\": 25, \"73\": 3}, \"34\": {\"34\": 25, \"14\": 2, \"91\": 1, \"120\": 2, \"124\": 2}, \"81\": {\"81\": 35, \"60\": 1}, \"57\": {\"57\": 12, \"21\": 1, \"100\": 2, \"22\": 1}, \"0\": {\"0\": 112, \"70\": 1, \"101\": 1, \"95\": 1, \"129\": 1}, \"2\": {\"2\": 27, \"81\": 1}, \"42\": {\"42\": 25, \"83\": 1, \"80\": 1, \"103\": 1}, \"84\": {\"84\": 127, \"27\": 1, \"87\": 1, \"40\": 2, \"125\": 1}, \"3\": {\"3\": 119, \"40\": 1, \"69\": 1, \"23\": 1, \"78\": 1, \"105\": 1, \"24\": 1, \"90\": 1}, \"41\": {\"41\": 15, \"100\": 1}, \"53\": {\"53\": 16}, \"66\": {\"66\": 16}, \"22\": {\"22\": 16}}, \"C_5\": {\"35\": {\"35\": 36}, \"57\": {\"57\": 132}, \"20\": {\"20\": 144}, \"12\": {\"12\": 96}, \"32\": {\"32\": 32}, \"25\": {\"25\": 138}, \"44\": {\"44\": 147, \"40\": 1}, \"31\": {\"31\": 36}, \"11\": {\"11\": 150}, \"47\": {\"47\": 100}, \"23\": {\"23\": 124}, \"43\": {\"43\": 144}, \"37\": {\"37\": 24}, \"5\": {\"5\": 128}, \"45\": {\"45\": 124}, \"7\": {\"7\": 32}, \"13\": {\"13\": 136}, \"49\": {\"49\": 36}, \"46\": {\"46\": 148}, \"16\": {\"16\": 136}, \"54\": {\"54\": 112}, \"19\": {\"19\": 152}, \"55\": {\"55\": 150}, \"30\": {\"30\": 128}, \"34\": {\"34\": 36}, \"50\": {\"50\": 134}, \"3\": {\"3\": 100}, \"10\": {\"10\": 68}, \"27\": {\"27\": 142}, \"33\": {\"33\": 32}, \"56\": {\"56\": 142}, \"9\": {\"9\": 150}, \"14\": {\"14\": 41, \"31\": 1, \"57\": 1, \"0\": 1}, \"4\": {\"4\": 100}, \"42\": {\"42\": 40}, \"24\": {\"24\": 80}, \"39\": {\"39\": 20}, \"52\": {\"52\": 130}, \"2\": {\"2\": 28}, \"28\": {\"28\": 32}, \"53\": {\"53\": 122}, \"17\": {\"17\": 116}, \"29\": {\"29\": 132}, \"38\": {\"38\": 32}, \"15\": {\"15\": 144}, \"26\": {\"26\": 24}, \"21\": {\"21\": 144}, \"41\": {\"41\": 28}, \"48\": {\"48\": 136}, \"22\": {\"22\": 28}, \"8\": {\"8\": 148}, \"18\": {\"18\": 64}, \"0\": {\"0\": 122}, \"1\": {\"1\": 138}, \"40\": {\"40\": 124}, \"6\": {\"6\": 128}, \"51\": {\"51\": 142}, \"36\": {\"36\": 92}}, \"O_50\": {\"7\": {\"13\": 53, \"10\": 30, \"7\": 39, \"6\": 28, \"1\": 8, \"4\": 16, \"5\": 38, \"15\": 8, \"8\": 6, \"3\": 3, \"0\": 6, \"2\": 3, \"11\": 1, \"14\": 1}, \"10\": {\"10\": 57, \"8\": 35, \"0\": 48, \"7\": 26, \"2\": 29, \"3\": 5, \"13\": 21, \"1\": 2, \"4\": 1, \"5\": 14, \"6\": 2}, \"0\": {\"5\": 10, \"0\": 54, \"10\": 55, \"8\": 27, \"2\": 55, \"7\": 9, \"3\": 1, \"1\": 2, \"6\": 5, \"13\": 7, \"14\": 11, \"4\": 3, \"12\": 1}, \"11\": {\"12\": 21, \"15\": 22, \"11\": 62, \"9\": 54, \"1\": 26, \"4\": 20, \"14\": 22, \"7\": 1, \"6\": 6, \"5\": 4, \"13\": 2}, \"2\": {\"2\": 91, \"0\": 57, \"8\": 18, \"10\": 29, \"1\": 3, \"14\": 13, \"5\": 7, \"15\": 1, \"12\": 5, \"6\": 4, \"13\": 6, \"7\": 3, \"4\": 2, \"3\": 1}, \"14\": {\"6\": 11, \"14\": 69, \"1\": 21, \"9\": 27, \"12\": 49, \"11\": 19, \"15\": 5, \"13\": 7, \"0\": 6, \"7\": 7, \"2\": 8, \"4\": 7, \"5\": 4}, \"9\": {\"1\": 13, \"14\": 23, \"12\": 36, \"9\": 77, \"15\": 19, \"7\": 1, \"11\": 56, \"4\": 10, \"5\": 2, \"13\": 1, \"6\": 2}, \"13\": {\"13\": 39, \"10\": 25, \"7\": 37, \"4\": 29, \"1\": 16, \"6\": 29, \"8\": 8, \"5\": 35, \"14\": 4, \"2\": 5, \"0\": 7, \"11\": 2, \"15\": 4}, \"8\": {\"10\": 32, \"3\": 46, \"8\": 114, \"2\": 12, \"0\": 32, \"7\": 3, \"13\": 1}, \"15\": {\"15\": 39, \"6\": 21, \"9\": 12, \"4\": 30, \"1\": 38, \"11\": 50, \"13\": 13, \"5\": 13, \"14\": 12, \"12\": 7, \"7\": 5}, \"4\": {\"13\": 30, \"10\": 3, \"6\": 29, \"1\": 35, \"4\": 42, \"9\": 9, \"15\": 23, \"7\": 16, \"5\": 23, \"11\": 18, \"0\": 2, \"14\": 7, \"12\": 2, \"2\": 1}, \"5\": {\"13\": 37, \"5\": 53, \"15\": 10, \"6\": 27, \"4\": 30, \"14\": 6, \"7\": 37, \"10\": 15, \"2\": 3, \"1\": 15, \"8\": 2, \"12\": 1, \"11\": 4}, \"3\": {\"8\": 73, \"3\": 154, \"2\": 1, \"10\": 6, \"0\": 6}, \"1\": {\"13\": 17, \"6\": 24, \"11\": 22, \"4\": 32, \"15\": 26, \"12\": 13, \"1\": 40, \"14\": 22, \"9\": 10, \"5\": 22, \"7\": 5, \"10\": 1, \"2\": 2, \"0\": 4}, \"6\": {\"13\": 37, \"5\": 27, \"7\": 29, \"4\": 36, \"12\": 4, \"6\": 34, \"1\": 34, \"10\": 5, \"15\": 15, \"2\": 3, \"0\": 5, \"9\": 2, \"11\": 5, \"14\": 4}, \"12\": {\"12\": 67, \"6\": 3, \"1\": 15, \"11\": 28, \"9\": 48, \"14\": 62, \"2\": 6, \"15\": 5, \"4\": 4, \"7\": 2}}, \"O_14\": {\"14\": {\"2\": 29, \"5\": 22, \"0\": 9, \"4\": 12, \"15\": 6, \"3\": 24, \"6\": 34, \"14\": 52, \"13\": 30, \"11\": 5, \"1\": 4, \"7\": 6, \"10\": 7}, \"6\": {\"14\": 32, \"13\": 53, \"6\": 50, \"7\": 8, \"2\": 28, \"4\": 12, \"0\": 5, \"3\": 15, \"5\": 10, \"15\": 15, \"10\": 10, \"11\": 2}, \"5\": {\"15\": 7, \"4\": 25, \"5\": 35, \"14\": 22, \"3\": 20, \"2\": 26, \"0\": 16, \"6\": 12, \"13\": 12, \"1\": 25, \"7\": 22, \"10\": 17, \"11\": 1}, \"15\": {\"2\": 23, \"13\": 26, \"15\": 76, \"6\": 24, \"7\": 39, \"4\": 10, \"1\": 12, \"5\": 19, \"14\": 7, \"10\": 1, \"0\": 1, \"3\": 2}, \"11\": {\"8\": 6, \"0\": 49, \"11\": 72, \"3\": 26, \"10\": 36, \"9\": 25, \"2\": 2, \"14\": 3, \"4\": 9, \"12\": 6, \"1\": 4, \"5\": 2}, \"8\": {\"9\": 47, \"8\": 95, \"11\": 16, \"1\": 23, \"0\": 11, \"12\": 10, \"7\": 5, \"3\": 8, \"4\": 8, \"5\": 8, \"10\": 9}, \"12\": {\"9\": 80, \"12\": 132, \"11\": 9, \"8\": 17, \"0\": 2}, \"1\": {\"1\": 41, \"15\": 9, \"3\": 28, \"5\": 30, \"7\": 37, \"8\": 10, \"14\": 7, \"4\": 26, \"2\": 11, \"10\": 14, \"0\": 15, \"13\": 4, \"6\": 5, \"9\": 1, \"11\": 2}, \"2\": {\"13\": 36, \"15\": 11, \"14\": 33, \"6\": 35, \"2\": 33, \"7\": 19, \"1\": 14, \"5\": 13, \"3\": 16, \"10\": 13, \"4\": 11, \"0\": 4, \"11\": 2}, \"13\": {\"4\": 17, \"13\": 52, \"6\": 41, \"3\": 16, \"5\": 11, \"7\": 6, \"14\": 39, \"2\": 29, \"15\": 14, \"0\": 4, \"10\": 4, \"1\": 4, \"11\": 3}, \"3\": {\"3\": 28, \"7\": 2, \"4\": 30, \"11\": 18, \"10\": 30, \"13\": 14, \"5\": 33, \"6\": 12, \"1\": 23, \"2\": 17, \"0\": 16, \"14\": 14, \"15\": 3}, \"0\": {\"0\": 49, \"8\": 10, \"3\": 20, \"11\": 40, \"1\": 21, \"2\": 10, \"5\": 18, \"10\": 35, \"4\": 16, \"9\": 7, \"14\": 7, \"12\": 2, \"15\": 1, \"13\": 1, \"6\": 2, \"7\": 1}, \"9\": {\"9\": 91, \"12\": 44, \"11\": 34, \"10\": 4, \"8\": 46, \"0\": 14, \"3\": 4, \"5\": 1, \"1\": 1, \"4\": 1}, \"4\": {\"13\": 11, \"7\": 16, \"14\": 15, \"0\": 21, \"3\": 26, \"4\": 37, \"2\": 26, \"1\": 24, \"6\": 7, \"5\": 29, \"15\": 5, \"11\": 3, \"10\": 19, \"8\": 1}, \"7\": {\"13\": 10, \"5\": 29, \"4\": 25, \"14\": 11, \"7\": 68, \"3\": 19, \"2\": 20, \"15\": 34, \"1\": 14, \"0\": 3, \"6\": 6, \"10\": 1}, \"10\": {\"6\": 9, \"10\": 46, \"3\": 30, \"14\": 10, \"0\": 34, \"13\": 8, \"11\": 32, \"2\": 11, \"4\": 22, \"5\": 21, \"1\": 10, \"9\": 5, \"8\": 2}}, \"O_32\": {\"4\": {\"0\": 31, \"5\": 26, \"8\": 13, \"7\": 35, \"4\": 37, \"14\": 15, \"2\": 33, \"13\": 28, \"11\": 16, \"9\": 4, \"3\": 2}, \"14\": {\"13\": 25, \"7\": 43, \"11\": 39, \"0\": 20, \"4\": 21, \"5\": 18, \"2\": 11, \"14\": 41, \"8\": 15, \"3\": 7}, \"5\": {\"5\": 43, \"11\": 15, \"4\": 26, \"3\": 12, \"14\": 28, \"9\": 1, \"13\": 30, \"2\": 15, \"0\": 19, \"8\": 28, \"7\": 22, \"15\": 1}, \"10\": {\"10\": 160, \"6\": 37, \"1\": 35, \"12\": 8}, \"13\": {\"2\": 16, \"5\": 32, \"0\": 27, \"8\": 28, \"7\": 20, \"11\": 20, \"3\": 22, \"4\": 18, \"13\": 34, \"14\": 22, \"15\": 1}, \"9\": {\"9\": 128, \"7\": 6, \"12\": 50, \"4\": 13, \"6\": 3, \"5\": 1, \"2\": 28, \"0\": 9, \"11\": 1, \"14\": 1}, \"6\": {\"6\": 150, \"10\": 53, \"12\": 24, \"1\": 11, \"9\": 2}, \"3\": {\"7\": 6, \"8\": 36, \"3\": 81, \"0\": 3, \"13\": 40, \"15\": 6, \"5\": 28, \"14\": 18, \"11\": 14, \"4\": 8}, \"15\": {\"15\": 177, \"3\": 35, \"8\": 19, \"13\": 4, \"5\": 4, \"7\": 1}, \"7\": {\"2\": 25, \"5\": 28, \"4\": 33, \"11\": 25, \"7\": 27, \"13\": 19, \"14\": 43, \"0\": 27, \"8\": 8, \"3\": 4, \"9\": 1}, \"12\": {\"12\": 149, \"9\": 68, \"0\": 1, \"10\": 13, \"6\": 6, \"2\": 2, \"4\": 1}, \"8\": {\"7\": 11, \"8\": 46, \"3\": 41, \"13\": 49, \"0\": 15, \"14\": 16, \"5\": 22, \"2\": 2, \"11\": 17, \"15\": 8, \"4\": 13}, \"11\": {\"11\": 47, \"2\": 12, \"0\": 21, \"4\": 21, \"7\": 33, \"14\": 47, \"5\": 9, \"13\": 27, \"3\": 10, \"8\": 13}, \"2\": {\"2\": 57, \"7\": 24, \"4\": 46, \"14\": 25, \"12\": 2, \"13\": 16, \"0\": 27, \"9\": 9, \"5\": 17, \"11\": 14, \"8\": 3}, \"1\": {\"1\": 168, \"6\": 13, \"10\": 59}, \"0\": {\"8\": 22, \"2\": 13, \"0\": 47, \"7\": 32, \"5\": 20, \"13\": 23, \"4\": 24, \"14\": 22, \"11\": 26, \"3\": 8, \"9\": 2, \"15\": 1}}, \"O_44\": {\"8\": {\"0\": 83, \"15\": 40, \"8\": 81, \"5\": 29, \"14\": 7}, \"11\": {\"11\": 128, \"10\": 4, \"13\": 40, \"9\": 8, \"7\": 6, \"6\": 47, \"2\": 6, \"1\": 1}, \"14\": {\"5\": 36, \"14\": 64, \"4\": 72, \"9\": 4, \"3\": 6, \"15\": 38, \"12\": 1, \"0\": 16, \"7\": 1, \"8\": 1, \"6\": 1}, \"10\": {\"1\": 37, \"10\": 53, \"2\": 35, \"12\": 42, \"7\": 29, \"9\": 20, \"3\": 9, \"11\": 2, \"13\": 5, \"6\": 8}, \"3\": {\"2\": 22, \"3\": 81, \"14\": 3, \"1\": 42, \"12\": 36, \"9\": 19, \"10\": 15, \"7\": 18, \"13\": 2, \"4\": 2}, \"15\": {\"15\": 73, \"0\": 47, \"8\": 32, \"5\": 36, \"14\": 35, \"4\": 16, \"1\": 1}, \"2\": {\"2\": 37, \"10\": 40, \"7\": 32, \"6\": 20, \"1\": 27, \"9\": 28, \"13\": 15, \"3\": 14, \"12\": 20, \"11\": 7}, \"12\": {\"12\": 67, \"10\": 54, \"6\": 2, \"1\": 42, \"7\": 13, \"9\": 9, \"3\": 27, \"2\": 25, \"13\": 1}, \"4\": {\"14\": 82, \"4\": 87, \"5\": 16, \"13\": 7, \"9\": 13, \"15\": 14, \"3\": 8, \"0\": 4, \"7\": 3, \"1\": 2, \"6\": 2, \"8\": 2}, \"1\": {\"4\": 3, \"3\": 48, \"1\": 56, \"2\": 25, \"10\": 33, \"12\": 47, \"6\": 3, \"9\": 6, \"7\": 17, \"13\": 2}, \"0\": {\"5\": 40, \"8\": 67, \"0\": 68, \"15\": 51, \"14\": 9, \"4\": 5}, \"9\": {\"7\": 45, \"12\": 4, \"11\": 8, \"2\": 45, \"1\": 23, \"9\": 36, \"6\": 28, \"13\": 22, \"10\": 9, \"4\": 6, \"3\": 14}, \"5\": {\"5\": 73, \"0\": 39, \"8\": 26, \"14\": 34, \"4\": 24, \"15\": 44}, \"6\": {\"11\": 28, \"6\": 55, \"9\": 36, \"12\": 4, \"1\": 4, \"2\": 33, \"7\": 33, \"13\": 32, \"10\": 11, \"3\": 1, \"4\": 2, \"14\": 1}, \"7\": {\"1\": 27, \"2\": 38, \"11\": 4, \"7\": 37, \"12\": 18, \"9\": 36, \"6\": 18, \"13\": 28, \"10\": 23, \"3\": 11}, \"13\": {\"11\": 30, \"9\": 46, \"7\": 32, \"6\": 41, \"2\": 23, \"1\": 6, \"13\": 46, \"4\": 5, \"3\": 6, \"10\": 3, \"12\": 2}}, \"O_8\": {\"13\": {\"14\": 28, \"8\": 6, \"4\": 27, \"7\": 18, \"2\": 5, \"11\": 10, \"0\": 33, \"10\": 29, \"3\": 1, \"13\": 29, \"6\": 19, \"5\": 16, \"1\": 18, \"12\": 1}, \"3\": {\"12\": 48, \"8\": 31, \"15\": 46, \"2\": 40, \"3\": 42, \"7\": 10, \"4\": 2, \"6\": 11, \"14\": 2, \"0\": 3, \"13\": 2, \"11\": 1, \"1\": 2}, \"15\": {\"8\": 35, \"12\": 38, \"3\": 33, \"2\": 31, \"15\": 32, \"1\": 10, \"4\": 7, \"13\": 3, \"7\": 16, \"6\": 13, \"14\": 6, \"11\": 13, \"10\": 1, \"0\": 2}, \"4\": {\"10\": 20, \"6\": 19, \"4\": 32, \"7\": 26, \"11\": 16, \"14\": 26, \"0\": 25, \"1\": 21, \"13\": 21, \"15\": 2, \"5\": 18, \"3\": 3, \"2\": 5, \"8\": 6}, \"7\": {\"2\": 17, \"13\": 28, \"0\": 23, \"1\": 11, \"14\": 25, \"8\": 8, \"7\": 34, \"11\": 10, \"4\": 27, \"10\": 11, \"3\": 9, \"5\": 4, \"6\": 22, \"15\": 8, \"12\": 3}, \"2\": {\"12\": 26, \"6\": 20, \"0\": 14, \"2\": 51, \"3\": 48, \"8\": 19, \"7\": 20, \"14\": 11, \"13\": 4, \"15\": 18, \"4\": 6, \"1\": 2, \"5\": 1}, \"1\": {\"5\": 19, \"13\": 9, \"15\": 4, \"1\": 48, \"14\": 33, \"10\": 11, \"4\": 24, \"11\": 35, \"8\": 8, \"6\": 18, \"0\": 14, \"7\": 14, \"12\": 1, \"3\": 2}, \"0\": {\"6\": 18, \"13\": 28, \"1\": 18, \"0\": 38, \"2\": 8, \"7\": 21, \"4\": 31, \"10\": 21, \"5\": 13, \"14\": 28, \"3\": 6, \"15\": 4, \"8\": 1, \"11\": 4, \"12\": 1}, \"12\": {\"15\": 39, \"0\": 3, \"2\": 28, \"8\": 38, \"12\": 57, \"11\": 7, \"3\": 38, \"7\": 15, \"14\": 1, \"6\": 6, \"5\": 1, \"1\": 3, \"4\": 3, \"13\": 1}, \"6\": {\"0\": 16, \"2\": 19, \"7\": 39, \"4\": 20, \"11\": 17, \"10\": 17, \"13\": 18, \"15\": 12, \"1\": 16, \"6\": 23, \"5\": 11, \"14\": 18, \"8\": 10, \"3\": 3, \"12\": 1}, \"11\": {\"7\": 21, \"11\": 38, \"4\": 20, \"8\": 16, \"13\": 8, \"6\": 17, \"5\": 25, \"1\": 31, \"14\": 22, \"0\": 9, \"10\": 14, \"3\": 1, \"12\": 1, \"15\": 12, \"2\": 5}, \"9\": {\"9\": 228, \"5\": 6, \"10\": 6}, \"5\": {\"0\": 17, \"5\": 54, \"4\": 19, \"15\": 1, \"10\": 37, \"13\": 20, \"1\": 31, \"11\": 11, \"6\": 8, \"14\": 30, \"7\": 10, \"8\": 2}, \"10\": {\"0\": 27, \"5\": 29, \"11\": 16, \"7\": 21, \"14\": 22, \"10\": 37, \"13\": 24, \"15\": 3, \"1\": 28, \"4\": 13, \"6\": 18, \"8\": 1, \"2\": 1}, \"14\": {\"14\": 33, \"0\": 29, \"4\": 27, \"13\": 16, \"5\": 20, \"11\": 17, \"6\": 24, \"10\": 23, \"1\": 22, \"7\": 18, \"3\": 2, \"8\": 3, \"2\": 4, \"15\": 1, \"12\": 1}, \"8\": {\"6\": 14, \"7\": 21, \"15\": 35, \"8\": 32, \"12\": 30, \"13\": 3, \"11\": 27, \"1\": 18, \"14\": 13, \"10\": 2, \"3\": 18, \"4\": 8, \"5\": 3, \"2\": 15, \"0\": 1}}, \"O_20\": {\"6\": {\"0\": 5, \"7\": 9, \"6\": 35, \"10\": 29, \"13\": 1, \"14\": 33, \"5\": 3, \"11\": 25, \"8\": 33, \"4\": 20, \"3\": 11, \"9\": 17, \"2\": 11, \"15\": 1, \"12\": 7}, \"11\": {\"1\": 11, \"9\": 25, \"11\": 48, \"13\": 22, \"12\": 15, \"7\": 25, \"6\": 13, \"0\": 11, \"3\": 18, \"2\": 17, \"4\": 5, \"10\": 5, \"15\": 8, \"5\": 4, \"8\": 10, \"14\": 3}, \"5\": {\"1\": 22, \"13\": 15, \"9\": 12, \"10\": 4, \"15\": 17, \"4\": 19, \"5\": 28, \"3\": 15, \"7\": 18, \"2\": 21, \"8\": 8, \"0\": 24, \"12\": 24, \"6\": 4, \"14\": 2, \"11\": 7}, \"14\": {\"14\": 48, \"8\": 27, \"6\": 47, \"10\": 32, \"11\": 11, \"5\": 5, \"7\": 16, \"2\": 6, \"3\": 8, \"9\": 7, \"4\": 22, \"12\": 5, \"1\": 1, \"0\": 4, \"13\": 1}, \"2\": {\"3\": 18, \"5\": 20, \"9\": 23, \"13\": 23, \"10\": 8, \"2\": 26, \"15\": 11, \"8\": 14, \"12\": 15, \"0\": 11, \"4\": 13, \"7\": 25, \"11\": 14, \"14\": 3, \"1\": 12, \"6\": 4}, \"7\": {\"8\": 15, \"9\": 16, \"12\": 19, \"5\": 17, \"13\": 8, \"4\": 26, \"0\": 20, \"7\": 27, \"11\": 10, \"10\": 12, \"3\": 17, \"1\": 13, \"2\": 14, \"14\": 9, \"6\": 9, \"15\": 8}, \"3\": {\"2\": 27, \"10\": 10, \"15\": 13, \"12\": 21, \"5\": 18, \"13\": 10, \"4\": 21, \"11\": 13, \"7\": 25, \"9\": 14, \"1\": 13, \"8\": 13, \"0\": 9, \"3\": 24, \"6\": 8, \"14\": 1}, \"4\": {\"1\": 11, \"9\": 16, \"10\": 22, \"8\": 22, \"6\": 20, \"11\": 13, \"3\": 22, \"14\": 7, \"4\": 33, \"5\": 19, \"0\": 7, \"15\": 4, \"12\": 13, \"2\": 15, \"7\": 15, \"13\": 1}, \"9\": {\"4\": 11, \"0\": 15, \"15\": 16, \"12\": 24, \"9\": 24, \"1\": 26, \"13\": 16, \"2\": 16, \"5\": 12, \"7\": 13, \"10\": 5, \"3\": 23, \"8\": 14, \"11\": 19, \"14\": 2, \"6\": 4}, \"12\": {\"7\": 19, \"12\": 24, \"0\": 19, \"4\": 23, \"10\": 7, \"2\": 12, \"15\": 12, \"13\": 23, \"6\": 6, \"1\": 19, \"11\": 11, \"9\": 19, \"8\": 10, \"3\": 19, \"5\": 13, \"14\": 4}, \"0\": {\"1\": 28, \"9\": 19, \"0\": 22, \"5\": 24, \"15\": 29, \"12\": 22, \"2\": 15, \"8\": 10, \"3\": 10, \"13\": 19, \"7\": 15, \"4\": 10, \"6\": 7, \"11\": 6, \"10\": 3, \"14\": 1}, \"10\": {\"8\": 22, \"10\": 36, \"4\": 44, \"6\": 25, \"14\": 34, \"11\": 6, \"3\": 13, \"7\": 12, \"2\": 12, \"12\": 12, \"0\": 4, \"9\": 7, \"1\": 5, \"5\": 7, \"15\": 1}, \"8\": {\"9\": 16, \"10\": 15, \"5\": 15, \"13\": 5, \"8\": 27, \"4\": 29, \"14\": 26, \"11\": 10, \"12\": 17, \"7\": 19, \"3\": 11, \"2\": 10, \"6\": 23, \"0\": 9, \"1\": 6, \"15\": 2}, \"13\": {\"1\": 24, \"4\": 8, \"12\": 30, \"15\": 25, \"13\": 28, \"9\": 12, \"2\": 21, \"5\": 19, \"11\": 16, \"0\": 16, \"7\": 19, \"6\": 3, \"3\": 12, \"8\": 5, \"14\": 1, \"10\": 1}, \"1\": {\"1\": 24, \"5\": 20, \"9\": 24, \"15\": 25, \"4\": 13, \"2\": 25, \"3\": 16, \"11\": 4, \"13\": 18, \"0\": 15, \"12\": 23, \"7\": 24, \"10\": 4, \"6\": 1, \"8\": 4}, \"15\": {\"5\": 31, \"3\": 17, \"0\": 22, \"15\": 31, \"12\": 13, \"1\": 25, \"9\": 20, \"13\": 27, \"7\": 13, \"2\": 16, \"4\": 11, \"11\": 8, \"10\": 1, \"6\": 2, \"8\": 2, \"14\": 1}}, \"O_38\": {\"3\": {\"7\": 32, \"13\": 2, \"0\": 21, \"6\": 25, \"3\": 72, \"5\": 19, \"9\": 43, \"8\": 18, \"15\": 3, \"10\": 5}, \"8\": {\"7\": 23, \"10\": 16, \"0\": 26, \"13\": 11, \"5\": 42, \"8\": 40, \"6\": 22, \"1\": 11, \"9\": 8, \"3\": 11, \"15\": 15, \"11\": 2, \"14\": 6, \"2\": 1, \"12\": 5, \"4\": 1}, \"0\": {\"8\": 36, \"0\": 40, \"12\": 8, \"7\": 38, \"6\": 9, \"9\": 15, \"14\": 3, \"3\": 26, \"5\": 30, \"10\": 20, \"13\": 5, \"4\": 2, \"1\": 2, \"15\": 6}, \"2\": {\"2\": 86, \"10\": 10, \"5\": 3, \"1\": 22, \"11\": 21, \"14\": 40, \"13\": 29, \"15\": 28, \"6\": 1}, \"4\": {\"12\": 53, \"4\": 146, \"0\": 10, \"7\": 16, \"10\": 6, \"11\": 5, \"3\": 1, \"8\": 3}, \"7\": {\"3\": 19, \"8\": 31, \"12\": 13, \"7\": 75, \"6\": 5, \"5\": 22, \"0\": 41, \"10\": 15, \"4\": 5, \"9\": 7, \"13\": 2, \"15\": 4, \"11\": 1}, \"12\": {\"8\": 12, \"4\": 49, \"12\": 104, \"0\": 21, \"7\": 11, \"10\": 21, \"14\": 9, \"11\": 5, \"5\": 5, \"15\": 1, \"13\": 1, \"3\": 1}, \"6\": {\"6\": 75, \"9\": 50, \"5\": 26, \"1\": 17, \"7\": 4, \"13\": 6, \"8\": 16, \"3\": 16, \"0\": 6, \"15\": 20, \"10\": 4}, \"15\": {\"13\": 44, \"1\": 37, \"10\": 21, \"8\": 18, \"6\": 13, \"15\": 37, \"2\": 27, \"0\": 7, \"9\": 9, \"5\": 19, \"14\": 5, \"7\": 1, \"3\": 1, \"11\": 1}, \"11\": {\"10\": 23, \"14\": 56, \"11\": 108, \"2\": 21, \"13\": 10, \"12\": 11, \"4\": 4, \"0\": 2, \"15\": 2, \"8\": 1, \"1\": 1, \"5\": 1}, \"9\": {\"5\": 21, \"13\": 4, \"6\": 54, \"9\": 56, \"1\": 17, \"0\": 15, \"15\": 13, \"7\": 6, \"8\": 14, \"3\": 39, \"10\": 1}, \"14\": {\"2\": 33, \"14\": 77, \"15\": 15, \"11\": 53, \"10\": 27, \"13\": 16, \"8\": 5, \"0\": 2, \"12\": 8, \"5\": 1, \"1\": 1, \"7\": 2}, \"10\": {\"4\": 7, \"15\": 22, \"14\": 23, \"10\": 45, \"0\": 23, \"7\": 14, \"8\": 21, \"5\": 18, \"12\": 9, \"9\": 3, \"11\": 18, \"6\": 1, \"13\": 21, \"2\": 11, \"1\": 3, \"3\": 1}, \"5\": {\"9\": 25, \"15\": 29, \"0\": 30, \"8\": 30, \"5\": 42, \"12\": 1, \"6\": 24, \"1\": 6, \"13\": 10, \"7\": 16, \"14\": 3, \"10\": 8, \"3\": 15, \"4\": 1}, \"1\": {\"15\": 44, \"1\": 87, \"5\": 12, \"2\": 9, \"10\": 4, \"13\": 36, \"6\": 22, \"9\": 12, \"8\": 10, \"14\": 3, \"0\": 1}, \"13\": {\"13\": 45, \"8\": 16, \"1\": 27, \"15\": 36, \"14\": 25, \"2\": 27, \"6\": 6, \"0\": 7, \"10\": 23, \"5\": 15, \"9\": 5, \"7\": 3, \"3\": 1, \"11\": 4}}, \"O_26\": {\"5\": {\"5\": 41, \"10\": 13, \"4\": 6, \"1\": 3, \"2\": 21, \"15\": 29, \"8\": 19, \"9\": 18, \"6\": 24, \"13\": 16, \"3\": 18, \"12\": 6, \"14\": 4, \"7\": 15, \"0\": 7}, \"8\": {\"15\": 19, \"14\": 21, \"4\": 14, \"8\": 24, \"6\": 22, \"9\": 8, \"7\": 18, \"0\": 19, \"10\": 31, \"5\": 13, \"1\": 14, \"3\": 11, \"2\": 14, \"13\": 5, \"12\": 6, \"11\": 1}, \"4\": {\"10\": 21, \"4\": 31, \"3\": 22, \"8\": 21, \"14\": 24, \"9\": 10, \"1\": 29, \"0\": 21, \"7\": 20, \"6\": 11, \"5\": 5, \"15\": 10, \"12\": 1, \"13\": 2, \"2\": 12}, \"12\": {\"6\": 23, \"12\": 105, \"9\": 14, \"13\": 33, \"8\": 4, \"10\": 9, \"15\": 14, \"11\": 24, \"5\": 9, \"14\": 2, \"4\": 1, \"0\": 1, \"2\": 1}, \"6\": {\"9\": 15, \"15\": 26, \"5\": 22, \"8\": 23, \"13\": 12, \"1\": 8, \"3\": 15, \"2\": 10, \"10\": 16, \"6\": 24, \"7\": 23, \"12\": 11, \"0\": 13, \"4\": 13, \"14\": 9}, \"7\": {\"4\": 24, \"7\": 24, \"14\": 24, \"8\": 20, \"10\": 22, \"3\": 30, \"6\": 10, \"9\": 13, \"15\": 13, \"2\": 24, \"1\": 15, \"0\": 13, \"5\": 8}, \"10\": {\"0\": 20, \"5\": 13, \"3\": 16, \"7\": 15, \"9\": 13, \"14\": 17, \"6\": 22, \"1\": 22, \"2\": 14, \"10\": 23, \"13\": 5, \"8\": 19, \"15\": 20, \"4\": 18, \"12\": 3}, \"0\": {\"3\": 13, \"0\": 27, \"14\": 23, \"10\": 32, \"8\": 16, \"1\": 19, \"2\": 18, \"4\": 22, \"9\": 15, \"6\": 15, \"7\": 19, \"15\": 12, \"5\": 7, \"12\": 1, \"13\": 1}, \"15\": {\"5\": 29, \"14\": 8, \"2\": 18, \"9\": 31, \"15\": 29, \"6\": 24, \"10\": 11, \"12\": 5, \"13\": 21, \"3\": 12, \"0\": 11, \"8\": 12, \"7\": 12, \"4\": 13, \"1\": 4}, \"9\": {\"5\": 20, \"7\": 18, \"6\": 26, \"0\": 24, \"1\": 7, \"12\": 5, \"8\": 19, \"2\": 12, \"3\": 12, \"15\": 22, \"9\": 32, \"4\": 5, \"10\": 15, \"13\": 15, \"14\": 7, \"11\": 1}, \"11\": {\"11\": 166, \"12\": 51, \"13\": 18, \"5\": 2, \"6\": 1, \"15\": 1, \"9\": 1}, \"14\": {\"3\": 19, \"2\": 16, \"7\": 18, \"14\": 24, \"10\": 35, \"1\": 27, \"8\": 25, \"0\": 28, \"5\": 3, \"4\": 28, \"6\": 4, \"15\": 4, \"9\": 8, \"13\": 1}, \"2\": {\"2\": 30, \"7\": 24, \"8\": 17, \"0\": 18, \"5\": 21, \"3\": 24, \"1\": 17, \"4\": 11, \"9\": 11, \"15\": 25, \"13\": 5, \"6\": 14, \"12\": 1, \"10\": 15, \"14\": 7}, \"13\": {\"2\": 16, \"5\": 44, \"10\": 7, \"7\": 7, \"15\": 32, \"6\": 17, \"13\": 32, \"9\": 32, \"0\": 6, \"3\": 6, \"12\": 16, \"8\": 11, \"11\": 8, \"4\": 3, \"14\": 1, \"1\": 2}, \"3\": {\"14\": 22, \"3\": 35, \"0\": 15, \"10\": 17, \"9\": 15, \"4\": 27, \"5\": 12, \"6\": 6, \"7\": 19, \"15\": 9, \"1\": 27, \"13\": 2, \"2\": 20, \"8\": 14}, \"1\": {\"14\": 28, \"0\": 24, \"1\": 34, \"7\": 23, \"4\": 25, \"8\": 16, \"3\": 21, \"5\": 5, \"6\": 5, \"10\": 27, \"2\": 16, \"9\": 11, \"15\": 5}}}, \"per_domain_accuracy\": {\"W_3\": {\"accuracy\": 0.9761189956331878, \"source?\": true}, \"C_4\": {\"accuracy\": 0.9992424242424243, \"source?\": true}, \"C_2\": {\"accuracy\": 1.0, \"source?\": true}, \"C_3\": {\"accuracy\": 0.9998139880952381, \"source?\": true}, \"W_2\": {\"accuracy\": 0.9602864583333334, \"source?\": true}, \"C_1\": {\"accuracy\": 0.9998310810810811, \"source?\": true}, \"W_1\": {\"accuracy\": 0.9785487288135594, \"source?\": true}, \"W_4\": {\"accuracy\": 0.9675925925925926, \"source?\": true}, \"C_5\": {\"accuracy\": 0.9993016759776536, \"source?\": true}, \"O_50\": {\"accuracy\": 0.26848958333333334, \"source?\": false}, \"O_14\": {\"accuracy\": 0.24921875, \"source?\": false}, \"O_32\": {\"accuracy\": 0.3625, \"source?\": false}, \"O_44\": {\"accuracy\": 0.2713541666666667, \"source?\": false}, \"O_8\": {\"accuracy\": 0.21041666666666667, \"source?\": false}, \"O_20\": {\"accuracy\": 0.12630208333333334, \"source?\": false}, \"O_38\": {\"accuracy\": 0.2955729166666667, \"source?\": false}, \"O_26\": {\"accuracy\": 0.17734375, \"source?\": false}}}, \"history\": {\"epoch_indices\": [1, 2, 3, 4, 5, 6], \"train_label_loss\": [0.10591752686873236, 0.06499043045874837, 0.05326582450208687, 0.042759311958818075, 0.03760913766249644, 0.02967883460215545], \"source_val_label_loss\": [0.09751713275909424, 0.06728256493806839, 0.06022370979189873, 0.06157772243022919, 0.06158938631415367, 0.06306550651788712], \"target_val_label_loss\": [2.412797212600708, 2.3137826919555664, 2.6315743923187256, 2.8202922344207764, 3.129995346069336, 3.656513214111328], \"source_val_acc_label\": [0.9792066648381789, 0.984503565551289, 0.9859434997257268, 0.9860806363137685, 0.9860634942402633, 0.9860120680197477], \"target_val_acc_label\": [0.21585286458333333, 0.24514973958333333, 0.18779296875, 0.17457682291666668, 0.15143229166666666, 0.1412109375]}, \"dataset_metrics\": {\"source\": {\"train\": {\"n_unique_x\": 364223, \"n_unique_y\": 130, \"n_batch/episode\": 13163}, \"val\": {\"n_unique_x\": 77236, \"n_unique_y\": 130, \"n_batch/episode\": 1823}, \"test\": {\"n_unique_x\": 78478, \"n_unique_y\": 130, \"n_batch/episode\": 1857}}, \"target\": {\"train\": {\"n_unique_x\": 179200, \"n_unique_y\": 16, \"n_batch/episode\": 6720}, \"val\": {\"n_unique_x\": 38400, \"n_unique_y\": 16, \"n_batch/episode\": 960}, \"test\": {\"n_unique_x\": 38400, \"n_unique_y\": 16, \"n_batch/episode\": 960}}}}'"
      ]
     },
     "execution_count": 29,
     "metadata": {},
     "output_type": "execute_result"
    }
   ],
   "source": [
    "json.dumps(experiment)"
   ]
  }
 ],
 "metadata": {
  "celltoolbar": "Tags",
  "kernelspec": {
   "display_name": "Python 3 (ipykernel)",
   "language": "python",
   "name": "python3"
  },
  "language_info": {
   "codemirror_mode": {
    "name": "ipython",
    "version": 3
   },
   "file_extension": ".py",
   "mimetype": "text/x-python",
   "name": "python",
   "nbconvert_exporter": "python",
   "pygments_lexer": "ipython3",
   "version": "3.8.10"
  },
  "papermill": {
   "default_parameters": {},
   "duration": 4020.135577,
   "end_time": "2022-03-20T15:10:56.792123",
   "environment_variables": {},
   "exception": null,
   "input_path": "/mnt/wd500GB/CSC500/csc500-main/csc500-notebooks/templates/tl_ptn_template.ipynb",
   "output_path": "trial.ipynb",
   "parameters": {
    "parameters": {
     "BEST_MODEL_PATH": "./best_model.pth",
     "NUM_LOGS_PER_EPOCH": 10,
     "criteria_for_best": "target_accuracy",
     "dataset_seed": 500,
     "datasets": [
      {
       "domain_prefix": "C_",
       "domains": [
        1,
        2,
        3,
        4,
        5
       ],
       "episode_transforms": [],
       "labels": [
        "1-10.",
        "1-11.",
        "1-15.",
        "1-16.",
        "1-17.",
        "1-18.",
        "1-19.",
        "10-4.",
        "10-7.",
        "11-1.",
        "11-14.",
        "11-17.",
        "11-20.",
        "11-7.",
        "13-20.",
        "13-8.",
        "14-10.",
        "14-11.",
        "14-14.",
        "14-7.",
        "15-1.",
        "15-20.",
        "16-1.",
        "16-16.",
        "17-10.",
        "17-11.",
        "17-2.",
        "19-1.",
        "19-16.",
        "19-19.",
        "19-20.",
        "19-3.",
        "2-10.",
        "2-11.",
        "2-17.",
        "2-18.",
        "2-20.",
        "2-3.",
        "2-4.",
        "2-5.",
        "2-6.",
        "2-7.",
        "2-8.",
        "3-13.",
        "3-18.",
        "3-3.",
        "4-1.",
        "4-10.",
        "4-11.",
        "4-19.",
        "5-5.",
        "6-15.",
        "7-10.",
        "7-14.",
        "8-18.",
        "8-20.",
        "8-3.",
        "8-8."
       ],
       "num_examples_per_domain_per_label": -1,
       "pickle_path": "/mnt/wd500GB/CSC500/csc500-main/datasets/cores.stratified_ds.2022A.pkl",
       "source_or_target_dataset": "source",
       "x_transforms": [
        "unit_mag"
       ]
      },
      {
       "domain_prefix": "W_",
       "domains": [
        1,
        2,
        3,
        4
       ],
       "episode_transforms": [],
       "labels": [
        "1-10",
        "1-12",
        "1-14",
        "1-16",
        "1-18",
        "1-19",
        "1-8",
        "10-11",
        "10-17",
        "10-4",
        "10-7",
        "11-1",
        "11-10",
        "11-19",
        "11-20",
        "11-4",
        "11-7",
        "12-19",
        "12-20",
        "12-7",
        "13-14",
        "13-18",
        "13-19",
        "13-20",
        "13-3",
        "13-7",
        "14-10",
        "14-11",
        "14-12",
        "14-13",
        "14-14",
        "14-19",
        "14-20",
        "14-7",
        "14-8",
        "14-9",
        "15-1",
        "15-19",
        "15-6",
        "16-1",
        "16-16",
        "16-19",
        "16-20",
        "17-10",
        "17-11",
        "18-1",
        "18-10",
        "18-11",
        "18-12",
        "18-13",
        "18-14",
        "18-15",
        "18-16",
        "18-17",
        "18-19",
        "18-2",
        "18-20",
        "18-4",
        "18-5",
        "18-7",
        "18-8",
        "18-9",
        "19-1",
        "19-10",
        "19-11",
        "19-12",
        "19-13",
        "19-14",
        "19-15",
        "19-19",
        "19-2",
        "19-20",
        "19-3",
        "19-4",
        "19-6",
        "19-7",
        "19-8",
        "19-9",
        "2-1",
        "2-13",
        "2-15",
        "2-3",
        "2-4",
        "2-5",
        "2-6",
        "2-7",
        "2-8",
        "20-1",
        "20-12",
        "20-14",
        "20-15",
        "20-16",
        "20-18",
        "20-19",
        "20-20",
        "20-3",
        "20-4",
        "20-5",
        "20-7",
        "20-8",
        "3-1",
        "3-13",
        "3-18",
        "3-2",
        "3-8",
        "4-1",
        "4-10",
        "4-11",
        "5-1",
        "5-5",
        "6-1",
        "6-15",
        "6-6",
        "7-10",
        "7-11",
        "7-12",
        "7-13",
        "7-14",
        "7-7",
        "7-8",
        "7-9",
        "8-1",
        "8-13",
        "8-14",
        "8-18",
        "8-20",
        "8-3",
        "8-8",
        "9-1",
        "9-7"
       ],
       "num_examples_per_domain_per_label": -1,
       "pickle_path": "/mnt/wd500GB/CSC500/csc500-main/datasets/wisig.node3-19.stratified_ds.2022A.pkl",
       "source_or_target_dataset": "source",
       "x_transforms": [
        "unit_mag"
       ]
      },
      {
       "domain_prefix": "O_",
       "domains": [
        32,
        38,
        8,
        44,
        14,
        50,
        20,
        26
       ],
       "episode_transforms": [],
       "labels": [
        "3123D52",
        "3123D65",
        "3123D79",
        "3123D80",
        "3123D54",
        "3123D70",
        "3123D7B",
        "3123D89",
        "3123D58",
        "3123D76",
        "3123D7D",
        "3123EFE",
        "3123D64",
        "3123D78",
        "3123D7E",
        "3124E4A"
       ],
       "num_examples_per_domain_per_label": 2000,
       "pickle_path": "/mnt/wd500GB/CSC500/csc500-main/datasets/oracle.Run1_framed_2000Examples_stratified_ds.2022A.pkl",
       "source_or_target_dataset": "target",
       "x_transforms": [
        "unit_mag"
       ]
      }
     ],
     "device": "cuda",
     "experiment_name": "tl_2v2:cores+wisig -> oracle.run1.framed",
     "lr": 0.0001,
     "n_epoch": 50,
     "n_query": 2,
     "n_shot": 3,
     "n_way": 16,
     "patience": 3,
     "seed": 500,
     "test_k_factor": 2,
     "torch_default_dtype": "torch.float32",
     "train_k_factor": 3,
     "val_k_factor": 2,
     "x_net": [
      {
       "class": "nnReshape",
       "kargs": {
        "shape": [
         -1,
         1,
         2,
         256
        ]
       }
      },
      {
       "class": "Conv2d",
       "kargs": {
        "bias": false,
        "in_channels": 1,
        "kernel_size": [
         1,
         7
        ],
        "out_channels": 256,
        "padding": [
         0,
         3
        ]
       }
      },
      {
       "class": "ReLU",
       "kargs": {
        "inplace": true
       }
      },
      {
       "class": "BatchNorm2d",
       "kargs": {
        "num_features": 256
       }
      },
      {
       "class": "Conv2d",
       "kargs": {
        "bias": true,
        "in_channels": 256,
        "kernel_size": [
         2,
         7
        ],
        "out_channels": 80,
        "padding": [
         0,
         3
        ]
       }
      },
      {
       "class": "ReLU",
       "kargs": {
        "inplace": true
       }
      },
      {
       "class": "BatchNorm2d",
       "kargs": {
        "num_features": 80
       }
      },
      {
       "class": "Flatten",
       "kargs": {}
      },
      {
       "class": "Linear",
       "kargs": {
        "in_features": 20480,
        "out_features": 256
       }
      },
      {
       "class": "ReLU",
       "kargs": {
        "inplace": true
       }
      },
      {
       "class": "BatchNorm1d",
       "kargs": {
        "num_features": 256
       }
      },
      {
       "class": "Linear",
       "kargs": {
        "in_features": 256,
        "out_features": 256
       }
      }
     ]
    }
   },
   "start_time": "2022-03-20T14:03:56.656546",
   "version": "2.3.4"
  }
 },
 "nbformat": 4,
 "nbformat_minor": 5
}