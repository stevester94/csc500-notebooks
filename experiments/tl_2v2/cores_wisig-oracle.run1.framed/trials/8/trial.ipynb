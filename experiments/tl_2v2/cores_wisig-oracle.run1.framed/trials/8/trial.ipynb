{
 "cells": [
  {
   "cell_type": "markdown",
   "id": "9fea5f46",
   "metadata": {
    "papermill": {
     "duration": 0.019234,
     "end_time": "2022-03-20T08:09:56.910309",
     "exception": false,
     "start_time": "2022-03-20T08:09:56.891075",
     "status": "completed"
    },
    "tags": []
   },
   "source": [
    "# Transfer Learning Template"
   ]
  },
  {
   "cell_type": "code",
   "execution_count": 1,
   "id": "0902182a",
   "metadata": {
    "execution": {
     "iopub.execute_input": "2022-03-20T08:09:56.952560Z",
     "iopub.status.busy": "2022-03-20T08:09:56.952015Z",
     "iopub.status.idle": "2022-03-20T08:09:57.941280Z",
     "shell.execute_reply": "2022-03-20T08:09:57.940690Z"
    },
    "papermill": {
     "duration": 1.016721,
     "end_time": "2022-03-20T08:09:57.941410",
     "exception": false,
     "start_time": "2022-03-20T08:09:56.924689",
     "status": "completed"
    },
    "tags": []
   },
   "outputs": [],
   "source": [
    "%load_ext autoreload\n",
    "%autoreload 2\n",
    "%matplotlib inline\n",
    "\n",
    "    \n",
    "import os, json, sys, time, random\n",
    "import numpy as np\n",
    "import torch\n",
    "from torch.optim import Adam\n",
    "from  easydict import EasyDict\n",
    "import matplotlib.pyplot as plt\n",
    "\n",
    "from steves_models.steves_ptn import Steves_Prototypical_Network\n",
    "\n",
    "from steves_utils.lazy_iterable_wrapper import Lazy_Iterable_Wrapper\n",
    "from steves_utils.iterable_aggregator import Iterable_Aggregator\n",
    "from steves_utils.ptn_train_eval_test_jig import  PTN_Train_Eval_Test_Jig\n",
    "from steves_utils.torch_sequential_builder import build_sequential\n",
    "from steves_utils.torch_utils import get_dataset_metrics, ptn_confusion_by_domain_over_dataloader\n",
    "from steves_utils.utils_v2 import (per_domain_accuracy_from_confusion, get_datasets_base_path)\n",
    "from steves_utils.PTN.utils import independent_accuracy_assesment\n",
    "\n",
    "from torch.utils.data import DataLoader\n",
    "\n",
    "from steves_utils.stratified_dataset.episodic_accessor import Episodic_Accessor_Factory\n",
    "\n",
    "from steves_utils.ptn_do_report import (\n",
    "    get_loss_curve,\n",
    "    get_results_table,\n",
    "    get_parameters_table,\n",
    "    get_domain_accuracies,\n",
    ")\n",
    "\n",
    "from steves_utils.transforms import get_chained_transform"
   ]
  },
  {
   "cell_type": "markdown",
   "id": "41c840b4",
   "metadata": {
    "papermill": {
     "duration": 0.015086,
     "end_time": "2022-03-20T08:09:57.978080",
     "exception": false,
     "start_time": "2022-03-20T08:09:57.962994",
     "status": "completed"
    },
    "tags": []
   },
   "source": [
    "# Allowed Parameters\n",
    "These are allowed parameters, not defaults\n",
    "Each of these values need to be present in the injected parameters (the notebook will raise an exception if they are not present)\n",
    "\n",
    "Papermill uses the cell tag \"parameters\" to inject the real parameters below this cell.\n",
    "Enable tags to see what I mean"
   ]
  },
  {
   "cell_type": "code",
   "execution_count": 2,
   "id": "fd44eb83",
   "metadata": {
    "execution": {
     "iopub.execute_input": "2022-03-20T08:09:58.019460Z",
     "iopub.status.busy": "2022-03-20T08:09:58.015702Z",
     "iopub.status.idle": "2022-03-20T08:09:58.027933Z",
     "shell.execute_reply": "2022-03-20T08:09:58.027580Z"
    },
    "papermill": {
     "duration": 0.034073,
     "end_time": "2022-03-20T08:09:58.028023",
     "exception": false,
     "start_time": "2022-03-20T08:09:57.993950",
     "status": "completed"
    },
    "tags": []
   },
   "outputs": [],
   "source": [
    "required_parameters = {\n",
    "    \"experiment_name\",\n",
    "    \"lr\",\n",
    "    \"device\",\n",
    "    \"seed\",\n",
    "    \"dataset_seed\",\n",
    "    \"n_shot\",\n",
    "    \"n_query\",\n",
    "    \"n_way\",\n",
    "    \"train_k_factor\",\n",
    "    \"val_k_factor\",\n",
    "    \"test_k_factor\",\n",
    "    \"n_epoch\",\n",
    "    \"patience\",\n",
    "    \"criteria_for_best\",\n",
    "    \"x_net\",\n",
    "    \"datasets\",\n",
    "    \"torch_default_dtype\",\n",
    "    \"NUM_LOGS_PER_EPOCH\",\n",
    "    \"BEST_MODEL_PATH\",\n",
    "    \"x_shape\",\n",
    "}"
   ]
  },
  {
   "cell_type": "code",
   "execution_count": 3,
   "id": "fa3f0049",
   "metadata": {
    "execution": {
     "iopub.execute_input": "2022-03-20T08:09:58.076328Z",
     "iopub.status.busy": "2022-03-20T08:09:58.066539Z",
     "iopub.status.idle": "2022-03-20T08:09:58.089741Z",
     "shell.execute_reply": "2022-03-20T08:09:58.089377Z"
    },
    "papermill": {
     "duration": 0.040599,
     "end_time": "2022-03-20T08:09:58.089829",
     "exception": false,
     "start_time": "2022-03-20T08:09:58.049230",
     "status": "completed"
    },
    "tags": [
     "parameters"
    ]
   },
   "outputs": [],
   "source": [
    "from steves_utils.CORES.utils import (\n",
    "    ALL_NODES,\n",
    "    ALL_NODES_MINIMUM_1000_EXAMPLES,\n",
    "    ALL_DAYS\n",
    ")\n",
    "\n",
    "from steves_utils.ORACLE.utils_v2 import (\n",
    "    ALL_DISTANCES_FEET_NARROWED,\n",
    "    ALL_RUNS,\n",
    "    ALL_SERIAL_NUMBERS,\n",
    ")\n",
    "\n",
    "standalone_parameters = {}\n",
    "standalone_parameters[\"experiment_name\"] = \"STANDALONE PTN\"\n",
    "standalone_parameters[\"lr\"] = 0.001\n",
    "standalone_parameters[\"device\"] = \"cuda\"\n",
    "\n",
    "standalone_parameters[\"seed\"] = 1337\n",
    "standalone_parameters[\"dataset_seed\"] = 1337\n",
    "\n",
    "standalone_parameters[\"n_way\"] = 8\n",
    "standalone_parameters[\"n_shot\"] = 3\n",
    "standalone_parameters[\"n_query\"]  = 2\n",
    "standalone_parameters[\"train_k_factor\"] = 1\n",
    "standalone_parameters[\"val_k_factor\"] = 2\n",
    "standalone_parameters[\"test_k_factor\"] = 2\n",
    "\n",
    "\n",
    "standalone_parameters[\"n_epoch\"] = 50\n",
    "\n",
    "standalone_parameters[\"patience\"] = 10\n",
    "standalone_parameters[\"criteria_for_best\"] = \"source_loss\"\n",
    "\n",
    "standalone_parameters[\"datasets\"] = [\n",
    "    {\n",
    "        \"labels\": ALL_SERIAL_NUMBERS,\n",
    "        \"domains\": ALL_DISTANCES_FEET_NARROWED,\n",
    "        \"num_examples_per_domain_per_label\": 100,\n",
    "        \"pickle_path\": os.path.join(get_datasets_base_path(), \"oracle.Run1_framed_2000Examples_stratified_ds.2022A.pkl\"),\n",
    "        \"source_or_target_dataset\": \"source\",\n",
    "        \"x_transforms\": [\"unit_mag\", \"minus_two\"],\n",
    "        \"episode_transforms\": [],\n",
    "        \"domain_prefix\": \"ORACLE_\"\n",
    "    },\n",
    "    {\n",
    "        \"labels\": ALL_NODES,\n",
    "        \"domains\": ALL_DAYS,\n",
    "        \"num_examples_per_domain_per_label\": 100,\n",
    "        \"pickle_path\": os.path.join(get_datasets_base_path(), \"cores.stratified_ds.2022A.pkl\"),\n",
    "        \"source_or_target_dataset\": \"target\",\n",
    "        \"x_transforms\": [\"unit_power\", \"times_zero\"],\n",
    "        \"episode_transforms\": [],\n",
    "        \"domain_prefix\": \"CORES_\"\n",
    "    }   \n",
    "]\n",
    "\n",
    "standalone_parameters[\"torch_default_dtype\"] = \"torch.float32\" \n",
    "\n",
    "\n",
    "\n",
    "standalone_parameters[\"x_net\"] =     [\n",
    "    {\"class\": \"nnReshape\", \"kargs\": {\"shape\":[-1, 1, 2, 256]}},\n",
    "    {\"class\": \"Conv2d\", \"kargs\": { \"in_channels\":1, \"out_channels\":256, \"kernel_size\":(1,7), \"bias\":False, \"padding\":(0,3), },},\n",
    "    {\"class\": \"ReLU\", \"kargs\": {\"inplace\": True}},\n",
    "    {\"class\": \"BatchNorm2d\", \"kargs\": {\"num_features\":256}},\n",
    "\n",
    "    {\"class\": \"Conv2d\", \"kargs\": { \"in_channels\":256, \"out_channels\":80, \"kernel_size\":(2,7), \"bias\":True, \"padding\":(0,3), },},\n",
    "    {\"class\": \"ReLU\", \"kargs\": {\"inplace\": True}},\n",
    "    {\"class\": \"BatchNorm2d\", \"kargs\": {\"num_features\":80}},\n",
    "    {\"class\": \"Flatten\", \"kargs\": {}},\n",
    "\n",
    "    {\"class\": \"Linear\", \"kargs\": {\"in_features\": 80*256, \"out_features\": 256}}, # 80 units per IQ pair\n",
    "    {\"class\": \"ReLU\", \"kargs\": {\"inplace\": True}},\n",
    "    {\"class\": \"BatchNorm1d\", \"kargs\": {\"num_features\":256}},\n",
    "\n",
    "    {\"class\": \"Linear\", \"kargs\": {\"in_features\": 256, \"out_features\": 256}},\n",
    "]\n",
    "\n",
    "# Parameters relevant to results\n",
    "# These parameters will basically never need to change\n",
    "standalone_parameters[\"NUM_LOGS_PER_EPOCH\"] = 10\n",
    "standalone_parameters[\"BEST_MODEL_PATH\"] = \"./best_model.pth\"\n",
    "\n",
    "\n",
    "\n",
    "\n"
   ]
  },
  {
   "cell_type": "code",
   "execution_count": 4,
   "id": "9b130502",
   "metadata": {
    "execution": {
     "iopub.execute_input": "2022-03-20T08:09:58.138365Z",
     "iopub.status.busy": "2022-03-20T08:09:58.138000Z",
     "iopub.status.idle": "2022-03-20T08:09:58.157217Z",
     "shell.execute_reply": "2022-03-20T08:09:58.157550Z"
    },
    "papermill": {
     "duration": 0.048123,
     "end_time": "2022-03-20T08:09:58.157661",
     "exception": false,
     "start_time": "2022-03-20T08:09:58.109538",
     "status": "completed"
    },
    "tags": [
     "injected-parameters"
    ]
   },
   "outputs": [],
   "source": [
    "# Parameters\n",
    "parameters = {\n",
    "    \"experiment_name\": \"tl_2v2:cores+wisig -> oracle.run1.framed\",\n",
    "    \"device\": \"cuda\",\n",
    "    \"lr\": 0.0001,\n",
    "    \"n_shot\": 3,\n",
    "    \"n_query\": 2,\n",
    "    \"train_k_factor\": 3,\n",
    "    \"val_k_factor\": 2,\n",
    "    \"test_k_factor\": 2,\n",
    "    \"torch_default_dtype\": \"torch.float32\",\n",
    "    \"n_epoch\": 50,\n",
    "    \"patience\": 3,\n",
    "    \"criteria_for_best\": \"target_accuracy\",\n",
    "    \"x_net\": [\n",
    "        {\"class\": \"nnReshape\", \"kargs\": {\"shape\": [-1, 1, 2, 256]}},\n",
    "        {\n",
    "            \"class\": \"Conv2d\",\n",
    "            \"kargs\": {\n",
    "                \"in_channels\": 1,\n",
    "                \"out_channels\": 256,\n",
    "                \"kernel_size\": [1, 7],\n",
    "                \"bias\": False,\n",
    "                \"padding\": [0, 3],\n",
    "            },\n",
    "        },\n",
    "        {\"class\": \"ReLU\", \"kargs\": {\"inplace\": True}},\n",
    "        {\"class\": \"BatchNorm2d\", \"kargs\": {\"num_features\": 256}},\n",
    "        {\n",
    "            \"class\": \"Conv2d\",\n",
    "            \"kargs\": {\n",
    "                \"in_channels\": 256,\n",
    "                \"out_channels\": 80,\n",
    "                \"kernel_size\": [2, 7],\n",
    "                \"bias\": True,\n",
    "                \"padding\": [0, 3],\n",
    "            },\n",
    "        },\n",
    "        {\"class\": \"ReLU\", \"kargs\": {\"inplace\": True}},\n",
    "        {\"class\": \"BatchNorm2d\", \"kargs\": {\"num_features\": 80}},\n",
    "        {\"class\": \"Flatten\", \"kargs\": {}},\n",
    "        {\"class\": \"Linear\", \"kargs\": {\"in_features\": 20480, \"out_features\": 256}},\n",
    "        {\"class\": \"ReLU\", \"kargs\": {\"inplace\": True}},\n",
    "        {\"class\": \"BatchNorm1d\", \"kargs\": {\"num_features\": 256}},\n",
    "        {\"class\": \"Linear\", \"kargs\": {\"in_features\": 256, \"out_features\": 256}},\n",
    "    ],\n",
    "    \"NUM_LOGS_PER_EPOCH\": 10,\n",
    "    \"BEST_MODEL_PATH\": \"./best_model.pth\",\n",
    "    \"n_way\": 16,\n",
    "    \"datasets\": [\n",
    "        {\n",
    "            \"labels\": [\n",
    "                \"1-10.\",\n",
    "                \"1-11.\",\n",
    "                \"1-15.\",\n",
    "                \"1-16.\",\n",
    "                \"1-17.\",\n",
    "                \"1-18.\",\n",
    "                \"1-19.\",\n",
    "                \"10-4.\",\n",
    "                \"10-7.\",\n",
    "                \"11-1.\",\n",
    "                \"11-14.\",\n",
    "                \"11-17.\",\n",
    "                \"11-20.\",\n",
    "                \"11-7.\",\n",
    "                \"13-20.\",\n",
    "                \"13-8.\",\n",
    "                \"14-10.\",\n",
    "                \"14-11.\",\n",
    "                \"14-14.\",\n",
    "                \"14-7.\",\n",
    "                \"15-1.\",\n",
    "                \"15-20.\",\n",
    "                \"16-1.\",\n",
    "                \"16-16.\",\n",
    "                \"17-10.\",\n",
    "                \"17-11.\",\n",
    "                \"17-2.\",\n",
    "                \"19-1.\",\n",
    "                \"19-16.\",\n",
    "                \"19-19.\",\n",
    "                \"19-20.\",\n",
    "                \"19-3.\",\n",
    "                \"2-10.\",\n",
    "                \"2-11.\",\n",
    "                \"2-17.\",\n",
    "                \"2-18.\",\n",
    "                \"2-20.\",\n",
    "                \"2-3.\",\n",
    "                \"2-4.\",\n",
    "                \"2-5.\",\n",
    "                \"2-6.\",\n",
    "                \"2-7.\",\n",
    "                \"2-8.\",\n",
    "                \"3-13.\",\n",
    "                \"3-18.\",\n",
    "                \"3-3.\",\n",
    "                \"4-1.\",\n",
    "                \"4-10.\",\n",
    "                \"4-11.\",\n",
    "                \"4-19.\",\n",
    "                \"5-5.\",\n",
    "                \"6-15.\",\n",
    "                \"7-10.\",\n",
    "                \"7-14.\",\n",
    "                \"8-18.\",\n",
    "                \"8-20.\",\n",
    "                \"8-3.\",\n",
    "                \"8-8.\",\n",
    "            ],\n",
    "            \"domains\": [1, 2, 3, 4, 5],\n",
    "            \"num_examples_per_domain_per_label\": -1,\n",
    "            \"pickle_path\": \"/mnt/wd500GB/CSC500/csc500-main/datasets/cores.stratified_ds.2022A.pkl\",\n",
    "            \"source_or_target_dataset\": \"source\",\n",
    "            \"x_transforms\": [],\n",
    "            \"episode_transforms\": [],\n",
    "            \"domain_prefix\": \"C_\",\n",
    "        },\n",
    "        {\n",
    "            \"labels\": [\n",
    "                \"1-10\",\n",
    "                \"1-12\",\n",
    "                \"1-14\",\n",
    "                \"1-16\",\n",
    "                \"1-18\",\n",
    "                \"1-19\",\n",
    "                \"1-8\",\n",
    "                \"10-11\",\n",
    "                \"10-17\",\n",
    "                \"10-4\",\n",
    "                \"10-7\",\n",
    "                \"11-1\",\n",
    "                \"11-10\",\n",
    "                \"11-19\",\n",
    "                \"11-20\",\n",
    "                \"11-4\",\n",
    "                \"11-7\",\n",
    "                \"12-19\",\n",
    "                \"12-20\",\n",
    "                \"12-7\",\n",
    "                \"13-14\",\n",
    "                \"13-18\",\n",
    "                \"13-19\",\n",
    "                \"13-20\",\n",
    "                \"13-3\",\n",
    "                \"13-7\",\n",
    "                \"14-10\",\n",
    "                \"14-11\",\n",
    "                \"14-12\",\n",
    "                \"14-13\",\n",
    "                \"14-14\",\n",
    "                \"14-19\",\n",
    "                \"14-20\",\n",
    "                \"14-7\",\n",
    "                \"14-8\",\n",
    "                \"14-9\",\n",
    "                \"15-1\",\n",
    "                \"15-19\",\n",
    "                \"15-6\",\n",
    "                \"16-1\",\n",
    "                \"16-16\",\n",
    "                \"16-19\",\n",
    "                \"16-20\",\n",
    "                \"17-10\",\n",
    "                \"17-11\",\n",
    "                \"18-1\",\n",
    "                \"18-10\",\n",
    "                \"18-11\",\n",
    "                \"18-12\",\n",
    "                \"18-13\",\n",
    "                \"18-14\",\n",
    "                \"18-15\",\n",
    "                \"18-16\",\n",
    "                \"18-17\",\n",
    "                \"18-19\",\n",
    "                \"18-2\",\n",
    "                \"18-20\",\n",
    "                \"18-4\",\n",
    "                \"18-5\",\n",
    "                \"18-7\",\n",
    "                \"18-8\",\n",
    "                \"18-9\",\n",
    "                \"19-1\",\n",
    "                \"19-10\",\n",
    "                \"19-11\",\n",
    "                \"19-12\",\n",
    "                \"19-13\",\n",
    "                \"19-14\",\n",
    "                \"19-15\",\n",
    "                \"19-19\",\n",
    "                \"19-2\",\n",
    "                \"19-20\",\n",
    "                \"19-3\",\n",
    "                \"19-4\",\n",
    "                \"19-6\",\n",
    "                \"19-7\",\n",
    "                \"19-8\",\n",
    "                \"19-9\",\n",
    "                \"2-1\",\n",
    "                \"2-13\",\n",
    "                \"2-15\",\n",
    "                \"2-3\",\n",
    "                \"2-4\",\n",
    "                \"2-5\",\n",
    "                \"2-6\",\n",
    "                \"2-7\",\n",
    "                \"2-8\",\n",
    "                \"20-1\",\n",
    "                \"20-12\",\n",
    "                \"20-14\",\n",
    "                \"20-15\",\n",
    "                \"20-16\",\n",
    "                \"20-18\",\n",
    "                \"20-19\",\n",
    "                \"20-20\",\n",
    "                \"20-3\",\n",
    "                \"20-4\",\n",
    "                \"20-5\",\n",
    "                \"20-7\",\n",
    "                \"20-8\",\n",
    "                \"3-1\",\n",
    "                \"3-13\",\n",
    "                \"3-18\",\n",
    "                \"3-2\",\n",
    "                \"3-8\",\n",
    "                \"4-1\",\n",
    "                \"4-10\",\n",
    "                \"4-11\",\n",
    "                \"5-1\",\n",
    "                \"5-5\",\n",
    "                \"6-1\",\n",
    "                \"6-15\",\n",
    "                \"6-6\",\n",
    "                \"7-10\",\n",
    "                \"7-11\",\n",
    "                \"7-12\",\n",
    "                \"7-13\",\n",
    "                \"7-14\",\n",
    "                \"7-7\",\n",
    "                \"7-8\",\n",
    "                \"7-9\",\n",
    "                \"8-1\",\n",
    "                \"8-13\",\n",
    "                \"8-14\",\n",
    "                \"8-18\",\n",
    "                \"8-20\",\n",
    "                \"8-3\",\n",
    "                \"8-8\",\n",
    "                \"9-1\",\n",
    "                \"9-7\",\n",
    "            ],\n",
    "            \"domains\": [1, 2, 3, 4],\n",
    "            \"num_examples_per_domain_per_label\": -1,\n",
    "            \"pickle_path\": \"/mnt/wd500GB/CSC500/csc500-main/datasets/wisig.node3-19.stratified_ds.2022A.pkl\",\n",
    "            \"source_or_target_dataset\": \"source\",\n",
    "            \"x_transforms\": [],\n",
    "            \"episode_transforms\": [],\n",
    "            \"domain_prefix\": \"W_\",\n",
    "        },\n",
    "        {\n",
    "            \"labels\": [\n",
    "                \"3123D52\",\n",
    "                \"3123D65\",\n",
    "                \"3123D79\",\n",
    "                \"3123D80\",\n",
    "                \"3123D54\",\n",
    "                \"3123D70\",\n",
    "                \"3123D7B\",\n",
    "                \"3123D89\",\n",
    "                \"3123D58\",\n",
    "                \"3123D76\",\n",
    "                \"3123D7D\",\n",
    "                \"3123EFE\",\n",
    "                \"3123D64\",\n",
    "                \"3123D78\",\n",
    "                \"3123D7E\",\n",
    "                \"3124E4A\",\n",
    "            ],\n",
    "            \"domains\": [32, 38, 8, 44, 14, 50, 20, 26],\n",
    "            \"num_examples_per_domain_per_label\": 2000,\n",
    "            \"pickle_path\": \"/mnt/wd500GB/CSC500/csc500-main/datasets/oracle.Run1_framed_2000Examples_stratified_ds.2022A.pkl\",\n",
    "            \"source_or_target_dataset\": \"target\",\n",
    "            \"x_transforms\": [],\n",
    "            \"episode_transforms\": [],\n",
    "            \"domain_prefix\": \"O_\",\n",
    "        },\n",
    "    ],\n",
    "    \"seed\": 154325,\n",
    "    \"dataset_seed\": 154325,\n",
    "}\n"
   ]
  },
  {
   "cell_type": "code",
   "execution_count": 5,
   "id": "8fa1cc33",
   "metadata": {
    "execution": {
     "iopub.execute_input": "2022-03-20T08:09:58.194122Z",
     "iopub.status.busy": "2022-03-20T08:09:58.193833Z",
     "iopub.status.idle": "2022-03-20T08:09:58.209408Z",
     "shell.execute_reply": "2022-03-20T08:09:58.209640Z"
    },
    "papermill": {
     "duration": 0.03421,
     "end_time": "2022-03-20T08:09:58.209722",
     "exception": false,
     "start_time": "2022-03-20T08:09:58.175512",
     "status": "completed"
    },
    "tags": []
   },
   "outputs": [],
   "source": [
    "# Set this to True if you want to run this template directly\n",
    "STANDALONE = False\n",
    "if STANDALONE:\n",
    "    print(\"parameters not injected, running with standalone_parameters\")\n",
    "    parameters = standalone_parameters\n",
    "\n",
    "if not 'parameters' in locals() and not 'parameters' in globals():\n",
    "    raise Exception(\"Parameter injection failed\")\n",
    "\n",
    "#Use an easy dict for all the parameters\n",
    "p = EasyDict(parameters)\n",
    "\n",
    "if \"x_shape\" not in p:\n",
    "    p.x_shape = [2,256] # Default to this if we dont supply x_shape\n",
    "\n",
    "\n",
    "supplied_keys = set(p.keys())\n",
    "\n",
    "if  supplied_keys != required_parameters:\n",
    "    print(\"Parameters are incorrect\")\n",
    "    if len(supplied_keys - required_parameters)>0: print(\"Shouldn't have:\", str(supplied_keys - required_parameters))\n",
    "    if len(required_parameters - supplied_keys)>0: print(\"Need to have:\", str(required_parameters - supplied_keys))\n",
    "    raise RuntimeError(\"Parameters are incorrect\")"
   ]
  },
  {
   "cell_type": "code",
   "execution_count": 6,
   "id": "3a028d58",
   "metadata": {
    "execution": {
     "iopub.execute_input": "2022-03-20T08:09:58.238819Z",
     "iopub.status.busy": "2022-03-20T08:09:58.238413Z",
     "iopub.status.idle": "2022-03-20T08:09:58.250902Z",
     "shell.execute_reply": "2022-03-20T08:09:58.251133Z"
    },
    "papermill": {
     "duration": 0.027819,
     "end_time": "2022-03-20T08:09:58.251218",
     "exception": false,
     "start_time": "2022-03-20T08:09:58.223399",
     "status": "completed"
    },
    "tags": []
   },
   "outputs": [],
   "source": [
    "###################################\n",
    "# Set the RNGs and make it all deterministic\n",
    "###################################\n",
    "np.random.seed(p.seed)\n",
    "random.seed(p.seed)\n",
    "torch.manual_seed(p.seed)\n",
    "\n",
    "torch.use_deterministic_algorithms(True) "
   ]
  },
  {
   "cell_type": "code",
   "execution_count": 7,
   "id": "b691acf6",
   "metadata": {
    "execution": {
     "iopub.execute_input": "2022-03-20T08:09:58.280855Z",
     "iopub.status.busy": "2022-03-20T08:09:58.280458Z",
     "iopub.status.idle": "2022-03-20T08:09:58.292412Z",
     "shell.execute_reply": "2022-03-20T08:09:58.292644Z"
    },
    "papermill": {
     "duration": 0.027632,
     "end_time": "2022-03-20T08:09:58.292727",
     "exception": false,
     "start_time": "2022-03-20T08:09:58.265095",
     "status": "completed"
    },
    "tags": []
   },
   "outputs": [],
   "source": [
    "###########################################\n",
    "# The stratified datasets honor this\n",
    "###########################################\n",
    "torch.set_default_dtype(eval(p.torch_default_dtype))"
   ]
  },
  {
   "cell_type": "code",
   "execution_count": 8,
   "id": "b5fba671",
   "metadata": {
    "execution": {
     "iopub.execute_input": "2022-03-20T08:09:58.325873Z",
     "iopub.status.busy": "2022-03-20T08:09:58.325465Z",
     "iopub.status.idle": "2022-03-20T08:09:58.364520Z",
     "shell.execute_reply": "2022-03-20T08:09:58.364968Z"
    },
    "papermill": {
     "duration": 0.055033,
     "end_time": "2022-03-20T08:09:58.365106",
     "exception": false,
     "start_time": "2022-03-20T08:09:58.310073",
     "status": "completed"
    },
    "tags": []
   },
   "outputs": [],
   "source": [
    "###################################\n",
    "# Build the network(s)\n",
    "# Note: It's critical to do this AFTER setting the RNG\n",
    "###################################\n",
    "x_net = build_sequential(p.x_net)"
   ]
  },
  {
   "cell_type": "code",
   "execution_count": 9,
   "id": "5d7e61cc",
   "metadata": {
    "execution": {
     "iopub.execute_input": "2022-03-20T08:09:58.398853Z",
     "iopub.status.busy": "2022-03-20T08:09:58.398589Z",
     "iopub.status.idle": "2022-03-20T08:09:58.415471Z",
     "shell.execute_reply": "2022-03-20T08:09:58.415795Z"
    },
    "papermill": {
     "duration": 0.033327,
     "end_time": "2022-03-20T08:09:58.415904",
     "exception": false,
     "start_time": "2022-03-20T08:09:58.382577",
     "status": "completed"
    },
    "tags": []
   },
   "outputs": [],
   "source": [
    "start_time_secs = time.time()"
   ]
  },
  {
   "cell_type": "code",
   "execution_count": 10,
   "id": "c6b67dfd",
   "metadata": {
    "execution": {
     "iopub.execute_input": "2022-03-20T08:09:58.452415Z",
     "iopub.status.busy": "2022-03-20T08:09:58.452143Z",
     "iopub.status.idle": "2022-03-20T08:09:58.465955Z",
     "shell.execute_reply": "2022-03-20T08:09:58.466277Z"
    },
    "papermill": {
     "duration": 0.030655,
     "end_time": "2022-03-20T08:09:58.466386",
     "exception": false,
     "start_time": "2022-03-20T08:09:58.435731",
     "status": "completed"
    },
    "tags": []
   },
   "outputs": [],
   "source": [
    "p.domains_source = []\n",
    "p.domains_target = []\n",
    "\n",
    "\n",
    "train_original_source = []\n",
    "val_original_source   = []\n",
    "test_original_source  = []\n",
    "\n",
    "train_original_target = []\n",
    "val_original_target   = []\n",
    "test_original_target  = []"
   ]
  },
  {
   "cell_type": "code",
   "execution_count": 11,
   "id": "e3d9c3d3",
   "metadata": {
    "execution": {
     "iopub.execute_input": "2022-03-20T08:09:58.502432Z",
     "iopub.status.busy": "2022-03-20T08:09:58.502159Z",
     "iopub.status.idle": "2022-03-20T08:09:58.516604Z",
     "shell.execute_reply": "2022-03-20T08:09:58.516926Z"
    },
    "papermill": {
     "duration": 0.032172,
     "end_time": "2022-03-20T08:09:58.517033",
     "exception": false,
     "start_time": "2022-03-20T08:09:58.484861",
     "status": "completed"
    },
    "tags": []
   },
   "outputs": [],
   "source": [
    "# global_x_transform_func = lambda x: normalize(x.to(torch.get_default_dtype()), \"unit_power\") # unit_power, unit_mag\n",
    "# global_x_transform_func = lambda x: normalize(x, \"unit_power\") # unit_power, unit_mag"
   ]
  },
  {
   "cell_type": "code",
   "execution_count": 12,
   "id": "acb78fd2",
   "metadata": {
    "execution": {
     "iopub.execute_input": "2022-03-20T08:09:58.557399Z",
     "iopub.status.busy": "2022-03-20T08:09:58.557115Z",
     "iopub.status.idle": "2022-03-20T08:09:58.571083Z",
     "shell.execute_reply": "2022-03-20T08:09:58.570826Z"
    },
    "papermill": {
     "duration": 0.036406,
     "end_time": "2022-03-20T08:09:58.571147",
     "exception": false,
     "start_time": "2022-03-20T08:09:58.534741",
     "status": "completed"
    },
    "tags": []
   },
   "outputs": [],
   "source": [
    "def add_dataset(\n",
    "    labels,\n",
    "    domains,\n",
    "    pickle_path,\n",
    "    x_transforms,\n",
    "    episode_transforms,\n",
    "    domain_prefix,\n",
    "    num_examples_per_domain_per_label,\n",
    "    source_or_target_dataset:str,\n",
    "    iterator_seed=p.seed,\n",
    "    dataset_seed=p.dataset_seed,\n",
    "    n_shot=p.n_shot,\n",
    "    n_way=p.n_way,\n",
    "    n_query=p.n_query,\n",
    "    train_val_test_k_factors=(p.train_k_factor,p.val_k_factor,p.test_k_factor),\n",
    "):\n",
    "   \n",
    "    if x_transforms == []: x_transform = None\n",
    "    else: x_transform = get_chained_transform(x_transforms)\n",
    "    \n",
    "    if episode_transforms == []: episode_transform = None\n",
    "    else: raise Exception(\"episode_transforms not implemented\")\n",
    "    \n",
    "    episode_transform = lambda tup, _prefix=domain_prefix: (_prefix + str(tup[0]), tup[1])\n",
    "\n",
    "\n",
    "    eaf = Episodic_Accessor_Factory(\n",
    "        labels=labels,\n",
    "        domains=domains,\n",
    "        num_examples_per_domain_per_label=num_examples_per_domain_per_label,\n",
    "        iterator_seed=iterator_seed,\n",
    "        dataset_seed=dataset_seed,\n",
    "        n_shot=n_shot,\n",
    "        n_way=n_way,\n",
    "        n_query=n_query,\n",
    "        train_val_test_k_factors=train_val_test_k_factors,\n",
    "        pickle_path=pickle_path,\n",
    "        x_transform_func=x_transform,\n",
    "    )\n",
    "\n",
    "    train, val, test = eaf.get_train(), eaf.get_val(), eaf.get_test()\n",
    "    train = Lazy_Iterable_Wrapper(train, episode_transform)\n",
    "    val = Lazy_Iterable_Wrapper(val, episode_transform)\n",
    "    test = Lazy_Iterable_Wrapper(test, episode_transform)\n",
    "\n",
    "    if source_or_target_dataset==\"source\":\n",
    "        train_original_source.append(train)\n",
    "        val_original_source.append(val)\n",
    "        test_original_source.append(test)\n",
    "\n",
    "        p.domains_source.extend(\n",
    "            [domain_prefix + str(u) for u in domains]\n",
    "        )\n",
    "    elif source_or_target_dataset==\"target\":\n",
    "        train_original_target.append(train)\n",
    "        val_original_target.append(val)\n",
    "        test_original_target.append(test)\n",
    "        p.domains_target.extend(\n",
    "            [domain_prefix + str(u) for u in domains]\n",
    "        )\n",
    "    else:\n",
    "        raise Exception(f\"invalid source_or_target_dataset: {source_or_target_dataset}\")\n",
    "    "
   ]
  },
  {
   "cell_type": "code",
   "execution_count": 13,
   "id": "fe266617",
   "metadata": {
    "execution": {
     "iopub.execute_input": "2022-03-20T08:09:58.601222Z",
     "iopub.status.busy": "2022-03-20T08:09:58.600817Z",
     "iopub.status.idle": "2022-03-20T08:10:02.117940Z",
     "shell.execute_reply": "2022-03-20T08:10:02.117670Z"
    },
    "papermill": {
     "duration": 3.532922,
     "end_time": "2022-03-20T08:10:02.118005",
     "exception": false,
     "start_time": "2022-03-20T08:09:58.585083",
     "status": "completed"
    },
    "tags": []
   },
   "outputs": [],
   "source": [
    "for ds in p.datasets:\n",
    "    add_dataset(**ds)"
   ]
  },
  {
   "cell_type": "code",
   "execution_count": 14,
   "id": "b90d65ac",
   "metadata": {
    "execution": {
     "iopub.execute_input": "2022-03-20T08:10:02.148306Z",
     "iopub.status.busy": "2022-03-20T08:10:02.147795Z",
     "iopub.status.idle": "2022-03-20T08:10:02.158806Z",
     "shell.execute_reply": "2022-03-20T08:10:02.159193Z"
    },
    "papermill": {
     "duration": 0.027242,
     "end_time": "2022-03-20T08:10:02.159330",
     "exception": false,
     "start_time": "2022-03-20T08:10:02.132088",
     "status": "completed"
    },
    "tags": []
   },
   "outputs": [],
   "source": [
    "# from steves_utils.CORES.utils import (\n",
    "#     ALL_NODES,\n",
    "#     ALL_NODES_MINIMUM_1000_EXAMPLES,\n",
    "#     ALL_DAYS\n",
    "# )\n",
    "\n",
    "# add_dataset(\n",
    "#     labels=ALL_NODES,\n",
    "#     domains = ALL_DAYS,\n",
    "#     num_examples_per_domain_per_label=100,\n",
    "#     pickle_path=os.path.join(get_datasets_base_path(), \"cores.stratified_ds.2022A.pkl\"),\n",
    "#     source_or_target_dataset=\"target\",\n",
    "#     x_transform_func=global_x_transform_func,\n",
    "#     domain_modifier=lambda u: f\"cores_{u}\"\n",
    "# )"
   ]
  },
  {
   "cell_type": "code",
   "execution_count": 15,
   "id": "76db484d",
   "metadata": {
    "execution": {
     "iopub.execute_input": "2022-03-20T08:10:02.193171Z",
     "iopub.status.busy": "2022-03-20T08:10:02.192901Z",
     "iopub.status.idle": "2022-03-20T08:10:02.203550Z",
     "shell.execute_reply": "2022-03-20T08:10:02.203768Z"
    },
    "papermill": {
     "duration": 0.026096,
     "end_time": "2022-03-20T08:10:02.203842",
     "exception": false,
     "start_time": "2022-03-20T08:10:02.177746",
     "status": "completed"
    },
    "tags": []
   },
   "outputs": [],
   "source": [
    "# from steves_utils.ORACLE.utils_v2 import (\n",
    "#     ALL_DISTANCES_FEET,\n",
    "#     ALL_RUNS,\n",
    "#     ALL_SERIAL_NUMBERS,\n",
    "# )\n",
    "\n",
    "\n",
    "# add_dataset(\n",
    "#     labels=ALL_SERIAL_NUMBERS,\n",
    "#     domains = list(set(ALL_DISTANCES_FEET) - {2,62}),\n",
    "#     num_examples_per_domain_per_label=100,\n",
    "#     pickle_path=os.path.join(get_datasets_base_path(), \"oracle.Run2_framed_2000Examples_stratified_ds.2022A.pkl\"),\n",
    "#     source_or_target_dataset=\"source\",\n",
    "#     x_transform_func=global_x_transform_func,\n",
    "#     domain_modifier=lambda u: f\"oracle1_{u}\"\n",
    "# )\n"
   ]
  },
  {
   "cell_type": "code",
   "execution_count": 16,
   "id": "97dea9d2",
   "metadata": {
    "execution": {
     "iopub.execute_input": "2022-03-20T08:10:02.239340Z",
     "iopub.status.busy": "2022-03-20T08:10:02.239051Z",
     "iopub.status.idle": "2022-03-20T08:10:02.249781Z",
     "shell.execute_reply": "2022-03-20T08:10:02.250083Z"
    },
    "papermill": {
     "duration": 0.026414,
     "end_time": "2022-03-20T08:10:02.250188",
     "exception": false,
     "start_time": "2022-03-20T08:10:02.223774",
     "status": "completed"
    },
    "tags": []
   },
   "outputs": [],
   "source": [
    "# from steves_utils.ORACLE.utils_v2 import (\n",
    "#     ALL_DISTANCES_FEET,\n",
    "#     ALL_RUNS,\n",
    "#     ALL_SERIAL_NUMBERS,\n",
    "# )\n",
    "\n",
    "\n",
    "# add_dataset(\n",
    "#     labels=ALL_SERIAL_NUMBERS,\n",
    "#     domains = list(set(ALL_DISTANCES_FEET) - {2,62,56}),\n",
    "#     num_examples_per_domain_per_label=100,\n",
    "#     pickle_path=os.path.join(get_datasets_base_path(), \"oracle.Run2_framed_2000Examples_stratified_ds.2022A.pkl\"),\n",
    "#     source_or_target_dataset=\"source\",\n",
    "#     x_transform_func=global_x_transform_func,\n",
    "#     domain_modifier=lambda u: f\"oracle2_{u}\"\n",
    "# )"
   ]
  },
  {
   "cell_type": "code",
   "execution_count": 17,
   "id": "6f289866",
   "metadata": {
    "execution": {
     "iopub.execute_input": "2022-03-20T08:10:02.283921Z",
     "iopub.status.busy": "2022-03-20T08:10:02.283666Z",
     "iopub.status.idle": "2022-03-20T08:10:02.296403Z",
     "shell.execute_reply": "2022-03-20T08:10:02.296805Z"
    },
    "papermill": {
     "duration": 0.028212,
     "end_time": "2022-03-20T08:10:02.296926",
     "exception": false,
     "start_time": "2022-03-20T08:10:02.268714",
     "status": "completed"
    },
    "tags": []
   },
   "outputs": [],
   "source": [
    "# add_dataset(\n",
    "#     labels=list(range(19)),\n",
    "#     domains = [0,1,2],\n",
    "#     num_examples_per_domain_per_label=100,\n",
    "#     pickle_path=os.path.join(get_datasets_base_path(), \"metehan.stratified_ds.2022A.pkl\"),\n",
    "#     source_or_target_dataset=\"target\",\n",
    "#     x_transform_func=global_x_transform_func,\n",
    "#     domain_modifier=lambda u: f\"met_{u}\"\n",
    "# )"
   ]
  },
  {
   "cell_type": "code",
   "execution_count": 18,
   "id": "86a863c3",
   "metadata": {
    "execution": {
     "iopub.execute_input": "2022-03-20T08:10:02.332193Z",
     "iopub.status.busy": "2022-03-20T08:10:02.331795Z",
     "iopub.status.idle": "2022-03-20T08:10:02.342905Z",
     "shell.execute_reply": "2022-03-20T08:10:02.342669Z"
    },
    "papermill": {
     "duration": 0.02691,
     "end_time": "2022-03-20T08:10:02.342966",
     "exception": false,
     "start_time": "2022-03-20T08:10:02.316056",
     "status": "completed"
    },
    "tags": []
   },
   "outputs": [],
   "source": [
    "# # from steves_utils.wisig.utils import (\n",
    "# #     ALL_NODES_MINIMUM_100_EXAMPLES,\n",
    "# #     ALL_NODES_MINIMUM_500_EXAMPLES,\n",
    "# #     ALL_NODES_MINIMUM_1000_EXAMPLES,\n",
    "# #     ALL_DAYS\n",
    "# # )\n",
    "\n",
    "# import steves_utils.wisig.utils as wisig\n",
    "\n",
    "\n",
    "# add_dataset(\n",
    "#     labels=wisig.ALL_NODES_MINIMUM_100_EXAMPLES,\n",
    "#     domains = wisig.ALL_DAYS,\n",
    "#     num_examples_per_domain_per_label=100,\n",
    "#     pickle_path=os.path.join(get_datasets_base_path(), \"wisig.node3-19.stratified_ds.2022A.pkl\"),\n",
    "#     source_or_target_dataset=\"target\",\n",
    "#     x_transform_func=global_x_transform_func,\n",
    "#     domain_modifier=lambda u: f\"wisig_{u}\"\n",
    "# )"
   ]
  },
  {
   "cell_type": "code",
   "execution_count": 19,
   "id": "fd5442bc",
   "metadata": {
    "execution": {
     "iopub.execute_input": "2022-03-20T08:10:02.374998Z",
     "iopub.status.busy": "2022-03-20T08:10:02.374573Z",
     "iopub.status.idle": "2022-03-20T08:10:02.386232Z",
     "shell.execute_reply": "2022-03-20T08:10:02.386452Z"
    },
    "papermill": {
     "duration": 0.029276,
     "end_time": "2022-03-20T08:10:02.386526",
     "exception": false,
     "start_time": "2022-03-20T08:10:02.357250",
     "status": "completed"
    },
    "tags": []
   },
   "outputs": [],
   "source": [
    "###################################\n",
    "# Build the dataset\n",
    "###################################\n",
    "train_original_source = Iterable_Aggregator(train_original_source, p.seed)\n",
    "val_original_source = Iterable_Aggregator(val_original_source, p.seed)\n",
    "test_original_source = Iterable_Aggregator(test_original_source, p.seed)\n",
    "\n",
    "\n",
    "train_original_target = Iterable_Aggregator(train_original_target, p.seed)\n",
    "val_original_target = Iterable_Aggregator(val_original_target, p.seed)\n",
    "test_original_target = Iterable_Aggregator(test_original_target, p.seed)\n",
    "\n",
    "# For CNN We only use X and Y. And we only train on the source.\n",
    "# Properly form the data using a transform lambda and Lazy_Iterable_Wrapper. Finally wrap them in a dataloader\n",
    "\n",
    "transform_lambda = lambda ex: ex[1] # Original is (<domain>, <episode>) so we strip down to episode only\n",
    "\n",
    "train_processed_source = Lazy_Iterable_Wrapper(train_original_source, transform_lambda)\n",
    "val_processed_source   = Lazy_Iterable_Wrapper(val_original_source, transform_lambda)\n",
    "test_processed_source  = Lazy_Iterable_Wrapper(test_original_source, transform_lambda)\n",
    "\n",
    "train_processed_target = Lazy_Iterable_Wrapper(train_original_target, transform_lambda)\n",
    "val_processed_target   = Lazy_Iterable_Wrapper(val_original_target, transform_lambda)\n",
    "test_processed_target  = Lazy_Iterable_Wrapper(test_original_target, transform_lambda)\n",
    "\n",
    "datasets = EasyDict({\n",
    "    \"source\": {\n",
    "        \"original\": {\"train\":train_original_source, \"val\":val_original_source, \"test\":test_original_source},\n",
    "        \"processed\": {\"train\":train_processed_source, \"val\":val_processed_source, \"test\":test_processed_source}\n",
    "    },\n",
    "    \"target\": {\n",
    "        \"original\": {\"train\":train_original_target, \"val\":val_original_target, \"test\":test_original_target},\n",
    "        \"processed\": {\"train\":train_processed_target, \"val\":val_processed_target, \"test\":test_processed_target}\n",
    "    },\n",
    "})"
   ]
  },
  {
   "cell_type": "code",
   "execution_count": 20,
   "id": "5b3c01fc",
   "metadata": {
    "execution": {
     "iopub.execute_input": "2022-03-20T08:10:02.418721Z",
     "iopub.status.busy": "2022-03-20T08:10:02.418316Z",
     "iopub.status.idle": "2022-03-20T08:10:11.887398Z",
     "shell.execute_reply": "2022-03-20T08:10:11.887981Z"
    },
    "papermill": {
     "duration": 9.486079,
     "end_time": "2022-03-20T08:10:11.888118",
     "exception": false,
     "start_time": "2022-03-20T08:10:02.402039",
     "status": "completed"
    },
    "tags": []
   },
   "outputs": [
    {
     "name": "stdout",
     "output_type": "stream",
     "text": [
      "{'C_1', 'W_3', 'C_5', 'C_4', 'W_2', 'W_1', 'W_4', 'C_3', 'C_2'}\n"
     ]
    },
    {
     "name": "stdout",
     "output_type": "stream",
     "text": [
      "{'O_20', 'O_50', 'O_44', 'O_26', 'O_32', 'O_38', 'O_14', 'O_8'}\n"
     ]
    },
    {
     "name": "stdout",
     "output_type": "stream",
     "text": [
      "tensor([[[-5.8290e-03, -3.4181e-03,  1.2482e-02,  ..., -3.0518e-04,\n",
      "          -4.1505e-03,  3.3875e-03],\n",
      "         [ 2.6856e-03, -1.0102e-02, -5.7374e-03,  ...,  2.5025e-03,\n",
      "           1.8311e-03, -1.3550e-02]],\n",
      "\n",
      "        [[-2.6246e-03,  1.8006e-03,  1.3153e-02,  ...,  1.8616e-03,\n",
      "          -3.9063e-03,  2.5635e-03],\n",
      "         [ 1.5259e-04, -7.6601e-03,  3.0824e-03,  ...,  9.1555e-04,\n",
      "          -1.8311e-03, -2.2584e-03]],\n",
      "\n",
      "        [[ 3.5096e-03, -1.2390e-02, -7.6601e-03,  ...,  8.1484e-03,\n",
      "           5.2492e-03, -7.9348e-03],\n",
      "         [ 1.3214e-02,  2.5941e-03, -7.2328e-03,  ...,  5.2186e-03,\n",
      "           1.4222e-02,  2.4415e-03]],\n",
      "\n",
      "        ...,\n",
      "\n",
      "        [[-1.8311e-03,  2.0447e-03,  4.8219e-03,  ...,  2.5941e-03,\n",
      "          -3.1129e-03,  1.0041e-02],\n",
      "         [ 5.0050e-03,  5.3102e-03, -1.1902e-03,  ...,  3.9674e-04,\n",
      "           2.5941e-03,  2.5330e-03]],\n",
      "\n",
      "        [[-3.0518e-05,  2.7161e-03, -1.5870e-03,  ..., -5.9816e-03,\n",
      "          -5.1881e-03,  3.1129e-03],\n",
      "         [-3.9674e-04, -4.4557e-03, -4.9745e-03,  ..., -8.0568e-03,\n",
      "           9.4607e-04, -2.1363e-03]],\n",
      "\n",
      "        [[-1.1597e-03,  1.1597e-03,  1.8921e-03,  ...,  1.7395e-03,\n",
      "          -8.5146e-03, -7.9348e-03],\n",
      "         [-4.2726e-04,  2.7467e-04,  1.5259e-04,  ..., -1.1841e-02,\n",
      "          -9.6438e-03,  7.1718e-03]]])\n"
     ]
    }
   ],
   "source": [
    "from steves_utils.transforms import get_average_magnitude, get_average_power\n",
    "\n",
    "print(set([u for u,_ in val_original_source]))\n",
    "print(set([u for u,_ in val_original_target]))\n",
    "\n",
    "s_x, s_y, q_x, q_y, _ = next(iter(train_processed_source))\n",
    "print(s_x)\n",
    "\n",
    "# for ds in [\n",
    "#     train_processed_source,\n",
    "#     val_processed_source,\n",
    "#     test_processed_source,\n",
    "#     train_processed_target,\n",
    "#     val_processed_target,\n",
    "#     test_processed_target\n",
    "# ]:\n",
    "#     for s_x, s_y, q_x, q_y, _ in ds:\n",
    "#         for X in (s_x, q_x):\n",
    "#             for x in X:\n",
    "#                 assert np.isclose(get_average_magnitude(x.numpy()), 1.0)\n",
    "#                 assert np.isclose(get_average_power(x.numpy()), 1.0)\n",
    "                "
   ]
  },
  {
   "cell_type": "code",
   "execution_count": 21,
   "id": "bbdacba1",
   "metadata": {
    "execution": {
     "iopub.execute_input": "2022-03-20T08:10:11.931340Z",
     "iopub.status.busy": "2022-03-20T08:10:11.931043Z",
     "iopub.status.idle": "2022-03-20T08:10:11.991482Z",
     "shell.execute_reply": "2022-03-20T08:10:11.990956Z"
    },
    "papermill": {
     "duration": 0.078926,
     "end_time": "2022-03-20T08:10:11.991589",
     "exception": false,
     "start_time": "2022-03-20T08:10:11.912663",
     "status": "completed"
    },
    "tags": []
   },
   "outputs": [
    {
     "name": "stdout",
     "output_type": "stream",
     "text": [
      "(2, 256)\n"
     ]
    }
   ],
   "source": [
    "###################################\n",
    "# Build the model\n",
    "###################################\n",
    "# easfsl only wants a tuple for the shape\n",
    "model = Steves_Prototypical_Network(x_net, device=p.device, x_shape=tuple(p.x_shape))\n",
    "optimizer = Adam(params=model.parameters(), lr=p.lr)"
   ]
  },
  {
   "cell_type": "code",
   "execution_count": 22,
   "id": "22b39ac5",
   "metadata": {
    "execution": {
     "iopub.execute_input": "2022-03-20T08:10:12.030062Z",
     "iopub.status.busy": "2022-03-20T08:10:12.029804Z",
     "iopub.status.idle": "2022-03-20T09:23:03.435233Z",
     "shell.execute_reply": "2022-03-20T09:23:03.434984Z"
    },
    "papermill": {
     "duration": 4371.422485,
     "end_time": "2022-03-20T09:23:03.435293",
     "exception": false,
     "start_time": "2022-03-20T08:10:12.012808",
     "status": "completed"
    },
    "tags": []
   },
   "outputs": [
    {
     "name": "stdout",
     "output_type": "stream",
     "text": [
      "epoch: 1, [batch: 1 / 13145], examples_per_second: 23.1927, train_label_loss: 2.1591, \n"
     ]
    },
    {
     "name": "stdout",
     "output_type": "stream",
     "text": [
      "epoch: 1, [batch: 1315 / 13145], examples_per_second: 1718.2083, train_label_loss: 0.0231, \n"
     ]
    },
    {
     "name": "stdout",
     "output_type": "stream",
     "text": [
      "epoch: 1, [batch: 2629 / 13145], examples_per_second: 1718.6795, train_label_loss: 0.0072, \n"
     ]
    },
    {
     "name": "stdout",
     "output_type": "stream",
     "text": [
      "epoch: 1, [batch: 3944 / 13145], examples_per_second: 1717.8485, train_label_loss: 0.0522, \n"
     ]
    },
    {
     "name": "stdout",
     "output_type": "stream",
     "text": [
      "epoch: 1, [batch: 5258 / 13145], examples_per_second: 1715.2763, train_label_loss: 0.0021, \n"
     ]
    },
    {
     "name": "stdout",
     "output_type": "stream",
     "text": [
      "epoch: 1, [batch: 6573 / 13145], examples_per_second: 1720.1209, train_label_loss: 0.0733, \n"
     ]
    },
    {
     "name": "stdout",
     "output_type": "stream",
     "text": [
      "epoch: 1, [batch: 7887 / 13145], examples_per_second: 1719.1288, train_label_loss: 0.0812, \n"
     ]
    },
    {
     "name": "stdout",
     "output_type": "stream",
     "text": [
      "epoch: 1, [batch: 9201 / 13145], examples_per_second: 1717.0121, train_label_loss: 0.5205, \n"
     ]
    },
    {
     "name": "stdout",
     "output_type": "stream",
     "text": [
      "epoch: 1, [batch: 10516 / 13145], examples_per_second: 1718.3428, train_label_loss: 0.0311, \n"
     ]
    },
    {
     "name": "stdout",
     "output_type": "stream",
     "text": [
      "epoch: 1, [batch: 11830 / 13145], examples_per_second: 1719.0923, train_label_loss: 0.0024, \n"
     ]
    },
    {
     "name": "stdout",
     "output_type": "stream",
     "text": [
      "=============================================================\n",
      "epoch: 1, source_val_acc_label: 0.9800, target_val_acc_label: 0.3861, source_val_label_loss: 0.1044, target_val_label_loss: 2.5253, \n",
      "=============================================================\n"
     ]
    },
    {
     "name": "stdout",
     "output_type": "stream",
     "text": [
      "New best\n"
     ]
    },
    {
     "name": "stdout",
     "output_type": "stream",
     "text": [
      "epoch: 2, [batch: 1 / 13179], examples_per_second: 1.6750, train_label_loss: 0.0263, \n"
     ]
    },
    {
     "name": "stdout",
     "output_type": "stream",
     "text": [
      "epoch: 2, [batch: 1318 / 13179], examples_per_second: 1727.5337, train_label_loss: 0.0109, \n"
     ]
    },
    {
     "name": "stdout",
     "output_type": "stream",
     "text": [
      "epoch: 2, [batch: 2636 / 13179], examples_per_second: 1729.2858, train_label_loss: 0.0168, \n"
     ]
    },
    {
     "name": "stdout",
     "output_type": "stream",
     "text": [
      "epoch: 2, [batch: 3954 / 13179], examples_per_second: 1728.6543, train_label_loss: 0.2114, \n"
     ]
    },
    {
     "name": "stdout",
     "output_type": "stream",
     "text": [
      "epoch: 2, [batch: 5272 / 13179], examples_per_second: 1729.6883, train_label_loss: 0.2409, \n"
     ]
    },
    {
     "name": "stdout",
     "output_type": "stream",
     "text": [
      "epoch: 2, [batch: 6590 / 13179], examples_per_second: 1728.6864, train_label_loss: 0.0048, \n"
     ]
    },
    {
     "name": "stdout",
     "output_type": "stream",
     "text": [
      "epoch: 2, [batch: 7907 / 13179], examples_per_second: 1727.5550, train_label_loss: 0.0007, \n"
     ]
    },
    {
     "name": "stdout",
     "output_type": "stream",
     "text": [
      "epoch: 2, [batch: 9225 / 13179], examples_per_second: 1730.1016, train_label_loss: 0.0362, \n"
     ]
    },
    {
     "name": "stdout",
     "output_type": "stream",
     "text": [
      "epoch: 2, [batch: 10543 / 13179], examples_per_second: 1732.3451, train_label_loss: 0.0844, \n"
     ]
    },
    {
     "name": "stdout",
     "output_type": "stream",
     "text": [
      "epoch: 2, [batch: 11861 / 13179], examples_per_second: 1732.4907, train_label_loss: 0.0004, \n"
     ]
    },
    {
     "name": "stdout",
     "output_type": "stream",
     "text": [
      "=============================================================\n",
      "epoch: 2, source_val_acc_label: 0.9849, target_val_acc_label: 0.4385, source_val_label_loss: 0.0649, target_val_label_loss: 2.4279, \n",
      "=============================================================\n"
     ]
    },
    {
     "name": "stdout",
     "output_type": "stream",
     "text": [
      "New best\n"
     ]
    },
    {
     "name": "stdout",
     "output_type": "stream",
     "text": [
      "epoch: 3, [batch: 1 / 13166], examples_per_second: 1.6672, train_label_loss: 0.1044, \n"
     ]
    },
    {
     "name": "stdout",
     "output_type": "stream",
     "text": [
      "epoch: 3, [batch: 1317 / 13166], examples_per_second: 1728.1011, train_label_loss: 0.0026, \n"
     ]
    },
    {
     "name": "stdout",
     "output_type": "stream",
     "text": [
      "epoch: 3, [batch: 2634 / 13166], examples_per_second: 1730.4308, train_label_loss: 0.0720, \n"
     ]
    },
    {
     "name": "stdout",
     "output_type": "stream",
     "text": [
      "epoch: 3, [batch: 3950 / 13166], examples_per_second: 1731.7030, train_label_loss: 0.0022, \n"
     ]
    },
    {
     "name": "stdout",
     "output_type": "stream",
     "text": [
      "epoch: 3, [batch: 5267 / 13166], examples_per_second: 1731.5678, train_label_loss: 0.0067, \n"
     ]
    },
    {
     "name": "stdout",
     "output_type": "stream",
     "text": [
      "epoch: 3, [batch: 6583 / 13166], examples_per_second: 1731.1481, train_label_loss: 0.0101, \n"
     ]
    },
    {
     "name": "stdout",
     "output_type": "stream",
     "text": [
      "epoch: 3, [batch: 7900 / 13166], examples_per_second: 1730.0450, train_label_loss: 0.0042, \n"
     ]
    },
    {
     "name": "stdout",
     "output_type": "stream",
     "text": [
      "epoch: 3, [batch: 9216 / 13166], examples_per_second: 1729.1610, train_label_loss: 0.0001, \n"
     ]
    },
    {
     "name": "stdout",
     "output_type": "stream",
     "text": [
      "epoch: 3, [batch: 10533 / 13166], examples_per_second: 1732.7716, train_label_loss: 0.2538, \n"
     ]
    },
    {
     "name": "stdout",
     "output_type": "stream",
     "text": [
      "epoch: 3, [batch: 11849 / 13166], examples_per_second: 1731.0937, train_label_loss: 0.0017, \n"
     ]
    },
    {
     "name": "stdout",
     "output_type": "stream",
     "text": [
      "=============================================================\n",
      "epoch: 3, source_val_acc_label: 0.9864, target_val_acc_label: 0.4580, source_val_label_loss: 0.0591, target_val_label_loss: 2.3782, \n",
      "=============================================================\n"
     ]
    },
    {
     "name": "stdout",
     "output_type": "stream",
     "text": [
      "New best\n"
     ]
    },
    {
     "name": "stdout",
     "output_type": "stream",
     "text": [
      "epoch: 4, [batch: 1 / 13172], examples_per_second: 1.6546, train_label_loss: 0.0023, \n"
     ]
    },
    {
     "name": "stdout",
     "output_type": "stream",
     "text": [
      "epoch: 4, [batch: 1318 / 13172], examples_per_second: 1729.5385, train_label_loss: 0.1020, \n"
     ]
    },
    {
     "name": "stdout",
     "output_type": "stream",
     "text": [
      "epoch: 4, [batch: 2635 / 13172], examples_per_second: 1729.4179, train_label_loss: 0.0009, \n"
     ]
    },
    {
     "name": "stdout",
     "output_type": "stream",
     "text": [
      "epoch: 4, [batch: 3952 / 13172], examples_per_second: 1729.4221, train_label_loss: 0.0008, \n"
     ]
    },
    {
     "name": "stdout",
     "output_type": "stream",
     "text": [
      "epoch: 4, [batch: 5269 / 13172], examples_per_second: 1728.8357, train_label_loss: 0.1416, \n"
     ]
    },
    {
     "name": "stdout",
     "output_type": "stream",
     "text": [
      "epoch: 4, [batch: 6586 / 13172], examples_per_second: 1730.8522, train_label_loss: 0.0506, \n"
     ]
    },
    {
     "name": "stdout",
     "output_type": "stream",
     "text": [
      "epoch: 4, [batch: 7903 / 13172], examples_per_second: 1732.0793, train_label_loss: 0.2913, \n"
     ]
    },
    {
     "name": "stdout",
     "output_type": "stream",
     "text": [
      "epoch: 4, [batch: 9220 / 13172], examples_per_second: 1729.5209, train_label_loss: 0.1172, \n"
     ]
    },
    {
     "name": "stdout",
     "output_type": "stream",
     "text": [
      "epoch: 4, [batch: 10537 / 13172], examples_per_second: 1728.5401, train_label_loss: 0.0025, \n"
     ]
    },
    {
     "name": "stdout",
     "output_type": "stream",
     "text": [
      "epoch: 4, [batch: 11854 / 13172], examples_per_second: 1729.0722, train_label_loss: 0.0005, \n"
     ]
    },
    {
     "name": "stdout",
     "output_type": "stream",
     "text": [
      "=============================================================\n",
      "epoch: 4, source_val_acc_label: 0.9872, target_val_acc_label: 0.3599, source_val_label_loss: 0.0542, target_val_label_loss: 2.3838, \n",
      "=============================================================\n"
     ]
    },
    {
     "name": "stdout",
     "output_type": "stream",
     "text": [
      "epoch: 5, [batch: 1 / 13165], examples_per_second: 1.6211, train_label_loss: 0.0100, \n"
     ]
    },
    {
     "name": "stdout",
     "output_type": "stream",
     "text": [
      "epoch: 5, [batch: 1317 / 13165], examples_per_second: 2072.8017, train_label_loss: 0.0002, \n"
     ]
    },
    {
     "name": "stdout",
     "output_type": "stream",
     "text": [
      "epoch: 5, [batch: 2633 / 13165], examples_per_second: 2003.0941, train_label_loss: 0.0737, \n"
     ]
    },
    {
     "name": "stdout",
     "output_type": "stream",
     "text": [
      "epoch: 5, [batch: 3950 / 13165], examples_per_second: 2259.2595, train_label_loss: 0.0002, \n"
     ]
    },
    {
     "name": "stdout",
     "output_type": "stream",
     "text": [
      "epoch: 5, [batch: 5266 / 13165], examples_per_second: 3084.3412, train_label_loss: 0.0027, \n"
     ]
    },
    {
     "name": "stdout",
     "output_type": "stream",
     "text": [
      "epoch: 5, [batch: 6583 / 13165], examples_per_second: 3117.2414, train_label_loss: 0.0116, \n"
     ]
    },
    {
     "name": "stdout",
     "output_type": "stream",
     "text": [
      "epoch: 5, [batch: 7899 / 13165], examples_per_second: 3142.1955, train_label_loss: 0.1038, \n"
     ]
    },
    {
     "name": "stdout",
     "output_type": "stream",
     "text": [
      "epoch: 5, [batch: 9215 / 13165], examples_per_second: 3135.9573, train_label_loss: 0.0002, \n"
     ]
    },
    {
     "name": "stdout",
     "output_type": "stream",
     "text": [
      "epoch: 5, [batch: 10532 / 13165], examples_per_second: 2182.5993, train_label_loss: 0.0001, \n"
     ]
    },
    {
     "name": "stdout",
     "output_type": "stream",
     "text": [
      "epoch: 5, [batch: 11848 / 13165], examples_per_second: 1730.1204, train_label_loss: 0.0012, \n"
     ]
    },
    {
     "name": "stdout",
     "output_type": "stream",
     "text": [
      "=============================================================\n",
      "epoch: 5, source_val_acc_label: 0.9872, target_val_acc_label: 0.3804, source_val_label_loss: 0.0542, target_val_label_loss: 2.2701, \n",
      "=============================================================\n"
     ]
    },
    {
     "name": "stdout",
     "output_type": "stream",
     "text": [
      "epoch: 6, [batch: 1 / 13167], examples_per_second: 1.4649, train_label_loss: 0.0071, \n"
     ]
    },
    {
     "name": "stdout",
     "output_type": "stream",
     "text": [
      "epoch: 6, [batch: 1317 / 13167], examples_per_second: 1725.8394, train_label_loss: 0.0013, \n"
     ]
    },
    {
     "name": "stdout",
     "output_type": "stream",
     "text": [
      "epoch: 6, [batch: 2634 / 13167], examples_per_second: 1727.7956, train_label_loss: 0.0005, \n"
     ]
    },
    {
     "name": "stdout",
     "output_type": "stream",
     "text": [
      "epoch: 6, [batch: 3950 / 13167], examples_per_second: 1731.5494, train_label_loss: 0.0022, \n"
     ]
    },
    {
     "name": "stdout",
     "output_type": "stream",
     "text": [
      "epoch: 6, [batch: 5267 / 13167], examples_per_second: 1725.6414, train_label_loss: 0.0002, \n"
     ]
    },
    {
     "name": "stdout",
     "output_type": "stream",
     "text": [
      "epoch: 6, [batch: 6584 / 13167], examples_per_second: 1728.9527, train_label_loss: 0.0000, \n"
     ]
    },
    {
     "name": "stdout",
     "output_type": "stream",
     "text": [
      "epoch: 6, [batch: 7900 / 13167], examples_per_second: 1730.0740, train_label_loss: 0.0002, \n"
     ]
    },
    {
     "name": "stdout",
     "output_type": "stream",
     "text": [
      "epoch: 6, [batch: 9217 / 13167], examples_per_second: 1938.8098, train_label_loss: 0.0084, \n"
     ]
    },
    {
     "name": "stdout",
     "output_type": "stream",
     "text": [
      "epoch: 6, [batch: 10533 / 13167], examples_per_second: 1963.4414, train_label_loss: 0.0506, \n"
     ]
    },
    {
     "name": "stdout",
     "output_type": "stream",
     "text": [
      "epoch: 6, [batch: 11850 / 13167], examples_per_second: 1732.1363, train_label_loss: 0.0000, \n"
     ]
    },
    {
     "name": "stdout",
     "output_type": "stream",
     "text": [
      "=============================================================\n",
      "epoch: 6, source_val_acc_label: 0.9873, target_val_acc_label: 0.2873, source_val_label_loss: 0.0522, target_val_label_loss: 2.3451, \n",
      "=============================================================\n"
     ]
    },
    {
     "name": "stdout",
     "output_type": "stream",
     "text": [
      "epoch: 7, [batch: 1 / 13157], examples_per_second: 1.4729, train_label_loss: 0.0005, \n"
     ]
    },
    {
     "name": "stdout",
     "output_type": "stream",
     "text": [
      "epoch: 7, [batch: 1316 / 13157], examples_per_second: 1730.2651, train_label_loss: 0.0005, \n"
     ]
    },
    {
     "name": "stdout",
     "output_type": "stream",
     "text": [
      "epoch: 7, [batch: 2632 / 13157], examples_per_second: 1730.4748, train_label_loss: 0.0002, \n"
     ]
    },
    {
     "name": "stdout",
     "output_type": "stream",
     "text": [
      "epoch: 7, [batch: 3947 / 13157], examples_per_second: 1732.4428, train_label_loss: 0.0040, \n"
     ]
    },
    {
     "name": "stdout",
     "output_type": "stream",
     "text": [
      "epoch: 7, [batch: 5263 / 13157], examples_per_second: 1728.6117, train_label_loss: 0.0001, \n"
     ]
    },
    {
     "name": "stdout",
     "output_type": "stream",
     "text": [
      "epoch: 7, [batch: 6579 / 13157], examples_per_second: 1729.0122, train_label_loss: 0.0359, \n"
     ]
    },
    {
     "name": "stdout",
     "output_type": "stream",
     "text": [
      "epoch: 7, [batch: 7894 / 13157], examples_per_second: 1732.0728, train_label_loss: 0.0780, \n"
     ]
    },
    {
     "name": "stdout",
     "output_type": "stream",
     "text": [
      "epoch: 7, [batch: 9210 / 13157], examples_per_second: 1967.7466, train_label_loss: 0.0003, \n"
     ]
    },
    {
     "name": "stdout",
     "output_type": "stream",
     "text": [
      "epoch: 7, [batch: 10525 / 13157], examples_per_second: 1942.1849, train_label_loss: 0.0024, \n"
     ]
    },
    {
     "name": "stdout",
     "output_type": "stream",
     "text": [
      "epoch: 7, [batch: 11841 / 13157], examples_per_second: 1728.8389, train_label_loss: 0.0065, \n"
     ]
    },
    {
     "name": "stdout",
     "output_type": "stream",
     "text": [
      "=============================================================\n",
      "epoch: 7, source_val_acc_label: 0.9874, target_val_acc_label: 0.2838, source_val_label_loss: 0.0525, target_val_label_loss: 2.3571, \n",
      "=============================================================\n"
     ]
    },
    {
     "name": "stdout",
     "output_type": "stream",
     "text": [
      "Patience (3) exhausted\n"
     ]
    }
   ],
   "source": [
    "###################################\n",
    "# train\n",
    "###################################\n",
    "jig = PTN_Train_Eval_Test_Jig(model, p.BEST_MODEL_PATH, p.device)\n",
    "\n",
    "jig.train(\n",
    "    train_iterable=datasets.source.processed.train,\n",
    "    source_val_iterable=datasets.source.processed.val,\n",
    "    target_val_iterable=datasets.target.processed.val,\n",
    "    num_epochs=p.n_epoch,\n",
    "    num_logs_per_epoch=p.NUM_LOGS_PER_EPOCH,\n",
    "    patience=p.patience,\n",
    "    optimizer=optimizer,\n",
    "    criteria_for_best=p.criteria_for_best,\n",
    ")"
   ]
  },
  {
   "cell_type": "code",
   "execution_count": 23,
   "id": "31e8fabf",
   "metadata": {
    "execution": {
     "iopub.execute_input": "2022-03-20T09:23:03.498419Z",
     "iopub.status.busy": "2022-03-20T09:23:03.498159Z",
     "iopub.status.idle": "2022-03-20T09:23:03.513021Z",
     "shell.execute_reply": "2022-03-20T09:23:03.513423Z"
    },
    "papermill": {
     "duration": 0.047897,
     "end_time": "2022-03-20T09:23:03.513548",
     "exception": false,
     "start_time": "2022-03-20T09:23:03.465651",
     "status": "completed"
    },
    "tags": []
   },
   "outputs": [],
   "source": [
    "total_experiment_time_secs = time.time() - start_time_secs"
   ]
  },
  {
   "cell_type": "code",
   "execution_count": 24,
   "id": "87b9595b",
   "metadata": {
    "execution": {
     "iopub.execute_input": "2022-03-20T09:23:03.581018Z",
     "iopub.status.busy": "2022-03-20T09:23:03.580743Z",
     "iopub.status.idle": "2022-03-20T09:26:52.827109Z",
     "shell.execute_reply": "2022-03-20T09:26:52.827582Z"
    },
    "papermill": {
     "duration": 229.279768,
     "end_time": "2022-03-20T09:26:52.827730",
     "exception": false,
     "start_time": "2022-03-20T09:23:03.547962",
     "status": "completed"
    },
    "tags": []
   },
   "outputs": [],
   "source": [
    "###################################\n",
    "# Evaluate the model\n",
    "###################################\n",
    "source_test_label_accuracy, source_test_label_loss = jig.test(datasets.source.processed.test)\n",
    "target_test_label_accuracy, target_test_label_loss = jig.test(datasets.target.processed.test)\n",
    "\n",
    "source_val_label_accuracy, source_val_label_loss = jig.test(datasets.source.processed.val)\n",
    "target_val_label_accuracy, target_val_label_loss = jig.test(datasets.target.processed.val)\n",
    "\n",
    "history = jig.get_history()\n",
    "\n",
    "total_epochs_trained = len(history[\"epoch_indices\"])\n",
    "\n",
    "val_dl = Iterable_Aggregator((datasets.source.original.val,datasets.target.original.val))\n",
    "\n",
    "confusion = ptn_confusion_by_domain_over_dataloader(model, p.device, val_dl)\n",
    "per_domain_accuracy = per_domain_accuracy_from_confusion(confusion)\n",
    "\n",
    "# Add a key to per_domain_accuracy for if it was a source domain\n",
    "for domain, accuracy in per_domain_accuracy.items():\n",
    "    per_domain_accuracy[domain] = {\n",
    "        \"accuracy\": accuracy,\n",
    "        \"source?\": domain in p.domains_source\n",
    "    }\n",
    "\n",
    "# Do an independent accuracy assesment JUST TO BE SURE!\n",
    "# _source_test_label_accuracy = independent_accuracy_assesment(model, datasets.source.processed.test, p.device)\n",
    "# _target_test_label_accuracy = independent_accuracy_assesment(model, datasets.target.processed.test, p.device)\n",
    "# _source_val_label_accuracy = independent_accuracy_assesment(model, datasets.source.processed.val, p.device)\n",
    "# _target_val_label_accuracy = independent_accuracy_assesment(model, datasets.target.processed.val, p.device)\n",
    "\n",
    "# assert(_source_test_label_accuracy == source_test_label_accuracy)\n",
    "# assert(_target_test_label_accuracy == target_test_label_accuracy)\n",
    "# assert(_source_val_label_accuracy == source_val_label_accuracy)\n",
    "# assert(_target_val_label_accuracy == target_val_label_accuracy)\n",
    "\n",
    "experiment = {\n",
    "    \"experiment_name\": p.experiment_name,\n",
    "    \"parameters\": dict(p),\n",
    "    \"results\": {\n",
    "        \"source_test_label_accuracy\": source_test_label_accuracy,\n",
    "        \"source_test_label_loss\": source_test_label_loss,\n",
    "        \"target_test_label_accuracy\": target_test_label_accuracy,\n",
    "        \"target_test_label_loss\": target_test_label_loss,\n",
    "        \"source_val_label_accuracy\": source_val_label_accuracy,\n",
    "        \"source_val_label_loss\": source_val_label_loss,\n",
    "        \"target_val_label_accuracy\": target_val_label_accuracy,\n",
    "        \"target_val_label_loss\": target_val_label_loss,\n",
    "        \"total_epochs_trained\": total_epochs_trained,\n",
    "        \"total_experiment_time_secs\": total_experiment_time_secs,\n",
    "        \"confusion\": confusion,\n",
    "        \"per_domain_accuracy\": per_domain_accuracy,\n",
    "    },\n",
    "    \"history\": history,\n",
    "    \"dataset_metrics\": get_dataset_metrics(datasets, \"ptn\"),\n",
    "}"
   ]
  },
  {
   "cell_type": "code",
   "execution_count": 25,
   "id": "54a21829",
   "metadata": {
    "execution": {
     "iopub.execute_input": "2022-03-20T09:26:52.902606Z",
     "iopub.status.busy": "2022-03-20T09:26:52.902340Z",
     "iopub.status.idle": "2022-03-20T09:26:53.026036Z",
     "shell.execute_reply": "2022-03-20T09:26:53.025233Z"
    },
    "papermill": {
     "duration": 0.162743,
     "end_time": "2022-03-20T09:26:53.026183",
     "exception": false,
     "start_time": "2022-03-20T09:26:52.863440",
     "status": "completed"
    },
    "tags": []
   },
   "outputs": [
    {
     "data": {
      "image/png": "[encoded data removed]",
      "text/plain": [
       "<Figure size 1080x504 with 1 Axes>"
      ]
     },
     "metadata": {
      "needs_background": "light"
     },
     "output_type": "display_data"
    }
   ],
   "source": [
    "ax = get_loss_curve(experiment)\n",
    "plt.show()"
   ]
  },
  {
   "cell_type": "code",
   "execution_count": 26,
   "id": "fd8a0f60",
   "metadata": {
    "execution": {
     "iopub.execute_input": "2022-03-20T09:26:53.104109Z",
     "iopub.status.busy": "2022-03-20T09:26:53.103526Z",
     "iopub.status.idle": "2022-03-20T09:26:53.246335Z",
     "shell.execute_reply": "2022-03-20T09:26:53.246625Z"
    },
    "papermill": {
     "duration": 0.18226,
     "end_time": "2022-03-20T09:26:53.246721",
     "exception": false,
     "start_time": "2022-03-20T09:26:53.064461",
     "status": "completed"
    },
    "tags": []
   },
   "outputs": [
    {
     "data": {
      "text/plain": [
       "<AxesSubplot:title={'center':'Results'}>"
      ]
     },
     "execution_count": 26,
     "metadata": {},
     "output_type": "execute_result"
    },
    {
     "data": {
      "image/png": "[encoded data removed]",
      "text/plain": [
       "<Figure size 1080x504 with 1 Axes>"
      ]
     },
     "metadata": {
      "needs_background": "light"
     },
     "output_type": "display_data"
    }
   ],
   "source": [
    "get_results_table(experiment)"
   ]
  },
  {
   "cell_type": "code",
   "execution_count": 27,
   "id": "cf8dc689",
   "metadata": {
    "execution": {
     "iopub.execute_input": "2022-03-20T09:26:53.325588Z",
     "iopub.status.busy": "2022-03-20T09:26:53.325317Z",
     "iopub.status.idle": "2022-03-20T09:26:53.478858Z",
     "shell.execute_reply": "2022-03-20T09:26:53.479069Z"
    },
    "papermill": {
     "duration": 0.188967,
     "end_time": "2022-03-20T09:26:53.479150",
     "exception": false,
     "start_time": "2022-03-20T09:26:53.290183",
     "status": "completed"
    },
    "tags": []
   },
   "outputs": [
    {
     "data": {
      "text/plain": [
       "<AxesSubplot:title={'center':'Per Domain Validation Accuracy'}, xlabel='domain'>"
      ]
     },
     "execution_count": 27,
     "metadata": {},
     "output_type": "execute_result"
    },
    {
     "data": {
      "image/png": "[encoded data removed]",
      "text/plain": [
       "<Figure size 1080x504 with 1 Axes>"
      ]
     },
     "metadata": {
      "needs_background": "light"
     },
     "output_type": "display_data"
    }
   ],
   "source": [
    "get_domain_accuracies(experiment)"
   ]
  },
  {
   "cell_type": "code",
   "execution_count": 28,
   "id": "a74ae082",
   "metadata": {
    "execution": {
     "iopub.execute_input": "2022-03-20T09:26:53.545851Z",
     "iopub.status.busy": "2022-03-20T09:26:53.544717Z",
     "iopub.status.idle": "2022-03-20T09:26:53.562555Z",
     "shell.execute_reply": "2022-03-20T09:26:53.562950Z"
    },
    "papermill": {
     "duration": 0.051905,
     "end_time": "2022-03-20T09:26:53.563077",
     "exception": false,
     "start_time": "2022-03-20T09:26:53.511172",
     "status": "completed"
    },
    "tags": []
   },
   "outputs": [
    {
     "name": "stdout",
     "output_type": "stream",
     "text": [
      "Source Test Label Accuracy: 0.9858337830545062 Target Test Label Accuracy: 0.45849609375\n",
      "Source Val Label Accuracy: 0.9863786461199779 Target Val Label Accuracy: 0.45797526041666664\n"
     ]
    }
   ],
   "source": [
    "print(\"Source Test Label Accuracy:\", experiment[\"results\"][\"source_test_label_accuracy\"], \"Target Test Label Accuracy:\", experiment[\"results\"][\"target_test_label_accuracy\"])\n",
    "print(\"Source Val Label Accuracy:\", experiment[\"results\"][\"source_val_label_accuracy\"], \"Target Val Label Accuracy:\", experiment[\"results\"][\"target_val_label_accuracy\"])"
   ]
  },
  {
   "cell_type": "code",
   "execution_count": 29,
   "id": "dacca602",
   "metadata": {
    "execution": {
     "iopub.execute_input": "2022-03-20T09:26:53.635033Z",
     "iopub.status.busy": "2022-03-20T09:26:53.634780Z",
     "iopub.status.idle": "2022-03-20T09:26:53.652682Z",
     "shell.execute_reply": "2022-03-20T09:26:53.652985Z"
    },
    "papermill": {
     "duration": 0.052789,
     "end_time": "2022-03-20T09:26:53.653087",
     "exception": false,
     "start_time": "2022-03-20T09:26:53.600298",
     "status": "completed"
    },
    "tags": [
     "experiment_json"
    ]
   },
   "outputs": [
    {
     "data": {
      "text/plain": [
       "'{\"experiment_name\": \"tl_2v2:cores+wisig -> oracle.run1.framed\", \"parameters\": {\"experiment_name\": \"tl_2v2:cores+wisig -> oracle.run1.framed\", \"device\": \"cuda\", \"lr\": 0.0001, \"n_shot\": 3, \"n_query\": 2, \"train_k_factor\": 3, \"val_k_factor\": 2, \"test_k_factor\": 2, \"torch_default_dtype\": \"torch.float32\", \"n_epoch\": 50, \"patience\": 3, \"criteria_for_best\": \"target_accuracy\", \"x_net\": [{\"class\": \"nnReshape\", \"kargs\": {\"shape\": [-1, 1, 2, 256]}}, {\"class\": \"Conv2d\", \"kargs\": {\"in_channels\": 1, \"out_channels\": 256, \"kernel_size\": [1, 7], \"bias\": false, \"padding\": [0, 3]}}, {\"class\": \"ReLU\", \"kargs\": {\"inplace\": true}}, {\"class\": \"BatchNorm2d\", \"kargs\": {\"num_features\": 256}}, {\"class\": \"Conv2d\", \"kargs\": {\"in_channels\": 256, \"out_channels\": 80, \"kernel_size\": [2, 7], \"bias\": true, \"padding\": [0, 3]}}, {\"class\": \"ReLU\", \"kargs\": {\"inplace\": true}}, {\"class\": \"BatchNorm2d\", \"kargs\": {\"num_features\": 80}}, {\"class\": \"Flatten\", \"kargs\": {}}, {\"class\": \"Linear\", \"kargs\": {\"in_features\": 20480, \"out_features\": 256}}, {\"class\": \"ReLU\", \"kargs\": {\"inplace\": true}}, {\"class\": \"BatchNorm1d\", \"kargs\": {\"num_features\": 256}}, {\"class\": \"Linear\", \"kargs\": {\"in_features\": 256, \"out_features\": 256}}], \"NUM_LOGS_PER_EPOCH\": 10, \"BEST_MODEL_PATH\": \"./best_model.pth\", \"n_way\": 16, \"datasets\": [{\"labels\": [\"1-10.\", \"1-11.\", \"1-15.\", \"1-16.\", \"1-17.\", \"1-18.\", \"1-19.\", \"10-4.\", \"10-7.\", \"11-1.\", \"11-14.\", \"11-17.\", \"11-20.\", \"11-7.\", \"13-20.\", \"13-8.\", \"14-10.\", \"14-11.\", \"14-14.\", \"14-7.\", \"15-1.\", \"15-20.\", \"16-1.\", \"16-16.\", \"17-10.\", \"17-11.\", \"17-2.\", \"19-1.\", \"19-16.\", \"19-19.\", \"19-20.\", \"19-3.\", \"2-10.\", \"2-11.\", \"2-17.\", \"2-18.\", \"2-20.\", \"2-3.\", \"2-4.\", \"2-5.\", \"2-6.\", \"2-7.\", \"2-8.\", \"3-13.\", \"3-18.\", \"3-3.\", \"4-1.\", \"4-10.\", \"4-11.\", \"4-19.\", \"5-5.\", \"6-15.\", \"7-10.\", \"7-14.\", \"8-18.\", \"8-20.\", \"8-3.\", \"8-8.\"], \"domains\": [1, 2, 3, 4, 5], \"num_examples_per_domain_per_label\": -1, \"pickle_path\": \"/mnt/wd500GB/CSC500/csc500-main/datasets/cores.stratified_ds.2022A.pkl\", \"source_or_target_dataset\": \"source\", \"x_transforms\": [], \"episode_transforms\": [], \"domain_prefix\": \"C_\"}, {\"labels\": [\"1-10\", \"1-12\", \"1-14\", \"1-16\", \"1-18\", \"1-19\", \"1-8\", \"10-11\", \"10-17\", \"10-4\", \"10-7\", \"11-1\", \"11-10\", \"11-19\", \"11-20\", \"11-4\", \"11-7\", \"12-19\", \"12-20\", \"12-7\", \"13-14\", \"13-18\", \"13-19\", \"13-20\", \"13-3\", \"13-7\", \"14-10\", \"14-11\", \"14-12\", \"14-13\", \"14-14\", \"14-19\", \"14-20\", \"14-7\", \"14-8\", \"14-9\", \"15-1\", \"15-19\", \"15-6\", \"16-1\", \"16-16\", \"16-19\", \"16-20\", \"17-10\", \"17-11\", \"18-1\", \"18-10\", \"18-11\", \"18-12\", \"18-13\", \"18-14\", \"18-15\", \"18-16\", \"18-17\", \"18-19\", \"18-2\", \"18-20\", \"18-4\", \"18-5\", \"18-7\", \"18-8\", \"18-9\", \"19-1\", \"19-10\", \"19-11\", \"19-12\", \"19-13\", \"19-14\", \"19-15\", \"19-19\", \"19-2\", \"19-20\", \"19-3\", \"19-4\", \"19-6\", \"19-7\", \"19-8\", \"19-9\", \"2-1\", \"2-13\", \"2-15\", \"2-3\", \"2-4\", \"2-5\", \"2-6\", \"2-7\", \"2-8\", \"20-1\", \"20-12\", \"20-14\", \"20-15\", \"20-16\", \"20-18\", \"20-19\", \"20-20\", \"20-3\", \"20-4\", \"20-5\", \"20-7\", \"20-8\", \"3-1\", \"3-13\", \"3-18\", \"3-2\", \"3-8\", \"4-1\", \"4-10\", \"4-11\", \"5-1\", \"5-5\", \"6-1\", \"6-15\", \"6-6\", \"7-10\", \"7-11\", \"7-12\", \"7-13\", \"7-14\", \"7-7\", \"7-8\", \"7-9\", \"8-1\", \"8-13\", \"8-14\", \"8-18\", \"8-20\", \"8-3\", \"8-8\", \"9-1\", \"9-7\"], \"domains\": [1, 2, 3, 4], \"num_examples_per_domain_per_label\": -1, \"pickle_path\": \"/mnt/wd500GB/CSC500/csc500-main/datasets/wisig.node3-19.stratified_ds.2022A.pkl\", \"source_or_target_dataset\": \"source\", \"x_transforms\": [], \"episode_transforms\": [], \"domain_prefix\": \"W_\"}, {\"labels\": [\"3123D52\", \"3123D65\", \"3123D79\", \"3123D80\", \"3123D54\", \"3123D70\", \"3123D7B\", \"3123D89\", \"3123D58\", \"3123D76\", \"3123D7D\", \"3123EFE\", \"3123D64\", \"3123D78\", \"3123D7E\", \"3124E4A\"], \"domains\": [32, 38, 8, 44, 14, 50, 20, 26], \"num_examples_per_domain_per_label\": 2000, \"pickle_path\": \"/mnt/wd500GB/CSC500/csc500-main/datasets/oracle.Run1_framed_2000Examples_stratified_ds.2022A.pkl\", \"source_or_target_dataset\": \"target\", \"x_transforms\": [], \"episode_transforms\": [], \"domain_prefix\": \"O_\"}], \"seed\": 154325, \"dataset_seed\": 154325, \"x_shape\": [2, 256], \"domains_source\": [\"C_1\", \"C_2\", \"C_3\", \"C_4\", \"C_5\", \"W_1\", \"W_2\", \"W_3\", \"W_4\"], \"domains_target\": [\"O_32\", \"O_38\", \"O_8\", \"O_44\", \"O_14\", \"O_50\", \"O_20\", \"O_26\"]}, \"results\": {\"source_test_label_accuracy\": 0.9858337830545062, \"source_test_label_loss\": 0.06295393407344818, \"target_test_label_accuracy\": 0.45849609375, \"target_test_label_loss\": 2.3782448768615723, \"source_val_label_accuracy\": 0.9863786461199779, \"source_val_label_loss\": 0.05911823362112045, \"target_val_label_accuracy\": 0.45797526041666664, \"target_val_label_loss\": 2.3781940937042236, \"total_epochs_trained\": 7, \"total_experiment_time_secs\": 4385.097370862961, \"confusion\": {\"C_2\": {\"21\": {\"21\": 120}, \"4\": {\"4\": 130}, \"6\": {\"6\": 124}, \"10\": {\"10\": 112}, \"33\": {\"33\": 28}, \"56\": {\"56\": 120, \"22\": 2}, \"20\": {\"20\": 132}, \"24\": {\"24\": 96}, \"45\": {\"45\": 128}, \"32\": {\"32\": 28}, \"27\": {\"27\": 148}, \"53\": {\"53\": 136}, \"8\": {\"8\": 160}, \"54\": {\"54\": 108}, \"50\": {\"50\": 134}, \"44\": {\"44\": 100}, \"5\": {\"5\": 120}, \"38\": {\"38\": 20}, \"19\": {\"19\": 132}, \"1\": {\"1\": 112}, \"30\": {\"30\": 144}, \"15\": {\"15\": 144}, \"23\": {\"23\": 146}, \"35\": {\"35\": 32}, \"22\": {\"22\": 128}, \"40\": {\"40\": 140}, \"46\": {\"46\": 126}, \"3\": {\"3\": 92}, \"48\": {\"48\": 148}, \"52\": {\"52\": 124}, \"2\": {\"2\": 32}, \"26\": {\"26\": 24}, \"17\": {\"17\": 104}, \"55\": {\"55\": 144}, \"51\": {\"51\": 122}, \"42\": {\"42\": 36}, \"41\": {\"41\": 20}, \"31\": {\"31\": 28}, \"16\": {\"16\": 138}, \"36\": {\"36\": 116}, \"49\": {\"49\": 24}, \"0\": {\"0\": 48}, \"18\": {\"18\": 48}, \"25\": {\"25\": 146}, \"9\": {\"9\": 122}, \"47\": {\"47\": 132}, \"7\": {\"7\": 36}, \"37\": {\"37\": 36}, \"13\": {\"13\": 116}, \"14\": {\"14\": 24}, \"34\": {\"34\": 28}, \"57\": {\"57\": 140}, \"11\": {\"11\": 138}, \"39\": {\"39\": 28}, \"12\": {\"12\": 92}, \"28\": {\"28\": 28}, \"29\": {\"29\": 128}, \"43\": {\"43\": 140}}, \"W_2\": {\"56\": {\"56\": 12}, \"12\": {\"12\": 84, \"8\": 1, \"78\": 1, \"26\": 1, \"70\": 1}, \"15\": {\"15\": 112, \"26\": 2, \"44\": 1, \"69\": 1}, \"26\": {\"26\": 128, \"24\": 2, \"21\": 1, \"84\": 1}, \"82\": {\"82\": 36}, \"9\": {\"9\": 32}, \"49\": {\"47\": 2, \"49\": 21, \"58\": 1}, \"55\": {\"55\": 16}, \"102\": {\"102\": 124}, \"85\": {\"85\": 32}, \"73\": {\"73\": 28}, \"47\": {\"47\": 9, \"72\": 1, \"84\": 1, \"17\": 1}, \"20\": {\"20\": 14, \"100\": 1, \"88\": 1}, \"117\": {\"117\": 112, \"87\": 1, \"21\": 2, \"70\": 1}, \"122\": {\"122\": 134, \"87\": 1, \"71\": 1, \"8\": 1, \"70\": 1, \"27\": 2}, \"113\": {\"113\": 70, \"90\": 1, \"26\": 1}, \"87\": {\"87\": 105, \"69\": 2, \"88\": 1, \"21\": 1, \"24\": 2, \"26\": 1}, \"21\": {\"21\": 46, \"31\": 1, \"78\": 1}, \"106\": {\"106\": 115, \"12\": 1, \"70\": 1, \"62\": 2, \"21\": 1}, \"3\": {\"3\": 132, \"88\": 1, \"24\": 2, \"26\": 1}, \"126\": {\"126\": 120}, \"41\": {\"41\": 19, \"65\": 1}, \"76\": {\"76\": 16}, \"60\": {\"60\": 28}, \"94\": {\"94\": 59, \"88\": 1, \"24\": 1, \"126\": 2, \"36\": 1}, \"50\": {\"50\": 16}, \"97\": {\"97\": 20}, \"115\": {\"115\": 12}, \"38\": {\"38\": 16}, \"43\": {\"43\": 117, \"70\": 1, \"55\": 1, \"17\": 1, \"27\": 1, \"5\": 1, \"78\": 1, \"24\": 1}, \"67\": {\"67\": 16}, \"18\": {\"18\": 121, \"21\": 1, \"0\": 2, \"62\": 1, \"122\": 1, \"94\": 1, \"88\": 1}, \"23\": {\"23\": 43, \"122\": 1}, \"63\": {\"63\": 20}, \"127\": {\"127\": 119, \"126\": 1, \"70\": 1, \"24\": 1, \"26\": 1, \"106\": 1}, \"72\": {\"72\": 26, \"77\": 1, \"31\": 1}, \"128\": {\"128\": 23, \"126\": 1}, \"7\": {\"7\": 124, \"88\": 1, \"26\": 1, \"18\": 1, \"33\": 1}, \"108\": {\"108\": 134}, \"16\": {\"16\": 101, \"8\": 1, \"93\": 3, \"5\": 1, \"69\": 1, \"62\": 1, \"84\": 1, \"122\": 1, \"77\": 1, \"21\": 2, \"70\": 1}, \"29\": {\"29\": 32}, \"61\": {\"61\": 19, \"126\": 1}, \"104\": {\"104\": 20}, \"120\": {\"120\": 20}, \"124\": {\"124\": 123, \"82\": 1}, \"34\": {\"34\": 32}, \"84\": {\"84\": 88, \"75\": 1, \"11\": 1, \"109\": 1, \"69\": 1}, \"103\": {\"103\": 16}, \"100\": {\"100\": 16}, \"40\": {\"40\": 130, \"11\": 1, \"33\": 1, \"107\": 1, \"113\": 1, \"109\": 1, \"21\": 1, \"26\": 1, \"39\": 1, \"24\": 1, \"88\": 1}, \"35\": {\"35\": 12}, \"96\": {\"96\": 20}, \"101\": {\"101\": 119, \"98\": 1}, \"71\": {\"71\": 95, \"24\": 1, \"0\": 1, \"62\": 2, \"84\": 1}, \"81\": {\"81\": 21, \"65\": 2, \"77\": 1}, \"74\": {\"74\": 14, \"36\": 1, \"73\": 1}, \"119\": {\"119\": 20}, \"5\": {\"5\": 108, \"17\": 1, \"26\": 1, \"18\": 1, \"126\": 1}, \"68\": {\"68\": 16}, \"37\": {\"13\": 1, \"37\": 15}, \"58\": {\"58\": 20}, \"109\": {\"13\": 1, \"109\": 93, \"78\": 1, \"18\": 1, \"126\": 1, \"118\": 1, \"39\": 1, \"26\": 1}, \"107\": {\"107\": 60, \"21\": 1, \"36\": 1, \"3\": 1, \"0\": 1}, \"13\": {\"13\": 13, \"18\": 1, \"118\": 1, \"87\": 1}, \"52\": {\"52\": 19, \"124\": 1}, \"77\": {\"77\": 15, \"72\": 1}, \"95\": {\"95\": 36}, \"44\": {\"44\": 100}, \"88\": {\"88\": 117, \"70\": 3, \"93\": 1, \"109\": 1}, \"91\": {\"91\": 27, \"126\": 1}, \"93\": {\"93\": 136, \"21\": 1, \"18\": 1}, \"8\": {\"8\": 121, \"12\": 1, \"18\": 1, \"26\": 1}, \"1\": {\"1\": 111, \"24\": 1, \"111\": 1, \"39\": 1}, \"45\": {\"45\": 15, \"31\": 1}, \"111\": {\"111\": 124, \"62\": 1, \"21\": 1}, \"116\": {\"116\": 28}, \"48\": {\"48\": 19, \"72\": 1}, \"57\": {\"57\": 18, \"68\": 1, \"24\": 1}, \"10\": {\"10\": 58, \"12\": 1, \"26\": 1}, \"129\": {\"129\": 32}, \"98\": {\"98\": 115, \"26\": 1, \"24\": 1, \"84\": 1}, \"65\": {\"65\": 19, \"12\": 1}, \"6\": {\"6\": 32}, \"75\": {\"75\": 15, \"126\": 1}, \"14\": {\"14\": 46, \"70\": 1, \"0\": 1}, \"30\": {\"30\": 105, \"12\": 1, \"8\": 1, \"40\": 1, \"24\": 1, \"59\": 1, \"89\": 1, \"36\": 1}, \"83\": {\"83\": 40}, \"69\": {\"69\": 125, \"24\": 1, \"26\": 1, \"70\": 1}, \"125\": {\"125\": 145, \"98\": 1}, \"31\": {\"31\": 19, \"81\": 1}, \"118\": {\"118\": 67, \"43\": 1}, \"53\": {\"53\": 16}, \"54\": {\"54\": 19, \"103\": 1}, \"92\": {\"92\": 28}, \"19\": {\"19\": 28}, \"27\": {\"27\": 62, \"77\": 2, \"122\": 1, \"36\": 3}, \"17\": {\"17\": 14, \"59\": 1, \"4\": 1}, \"4\": {\"4\": 87, \"16\": 1}, \"36\": {\"27\": 3, \"36\": 116, \"84\": 1, \"127\": 1, \"24\": 1, \"98\": 1, \"26\": 1, \"62\": 1, \"15\": 2, \"88\": 1}, \"90\": {\"90\": 134, \"2\": 1, \"98\": 1}, \"64\": {\"64\": 15, \"17\": 1}, \"66\": {\"66\": 20}, \"46\": {\"46\": 14, \"16\": 1, \"24\": 1}, \"86\": {\"86\": 32}, \"114\": {\"114\": 108, \"0\": 1, \"126\": 1}, \"32\": {\"74\": 1, \"32\": 31, \"75\": 1, \"104\": 1, \"14\": 1, \"45\": 1}, \"78\": {\"78\": 45, \"109\": 1, \"62\": 1, \"21\": 1}, \"33\": {\"33\": 136, \"40\": 1, \"23\": 1}, \"70\": {\"70\": 116, \"90\": 1, \"88\": 1, \"24\": 3, \"69\": 3}, \"0\": {\"0\": 111, \"12\": 1, \"69\": 1, \"98\": 1, \"122\": 1, \"15\": 1}, \"110\": {\"110\": 38, \"70\": 1, \"107\": 1}, \"2\": {\"2\": 31, \"55\": 1}, \"28\": {\"28\": 18, \"62\": 2}, \"51\": {\"51\": 19, \"9\": 1}, \"79\": {\"79\": 16}, \"42\": {\"42\": 28}, \"112\": {\"112\": 14, \"73\": 1, \"5\": 1}, \"89\": {\"89\": 36}, \"59\": {\"59\": 16}, \"105\": {\"105\": 126, \"24\": 1, \"62\": 1}, \"121\": {\"121\": 34, \"89\": 1, \"36\": 1}, \"11\": {\"11\": 77, \"126\": 1, \"23\": 1, \"84\": 1}, \"99\": {\"99\": 30, \"12\": 1, \"33\": 1}, \"25\": {\"25\": 16}, \"62\": {\"62\": 123, \"94\": 1, \"84\": 1, \"24\": 1, \"69\": 1, \"126\": 1}, \"123\": {\"123\": 16}, \"24\": {\"24\": 109, \"12\": 1, \"70\": 1, \"109\": 1}, \"80\": {\"80\": 16}, \"39\": {\"39\": 91, \"117\": 1, \"84\": 1, \"24\": 1, \"88\": 1, \"26\": 1, \"109\": 3, \"33\": 1}, \"22\": {\"22\": 19, \"5\": 1}}, \"W_4\": {\"32\": {\"32\": 27, \"41\": 1}, \"22\": {\"22\": 15, \"17\": 1}, \"69\": {\"69\": 113, \"23\": 1, \"24\": 2, \"113\": 1, \"70\": 2, \"126\": 1}, \"65\": {\"65\": 12}, \"91\": {\"91\": 24}, \"63\": {\"63\": 16}, \"127\": {\"69\": 1, \"127\": 105, \"55\": 1, \"84\": 1}, \"11\": {\"11\": 136, \"84\": 1, \"81\": 1}, \"12\": {\"12\": 93, \"78\": 1, \"24\": 2, \"126\": 1, \"122\": 1, \"105\": 1, \"84\": 1}, \"111\": {\"111\": 126, \"68\": 1, \"126\": 1}, \"53\": {\"53\": 15, \"121\": 1}, \"73\": {\"73\": 22, \"51\": 1, \"81\": 1}, \"3\": {\"3\": 133, \"21\": 1, \"49\": 1, \"101\": 1}, \"83\": {\"83\": 27, \"19\": 1}, \"88\": {\"88\": 129, \"70\": 1}, \"87\": {\"87\": 131, \"108\": 1}, \"2\": {\"2\": 27, \"1\": 1}, \"86\": {\"86\": 28}, \"16\": {\"16\": 118, \"88\": 1, \"63\": 1, \"3\": 1, \"127\": 1}, \"21\": {\"21\": 35, \"88\": 1, \"1\": 1, \"82\": 1, \"62\": 1, \"51\": 1}, \"96\": {\"96\": 19, \"21\": 1}, \"100\": {\"100\": 20}, \"7\": {\"7\": 118, \"108\": 1, \"113\": 1}, \"75\": {\"75\": 15, \"1\": 1}, \"10\": {\"10\": 117, \"24\": 2, \"88\": 1, \"122\": 1, \"126\": 1, \"69\": 1, \"70\": 1}, \"43\": {\"43\": 115, \"10\": 1, \"0\": 1, \"122\": 1, \"69\": 1, \"14\": 1}, \"92\": {\"92\": 27, \"115\": 1}, \"62\": {\"62\": 57, \"40\": 1, \"126\": 1, \"84\": 1}, \"31\": {\"31\": 16}, \"0\": {\"0\": 112, \"1\": 1, \"122\": 1}, \"45\": {\"45\": 16}, \"85\": {\"85\": 27, \"106\": 1}, \"119\": {\"119\": 16}, \"46\": {\"46\": 20}, \"71\": {\"71\": 102, \"113\": 1, \"109\": 1}, \"8\": {\"8\": 130, \"126\": 2, \"7\": 1, \"70\": 1}, \"118\": {\"118\": 107, \"90\": 1, \"39\": 1, \"1\": 2, \"108\": 1}, \"1\": {\"1\": 100, \"34\": 1, \"108\": 1, \"126\": 3, \"21\": 1, \"101\": 1, \"111\": 1}, \"38\": {\"38\": 15, \"108\": 1}, \"30\": {\"30\": 71, \"15\": 1, \"14\": 1, \"51\": 1, \"87\": 1, \"126\": 1}, \"66\": {\"66\": 16}, \"9\": {\"9\": 28}, \"5\": {\"5\": 135, \"81\": 1}, \"24\": {\"24\": 116, \"30\": 1, \"105\": 1, \"27\": 1, \"10\": 1}, \"97\": {\"115\": 1, \"24\": 1, \"97\": 18}, \"67\": {\"67\": 15, \"48\": 1}, \"19\": {\"19\": 28}, \"77\": {\"77\": 12}, \"26\": {\"26\": 116, \"111\": 1, \"43\": 1}, \"115\": {\"97\": 1, \"115\": 14, \"86\": 1}, \"50\": {\"50\": 16}, \"120\": {\"120\": 19, \"45\": 1}, \"102\": {\"102\": 127, \"14\": 1}, \"29\": {\"29\": 32}, \"44\": {\"44\": 64}, \"124\": {\"124\": 117, \"96\": 1}, \"78\": {\"78\": 26, \"105\": 1, \"21\": 3, \"0\": 1, \"84\": 1, \"111\": 2, \"88\": 2}, \"104\": {\"104\": 16}, \"105\": {\"105\": 93, \"82\": 1, \"84\": 2, \"78\": 1, \"87\": 1, \"88\": 1, \"36\": 1}, \"28\": {\"28\": 20}, \"37\": {\"37\": 16}, \"107\": {\"107\": 128, \"84\": 2, \"1\": 1, \"88\": 1}, \"6\": {\"6\": 24}, \"17\": {\"17\": 20}, \"57\": {\"57\": 16}, \"121\": {\"121\": 30, \"33\": 1, \"82\": 1}, \"58\": {\"58\": 16}, \"64\": {\"64\": 16}, \"82\": {\"82\": 32}, \"39\": {\"39\": 98, \"122\": 1, \"126\": 1}, \"110\": {\"110\": 116, \"102\": 1, \"16\": 1, \"118\": 1, \"21\": 1, \"70\": 1, \"0\": 1, \"8\": 1, \"88\": 1}, \"114\": {\"114\": 127, \"109\": 1}, \"20\": {\"20\": 16}, \"117\": {\"117\": 114}, \"18\": {\"18\": 119, \"113\": 1}, \"99\": {\"99\": 40}, \"23\": {\"23\": 11, \"1\": 1, \"39\": 1, \"51\": 1, \"70\": 2}, \"128\": {\"128\": 22, \"81\": 1, \"118\": 1}, \"60\": {\"60\": 32}, \"70\": {\"70\": 113, \"110\": 1, \"11\": 1, \"0\": 1, \"88\": 2, \"69\": 1, \"27\": 1}, \"122\": {\"122\": 80, \"126\": 2, \"114\": 1, \"43\": 1}, \"101\": {\"101\": 129, \"7\": 1, \"69\": 1, \"108\": 1}, \"33\": {\"33\": 129, \"115\": 1, \"116\": 1, \"98\": 1}, \"40\": {\"40\": 124, \"122\": 2, \"126\": 1, \"69\": 1, \"70\": 1, \"0\": 1}, \"41\": {\"41\": 14, \"23\": 1, \"21\": 1}, \"59\": {\"59\": 12}, \"4\": {\"4\": 96, \"55\": 1, \"38\": 1, \"105\": 2, \"108\": 1, \"126\": 1, \"8\": 1, \"101\": 1}, \"112\": {\"112\": 15, \"0\": 1}, \"36\": {\"36\": 125, \"24\": 1, \"1\": 1, \"118\": 1}, \"48\": {\"48\": 14, \"42\": 1, \"23\": 1}, \"126\": {\"126\": 114, \"10\": 1, \"101\": 1}, \"125\": {\"125\": 119, \"33\": 1, \"98\": 1, \"90\": 1}, \"84\": {\"84\": 118, \"21\": 1, \"88\": 3, \"105\": 1, \"126\": 2, \"106\": 1, \"69\": 1, \"101\": 1}, \"80\": {\"80\": 16}, \"49\": {\"49\": 32}, \"47\": {\"25\": 1, \"47\": 10, \"75\": 1}, \"95\": {\"95\": 32}, \"54\": {\"54\": 16}, \"25\": {\"25\": 16}, \"116\": {\"116\": 28}, \"74\": {\"74\": 16}, \"35\": {\"35\": 12}, \"15\": {\"15\": 125, \"0\": 1, \"108\": 1, \"88\": 1}, \"108\": {\"108\": 85, \"81\": 1, \"98\": 1, \"113\": 1, \"19\": 1, \"51\": 1, \"84\": 1, \"9\": 1}, \"34\": {\"34\": 31, \"72\": 1}, \"81\": {\"81\": 36}, \"93\": {\"93\": 128}, \"55\": {\"55\": 16}, \"27\": {\"27\": 93, \"122\": 1, \"24\": 2, \"5\": 1, \"3\": 1, \"36\": 1, \"70\": 1}, \"109\": {\"109\": 106, \"16\": 1, \"90\": 1, \"118\": 1, \"108\": 1}, \"106\": {\"106\": 108, \"16\": 1, \"113\": 1, \"12\": 1, \"126\": 2, \"108\": 1, \"105\": 1, \"24\": 1}, \"68\": {\"68\": 15, \"108\": 1}, \"76\": {\"69\": 1, \"76\": 14, \"78\": 1}, \"103\": {\"103\": 15, \"106\": 1}, \"42\": {\"42\": 26, \"124\": 2}, \"129\": {\"129\": 28}, \"94\": {\"94\": 81, \"1\": 3, \"105\": 1, \"3\": 1, \"21\": 1, \"118\": 1}, \"123\": {\"123\": 16}, \"61\": {\"61\": 16}, \"51\": {\"55\": 1, \"51\": 9, \"105\": 2, \"111\": 1, \"58\": 1, \"47\": 2}, \"98\": {\"98\": 117, \"121\": 1}, \"56\": {\"56\": 12}, \"14\": {\"14\": 109, \"16\": 1, \"23\": 1, \"101\": 1}, \"90\": {\"90\": 138}, \"13\": {\"13\": 16}, \"89\": {\"89\": 31, \"27\": 1}, \"52\": {\"52\": 18, \"89\": 1, \"114\": 1}, \"72\": {\"72\": 32}, \"79\": {\"79\": 16}, \"113\": {\"113\": 123, \"30\": 1, \"84\": 1, \"39\": 1}}, \"W_1\": {\"68\": {\"68\": 16}, \"7\": {\"7\": 142}, \"125\": {\"125\": 118}, \"111\": {\"111\": 117, \"116\": 1, \"26\": 1, \"21\": 1}, \"101\": {\"101\": 123, \"24\": 1}, \"11\": {\"11\": 136}, \"76\": {\"76\": 16}, \"5\": {\"5\": 88}, \"123\": {\"123\": 13, \"100\": 1, \"119\": 1, \"9\": 1}, \"85\": {\"85\": 32}, \"34\": {\"34\": 30, \"83\": 1, \"14\": 1}, \"42\": {\"42\": 27, \"91\": 1}, \"81\": {\"81\": 28}, \"127\": {\"127\": 106, \"26\": 1, \"70\": 1}, \"60\": {\"60\": 14, \"120\": 1, \"14\": 1}, \"77\": {\"77\": 16}, \"65\": {\"65\": 12}, \"44\": {\"44\": 76}, \"100\": {\"100\": 16}, \"80\": {\"80\": 16}, \"83\": {\"83\": 26, \"5\": 1, \"95\": 1}, \"51\": {\"51\": 16}, \"93\": {\"93\": 132, \"24\": 1, \"87\": 1}, \"31\": {\"31\": 16}, \"33\": {\"33\": 124, \"118\": 1, \"45\": 1}, \"113\": {\"113\": 121, \"69\": 1, \"16\": 1, \"43\": 1}, \"126\": {\"126\": 122, \"62\": 1, \"26\": 1}, \"10\": {\"10\": 120}, \"21\": {\"21\": 38, \"84\": 1, \"24\": 1}, \"90\": {\"90\": 131, \"124\": 1}, \"38\": {\"38\": 16}, \"96\": {\"96\": 19, \"127\": 1}, \"6\": {\"6\": 31, \"112\": 1}, \"121\": {\"121\": 31, \"65\": 1}, \"37\": {\"37\": 16}, \"88\": {\"88\": 126}, \"54\": {\"54\": 16}, \"92\": {\"92\": 28}, \"19\": {\"19\": 28}, \"47\": {\"47\": 12}, \"94\": {\"94\": 89, \"88\": 1, \"102\": 1, \"113\": 1}, \"66\": {\"66\": 16}, \"73\": {\"73\": 19, \"107\": 1}, \"75\": {\"75\": 16}, \"28\": {\"28\": 19, \"113\": 1}, \"20\": {\"20\": 16}, \"78\": {\"21\": 1, \"78\": 15}, \"71\": {\"71\": 101, \"24\": 1, \"106\": 1, \"23\": 1}, \"13\": {\"13\": 16}, \"118\": {\"118\": 83, \"106\": 1}, \"72\": {\"72\": 32}, \"24\": {\"24\": 89, \"87\": 1, \"12\": 1, \"108\": 1}, \"41\": {\"41\": 16}, \"102\": {\"102\": 119, \"87\": 1}, \"8\": {\"24\": 1, \"8\": 137}, \"39\": {\"39\": 93, \"3\": 1, \"24\": 1, \"110\": 1}, \"97\": {\"97\": 17, \"24\": 2, \"82\": 1}, \"48\": {\"48\": 12}, \"57\": {\"57\": 12}, \"29\": {\"29\": 28}, \"119\": {\"119\": 16}, \"89\": {\"89\": 36}, \"40\": {\"40\": 140}, \"22\": {\"108\": 1, \"22\": 15}, \"53\": {\"53\": 17, \"49\": 1, \"9\": 1, \"98\": 1}, \"108\": {\"108\": 124}, \"23\": {\"23\": 23, \"110\": 1}, \"109\": {\"109\": 115, \"70\": 1}, \"112\": {\"112\": 16}, \"35\": {\"35\": 12}, \"3\": {\"3\": 84, \"113\": 1, \"84\": 1, \"11\": 1, \"111\": 1}, \"103\": {\"103\": 14, \"4\": 1, \"5\": 1}, \"4\": {\"4\": 98, \"109\": 1, \"84\": 1}, \"87\": {\"87\": 107, \"88\": 1}, \"25\": {\"25\": 15, \"73\": 1}, \"15\": {\"15\": 96, \"94\": 3, \"69\": 1, \"26\": 1, \"27\": 2, \"24\": 1}, \"95\": {\"95\": 36}, \"120\": {\"120\": 18, \"77\": 1, \"8\": 1}, \"59\": {\"59\": 11, \"83\": 1}, \"49\": {\"49\": 18, \"85\": 1, \"89\": 1}, \"52\": {\"52\": 18, \"70\": 1, \"24\": 1}, \"45\": {\"45\": 12}, \"107\": {\"107\": 124}, \"106\": {\"106\": 133, \"10\": 1}, \"18\": {\"18\": 124}, \"64\": {\"64\": 16}, \"86\": {\"86\": 35, \"65\": 1}, \"14\": {\"14\": 96}, \"115\": {\"115\": 12}, \"0\": {\"0\": 83, \"111\": 1}, \"104\": {\"104\": 16}, \"61\": {\"61\": 12}, \"129\": {\"129\": 28}, \"122\": {\"122\": 86, \"26\": 1, \"3\": 1}, \"67\": {\"67\": 14, \"21\": 1, \"115\": 1}, \"128\": {\"128\": 24}, \"26\": {\"26\": 133, \"105\": 1}, \"117\": {\"117\": 136}, \"91\": {\"91\": 28}, \"12\": {\"12\": 99, \"70\": 2, \"108\": 1, \"122\": 1, \"88\": 1}, \"50\": {\"50\": 16}, \"99\": {\"99\": 24}, \"110\": {\"110\": 104}, \"43\": {\"43\": 112, \"5\": 2, \"101\": 1, \"94\": 1}, \"82\": {\"82\": 36}, \"1\": {\"1\": 96}, \"46\": {\"46\": 12}, \"16\": {\"16\": 106, \"87\": 1, \"26\": 1}, \"74\": {\"74\": 16}, \"32\": {\"32\": 32}, \"62\": {\"62\": 118, \"109\": 1, \"84\": 1}, \"27\": {\"27\": 90, \"24\": 2}, \"17\": {\"17\": 16}, \"36\": {\"36\": 133, \"26\": 1}, \"2\": {\"2\": 32}, \"70\": {\"70\": 126, \"109\": 1, \"108\": 1}, \"9\": {\"9\": 32}, \"114\": {\"114\": 130}, \"79\": {\"79\": 12}, \"56\": {\"56\": 11, \"112\": 1}, \"124\": {\"124\": 102}, \"84\": {\"84\": 134}, \"69\": {\"69\": 107, \"24\": 1}, \"58\": {\"58\": 11, \"125\": 1}, \"30\": {\"30\": 52}, \"55\": {\"55\": 12}, \"105\": {\"105\": 84}, \"63\": {\"63\": 16}, \"98\": {\"98\": 107, \"109\": 1}, \"116\": {\"116\": 30, \"21\": 1, \"65\": 1}}, \"W_3\": {\"76\": {\"76\": 16}, \"6\": {\"6\": 30, \"48\": 1, \"82\": 1}, \"108\": {\"108\": 106}, \"29\": {\"29\": 31, \"2\": 1}, \"83\": {\"83\": 24}, \"18\": {\"18\": 126, \"1\": 1, \"78\": 1}, \"54\": {\"54\": 16}, \"15\": {\"15\": 104}, \"100\": {\"100\": 16}, \"90\": {\"90\": 134, \"86\": 1, \"94\": 1}, \"26\": {\"26\": 130, \"5\": 1, \"90\": 1}, \"115\": {\"115\": 16}, \"94\": {\"94\": 83, \"98\": 1}, \"46\": {\"46\": 16}, \"121\": {\"121\": 32}, \"109\": {\"109\": 126, \"118\": 2}, \"101\": {\"101\": 52}, \"99\": {\"99\": 36}, \"8\": {\"8\": 126, \"5\": 1, \"27\": 1}, \"102\": {\"102\": 104}, \"122\": {\"122\": 56, \"90\": 1, \"26\": 1, \"84\": 2}, \"36\": {\"36\": 113, \"24\": 2, \"124\": 1}, \"113\": {\"113\": 119, \"126\": 1}, \"123\": {\"123\": 16}, \"120\": {\"120\": 20}, \"125\": {\"125\": 107, \"98\": 1}, \"89\": {\"89\": 27, \"73\": 1}, \"9\": {\"9\": 32}, \"31\": {\"31\": 20}, \"62\": {\"62\": 112, \"126\": 1, \"110\": 1}, \"49\": {\"49\": 23, \"29\": 1}, \"23\": {\"23\": 32}, \"55\": {\"55\": 16}, \"128\": {\"128\": 32}, \"71\": {\"71\": 65, \"122\": 1, \"114\": 2}, \"51\": {\"51\": 16}, \"7\": {\"7\": 106}, \"117\": {\"117\": 104}, \"28\": {\"28\": 16}, \"127\": {\"127\": 127, \"17\": 1}, \"57\": {\"57\": 20}, \"78\": {\"78\": 15, \"54\": 1}, \"87\": {\"87\": 119, \"27\": 1}, \"40\": {\"40\": 126, \"26\": 1, \"69\": 1}, \"81\": {\"81\": 32}, \"2\": {\"2\": 28}, \"58\": {\"58\": 16}, \"68\": {\"68\": 15, \"62\": 1}, \"20\": {\"20\": 15, \"26\": 1}, \"35\": {\"35\": 12}, \"96\": {\"96\": 20}, \"84\": {\"84\": 108}, \"13\": {\"88\": 2, \"13\": 12, \"43\": 1, \"69\": 1}, \"64\": {\"64\": 20}, \"112\": {\"112\": 13, \"47\": 1, \"70\": 1, \"42\": 1}, \"103\": {\"103\": 16}, \"65\": {\"65\": 11, \"63\": 1}, \"118\": {\"118\": 100}, \"88\": {\"88\": 109, \"26\": 1, \"0\": 1, \"106\": 1}, \"85\": {\"85\": 36}, \"5\": {\"5\": 109, \"21\": 1, \"84\": 1, \"88\": 1}, \"93\": {\"93\": 137, \"90\": 1}, \"43\": {\"43\": 51, \"62\": 1, \"69\": 1, \"84\": 1, \"11\": 2}, \"67\": {\"67\": 15, \"10\": 1}, \"48\": {\"48\": 16}, \"73\": {\"73\": 38, \"92\": 1, \"81\": 1}, \"34\": {\"91\": 1, \"34\": 29, \"6\": 1, \"92\": 1}, \"91\": {\"91\": 23, \"34\": 1}, \"105\": {\"105\": 124}, \"10\": {\"10\": 105, \"5\": 1}, \"61\": {\"61\": 15, \"45\": 1}, \"74\": {\"74\": 15, \"82\": 1}, \"4\": {\"4\": 95, \"110\": 1}, \"37\": {\"37\": 16}, \"19\": {\"19\": 32}, \"44\": {\"44\": 70, \"98\": 2}, \"52\": {\"52\": 16}, \"92\": {\"92\": 32}, \"33\": {\"33\": 128}, \"45\": {\"45\": 16}, \"11\": {\"11\": 127, \"81\": 1}, \"129\": {\"129\": 32}, \"116\": {\"116\": 28}, \"75\": {\"75\": 16}, \"41\": {\"41\": 16}, \"21\": {\"21\": 45, \"121\": 1, \"101\": 2}, \"69\": {\"69\": 82, \"88\": 1, \"122\": 1}, \"16\": {\"16\": 107, \"21\": 1}, \"25\": {\"25\": 16}, \"12\": {\"12\": 103, \"88\": 1}, \"72\": {\"72\": 28}, \"0\": {\"0\": 115, \"26\": 1}, \"50\": {\"50\": 16}, \"107\": {\"107\": 140}, \"124\": {\"124\": 124}, \"53\": {\"53\": 19, \"88\": 1}, \"66\": {\"66\": 16}, \"47\": {\"47\": 12}, \"24\": {\"24\": 44, \"27\": 3, \"43\": 1}, \"95\": {\"95\": 31, \"70\": 1}, \"98\": {\"98\": 106}, \"63\": {\"63\": 16}, \"3\": {\"3\": 113, \"27\": 1, \"113\": 1, \"36\": 1}, \"14\": {\"14\": 80}, \"1\": {\"1\": 108}, \"38\": {\"38\": 16}, \"110\": {\"110\": 86, \"88\": 2, \"26\": 2, \"84\": 2}, \"17\": {\"67\": 1, \"17\": 12, \"40\": 1, \"2\": 1, \"68\": 1}, \"30\": {\"30\": 82, \"125\": 1, \"94\": 1}, \"56\": {\"56\": 9, \"41\": 2, \"75\": 1}, \"27\": {\"27\": 93, \"36\": 2, \"101\": 1}, \"104\": {\"104\": 16}, \"97\": {\"97\": 19, \"15\": 1}, \"42\": {\"42\": 27, \"68\": 1}, \"39\": {\"39\": 107, \"11\": 1}, \"70\": {\"70\": 68, \"88\": 3, \"21\": 1}, \"86\": {\"86\": 28}, \"119\": {\"119\": 16}, \"77\": {\"77\": 16}, \"59\": {\"59\": 12}, \"22\": {\"22\": 16}, \"79\": {\"79\": 12}, \"80\": {\"80\": 16}, \"111\": {\"111\": 129, \"49\": 1, \"98\": 1, \"88\": 1}, \"82\": {\"82\": 28}, \"126\": {\"126\": 121, \"39\": 1, \"69\": 1, \"122\": 1}, \"32\": {\"32\": 31, \"69\": 1}, \"106\": {\"106\": 98, \"27\": 1, \"84\": 1}, \"60\": {\"60\": 28}, \"114\": {\"114\": 106, \"8\": 1, \"39\": 1}}, \"C_5\": {\"12\": {\"12\": 96}, \"8\": {\"8\": 142}, \"29\": {\"29\": 132}, \"57\": {\"57\": 126}, \"38\": {\"38\": 32}, \"23\": {\"23\": 124}, \"56\": {\"56\": 138}, \"49\": {\"49\": 36}, \"4\": {\"4\": 100}, \"48\": {\"48\": 136}, \"21\": {\"21\": 144}, \"30\": {\"30\": 128}, \"1\": {\"1\": 148}, \"34\": {\"34\": 36}, \"35\": {\"35\": 36}, \"55\": {\"55\": 152}, \"5\": {\"5\": 122}, \"52\": {\"52\": 126}, \"6\": {\"6\": 128}, \"36\": {\"36\": 92}, \"41\": {\"41\": 28}, \"3\": {\"3\": 100}, \"28\": {\"28\": 32}, \"18\": {\"18\": 64}, \"25\": {\"25\": 136}, \"47\": {\"47\": 100}, \"13\": {\"13\": 160}, \"11\": {\"11\": 144}, \"53\": {\"53\": 144}, \"33\": {\"33\": 32}, \"46\": {\"46\": 148}, \"50\": {\"50\": 148}, \"10\": {\"10\": 68}, \"15\": {\"15\": 138}, \"44\": {\"44\": 140}, \"2\": {\"2\": 28}, \"7\": {\"7\": 32}, \"43\": {\"43\": 138}, \"32\": {\"32\": 32}, \"0\": {\"0\": 124}, \"39\": {\"39\": 20}, \"26\": {\"26\": 24}, \"27\": {\"27\": 112}, \"54\": {\"54\": 112}, \"17\": {\"17\": 116}, \"14\": {\"14\": 44}, \"16\": {\"16\": 148}, \"9\": {\"9\": 148}, \"19\": {\"19\": 152}, \"20\": {\"20\": 138}, \"37\": {\"37\": 24}, \"24\": {\"24\": 80}, \"40\": {\"40\": 122}, \"45\": {\"45\": 124}, \"22\": {\"22\": 28}, \"42\": {\"42\": 38, \"13\": 1, \"45\": 1}, \"51\": {\"51\": 118}, \"31\": {\"31\": 36}}, \"C_1\": {\"27\": {\"27\": 142}, \"2\": {\"2\": 36}, \"33\": {\"33\": 32}, \"45\": {\"45\": 156}, \"38\": {\"38\": 24}, \"4\": {\"4\": 132}, \"31\": {\"31\": 28}, \"55\": {\"55\": 140}, \"32\": {\"32\": 32}, \"57\": {\"57\": 140}, \"14\": {\"14\": 24}, \"16\": {\"16\": 140}, \"34\": {\"34\": 24}, \"56\": {\"56\": 126}, \"24\": {\"24\": 108}, \"30\": {\"30\": 112}, \"17\": {\"17\": 64}, \"13\": {\"13\": 138}, \"39\": {\"39\": 28}, \"50\": {\"50\": 146}, \"20\": {\"20\": 139, \"12\": 1}, \"41\": {\"41\": 24}, \"53\": {\"53\": 126}, \"48\": {\"48\": 142}, \"36\": {\"36\": 64}, \"8\": {\"8\": 140}, \"15\": {\"15\": 132}, \"40\": {\"40\": 156}, \"37\": {\"37\": 32}, \"21\": {\"21\": 120}, \"35\": {\"35\": 36}, \"49\": {\"49\": 32}, \"26\": {\"26\": 24}, \"28\": {\"28\": 28}, \"12\": {\"12\": 116}, \"5\": {\"5\": 152}, \"29\": {\"29\": 140}, \"47\": {\"47\": 140}, \"10\": {\"10\": 96}, \"18\": {\"18\": 71, \"50\": 1}, \"9\": {\"9\": 126}, \"3\": {\"3\": 140}, \"52\": {\"52\": 132}, \"25\": {\"25\": 136}, \"19\": {\"19\": 156}, \"11\": {\"11\": 136}, \"7\": {\"7\": 28}, \"23\": {\"23\": 136}, \"44\": {\"44\": 132}, \"42\": {\"42\": 40}, \"54\": {\"54\": 104}, \"1\": {\"1\": 100}, \"46\": {\"46\": 128}, \"6\": {\"6\": 96}, \"43\": {\"43\": 144}, \"51\": {\"51\": 142}, \"22\": {\"22\": 136}, \"0\": {\"0\": 128}}, \"C_4\": {\"32\": {\"32\": 24}, \"2\": {\"2\": 36}, \"41\": {\"41\": 36}, \"11\": {\"11\": 101, \"15\": 1}, \"57\": {\"57\": 100}, \"6\": {\"6\": 112}, \"23\": {\"23\": 136}, \"52\": {\"52\": 116}, \"38\": {\"38\": 40}, \"50\": {\"50\": 132}, \"55\": {\"55\": 152}, \"46\": {\"46\": 154}, \"37\": {\"37\": 24}, \"20\": {\"20\": 118}, \"49\": {\"49\": 20}, \"45\": {\"45\": 96}, \"54\": {\"54\": 108}, \"3\": {\"3\": 123, \"50\": 1}, \"13\": {\"13\": 152}, \"18\": {\"18\": 108}, \"21\": {\"21\": 126}, \"43\": {\"43\": 144}, \"47\": {\"47\": 120}, \"4\": {\"4\": 132}, \"12\": {\"12\": 92}, \"9\": {\"9\": 126, \"27\": 1, \"4\": 1}, \"7\": {\"7\": 24}, \"56\": {\"56\": 112}, \"28\": {\"28\": 32}, \"44\": {\"44\": 132}, \"24\": {\"24\": 56}, \"33\": {\"33\": 36}, \"35\": {\"35\": 40}, \"51\": {\"51\": 138}, \"39\": {\"39\": 20}, \"36\": {\"36\": 91, \"16\": 1}, \"19\": {\"19\": 140}, \"0\": {\"0\": 77, \"46\": 3}, \"15\": {\"15\": 136}, \"29\": {\"29\": 123, \"9\": 1}, \"30\": {\"30\": 44}, \"1\": {\"1\": 40}, \"22\": {\"22\": 128}, \"40\": {\"40\": 146}, \"8\": {\"8\": 128}, \"53\": {\"53\": 138}, \"34\": {\"34\": 24}, \"10\": {\"10\": 122}, \"31\": {\"31\": 28}, \"17\": {\"17\": 80}, \"16\": {\"16\": 96}, \"42\": {\"42\": 32}, \"27\": {\"27\": 142}, \"14\": {\"14\": 16}, \"25\": {\"25\": 122}, \"48\": {\"48\": 132}, \"26\": {\"26\": 24}, \"5\": {\"5\": 108}}, \"C_3\": {\"14\": {\"14\": 40}, \"18\": {\"18\": 84}, \"30\": {\"30\": 120}, \"16\": {\"16\": 156}, \"1\": {\"1\": 100}, \"20\": {\"20\": 132}, \"7\": {\"7\": 36}, \"52\": {\"52\": 130}, \"9\": {\"9\": 140}, \"23\": {\"23\": 144}, \"55\": {\"55\": 164}, \"29\": {\"29\": 126}, \"56\": {\"56\": 134}, \"3\": {\"3\": 124}, \"42\": {\"42\": 28}, \"6\": {\"6\": 88}, \"5\": {\"5\": 116}, \"27\": {\"27\": 144}, \"47\": {\"47\": 92}, \"39\": {\"39\": 16}, \"34\": {\"34\": 32}, \"4\": {\"4\": 126}, \"24\": {\"24\": 104}, \"46\": {\"46\": 118}, \"50\": {\"50\": 125, \"3\": 1}, \"38\": {\"38\": 28}, \"54\": {\"54\": 100}, \"35\": {\"35\": 28}, \"2\": {\"2\": 32}, \"41\": {\"41\": 28}, \"57\": {\"57\": 118}, \"25\": {\"25\": 150}, \"48\": {\"48\": 116}, \"33\": {\"33\": 28}, \"45\": {\"45\": 60}, \"13\": {\"13\": 126}, \"36\": {\"36\": 100}, \"43\": {\"43\": 132}, \"28\": {\"28\": 28}, \"0\": {\"0\": 124}, \"12\": {\"12\": 92}, \"31\": {\"31\": 28}, \"40\": {\"40\": 116}, \"44\": {\"44\": 87, \"3\": 1}, \"32\": {\"32\": 28}, \"26\": {\"26\": 24}, \"8\": {\"8\": 116}, \"10\": {\"10\": 64}, \"15\": {\"15\": 142}, \"21\": {\"21\": 128}, \"37\": {\"37\": 28}, \"17\": {\"17\": 108}, \"51\": {\"51\": 124}, \"53\": {\"53\": 144}, \"19\": {\"19\": 136}, \"49\": {\"49\": 20}, \"11\": {\"11\": 138}, \"22\": {\"22\": 130}}, \"O_8\": {\"13\": {\"1\": 13, \"7\": 45, \"5\": 46, \"10\": 50, \"13\": 71, \"6\": 14, \"11\": 1}, \"9\": {\"9\": 236, \"3\": 4}, \"15\": {\"15\": 106, \"2\": 40, \"12\": 93, \"3\": 1}, \"2\": {\"2\": 122, \"15\": 51, \"3\": 40, \"12\": 25, \"13\": 1, \"9\": 1}, \"3\": {\"3\": 219, \"2\": 19, \"9\": 2}, \"8\": {\"4\": 46, \"8\": 105, \"11\": 33, \"14\": 15, \"7\": 4, \"1\": 22, \"6\": 14, \"5\": 1}, \"5\": {\"1\": 29, \"7\": 30, \"10\": 50, \"13\": 44, \"5\": 50, \"4\": 13, \"11\": 6, \"8\": 3, \"6\": 14, \"12\": 1}, \"14\": {\"4\": 46, \"14\": 166, \"8\": 16, \"11\": 10, \"5\": 1, \"1\": 1}, \"1\": {\"8\": 12, \"13\": 12, \"6\": 39, \"1\": 67, \"5\": 23, \"10\": 20, \"11\": 26, \"4\": 18, \"7\": 23}, \"0\": {\"0\": 240}, \"10\": {\"10\": 59, \"7\": 45, \"11\": 4, \"5\": 35, \"1\": 31, \"6\": 26, \"13\": 35, \"4\": 4, \"8\": 1}, \"6\": {\"1\": 43, \"5\": 18, \"13\": 11, \"11\": 16, \"6\": 50, \"7\": 49, \"10\": 35, \"4\": 13, \"8\": 5}, \"11\": {\"1\": 49, \"11\": 62, \"10\": 8, \"4\": 30, \"8\": 31, \"5\": 15, \"6\": 26, \"7\": 11, \"14\": 8}, \"7\": {\"6\": 54, \"13\": 29, \"11\": 10, \"10\": 34, \"1\": 29, \"7\": 54, \"5\": 28, \"8\": 1, \"4\": 1}, \"4\": {\"6\": 12, \"14\": 35, \"4\": 102, \"11\": 34, \"8\": 35, \"1\": 9, \"5\": 7, \"7\": 5, \"10\": 1}, \"12\": {\"15\": 92, \"12\": 130, \"2\": 18}}, \"O_38\": {\"13\": {\"13\": 134, \"5\": 1, \"0\": 53, \"7\": 20, \"2\": 7, \"10\": 15, \"14\": 10}, \"12\": {\"5\": 9, \"12\": 215, \"8\": 15, \"14\": 1}, \"2\": {\"8\": 32, \"2\": 101, \"0\": 3, \"5\": 14, \"7\": 28, \"14\": 24, \"9\": 32, \"13\": 6}, \"9\": {\"8\": 36, \"9\": 123, \"2\": 28, \"5\": 44, \"0\": 1, \"7\": 5, \"14\": 1, \"15\": 1, \"13\": 1}, \"15\": {\"6\": 17, \"15\": 179, \"5\": 22, \"9\": 7, \"8\": 11, \"1\": 3, \"12\": 1}, \"5\": {\"5\": 73, \"8\": 69, \"13\": 1, \"9\": 35, \"2\": 16, \"15\": 23, \"14\": 6, \"7\": 10, \"12\": 7}, \"14\": {\"14\": 129, \"7\": 63, \"2\": 13, \"13\": 10, \"8\": 6, \"0\": 11, \"10\": 1, \"5\": 5, \"4\": 2}, \"0\": {\"14\": 10, \"10\": 83, \"0\": 51, \"7\": 15, \"13\": 49, \"3\": 12, \"2\": 7, \"4\": 11, \"8\": 1, \"5\": 1}, \"3\": {\"3\": 222, \"10\": 6, \"11\": 10, \"0\": 2}, \"1\": {\"1\": 144, \"6\": 93, \"15\": 3}, \"11\": {\"11\": 231, \"3\": 9}, \"7\": {\"7\": 112, \"14\": 63, \"2\": 26, \"8\": 5, \"13\": 11, \"0\": 10, \"4\": 4, \"5\": 4, \"10\": 1, \"9\": 4}, \"8\": {\"7\": 28, \"2\": 28, \"15\": 24, \"8\": 51, \"9\": 17, \"5\": 66, \"12\": 15, \"14\": 9, \"13\": 2}, \"4\": {\"4\": 218, \"10\": 14, \"0\": 5, \"14\": 2, \"7\": 1}, \"10\": {\"14\": 1, \"10\": 149, \"0\": 70, \"13\": 9, \"4\": 8, \"3\": 3}, \"6\": {\"1\": 96, \"6\": 137, \"15\": 7}}, \"O_26\": {\"10\": {\"15\": 32, \"1\": 18, \"0\": 38, \"6\": 28, \"14\": 56, \"10\": 51, \"5\": 10, \"8\": 2, \"7\": 1, \"11\": 3, \"2\": 1}, \"12\": {\"12\": 112, \"9\": 39, \"7\": 9, \"13\": 45, \"2\": 6, \"8\": 13, \"3\": 16}, \"1\": {\"10\": 23, \"15\": 12, \"1\": 111, \"6\": 37, \"0\": 9, \"14\": 36, \"11\": 1, \"5\": 11}, \"0\": {\"0\": 75, \"2\": 21, \"5\": 5, \"1\": 7, \"10\": 45, \"6\": 10, \"7\": 8, \"14\": 39, \"15\": 10, \"8\": 18, \"9\": 2}, \"15\": {\"14\": 20, \"1\": 21, \"6\": 43, \"0\": 12, \"5\": 49, \"15\": 40, \"10\": 39, \"11\": 13, \"8\": 2, \"2\": 1}, \"13\": {\"12\": 44, \"13\": 117, \"9\": 27, \"3\": 24, \"7\": 9, \"4\": 11, \"0\": 1, \"8\": 4, \"2\": 3}, \"8\": {\"2\": 60, \"3\": 20, \"8\": 59, \"12\": 10, \"7\": 51, \"14\": 1, \"0\": 13, \"9\": 22, \"10\": 1, \"13\": 2, \"15\": 1}, \"3\": {\"3\": 65, \"2\": 17, \"4\": 13, \"8\": 21, \"7\": 36, \"9\": 42, \"13\": 27, \"12\": 19}, \"11\": {\"11\": 156, \"5\": 47, \"1\": 2, \"15\": 15, \"6\": 20}, \"4\": {\"4\": 179, \"13\": 14, \"3\": 37, \"7\": 3, \"12\": 2, \"9\": 4, \"8\": 1}, \"6\": {\"10\": 24, \"1\": 27, \"6\": 62, \"15\": 56, \"5\": 37, \"14\": 22, \"0\": 7, \"11\": 5}, \"7\": {\"7\": 69, \"3\": 24, \"8\": 55, \"2\": 43, \"9\": 27, \"12\": 8, \"0\": 8, \"4\": 1, \"13\": 4, \"10\": 1}, \"14\": {\"1\": 40, \"14\": 59, \"10\": 54, \"15\": 16, \"0\": 40, \"6\": 26, \"5\": 5}, \"2\": {\"0\": 23, \"2\": 45, \"8\": 49, \"7\": 43, \"13\": 6, \"5\": 1, \"12\": 10, \"3\": 18, \"9\": 33, \"15\": 8, \"10\": 3, \"14\": 1}, \"5\": {\"6\": 57, \"10\": 15, \"5\": 81, \"15\": 44, \"11\": 23, \"1\": 12, \"14\": 6, \"0\": 2}, \"9\": {\"7\": 22, \"12\": 24, \"8\": 36, \"13\": 28, \"2\": 33, \"9\": 53, \"3\": 40, \"0\": 3, \"4\": 1}}, \"O_20\": {\"5\": {\"4\": 3, \"3\": 37, \"8\": 17, \"1\": 57, \"5\": 36, \"2\": 3, \"15\": 15, \"9\": 32, \"7\": 12, \"14\": 10, \"12\": 4, \"6\": 10, \"0\": 3, \"13\": 1}, \"15\": {\"15\": 36, \"1\": 20, \"13\": 32, \"7\": 30, \"5\": 16, \"12\": 37, \"2\": 27, \"6\": 6, \"4\": 15, \"9\": 15, \"8\": 2, \"3\": 3, \"10\": 1}, \"9\": {\"1\": 32, \"15\": 26, \"9\": 33, \"6\": 15, \"3\": 27, \"0\": 1, \"12\": 11, \"2\": 25, \"7\": 37, \"5\": 20, \"14\": 1, \"4\": 3, \"8\": 5, \"13\": 4}, \"7\": {\"6\": 29, \"7\": 36, \"9\": 18, \"1\": 19, \"3\": 17, \"2\": 23, \"12\": 21, \"14\": 6, \"8\": 3, \"15\": 20, \"5\": 22, \"4\": 18, \"10\": 2, \"13\": 6}, \"3\": {\"3\": 36, \"8\": 28, \"0\": 5, \"6\": 11, \"7\": 29, \"14\": 28, \"12\": 6, \"1\": 26, \"2\": 6, \"9\": 24, \"5\": 30, \"4\": 2, \"15\": 9}, \"8\": {\"14\": 65, \"5\": 24, \"8\": 67, \"0\": 24, \"3\": 36, \"1\": 10, \"9\": 7, \"7\": 6, \"11\": 1}, \"4\": {\"4\": 53, \"7\": 29, \"6\": 43, \"15\": 9, \"1\": 8, \"2\": 18, \"12\": 25, \"10\": 27, \"9\": 8, \"13\": 12, \"5\": 6, \"3\": 1, \"14\": 1}, \"6\": {\"12\": 15, \"6\": 68, \"1\": 5, \"14\": 21, \"4\": 26, \"3\": 9, \"13\": 1, \"8\": 7, \"5\": 9, \"15\": 8, \"7\": 31, \"9\": 17, \"2\": 14, \"10\": 9}, \"2\": {\"2\": 45, \"13\": 25, \"6\": 13, \"1\": 18, \"9\": 20, \"3\": 1, \"12\": 34, \"15\": 31, \"4\": 18, \"7\": 22, \"5\": 10, \"8\": 1, \"10\": 2}, \"12\": {\"7\": 30, \"12\": 32, \"10\": 7, \"13\": 25, \"2\": 28, \"5\": 9, \"15\": 46, \"6\": 12, \"1\": 11, \"4\": 23, \"9\": 13, \"3\": 4}, \"0\": {\"14\": 3, \"11\": 65, \"0\": 125, \"8\": 30, \"5\": 4, \"9\": 3, \"3\": 6, \"1\": 3, \"15\": 1}, \"13\": {\"15\": 41, \"7\": 14, \"1\": 10, \"2\": 35, \"13\": 73, \"10\": 6, \"9\": 6, \"4\": 12, \"12\": 42, \"6\": 1}, \"10\": {\"10\": 111, \"6\": 20, \"12\": 19, \"13\": 17, \"4\": 52, \"7\": 11, \"2\": 6, \"9\": 1, \"14\": 1, \"15\": 2}, \"11\": {\"11\": 169, \"14\": 2, \"0\": 63, \"8\": 6}, \"14\": {\"14\": 101, \"8\": 66, \"5\": 16, \"6\": 18, \"3\": 24, \"1\": 3, \"7\": 3, \"9\": 9}, \"1\": {\"4\": 4, \"7\": 15, \"5\": 34, \"3\": 27, \"1\": 42, \"15\": 28, \"6\": 9, \"0\": 2, \"14\": 5, \"9\": 25, \"12\": 16, \"13\": 6, \"2\": 16, \"8\": 11}}, \"O_50\": {\"1\": {\"1\": 119, \"13\": 70, \"8\": 22, \"10\": 15, \"3\": 3, \"11\": 8, \"5\": 2, \"12\": 1}, \"2\": {\"14\": 61, \"2\": 128, \"0\": 49, \"10\": 2}, \"8\": {\"8\": 153, \"1\": 29, \"10\": 49, \"0\": 6, \"13\": 2, \"14\": 1}, \"7\": {\"7\": 105, \"4\": 85, \"5\": 32, \"15\": 9, \"6\": 7, \"9\": 2}, \"14\": {\"14\": 103, \"2\": 63, \"0\": 67, \"10\": 7}, \"6\": {\"12\": 11, \"15\": 47, \"6\": 62, \"3\": 23, \"9\": 31, \"5\": 42, \"11\": 19, \"13\": 1, \"7\": 4}, \"3\": {\"3\": 120, \"6\": 32, \"12\": 18, \"13\": 15, \"11\": 28, \"5\": 7, \"15\": 8, \"9\": 9, \"1\": 3}, \"4\": {\"4\": 102, \"7\": 106, \"6\": 3, \"15\": 9, \"5\": 18, \"9\": 2}, \"12\": {\"12\": 123, \"9\": 42, \"11\": 34, \"6\": 8, \"3\": 21, \"15\": 6, \"5\": 3, \"1\": 1, \"13\": 2}, \"15\": {\"5\": 65, \"6\": 34, \"15\": 75, \"9\": 35, \"4\": 4, \"3\": 6, \"7\": 9, \"11\": 11, \"12\": 1}, \"11\": {\"11\": 95, \"3\": 29, \"9\": 21, \"1\": 6, \"5\": 12, \"12\": 35, \"6\": 18, \"15\": 14, \"13\": 10}, \"0\": {\"10\": 30, \"0\": 109, \"14\": 47, \"2\": 54}, \"9\": {\"11\": 32, \"12\": 40, \"5\": 23, \"4\": 5, \"9\": 62, \"6\": 33, \"15\": 29, \"7\": 7, \"3\": 9}, \"10\": {\"10\": 135, \"0\": 38, \"8\": 44, \"14\": 3, \"1\": 16, \"2\": 4}, \"5\": {\"15\": 42, \"11\": 13, \"4\": 25, \"6\": 19, \"9\": 10, \"7\": 54, \"5\": 56, \"3\": 13, \"12\": 3, \"13\": 5}, \"13\": {\"1\": 54, \"13\": 143, \"11\": 25, \"8\": 5, \"5\": 3, \"10\": 1, \"3\": 8, \"6\": 1}}, \"O_32\": {\"2\": {\"2\": 99, \"4\": 79, \"1\": 17, \"13\": 8, \"9\": 5, \"8\": 4, \"14\": 13, \"0\": 4, \"3\": 10, \"7\": 1}, \"6\": {\"6\": 231, \"10\": 9}, \"5\": {\"8\": 32, \"5\": 84, \"7\": 56, \"0\": 41, \"14\": 18, \"15\": 8, \"2\": 1}, \"12\": {\"12\": 167, \"10\": 31, \"9\": 37, \"11\": 5}, \"13\": {\"13\": 81, \"2\": 19, \"4\": 42, \"11\": 11, \"14\": 2, \"3\": 72, \"9\": 12, \"8\": 1}, \"9\": {\"4\": 13, \"9\": 111, \"12\": 39, \"11\": 30, \"13\": 16, \"10\": 2, \"2\": 7, \"1\": 18, \"3\": 4}, \"11\": {\"12\": 9, \"11\": 175, \"9\": 32, \"3\": 6, \"13\": 17, \"2\": 1}, \"1\": {\"1\": 221, \"2\": 10, \"9\": 4, \"4\": 5}, \"3\": {\"13\": 52, \"3\": 138, \"4\": 34, \"8\": 3, \"11\": 1, \"2\": 12}, \"7\": {\"7\": 77, \"8\": 22, \"5\": 48, \"0\": 55, \"14\": 35, \"2\": 2, \"4\": 1}, \"14\": {\"14\": 63, \"0\": 42, \"8\": 26, \"7\": 50, \"9\": 1, \"2\": 24, \"5\": 21, \"4\": 12, \"1\": 1}, \"8\": {\"0\": 60, \"7\": 19, \"5\": 29, \"8\": 86, \"3\": 4, \"14\": 21, \"15\": 18, \"4\": 2, \"13\": 1}, \"4\": {\"4\": 84, \"3\": 25, \"1\": 10, \"2\": 76, \"13\": 35, \"9\": 4, \"14\": 4, \"0\": 1, \"8\": 1}, \"0\": {\"5\": 34, \"7\": 54, \"0\": 54, \"8\": 58, \"2\": 2, \"14\": 37, \"3\": 1}, \"10\": {\"10\": 209, \"12\": 30, \"6\": 1}, \"15\": {\"15\": 220, \"8\": 12, \"5\": 7, \"0\": 1}}, \"O_44\": {\"13\": {\"13\": 127, \"6\": 84, \"7\": 5, \"9\": 17, \"11\": 6, \"10\": 1}, \"4\": {\"4\": 58, \"2\": 12, \"15\": 13, \"14\": 48, \"5\": 28, \"9\": 27, \"7\": 29, \"10\": 18, \"13\": 1, \"6\": 1, \"8\": 2, \"1\": 3}, \"6\": {\"13\": 91, \"6\": 110, \"9\": 26, \"7\": 12, \"10\": 1}, \"0\": {\"0\": 149, \"8\": 65, \"1\": 7, \"3\": 4, \"15\": 15}, \"10\": {\"7\": 55, \"10\": 74, \"9\": 62, \"2\": 8, \"14\": 7, \"4\": 12, \"1\": 6, \"5\": 3, \"6\": 10, \"13\": 3}, \"7\": {\"7\": 72, \"9\": 53, \"13\": 3, \"5\": 7, \"10\": 71, \"14\": 3, \"4\": 23, \"6\": 7, \"2\": 1}, \"14\": {\"14\": 72, \"7\": 6, \"15\": 31, \"5\": 55, \"4\": 52, \"2\": 9, \"10\": 6, \"1\": 3, \"9\": 5, \"8\": 1}, \"15\": {\"14\": 20, \"5\": 37, \"15\": 115, \"8\": 49, \"1\": 11, \"0\": 5, \"4\": 3}, \"5\": {\"14\": 59, \"2\": 7, \"4\": 40, \"5\": 81, \"15\": 39, \"7\": 2, \"10\": 2, \"8\": 3, \"1\": 3, \"9\": 3, \"0\": 1}, \"2\": {\"2\": 126, \"15\": 3, \"7\": 12, \"4\": 14, \"5\": 5, \"1\": 40, \"14\": 13, \"10\": 24, \"9\": 3}, \"9\": {\"7\": 46, \"9\": 46, \"13\": 34, \"10\": 42, \"2\": 19, \"4\": 18, \"6\": 24, \"14\": 9, \"5\": 2}, \"12\": {\"3\": 91, \"12\": 147, \"0\": 2}, \"8\": {\"5\": 8, \"8\": 102, \"0\": 81, \"15\": 44, \"3\": 1, \"14\": 3, \"1\": 1}, \"3\": {\"3\": 124, \"12\": 102, \"0\": 14}, \"1\": {\"1\": 141, \"2\": 55, \"15\": 19, \"14\": 6, \"5\": 6, \"0\": 3, \"4\": 5, \"8\": 2, \"7\": 1, \"12\": 2}, \"11\": {\"11\": 234, \"13\": 4, \"6\": 1, \"9\": 1}}, \"O_14\": {\"1\": {\"10\": 26, \"9\": 63, \"1\": 147, \"4\": 4}, \"15\": {\"15\": 240}, \"10\": {\"10\": 140, \"4\": 76, \"12\": 3, \"1\": 11, \"9\": 9, \"5\": 1}, \"2\": {\"5\": 53, \"2\": 52, \"4\": 15, \"14\": 40, \"6\": 18, \"10\": 4, \"3\": 21, \"7\": 11, \"0\": 14, \"13\": 12}, \"9\": {\"9\": 184, \"12\": 3, \"1\": 48, \"10\": 5}, \"5\": {\"2\": 56, \"5\": 77, \"14\": 13, \"7\": 33, \"8\": 13, \"0\": 32, \"4\": 4, \"12\": 6, \"6\": 2, \"13\": 4}, \"7\": {\"8\": 15, \"2\": 16, \"14\": 12, \"7\": 116, \"0\": 23, \"5\": 32, \"3\": 21, \"6\": 4, \"13\": 1}, \"13\": {\"13\": 53, \"6\": 71, \"15\": 17, \"7\": 2, \"5\": 11, \"14\": 35, \"2\": 25, \"3\": 11, \"0\": 9, \"12\": 1, \"10\": 1, \"4\": 4}, \"8\": {\"5\": 22, \"8\": 138, \"0\": 9, \"7\": 17, \"12\": 50, \"4\": 3, \"3\": 1}, \"6\": {\"13\": 54, \"6\": 96, \"14\": 30, \"3\": 44, \"0\": 4, \"2\": 11, \"7\": 1}, \"3\": {\"3\": 83, \"7\": 36, \"5\": 4, \"0\": 34, \"6\": 31, \"14\": 16, \"13\": 24, \"2\": 12}, \"12\": {\"12\": 167, \"4\": 12, \"8\": 46, \"5\": 7, \"10\": 3, \"9\": 1, \"0\": 4}, \"0\": {\"13\": 8, \"14\": 20, \"12\": 5, \"3\": 36, \"7\": 24, \"0\": 67, \"6\": 8, \"5\": 35, \"8\": 10, \"2\": 22, \"4\": 4, \"10\": 1}, \"4\": {\"5\": 29, \"4\": 121, \"14\": 1, \"10\": 61, \"12\": 8, \"2\": 7, \"1\": 5, \"8\": 5, \"0\": 3}, \"14\": {\"14\": 78, \"2\": 43, \"0\": 22, \"6\": 30, \"7\": 13, \"3\": 18, \"13\": 24, \"5\": 12}, \"11\": {\"11\": 237, \"1\": 3}}}, \"per_domain_accuracy\": {\"C_2\": {\"accuracy\": 0.9996448863636364, \"source?\": true}, \"W_2\": {\"accuracy\": 0.9641544117647058, \"source?\": true}, \"W_4\": {\"accuracy\": 0.9661779835390947, \"source?\": true}, \"W_1\": {\"accuracy\": 0.9847074468085106, \"source?\": true}, \"W_3\": {\"accuracy\": 0.9829295154185022, \"source?\": true}, \"C_5\": {\"accuracy\": 0.9996488764044944, \"source?\": true}, \"C_1\": {\"accuracy\": 0.9996565934065934, \"source?\": true}, \"C_4\": {\"accuracy\": 0.9983158682634731, \"source?\": true}, \"C_3\": {\"accuracy\": 0.9996345029239766, \"source?\": true}, \"O_8\": {\"accuracy\": 0.47890625, \"source?\": false}, \"O_38\": {\"accuracy\": 0.5908854166666667, \"source?\": false}, \"O_26\": {\"accuracy\": 0.34739583333333335, \"source?\": false}, \"O_20\": {\"accuracy\": 0.27682291666666664, \"source?\": false}, \"O_50\": {\"accuracy\": 0.4401041666666667, \"source?\": false}, \"O_32\": {\"accuracy\": 0.546875, \"source?\": false}, \"O_44\": {\"accuracy\": 0.4630208333333333, \"source?\": false}, \"O_14\": {\"accuracy\": 0.5197916666666667, \"source?\": false}}}, \"history\": {\"epoch_indices\": [1, 2, 3, 4, 5, 6, 7], \"train_label_loss\": [0.11529087736669189, 0.07581473965573796, 0.06289638546337604, 0.05572737138621471, 0.05149110433780728, 0.04813358102926592, 0.04478206087946074], \"source_val_label_loss\": [0.10443484038114548, 0.06485595554113388, 0.05911823362112045, 0.05415095388889313, 0.05419411137700081, 0.05224567651748657, 0.05246804282069206], \"target_val_label_loss\": [2.525324821472168, 2.4278628826141357, 2.3781940937042236, 2.3837761878967285, 2.2700791358947754, 2.3450865745544434, 2.3570728302001953], \"source_val_acc_label\": [0.9799979361585031, 0.9848651623555311, 0.9863786461199779, 0.9872041827187672, 0.9871869840396258, 0.9873417721518988, 0.9873589708310402], \"target_val_acc_label\": [0.3861328125, 0.43854166666666666, 0.45797526041666664, 0.35992838541666666, 0.38043619791666666, 0.2872721354166667, 0.28375651041666666]}, \"dataset_metrics\": {\"source\": {\"train\": {\"n_unique_x\": 364202, \"n_unique_y\": 130, \"n_batch/episode\": 13166}, \"val\": {\"n_unique_x\": 77154, \"n_unique_y\": 130, \"n_batch/episode\": 1817}, \"test\": {\"n_unique_x\": 78411, \"n_unique_y\": 130, \"n_batch/episode\": 1853}}, \"target\": {\"train\": {\"n_unique_x\": 179200, \"n_unique_y\": 16, \"n_batch/episode\": 6720}, \"val\": {\"n_unique_x\": 38400, \"n_unique_y\": 16, \"n_batch/episode\": 960}, \"test\": {\"n_unique_x\": 38400, \"n_unique_y\": 16, \"n_batch/episode\": 960}}}}'"
      ]
     },
     "execution_count": 29,
     "metadata": {},
     "output_type": "execute_result"
    }
   ],
   "source": [
    "json.dumps(experiment)"
   ]
  }
 ],
 "metadata": {
  "celltoolbar": "Tags",
  "kernelspec": {
   "display_name": "Python 3 (ipykernel)",
   "language": "python",
   "name": "python3"
  },
  "language_info": {
   "codemirror_mode": {
    "name": "ipython",
    "version": 3
   },
   "file_extension": ".py",
   "mimetype": "text/x-python",
   "name": "python",
   "nbconvert_exporter": "python",
   "pygments_lexer": "ipython3",
   "version": "3.8.10"
  },
  "papermill": {
   "default_parameters": {},
   "duration": 4618.492828,
   "end_time": "2022-03-20T09:26:54.804820",
   "environment_variables": {},
   "exception": null,
   "input_path": "/mnt/wd500GB/CSC500/csc500-main/csc500-notebooks/templates/tl_ptn_template.ipynb",
   "output_path": "trial.ipynb",
   "parameters": {
    "parameters": {
     "BEST_MODEL_PATH": "./best_model.pth",
     "NUM_LOGS_PER_EPOCH": 10,
     "criteria_for_best": "target_accuracy",
     "dataset_seed": 154325,
     "datasets": [
      {
       "domain_prefix": "C_",
       "domains": [
        1,
        2,
        3,
        4,
        5
       ],
       "episode_transforms": [],
       "labels": [
        "1-10.",
        "1-11.",
        "1-15.",
        "1-16.",
        "1-17.",
        "1-18.",
        "1-19.",
        "10-4.",
        "10-7.",
        "11-1.",
        "11-14.",
        "11-17.",
        "11-20.",
        "11-7.",
        "13-20.",
        "13-8.",
        "14-10.",
        "14-11.",
        "14-14.",
        "14-7.",
        "15-1.",
        "15-20.",
        "16-1.",
        "16-16.",
        "17-10.",
        "17-11.",
        "17-2.",
        "19-1.",
        "19-16.",
        "19-19.",
        "19-20.",
        "19-3.",
        "2-10.",
        "2-11.",
        "2-17.",
        "2-18.",
        "2-20.",
        "2-3.",
        "2-4.",
        "2-5.",
        "2-6.",
        "2-7.",
        "2-8.",
        "3-13.",
        "3-18.",
        "3-3.",
        "4-1.",
        "4-10.",
        "4-11.",
        "4-19.",
        "5-5.",
        "6-15.",
        "7-10.",
        "7-14.",
        "8-18.",
        "8-20.",
        "8-3.",
        "8-8."
       ],
       "num_examples_per_domain_per_label": -1,
       "pickle_path": "/mnt/wd500GB/CSC500/csc500-main/datasets/cores.stratified_ds.2022A.pkl",
       "source_or_target_dataset": "source",
       "x_transforms": []
      },
      {
       "domain_prefix": "W_",
       "domains": [
        1,
        2,
        3,
        4
       ],
       "episode_transforms": [],
       "labels": [
        "1-10",
        "1-12",
        "1-14",
        "1-16",
        "1-18",
        "1-19",
        "1-8",
        "10-11",
        "10-17",
        "10-4",
        "10-7",
        "11-1",
        "11-10",
        "11-19",
        "11-20",
        "11-4",
        "11-7",
        "12-19",
        "12-20",
        "12-7",
        "13-14",
        "13-18",
        "13-19",
        "13-20",
        "13-3",
        "13-7",
        "14-10",
        "14-11",
        "14-12",
        "14-13",
        "14-14",
        "14-19",
        "14-20",
        "14-7",
        "14-8",
        "14-9",
        "15-1",
        "15-19",
        "15-6",
        "16-1",
        "16-16",
        "16-19",
        "16-20",
        "17-10",
        "17-11",
        "18-1",
        "18-10",
        "18-11",
        "18-12",
        "18-13",
        "18-14",
        "18-15",
        "18-16",
        "18-17",
        "18-19",
        "18-2",
        "18-20",
        "18-4",
        "18-5",
        "18-7",
        "18-8",
        "18-9",
        "19-1",
        "19-10",
        "19-11",
        "19-12",
        "19-13",
        "19-14",
        "19-15",
        "19-19",
        "19-2",
        "19-20",
        "19-3",
        "19-4",
        "19-6",
        "19-7",
        "19-8",
        "19-9",
        "2-1",
        "2-13",
        "2-15",
        "2-3",
        "2-4",
        "2-5",
        "2-6",
        "2-7",
        "2-8",
        "20-1",
        "20-12",
        "20-14",
        "20-15",
        "20-16",
        "20-18",
        "20-19",
        "20-20",
        "20-3",
        "20-4",
        "20-5",
        "20-7",
        "20-8",
        "3-1",
        "3-13",
        "3-18",
        "3-2",
        "3-8",
        "4-1",
        "4-10",
        "4-11",
        "5-1",
        "5-5",
        "6-1",
        "6-15",
        "6-6",
        "7-10",
        "7-11",
        "7-12",
        "7-13",
        "7-14",
        "7-7",
        "7-8",
        "7-9",
        "8-1",
        "8-13",
        "8-14",
        "8-18",
        "8-20",
        "8-3",
        "8-8",
        "9-1",
        "9-7"
       ],
       "num_examples_per_domain_per_label": -1,
       "pickle_path": "/mnt/wd500GB/CSC500/csc500-main/datasets/wisig.node3-19.stratified_ds.2022A.pkl",
       "source_or_target_dataset": "source",
       "x_transforms": []
      },
      {
       "domain_prefix": "O_",
       "domains": [
        32,
        38,
        8,
        44,
        14,
        50,
        20,
        26
       ],
       "episode_transforms": [],
       "labels": [
        "3123D52",
        "3123D65",
        "3123D79",
        "3123D80",
        "3123D54",
        "3123D70",
        "3123D7B",
        "3123D89",
        "3123D58",
        "3123D76",
        "3123D7D",
        "3123EFE",
        "3123D64",
        "3123D78",
        "3123D7E",
        "3124E4A"
       ],
       "num_examples_per_domain_per_label": 2000,
       "pickle_path": "/mnt/wd500GB/CSC500/csc500-main/datasets/oracle.Run1_framed_2000Examples_stratified_ds.2022A.pkl",
       "source_or_target_dataset": "target",
       "x_transforms": []
      }
     ],
     "device": "cuda",
     "experiment_name": "tl_2v2:cores+wisig -> oracle.run1.framed",
     "lr": 0.0001,
     "n_epoch": 50,
     "n_query": 2,
     "n_shot": 3,
     "n_way": 16,
     "patience": 3,
     "seed": 154325,
     "test_k_factor": 2,
     "torch_default_dtype": "torch.float32",
     "train_k_factor": 3,
     "val_k_factor": 2,
     "x_net": [
      {
       "class": "nnReshape",
       "kargs": {
        "shape": [
         -1,
         1,
         2,
         256
        ]
       }
      },
      {
       "class": "Conv2d",
       "kargs": {
        "bias": false,
        "in_channels": 1,
        "kernel_size": [
         1,
         7
        ],
        "out_channels": 256,
        "padding": [
         0,
         3
        ]
       }
      },
      {
       "class": "ReLU",
       "kargs": {
        "inplace": true
       }
      },
      {
       "class": "BatchNorm2d",
       "kargs": {
        "num_features": 256
       }
      },
      {
       "class": "Conv2d",
       "kargs": {
        "bias": true,
        "in_channels": 256,
        "kernel_size": [
         2,
         7
        ],
        "out_channels": 80,
        "padding": [
         0,
         3
        ]
       }
      },
      {
       "class": "ReLU",
       "kargs": {
        "inplace": true
       }
      },
      {
       "class": "BatchNorm2d",
       "kargs": {
        "num_features": 80
       }
      },
      {
       "class": "Flatten",
       "kargs": {}
      },
      {
       "class": "Linear",
       "kargs": {
        "in_features": 20480,
        "out_features": 256
       }
      },
      {
       "class": "ReLU",
       "kargs": {
        "inplace": true
       }
      },
      {
       "class": "BatchNorm1d",
       "kargs": {
        "num_features": 256
       }
      },
      {
       "class": "Linear",
       "kargs": {
        "in_features": 256,
        "out_features": 256
       }
      }
     ]
    }
   },
   "start_time": "2022-03-20T08:09:56.311992",
   "version": "2.3.4"
  }
 },
 "nbformat": 4,
 "nbformat_minor": 5
}