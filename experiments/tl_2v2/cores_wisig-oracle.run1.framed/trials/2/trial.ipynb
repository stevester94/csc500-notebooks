{
 "cells": [
  {
   "cell_type": "markdown",
   "id": "9fea5f46",
   "metadata": {
    "papermill": {
     "duration": 0.017158,
     "end_time": "2022-03-20T03:19:56.996364",
     "exception": false,
     "start_time": "2022-03-20T03:19:56.979206",
     "status": "completed"
    },
    "tags": []
   },
   "source": [
    "# Transfer Learning Template"
   ]
  },
  {
   "cell_type": "code",
   "execution_count": 1,
   "id": "0902182a",
   "metadata": {
    "execution": {
     "iopub.execute_input": "2022-03-20T03:19:57.036806Z",
     "iopub.status.busy": "2022-03-20T03:19:57.036276Z",
     "iopub.status.idle": "2022-03-20T03:19:58.014732Z",
     "shell.execute_reply": "2022-03-20T03:19:58.014189Z"
    },
    "papermill": {
     "duration": 1.005553,
     "end_time": "2022-03-20T03:19:58.014849",
     "exception": false,
     "start_time": "2022-03-20T03:19:57.009296",
     "status": "completed"
    },
    "tags": []
   },
   "outputs": [],
   "source": [
    "%load_ext autoreload\n",
    "%autoreload 2\n",
    "%matplotlib inline\n",
    "\n",
    "    \n",
    "import os, json, sys, time, random\n",
    "import numpy as np\n",
    "import torch\n",
    "from torch.optim import Adam\n",
    "from  easydict import EasyDict\n",
    "import matplotlib.pyplot as plt\n",
    "\n",
    "from steves_models.steves_ptn import Steves_Prototypical_Network\n",
    "\n",
    "from steves_utils.lazy_iterable_wrapper import Lazy_Iterable_Wrapper\n",
    "from steves_utils.iterable_aggregator import Iterable_Aggregator\n",
    "from steves_utils.ptn_train_eval_test_jig import  PTN_Train_Eval_Test_Jig\n",
    "from steves_utils.torch_sequential_builder import build_sequential\n",
    "from steves_utils.torch_utils import get_dataset_metrics, ptn_confusion_by_domain_over_dataloader\n",
    "from steves_utils.utils_v2 import (per_domain_accuracy_from_confusion, get_datasets_base_path)\n",
    "from steves_utils.PTN.utils import independent_accuracy_assesment\n",
    "\n",
    "from torch.utils.data import DataLoader\n",
    "\n",
    "from steves_utils.stratified_dataset.episodic_accessor import Episodic_Accessor_Factory\n",
    "\n",
    "from steves_utils.ptn_do_report import (\n",
    "    get_loss_curve,\n",
    "    get_results_table,\n",
    "    get_parameters_table,\n",
    "    get_domain_accuracies,\n",
    ")\n",
    "\n",
    "from steves_utils.transforms import get_chained_transform"
   ]
  },
  {
   "cell_type": "markdown",
   "id": "41c840b4",
   "metadata": {
    "papermill": {
     "duration": 0.013933,
     "end_time": "2022-03-20T03:19:58.047235",
     "exception": false,
     "start_time": "2022-03-20T03:19:58.033302",
     "status": "completed"
    },
    "tags": []
   },
   "source": [
    "# Allowed Parameters\n",
    "These are allowed parameters, not defaults\n",
    "Each of these values need to be present in the injected parameters (the notebook will raise an exception if they are not present)\n",
    "\n",
    "Papermill uses the cell tag \"parameters\" to inject the real parameters below this cell.\n",
    "Enable tags to see what I mean"
   ]
  },
  {
   "cell_type": "code",
   "execution_count": 2,
   "id": "fd44eb83",
   "metadata": {
    "execution": {
     "iopub.execute_input": "2022-03-20T03:19:58.085044Z",
     "iopub.status.busy": "2022-03-20T03:19:58.084648Z",
     "iopub.status.idle": "2022-03-20T03:19:58.091946Z",
     "shell.execute_reply": "2022-03-20T03:19:58.091432Z"
    },
    "papermill": {
     "duration": 0.031691,
     "end_time": "2022-03-20T03:19:58.092048",
     "exception": false,
     "start_time": "2022-03-20T03:19:58.060357",
     "status": "completed"
    },
    "tags": []
   },
   "outputs": [],
   "source": [
    "required_parameters = {\n",
    "    \"experiment_name\",\n",
    "    \"lr\",\n",
    "    \"device\",\n",
    "    \"seed\",\n",
    "    \"dataset_seed\",\n",
    "    \"n_shot\",\n",
    "    \"n_query\",\n",
    "    \"n_way\",\n",
    "    \"train_k_factor\",\n",
    "    \"val_k_factor\",\n",
    "    \"test_k_factor\",\n",
    "    \"n_epoch\",\n",
    "    \"patience\",\n",
    "    \"criteria_for_best\",\n",
    "    \"x_net\",\n",
    "    \"datasets\",\n",
    "    \"torch_default_dtype\",\n",
    "    \"NUM_LOGS_PER_EPOCH\",\n",
    "    \"BEST_MODEL_PATH\",\n",
    "    \"x_shape\",\n",
    "}"
   ]
  },
  {
   "cell_type": "code",
   "execution_count": 3,
   "id": "fa3f0049",
   "metadata": {
    "execution": {
     "iopub.execute_input": "2022-03-20T03:19:58.132798Z",
     "iopub.status.busy": "2022-03-20T03:19:58.132380Z",
     "iopub.status.idle": "2022-03-20T03:19:58.145724Z",
     "shell.execute_reply": "2022-03-20T03:19:58.145152Z"
    },
    "papermill": {
     "duration": 0.036693,
     "end_time": "2022-03-20T03:19:58.145842",
     "exception": false,
     "start_time": "2022-03-20T03:19:58.109149",
     "status": "completed"
    },
    "tags": [
     "parameters"
    ]
   },
   "outputs": [],
   "source": [
    "from steves_utils.CORES.utils import (\n",
    "    ALL_NODES,\n",
    "    ALL_NODES_MINIMUM_1000_EXAMPLES,\n",
    "    ALL_DAYS\n",
    ")\n",
    "\n",
    "from steves_utils.ORACLE.utils_v2 import (\n",
    "    ALL_DISTANCES_FEET_NARROWED,\n",
    "    ALL_RUNS,\n",
    "    ALL_SERIAL_NUMBERS,\n",
    ")\n",
    "\n",
    "standalone_parameters = {}\n",
    "standalone_parameters[\"experiment_name\"] = \"STANDALONE PTN\"\n",
    "standalone_parameters[\"lr\"] = 0.001\n",
    "standalone_parameters[\"device\"] = \"cuda\"\n",
    "\n",
    "standalone_parameters[\"seed\"] = 1337\n",
    "standalone_parameters[\"dataset_seed\"] = 1337\n",
    "\n",
    "standalone_parameters[\"n_way\"] = 8\n",
    "standalone_parameters[\"n_shot\"] = 3\n",
    "standalone_parameters[\"n_query\"]  = 2\n",
    "standalone_parameters[\"train_k_factor\"] = 1\n",
    "standalone_parameters[\"val_k_factor\"] = 2\n",
    "standalone_parameters[\"test_k_factor\"] = 2\n",
    "\n",
    "\n",
    "standalone_parameters[\"n_epoch\"] = 50\n",
    "\n",
    "standalone_parameters[\"patience\"] = 10\n",
    "standalone_parameters[\"criteria_for_best\"] = \"source_loss\"\n",
    "\n",
    "standalone_parameters[\"datasets\"] = [\n",
    "    {\n",
    "        \"labels\": ALL_SERIAL_NUMBERS,\n",
    "        \"domains\": ALL_DISTANCES_FEET_NARROWED,\n",
    "        \"num_examples_per_domain_per_label\": 100,\n",
    "        \"pickle_path\": os.path.join(get_datasets_base_path(), \"oracle.Run1_framed_2000Examples_stratified_ds.2022A.pkl\"),\n",
    "        \"source_or_target_dataset\": \"source\",\n",
    "        \"x_transforms\": [\"unit_mag\", \"minus_two\"],\n",
    "        \"episode_transforms\": [],\n",
    "        \"domain_prefix\": \"ORACLE_\"\n",
    "    },\n",
    "    {\n",
    "        \"labels\": ALL_NODES,\n",
    "        \"domains\": ALL_DAYS,\n",
    "        \"num_examples_per_domain_per_label\": 100,\n",
    "        \"pickle_path\": os.path.join(get_datasets_base_path(), \"cores.stratified_ds.2022A.pkl\"),\n",
    "        \"source_or_target_dataset\": \"target\",\n",
    "        \"x_transforms\": [\"unit_power\", \"times_zero\"],\n",
    "        \"episode_transforms\": [],\n",
    "        \"domain_prefix\": \"CORES_\"\n",
    "    }   \n",
    "]\n",
    "\n",
    "standalone_parameters[\"torch_default_dtype\"] = \"torch.float32\" \n",
    "\n",
    "\n",
    "\n",
    "standalone_parameters[\"x_net\"] =     [\n",
    "    {\"class\": \"nnReshape\", \"kargs\": {\"shape\":[-1, 1, 2, 256]}},\n",
    "    {\"class\": \"Conv2d\", \"kargs\": { \"in_channels\":1, \"out_channels\":256, \"kernel_size\":(1,7), \"bias\":False, \"padding\":(0,3), },},\n",
    "    {\"class\": \"ReLU\", \"kargs\": {\"inplace\": True}},\n",
    "    {\"class\": \"BatchNorm2d\", \"kargs\": {\"num_features\":256}},\n",
    "\n",
    "    {\"class\": \"Conv2d\", \"kargs\": { \"in_channels\":256, \"out_channels\":80, \"kernel_size\":(2,7), \"bias\":True, \"padding\":(0,3), },},\n",
    "    {\"class\": \"ReLU\", \"kargs\": {\"inplace\": True}},\n",
    "    {\"class\": \"BatchNorm2d\", \"kargs\": {\"num_features\":80}},\n",
    "    {\"class\": \"Flatten\", \"kargs\": {}},\n",
    "\n",
    "    {\"class\": \"Linear\", \"kargs\": {\"in_features\": 80*256, \"out_features\": 256}}, # 80 units per IQ pair\n",
    "    {\"class\": \"ReLU\", \"kargs\": {\"inplace\": True}},\n",
    "    {\"class\": \"BatchNorm1d\", \"kargs\": {\"num_features\":256}},\n",
    "\n",
    "    {\"class\": \"Linear\", \"kargs\": {\"in_features\": 256, \"out_features\": 256}},\n",
    "]\n",
    "\n",
    "# Parameters relevant to results\n",
    "# These parameters will basically never need to change\n",
    "standalone_parameters[\"NUM_LOGS_PER_EPOCH\"] = 10\n",
    "standalone_parameters[\"BEST_MODEL_PATH\"] = \"./best_model.pth\"\n",
    "\n",
    "\n",
    "\n",
    "\n"
   ]
  },
  {
   "cell_type": "code",
   "execution_count": 4,
   "id": "15338a89",
   "metadata": {
    "execution": {
     "iopub.execute_input": "2022-03-20T03:19:58.191418Z",
     "iopub.status.busy": "2022-03-20T03:19:58.184469Z",
     "iopub.status.idle": "2022-03-20T03:19:58.204891Z",
     "shell.execute_reply": "2022-03-20T03:19:58.204456Z"
    },
    "papermill": {
     "duration": 0.040751,
     "end_time": "2022-03-20T03:19:58.204991",
     "exception": false,
     "start_time": "2022-03-20T03:19:58.164240",
     "status": "completed"
    },
    "tags": [
     "injected-parameters"
    ]
   },
   "outputs": [],
   "source": [
    "# Parameters\n",
    "parameters = {\n",
    "    \"experiment_name\": \"tl_2v2:cores+wisig -> oracle.run1.framed\",\n",
    "    \"device\": \"cuda\",\n",
    "    \"lr\": 0.0001,\n",
    "    \"n_shot\": 3,\n",
    "    \"n_query\": 2,\n",
    "    \"train_k_factor\": 3,\n",
    "    \"val_k_factor\": 2,\n",
    "    \"test_k_factor\": 2,\n",
    "    \"torch_default_dtype\": \"torch.float32\",\n",
    "    \"n_epoch\": 50,\n",
    "    \"patience\": 3,\n",
    "    \"criteria_for_best\": \"target_accuracy\",\n",
    "    \"x_net\": [\n",
    "        {\"class\": \"nnReshape\", \"kargs\": {\"shape\": [-1, 1, 2, 256]}},\n",
    "        {\n",
    "            \"class\": \"Conv2d\",\n",
    "            \"kargs\": {\n",
    "                \"in_channels\": 1,\n",
    "                \"out_channels\": 256,\n",
    "                \"kernel_size\": [1, 7],\n",
    "                \"bias\": False,\n",
    "                \"padding\": [0, 3],\n",
    "            },\n",
    "        },\n",
    "        {\"class\": \"ReLU\", \"kargs\": {\"inplace\": True}},\n",
    "        {\"class\": \"BatchNorm2d\", \"kargs\": {\"num_features\": 256}},\n",
    "        {\n",
    "            \"class\": \"Conv2d\",\n",
    "            \"kargs\": {\n",
    "                \"in_channels\": 256,\n",
    "                \"out_channels\": 80,\n",
    "                \"kernel_size\": [2, 7],\n",
    "                \"bias\": True,\n",
    "                \"padding\": [0, 3],\n",
    "            },\n",
    "        },\n",
    "        {\"class\": \"ReLU\", \"kargs\": {\"inplace\": True}},\n",
    "        {\"class\": \"BatchNorm2d\", \"kargs\": {\"num_features\": 80}},\n",
    "        {\"class\": \"Flatten\", \"kargs\": {}},\n",
    "        {\"class\": \"Linear\", \"kargs\": {\"in_features\": 20480, \"out_features\": 256}},\n",
    "        {\"class\": \"ReLU\", \"kargs\": {\"inplace\": True}},\n",
    "        {\"class\": \"BatchNorm1d\", \"kargs\": {\"num_features\": 256}},\n",
    "        {\"class\": \"Linear\", \"kargs\": {\"in_features\": 256, \"out_features\": 256}},\n",
    "    ],\n",
    "    \"NUM_LOGS_PER_EPOCH\": 10,\n",
    "    \"BEST_MODEL_PATH\": \"./best_model.pth\",\n",
    "    \"n_way\": 16,\n",
    "    \"datasets\": [\n",
    "        {\n",
    "            \"labels\": [\n",
    "                \"1-10.\",\n",
    "                \"1-11.\",\n",
    "                \"1-15.\",\n",
    "                \"1-16.\",\n",
    "                \"1-17.\",\n",
    "                \"1-18.\",\n",
    "                \"1-19.\",\n",
    "                \"10-4.\",\n",
    "                \"10-7.\",\n",
    "                \"11-1.\",\n",
    "                \"11-14.\",\n",
    "                \"11-17.\",\n",
    "                \"11-20.\",\n",
    "                \"11-7.\",\n",
    "                \"13-20.\",\n",
    "                \"13-8.\",\n",
    "                \"14-10.\",\n",
    "                \"14-11.\",\n",
    "                \"14-14.\",\n",
    "                \"14-7.\",\n",
    "                \"15-1.\",\n",
    "                \"15-20.\",\n",
    "                \"16-1.\",\n",
    "                \"16-16.\",\n",
    "                \"17-10.\",\n",
    "                \"17-11.\",\n",
    "                \"17-2.\",\n",
    "                \"19-1.\",\n",
    "                \"19-16.\",\n",
    "                \"19-19.\",\n",
    "                \"19-20.\",\n",
    "                \"19-3.\",\n",
    "                \"2-10.\",\n",
    "                \"2-11.\",\n",
    "                \"2-17.\",\n",
    "                \"2-18.\",\n",
    "                \"2-20.\",\n",
    "                \"2-3.\",\n",
    "                \"2-4.\",\n",
    "                \"2-5.\",\n",
    "                \"2-6.\",\n",
    "                \"2-7.\",\n",
    "                \"2-8.\",\n",
    "                \"3-13.\",\n",
    "                \"3-18.\",\n",
    "                \"3-3.\",\n",
    "                \"4-1.\",\n",
    "                \"4-10.\",\n",
    "                \"4-11.\",\n",
    "                \"4-19.\",\n",
    "                \"5-5.\",\n",
    "                \"6-15.\",\n",
    "                \"7-10.\",\n",
    "                \"7-14.\",\n",
    "                \"8-18.\",\n",
    "                \"8-20.\",\n",
    "                \"8-3.\",\n",
    "                \"8-8.\",\n",
    "            ],\n",
    "            \"domains\": [1, 2, 3, 4, 5],\n",
    "            \"num_examples_per_domain_per_label\": -1,\n",
    "            \"pickle_path\": \"/mnt/wd500GB/CSC500/csc500-main/datasets/cores.stratified_ds.2022A.pkl\",\n",
    "            \"source_or_target_dataset\": \"source\",\n",
    "            \"x_transforms\": [],\n",
    "            \"episode_transforms\": [],\n",
    "            \"domain_prefix\": \"C_\",\n",
    "        },\n",
    "        {\n",
    "            \"labels\": [\n",
    "                \"1-10\",\n",
    "                \"1-12\",\n",
    "                \"1-14\",\n",
    "                \"1-16\",\n",
    "                \"1-18\",\n",
    "                \"1-19\",\n",
    "                \"1-8\",\n",
    "                \"10-11\",\n",
    "                \"10-17\",\n",
    "                \"10-4\",\n",
    "                \"10-7\",\n",
    "                \"11-1\",\n",
    "                \"11-10\",\n",
    "                \"11-19\",\n",
    "                \"11-20\",\n",
    "                \"11-4\",\n",
    "                \"11-7\",\n",
    "                \"12-19\",\n",
    "                \"12-20\",\n",
    "                \"12-7\",\n",
    "                \"13-14\",\n",
    "                \"13-18\",\n",
    "                \"13-19\",\n",
    "                \"13-20\",\n",
    "                \"13-3\",\n",
    "                \"13-7\",\n",
    "                \"14-10\",\n",
    "                \"14-11\",\n",
    "                \"14-12\",\n",
    "                \"14-13\",\n",
    "                \"14-14\",\n",
    "                \"14-19\",\n",
    "                \"14-20\",\n",
    "                \"14-7\",\n",
    "                \"14-8\",\n",
    "                \"14-9\",\n",
    "                \"15-1\",\n",
    "                \"15-19\",\n",
    "                \"15-6\",\n",
    "                \"16-1\",\n",
    "                \"16-16\",\n",
    "                \"16-19\",\n",
    "                \"16-20\",\n",
    "                \"17-10\",\n",
    "                \"17-11\",\n",
    "                \"18-1\",\n",
    "                \"18-10\",\n",
    "                \"18-11\",\n",
    "                \"18-12\",\n",
    "                \"18-13\",\n",
    "                \"18-14\",\n",
    "                \"18-15\",\n",
    "                \"18-16\",\n",
    "                \"18-17\",\n",
    "                \"18-19\",\n",
    "                \"18-2\",\n",
    "                \"18-20\",\n",
    "                \"18-4\",\n",
    "                \"18-5\",\n",
    "                \"18-7\",\n",
    "                \"18-8\",\n",
    "                \"18-9\",\n",
    "                \"19-1\",\n",
    "                \"19-10\",\n",
    "                \"19-11\",\n",
    "                \"19-12\",\n",
    "                \"19-13\",\n",
    "                \"19-14\",\n",
    "                \"19-15\",\n",
    "                \"19-19\",\n",
    "                \"19-2\",\n",
    "                \"19-20\",\n",
    "                \"19-3\",\n",
    "                \"19-4\",\n",
    "                \"19-6\",\n",
    "                \"19-7\",\n",
    "                \"19-8\",\n",
    "                \"19-9\",\n",
    "                \"2-1\",\n",
    "                \"2-13\",\n",
    "                \"2-15\",\n",
    "                \"2-3\",\n",
    "                \"2-4\",\n",
    "                \"2-5\",\n",
    "                \"2-6\",\n",
    "                \"2-7\",\n",
    "                \"2-8\",\n",
    "                \"20-1\",\n",
    "                \"20-12\",\n",
    "                \"20-14\",\n",
    "                \"20-15\",\n",
    "                \"20-16\",\n",
    "                \"20-18\",\n",
    "                \"20-19\",\n",
    "                \"20-20\",\n",
    "                \"20-3\",\n",
    "                \"20-4\",\n",
    "                \"20-5\",\n",
    "                \"20-7\",\n",
    "                \"20-8\",\n",
    "                \"3-1\",\n",
    "                \"3-13\",\n",
    "                \"3-18\",\n",
    "                \"3-2\",\n",
    "                \"3-8\",\n",
    "                \"4-1\",\n",
    "                \"4-10\",\n",
    "                \"4-11\",\n",
    "                \"5-1\",\n",
    "                \"5-5\",\n",
    "                \"6-1\",\n",
    "                \"6-15\",\n",
    "                \"6-6\",\n",
    "                \"7-10\",\n",
    "                \"7-11\",\n",
    "                \"7-12\",\n",
    "                \"7-13\",\n",
    "                \"7-14\",\n",
    "                \"7-7\",\n",
    "                \"7-8\",\n",
    "                \"7-9\",\n",
    "                \"8-1\",\n",
    "                \"8-13\",\n",
    "                \"8-14\",\n",
    "                \"8-18\",\n",
    "                \"8-20\",\n",
    "                \"8-3\",\n",
    "                \"8-8\",\n",
    "                \"9-1\",\n",
    "                \"9-7\",\n",
    "            ],\n",
    "            \"domains\": [1, 2, 3, 4],\n",
    "            \"num_examples_per_domain_per_label\": -1,\n",
    "            \"pickle_path\": \"/mnt/wd500GB/CSC500/csc500-main/datasets/wisig.node3-19.stratified_ds.2022A.pkl\",\n",
    "            \"source_or_target_dataset\": \"source\",\n",
    "            \"x_transforms\": [],\n",
    "            \"episode_transforms\": [],\n",
    "            \"domain_prefix\": \"W_\",\n",
    "        },\n",
    "        {\n",
    "            \"labels\": [\n",
    "                \"3123D52\",\n",
    "                \"3123D65\",\n",
    "                \"3123D79\",\n",
    "                \"3123D80\",\n",
    "                \"3123D54\",\n",
    "                \"3123D70\",\n",
    "                \"3123D7B\",\n",
    "                \"3123D89\",\n",
    "                \"3123D58\",\n",
    "                \"3123D76\",\n",
    "                \"3123D7D\",\n",
    "                \"3123EFE\",\n",
    "                \"3123D64\",\n",
    "                \"3123D78\",\n",
    "                \"3123D7E\",\n",
    "                \"3124E4A\",\n",
    "            ],\n",
    "            \"domains\": [32, 38, 8, 44, 14, 50, 20, 26],\n",
    "            \"num_examples_per_domain_per_label\": 2000,\n",
    "            \"pickle_path\": \"/mnt/wd500GB/CSC500/csc500-main/datasets/oracle.Run1_framed_2000Examples_stratified_ds.2022A.pkl\",\n",
    "            \"source_or_target_dataset\": \"target\",\n",
    "            \"x_transforms\": [],\n",
    "            \"episode_transforms\": [],\n",
    "            \"domain_prefix\": \"O_\",\n",
    "        },\n",
    "    ],\n",
    "    \"seed\": 1337,\n",
    "    \"dataset_seed\": 1337,\n",
    "}\n"
   ]
  },
  {
   "cell_type": "code",
   "execution_count": 5,
   "id": "8fa1cc33",
   "metadata": {
    "execution": {
     "iopub.execute_input": "2022-03-20T03:19:58.246420Z",
     "iopub.status.busy": "2022-03-20T03:19:58.246140Z",
     "iopub.status.idle": "2022-03-20T03:19:58.263102Z",
     "shell.execute_reply": "2022-03-20T03:19:58.262824Z"
    },
    "papermill": {
     "duration": 0.038388,
     "end_time": "2022-03-20T03:19:58.263160",
     "exception": false,
     "start_time": "2022-03-20T03:19:58.224772",
     "status": "completed"
    },
    "tags": []
   },
   "outputs": [],
   "source": [
    "# Set this to True if you want to run this template directly\n",
    "STANDALONE = False\n",
    "if STANDALONE:\n",
    "    print(\"parameters not injected, running with standalone_parameters\")\n",
    "    parameters = standalone_parameters\n",
    "\n",
    "if not 'parameters' in locals() and not 'parameters' in globals():\n",
    "    raise Exception(\"Parameter injection failed\")\n",
    "\n",
    "#Use an easy dict for all the parameters\n",
    "p = EasyDict(parameters)\n",
    "\n",
    "if \"x_shape\" not in p:\n",
    "    p.x_shape = [2,256] # Default to this if we dont supply x_shape\n",
    "\n",
    "\n",
    "supplied_keys = set(p.keys())\n",
    "\n",
    "if  supplied_keys != required_parameters:\n",
    "    print(\"Parameters are incorrect\")\n",
    "    if len(supplied_keys - required_parameters)>0: print(\"Shouldn't have:\", str(supplied_keys - required_parameters))\n",
    "    if len(required_parameters - supplied_keys)>0: print(\"Need to have:\", str(required_parameters - supplied_keys))\n",
    "    raise RuntimeError(\"Parameters are incorrect\")"
   ]
  },
  {
   "cell_type": "code",
   "execution_count": 6,
   "id": "3a028d58",
   "metadata": {
    "execution": {
     "iopub.execute_input": "2022-03-20T03:19:58.296396Z",
     "iopub.status.busy": "2022-03-20T03:19:58.296126Z",
     "iopub.status.idle": "2022-03-20T03:19:58.310021Z",
     "shell.execute_reply": "2022-03-20T03:19:58.310453Z"
    },
    "papermill": {
     "duration": 0.029641,
     "end_time": "2022-03-20T03:19:58.310572",
     "exception": false,
     "start_time": "2022-03-20T03:19:58.280931",
     "status": "completed"
    },
    "tags": []
   },
   "outputs": [],
   "source": [
    "###################################\n",
    "# Set the RNGs and make it all deterministic\n",
    "###################################\n",
    "np.random.seed(p.seed)\n",
    "random.seed(p.seed)\n",
    "torch.manual_seed(p.seed)\n",
    "\n",
    "torch.use_deterministic_algorithms(True) "
   ]
  },
  {
   "cell_type": "code",
   "execution_count": 7,
   "id": "b691acf6",
   "metadata": {
    "execution": {
     "iopub.execute_input": "2022-03-20T03:19:58.346718Z",
     "iopub.status.busy": "2022-03-20T03:19:58.346401Z",
     "iopub.status.idle": "2022-03-20T03:19:58.360939Z",
     "shell.execute_reply": "2022-03-20T03:19:58.360443Z"
    },
    "papermill": {
     "duration": 0.030628,
     "end_time": "2022-03-20T03:19:58.361039",
     "exception": false,
     "start_time": "2022-03-20T03:19:58.330411",
     "status": "completed"
    },
    "tags": []
   },
   "outputs": [],
   "source": [
    "###########################################\n",
    "# The stratified datasets honor this\n",
    "###########################################\n",
    "torch.set_default_dtype(eval(p.torch_default_dtype))"
   ]
  },
  {
   "cell_type": "code",
   "execution_count": 8,
   "id": "b5fba671",
   "metadata": {
    "execution": {
     "iopub.execute_input": "2022-03-20T03:19:58.400267Z",
     "iopub.status.busy": "2022-03-20T03:19:58.398817Z",
     "iopub.status.idle": "2022-03-20T03:19:58.439613Z",
     "shell.execute_reply": "2022-03-20T03:19:58.439220Z"
    },
    "papermill": {
     "duration": 0.059691,
     "end_time": "2022-03-20T03:19:58.439698",
     "exception": false,
     "start_time": "2022-03-20T03:19:58.380007",
     "status": "completed"
    },
    "tags": []
   },
   "outputs": [],
   "source": [
    "###################################\n",
    "# Build the network(s)\n",
    "# Note: It's critical to do this AFTER setting the RNG\n",
    "###################################\n",
    "x_net = build_sequential(p.x_net)"
   ]
  },
  {
   "cell_type": "code",
   "execution_count": 9,
   "id": "5d7e61cc",
   "metadata": {
    "execution": {
     "iopub.execute_input": "2022-03-20T03:19:58.476388Z",
     "iopub.status.busy": "2022-03-20T03:19:58.473873Z",
     "iopub.status.idle": "2022-03-20T03:19:58.489694Z",
     "shell.execute_reply": "2022-03-20T03:19:58.489212Z"
    },
    "papermill": {
     "duration": 0.031725,
     "end_time": "2022-03-20T03:19:58.489792",
     "exception": false,
     "start_time": "2022-03-20T03:19:58.458067",
     "status": "completed"
    },
    "tags": []
   },
   "outputs": [],
   "source": [
    "start_time_secs = time.time()"
   ]
  },
  {
   "cell_type": "code",
   "execution_count": 10,
   "id": "c6b67dfd",
   "metadata": {
    "execution": {
     "iopub.execute_input": "2022-03-20T03:19:58.523862Z",
     "iopub.status.busy": "2022-03-20T03:19:58.523593Z",
     "iopub.status.idle": "2022-03-20T03:19:58.536354Z",
     "shell.execute_reply": "2022-03-20T03:19:58.535957Z"
    },
    "papermill": {
     "duration": 0.03037,
     "end_time": "2022-03-20T03:19:58.536444",
     "exception": false,
     "start_time": "2022-03-20T03:19:58.506074",
     "status": "completed"
    },
    "tags": []
   },
   "outputs": [],
   "source": [
    "p.domains_source = []\n",
    "p.domains_target = []\n",
    "\n",
    "\n",
    "train_original_source = []\n",
    "val_original_source   = []\n",
    "test_original_source  = []\n",
    "\n",
    "train_original_target = []\n",
    "val_original_target   = []\n",
    "test_original_target  = []"
   ]
  },
  {
   "cell_type": "code",
   "execution_count": 11,
   "id": "e3d9c3d3",
   "metadata": {
    "execution": {
     "iopub.execute_input": "2022-03-20T03:19:58.572710Z",
     "iopub.status.busy": "2022-03-20T03:19:58.572454Z",
     "iopub.status.idle": "2022-03-20T03:19:58.590632Z",
     "shell.execute_reply": "2022-03-20T03:19:58.590364Z"
    },
    "papermill": {
     "duration": 0.035604,
     "end_time": "2022-03-20T03:19:58.590700",
     "exception": false,
     "start_time": "2022-03-20T03:19:58.555096",
     "status": "completed"
    },
    "tags": []
   },
   "outputs": [],
   "source": [
    "# global_x_transform_func = lambda x: normalize(x.to(torch.get_default_dtype()), \"unit_power\") # unit_power, unit_mag\n",
    "# global_x_transform_func = lambda x: normalize(x, \"unit_power\") # unit_power, unit_mag"
   ]
  },
  {
   "cell_type": "code",
   "execution_count": 12,
   "id": "acb78fd2",
   "metadata": {
    "execution": {
     "iopub.execute_input": "2022-03-20T03:19:58.624508Z",
     "iopub.status.busy": "2022-03-20T03:19:58.624226Z",
     "iopub.status.idle": "2022-03-20T03:19:58.639783Z",
     "shell.execute_reply": "2022-03-20T03:19:58.639526Z"
    },
    "papermill": {
     "duration": 0.034169,
     "end_time": "2022-03-20T03:19:58.639846",
     "exception": false,
     "start_time": "2022-03-20T03:19:58.605677",
     "status": "completed"
    },
    "tags": []
   },
   "outputs": [],
   "source": [
    "def add_dataset(\n",
    "    labels,\n",
    "    domains,\n",
    "    pickle_path,\n",
    "    x_transforms,\n",
    "    episode_transforms,\n",
    "    domain_prefix,\n",
    "    num_examples_per_domain_per_label,\n",
    "    source_or_target_dataset:str,\n",
    "    iterator_seed=p.seed,\n",
    "    dataset_seed=p.dataset_seed,\n",
    "    n_shot=p.n_shot,\n",
    "    n_way=p.n_way,\n",
    "    n_query=p.n_query,\n",
    "    train_val_test_k_factors=(p.train_k_factor,p.val_k_factor,p.test_k_factor),\n",
    "):\n",
    "   \n",
    "    if x_transforms == []: x_transform = None\n",
    "    else: x_transform = get_chained_transform(x_transforms)\n",
    "    \n",
    "    if episode_transforms == []: episode_transform = None\n",
    "    else: raise Exception(\"episode_transforms not implemented\")\n",
    "    \n",
    "    episode_transform = lambda tup, _prefix=domain_prefix: (_prefix + str(tup[0]), tup[1])\n",
    "\n",
    "\n",
    "    eaf = Episodic_Accessor_Factory(\n",
    "        labels=labels,\n",
    "        domains=domains,\n",
    "        num_examples_per_domain_per_label=num_examples_per_domain_per_label,\n",
    "        iterator_seed=iterator_seed,\n",
    "        dataset_seed=dataset_seed,\n",
    "        n_shot=n_shot,\n",
    "        n_way=n_way,\n",
    "        n_query=n_query,\n",
    "        train_val_test_k_factors=train_val_test_k_factors,\n",
    "        pickle_path=pickle_path,\n",
    "        x_transform_func=x_transform,\n",
    "    )\n",
    "\n",
    "    train, val, test = eaf.get_train(), eaf.get_val(), eaf.get_test()\n",
    "    train = Lazy_Iterable_Wrapper(train, episode_transform)\n",
    "    val = Lazy_Iterable_Wrapper(val, episode_transform)\n",
    "    test = Lazy_Iterable_Wrapper(test, episode_transform)\n",
    "\n",
    "    if source_or_target_dataset==\"source\":\n",
    "        train_original_source.append(train)\n",
    "        val_original_source.append(val)\n",
    "        test_original_source.append(test)\n",
    "\n",
    "        p.domains_source.extend(\n",
    "            [domain_prefix + str(u) for u in domains]\n",
    "        )\n",
    "    elif source_or_target_dataset==\"target\":\n",
    "        train_original_target.append(train)\n",
    "        val_original_target.append(val)\n",
    "        test_original_target.append(test)\n",
    "        p.domains_target.extend(\n",
    "            [domain_prefix + str(u) for u in domains]\n",
    "        )\n",
    "    else:\n",
    "        raise Exception(f\"invalid source_or_target_dataset: {source_or_target_dataset}\")\n",
    "    "
   ]
  },
  {
   "cell_type": "code",
   "execution_count": 13,
   "id": "fe266617",
   "metadata": {
    "execution": {
     "iopub.execute_input": "2022-03-20T03:19:58.670460Z",
     "iopub.status.busy": "2022-03-20T03:19:58.670181Z",
     "iopub.status.idle": "2022-03-20T03:20:02.176692Z",
     "shell.execute_reply": "2022-03-20T03:20:02.176186Z"
    },
    "papermill": {
     "duration": 3.522867,
     "end_time": "2022-03-20T03:20:02.176803",
     "exception": false,
     "start_time": "2022-03-20T03:19:58.653936",
     "status": "completed"
    },
    "tags": []
   },
   "outputs": [],
   "source": [
    "for ds in p.datasets:\n",
    "    add_dataset(**ds)"
   ]
  },
  {
   "cell_type": "code",
   "execution_count": 14,
   "id": "b90d65ac",
   "metadata": {
    "execution": {
     "iopub.execute_input": "2022-03-20T03:20:02.211321Z",
     "iopub.status.busy": "2022-03-20T03:20:02.210997Z",
     "iopub.status.idle": "2022-03-20T03:20:02.226424Z",
     "shell.execute_reply": "2022-03-20T03:20:02.225917Z"
    },
    "papermill": {
     "duration": 0.03201,
     "end_time": "2022-03-20T03:20:02.226524",
     "exception": false,
     "start_time": "2022-03-20T03:20:02.194514",
     "status": "completed"
    },
    "tags": []
   },
   "outputs": [],
   "source": [
    "# from steves_utils.CORES.utils import (\n",
    "#     ALL_NODES,\n",
    "#     ALL_NODES_MINIMUM_1000_EXAMPLES,\n",
    "#     ALL_DAYS\n",
    "# )\n",
    "\n",
    "# add_dataset(\n",
    "#     labels=ALL_NODES,\n",
    "#     domains = ALL_DAYS,\n",
    "#     num_examples_per_domain_per_label=100,\n",
    "#     pickle_path=os.path.join(get_datasets_base_path(), \"cores.stratified_ds.2022A.pkl\"),\n",
    "#     source_or_target_dataset=\"target\",\n",
    "#     x_transform_func=global_x_transform_func,\n",
    "#     domain_modifier=lambda u: f\"cores_{u}\"\n",
    "# )"
   ]
  },
  {
   "cell_type": "code",
   "execution_count": 15,
   "id": "76db484d",
   "metadata": {
    "execution": {
     "iopub.execute_input": "2022-03-20T03:20:02.260933Z",
     "iopub.status.busy": "2022-03-20T03:20:02.260659Z",
     "iopub.status.idle": "2022-03-20T03:20:02.271418Z",
     "shell.execute_reply": "2022-03-20T03:20:02.271175Z"
    },
    "papermill": {
     "duration": 0.028353,
     "end_time": "2022-03-20T03:20:02.271470",
     "exception": false,
     "start_time": "2022-03-20T03:20:02.243117",
     "status": "completed"
    },
    "tags": []
   },
   "outputs": [],
   "source": [
    "# from steves_utils.ORACLE.utils_v2 import (\n",
    "#     ALL_DISTANCES_FEET,\n",
    "#     ALL_RUNS,\n",
    "#     ALL_SERIAL_NUMBERS,\n",
    "# )\n",
    "\n",
    "\n",
    "# add_dataset(\n",
    "#     labels=ALL_SERIAL_NUMBERS,\n",
    "#     domains = list(set(ALL_DISTANCES_FEET) - {2,62}),\n",
    "#     num_examples_per_domain_per_label=100,\n",
    "#     pickle_path=os.path.join(get_datasets_base_path(), \"oracle.Run2_framed_2000Examples_stratified_ds.2022A.pkl\"),\n",
    "#     source_or_target_dataset=\"source\",\n",
    "#     x_transform_func=global_x_transform_func,\n",
    "#     domain_modifier=lambda u: f\"oracle1_{u}\"\n",
    "# )\n"
   ]
  },
  {
   "cell_type": "code",
   "execution_count": 16,
   "id": "97dea9d2",
   "metadata": {
    "execution": {
     "iopub.execute_input": "2022-03-20T03:20:02.304661Z",
     "iopub.status.busy": "2022-03-20T03:20:02.304392Z",
     "iopub.status.idle": "2022-03-20T03:20:02.316785Z",
     "shell.execute_reply": "2022-03-20T03:20:02.316208Z"
    },
    "papermill": {
     "duration": 0.028629,
     "end_time": "2022-03-20T03:20:02.316895",
     "exception": false,
     "start_time": "2022-03-20T03:20:02.288266",
     "status": "completed"
    },
    "tags": []
   },
   "outputs": [],
   "source": [
    "# from steves_utils.ORACLE.utils_v2 import (\n",
    "#     ALL_DISTANCES_FEET,\n",
    "#     ALL_RUNS,\n",
    "#     ALL_SERIAL_NUMBERS,\n",
    "# )\n",
    "\n",
    "\n",
    "# add_dataset(\n",
    "#     labels=ALL_SERIAL_NUMBERS,\n",
    "#     domains = list(set(ALL_DISTANCES_FEET) - {2,62,56}),\n",
    "#     num_examples_per_domain_per_label=100,\n",
    "#     pickle_path=os.path.join(get_datasets_base_path(), \"oracle.Run2_framed_2000Examples_stratified_ds.2022A.pkl\"),\n",
    "#     source_or_target_dataset=\"source\",\n",
    "#     x_transform_func=global_x_transform_func,\n",
    "#     domain_modifier=lambda u: f\"oracle2_{u}\"\n",
    "# )"
   ]
  },
  {
   "cell_type": "code",
   "execution_count": 17,
   "id": "6f289866",
   "metadata": {
    "execution": {
     "iopub.execute_input": "2022-03-20T03:20:02.350205Z",
     "iopub.status.busy": "2022-03-20T03:20:02.349948Z",
     "iopub.status.idle": "2022-03-20T03:20:02.360057Z",
     "shell.execute_reply": "2022-03-20T03:20:02.359831Z"
    },
    "papermill": {
     "duration": 0.02581,
     "end_time": "2022-03-20T03:20:02.360110",
     "exception": false,
     "start_time": "2022-03-20T03:20:02.334300",
     "status": "completed"
    },
    "tags": []
   },
   "outputs": [],
   "source": [
    "# add_dataset(\n",
    "#     labels=list(range(19)),\n",
    "#     domains = [0,1,2],\n",
    "#     num_examples_per_domain_per_label=100,\n",
    "#     pickle_path=os.path.join(get_datasets_base_path(), \"metehan.stratified_ds.2022A.pkl\"),\n",
    "#     source_or_target_dataset=\"target\",\n",
    "#     x_transform_func=global_x_transform_func,\n",
    "#     domain_modifier=lambda u: f\"met_{u}\"\n",
    "# )"
   ]
  },
  {
   "cell_type": "code",
   "execution_count": 18,
   "id": "86a863c3",
   "metadata": {
    "execution": {
     "iopub.execute_input": "2022-03-20T03:20:02.392819Z",
     "iopub.status.busy": "2022-03-20T03:20:02.392511Z",
     "iopub.status.idle": "2022-03-20T03:20:02.406327Z",
     "shell.execute_reply": "2022-03-20T03:20:02.405899Z"
    },
    "papermill": {
     "duration": 0.029626,
     "end_time": "2022-03-20T03:20:02.406423",
     "exception": false,
     "start_time": "2022-03-20T03:20:02.376797",
     "status": "completed"
    },
    "tags": []
   },
   "outputs": [],
   "source": [
    "# # from steves_utils.wisig.utils import (\n",
    "# #     ALL_NODES_MINIMUM_100_EXAMPLES,\n",
    "# #     ALL_NODES_MINIMUM_500_EXAMPLES,\n",
    "# #     ALL_NODES_MINIMUM_1000_EXAMPLES,\n",
    "# #     ALL_DAYS\n",
    "# # )\n",
    "\n",
    "# import steves_utils.wisig.utils as wisig\n",
    "\n",
    "\n",
    "# add_dataset(\n",
    "#     labels=wisig.ALL_NODES_MINIMUM_100_EXAMPLES,\n",
    "#     domains = wisig.ALL_DAYS,\n",
    "#     num_examples_per_domain_per_label=100,\n",
    "#     pickle_path=os.path.join(get_datasets_base_path(), \"wisig.node3-19.stratified_ds.2022A.pkl\"),\n",
    "#     source_or_target_dataset=\"target\",\n",
    "#     x_transform_func=global_x_transform_func,\n",
    "#     domain_modifier=lambda u: f\"wisig_{u}\"\n",
    "# )"
   ]
  },
  {
   "cell_type": "code",
   "execution_count": 19,
   "id": "fd5442bc",
   "metadata": {
    "execution": {
     "iopub.execute_input": "2022-03-20T03:20:02.444345Z",
     "iopub.status.busy": "2022-03-20T03:20:02.444073Z",
     "iopub.status.idle": "2022-03-20T03:20:02.458846Z",
     "shell.execute_reply": "2022-03-20T03:20:02.459206Z"
    },
    "papermill": {
     "duration": 0.035918,
     "end_time": "2022-03-20T03:20:02.459311",
     "exception": false,
     "start_time": "2022-03-20T03:20:02.423393",
     "status": "completed"
    },
    "tags": []
   },
   "outputs": [],
   "source": [
    "###################################\n",
    "# Build the dataset\n",
    "###################################\n",
    "train_original_source = Iterable_Aggregator(train_original_source, p.seed)\n",
    "val_original_source = Iterable_Aggregator(val_original_source, p.seed)\n",
    "test_original_source = Iterable_Aggregator(test_original_source, p.seed)\n",
    "\n",
    "\n",
    "train_original_target = Iterable_Aggregator(train_original_target, p.seed)\n",
    "val_original_target = Iterable_Aggregator(val_original_target, p.seed)\n",
    "test_original_target = Iterable_Aggregator(test_original_target, p.seed)\n",
    "\n",
    "# For CNN We only use X and Y. And we only train on the source.\n",
    "# Properly form the data using a transform lambda and Lazy_Iterable_Wrapper. Finally wrap them in a dataloader\n",
    "\n",
    "transform_lambda = lambda ex: ex[1] # Original is (<domain>, <episode>) so we strip down to episode only\n",
    "\n",
    "train_processed_source = Lazy_Iterable_Wrapper(train_original_source, transform_lambda)\n",
    "val_processed_source   = Lazy_Iterable_Wrapper(val_original_source, transform_lambda)\n",
    "test_processed_source  = Lazy_Iterable_Wrapper(test_original_source, transform_lambda)\n",
    "\n",
    "train_processed_target = Lazy_Iterable_Wrapper(train_original_target, transform_lambda)\n",
    "val_processed_target   = Lazy_Iterable_Wrapper(val_original_target, transform_lambda)\n",
    "test_processed_target  = Lazy_Iterable_Wrapper(test_original_target, transform_lambda)\n",
    "\n",
    "datasets = EasyDict({\n",
    "    \"source\": {\n",
    "        \"original\": {\"train\":train_original_source, \"val\":val_original_source, \"test\":test_original_source},\n",
    "        \"processed\": {\"train\":train_processed_source, \"val\":val_processed_source, \"test\":test_processed_source}\n",
    "    },\n",
    "    \"target\": {\n",
    "        \"original\": {\"train\":train_original_target, \"val\":val_original_target, \"test\":test_original_target},\n",
    "        \"processed\": {\"train\":train_processed_target, \"val\":val_processed_target, \"test\":test_processed_target}\n",
    "    },\n",
    "})"
   ]
  },
  {
   "cell_type": "code",
   "execution_count": 20,
   "id": "5b3c01fc",
   "metadata": {
    "execution": {
     "iopub.execute_input": "2022-03-20T03:20:02.510475Z",
     "iopub.status.busy": "2022-03-20T03:20:02.510206Z",
     "iopub.status.idle": "2022-03-20T03:20:11.738360Z",
     "shell.execute_reply": "2022-03-20T03:20:11.738782Z"
    },
    "papermill": {
     "duration": 9.252591,
     "end_time": "2022-03-20T03:20:11.738897",
     "exception": false,
     "start_time": "2022-03-20T03:20:02.486306",
     "status": "completed"
    },
    "tags": []
   },
   "outputs": [
    {
     "name": "stdout",
     "output_type": "stream",
     "text": [
      "{'W_2', 'W_1', 'C_1', 'C_3', 'W_4', 'C_2', 'W_3', 'C_4', 'C_5'}\n"
     ]
    },
    {
     "name": "stdout",
     "output_type": "stream",
     "text": [
      "{'O_26', 'O_38', 'O_50', 'O_8', 'O_44', 'O_14', 'O_20', 'O_32'}\n"
     ]
    },
    {
     "name": "stdout",
     "output_type": "stream",
     "text": [
      "tensor([[[-6.7141e-04,  1.7121e-02,  6.7141e-04,  ...,  5.0966e-03,\n",
      "           1.0224e-02, -2.4720e-03],\n",
      "         [-1.2970e-02,  1.7090e-03,  2.0661e-02,  ..., -6.2258e-03,\n",
      "           2.8382e-03,  1.7151e-02]],\n",
      "\n",
      "        [[ 6.7751e-03,  1.0804e-02, -1.4863e-02,  ...,  6.1342e-03,\n",
      "           2.8077e-03, -1.1902e-02],\n",
      "         [-8.1179e-03,  6.8361e-03,  1.3276e-02,  ...,  4.4557e-03,\n",
      "           6.7751e-03,  6.8667e-03]],\n",
      "\n",
      "        [[ 5.1271e-03,  1.8799e-02,  6.0121e-03,  ...,  7.9958e-03,\n",
      "           1.5809e-02, -4.5778e-04],\n",
      "         [-1.3062e-02,  5.6459e-03,  1.7151e-02,  ..., -8.5452e-03,\n",
      "           9.6133e-03,  1.9318e-02]],\n",
      "\n",
      "        ...,\n",
      "\n",
      "        [[-3.2502e-02, -3.3082e-02,  5.1576e-03,  ..., -5.8046e-02,\n",
      "          -3.1739e-02, -1.9837e-02],\n",
      "         [ 3.3357e-02, -1.3733e-03, -4.8677e-02,  ..., -1.5564e-02,\n",
      "          -2.7680e-02,  2.7467e-04]],\n",
      "\n",
      "        [[-2.1363e-03, -2.2279e-03, -2.8382e-03,  ...,  3.2655e-02,\n",
      "          -6.0121e-03, -6.4211e-02],\n",
      "         [-3.5096e-03, -3.9064e-03, -3.0519e-04,  ..., -9.8575e-03,\n",
      "           4.3397e-02,  4.8219e-03]],\n",
      "\n",
      "        [[-4.4557e-03, -1.4985e-02,  9.1556e-05,  ..., -2.4842e-02,\n",
      "           1.3245e-02,  2.4659e-02],\n",
      "         [-7.5991e-03, -7.8738e-03, -3.4181e-02,  ..., -3.2563e-02,\n",
      "          -4.4832e-02, -1.2604e-02]]])\n"
     ]
    }
   ],
   "source": [
    "from steves_utils.transforms import get_average_magnitude, get_average_power\n",
    "\n",
    "print(set([u for u,_ in val_original_source]))\n",
    "print(set([u for u,_ in val_original_target]))\n",
    "\n",
    "s_x, s_y, q_x, q_y, _ = next(iter(train_processed_source))\n",
    "print(s_x)\n",
    "\n",
    "# for ds in [\n",
    "#     train_processed_source,\n",
    "#     val_processed_source,\n",
    "#     test_processed_source,\n",
    "#     train_processed_target,\n",
    "#     val_processed_target,\n",
    "#     test_processed_target\n",
    "# ]:\n",
    "#     for s_x, s_y, q_x, q_y, _ in ds:\n",
    "#         for X in (s_x, q_x):\n",
    "#             for x in X:\n",
    "#                 assert np.isclose(get_average_magnitude(x.numpy()), 1.0)\n",
    "#                 assert np.isclose(get_average_power(x.numpy()), 1.0)\n",
    "                "
   ]
  },
  {
   "cell_type": "code",
   "execution_count": 21,
   "id": "bbdacba1",
   "metadata": {
    "execution": {
     "iopub.execute_input": "2022-03-20T03:20:11.774505Z",
     "iopub.status.busy": "2022-03-20T03:20:11.774228Z",
     "iopub.status.idle": "2022-03-20T03:20:11.833980Z",
     "shell.execute_reply": "2022-03-20T03:20:11.833534Z"
    },
    "papermill": {
     "duration": 0.077421,
     "end_time": "2022-03-20T03:20:11.834086",
     "exception": false,
     "start_time": "2022-03-20T03:20:11.756665",
     "status": "completed"
    },
    "tags": []
   },
   "outputs": [
    {
     "name": "stdout",
     "output_type": "stream",
     "text": [
      "(2, 256)\n"
     ]
    }
   ],
   "source": [
    "###################################\n",
    "# Build the model\n",
    "###################################\n",
    "# easfsl only wants a tuple for the shape\n",
    "model = Steves_Prototypical_Network(x_net, device=p.device, x_shape=tuple(p.x_shape))\n",
    "optimizer = Adam(params=model.parameters(), lr=p.lr)"
   ]
  },
  {
   "cell_type": "code",
   "execution_count": 22,
   "id": "22b39ac5",
   "metadata": {
    "execution": {
     "iopub.execute_input": "2022-03-20T03:20:11.873063Z",
     "iopub.status.busy": "2022-03-20T03:20:11.872793Z",
     "iopub.status.idle": "2022-03-20T03:55:59.275476Z",
     "shell.execute_reply": "2022-03-20T03:55:59.275244Z"
    },
    "papermill": {
     "duration": 2147.42153,
     "end_time": "2022-03-20T03:55:59.275534",
     "exception": false,
     "start_time": "2022-03-20T03:20:11.854004",
     "status": "completed"
    },
    "tags": []
   },
   "outputs": [
    {
     "name": "stdout",
     "output_type": "stream",
     "text": [
      "epoch: 1, [batch: 1 / 13178], examples_per_second: 23.5364, train_label_loss: 2.1214, \n"
     ]
    },
    {
     "name": "stdout",
     "output_type": "stream",
     "text": [
      "epoch: 1, [batch: 1318 / 13178], examples_per_second: 3132.1692, train_label_loss: 0.0063, \n"
     ]
    },
    {
     "name": "stdout",
     "output_type": "stream",
     "text": [
      "epoch: 1, [batch: 2636 / 13178], examples_per_second: 3120.7514, train_label_loss: 0.8822, \n"
     ]
    },
    {
     "name": "stdout",
     "output_type": "stream",
     "text": [
      "epoch: 1, [batch: 3954 / 13178], examples_per_second: 3152.9229, train_label_loss: 0.4367, \n"
     ]
    },
    {
     "name": "stdout",
     "output_type": "stream",
     "text": [
      "epoch: 1, [batch: 5271 / 13178], examples_per_second: 3116.6602, train_label_loss: 0.1011, \n"
     ]
    },
    {
     "name": "stdout",
     "output_type": "stream",
     "text": [
      "epoch: 1, [batch: 6589 / 13178], examples_per_second: 3144.5759, train_label_loss: 0.0169, \n"
     ]
    },
    {
     "name": "stdout",
     "output_type": "stream",
     "text": [
      "epoch: 1, [batch: 7907 / 13178], examples_per_second: 3175.4605, train_label_loss: 0.0052, \n"
     ]
    },
    {
     "name": "stdout",
     "output_type": "stream",
     "text": [
      "epoch: 1, [batch: 9224 / 13178], examples_per_second: 3161.0012, train_label_loss: 0.0004, \n"
     ]
    },
    {
     "name": "stdout",
     "output_type": "stream",
     "text": [
      "epoch: 1, [batch: 10542 / 13178], examples_per_second: 3173.0462, train_label_loss: 0.0252, \n"
     ]
    },
    {
     "name": "stdout",
     "output_type": "stream",
     "text": [
      "epoch: 1, [batch: 11860 / 13178], examples_per_second: 3093.7487, train_label_loss: 0.1047, \n"
     ]
    },
    {
     "name": "stdout",
     "output_type": "stream",
     "text": [
      "=============================================================\n",
      "epoch: 1, source_val_acc_label: 0.9778, target_val_acc_label: 0.4335, source_val_label_loss: 0.1193, target_val_label_loss: 2.4313, \n",
      "=============================================================\n"
     ]
    },
    {
     "name": "stdout",
     "output_type": "stream",
     "text": [
      "New best\n"
     ]
    },
    {
     "name": "stdout",
     "output_type": "stream",
     "text": [
      "epoch: 2, [batch: 1 / 13164], examples_per_second: 2.6376, train_label_loss: 0.0552, \n"
     ]
    },
    {
     "name": "stdout",
     "output_type": "stream",
     "text": [
      "epoch: 2, [batch: 1317 / 13164], examples_per_second: 3158.0302, train_label_loss: 0.0030, \n"
     ]
    },
    {
     "name": "stdout",
     "output_type": "stream",
     "text": [
      "epoch: 2, [batch: 2633 / 13164], examples_per_second: 3155.5758, train_label_loss: 0.0263, \n"
     ]
    },
    {
     "name": "stdout",
     "output_type": "stream",
     "text": [
      "epoch: 2, [batch: 3949 / 13164], examples_per_second: 3194.7262, train_label_loss: 0.0033, \n"
     ]
    },
    {
     "name": "stdout",
     "output_type": "stream",
     "text": [
      "epoch: 2, [batch: 5266 / 13164], examples_per_second: 3173.0372, train_label_loss: 0.0344, \n"
     ]
    },
    {
     "name": "stdout",
     "output_type": "stream",
     "text": [
      "epoch: 2, [batch: 6582 / 13164], examples_per_second: 3185.1546, train_label_loss: 0.0010, \n"
     ]
    },
    {
     "name": "stdout",
     "output_type": "stream",
     "text": [
      "epoch: 2, [batch: 7898 / 13164], examples_per_second: 3202.0866, train_label_loss: 0.0028, \n"
     ]
    },
    {
     "name": "stdout",
     "output_type": "stream",
     "text": [
      "epoch: 2, [batch: 9215 / 13164], examples_per_second: 3212.7914, train_label_loss: 0.0081, \n"
     ]
    },
    {
     "name": "stdout",
     "output_type": "stream",
     "text": [
      "epoch: 2, [batch: 10531 / 13164], examples_per_second: 3209.4788, train_label_loss: 0.0005, \n"
     ]
    },
    {
     "name": "stdout",
     "output_type": "stream",
     "text": [
      "epoch: 2, [batch: 11847 / 13164], examples_per_second: 3212.2534, train_label_loss: 0.0555, \n"
     ]
    },
    {
     "name": "stdout",
     "output_type": "stream",
     "text": [
      "=============================================================\n",
      "epoch: 2, source_val_acc_label: 0.9840, target_val_acc_label: 0.4986, source_val_label_loss: 0.0720, target_val_label_loss: 2.3585, \n",
      "=============================================================\n"
     ]
    },
    {
     "name": "stdout",
     "output_type": "stream",
     "text": [
      "New best\n"
     ]
    },
    {
     "name": "stdout",
     "output_type": "stream",
     "text": [
      "epoch: 3, [batch: 1 / 13141], examples_per_second: 2.6637, train_label_loss: 0.1923, \n"
     ]
    },
    {
     "name": "stdout",
     "output_type": "stream",
     "text": [
      "epoch: 3, [batch: 1315 / 13141], examples_per_second: 3146.3523, train_label_loss: 0.0001, \n"
     ]
    },
    {
     "name": "stdout",
     "output_type": "stream",
     "text": [
      "epoch: 3, [batch: 2629 / 13141], examples_per_second: 3189.2706, train_label_loss: 0.1363, \n"
     ]
    },
    {
     "name": "stdout",
     "output_type": "stream",
     "text": [
      "epoch: 3, [batch: 3943 / 13141], examples_per_second: 3173.0176, train_label_loss: 0.2314, \n"
     ]
    },
    {
     "name": "stdout",
     "output_type": "stream",
     "text": [
      "epoch: 3, [batch: 5257 / 13141], examples_per_second: 3169.9560, train_label_loss: 0.0002, \n"
     ]
    },
    {
     "name": "stdout",
     "output_type": "stream",
     "text": [
      "epoch: 3, [batch: 6571 / 13141], examples_per_second: 3188.4709, train_label_loss: 0.0031, \n"
     ]
    },
    {
     "name": "stdout",
     "output_type": "stream",
     "text": [
      "epoch: 3, [batch: 7885 / 13141], examples_per_second: 3168.9832, train_label_loss: 0.0004, \n"
     ]
    },
    {
     "name": "stdout",
     "output_type": "stream",
     "text": [
      "epoch: 3, [batch: 9199 / 13141], examples_per_second: 3130.2387, train_label_loss: 0.1947, \n"
     ]
    },
    {
     "name": "stdout",
     "output_type": "stream",
     "text": [
      "epoch: 3, [batch: 10513 / 13141], examples_per_second: 3133.3967, train_label_loss: 0.1163, \n"
     ]
    },
    {
     "name": "stdout",
     "output_type": "stream",
     "text": [
      "epoch: 3, [batch: 11827 / 13141], examples_per_second: 3220.7956, train_label_loss: 0.2485, \n"
     ]
    },
    {
     "name": "stdout",
     "output_type": "stream",
     "text": [
      "=============================================================\n",
      "epoch: 3, source_val_acc_label: 0.9853, target_val_acc_label: 0.4502, source_val_label_loss: 0.0652, target_val_label_loss: 2.2823, \n",
      "=============================================================\n"
     ]
    },
    {
     "name": "stdout",
     "output_type": "stream",
     "text": [
      "epoch: 4, [batch: 1 / 13165], examples_per_second: 2.6906, train_label_loss: 0.0161, \n"
     ]
    },
    {
     "name": "stdout",
     "output_type": "stream",
     "text": [
      "epoch: 4, [batch: 1317 / 13165], examples_per_second: 3207.0287, train_label_loss: 0.0620, \n"
     ]
    },
    {
     "name": "stdout",
     "output_type": "stream",
     "text": [
      "epoch: 4, [batch: 2633 / 13165], examples_per_second: 3186.9361, train_label_loss: 0.0016, \n"
     ]
    },
    {
     "name": "stdout",
     "output_type": "stream",
     "text": [
      "epoch: 4, [batch: 3950 / 13165], examples_per_second: 3193.6634, train_label_loss: 0.0036, \n"
     ]
    },
    {
     "name": "stdout",
     "output_type": "stream",
     "text": [
      "epoch: 4, [batch: 5266 / 13165], examples_per_second: 3193.4298, train_label_loss: 0.0651, \n"
     ]
    },
    {
     "name": "stdout",
     "output_type": "stream",
     "text": [
      "epoch: 4, [batch: 6583 / 13165], examples_per_second: 3191.1247, train_label_loss: 0.0005, \n"
     ]
    },
    {
     "name": "stdout",
     "output_type": "stream",
     "text": [
      "epoch: 4, [batch: 7899 / 13165], examples_per_second: 3182.2466, train_label_loss: 0.2399, \n"
     ]
    },
    {
     "name": "stdout",
     "output_type": "stream",
     "text": [
      "epoch: 4, [batch: 9215 / 13165], examples_per_second: 3185.6778, train_label_loss: 0.1136, \n"
     ]
    },
    {
     "name": "stdout",
     "output_type": "stream",
     "text": [
      "epoch: 4, [batch: 10532 / 13165], examples_per_second: 3224.4073, train_label_loss: 0.0007, \n"
     ]
    },
    {
     "name": "stdout",
     "output_type": "stream",
     "text": [
      "epoch: 4, [batch: 11848 / 13165], examples_per_second: 3220.2850, train_label_loss: 0.1259, \n"
     ]
    },
    {
     "name": "stdout",
     "output_type": "stream",
     "text": [
      "=============================================================\n",
      "epoch: 4, source_val_acc_label: 0.9862, target_val_acc_label: 0.4109, source_val_label_loss: 0.0602, target_val_label_loss: 2.2847, \n",
      "=============================================================\n"
     ]
    },
    {
     "name": "stdout",
     "output_type": "stream",
     "text": [
      "epoch: 5, [batch: 1 / 13180], examples_per_second: 2.6725, train_label_loss: 0.0102, \n"
     ]
    },
    {
     "name": "stdout",
     "output_type": "stream",
     "text": [
      "epoch: 5, [batch: 1318 / 13180], examples_per_second: 3204.7147, train_label_loss: 0.0038, \n"
     ]
    },
    {
     "name": "stdout",
     "output_type": "stream",
     "text": [
      "epoch: 5, [batch: 2636 / 13180], examples_per_second: 3056.1399, train_label_loss: 0.4147, \n"
     ]
    },
    {
     "name": "stdout",
     "output_type": "stream",
     "text": [
      "epoch: 5, [batch: 3954 / 13180], examples_per_second: 3163.6635, train_label_loss: 0.0001, \n"
     ]
    },
    {
     "name": "stdout",
     "output_type": "stream",
     "text": [
      "epoch: 5, [batch: 5272 / 13180], examples_per_second: 3142.5298, train_label_loss: 0.0147, \n"
     ]
    },
    {
     "name": "stdout",
     "output_type": "stream",
     "text": [
      "epoch: 5, [batch: 6590 / 13180], examples_per_second: 3206.3612, train_label_loss: 0.0020, \n"
     ]
    },
    {
     "name": "stdout",
     "output_type": "stream",
     "text": [
      "epoch: 5, [batch: 7908 / 13180], examples_per_second: 3162.1301, train_label_loss: 0.1822, \n"
     ]
    },
    {
     "name": "stdout",
     "output_type": "stream",
     "text": [
      "epoch: 5, [batch: 9226 / 13180], examples_per_second: 3122.6687, train_label_loss: 0.0996, \n"
     ]
    },
    {
     "name": "stdout",
     "output_type": "stream",
     "text": [
      "epoch: 5, [batch: 10544 / 13180], examples_per_second: 3175.9496, train_label_loss: 0.0002, \n"
     ]
    },
    {
     "name": "stdout",
     "output_type": "stream",
     "text": [
      "epoch: 5, [batch: 11862 / 13180], examples_per_second: 3177.4307, train_label_loss: 0.0148, \n"
     ]
    },
    {
     "name": "stdout",
     "output_type": "stream",
     "text": [
      "=============================================================\n",
      "epoch: 5, source_val_acc_label: 0.9857, target_val_acc_label: 0.3808, source_val_label_loss: 0.0611, target_val_label_loss: 2.1957, \n",
      "=============================================================\n"
     ]
    },
    {
     "name": "stdout",
     "output_type": "stream",
     "text": [
      "epoch: 6, [batch: 1 / 13166], examples_per_second: 2.6442, train_label_loss: 0.0000, \n"
     ]
    },
    {
     "name": "stdout",
     "output_type": "stream",
     "text": [
      "epoch: 6, [batch: 1317 / 13166], examples_per_second: 3214.5151, train_label_loss: 0.0004, \n"
     ]
    },
    {
     "name": "stdout",
     "output_type": "stream",
     "text": [
      "epoch: 6, [batch: 2634 / 13166], examples_per_second: 3182.5422, train_label_loss: 0.0798, \n"
     ]
    },
    {
     "name": "stdout",
     "output_type": "stream",
     "text": [
      "epoch: 6, [batch: 3950 / 13166], examples_per_second: 3232.1060, train_label_loss: 0.0002, \n"
     ]
    },
    {
     "name": "stdout",
     "output_type": "stream",
     "text": [
      "epoch: 6, [batch: 5267 / 13166], examples_per_second: 3223.6660, train_label_loss: 0.0046, \n"
     ]
    },
    {
     "name": "stdout",
     "output_type": "stream",
     "text": [
      "epoch: 6, [batch: 6583 / 13166], examples_per_second: 3235.8170, train_label_loss: 0.0280, \n"
     ]
    },
    {
     "name": "stdout",
     "output_type": "stream",
     "text": [
      "epoch: 6, [batch: 7900 / 13166], examples_per_second: 3249.3540, train_label_loss: 0.1317, \n"
     ]
    },
    {
     "name": "stdout",
     "output_type": "stream",
     "text": [
      "epoch: 6, [batch: 9216 / 13166], examples_per_second: 3241.5001, train_label_loss: 0.0000, \n"
     ]
    },
    {
     "name": "stdout",
     "output_type": "stream",
     "text": [
      "epoch: 6, [batch: 10533 / 13166], examples_per_second: 3261.5799, train_label_loss: 0.0005, \n"
     ]
    },
    {
     "name": "stdout",
     "output_type": "stream",
     "text": [
      "epoch: 6, [batch: 11849 / 13166], examples_per_second: 3253.8235, train_label_loss: 0.0001, \n"
     ]
    },
    {
     "name": "stdout",
     "output_type": "stream",
     "text": [
      "=============================================================\n",
      "epoch: 6, source_val_acc_label: 0.9864, target_val_acc_label: 0.3851, source_val_label_loss: 0.0548, target_val_label_loss: 2.2146, \n",
      "=============================================================\n"
     ]
    },
    {
     "name": "stdout",
     "output_type": "stream",
     "text": [
      "Patience (3) exhausted\n"
     ]
    }
   ],
   "source": [
    "###################################\n",
    "# train\n",
    "###################################\n",
    "jig = PTN_Train_Eval_Test_Jig(model, p.BEST_MODEL_PATH, p.device)\n",
    "\n",
    "jig.train(\n",
    "    train_iterable=datasets.source.processed.train,\n",
    "    source_val_iterable=datasets.source.processed.val,\n",
    "    target_val_iterable=datasets.target.processed.val,\n",
    "    num_epochs=p.n_epoch,\n",
    "    num_logs_per_epoch=p.NUM_LOGS_PER_EPOCH,\n",
    "    patience=p.patience,\n",
    "    optimizer=optimizer,\n",
    "    criteria_for_best=p.criteria_for_best,\n",
    ")"
   ]
  },
  {
   "cell_type": "code",
   "execution_count": 23,
   "id": "31e8fabf",
   "metadata": {
    "execution": {
     "iopub.execute_input": "2022-03-20T03:55:59.332392Z",
     "iopub.status.busy": "2022-03-20T03:55:59.331898Z",
     "iopub.status.idle": "2022-03-20T03:55:59.349280Z",
     "shell.execute_reply": "2022-03-20T03:55:59.348838Z"
    },
    "papermill": {
     "duration": 0.047097,
     "end_time": "2022-03-20T03:55:59.349387",
     "exception": false,
     "start_time": "2022-03-20T03:55:59.302290",
     "status": "completed"
    },
    "tags": []
   },
   "outputs": [],
   "source": [
    "total_experiment_time_secs = time.time() - start_time_secs"
   ]
  },
  {
   "cell_type": "code",
   "execution_count": 24,
   "id": "87b9595b",
   "metadata": {
    "execution": {
     "iopub.execute_input": "2022-03-20T03:55:59.413709Z",
     "iopub.status.busy": "2022-03-20T03:55:59.413412Z",
     "iopub.status.idle": "2022-03-20T03:58:24.331427Z",
     "shell.execute_reply": "2022-03-20T03:58:24.331805Z"
    },
    "papermill": {
     "duration": 144.950887,
     "end_time": "2022-03-20T03:58:24.331939",
     "exception": false,
     "start_time": "2022-03-20T03:55:59.381052",
     "status": "completed"
    },
    "tags": []
   },
   "outputs": [],
   "source": [
    "###################################\n",
    "# Evaluate the model\n",
    "###################################\n",
    "source_test_label_accuracy, source_test_label_loss = jig.test(datasets.source.processed.test)\n",
    "target_test_label_accuracy, target_test_label_loss = jig.test(datasets.target.processed.test)\n",
    "\n",
    "source_val_label_accuracy, source_val_label_loss = jig.test(datasets.source.processed.val)\n",
    "target_val_label_accuracy, target_val_label_loss = jig.test(datasets.target.processed.val)\n",
    "\n",
    "history = jig.get_history()\n",
    "\n",
    "total_epochs_trained = len(history[\"epoch_indices\"])\n",
    "\n",
    "val_dl = Iterable_Aggregator((datasets.source.original.val,datasets.target.original.val))\n",
    "\n",
    "confusion = ptn_confusion_by_domain_over_dataloader(model, p.device, val_dl)\n",
    "per_domain_accuracy = per_domain_accuracy_from_confusion(confusion)\n",
    "\n",
    "# Add a key to per_domain_accuracy for if it was a source domain\n",
    "for domain, accuracy in per_domain_accuracy.items():\n",
    "    per_domain_accuracy[domain] = {\n",
    "        \"accuracy\": accuracy,\n",
    "        \"source?\": domain in p.domains_source\n",
    "    }\n",
    "\n",
    "# Do an independent accuracy assesment JUST TO BE SURE!\n",
    "# _source_test_label_accuracy = independent_accuracy_assesment(model, datasets.source.processed.test, p.device)\n",
    "# _target_test_label_accuracy = independent_accuracy_assesment(model, datasets.target.processed.test, p.device)\n",
    "# _source_val_label_accuracy = independent_accuracy_assesment(model, datasets.source.processed.val, p.device)\n",
    "# _target_val_label_accuracy = independent_accuracy_assesment(model, datasets.target.processed.val, p.device)\n",
    "\n",
    "# assert(_source_test_label_accuracy == source_test_label_accuracy)\n",
    "# assert(_target_test_label_accuracy == target_test_label_accuracy)\n",
    "# assert(_source_val_label_accuracy == source_val_label_accuracy)\n",
    "# assert(_target_val_label_accuracy == target_val_label_accuracy)\n",
    "\n",
    "experiment = {\n",
    "    \"experiment_name\": p.experiment_name,\n",
    "    \"parameters\": dict(p),\n",
    "    \"results\": {\n",
    "        \"source_test_label_accuracy\": source_test_label_accuracy,\n",
    "        \"source_test_label_loss\": source_test_label_loss,\n",
    "        \"target_test_label_accuracy\": target_test_label_accuracy,\n",
    "        \"target_test_label_loss\": target_test_label_loss,\n",
    "        \"source_val_label_accuracy\": source_val_label_accuracy,\n",
    "        \"source_val_label_loss\": source_val_label_loss,\n",
    "        \"target_val_label_accuracy\": target_val_label_accuracy,\n",
    "        \"target_val_label_loss\": target_val_label_loss,\n",
    "        \"total_epochs_trained\": total_epochs_trained,\n",
    "        \"total_experiment_time_secs\": total_experiment_time_secs,\n",
    "        \"confusion\": confusion,\n",
    "        \"per_domain_accuracy\": per_domain_accuracy,\n",
    "    },\n",
    "    \"history\": history,\n",
    "    \"dataset_metrics\": get_dataset_metrics(datasets, \"ptn\"),\n",
    "}"
   ]
  },
  {
   "cell_type": "code",
   "execution_count": 25,
   "id": "54a21829",
   "metadata": {
    "execution": {
     "iopub.execute_input": "2022-03-20T03:58:24.392021Z",
     "iopub.status.busy": "2022-03-20T03:58:24.391755Z",
     "iopub.status.idle": "2022-03-20T03:58:24.521869Z",
     "shell.execute_reply": "2022-03-20T03:58:24.521480Z"
    },
    "papermill": {
     "duration": 0.159093,
     "end_time": "2022-03-20T03:58:24.521966",
     "exception": false,
     "start_time": "2022-03-20T03:58:24.362873",
     "status": "completed"
    },
    "tags": []
   },
   "outputs": [
    {
     "data": {
      "image/png": "[encoded data removed]",
      "text/plain": [
       "<Figure size 1080x504 with 1 Axes>"
      ]
     },
     "metadata": {
      "needs_background": "light"
     },
     "output_type": "display_data"
    }
   ],
   "source": [
    "ax = get_loss_curve(experiment)\n",
    "plt.show()"
   ]
  },
  {
   "cell_type": "code",
   "execution_count": 26,
   "id": "fd8a0f60",
   "metadata": {
    "execution": {
     "iopub.execute_input": "2022-03-20T03:58:24.583831Z",
     "iopub.status.busy": "2022-03-20T03:58:24.583579Z",
     "iopub.status.idle": "2022-03-20T03:58:24.727890Z",
     "shell.execute_reply": "2022-03-20T03:58:24.727643Z"
    },
    "papermill": {
     "duration": 0.173835,
     "end_time": "2022-03-20T03:58:24.727947",
     "exception": false,
     "start_time": "2022-03-20T03:58:24.554112",
     "status": "completed"
    },
    "tags": []
   },
   "outputs": [
    {
     "data": {
      "text/plain": [
       "<AxesSubplot:title={'center':'Results'}>"
      ]
     },
     "execution_count": 26,
     "metadata": {},
     "output_type": "execute_result"
    },
    {
     "data": {
      "image/png": "[encoded data removed]",
      "text/plain": [
       "<Figure size 1080x504 with 1 Axes>"
      ]
     },
     "metadata": {
      "needs_background": "light"
     },
     "output_type": "display_data"
    }
   ],
   "source": [
    "get_results_table(experiment)"
   ]
  },
  {
   "cell_type": "code",
   "execution_count": 27,
   "id": "cf8dc689",
   "metadata": {
    "execution": {
     "iopub.execute_input": "2022-03-20T03:58:24.789286Z",
     "iopub.status.busy": "2022-03-20T03:58:24.789030Z",
     "iopub.status.idle": "2022-03-20T03:58:24.944974Z",
     "shell.execute_reply": "2022-03-20T03:58:24.944511Z"
    },
    "papermill": {
     "duration": 0.187304,
     "end_time": "2022-03-20T03:58:24.945070",
     "exception": false,
     "start_time": "2022-03-20T03:58:24.757766",
     "status": "completed"
    },
    "tags": []
   },
   "outputs": [
    {
     "data": {
      "text/plain": [
       "<AxesSubplot:title={'center':'Per Domain Validation Accuracy'}, xlabel='domain'>"
      ]
     },
     "execution_count": 27,
     "metadata": {},
     "output_type": "execute_result"
    },
    {
     "data": {
      "image/png": "[encoded data removed]",
      "text/plain": [
       "<Figure size 1080x504 with 1 Axes>"
      ]
     },
     "metadata": {
      "needs_background": "light"
     },
     "output_type": "display_data"
    }
   ],
   "source": [
    "get_domain_accuracies(experiment)"
   ]
  },
  {
   "cell_type": "code",
   "execution_count": 28,
   "id": "a74ae082",
   "metadata": {
    "execution": {
     "iopub.execute_input": "2022-03-20T03:58:25.010708Z",
     "iopub.status.busy": "2022-03-20T03:58:25.010455Z",
     "iopub.status.idle": "2022-03-20T03:58:25.026775Z",
     "shell.execute_reply": "2022-03-20T03:58:25.027069Z"
    },
    "papermill": {
     "duration": 0.049193,
     "end_time": "2022-03-20T03:58:25.027153",
     "exception": false,
     "start_time": "2022-03-20T03:58:24.977960",
     "status": "completed"
    },
    "tags": []
   },
   "outputs": [
    {
     "name": "stdout",
     "output_type": "stream",
     "text": [
      "Source Test Label Accuracy: 0.9845934139784946 Target Test Label Accuracy: 0.5094075520833333\n",
      "Source Val Label Accuracy: 0.9840315934065934 Target Val Label Accuracy: 0.49856770833333336\n"
     ]
    }
   ],
   "source": [
    "print(\"Source Test Label Accuracy:\", experiment[\"results\"][\"source_test_label_accuracy\"], \"Target Test Label Accuracy:\", experiment[\"results\"][\"target_test_label_accuracy\"])\n",
    "print(\"Source Val Label Accuracy:\", experiment[\"results\"][\"source_val_label_accuracy\"], \"Target Val Label Accuracy:\", experiment[\"results\"][\"target_val_label_accuracy\"])"
   ]
  },
  {
   "cell_type": "code",
   "execution_count": 29,
   "id": "dacca602",
   "metadata": {
    "execution": {
     "iopub.execute_input": "2022-03-20T03:58:25.093305Z",
     "iopub.status.busy": "2022-03-20T03:58:25.093046Z",
     "iopub.status.idle": "2022-03-20T03:58:25.105243Z",
     "shell.execute_reply": "2022-03-20T03:58:25.105453Z"
    },
    "papermill": {
     "duration": 0.044407,
     "end_time": "2022-03-20T03:58:25.105514",
     "exception": false,
     "start_time": "2022-03-20T03:58:25.061107",
     "status": "completed"
    },
    "tags": [
     "experiment_json"
    ]
   },
   "outputs": [
    {
     "data": {
      "text/plain": [
       "'{\"experiment_name\": \"tl_2v2:cores+wisig -> oracle.run1.framed\", \"parameters\": {\"experiment_name\": \"tl_2v2:cores+wisig -> oracle.run1.framed\", \"device\": \"cuda\", \"lr\": 0.0001, \"n_shot\": 3, \"n_query\": 2, \"train_k_factor\": 3, \"val_k_factor\": 2, \"test_k_factor\": 2, \"torch_default_dtype\": \"torch.float32\", \"n_epoch\": 50, \"patience\": 3, \"criteria_for_best\": \"target_accuracy\", \"x_net\": [{\"class\": \"nnReshape\", \"kargs\": {\"shape\": [-1, 1, 2, 256]}}, {\"class\": \"Conv2d\", \"kargs\": {\"in_channels\": 1, \"out_channels\": 256, \"kernel_size\": [1, 7], \"bias\": false, \"padding\": [0, 3]}}, {\"class\": \"ReLU\", \"kargs\": {\"inplace\": true}}, {\"class\": \"BatchNorm2d\", \"kargs\": {\"num_features\": 256}}, {\"class\": \"Conv2d\", \"kargs\": {\"in_channels\": 256, \"out_channels\": 80, \"kernel_size\": [2, 7], \"bias\": true, \"padding\": [0, 3]}}, {\"class\": \"ReLU\", \"kargs\": {\"inplace\": true}}, {\"class\": \"BatchNorm2d\", \"kargs\": {\"num_features\": 80}}, {\"class\": \"Flatten\", \"kargs\": {}}, {\"class\": \"Linear\", \"kargs\": {\"in_features\": 20480, \"out_features\": 256}}, {\"class\": \"ReLU\", \"kargs\": {\"inplace\": true}}, {\"class\": \"BatchNorm1d\", \"kargs\": {\"num_features\": 256}}, {\"class\": \"Linear\", \"kargs\": {\"in_features\": 256, \"out_features\": 256}}], \"NUM_LOGS_PER_EPOCH\": 10, \"BEST_MODEL_PATH\": \"./best_model.pth\", \"n_way\": 16, \"datasets\": [{\"labels\": [\"1-10.\", \"1-11.\", \"1-15.\", \"1-16.\", \"1-17.\", \"1-18.\", \"1-19.\", \"10-4.\", \"10-7.\", \"11-1.\", \"11-14.\", \"11-17.\", \"11-20.\", \"11-7.\", \"13-20.\", \"13-8.\", \"14-10.\", \"14-11.\", \"14-14.\", \"14-7.\", \"15-1.\", \"15-20.\", \"16-1.\", \"16-16.\", \"17-10.\", \"17-11.\", \"17-2.\", \"19-1.\", \"19-16.\", \"19-19.\", \"19-20.\", \"19-3.\", \"2-10.\", \"2-11.\", \"2-17.\", \"2-18.\", \"2-20.\", \"2-3.\", \"2-4.\", \"2-5.\", \"2-6.\", \"2-7.\", \"2-8.\", \"3-13.\", \"3-18.\", \"3-3.\", \"4-1.\", \"4-10.\", \"4-11.\", \"4-19.\", \"5-5.\", \"6-15.\", \"7-10.\", \"7-14.\", \"8-18.\", \"8-20.\", \"8-3.\", \"8-8.\"], \"domains\": [1, 2, 3, 4, 5], \"num_examples_per_domain_per_label\": -1, \"pickle_path\": \"/mnt/wd500GB/CSC500/csc500-main/datasets/cores.stratified_ds.2022A.pkl\", \"source_or_target_dataset\": \"source\", \"x_transforms\": [], \"episode_transforms\": [], \"domain_prefix\": \"C_\"}, {\"labels\": [\"1-10\", \"1-12\", \"1-14\", \"1-16\", \"1-18\", \"1-19\", \"1-8\", \"10-11\", \"10-17\", \"10-4\", \"10-7\", \"11-1\", \"11-10\", \"11-19\", \"11-20\", \"11-4\", \"11-7\", \"12-19\", \"12-20\", \"12-7\", \"13-14\", \"13-18\", \"13-19\", \"13-20\", \"13-3\", \"13-7\", \"14-10\", \"14-11\", \"14-12\", \"14-13\", \"14-14\", \"14-19\", \"14-20\", \"14-7\", \"14-8\", \"14-9\", \"15-1\", \"15-19\", \"15-6\", \"16-1\", \"16-16\", \"16-19\", \"16-20\", \"17-10\", \"17-11\", \"18-1\", \"18-10\", \"18-11\", \"18-12\", \"18-13\", \"18-14\", \"18-15\", \"18-16\", \"18-17\", \"18-19\", \"18-2\", \"18-20\", \"18-4\", \"18-5\", \"18-7\", \"18-8\", \"18-9\", \"19-1\", \"19-10\", \"19-11\", \"19-12\", \"19-13\", \"19-14\", \"19-15\", \"19-19\", \"19-2\", \"19-20\", \"19-3\", \"19-4\", \"19-6\", \"19-7\", \"19-8\", \"19-9\", \"2-1\", \"2-13\", \"2-15\", \"2-3\", \"2-4\", \"2-5\", \"2-6\", \"2-7\", \"2-8\", \"20-1\", \"20-12\", \"20-14\", \"20-15\", \"20-16\", \"20-18\", \"20-19\", \"20-20\", \"20-3\", \"20-4\", \"20-5\", \"20-7\", \"20-8\", \"3-1\", \"3-13\", \"3-18\", \"3-2\", \"3-8\", \"4-1\", \"4-10\", \"4-11\", \"5-1\", \"5-5\", \"6-1\", \"6-15\", \"6-6\", \"7-10\", \"7-11\", \"7-12\", \"7-13\", \"7-14\", \"7-7\", \"7-8\", \"7-9\", \"8-1\", \"8-13\", \"8-14\", \"8-18\", \"8-20\", \"8-3\", \"8-8\", \"9-1\", \"9-7\"], \"domains\": [1, 2, 3, 4], \"num_examples_per_domain_per_label\": -1, \"pickle_path\": \"/mnt/wd500GB/CSC500/csc500-main/datasets/wisig.node3-19.stratified_ds.2022A.pkl\", \"source_or_target_dataset\": \"source\", \"x_transforms\": [], \"episode_transforms\": [], \"domain_prefix\": \"W_\"}, {\"labels\": [\"3123D52\", \"3123D65\", \"3123D79\", \"3123D80\", \"3123D54\", \"3123D70\", \"3123D7B\", \"3123D89\", \"3123D58\", \"3123D76\", \"3123D7D\", \"3123EFE\", \"3123D64\", \"3123D78\", \"3123D7E\", \"3124E4A\"], \"domains\": [32, 38, 8, 44, 14, 50, 20, 26], \"num_examples_per_domain_per_label\": 2000, \"pickle_path\": \"/mnt/wd500GB/CSC500/csc500-main/datasets/oracle.Run1_framed_2000Examples_stratified_ds.2022A.pkl\", \"source_or_target_dataset\": \"target\", \"x_transforms\": [], \"episode_transforms\": [], \"domain_prefix\": \"O_\"}], \"seed\": 1337, \"dataset_seed\": 1337, \"x_shape\": [2, 256], \"domains_source\": [\"C_1\", \"C_2\", \"C_3\", \"C_4\", \"C_5\", \"W_1\", \"W_2\", \"W_3\", \"W_4\"], \"domains_target\": [\"O_32\", \"O_38\", \"O_8\", \"O_44\", \"O_14\", \"O_50\", \"O_20\", \"O_26\"]}, \"results\": {\"source_test_label_accuracy\": 0.9845934139784946, \"source_test_label_loss\": 0.06851451098918915, \"target_test_label_accuracy\": 0.5094075520833333, \"target_test_label_loss\": 2.355637311935425, \"source_val_label_accuracy\": 0.9840315934065934, \"source_val_label_loss\": 0.07200736552476883, \"target_val_label_accuracy\": 0.49856770833333336, \"target_val_label_loss\": 2.3584725856781006, \"total_epochs_trained\": 6, \"total_experiment_time_secs\": 2160.859499692917, \"confusion\": {\"W_3\": {\"109\": {\"109\": 127, \"70\": 1}, \"127\": {\"127\": 126, \"110\": 1, \"69\": 1}, \"14\": {\"14\": 80}, \"7\": {\"7\": 111, \"111\": 1}, \"129\": {\"129\": 32}, \"57\": {\"57\": 19, \"74\": 1}, \"84\": {\"84\": 107, \"118\": 1}, \"114\": {\"114\": 121, \"29\": 1, \"128\": 1, \"106\": 1}, \"44\": {\"44\": 72}, \"21\": {\"21\": 46, \"101\": 1, \"73\": 1}, \"46\": {\"46\": 16}, \"100\": {\"100\": 16}, \"63\": {\"63\": 15, \"19\": 1}, \"24\": {\"24\": 46, \"27\": 2}, \"107\": {\"107\": 117, \"62\": 1}, \"35\": {\"35\": 11, \"69\": 1}, \"81\": {\"81\": 32}, \"64\": {\"64\": 20}, \"59\": {\"59\": 12}, \"33\": {\"33\": 113, \"90\": 1}, \"34\": {\"34\": 30, \"32\": 1, \"66\": 1}, \"36\": {\"36\": 117, \"4\": 1, \"24\": 1, \"87\": 1}, \"79\": {\"79\": 12}, \"80\": {\"80\": 16}, \"77\": {\"77\": 15, \"105\": 1}, \"22\": {\"22\": 16}, \"124\": {\"124\": 122, \"98\": 1, \"32\": 1}, \"2\": {\"2\": 25, \"117\": 1, \"100\": 1, \"92\": 1}, \"87\": {\"87\": 111, \"127\": 1}, \"105\": {\"105\": 122}, \"95\": {\"95\": 32}, \"43\": {\"43\": 51, \"8\": 1, \"127\": 1, \"88\": 1, \"78\": 1, \"11\": 1}, \"56\": {\"56\": 12}, \"18\": {\"18\": 121, \"88\": 1, \"21\": 1, \"62\": 1}, \"85\": {\"85\": 35, \"128\": 1}, \"113\": {\"113\": 119, \"105\": 1}, \"97\": {\"97\": 18, \"27\": 1, \"13\": 1}, \"86\": {\"86\": 26, \"84\": 1, \"55\": 1}, \"128\": {\"128\": 30, \"17\": 1, \"70\": 1}, \"123\": {\"123\": 16}, \"8\": {\"8\": 129, \"49\": 1}, \"110\": {\"110\": 81, \"88\": 1, \"17\": 1, \"70\": 1, \"106\": 1, \"39\": 1, \"101\": 1, \"23\": 1, \"69\": 1, \"126\": 1}, \"126\": {\"21\": 1, \"126\": 99, \"94\": 1, \"101\": 1, \"88\": 2}, \"42\": {\"42\": 27, \"112\": 1}, \"96\": {\"96\": 20}, \"83\": {\"83\": 24}, \"54\": {\"54\": 16}, \"65\": {\"65\": 12}, \"30\": {\"30\": 81, \"127\": 1, \"69\": 1, \"70\": 1}, \"121\": {\"121\": 27, \"100\": 2, \"21\": 1, \"127\": 2}, \"68\": {\"68\": 16}, \"45\": {\"45\": 15, \"38\": 1}, \"48\": {\"48\": 10, \"65\": 2, \"77\": 2, \"79\": 2}, \"4\": {\"4\": 94, \"105\": 1, \"87\": 1}, \"67\": {\"67\": 16}, \"103\": {\"103\": 15, \"32\": 1}, \"74\": {\"74\": 16}, \"1\": {\"1\": 106, \"27\": 1, \"101\": 1}, \"61\": {\"61\": 16}, \"101\": {\"101\": 48, \"57\": 1, \"0\": 1, \"84\": 1, \"3\": 1}, \"93\": {\"93\": 138}, \"26\": {\"26\": 130}, \"71\": {\"71\": 65, \"113\": 1, \"3\": 1, \"127\": 1}, \"15\": {\"15\": 102, \"40\": 1, \"70\": 1}, \"55\": {\"55\": 16}, \"104\": {\"104\": 16}, \"112\": {\"112\": 15, \"3\": 1}, \"102\": {\"102\": 122}, \"117\": {\"117\": 112}, \"119\": {\"119\": 16}, \"20\": {\"20\": 15, \"43\": 1}, \"120\": {\"120\": 20}, \"39\": {\"39\": 101, \"126\": 2, \"127\": 1, \"13\": 1, \"70\": 1, \"105\": 1, \"8\": 1}, \"49\": {\"49\": 23, \"8\": 1}, \"53\": {\"53\": 20}, \"92\": {\"92\": 31, \"3\": 1}, \"3\": {\"3\": 116}, \"47\": {\"47\": 12}, \"115\": {\"115\": 16}, \"58\": {\"58\": 16}, \"29\": {\"29\": 32}, \"12\": {\"12\": 104}, \"62\": {\"62\": 117, \"127\": 1}, \"11\": {\"11\": 140}, \"72\": {\"72\": 28}, \"98\": {\"98\": 106}, \"122\": {\"122\": 56, \"11\": 1, \"39\": 1, \"82\": 1, \"105\": 1}, \"17\": {\"100\": 1, \"17\": 9, \"11\": 1, \"63\": 1, \"105\": 1, \"68\": 1, \"104\": 1, \"98\": 1}, \"94\": {\"94\": 84}, \"106\": {\"106\": 88, \"94\": 1, \"127\": 1}, \"28\": {\"28\": 16}, \"69\": {\"69\": 78, \"88\": 1, \"106\": 1, \"87\": 1, \"114\": 1, \"70\": 1, \"27\": 1}, \"125\": {\"125\": 111, \"98\": 1, \"126\": 1, \"62\": 1}, \"19\": {\"19\": 32}, \"41\": {\"41\": 16}, \"60\": {\"60\": 28}, \"70\": {\"70\": 68, \"127\": 1, \"92\": 1, \"106\": 1, \"84\": 1}, \"27\": {\"27\": 93, \"23\": 1, \"24\": 2}, \"10\": {\"10\": 116, \"39\": 1, \"84\": 1}, \"108\": {\"108\": 138, \"84\": 1, \"110\": 1}, \"9\": {\"9\": 32}, \"25\": {\"25\": 15, \"54\": 1}, \"37\": {\"37\": 15, \"73\": 1}, \"0\": {\"0\": 116}, \"66\": {\"66\": 16}, \"51\": {\"51\": 16}, \"76\": {\"76\": 16}, \"32\": {\"32\": 31, \"56\": 1}, \"88\": {\"88\": 110, \"127\": 1, \"114\": 1}, \"31\": {\"31\": 20}, \"91\": {\"91\": 22, \"103\": 2}, \"90\": {\"90\": 126}, \"13\": {\"13\": 10, \"55\": 1, \"126\": 1, \"44\": 1, \"58\": 1, \"103\": 2}, \"50\": {\"50\": 16}, \"78\": {\"78\": 16}, \"116\": {\"116\": 26, \"82\": 1, \"86\": 1}, \"5\": {\"5\": 110, \"70\": 2}, \"75\": {\"75\": 16}, \"89\": {\"89\": 28}, \"16\": {\"16\": 114, \"127\": 1, \"27\": 1}, \"38\": {\"38\": 15, \"126\": 1}, \"118\": {\"118\": 97, \"24\": 1, \"105\": 1, \"109\": 1}, \"99\": {\"99\": 35, \"36\": 1}, \"52\": {\"52\": 16}, \"111\": {\"111\": 128}, \"23\": {\"23\": 28, \"110\": 2, \"12\": 1, \"87\": 1}, \"73\": {\"73\": 40}, \"82\": {\"82\": 26, \"101\": 1, \"122\": 1}, \"40\": {\"40\": 126, \"88\": 2}, \"6\": {\"6\": 32}}, \"C_3\": {\"43\": {\"43\": 128}, \"9\": {\"9\": 150}, \"6\": {\"6\": 88}, \"3\": {\"3\": 144}, \"16\": {\"16\": 134}, \"51\": {\"51\": 128}, \"31\": {\"31\": 28}, \"46\": {\"46\": 134}, \"19\": {\"19\": 124}, \"8\": {\"8\": 152}, \"18\": {\"18\": 84}, \"37\": {\"37\": 28}, \"24\": {\"24\": 104}, \"10\": {\"10\": 64}, \"44\": {\"44\": 88}, \"14\": {\"14\": 40}, \"38\": {\"38\": 28}, \"53\": {\"53\": 140}, \"20\": {\"20\": 132}, \"32\": {\"32\": 28}, \"36\": {\"36\": 100}, \"33\": {\"33\": 28}, \"56\": {\"56\": 136}, \"23\": {\"23\": 130}, \"54\": {\"54\": 100}, \"21\": {\"21\": 125, \"46\": 1}, \"28\": {\"28\": 28}, \"26\": {\"26\": 24}, \"48\": {\"48\": 116}, \"52\": {\"52\": 118}, \"39\": {\"39\": 16}, \"22\": {\"22\": 140}, \"13\": {\"13\": 128}, \"2\": {\"2\": 32}, \"34\": {\"34\": 32}, \"27\": {\"27\": 132}, \"45\": {\"45\": 60}, \"35\": {\"35\": 28}, \"29\": {\"29\": 128}, \"25\": {\"25\": 144}, \"0\": {\"0\": 124}, \"41\": {\"41\": 28}, \"11\": {\"11\": 142}, \"5\": {\"5\": 108}, \"1\": {\"1\": 100}, \"57\": {\"57\": 116}, \"17\": {\"17\": 106, \"10\": 1, \"24\": 1}, \"7\": {\"7\": 36}, \"12\": {\"12\": 92}, \"47\": {\"47\": 92}, \"40\": {\"40\": 136}, \"15\": {\"15\": 141, \"11\": 1}, \"42\": {\"42\": 28}, \"55\": {\"55\": 150}, \"49\": {\"49\": 20}, \"30\": {\"30\": 120}, \"50\": {\"50\": 133, \"3\": 1}, \"4\": {\"4\": 136}}, \"C_4\": {\"35\": {\"35\": 40}, \"25\": {\"25\": 134}, \"24\": {\"24\": 56}, \"48\": {\"48\": 138}, \"51\": {\"51\": 144}, \"13\": {\"13\": 120}, \"14\": {\"14\": 13, \"2\": 2, \"40\": 1}, \"32\": {\"32\": 24}, \"30\": {\"30\": 44}, \"34\": {\"34\": 24}, \"9\": {\"9\": 136}, \"1\": {\"1\": 40}, \"0\": {\"0\": 80}, \"38\": {\"38\": 40}, \"22\": {\"22\": 128}, \"40\": {\"40\": 119, \"44\": 1}, \"6\": {\"6\": 109, \"50\": 2, \"3\": 1}, \"16\": {\"16\": 96}, \"11\": {\"11\": 104}, \"20\": {\"20\": 122}, \"17\": {\"17\": 80}, \"26\": {\"26\": 24}, \"54\": {\"54\": 108}, \"55\": {\"55\": 154}, \"50\": {\"50\": 128, \"3\": 3, \"40\": 1}, \"19\": {\"19\": 142}, \"44\": {\"44\": 122}, \"47\": {\"47\": 120}, \"33\": {\"33\": 36}, \"5\": {\"5\": 108}, \"18\": {\"18\": 108}, \"21\": {\"21\": 124}, \"41\": {\"41\": 36}, \"23\": {\"23\": 128}, \"39\": {\"39\": 20}, \"37\": {\"37\": 24}, \"8\": {\"8\": 144}, \"49\": {\"49\": 20}, \"53\": {\"53\": 140}, \"31\": {\"31\": 28}, \"28\": {\"28\": 32}, \"3\": {\"3\": 121, \"50\": 3}, \"27\": {\"27\": 138}, \"46\": {\"46\": 128}, \"12\": {\"12\": 92}, \"7\": {\"7\": 24}, \"4\": {\"4\": 132}, \"42\": {\"42\": 32}, \"43\": {\"43\": 130}, \"29\": {\"29\": 120}, \"57\": {\"57\": 100}, \"52\": {\"52\": 104}, \"45\": {\"45\": 96}, \"36\": {\"36\": 91, \"54\": 1}, \"10\": {\"10\": 126}, \"15\": {\"15\": 134}, \"56\": {\"56\": 124}, \"2\": {\"2\": 36}}, \"W_4\": {\"28\": {\"28\": 20}, \"4\": {\"4\": 101, \"10\": 1, \"27\": 1, \"24\": 1}, \"72\": {\"72\": 30, \"69\": 1, \"109\": 1}, \"111\": {\"111\": 132, \"24\": 1, \"122\": 1, \"0\": 1, \"10\": 1}, \"108\": {\"108\": 83, \"122\": 1, \"36\": 1, \"118\": 1, \"27\": 1, \"70\": 1, \"39\": 1, \"126\": 2, \"24\": 1}, \"43\": {\"43\": 115, \"87\": 4, \"105\": 1}, \"96\": {\"96\": 20}, \"89\": {\"89\": 30, \"1\": 1, \"8\": 1}, \"31\": {\"31\": 16}, \"45\": {\"45\": 16}, \"2\": {\"2\": 28}, \"114\": {\"114\": 125, \"12\": 1, \"1\": 1, \"88\": 1}, \"11\": {\"11\": 135, \"98\": 1}, \"12\": {\"12\": 96, \"21\": 1, \"62\": 1, \"72\": 1, \"106\": 1}, \"14\": {\"14\": 111, \"8\": 1}, \"90\": {\"90\": 153, \"69\": 1}, \"10\": {\"10\": 117, \"24\": 2, \"109\": 1, \"88\": 1, \"27\": 1}, \"63\": {\"63\": 16}, \"85\": {\"85\": 27, \"1\": 1}, \"64\": {\"64\": 14, \"100\": 1, \"71\": 1}, \"82\": {\"82\": 31, \"100\": 1}, \"58\": {\"58\": 15, \"27\": 1}, \"3\": {\"3\": 132, \"21\": 2, \"88\": 1, \"27\": 1}, \"54\": {\"54\": 16}, \"121\": {\"121\": 32}, \"42\": {\"42\": 28}, \"98\": {\"98\": 114, \"121\": 1, \"44\": 2, \"109\": 1, \"81\": 1, \"25\": 1}, \"123\": {\"123\": 16}, \"91\": {\"91\": 24}, \"83\": {\"83\": 25, \"100\": 1, \"49\": 1, \"106\": 1}, \"99\": {\"99\": 40}, \"112\": {\"112\": 16}, \"119\": {\"119\": 16}, \"70\": {\"70\": 114, \"27\": 2, \"11\": 2, \"105\": 1, \"67\": 1, \"117\": 1, \"88\": 3}, \"20\": {\"20\": 14, \"1\": 1, \"83\": 1}, \"120\": {\"120\": 19, \"64\": 1}, \"7\": {\"7\": 122, \"108\": 1, \"1\": 1}, \"60\": {\"60\": 32}, \"113\": {\"113\": 116, \"24\": 2}, \"37\": {\"37\": 14, \"100\": 1, \"128\": 1}, \"124\": {\"124\": 110}, \"27\": {\"27\": 96, \"111\": 1, \"100\": 1, \"126\": 1, \"1\": 1}, \"86\": {\"86\": 28}, \"127\": {\"127\": 102, \"1\": 1, \"3\": 1, \"111\": 1, \"0\": 1, \"122\": 1, \"39\": 1}, \"62\": {\"62\": 55, \"71\": 1, \"60\": 2, \"108\": 1, \"3\": 1}, \"122\": {\"122\": 78, \"3\": 1, \"113\": 1, \"90\": 1, \"1\": 1, \"43\": 1, \"87\": 1}, \"51\": {\"51\": 11, \"30\": 1, \"21\": 1, \"23\": 1, \"62\": 1, \"24\": 1}, \"109\": {\"109\": 113, \"1\": 1}, \"106\": {\"106\": 110, \"88\": 1, \"78\": 1, \"1\": 2}, \"94\": {\"94\": 86, \"24\": 1, \"36\": 1}, \"38\": {\"38\": 16}, \"129\": {\"129\": 27, \"110\": 1}, \"116\": {\"116\": 28}, \"107\": {\"107\": 118}, \"30\": {\"30\": 73, \"15\": 1, \"10\": 1, \"27\": 1}, \"102\": {\"102\": 131, \"60\": 1}, \"74\": {\"74\": 16}, \"101\": {\"101\": 131, \"24\": 1}, \"117\": {\"117\": 117, \"71\": 1, \"1\": 1, \"0\": 1, \"16\": 1, \"90\": 1, \"81\": 2}, \"1\": {\"1\": 99, \"24\": 3, \"88\": 1, \"127\": 1, \"128\": 1, \"21\": 2, \"14\": 1}, \"84\": {\"84\": 128, \"0\": 1, \"118\": 1, \"14\": 1, \"24\": 1}, \"17\": {\"17\": 20}, \"6\": {\"6\": 24}, \"110\": {\"110\": 121, \"122\": 1, \"24\": 1, \"1\": 1}, \"77\": {\"77\": 12}, \"8\": {\"8\": 128, \"3\": 1, \"82\": 1, \"127\": 1, \"101\": 1}, \"73\": {\"73\": 22, \"19\": 1, \"3\": 1}, \"126\": {\"126\": 121, \"27\": 1, \"24\": 1, \"88\": 1}, \"57\": {\"57\": 16}, \"95\": {\"95\": 31, \"97\": 1}, \"103\": {\"103\": 16}, \"97\": {\"97\": 17, \"73\": 1, \"10\": 1, \"78\": 1}, \"39\": {\"8\": 1, \"39\": 90, \"101\": 1, \"126\": 1, \"106\": 3, \"21\": 2, \"108\": 1, \"27\": 1}, \"100\": {\"100\": 20}, \"40\": {\"40\": 109, \"69\": 1}, \"36\": {\"36\": 124, \"84\": 1, \"21\": 1}, \"19\": {\"19\": 27, \"73\": 1}, \"118\": {\"118\": 109, \"3\": 1, \"24\": 1, \"127\": 1}, \"56\": {\"56\": 11, \"86\": 1}, \"26\": {\"26\": 125, \"84\": 1}, \"5\": {\"5\": 134, \"101\": 1, \"1\": 1}, \"21\": {\"21\": 35, \"106\": 1, \"23\": 1, \"78\": 2, \"5\": 1}, \"22\": {\"22\": 15, \"36\": 1}, \"68\": {\"68\": 16}, \"9\": {\"9\": 27, \"83\": 1}, \"66\": {\"66\": 15, \"56\": 1}, \"87\": {\"87\": 119, \"43\": 4, \"117\": 1}, \"71\": {\"71\": 101, \"12\": 1, \"21\": 1, \"39\": 1}, \"115\": {\"115\": 13, \"17\": 1, \"57\": 1, \"88\": 1}, \"23\": {\"17\": 2, \"23\": 8, \"21\": 1, \"113\": 1, \"20\": 1, \"10\": 2, \"3\": 1}, \"33\": {\"33\": 116, \"0\": 1, \"90\": 1}, \"35\": {\"35\": 11, \"3\": 1}, \"125\": {\"125\": 127, \"33\": 1, \"90\": 1, \"92\": 1, \"88\": 1, \"106\": 1}, \"47\": {\"54\": 1, \"47\": 11}, \"79\": {\"79\": 16}, \"53\": {\"53\": 16}, \"67\": {\"67\": 11, \"120\": 1, \"33\": 1, \"123\": 1, \"89\": 1, \"104\": 1}, \"80\": {\"80\": 16}, \"105\": {\"105\": 93, \"88\": 1, \"78\": 1, \"10\": 1, \"108\": 2, \"70\": 1, \"71\": 1}, \"76\": {\"76\": 16}, \"46\": {\"46\": 19, \"129\": 1}, \"34\": {\"34\": 31, \"120\": 1}, \"32\": {\"32\": 27, \"31\": 1}, \"13\": {\"13\": 16}, \"78\": {\"78\": 33, \"10\": 1, \"3\": 1, \"1\": 1}, \"41\": {\"41\": 16}, \"69\": {\"69\": 124, \"126\": 1, \"3\": 1, \"88\": 1, \"27\": 1}, \"88\": {\"88\": 127, \"74\": 1, \"70\": 2, \"109\": 1, \"90\": 1}, \"15\": {\"15\": 123, \"106\": 2, \"10\": 1, \"21\": 1, \"24\": 1}, \"61\": {\"61\": 16}, \"0\": {\"0\": 112, \"24\": 1, \"105\": 1, \"27\": 1, \"1\": 1}, \"104\": {\"104\": 15, \"70\": 1}, \"48\": {\"48\": 15, \"105\": 1}, \"25\": {\"25\": 16}, \"75\": {\"75\": 16}, \"81\": {\"81\": 34, \"69\": 1, \"10\": 1}, \"50\": {\"50\": 16}, \"52\": {\"52\": 20}, \"16\": {\"16\": 117, \"10\": 1, \"88\": 1, \"114\": 1}, \"44\": {\"44\": 63, \"2\": 1}, \"29\": {\"29\": 30, \"21\": 1, \"1\": 1}, \"93\": {\"93\": 123, \"84\": 1}, \"18\": {\"18\": 114}, \"49\": {\"49\": 32}, \"55\": {\"55\": 16}, \"59\": {\"59\": 11, \"21\": 1}, \"128\": {\"128\": 16, \"98\": 3, \"49\": 1, \"9\": 1, \"41\": 1, \"91\": 1, \"99\": 1}, \"24\": {\"24\": 115, \"27\": 3, \"7\": 1, \"10\": 1}, \"65\": {\"65\": 12}, \"92\": {\"92\": 28}}, \"W_1\": {\"108\": {\"108\": 124}, \"40\": {\"40\": 135, \"105\": 1}, \"68\": {\"68\": 16}, \"23\": {\"23\": 20, \"110\": 3, \"99\": 1}, \"26\": {\"26\": 118, \"27\": 1, \"21\": 1}, \"64\": {\"64\": 16}, \"22\": {\"22\": 12, \"116\": 2, \"74\": 1, \"3\": 1}, \"3\": {\"3\": 84, \"94\": 1, \"109\": 1, \"122\": 1, \"27\": 1}, \"4\": {\"4\": 99, \"88\": 1}, \"70\": {\"70\": 119, \"84\": 1}, \"57\": {\"57\": 11, \"23\": 1}, \"79\": {\"79\": 12}, \"9\": {\"9\": 32}, \"89\": {\"89\": 36}, \"110\": {\"110\": 128}, \"102\": {\"102\": 118, \"14\": 1, \"27\": 1}, \"31\": {\"31\": 16}, \"58\": {\"58\": 12}, \"47\": {\"47\": 12}, \"24\": {\"24\": 87, \"12\": 2, \"84\": 1, \"108\": 1, \"88\": 1}, \"19\": {\"19\": 28}, \"11\": {\"11\": 132}, \"52\": {\"52\": 20}, \"17\": {\"17\": 14, \"68\": 1, \"4\": 1}, \"25\": {\"25\": 16}, \"69\": {\"69\": 105, \"108\": 1, \"88\": 1, \"14\": 1}, \"96\": {\"96\": 15, \"17\": 1, \"46\": 1, \"82\": 1, \"110\": 1, \"5\": 1}, \"109\": {\"109\": 112, \"3\": 1, \"27\": 1}, \"115\": {\"115\": 12}, \"83\": {\"83\": 27, \"27\": 1}, \"84\": {\"84\": 127, \"88\": 1}, \"119\": {\"119\": 16}, \"122\": {\"122\": 82, \"108\": 1, \"88\": 1, \"105\": 1, \"43\": 1, \"21\": 1, \"27\": 1}, \"99\": {\"99\": 24}, \"1\": {\"1\": 133, \"27\": 1, \"84\": 1, \"127\": 1}, \"74\": {\"74\": 16}, \"85\": {\"85\": 32}, \"127\": {\"127\": 105, \"88\": 2, \"84\": 1}, \"111\": {\"111\": 119, \"24\": 1}, \"53\": {\"53\": 20}, \"88\": {\"88\": 132}, \"65\": {\"65\": 9, \"21\": 1, \"66\": 1, \"67\": 1}, \"7\": {\"7\": 134}, \"16\": {\"16\": 107, \"127\": 1}, \"128\": {\"128\": 23, \"86\": 1}, \"34\": {\"34\": 31, \"91\": 1}, \"129\": {\"129\": 28}, \"43\": {\"43\": 125, \"105\": 1, \"122\": 1, \"88\": 1}, \"92\": {\"92\": 28}, \"28\": {\"28\": 18, \"34\": 1, \"78\": 1}, \"27\": {\"27\": 92}, \"114\": {\"114\": 123, \"3\": 1}, \"73\": {\"73\": 20}, \"0\": {\"0\": 84}, \"104\": {\"104\": 16}, \"118\": {\"118\": 83, \"27\": 1}, \"41\": {\"41\": 16}, \"91\": {\"91\": 28}, \"124\": {\"124\": 122}, \"81\": {\"81\": 28}, \"63\": {\"63\": 16}, \"76\": {\"76\": 16}, \"10\": {\"10\": 118, \"111\": 1, \"27\": 1}, \"51\": {\"51\": 15, \"72\": 1}, \"82\": {\"82\": 36}, \"56\": {\"56\": 11, \"53\": 1}, \"30\": {\"30\": 52}, \"21\": {\"21\": 35, \"105\": 1, \"15\": 1, \"111\": 1, \"68\": 1, \"94\": 1}, \"46\": {\"46\": 11, \"5\": 1}, \"33\": {\"33\": 138}, \"101\": {\"101\": 121, \"12\": 1, \"108\": 1, \"70\": 1}, \"105\": {\"105\": 83, \"36\": 1}, \"50\": {\"50\": 15, \"113\": 1}, \"116\": {\"116\": 32}, \"77\": {\"77\": 16}, \"75\": {\"75\": 16}, \"95\": {\"95\": 36}, \"120\": {\"120\": 20}, \"18\": {\"18\": 108}, \"14\": {\"14\": 96}, \"44\": {\"44\": 76}, \"98\": {\"98\": 96}, \"121\": {\"121\": 31, \"16\": 1}, \"113\": {\"113\": 108}, \"103\": {\"103\": 15, \"89\": 1}, \"62\": {\"62\": 116, \"84\": 2, \"108\": 1, \"107\": 1}, \"32\": {\"32\": 32}, \"71\": {\"71\": 104, \"127\": 2, \"84\": 1, \"109\": 1}, \"94\": {\"94\": 89, \"88\": 2, \"1\": 1}, \"49\": {\"49\": 19, \"119\": 1}, \"12\": {\"12\": 101, \"88\": 1, \"105\": 1, \"70\": 1}, \"90\": {\"90\": 124}, \"93\": {\"93\": 123, \"43\": 1}, \"13\": {\"13\": 16}, \"67\": {\"23\": 1, \"67\": 15}, \"20\": {\"20\": 14, \"27\": 1, \"122\": 1}, \"2\": {\"2\": 32}, \"5\": {\"5\": 87, \"101\": 1}, \"54\": {\"54\": 14, \"89\": 1, \"122\": 1}, \"37\": {\"37\": 16}, \"38\": {\"38\": 16}, \"86\": {\"86\": 32, \"6\": 1, \"25\": 1, \"84\": 1, \"27\": 1}, \"55\": {\"55\": 12}, \"97\": {\"97\": 18, \"122\": 1, \"91\": 1}, \"29\": {\"29\": 28}, \"48\": {\"63\": 1, \"48\": 11}, \"60\": {\"60\": 16}, \"36\": {\"36\": 120, \"88\": 2}, \"42\": {\"42\": 24, \"91\": 3, \"105\": 1}, \"66\": {\"66\": 16}, \"126\": {\"126\": 127, \"5\": 1}, \"39\": {\"39\": 100, \"11\": 4}, \"107\": {\"107\": 122, \"102\": 1, \"40\": 1}, \"59\": {\"59\": 10, \"95\": 1, \"66\": 1}, \"117\": {\"117\": 138}, \"6\": {\"6\": 32}, \"123\": {\"123\": 16}, \"8\": {\"8\": 123, \"24\": 1}, \"112\": {\"112\": 15, \"24\": 1}, \"80\": {\"80\": 15, \"85\": 1}, \"125\": {\"125\": 136}, \"61\": {\"61\": 12}, \"45\": {\"45\": 9, \"124\": 1, \"129\": 1, \"64\": 1}, \"72\": {\"72\": 32}, \"87\": {\"87\": 106, \"27\": 1, \"11\": 1}, \"106\": {\"106\": 123, \"88\": 1}, \"35\": {\"35\": 9, \"84\": 1, \"96\": 1, \"93\": 1}, \"78\": {\"78\": 13, \"3\": 1, \"97\": 1, \"21\": 1}, \"15\": {\"15\": 98, \"26\": 1, \"12\": 1, \"88\": 1, \"95\": 1, \"21\": 1, \"36\": 1}, \"100\": {\"100\": 15, \"99\": 1}}, \"C_5\": {\"47\": {\"47\": 100}, \"53\": {\"53\": 150}, \"29\": {\"29\": 126}, \"52\": {\"52\": 130}, \"55\": {\"55\": 144}, \"17\": {\"17\": 116}, \"42\": {\"42\": 40}, \"33\": {\"33\": 32}, \"11\": {\"11\": 148}, \"19\": {\"19\": 118}, \"1\": {\"1\": 144}, \"44\": {\"44\": 142}, \"49\": {\"49\": 36}, \"4\": {\"4\": 100}, \"6\": {\"6\": 115, \"50\": 1}, \"39\": {\"39\": 20}, \"50\": {\"50\": 147, \"6\": 1}, \"56\": {\"56\": 130}, \"25\": {\"25\": 144}, \"28\": {\"28\": 32}, \"35\": {\"35\": 36}, \"24\": {\"24\": 80}, \"21\": {\"21\": 132}, \"45\": {\"45\": 124}, \"16\": {\"16\": 144}, \"37\": {\"37\": 24}, \"57\": {\"57\": 132}, \"34\": {\"34\": 36}, \"38\": {\"38\": 32}, \"48\": {\"48\": 130}, \"26\": {\"26\": 24}, \"9\": {\"9\": 152}, \"18\": {\"18\": 64}, \"3\": {\"3\": 100}, \"23\": {\"23\": 124}, \"15\": {\"15\": 154}, \"10\": {\"10\": 68}, \"46\": {\"46\": 148}, \"22\": {\"22\": 27, \"56\": 1}, \"54\": {\"54\": 112}, \"27\": {\"27\": 160}, \"41\": {\"41\": 28}, \"31\": {\"31\": 36}, \"0\": {\"0\": 124}, \"7\": {\"7\": 32}, \"2\": {\"2\": 28}, \"14\": {\"14\": 44}, \"40\": {\"40\": 124}, \"5\": {\"5\": 128}, \"12\": {\"12\": 96}, \"43\": {\"43\": 142}, \"13\": {\"13\": 148}, \"36\": {\"36\": 92}, \"8\": {\"8\": 150}, \"32\": {\"32\": 32}, \"30\": {\"30\": 128}, \"51\": {\"51\": 138}, \"20\": {\"20\": 138}}, \"C_1\": {\"46\": {\"46\": 140}, \"16\": {\"16\": 134}, \"26\": {\"26\": 24}, \"10\": {\"10\": 96}, \"9\": {\"9\": 156}, \"28\": {\"28\": 28}, \"51\": {\"51\": 156}, \"1\": {\"1\": 100}, \"55\": {\"55\": 148}, \"27\": {\"27\": 124}, \"22\": {\"22\": 124}, \"52\": {\"52\": 126}, \"3\": {\"3\": 140}, \"33\": {\"33\": 32}, \"47\": {\"47\": 120}, \"42\": {\"42\": 40}, \"12\": {\"12\": 116}, \"23\": {\"23\": 132}, \"49\": {\"49\": 32}, \"7\": {\"7\": 28}, \"4\": {\"4\": 132}, \"50\": {\"50\": 134}, \"19\": {\"19\": 154}, \"11\": {\"11\": 140}, \"31\": {\"31\": 28}, \"41\": {\"41\": 24}, \"56\": {\"56\": 138}, \"0\": {\"0\": 148}, \"57\": {\"57\": 128}, \"53\": {\"53\": 140}, \"43\": {\"43\": 144}, \"37\": {\"37\": 32}, \"2\": {\"2\": 36}, \"6\": {\"6\": 96}, \"13\": {\"13\": 150}, \"18\": {\"18\": 72}, \"36\": {\"36\": 64}, \"29\": {\"29\": 140}, \"39\": {\"39\": 28}, \"17\": {\"17\": 64}, \"21\": {\"21\": 124}, \"25\": {\"25\": 132}, \"45\": {\"45\": 142}, \"38\": {\"38\": 22, \"36\": 2}, \"30\": {\"30\": 120}, \"24\": {\"24\": 108}, \"20\": {\"20\": 140}, \"8\": {\"8\": 140}, \"35\": {\"35\": 36}, \"54\": {\"54\": 104}, \"5\": {\"5\": 148}, \"48\": {\"48\": 144}, \"15\": {\"15\": 142}, \"34\": {\"34\": 24}, \"14\": {\"14\": 24}, \"32\": {\"32\": 32}, \"40\": {\"40\": 148}, \"44\": {\"44\": 136}}, \"W_2\": {\"91\": {\"91\": 26, \"24\": 1, \"88\": 1}, \"12\": {\"12\": 83, \"117\": 1, \"16\": 1, \"106\": 1, \"24\": 1, \"10\": 1}, \"101\": {\"101\": 147, \"36\": 1}, \"121\": {\"121\": 35, \"109\": 1}, \"118\": {\"118\": 66, \"14\": 1, \"87\": 1}, \"10\": {\"10\": 54, \"40\": 1, \"110\": 1, \"127\": 1, \"24\": 2, \"78\": 1}, \"117\": {\"117\": 115, \"2\": 1, \"81\": 1, \"15\": 1, \"7\": 1, \"44\": 1}, \"110\": {\"110\": 34, \"120\": 1, \"27\": 1, \"14\": 1, \"90\": 1, \"42\": 1, \"95\": 1}, \"97\": {\"97\": 19, \"15\": 1}, \"28\": {\"28\": 20}, \"88\": {\"88\": 117, \"39\": 1, \"109\": 1, \"71\": 1, \"24\": 1, \"127\": 1, \"3\": 1, \"1\": 1}, \"17\": {\"17\": 16}, \"126\": {\"126\": 112, \"93\": 1, \"47\": 1}, \"33\": {\"33\": 125, \"3\": 2, \"70\": 1}, \"86\": {\"86\": 32}, \"106\": {\"106\": 116, \"2\": 1, \"55\": 1, \"21\": 1, \"70\": 1}, \"54\": {\"54\": 19, \"58\": 1}, \"125\": {\"125\": 131, \"98\": 1}, \"83\": {\"83\": 40}, \"98\": {\"98\": 117, \"44\": 2, \"18\": 1}, \"11\": {\"11\": 76, \"3\": 1, \"69\": 1, \"12\": 1, \"109\": 1}, \"32\": {\"32\": 33, \"14\": 1, \"109\": 1, \"107\": 1}, \"42\": {\"42\": 28}, \"103\": {\"103\": 15, \"58\": 1}, \"87\": {\"87\": 93, \"32\": 1, \"39\": 1, \"109\": 1, \"43\": 6, \"24\": 3, \"8\": 1, \"36\": 1, \"94\": 2, \"27\": 2, \"122\": 1}, \"61\": {\"61\": 16, \"87\": 1, \"24\": 1, \"71\": 1, \"21\": 1}, \"13\": {\"13\": 14, \"14\": 1, \"27\": 1}, \"4\": {\"4\": 83, \"0\": 1, \"24\": 1, \"109\": 1}, \"15\": {\"15\": 116, \"88\": 1, \"0\": 2, \"105\": 1}, \"120\": {\"120\": 20}, \"80\": {\"80\": 16}, \"72\": {\"72\": 28}, \"64\": {\"64\": 15, \"3\": 1}, \"81\": {\"81\": 22, \"1\": 1, \"122\": 1}, \"102\": {\"102\": 112}, \"76\": {\"76\": 16}, \"49\": {\"49\": 18, \"77\": 1, \"39\": 1, \"75\": 1, \"8\": 1, \"85\": 1, \"98\": 1}, \"129\": {\"129\": 32}, \"89\": {\"89\": 34, \"15\": 1, \"77\": 1}, \"52\": {\"52\": 18, \"72\": 1, \"91\": 1}, \"35\": {\"35\": 12}, \"53\": {\"53\": 16}, \"26\": {\"26\": 124, \"87\": 1, \"3\": 1, \"14\": 1, \"24\": 1}, \"96\": {\"96\": 20}, \"27\": {\"27\": 59, \"109\": 1, \"84\": 1, \"62\": 1, \"113\": 1, \"21\": 2, \"7\": 1, \"36\": 2}, \"24\": {\"24\": 105, \"71\": 1, \"39\": 1, \"70\": 1, \"14\": 1, \"64\": 1, \"10\": 1, \"94\": 1}, \"82\": {\"82\": 32, \"15\": 1, \"104\": 1, \"21\": 1, \"107\": 1}, \"18\": {\"18\": 123, \"91\": 1, \"14\": 1, \"16\": 1, \"30\": 1, \"107\": 1}, \"69\": {\"69\": 119, \"110\": 1, \"109\": 1, \"106\": 1}, \"47\": {\"47\": 11, \"123\": 1}, \"85\": {\"85\": 32}, \"2\": {\"2\": 31, \"81\": 1}, \"67\": {\"67\": 15, \"24\": 1}, \"39\": {\"39\": 102, \"67\": 1, \"14\": 1, \"88\": 2, \"17\": 1, \"24\": 1, \"109\": 2, \"5\": 1, \"70\": 1}, \"99\": {\"99\": 32}, \"74\": {\"74\": 13, \"24\": 1, \"70\": 1, \"10\": 1}, \"105\": {\"105\": 128, \"5\": 2, \"36\": 1, \"87\": 1}, \"70\": {\"70\": 112, \"78\": 2, \"88\": 3, \"3\": 1, \"109\": 1, \"62\": 1, \"40\": 1, \"69\": 1}, \"55\": {\"55\": 16}, \"30\": {\"30\": 109, \"70\": 1, \"61\": 1, \"1\": 1}, \"60\": {\"60\": 26, \"24\": 1, \"23\": 1}, \"92\": {\"92\": 24, \"88\": 2, \"69\": 1, \"76\": 1}, \"45\": {\"45\": 15, \"88\": 1}, \"127\": {\"127\": 111, \"89\": 1}, \"9\": {\"110\": 1, \"9\": 30, \"12\": 1}, \"115\": {\"115\": 12}, \"73\": {\"73\": 28}, \"108\": {\"108\": 138}, \"114\": {\"114\": 113, \"10\": 1, \"118\": 1, \"84\": 1}, \"63\": {\"63\": 19, \"41\": 1}, \"93\": {\"93\": 128}, \"7\": {\"7\": 132}, \"31\": {\"31\": 19, \"14\": 1}, \"123\": {\"123\": 16}, \"128\": {\"128\": 20, \"54\": 1, \"114\": 2, \"58\": 1}, \"0\": {\"0\": 111, \"24\": 3, \"21\": 1, \"83\": 1}, \"3\": {\"3\": 134, \"18\": 1, \"84\": 1}, \"19\": {\"19\": 28}, \"57\": {\"57\": 18, \"72\": 1, \"24\": 1}, \"78\": {\"78\": 46, \"39\": 1, \"109\": 1}, \"95\": {\"95\": 35, \"3\": 1}, \"40\": {\"40\": 132, \"95\": 1, \"12\": 1, \"109\": 1, \"32\": 1, \"69\": 1, \"24\": 1, \"0\": 1, \"105\": 1}, \"14\": {\"14\": 41, \"57\": 1, \"110\": 1, \"18\": 1, \"27\": 1, \"88\": 1, \"118\": 1, \"94\": 1}, \"36\": {\"36\": 119, \"21\": 1, \"118\": 1, \"70\": 1, \"24\": 1, \"71\": 1, \"40\": 1, \"107\": 1, \"27\": 1, \"3\": 1}, \"56\": {\"56\": 12}, \"111\": {\"111\": 127, \"24\": 1}, \"59\": {\"59\": 14, \"13\": 1, \"24\": 1}, \"79\": {\"79\": 14, \"122\": 1, \"88\": 1}, \"62\": {\"62\": 121, \"24\": 1}, \"21\": {\"21\": 47, \"24\": 1}, \"48\": {\"48\": 20}, \"16\": {\"16\": 119, \"1\": 2, \"27\": 1, \"70\": 1, \"18\": 1}, \"50\": {\"50\": 15, \"41\": 1}, \"44\": {\"44\": 95, \"7\": 1}, \"5\": {\"5\": 107, \"3\": 1, \"73\": 1, \"12\": 1}, \"20\": {\"20\": 15, \"24\": 1}, \"1\": {\"1\": 118, \"3\": 1, \"126\": 1}, \"65\": {\"65\": 18, \"24\": 1, \"71\": 1}, \"116\": {\"116\": 28}, \"51\": {\"51\": 17, \"106\": 1, \"9\": 1, \"71\": 1}, \"75\": {\"9\": 1, \"75\": 14, \"71\": 1}, \"100\": {\"100\": 16}, \"113\": {\"113\": 72}, \"41\": {\"41\": 20}, \"29\": {\"29\": 32}, \"23\": {\"23\": 42, \"122\": 1, \"110\": 1}, \"124\": {\"124\": 122, \"21\": 1, \"117\": 1}, \"68\": {\"68\": 15, \"24\": 1}, \"71\": {\"71\": 99, \"94\": 1}, \"107\": {\"107\": 56, \"90\": 1, \"15\": 1, \"91\": 2, \"16\": 1, \"26\": 1, \"3\": 1, \"10\": 1}, \"94\": {\"94\": 61, \"27\": 1, \"118\": 1, \"110\": 1}, \"77\": {\"77\": 15, \"17\": 1}, \"8\": {\"8\": 120, \"24\": 1, \"15\": 1}, \"46\": {\"46\": 15, \"85\": 1}, \"25\": {\"25\": 14, \"59\": 1, \"61\": 1}, \"122\": {\"122\": 135, \"40\": 1, \"23\": 1, \"8\": 1, \"36\": 1, \"81\": 1}, \"58\": {\"58\": 15, \"77\": 2, \"17\": 1, \"110\": 1, \"24\": 1}, \"6\": {\"6\": 31, \"34\": 1}, \"109\": {\"109\": 91, \"39\": 2, \"24\": 1, \"70\": 3, \"49\": 1, \"88\": 2}, \"119\": {\"119\": 19, \"39\": 1}, \"34\": {\"34\": 29, \"40\": 1, \"91\": 1, \"71\": 1}, \"90\": {\"90\": 138, \"77\": 1, \"62\": 1}, \"38\": {\"38\": 16}, \"104\": {\"104\": 18, \"3\": 1, \"92\": 1}, \"84\": {\"84\": 90, \"58\": 1, \"106\": 1}, \"112\": {\"112\": 14, \"46\": 2}, \"66\": {\"66\": 17, \"75\": 1, \"71\": 1, \"39\": 1}, \"22\": {\"22\": 20}, \"37\": {\"37\": 16}, \"43\": {\"43\": 114, \"0\": 1, \"8\": 1, \"87\": 3, \"88\": 1, \"84\": 1, \"70\": 2, \"3\": 1}}, \"C_2\": {\"36\": {\"36\": 116}, \"5\": {\"5\": 120}, \"45\": {\"45\": 128}, \"49\": {\"49\": 24}, \"50\": {\"50\": 136}, \"4\": {\"4\": 138}, \"43\": {\"43\": 148}, \"41\": {\"41\": 20}, \"37\": {\"37\": 36}, \"12\": {\"12\": 92}, \"33\": {\"33\": 28}, \"7\": {\"7\": 36}, \"56\": {\"56\": 139, \"22\": 1}, \"14\": {\"14\": 24}, \"52\": {\"52\": 124}, \"44\": {\"44\": 96}, \"48\": {\"48\": 144}, \"20\": {\"20\": 128}, \"55\": {\"55\": 144}, \"32\": {\"32\": 28}, \"40\": {\"40\": 136}, \"54\": {\"54\": 108}, \"17\": {\"17\": 104}, \"38\": {\"38\": 20}, \"24\": {\"24\": 96}, \"1\": {\"1\": 112}, \"6\": {\"6\": 124}, \"34\": {\"34\": 28}, \"11\": {\"11\": 136}, \"9\": {\"9\": 150}, \"8\": {\"8\": 152}, \"22\": {\"22\": 136}, \"26\": {\"26\": 24}, \"23\": {\"23\": 146}, \"10\": {\"10\": 112}, \"18\": {\"18\": 48}, \"13\": {\"13\": 116}, \"30\": {\"30\": 128}, \"42\": {\"42\": 36}, \"31\": {\"31\": 28}, \"46\": {\"46\": 128}, \"57\": {\"57\": 142}, \"47\": {\"47\": 138}, \"35\": {\"35\": 32}, \"15\": {\"15\": 132}, \"25\": {\"25\": 136}, \"19\": {\"19\": 136}, \"51\": {\"51\": 128}, \"53\": {\"53\": 134}, \"21\": {\"21\": 119, \"46\": 1}, \"39\": {\"39\": 28}, \"2\": {\"2\": 32}, \"16\": {\"16\": 150}, \"0\": {\"0\": 48}, \"3\": {\"3\": 92}, \"27\": {\"27\": 142}, \"28\": {\"28\": 28}, \"29\": {\"29\": 128}}, \"O_14\": {\"15\": {\"15\": 240}, \"3\": {\"6\": 46, \"14\": 7, \"7\": 11, \"3\": 99, \"13\": 32, \"0\": 31, \"2\": 5, \"8\": 8, \"12\": 1}, \"6\": {\"6\": 96, \"3\": 56, \"13\": 49, \"7\": 1, \"14\": 28, \"2\": 2, \"0\": 8}, \"1\": {\"9\": 41, \"1\": 170, \"10\": 27, \"4\": 2}, \"8\": {\"8\": 142, \"12\": 38, \"7\": 22, \"0\": 19, \"5\": 16, \"2\": 3}, \"10\": {\"10\": 141, \"4\": 58, \"9\": 30, \"12\": 2, \"1\": 6, \"5\": 1, \"2\": 1, \"13\": 1}, \"9\": {\"9\": 165, \"10\": 44, \"1\": 26, \"4\": 2, \"12\": 3}, \"13\": {\"14\": 31, \"5\": 24, \"0\": 15, \"2\": 23, \"6\": 56, \"15\": 20, \"3\": 22, \"13\": 31, \"4\": 14, \"10\": 1, \"12\": 2, \"7\": 1}, \"12\": {\"12\": 163, \"0\": 20, \"5\": 11, \"8\": 37, \"2\": 4, \"14\": 2, \"10\": 1, \"4\": 1, \"13\": 1}, \"5\": {\"5\": 84, \"8\": 39, \"4\": 6, \"7\": 27, \"14\": 18, \"2\": 32, \"12\": 7, \"6\": 2, \"0\": 19, \"3\": 1, \"13\": 5}, \"0\": {\"0\": 55, \"13\": 15, \"5\": 21, \"2\": 22, \"14\": 31, \"8\": 21, \"12\": 15, \"3\": 35, \"6\": 15, \"7\": 7, \"4\": 2, \"10\": 1}, \"2\": {\"4\": 18, \"3\": 22, \"5\": 41, \"7\": 6, \"14\": 44, \"6\": 11, \"2\": 45, \"13\": 27, \"0\": 18, \"8\": 6, \"12\": 1, \"10\": 1}, \"11\": {\"11\": 239, \"1\": 1}, \"14\": {\"13\": 37, \"2\": 31, \"14\": 90, \"6\": 20, \"3\": 6, \"0\": 33, \"5\": 14, \"8\": 2, \"7\": 7}, \"7\": {\"2\": 11, \"3\": 19, \"7\": 114, \"5\": 26, \"8\": 40, \"14\": 12, \"0\": 8, \"13\": 7, \"6\": 3}, \"4\": {\"5\": 19, \"10\": 46, \"12\": 11, \"4\": 138, \"9\": 5, \"14\": 1, \"2\": 15, \"7\": 1, \"13\": 2, \"8\": 2}}, \"O_20\": {\"3\": {\"1\": 26, \"3\": 46, \"14\": 36, \"8\": 35, \"15\": 11, \"5\": 45, \"9\": 28, \"0\": 3, \"12\": 1, \"6\": 1, \"7\": 5, \"2\": 3}, \"15\": {\"2\": 24, \"15\": 54, \"6\": 20, \"13\": 23, \"4\": 13, \"9\": 27, \"1\": 13, \"12\": 36, \"7\": 21, \"3\": 5, \"5\": 4}, \"8\": {\"3\": 45, \"5\": 43, \"14\": 65, \"8\": 61, \"1\": 11, \"9\": 8, \"15\": 1, \"0\": 5, \"4\": 1}, \"4\": {\"12\": 34, \"4\": 70, \"2\": 19, \"10\": 19, \"6\": 40, \"13\": 23, \"15\": 14, \"14\": 5, \"7\": 9, \"9\": 4, \"5\": 1, \"1\": 2}, \"14\": {\"8\": 53, \"3\": 29, \"14\": 92, \"5\": 31, \"9\": 15, \"6\": 6, \"1\": 7, \"7\": 6, \"2\": 1}, \"0\": {\"3\": 8, \"0\": 138, \"8\": 25, \"11\": 48, \"15\": 2, \"14\": 8, \"5\": 7, \"9\": 1, \"1\": 3}, \"7\": {\"6\": 33, \"2\": 35, \"15\": 25, \"14\": 7, \"13\": 11, \"5\": 11, \"7\": 40, \"3\": 8, \"1\": 17, \"12\": 21, \"4\": 11, \"9\": 19, \"8\": 2}, \"6\": {\"15\": 18, \"6\": 60, \"2\": 37, \"14\": 14, \"7\": 32, \"12\": 18, \"4\": 30, \"9\": 11, \"8\": 1, \"13\": 7, \"3\": 3, \"5\": 2, \"10\": 5, \"1\": 2}, \"10\": {\"13\": 34, \"10\": 142, \"4\": 44, \"6\": 10, \"14\": 2, \"12\": 5, \"2\": 3}, \"5\": {\"3\": 49, \"9\": 28, \"15\": 18, \"14\": 27, \"1\": 39, \"12\": 2, \"8\": 16, \"5\": 49, \"6\": 4, \"7\": 6, \"2\": 2}, \"2\": {\"13\": 33, \"15\": 44, \"2\": 34, \"6\": 21, \"3\": 2, \"12\": 28, \"1\": 13, \"7\": 31, \"4\": 20, \"10\": 2, \"9\": 10, \"14\": 2}, \"12\": {\"12\": 32, \"13\": 35, \"15\": 40, \"4\": 22, \"6\": 22, \"7\": 34, \"2\": 36, \"14\": 1, \"5\": 4, \"8\": 1, \"10\": 1, \"1\": 6, \"9\": 5, \"3\": 1}, \"9\": {\"7\": 25, \"2\": 16, \"14\": 21, \"15\": 27, \"9\": 41, \"5\": 33, \"3\": 11, \"1\": 42, \"8\": 7, \"6\": 11, \"13\": 2, \"12\": 2, \"4\": 2}, \"1\": {\"9\": 45, \"3\": 33, \"15\": 33, \"13\": 4, \"1\": 43, \"7\": 15, \"2\": 4, \"8\": 5, \"12\": 7, \"5\": 33, \"6\": 8, \"14\": 8, \"4\": 2}, \"11\": {\"0\": 58, \"11\": 181, \"14\": 1}, \"13\": {\"2\": 29, \"12\": 28, \"15\": 33, \"4\": 17, \"13\": 92, \"10\": 9, \"6\": 12, \"7\": 13, \"9\": 6, \"1\": 1}}, \"O_38\": {\"5\": {\"8\": 65, \"5\": 77, \"9\": 40, \"2\": 7, \"15\": 27, \"12\": 14, \"14\": 2, \"7\": 6, \"0\": 1, \"13\": 1}, \"8\": {\"7\": 24, \"5\": 64, \"12\": 19, \"15\": 26, \"8\": 65, \"9\": 26, \"2\": 12, \"14\": 4}, \"11\": {\"11\": 240}, \"1\": {\"1\": 165, \"6\": 75}, \"10\": {\"10\": 160, \"0\": 50, \"4\": 6, \"13\": 22, \"3\": 2}, \"15\": {\"8\": 14, \"15\": 172, \"9\": 2, \"5\": 28, \"12\": 7, \"1\": 14, \"6\": 3}, \"3\": {\"3\": 235, \"10\": 2, \"11\": 3}, \"7\": {\"14\": 23, \"7\": 160, \"5\": 7, \"8\": 14, \"9\": 5, \"2\": 23, \"4\": 5, \"12\": 1, \"0\": 2}, \"4\": {\"4\": 211, \"0\": 12, \"10\": 9, \"14\": 8}, \"14\": {\"2\": 46, \"14\": 166, \"7\": 20, \"10\": 1, \"13\": 2, \"0\": 2, \"4\": 3}, \"9\": {\"9\": 159, \"5\": 30, \"2\": 11, \"8\": 30, \"7\": 10}, \"12\": {\"12\": 222, \"8\": 13, \"5\": 5}, \"6\": {\"6\": 140, \"1\": 100}, \"2\": {\"14\": 47, \"2\": 158, \"7\": 19, \"13\": 6, \"8\": 3, \"9\": 5, \"5\": 1, \"0\": 1}, \"0\": {\"7\": 25, \"14\": 6, \"0\": 70, \"13\": 52, \"10\": 62, \"4\": 8, \"2\": 11, \"3\": 4, \"9\": 2}, \"13\": {\"0\": 55, \"2\": 15, \"13\": 149, \"10\": 13, \"14\": 6, \"7\": 1, \"4\": 1}}, \"O_8\": {\"9\": {\"9\": 234, \"3\": 6}, \"10\": {\"13\": 48, \"5\": 47, \"7\": 39, \"1\": 23, \"10\": 46, \"8\": 1, \"6\": 26, \"11\": 6, \"4\": 4}, \"13\": {\"13\": 70, \"10\": 57, \"7\": 47, \"6\": 14, \"5\": 39, \"1\": 9, \"11\": 3, \"12\": 1}, \"0\": {\"0\": 239, \"14\": 1}, \"1\": {\"11\": 38, \"7\": 19, \"8\": 10, \"1\": 76, \"6\": 36, \"5\": 27, \"10\": 19, \"4\": 7, \"13\": 8}, \"15\": {\"15\": 125, \"12\": 84, \"2\": 31}, \"5\": {\"13\": 52, \"5\": 64, \"10\": 58, \"1\": 31, \"4\": 2, \"11\": 6, \"6\": 13, \"7\": 12, \"8\": 1, \"12\": 1}, \"3\": {\"3\": 215, \"2\": 21, \"9\": 4}, \"6\": {\"6\": 80, \"7\": 33, \"1\": 35, \"5\": 17, \"11\": 16, \"10\": 25, \"8\": 19, \"13\": 7, \"4\": 8}, \"11\": {\"5\": 10, \"1\": 51, \"11\": 67, \"8\": 38, \"6\": 24, \"4\": 20, \"7\": 14, \"14\": 6, \"10\": 7, \"13\": 3}, \"8\": {\"8\": 107, \"1\": 9, \"11\": 34, \"4\": 55, \"14\": 24, \"6\": 8, \"7\": 3}, \"4\": {\"4\": 117, \"8\": 57, \"14\": 21, \"1\": 4, \"11\": 23, \"6\": 14, \"7\": 2, \"5\": 2}, \"12\": {\"15\": 87, \"12\": 137, \"2\": 16}, \"14\": {\"14\": 133, \"4\": 68, \"1\": 1, \"11\": 4, \"8\": 34}, \"2\": {\"3\": 57, \"15\": 36, \"2\": 121, \"9\": 2, \"12\": 24}, \"7\": {\"11\": 5, \"7\": 67, \"13\": 28, \"6\": 55, \"10\": 36, \"5\": 20, \"1\": 25, \"8\": 2, \"4\": 2}}, \"O_50\": {\"7\": {\"7\": 135, \"4\": 79, \"5\": 26}, \"3\": {\"3\": 190, \"5\": 14, \"6\": 30, \"11\": 2, \"15\": 3, \"8\": 1}, \"8\": {\"8\": 191, \"1\": 25, \"10\": 12, \"13\": 12}, \"2\": {\"2\": 133, \"0\": 55, \"14\": 50, \"10\": 2}, \"14\": {\"14\": 156, \"2\": 62, \"0\": 18, \"1\": 3, \"10\": 1}, \"4\": {\"5\": 31, \"4\": 98, \"15\": 7, \"7\": 98, \"6\": 5, \"9\": 1}, \"6\": {\"6\": 77, \"15\": 66, \"5\": 43, \"3\": 18, \"12\": 8, \"9\": 21, \"11\": 5, \"7\": 1, \"4\": 1}, \"15\": {\"15\": 88, \"5\": 25, \"3\": 2, \"9\": 35, \"12\": 12, \"6\": 69, \"11\": 9}, \"10\": {\"1\": 23, \"10\": 148, \"0\": 41, \"8\": 24, \"2\": 4}, \"11\": {\"11\": 121, \"12\": 39, \"9\": 27, \"15\": 33, \"6\": 14, \"13\": 5, \"5\": 1}, \"13\": {\"11\": 20, \"13\": 157, \"1\": 40, \"8\": 19, \"3\": 1, \"15\": 1, \"6\": 1, \"12\": 1}, \"9\": {\"9\": 97, \"15\": 41, \"12\": 55, \"6\": 21, \"11\": 19, \"5\": 6, \"7\": 1}, \"0\": {\"10\": 36, \"14\": 21, \"0\": 130, \"2\": 53}, \"1\": {\"13\": 43, \"1\": 140, \"10\": 22, \"8\": 26, \"14\": 1, \"11\": 5, \"15\": 1, \"12\": 1, \"0\": 1}, \"12\": {\"9\": 48, \"12\": 140, \"11\": 35, \"5\": 1, \"6\": 10, \"3\": 1, \"15\": 5}, \"5\": {\"4\": 49, \"7\": 35, \"5\": 64, \"6\": 28, \"15\": 27, \"13\": 7, \"8\": 1, \"3\": 11, \"11\": 16, \"12\": 1, \"9\": 1}}, \"O_32\": {\"8\": {\"8\": 109, \"0\": 49, \"2\": 8, \"14\": 21, \"7\": 12, \"15\": 22, \"5\": 14, \"4\": 4, \"3\": 1}, \"14\": {\"14\": 80, \"0\": 41, \"2\": 28, \"7\": 51, \"8\": 29, \"5\": 8, \"3\": 1, \"4\": 2}, \"2\": {\"4\": 87, \"2\": 128, \"8\": 8, \"14\": 9, \"0\": 2, \"7\": 1, \"13\": 1, \"9\": 2, \"3\": 2}, \"0\": {\"8\": 36, \"0\": 72, \"7\": 66, \"14\": 41, \"5\": 21, \"15\": 4}, \"1\": {\"1\": 232, \"14\": 2, \"2\": 3, \"8\": 1, \"0\": 2}, \"10\": {\"10\": 193, \"12\": 38, \"6\": 8, \"9\": 1}, \"11\": {\"9\": 25, \"11\": 198, \"13\": 9, \"3\": 4, \"12\": 4}, \"5\": {\"7\": 66, \"5\": 82, \"8\": 24, \"0\": 35, \"14\": 17, \"15\": 16}, \"15\": {\"15\": 210, \"8\": 12, \"5\": 15, \"0\": 3}, \"3\": {\"13\": 85, \"3\": 134, \"4\": 19, \"9\": 1, \"2\": 1}, \"12\": {\"12\": 177, \"10\": 34, \"11\": 8, \"9\": 19, \"13\": 2}, \"7\": {\"5\": 35, \"7\": 93, \"0\": 55, \"14\": 40, \"8\": 15, \"15\": 1, \"2\": 1}, \"13\": {\"13\": 90, \"4\": 37, \"3\": 86, \"11\": 6, \"9\": 13, \"2\": 8}, \"6\": {\"6\": 225, \"10\": 14, \"12\": 1}, \"4\": {\"2\": 63, \"8\": 2, \"4\": 93, \"13\": 28, \"3\": 53, \"14\": 1}, \"9\": {\"12\": 43, \"4\": 22, \"9\": 116, \"11\": 16, \"13\": 21, \"3\": 9, \"2\": 10, \"6\": 1, \"10\": 1, \"1\": 1}}, \"O_26\": {\"4\": {\"4\": 205, \"3\": 19, \"13\": 16}, \"12\": {\"13\": 17, \"12\": 125, \"9\": 33, \"7\": 23, \"3\": 3, \"2\": 13, \"8\": 26}, \"10\": {\"10\": 60, \"14\": 58, \"15\": 38, \"1\": 22, \"0\": 35, \"5\": 8, \"6\": 19}, \"0\": {\"2\": 14, \"14\": 44, \"10\": 55, \"0\": 89, \"8\": 10, \"15\": 7, \"6\": 6, \"9\": 5, \"5\": 6, \"1\": 2, \"12\": 1, \"13\": 1}, \"13\": {\"8\": 9, \"4\": 11, \"9\": 28, \"13\": 104, \"3\": 56, \"12\": 20, \"7\": 9, \"2\": 2, \"0\": 1}, \"9\": {\"13\": 32, \"12\": 23, \"3\": 26, \"7\": 36, \"9\": 56, \"8\": 25, \"2\": 35, \"0\": 5, \"10\": 2}, \"3\": {\"3\": 97, \"9\": 27, \"13\": 44, \"8\": 13, \"7\": 38, \"12\": 5, \"4\": 4, \"2\": 12}, \"2\": {\"0\": 28, \"2\": 54, \"9\": 29, \"8\": 54, \"7\": 35, \"12\": 10, \"3\": 16, \"5\": 1, \"13\": 5, \"10\": 3, \"14\": 4, \"1\": 1}, \"5\": {\"6\": 53, \"1\": 25, \"5\": 85, \"14\": 5, \"15\": 51, \"10\": 7, \"11\": 13, \"0\": 1}, \"14\": {\"1\": 31, \"0\": 40, \"14\": 57, \"10\": 62, \"15\": 25, \"5\": 4, \"6\": 20, \"2\": 1}, \"8\": {\"7\": 51, \"8\": 67, \"2\": 45, \"3\": 9, \"0\": 7, \"9\": 37, \"12\": 19, \"13\": 5}, \"7\": {\"8\": 58, \"7\": 58, \"3\": 25, \"12\": 13, \"2\": 30, \"9\": 43, \"13\": 13}, \"6\": {\"1\": 40, \"5\": 49, \"6\": 59, \"14\": 17, \"15\": 42, \"10\": 17, \"11\": 15, \"0\": 1}, \"11\": {\"6\": 21, \"11\": 184, \"5\": 22, \"1\": 10, \"15\": 3}, \"15\": {\"10\": 25, \"11\": 12, \"5\": 58, \"6\": 43, \"14\": 21, \"1\": 20, \"15\": 56, \"0\": 5}, \"1\": {\"1\": 104, \"14\": 30, \"11\": 2, \"6\": 36, \"10\": 28, \"15\": 18, \"0\": 4, \"5\": 18}}, \"O_44\": {\"12\": {\"12\": 139, \"3\": 101}, \"7\": {\"7\": 82, \"10\": 60, \"9\": 43, \"4\": 22, \"14\": 12, \"2\": 2, \"6\": 12, \"5\": 7}, \"5\": {\"5\": 81, \"15\": 29, \"7\": 7, \"8\": 16, \"4\": 34, \"9\": 3, \"14\": 65, \"2\": 2, \"6\": 1, \"10\": 2}, \"15\": {\"5\": 24, \"15\": 98, \"7\": 1, \"8\": 55, \"14\": 34, \"1\": 4, \"4\": 13, \"0\": 5, \"2\": 4, \"10\": 2}, \"8\": {\"0\": 56, \"8\": 117, \"14\": 5, \"15\": 50, \"4\": 2, \"5\": 8, \"1\": 2}, \"2\": {\"2\": 171, \"1\": 46, \"4\": 1, \"0\": 3, \"10\": 11, \"9\": 2, \"14\": 1, \"15\": 3, \"8\": 1, \"5\": 1}, \"13\": {\"13\": 138, \"6\": 85, \"4\": 2, \"9\": 14, \"7\": 1}, \"4\": {\"9\": 36, \"14\": 42, \"4\": 62, \"10\": 10, \"5\": 41, \"15\": 19, \"7\": 15, \"2\": 10, \"1\": 1, \"6\": 1, \"8\": 1, \"13\": 2}, \"0\": {\"0\": 169, \"15\": 4, \"1\": 11, \"8\": 54, \"2\": 2}, \"6\": {\"6\": 144, \"13\": 67, \"9\": 27, \"7\": 2}, \"9\": {\"10\": 32, \"7\": 56, \"2\": 9, \"6\": 31, \"13\": 32, \"9\": 32, \"4\": 30, \"1\": 1, \"14\": 13, \"5\": 4}, \"11\": {\"11\": 239, \"6\": 1}, \"10\": {\"7\": 77, \"9\": 23, \"2\": 16, \"10\": 95, \"1\": 2, \"14\": 10, \"5\": 3, \"8\": 1, \"15\": 1, \"4\": 12}, \"14\": {\"10\": 12, \"14\": 67, \"7\": 22, \"5\": 49, \"15\": 36, \"4\": 47, \"8\": 3, \"9\": 4}, \"1\": {\"2\": 70, \"1\": 151, \"10\": 2, \"15\": 4, \"0\": 10, \"8\": 2, \"4\": 1}, \"3\": {\"12\": 99, \"3\": 140, \"0\": 1}}}, \"per_domain_accuracy\": {\"W_3\": {\"accuracy\": 0.9771107456140351, \"source?\": true}, \"C_3\": {\"accuracy\": 0.9990915697674418, \"source?\": true}, \"C_4\": {\"accuracy\": 0.9971590909090909, \"source?\": true}, \"W_4\": {\"accuracy\": 0.9652777777777778, \"source?\": true}, \"W_1\": {\"accuracy\": 0.9803191489361702, \"source?\": true}, \"C_5\": {\"accuracy\": 0.9994762569832403, \"source?\": true}, \"C_1\": {\"accuracy\": 0.9996584699453552, \"source?\": true}, \"W_2\": {\"accuracy\": 0.9582457983193278, \"source?\": true}, \"C_2\": {\"accuracy\": 0.9996468926553672, \"source?\": true}, \"O_14\": {\"accuracy\": 0.5239583333333333, \"source?\": false}, \"O_20\": {\"accuracy\": 0.3059895833333333, \"source?\": false}, \"O_38\": {\"accuracy\": 0.6638020833333333, \"source?\": false}, \"O_8\": {\"accuracy\": 0.4942708333333333, \"source?\": false}, \"O_50\": {\"accuracy\": 0.5377604166666666, \"source?\": false}, \"O_32\": {\"accuracy\": 0.58125, \"source?\": false}, \"O_26\": {\"accuracy\": 0.3802083333333333, \"source?\": false}, \"O_44\": {\"accuracy\": 0.5013020833333334, \"source?\": false}}}, \"history\": {\"epoch_indices\": [1, 2, 3, 4, 5, 6], \"train_label_loss\": [0.1120983905351005, 0.07416869118280645, 0.060863033337600715, 0.054250264519441406, 0.049999274913152515, 0.04652073988908693], \"source_val_label_loss\": [0.11929836124181747, 0.07200738042593002, 0.06516071408987045, 0.06021949648857117, 0.06106581911444664, 0.0547836497426033], \"target_val_label_loss\": [2.4313459396362305, 2.3584725856781006, 2.2822701930999756, 2.284665107727051, 2.1957390308380127, 2.214639186859131], \"source_val_acc_label\": [0.9778331043956044, 0.9840315934065934, 0.9853193681318682, 0.9862293956043956, 0.985679945054945, 0.9863667582417582], \"target_val_acc_label\": [0.4334635416666667, 0.49856770833333336, 0.4501953125, 0.41087239583333335, 0.38079427083333334, 0.3851236979166667]}, \"dataset_metrics\": {\"source\": {\"train\": {\"n_unique_x\": 364180, \"n_unique_y\": 130, \"n_batch/episode\": 13148}, \"val\": {\"n_unique_x\": 77264, \"n_unique_y\": 130, \"n_batch/episode\": 1820}, \"test\": {\"n_unique_x\": 78450, \"n_unique_y\": 130, \"n_batch/episode\": 1860}}, \"target\": {\"train\": {\"n_unique_x\": 179200, \"n_unique_y\": 16, \"n_batch/episode\": 6720}, \"val\": {\"n_unique_x\": 38400, \"n_unique_y\": 16, \"n_batch/episode\": 960}, \"test\": {\"n_unique_x\": 38400, \"n_unique_y\": 16, \"n_batch/episode\": 960}}}}'"
      ]
     },
     "execution_count": 29,
     "metadata": {},
     "output_type": "execute_result"
    }
   ],
   "source": [
    "json.dumps(experiment)"
   ]
  }
 ],
 "metadata": {
  "celltoolbar": "Tags",
  "kernelspec": {
   "display_name": "Python 3 (ipykernel)",
   "language": "python",
   "name": "python3"
  },
  "language_info": {
   "codemirror_mode": {
    "name": "ipython",
    "version": 3
   },
   "file_extension": ".py",
   "mimetype": "text/x-python",
   "name": "python",
   "nbconvert_exporter": "python",
   "pygments_lexer": "ipython3",
   "version": "3.8.10"
  },
  "papermill": {
   "default_parameters": {},
   "duration": 2310.015134,
   "end_time": "2022-03-20T03:58:26.250744",
   "environment_variables": {},
   "exception": null,
   "input_path": "/mnt/wd500GB/CSC500/csc500-main/csc500-notebooks/templates/tl_ptn_template.ipynb",
   "output_path": "trial.ipynb",
   "parameters": {
    "parameters": {
     "BEST_MODEL_PATH": "./best_model.pth",
     "NUM_LOGS_PER_EPOCH": 10,
     "criteria_for_best": "target_accuracy",
     "dataset_seed": 1337,
     "datasets": [
      {
       "domain_prefix": "C_",
       "domains": [
        1,
        2,
        3,
        4,
        5
       ],
       "episode_transforms": [],
       "labels": [
        "1-10.",
        "1-11.",
        "1-15.",
        "1-16.",
        "1-17.",
        "1-18.",
        "1-19.",
        "10-4.",
        "10-7.",
        "11-1.",
        "11-14.",
        "11-17.",
        "11-20.",
        "11-7.",
        "13-20.",
        "13-8.",
        "14-10.",
        "14-11.",
        "14-14.",
        "14-7.",
        "15-1.",
        "15-20.",
        "16-1.",
        "16-16.",
        "17-10.",
        "17-11.",
        "17-2.",
        "19-1.",
        "19-16.",
        "19-19.",
        "19-20.",
        "19-3.",
        "2-10.",
        "2-11.",
        "2-17.",
        "2-18.",
        "2-20.",
        "2-3.",
        "2-4.",
        "2-5.",
        "2-6.",
        "2-7.",
        "2-8.",
        "3-13.",
        "3-18.",
        "3-3.",
        "4-1.",
        "4-10.",
        "4-11.",
        "4-19.",
        "5-5.",
        "6-15.",
        "7-10.",
        "7-14.",
        "8-18.",
        "8-20.",
        "8-3.",
        "8-8."
       ],
       "num_examples_per_domain_per_label": -1,
       "pickle_path": "/mnt/wd500GB/CSC500/csc500-main/datasets/cores.stratified_ds.2022A.pkl",
       "source_or_target_dataset": "source",
       "x_transforms": []
      },
      {
       "domain_prefix": "W_",
       "domains": [
        1,
        2,
        3,
        4
       ],
       "episode_transforms": [],
       "labels": [
        "1-10",
        "1-12",
        "1-14",
        "1-16",
        "1-18",
        "1-19",
        "1-8",
        "10-11",
        "10-17",
        "10-4",
        "10-7",
        "11-1",
        "11-10",
        "11-19",
        "11-20",
        "11-4",
        "11-7",
        "12-19",
        "12-20",
        "12-7",
        "13-14",
        "13-18",
        "13-19",
        "13-20",
        "13-3",
        "13-7",
        "14-10",
        "14-11",
        "14-12",
        "14-13",
        "14-14",
        "14-19",
        "14-20",
        "14-7",
        "14-8",
        "14-9",
        "15-1",
        "15-19",
        "15-6",
        "16-1",
        "16-16",
        "16-19",
        "16-20",
        "17-10",
        "17-11",
        "18-1",
        "18-10",
        "18-11",
        "18-12",
        "18-13",
        "18-14",
        "18-15",
        "18-16",
        "18-17",
        "18-19",
        "18-2",
        "18-20",
        "18-4",
        "18-5",
        "18-7",
        "18-8",
        "18-9",
        "19-1",
        "19-10",
        "19-11",
        "19-12",
        "19-13",
        "19-14",
        "19-15",
        "19-19",
        "19-2",
        "19-20",
        "19-3",
        "19-4",
        "19-6",
        "19-7",
        "19-8",
        "19-9",
        "2-1",
        "2-13",
        "2-15",
        "2-3",
        "2-4",
        "2-5",
        "2-6",
        "2-7",
        "2-8",
        "20-1",
        "20-12",
        "20-14",
        "20-15",
        "20-16",
        "20-18",
        "20-19",
        "20-20",
        "20-3",
        "20-4",
        "20-5",
        "20-7",
        "20-8",
        "3-1",
        "3-13",
        "3-18",
        "3-2",
        "3-8",
        "4-1",
        "4-10",
        "4-11",
        "5-1",
        "5-5",
        "6-1",
        "6-15",
        "6-6",
        "7-10",
        "7-11",
        "7-12",
        "7-13",
        "7-14",
        "7-7",
        "7-8",
        "7-9",
        "8-1",
        "8-13",
        "8-14",
        "8-18",
        "8-20",
        "8-3",
        "8-8",
        "9-1",
        "9-7"
       ],
       "num_examples_per_domain_per_label": -1,
       "pickle_path": "/mnt/wd500GB/CSC500/csc500-main/datasets/wisig.node3-19.stratified_ds.2022A.pkl",
       "source_or_target_dataset": "source",
       "x_transforms": []
      },
      {
       "domain_prefix": "O_",
       "domains": [
        32,
        38,
        8,
        44,
        14,
        50,
        20,
        26
       ],
       "episode_transforms": [],
       "labels": [
        "3123D52",
        "3123D65",
        "3123D79",
        "3123D80",
        "3123D54",
        "3123D70",
        "3123D7B",
        "3123D89",
        "3123D58",
        "3123D76",
        "3123D7D",
        "3123EFE",
        "3123D64",
        "3123D78",
        "3123D7E",
        "3124E4A"
       ],
       "num_examples_per_domain_per_label": 2000,
       "pickle_path": "/mnt/wd500GB/CSC500/csc500-main/datasets/oracle.Run1_framed_2000Examples_stratified_ds.2022A.pkl",
       "source_or_target_dataset": "target",
       "x_transforms": []
      }
     ],
     "device": "cuda",
     "experiment_name": "tl_2v2:cores+wisig -> oracle.run1.framed",
     "lr": 0.0001,
     "n_epoch": 50,
     "n_query": 2,
     "n_shot": 3,
     "n_way": 16,
     "patience": 3,
     "seed": 1337,
     "test_k_factor": 2,
     "torch_default_dtype": "torch.float32",
     "train_k_factor": 3,
     "val_k_factor": 2,
     "x_net": [
      {
       "class": "nnReshape",
       "kargs": {
        "shape": [
         -1,
         1,
         2,
         256
        ]
       }
      },
      {
       "class": "Conv2d",
       "kargs": {
        "bias": false,
        "in_channels": 1,
        "kernel_size": [
         1,
         7
        ],
        "out_channels": 256,
        "padding": [
         0,
         3
        ]
       }
      },
      {
       "class": "ReLU",
       "kargs": {
        "inplace": true
       }
      },
      {
       "class": "BatchNorm2d",
       "kargs": {
        "num_features": 256
       }
      },
      {
       "class": "Conv2d",
       "kargs": {
        "bias": true,
        "in_channels": 256,
        "kernel_size": [
         2,
         7
        ],
        "out_channels": 80,
        "padding": [
         0,
         3
        ]
       }
      },
      {
       "class": "ReLU",
       "kargs": {
        "inplace": true
       }
      },
      {
       "class": "BatchNorm2d",
       "kargs": {
        "num_features": 80
       }
      },
      {
       "class": "Flatten",
       "kargs": {}
      },
      {
       "class": "Linear",
       "kargs": {
        "in_features": 20480,
        "out_features": 256
       }
      },
      {
       "class": "ReLU",
       "kargs": {
        "inplace": true
       }
      },
      {
       "class": "BatchNorm1d",
       "kargs": {
        "num_features": 256
       }
      },
      {
       "class": "Linear",
       "kargs": {
        "in_features": 256,
        "out_features": 256
       }
      }
     ]
    }
   },
   "start_time": "2022-03-20T03:19:56.235610",
   "version": "2.3.4"
  }
 },
 "nbformat": 4,
 "nbformat_minor": 5
}