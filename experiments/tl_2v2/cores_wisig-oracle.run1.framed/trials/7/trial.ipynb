{
 "cells": [
  {
   "cell_type": "markdown",
   "id": "9fea5f46",
   "metadata": {
    "papermill": {
     "duration": 0.017958,
     "end_time": "2022-03-20T07:13:17.450477",
     "exception": false,
     "start_time": "2022-03-20T07:13:17.432519",
     "status": "completed"
    },
    "tags": []
   },
   "source": [
    "# Transfer Learning Template"
   ]
  },
  {
   "cell_type": "code",
   "execution_count": 1,
   "id": "0902182a",
   "metadata": {
    "execution": {
     "iopub.execute_input": "2022-03-20T07:13:17.488271Z",
     "iopub.status.busy": "2022-03-20T07:13:17.488000Z",
     "iopub.status.idle": "2022-03-20T07:13:18.482522Z",
     "shell.execute_reply": "2022-03-20T07:13:18.482754Z"
    },
    "papermill": {
     "duration": 1.019515,
     "end_time": "2022-03-20T07:13:18.482881",
     "exception": false,
     "start_time": "2022-03-20T07:13:17.463366",
     "status": "completed"
    },
    "tags": []
   },
   "outputs": [],
   "source": [
    "%load_ext autoreload\n",
    "%autoreload 2\n",
    "%matplotlib inline\n",
    "\n",
    "    \n",
    "import os, json, sys, time, random\n",
    "import numpy as np\n",
    "import torch\n",
    "from torch.optim import Adam\n",
    "from  easydict import EasyDict\n",
    "import matplotlib.pyplot as plt\n",
    "\n",
    "from steves_models.steves_ptn import Steves_Prototypical_Network\n",
    "\n",
    "from steves_utils.lazy_iterable_wrapper import Lazy_Iterable_Wrapper\n",
    "from steves_utils.iterable_aggregator import Iterable_Aggregator\n",
    "from steves_utils.ptn_train_eval_test_jig import  PTN_Train_Eval_Test_Jig\n",
    "from steves_utils.torch_sequential_builder import build_sequential\n",
    "from steves_utils.torch_utils import get_dataset_metrics, ptn_confusion_by_domain_over_dataloader\n",
    "from steves_utils.utils_v2 import (per_domain_accuracy_from_confusion, get_datasets_base_path)\n",
    "from steves_utils.PTN.utils import independent_accuracy_assesment\n",
    "\n",
    "from torch.utils.data import DataLoader\n",
    "\n",
    "from steves_utils.stratified_dataset.episodic_accessor import Episodic_Accessor_Factory\n",
    "\n",
    "from steves_utils.ptn_do_report import (\n",
    "    get_loss_curve,\n",
    "    get_results_table,\n",
    "    get_parameters_table,\n",
    "    get_domain_accuracies,\n",
    ")\n",
    "\n",
    "from steves_utils.transforms import get_chained_transform"
   ]
  },
  {
   "cell_type": "markdown",
   "id": "41c840b4",
   "metadata": {
    "papermill": {
     "duration": 0.01608,
     "end_time": "2022-03-20T07:13:18.517381",
     "exception": false,
     "start_time": "2022-03-20T07:13:18.501301",
     "status": "completed"
    },
    "tags": []
   },
   "source": [
    "# Allowed Parameters\n",
    "These are allowed parameters, not defaults\n",
    "Each of these values need to be present in the injected parameters (the notebook will raise an exception if they are not present)\n",
    "\n",
    "Papermill uses the cell tag \"parameters\" to inject the real parameters below this cell.\n",
    "Enable tags to see what I mean"
   ]
  },
  {
   "cell_type": "code",
   "execution_count": 2,
   "id": "fd44eb83",
   "metadata": {
    "execution": {
     "iopub.execute_input": "2022-03-20T07:13:18.555300Z",
     "iopub.status.busy": "2022-03-20T07:13:18.554155Z",
     "iopub.status.idle": "2022-03-20T07:13:18.570590Z",
     "shell.execute_reply": "2022-03-20T07:13:18.571024Z"
    },
    "papermill": {
     "duration": 0.037323,
     "end_time": "2022-03-20T07:13:18.571150",
     "exception": false,
     "start_time": "2022-03-20T07:13:18.533827",
     "status": "completed"
    },
    "tags": []
   },
   "outputs": [],
   "source": [
    "required_parameters = {\n",
    "    \"experiment_name\",\n",
    "    \"lr\",\n",
    "    \"device\",\n",
    "    \"seed\",\n",
    "    \"dataset_seed\",\n",
    "    \"n_shot\",\n",
    "    \"n_query\",\n",
    "    \"n_way\",\n",
    "    \"train_k_factor\",\n",
    "    \"val_k_factor\",\n",
    "    \"test_k_factor\",\n",
    "    \"n_epoch\",\n",
    "    \"patience\",\n",
    "    \"criteria_for_best\",\n",
    "    \"x_net\",\n",
    "    \"datasets\",\n",
    "    \"torch_default_dtype\",\n",
    "    \"NUM_LOGS_PER_EPOCH\",\n",
    "    \"BEST_MODEL_PATH\",\n",
    "    \"x_shape\",\n",
    "}"
   ]
  },
  {
   "cell_type": "code",
   "execution_count": 3,
   "id": "fa3f0049",
   "metadata": {
    "execution": {
     "iopub.execute_input": "2022-03-20T07:13:18.610169Z",
     "iopub.status.busy": "2022-03-20T07:13:18.609874Z",
     "iopub.status.idle": "2022-03-20T07:13:18.623280Z",
     "shell.execute_reply": "2022-03-20T07:13:18.622788Z"
    },
    "papermill": {
     "duration": 0.032437,
     "end_time": "2022-03-20T07:13:18.623408",
     "exception": false,
     "start_time": "2022-03-20T07:13:18.590971",
     "status": "completed"
    },
    "tags": [
     "parameters"
    ]
   },
   "outputs": [],
   "source": [
    "from steves_utils.CORES.utils import (\n",
    "    ALL_NODES,\n",
    "    ALL_NODES_MINIMUM_1000_EXAMPLES,\n",
    "    ALL_DAYS\n",
    ")\n",
    "\n",
    "from steves_utils.ORACLE.utils_v2 import (\n",
    "    ALL_DISTANCES_FEET_NARROWED,\n",
    "    ALL_RUNS,\n",
    "    ALL_SERIAL_NUMBERS,\n",
    ")\n",
    "\n",
    "standalone_parameters = {}\n",
    "standalone_parameters[\"experiment_name\"] = \"STANDALONE PTN\"\n",
    "standalone_parameters[\"lr\"] = 0.001\n",
    "standalone_parameters[\"device\"] = \"cuda\"\n",
    "\n",
    "standalone_parameters[\"seed\"] = 1337\n",
    "standalone_parameters[\"dataset_seed\"] = 1337\n",
    "\n",
    "standalone_parameters[\"n_way\"] = 8\n",
    "standalone_parameters[\"n_shot\"] = 3\n",
    "standalone_parameters[\"n_query\"]  = 2\n",
    "standalone_parameters[\"train_k_factor\"] = 1\n",
    "standalone_parameters[\"val_k_factor\"] = 2\n",
    "standalone_parameters[\"test_k_factor\"] = 2\n",
    "\n",
    "\n",
    "standalone_parameters[\"n_epoch\"] = 50\n",
    "\n",
    "standalone_parameters[\"patience\"] = 10\n",
    "standalone_parameters[\"criteria_for_best\"] = \"source_loss\"\n",
    "\n",
    "standalone_parameters[\"datasets\"] = [\n",
    "    {\n",
    "        \"labels\": ALL_SERIAL_NUMBERS,\n",
    "        \"domains\": ALL_DISTANCES_FEET_NARROWED,\n",
    "        \"num_examples_per_domain_per_label\": 100,\n",
    "        \"pickle_path\": os.path.join(get_datasets_base_path(), \"oracle.Run1_framed_2000Examples_stratified_ds.2022A.pkl\"),\n",
    "        \"source_or_target_dataset\": \"source\",\n",
    "        \"x_transforms\": [\"unit_mag\", \"minus_two\"],\n",
    "        \"episode_transforms\": [],\n",
    "        \"domain_prefix\": \"ORACLE_\"\n",
    "    },\n",
    "    {\n",
    "        \"labels\": ALL_NODES,\n",
    "        \"domains\": ALL_DAYS,\n",
    "        \"num_examples_per_domain_per_label\": 100,\n",
    "        \"pickle_path\": os.path.join(get_datasets_base_path(), \"cores.stratified_ds.2022A.pkl\"),\n",
    "        \"source_or_target_dataset\": \"target\",\n",
    "        \"x_transforms\": [\"unit_power\", \"times_zero\"],\n",
    "        \"episode_transforms\": [],\n",
    "        \"domain_prefix\": \"CORES_\"\n",
    "    }   \n",
    "]\n",
    "\n",
    "standalone_parameters[\"torch_default_dtype\"] = \"torch.float32\" \n",
    "\n",
    "\n",
    "\n",
    "standalone_parameters[\"x_net\"] =     [\n",
    "    {\"class\": \"nnReshape\", \"kargs\": {\"shape\":[-1, 1, 2, 256]}},\n",
    "    {\"class\": \"Conv2d\", \"kargs\": { \"in_channels\":1, \"out_channels\":256, \"kernel_size\":(1,7), \"bias\":False, \"padding\":(0,3), },},\n",
    "    {\"class\": \"ReLU\", \"kargs\": {\"inplace\": True}},\n",
    "    {\"class\": \"BatchNorm2d\", \"kargs\": {\"num_features\":256}},\n",
    "\n",
    "    {\"class\": \"Conv2d\", \"kargs\": { \"in_channels\":256, \"out_channels\":80, \"kernel_size\":(2,7), \"bias\":True, \"padding\":(0,3), },},\n",
    "    {\"class\": \"ReLU\", \"kargs\": {\"inplace\": True}},\n",
    "    {\"class\": \"BatchNorm2d\", \"kargs\": {\"num_features\":80}},\n",
    "    {\"class\": \"Flatten\", \"kargs\": {}},\n",
    "\n",
    "    {\"class\": \"Linear\", \"kargs\": {\"in_features\": 80*256, \"out_features\": 256}}, # 80 units per IQ pair\n",
    "    {\"class\": \"ReLU\", \"kargs\": {\"inplace\": True}},\n",
    "    {\"class\": \"BatchNorm1d\", \"kargs\": {\"num_features\":256}},\n",
    "\n",
    "    {\"class\": \"Linear\", \"kargs\": {\"in_features\": 256, \"out_features\": 256}},\n",
    "]\n",
    "\n",
    "# Parameters relevant to results\n",
    "# These parameters will basically never need to change\n",
    "standalone_parameters[\"NUM_LOGS_PER_EPOCH\"] = 10\n",
    "standalone_parameters[\"BEST_MODEL_PATH\"] = \"./best_model.pth\"\n",
    "\n",
    "\n",
    "\n",
    "\n"
   ]
  },
  {
   "cell_type": "code",
   "execution_count": 4,
   "id": "5291ba50",
   "metadata": {
    "execution": {
     "iopub.execute_input": "2022-03-20T07:13:18.658884Z",
     "iopub.status.busy": "2022-03-20T07:13:18.658548Z",
     "iopub.status.idle": "2022-03-20T07:13:18.682302Z",
     "shell.execute_reply": "2022-03-20T07:13:18.682710Z"
    },
    "papermill": {
     "duration": 0.039642,
     "end_time": "2022-03-20T07:13:18.682830",
     "exception": false,
     "start_time": "2022-03-20T07:13:18.643188",
     "status": "completed"
    },
    "tags": [
     "injected-parameters"
    ]
   },
   "outputs": [],
   "source": [
    "# Parameters\n",
    "parameters = {\n",
    "    \"experiment_name\": \"tl_2v2:cores+wisig -> oracle.run1.framed\",\n",
    "    \"device\": \"cuda\",\n",
    "    \"lr\": 0.0001,\n",
    "    \"n_shot\": 3,\n",
    "    \"n_query\": 2,\n",
    "    \"train_k_factor\": 3,\n",
    "    \"val_k_factor\": 2,\n",
    "    \"test_k_factor\": 2,\n",
    "    \"torch_default_dtype\": \"torch.float32\",\n",
    "    \"n_epoch\": 50,\n",
    "    \"patience\": 3,\n",
    "    \"criteria_for_best\": \"target_accuracy\",\n",
    "    \"x_net\": [\n",
    "        {\"class\": \"nnReshape\", \"kargs\": {\"shape\": [-1, 1, 2, 256]}},\n",
    "        {\n",
    "            \"class\": \"Conv2d\",\n",
    "            \"kargs\": {\n",
    "                \"in_channels\": 1,\n",
    "                \"out_channels\": 256,\n",
    "                \"kernel_size\": [1, 7],\n",
    "                \"bias\": False,\n",
    "                \"padding\": [0, 3],\n",
    "            },\n",
    "        },\n",
    "        {\"class\": \"ReLU\", \"kargs\": {\"inplace\": True}},\n",
    "        {\"class\": \"BatchNorm2d\", \"kargs\": {\"num_features\": 256}},\n",
    "        {\n",
    "            \"class\": \"Conv2d\",\n",
    "            \"kargs\": {\n",
    "                \"in_channels\": 256,\n",
    "                \"out_channels\": 80,\n",
    "                \"kernel_size\": [2, 7],\n",
    "                \"bias\": True,\n",
    "                \"padding\": [0, 3],\n",
    "            },\n",
    "        },\n",
    "        {\"class\": \"ReLU\", \"kargs\": {\"inplace\": True}},\n",
    "        {\"class\": \"BatchNorm2d\", \"kargs\": {\"num_features\": 80}},\n",
    "        {\"class\": \"Flatten\", \"kargs\": {}},\n",
    "        {\"class\": \"Linear\", \"kargs\": {\"in_features\": 20480, \"out_features\": 256}},\n",
    "        {\"class\": \"ReLU\", \"kargs\": {\"inplace\": True}},\n",
    "        {\"class\": \"BatchNorm1d\", \"kargs\": {\"num_features\": 256}},\n",
    "        {\"class\": \"Linear\", \"kargs\": {\"in_features\": 256, \"out_features\": 256}},\n",
    "    ],\n",
    "    \"NUM_LOGS_PER_EPOCH\": 10,\n",
    "    \"BEST_MODEL_PATH\": \"./best_model.pth\",\n",
    "    \"n_way\": 16,\n",
    "    \"datasets\": [\n",
    "        {\n",
    "            \"labels\": [\n",
    "                \"1-10.\",\n",
    "                \"1-11.\",\n",
    "                \"1-15.\",\n",
    "                \"1-16.\",\n",
    "                \"1-17.\",\n",
    "                \"1-18.\",\n",
    "                \"1-19.\",\n",
    "                \"10-4.\",\n",
    "                \"10-7.\",\n",
    "                \"11-1.\",\n",
    "                \"11-14.\",\n",
    "                \"11-17.\",\n",
    "                \"11-20.\",\n",
    "                \"11-7.\",\n",
    "                \"13-20.\",\n",
    "                \"13-8.\",\n",
    "                \"14-10.\",\n",
    "                \"14-11.\",\n",
    "                \"14-14.\",\n",
    "                \"14-7.\",\n",
    "                \"15-1.\",\n",
    "                \"15-20.\",\n",
    "                \"16-1.\",\n",
    "                \"16-16.\",\n",
    "                \"17-10.\",\n",
    "                \"17-11.\",\n",
    "                \"17-2.\",\n",
    "                \"19-1.\",\n",
    "                \"19-16.\",\n",
    "                \"19-19.\",\n",
    "                \"19-20.\",\n",
    "                \"19-3.\",\n",
    "                \"2-10.\",\n",
    "                \"2-11.\",\n",
    "                \"2-17.\",\n",
    "                \"2-18.\",\n",
    "                \"2-20.\",\n",
    "                \"2-3.\",\n",
    "                \"2-4.\",\n",
    "                \"2-5.\",\n",
    "                \"2-6.\",\n",
    "                \"2-7.\",\n",
    "                \"2-8.\",\n",
    "                \"3-13.\",\n",
    "                \"3-18.\",\n",
    "                \"3-3.\",\n",
    "                \"4-1.\",\n",
    "                \"4-10.\",\n",
    "                \"4-11.\",\n",
    "                \"4-19.\",\n",
    "                \"5-5.\",\n",
    "                \"6-15.\",\n",
    "                \"7-10.\",\n",
    "                \"7-14.\",\n",
    "                \"8-18.\",\n",
    "                \"8-20.\",\n",
    "                \"8-3.\",\n",
    "                \"8-8.\",\n",
    "            ],\n",
    "            \"domains\": [1, 2, 3, 4, 5],\n",
    "            \"num_examples_per_domain_per_label\": -1,\n",
    "            \"pickle_path\": \"/mnt/wd500GB/CSC500/csc500-main/datasets/cores.stratified_ds.2022A.pkl\",\n",
    "            \"source_or_target_dataset\": \"source\",\n",
    "            \"x_transforms\": [\"unit_mag\"],\n",
    "            \"episode_transforms\": [],\n",
    "            \"domain_prefix\": \"C_\",\n",
    "        },\n",
    "        {\n",
    "            \"labels\": [\n",
    "                \"1-10\",\n",
    "                \"1-12\",\n",
    "                \"1-14\",\n",
    "                \"1-16\",\n",
    "                \"1-18\",\n",
    "                \"1-19\",\n",
    "                \"1-8\",\n",
    "                \"10-11\",\n",
    "                \"10-17\",\n",
    "                \"10-4\",\n",
    "                \"10-7\",\n",
    "                \"11-1\",\n",
    "                \"11-10\",\n",
    "                \"11-19\",\n",
    "                \"11-20\",\n",
    "                \"11-4\",\n",
    "                \"11-7\",\n",
    "                \"12-19\",\n",
    "                \"12-20\",\n",
    "                \"12-7\",\n",
    "                \"13-14\",\n",
    "                \"13-18\",\n",
    "                \"13-19\",\n",
    "                \"13-20\",\n",
    "                \"13-3\",\n",
    "                \"13-7\",\n",
    "                \"14-10\",\n",
    "                \"14-11\",\n",
    "                \"14-12\",\n",
    "                \"14-13\",\n",
    "                \"14-14\",\n",
    "                \"14-19\",\n",
    "                \"14-20\",\n",
    "                \"14-7\",\n",
    "                \"14-8\",\n",
    "                \"14-9\",\n",
    "                \"15-1\",\n",
    "                \"15-19\",\n",
    "                \"15-6\",\n",
    "                \"16-1\",\n",
    "                \"16-16\",\n",
    "                \"16-19\",\n",
    "                \"16-20\",\n",
    "                \"17-10\",\n",
    "                \"17-11\",\n",
    "                \"18-1\",\n",
    "                \"18-10\",\n",
    "                \"18-11\",\n",
    "                \"18-12\",\n",
    "                \"18-13\",\n",
    "                \"18-14\",\n",
    "                \"18-15\",\n",
    "                \"18-16\",\n",
    "                \"18-17\",\n",
    "                \"18-19\",\n",
    "                \"18-2\",\n",
    "                \"18-20\",\n",
    "                \"18-4\",\n",
    "                \"18-5\",\n",
    "                \"18-7\",\n",
    "                \"18-8\",\n",
    "                \"18-9\",\n",
    "                \"19-1\",\n",
    "                \"19-10\",\n",
    "                \"19-11\",\n",
    "                \"19-12\",\n",
    "                \"19-13\",\n",
    "                \"19-14\",\n",
    "                \"19-15\",\n",
    "                \"19-19\",\n",
    "                \"19-2\",\n",
    "                \"19-20\",\n",
    "                \"19-3\",\n",
    "                \"19-4\",\n",
    "                \"19-6\",\n",
    "                \"19-7\",\n",
    "                \"19-8\",\n",
    "                \"19-9\",\n",
    "                \"2-1\",\n",
    "                \"2-13\",\n",
    "                \"2-15\",\n",
    "                \"2-3\",\n",
    "                \"2-4\",\n",
    "                \"2-5\",\n",
    "                \"2-6\",\n",
    "                \"2-7\",\n",
    "                \"2-8\",\n",
    "                \"20-1\",\n",
    "                \"20-12\",\n",
    "                \"20-14\",\n",
    "                \"20-15\",\n",
    "                \"20-16\",\n",
    "                \"20-18\",\n",
    "                \"20-19\",\n",
    "                \"20-20\",\n",
    "                \"20-3\",\n",
    "                \"20-4\",\n",
    "                \"20-5\",\n",
    "                \"20-7\",\n",
    "                \"20-8\",\n",
    "                \"3-1\",\n",
    "                \"3-13\",\n",
    "                \"3-18\",\n",
    "                \"3-2\",\n",
    "                \"3-8\",\n",
    "                \"4-1\",\n",
    "                \"4-10\",\n",
    "                \"4-11\",\n",
    "                \"5-1\",\n",
    "                \"5-5\",\n",
    "                \"6-1\",\n",
    "                \"6-15\",\n",
    "                \"6-6\",\n",
    "                \"7-10\",\n",
    "                \"7-11\",\n",
    "                \"7-12\",\n",
    "                \"7-13\",\n",
    "                \"7-14\",\n",
    "                \"7-7\",\n",
    "                \"7-8\",\n",
    "                \"7-9\",\n",
    "                \"8-1\",\n",
    "                \"8-13\",\n",
    "                \"8-14\",\n",
    "                \"8-18\",\n",
    "                \"8-20\",\n",
    "                \"8-3\",\n",
    "                \"8-8\",\n",
    "                \"9-1\",\n",
    "                \"9-7\",\n",
    "            ],\n",
    "            \"domains\": [1, 2, 3, 4],\n",
    "            \"num_examples_per_domain_per_label\": -1,\n",
    "            \"pickle_path\": \"/mnt/wd500GB/CSC500/csc500-main/datasets/wisig.node3-19.stratified_ds.2022A.pkl\",\n",
    "            \"source_or_target_dataset\": \"source\",\n",
    "            \"x_transforms\": [\"unit_mag\"],\n",
    "            \"episode_transforms\": [],\n",
    "            \"domain_prefix\": \"W_\",\n",
    "        },\n",
    "        {\n",
    "            \"labels\": [\n",
    "                \"3123D52\",\n",
    "                \"3123D65\",\n",
    "                \"3123D79\",\n",
    "                \"3123D80\",\n",
    "                \"3123D54\",\n",
    "                \"3123D70\",\n",
    "                \"3123D7B\",\n",
    "                \"3123D89\",\n",
    "                \"3123D58\",\n",
    "                \"3123D76\",\n",
    "                \"3123D7D\",\n",
    "                \"3123EFE\",\n",
    "                \"3123D64\",\n",
    "                \"3123D78\",\n",
    "                \"3123D7E\",\n",
    "                \"3124E4A\",\n",
    "            ],\n",
    "            \"domains\": [32, 38, 8, 44, 14, 50, 20, 26],\n",
    "            \"num_examples_per_domain_per_label\": 2000,\n",
    "            \"pickle_path\": \"/mnt/wd500GB/CSC500/csc500-main/datasets/oracle.Run1_framed_2000Examples_stratified_ds.2022A.pkl\",\n",
    "            \"source_or_target_dataset\": \"target\",\n",
    "            \"x_transforms\": [\"unit_mag\"],\n",
    "            \"episode_transforms\": [],\n",
    "            \"domain_prefix\": \"O_\",\n",
    "        },\n",
    "    ],\n",
    "    \"seed\": 154325,\n",
    "    \"dataset_seed\": 154325,\n",
    "}\n"
   ]
  },
  {
   "cell_type": "code",
   "execution_count": 5,
   "id": "8fa1cc33",
   "metadata": {
    "execution": {
     "iopub.execute_input": "2022-03-20T07:13:18.717381Z",
     "iopub.status.busy": "2022-03-20T07:13:18.717100Z",
     "iopub.status.idle": "2022-03-20T07:13:18.729118Z",
     "shell.execute_reply": "2022-03-20T07:13:18.728656Z"
    },
    "papermill": {
     "duration": 0.028726,
     "end_time": "2022-03-20T07:13:18.729230",
     "exception": false,
     "start_time": "2022-03-20T07:13:18.700504",
     "status": "completed"
    },
    "tags": []
   },
   "outputs": [],
   "source": [
    "# Set this to True if you want to run this template directly\n",
    "STANDALONE = False\n",
    "if STANDALONE:\n",
    "    print(\"parameters not injected, running with standalone_parameters\")\n",
    "    parameters = standalone_parameters\n",
    "\n",
    "if not 'parameters' in locals() and not 'parameters' in globals():\n",
    "    raise Exception(\"Parameter injection failed\")\n",
    "\n",
    "#Use an easy dict for all the parameters\n",
    "p = EasyDict(parameters)\n",
    "\n",
    "if \"x_shape\" not in p:\n",
    "    p.x_shape = [2,256] # Default to this if we dont supply x_shape\n",
    "\n",
    "\n",
    "supplied_keys = set(p.keys())\n",
    "\n",
    "if  supplied_keys != required_parameters:\n",
    "    print(\"Parameters are incorrect\")\n",
    "    if len(supplied_keys - required_parameters)>0: print(\"Shouldn't have:\", str(supplied_keys - required_parameters))\n",
    "    if len(required_parameters - supplied_keys)>0: print(\"Need to have:\", str(required_parameters - supplied_keys))\n",
    "    raise RuntimeError(\"Parameters are incorrect\")"
   ]
  },
  {
   "cell_type": "code",
   "execution_count": 6,
   "id": "3a028d58",
   "metadata": {
    "execution": {
     "iopub.execute_input": "2022-03-20T07:13:18.762784Z",
     "iopub.status.busy": "2022-03-20T07:13:18.762526Z",
     "iopub.status.idle": "2022-03-20T07:13:18.776621Z",
     "shell.execute_reply": "2022-03-20T07:13:18.776926Z"
    },
    "papermill": {
     "duration": 0.030291,
     "end_time": "2022-03-20T07:13:18.777017",
     "exception": false,
     "start_time": "2022-03-20T07:13:18.746726",
     "status": "completed"
    },
    "tags": []
   },
   "outputs": [],
   "source": [
    "###################################\n",
    "# Set the RNGs and make it all deterministic\n",
    "###################################\n",
    "np.random.seed(p.seed)\n",
    "random.seed(p.seed)\n",
    "torch.manual_seed(p.seed)\n",
    "\n",
    "torch.use_deterministic_algorithms(True) "
   ]
  },
  {
   "cell_type": "code",
   "execution_count": 7,
   "id": "b691acf6",
   "metadata": {
    "execution": {
     "iopub.execute_input": "2022-03-20T07:13:18.811183Z",
     "iopub.status.busy": "2022-03-20T07:13:18.810911Z",
     "iopub.status.idle": "2022-03-20T07:13:18.821613Z",
     "shell.execute_reply": "2022-03-20T07:13:18.822013Z"
    },
    "papermill": {
     "duration": 0.026111,
     "end_time": "2022-03-20T07:13:18.822136",
     "exception": false,
     "start_time": "2022-03-20T07:13:18.796025",
     "status": "completed"
    },
    "tags": []
   },
   "outputs": [],
   "source": [
    "###########################################\n",
    "# The stratified datasets honor this\n",
    "###########################################\n",
    "torch.set_default_dtype(eval(p.torch_default_dtype))"
   ]
  },
  {
   "cell_type": "code",
   "execution_count": 8,
   "id": "b5fba671",
   "metadata": {
    "execution": {
     "iopub.execute_input": "2022-03-20T07:13:18.854087Z",
     "iopub.status.busy": "2022-03-20T07:13:18.853828Z",
     "iopub.status.idle": "2022-03-20T07:13:18.890512Z",
     "shell.execute_reply": "2022-03-20T07:13:18.890919Z"
    },
    "papermill": {
     "duration": 0.051968,
     "end_time": "2022-03-20T07:13:18.891040",
     "exception": false,
     "start_time": "2022-03-20T07:13:18.839072",
     "status": "completed"
    },
    "tags": []
   },
   "outputs": [],
   "source": [
    "###################################\n",
    "# Build the network(s)\n",
    "# Note: It's critical to do this AFTER setting the RNG\n",
    "###################################\n",
    "x_net = build_sequential(p.x_net)"
   ]
  },
  {
   "cell_type": "code",
   "execution_count": 9,
   "id": "5d7e61cc",
   "metadata": {
    "execution": {
     "iopub.execute_input": "2022-03-20T07:13:18.924843Z",
     "iopub.status.busy": "2022-03-20T07:13:18.924587Z",
     "iopub.status.idle": "2022-03-20T07:13:18.935530Z",
     "shell.execute_reply": "2022-03-20T07:13:18.935742Z"
    },
    "papermill": {
     "duration": 0.026449,
     "end_time": "2022-03-20T07:13:18.935806",
     "exception": false,
     "start_time": "2022-03-20T07:13:18.909357",
     "status": "completed"
    },
    "tags": []
   },
   "outputs": [],
   "source": [
    "start_time_secs = time.time()"
   ]
  },
  {
   "cell_type": "code",
   "execution_count": 10,
   "id": "c6b67dfd",
   "metadata": {
    "execution": {
     "iopub.execute_input": "2022-03-20T07:13:18.976443Z",
     "iopub.status.busy": "2022-03-20T07:13:18.976179Z",
     "iopub.status.idle": "2022-03-20T07:13:18.991087Z",
     "shell.execute_reply": "2022-03-20T07:13:18.990624Z"
    },
    "papermill": {
     "duration": 0.037454,
     "end_time": "2022-03-20T07:13:18.991193",
     "exception": false,
     "start_time": "2022-03-20T07:13:18.953739",
     "status": "completed"
    },
    "tags": []
   },
   "outputs": [],
   "source": [
    "p.domains_source = []\n",
    "p.domains_target = []\n",
    "\n",
    "\n",
    "train_original_source = []\n",
    "val_original_source   = []\n",
    "test_original_source  = []\n",
    "\n",
    "train_original_target = []\n",
    "val_original_target   = []\n",
    "test_original_target  = []"
   ]
  },
  {
   "cell_type": "code",
   "execution_count": 11,
   "id": "e3d9c3d3",
   "metadata": {
    "execution": {
     "iopub.execute_input": "2022-03-20T07:13:19.026775Z",
     "iopub.status.busy": "2022-03-20T07:13:19.026517Z",
     "iopub.status.idle": "2022-03-20T07:13:19.041864Z",
     "shell.execute_reply": "2022-03-20T07:13:19.042301Z"
    },
    "papermill": {
     "duration": 0.031453,
     "end_time": "2022-03-20T07:13:19.042440",
     "exception": false,
     "start_time": "2022-03-20T07:13:19.010987",
     "status": "completed"
    },
    "tags": []
   },
   "outputs": [],
   "source": [
    "# global_x_transform_func = lambda x: normalize(x.to(torch.get_default_dtype()), \"unit_power\") # unit_power, unit_mag\n",
    "# global_x_transform_func = lambda x: normalize(x, \"unit_power\") # unit_power, unit_mag"
   ]
  },
  {
   "cell_type": "code",
   "execution_count": 12,
   "id": "acb78fd2",
   "metadata": {
    "execution": {
     "iopub.execute_input": "2022-03-20T07:13:19.078506Z",
     "iopub.status.busy": "2022-03-20T07:13:19.077554Z",
     "iopub.status.idle": "2022-03-20T07:13:19.089957Z",
     "shell.execute_reply": "2022-03-20T07:13:19.090268Z"
    },
    "papermill": {
     "duration": 0.033395,
     "end_time": "2022-03-20T07:13:19.090372",
     "exception": false,
     "start_time": "2022-03-20T07:13:19.056977",
     "status": "completed"
    },
    "tags": []
   },
   "outputs": [],
   "source": [
    "def add_dataset(\n",
    "    labels,\n",
    "    domains,\n",
    "    pickle_path,\n",
    "    x_transforms,\n",
    "    episode_transforms,\n",
    "    domain_prefix,\n",
    "    num_examples_per_domain_per_label,\n",
    "    source_or_target_dataset:str,\n",
    "    iterator_seed=p.seed,\n",
    "    dataset_seed=p.dataset_seed,\n",
    "    n_shot=p.n_shot,\n",
    "    n_way=p.n_way,\n",
    "    n_query=p.n_query,\n",
    "    train_val_test_k_factors=(p.train_k_factor,p.val_k_factor,p.test_k_factor),\n",
    "):\n",
    "   \n",
    "    if x_transforms == []: x_transform = None\n",
    "    else: x_transform = get_chained_transform(x_transforms)\n",
    "    \n",
    "    if episode_transforms == []: episode_transform = None\n",
    "    else: raise Exception(\"episode_transforms not implemented\")\n",
    "    \n",
    "    episode_transform = lambda tup, _prefix=domain_prefix: (_prefix + str(tup[0]), tup[1])\n",
    "\n",
    "\n",
    "    eaf = Episodic_Accessor_Factory(\n",
    "        labels=labels,\n",
    "        domains=domains,\n",
    "        num_examples_per_domain_per_label=num_examples_per_domain_per_label,\n",
    "        iterator_seed=iterator_seed,\n",
    "        dataset_seed=dataset_seed,\n",
    "        n_shot=n_shot,\n",
    "        n_way=n_way,\n",
    "        n_query=n_query,\n",
    "        train_val_test_k_factors=train_val_test_k_factors,\n",
    "        pickle_path=pickle_path,\n",
    "        x_transform_func=x_transform,\n",
    "    )\n",
    "\n",
    "    train, val, test = eaf.get_train(), eaf.get_val(), eaf.get_test()\n",
    "    train = Lazy_Iterable_Wrapper(train, episode_transform)\n",
    "    val = Lazy_Iterable_Wrapper(val, episode_transform)\n",
    "    test = Lazy_Iterable_Wrapper(test, episode_transform)\n",
    "\n",
    "    if source_or_target_dataset==\"source\":\n",
    "        train_original_source.append(train)\n",
    "        val_original_source.append(val)\n",
    "        test_original_source.append(test)\n",
    "\n",
    "        p.domains_source.extend(\n",
    "            [domain_prefix + str(u) for u in domains]\n",
    "        )\n",
    "    elif source_or_target_dataset==\"target\":\n",
    "        train_original_target.append(train)\n",
    "        val_original_target.append(val)\n",
    "        test_original_target.append(test)\n",
    "        p.domains_target.extend(\n",
    "            [domain_prefix + str(u) for u in domains]\n",
    "        )\n",
    "    else:\n",
    "        raise Exception(f\"invalid source_or_target_dataset: {source_or_target_dataset}\")\n",
    "    "
   ]
  },
  {
   "cell_type": "code",
   "execution_count": 13,
   "id": "fe266617",
   "metadata": {
    "execution": {
     "iopub.execute_input": "2022-03-20T07:13:19.123433Z",
     "iopub.status.busy": "2022-03-20T07:13:19.123150Z",
     "iopub.status.idle": "2022-03-20T07:14:07.033555Z",
     "shell.execute_reply": "2022-03-20T07:14:07.033300Z"
    },
    "papermill": {
     "duration": 47.926488,
     "end_time": "2022-03-20T07:14:07.033619",
     "exception": false,
     "start_time": "2022-03-20T07:13:19.107131",
     "status": "completed"
    },
    "tags": []
   },
   "outputs": [],
   "source": [
    "for ds in p.datasets:\n",
    "    add_dataset(**ds)"
   ]
  },
  {
   "cell_type": "code",
   "execution_count": 14,
   "id": "b90d65ac",
   "metadata": {
    "execution": {
     "iopub.execute_input": "2022-03-20T07:14:07.069510Z",
     "iopub.status.busy": "2022-03-20T07:14:07.069236Z",
     "iopub.status.idle": "2022-03-20T07:14:07.076319Z",
     "shell.execute_reply": "2022-03-20T07:14:07.076720Z"
    },
    "papermill": {
     "duration": 0.028589,
     "end_time": "2022-03-20T07:14:07.076845",
     "exception": false,
     "start_time": "2022-03-20T07:14:07.048256",
     "status": "completed"
    },
    "tags": []
   },
   "outputs": [],
   "source": [
    "# from steves_utils.CORES.utils import (\n",
    "#     ALL_NODES,\n",
    "#     ALL_NODES_MINIMUM_1000_EXAMPLES,\n",
    "#     ALL_DAYS\n",
    "# )\n",
    "\n",
    "# add_dataset(\n",
    "#     labels=ALL_NODES,\n",
    "#     domains = ALL_DAYS,\n",
    "#     num_examples_per_domain_per_label=100,\n",
    "#     pickle_path=os.path.join(get_datasets_base_path(), \"cores.stratified_ds.2022A.pkl\"),\n",
    "#     source_or_target_dataset=\"target\",\n",
    "#     x_transform_func=global_x_transform_func,\n",
    "#     domain_modifier=lambda u: f\"cores_{u}\"\n",
    "# )"
   ]
  },
  {
   "cell_type": "code",
   "execution_count": 15,
   "id": "76db484d",
   "metadata": {
    "execution": {
     "iopub.execute_input": "2022-03-20T07:14:07.112843Z",
     "iopub.status.busy": "2022-03-20T07:14:07.112579Z",
     "iopub.status.idle": "2022-03-20T07:14:07.129744Z",
     "shell.execute_reply": "2022-03-20T07:14:07.129238Z"
    },
    "papermill": {
     "duration": 0.033307,
     "end_time": "2022-03-20T07:14:07.129848",
     "exception": false,
     "start_time": "2022-03-20T07:14:07.096541",
     "status": "completed"
    },
    "tags": []
   },
   "outputs": [],
   "source": [
    "# from steves_utils.ORACLE.utils_v2 import (\n",
    "#     ALL_DISTANCES_FEET,\n",
    "#     ALL_RUNS,\n",
    "#     ALL_SERIAL_NUMBERS,\n",
    "# )\n",
    "\n",
    "\n",
    "# add_dataset(\n",
    "#     labels=ALL_SERIAL_NUMBERS,\n",
    "#     domains = list(set(ALL_DISTANCES_FEET) - {2,62}),\n",
    "#     num_examples_per_domain_per_label=100,\n",
    "#     pickle_path=os.path.join(get_datasets_base_path(), \"oracle.Run2_framed_2000Examples_stratified_ds.2022A.pkl\"),\n",
    "#     source_or_target_dataset=\"source\",\n",
    "#     x_transform_func=global_x_transform_func,\n",
    "#     domain_modifier=lambda u: f\"oracle1_{u}\"\n",
    "# )\n"
   ]
  },
  {
   "cell_type": "code",
   "execution_count": 16,
   "id": "97dea9d2",
   "metadata": {
    "execution": {
     "iopub.execute_input": "2022-03-20T07:14:07.165649Z",
     "iopub.status.busy": "2022-03-20T07:14:07.165387Z",
     "iopub.status.idle": "2022-03-20T07:14:07.180797Z",
     "shell.execute_reply": "2022-03-20T07:14:07.180307Z"
    },
    "papermill": {
     "duration": 0.031674,
     "end_time": "2022-03-20T07:14:07.180901",
     "exception": false,
     "start_time": "2022-03-20T07:14:07.149227",
     "status": "completed"
    },
    "tags": []
   },
   "outputs": [],
   "source": [
    "# from steves_utils.ORACLE.utils_v2 import (\n",
    "#     ALL_DISTANCES_FEET,\n",
    "#     ALL_RUNS,\n",
    "#     ALL_SERIAL_NUMBERS,\n",
    "# )\n",
    "\n",
    "\n",
    "# add_dataset(\n",
    "#     labels=ALL_SERIAL_NUMBERS,\n",
    "#     domains = list(set(ALL_DISTANCES_FEET) - {2,62,56}),\n",
    "#     num_examples_per_domain_per_label=100,\n",
    "#     pickle_path=os.path.join(get_datasets_base_path(), \"oracle.Run2_framed_2000Examples_stratified_ds.2022A.pkl\"),\n",
    "#     source_or_target_dataset=\"source\",\n",
    "#     x_transform_func=global_x_transform_func,\n",
    "#     domain_modifier=lambda u: f\"oracle2_{u}\"\n",
    "# )"
   ]
  },
  {
   "cell_type": "code",
   "execution_count": 17,
   "id": "6f289866",
   "metadata": {
    "execution": {
     "iopub.execute_input": "2022-03-20T07:14:07.218089Z",
     "iopub.status.busy": "2022-03-20T07:14:07.217822Z",
     "iopub.status.idle": "2022-03-20T07:14:07.231366Z",
     "shell.execute_reply": "2022-03-20T07:14:07.230839Z"
    },
    "papermill": {
     "duration": 0.030648,
     "end_time": "2022-03-20T07:14:07.231470",
     "exception": false,
     "start_time": "2022-03-20T07:14:07.200822",
     "status": "completed"
    },
    "tags": []
   },
   "outputs": [],
   "source": [
    "# add_dataset(\n",
    "#     labels=list(range(19)),\n",
    "#     domains = [0,1,2],\n",
    "#     num_examples_per_domain_per_label=100,\n",
    "#     pickle_path=os.path.join(get_datasets_base_path(), \"metehan.stratified_ds.2022A.pkl\"),\n",
    "#     source_or_target_dataset=\"target\",\n",
    "#     x_transform_func=global_x_transform_func,\n",
    "#     domain_modifier=lambda u: f\"met_{u}\"\n",
    "# )"
   ]
  },
  {
   "cell_type": "code",
   "execution_count": 18,
   "id": "86a863c3",
   "metadata": {
    "execution": {
     "iopub.execute_input": "2022-03-20T07:14:07.268628Z",
     "iopub.status.busy": "2022-03-20T07:14:07.268361Z",
     "iopub.status.idle": "2022-03-20T07:14:07.284295Z",
     "shell.execute_reply": "2022-03-20T07:14:07.283798Z"
    },
    "papermill": {
     "duration": 0.032599,
     "end_time": "2022-03-20T07:14:07.284398",
     "exception": false,
     "start_time": "2022-03-20T07:14:07.251799",
     "status": "completed"
    },
    "tags": []
   },
   "outputs": [],
   "source": [
    "# # from steves_utils.wisig.utils import (\n",
    "# #     ALL_NODES_MINIMUM_100_EXAMPLES,\n",
    "# #     ALL_NODES_MINIMUM_500_EXAMPLES,\n",
    "# #     ALL_NODES_MINIMUM_1000_EXAMPLES,\n",
    "# #     ALL_DAYS\n",
    "# # )\n",
    "\n",
    "# import steves_utils.wisig.utils as wisig\n",
    "\n",
    "\n",
    "# add_dataset(\n",
    "#     labels=wisig.ALL_NODES_MINIMUM_100_EXAMPLES,\n",
    "#     domains = wisig.ALL_DAYS,\n",
    "#     num_examples_per_domain_per_label=100,\n",
    "#     pickle_path=os.path.join(get_datasets_base_path(), \"wisig.node3-19.stratified_ds.2022A.pkl\"),\n",
    "#     source_or_target_dataset=\"target\",\n",
    "#     x_transform_func=global_x_transform_func,\n",
    "#     domain_modifier=lambda u: f\"wisig_{u}\"\n",
    "# )"
   ]
  },
  {
   "cell_type": "code",
   "execution_count": 19,
   "id": "fd5442bc",
   "metadata": {
    "execution": {
     "iopub.execute_input": "2022-03-20T07:14:07.323906Z",
     "iopub.status.busy": "2022-03-20T07:14:07.323632Z",
     "iopub.status.idle": "2022-03-20T07:14:07.337064Z",
     "shell.execute_reply": "2022-03-20T07:14:07.336620Z"
    },
    "papermill": {
     "duration": 0.033089,
     "end_time": "2022-03-20T07:14:07.337169",
     "exception": false,
     "start_time": "2022-03-20T07:14:07.304080",
     "status": "completed"
    },
    "tags": []
   },
   "outputs": [],
   "source": [
    "###################################\n",
    "# Build the dataset\n",
    "###################################\n",
    "train_original_source = Iterable_Aggregator(train_original_source, p.seed)\n",
    "val_original_source = Iterable_Aggregator(val_original_source, p.seed)\n",
    "test_original_source = Iterable_Aggregator(test_original_source, p.seed)\n",
    "\n",
    "\n",
    "train_original_target = Iterable_Aggregator(train_original_target, p.seed)\n",
    "val_original_target = Iterable_Aggregator(val_original_target, p.seed)\n",
    "test_original_target = Iterable_Aggregator(test_original_target, p.seed)\n",
    "\n",
    "# For CNN We only use X and Y. And we only train on the source.\n",
    "# Properly form the data using a transform lambda and Lazy_Iterable_Wrapper. Finally wrap them in a dataloader\n",
    "\n",
    "transform_lambda = lambda ex: ex[1] # Original is (<domain>, <episode>) so we strip down to episode only\n",
    "\n",
    "train_processed_source = Lazy_Iterable_Wrapper(train_original_source, transform_lambda)\n",
    "val_processed_source   = Lazy_Iterable_Wrapper(val_original_source, transform_lambda)\n",
    "test_processed_source  = Lazy_Iterable_Wrapper(test_original_source, transform_lambda)\n",
    "\n",
    "train_processed_target = Lazy_Iterable_Wrapper(train_original_target, transform_lambda)\n",
    "val_processed_target   = Lazy_Iterable_Wrapper(val_original_target, transform_lambda)\n",
    "test_processed_target  = Lazy_Iterable_Wrapper(test_original_target, transform_lambda)\n",
    "\n",
    "datasets = EasyDict({\n",
    "    \"source\": {\n",
    "        \"original\": {\"train\":train_original_source, \"val\":val_original_source, \"test\":test_original_source},\n",
    "        \"processed\": {\"train\":train_processed_source, \"val\":val_processed_source, \"test\":test_processed_source}\n",
    "    },\n",
    "    \"target\": {\n",
    "        \"original\": {\"train\":train_original_target, \"val\":val_original_target, \"test\":test_original_target},\n",
    "        \"processed\": {\"train\":train_processed_target, \"val\":val_processed_target, \"test\":test_processed_target}\n",
    "    },\n",
    "})"
   ]
  },
  {
   "cell_type": "code",
   "execution_count": 20,
   "id": "5b3c01fc",
   "metadata": {
    "execution": {
     "iopub.execute_input": "2022-03-20T07:14:07.374304Z",
     "iopub.status.busy": "2022-03-20T07:14:07.374033Z",
     "iopub.status.idle": "2022-03-20T07:14:17.055531Z",
     "shell.execute_reply": "2022-03-20T07:14:17.055859Z"
    },
    "papermill": {
     "duration": 9.698966,
     "end_time": "2022-03-20T07:14:17.055970",
     "exception": false,
     "start_time": "2022-03-20T07:14:07.357004",
     "status": "completed"
    },
    "tags": []
   },
   "outputs": [
    {
     "name": "stdout",
     "output_type": "stream",
     "text": [
      "{'C_5', 'W_4', 'C_3', 'W_2', 'C_4', 'C_1', 'W_1', 'W_3', 'C_2'}\n"
     ]
    },
    {
     "name": "stdout",
     "output_type": "stream",
     "text": [
      "{'O_14', 'O_26', 'O_8', 'O_38', 'O_20', 'O_32', 'O_50', 'O_44'}\n"
     ]
    },
    {
     "name": "stdout",
     "output_type": "stream",
     "text": [
      "tensor([[[-0.6096, -0.3575,  1.3054,  ..., -0.0319, -0.4341,  0.3543],\n",
      "         [ 0.2809, -1.0565, -0.6001,  ...,  0.2617,  0.1915, -1.4172]],\n",
      "\n",
      "        [[-0.2739,  0.1879,  1.3725,  ...,  0.1943, -0.4076,  0.2675],\n",
      "         [ 0.0159, -0.7993,  0.3216,  ...,  0.0955, -0.1911, -0.2356]],\n",
      "\n",
      "        [[ 0.3657, -1.2910, -0.7981,  ...,  0.8490,  0.5469, -0.8267],\n",
      "         [ 1.3768,  0.2703, -0.7536,  ...,  0.5437,  1.4818,  0.2544]],\n",
      "\n",
      "        ...,\n",
      "\n",
      "        [[-0.2034,  0.2271,  0.5356,  ...,  0.2881, -0.3458,  1.1153],\n",
      "         [ 0.5559,  0.5898, -0.1322,  ...,  0.0441,  0.2881,  0.2814]],\n",
      "\n",
      "        [[-0.0036,  0.3244, -0.1895,  ..., -0.7144, -0.6197,  0.3718],\n",
      "         [-0.0474, -0.5322, -0.5942,  ..., -0.9623,  0.1130, -0.2552]],\n",
      "\n",
      "        [[-0.1316,  0.1316,  0.2148,  ...,  0.1974, -0.9664, -0.9006],\n",
      "         [-0.0485,  0.0312,  0.0173,  ..., -1.3439, -1.0946,  0.8140]]])\n"
     ]
    }
   ],
   "source": [
    "from steves_utils.transforms import get_average_magnitude, get_average_power\n",
    "\n",
    "print(set([u for u,_ in val_original_source]))\n",
    "print(set([u for u,_ in val_original_target]))\n",
    "\n",
    "s_x, s_y, q_x, q_y, _ = next(iter(train_processed_source))\n",
    "print(s_x)\n",
    "\n",
    "# for ds in [\n",
    "#     train_processed_source,\n",
    "#     val_processed_source,\n",
    "#     test_processed_source,\n",
    "#     train_processed_target,\n",
    "#     val_processed_target,\n",
    "#     test_processed_target\n",
    "# ]:\n",
    "#     for s_x, s_y, q_x, q_y, _ in ds:\n",
    "#         for X in (s_x, q_x):\n",
    "#             for x in X:\n",
    "#                 assert np.isclose(get_average_magnitude(x.numpy()), 1.0)\n",
    "#                 assert np.isclose(get_average_power(x.numpy()), 1.0)\n",
    "                "
   ]
  },
  {
   "cell_type": "code",
   "execution_count": 21,
   "id": "bbdacba1",
   "metadata": {
    "execution": {
     "iopub.execute_input": "2022-03-20T07:14:17.097576Z",
     "iopub.status.busy": "2022-03-20T07:14:17.097180Z",
     "iopub.status.idle": "2022-03-20T07:14:17.157529Z",
     "shell.execute_reply": "2022-03-20T07:14:17.157079Z"
    },
    "papermill": {
     "duration": 0.079395,
     "end_time": "2022-03-20T07:14:17.157636",
     "exception": false,
     "start_time": "2022-03-20T07:14:17.078241",
     "status": "completed"
    },
    "tags": []
   },
   "outputs": [
    {
     "name": "stdout",
     "output_type": "stream",
     "text": [
      "(2, 256)\n"
     ]
    }
   ],
   "source": [
    "###################################\n",
    "# Build the model\n",
    "###################################\n",
    "# easfsl only wants a tuple for the shape\n",
    "model = Steves_Prototypical_Network(x_net, device=p.device, x_shape=tuple(p.x_shape))\n",
    "optimizer = Adam(params=model.parameters(), lr=p.lr)"
   ]
  },
  {
   "cell_type": "code",
   "execution_count": 22,
   "id": "22b39ac5",
   "metadata": {
    "execution": {
     "iopub.execute_input": "2022-03-20T07:14:17.195941Z",
     "iopub.status.busy": "2022-03-20T07:14:17.195666Z",
     "iopub.status.idle": "2022-03-20T08:06:03.935012Z",
     "shell.execute_reply": "2022-03-20T08:06:03.934778Z"
    },
    "papermill": {
     "duration": 3106.756799,
     "end_time": "2022-03-20T08:06:03.935072",
     "exception": false,
     "start_time": "2022-03-20T07:14:17.178273",
     "status": "completed"
    },
    "tags": []
   },
   "outputs": [
    {
     "name": "stdout",
     "output_type": "stream",
     "text": [
      "epoch: 1, [batch: 1 / 13145], examples_per_second: 22.6605, train_label_loss: 2.6399, \n"
     ]
    },
    {
     "name": "stdout",
     "output_type": "stream",
     "text": [
      "epoch: 1, [batch: 1315 / 13145], examples_per_second: 2117.2396, train_label_loss: 0.1218, \n"
     ]
    },
    {
     "name": "stdout",
     "output_type": "stream",
     "text": [
      "epoch: 1, [batch: 2629 / 13145], examples_per_second: 1725.3529, train_label_loss: 0.0041, \n"
     ]
    },
    {
     "name": "stdout",
     "output_type": "stream",
     "text": [
      "epoch: 1, [batch: 3944 / 13145], examples_per_second: 1725.4833, train_label_loss: 0.0826, \n"
     ]
    },
    {
     "name": "stdout",
     "output_type": "stream",
     "text": [
      "epoch: 1, [batch: 5258 / 13145], examples_per_second: 1724.0841, train_label_loss: 0.0015, \n"
     ]
    },
    {
     "name": "stdout",
     "output_type": "stream",
     "text": [
      "epoch: 1, [batch: 6573 / 13145], examples_per_second: 1727.6193, train_label_loss: 0.0881, \n"
     ]
    },
    {
     "name": "stdout",
     "output_type": "stream",
     "text": [
      "epoch: 1, [batch: 7887 / 13145], examples_per_second: 1724.8289, train_label_loss: 0.0871, \n"
     ]
    },
    {
     "name": "stdout",
     "output_type": "stream",
     "text": [
      "epoch: 1, [batch: 9201 / 13145], examples_per_second: 1720.9812, train_label_loss: 0.4621, \n"
     ]
    },
    {
     "name": "stdout",
     "output_type": "stream",
     "text": [
      "epoch: 1, [batch: 10516 / 13145], examples_per_second: 1729.2885, train_label_loss: 0.0374, \n"
     ]
    },
    {
     "name": "stdout",
     "output_type": "stream",
     "text": [
      "epoch: 1, [batch: 11830 / 13145], examples_per_second: 1727.6335, train_label_loss: 0.0012, \n"
     ]
    },
    {
     "name": "stdout",
     "output_type": "stream",
     "text": [
      "=============================================================\n",
      "epoch: 1, source_val_acc_label: 0.9810, target_val_acc_label: 0.2001, source_val_label_loss: 0.0905, target_val_label_loss: 2.4660, \n",
      "=============================================================\n"
     ]
    },
    {
     "name": "stdout",
     "output_type": "stream",
     "text": [
      "New best\n"
     ]
    },
    {
     "name": "stdout",
     "output_type": "stream",
     "text": [
      "epoch: 2, [batch: 1 / 13179], examples_per_second: 1.4809, train_label_loss: 0.0215, \n"
     ]
    },
    {
     "name": "stdout",
     "output_type": "stream",
     "text": [
      "epoch: 2, [batch: 1318 / 13179], examples_per_second: 2089.3528, train_label_loss: 0.0035, \n"
     ]
    },
    {
     "name": "stdout",
     "output_type": "stream",
     "text": [
      "epoch: 2, [batch: 2636 / 13179], examples_per_second: 1737.7560, train_label_loss: 0.0004, \n"
     ]
    },
    {
     "name": "stdout",
     "output_type": "stream",
     "text": [
      "epoch: 2, [batch: 3954 / 13179], examples_per_second: 1738.9960, train_label_loss: 0.0844, \n"
     ]
    },
    {
     "name": "stdout",
     "output_type": "stream",
     "text": [
      "epoch: 2, [batch: 5272 / 13179], examples_per_second: 1735.6334, train_label_loss: 0.0469, \n"
     ]
    },
    {
     "name": "stdout",
     "output_type": "stream",
     "text": [
      "epoch: 2, [batch: 6590 / 13179], examples_per_second: 1742.2950, train_label_loss: 0.0003, \n"
     ]
    },
    {
     "name": "stdout",
     "output_type": "stream",
     "text": [
      "epoch: 2, [batch: 7907 / 13179], examples_per_second: 1740.8800, train_label_loss: 0.0018, \n"
     ]
    },
    {
     "name": "stdout",
     "output_type": "stream",
     "text": [
      "epoch: 2, [batch: 9225 / 13179], examples_per_second: 1734.9561, train_label_loss: 0.0364, \n"
     ]
    },
    {
     "name": "stdout",
     "output_type": "stream",
     "text": [
      "epoch: 2, [batch: 10543 / 13179], examples_per_second: 1739.7594, train_label_loss: 0.3414, \n"
     ]
    },
    {
     "name": "stdout",
     "output_type": "stream",
     "text": [
      "epoch: 2, [batch: 11861 / 13179], examples_per_second: 1738.7712, train_label_loss: 0.0002, \n"
     ]
    },
    {
     "name": "stdout",
     "output_type": "stream",
     "text": [
      "=============================================================\n",
      "epoch: 2, source_val_acc_label: 0.9852, target_val_acc_label: 0.1931, source_val_label_loss: 0.0663, target_val_label_loss: 2.4998, \n",
      "=============================================================\n"
     ]
    },
    {
     "name": "stdout",
     "output_type": "stream",
     "text": [
      "epoch: 3, [batch: 1 / 13166], examples_per_second: 1.5023, train_label_loss: 0.1607, \n"
     ]
    },
    {
     "name": "stdout",
     "output_type": "stream",
     "text": [
      "epoch: 3, [batch: 1317 / 13166], examples_per_second: 2002.8057, train_label_loss: 0.0005, \n"
     ]
    },
    {
     "name": "stdout",
     "output_type": "stream",
     "text": [
      "epoch: 3, [batch: 2634 / 13166], examples_per_second: 1739.9085, train_label_loss: 0.1220, \n"
     ]
    },
    {
     "name": "stdout",
     "output_type": "stream",
     "text": [
      "epoch: 3, [batch: 3950 / 13166], examples_per_second: 1740.5641, train_label_loss: 0.0092, \n"
     ]
    },
    {
     "name": "stdout",
     "output_type": "stream",
     "text": [
      "epoch: 3, [batch: 5267 / 13166], examples_per_second: 1738.6515, train_label_loss: 0.0005, \n"
     ]
    },
    {
     "name": "stdout",
     "output_type": "stream",
     "text": [
      "epoch: 3, [batch: 6583 / 13166], examples_per_second: 1739.6934, train_label_loss: 0.0016, \n"
     ]
    },
    {
     "name": "stdout",
     "output_type": "stream",
     "text": [
      "epoch: 3, [batch: 7900 / 13166], examples_per_second: 1739.7913, train_label_loss: 0.0020, \n"
     ]
    },
    {
     "name": "stdout",
     "output_type": "stream",
     "text": [
      "epoch: 3, [batch: 9216 / 13166], examples_per_second: 1737.3514, train_label_loss: 0.0002, \n"
     ]
    },
    {
     "name": "stdout",
     "output_type": "stream",
     "text": [
      "epoch: 3, [batch: 10533 / 13166], examples_per_second: 1740.7696, train_label_loss: 0.2947, \n"
     ]
    },
    {
     "name": "stdout",
     "output_type": "stream",
     "text": [
      "epoch: 3, [batch: 11849 / 13166], examples_per_second: 1740.3753, train_label_loss: 0.0005, \n"
     ]
    },
    {
     "name": "stdout",
     "output_type": "stream",
     "text": [
      "=============================================================\n",
      "epoch: 3, source_val_acc_label: 0.9866, target_val_acc_label: 0.1890, source_val_label_loss: 0.0579, target_val_label_loss: 2.5392, \n",
      "=============================================================\n"
     ]
    },
    {
     "name": "stdout",
     "output_type": "stream",
     "text": [
      "epoch: 4, [batch: 1 / 13172], examples_per_second: 1.5233, train_label_loss: 0.0014, \n"
     ]
    },
    {
     "name": "stdout",
     "output_type": "stream",
     "text": [
      "epoch: 4, [batch: 1318 / 13172], examples_per_second: 2082.5708, train_label_loss: 0.1029, \n"
     ]
    },
    {
     "name": "stdout",
     "output_type": "stream",
     "text": [
      "epoch: 4, [batch: 2635 / 13172], examples_per_second: 2060.3737, train_label_loss: 0.0001, \n"
     ]
    },
    {
     "name": "stdout",
     "output_type": "stream",
     "text": [
      "epoch: 4, [batch: 3952 / 13172], examples_per_second: 2006.2444, train_label_loss: 0.0002, \n"
     ]
    },
    {
     "name": "stdout",
     "output_type": "stream",
     "text": [
      "epoch: 4, [batch: 5269 / 13172], examples_per_second: 2775.8188, train_label_loss: 0.1403, \n"
     ]
    },
    {
     "name": "stdout",
     "output_type": "stream",
     "text": [
      "epoch: 4, [batch: 6586 / 13172], examples_per_second: 3112.3393, train_label_loss: 0.0011, \n"
     ]
    },
    {
     "name": "stdout",
     "output_type": "stream",
     "text": [
      "epoch: 4, [batch: 7903 / 13172], examples_per_second: 3144.9154, train_label_loss: 0.1398, \n"
     ]
    },
    {
     "name": "stdout",
     "output_type": "stream",
     "text": [
      "epoch: 4, [batch: 9220 / 13172], examples_per_second: 2195.6728, train_label_loss: 0.1236, \n"
     ]
    },
    {
     "name": "stdout",
     "output_type": "stream",
     "text": [
      "epoch: 4, [batch: 10537 / 13172], examples_per_second: 1738.4087, train_label_loss: 0.0000, \n"
     ]
    },
    {
     "name": "stdout",
     "output_type": "stream",
     "text": [
      "epoch: 4, [batch: 11854 / 13172], examples_per_second: 1738.2234, train_label_loss: 0.0002, \n"
     ]
    },
    {
     "name": "stdout",
     "output_type": "stream",
     "text": [
      "=============================================================\n",
      "epoch: 4, source_val_acc_label: 0.9866, target_val_acc_label: 0.1580, source_val_label_loss: 0.0597, target_val_label_loss: 2.8255, \n",
      "=============================================================\n"
     ]
    },
    {
     "name": "stdout",
     "output_type": "stream",
     "text": [
      "epoch: 5, [batch: 1 / 13165], examples_per_second: 1.4743, train_label_loss: 0.0011, \n"
     ]
    },
    {
     "name": "stdout",
     "output_type": "stream",
     "text": [
      "epoch: 5, [batch: 1317 / 13165], examples_per_second: 1737.8084, train_label_loss: 0.0008, \n"
     ]
    },
    {
     "name": "stdout",
     "output_type": "stream",
     "text": [
      "epoch: 5, [batch: 2633 / 13165], examples_per_second: 1739.5848, train_label_loss: 0.0326, \n"
     ]
    },
    {
     "name": "stdout",
     "output_type": "stream",
     "text": [
      "epoch: 5, [batch: 3950 / 13165], examples_per_second: 1739.3788, train_label_loss: 0.0001, \n"
     ]
    },
    {
     "name": "stdout",
     "output_type": "stream",
     "text": [
      "epoch: 5, [batch: 5266 / 13165], examples_per_second: 1735.5550, train_label_loss: 0.0000, \n"
     ]
    },
    {
     "name": "stdout",
     "output_type": "stream",
     "text": [
      "epoch: 5, [batch: 6583 / 13165], examples_per_second: 1739.3818, train_label_loss: 0.0002, \n"
     ]
    },
    {
     "name": "stdout",
     "output_type": "stream",
     "text": [
      "epoch: 5, [batch: 7899 / 13165], examples_per_second: 1946.2406, train_label_loss: 0.0308, \n"
     ]
    },
    {
     "name": "stdout",
     "output_type": "stream",
     "text": [
      "epoch: 5, [batch: 9215 / 13165], examples_per_second: 1980.0158, train_label_loss: 0.0009, \n"
     ]
    },
    {
     "name": "stdout",
     "output_type": "stream",
     "text": [
      "epoch: 5, [batch: 10532 / 13165], examples_per_second: 1741.2501, train_label_loss: 0.0006, \n"
     ]
    },
    {
     "name": "stdout",
     "output_type": "stream",
     "text": [
      "epoch: 5, [batch: 11848 / 13165], examples_per_second: 1739.7432, train_label_loss: 0.0000, \n"
     ]
    },
    {
     "name": "stdout",
     "output_type": "stream",
     "text": [
      "=============================================================\n",
      "epoch: 5, source_val_acc_label: 0.9870, target_val_acc_label: 0.1461, source_val_label_loss: 0.0592, target_val_label_loss: 3.1545, \n",
      "=============================================================\n"
     ]
    },
    {
     "name": "stdout",
     "output_type": "stream",
     "text": [
      "Patience (3) exhausted\n"
     ]
    }
   ],
   "source": [
    "###################################\n",
    "# train\n",
    "###################################\n",
    "jig = PTN_Train_Eval_Test_Jig(model, p.BEST_MODEL_PATH, p.device)\n",
    "\n",
    "jig.train(\n",
    "    train_iterable=datasets.source.processed.train,\n",
    "    source_val_iterable=datasets.source.processed.val,\n",
    "    target_val_iterable=datasets.target.processed.val,\n",
    "    num_epochs=p.n_epoch,\n",
    "    num_logs_per_epoch=p.NUM_LOGS_PER_EPOCH,\n",
    "    patience=p.patience,\n",
    "    optimizer=optimizer,\n",
    "    criteria_for_best=p.criteria_for_best,\n",
    ")"
   ]
  },
  {
   "cell_type": "code",
   "execution_count": 23,
   "id": "31e8fabf",
   "metadata": {
    "execution": {
     "iopub.execute_input": "2022-03-20T08:06:03.987996Z",
     "iopub.status.busy": "2022-03-20T08:06:03.987743Z",
     "iopub.status.idle": "2022-03-20T08:06:04.007251Z",
     "shell.execute_reply": "2022-03-20T08:06:04.006733Z"
    },
    "papermill": {
     "duration": 0.047398,
     "end_time": "2022-03-20T08:06:04.007358",
     "exception": false,
     "start_time": "2022-03-20T08:06:03.959960",
     "status": "completed"
    },
    "tags": []
   },
   "outputs": [],
   "source": [
    "total_experiment_time_secs = time.time() - start_time_secs"
   ]
  },
  {
   "cell_type": "code",
   "execution_count": 24,
   "id": "87b9595b",
   "metadata": {
    "execution": {
     "iopub.execute_input": "2022-03-20T08:06:04.069861Z",
     "iopub.status.busy": "2022-03-20T08:06:04.069595Z",
     "iopub.status.idle": "2022-03-20T08:09:53.547776Z",
     "shell.execute_reply": "2022-03-20T08:09:53.548114Z"
    },
    "papermill": {
     "duration": 229.509504,
     "end_time": "2022-03-20T08:09:53.548236",
     "exception": false,
     "start_time": "2022-03-20T08:06:04.038732",
     "status": "completed"
    },
    "tags": []
   },
   "outputs": [],
   "source": [
    "###################################\n",
    "# Evaluate the model\n",
    "###################################\n",
    "source_test_label_accuracy, source_test_label_loss = jig.test(datasets.source.processed.test)\n",
    "target_test_label_accuracy, target_test_label_loss = jig.test(datasets.target.processed.test)\n",
    "\n",
    "source_val_label_accuracy, source_val_label_loss = jig.test(datasets.source.processed.val)\n",
    "target_val_label_accuracy, target_val_label_loss = jig.test(datasets.target.processed.val)\n",
    "\n",
    "history = jig.get_history()\n",
    "\n",
    "total_epochs_trained = len(history[\"epoch_indices\"])\n",
    "\n",
    "val_dl = Iterable_Aggregator((datasets.source.original.val,datasets.target.original.val))\n",
    "\n",
    "confusion = ptn_confusion_by_domain_over_dataloader(model, p.device, val_dl)\n",
    "per_domain_accuracy = per_domain_accuracy_from_confusion(confusion)\n",
    "\n",
    "# Add a key to per_domain_accuracy for if it was a source domain\n",
    "for domain, accuracy in per_domain_accuracy.items():\n",
    "    per_domain_accuracy[domain] = {\n",
    "        \"accuracy\": accuracy,\n",
    "        \"source?\": domain in p.domains_source\n",
    "    }\n",
    "\n",
    "# Do an independent accuracy assesment JUST TO BE SURE!\n",
    "# _source_test_label_accuracy = independent_accuracy_assesment(model, datasets.source.processed.test, p.device)\n",
    "# _target_test_label_accuracy = independent_accuracy_assesment(model, datasets.target.processed.test, p.device)\n",
    "# _source_val_label_accuracy = independent_accuracy_assesment(model, datasets.source.processed.val, p.device)\n",
    "# _target_val_label_accuracy = independent_accuracy_assesment(model, datasets.target.processed.val, p.device)\n",
    "\n",
    "# assert(_source_test_label_accuracy == source_test_label_accuracy)\n",
    "# assert(_target_test_label_accuracy == target_test_label_accuracy)\n",
    "# assert(_source_val_label_accuracy == source_val_label_accuracy)\n",
    "# assert(_target_val_label_accuracy == target_val_label_accuracy)\n",
    "\n",
    "experiment = {\n",
    "    \"experiment_name\": p.experiment_name,\n",
    "    \"parameters\": dict(p),\n",
    "    \"results\": {\n",
    "        \"source_test_label_accuracy\": source_test_label_accuracy,\n",
    "        \"source_test_label_loss\": source_test_label_loss,\n",
    "        \"target_test_label_accuracy\": target_test_label_accuracy,\n",
    "        \"target_test_label_loss\": target_test_label_loss,\n",
    "        \"source_val_label_accuracy\": source_val_label_accuracy,\n",
    "        \"source_val_label_loss\": source_val_label_loss,\n",
    "        \"target_val_label_accuracy\": target_val_label_accuracy,\n",
    "        \"target_val_label_loss\": target_val_label_loss,\n",
    "        \"total_epochs_trained\": total_epochs_trained,\n",
    "        \"total_experiment_time_secs\": total_experiment_time_secs,\n",
    "        \"confusion\": confusion,\n",
    "        \"per_domain_accuracy\": per_domain_accuracy,\n",
    "    },\n",
    "    \"history\": history,\n",
    "    \"dataset_metrics\": get_dataset_metrics(datasets, \"ptn\"),\n",
    "}"
   ]
  },
  {
   "cell_type": "code",
   "execution_count": 25,
   "id": "54a21829",
   "metadata": {
    "execution": {
     "iopub.execute_input": "2022-03-20T08:09:53.623713Z",
     "iopub.status.busy": "2022-03-20T08:09:53.623438Z",
     "iopub.status.idle": "2022-03-20T08:09:53.743433Z",
     "shell.execute_reply": "2022-03-20T08:09:53.743868Z"
    },
    "papermill": {
     "duration": 0.154781,
     "end_time": "2022-03-20T08:09:53.744007",
     "exception": false,
     "start_time": "2022-03-20T08:09:53.589226",
     "status": "completed"
    },
    "tags": []
   },
   "outputs": [
    {
     "data": {
      "image/png": "[encoded data removed]",
      "text/plain": [
       "<Figure size 1080x504 with 1 Axes>"
      ]
     },
     "metadata": {
      "needs_background": "light"
     },
     "output_type": "display_data"
    }
   ],
   "source": [
    "ax = get_loss_curve(experiment)\n",
    "plt.show()"
   ]
  },
  {
   "cell_type": "code",
   "execution_count": 26,
   "id": "fd8a0f60",
   "metadata": {
    "execution": {
     "iopub.execute_input": "2022-03-20T08:09:53.806010Z",
     "iopub.status.busy": "2022-03-20T08:09:53.805740Z",
     "iopub.status.idle": "2022-03-20T08:09:53.952848Z",
     "shell.execute_reply": "2022-03-20T08:09:53.953287Z"
    },
    "papermill": {
     "duration": 0.178682,
     "end_time": "2022-03-20T08:09:53.953426",
     "exception": false,
     "start_time": "2022-03-20T08:09:53.774744",
     "status": "completed"
    },
    "tags": []
   },
   "outputs": [
    {
     "data": {
      "text/plain": [
       "<AxesSubplot:title={'center':'Results'}>"
      ]
     },
     "execution_count": 26,
     "metadata": {},
     "output_type": "execute_result"
    },
    {
     "data": {
      "image/png": "[encoded data removed]",
      "text/plain": [
       "<Figure size 1080x504 with 1 Axes>"
      ]
     },
     "metadata": {
      "needs_background": "light"
     },
     "output_type": "display_data"
    }
   ],
   "source": [
    "get_results_table(experiment)"
   ]
  },
  {
   "cell_type": "code",
   "execution_count": 27,
   "id": "cf8dc689",
   "metadata": {
    "execution": {
     "iopub.execute_input": "2022-03-20T08:09:54.016910Z",
     "iopub.status.busy": "2022-03-20T08:09:54.016231Z",
     "iopub.status.idle": "2022-03-20T08:09:54.173319Z",
     "shell.execute_reply": "2022-03-20T08:09:54.173073Z"
    },
    "papermill": {
     "duration": 0.187826,
     "end_time": "2022-03-20T08:09:54.173382",
     "exception": false,
     "start_time": "2022-03-20T08:09:53.985556",
     "status": "completed"
    },
    "tags": []
   },
   "outputs": [
    {
     "data": {
      "text/plain": [
       "<AxesSubplot:title={'center':'Per Domain Validation Accuracy'}, xlabel='domain'>"
      ]
     },
     "execution_count": 27,
     "metadata": {},
     "output_type": "execute_result"
    },
    {
     "data": {
      "image/png": "[encoded data removed]",
      "text/plain": [
       "<Figure size 1080x504 with 1 Axes>"
      ]
     },
     "metadata": {
      "needs_background": "light"
     },
     "output_type": "display_data"
    }
   ],
   "source": [
    "get_domain_accuracies(experiment)"
   ]
  },
  {
   "cell_type": "code",
   "execution_count": 28,
   "id": "a74ae082",
   "metadata": {
    "execution": {
     "iopub.execute_input": "2022-03-20T08:09:54.236596Z",
     "iopub.status.busy": "2022-03-20T08:09:54.235495Z",
     "iopub.status.idle": "2022-03-20T08:09:54.249462Z",
     "shell.execute_reply": "2022-03-20T08:09:54.249921Z"
    },
    "papermill": {
     "duration": 0.048568,
     "end_time": "2022-03-20T08:09:54.250050",
     "exception": false,
     "start_time": "2022-03-20T08:09:54.201482",
     "status": "completed"
    },
    "tags": []
   },
   "outputs": [
    {
     "name": "stdout",
     "output_type": "stream",
     "text": [
      "Source Test Label Accuracy: 0.979087965461414 Target Test Label Accuracy: 0.20387369791666668\n",
      "Source Val Label Accuracy: 0.981047055586131 Target Val Label Accuracy: 0.20006510416666667\n"
     ]
    }
   ],
   "source": [
    "print(\"Source Test Label Accuracy:\", experiment[\"results\"][\"source_test_label_accuracy\"], \"Target Test Label Accuracy:\", experiment[\"results\"][\"target_test_label_accuracy\"])\n",
    "print(\"Source Val Label Accuracy:\", experiment[\"results\"][\"source_val_label_accuracy\"], \"Target Val Label Accuracy:\", experiment[\"results\"][\"target_val_label_accuracy\"])"
   ]
  },
  {
   "cell_type": "code",
   "execution_count": 29,
   "id": "dacca602",
   "metadata": {
    "execution": {
     "iopub.execute_input": "2022-03-20T08:09:54.311632Z",
     "iopub.status.busy": "2022-03-20T08:09:54.311103Z",
     "iopub.status.idle": "2022-03-20T08:09:54.331596Z",
     "shell.execute_reply": "2022-03-20T08:09:54.331902Z"
    },
    "papermill": {
     "duration": 0.050596,
     "end_time": "2022-03-20T08:09:54.331994",
     "exception": false,
     "start_time": "2022-03-20T08:09:54.281398",
     "status": "completed"
    },
    "tags": [
     "experiment_json"
    ]
   },
   "outputs": [
    {
     "data": {
      "text/plain": [
       "'{\"experiment_name\": \"tl_2v2:cores+wisig -> oracle.run1.framed\", \"parameters\": {\"experiment_name\": \"tl_2v2:cores+wisig -> oracle.run1.framed\", \"device\": \"cuda\", \"lr\": 0.0001, \"n_shot\": 3, \"n_query\": 2, \"train_k_factor\": 3, \"val_k_factor\": 2, \"test_k_factor\": 2, \"torch_default_dtype\": \"torch.float32\", \"n_epoch\": 50, \"patience\": 3, \"criteria_for_best\": \"target_accuracy\", \"x_net\": [{\"class\": \"nnReshape\", \"kargs\": {\"shape\": [-1, 1, 2, 256]}}, {\"class\": \"Conv2d\", \"kargs\": {\"in_channels\": 1, \"out_channels\": 256, \"kernel_size\": [1, 7], \"bias\": false, \"padding\": [0, 3]}}, {\"class\": \"ReLU\", \"kargs\": {\"inplace\": true}}, {\"class\": \"BatchNorm2d\", \"kargs\": {\"num_features\": 256}}, {\"class\": \"Conv2d\", \"kargs\": {\"in_channels\": 256, \"out_channels\": 80, \"kernel_size\": [2, 7], \"bias\": true, \"padding\": [0, 3]}}, {\"class\": \"ReLU\", \"kargs\": {\"inplace\": true}}, {\"class\": \"BatchNorm2d\", \"kargs\": {\"num_features\": 80}}, {\"class\": \"Flatten\", \"kargs\": {}}, {\"class\": \"Linear\", \"kargs\": {\"in_features\": 20480, \"out_features\": 256}}, {\"class\": \"ReLU\", \"kargs\": {\"inplace\": true}}, {\"class\": \"BatchNorm1d\", \"kargs\": {\"num_features\": 256}}, {\"class\": \"Linear\", \"kargs\": {\"in_features\": 256, \"out_features\": 256}}], \"NUM_LOGS_PER_EPOCH\": 10, \"BEST_MODEL_PATH\": \"./best_model.pth\", \"n_way\": 16, \"datasets\": [{\"labels\": [\"1-10.\", \"1-11.\", \"1-15.\", \"1-16.\", \"1-17.\", \"1-18.\", \"1-19.\", \"10-4.\", \"10-7.\", \"11-1.\", \"11-14.\", \"11-17.\", \"11-20.\", \"11-7.\", \"13-20.\", \"13-8.\", \"14-10.\", \"14-11.\", \"14-14.\", \"14-7.\", \"15-1.\", \"15-20.\", \"16-1.\", \"16-16.\", \"17-10.\", \"17-11.\", \"17-2.\", \"19-1.\", \"19-16.\", \"19-19.\", \"19-20.\", \"19-3.\", \"2-10.\", \"2-11.\", \"2-17.\", \"2-18.\", \"2-20.\", \"2-3.\", \"2-4.\", \"2-5.\", \"2-6.\", \"2-7.\", \"2-8.\", \"3-13.\", \"3-18.\", \"3-3.\", \"4-1.\", \"4-10.\", \"4-11.\", \"4-19.\", \"5-5.\", \"6-15.\", \"7-10.\", \"7-14.\", \"8-18.\", \"8-20.\", \"8-3.\", \"8-8.\"], \"domains\": [1, 2, 3, 4, 5], \"num_examples_per_domain_per_label\": -1, \"pickle_path\": \"/mnt/wd500GB/CSC500/csc500-main/datasets/cores.stratified_ds.2022A.pkl\", \"source_or_target_dataset\": \"source\", \"x_transforms\": [\"unit_mag\"], \"episode_transforms\": [], \"domain_prefix\": \"C_\"}, {\"labels\": [\"1-10\", \"1-12\", \"1-14\", \"1-16\", \"1-18\", \"1-19\", \"1-8\", \"10-11\", \"10-17\", \"10-4\", \"10-7\", \"11-1\", \"11-10\", \"11-19\", \"11-20\", \"11-4\", \"11-7\", \"12-19\", \"12-20\", \"12-7\", \"13-14\", \"13-18\", \"13-19\", \"13-20\", \"13-3\", \"13-7\", \"14-10\", \"14-11\", \"14-12\", \"14-13\", \"14-14\", \"14-19\", \"14-20\", \"14-7\", \"14-8\", \"14-9\", \"15-1\", \"15-19\", \"15-6\", \"16-1\", \"16-16\", \"16-19\", \"16-20\", \"17-10\", \"17-11\", \"18-1\", \"18-10\", \"18-11\", \"18-12\", \"18-13\", \"18-14\", \"18-15\", \"18-16\", \"18-17\", \"18-19\", \"18-2\", \"18-20\", \"18-4\", \"18-5\", \"18-7\", \"18-8\", \"18-9\", \"19-1\", \"19-10\", \"19-11\", \"19-12\", \"19-13\", \"19-14\", \"19-15\", \"19-19\", \"19-2\", \"19-20\", \"19-3\", \"19-4\", \"19-6\", \"19-7\", \"19-8\", \"19-9\", \"2-1\", \"2-13\", \"2-15\", \"2-3\", \"2-4\", \"2-5\", \"2-6\", \"2-7\", \"2-8\", \"20-1\", \"20-12\", \"20-14\", \"20-15\", \"20-16\", \"20-18\", \"20-19\", \"20-20\", \"20-3\", \"20-4\", \"20-5\", \"20-7\", \"20-8\", \"3-1\", \"3-13\", \"3-18\", \"3-2\", \"3-8\", \"4-1\", \"4-10\", \"4-11\", \"5-1\", \"5-5\", \"6-1\", \"6-15\", \"6-6\", \"7-10\", \"7-11\", \"7-12\", \"7-13\", \"7-14\", \"7-7\", \"7-8\", \"7-9\", \"8-1\", \"8-13\", \"8-14\", \"8-18\", \"8-20\", \"8-3\", \"8-8\", \"9-1\", \"9-7\"], \"domains\": [1, 2, 3, 4], \"num_examples_per_domain_per_label\": -1, \"pickle_path\": \"/mnt/wd500GB/CSC500/csc500-main/datasets/wisig.node3-19.stratified_ds.2022A.pkl\", \"source_or_target_dataset\": \"source\", \"x_transforms\": [\"unit_mag\"], \"episode_transforms\": [], \"domain_prefix\": \"W_\"}, {\"labels\": [\"3123D52\", \"3123D65\", \"3123D79\", \"3123D80\", \"3123D54\", \"3123D70\", \"3123D7B\", \"3123D89\", \"3123D58\", \"3123D76\", \"3123D7D\", \"3123EFE\", \"3123D64\", \"3123D78\", \"3123D7E\", \"3124E4A\"], \"domains\": [32, 38, 8, 44, 14, 50, 20, 26], \"num_examples_per_domain_per_label\": 2000, \"pickle_path\": \"/mnt/wd500GB/CSC500/csc500-main/datasets/oracle.Run1_framed_2000Examples_stratified_ds.2022A.pkl\", \"source_or_target_dataset\": \"target\", \"x_transforms\": [\"unit_mag\"], \"episode_transforms\": [], \"domain_prefix\": \"O_\"}], \"seed\": 154325, \"dataset_seed\": 154325, \"x_shape\": [2, 256], \"domains_source\": [\"C_1\", \"C_2\", \"C_3\", \"C_4\", \"C_5\", \"W_1\", \"W_2\", \"W_3\", \"W_4\"], \"domains_target\": [\"O_32\", \"O_38\", \"O_8\", \"O_44\", \"O_14\", \"O_50\", \"O_20\", \"O_26\"]}, \"results\": {\"source_test_label_accuracy\": 0.979087965461414, \"source_test_label_loss\": 0.09900883585214615, \"target_test_label_accuracy\": 0.20387369791666668, \"target_test_label_loss\": 2.4661171436309814, \"source_val_label_accuracy\": 0.981047055586131, \"source_val_label_loss\": 0.09052333980798721, \"target_val_label_accuracy\": 0.20006510416666667, \"target_val_label_loss\": 2.4659667015075684, \"total_epochs_trained\": 5, \"total_experiment_time_secs\": 3165.0707261562347, \"confusion\": {\"C_2\": {\"21\": {\"21\": 120}, \"4\": {\"4\": 130}, \"6\": {\"6\": 124}, \"10\": {\"10\": 112}, \"33\": {\"33\": 28}, \"56\": {\"56\": 122}, \"20\": {\"20\": 132}, \"24\": {\"24\": 96}, \"45\": {\"45\": 128}, \"32\": {\"32\": 28}, \"27\": {\"27\": 148}, \"53\": {\"53\": 136}, \"8\": {\"8\": 160}, \"54\": {\"54\": 108}, \"50\": {\"50\": 134}, \"44\": {\"44\": 100}, \"5\": {\"5\": 120}, \"38\": {\"38\": 20}, \"19\": {\"19\": 132}, \"1\": {\"1\": 112}, \"30\": {\"30\": 144}, \"15\": {\"15\": 144}, \"23\": {\"23\": 146}, \"35\": {\"35\": 32}, \"22\": {\"22\": 128}, \"40\": {\"40\": 140}, \"46\": {\"46\": 126}, \"3\": {\"3\": 92}, \"48\": {\"48\": 148}, \"52\": {\"52\": 124}, \"2\": {\"2\": 32}, \"26\": {\"26\": 24}, \"17\": {\"17\": 104}, \"55\": {\"55\": 144}, \"51\": {\"51\": 122}, \"42\": {\"42\": 36}, \"41\": {\"41\": 20}, \"31\": {\"31\": 28}, \"16\": {\"16\": 138}, \"36\": {\"36\": 116}, \"49\": {\"49\": 24}, \"0\": {\"0\": 48}, \"18\": {\"18\": 48}, \"25\": {\"25\": 146}, \"9\": {\"9\": 122}, \"47\": {\"47\": 132}, \"7\": {\"7\": 36}, \"37\": {\"37\": 36}, \"13\": {\"13\": 116}, \"14\": {\"14\": 21, \"55\": 1, \"42\": 2}, \"34\": {\"34\": 28}, \"57\": {\"57\": 140}, \"11\": {\"11\": 138}, \"39\": {\"39\": 28}, \"12\": {\"12\": 92}, \"28\": {\"28\": 28}, \"29\": {\"29\": 128}, \"43\": {\"43\": 140}}, \"W_2\": {\"56\": {\"56\": 12}, \"12\": {\"12\": 84, \"94\": 2, \"78\": 1, \"70\": 1}, \"15\": {\"15\": 112, \"55\": 1, \"97\": 1, \"43\": 1, \"70\": 1}, \"26\": {\"26\": 128, \"24\": 2, \"21\": 1, \"71\": 1}, \"82\": {\"82\": 36}, \"9\": {\"9\": 32}, \"49\": {\"47\": 2, \"49\": 20, \"15\": 1, \"98\": 1}, \"55\": {\"55\": 16}, \"102\": {\"102\": 124}, \"85\": {\"85\": 32}, \"73\": {\"73\": 28}, \"47\": {\"47\": 10, \"15\": 1, \"94\": 1}, \"20\": {\"20\": 15, \"23\": 1}, \"117\": {\"117\": 112, \"87\": 1, \"21\": 2, \"122\": 1}, \"122\": {\"122\": 132, \"73\": 1, \"87\": 1, \"71\": 1, \"70\": 1, \"110\": 1, \"5\": 1, \"27\": 2}, \"113\": {\"113\": 70, \"69\": 1, \"14\": 1}, \"87\": {\"49\": 1, \"87\": 103, \"69\": 2, \"43\": 1, \"21\": 1, \"70\": 1, \"24\": 1, \"5\": 1, \"122\": 1}, \"21\": {\"21\": 44, \"59\": 1, \"78\": 1, \"68\": 1, \"10\": 1}, \"106\": {\"106\": 115, \"12\": 1, \"0\": 1, \"24\": 1, \"21\": 1, \"40\": 1}, \"3\": {\"3\": 132, \"88\": 1, \"111\": 1, \"15\": 1, \"24\": 1}, \"126\": {\"126\": 120}, \"41\": {\"41\": 19, \"55\": 1}, \"76\": {\"76\": 16}, \"60\": {\"60\": 26, \"44\": 1, \"70\": 1}, \"94\": {\"94\": 60, \"88\": 1, \"87\": 1, \"111\": 1, \"36\": 1}, \"50\": {\"50\": 16}, \"97\": {\"97\": 20}, \"115\": {\"115\": 12}, \"38\": {\"38\": 16}, \"43\": {\"43\": 117, \"0\": 1, \"94\": 1, \"17\": 1, \"5\": 2, \"111\": 1, \"24\": 1}, \"67\": {\"67\": 16}, \"18\": {\"18\": 121, \"107\": 1, \"0\": 1, \"25\": 1, \"27\": 1, \"4\": 1, \"94\": 1, \"40\": 1}, \"23\": {\"23\": 37, \"121\": 1, \"77\": 1, \"29\": 2, \"20\": 1, \"122\": 2}, \"63\": {\"63\": 20}, \"127\": {\"127\": 118, \"122\": 1, \"111\": 2, \"5\": 1, \"24\": 1, \"26\": 1}, \"72\": {\"72\": 26, \"77\": 1, \"15\": 1}, \"128\": {\"128\": 15, \"101\": 1, \"49\": 4, \"59\": 2, \"29\": 1, \"0\": 1}, \"7\": {\"7\": 124, \"88\": 1, \"26\": 1, \"127\": 1, \"33\": 1}, \"108\": {\"108\": 134}, \"16\": {\"16\": 101, \"15\": 1, \"93\": 2, \"40\": 1, \"69\": 1, \"97\": 1, \"73\": 1, \"84\": 1, \"59\": 1, \"77\": 1, \"43\": 1, \"21\": 1, \"122\": 1}, \"29\": {\"29\": 32}, \"61\": {\"61\": 19, \"95\": 1}, \"104\": {\"104\": 20}, \"120\": {\"120\": 20}, \"124\": {\"124\": 123, \"82\": 1}, \"34\": {\"34\": 28, \"8\": 1, \"45\": 1, \"41\": 1, \"110\": 1}, \"84\": {\"84\": 86, \"21\": 1, \"87\": 1, \"122\": 1, \"127\": 1, \"110\": 1, \"98\": 1}, \"103\": {\"103\": 16}, \"100\": {\"100\": 16}, \"40\": {\"40\": 130, \"25\": 1, \"43\": 1, \"107\": 1, \"5\": 2, \"111\": 1, \"21\": 1, \"101\": 1, \"36\": 1, \"122\": 1}, \"35\": {\"35\": 12}, \"96\": {\"96\": 20}, \"101\": {\"101\": 119, \"98\": 1}, \"71\": {\"71\": 95, \"24\": 1, \"0\": 1, \"4\": 2, \"84\": 1}, \"81\": {\"81\": 22, \"109\": 1, \"51\": 1}, \"74\": {\"74\": 14, \"36\": 1, \"6\": 1}, \"119\": {\"119\": 20}, \"5\": {\"5\": 110, \"17\": 1, \"24\": 1}, \"68\": {\"68\": 16}, \"37\": {\"13\": 1, \"37\": 15}, \"58\": {\"58\": 20}, \"109\": {\"13\": 1, \"109\": 93, \"44\": 1, \"24\": 1, \"5\": 1, \"94\": 2, \"0\": 1}, \"107\": {\"107\": 58, \"125\": 1, \"36\": 1, \"3\": 1, \"110\": 2, \"113\": 1}, \"13\": {\"13\": 13, \"94\": 1, \"52\": 1, \"87\": 1}, \"52\": {\"52\": 19, \"124\": 1}, \"77\": {\"77\": 15, \"81\": 1}, \"95\": {\"95\": 36}, \"44\": {\"44\": 100}, \"88\": {\"88\": 117, \"3\": 1, \"23\": 1, \"93\": 1, \"47\": 1, \"15\": 1}, \"91\": {\"91\": 19, \"54\": 1, \"34\": 3, \"28\": 2, \"29\": 1, \"6\": 1, \"5\": 1}, \"93\": {\"93\": 136, \"107\": 1, \"101\": 1}, \"8\": {\"8\": 121, \"30\": 1, \"18\": 1, \"94\": 1}, \"1\": {\"1\": 111, \"24\": 1, \"111\": 1, \"30\": 1}, \"45\": {\"45\": 14, \"59\": 1, \"60\": 1}, \"111\": {\"111\": 124, \"62\": 1, \"0\": 1}, \"116\": {\"116\": 27, \"80\": 1}, \"48\": {\"48\": 20}, \"57\": {\"57\": 18, \"44\": 1, \"24\": 1}, \"10\": {\"10\": 58, \"12\": 1, \"26\": 1}, \"129\": {\"129\": 32}, \"98\": {\"98\": 115, \"26\": 1, \"24\": 1, \"94\": 1}, \"65\": {\"65\": 19, \"10\": 1}, \"6\": {\"6\": 29, \"75\": 1, \"91\": 2}, \"75\": {\"75\": 15, \"4\": 1}, \"14\": {\"14\": 46, \"51\": 1, \"0\": 1}, \"30\": {\"30\": 105, \"101\": 1, \"15\": 1, \"40\": 1, \"16\": 1, \"59\": 2, \"39\": 1}, \"83\": {\"83\": 40}, \"69\": {\"69\": 124, \"127\": 1, \"111\": 1, \"110\": 1, \"114\": 1}, \"125\": {\"125\": 145, \"98\": 1}, \"31\": {\"31\": 20}, \"118\": {\"118\": 67, \"43\": 1}, \"53\": {\"53\": 15, \"19\": 1}, \"54\": {\"54\": 20}, \"92\": {\"92\": 28}, \"19\": {\"19\": 28}, \"27\": {\"27\": 62, \"49\": 1, \"77\": 2, \"36\": 2, \"24\": 1}, \"17\": {\"17\": 15, \"36\": 1}, \"4\": {\"4\": 87, \"16\": 1}, \"36\": {\"27\": 1, \"36\": 120, \"94\": 1, \"16\": 1, \"24\": 2, \"124\": 1, \"40\": 1, \"43\": 1}, \"90\": {\"90\": 131, \"2\": 1, \"70\": 1, \"98\": 1, \"43\": 1, \"26\": 1}, \"64\": {\"64\": 15, \"24\": 1}, \"66\": {\"66\": 20}, \"46\": {\"46\": 14, \"16\": 1, \"24\": 1}, \"86\": {\"86\": 32}, \"114\": {\"114\": 108, \"0\": 1, \"15\": 1}, \"32\": {\"32\": 26, \"73\": 1, \"82\": 1, \"75\": 1, \"72\": 1, \"104\": 1, \"34\": 1, \"14\": 3, \"40\": 1}, \"78\": {\"78\": 43, \"43\": 1, \"4\": 2, \"40\": 1, \"122\": 1}, \"33\": {\"33\": 136, \"40\": 1, \"128\": 1}, \"70\": {\"70\": 116, \"116\": 1, \"88\": 2, \"5\": 1, \"24\": 1, \"69\": 1, \"78\": 1, \"15\": 1}, \"0\": {\"0\": 111, \"87\": 1, \"124\": 1, \"69\": 1, \"101\": 1, \"70\": 1}, \"110\": {\"110\": 38, \"70\": 1, \"107\": 1}, \"2\": {\"2\": 25, \"69\": 1, \"26\": 1, \"117\": 1, \"72\": 2, \"12\": 1, \"81\": 1}, \"28\": {\"28\": 18, \"118\": 1, \"109\": 1}, \"51\": {\"51\": 14, \"97\": 1, \"98\": 1, \"75\": 1, \"9\": 2, \"77\": 1}, \"79\": {\"79\": 16}, \"42\": {\"42\": 27, \"49\": 1}, \"112\": {\"112\": 12, \"5\": 2, \"126\": 1, \"49\": 1}, \"89\": {\"89\": 34, \"92\": 2}, \"59\": {\"59\": 16}, \"105\": {\"105\": 126, \"24\": 1, \"5\": 1}, \"121\": {\"38\": 1, \"49\": 1, \"121\": 30, \"65\": 2, \"36\": 1, \"113\": 1}, \"11\": {\"11\": 76, \"25\": 1, \"68\": 1, \"24\": 1, \"94\": 1}, \"99\": {\"99\": 30, \"12\": 1, \"33\": 1}, \"25\": {\"25\": 16}, \"62\": {\"62\": 121, \"94\": 1, \"105\": 1, \"5\": 1, \"40\": 1, \"24\": 2, \"15\": 1}, \"123\": {\"123\": 16}, \"24\": {\"24\": 109, \"12\": 1, \"122\": 2}, \"80\": {\"80\": 16}, \"39\": {\"39\": 92, \"117\": 1, \"15\": 2, \"24\": 2, \"84\": 1, \"18\": 1, \"33\": 1}, \"22\": {\"22\": 18, \"62\": 1, \"67\": 1}}, \"C_5\": {\"12\": {\"12\": 96}, \"8\": {\"8\": 142}, \"29\": {\"29\": 132}, \"57\": {\"57\": 126}, \"38\": {\"38\": 32}, \"23\": {\"23\": 124}, \"56\": {\"56\": 138}, \"49\": {\"49\": 36}, \"4\": {\"4\": 100}, \"48\": {\"48\": 136}, \"21\": {\"21\": 144}, \"30\": {\"30\": 128}, \"1\": {\"1\": 148}, \"34\": {\"34\": 36}, \"35\": {\"35\": 36}, \"55\": {\"55\": 152}, \"5\": {\"5\": 120, \"29\": 2}, \"52\": {\"52\": 126}, \"6\": {\"6\": 125, \"20\": 3}, \"36\": {\"36\": 92}, \"41\": {\"41\": 28}, \"3\": {\"3\": 100}, \"28\": {\"28\": 32}, \"18\": {\"18\": 64}, \"25\": {\"25\": 136}, \"47\": {\"47\": 100}, \"13\": {\"13\": 160}, \"11\": {\"11\": 144}, \"53\": {\"53\": 144}, \"33\": {\"33\": 32}, \"46\": {\"46\": 146, \"24\": 1, \"3\": 1}, \"50\": {\"50\": 147, \"25\": 1}, \"10\": {\"10\": 68}, \"15\": {\"15\": 138}, \"44\": {\"44\": 140}, \"2\": {\"2\": 28}, \"7\": {\"7\": 32}, \"43\": {\"43\": 138}, \"32\": {\"32\": 32}, \"0\": {\"0\": 124}, \"39\": {\"39\": 20}, \"26\": {\"26\": 24}, \"27\": {\"27\": 112}, \"54\": {\"54\": 112}, \"17\": {\"17\": 116}, \"14\": {\"14\": 30, \"0\": 6, \"54\": 1, \"3\": 2, \"5\": 2, \"48\": 1, \"1\": 1, \"9\": 1}, \"16\": {\"16\": 148}, \"9\": {\"9\": 147, \"6\": 1}, \"19\": {\"19\": 152}, \"20\": {\"20\": 138}, \"37\": {\"37\": 24}, \"24\": {\"24\": 80}, \"40\": {\"40\": 122}, \"45\": {\"45\": 124}, \"22\": {\"22\": 28}, \"42\": {\"42\": 38, \"13\": 1, \"2\": 1}, \"51\": {\"51\": 118}, \"31\": {\"31\": 36}}, \"C_1\": {\"27\": {\"27\": 142}, \"2\": {\"2\": 36}, \"33\": {\"33\": 32}, \"45\": {\"45\": 156}, \"38\": {\"38\": 24}, \"4\": {\"4\": 132}, \"31\": {\"31\": 28}, \"55\": {\"55\": 140}, \"32\": {\"32\": 32}, \"57\": {\"57\": 140}, \"14\": {\"14\": 22, \"30\": 1, \"8\": 1}, \"16\": {\"16\": 140}, \"34\": {\"34\": 24}, \"56\": {\"56\": 126}, \"24\": {\"24\": 108}, \"30\": {\"30\": 112}, \"17\": {\"17\": 64}, \"13\": {\"13\": 138}, \"39\": {\"39\": 28}, \"50\": {\"50\": 146}, \"20\": {\"20\": 140}, \"41\": {\"41\": 24}, \"53\": {\"53\": 126}, \"48\": {\"48\": 142}, \"36\": {\"36\": 64}, \"8\": {\"8\": 140}, \"15\": {\"15\": 132}, \"40\": {\"40\": 156}, \"37\": {\"37\": 32}, \"21\": {\"21\": 120}, \"35\": {\"35\": 36}, \"49\": {\"49\": 32}, \"26\": {\"26\": 24}, \"28\": {\"28\": 28}, \"12\": {\"12\": 116}, \"5\": {\"5\": 152}, \"29\": {\"29\": 140}, \"47\": {\"47\": 140}, \"10\": {\"10\": 96}, \"18\": {\"18\": 71, \"50\": 1}, \"9\": {\"9\": 126}, \"3\": {\"3\": 138, \"25\": 2}, \"52\": {\"52\": 132}, \"25\": {\"25\": 136}, \"19\": {\"19\": 156}, \"11\": {\"11\": 136}, \"7\": {\"7\": 28}, \"23\": {\"23\": 136}, \"44\": {\"44\": 132}, \"42\": {\"42\": 40}, \"54\": {\"54\": 104}, \"1\": {\"1\": 100}, \"46\": {\"46\": 127, \"50\": 1}, \"6\": {\"6\": 96}, \"43\": {\"43\": 144}, \"51\": {\"51\": 142}, \"22\": {\"22\": 136}, \"0\": {\"0\": 128}}, \"W_4\": {\"32\": {\"32\": 26, \"22\": 1, \"122\": 1}, \"22\": {\"22\": 15, \"54\": 1}, \"69\": {\"69\": 113, \"23\": 1, \"94\": 2, \"113\": 1, \"101\": 1, \"126\": 1, \"0\": 1}, \"65\": {\"65\": 12}, \"91\": {\"91\": 23, \"77\": 1}, \"63\": {\"63\": 16}, \"127\": {\"53\": 1, \"127\": 105, \"111\": 1, \"15\": 1}, \"11\": {\"11\": 136, \"36\": 1, \"81\": 1}, \"12\": {\"12\": 93, \"78\": 1, \"24\": 2, \"106\": 1, \"122\": 1, \"118\": 1, \"87\": 1}, \"111\": {\"111\": 126, \"29\": 1, \"126\": 1}, \"53\": {\"53\": 15, \"128\": 1}, \"73\": {\"73\": 22, \"53\": 1, \"78\": 1}, \"3\": {\"3\": 132, \"21\": 1, \"70\": 2, \"101\": 1}, \"83\": {\"83\": 27, \"50\": 1}, \"88\": {\"88\": 122, \"70\": 3, \"12\": 1, \"108\": 2, \"36\": 1, \"8\": 1}, \"87\": {\"87\": 128, \"108\": 1, \"105\": 3}, \"2\": {\"2\": 22, \"126\": 2, \"1\": 1, \"26\": 1, \"108\": 2}, \"86\": {\"86\": 28}, \"16\": {\"16\": 118, \"21\": 1, \"129\": 1, \"111\": 1, \"127\": 1}, \"21\": {\"21\": 35, \"100\": 1, \"0\": 1, \"49\": 1, \"50\": 1, \"51\": 1}, \"96\": {\"96\": 19, \"21\": 1}, \"100\": {\"100\": 20}, \"7\": {\"7\": 118, \"108\": 1, \"43\": 1}, \"75\": {\"75\": 15, \"54\": 1}, \"10\": {\"10\": 116, \"111\": 1, \"122\": 1, \"27\": 1, \"24\": 1, \"15\": 1, \"1\": 1, \"70\": 1, \"30\": 1}, \"43\": {\"43\": 113, \"78\": 1, \"87\": 1, \"25\": 1, \"0\": 1, \"1\": 1, \"53\": 1, \"14\": 1}, \"92\": {\"92\": 28}, \"62\": {\"62\": 54, \"5\": 1, \"40\": 1, \"25\": 1, \"1\": 1, \"69\": 2}, \"31\": {\"31\": 15, \"118\": 1}, \"0\": {\"0\": 112, \"87\": 1, \"122\": 1}, \"45\": {\"45\": 16}, \"85\": {\"85\": 27, \"70\": 1}, \"119\": {\"119\": 16}, \"46\": {\"46\": 20}, \"71\": {\"71\": 102, \"1\": 1, \"111\": 1}, \"8\": {\"8\": 130, \"43\": 1, \"33\": 1, \"36\": 1, \"111\": 1}, \"118\": {\"118\": 106, \"84\": 1, \"39\": 1, \"36\": 1, \"70\": 1, \"15\": 1, \"108\": 1}, \"1\": {\"1\": 101, \"94\": 1, \"124\": 1, \"106\": 2, \"21\": 1, \"127\": 2}, \"38\": {\"38\": 15, \"34\": 1}, \"30\": {\"30\": 70, \"15\": 2, \"24\": 1, \"51\": 1, \"21\": 1, \"34\": 1}, \"66\": {\"66\": 16}, \"9\": {\"9\": 28}, \"5\": {\"5\": 135, \"72\": 1}, \"24\": {\"24\": 112, \"30\": 1, \"15\": 1, \"27\": 1, \"36\": 4, \"10\": 1}, \"97\": {\"97\": 20}, \"67\": {\"67\": 9, \"40\": 1, \"123\": 1, \"48\": 1, \"23\": 2, \"122\": 1, \"113\": 1}, \"19\": {\"19\": 28}, \"77\": {\"77\": 12}, \"26\": {\"26\": 116, \"111\": 1, \"1\": 1}, \"115\": {\"97\": 1, \"115\": 14, \"128\": 1}, \"50\": {\"50\": 16}, \"120\": {\"120\": 20}, \"102\": {\"102\": 127, \"39\": 1}, \"29\": {\"29\": 32}, \"44\": {\"44\": 62, \"63\": 1, \"113\": 1}, \"124\": {\"124\": 117, \"118\": 1}, \"78\": {\"78\": 31, \"21\": 2, \"0\": 1, \"111\": 2}, \"104\": {\"104\": 16}, \"105\": {\"105\": 90, \"117\": 1, \"15\": 1, \"87\": 4, \"14\": 1, \"7\": 1, \"101\": 1, \"36\": 1}, \"28\": {\"28\": 20}, \"37\": {\"37\": 16}, \"107\": {\"107\": 128, \"122\": 1, \"1\": 1, \"84\": 1, \"15\": 1}, \"6\": {\"6\": 22, \"10\": 2}, \"17\": {\"17\": 20}, \"57\": {\"57\": 16}, \"121\": {\"121\": 23, \"28\": 1, \"13\": 2, \"51\": 1, \"34\": 1, \"21\": 1, \"98\": 1, \"92\": 1, \"116\": 1}, \"58\": {\"58\": 16}, \"64\": {\"64\": 16}, \"82\": {\"82\": 32}, \"39\": {\"39\": 98, \"113\": 1, \"15\": 1}, \"110\": {\"110\": 114, \"61\": 1, \"19\": 1, \"81\": 1, \"14\": 1, \"21\": 1, \"108\": 1, \"67\": 1, \"0\": 1, \"8\": 1, \"102\": 1}, \"114\": {\"114\": 127, \"49\": 1}, \"20\": {\"20\": 16}, \"117\": {\"117\": 114}, \"18\": {\"18\": 119, \"15\": 1}, \"99\": {\"99\": 39, \"57\": 1}, \"23\": {\"23\": 9, \"91\": 1, \"123\": 1, \"29\": 1, \"1\": 1, \"48\": 1, \"51\": 1, \"70\": 1}, \"128\": {\"128\": 20, \"44\": 1, \"70\": 1, \"88\": 1, \"118\": 1}, \"60\": {\"60\": 32}, \"70\": {\"70\": 117, \"110\": 1, \"69\": 1, \"88\": 1}, \"122\": {\"122\": 81, \"106\": 1, \"111\": 1, \"114\": 1}, \"101\": {\"101\": 129, \"78\": 1, \"111\": 2}, \"33\": {\"33\": 129, \"122\": 1, \"116\": 1, \"124\": 1}, \"40\": {\"40\": 125, \"12\": 1, \"15\": 1, \"114\": 1, \"70\": 1, \"0\": 1}, \"41\": {\"41\": 14, \"23\": 1, \"21\": 1}, \"59\": {\"59\": 12}, \"4\": {\"4\": 99, \"55\": 1, \"39\": 1, \"51\": 1, \"111\": 1, \"101\": 1}, \"112\": {\"112\": 15, \"67\": 1}, \"36\": {\"36\": 124, \"24\": 2, \"1\": 1, \"111\": 1}, \"48\": {\"48\": 13, \"60\": 2, \"21\": 1}, \"126\": {\"49\": 1, \"126\": 112, \"40\": 1, \"93\": 1, \"0\": 1}, \"125\": {\"125\": 119, \"107\": 2, \"98\": 1}, \"84\": {\"84\": 117, \"21\": 1, \"36\": 1, \"39\": 1, \"111\": 2, \"126\": 1, \"106\": 1, \"0\": 3, \"1\": 1}, \"80\": {\"80\": 16}, \"49\": {\"80\": 1, \"49\": 25, \"21\": 1, \"5\": 2, \"111\": 1, \"112\": 1, \"88\": 1}, \"47\": {\"25\": 1, \"47\": 11}, \"95\": {\"95\": 32}, \"54\": {\"54\": 16}, \"25\": {\"25\": 16}, \"116\": {\"116\": 21, \"115\": 2, \"92\": 1, \"33\": 1, \"121\": 2, \"72\": 1}, \"74\": {\"74\": 16}, \"35\": {\"35\": 12}, \"15\": {\"15\": 125, \"0\": 1, \"105\": 1, \"29\": 1}, \"108\": {\"108\": 83, \"73\": 1, \"101\": 1, \"94\": 1, \"98\": 1, \"30\": 1, \"19\": 1, \"51\": 1, \"1\": 1, \"88\": 1}, \"34\": {\"85\": 2, \"6\": 2, \"34\": 24, \"72\": 1, \"124\": 1, \"128\": 1, \"75\": 1}, \"81\": {\"81\": 34, \"39\": 1, \"73\": 1}, \"93\": {\"93\": 128}, \"55\": {\"55\": 16}, \"27\": {\"27\": 97, \"122\": 1, \"108\": 1, \"15\": 1}, \"109\": {\"109\": 107, \"70\": 2, \"14\": 1}, \"106\": {\"106\": 109, \"70\": 1, \"10\": 1, \"127\": 1, \"105\": 1, \"15\": 1, \"126\": 1, \"24\": 1}, \"68\": {\"68\": 15, \"121\": 1}, \"76\": {\"68\": 1, \"76\": 14, \"78\": 1}, \"103\": {\"103\": 15, \"106\": 1}, \"42\": {\"42\": 21, \"83\": 1, \"93\": 1, \"124\": 3, \"80\": 1, \"115\": 1}, \"129\": {\"110\": 1, \"129\": 23, \"73\": 1, \"5\": 1, \"93\": 2}, \"94\": {\"94\": 81, \"29\": 1, \"1\": 2, \"3\": 1, \"21\": 1, \"15\": 1, \"0\": 1}, \"123\": {\"123\": 16}, \"61\": {\"61\": 16}, \"51\": {\"53\": 1, \"51\": 8, \"72\": 1, \"26\": 1, \"111\": 1, \"58\": 1, \"6\": 1, \"47\": 2}, \"98\": {\"98\": 114, \"85\": 1, \"121\": 1, \"90\": 1, \"3\": 1}, \"56\": {\"56\": 12}, \"14\": {\"14\": 109, \"81\": 1, \"23\": 1, \"101\": 1}, \"90\": {\"90\": 137, \"126\": 1}, \"13\": {\"13\": 16}, \"89\": {\"89\": 31, \"12\": 1}, \"52\": {\"52\": 19, \"89\": 1}, \"72\": {\"72\": 31, \"116\": 1}, \"79\": {\"79\": 16}, \"113\": {\"113\": 122, \"12\": 1, \"111\": 1, \"39\": 2}}, \"C_4\": {\"32\": {\"32\": 24}, \"2\": {\"2\": 36}, \"41\": {\"41\": 36}, \"11\": {\"11\": 100, \"15\": 2}, \"57\": {\"57\": 100}, \"6\": {\"6\": 112}, \"23\": {\"23\": 136}, \"52\": {\"52\": 116}, \"38\": {\"38\": 40}, \"50\": {\"50\": 132}, \"55\": {\"55\": 152}, \"46\": {\"46\": 150, \"47\": 4}, \"37\": {\"37\": 24}, \"20\": {\"20\": 118}, \"49\": {\"49\": 20}, \"45\": {\"45\": 96}, \"54\": {\"54\": 108}, \"3\": {\"3\": 124}, \"13\": {\"13\": 152}, \"18\": {\"18\": 108}, \"21\": {\"21\": 126}, \"43\": {\"43\": 144}, \"47\": {\"47\": 120}, \"4\": {\"4\": 132}, \"12\": {\"12\": 92}, \"9\": {\"9\": 128}, \"7\": {\"7\": 24}, \"56\": {\"56\": 112}, \"28\": {\"28\": 32}, \"44\": {\"44\": 132}, \"24\": {\"24\": 56}, \"33\": {\"33\": 36}, \"35\": {\"35\": 40}, \"51\": {\"51\": 138}, \"39\": {\"39\": 20}, \"36\": {\"36\": 92}, \"19\": {\"19\": 140}, \"0\": {\"0\": 79, \"46\": 1}, \"15\": {\"15\": 135, \"46\": 1}, \"29\": {\"29\": 123, \"5\": 1}, \"30\": {\"30\": 44}, \"1\": {\"1\": 40}, \"22\": {\"22\": 128}, \"40\": {\"40\": 146}, \"8\": {\"8\": 128}, \"53\": {\"53\": 138}, \"34\": {\"34\": 24}, \"10\": {\"10\": 122}, \"31\": {\"31\": 28}, \"17\": {\"17\": 80}, \"16\": {\"16\": 96}, \"42\": {\"42\": 32}, \"27\": {\"27\": 142}, \"14\": {\"14\": 15, \"11\": 1}, \"25\": {\"25\": 122}, \"48\": {\"48\": 132}, \"26\": {\"26\": 24}, \"5\": {\"5\": 108}}, \"W_1\": {\"68\": {\"68\": 16}, \"7\": {\"7\": 142}, \"125\": {\"125\": 118}, \"111\": {\"111\": 117, \"109\": 1, \"88\": 1, \"93\": 1}, \"101\": {\"101\": 123, \"88\": 1}, \"11\": {\"11\": 136}, \"76\": {\"76\": 16}, \"5\": {\"5\": 87, \"73\": 1}, \"123\": {\"123\": 14, \"21\": 1, \"19\": 1}, \"85\": {\"85\": 32}, \"34\": {\"34\": 24, \"125\": 4, \"14\": 2, \"57\": 1, \"21\": 1}, \"42\": {\"42\": 23, \"23\": 1, \"109\": 1, \"91\": 2, \"111\": 1}, \"81\": {\"81\": 28}, \"127\": {\"127\": 106, \"101\": 1, \"88\": 1}, \"60\": {\"34\": 2, \"60\": 10, \"120\": 1, \"29\": 1, \"42\": 1, \"14\": 1}, \"77\": {\"77\": 16}, \"65\": {\"90\": 2, \"65\": 5, \"22\": 2, \"116\": 1, \"50\": 2}, \"44\": {\"44\": 76}, \"100\": {\"100\": 16}, \"80\": {\"80\": 16}, \"83\": {\"83\": 26, \"1\": 1, \"98\": 1}, \"51\": {\"51\": 16}, \"93\": {\"93\": 129, \"4\": 1, \"5\": 1, \"43\": 1, \"21\": 1, \"40\": 1}, \"31\": {\"31\": 16}, \"33\": {\"33\": 124, \"19\": 1, \"45\": 1}, \"113\": {\"113\": 121, \"5\": 1, \"16\": 1, \"43\": 1}, \"126\": {\"126\": 122, \"43\": 1, \"106\": 1}, \"10\": {\"10\": 117, \"0\": 3}, \"21\": {\"21\": 37, \"40\": 1, \"83\": 1, \"30\": 1}, \"90\": {\"90\": 131, \"124\": 1}, \"38\": {\"38\": 16}, \"96\": {\"96\": 18, \"126\": 1, \"127\": 1}, \"6\": {\"6\": 28, \"51\": 1, \"91\": 1, \"30\": 1, \"101\": 1}, \"121\": {\"121\": 32}, \"37\": {\"37\": 16}, \"88\": {\"88\": 125, \"36\": 1}, \"54\": {\"54\": 16}, \"92\": {\"92\": 28}, \"19\": {\"19\": 28}, \"47\": {\"47\": 12}, \"94\": {\"94\": 89, \"87\": 1, \"102\": 1, \"113\": 1}, \"66\": {\"66\": 16}, \"73\": {\"73\": 19, \"22\": 1}, \"75\": {\"75\": 16}, \"28\": {\"28\": 18, \"78\": 1, \"75\": 1}, \"20\": {\"20\": 16}, \"78\": {\"21\": 1, \"78\": 14, \"87\": 1}, \"71\": {\"71\": 103, \"21\": 1}, \"13\": {\"13\": 16}, \"118\": {\"118\": 83, \"111\": 1}, \"72\": {\"72\": 32}, \"24\": {\"24\": 86, \"111\": 1, \"108\": 4, \"12\": 1}, \"41\": {\"41\": 16}, \"102\": {\"102\": 119, \"18\": 1}, \"8\": {\"21\": 1, \"8\": 137}, \"39\": {\"39\": 93, \"101\": 1, \"70\": 1, \"98\": 1}, \"97\": {\"97\": 18, \"24\": 1, \"2\": 1}, \"48\": {\"48\": 12}, \"57\": {\"57\": 12}, \"29\": {\"29\": 28}, \"119\": {\"119\": 16}, \"89\": {\"89\": 36}, \"40\": {\"40\": 140}, \"22\": {\"97\": 1, \"22\": 15}, \"53\": {\"53\": 19, \"49\": 1}, \"108\": {\"108\": 124}, \"23\": {\"23\": 17, \"42\": 1, \"87\": 1, \"28\": 1, \"8\": 1, \"45\": 1, \"91\": 2}, \"109\": {\"109\": 116}, \"112\": {\"112\": 16}, \"35\": {\"35\": 12}, \"3\": {\"3\": 84, \"111\": 1, \"88\": 1, \"107\": 1, \"98\": 1}, \"103\": {\"103\": 14, \"6\": 1, \"52\": 1}, \"4\": {\"4\": 99, \"34\": 1}, \"87\": {\"87\": 107, \"84\": 1}, \"25\": {\"6\": 1, \"25\": 14, \"22\": 1}, \"15\": {\"15\": 95, \"111\": 7, \"5\": 1, \"93\": 1}, \"95\": {\"95\": 36}, \"120\": {\"120\": 18, \"123\": 1, \"49\": 1}, \"59\": {\"59\": 11, \"86\": 1}, \"49\": {\"49\": 15, \"34\": 1, \"5\": 1, \"53\": 1, \"15\": 1, \"73\": 1}, \"52\": {\"52\": 18, \"101\": 1, \"35\": 1}, \"45\": {\"49\": 1, \"45\": 8, \"46\": 1, \"47\": 1, \"59\": 1}, \"107\": {\"107\": 124}, \"106\": {\"106\": 133, \"70\": 1}, \"18\": {\"18\": 124}, \"64\": {\"64\": 16}, \"86\": {\"86\": 35, \"108\": 1}, \"14\": {\"14\": 96}, \"115\": {\"115\": 12}, \"0\": {\"0\": 83, \"49\": 1}, \"104\": {\"104\": 16}, \"61\": {\"61\": 12}, \"129\": {\"129\": 23, \"128\": 2, \"100\": 1, \"72\": 2}, \"122\": {\"122\": 86, \"111\": 1, \"3\": 1}, \"67\": {\"67\": 14, \"3\": 1, \"115\": 1}, \"128\": {\"128\": 18, \"72\": 3, \"70\": 1, \"54\": 2}, \"26\": {\"26\": 131, \"105\": 2, \"122\": 1}, \"117\": {\"117\": 136}, \"91\": {\"91\": 25, \"86\": 1, \"45\": 1, \"83\": 1}, \"12\": {\"12\": 99, \"70\": 1, \"122\": 2, \"15\": 1, \"88\": 1}, \"50\": {\"50\": 16}, \"99\": {\"99\": 24}, \"110\": {\"110\": 104}, \"43\": {\"43\": 111, \"24\": 1, \"106\": 1, \"70\": 1, \"94\": 1, \"5\": 1}, \"82\": {\"82\": 36}, \"1\": {\"1\": 95, \"126\": 1}, \"46\": {\"12\": 1, \"46\": 8, \"70\": 1, \"86\": 1, \"94\": 1}, \"16\": {\"16\": 106, \"94\": 1, \"70\": 1}, \"74\": {\"74\": 16}, \"32\": {\"32\": 30, \"91\": 1, \"30\": 1}, \"62\": {\"62\": 118, \"88\": 1, \"94\": 1}, \"27\": {\"27\": 90, \"122\": 1, \"111\": 1}, \"17\": {\"17\": 16}, \"36\": {\"36\": 131, \"88\": 2, \"122\": 1}, \"2\": {\"2\": 25, \"73\": 1, \"129\": 1, \"11\": 2, \"1\": 1, \"13\": 1, \"96\": 1}, \"70\": {\"70\": 127, \"49\": 1}, \"9\": {\"9\": 32}, \"114\": {\"114\": 130}, \"79\": {\"79\": 12}, \"56\": {\"56\": 11, \"112\": 1}, \"124\": {\"124\": 102}, \"84\": {\"84\": 134}, \"69\": {\"69\": 106, \"6\": 1, \"87\": 1}, \"58\": {\"58\": 10, \"111\": 2}, \"30\": {\"30\": 52}, \"55\": {\"55\": 12}, \"105\": {\"105\": 84}, \"63\": {\"63\": 16}, \"98\": {\"98\": 107, \"71\": 1}, \"116\": {\"116\": 30, \"21\": 1, \"121\": 1}}, \"W_3\": {\"76\": {\"76\": 16}, \"6\": {\"6\": 25, \"58\": 2, \"75\": 1, \"34\": 3, \"69\": 1}, \"108\": {\"108\": 106}, \"29\": {\"29\": 31, \"12\": 1}, \"83\": {\"83\": 24}, \"18\": {\"18\": 126, \"39\": 1, \"78\": 1}, \"54\": {\"54\": 16}, \"15\": {\"15\": 104}, \"100\": {\"100\": 16}, \"90\": {\"90\": 134, \"40\": 1, \"125\": 1}, \"26\": {\"26\": 130, \"23\": 1, \"5\": 1}, \"115\": {\"115\": 16}, \"94\": {\"94\": 83, \"30\": 1}, \"46\": {\"46\": 16}, \"121\": {\"121\": 31, \"116\": 1}, \"109\": {\"109\": 126, \"70\": 1, \"21\": 1}, \"101\": {\"101\": 50, \"0\": 1, \"36\": 1}, \"99\": {\"99\": 36}, \"8\": {\"8\": 126, \"5\": 1, \"27\": 1}, \"102\": {\"102\": 104}, \"122\": {\"122\": 58, \"87\": 1, \"128\": 1}, \"36\": {\"36\": 110, \"27\": 4, \"24\": 1, \"98\": 1}, \"113\": {\"113\": 119, \"0\": 1}, \"123\": {\"123\": 16}, \"120\": {\"120\": 20}, \"125\": {\"125\": 107, \"98\": 1}, \"89\": {\"89\": 27, \"87\": 1}, \"9\": {\"9\": 31, \"66\": 1}, \"31\": {\"31\": 20}, \"62\": {\"62\": 112, \"110\": 2}, \"49\": {\"49\": 21, \"42\": 1, \"70\": 1, \"6\": 1}, \"23\": {\"23\": 24, \"73\": 1, \"15\": 1, \"119\": 2, \"43\": 1, \"60\": 1, \"21\": 2}, \"55\": {\"55\": 16}, \"128\": {\"128\": 31, \"30\": 1}, \"71\": {\"71\": 67, \"5\": 1}, \"51\": {\"51\": 16}, \"7\": {\"7\": 106}, \"117\": {\"117\": 104}, \"28\": {\"28\": 16}, \"127\": {\"127\": 127, \"17\": 1}, \"57\": {\"57\": 20}, \"78\": {\"78\": 13, \"122\": 1, \"84\": 1, \"16\": 1}, \"87\": {\"87\": 119, \"27\": 1}, \"40\": {\"40\": 128}, \"81\": {\"81\": 32}, \"2\": {\"2\": 27, \"26\": 1}, \"58\": {\"58\": 16}, \"68\": {\"68\": 15, \"101\": 1}, \"20\": {\"20\": 15, \"125\": 1}, \"35\": {\"35\": 12}, \"96\": {\"96\": 20}, \"84\": {\"84\": 108}, \"13\": {\"122\": 2, \"13\": 10, \"43\": 2, \"87\": 1, \"69\": 1}, \"64\": {\"64\": 20}, \"112\": {\"112\": 14, \"108\": 1, \"94\": 1}, \"103\": {\"103\": 16}, \"65\": {\"65\": 11, \"63\": 1}, \"118\": {\"118\": 100}, \"88\": {\"88\": 105, \"39\": 1, \"105\": 1, \"12\": 2, \"36\": 1, \"53\": 1, \"108\": 1}, \"85\": {\"85\": 36}, \"5\": {\"5\": 111, \"21\": 1}, \"93\": {\"93\": 137, \"90\": 1}, \"43\": {\"43\": 52, \"47\": 1, \"128\": 1, \"21\": 1, \"39\": 1}, \"67\": {\"67\": 15, \"3\": 1}, \"48\": {\"48\": 13, \"53\": 1, \"11\": 1, \"7\": 1}, \"73\": {\"73\": 39, \"62\": 1}, \"34\": {\"91\": 1, \"34\": 24, \"37\": 1, \"45\": 1, \"59\": 1, \"6\": 1, \"77\": 1, \"9\": 1, \"32\": 1}, \"91\": {\"91\": 20, \"15\": 1, \"86\": 1, \"21\": 1, \"58\": 1}, \"105\": {\"105\": 124}, \"10\": {\"10\": 104, \"5\": 1, \"4\": 1}, \"61\": {\"61\": 15, \"45\": 1}, \"74\": {\"74\": 15, \"19\": 1}, \"4\": {\"4\": 95, \"110\": 1}, \"37\": {\"37\": 16}, \"19\": {\"19\": 32}, \"44\": {\"44\": 70, \"116\": 1, \"39\": 1}, \"52\": {\"52\": 16}, \"92\": {\"92\": 32}, \"33\": {\"33\": 128}, \"45\": {\"45\": 16}, \"11\": {\"11\": 127, \"19\": 1}, \"129\": {\"129\": 31, \"110\": 1}, \"116\": {\"116\": 26, \"60\": 1, \"13\": 1}, \"75\": {\"75\": 16}, \"41\": {\"41\": 16}, \"21\": {\"21\": 45, \"5\": 1, \"94\": 2}, \"69\": {\"69\": 82, \"97\": 1, \"5\": 1}, \"16\": {\"16\": 107, \"21\": 1}, \"25\": {\"25\": 16}, \"12\": {\"12\": 103, \"5\": 1}, \"72\": {\"72\": 28}, \"0\": {\"0\": 115, \"4\": 1}, \"50\": {\"50\": 16}, \"107\": {\"107\": 140}, \"124\": {\"124\": 124}, \"53\": {\"53\": 19, \"127\": 1}, \"66\": {\"66\": 16}, \"47\": {\"47\": 12}, \"24\": {\"24\": 44, \"27\": 3, \"30\": 1}, \"95\": {\"95\": 31, \"25\": 1}, \"98\": {\"98\": 105, \"44\": 1}, \"63\": {\"63\": 16}, \"3\": {\"3\": 113, \"5\": 1, \"114\": 2}, \"14\": {\"14\": 80}, \"1\": {\"1\": 108}, \"38\": {\"38\": 16}, \"110\": {\"110\": 86, \"68\": 2, \"5\": 1, \"4\": 1, \"98\": 1, \"127\": 1}, \"17\": {\"110\": 1, \"17\": 8, \"129\": 1, \"40\": 1, \"95\": 1, \"23\": 1, \"65\": 1, \"41\": 1, \"121\": 1}, \"30\": {\"30\": 83, \"125\": 1}, \"56\": {\"56\": 11, \"75\": 1}, \"27\": {\"27\": 87, \"36\": 6, \"5\": 1, \"21\": 1, \"73\": 1}, \"104\": {\"104\": 16}, \"97\": {\"97\": 20}, \"42\": {\"42\": 21, \"25\": 1, \"97\": 1, \"112\": 4, \"8\": 1}, \"39\": {\"39\": 108}, \"70\": {\"70\": 71, \"21\": 1}, \"86\": {\"86\": 28}, \"119\": {\"119\": 16}, \"77\": {\"77\": 16}, \"59\": {\"59\": 12}, \"22\": {\"22\": 16}, \"79\": {\"79\": 12}, \"80\": {\"80\": 16}, \"111\": {\"111\": 131, \"87\": 1}, \"82\": {\"82\": 28}, \"126\": {\"126\": 122, \"21\": 1, \"5\": 1}, \"32\": {\"32\": 29, \"107\": 1, \"8\": 1, \"9\": 1}, \"106\": {\"106\": 98, \"70\": 1, \"111\": 1}, \"60\": {\"60\": 23, \"19\": 1, \"110\": 3, \"98\": 1}, \"114\": {\"114\": 106, \"105\": 2}}, \"C_3\": {\"14\": {\"14\": 37, \"43\": 1, \"55\": 2}, \"18\": {\"18\": 84}, \"30\": {\"30\": 120}, \"16\": {\"16\": 156}, \"1\": {\"1\": 100}, \"20\": {\"20\": 132}, \"7\": {\"7\": 36}, \"52\": {\"52\": 130}, \"9\": {\"9\": 140}, \"23\": {\"23\": 144}, \"55\": {\"55\": 164}, \"29\": {\"29\": 126}, \"56\": {\"56\": 134}, \"3\": {\"3\": 124}, \"42\": {\"42\": 28}, \"6\": {\"6\": 85, \"17\": 1, \"52\": 1, \"38\": 1}, \"5\": {\"5\": 114, \"50\": 1, \"9\": 1}, \"27\": {\"27\": 144}, \"47\": {\"47\": 92}, \"39\": {\"39\": 16}, \"34\": {\"34\": 32}, \"4\": {\"4\": 126}, \"24\": {\"24\": 104}, \"46\": {\"46\": 118}, \"50\": {\"50\": 126}, \"38\": {\"38\": 28}, \"54\": {\"54\": 100}, \"35\": {\"35\": 28}, \"2\": {\"2\": 32}, \"41\": {\"41\": 28}, \"57\": {\"57\": 118}, \"25\": {\"25\": 150}, \"48\": {\"48\": 116}, \"33\": {\"33\": 28}, \"45\": {\"45\": 60}, \"13\": {\"13\": 126}, \"36\": {\"36\": 100}, \"43\": {\"43\": 132}, \"28\": {\"28\": 28}, \"0\": {\"0\": 124}, \"12\": {\"12\": 92}, \"31\": {\"31\": 28}, \"40\": {\"40\": 116}, \"44\": {\"44\": 87, \"40\": 1}, \"32\": {\"32\": 28}, \"26\": {\"26\": 24}, \"8\": {\"8\": 116}, \"10\": {\"10\": 64}, \"15\": {\"15\": 140, \"11\": 1, \"46\": 1}, \"21\": {\"21\": 128}, \"37\": {\"37\": 28}, \"17\": {\"17\": 108}, \"51\": {\"51\": 124}, \"53\": {\"53\": 144}, \"19\": {\"19\": 136}, \"49\": {\"49\": 20}, \"11\": {\"11\": 138}, \"22\": {\"22\": 130}}, \"O_8\": {\"13\": {\"2\": 16, \"4\": 24, \"0\": 24, \"9\": 4, \"14\": 20, \"6\": 16, \"5\": 16, \"13\": 19, \"7\": 26, \"1\": 12, \"11\": 15, \"10\": 32, \"15\": 1, \"3\": 7, \"8\": 7, \"12\": 1}, \"9\": {\"9\": 189, \"5\": 10, \"13\": 4, \"14\": 5, \"0\": 8, \"10\": 16, \"4\": 6, \"6\": 2}, \"15\": {\"3\": 28, \"15\": 31, \"2\": 23, \"12\": 45, \"1\": 19, \"4\": 7, \"8\": 32, \"11\": 17, \"7\": 7, \"5\": 4, \"10\": 7, \"14\": 6, \"6\": 11, \"13\": 3}, \"2\": {\"15\": 20, \"3\": 38, \"8\": 19, \"10\": 6, \"2\": 35, \"12\": 15, \"6\": 16, \"0\": 16, \"1\": 8, \"7\": 19, \"13\": 12, \"11\": 11, \"14\": 13, \"4\": 9, \"5\": 3}, \"3\": {\"12\": 41, \"15\": 23, \"3\": 36, \"6\": 19, \"2\": 36, \"11\": 8, \"1\": 10, \"0\": 8, \"7\": 14, \"4\": 9, \"8\": 23, \"10\": 3, \"13\": 2, \"14\": 8}, \"8\": {\"15\": 27, \"3\": 21, \"6\": 13, \"8\": 40, \"7\": 13, \"12\": 36, \"1\": 19, \"4\": 9, \"0\": 3, \"11\": 20, \"14\": 9, \"2\": 19, \"5\": 3, \"10\": 6, \"13\": 2}, \"5\": {\"11\": 13, \"4\": 30, \"10\": 24, \"13\": 23, \"1\": 21, \"9\": 15, \"14\": 23, \"5\": 35, \"0\": 13, \"7\": 12, \"6\": 17, \"8\": 5, \"2\": 3, \"3\": 2, \"15\": 4}, \"14\": {\"0\": 20, \"4\": 25, \"14\": 18, \"6\": 19, \"10\": 15, \"12\": 1, \"9\": 2, \"1\": 15, \"15\": 7, \"13\": 26, \"5\": 28, \"11\": 14, \"7\": 25, \"8\": 7, \"2\": 11, \"3\": 7}, \"1\": {\"5\": 17, \"13\": 18, \"4\": 19, \"11\": 21, \"10\": 19, \"1\": 37, \"14\": 18, \"6\": 15, \"8\": 15, \"15\": 11, \"3\": 16, \"7\": 14, \"0\": 4, \"12\": 9, \"2\": 7}, \"0\": {\"5\": 15, \"0\": 32, \"3\": 9, \"10\": 28, \"2\": 22, \"6\": 19, \"7\": 18, \"14\": 30, \"13\": 22, \"4\": 15, \"11\": 5, \"15\": 4, \"8\": 11, \"1\": 6, \"9\": 4}, \"10\": {\"10\": 35, \"5\": 23, \"7\": 25, \"9\": 6, \"4\": 27, \"6\": 16, \"0\": 21, \"1\": 10, \"14\": 23, \"3\": 2, \"11\": 12, \"2\": 5, \"13\": 29, \"12\": 3, \"15\": 2, \"8\": 1}, \"6\": {\"15\": 21, \"5\": 9, \"13\": 20, \"10\": 16, \"6\": 14, \"4\": 23, \"8\": 14, \"7\": 26, \"12\": 7, \"14\": 12, \"3\": 17, \"0\": 19, \"1\": 19, \"11\": 8, \"2\": 14, \"9\": 1}, \"11\": {\"0\": 13, \"12\": 8, \"14\": 21, \"2\": 12, \"10\": 15, \"11\": 21, \"6\": 25, \"4\": 12, \"1\": 27, \"8\": 14, \"15\": 11, \"3\": 18, \"13\": 16, \"5\": 19, \"7\": 8}, \"7\": {\"13\": 14, \"15\": 11, \"4\": 27, \"14\": 19, \"2\": 19, \"0\": 22, \"7\": 21, \"8\": 13, \"6\": 25, \"5\": 14, \"1\": 14, \"3\": 15, \"12\": 9, \"10\": 12, \"11\": 5}, \"4\": {\"5\": 22, \"0\": 20, \"12\": 3, \"2\": 15, \"10\": 21, \"11\": 10, \"13\": 19, \"6\": 16, \"7\": 31, \"14\": 16, \"15\": 9, \"9\": 3, \"4\": 17, \"1\": 21, \"8\": 7, \"3\": 10}, \"12\": {\"2\": 26, \"12\": 62, \"11\": 13, \"1\": 6, \"5\": 2, \"3\": 32, \"15\": 38, \"10\": 2, \"7\": 9, \"8\": 30, \"4\": 2, \"6\": 10, \"14\": 4, \"13\": 2, \"0\": 2}}, \"O_38\": {\"13\": {\"8\": 12, \"1\": 30, \"2\": 39, \"15\": 25, \"5\": 13, \"10\": 16, \"13\": 58, \"7\": 4, \"0\": 4, \"9\": 11, \"6\": 8, \"14\": 13, \"3\": 5, \"11\": 2}, \"12\": {\"10\": 9, \"4\": 60, \"0\": 12, \"12\": 105, \"7\": 25, \"8\": 7, \"14\": 10, \"11\": 5, \"3\": 2, \"5\": 3, \"15\": 2}, \"2\": {\"2\": 74, \"10\": 16, \"13\": 42, \"11\": 5, \"14\": 29, \"15\": 28, \"6\": 3, \"1\": 19, \"9\": 9, \"0\": 2, \"8\": 5, \"7\": 2, \"5\": 5, \"3\": 1}, \"9\": {\"6\": 44, \"8\": 27, \"9\": 47, \"0\": 12, \"5\": 20, \"2\": 5, \"3\": 20, \"7\": 9, \"13\": 15, \"1\": 24, \"10\": 4, \"15\": 13}, \"15\": {\"15\": 46, \"0\": 9, \"6\": 16, \"2\": 33, \"13\": 30, \"5\": 17, \"3\": 6, \"8\": 27, \"14\": 10, \"1\": 28, \"9\": 11, \"10\": 5, \"7\": 2}, \"5\": {\"0\": 20, \"7\": 17, \"8\": 26, \"1\": 12, \"15\": 16, \"9\": 26, \"3\": 23, \"13\": 11, \"5\": 35, \"2\": 13, \"14\": 5, \"6\": 27, \"10\": 8, \"4\": 1}, \"14\": {\"14\": 90, \"11\": 33, \"7\": 7, \"10\": 31, \"0\": 8, \"13\": 15, \"2\": 33, \"12\": 8, \"15\": 8, \"1\": 2, \"8\": 5}, \"0\": {\"12\": 15, \"13\": 8, \"7\": 31, \"3\": 36, \"8\": 37, \"0\": 28, \"15\": 17, \"14\": 7, \"9\": 15, \"5\": 23, \"10\": 13, \"4\": 2, \"2\": 3, \"6\": 3, \"1\": 2}, \"3\": {\"8\": 20, \"3\": 73, \"7\": 37, \"6\": 9, \"9\": 17, \"5\": 26, \"12\": 5, \"0\": 35, \"15\": 7, \"13\": 5, \"10\": 4, \"1\": 1, \"2\": 1}, \"1\": {\"2\": 27, \"9\": 33, \"6\": 33, \"13\": 9, \"15\": 35, \"8\": 7, \"10\": 2, \"5\": 12, \"1\": 77, \"0\": 2, \"3\": 2, \"14\": 1}, \"11\": {\"14\": 56, \"11\": 105, \"4\": 10, \"10\": 27, \"12\": 12, \"8\": 3, \"2\": 15, \"1\": 1, \"13\": 3, \"3\": 1, \"15\": 2, \"7\": 3, \"0\": 1, \"5\": 1}, \"7\": {\"0\": 41, \"7\": 55, \"10\": 27, \"3\": 35, \"8\": 22, \"5\": 16, \"15\": 6, \"12\": 15, \"14\": 3, \"13\": 5, \"11\": 3, \"9\": 3, \"4\": 3, \"1\": 1, \"6\": 5}, \"8\": {\"1\": 4, \"2\": 7, \"3\": 20, \"8\": 32, \"7\": 23, \"14\": 11, \"15\": 28, \"0\": 21, \"10\": 16, \"9\": 17, \"6\": 17, \"5\": 30, \"13\": 11, \"12\": 2, \"11\": 1}, \"4\": {\"4\": 130, \"10\": 6, \"12\": 77, \"7\": 13, \"5\": 1, \"11\": 6, \"0\": 3, \"8\": 3, \"14\": 1}, \"10\": {\"10\": 43, \"9\": 6, \"12\": 13, \"13\": 16, \"0\": 23, \"7\": 20, \"3\": 8, \"5\": 18, \"15\": 20, \"14\": 31, \"2\": 12, \"1\": 1, \"8\": 15, \"11\": 12, \"6\": 2}, \"6\": {\"1\": 36, \"9\": 45, \"3\": 22, \"6\": 48, \"15\": 21, \"8\": 17, \"5\": 28, \"13\": 7, \"0\": 8, \"2\": 3, \"7\": 2, \"10\": 3}}, \"O_26\": {\"10\": {\"1\": 18, \"4\": 20, \"5\": 10, \"7\": 25, \"8\": 22, \"2\": 17, \"14\": 19, \"12\": 8, \"6\": 14, \"0\": 18, \"9\": 13, \"3\": 17, \"10\": 18, \"15\": 15, \"13\": 5, \"11\": 1}, \"12\": {\"12\": 59, \"13\": 18, \"15\": 18, \"11\": 28, \"6\": 25, \"0\": 9, \"10\": 11, \"2\": 7, \"14\": 5, \"4\": 3, \"5\": 22, \"9\": 22, \"7\": 4, \"8\": 4, \"1\": 3, \"3\": 2}, \"1\": {\"2\": 10, \"0\": 36, \"3\": 21, \"1\": 32, \"8\": 21, \"6\": 12, \"4\": 21, \"15\": 9, \"7\": 23, \"10\": 20, \"14\": 21, \"9\": 8, \"5\": 1, \"13\": 2, \"12\": 3}, \"0\": {\"2\": 16, \"8\": 18, \"1\": 21, \"0\": 27, \"6\": 15, \"5\": 10, \"3\": 11, \"10\": 22, \"12\": 5, \"4\": 27, \"15\": 14, \"9\": 10, \"14\": 24, \"7\": 14, \"13\": 6}, \"15\": {\"8\": 24, \"6\": 16, \"3\": 14, \"5\": 15, \"0\": 12, \"2\": 18, \"4\": 9, \"9\": 21, \"7\": 13, \"12\": 14, \"13\": 16, \"14\": 11, \"1\": 10, \"15\": 20, \"10\": 23, \"11\": 4}, \"13\": {\"12\": 20, \"6\": 27, \"1\": 1, \"4\": 1, \"11\": 25, \"13\": 41, \"2\": 12, \"15\": 19, \"7\": 7, \"10\": 5, \"5\": 35, \"9\": 28, \"14\": 2, \"8\": 10, \"0\": 2, \"3\": 5}, \"8\": {\"11\": 3, \"8\": 19, \"4\": 13, \"2\": 18, \"0\": 22, \"1\": 16, \"6\": 18, \"15\": 16, \"9\": 12, \"10\": 20, \"3\": 24, \"14\": 15, \"5\": 7, \"7\": 16, \"13\": 13, \"12\": 8}, \"3\": {\"8\": 23, \"2\": 10, \"9\": 18, \"1\": 18, \"3\": 22, \"5\": 14, \"13\": 9, \"4\": 16, \"15\": 18, \"0\": 17, \"7\": 17, \"14\": 15, \"6\": 18, \"12\": 6, \"10\": 19}, \"11\": {\"11\": 129, \"12\": 57, \"13\": 25, \"6\": 4, \"5\": 12, \"9\": 3, \"15\": 5, \"1\": 1, \"8\": 2, \"2\": 1, \"7\": 1}, \"4\": {\"3\": 16, \"1\": 20, \"2\": 20, \"14\": 31, \"4\": 20, \"5\": 5, \"8\": 17, \"6\": 16, \"0\": 28, \"10\": 16, \"9\": 12, \"7\": 21, \"15\": 16, \"11\": 1, \"12\": 1}, \"6\": {\"6\": 30, \"4\": 16, \"13\": 19, \"5\": 15, \"2\": 15, \"7\": 17, \"15\": 20, \"12\": 20, \"3\": 8, \"9\": 13, \"11\": 5, \"14\": 12, \"8\": 16, \"0\": 15, \"10\": 13, \"1\": 6}, \"7\": {\"14\": 25, \"3\": 27, \"4\": 19, \"1\": 20, \"12\": 5, \"7\": 17, \"2\": 17, \"15\": 13, \"0\": 19, \"8\": 17, \"10\": 27, \"6\": 8, \"9\": 15, \"13\": 5, \"5\": 6}, \"14\": {\"1\": 28, \"8\": 12, \"2\": 18, \"0\": 36, \"4\": 21, \"3\": 18, \"14\": 27, \"6\": 13, \"7\": 19, \"10\": 22, \"15\": 10, \"9\": 10, \"13\": 2, \"5\": 3, \"12\": 1}, \"2\": {\"3\": 23, \"7\": 26, \"8\": 20, \"4\": 12, \"2\": 18, \"6\": 16, \"15\": 22, \"5\": 18, \"14\": 14, \"1\": 9, \"12\": 8, \"13\": 4, \"10\": 24, \"0\": 9, \"9\": 17}, \"5\": {\"9\": 24, \"6\": 30, \"1\": 5, \"4\": 5, \"5\": 29, \"13\": 29, \"3\": 13, \"8\": 18, \"11\": 10, \"15\": 18, \"14\": 5, \"2\": 23, \"12\": 9, \"7\": 10, \"10\": 9, \"0\": 3}, \"9\": {\"8\": 20, \"11\": 5, \"4\": 7, \"12\": 14, \"9\": 32, \"15\": 26, \"2\": 25, \"5\": 18, \"6\": 23, \"13\": 16, \"3\": 16, \"0\": 5, \"7\": 13, \"10\": 11, \"14\": 4, \"1\": 5}}, \"O_20\": {\"5\": {\"12\": 20, \"11\": 16, \"4\": 14, \"0\": 23, \"5\": 18, \"7\": 13, \"1\": 23, \"9\": 19, \"3\": 22, \"8\": 15, \"13\": 15, \"15\": 17, \"10\": 6, \"6\": 7, \"2\": 12}, \"15\": {\"15\": 24, \"13\": 31, \"12\": 16, \"11\": 7, \"1\": 23, \"7\": 14, \"0\": 27, \"8\": 3, \"2\": 24, \"9\": 21, \"3\": 14, \"5\": 19, \"6\": 2, \"10\": 6, \"4\": 8, \"14\": 1}, \"9\": {\"7\": 14, \"15\": 17, \"11\": 13, \"9\": 23, \"0\": 17, \"13\": 12, \"3\": 20, \"6\": 8, \"1\": 16, \"2\": 27, \"12\": 20, \"5\": 20, \"4\": 10, \"14\": 3, \"8\": 11, \"10\": 9}, \"7\": {\"8\": 19, \"6\": 15, \"12\": 16, \"11\": 18, \"1\": 11, \"13\": 19, \"2\": 17, \"5\": 15, \"14\": 14, \"4\": 18, \"3\": 16, \"7\": 18, \"0\": 13, \"9\": 12, \"15\": 10, \"10\": 9}, \"3\": {\"4\": 17, \"2\": 19, \"0\": 15, \"6\": 9, \"7\": 19, \"14\": 3, \"5\": 22, \"13\": 12, \"8\": 19, \"12\": 20, \"1\": 18, \"10\": 17, \"15\": 12, \"11\": 9, \"3\": 17, \"9\": 12}, \"8\": {\"11\": 7, \"0\": 10, \"8\": 29, \"4\": 26, \"9\": 10, \"5\": 13, \"3\": 16, \"7\": 15, \"14\": 30, \"6\": 27, \"13\": 5, \"2\": 8, \"12\": 9, \"1\": 6, \"15\": 7, \"10\": 22}, \"4\": {\"12\": 19, \"0\": 15, \"6\": 20, \"9\": 9, \"8\": 25, \"14\": 20, \"1\": 7, \"7\": 24, \"2\": 16, \"3\": 15, \"10\": 24, \"4\": 23, \"15\": 4, \"5\": 12, \"13\": 3, \"11\": 4}, \"6\": {\"15\": 4, \"2\": 14, \"1\": 6, \"13\": 4, \"4\": 17, \"6\": 36, \"14\": 33, \"5\": 9, \"8\": 32, \"0\": 7, \"10\": 25, \"3\": 12, \"7\": 23, \"12\": 7, \"11\": 5, \"9\": 6}, \"2\": {\"3\": 24, \"7\": 15, \"9\": 30, \"1\": 21, \"10\": 9, \"12\": 24, \"2\": 15, \"15\": 16, \"11\": 11, \"5\": 17, \"13\": 23, \"6\": 5, \"4\": 9, \"0\": 15, \"8\": 3, \"14\": 3}, \"12\": {\"7\": 13, \"13\": 20, \"12\": 14, \"8\": 11, \"0\": 18, \"2\": 17, \"9\": 22, \"15\": 20, \"3\": 18, \"1\": 22, \"4\": 12, \"5\": 23, \"11\": 13, \"6\": 10, \"10\": 5, \"14\": 2}, \"0\": {\"12\": 28, \"15\": 9, \"11\": 12, \"9\": 22, \"7\": 22, \"0\": 29, \"8\": 8, \"13\": 17, \"4\": 10, \"1\": 12, \"14\": 5, \"3\": 16, \"5\": 24, \"2\": 16, \"10\": 5, \"6\": 5}, \"13\": {\"11\": 24, \"15\": 22, \"9\": 23, \"1\": 29, \"2\": 19, \"13\": 30, \"0\": 25, \"8\": 4, \"12\": 12, \"5\": 22, \"7\": 6, \"3\": 5, \"6\": 6, \"4\": 7, \"14\": 3, \"10\": 3}, \"10\": {\"8\": 26, \"4\": 29, \"6\": 32, \"14\": 32, \"9\": 10, \"10\": 30, \"3\": 13, \"5\": 10, \"13\": 7, \"7\": 18, \"2\": 14, \"11\": 3, \"1\": 5, \"15\": 1, \"12\": 5, \"0\": 5}, \"11\": {\"0\": 16, \"12\": 12, \"7\": 17, \"11\": 35, \"9\": 26, \"2\": 23, \"6\": 13, \"1\": 15, \"3\": 14, \"13\": 23, \"5\": 15, \"8\": 7, \"14\": 3, \"15\": 11, \"10\": 3, \"4\": 7}, \"14\": {\"6\": 38, \"8\": 36, \"7\": 18, \"4\": 25, \"10\": 28, \"14\": 43, \"3\": 10, \"5\": 7, \"0\": 3, \"1\": 4, \"2\": 11, \"9\": 6, \"11\": 4, \"12\": 4, \"15\": 2, \"13\": 1}, \"1\": {\"4\": 7, \"0\": 24, \"10\": 7, \"12\": 20, \"13\": 12, \"15\": 24, \"2\": 24, \"7\": 18, \"1\": 30, \"5\": 17, \"3\": 21, \"6\": 8, \"14\": 5, \"9\": 14, \"11\": 8, \"8\": 1}}, \"O_50\": {\"1\": {\"1\": 32, \"6\": 25, \"15\": 31, \"5\": 12, \"9\": 26, \"4\": 25, \"0\": 9, \"7\": 14, \"11\": 28, \"13\": 16, \"12\": 12, \"14\": 4, \"2\": 1, \"10\": 5}, \"2\": {\"2\": 84, \"8\": 23, \"12\": 15, \"10\": 31, \"0\": 39, \"7\": 2, \"1\": 5, \"14\": 29, \"13\": 3, \"9\": 1, \"5\": 2, \"6\": 1, \"3\": 4, \"15\": 1}, \"8\": {\"8\": 74, \"3\": 49, \"13\": 7, \"1\": 1, \"10\": 38, \"0\": 37, \"2\": 19, \"7\": 10, \"5\": 3, \"14\": 1, \"4\": 1}, \"7\": {\"10\": 16, \"14\": 4, \"13\": 33, \"15\": 6, \"11\": 7, \"8\": 13, \"3\": 14, \"7\": 50, \"4\": 13, \"5\": 35, \"0\": 13, \"6\": 21, \"1\": 14, \"9\": 1}, \"14\": {\"2\": 18, \"6\": 13, \"9\": 14, \"1\": 24, \"10\": 9, \"12\": 51, \"14\": 46, \"11\": 17, \"0\": 21, \"15\": 11, \"13\": 8, \"7\": 1, \"5\": 1, \"8\": 2, \"4\": 4}, \"6\": {\"7\": 17, \"15\": 31, \"6\": 35, \"1\": 32, \"13\": 21, \"4\": 21, \"11\": 17, \"12\": 3, \"9\": 10, \"14\": 7, \"5\": 14, \"10\": 16, \"0\": 8, \"2\": 4, \"8\": 3, \"3\": 1}, \"3\": {\"8\": 71, \"3\": 118, \"5\": 9, \"10\": 24, \"4\": 3, \"13\": 3, \"7\": 9, \"0\": 2, \"2\": 1}, \"4\": {\"1\": 31, \"15\": 30, \"11\": 22, \"13\": 18, \"6\": 19, \"4\": 25, \"5\": 30, \"7\": 20, \"10\": 6, \"0\": 2, \"9\": 19, \"14\": 7, \"12\": 6, \"8\": 3, \"3\": 1, \"2\": 1}, \"12\": {\"1\": 15, \"12\": 44, \"9\": 36, \"4\": 4, \"14\": 53, \"11\": 28, \"6\": 8, \"10\": 3, \"15\": 17, \"2\": 9, \"0\": 14, \"5\": 4, \"13\": 4, \"8\": 1}, \"15\": {\"11\": 39, \"13\": 12, \"4\": 30, \"15\": 33, \"1\": 31, \"14\": 3, \"10\": 2, \"9\": 32, \"0\": 3, \"5\": 16, \"6\": 23, \"12\": 3, \"7\": 12, \"8\": 1}, \"11\": {\"1\": 33, \"9\": 54, \"6\": 22, \"11\": 42, \"12\": 13, \"15\": 28, \"14\": 11, \"7\": 3, \"4\": 10, \"5\": 11, \"13\": 8, \"0\": 4, \"10\": 1}, \"0\": {\"2\": 42, \"4\": 2, \"3\": 10, \"1\": 15, \"7\": 11, \"0\": 50, \"13\": 10, \"10\": 35, \"12\": 11, \"8\": 34, \"14\": 13, \"6\": 5, \"11\": 2}, \"9\": {\"9\": 47, \"12\": 28, \"6\": 17, \"15\": 24, \"11\": 50, \"4\": 18, \"5\": 6, \"1\": 18, \"14\": 18, \"13\": 6, \"10\": 4, \"7\": 3, \"0\": 1}, \"10\": {\"10\": 47, \"1\": 12, \"14\": 1, \"13\": 18, \"3\": 17, \"12\": 2, \"6\": 12, \"0\": 35, \"8\": 33, \"4\": 6, \"5\": 12, \"7\": 20, \"2\": 22, \"11\": 1, \"15\": 2}, \"5\": {\"15\": 24, \"1\": 23, \"7\": 28, \"13\": 27, \"4\": 37, \"11\": 9, \"10\": 15, \"3\": 9, \"14\": 4, \"6\": 16, \"5\": 34, \"2\": 3, \"0\": 3, \"9\": 5, \"8\": 3}, \"13\": {\"14\": 6, \"4\": 18, \"7\": 34, \"1\": 22, \"8\": 7, \"13\": 37, \"15\": 20, \"5\": 25, \"11\": 8, \"9\": 5, \"6\": 29, \"0\": 4, \"12\": 4, \"10\": 18, \"3\": 1, \"2\": 2}}, \"O_32\": {\"2\": {\"8\": 9, \"4\": 38, \"0\": 26, \"7\": 16, \"2\": 48, \"13\": 16, \"14\": 24, \"5\": 15, \"9\": 21, \"12\": 9, \"11\": 17, \"3\": 1}, \"6\": {\"10\": 34, \"12\": 21, \"6\": 142, \"1\": 30, \"9\": 13}, \"5\": {\"2\": 13, \"5\": 32, \"4\": 26, \"13\": 31, \"11\": 14, \"0\": 29, \"14\": 22, \"9\": 3, \"7\": 23, \"3\": 17, \"8\": 27, \"12\": 3}, \"12\": {\"9\": 72, \"12\": 98, \"10\": 41, \"2\": 5, \"6\": 12, \"0\": 6, \"13\": 1, \"7\": 1, \"4\": 3, \"14\": 1}, \"13\": {\"5\": 32, \"2\": 6, \"13\": 42, \"11\": 21, \"0\": 20, \"14\": 22, \"4\": 20, \"7\": 22, \"3\": 26, \"8\": 29}, \"9\": {\"9\": 79, \"10\": 8, \"12\": 60, \"4\": 12, \"2\": 33, \"0\": 14, \"7\": 8, \"11\": 3, \"14\": 7, \"6\": 11, \"8\": 1, \"1\": 1, \"5\": 1, \"13\": 2}, \"11\": {\"0\": 31, \"8\": 22, \"11\": 34, \"7\": 32, \"14\": 37, \"5\": 27, \"13\": 11, \"2\": 15, \"3\": 15, \"4\": 13, \"9\": 2, \"12\": 1}, \"1\": {\"1\": 170, \"10\": 64, \"6\": 6}, \"3\": {\"13\": 35, \"3\": 81, \"15\": 18, \"11\": 15, \"14\": 11, \"5\": 22, \"8\": 41, \"4\": 6, \"7\": 7, \"0\": 4}, \"7\": {\"14\": 24, \"2\": 32, \"5\": 33, \"4\": 27, \"7\": 33, \"11\": 26, \"9\": 6, \"8\": 16, \"0\": 24, \"13\": 14, \"3\": 3, \"12\": 2}, \"14\": {\"14\": 38, \"11\": 33, \"7\": 22, \"8\": 14, \"5\": 21, \"13\": 20, \"9\": 7, \"4\": 20, \"2\": 30, \"0\": 31, \"3\": 3, \"12\": 1}, \"8\": {\"0\": 32, \"2\": 4, \"11\": 16, \"13\": 36, \"8\": 35, \"4\": 17, \"5\": 17, \"3\": 50, \"7\": 14, \"14\": 14, \"12\": 1, \"15\": 3, \"9\": 1}, \"4\": {\"5\": 19, \"2\": 31, \"11\": 23, \"4\": 32, \"7\": 37, \"14\": 23, \"13\": 21, \"8\": 17, \"12\": 3, \"0\": 23, \"9\": 9, \"3\": 2}, \"0\": {\"0\": 41, \"13\": 17, \"14\": 24, \"7\": 39, \"11\": 24, \"9\": 9, \"4\": 18, \"2\": 14, \"8\": 22, \"5\": 19, \"3\": 8, \"12\": 5}, \"10\": {\"1\": 48, \"10\": 148, \"12\": 25, \"6\": 16, \"9\": 3}, \"15\": {\"15\": 163, \"3\": 45, \"13\": 5, \"8\": 12, \"11\": 3, \"5\": 8, \"4\": 1, \"0\": 2, \"7\": 1}}, \"O_44\": {\"13\": {\"13\": 39, \"6\": 34, \"12\": 15, \"10\": 22, \"9\": 36, \"11\": 22, \"2\": 17, \"4\": 5, \"7\": 32, \"3\": 4, \"1\": 5, \"14\": 5, \"5\": 3, \"15\": 1}, \"4\": {\"3\": 24, \"4\": 68, \"14\": 54, \"13\": 6, \"12\": 4, \"15\": 15, \"7\": 8, \"11\": 1, \"9\": 14, \"10\": 1, \"1\": 6, \"5\": 25, \"0\": 9, \"2\": 2, \"8\": 3}, \"6\": {\"13\": 42, \"7\": 32, \"6\": 50, \"1\": 9, \"11\": 26, \"9\": 24, \"12\": 5, \"2\": 23, \"4\": 1, \"10\": 27, \"3\": 1}, \"0\": {\"0\": 74, \"15\": 56, \"5\": 30, \"8\": 57, \"14\": 15, \"4\": 8}, \"10\": {\"2\": 37, \"9\": 27, \"10\": 44, \"1\": 14, \"12\": 29, \"7\": 36, \"6\": 19, \"3\": 10, \"13\": 19, \"11\": 3, \"4\": 2}, \"7\": {\"2\": 32, \"1\": 22, \"14\": 2, \"13\": 27, \"3\": 14, \"6\": 22, \"10\": 27, \"12\": 16, \"11\": 9, \"9\": 36, \"7\": 31, \"4\": 2}, \"14\": {\"4\": 52, \"15\": 18, \"5\": 44, \"14\": 50, \"13\": 4, \"8\": 15, \"3\": 24, \"2\": 3, \"0\": 18, \"9\": 6, \"1\": 4, \"7\": 2}, \"15\": {\"14\": 38, \"8\": 42, \"5\": 44, \"0\": 56, \"4\": 17, \"15\": 42, \"12\": 1}, \"5\": {\"14\": 46, \"0\": 40, \"4\": 29, \"15\": 43, \"5\": 41, \"8\": 34, \"3\": 6, \"1\": 1}, \"2\": {\"10\": 46, \"13\": 25, \"2\": 42, \"12\": 26, \"7\": 26, \"6\": 21, \"1\": 15, \"9\": 26, \"11\": 4, \"3\": 5, \"4\": 4}, \"9\": {\"1\": 17, \"3\": 13, \"9\": 39, \"7\": 47, \"2\": 22, \"13\": 31, \"6\": 15, \"10\": 22, \"11\": 11, \"12\": 12, \"4\": 10, \"5\": 1}, \"12\": {\"3\": 30, \"1\": 40, \"10\": 38, \"12\": 53, \"7\": 22, \"2\": 29, \"14\": 1, \"6\": 7, \"4\": 1, \"9\": 13, \"13\": 6}, \"8\": {\"5\": 25, \"8\": 88, \"0\": 62, \"15\": 53, \"14\": 10, \"4\": 2}, \"3\": {\"13\": 7, \"3\": 63, \"12\": 34, \"2\": 12, \"1\": 54, \"14\": 10, \"10\": 8, \"9\": 17, \"7\": 15, \"6\": 2, \"4\": 17, \"15\": 1}, \"1\": {\"12\": 35, \"1\": 42, \"10\": 26, \"3\": 31, \"7\": 36, \"4\": 4, \"9\": 22, \"2\": 28, \"6\": 4, \"13\": 9, \"11\": 2, \"14\": 1}, \"11\": {\"9\": 20, \"10\": 13, \"11\": 100, \"13\": 31, \"6\": 38, \"2\": 8, \"7\": 21, \"4\": 2, \"12\": 5, \"1\": 2}}, \"O_14\": {\"1\": {\"13\": 7, \"2\": 16, \"15\": 5, \"5\": 22, \"7\": 21, \"8\": 8, \"3\": 31, \"11\": 9, \"0\": 28, \"1\": 28, \"14\": 8, \"4\": 29, \"10\": 19, \"12\": 3, \"9\": 4, \"6\": 2}, \"15\": {\"5\": 20, \"6\": 21, \"13\": 35, \"2\": 17, \"4\": 16, \"15\": 53, \"1\": 15, \"7\": 25, \"3\": 9, \"14\": 16, \"10\": 8, \"0\": 4, \"11\": 1}, \"10\": {\"2\": 11, \"5\": 20, \"15\": 8, \"0\": 31, \"3\": 31, \"4\": 27, \"11\": 20, \"10\": 33, \"12\": 6, \"1\": 20, \"14\": 7, \"8\": 3, \"13\": 10, \"7\": 5, \"9\": 3, \"6\": 5}, \"2\": {\"3\": 20, \"2\": 30, \"10\": 15, \"13\": 24, \"6\": 20, \"1\": 11, \"7\": 15, \"5\": 22, \"15\": 21, \"14\": 25, \"4\": 19, \"0\": 11, \"11\": 6, \"12\": 1}, \"9\": {\"12\": 62, \"8\": 34, \"11\": 30, \"4\": 10, \"5\": 5, \"0\": 16, \"9\": 59, \"10\": 8, \"3\": 6, \"2\": 1, \"14\": 1, \"7\": 1, \"1\": 7}, \"5\": {\"10\": 17, \"9\": 2, \"13\": 16, \"6\": 12, \"15\": 18, \"7\": 24, \"3\": 25, \"4\": 26, \"14\": 10, \"5\": 29, \"2\": 16, \"1\": 25, \"0\": 13, \"8\": 1, \"11\": 6}, \"7\": {\"2\": 27, \"11\": 5, \"13\": 24, \"1\": 25, \"15\": 25, \"4\": 24, \"14\": 16, \"3\": 15, \"10\": 12, \"7\": 29, \"5\": 20, \"0\": 11, \"6\": 5, \"12\": 1, \"9\": 1}, \"13\": {\"13\": 38, \"4\": 15, \"2\": 32, \"15\": 25, \"7\": 12, \"6\": 44, \"5\": 10, \"3\": 10, \"1\": 4, \"14\": 32, \"0\": 7, \"10\": 8, \"11\": 3}, \"8\": {\"5\": 9, \"8\": 56, \"7\": 7, \"9\": 53, \"1\": 31, \"11\": 16, \"12\": 32, \"0\": 13, \"10\": 5, \"3\": 7, \"4\": 9, \"15\": 2}, \"6\": {\"13\": 44, \"3\": 18, \"4\": 13, \"7\": 8, \"15\": 32, \"14\": 31, \"2\": 21, \"6\": 44, \"5\": 15, \"10\": 8, \"1\": 4, \"0\": 1, \"11\": 1}, \"3\": {\"1\": 18, \"4\": 23, \"8\": 6, \"0\": 25, \"14\": 17, \"6\": 5, \"5\": 37, \"3\": 15, \"9\": 13, \"11\": 15, \"13\": 7, \"10\": 24, \"7\": 14, \"2\": 20, \"15\": 1}, \"12\": {\"9\": 64, \"8\": 41, \"12\": 97, \"0\": 9, \"11\": 16, \"1\": 4, \"3\": 3, \"10\": 5, \"4\": 1}, \"0\": {\"7\": 8, \"11\": 26, \"5\": 21, \"2\": 10, \"4\": 19, \"14\": 16, \"0\": 25, \"10\": 18, \"12\": 10, \"3\": 31, \"13\": 6, \"9\": 20, \"1\": 15, \"8\": 5, \"15\": 6, \"6\": 4}, \"4\": {\"3\": 25, \"4\": 25, \"13\": 16, \"7\": 15, \"2\": 12, \"15\": 14, \"11\": 16, \"1\": 18, \"0\": 18, \"6\": 9, \"10\": 27, \"14\": 15, \"5\": 20, \"9\": 4, \"8\": 4, \"12\": 2}, \"14\": {\"3\": 16, \"5\": 20, \"2\": 37, \"7\": 10, \"13\": 25, \"4\": 19, \"14\": 32, \"10\": 14, \"0\": 9, \"6\": 32, \"11\": 12, \"15\": 10, \"1\": 4}, \"11\": {\"0\": 36, \"9\": 22, \"1\": 10, \"5\": 14, \"11\": 31, \"6\": 4, \"4\": 16, \"10\": 29, \"3\": 32, \"13\": 6, \"7\": 5, \"2\": 11, \"14\": 7, \"12\": 10, \"8\": 7}}}, \"per_domain_accuracy\": {\"C_2\": {\"accuracy\": 0.9994673295454546, \"source?\": true}, \"W_2\": {\"accuracy\": 0.9554884453781513, \"source?\": true}, \"C_5\": {\"accuracy\": 0.9956109550561798, \"source?\": true}, \"C_1\": {\"accuracy\": 0.9989697802197802, \"source?\": true}, \"W_4\": {\"accuracy\": 0.9561471193415638, \"source?\": true}, \"C_4\": {\"accuracy\": 0.9981287425149701, \"source?\": true}, \"W_1\": {\"accuracy\": 0.9742021276595745, \"source?\": true}, \"W_3\": {\"accuracy\": 0.9761839207048458, \"source?\": true}, \"C_3\": {\"accuracy\": 0.9979897660818714, \"source?\": true}, \"O_8\": {\"accuracy\": 0.1671875, \"source?\": false}, \"O_38\": {\"accuracy\": 0.27239583333333334, \"source?\": false}, \"O_26\": {\"accuracy\": 0.140625, \"source?\": false}, \"O_20\": {\"accuracy\": 0.1078125, \"source?\": false}, \"O_50\": {\"accuracy\": 0.2078125, \"source?\": false}, \"O_32\": {\"accuracy\": 0.31666666666666665, \"source?\": false}, \"O_44\": {\"accuracy\": 0.22552083333333334, \"source?\": false}, \"O_14\": {\"accuracy\": 0.1625, \"source?\": false}}}, \"history\": {\"epoch_indices\": [1, 2, 3, 4, 5], \"train_label_loss\": [0.1071565763512188, 0.06452371074383378, 0.05325760137060832, 0.04383268025103469, 0.037270220777268284], \"source_val_label_loss\": [0.09052333980798721, 0.06632634252309799, 0.05786699801683426, 0.059690870344638824, 0.05921102315187454], \"target_val_label_loss\": [2.4659667015075684, 2.499772071838379, 2.5392234325408936, 2.8254647254943848, 3.1545205116271973], \"source_val_acc_label\": [0.981047055586131, 0.9851919372592185, 0.9865506329113924, 0.9865678315905339, 0.9870149972482113], \"target_val_acc_label\": [0.20006510416666667, 0.19309895833333332, 0.18896484375, 0.15804036458333334, 0.14609375]}, \"dataset_metrics\": {\"source\": {\"train\": {\"n_unique_x\": 364194, \"n_unique_y\": 130, \"n_batch/episode\": 13167}, \"val\": {\"n_unique_x\": 77154, \"n_unique_y\": 130, \"n_batch/episode\": 1817}, \"test\": {\"n_unique_x\": 78411, \"n_unique_y\": 130, \"n_batch/episode\": 1853}}, \"target\": {\"train\": {\"n_unique_x\": 179200, \"n_unique_y\": 16, \"n_batch/episode\": 6720}, \"val\": {\"n_unique_x\": 38400, \"n_unique_y\": 16, \"n_batch/episode\": 960}, \"test\": {\"n_unique_x\": 38400, \"n_unique_y\": 16, \"n_batch/episode\": 960}}}}'"
      ]
     },
     "execution_count": 29,
     "metadata": {},
     "output_type": "execute_result"
    }
   ],
   "source": [
    "json.dumps(experiment)"
   ]
  }
 ],
 "metadata": {
  "celltoolbar": "Tags",
  "kernelspec": {
   "display_name": "Python 3 (ipykernel)",
   "language": "python",
   "name": "python3"
  },
  "language_info": {
   "codemirror_mode": {
    "name": "ipython",
    "version": 3
   },
   "file_extension": ".py",
   "mimetype": "text/x-python",
   "name": "python",
   "nbconvert_exporter": "python",
   "pygments_lexer": "ipython3",
   "version": "3.8.10"
  },
  "papermill": {
   "default_parameters": {},
   "duration": 3399.427779,
   "end_time": "2022-03-20T08:09:56.179185",
   "environment_variables": {},
   "exception": null,
   "input_path": "/mnt/wd500GB/CSC500/csc500-main/csc500-notebooks/templates/tl_ptn_template.ipynb",
   "output_path": "trial.ipynb",
   "parameters": {
    "parameters": {
     "BEST_MODEL_PATH": "./best_model.pth",
     "NUM_LOGS_PER_EPOCH": 10,
     "criteria_for_best": "target_accuracy",
     "dataset_seed": 154325,
     "datasets": [
      {
       "domain_prefix": "C_",
       "domains": [
        1,
        2,
        3,
        4,
        5
       ],
       "episode_transforms": [],
       "labels": [
        "1-10.",
        "1-11.",
        "1-15.",
        "1-16.",
        "1-17.",
        "1-18.",
        "1-19.",
        "10-4.",
        "10-7.",
        "11-1.",
        "11-14.",
        "11-17.",
        "11-20.",
        "11-7.",
        "13-20.",
        "13-8.",
        "14-10.",
        "14-11.",
        "14-14.",
        "14-7.",
        "15-1.",
        "15-20.",
        "16-1.",
        "16-16.",
        "17-10.",
        "17-11.",
        "17-2.",
        "19-1.",
        "19-16.",
        "19-19.",
        "19-20.",
        "19-3.",
        "2-10.",
        "2-11.",
        "2-17.",
        "2-18.",
        "2-20.",
        "2-3.",
        "2-4.",
        "2-5.",
        "2-6.",
        "2-7.",
        "2-8.",
        "3-13.",
        "3-18.",
        "3-3.",
        "4-1.",
        "4-10.",
        "4-11.",
        "4-19.",
        "5-5.",
        "6-15.",
        "7-10.",
        "7-14.",
        "8-18.",
        "8-20.",
        "8-3.",
        "8-8."
       ],
       "num_examples_per_domain_per_label": -1,
       "pickle_path": "/mnt/wd500GB/CSC500/csc500-main/datasets/cores.stratified_ds.2022A.pkl",
       "source_or_target_dataset": "source",
       "x_transforms": [
        "unit_mag"
       ]
      },
      {
       "domain_prefix": "W_",
       "domains": [
        1,
        2,
        3,
        4
       ],
       "episode_transforms": [],
       "labels": [
        "1-10",
        "1-12",
        "1-14",
        "1-16",
        "1-18",
        "1-19",
        "1-8",
        "10-11",
        "10-17",
        "10-4",
        "10-7",
        "11-1",
        "11-10",
        "11-19",
        "11-20",
        "11-4",
        "11-7",
        "12-19",
        "12-20",
        "12-7",
        "13-14",
        "13-18",
        "13-19",
        "13-20",
        "13-3",
        "13-7",
        "14-10",
        "14-11",
        "14-12",
        "14-13",
        "14-14",
        "14-19",
        "14-20",
        "14-7",
        "14-8",
        "14-9",
        "15-1",
        "15-19",
        "15-6",
        "16-1",
        "16-16",
        "16-19",
        "16-20",
        "17-10",
        "17-11",
        "18-1",
        "18-10",
        "18-11",
        "18-12",
        "18-13",
        "18-14",
        "18-15",
        "18-16",
        "18-17",
        "18-19",
        "18-2",
        "18-20",
        "18-4",
        "18-5",
        "18-7",
        "18-8",
        "18-9",
        "19-1",
        "19-10",
        "19-11",
        "19-12",
        "19-13",
        "19-14",
        "19-15",
        "19-19",
        "19-2",
        "19-20",
        "19-3",
        "19-4",
        "19-6",
        "19-7",
        "19-8",
        "19-9",
        "2-1",
        "2-13",
        "2-15",
        "2-3",
        "2-4",
        "2-5",
        "2-6",
        "2-7",
        "2-8",
        "20-1",
        "20-12",
        "20-14",
        "20-15",
        "20-16",
        "20-18",
        "20-19",
        "20-20",
        "20-3",
        "20-4",
        "20-5",
        "20-7",
        "20-8",
        "3-1",
        "3-13",
        "3-18",
        "3-2",
        "3-8",
        "4-1",
        "4-10",
        "4-11",
        "5-1",
        "5-5",
        "6-1",
        "6-15",
        "6-6",
        "7-10",
        "7-11",
        "7-12",
        "7-13",
        "7-14",
        "7-7",
        "7-8",
        "7-9",
        "8-1",
        "8-13",
        "8-14",
        "8-18",
        "8-20",
        "8-3",
        "8-8",
        "9-1",
        "9-7"
       ],
       "num_examples_per_domain_per_label": -1,
       "pickle_path": "/mnt/wd500GB/CSC500/csc500-main/datasets/wisig.node3-19.stratified_ds.2022A.pkl",
       "source_or_target_dataset": "source",
       "x_transforms": [
        "unit_mag"
       ]
      },
      {
       "domain_prefix": "O_",
       "domains": [
        32,
        38,
        8,
        44,
        14,
        50,
        20,
        26
       ],
       "episode_transforms": [],
       "labels": [
        "3123D52",
        "3123D65",
        "3123D79",
        "3123D80",
        "3123D54",
        "3123D70",
        "3123D7B",
        "3123D89",
        "3123D58",
        "3123D76",
        "3123D7D",
        "3123EFE",
        "3123D64",
        "3123D78",
        "3123D7E",
        "3124E4A"
       ],
       "num_examples_per_domain_per_label": 2000,
       "pickle_path": "/mnt/wd500GB/CSC500/csc500-main/datasets/oracle.Run1_framed_2000Examples_stratified_ds.2022A.pkl",
       "source_or_target_dataset": "target",
       "x_transforms": [
        "unit_mag"
       ]
      }
     ],
     "device": "cuda",
     "experiment_name": "tl_2v2:cores+wisig -> oracle.run1.framed",
     "lr": 0.0001,
     "n_epoch": 50,
     "n_query": 2,
     "n_shot": 3,
     "n_way": 16,
     "patience": 3,
     "seed": 154325,
     "test_k_factor": 2,
     "torch_default_dtype": "torch.float32",
     "train_k_factor": 3,
     "val_k_factor": 2,
     "x_net": [
      {
       "class": "nnReshape",
       "kargs": {
        "shape": [
         -1,
         1,
         2,
         256
        ]
       }
      },
      {
       "class": "Conv2d",
       "kargs": {
        "bias": false,
        "in_channels": 1,
        "kernel_size": [
         1,
         7
        ],
        "out_channels": 256,
        "padding": [
         0,
         3
        ]
       }
      },
      {
       "class": "ReLU",
       "kargs": {
        "inplace": true
       }
      },
      {
       "class": "BatchNorm2d",
       "kargs": {
        "num_features": 256
       }
      },
      {
       "class": "Conv2d",
       "kargs": {
        "bias": true,
        "in_channels": 256,
        "kernel_size": [
         2,
         7
        ],
        "out_channels": 80,
        "padding": [
         0,
         3
        ]
       }
      },
      {
       "class": "ReLU",
       "kargs": {
        "inplace": true
       }
      },
      {
       "class": "BatchNorm2d",
       "kargs": {
        "num_features": 80
       }
      },
      {
       "class": "Flatten",
       "kargs": {}
      },
      {
       "class": "Linear",
       "kargs": {
        "in_features": 20480,
        "out_features": 256
       }
      },
      {
       "class": "ReLU",
       "kargs": {
        "inplace": true
       }
      },
      {
       "class": "BatchNorm1d",
       "kargs": {
        "num_features": 256
       }
      },
      {
       "class": "Linear",
       "kargs": {
        "in_features": 256,
        "out_features": 256
       }
      }
     ]
    }
   },
   "start_time": "2022-03-20T07:13:16.751406",
   "version": "2.3.4"
  }
 },
 "nbformat": 4,
 "nbformat_minor": 5
}