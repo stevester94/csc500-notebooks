{
 "cells": [
  {
   "cell_type": "markdown",
   "id": "9fea5f46",
   "metadata": {
    "papermill": {
     "duration": 0.01806,
     "end_time": "2022-03-20T02:40:31.015064",
     "exception": false,
     "start_time": "2022-03-20T02:40:30.997004",
     "status": "completed"
    },
    "tags": []
   },
   "source": [
    "# Transfer Learning Template"
   ]
  },
  {
   "cell_type": "code",
   "execution_count": 1,
   "id": "0902182a",
   "metadata": {
    "execution": {
     "iopub.execute_input": "2022-03-20T02:40:31.054028Z",
     "iopub.status.busy": "2022-03-20T02:40:31.043141Z",
     "iopub.status.idle": "2022-03-20T02:40:32.016475Z",
     "shell.execute_reply": "2022-03-20T02:40:32.016161Z"
    },
    "papermill": {
     "duration": 0.988266,
     "end_time": "2022-03-20T02:40:32.016544",
     "exception": false,
     "start_time": "2022-03-20T02:40:31.028278",
     "status": "completed"
    },
    "tags": []
   },
   "outputs": [],
   "source": [
    "%load_ext autoreload\n",
    "%autoreload 2\n",
    "%matplotlib inline\n",
    "\n",
    "    \n",
    "import os, json, sys, time, random\n",
    "import numpy as np\n",
    "import torch\n",
    "from torch.optim import Adam\n",
    "from  easydict import EasyDict\n",
    "import matplotlib.pyplot as plt\n",
    "\n",
    "from steves_models.steves_ptn import Steves_Prototypical_Network\n",
    "\n",
    "from steves_utils.lazy_iterable_wrapper import Lazy_Iterable_Wrapper\n",
    "from steves_utils.iterable_aggregator import Iterable_Aggregator\n",
    "from steves_utils.ptn_train_eval_test_jig import  PTN_Train_Eval_Test_Jig\n",
    "from steves_utils.torch_sequential_builder import build_sequential\n",
    "from steves_utils.torch_utils import get_dataset_metrics, ptn_confusion_by_domain_over_dataloader\n",
    "from steves_utils.utils_v2 import (per_domain_accuracy_from_confusion, get_datasets_base_path)\n",
    "from steves_utils.PTN.utils import independent_accuracy_assesment\n",
    "\n",
    "from torch.utils.data import DataLoader\n",
    "\n",
    "from steves_utils.stratified_dataset.episodic_accessor import Episodic_Accessor_Factory\n",
    "\n",
    "from steves_utils.ptn_do_report import (\n",
    "    get_loss_curve,\n",
    "    get_results_table,\n",
    "    get_parameters_table,\n",
    "    get_domain_accuracies,\n",
    ")\n",
    "\n",
    "from steves_utils.transforms import get_chained_transform"
   ]
  },
  {
   "cell_type": "markdown",
   "id": "41c840b4",
   "metadata": {
    "papermill": {
     "duration": 0.013995,
     "end_time": "2022-03-20T02:40:32.046314",
     "exception": false,
     "start_time": "2022-03-20T02:40:32.032319",
     "status": "completed"
    },
    "tags": []
   },
   "source": [
    "# Allowed Parameters\n",
    "These are allowed parameters, not defaults\n",
    "Each of these values need to be present in the injected parameters (the notebook will raise an exception if they are not present)\n",
    "\n",
    "Papermill uses the cell tag \"parameters\" to inject the real parameters below this cell.\n",
    "Enable tags to see what I mean"
   ]
  },
  {
   "cell_type": "code",
   "execution_count": 2,
   "id": "fd44eb83",
   "metadata": {
    "execution": {
     "iopub.execute_input": "2022-03-20T02:40:32.075224Z",
     "iopub.status.busy": "2022-03-20T02:40:32.074952Z",
     "iopub.status.idle": "2022-03-20T02:40:32.090658Z",
     "shell.execute_reply": "2022-03-20T02:40:32.090195Z"
    },
    "papermill": {
     "duration": 0.031874,
     "end_time": "2022-03-20T02:40:32.090758",
     "exception": false,
     "start_time": "2022-03-20T02:40:32.058884",
     "status": "completed"
    },
    "tags": []
   },
   "outputs": [],
   "source": [
    "required_parameters = {\n",
    "    \"experiment_name\",\n",
    "    \"lr\",\n",
    "    \"device\",\n",
    "    \"seed\",\n",
    "    \"dataset_seed\",\n",
    "    \"n_shot\",\n",
    "    \"n_query\",\n",
    "    \"n_way\",\n",
    "    \"train_k_factor\",\n",
    "    \"val_k_factor\",\n",
    "    \"test_k_factor\",\n",
    "    \"n_epoch\",\n",
    "    \"patience\",\n",
    "    \"criteria_for_best\",\n",
    "    \"x_net\",\n",
    "    \"datasets\",\n",
    "    \"torch_default_dtype\",\n",
    "    \"NUM_LOGS_PER_EPOCH\",\n",
    "    \"BEST_MODEL_PATH\",\n",
    "    \"x_shape\",\n",
    "}"
   ]
  },
  {
   "cell_type": "code",
   "execution_count": 3,
   "id": "fa3f0049",
   "metadata": {
    "execution": {
     "iopub.execute_input": "2022-03-20T02:40:32.132272Z",
     "iopub.status.busy": "2022-03-20T02:40:32.131861Z",
     "iopub.status.idle": "2022-03-20T02:40:32.145260Z",
     "shell.execute_reply": "2022-03-20T02:40:32.144754Z"
    },
    "papermill": {
     "duration": 0.037091,
     "end_time": "2022-03-20T02:40:32.145366",
     "exception": false,
     "start_time": "2022-03-20T02:40:32.108275",
     "status": "completed"
    },
    "tags": [
     "parameters"
    ]
   },
   "outputs": [],
   "source": [
    "from steves_utils.CORES.utils import (\n",
    "    ALL_NODES,\n",
    "    ALL_NODES_MINIMUM_1000_EXAMPLES,\n",
    "    ALL_DAYS\n",
    ")\n",
    "\n",
    "from steves_utils.ORACLE.utils_v2 import (\n",
    "    ALL_DISTANCES_FEET_NARROWED,\n",
    "    ALL_RUNS,\n",
    "    ALL_SERIAL_NUMBERS,\n",
    ")\n",
    "\n",
    "standalone_parameters = {}\n",
    "standalone_parameters[\"experiment_name\"] = \"STANDALONE PTN\"\n",
    "standalone_parameters[\"lr\"] = 0.001\n",
    "standalone_parameters[\"device\"] = \"cuda\"\n",
    "\n",
    "standalone_parameters[\"seed\"] = 1337\n",
    "standalone_parameters[\"dataset_seed\"] = 1337\n",
    "\n",
    "standalone_parameters[\"n_way\"] = 8\n",
    "standalone_parameters[\"n_shot\"] = 3\n",
    "standalone_parameters[\"n_query\"]  = 2\n",
    "standalone_parameters[\"train_k_factor\"] = 1\n",
    "standalone_parameters[\"val_k_factor\"] = 2\n",
    "standalone_parameters[\"test_k_factor\"] = 2\n",
    "\n",
    "\n",
    "standalone_parameters[\"n_epoch\"] = 50\n",
    "\n",
    "standalone_parameters[\"patience\"] = 10\n",
    "standalone_parameters[\"criteria_for_best\"] = \"source_loss\"\n",
    "\n",
    "standalone_parameters[\"datasets\"] = [\n",
    "    {\n",
    "        \"labels\": ALL_SERIAL_NUMBERS,\n",
    "        \"domains\": ALL_DISTANCES_FEET_NARROWED,\n",
    "        \"num_examples_per_domain_per_label\": 100,\n",
    "        \"pickle_path\": os.path.join(get_datasets_base_path(), \"oracle.Run1_framed_2000Examples_stratified_ds.2022A.pkl\"),\n",
    "        \"source_or_target_dataset\": \"source\",\n",
    "        \"x_transforms\": [\"unit_mag\", \"minus_two\"],\n",
    "        \"episode_transforms\": [],\n",
    "        \"domain_prefix\": \"ORACLE_\"\n",
    "    },\n",
    "    {\n",
    "        \"labels\": ALL_NODES,\n",
    "        \"domains\": ALL_DAYS,\n",
    "        \"num_examples_per_domain_per_label\": 100,\n",
    "        \"pickle_path\": os.path.join(get_datasets_base_path(), \"cores.stratified_ds.2022A.pkl\"),\n",
    "        \"source_or_target_dataset\": \"target\",\n",
    "        \"x_transforms\": [\"unit_power\", \"times_zero\"],\n",
    "        \"episode_transforms\": [],\n",
    "        \"domain_prefix\": \"CORES_\"\n",
    "    }   \n",
    "]\n",
    "\n",
    "standalone_parameters[\"torch_default_dtype\"] = \"torch.float32\" \n",
    "\n",
    "\n",
    "\n",
    "standalone_parameters[\"x_net\"] =     [\n",
    "    {\"class\": \"nnReshape\", \"kargs\": {\"shape\":[-1, 1, 2, 256]}},\n",
    "    {\"class\": \"Conv2d\", \"kargs\": { \"in_channels\":1, \"out_channels\":256, \"kernel_size\":(1,7), \"bias\":False, \"padding\":(0,3), },},\n",
    "    {\"class\": \"ReLU\", \"kargs\": {\"inplace\": True}},\n",
    "    {\"class\": \"BatchNorm2d\", \"kargs\": {\"num_features\":256}},\n",
    "\n",
    "    {\"class\": \"Conv2d\", \"kargs\": { \"in_channels\":256, \"out_channels\":80, \"kernel_size\":(2,7), \"bias\":True, \"padding\":(0,3), },},\n",
    "    {\"class\": \"ReLU\", \"kargs\": {\"inplace\": True}},\n",
    "    {\"class\": \"BatchNorm2d\", \"kargs\": {\"num_features\":80}},\n",
    "    {\"class\": \"Flatten\", \"kargs\": {}},\n",
    "\n",
    "    {\"class\": \"Linear\", \"kargs\": {\"in_features\": 80*256, \"out_features\": 256}}, # 80 units per IQ pair\n",
    "    {\"class\": \"ReLU\", \"kargs\": {\"inplace\": True}},\n",
    "    {\"class\": \"BatchNorm1d\", \"kargs\": {\"num_features\":256}},\n",
    "\n",
    "    {\"class\": \"Linear\", \"kargs\": {\"in_features\": 256, \"out_features\": 256}},\n",
    "]\n",
    "\n",
    "# Parameters relevant to results\n",
    "# These parameters will basically never need to change\n",
    "standalone_parameters[\"NUM_LOGS_PER_EPOCH\"] = 10\n",
    "standalone_parameters[\"BEST_MODEL_PATH\"] = \"./best_model.pth\"\n",
    "\n",
    "\n",
    "\n",
    "\n"
   ]
  },
  {
   "cell_type": "code",
   "execution_count": 4,
   "id": "48b7618a",
   "metadata": {
    "execution": {
     "iopub.execute_input": "2022-03-20T02:40:32.189142Z",
     "iopub.status.busy": "2022-03-20T02:40:32.183515Z",
     "iopub.status.idle": "2022-03-20T02:40:32.202547Z",
     "shell.execute_reply": "2022-03-20T02:40:32.202047Z"
    },
    "papermill": {
     "duration": 0.038894,
     "end_time": "2022-03-20T02:40:32.202650",
     "exception": false,
     "start_time": "2022-03-20T02:40:32.163756",
     "status": "completed"
    },
    "tags": [
     "injected-parameters"
    ]
   },
   "outputs": [],
   "source": [
    "# Parameters\n",
    "parameters = {\n",
    "    \"experiment_name\": \"tl_2v2:cores+wisig -> oracle.run1.framed\",\n",
    "    \"device\": \"cuda\",\n",
    "    \"lr\": 0.0001,\n",
    "    \"n_shot\": 3,\n",
    "    \"n_query\": 2,\n",
    "    \"train_k_factor\": 3,\n",
    "    \"val_k_factor\": 2,\n",
    "    \"test_k_factor\": 2,\n",
    "    \"torch_default_dtype\": \"torch.float32\",\n",
    "    \"n_epoch\": 50,\n",
    "    \"patience\": 3,\n",
    "    \"criteria_for_best\": \"target_accuracy\",\n",
    "    \"x_net\": [\n",
    "        {\"class\": \"nnReshape\", \"kargs\": {\"shape\": [-1, 1, 2, 256]}},\n",
    "        {\n",
    "            \"class\": \"Conv2d\",\n",
    "            \"kargs\": {\n",
    "                \"in_channels\": 1,\n",
    "                \"out_channels\": 256,\n",
    "                \"kernel_size\": [1, 7],\n",
    "                \"bias\": False,\n",
    "                \"padding\": [0, 3],\n",
    "            },\n",
    "        },\n",
    "        {\"class\": \"ReLU\", \"kargs\": {\"inplace\": True}},\n",
    "        {\"class\": \"BatchNorm2d\", \"kargs\": {\"num_features\": 256}},\n",
    "        {\n",
    "            \"class\": \"Conv2d\",\n",
    "            \"kargs\": {\n",
    "                \"in_channels\": 256,\n",
    "                \"out_channels\": 80,\n",
    "                \"kernel_size\": [2, 7],\n",
    "                \"bias\": True,\n",
    "                \"padding\": [0, 3],\n",
    "            },\n",
    "        },\n",
    "        {\"class\": \"ReLU\", \"kargs\": {\"inplace\": True}},\n",
    "        {\"class\": \"BatchNorm2d\", \"kargs\": {\"num_features\": 80}},\n",
    "        {\"class\": \"Flatten\", \"kargs\": {}},\n",
    "        {\"class\": \"Linear\", \"kargs\": {\"in_features\": 20480, \"out_features\": 256}},\n",
    "        {\"class\": \"ReLU\", \"kargs\": {\"inplace\": True}},\n",
    "        {\"class\": \"BatchNorm1d\", \"kargs\": {\"num_features\": 256}},\n",
    "        {\"class\": \"Linear\", \"kargs\": {\"in_features\": 256, \"out_features\": 256}},\n",
    "    ],\n",
    "    \"NUM_LOGS_PER_EPOCH\": 10,\n",
    "    \"BEST_MODEL_PATH\": \"./best_model.pth\",\n",
    "    \"n_way\": 16,\n",
    "    \"datasets\": [\n",
    "        {\n",
    "            \"labels\": [\n",
    "                \"1-10.\",\n",
    "                \"1-11.\",\n",
    "                \"1-15.\",\n",
    "                \"1-16.\",\n",
    "                \"1-17.\",\n",
    "                \"1-18.\",\n",
    "                \"1-19.\",\n",
    "                \"10-4.\",\n",
    "                \"10-7.\",\n",
    "                \"11-1.\",\n",
    "                \"11-14.\",\n",
    "                \"11-17.\",\n",
    "                \"11-20.\",\n",
    "                \"11-7.\",\n",
    "                \"13-20.\",\n",
    "                \"13-8.\",\n",
    "                \"14-10.\",\n",
    "                \"14-11.\",\n",
    "                \"14-14.\",\n",
    "                \"14-7.\",\n",
    "                \"15-1.\",\n",
    "                \"15-20.\",\n",
    "                \"16-1.\",\n",
    "                \"16-16.\",\n",
    "                \"17-10.\",\n",
    "                \"17-11.\",\n",
    "                \"17-2.\",\n",
    "                \"19-1.\",\n",
    "                \"19-16.\",\n",
    "                \"19-19.\",\n",
    "                \"19-20.\",\n",
    "                \"19-3.\",\n",
    "                \"2-10.\",\n",
    "                \"2-11.\",\n",
    "                \"2-17.\",\n",
    "                \"2-18.\",\n",
    "                \"2-20.\",\n",
    "                \"2-3.\",\n",
    "                \"2-4.\",\n",
    "                \"2-5.\",\n",
    "                \"2-6.\",\n",
    "                \"2-7.\",\n",
    "                \"2-8.\",\n",
    "                \"3-13.\",\n",
    "                \"3-18.\",\n",
    "                \"3-3.\",\n",
    "                \"4-1.\",\n",
    "                \"4-10.\",\n",
    "                \"4-11.\",\n",
    "                \"4-19.\",\n",
    "                \"5-5.\",\n",
    "                \"6-15.\",\n",
    "                \"7-10.\",\n",
    "                \"7-14.\",\n",
    "                \"8-18.\",\n",
    "                \"8-20.\",\n",
    "                \"8-3.\",\n",
    "                \"8-8.\",\n",
    "            ],\n",
    "            \"domains\": [1, 2, 3, 4, 5],\n",
    "            \"num_examples_per_domain_per_label\": -1,\n",
    "            \"pickle_path\": \"/mnt/wd500GB/CSC500/csc500-main/datasets/cores.stratified_ds.2022A.pkl\",\n",
    "            \"source_or_target_dataset\": \"source\",\n",
    "            \"x_transforms\": [\"unit_mag\"],\n",
    "            \"episode_transforms\": [],\n",
    "            \"domain_prefix\": \"C_\",\n",
    "        },\n",
    "        {\n",
    "            \"labels\": [\n",
    "                \"1-10\",\n",
    "                \"1-12\",\n",
    "                \"1-14\",\n",
    "                \"1-16\",\n",
    "                \"1-18\",\n",
    "                \"1-19\",\n",
    "                \"1-8\",\n",
    "                \"10-11\",\n",
    "                \"10-17\",\n",
    "                \"10-4\",\n",
    "                \"10-7\",\n",
    "                \"11-1\",\n",
    "                \"11-10\",\n",
    "                \"11-19\",\n",
    "                \"11-20\",\n",
    "                \"11-4\",\n",
    "                \"11-7\",\n",
    "                \"12-19\",\n",
    "                \"12-20\",\n",
    "                \"12-7\",\n",
    "                \"13-14\",\n",
    "                \"13-18\",\n",
    "                \"13-19\",\n",
    "                \"13-20\",\n",
    "                \"13-3\",\n",
    "                \"13-7\",\n",
    "                \"14-10\",\n",
    "                \"14-11\",\n",
    "                \"14-12\",\n",
    "                \"14-13\",\n",
    "                \"14-14\",\n",
    "                \"14-19\",\n",
    "                \"14-20\",\n",
    "                \"14-7\",\n",
    "                \"14-8\",\n",
    "                \"14-9\",\n",
    "                \"15-1\",\n",
    "                \"15-19\",\n",
    "                \"15-6\",\n",
    "                \"16-1\",\n",
    "                \"16-16\",\n",
    "                \"16-19\",\n",
    "                \"16-20\",\n",
    "                \"17-10\",\n",
    "                \"17-11\",\n",
    "                \"18-1\",\n",
    "                \"18-10\",\n",
    "                \"18-11\",\n",
    "                \"18-12\",\n",
    "                \"18-13\",\n",
    "                \"18-14\",\n",
    "                \"18-15\",\n",
    "                \"18-16\",\n",
    "                \"18-17\",\n",
    "                \"18-19\",\n",
    "                \"18-2\",\n",
    "                \"18-20\",\n",
    "                \"18-4\",\n",
    "                \"18-5\",\n",
    "                \"18-7\",\n",
    "                \"18-8\",\n",
    "                \"18-9\",\n",
    "                \"19-1\",\n",
    "                \"19-10\",\n",
    "                \"19-11\",\n",
    "                \"19-12\",\n",
    "                \"19-13\",\n",
    "                \"19-14\",\n",
    "                \"19-15\",\n",
    "                \"19-19\",\n",
    "                \"19-2\",\n",
    "                \"19-20\",\n",
    "                \"19-3\",\n",
    "                \"19-4\",\n",
    "                \"19-6\",\n",
    "                \"19-7\",\n",
    "                \"19-8\",\n",
    "                \"19-9\",\n",
    "                \"2-1\",\n",
    "                \"2-13\",\n",
    "                \"2-15\",\n",
    "                \"2-3\",\n",
    "                \"2-4\",\n",
    "                \"2-5\",\n",
    "                \"2-6\",\n",
    "                \"2-7\",\n",
    "                \"2-8\",\n",
    "                \"20-1\",\n",
    "                \"20-12\",\n",
    "                \"20-14\",\n",
    "                \"20-15\",\n",
    "                \"20-16\",\n",
    "                \"20-18\",\n",
    "                \"20-19\",\n",
    "                \"20-20\",\n",
    "                \"20-3\",\n",
    "                \"20-4\",\n",
    "                \"20-5\",\n",
    "                \"20-7\",\n",
    "                \"20-8\",\n",
    "                \"3-1\",\n",
    "                \"3-13\",\n",
    "                \"3-18\",\n",
    "                \"3-2\",\n",
    "                \"3-8\",\n",
    "                \"4-1\",\n",
    "                \"4-10\",\n",
    "                \"4-11\",\n",
    "                \"5-1\",\n",
    "                \"5-5\",\n",
    "                \"6-1\",\n",
    "                \"6-15\",\n",
    "                \"6-6\",\n",
    "                \"7-10\",\n",
    "                \"7-11\",\n",
    "                \"7-12\",\n",
    "                \"7-13\",\n",
    "                \"7-14\",\n",
    "                \"7-7\",\n",
    "                \"7-8\",\n",
    "                \"7-9\",\n",
    "                \"8-1\",\n",
    "                \"8-13\",\n",
    "                \"8-14\",\n",
    "                \"8-18\",\n",
    "                \"8-20\",\n",
    "                \"8-3\",\n",
    "                \"8-8\",\n",
    "                \"9-1\",\n",
    "                \"9-7\",\n",
    "            ],\n",
    "            \"domains\": [1, 2, 3, 4],\n",
    "            \"num_examples_per_domain_per_label\": -1,\n",
    "            \"pickle_path\": \"/mnt/wd500GB/CSC500/csc500-main/datasets/wisig.node3-19.stratified_ds.2022A.pkl\",\n",
    "            \"source_or_target_dataset\": \"source\",\n",
    "            \"x_transforms\": [\"unit_mag\"],\n",
    "            \"episode_transforms\": [],\n",
    "            \"domain_prefix\": \"W_\",\n",
    "        },\n",
    "        {\n",
    "            \"labels\": [\n",
    "                \"3123D52\",\n",
    "                \"3123D65\",\n",
    "                \"3123D79\",\n",
    "                \"3123D80\",\n",
    "                \"3123D54\",\n",
    "                \"3123D70\",\n",
    "                \"3123D7B\",\n",
    "                \"3123D89\",\n",
    "                \"3123D58\",\n",
    "                \"3123D76\",\n",
    "                \"3123D7D\",\n",
    "                \"3123EFE\",\n",
    "                \"3123D64\",\n",
    "                \"3123D78\",\n",
    "                \"3123D7E\",\n",
    "                \"3124E4A\",\n",
    "            ],\n",
    "            \"domains\": [32, 38, 8, 44, 14, 50, 20, 26],\n",
    "            \"num_examples_per_domain_per_label\": 2000,\n",
    "            \"pickle_path\": \"/mnt/wd500GB/CSC500/csc500-main/datasets/oracle.Run1_framed_2000Examples_stratified_ds.2022A.pkl\",\n",
    "            \"source_or_target_dataset\": \"target\",\n",
    "            \"x_transforms\": [\"unit_mag\"],\n",
    "            \"episode_transforms\": [],\n",
    "            \"domain_prefix\": \"O_\",\n",
    "        },\n",
    "    ],\n",
    "    \"seed\": 1337,\n",
    "    \"dataset_seed\": 1337,\n",
    "}\n"
   ]
  },
  {
   "cell_type": "code",
   "execution_count": 5,
   "id": "8fa1cc33",
   "metadata": {
    "execution": {
     "iopub.execute_input": "2022-03-20T02:40:32.243951Z",
     "iopub.status.busy": "2022-03-20T02:40:32.241209Z",
     "iopub.status.idle": "2022-03-20T02:40:32.255610Z",
     "shell.execute_reply": "2022-03-20T02:40:32.255178Z"
    },
    "papermill": {
     "duration": 0.033093,
     "end_time": "2022-03-20T02:40:32.255714",
     "exception": false,
     "start_time": "2022-03-20T02:40:32.222621",
     "status": "completed"
    },
    "tags": []
   },
   "outputs": [],
   "source": [
    "# Set this to True if you want to run this template directly\n",
    "STANDALONE = False\n",
    "if STANDALONE:\n",
    "    print(\"parameters not injected, running with standalone_parameters\")\n",
    "    parameters = standalone_parameters\n",
    "\n",
    "if not 'parameters' in locals() and not 'parameters' in globals():\n",
    "    raise Exception(\"Parameter injection failed\")\n",
    "\n",
    "#Use an easy dict for all the parameters\n",
    "p = EasyDict(parameters)\n",
    "\n",
    "if \"x_shape\" not in p:\n",
    "    p.x_shape = [2,256] # Default to this if we dont supply x_shape\n",
    "\n",
    "\n",
    "supplied_keys = set(p.keys())\n",
    "\n",
    "if  supplied_keys != required_parameters:\n",
    "    print(\"Parameters are incorrect\")\n",
    "    if len(supplied_keys - required_parameters)>0: print(\"Shouldn't have:\", str(supplied_keys - required_parameters))\n",
    "    if len(required_parameters - supplied_keys)>0: print(\"Need to have:\", str(required_parameters - supplied_keys))\n",
    "    raise RuntimeError(\"Parameters are incorrect\")"
   ]
  },
  {
   "cell_type": "code",
   "execution_count": 6,
   "id": "3a028d58",
   "metadata": {
    "execution": {
     "iopub.execute_input": "2022-03-20T02:40:32.289162Z",
     "iopub.status.busy": "2022-03-20T02:40:32.288903Z",
     "iopub.status.idle": "2022-03-20T02:40:32.305077Z",
     "shell.execute_reply": "2022-03-20T02:40:32.304637Z"
    },
    "papermill": {
     "duration": 0.03203,
     "end_time": "2022-03-20T02:40:32.305177",
     "exception": false,
     "start_time": "2022-03-20T02:40:32.273147",
     "status": "completed"
    },
    "tags": []
   },
   "outputs": [],
   "source": [
    "###################################\n",
    "# Set the RNGs and make it all deterministic\n",
    "###################################\n",
    "np.random.seed(p.seed)\n",
    "random.seed(p.seed)\n",
    "torch.manual_seed(p.seed)\n",
    "\n",
    "torch.use_deterministic_algorithms(True) "
   ]
  },
  {
   "cell_type": "code",
   "execution_count": 7,
   "id": "b691acf6",
   "metadata": {
    "execution": {
     "iopub.execute_input": "2022-03-20T02:40:32.339054Z",
     "iopub.status.busy": "2022-03-20T02:40:32.338610Z",
     "iopub.status.idle": "2022-03-20T02:40:32.352822Z",
     "shell.execute_reply": "2022-03-20T02:40:32.352318Z"
    },
    "papermill": {
     "duration": 0.029202,
     "end_time": "2022-03-20T02:40:32.352920",
     "exception": false,
     "start_time": "2022-03-20T02:40:32.323718",
     "status": "completed"
    },
    "tags": []
   },
   "outputs": [],
   "source": [
    "###########################################\n",
    "# The stratified datasets honor this\n",
    "###########################################\n",
    "torch.set_default_dtype(eval(p.torch_default_dtype))"
   ]
  },
  {
   "cell_type": "code",
   "execution_count": 8,
   "id": "b5fba671",
   "metadata": {
    "execution": {
     "iopub.execute_input": "2022-03-20T02:40:32.387135Z",
     "iopub.status.busy": "2022-03-20T02:40:32.386867Z",
     "iopub.status.idle": "2022-03-20T02:40:32.428880Z",
     "shell.execute_reply": "2022-03-20T02:40:32.428408Z"
    },
    "papermill": {
     "duration": 0.057385,
     "end_time": "2022-03-20T02:40:32.428988",
     "exception": false,
     "start_time": "2022-03-20T02:40:32.371603",
     "status": "completed"
    },
    "tags": []
   },
   "outputs": [],
   "source": [
    "###################################\n",
    "# Build the network(s)\n",
    "# Note: It's critical to do this AFTER setting the RNG\n",
    "###################################\n",
    "x_net = build_sequential(p.x_net)"
   ]
  },
  {
   "cell_type": "code",
   "execution_count": 9,
   "id": "5d7e61cc",
   "metadata": {
    "execution": {
     "iopub.execute_input": "2022-03-20T02:40:32.465405Z",
     "iopub.status.busy": "2022-03-20T02:40:32.465149Z",
     "iopub.status.idle": "2022-03-20T02:40:32.476668Z",
     "shell.execute_reply": "2022-03-20T02:40:32.476407Z"
    },
    "papermill": {
     "duration": 0.026801,
     "end_time": "2022-03-20T02:40:32.476726",
     "exception": false,
     "start_time": "2022-03-20T02:40:32.449925",
     "status": "completed"
    },
    "tags": []
   },
   "outputs": [],
   "source": [
    "start_time_secs = time.time()"
   ]
  },
  {
   "cell_type": "code",
   "execution_count": 10,
   "id": "c6b67dfd",
   "metadata": {
    "execution": {
     "iopub.execute_input": "2022-03-20T02:40:32.510399Z",
     "iopub.status.busy": "2022-03-20T02:40:32.510145Z",
     "iopub.status.idle": "2022-03-20T02:40:32.525732Z",
     "shell.execute_reply": "2022-03-20T02:40:32.525303Z"
    },
    "papermill": {
     "duration": 0.033042,
     "end_time": "2022-03-20T02:40:32.525832",
     "exception": false,
     "start_time": "2022-03-20T02:40:32.492790",
     "status": "completed"
    },
    "tags": []
   },
   "outputs": [],
   "source": [
    "p.domains_source = []\n",
    "p.domains_target = []\n",
    "\n",
    "\n",
    "train_original_source = []\n",
    "val_original_source   = []\n",
    "test_original_source  = []\n",
    "\n",
    "train_original_target = []\n",
    "val_original_target   = []\n",
    "test_original_target  = []"
   ]
  },
  {
   "cell_type": "code",
   "execution_count": 11,
   "id": "e3d9c3d3",
   "metadata": {
    "execution": {
     "iopub.execute_input": "2022-03-20T02:40:32.585633Z",
     "iopub.status.busy": "2022-03-20T02:40:32.582990Z",
     "iopub.status.idle": "2022-03-20T02:40:32.599100Z",
     "shell.execute_reply": "2022-03-20T02:40:32.598608Z"
    },
    "papermill": {
     "duration": 0.054928,
     "end_time": "2022-03-20T02:40:32.599205",
     "exception": false,
     "start_time": "2022-03-20T02:40:32.544277",
     "status": "completed"
    },
    "tags": []
   },
   "outputs": [],
   "source": [
    "# global_x_transform_func = lambda x: normalize(x.to(torch.get_default_dtype()), \"unit_power\") # unit_power, unit_mag\n",
    "# global_x_transform_func = lambda x: normalize(x, \"unit_power\") # unit_power, unit_mag"
   ]
  },
  {
   "cell_type": "code",
   "execution_count": 12,
   "id": "acb78fd2",
   "metadata": {
    "execution": {
     "iopub.execute_input": "2022-03-20T02:40:32.635522Z",
     "iopub.status.busy": "2022-03-20T02:40:32.635246Z",
     "iopub.status.idle": "2022-03-20T02:40:32.647742Z",
     "shell.execute_reply": "2022-03-20T02:40:32.647220Z"
    },
    "papermill": {
     "duration": 0.030448,
     "end_time": "2022-03-20T02:40:32.647844",
     "exception": false,
     "start_time": "2022-03-20T02:40:32.617396",
     "status": "completed"
    },
    "tags": []
   },
   "outputs": [],
   "source": [
    "def add_dataset(\n",
    "    labels,\n",
    "    domains,\n",
    "    pickle_path,\n",
    "    x_transforms,\n",
    "    episode_transforms,\n",
    "    domain_prefix,\n",
    "    num_examples_per_domain_per_label,\n",
    "    source_or_target_dataset:str,\n",
    "    iterator_seed=p.seed,\n",
    "    dataset_seed=p.dataset_seed,\n",
    "    n_shot=p.n_shot,\n",
    "    n_way=p.n_way,\n",
    "    n_query=p.n_query,\n",
    "    train_val_test_k_factors=(p.train_k_factor,p.val_k_factor,p.test_k_factor),\n",
    "):\n",
    "   \n",
    "    if x_transforms == []: x_transform = None\n",
    "    else: x_transform = get_chained_transform(x_transforms)\n",
    "    \n",
    "    if episode_transforms == []: episode_transform = None\n",
    "    else: raise Exception(\"episode_transforms not implemented\")\n",
    "    \n",
    "    episode_transform = lambda tup, _prefix=domain_prefix: (_prefix + str(tup[0]), tup[1])\n",
    "\n",
    "\n",
    "    eaf = Episodic_Accessor_Factory(\n",
    "        labels=labels,\n",
    "        domains=domains,\n",
    "        num_examples_per_domain_per_label=num_examples_per_domain_per_label,\n",
    "        iterator_seed=iterator_seed,\n",
    "        dataset_seed=dataset_seed,\n",
    "        n_shot=n_shot,\n",
    "        n_way=n_way,\n",
    "        n_query=n_query,\n",
    "        train_val_test_k_factors=train_val_test_k_factors,\n",
    "        pickle_path=pickle_path,\n",
    "        x_transform_func=x_transform,\n",
    "    )\n",
    "\n",
    "    train, val, test = eaf.get_train(), eaf.get_val(), eaf.get_test()\n",
    "    train = Lazy_Iterable_Wrapper(train, episode_transform)\n",
    "    val = Lazy_Iterable_Wrapper(val, episode_transform)\n",
    "    test = Lazy_Iterable_Wrapper(test, episode_transform)\n",
    "\n",
    "    if source_or_target_dataset==\"source\":\n",
    "        train_original_source.append(train)\n",
    "        val_original_source.append(val)\n",
    "        test_original_source.append(test)\n",
    "\n",
    "        p.domains_source.extend(\n",
    "            [domain_prefix + str(u) for u in domains]\n",
    "        )\n",
    "    elif source_or_target_dataset==\"target\":\n",
    "        train_original_target.append(train)\n",
    "        val_original_target.append(val)\n",
    "        test_original_target.append(test)\n",
    "        p.domains_target.extend(\n",
    "            [domain_prefix + str(u) for u in domains]\n",
    "        )\n",
    "    else:\n",
    "        raise Exception(f\"invalid source_or_target_dataset: {source_or_target_dataset}\")\n",
    "    "
   ]
  },
  {
   "cell_type": "code",
   "execution_count": 13,
   "id": "fe266617",
   "metadata": {
    "execution": {
     "iopub.execute_input": "2022-03-20T02:40:32.681203Z",
     "iopub.status.busy": "2022-03-20T02:40:32.680948Z",
     "iopub.status.idle": "2022-03-20T02:41:21.083490Z",
     "shell.execute_reply": "2022-03-20T02:41:21.083068Z"
    },
    "papermill": {
     "duration": 48.417946,
     "end_time": "2022-03-20T02:41:21.083598",
     "exception": false,
     "start_time": "2022-03-20T02:40:32.665652",
     "status": "completed"
    },
    "tags": []
   },
   "outputs": [],
   "source": [
    "for ds in p.datasets:\n",
    "    add_dataset(**ds)"
   ]
  },
  {
   "cell_type": "code",
   "execution_count": 14,
   "id": "b90d65ac",
   "metadata": {
    "execution": {
     "iopub.execute_input": "2022-03-20T02:41:21.118377Z",
     "iopub.status.busy": "2022-03-20T02:41:21.118121Z",
     "iopub.status.idle": "2022-03-20T02:41:21.132405Z",
     "shell.execute_reply": "2022-03-20T02:41:21.132154Z"
    },
    "papermill": {
     "duration": 0.030399,
     "end_time": "2022-03-20T02:41:21.132488",
     "exception": false,
     "start_time": "2022-03-20T02:41:21.102089",
     "status": "completed"
    },
    "tags": []
   },
   "outputs": [],
   "source": [
    "# from steves_utils.CORES.utils import (\n",
    "#     ALL_NODES,\n",
    "#     ALL_NODES_MINIMUM_1000_EXAMPLES,\n",
    "#     ALL_DAYS\n",
    "# )\n",
    "\n",
    "# add_dataset(\n",
    "#     labels=ALL_NODES,\n",
    "#     domains = ALL_DAYS,\n",
    "#     num_examples_per_domain_per_label=100,\n",
    "#     pickle_path=os.path.join(get_datasets_base_path(), \"cores.stratified_ds.2022A.pkl\"),\n",
    "#     source_or_target_dataset=\"target\",\n",
    "#     x_transform_func=global_x_transform_func,\n",
    "#     domain_modifier=lambda u: f\"cores_{u}\"\n",
    "# )"
   ]
  },
  {
   "cell_type": "code",
   "execution_count": 15,
   "id": "76db484d",
   "metadata": {
    "execution": {
     "iopub.execute_input": "2022-03-20T02:41:21.167919Z",
     "iopub.status.busy": "2022-03-20T02:41:21.167663Z",
     "iopub.status.idle": "2022-03-20T02:41:21.181854Z",
     "shell.execute_reply": "2022-03-20T02:41:21.181401Z"
    },
    "papermill": {
     "duration": 0.0303,
     "end_time": "2022-03-20T02:41:21.181943",
     "exception": false,
     "start_time": "2022-03-20T02:41:21.151643",
     "status": "completed"
    },
    "tags": []
   },
   "outputs": [],
   "source": [
    "# from steves_utils.ORACLE.utils_v2 import (\n",
    "#     ALL_DISTANCES_FEET,\n",
    "#     ALL_RUNS,\n",
    "#     ALL_SERIAL_NUMBERS,\n",
    "# )\n",
    "\n",
    "\n",
    "# add_dataset(\n",
    "#     labels=ALL_SERIAL_NUMBERS,\n",
    "#     domains = list(set(ALL_DISTANCES_FEET) - {2,62}),\n",
    "#     num_examples_per_domain_per_label=100,\n",
    "#     pickle_path=os.path.join(get_datasets_base_path(), \"oracle.Run2_framed_2000Examples_stratified_ds.2022A.pkl\"),\n",
    "#     source_or_target_dataset=\"source\",\n",
    "#     x_transform_func=global_x_transform_func,\n",
    "#     domain_modifier=lambda u: f\"oracle1_{u}\"\n",
    "# )\n"
   ]
  },
  {
   "cell_type": "code",
   "execution_count": 16,
   "id": "97dea9d2",
   "metadata": {
    "execution": {
     "iopub.execute_input": "2022-03-20T02:41:21.215993Z",
     "iopub.status.busy": "2022-03-20T02:41:21.215706Z",
     "iopub.status.idle": "2022-03-20T02:41:21.230919Z",
     "shell.execute_reply": "2022-03-20T02:41:21.230465Z"
    },
    "papermill": {
     "duration": 0.030918,
     "end_time": "2022-03-20T02:41:21.231008",
     "exception": false,
     "start_time": "2022-03-20T02:41:21.200090",
     "status": "completed"
    },
    "tags": []
   },
   "outputs": [],
   "source": [
    "# from steves_utils.ORACLE.utils_v2 import (\n",
    "#     ALL_DISTANCES_FEET,\n",
    "#     ALL_RUNS,\n",
    "#     ALL_SERIAL_NUMBERS,\n",
    "# )\n",
    "\n",
    "\n",
    "# add_dataset(\n",
    "#     labels=ALL_SERIAL_NUMBERS,\n",
    "#     domains = list(set(ALL_DISTANCES_FEET) - {2,62,56}),\n",
    "#     num_examples_per_domain_per_label=100,\n",
    "#     pickle_path=os.path.join(get_datasets_base_path(), \"oracle.Run2_framed_2000Examples_stratified_ds.2022A.pkl\"),\n",
    "#     source_or_target_dataset=\"source\",\n",
    "#     x_transform_func=global_x_transform_func,\n",
    "#     domain_modifier=lambda u: f\"oracle2_{u}\"\n",
    "# )"
   ]
  },
  {
   "cell_type": "code",
   "execution_count": 17,
   "id": "6f289866",
   "metadata": {
    "execution": {
     "iopub.execute_input": "2022-03-20T02:41:21.266723Z",
     "iopub.status.busy": "2022-03-20T02:41:21.266468Z",
     "iopub.status.idle": "2022-03-20T02:41:21.281289Z",
     "shell.execute_reply": "2022-03-20T02:41:21.280838Z"
    },
    "papermill": {
     "duration": 0.030458,
     "end_time": "2022-03-20T02:41:21.281378",
     "exception": false,
     "start_time": "2022-03-20T02:41:21.250920",
     "status": "completed"
    },
    "tags": []
   },
   "outputs": [],
   "source": [
    "# add_dataset(\n",
    "#     labels=list(range(19)),\n",
    "#     domains = [0,1,2],\n",
    "#     num_examples_per_domain_per_label=100,\n",
    "#     pickle_path=os.path.join(get_datasets_base_path(), \"metehan.stratified_ds.2022A.pkl\"),\n",
    "#     source_or_target_dataset=\"target\",\n",
    "#     x_transform_func=global_x_transform_func,\n",
    "#     domain_modifier=lambda u: f\"met_{u}\"\n",
    "# )"
   ]
  },
  {
   "cell_type": "code",
   "execution_count": 18,
   "id": "86a863c3",
   "metadata": {
    "execution": {
     "iopub.execute_input": "2022-03-20T02:41:21.316432Z",
     "iopub.status.busy": "2022-03-20T02:41:21.316145Z",
     "iopub.status.idle": "2022-03-20T02:41:21.328637Z",
     "shell.execute_reply": "2022-03-20T02:41:21.328178Z"
    },
    "papermill": {
     "duration": 0.028372,
     "end_time": "2022-03-20T02:41:21.328729",
     "exception": false,
     "start_time": "2022-03-20T02:41:21.300357",
     "status": "completed"
    },
    "tags": []
   },
   "outputs": [],
   "source": [
    "# # from steves_utils.wisig.utils import (\n",
    "# #     ALL_NODES_MINIMUM_100_EXAMPLES,\n",
    "# #     ALL_NODES_MINIMUM_500_EXAMPLES,\n",
    "# #     ALL_NODES_MINIMUM_1000_EXAMPLES,\n",
    "# #     ALL_DAYS\n",
    "# # )\n",
    "\n",
    "# import steves_utils.wisig.utils as wisig\n",
    "\n",
    "\n",
    "# add_dataset(\n",
    "#     labels=wisig.ALL_NODES_MINIMUM_100_EXAMPLES,\n",
    "#     domains = wisig.ALL_DAYS,\n",
    "#     num_examples_per_domain_per_label=100,\n",
    "#     pickle_path=os.path.join(get_datasets_base_path(), \"wisig.node3-19.stratified_ds.2022A.pkl\"),\n",
    "#     source_or_target_dataset=\"target\",\n",
    "#     x_transform_func=global_x_transform_func,\n",
    "#     domain_modifier=lambda u: f\"wisig_{u}\"\n",
    "# )"
   ]
  },
  {
   "cell_type": "code",
   "execution_count": 19,
   "id": "fd5442bc",
   "metadata": {
    "execution": {
     "iopub.execute_input": "2022-03-20T02:41:21.364673Z",
     "iopub.status.busy": "2022-03-20T02:41:21.364412Z",
     "iopub.status.idle": "2022-03-20T02:41:21.378846Z",
     "shell.execute_reply": "2022-03-20T02:41:21.378626Z"
    },
    "papermill": {
     "duration": 0.032857,
     "end_time": "2022-03-20T02:41:21.378895",
     "exception": false,
     "start_time": "2022-03-20T02:41:21.346038",
     "status": "completed"
    },
    "tags": []
   },
   "outputs": [],
   "source": [
    "###################################\n",
    "# Build the dataset\n",
    "###################################\n",
    "train_original_source = Iterable_Aggregator(train_original_source, p.seed)\n",
    "val_original_source = Iterable_Aggregator(val_original_source, p.seed)\n",
    "test_original_source = Iterable_Aggregator(test_original_source, p.seed)\n",
    "\n",
    "\n",
    "train_original_target = Iterable_Aggregator(train_original_target, p.seed)\n",
    "val_original_target = Iterable_Aggregator(val_original_target, p.seed)\n",
    "test_original_target = Iterable_Aggregator(test_original_target, p.seed)\n",
    "\n",
    "# For CNN We only use X and Y. And we only train on the source.\n",
    "# Properly form the data using a transform lambda and Lazy_Iterable_Wrapper. Finally wrap them in a dataloader\n",
    "\n",
    "transform_lambda = lambda ex: ex[1] # Original is (<domain>, <episode>) so we strip down to episode only\n",
    "\n",
    "train_processed_source = Lazy_Iterable_Wrapper(train_original_source, transform_lambda)\n",
    "val_processed_source   = Lazy_Iterable_Wrapper(val_original_source, transform_lambda)\n",
    "test_processed_source  = Lazy_Iterable_Wrapper(test_original_source, transform_lambda)\n",
    "\n",
    "train_processed_target = Lazy_Iterable_Wrapper(train_original_target, transform_lambda)\n",
    "val_processed_target   = Lazy_Iterable_Wrapper(val_original_target, transform_lambda)\n",
    "test_processed_target  = Lazy_Iterable_Wrapper(test_original_target, transform_lambda)\n",
    "\n",
    "datasets = EasyDict({\n",
    "    \"source\": {\n",
    "        \"original\": {\"train\":train_original_source, \"val\":val_original_source, \"test\":test_original_source},\n",
    "        \"processed\": {\"train\":train_processed_source, \"val\":val_processed_source, \"test\":test_processed_source}\n",
    "    },\n",
    "    \"target\": {\n",
    "        \"original\": {\"train\":train_original_target, \"val\":val_original_target, \"test\":test_original_target},\n",
    "        \"processed\": {\"train\":train_processed_target, \"val\":val_processed_target, \"test\":test_processed_target}\n",
    "    },\n",
    "})"
   ]
  },
  {
   "cell_type": "code",
   "execution_count": 20,
   "id": "5b3c01fc",
   "metadata": {
    "execution": {
     "iopub.execute_input": "2022-03-20T02:41:21.411114Z",
     "iopub.status.busy": "2022-03-20T02:41:21.410855Z",
     "iopub.status.idle": "2022-03-20T02:41:30.697673Z",
     "shell.execute_reply": "2022-03-20T02:41:30.697966Z"
    },
    "papermill": {
     "duration": 9.304704,
     "end_time": "2022-03-20T02:41:30.698062",
     "exception": false,
     "start_time": "2022-03-20T02:41:21.393358",
     "status": "completed"
    },
    "tags": []
   },
   "outputs": [
    {
     "name": "stdout",
     "output_type": "stream",
     "text": [
      "{'C_1', 'W_3', 'W_4', 'C_4', 'C_5', 'W_1', 'W_2', 'C_3', 'C_2'}\n"
     ]
    },
    {
     "name": "stdout",
     "output_type": "stream",
     "text": [
      "{'O_38', 'O_20', 'O_8', 'O_50', 'O_26', 'O_14', 'O_44', 'O_32'}\n"
     ]
    },
    {
     "name": "stdout",
     "output_type": "stream",
     "text": [
      "tensor([[[-0.0552,  1.4067,  0.0552,  ...,  0.4187,  0.8400, -0.2031],\n",
      "         [-1.0657,  0.1404,  1.6975,  ..., -0.5115,  0.2332,  1.4092]],\n",
      "\n",
      "        [[ 0.5538,  0.8831, -1.2149,  ...,  0.5014,  0.2295, -0.9729],\n",
      "         [-0.6636,  0.5588,  1.0851,  ...,  0.3642,  0.5538,  0.5613]],\n",
      "\n",
      "        [[ 0.4174,  1.5304,  0.4894,  ...,  0.6509,  1.2869, -0.0373],\n",
      "         [-1.0633,  0.4596,  1.3963,  ..., -0.6956,  0.7826,  1.5727]],\n",
      "\n",
      "        ...,\n",
      "\n",
      "        [[-0.7961, -0.8103,  0.1263,  ..., -1.4218, -0.7774, -0.4859],\n",
      "         [ 0.8171, -0.0336, -1.1923,  ..., -0.3812, -0.6780,  0.0067]],\n",
      "\n",
      "        [[-0.0493, -0.0514, -0.0655,  ...,  0.7536, -0.1388, -1.4819],\n",
      "         [-0.0810, -0.0902, -0.0070,  ..., -0.2275,  1.0016,  0.1113]],\n",
      "\n",
      "        [[-0.1101, -0.3701,  0.0023,  ..., -0.6136,  0.3272,  0.6091],\n",
      "         [-0.1877, -0.1945, -0.8443,  ..., -0.8044, -1.1074, -0.3113]]])\n"
     ]
    }
   ],
   "source": [
    "from steves_utils.transforms import get_average_magnitude, get_average_power\n",
    "\n",
    "print(set([u for u,_ in val_original_source]))\n",
    "print(set([u for u,_ in val_original_target]))\n",
    "\n",
    "s_x, s_y, q_x, q_y, _ = next(iter(train_processed_source))\n",
    "print(s_x)\n",
    "\n",
    "# for ds in [\n",
    "#     train_processed_source,\n",
    "#     val_processed_source,\n",
    "#     test_processed_source,\n",
    "#     train_processed_target,\n",
    "#     val_processed_target,\n",
    "#     test_processed_target\n",
    "# ]:\n",
    "#     for s_x, s_y, q_x, q_y, _ in ds:\n",
    "#         for X in (s_x, q_x):\n",
    "#             for x in X:\n",
    "#                 assert np.isclose(get_average_magnitude(x.numpy()), 1.0)\n",
    "#                 assert np.isclose(get_average_power(x.numpy()), 1.0)\n",
    "                "
   ]
  },
  {
   "cell_type": "code",
   "execution_count": 21,
   "id": "bbdacba1",
   "metadata": {
    "execution": {
     "iopub.execute_input": "2022-03-20T02:41:30.735768Z",
     "iopub.status.busy": "2022-03-20T02:41:30.735467Z",
     "iopub.status.idle": "2022-03-20T02:41:30.795136Z",
     "shell.execute_reply": "2022-03-20T02:41:30.795595Z"
    },
    "papermill": {
     "duration": 0.079396,
     "end_time": "2022-03-20T02:41:30.795726",
     "exception": false,
     "start_time": "2022-03-20T02:41:30.716330",
     "status": "completed"
    },
    "tags": []
   },
   "outputs": [
    {
     "name": "stdout",
     "output_type": "stream",
     "text": [
      "(2, 256)\n"
     ]
    }
   ],
   "source": [
    "###################################\n",
    "# Build the model\n",
    "###################################\n",
    "# easfsl only wants a tuple for the shape\n",
    "model = Steves_Prototypical_Network(x_net, device=p.device, x_shape=tuple(p.x_shape))\n",
    "optimizer = Adam(params=model.parameters(), lr=p.lr)"
   ]
  },
  {
   "cell_type": "code",
   "execution_count": 22,
   "id": "22b39ac5",
   "metadata": {
    "execution": {
     "iopub.execute_input": "2022-03-20T02:41:30.832455Z",
     "iopub.status.busy": "2022-03-20T02:41:30.832194Z",
     "iopub.status.idle": "2022-03-20T03:17:22.320926Z",
     "shell.execute_reply": "2022-03-20T03:17:22.320684Z"
    },
    "papermill": {
     "duration": 2151.506231,
     "end_time": "2022-03-20T03:17:22.320986",
     "exception": false,
     "start_time": "2022-03-20T02:41:30.814755",
     "status": "completed"
    },
    "tags": []
   },
   "outputs": [
    {
     "name": "stdout",
     "output_type": "stream",
     "text": [
      "epoch: 1, [batch: 1 / 13178], examples_per_second: 22.1500, train_label_loss: 2.5552, \n"
     ]
    },
    {
     "name": "stdout",
     "output_type": "stream",
     "text": [
      "epoch: 1, [batch: 1318 / 13178], examples_per_second: 3148.4023, train_label_loss: 0.0068, \n"
     ]
    },
    {
     "name": "stdout",
     "output_type": "stream",
     "text": [
      "epoch: 1, [batch: 2636 / 13178], examples_per_second: 3160.0260, train_label_loss: 0.3384, \n"
     ]
    },
    {
     "name": "stdout",
     "output_type": "stream",
     "text": [
      "epoch: 1, [batch: 3954 / 13178], examples_per_second: 3163.6655, train_label_loss: 0.3183, \n"
     ]
    },
    {
     "name": "stdout",
     "output_type": "stream",
     "text": [
      "epoch: 1, [batch: 5271 / 13178], examples_per_second: 3138.8091, train_label_loss: 0.0041, \n"
     ]
    },
    {
     "name": "stdout",
     "output_type": "stream",
     "text": [
      "epoch: 1, [batch: 6589 / 13178], examples_per_second: 3137.4884, train_label_loss: 0.0283, \n"
     ]
    },
    {
     "name": "stdout",
     "output_type": "stream",
     "text": [
      "epoch: 1, [batch: 7907 / 13178], examples_per_second: 3172.4514, train_label_loss: 0.0122, \n"
     ]
    },
    {
     "name": "stdout",
     "output_type": "stream",
     "text": [
      "epoch: 1, [batch: 9224 / 13178], examples_per_second: 3176.8884, train_label_loss: 0.0011, \n"
     ]
    },
    {
     "name": "stdout",
     "output_type": "stream",
     "text": [
      "epoch: 1, [batch: 10542 / 13178], examples_per_second: 3157.1691, train_label_loss: 0.0733, \n"
     ]
    },
    {
     "name": "stdout",
     "output_type": "stream",
     "text": [
      "epoch: 1, [batch: 11860 / 13178], examples_per_second: 3163.1745, train_label_loss: 0.0602, \n"
     ]
    },
    {
     "name": "stdout",
     "output_type": "stream",
     "text": [
      "=============================================================\n",
      "epoch: 1, source_val_acc_label: 0.9791, target_val_acc_label: 0.1921, source_val_label_loss: 0.1018, target_val_label_loss: 2.4762, \n",
      "=============================================================\n"
     ]
    },
    {
     "name": "stdout",
     "output_type": "stream",
     "text": [
      "New best\n"
     ]
    },
    {
     "name": "stdout",
     "output_type": "stream",
     "text": [
      "epoch: 2, [batch: 1 / 13164], examples_per_second: 2.6407, train_label_loss: 0.0181, \n"
     ]
    },
    {
     "name": "stdout",
     "output_type": "stream",
     "text": [
      "epoch: 2, [batch: 1317 / 13164], examples_per_second: 3133.3213, train_label_loss: 0.0126, \n"
     ]
    },
    {
     "name": "stdout",
     "output_type": "stream",
     "text": [
      "epoch: 2, [batch: 2633 / 13164], examples_per_second: 3170.8235, train_label_loss: 0.0273, \n"
     ]
    },
    {
     "name": "stdout",
     "output_type": "stream",
     "text": [
      "epoch: 2, [batch: 3949 / 13164], examples_per_second: 3216.3644, train_label_loss: 0.0010, \n"
     ]
    },
    {
     "name": "stdout",
     "output_type": "stream",
     "text": [
      "epoch: 2, [batch: 5266 / 13164], examples_per_second: 3207.8219, train_label_loss: 0.0320, \n"
     ]
    },
    {
     "name": "stdout",
     "output_type": "stream",
     "text": [
      "epoch: 2, [batch: 6582 / 13164], examples_per_second: 3236.9816, train_label_loss: 0.0023, \n"
     ]
    },
    {
     "name": "stdout",
     "output_type": "stream",
     "text": [
      "epoch: 2, [batch: 7898 / 13164], examples_per_second: 3193.9840, train_label_loss: 0.0036, \n"
     ]
    },
    {
     "name": "stdout",
     "output_type": "stream",
     "text": [
      "epoch: 2, [batch: 9215 / 13164], examples_per_second: 3207.4198, train_label_loss: 0.0011, \n"
     ]
    },
    {
     "name": "stdout",
     "output_type": "stream",
     "text": [
      "epoch: 2, [batch: 10531 / 13164], examples_per_second: 3207.7036, train_label_loss: 0.0003, \n"
     ]
    },
    {
     "name": "stdout",
     "output_type": "stream",
     "text": [
      "epoch: 2, [batch: 11847 / 13164], examples_per_second: 3214.7491, train_label_loss: 0.0406, \n"
     ]
    },
    {
     "name": "stdout",
     "output_type": "stream",
     "text": [
      "=============================================================\n",
      "epoch: 2, source_val_acc_label: 0.9838, target_val_acc_label: 0.2032, source_val_label_loss: 0.0743, target_val_label_loss: 2.4912, \n",
      "=============================================================\n"
     ]
    },
    {
     "name": "stdout",
     "output_type": "stream",
     "text": [
      "New best\n"
     ]
    },
    {
     "name": "stdout",
     "output_type": "stream",
     "text": [
      "epoch: 3, [batch: 1 / 13141], examples_per_second: 2.6380, train_label_loss: 0.3032, \n"
     ]
    },
    {
     "name": "stdout",
     "output_type": "stream",
     "text": [
      "epoch: 3, [batch: 1315 / 13141], examples_per_second: 3127.3243, train_label_loss: 0.0003, \n"
     ]
    },
    {
     "name": "stdout",
     "output_type": "stream",
     "text": [
      "epoch: 3, [batch: 2629 / 13141], examples_per_second: 3171.0535, train_label_loss: 0.2718, \n"
     ]
    },
    {
     "name": "stdout",
     "output_type": "stream",
     "text": [
      "epoch: 3, [batch: 3943 / 13141], examples_per_second: 3194.3275, train_label_loss: 0.4281, \n"
     ]
    },
    {
     "name": "stdout",
     "output_type": "stream",
     "text": [
      "epoch: 3, [batch: 5257 / 13141], examples_per_second: 3165.0597, train_label_loss: 0.0001, \n"
     ]
    },
    {
     "name": "stdout",
     "output_type": "stream",
     "text": [
      "epoch: 3, [batch: 6571 / 13141], examples_per_second: 3164.2042, train_label_loss: 0.0010, \n"
     ]
    },
    {
     "name": "stdout",
     "output_type": "stream",
     "text": [
      "epoch: 3, [batch: 7885 / 13141], examples_per_second: 3161.4535, train_label_loss: 0.0002, \n"
     ]
    },
    {
     "name": "stdout",
     "output_type": "stream",
     "text": [
      "epoch: 3, [batch: 9199 / 13141], examples_per_second: 3177.4145, train_label_loss: 0.1447, \n"
     ]
    },
    {
     "name": "stdout",
     "output_type": "stream",
     "text": [
      "epoch: 3, [batch: 10513 / 13141], examples_per_second: 3207.8027, train_label_loss: 0.2022, \n"
     ]
    },
    {
     "name": "stdout",
     "output_type": "stream",
     "text": [
      "epoch: 3, [batch: 11827 / 13141], examples_per_second: 3209.4284, train_label_loss: 0.3125, \n"
     ]
    },
    {
     "name": "stdout",
     "output_type": "stream",
     "text": [
      "=============================================================\n",
      "epoch: 3, source_val_acc_label: 0.9856, target_val_acc_label: 0.1877, source_val_label_loss: 0.0641, target_val_label_loss: 2.5525, \n",
      "=============================================================\n"
     ]
    },
    {
     "name": "stdout",
     "output_type": "stream",
     "text": [
      "epoch: 4, [batch: 1 / 13165], examples_per_second: 2.6755, train_label_loss: 0.0114, \n"
     ]
    },
    {
     "name": "stdout",
     "output_type": "stream",
     "text": [
      "epoch: 4, [batch: 1317 / 13165], examples_per_second: 3180.8428, train_label_loss: 0.0374, \n"
     ]
    },
    {
     "name": "stdout",
     "output_type": "stream",
     "text": [
      "epoch: 4, [batch: 2633 / 13165], examples_per_second: 3164.7586, train_label_loss: 0.0005, \n"
     ]
    },
    {
     "name": "stdout",
     "output_type": "stream",
     "text": [
      "epoch: 4, [batch: 3950 / 13165], examples_per_second: 3200.9122, train_label_loss: 0.0005, \n"
     ]
    },
    {
     "name": "stdout",
     "output_type": "stream",
     "text": [
      "epoch: 4, [batch: 5266 / 13165], examples_per_second: 3161.8485, train_label_loss: 0.2217, \n"
     ]
    },
    {
     "name": "stdout",
     "output_type": "stream",
     "text": [
      "epoch: 4, [batch: 6583 / 13165], examples_per_second: 3183.9165, train_label_loss: 0.0009, \n"
     ]
    },
    {
     "name": "stdout",
     "output_type": "stream",
     "text": [
      "epoch: 4, [batch: 7899 / 13165], examples_per_second: 3194.9169, train_label_loss: 0.1623, \n"
     ]
    },
    {
     "name": "stdout",
     "output_type": "stream",
     "text": [
      "epoch: 4, [batch: 9215 / 13165], examples_per_second: 3169.5546, train_label_loss: 0.0609, \n"
     ]
    },
    {
     "name": "stdout",
     "output_type": "stream",
     "text": [
      "epoch: 4, [batch: 10532 / 13165], examples_per_second: 3199.1580, train_label_loss: 0.0004, \n"
     ]
    },
    {
     "name": "stdout",
     "output_type": "stream",
     "text": [
      "epoch: 4, [batch: 11848 / 13165], examples_per_second: 3192.2541, train_label_loss: 0.1468, \n"
     ]
    },
    {
     "name": "stdout",
     "output_type": "stream",
     "text": [
      "=============================================================\n",
      "epoch: 4, source_val_acc_label: 0.9860, target_val_acc_label: 0.1913, source_val_label_loss: 0.0662, target_val_label_loss: 2.5990, \n",
      "=============================================================\n"
     ]
    },
    {
     "name": "stdout",
     "output_type": "stream",
     "text": [
      "epoch: 5, [batch: 1 / 13180], examples_per_second: 2.6570, train_label_loss: 0.0005, \n"
     ]
    },
    {
     "name": "stdout",
     "output_type": "stream",
     "text": [
      "epoch: 5, [batch: 1318 / 13180], examples_per_second: 3144.5256, train_label_loss: 0.0004, \n"
     ]
    },
    {
     "name": "stdout",
     "output_type": "stream",
     "text": [
      "epoch: 5, [batch: 2636 / 13180], examples_per_second: 3186.0354, train_label_loss: 0.1741, \n"
     ]
    },
    {
     "name": "stdout",
     "output_type": "stream",
     "text": [
      "epoch: 5, [batch: 3954 / 13180], examples_per_second: 3185.5958, train_label_loss: 0.0000, \n"
     ]
    },
    {
     "name": "stdout",
     "output_type": "stream",
     "text": [
      "epoch: 5, [batch: 5272 / 13180], examples_per_second: 3151.1336, train_label_loss: 0.0002, \n"
     ]
    },
    {
     "name": "stdout",
     "output_type": "stream",
     "text": [
      "epoch: 5, [batch: 6590 / 13180], examples_per_second: 3198.9228, train_label_loss: 0.0009, \n"
     ]
    },
    {
     "name": "stdout",
     "output_type": "stream",
     "text": [
      "epoch: 5, [batch: 7908 / 13180], examples_per_second: 3202.3039, train_label_loss: 0.1945, \n"
     ]
    },
    {
     "name": "stdout",
     "output_type": "stream",
     "text": [
      "epoch: 5, [batch: 9226 / 13180], examples_per_second: 3194.2735, train_label_loss: 0.2055, \n"
     ]
    },
    {
     "name": "stdout",
     "output_type": "stream",
     "text": [
      "epoch: 5, [batch: 10544 / 13180], examples_per_second: 3187.9228, train_label_loss: 0.0000, \n"
     ]
    },
    {
     "name": "stdout",
     "output_type": "stream",
     "text": [
      "epoch: 5, [batch: 11862 / 13180], examples_per_second: 3184.8591, train_label_loss: 0.0125, \n"
     ]
    },
    {
     "name": "stdout",
     "output_type": "stream",
     "text": [
      "=============================================================\n",
      "epoch: 5, source_val_acc_label: 0.9849, target_val_acc_label: 0.1582, source_val_label_loss: 0.0689, target_val_label_loss: 2.9817, \n",
      "=============================================================\n"
     ]
    },
    {
     "name": "stdout",
     "output_type": "stream",
     "text": [
      "epoch: 6, [batch: 1 / 13166], examples_per_second: 2.6663, train_label_loss: 0.0001, \n"
     ]
    },
    {
     "name": "stdout",
     "output_type": "stream",
     "text": [
      "epoch: 6, [batch: 1317 / 13166], examples_per_second: 3154.0973, train_label_loss: 0.0002, \n"
     ]
    },
    {
     "name": "stdout",
     "output_type": "stream",
     "text": [
      "epoch: 6, [batch: 2634 / 13166], examples_per_second: 3164.8445, train_label_loss: 0.0510, \n"
     ]
    },
    {
     "name": "stdout",
     "output_type": "stream",
     "text": [
      "epoch: 6, [batch: 3950 / 13166], examples_per_second: 3181.1359, train_label_loss: 0.0007, \n"
     ]
    },
    {
     "name": "stdout",
     "output_type": "stream",
     "text": [
      "epoch: 6, [batch: 5267 / 13166], examples_per_second: 3179.9707, train_label_loss: 0.0049, \n"
     ]
    },
    {
     "name": "stdout",
     "output_type": "stream",
     "text": [
      "epoch: 6, [batch: 6583 / 13166], examples_per_second: 3189.8794, train_label_loss: 0.0379, \n"
     ]
    },
    {
     "name": "stdout",
     "output_type": "stream",
     "text": [
      "epoch: 6, [batch: 7900 / 13166], examples_per_second: 3211.2525, train_label_loss: 0.2293, \n"
     ]
    },
    {
     "name": "stdout",
     "output_type": "stream",
     "text": [
      "epoch: 6, [batch: 9216 / 13166], examples_per_second: 3177.2643, train_label_loss: 0.0000, \n"
     ]
    },
    {
     "name": "stdout",
     "output_type": "stream",
     "text": [
      "epoch: 6, [batch: 10533 / 13166], examples_per_second: 3155.9418, train_label_loss: 0.0008, \n"
     ]
    },
    {
     "name": "stdout",
     "output_type": "stream",
     "text": [
      "epoch: 6, [batch: 11849 / 13166], examples_per_second: 3146.0455, train_label_loss: 0.0000, \n"
     ]
    },
    {
     "name": "stdout",
     "output_type": "stream",
     "text": [
      "=============================================================\n",
      "epoch: 6, source_val_acc_label: 0.9857, target_val_acc_label: 0.1771, source_val_label_loss: 0.0640, target_val_label_loss: 2.7434, \n",
      "=============================================================\n"
     ]
    },
    {
     "name": "stdout",
     "output_type": "stream",
     "text": [
      "Patience (3) exhausted\n"
     ]
    }
   ],
   "source": [
    "###################################\n",
    "# train\n",
    "###################################\n",
    "jig = PTN_Train_Eval_Test_Jig(model, p.BEST_MODEL_PATH, p.device)\n",
    "\n",
    "jig.train(\n",
    "    train_iterable=datasets.source.processed.train,\n",
    "    source_val_iterable=datasets.source.processed.val,\n",
    "    target_val_iterable=datasets.target.processed.val,\n",
    "    num_epochs=p.n_epoch,\n",
    "    num_logs_per_epoch=p.NUM_LOGS_PER_EPOCH,\n",
    "    patience=p.patience,\n",
    "    optimizer=optimizer,\n",
    "    criteria_for_best=p.criteria_for_best,\n",
    ")"
   ]
  },
  {
   "cell_type": "code",
   "execution_count": 23,
   "id": "31e8fabf",
   "metadata": {
    "execution": {
     "iopub.execute_input": "2022-03-20T03:17:22.381209Z",
     "iopub.status.busy": "2022-03-20T03:17:22.380948Z",
     "iopub.status.idle": "2022-03-20T03:17:22.400101Z",
     "shell.execute_reply": "2022-03-20T03:17:22.399875Z"
    },
    "papermill": {
     "duration": 0.050404,
     "end_time": "2022-03-20T03:17:22.400155",
     "exception": false,
     "start_time": "2022-03-20T03:17:22.349751",
     "status": "completed"
    },
    "tags": []
   },
   "outputs": [],
   "source": [
    "total_experiment_time_secs = time.time() - start_time_secs"
   ]
  },
  {
   "cell_type": "code",
   "execution_count": 24,
   "id": "87b9595b",
   "metadata": {
    "execution": {
     "iopub.execute_input": "2022-03-20T03:17:22.463743Z",
     "iopub.status.busy": "2022-03-20T03:17:22.463278Z",
     "iopub.status.idle": "2022-03-20T03:19:53.566095Z",
     "shell.execute_reply": "2022-03-20T03:19:53.566535Z"
    },
    "papermill": {
     "duration": 151.137863,
     "end_time": "2022-03-20T03:19:53.566672",
     "exception": false,
     "start_time": "2022-03-20T03:17:22.428809",
     "status": "completed"
    },
    "tags": []
   },
   "outputs": [],
   "source": [
    "###################################\n",
    "# Evaluate the model\n",
    "###################################\n",
    "source_test_label_accuracy, source_test_label_loss = jig.test(datasets.source.processed.test)\n",
    "target_test_label_accuracy, target_test_label_loss = jig.test(datasets.target.processed.test)\n",
    "\n",
    "source_val_label_accuracy, source_val_label_loss = jig.test(datasets.source.processed.val)\n",
    "target_val_label_accuracy, target_val_label_loss = jig.test(datasets.target.processed.val)\n",
    "\n",
    "history = jig.get_history()\n",
    "\n",
    "total_epochs_trained = len(history[\"epoch_indices\"])\n",
    "\n",
    "val_dl = Iterable_Aggregator((datasets.source.original.val,datasets.target.original.val))\n",
    "\n",
    "confusion = ptn_confusion_by_domain_over_dataloader(model, p.device, val_dl)\n",
    "per_domain_accuracy = per_domain_accuracy_from_confusion(confusion)\n",
    "\n",
    "# Add a key to per_domain_accuracy for if it was a source domain\n",
    "for domain, accuracy in per_domain_accuracy.items():\n",
    "    per_domain_accuracy[domain] = {\n",
    "        \"accuracy\": accuracy,\n",
    "        \"source?\": domain in p.domains_source\n",
    "    }\n",
    "\n",
    "# Do an independent accuracy assesment JUST TO BE SURE!\n",
    "# _source_test_label_accuracy = independent_accuracy_assesment(model, datasets.source.processed.test, p.device)\n",
    "# _target_test_label_accuracy = independent_accuracy_assesment(model, datasets.target.processed.test, p.device)\n",
    "# _source_val_label_accuracy = independent_accuracy_assesment(model, datasets.source.processed.val, p.device)\n",
    "# _target_val_label_accuracy = independent_accuracy_assesment(model, datasets.target.processed.val, p.device)\n",
    "\n",
    "# assert(_source_test_label_accuracy == source_test_label_accuracy)\n",
    "# assert(_target_test_label_accuracy == target_test_label_accuracy)\n",
    "# assert(_source_val_label_accuracy == source_val_label_accuracy)\n",
    "# assert(_target_val_label_accuracy == target_val_label_accuracy)\n",
    "\n",
    "experiment = {\n",
    "    \"experiment_name\": p.experiment_name,\n",
    "    \"parameters\": dict(p),\n",
    "    \"results\": {\n",
    "        \"source_test_label_accuracy\": source_test_label_accuracy,\n",
    "        \"source_test_label_loss\": source_test_label_loss,\n",
    "        \"target_test_label_accuracy\": target_test_label_accuracy,\n",
    "        \"target_test_label_loss\": target_test_label_loss,\n",
    "        \"source_val_label_accuracy\": source_val_label_accuracy,\n",
    "        \"source_val_label_loss\": source_val_label_loss,\n",
    "        \"target_val_label_accuracy\": target_val_label_accuracy,\n",
    "        \"target_val_label_loss\": target_val_label_loss,\n",
    "        \"total_epochs_trained\": total_epochs_trained,\n",
    "        \"total_experiment_time_secs\": total_experiment_time_secs,\n",
    "        \"confusion\": confusion,\n",
    "        \"per_domain_accuracy\": per_domain_accuracy,\n",
    "    },\n",
    "    \"history\": history,\n",
    "    \"dataset_metrics\": get_dataset_metrics(datasets, \"ptn\"),\n",
    "}"
   ]
  },
  {
   "cell_type": "code",
   "execution_count": 25,
   "id": "54a21829",
   "metadata": {
    "execution": {
     "iopub.execute_input": "2022-03-20T03:19:53.630249Z",
     "iopub.status.busy": "2022-03-20T03:19:53.629988Z",
     "iopub.status.idle": "2022-03-20T03:19:53.759037Z",
     "shell.execute_reply": "2022-03-20T03:19:53.759487Z"
    },
    "papermill": {
     "duration": 0.159158,
     "end_time": "2022-03-20T03:19:53.759620",
     "exception": false,
     "start_time": "2022-03-20T03:19:53.600462",
     "status": "completed"
    },
    "tags": []
   },
   "outputs": [
    {
     "data": {
      "image/png": "[encoded data removed]",
      "text/plain": [
       "<Figure size 1080x504 with 1 Axes>"
      ]
     },
     "metadata": {
      "needs_background": "light"
     },
     "output_type": "display_data"
    }
   ],
   "source": [
    "ax = get_loss_curve(experiment)\n",
    "plt.show()"
   ]
  },
  {
   "cell_type": "code",
   "execution_count": 26,
   "id": "fd8a0f60",
   "metadata": {
    "execution": {
     "iopub.execute_input": "2022-03-20T03:19:53.821873Z",
     "iopub.status.busy": "2022-03-20T03:19:53.821606Z",
     "iopub.status.idle": "2022-03-20T03:19:53.965466Z",
     "shell.execute_reply": "2022-03-20T03:19:53.965224Z"
    },
    "papermill": {
     "duration": 0.173719,
     "end_time": "2022-03-20T03:19:53.965532",
     "exception": false,
     "start_time": "2022-03-20T03:19:53.791813",
     "status": "completed"
    },
    "tags": []
   },
   "outputs": [
    {
     "data": {
      "text/plain": [
       "<AxesSubplot:title={'center':'Results'}>"
      ]
     },
     "execution_count": 26,
     "metadata": {},
     "output_type": "execute_result"
    },
    {
     "data": {
      "image/png": "[encoded data removed]",
      "text/plain": [
       "<Figure size 1080x504 with 1 Axes>"
      ]
     },
     "metadata": {
      "needs_background": "light"
     },
     "output_type": "display_data"
    }
   ],
   "source": [
    "get_results_table(experiment)"
   ]
  },
  {
   "cell_type": "code",
   "execution_count": 27,
   "id": "cf8dc689",
   "metadata": {
    "execution": {
     "iopub.execute_input": "2022-03-20T03:19:54.032984Z",
     "iopub.status.busy": "2022-03-20T03:19:54.032713Z",
     "iopub.status.idle": "2022-03-20T03:19:54.199787Z",
     "shell.execute_reply": "2022-03-20T03:19:54.200205Z"
    },
    "papermill": {
     "duration": 0.199508,
     "end_time": "2022-03-20T03:19:54.200337",
     "exception": false,
     "start_time": "2022-03-20T03:19:54.000829",
     "status": "completed"
    },
    "tags": []
   },
   "outputs": [
    {
     "data": {
      "text/plain": [
       "<AxesSubplot:title={'center':'Per Domain Validation Accuracy'}, xlabel='domain'>"
      ]
     },
     "execution_count": 27,
     "metadata": {},
     "output_type": "execute_result"
    },
    {
     "data": {
      "image/png": "[encoded data removed]",
      "text/plain": [
       "<Figure size 1080x504 with 1 Axes>"
      ]
     },
     "metadata": {
      "needs_background": "light"
     },
     "output_type": "display_data"
    }
   ],
   "source": [
    "get_domain_accuracies(experiment)"
   ]
  },
  {
   "cell_type": "code",
   "execution_count": 28,
   "id": "a74ae082",
   "metadata": {
    "execution": {
     "iopub.execute_input": "2022-03-20T03:19:54.274704Z",
     "iopub.status.busy": "2022-03-20T03:19:54.274287Z",
     "iopub.status.idle": "2022-03-20T03:19:54.287485Z",
     "shell.execute_reply": "2022-03-20T03:19:54.287710Z"
    },
    "papermill": {
     "duration": 0.045627,
     "end_time": "2022-03-20T03:19:54.287786",
     "exception": false,
     "start_time": "2022-03-20T03:19:54.242159",
     "status": "completed"
    },
    "tags": []
   },
   "outputs": [
    {
     "name": "stdout",
     "output_type": "stream",
     "text": [
      "Source Test Label Accuracy: 0.9843413978494624 Target Test Label Accuracy: 0.20305989583333334\n",
      "Source Val Label Accuracy: 0.9837740384615384 Target Val Label Accuracy: 0.20319010416666666\n"
     ]
    }
   ],
   "source": [
    "print(\"Source Test Label Accuracy:\", experiment[\"results\"][\"source_test_label_accuracy\"], \"Target Test Label Accuracy:\", experiment[\"results\"][\"target_test_label_accuracy\"])\n",
    "print(\"Source Val Label Accuracy:\", experiment[\"results\"][\"source_val_label_accuracy\"], \"Target Val Label Accuracy:\", experiment[\"results\"][\"target_val_label_accuracy\"])"
   ]
  },
  {
   "cell_type": "code",
   "execution_count": 29,
   "id": "dacca602",
   "metadata": {
    "execution": {
     "iopub.execute_input": "2022-03-20T03:19:54.352375Z",
     "iopub.status.busy": "2022-03-20T03:19:54.352105Z",
     "iopub.status.idle": "2022-03-20T03:19:54.372208Z",
     "shell.execute_reply": "2022-03-20T03:19:54.372506Z"
    },
    "papermill": {
     "duration": 0.052607,
     "end_time": "2022-03-20T03:19:54.372606",
     "exception": false,
     "start_time": "2022-03-20T03:19:54.319999",
     "status": "completed"
    },
    "tags": [
     "experiment_json"
    ]
   },
   "outputs": [
    {
     "data": {
      "text/plain": [
       "'{\"experiment_name\": \"tl_2v2:cores+wisig -> oracle.run1.framed\", \"parameters\": {\"experiment_name\": \"tl_2v2:cores+wisig -> oracle.run1.framed\", \"device\": \"cuda\", \"lr\": 0.0001, \"n_shot\": 3, \"n_query\": 2, \"train_k_factor\": 3, \"val_k_factor\": 2, \"test_k_factor\": 2, \"torch_default_dtype\": \"torch.float32\", \"n_epoch\": 50, \"patience\": 3, \"criteria_for_best\": \"target_accuracy\", \"x_net\": [{\"class\": \"nnReshape\", \"kargs\": {\"shape\": [-1, 1, 2, 256]}}, {\"class\": \"Conv2d\", \"kargs\": {\"in_channels\": 1, \"out_channels\": 256, \"kernel_size\": [1, 7], \"bias\": false, \"padding\": [0, 3]}}, {\"class\": \"ReLU\", \"kargs\": {\"inplace\": true}}, {\"class\": \"BatchNorm2d\", \"kargs\": {\"num_features\": 256}}, {\"class\": \"Conv2d\", \"kargs\": {\"in_channels\": 256, \"out_channels\": 80, \"kernel_size\": [2, 7], \"bias\": true, \"padding\": [0, 3]}}, {\"class\": \"ReLU\", \"kargs\": {\"inplace\": true}}, {\"class\": \"BatchNorm2d\", \"kargs\": {\"num_features\": 80}}, {\"class\": \"Flatten\", \"kargs\": {}}, {\"class\": \"Linear\", \"kargs\": {\"in_features\": 20480, \"out_features\": 256}}, {\"class\": \"ReLU\", \"kargs\": {\"inplace\": true}}, {\"class\": \"BatchNorm1d\", \"kargs\": {\"num_features\": 256}}, {\"class\": \"Linear\", \"kargs\": {\"in_features\": 256, \"out_features\": 256}}], \"NUM_LOGS_PER_EPOCH\": 10, \"BEST_MODEL_PATH\": \"./best_model.pth\", \"n_way\": 16, \"datasets\": [{\"labels\": [\"1-10.\", \"1-11.\", \"1-15.\", \"1-16.\", \"1-17.\", \"1-18.\", \"1-19.\", \"10-4.\", \"10-7.\", \"11-1.\", \"11-14.\", \"11-17.\", \"11-20.\", \"11-7.\", \"13-20.\", \"13-8.\", \"14-10.\", \"14-11.\", \"14-14.\", \"14-7.\", \"15-1.\", \"15-20.\", \"16-1.\", \"16-16.\", \"17-10.\", \"17-11.\", \"17-2.\", \"19-1.\", \"19-16.\", \"19-19.\", \"19-20.\", \"19-3.\", \"2-10.\", \"2-11.\", \"2-17.\", \"2-18.\", \"2-20.\", \"2-3.\", \"2-4.\", \"2-5.\", \"2-6.\", \"2-7.\", \"2-8.\", \"3-13.\", \"3-18.\", \"3-3.\", \"4-1.\", \"4-10.\", \"4-11.\", \"4-19.\", \"5-5.\", \"6-15.\", \"7-10.\", \"7-14.\", \"8-18.\", \"8-20.\", \"8-3.\", \"8-8.\"], \"domains\": [1, 2, 3, 4, 5], \"num_examples_per_domain_per_label\": -1, \"pickle_path\": \"/mnt/wd500GB/CSC500/csc500-main/datasets/cores.stratified_ds.2022A.pkl\", \"source_or_target_dataset\": \"source\", \"x_transforms\": [\"unit_mag\"], \"episode_transforms\": [], \"domain_prefix\": \"C_\"}, {\"labels\": [\"1-10\", \"1-12\", \"1-14\", \"1-16\", \"1-18\", \"1-19\", \"1-8\", \"10-11\", \"10-17\", \"10-4\", \"10-7\", \"11-1\", \"11-10\", \"11-19\", \"11-20\", \"11-4\", \"11-7\", \"12-19\", \"12-20\", \"12-7\", \"13-14\", \"13-18\", \"13-19\", \"13-20\", \"13-3\", \"13-7\", \"14-10\", \"14-11\", \"14-12\", \"14-13\", \"14-14\", \"14-19\", \"14-20\", \"14-7\", \"14-8\", \"14-9\", \"15-1\", \"15-19\", \"15-6\", \"16-1\", \"16-16\", \"16-19\", \"16-20\", \"17-10\", \"17-11\", \"18-1\", \"18-10\", \"18-11\", \"18-12\", \"18-13\", \"18-14\", \"18-15\", \"18-16\", \"18-17\", \"18-19\", \"18-2\", \"18-20\", \"18-4\", \"18-5\", \"18-7\", \"18-8\", \"18-9\", \"19-1\", \"19-10\", \"19-11\", \"19-12\", \"19-13\", \"19-14\", \"19-15\", \"19-19\", \"19-2\", \"19-20\", \"19-3\", \"19-4\", \"19-6\", \"19-7\", \"19-8\", \"19-9\", \"2-1\", \"2-13\", \"2-15\", \"2-3\", \"2-4\", \"2-5\", \"2-6\", \"2-7\", \"2-8\", \"20-1\", \"20-12\", \"20-14\", \"20-15\", \"20-16\", \"20-18\", \"20-19\", \"20-20\", \"20-3\", \"20-4\", \"20-5\", \"20-7\", \"20-8\", \"3-1\", \"3-13\", \"3-18\", \"3-2\", \"3-8\", \"4-1\", \"4-10\", \"4-11\", \"5-1\", \"5-5\", \"6-1\", \"6-15\", \"6-6\", \"7-10\", \"7-11\", \"7-12\", \"7-13\", \"7-14\", \"7-7\", \"7-8\", \"7-9\", \"8-1\", \"8-13\", \"8-14\", \"8-18\", \"8-20\", \"8-3\", \"8-8\", \"9-1\", \"9-7\"], \"domains\": [1, 2, 3, 4], \"num_examples_per_domain_per_label\": -1, \"pickle_path\": \"/mnt/wd500GB/CSC500/csc500-main/datasets/wisig.node3-19.stratified_ds.2022A.pkl\", \"source_or_target_dataset\": \"source\", \"x_transforms\": [\"unit_mag\"], \"episode_transforms\": [], \"domain_prefix\": \"W_\"}, {\"labels\": [\"3123D52\", \"3123D65\", \"3123D79\", \"3123D80\", \"3123D54\", \"3123D70\", \"3123D7B\", \"3123D89\", \"3123D58\", \"3123D76\", \"3123D7D\", \"3123EFE\", \"3123D64\", \"3123D78\", \"3123D7E\", \"3124E4A\"], \"domains\": [32, 38, 8, 44, 14, 50, 20, 26], \"num_examples_per_domain_per_label\": 2000, \"pickle_path\": \"/mnt/wd500GB/CSC500/csc500-main/datasets/oracle.Run1_framed_2000Examples_stratified_ds.2022A.pkl\", \"source_or_target_dataset\": \"target\", \"x_transforms\": [\"unit_mag\"], \"episode_transforms\": [], \"domain_prefix\": \"O_\"}], \"seed\": 1337, \"dataset_seed\": 1337, \"x_shape\": [2, 256], \"domains_source\": [\"C_1\", \"C_2\", \"C_3\", \"C_4\", \"C_5\", \"W_1\", \"W_2\", \"W_3\", \"W_4\"], \"domains_target\": [\"O_32\", \"O_38\", \"O_8\", \"O_44\", \"O_14\", \"O_50\", \"O_20\", \"O_26\"]}, \"results\": {\"source_test_label_accuracy\": 0.9843413978494624, \"source_test_label_loss\": 0.06779356300830841, \"target_test_label_accuracy\": 0.20305989583333334, \"target_test_label_loss\": 2.479069709777832, \"source_val_label_accuracy\": 0.9837740384615384, \"source_val_label_loss\": 0.07425211369991302, \"target_val_label_accuracy\": 0.20319010416666666, \"target_val_label_loss\": 2.491173505783081, \"total_epochs_trained\": 6, \"total_experiment_time_secs\": 2209.922959804535, \"confusion\": {\"W_3\": {\"109\": {\"109\": 127, \"127\": 1}, \"127\": {\"127\": 126, \"69\": 1, \"4\": 1}, \"14\": {\"14\": 80}, \"7\": {\"7\": 111, \"111\": 1}, \"129\": {\"129\": 32}, \"57\": {\"57\": 20}, \"84\": {\"84\": 107, \"14\": 1}, \"114\": {\"114\": 121, \"29\": 1, \"28\": 1, \"127\": 1}, \"44\": {\"44\": 72}, \"21\": {\"21\": 46, \"101\": 1, \"73\": 1}, \"46\": {\"46\": 16}, \"100\": {\"100\": 16}, \"63\": {\"63\": 15, \"122\": 1}, \"24\": {\"24\": 47, \"27\": 1}, \"107\": {\"107\": 117, \"11\": 1}, \"35\": {\"35\": 11, \"49\": 1}, \"81\": {\"81\": 32}, \"64\": {\"64\": 20}, \"59\": {\"59\": 12}, \"33\": {\"33\": 112, \"102\": 1, \"3\": 1}, \"34\": {\"34\": 31, \"77\": 1}, \"36\": {\"36\": 116, \"27\": 1, \"98\": 1, \"24\": 1, \"111\": 1}, \"79\": {\"79\": 12}, \"80\": {\"80\": 16}, \"77\": {\"77\": 15, \"105\": 1}, \"22\": {\"22\": 16}, \"124\": {\"124\": 122, \"98\": 1, \"32\": 1}, \"2\": {\"2\": 27, \"26\": 1}, \"87\": {\"87\": 111, \"30\": 1}, \"105\": {\"105\": 122}, \"95\": {\"95\": 32}, \"43\": {\"43\": 51, \"21\": 1, \"30\": 1, \"69\": 1, \"78\": 1, \"87\": 1}, \"56\": {\"56\": 12}, \"18\": {\"18\": 121, \"11\": 1, \"21\": 1, \"84\": 1}, \"85\": {\"85\": 36}, \"113\": {\"113\": 119, \"62\": 1}, \"97\": {\"97\": 18, \"27\": 1, \"13\": 1}, \"86\": {\"86\": 26, \"84\": 1, \"111\": 1}, \"128\": {\"128\": 27, \"86\": 1, \"19\": 2, \"91\": 1, \"43\": 1}, \"123\": {\"123\": 16}, \"8\": {\"8\": 130}, \"110\": {\"110\": 82, \"17\": 2, \"70\": 1, \"117\": 1, \"7\": 2, \"101\": 1, \"69\": 1}, \"126\": {\"21\": 1, \"126\": 99, \"94\": 1, \"40\": 1, \"105\": 1, \"39\": 1}, \"42\": {\"42\": 24, \"8\": 2, \"112\": 2}, \"96\": {\"96\": 20}, \"83\": {\"83\": 24}, \"54\": {\"54\": 16}, \"65\": {\"65\": 11, \"92\": 1}, \"30\": {\"30\": 81, \"36\": 1, \"69\": 1, \"70\": 1}, \"121\": {\"121\": 27, \"80\": 1, \"21\": 1, \"30\": 1, \"0\": 1, \"84\": 1}, \"68\": {\"68\": 16}, \"45\": {\"45\": 15, \"73\": 1}, \"48\": {\"48\": 12, \"13\": 2, \"65\": 1, \"79\": 1}, \"4\": {\"4\": 94, \"39\": 1, \"87\": 1}, \"67\": {\"67\": 16}, \"103\": {\"103\": 15, \"81\": 1}, \"74\": {\"74\": 16}, \"1\": {\"1\": 106, \"84\": 2}, \"61\": {\"61\": 16}, \"101\": {\"101\": 48, \"60\": 1, \"0\": 1, \"127\": 1, \"25\": 1}, \"93\": {\"93\": 138}, \"26\": {\"26\": 130}, \"71\": {\"71\": 66, \"3\": 1, \"127\": 1}, \"15\": {\"15\": 100, \"97\": 2, \"69\": 1, \"127\": 1}, \"55\": {\"55\": 16}, \"104\": {\"104\": 16}, \"112\": {\"112\": 15, \"38\": 1}, \"102\": {\"102\": 122}, \"117\": {\"117\": 112}, \"119\": {\"119\": 16}, \"20\": {\"20\": 15, \"68\": 1}, \"120\": {\"120\": 20}, \"39\": {\"39\": 101, \"126\": 3, \"127\": 1, \"49\": 1, \"70\": 1, \"8\": 1}, \"49\": {\"49\": 22, \"8\": 1, \"42\": 1}, \"53\": {\"53\": 20}, \"92\": {\"92\": 30, \"49\": 1, \"120\": 1}, \"3\": {\"3\": 116}, \"47\": {\"47\": 12}, \"115\": {\"115\": 16}, \"58\": {\"58\": 16}, \"29\": {\"29\": 32}, \"12\": {\"12\": 104}, \"62\": {\"62\": 116, \"14\": 1, \"127\": 1}, \"11\": {\"11\": 139, \"16\": 1}, \"72\": {\"72\": 28}, \"98\": {\"98\": 106}, \"122\": {\"122\": 57, \"39\": 1, \"2\": 1, \"21\": 1}, \"17\": {\"80\": 1, \"17\": 9, \"110\": 1, \"63\": 1, \"104\": 2, \"68\": 1, \"43\": 1}, \"94\": {\"94\": 83, \"73\": 1}, \"106\": {\"106\": 88, \"94\": 1, \"110\": 1}, \"28\": {\"28\": 16}, \"69\": {\"69\": 78, \"7\": 2, \"127\": 1, \"87\": 1, \"107\": 1, \"5\": 1}, \"125\": {\"125\": 112, \"16\": 1, \"69\": 1}, \"19\": {\"19\": 32}, \"41\": {\"41\": 16}, \"60\": {\"60\": 26, \"122\": 1, \"31\": 1}, \"70\": {\"70\": 67, \"3\": 2, \"56\": 1, \"92\": 1, \"106\": 1}, \"27\": {\"27\": 92, \"36\": 3, \"40\": 1}, \"10\": {\"10\": 114, \"7\": 1, \"0\": 2, \"4\": 1}, \"108\": {\"108\": 138, \"39\": 1, \"110\": 1}, \"9\": {\"9\": 32}, \"25\": {\"25\": 16}, \"37\": {\"37\": 15, \"73\": 1}, \"0\": {\"0\": 116}, \"66\": {\"66\": 16}, \"51\": {\"51\": 16}, \"76\": {\"76\": 16}, \"32\": {\"32\": 30, \"64\": 1, \"14\": 1}, \"88\": {\"88\": 108, \"70\": 2, \"44\": 1, \"106\": 1}, \"31\": {\"31\": 20}, \"91\": {\"91\": 22, \"7\": 1, \"103\": 1}, \"90\": {\"90\": 126}, \"13\": {\"13\": 14, \"30\": 1, \"25\": 1}, \"50\": {\"50\": 16}, \"78\": {\"78\": 16}, \"116\": {\"116\": 22, \"43\": 1, \"82\": 3, \"110\": 1, \"120\": 1}, \"5\": {\"5\": 109, \"39\": 1, \"1\": 1, \"70\": 1}, \"75\": {\"75\": 16}, \"89\": {\"89\": 28}, \"16\": {\"16\": 114, \"3\": 1, \"93\": 1}, \"38\": {\"38\": 15, \"89\": 1}, \"118\": {\"118\": 97, \"30\": 1, \"7\": 1, \"127\": 1}, \"99\": {\"99\": 35, \"36\": 1}, \"52\": {\"52\": 16}, \"111\": {\"111\": 128}, \"23\": {\"23\": 31, \"5\": 1}, \"73\": {\"73\": 38, \"21\": 1, \"8\": 1}, \"82\": {\"82\": 26, \"9\": 1, \"122\": 1}, \"40\": {\"40\": 126, \"7\": 1, \"71\": 1}, \"6\": {\"6\": 32}}, \"C_3\": {\"43\": {\"43\": 128}, \"9\": {\"9\": 150}, \"6\": {\"6\": 88}, \"3\": {\"3\": 144}, \"16\": {\"16\": 134}, \"51\": {\"51\": 128}, \"31\": {\"31\": 28}, \"46\": {\"46\": 134}, \"19\": {\"19\": 124}, \"8\": {\"8\": 152}, \"18\": {\"18\": 84}, \"37\": {\"37\": 28}, \"24\": {\"24\": 104}, \"10\": {\"10\": 64}, \"44\": {\"44\": 87, \"36\": 1}, \"14\": {\"14\": 39, \"42\": 1}, \"38\": {\"38\": 28}, \"53\": {\"53\": 140}, \"20\": {\"20\": 132}, \"32\": {\"32\": 28}, \"36\": {\"36\": 100}, \"33\": {\"33\": 28}, \"56\": {\"56\": 136}, \"23\": {\"23\": 130}, \"54\": {\"54\": 100}, \"21\": {\"21\": 126}, \"28\": {\"28\": 28}, \"26\": {\"26\": 24}, \"48\": {\"48\": 116}, \"52\": {\"52\": 118}, \"39\": {\"39\": 16}, \"22\": {\"22\": 140}, \"13\": {\"13\": 128}, \"2\": {\"2\": 32}, \"34\": {\"34\": 32}, \"27\": {\"27\": 132}, \"45\": {\"45\": 60}, \"35\": {\"35\": 28}, \"29\": {\"29\": 128}, \"25\": {\"25\": 144}, \"0\": {\"0\": 124}, \"41\": {\"41\": 28}, \"11\": {\"11\": 142}, \"5\": {\"5\": 108}, \"1\": {\"1\": 100}, \"57\": {\"57\": 116}, \"17\": {\"17\": 106, \"50\": 1, \"45\": 1}, \"7\": {\"7\": 36}, \"12\": {\"12\": 92}, \"47\": {\"47\": 92}, \"40\": {\"40\": 136}, \"15\": {\"15\": 142}, \"42\": {\"42\": 28}, \"55\": {\"55\": 150}, \"49\": {\"49\": 20}, \"30\": {\"30\": 118, \"23\": 1, \"18\": 1}, \"50\": {\"50\": 134}, \"4\": {\"4\": 136}}, \"C_4\": {\"35\": {\"35\": 40}, \"25\": {\"25\": 134}, \"24\": {\"24\": 56}, \"48\": {\"48\": 138}, \"51\": {\"51\": 144}, \"13\": {\"13\": 120}, \"14\": {\"14\": 13, \"38\": 2, \"0\": 1}, \"32\": {\"32\": 24}, \"30\": {\"30\": 44}, \"34\": {\"34\": 24}, \"9\": {\"9\": 136}, \"1\": {\"1\": 40}, \"0\": {\"0\": 80}, \"38\": {\"38\": 40}, \"22\": {\"22\": 128}, \"40\": {\"40\": 120}, \"6\": {\"6\": 112}, \"16\": {\"16\": 96}, \"11\": {\"11\": 104}, \"20\": {\"20\": 122}, \"17\": {\"17\": 80}, \"26\": {\"26\": 24}, \"54\": {\"54\": 108}, \"55\": {\"55\": 154}, \"50\": {\"50\": 131, \"55\": 1}, \"19\": {\"19\": 142}, \"44\": {\"44\": 122}, \"47\": {\"47\": 120}, \"33\": {\"33\": 36}, \"5\": {\"5\": 108}, \"18\": {\"18\": 108}, \"21\": {\"21\": 124}, \"41\": {\"41\": 36}, \"23\": {\"23\": 128}, \"39\": {\"39\": 20}, \"37\": {\"37\": 24}, \"8\": {\"8\": 144}, \"49\": {\"49\": 20}, \"53\": {\"53\": 140}, \"31\": {\"31\": 28}, \"28\": {\"28\": 32}, \"3\": {\"3\": 124}, \"27\": {\"27\": 138}, \"46\": {\"46\": 127, \"47\": 1}, \"12\": {\"12\": 92}, \"7\": {\"7\": 24}, \"4\": {\"4\": 132}, \"42\": {\"42\": 32}, \"43\": {\"43\": 130}, \"29\": {\"29\": 120}, \"57\": {\"57\": 100}, \"52\": {\"52\": 104}, \"45\": {\"45\": 96}, \"36\": {\"36\": 92}, \"10\": {\"10\": 126}, \"15\": {\"15\": 134}, \"56\": {\"56\": 124}, \"2\": {\"2\": 36}}, \"W_4\": {\"28\": {\"28\": 20}, \"4\": {\"4\": 97, \"3\": 2, \"86\": 3, \"127\": 1, \"5\": 1}, \"72\": {\"72\": 30, \"57\": 1, \"84\": 1}, \"111\": {\"111\": 132, \"24\": 1, \"14\": 1, \"0\": 1, \"4\": 1}, \"108\": {\"108\": 80, \"88\": 2, \"129\": 2, \"122\": 1, \"3\": 1, \"27\": 2, \"125\": 1, \"93\": 2, \"7\": 1}, \"43\": {\"43\": 114, \"87\": 5, \"71\": 1}, \"96\": {\"96\": 20}, \"89\": {\"89\": 29, \"1\": 1, \"129\": 1, \"81\": 1}, \"31\": {\"31\": 16}, \"45\": {\"45\": 16}, \"2\": {\"2\": 25, \"100\": 2, \"26\": 1}, \"114\": {\"114\": 126, \"12\": 1, \"30\": 1}, \"11\": {\"11\": 135, \"30\": 1}, \"12\": {\"12\": 97, \"87\": 1, \"62\": 1, \"72\": 1}, \"14\": {\"14\": 111, \"8\": 1}, \"90\": {\"90\": 153, \"69\": 1}, \"10\": {\"10\": 117, \"24\": 1, \"30\": 2, \"88\": 1, \"27\": 1}, \"63\": {\"63\": 15, \"39\": 1}, \"85\": {\"85\": 27, \"1\": 1}, \"64\": {\"64\": 14, \"67\": 1, \"129\": 1}, \"82\": {\"82\": 31, \"122\": 1}, \"58\": {\"58\": 15, \"27\": 1}, \"3\": {\"3\": 132, \"47\": 1, \"10\": 1, \"21\": 1, \"27\": 1}, \"54\": {\"54\": 16}, \"121\": {\"121\": 30, \"63\": 1, \"44\": 1}, \"42\": {\"42\": 23, \"79\": 1, \"6\": 1, \"9\": 1, \"73\": 1, \"8\": 1}, \"98\": {\"98\": 118, \"69\": 1, \"25\": 1}, \"123\": {\"123\": 16}, \"91\": {\"91\": 24}, \"83\": {\"112\": 1, \"83\": 25, \"100\": 1, \"106\": 1}, \"99\": {\"99\": 40}, \"112\": {\"112\": 16}, \"119\": {\"119\": 16}, \"70\": {\"70\": 119, \"102\": 1, \"88\": 2, \"67\": 1, \"117\": 1}, \"20\": {\"20\": 15, \"1\": 1}, \"120\": {\"120\": 20}, \"7\": {\"7\": 123, \"1\": 1}, \"60\": {\"60\": 32}, \"113\": {\"113\": 116, \"39\": 1, \"0\": 1}, \"37\": {\"37\": 14, \"67\": 1, \"5\": 1}, \"124\": {\"124\": 110}, \"27\": {\"27\": 97, \"111\": 1, \"10\": 1, \"126\": 1}, \"86\": {\"86\": 28}, \"127\": {\"127\": 102, \"0\": 2, \"3\": 1, \"126\": 1, \"122\": 1, \"39\": 1}, \"62\": {\"62\": 55, \"71\": 1, \"122\": 1, \"27\": 1, \"15\": 1, \"110\": 1}, \"122\": {\"122\": 81, \"3\": 1, \"90\": 1, \"1\": 1}, \"51\": {\"51\": 10, \"6\": 1, \"30\": 1, \"21\": 1, \"23\": 1, \"35\": 1, \"17\": 1}, \"109\": {\"109\": 112, \"14\": 1, \"100\": 1}, \"106\": {\"106\": 107, \"39\": 1, \"3\": 2, \"78\": 1, \"1\": 1, \"111\": 1, \"88\": 1}, \"94\": {\"54\": 2, \"94\": 85, \"7\": 1}, \"38\": {\"38\": 15, \"66\": 1}, \"129\": {\"129\": 27, \"87\": 1}, \"116\": {\"116\": 26, \"33\": 2}, \"107\": {\"107\": 118}, \"30\": {\"30\": 73, \"39\": 1, \"105\": 1, \"27\": 1}, \"102\": {\"102\": 131, \"6\": 1}, \"74\": {\"74\": 15, \"99\": 1}, \"101\": {\"101\": 130, \"5\": 1, \"0\": 1}, \"117\": {\"117\": 119, \"7\": 1, \"1\": 1, \"24\": 1, \"90\": 1, \"81\": 1}, \"1\": {\"1\": 98, \"88\": 3, \"70\": 2, \"15\": 1, \"127\": 1, \"71\": 1, \"21\": 1, \"14\": 1}, \"84\": {\"84\": 128, \"87\": 1, \"105\": 1, \"14\": 1, \"4\": 1}, \"17\": {\"17\": 20}, \"6\": {\"6\": 24}, \"110\": {\"110\": 122, \"84\": 1, \"1\": 1}, \"77\": {\"77\": 12}, \"8\": {\"8\": 128, \"3\": 2, \"127\": 1, \"110\": 1}, \"73\": {\"73\": 21, \"69\": 1, \"0\": 1, \"27\": 1}, \"126\": {\"126\": 122, \"24\": 1, \"88\": 1}, \"57\": {\"57\": 16}, \"95\": {\"95\": 31, \"8\": 1}, \"103\": {\"103\": 16}, \"97\": {\"97\": 19, \"78\": 1}, \"39\": {\"110\": 1, \"39\": 90, \"126\": 1, \"84\": 1, \"106\": 1, \"113\": 1, \"81\": 1, \"21\": 2, \"108\": 1, \"87\": 1}, \"100\": {\"100\": 20}, \"40\": {\"40\": 109, \"69\": 1}, \"36\": {\"36\": 123, \"24\": 1, \"84\": 1, \"21\": 1}, \"19\": {\"19\": 28}, \"118\": {\"118\": 109, \"3\": 1, \"24\": 1, \"12\": 1}, \"56\": {\"56\": 12}, \"26\": {\"26\": 125, \"84\": 1}, \"5\": {\"5\": 135, \"110\": 1}, \"21\": {\"21\": 38, \"23\": 1, \"84\": 1}, \"22\": {\"22\": 15, \"118\": 1}, \"68\": {\"68\": 16}, \"9\": {\"9\": 28}, \"66\": {\"66\": 14, \"112\": 1, \"44\": 1}, \"87\": {\"87\": 123, \"110\": 1}, \"71\": {\"71\": 100, \"19\": 1, \"88\": 1, \"21\": 1, \"39\": 1}, \"115\": {\"115\": 15, \"13\": 1}, \"23\": {\"17\": 1, \"23\": 9, \"56\": 1, \"51\": 1, \"121\": 2, \"10\": 1, \"3\": 1}, \"33\": {\"33\": 116, \"5\": 1, \"90\": 1}, \"35\": {\"35\": 11, \"3\": 1}, \"125\": {\"125\": 127, \"43\": 3, \"92\": 1, \"10\": 1}, \"47\": {\"47\": 12}, \"79\": {\"79\": 16}, \"53\": {\"53\": 16}, \"67\": {\"113\": 2, \"67\": 10, \"33\": 1, \"23\": 1, \"5\": 1, \"104\": 1}, \"80\": {\"80\": 16}, \"105\": {\"105\": 92, \"44\": 1, \"78\": 1, \"3\": 1, \"87\": 1, \"110\": 1, \"60\": 1, \"126\": 1, \"106\": 1}, \"76\": {\"76\": 16}, \"46\": {\"46\": 20}, \"34\": {\"34\": 29, \"75\": 2, \"72\": 1}, \"32\": {\"32\": 24, \"120\": 1, \"29\": 1, \"31\": 1, \"45\": 1}, \"13\": {\"13\": 16}, \"78\": {\"78\": 33, \"43\": 1, \"106\": 1, \"4\": 1}, \"41\": {\"41\": 16}, \"69\": {\"69\": 124, \"88\": 1, \"4\": 1, \"7\": 1, \"27\": 1}, \"88\": {\"88\": 114, \"59\": 1, \"74\": 1, \"108\": 2, \"70\": 9, \"3\": 1, \"5\": 1, \"69\": 1, \"27\": 1, \"90\": 1}, \"15\": {\"15\": 124, \"122\": 1, \"106\": 1, \"21\": 1, \"10\": 1}, \"61\": {\"61\": 16}, \"0\": {\"0\": 110, \"24\": 1, \"101\": 1, \"105\": 1, \"4\": 2, \"27\": 1}, \"104\": {\"104\": 15, \"39\": 1}, \"48\": {\"48\": 15, \"68\": 1}, \"25\": {\"25\": 16}, \"75\": {\"75\": 16}, \"81\": {\"81\": 34, \"69\": 1, \"27\": 1}, \"50\": {\"50\": 16}, \"52\": {\"52\": 20}, \"16\": {\"16\": 117, \"70\": 1, \"3\": 1, \"43\": 1}, \"44\": {\"44\": 63, \"2\": 1}, \"29\": {\"29\": 30, \"21\": 1, \"1\": 1}, \"93\": {\"93\": 123, \"84\": 1}, \"18\": {\"18\": 114}, \"49\": {\"49\": 32}, \"55\": {\"55\": 16}, \"59\": {\"59\": 11, \"21\": 1}, \"128\": {\"128\": 18, \"98\": 2, \"8\": 1, \"91\": 3}, \"24\": {\"24\": 112, \"122\": 1, \"0\": 1, \"36\": 3, \"7\": 1, \"12\": 1, \"10\": 1}, \"65\": {\"65\": 12}, \"92\": {\"92\": 28}}, \"W_1\": {\"108\": {\"108\": 124}, \"40\": {\"40\": 136}, \"68\": {\"68\": 15, \"23\": 1}, \"23\": {\"23\": 21, \"32\": 1, \"99\": 1, \"3\": 1}, \"26\": {\"26\": 119, \"12\": 1}, \"64\": {\"64\": 16}, \"22\": {\"22\": 14, \"86\": 1, \"43\": 1}, \"3\": {\"3\": 84, \"84\": 1, \"15\": 1, \"18\": 1, \"26\": 1}, \"4\": {\"4\": 99, \"12\": 1}, \"70\": {\"70\": 115, \"84\": 1, \"6\": 1, \"12\": 1, \"24\": 1, \"94\": 1}, \"57\": {\"57\": 11, \"53\": 1}, \"79\": {\"79\": 12}, \"9\": {\"9\": 32}, \"89\": {\"89\": 35, \"124\": 1}, \"110\": {\"110\": 128}, \"102\": {\"102\": 118, \"14\": 1, \"107\": 1}, \"31\": {\"31\": 16}, \"58\": {\"58\": 11, \"41\": 1}, \"47\": {\"47\": 12}, \"24\": {\"24\": 87, \"97\": 1, \"12\": 1, \"27\": 1, \"113\": 1, \"108\": 1}, \"19\": {\"19\": 28}, \"11\": {\"11\": 132}, \"52\": {\"52\": 20}, \"17\": {\"17\": 15, \"68\": 1}, \"25\": {\"25\": 16}, \"69\": {\"69\": 105, \"43\": 1, \"101\": 1, \"14\": 1}, \"96\": {\"96\": 16, \"17\": 1, \"23\": 1, \"49\": 1, \"72\": 1}, \"109\": {\"109\": 112, \"3\": 1, \"70\": 1}, \"115\": {\"115\": 12}, \"83\": {\"83\": 27, \"27\": 1}, \"84\": {\"84\": 127, \"88\": 1}, \"119\": {\"119\": 16}, \"122\": {\"122\": 83, \"70\": 1, \"12\": 1, \"21\": 2, \"39\": 1}, \"99\": {\"99\": 24}, \"1\": {\"1\": 133, \"27\": 1, \"84\": 1, \"127\": 1}, \"74\": {\"74\": 16}, \"85\": {\"85\": 32}, \"127\": {\"127\": 106, \"88\": 1, \"12\": 1}, \"111\": {\"111\": 119, \"24\": 1}, \"53\": {\"53\": 20}, \"88\": {\"88\": 131, \"27\": 1}, \"65\": {\"65\": 9, \"21\": 1, \"66\": 1, \"102\": 1}, \"7\": {\"7\": 134}, \"16\": {\"16\": 107, \"127\": 1}, \"128\": {\"128\": 22, \"0\": 1, \"72\": 1}, \"34\": {\"34\": 29, \"80\": 1, \"60\": 1, \"86\": 1}, \"129\": {\"129\": 26, \"2\": 2}, \"43\": {\"43\": 127, \"78\": 1}, \"92\": {\"92\": 28}, \"28\": {\"28\": 18, \"17\": 1, \"127\": 1}, \"27\": {\"27\": 91, \"97\": 1}, \"114\": {\"114\": 123, \"71\": 1}, \"73\": {\"73\": 20}, \"0\": {\"0\": 84}, \"104\": {\"104\": 16}, \"118\": {\"118\": 83, \"15\": 1}, \"41\": {\"41\": 16}, \"91\": {\"91\": 28}, \"124\": {\"124\": 122}, \"81\": {\"81\": 28}, \"63\": {\"63\": 16}, \"76\": {\"76\": 16}, \"10\": {\"10\": 118, \"51\": 1, \"43\": 1}, \"51\": {\"51\": 15, \"7\": 1}, \"82\": {\"82\": 36}, \"56\": {\"56\": 11, \"53\": 1}, \"30\": {\"30\": 52}, \"21\": {\"21\": 35, \"23\": 1, \"49\": 1, \"87\": 1, \"84\": 2}, \"46\": {\"46\": 12}, \"33\": {\"33\": 138}, \"101\": {\"101\": 121, \"27\": 1, \"16\": 1, \"26\": 1}, \"105\": {\"105\": 81, \"62\": 1, \"40\": 2}, \"50\": {\"50\": 15, \"78\": 1}, \"116\": {\"116\": 31, \"95\": 1}, \"77\": {\"77\": 16}, \"75\": {\"75\": 16}, \"95\": {\"95\": 36}, \"120\": {\"120\": 20}, \"18\": {\"18\": 108}, \"14\": {\"14\": 96}, \"44\": {\"44\": 76}, \"98\": {\"98\": 96}, \"121\": {\"121\": 32}, \"113\": {\"113\": 108}, \"103\": {\"103\": 16}, \"62\": {\"62\": 116, \"84\": 1, \"14\": 1, \"107\": 1, \"39\": 1}, \"32\": {\"32\": 31, \"23\": 1}, \"71\": {\"71\": 104, \"127\": 2, \"84\": 1, \"101\": 1}, \"94\": {\"94\": 89, \"12\": 2, \"14\": 1}, \"49\": {\"49\": 17, \"34\": 1, \"86\": 1, \"31\": 1}, \"12\": {\"12\": 102, \"21\": 1, \"43\": 1}, \"90\": {\"90\": 124}, \"93\": {\"93\": 121, \"4\": 1, \"43\": 1, \"87\": 1}, \"13\": {\"13\": 16}, \"67\": {\"23\": 1, \"67\": 15}, \"20\": {\"20\": 14, \"27\": 1, \"122\": 1}, \"2\": {\"2\": 31, \"11\": 1}, \"5\": {\"5\": 86, \"101\": 1, \"49\": 1}, \"54\": {\"54\": 15, \"122\": 1}, \"37\": {\"37\": 16}, \"38\": {\"38\": 16}, \"86\": {\"86\": 33, \"2\": 1, \"84\": 1, \"71\": 1}, \"55\": {\"55\": 12}, \"97\": {\"97\": 18, \"122\": 1, \"23\": 1}, \"29\": {\"29\": 28}, \"48\": {\"63\": 1, \"48\": 11}, \"60\": {\"60\": 12, \"34\": 1, \"119\": 1, \"99\": 1, \"81\": 1}, \"36\": {\"36\": 117, \"5\": 1, \"88\": 3, \"113\": 1}, \"42\": {\"58\": 1, \"42\": 22, \"49\": 1, \"91\": 2, \"21\": 1, \"86\": 1}, \"66\": {\"66\": 16}, \"126\": {\"126\": 126, \"5\": 1, \"109\": 1}, \"39\": {\"39\": 104}, \"107\": {\"107\": 123, \"39\": 1}, \"59\": {\"59\": 9, \"71\": 1, \"115\": 1, \"66\": 1}, \"117\": {\"117\": 138}, \"6\": {\"6\": 32}, \"123\": {\"123\": 16}, \"8\": {\"8\": 123, \"21\": 1}, \"112\": {\"112\": 15, \"0\": 1}, \"80\": {\"80\": 16}, \"125\": {\"125\": 136}, \"61\": {\"61\": 12}, \"45\": {\"45\": 7, \"128\": 1, \"86\": 2, \"64\": 2}, \"72\": {\"72\": 32}, \"87\": {\"87\": 107, \"27\": 1}, \"106\": {\"106\": 123, \"113\": 1}, \"35\": {\"35\": 9, \"114\": 1, \"96\": 1, \"6\": 1}, \"78\": {\"78\": 14, \"3\": 1, \"44\": 1}, \"15\": {\"15\": 97, \"111\": 2, \"122\": 1, \"40\": 1, \"12\": 1, \"107\": 1, \"21\": 1}, \"100\": {\"100\": 16}}, \"C_5\": {\"47\": {\"47\": 100}, \"53\": {\"53\": 150}, \"29\": {\"29\": 126}, \"52\": {\"52\": 130}, \"55\": {\"55\": 144}, \"17\": {\"17\": 116}, \"42\": {\"42\": 40}, \"33\": {\"33\": 32}, \"11\": {\"11\": 148}, \"19\": {\"19\": 118}, \"1\": {\"1\": 144}, \"44\": {\"44\": 142}, \"49\": {\"49\": 36}, \"4\": {\"4\": 100}, \"6\": {\"6\": 116}, \"39\": {\"39\": 20}, \"50\": {\"50\": 148}, \"56\": {\"56\": 130}, \"25\": {\"25\": 144}, \"28\": {\"28\": 32}, \"35\": {\"35\": 36}, \"24\": {\"24\": 80}, \"21\": {\"21\": 132}, \"45\": {\"45\": 124}, \"16\": {\"16\": 144}, \"37\": {\"37\": 24}, \"57\": {\"57\": 132}, \"34\": {\"34\": 36}, \"38\": {\"38\": 32}, \"48\": {\"48\": 130}, \"26\": {\"26\": 24}, \"9\": {\"9\": 152}, \"18\": {\"18\": 64}, \"3\": {\"3\": 95, \"46\": 4, \"10\": 1}, \"23\": {\"23\": 124}, \"15\": {\"15\": 154}, \"10\": {\"10\": 68}, \"46\": {\"46\": 148}, \"22\": {\"22\": 28}, \"54\": {\"54\": 112}, \"27\": {\"27\": 160}, \"41\": {\"41\": 28}, \"31\": {\"31\": 36}, \"0\": {\"0\": 124}, \"7\": {\"7\": 32}, \"2\": {\"2\": 28}, \"14\": {\"14\": 38, \"31\": 3, \"5\": 1, \"54\": 1, \"29\": 1}, \"40\": {\"40\": 124}, \"5\": {\"5\": 128}, \"12\": {\"12\": 96}, \"43\": {\"43\": 142}, \"13\": {\"13\": 148}, \"36\": {\"36\": 92}, \"8\": {\"8\": 150}, \"32\": {\"32\": 32}, \"30\": {\"30\": 128}, \"51\": {\"51\": 138}, \"20\": {\"20\": 138}}, \"C_1\": {\"46\": {\"46\": 140}, \"16\": {\"16\": 134}, \"26\": {\"26\": 24}, \"10\": {\"10\": 96}, \"9\": {\"9\": 156}, \"28\": {\"28\": 28}, \"51\": {\"51\": 156}, \"1\": {\"1\": 100}, \"55\": {\"55\": 148}, \"27\": {\"27\": 124}, \"22\": {\"22\": 124}, \"52\": {\"52\": 126}, \"3\": {\"3\": 140}, \"33\": {\"33\": 32}, \"47\": {\"47\": 120}, \"42\": {\"42\": 40}, \"12\": {\"12\": 116}, \"23\": {\"23\": 132}, \"49\": {\"49\": 32}, \"7\": {\"7\": 28}, \"4\": {\"4\": 132}, \"50\": {\"50\": 134}, \"19\": {\"19\": 154}, \"11\": {\"11\": 140}, \"31\": {\"31\": 28}, \"41\": {\"41\": 24}, \"56\": {\"56\": 138}, \"0\": {\"0\": 148}, \"57\": {\"57\": 128}, \"53\": {\"53\": 140}, \"43\": {\"43\": 144}, \"37\": {\"37\": 32}, \"2\": {\"2\": 36}, \"6\": {\"6\": 96}, \"13\": {\"13\": 150}, \"18\": {\"18\": 72}, \"36\": {\"36\": 64}, \"29\": {\"29\": 140}, \"39\": {\"39\": 28}, \"17\": {\"17\": 64}, \"21\": {\"21\": 124}, \"25\": {\"25\": 132}, \"45\": {\"45\": 142}, \"38\": {\"38\": 24}, \"30\": {\"30\": 120}, \"24\": {\"24\": 108}, \"20\": {\"20\": 140}, \"8\": {\"8\": 140}, \"35\": {\"35\": 36}, \"54\": {\"54\": 104}, \"5\": {\"5\": 148}, \"48\": {\"48\": 144}, \"15\": {\"15\": 142}, \"34\": {\"34\": 24}, \"14\": {\"32\": 2, \"14\": 21, \"8\": 1}, \"32\": {\"32\": 32}, \"40\": {\"40\": 148}, \"44\": {\"44\": 136}}, \"W_2\": {\"91\": {\"91\": 26, \"49\": 1, \"94\": 1}, \"12\": {\"12\": 83, \"87\": 1, \"16\": 1, \"122\": 1, \"118\": 1, \"10\": 1}, \"101\": {\"101\": 147, \"94\": 1}, \"121\": {\"121\": 35, \"70\": 1}, \"118\": {\"118\": 66, \"14\": 1, \"87\": 1}, \"10\": {\"10\": 55, \"122\": 1, \"70\": 1, \"11\": 1, \"97\": 1, \"52\": 1}, \"117\": {\"117\": 118, \"5\": 1, \"44\": 1}, \"110\": {\"110\": 34, \"120\": 1, \"70\": 1, \"3\": 1, \"90\": 1, \"25\": 1, \"95\": 1}, \"97\": {\"97\": 20}, \"28\": {\"28\": 20}, \"88\": {\"88\": 118, \"118\": 1, \"24\": 1, \"3\": 2, \"129\": 1, \"70\": 1}, \"17\": {\"17\": 16}, \"126\": {\"126\": 112, \"90\": 1, \"13\": 1}, \"33\": {\"33\": 125, \"93\": 1, \"70\": 2}, \"86\": {\"86\": 32}, \"106\": {\"106\": 113, \"7\": 2, \"122\": 1, \"24\": 1, \"78\": 1, \"21\": 1, \"0\": 1}, \"54\": {\"54\": 20}, \"125\": {\"125\": 131, \"3\": 1}, \"83\": {\"83\": 39, \"0\": 1}, \"98\": {\"98\": 118, \"117\": 1, \"26\": 1}, \"11\": {\"11\": 76, \"94\": 1, \"108\": 1, \"12\": 1, \"24\": 1}, \"32\": {\"32\": 35, \"12\": 1}, \"42\": {\"42\": 27, \"46\": 1}, \"103\": {\"103\": 16}, \"87\": {\"87\": 101, \"39\": 1, \"5\": 1, \"106\": 1, \"24\": 2, \"113\": 1, \"122\": 1, \"94\": 1, \"93\": 1, \"78\": 1, \"84\": 1}, \"61\": {\"61\": 16, \"97\": 1, \"12\": 1, \"108\": 1, \"21\": 1}, \"13\": {\"13\": 13, \"14\": 2, \"34\": 1}, \"4\": {\"4\": 83, \"0\": 1, \"69\": 1, \"109\": 1}, \"15\": {\"15\": 116, \"25\": 1, \"0\": 2, \"105\": 1}, \"120\": {\"120\": 20}, \"80\": {\"80\": 16}, \"72\": {\"72\": 28}, \"64\": {\"64\": 15, \"3\": 1}, \"81\": {\"81\": 22, \"1\": 1, \"12\": 1}, \"102\": {\"102\": 112}, \"76\": {\"76\": 16}, \"49\": {\"49\": 21, \"107\": 1, \"75\": 1, \"85\": 1}, \"129\": {\"129\": 32}, \"89\": {\"89\": 34, \"112\": 1, \"13\": 1}, \"52\": {\"52\": 18, \"49\": 1, \"68\": 1}, \"35\": {\"35\": 12}, \"53\": {\"53\": 16}, \"26\": {\"26\": 124, \"87\": 1, \"25\": 1, \"24\": 1, \"10\": 1}, \"96\": {\"96\": 20}, \"27\": {\"27\": 55, \"94\": 1, \"70\": 3, \"3\": 1, \"84\": 1, \"62\": 1, \"113\": 1, \"21\": 1, \"7\": 1, \"78\": 1, \"87\": 1, \"36\": 1}, \"24\": {\"24\": 106, \"71\": 1, \"69\": 1, \"39\": 1, \"70\": 1, \"14\": 1, \"94\": 1}, \"82\": {\"82\": 32, \"107\": 2, \"15\": 1, \"21\": 1}, \"18\": {\"18\": 123, \"3\": 1, \"78\": 1, \"16\": 1, \"12\": 1, \"14\": 1}, \"69\": {\"69\": 118, \"70\": 1, \"5\": 1, \"24\": 1, \"106\": 1}, \"47\": {\"47\": 12}, \"85\": {\"85\": 32}, \"2\": {\"2\": 32}, \"67\": {\"67\": 15, \"49\": 1}, \"39\": {\"39\": 108, \"70\": 2, \"18\": 1, \"5\": 1}, \"99\": {\"99\": 32}, \"74\": {\"74\": 13, \"24\": 1, \"107\": 1, \"75\": 1}, \"105\": {\"105\": 128, \"5\": 2, \"36\": 1, \"87\": 1}, \"70\": {\"70\": 113, \"78\": 2, \"21\": 1, \"73\": 1, \"110\": 1, \"3\": 1, \"14\": 1, \"105\": 1, \"90\": 1}, \"55\": {\"55\": 16}, \"30\": {\"30\": 106, \"101\": 2, \"70\": 1, \"61\": 1, \"6\": 1, \"1\": 1}, \"60\": {\"60\": 24, \"123\": 1, \"87\": 1, \"23\": 1, \"57\": 1}, \"92\": {\"92\": 25, \"73\": 1, \"75\": 1, \"30\": 1}, \"45\": {\"45\": 15, \"70\": 1}, \"127\": {\"127\": 111, \"89\": 1}, \"9\": {\"110\": 1, \"9\": 30, \"10\": 1}, \"115\": {\"115\": 12}, \"73\": {\"73\": 28}, \"108\": {\"108\": 138}, \"114\": {\"114\": 113, \"7\": 2, \"118\": 1}, \"63\": {\"63\": 19, \"103\": 1}, \"93\": {\"93\": 127, \"16\": 1}, \"7\": {\"7\": 132}, \"31\": {\"31\": 19, \"78\": 1}, \"123\": {\"123\": 16}, \"128\": {\"19\": 1, \"128\": 19, \"111\": 1, \"54\": 1, \"114\": 1, \"30\": 1}, \"0\": {\"0\": 111, \"24\": 2, \"69\": 2, \"83\": 1}, \"3\": {\"3\": 134, \"18\": 1, \"39\": 1}, \"19\": {\"19\": 28}, \"57\": {\"57\": 19, \"122\": 1}, \"78\": {\"78\": 44, \"49\": 1, \"43\": 1, \"95\": 1, \"88\": 1}, \"95\": {\"95\": 35, \"70\": 1}, \"40\": {\"40\": 131, \"71\": 1, \"7\": 2, \"14\": 1, \"3\": 3, \"94\": 1, \"0\": 1}, \"14\": {\"14\": 42, \"3\": 1, \"70\": 1, \"78\": 1, \"88\": 1, \"118\": 2}, \"36\": {\"36\": 119, \"21\": 1, \"118\": 1, \"70\": 1, \"24\": 1, \"71\": 1, \"4\": 1, \"107\": 1, \"87\": 1, \"3\": 1}, \"56\": {\"56\": 12}, \"111\": {\"111\": 127, \"3\": 1}, \"59\": {\"59\": 14, \"106\": 1, \"24\": 1}, \"79\": {\"79\": 14, \"40\": 1, \"107\": 1}, \"62\": {\"62\": 121, \"24\": 1}, \"21\": {\"21\": 44, \"24\": 1, \"17\": 1, \"5\": 1, \"40\": 1}, \"48\": {\"48\": 20}, \"16\": {\"16\": 119, \"12\": 1, \"3\": 1, \"70\": 1, \"5\": 1, \"1\": 1}, \"50\": {\"50\": 15, \"37\": 1}, \"44\": {\"44\": 95, \"98\": 1}, \"5\": {\"5\": 108, \"3\": 1, \"12\": 1}, \"20\": {\"20\": 15, \"24\": 1}, \"1\": {\"1\": 118, \"12\": 1, \"126\": 1}, \"65\": {\"65\": 18, \"49\": 1, \"71\": 1}, \"116\": {\"116\": 28}, \"51\": {\"51\": 19, \"71\": 1}, \"75\": {\"75\": 15, \"71\": 1}, \"100\": {\"100\": 16}, \"113\": {\"113\": 72}, \"41\": {\"41\": 20}, \"29\": {\"29\": 32}, \"23\": {\"23\": 41, \"99\": 2, \"110\": 1}, \"124\": {\"124\": 122, \"21\": 1, \"102\": 1}, \"68\": {\"68\": 15, \"52\": 1}, \"71\": {\"71\": 99, \"3\": 1}, \"107\": {\"107\": 54, \"119\": 1, \"15\": 1, \"25\": 1, \"5\": 1, \"114\": 1, \"113\": 1, \"3\": 1, \"109\": 1, \"70\": 1, \"12\": 1}, \"94\": {\"94\": 61, \"70\": 1, \"118\": 1, \"110\": 1}, \"77\": {\"77\": 15, \"39\": 1}, \"8\": {\"8\": 119, \"52\": 1, \"24\": 1, \"15\": 1}, \"46\": {\"46\": 16}, \"25\": {\"25\": 14, \"68\": 1, \"61\": 1}, \"122\": {\"122\": 137, \"11\": 1, \"5\": 1, \"81\": 1}, \"58\": {\"58\": 15, \"77\": 2, \"17\": 1, \"87\": 1, \"24\": 1}, \"6\": {\"6\": 32}, \"109\": {\"109\": 96, \"87\": 1, \"24\": 1, \"70\": 2}, \"119\": {\"119\": 19, \"24\": 1}, \"34\": {\"34\": 28, \"40\": 1, \"6\": 1, \"41\": 1, \"71\": 1}, \"90\": {\"90\": 139, \"6\": 1}, \"38\": {\"38\": 16}, \"104\": {\"96\": 1, \"104\": 17, \"25\": 1, \"73\": 1}, \"84\": {\"84\": 90, \"77\": 1, \"106\": 1}, \"112\": {\"112\": 16}, \"66\": {\"66\": 17, \"107\": 1, \"71\": 1, \"40\": 1}, \"22\": {\"22\": 20}, \"37\": {\"37\": 16}, \"43\": {\"43\": 117, \"0\": 1, \"69\": 2, \"84\": 1, \"70\": 2, \"3\": 1}}, \"C_2\": {\"36\": {\"36\": 116}, \"5\": {\"5\": 120}, \"45\": {\"45\": 128}, \"49\": {\"49\": 24}, \"50\": {\"50\": 136}, \"4\": {\"4\": 138}, \"43\": {\"43\": 148}, \"41\": {\"41\": 20}, \"37\": {\"37\": 36}, \"12\": {\"12\": 92}, \"33\": {\"33\": 28}, \"7\": {\"7\": 36}, \"56\": {\"56\": 140}, \"14\": {\"14\": 24}, \"52\": {\"52\": 124}, \"44\": {\"44\": 96}, \"48\": {\"48\": 144}, \"20\": {\"20\": 128}, \"55\": {\"55\": 144}, \"32\": {\"32\": 28}, \"40\": {\"40\": 136}, \"54\": {\"54\": 108}, \"17\": {\"17\": 104}, \"38\": {\"38\": 20}, \"24\": {\"24\": 96}, \"1\": {\"1\": 112}, \"6\": {\"6\": 124}, \"34\": {\"34\": 28}, \"11\": {\"11\": 136}, \"9\": {\"9\": 150}, \"8\": {\"8\": 152}, \"22\": {\"22\": 136}, \"26\": {\"26\": 24}, \"23\": {\"23\": 146}, \"10\": {\"10\": 112}, \"18\": {\"18\": 48}, \"13\": {\"13\": 116}, \"30\": {\"30\": 128}, \"42\": {\"42\": 36}, \"31\": {\"31\": 28}, \"46\": {\"46\": 128}, \"57\": {\"57\": 142}, \"47\": {\"47\": 138}, \"35\": {\"35\": 32}, \"15\": {\"15\": 132}, \"25\": {\"25\": 136}, \"19\": {\"19\": 136}, \"51\": {\"51\": 128}, \"53\": {\"53\": 134}, \"21\": {\"21\": 120}, \"39\": {\"39\": 28}, \"2\": {\"2\": 32}, \"16\": {\"16\": 150}, \"0\": {\"0\": 48}, \"3\": {\"3\": 92}, \"27\": {\"27\": 142}, \"28\": {\"28\": 28}, \"29\": {\"29\": 128}}, \"O_14\": {\"15\": {\"5\": 20, \"4\": 21, \"15\": 59, \"2\": 21, \"7\": 31, \"1\": 16, \"13\": 20, \"6\": 19, \"14\": 18, \"3\": 7, \"0\": 3, \"10\": 4, \"11\": 1}, \"3\": {\"5\": 24, \"14\": 17, \"0\": 20, \"1\": 16, \"4\": 30, \"7\": 16, \"13\": 10, \"11\": 17, \"10\": 15, \"3\": 32, \"8\": 5, \"15\": 10, \"6\": 10, \"2\": 15, \"9\": 3}, \"6\": {\"5\": 14, \"3\": 12, \"2\": 32, \"15\": 25, \"13\": 38, \"11\": 3, \"4\": 12, \"6\": 48, \"0\": 4, \"10\": 13, \"14\": 34, \"7\": 4, \"1\": 1}, \"1\": {\"9\": 4, \"1\": 42, \"10\": 18, \"4\": 25, \"2\": 9, \"0\": 20, \"5\": 24, \"11\": 7, \"15\": 17, \"8\": 17, \"7\": 19, \"3\": 26, \"6\": 5, \"14\": 5, \"13\": 2}, \"8\": {\"8\": 70, \"0\": 17, \"1\": 18, \"4\": 15, \"9\": 46, \"7\": 10, \"5\": 6, \"3\": 8, \"15\": 3, \"11\": 14, \"2\": 1, \"12\": 22, \"10\": 10}, \"10\": {\"9\": 14, \"0\": 20, \"2\": 17, \"1\": 7, \"7\": 7, \"15\": 7, \"3\": 22, \"6\": 11, \"13\": 21, \"5\": 19, \"10\": 27, \"4\": 19, \"8\": 7, \"11\": 24, \"14\": 17, \"12\": 1}, \"9\": {\"10\": 7, \"9\": 62, \"0\": 35, \"8\": 30, \"11\": 24, \"1\": 9, \"5\": 4, \"12\": 58, \"4\": 4, \"3\": 5, \"15\": 1, \"14\": 1}, \"13\": {\"5\": 8, \"6\": 41, \"3\": 12, \"13\": 38, \"2\": 33, \"7\": 6, \"15\": 27, \"1\": 5, \"10\": 19, \"14\": 37, \"4\": 6, \"0\": 5, \"11\": 3}, \"12\": {\"12\": 102, \"8\": 27, \"9\": 82, \"11\": 19, \"10\": 1, \"0\": 6, \"5\": 3}, \"5\": {\"0\": 25, \"1\": 25, \"15\": 19, \"13\": 9, \"10\": 17, \"7\": 24, \"5\": 26, \"3\": 22, \"8\": 6, \"6\": 11, \"4\": 15, \"2\": 20, \"14\": 14, \"11\": 5, \"9\": 2}, \"0\": {\"0\": 36, \"5\": 13, \"13\": 4, \"4\": 23, \"7\": 5, \"10\": 31, \"3\": 26, \"11\": 24, \"8\": 12, \"9\": 15, \"2\": 10, \"1\": 19, \"15\": 4, \"14\": 11, \"12\": 4, \"6\": 3}, \"2\": {\"14\": 34, \"5\": 20, \"6\": 20, \"4\": 18, \"7\": 10, \"0\": 14, \"3\": 17, \"15\": 20, \"11\": 3, \"13\": 30, \"1\": 15, \"10\": 11, \"2\": 27, \"9\": 1}, \"11\": {\"11\": 49, \"5\": 8, \"3\": 24, \"0\": 27, \"10\": 30, \"14\": 11, \"4\": 12, \"2\": 4, \"9\": 30, \"12\": 14, \"6\": 4, \"13\": 5, \"8\": 15, \"1\": 5, \"7\": 2}, \"14\": {\"5\": 15, \"2\": 20, \"10\": 23, \"4\": 27, \"3\": 14, \"13\": 27, \"11\": 13, \"6\": 24, \"15\": 22, \"14\": 32, \"1\": 5, \"7\": 6, \"0\": 12}, \"7\": {\"13\": 4, \"1\": 30, \"2\": 33, \"7\": 39, \"4\": 20, \"0\": 10, \"5\": 20, \"8\": 10, \"10\": 10, \"15\": 29, \"14\": 10, \"3\": 19, \"11\": 3, \"6\": 3}, \"4\": {\"1\": 25, \"5\": 26, \"10\": 27, \"14\": 18, \"4\": 21, \"7\": 19, \"15\": 15, \"8\": 8, \"13\": 8, \"6\": 5, \"0\": 12, \"3\": 20, \"2\": 24, \"11\": 11, \"9\": 1}}, \"O_20\": {\"3\": {\"13\": 23, \"12\": 17, \"9\": 28, \"3\": 20, \"6\": 16, \"1\": 19, \"4\": 15, \"8\": 8, \"0\": 18, \"11\": 13, \"14\": 9, \"5\": 15, \"15\": 14, \"7\": 10, \"2\": 8, \"10\": 7}, \"15\": {\"11\": 8, \"15\": 28, \"7\": 7, \"5\": 21, \"12\": 19, \"2\": 24, \"0\": 21, \"13\": 26, \"3\": 22, \"1\": 26, \"4\": 12, \"9\": 18, \"6\": 2, \"8\": 4, \"10\": 2}, \"8\": {\"7\": 25, \"6\": 27, \"4\": 18, \"5\": 14, \"8\": 19, \"3\": 11, \"0\": 15, \"1\": 6, \"12\": 12, \"14\": 30, \"2\": 17, \"10\": 17, \"13\": 7, \"9\": 9, \"15\": 7, \"11\": 6}, \"4\": {\"5\": 19, \"8\": 18, \"1\": 6, \"10\": 29, \"9\": 16, \"7\": 9, \"4\": 23, \"14\": 25, \"3\": 19, \"12\": 17, \"2\": 4, \"15\": 10, \"0\": 12, \"13\": 8, \"11\": 5, \"6\": 20}, \"14\": {\"10\": 22, \"4\": 23, \"1\": 7, \"14\": 45, \"3\": 14, \"8\": 34, \"9\": 11, \"12\": 14, \"2\": 10, \"5\": 11, \"0\": 3, \"11\": 4, \"15\": 1, \"6\": 27, \"7\": 14}, \"0\": {\"3\": 25, \"15\": 20, \"9\": 16, \"4\": 17, \"2\": 12, \"1\": 14, \"13\": 23, \"8\": 12, \"7\": 15, \"0\": 25, \"12\": 18, \"6\": 6, \"5\": 20, \"14\": 8, \"10\": 3, \"11\": 6}, \"7\": {\"3\": 19, \"5\": 19, \"15\": 8, \"6\": 17, \"12\": 17, \"13\": 9, \"1\": 16, \"11\": 8, \"0\": 19, \"8\": 17, \"7\": 19, \"9\": 12, \"10\": 8, \"4\": 16, \"14\": 16, \"2\": 20}, \"6\": {\"0\": 10, \"3\": 11, \"1\": 9, \"10\": 27, \"14\": 32, \"8\": 28, \"4\": 12, \"6\": 23, \"2\": 13, \"7\": 23, \"9\": 12, \"11\": 11, \"15\": 6, \"12\": 5, \"5\": 10, \"13\": 8}, \"10\": {\"14\": 40, \"4\": 22, \"1\": 5, \"6\": 23, \"5\": 12, \"3\": 13, \"12\": 16, \"9\": 10, \"2\": 14, \"8\": 29, \"10\": 30, \"13\": 2, \"7\": 16, \"0\": 3, \"15\": 1, \"11\": 4}, \"5\": {\"3\": 16, \"0\": 20, \"9\": 21, \"5\": 20, \"10\": 10, \"13\": 21, \"8\": 10, \"2\": 23, \"12\": 14, \"15\": 18, \"7\": 13, \"1\": 20, \"11\": 10, \"4\": 11, \"6\": 4, \"14\": 9}, \"2\": {\"1\": 25, \"12\": 29, \"8\": 11, \"7\": 14, \"15\": 22, \"6\": 7, \"10\": 6, \"5\": 10, \"9\": 19, \"11\": 15, \"4\": 13, \"13\": 19, \"0\": 17, \"2\": 14, \"14\": 4, \"3\": 15}, \"12\": {\"8\": 14, \"15\": 17, \"3\": 24, \"1\": 20, \"12\": 18, \"11\": 5, \"6\": 12, \"2\": 19, \"10\": 5, \"9\": 23, \"4\": 11, \"7\": 19, \"0\": 15, \"14\": 9, \"13\": 17, \"5\": 12}, \"9\": {\"3\": 19, \"15\": 21, \"9\": 14, \"2\": 12, \"5\": 24, \"1\": 20, \"0\": 22, \"10\": 8, \"7\": 19, \"6\": 11, \"12\": 19, \"11\": 12, \"4\": 9, \"14\": 7, \"8\": 9, \"13\": 14}, \"1\": {\"13\": 24, \"11\": 9, \"1\": 17, \"15\": 19, \"12\": 22, \"8\": 10, \"3\": 16, \"9\": 21, \"10\": 9, \"5\": 20, \"2\": 15, \"14\": 7, \"7\": 11, \"0\": 20, \"6\": 8, \"4\": 12}, \"11\": {\"15\": 15, \"11\": 45, \"13\": 19, \"5\": 12, \"9\": 16, \"7\": 23, \"8\": 14, \"2\": 19, \"12\": 14, \"14\": 8, \"1\": 10, \"3\": 13, \"6\": 13, \"0\": 10, \"4\": 5, \"10\": 4}, \"13\": {\"2\": 13, \"1\": 24, \"14\": 2, \"13\": 33, \"12\": 13, \"11\": 21, \"0\": 14, \"9\": 24, \"15\": 23, \"7\": 17, \"5\": 17, \"8\": 5, \"3\": 24, \"4\": 4, \"6\": 5, \"10\": 1}}, \"O_38\": {\"5\": {\"3\": 16, \"13\": 14, \"9\": 18, \"8\": 24, \"5\": 24, \"0\": 25, \"1\": 20, \"10\": 12, \"2\": 7, \"15\": 26, \"6\": 33, \"7\": 16, \"14\": 4, \"12\": 1}, \"8\": {\"6\": 8, \"5\": 31, \"0\": 29, \"13\": 11, \"9\": 11, \"8\": 35, \"14\": 12, \"15\": 20, \"10\": 14, \"3\": 16, \"7\": 29, \"1\": 10, \"11\": 2, \"2\": 5, \"12\": 7}, \"11\": {\"11\": 95, \"10\": 24, \"14\": 55, \"13\": 11, \"12\": 11, \"4\": 15, \"5\": 2, \"2\": 14, \"15\": 5, \"7\": 2, \"0\": 6}, \"1\": {\"5\": 12, \"3\": 4, \"1\": 84, \"13\": 27, \"6\": 26, \"15\": 32, \"10\": 4, \"8\": 9, \"9\": 16, \"2\": 23, \"14\": 1, \"0\": 2}, \"10\": {\"10\": 40, \"0\": 21, \"13\": 17, \"3\": 4, \"14\": 29, \"12\": 13, \"7\": 19, \"15\": 20, \"5\": 15, \"8\": 18, \"11\": 15, \"1\": 3, \"9\": 4, \"2\": 17, \"4\": 3, \"6\": 2}, \"15\": {\"5\": 24, \"13\": 33, \"1\": 29, \"6\": 11, \"8\": 28, \"9\": 9, \"0\": 11, \"15\": 39, \"14\": 13, \"10\": 13, \"2\": 20, \"12\": 1, \"7\": 6, \"3\": 3}, \"3\": {\"7\": 30, \"3\": 65, \"6\": 16, \"0\": 29, \"10\": 5, \"5\": 22, \"13\": 4, \"9\": 26, \"12\": 7, \"8\": 28, \"15\": 3, \"1\": 4, \"14\": 1}, \"7\": {\"6\": 5, \"3\": 29, \"0\": 34, \"7\": 60, \"5\": 19, \"9\": 8, \"14\": 3, \"10\": 21, \"15\": 5, \"8\": 29, \"11\": 1, \"12\": 18, \"1\": 1, \"4\": 3, \"13\": 4}, \"4\": {\"11\": 6, \"4\": 146, \"12\": 65, \"7\": 8, \"10\": 7, \"14\": 3, \"5\": 1, \"3\": 1, \"0\": 3}, \"14\": {\"11\": 37, \"7\": 2, \"14\": 67, \"13\": 16, \"10\": 26, \"12\": 20, \"15\": 12, \"2\": 34, \"1\": 5, \"4\": 4, \"8\": 6, \"0\": 8, \"5\": 2, \"6\": 1}, \"9\": {\"7\": 6, \"8\": 20, \"13\": 8, \"5\": 26, \"6\": 40, \"3\": 33, \"9\": 49, \"10\": 3, \"1\": 22, \"0\": 21, \"15\": 12}, \"12\": {\"4\": 35, \"12\": 110, \"7\": 11, \"14\": 23, \"11\": 20, \"13\": 1, \"0\": 10, \"8\": 4, \"10\": 23, \"2\": 1, \"5\": 2}, \"6\": {\"9\": 47, \"6\": 56, \"8\": 17, \"1\": 31, \"5\": 23, \"15\": 26, \"10\": 4, \"3\": 8, \"13\": 10, \"0\": 10, \"7\": 6, \"2\": 2}, \"2\": {\"13\": 55, \"2\": 64, \"1\": 10, \"14\": 41, \"10\": 9, \"15\": 25, \"6\": 3, \"11\": 18, \"5\": 6, \"9\": 1, \"8\": 4, \"12\": 1, \"0\": 2, \"7\": 1}, \"0\": {\"3\": 21, \"9\": 12, \"0\": 36, \"6\": 10, \"15\": 9, \"5\": 26, \"7\": 29, \"14\": 7, \"11\": 5, \"10\": 20, \"8\": 26, \"12\": 16, \"13\": 11, \"1\": 6, \"2\": 4, \"4\": 2}, \"13\": {\"14\": 18, \"2\": 35, \"8\": 18, \"13\": 45, \"5\": 13, \"10\": 16, \"11\": 4, \"0\": 8, \"1\": 33, \"15\": 37, \"6\": 3, \"3\": 4, \"7\": 4, \"9\": 2}}, \"O_8\": {\"9\": {\"9\": 163, \"5\": 23, \"14\": 7, \"10\": 15, \"4\": 4, \"13\": 7, \"0\": 11, \"6\": 2, \"11\": 3, \"7\": 1, \"1\": 4}, \"10\": {\"5\": 26, \"10\": 30, \"8\": 4, \"1\": 19, \"11\": 23, \"14\": 22, \"6\": 21, \"7\": 17, \"2\": 2, \"0\": 15, \"13\": 28, \"4\": 24, \"3\": 5, \"15\": 2, \"9\": 1, \"12\": 1}, \"13\": {\"6\": 22, \"13\": 19, \"0\": 24, \"11\": 13, \"14\": 25, \"7\": 20, \"1\": 17, \"10\": 28, \"4\": 23, \"2\": 9, \"3\": 8, \"8\": 9, \"5\": 18, \"9\": 2, \"15\": 2, \"12\": 1}, \"0\": {\"14\": 31, \"7\": 22, \"10\": 17, \"13\": 26, \"1\": 13, \"3\": 9, \"6\": 29, \"11\": 9, \"4\": 19, \"15\": 7, \"5\": 14, \"8\": 5, \"2\": 15, \"0\": 19, \"12\": 5}, \"1\": {\"13\": 16, \"6\": 13, \"5\": 27, \"8\": 15, \"1\": 28, \"14\": 28, \"11\": 29, \"15\": 17, \"10\": 12, \"2\": 4, \"0\": 9, \"7\": 13, \"12\": 5, \"4\": 17, \"3\": 7}, \"15\": {\"14\": 8, \"8\": 29, \"15\": 38, \"4\": 9, \"1\": 5, \"12\": 29, \"3\": 30, \"6\": 17, \"7\": 14, \"11\": 18, \"13\": 7, \"10\": 7, \"2\": 18, \"0\": 6, \"5\": 5}, \"5\": {\"6\": 20, \"1\": 28, \"5\": 40, \"13\": 22, \"0\": 16, \"11\": 23, \"12\": 1, \"10\": 27, \"7\": 16, \"8\": 2, \"14\": 20, \"15\": 5, \"4\": 12, \"9\": 4, \"2\": 4}, \"3\": {\"2\": 43, \"3\": 47, \"12\": 31, \"15\": 22, \"0\": 9, \"11\": 5, \"8\": 24, \"13\": 6, \"4\": 8, \"7\": 16, \"6\": 18, \"1\": 6, \"14\": 3, \"10\": 2}, \"6\": {\"2\": 26, \"4\": 18, \"0\": 17, \"5\": 14, \"14\": 19, \"11\": 12, \"3\": 11, \"13\": 18, \"10\": 12, \"15\": 7, \"7\": 16, \"1\": 23, \"6\": 22, \"12\": 12, \"8\": 13}, \"11\": {\"12\": 9, \"5\": 23, \"0\": 5, \"10\": 14, \"15\": 14, \"1\": 27, \"6\": 9, \"14\": 14, \"8\": 25, \"11\": 48, \"13\": 13, \"7\": 14, \"4\": 20, \"3\": 3, \"2\": 2}, \"8\": {\"3\": 24, \"14\": 5, \"15\": 30, \"1\": 18, \"8\": 35, \"11\": 22, \"0\": 9, \"6\": 16, \"4\": 12, \"2\": 14, \"13\": 10, \"12\": 27, \"7\": 5, \"5\": 9, \"10\": 4}, \"4\": {\"10\": 18, \"12\": 5, \"1\": 27, \"5\": 20, \"14\": 17, \"8\": 10, \"2\": 15, \"3\": 6, \"0\": 13, \"7\": 20, \"6\": 22, \"15\": 8, \"4\": 20, \"11\": 15, \"9\": 1, \"13\": 23}, \"12\": {\"6\": 17, \"12\": 51, \"8\": 37, \"13\": 6, \"7\": 15, \"11\": 7, \"15\": 30, \"2\": 20, \"14\": 7, \"3\": 30, \"1\": 10, \"4\": 3, \"10\": 4, \"0\": 2, \"5\": 1}, \"14\": {\"14\": 25, \"13\": 19, \"7\": 16, \"0\": 19, \"1\": 24, \"5\": 28, \"10\": 18, \"11\": 16, \"6\": 22, \"2\": 7, \"4\": 15, \"12\": 5, \"3\": 6, \"8\": 13, \"15\": 7}, \"2\": {\"3\": 34, \"12\": 22, \"4\": 10, \"10\": 8, \"15\": 26, \"11\": 1, \"2\": 35, \"8\": 19, \"1\": 7, \"7\": 24, \"13\": 13, \"0\": 9, \"6\": 22, \"14\": 9, \"5\": 1}, \"7\": {\"10\": 19, \"13\": 21, \"3\": 10, \"7\": 22, \"1\": 23, \"2\": 18, \"14\": 22, \"6\": 22, \"12\": 8, \"0\": 18, \"5\": 7, \"4\": 24, \"8\": 15, \"15\": 6, \"11\": 5}}, \"O_50\": {\"7\": {\"3\": 11, \"5\": 31, \"13\": 39, \"7\": 33, \"11\": 3, \"1\": 14, \"10\": 28, \"6\": 27, \"2\": 2, \"0\": 11, \"8\": 9, \"4\": 19, \"14\": 2, \"15\": 11}, \"3\": {\"3\": 114, \"0\": 7, \"8\": 64, \"10\": 28, \"13\": 9, \"5\": 5, \"7\": 10, \"4\": 1, \"2\": 1, \"6\": 1}, \"8\": {\"3\": 53, \"8\": 70, \"0\": 28, \"7\": 10, \"10\": 52, \"2\": 12, \"6\": 4, \"13\": 7, \"12\": 1, \"5\": 1, \"14\": 1, \"1\": 1}, \"2\": {\"0\": 60, \"2\": 73, \"8\": 18, \"6\": 10, \"14\": 25, \"12\": 8, \"1\": 8, \"9\": 4, \"10\": 21, \"13\": 9, \"4\": 2, \"11\": 1, \"3\": 1}, \"14\": {\"12\": 37, \"14\": 58, \"9\": 33, \"2\": 27, \"13\": 5, \"15\": 6, \"5\": 4, \"0\": 14, \"11\": 20, \"6\": 11, \"4\": 6, \"1\": 12, \"10\": 7}, \"4\": {\"15\": 31, \"9\": 12, \"13\": 25, \"4\": 37, \"7\": 23, \"5\": 24, \"6\": 18, \"12\": 7, \"0\": 4, \"11\": 20, \"1\": 29, \"14\": 5, \"2\": 1, \"10\": 2, \"3\": 2}, \"6\": {\"0\": 8, \"1\": 32, \"14\": 8, \"7\": 20, \"13\": 31, \"6\": 32, \"12\": 5, \"15\": 25, \"9\": 8, \"5\": 22, \"11\": 15, \"4\": 18, \"10\": 12, \"2\": 2, \"8\": 2}, \"15\": {\"15\": 47, \"6\": 24, \"7\": 7, \"5\": 18, \"14\": 7, \"1\": 35, \"9\": 27, \"4\": 28, \"13\": 14, \"11\": 25, \"8\": 1, \"2\": 1, \"12\": 5, \"0\": 1}, \"10\": {\"8\": 44, \"13\": 19, \"2\": 18, \"10\": 43, \"5\": 13, \"0\": 37, \"3\": 17, \"7\": 24, \"6\": 14, \"15\": 2, \"9\": 2, \"11\": 1, \"4\": 2, \"14\": 1, \"1\": 3}, \"11\": {\"9\": 55, \"13\": 4, \"1\": 24, \"11\": 46, \"15\": 32, \"14\": 12, \"4\": 16, \"12\": 23, \"6\": 17, \"5\": 8, \"2\": 1, \"0\": 2}, \"13\": {\"6\": 29, \"13\": 30, \"14\": 6, \"10\": 15, \"7\": 32, \"1\": 21, \"5\": 35, \"12\": 3, \"0\": 10, \"8\": 7, \"4\": 24, \"3\": 4, \"11\": 7, \"9\": 3, \"15\": 12, \"2\": 2}, \"9\": {\"1\": 23, \"12\": 28, \"9\": 74, \"11\": 57, \"14\": 15, \"15\": 20, \"4\": 10, \"13\": 6, \"2\": 1, \"6\": 4, \"5\": 2}, \"0\": {\"2\": 51, \"0\": 54, \"14\": 21, \"8\": 21, \"5\": 4, \"12\": 5, \"13\": 17, \"10\": 31, \"7\": 7, \"1\": 7, \"6\": 8, \"15\": 3, \"4\": 5, \"9\": 2, \"3\": 3, \"11\": 1}, \"1\": {\"14\": 16, \"9\": 18, \"6\": 25, \"15\": 31, \"4\": 21, \"13\": 23, \"10\": 11, \"11\": 12, \"5\": 20, \"0\": 7, \"7\": 9, \"1\": 35, \"12\": 8, \"2\": 4}, \"12\": {\"9\": 32, \"11\": 26, \"12\": 66, \"14\": 54, \"4\": 5, \"1\": 20, \"15\": 7, \"2\": 17, \"6\": 7, \"0\": 4, \"13\": 1, \"5\": 1}, \"5\": {\"10\": 15, \"7\": 30, \"5\": 34, \"6\": 28, \"15\": 22, \"1\": 13, \"9\": 4, \"4\": 31, \"3\": 1, \"2\": 3, \"13\": 29, \"8\": 7, \"0\": 13, \"14\": 4, \"11\": 6}}, \"O_32\": {\"8\": {\"2\": 6, \"4\": 11, \"11\": 17, \"0\": 23, \"8\": 42, \"5\": 32, \"3\": 38, \"14\": 17, \"13\": 41, \"7\": 12, \"15\": 1}, \"14\": {\"11\": 42, \"5\": 23, \"2\": 19, \"14\": 39, \"7\": 22, \"13\": 17, \"3\": 5, \"4\": 18, \"9\": 7, \"0\": 30, \"8\": 18}, \"2\": {\"12\": 6, \"4\": 45, \"2\": 51, \"14\": 14, \"11\": 12, \"8\": 6, \"9\": 17, \"7\": 34, \"13\": 11, \"0\": 24, \"5\": 17, \"3\": 3}, \"0\": {\"7\": 28, \"4\": 30, \"0\": 23, \"14\": 22, \"13\": 26, \"5\": 21, \"8\": 21, \"11\": 29, \"2\": 21, \"3\": 13, \"9\": 5, \"12\": 1}, \"1\": {\"1\": 148, \"10\": 66, \"6\": 26}, \"10\": {\"10\": 118, \"12\": 21, \"1\": 69, \"9\": 2, \"6\": 30}, \"11\": {\"3\": 17, \"4\": 21, \"8\": 25, \"7\": 23, \"2\": 10, \"14\": 31, \"11\": 49, \"5\": 15, \"0\": 24, \"13\": 24, \"9\": 1}, \"5\": {\"5\": 34, \"4\": 30, \"11\": 19, \"8\": 20, \"13\": 33, \"3\": 14, \"9\": 2, \"0\": 22, \"7\": 26, \"14\": 24, \"2\": 16}, \"15\": {\"15\": 188, \"8\": 15, \"3\": 29, \"5\": 2, \"13\": 4, \"0\": 2}, \"3\": {\"15\": 9, \"13\": 30, \"3\": 73, \"11\": 20, \"4\": 8, \"5\": 25, \"8\": 43, \"7\": 8, \"2\": 1, \"0\": 9, \"14\": 13, \"9\": 1}, \"12\": {\"9\": 62, \"10\": 34, \"6\": 20, \"14\": 1, \"13\": 2, \"12\": 108, \"2\": 6, \"0\": 2, \"1\": 2, \"4\": 3}, \"7\": {\"4\": 28, \"0\": 20, \"11\": 32, \"3\": 4, \"7\": 34, \"5\": 29, \"13\": 24, \"2\": 24, \"14\": 21, \"8\": 18, \"9\": 6}, \"13\": {\"8\": 32, \"3\": 28, \"4\": 27, \"13\": 34, \"11\": 22, \"7\": 24, \"5\": 24, \"14\": 21, \"2\": 16, \"0\": 11, \"9\": 1}, \"6\": {\"6\": 139, \"9\": 9, \"1\": 33, \"10\": 31, \"12\": 27, \"2\": 1}, \"4\": {\"8\": 16, \"5\": 24, \"4\": 37, \"3\": 9, \"2\": 27, \"7\": 26, \"14\": 20, \"0\": 26, \"13\": 23, \"11\": 23, \"9\": 8, \"12\": 1}, \"9\": {\"9\": 92, \"12\": 47, \"10\": 5, \"4\": 19, \"6\": 6, \"0\": 15, \"2\": 30, \"14\": 3, \"13\": 3, \"7\": 9, \"11\": 7, \"5\": 3, \"8\": 1}}, \"O_26\": {\"4\": {\"10\": 22, \"7\": 21, \"6\": 13, \"9\": 16, \"1\": 28, \"8\": 14, \"4\": 19, \"14\": 26, \"3\": 23, \"2\": 17, \"13\": 9, \"0\": 15, \"5\": 9, \"15\": 7, \"12\": 1}, \"12\": {\"13\": 19, \"12\": 88, \"5\": 9, \"11\": 31, \"3\": 3, \"6\": 17, \"9\": 24, \"0\": 9, \"8\": 11, \"15\": 12, \"7\": 2, \"10\": 13, \"2\": 2}, \"10\": {\"5\": 12, \"3\": 18, \"13\": 8, \"14\": 27, \"8\": 26, \"15\": 14, \"0\": 21, \"9\": 11, \"4\": 17, \"12\": 11, \"1\": 17, \"2\": 11, \"7\": 23, \"6\": 9, \"10\": 13, \"11\": 2}, \"0\": {\"15\": 11, \"14\": 26, \"9\": 10, \"10\": 16, \"0\": 25, \"8\": 25, \"7\": 14, \"3\": 22, \"1\": 19, \"6\": 17, \"13\": 8, \"5\": 11, \"12\": 4, \"4\": 21, \"2\": 11}, \"13\": {\"15\": 24, \"4\": 9, \"8\": 11, \"1\": 2, \"6\": 15, \"7\": 10, \"3\": 19, \"10\": 5, \"13\": 50, \"9\": 24, \"2\": 17, \"5\": 20, \"12\": 18, \"0\": 7, \"14\": 3, \"11\": 6}, \"9\": {\"12\": 18, \"2\": 13, \"6\": 18, \"15\": 22, \"1\": 6, \"13\": 25, \"8\": 18, \"7\": 11, \"14\": 12, \"11\": 4, \"4\": 10, \"5\": 17, \"9\": 27, \"3\": 11, \"10\": 16, \"0\": 12}, \"3\": {\"8\": 15, \"15\": 13, \"6\": 18, \"7\": 23, \"3\": 25, \"2\": 27, \"10\": 22, \"13\": 12, \"5\": 9, \"1\": 13, \"14\": 22, \"9\": 10, \"4\": 22, \"0\": 9}, \"2\": {\"4\": 16, \"3\": 22, \"12\": 3, \"14\": 17, \"8\": 23, \"2\": 23, \"9\": 23, \"15\": 18, \"6\": 14, \"0\": 19, \"10\": 9, \"1\": 9, \"5\": 14, \"13\": 12, \"7\": 17, \"11\": 1}, \"5\": {\"12\": 12, \"9\": 25, \"15\": 24, \"6\": 17, \"2\": 23, \"5\": 25, \"4\": 7, \"8\": 17, \"14\": 8, \"10\": 18, \"0\": 11, \"3\": 16, \"13\": 23, \"1\": 3, \"11\": 4, \"7\": 7}, \"14\": {\"1\": 25, \"12\": 6, \"7\": 25, \"5\": 11, \"8\": 20, \"3\": 19, \"10\": 25, \"2\": 10, \"13\": 9, \"0\": 12, \"15\": 10, \"14\": 29, \"4\": 22, \"6\": 14, \"9\": 3}, \"8\": {\"2\": 21, \"3\": 18, \"5\": 8, \"1\": 8, \"14\": 21, \"8\": 18, \"4\": 22, \"9\": 19, \"10\": 11, \"12\": 9, \"13\": 8, \"7\": 28, \"0\": 19, \"15\": 12, \"6\": 18}, \"7\": {\"14\": 23, \"4\": 27, \"12\": 3, \"2\": 24, \"1\": 18, \"8\": 25, \"6\": 8, \"7\": 18, \"10\": 13, \"9\": 15, \"0\": 18, \"15\": 10, \"5\": 8, \"13\": 13, \"3\": 17}, \"6\": {\"2\": 13, \"13\": 15, \"12\": 19, \"6\": 18, \"15\": 18, \"9\": 24, \"10\": 15, \"4\": 14, \"7\": 12, \"5\": 12, \"11\": 6, \"8\": 22, \"3\": 17, \"14\": 12, \"1\": 10, \"0\": 13}, \"11\": {\"12\": 65, \"11\": 113, \"6\": 9, \"15\": 5, \"5\": 9, \"9\": 11, \"8\": 1, \"13\": 22, \"2\": 3, \"10\": 2}, \"15\": {\"8\": 22, \"13\": 23, \"5\": 19, \"10\": 13, \"15\": 16, \"7\": 21, \"3\": 18, \"2\": 31, \"4\": 10, \"6\": 14, \"0\": 11, \"9\": 15, \"14\": 8, \"12\": 10, \"1\": 6, \"11\": 3}, \"1\": {\"1\": 35, \"3\": 17, \"0\": 23, \"10\": 18, \"4\": 32, \"7\": 22, \"9\": 11, \"8\": 21, \"14\": 23, \"15\": 5, \"6\": 7, \"5\": 5, \"2\": 18, \"13\": 3}}, \"O_44\": {\"12\": {\"12\": 42, \"10\": 40, \"3\": 36, \"2\": 35, \"1\": 46, \"13\": 6, \"9\": 12, \"7\": 18, \"6\": 5}, \"7\": {\"1\": 16, \"7\": 35, \"6\": 30, \"10\": 30, \"2\": 36, \"12\": 15, \"4\": 7, \"14\": 2, \"13\": 19, \"11\": 11, \"9\": 30, \"3\": 9}, \"5\": {\"14\": 35, \"15\": 27, \"5\": 61, \"7\": 1, \"8\": 34, \"0\": 49, \"4\": 27, \"3\": 3, \"9\": 2, \"6\": 1}, \"15\": {\"0\": 49, \"3\": 6, \"4\": 23, \"14\": 36, \"5\": 38, \"15\": 50, \"8\": 38}, \"8\": {\"5\": 39, \"0\": 65, \"8\": 73, \"15\": 51, \"14\": 7, \"4\": 3, \"3\": 2}, \"2\": {\"13\": 13, \"11\": 6, \"10\": 41, \"3\": 17, \"7\": 35, \"9\": 28, \"12\": 28, \"2\": 29, \"1\": 23, \"6\": 20}, \"13\": {\"13\": 41, \"7\": 30, \"6\": 40, \"2\": 29, \"9\": 36, \"11\": 19, \"10\": 13, \"4\": 11, \"14\": 5, \"1\": 8, \"3\": 4, \"12\": 4}, \"4\": {\"4\": 74, \"3\": 14, \"13\": 7, \"14\": 57, \"9\": 13, \"5\": 33, \"0\": 7, \"7\": 6, \"15\": 13, \"1\": 8, \"6\": 1, \"12\": 2, \"8\": 3, \"11\": 1, \"2\": 1}, \"0\": {\"0\": 60, \"5\": 43, \"14\": 22, \"15\": 45, \"8\": 63, \"4\": 7}, \"6\": {\"7\": 28, \"6\": 59, \"10\": 19, \"2\": 17, \"13\": 46, \"9\": 31, \"1\": 9, \"11\": 19, \"4\": 7, \"14\": 3, \"12\": 1, \"3\": 1}, \"9\": {\"7\": 34, \"3\": 12, \"2\": 37, \"12\": 12, \"6\": 29, \"13\": 27, \"11\": 4, \"9\": 32, \"10\": 20, \"1\": 14, \"4\": 12, \"14\": 6, \"5\": 1}, \"11\": {\"7\": 10, \"13\": 34, \"11\": 121, \"6\": 37, \"9\": 13, \"2\": 14, \"10\": 10, \"4\": 1}, \"10\": {\"2\": 42, \"10\": 46, \"7\": 32, \"13\": 11, \"9\": 29, \"12\": 25, \"1\": 31, \"6\": 11, \"3\": 12, \"11\": 1}, \"14\": {\"3\": 18, \"15\": 31, \"14\": 62, \"12\": 3, \"4\": 43, \"9\": 9, \"5\": 37, \"0\": 15, \"10\": 2, \"8\": 4, \"2\": 4, \"1\": 5, \"7\": 5, \"13\": 2}, \"1\": {\"13\": 7, \"3\": 33, \"1\": 47, \"9\": 21, \"10\": 25, \"12\": 51, \"6\": 4, \"2\": 27, \"11\": 1, \"7\": 17, \"14\": 5, \"4\": 2}, \"3\": {\"12\": 41, \"3\": 53, \"1\": 49, \"2\": 16, \"9\": 15, \"7\": 16, \"13\": 7, \"11\": 1, \"14\": 11, \"10\": 13, \"4\": 14, \"15\": 2, \"6\": 2}}}, \"per_domain_accuracy\": {\"W_3\": {\"accuracy\": 0.9756030701754386, \"source?\": true}, \"C_3\": {\"accuracy\": 0.9989098837209303, \"source?\": true}, \"C_4\": {\"accuracy\": 0.9990530303030303, \"source?\": true}, \"W_4\": {\"accuracy\": 0.9629629629629629, \"source?\": true}, \"W_1\": {\"accuracy\": 0.9787234042553191, \"source?\": true}, \"C_5\": {\"accuracy\": 0.9980796089385475, \"source?\": true}, \"C_1\": {\"accuracy\": 0.9994877049180327, \"source?\": true}, \"W_2\": {\"accuracy\": 0.9613970588235294, \"source?\": true}, \"C_2\": {\"accuracy\": 1.0, \"source?\": true}, \"O_14\": {\"accuracy\": 0.18489583333333334, \"source?\": false}, \"O_20\": {\"accuracy\": 0.10234375, \"source?\": false}, \"O_38\": {\"accuracy\": 0.2643229166666667, \"source?\": false}, \"O_8\": {\"accuracy\": 0.1671875, \"source?\": false}, \"O_50\": {\"accuracy\": 0.2203125, \"source?\": false}, \"O_32\": {\"accuracy\": 0.31484375, \"source?\": false}, \"O_26\": {\"accuracy\": 0.14114583333333333, \"source?\": false}, \"O_44\": {\"accuracy\": 0.23046875, \"source?\": false}}}, \"history\": {\"epoch_indices\": [1, 2, 3, 4, 5, 6], \"train_label_loss\": [0.10497349218573136, 0.06515738853764849, 0.05257233332768286, 0.04434091016329042, 0.03787534943260024, 0.03127293135986333], \"source_val_label_loss\": [0.10183926671743393, 0.07425212115049362, 0.06410112977027893, 0.06618501245975494, 0.06886712461709976, 0.06397996842861176], \"target_val_label_loss\": [2.4762165546417236, 2.491173505783081, 2.5524632930755615, 2.598999500274658, 2.981748580932617, 2.7434256076812744], \"source_val_acc_label\": [0.9790693681318682, 0.9837740384615384, 0.985628434065934, 0.9859718406593406, 0.9849416208791208, 0.9857314560439561], \"target_val_acc_label\": [0.19208984375, 0.20319010416666666, 0.18766276041666666, 0.19130859375, 0.15823567708333333, 0.1771484375]}, \"dataset_metrics\": {\"source\": {\"train\": {\"n_unique_x\": 364180, \"n_unique_y\": 130, \"n_batch/episode\": 13148}, \"val\": {\"n_unique_x\": 77264, \"n_unique_y\": 130, \"n_batch/episode\": 1820}, \"test\": {\"n_unique_x\": 78450, \"n_unique_y\": 130, \"n_batch/episode\": 1860}}, \"target\": {\"train\": {\"n_unique_x\": 179200, \"n_unique_y\": 16, \"n_batch/episode\": 6720}, \"val\": {\"n_unique_x\": 38400, \"n_unique_y\": 16, \"n_batch/episode\": 960}, \"test\": {\"n_unique_x\": 38400, \"n_unique_y\": 16, \"n_batch/episode\": 960}}}}'"
      ]
     },
     "execution_count": 29,
     "metadata": {},
     "output_type": "execute_result"
    }
   ],
   "source": [
    "json.dumps(experiment)"
   ]
  }
 ],
 "metadata": {
  "celltoolbar": "Tags",
  "kernelspec": {
   "display_name": "Python 3 (ipykernel)",
   "language": "python",
   "name": "python3"
  },
  "language_info": {
   "codemirror_mode": {
    "name": "ipython",
    "version": 3
   },
   "file_extension": ".py",
   "mimetype": "text/x-python",
   "name": "python",
   "nbconvert_exporter": "python",
   "pygments_lexer": "ipython3",
   "version": "3.8.10"
  },
  "papermill": {
   "default_parameters": {},
   "duration": 2365.749262,
   "end_time": "2022-03-20T03:19:56.119209",
   "environment_variables": {},
   "exception": null,
   "input_path": "/mnt/wd500GB/CSC500/csc500-main/csc500-notebooks/templates/tl_ptn_template.ipynb",
   "output_path": "trial.ipynb",
   "parameters": {
    "parameters": {
     "BEST_MODEL_PATH": "./best_model.pth",
     "NUM_LOGS_PER_EPOCH": 10,
     "criteria_for_best": "target_accuracy",
     "dataset_seed": 1337,
     "datasets": [
      {
       "domain_prefix": "C_",
       "domains": [
        1,
        2,
        3,
        4,
        5
       ],
       "episode_transforms": [],
       "labels": [
        "1-10.",
        "1-11.",
        "1-15.",
        "1-16.",
        "1-17.",
        "1-18.",
        "1-19.",
        "10-4.",
        "10-7.",
        "11-1.",
        "11-14.",
        "11-17.",
        "11-20.",
        "11-7.",
        "13-20.",
        "13-8.",
        "14-10.",
        "14-11.",
        "14-14.",
        "14-7.",
        "15-1.",
        "15-20.",
        "16-1.",
        "16-16.",
        "17-10.",
        "17-11.",
        "17-2.",
        "19-1.",
        "19-16.",
        "19-19.",
        "19-20.",
        "19-3.",
        "2-10.",
        "2-11.",
        "2-17.",
        "2-18.",
        "2-20.",
        "2-3.",
        "2-4.",
        "2-5.",
        "2-6.",
        "2-7.",
        "2-8.",
        "3-13.",
        "3-18.",
        "3-3.",
        "4-1.",
        "4-10.",
        "4-11.",
        "4-19.",
        "5-5.",
        "6-15.",
        "7-10.",
        "7-14.",
        "8-18.",
        "8-20.",
        "8-3.",
        "8-8."
       ],
       "num_examples_per_domain_per_label": -1,
       "pickle_path": "/mnt/wd500GB/CSC500/csc500-main/datasets/cores.stratified_ds.2022A.pkl",
       "source_or_target_dataset": "source",
       "x_transforms": [
        "unit_mag"
       ]
      },
      {
       "domain_prefix": "W_",
       "domains": [
        1,
        2,
        3,
        4
       ],
       "episode_transforms": [],
       "labels": [
        "1-10",
        "1-12",
        "1-14",
        "1-16",
        "1-18",
        "1-19",
        "1-8",
        "10-11",
        "10-17",
        "10-4",
        "10-7",
        "11-1",
        "11-10",
        "11-19",
        "11-20",
        "11-4",
        "11-7",
        "12-19",
        "12-20",
        "12-7",
        "13-14",
        "13-18",
        "13-19",
        "13-20",
        "13-3",
        "13-7",
        "14-10",
        "14-11",
        "14-12",
        "14-13",
        "14-14",
        "14-19",
        "14-20",
        "14-7",
        "14-8",
        "14-9",
        "15-1",
        "15-19",
        "15-6",
        "16-1",
        "16-16",
        "16-19",
        "16-20",
        "17-10",
        "17-11",
        "18-1",
        "18-10",
        "18-11",
        "18-12",
        "18-13",
        "18-14",
        "18-15",
        "18-16",
        "18-17",
        "18-19",
        "18-2",
        "18-20",
        "18-4",
        "18-5",
        "18-7",
        "18-8",
        "18-9",
        "19-1",
        "19-10",
        "19-11",
        "19-12",
        "19-13",
        "19-14",
        "19-15",
        "19-19",
        "19-2",
        "19-20",
        "19-3",
        "19-4",
        "19-6",
        "19-7",
        "19-8",
        "19-9",
        "2-1",
        "2-13",
        "2-15",
        "2-3",
        "2-4",
        "2-5",
        "2-6",
        "2-7",
        "2-8",
        "20-1",
        "20-12",
        "20-14",
        "20-15",
        "20-16",
        "20-18",
        "20-19",
        "20-20",
        "20-3",
        "20-4",
        "20-5",
        "20-7",
        "20-8",
        "3-1",
        "3-13",
        "3-18",
        "3-2",
        "3-8",
        "4-1",
        "4-10",
        "4-11",
        "5-1",
        "5-5",
        "6-1",
        "6-15",
        "6-6",
        "7-10",
        "7-11",
        "7-12",
        "7-13",
        "7-14",
        "7-7",
        "7-8",
        "7-9",
        "8-1",
        "8-13",
        "8-14",
        "8-18",
        "8-20",
        "8-3",
        "8-8",
        "9-1",
        "9-7"
       ],
       "num_examples_per_domain_per_label": -1,
       "pickle_path": "/mnt/wd500GB/CSC500/csc500-main/datasets/wisig.node3-19.stratified_ds.2022A.pkl",
       "source_or_target_dataset": "source",
       "x_transforms": [
        "unit_mag"
       ]
      },
      {
       "domain_prefix": "O_",
       "domains": [
        32,
        38,
        8,
        44,
        14,
        50,
        20,
        26
       ],
       "episode_transforms": [],
       "labels": [
        "3123D52",
        "3123D65",
        "3123D79",
        "3123D80",
        "3123D54",
        "3123D70",
        "3123D7B",
        "3123D89",
        "3123D58",
        "3123D76",
        "3123D7D",
        "3123EFE",
        "3123D64",
        "3123D78",
        "3123D7E",
        "3124E4A"
       ],
       "num_examples_per_domain_per_label": 2000,
       "pickle_path": "/mnt/wd500GB/CSC500/csc500-main/datasets/oracle.Run1_framed_2000Examples_stratified_ds.2022A.pkl",
       "source_or_target_dataset": "target",
       "x_transforms": [
        "unit_mag"
       ]
      }
     ],
     "device": "cuda",
     "experiment_name": "tl_2v2:cores+wisig -> oracle.run1.framed",
     "lr": 0.0001,
     "n_epoch": 50,
     "n_query": 2,
     "n_shot": 3,
     "n_way": 16,
     "patience": 3,
     "seed": 1337,
     "test_k_factor": 2,
     "torch_default_dtype": "torch.float32",
     "train_k_factor": 3,
     "val_k_factor": 2,
     "x_net": [
      {
       "class": "nnReshape",
       "kargs": {
        "shape": [
         -1,
         1,
         2,
         256
        ]
       }
      },
      {
       "class": "Conv2d",
       "kargs": {
        "bias": false,
        "in_channels": 1,
        "kernel_size": [
         1,
         7
        ],
        "out_channels": 256,
        "padding": [
         0,
         3
        ]
       }
      },
      {
       "class": "ReLU",
       "kargs": {
        "inplace": true
       }
      },
      {
       "class": "BatchNorm2d",
       "kargs": {
        "num_features": 256
       }
      },
      {
       "class": "Conv2d",
       "kargs": {
        "bias": true,
        "in_channels": 256,
        "kernel_size": [
         2,
         7
        ],
        "out_channels": 80,
        "padding": [
         0,
         3
        ]
       }
      },
      {
       "class": "ReLU",
       "kargs": {
        "inplace": true
       }
      },
      {
       "class": "BatchNorm2d",
       "kargs": {
        "num_features": 80
       }
      },
      {
       "class": "Flatten",
       "kargs": {}
      },
      {
       "class": "Linear",
       "kargs": {
        "in_features": 20480,
        "out_features": 256
       }
      },
      {
       "class": "ReLU",
       "kargs": {
        "inplace": true
       }
      },
      {
       "class": "BatchNorm1d",
       "kargs": {
        "num_features": 256
       }
      },
      {
       "class": "Linear",
       "kargs": {
        "in_features": 256,
        "out_features": 256
       }
      }
     ]
    }
   },
   "start_time": "2022-03-20T02:40:30.369947",
   "version": "2.3.4"
  }
 },
 "nbformat": 4,
 "nbformat_minor": 5
}