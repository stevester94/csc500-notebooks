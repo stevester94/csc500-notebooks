{
 "cells": [
  {
   "cell_type": "markdown",
   "id": "9fea5f46",
   "metadata": {
    "papermill": {
     "duration": 0.017841,
     "end_time": "2022-03-20T01:42:25.757519",
     "exception": false,
     "start_time": "2022-03-20T01:42:25.739678",
     "status": "completed"
    },
    "tags": []
   },
   "source": [
    "# Transfer Learning Template"
   ]
  },
  {
   "cell_type": "code",
   "execution_count": 1,
   "id": "0902182a",
   "metadata": {
    "execution": {
     "iopub.execute_input": "2022-03-20T01:42:25.795970Z",
     "iopub.status.busy": "2022-03-20T01:42:25.784457Z",
     "iopub.status.idle": "2022-03-20T01:42:26.735463Z",
     "shell.execute_reply": "2022-03-20T01:42:26.734947Z"
    },
    "papermill": {
     "duration": 0.965221,
     "end_time": "2022-03-20T01:42:26.735575",
     "exception": false,
     "start_time": "2022-03-20T01:42:25.770354",
     "status": "completed"
    },
    "tags": []
   },
   "outputs": [],
   "source": [
    "%load_ext autoreload\n",
    "%autoreload 2\n",
    "%matplotlib inline\n",
    "\n",
    "    \n",
    "import os, json, sys, time, random\n",
    "import numpy as np\n",
    "import torch\n",
    "from torch.optim import Adam\n",
    "from  easydict import EasyDict\n",
    "import matplotlib.pyplot as plt\n",
    "\n",
    "from steves_models.steves_ptn import Steves_Prototypical_Network\n",
    "\n",
    "from steves_utils.lazy_iterable_wrapper import Lazy_Iterable_Wrapper\n",
    "from steves_utils.iterable_aggregator import Iterable_Aggregator\n",
    "from steves_utils.ptn_train_eval_test_jig import  PTN_Train_Eval_Test_Jig\n",
    "from steves_utils.torch_sequential_builder import build_sequential\n",
    "from steves_utils.torch_utils import get_dataset_metrics, ptn_confusion_by_domain_over_dataloader\n",
    "from steves_utils.utils_v2 import (per_domain_accuracy_from_confusion, get_datasets_base_path)\n",
    "from steves_utils.PTN.utils import independent_accuracy_assesment\n",
    "\n",
    "from torch.utils.data import DataLoader\n",
    "\n",
    "from steves_utils.stratified_dataset.episodic_accessor import Episodic_Accessor_Factory\n",
    "\n",
    "from steves_utils.ptn_do_report import (\n",
    "    get_loss_curve,\n",
    "    get_results_table,\n",
    "    get_parameters_table,\n",
    "    get_domain_accuracies,\n",
    ")\n",
    "\n",
    "from steves_utils.transforms import get_chained_transform"
   ]
  },
  {
   "cell_type": "markdown",
   "id": "41c840b4",
   "metadata": {
    "papermill": {
     "duration": 0.012621,
     "end_time": "2022-03-20T01:42:26.767000",
     "exception": false,
     "start_time": "2022-03-20T01:42:26.754379",
     "status": "completed"
    },
    "tags": []
   },
   "source": [
    "# Allowed Parameters\n",
    "These are allowed parameters, not defaults\n",
    "Each of these values need to be present in the injected parameters (the notebook will raise an exception if they are not present)\n",
    "\n",
    "Papermill uses the cell tag \"parameters\" to inject the real parameters below this cell.\n",
    "Enable tags to see what I mean"
   ]
  },
  {
   "cell_type": "code",
   "execution_count": 2,
   "id": "fd44eb83",
   "metadata": {
    "execution": {
     "iopub.execute_input": "2022-03-20T01:42:26.796734Z",
     "iopub.status.busy": "2022-03-20T01:42:26.796466Z",
     "iopub.status.idle": "2022-03-20T01:42:26.807075Z",
     "shell.execute_reply": "2022-03-20T01:42:26.807380Z"
    },
    "papermill": {
     "duration": 0.025889,
     "end_time": "2022-03-20T01:42:26.807466",
     "exception": false,
     "start_time": "2022-03-20T01:42:26.781577",
     "status": "completed"
    },
    "tags": []
   },
   "outputs": [],
   "source": [
    "required_parameters = {\n",
    "    \"experiment_name\",\n",
    "    \"lr\",\n",
    "    \"device\",\n",
    "    \"seed\",\n",
    "    \"dataset_seed\",\n",
    "    \"n_shot\",\n",
    "    \"n_query\",\n",
    "    \"n_way\",\n",
    "    \"train_k_factor\",\n",
    "    \"val_k_factor\",\n",
    "    \"test_k_factor\",\n",
    "    \"n_epoch\",\n",
    "    \"patience\",\n",
    "    \"criteria_for_best\",\n",
    "    \"x_net\",\n",
    "    \"datasets\",\n",
    "    \"torch_default_dtype\",\n",
    "    \"NUM_LOGS_PER_EPOCH\",\n",
    "    \"BEST_MODEL_PATH\",\n",
    "    \"x_shape\",\n",
    "}"
   ]
  },
  {
   "cell_type": "code",
   "execution_count": 3,
   "id": "fa3f0049",
   "metadata": {
    "execution": {
     "iopub.execute_input": "2022-03-20T01:42:26.844678Z",
     "iopub.status.busy": "2022-03-20T01:42:26.844399Z",
     "iopub.status.idle": "2022-03-20T01:42:26.857064Z",
     "shell.execute_reply": "2022-03-20T01:42:26.856655Z"
    },
    "papermill": {
     "duration": 0.031199,
     "end_time": "2022-03-20T01:42:26.857160",
     "exception": false,
     "start_time": "2022-03-20T01:42:26.825961",
     "status": "completed"
    },
    "tags": [
     "parameters"
    ]
   },
   "outputs": [],
   "source": [
    "from steves_utils.CORES.utils import (\n",
    "    ALL_NODES,\n",
    "    ALL_NODES_MINIMUM_1000_EXAMPLES,\n",
    "    ALL_DAYS\n",
    ")\n",
    "\n",
    "from steves_utils.ORACLE.utils_v2 import (\n",
    "    ALL_DISTANCES_FEET_NARROWED,\n",
    "    ALL_RUNS,\n",
    "    ALL_SERIAL_NUMBERS,\n",
    ")\n",
    "\n",
    "standalone_parameters = {}\n",
    "standalone_parameters[\"experiment_name\"] = \"STANDALONE PTN\"\n",
    "standalone_parameters[\"lr\"] = 0.001\n",
    "standalone_parameters[\"device\"] = \"cuda\"\n",
    "\n",
    "standalone_parameters[\"seed\"] = 1337\n",
    "standalone_parameters[\"dataset_seed\"] = 1337\n",
    "\n",
    "standalone_parameters[\"n_way\"] = 8\n",
    "standalone_parameters[\"n_shot\"] = 3\n",
    "standalone_parameters[\"n_query\"]  = 2\n",
    "standalone_parameters[\"train_k_factor\"] = 1\n",
    "standalone_parameters[\"val_k_factor\"] = 2\n",
    "standalone_parameters[\"test_k_factor\"] = 2\n",
    "\n",
    "\n",
    "standalone_parameters[\"n_epoch\"] = 50\n",
    "\n",
    "standalone_parameters[\"patience\"] = 10\n",
    "standalone_parameters[\"criteria_for_best\"] = \"source_loss\"\n",
    "\n",
    "standalone_parameters[\"datasets\"] = [\n",
    "    {\n",
    "        \"labels\": ALL_SERIAL_NUMBERS,\n",
    "        \"domains\": ALL_DISTANCES_FEET_NARROWED,\n",
    "        \"num_examples_per_domain_per_label\": 100,\n",
    "        \"pickle_path\": os.path.join(get_datasets_base_path(), \"oracle.Run1_framed_2000Examples_stratified_ds.2022A.pkl\"),\n",
    "        \"source_or_target_dataset\": \"source\",\n",
    "        \"x_transforms\": [\"unit_mag\", \"minus_two\"],\n",
    "        \"episode_transforms\": [],\n",
    "        \"domain_prefix\": \"ORACLE_\"\n",
    "    },\n",
    "    {\n",
    "        \"labels\": ALL_NODES,\n",
    "        \"domains\": ALL_DAYS,\n",
    "        \"num_examples_per_domain_per_label\": 100,\n",
    "        \"pickle_path\": os.path.join(get_datasets_base_path(), \"cores.stratified_ds.2022A.pkl\"),\n",
    "        \"source_or_target_dataset\": \"target\",\n",
    "        \"x_transforms\": [\"unit_power\", \"times_zero\"],\n",
    "        \"episode_transforms\": [],\n",
    "        \"domain_prefix\": \"CORES_\"\n",
    "    }   \n",
    "]\n",
    "\n",
    "standalone_parameters[\"torch_default_dtype\"] = \"torch.float32\" \n",
    "\n",
    "\n",
    "\n",
    "standalone_parameters[\"x_net\"] =     [\n",
    "    {\"class\": \"nnReshape\", \"kargs\": {\"shape\":[-1, 1, 2, 256]}},\n",
    "    {\"class\": \"Conv2d\", \"kargs\": { \"in_channels\":1, \"out_channels\":256, \"kernel_size\":(1,7), \"bias\":False, \"padding\":(0,3), },},\n",
    "    {\"class\": \"ReLU\", \"kargs\": {\"inplace\": True}},\n",
    "    {\"class\": \"BatchNorm2d\", \"kargs\": {\"num_features\":256}},\n",
    "\n",
    "    {\"class\": \"Conv2d\", \"kargs\": { \"in_channels\":256, \"out_channels\":80, \"kernel_size\":(2,7), \"bias\":True, \"padding\":(0,3), },},\n",
    "    {\"class\": \"ReLU\", \"kargs\": {\"inplace\": True}},\n",
    "    {\"class\": \"BatchNorm2d\", \"kargs\": {\"num_features\":80}},\n",
    "    {\"class\": \"Flatten\", \"kargs\": {}},\n",
    "\n",
    "    {\"class\": \"Linear\", \"kargs\": {\"in_features\": 80*256, \"out_features\": 256}}, # 80 units per IQ pair\n",
    "    {\"class\": \"ReLU\", \"kargs\": {\"inplace\": True}},\n",
    "    {\"class\": \"BatchNorm1d\", \"kargs\": {\"num_features\":256}},\n",
    "\n",
    "    {\"class\": \"Linear\", \"kargs\": {\"in_features\": 256, \"out_features\": 256}},\n",
    "]\n",
    "\n",
    "# Parameters relevant to results\n",
    "# These parameters will basically never need to change\n",
    "standalone_parameters[\"NUM_LOGS_PER_EPOCH\"] = 10\n",
    "standalone_parameters[\"BEST_MODEL_PATH\"] = \"./best_model.pth\"\n",
    "\n",
    "\n",
    "\n",
    "\n"
   ]
  },
  {
   "cell_type": "code",
   "execution_count": 4,
   "id": "4c4f9707",
   "metadata": {
    "execution": {
     "iopub.execute_input": "2022-03-20T01:42:26.896723Z",
     "iopub.status.busy": "2022-03-20T01:42:26.896228Z",
     "iopub.status.idle": "2022-03-20T01:42:26.910035Z",
     "shell.execute_reply": "2022-03-20T01:42:26.910396Z"
    },
    "papermill": {
     "duration": 0.035742,
     "end_time": "2022-03-20T01:42:26.910503",
     "exception": false,
     "start_time": "2022-03-20T01:42:26.874761",
     "status": "completed"
    },
    "tags": [
     "injected-parameters"
    ]
   },
   "outputs": [],
   "source": [
    "# Parameters\n",
    "parameters = {\n",
    "    \"experiment_name\": \"tl_2v2:oracle.run1.framed -> cores+wisig\",\n",
    "    \"device\": \"cuda\",\n",
    "    \"lr\": 0.0001,\n",
    "    \"n_shot\": 3,\n",
    "    \"n_query\": 2,\n",
    "    \"train_k_factor\": 3,\n",
    "    \"val_k_factor\": 2,\n",
    "    \"test_k_factor\": 2,\n",
    "    \"torch_default_dtype\": \"torch.float32\",\n",
    "    \"n_epoch\": 50,\n",
    "    \"patience\": 3,\n",
    "    \"criteria_for_best\": \"target_accuracy\",\n",
    "    \"x_net\": [\n",
    "        {\"class\": \"nnReshape\", \"kargs\": {\"shape\": [-1, 1, 2, 256]}},\n",
    "        {\n",
    "            \"class\": \"Conv2d\",\n",
    "            \"kargs\": {\n",
    "                \"in_channels\": 1,\n",
    "                \"out_channels\": 256,\n",
    "                \"kernel_size\": [1, 7],\n",
    "                \"bias\": False,\n",
    "                \"padding\": [0, 3],\n",
    "            },\n",
    "        },\n",
    "        {\"class\": \"ReLU\", \"kargs\": {\"inplace\": True}},\n",
    "        {\"class\": \"BatchNorm2d\", \"kargs\": {\"num_features\": 256}},\n",
    "        {\n",
    "            \"class\": \"Conv2d\",\n",
    "            \"kargs\": {\n",
    "                \"in_channels\": 256,\n",
    "                \"out_channels\": 80,\n",
    "                \"kernel_size\": [2, 7],\n",
    "                \"bias\": True,\n",
    "                \"padding\": [0, 3],\n",
    "            },\n",
    "        },\n",
    "        {\"class\": \"ReLU\", \"kargs\": {\"inplace\": True}},\n",
    "        {\"class\": \"BatchNorm2d\", \"kargs\": {\"num_features\": 80}},\n",
    "        {\"class\": \"Flatten\", \"kargs\": {}},\n",
    "        {\"class\": \"Linear\", \"kargs\": {\"in_features\": 20480, \"out_features\": 256}},\n",
    "        {\"class\": \"ReLU\", \"kargs\": {\"inplace\": True}},\n",
    "        {\"class\": \"BatchNorm1d\", \"kargs\": {\"num_features\": 256}},\n",
    "        {\"class\": \"Linear\", \"kargs\": {\"in_features\": 256, \"out_features\": 256}},\n",
    "    ],\n",
    "    \"NUM_LOGS_PER_EPOCH\": 10,\n",
    "    \"BEST_MODEL_PATH\": \"./best_model.pth\",\n",
    "    \"n_way\": 16,\n",
    "    \"datasets\": [\n",
    "        {\n",
    "            \"labels\": [\n",
    "                \"1-10.\",\n",
    "                \"1-11.\",\n",
    "                \"1-15.\",\n",
    "                \"1-16.\",\n",
    "                \"1-17.\",\n",
    "                \"1-18.\",\n",
    "                \"1-19.\",\n",
    "                \"10-4.\",\n",
    "                \"10-7.\",\n",
    "                \"11-1.\",\n",
    "                \"11-14.\",\n",
    "                \"11-17.\",\n",
    "                \"11-20.\",\n",
    "                \"11-7.\",\n",
    "                \"13-20.\",\n",
    "                \"13-8.\",\n",
    "                \"14-10.\",\n",
    "                \"14-11.\",\n",
    "                \"14-14.\",\n",
    "                \"14-7.\",\n",
    "                \"15-1.\",\n",
    "                \"15-20.\",\n",
    "                \"16-1.\",\n",
    "                \"16-16.\",\n",
    "                \"17-10.\",\n",
    "                \"17-11.\",\n",
    "                \"17-2.\",\n",
    "                \"19-1.\",\n",
    "                \"19-16.\",\n",
    "                \"19-19.\",\n",
    "                \"19-20.\",\n",
    "                \"19-3.\",\n",
    "                \"2-10.\",\n",
    "                \"2-11.\",\n",
    "                \"2-17.\",\n",
    "                \"2-18.\",\n",
    "                \"2-20.\",\n",
    "                \"2-3.\",\n",
    "                \"2-4.\",\n",
    "                \"2-5.\",\n",
    "                \"2-6.\",\n",
    "                \"2-7.\",\n",
    "                \"2-8.\",\n",
    "                \"3-13.\",\n",
    "                \"3-18.\",\n",
    "                \"3-3.\",\n",
    "                \"4-1.\",\n",
    "                \"4-10.\",\n",
    "                \"4-11.\",\n",
    "                \"4-19.\",\n",
    "                \"5-5.\",\n",
    "                \"6-15.\",\n",
    "                \"7-10.\",\n",
    "                \"7-14.\",\n",
    "                \"8-18.\",\n",
    "                \"8-20.\",\n",
    "                \"8-3.\",\n",
    "                \"8-8.\",\n",
    "            ],\n",
    "            \"domains\": [1, 2, 3, 4, 5],\n",
    "            \"num_examples_per_domain_per_label\": -1,\n",
    "            \"pickle_path\": \"/mnt/wd500GB/CSC500/csc500-main/datasets/cores.stratified_ds.2022A.pkl\",\n",
    "            \"source_or_target_dataset\": \"target\",\n",
    "            \"x_transforms\": [],\n",
    "            \"episode_transforms\": [],\n",
    "            \"domain_prefix\": \"C_\",\n",
    "        },\n",
    "        {\n",
    "            \"labels\": [\n",
    "                \"1-10\",\n",
    "                \"1-12\",\n",
    "                \"1-14\",\n",
    "                \"1-16\",\n",
    "                \"1-18\",\n",
    "                \"1-19\",\n",
    "                \"1-8\",\n",
    "                \"10-11\",\n",
    "                \"10-17\",\n",
    "                \"10-4\",\n",
    "                \"10-7\",\n",
    "                \"11-1\",\n",
    "                \"11-10\",\n",
    "                \"11-19\",\n",
    "                \"11-20\",\n",
    "                \"11-4\",\n",
    "                \"11-7\",\n",
    "                \"12-19\",\n",
    "                \"12-20\",\n",
    "                \"12-7\",\n",
    "                \"13-14\",\n",
    "                \"13-18\",\n",
    "                \"13-19\",\n",
    "                \"13-20\",\n",
    "                \"13-3\",\n",
    "                \"13-7\",\n",
    "                \"14-10\",\n",
    "                \"14-11\",\n",
    "                \"14-12\",\n",
    "                \"14-13\",\n",
    "                \"14-14\",\n",
    "                \"14-19\",\n",
    "                \"14-20\",\n",
    "                \"14-7\",\n",
    "                \"14-8\",\n",
    "                \"14-9\",\n",
    "                \"15-1\",\n",
    "                \"15-19\",\n",
    "                \"15-6\",\n",
    "                \"16-1\",\n",
    "                \"16-16\",\n",
    "                \"16-19\",\n",
    "                \"16-20\",\n",
    "                \"17-10\",\n",
    "                \"17-11\",\n",
    "                \"18-1\",\n",
    "                \"18-10\",\n",
    "                \"18-11\",\n",
    "                \"18-12\",\n",
    "                \"18-13\",\n",
    "                \"18-14\",\n",
    "                \"18-15\",\n",
    "                \"18-16\",\n",
    "                \"18-17\",\n",
    "                \"18-19\",\n",
    "                \"18-2\",\n",
    "                \"18-20\",\n",
    "                \"18-4\",\n",
    "                \"18-5\",\n",
    "                \"18-7\",\n",
    "                \"18-8\",\n",
    "                \"18-9\",\n",
    "                \"19-1\",\n",
    "                \"19-10\",\n",
    "                \"19-11\",\n",
    "                \"19-12\",\n",
    "                \"19-13\",\n",
    "                \"19-14\",\n",
    "                \"19-15\",\n",
    "                \"19-19\",\n",
    "                \"19-2\",\n",
    "                \"19-20\",\n",
    "                \"19-3\",\n",
    "                \"19-4\",\n",
    "                \"19-6\",\n",
    "                \"19-7\",\n",
    "                \"19-8\",\n",
    "                \"19-9\",\n",
    "                \"2-1\",\n",
    "                \"2-13\",\n",
    "                \"2-15\",\n",
    "                \"2-3\",\n",
    "                \"2-4\",\n",
    "                \"2-5\",\n",
    "                \"2-6\",\n",
    "                \"2-7\",\n",
    "                \"2-8\",\n",
    "                \"20-1\",\n",
    "                \"20-12\",\n",
    "                \"20-14\",\n",
    "                \"20-15\",\n",
    "                \"20-16\",\n",
    "                \"20-18\",\n",
    "                \"20-19\",\n",
    "                \"20-20\",\n",
    "                \"20-3\",\n",
    "                \"20-4\",\n",
    "                \"20-5\",\n",
    "                \"20-7\",\n",
    "                \"20-8\",\n",
    "                \"3-1\",\n",
    "                \"3-13\",\n",
    "                \"3-18\",\n",
    "                \"3-2\",\n",
    "                \"3-8\",\n",
    "                \"4-1\",\n",
    "                \"4-10\",\n",
    "                \"4-11\",\n",
    "                \"5-1\",\n",
    "                \"5-5\",\n",
    "                \"6-1\",\n",
    "                \"6-15\",\n",
    "                \"6-6\",\n",
    "                \"7-10\",\n",
    "                \"7-11\",\n",
    "                \"7-12\",\n",
    "                \"7-13\",\n",
    "                \"7-14\",\n",
    "                \"7-7\",\n",
    "                \"7-8\",\n",
    "                \"7-9\",\n",
    "                \"8-1\",\n",
    "                \"8-13\",\n",
    "                \"8-14\",\n",
    "                \"8-18\",\n",
    "                \"8-20\",\n",
    "                \"8-3\",\n",
    "                \"8-8\",\n",
    "                \"9-1\",\n",
    "                \"9-7\",\n",
    "            ],\n",
    "            \"domains\": [1, 2, 3, 4],\n",
    "            \"num_examples_per_domain_per_label\": -1,\n",
    "            \"pickle_path\": \"/mnt/wd500GB/CSC500/csc500-main/datasets/wisig.node3-19.stratified_ds.2022A.pkl\",\n",
    "            \"source_or_target_dataset\": \"target\",\n",
    "            \"x_transforms\": [],\n",
    "            \"episode_transforms\": [],\n",
    "            \"domain_prefix\": \"W_\",\n",
    "        },\n",
    "        {\n",
    "            \"labels\": [\n",
    "                \"3123D52\",\n",
    "                \"3123D65\",\n",
    "                \"3123D79\",\n",
    "                \"3123D80\",\n",
    "                \"3123D54\",\n",
    "                \"3123D70\",\n",
    "                \"3123D7B\",\n",
    "                \"3123D89\",\n",
    "                \"3123D58\",\n",
    "                \"3123D76\",\n",
    "                \"3123D7D\",\n",
    "                \"3123EFE\",\n",
    "                \"3123D64\",\n",
    "                \"3123D78\",\n",
    "                \"3123D7E\",\n",
    "                \"3124E4A\",\n",
    "            ],\n",
    "            \"domains\": [32, 38, 8, 44, 14, 50, 20, 26],\n",
    "            \"num_examples_per_domain_per_label\": 2000,\n",
    "            \"pickle_path\": \"/mnt/wd500GB/CSC500/csc500-main/datasets/oracle.Run1_framed_2000Examples_stratified_ds.2022A.pkl\",\n",
    "            \"source_or_target_dataset\": \"source\",\n",
    "            \"x_transforms\": [],\n",
    "            \"episode_transforms\": [],\n",
    "            \"domain_prefix\": \"O_\",\n",
    "        },\n",
    "    ],\n",
    "    \"seed\": 500,\n",
    "    \"dataset_seed\": 500,\n",
    "}\n"
   ]
  },
  {
   "cell_type": "code",
   "execution_count": 5,
   "id": "8fa1cc33",
   "metadata": {
    "execution": {
     "iopub.execute_input": "2022-03-20T01:42:26.944194Z",
     "iopub.status.busy": "2022-03-20T01:42:26.943942Z",
     "iopub.status.idle": "2022-03-20T01:42:26.957244Z",
     "shell.execute_reply": "2022-03-20T01:42:26.956860Z"
    },
    "papermill": {
     "duration": 0.029904,
     "end_time": "2022-03-20T01:42:26.957336",
     "exception": false,
     "start_time": "2022-03-20T01:42:26.927432",
     "status": "completed"
    },
    "tags": []
   },
   "outputs": [],
   "source": [
    "# Set this to True if you want to run this template directly\n",
    "STANDALONE = False\n",
    "if STANDALONE:\n",
    "    print(\"parameters not injected, running with standalone_parameters\")\n",
    "    parameters = standalone_parameters\n",
    "\n",
    "if not 'parameters' in locals() and not 'parameters' in globals():\n",
    "    raise Exception(\"Parameter injection failed\")\n",
    "\n",
    "#Use an easy dict for all the parameters\n",
    "p = EasyDict(parameters)\n",
    "\n",
    "if \"x_shape\" not in p:\n",
    "    p.x_shape = [2,256] # Default to this if we dont supply x_shape\n",
    "\n",
    "\n",
    "supplied_keys = set(p.keys())\n",
    "\n",
    "if  supplied_keys != required_parameters:\n",
    "    print(\"Parameters are incorrect\")\n",
    "    if len(supplied_keys - required_parameters)>0: print(\"Shouldn't have:\", str(supplied_keys - required_parameters))\n",
    "    if len(required_parameters - supplied_keys)>0: print(\"Need to have:\", str(required_parameters - supplied_keys))\n",
    "    raise RuntimeError(\"Parameters are incorrect\")"
   ]
  },
  {
   "cell_type": "code",
   "execution_count": 6,
   "id": "3a028d58",
   "metadata": {
    "execution": {
     "iopub.execute_input": "2022-03-20T01:42:26.990188Z",
     "iopub.status.busy": "2022-03-20T01:42:26.989082Z",
     "iopub.status.idle": "2022-03-20T01:42:27.004463Z",
     "shell.execute_reply": "2022-03-20T01:42:27.004825Z"
    },
    "papermill": {
     "duration": 0.029902,
     "end_time": "2022-03-20T01:42:27.004930",
     "exception": false,
     "start_time": "2022-03-20T01:42:26.975028",
     "status": "completed"
    },
    "tags": []
   },
   "outputs": [],
   "source": [
    "###################################\n",
    "# Set the RNGs and make it all deterministic\n",
    "###################################\n",
    "np.random.seed(p.seed)\n",
    "random.seed(p.seed)\n",
    "torch.manual_seed(p.seed)\n",
    "\n",
    "torch.use_deterministic_algorithms(True) "
   ]
  },
  {
   "cell_type": "code",
   "execution_count": 7,
   "id": "b691acf6",
   "metadata": {
    "execution": {
     "iopub.execute_input": "2022-03-20T01:42:27.037646Z",
     "iopub.status.busy": "2022-03-20T01:42:27.037402Z",
     "iopub.status.idle": "2022-03-20T01:42:27.050670Z",
     "shell.execute_reply": "2022-03-20T01:42:27.050235Z"
    },
    "papermill": {
     "duration": 0.028047,
     "end_time": "2022-03-20T01:42:27.050759",
     "exception": false,
     "start_time": "2022-03-20T01:42:27.022712",
     "status": "completed"
    },
    "tags": []
   },
   "outputs": [],
   "source": [
    "###########################################\n",
    "# The stratified datasets honor this\n",
    "###########################################\n",
    "torch.set_default_dtype(eval(p.torch_default_dtype))"
   ]
  },
  {
   "cell_type": "code",
   "execution_count": 8,
   "id": "b5fba671",
   "metadata": {
    "execution": {
     "iopub.execute_input": "2022-03-20T01:42:27.082769Z",
     "iopub.status.busy": "2022-03-20T01:42:27.082524Z",
     "iopub.status.idle": "2022-03-20T01:42:27.122966Z",
     "shell.execute_reply": "2022-03-20T01:42:27.122558Z"
    },
    "papermill": {
     "duration": 0.055312,
     "end_time": "2022-03-20T01:42:27.123063",
     "exception": false,
     "start_time": "2022-03-20T01:42:27.067751",
     "status": "completed"
    },
    "tags": []
   },
   "outputs": [],
   "source": [
    "###################################\n",
    "# Build the network(s)\n",
    "# Note: It's critical to do this AFTER setting the RNG\n",
    "###################################\n",
    "x_net = build_sequential(p.x_net)"
   ]
  },
  {
   "cell_type": "code",
   "execution_count": 9,
   "id": "5d7e61cc",
   "metadata": {
    "execution": {
     "iopub.execute_input": "2022-03-20T01:42:27.156566Z",
     "iopub.status.busy": "2022-03-20T01:42:27.156320Z",
     "iopub.status.idle": "2022-03-20T01:42:27.170784Z",
     "shell.execute_reply": "2022-03-20T01:42:27.170361Z"
    },
    "papermill": {
     "duration": 0.029819,
     "end_time": "2022-03-20T01:42:27.170879",
     "exception": false,
     "start_time": "2022-03-20T01:42:27.141060",
     "status": "completed"
    },
    "tags": []
   },
   "outputs": [],
   "source": [
    "start_time_secs = time.time()"
   ]
  },
  {
   "cell_type": "code",
   "execution_count": 10,
   "id": "c6b67dfd",
   "metadata": {
    "execution": {
     "iopub.execute_input": "2022-03-20T01:42:27.204081Z",
     "iopub.status.busy": "2022-03-20T01:42:27.203835Z",
     "iopub.status.idle": "2022-03-20T01:42:27.218559Z",
     "shell.execute_reply": "2022-03-20T01:42:27.218934Z"
    },
    "papermill": {
     "duration": 0.030598,
     "end_time": "2022-03-20T01:42:27.219049",
     "exception": false,
     "start_time": "2022-03-20T01:42:27.188451",
     "status": "completed"
    },
    "tags": []
   },
   "outputs": [],
   "source": [
    "p.domains_source = []\n",
    "p.domains_target = []\n",
    "\n",
    "\n",
    "train_original_source = []\n",
    "val_original_source   = []\n",
    "test_original_source  = []\n",
    "\n",
    "train_original_target = []\n",
    "val_original_target   = []\n",
    "test_original_target  = []"
   ]
  },
  {
   "cell_type": "code",
   "execution_count": 11,
   "id": "e3d9c3d3",
   "metadata": {
    "execution": {
     "iopub.execute_input": "2022-03-20T01:42:27.252889Z",
     "iopub.status.busy": "2022-03-20T01:42:27.252605Z",
     "iopub.status.idle": "2022-03-20T01:42:27.266917Z",
     "shell.execute_reply": "2022-03-20T01:42:27.267143Z"
    },
    "papermill": {
     "duration": 0.030556,
     "end_time": "2022-03-20T01:42:27.267244",
     "exception": false,
     "start_time": "2022-03-20T01:42:27.236688",
     "status": "completed"
    },
    "tags": []
   },
   "outputs": [],
   "source": [
    "# global_x_transform_func = lambda x: normalize(x.to(torch.get_default_dtype()), \"unit_power\") # unit_power, unit_mag\n",
    "# global_x_transform_func = lambda x: normalize(x, \"unit_power\") # unit_power, unit_mag"
   ]
  },
  {
   "cell_type": "code",
   "execution_count": 12,
   "id": "acb78fd2",
   "metadata": {
    "execution": {
     "iopub.execute_input": "2022-03-20T01:42:27.307224Z",
     "iopub.status.busy": "2022-03-20T01:42:27.306943Z",
     "iopub.status.idle": "2022-03-20T01:42:27.318976Z",
     "shell.execute_reply": "2022-03-20T01:42:27.318583Z"
    },
    "papermill": {
     "duration": 0.033546,
     "end_time": "2022-03-20T01:42:27.319062",
     "exception": false,
     "start_time": "2022-03-20T01:42:27.285516",
     "status": "completed"
    },
    "tags": []
   },
   "outputs": [],
   "source": [
    "def add_dataset(\n",
    "    labels,\n",
    "    domains,\n",
    "    pickle_path,\n",
    "    x_transforms,\n",
    "    episode_transforms,\n",
    "    domain_prefix,\n",
    "    num_examples_per_domain_per_label,\n",
    "    source_or_target_dataset:str,\n",
    "    iterator_seed=p.seed,\n",
    "    dataset_seed=p.dataset_seed,\n",
    "    n_shot=p.n_shot,\n",
    "    n_way=p.n_way,\n",
    "    n_query=p.n_query,\n",
    "    train_val_test_k_factors=(p.train_k_factor,p.val_k_factor,p.test_k_factor),\n",
    "):\n",
    "   \n",
    "    if x_transforms == []: x_transform = None\n",
    "    else: x_transform = get_chained_transform(x_transforms)\n",
    "    \n",
    "    if episode_transforms == []: episode_transform = None\n",
    "    else: raise Exception(\"episode_transforms not implemented\")\n",
    "    \n",
    "    episode_transform = lambda tup, _prefix=domain_prefix: (_prefix + str(tup[0]), tup[1])\n",
    "\n",
    "\n",
    "    eaf = Episodic_Accessor_Factory(\n",
    "        labels=labels,\n",
    "        domains=domains,\n",
    "        num_examples_per_domain_per_label=num_examples_per_domain_per_label,\n",
    "        iterator_seed=iterator_seed,\n",
    "        dataset_seed=dataset_seed,\n",
    "        n_shot=n_shot,\n",
    "        n_way=n_way,\n",
    "        n_query=n_query,\n",
    "        train_val_test_k_factors=train_val_test_k_factors,\n",
    "        pickle_path=pickle_path,\n",
    "        x_transform_func=x_transform,\n",
    "    )\n",
    "\n",
    "    train, val, test = eaf.get_train(), eaf.get_val(), eaf.get_test()\n",
    "    train = Lazy_Iterable_Wrapper(train, episode_transform)\n",
    "    val = Lazy_Iterable_Wrapper(val, episode_transform)\n",
    "    test = Lazy_Iterable_Wrapper(test, episode_transform)\n",
    "\n",
    "    if source_or_target_dataset==\"source\":\n",
    "        train_original_source.append(train)\n",
    "        val_original_source.append(val)\n",
    "        test_original_source.append(test)\n",
    "\n",
    "        p.domains_source.extend(\n",
    "            [domain_prefix + str(u) for u in domains]\n",
    "        )\n",
    "    elif source_or_target_dataset==\"target\":\n",
    "        train_original_target.append(train)\n",
    "        val_original_target.append(val)\n",
    "        test_original_target.append(test)\n",
    "        p.domains_target.extend(\n",
    "            [domain_prefix + str(u) for u in domains]\n",
    "        )\n",
    "    else:\n",
    "        raise Exception(f\"invalid source_or_target_dataset: {source_or_target_dataset}\")\n",
    "    "
   ]
  },
  {
   "cell_type": "code",
   "execution_count": 13,
   "id": "fe266617",
   "metadata": {
    "execution": {
     "iopub.execute_input": "2022-03-20T01:42:27.355028Z",
     "iopub.status.busy": "2022-03-20T01:42:27.354763Z",
     "iopub.status.idle": "2022-03-20T01:42:30.719185Z",
     "shell.execute_reply": "2022-03-20T01:42:30.718760Z"
    },
    "papermill": {
     "duration": 3.381935,
     "end_time": "2022-03-20T01:42:30.719306",
     "exception": false,
     "start_time": "2022-03-20T01:42:27.337371",
     "status": "completed"
    },
    "tags": []
   },
   "outputs": [],
   "source": [
    "for ds in p.datasets:\n",
    "    add_dataset(**ds)"
   ]
  },
  {
   "cell_type": "code",
   "execution_count": 14,
   "id": "b90d65ac",
   "metadata": {
    "execution": {
     "iopub.execute_input": "2022-03-20T01:42:30.752720Z",
     "iopub.status.busy": "2022-03-20T01:42:30.752464Z",
     "iopub.status.idle": "2022-03-20T01:42:30.764146Z",
     "shell.execute_reply": "2022-03-20T01:42:30.763698Z"
    },
    "papermill": {
     "duration": 0.027191,
     "end_time": "2022-03-20T01:42:30.764240",
     "exception": false,
     "start_time": "2022-03-20T01:42:30.737049",
     "status": "completed"
    },
    "tags": []
   },
   "outputs": [],
   "source": [
    "# from steves_utils.CORES.utils import (\n",
    "#     ALL_NODES,\n",
    "#     ALL_NODES_MINIMUM_1000_EXAMPLES,\n",
    "#     ALL_DAYS\n",
    "# )\n",
    "\n",
    "# add_dataset(\n",
    "#     labels=ALL_NODES,\n",
    "#     domains = ALL_DAYS,\n",
    "#     num_examples_per_domain_per_label=100,\n",
    "#     pickle_path=os.path.join(get_datasets_base_path(), \"cores.stratified_ds.2022A.pkl\"),\n",
    "#     source_or_target_dataset=\"target\",\n",
    "#     x_transform_func=global_x_transform_func,\n",
    "#     domain_modifier=lambda u: f\"cores_{u}\"\n",
    "# )"
   ]
  },
  {
   "cell_type": "code",
   "execution_count": 15,
   "id": "76db484d",
   "metadata": {
    "execution": {
     "iopub.execute_input": "2022-03-20T01:42:30.796682Z",
     "iopub.status.busy": "2022-03-20T01:42:30.796405Z",
     "iopub.status.idle": "2022-03-20T01:42:30.808560Z",
     "shell.execute_reply": "2022-03-20T01:42:30.808118Z"
    },
    "papermill": {
     "duration": 0.027553,
     "end_time": "2022-03-20T01:42:30.808651",
     "exception": false,
     "start_time": "2022-03-20T01:42:30.781098",
     "status": "completed"
    },
    "tags": []
   },
   "outputs": [],
   "source": [
    "# from steves_utils.ORACLE.utils_v2 import (\n",
    "#     ALL_DISTANCES_FEET,\n",
    "#     ALL_RUNS,\n",
    "#     ALL_SERIAL_NUMBERS,\n",
    "# )\n",
    "\n",
    "\n",
    "# add_dataset(\n",
    "#     labels=ALL_SERIAL_NUMBERS,\n",
    "#     domains = list(set(ALL_DISTANCES_FEET) - {2,62}),\n",
    "#     num_examples_per_domain_per_label=100,\n",
    "#     pickle_path=os.path.join(get_datasets_base_path(), \"oracle.Run2_framed_2000Examples_stratified_ds.2022A.pkl\"),\n",
    "#     source_or_target_dataset=\"source\",\n",
    "#     x_transform_func=global_x_transform_func,\n",
    "#     domain_modifier=lambda u: f\"oracle1_{u}\"\n",
    "# )\n"
   ]
  },
  {
   "cell_type": "code",
   "execution_count": 16,
   "id": "97dea9d2",
   "metadata": {
    "execution": {
     "iopub.execute_input": "2022-03-20T01:42:30.844265Z",
     "iopub.status.busy": "2022-03-20T01:42:30.844010Z",
     "iopub.status.idle": "2022-03-20T01:42:30.859340Z",
     "shell.execute_reply": "2022-03-20T01:42:30.858842Z"
    },
    "papermill": {
     "duration": 0.031959,
     "end_time": "2022-03-20T01:42:30.859441",
     "exception": false,
     "start_time": "2022-03-20T01:42:30.827482",
     "status": "completed"
    },
    "tags": []
   },
   "outputs": [],
   "source": [
    "# from steves_utils.ORACLE.utils_v2 import (\n",
    "#     ALL_DISTANCES_FEET,\n",
    "#     ALL_RUNS,\n",
    "#     ALL_SERIAL_NUMBERS,\n",
    "# )\n",
    "\n",
    "\n",
    "# add_dataset(\n",
    "#     labels=ALL_SERIAL_NUMBERS,\n",
    "#     domains = list(set(ALL_DISTANCES_FEET) - {2,62,56}),\n",
    "#     num_examples_per_domain_per_label=100,\n",
    "#     pickle_path=os.path.join(get_datasets_base_path(), \"oracle.Run2_framed_2000Examples_stratified_ds.2022A.pkl\"),\n",
    "#     source_or_target_dataset=\"source\",\n",
    "#     x_transform_func=global_x_transform_func,\n",
    "#     domain_modifier=lambda u: f\"oracle2_{u}\"\n",
    "# )"
   ]
  },
  {
   "cell_type": "code",
   "execution_count": 17,
   "id": "6f289866",
   "metadata": {
    "execution": {
     "iopub.execute_input": "2022-03-20T01:42:30.895083Z",
     "iopub.status.busy": "2022-03-20T01:42:30.894829Z",
     "iopub.status.idle": "2022-03-20T01:42:30.909039Z",
     "shell.execute_reply": "2022-03-20T01:42:30.908694Z"
    },
    "papermill": {
     "duration": 0.030298,
     "end_time": "2022-03-20T01:42:30.909110",
     "exception": false,
     "start_time": "2022-03-20T01:42:30.878812",
     "status": "completed"
    },
    "tags": []
   },
   "outputs": [],
   "source": [
    "# add_dataset(\n",
    "#     labels=list(range(19)),\n",
    "#     domains = [0,1,2],\n",
    "#     num_examples_per_domain_per_label=100,\n",
    "#     pickle_path=os.path.join(get_datasets_base_path(), \"metehan.stratified_ds.2022A.pkl\"),\n",
    "#     source_or_target_dataset=\"target\",\n",
    "#     x_transform_func=global_x_transform_func,\n",
    "#     domain_modifier=lambda u: f\"met_{u}\"\n",
    "# )"
   ]
  },
  {
   "cell_type": "code",
   "execution_count": 18,
   "id": "86a863c3",
   "metadata": {
    "execution": {
     "iopub.execute_input": "2022-03-20T01:42:30.943546Z",
     "iopub.status.busy": "2022-03-20T01:42:30.943293Z",
     "iopub.status.idle": "2022-03-20T01:42:30.957618Z",
     "shell.execute_reply": "2022-03-20T01:42:30.957169Z"
    },
    "papermill": {
     "duration": 0.030002,
     "end_time": "2022-03-20T01:42:30.957708",
     "exception": false,
     "start_time": "2022-03-20T01:42:30.927706",
     "status": "completed"
    },
    "tags": []
   },
   "outputs": [],
   "source": [
    "# # from steves_utils.wisig.utils import (\n",
    "# #     ALL_NODES_MINIMUM_100_EXAMPLES,\n",
    "# #     ALL_NODES_MINIMUM_500_EXAMPLES,\n",
    "# #     ALL_NODES_MINIMUM_1000_EXAMPLES,\n",
    "# #     ALL_DAYS\n",
    "# # )\n",
    "\n",
    "# import steves_utils.wisig.utils as wisig\n",
    "\n",
    "\n",
    "# add_dataset(\n",
    "#     labels=wisig.ALL_NODES_MINIMUM_100_EXAMPLES,\n",
    "#     domains = wisig.ALL_DAYS,\n",
    "#     num_examples_per_domain_per_label=100,\n",
    "#     pickle_path=os.path.join(get_datasets_base_path(), \"wisig.node3-19.stratified_ds.2022A.pkl\"),\n",
    "#     source_or_target_dataset=\"target\",\n",
    "#     x_transform_func=global_x_transform_func,\n",
    "#     domain_modifier=lambda u: f\"wisig_{u}\"\n",
    "# )"
   ]
  },
  {
   "cell_type": "code",
   "execution_count": 19,
   "id": "fd5442bc",
   "metadata": {
    "execution": {
     "iopub.execute_input": "2022-03-20T01:42:30.992874Z",
     "iopub.status.busy": "2022-03-20T01:42:30.992615Z",
     "iopub.status.idle": "2022-03-20T01:42:31.007338Z",
     "shell.execute_reply": "2022-03-20T01:42:31.006912Z"
    },
    "papermill": {
     "duration": 0.03316,
     "end_time": "2022-03-20T01:42:31.007429",
     "exception": false,
     "start_time": "2022-03-20T01:42:30.974269",
     "status": "completed"
    },
    "tags": []
   },
   "outputs": [],
   "source": [
    "###################################\n",
    "# Build the dataset\n",
    "###################################\n",
    "train_original_source = Iterable_Aggregator(train_original_source, p.seed)\n",
    "val_original_source = Iterable_Aggregator(val_original_source, p.seed)\n",
    "test_original_source = Iterable_Aggregator(test_original_source, p.seed)\n",
    "\n",
    "\n",
    "train_original_target = Iterable_Aggregator(train_original_target, p.seed)\n",
    "val_original_target = Iterable_Aggregator(val_original_target, p.seed)\n",
    "test_original_target = Iterable_Aggregator(test_original_target, p.seed)\n",
    "\n",
    "# For CNN We only use X and Y. And we only train on the source.\n",
    "# Properly form the data using a transform lambda and Lazy_Iterable_Wrapper. Finally wrap them in a dataloader\n",
    "\n",
    "transform_lambda = lambda ex: ex[1] # Original is (<domain>, <episode>) so we strip down to episode only\n",
    "\n",
    "train_processed_source = Lazy_Iterable_Wrapper(train_original_source, transform_lambda)\n",
    "val_processed_source   = Lazy_Iterable_Wrapper(val_original_source, transform_lambda)\n",
    "test_processed_source  = Lazy_Iterable_Wrapper(test_original_source, transform_lambda)\n",
    "\n",
    "train_processed_target = Lazy_Iterable_Wrapper(train_original_target, transform_lambda)\n",
    "val_processed_target   = Lazy_Iterable_Wrapper(val_original_target, transform_lambda)\n",
    "test_processed_target  = Lazy_Iterable_Wrapper(test_original_target, transform_lambda)\n",
    "\n",
    "datasets = EasyDict({\n",
    "    \"source\": {\n",
    "        \"original\": {\"train\":train_original_source, \"val\":val_original_source, \"test\":test_original_source},\n",
    "        \"processed\": {\"train\":train_processed_source, \"val\":val_processed_source, \"test\":test_processed_source}\n",
    "    },\n",
    "    \"target\": {\n",
    "        \"original\": {\"train\":train_original_target, \"val\":val_original_target, \"test\":test_original_target},\n",
    "        \"processed\": {\"train\":train_processed_target, \"val\":val_processed_target, \"test\":test_processed_target}\n",
    "    },\n",
    "})"
   ]
  },
  {
   "cell_type": "code",
   "execution_count": 20,
   "id": "5b3c01fc",
   "metadata": {
    "execution": {
     "iopub.execute_input": "2022-03-20T01:42:31.041729Z",
     "iopub.status.busy": "2022-03-20T01:42:31.041480Z",
     "iopub.status.idle": "2022-03-20T01:42:39.944217Z",
     "shell.execute_reply": "2022-03-20T01:42:39.944669Z"
    },
    "papermill": {
     "duration": 8.919972,
     "end_time": "2022-03-20T01:42:39.944822",
     "exception": false,
     "start_time": "2022-03-20T01:42:31.024850",
     "status": "completed"
    },
    "tags": []
   },
   "outputs": [
    {
     "name": "stdout",
     "output_type": "stream",
     "text": [
      "{'O_8', 'O_38', 'O_50', 'O_14', 'O_44', 'O_20', 'O_26', 'O_32'}\n"
     ]
    },
    {
     "name": "stdout",
     "output_type": "stream",
     "text": [
      "{'C_5', 'C_2', 'C_4', 'W_1', 'W_4', 'C_1', 'C_3', 'W_2', 'W_3'}\n"
     ]
    },
    {
     "name": "stdout",
     "output_type": "stream",
     "text": [
      "tensor([[[ 9.4607e-04,  1.6480e-03, -1.6785e-03,  ..., -1.2818e-03,\n",
      "           8.8504e-04, -1.4039e-03],\n",
      "         [-7.3244e-04,  6.7141e-04,  2.1363e-04,  ..., -7.3244e-04,\n",
      "          -1.9837e-03, -1.6175e-03]],\n",
      "\n",
      "        [[ 1.8311e-04,  2.1058e-03, -8.2400e-04,  ..., -1.6175e-03,\n",
      "           6.1037e-04, -1.6785e-03],\n",
      "         [-1.1597e-03,  1.5259e-04,  1.0071e-03,  ..., -1.8311e-04,\n",
      "          -1.8311e-03, -1.0376e-03]],\n",
      "\n",
      "        [[-1.7396e-03,  7.6296e-04,  2.4110e-03,  ..., -8.5452e-04,\n",
      "           3.3570e-04,  2.1363e-03],\n",
      "         [-5.1881e-04, -4.2726e-04,  6.1037e-05,  ...,  1.9837e-03,\n",
      "           1.7701e-03,  3.0519e-04]],\n",
      "\n",
      "        ...,\n",
      "\n",
      "        [[-6.7141e-04,  5.4933e-04,  7.3244e-04,  ..., -8.5452e-04,\n",
      "          -2.7772e-03, -1.9837e-03],\n",
      "         [-5.4933e-04, -2.1973e-03,  1.1597e-03,  ...,  1.8921e-03,\n",
      "          -1.0987e-03,  7.0193e-04]],\n",
      "\n",
      "        [[ 1.1292e-03, -9.7659e-04, -1.1902e-03,  ...,  5.4933e-04,\n",
      "           2.6551e-03,  1.2818e-03],\n",
      "         [ 1.8006e-03,  1.8311e-03, -2.0753e-03,  ..., -1.5259e-03,\n",
      "           8.2400e-04, -1.8921e-03]],\n",
      "\n",
      "        [[ 8.8504e-04, -1.4649e-03, -1.0987e-03,  ...,  1.7396e-03,\n",
      "           2.1058e-03,  7.6296e-04],\n",
      "         [ 2.0753e-03,  1.5564e-03, -2.2584e-03,  ..., -9.4607e-04,\n",
      "           9.1556e-04, -2.3499e-03]]])\n"
     ]
    }
   ],
   "source": [
    "from steves_utils.transforms import get_average_magnitude, get_average_power\n",
    "\n",
    "print(set([u for u,_ in val_original_source]))\n",
    "print(set([u for u,_ in val_original_target]))\n",
    "\n",
    "s_x, s_y, q_x, q_y, _ = next(iter(train_processed_source))\n",
    "print(s_x)\n",
    "\n",
    "# for ds in [\n",
    "#     train_processed_source,\n",
    "#     val_processed_source,\n",
    "#     test_processed_source,\n",
    "#     train_processed_target,\n",
    "#     val_processed_target,\n",
    "#     test_processed_target\n",
    "# ]:\n",
    "#     for s_x, s_y, q_x, q_y, _ in ds:\n",
    "#         for X in (s_x, q_x):\n",
    "#             for x in X:\n",
    "#                 assert np.isclose(get_average_magnitude(x.numpy()), 1.0)\n",
    "#                 assert np.isclose(get_average_power(x.numpy()), 1.0)\n",
    "                "
   ]
  },
  {
   "cell_type": "code",
   "execution_count": 21,
   "id": "bbdacba1",
   "metadata": {
    "execution": {
     "iopub.execute_input": "2022-03-20T01:42:39.985057Z",
     "iopub.status.busy": "2022-03-20T01:42:39.984797Z",
     "iopub.status.idle": "2022-03-20T01:42:40.044277Z",
     "shell.execute_reply": "2022-03-20T01:42:40.044706Z"
    },
    "papermill": {
     "duration": 0.078698,
     "end_time": "2022-03-20T01:42:40.044848",
     "exception": false,
     "start_time": "2022-03-20T01:42:39.966150",
     "status": "completed"
    },
    "tags": []
   },
   "outputs": [
    {
     "name": "stdout",
     "output_type": "stream",
     "text": [
      "(2, 256)\n"
     ]
    }
   ],
   "source": [
    "###################################\n",
    "# Build the model\n",
    "###################################\n",
    "# easfsl only wants a tuple for the shape\n",
    "model = Steves_Prototypical_Network(x_net, device=p.device, x_shape=tuple(p.x_shape))\n",
    "optimizer = Adam(params=model.parameters(), lr=p.lr)"
   ]
  },
  {
   "cell_type": "code",
   "execution_count": 22,
   "id": "22b39ac5",
   "metadata": {
    "execution": {
     "iopub.execute_input": "2022-03-20T01:42:40.086640Z",
     "iopub.status.busy": "2022-03-20T01:42:40.082229Z",
     "iopub.status.idle": "2022-03-20T01:58:38.042278Z",
     "shell.execute_reply": "2022-03-20T01:58:38.042044Z"
    },
    "papermill": {
     "duration": 957.978454,
     "end_time": "2022-03-20T01:58:38.042340",
     "exception": false,
     "start_time": "2022-03-20T01:42:40.063886",
     "status": "completed"
    },
    "tags": []
   },
   "outputs": [
    {
     "name": "stdout",
     "output_type": "stream",
     "text": [
      "epoch: 1, [batch: 1 / 6720], examples_per_second: 46.7995, train_label_loss: 2.8222, \n"
     ]
    },
    {
     "name": "stdout",
     "output_type": "stream",
     "text": [
      "epoch: 1, [batch: 672 / 6720], examples_per_second: 3182.0795, train_label_loss: 0.7187, \n"
     ]
    },
    {
     "name": "stdout",
     "output_type": "stream",
     "text": [
      "epoch: 1, [batch: 1344 / 6720], examples_per_second: 3131.5577, train_label_loss: 0.4020, \n"
     ]
    },
    {
     "name": "stdout",
     "output_type": "stream",
     "text": [
      "epoch: 1, [batch: 2016 / 6720], examples_per_second: 3138.3889, train_label_loss: 0.4451, \n"
     ]
    },
    {
     "name": "stdout",
     "output_type": "stream",
     "text": [
      "epoch: 1, [batch: 2688 / 6720], examples_per_second: 3065.6047, train_label_loss: 0.4015, \n"
     ]
    },
    {
     "name": "stdout",
     "output_type": "stream",
     "text": [
      "epoch: 1, [batch: 3360 / 6720], examples_per_second: 3119.5601, train_label_loss: 0.3570, \n"
     ]
    },
    {
     "name": "stdout",
     "output_type": "stream",
     "text": [
      "epoch: 1, [batch: 4032 / 6720], examples_per_second: 3187.3411, train_label_loss: 0.1521, \n"
     ]
    },
    {
     "name": "stdout",
     "output_type": "stream",
     "text": [
      "epoch: 1, [batch: 4704 / 6720], examples_per_second: 3185.1713, train_label_loss: 0.4460, \n"
     ]
    },
    {
     "name": "stdout",
     "output_type": "stream",
     "text": [
      "epoch: 1, [batch: 5376 / 6720], examples_per_second: 3182.9917, train_label_loss: 0.2304, \n"
     ]
    },
    {
     "name": "stdout",
     "output_type": "stream",
     "text": [
      "epoch: 1, [batch: 6048 / 6720], examples_per_second: 3127.0552, train_label_loss: 0.1995, \n"
     ]
    },
    {
     "name": "stdout",
     "output_type": "stream",
     "text": [
      "=============================================================\n",
      "epoch: 1, source_val_acc_label: 0.5546, target_val_acc_label: 0.8529, source_val_label_loss: 308.9756, target_val_label_loss: 10639.3672, \n",
      "=============================================================\n"
     ]
    },
    {
     "name": "stdout",
     "output_type": "stream",
     "text": [
      "New best\n"
     ]
    },
    {
     "name": "stdout",
     "output_type": "stream",
     "text": [
      "epoch: 2, [batch: 1 / 6720], examples_per_second: 3.9483, train_label_loss: 0.6418, \n"
     ]
    },
    {
     "name": "stdout",
     "output_type": "stream",
     "text": [
      "epoch: 2, [batch: 672 / 6720], examples_per_second: 3216.4465, train_label_loss: 0.4180, \n"
     ]
    },
    {
     "name": "stdout",
     "output_type": "stream",
     "text": [
      "epoch: 2, [batch: 1344 / 6720], examples_per_second: 3225.0202, train_label_loss: 0.2379, \n"
     ]
    },
    {
     "name": "stdout",
     "output_type": "stream",
     "text": [
      "epoch: 2, [batch: 2016 / 6720], examples_per_second: 3222.6040, train_label_loss: 2.4539, \n"
     ]
    },
    {
     "name": "stdout",
     "output_type": "stream",
     "text": [
      "epoch: 2, [batch: 2688 / 6720], examples_per_second: 3211.7447, train_label_loss: 0.0726, \n"
     ]
    },
    {
     "name": "stdout",
     "output_type": "stream",
     "text": [
      "epoch: 2, [batch: 3360 / 6720], examples_per_second: 3223.4650, train_label_loss: 0.1415, \n"
     ]
    },
    {
     "name": "stdout",
     "output_type": "stream",
     "text": [
      "epoch: 2, [batch: 4032 / 6720], examples_per_second: 3227.1202, train_label_loss: 0.2269, \n"
     ]
    },
    {
     "name": "stdout",
     "output_type": "stream",
     "text": [
      "epoch: 2, [batch: 4704 / 6720], examples_per_second: 3185.8411, train_label_loss: 0.6092, \n"
     ]
    },
    {
     "name": "stdout",
     "output_type": "stream",
     "text": [
      "epoch: 2, [batch: 5376 / 6720], examples_per_second: 2994.7785, train_label_loss: 0.2824, \n"
     ]
    },
    {
     "name": "stdout",
     "output_type": "stream",
     "text": [
      "epoch: 2, [batch: 6048 / 6720], examples_per_second: 3210.2390, train_label_loss: 0.1240, \n"
     ]
    },
    {
     "name": "stdout",
     "output_type": "stream",
     "text": [
      "=============================================================\n",
      "epoch: 2, source_val_acc_label: 0.8945, target_val_acc_label: 0.7859, source_val_label_loss: 0.3314, target_val_label_loss: 1398.8827, \n",
      "=============================================================\n"
     ]
    },
    {
     "name": "stdout",
     "output_type": "stream",
     "text": [
      "epoch: 3, [batch: 1 / 6720], examples_per_second: 3.9331, train_label_loss: 0.4325, \n"
     ]
    },
    {
     "name": "stdout",
     "output_type": "stream",
     "text": [
      "epoch: 3, [batch: 672 / 6720], examples_per_second: 3131.4877, train_label_loss: 0.2066, \n"
     ]
    },
    {
     "name": "stdout",
     "output_type": "stream",
     "text": [
      "epoch: 3, [batch: 1344 / 6720], examples_per_second: 3229.0776, train_label_loss: 0.2288, \n"
     ]
    },
    {
     "name": "stdout",
     "output_type": "stream",
     "text": [
      "epoch: 3, [batch: 2016 / 6720], examples_per_second: 3219.3260, train_label_loss: 0.3097, \n"
     ]
    },
    {
     "name": "stdout",
     "output_type": "stream",
     "text": [
      "epoch: 3, [batch: 2688 / 6720], examples_per_second: 3151.0800, train_label_loss: 0.2139, \n"
     ]
    },
    {
     "name": "stdout",
     "output_type": "stream",
     "text": [
      "epoch: 3, [batch: 3360 / 6720], examples_per_second: 3222.1602, train_label_loss: 0.1038, \n"
     ]
    },
    {
     "name": "stdout",
     "output_type": "stream",
     "text": [
      "epoch: 3, [batch: 4032 / 6720], examples_per_second: 3201.8543, train_label_loss: 0.2106, \n"
     ]
    },
    {
     "name": "stdout",
     "output_type": "stream",
     "text": [
      "epoch: 3, [batch: 4704 / 6720], examples_per_second: 3214.8203, train_label_loss: 0.3423, \n"
     ]
    },
    {
     "name": "stdout",
     "output_type": "stream",
     "text": [
      "epoch: 3, [batch: 5376 / 6720], examples_per_second: 3226.7601, train_label_loss: 0.2682, \n"
     ]
    },
    {
     "name": "stdout",
     "output_type": "stream",
     "text": [
      "epoch: 3, [batch: 6048 / 6720], examples_per_second: 3238.1025, train_label_loss: 0.1340, \n"
     ]
    },
    {
     "name": "stdout",
     "output_type": "stream",
     "text": [
      "=============================================================\n",
      "epoch: 3, source_val_acc_label: 0.9290, target_val_acc_label: 0.6894, source_val_label_loss: 0.2195, target_val_label_loss: 2325.1917, \n",
      "=============================================================\n"
     ]
    },
    {
     "name": "stdout",
     "output_type": "stream",
     "text": [
      "epoch: 4, [batch: 1 / 6720], examples_per_second: 4.0195, train_label_loss: 0.4033, \n"
     ]
    },
    {
     "name": "stdout",
     "output_type": "stream",
     "text": [
      "epoch: 4, [batch: 672 / 6720], examples_per_second: 3215.5357, train_label_loss: 0.1692, \n"
     ]
    },
    {
     "name": "stdout",
     "output_type": "stream",
     "text": [
      "epoch: 4, [batch: 1344 / 6720], examples_per_second: 3229.7284, train_label_loss: 0.2945, \n"
     ]
    },
    {
     "name": "stdout",
     "output_type": "stream",
     "text": [
      "epoch: 4, [batch: 2016 / 6720], examples_per_second: 3211.5614, train_label_loss: 0.1018, \n"
     ]
    },
    {
     "name": "stdout",
     "output_type": "stream",
     "text": [
      "epoch: 4, [batch: 2688 / 6720], examples_per_second: 3201.5766, train_label_loss: 0.0977, \n"
     ]
    },
    {
     "name": "stdout",
     "output_type": "stream",
     "text": [
      "epoch: 4, [batch: 3360 / 6720], examples_per_second: 3217.1743, train_label_loss: 0.1714, \n"
     ]
    },
    {
     "name": "stdout",
     "output_type": "stream",
     "text": [
      "epoch: 4, [batch: 4032 / 6720], examples_per_second: 3218.1358, train_label_loss: 0.1709, \n"
     ]
    },
    {
     "name": "stdout",
     "output_type": "stream",
     "text": [
      "epoch: 4, [batch: 4704 / 6720], examples_per_second: 3185.5045, train_label_loss: 0.3017, \n"
     ]
    },
    {
     "name": "stdout",
     "output_type": "stream",
     "text": [
      "epoch: 4, [batch: 5376 / 6720], examples_per_second: 3135.4098, train_label_loss: 0.1778, \n"
     ]
    },
    {
     "name": "stdout",
     "output_type": "stream",
     "text": [
      "epoch: 4, [batch: 6048 / 6720], examples_per_second: 3203.6218, train_label_loss: 0.2933, \n"
     ]
    },
    {
     "name": "stdout",
     "output_type": "stream",
     "text": [
      "=============================================================\n",
      "epoch: 4, source_val_acc_label: 0.9225, target_val_acc_label: 0.6800, source_val_label_loss: 0.2231, target_val_label_loss: 2569.4509, \n",
      "=============================================================\n"
     ]
    },
    {
     "name": "stdout",
     "output_type": "stream",
     "text": [
      "epoch: 5, [batch: 1 / 6720], examples_per_second: 4.0555, train_label_loss: 0.1562, \n"
     ]
    },
    {
     "name": "stdout",
     "output_type": "stream",
     "text": [
      "epoch: 5, [batch: 672 / 6720], examples_per_second: 3231.9022, train_label_loss: 0.4044, \n"
     ]
    },
    {
     "name": "stdout",
     "output_type": "stream",
     "text": [
      "epoch: 5, [batch: 1344 / 6720], examples_per_second: 3243.9067, train_label_loss: 0.1832, \n"
     ]
    },
    {
     "name": "stdout",
     "output_type": "stream",
     "text": [
      "epoch: 5, [batch: 2016 / 6720], examples_per_second: 3244.3625, train_label_loss: 0.2315, \n"
     ]
    },
    {
     "name": "stdout",
     "output_type": "stream",
     "text": [
      "epoch: 5, [batch: 2688 / 6720], examples_per_second: 3229.0344, train_label_loss: 0.1318, \n"
     ]
    },
    {
     "name": "stdout",
     "output_type": "stream",
     "text": [
      "epoch: 5, [batch: 3360 / 6720], examples_per_second: 3249.9755, train_label_loss: 0.2339, \n"
     ]
    },
    {
     "name": "stdout",
     "output_type": "stream",
     "text": [
      "epoch: 5, [batch: 4032 / 6720], examples_per_second: 3245.1297, train_label_loss: 0.0153, \n"
     ]
    },
    {
     "name": "stdout",
     "output_type": "stream",
     "text": [
      "epoch: 5, [batch: 4704 / 6720], examples_per_second: 3225.6904, train_label_loss: 0.1447, \n"
     ]
    },
    {
     "name": "stdout",
     "output_type": "stream",
     "text": [
      "epoch: 5, [batch: 5376 / 6720], examples_per_second: 3204.6954, train_label_loss: 0.1405, \n"
     ]
    },
    {
     "name": "stdout",
     "output_type": "stream",
     "text": [
      "epoch: 5, [batch: 6048 / 6720], examples_per_second: 3205.1007, train_label_loss: 0.4437, \n"
     ]
    },
    {
     "name": "stdout",
     "output_type": "stream",
     "text": [
      "=============================================================\n",
      "epoch: 5, source_val_acc_label: 0.9388, target_val_acc_label: 0.6996, source_val_label_loss: 0.1816, target_val_label_loss: 2700.9614, \n",
      "=============================================================\n"
     ]
    },
    {
     "name": "stdout",
     "output_type": "stream",
     "text": [
      "Patience (3) exhausted\n"
     ]
    }
   ],
   "source": [
    "###################################\n",
    "# train\n",
    "###################################\n",
    "jig = PTN_Train_Eval_Test_Jig(model, p.BEST_MODEL_PATH, p.device)\n",
    "\n",
    "jig.train(\n",
    "    train_iterable=datasets.source.processed.train,\n",
    "    source_val_iterable=datasets.source.processed.val,\n",
    "    target_val_iterable=datasets.target.processed.val,\n",
    "    num_epochs=p.n_epoch,\n",
    "    num_logs_per_epoch=p.NUM_LOGS_PER_EPOCH,\n",
    "    patience=p.patience,\n",
    "    optimizer=optimizer,\n",
    "    criteria_for_best=p.criteria_for_best,\n",
    ")"
   ]
  },
  {
   "cell_type": "code",
   "execution_count": 23,
   "id": "31e8fabf",
   "metadata": {
    "execution": {
     "iopub.execute_input": "2022-03-20T01:58:38.096461Z",
     "iopub.status.busy": "2022-03-20T01:58:38.096211Z",
     "iopub.status.idle": "2022-03-20T01:58:38.114963Z",
     "shell.execute_reply": "2022-03-20T01:58:38.114563Z"
    },
    "papermill": {
     "duration": 0.047456,
     "end_time": "2022-03-20T01:58:38.115066",
     "exception": false,
     "start_time": "2022-03-20T01:58:38.067610",
     "status": "completed"
    },
    "tags": []
   },
   "outputs": [],
   "source": [
    "total_experiment_time_secs = time.time() - start_time_secs"
   ]
  },
  {
   "cell_type": "code",
   "execution_count": 24,
   "id": "87b9595b",
   "metadata": {
    "execution": {
     "iopub.execute_input": "2022-03-20T01:58:38.172311Z",
     "iopub.status.busy": "2022-03-20T01:58:38.172042Z",
     "iopub.status.idle": "2022-03-20T02:01:08.078452Z",
     "shell.execute_reply": "2022-03-20T02:01:08.078023Z"
    },
    "papermill": {
     "duration": 149.936519,
     "end_time": "2022-03-20T02:01:08.078566",
     "exception": false,
     "start_time": "2022-03-20T01:58:38.142047",
     "status": "completed"
    },
    "tags": []
   },
   "outputs": [],
   "source": [
    "###################################\n",
    "# Evaluate the model\n",
    "###################################\n",
    "source_test_label_accuracy, source_test_label_loss = jig.test(datasets.source.processed.test)\n",
    "target_test_label_accuracy, target_test_label_loss = jig.test(datasets.target.processed.test)\n",
    "\n",
    "source_val_label_accuracy, source_val_label_loss = jig.test(datasets.source.processed.val)\n",
    "target_val_label_accuracy, target_val_label_loss = jig.test(datasets.target.processed.val)\n",
    "\n",
    "history = jig.get_history()\n",
    "\n",
    "total_epochs_trained = len(history[\"epoch_indices\"])\n",
    "\n",
    "val_dl = Iterable_Aggregator((datasets.source.original.val,datasets.target.original.val))\n",
    "\n",
    "confusion = ptn_confusion_by_domain_over_dataloader(model, p.device, val_dl)\n",
    "per_domain_accuracy = per_domain_accuracy_from_confusion(confusion)\n",
    "\n",
    "# Add a key to per_domain_accuracy for if it was a source domain\n",
    "for domain, accuracy in per_domain_accuracy.items():\n",
    "    per_domain_accuracy[domain] = {\n",
    "        \"accuracy\": accuracy,\n",
    "        \"source?\": domain in p.domains_source\n",
    "    }\n",
    "\n",
    "# Do an independent accuracy assesment JUST TO BE SURE!\n",
    "# _source_test_label_accuracy = independent_accuracy_assesment(model, datasets.source.processed.test, p.device)\n",
    "# _target_test_label_accuracy = independent_accuracy_assesment(model, datasets.target.processed.test, p.device)\n",
    "# _source_val_label_accuracy = independent_accuracy_assesment(model, datasets.source.processed.val, p.device)\n",
    "# _target_val_label_accuracy = independent_accuracy_assesment(model, datasets.target.processed.val, p.device)\n",
    "\n",
    "# assert(_source_test_label_accuracy == source_test_label_accuracy)\n",
    "# assert(_target_test_label_accuracy == target_test_label_accuracy)\n",
    "# assert(_source_val_label_accuracy == source_val_label_accuracy)\n",
    "# assert(_target_val_label_accuracy == target_val_label_accuracy)\n",
    "\n",
    "experiment = {\n",
    "    \"experiment_name\": p.experiment_name,\n",
    "    \"parameters\": dict(p),\n",
    "    \"results\": {\n",
    "        \"source_test_label_accuracy\": source_test_label_accuracy,\n",
    "        \"source_test_label_loss\": source_test_label_loss,\n",
    "        \"target_test_label_accuracy\": target_test_label_accuracy,\n",
    "        \"target_test_label_loss\": target_test_label_loss,\n",
    "        \"source_val_label_accuracy\": source_val_label_accuracy,\n",
    "        \"source_val_label_loss\": source_val_label_loss,\n",
    "        \"target_val_label_accuracy\": target_val_label_accuracy,\n",
    "        \"target_val_label_loss\": target_val_label_loss,\n",
    "        \"total_epochs_trained\": total_epochs_trained,\n",
    "        \"total_experiment_time_secs\": total_experiment_time_secs,\n",
    "        \"confusion\": confusion,\n",
    "        \"per_domain_accuracy\": per_domain_accuracy,\n",
    "    },\n",
    "    \"history\": history,\n",
    "    \"dataset_metrics\": get_dataset_metrics(datasets, \"ptn\"),\n",
    "}"
   ]
  },
  {
   "cell_type": "code",
   "execution_count": 25,
   "id": "54a21829",
   "metadata": {
    "execution": {
     "iopub.execute_input": "2022-03-20T02:01:08.138259Z",
     "iopub.status.busy": "2022-03-20T02:01:08.136879Z",
     "iopub.status.idle": "2022-03-20T02:01:08.254085Z",
     "shell.execute_reply": "2022-03-20T02:01:08.254507Z"
    },
    "papermill": {
     "duration": 0.146705,
     "end_time": "2022-03-20T02:01:08.254645",
     "exception": false,
     "start_time": "2022-03-20T02:01:08.107940",
     "status": "completed"
    },
    "tags": []
   },
   "outputs": [
    {
     "data": {
      "image/png": "[encoded data removed]",
      "text/plain": [
       "<Figure size 1080x504 with 1 Axes>"
      ]
     },
     "metadata": {
      "needs_background": "light"
     },
     "output_type": "display_data"
    }
   ],
   "source": [
    "ax = get_loss_curve(experiment)\n",
    "plt.show()"
   ]
  },
  {
   "cell_type": "code",
   "execution_count": 26,
   "id": "fd8a0f60",
   "metadata": {
    "execution": {
     "iopub.execute_input": "2022-03-20T02:01:08.316560Z",
     "iopub.status.busy": "2022-03-20T02:01:08.316302Z",
     "iopub.status.idle": "2022-03-20T02:01:08.463816Z",
     "shell.execute_reply": "2022-03-20T02:01:08.463546Z"
    },
    "papermill": {
     "duration": 0.175492,
     "end_time": "2022-03-20T02:01:08.463879",
     "exception": false,
     "start_time": "2022-03-20T02:01:08.288387",
     "status": "completed"
    },
    "tags": []
   },
   "outputs": [
    {
     "data": {
      "text/plain": [
       "<AxesSubplot:title={'center':'Results'}>"
      ]
     },
     "execution_count": 26,
     "metadata": {},
     "output_type": "execute_result"
    },
    {
     "data": {
      "image/png": "[encoded data removed]",
      "text/plain": [
       "<Figure size 1080x504 with 1 Axes>"
      ]
     },
     "metadata": {
      "needs_background": "light"
     },
     "output_type": "display_data"
    }
   ],
   "source": [
    "get_results_table(experiment)"
   ]
  },
  {
   "cell_type": "code",
   "execution_count": 27,
   "id": "cf8dc689",
   "metadata": {
    "execution": {
     "iopub.execute_input": "2022-03-20T02:01:08.520973Z",
     "iopub.status.busy": "2022-03-20T02:01:08.520542Z",
     "iopub.status.idle": "2022-03-20T02:01:08.670394Z",
     "shell.execute_reply": "2022-03-20T02:01:08.669899Z"
    },
    "papermill": {
     "duration": 0.179003,
     "end_time": "2022-03-20T02:01:08.670502",
     "exception": false,
     "start_time": "2022-03-20T02:01:08.491499",
     "status": "completed"
    },
    "tags": []
   },
   "outputs": [
    {
     "data": {
      "text/plain": [
       "<AxesSubplot:title={'center':'Per Domain Validation Accuracy'}, xlabel='domain'>"
      ]
     },
     "execution_count": 27,
     "metadata": {},
     "output_type": "execute_result"
    },
    {
     "data": {
      "image/png": "[encoded data removed]",
      "text/plain": [
       "<Figure size 1080x504 with 1 Axes>"
      ]
     },
     "metadata": {
      "needs_background": "light"
     },
     "output_type": "display_data"
    }
   ],
   "source": [
    "get_domain_accuracies(experiment)"
   ]
  },
  {
   "cell_type": "code",
   "execution_count": 28,
   "id": "a74ae082",
   "metadata": {
    "execution": {
     "iopub.execute_input": "2022-03-20T02:01:08.735690Z",
     "iopub.status.busy": "2022-03-20T02:01:08.733864Z",
     "iopub.status.idle": "2022-03-20T02:01:08.749491Z",
     "shell.execute_reply": "2022-03-20T02:01:08.749002Z"
    },
    "papermill": {
     "duration": 0.046825,
     "end_time": "2022-03-20T02:01:08.749596",
     "exception": false,
     "start_time": "2022-03-20T02:01:08.702771",
     "status": "completed"
    },
    "tags": []
   },
   "outputs": [
    {
     "name": "stdout",
     "output_type": "stream",
     "text": [
      "Source Test Label Accuracy: 0.5597981770833333 Target Test Label Accuracy: 0.8497071890145396\n",
      "Source Val Label Accuracy: 0.5545572916666667 Target Val Label Accuracy: 0.8528524410312671\n"
     ]
    }
   ],
   "source": [
    "print(\"Source Test Label Accuracy:\", experiment[\"results\"][\"source_test_label_accuracy\"], \"Target Test Label Accuracy:\", experiment[\"results\"][\"target_test_label_accuracy\"])\n",
    "print(\"Source Val Label Accuracy:\", experiment[\"results\"][\"source_val_label_accuracy\"], \"Target Val Label Accuracy:\", experiment[\"results\"][\"target_val_label_accuracy\"])"
   ]
  },
  {
   "cell_type": "code",
   "execution_count": 29,
   "id": "dacca602",
   "metadata": {
    "execution": {
     "iopub.execute_input": "2022-03-20T02:01:08.815922Z",
     "iopub.status.busy": "2022-03-20T02:01:08.815669Z",
     "iopub.status.idle": "2022-03-20T02:01:08.836030Z",
     "shell.execute_reply": "2022-03-20T02:01:08.836428Z"
    },
    "papermill": {
     "duration": 0.05263,
     "end_time": "2022-03-20T02:01:08.836559",
     "exception": false,
     "start_time": "2022-03-20T02:01:08.783929",
     "status": "completed"
    },
    "tags": [
     "experiment_json"
    ]
   },
   "outputs": [
    {
     "data": {
      "text/plain": [
       "'{\"experiment_name\": \"tl_2v2:oracle.run1.framed -> cores+wisig\", \"parameters\": {\"experiment_name\": \"tl_2v2:oracle.run1.framed -> cores+wisig\", \"device\": \"cuda\", \"lr\": 0.0001, \"n_shot\": 3, \"n_query\": 2, \"train_k_factor\": 3, \"val_k_factor\": 2, \"test_k_factor\": 2, \"torch_default_dtype\": \"torch.float32\", \"n_epoch\": 50, \"patience\": 3, \"criteria_for_best\": \"target_accuracy\", \"x_net\": [{\"class\": \"nnReshape\", \"kargs\": {\"shape\": [-1, 1, 2, 256]}}, {\"class\": \"Conv2d\", \"kargs\": {\"in_channels\": 1, \"out_channels\": 256, \"kernel_size\": [1, 7], \"bias\": false, \"padding\": [0, 3]}}, {\"class\": \"ReLU\", \"kargs\": {\"inplace\": true}}, {\"class\": \"BatchNorm2d\", \"kargs\": {\"num_features\": 256}}, {\"class\": \"Conv2d\", \"kargs\": {\"in_channels\": 256, \"out_channels\": 80, \"kernel_size\": [2, 7], \"bias\": true, \"padding\": [0, 3]}}, {\"class\": \"ReLU\", \"kargs\": {\"inplace\": true}}, {\"class\": \"BatchNorm2d\", \"kargs\": {\"num_features\": 80}}, {\"class\": \"Flatten\", \"kargs\": {}}, {\"class\": \"Linear\", \"kargs\": {\"in_features\": 20480, \"out_features\": 256}}, {\"class\": \"ReLU\", \"kargs\": {\"inplace\": true}}, {\"class\": \"BatchNorm1d\", \"kargs\": {\"num_features\": 256}}, {\"class\": \"Linear\", \"kargs\": {\"in_features\": 256, \"out_features\": 256}}], \"NUM_LOGS_PER_EPOCH\": 10, \"BEST_MODEL_PATH\": \"./best_model.pth\", \"n_way\": 16, \"datasets\": [{\"labels\": [\"1-10.\", \"1-11.\", \"1-15.\", \"1-16.\", \"1-17.\", \"1-18.\", \"1-19.\", \"10-4.\", \"10-7.\", \"11-1.\", \"11-14.\", \"11-17.\", \"11-20.\", \"11-7.\", \"13-20.\", \"13-8.\", \"14-10.\", \"14-11.\", \"14-14.\", \"14-7.\", \"15-1.\", \"15-20.\", \"16-1.\", \"16-16.\", \"17-10.\", \"17-11.\", \"17-2.\", \"19-1.\", \"19-16.\", \"19-19.\", \"19-20.\", \"19-3.\", \"2-10.\", \"2-11.\", \"2-17.\", \"2-18.\", \"2-20.\", \"2-3.\", \"2-4.\", \"2-5.\", \"2-6.\", \"2-7.\", \"2-8.\", \"3-13.\", \"3-18.\", \"3-3.\", \"4-1.\", \"4-10.\", \"4-11.\", \"4-19.\", \"5-5.\", \"6-15.\", \"7-10.\", \"7-14.\", \"8-18.\", \"8-20.\", \"8-3.\", \"8-8.\"], \"domains\": [1, 2, 3, 4, 5], \"num_examples_per_domain_per_label\": -1, \"pickle_path\": \"/mnt/wd500GB/CSC500/csc500-main/datasets/cores.stratified_ds.2022A.pkl\", \"source_or_target_dataset\": \"target\", \"x_transforms\": [], \"episode_transforms\": [], \"domain_prefix\": \"C_\"}, {\"labels\": [\"1-10\", \"1-12\", \"1-14\", \"1-16\", \"1-18\", \"1-19\", \"1-8\", \"10-11\", \"10-17\", \"10-4\", \"10-7\", \"11-1\", \"11-10\", \"11-19\", \"11-20\", \"11-4\", \"11-7\", \"12-19\", \"12-20\", \"12-7\", \"13-14\", \"13-18\", \"13-19\", \"13-20\", \"13-3\", \"13-7\", \"14-10\", \"14-11\", \"14-12\", \"14-13\", \"14-14\", \"14-19\", \"14-20\", \"14-7\", \"14-8\", \"14-9\", \"15-1\", \"15-19\", \"15-6\", \"16-1\", \"16-16\", \"16-19\", \"16-20\", \"17-10\", \"17-11\", \"18-1\", \"18-10\", \"18-11\", \"18-12\", \"18-13\", \"18-14\", \"18-15\", \"18-16\", \"18-17\", \"18-19\", \"18-2\", \"18-20\", \"18-4\", \"18-5\", \"18-7\", \"18-8\", \"18-9\", \"19-1\", \"19-10\", \"19-11\", \"19-12\", \"19-13\", \"19-14\", \"19-15\", \"19-19\", \"19-2\", \"19-20\", \"19-3\", \"19-4\", \"19-6\", \"19-7\", \"19-8\", \"19-9\", \"2-1\", \"2-13\", \"2-15\", \"2-3\", \"2-4\", \"2-5\", \"2-6\", \"2-7\", \"2-8\", \"20-1\", \"20-12\", \"20-14\", \"20-15\", \"20-16\", \"20-18\", \"20-19\", \"20-20\", \"20-3\", \"20-4\", \"20-5\", \"20-7\", \"20-8\", \"3-1\", \"3-13\", \"3-18\", \"3-2\", \"3-8\", \"4-1\", \"4-10\", \"4-11\", \"5-1\", \"5-5\", \"6-1\", \"6-15\", \"6-6\", \"7-10\", \"7-11\", \"7-12\", \"7-13\", \"7-14\", \"7-7\", \"7-8\", \"7-9\", \"8-1\", \"8-13\", \"8-14\", \"8-18\", \"8-20\", \"8-3\", \"8-8\", \"9-1\", \"9-7\"], \"domains\": [1, 2, 3, 4], \"num_examples_per_domain_per_label\": -1, \"pickle_path\": \"/mnt/wd500GB/CSC500/csc500-main/datasets/wisig.node3-19.stratified_ds.2022A.pkl\", \"source_or_target_dataset\": \"target\", \"x_transforms\": [], \"episode_transforms\": [], \"domain_prefix\": \"W_\"}, {\"labels\": [\"3123D52\", \"3123D65\", \"3123D79\", \"3123D80\", \"3123D54\", \"3123D70\", \"3123D7B\", \"3123D89\", \"3123D58\", \"3123D76\", \"3123D7D\", \"3123EFE\", \"3123D64\", \"3123D78\", \"3123D7E\", \"3124E4A\"], \"domains\": [32, 38, 8, 44, 14, 50, 20, 26], \"num_examples_per_domain_per_label\": 2000, \"pickle_path\": \"/mnt/wd500GB/CSC500/csc500-main/datasets/oracle.Run1_framed_2000Examples_stratified_ds.2022A.pkl\", \"source_or_target_dataset\": \"source\", \"x_transforms\": [], \"episode_transforms\": [], \"domain_prefix\": \"O_\"}], \"seed\": 500, \"dataset_seed\": 500, \"x_shape\": [2, 256], \"domains_source\": [\"O_32\", \"O_38\", \"O_8\", \"O_44\", \"O_14\", \"O_50\", \"O_20\", \"O_26\"], \"domains_target\": [\"C_1\", \"C_2\", \"C_3\", \"C_4\", \"C_5\", \"W_1\", \"W_2\", \"W_3\", \"W_4\"]}, \"results\": {\"source_test_label_accuracy\": 0.5597981770833333, \"source_test_label_loss\": 304.8207702636719, \"target_test_label_accuracy\": 0.8497071890145396, \"target_test_label_loss\": 11011.7470703125, \"source_val_label_accuracy\": 0.5545572916666667, \"source_val_label_loss\": 308.9756164550781, \"target_val_label_accuracy\": 0.8528524410312671, \"target_val_label_loss\": 10639.3662109375, \"total_epochs_trained\": 5, \"total_experiment_time_secs\": 970.9433550834656, \"confusion\": {\"O_50\": {\"7\": {\"7\": 232, \"5\": 7, \"4\": 1}, \"10\": {\"10\": 233, \"8\": 4, \"0\": 3}, \"0\": {\"0\": 213, \"2\": 21, \"10\": 6}, \"11\": {\"11\": 238, \"15\": 1, \"12\": 1}, \"2\": {\"2\": 226, \"0\": 14}, \"14\": {\"14\": 240}, \"9\": {\"11\": 11, \"9\": 211, \"12\": 18}, \"13\": {\"13\": 238, \"1\": 2}, \"8\": {\"8\": 236, \"10\": 4}, \"15\": {\"15\": 231, \"6\": 7, \"11\": 1, \"5\": 1}, \"4\": {\"4\": 194, \"7\": 17, \"5\": 14, \"6\": 3, \"15\": 12}, \"5\": {\"4\": 7, \"7\": 55, \"5\": 111, \"13\": 3, \"15\": 4, \"6\": 51, \"1\": 9}, \"3\": {\"3\": 240}, \"1\": {\"1\": 235, \"13\": 4, \"15\": 1}, \"6\": {\"5\": 46, \"6\": 190, \"13\": 2, \"15\": 2}, \"12\": {\"12\": 232, \"9\": 5, \"11\": 3}}, \"O_14\": {\"14\": {\"0\": 26, \"3\": 23, \"12\": 19, \"6\": 21, \"2\": 30, \"8\": 37, \"5\": 16, \"14\": 32, \"4\": 8, \"15\": 2, \"13\": 11, \"10\": 5, \"7\": 10}, \"6\": {\"13\": 26, \"3\": 36, \"9\": 1, \"8\": 20, \"6\": 29, \"15\": 14, \"12\": 21, \"14\": 17, \"0\": 22, \"2\": 21, \"4\": 7, \"7\": 11, \"5\": 12, \"10\": 3}, \"5\": {\"7\": 28, \"14\": 20, \"4\": 42, \"5\": 28, \"2\": 35, \"9\": 7, \"8\": 20, \"10\": 25, \"3\": 10, \"6\": 6, \"13\": 6, \"1\": 7, \"0\": 6}, \"15\": {\"15\": 221, \"6\": 3, \"0\": 3, \"13\": 6, \"3\": 3, \"12\": 4}, \"11\": {\"11\": 181, \"1\": 56, \"4\": 2, \"10\": 1}, \"8\": {\"8\": 29, \"9\": 8, \"0\": 25, \"14\": 36, \"2\": 20, \"6\": 13, \"5\": 19, \"3\": 21, \"12\": 22, \"4\": 11, \"10\": 10, \"13\": 14, \"7\": 12}, \"12\": {\"3\": 26, \"5\": 3, \"13\": 16, \"12\": 76, \"0\": 34, \"8\": 24, \"14\": 18, \"6\": 17, \"15\": 12, \"10\": 5, \"9\": 3, \"2\": 6}, \"1\": {\"4\": 33, \"1\": 139, \"10\": 19, \"11\": 34, \"5\": 6, \"7\": 3, \"9\": 6}, \"2\": {\"6\": 20, \"2\": 32, \"7\": 22, \"4\": 25, \"0\": 13, \"1\": 8, \"3\": 12, \"8\": 17, \"14\": 23, \"9\": 7, \"5\": 18, \"13\": 18, \"10\": 18, \"12\": 7}, \"13\": {\"14\": 19, \"9\": 8, \"3\": 25, \"8\": 19, \"13\": 20, \"7\": 7, \"10\": 10, \"12\": 13, \"2\": 18, \"15\": 20, \"0\": 16, \"4\": 12, \"5\": 30, \"1\": 2, \"6\": 21}, \"3\": {\"3\": 44, \"5\": 9, \"13\": 25, \"8\": 22, \"6\": 29, \"14\": 13, \"12\": 32, \"15\": 10, \"2\": 10, \"0\": 39, \"4\": 2, \"10\": 2, \"7\": 3}, \"0\": {\"0\": 38, \"9\": 7, \"12\": 45, \"3\": 27, \"1\": 1, \"8\": 26, \"14\": 23, \"6\": 24, \"10\": 8, \"15\": 11, \"2\": 9, \"7\": 1, \"5\": 12, \"13\": 7, \"4\": 1}, \"9\": {\"5\": 21, \"9\": 61, \"10\": 63, \"2\": 12, \"1\": 8, \"4\": 26, \"13\": 7, \"0\": 12, \"8\": 10, \"7\": 3, \"14\": 14, \"6\": 2, \"12\": 1}, \"4\": {\"5\": 33, \"4\": 66, \"1\": 30, \"7\": 20, \"10\": 50, \"9\": 12, \"13\": 3, \"2\": 11, \"14\": 5, \"11\": 2, \"0\": 1, \"8\": 4, \"6\": 2, \"3\": 1}, \"7\": {\"5\": 36, \"7\": 50, \"4\": 44, \"1\": 14, \"6\": 14, \"13\": 15, \"2\": 21, \"14\": 13, \"10\": 10, \"8\": 9, \"3\": 3, \"0\": 9, \"12\": 1, \"9\": 1}, \"10\": {\"5\": 23, \"4\": 61, \"9\": 55, \"7\": 6, \"1\": 9, \"10\": 56, \"8\": 8, \"3\": 1, \"2\": 10, \"13\": 3, \"14\": 6, \"0\": 1, \"12\": 1}}, \"O_32\": {\"4\": {\"2\": 64, \"14\": 6, \"4\": 147, \"8\": 12, \"0\": 4, \"5\": 1, \"13\": 6}, \"14\": {\"13\": 26, \"14\": 105, \"7\": 40, \"0\": 18, \"5\": 30, \"2\": 3, \"8\": 14, \"4\": 3, \"3\": 1}, \"5\": {\"8\": 47, \"5\": 100, \"0\": 48, \"7\": 35, \"14\": 9, \"2\": 1}, \"10\": {\"10\": 240}, \"13\": {\"13\": 110, \"3\": 47, \"8\": 27, \"4\": 18, \"14\": 25, \"11\": 11, \"2\": 1, \"0\": 1}, \"9\": {\"9\": 236, \"12\": 3, \"2\": 1}, \"6\": {\"6\": 235, \"12\": 1, \"10\": 1, \"11\": 3}, \"3\": {\"13\": 30, \"3\": 172, \"11\": 38}, \"15\": {\"15\": 224, \"13\": 3, \"8\": 10, \"3\": 3}, \"7\": {\"0\": 65, \"7\": 116, \"14\": 15, \"5\": 36, \"2\": 2, \"8\": 6}, \"12\": {\"12\": 240}, \"8\": {\"8\": 144, \"5\": 44, \"4\": 5, \"14\": 18, \"7\": 5, \"13\": 11, \"15\": 2, \"0\": 11}, \"11\": {\"11\": 189, \"3\": 45, \"13\": 6}, \"2\": {\"2\": 207, \"8\": 1, \"4\": 24, \"0\": 5, \"7\": 2, \"14\": 1}, \"1\": {\"1\": 232, \"10\": 8}, \"0\": {\"0\": 125, \"14\": 6, \"7\": 49, \"2\": 19, \"5\": 26, \"8\": 12, \"4\": 3}}, \"O_44\": {\"8\": {\"0\": 70, \"8\": 161, \"5\": 4, \"15\": 5}, \"11\": {\"11\": 240}, \"14\": {\"14\": 186, \"4\": 39, \"15\": 6, \"5\": 9}, \"10\": {\"10\": 215, \"2\": 11, \"1\": 7, \"12\": 1, \"7\": 6}, \"3\": {\"1\": 22, \"3\": 210, \"12\": 8}, \"15\": {\"15\": 207, \"14\": 13, \"8\": 11, \"0\": 1, \"5\": 7, \"4\": 1}, \"2\": {\"2\": 208, \"1\": 11, \"7\": 11, \"10\": 10}, \"12\": {\"12\": 226, \"3\": 6, \"1\": 8}, \"4\": {\"14\": 92, \"4\": 147, \"15\": 1}, \"1\": {\"1\": 214, \"7\": 1, \"2\": 18, \"3\": 3, \"12\": 2, \"10\": 2}, \"0\": {\"0\": 198, \"8\": 41, \"15\": 1}, \"9\": {\"6\": 27, \"7\": 70, \"9\": 117, \"13\": 24, \"11\": 1, \"2\": 1}, \"5\": {\"5\": 210, \"8\": 5, \"14\": 6, \"15\": 16, \"4\": 1, \"0\": 2}, \"6\": {\"6\": 198, \"13\": 36, \"9\": 6}, \"7\": {\"7\": 196, \"9\": 35, \"10\": 3, \"2\": 4, \"6\": 2}, \"13\": {\"13\": 188, \"6\": 45, \"9\": 5, \"11\": 2}}, \"O_8\": {\"13\": {\"10\": 26, \"8\": 4, \"7\": 23, \"14\": 10, \"6\": 23, \"5\": 36, \"15\": 11, \"13\": 44, \"1\": 19, \"11\": 15, \"4\": 15, \"2\": 3, \"12\": 10, \"3\": 1}, \"3\": {\"9\": 35, \"3\": 127, \"15\": 26, \"2\": 40, \"12\": 12}, \"15\": {\"13\": 7, \"3\": 32, \"15\": 61, \"12\": 65, \"5\": 10, \"2\": 60, \"1\": 2, \"11\": 2, \"10\": 1}, \"4\": {\"8\": 13, \"6\": 27, \"14\": 70, \"4\": 56, \"7\": 27, \"11\": 12, \"13\": 7, \"10\": 13, \"0\": 6, \"1\": 6, \"5\": 3}, \"7\": {\"7\": 42, \"13\": 33, \"11\": 14, \"6\": 34, \"10\": 21, \"14\": 19, \"4\": 24, \"5\": 21, \"15\": 3, \"8\": 11, \"1\": 14, \"12\": 3, \"2\": 1}, \"2\": {\"3\": 64, \"2\": 77, \"5\": 4, \"12\": 32, \"15\": 42, \"9\": 6, \"7\": 3, \"11\": 1, \"13\": 5, \"10\": 1, \"1\": 4, \"8\": 1}, \"1\": {\"10\": 27, \"1\": 33, \"11\": 31, \"15\": 9, \"4\": 16, \"13\": 36, \"8\": 15, \"7\": 14, \"6\": 14, \"5\": 28, \"2\": 1, \"12\": 6, \"14\": 10}, \"0\": {\"0\": 215, \"4\": 6, \"14\": 13, \"8\": 4, \"1\": 1, \"6\": 1}, \"12\": {\"3\": 24, \"13\": 12, \"15\": 56, \"5\": 18, \"12\": 67, \"10\": 2, \"2\": 44, \"1\": 11, \"7\": 5, \"8\": 1}, \"6\": {\"6\": 35, \"4\": 27, \"10\": 15, \"14\": 36, \"13\": 25, \"7\": 31, \"8\": 21, \"1\": 17, \"2\": 2, \"5\": 13, \"11\": 14, \"0\": 2, \"12\": 2}, \"11\": {\"8\": 27, \"6\": 28, \"14\": 17, \"1\": 36, \"11\": 32, \"15\": 4, \"10\": 23, \"7\": 17, \"5\": 19, \"12\": 6, \"2\": 3, \"4\": 15, \"13\": 13}, \"9\": {\"3\": 18, \"9\": 222}, \"5\": {\"7\": 16, \"2\": 11, \"8\": 6, \"14\": 3, \"11\": 13, \"5\": 35, \"1\": 32, \"10\": 21, \"13\": 26, \"15\": 18, \"12\": 34, \"4\": 10, \"6\": 15}, \"10\": {\"13\": 32, \"1\": 21, \"7\": 22, \"10\": 30, \"8\": 6, \"14\": 15, \"5\": 40, \"11\": 15, \"4\": 19, \"2\": 1, \"6\": 26, \"12\": 10, \"15\": 3}, \"14\": {\"6\": 22, \"14\": 93, \"4\": 65, \"11\": 10, \"0\": 10, \"1\": 4, \"13\": 3, \"8\": 14, \"7\": 11, \"5\": 4, \"10\": 4}, \"8\": {\"8\": 60, \"4\": 33, \"14\": 30, \"10\": 13, \"6\": 27, \"1\": 12, \"5\": 5, \"11\": 25, \"7\": 17, \"13\": 9, \"0\": 9}}, \"O_20\": {\"6\": {\"13\": 13, \"15\": 9, \"4\": 27, \"10\": 50, \"12\": 12, \"8\": 8, \"1\": 11, \"7\": 23, \"6\": 31, \"3\": 4, \"2\": 16, \"5\": 9, \"9\": 22, \"14\": 4, \"11\": 1}, \"11\": {\"3\": 15, \"11\": 67, \"0\": 68, \"1\": 8, \"15\": 3, \"14\": 13, \"5\": 12, \"8\": 28, \"9\": 7, \"2\": 5, \"6\": 4, \"7\": 5, \"4\": 1, \"13\": 2, \"12\": 1, \"10\": 1}, \"5\": {\"0\": 45, \"15\": 9, \"5\": 20, \"1\": 31, \"6\": 10, \"8\": 19, \"9\": 16, \"11\": 23, \"12\": 13, \"2\": 10, \"3\": 20, \"14\": 6, \"7\": 8, \"13\": 5, \"4\": 5}, \"14\": {\"14\": 34, \"6\": 21, \"8\": 26, \"12\": 11, \"2\": 13, \"1\": 13, \"11\": 10, \"4\": 15, \"7\": 12, \"13\": 2, \"5\": 13, \"15\": 4, \"3\": 21, \"0\": 18, \"10\": 15, \"9\": 12}, \"2\": {\"15\": 21, \"1\": 21, \"12\": 28, \"2\": 27, \"5\": 9, \"4\": 12, \"7\": 22, \"3\": 17, \"10\": 16, \"8\": 9, \"6\": 11, \"14\": 4, \"13\": 25, \"0\": 4, \"9\": 12, \"11\": 2}, \"7\": {\"15\": 12, \"9\": 18, \"5\": 16, \"7\": 26, \"11\": 7, \"8\": 8, \"13\": 20, \"1\": 17, \"6\": 15, \"10\": 17, \"12\": 19, \"4\": 15, \"2\": 32, \"3\": 12, \"0\": 3, \"14\": 3}, \"3\": {\"4\": 8, \"8\": 18, \"7\": 9, \"5\": 19, \"0\": 35, \"1\": 23, \"3\": 18, \"9\": 22, \"2\": 17, \"13\": 13, \"11\": 16, \"14\": 11, \"12\": 8, \"15\": 9, \"10\": 6, \"6\": 8}, \"4\": {\"10\": 35, \"9\": 21, \"7\": 21, \"4\": 21, \"12\": 20, \"13\": 15, \"5\": 19, \"2\": 17, \"1\": 15, \"3\": 11, \"15\": 18, \"6\": 11, \"8\": 10, \"14\": 3, \"11\": 3}, \"9\": {\"9\": 22, \"2\": 22, \"12\": 19, \"4\": 17, \"7\": 13, \"15\": 17, \"1\": 18, \"13\": 19, \"3\": 16, \"11\": 4, \"8\": 17, \"6\": 17, \"10\": 7, \"14\": 4, \"5\": 21, \"0\": 7}, \"12\": {\"7\": 13, \"12\": 20, \"4\": 14, \"5\": 16, \"2\": 28, \"3\": 9, \"13\": 30, \"15\": 24, \"6\": 17, \"9\": 19, \"1\": 14, \"0\": 5, \"10\": 13, \"8\": 10, \"11\": 1, \"14\": 7}, \"0\": {\"0\": 124, \"11\": 46, \"1\": 13, \"8\": 19, \"12\": 2, \"7\": 2, \"5\": 13, \"3\": 9, \"15\": 6, \"2\": 2, \"9\": 3, \"13\": 1}, \"10\": {\"10\": 99, \"4\": 39, \"13\": 19, \"2\": 15, \"6\": 23, \"5\": 1, \"1\": 3, \"9\": 6, \"15\": 9, \"7\": 9, \"3\": 4, \"12\": 11, \"14\": 2}, \"8\": {\"8\": 24, \"11\": 25, \"2\": 16, \"1\": 11, \"12\": 9, \"3\": 26, \"0\": 33, \"6\": 9, \"7\": 9, \"14\": 13, \"10\": 5, \"5\": 25, \"9\": 16, \"4\": 10, \"15\": 8, \"13\": 1}, \"13\": {\"10\": 21, \"9\": 15, \"12\": 28, \"13\": 41, \"5\": 9, \"2\": 30, \"3\": 10, \"7\": 20, \"1\": 18, \"15\": 24, \"4\": 9, \"8\": 3, \"6\": 9, \"0\": 1, \"14\": 2}, \"1\": {\"9\": 16, \"6\": 4, \"0\": 23, \"15\": 17, \"3\": 26, \"13\": 14, \"5\": 23, \"1\": 31, \"8\": 20, \"4\": 11, \"12\": 16, \"2\": 13, \"14\": 8, \"11\": 13, \"7\": 4, \"10\": 1}, \"15\": {\"7\": 17, \"9\": 16, \"15\": 20, \"5\": 22, \"12\": 23, \"13\": 38, \"3\": 18, \"1\": 25, \"10\": 3, \"4\": 13, \"14\": 7, \"8\": 12, \"2\": 8, \"0\": 7, \"6\": 8, \"11\": 3}}, \"O_38\": {\"3\": {\"3\": 240}, \"8\": {\"8\": 167, \"5\": 59, \"7\": 10, \"13\": 1, \"15\": 2, \"0\": 1}, \"0\": {\"0\": 179, \"7\": 23, \"10\": 25, \"13\": 7, \"3\": 2, \"5\": 1, \"8\": 3}, \"2\": {\"2\": 231, \"14\": 8, \"13\": 1}, \"4\": {\"4\": 240}, \"7\": {\"7\": 237, \"5\": 1, \"8\": 1, \"0\": 1}, \"12\": {\"12\": 240}, \"6\": {\"6\": 240}, \"15\": {\"15\": 229, \"5\": 5, \"1\": 4, \"8\": 2}, \"11\": {\"11\": 231, \"0\": 1, \"3\": 6, \"8\": 1, \"10\": 1}, \"9\": {\"9\": 239, \"5\": 1}, \"14\": {\"14\": 239, \"2\": 1}, \"10\": {\"10\": 219, \"13\": 8, \"0\": 13}, \"5\": {\"5\": 139, \"8\": 70, \"7\": 16, \"15\": 3, \"9\": 11, \"0\": 1}, \"1\": {\"1\": 239, \"6\": 1}, \"13\": {\"10\": 7, \"13\": 225, \"2\": 1, \"0\": 7}}, \"O_26\": {\"5\": {\"15\": 82, \"10\": 11, \"1\": 10, \"14\": 6, \"5\": 75, \"0\": 8, \"6\": 34, \"7\": 1, \"2\": 2, \"12\": 3, \"3\": 1, \"9\": 4, \"8\": 2, \"13\": 1}, \"8\": {\"10\": 14, \"2\": 29, \"13\": 24, \"3\": 17, \"1\": 8, \"14\": 19, \"7\": 28, \"12\": 20, \"8\": 25, \"0\": 19, \"15\": 6, \"4\": 5, \"9\": 17, \"5\": 6, \"6\": 3}, \"4\": {\"4\": 111, \"7\": 17, \"3\": 56, \"13\": 35, \"9\": 9, \"2\": 8, \"8\": 3, \"12\": 1}, \"12\": {\"2\": 11, \"3\": 7, \"6\": 42, \"1\": 4, \"7\": 16, \"10\": 15, \"12\": 16, \"9\": 14, \"13\": 11, \"11\": 45, \"14\": 7, \"5\": 6, \"15\": 15, \"4\": 3, \"0\": 14, \"8\": 14}, \"6\": {\"6\": 164, \"15\": 34, \"5\": 7, \"14\": 5, \"10\": 10, \"12\": 1, \"11\": 7, \"1\": 6, \"8\": 2, \"0\": 3, \"2\": 1}, \"7\": {\"4\": 25, \"7\": 29, \"8\": 27, \"1\": 4, \"9\": 33, \"10\": 4, \"3\": 32, \"15\": 4, \"13\": 23, \"2\": 23, \"14\": 11, \"0\": 11, \"12\": 11, \"5\": 3}, \"10\": {\"2\": 4, \"6\": 51, \"7\": 3, \"5\": 10, \"15\": 40, \"1\": 19, \"14\": 34, \"12\": 6, \"10\": 35, \"0\": 30, \"8\": 3, \"4\": 1, \"3\": 1, \"9\": 2, \"11\": 1}, \"0\": {\"9\": 11, \"15\": 23, \"1\": 22, \"5\": 8, \"14\": 47, \"0\": 35, \"8\": 11, \"10\": 42, \"6\": 11, \"13\": 5, \"7\": 8, \"2\": 5, \"12\": 11, \"3\": 1}, \"15\": {\"2\": 2, \"15\": 73, \"0\": 11, \"12\": 5, \"5\": 40, \"6\": 59, \"10\": 29, \"1\": 5, \"13\": 2, \"14\": 10, \"9\": 2, \"7\": 2}, \"9\": {\"2\": 22, \"3\": 14, \"14\": 10, \"13\": 26, \"4\": 16, \"9\": 31, \"0\": 17, \"15\": 15, \"8\": 25, \"5\": 3, \"7\": 27, \"10\": 11, \"12\": 14, \"1\": 4, \"6\": 5}, \"11\": {\"11\": 227, \"15\": 1, \"6\": 9, \"5\": 3}, \"14\": {\"2\": 8, \"10\": 36, \"1\": 65, \"14\": 68, \"15\": 12, \"0\": 22, \"6\": 9, \"12\": 8, \"7\": 2, \"3\": 1, \"5\": 4, \"9\": 2, \"8\": 2, \"13\": 1}, \"2\": {\"4\": 12, \"10\": 15, \"9\": 30, \"5\": 8, \"3\": 20, \"8\": 21, \"7\": 20, \"15\": 11, \"13\": 21, \"14\": 16, \"12\": 19, \"0\": 20, \"2\": 19, \"1\": 7, \"6\": 1}, \"13\": {\"4\": 60, \"8\": 16, \"12\": 7, \"9\": 13, \"13\": 41, \"3\": 37, \"10\": 6, \"2\": 22, \"7\": 25, \"0\": 7, \"5\": 2, \"14\": 1, \"1\": 3}, \"3\": {\"2\": 9, \"4\": 52, \"13\": 43, \"9\": 23, \"8\": 9, \"3\": 57, \"7\": 29, \"12\": 7, \"0\": 6, \"5\": 3, \"10\": 2}, \"1\": {\"5\": 6, \"10\": 21, \"7\": 4, \"1\": 97, \"14\": 65, \"6\": 17, \"9\": 2, \"15\": 14, \"0\": 10, \"12\": 1, \"2\": 1, \"8\": 2}}, \"C_4\": {\"38\": {\"49\": 1, \"38\": 33, \"14\": 1, \"37\": 1, \"2\": 2, \"39\": 2}, \"3\": {\"3\": 92, \"44\": 5, \"50\": 9, \"5\": 2, \"6\": 15, \"40\": 1}, \"24\": {\"24\": 56}, \"49\": {\"43\": 8, \"37\": 4, \"35\": 2, \"49\": 5, \"32\": 1}, \"7\": {\"37\": 2, \"7\": 5, \"41\": 4, \"36\": 1, \"43\": 5, \"13\": 1, \"32\": 2, \"38\": 1, \"42\": 1, \"35\": 2}, \"17\": {\"17\": 79, \"51\": 1}, \"43\": {\"43\": 148}, \"30\": {\"30\": 44}, \"44\": {\"44\": 114, \"5\": 4, \"40\": 8, \"3\": 4, \"21\": 2}, \"23\": {\"23\": 99, \"54\": 5, \"55\": 14, \"19\": 20, \"53\": 4, \"31\": 1, \"43\": 1}, \"37\": {\"57\": 2, \"37\": 11, \"38\": 6, \"20\": 1, \"49\": 2, \"7\": 2}, \"4\": {\"4\": 124, \"48\": 3, \"27\": 3, \"9\": 2}, \"57\": {\"57\": 93, \"47\": 1, \"1\": 2, \"29\": 4}, \"16\": {\"16\": 88, \"15\": 6, \"23\": 2}, \"18\": {\"18\": 105, \"11\": 2, \"51\": 1}, \"20\": {\"20\": 122, \"48\": 2}, \"45\": {\"45\": 91, \"21\": 3, \"6\": 1, \"50\": 1}, \"15\": {\"15\": 119, \"16\": 6, \"34\": 1, \"11\": 5, \"31\": 1}, \"52\": {\"52\": 115, \"47\": 1}, \"19\": {\"19\": 126, \"26\": 2, \"23\": 8, \"42\": 2, \"53\": 1, \"25\": 1}, \"54\": {\"54\": 99, \"32\": 1, \"42\": 3, \"55\": 3, \"36\": 1, \"19\": 1}, \"56\": {\"56\": 117, \"0\": 9, \"52\": 3, \"22\": 1}, \"40\": {\"40\": 133, \"3\": 1}, \"28\": {\"28\": 25, \"31\": 2, \"26\": 2, \"34\": 3}, \"2\": {\"2\": 34, \"13\": 2}, \"9\": {\"9\": 115, \"4\": 2, \"48\": 2, \"27\": 1}, \"0\": {\"0\": 73, \"56\": 7}, \"36\": {\"36\": 82, \"33\": 2, \"55\": 1, \"51\": 4, \"39\": 1, \"23\": 1, \"54\": 1}, \"55\": {\"54\": 15, \"55\": 99, \"23\": 7, \"19\": 5, \"42\": 1, \"41\": 3}, \"35\": {\"14\": 2, \"32\": 3, \"35\": 26, \"49\": 1, \"43\": 4, \"42\": 1, \"38\": 2, \"19\": 1}, \"39\": {\"39\": 20}, \"31\": {\"31\": 24, \"41\": 1, \"28\": 1, \"43\": 1, \"7\": 1}, \"14\": {\"14\": 12, \"38\": 1, \"1\": 1, \"13\": 1, \"2\": 1}, \"12\": {\"12\": 90, \"21\": 2}, \"6\": {\"6\": 81, \"50\": 12, \"5\": 4, \"3\": 14, \"44\": 1}, \"26\": {\"51\": 2, \"26\": 14, \"28\": 2, \"54\": 2, \"55\": 1, \"41\": 1, \"53\": 1, \"42\": 1}, \"50\": {\"50\": 93, \"3\": 14, \"44\": 8, \"6\": 10, \"5\": 6, \"45\": 1}, \"21\": {\"21\": 122}, \"46\": {\"46\": 130, \"22\": 9, \"5\": 1}, \"51\": {\"51\": 140}, \"41\": {\"41\": 33, \"29\": 1, \"35\": 1, \"38\": 1}, \"34\": {\"34\": 20, \"28\": 4}, \"47\": {\"47\": 108, \"52\": 1, \"29\": 6, \"57\": 5}, \"5\": {\"5\": 100, \"3\": 4, \"6\": 1, \"44\": 2, \"50\": 1}, \"1\": {\"57\": 1, \"1\": 36, \"47\": 3}, \"48\": {\"48\": 96, \"4\": 11, \"20\": 14, \"8\": 8, \"52\": 1, \"9\": 4}, \"29\": {\"29\": 106, \"1\": 2, \"47\": 6, \"57\": 4}, \"22\": {\"22\": 117, \"56\": 3, \"46\": 6, \"0\": 2}, \"10\": {\"10\": 131, \"11\": 1}, \"32\": {\"32\": 17, \"43\": 2, \"33\": 2, \"37\": 1, \"35\": 1, \"38\": 1}, \"13\": {\"13\": 112}, \"42\": {\"42\": 25, \"41\": 1, \"31\": 1, \"19\": 2, \"55\": 2, \"26\": 1}, \"27\": {\"27\": 132, \"48\": 2, \"8\": 4}, \"8\": {\"8\": 121, \"9\": 6, \"27\": 5, \"48\": 9, \"20\": 1}, \"33\": {\"33\": 36}, \"25\": {\"25\": 126, \"34\": 2, \"15\": 1, \"11\": 1, \"28\": 1, \"18\": 1}, \"11\": {\"11\": 94, \"15\": 8, \"10\": 1, \"16\": 1}, \"53\": {\"53\": 111, \"19\": 1}}, \"C_2\": {\"32\": {\"32\": 28}, \"17\": {\"17\": 104}, \"38\": {\"38\": 19, \"13\": 1}, \"2\": {\"2\": 31, \"57\": 1}, \"43\": {\"43\": 143, \"37\": 1}, \"56\": {\"56\": 142, \"22\": 2}, \"37\": {\"37\": 35, \"33\": 1}, \"49\": {\"49\": 15, \"19\": 2, \"39\": 1, \"23\": 4, \"42\": 1, \"34\": 1}, \"0\": {\"0\": 48}, \"29\": {\"29\": 103, \"41\": 1, \"1\": 8, \"48\": 2, \"57\": 8, \"47\": 3, \"52\": 3}, \"35\": {\"35\": 22, \"23\": 1, \"36\": 4, \"17\": 1, \"54\": 1, \"32\": 1, \"55\": 1, \"7\": 1}, \"18\": {\"18\": 48}, \"25\": {\"25\": 131, \"11\": 1, \"16\": 1, \"34\": 1, \"15\": 2}, \"23\": {\"49\": 1, \"23\": 115, \"7\": 2, \"55\": 2, \"19\": 3, \"34\": 1}, \"15\": {\"15\": 131, \"16\": 14, \"11\": 1}, \"21\": {\"21\": 116, \"46\": 2, \"40\": 2}, \"51\": {\"51\": 122, \"48\": 1, \"36\": 5}, \"20\": {\"8\": 14, \"20\": 121, \"4\": 1, \"40\": 1, \"9\": 1}, \"7\": {\"7\": 28, \"55\": 2, \"23\": 1, \"19\": 3, \"49\": 1, \"34\": 1}, \"50\": {\"50\": 99, \"6\": 7, \"3\": 9, \"46\": 2, \"21\": 3, \"40\": 5, \"44\": 11}, \"31\": {\"31\": 28}, \"30\": {\"30\": 137, \"21\": 2, \"8\": 1}, \"19\": {\"19\": 151, \"49\": 1, \"54\": 1, \"15\": 1, \"53\": 2}, \"9\": {\"8\": 2, \"9\": 136, \"27\": 1, \"4\": 5}, \"52\": {\"52\": 120, \"47\": 1, \"29\": 1, \"30\": 2}, \"45\": {\"45\": 118, \"6\": 2, \"12\": 2, \"44\": 1, \"40\": 2, \"50\": 3}, \"8\": {\"8\": 132, \"27\": 11, \"9\": 4, \"48\": 1, \"20\": 6}, \"55\": {\"55\": 140, \"39\": 4, \"7\": 3, \"35\": 1, \"23\": 6, \"42\": 3, \"54\": 2, \"43\": 1}, \"12\": {\"12\": 88, \"45\": 2, \"3\": 1, \"6\": 1}, \"40\": {\"40\": 124, \"46\": 3, \"21\": 2, \"48\": 2, \"30\": 3, \"50\": 4, \"4\": 1, \"29\": 1}, \"28\": {\"28\": 28}, \"36\": {\"36\": 115, \"17\": 1}, \"39\": {\"39\": 24, \"2\": 1, \"13\": 2, \"38\": 1}, \"46\": {\"46\": 94, \"6\": 2, \"21\": 5, \"5\": 7, \"50\": 3, \"3\": 4, \"44\": 3, \"40\": 3, \"30\": 1}, \"14\": {\"14\": 18, \"22\": 1, \"2\": 4, \"13\": 1}, \"57\": {\"57\": 123, \"33\": 1, \"2\": 1, \"47\": 10, \"1\": 6, \"29\": 1}, \"34\": {\"49\": 3, \"53\": 3, \"34\": 17, \"23\": 1, \"19\": 3, \"28\": 1}, \"1\": {\"1\": 95, \"29\": 6, \"47\": 6, \"57\": 5}, \"53\": {\"53\": 136}, \"48\": {\"48\": 115, \"9\": 10, \"29\": 1, \"8\": 3, \"52\": 1}, \"3\": {\"3\": 68, \"46\": 5, \"6\": 11, \"50\": 7, \"44\": 1}, \"16\": {\"16\": 129, \"15\": 16, \"11\": 7}, \"6\": {\"6\": 110, \"3\": 9, \"44\": 1, \"50\": 4}, \"10\": {\"10\": 112}, \"13\": {\"13\": 116}, \"26\": {\"26\": 24}, \"24\": {\"24\": 96}, \"44\": {\"44\": 79, \"46\": 3, \"6\": 5, \"3\": 6, \"50\": 7}, \"27\": {\"27\": 149, \"8\": 1}, \"22\": {\"22\": 128}, \"33\": {\"35\": 2, \"36\": 1, \"33\": 17, \"2\": 2, \"1\": 1, \"48\": 1, \"29\": 2, \"41\": 2}, \"47\": {\"47\": 101, \"52\": 2, \"57\": 10, \"1\": 5}, \"5\": {\"5\": 113, \"46\": 6, \"3\": 1}, \"4\": {\"4\": 127, \"20\": 4, \"9\": 4, \"27\": 3}, \"41\": {\"41\": 19, \"33\": 1}, \"11\": {\"11\": 131, \"16\": 12, \"15\": 7}, \"54\": {\"54\": 108}, \"42\": {\"42\": 33, \"7\": 1, \"23\": 1, \"19\": 1}}, \"C_3\": {\"5\": {\"5\": 113, \"3\": 2, \"6\": 1}, \"32\": {\"32\": 28}, \"33\": {\"33\": 27, \"48\": 1}, \"49\": {\"49\": 8, \"35\": 1, \"43\": 3, \"7\": 2, \"31\": 1, \"39\": 1, \"13\": 2, \"24\": 2}, \"39\": {\"39\": 14, \"7\": 1, \"29\": 1}, \"11\": {\"11\": 122, \"15\": 17, \"16\": 3}, \"8\": {\"8\": 111, \"9\": 1, \"27\": 2, \"20\": 2}, \"26\": {\"26\": 22, \"23\": 2}, \"51\": {\"51\": 120, \"17\": 2}, \"4\": {\"4\": 136, \"8\": 7, \"33\": 1, \"9\": 1, \"20\": 1}, \"52\": {\"52\": 117, \"47\": 1}, \"47\": {\"47\": 75, \"52\": 2, \"0\": 3, \"1\": 9, \"22\": 1, \"57\": 2}, \"17\": {\"17\": 104, \"38\": 1, \"51\": 2, \"24\": 1}, \"53\": {\"53\": 136}, \"2\": {\"2\": 24, \"36\": 3, \"42\": 1, \"38\": 2, \"51\": 1, \"32\": 1}, \"12\": {\"12\": 85, \"44\": 2, \"45\": 2, \"50\": 1, \"6\": 2}, \"37\": {\"37\": 24, \"34\": 4}, \"9\": {\"9\": 141, \"48\": 2, \"41\": 1, \"33\": 1, \"20\": 2, \"1\": 1}, \"13\": {\"13\": 125, \"56\": 2, \"35\": 1}, \"54\": {\"54\": 98, \"19\": 1, \"53\": 1}, \"31\": {\"31\": 28}, \"34\": {\"34\": 21, \"26\": 1, \"42\": 3, \"7\": 2, \"37\": 3, \"35\": 1, \"23\": 1}, \"24\": {\"24\": 104}, \"7\": {\"13\": 3, \"37\": 3, \"14\": 7, \"7\": 16, \"39\": 1, \"55\": 2, \"35\": 1, \"42\": 1, \"33\": 1, \"34\": 1}, \"50\": {\"44\": 4, \"50\": 87, \"21\": 4, \"3\": 12, \"6\": 5, \"40\": 2, \"46\": 3, \"45\": 1}, \"46\": {\"46\": 98, \"6\": 1, \"50\": 4, \"44\": 2, \"30\": 5, \"52\": 1, \"3\": 5, \"5\": 5, \"40\": 3, \"21\": 4}, \"44\": {\"50\": 8, \"44\": 72, \"6\": 4, \"3\": 3, \"46\": 1}, \"40\": {\"40\": 110, \"46\": 2, \"4\": 1, \"30\": 1, \"21\": 2}, \"21\": {\"21\": 119, \"5\": 1, \"40\": 5, \"50\": 2, \"44\": 1}, \"45\": {\"45\": 56, \"12\": 2, \"40\": 1, \"21\": 1}, \"16\": {\"16\": 118, \"15\": 7, \"25\": 1}, \"14\": {\"14\": 33, \"13\": 5, \"1\": 1, \"39\": 1}, \"36\": {\"36\": 97, \"17\": 2, \"51\": 1}, \"56\": {\"56\": 99, \"0\": 4, \"22\": 11}, \"10\": {\"10\": 64}, \"18\": {\"18\": 84}, \"48\": {\"33\": 3, \"9\": 13, \"48\": 83, \"20\": 7, \"29\": 5, \"52\": 1, \"41\": 3, \"27\": 1}, \"38\": {\"38\": 28}, \"27\": {\"27\": 116, \"41\": 1, \"4\": 1, \"9\": 10, \"20\": 1, \"8\": 1}, \"42\": {\"42\": 26, \"34\": 1, \"55\": 1}, \"15\": {\"15\": 117, \"11\": 12, \"25\": 1, \"16\": 3, \"18\": 1}, \"1\": {\"1\": 86, \"57\": 6, \"47\": 1, \"29\": 5, \"48\": 1, \"41\": 1}, \"28\": {\"28\": 28}, \"43\": {\"43\": 135, \"31\": 1}, \"0\": {\"0\": 124}, \"57\": {\"1\": 11, \"57\": 109, \"29\": 1, \"47\": 1, \"39\": 2}, \"3\": {\"3\": 108, \"50\": 7, \"6\": 7, \"44\": 9, \"5\": 10, \"45\": 1, \"46\": 6}, \"29\": {\"29\": 110, \"47\": 2, \"1\": 8, \"33\": 1, \"48\": 1, \"9\": 2}, \"41\": {\"41\": 23, \"48\": 2, \"9\": 1, \"27\": 1, \"1\": 1}, \"25\": {\"25\": 143, \"16\": 3}, \"6\": {\"3\": 7, \"6\": 71, \"50\": 2, \"44\": 6, \"46\": 2}, \"35\": {\"35\": 22, \"42\": 2, \"7\": 1, \"23\": 1, \"14\": 1, \"13\": 1}, \"20\": {\"20\": 124, \"48\": 1, \"57\": 1}, \"23\": {\"23\": 130, \"26\": 3, \"19\": 1}, \"22\": {\"22\": 128, \"0\": 6, \"56\": 6}, \"19\": {\"19\": 103, \"54\": 5, \"53\": 4, \"25\": 1, \"23\": 3}, \"55\": {\"42\": 7, \"55\": 107, \"13\": 2, \"23\": 4, \"17\": 1, \"37\": 1, \"35\": 1, \"34\": 1}, \"30\": {\"30\": 120}}, \"W_3\": {\"99\": {\"47\": 1, \"49\": 1, \"1\": 2, \"99\": 15, \"114\": 3, \"128\": 2, \"105\": 5, \"57\": 1, \"3\": 2, \"38\": 1, \"32\": 1, \"71\": 1, \"107\": 1}, \"8\": {\"8\": 94, \"0\": 14, \"106\": 1, \"94\": 4, \"30\": 4, \"62\": 1, \"122\": 3, \"15\": 2, \"12\": 1}, \"65\": {\"117\": 1, \"65\": 7, \"98\": 4}, \"117\": {\"117\": 110, \"126\": 1, \"93\": 1}, \"18\": {\"18\": 116, \"113\": 1, \"33\": 2, \"69\": 2, \"39\": 1, \"93\": 1, \"26\": 1}, \"39\": {\"39\": 103, \"126\": 2, \"88\": 3}, \"102\": {\"102\": 124}, \"76\": {\"117\": 1, \"98\": 1, \"76\": 9, \"1\": 1, \"32\": 2, \"40\": 1, \"107\": 1}, \"101\": {\"101\": 36, \"7\": 6, \"12\": 5, \"62\": 1, \"109\": 1, \"51\": 2, \"10\": 1}, \"57\": {\"65\": 1, \"57\": 8, \"32\": 2, \"74\": 2, \"55\": 1, \"9\": 2, \"59\": 1, \"98\": 1, \"107\": 1, \"6\": 1}, \"86\": {\"86\": 23, \"37\": 2, \"48\": 1, \"4\": 1, \"24\": 1}, \"11\": {\"11\": 100, \"78\": 1, \"39\": 2, \"43\": 5, \"16\": 1, \"87\": 2, \"10\": 1, \"30\": 1, \"118\": 1, \"109\": 9, \"108\": 6, \"101\": 2, \"27\": 1}, \"98\": {\"65\": 3, \"98\": 100, \"83\": 1, \"57\": 1, \"55\": 3, \"105\": 1, \"32\": 2, \"128\": 1, \"114\": 2, \"3\": 2, \"107\": 1, \"56\": 2, \"25\": 2, \"71\": 1, \"42\": 1, \"72\": 1, \"95\": 1, \"53\": 1, \"101\": 1, \"1\": 1}, \"42\": {\"42\": 8, \"65\": 1, \"57\": 2, \"102\": 1, \"4\": 1, \"5\": 4, \"46\": 1, \"22\": 1, \"85\": 2, \"115\": 1, \"129\": 2, \"73\": 1, \"86\": 2, \"124\": 1}, \"47\": {\"99\": 1, \"47\": 10, \"107\": 1}, \"49\": {\"49\": 10, \"101\": 1, \"16\": 2, \"26\": 1, \"69\": 2, \"87\": 1, \"14\": 1, \"127\": 2, \"51\": 1, \"7\": 1, \"94\": 1, \"84\": 1}, \"111\": {\"111\": 124, \"124\": 5, \"90\": 1, \"6\": 2}, \"36\": {\"36\": 97, \"24\": 1, \"0\": 3, \"108\": 7, \"87\": 1, \"8\": 2, \"30\": 2, \"27\": 3}, \"124\": {\"124\": 90, \"89\": 1, \"52\": 1, \"111\": 7, \"5\": 2, \"104\": 1, \"41\": 1, \"42\": 2, \"90\": 1}, \"122\": {\"36\": 5, \"122\": 38, \"21\": 1, \"11\": 2, \"87\": 4, \"27\": 1, \"109\": 2, \"30\": 3, \"15\": 1, \"8\": 1, \"110\": 1, \"39\": 1}, \"93\": {\"93\": 107, \"62\": 2, \"87\": 2, \"84\": 8, \"113\": 5, \"26\": 3, \"8\": 2, \"108\": 1, \"16\": 11, \"7\": 1}, \"89\": {\"92\": 3, \"89\": 17, \"13\": 1, \"82\": 1, \"100\": 2, \"65\": 1, \"44\": 1, \"90\": 2}, \"51\": {\"51\": 15, \"34\": 1}, \"73\": {\"73\": 29, \"91\": 2, \"85\": 2, \"42\": 3, \"58\": 1, \"21\": 1, \"52\": 1, \"98\": 1}, \"45\": {\"45\": 13, \"29\": 2, \"48\": 1}, \"5\": {\"5\": 101, \"122\": 1, \"70\": 1, \"111\": 4, \"88\": 2, \"42\": 2, \"109\": 1}, \"69\": {\"69\": 78, \"84\": 2, \"10\": 2, \"1\": 2}, \"26\": {\"26\": 127, \"84\": 1, \"93\": 1, \"113\": 1}, \"1\": {\"1\": 66, \"114\": 17, \"20\": 1, \"71\": 3, \"69\": 1, \"127\": 2, \"105\": 2, \"3\": 3, \"40\": 4, \"101\": 1, \"33\": 1, \"76\": 1, \"14\": 1, \"21\": 1, \"44\": 2, \"107\": 2}, \"92\": {\"92\": 27, \"89\": 4, \"57\": 1}, \"96\": {\"96\": 16, \"11\": 1, \"118\": 1, \"26\": 1, \"113\": 1}, \"85\": {\"85\": 34, \"91\": 1, \"22\": 1}, \"114\": {\"1\": 13, \"114\": 102, \"34\": 1, \"85\": 1, \"3\": 1, \"127\": 1, \"107\": 6, \"40\": 1}, \"50\": {\"50\": 9, \"116\": 2, \"86\": 1, \"29\": 1, \"120\": 1, \"48\": 1, \"19\": 1}, \"81\": {\"81\": 27, \"61\": 2, \"44\": 2, \"69\": 1}, \"2\": {\"2\": 18, \"92\": 1, \"117\": 7, \"64\": 1, \"121\": 1}, \"33\": {\"33\": 142, \"69\": 1, \"3\": 2, \"1\": 1}, \"31\": {\"33\": 1, \"31\": 18, \"44\": 1}, \"90\": {\"17\": 1, \"90\": 113, \"107\": 1, \"29\": 1, \"89\": 1, \"19\": 1}, \"17\": {\"86\": 3, \"103\": 2, \"63\": 1, \"48\": 1, \"17\": 4, \"88\": 1, \"43\": 1, \"115\": 1, \"102\": 1, \"111\": 1}, \"116\": {\"116\": 27, \"13\": 1}, \"91\": {\"85\": 2, \"91\": 12, \"77\": 2, \"73\": 3, \"52\": 2, \"98\": 1, \"117\": 1, \"41\": 1}, \"120\": {\"120\": 14, \"48\": 1, \"83\": 1, \"57\": 2, \"92\": 2}, \"128\": {\"128\": 24, \"19\": 1, \"56\": 1, \"98\": 2, \"95\": 1, \"55\": 1, \"53\": 1, \"32\": 1}, \"78\": {\"78\": 11, \"23\": 1, \"88\": 1, \"39\": 2, \"93\": 1}, \"58\": {\"58\": 8, \"99\": 1, \"73\": 4, \"25\": 1, \"82\": 1, \"56\": 1}, \"23\": {\"97\": 1, \"23\": 13, \"15\": 4, \"93\": 1, \"110\": 3, \"87\": 1, \"60\": 3, \"18\": 1, \"62\": 3, \"0\": 2}, \"15\": {\"97\": 2, \"15\": 84, \"10\": 1, \"94\": 10, \"8\": 6, \"21\": 1}, \"74\": {\"74\": 9, \"3\": 1, \"114\": 2, \"83\": 1, \"49\": 2, \"34\": 1}, \"34\": {\"74\": 1, \"9\": 1, \"40\": 1, \"66\": 1, \"34\": 17, \"72\": 1, \"25\": 1, \"1\": 3, \"114\": 2, \"54\": 1, \"43\": 1, \"53\": 2}, \"103\": {\"103\": 7, \"58\": 1, \"19\": 2, \"46\": 3, \"2\": 1, \"98\": 1, \"42\": 1}, \"106\": {\"101\": 3, \"106\": 84, \"7\": 6, \"14\": 1, \"12\": 3, \"84\": 2, \"8\": 1}, \"44\": {\"44\": 70, \"121\": 1, \"90\": 1}, \"9\": {\"9\": 21, \"34\": 1, \"99\": 4, \"46\": 1, \"72\": 2, \"82\": 1, \"51\": 1, \"107\": 1}, \"97\": {\"15\": 2, \"97\": 17, \"12\": 1}, \"123\": {\"123\": 14, \"37\": 1, \"68\": 1}, \"6\": {\"6\": 22, \"68\": 2, \"85\": 1, \"98\": 1, \"90\": 1, \"37\": 1, \"91\": 1, \"111\": 2, \"125\": 1}, \"68\": {\"6\": 2, \"68\": 11, \"42\": 1, \"124\": 1, \"111\": 1}, \"24\": {\"24\": 38, \"27\": 3, \"70\": 1, \"10\": 6}, \"21\": {\"21\": 44, \"89\": 1, \"70\": 1, \"82\": 1, \"10\": 1}, \"83\": {\"98\": 2, \"83\": 10, \"70\": 1, \"34\": 1, \"95\": 2, \"99\": 2, \"47\": 2, \"109\": 1, \"74\": 1, \"9\": 1, \"46\": 1}, \"60\": {\"60\": 21, \"15\": 1, \"62\": 2, \"49\": 1, \"97\": 1, \"96\": 1, \"93\": 1}, \"87\": {\"87\": 111, \"10\": 1, \"11\": 1, \"118\": 2, \"43\": 1, \"110\": 2, \"84\": 1, \"108\": 1}, \"30\": {\"30\": 60, \"108\": 4, \"24\": 1, \"116\": 1, \"117\": 1, \"36\": 9, \"8\": 1, \"27\": 1, \"43\": 1, \"122\": 2, \"44\": 1, \"10\": 1, \"87\": 1}, \"43\": {\"43\": 47, \"118\": 1, \"109\": 2, \"87\": 2, \"11\": 2, \"21\": 2}, \"115\": {\"115\": 15, \"22\": 1}, \"40\": {\"40\": 83, \"3\": 6, \"114\": 4, \"69\": 3, \"14\": 4, \"71\": 6, \"127\": 5, \"84\": 1, \"105\": 4, \"11\": 1, \"1\": 2, \"12\": 1}, \"112\": {\"79\": 2, \"112\": 8, \"124\": 1, \"48\": 1, \"5\": 1, \"91\": 1, \"59\": 1, \"82\": 1}, \"66\": {\"98\": 2, \"19\": 1, \"66\": 7, \"28\": 2, \"73\": 1, \"32\": 1, \"83\": 1, \"34\": 1}, \"110\": {\"110\": 80, \"122\": 1, \"109\": 1, \"118\": 1, \"87\": 3, \"60\": 1, \"8\": 2, \"127\": 1, \"15\": 1, \"30\": 1}, \"3\": {\"40\": 5, \"3\": 96, \"1\": 3, \"71\": 3, \"5\": 1, \"88\": 1, \"105\": 1, \"114\": 4}, \"20\": {\"3\": 1, \"20\": 8, \"128\": 2, \"38\": 1, \"1\": 2, \"114\": 1, \"105\": 1}, \"28\": {\"28\": 9, \"19\": 2, \"128\": 2, \"50\": 1, \"89\": 1, \"98\": 1}, \"84\": {\"84\": 83, \"26\": 2, \"14\": 3, \"39\": 2, \"89\": 1, \"16\": 5, \"126\": 1, \"127\": 3, \"69\": 3, \"93\": 2, \"62\": 1, \"7\": 1, \"113\": 1}, \"79\": {\"112\": 1, \"79\": 10, \"80\": 1}, \"118\": {\"118\": 85, \"105\": 1, \"70\": 1, \"109\": 3, \"43\": 3, \"122\": 1, \"87\": 4, \"11\": 1, \"39\": 1}, \"56\": {\"56\": 8, \"79\": 1, \"95\": 2, \"125\": 1}, \"48\": {\"48\": 10, \"13\": 2, \"2\": 1, \"6\": 1, \"79\": 1, \"102\": 1}, \"77\": {\"77\": 16}, \"14\": {\"14\": 66, \"101\": 2, \"71\": 1, \"84\": 1, \"16\": 2, \"69\": 3, \"40\": 3, \"62\": 1, \"127\": 1}, \"64\": {\"64\": 17, \"76\": 1, \"2\": 1, \"117\": 1}, \"67\": {\"67\": 15, \"39\": 1}, \"62\": {\"62\": 122, \"93\": 1, \"16\": 1}, \"75\": {\"75\": 12, \"127\": 1, \"72\": 3}, \"63\": {\"63\": 13, \"100\": 1, \"1\": 1, \"98\": 1}, \"7\": {\"7\": 100, \"12\": 8, \"101\": 2, \"16\": 2}, \"125\": {\"125\": 96, \"4\": 2, \"33\": 1, \"111\": 3, \"82\": 1, \"98\": 1}, \"37\": {\"37\": 12, \"124\": 2, \"50\": 1, \"52\": 1}, \"121\": {\"120\": 2, \"121\": 28, \"35\": 1, \"82\": 1}, \"16\": {\"16\": 83, \"93\": 14, \"118\": 1, \"12\": 1, \"84\": 1, \"109\": 2, \"96\": 1, \"108\": 1}, \"35\": {\"35\": 11, \"40\": 1}, \"32\": {\"76\": 2, \"32\": 24, \"1\": 1, \"28\": 1, \"99\": 1, \"33\": 1, \"128\": 2}, \"46\": {\"32\": 2, \"46\": 11, \"103\": 1, \"83\": 2}, \"70\": {\"70\": 63, \"88\": 3, \"10\": 3, \"109\": 2, \"21\": 1}, \"129\": {\"129\": 31, \"82\": 1}, \"95\": {\"95\": 23, \"70\": 1, \"105\": 2, \"98\": 2, \"114\": 1, \"9\": 2, \"3\": 1}, \"72\": {\"72\": 16, \"95\": 2, \"105\": 2, \"99\": 2, \"54\": 1, \"101\": 1, \"34\": 1, \"127\": 1, \"38\": 1, \"106\": 1}, \"19\": {\"57\": 1, \"56\": 1, \"19\": 18, \"128\": 3, \"50\": 1, \"95\": 1, \"100\": 1, \"83\": 2, \"98\": 3, \"28\": 1}, \"52\": {\"66\": 1, \"52\": 11, \"54\": 1, \"98\": 1, \"34\": 1, \"73\": 1}, \"100\": {\"100\": 7, \"82\": 2, \"44\": 1, \"39\": 1, \"46\": 2, \"89\": 1, \"57\": 2}, \"104\": {\"104\": 10, \"17\": 1, \"73\": 1, \"6\": 1, \"68\": 1, \"42\": 2}, \"59\": {\"59\": 12}, \"109\": {\"109\": 108, \"11\": 10, \"108\": 2, \"87\": 1, \"39\": 2, \"24\": 1, \"118\": 2}, \"88\": {\"88\": 104, \"78\": 1, \"70\": 2, \"39\": 1}, \"27\": {\"27\": 74, \"108\": 4, \"24\": 1, \"122\": 2, \"10\": 3, \"30\": 1, \"21\": 1, \"36\": 5, \"11\": 1, \"8\": 1, \"126\": 1}, \"113\": {\"96\": 1, \"113\": 109, \"118\": 3, \"126\": 2, \"11\": 2, \"109\": 1, \"82\": 1, \"84\": 1}, \"105\": {\"105\": 98, \"71\": 7, \"49\": 1, \"127\": 6, \"3\": 6, \"40\": 5, \"84\": 1}, \"71\": {\"71\": 56, \"34\": 2, \"105\": 6, \"127\": 1, \"102\": 1, \"3\": 1, \"14\": 1}, \"108\": {\"108\": 96, \"24\": 1, \"43\": 1, \"0\": 1, \"118\": 1, \"27\": 6, \"94\": 1, \"15\": 1, \"122\": 2, \"10\": 3, \"30\": 2, \"87\": 5, \"36\": 3, \"93\": 1}, \"41\": {\"41\": 15, \"55\": 1}, \"80\": {\"80\": 13, \"29\": 1, \"79\": 2}, \"13\": {\"80\": 3, \"13\": 10, \"86\": 1, \"119\": 2}, \"55\": {\"55\": 12, \"95\": 1, \"46\": 2, \"128\": 1}, \"0\": {\"0\": 85, \"122\": 2, \"8\": 10, \"39\": 1, \"98\": 1, \"30\": 1, \"36\": 5, \"90\": 1}, \"25\": {\"57\": 1, \"25\": 9, \"54\": 2, \"77\": 1, \"58\": 2, \"37\": 1}, \"53\": {\"53\": 18, \"107\": 2}, \"61\": {\"61\": 16}, \"38\": {\"38\": 15, \"1\": 1}, \"127\": {\"127\": 101, \"49\": 1, \"88\": 2, \"40\": 11, \"12\": 1, \"7\": 1, \"105\": 4, \"39\": 1, \"108\": 1, \"101\": 1, \"71\": 1, \"3\": 2, \"106\": 1}, \"4\": {\"4\": 91, \"125\": 2, \"109\": 2, \"18\": 1}, \"12\": {\"12\": 84, \"106\": 3, \"7\": 12, \"62\": 2, \"101\": 3}, \"126\": {\"126\": 117, \"39\": 3, \"113\": 1, \"88\": 1, \"70\": 1, \"109\": 1}, \"29\": {\"29\": 29, \"82\": 1, \"116\": 1, \"112\": 1}, \"107\": {\"107\": 105, \"114\": 20, \"32\": 1, \"40\": 1, \"3\": 5, \"1\": 4}, \"82\": {\"29\": 1, \"82\": 26, \"116\": 1}, \"94\": {\"94\": 63, \"15\": 16, \"0\": 2, \"8\": 2, \"39\": 1}, \"54\": {\"34\": 3, \"25\": 1, \"54\": 11, \"85\": 1}, \"10\": {\"10\": 120, \"11\": 2, \"88\": 1, \"108\": 3, \"109\": 1, \"27\": 1}, \"22\": {\"29\": 2, \"42\": 1, \"22\": 5, \"82\": 1, \"86\": 4, \"48\": 2, \"50\": 1}, \"119\": {\"119\": 11, \"102\": 4, \"116\": 1}}, \"C_1\": {\"24\": {\"24\": 108}, \"25\": {\"25\": 133, \"15\": 1, \"16\": 4, \"11\": 1, \"19\": 1}, \"45\": {\"45\": 140, \"40\": 2, \"56\": 2}, \"42\": {\"26\": 1, \"42\": 26, \"33\": 2, \"55\": 3, \"49\": 2, \"32\": 1, \"7\": 2, \"23\": 1, \"51\": 1, \"19\": 1}, \"2\": {\"2\": 35, \"48\": 1}, \"9\": {\"9\": 146, \"1\": 2, \"51\": 1, \"47\": 1}, \"21\": {\"21\": 123, \"52\": 1}, \"26\": {\"26\": 21, \"19\": 3}, \"49\": {\"49\": 29, \"38\": 2, \"32\": 1}, \"39\": {\"39\": 24, \"35\": 1, \"38\": 1, \"33\": 1, \"37\": 1}, \"46\": {\"46\": 81, \"5\": 10, \"50\": 11, \"6\": 20, \"4\": 8, \"45\": 2, \"40\": 3, \"56\": 1}, \"17\": {\"17\": 64}, \"19\": {\"26\": 2, \"19\": 151, \"25\": 3}, \"23\": {\"23\": 127, \"24\": 2, \"54\": 2, \"19\": 1}, \"1\": {\"1\": 98, \"47\": 1, \"29\": 1}, \"29\": {\"29\": 125, \"57\": 7, \"1\": 6, \"47\": 2}, \"56\": {\"56\": 141, \"44\": 3, \"45\": 6}, \"37\": {\"37\": 26, \"49\": 2, \"55\": 2, \"1\": 1, \"32\": 1}, \"33\": {\"33\": 30, \"37\": 2}, \"55\": {\"55\": 118, \"33\": 3, \"7\": 4, \"51\": 9, \"37\": 2, \"36\": 1, \"47\": 2, \"9\": 1, \"42\": 2}, \"30\": {\"30\": 120}, \"0\": {\"0\": 151, \"3\": 1}, \"36\": {\"36\": 64}, \"32\": {\"32\": 30, \"47\": 1, \"33\": 1}, \"31\": {\"31\": 27, \"24\": 1}, \"15\": {\"15\": 138}, \"12\": {\"12\": 113, \"30\": 2, \"20\": 1}, \"38\": {\"9\": 2, \"49\": 4, \"38\": 10, \"55\": 2, \"1\": 1, \"43\": 4, \"47\": 1}, \"40\": {\"40\": 140, \"56\": 1, \"20\": 5}, \"14\": {\"14\": 23, \"30\": 1}, \"13\": {\"13\": 146, \"57\": 3, \"12\": 1}, \"48\": {\"48\": 148}, \"34\": {\"34\": 15, \"54\": 1, \"23\": 1, \"19\": 2, \"35\": 1, \"31\": 1, \"53\": 2, \"7\": 1}, \"44\": {\"44\": 129, \"45\": 1}, \"5\": {\"5\": 152}, \"11\": {\"11\": 139, \"10\": 1}, \"7\": {\"7\": 27, \"51\": 1}, \"18\": {\"18\": 72}, \"52\": {\"52\": 111, \"21\": 8, \"27\": 11, \"47\": 2}, \"51\": {\"51\": 142}, \"41\": {\"41\": 19, \"2\": 2, \"9\": 2, \"7\": 1}, \"16\": {\"16\": 138, \"25\": 2}, \"22\": {\"22\": 125, \"27\": 1, \"21\": 5, \"0\": 3}, \"3\": {\"3\": 138, \"40\": 1, \"56\": 1}, \"54\": {\"54\": 104}, \"27\": {\"27\": 137, \"21\": 3, \"52\": 4}, \"20\": {\"20\": 131, \"8\": 1, \"12\": 2, \"57\": 5, \"13\": 1}, \"8\": {\"8\": 137, \"9\": 1}, \"50\": {\"50\": 143, \"46\": 1}, \"57\": {\"57\": 140}, \"4\": {\"4\": 129, \"50\": 1, \"46\": 1, \"6\": 1}, \"47\": {\"47\": 140, \"52\": 5, \"27\": 1}, \"10\": {\"10\": 96}, \"35\": {\"35\": 34, \"39\": 2}, \"53\": {\"53\": 126}, \"6\": {\"6\": 89, \"50\": 2, \"46\": 5}, \"43\": {\"43\": 139, \"49\": 1}, \"28\": {\"28\": 28}}, \"W_2\": {\"73\": {\"73\": 18, \"53\": 1, \"55\": 2, \"100\": 1, \"31\": 1, \"82\": 1, \"19\": 1, \"67\": 1, \"90\": 1, \"66\": 1}, \"40\": {\"40\": 80, \"74\": 2, \"95\": 3, \"27\": 1, \"7\": 3, \"71\": 9, \"3\": 7, \"127\": 13, \"88\": 2, \"33\": 1, \"101\": 7, \"70\": 1, \"30\": 1, \"1\": 1, \"108\": 1}, \"99\": {\"57\": 1, \"44\": 2, \"99\": 18, \"90\": 2, \"121\": 1, \"18\": 2, \"81\": 1, \"83\": 2, \"72\": 1, \"27\": 1, \"69\": 1}, \"5\": {\"5\": 104, \"39\": 2, \"124\": 3, \"8\": 1, \"88\": 1, \"70\": 1}, \"108\": {\"108\": 111, \"10\": 1, \"43\": 7, \"30\": 3, \"122\": 3, \"15\": 1, \"11\": 2, \"36\": 2, \"8\": 2}, \"128\": {\"44\": 1, \"128\": 12, \"95\": 2, \"34\": 3, \"76\": 2, \"64\": 1, \"21\": 1, \"9\": 2}, \"89\": {\"89\": 24, \"57\": 1, \"47\": 1, \"44\": 5, \"83\": 2, \"20\": 1, \"38\": 2}, \"107\": {\"107\": 34, \"108\": 2, \"34\": 4, \"114\": 9, \"118\": 1, \"32\": 4, \"21\": 2, \"126\": 2, \"92\": 2, \"15\": 1, \"40\": 1, \"70\": 2}, \"2\": {\"57\": 1, \"2\": 15, \"120\": 2, \"83\": 1, \"121\": 2, \"82\": 1, \"117\": 4, \"90\": 2, \"46\": 1, \"48\": 1, \"86\": 1, \"119\": 1}, \"78\": {\"78\": 41, \"70\": 3, \"39\": 1, \"88\": 1, \"109\": 1, \"21\": 1}, \"85\": {\"85\": 25, \"98\": 1, \"66\": 1, \"47\": 1, \"73\": 1, \"112\": 1, \"68\": 1, \"50\": 1}, \"44\": {\"44\": 89, \"89\": 3, \"33\": 1, \"76\": 2, \"61\": 1, \"1\": 1, \"31\": 1, \"107\": 2}, \"58\": {\"58\": 11, \"53\": 1, \"109\": 2, \"98\": 1, \"51\": 3, \"75\": 2}, \"57\": {\"57\": 11, \"63\": 1, \"46\": 1, \"24\": 1, \"82\": 2, \"121\": 1, \"99\": 1, \"88\": 1, \"90\": 1}, \"41\": {\"41\": 13, \"68\": 1, \"43\": 1, \"91\": 1, \"111\": 2, \"123\": 1, \"104\": 1}, \"53\": {\"53\": 7, \"107\": 1, \"76\": 1, \"37\": 1, \"14\": 1, \"1\": 1, \"91\": 1, \"19\": 1, \"66\": 2}, \"14\": {\"95\": 3, \"71\": 3, \"70\": 1, \"14\": 23, \"24\": 2, \"3\": 4, \"62\": 2, \"21\": 2, \"126\": 2, \"40\": 1, \"10\": 1, \"69\": 2, \"33\": 2}, \"83\": {\"83\": 28, \"29\": 1, \"20\": 1, \"44\": 1, \"69\": 1, \"61\": 1, \"82\": 1, \"89\": 3, \"33\": 1, \"45\": 2}, \"119\": {\"5\": 1, \"119\": 10, \"2\": 3, \"63\": 1, \"22\": 2, \"13\": 2, \"102\": 1}, \"95\": {\"95\": 17, \"35\": 1, \"71\": 1, \"127\": 7, \"49\": 3, \"107\": 1, \"14\": 2, \"62\": 1, \"114\": 1, \"88\": 1, \"40\": 1}, \"28\": {\"28\": 16, \"52\": 1, \"124\": 1, \"42\": 2}, \"19\": {\"28\": 1, \"19\": 23, \"82\": 1, \"92\": 2, \"89\": 1}, \"69\": {\"93\": 3, \"69\": 115, \"16\": 2, \"71\": 1, \"72\": 2, \"126\": 2, \"122\": 1, \"108\": 3, \"50\": 1, \"3\": 1, \"87\": 1}, \"93\": {\"93\": 108, \"16\": 7, \"8\": 1, \"60\": 2, \"33\": 2, \"105\": 3, \"26\": 6, \"11\": 1, \"7\": 1, \"98\": 1, \"122\": 2}, \"9\": {\"9\": 32}, \"118\": {\"118\": 56, \"122\": 5, \"88\": 1, \"87\": 1, \"15\": 2, \"7\": 1, \"111\": 1, \"109\": 1}, \"43\": {\"43\": 89, \"87\": 8, \"70\": 1, \"11\": 3, \"108\": 6, \"126\": 5, \"118\": 1, \"88\": 1, \"30\": 2}, \"47\": {\"47\": 8, \"85\": 1, \"32\": 1, \"76\": 2}, \"125\": {\"125\": 140, \"59\": 2, \"79\": 1, \"44\": 1}, \"29\": {\"29\": 24, \"68\": 4, \"91\": 2, \"17\": 1, \"77\": 1}, \"122\": {\"122\": 92, \"87\": 1, \"36\": 5, \"11\": 6, \"43\": 2, \"0\": 3, \"8\": 13, \"15\": 3, \"94\": 1, \"27\": 2, \"118\": 1, \"30\": 1, \"88\": 2, \"75\": 1, \"12\": 2, \"109\": 2, \"105\": 1, \"39\": 1, \"126\": 1}, \"46\": {\"121\": 2, \"55\": 1, \"46\": 11, \"82\": 2}, \"86\": {\"86\": 26, \"41\": 1, \"111\": 1, \"124\": 3, \"6\": 1}, \"70\": {\"78\": 3, \"70\": 81, \"24\": 11, \"10\": 3, \"109\": 2, \"126\": 6, \"21\": 2, \"39\": 6, \"88\": 9, \"87\": 1}, \"51\": {\"51\": 13, \"67\": 1, \"40\": 1, \"6\": 1, \"92\": 1, \"58\": 2, \"5\": 1}, \"23\": {\"122\": 1, \"23\": 10, \"8\": 1, \"94\": 4, \"15\": 4, \"69\": 2, \"110\": 2, \"105\": 4, \"60\": 1, \"106\": 1, \"30\": 2, \"97\": 2, \"24\": 1, \"12\": 1, \"7\": 1, \"26\": 2, \"0\": 2, \"62\": 1, \"16\": 1, \"72\": 1}, \"121\": {\"121\": 31, \"57\": 1, \"99\": 1, \"120\": 1, \"117\": 1, \"81\": 1}, \"63\": {\"21\": 1, \"63\": 16, \"90\": 1, \"48\": 1, \"39\": 1}, \"102\": {\"102\": 121, \"88\": 1}, \"21\": {\"21\": 48}, \"55\": {\"55\": 11, \"46\": 1, \"64\": 1, \"33\": 1, \"128\": 2}, \"54\": {\"54\": 15, \"56\": 1, \"107\": 2, \"34\": 2}, \"6\": {\"6\": 27, \"111\": 3, \"124\": 1, \"41\": 1}, \"109\": {\"109\": 66, \"24\": 3, \"21\": 1, \"88\": 13, \"78\": 3, \"70\": 3, \"39\": 8, \"90\": 1, \"87\": 2}, \"64\": {\"109\": 1, \"55\": 1, \"64\": 8, \"92\": 2, \"47\": 1, \"128\": 1, \"61\": 1, \"89\": 1}, \"20\": {\"20\": 14, \"83\": 1, \"57\": 1}, \"98\": {\"55\": 2, \"34\": 1, \"98\": 100, \"37\": 1, \"121\": 1, \"104\": 2, \"50\": 1, \"9\": 1, \"66\": 1, \"42\": 1, \"123\": 1, \"45\": 1, \"43\": 1}, \"92\": {\"92\": 14, \"55\": 1, \"47\": 1, \"114\": 2, \"98\": 1, \"49\": 2, \"19\": 1, \"101\": 1, \"67\": 1, \"33\": 1, \"90\": 1, \"129\": 1, \"66\": 1}, \"35\": {\"95\": 2, \"106\": 1, \"35\": 7, \"127\": 2}, \"113\": {\"113\": 62, \"24\": 1, \"26\": 1, \"78\": 1, \"126\": 1, \"60\": 2, \"118\": 1, \"43\": 1, \"21\": 1, \"70\": 1}, \"71\": {\"95\": 5, \"71\": 79, \"84\": 3, \"118\": 1, \"107\": 1, \"3\": 1, \"8\": 1, \"127\": 3, \"109\": 1, \"69\": 2, \"1\": 2, \"87\": 1}, \"94\": {\"122\": 3, \"87\": 2, \"94\": 38, \"36\": 2, \"78\": 2, \"12\": 1, \"26\": 2, \"8\": 8, \"30\": 1, \"39\": 1, \"126\": 2, \"0\": 1, \"88\": 1}, \"52\": {\"52\": 12, \"91\": 2, \"58\": 1, \"103\": 1, \"34\": 1, \"70\": 1, \"54\": 2}, \"116\": {\"116\": 27, \"57\": 1}, \"87\": {\"87\": 80, \"108\": 3, \"88\": 3, \"126\": 7, \"122\": 1, \"70\": 1, \"109\": 2, \"43\": 10, \"11\": 2, \"94\": 1, \"78\": 1, \"118\": 1}, \"90\": {\"90\": 146, \"63\": 2}, \"91\": {\"52\": 2, \"91\": 16, \"59\": 2, \"29\": 3, \"77\": 1, \"6\": 1, \"41\": 1, \"37\": 1, \"66\": 1}, \"84\": {\"84\": 84, \"71\": 1, \"109\": 3, \"62\": 2, \"78\": 1, \"3\": 1}, \"24\": {\"24\": 84, \"10\": 4, \"109\": 1, \"126\": 8, \"78\": 2, \"70\": 7, \"36\": 1, \"88\": 4, \"39\": 1}, \"33\": {\"33\": 125, \"87\": 1, \"88\": 1, \"1\": 2, \"3\": 2, \"84\": 2, \"108\": 1}, \"81\": {\"81\": 19, \"72\": 1, \"83\": 1, \"76\": 3}, \"115\": {\"115\": 10, \"67\": 1, \"4\": 1}, \"77\": {\"77\": 11, \"52\": 1, \"98\": 2, \"29\": 2}, \"106\": {\"106\": 95, \"12\": 4, \"21\": 1, \"101\": 10, \"127\": 2, \"24\": 2, \"90\": 1, \"62\": 2, \"0\": 1, \"40\": 2}, \"42\": {\"80\": 2, \"28\": 1, \"22\": 5, \"91\": 4, \"77\": 2, \"85\": 1, \"70\": 1, \"109\": 1, \"88\": 1, \"42\": 5, \"59\": 1, \"124\": 1, \"87\": 1, \"29\": 1, \"5\": 1}, \"38\": {\"38\": 12, \"90\": 1, \"123\": 1, \"119\": 1, \"89\": 1}, \"36\": {\"36\": 83, \"78\": 1, \"27\": 3, \"94\": 1, \"30\": 9, \"88\": 3, \"10\": 1, \"39\": 2, \"8\": 6, \"15\": 2, \"118\": 1, \"108\": 2}, \"79\": {\"79\": 15, \"59\": 1}, \"60\": {\"60\": 18, \"93\": 1, \"16\": 1, \"86\": 1, \"11\": 1, \"62\": 2, \"94\": 1, \"122\": 1, \"110\": 1, \"12\": 1}, \"80\": {\"80\": 12, \"116\": 1, \"120\": 1, \"5\": 2}, \"32\": {\"114\": 5, \"95\": 1, \"32\": 28, \"56\": 1, \"44\": 1}, \"0\": {\"0\": 86, \"12\": 2, \"105\": 5, \"24\": 1, \"30\": 1, \"122\": 6, \"15\": 7, \"62\": 1, \"36\": 1, \"110\": 2, \"94\": 1, \"106\": 1, \"7\": 1, \"8\": 1}, \"127\": {\"127\": 113, \"101\": 6, \"24\": 1, \"106\": 1, \"35\": 1, \"107\": 2}, \"114\": {\"114\": 106, \"107\": 4, \"90\": 1, \"71\": 2, \"34\": 1, \"40\": 1, \"117\": 1}, \"62\": {\"62\": 128, \"71\": 3, \"21\": 1, \"87\": 1, \"110\": 2, \"1\": 1, \"16\": 2, \"3\": 2}, \"129\": {\"129\": 28, \"73\": 1, \"85\": 1, \"5\": 2}, \"56\": {\"56\": 10, \"54\": 1, \"107\": 1}, \"76\": {\"32\": 1, \"114\": 1, \"76\": 8, \"82\": 2, \"44\": 2, \"92\": 2}, \"72\": {\"72\": 22, \"89\": 2, \"21\": 1, \"71\": 1, \"29\": 1, \"96\": 1}, \"88\": {\"88\": 95, \"70\": 10, \"24\": 2, \"109\": 8, \"39\": 7, \"78\": 1, \"126\": 1}, \"68\": {\"68\": 9, \"77\": 2, \"66\": 2, \"21\": 1, \"29\": 1, \"39\": 1}, \"67\": {\"67\": 3, \"73\": 1, \"78\": 1, \"123\": 1, \"21\": 1, \"90\": 1, \"80\": 2, \"5\": 2, \"108\": 1, \"37\": 1, \"48\": 1, \"82\": 1}, \"100\": {\"100\": 9, \"37\": 1, \"76\": 4, \"89\": 1, \"90\": 1}, \"34\": {\"34\": 24, \"107\": 1, \"21\": 1, \"32\": 1, \"49\": 1, \"109\": 1, \"71\": 1, \"75\": 1, \"54\": 1}, \"16\": {\"16\": 98, \"10\": 1, \"36\": 1, \"93\": 8, \"11\": 2, \"62\": 6, \"23\": 4, \"14\": 1, \"105\": 2, \"88\": 1}, \"126\": {\"126\": 96, \"70\": 4, \"88\": 2, \"87\": 5, \"109\": 2, \"43\": 3, \"39\": 2, \"118\": 1, \"11\": 2, \"36\": 1, \"10\": 1, \"24\": 1}, \"4\": {\"4\": 84, \"84\": 1, \"88\": 1, \"39\": 1, \"115\": 1}, \"101\": {\"101\": 136, \"106\": 3, \"127\": 5, \"49\": 1, \"114\": 1}, \"104\": {\"104\": 12, \"112\": 2, \"29\": 1, \"82\": 1, \"103\": 2, \"86\": 1, \"39\": 1}, \"30\": {\"78\": 1, \"8\": 8, \"30\": 77, \"27\": 2, \"36\": 9, \"125\": 1, \"108\": 4, \"122\": 5, \"24\": 1, \"15\": 2}, \"8\": {\"8\": 88, \"94\": 4, \"36\": 3, \"27\": 2, \"0\": 5, \"30\": 7, \"122\": 9, \"43\": 2, \"7\": 1, \"108\": 1, \"87\": 1, \"113\": 1, \"15\": 1, \"105\": 1, \"12\": 2}, \"82\": {\"82\": 19, \"45\": 1, \"89\": 1, \"108\": 1, \"19\": 2, \"49\": 1, \"44\": 2, \"90\": 1, \"99\": 1, \"92\": 1, \"98\": 1, \"42\": 1, \"67\": 1, \"33\": 1, \"5\": 1, \"88\": 1}, \"26\": {\"26\": 117, \"126\": 2, \"87\": 2, \"93\": 5, \"23\": 2, \"18\": 4, \"24\": 1, \"39\": 1, \"108\": 2, \"109\": 1, \"88\": 1}, \"96\": {\"96\": 11, \"67\": 1, \"23\": 1, \"7\": 1, \"93\": 1, \"27\": 1, \"62\": 3, \"0\": 1}, \"3\": {\"3\": 103, \"35\": 1, \"14\": 1, \"40\": 4, \"1\": 3, \"69\": 4, \"84\": 4, \"127\": 1, \"62\": 3, \"33\": 1, \"111\": 1, \"60\": 1, \"70\": 1, \"74\": 1, \"95\": 1, \"12\": 1, \"71\": 3, \"124\": 1, \"88\": 1}, \"25\": {\"25\": 7, \"21\": 1, \"17\": 1, \"78\": 1, \"103\": 1, \"59\": 1, \"91\": 4}, \"13\": {\"13\": 6, \"115\": 1, \"33\": 1, \"43\": 1, \"124\": 1, \"119\": 2, \"5\": 1, \"70\": 1, \"48\": 2}, \"37\": {\"129\": 1, \"85\": 3, \"37\": 5, \"112\": 2, \"22\": 1, \"43\": 1, \"73\": 1, \"42\": 1, \"29\": 1}, \"49\": {\"47\": 2, \"87\": 2, \"95\": 2, \"61\": 1, \"49\": 7, \"107\": 1, \"92\": 1, \"76\": 1, \"44\": 1, \"75\": 2, \"74\": 1, \"39\": 1, \"98\": 1, \"71\": 1}, \"111\": {\"111\": 129, \"124\": 2, \"6\": 2, \"125\": 3}, \"105\": {\"105\": 121, \"7\": 3, \"110\": 1, \"0\": 4, \"127\": 1, \"78\": 1, \"27\": 1}, \"17\": {\"37\": 2, \"22\": 1, \"78\": 1, \"70\": 2, \"25\": 1, \"129\": 4, \"111\": 2, \"17\": 1, \"29\": 2}, \"65\": {\"65\": 16, \"70\": 1, \"117\": 1, \"2\": 1, \"126\": 1}, \"123\": {\"37\": 1, \"112\": 1, \"123\": 4, \"67\": 1, \"116\": 1, \"73\": 1, \"129\": 2, \"111\": 1, \"91\": 1, \"90\": 1, \"5\": 1, \"55\": 1}, \"74\": {\"3\": 2, \"126\": 2, \"74\": 10, \"95\": 2}, \"97\": {\"97\": 13, \"121\": 1, \"7\": 4, \"13\": 1, \"90\": 1}, \"112\": {\"112\": 6, \"37\": 2, \"98\": 1, \"123\": 1, \"67\": 1, \"59\": 1, \"86\": 1, \"19\": 2, \"50\": 1}, \"120\": {\"120\": 13, \"121\": 2, \"80\": 1, \"83\": 2, \"81\": 2}, \"50\": {\"98\": 2, \"50\": 8, \"66\": 2, \"5\": 1, \"47\": 1, \"41\": 1, \"37\": 1}, \"59\": {\"111\": 1, \"24\": 1, \"67\": 2, \"59\": 8, \"86\": 2, \"42\": 2}, \"10\": {\"24\": 6, \"10\": 45, \"70\": 3, \"126\": 2, \"78\": 2, \"39\": 1, \"88\": 1}, \"45\": {\"112\": 2, \"45\": 10, \"29\": 2, \"88\": 1, \"5\": 1}, \"12\": {\"12\": 66, \"21\": 1, \"7\": 10, \"78\": 1, \"88\": 1, \"97\": 3, \"105\": 2, \"110\": 3, \"40\": 1}, \"75\": {\"51\": 2, \"98\": 1, \"75\": 6, \"109\": 1, \"9\": 2, \"14\": 1, \"64\": 1, \"1\": 2}, \"48\": {\"48\": 17, \"123\": 1, \"92\": 1, \"22\": 1}, \"61\": {\"61\": 12, \"24\": 1, \"114\": 2, \"27\": 1, \"76\": 1, \"88\": 1, \"49\": 2}, \"124\": {\"124\": 104, \"85\": 1, \"5\": 5, \"111\": 8, \"125\": 1, \"42\": 2, \"86\": 2, \"44\": 1}, \"11\": {\"108\": 3, \"11\": 58, \"8\": 8, \"27\": 1, \"88\": 1, \"39\": 1, \"43\": 1, \"36\": 2, \"122\": 2, \"118\": 2, \"87\": 1}, \"103\": {\"103\": 10, \"45\": 1, \"91\": 1, \"125\": 1, \"22\": 1, \"28\": 1, \"6\": 1}, \"7\": {\"7\": 105, \"105\": 9, \"106\": 1, \"12\": 5, \"109\": 1, \"78\": 2, \"110\": 1, \"39\": 1, \"0\": 5, \"127\": 2}, \"18\": {\"18\": 101, \"16\": 1, \"26\": 4, \"33\": 4, \"0\": 1, \"108\": 1, \"24\": 1, \"69\": 5, \"39\": 1, \"43\": 1}, \"31\": {\"31\": 15, \"1\": 2, \"98\": 1, \"89\": 2}, \"15\": {\"15\": 85, \"97\": 1, \"0\": 12, \"122\": 2, \"36\": 4, \"105\": 5, \"8\": 1, \"39\": 1, \"11\": 1, \"7\": 2, \"94\": 1, \"106\": 1, \"30\": 2}, \"1\": {\"1\": 106, \"3\": 4, \"78\": 1, \"33\": 5, \"39\": 1, \"62\": 1, \"108\": 1, \"84\": 3}, \"66\": {\"66\": 11, \"98\": 2, \"9\": 1, \"90\": 1, \"19\": 1, \"37\": 1, \"82\": 1, \"55\": 2}, \"110\": {\"110\": 26, \"70\": 1, \"65\": 1, \"109\": 1, \"7\": 2, \"10\": 1, \"40\": 1, \"3\": 1, \"24\": 1, \"15\": 1, \"27\": 1, \"62\": 1, \"87\": 1, \"94\": 1}, \"27\": {\"27\": 45, \"43\": 2, \"10\": 1, \"8\": 3, \"88\": 2, \"36\": 1, \"94\": 2, \"108\": 6, \"30\": 3, \"70\": 2, \"39\": 1}, \"22\": {\"22\": 13, \"42\": 1, \"124\": 1, \"40\": 1, \"85\": 2, \"127\": 1, \"111\": 1}, \"117\": {\"117\": 115, \"24\": 1, \"65\": 2, \"109\": 1, \"88\": 1}, \"39\": {\"109\": 6, \"39\": 89, \"88\": 3, \"70\": 1, \"26\": 1, \"126\": 4, \"10\": 1, \"87\": 2, \"90\": 1}}, \"W_1\": {\"60\": {\"60\": 10, \"96\": 1, \"15\": 1, \"118\": 1, \"110\": 1, \"26\": 1, \"7\": 1}, \"59\": {\"50\": 1, \"59\": 7, \"6\": 1, \"125\": 2, \"128\": 1}, \"107\": {\"49\": 1, \"107\": 111, \"38\": 1, \"72\": 1, \"114\": 2, \"1\": 3, \"30\": 1, \"56\": 1, \"9\": 1, \"98\": 1, \"125\": 1}, \"113\": {\"113\": 116, \"118\": 1, \"16\": 3, \"11\": 1, \"18\": 2, \"69\": 1}, \"6\": {\"6\": 20, \"126\": 1, \"111\": 2, \"46\": 3, \"21\": 1, \"11\": 1, \"91\": 2, \"125\": 1, \"68\": 1}, \"24\": {\"24\": 72, \"108\": 10, \"94\": 1, \"30\": 2, \"43\": 2, \"93\": 1, \"88\": 2, \"10\": 1, \"87\": 1}, \"50\": {\"50\": 5, \"74\": 1, \"90\": 1, \"99\": 1, \"67\": 1, \"82\": 1, \"33\": 1, \"30\": 1, \"100\": 2, \"25\": 1, \"19\": 1}, \"62\": {\"62\": 106, \"7\": 7, \"69\": 3, \"14\": 1, \"26\": 2, \"126\": 1}, \"48\": {\"48\": 12}, \"104\": {\"104\": 10, \"22\": 1, \"65\": 2, \"46\": 1, \"55\": 1, \"91\": 1}, \"105\": {\"105\": 70, \"35\": 2, \"84\": 2, \"40\": 4, \"106\": 1, \"93\": 1, \"101\": 2, \"12\": 1, \"4\": 1}, \"44\": {\"44\": 67, \"1\": 2, \"14\": 3, \"105\": 1, \"114\": 2, \"101\": 1}, \"49\": {\"49\": 14, \"107\": 1, \"34\": 1, \"29\": 1, \"74\": 1, \"51\": 1, \"127\": 1}, \"55\": {\"55\": 12}, \"4\": {\"4\": 98, \"80\": 2}, \"76\": {\"44\": 2, \"76\": 13, \"3\": 1}, \"85\": {\"85\": 30, \"77\": 1, \"29\": 1}, \"89\": {\"89\": 17, \"32\": 4, \"72\": 2, \"19\": 1, \"9\": 1, \"98\": 2, \"107\": 8, \"34\": 1}, \"74\": {\"74\": 11, \"1\": 2, \"89\": 1, \"49\": 1, \"34\": 1}, \"112\": {\"112\": 8, \"91\": 1, \"58\": 2, \"111\": 3, \"37\": 1, \"100\": 1}, \"79\": {\"80\": 2, \"79\": 8, \"17\": 1, \"104\": 1}, \"0\": {\"0\": 63, \"30\": 1, \"23\": 1, \"110\": 1, \"15\": 6, \"36\": 9, \"94\": 2, \"106\": 1}, \"91\": {\"91\": 23, \"112\": 3, \"105\": 1, \"6\": 1}, \"118\": {\"118\": 77, \"126\": 3, \"39\": 2, \"43\": 1, \"117\": 1}, \"80\": {\"80\": 14, \"42\": 1, \"124\": 1}, \"64\": {\"64\": 14, \"102\": 2}, \"97\": {\"97\": 11, \"27\": 2, \"30\": 1, \"24\": 1, \"93\": 1, \"8\": 1, \"15\": 1, \"87\": 1, \"43\": 1}, \"84\": {\"84\": 110, \"7\": 7, \"105\": 2, \"40\": 2, \"0\": 1, \"106\": 1, \"62\": 1}, \"38\": {\"38\": 14, \"128\": 1, \"82\": 1}, \"30\": {\"30\": 37, \"97\": 1, \"24\": 5, \"108\": 2, \"93\": 3, \"8\": 1, \"88\": 2, \"27\": 1}, \"32\": {\"32\": 20, \"43\": 1, \"51\": 1, \"34\": 1, \"107\": 3, \"92\": 2, \"53\": 1, \"3\": 1, \"15\": 1, \"10\": 1}, \"72\": {\"34\": 1, \"72\": 19, \"31\": 1, \"40\": 2, \"14\": 1, \"89\": 2, \"77\": 1, \"71\": 1, \"9\": 1, \"127\": 1, \"107\": 2}, \"33\": {\"33\": 123, \"50\": 1, \"20\": 1, \"42\": 1, \"114\": 4, \"99\": 1, \"70\": 1}, \"34\": {\"72\": 3, \"34\": 7, \"75\": 2, \"107\": 3, \"44\": 5, \"40\": 4, \"12\": 1, \"53\": 1, \"74\": 1, \"9\": 3, \"1\": 1, \"14\": 1}, \"28\": {\"28\": 8, \"83\": 1, \"22\": 1, \"29\": 1, \"19\": 3, \"82\": 3, \"47\": 1, \"128\": 1, \"5\": 1}, \"123\": {\"123\": 14, \"17\": 1, \"2\": 1}, \"2\": {\"2\": 19, \"22\": 3, \"129\": 1, \"123\": 1, \"109\": 1, \"42\": 2, \"13\": 1, \"116\": 3, \"21\": 1}, \"70\": {\"70\": 115, \"108\": 2, \"10\": 4, \"109\": 2, \"21\": 1}, \"127\": {\"127\": 92, \"101\": 6, \"78\": 1, \"71\": 7, \"40\": 2}, \"110\": {\"110\": 116, \"15\": 3, \"36\": 2, \"39\": 1, \"70\": 1, \"0\": 3, \"109\": 2}, \"126\": {\"126\": 99, \"43\": 16, \"108\": 3, \"88\": 2, \"10\": 1, \"122\": 2, \"11\": 3, \"87\": 3, \"93\": 4, \"24\": 1, \"8\": 2}, \"13\": {\"13\": 12, \"63\": 1, \"102\": 2, \"104\": 1}, \"15\": {\"15\": 84, \"0\": 6, \"36\": 8, \"122\": 1, \"106\": 2, \"94\": 2, \"110\": 1}, \"29\": {\"29\": 26, \"56\": 1, \"19\": 1}, \"18\": {\"18\": 108, \"109\": 1, \"118\": 2, \"113\": 2, \"26\": 2, \"16\": 2, \"62\": 2, \"69\": 1}, \"7\": {\"7\": 129, \"62\": 3, \"14\": 1, \"84\": 7, \"23\": 1, \"15\": 1}, \"56\": {\"56\": 8, \"98\": 1, \"75\": 2, \"107\": 1}, \"98\": {\"98\": 99, \"22\": 1, \"82\": 1, \"39\": 1, \"111\": 2, \"85\": 1, \"83\": 1, \"99\": 1, \"9\": 1}, \"99\": {\"99\": 11, \"50\": 3, \"33\": 1, \"81\": 5, \"44\": 1, \"77\": 1, \"120\": 1, \"19\": 1}, \"77\": {\"77\": 12, \"42\": 2, \"90\": 1, \"104\": 1}, \"103\": {\"0\": 1, \"103\": 10, \"83\": 1, \"53\": 1, \"27\": 1, \"77\": 1, \"85\": 1}, \"128\": {\"29\": 2, \"99\": 1, \"103\": 1, \"120\": 2, \"128\": 11, \"90\": 1, \"82\": 3, \"89\": 1, \"28\": 1, \"52\": 1}, \"3\": {\"3\": 77, \"44\": 1, \"110\": 1, \"1\": 3, \"14\": 2, \"98\": 1, \"69\": 1, \"8\": 1, \"7\": 1}, \"121\": {\"121\": 32}, \"42\": {\"103\": 1, \"117\": 1, \"42\": 10, \"22\": 1, \"85\": 1, \"116\": 3, \"61\": 1, \"29\": 1, \"119\": 2, \"98\": 1, \"82\": 2, \"129\": 3, \"5\": 1}, \"90\": {\"90\": 115, \"66\": 1, \"82\": 1, \"114\": 1, \"28\": 2}, \"37\": {\"37\": 13, \"112\": 1, \"58\": 2}, \"120\": {\"3\": 1, \"120\": 14, \"47\": 2, \"25\": 1, \"21\": 1, \"26\": 1}, \"117\": {\"117\": 118}, \"9\": {\"9\": 24, \"74\": 1, \"107\": 2, \"72\": 3, \"34\": 2}, \"108\": {\"108\": 93, \"88\": 8, \"27\": 1, \"70\": 3, \"24\": 8, \"43\": 1, \"93\": 3, \"109\": 1, \"10\": 3, \"11\": 2, \"122\": 1}, \"83\": {\"28\": 1, \"98\": 1, \"75\": 1, \"77\": 1, \"83\": 12, \"61\": 2, \"42\": 1, \"20\": 1, \"19\": 2, \"73\": 1, \"41\": 1, \"89\": 2, \"85\": 2}, \"14\": {\"14\": 79, \"8\": 1, \"31\": 1, \"44\": 6, \"101\": 2, \"7\": 1, \"62\": 1, \"72\": 2, \"40\": 3}, \"63\": {\"63\": 11, \"104\": 1, \"13\": 2, \"102\": 1, \"116\": 1}, \"11\": {\"11\": 95, \"10\": 1, \"108\": 3, \"43\": 5, \"126\": 9, \"8\": 1, \"23\": 1, \"87\": 1, \"109\": 1, \"122\": 1}, \"95\": {\"95\": 31, \"33\": 2, \"25\": 1, \"100\": 1, \"90\": 1}, \"26\": {\"26\": 119, \"18\": 3, \"70\": 1, \"16\": 4, \"93\": 1, \"69\": 2}, \"22\": {\"22\": 12, \"5\": 1, \"4\": 1, \"64\": 2}, \"102\": {\"102\": 114, \"129\": 2, \"117\": 4}, \"69\": {\"69\": 91, \"39\": 3, \"109\": 3, \"70\": 2, \"113\": 1, \"16\": 1, \"26\": 1, \"62\": 4}, \"1\": {\"1\": 122, \"71\": 1, \"114\": 1, \"98\": 1, \"40\": 1, \"101\": 1, \"3\": 1, \"14\": 2}, \"67\": {\"67\": 16}, \"57\": {\"57\": 12}, \"8\": {\"8\": 65, \"15\": 2, \"108\": 3, \"126\": 5, \"122\": 4, \"24\": 1, \"93\": 20, \"10\": 1, \"87\": 12, \"30\": 3, \"43\": 7, \"88\": 1, \"110\": 2, \"36\": 2, \"23\": 1, \"0\": 3, \"27\": 2}, \"109\": {\"109\": 114, \"10\": 5, \"70\": 5}, \"129\": {\"57\": 4, \"102\": 4, \"129\": 15, \"117\": 1, \"13\": 2, \"86\": 2}, \"111\": {\"111\": 107, \"6\": 3, \"125\": 4, \"5\": 2, \"68\": 2, \"124\": 2}, \"71\": {\"71\": 67, \"109\": 1, \"12\": 9, \"106\": 2, \"127\": 15, \"114\": 3, \"40\": 3, \"101\": 5, \"39\": 1, \"113\": 1, \"70\": 1}, \"47\": {\"53\": 1, \"47\": 2, \"107\": 1, \"52\": 1, \"54\": 2, \"91\": 2, \"29\": 1, \"85\": 1, \"49\": 1}, \"82\": {\"82\": 29, \"28\": 1, \"100\": 1, \"19\": 1, \"5\": 1, \"50\": 1, \"67\": 1, \"90\": 1}, \"27\": {\"27\": 75, \"126\": 1, \"24\": 1, \"30\": 2, \"8\": 2, \"94\": 4, \"93\": 2, \"87\": 1, \"88\": 1, \"0\": 1, \"108\": 1, \"15\": 1}, \"19\": {\"120\": 1, \"82\": 1, \"19\": 20, \"128\": 1, \"53\": 1, \"38\": 1, \"25\": 2, \"81\": 1}, \"122\": {\"11\": 1, \"122\": 52, \"87\": 5, \"8\": 8, \"21\": 1, \"43\": 8, \"93\": 2, \"110\": 2, \"126\": 8, \"7\": 1}, \"53\": {\"53\": 19, \"92\": 1}, \"87\": {\"122\": 4, \"87\": 81, \"70\": 1, \"8\": 11, \"126\": 2, \"43\": 6, \"93\": 2, \"52\": 1}, \"100\": {\"82\": 2, \"1\": 2, \"100\": 7, \"50\": 1, \"19\": 1, \"33\": 1, \"44\": 1, \"99\": 1}, \"66\": {\"66\": 14, \"116\": 1, \"25\": 1}, \"31\": {\"31\": 7, \"72\": 2, \"49\": 2, \"14\": 1, \"40\": 2, \"12\": 2}, \"58\": {\"37\": 2, \"58\": 10}, \"68\": {\"68\": 14, \"112\": 1, \"54\": 1}, \"88\": {\"88\": 78, \"27\": 1, \"108\": 6, \"10\": 7, \"15\": 1, \"126\": 2, \"93\": 4, \"33\": 1, \"24\": 8, \"30\": 1, \"11\": 2, \"122\": 1, \"43\": 2}, \"45\": {\"129\": 2, \"45\": 6, \"2\": 2, \"109\": 1, \"42\": 1}, \"114\": {\"114\": 124, \"83\": 1, \"107\": 2, \"1\": 1}, \"23\": {\"122\": 1, \"50\": 1, \"0\": 2, \"84\": 1, \"14\": 1, \"110\": 2, \"34\": 1, \"23\": 6, \"62\": 1, \"36\": 2, \"69\": 2, \"7\": 2, \"106\": 1, \"11\": 1}, \"65\": {\"124\": 1, \"65\": 4, \"2\": 1, \"129\": 1, \"83\": 2, \"46\": 1, \"5\": 1, \"70\": 1}, \"124\": {\"124\": 106, \"5\": 8, \"46\": 1, \"125\": 3}, \"10\": {\"10\": 100, \"70\": 10, \"5\": 1, \"109\": 3, \"88\": 1, \"21\": 1, \"30\": 1, \"108\": 2, \"24\": 1}, \"92\": {\"92\": 28}, \"40\": {\"40\": 76, \"35\": 1, \"34\": 1, \"14\": 5, \"72\": 2, \"71\": 9, \"12\": 10, \"127\": 7, \"107\": 2, \"84\": 3, \"105\": 9, \"10\": 1, \"101\": 9, \"1\": 4, \"20\": 1, \"49\": 1, \"70\": 1, \"106\": 2}, \"73\": {\"73\": 16, \"109\": 1, \"9\": 1, \"108\": 1, \"81\": 1}, \"94\": {\"0\": 3, \"94\": 77, \"36\": 2, \"27\": 3, \"15\": 6, \"43\": 1}, \"81\": {\"81\": 17, \"60\": 1, \"3\": 3, \"33\": 1, \"32\": 2, \"128\": 1, \"100\": 1, \"50\": 2}, \"101\": {\"101\": 100, \"127\": 5, \"98\": 1, \"71\": 2, \"12\": 1, \"90\": 1}, \"86\": {\"86\": 22, \"102\": 1, \"21\": 1, \"124\": 2, \"115\": 1, \"125\": 3, \"111\": 2, \"106\": 1, \"6\": 1, \"15\": 1, \"5\": 1}, \"78\": {\"78\": 7, \"88\": 1, \"108\": 1, \"30\": 1, \"39\": 1, \"109\": 3, \"70\": 2}, \"96\": {\"96\": 12, \"60\": 1, \"14\": 1, \"44\": 1, \"118\": 2, \"42\": 1, \"87\": 1, \"27\": 1}, \"5\": {\"5\": 70, \"124\": 8, \"111\": 2, \"70\": 1, \"109\": 1, \"24\": 1, \"104\": 1, \"129\": 1, \"22\": 1, \"91\": 1, \"10\": 1}, \"16\": {\"26\": 14, \"16\": 84, \"10\": 1, \"69\": 2, \"113\": 1, \"18\": 2, \"21\": 1, \"3\": 1, \"39\": 1, \"109\": 1}, \"35\": {\"35\": 8, \"84\": 2, \"101\": 1, \"40\": 1}, \"51\": {\"29\": 2, \"51\": 10, \"49\": 1, \"9\": 1, \"92\": 1, \"52\": 1}, \"46\": {\"129\": 2, \"46\": 7, \"6\": 1, \"5\": 2}, \"20\": {\"20\": 16}, \"116\": {\"116\": 24, \"61\": 3, \"66\": 2, \"45\": 1, \"2\": 1, \"10\": 1}, \"75\": {\"29\": 3, \"75\": 5, \"34\": 2, \"40\": 2, \"103\": 2, \"107\": 1, \"1\": 1}, \"43\": {\"43\": 79, \"126\": 14, \"109\": 2, \"87\": 5, \"8\": 7, \"39\": 1, \"122\": 11, \"108\": 1, \"93\": 6, \"36\": 1, \"88\": 1}, \"17\": {\"111\": 2, \"6\": 1, \"79\": 1, \"124\": 4, \"17\": 5, \"4\": 1, \"48\": 1, \"68\": 1}, \"12\": {\"12\": 88, \"10\": 1, \"106\": 1, \"40\": 4, \"105\": 3, \"84\": 1, \"110\": 1, \"14\": 1, \"101\": 2, \"71\": 2}, \"25\": {\"67\": 1, \"90\": 1, \"25\": 5, \"83\": 1, \"42\": 1, \"21\": 1, \"9\": 1, \"120\": 3, \"54\": 1, \"99\": 1}, \"54\": {\"58\": 2, \"83\": 2, \"54\": 9, \"89\": 1, \"11\": 1, \"38\": 1}, \"36\": {\"36\": 86, \"0\": 5, \"39\": 1, \"94\": 6, \"122\": 1, \"15\": 4, \"110\": 7, \"27\": 1, \"10\": 1}, \"52\": {\"52\": 15, \"32\": 1, \"47\": 1, \"77\": 1, \"37\": 1, \"51\": 1}, \"61\": {\"61\": 7, \"83\": 2, \"116\": 1, \"82\": 2}, \"106\": {\"106\": 119, \"12\": 1}, \"39\": {\"39\": 90, \"10\": 1, \"11\": 6, \"43\": 4, \"109\": 2, \"21\": 1}, \"119\": {\"119\": 13, \"102\": 1, \"80\": 1, \"2\": 1}, \"125\": {\"125\": 146, \"111\": 2}, \"93\": {\"93\": 113, \"108\": 7, \"24\": 7, \"30\": 3, \"43\": 6, \"122\": 2, \"126\": 6, \"8\": 2, \"87\": 1, \"15\": 1}, \"115\": {\"115\": 12}, \"21\": {\"21\": 32, \"118\": 2, \"110\": 1, \"116\": 1, \"108\": 2, \"70\": 1, \"109\": 1}, \"41\": {\"86\": 1, \"41\": 12, \"28\": 2, \"73\": 1}}, \"W_4\": {\"55\": {\"55\": 11, \"29\": 1, \"103\": 2, \"95\": 1, \"82\": 1}, \"9\": {\"56\": 1, \"71\": 1, \"9\": 13, \"95\": 2, \"107\": 2, \"51\": 1, \"52\": 1, \"34\": 2, \"53\": 1, \"41\": 1, \"58\": 2, \"3\": 1}, \"70\": {\"70\": 82, \"108\": 4, \"10\": 12, \"0\": 1, \"109\": 3, \"24\": 11, \"39\": 1, \"43\": 6, \"36\": 1, \"23\": 1}, \"112\": {\"4\": 1, \"112\": 8, \"29\": 2, \"129\": 1, \"77\": 1, \"73\": 1, \"28\": 2}, \"115\": {\"112\": 1, \"4\": 1, \"10\": 1, \"37\": 1, \"79\": 1, \"116\": 3, \"48\": 1, \"115\": 5, \"80\": 1, \"46\": 1}, \"56\": {\"56\": 6, \"28\": 1, \"128\": 2, \"17\": 1, \"19\": 2}, \"108\": {\"108\": 59, \"70\": 10, \"12\": 1, \"10\": 6, \"109\": 5, \"23\": 1, \"105\": 1, \"88\": 3, \"43\": 2, \"102\": 1, \"30\": 1, \"14\": 1, \"114\": 1}, \"117\": {\"117\": 119, \"112\": 2, \"124\": 1, \"104\": 1, \"67\": 1}, \"111\": {\"4\": 2, \"111\": 114, \"42\": 2, \"124\": 6, \"88\": 1, \"125\": 4, \"6\": 1, \"108\": 1, \"70\": 1}, \"71\": {\"71\": 78, \"96\": 1, \"69\": 2, \"40\": 5, \"99\": 2, \"1\": 1, \"15\": 1, \"12\": 2, \"127\": 2, \"72\": 1, \"14\": 1, \"106\": 1, \"94\": 1, \"105\": 2, \"113\": 1, \"10\": 2, \"126\": 1}, \"59\": {\"59\": 9, \"86\": 2, \"125\": 1}, \"10\": {\"10\": 101, \"70\": 8, \"24\": 6, \"88\": 3, \"108\": 2, \"109\": 2, \"126\": 1, \"43\": 1}, \"83\": {\"83\": 12, \"89\": 1, \"29\": 1, \"128\": 3, \"52\": 2, \"34\": 1, \"31\": 1, \"107\": 2, \"82\": 2, \"46\": 1, \"33\": 1, \"1\": 1}, \"116\": {\"116\": 25, \"17\": 1, \"102\": 2}, \"13\": {\"13\": 13, \"116\": 1, \"80\": 1, \"129\": 1}, \"4\": {\"115\": 3, \"4\": 98, \"125\": 2, \"88\": 1}, \"125\": {\"125\": 101, \"120\": 1, \"33\": 1, \"4\": 1, \"111\": 1, \"90\": 1}, \"102\": {\"102\": 119, \"48\": 1, \"109\": 1, \"117\": 1, \"124\": 1, \"108\": 1}, \"47\": {\"47\": 12}, \"28\": {\"28\": 12, \"79\": 2, \"17\": 1, \"64\": 2, \"42\": 1, \"19\": 1, \"32\": 1}, \"82\": {\"28\": 1, \"82\": 17, \"19\": 4, \"128\": 1, \"114\": 1, \"33\": 2, \"4\": 1, \"45\": 1, \"120\": 1, \"98\": 1, \"38\": 1, \"40\": 1}, \"60\": {\"60\": 25, \"101\": 4, \"96\": 2, \"7\": 1}, \"107\": {\"107\": 111, \"76\": 1, \"5\": 1, \"114\": 7, \"3\": 8, \"1\": 3, \"95\": 1, \"33\": 1, \"44\": 1}, \"75\": {\"58\": 2, \"85\": 1, \"128\": 1, \"75\": 11, \"34\": 1}, \"31\": {\"31\": 10, \"19\": 2, \"45\": 1, \"5\": 1, \"20\": 2}, \"92\": {\"92\": 23, \"19\": 2, \"99\": 2, \"121\": 1}, \"58\": {\"58\": 16}, \"113\": {\"113\": 108, \"126\": 7, \"78\": 1, \"10\": 1, \"118\": 3, \"26\": 1, \"39\": 1, \"70\": 1, \"122\": 3, \"108\": 1, \"62\": 1}, \"95\": {\"107\": 2, \"95\": 21, \"9\": 1, \"99\": 1, \"128\": 2, \"114\": 3, \"51\": 1, \"83\": 1}, \"14\": {\"14\": 102, \"126\": 1, \"40\": 3, \"88\": 1, \"7\": 2, \"93\": 2, \"109\": 1}, \"17\": {\"17\": 16, \"59\": 3, \"79\": 1}, \"104\": {\"104\": 11, \"25\": 1, \"111\": 1, \"75\": 1, \"41\": 1, \"68\": 1}, \"72\": {\"72\": 10, \"104\": 1, \"99\": 5, \"40\": 3, \"127\": 1, \"100\": 1, \"7\": 2, \"45\": 1, \"74\": 1, \"3\": 1, \"60\": 1, \"71\": 1, \"1\": 2, \"93\": 2}, \"69\": {\"69\": 105, \"88\": 1, \"96\": 1, \"40\": 2, \"105\": 4, \"33\": 2, \"84\": 2, \"21\": 1, \"39\": 1, \"14\": 4, \"109\": 1, \"71\": 2, \"3\": 2}, \"63\": {\"63\": 15, \"117\": 1}, \"12\": {\"12\": 69, \"51\": 2, \"106\": 14, \"127\": 5, \"7\": 1, \"105\": 2, \"101\": 1, \"90\": 1, \"42\": 1, \"110\": 2, \"8\": 1, \"88\": 1}, \"25\": {\"25\": 10, \"77\": 2, \"85\": 1, \"128\": 1, \"29\": 2}, \"67\": {\"63\": 1, \"104\": 1, \"74\": 1, \"67\": 5, \"48\": 1, \"91\": 2, \"92\": 2, \"123\": 1, \"2\": 2}, \"50\": {\"50\": 10, \"104\": 1, \"91\": 1, \"129\": 1, \"116\": 1, \"94\": 2}, \"43\": {\"43\": 101, \"87\": 5, \"70\": 1, \"118\": 2, \"27\": 3, \"88\": 1, \"122\": 1, \"30\": 1, \"0\": 2, \"108\": 1, \"98\": 1, \"110\": 1}, \"96\": {\"96\": 10, \"94\": 1, \"87\": 1, \"62\": 1, \"113\": 2, \"16\": 1, \"69\": 2, \"84\": 1, \"7\": 1}, \"128\": {\"128\": 13, \"85\": 2, \"82\": 1, \"64\": 1, \"100\": 1, \"46\": 1, \"89\": 2, \"52\": 1, \"32\": 1, \"83\": 1}, \"77\": {\"25\": 1, \"77\": 10, \"58\": 1}, \"54\": {\"54\": 16}, \"118\": {\"118\": 73, \"122\": 10, \"109\": 1, \"110\": 6, \"39\": 4, \"87\": 7, \"88\": 1, \"43\": 4, \"0\": 1, \"7\": 1, \"16\": 1, \"78\": 1, \"21\": 1, \"62\": 1}, \"30\": {\"30\": 47, \"15\": 3, \"36\": 10, \"27\": 3, \"0\": 7, \"87\": 2, \"8\": 1, \"94\": 3}, \"51\": {\"54\": 2, \"127\": 1, \"40\": 1, \"34\": 1, \"51\": 2, \"87\": 1, \"95\": 2, \"105\": 2, \"107\": 2, \"9\": 1, \"30\": 1}, \"122\": {\"43\": 5, \"122\": 45, \"118\": 9, \"87\": 3, \"0\": 4, \"110\": 5, \"11\": 3, \"39\": 1, \"108\": 2, \"23\": 2, \"62\": 2, \"30\": 1, \"109\": 1, \"7\": 1}, \"46\": {\"46\": 15, \"72\": 1, \"85\": 2, \"111\": 1, \"56\": 1}, \"79\": {\"79\": 14, \"115\": 2}, \"103\": {\"103\": 11, \"29\": 4, \"111\": 1}, \"74\": {\"79\": 1, \"74\": 9, \"76\": 1, \"100\": 1, \"42\": 1, \"33\": 1, \"5\": 2}, \"90\": {\"90\": 145, \"33\": 1}, \"8\": {\"8\": 91, \"36\": 2, \"60\": 1, \"24\": 1, \"94\": 9, \"101\": 10, \"0\": 5, \"15\": 16, \"106\": 2, \"11\": 2, \"90\": 1, \"88\": 1, \"87\": 1}, \"94\": {\"94\": 57, \"27\": 1, \"0\": 3, \"15\": 7, \"4\": 1, \"30\": 3, \"87\": 2, \"36\": 3, \"8\": 4, \"106\": 1, \"43\": 2, \"21\": 1, \"78\": 1, \"7\": 1, \"39\": 1}, \"7\": {\"94\": 1, \"127\": 1, \"7\": 89, \"101\": 2, \"8\": 2, \"15\": 3, \"108\": 1, \"10\": 1, \"70\": 2, \"106\": 2, \"126\": 1, \"11\": 3, \"12\": 4, \"23\": 1, \"60\": 4, \"62\": 2, \"93\": 1, \"40\": 2}, \"61\": {\"61\": 11, \"18\": 1, \"121\": 2, \"81\": 1, \"28\": 1}, \"26\": {\"26\": 108, \"35\": 2, \"18\": 1, \"16\": 3, \"93\": 1, \"30\": 2, \"84\": 1, \"126\": 1, \"113\": 1}, \"127\": {\"127\": 100, \"106\": 3, \"126\": 1, \"14\": 2, \"105\": 2}, \"23\": {\"94\": 1, \"93\": 1, \"21\": 1, \"5\": 1, \"87\": 1, \"108\": 3, \"70\": 3, \"23\": 1, \"7\": 2, \"43\": 2}, \"1\": {\"1\": 59, \"99\": 2, \"107\": 13, \"71\": 4, \"40\": 3, \"114\": 14, \"3\": 6, \"10\": 2, \"88\": 1, \"14\": 2, \"69\": 1, \"7\": 1}, \"93\": {\"93\": 83, \"16\": 15, \"113\": 1, \"96\": 1, \"11\": 6, \"110\": 10, \"7\": 4, \"69\": 3, \"87\": 1, \"118\": 2, \"14\": 1, \"70\": 1, \"27\": 1, \"122\": 3, \"0\": 1, \"105\": 1}, \"106\": {\"106\": 77, \"127\": 6, \"12\": 17, \"109\": 3, \"122\": 1, \"51\": 2, \"108\": 1, \"39\": 2, \"10\": 2, \"1\": 1, \"105\": 2, \"78\": 1, \"30\": 1}, \"110\": {\"110\": 95, \"62\": 6, \"87\": 4, \"122\": 1, \"93\": 2, \"11\": 5, \"39\": 1, \"109\": 1, \"27\": 1, \"0\": 1, \"10\": 1}, \"76\": {\"76\": 7, \"40\": 2, \"72\": 2, \"114\": 2, \"3\": 1, \"98\": 1, \"107\": 1}, \"36\": {\"36\": 90, \"30\": 8, \"97\": 1, \"94\": 5, \"70\": 2, \"27\": 7, \"8\": 2, \"87\": 3, \"109\": 1, \"0\": 1}, \"21\": {\"21\": 38, \"78\": 2}, \"37\": {\"115\": 1, \"37\": 7, \"124\": 2, \"17\": 1, \"116\": 1, \"119\": 1, \"104\": 2, \"42\": 1}, \"11\": {\"11\": 81, \"118\": 4, \"110\": 21, \"7\": 4, \"87\": 1, \"8\": 1, \"60\": 1, \"83\": 1, \"93\": 2, \"62\": 1, \"122\": 2, \"69\": 1}, \"109\": {\"109\": 98, \"108\": 6, \"39\": 3, \"24\": 1, \"70\": 3, \"126\": 1, \"88\": 2, \"10\": 2}, \"62\": {\"21\": 1, \"60\": 1, \"62\": 34, \"7\": 3, \"126\": 2, \"110\": 6, \"11\": 5, \"113\": 1, \"0\": 1, \"118\": 3, \"43\": 1, \"108\": 1, \"122\": 1}, \"89\": {\"89\": 26, \"73\": 1, \"107\": 1, \"32\": 2, \"85\": 2}, \"126\": {\"126\": 116, \"10\": 2, \"109\": 1, \"43\": 1, \"39\": 4}, \"101\": {\"101\": 106, \"105\": 1, \"8\": 11, \"88\": 2, \"87\": 1, \"12\": 1, \"109\": 1, \"94\": 1, \"15\": 1, \"7\": 1, \"117\": 1, \"5\": 1}, \"65\": {\"65\": 12}, \"19\": {\"19\": 11, \"82\": 1, \"98\": 3, \"9\": 1, \"120\": 3, \"83\": 1, \"89\": 2, \"57\": 1, \"56\": 3, \"91\": 1, \"111\": 1}, \"27\": {\"62\": 1, \"27\": 77, \"94\": 1, \"70\": 1, \"0\": 2, \"15\": 1, \"87\": 3, \"10\": 2, \"36\": 2, \"108\": 1, \"43\": 2, \"24\": 2, \"122\": 2, \"30\": 2, \"39\": 1}, \"5\": {\"5\": 105, \"21\": 1, \"33\": 16, \"69\": 1, \"3\": 3, \"88\": 2, \"114\": 1, \"92\": 1, \"40\": 1, \"99\": 1, \"98\": 1, \"107\": 1, \"105\": 1, \"1\": 1}, \"73\": {\"73\": 12, \"112\": 2, \"42\": 3, \"38\": 1, \"79\": 1, \"19\": 1, \"120\": 1, \"31\": 1, \"115\": 2}, \"6\": {\"73\": 1, \"6\": 21, \"68\": 2}, \"29\": {\"29\": 29, \"103\": 1, \"56\": 1, \"98\": 1}, \"114\": {\"114\": 102, \"107\": 8, \"71\": 1, \"1\": 9, \"5\": 2, \"76\": 1, \"27\": 1, \"40\": 1, \"3\": 1, \"69\": 2}, \"49\": {\"49\": 11, \"32\": 1, \"127\": 1, \"14\": 2, \"44\": 2, \"99\": 2, \"105\": 2, \"53\": 1, \"72\": 1, \"40\": 2, \"12\": 2, \"114\": 1, \"69\": 1, \"71\": 3}, \"16\": {\"16\": 106, \"96\": 1, \"26\": 2, \"110\": 1, \"70\": 1, \"93\": 4, \"88\": 2, \"113\": 1}, \"68\": {\"68\": 13, \"6\": 1, \"98\": 1, \"29\": 1}, \"98\": {\"98\": 102, \"68\": 1, \"9\": 1, \"19\": 1, \"76\": 1, \"73\": 1, \"40\": 1, \"3\": 2, \"33\": 1, \"41\": 2, \"114\": 1, \"82\": 1, \"85\": 1, \"111\": 4}, \"64\": {\"64\": 11, \"115\": 1, \"41\": 2, \"73\": 1, \"38\": 1}, \"121\": {\"121\": 30, \"81\": 1, \"92\": 1}, \"124\": {\"37\": 1, \"124\": 96, \"125\": 4, \"111\": 12, \"4\": 1}, \"97\": {\"97\": 16, \"70\": 1, \"94\": 2, \"109\": 1}, \"40\": {\"40\": 119, \"114\": 3, \"107\": 4, \"105\": 2, \"72\": 1, \"89\": 1, \"71\": 4, \"3\": 2}, \"119\": {\"119\": 12, \"102\": 1, \"104\": 1, \"86\": 2}, \"100\": {\"83\": 1, \"89\": 3, \"100\": 9, \"44\": 1, \"112\": 1, \"128\": 1, \"33\": 1, \"49\": 1, \"76\": 2}, \"87\": {\"87\": 104, \"36\": 1, \"43\": 4, \"110\": 2, \"0\": 2, \"15\": 1, \"101\": 2}, \"88\": {\"88\": 93, \"23\": 1, \"109\": 10, \"78\": 3, \"24\": 5, \"39\": 2, \"10\": 4, \"21\": 3, \"70\": 2, \"113\": 1, \"108\": 4}, \"52\": {\"52\": 9, \"47\": 1, \"78\": 1, \"51\": 1, \"89\": 1, \"49\": 1, \"54\": 1, \"120\": 1, \"34\": 2, \"43\": 1, \"83\": 1}, \"80\": {\"80\": 15, \"6\": 1}, \"105\": {\"105\": 69, \"14\": 7, \"20\": 1, \"86\": 1, \"12\": 2, \"39\": 2, \"71\": 7, \"106\": 1, \"40\": 2, \"127\": 4, \"109\": 1, \"88\": 1, \"1\": 1, \"10\": 1}, \"32\": {\"46\": 1, \"32\": 8, \"107\": 2, \"57\": 2, \"85\": 2, \"100\": 1, \"49\": 1, \"33\": 1, \"89\": 2, \"72\": 1, \"34\": 2, \"114\": 1, \"1\": 1, \"83\": 2, \"71\": 1}, \"35\": {\"18\": 4, \"35\": 6, \"81\": 2}, \"99\": {\"99\": 19, \"72\": 2, \"8\": 1, \"60\": 1, \"49\": 3, \"69\": 3, \"40\": 2, \"14\": 3, \"3\": 2, \"107\": 1, \"114\": 1, \"7\": 1, \"5\": 1}, \"18\": {\"35\": 3, \"18\": 113, \"96\": 1, \"126\": 1, \"30\": 1, \"16\": 1}, \"24\": {\"70\": 7, \"24\": 95, \"88\": 1, \"10\": 5, \"27\": 1, \"0\": 1, \"36\": 1, \"109\": 1}, \"85\": {\"85\": 24, \"39\": 1, \"52\": 1, \"107\": 2}, \"39\": {\"39\": 96, \"88\": 1, \"126\": 2, \"113\": 1}, \"123\": {\"63\": 1, \"123\": 14, \"80\": 1}, \"91\": {\"91\": 21, \"112\": 1, \"77\": 1, \"55\": 1}, \"78\": {\"78\": 31, \"88\": 2, \"21\": 2, \"109\": 1}, \"38\": {\"38\": 14, \"18\": 1, \"44\": 1}, \"15\": {\"8\": 17, \"15\": 90, \"94\": 7, \"30\": 2, \"10\": 1, \"39\": 2, \"0\": 5, \"87\": 1, \"7\": 1, \"78\": 1, \"118\": 1}, \"48\": {\"48\": 13, \"116\": 1, \"31\": 1, \"66\": 1}, \"45\": {\"38\": 2, \"45\": 11, \"19\": 1, \"57\": 1, \"31\": 1}, \"120\": {\"103\": 2, \"19\": 1, \"120\": 10, \"89\": 1, \"52\": 2, \"98\": 1, \"37\": 1, \"31\": 2}, \"44\": {\"38\": 1, \"1\": 1, \"44\": 58, \"107\": 1, \"99\": 2, \"117\": 1}, \"86\": {\"86\": 24, \"27\": 1, \"124\": 1, \"21\": 1, \"42\": 1}, \"20\": {\"40\": 2, \"20\": 11, \"84\": 1, \"1\": 2}, \"33\": {\"33\": 132, \"107\": 1, \"5\": 9, \"90\": 1, \"3\": 1, \"98\": 1, \"40\": 1, \"93\": 1, \"114\": 1, \"21\": 1, \"10\": 1}, \"129\": {\"129\": 17, \"73\": 2, \"104\": 1, \"102\": 2, \"124\": 1, \"91\": 1, \"90\": 1, \"115\": 2, \"111\": 1}, \"34\": {\"34\": 15, \"127\": 1, \"51\": 1, \"12\": 1, \"105\": 5, \"114\": 2, \"40\": 3, \"7\": 1, \"9\": 2, \"99\": 1}, \"81\": {\"81\": 35, \"21\": 1}, \"57\": {\"50\": 2, \"57\": 9, \"10\": 1, \"90\": 2, \"70\": 1, \"98\": 1}, \"0\": {\"0\": 75, \"15\": 9, \"27\": 1, \"30\": 2, \"106\": 1, \"8\": 15, \"88\": 1, \"36\": 2, \"87\": 4, \"70\": 1, \"94\": 4, \"7\": 1}, \"2\": {\"2\": 25, \"117\": 2, \"102\": 1}, \"42\": {\"103\": 1, \"102\": 5, \"73\": 2, \"91\": 1, \"42\": 9, \"29\": 3, \"48\": 1, \"37\": 2, \"17\": 1, \"116\": 1, \"114\": 1, \"98\": 1}, \"84\": {\"69\": 11, \"84\": 104, \"39\": 1, \"3\": 2, \"70\": 1, \"16\": 4, \"40\": 2, \"7\": 1, \"113\": 1, \"14\": 2, \"11\": 1, \"30\": 1, \"18\": 1}, \"3\": {\"3\": 91, \"99\": 1, \"107\": 9, \"114\": 5, \"21\": 1, \"1\": 2, \"69\": 2, \"105\": 1, \"10\": 1, \"40\": 1, \"84\": 1, \"14\": 1, \"49\": 3, \"23\": 1, \"78\": 1, \"12\": 1, \"88\": 1, \"71\": 2, \"98\": 1}, \"41\": {\"128\": 1, \"73\": 1, \"41\": 12, \"28\": 1, \"75\": 1}, \"53\": {\"53\": 12, \"41\": 1, \"10\": 1, \"71\": 2}, \"66\": {\"66\": 8, \"33\": 1, \"2\": 1, \"116\": 2, \"48\": 1, \"57\": 2, \"61\": 1}, \"22\": {\"22\": 12, \"92\": 2, \"66\": 1, \"98\": 1}}, \"C_5\": {\"35\": {\"35\": 30, \"23\": 1, \"43\": 1, \"14\": 1, \"2\": 1, \"31\": 1, \"37\": 1}, \"57\": {\"57\": 126, \"52\": 2, \"47\": 4}, \"20\": {\"20\": 139, \"48\": 2, \"9\": 1, \"1\": 2}, \"12\": {\"12\": 89, \"45\": 1, \"6\": 2, \"30\": 1, \"4\": 3}, \"32\": {\"32\": 30, \"8\": 1, \"51\": 1}, \"25\": {\"25\": 135, \"16\": 1, \"11\": 1, \"15\": 1}, \"44\": {\"5\": 1, \"44\": 139, \"3\": 2, \"40\": 6}, \"31\": {\"31\": 32, \"24\": 4}, \"11\": {\"11\": 147, \"16\": 3}, \"47\": {\"47\": 92, \"52\": 1, \"57\": 7}, \"23\": {\"23\": 108, \"54\": 3, \"53\": 5, \"19\": 7, \"42\": 1}, \"43\": {\"43\": 140, \"2\": 2, \"35\": 1, \"37\": 1}, \"37\": {\"37\": 15, \"2\": 6, \"43\": 2, \"56\": 1}, \"5\": {\"5\": 124, \"44\": 1, \"40\": 2, \"3\": 1}, \"45\": {\"45\": 97, \"5\": 3, \"6\": 15, \"50\": 6, \"4\": 2, \"12\": 1}, \"7\": {\"7\": 31, \"32\": 1}, \"13\": {\"13\": 131, \"47\": 1, \"57\": 1, \"29\": 3}, \"49\": {\"49\": 36}, \"46\": {\"46\": 145, \"3\": 1, \"40\": 1, \"0\": 1}, \"16\": {\"16\": 131, \"24\": 1, \"15\": 1, \"10\": 1, \"28\": 1, \"11\": 1}, \"54\": {\"54\": 105, \"34\": 3, \"33\": 1, \"24\": 1, \"19\": 2}, \"19\": {\"19\": 152}, \"55\": {\"55\": 122, \"17\": 3, \"26\": 1, \"53\": 15, \"19\": 3, \"51\": 4, \"38\": 2}, \"30\": {\"30\": 121, \"9\": 7}, \"34\": {\"34\": 28, \"54\": 4, \"23\": 2, \"35\": 1, \"14\": 1}, \"50\": {\"5\": 2, \"50\": 123, \"6\": 4, \"45\": 4, \"40\": 1}, \"3\": {\"44\": 3, \"3\": 81, \"0\": 3, \"40\": 6, \"46\": 5, \"22\": 2}, \"10\": {\"10\": 67, \"24\": 1}, \"27\": {\"27\": 133, \"48\": 2, \"39\": 1, \"8\": 5, \"32\": 1}, \"33\": {\"33\": 26, \"39\": 2, \"41\": 3, \"52\": 1}, \"56\": {\"56\": 126, \"29\": 2, \"0\": 12, \"57\": 1, \"46\": 1}, \"9\": {\"9\": 143, \"40\": 1, \"30\": 6}, \"14\": {\"14\": 40, \"39\": 1, \"36\": 2, \"29\": 1}, \"4\": {\"4\": 87, \"40\": 1, \"30\": 4, \"5\": 5, \"9\": 2, \"6\": 1}, \"42\": {\"42\": 35, \"39\": 1, \"19\": 1, \"23\": 3}, \"24\": {\"24\": 78, \"31\": 2}, \"39\": {\"33\": 3, \"41\": 1, \"39\": 15, \"14\": 1}, \"52\": {\"52\": 126, \"56\": 1, \"57\": 1, \"21\": 2}, \"2\": {\"2\": 21, \"37\": 3, \"43\": 4}, \"28\": {\"28\": 32}, \"53\": {\"53\": 122}, \"17\": {\"17\": 116}, \"29\": {\"29\": 129, \"14\": 1, \"47\": 2}, \"38\": {\"17\": 1, \"38\": 22, \"55\": 2, \"51\": 4, \"33\": 1, \"7\": 2}, \"15\": {\"15\": 137, \"16\": 7}, \"26\": {\"26\": 16, \"53\": 1, \"38\": 1, \"55\": 4, \"17\": 2}, \"21\": {\"21\": 143, \"57\": 1}, \"41\": {\"41\": 21, \"39\": 1, \"34\": 1, \"47\": 1, \"27\": 2, \"33\": 2}, \"48\": {\"48\": 108, \"8\": 7, \"20\": 5, \"1\": 11, \"27\": 5}, \"22\": {\"22\": 26, \"0\": 2}, \"8\": {\"8\": 135, \"27\": 10, \"48\": 2, \"20\": 1}, \"18\": {\"18\": 64}, \"0\": {\"0\": 122}, \"1\": {\"1\": 137, \"20\": 1}, \"40\": {\"40\": 114, \"44\": 3, \"22\": 1, \"3\": 5, \"46\": 1}, \"6\": {\"6\": 111, \"50\": 5, \"45\": 11, \"4\": 1}, \"51\": {\"51\": 139, \"55\": 2, \"42\": 1}, \"36\": {\"36\": 91, \"37\": 1}}}, \"per_domain_accuracy\": {\"O_50\": {\"accuracy\": 0.9114583333333334, \"source?\": true}, \"O_14\": {\"accuracy\": 0.2869791666666667, \"source?\": true}, \"O_32\": {\"accuracy\": 0.7348958333333333, \"source?\": true}, \"O_44\": {\"accuracy\": 0.8127604166666667, \"source?\": true}, \"O_8\": {\"accuracy\": 0.32005208333333335, \"source?\": true}, \"O_20\": {\"accuracy\": 0.16276041666666666, \"source?\": true}, \"O_38\": {\"accuracy\": 0.9203125, \"source?\": true}, \"O_26\": {\"accuracy\": 0.2872395833333333, \"source?\": true}, \"C_4\": {\"accuracy\": 0.89375, \"source?\": false}, \"C_2\": {\"accuracy\": 0.9129213483146067, \"source?\": false}, \"C_3\": {\"accuracy\": 0.9071800595238095, \"source?\": false}, \"W_3\": {\"accuracy\": 0.8189137554585153, \"source?\": false}, \"C_1\": {\"accuracy\": 0.952027027027027, \"source?\": false}, \"W_2\": {\"accuracy\": 0.774609375, \"source?\": false}, \"W_1\": {\"accuracy\": 0.8029661016949152, \"source?\": false}, \"W_4\": {\"accuracy\": 0.7683899176954733, \"source?\": false}, \"C_5\": {\"accuracy\": 0.9306913407821229, \"source?\": false}}}, \"history\": {\"epoch_indices\": [1, 2, 3, 4, 5], \"train_label_loss\": [0.4105049751629676, 2.4165458896735106, 0.24602080517478975, 0.19887377691976282, 0.17670107410716204], \"source_val_label_loss\": [308.9756164550781, 0.33138811588287354, 0.21950627863407135, 0.22305980324745178, 0.1816018968820572], \"target_val_label_loss\": [10639.3671875, 1398.8826904296875, 2325.191650390625, 2569.450927734375, 2700.96142578125], \"source_val_acc_label\": [0.5545572916666667, 0.89453125, 0.92900390625, 0.9225260416666666, 0.93876953125], \"target_val_acc_label\": [0.8528524410312671, 0.7859297860669227, 0.689368486012068, 0.679957487657707, 0.6996194459681843]}, \"dataset_metrics\": {\"source\": {\"train\": {\"n_unique_x\": 179200, \"n_unique_y\": 16, \"n_batch/episode\": 6720}, \"val\": {\"n_unique_x\": 38400, \"n_unique_y\": 16, \"n_batch/episode\": 960}, \"test\": {\"n_unique_x\": 38400, \"n_unique_y\": 16, \"n_batch/episode\": 960}}, \"target\": {\"train\": {\"n_unique_x\": 364205, \"n_unique_y\": 130, \"n_batch/episode\": 13140}, \"val\": {\"n_unique_x\": 77236, \"n_unique_y\": 130, \"n_batch/episode\": 1823}, \"test\": {\"n_unique_x\": 78478, \"n_unique_y\": 130, \"n_batch/episode\": 1857}}}}'"
      ]
     },
     "execution_count": 29,
     "metadata": {},
     "output_type": "execute_result"
    }
   ],
   "source": [
    "json.dumps(experiment)"
   ]
  }
 ],
 "metadata": {
  "celltoolbar": "Tags",
  "kernelspec": {
   "display_name": "Python 3 (ipykernel)",
   "language": "python",
   "name": "python3"
  },
  "language_info": {
   "codemirror_mode": {
    "name": "ipython",
    "version": 3
   },
   "file_extension": ".py",
   "mimetype": "text/x-python",
   "name": "python",
   "nbconvert_exporter": "python",
   "pygments_lexer": "ipython3",
   "version": "3.8.10"
  },
  "papermill": {
   "default_parameters": {},
   "duration": 1125.016714,
   "end_time": "2022-03-20T02:01:09.979493",
   "environment_variables": {},
   "exception": null,
   "input_path": "/mnt/wd500GB/CSC500/csc500-main/csc500-notebooks/templates/tl_ptn_template.ipynb",
   "output_path": "trial.ipynb",
   "parameters": {
    "parameters": {
     "BEST_MODEL_PATH": "./best_model.pth",
     "NUM_LOGS_PER_EPOCH": 10,
     "criteria_for_best": "target_accuracy",
     "dataset_seed": 500,
     "datasets": [
      {
       "domain_prefix": "C_",
       "domains": [
        1,
        2,
        3,
        4,
        5
       ],
       "episode_transforms": [],
       "labels": [
        "1-10.",
        "1-11.",
        "1-15.",
        "1-16.",
        "1-17.",
        "1-18.",
        "1-19.",
        "10-4.",
        "10-7.",
        "11-1.",
        "11-14.",
        "11-17.",
        "11-20.",
        "11-7.",
        "13-20.",
        "13-8.",
        "14-10.",
        "14-11.",
        "14-14.",
        "14-7.",
        "15-1.",
        "15-20.",
        "16-1.",
        "16-16.",
        "17-10.",
        "17-11.",
        "17-2.",
        "19-1.",
        "19-16.",
        "19-19.",
        "19-20.",
        "19-3.",
        "2-10.",
        "2-11.",
        "2-17.",
        "2-18.",
        "2-20.",
        "2-3.",
        "2-4.",
        "2-5.",
        "2-6.",
        "2-7.",
        "2-8.",
        "3-13.",
        "3-18.",
        "3-3.",
        "4-1.",
        "4-10.",
        "4-11.",
        "4-19.",
        "5-5.",
        "6-15.",
        "7-10.",
        "7-14.",
        "8-18.",
        "8-20.",
        "8-3.",
        "8-8."
       ],
       "num_examples_per_domain_per_label": -1,
       "pickle_path": "/mnt/wd500GB/CSC500/csc500-main/datasets/cores.stratified_ds.2022A.pkl",
       "source_or_target_dataset": "target",
       "x_transforms": []
      },
      {
       "domain_prefix": "W_",
       "domains": [
        1,
        2,
        3,
        4
       ],
       "episode_transforms": [],
       "labels": [
        "1-10",
        "1-12",
        "1-14",
        "1-16",
        "1-18",
        "1-19",
        "1-8",
        "10-11",
        "10-17",
        "10-4",
        "10-7",
        "11-1",
        "11-10",
        "11-19",
        "11-20",
        "11-4",
        "11-7",
        "12-19",
        "12-20",
        "12-7",
        "13-14",
        "13-18",
        "13-19",
        "13-20",
        "13-3",
        "13-7",
        "14-10",
        "14-11",
        "14-12",
        "14-13",
        "14-14",
        "14-19",
        "14-20",
        "14-7",
        "14-8",
        "14-9",
        "15-1",
        "15-19",
        "15-6",
        "16-1",
        "16-16",
        "16-19",
        "16-20",
        "17-10",
        "17-11",
        "18-1",
        "18-10",
        "18-11",
        "18-12",
        "18-13",
        "18-14",
        "18-15",
        "18-16",
        "18-17",
        "18-19",
        "18-2",
        "18-20",
        "18-4",
        "18-5",
        "18-7",
        "18-8",
        "18-9",
        "19-1",
        "19-10",
        "19-11",
        "19-12",
        "19-13",
        "19-14",
        "19-15",
        "19-19",
        "19-2",
        "19-20",
        "19-3",
        "19-4",
        "19-6",
        "19-7",
        "19-8",
        "19-9",
        "2-1",
        "2-13",
        "2-15",
        "2-3",
        "2-4",
        "2-5",
        "2-6",
        "2-7",
        "2-8",
        "20-1",
        "20-12",
        "20-14",
        "20-15",
        "20-16",
        "20-18",
        "20-19",
        "20-20",
        "20-3",
        "20-4",
        "20-5",
        "20-7",
        "20-8",
        "3-1",
        "3-13",
        "3-18",
        "3-2",
        "3-8",
        "4-1",
        "4-10",
        "4-11",
        "5-1",
        "5-5",
        "6-1",
        "6-15",
        "6-6",
        "7-10",
        "7-11",
        "7-12",
        "7-13",
        "7-14",
        "7-7",
        "7-8",
        "7-9",
        "8-1",
        "8-13",
        "8-14",
        "8-18",
        "8-20",
        "8-3",
        "8-8",
        "9-1",
        "9-7"
       ],
       "num_examples_per_domain_per_label": -1,
       "pickle_path": "/mnt/wd500GB/CSC500/csc500-main/datasets/wisig.node3-19.stratified_ds.2022A.pkl",
       "source_or_target_dataset": "target",
       "x_transforms": []
      },
      {
       "domain_prefix": "O_",
       "domains": [
        32,
        38,
        8,
        44,
        14,
        50,
        20,
        26
       ],
       "episode_transforms": [],
       "labels": [
        "3123D52",
        "3123D65",
        "3123D79",
        "3123D80",
        "3123D54",
        "3123D70",
        "3123D7B",
        "3123D89",
        "3123D58",
        "3123D76",
        "3123D7D",
        "3123EFE",
        "3123D64",
        "3123D78",
        "3123D7E",
        "3124E4A"
       ],
       "num_examples_per_domain_per_label": 2000,
       "pickle_path": "/mnt/wd500GB/CSC500/csc500-main/datasets/oracle.Run1_framed_2000Examples_stratified_ds.2022A.pkl",
       "source_or_target_dataset": "source",
       "x_transforms": []
      }
     ],
     "device": "cuda",
     "experiment_name": "tl_2v2:oracle.run1.framed -> cores+wisig",
     "lr": 0.0001,
     "n_epoch": 50,
     "n_query": 2,
     "n_shot": 3,
     "n_way": 16,
     "patience": 3,
     "seed": 500,
     "test_k_factor": 2,
     "torch_default_dtype": "torch.float32",
     "train_k_factor": 3,
     "val_k_factor": 2,
     "x_net": [
      {
       "class": "nnReshape",
       "kargs": {
        "shape": [
         -1,
         1,
         2,
         256
        ]
       }
      },
      {
       "class": "Conv2d",
       "kargs": {
        "bias": false,
        "in_channels": 1,
        "kernel_size": [
         1,
         7
        ],
        "out_channels": 256,
        "padding": [
         0,
         3
        ]
       }
      },
      {
       "class": "ReLU",
       "kargs": {
        "inplace": true
       }
      },
      {
       "class": "BatchNorm2d",
       "kargs": {
        "num_features": 256
       }
      },
      {
       "class": "Conv2d",
       "kargs": {
        "bias": true,
        "in_channels": 256,
        "kernel_size": [
         2,
         7
        ],
        "out_channels": 80,
        "padding": [
         0,
         3
        ]
       }
      },
      {
       "class": "ReLU",
       "kargs": {
        "inplace": true
       }
      },
      {
       "class": "BatchNorm2d",
       "kargs": {
        "num_features": 80
       }
      },
      {
       "class": "Flatten",
       "kargs": {}
      },
      {
       "class": "Linear",
       "kargs": {
        "in_features": 20480,
        "out_features": 256
       }
      },
      {
       "class": "ReLU",
       "kargs": {
        "inplace": true
       }
      },
      {
       "class": "BatchNorm1d",
       "kargs": {
        "num_features": 256
       }
      },
      {
       "class": "Linear",
       "kargs": {
        "in_features": 256,
        "out_features": 256
       }
      }
     ]
    }
   },
   "start_time": "2022-03-20T01:42:24.962779",
   "version": "2.3.4"
  }
 },
 "nbformat": 4,
 "nbformat_minor": 5
}