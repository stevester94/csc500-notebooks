{
 "cells": [
  {
   "cell_type": "markdown",
   "id": "9fea5f46",
   "metadata": {
    "papermill": {
     "duration": 0.01758,
     "end_time": "2022-03-19T23:05:43.904328",
     "exception": false,
     "start_time": "2022-03-19T23:05:43.886748",
     "status": "completed"
    },
    "tags": []
   },
   "source": [
    "# Transfer Learning Template"
   ]
  },
  {
   "cell_type": "code",
   "execution_count": 1,
   "id": "0902182a",
   "metadata": {
    "execution": {
     "iopub.execute_input": "2022-03-19T23:05:43.942509Z",
     "iopub.status.busy": "2022-03-19T23:05:43.937281Z",
     "iopub.status.idle": "2022-03-19T23:05:44.880671Z",
     "shell.execute_reply": "2022-03-19T23:05:44.880152Z"
    },
    "papermill": {
     "duration": 0.963595,
     "end_time": "2022-03-19T23:05:44.880788",
     "exception": false,
     "start_time": "2022-03-19T23:05:43.917193",
     "status": "completed"
    },
    "tags": []
   },
   "outputs": [],
   "source": [
    "%load_ext autoreload\n",
    "%autoreload 2\n",
    "%matplotlib inline\n",
    "\n",
    "    \n",
    "import os, json, sys, time, random\n",
    "import numpy as np\n",
    "import torch\n",
    "from torch.optim import Adam\n",
    "from  easydict import EasyDict\n",
    "import matplotlib.pyplot as plt\n",
    "\n",
    "from steves_models.steves_ptn import Steves_Prototypical_Network\n",
    "\n",
    "from steves_utils.lazy_iterable_wrapper import Lazy_Iterable_Wrapper\n",
    "from steves_utils.iterable_aggregator import Iterable_Aggregator\n",
    "from steves_utils.ptn_train_eval_test_jig import  PTN_Train_Eval_Test_Jig\n",
    "from steves_utils.torch_sequential_builder import build_sequential\n",
    "from steves_utils.torch_utils import get_dataset_metrics, ptn_confusion_by_domain_over_dataloader\n",
    "from steves_utils.utils_v2 import (per_domain_accuracy_from_confusion, get_datasets_base_path)\n",
    "from steves_utils.PTN.utils import independent_accuracy_assesment\n",
    "\n",
    "from torch.utils.data import DataLoader\n",
    "\n",
    "from steves_utils.stratified_dataset.episodic_accessor import Episodic_Accessor_Factory\n",
    "\n",
    "from steves_utils.ptn_do_report import (\n",
    "    get_loss_curve,\n",
    "    get_results_table,\n",
    "    get_parameters_table,\n",
    "    get_domain_accuracies,\n",
    ")\n",
    "\n",
    "from steves_utils.transforms import get_chained_transform"
   ]
  },
  {
   "cell_type": "markdown",
   "id": "41c840b4",
   "metadata": {
    "papermill": {
     "duration": 0.013044,
     "end_time": "2022-03-19T23:05:44.912707",
     "exception": false,
     "start_time": "2022-03-19T23:05:44.899663",
     "status": "completed"
    },
    "tags": []
   },
   "source": [
    "# Allowed Parameters\n",
    "These are allowed parameters, not defaults\n",
    "Each of these values need to be present in the injected parameters (the notebook will raise an exception if they are not present)\n",
    "\n",
    "Papermill uses the cell tag \"parameters\" to inject the real parameters below this cell.\n",
    "Enable tags to see what I mean"
   ]
  },
  {
   "cell_type": "code",
   "execution_count": 2,
   "id": "fd44eb83",
   "metadata": {
    "execution": {
     "iopub.execute_input": "2022-03-19T23:05:44.941517Z",
     "iopub.status.busy": "2022-03-19T23:05:44.940180Z",
     "iopub.status.idle": "2022-03-19T23:05:44.955101Z",
     "shell.execute_reply": "2022-03-19T23:05:44.954878Z"
    },
    "papermill": {
     "duration": 0.029353,
     "end_time": "2022-03-19T23:05:44.955154",
     "exception": false,
     "start_time": "2022-03-19T23:05:44.925801",
     "status": "completed"
    },
    "tags": []
   },
   "outputs": [],
   "source": [
    "required_parameters = {\n",
    "    \"experiment_name\",\n",
    "    \"lr\",\n",
    "    \"device\",\n",
    "    \"seed\",\n",
    "    \"dataset_seed\",\n",
    "    \"n_shot\",\n",
    "    \"n_query\",\n",
    "    \"n_way\",\n",
    "    \"train_k_factor\",\n",
    "    \"val_k_factor\",\n",
    "    \"test_k_factor\",\n",
    "    \"n_epoch\",\n",
    "    \"patience\",\n",
    "    \"criteria_for_best\",\n",
    "    \"x_net\",\n",
    "    \"datasets\",\n",
    "    \"torch_default_dtype\",\n",
    "    \"NUM_LOGS_PER_EPOCH\",\n",
    "    \"BEST_MODEL_PATH\",\n",
    "    \"x_shape\",\n",
    "}"
   ]
  },
  {
   "cell_type": "code",
   "execution_count": 3,
   "id": "fa3f0049",
   "metadata": {
    "execution": {
     "iopub.execute_input": "2022-03-19T23:05:44.990162Z",
     "iopub.status.busy": "2022-03-19T23:05:44.989874Z",
     "iopub.status.idle": "2022-03-19T23:05:45.002201Z",
     "shell.execute_reply": "2022-03-19T23:05:45.001758Z"
    },
    "papermill": {
     "duration": 0.030885,
     "end_time": "2022-03-19T23:05:45.002291",
     "exception": false,
     "start_time": "2022-03-19T23:05:44.971406",
     "status": "completed"
    },
    "tags": [
     "parameters"
    ]
   },
   "outputs": [],
   "source": [
    "from steves_utils.CORES.utils import (\n",
    "    ALL_NODES,\n",
    "    ALL_NODES_MINIMUM_1000_EXAMPLES,\n",
    "    ALL_DAYS\n",
    ")\n",
    "\n",
    "from steves_utils.ORACLE.utils_v2 import (\n",
    "    ALL_DISTANCES_FEET_NARROWED,\n",
    "    ALL_RUNS,\n",
    "    ALL_SERIAL_NUMBERS,\n",
    ")\n",
    "\n",
    "standalone_parameters = {}\n",
    "standalone_parameters[\"experiment_name\"] = \"STANDALONE PTN\"\n",
    "standalone_parameters[\"lr\"] = 0.001\n",
    "standalone_parameters[\"device\"] = \"cuda\"\n",
    "\n",
    "standalone_parameters[\"seed\"] = 1337\n",
    "standalone_parameters[\"dataset_seed\"] = 1337\n",
    "\n",
    "standalone_parameters[\"n_way\"] = 8\n",
    "standalone_parameters[\"n_shot\"] = 3\n",
    "standalone_parameters[\"n_query\"]  = 2\n",
    "standalone_parameters[\"train_k_factor\"] = 1\n",
    "standalone_parameters[\"val_k_factor\"] = 2\n",
    "standalone_parameters[\"test_k_factor\"] = 2\n",
    "\n",
    "\n",
    "standalone_parameters[\"n_epoch\"] = 50\n",
    "\n",
    "standalone_parameters[\"patience\"] = 10\n",
    "standalone_parameters[\"criteria_for_best\"] = \"source_loss\"\n",
    "\n",
    "standalone_parameters[\"datasets\"] = [\n",
    "    {\n",
    "        \"labels\": ALL_SERIAL_NUMBERS,\n",
    "        \"domains\": ALL_DISTANCES_FEET_NARROWED,\n",
    "        \"num_examples_per_domain_per_label\": 100,\n",
    "        \"pickle_path\": os.path.join(get_datasets_base_path(), \"oracle.Run1_framed_2000Examples_stratified_ds.2022A.pkl\"),\n",
    "        \"source_or_target_dataset\": \"source\",\n",
    "        \"x_transforms\": [\"unit_mag\", \"minus_two\"],\n",
    "        \"episode_transforms\": [],\n",
    "        \"domain_prefix\": \"ORACLE_\"\n",
    "    },\n",
    "    {\n",
    "        \"labels\": ALL_NODES,\n",
    "        \"domains\": ALL_DAYS,\n",
    "        \"num_examples_per_domain_per_label\": 100,\n",
    "        \"pickle_path\": os.path.join(get_datasets_base_path(), \"cores.stratified_ds.2022A.pkl\"),\n",
    "        \"source_or_target_dataset\": \"target\",\n",
    "        \"x_transforms\": [\"unit_power\", \"times_zero\"],\n",
    "        \"episode_transforms\": [],\n",
    "        \"domain_prefix\": \"CORES_\"\n",
    "    }   \n",
    "]\n",
    "\n",
    "standalone_parameters[\"torch_default_dtype\"] = \"torch.float32\" \n",
    "\n",
    "\n",
    "\n",
    "standalone_parameters[\"x_net\"] =     [\n",
    "    {\"class\": \"nnReshape\", \"kargs\": {\"shape\":[-1, 1, 2, 256]}},\n",
    "    {\"class\": \"Conv2d\", \"kargs\": { \"in_channels\":1, \"out_channels\":256, \"kernel_size\":(1,7), \"bias\":False, \"padding\":(0,3), },},\n",
    "    {\"class\": \"ReLU\", \"kargs\": {\"inplace\": True}},\n",
    "    {\"class\": \"BatchNorm2d\", \"kargs\": {\"num_features\":256}},\n",
    "\n",
    "    {\"class\": \"Conv2d\", \"kargs\": { \"in_channels\":256, \"out_channels\":80, \"kernel_size\":(2,7), \"bias\":True, \"padding\":(0,3), },},\n",
    "    {\"class\": \"ReLU\", \"kargs\": {\"inplace\": True}},\n",
    "    {\"class\": \"BatchNorm2d\", \"kargs\": {\"num_features\":80}},\n",
    "    {\"class\": \"Flatten\", \"kargs\": {}},\n",
    "\n",
    "    {\"class\": \"Linear\", \"kargs\": {\"in_features\": 80*256, \"out_features\": 256}}, # 80 units per IQ pair\n",
    "    {\"class\": \"ReLU\", \"kargs\": {\"inplace\": True}},\n",
    "    {\"class\": \"BatchNorm1d\", \"kargs\": {\"num_features\":256}},\n",
    "\n",
    "    {\"class\": \"Linear\", \"kargs\": {\"in_features\": 256, \"out_features\": 256}},\n",
    "]\n",
    "\n",
    "# Parameters relevant to results\n",
    "# These parameters will basically never need to change\n",
    "standalone_parameters[\"NUM_LOGS_PER_EPOCH\"] = 10\n",
    "standalone_parameters[\"BEST_MODEL_PATH\"] = \"./best_model.pth\"\n",
    "\n",
    "\n",
    "\n",
    "\n"
   ]
  },
  {
   "cell_type": "code",
   "execution_count": 4,
   "id": "a79bd629",
   "metadata": {
    "execution": {
     "iopub.execute_input": "2022-03-19T23:05:45.040547Z",
     "iopub.status.busy": "2022-03-19T23:05:45.040231Z",
     "iopub.status.idle": "2022-03-19T23:05:45.053172Z",
     "shell.execute_reply": "2022-03-19T23:05:45.052758Z"
    },
    "papermill": {
     "duration": 0.033848,
     "end_time": "2022-03-19T23:05:45.053262",
     "exception": false,
     "start_time": "2022-03-19T23:05:45.019414",
     "status": "completed"
    },
    "tags": [
     "injected-parameters"
    ]
   },
   "outputs": [],
   "source": [
    "# Parameters\n",
    "parameters = {\n",
    "    \"experiment_name\": \"tl_2v2:oracle.run1.framed -> cores+wisig\",\n",
    "    \"device\": \"cuda\",\n",
    "    \"lr\": 0.0001,\n",
    "    \"n_shot\": 3,\n",
    "    \"n_query\": 2,\n",
    "    \"train_k_factor\": 3,\n",
    "    \"val_k_factor\": 2,\n",
    "    \"test_k_factor\": 2,\n",
    "    \"torch_default_dtype\": \"torch.float32\",\n",
    "    \"n_epoch\": 50,\n",
    "    \"patience\": 3,\n",
    "    \"criteria_for_best\": \"target_accuracy\",\n",
    "    \"x_net\": [\n",
    "        {\"class\": \"nnReshape\", \"kargs\": {\"shape\": [-1, 1, 2, 256]}},\n",
    "        {\n",
    "            \"class\": \"Conv2d\",\n",
    "            \"kargs\": {\n",
    "                \"in_channels\": 1,\n",
    "                \"out_channels\": 256,\n",
    "                \"kernel_size\": [1, 7],\n",
    "                \"bias\": False,\n",
    "                \"padding\": [0, 3],\n",
    "            },\n",
    "        },\n",
    "        {\"class\": \"ReLU\", \"kargs\": {\"inplace\": True}},\n",
    "        {\"class\": \"BatchNorm2d\", \"kargs\": {\"num_features\": 256}},\n",
    "        {\n",
    "            \"class\": \"Conv2d\",\n",
    "            \"kargs\": {\n",
    "                \"in_channels\": 256,\n",
    "                \"out_channels\": 80,\n",
    "                \"kernel_size\": [2, 7],\n",
    "                \"bias\": True,\n",
    "                \"padding\": [0, 3],\n",
    "            },\n",
    "        },\n",
    "        {\"class\": \"ReLU\", \"kargs\": {\"inplace\": True}},\n",
    "        {\"class\": \"BatchNorm2d\", \"kargs\": {\"num_features\": 80}},\n",
    "        {\"class\": \"Flatten\", \"kargs\": {}},\n",
    "        {\"class\": \"Linear\", \"kargs\": {\"in_features\": 20480, \"out_features\": 256}},\n",
    "        {\"class\": \"ReLU\", \"kargs\": {\"inplace\": True}},\n",
    "        {\"class\": \"BatchNorm1d\", \"kargs\": {\"num_features\": 256}},\n",
    "        {\"class\": \"Linear\", \"kargs\": {\"in_features\": 256, \"out_features\": 256}},\n",
    "    ],\n",
    "    \"NUM_LOGS_PER_EPOCH\": 10,\n",
    "    \"BEST_MODEL_PATH\": \"./best_model.pth\",\n",
    "    \"n_way\": 16,\n",
    "    \"datasets\": [\n",
    "        {\n",
    "            \"labels\": [\n",
    "                \"1-10.\",\n",
    "                \"1-11.\",\n",
    "                \"1-15.\",\n",
    "                \"1-16.\",\n",
    "                \"1-17.\",\n",
    "                \"1-18.\",\n",
    "                \"1-19.\",\n",
    "                \"10-4.\",\n",
    "                \"10-7.\",\n",
    "                \"11-1.\",\n",
    "                \"11-14.\",\n",
    "                \"11-17.\",\n",
    "                \"11-20.\",\n",
    "                \"11-7.\",\n",
    "                \"13-20.\",\n",
    "                \"13-8.\",\n",
    "                \"14-10.\",\n",
    "                \"14-11.\",\n",
    "                \"14-14.\",\n",
    "                \"14-7.\",\n",
    "                \"15-1.\",\n",
    "                \"15-20.\",\n",
    "                \"16-1.\",\n",
    "                \"16-16.\",\n",
    "                \"17-10.\",\n",
    "                \"17-11.\",\n",
    "                \"17-2.\",\n",
    "                \"19-1.\",\n",
    "                \"19-16.\",\n",
    "                \"19-19.\",\n",
    "                \"19-20.\",\n",
    "                \"19-3.\",\n",
    "                \"2-10.\",\n",
    "                \"2-11.\",\n",
    "                \"2-17.\",\n",
    "                \"2-18.\",\n",
    "                \"2-20.\",\n",
    "                \"2-3.\",\n",
    "                \"2-4.\",\n",
    "                \"2-5.\",\n",
    "                \"2-6.\",\n",
    "                \"2-7.\",\n",
    "                \"2-8.\",\n",
    "                \"3-13.\",\n",
    "                \"3-18.\",\n",
    "                \"3-3.\",\n",
    "                \"4-1.\",\n",
    "                \"4-10.\",\n",
    "                \"4-11.\",\n",
    "                \"4-19.\",\n",
    "                \"5-5.\",\n",
    "                \"6-15.\",\n",
    "                \"7-10.\",\n",
    "                \"7-14.\",\n",
    "                \"8-18.\",\n",
    "                \"8-20.\",\n",
    "                \"8-3.\",\n",
    "                \"8-8.\",\n",
    "            ],\n",
    "            \"domains\": [1, 2, 3, 4, 5],\n",
    "            \"num_examples_per_domain_per_label\": -1,\n",
    "            \"pickle_path\": \"/mnt/wd500GB/CSC500/csc500-main/datasets/cores.stratified_ds.2022A.pkl\",\n",
    "            \"source_or_target_dataset\": \"target\",\n",
    "            \"x_transforms\": [\"unit_power\"],\n",
    "            \"episode_transforms\": [],\n",
    "            \"domain_prefix\": \"C_\",\n",
    "        },\n",
    "        {\n",
    "            \"labels\": [\n",
    "                \"1-10\",\n",
    "                \"1-12\",\n",
    "                \"1-14\",\n",
    "                \"1-16\",\n",
    "                \"1-18\",\n",
    "                \"1-19\",\n",
    "                \"1-8\",\n",
    "                \"10-11\",\n",
    "                \"10-17\",\n",
    "                \"10-4\",\n",
    "                \"10-7\",\n",
    "                \"11-1\",\n",
    "                \"11-10\",\n",
    "                \"11-19\",\n",
    "                \"11-20\",\n",
    "                \"11-4\",\n",
    "                \"11-7\",\n",
    "                \"12-19\",\n",
    "                \"12-20\",\n",
    "                \"12-7\",\n",
    "                \"13-14\",\n",
    "                \"13-18\",\n",
    "                \"13-19\",\n",
    "                \"13-20\",\n",
    "                \"13-3\",\n",
    "                \"13-7\",\n",
    "                \"14-10\",\n",
    "                \"14-11\",\n",
    "                \"14-12\",\n",
    "                \"14-13\",\n",
    "                \"14-14\",\n",
    "                \"14-19\",\n",
    "                \"14-20\",\n",
    "                \"14-7\",\n",
    "                \"14-8\",\n",
    "                \"14-9\",\n",
    "                \"15-1\",\n",
    "                \"15-19\",\n",
    "                \"15-6\",\n",
    "                \"16-1\",\n",
    "                \"16-16\",\n",
    "                \"16-19\",\n",
    "                \"16-20\",\n",
    "                \"17-10\",\n",
    "                \"17-11\",\n",
    "                \"18-1\",\n",
    "                \"18-10\",\n",
    "                \"18-11\",\n",
    "                \"18-12\",\n",
    "                \"18-13\",\n",
    "                \"18-14\",\n",
    "                \"18-15\",\n",
    "                \"18-16\",\n",
    "                \"18-17\",\n",
    "                \"18-19\",\n",
    "                \"18-2\",\n",
    "                \"18-20\",\n",
    "                \"18-4\",\n",
    "                \"18-5\",\n",
    "                \"18-7\",\n",
    "                \"18-8\",\n",
    "                \"18-9\",\n",
    "                \"19-1\",\n",
    "                \"19-10\",\n",
    "                \"19-11\",\n",
    "                \"19-12\",\n",
    "                \"19-13\",\n",
    "                \"19-14\",\n",
    "                \"19-15\",\n",
    "                \"19-19\",\n",
    "                \"19-2\",\n",
    "                \"19-20\",\n",
    "                \"19-3\",\n",
    "                \"19-4\",\n",
    "                \"19-6\",\n",
    "                \"19-7\",\n",
    "                \"19-8\",\n",
    "                \"19-9\",\n",
    "                \"2-1\",\n",
    "                \"2-13\",\n",
    "                \"2-15\",\n",
    "                \"2-3\",\n",
    "                \"2-4\",\n",
    "                \"2-5\",\n",
    "                \"2-6\",\n",
    "                \"2-7\",\n",
    "                \"2-8\",\n",
    "                \"20-1\",\n",
    "                \"20-12\",\n",
    "                \"20-14\",\n",
    "                \"20-15\",\n",
    "                \"20-16\",\n",
    "                \"20-18\",\n",
    "                \"20-19\",\n",
    "                \"20-20\",\n",
    "                \"20-3\",\n",
    "                \"20-4\",\n",
    "                \"20-5\",\n",
    "                \"20-7\",\n",
    "                \"20-8\",\n",
    "                \"3-1\",\n",
    "                \"3-13\",\n",
    "                \"3-18\",\n",
    "                \"3-2\",\n",
    "                \"3-8\",\n",
    "                \"4-1\",\n",
    "                \"4-10\",\n",
    "                \"4-11\",\n",
    "                \"5-1\",\n",
    "                \"5-5\",\n",
    "                \"6-1\",\n",
    "                \"6-15\",\n",
    "                \"6-6\",\n",
    "                \"7-10\",\n",
    "                \"7-11\",\n",
    "                \"7-12\",\n",
    "                \"7-13\",\n",
    "                \"7-14\",\n",
    "                \"7-7\",\n",
    "                \"7-8\",\n",
    "                \"7-9\",\n",
    "                \"8-1\",\n",
    "                \"8-13\",\n",
    "                \"8-14\",\n",
    "                \"8-18\",\n",
    "                \"8-20\",\n",
    "                \"8-3\",\n",
    "                \"8-8\",\n",
    "                \"9-1\",\n",
    "                \"9-7\",\n",
    "            ],\n",
    "            \"domains\": [1, 2, 3, 4],\n",
    "            \"num_examples_per_domain_per_label\": -1,\n",
    "            \"pickle_path\": \"/mnt/wd500GB/CSC500/csc500-main/datasets/wisig.node3-19.stratified_ds.2022A.pkl\",\n",
    "            \"source_or_target_dataset\": \"target\",\n",
    "            \"x_transforms\": [\"unit_power\"],\n",
    "            \"episode_transforms\": [],\n",
    "            \"domain_prefix\": \"W_\",\n",
    "        },\n",
    "        {\n",
    "            \"labels\": [\n",
    "                \"3123D52\",\n",
    "                \"3123D65\",\n",
    "                \"3123D79\",\n",
    "                \"3123D80\",\n",
    "                \"3123D54\",\n",
    "                \"3123D70\",\n",
    "                \"3123D7B\",\n",
    "                \"3123D89\",\n",
    "                \"3123D58\",\n",
    "                \"3123D76\",\n",
    "                \"3123D7D\",\n",
    "                \"3123EFE\",\n",
    "                \"3123D64\",\n",
    "                \"3123D78\",\n",
    "                \"3123D7E\",\n",
    "                \"3124E4A\",\n",
    "            ],\n",
    "            \"domains\": [32, 38, 8, 44, 14, 50, 20, 26],\n",
    "            \"num_examples_per_domain_per_label\": 2000,\n",
    "            \"pickle_path\": \"/mnt/wd500GB/CSC500/csc500-main/datasets/oracle.Run1_framed_2000Examples_stratified_ds.2022A.pkl\",\n",
    "            \"source_or_target_dataset\": \"source\",\n",
    "            \"x_transforms\": [\"unit_power\"],\n",
    "            \"episode_transforms\": [],\n",
    "            \"domain_prefix\": \"O_\",\n",
    "        },\n",
    "    ],\n",
    "    \"seed\": 7,\n",
    "    \"dataset_seed\": 7,\n",
    "}\n"
   ]
  },
  {
   "cell_type": "code",
   "execution_count": 5,
   "id": "8fa1cc33",
   "metadata": {
    "execution": {
     "iopub.execute_input": "2022-03-19T23:05:45.087352Z",
     "iopub.status.busy": "2022-03-19T23:05:45.084685Z",
     "iopub.status.idle": "2022-03-19T23:05:45.102141Z",
     "shell.execute_reply": "2022-03-19T23:05:45.101757Z"
    },
    "papermill": {
     "duration": 0.031372,
     "end_time": "2022-03-19T23:05:45.102231",
     "exception": false,
     "start_time": "2022-03-19T23:05:45.070859",
     "status": "completed"
    },
    "tags": []
   },
   "outputs": [],
   "source": [
    "# Set this to True if you want to run this template directly\n",
    "STANDALONE = False\n",
    "if STANDALONE:\n",
    "    print(\"parameters not injected, running with standalone_parameters\")\n",
    "    parameters = standalone_parameters\n",
    "\n",
    "if not 'parameters' in locals() and not 'parameters' in globals():\n",
    "    raise Exception(\"Parameter injection failed\")\n",
    "\n",
    "#Use an easy dict for all the parameters\n",
    "p = EasyDict(parameters)\n",
    "\n",
    "if \"x_shape\" not in p:\n",
    "    p.x_shape = [2,256] # Default to this if we dont supply x_shape\n",
    "\n",
    "\n",
    "supplied_keys = set(p.keys())\n",
    "\n",
    "if  supplied_keys != required_parameters:\n",
    "    print(\"Parameters are incorrect\")\n",
    "    if len(supplied_keys - required_parameters)>0: print(\"Shouldn't have:\", str(supplied_keys - required_parameters))\n",
    "    if len(required_parameters - supplied_keys)>0: print(\"Need to have:\", str(required_parameters - supplied_keys))\n",
    "    raise RuntimeError(\"Parameters are incorrect\")"
   ]
  },
  {
   "cell_type": "code",
   "execution_count": 6,
   "id": "3a028d58",
   "metadata": {
    "execution": {
     "iopub.execute_input": "2022-03-19T23:05:45.143156Z",
     "iopub.status.busy": "2022-03-19T23:05:45.142769Z",
     "iopub.status.idle": "2022-03-19T23:05:45.145772Z",
     "shell.execute_reply": "2022-03-19T23:05:45.146062Z"
    },
    "papermill": {
     "duration": 0.026572,
     "end_time": "2022-03-19T23:05:45.146146",
     "exception": false,
     "start_time": "2022-03-19T23:05:45.119574",
     "status": "completed"
    },
    "tags": []
   },
   "outputs": [],
   "source": [
    "###################################\n",
    "# Set the RNGs and make it all deterministic\n",
    "###################################\n",
    "np.random.seed(p.seed)\n",
    "random.seed(p.seed)\n",
    "torch.manual_seed(p.seed)\n",
    "\n",
    "torch.use_deterministic_algorithms(True) "
   ]
  },
  {
   "cell_type": "code",
   "execution_count": 7,
   "id": "b691acf6",
   "metadata": {
    "execution": {
     "iopub.execute_input": "2022-03-19T23:05:45.176019Z",
     "iopub.status.busy": "2022-03-19T23:05:45.175103Z",
     "iopub.status.idle": "2022-03-19T23:05:45.189456Z",
     "shell.execute_reply": "2022-03-19T23:05:45.188945Z"
    },
    "papermill": {
     "duration": 0.02902,
     "end_time": "2022-03-19T23:05:45.189558",
     "exception": false,
     "start_time": "2022-03-19T23:05:45.160538",
     "status": "completed"
    },
    "tags": []
   },
   "outputs": [],
   "source": [
    "###########################################\n",
    "# The stratified datasets honor this\n",
    "###########################################\n",
    "torch.set_default_dtype(eval(p.torch_default_dtype))"
   ]
  },
  {
   "cell_type": "code",
   "execution_count": 8,
   "id": "b5fba671",
   "metadata": {
    "execution": {
     "iopub.execute_input": "2022-03-19T23:05:45.228065Z",
     "iopub.status.busy": "2022-03-19T23:05:45.227788Z",
     "iopub.status.idle": "2022-03-19T23:05:45.259482Z",
     "shell.execute_reply": "2022-03-19T23:05:45.259756Z"
    },
    "papermill": {
     "duration": 0.051777,
     "end_time": "2022-03-19T23:05:45.259840",
     "exception": false,
     "start_time": "2022-03-19T23:05:45.208063",
     "status": "completed"
    },
    "tags": []
   },
   "outputs": [],
   "source": [
    "###################################\n",
    "# Build the network(s)\n",
    "# Note: It's critical to do this AFTER setting the RNG\n",
    "###################################\n",
    "x_net = build_sequential(p.x_net)"
   ]
  },
  {
   "cell_type": "code",
   "execution_count": 9,
   "id": "5d7e61cc",
   "metadata": {
    "execution": {
     "iopub.execute_input": "2022-03-19T23:05:45.292150Z",
     "iopub.status.busy": "2022-03-19T23:05:45.291901Z",
     "iopub.status.idle": "2022-03-19T23:05:45.306299Z",
     "shell.execute_reply": "2022-03-19T23:05:45.305911Z"
    },
    "papermill": {
     "duration": 0.029656,
     "end_time": "2022-03-19T23:05:45.306389",
     "exception": false,
     "start_time": "2022-03-19T23:05:45.276733",
     "status": "completed"
    },
    "tags": []
   },
   "outputs": [],
   "source": [
    "start_time_secs = time.time()"
   ]
  },
  {
   "cell_type": "code",
   "execution_count": 10,
   "id": "c6b67dfd",
   "metadata": {
    "execution": {
     "iopub.execute_input": "2022-03-19T23:05:45.340370Z",
     "iopub.status.busy": "2022-03-19T23:05:45.340093Z",
     "iopub.status.idle": "2022-03-19T23:05:45.348350Z",
     "shell.execute_reply": "2022-03-19T23:05:45.348128Z"
    },
    "papermill": {
     "duration": 0.024906,
     "end_time": "2022-03-19T23:05:45.348403",
     "exception": false,
     "start_time": "2022-03-19T23:05:45.323497",
     "status": "completed"
    },
    "tags": []
   },
   "outputs": [],
   "source": [
    "p.domains_source = []\n",
    "p.domains_target = []\n",
    "\n",
    "\n",
    "train_original_source = []\n",
    "val_original_source   = []\n",
    "test_original_source  = []\n",
    "\n",
    "train_original_target = []\n",
    "val_original_target   = []\n",
    "test_original_target  = []"
   ]
  },
  {
   "cell_type": "code",
   "execution_count": 11,
   "id": "e3d9c3d3",
   "metadata": {
    "execution": {
     "iopub.execute_input": "2022-03-19T23:05:45.379868Z",
     "iopub.status.busy": "2022-03-19T23:05:45.378821Z",
     "iopub.status.idle": "2022-03-19T23:05:45.393377Z",
     "shell.execute_reply": "2022-03-19T23:05:45.392993Z"
    },
    "papermill": {
     "duration": 0.029421,
     "end_time": "2022-03-19T23:05:45.393467",
     "exception": false,
     "start_time": "2022-03-19T23:05:45.364046",
     "status": "completed"
    },
    "tags": []
   },
   "outputs": [],
   "source": [
    "# global_x_transform_func = lambda x: normalize(x.to(torch.get_default_dtype()), \"unit_power\") # unit_power, unit_mag\n",
    "# global_x_transform_func = lambda x: normalize(x, \"unit_power\") # unit_power, unit_mag"
   ]
  },
  {
   "cell_type": "code",
   "execution_count": 12,
   "id": "acb78fd2",
   "metadata": {
    "execution": {
     "iopub.execute_input": "2022-03-19T23:05:45.436578Z",
     "iopub.status.busy": "2022-03-19T23:05:45.433204Z",
     "iopub.status.idle": "2022-03-19T23:05:45.442774Z",
     "shell.execute_reply": "2022-03-19T23:05:45.442466Z"
    },
    "papermill": {
     "duration": 0.031623,
     "end_time": "2022-03-19T23:05:45.442846",
     "exception": false,
     "start_time": "2022-03-19T23:05:45.411223",
     "status": "completed"
    },
    "tags": []
   },
   "outputs": [],
   "source": [
    "def add_dataset(\n",
    "    labels,\n",
    "    domains,\n",
    "    pickle_path,\n",
    "    x_transforms,\n",
    "    episode_transforms,\n",
    "    domain_prefix,\n",
    "    num_examples_per_domain_per_label,\n",
    "    source_or_target_dataset:str,\n",
    "    iterator_seed=p.seed,\n",
    "    dataset_seed=p.dataset_seed,\n",
    "    n_shot=p.n_shot,\n",
    "    n_way=p.n_way,\n",
    "    n_query=p.n_query,\n",
    "    train_val_test_k_factors=(p.train_k_factor,p.val_k_factor,p.test_k_factor),\n",
    "):\n",
    "   \n",
    "    if x_transforms == []: x_transform = None\n",
    "    else: x_transform = get_chained_transform(x_transforms)\n",
    "    \n",
    "    if episode_transforms == []: episode_transform = None\n",
    "    else: raise Exception(\"episode_transforms not implemented\")\n",
    "    \n",
    "    episode_transform = lambda tup, _prefix=domain_prefix: (_prefix + str(tup[0]), tup[1])\n",
    "\n",
    "\n",
    "    eaf = Episodic_Accessor_Factory(\n",
    "        labels=labels,\n",
    "        domains=domains,\n",
    "        num_examples_per_domain_per_label=num_examples_per_domain_per_label,\n",
    "        iterator_seed=iterator_seed,\n",
    "        dataset_seed=dataset_seed,\n",
    "        n_shot=n_shot,\n",
    "        n_way=n_way,\n",
    "        n_query=n_query,\n",
    "        train_val_test_k_factors=train_val_test_k_factors,\n",
    "        pickle_path=pickle_path,\n",
    "        x_transform_func=x_transform,\n",
    "    )\n",
    "\n",
    "    train, val, test = eaf.get_train(), eaf.get_val(), eaf.get_test()\n",
    "    train = Lazy_Iterable_Wrapper(train, episode_transform)\n",
    "    val = Lazy_Iterable_Wrapper(val, episode_transform)\n",
    "    test = Lazy_Iterable_Wrapper(test, episode_transform)\n",
    "\n",
    "    if source_or_target_dataset==\"source\":\n",
    "        train_original_source.append(train)\n",
    "        val_original_source.append(val)\n",
    "        test_original_source.append(test)\n",
    "\n",
    "        p.domains_source.extend(\n",
    "            [domain_prefix + str(u) for u in domains]\n",
    "        )\n",
    "    elif source_or_target_dataset==\"target\":\n",
    "        train_original_target.append(train)\n",
    "        val_original_target.append(val)\n",
    "        test_original_target.append(test)\n",
    "        p.domains_target.extend(\n",
    "            [domain_prefix + str(u) for u in domains]\n",
    "        )\n",
    "    else:\n",
    "        raise Exception(f\"invalid source_or_target_dataset: {source_or_target_dataset}\")\n",
    "    "
   ]
  },
  {
   "cell_type": "code",
   "execution_count": 13,
   "id": "fe266617",
   "metadata": {
    "execution": {
     "iopub.execute_input": "2022-03-19T23:05:45.477125Z",
     "iopub.status.busy": "2022-03-19T23:05:45.476630Z",
     "iopub.status.idle": "2022-03-19T23:06:33.430064Z",
     "shell.execute_reply": "2022-03-19T23:06:33.429575Z"
    },
    "papermill": {
     "duration": 47.968501,
     "end_time": "2022-03-19T23:06:33.430168",
     "exception": false,
     "start_time": "2022-03-19T23:05:45.461667",
     "status": "completed"
    },
    "tags": []
   },
   "outputs": [],
   "source": [
    "for ds in p.datasets:\n",
    "    add_dataset(**ds)"
   ]
  },
  {
   "cell_type": "code",
   "execution_count": 14,
   "id": "b90d65ac",
   "metadata": {
    "execution": {
     "iopub.execute_input": "2022-03-19T23:06:33.467419Z",
     "iopub.status.busy": "2022-03-19T23:06:33.463352Z",
     "iopub.status.idle": "2022-03-19T23:06:33.478457Z",
     "shell.execute_reply": "2022-03-19T23:06:33.478110Z"
    },
    "papermill": {
     "duration": 0.030337,
     "end_time": "2022-03-19T23:06:33.478529",
     "exception": false,
     "start_time": "2022-03-19T23:06:33.448192",
     "status": "completed"
    },
    "tags": []
   },
   "outputs": [],
   "source": [
    "# from steves_utils.CORES.utils import (\n",
    "#     ALL_NODES,\n",
    "#     ALL_NODES_MINIMUM_1000_EXAMPLES,\n",
    "#     ALL_DAYS\n",
    "# )\n",
    "\n",
    "# add_dataset(\n",
    "#     labels=ALL_NODES,\n",
    "#     domains = ALL_DAYS,\n",
    "#     num_examples_per_domain_per_label=100,\n",
    "#     pickle_path=os.path.join(get_datasets_base_path(), \"cores.stratified_ds.2022A.pkl\"),\n",
    "#     source_or_target_dataset=\"target\",\n",
    "#     x_transform_func=global_x_transform_func,\n",
    "#     domain_modifier=lambda u: f\"cores_{u}\"\n",
    "# )"
   ]
  },
  {
   "cell_type": "code",
   "execution_count": 15,
   "id": "76db484d",
   "metadata": {
    "execution": {
     "iopub.execute_input": "2022-03-19T23:06:33.517283Z",
     "iopub.status.busy": "2022-03-19T23:06:33.516931Z",
     "iopub.status.idle": "2022-03-19T23:06:33.524013Z",
     "shell.execute_reply": "2022-03-19T23:06:33.523714Z"
    },
    "papermill": {
     "duration": 0.027652,
     "end_time": "2022-03-19T23:06:33.524083",
     "exception": false,
     "start_time": "2022-03-19T23:06:33.496431",
     "status": "completed"
    },
    "tags": []
   },
   "outputs": [],
   "source": [
    "# from steves_utils.ORACLE.utils_v2 import (\n",
    "#     ALL_DISTANCES_FEET,\n",
    "#     ALL_RUNS,\n",
    "#     ALL_SERIAL_NUMBERS,\n",
    "# )\n",
    "\n",
    "\n",
    "# add_dataset(\n",
    "#     labels=ALL_SERIAL_NUMBERS,\n",
    "#     domains = list(set(ALL_DISTANCES_FEET) - {2,62}),\n",
    "#     num_examples_per_domain_per_label=100,\n",
    "#     pickle_path=os.path.join(get_datasets_base_path(), \"oracle.Run2_framed_2000Examples_stratified_ds.2022A.pkl\"),\n",
    "#     source_or_target_dataset=\"source\",\n",
    "#     x_transform_func=global_x_transform_func,\n",
    "#     domain_modifier=lambda u: f\"oracle1_{u}\"\n",
    "# )\n"
   ]
  },
  {
   "cell_type": "code",
   "execution_count": 16,
   "id": "97dea9d2",
   "metadata": {
    "execution": {
     "iopub.execute_input": "2022-03-19T23:06:33.559555Z",
     "iopub.status.busy": "2022-03-19T23:06:33.558593Z",
     "iopub.status.idle": "2022-03-19T23:06:33.571429Z",
     "shell.execute_reply": "2022-03-19T23:06:33.571039Z"
    },
    "papermill": {
     "duration": 0.02781,
     "end_time": "2022-03-19T23:06:33.571517",
     "exception": false,
     "start_time": "2022-03-19T23:06:33.543707",
     "status": "completed"
    },
    "tags": []
   },
   "outputs": [],
   "source": [
    "# from steves_utils.ORACLE.utils_v2 import (\n",
    "#     ALL_DISTANCES_FEET,\n",
    "#     ALL_RUNS,\n",
    "#     ALL_SERIAL_NUMBERS,\n",
    "# )\n",
    "\n",
    "\n",
    "# add_dataset(\n",
    "#     labels=ALL_SERIAL_NUMBERS,\n",
    "#     domains = list(set(ALL_DISTANCES_FEET) - {2,62,56}),\n",
    "#     num_examples_per_domain_per_label=100,\n",
    "#     pickle_path=os.path.join(get_datasets_base_path(), \"oracle.Run2_framed_2000Examples_stratified_ds.2022A.pkl\"),\n",
    "#     source_or_target_dataset=\"source\",\n",
    "#     x_transform_func=global_x_transform_func,\n",
    "#     domain_modifier=lambda u: f\"oracle2_{u}\"\n",
    "# )"
   ]
  },
  {
   "cell_type": "code",
   "execution_count": 17,
   "id": "6f289866",
   "metadata": {
    "execution": {
     "iopub.execute_input": "2022-03-19T23:06:33.607173Z",
     "iopub.status.busy": "2022-03-19T23:06:33.606922Z",
     "iopub.status.idle": "2022-03-19T23:06:33.616044Z",
     "shell.execute_reply": "2022-03-19T23:06:33.615805Z"
    },
    "papermill": {
     "duration": 0.029168,
     "end_time": "2022-03-19T23:06:33.616092",
     "exception": false,
     "start_time": "2022-03-19T23:06:33.586924",
     "status": "completed"
    },
    "tags": []
   },
   "outputs": [],
   "source": [
    "# add_dataset(\n",
    "#     labels=list(range(19)),\n",
    "#     domains = [0,1,2],\n",
    "#     num_examples_per_domain_per_label=100,\n",
    "#     pickle_path=os.path.join(get_datasets_base_path(), \"metehan.stratified_ds.2022A.pkl\"),\n",
    "#     source_or_target_dataset=\"target\",\n",
    "#     x_transform_func=global_x_transform_func,\n",
    "#     domain_modifier=lambda u: f\"met_{u}\"\n",
    "# )"
   ]
  },
  {
   "cell_type": "code",
   "execution_count": 18,
   "id": "86a863c3",
   "metadata": {
    "execution": {
     "iopub.execute_input": "2022-03-19T23:06:33.658178Z",
     "iopub.status.busy": "2022-03-19T23:06:33.650712Z",
     "iopub.status.idle": "2022-03-19T23:06:33.664869Z",
     "shell.execute_reply": "2022-03-19T23:06:33.664432Z"
    },
    "papermill": {
     "duration": 0.02922,
     "end_time": "2022-03-19T23:06:33.664970",
     "exception": false,
     "start_time": "2022-03-19T23:06:33.635750",
     "status": "completed"
    },
    "tags": []
   },
   "outputs": [],
   "source": [
    "# # from steves_utils.wisig.utils import (\n",
    "# #     ALL_NODES_MINIMUM_100_EXAMPLES,\n",
    "# #     ALL_NODES_MINIMUM_500_EXAMPLES,\n",
    "# #     ALL_NODES_MINIMUM_1000_EXAMPLES,\n",
    "# #     ALL_DAYS\n",
    "# # )\n",
    "\n",
    "# import steves_utils.wisig.utils as wisig\n",
    "\n",
    "\n",
    "# add_dataset(\n",
    "#     labels=wisig.ALL_NODES_MINIMUM_100_EXAMPLES,\n",
    "#     domains = wisig.ALL_DAYS,\n",
    "#     num_examples_per_domain_per_label=100,\n",
    "#     pickle_path=os.path.join(get_datasets_base_path(), \"wisig.node3-19.stratified_ds.2022A.pkl\"),\n",
    "#     source_or_target_dataset=\"target\",\n",
    "#     x_transform_func=global_x_transform_func,\n",
    "#     domain_modifier=lambda u: f\"wisig_{u}\"\n",
    "# )"
   ]
  },
  {
   "cell_type": "code",
   "execution_count": 19,
   "id": "fd5442bc",
   "metadata": {
    "execution": {
     "iopub.execute_input": "2022-03-19T23:06:33.704749Z",
     "iopub.status.busy": "2022-03-19T23:06:33.698531Z",
     "iopub.status.idle": "2022-03-19T23:06:33.715742Z",
     "shell.execute_reply": "2022-03-19T23:06:33.715265Z"
    },
    "papermill": {
     "duration": 0.03195,
     "end_time": "2022-03-19T23:06:33.715845",
     "exception": false,
     "start_time": "2022-03-19T23:06:33.683895",
     "status": "completed"
    },
    "tags": []
   },
   "outputs": [],
   "source": [
    "###################################\n",
    "# Build the dataset\n",
    "###################################\n",
    "train_original_source = Iterable_Aggregator(train_original_source, p.seed)\n",
    "val_original_source = Iterable_Aggregator(val_original_source, p.seed)\n",
    "test_original_source = Iterable_Aggregator(test_original_source, p.seed)\n",
    "\n",
    "\n",
    "train_original_target = Iterable_Aggregator(train_original_target, p.seed)\n",
    "val_original_target = Iterable_Aggregator(val_original_target, p.seed)\n",
    "test_original_target = Iterable_Aggregator(test_original_target, p.seed)\n",
    "\n",
    "# For CNN We only use X and Y. And we only train on the source.\n",
    "# Properly form the data using a transform lambda and Lazy_Iterable_Wrapper. Finally wrap them in a dataloader\n",
    "\n",
    "transform_lambda = lambda ex: ex[1] # Original is (<domain>, <episode>) so we strip down to episode only\n",
    "\n",
    "train_processed_source = Lazy_Iterable_Wrapper(train_original_source, transform_lambda)\n",
    "val_processed_source   = Lazy_Iterable_Wrapper(val_original_source, transform_lambda)\n",
    "test_processed_source  = Lazy_Iterable_Wrapper(test_original_source, transform_lambda)\n",
    "\n",
    "train_processed_target = Lazy_Iterable_Wrapper(train_original_target, transform_lambda)\n",
    "val_processed_target   = Lazy_Iterable_Wrapper(val_original_target, transform_lambda)\n",
    "test_processed_target  = Lazy_Iterable_Wrapper(test_original_target, transform_lambda)\n",
    "\n",
    "datasets = EasyDict({\n",
    "    \"source\": {\n",
    "        \"original\": {\"train\":train_original_source, \"val\":val_original_source, \"test\":test_original_source},\n",
    "        \"processed\": {\"train\":train_processed_source, \"val\":val_processed_source, \"test\":test_processed_source}\n",
    "    },\n",
    "    \"target\": {\n",
    "        \"original\": {\"train\":train_original_target, \"val\":val_original_target, \"test\":test_original_target},\n",
    "        \"processed\": {\"train\":train_processed_target, \"val\":val_processed_target, \"test\":test_processed_target}\n",
    "    },\n",
    "})"
   ]
  },
  {
   "cell_type": "code",
   "execution_count": 20,
   "id": "5b3c01fc",
   "metadata": {
    "execution": {
     "iopub.execute_input": "2022-03-19T23:06:33.759406Z",
     "iopub.status.busy": "2022-03-19T23:06:33.759044Z",
     "iopub.status.idle": "2022-03-19T23:06:42.507836Z",
     "shell.execute_reply": "2022-03-19T23:06:42.508057Z"
    },
    "papermill": {
     "duration": 8.772683,
     "end_time": "2022-03-19T23:06:42.508140",
     "exception": false,
     "start_time": "2022-03-19T23:06:33.735457",
     "status": "completed"
    },
    "tags": []
   },
   "outputs": [
    {
     "name": "stdout",
     "output_type": "stream",
     "text": [
      "{'O_14', 'O_32', 'O_38', 'O_50', 'O_44', 'O_8', 'O_20', 'O_26'}\n"
     ]
    },
    {
     "name": "stdout",
     "output_type": "stream",
     "text": [
      "{'C_1', 'W_3', 'W_4', 'C_3', 'C_5', 'W_1', 'W_2', 'C_2', 'C_4'}\n"
     ]
    },
    {
     "name": "stdout",
     "output_type": "stream",
     "text": [
      "tensor([[[ 0.8613,  0.6522, -0.8613,  ..., -0.7191,  0.0084, -1.1790],\n",
      "         [-0.5435,  0.4264,  0.8863,  ..., -0.7358, -1.3044, -0.0334]],\n",
      "\n",
      "        [[ 0.4337,  1.0374, -0.6973,  ..., -0.7568,  0.8758, -0.0255],\n",
      "         [-0.3656,  0.6207,  0.3316,  ..., -0.5017, -0.9779, -0.9354]],\n",
      "\n",
      "        [[-0.3375, -0.6666,  0.8438,  ...,  0.7172, -1.0548, -0.3628],\n",
      "         [ 0.2531, -0.9029, -0.1856,  ...,  0.7594,  0.6835,  0.7848]],\n",
      "\n",
      "        ...,\n",
      "\n",
      "        [[-0.4226, -0.9694,  0.4143,  ...,  0.9694,  0.4060,  1.0771],\n",
      "         [ 1.0026,  0.0663, -1.1517,  ...,  0.0580,  1.2014, -0.2651]],\n",
      "\n",
      "        [[ 0.5145,  0.0083, -0.7385,  ..., -0.0747,  1.2446,  0.7551],\n",
      "         [ 0.0000,  1.1119, -0.4149,  ..., -0.8795,  0.1494, -0.5808]],\n",
      "\n",
      "        [[ 0.9155,  0.4773, -0.9859,  ..., -0.6495,  0.0078, -1.3146],\n",
      "         [-0.5164,  0.4930,  0.7355,  ..., -0.8060, -1.1502,  0.1252]]])\n"
     ]
    }
   ],
   "source": [
    "from steves_utils.transforms import get_average_magnitude, get_average_power\n",
    "\n",
    "print(set([u for u,_ in val_original_source]))\n",
    "print(set([u for u,_ in val_original_target]))\n",
    "\n",
    "s_x, s_y, q_x, q_y, _ = next(iter(train_processed_source))\n",
    "print(s_x)\n",
    "\n",
    "# for ds in [\n",
    "#     train_processed_source,\n",
    "#     val_processed_source,\n",
    "#     test_processed_source,\n",
    "#     train_processed_target,\n",
    "#     val_processed_target,\n",
    "#     test_processed_target\n",
    "# ]:\n",
    "#     for s_x, s_y, q_x, q_y, _ in ds:\n",
    "#         for X in (s_x, q_x):\n",
    "#             for x in X:\n",
    "#                 assert np.isclose(get_average_magnitude(x.numpy()), 1.0)\n",
    "#                 assert np.isclose(get_average_power(x.numpy()), 1.0)\n",
    "                "
   ]
  },
  {
   "cell_type": "code",
   "execution_count": 21,
   "id": "bbdacba1",
   "metadata": {
    "execution": {
     "iopub.execute_input": "2022-03-19T23:06:42.542097Z",
     "iopub.status.busy": "2022-03-19T23:06:42.541703Z",
     "iopub.status.idle": "2022-03-19T23:06:42.597672Z",
     "shell.execute_reply": "2022-03-19T23:06:42.597225Z"
    },
    "papermill": {
     "duration": 0.073368,
     "end_time": "2022-03-19T23:06:42.597782",
     "exception": false,
     "start_time": "2022-03-19T23:06:42.524414",
     "status": "completed"
    },
    "tags": []
   },
   "outputs": [
    {
     "name": "stdout",
     "output_type": "stream",
     "text": [
      "(2, 256)\n"
     ]
    }
   ],
   "source": [
    "###################################\n",
    "# Build the model\n",
    "###################################\n",
    "# easfsl only wants a tuple for the shape\n",
    "model = Steves_Prototypical_Network(x_net, device=p.device, x_shape=tuple(p.x_shape))\n",
    "optimizer = Adam(params=model.parameters(), lr=p.lr)"
   ]
  },
  {
   "cell_type": "code",
   "execution_count": 22,
   "id": "22b39ac5",
   "metadata": {
    "execution": {
     "iopub.execute_input": "2022-03-19T23:06:42.636460Z",
     "iopub.status.busy": "2022-03-19T23:06:42.636195Z",
     "iopub.status.idle": "2022-03-19T23:28:44.494252Z",
     "shell.execute_reply": "2022-03-19T23:28:44.494012Z"
    },
    "papermill": {
     "duration": 1321.876284,
     "end_time": "2022-03-19T23:28:44.494315",
     "exception": false,
     "start_time": "2022-03-19T23:06:42.618031",
     "status": "completed"
    },
    "tags": []
   },
   "outputs": [
    {
     "name": "stdout",
     "output_type": "stream",
     "text": [
      "epoch: 1, [batch: 1 / 6720], examples_per_second: 48.4777, train_label_loss: 3.0118, \n"
     ]
    },
    {
     "name": "stdout",
     "output_type": "stream",
     "text": [
      "epoch: 1, [batch: 672 / 6720], examples_per_second: 3216.8739, train_label_loss: 1.6993, \n"
     ]
    },
    {
     "name": "stdout",
     "output_type": "stream",
     "text": [
      "epoch: 1, [batch: 1344 / 6720], examples_per_second: 3229.4973, train_label_loss: 0.8455, \n"
     ]
    },
    {
     "name": "stdout",
     "output_type": "stream",
     "text": [
      "epoch: 1, [batch: 2016 / 6720], examples_per_second: 3220.4663, train_label_loss: 0.8131, \n"
     ]
    },
    {
     "name": "stdout",
     "output_type": "stream",
     "text": [
      "epoch: 1, [batch: 2688 / 6720], examples_per_second: 3218.9060, train_label_loss: 0.7168, \n"
     ]
    },
    {
     "name": "stdout",
     "output_type": "stream",
     "text": [
      "epoch: 1, [batch: 3360 / 6720], examples_per_second: 3223.2841, train_label_loss: 0.4996, \n"
     ]
    },
    {
     "name": "stdout",
     "output_type": "stream",
     "text": [
      "epoch: 1, [batch: 4032 / 6720], examples_per_second: 3223.1113, train_label_loss: 0.8799, \n"
     ]
    },
    {
     "name": "stdout",
     "output_type": "stream",
     "text": [
      "epoch: 1, [batch: 4704 / 6720], examples_per_second: 3204.4189, train_label_loss: 0.6236, \n"
     ]
    },
    {
     "name": "stdout",
     "output_type": "stream",
     "text": [
      "epoch: 1, [batch: 5376 / 6720], examples_per_second: 3214.9095, train_label_loss: 0.8882, \n"
     ]
    },
    {
     "name": "stdout",
     "output_type": "stream",
     "text": [
      "epoch: 1, [batch: 6048 / 6720], examples_per_second: 3228.2147, train_label_loss: 0.4312, \n"
     ]
    },
    {
     "name": "stdout",
     "output_type": "stream",
     "text": [
      "=============================================================\n",
      "epoch: 1, source_val_acc_label: 0.7832, target_val_acc_label: 0.5543, source_val_label_loss: 7.0326, target_val_label_loss: 553.8638, \n",
      "=============================================================\n"
     ]
    },
    {
     "name": "stdout",
     "output_type": "stream",
     "text": [
      "New best\n"
     ]
    },
    {
     "name": "stdout",
     "output_type": "stream",
     "text": [
      "epoch: 2, [batch: 1 / 6720], examples_per_second: 4.0583, train_label_loss: 0.8383, \n"
     ]
    },
    {
     "name": "stdout",
     "output_type": "stream",
     "text": [
      "epoch: 2, [batch: 672 / 6720], examples_per_second: 3205.8556, train_label_loss: 0.8489, \n"
     ]
    },
    {
     "name": "stdout",
     "output_type": "stream",
     "text": [
      "epoch: 2, [batch: 1344 / 6720], examples_per_second: 3254.9196, train_label_loss: 0.8572, \n"
     ]
    },
    {
     "name": "stdout",
     "output_type": "stream",
     "text": [
      "epoch: 2, [batch: 2016 / 6720], examples_per_second: 3244.2629, train_label_loss: 0.3746, \n"
     ]
    },
    {
     "name": "stdout",
     "output_type": "stream",
     "text": [
      "epoch: 2, [batch: 2688 / 6720], examples_per_second: 3247.7156, train_label_loss: 0.8729, \n"
     ]
    },
    {
     "name": "stdout",
     "output_type": "stream",
     "text": [
      "epoch: 2, [batch: 3360 / 6720], examples_per_second: 3245.2771, train_label_loss: 0.5967, \n"
     ]
    },
    {
     "name": "stdout",
     "output_type": "stream",
     "text": [
      "epoch: 2, [batch: 4032 / 6720], examples_per_second: 3249.8817, train_label_loss: 0.4243, \n"
     ]
    },
    {
     "name": "stdout",
     "output_type": "stream",
     "text": [
      "epoch: 2, [batch: 4704 / 6720], examples_per_second: 3233.6140, train_label_loss: 0.4764, \n"
     ]
    },
    {
     "name": "stdout",
     "output_type": "stream",
     "text": [
      "epoch: 2, [batch: 5376 / 6720], examples_per_second: 3218.3830, train_label_loss: 0.1076, \n"
     ]
    },
    {
     "name": "stdout",
     "output_type": "stream",
     "text": [
      "epoch: 2, [batch: 6048 / 6720], examples_per_second: 3225.1654, train_label_loss: 0.4564, \n"
     ]
    },
    {
     "name": "stdout",
     "output_type": "stream",
     "text": [
      "=============================================================\n",
      "epoch: 2, source_val_acc_label: 0.8197, target_val_acc_label: 0.6216, source_val_label_loss: 0.5126, target_val_label_loss: 207.0393, \n",
      "=============================================================\n"
     ]
    },
    {
     "name": "stdout",
     "output_type": "stream",
     "text": [
      "New best\n"
     ]
    },
    {
     "name": "stdout",
     "output_type": "stream",
     "text": [
      "epoch: 3, [batch: 1 / 6720], examples_per_second: 4.0389, train_label_loss: 0.1334, \n"
     ]
    },
    {
     "name": "stdout",
     "output_type": "stream",
     "text": [
      "epoch: 3, [batch: 672 / 6720], examples_per_second: 3229.8650, train_label_loss: 0.4971, \n"
     ]
    },
    {
     "name": "stdout",
     "output_type": "stream",
     "text": [
      "epoch: 3, [batch: 1344 / 6720], examples_per_second: 3250.1441, train_label_loss: 0.2132, \n"
     ]
    },
    {
     "name": "stdout",
     "output_type": "stream",
     "text": [
      "epoch: 3, [batch: 2016 / 6720], examples_per_second: 3243.0935, train_label_loss: 0.8960, \n"
     ]
    },
    {
     "name": "stdout",
     "output_type": "stream",
     "text": [
      "epoch: 3, [batch: 2688 / 6720], examples_per_second: 3239.1193, train_label_loss: 0.4260, \n"
     ]
    },
    {
     "name": "stdout",
     "output_type": "stream",
     "text": [
      "epoch: 3, [batch: 3360 / 6720], examples_per_second: 3249.8226, train_label_loss: 0.5620, \n"
     ]
    },
    {
     "name": "stdout",
     "output_type": "stream",
     "text": [
      "epoch: 3, [batch: 4032 / 6720], examples_per_second: 3246.5073, train_label_loss: 0.3558, \n"
     ]
    },
    {
     "name": "stdout",
     "output_type": "stream",
     "text": [
      "epoch: 3, [batch: 4704 / 6720], examples_per_second: 3241.1333, train_label_loss: 0.2677, \n"
     ]
    },
    {
     "name": "stdout",
     "output_type": "stream",
     "text": [
      "epoch: 3, [batch: 5376 / 6720], examples_per_second: 3250.8685, train_label_loss: 0.5800, \n"
     ]
    },
    {
     "name": "stdout",
     "output_type": "stream",
     "text": [
      "epoch: 3, [batch: 6048 / 6720], examples_per_second: 3252.1710, train_label_loss: 0.4581, \n"
     ]
    },
    {
     "name": "stdout",
     "output_type": "stream",
     "text": [
      "=============================================================\n",
      "epoch: 3, source_val_acc_label: 0.8328, target_val_acc_label: 0.6439, source_val_label_loss: 0.4563, target_val_label_loss: 249.1354, \n",
      "=============================================================\n"
     ]
    },
    {
     "name": "stdout",
     "output_type": "stream",
     "text": [
      "New best\n"
     ]
    },
    {
     "name": "stdout",
     "output_type": "stream",
     "text": [
      "epoch: 4, [batch: 1 / 6720], examples_per_second: 4.0328, train_label_loss: 0.4457, \n"
     ]
    },
    {
     "name": "stdout",
     "output_type": "stream",
     "text": [
      "epoch: 4, [batch: 672 / 6720], examples_per_second: 3214.2820, train_label_loss: 0.1926, \n"
     ]
    },
    {
     "name": "stdout",
     "output_type": "stream",
     "text": [
      "epoch: 4, [batch: 1344 / 6720], examples_per_second: 3230.0160, train_label_loss: 0.4908, \n"
     ]
    },
    {
     "name": "stdout",
     "output_type": "stream",
     "text": [
      "epoch: 4, [batch: 2016 / 6720], examples_per_second: 3257.9629, train_label_loss: 0.3181, \n"
     ]
    },
    {
     "name": "stdout",
     "output_type": "stream",
     "text": [
      "epoch: 4, [batch: 2688 / 6720], examples_per_second: 3247.8873, train_label_loss: 0.2394, \n"
     ]
    },
    {
     "name": "stdout",
     "output_type": "stream",
     "text": [
      "epoch: 4, [batch: 3360 / 6720], examples_per_second: 3255.9988, train_label_loss: 0.3305, \n"
     ]
    },
    {
     "name": "stdout",
     "output_type": "stream",
     "text": [
      "epoch: 4, [batch: 4032 / 6720], examples_per_second: 3241.9632, train_label_loss: 0.4318, \n"
     ]
    },
    {
     "name": "stdout",
     "output_type": "stream",
     "text": [
      "epoch: 4, [batch: 4704 / 6720], examples_per_second: 3234.7079, train_label_loss: 0.7877, \n"
     ]
    },
    {
     "name": "stdout",
     "output_type": "stream",
     "text": [
      "epoch: 4, [batch: 5376 / 6720], examples_per_second: 3251.2137, train_label_loss: 0.1147, \n"
     ]
    },
    {
     "name": "stdout",
     "output_type": "stream",
     "text": [
      "epoch: 4, [batch: 6048 / 6720], examples_per_second: 3261.7092, train_label_loss: 0.2294, \n"
     ]
    },
    {
     "name": "stdout",
     "output_type": "stream",
     "text": [
      "=============================================================\n",
      "epoch: 4, source_val_acc_label: 0.8671, target_val_acc_label: 0.6416, source_val_label_loss: 0.3684, target_val_label_loss: 294.1467, \n",
      "=============================================================\n"
     ]
    },
    {
     "name": "stdout",
     "output_type": "stream",
     "text": [
      "epoch: 5, [batch: 1 / 6720], examples_per_second: 4.0822, train_label_loss: 0.8347, \n"
     ]
    },
    {
     "name": "stdout",
     "output_type": "stream",
     "text": [
      "epoch: 5, [batch: 672 / 6720], examples_per_second: 3213.4903, train_label_loss: 0.2381, \n"
     ]
    },
    {
     "name": "stdout",
     "output_type": "stream",
     "text": [
      "epoch: 5, [batch: 1344 / 6720], examples_per_second: 3249.2361, train_label_loss: 0.3659, \n"
     ]
    },
    {
     "name": "stdout",
     "output_type": "stream",
     "text": [
      "epoch: 5, [batch: 2016 / 6720], examples_per_second: 3241.4521, train_label_loss: 0.3301, \n"
     ]
    },
    {
     "name": "stdout",
     "output_type": "stream",
     "text": [
      "epoch: 5, [batch: 2688 / 6720], examples_per_second: 3228.4220, train_label_loss: 0.1116, \n"
     ]
    },
    {
     "name": "stdout",
     "output_type": "stream",
     "text": [
      "epoch: 5, [batch: 3360 / 6720], examples_per_second: 3254.2857, train_label_loss: 0.4922, \n"
     ]
    },
    {
     "name": "stdout",
     "output_type": "stream",
     "text": [
      "epoch: 5, [batch: 4032 / 6720], examples_per_second: 3243.9750, train_label_loss: 0.4082, \n"
     ]
    },
    {
     "name": "stdout",
     "output_type": "stream",
     "text": [
      "epoch: 5, [batch: 4704 / 6720], examples_per_second: 3243.3228, train_label_loss: 0.2281, \n"
     ]
    },
    {
     "name": "stdout",
     "output_type": "stream",
     "text": [
      "epoch: 5, [batch: 5376 / 6720], examples_per_second: 3258.1491, train_label_loss: 0.2023, \n"
     ]
    },
    {
     "name": "stdout",
     "output_type": "stream",
     "text": [
      "epoch: 5, [batch: 6048 / 6720], examples_per_second: 3265.7852, train_label_loss: 0.0824, \n"
     ]
    },
    {
     "name": "stdout",
     "output_type": "stream",
     "text": [
      "=============================================================\n",
      "epoch: 5, source_val_acc_label: 0.8835, target_val_acc_label: 0.6378, source_val_label_loss: 0.3373, target_val_label_loss: 340.6923, \n",
      "=============================================================\n"
     ]
    },
    {
     "name": "stdout",
     "output_type": "stream",
     "text": [
      "epoch: 6, [batch: 1 / 6720], examples_per_second: 4.0660, train_label_loss: 0.2635, \n"
     ]
    },
    {
     "name": "stdout",
     "output_type": "stream",
     "text": [
      "epoch: 6, [batch: 672 / 6720], examples_per_second: 3223.0664, train_label_loss: 0.4135, \n"
     ]
    },
    {
     "name": "stdout",
     "output_type": "stream",
     "text": [
      "epoch: 6, [batch: 1344 / 6720], examples_per_second: 3246.8299, train_label_loss: 0.2003, \n"
     ]
    },
    {
     "name": "stdout",
     "output_type": "stream",
     "text": [
      "epoch: 6, [batch: 2016 / 6720], examples_per_second: 3247.3785, train_label_loss: 0.2859, \n"
     ]
    },
    {
     "name": "stdout",
     "output_type": "stream",
     "text": [
      "epoch: 6, [batch: 2688 / 6720], examples_per_second: 3225.8131, train_label_loss: 0.0358, \n"
     ]
    },
    {
     "name": "stdout",
     "output_type": "stream",
     "text": [
      "epoch: 6, [batch: 3360 / 6720], examples_per_second: 3240.9485, train_label_loss: 0.4014, \n"
     ]
    },
    {
     "name": "stdout",
     "output_type": "stream",
     "text": [
      "epoch: 6, [batch: 4032 / 6720], examples_per_second: 3232.5467, train_label_loss: 0.1064, \n"
     ]
    },
    {
     "name": "stdout",
     "output_type": "stream",
     "text": [
      "epoch: 6, [batch: 4704 / 6720], examples_per_second: 3228.6925, train_label_loss: 0.2247, \n"
     ]
    },
    {
     "name": "stdout",
     "output_type": "stream",
     "text": [
      "epoch: 6, [batch: 5376 / 6720], examples_per_second: 3242.7204, train_label_loss: 0.2451, \n"
     ]
    },
    {
     "name": "stdout",
     "output_type": "stream",
     "text": [
      "epoch: 6, [batch: 6048 / 6720], examples_per_second: 3256.4820, train_label_loss: 0.2818, \n"
     ]
    },
    {
     "name": "stdout",
     "output_type": "stream",
     "text": [
      "=============================================================\n",
      "epoch: 6, source_val_acc_label: 0.8493, target_val_acc_label: 0.6229, source_val_label_loss: 0.4136, target_val_label_loss: 401.9476, \n",
      "=============================================================\n"
     ]
    },
    {
     "name": "stdout",
     "output_type": "stream",
     "text": [
      "epoch: 7, [batch: 1 / 6720], examples_per_second: 4.0634, train_label_loss: 0.0599, \n"
     ]
    },
    {
     "name": "stdout",
     "output_type": "stream",
     "text": [
      "epoch: 7, [batch: 672 / 6720], examples_per_second: 3239.4909, train_label_loss: 0.1445, \n"
     ]
    },
    {
     "name": "stdout",
     "output_type": "stream",
     "text": [
      "epoch: 7, [batch: 1344 / 6720], examples_per_second: 3241.5241, train_label_loss: 0.7555, \n"
     ]
    },
    {
     "name": "stdout",
     "output_type": "stream",
     "text": [
      "epoch: 7, [batch: 2016 / 6720], examples_per_second: 3234.8692, train_label_loss: 0.2399, \n"
     ]
    },
    {
     "name": "stdout",
     "output_type": "stream",
     "text": [
      "epoch: 7, [batch: 2688 / 6720], examples_per_second: 3234.9355, train_label_loss: 0.0175, \n"
     ]
    },
    {
     "name": "stdout",
     "output_type": "stream",
     "text": [
      "epoch: 7, [batch: 3360 / 6720], examples_per_second: 3257.6902, train_label_loss: 0.3318, \n"
     ]
    },
    {
     "name": "stdout",
     "output_type": "stream",
     "text": [
      "epoch: 7, [batch: 4032 / 6720], examples_per_second: 3245.0105, train_label_loss: 0.2318, \n"
     ]
    },
    {
     "name": "stdout",
     "output_type": "stream",
     "text": [
      "epoch: 7, [batch: 4704 / 6720], examples_per_second: 3238.7452, train_label_loss: 0.3233, \n"
     ]
    },
    {
     "name": "stdout",
     "output_type": "stream",
     "text": [
      "epoch: 7, [batch: 5376 / 6720], examples_per_second: 3242.2830, train_label_loss: 0.3185, \n"
     ]
    },
    {
     "name": "stdout",
     "output_type": "stream",
     "text": [
      "epoch: 7, [batch: 6048 / 6720], examples_per_second: 3251.7449, train_label_loss: 0.3118, \n"
     ]
    },
    {
     "name": "stdout",
     "output_type": "stream",
     "text": [
      "=============================================================\n",
      "epoch: 7, source_val_acc_label: 0.8889, target_val_acc_label: 0.6297, source_val_label_loss: 0.3072, target_val_label_loss: 411.3394, \n",
      "=============================================================\n"
     ]
    },
    {
     "name": "stdout",
     "output_type": "stream",
     "text": [
      "Patience (3) exhausted\n"
     ]
    }
   ],
   "source": [
    "###################################\n",
    "# train\n",
    "###################################\n",
    "jig = PTN_Train_Eval_Test_Jig(model, p.BEST_MODEL_PATH, p.device)\n",
    "\n",
    "jig.train(\n",
    "    train_iterable=datasets.source.processed.train,\n",
    "    source_val_iterable=datasets.source.processed.val,\n",
    "    target_val_iterable=datasets.target.processed.val,\n",
    "    num_epochs=p.n_epoch,\n",
    "    num_logs_per_epoch=p.NUM_LOGS_PER_EPOCH,\n",
    "    patience=p.patience,\n",
    "    optimizer=optimizer,\n",
    "    criteria_for_best=p.criteria_for_best,\n",
    ")"
   ]
  },
  {
   "cell_type": "code",
   "execution_count": 23,
   "id": "31e8fabf",
   "metadata": {
    "execution": {
     "iopub.execute_input": "2022-03-19T23:28:44.555123Z",
     "iopub.status.busy": "2022-03-19T23:28:44.554701Z",
     "iopub.status.idle": "2022-03-19T23:28:44.570227Z",
     "shell.execute_reply": "2022-03-19T23:28:44.569936Z"
    },
    "papermill": {
     "duration": 0.046831,
     "end_time": "2022-03-19T23:28:44.570297",
     "exception": false,
     "start_time": "2022-03-19T23:28:44.523466",
     "status": "completed"
    },
    "tags": []
   },
   "outputs": [],
   "source": [
    "total_experiment_time_secs = time.time() - start_time_secs"
   ]
  },
  {
   "cell_type": "code",
   "execution_count": 24,
   "id": "87b9595b",
   "metadata": {
    "execution": {
     "iopub.execute_input": "2022-03-19T23:28:44.632425Z",
     "iopub.status.busy": "2022-03-19T23:28:44.632000Z",
     "iopub.status.idle": "2022-03-19T23:31:10.174489Z",
     "shell.execute_reply": "2022-03-19T23:31:10.174867Z"
    },
    "papermill": {
     "duration": 145.575593,
     "end_time": "2022-03-19T23:31:10.175006",
     "exception": false,
     "start_time": "2022-03-19T23:28:44.599413",
     "status": "completed"
    },
    "tags": []
   },
   "outputs": [],
   "source": [
    "###################################\n",
    "# Evaluate the model\n",
    "###################################\n",
    "source_test_label_accuracy, source_test_label_loss = jig.test(datasets.source.processed.test)\n",
    "target_test_label_accuracy, target_test_label_loss = jig.test(datasets.target.processed.test)\n",
    "\n",
    "source_val_label_accuracy, source_val_label_loss = jig.test(datasets.source.processed.val)\n",
    "target_val_label_accuracy, target_val_label_loss = jig.test(datasets.target.processed.val)\n",
    "\n",
    "history = jig.get_history()\n",
    "\n",
    "total_epochs_trained = len(history[\"epoch_indices\"])\n",
    "\n",
    "val_dl = Iterable_Aggregator((datasets.source.original.val,datasets.target.original.val))\n",
    "\n",
    "confusion = ptn_confusion_by_domain_over_dataloader(model, p.device, val_dl)\n",
    "per_domain_accuracy = per_domain_accuracy_from_confusion(confusion)\n",
    "\n",
    "# Add a key to per_domain_accuracy for if it was a source domain\n",
    "for domain, accuracy in per_domain_accuracy.items():\n",
    "    per_domain_accuracy[domain] = {\n",
    "        \"accuracy\": accuracy,\n",
    "        \"source?\": domain in p.domains_source\n",
    "    }\n",
    "\n",
    "# Do an independent accuracy assesment JUST TO BE SURE!\n",
    "# _source_test_label_accuracy = independent_accuracy_assesment(model, datasets.source.processed.test, p.device)\n",
    "# _target_test_label_accuracy = independent_accuracy_assesment(model, datasets.target.processed.test, p.device)\n",
    "# _source_val_label_accuracy = independent_accuracy_assesment(model, datasets.source.processed.val, p.device)\n",
    "# _target_val_label_accuracy = independent_accuracy_assesment(model, datasets.target.processed.val, p.device)\n",
    "\n",
    "# assert(_source_test_label_accuracy == source_test_label_accuracy)\n",
    "# assert(_target_test_label_accuracy == target_test_label_accuracy)\n",
    "# assert(_source_val_label_accuracy == source_val_label_accuracy)\n",
    "# assert(_target_val_label_accuracy == target_val_label_accuracy)\n",
    "\n",
    "experiment = {\n",
    "    \"experiment_name\": p.experiment_name,\n",
    "    \"parameters\": dict(p),\n",
    "    \"results\": {\n",
    "        \"source_test_label_accuracy\": source_test_label_accuracy,\n",
    "        \"source_test_label_loss\": source_test_label_loss,\n",
    "        \"target_test_label_accuracy\": target_test_label_accuracy,\n",
    "        \"target_test_label_loss\": target_test_label_loss,\n",
    "        \"source_val_label_accuracy\": source_val_label_accuracy,\n",
    "        \"source_val_label_loss\": source_val_label_loss,\n",
    "        \"target_val_label_accuracy\": target_val_label_accuracy,\n",
    "        \"target_val_label_loss\": target_val_label_loss,\n",
    "        \"total_epochs_trained\": total_epochs_trained,\n",
    "        \"total_experiment_time_secs\": total_experiment_time_secs,\n",
    "        \"confusion\": confusion,\n",
    "        \"per_domain_accuracy\": per_domain_accuracy,\n",
    "    },\n",
    "    \"history\": history,\n",
    "    \"dataset_metrics\": get_dataset_metrics(datasets, \"ptn\"),\n",
    "}"
   ]
  },
  {
   "cell_type": "code",
   "execution_count": 25,
   "id": "54a21829",
   "metadata": {
    "execution": {
     "iopub.execute_input": "2022-03-19T23:31:10.242020Z",
     "iopub.status.busy": "2022-03-19T23:31:10.241236Z",
     "iopub.status.idle": "2022-03-19T23:31:10.373344Z",
     "shell.execute_reply": "2022-03-19T23:31:10.373718Z"
    },
    "papermill": {
     "duration": 0.163679,
     "end_time": "2022-03-19T23:31:10.373845",
     "exception": false,
     "start_time": "2022-03-19T23:31:10.210166",
     "status": "completed"
    },
    "tags": []
   },
   "outputs": [
    {
     "data": {
      "image/png": "[encoded data removed]",
      "text/plain": [
       "<Figure size 1080x504 with 1 Axes>"
      ]
     },
     "metadata": {
      "needs_background": "light"
     },
     "output_type": "display_data"
    }
   ],
   "source": [
    "ax = get_loss_curve(experiment)\n",
    "plt.show()"
   ]
  },
  {
   "cell_type": "code",
   "execution_count": 26,
   "id": "fd8a0f60",
   "metadata": {
    "execution": {
     "iopub.execute_input": "2022-03-19T23:31:10.438627Z",
     "iopub.status.busy": "2022-03-19T23:31:10.438379Z",
     "iopub.status.idle": "2022-03-19T23:31:10.587041Z",
     "shell.execute_reply": "2022-03-19T23:31:10.587343Z"
    },
    "papermill": {
     "duration": 0.17976,
     "end_time": "2022-03-19T23:31:10.587437",
     "exception": false,
     "start_time": "2022-03-19T23:31:10.407677",
     "status": "completed"
    },
    "tags": []
   },
   "outputs": [
    {
     "data": {
      "text/plain": [
       "<AxesSubplot:title={'center':'Results'}>"
      ]
     },
     "execution_count": 26,
     "metadata": {},
     "output_type": "execute_result"
    },
    {
     "data": {
      "image/png": "[encoded data removed]",
      "text/plain": [
       "<Figure size 1080x504 with 1 Axes>"
      ]
     },
     "metadata": {
      "needs_background": "light"
     },
     "output_type": "display_data"
    }
   ],
   "source": [
    "get_results_table(experiment)"
   ]
  },
  {
   "cell_type": "code",
   "execution_count": 27,
   "id": "cf8dc689",
   "metadata": {
    "execution": {
     "iopub.execute_input": "2022-03-19T23:31:10.658325Z",
     "iopub.status.busy": "2022-03-19T23:31:10.656058Z",
     "iopub.status.idle": "2022-03-19T23:31:10.804137Z",
     "shell.execute_reply": "2022-03-19T23:31:10.803691Z"
    },
    "papermill": {
     "duration": 0.179825,
     "end_time": "2022-03-19T23:31:10.804231",
     "exception": false,
     "start_time": "2022-03-19T23:31:10.624406",
     "status": "completed"
    },
    "tags": []
   },
   "outputs": [
    {
     "data": {
      "text/plain": [
       "<AxesSubplot:title={'center':'Per Domain Validation Accuracy'}, xlabel='domain'>"
      ]
     },
     "execution_count": 27,
     "metadata": {},
     "output_type": "execute_result"
    },
    {
     "data": {
      "image/png": "[encoded data removed]",
      "text/plain": [
       "<Figure size 1080x504 with 1 Axes>"
      ]
     },
     "metadata": {
      "needs_background": "light"
     },
     "output_type": "display_data"
    }
   ],
   "source": [
    "get_domain_accuracies(experiment)"
   ]
  },
  {
   "cell_type": "code",
   "execution_count": 28,
   "id": "a74ae082",
   "metadata": {
    "execution": {
     "iopub.execute_input": "2022-03-19T23:31:10.876514Z",
     "iopub.status.busy": "2022-03-19T23:31:10.872983Z",
     "iopub.status.idle": "2022-03-19T23:31:10.888624Z",
     "shell.execute_reply": "2022-03-19T23:31:10.888182Z"
    },
    "papermill": {
     "duration": 0.049799,
     "end_time": "2022-03-19T23:31:10.888716",
     "exception": false,
     "start_time": "2022-03-19T23:31:10.838917",
     "status": "completed"
    },
    "tags": []
   },
   "outputs": [
    {
     "name": "stdout",
     "output_type": "stream",
     "text": [
      "Source Test Label Accuracy: 0.8353841145833333 Target Test Label Accuracy: 0.6469289374325782\n",
      "Source Val Label Accuracy: 0.8328125 Target Val Label Accuracy: 0.6439009330406147\n"
     ]
    }
   ],
   "source": [
    "print(\"Source Test Label Accuracy:\", experiment[\"results\"][\"source_test_label_accuracy\"], \"Target Test Label Accuracy:\", experiment[\"results\"][\"target_test_label_accuracy\"])\n",
    "print(\"Source Val Label Accuracy:\", experiment[\"results\"][\"source_val_label_accuracy\"], \"Target Val Label Accuracy:\", experiment[\"results\"][\"target_val_label_accuracy\"])"
   ]
  },
  {
   "cell_type": "code",
   "execution_count": 29,
   "id": "dacca602",
   "metadata": {
    "execution": {
     "iopub.execute_input": "2022-03-19T23:31:10.958699Z",
     "iopub.status.busy": "2022-03-19T23:31:10.958441Z",
     "iopub.status.idle": "2022-03-19T23:31:10.976062Z",
     "shell.execute_reply": "2022-03-19T23:31:10.976428Z"
    },
    "papermill": {
     "duration": 0.051061,
     "end_time": "2022-03-19T23:31:10.976538",
     "exception": false,
     "start_time": "2022-03-19T23:31:10.925477",
     "status": "completed"
    },
    "tags": [
     "experiment_json"
    ]
   },
   "outputs": [
    {
     "data": {
      "text/plain": [
       "'{\"experiment_name\": \"tl_2v2:oracle.run1.framed -> cores+wisig\", \"parameters\": {\"experiment_name\": \"tl_2v2:oracle.run1.framed -> cores+wisig\", \"device\": \"cuda\", \"lr\": 0.0001, \"n_shot\": 3, \"n_query\": 2, \"train_k_factor\": 3, \"val_k_factor\": 2, \"test_k_factor\": 2, \"torch_default_dtype\": \"torch.float32\", \"n_epoch\": 50, \"patience\": 3, \"criteria_for_best\": \"target_accuracy\", \"x_net\": [{\"class\": \"nnReshape\", \"kargs\": {\"shape\": [-1, 1, 2, 256]}}, {\"class\": \"Conv2d\", \"kargs\": {\"in_channels\": 1, \"out_channels\": 256, \"kernel_size\": [1, 7], \"bias\": false, \"padding\": [0, 3]}}, {\"class\": \"ReLU\", \"kargs\": {\"inplace\": true}}, {\"class\": \"BatchNorm2d\", \"kargs\": {\"num_features\": 256}}, {\"class\": \"Conv2d\", \"kargs\": {\"in_channels\": 256, \"out_channels\": 80, \"kernel_size\": [2, 7], \"bias\": true, \"padding\": [0, 3]}}, {\"class\": \"ReLU\", \"kargs\": {\"inplace\": true}}, {\"class\": \"BatchNorm2d\", \"kargs\": {\"num_features\": 80}}, {\"class\": \"Flatten\", \"kargs\": {}}, {\"class\": \"Linear\", \"kargs\": {\"in_features\": 20480, \"out_features\": 256}}, {\"class\": \"ReLU\", \"kargs\": {\"inplace\": true}}, {\"class\": \"BatchNorm1d\", \"kargs\": {\"num_features\": 256}}, {\"class\": \"Linear\", \"kargs\": {\"in_features\": 256, \"out_features\": 256}}], \"NUM_LOGS_PER_EPOCH\": 10, \"BEST_MODEL_PATH\": \"./best_model.pth\", \"n_way\": 16, \"datasets\": [{\"labels\": [\"1-10.\", \"1-11.\", \"1-15.\", \"1-16.\", \"1-17.\", \"1-18.\", \"1-19.\", \"10-4.\", \"10-7.\", \"11-1.\", \"11-14.\", \"11-17.\", \"11-20.\", \"11-7.\", \"13-20.\", \"13-8.\", \"14-10.\", \"14-11.\", \"14-14.\", \"14-7.\", \"15-1.\", \"15-20.\", \"16-1.\", \"16-16.\", \"17-10.\", \"17-11.\", \"17-2.\", \"19-1.\", \"19-16.\", \"19-19.\", \"19-20.\", \"19-3.\", \"2-10.\", \"2-11.\", \"2-17.\", \"2-18.\", \"2-20.\", \"2-3.\", \"2-4.\", \"2-5.\", \"2-6.\", \"2-7.\", \"2-8.\", \"3-13.\", \"3-18.\", \"3-3.\", \"4-1.\", \"4-10.\", \"4-11.\", \"4-19.\", \"5-5.\", \"6-15.\", \"7-10.\", \"7-14.\", \"8-18.\", \"8-20.\", \"8-3.\", \"8-8.\"], \"domains\": [1, 2, 3, 4, 5], \"num_examples_per_domain_per_label\": -1, \"pickle_path\": \"/mnt/wd500GB/CSC500/csc500-main/datasets/cores.stratified_ds.2022A.pkl\", \"source_or_target_dataset\": \"target\", \"x_transforms\": [\"unit_power\"], \"episode_transforms\": [], \"domain_prefix\": \"C_\"}, {\"labels\": [\"1-10\", \"1-12\", \"1-14\", \"1-16\", \"1-18\", \"1-19\", \"1-8\", \"10-11\", \"10-17\", \"10-4\", \"10-7\", \"11-1\", \"11-10\", \"11-19\", \"11-20\", \"11-4\", \"11-7\", \"12-19\", \"12-20\", \"12-7\", \"13-14\", \"13-18\", \"13-19\", \"13-20\", \"13-3\", \"13-7\", \"14-10\", \"14-11\", \"14-12\", \"14-13\", \"14-14\", \"14-19\", \"14-20\", \"14-7\", \"14-8\", \"14-9\", \"15-1\", \"15-19\", \"15-6\", \"16-1\", \"16-16\", \"16-19\", \"16-20\", \"17-10\", \"17-11\", \"18-1\", \"18-10\", \"18-11\", \"18-12\", \"18-13\", \"18-14\", \"18-15\", \"18-16\", \"18-17\", \"18-19\", \"18-2\", \"18-20\", \"18-4\", \"18-5\", \"18-7\", \"18-8\", \"18-9\", \"19-1\", \"19-10\", \"19-11\", \"19-12\", \"19-13\", \"19-14\", \"19-15\", \"19-19\", \"19-2\", \"19-20\", \"19-3\", \"19-4\", \"19-6\", \"19-7\", \"19-8\", \"19-9\", \"2-1\", \"2-13\", \"2-15\", \"2-3\", \"2-4\", \"2-5\", \"2-6\", \"2-7\", \"2-8\", \"20-1\", \"20-12\", \"20-14\", \"20-15\", \"20-16\", \"20-18\", \"20-19\", \"20-20\", \"20-3\", \"20-4\", \"20-5\", \"20-7\", \"20-8\", \"3-1\", \"3-13\", \"3-18\", \"3-2\", \"3-8\", \"4-1\", \"4-10\", \"4-11\", \"5-1\", \"5-5\", \"6-1\", \"6-15\", \"6-6\", \"7-10\", \"7-11\", \"7-12\", \"7-13\", \"7-14\", \"7-7\", \"7-8\", \"7-9\", \"8-1\", \"8-13\", \"8-14\", \"8-18\", \"8-20\", \"8-3\", \"8-8\", \"9-1\", \"9-7\"], \"domains\": [1, 2, 3, 4], \"num_examples_per_domain_per_label\": -1, \"pickle_path\": \"/mnt/wd500GB/CSC500/csc500-main/datasets/wisig.node3-19.stratified_ds.2022A.pkl\", \"source_or_target_dataset\": \"target\", \"x_transforms\": [\"unit_power\"], \"episode_transforms\": [], \"domain_prefix\": \"W_\"}, {\"labels\": [\"3123D52\", \"3123D65\", \"3123D79\", \"3123D80\", \"3123D54\", \"3123D70\", \"3123D7B\", \"3123D89\", \"3123D58\", \"3123D76\", \"3123D7D\", \"3123EFE\", \"3123D64\", \"3123D78\", \"3123D7E\", \"3124E4A\"], \"domains\": [32, 38, 8, 44, 14, 50, 20, 26], \"num_examples_per_domain_per_label\": 2000, \"pickle_path\": \"/mnt/wd500GB/CSC500/csc500-main/datasets/oracle.Run1_framed_2000Examples_stratified_ds.2022A.pkl\", \"source_or_target_dataset\": \"source\", \"x_transforms\": [\"unit_power\"], \"episode_transforms\": [], \"domain_prefix\": \"O_\"}], \"seed\": 7, \"dataset_seed\": 7, \"x_shape\": [2, 256], \"domains_source\": [\"O_32\", \"O_38\", \"O_8\", \"O_44\", \"O_14\", \"O_50\", \"O_20\", \"O_26\"], \"domains_target\": [\"C_1\", \"C_2\", \"C_3\", \"C_4\", \"C_5\", \"W_1\", \"W_2\", \"W_3\", \"W_4\"]}, \"results\": {\"source_test_label_accuracy\": 0.8353841145833333, \"source_test_label_loss\": 0.44867220520973206, \"target_test_label_accuracy\": 0.6469289374325782, \"target_test_label_loss\": 246.84207153320312, \"source_val_label_accuracy\": 0.8328125, \"source_val_label_loss\": 0.4563378393650055, \"target_val_label_accuracy\": 0.6439009330406147, \"target_val_label_loss\": 249.13546752929688, \"total_epochs_trained\": 7, \"total_experiment_time_secs\": 1379.263884305954, \"confusion\": {\"O_26\": {\"0\": {\"0\": 87, \"10\": 66, \"8\": 22, \"4\": 29, \"14\": 32, \"7\": 3, \"6\": 1}, \"4\": {\"4\": 126, \"14\": 60, \"1\": 11, \"7\": 8, \"8\": 19, \"0\": 14, \"10\": 2}, \"14\": {\"14\": 122, \"4\": 62, \"0\": 30, \"10\": 8, \"1\": 17, \"8\": 1}, \"12\": {\"12\": 240}, \"8\": {\"8\": 116, \"14\": 5, \"15\": 4, \"0\": 25, \"4\": 22, \"10\": 37, \"7\": 25, \"5\": 1, \"2\": 2, \"13\": 2, \"6\": 1}, \"7\": {\"8\": 12, \"7\": 175, \"3\": 23, \"2\": 11, \"4\": 18, \"1\": 1}, \"13\": {\"13\": 189, \"5\": 37, \"15\": 9, \"9\": 3, \"2\": 2}, \"5\": {\"5\": 187, \"13\": 22, \"15\": 12, \"9\": 3, \"2\": 14, \"8\": 2}, \"15\": {\"9\": 63, \"15\": 148, \"13\": 8, \"2\": 1, \"8\": 11, \"6\": 7, \"5\": 2}, \"10\": {\"0\": 73, \"14\": 10, \"10\": 121, \"8\": 27, \"15\": 2, \"4\": 3, \"6\": 4}, \"3\": {\"3\": 177, \"2\": 38, \"7\": 25}, \"9\": {\"9\": 159, \"15\": 60, \"6\": 14, \"13\": 5, \"5\": 2}, \"6\": {\"6\": 210, \"9\": 23, \"10\": 5, \"15\": 2}, \"1\": {\"1\": 206, \"14\": 19, \"4\": 14, \"7\": 1}, \"11\": {\"11\": 240}, \"2\": {\"15\": 6, \"2\": 113, \"5\": 35, \"7\": 23, \"3\": 57, \"8\": 5, \"13\": 1}}, \"O_44\": {\"1\": {\"1\": 188, \"12\": 33, \"3\": 7, \"10\": 7, \"7\": 1, \"2\": 4}, \"11\": {\"11\": 238, \"13\": 2}, \"3\": {\"3\": 236, \"1\": 4}, \"6\": {\"9\": 12, \"6\": 179, \"13\": 44, \"7\": 5}, \"7\": {\"9\": 37, \"7\": 172, \"1\": 1, \"2\": 24, \"6\": 5, \"13\": 1}, \"5\": {\"5\": 208, \"8\": 3, \"0\": 11, \"14\": 11, \"15\": 7}, \"2\": {\"2\": 201, \"7\": 25, \"1\": 7, \"3\": 1, \"10\": 4, \"9\": 2}, \"15\": {\"15\": 193, \"8\": 5, \"5\": 8, \"14\": 22, \"0\": 12}, \"10\": {\"10\": 211, \"1\": 17, \"2\": 9, \"7\": 1, \"12\": 2}, \"13\": {\"13\": 174, \"6\": 45, \"9\": 20, \"7\": 1}, \"8\": {\"0\": 88, \"8\": 145, \"5\": 1, \"15\": 6}, \"4\": {\"4\": 182, \"14\": 57, \"15\": 1}, \"9\": {\"13\": 25, \"7\": 56, \"9\": 136, \"6\": 22, \"2\": 1}, \"14\": {\"14\": 144, \"4\": 77, \"5\": 7, \"15\": 12}, \"0\": {\"8\": 63, \"0\": 164, \"5\": 10, \"15\": 3}, \"12\": {\"12\": 205, \"1\": 31, \"10\": 4}}, \"O_50\": {\"15\": {\"15\": 214, \"4\": 4, \"1\": 17, \"11\": 3, \"6\": 2}, \"4\": {\"4\": 162, \"1\": 20, \"5\": 35, \"15\": 18, \"13\": 2, \"6\": 2, \"7\": 1}, \"6\": {\"6\": 208, \"7\": 4, \"13\": 16, \"15\": 4, \"0\": 1, \"1\": 4, \"4\": 2, \"5\": 1}, \"2\": {\"2\": 222, \"0\": 18}, \"5\": {\"5\": 144, \"7\": 14, \"1\": 14, \"4\": 37, \"13\": 28, \"6\": 2, \"10\": 1}, \"9\": {\"9\": 237, \"11\": 2, \"12\": 1}, \"8\": {\"8\": 234, \"10\": 6}, \"12\": {\"12\": 237, \"9\": 2, \"14\": 1}, \"10\": {\"0\": 4, \"10\": 232, \"7\": 2, \"13\": 2}, \"1\": {\"4\": 7, \"5\": 1, \"1\": 186, \"2\": 1, \"15\": 41, \"6\": 3, \"13\": 1}, \"0\": {\"0\": 221, \"2\": 14, \"10\": 5}, \"3\": {\"3\": 240}, \"13\": {\"13\": 210, \"6\": 10, \"7\": 6, \"5\": 11, \"4\": 1, \"10\": 2}, \"11\": {\"11\": 222, \"9\": 5, \"12\": 5, \"15\": 6, \"4\": 1, \"14\": 1}, \"7\": {\"13\": 20, \"7\": 204, \"6\": 4, \"5\": 9, \"4\": 2, \"8\": 1}, \"14\": {\"14\": 240}}, \"O_38\": {\"15\": {\"8\": 9, \"15\": 215, \"13\": 7, \"5\": 2, \"1\": 7}, \"11\": {\"11\": 234, \"14\": 4, \"10\": 2}, \"10\": {\"10\": 218, \"8\": 7, \"14\": 2, \"7\": 2, \"13\": 8, \"5\": 1, \"2\": 1, \"0\": 1}, \"14\": {\"14\": 231, \"2\": 7, \"11\": 2}, \"6\": {\"6\": 234, \"9\": 6}, \"4\": {\"4\": 240}, \"13\": {\"13\": 213, \"15\": 7, \"10\": 10, \"2\": 5, \"8\": 5}, \"3\": {\"3\": 235, \"7\": 1, \"9\": 2, \"0\": 1, \"11\": 1}, \"7\": {\"7\": 217, \"5\": 13, \"8\": 7, \"0\": 3}, \"8\": {\"8\": 188, \"5\": 30, \"7\": 7, \"0\": 9, \"15\": 4, \"13\": 1, \"10\": 1}, \"1\": {\"1\": 235, \"15\": 5}, \"5\": {\"5\": 130, \"8\": 62, \"7\": 26, \"0\": 5, \"15\": 9, \"9\": 6, \"6\": 2}, \"0\": {\"0\": 184, \"7\": 15, \"5\": 5, \"8\": 22, \"10\": 4, \"3\": 7, \"15\": 1, \"9\": 2}, \"2\": {\"2\": 228, \"14\": 7, \"13\": 5}, \"12\": {\"12\": 240}, \"9\": {\"9\": 227, \"6\": 13}}, \"O_20\": {\"10\": {\"10\": 239, \"14\": 1}, \"7\": {\"7\": 217, \"8\": 4, \"2\": 14, \"4\": 1, \"9\": 3, \"3\": 1}, \"4\": {\"4\": 233, \"8\": 5, \"12\": 1, \"3\": 1}, \"13\": {\"13\": 234, \"2\": 4, \"12\": 1, \"15\": 1}, \"1\": {\"1\": 164, \"3\": 1, \"12\": 55, \"15\": 10, \"5\": 10}, \"0\": {\"0\": 183, \"15\": 18, \"5\": 35, \"8\": 3, \"13\": 1}, \"12\": {\"12\": 143, \"3\": 28, \"1\": 48, \"2\": 9, \"9\": 3, \"5\": 9}, \"5\": {\"1\": 12, \"5\": 195, \"0\": 18, \"15\": 14, \"12\": 1}, \"6\": {\"6\": 228, \"14\": 12}, \"2\": {\"3\": 8, \"2\": 148, \"7\": 21, \"9\": 49, \"12\": 9, \"13\": 5}, \"8\": {\"8\": 227, \"4\": 10, \"7\": 3}, \"11\": {\"11\": 240}, \"9\": {\"9\": 155, \"2\": 52, \"12\": 5, \"3\": 26, \"7\": 2}, \"14\": {\"14\": 224, \"6\": 15, \"8\": 1}, \"15\": {\"1\": 16, \"15\": 191, \"5\": 17, \"0\": 14, \"13\": 2}, \"3\": {\"3\": 156, \"4\": 5, \"1\": 1, \"2\": 10, \"9\": 27, \"12\": 39, \"7\": 2}}, \"O_14\": {\"14\": {\"14\": 213, \"2\": 16, \"13\": 9, \"3\": 1, \"6\": 1}, \"0\": {\"0\": 236, \"10\": 2, \"3\": 1, \"11\": 1}, \"4\": {\"4\": 204, \"5\": 26, \"3\": 1, \"1\": 6, \"2\": 3}, \"11\": {\"11\": 231, \"9\": 6, \"0\": 3}, \"13\": {\"6\": 88, \"13\": 105, \"14\": 26, \"2\": 14, \"5\": 3, \"4\": 4}, \"9\": {\"9\": 240}, \"3\": {\"3\": 231, \"2\": 5, \"4\": 3, \"5\": 1}, \"6\": {\"6\": 194, \"2\": 3, \"13\": 42, \"14\": 1}, \"1\": {\"1\": 234, \"5\": 3, \"4\": 3}, \"5\": {\"5\": 183, \"4\": 38, \"1\": 15, \"2\": 3, \"3\": 1}, \"12\": {\"12\": 240}, \"10\": {\"10\": 240}, \"8\": {\"8\": 240}, \"7\": {\"7\": 240}, \"15\": {\"15\": 240}, \"2\": {\"2\": 152, \"14\": 37, \"6\": 10, \"5\": 24, \"3\": 5, \"13\": 10, \"4\": 2}}, \"O_32\": {\"11\": {\"11\": 216, \"13\": 3, \"14\": 21}, \"1\": {\"1\": 240}, \"2\": {\"2\": 189, \"4\": 49, \"7\": 2}, \"0\": {\"0\": 198, \"5\": 4, \"7\": 4, \"8\": 20, \"14\": 12, \"13\": 1, \"11\": 1}, \"3\": {\"3\": 238, \"13\": 2}, \"8\": {\"13\": 4, \"8\": 214, \"0\": 19, \"5\": 2, \"3\": 1}, \"12\": {\"12\": 240}, \"5\": {\"5\": 149, \"7\": 48, \"4\": 17, \"0\": 1, \"8\": 5, \"13\": 12, \"14\": 1, \"3\": 7}, \"15\": {\"15\": 240}, \"7\": {\"7\": 164, \"5\": 44, \"11\": 2, \"4\": 19, \"2\": 3, \"13\": 4, \"14\": 3, \"0\": 1}, \"4\": {\"4\": 204, \"2\": 20, \"7\": 7, \"13\": 2, \"5\": 7}, \"14\": {\"0\": 23, \"14\": 154, \"11\": 52, \"7\": 9, \"3\": 1, \"5\": 1}, \"10\": {\"10\": 240}, \"6\": {\"6\": 240}, \"13\": {\"13\": 206, \"5\": 17, \"3\": 6, \"4\": 8, \"7\": 2, \"8\": 1}, \"9\": {\"9\": 240}}, \"O_8\": {\"9\": {\"9\": 240}, \"11\": {\"1\": 19, \"11\": 221}, \"8\": {\"8\": 239, \"15\": 1}, \"4\": {\"4\": 184, \"14\": 16, \"13\": 30, \"6\": 10}, \"13\": {\"13\": 106, \"4\": 32, \"10\": 10, \"14\": 8, \"0\": 69, \"6\": 14, \"7\": 1}, \"14\": {\"14\": 164, \"10\": 39, \"1\": 8, \"4\": 23, \"13\": 5, \"5\": 1}, \"2\": {\"2\": 223, \"15\": 2, \"7\": 8, \"12\": 2, \"3\": 3, \"6\": 1, \"8\": 1}, \"3\": {\"3\": 232, \"2\": 1, \"12\": 6, \"15\": 1}, \"1\": {\"1\": 229, \"11\": 8, \"5\": 3}, \"0\": {\"13\": 45, \"0\": 181, \"7\": 7, \"6\": 3, \"4\": 3, \"14\": 1}, \"5\": {\"5\": 212, \"14\": 3, \"1\": 13, \"10\": 11, \"11\": 1}, \"15\": {\"12\": 48, \"15\": 190, \"2\": 1, \"8\": 1}, \"10\": {\"14\": 38, \"10\": 198, \"13\": 4}, \"12\": {\"12\": 154, \"15\": 73, \"3\": 10, \"8\": 3}, \"6\": {\"6\": 176, \"7\": 49, \"13\": 2, \"4\": 12, \"0\": 1}, \"7\": {\"7\": 189, \"6\": 47, \"11\": 1, \"0\": 3}}, \"C_5\": {\"26\": {\"26\": 24}, \"7\": {\"26\": 1, \"7\": 27, \"51\": 1, \"53\": 2, \"30\": 1}, \"56\": {\"56\": 130, \"22\": 2, \"24\": 4, \"44\": 2, \"15\": 2, \"29\": 1, \"35\": 1}, \"36\": {\"47\": 2, \"36\": 71, \"37\": 1, \"52\": 6, \"49\": 1, \"46\": 2, \"21\": 1, \"57\": 1, \"3\": 2, \"16\": 4, \"8\": 1}, \"47\": {\"47\": 62, \"14\": 4, \"37\": 4, \"11\": 1, \"31\": 1, \"16\": 5, \"52\": 11, \"36\": 4, \"46\": 3, \"43\": 2, \"28\": 1, \"3\": 2}, \"2\": {\"2\": 26, \"29\": 1, \"44\": 1}, \"15\": {\"15\": 144, \"11\": 7, \"43\": 1}, \"14\": {\"46\": 4, \"11\": 3, \"37\": 1, \"14\": 10, \"43\": 2, \"34\": 1, \"28\": 4, \"31\": 3, \"52\": 2, \"21\": 1, \"47\": 2, \"49\": 4, \"0\": 2, \"29\": 3, \"40\": 1, \"36\": 1}, \"27\": {\"27\": 135, \"1\": 3, \"9\": 2, \"53\": 1, \"30\": 2, \"12\": 1, \"48\": 2}, \"40\": {\"40\": 82, \"49\": 1, \"5\": 12, \"36\": 6, \"31\": 1, \"52\": 1, \"29\": 4, \"46\": 4, \"47\": 4, \"43\": 1, \"34\": 3, \"57\": 2, \"21\": 2, \"44\": 1}, \"49\": {\"49\": 33, \"14\": 1, \"52\": 1, \"0\": 1}, \"45\": {\"7\": 3, \"45\": 35, \"32\": 2, \"51\": 10, \"6\": 8, \"17\": 12, \"53\": 7, \"42\": 1, \"55\": 5, \"27\": 3, \"30\": 5, \"38\": 1, \"50\": 4, \"5\": 2, \"9\": 8, \"20\": 5, \"19\": 1, \"8\": 5, \"12\": 2, \"40\": 1, \"1\": 2, \"4\": 1, \"25\": 1}, \"46\": {\"47\": 3, \"46\": 89, \"3\": 3, \"35\": 2, \"57\": 7, \"21\": 1, \"52\": 19, \"16\": 5, \"56\": 1, \"29\": 1, \"44\": 1, \"0\": 2, \"36\": 1, \"11\": 1}, \"11\": {\"11\": 113, \"43\": 4, \"15\": 7, \"0\": 6}, \"30\": {\"30\": 105, \"48\": 1, \"17\": 3, \"51\": 1, \"6\": 2}, \"0\": {\"0\": 120, \"35\": 1, \"3\": 1, \"43\": 1, \"15\": 1}, \"10\": {\"10\": 66, \"13\": 2}, \"1\": {\"1\": 127, \"48\": 16, \"30\": 1, \"8\": 1, \"53\": 2, \"50\": 1}, \"42\": {\"42\": 23, \"1\": 2, \"10\": 1, \"8\": 3, \"25\": 3, \"20\": 2, \"41\": 3, \"27\": 1, \"53\": 1, \"0\": 1}, \"54\": {\"54\": 104, \"18\": 3, \"53\": 1, \"23\": 3, \"20\": 1}, \"55\": {\"17\": 1, \"55\": 126, \"51\": 6, \"45\": 5, \"12\": 2, \"6\": 1, \"5\": 2, \"9\": 2, \"19\": 1, \"44\": 1, \"7\": 1, \"26\": 2, \"50\": 2}, \"23\": {\"23\": 95, \"18\": 6, \"54\": 16, \"53\": 1, \"25\": 2, \"42\": 1, \"39\": 2, \"57\": 1}, \"25\": {\"1\": 16, \"42\": 1, \"25\": 93, \"53\": 5, \"8\": 8, \"20\": 2, \"45\": 1, \"27\": 6, \"9\": 2, \"50\": 10, \"48\": 4, \"54\": 2, \"18\": 1, \"26\": 1}, \"28\": {\"28\": 30, \"57\": 1, \"37\": 1}, \"32\": {\"32\": 14, \"53\": 4, \"41\": 1, \"1\": 5, \"33\": 1, \"12\": 1, \"17\": 3, \"48\": 1, \"9\": 2}, \"9\": {\"9\": 58, \"27\": 25, \"41\": 1, \"1\": 12, \"30\": 11, \"38\": 1, \"51\": 2, \"48\": 8, \"17\": 5, \"6\": 11, \"53\": 3, \"12\": 1, \"8\": 2, \"19\": 1, \"50\": 1}, \"39\": {\"54\": 2, \"42\": 3, \"39\": 13, \"23\": 1, \"18\": 1}, \"3\": {\"3\": 53, \"46\": 5, \"16\": 1, \"57\": 1, \"37\": 1, \"22\": 2, \"31\": 2, \"52\": 14, \"24\": 2, \"36\": 2, \"29\": 2, \"0\": 4, \"47\": 6, \"43\": 2, \"15\": 1, \"28\": 1, \"56\": 1}, \"29\": {\"29\": 106, \"43\": 5, \"3\": 3, \"40\": 1, \"11\": 1, \"49\": 1, \"16\": 1}, \"17\": {\"17\": 109, \"6\": 1, \"30\": 6}, \"35\": {\"35\": 34, \"0\": 2}, \"44\": {\"44\": 135, \"47\": 1, \"29\": 2, \"5\": 3, \"40\": 10, \"2\": 1}, \"5\": {\"5\": 112, \"40\": 12, \"29\": 2, \"36\": 1, \"19\": 1}, \"33\": {\"33\": 17, \"6\": 2, \"41\": 4, \"38\": 1, \"1\": 4, \"25\": 2, \"32\": 1, \"53\": 1}, \"34\": {\"44\": 1, \"34\": 33, \"22\": 1, \"5\": 1}, \"13\": {\"10\": 2, \"13\": 133, \"56\": 3}, \"41\": {\"6\": 1, \"41\": 17, \"32\": 1, \"1\": 4, \"8\": 2, \"53\": 2, \"25\": 1}, \"6\": {\"6\": 25, \"51\": 11, \"42\": 1, \"25\": 2, \"8\": 13, \"17\": 10, \"30\": 18, \"50\": 3, \"20\": 10, \"1\": 5, \"53\": 9, \"12\": 1, \"9\": 5, \"48\": 5, \"4\": 2, \"19\": 1, \"32\": 2, \"38\": 1, \"27\": 1, \"26\": 2, \"45\": 1}, \"51\": {\"51\": 84, \"7\": 1, \"26\": 2, \"30\": 11, \"50\": 2, \"9\": 2, \"17\": 7, \"53\": 11, \"1\": 1, \"6\": 4, \"8\": 7, \"48\": 1, \"20\": 4, \"27\": 1}, \"50\": {\"6\": 4, \"8\": 10, \"27\": 16, \"25\": 13, \"53\": 8, \"1\": 24, \"7\": 1, \"50\": 25, \"20\": 4, \"41\": 1, \"48\": 20, \"45\": 3, \"17\": 2, \"54\": 2, \"51\": 3, \"16\": 1, \"9\": 2, \"42\": 1, \"12\": 3, \"21\": 1}, \"37\": {\"37\": 24}, \"19\": {\"19\": 132, \"45\": 3, \"9\": 1, \"55\": 2, \"50\": 2, \"4\": 1, \"15\": 1, \"51\": 2}, \"57\": {\"57\": 123, \"39\": 2, \"21\": 3, \"23\": 2, \"52\": 1, \"54\": 1}, \"21\": {\"21\": 130, \"23\": 6, \"52\": 1, \"18\": 2, \"54\": 4, \"20\": 1}, \"24\": {\"24\": 76, \"0\": 1, \"15\": 2, \"56\": 1}, \"8\": {\"8\": 110, \"53\": 14, \"1\": 6}, \"12\": {\"26\": 2, \"12\": 53, \"7\": 2, \"38\": 3, \"45\": 3, \"51\": 5, \"17\": 10, \"6\": 5, \"53\": 1, \"8\": 1, \"30\": 5, \"20\": 3, \"4\": 1, \"9\": 2}, \"48\": {\"48\": 92, \"8\": 1, \"17\": 6, \"1\": 25, \"27\": 5, \"53\": 1, \"26\": 1, \"30\": 1}, \"43\": {\"43\": 121, \"15\": 16, \"11\": 2, \"0\": 2, \"16\": 5, \"36\": 3, \"3\": 1}, \"53\": {\"53\": 114, \"8\": 16, \"1\": 10, \"30\": 1, \"27\": 1, \"48\": 5, \"17\": 1}, \"38\": {\"38\": 19, \"7\": 4, \"6\": 2, \"51\": 3, \"30\": 2, \"17\": 2}, \"16\": {\"16\": 128, \"47\": 4, \"46\": 6, \"37\": 1, \"43\": 1, \"52\": 2}, \"22\": {\"22\": 24, \"24\": 1, \"2\": 2, \"56\": 1}, \"4\": {\"4\": 83, \"6\": 2, \"30\": 1, \"12\": 1, \"45\": 4, \"19\": 2, \"8\": 1, \"9\": 2, \"48\": 1, \"55\": 1, \"17\": 2}, \"18\": {\"18\": 43, \"41\": 2, \"23\": 4, \"20\": 1, \"8\": 1, \"27\": 3, \"54\": 3, \"32\": 1, \"39\": 1, \"53\": 2, \"9\": 1, \"1\": 2}, \"20\": {\"20\": 50, \"30\": 13, \"42\": 2, \"17\": 4, \"51\": 22, \"53\": 14, \"9\": 10, \"18\": 2, \"54\": 3, \"25\": 5, \"6\": 8, \"8\": 5, \"1\": 4, \"48\": 2}, \"52\": {\"52\": 114, \"28\": 1, \"57\": 6, \"46\": 11, \"47\": 2, \"36\": 2, \"37\": 1, \"16\": 1, \"3\": 1, \"21\": 1}, \"31\": {\"31\": 36}}, \"W_4\": {\"71\": {\"114\": 2, \"71\": 56, \"95\": 2, \"7\": 3, \"53\": 1, \"13\": 1, \"127\": 3, \"105\": 2, \"8\": 4, \"124\": 9, \"106\": 3, \"1\": 2, \"4\": 3, \"107\": 1, \"27\": 2, \"40\": 2, \"3\": 2, \"42\": 1, \"84\": 1, \"108\": 2, \"10\": 1, \"5\": 1}, \"17\": {\"17\": 15, \"0\": 1, \"34\": 2, \"104\": 2}, \"105\": {\"105\": 34, \"1\": 4, \"82\": 2, \"4\": 2, \"49\": 2, \"114\": 3, \"39\": 2, \"113\": 3, \"98\": 1, \"118\": 1, \"109\": 1, \"0\": 1, \"87\": 5, \"7\": 1, \"40\": 3, \"3\": 7, \"5\": 2, \"71\": 3, \"24\": 1, \"107\": 6, \"10\": 1, \"117\": 1, \"14\": 2, \"96\": 1, \"83\": 1, \"31\": 1, \"126\": 3, \"120\": 1, \"86\": 1, \"43\": 2, \"19\": 1, \"88\": 1}, \"92\": {\"92\": 20, \"31\": 1, \"64\": 2, \"2\": 1, \"45\": 2, \"14\": 1, \"105\": 1}, \"100\": {\"71\": 1, \"100\": 12, \"114\": 1, \"7\": 1, \"105\": 2, \"15\": 1, \"11\": 1, \"43\": 1}, \"6\": {\"36\": 3, \"125\": 1, \"6\": 16, \"94\": 3, \"30\": 1}, \"36\": {\"36\": 63, \"6\": 3, \"54\": 3, \"9\": 2, \"111\": 8, \"24\": 4, \"12\": 3, \"97\": 2, \"94\": 6, \"0\": 4, \"127\": 2, \"98\": 4, \"30\": 3, \"10\": 3, \"125\": 7, \"106\": 2, \"15\": 5, \"26\": 2, \"8\": 1, \"70\": 1}, \"35\": {\"35\": 10, \"23\": 1, \"2\": 1}, \"63\": {\"63\": 13, \"35\": 1, \"66\": 1, \"84\": 1}, \"104\": {\"104\": 14, \"87\": 1, \"105\": 1}, \"114\": {\"71\": 6, \"100\": 1, \"114\": 65, \"7\": 1, \"83\": 2, \"107\": 5, \"51\": 1, \"105\": 3, \"46\": 1, \"73\": 2, \"40\": 2, \"4\": 3, \"106\": 2, \"94\": 1, \"98\": 1, \"111\": 1, \"43\": 1, \"124\": 6, \"3\": 3, \"8\": 2, \"11\": 3, \"1\": 5, \"103\": 1, \"112\": 1, \"42\": 1, \"93\": 1, \"27\": 2, \"72\": 1, \"24\": 1, \"70\": 1, \"39\": 1, \"14\": 1}, \"68\": {\"27\": 1, \"68\": 11, \"15\": 1, \"95\": 1, \"111\": 1, \"12\": 1}, \"109\": {\"109\": 81, \"35\": 1, \"21\": 5, \"122\": 3, \"118\": 6, \"69\": 4, \"93\": 3, \"16\": 1, \"88\": 1, \"96\": 1, \"84\": 3, \"110\": 1, \"113\": 1, \"26\": 1, \"43\": 3, \"126\": 1}, \"27\": {\"104\": 1, \"17\": 1, \"83\": 1, \"101\": 5, \"127\": 5, \"81\": 1, \"27\": 17, \"10\": 4, \"89\": 1, \"106\": 2, \"88\": 6, \"7\": 1, \"49\": 1, \"39\": 1, \"98\": 3, \"12\": 1, \"14\": 2, \"111\": 4, \"114\": 1, \"15\": 4, \"0\": 3, \"4\": 1, \"1\": 4, \"70\": 4, \"43\": 1, \"8\": 2, \"68\": 2, \"46\": 1, \"121\": 1, \"60\": 2, \"82\": 1, \"40\": 3, \"105\": 2, \"24\": 1, \"87\": 2, \"126\": 1, \"109\": 1, \"30\": 1, \"107\": 2, \"71\": 1, \"110\": 1, \"11\": 1}, \"79\": {\"79\": 8, \"28\": 1, \"71\": 1, \"1\": 1, \"129\": 1, \"45\": 1, \"73\": 1, \"115\": 2}, \"0\": {\"17\": 1, \"27\": 2, \"0\": 37, \"29\": 3, \"53\": 1, \"89\": 2, \"40\": 2, \"3\": 1, \"88\": 3, \"127\": 2, \"7\": 3, \"70\": 3, \"111\": 4, \"10\": 4, \"114\": 3, \"101\": 10, \"39\": 1, \"93\": 2, \"98\": 1, \"8\": 6, \"118\": 1, \"30\": 1, \"81\": 1, \"37\": 1, \"60\": 1, \"126\": 2, \"105\": 1, \"33\": 1, \"124\": 1, \"4\": 3, \"1\": 1, \"26\": 1}, \"28\": {\"28\": 13, \"20\": 2, \"129\": 1, \"79\": 1, \"98\": 1, \"84\": 1, \"43\": 1}, \"4\": {\"127\": 7, \"4\": 48, \"17\": 1, \"101\": 1, \"95\": 1, \"40\": 3, \"53\": 2, \"27\": 5, \"71\": 4, \"29\": 3, \"117\": 1, \"124\": 1, \"105\": 3, \"114\": 4, \"109\": 1, \"8\": 1, \"0\": 6, \"3\": 1, \"87\": 1, \"10\": 2, \"86\": 2, \"115\": 1, \"80\": 1, \"108\": 1, \"24\": 1, \"107\": 1, \"14\": 1}, \"106\": {\"106\": 51, \"35\": 1, \"97\": 1, \"12\": 10, \"30\": 5, \"111\": 3, \"15\": 9, \"36\": 2, \"117\": 2, \"85\": 2, \"127\": 1, \"27\": 2, \"125\": 3, \"108\": 1, \"98\": 3, \"0\": 1, \"10\": 3, \"7\": 1, \"94\": 1}, \"40\": {\"40\": 68, \"4\": 1, \"87\": 8, \"115\": 1, \"7\": 6, \"105\": 10, \"16\": 1, \"43\": 4, \"1\": 7, \"70\": 1, \"33\": 5, \"14\": 7, \"88\": 1, \"3\": 2, \"107\": 5, \"46\": 1, \"49\": 1, \"19\": 1, \"113\": 1, \"108\": 2, \"18\": 1}, \"127\": {\"68\": 2, \"127\": 71, \"95\": 4, \"41\": 1, \"111\": 5, \"16\": 1, \"8\": 7, \"4\": 2, \"7\": 1, \"110\": 1, \"101\": 3, \"30\": 1, \"27\": 3, \"103\": 1, \"56\": 1, \"10\": 1, \"1\": 1, \"12\": 2}, \"57\": {\"57\": 12, \"51\": 1, \"118\": 1, \"102\": 1, \"47\": 1}, \"60\": {\"40\": 1, \"60\": 8, \"92\": 1, \"105\": 2, \"118\": 1, \"56\": 1, \"27\": 1, \"78\": 1, \"72\": 1, \"128\": 1, \"62\": 3, \"8\": 1, \"42\": 1, \"7\": 1, \"83\": 1, \"20\": 1, \"93\": 2, \"43\": 2, \"109\": 1, \"1\": 1}, \"69\": {\"69\": 90, \"121\": 1, \"107\": 1, \"84\": 4, \"16\": 2, \"102\": 11, \"33\": 2, \"122\": 1, \"118\": 5, \"110\": 1, \"113\": 1, \"93\": 4, \"39\": 1}, \"84\": {\"84\": 63, \"69\": 14, \"109\": 4, \"13\": 1, \"2\": 1, \"66\": 1, \"57\": 2, \"102\": 7, \"78\": 2, \"118\": 9, \"93\": 7, \"44\": 1, \"43\": 3, \"16\": 4, \"90\": 2, \"122\": 2, \"26\": 1, \"117\": 1, \"33\": 2, \"14\": 2, \"3\": 1, \"39\": 1, \"107\": 1}, \"24\": {\"4\": 6, \"94\": 4, \"119\": 1, \"24\": 35, \"25\": 1, \"37\": 1, \"70\": 2, \"36\": 6, \"125\": 7, \"21\": 1, \"97\": 1, \"18\": 1, \"42\": 2, \"82\": 1, \"27\": 3, \"40\": 2, \"8\": 3, \"101\": 5, \"29\": 1, \"12\": 1, \"71\": 2, \"15\": 4, \"113\": 1, \"1\": 1, \"0\": 4, \"10\": 5, \"111\": 3, \"124\": 3, \"98\": 1, \"75\": 1, \"51\": 1, \"7\": 1, \"100\": 1, \"6\": 1, \"84\": 1, \"127\": 1, \"110\": 1, \"105\": 1, \"16\": 1, \"106\": 1, \"126\": 1}, \"94\": {\"96\": 1, \"24\": 5, \"94\": 59, \"98\": 1, \"36\": 4, \"106\": 2, \"111\": 1, \"15\": 3, \"9\": 1, \"54\": 1, \"97\": 1, \"125\": 3, \"6\": 1, \"12\": 1, \"30\": 2, \"109\": 1, \"26\": 1}, \"7\": {\"40\": 2, \"96\": 1, \"7\": 54, \"86\": 5, \"27\": 3, \"128\": 2, \"129\": 1, \"49\": 1, \"8\": 3, \"114\": 3, \"4\": 1, \"3\": 6, \"1\": 4, \"70\": 6, \"87\": 4, \"0\": 3, \"113\": 2, \"124\": 2, \"16\": 1, \"82\": 1, \"95\": 2, \"80\": 1, \"14\": 2, \"43\": 1, \"10\": 1, \"71\": 3, \"118\": 1, \"127\": 1, \"106\": 1, \"101\": 1, \"111\": 1}, \"96\": {\"69\": 1, \"84\": 1, \"96\": 6, \"34\": 1, \"68\": 1, \"64\": 1, \"39\": 1, \"76\": 1, \"92\": 1, \"24\": 1, \"21\": 2, \"44\": 1, \"109\": 1, \"73\": 1}, \"116\": {\"116\": 13, \"57\": 1, \"108\": 1, \"67\": 1, \"50\": 1, \"48\": 1, \"90\": 3, \"32\": 1, \"69\": 1, \"93\": 1, \"122\": 2, \"33\": 1, \"102\": 1}, \"47\": {\"47\": 7, \"116\": 1, \"51\": 2, \"90\": 1, \"110\": 1}, \"119\": {\"119\": 9, \"25\": 1, \"8\": 2, \"95\": 2, \"55\": 1, \"86\": 1}, \"74\": {\"102\": 1, \"107\": 2, \"20\": 1, \"74\": 9, \"57\": 2, \"105\": 1}, \"93\": {\"109\": 5, \"32\": 1, \"93\": 67, \"66\": 1, \"84\": 1, \"14\": 1, \"31\": 1, \"16\": 2, \"88\": 3, \"114\": 1, \"110\": 16, \"5\": 10, \"87\": 2, \"43\": 3, \"102\": 3, \"118\": 5, \"122\": 4, \"69\": 3, \"39\": 2, \"90\": 2, \"26\": 1, \"33\": 3, \"38\": 1, \"4\": 1, \"72\": 1, \"22\": 1, \"21\": 1, \"99\": 1, \"113\": 1, \"40\": 2, \"108\": 1, \"107\": 1, \"70\": 2, \"3\": 2}, \"2\": {\"2\": 19, \"84\": 2, \"23\": 1, \"16\": 1, \"81\": 1, \"18\": 1, \"44\": 1, \"26\": 2}, \"37\": {\"37\": 13, \"51\": 1, \"89\": 2}, \"15\": {\"24\": 7, \"15\": 54, \"54\": 2, \"30\": 4, \"125\": 4, \"34\": 2, \"9\": 2, \"26\": 1, \"36\": 8, \"10\": 5, \"106\": 7, \"111\": 8, \"94\": 2, \"8\": 4, \"12\": 3, \"27\": 1, \"0\": 1, \"68\": 1, \"59\": 1, \"53\": 1, \"6\": 1, \"52\": 1, \"127\": 5, \"102\": 1, \"126\": 1, \"101\": 1}, \"102\": {\"102\": 93, \"32\": 1, \"67\": 1, \"84\": 8, \"50\": 1, \"69\": 10, \"109\": 1, \"14\": 5, \"33\": 5, \"44\": 3, \"115\": 1, \"57\": 1, \"107\": 1, \"122\": 2, \"93\": 2, \"110\": 1}, \"87\": {\"87\": 24, \"119\": 1, \"40\": 8, \"113\": 1, \"128\": 1, \"7\": 4, \"129\": 2, \"105\": 10, \"62\": 4, \"11\": 4, \"107\": 9, \"88\": 8, \"124\": 3, \"122\": 2, \"110\": 4, \"1\": 4, \"114\": 3, \"126\": 1, \"118\": 2, \"0\": 3, \"43\": 2, \"10\": 1, \"93\": 3, \"70\": 2, \"32\": 3, \"82\": 1, \"60\": 1, \"4\": 2, \"108\": 1, \"98\": 1, \"19\": 1, \"14\": 1, \"109\": 1, \"5\": 2, \"71\": 1, \"127\": 1}, \"107\": {\"87\": 7, \"102\": 3, \"17\": 1, \"23\": 1, \"107\": 80, \"74\": 1, \"27\": 3, \"14\": 4, \"92\": 1, \"105\": 4, \"122\": 1, \"43\": 5, \"5\": 5, \"0\": 1, \"11\": 5, \"71\": 1, \"3\": 1, \"40\": 10, \"39\": 1, \"33\": 2, \"70\": 1, \"45\": 1, \"19\": 1, \"1\": 1, \"108\": 1, \"93\": 1, \"114\": 1}, \"61\": {\"61\": 10, \"96\": 1, \"18\": 2, \"65\": 1, \"21\": 1, \"123\": 1}, \"78\": {\"78\": 10, \"37\": 1, \"14\": 1, \"93\": 1, \"117\": 1, \"63\": 1, \"70\": 1, \"99\": 1, \"27\": 1, \"13\": 1, \"88\": 2, \"8\": 1, \"40\": 2, \"120\": 1, \"126\": 1, \"89\": 1, \"73\": 2, \"62\": 1, \"43\": 1, \"115\": 1, \"113\": 2, \"21\": 2}, \"9\": {\"9\": 19, \"52\": 1, \"15\": 2, \"111\": 2, \"41\": 1, \"106\": 1, \"8\": 1, \"37\": 1}, \"32\": {\"32\": 12, \"109\": 1, \"93\": 1, \"96\": 1, \"64\": 2, \"129\": 2, \"108\": 1, \"23\": 1, \"17\": 1, \"45\": 1, \"122\": 3, \"39\": 1, \"118\": 1}, \"14\": {\"14\": 72, \"62\": 3, \"122\": 3, \"43\": 3, \"107\": 4, \"110\": 3, \"118\": 3, \"40\": 3, \"7\": 1, \"69\": 1, \"108\": 2, \"126\": 1, \"1\": 1, \"83\": 1, \"22\": 1, \"33\": 6, \"88\": 3, \"87\": 1}, \"62\": {\"62\": 36, \"43\": 2, \"22\": 1, \"108\": 3, \"116\": 1, \"118\": 5, \"81\": 1, \"88\": 2, \"32\": 2, \"14\": 1, \"93\": 1, \"109\": 1, \"70\": 1, \"117\": 1, \"113\": 1, \"69\": 1}, \"1\": {\"25\": 1, \"37\": 1, \"1\": 35, \"107\": 4, \"49\": 3, \"129\": 1, \"105\": 2, \"82\": 4, \"43\": 2, \"72\": 1, \"71\": 2, \"40\": 10, \"70\": 3, \"8\": 1, \"0\": 6, \"108\": 1, \"3\": 4, \"87\": 8, \"125\": 2, \"114\": 3, \"101\": 1, \"95\": 1, \"7\": 3, \"88\": 1, \"5\": 2}, \"23\": {\"23\": 2, \"92\": 1, \"103\": 1, \"93\": 1, \"82\": 1, \"91\": 1, \"48\": 1, \"113\": 2, \"63\": 1, \"26\": 1, \"117\": 1, \"0\": 1, \"49\": 1, \"86\": 1}, \"95\": {\"95\": 20, \"101\": 2, \"4\": 3, \"52\": 1, \"85\": 2, \"76\": 1, \"103\": 1, \"91\": 1, \"127\": 1}, \"56\": {\"56\": 12}, \"91\": {\"91\": 11, \"34\": 1, \"29\": 1, \"119\": 1, \"101\": 1, \"1\": 1, \"82\": 2, \"104\": 1, \"86\": 1, \"12\": 1, \"85\": 1, \"127\": 2}, \"34\": {\"25\": 1, \"37\": 2, \"8\": 2, \"83\": 1, \"76\": 1, \"119\": 1, \"14\": 2, \"34\": 5, \"107\": 1, \"7\": 1, \"125\": 1, \"60\": 1, \"94\": 4, \"91\": 1, \"36\": 1, \"43\": 1, \"105\": 2, \"10\": 1, \"42\": 1, \"30\": 1, \"82\": 1}, \"25\": {\"25\": 16}, \"33\": {\"33\": 90, \"31\": 1, \"107\": 1, \"105\": 1, \"122\": 5, \"14\": 1, \"69\": 4, \"108\": 1, \"11\": 2, \"3\": 1, \"102\": 4, \"40\": 2, \"87\": 1, \"5\": 3, \"93\": 3, \"110\": 2, \"43\": 2}, \"16\": {\"123\": 1, \"93\": 2, \"16\": 73, \"18\": 8, \"2\": 3, \"117\": 11, \"39\": 1, \"84\": 3, \"44\": 1, \"113\": 7, \"90\": 1, \"109\": 4, \"118\": 1, \"69\": 2, \"122\": 2, \"102\": 1, \"81\": 1, \"43\": 1, \"26\": 1}, \"26\": {\"26\": 80, \"109\": 3, \"113\": 5, \"21\": 1, \"117\": 8, \"16\": 2, \"44\": 1, \"126\": 4, \"18\": 12, \"90\": 1, \"2\": 1, \"120\": 1, \"39\": 3, \"81\": 3, \"110\": 1}, \"5\": {\"33\": 4, \"26\": 2, \"5\": 79, \"7\": 1, \"62\": 1, \"51\": 1, \"72\": 2, \"105\": 3, \"40\": 9, \"44\": 1, \"118\": 3, \"43\": 1, \"18\": 1, \"106\": 2, \"107\": 3, \"3\": 4, \"93\": 3, \"1\": 3, \"88\": 1, \"114\": 2, \"39\": 1, \"28\": 1, \"81\": 1, \"11\": 1, \"102\": 1, \"110\": 1, \"14\": 1, \"126\": 1, \"87\": 2}, \"123\": {\"123\": 10, \"125\": 1, \"18\": 1, \"61\": 2, \"63\": 2}, \"8\": {\"34\": 1, \"8\": 62, \"128\": 2, \"101\": 9, \"70\": 8, \"19\": 2, \"7\": 2, \"127\": 3, \"72\": 1, \"4\": 3, \"0\": 9, \"30\": 1, \"71\": 2, \"88\": 1, \"10\": 3, \"27\": 2, \"111\": 3, \"78\": 1, \"114\": 1, \"3\": 1, \"40\": 1}, \"83\": {\"83\": 12, \"82\": 1, \"4\": 1, \"71\": 1, \"52\": 1, \"16\": 1, \"93\": 1, \"5\": 1, \"51\": 1, \"26\": 1, \"129\": 1, \"70\": 1, \"95\": 1, \"49\": 2, \"7\": 1, \"42\": 1}, \"125\": {\"125\": 94, \"25\": 1, \"36\": 11, \"6\": 5, \"94\": 16, \"24\": 4, \"15\": 1, \"10\": 1, \"59\": 1}, \"51\": {\"103\": 2, \"51\": 2, \"61\": 1, \"127\": 1, \"62\": 1, \"30\": 1, \"98\": 1, \"24\": 1, \"9\": 1, \"111\": 1, \"25\": 1, \"54\": 1, \"23\": 1, \"94\": 1}, \"22\": {\"22\": 10, \"10\": 1, \"120\": 1, \"0\": 2, \"60\": 1, \"5\": 1}, \"54\": {\"54\": 15, \"25\": 1}, \"66\": {\"74\": 1, \"66\": 11, \"13\": 1, \"64\": 1, \"31\": 1, \"7\": 1}, \"59\": {\"51\": 2, \"59\": 7, \"94\": 1, \"6\": 1, \"126\": 1}, \"111\": {\"103\": 1, \"77\": 1, \"59\": 1, \"111\": 78, \"12\": 11, \"52\": 1, \"97\": 2, \"101\": 4, \"1\": 2, \"127\": 4, \"30\": 2, \"15\": 1, \"98\": 5, \"10\": 2, \"125\": 2, \"5\": 1, \"8\": 2, \"68\": 1, \"95\": 1, \"106\": 2, \"27\": 1, \"83\": 1, \"24\": 1, \"126\": 1}, \"77\": {\"77\": 12}, \"103\": {\"77\": 1, \"103\": 10, \"101\": 2, \"112\": 1, \"127\": 1, \"41\": 1}, \"20\": {\"74\": 2, \"110\": 1, \"20\": 10, \"66\": 1, \"43\": 1, \"44\": 1}, \"124\": {\"124\": 68, \"1\": 4, \"7\": 1, \"42\": 1, \"8\": 4, \"97\": 1, \"71\": 7, \"24\": 1, \"11\": 1, \"107\": 2, \"127\": 2, \"18\": 2, \"10\": 5, \"114\": 2, \"101\": 1, \"15\": 1, \"98\": 3, \"106\": 1, \"0\": 1, \"105\": 1, \"125\": 1, \"14\": 1, \"108\": 3, \"40\": 1, \"16\": 1, \"70\": 1, \"3\": 1, \"87\": 1, \"109\": 1}, \"99\": {\"99\": 27, \"78\": 2, \"122\": 2, \"128\": 1, \"60\": 2, \"88\": 2, \"38\": 1, \"26\": 1, \"43\": 1, \"93\": 1}, \"120\": {\"109\": 1, \"120\": 18, \"121\": 1}, \"76\": {\"76\": 8, \"120\": 3, \"31\": 2, \"65\": 1, \"45\": 2}, \"110\": {\"76\": 1, \"96\": 1, \"107\": 2, \"118\": 4, \"108\": 3, \"110\": 37, \"42\": 1, \"88\": 6, \"33\": 5, \"129\": 2, \"14\": 9, \"109\": 5, \"113\": 1, \"26\": 1, \"43\": 11, \"93\": 3, \"69\": 2, \"39\": 1, \"122\": 2, \"18\": 1, \"70\": 1, \"40\": 3, \"90\": 2, \"62\": 1, \"99\": 1, \"126\": 2, \"87\": 2, \"102\": 1, \"5\": 2, \"11\": 3}, \"29\": {\"29\": 28, \"117\": 1, \"0\": 1, \"4\": 2}, \"118\": {\"96\": 1, \"99\": 2, \"118\": 30, \"16\": 2, \"126\": 6, \"43\": 7, \"108\": 5, \"69\": 8, \"14\": 5, \"109\": 8, \"44\": 2, \"40\": 1, \"33\": 3, \"93\": 5, \"88\": 3, \"117\": 1, \"122\": 9, \"5\": 1, \"84\": 1, \"21\": 1, \"113\": 1, \"62\": 4, \"102\": 3, \"90\": 1, \"110\": 2}, \"58\": {\"58\": 13, \"15\": 1, \"88\": 1, \"38\": 1}, \"13\": {\"84\": 1, \"65\": 1, \"93\": 1, \"13\": 9, \"122\": 1, \"79\": 1, \"113\": 1, \"94\": 1}, \"89\": {\"83\": 1, \"89\": 21, \"30\": 1, \"86\": 1, \"128\": 1, \"70\": 1, \"100\": 1, \"49\": 1, \"22\": 1, \"88\": 1, \"60\": 2}, \"31\": {\"31\": 9, \"66\": 1, \"122\": 1, \"18\": 1, \"38\": 1, \"14\": 2, \"33\": 1}, \"64\": {\"64\": 12, \"20\": 2, \"66\": 1, \"80\": 1}, \"65\": {\"65\": 9, \"63\": 1, \"113\": 1, \"16\": 1}, \"101\": {\"101\": 62, \"127\": 9, \"83\": 2, \"80\": 1, \"0\": 4, \"91\": 1, \"85\": 1, \"8\": 15, \"82\": 1, \"41\": 1, \"72\": 1, \"88\": 2, \"7\": 7, \"30\": 2, \"10\": 3, \"15\": 1, \"111\": 4, \"110\": 1, \"70\": 3, \"103\": 1, \"95\": 2, \"86\": 1, \"12\": 1, \"29\": 1, \"128\": 1, \"108\": 1, \"105\": 1, \"26\": 1, \"124\": 1}, \"126\": {\"126\": 60, \"63\": 1, \"26\": 12, \"62\": 1, \"121\": 1, \"21\": 4, \"109\": 8, \"110\": 4, \"113\": 5, \"18\": 7, \"88\": 4, \"118\": 2, \"39\": 5, \"108\": 1, \"43\": 1, \"16\": 1, \"117\": 1}, \"108\": {\"14\": 3, \"93\": 5, \"87\": 4, \"116\": 2, \"107\": 3, \"99\": 1, \"108\": 17, \"33\": 3, \"62\": 3, \"16\": 2, \"118\": 1, \"39\": 1, \"73\": 1, \"109\": 12, \"1\": 1, \"11\": 2, \"94\": 1, \"12\": 1, \"5\": 2, \"88\": 2, \"122\": 2, \"126\": 2, \"110\": 2, \"27\": 2, \"124\": 1, \"40\": 2, \"69\": 1, \"102\": 2, \"19\": 2, \"21\": 1, \"32\": 1, \"30\": 1, \"43\": 1, \"18\": 1, \"72\": 1, \"105\": 2, \"70\": 1}, \"45\": {\"74\": 2, \"45\": 9, \"14\": 1, \"110\": 1, \"116\": 1, \"32\": 1, \"57\": 1}, \"21\": {\"21\": 27, \"90\": 1, \"113\": 1, \"39\": 1, \"109\": 2, \"43\": 1, \"99\": 2, \"35\": 1, \"78\": 1, \"122\": 2, \"81\": 1}, \"30\": {\"106\": 5, \"108\": 1, \"15\": 3, \"30\": 27, \"85\": 1, \"12\": 3, \"101\": 5, \"109\": 1, \"97\": 2, \"8\": 2, \"114\": 1, \"126\": 1, \"127\": 3, \"24\": 3, \"10\": 3, \"36\": 5, \"98\": 2, \"0\": 2, \"87\": 1, \"77\": 1, \"6\": 2, \"40\": 1, \"110\": 1}, \"82\": {\"82\": 23, \"7\": 2, \"12\": 1, \"49\": 2, \"40\": 2, \"43\": 1, \"70\": 1}, \"85\": {\"101\": 2, \"85\": 10, \"86\": 4, \"112\": 1, \"91\": 1, \"41\": 1, \"106\": 1, \"52\": 1, \"58\": 1, \"95\": 1, \"8\": 2, \"56\": 1, \"77\": 1, \"34\": 1}, \"88\": {\"88\": 28, \"71\": 1, \"122\": 6, \"14\": 3, \"21\": 5, \"109\": 10, \"99\": 3, \"27\": 2, \"53\": 1, \"78\": 2, \"120\": 2, \"10\": 2, \"16\": 5, \"72\": 1, \"8\": 3, \"3\": 2, \"39\": 4, \"4\": 3, \"118\": 4, \"98\": 2, \"11\": 1, \"87\": 4, \"0\": 2, \"108\": 4, \"105\": 2, \"110\": 9, \"43\": 3, \"70\": 2, \"7\": 3, \"126\": 1, \"42\": 1, \"97\": 1, \"119\": 1, \"1\": 1, \"89\": 1, \"26\": 1, \"116\": 1, \"121\": 1, \"100\": 1, \"124\": 1, \"107\": 1, \"69\": 1}, \"41\": {\"68\": 4, \"27\": 1, \"30\": 1, \"97\": 1, \"71\": 1, \"41\": 2, \"109\": 1, \"111\": 1, \"52\": 2, \"103\": 1, \"101\": 1}, \"128\": {\"89\": 3, \"87\": 1, \"128\": 8, \"1\": 1, \"129\": 1, \"70\": 1, \"72\": 1, \"37\": 1, \"86\": 1, \"34\": 1, \"101\": 1, \"60\": 1, \"105\": 1, \"114\": 2}, \"39\": {\"18\": 4, \"39\": 33, \"109\": 5, \"69\": 1, \"126\": 7, \"21\": 2, \"113\": 6, \"26\": 8, \"93\": 1, \"11\": 1, \"117\": 8, \"108\": 3, \"88\": 1, \"118\": 7, \"122\": 1, \"90\": 2, \"61\": 1, \"87\": 1, \"81\": 1, \"16\": 1, \"62\": 2, \"43\": 1, \"110\": 2, \"84\": 1}, \"18\": {\"2\": 3, \"18\": 81, \"81\": 2, \"126\": 4, \"117\": 2, \"26\": 13, \"113\": 8, \"39\": 3, \"16\": 4}, \"113\": {\"113\": 57, \"39\": 8, \"67\": 1, \"26\": 8, \"84\": 3, \"81\": 4, \"109\": 2, \"62\": 1, \"116\": 1, \"18\": 8, \"88\": 2, \"78\": 1, \"118\": 1, \"126\": 5, \"117\": 8, \"16\": 6, \"3\": 1, \"61\": 2, \"65\": 1, \"23\": 1, \"93\": 2, \"102\": 1, \"69\": 1, \"110\": 1, \"90\": 1, \"5\": 1}, \"11\": {\"11\": 52, \"40\": 4, \"128\": 1, \"110\": 1, \"70\": 6, \"114\": 4, \"33\": 8, \"82\": 1, \"107\": 5, \"124\": 2, \"5\": 6, \"118\": 1, \"108\": 2, \"69\": 6, \"0\": 4, \"43\": 3, \"14\": 2, \"3\": 2, \"87\": 4, \"93\": 4, \"126\": 3, \"32\": 1, \"44\": 1, \"115\": 1, \"105\": 2, \"62\": 1, \"98\": 1, \"100\": 1, \"116\": 2, \"122\": 1, \"27\": 1, \"88\": 2, \"106\": 2, \"84\": 1}, \"43\": {\"28\": 1, \"11\": 2, \"17\": 1, \"62\": 1, \"43\": 28, \"14\": 4, \"33\": 8, \"49\": 2, \"110\": 4, \"82\": 1, \"105\": 3, \"109\": 8, \"118\": 3, \"72\": 2, \"5\": 9, \"40\": 4, \"93\": 1, \"87\": 1, \"108\": 2, \"106\": 1, \"88\": 4, \"3\": 2, \"117\": 1, \"122\": 3, \"126\": 2, \"90\": 1, \"39\": 4, \"107\": 3, \"98\": 1, \"102\": 4, \"21\": 2, \"50\": 1, \"22\": 1, \"100\": 1, \"19\": 1, \"70\": 1, \"7\": 1, \"113\": 1}, \"12\": {\"85\": 1, \"77\": 1, \"117\": 2, \"111\": 10, \"15\": 9, \"29\": 1, \"12\": 46, \"127\": 3, \"27\": 2, \"41\": 1, \"30\": 2, \"106\": 8, \"24\": 2, \"98\": 1, \"94\": 1, \"70\": 1, \"68\": 1, \"10\": 2, \"83\": 1, \"9\": 1, \"101\": 1, \"4\": 1, \"109\": 1, \"8\": 1}, \"122\": {\"14\": 7, \"122\": 19, \"93\": 4, \"66\": 1, \"43\": 2, \"115\": 2, \"107\": 5, \"99\": 2, \"19\": 1, \"113\": 2, \"33\": 4, \"88\": 1, \"87\": 2, \"108\": 4, \"40\": 4, \"62\": 2, \"126\": 4, \"109\": 5, \"5\": 2, \"78\": 1, \"118\": 2, \"32\": 1, \"129\": 1, \"102\": 1, \"110\": 1, \"116\": 1, \"39\": 2, \"69\": 1}, \"52\": {\"52\": 12, \"34\": 1, \"29\": 2, \"127\": 1, \"10\": 1, \"85\": 2, \"95\": 1}, \"44\": {\"83\": 1, \"44\": 26, \"90\": 2, \"69\": 4, \"84\": 1, \"43\": 1, \"73\": 1, \"33\": 5, \"102\": 5, \"40\": 2, \"5\": 2, \"66\": 1, \"14\": 1, \"81\": 1, \"13\": 2, \"11\": 1, \"126\": 1, \"113\": 1, \"39\": 1, \"26\": 1, \"93\": 3, \"2\": 1}, \"90\": {\"90\": 86, \"16\": 3, \"69\": 8, \"44\": 3, \"109\": 2, \"108\": 2, \"33\": 2, \"93\": 6, \"102\": 4, \"18\": 1, \"118\": 1, \"1\": 1, \"110\": 1, \"113\": 2, \"88\": 1, \"107\": 1, \"84\": 4, \"87\": 1, \"122\": 1, \"121\": 1, \"116\": 3}, \"112\": {\"112\": 13, \"15\": 1, \"85\": 1, \"51\": 1}, \"86\": {\"4\": 1, \"86\": 20, \"0\": 2, \"8\": 1, \"101\": 1, \"53\": 1, \"88\": 1, \"107\": 1}, \"3\": {\"3\": 50, \"85\": 1, \"78\": 1, \"71\": 3, \"8\": 4, \"88\": 2, \"105\": 5, \"73\": 2, \"124\": 2, \"1\": 3, \"70\": 5, \"5\": 8, \"114\": 7, \"107\": 3, \"87\": 1, \"40\": 3, \"110\": 1, \"7\": 5, \"10\": 1, \"41\": 1, \"30\": 1, \"19\": 1, \"27\": 1, \"98\": 1, \"11\": 2, \"14\": 1, \"16\": 1}, \"38\": {\"121\": 2, \"80\": 2, \"67\": 1, \"38\": 5, \"84\": 1, \"116\": 1, \"88\": 1, \"44\": 1, \"13\": 2}, \"121\": {\"121\": 8, \"113\": 5, \"67\": 1, \"45\": 1, \"110\": 2, \"116\": 1, \"126\": 3, \"16\": 2, \"26\": 2, \"90\": 1, \"120\": 1, \"117\": 1, \"39\": 2, \"109\": 1, \"105\": 1}, \"46\": {\"104\": 1, \"70\": 1, \"100\": 1, \"46\": 6, \"71\": 2, \"105\": 2, \"114\": 2, \"107\": 2, \"124\": 1, \"115\": 1, \"50\": 1}, \"70\": {\"104\": 1, \"46\": 1, \"99\": 1, \"4\": 7, \"8\": 9, \"70\": 18, \"69\": 2, \"114\": 5, \"122\": 5, \"127\": 3, \"72\": 1, \"21\": 1, \"101\": 11, \"110\": 5, \"94\": 1, \"71\": 2, \"10\": 2, \"27\": 1, \"1\": 2, \"0\": 7, \"30\": 2, \"12\": 1, \"16\": 1, \"126\": 1, \"14\": 1, \"3\": 1, \"98\": 2, \"106\": 3, \"43\": 1, \"87\": 3, \"78\": 1, \"68\": 1, \"118\": 2, \"73\": 1, \"52\": 1, \"89\": 1, \"22\": 1, \"103\": 1, \"93\": 3, \"40\": 1, \"90\": 1, \"109\": 2, \"7\": 5, \"111\": 2}, \"67\": {\"87\": 1, \"67\": 2, \"65\": 2, \"18\": 1, \"16\": 1, \"83\": 1, \"63\": 1, \"102\": 1, \"61\": 1, \"123\": 1, \"57\": 2, \"129\": 2}, \"53\": {\"53\": 14, \"4\": 1, \"85\": 1}, \"49\": {\"50\": 2, \"42\": 1, \"49\": 3, \"127\": 1, \"112\": 1, \"95\": 1, \"53\": 1, \"11\": 1, \"103\": 1, \"3\": 1, \"110\": 1, \"70\": 1, \"98\": 2, \"73\": 3, \"93\": 1, \"46\": 2, \"44\": 1, \"86\": 2, \"102\": 1, \"115\": 1, \"91\": 1, \"10\": 1, \"34\": 2}, \"42\": {\"49\": 2, \"14\": 1, \"127\": 1, \"129\": 1, \"52\": 1, \"42\": 8, \"43\": 1, \"7\": 3, \"98\": 2, \"50\": 1, \"86\": 1, \"107\": 1, \"101\": 1, \"103\": 1, \"1\": 1, \"30\": 1, \"10\": 1}, \"10\": {\"78\": 1, \"122\": 2, \"70\": 4, \"50\": 1, \"124\": 1, \"85\": 3, \"24\": 9, \"10\": 22, \"42\": 3, \"19\": 1, \"82\": 1, \"12\": 4, \"5\": 1, \"8\": 3, \"36\": 6, \"7\": 6, \"107\": 1, \"30\": 1, \"15\": 11, \"94\": 1, \"39\": 1, \"98\": 4, \"87\": 2, \"0\": 3, \"106\": 2, \"128\": 1, \"35\": 1, \"60\": 1, \"99\": 1, \"101\": 3, \"125\": 4, \"9\": 1, \"18\": 1, \"108\": 2, \"4\": 2, \"72\": 1, \"1\": 1, \"40\": 1, \"117\": 1, \"14\": 1, \"27\": 1, \"69\": 1}, \"50\": {\"50\": 9, \"4\": 2, \"5\": 1, \"114\": 1, \"42\": 1, \"44\": 1, \"123\": 1}, \"73\": {\"49\": 4, \"73\": 10, \"33\": 1, \"114\": 1, \"124\": 1, \"3\": 2, \"24\": 1, \"107\": 1, \"105\": 1, \"88\": 1, \"102\": 1}, \"115\": {\"115\": 6, \"33\": 1, \"88\": 1, \"4\": 2, \"116\": 1, \"99\": 1, \"85\": 1, \"109\": 1, \"46\": 1, \"102\": 1}, \"80\": {\"80\": 8, \"106\": 1, \"23\": 2, \"2\": 2, \"84\": 1, \"16\": 1, \"66\": 1}, \"19\": {\"31\": 1, \"55\": 2, \"19\": 5, \"89\": 1, \"14\": 1, \"129\": 1, \"113\": 2, \"5\": 1, \"93\": 1, \"40\": 1, \"108\": 2, \"7\": 3, \"4\": 1, \"82\": 1, \"110\": 2, \"122\": 1, \"84\": 1, \"127\": 1}, \"55\": {\"55\": 15, \"101\": 1}, \"72\": {\"72\": 11, \"82\": 1, \"42\": 2, \"106\": 1, \"122\": 2, \"107\": 2, \"40\": 1, \"129\": 1, \"78\": 1, \"33\": 4, \"115\": 1, \"110\": 1, \"87\": 1, \"0\": 2, \"7\": 1}, \"117\": {\"117\": 99, \"81\": 2, \"18\": 2, \"126\": 3, \"39\": 3, \"26\": 3, \"113\": 1, \"69\": 1, \"2\": 2}, \"81\": {\"117\": 7, \"81\": 23, \"2\": 1, \"108\": 1, \"16\": 1, \"69\": 1, \"21\": 1, \"113\": 1}, \"75\": {\"75\": 13, \"12\": 1, \"34\": 1, \"25\": 1}, \"98\": {\"27\": 2, \"98\": 60, \"111\": 6, \"30\": 3, \"41\": 1, \"70\": 2, \"124\": 5, \"34\": 1, \"24\": 3, \"4\": 2, \"0\": 2, \"114\": 3, \"12\": 4, \"15\": 6, \"8\": 2, \"10\": 3, \"101\": 4, \"25\": 2, \"105\": 1, \"71\": 1, \"127\": 1, \"106\": 4, \"14\": 1, \"7\": 1}, \"48\": {\"48\": 13, \"26\": 1, \"90\": 1, \"92\": 1}, \"129\": {\"103\": 1, \"129\": 4, \"7\": 2, \"19\": 2, \"11\": 1, \"33\": 1, \"90\": 1, \"107\": 2, \"5\": 1, \"8\": 2, \"31\": 1, \"71\": 1, \"105\": 1, \"127\": 2, \"10\": 1, \"98\": 1, \"4\": 1, \"102\": 2, \"93\": 1}, \"97\": {\"111\": 3, \"12\": 1, \"24\": 2, \"36\": 1, \"97\": 3, \"124\": 1, \"41\": 1, \"94\": 1, \"47\": 2, \"8\": 1, \"25\": 1, \"30\": 1, \"86\": 1, \"52\": 1}}, \"C_1\": {\"41\": {\"41\": 22, \"5\": 2}, \"40\": {\"40\": 105, \"4\": 4, \"29\": 1}, \"45\": {\"45\": 112, \"42\": 1, \"25\": 9, \"53\": 3, \"18\": 3, \"14\": 1, \"8\": 2, \"30\": 7}, \"51\": {\"51\": 132, \"54\": 1, \"46\": 1, \"34\": 2, \"13\": 6, \"30\": 1, \"16\": 1, \"5\": 2, \"56\": 1, \"33\": 1}, \"5\": {\"53\": 21, \"48\": 13, \"5\": 74, \"26\": 1, \"17\": 6, \"50\": 3, \"6\": 10, \"8\": 12, \"25\": 6, \"9\": 6, \"2\": 1, \"30\": 1}, \"30\": {\"53\": 15, \"30\": 65, \"26\": 2, \"14\": 1, \"8\": 10, \"9\": 17, \"25\": 7, \"48\": 2, \"45\": 1}, \"42\": {\"42\": 33, \"14\": 1, \"1\": 2, \"53\": 2, \"25\": 1, \"19\": 1}, \"46\": {\"41\": 2, \"40\": 3, \"46\": 52, \"2\": 3, \"5\": 11, \"8\": 6, \"25\": 1, \"9\": 5, \"14\": 1, \"51\": 5, \"48\": 16, \"50\": 11, \"19\": 2, \"17\": 2, \"6\": 3, \"4\": 8, \"29\": 2, \"53\": 3}, \"48\": {\"48\": 127, \"6\": 2, \"50\": 5}, \"53\": {\"53\": 134, \"25\": 1, \"9\": 7, \"14\": 2}, \"47\": {\"49\": 5, \"47\": 130, \"39\": 1, \"10\": 4, \"27\": 5, \"11\": 1, \"3\": 2, \"24\": 2, \"52\": 1, \"22\": 1}, \"49\": {\"49\": 30, \"21\": 1, \"11\": 1}, \"36\": {\"36\": 59, \"32\": 1, \"23\": 3, \"54\": 1}, \"32\": {\"32\": 32}, \"34\": {\"34\": 24}, \"29\": {\"29\": 121, \"56\": 12, \"44\": 5, \"3\": 1, \"12\": 1}, \"35\": {\"44\": 1, \"35\": 35}, \"3\": {\"3\": 113, \"56\": 3, \"20\": 1, \"44\": 3, \"29\": 7, \"55\": 3, \"57\": 1, \"13\": 1, \"0\": 2}, \"16\": {\"16\": 136, \"1\": 1, \"54\": 3}, \"26\": {\"26\": 18, \"30\": 3, \"25\": 2, \"14\": 1}, \"57\": {\"57\": 125, \"56\": 7, \"19\": 7, \"29\": 1, \"16\": 1, \"1\": 3}, \"44\": {\"44\": 114, \"0\": 2, \"32\": 1, \"23\": 1, \"54\": 1, \"55\": 1, \"3\": 3, \"35\": 2, \"38\": 1, \"29\": 1, \"56\": 1}, \"0\": {\"0\": 123, \"21\": 9, \"23\": 9, \"16\": 1, \"15\": 6, \"38\": 1, \"11\": 2, \"22\": 1}, \"4\": {\"4\": 116, \"46\": 9, \"5\": 1, \"41\": 2, \"40\": 3, \"50\": 1}, \"31\": {\"31\": 24, \"52\": 1, \"10\": 2, \"39\": 1}, \"11\": {\"11\": 115, \"21\": 6, \"15\": 11, \"22\": 4, \"24\": 3, \"0\": 1}, \"6\": {\"48\": 4, \"6\": 71, \"14\": 2, \"50\": 2, \"5\": 4, \"8\": 7, \"9\": 1, \"2\": 1, \"53\": 2, \"25\": 2}, \"54\": {\"54\": 100, \"16\": 3, \"13\": 1}, \"17\": {\"17\": 59, \"8\": 2, \"5\": 3}, \"20\": {\"20\": 125, \"12\": 3}, \"13\": {\"13\": 148, \"37\": 2}, \"33\": {\"33\": 24, \"18\": 7, \"34\": 1}, \"24\": {\"39\": 3, \"24\": 77, \"27\": 3, \"22\": 7, \"49\": 1, \"31\": 1, \"10\": 11, \"11\": 3, \"21\": 1, \"47\": 1}, \"52\": {\"52\": 97, \"49\": 1, \"28\": 2, \"10\": 9, \"24\": 7, \"43\": 6, \"47\": 7, \"22\": 1, \"39\": 1, \"27\": 1}, \"2\": {\"2\": 34, \"48\": 2}, \"19\": {\"19\": 113, \"13\": 6, \"25\": 2, \"30\": 1, \"1\": 11, \"42\": 4, \"56\": 3, \"54\": 1, \"45\": 7, \"57\": 6, \"5\": 1, \"53\": 1}, \"39\": {\"39\": 26, \"27\": 1, \"11\": 1}, \"8\": {\"8\": 140}, \"21\": {\"21\": 115, \"11\": 2, \"0\": 3, \"15\": 4}, \"10\": {\"27\": 3, \"10\": 78, \"31\": 1, \"24\": 8, \"43\": 2, \"28\": 1, \"11\": 2, \"47\": 1}, \"37\": {\"37\": 30, \"45\": 2}, \"25\": {\"53\": 14, \"25\": 76, \"26\": 7, \"9\": 30, \"8\": 5, \"30\": 9, \"6\": 3}, \"27\": {\"27\": 125, \"31\": 1, \"10\": 1, \"43\": 1, \"11\": 2}, \"23\": {\"23\": 121, \"36\": 6, \"38\": 2, \"0\": 7}, \"1\": {\"1\": 78, \"42\": 3, \"19\": 4, \"53\": 1, \"18\": 2, \"16\": 1, \"45\": 6, \"13\": 2, \"57\": 1, \"54\": 1, \"56\": 1}, \"50\": {\"50\": 99, \"48\": 23, \"17\": 1, \"2\": 6, \"8\": 9, \"5\": 10, \"6\": 2, \"53\": 2}, \"12\": {\"12\": 94, \"20\": 14, \"54\": 1, \"55\": 2, \"40\": 1, \"51\": 1, \"46\": 1, \"13\": 1, \"3\": 1}, \"18\": {\"18\": 57, \"45\": 2, \"34\": 3, \"25\": 5, \"33\": 3, \"6\": 2}, \"38\": {\"38\": 23, \"0\": 1}, \"14\": {\"14\": 10, \"30\": 1, \"5\": 1, \"9\": 4, \"53\": 3, \"8\": 2, \"17\": 2, \"26\": 1}, \"56\": {\"56\": 99, \"29\": 17, \"19\": 4, \"57\": 16, \"20\": 1, \"36\": 2, \"13\": 2, \"51\": 1}, \"55\": {\"55\": 127, \"56\": 7, \"38\": 1, \"20\": 7, \"40\": 4, \"35\": 1, \"3\": 5, \"44\": 4, \"29\": 2, \"32\": 1, \"57\": 1}, \"9\": {\"9\": 137, \"14\": 1}, \"15\": {\"15\": 115, \"22\": 4, \"21\": 11, \"0\": 10, \"11\": 6}, \"28\": {\"28\": 24, \"52\": 3, \"10\": 1}, \"7\": {\"16\": 2, \"7\": 24, \"18\": 1, \"46\": 1}, \"43\": {\"43\": 111, \"27\": 13, \"10\": 7, \"52\": 5}, \"22\": {\"22\": 103, \"10\": 3, \"21\": 10, \"24\": 8, \"11\": 3, \"0\": 4, \"15\": 4, \"49\": 1}}, \"W_1\": {\"105\": {\"105\": 50, \"19\": 1, \"128\": 1, \"83\": 1, \"1\": 4, \"84\": 9, \"43\": 1, \"40\": 2, \"114\": 4, \"4\": 2, \"93\": 2, \"108\": 1, \"129\": 1, \"0\": 1, \"14\": 1, \"70\": 2, \"110\": 1}, \"100\": {\"100\": 13, \"25\": 2, \"34\": 1}, \"112\": {\"112\": 12, \"15\": 2, \"127\": 1, \"53\": 1}, \"123\": {\"123\": 11, \"95\": 1, \"121\": 2, \"2\": 1, \"16\": 1}, \"13\": {\"95\": 1, \"13\": 5, \"26\": 3, \"20\": 2, \"118\": 1, \"50\": 1, \"18\": 2, \"39\": 1}, \"81\": {\"81\": 22, \"122\": 2, \"19\": 1, \"14\": 1, \"109\": 1, \"43\": 1}, \"124\": {\"105\": 1, \"124\": 82, \"4\": 3, \"40\": 7, \"107\": 4, \"84\": 2, \"70\": 1, \"43\": 1, \"108\": 4, \"117\": 1, \"126\": 1, \"101\": 1, \"86\": 1, \"45\": 1, \"96\": 1, \"72\": 1, \"34\": 1, \"114\": 4, \"5\": 2, \"1\": 1}, \"122\": {\"122\": 33, \"105\": 3, \"1\": 4, \"96\": 2, \"34\": 1, \"14\": 7, \"23\": 2, \"61\": 3, \"62\": 4, \"129\": 3, \"50\": 1, \"43\": 5, \"70\": 3, \"84\": 4, \"12\": 1, \"11\": 3, \"90\": 3, \"33\": 1, \"64\": 1, \"120\": 1, \"42\": 1, \"87\": 1, \"82\": 1}, \"111\": {\"111\": 70, \"94\": 4, \"32\": 2, \"56\": 1, \"15\": 10, \"30\": 2, \"127\": 8, \"18\": 1, \"98\": 4, \"71\": 5, \"10\": 1, \"106\": 1, \"12\": 2, \"27\": 3, \"53\": 1, \"52\": 1, \"86\": 1, \"92\": 1, \"88\": 1, \"109\": 1}, \"93\": {\"86\": 2, \"105\": 1, \"48\": 1, \"93\": 62, \"5\": 8, \"31\": 1, \"107\": 4, \"91\": 1, \"44\": 4, \"122\": 2, \"101\": 11, \"7\": 4, \"108\": 3, \"8\": 7, \"38\": 1, \"9\": 1, \"10\": 3, \"21\": 1, \"87\": 5, \"0\": 6, \"110\": 8, \"70\": 5, \"114\": 1, \"58\": 1, \"55\": 1, \"81\": 1, \"126\": 1, \"32\": 1, \"41\": 1, \"84\": 2, \"43\": 2, \"1\": 1, \"40\": 4, \"12\": 1}, \"106\": {\"93\": 1, \"106\": 67, \"49\": 1, \"107\": 3, \"52\": 2, \"89\": 1, \"88\": 3, \"24\": 2, \"127\": 4, \"101\": 10, \"111\": 3, \"98\": 7, \"4\": 1, \"5\": 1, \"15\": 1, \"108\": 2, \"32\": 1, \"68\": 2, \"30\": 1, \"17\": 1, \"0\": 1, \"110\": 1, \"39\": 2}, \"113\": {\"113\": 98, \"66\": 1, \"65\": 2, \"18\": 6, \"16\": 4, \"39\": 1, \"109\": 1, \"117\": 3, \"118\": 1, \"61\": 1, \"26\": 3, \"21\": 1, \"95\": 1, \"62\": 1}, \"95\": {\"95\": 27, \"67\": 1, \"26\": 2, \"118\": 2, \"121\": 2, \"117\": 1, \"39\": 1}, \"87\": {\"105\": 6, \"122\": 5, \"114\": 3, \"39\": 1, \"16\": 1, \"1\": 2, \"129\": 1, \"44\": 1, \"70\": 5, \"40\": 6, \"87\": 32, \"38\": 1, \"109\": 2, \"21\": 3, \"84\": 6, \"8\": 2, \"43\": 9, \"5\": 2, \"4\": 3, \"10\": 4, \"107\": 1, \"7\": 3, \"126\": 1, \"17\": 1, \"93\": 2, \"14\": 1, \"18\": 1, \"11\": 1, \"124\": 1, \"90\": 1}, \"86\": {\"86\": 14, \"112\": 1, \"127\": 1, \"114\": 4, \"79\": 2, \"27\": 1, \"72\": 2, \"101\": 2, \"93\": 1, \"55\": 1, \"83\": 1, \"4\": 2, \"40\": 2, \"32\": 1, \"108\": 1}, \"67\": {\"67\": 14, \"69\": 2}, \"85\": {\"85\": 30, \"55\": 1, \"5\": 1}, \"82\": {\"82\": 21, \"7\": 1, \"81\": 3, \"19\": 1, \"62\": 1, \"102\": 2, \"11\": 1, \"80\": 1, \"33\": 3, \"44\": 1, \"43\": 1}, \"115\": {\"115\": 9, \"7\": 1, \"40\": 1, \"5\": 1}, \"7\": {\"7\": 84, \"93\": 7, \"114\": 1, \"128\": 1, \"129\": 2, \"10\": 1, \"87\": 4, \"40\": 3, \"84\": 10, \"1\": 6, \"4\": 2, \"5\": 5, \"105\": 3, \"126\": 4, \"44\": 4, \"80\": 1, \"81\": 1, \"108\": 1, \"43\": 2}, \"44\": {\"44\": 62, \"1\": 1, \"126\": 3, \"8\": 3, \"7\": 1, \"77\": 1, \"90\": 1, \"40\": 1, \"70\": 2, \"21\": 1}, \"65\": {\"129\": 1, \"76\": 1, \"65\": 2, \"39\": 1, \"95\": 2, \"78\": 1, \"50\": 2, \"3\": 1, \"28\": 1}, \"129\": {\"82\": 2, \"104\": 1, \"41\": 1, \"84\": 1, \"129\": 4, \"18\": 1, \"7\": 2, \"94\": 1, \"69\": 3, \"117\": 2, \"73\": 1, \"83\": 1, \"22\": 1, \"1\": 1, \"2\": 1, \"17\": 1, \"16\": 1, \"118\": 1, \"111\": 1, \"33\": 1}, \"42\": {\"42\": 8, \"0\": 1, \"56\": 1, \"69\": 3, \"60\": 1, \"96\": 2, \"1\": 2, \"70\": 1, \"102\": 1, \"21\": 1, \"39\": 1, \"20\": 1, \"95\": 2, \"10\": 1, \"82\": 1, \"87\": 1}, \"28\": {\"129\": 1, \"28\": 15, \"64\": 1, \"66\": 1, \"10\": 1, \"105\": 1}, \"0\": {\"29\": 1, \"85\": 4, \"0\": 29, \"39\": 1, \"110\": 6, \"35\": 1, \"86\": 1, \"10\": 6, \"30\": 1, \"127\": 2, \"93\": 9, \"98\": 1, \"5\": 1, \"105\": 4, \"70\": 2, \"4\": 2, \"107\": 3, \"75\": 2, \"91\": 1, \"126\": 1, \"28\": 1, \"12\": 1, \"40\": 1, \"15\": 1, \"8\": 1, \"108\": 1}, \"10\": {\"28\": 1, \"0\": 5, \"10\": 65, \"57\": 2, \"80\": 1, \"93\": 14, \"122\": 4, \"43\": 6, \"8\": 3, \"1\": 1, \"110\": 4, \"5\": 1, \"70\": 2, \"126\": 3, \"61\": 1, \"7\": 2, \"9\": 1, \"21\": 1, \"4\": 2, \"40\": 1}, \"76\": {\"76\": 13, \"104\": 1, \"21\": 2}, \"88\": {\"112\": 1, \"88\": 34, \"6\": 2, \"75\": 1, \"58\": 1, \"125\": 12, \"128\": 1, \"49\": 1, \"27\": 9, \"106\": 1, \"126\": 2, \"12\": 3, \"110\": 6, \"70\": 2, \"36\": 12, \"94\": 2, \"71\": 2, \"0\": 2, \"93\": 3, \"101\": 13, \"15\": 2, \"5\": 1, \"124\": 1, \"127\": 4, \"108\": 1, \"98\": 2, \"24\": 1, \"107\": 3, \"111\": 1}, \"29\": {\"29\": 25, \"9\": 2, \"72\": 1}, \"16\": {\"65\": 1, \"16\": 65, \"118\": 6, \"113\": 3, \"26\": 9, \"117\": 5, \"18\": 6, \"39\": 8, \"62\": 3, \"121\": 1, \"69\": 1}, \"41\": {\"7\": 1, \"41\": 14, \"128\": 1}, \"27\": {\"27\": 55, \"51\": 1, \"52\": 1, \"106\": 1, \"94\": 3, \"88\": 3, \"6\": 1, \"98\": 4, \"71\": 3, \"15\": 5, \"12\": 1, \"127\": 3, \"89\": 1, \"24\": 2, \"92\": 1, \"125\": 5, \"36\": 2}, \"33\": {\"33\": 99, \"3\": 3, \"102\": 10, \"11\": 1, \"67\": 1, \"50\": 1, \"2\": 1, \"82\": 1, \"62\": 1, \"90\": 1, \"43\": 1}, \"75\": {\"75\": 15, \"93\": 1}, \"48\": {\"48\": 12}, \"56\": {\"9\": 2, \"92\": 2, \"56\": 2, \"27\": 1, \"37\": 1, \"91\": 3, \"15\": 1}, \"9\": {\"9\": 14, \"0\": 1, \"112\": 1, \"110\": 1, \"101\": 2, \"58\": 1, \"29\": 1, \"89\": 1, \"127\": 1, \"34\": 1, \"5\": 1, \"77\": 1, \"53\": 1, \"32\": 2, \"117\": 1, \"98\": 1, \"70\": 1}, \"1\": {\"7\": 8, \"1\": 67, \"19\": 3, \"114\": 6, \"87\": 5, \"96\": 1, \"126\": 3, \"8\": 3, \"40\": 4, \"84\": 15, \"43\": 5, \"46\": 1, \"90\": 1, \"81\": 1, \"117\": 1, \"109\": 1, \"124\": 1}, \"39\": {\"39\": 55, \"117\": 11, \"2\": 1, \"18\": 5, \"21\": 1, \"16\": 9, \"118\": 3, \"26\": 6, \"102\": 2, \"43\": 3, \"109\": 4, \"65\": 1, \"121\": 1, \"62\": 1, \"33\": 1}, \"50\": {\"39\": 2, \"33\": 1, \"50\": 10, \"91\": 1, \"102\": 1, \"10\": 1}, \"99\": {\"33\": 2, \"99\": 15, \"116\": 1, \"69\": 1, \"117\": 1, \"25\": 1, \"42\": 1, \"62\": 1, \"11\": 1}, \"90\": {\"90\": 87, \"60\": 3, \"108\": 1, \"99\": 1, \"109\": 6, \"34\": 1, \"84\": 1, \"122\": 1, \"21\": 1, \"62\": 7, \"11\": 7, \"70\": 1, \"43\": 3, \"96\": 1, \"102\": 1}, \"45\": {\"7\": 1, \"129\": 1, \"112\": 1, \"19\": 1, \"45\": 2, \"114\": 1, \"13\": 1, \"48\": 2, \"21\": 1, \"39\": 1}, \"5\": {\"5\": 48, \"108\": 2, \"93\": 7, \"7\": 2, \"4\": 5, \"87\": 3, \"40\": 7, \"107\": 2, \"84\": 2, \"0\": 2, \"73\": 2, \"55\": 1, \"85\": 1, \"105\": 1, \"70\": 1, \"110\": 1, \"24\": 1}, \"128\": {\"32\": 1, \"5\": 1, \"3\": 1, \"104\": 1, \"28\": 1, \"98\": 1, \"128\": 5, \"80\": 1, \"43\": 1, \"127\": 1, \"7\": 1, \"62\": 1, \"0\": 1, \"2\": 1, \"84\": 1, \"57\": 1, \"81\": 1, \"46\": 1, \"11\": 1, \"17\": 1}, \"2\": {\"129\": 1, \"45\": 1, \"2\": 9, \"1\": 2, \"62\": 1, \"118\": 2, \"18\": 1, \"126\": 1, \"121\": 1, \"82\": 1, \"14\": 1, \"67\": 1, \"11\": 1, \"117\": 1, \"102\": 1, \"100\": 1, \"19\": 1, \"16\": 2, \"87\": 1, \"109\": 1, \"81\": 1}, \"53\": {\"53\": 17, \"92\": 1, \"75\": 1, \"71\": 1}, \"104\": {\"104\": 8, \"32\": 1, \"126\": 2, \"78\": 2, \"1\": 1, \"108\": 1, \"40\": 1}, \"32\": {\"32\": 13, \"4\": 2, \"27\": 1, \"98\": 1, \"24\": 2, \"127\": 2, \"37\": 2, \"91\": 1, \"106\": 1, \"111\": 1, \"93\": 1, \"110\": 1, \"101\": 2, \"9\": 1, \"5\": 1}, \"92\": {\"92\": 28}, \"78\": {\"123\": 1, \"78\": 4, \"64\": 1, \"1\": 4, \"16\": 1, \"21\": 2, \"102\": 1, \"110\": 1, \"11\": 1}, \"19\": {\"19\": 18, \"84\": 1, \"105\": 1, \"14\": 3, \"3\": 1, \"104\": 1, \"126\": 2, \"81\": 1}, \"120\": {\"120\": 19, \"121\": 1}, \"43\": {\"28\": 1, \"120\": 1, \"81\": 2, \"43\": 51, \"122\": 8, \"80\": 1, \"84\": 8, \"10\": 2, \"8\": 3, \"62\": 1, \"87\": 10, \"44\": 1, \"1\": 8, \"105\": 5, \"39\": 6, \"90\": 1, \"7\": 2, \"33\": 1, \"109\": 6, \"40\": 4, \"126\": 1, \"114\": 1, \"113\": 1, \"70\": 3}, \"74\": {\"74\": 15, \"28\": 1}, \"11\": {\"11\": 53, \"67\": 1, \"1\": 2, \"64\": 1, \"43\": 2, \"102\": 7, \"122\": 1, \"109\": 1, \"33\": 11, \"90\": 13, \"3\": 3, \"69\": 6, \"114\": 3, \"18\": 1, \"7\": 2, \"62\": 4, \"40\": 1, \"126\": 1, \"96\": 1, \"50\": 1, \"2\": 1, \"120\": 2, \"28\": 2, \"70\": 1, \"128\": 1, \"26\": 2, \"105\": 1, \"116\": 1, \"82\": 1, \"84\": 1, \"117\": 1, \"39\": 1}, \"26\": {\"26\": 106, \"13\": 1, \"118\": 6, \"69\": 2, \"18\": 1, \"117\": 7, \"11\": 3, \"16\": 6}, \"125\": {\"125\": 95, \"51\": 1, \"98\": 1, \"88\": 10, \"36\": 14, \"27\": 2, \"59\": 2, \"94\": 5, \"6\": 1, \"30\": 1}, \"64\": {\"64\": 13, \"70\": 1, \"74\": 2}, \"127\": {\"127\": 83, \"92\": 1, \"91\": 1, \"5\": 1, \"36\": 1, \"101\": 4, \"111\": 4, \"110\": 1, \"98\": 3, \"106\": 2, \"68\": 1, \"9\": 1, \"12\": 1, \"108\": 1, \"69\": 1, \"107\": 1, \"125\": 1}, \"83\": {\"83\": 12, \"31\": 2, \"35\": 1, \"40\": 5, \"118\": 1, \"105\": 1, \"7\": 1, \"48\": 1, \"79\": 1, \"104\": 1, \"72\": 1, \"34\": 1}, \"118\": {\"118\": 37, \"76\": 1, \"66\": 1, \"16\": 11, \"33\": 1, \"26\": 10, \"117\": 4, \"39\": 5, \"102\": 2, \"62\": 1, \"18\": 3, \"69\": 4, \"95\": 4}, \"103\": {\"30\": 1, \"103\": 8, \"34\": 2, \"106\": 2, \"36\": 1, \"111\": 1, \"46\": 1}, \"55\": {\"41\": 1, \"55\": 8, \"93\": 2, \"19\": 1}, \"110\": {\"110\": 89, \"41\": 1, \"10\": 3, \"101\": 9, \"107\": 5, \"93\": 6, \"0\": 4, \"106\": 1, \"40\": 1, \"4\": 2, \"24\": 1, \"85\": 1, \"108\": 2, \"105\": 1}, \"30\": {\"30\": 7, \"85\": 1, \"112\": 3, \"52\": 3, \"71\": 1, \"53\": 2, \"108\": 1, \"15\": 4, \"91\": 2, \"32\": 3, \"4\": 1, \"72\": 1, \"106\": 2, \"89\": 2, \"88\": 2, \"0\": 1, \"43\": 1, \"94\": 1, \"59\": 2, \"75\": 1, \"51\": 1, \"111\": 2, \"77\": 1, \"7\": 1, \"129\": 1, \"24\": 1, \"6\": 1, \"12\": 1, \"127\": 1, \"101\": 1}, \"51\": {\"51\": 15, \"125\": 1}, \"6\": {\"6\": 15, \"111\": 3, \"52\": 1, \"15\": 3, \"68\": 1, \"88\": 2, \"71\": 3, \"12\": 2, \"34\": 1, \"94\": 1}, \"96\": {\"122\": 2, \"96\": 4, \"114\": 1, \"74\": 1, \"70\": 1, \"20\": 1, \"81\": 2, \"42\": 2, \"61\": 1, \"18\": 1, \"11\": 1, \"83\": 1, \"80\": 1, \"76\": 1}, \"114\": {\"114\": 95, \"1\": 3, \"121\": 1, \"40\": 4, \"23\": 3, \"128\": 1, \"126\": 3, \"87\": 2, \"4\": 2, \"107\": 3, \"105\": 2, \"84\": 7, \"14\": 3, \"106\": 3, \"5\": 1, \"24\": 1, \"70\": 2, \"7\": 1, \"101\": 1, \"96\": 1, \"39\": 1, \"124\": 2, \"11\": 1, \"108\": 1}, \"69\": {\"69\": 71, \"82\": 1, \"95\": 1, \"62\": 5, \"39\": 5, \"102\": 6, \"26\": 7, \"117\": 2, \"33\": 2, \"3\": 2, \"67\": 1, \"118\": 1, \"126\": 1, \"11\": 2, \"18\": 1}, \"60\": {\"60\": 6, \"26\": 1, \"34\": 1, \"13\": 1, \"45\": 1, \"42\": 2, \"57\": 1, \"123\": 1, \"95\": 1, \"87\": 1}, \"94\": {\"27\": 4, \"94\": 40, \"46\": 1, \"12\": 4, \"103\": 1, \"59\": 2, \"111\": 6, \"52\": 1, \"88\": 4, \"6\": 1, \"71\": 3, \"127\": 3, \"125\": 3, \"30\": 3, \"98\": 1, \"105\": 1, \"36\": 3, \"51\": 2, \"15\": 2, \"97\": 1, \"92\": 1, \"106\": 1, \"24\": 3, \"117\": 1}, \"79\": {\"79\": 10, \"54\": 1, \"83\": 1}, \"126\": {\"41\": 1, \"86\": 2, \"70\": 3, \"14\": 4, \"16\": 1, \"47\": 1, \"32\": 1, \"126\": 22, \"34\": 1, \"81\": 1, \"96\": 1, \"114\": 2, \"93\": 6, \"4\": 4, \"8\": 8, \"40\": 9, \"33\": 1, \"44\": 3, \"85\": 2, \"124\": 2, \"122\": 3, \"84\": 4, \"101\": 2, \"7\": 7, \"90\": 3, \"107\": 3, \"10\": 4, \"43\": 6, \"12\": 1, \"106\": 1, \"39\": 1, \"49\": 1, \"1\": 1, \"42\": 2, \"64\": 1, \"87\": 4, \"128\": 3, \"19\": 1, \"5\": 4, \"105\": 1, \"0\": 1, \"108\": 2, \"109\": 2, \"110\": 1}, \"68\": {\"103\": 3, \"111\": 1, \"68\": 10, \"72\": 1, \"89\": 1}, \"72\": {\"86\": 3, \"72\": 21, \"107\": 1, \"70\": 1, \"29\": 2, \"5\": 1, \"101\": 1, \"77\": 2}, \"63\": {\"63\": 13, \"129\": 1, \"123\": 1, \"67\": 1}, \"22\": {\"22\": 9, \"14\": 1, \"124\": 2, \"129\": 1, \"116\": 1, \"51\": 1, \"104\": 1}, \"121\": {\"121\": 13, \"63\": 2, \"66\": 4, \"39\": 5, \"123\": 1, \"8\": 1, \"90\": 1, \"74\": 1, \"78\": 1, \"88\": 1, \"11\": 2}, \"71\": {\"6\": 1, \"111\": 10, \"71\": 59, \"27\": 7, \"16\": 2, \"59\": 1, \"24\": 2, \"30\": 2, \"12\": 6, \"94\": 2, \"26\": 1, \"98\": 1, \"15\": 6, \"127\": 3, \"43\": 1, \"88\": 1, \"53\": 1, \"52\": 1, \"39\": 1}, \"54\": {\"54\": 14, \"110\": 1, \"58\": 1}, \"102\": {\"102\": 78, \"65\": 1, \"39\": 1, \"120\": 1, \"62\": 3, \"129\": 2, \"118\": 2, \"33\": 12, \"3\": 5, \"117\": 1, \"69\": 6, \"96\": 1, \"78\": 1, \"82\": 1, \"11\": 2, \"18\": 1, \"109\": 1, \"43\": 1}, \"73\": {\"73\": 11, \"71\": 1, \"126\": 1, \"125\": 1, \"86\": 1, \"83\": 2, \"55\": 2, \"36\": 1}, \"38\": {\"38\": 16}, \"4\": {\"4\": 43, \"91\": 1, \"40\": 7, \"1\": 2, \"85\": 1, \"93\": 2, \"128\": 1, \"126\": 1, \"70\": 1, \"84\": 4, \"5\": 9, \"113\": 1, \"105\": 4, \"10\": 2, \"87\": 1, \"107\": 1, \"114\": 2, \"17\": 1, \"47\": 1, \"86\": 2, \"124\": 1, \"34\": 1, \"101\": 2, \"83\": 1, \"0\": 2, \"41\": 2, \"118\": 2, \"127\": 2}, \"52\": {\"52\": 17, \"53\": 1, \"30\": 1, \"71\": 1}, \"70\": {\"79\": 1, \"72\": 2, \"66\": 1, \"64\": 1, \"74\": 2, \"89\": 4, \"83\": 2, \"40\": 1, \"110\": 8, \"70\": 17, \"97\": 1, \"4\": 3, \"23\": 2, \"21\": 1, \"0\": 2, \"44\": 1, \"98\": 2, \"124\": 6, \"122\": 6, \"43\": 5, \"5\": 2, \"105\": 4, \"84\": 1, \"90\": 3, \"93\": 4, \"109\": 3, \"87\": 1, \"111\": 1, \"114\": 2, \"8\": 3, \"107\": 6, \"126\": 2, \"108\": 9, \"47\": 1, \"103\": 1, \"35\": 1, \"49\": 2, \"11\": 1, \"9\": 1, \"14\": 2, \"30\": 2, \"106\": 1, \"27\": 1, \"118\": 1, \"10\": 2, \"101\": 2, \"71\": 1}, \"91\": {\"30\": 1, \"86\": 2, \"10\": 2, \"91\": 13, \"88\": 1, \"127\": 2, \"110\": 1, \"15\": 1, \"72\": 1, \"107\": 1, \"93\": 2, \"0\": 1}, \"77\": {\"77\": 10, \"104\": 1, \"39\": 1, \"9\": 1, \"124\": 2, \"106\": 1}, \"20\": {\"20\": 16}, \"59\": {\"59\": 12}, \"40\": {\"5\": 5, \"55\": 1, \"32\": 2, \"40\": 67, \"128\": 2, \"109\": 2, \"4\": 12, \"126\": 5, \"114\": 8, \"93\": 5, \"87\": 4, \"10\": 3, \"1\": 1, \"124\": 4, \"14\": 3, \"84\": 4, \"86\": 1, \"104\": 1, \"108\": 1, \"43\": 1, \"107\": 3, \"7\": 1}, \"98\": {\"98\": 59, \"49\": 1, \"29\": 1, \"24\": 5, \"127\": 10, \"89\": 1, \"111\": 8, \"106\": 8, \"5\": 1, \"12\": 2, \"72\": 1, \"110\": 2, \"9\": 2, \"6\": 1, \"101\": 2, \"124\": 1, \"71\": 1, \"94\": 1, \"88\": 1}, \"46\": {\"115\": 1, \"46\": 2, \"94\": 1, \"23\": 1, \"72\": 1, \"111\": 1, \"51\": 1, \"30\": 1, \"53\": 1, \"34\": 1, \"126\": 1}, \"34\": {\"34\": 5, \"71\": 1, \"27\": 1, \"77\": 1, \"103\": 1, \"94\": 3, \"51\": 2, \"70\": 1, \"61\": 1, \"111\": 2, \"28\": 1, \"22\": 1, \"60\": 1, \"37\": 1, \"10\": 1, \"44\": 1, \"14\": 1, \"105\": 1, \"81\": 1, \"68\": 1, \"29\": 1, \"43\": 1, \"11\": 1, \"15\": 1}, \"24\": {\"52\": 2, \"107\": 4, \"118\": 1, \"97\": 1, \"124\": 1, \"24\": 23, \"111\": 5, \"110\": 2, \"91\": 1, \"27\": 5, \"114\": 1, \"71\": 3, \"88\": 8, \"94\": 2, \"15\": 6, \"98\": 2, \"4\": 1, \"70\": 2, \"12\": 7, \"5\": 1, \"45\": 1, \"17\": 1, \"101\": 1, \"0\": 2, \"103\": 1, \"128\": 1, \"127\": 2, \"93\": 1, \"108\": 1, \"39\": 2, \"106\": 1}, \"62\": {\"62\": 96, \"99\": 1, \"82\": 2, \"43\": 2, \"109\": 2, \"90\": 1, \"33\": 5, \"69\": 1, \"102\": 1, \"38\": 1, \"14\": 1, \"125\": 1, \"122\": 2, \"118\": 1, \"39\": 2, \"11\": 1}, \"14\": {\"14\": 87, \"80\": 1, \"122\": 4, \"84\": 2, \"1\": 1, \"43\": 1}, \"12\": {\"112\": 2, \"12\": 45, \"34\": 2, \"27\": 1, \"89\": 2, \"106\": 2, \"117\": 1, \"111\": 11, \"127\": 8, \"71\": 4, \"98\": 3, \"15\": 3, \"88\": 1, \"24\": 8, \"37\": 1, \"47\": 1, \"75\": 1, \"30\": 1, \"101\": 2, \"121\": 1, \"113\": 1, \"18\": 1, \"107\": 1, \"69\": 1}, \"84\": {\"84\": 61, \"82\": 1, \"1\": 6, \"87\": 7, \"40\": 11, \"23\": 2, \"105\": 12, \"44\": 1, \"14\": 2, \"114\": 9, \"43\": 10, \"117\": 1, \"7\": 2, \"126\": 1, \"73\": 1, \"19\": 1, \"113\": 1, \"4\": 1, \"33\": 1, \"70\": 1, \"39\": 1, \"124\": 1}, \"37\": {\"37\": 16}, \"97\": {\"32\": 1, \"27\": 2, \"34\": 1, \"12\": 1, \"30\": 1, \"24\": 1, \"68\": 1, \"97\": 3, \"101\": 1, \"127\": 3, \"72\": 1, \"89\": 1, \"49\": 1, \"106\": 1, \"70\": 1}, \"57\": {\"57\": 11, \"120\": 1}, \"49\": {\"49\": 11, \"127\": 2, \"53\": 2, \"72\": 2, \"73\": 2, \"0\": 1}, \"17\": {\"49\": 3, \"17\": 4, \"77\": 1, \"0\": 3, \"83\": 1, \"102\": 1, \"27\": 1, \"85\": 1, \"107\": 1}, \"109\": {\"102\": 1, \"39\": 5, \"70\": 1, \"109\": 37, \"87\": 3, \"11\": 1, \"12\": 2, \"18\": 3, \"43\": 9, \"90\": 10, \"3\": 1, \"118\": 4, \"62\": 3, \"1\": 2, \"26\": 1, \"126\": 3, \"33\": 2, \"8\": 2, \"40\": 1, \"84\": 2, \"105\": 1, \"21\": 4, \"16\": 1, \"69\": 2, \"44\": 1, \"7\": 4}, \"80\": {\"80\": 16}, \"66\": {\"66\": 15, \"120\": 1}, \"101\": {\"101\": 99, \"108\": 3, \"0\": 4, \"107\": 7, \"110\": 8, \"97\": 1, \"32\": 1, \"117\": 1}, \"89\": {\"101\": 3, \"89\": 20, \"76\": 2, \"98\": 2, \"106\": 2, \"127\": 2, \"107\": 1, \"30\": 2, \"124\": 1, \"77\": 1}, \"31\": {\"31\": 13, \"83\": 1, \"108\": 1, \"0\": 1}, \"21\": {\"43\": 4, \"76\": 1, \"21\": 14, \"44\": 2, \"8\": 2, \"87\": 1, \"12\": 1, \"18\": 3, \"84\": 2, \"90\": 1, \"39\": 2, \"113\": 1, \"24\": 1, \"109\": 2, \"62\": 1, \"33\": 2}, \"23\": {\"62\": 1, \"23\": 3, \"7\": 1, \"93\": 1, \"18\": 1, \"110\": 2, \"127\": 1, \"11\": 1, \"0\": 1, \"55\": 3, \"33\": 1, \"41\": 1, \"83\": 1, \"99\": 1, \"91\": 1, \"82\": 1, \"44\": 1, \"30\": 1, \"105\": 1}, \"25\": {\"25\": 11, \"42\": 1, \"100\": 2, \"16\": 1, \"115\": 1}, \"107\": {\"46\": 1, \"107\": 63, \"124\": 4, \"30\": 1, \"85\": 1, \"106\": 5, \"110\": 6, \"127\": 1, \"87\": 2, \"117\": 1, \"105\": 1, \"7\": 1, \"101\": 8, \"108\": 1, \"0\": 3, \"24\": 1, \"5\": 3, \"49\": 1, \"4\": 1, \"114\": 2, \"125\": 1, \"93\": 1, \"40\": 2, \"10\": 1}, \"3\": {\"45\": 1, \"2\": 1, \"3\": 61, \"19\": 1, \"99\": 2, \"102\": 6, \"82\": 1, \"6\": 1, \"62\": 1, \"69\": 4, \"11\": 2, \"125\": 1, \"88\": 1, \"33\": 2, \"84\": 2, \"1\": 1}, \"61\": {\"61\": 8, \"109\": 2, \"66\": 1, \"111\": 1}, \"117\": {\"39\": 3, \"117\": 109, \"18\": 2, \"26\": 5, \"16\": 3, \"118\": 2, \"121\": 1, \"113\": 1}, \"119\": {\"116\": 1, \"119\": 12, \"16\": 1, \"0\": 1, \"99\": 1}, \"58\": {\"58\": 8, \"37\": 1, \"29\": 1, \"101\": 1, \"49\": 1}, \"47\": {\"47\": 10, \"30\": 2}, \"116\": {\"116\": 13, \"119\": 1, \"99\": 2, \"69\": 1, \"90\": 1, \"62\": 5, \"11\": 1, \"124\": 1, \"1\": 1, \"67\": 2, \"2\": 1, \"33\": 1, \"114\": 1, \"3\": 1}, \"18\": {\"18\": 67, \"16\": 13, \"109\": 4, \"39\": 10, \"118\": 4, \"3\": 2, \"117\": 3, \"26\": 7, \"69\": 4, \"102\": 1, \"11\": 1, \"113\": 3, \"78\": 1, \"121\": 2, \"21\": 2}, \"36\": {\"36\": 80, \"118\": 1, \"98\": 1, \"6\": 5, \"71\": 1, \"24\": 1, \"88\": 9, \"94\": 4, \"27\": 3, \"39\": 1, \"15\": 1, \"125\": 7, \"111\": 2, \"59\": 1, \"68\": 2, \"97\": 1, \"12\": 1, \"18\": 1}, \"108\": {\"17\": 2, \"0\": 3, \"9\": 2, \"5\": 3, \"108\": 28, \"10\": 1, \"44\": 1, \"124\": 2, \"107\": 1, \"7\": 1, \"70\": 2, \"43\": 1, \"106\": 5, \"8\": 4, \"127\": 4, \"114\": 2, \"40\": 2, \"87\": 1, \"101\": 16, \"125\": 2, \"84\": 1, \"90\": 1, \"105\": 2, \"29\": 1, \"47\": 1, \"42\": 1, \"77\": 1, \"72\": 1, \"126\": 2, \"128\": 2, \"34\": 1, \"80\": 1, \"93\": 3, \"21\": 1, \"12\": 2, \"111\": 3, \"24\": 2, \"15\": 1, \"69\": 1, \"110\": 1}, \"15\": {\"111\": 7, \"92\": 1, \"15\": 47, \"127\": 10, \"91\": 2, \"30\": 2, \"6\": 1, \"97\": 1, \"27\": 5, \"93\": 1, \"101\": 1, \"98\": 1, \"88\": 3, \"12\": 3, \"36\": 1, \"24\": 5, \"71\": 3, \"112\": 1, \"59\": 1, \"89\": 1, \"110\": 1, \"94\": 4, \"0\": 1, \"117\": 1}, \"8\": {\"8\": 86, \"122\": 3, \"80\": 1, \"42\": 2, \"10\": 2, \"70\": 4, \"87\": 5, \"1\": 1, \"43\": 3, \"107\": 1, \"84\": 2, \"93\": 2, \"14\": 1, \"114\": 1}, \"35\": {\"35\": 5, \"0\": 1, \"10\": 3, \"93\": 1, \"104\": 1, \"43\": 1}}, \"W_2\": {\"3\": {\"3\": 70, \"128\": 1, \"114\": 3, \"24\": 2, \"43\": 4, \"105\": 1, \"7\": 7, \"5\": 9, \"4\": 4, \"8\": 1, \"71\": 5, \"15\": 3, \"12\": 2, \"117\": 2, \"40\": 3, \"0\": 1, \"112\": 2, \"107\": 1, \"11\": 3, \"108\": 3, \"26\": 1, \"110\": 1, \"39\": 1, \"122\": 1, \"70\": 1}, \"127\": {\"127\": 87, \"115\": 1, \"68\": 1, \"2\": 1, \"12\": 5, \"128\": 1, \"111\": 12, \"108\": 2, \"0\": 4, \"8\": 1, \"30\": 1, \"98\": 1, \"35\": 1, \"52\": 1, \"114\": 1}, \"58\": {\"58\": 17, \"51\": 1, \"15\": 2}, \"114\": {\"127\": 1, \"111\": 4, \"114\": 61, \"42\": 1, \"11\": 1, \"5\": 3, \"95\": 1, \"71\": 9, \"12\": 4, \"124\": 6, \"3\": 3, \"108\": 7, \"7\": 2, \"120\": 1, \"54\": 1, \"16\": 1, \"4\": 2, \"8\": 2, \"0\": 2}, \"111\": {\"111\": 106, \"30\": 6, \"34\": 2, \"9\": 2, \"101\": 1, \"127\": 5, \"0\": 6, \"114\": 1, \"15\": 2, \"98\": 1, \"12\": 1, \"24\": 2, \"124\": 1, \"108\": 3, \"91\": 1, \"120\": 1, \"106\": 1, \"94\": 1, \"93\": 1}, \"105\": {\"86\": 1, \"105\": 72, \"40\": 13, \"55\": 3, \"70\": 1, \"128\": 1, \"44\": 1, \"110\": 2, \"32\": 2, \"67\": 1, \"62\": 4, \"107\": 4, \"3\": 2, \"122\": 4, \"114\": 1, \"1\": 4, \"33\": 1, \"8\": 1, \"39\": 1, \"126\": 2, \"78\": 1, \"19\": 1, \"4\": 1, \"43\": 5, \"7\": 1, \"71\": 1, \"124\": 1}, \"118\": {\"69\": 4, \"102\": 2, \"92\": 2, \"83\": 3, \"89\": 2, \"118\": 24, \"48\": 1, \"109\": 1, \"88\": 6, \"62\": 3, \"90\": 2, \"23\": 1, \"1\": 3, \"46\": 1, \"38\": 1, \"50\": 1, \"96\": 3, \"55\": 1, \"13\": 1, \"116\": 1, \"39\": 1, \"113\": 1, \"10\": 1, \"33\": 1, \"72\": 1}, \"23\": {\"3\": 3, \"99\": 3, \"112\": 1, \"117\": 5, \"57\": 1, \"74\": 2, \"122\": 7, \"4\": 1, \"23\": 6, \"113\": 2, \"2\": 1, \"10\": 1, \"18\": 2, \"109\": 2, \"8\": 2, \"26\": 2, \"81\": 1, \"0\": 1, \"11\": 1}, \"21\": {\"20\": 3, \"118\": 2, \"2\": 1, \"21\": 28, \"113\": 1, \"88\": 4, \"109\": 2, \"120\": 3, \"63\": 1, \"18\": 1, \"85\": 1, \"26\": 1}, \"20\": {\"20\": 13, \"63\": 2, \"21\": 1}, \"75\": {\"75\": 12, \"15\": 2, \"50\": 1, \"51\": 1}, \"86\": {\"86\": 26, \"8\": 1, \"19\": 1, \"40\": 1, \"110\": 1, \"95\": 2}, \"60\": {\"23\": 1, \"60\": 9, \"116\": 3, \"22\": 1, \"76\": 1, \"89\": 2, \"43\": 1, \"88\": 1, \"82\": 2, \"118\": 1, \"46\": 1, \"66\": 1, \"33\": 1, \"20\": 1, \"64\": 2}, \"69\": {\"69\": 97, \"13\": 1, \"93\": 6, \"102\": 6, \"43\": 1, \"121\": 1, \"39\": 1, \"117\": 3, \"16\": 11, \"90\": 6, \"26\": 4, \"62\": 1, \"18\": 1, \"88\": 1}, \"99\": {\"23\": 1, \"99\": 24, \"90\": 1, \"16\": 1, \"65\": 1, \"113\": 2, \"26\": 2}, \"14\": {\"14\": 19, \"67\": 2, \"55\": 2, \"78\": 3, \"113\": 2, \"65\": 1, \"83\": 1, \"1\": 2, \"127\": 1, \"62\": 4, \"96\": 1, \"110\": 1, \"60\": 1, \"82\": 1, \"81\": 1, \"107\": 1, \"39\": 1, \"105\": 1, \"70\": 2, \"69\": 1}, \"25\": {\"25\": 12, \"106\": 1, \"15\": 1, \"24\": 1, \"36\": 1}, \"52\": {\"52\": 13, \"114\": 2, \"41\": 1, \"12\": 2, \"127\": 1, \"34\": 1}, \"47\": {\"47\": 8, \"97\": 2, \"78\": 1, \"30\": 1}, \"48\": {\"48\": 11, \"65\": 1, \"27\": 1, \"82\": 2, \"2\": 1, \"44\": 1, \"92\": 2, \"121\": 1}, \"27\": {\"27\": 28, \"120\": 1, \"101\": 3, \"97\": 1, \"98\": 1, \"87\": 1, \"125\": 4, \"106\": 2, \"127\": 1, \"34\": 3, \"90\": 1, \"84\": 1, \"39\": 1, \"94\": 4, \"24\": 3, \"30\": 1, \"6\": 2, \"51\": 1, \"15\": 4, \"18\": 1, \"36\": 1, \"58\": 1, \"117\": 2}, \"78\": {\"20\": 1, \"8\": 2, \"78\": 5, \"66\": 1, \"120\": 1, \"83\": 1, \"126\": 2, \"49\": 1, \"109\": 2, \"63\": 4, \"44\": 3, \"62\": 1, \"1\": 4, \"88\": 1, \"40\": 1, \"43\": 1, \"87\": 1, \"108\": 1, \"122\": 2, \"55\": 1, \"85\": 1, \"7\": 1, \"129\": 1, \"46\": 1, \"76\": 1, \"116\": 1, \"105\": 2, \"117\": 1, \"70\": 1, \"34\": 1, \"72\": 1}, \"8\": {\"8\": 73, \"29\": 1, \"104\": 3, \"107\": 3, \"124\": 6, \"7\": 5, \"101\": 2, \"105\": 3, \"11\": 1, \"43\": 2, \"71\": 1, \"40\": 3, \"70\": 1, \"114\": 3, \"33\": 1, \"128\": 1, \"3\": 2, \"95\": 2, \"14\": 1, \"122\": 3, \"44\": 1, \"110\": 1, \"106\": 1, \"108\": 1, \"88\": 1}, \"90\": {\"78\": 4, \"90\": 92, \"16\": 11, \"69\": 9, \"118\": 2, \"31\": 1, \"96\": 1, \"14\": 2, \"1\": 1, \"93\": 8, \"126\": 3, \"87\": 3, \"18\": 1, \"33\": 2, \"84\": 1, \"70\": 2, \"26\": 1, \"21\": 1, \"60\": 1, \"83\": 3, \"66\": 2, \"23\": 1, \"117\": 1, \"44\": 2, \"39\": 2, \"102\": 1, \"62\": 2}, \"103\": {\"35\": 1, \"103\": 10, \"112\": 1, \"68\": 1, \"41\": 1, \"77\": 1, \"59\": 1}, \"120\": {\"120\": 20}, \"96\": {\"20\": 1, \"96\": 10, \"93\": 2, \"13\": 3, \"90\": 1, \"118\": 1, \"89\": 1, \"116\": 1}, \"30\": {\"30\": 39, \"51\": 2, \"101\": 8, \"41\": 1, \"127\": 7, \"111\": 6, \"98\": 7, \"108\": 2, \"15\": 5, \"8\": 1, \"12\": 2, \"24\": 5, \"5\": 1, \"49\": 3, \"96\": 1, \"95\": 1, \"54\": 1, \"7\": 1, \"0\": 2, \"34\": 1, \"1\": 1, \"4\": 3, \"36\": 1, \"3\": 1, \"124\": 1, \"94\": 1}, \"33\": {\"78\": 1, \"33\": 103, \"55\": 1, \"118\": 2, \"84\": 6, \"1\": 6, \"87\": 3, \"43\": 4, \"102\": 8, \"90\": 1, \"62\": 3, \"60\": 1, \"14\": 1, \"93\": 1, \"40\": 3, \"69\": 1, \"70\": 1}, \"35\": {\"35\": 9, \"52\": 1, \"111\": 1, \"103\": 1}, \"108\": {\"108\": 27, \"115\": 2, \"49\": 1, \"77\": 1, \"52\": 1, \"28\": 1, \"58\": 1, \"8\": 2, \"111\": 6, \"98\": 13, \"0\": 3, \"127\": 14, \"110\": 1, \"94\": 3, \"12\": 2, \"101\": 3, \"71\": 1, \"122\": 3, \"124\": 7, \"5\": 3, \"3\": 1, \"7\": 3, \"114\": 2, \"30\": 2, \"125\": 1, \"11\": 2, \"54\": 1, \"27\": 1, \"73\": 1, \"40\": 2, \"36\": 2, \"43\": 1, \"106\": 1, \"24\": 1}, \"112\": {\"71\": 2, \"112\": 10, \"52\": 1, \"11\": 1, \"35\": 1, \"3\": 1}, \"40\": {\"40\": 57, \"86\": 2, \"5\": 10, \"66\": 1, \"95\": 3, \"92\": 1, \"4\": 1, \"3\": 6, \"53\": 1, \"21\": 1, \"122\": 8, \"1\": 4, \"113\": 1, \"84\": 3, \"105\": 10, \"114\": 1, \"107\": 4, \"18\": 2, \"39\": 2, \"44\": 1, \"111\": 1, \"8\": 5, \"7\": 2, \"16\": 1, \"129\": 1, \"43\": 1, \"32\": 1, \"110\": 3, \"14\": 1, \"69\": 1, \"109\": 1, \"127\": 1, \"70\": 2}, \"102\": {\"87\": 6, \"102\": 75, \"84\": 4, \"69\": 9, \"93\": 5, \"16\": 5, \"33\": 7, \"70\": 3, \"39\": 1, \"1\": 1}, \"56\": {\"56\": 12}, \"93\": {\"102\": 8, \"14\": 1, \"93\": 74, \"116\": 1, \"126\": 4, \"78\": 1, \"96\": 2, \"13\": 1, \"113\": 1, \"16\": 9, \"69\": 11, \"84\": 3, \"90\": 5, \"109\": 2, \"39\": 6, \"43\": 1, \"70\": 2, \"50\": 1, \"88\": 3}, \"68\": {\"68\": 11, \"0\": 1, \"3\": 1, \"114\": 1, \"90\": 1, \"4\": 1}, \"70\": {\"93\": 2, \"40\": 7, \"70\": 25, \"105\": 9, \"61\": 1, \"109\": 10, \"5\": 2, \"67\": 1, \"84\": 3, \"88\": 11, \"50\": 1, \"3\": 6, \"44\": 1, \"122\": 2, \"73\": 2, \"107\": 1, \"17\": 1, \"1\": 5, \"32\": 1, \"87\": 1, \"16\": 2, \"121\": 1, \"39\": 2, \"43\": 8, \"90\": 2, \"26\": 2, \"62\": 2, \"10\": 1, \"55\": 1, \"63\": 2, \"95\": 1, \"21\": 1, \"4\": 1, \"110\": 1, \"126\": 1, \"111\": 2, \"114\": 2}, \"7\": {\"7\": 72, \"68\": 1, \"4\": 7, \"19\": 1, \"0\": 2, \"3\": 6, \"108\": 8, \"129\": 1, \"122\": 10, \"5\": 5, \"8\": 4, \"114\": 2, \"109\": 1, \"107\": 1, \"10\": 1, \"30\": 1, \"127\": 1}, \"87\": {\"93\": 4, \"20\": 1, \"44\": 2, \"87\": 23, \"50\": 1, \"88\": 10, \"82\": 3, \"22\": 1, \"61\": 1, \"69\": 7, \"100\": 1, \"2\": 2, \"32\": 2, \"40\": 1, \"107\": 1, \"126\": 5, \"33\": 5, \"16\": 3, \"109\": 11, \"43\": 1, \"84\": 7, \"102\": 2, \"62\": 2, \"129\": 2, \"78\": 1, \"89\": 1, \"96\": 1, \"39\": 4, \"113\": 1, \"1\": 3, \"70\": 2, \"114\": 1}, \"54\": {\"40\": 1, \"54\": 16, \"95\": 1, \"24\": 1, \"34\": 1}, \"71\": {\"108\": 3, \"71\": 46, \"4\": 10, \"114\": 7, \"73\": 2, \"0\": 1, \"107\": 2, \"24\": 1, \"12\": 2, \"122\": 2, \"34\": 1, \"5\": 6, \"111\": 1, \"88\": 1, \"3\": 3, \"125\": 1, \"90\": 1, \"98\": 2, \"11\": 2, \"117\": 1, \"124\": 1, \"19\": 2, \"18\": 1, \"7\": 1}, \"80\": {\"80\": 16}, \"18\": {\"18\": 86, \"21\": 2, \"26\": 7, \"117\": 6, \"65\": 2, \"81\": 1, \"39\": 6, \"113\": 1, \"16\": 1, \"84\": 1, \"69\": 5, \"102\": 1, \"62\": 1, \"90\": 1, \"93\": 1}, \"101\": {\"111\": 9, \"101\": 92, \"35\": 1, \"83\": 1, \"15\": 7, \"107\": 1, \"30\": 5, \"127\": 1, \"98\": 1, \"106\": 1, \"108\": 2, \"58\": 1}, \"92\": {\"128\": 1, \"92\": 20, \"28\": 1, \"84\": 1, \"65\": 1, \"70\": 1, \"31\": 1, \"73\": 1, \"13\": 1}, \"32\": {\"105\": 1, \"128\": 1, \"76\": 2, \"59\": 2, \"32\": 20, \"122\": 2, \"62\": 1, \"43\": 2, \"1\": 1, \"37\": 1, \"66\": 1, \"15\": 1, \"14\": 1}, \"128\": {\"30\": 4, \"128\": 5, \"11\": 2, \"14\": 1, \"126\": 2, \"107\": 2, \"3\": 1, \"84\": 1, \"8\": 1, \"127\": 1, \"19\": 1, \"80\": 1, \"129\": 1, \"32\": 1}, \"6\": {\"6\": 22, \"15\": 1, \"106\": 3, \"75\": 1, \"51\": 2, \"94\": 2, \"101\": 1}, \"51\": {\"51\": 7, \"111\": 1, \"15\": 2, \"9\": 1, \"27\": 1, \"36\": 2, \"127\": 1, \"0\": 1, \"30\": 2, \"83\": 1, \"124\": 1}, \"85\": {\"85\": 20, \"108\": 1, \"110\": 1, \"121\": 1, \"124\": 1, \"52\": 2, \"115\": 2, \"103\": 1, \"45\": 1, \"73\": 2}, \"46\": {\"128\": 1, \"105\": 1, \"126\": 1, \"46\": 8, \"118\": 1, \"84\": 1, \"42\": 1, \"33\": 1, \"1\": 1}, \"22\": {\"32\": 1, \"22\": 13, \"66\": 1, \"80\": 2, \"44\": 1, \"55\": 1, \"19\": 1}, \"1\": {\"1\": 77, \"78\": 3, \"60\": 1, \"14\": 2, \"118\": 1, \"126\": 2, \"127\": 2, \"129\": 1, \"90\": 1, \"84\": 5, \"71\": 1, \"117\": 2, \"62\": 2, \"40\": 3, \"33\": 5, \"43\": 3, \"50\": 2, \"17\": 1, \"32\": 1, \"4\": 2, \"16\": 1, \"105\": 2, \"109\": 1, \"39\": 1}, \"37\": {\"37\": 12, \"1\": 2, \"104\": 1, \"50\": 1}, \"44\": {\"37\": 3, \"83\": 1, \"44\": 79, \"109\": 1, \"14\": 1, \"90\": 2, \"40\": 2, \"126\": 2, \"46\": 1, \"60\": 1, \"118\": 1, \"62\": 1, \"105\": 1, \"70\": 3, \"87\": 1}, \"24\": {\"23\": 1, \"9\": 6, \"15\": 12, \"8\": 4, \"129\": 1, \"2\": 1, \"27\": 1, \"110\": 1, \"36\": 9, \"14\": 1, \"106\": 8, \"125\": 6, \"34\": 2, \"6\": 1, \"10\": 1, \"122\": 1, \"26\": 2, \"108\": 2, \"40\": 2, \"16\": 1, \"24\": 16, \"1\": 2, \"44\": 1, \"127\": 3, \"39\": 1, \"70\": 2, \"124\": 2, \"30\": 1, \"126\": 2, \"101\": 1, \"5\": 1, \"113\": 1, \"25\": 1, \"91\": 1, \"21\": 1, \"117\": 2, \"107\": 1, \"105\": 1, \"3\": 1, \"94\": 2, \"87\": 1, \"111\": 2, \"7\": 2, \"18\": 1}, \"9\": {\"9\": 29, \"15\": 1, \"111\": 1, \"94\": 1}, \"116\": {\"60\": 2, \"116\": 9, \"82\": 3, \"45\": 1, \"100\": 1, \"89\": 4, \"81\": 1, \"84\": 1, \"1\": 1, \"121\": 1, \"69\": 1, \"42\": 1, \"33\": 1, \"16\": 1}, \"64\": {\"64\": 15, \"80\": 1}, \"129\": {\"1\": 1, \"47\": 1, \"129\": 17, \"51\": 1, \"5\": 5, \"105\": 1, \"7\": 1, \"70\": 1, \"114\": 1, \"3\": 3}, \"42\": {\"47\": 2, \"42\": 8, \"107\": 1, \"94\": 1, \"70\": 1, \"120\": 1, \"45\": 1, \"40\": 2, \"30\": 1, \"121\": 1, \"8\": 1, \"106\": 1, \"3\": 1, \"95\": 2, \"32\": 1, \"96\": 1, \"84\": 1, \"0\": 1}, \"117\": {\"117\": 106, \"113\": 4, \"26\": 6, \"39\": 2, \"2\": 1, \"18\": 1}, \"88\": {\"88\": 64, \"120\": 1, \"109\": 12, \"63\": 3, \"24\": 1, \"118\": 2, \"90\": 2, \"78\": 2, \"62\": 2, \"43\": 1, \"126\": 5, \"70\": 5, \"33\": 1, \"10\": 1, \"26\": 1, \"87\": 3, \"69\": 1, \"67\": 1, \"32\": 1, \"39\": 2, \"66\": 1, \"83\": 1, \"21\": 1, \"93\": 2, \"102\": 1, \"117\": 2, \"44\": 2, \"16\": 2, \"122\": 1}, \"31\": {\"31\": 15, \"83\": 1, \"33\": 1, \"93\": 1, \"14\": 1, \"116\": 1}, \"113\": {\"113\": 49, \"117\": 7, \"18\": 4, \"121\": 2, \"109\": 1, \"20\": 2, \"90\": 1, \"26\": 1, \"87\": 1, \"88\": 1, \"21\": 1, \"2\": 1, \"126\": 1}, \"38\": {\"47\": 2, \"38\": 7, \"44\": 3, \"39\": 1, \"126\": 1, \"122\": 1, \"87\": 1}, \"83\": {\"88\": 1, \"25\": 1, \"78\": 1, \"120\": 1, \"83\": 28, \"118\": 2, \"21\": 1, \"44\": 2, \"90\": 1, \"72\": 1, \"125\": 1}, \"49\": {\"49\": 10, \"79\": 1, \"11\": 1, \"86\": 1, \"71\": 1, \"5\": 1, \"127\": 2, \"41\": 1, \"0\": 1, \"3\": 1, \"124\": 1, \"39\": 1, \"30\": 1, \"129\": 1}, \"97\": {\"101\": 1, \"97\": 12, \"15\": 1, \"98\": 1, \"0\": 1, \"127\": 4}, \"76\": {\"76\": 9, \"66\": 1, \"83\": 1, \"45\": 1, \"67\": 1, \"62\": 1, \"60\": 1, \"46\": 1}, \"29\": {\"29\": 24, \"79\": 2, \"19\": 1, \"107\": 1, \"77\": 2, \"122\": 1, \"7\": 1}, \"61\": {\"61\": 19, \"123\": 1}, \"125\": {\"125\": 128, \"27\": 2, \"21\": 1, \"36\": 11, \"94\": 3, \"25\": 1, \"15\": 1, \"106\": 1}, \"126\": {\"63\": 1, \"62\": 6, \"105\": 5, \"16\": 2, \"83\": 3, \"44\": 6, \"1\": 11, \"40\": 1, \"126\": 28, \"26\": 2, \"33\": 3, \"70\": 8, \"73\": 1, \"109\": 4, \"84\": 4, \"88\": 5, \"87\": 4, \"121\": 1, \"71\": 2, \"50\": 1, \"96\": 2, \"66\": 1, \"32\": 1, \"37\": 1, \"15\": 1, \"61\": 1, \"14\": 2, \"95\": 1, \"107\": 1, \"3\": 2, \"78\": 2, \"118\": 2, \"23\": 1, \"43\": 1, \"5\": 1, \"111\": 1, \"122\": 1}, \"55\": {\"55\": 14, \"105\": 1, \"40\": 1}, \"0\": {\"29\": 2, \"0\": 46, \"39\": 1, \"97\": 1, \"79\": 1, \"128\": 1, \"111\": 15, \"54\": 2, \"71\": 2, \"7\": 2, \"24\": 1, \"101\": 4, \"122\": 2, \"30\": 8, \"127\": 6, \"108\": 1, \"98\": 2, \"4\": 2, \"68\": 2, \"77\": 1, \"15\": 1, \"117\": 1, \"113\": 1, \"44\": 1, \"3\": 1, \"114\": 1}, \"15\": {\"0\": 4, \"15\": 63, \"125\": 4, \"101\": 9, \"111\": 6, \"12\": 1, \"90\": 1, \"106\": 7, \"41\": 1, \"6\": 2, \"9\": 1, \"94\": 2, \"18\": 2, \"98\": 1, \"24\": 3, \"25\": 1, \"30\": 3, \"36\": 4, \"97\": 1, \"108\": 2, \"58\": 2}, \"26\": {\"26\": 97, \"99\": 1, \"116\": 1, \"88\": 1, \"87\": 1, \"117\": 11, \"113\": 2, \"39\": 4, \"18\": 8, \"121\": 1, \"69\": 1, \"16\": 2, \"65\": 3, \"2\": 2, \"70\": 1, \"93\": 1, \"109\": 1}, \"63\": {\"63\": 20}, \"57\": {\"57\": 19, \"48\": 1}, \"39\": {\"63\": 4, \"113\": 2, \"39\": 23, \"13\": 1, \"18\": 6, \"88\": 7, \"109\": 7, \"21\": 1, \"26\": 10, \"43\": 3, \"87\": 4, \"62\": 3, \"93\": 10, \"44\": 2, \"1\": 1, \"70\": 6, \"16\": 6, \"69\": 5, \"65\": 1, \"82\": 1, \"40\": 1, \"10\": 1, \"102\": 3, \"90\": 1, \"84\": 1, \"126\": 2}, \"62\": {\"62\": 104, \"55\": 3, \"1\": 1, \"88\": 2, \"44\": 2, \"43\": 3, \"33\": 3, \"40\": 1, \"126\": 2, \"70\": 3, \"114\": 1, \"84\": 1, \"16\": 1, \"123\": 1, \"20\": 1, \"118\": 3, \"119\": 1, \"124\": 1, \"14\": 4, \"26\": 1, \"102\": 1}, \"82\": {\"82\": 24, \"37\": 2, \"83\": 1, \"70\": 1, \"78\": 1, \"116\": 1, \"2\": 1, \"14\": 2, \"126\": 1, \"113\": 1, \"90\": 1}, \"11\": {\"11\": 19, \"127\": 3, \"49\": 1, \"5\": 6, \"73\": 1, \"129\": 2, \"108\": 3, \"12\": 2, \"95\": 1, \"4\": 6, \"98\": 1, \"23\": 1, \"122\": 2, \"111\": 3, \"114\": 2, \"24\": 1, \"17\": 1, \"71\": 4, \"0\": 1, \"107\": 1, \"8\": 2, \"85\": 1, \"103\": 1, \"47\": 1, \"41\": 1, \"128\": 1, \"112\": 1, \"29\": 1, \"78\": 1, \"30\": 2, \"110\": 1, \"43\": 1, \"3\": 2, \"7\": 1, \"126\": 1, \"69\": 1}, \"4\": {\"4\": 38, \"11\": 6, \"104\": 1, \"107\": 1, \"71\": 6, \"7\": 8, \"110\": 1, \"40\": 1, \"5\": 8, \"12\": 2, \"127\": 1, \"3\": 4, \"0\": 1, \"122\": 1, \"68\": 1, \"87\": 1, \"114\": 1, \"8\": 3, \"30\": 1, \"108\": 1, \"43\": 1}, \"41\": {\"129\": 1, \"41\": 13, \"111\": 1, \"127\": 1, \"103\": 1, \"91\": 1, \"5\": 1, \"56\": 1}, \"72\": {\"72\": 13, \"16\": 4, \"83\": 2, \"69\": 2, \"126\": 2, \"14\": 1, \"13\": 1, \"117\": 2, \"88\": 1}, \"16\": {\"82\": 1, \"72\": 2, \"20\": 1, \"16\": 49, \"90\": 7, \"118\": 1, \"69\": 19, \"18\": 2, \"102\": 11, \"87\": 2, \"26\": 5, \"109\": 1, \"88\": 3, \"43\": 1, \"93\": 8, \"39\": 4, \"67\": 1, \"62\": 1, \"81\": 1, \"2\": 1, \"70\": 3}, \"81\": {\"81\": 15, \"2\": 1, \"88\": 1, \"116\": 1, \"0\": 1, \"20\": 1, \"60\": 1, \"117\": 2, \"54\": 1}, \"67\": {\"67\": 7, \"78\": 1, \"84\": 1, \"118\": 1, \"105\": 1, \"55\": 1, \"42\": 1, \"110\": 2, \"33\": 1}, \"123\": {\"123\": 15, \"104\": 1}, \"66\": {\"66\": 17, \"83\": 1, \"78\": 1, \"122\": 1}, \"36\": {\"36\": 64, \"81\": 2, \"51\": 1, \"52\": 1, \"9\": 2, \"15\": 7, \"125\": 10, \"127\": 1, \"96\": 1, \"113\": 1, \"24\": 10, \"27\": 4, \"111\": 2, \"106\": 6, \"6\": 4, \"121\": 2, \"94\": 4, \"98\": 1, \"97\": 1, \"117\": 1, \"18\": 1, \"30\": 1, \"69\": 1}, \"115\": {\"115\": 4, \"5\": 1, \"108\": 2, \"114\": 1, \"41\": 1, \"85\": 1, \"79\": 1, \"26\": 1}, \"77\": {\"77\": 8, \"71\": 2, \"29\": 1, \"103\": 1, \"68\": 1, \"79\": 1, \"0\": 2}, \"119\": {\"119\": 20}, \"65\": {\"26\": 1, \"65\": 17, \"121\": 1, \"81\": 1}, \"34\": {\"42\": 2, \"34\": 12, \"98\": 3, \"15\": 1, \"41\": 1, \"94\": 1, \"32\": 1, \"106\": 1, \"8\": 1, \"12\": 2, \"107\": 2, \"54\": 1, \"86\": 1, \"78\": 1, \"111\": 1, \"30\": 1}, \"107\": {\"42\": 3, \"107\": 32, \"3\": 4, \"65\": 1, \"5\": 2, \"105\": 2, \"109\": 2, \"113\": 2, \"71\": 3, \"40\": 5, \"122\": 2, \"19\": 1, \"4\": 2, \"73\": 1, \"101\": 1, \"43\": 1}, \"13\": {\"13\": 4, \"93\": 2, \"96\": 3, \"2\": 3, \"69\": 1, \"107\": 1, \"81\": 2}, \"110\": {\"25\": 1, \"110\": 14, \"105\": 2, \"86\": 2, \"32\": 1, \"0\": 1, \"2\": 1, \"8\": 1, \"5\": 3, \"95\": 2, \"122\": 1, \"104\": 1, \"129\": 1, \"120\": 1, \"4\": 2, \"126\": 1, \"7\": 1, \"10\": 1, \"107\": 1, \"40\": 1, \"24\": 1}, \"106\": {\"106\": 81, \"25\": 1, \"15\": 7, \"101\": 6, \"6\": 2, \"24\": 6, \"125\": 2, \"27\": 1, \"98\": 2, \"18\": 1, \"127\": 1, \"36\": 1, \"51\": 2, \"108\": 2, \"90\": 1, \"26\": 1, \"94\": 1}, \"89\": {\"89\": 24, \"87\": 1, \"14\": 2, \"96\": 3, \"62\": 1, \"118\": 1, \"46\": 1, \"126\": 1, \"70\": 1, \"82\": 1}, \"94\": {\"98\": 5, \"51\": 2, \"94\": 18, \"117\": 1, \"58\": 1, \"87\": 1, \"15\": 4, \"36\": 5, \"27\": 1, \"111\": 1, \"21\": 1, \"101\": 5, \"16\": 1, \"12\": 1, \"24\": 4, \"40\": 1, \"120\": 1, \"88\": 2, \"90\": 1, \"81\": 1, \"0\": 2, \"125\": 3, \"106\": 2}, \"98\": {\"98\": 60, \"94\": 1, \"115\": 2, \"108\": 5, \"97\": 1, \"83\": 2, \"127\": 4, \"121\": 1, \"71\": 1, \"101\": 9, \"106\": 3, \"125\": 1, \"111\": 5, \"114\": 3, \"69\": 1, \"40\": 1, \"44\": 1, \"21\": 1, \"49\": 1, \"126\": 1, \"29\": 1, \"30\": 3, \"124\": 2, \"0\": 1, \"24\": 1}, \"91\": {\"91\": 18, \"105\": 1, \"30\": 2, \"104\": 2, \"111\": 1, \"49\": 1, \"86\": 1, \"17\": 1, \"54\": 1}, \"84\": {\"84\": 43, \"48\": 1, \"102\": 5, \"40\": 2, \"92\": 1, \"70\": 2, \"14\": 1, \"43\": 4, \"1\": 6, \"126\": 3, \"19\": 2, \"71\": 1, \"87\": 1, \"89\": 1, \"93\": 1, \"33\": 11, \"46\": 1, \"88\": 2, \"105\": 2, \"16\": 1, \"3\": 1}, \"73\": {\"9\": 1, \"73\": 17, \"71\": 2, \"95\": 2, \"86\": 1, \"124\": 1, \"40\": 2, \"107\": 1, \"8\": 1}, \"104\": {\"91\": 2, \"37\": 1, \"16\": 1, \"104\": 10, \"105\": 1, \"122\": 1, \"121\": 1, \"99\": 1, \"129\": 2}, \"59\": {\"91\": 2, \"59\": 4, \"30\": 2, \"68\": 1, \"12\": 2, \"103\": 2, \"128\": 1, \"3\": 1, \"0\": 1}, \"74\": {\"74\": 16}, \"28\": {\"28\": 18, \"93\": 1, \"85\": 1}, \"95\": {\"28\": 1, \"4\": 1, \"60\": 1, \"95\": 19, \"77\": 1, \"40\": 2, \"114\": 1, \"105\": 3, \"73\": 1, \"86\": 2, \"71\": 1, \"5\": 1, \"108\": 1, \"101\": 1}, \"2\": {\"2\": 20, \"87\": 1, \"72\": 1, \"21\": 1, \"26\": 1, \"88\": 1, \"39\": 1, \"96\": 2, \"113\": 2, \"117\": 2}, \"5\": {\"115\": 2, \"5\": 68, \"129\": 4, \"49\": 1, \"11\": 3, \"95\": 1, \"114\": 1, \"113\": 1, \"71\": 3, \"4\": 2, \"7\": 5, \"3\": 6, \"8\": 1, \"42\": 1, \"19\": 1, \"17\": 1, \"12\": 5, \"107\": 1, \"30\": 1, \"24\": 1, \"122\": 1, \"88\": 1, \"117\": 1}, \"50\": {\"50\": 13, \"117\": 1, \"22\": 1, \"62\": 1}, \"109\": {\"88\": 12, \"109\": 65, \"27\": 1, \"21\": 2, \"39\": 4, \"70\": 4, \"16\": 2, \"121\": 1, \"87\": 2, \"118\": 2, \"93\": 4, \"90\": 1}, \"10\": {\"10\": 38, \"78\": 3, \"23\": 2, \"7\": 1, \"113\": 1, \"62\": 1, \"43\": 1, \"70\": 1, \"5\": 1, \"50\": 2, \"117\": 1, \"53\": 1, \"109\": 3, \"126\": 1, \"83\": 1, \"105\": 2}, \"45\": {\"45\": 13, \"89\": 1, \"116\": 1, \"120\": 1}, \"121\": {\"65\": 2, \"121\": 15, \"96\": 1, \"21\": 3, \"18\": 1, \"26\": 1, \"109\": 3, \"120\": 1, \"99\": 6, \"16\": 3}, \"124\": {\"85\": 1, \"124\": 77, \"28\": 1, \"52\": 2, \"98\": 1, \"128\": 1, \"108\": 5, \"11\": 1, \"71\": 4, \"127\": 2, \"114\": 3, \"129\": 1, \"95\": 2, \"42\": 1, \"125\": 1, \"4\": 2, \"111\": 1, \"8\": 2, \"30\": 1, \"40\": 1}, \"53\": {\"85\": 1, \"74\": 1, \"53\": 12, \"88\": 1, \"125\": 1}, \"79\": {\"79\": 16}, \"43\": {\"43\": 29, \"62\": 8, \"83\": 1, \"70\": 8, \"59\": 1, \"14\": 1, \"88\": 7, \"129\": 2, \"33\": 2, \"40\": 9, \"78\": 1, \"110\": 2, \"126\": 3, \"71\": 1, \"109\": 3, \"12\": 1, \"5\": 2, \"26\": 1, \"105\": 5, \"3\": 5, \"122\": 5, \"7\": 2, \"90\": 1, \"115\": 1, \"82\": 1, \"23\": 1, \"1\": 3, \"10\": 1, \"84\": 1, \"24\": 1, \"87\": 1, \"18\": 1, \"106\": 1, \"16\": 1, \"102\": 1}, \"122\": {\"110\": 2, \"122\": 48, \"107\": 3, \"81\": 1, \"0\": 4, \"32\": 3, \"43\": 6, \"105\": 4, \"40\": 4, \"127\": 5, \"19\": 2, \"11\": 2, \"21\": 1, \"17\": 1, \"70\": 2, \"10\": 1, \"5\": 7, \"114\": 2, \"3\": 5, \"18\": 1, \"39\": 1, \"1\": 2, \"12\": 1, \"7\": 9, \"124\": 3, \"108\": 1, \"8\": 6, \"38\": 1, \"62\": 2, \"90\": 1, \"4\": 3, \"44\": 1, \"111\": 1, \"88\": 1, \"24\": 1}, \"100\": {\"100\": 7, \"45\": 2, \"1\": 3, \"44\": 1, \"90\": 1, \"18\": 1, \"93\": 1}, \"19\": {\"19\": 22, \"122\": 2, \"1\": 2, \"80\": 1, \"10\": 1}, \"12\": {\"12\": 33, \"110\": 1, \"111\": 9, \"95\": 1, \"7\": 4, \"127\": 10, \"98\": 4, \"5\": 2, \"19\": 1, \"108\": 6, \"122\": 1, \"124\": 4, \"88\": 1, \"0\": 1, \"8\": 2, \"42\": 1, \"114\": 2, \"11\": 1, \"109\": 1, \"101\": 1, \"39\": 1, \"117\": 1}, \"17\": {\"17\": 9, \"110\": 3, \"4\": 1, \"39\": 1, \"107\": 2}}, \"C_3\": {\"1\": {\"28\": 3, \"1\": 69, \"37\": 1, \"47\": 7, \"57\": 1, \"26\": 1, \"34\": 1, \"0\": 2, \"46\": 1, \"23\": 2, \"5\": 11, \"16\": 1}, \"9\": {\"50\": 1, \"9\": 97, \"54\": 3, \"25\": 6, \"27\": 3, \"3\": 4, \"17\": 3, \"53\": 1, \"46\": 1, \"21\": 2, \"20\": 2, \"48\": 1}, \"22\": {\"22\": 126, \"31\": 1, \"7\": 1, \"13\": 5, \"56\": 2, \"24\": 1}, \"43\": {\"43\": 133, \"11\": 2, \"15\": 1}, \"49\": {\"49\": 20}, \"50\": {\"50\": 57, \"33\": 1, \"51\": 1, \"27\": 10, \"54\": 5, \"30\": 9, \"53\": 5, \"36\": 10, \"21\": 1, \"52\": 3, \"17\": 2, \"29\": 1, \"3\": 2, \"25\": 20, \"9\": 2, \"8\": 3, \"46\": 2, \"48\": 1, \"20\": 3}, \"53\": {\"53\": 117, \"36\": 4, \"32\": 3, \"17\": 9, \"8\": 2, \"27\": 1}, \"10\": {\"10\": 61, \"24\": 2, \"56\": 1}, \"48\": {\"48\": 54, \"30\": 9, \"3\": 3, \"6\": 3, \"28\": 1, \"37\": 2, \"18\": 9, \"41\": 1, \"52\": 11, \"46\": 4, \"50\": 1, \"25\": 6, \"40\": 1, \"23\": 4, \"27\": 1, \"0\": 1, \"29\": 1, \"54\": 1, \"16\": 1, \"17\": 1, \"36\": 1}, \"8\": {\"8\": 125, \"17\": 2, \"36\": 9, \"53\": 1, \"50\": 1}, \"31\": {\"31\": 25, \"49\": 3}, \"56\": {\"56\": 127, \"22\": 5, \"10\": 1, \"24\": 1}, \"25\": {\"50\": 21, \"25\": 67, \"27\": 16, \"17\": 4, \"8\": 3, \"54\": 10, \"36\": 4, \"53\": 3, \"3\": 3, \"19\": 2, \"30\": 5, \"33\": 2, \"9\": 1, \"20\": 1}, \"28\": {\"28\": 27, \"47\": 1}, \"38\": {\"38\": 28}, \"5\": {\"5\": 90, \"41\": 1, \"47\": 2, \"46\": 2, \"16\": 4, \"1\": 3, \"57\": 7, \"23\": 1, \"15\": 1, \"0\": 4, \"35\": 1}, \"12\": {\"38\": 8, \"51\": 6, \"12\": 29, \"20\": 7, \"54\": 2, \"4\": 5, \"8\": 10, \"36\": 7, \"30\": 2, \"32\": 2, \"2\": 4, \"50\": 1, \"17\": 3, \"53\": 5, \"40\": 1}, \"6\": {\"25\": 8, \"51\": 4, \"44\": 2, \"6\": 10, \"28\": 1, \"3\": 7, \"48\": 5, \"46\": 3, \"27\": 3, \"30\": 3, \"18\": 3, \"0\": 1, \"8\": 1, \"21\": 2, \"47\": 1, \"9\": 2, \"17\": 8, \"50\": 7, \"23\": 1, \"20\": 7, \"54\": 1, \"5\": 1, \"40\": 3, \"53\": 2, \"11\": 1, \"57\": 1}, \"19\": {\"19\": 137, \"40\": 7, \"44\": 6, \"4\": 2}, \"26\": {\"26\": 21, \"46\": 1, \"39\": 1, \"41\": 1}, \"32\": {\"32\": 27, \"17\": 1}, \"33\": {\"25\": 3, \"17\": 2, \"33\": 17, \"6\": 1, \"27\": 1, \"20\": 1, \"54\": 1, \"32\": 1, \"53\": 1}, \"3\": {\"6\": 3, \"33\": 1, \"20\": 4, \"36\": 7, \"3\": 28, \"46\": 1, \"53\": 1, \"30\": 9, \"52\": 3, \"27\": 14, \"54\": 7, \"17\": 5, \"50\": 14, \"5\": 1, \"18\": 2, \"25\": 8, \"57\": 1, \"48\": 4, \"29\": 2, \"40\": 1, \"8\": 2}, \"51\": {\"38\": 5, \"51\": 64, \"8\": 15, \"25\": 1, \"53\": 21, \"20\": 8, \"50\": 3, \"17\": 5, \"36\": 4, \"2\": 1, \"27\": 1}, \"16\": {\"26\": 3, \"16\": 126, \"23\": 3, \"57\": 3, \"39\": 1, \"15\": 1, \"5\": 1}, \"46\": {\"46\": 47, \"6\": 2, \"48\": 12, \"37\": 4, \"38\": 1, \"23\": 12, \"18\": 4, \"34\": 1, \"26\": 3, \"20\": 2, \"52\": 10, \"11\": 1, \"30\": 5, \"25\": 2, \"5\": 1, \"29\": 7, \"57\": 2, \"8\": 1, \"55\": 2, \"3\": 8, \"0\": 2, \"15\": 3, \"50\": 3, \"27\": 1, \"35\": 1, \"1\": 1, \"43\": 1, \"51\": 1}, \"7\": {\"7\": 36}, \"47\": {\"47\": 68, \"15\": 6, \"11\": 2, \"0\": 6, \"5\": 7, \"1\": 3}, \"39\": {\"37\": 1, \"39\": 13, \"18\": 1, \"23\": 1}, \"40\": {\"40\": 120, \"4\": 11, \"9\": 4, \"53\": 1}, \"14\": {\"14\": 21, \"7\": 3, \"11\": 2, \"49\": 2, \"10\": 4, \"1\": 1, \"56\": 3, \"13\": 1, \"42\": 1, \"28\": 1, \"24\": 1}, \"37\": {\"37\": 28}, \"2\": {\"2\": 22, \"54\": 1, \"51\": 5, \"38\": 1, \"27\": 2, \"6\": 1}, \"21\": {\"21\": 90, \"46\": 5, \"20\": 4, \"2\": 2, \"4\": 2, \"25\": 1, \"36\": 1, \"29\": 1, \"40\": 1, \"18\": 1, \"3\": 3, \"6\": 2, \"51\": 2, \"48\": 1, \"12\": 1, \"9\": 1, \"50\": 1, \"53\": 1}, \"35\": {\"35\": 28}, \"54\": {\"54\": 100}, \"52\": {\"52\": 82, \"18\": 5, \"48\": 11, \"23\": 6, \"46\": 8, \"37\": 1, \"3\": 2, \"41\": 1}, \"29\": {\"29\": 104, \"30\": 4, \"48\": 2, \"3\": 3, \"18\": 1, \"9\": 1, \"27\": 1, \"40\": 1, \"20\": 1}, \"20\": {\"36\": 10, \"27\": 7, \"18\": 5, \"17\": 9, \"54\": 5, \"51\": 6, \"30\": 14, \"20\": 40, \"53\": 12, \"3\": 4, \"8\": 6, \"25\": 2, \"48\": 5, \"50\": 4, \"6\": 1, \"38\": 2}, \"18\": {\"18\": 59, \"48\": 10, \"20\": 3, \"53\": 1, \"46\": 1, \"50\": 1, \"30\": 4, \"52\": 4, \"36\": 1}, \"11\": {\"11\": 131, \"15\": 9, \"43\": 2}, \"0\": {\"0\": 115, \"28\": 1, \"15\": 4, \"57\": 1, \"5\": 3}, \"36\": {\"36\": 100}, \"17\": {\"17\": 95, \"38\": 2, \"27\": 7, \"36\": 2, \"53\": 2}, \"30\": {\"54\": 9, \"18\": 6, \"30\": 44, \"25\": 4, \"27\": 4, \"38\": 3, \"48\": 3, \"50\": 12, \"20\": 2, \"36\": 9, \"17\": 5, \"8\": 5, \"3\": 5, \"53\": 1, \"52\": 1, \"33\": 1}, \"42\": {\"42\": 23, \"29\": 1, \"28\": 4}, \"45\": {\"19\": 3, \"4\": 6, \"45\": 32, \"36\": 1, \"6\": 1, \"2\": 1, \"12\": 2, \"53\": 1, \"44\": 2, \"9\": 4, \"20\": 2, \"51\": 1, \"17\": 1, \"8\": 1, \"40\": 2}, \"4\": {\"4\": 135, \"12\": 2, \"19\": 1, \"9\": 6, \"54\": 1, \"20\": 1, \"44\": 1, \"40\": 1}, \"23\": {\"39\": 2, \"23\": 121, \"52\": 8, \"46\": 1, \"15\": 1, \"11\": 1}, \"13\": {\"13\": 122, \"10\": 1, \"14\": 1, \"22\": 1, \"24\": 3}, \"15\": {\"47\": 3, \"15\": 114, \"0\": 7, \"13\": 2, \"43\": 1, \"5\": 1}, \"57\": {\"57\": 112, \"46\": 1, \"41\": 1, \"35\": 1, \"52\": 1, \"16\": 3, \"23\": 4, \"5\": 1}, \"27\": {\"17\": 8, \"27\": 120, \"53\": 2, \"36\": 2, \"50\": 2}, \"44\": {\"44\": 68, \"19\": 8, \"4\": 1, \"40\": 10, \"50\": 1}, \"34\": {\"34\": 31, \"28\": 1}, \"41\": {\"41\": 23, \"37\": 1, \"0\": 2, \"52\": 2}, \"24\": {\"13\": 7, \"24\": 95, \"56\": 1, \"10\": 1}, \"55\": {\"55\": 84, \"43\": 2, \"47\": 2, \"24\": 1, \"19\": 2, \"22\": 9, \"13\": 9, \"11\": 4, \"7\": 1, \"14\": 2, \"46\": 1, \"40\": 1}}, \"W_3\": {\"38\": {\"38\": 13, \"32\": 1, \"104\": 1, \"110\": 1}, \"88\": {\"104\": 2, \"38\": 1, \"22\": 1, \"39\": 5, \"88\": 23, \"9\": 5, \"94\": 1, \"21\": 6, \"110\": 3, \"34\": 1, \"40\": 1, \"102\": 2, \"86\": 1, \"109\": 3, \"84\": 2, \"105\": 1, \"118\": 3, \"122\": 2, \"12\": 2, \"11\": 3, \"114\": 4, \"87\": 2, \"90\": 3, \"111\": 1, \"108\": 3, \"1\": 6, \"107\": 2, \"113\": 1, \"33\": 1, \"48\": 1, \"28\": 1, \"101\": 1, \"43\": 2, \"8\": 2, \"128\": 1, \"70\": 2, \"93\": 2, \"14\": 1, \"30\": 1, \"10\": 2, \"4\": 1, \"16\": 3, \"117\": 1}, \"104\": {\"104\": 13, \"55\": 1, \"1\": 1, \"40\": 1}, \"11\": {\"109\": 13, \"14\": 5, \"120\": 2, \"16\": 7, \"57\": 1, \"11\": 47, \"43\": 2, \"21\": 1, \"93\": 6, \"102\": 5, \"88\": 7, \"126\": 4, \"110\": 1, \"62\": 7, \"90\": 7, \"87\": 3, \"107\": 1, \"26\": 3, \"39\": 2, \"33\": 7, \"31\": 1, \"92\": 1, \"89\": 1, \"118\": 2, \"117\": 1, \"29\": 1, \"84\": 1, \"40\": 1}, \"103\": {\"3\": 2, \"103\": 10, \"28\": 1, \"91\": 1, \"52\": 1, \"23\": 1}, \"124\": {\"124\": 69, \"85\": 1, \"71\": 3, \"108\": 4, \"34\": 4, \"9\": 1, \"12\": 3, \"8\": 7, \"0\": 1, \"105\": 3, \"3\": 1, \"7\": 1, \"36\": 1, \"4\": 3, \"52\": 1, \"101\": 1, \"5\": 1, \"127\": 2, \"98\": 4, \"30\": 1, \"24\": 1, \"88\": 3}, \"3\": {\"3\": 65, \"1\": 1, \"46\": 2, \"16\": 1, \"19\": 1, \"112\": 1, \"5\": 10, \"71\": 3, \"7\": 11, \"12\": 2, \"4\": 12, \"117\": 1, \"27\": 1, \"127\": 1, \"124\": 1, \"99\": 1, \"23\": 1, \"113\": 1}, \"74\": {\"74\": 12, \"10\": 1, \"87\": 2, \"25\": 1}, \"126\": {\"126\": 54, \"109\": 7, \"64\": 1, \"113\": 9, \"81\": 1, \"117\": 15, \"18\": 9, \"39\": 9, \"88\": 2, \"26\": 5, \"11\": 1, \"121\": 2, \"17\": 1, \"43\": 2, \"21\": 1, \"93\": 1, \"16\": 2}, \"123\": {\"123\": 14, \"82\": 1, \"61\": 1}, \"51\": {\"51\": 13, \"98\": 1, \"58\": 1, \"111\": 1}, \"14\": {\"14\": 63, \"50\": 1, \"11\": 2, \"62\": 2, \"107\": 1, \"87\": 3, \"10\": 1, \"16\": 1, \"28\": 1, \"116\": 1, \"69\": 1, \"84\": 2, \"93\": 1}, \"16\": {\"16\": 50, \"109\": 3, \"43\": 2, \"44\": 3, \"90\": 3, \"93\": 6, \"102\": 15, \"33\": 9, \"118\": 6, \"84\": 2, \"69\": 3, \"11\": 4, \"113\": 1, \"67\": 1, \"92\": 1, \"13\": 1, \"62\": 2, \"107\": 1, \"18\": 1, \"14\": 1, \"88\": 1}, \"22\": {\"38\": 1, \"22\": 11, \"90\": 2, \"14\": 1, \"104\": 1}, \"109\": {\"109\": 69, \"93\": 8, \"120\": 1, \"92\": 4, \"113\": 3, \"11\": 4, \"88\": 3, \"62\": 4, \"69\": 5, \"102\": 1, \"16\": 8, \"26\": 2, \"126\": 1, \"39\": 3, \"96\": 1, \"33\": 1, \"2\": 1, \"21\": 1, \"84\": 1, \"90\": 1}, \"27\": {\"51\": 1, \"27\": 36, \"94\": 4, \"72\": 1, \"56\": 1, \"49\": 1, \"15\": 8, \"106\": 5, \"101\": 2, \"125\": 6, \"98\": 4, \"5\": 1, \"111\": 4, \"36\": 3, \"124\": 4, \"114\": 1, \"12\": 2, \"54\": 2, \"6\": 1, \"1\": 1, \"34\": 2, \"108\": 2, \"73\": 1, \"30\": 1, \"93\": 1, \"127\": 1}, \"75\": {\"6\": 1, \"75\": 14, \"54\": 1}, \"66\": {\"50\": 1, \"104\": 1, \"66\": 11, \"99\": 1, \"70\": 1, \"41\": 1}, \"48\": {\"53\": 1, \"23\": 1, \"86\": 2, \"99\": 2, \"105\": 1, \"20\": 1, \"48\": 2, \"40\": 1, \"82\": 1, \"116\": 1, \"96\": 1, \"65\": 2}, \"6\": {\"6\": 27, \"51\": 1, \"25\": 2, \"15\": 1, \"59\": 1}, \"10\": {\"10\": 57, \"101\": 1, \"11\": 1, \"95\": 5, \"4\": 5, \"70\": 1, \"99\": 2, \"110\": 4, \"21\": 1, \"7\": 7, \"127\": 7, \"30\": 2, \"8\": 2, \"108\": 1, \"40\": 3, \"62\": 2, \"109\": 4, \"35\": 1, \"19\": 1, \"5\": 1, \"86\": 1, \"105\": 2, \"88\": 1}, \"99\": {\"99\": 29, \"86\": 1, \"54\": 1, \"19\": 1, \"10\": 1, \"5\": 2, \"3\": 1}, \"50\": {\"50\": 14, \"62\": 1, \"32\": 1}, \"54\": {\"54\": 14, \"27\": 1, \"75\": 1}, \"55\": {\"55\": 14, \"50\": 1, \"1\": 1}, \"53\": {\"53\": 15, \"107\": 2, \"119\": 1, \"108\": 1, \"20\": 1}, \"72\": {\"72\": 20, \"111\": 2, \"12\": 1, \"51\": 1, \"83\": 2, \"52\": 1, \"37\": 1}, \"64\": {\"64\": 17, \"120\": 3}, \"115\": {\"126\": 1, \"115\": 7, \"87\": 5, \"19\": 1, \"13\": 1, \"14\": 1}, \"23\": {\"126\": 2, \"23\": 6, \"121\": 3, \"30\": 1, \"17\": 1, \"2\": 2, \"89\": 1, \"93\": 1, \"70\": 1, \"48\": 2, \"31\": 1, \"19\": 1, \"99\": 1, \"14\": 1, \"7\": 1, \"95\": 1, \"8\": 2, \"86\": 1, \"118\": 1, \"39\": 1, \"10\": 1}, \"32\": {\"32\": 9, \"57\": 1, \"128\": 2, \"107\": 1, \"102\": 1, \"87\": 1, \"88\": 3, \"45\": 1, \"29\": 2, \"78\": 1, \"11\": 1, \"50\": 1, \"82\": 1, \"90\": 3, \"33\": 2, \"99\": 1, \"89\": 1}, \"15\": {\"15\": 61, \"94\": 4, \"37\": 2, \"52\": 2, \"6\": 1, \"92\": 1, \"106\": 5, \"108\": 1, \"101\": 1, \"36\": 9, \"111\": 5, \"30\": 1, \"7\": 1, \"117\": 1, \"39\": 1, \"58\": 1, \"24\": 2, \"8\": 1, \"12\": 2, \"98\": 2}, \"43\": {\"43\": 11, \"13\": 1, \"69\": 3, \"93\": 1, \"33\": 3, \"102\": 1, \"89\": 1, \"16\": 4, \"62\": 2, \"44\": 1, \"116\": 1, \"21\": 5, \"109\": 4, \"110\": 1, \"118\": 3, \"84\": 1, \"92\": 3, \"121\": 1, \"80\": 1, \"120\": 3, \"39\": 1, \"26\": 1, \"18\": 1, \"90\": 2}, \"114\": {\"114\": 65, \"8\": 1, \"87\": 3, \"40\": 4, \"110\": 2, \"46\": 1, \"34\": 1, \"49\": 1, \"108\": 4, \"5\": 7, \"18\": 1, \"1\": 3, \"4\": 10, \"71\": 2, \"3\": 3, \"126\": 1, \"30\": 1, \"107\": 6, \"53\": 2, \"88\": 1, \"9\": 2, \"105\": 3}, \"121\": {\"64\": 2, \"81\": 2, \"93\": 1, \"121\": 11, \"89\": 1, \"43\": 2, \"80\": 2, \"18\": 1, \"21\": 1, \"117\": 1, \"126\": 1, \"118\": 1, \"120\": 1, \"45\": 1, \"26\": 1, \"67\": 1, \"96\": 2}, \"79\": {\"79\": 10, \"107\": 1, \"82\": 1}, \"81\": {\"81\": 32}, \"8\": {\"8\": 44, \"86\": 1, \"112\": 1, \"52\": 1, \"122\": 1, \"108\": 6, \"127\": 8, \"12\": 3, \"7\": 5, \"73\": 1, \"15\": 1, \"98\": 9, \"105\": 4, \"4\": 6, \"124\": 14, \"3\": 2, \"114\": 3, \"111\": 3, \"36\": 3, \"68\": 2, \"72\": 1, \"78\": 1, \"0\": 3, \"10\": 2, \"5\": 2, \"40\": 1}, \"13\": {\"43\": 3, \"96\": 3, \"57\": 1, \"18\": 1, \"16\": 1, \"102\": 1, \"33\": 1, \"13\": 3, \"61\": 1, \"109\": 1}, \"90\": {\"32\": 1, \"90\": 77, \"23\": 1, \"33\": 7, \"11\": 16, \"89\": 3, \"116\": 2, \"43\": 1, \"69\": 8, \"62\": 7, \"84\": 2, \"107\": 1, \"60\": 1, \"40\": 3, \"87\": 9, \"88\": 1, \"110\": 1, \"16\": 3, \"28\": 2, \"31\": 1, \"82\": 2, \"129\": 2, \"118\": 2, \"29\": 1, \"93\": 1, \"102\": 1}, \"41\": {\"43\": 1, \"8\": 1, \"95\": 1, \"41\": 9, \"97\": 1, \"101\": 1, \"42\": 2}, \"107\": {\"107\": 79, \"82\": 1, \"89\": 1, \"84\": 6, \"88\": 2, \"70\": 1, \"114\": 5, \"14\": 5, \"40\": 16, \"87\": 3, \"11\": 3, \"90\": 2, \"5\": 1, \"105\": 1, \"1\": 1, \"69\": 1, \"129\": 1, \"122\": 1, \"29\": 2, \"8\": 2, \"62\": 1, \"33\": 1}, \"57\": {\"57\": 20}, \"33\": {\"69\": 9, \"102\": 13, \"33\": 78, \"118\": 3, \"93\": 2, \"90\": 1, \"16\": 3, \"11\": 5, \"62\": 1, \"92\": 1, \"29\": 1, \"84\": 1, \"107\": 1, \"14\": 1}, \"35\": {\"86\": 1, \"35\": 9, \"0\": 1, \"55\": 1}, \"29\": {\"29\": 21, \"69\": 1, \"84\": 1, \"114\": 1, \"129\": 1, \"107\": 3, \"88\": 1, \"90\": 1, \"122\": 1, \"60\": 1}, \"70\": {\"99\": 1, \"43\": 1, \"50\": 2, \"127\": 4, \"95\": 1, \"88\": 6, \"118\": 1, \"12\": 2, \"4\": 3, \"26\": 1, \"70\": 13, \"21\": 2, \"0\": 2, \"105\": 4, \"27\": 1, \"128\": 1, \"71\": 3, \"7\": 4, \"8\": 2, \"108\": 1, \"57\": 1, \"68\": 1, \"41\": 2, \"19\": 1, \"55\": 1, \"34\": 1, \"5\": 4, \"113\": 1, \"98\": 1, \"126\": 1, \"3\": 1, \"124\": 1, \"114\": 1}, \"42\": {\"43\": 1, \"86\": 1, \"114\": 1, \"97\": 1, \"42\": 10, \"83\": 1, \"99\": 1, \"15\": 2, \"127\": 1, \"72\": 1, \"122\": 1, \"58\": 1, \"94\": 2, \"117\": 1, \"124\": 1, \"98\": 1, \"73\": 1}, \"93\": {\"69\": 1, \"93\": 87, \"117\": 2, \"28\": 1, \"11\": 4, \"21\": 2, \"92\": 2, \"126\": 2, \"16\": 4, \"109\": 7, \"118\": 2, \"87\": 1, \"39\": 2, \"88\": 2, \"102\": 3, \"14\": 1, \"33\": 3}, \"86\": {\"42\": 1, \"1\": 1, \"19\": 3, \"105\": 2, \"86\": 8, \"95\": 3, \"127\": 1, \"4\": 1, \"55\": 1, \"7\": 1, \"114\": 1, \"5\": 2, \"23\": 1, \"103\": 1, \"122\": 1}, \"28\": {\"28\": 14, \"70\": 1, \"88\": 1}, \"1\": {\"29\": 1, \"1\": 56, \"129\": 4, \"55\": 2, \"114\": 3, \"9\": 1, \"4\": 3, \"40\": 10, \"88\": 2, \"100\": 1, \"70\": 1, \"105\": 7, \"26\": 1, \"110\": 5, \"5\": 2, \"84\": 1, \"87\": 2, \"122\": 2, \"101\": 1, \"127\": 2, \"113\": 1}, \"125\": {\"125\": 106, \"36\": 6, \"44\": 1, \"94\": 2, \"106\": 1, \"25\": 1, \"75\": 3, \"118\": 1, \"24\": 1, \"27\": 2}, \"69\": {\"69\": 61, \"33\": 4, \"76\": 1, \"90\": 2, \"26\": 1, \"113\": 1, \"102\": 5, \"11\": 1, \"93\": 1, \"82\": 2, \"16\": 1, \"39\": 2, \"62\": 2}, \"97\": {\"97\": 11, \"42\": 1, \"106\": 1, \"83\": 1, \"47\": 1, \"6\": 2, \"24\": 1, \"0\": 1, \"101\": 1}, \"117\": {\"113\": 5, \"117\": 96, \"39\": 5, \"26\": 2, \"126\": 4}, \"68\": {\"30\": 2, \"68\": 12, \"95\": 1, \"12\": 1}, \"30\": {\"68\": 2, \"111\": 7, \"30\": 15, \"58\": 2, \"46\": 1, \"83\": 2, \"98\": 6, \"36\": 4, \"95\": 2, \"9\": 1, \"12\": 3, \"7\": 3, \"73\": 2, \"8\": 4, \"88\": 1, \"15\": 5, \"0\": 5, \"124\": 1, \"117\": 1, \"97\": 1, \"49\": 1, \"108\": 1, \"37\": 1, \"59\": 1, \"72\": 1, \"91\": 1, \"21\": 1, \"99\": 1, \"34\": 1, \"24\": 3, \"5\": 1, \"106\": 2, \"126\": 1}, \"111\": {\"68\": 1, \"111\": 105, \"37\": 2, \"101\": 1, \"73\": 2, \"98\": 3, \"27\": 2, \"12\": 5, \"0\": 1, \"30\": 3, \"51\": 1, \"124\": 2, \"24\": 1, \"15\": 1, \"36\": 1, \"8\": 1}, \"47\": {\"47\": 11, \"99\": 1}, \"102\": {\"33\": 8, \"102\": 88, \"16\": 6, \"90\": 1, \"69\": 6, \"93\": 4, \"87\": 1, \"118\": 1, \"84\": 2, \"89\": 2, \"43\": 1, \"11\": 2, \"62\": 1, \"39\": 1}, \"65\": {\"65\": 10, \"10\": 1, \"77\": 1}, \"113\": {\"113\": 43, \"117\": 8, \"26\": 4, \"81\": 1, \"39\": 9, \"18\": 23, \"92\": 1, \"96\": 1, \"21\": 1, \"106\": 1, \"118\": 4, \"126\": 5, \"109\": 7, \"16\": 1, \"33\": 1, \"121\": 1, \"64\": 1, \"63\": 1, \"73\": 1, \"11\": 2, \"14\": 1, \"93\": 2, \"98\": 1}, \"36\": {\"111\": 9, \"36\": 49, \"94\": 14, \"95\": 1, \"30\": 1, \"15\": 7, \"12\": 4, \"98\": 3, \"73\": 1, \"3\": 1, \"0\": 6, \"27\": 7, \"125\": 3, \"8\": 1, \"42\": 1, \"54\": 2, \"106\": 2, \"126\": 1, \"7\": 1}, \"119\": {\"102\": 2, \"119\": 8, \"63\": 1, \"116\": 1, \"90\": 3, \"113\": 1}, \"46\": {\"103\": 1, \"46\": 12, \"114\": 1, \"110\": 1, \"41\": 1}, \"49\": {\"1\": 2, \"23\": 1, \"20\": 1, \"101\": 1, \"93\": 1, \"19\": 2, \"91\": 2, \"7\": 1, \"49\": 3, \"95\": 2, \"125\": 1, \"40\": 1, \"87\": 1, \"80\": 1, \"75\": 1, \"58\": 1, \"92\": 1, \"46\": 1}, \"0\": {\"58\": 1, \"0\": 48, \"106\": 5, \"83\": 3, \"7\": 8, \"73\": 4, \"6\": 2, \"37\": 1, \"12\": 2, \"95\": 2, \"111\": 6, \"30\": 5, \"127\": 4, \"98\": 3, \"15\": 6, \"113\": 1, \"5\": 2, \"3\": 2, \"35\": 1, \"65\": 1, \"59\": 1, \"101\": 1, \"124\": 1, \"19\": 1, \"86\": 1, \"36\": 1, \"8\": 2, \"24\": 1}, \"58\": {\"0\": 1, \"58\": 12, \"24\": 1, \"15\": 1, \"72\": 1}, \"63\": {\"63\": 6, \"119\": 1, \"117\": 1, \"39\": 2, \"61\": 3, \"18\": 2, \"113\": 1}, \"94\": {\"58\": 1, \"72\": 2, \"94\": 57, \"59\": 1, \"36\": 5, \"106\": 8, \"110\": 1, \"27\": 1, \"15\": 3, \"6\": 1, \"24\": 1, \"98\": 1, \"125\": 2}, \"17\": {\"49\": 1, \"17\": 3, \"39\": 2, \"76\": 1, \"120\": 1, \"113\": 1, \"127\": 1, \"32\": 1, \"89\": 1, \"116\": 1, \"126\": 1, \"86\": 1, \"121\": 1}, \"9\": {\"38\": 1, \"105\": 3, \"9\": 20, \"1\": 2, \"40\": 1, \"110\": 3, \"118\": 1, \"5\": 1}, \"87\": {\"87\": 35, \"120\": 1, \"128\": 2, \"122\": 3, \"44\": 4, \"9\": 1, \"110\": 5, \"100\": 2, \"124\": 1, \"32\": 2, \"11\": 4, \"40\": 6, \"1\": 1, \"107\": 5, \"60\": 2, \"90\": 4, \"84\": 6, \"101\": 1, \"70\": 2, \"14\": 4, \"16\": 1, \"102\": 1, \"8\": 2, \"114\": 6, \"3\": 1, \"62\": 5, \"53\": 1, \"64\": 1, \"48\": 1, \"129\": 1, \"43\": 1, \"109\": 2, \"88\": 4, \"127\": 1, \"4\": 1}, \"59\": {\"111\": 1, \"59\": 8, \"98\": 1, \"6\": 1, \"0\": 1}, \"105\": {\"105\": 83, \"4\": 8, \"49\": 1, \"107\": 1, \"3\": 2, \"108\": 2, \"1\": 3, \"110\": 3, \"114\": 6, \"40\": 3, \"5\": 3, \"122\": 1, \"99\": 2, \"86\": 1, \"127\": 1}, \"80\": {\"80\": 6, \"33\": 1, \"74\": 1, \"122\": 1, \"102\": 3, \"31\": 1, \"43\": 2, \"116\": 1}, \"120\": {\"120\": 15, \"78\": 1, \"118\": 1, \"109\": 1, \"57\": 1, \"64\": 1}, \"18\": {\"81\": 1, \"18\": 109, \"2\": 1, \"121\": 1, \"11\": 1, \"26\": 4, \"126\": 4, \"118\": 2, \"113\": 2, \"102\": 1, \"117\": 4, \"43\": 1, \"88\": 1}, \"78\": {\"81\": 1, \"78\": 4, \"109\": 1, \"4\": 1, \"21\": 1, \"28\": 1, \"83\": 1, \"101\": 1, \"118\": 1, \"100\": 1, \"32\": 1, \"96\": 1, \"90\": 1}, \"25\": {\"25\": 15, \"75\": 1}, \"19\": {\"19\": 11, \"104\": 1, \"127\": 1, \"5\": 2, \"101\": 1, \"115\": 1, \"56\": 1, \"95\": 1, \"50\": 2, \"14\": 1, \"42\": 2, \"110\": 1, \"1\": 2, \"8\": 1, \"65\": 1, \"99\": 1, \"91\": 1, \"103\": 1}, \"122\": {\"122\": 19, \"105\": 4, \"81\": 1, \"57\": 1, \"55\": 2, \"40\": 3, \"11\": 2, \"60\": 1, \"92\": 1, \"110\": 1, \"62\": 1, \"86\": 2, \"70\": 1, \"1\": 1, \"19\": 3, \"10\": 2, \"129\": 1, \"7\": 1, \"88\": 4, \"118\": 1, \"28\": 1, \"45\": 1, \"121\": 1, \"74\": 1, \"21\": 1, \"29\": 1, \"113\": 1, \"39\": 1}, \"39\": {\"120\": 1, \"39\": 45, \"81\": 1, \"17\": 1, \"80\": 1, \"113\": 13, \"121\": 2, \"57\": 2, \"21\": 1, \"31\": 1, \"26\": 2, \"118\": 4, \"126\": 6, \"109\": 9, \"117\": 6, \"93\": 2, \"88\": 6, \"92\": 1, \"16\": 4}, \"76\": {\"76\": 13, \"89\": 1, \"2\": 1, \"64\": 1}, \"89\": {\"89\": 20, \"76\": 1, \"90\": 2, \"69\": 1, \"116\": 1, \"11\": 2, \"118\": 1}, \"129\": {\"129\": 8, \"19\": 1, \"11\": 1, \"90\": 1, \"107\": 3, \"127\": 1, \"84\": 1, \"122\": 1, \"110\": 1, \"1\": 3, \"70\": 1, \"87\": 3, \"99\": 1, \"46\": 1, \"105\": 3, \"14\": 1, \"40\": 1}, \"26\": {\"80\": 1, \"26\": 71, \"81\": 3, \"11\": 1, \"117\": 11, \"118\": 4, \"113\": 3, \"18\": 3, \"50\": 1, \"62\": 1, \"93\": 1}, \"85\": {\"85\": 25, \"24\": 1, \"34\": 2, \"111\": 1, \"72\": 2, \"94\": 2, \"83\": 1, \"8\": 1, \"108\": 1}, \"71\": {\"71\": 34, \"124\": 4, \"129\": 1, \"95\": 1, \"42\": 1, \"27\": 1, \"24\": 2, \"108\": 2, \"70\": 1, \"18\": 1, \"7\": 2, \"8\": 5, \"30\": 2, \"114\": 1, \"98\": 1, \"12\": 3, \"113\": 1, \"127\": 1, \"5\": 3, \"3\": 1}, \"77\": {\"77\": 13, \"9\": 1, \"65\": 2}, \"128\": {\"128\": 11, \"74\": 1, \"7\": 2, \"110\": 1, \"23\": 1, \"32\": 3, \"86\": 2, \"10\": 3, \"95\": 1, \"46\": 1, \"55\": 1, \"108\": 1, \"88\": 1, \"4\": 1, \"19\": 1, \"122\": 1}, \"2\": {\"26\": 2, \"2\": 17, \"92\": 1, \"113\": 2, \"109\": 3, \"117\": 2, \"21\": 1}, \"56\": {\"56\": 9, \"95\": 3}, \"24\": {\"54\": 2, \"75\": 2, \"24\": 9, \"101\": 2, \"30\": 5, \"7\": 2, \"27\": 7, \"106\": 2, \"94\": 1, \"12\": 1, \"3\": 1, \"111\": 2, \"68\": 1, \"98\": 1, \"91\": 1, \"124\": 2, \"73\": 1, \"15\": 2, \"125\": 1, \"114\": 1, \"8\": 1, \"36\": 1}, \"101\": {\"2\": 2, \"70\": 1, \"58\": 3, \"101\": 22, \"0\": 8, \"12\": 2, \"91\": 1, \"111\": 4, \"26\": 1, \"30\": 3, \"97\": 1, \"7\": 1, \"99\": 1, \"124\": 1, \"127\": 1}, \"52\": {\"52\": 10, \"72\": 2, \"112\": 1, \"58\": 2, \"98\": 1}, \"84\": {\"29\": 1, \"14\": 2, \"121\": 1, \"129\": 2, \"107\": 10, \"84\": 48, \"115\": 1, \"16\": 2, \"1\": 2, \"44\": 2, \"40\": 6, \"33\": 3, \"87\": 3, \"88\": 1, \"102\": 3, \"117\": 1, \"11\": 3, \"108\": 1, \"69\": 3, \"43\": 1, \"82\": 2, \"71\": 1, \"122\": 2, \"105\": 2, \"110\": 3, \"118\": 1, \"90\": 1}, \"7\": {\"7\": 87, \"19\": 1, \"48\": 1, \"68\": 1, \"127\": 7, \"3\": 4, \"5\": 4, \"117\": 1, \"70\": 1, \"8\": 1, \"126\": 1, \"101\": 1, \"121\": 1, \"105\": 1}, \"82\": {\"82\": 14, \"69\": 1, \"96\": 1, \"118\": 1, \"29\": 1, \"14\": 1, \"44\": 1, \"100\": 1, \"122\": 1, \"11\": 1, \"48\": 1, \"40\": 2, \"55\": 1, \"110\": 1}, \"60\": {\"20\": 1, \"122\": 2, \"34\": 2, \"50\": 1, \"60\": 12, \"62\": 1, \"9\": 2, \"90\": 1, \"40\": 1, \"43\": 1, \"110\": 1, \"4\": 1, \"70\": 1, \"44\": 1}, \"45\": {\"64\": 1, \"45\": 11, \"18\": 1, \"87\": 1, \"11\": 1, \"117\": 1}, \"40\": {\"122\": 5, \"40\": 68, \"84\": 2, \"1\": 9, \"87\": 5, \"105\": 5, \"107\": 12, \"114\": 5, \"60\": 1, \"14\": 1, \"4\": 1, \"62\": 1, \"88\": 1, \"124\": 1, \"82\": 2, \"104\": 1, \"29\": 1, \"110\": 1, \"8\": 1, \"5\": 1}, \"20\": {\"20\": 13, \"66\": 1, \"116\": 2}, \"4\": {\"9\": 2, \"71\": 3, \"10\": 1, \"44\": 1, \"4\": 39, \"86\": 1, \"108\": 3, \"7\": 6, \"105\": 7, \"3\": 8, \"5\": 6, \"127\": 7, \"114\": 2, \"40\": 4, \"19\": 1, \"128\": 1, \"1\": 1, \"8\": 3}, \"116\": {\"45\": 2, \"64\": 1, \"11\": 1, \"116\": 9, \"92\": 2, \"107\": 1, \"69\": 1, \"16\": 1, \"89\": 1, \"118\": 1, \"76\": 1, \"119\": 1, \"14\": 3, \"53\": 1, \"90\": 1, \"20\": 1}, \"61\": {\"61\": 15, \"102\": 1}, \"5\": {\"5\": 71, \"127\": 8, \"97\": 1, \"3\": 8, \"46\": 1, \"19\": 1, \"7\": 6, \"12\": 1, \"1\": 1, \"8\": 3, \"124\": 1, \"95\": 1, \"34\": 1, \"114\": 1, \"105\": 2, \"71\": 1, \"118\": 1, \"108\": 1, \"4\": 1, \"126\": 1}, \"106\": {\"42\": 2, \"106\": 67, \"98\": 3, \"102\": 1, \"94\": 4, \"15\": 6, \"24\": 4, \"73\": 3, \"125\": 1, \"75\": 2, \"36\": 3, \"30\": 2, \"27\": 2}, \"12\": {\"12\": 65, \"98\": 5, \"8\": 4, \"51\": 1, \"0\": 5, \"127\": 2, \"3\": 3, \"124\": 3, \"111\": 6, \"30\": 2, \"4\": 2, \"68\": 1, \"42\": 1, \"46\": 1, \"71\": 1, \"101\": 1, \"36\": 1}, \"62\": {\"62\": 94, \"69\": 1, \"14\": 7, \"88\": 4, \"21\": 1, \"84\": 2, \"87\": 3, \"11\": 2, \"92\": 1, \"109\": 1, \"110\": 1, \"39\": 1, \"107\": 1, \"93\": 1}, \"34\": {\"28\": 1, \"27\": 1, \"19\": 1, \"106\": 2, \"60\": 1, \"110\": 1, \"107\": 1, \"88\": 2, \"6\": 3, \"34\": 1, \"87\": 1, \"90\": 1, \"14\": 3, \"1\": 1, \"125\": 1, \"45\": 1, \"118\": 1, \"36\": 3, \"84\": 1, \"15\": 1, \"32\": 1, \"73\": 2, \"114\": 1}, \"91\": {\"91\": 6, \"47\": 3, \"41\": 1, \"65\": 1, \"101\": 1, \"95\": 2, \"99\": 3, \"111\": 1, \"104\": 1, \"122\": 1, \"108\": 2, \"9\": 1, \"71\": 1}, \"112\": {\"112\": 11, \"12\": 1, \"92\": 1, \"56\": 1, \"72\": 2}, \"92\": {\"92\": 28, \"118\": 2, \"109\": 1, \"64\": 1}, \"95\": {\"127\": 1, \"95\": 29, \"68\": 1, \"7\": 1}, \"96\": {\"64\": 1, \"126\": 1, \"123\": 1, \"96\": 9, \"92\": 1, \"109\": 1, \"2\": 2, \"81\": 3, \"57\": 1}, \"127\": {\"127\": 62, \"74\": 1, \"18\": 1, \"4\": 9, \"7\": 10, \"109\": 1, \"3\": 2, \"105\": 1, \"108\": 2, \"12\": 1, \"114\": 1, \"8\": 3, \"5\": 5, \"52\": 2, \"95\": 2, \"71\": 1, \"98\": 1, \"126\": 1, \"117\": 1, \"124\": 1}, \"67\": {\"67\": 12, \"129\": 1, \"116\": 1, \"18\": 1, \"3\": 1}, \"83\": {\"83\": 10, \"12\": 4, \"42\": 1, \"35\": 1, \"98\": 1, \"51\": 1, \"111\": 1, \"112\": 1, \"68\": 1, \"58\": 1, \"19\": 1, \"27\": 1}, \"21\": {\"43\": 2, \"109\": 3, \"21\": 30, \"117\": 2, \"106\": 1, \"39\": 1, \"121\": 2, \"126\": 2, \"94\": 2, \"57\": 1, \"18\": 1, \"59\": 1}, \"98\": {\"12\": 5, \"83\": 2, \"98\": 59, \"101\": 1, \"8\": 5, \"49\": 1, \"71\": 3, \"15\": 2, \"124\": 13, \"111\": 10, \"127\": 1, \"73\": 1, \"3\": 1, \"44\": 1, \"27\": 1, \"36\": 3, \"114\": 2, \"97\": 1, \"108\": 3, \"6\": 1, \"106\": 3, \"0\": 2, \"30\": 2, \"94\": 1}, \"108\": {\"5\": 4, \"108\": 43, \"110\": 6, \"99\": 1, \"124\": 12, \"105\": 7, \"70\": 1, \"3\": 5, \"111\": 2, \"98\": 4, \"127\": 3, \"9\": 1, \"4\": 3, \"8\": 9, \"0\": 4, \"109\": 1, \"125\": 1, \"1\": 3, \"7\": 2, \"10\": 3, \"34\": 1, \"72\": 1, \"90\": 1, \"22\": 1, \"19\": 1, \"46\": 1, \"42\": 1, \"32\": 1, \"60\": 2, \"15\": 2, \"83\": 1, \"40\": 1, \"71\": 1, \"88\": 1, \"126\": 1}, \"31\": {\"31\": 13, \"129\": 2, \"88\": 1, \"11\": 2, \"121\": 1, \"89\": 1}, \"118\": {\"39\": 3, \"96\": 1, \"33\": 3, \"118\": 35, \"26\": 2, \"2\": 2, \"18\": 1, \"109\": 4, \"62\": 2, \"113\": 2, \"126\": 1, \"16\": 8, \"102\": 5, \"88\": 6, \"117\": 4, \"93\": 6, \"69\": 5, \"90\": 1, \"87\": 1, \"64\": 1, \"121\": 1, \"13\": 1, \"43\": 2, \"122\": 1, \"21\": 1, \"11\": 1}, \"110\": {\"110\": 30, \"88\": 4, \"34\": 3, \"37\": 1, \"129\": 2, \"86\": 2, \"122\": 2, \"4\": 5, \"105\": 10, \"9\": 2, \"118\": 1, \"7\": 1, \"114\": 1, \"1\": 5, \"90\": 1, \"87\": 4, \"62\": 4, \"49\": 2, \"46\": 1, \"99\": 1, \"60\": 1, \"109\": 2, \"127\": 3, \"5\": 1, \"3\": 1, \"40\": 2}, \"73\": {\"15\": 1, \"73\": 31, \"111\": 2, \"0\": 1, \"42\": 4, \"98\": 1}, \"44\": {\"33\": 1, \"44\": 38, \"99\": 1, \"43\": 1, \"29\": 4, \"49\": 1, \"82\": 1, \"122\": 1, \"40\": 4, \"87\": 3, \"110\": 1, \"70\": 1, \"102\": 1, \"117\": 1, \"84\": 1, \"129\": 1, \"116\": 1, \"114\": 3, \"118\": 1, \"11\": 2, \"26\": 1, \"107\": 3}, \"37\": {\"37\": 12, \"52\": 2, \"12\": 1, \"64\": 1}, \"100\": {\"100\": 12, \"107\": 2, \"87\": 2}}, \"C_4\": {\"52\": {\"41\": 3, \"52\": 88, \"39\": 1, \"35\": 2, \"23\": 6, \"47\": 5, \"57\": 6, \"5\": 2, \"46\": 2, \"18\": 1}, \"6\": {\"40\": 6, \"6\": 15, \"53\": 1, \"33\": 4, \"51\": 4, \"50\": 6, \"30\": 3, \"31\": 1, \"26\": 2, \"54\": 4, \"42\": 1, \"21\": 10, \"44\": 4, \"45\": 2, \"46\": 2, \"36\": 5, \"3\": 5, \"23\": 2, \"9\": 3, \"8\": 4, \"15\": 1, \"25\": 4, \"19\": 3, \"29\": 2, \"20\": 5, \"5\": 2, \"27\": 2, \"28\": 3, \"12\": 1, \"18\": 1, \"52\": 1, \"17\": 1, \"11\": 1, \"48\": 1}, \"14\": {\"14\": 4, \"49\": 1, \"43\": 1, \"31\": 1, \"24\": 2, \"32\": 2, \"38\": 1, \"10\": 1, \"5\": 1, \"47\": 1, \"22\": 1}, \"49\": {\"49\": 20}, \"0\": {\"14\": 1, \"43\": 5, \"0\": 70, \"11\": 2, \"15\": 1, \"56\": 1}, \"46\": {\"52\": 21, \"46\": 64, \"32\": 2, \"57\": 12, \"43\": 9, \"11\": 2, \"47\": 9, \"16\": 10, \"15\": 6, \"56\": 5, \"5\": 6, \"0\": 2, \"22\": 2, \"23\": 2, \"35\": 1, \"1\": 1, \"49\": 1, \"29\": 1}, \"41\": {\"41\": 35, \"35\": 1}, \"24\": {\"38\": 3, \"24\": 47, \"0\": 1, \"10\": 1, \"43\": 1, \"22\": 3}, \"25\": {\"25\": 80, \"8\": 7, \"3\": 15, \"53\": 10, \"36\": 9, \"48\": 24, \"27\": 2, \"54\": 1, \"50\": 1, \"17\": 1, \"20\": 2}, \"40\": {\"40\": 113, \"33\": 1, \"53\": 1, \"20\": 2, \"23\": 2, \"44\": 5, \"9\": 5, \"3\": 1, \"16\": 1, \"19\": 1, \"6\": 1, \"5\": 1, \"29\": 1, \"46\": 1, \"50\": 1, \"4\": 1}, \"38\": {\"10\": 1, \"38\": 39}, \"13\": {\"13\": 152}, \"9\": {\"9\": 61, \"25\": 3, \"27\": 7, \"4\": 18, \"45\": 2, \"3\": 2, \"21\": 2, \"48\": 3, \"8\": 2, \"53\": 3, \"26\": 1, \"17\": 1, \"51\": 3}, \"45\": {\"9\": 7, \"45\": 40, \"26\": 5, \"27\": 2, \"30\": 4, \"6\": 3, \"4\": 14, \"3\": 2, \"50\": 3, \"19\": 1, \"12\": 3, \"44\": 3, \"36\": 1, \"54\": 1, \"40\": 1, \"17\": 1, \"48\": 2, \"21\": 2, \"29\": 1}, \"43\": {\"43\": 125, \"0\": 11, \"11\": 3, \"46\": 1, \"15\": 2, \"24\": 2}, \"10\": {\"10\": 124, \"38\": 1, \"24\": 1, \"22\": 3, \"56\": 1}, \"15\": {\"15\": 102, \"11\": 14, \"0\": 6, \"43\": 3, \"16\": 1, \"22\": 1, \"56\": 1}, \"39\": {\"39\": 14, \"23\": 1, \"41\": 1, \"34\": 2, \"54\": 1, \"48\": 1}, \"4\": {\"53\": 1, \"4\": 82, \"9\": 18, \"17\": 4, \"26\": 2, \"54\": 1, \"48\": 2, \"45\": 8, \"27\": 11, \"36\": 1, \"8\": 1, \"3\": 1}, \"53\": {\"53\": 94, \"27\": 5, \"8\": 9, \"36\": 6, \"17\": 3, \"54\": 4, \"48\": 6, \"25\": 3, \"30\": 1, \"46\": 1}, \"1\": {\"1\": 32, \"32\": 2, \"5\": 1, \"16\": 3, \"7\": 2}, \"28\": {\"54\": 3, \"28\": 17, \"33\": 7, \"40\": 1, \"19\": 1, \"8\": 1, \"25\": 1, \"50\": 1}, \"54\": {\"42\": 7, \"18\": 3, \"36\": 12, \"54\": 56, \"25\": 9, \"3\": 5, \"48\": 5, \"53\": 5, \"27\": 2, \"8\": 2, \"50\": 1, \"21\": 1}, \"21\": {\"21\": 122, \"30\": 9, \"27\": 1}, \"7\": {\"7\": 19, \"24\": 1, \"1\": 2, \"46\": 1, \"0\": 1}, \"8\": {\"53\": 4, \"8\": 130, \"27\": 2}, \"42\": {\"42\": 26, \"54\": 4, \"3\": 2}, \"11\": {\"11\": 84, \"15\": 10, \"10\": 1, \"43\": 4, \"0\": 4, \"24\": 1}, \"33\": {\"33\": 34, \"28\": 1, \"20\": 1}, \"27\": {\"27\": 139, \"40\": 1, \"8\": 1, \"48\": 1}, \"19\": {\"19\": 120, \"44\": 18, \"40\": 4, \"6\": 2}, \"2\": {\"22\": 7, \"38\": 1, \"2\": 26, \"10\": 1, \"56\": 1}, \"3\": {\"3\": 34, \"26\": 1, \"53\": 5, \"25\": 16, \"33\": 1, \"51\": 1, \"36\": 4, \"27\": 7, \"54\": 6, \"48\": 28, \"12\": 1, \"20\": 1, \"23\": 1, \"21\": 4, \"8\": 2, \"34\": 1, \"42\": 3, \"17\": 1, \"9\": 2, \"4\": 1}, \"57\": {\"57\": 85, \"5\": 4, \"35\": 4, \"29\": 2, \"52\": 1, \"39\": 2, \"47\": 1, \"41\": 1}, \"20\": {\"20\": 35, \"27\": 6, \"8\": 10, \"42\": 1, \"51\": 4, \"17\": 2, \"53\": 13, \"50\": 5, \"3\": 1, \"54\": 6, \"21\": 11, \"25\": 7, \"23\": 3, \"4\": 1, \"48\": 1, \"30\": 3, \"18\": 1, \"36\": 1, \"40\": 1}, \"23\": {\"23\": 104, \"50\": 1, \"18\": 19, \"54\": 1, \"48\": 1, \"36\": 1, \"3\": 1}, \"22\": {\"22\": 103, \"56\": 13, \"10\": 6, \"24\": 3, \"2\": 2, \"55\": 1}, \"29\": {\"28\": 2, \"2\": 1, \"29\": 113, \"47\": 3, \"3\": 1, \"5\": 1, \"46\": 1, \"40\": 1, \"57\": 1}, \"36\": {\"36\": 86, \"3\": 2, \"18\": 1, \"45\": 1, \"53\": 2}, \"51\": {\"51\": 87, \"50\": 6, \"30\": 1, \"25\": 5, \"12\": 2, \"17\": 1, \"3\": 4, \"20\": 9, \"53\": 8, \"21\": 6, \"27\": 2, \"8\": 1}, \"31\": {\"31\": 26, \"37\": 1, \"32\": 1}, \"12\": {\"45\": 3, \"12\": 31, \"21\": 19, \"30\": 5, \"25\": 2, \"17\": 2, \"20\": 4, \"27\": 6, \"51\": 1, \"8\": 4, \"53\": 3, \"4\": 2, \"36\": 2, \"3\": 3, \"50\": 2, \"9\": 1, \"48\": 2}, \"56\": {\"38\": 3, \"2\": 4, \"56\": 118, \"22\": 9, \"24\": 1, \"10\": 3}, \"5\": {\"41\": 2, \"57\": 21, \"47\": 5, \"16\": 1, \"5\": 59, \"23\": 2, \"52\": 3, \"18\": 1, \"46\": 9, \"28\": 1, \"35\": 2, \"6\": 1, \"29\": 1}, \"35\": {\"35\": 38, \"43\": 1, \"7\": 1}, \"17\": {\"27\": 2, \"17\": 74, \"30\": 1, \"21\": 1, \"50\": 2}, \"32\": {\"32\": 24}, \"47\": {\"47\": 64, \"5\": 15, \"41\": 1, \"52\": 12, \"23\": 1, \"46\": 13, \"16\": 7, \"57\": 4, \"1\": 3}, \"18\": {\"18\": 71, \"23\": 23, \"11\": 1, \"13\": 1, \"57\": 1, \"54\": 8, \"34\": 2, \"3\": 1}, \"26\": {\"27\": 4, \"26\": 15, \"30\": 1, \"3\": 1, \"54\": 2, \"53\": 1}, \"50\": {\"27\": 20, \"42\": 1, \"50\": 30, \"30\": 4, \"53\": 11, \"28\": 1, \"17\": 6, \"21\": 7, \"8\": 9, \"3\": 3, \"40\": 2, \"48\": 4, \"25\": 3, \"44\": 1, \"51\": 3, \"4\": 4, \"20\": 6, \"36\": 4, \"33\": 1, \"6\": 1, \"9\": 1}, \"55\": {\"55\": 93, \"32\": 1, \"49\": 2, \"19\": 6, \"24\": 1, \"46\": 6, \"15\": 2, \"22\": 2, \"56\": 3, \"40\": 1, \"44\": 1, \"5\": 1, \"6\": 1, \"2\": 1, \"29\": 1, \"0\": 2}, \"34\": {\"34\": 22, \"28\": 1, \"18\": 1}, \"30\": {\"30\": 42, \"8\": 1, \"21\": 1}, \"37\": {\"37\": 24}, \"44\": {\"40\": 6, \"44\": 108, \"19\": 14, \"29\": 1, \"6\": 2, \"27\": 1}, \"48\": {\"48\": 86, \"27\": 4, \"19\": 2, \"3\": 11, \"25\": 12, \"40\": 1, \"17\": 1, \"53\": 1}, \"16\": {\"16\": 78, \"46\": 7, \"5\": 5, \"47\": 4, \"57\": 1, \"1\": 1}}, \"C_2\": {\"11\": {\"11\": 125, \"15\": 4, \"43\": 1}, \"21\": {\"9\": 2, \"21\": 87, \"3\": 3, \"48\": 6, \"18\": 1, \"12\": 2, \"50\": 2, \"20\": 1, \"30\": 2, \"46\": 3, \"52\": 1, \"33\": 2, \"6\": 3, \"51\": 2, \"27\": 2, \"29\": 1}, \"19\": {\"19\": 129, \"44\": 4, \"21\": 2, \"40\": 3, \"45\": 1, \"4\": 1}, \"20\": {\"20\": 75, \"27\": 11, \"51\": 8, \"53\": 11, \"54\": 1, \"17\": 3, \"36\": 6, \"40\": 1, \"8\": 10, \"6\": 1, \"45\": 1}, \"9\": {\"9\": 115, \"53\": 2, \"27\": 3, \"3\": 1, \"17\": 2, \"40\": 2, \"4\": 3, \"8\": 1, \"44\": 1, \"33\": 1, \"51\": 7, \"20\": 1, \"25\": 1}, \"10\": {\"13\": 1, \"10\": 99, \"24\": 10, \"56\": 2}, \"37\": {\"37\": 36}, \"32\": {\"32\": 24, \"27\": 4}, \"3\": {\"32\": 6, \"53\": 5, \"25\": 10, \"3\": 17, \"6\": 6, \"49\": 2, \"42\": 1, \"50\": 8, \"48\": 7, \"54\": 6, \"27\": 3, \"17\": 12, \"52\": 1, \"30\": 2, \"41\": 1, \"40\": 1, \"36\": 3, \"51\": 1}, \"39\": {\"39\": 26, \"16\": 1, \"23\": 1}, \"45\": {\"40\": 12, \"9\": 18, \"26\": 1, \"4\": 23, \"45\": 50, \"19\": 4, \"12\": 5, \"20\": 2, \"44\": 1, \"36\": 1, \"6\": 1, \"27\": 3, \"29\": 1, \"8\": 4, \"50\": 1, \"51\": 1}, \"50\": {\"32\": 2, \"54\": 11, \"50\": 83, \"30\": 2, \"3\": 2, \"36\": 10, \"53\": 4, \"20\": 1, \"27\": 2, \"8\": 1, \"25\": 13, \"51\": 1, \"48\": 1, \"49\": 1, \"21\": 1, \"29\": 1}, \"40\": {\"40\": 112, \"50\": 1, \"4\": 9, \"9\": 8, \"51\": 2, \"54\": 1, \"29\": 2, \"17\": 2, \"33\": 1, \"27\": 1, \"20\": 1}, \"46\": {\"19\": 5, \"21\": 4, \"46\": 37, \"29\": 4, \"30\": 9, \"11\": 1, \"1\": 7, \"2\": 3, \"52\": 5, \"43\": 1, \"15\": 2, \"23\": 13, \"40\": 1, \"48\": 3, \"16\": 3, \"5\": 1, \"57\": 9, \"25\": 3, \"55\": 2, \"44\": 2, \"18\": 2, \"47\": 2, \"41\": 1, \"38\": 1, \"42\": 1, \"6\": 2, \"3\": 1, \"50\": 1, \"22\": 2}, \"12\": {\"12\": 43, \"20\": 8, \"36\": 10, \"26\": 1, \"51\": 7, \"53\": 5, \"40\": 2, \"8\": 7, \"54\": 1, \"9\": 2, \"27\": 2, \"6\": 1, \"50\": 2, \"4\": 1}, \"13\": {\"13\": 114, \"56\": 1, \"10\": 1}, \"47\": {\"15\": 17, \"47\": 81, \"5\": 12, \"16\": 3, \"42\": 1, \"1\": 6, \"0\": 3, \"7\": 1, \"11\": 1, \"46\": 4, \"57\": 1, \"28\": 2}, \"15\": {\"15\": 133, \"0\": 1, \"47\": 2, \"5\": 2, \"7\": 2, \"16\": 1, \"1\": 1}, \"54\": {\"54\": 105, \"50\": 1, \"27\": 2}, \"48\": {\"48\": 102, \"30\": 15, \"54\": 2, \"50\": 5, \"3\": 4, \"23\": 1, \"6\": 2, \"25\": 11, \"8\": 3, \"27\": 1, \"18\": 1, \"17\": 1}, \"23\": {\"23\": 129, \"18\": 1, \"52\": 5, \"30\": 3, \"57\": 3, \"2\": 1}, \"29\": {\"48\": 8, \"29\": 105, \"3\": 3, \"25\": 2, \"50\": 2, \"6\": 1, \"34\": 1, \"30\": 1, \"51\": 1, \"44\": 1, \"46\": 1, \"17\": 1, \"9\": 1}, \"38\": {\"38\": 20}, \"53\": {\"53\": 127, \"36\": 1, \"8\": 4, \"50\": 1, \"32\": 1, \"6\": 1, \"20\": 1}, \"27\": {\"27\": 143, \"32\": 6, \"36\": 1}, \"43\": {\"43\": 142, \"11\": 2}, \"35\": {\"35\": 32}, \"0\": {\"0\": 39, \"47\": 1, \"16\": 5, \"7\": 1, \"57\": 2}, \"52\": {\"52\": 81, \"18\": 2, \"23\": 20, \"57\": 9, \"2\": 3, \"0\": 1, \"16\": 2, \"44\": 1, \"46\": 2, \"39\": 3}, \"8\": {\"8\": 114, \"54\": 2, \"27\": 4, \"36\": 8}, \"24\": {\"24\": 86, \"10\": 6, \"43\": 3, \"38\": 1}, \"18\": {\"18\": 40, \"30\": 3, \"50\": 1, \"48\": 1, \"3\": 1, \"6\": 2}, \"25\": {\"53\": 5, \"25\": 83, \"6\": 7, \"49\": 4, \"27\": 14, \"54\": 3, \"3\": 2, \"50\": 23, \"17\": 4, \"8\": 3}, \"57\": {\"57\": 116, \"52\": 11, \"23\": 6, \"39\": 2, \"18\": 1}, \"55\": {\"55\": 100, \"44\": 2, \"14\": 3, \"24\": 3, \"22\": 5, \"5\": 1, \"13\": 2, \"19\": 7, \"47\": 5, \"56\": 4, \"37\": 1, \"43\": 1}, \"36\": {\"36\": 110, \"8\": 6}, \"17\": {\"17\": 59, \"27\": 8, \"50\": 8, \"20\": 2, \"36\": 4, \"25\": 2, \"53\": 10, \"6\": 5, \"32\": 4, \"8\": 2}, \"2\": {\"18\": 3, \"2\": 21, \"23\": 5, \"34\": 1, \"52\": 2}, \"34\": {\"34\": 26, \"23\": 2}, \"1\": {\"1\": 73, \"16\": 4, \"52\": 3, \"15\": 4, \"42\": 2, \"5\": 9, \"57\": 5, \"21\": 1, \"29\": 1, \"46\": 7, \"47\": 1, \"7\": 1, \"0\": 1}, \"51\": {\"20\": 21, \"51\": 56, \"36\": 10, \"54\": 2, \"8\": 12, \"27\": 8, \"6\": 2, \"53\": 16, \"50\": 2, \"17\": 1, \"26\": 3, \"12\": 2, \"25\": 1}, \"31\": {\"31\": 27, \"14\": 1}, \"49\": {\"49\": 20, \"32\": 2, \"54\": 2}, \"14\": {\"13\": 3, \"14\": 8, \"28\": 4, \"56\": 2, \"24\": 4, \"47\": 1, \"5\": 1, \"43\": 1}, \"33\": {\"20\": 1, \"33\": 19, \"17\": 1, \"53\": 2, \"51\": 2, \"25\": 2, \"6\": 1}, \"41\": {\"41\": 10, \"3\": 2, \"50\": 2, \"32\": 2, \"36\": 2, \"27\": 1, \"54\": 1}, \"28\": {\"28\": 25, \"11\": 1, \"5\": 1, \"15\": 1}, \"5\": {\"5\": 95, \"47\": 8, \"28\": 3, \"0\": 1, \"52\": 1, \"15\": 3, \"16\": 2, \"57\": 1, \"1\": 2, \"42\": 1, \"7\": 2, \"11\": 1}, \"16\": {\"16\": 139, \"39\": 1, \"52\": 3, \"7\": 1, \"57\": 3, \"15\": 2, \"0\": 1}, \"4\": {\"4\": 104, \"12\": 1, \"45\": 4, \"40\": 2, \"17\": 1, \"9\": 12, \"27\": 1, \"26\": 2, \"51\": 1}, \"22\": {\"22\": 110, \"56\": 15, \"13\": 6, \"24\": 3, \"10\": 2}, \"6\": {\"4\": 1, \"6\": 32, \"27\": 19, \"25\": 11, \"50\": 8, \"29\": 1, \"36\": 3, \"8\": 6, \"17\": 6, \"54\": 7, \"21\": 2, \"53\": 7, \"3\": 1, \"9\": 1, \"48\": 1, \"47\": 1, \"20\": 2, \"41\": 1, \"49\": 1, \"28\": 1, \"18\": 1, \"30\": 2, \"51\": 1, \"40\": 2}, \"30\": {\"30\": 48, \"41\": 1, \"18\": 6, \"49\": 1, \"54\": 3, \"48\": 16, \"36\": 3, \"23\": 16, \"50\": 7, \"25\": 6, \"53\": 1, \"3\": 3, \"8\": 4, \"57\": 1, \"27\": 3, \"34\": 3, \"51\": 1, \"6\": 1}, \"26\": {\"26\": 23, \"32\": 1}, \"56\": {\"56\": 128, \"22\": 9, \"10\": 3, \"13\": 2}, \"42\": {\"42\": 31, \"23\": 1, \"5\": 2, \"7\": 1, \"29\": 1}, \"44\": {\"44\": 79, \"35\": 4, \"19\": 10, \"51\": 1, \"40\": 3, \"4\": 2, \"29\": 1}, \"7\": {\"1\": 2, \"7\": 26, \"16\": 1, \"15\": 1, \"5\": 2, \"47\": 1, \"0\": 3}}}, \"per_domain_accuracy\": {\"O_26\": {\"accuracy\": 0.68125, \"source?\": true}, \"O_44\": {\"accuracy\": 0.775, \"source?\": true}, \"O_50\": {\"accuracy\": 0.8888020833333333, \"source?\": true}, \"O_38\": {\"accuracy\": 0.9033854166666667, \"source?\": true}, \"O_20\": {\"accuracy\": 0.82734375, \"source?\": true}, \"O_14\": {\"accuracy\": 0.89140625, \"source?\": true}, \"O_32\": {\"accuracy\": 0.878125, \"source?\": true}, \"O_8\": {\"accuracy\": 0.8171875, \"source?\": true}, \"C_5\": {\"accuracy\": 0.7524441340782123, \"source?\": false}, \"W_4\": {\"accuracy\": 0.48906893004115226, \"source?\": false}, \"C_1\": {\"accuracy\": 0.8204823369565217, \"source?\": false}, \"W_1\": {\"accuracy\": 0.5609110169491526, \"source?\": false}, \"W_2\": {\"accuracy\": 0.5499476987447699, \"source?\": false}, \"C_3\": {\"accuracy\": 0.7545955882352942, \"source?\": false}, \"W_3\": {\"accuracy\": 0.5469432314410481, \"source?\": false}, \"C_4\": {\"accuracy\": 0.7198795180722891, \"source?\": false}, \"C_2\": {\"accuracy\": 0.7491122159090909, \"source?\": false}}}, \"history\": {\"epoch_indices\": [1, 2, 3, 4, 5, 6, 7], \"train_label_loss\": [0.7527834743660475, 0.8408650447292962, 0.44248011276774507, 0.37720128745977055, 0.3293864816571364, 0.2973261207191085, 0.28452664003360995], \"source_val_label_loss\": [7.032585144042969, 0.5126463770866394, 0.4563378393650055, 0.36835038661956787, 0.3373211622238159, 0.41355717182159424, 0.3072250783443451], \"target_val_label_loss\": [553.86376953125, 207.03927612304688, 249.13543701171875, 294.146728515625, 340.6922607421875, 401.9476013183594, 411.3394470214844], \"source_val_acc_label\": [0.7831705729166667, 0.8196940104166667, 0.8328125, 0.8671223958333333, 0.8835286458333333, 0.8493489583333333, 0.8888997395833333], \"target_val_acc_label\": [0.5542844401756312, 0.6216211580680571, 0.6439009330406147, 0.6415511800219539, 0.6378464599341384, 0.6228903677277717, 0.6296652030735456]}, \"dataset_metrics\": {\"source\": {\"train\": {\"n_unique_x\": 179200, \"n_unique_y\": 16, \"n_batch/episode\": 6720}, \"val\": {\"n_unique_x\": 38400, \"n_unique_y\": 16, \"n_batch/episode\": 960}, \"test\": {\"n_unique_x\": 38400, \"n_unique_y\": 16, \"n_batch/episode\": 960}}, \"target\": {\"train\": {\"n_unique_x\": 364204, \"n_unique_y\": 130, \"n_batch/episode\": 13168}, \"val\": {\"n_unique_x\": 77221, \"n_unique_y\": 130, \"n_batch/episode\": 1822}, \"test\": {\"n_unique_x\": 78360, \"n_unique_y\": 130, \"n_batch/episode\": 1854}}}}'"
      ]
     },
     "execution_count": 29,
     "metadata": {},
     "output_type": "execute_result"
    }
   ],
   "source": [
    "json.dumps(experiment)"
   ]
  }
 ],
 "metadata": {
  "celltoolbar": "Tags",
  "kernelspec": {
   "display_name": "Python 3 (ipykernel)",
   "language": "python",
   "name": "python3"
  },
  "language_info": {
   "codemirror_mode": {
    "name": "ipython",
    "version": 3
   },
   "file_extension": ".py",
   "mimetype": "text/x-python",
   "name": "python",
   "nbconvert_exporter": "python",
   "pygments_lexer": "ipython3",
   "version": "3.8.10"
  },
  "papermill": {
   "default_parameters": {},
   "duration": 1529.469772,
   "end_time": "2022-03-19T23:31:12.722473",
   "environment_variables": {},
   "exception": null,
   "input_path": "/mnt/wd500GB/CSC500/csc500-main/csc500-notebooks/templates/tl_ptn_template.ipynb",
   "output_path": "trial.ipynb",
   "parameters": {
    "parameters": {
     "BEST_MODEL_PATH": "./best_model.pth",
     "NUM_LOGS_PER_EPOCH": 10,
     "criteria_for_best": "target_accuracy",
     "dataset_seed": 7,
     "datasets": [
      {
       "domain_prefix": "C_",
       "domains": [
        1,
        2,
        3,
        4,
        5
       ],
       "episode_transforms": [],
       "labels": [
        "1-10.",
        "1-11.",
        "1-15.",
        "1-16.",
        "1-17.",
        "1-18.",
        "1-19.",
        "10-4.",
        "10-7.",
        "11-1.",
        "11-14.",
        "11-17.",
        "11-20.",
        "11-7.",
        "13-20.",
        "13-8.",
        "14-10.",
        "14-11.",
        "14-14.",
        "14-7.",
        "15-1.",
        "15-20.",
        "16-1.",
        "16-16.",
        "17-10.",
        "17-11.",
        "17-2.",
        "19-1.",
        "19-16.",
        "19-19.",
        "19-20.",
        "19-3.",
        "2-10.",
        "2-11.",
        "2-17.",
        "2-18.",
        "2-20.",
        "2-3.",
        "2-4.",
        "2-5.",
        "2-6.",
        "2-7.",
        "2-8.",
        "3-13.",
        "3-18.",
        "3-3.",
        "4-1.",
        "4-10.",
        "4-11.",
        "4-19.",
        "5-5.",
        "6-15.",
        "7-10.",
        "7-14.",
        "8-18.",
        "8-20.",
        "8-3.",
        "8-8."
       ],
       "num_examples_per_domain_per_label": -1,
       "pickle_path": "/mnt/wd500GB/CSC500/csc500-main/datasets/cores.stratified_ds.2022A.pkl",
       "source_or_target_dataset": "target",
       "x_transforms": [
        "unit_power"
       ]
      },
      {
       "domain_prefix": "W_",
       "domains": [
        1,
        2,
        3,
        4
       ],
       "episode_transforms": [],
       "labels": [
        "1-10",
        "1-12",
        "1-14",
        "1-16",
        "1-18",
        "1-19",
        "1-8",
        "10-11",
        "10-17",
        "10-4",
        "10-7",
        "11-1",
        "11-10",
        "11-19",
        "11-20",
        "11-4",
        "11-7",
        "12-19",
        "12-20",
        "12-7",
        "13-14",
        "13-18",
        "13-19",
        "13-20",
        "13-3",
        "13-7",
        "14-10",
        "14-11",
        "14-12",
        "14-13",
        "14-14",
        "14-19",
        "14-20",
        "14-7",
        "14-8",
        "14-9",
        "15-1",
        "15-19",
        "15-6",
        "16-1",
        "16-16",
        "16-19",
        "16-20",
        "17-10",
        "17-11",
        "18-1",
        "18-10",
        "18-11",
        "18-12",
        "18-13",
        "18-14",
        "18-15",
        "18-16",
        "18-17",
        "18-19",
        "18-2",
        "18-20",
        "18-4",
        "18-5",
        "18-7",
        "18-8",
        "18-9",
        "19-1",
        "19-10",
        "19-11",
        "19-12",
        "19-13",
        "19-14",
        "19-15",
        "19-19",
        "19-2",
        "19-20",
        "19-3",
        "19-4",
        "19-6",
        "19-7",
        "19-8",
        "19-9",
        "2-1",
        "2-13",
        "2-15",
        "2-3",
        "2-4",
        "2-5",
        "2-6",
        "2-7",
        "2-8",
        "20-1",
        "20-12",
        "20-14",
        "20-15",
        "20-16",
        "20-18",
        "20-19",
        "20-20",
        "20-3",
        "20-4",
        "20-5",
        "20-7",
        "20-8",
        "3-1",
        "3-13",
        "3-18",
        "3-2",
        "3-8",
        "4-1",
        "4-10",
        "4-11",
        "5-1",
        "5-5",
        "6-1",
        "6-15",
        "6-6",
        "7-10",
        "7-11",
        "7-12",
        "7-13",
        "7-14",
        "7-7",
        "7-8",
        "7-9",
        "8-1",
        "8-13",
        "8-14",
        "8-18",
        "8-20",
        "8-3",
        "8-8",
        "9-1",
        "9-7"
       ],
       "num_examples_per_domain_per_label": -1,
       "pickle_path": "/mnt/wd500GB/CSC500/csc500-main/datasets/wisig.node3-19.stratified_ds.2022A.pkl",
       "source_or_target_dataset": "target",
       "x_transforms": [
        "unit_power"
       ]
      },
      {
       "domain_prefix": "O_",
       "domains": [
        32,
        38,
        8,
        44,
        14,
        50,
        20,
        26
       ],
       "episode_transforms": [],
       "labels": [
        "3123D52",
        "3123D65",
        "3123D79",
        "3123D80",
        "3123D54",
        "3123D70",
        "3123D7B",
        "3123D89",
        "3123D58",
        "3123D76",
        "3123D7D",
        "3123EFE",
        "3123D64",
        "3123D78",
        "3123D7E",
        "3124E4A"
       ],
       "num_examples_per_domain_per_label": 2000,
       "pickle_path": "/mnt/wd500GB/CSC500/csc500-main/datasets/oracle.Run1_framed_2000Examples_stratified_ds.2022A.pkl",
       "source_or_target_dataset": "source",
       "x_transforms": [
        "unit_power"
       ]
      }
     ],
     "device": "cuda",
     "experiment_name": "tl_2v2:oracle.run1.framed -> cores+wisig",
     "lr": 0.0001,
     "n_epoch": 50,
     "n_query": 2,
     "n_shot": 3,
     "n_way": 16,
     "patience": 3,
     "seed": 7,
     "test_k_factor": 2,
     "torch_default_dtype": "torch.float32",
     "train_k_factor": 3,
     "val_k_factor": 2,
     "x_net": [
      {
       "class": "nnReshape",
       "kargs": {
        "shape": [
         -1,
         1,
         2,
         256
        ]
       }
      },
      {
       "class": "Conv2d",
       "kargs": {
        "bias": false,
        "in_channels": 1,
        "kernel_size": [
         1,
         7
        ],
        "out_channels": 256,
        "padding": [
         0,
         3
        ]
       }
      },
      {
       "class": "ReLU",
       "kargs": {
        "inplace": true
       }
      },
      {
       "class": "BatchNorm2d",
       "kargs": {
        "num_features": 256
       }
      },
      {
       "class": "Conv2d",
       "kargs": {
        "bias": true,
        "in_channels": 256,
        "kernel_size": [
         2,
         7
        ],
        "out_channels": 80,
        "padding": [
         0,
         3
        ]
       }
      },
      {
       "class": "ReLU",
       "kargs": {
        "inplace": true
       }
      },
      {
       "class": "BatchNorm2d",
       "kargs": {
        "num_features": 80
       }
      },
      {
       "class": "Flatten",
       "kargs": {}
      },
      {
       "class": "Linear",
       "kargs": {
        "in_features": 20480,
        "out_features": 256
       }
      },
      {
       "class": "ReLU",
       "kargs": {
        "inplace": true
       }
      },
      {
       "class": "BatchNorm1d",
       "kargs": {
        "num_features": 256
       }
      },
      {
       "class": "Linear",
       "kargs": {
        "in_features": 256,
        "out_features": 256
       }
      }
     ]
    }
   },
   "start_time": "2022-03-19T23:05:43.252701",
   "version": "2.3.4"
  }
 },
 "nbformat": 4,
 "nbformat_minor": 5
}