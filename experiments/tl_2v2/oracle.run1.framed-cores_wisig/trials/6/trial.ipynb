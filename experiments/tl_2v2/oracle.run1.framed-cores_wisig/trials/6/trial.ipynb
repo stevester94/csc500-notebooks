{
 "cells": [
  {
   "cell_type": "markdown",
   "id": "9fea5f46",
   "metadata": {
    "papermill": {
     "duration": 0.021395,
     "end_time": "2022-03-19T21:53:02.309138",
     "exception": false,
     "start_time": "2022-03-19T21:53:02.287743",
     "status": "completed"
    },
    "tags": []
   },
   "source": [
    "# Transfer Learning Template"
   ]
  },
  {
   "cell_type": "code",
   "execution_count": 1,
   "id": "0902182a",
   "metadata": {
    "execution": {
     "iopub.execute_input": "2022-03-19T21:53:02.349031Z",
     "iopub.status.busy": "2022-03-19T21:53:02.337994Z",
     "iopub.status.idle": "2022-03-19T21:53:03.305515Z",
     "shell.execute_reply": "2022-03-19T21:53:03.305226Z"
    },
    "papermill": {
     "duration": 0.982957,
     "end_time": "2022-03-19T21:53:03.305585",
     "exception": false,
     "start_time": "2022-03-19T21:53:02.322628",
     "status": "completed"
    },
    "tags": []
   },
   "outputs": [],
   "source": [
    "%load_ext autoreload\n",
    "%autoreload 2\n",
    "%matplotlib inline\n",
    "\n",
    "    \n",
    "import os, json, sys, time, random\n",
    "import numpy as np\n",
    "import torch\n",
    "from torch.optim import Adam\n",
    "from  easydict import EasyDict\n",
    "import matplotlib.pyplot as plt\n",
    "\n",
    "from steves_models.steves_ptn import Steves_Prototypical_Network\n",
    "\n",
    "from steves_utils.lazy_iterable_wrapper import Lazy_Iterable_Wrapper\n",
    "from steves_utils.iterable_aggregator import Iterable_Aggregator\n",
    "from steves_utils.ptn_train_eval_test_jig import  PTN_Train_Eval_Test_Jig\n",
    "from steves_utils.torch_sequential_builder import build_sequential\n",
    "from steves_utils.torch_utils import get_dataset_metrics, ptn_confusion_by_domain_over_dataloader\n",
    "from steves_utils.utils_v2 import (per_domain_accuracy_from_confusion, get_datasets_base_path)\n",
    "from steves_utils.PTN.utils import independent_accuracy_assesment\n",
    "\n",
    "from torch.utils.data import DataLoader\n",
    "\n",
    "from steves_utils.stratified_dataset.episodic_accessor import Episodic_Accessor_Factory\n",
    "\n",
    "from steves_utils.ptn_do_report import (\n",
    "    get_loss_curve,\n",
    "    get_results_table,\n",
    "    get_parameters_table,\n",
    "    get_domain_accuracies,\n",
    ")\n",
    "\n",
    "from steves_utils.transforms import get_chained_transform"
   ]
  },
  {
   "cell_type": "markdown",
   "id": "41c840b4",
   "metadata": {
    "papermill": {
     "duration": 0.012662,
     "end_time": "2022-03-19T21:53:03.335323",
     "exception": false,
     "start_time": "2022-03-19T21:53:03.322661",
     "status": "completed"
    },
    "tags": []
   },
   "source": [
    "# Allowed Parameters\n",
    "These are allowed parameters, not defaults\n",
    "Each of these values need to be present in the injected parameters (the notebook will raise an exception if they are not present)\n",
    "\n",
    "Papermill uses the cell tag \"parameters\" to inject the real parameters below this cell.\n",
    "Enable tags to see what I mean"
   ]
  },
  {
   "cell_type": "code",
   "execution_count": 2,
   "id": "fd44eb83",
   "metadata": {
    "execution": {
     "iopub.execute_input": "2022-03-19T21:53:03.363893Z",
     "iopub.status.busy": "2022-03-19T21:53:03.363634Z",
     "iopub.status.idle": "2022-03-19T21:53:03.378525Z",
     "shell.execute_reply": "2022-03-19T21:53:03.378958Z"
    },
    "papermill": {
     "duration": 0.03103,
     "end_time": "2022-03-19T21:53:03.379088",
     "exception": false,
     "start_time": "2022-03-19T21:53:03.348058",
     "status": "completed"
    },
    "tags": []
   },
   "outputs": [],
   "source": [
    "required_parameters = {\n",
    "    \"experiment_name\",\n",
    "    \"lr\",\n",
    "    \"device\",\n",
    "    \"seed\",\n",
    "    \"dataset_seed\",\n",
    "    \"n_shot\",\n",
    "    \"n_query\",\n",
    "    \"n_way\",\n",
    "    \"train_k_factor\",\n",
    "    \"val_k_factor\",\n",
    "    \"test_k_factor\",\n",
    "    \"n_epoch\",\n",
    "    \"patience\",\n",
    "    \"criteria_for_best\",\n",
    "    \"x_net\",\n",
    "    \"datasets\",\n",
    "    \"torch_default_dtype\",\n",
    "    \"NUM_LOGS_PER_EPOCH\",\n",
    "    \"BEST_MODEL_PATH\",\n",
    "    \"x_shape\",\n",
    "}"
   ]
  },
  {
   "cell_type": "code",
   "execution_count": 3,
   "id": "fa3f0049",
   "metadata": {
    "execution": {
     "iopub.execute_input": "2022-03-19T21:53:03.418096Z",
     "iopub.status.busy": "2022-03-19T21:53:03.417811Z",
     "iopub.status.idle": "2022-03-19T21:53:03.431084Z",
     "shell.execute_reply": "2022-03-19T21:53:03.431503Z"
    },
    "papermill": {
     "duration": 0.035376,
     "end_time": "2022-03-19T21:53:03.431634",
     "exception": false,
     "start_time": "2022-03-19T21:53:03.396258",
     "status": "completed"
    },
    "tags": [
     "parameters"
    ]
   },
   "outputs": [],
   "source": [
    "from steves_utils.CORES.utils import (\n",
    "    ALL_NODES,\n",
    "    ALL_NODES_MINIMUM_1000_EXAMPLES,\n",
    "    ALL_DAYS\n",
    ")\n",
    "\n",
    "from steves_utils.ORACLE.utils_v2 import (\n",
    "    ALL_DISTANCES_FEET_NARROWED,\n",
    "    ALL_RUNS,\n",
    "    ALL_SERIAL_NUMBERS,\n",
    ")\n",
    "\n",
    "standalone_parameters = {}\n",
    "standalone_parameters[\"experiment_name\"] = \"STANDALONE PTN\"\n",
    "standalone_parameters[\"lr\"] = 0.001\n",
    "standalone_parameters[\"device\"] = \"cuda\"\n",
    "\n",
    "standalone_parameters[\"seed\"] = 1337\n",
    "standalone_parameters[\"dataset_seed\"] = 1337\n",
    "\n",
    "standalone_parameters[\"n_way\"] = 8\n",
    "standalone_parameters[\"n_shot\"] = 3\n",
    "standalone_parameters[\"n_query\"]  = 2\n",
    "standalone_parameters[\"train_k_factor\"] = 1\n",
    "standalone_parameters[\"val_k_factor\"] = 2\n",
    "standalone_parameters[\"test_k_factor\"] = 2\n",
    "\n",
    "\n",
    "standalone_parameters[\"n_epoch\"] = 50\n",
    "\n",
    "standalone_parameters[\"patience\"] = 10\n",
    "standalone_parameters[\"criteria_for_best\"] = \"source_loss\"\n",
    "\n",
    "standalone_parameters[\"datasets\"] = [\n",
    "    {\n",
    "        \"labels\": ALL_SERIAL_NUMBERS,\n",
    "        \"domains\": ALL_DISTANCES_FEET_NARROWED,\n",
    "        \"num_examples_per_domain_per_label\": 100,\n",
    "        \"pickle_path\": os.path.join(get_datasets_base_path(), \"oracle.Run1_framed_2000Examples_stratified_ds.2022A.pkl\"),\n",
    "        \"source_or_target_dataset\": \"source\",\n",
    "        \"x_transforms\": [\"unit_mag\", \"minus_two\"],\n",
    "        \"episode_transforms\": [],\n",
    "        \"domain_prefix\": \"ORACLE_\"\n",
    "    },\n",
    "    {\n",
    "        \"labels\": ALL_NODES,\n",
    "        \"domains\": ALL_DAYS,\n",
    "        \"num_examples_per_domain_per_label\": 100,\n",
    "        \"pickle_path\": os.path.join(get_datasets_base_path(), \"cores.stratified_ds.2022A.pkl\"),\n",
    "        \"source_or_target_dataset\": \"target\",\n",
    "        \"x_transforms\": [\"unit_power\", \"times_zero\"],\n",
    "        \"episode_transforms\": [],\n",
    "        \"domain_prefix\": \"CORES_\"\n",
    "    }   \n",
    "]\n",
    "\n",
    "standalone_parameters[\"torch_default_dtype\"] = \"torch.float32\" \n",
    "\n",
    "\n",
    "\n",
    "standalone_parameters[\"x_net\"] =     [\n",
    "    {\"class\": \"nnReshape\", \"kargs\": {\"shape\":[-1, 1, 2, 256]}},\n",
    "    {\"class\": \"Conv2d\", \"kargs\": { \"in_channels\":1, \"out_channels\":256, \"kernel_size\":(1,7), \"bias\":False, \"padding\":(0,3), },},\n",
    "    {\"class\": \"ReLU\", \"kargs\": {\"inplace\": True}},\n",
    "    {\"class\": \"BatchNorm2d\", \"kargs\": {\"num_features\":256}},\n",
    "\n",
    "    {\"class\": \"Conv2d\", \"kargs\": { \"in_channels\":256, \"out_channels\":80, \"kernel_size\":(2,7), \"bias\":True, \"padding\":(0,3), },},\n",
    "    {\"class\": \"ReLU\", \"kargs\": {\"inplace\": True}},\n",
    "    {\"class\": \"BatchNorm2d\", \"kargs\": {\"num_features\":80}},\n",
    "    {\"class\": \"Flatten\", \"kargs\": {}},\n",
    "\n",
    "    {\"class\": \"Linear\", \"kargs\": {\"in_features\": 80*256, \"out_features\": 256}}, # 80 units per IQ pair\n",
    "    {\"class\": \"ReLU\", \"kargs\": {\"inplace\": True}},\n",
    "    {\"class\": \"BatchNorm1d\", \"kargs\": {\"num_features\":256}},\n",
    "\n",
    "    {\"class\": \"Linear\", \"kargs\": {\"in_features\": 256, \"out_features\": 256}},\n",
    "]\n",
    "\n",
    "# Parameters relevant to results\n",
    "# These parameters will basically never need to change\n",
    "standalone_parameters[\"NUM_LOGS_PER_EPOCH\"] = 10\n",
    "standalone_parameters[\"BEST_MODEL_PATH\"] = \"./best_model.pth\"\n",
    "\n",
    "\n",
    "\n",
    "\n"
   ]
  },
  {
   "cell_type": "code",
   "execution_count": 4,
   "id": "e5e0ce9e",
   "metadata": {
    "execution": {
     "iopub.execute_input": "2022-03-19T21:53:03.479882Z",
     "iopub.status.busy": "2022-03-19T21:53:03.475560Z",
     "iopub.status.idle": "2022-03-19T21:53:03.496345Z",
     "shell.execute_reply": "2022-03-19T21:53:03.496549Z"
    },
    "papermill": {
     "duration": 0.046287,
     "end_time": "2022-03-19T21:53:03.496628",
     "exception": false,
     "start_time": "2022-03-19T21:53:03.450341",
     "status": "completed"
    },
    "tags": [
     "injected-parameters"
    ]
   },
   "outputs": [],
   "source": [
    "# Parameters\n",
    "parameters = {\n",
    "    \"experiment_name\": \"tl_2v2:oracle.run1.framed -> cores+wisig\",\n",
    "    \"device\": \"cuda\",\n",
    "    \"lr\": 0.0001,\n",
    "    \"n_shot\": 3,\n",
    "    \"n_query\": 2,\n",
    "    \"train_k_factor\": 3,\n",
    "    \"val_k_factor\": 2,\n",
    "    \"test_k_factor\": 2,\n",
    "    \"torch_default_dtype\": \"torch.float32\",\n",
    "    \"n_epoch\": 50,\n",
    "    \"patience\": 3,\n",
    "    \"criteria_for_best\": \"target_accuracy\",\n",
    "    \"x_net\": [\n",
    "        {\"class\": \"nnReshape\", \"kargs\": {\"shape\": [-1, 1, 2, 256]}},\n",
    "        {\n",
    "            \"class\": \"Conv2d\",\n",
    "            \"kargs\": {\n",
    "                \"in_channels\": 1,\n",
    "                \"out_channels\": 256,\n",
    "                \"kernel_size\": [1, 7],\n",
    "                \"bias\": False,\n",
    "                \"padding\": [0, 3],\n",
    "            },\n",
    "        },\n",
    "        {\"class\": \"ReLU\", \"kargs\": {\"inplace\": True}},\n",
    "        {\"class\": \"BatchNorm2d\", \"kargs\": {\"num_features\": 256}},\n",
    "        {\n",
    "            \"class\": \"Conv2d\",\n",
    "            \"kargs\": {\n",
    "                \"in_channels\": 256,\n",
    "                \"out_channels\": 80,\n",
    "                \"kernel_size\": [2, 7],\n",
    "                \"bias\": True,\n",
    "                \"padding\": [0, 3],\n",
    "            },\n",
    "        },\n",
    "        {\"class\": \"ReLU\", \"kargs\": {\"inplace\": True}},\n",
    "        {\"class\": \"BatchNorm2d\", \"kargs\": {\"num_features\": 80}},\n",
    "        {\"class\": \"Flatten\", \"kargs\": {}},\n",
    "        {\"class\": \"Linear\", \"kargs\": {\"in_features\": 20480, \"out_features\": 256}},\n",
    "        {\"class\": \"ReLU\", \"kargs\": {\"inplace\": True}},\n",
    "        {\"class\": \"BatchNorm1d\", \"kargs\": {\"num_features\": 256}},\n",
    "        {\"class\": \"Linear\", \"kargs\": {\"in_features\": 256, \"out_features\": 256}},\n",
    "    ],\n",
    "    \"NUM_LOGS_PER_EPOCH\": 10,\n",
    "    \"BEST_MODEL_PATH\": \"./best_model.pth\",\n",
    "    \"n_way\": 16,\n",
    "    \"datasets\": [\n",
    "        {\n",
    "            \"labels\": [\n",
    "                \"1-10.\",\n",
    "                \"1-11.\",\n",
    "                \"1-15.\",\n",
    "                \"1-16.\",\n",
    "                \"1-17.\",\n",
    "                \"1-18.\",\n",
    "                \"1-19.\",\n",
    "                \"10-4.\",\n",
    "                \"10-7.\",\n",
    "                \"11-1.\",\n",
    "                \"11-14.\",\n",
    "                \"11-17.\",\n",
    "                \"11-20.\",\n",
    "                \"11-7.\",\n",
    "                \"13-20.\",\n",
    "                \"13-8.\",\n",
    "                \"14-10.\",\n",
    "                \"14-11.\",\n",
    "                \"14-14.\",\n",
    "                \"14-7.\",\n",
    "                \"15-1.\",\n",
    "                \"15-20.\",\n",
    "                \"16-1.\",\n",
    "                \"16-16.\",\n",
    "                \"17-10.\",\n",
    "                \"17-11.\",\n",
    "                \"17-2.\",\n",
    "                \"19-1.\",\n",
    "                \"19-16.\",\n",
    "                \"19-19.\",\n",
    "                \"19-20.\",\n",
    "                \"19-3.\",\n",
    "                \"2-10.\",\n",
    "                \"2-11.\",\n",
    "                \"2-17.\",\n",
    "                \"2-18.\",\n",
    "                \"2-20.\",\n",
    "                \"2-3.\",\n",
    "                \"2-4.\",\n",
    "                \"2-5.\",\n",
    "                \"2-6.\",\n",
    "                \"2-7.\",\n",
    "                \"2-8.\",\n",
    "                \"3-13.\",\n",
    "                \"3-18.\",\n",
    "                \"3-3.\",\n",
    "                \"4-1.\",\n",
    "                \"4-10.\",\n",
    "                \"4-11.\",\n",
    "                \"4-19.\",\n",
    "                \"5-5.\",\n",
    "                \"6-15.\",\n",
    "                \"7-10.\",\n",
    "                \"7-14.\",\n",
    "                \"8-18.\",\n",
    "                \"8-20.\",\n",
    "                \"8-3.\",\n",
    "                \"8-8.\",\n",
    "            ],\n",
    "            \"domains\": [1, 2, 3, 4, 5],\n",
    "            \"num_examples_per_domain_per_label\": -1,\n",
    "            \"pickle_path\": \"/mnt/wd500GB/CSC500/csc500-main/datasets/cores.stratified_ds.2022A.pkl\",\n",
    "            \"source_or_target_dataset\": \"target\",\n",
    "            \"x_transforms\": [\"unit_power\"],\n",
    "            \"episode_transforms\": [],\n",
    "            \"domain_prefix\": \"C_\",\n",
    "        },\n",
    "        {\n",
    "            \"labels\": [\n",
    "                \"1-10\",\n",
    "                \"1-12\",\n",
    "                \"1-14\",\n",
    "                \"1-16\",\n",
    "                \"1-18\",\n",
    "                \"1-19\",\n",
    "                \"1-8\",\n",
    "                \"10-11\",\n",
    "                \"10-17\",\n",
    "                \"10-4\",\n",
    "                \"10-7\",\n",
    "                \"11-1\",\n",
    "                \"11-10\",\n",
    "                \"11-19\",\n",
    "                \"11-20\",\n",
    "                \"11-4\",\n",
    "                \"11-7\",\n",
    "                \"12-19\",\n",
    "                \"12-20\",\n",
    "                \"12-7\",\n",
    "                \"13-14\",\n",
    "                \"13-18\",\n",
    "                \"13-19\",\n",
    "                \"13-20\",\n",
    "                \"13-3\",\n",
    "                \"13-7\",\n",
    "                \"14-10\",\n",
    "                \"14-11\",\n",
    "                \"14-12\",\n",
    "                \"14-13\",\n",
    "                \"14-14\",\n",
    "                \"14-19\",\n",
    "                \"14-20\",\n",
    "                \"14-7\",\n",
    "                \"14-8\",\n",
    "                \"14-9\",\n",
    "                \"15-1\",\n",
    "                \"15-19\",\n",
    "                \"15-6\",\n",
    "                \"16-1\",\n",
    "                \"16-16\",\n",
    "                \"16-19\",\n",
    "                \"16-20\",\n",
    "                \"17-10\",\n",
    "                \"17-11\",\n",
    "                \"18-1\",\n",
    "                \"18-10\",\n",
    "                \"18-11\",\n",
    "                \"18-12\",\n",
    "                \"18-13\",\n",
    "                \"18-14\",\n",
    "                \"18-15\",\n",
    "                \"18-16\",\n",
    "                \"18-17\",\n",
    "                \"18-19\",\n",
    "                \"18-2\",\n",
    "                \"18-20\",\n",
    "                \"18-4\",\n",
    "                \"18-5\",\n",
    "                \"18-7\",\n",
    "                \"18-8\",\n",
    "                \"18-9\",\n",
    "                \"19-1\",\n",
    "                \"19-10\",\n",
    "                \"19-11\",\n",
    "                \"19-12\",\n",
    "                \"19-13\",\n",
    "                \"19-14\",\n",
    "                \"19-15\",\n",
    "                \"19-19\",\n",
    "                \"19-2\",\n",
    "                \"19-20\",\n",
    "                \"19-3\",\n",
    "                \"19-4\",\n",
    "                \"19-6\",\n",
    "                \"19-7\",\n",
    "                \"19-8\",\n",
    "                \"19-9\",\n",
    "                \"2-1\",\n",
    "                \"2-13\",\n",
    "                \"2-15\",\n",
    "                \"2-3\",\n",
    "                \"2-4\",\n",
    "                \"2-5\",\n",
    "                \"2-6\",\n",
    "                \"2-7\",\n",
    "                \"2-8\",\n",
    "                \"20-1\",\n",
    "                \"20-12\",\n",
    "                \"20-14\",\n",
    "                \"20-15\",\n",
    "                \"20-16\",\n",
    "                \"20-18\",\n",
    "                \"20-19\",\n",
    "                \"20-20\",\n",
    "                \"20-3\",\n",
    "                \"20-4\",\n",
    "                \"20-5\",\n",
    "                \"20-7\",\n",
    "                \"20-8\",\n",
    "                \"3-1\",\n",
    "                \"3-13\",\n",
    "                \"3-18\",\n",
    "                \"3-2\",\n",
    "                \"3-8\",\n",
    "                \"4-1\",\n",
    "                \"4-10\",\n",
    "                \"4-11\",\n",
    "                \"5-1\",\n",
    "                \"5-5\",\n",
    "                \"6-1\",\n",
    "                \"6-15\",\n",
    "                \"6-6\",\n",
    "                \"7-10\",\n",
    "                \"7-11\",\n",
    "                \"7-12\",\n",
    "                \"7-13\",\n",
    "                \"7-14\",\n",
    "                \"7-7\",\n",
    "                \"7-8\",\n",
    "                \"7-9\",\n",
    "                \"8-1\",\n",
    "                \"8-13\",\n",
    "                \"8-14\",\n",
    "                \"8-18\",\n",
    "                \"8-20\",\n",
    "                \"8-3\",\n",
    "                \"8-8\",\n",
    "                \"9-1\",\n",
    "                \"9-7\",\n",
    "            ],\n",
    "            \"domains\": [1, 2, 3, 4],\n",
    "            \"num_examples_per_domain_per_label\": -1,\n",
    "            \"pickle_path\": \"/mnt/wd500GB/CSC500/csc500-main/datasets/wisig.node3-19.stratified_ds.2022A.pkl\",\n",
    "            \"source_or_target_dataset\": \"target\",\n",
    "            \"x_transforms\": [\"unit_power\"],\n",
    "            \"episode_transforms\": [],\n",
    "            \"domain_prefix\": \"W_\",\n",
    "        },\n",
    "        {\n",
    "            \"labels\": [\n",
    "                \"3123D52\",\n",
    "                \"3123D65\",\n",
    "                \"3123D79\",\n",
    "                \"3123D80\",\n",
    "                \"3123D54\",\n",
    "                \"3123D70\",\n",
    "                \"3123D7B\",\n",
    "                \"3123D89\",\n",
    "                \"3123D58\",\n",
    "                \"3123D76\",\n",
    "                \"3123D7D\",\n",
    "                \"3123EFE\",\n",
    "                \"3123D64\",\n",
    "                \"3123D78\",\n",
    "                \"3123D7E\",\n",
    "                \"3124E4A\",\n",
    "            ],\n",
    "            \"domains\": [32, 38, 8, 44, 14, 50, 20, 26],\n",
    "            \"num_examples_per_domain_per_label\": 2000,\n",
    "            \"pickle_path\": \"/mnt/wd500GB/CSC500/csc500-main/datasets/oracle.Run1_framed_2000Examples_stratified_ds.2022A.pkl\",\n",
    "            \"source_or_target_dataset\": \"source\",\n",
    "            \"x_transforms\": [\"unit_power\"],\n",
    "            \"episode_transforms\": [],\n",
    "            \"domain_prefix\": \"O_\",\n",
    "        },\n",
    "    ],\n",
    "    \"seed\": 154325,\n",
    "    \"dataset_seed\": 154325,\n",
    "}\n"
   ]
  },
  {
   "cell_type": "code",
   "execution_count": 5,
   "id": "8fa1cc33",
   "metadata": {
    "execution": {
     "iopub.execute_input": "2022-03-19T21:53:03.525774Z",
     "iopub.status.busy": "2022-03-19T21:53:03.525314Z",
     "iopub.status.idle": "2022-03-19T21:53:03.538023Z",
     "shell.execute_reply": "2022-03-19T21:53:03.537766Z"
    },
    "papermill": {
     "duration": 0.028402,
     "end_time": "2022-03-19T21:53:03.538088",
     "exception": false,
     "start_time": "2022-03-19T21:53:03.509686",
     "status": "completed"
    },
    "tags": []
   },
   "outputs": [],
   "source": [
    "# Set this to True if you want to run this template directly\n",
    "STANDALONE = False\n",
    "if STANDALONE:\n",
    "    print(\"parameters not injected, running with standalone_parameters\")\n",
    "    parameters = standalone_parameters\n",
    "\n",
    "if not 'parameters' in locals() and not 'parameters' in globals():\n",
    "    raise Exception(\"Parameter injection failed\")\n",
    "\n",
    "#Use an easy dict for all the parameters\n",
    "p = EasyDict(parameters)\n",
    "\n",
    "if \"x_shape\" not in p:\n",
    "    p.x_shape = [2,256] # Default to this if we dont supply x_shape\n",
    "\n",
    "\n",
    "supplied_keys = set(p.keys())\n",
    "\n",
    "if  supplied_keys != required_parameters:\n",
    "    print(\"Parameters are incorrect\")\n",
    "    if len(supplied_keys - required_parameters)>0: print(\"Shouldn't have:\", str(supplied_keys - required_parameters))\n",
    "    if len(required_parameters - supplied_keys)>0: print(\"Need to have:\", str(required_parameters - supplied_keys))\n",
    "    raise RuntimeError(\"Parameters are incorrect\")"
   ]
  },
  {
   "cell_type": "code",
   "execution_count": 6,
   "id": "3a028d58",
   "metadata": {
    "execution": {
     "iopub.execute_input": "2022-03-19T21:53:03.567307Z",
     "iopub.status.busy": "2022-03-19T21:53:03.566880Z",
     "iopub.status.idle": "2022-03-19T21:53:03.579157Z",
     "shell.execute_reply": "2022-03-19T21:53:03.578890Z"
    },
    "papermill": {
     "duration": 0.027762,
     "end_time": "2022-03-19T21:53:03.579219",
     "exception": false,
     "start_time": "2022-03-19T21:53:03.551457",
     "status": "completed"
    },
    "tags": []
   },
   "outputs": [],
   "source": [
    "###################################\n",
    "# Set the RNGs and make it all deterministic\n",
    "###################################\n",
    "np.random.seed(p.seed)\n",
    "random.seed(p.seed)\n",
    "torch.manual_seed(p.seed)\n",
    "\n",
    "torch.use_deterministic_algorithms(True) "
   ]
  },
  {
   "cell_type": "code",
   "execution_count": 7,
   "id": "b691acf6",
   "metadata": {
    "execution": {
     "iopub.execute_input": "2022-03-19T21:53:03.610172Z",
     "iopub.status.busy": "2022-03-19T21:53:03.609780Z",
     "iopub.status.idle": "2022-03-19T21:53:03.620867Z",
     "shell.execute_reply": "2022-03-19T21:53:03.621086Z"
    },
    "papermill": {
     "duration": 0.025944,
     "end_time": "2022-03-19T21:53:03.621157",
     "exception": false,
     "start_time": "2022-03-19T21:53:03.595213",
     "status": "completed"
    },
    "tags": []
   },
   "outputs": [],
   "source": [
    "###########################################\n",
    "# The stratified datasets honor this\n",
    "###########################################\n",
    "torch.set_default_dtype(eval(p.torch_default_dtype))"
   ]
  },
  {
   "cell_type": "code",
   "execution_count": 8,
   "id": "b5fba671",
   "metadata": {
    "execution": {
     "iopub.execute_input": "2022-03-19T21:53:03.650784Z",
     "iopub.status.busy": "2022-03-19T21:53:03.650388Z",
     "iopub.status.idle": "2022-03-19T21:53:03.689813Z",
     "shell.execute_reply": "2022-03-19T21:53:03.689568Z"
    },
    "papermill": {
     "duration": 0.055369,
     "end_time": "2022-03-19T21:53:03.689884",
     "exception": false,
     "start_time": "2022-03-19T21:53:03.634515",
     "status": "completed"
    },
    "tags": []
   },
   "outputs": [],
   "source": [
    "###################################\n",
    "# Build the network(s)\n",
    "# Note: It's critical to do this AFTER setting the RNG\n",
    "###################################\n",
    "x_net = build_sequential(p.x_net)"
   ]
  },
  {
   "cell_type": "code",
   "execution_count": 9,
   "id": "5d7e61cc",
   "metadata": {
    "execution": {
     "iopub.execute_input": "2022-03-19T21:53:03.719221Z",
     "iopub.status.busy": "2022-03-19T21:53:03.718825Z",
     "iopub.status.idle": "2022-03-19T21:53:03.730293Z",
     "shell.execute_reply": "2022-03-19T21:53:03.730025Z"
    },
    "papermill": {
     "duration": 0.026796,
     "end_time": "2022-03-19T21:53:03.730353",
     "exception": false,
     "start_time": "2022-03-19T21:53:03.703557",
     "status": "completed"
    },
    "tags": []
   },
   "outputs": [],
   "source": [
    "start_time_secs = time.time()"
   ]
  },
  {
   "cell_type": "code",
   "execution_count": 10,
   "id": "c6b67dfd",
   "metadata": {
    "execution": {
     "iopub.execute_input": "2022-03-19T21:53:03.759269Z",
     "iopub.status.busy": "2022-03-19T21:53:03.758844Z",
     "iopub.status.idle": "2022-03-19T21:53:03.769934Z",
     "shell.execute_reply": "2022-03-19T21:53:03.769686Z"
    },
    "papermill": {
     "duration": 0.026407,
     "end_time": "2022-03-19T21:53:03.769994",
     "exception": false,
     "start_time": "2022-03-19T21:53:03.743587",
     "status": "completed"
    },
    "tags": []
   },
   "outputs": [],
   "source": [
    "p.domains_source = []\n",
    "p.domains_target = []\n",
    "\n",
    "\n",
    "train_original_source = []\n",
    "val_original_source   = []\n",
    "test_original_source  = []\n",
    "\n",
    "train_original_target = []\n",
    "val_original_target   = []\n",
    "test_original_target  = []"
   ]
  },
  {
   "cell_type": "code",
   "execution_count": 11,
   "id": "e3d9c3d3",
   "metadata": {
    "execution": {
     "iopub.execute_input": "2022-03-19T21:53:03.800605Z",
     "iopub.status.busy": "2022-03-19T21:53:03.800207Z",
     "iopub.status.idle": "2022-03-19T21:53:03.810801Z",
     "shell.execute_reply": "2022-03-19T21:53:03.811012Z"
    },
    "papermill": {
     "duration": 0.025871,
     "end_time": "2022-03-19T21:53:03.811086",
     "exception": false,
     "start_time": "2022-03-19T21:53:03.785215",
     "status": "completed"
    },
    "tags": []
   },
   "outputs": [],
   "source": [
    "# global_x_transform_func = lambda x: normalize(x.to(torch.get_default_dtype()), \"unit_power\") # unit_power, unit_mag\n",
    "# global_x_transform_func = lambda x: normalize(x, \"unit_power\") # unit_power, unit_mag"
   ]
  },
  {
   "cell_type": "code",
   "execution_count": 12,
   "id": "acb78fd2",
   "metadata": {
    "execution": {
     "iopub.execute_input": "2022-03-19T21:53:03.843472Z",
     "iopub.status.busy": "2022-03-19T21:53:03.843038Z",
     "iopub.status.idle": "2022-03-19T21:53:03.856112Z",
     "shell.execute_reply": "2022-03-19T21:53:03.855821Z"
    },
    "papermill": {
     "duration": 0.031358,
     "end_time": "2022-03-19T21:53:03.856177",
     "exception": false,
     "start_time": "2022-03-19T21:53:03.824819",
     "status": "completed"
    },
    "tags": []
   },
   "outputs": [],
   "source": [
    "def add_dataset(\n",
    "    labels,\n",
    "    domains,\n",
    "    pickle_path,\n",
    "    x_transforms,\n",
    "    episode_transforms,\n",
    "    domain_prefix,\n",
    "    num_examples_per_domain_per_label,\n",
    "    source_or_target_dataset:str,\n",
    "    iterator_seed=p.seed,\n",
    "    dataset_seed=p.dataset_seed,\n",
    "    n_shot=p.n_shot,\n",
    "    n_way=p.n_way,\n",
    "    n_query=p.n_query,\n",
    "    train_val_test_k_factors=(p.train_k_factor,p.val_k_factor,p.test_k_factor),\n",
    "):\n",
    "   \n",
    "    if x_transforms == []: x_transform = None\n",
    "    else: x_transform = get_chained_transform(x_transforms)\n",
    "    \n",
    "    if episode_transforms == []: episode_transform = None\n",
    "    else: raise Exception(\"episode_transforms not implemented\")\n",
    "    \n",
    "    episode_transform = lambda tup, _prefix=domain_prefix: (_prefix + str(tup[0]), tup[1])\n",
    "\n",
    "\n",
    "    eaf = Episodic_Accessor_Factory(\n",
    "        labels=labels,\n",
    "        domains=domains,\n",
    "        num_examples_per_domain_per_label=num_examples_per_domain_per_label,\n",
    "        iterator_seed=iterator_seed,\n",
    "        dataset_seed=dataset_seed,\n",
    "        n_shot=n_shot,\n",
    "        n_way=n_way,\n",
    "        n_query=n_query,\n",
    "        train_val_test_k_factors=train_val_test_k_factors,\n",
    "        pickle_path=pickle_path,\n",
    "        x_transform_func=x_transform,\n",
    "    )\n",
    "\n",
    "    train, val, test = eaf.get_train(), eaf.get_val(), eaf.get_test()\n",
    "    train = Lazy_Iterable_Wrapper(train, episode_transform)\n",
    "    val = Lazy_Iterable_Wrapper(val, episode_transform)\n",
    "    test = Lazy_Iterable_Wrapper(test, episode_transform)\n",
    "\n",
    "    if source_or_target_dataset==\"source\":\n",
    "        train_original_source.append(train)\n",
    "        val_original_source.append(val)\n",
    "        test_original_source.append(test)\n",
    "\n",
    "        p.domains_source.extend(\n",
    "            [domain_prefix + str(u) for u in domains]\n",
    "        )\n",
    "    elif source_or_target_dataset==\"target\":\n",
    "        train_original_target.append(train)\n",
    "        val_original_target.append(val)\n",
    "        test_original_target.append(test)\n",
    "        p.domains_target.extend(\n",
    "            [domain_prefix + str(u) for u in domains]\n",
    "        )\n",
    "    else:\n",
    "        raise Exception(f\"invalid source_or_target_dataset: {source_or_target_dataset}\")\n",
    "    "
   ]
  },
  {
   "cell_type": "code",
   "execution_count": 13,
   "id": "fe266617",
   "metadata": {
    "execution": {
     "iopub.execute_input": "2022-03-19T21:53:03.885076Z",
     "iopub.status.busy": "2022-03-19T21:53:03.884673Z",
     "iopub.status.idle": "2022-03-19T21:53:51.526122Z",
     "shell.execute_reply": "2022-03-19T21:53:51.525680Z"
    },
    "papermill": {
     "duration": 47.65653,
     "end_time": "2022-03-19T21:53:51.526231",
     "exception": false,
     "start_time": "2022-03-19T21:53:03.869701",
     "status": "completed"
    },
    "tags": []
   },
   "outputs": [],
   "source": [
    "for ds in p.datasets:\n",
    "    add_dataset(**ds)"
   ]
  },
  {
   "cell_type": "code",
   "execution_count": 14,
   "id": "b90d65ac",
   "metadata": {
    "execution": {
     "iopub.execute_input": "2022-03-19T21:53:51.563486Z",
     "iopub.status.busy": "2022-03-19T21:53:51.563212Z",
     "iopub.status.idle": "2022-03-19T21:53:51.576380Z",
     "shell.execute_reply": "2022-03-19T21:53:51.576678Z"
    },
    "papermill": {
     "duration": 0.031153,
     "end_time": "2022-03-19T21:53:51.576776",
     "exception": false,
     "start_time": "2022-03-19T21:53:51.545623",
     "status": "completed"
    },
    "tags": []
   },
   "outputs": [],
   "source": [
    "# from steves_utils.CORES.utils import (\n",
    "#     ALL_NODES,\n",
    "#     ALL_NODES_MINIMUM_1000_EXAMPLES,\n",
    "#     ALL_DAYS\n",
    "# )\n",
    "\n",
    "# add_dataset(\n",
    "#     labels=ALL_NODES,\n",
    "#     domains = ALL_DAYS,\n",
    "#     num_examples_per_domain_per_label=100,\n",
    "#     pickle_path=os.path.join(get_datasets_base_path(), \"cores.stratified_ds.2022A.pkl\"),\n",
    "#     source_or_target_dataset=\"target\",\n",
    "#     x_transform_func=global_x_transform_func,\n",
    "#     domain_modifier=lambda u: f\"cores_{u}\"\n",
    "# )"
   ]
  },
  {
   "cell_type": "code",
   "execution_count": 15,
   "id": "76db484d",
   "metadata": {
    "execution": {
     "iopub.execute_input": "2022-03-19T21:53:51.612765Z",
     "iopub.status.busy": "2022-03-19T21:53:51.612263Z",
     "iopub.status.idle": "2022-03-19T21:53:51.623326Z",
     "shell.execute_reply": "2022-03-19T21:53:51.622906Z"
    },
    "papermill": {
     "duration": 0.0271,
     "end_time": "2022-03-19T21:53:51.623433",
     "exception": false,
     "start_time": "2022-03-19T21:53:51.596333",
     "status": "completed"
    },
    "tags": []
   },
   "outputs": [],
   "source": [
    "# from steves_utils.ORACLE.utils_v2 import (\n",
    "#     ALL_DISTANCES_FEET,\n",
    "#     ALL_RUNS,\n",
    "#     ALL_SERIAL_NUMBERS,\n",
    "# )\n",
    "\n",
    "\n",
    "# add_dataset(\n",
    "#     labels=ALL_SERIAL_NUMBERS,\n",
    "#     domains = list(set(ALL_DISTANCES_FEET) - {2,62}),\n",
    "#     num_examples_per_domain_per_label=100,\n",
    "#     pickle_path=os.path.join(get_datasets_base_path(), \"oracle.Run2_framed_2000Examples_stratified_ds.2022A.pkl\"),\n",
    "#     source_or_target_dataset=\"source\",\n",
    "#     x_transform_func=global_x_transform_func,\n",
    "#     domain_modifier=lambda u: f\"oracle1_{u}\"\n",
    "# )\n"
   ]
  },
  {
   "cell_type": "code",
   "execution_count": 16,
   "id": "97dea9d2",
   "metadata": {
    "execution": {
     "iopub.execute_input": "2022-03-19T21:53:51.656883Z",
     "iopub.status.busy": "2022-03-19T21:53:51.656632Z",
     "iopub.status.idle": "2022-03-19T21:53:51.670403Z",
     "shell.execute_reply": "2022-03-19T21:53:51.670154Z"
    },
    "papermill": {
     "duration": 0.029462,
     "end_time": "2022-03-19T21:53:51.670459",
     "exception": false,
     "start_time": "2022-03-19T21:53:51.640997",
     "status": "completed"
    },
    "tags": []
   },
   "outputs": [],
   "source": [
    "# from steves_utils.ORACLE.utils_v2 import (\n",
    "#     ALL_DISTANCES_FEET,\n",
    "#     ALL_RUNS,\n",
    "#     ALL_SERIAL_NUMBERS,\n",
    "# )\n",
    "\n",
    "\n",
    "# add_dataset(\n",
    "#     labels=ALL_SERIAL_NUMBERS,\n",
    "#     domains = list(set(ALL_DISTANCES_FEET) - {2,62,56}),\n",
    "#     num_examples_per_domain_per_label=100,\n",
    "#     pickle_path=os.path.join(get_datasets_base_path(), \"oracle.Run2_framed_2000Examples_stratified_ds.2022A.pkl\"),\n",
    "#     source_or_target_dataset=\"source\",\n",
    "#     x_transform_func=global_x_transform_func,\n",
    "#     domain_modifier=lambda u: f\"oracle2_{u}\"\n",
    "# )"
   ]
  },
  {
   "cell_type": "code",
   "execution_count": 17,
   "id": "6f289866",
   "metadata": {
    "execution": {
     "iopub.execute_input": "2022-03-19T21:53:51.704609Z",
     "iopub.status.busy": "2022-03-19T21:53:51.704360Z",
     "iopub.status.idle": "2022-03-19T21:53:51.718435Z",
     "shell.execute_reply": "2022-03-19T21:53:51.718820Z"
    },
    "papermill": {
     "duration": 0.030132,
     "end_time": "2022-03-19T21:53:51.718938",
     "exception": false,
     "start_time": "2022-03-19T21:53:51.688806",
     "status": "completed"
    },
    "tags": []
   },
   "outputs": [],
   "source": [
    "# add_dataset(\n",
    "#     labels=list(range(19)),\n",
    "#     domains = [0,1,2],\n",
    "#     num_examples_per_domain_per_label=100,\n",
    "#     pickle_path=os.path.join(get_datasets_base_path(), \"metehan.stratified_ds.2022A.pkl\"),\n",
    "#     source_or_target_dataset=\"target\",\n",
    "#     x_transform_func=global_x_transform_func,\n",
    "#     domain_modifier=lambda u: f\"met_{u}\"\n",
    "# )"
   ]
  },
  {
   "cell_type": "code",
   "execution_count": 18,
   "id": "86a863c3",
   "metadata": {
    "execution": {
     "iopub.execute_input": "2022-03-19T21:53:51.753848Z",
     "iopub.status.busy": "2022-03-19T21:53:51.753598Z",
     "iopub.status.idle": "2022-03-19T21:53:51.768265Z",
     "shell.execute_reply": "2022-03-19T21:53:51.768627Z"
    },
    "papermill": {
     "duration": 0.031587,
     "end_time": "2022-03-19T21:53:51.768747",
     "exception": false,
     "start_time": "2022-03-19T21:53:51.737160",
     "status": "completed"
    },
    "tags": []
   },
   "outputs": [],
   "source": [
    "# # from steves_utils.wisig.utils import (\n",
    "# #     ALL_NODES_MINIMUM_100_EXAMPLES,\n",
    "# #     ALL_NODES_MINIMUM_500_EXAMPLES,\n",
    "# #     ALL_NODES_MINIMUM_1000_EXAMPLES,\n",
    "# #     ALL_DAYS\n",
    "# # )\n",
    "\n",
    "# import steves_utils.wisig.utils as wisig\n",
    "\n",
    "\n",
    "# add_dataset(\n",
    "#     labels=wisig.ALL_NODES_MINIMUM_100_EXAMPLES,\n",
    "#     domains = wisig.ALL_DAYS,\n",
    "#     num_examples_per_domain_per_label=100,\n",
    "#     pickle_path=os.path.join(get_datasets_base_path(), \"wisig.node3-19.stratified_ds.2022A.pkl\"),\n",
    "#     source_or_target_dataset=\"target\",\n",
    "#     x_transform_func=global_x_transform_func,\n",
    "#     domain_modifier=lambda u: f\"wisig_{u}\"\n",
    "# )"
   ]
  },
  {
   "cell_type": "code",
   "execution_count": 19,
   "id": "fd5442bc",
   "metadata": {
    "execution": {
     "iopub.execute_input": "2022-03-19T21:53:51.807773Z",
     "iopub.status.busy": "2022-03-19T21:53:51.807479Z",
     "iopub.status.idle": "2022-03-19T21:53:51.821749Z",
     "shell.execute_reply": "2022-03-19T21:53:51.821331Z"
    },
    "papermill": {
     "duration": 0.033275,
     "end_time": "2022-03-19T21:53:51.821850",
     "exception": false,
     "start_time": "2022-03-19T21:53:51.788575",
     "status": "completed"
    },
    "tags": []
   },
   "outputs": [],
   "source": [
    "###################################\n",
    "# Build the dataset\n",
    "###################################\n",
    "train_original_source = Iterable_Aggregator(train_original_source, p.seed)\n",
    "val_original_source = Iterable_Aggregator(val_original_source, p.seed)\n",
    "test_original_source = Iterable_Aggregator(test_original_source, p.seed)\n",
    "\n",
    "\n",
    "train_original_target = Iterable_Aggregator(train_original_target, p.seed)\n",
    "val_original_target = Iterable_Aggregator(val_original_target, p.seed)\n",
    "test_original_target = Iterable_Aggregator(test_original_target, p.seed)\n",
    "\n",
    "# For CNN We only use X and Y. And we only train on the source.\n",
    "# Properly form the data using a transform lambda and Lazy_Iterable_Wrapper. Finally wrap them in a dataloader\n",
    "\n",
    "transform_lambda = lambda ex: ex[1] # Original is (<domain>, <episode>) so we strip down to episode only\n",
    "\n",
    "train_processed_source = Lazy_Iterable_Wrapper(train_original_source, transform_lambda)\n",
    "val_processed_source   = Lazy_Iterable_Wrapper(val_original_source, transform_lambda)\n",
    "test_processed_source  = Lazy_Iterable_Wrapper(test_original_source, transform_lambda)\n",
    "\n",
    "train_processed_target = Lazy_Iterable_Wrapper(train_original_target, transform_lambda)\n",
    "val_processed_target   = Lazy_Iterable_Wrapper(val_original_target, transform_lambda)\n",
    "test_processed_target  = Lazy_Iterable_Wrapper(test_original_target, transform_lambda)\n",
    "\n",
    "datasets = EasyDict({\n",
    "    \"source\": {\n",
    "        \"original\": {\"train\":train_original_source, \"val\":val_original_source, \"test\":test_original_source},\n",
    "        \"processed\": {\"train\":train_processed_source, \"val\":val_processed_source, \"test\":test_processed_source}\n",
    "    },\n",
    "    \"target\": {\n",
    "        \"original\": {\"train\":train_original_target, \"val\":val_original_target, \"test\":test_original_target},\n",
    "        \"processed\": {\"train\":train_processed_target, \"val\":val_processed_target, \"test\":test_processed_target}\n",
    "    },\n",
    "})"
   ]
  },
  {
   "cell_type": "code",
   "execution_count": 20,
   "id": "5b3c01fc",
   "metadata": {
    "execution": {
     "iopub.execute_input": "2022-03-19T21:53:51.858696Z",
     "iopub.status.busy": "2022-03-19T21:53:51.858443Z",
     "iopub.status.idle": "2022-03-19T21:54:00.670614Z",
     "shell.execute_reply": "2022-03-19T21:54:00.671114Z"
    },
    "papermill": {
     "duration": 8.830624,
     "end_time": "2022-03-19T21:54:00.671272",
     "exception": false,
     "start_time": "2022-03-19T21:53:51.840648",
     "status": "completed"
    },
    "tags": []
   },
   "outputs": [
    {
     "name": "stdout",
     "output_type": "stream",
     "text": [
      "{'O_8', 'O_20', 'O_14', 'O_44', 'O_26', 'O_38', 'O_32', 'O_50'}\n"
     ]
    },
    {
     "name": "stdout",
     "output_type": "stream",
     "text": [
      "{'C_2', 'W_1', 'W_4', 'C_5', 'C_3', 'W_3', 'W_2', 'C_1', 'C_4'}\n"
     ]
    },
    {
     "name": "stdout",
     "output_type": "stream",
     "text": [
      "tensor([[[-0.1928,  1.0235, -0.1790,  ..., -1.0418,  0.4590,  0.5508],\n",
      "         [-0.4039,  0.3534,  0.5003,  ..., -0.0505, -0.9271, -1.0281]],\n",
      "\n",
      "        [[ 0.0508,  1.1409, -0.2910,  ..., -0.8961, -0.0416, -0.7113],\n",
      "         [-0.3880, -0.2910,  0.6005,  ...,  0.3141, -1.2425, -0.8176]],\n",
      "\n",
      "        [[-0.6672, -0.1554,  0.8820,  ..., -0.0594, -1.3024,  0.0228],\n",
      "         [-0.4067, -0.9003,  0.5941,  ...,  0.7997,  0.3016,  1.3253]],\n",
      "\n",
      "        ...,\n",
      "\n",
      "        [[ 0.1032,  0.6571, -0.1032,  ..., -0.8254, -0.8634, -1.0317],\n",
      "         [-0.8906, -0.2715,  1.2924,  ...,  0.0923, -1.0209,  0.8200]],\n",
      "\n",
      "        [[-0.2576,  1.0962,  0.0219,  ..., -1.0414,  0.1918,  0.2905],\n",
      "         [-0.4823,  0.0329,  0.6358,  ...,  0.2521, -1.0633, -1.0359]],\n",
      "\n",
      "        [[-0.7553, -0.7776,  1.0164,  ...,  0.6165, -0.2055,  1.3107],\n",
      "         [ 0.5332, -0.1666, -0.7553,  ...,  0.5387,  1.2941,  0.2333]]])\n"
     ]
    }
   ],
   "source": [
    "from steves_utils.transforms import get_average_magnitude, get_average_power\n",
    "\n",
    "print(set([u for u,_ in val_original_source]))\n",
    "print(set([u for u,_ in val_original_target]))\n",
    "\n",
    "s_x, s_y, q_x, q_y, _ = next(iter(train_processed_source))\n",
    "print(s_x)\n",
    "\n",
    "# for ds in [\n",
    "#     train_processed_source,\n",
    "#     val_processed_source,\n",
    "#     test_processed_source,\n",
    "#     train_processed_target,\n",
    "#     val_processed_target,\n",
    "#     test_processed_target\n",
    "# ]:\n",
    "#     for s_x, s_y, q_x, q_y, _ in ds:\n",
    "#         for X in (s_x, q_x):\n",
    "#             for x in X:\n",
    "#                 assert np.isclose(get_average_magnitude(x.numpy()), 1.0)\n",
    "#                 assert np.isclose(get_average_power(x.numpy()), 1.0)\n",
    "                "
   ]
  },
  {
   "cell_type": "code",
   "execution_count": 21,
   "id": "bbdacba1",
   "metadata": {
    "execution": {
     "iopub.execute_input": "2022-03-19T21:54:00.708845Z",
     "iopub.status.busy": "2022-03-19T21:54:00.708591Z",
     "iopub.status.idle": "2022-03-19T21:54:00.766606Z",
     "shell.execute_reply": "2022-03-19T21:54:00.766979Z"
    },
    "papermill": {
     "duration": 0.076328,
     "end_time": "2022-03-19T21:54:00.767091",
     "exception": false,
     "start_time": "2022-03-19T21:54:00.690763",
     "status": "completed"
    },
    "tags": []
   },
   "outputs": [
    {
     "name": "stdout",
     "output_type": "stream",
     "text": [
      "(2, 256)\n"
     ]
    }
   ],
   "source": [
    "###################################\n",
    "# Build the model\n",
    "###################################\n",
    "# easfsl only wants a tuple for the shape\n",
    "model = Steves_Prototypical_Network(x_net, device=p.device, x_shape=tuple(p.x_shape))\n",
    "optimizer = Adam(params=model.parameters(), lr=p.lr)"
   ]
  },
  {
   "cell_type": "code",
   "execution_count": 22,
   "id": "22b39ac5",
   "metadata": {
    "execution": {
     "iopub.execute_input": "2022-03-19T21:54:00.803940Z",
     "iopub.status.busy": "2022-03-19T21:54:00.803689Z",
     "iopub.status.idle": "2022-03-19T22:16:09.040354Z",
     "shell.execute_reply": "2022-03-19T22:16:09.040129Z"
    },
    "papermill": {
     "duration": 1328.254721,
     "end_time": "2022-03-19T22:16:09.040413",
     "exception": false,
     "start_time": "2022-03-19T21:54:00.785692",
     "status": "completed"
    },
    "tags": []
   },
   "outputs": [
    {
     "name": "stdout",
     "output_type": "stream",
     "text": [
      "epoch: 1, [batch: 1 / 6720], examples_per_second: 48.2631, train_label_loss: 2.9694, \n"
     ]
    },
    {
     "name": "stdout",
     "output_type": "stream",
     "text": [
      "epoch: 1, [batch: 672 / 6720], examples_per_second: 3195.7960, train_label_loss: 0.8189, \n"
     ]
    },
    {
     "name": "stdout",
     "output_type": "stream",
     "text": [
      "epoch: 1, [batch: 1344 / 6720], examples_per_second: 3226.5307, train_label_loss: 0.8025, \n"
     ]
    },
    {
     "name": "stdout",
     "output_type": "stream",
     "text": [
      "epoch: 1, [batch: 2016 / 6720], examples_per_second: 3213.7606, train_label_loss: 0.4866, \n"
     ]
    },
    {
     "name": "stdout",
     "output_type": "stream",
     "text": [
      "epoch: 1, [batch: 2688 / 6720], examples_per_second: 3203.9622, train_label_loss: 0.4797, \n"
     ]
    },
    {
     "name": "stdout",
     "output_type": "stream",
     "text": [
      "epoch: 1, [batch: 3360 / 6720], examples_per_second: 3198.2121, train_label_loss: 0.4814, \n"
     ]
    },
    {
     "name": "stdout",
     "output_type": "stream",
     "text": [
      "epoch: 1, [batch: 4032 / 6720], examples_per_second: 3205.0483, train_label_loss: 0.6457, \n"
     ]
    },
    {
     "name": "stdout",
     "output_type": "stream",
     "text": [
      "epoch: 1, [batch: 4704 / 6720], examples_per_second: 3197.2751, train_label_loss: 0.3159, \n"
     ]
    },
    {
     "name": "stdout",
     "output_type": "stream",
     "text": [
      "epoch: 1, [batch: 5376 / 6720], examples_per_second: 3200.6189, train_label_loss: 0.4030, \n"
     ]
    },
    {
     "name": "stdout",
     "output_type": "stream",
     "text": [
      "epoch: 1, [batch: 6048 / 6720], examples_per_second: 3192.1869, train_label_loss: 0.5401, \n"
     ]
    },
    {
     "name": "stdout",
     "output_type": "stream",
     "text": [
      "=============================================================\n",
      "epoch: 1, source_val_acc_label: 0.7753, target_val_acc_label: 0.5885, source_val_label_loss: 0.7008, target_val_label_loss: 2.8143, \n",
      "=============================================================\n"
     ]
    },
    {
     "name": "stdout",
     "output_type": "stream",
     "text": [
      "New best\n"
     ]
    },
    {
     "name": "stdout",
     "output_type": "stream",
     "text": [
      "epoch: 2, [batch: 1 / 6720], examples_per_second: 4.0287, train_label_loss: 0.5012, \n"
     ]
    },
    {
     "name": "stdout",
     "output_type": "stream",
     "text": [
      "epoch: 2, [batch: 672 / 6720], examples_per_second: 3212.2741, train_label_loss: 0.4787, \n"
     ]
    },
    {
     "name": "stdout",
     "output_type": "stream",
     "text": [
      "epoch: 2, [batch: 1344 / 6720], examples_per_second: 3234.7735, train_label_loss: 0.9199, \n"
     ]
    },
    {
     "name": "stdout",
     "output_type": "stream",
     "text": [
      "epoch: 2, [batch: 2016 / 6720], examples_per_second: 3227.7666, train_label_loss: 0.2448, \n"
     ]
    },
    {
     "name": "stdout",
     "output_type": "stream",
     "text": [
      "epoch: 2, [batch: 2688 / 6720], examples_per_second: 3230.1742, train_label_loss: 0.6094, \n"
     ]
    },
    {
     "name": "stdout",
     "output_type": "stream",
     "text": [
      "epoch: 2, [batch: 3360 / 6720], examples_per_second: 3224.4663, train_label_loss: 0.4708, \n"
     ]
    },
    {
     "name": "stdout",
     "output_type": "stream",
     "text": [
      "epoch: 2, [batch: 4032 / 6720], examples_per_second: 3224.7866, train_label_loss: 0.2780, \n"
     ]
    },
    {
     "name": "stdout",
     "output_type": "stream",
     "text": [
      "epoch: 2, [batch: 4704 / 6720], examples_per_second: 3215.2194, train_label_loss: 0.2029, \n"
     ]
    },
    {
     "name": "stdout",
     "output_type": "stream",
     "text": [
      "epoch: 2, [batch: 5376 / 6720], examples_per_second: 3241.4110, train_label_loss: 1.1798, \n"
     ]
    },
    {
     "name": "stdout",
     "output_type": "stream",
     "text": [
      "epoch: 2, [batch: 6048 / 6720], examples_per_second: 3219.5343, train_label_loss: 0.2941, \n"
     ]
    },
    {
     "name": "stdout",
     "output_type": "stream",
     "text": [
      "=============================================================\n",
      "epoch: 2, source_val_acc_label: 0.8498, target_val_acc_label: 0.7277, source_val_label_loss: 0.4302, target_val_label_loss: 3.1654, \n",
      "=============================================================\n"
     ]
    },
    {
     "name": "stdout",
     "output_type": "stream",
     "text": [
      "New best\n"
     ]
    },
    {
     "name": "stdout",
     "output_type": "stream",
     "text": [
      "epoch: 3, [batch: 1 / 6720], examples_per_second: 4.0301, train_label_loss: 0.4157, \n"
     ]
    },
    {
     "name": "stdout",
     "output_type": "stream",
     "text": [
      "epoch: 3, [batch: 672 / 6720], examples_per_second: 3187.0655, train_label_loss: 0.3572, \n"
     ]
    },
    {
     "name": "stdout",
     "output_type": "stream",
     "text": [
      "epoch: 3, [batch: 1344 / 6720], examples_per_second: 3238.5440, train_label_loss: 0.8752, \n"
     ]
    },
    {
     "name": "stdout",
     "output_type": "stream",
     "text": [
      "epoch: 3, [batch: 2016 / 6720], examples_per_second: 3249.0136, train_label_loss: 0.4544, \n"
     ]
    },
    {
     "name": "stdout",
     "output_type": "stream",
     "text": [
      "epoch: 3, [batch: 2688 / 6720], examples_per_second: 3230.8514, train_label_loss: 0.3681, \n"
     ]
    },
    {
     "name": "stdout",
     "output_type": "stream",
     "text": [
      "epoch: 3, [batch: 3360 / 6720], examples_per_second: 3238.3169, train_label_loss: 0.2327, \n"
     ]
    },
    {
     "name": "stdout",
     "output_type": "stream",
     "text": [
      "epoch: 3, [batch: 4032 / 6720], examples_per_second: 3219.5058, train_label_loss: 0.2653, \n"
     ]
    },
    {
     "name": "stdout",
     "output_type": "stream",
     "text": [
      "epoch: 3, [batch: 4704 / 6720], examples_per_second: 3224.9970, train_label_loss: 0.3359, \n"
     ]
    },
    {
     "name": "stdout",
     "output_type": "stream",
     "text": [
      "epoch: 3, [batch: 5376 / 6720], examples_per_second: 3227.6819, train_label_loss: 0.1795, \n"
     ]
    },
    {
     "name": "stdout",
     "output_type": "stream",
     "text": [
      "epoch: 3, [batch: 6048 / 6720], examples_per_second: 3255.7790, train_label_loss: 0.3527, \n"
     ]
    },
    {
     "name": "stdout",
     "output_type": "stream",
     "text": [
      "=============================================================\n",
      "epoch: 3, source_val_acc_label: 0.8677, target_val_acc_label: 0.7360, source_val_label_loss: 0.3723, target_val_label_loss: 3.7239, \n",
      "=============================================================\n"
     ]
    },
    {
     "name": "stdout",
     "output_type": "stream",
     "text": [
      "New best\n"
     ]
    },
    {
     "name": "stdout",
     "output_type": "stream",
     "text": [
      "epoch: 4, [batch: 1 / 6720], examples_per_second: 4.0451, train_label_loss: 0.1455, \n"
     ]
    },
    {
     "name": "stdout",
     "output_type": "stream",
     "text": [
      "epoch: 4, [batch: 672 / 6720], examples_per_second: 3211.5753, train_label_loss: 0.1422, \n"
     ]
    },
    {
     "name": "stdout",
     "output_type": "stream",
     "text": [
      "epoch: 4, [batch: 1344 / 6720], examples_per_second: 3210.6754, train_label_loss: 0.2423, \n"
     ]
    },
    {
     "name": "stdout",
     "output_type": "stream",
     "text": [
      "epoch: 4, [batch: 2016 / 6720], examples_per_second: 3217.1085, train_label_loss: 0.2520, \n"
     ]
    },
    {
     "name": "stdout",
     "output_type": "stream",
     "text": [
      "epoch: 4, [batch: 2688 / 6720], examples_per_second: 3210.0454, train_label_loss: 0.4406, \n"
     ]
    },
    {
     "name": "stdout",
     "output_type": "stream",
     "text": [
      "epoch: 4, [batch: 3360 / 6720], examples_per_second: 3236.6837, train_label_loss: 0.1373, \n"
     ]
    },
    {
     "name": "stdout",
     "output_type": "stream",
     "text": [
      "epoch: 4, [batch: 4032 / 6720], examples_per_second: 3239.1758, train_label_loss: 0.3586, \n"
     ]
    },
    {
     "name": "stdout",
     "output_type": "stream",
     "text": [
      "epoch: 4, [batch: 4704 / 6720], examples_per_second: 3215.6532, train_label_loss: 0.1923, \n"
     ]
    },
    {
     "name": "stdout",
     "output_type": "stream",
     "text": [
      "epoch: 4, [batch: 5376 / 6720], examples_per_second: 3223.7846, train_label_loss: 0.0721, \n"
     ]
    },
    {
     "name": "stdout",
     "output_type": "stream",
     "text": [
      "epoch: 4, [batch: 6048 / 6720], examples_per_second: 3223.4390, train_label_loss: 0.1386, \n"
     ]
    },
    {
     "name": "stdout",
     "output_type": "stream",
     "text": [
      "=============================================================\n",
      "epoch: 4, source_val_acc_label: 0.8852, target_val_acc_label: 0.6961, source_val_label_loss: 0.3224, target_val_label_loss: 4.1691, \n",
      "=============================================================\n"
     ]
    },
    {
     "name": "stdout",
     "output_type": "stream",
     "text": [
      "epoch: 5, [batch: 1 / 6720], examples_per_second: 4.0268, train_label_loss: 0.3466, \n"
     ]
    },
    {
     "name": "stdout",
     "output_type": "stream",
     "text": [
      "epoch: 5, [batch: 672 / 6720], examples_per_second: 3194.8741, train_label_loss: 0.8023, \n"
     ]
    },
    {
     "name": "stdout",
     "output_type": "stream",
     "text": [
      "epoch: 5, [batch: 1344 / 6720], examples_per_second: 3211.9704, train_label_loss: 0.1686, \n"
     ]
    },
    {
     "name": "stdout",
     "output_type": "stream",
     "text": [
      "epoch: 5, [batch: 2016 / 6720], examples_per_second: 3219.0291, train_label_loss: 0.8790, \n"
     ]
    },
    {
     "name": "stdout",
     "output_type": "stream",
     "text": [
      "epoch: 5, [batch: 2688 / 6720], examples_per_second: 3216.3305, train_label_loss: 0.1936, \n"
     ]
    },
    {
     "name": "stdout",
     "output_type": "stream",
     "text": [
      "epoch: 5, [batch: 3360 / 6720], examples_per_second: 3241.6130, train_label_loss: 0.6675, \n"
     ]
    },
    {
     "name": "stdout",
     "output_type": "stream",
     "text": [
      "epoch: 5, [batch: 4032 / 6720], examples_per_second: 3251.4179, train_label_loss: 0.1431, \n"
     ]
    },
    {
     "name": "stdout",
     "output_type": "stream",
     "text": [
      "epoch: 5, [batch: 4704 / 6720], examples_per_second: 3224.2931, train_label_loss: 0.3828, \n"
     ]
    },
    {
     "name": "stdout",
     "output_type": "stream",
     "text": [
      "epoch: 5, [batch: 5376 / 6720], examples_per_second: 3224.7039, train_label_loss: 0.1114, \n"
     ]
    },
    {
     "name": "stdout",
     "output_type": "stream",
     "text": [
      "epoch: 5, [batch: 6048 / 6720], examples_per_second: 3226.9767, train_label_loss: 0.2590, \n"
     ]
    },
    {
     "name": "stdout",
     "output_type": "stream",
     "text": [
      "=============================================================\n",
      "epoch: 5, source_val_acc_label: 0.8913, target_val_acc_label: 0.6937, source_val_label_loss: 0.3026, target_val_label_loss: 3.5098, \n",
      "=============================================================\n"
     ]
    },
    {
     "name": "stdout",
     "output_type": "stream",
     "text": [
      "epoch: 6, [batch: 1 / 6720], examples_per_second: 4.0398, train_label_loss: 0.2394, \n"
     ]
    },
    {
     "name": "stdout",
     "output_type": "stream",
     "text": [
      "epoch: 6, [batch: 672 / 6720], examples_per_second: 3217.2081, train_label_loss: 0.1705, \n"
     ]
    },
    {
     "name": "stdout",
     "output_type": "stream",
     "text": [
      "epoch: 6, [batch: 1344 / 6720], examples_per_second: 3242.9434, train_label_loss: 0.1506, \n"
     ]
    },
    {
     "name": "stdout",
     "output_type": "stream",
     "text": [
      "epoch: 6, [batch: 2016 / 6720], examples_per_second: 3228.7577, train_label_loss: 0.2087, \n"
     ]
    },
    {
     "name": "stdout",
     "output_type": "stream",
     "text": [
      "epoch: 6, [batch: 2688 / 6720], examples_per_second: 3214.8398, train_label_loss: 0.3546, \n"
     ]
    },
    {
     "name": "stdout",
     "output_type": "stream",
     "text": [
      "epoch: 6, [batch: 3360 / 6720], examples_per_second: 3240.5253, train_label_loss: 0.2469, \n"
     ]
    },
    {
     "name": "stdout",
     "output_type": "stream",
     "text": [
      "epoch: 6, [batch: 4032 / 6720], examples_per_second: 3232.5070, train_label_loss: 0.2581, \n"
     ]
    },
    {
     "name": "stdout",
     "output_type": "stream",
     "text": [
      "epoch: 6, [batch: 4704 / 6720], examples_per_second: 3228.3958, train_label_loss: 0.4436, \n"
     ]
    },
    {
     "name": "stdout",
     "output_type": "stream",
     "text": [
      "epoch: 6, [batch: 5376 / 6720], examples_per_second: 3236.2399, train_label_loss: 0.2818, \n"
     ]
    },
    {
     "name": "stdout",
     "output_type": "stream",
     "text": [
      "epoch: 6, [batch: 6048 / 6720], examples_per_second: 3236.9024, train_label_loss: 0.3572, \n"
     ]
    },
    {
     "name": "stdout",
     "output_type": "stream",
     "text": [
      "=============================================================\n",
      "epoch: 6, source_val_acc_label: 0.8946, target_val_acc_label: 0.6663, source_val_label_loss: 0.2963, target_val_label_loss: 3.9792, \n",
      "=============================================================\n"
     ]
    },
    {
     "name": "stdout",
     "output_type": "stream",
     "text": [
      "epoch: 7, [batch: 1 / 6720], examples_per_second: 4.0375, train_label_loss: 0.0863, \n"
     ]
    },
    {
     "name": "stdout",
     "output_type": "stream",
     "text": [
      "epoch: 7, [batch: 672 / 6720], examples_per_second: 3210.0760, train_label_loss: 0.1116, \n"
     ]
    },
    {
     "name": "stdout",
     "output_type": "stream",
     "text": [
      "epoch: 7, [batch: 1344 / 6720], examples_per_second: 3231.1326, train_label_loss: 0.1617, \n"
     ]
    },
    {
     "name": "stdout",
     "output_type": "stream",
     "text": [
      "epoch: 7, [batch: 2016 / 6720], examples_per_second: 3232.7298, train_label_loss: 0.0608, \n"
     ]
    },
    {
     "name": "stdout",
     "output_type": "stream",
     "text": [
      "epoch: 7, [batch: 2688 / 6720], examples_per_second: 3221.0031, train_label_loss: 0.0102, \n"
     ]
    },
    {
     "name": "stdout",
     "output_type": "stream",
     "text": [
      "epoch: 7, [batch: 3360 / 6720], examples_per_second: 3239.6922, train_label_loss: 0.0425, \n"
     ]
    },
    {
     "name": "stdout",
     "output_type": "stream",
     "text": [
      "epoch: 7, [batch: 4032 / 6720], examples_per_second: 3220.8923, train_label_loss: 0.1519, \n"
     ]
    },
    {
     "name": "stdout",
     "output_type": "stream",
     "text": [
      "epoch: 7, [batch: 4704 / 6720], examples_per_second: 3221.3930, train_label_loss: 0.1544, \n"
     ]
    },
    {
     "name": "stdout",
     "output_type": "stream",
     "text": [
      "epoch: 7, [batch: 5376 / 6720], examples_per_second: 3235.7730, train_label_loss: 0.2423, \n"
     ]
    },
    {
     "name": "stdout",
     "output_type": "stream",
     "text": [
      "epoch: 7, [batch: 6048 / 6720], examples_per_second: 3232.0617, train_label_loss: 0.2827, \n"
     ]
    },
    {
     "name": "stdout",
     "output_type": "stream",
     "text": [
      "=============================================================\n",
      "epoch: 7, source_val_acc_label: 0.8955, target_val_acc_label: 0.6513, source_val_label_loss: 0.2869, target_val_label_loss: 4.5642, \n",
      "=============================================================\n"
     ]
    },
    {
     "name": "stdout",
     "output_type": "stream",
     "text": [
      "Patience (3) exhausted\n"
     ]
    }
   ],
   "source": [
    "###################################\n",
    "# train\n",
    "###################################\n",
    "jig = PTN_Train_Eval_Test_Jig(model, p.BEST_MODEL_PATH, p.device)\n",
    "\n",
    "jig.train(\n",
    "    train_iterable=datasets.source.processed.train,\n",
    "    source_val_iterable=datasets.source.processed.val,\n",
    "    target_val_iterable=datasets.target.processed.val,\n",
    "    num_epochs=p.n_epoch,\n",
    "    num_logs_per_epoch=p.NUM_LOGS_PER_EPOCH,\n",
    "    patience=p.patience,\n",
    "    optimizer=optimizer,\n",
    "    criteria_for_best=p.criteria_for_best,\n",
    ")"
   ]
  },
  {
   "cell_type": "code",
   "execution_count": 23,
   "id": "31e8fabf",
   "metadata": {
    "execution": {
     "iopub.execute_input": "2022-03-19T22:16:09.099648Z",
     "iopub.status.busy": "2022-03-19T22:16:09.099398Z",
     "iopub.status.idle": "2022-03-19T22:16:09.118200Z",
     "shell.execute_reply": "2022-03-19T22:16:09.117816Z"
    },
    "papermill": {
     "duration": 0.049506,
     "end_time": "2022-03-19T22:16:09.118291",
     "exception": false,
     "start_time": "2022-03-19T22:16:09.068785",
     "status": "completed"
    },
    "tags": []
   },
   "outputs": [],
   "source": [
    "total_experiment_time_secs = time.time() - start_time_secs"
   ]
  },
  {
   "cell_type": "code",
   "execution_count": 24,
   "id": "87b9595b",
   "metadata": {
    "execution": {
     "iopub.execute_input": "2022-03-19T22:16:09.183437Z",
     "iopub.status.busy": "2022-03-19T22:16:09.183141Z",
     "iopub.status.idle": "2022-03-19T22:18:33.634192Z",
     "shell.execute_reply": "2022-03-19T22:18:33.633757Z"
    },
    "papermill": {
     "duration": 144.48537,
     "end_time": "2022-03-19T22:18:33.634311",
     "exception": false,
     "start_time": "2022-03-19T22:16:09.148941",
     "status": "completed"
    },
    "tags": []
   },
   "outputs": [],
   "source": [
    "###################################\n",
    "# Evaluate the model\n",
    "###################################\n",
    "source_test_label_accuracy, source_test_label_loss = jig.test(datasets.source.processed.test)\n",
    "target_test_label_accuracy, target_test_label_loss = jig.test(datasets.target.processed.test)\n",
    "\n",
    "source_val_label_accuracy, source_val_label_loss = jig.test(datasets.source.processed.val)\n",
    "target_val_label_accuracy, target_val_label_loss = jig.test(datasets.target.processed.val)\n",
    "\n",
    "history = jig.get_history()\n",
    "\n",
    "total_epochs_trained = len(history[\"epoch_indices\"])\n",
    "\n",
    "val_dl = Iterable_Aggregator((datasets.source.original.val,datasets.target.original.val))\n",
    "\n",
    "confusion = ptn_confusion_by_domain_over_dataloader(model, p.device, val_dl)\n",
    "per_domain_accuracy = per_domain_accuracy_from_confusion(confusion)\n",
    "\n",
    "# Add a key to per_domain_accuracy for if it was a source domain\n",
    "for domain, accuracy in per_domain_accuracy.items():\n",
    "    per_domain_accuracy[domain] = {\n",
    "        \"accuracy\": accuracy,\n",
    "        \"source?\": domain in p.domains_source\n",
    "    }\n",
    "\n",
    "# Do an independent accuracy assesment JUST TO BE SURE!\n",
    "# _source_test_label_accuracy = independent_accuracy_assesment(model, datasets.source.processed.test, p.device)\n",
    "# _target_test_label_accuracy = independent_accuracy_assesment(model, datasets.target.processed.test, p.device)\n",
    "# _source_val_label_accuracy = independent_accuracy_assesment(model, datasets.source.processed.val, p.device)\n",
    "# _target_val_label_accuracy = independent_accuracy_assesment(model, datasets.target.processed.val, p.device)\n",
    "\n",
    "# assert(_source_test_label_accuracy == source_test_label_accuracy)\n",
    "# assert(_target_test_label_accuracy == target_test_label_accuracy)\n",
    "# assert(_source_val_label_accuracy == source_val_label_accuracy)\n",
    "# assert(_target_val_label_accuracy == target_val_label_accuracy)\n",
    "\n",
    "experiment = {\n",
    "    \"experiment_name\": p.experiment_name,\n",
    "    \"parameters\": dict(p),\n",
    "    \"results\": {\n",
    "        \"source_test_label_accuracy\": source_test_label_accuracy,\n",
    "        \"source_test_label_loss\": source_test_label_loss,\n",
    "        \"target_test_label_accuracy\": target_test_label_accuracy,\n",
    "        \"target_test_label_loss\": target_test_label_loss,\n",
    "        \"source_val_label_accuracy\": source_val_label_accuracy,\n",
    "        \"source_val_label_loss\": source_val_label_loss,\n",
    "        \"target_val_label_accuracy\": target_val_label_accuracy,\n",
    "        \"target_val_label_loss\": target_val_label_loss,\n",
    "        \"total_epochs_trained\": total_epochs_trained,\n",
    "        \"total_experiment_time_secs\": total_experiment_time_secs,\n",
    "        \"confusion\": confusion,\n",
    "        \"per_domain_accuracy\": per_domain_accuracy,\n",
    "    },\n",
    "    \"history\": history,\n",
    "    \"dataset_metrics\": get_dataset_metrics(datasets, \"ptn\"),\n",
    "}"
   ]
  },
  {
   "cell_type": "code",
   "execution_count": 25,
   "id": "54a21829",
   "metadata": {
    "execution": {
     "iopub.execute_input": "2022-03-19T22:18:33.696535Z",
     "iopub.status.busy": "2022-03-19T22:18:33.696283Z",
     "iopub.status.idle": "2022-03-19T22:18:33.813209Z",
     "shell.execute_reply": "2022-03-19T22:18:33.813609Z"
    },
    "papermill": {
     "duration": 0.149675,
     "end_time": "2022-03-19T22:18:33.813742",
     "exception": false,
     "start_time": "2022-03-19T22:18:33.664067",
     "status": "completed"
    },
    "tags": []
   },
   "outputs": [
    {
     "data": {
      "image/png": "[encoded data removed]",
      "text/plain": [
       "<Figure size 1080x504 with 1 Axes>"
      ]
     },
     "metadata": {
      "needs_background": "light"
     },
     "output_type": "display_data"
    }
   ],
   "source": [
    "ax = get_loss_curve(experiment)\n",
    "plt.show()"
   ]
  },
  {
   "cell_type": "code",
   "execution_count": 26,
   "id": "fd8a0f60",
   "metadata": {
    "execution": {
     "iopub.execute_input": "2022-03-19T22:18:33.880832Z",
     "iopub.status.busy": "2022-03-19T22:18:33.880579Z",
     "iopub.status.idle": "2022-03-19T22:18:34.023807Z",
     "shell.execute_reply": "2022-03-19T22:18:34.024027Z"
    },
    "papermill": {
     "duration": 0.1755,
     "end_time": "2022-03-19T22:18:34.024111",
     "exception": false,
     "start_time": "2022-03-19T22:18:33.848611",
     "status": "completed"
    },
    "tags": []
   },
   "outputs": [
    {
     "data": {
      "text/plain": [
       "<AxesSubplot:title={'center':'Results'}>"
      ]
     },
     "execution_count": 26,
     "metadata": {},
     "output_type": "execute_result"
    },
    {
     "data": {
      "image/png": "[encoded data removed]",
      "text/plain": [
       "<Figure size 1080x504 with 1 Axes>"
      ]
     },
     "metadata": {
      "needs_background": "light"
     },
     "output_type": "display_data"
    }
   ],
   "source": [
    "get_results_table(experiment)"
   ]
  },
  {
   "cell_type": "code",
   "execution_count": 27,
   "id": "cf8dc689",
   "metadata": {
    "execution": {
     "iopub.execute_input": "2022-03-19T22:18:34.089980Z",
     "iopub.status.busy": "2022-03-19T22:18:34.089724Z",
     "iopub.status.idle": "2022-03-19T22:18:34.244905Z",
     "shell.execute_reply": "2022-03-19T22:18:34.245133Z"
    },
    "papermill": {
     "duration": 0.188237,
     "end_time": "2022-03-19T22:18:34.245217",
     "exception": false,
     "start_time": "2022-03-19T22:18:34.056980",
     "status": "completed"
    },
    "tags": []
   },
   "outputs": [
    {
     "data": {
      "text/plain": [
       "<AxesSubplot:title={'center':'Per Domain Validation Accuracy'}, xlabel='domain'>"
      ]
     },
     "execution_count": 27,
     "metadata": {},
     "output_type": "execute_result"
    },
    {
     "data": {
      "image/png": "[encoded data removed]",
      "text/plain": [
       "<Figure size 1080x504 with 1 Axes>"
      ]
     },
     "metadata": {
      "needs_background": "light"
     },
     "output_type": "display_data"
    }
   ],
   "source": [
    "get_domain_accuracies(experiment)"
   ]
  },
  {
   "cell_type": "code",
   "execution_count": 28,
   "id": "a74ae082",
   "metadata": {
    "execution": {
     "iopub.execute_input": "2022-03-19T22:18:34.314846Z",
     "iopub.status.busy": "2022-03-19T22:18:34.314440Z",
     "iopub.status.idle": "2022-03-19T22:18:34.327882Z",
     "shell.execute_reply": "2022-03-19T22:18:34.328102Z"
    },
    "papermill": {
     "duration": 0.049979,
     "end_time": "2022-03-19T22:18:34.328179",
     "exception": false,
     "start_time": "2022-03-19T22:18:34.278200",
     "status": "completed"
    },
    "tags": []
   },
   "outputs": [
    {
     "name": "stdout",
     "output_type": "stream",
     "text": [
      "Source Test Label Accuracy: 0.8654296875 Target Test Label Accuracy: 0.7336919859686994\n",
      "Source Val Label Accuracy: 0.8677083333333333 Target Val Label Accuracy: 0.7359658778205834\n"
     ]
    }
   ],
   "source": [
    "print(\"Source Test Label Accuracy:\", experiment[\"results\"][\"source_test_label_accuracy\"], \"Target Test Label Accuracy:\", experiment[\"results\"][\"target_test_label_accuracy\"])\n",
    "print(\"Source Val Label Accuracy:\", experiment[\"results\"][\"source_val_label_accuracy\"], \"Target Val Label Accuracy:\", experiment[\"results\"][\"target_val_label_accuracy\"])"
   ]
  },
  {
   "cell_type": "code",
   "execution_count": 29,
   "id": "dacca602",
   "metadata": {
    "execution": {
     "iopub.execute_input": "2022-03-19T22:18:34.397685Z",
     "iopub.status.busy": "2022-03-19T22:18:34.397175Z",
     "iopub.status.idle": "2022-03-19T22:18:34.413873Z",
     "shell.execute_reply": "2022-03-19T22:18:34.414191Z"
    },
    "papermill": {
     "duration": 0.051376,
     "end_time": "2022-03-19T22:18:34.414298",
     "exception": false,
     "start_time": "2022-03-19T22:18:34.362922",
     "status": "completed"
    },
    "tags": [
     "experiment_json"
    ]
   },
   "outputs": [
    {
     "data": {
      "text/plain": [
       "'{\"experiment_name\": \"tl_2v2:oracle.run1.framed -> cores+wisig\", \"parameters\": {\"experiment_name\": \"tl_2v2:oracle.run1.framed -> cores+wisig\", \"device\": \"cuda\", \"lr\": 0.0001, \"n_shot\": 3, \"n_query\": 2, \"train_k_factor\": 3, \"val_k_factor\": 2, \"test_k_factor\": 2, \"torch_default_dtype\": \"torch.float32\", \"n_epoch\": 50, \"patience\": 3, \"criteria_for_best\": \"target_accuracy\", \"x_net\": [{\"class\": \"nnReshape\", \"kargs\": {\"shape\": [-1, 1, 2, 256]}}, {\"class\": \"Conv2d\", \"kargs\": {\"in_channels\": 1, \"out_channels\": 256, \"kernel_size\": [1, 7], \"bias\": false, \"padding\": [0, 3]}}, {\"class\": \"ReLU\", \"kargs\": {\"inplace\": true}}, {\"class\": \"BatchNorm2d\", \"kargs\": {\"num_features\": 256}}, {\"class\": \"Conv2d\", \"kargs\": {\"in_channels\": 256, \"out_channels\": 80, \"kernel_size\": [2, 7], \"bias\": true, \"padding\": [0, 3]}}, {\"class\": \"ReLU\", \"kargs\": {\"inplace\": true}}, {\"class\": \"BatchNorm2d\", \"kargs\": {\"num_features\": 80}}, {\"class\": \"Flatten\", \"kargs\": {}}, {\"class\": \"Linear\", \"kargs\": {\"in_features\": 20480, \"out_features\": 256}}, {\"class\": \"ReLU\", \"kargs\": {\"inplace\": true}}, {\"class\": \"BatchNorm1d\", \"kargs\": {\"num_features\": 256}}, {\"class\": \"Linear\", \"kargs\": {\"in_features\": 256, \"out_features\": 256}}], \"NUM_LOGS_PER_EPOCH\": 10, \"BEST_MODEL_PATH\": \"./best_model.pth\", \"n_way\": 16, \"datasets\": [{\"labels\": [\"1-10.\", \"1-11.\", \"1-15.\", \"1-16.\", \"1-17.\", \"1-18.\", \"1-19.\", \"10-4.\", \"10-7.\", \"11-1.\", \"11-14.\", \"11-17.\", \"11-20.\", \"11-7.\", \"13-20.\", \"13-8.\", \"14-10.\", \"14-11.\", \"14-14.\", \"14-7.\", \"15-1.\", \"15-20.\", \"16-1.\", \"16-16.\", \"17-10.\", \"17-11.\", \"17-2.\", \"19-1.\", \"19-16.\", \"19-19.\", \"19-20.\", \"19-3.\", \"2-10.\", \"2-11.\", \"2-17.\", \"2-18.\", \"2-20.\", \"2-3.\", \"2-4.\", \"2-5.\", \"2-6.\", \"2-7.\", \"2-8.\", \"3-13.\", \"3-18.\", \"3-3.\", \"4-1.\", \"4-10.\", \"4-11.\", \"4-19.\", \"5-5.\", \"6-15.\", \"7-10.\", \"7-14.\", \"8-18.\", \"8-20.\", \"8-3.\", \"8-8.\"], \"domains\": [1, 2, 3, 4, 5], \"num_examples_per_domain_per_label\": -1, \"pickle_path\": \"/mnt/wd500GB/CSC500/csc500-main/datasets/cores.stratified_ds.2022A.pkl\", \"source_or_target_dataset\": \"target\", \"x_transforms\": [\"unit_power\"], \"episode_transforms\": [], \"domain_prefix\": \"C_\"}, {\"labels\": [\"1-10\", \"1-12\", \"1-14\", \"1-16\", \"1-18\", \"1-19\", \"1-8\", \"10-11\", \"10-17\", \"10-4\", \"10-7\", \"11-1\", \"11-10\", \"11-19\", \"11-20\", \"11-4\", \"11-7\", \"12-19\", \"12-20\", \"12-7\", \"13-14\", \"13-18\", \"13-19\", \"13-20\", \"13-3\", \"13-7\", \"14-10\", \"14-11\", \"14-12\", \"14-13\", \"14-14\", \"14-19\", \"14-20\", \"14-7\", \"14-8\", \"14-9\", \"15-1\", \"15-19\", \"15-6\", \"16-1\", \"16-16\", \"16-19\", \"16-20\", \"17-10\", \"17-11\", \"18-1\", \"18-10\", \"18-11\", \"18-12\", \"18-13\", \"18-14\", \"18-15\", \"18-16\", \"18-17\", \"18-19\", \"18-2\", \"18-20\", \"18-4\", \"18-5\", \"18-7\", \"18-8\", \"18-9\", \"19-1\", \"19-10\", \"19-11\", \"19-12\", \"19-13\", \"19-14\", \"19-15\", \"19-19\", \"19-2\", \"19-20\", \"19-3\", \"19-4\", \"19-6\", \"19-7\", \"19-8\", \"19-9\", \"2-1\", \"2-13\", \"2-15\", \"2-3\", \"2-4\", \"2-5\", \"2-6\", \"2-7\", \"2-8\", \"20-1\", \"20-12\", \"20-14\", \"20-15\", \"20-16\", \"20-18\", \"20-19\", \"20-20\", \"20-3\", \"20-4\", \"20-5\", \"20-7\", \"20-8\", \"3-1\", \"3-13\", \"3-18\", \"3-2\", \"3-8\", \"4-1\", \"4-10\", \"4-11\", \"5-1\", \"5-5\", \"6-1\", \"6-15\", \"6-6\", \"7-10\", \"7-11\", \"7-12\", \"7-13\", \"7-14\", \"7-7\", \"7-8\", \"7-9\", \"8-1\", \"8-13\", \"8-14\", \"8-18\", \"8-20\", \"8-3\", \"8-8\", \"9-1\", \"9-7\"], \"domains\": [1, 2, 3, 4], \"num_examples_per_domain_per_label\": -1, \"pickle_path\": \"/mnt/wd500GB/CSC500/csc500-main/datasets/wisig.node3-19.stratified_ds.2022A.pkl\", \"source_or_target_dataset\": \"target\", \"x_transforms\": [\"unit_power\"], \"episode_transforms\": [], \"domain_prefix\": \"W_\"}, {\"labels\": [\"3123D52\", \"3123D65\", \"3123D79\", \"3123D80\", \"3123D54\", \"3123D70\", \"3123D7B\", \"3123D89\", \"3123D58\", \"3123D76\", \"3123D7D\", \"3123EFE\", \"3123D64\", \"3123D78\", \"3123D7E\", \"3124E4A\"], \"domains\": [32, 38, 8, 44, 14, 50, 20, 26], \"num_examples_per_domain_per_label\": 2000, \"pickle_path\": \"/mnt/wd500GB/CSC500/csc500-main/datasets/oracle.Run1_framed_2000Examples_stratified_ds.2022A.pkl\", \"source_or_target_dataset\": \"source\", \"x_transforms\": [\"unit_power\"], \"episode_transforms\": [], \"domain_prefix\": \"O_\"}], \"seed\": 154325, \"dataset_seed\": 154325, \"x_shape\": [2, 256], \"domains_source\": [\"O_32\", \"O_38\", \"O_8\", \"O_44\", \"O_14\", \"O_50\", \"O_20\", \"O_26\"], \"domains_target\": [\"C_1\", \"C_2\", \"C_3\", \"C_4\", \"C_5\", \"W_1\", \"W_2\", \"W_3\", \"W_4\"]}, \"results\": {\"source_test_label_accuracy\": 0.8654296875, \"source_test_label_loss\": 0.3722420334815979, \"target_test_label_accuracy\": 0.7336919859686994, \"target_test_label_loss\": 3.7367188930511475, \"source_val_label_accuracy\": 0.8677083333333333, \"source_val_label_loss\": 0.3723483085632324, \"target_val_label_accuracy\": 0.7359658778205834, \"target_val_label_loss\": 3.723856210708618, \"total_epochs_trained\": 7, \"total_experiment_time_secs\": 1385.387657403946, \"confusion\": {\"O_8\": {\"13\": {\"4\": 30, \"13\": 127, \"0\": 37, \"10\": 37, \"7\": 2, \"14\": 2, \"6\": 5}, \"9\": {\"9\": 240}, \"15\": {\"15\": 223, \"12\": 17}, \"2\": {\"2\": 237, \"3\": 1, \"7\": 2}, \"3\": {\"2\": 1, \"3\": 239}, \"8\": {\"8\": 239, \"15\": 1}, \"5\": {\"5\": 225, \"1\": 8, \"10\": 5, \"14\": 2}, \"14\": {\"4\": 24, \"14\": 188, \"5\": 3, \"10\": 19, \"13\": 3, \"1\": 3}, \"1\": {\"1\": 232, \"14\": 6, \"11\": 2}, \"0\": {\"0\": 200, \"4\": 2, \"13\": 33, \"7\": 3, \"6\": 1, \"14\": 1}, \"10\": {\"10\": 216, \"14\": 14, \"13\": 7, \"5\": 2, \"4\": 1}, \"6\": {\"6\": 188, \"7\": 36, \"4\": 11, \"0\": 2, \"13\": 3}, \"11\": {\"11\": 234, \"1\": 6}, \"7\": {\"6\": 48, \"7\": 191, \"0\": 1}, \"4\": {\"4\": 200, \"13\": 23, \"14\": 13, \"6\": 4}, \"12\": {\"15\": 58, \"12\": 170, \"8\": 4, \"3\": 8}}, \"O_38\": {\"13\": {\"13\": 227, \"15\": 5, \"10\": 5, \"2\": 3}, \"12\": {\"12\": 238, \"4\": 2}, \"2\": {\"2\": 228, \"13\": 7, \"14\": 5}, \"9\": {\"9\": 232, \"6\": 7, \"5\": 1}, \"15\": {\"15\": 221, \"1\": 10, \"8\": 7, \"13\": 1, \"5\": 1}, \"5\": {\"7\": 34, \"8\": 50, \"5\": 139, \"9\": 6, \"10\": 3, \"15\": 2, \"6\": 4, \"0\": 1, \"13\": 1}, \"14\": {\"14\": 240}, \"0\": {\"0\": 187, \"8\": 30, \"7\": 10, \"3\": 7, \"10\": 5, \"13\": 1}, \"3\": {\"3\": 239, \"0\": 1}, \"1\": {\"1\": 236, \"15\": 4}, \"11\": {\"11\": 235, \"14\": 4, \"10\": 1}, \"7\": {\"7\": 215, \"0\": 6, \"5\": 9, \"8\": 10}, \"8\": {\"8\": 180, \"5\": 30, \"7\": 7, \"0\": 14, \"15\": 6, \"13\": 3}, \"4\": {\"4\": 239, \"12\": 1}, \"10\": {\"10\": 224, \"13\": 8, \"7\": 4, \"8\": 3, \"14\": 1}, \"6\": {\"6\": 236, \"5\": 1, \"9\": 3}}, \"O_26\": {\"10\": {\"0\": 62, \"14\": 16, \"8\": 23, \"10\": 126, \"6\": 5, \"4\": 7, \"15\": 1}, \"12\": {\"12\": 240}, \"1\": {\"1\": 222, \"4\": 2, \"14\": 14, \"7\": 1, \"10\": 1}, \"0\": {\"0\": 103, \"14\": 30, \"8\": 15, \"10\": 59, \"4\": 32, \"15\": 1}, \"15\": {\"9\": 32, \"6\": 5, \"15\": 175, \"8\": 12, \"2\": 2, \"13\": 8, \"7\": 3, \"10\": 2, \"5\": 1}, \"13\": {\"5\": 30, \"13\": 191, \"9\": 6, \"15\": 3, \"2\": 10}, \"8\": {\"8\": 128, \"4\": 17, \"0\": 24, \"14\": 6, \"10\": 39, \"7\": 17, \"6\": 1, \"15\": 6, \"2\": 2}, \"3\": {\"3\": 195, \"2\": 36, \"7\": 9}, \"11\": {\"11\": 240}, \"4\": {\"14\": 46, \"4\": 155, \"0\": 16, \"8\": 14, \"7\": 4, \"10\": 5}, \"6\": {\"6\": 221, \"9\": 10, \"10\": 6, \"15\": 3}, \"7\": {\"7\": 183, \"8\": 18, \"3\": 14, \"2\": 10, \"4\": 13, \"10\": 1, \"0\": 1}, \"14\": {\"14\": 132, \"10\": 13, \"4\": 46, \"1\": 14, \"8\": 8, \"0\": 26, \"7\": 1}, \"2\": {\"2\": 117, \"3\": 66, \"5\": 16, \"15\": 11, \"7\": 22, \"8\": 5, \"13\": 3}, \"5\": {\"5\": 215, \"13\": 16, \"2\": 7, \"15\": 2}, \"9\": {\"9\": 190, \"13\": 6, \"6\": 6, \"15\": 37, \"5\": 1}}, \"O_20\": {\"5\": {\"5\": 213, \"0\": 12, \"15\": 11, \"12\": 2, \"1\": 2}, \"15\": {\"15\": 221, \"0\": 8, \"5\": 6, \"1\": 4, \"13\": 1}, \"9\": {\"9\": 183, \"2\": 28, \"3\": 18, \"12\": 11}, \"7\": {\"7\": 221, \"2\": 15, \"4\": 1, \"9\": 1, \"8\": 1, \"3\": 1}, \"3\": {\"3\": 181, \"9\": 19, \"12\": 30, \"2\": 6, \"4\": 2, \"7\": 1, \"10\": 1}, \"8\": {\"8\": 233, \"7\": 3, \"4\": 4}, \"4\": {\"4\": 234, \"8\": 5, \"14\": 1}, \"6\": {\"6\": 231, \"14\": 8, \"8\": 1}, \"2\": {\"2\": 184, \"3\": 4, \"9\": 33, \"7\": 8, \"13\": 4, \"12\": 6, \"1\": 1}, \"12\": {\"12\": 153, \"1\": 40, \"3\": 33, \"9\": 6, \"2\": 4, \"5\": 4}, \"0\": {\"5\": 25, \"0\": 199, \"15\": 15, \"8\": 1}, \"13\": {\"13\": 238, \"2\": 1, \"15\": 1}, \"10\": {\"10\": 240}, \"11\": {\"11\": 240}, \"14\": {\"14\": 231, \"6\": 7, \"10\": 1, \"4\": 1}, \"1\": {\"1\": 203, \"12\": 28, \"5\": 3, \"15\": 5, \"9\": 1}}, \"O_50\": {\"1\": {\"1\": 204, \"15\": 18, \"11\": 3, \"4\": 4, \"6\": 6, \"13\": 3, \"5\": 2}, \"2\": {\"2\": 233, \"0\": 7}, \"8\": {\"8\": 239, \"3\": 1}, \"7\": {\"7\": 213, \"13\": 13, \"5\": 9, \"4\": 1, \"6\": 3, \"10\": 1}, \"14\": {\"14\": 240}, \"6\": {\"6\": 230, \"13\": 5, \"4\": 1, \"15\": 1, \"5\": 1, \"7\": 1, \"1\": 1}, \"3\": {\"3\": 238, \"8\": 2}, \"4\": {\"6\": 4, \"4\": 166, \"15\": 15, \"5\": 44, \"1\": 7, \"11\": 1, \"7\": 2, \"13\": 1}, \"12\": {\"12\": 236, \"11\": 2, \"9\": 2}, \"15\": {\"15\": 198, \"1\": 20, \"6\": 4, \"4\": 17, \"11\": 1}, \"11\": {\"11\": 220, \"15\": 15, \"1\": 1, \"12\": 2, \"14\": 1, \"9\": 1}, \"0\": {\"0\": 216, \"10\": 6, \"2\": 18}, \"9\": {\"9\": 234, \"11\": 3, \"12\": 3}, \"10\": {\"10\": 234, \"0\": 4, \"8\": 2}, \"5\": {\"13\": 17, \"5\": 180, \"1\": 7, \"4\": 27, \"7\": 7, \"15\": 1, \"6\": 1}, \"13\": {\"7\": 11, \"13\": 217, \"6\": 3, \"5\": 9}}, \"O_32\": {\"2\": {\"2\": 202, \"4\": 38}, \"6\": {\"6\": 240}, \"5\": {\"5\": 134, \"7\": 48, \"13\": 22, \"3\": 10, \"8\": 7, \"14\": 4, \"0\": 5, \"4\": 7, \"11\": 3}, \"12\": {\"12\": 240}, \"13\": {\"5\": 10, \"13\": 196, \"8\": 3, \"4\": 13, \"3\": 14, \"7\": 2, \"11\": 2}, \"9\": {\"9\": 239, \"12\": 1}, \"11\": {\"11\": 228, \"14\": 12}, \"1\": {\"1\": 240}, \"3\": {\"3\": 238, \"8\": 1, \"13\": 1}, \"7\": {\"7\": 168, \"5\": 45, \"4\": 11, \"13\": 4, \"14\": 9, \"8\": 1, \"2\": 2}, \"14\": {\"14\": 165, \"11\": 46, \"0\": 12, \"8\": 5, \"7\": 9, \"5\": 3}, \"8\": {\"8\": 217, \"5\": 4, \"0\": 16, \"14\": 2, \"13\": 1}, \"4\": {\"4\": 207, \"2\": 22, \"7\": 7, \"5\": 4}, \"0\": {\"0\": 214, \"14\": 7, \"8\": 16, \"7\": 2, \"2\": 1}, \"10\": {\"10\": 236, \"1\": 4}, \"15\": {\"15\": 240}}, \"O_44\": {\"13\": {\"13\": 189, \"6\": 32, \"9\": 19}, \"4\": {\"4\": 176, \"14\": 61, \"5\": 1, \"15\": 2}, \"6\": {\"13\": 27, \"6\": 184, \"9\": 19, \"7\": 10}, \"0\": {\"0\": 171, \"8\": 55, \"5\": 5, \"15\": 9}, \"10\": {\"10\": 211, \"1\": 19, \"2\": 8, \"12\": 2}, \"7\": {\"7\": 184, \"2\": 18, \"9\": 35, \"6\": 3}, \"14\": {\"14\": 170, \"4\": 57, \"15\": 9, \"5\": 4}, \"15\": {\"14\": 5, \"15\": 213, \"0\": 15, \"5\": 5, \"8\": 2}, \"5\": {\"5\": 223, \"8\": 2, \"15\": 5, \"14\": 5, \"0\": 5}, \"2\": {\"2\": 214, \"1\": 4, \"10\": 7, \"7\": 15}, \"9\": {\"9\": 172, \"13\": 14, \"7\": 33, \"6\": 21}, \"12\": {\"12\": 220, \"1\": 15, \"10\": 4, \"3\": 1}, \"8\": {\"8\": 140, \"15\": 8, \"0\": 88, \"5\": 4}, \"3\": {\"3\": 236, \"1\": 4}, \"1\": {\"1\": 196, \"3\": 8, \"12\": 19, \"2\": 7, \"10\": 10}, \"11\": {\"11\": 239, \"13\": 1}}, \"O_14\": {\"1\": {\"1\": 231, \"5\": 9}, \"15\": {\"15\": 240}, \"10\": {\"10\": 240}, \"2\": {\"3\": 7, \"2\": 144, \"14\": 51, \"5\": 25, \"6\": 7, \"13\": 4, \"4\": 2}, \"9\": {\"9\": 240}, \"5\": {\"5\": 201, \"2\": 7, \"1\": 15, \"3\": 2, \"4\": 15}, \"7\": {\"7\": 240}, \"13\": {\"13\": 145, \"2\": 7, \"6\": 66, \"14\": 16, \"4\": 4, \"5\": 2}, \"8\": {\"8\": 240}, \"6\": {\"6\": 195, \"13\": 40, \"14\": 2, \"2\": 3}, \"3\": {\"3\": 234, \"4\": 4, \"2\": 1, \"14\": 1}, \"12\": {\"12\": 240}, \"0\": {\"0\": 237, \"3\": 2, \"11\": 1}, \"4\": {\"4\": 232, \"5\": 6, \"3\": 2}, \"14\": {\"14\": 223, \"2\": 13, \"6\": 2, \"13\": 1, \"3\": 1}, \"11\": {\"11\": 231, \"9\": 8, \"0\": 1}}, \"C_2\": {\"21\": {\"21\": 109, \"40\": 2, \"44\": 4, \"3\": 3, \"46\": 1, \"6\": 1}, \"4\": {\"4\": 121, \"51\": 1, \"40\": 4, \"9\": 1, \"45\": 1, \"27\": 1, \"53\": 1}, \"6\": {\"6\": 82, \"3\": 7, \"21\": 2, \"36\": 5, \"50\": 9, \"25\": 7, \"17\": 1, \"40\": 1, \"19\": 2, \"53\": 3, \"54\": 3, \"1\": 1, \"8\": 1}, \"10\": {\"10\": 99, \"24\": 4, \"56\": 4, \"13\": 3, \"22\": 2}, \"33\": {\"33\": 28}, \"56\": {\"56\": 107, \"13\": 2, \"24\": 9, \"22\": 2, \"10\": 2}, \"20\": {\"20\": 129, \"51\": 3}, \"24\": {\"56\": 8, \"24\": 87, \"10\": 1}, \"45\": {\"4\": 6, \"20\": 10, \"45\": 85, \"26\": 1, \"21\": 1, \"12\": 16, \"35\": 1, \"51\": 6, \"40\": 1, \"8\": 1}, \"32\": {\"32\": 27, \"8\": 1}, \"27\": {\"27\": 148}, \"53\": {\"53\": 125, \"8\": 4, \"32\": 1, \"17\": 2, \"36\": 1, \"9\": 3}, \"8\": {\"8\": 154, \"32\": 2, \"27\": 3, \"17\": 1}, \"54\": {\"54\": 107, \"8\": 1}, \"50\": {\"54\": 2, \"32\": 2, \"50\": 87, \"17\": 3, \"6\": 12, \"8\": 3, \"21\": 5, \"53\": 4, \"3\": 4, \"25\": 6, \"27\": 3, \"9\": 1, \"36\": 1, \"40\": 1}, \"44\": {\"44\": 78, \"19\": 11, \"21\": 5, \"40\": 3, \"3\": 2, \"46\": 1}, \"5\": {\"5\": 84, \"15\": 10, \"11\": 6, \"47\": 14, \"37\": 1, \"13\": 1, \"57\": 2, \"1\": 2}, \"38\": {\"38\": 20}, \"19\": {\"19\": 124, \"46\": 3, \"44\": 2, \"55\": 1, \"29\": 2}, \"1\": {\"1\": 98, \"5\": 2, \"15\": 2, \"48\": 1, \"47\": 1, \"7\": 3, \"46\": 1, \"11\": 1, \"57\": 3}, \"30\": {\"30\": 133, \"18\": 6, \"29\": 2, \"48\": 3}, \"15\": {\"15\": 128, \"5\": 10, \"16\": 5, \"11\": 1}, \"23\": {\"23\": 146}, \"35\": {\"35\": 31, \"21\": 1}, \"22\": {\"22\": 122, \"10\": 5, \"13\": 1}, \"40\": {\"40\": 114, \"44\": 3, \"9\": 9, \"21\": 1, \"25\": 3, \"55\": 1, \"53\": 2, \"17\": 2, \"4\": 3, \"6\": 1, \"19\": 1}, \"46\": {\"46\": 93, \"47\": 2, \"48\": 7, \"1\": 2, \"21\": 1, \"2\": 1, \"18\": 1, \"29\": 9, \"44\": 2, \"55\": 2, \"41\": 1, \"42\": 1, \"34\": 1, \"11\": 1, \"30\": 1, \"50\": 1}, \"3\": {\"48\": 3, \"3\": 59, \"55\": 1, \"6\": 6, \"33\": 1, \"25\": 4, \"36\": 1, \"9\": 1, \"50\": 6, \"30\": 3, \"35\": 1, \"46\": 1, \"21\": 3, \"29\": 1, \"53\": 1}, \"48\": {\"48\": 123, \"49\": 1, \"30\": 15, \"18\": 2, \"25\": 2, \"29\": 1, \"41\": 2, \"9\": 1, \"6\": 1}, \"52\": {\"52\": 100, \"2\": 1, \"57\": 14, \"30\": 2, \"7\": 1, \"15\": 2, \"29\": 1, \"1\": 1, \"48\": 1, \"23\": 1}, \"2\": {\"2\": 31, \"46\": 1}, \"26\": {\"26\": 22, \"8\": 2}, \"17\": {\"17\": 99, \"27\": 4, \"44\": 1}, \"55\": {\"55\": 123, \"46\": 7, \"42\": 3, \"19\": 4, \"11\": 2, \"21\": 1, \"22\": 2, \"29\": 2}, \"51\": {\"51\": 113, \"20\": 9}, \"42\": {\"42\": 35, \"7\": 1}, \"41\": {\"41\": 18, \"18\": 2}, \"31\": {\"31\": 28}, \"16\": {\"16\": 129, \"15\": 7, \"5\": 2}, \"36\": {\"36\": 114, \"32\": 1, \"27\": 1}, \"49\": {\"49\": 21, \"6\": 1, \"50\": 2}, \"0\": {\"0\": 48}, \"18\": {\"18\": 40, \"48\": 2, \"30\": 5, \"41\": 1}, \"25\": {\"25\": 101, \"3\": 4, \"6\": 6, \"33\": 1, \"50\": 12, \"21\": 10, \"19\": 5, \"44\": 3, \"53\": 2, \"17\": 2}, \"9\": {\"9\": 108, \"4\": 4, \"40\": 3, \"21\": 1, \"53\": 2, \"27\": 1, \"6\": 2, \"51\": 1}, \"47\": {\"47\": 86, \"15\": 9, \"5\": 12, \"1\": 10, \"7\": 2, \"11\": 6, \"16\": 1, \"57\": 6}, \"7\": {\"7\": 35, \"47\": 1}, \"37\": {\"37\": 36}, \"13\": {\"13\": 115, \"10\": 1}, \"14\": {\"13\": 2, \"31\": 2, \"56\": 3, \"14\": 11, \"43\": 2, \"11\": 3, \"10\": 1}, \"34\": {\"34\": 25, \"49\": 1, \"29\": 2}, \"57\": {\"57\": 135, \"47\": 1, \"52\": 2, \"1\": 2}, \"11\": {\"11\": 124, \"7\": 1, \"15\": 3, \"5\": 5, \"16\": 2, \"47\": 3}, \"39\": {\"39\": 27, \"0\": 1}, \"12\": {\"12\": 81, \"20\": 5, \"45\": 4, \"51\": 2}, \"28\": {\"28\": 27, \"5\": 1}, \"29\": {\"29\": 123, \"48\": 1, \"21\": 2, \"46\": 2}, \"43\": {\"43\": 140}}, \"W_2\": {\"56\": {\"56\": 7, \"122\": 1, \"34\": 2, \"110\": 2}, \"12\": {\"12\": 46, \"49\": 1, \"86\": 2, \"68\": 4, \"103\": 1, \"0\": 7, \"6\": 1, \"104\": 1, \"24\": 1, \"121\": 1, \"42\": 2, \"127\": 4, \"111\": 3, \"7\": 3, \"54\": 1, \"108\": 6, \"23\": 1, \"8\": 1, \"26\": 2}, \"15\": {\"15\": 69, \"113\": 2, \"127\": 4, \"58\": 1, \"106\": 9, \"36\": 10, \"111\": 4, \"94\": 3, \"101\": 7, \"125\": 4, \"24\": 1, \"93\": 1, \"117\": 1}, \"26\": {\"26\": 113, \"102\": 3, \"69\": 5, \"109\": 1, \"18\": 4, \"39\": 2, \"21\": 1, \"93\": 3}, \"82\": {\"82\": 35, \"92\": 1}, \"9\": {\"9\": 28, \"15\": 1, \"58\": 1, \"6\": 1, \"51\": 1}, \"49\": {\"12\": 2, \"115\": 1, \"49\": 6, \"3\": 1, \"11\": 1, \"15\": 1, \"122\": 1, \"110\": 2, \"112\": 2, \"98\": 2, \"34\": 1, \"86\": 1, \"71\": 1, \"111\": 1, \"85\": 1}, \"55\": {\"47\": 2, \"55\": 11, \"50\": 1, \"14\": 2}, \"102\": {\"102\": 110, \"90\": 2, \"69\": 6, \"84\": 1, \"33\": 1, \"16\": 1, \"87\": 1, \"48\": 1, \"118\": 1}, \"85\": {\"85\": 18, \"55\": 3, \"73\": 1, \"58\": 1, \"86\": 2, \"5\": 1, \"71\": 4, \"3\": 1, \"62\": 1}, \"73\": {\"73\": 23, \"85\": 1, \"129\": 1, \"5\": 1, \"61\": 1, \"64\": 1}, \"47\": {\"47\": 6, \"15\": 1, \"84\": 1, \"19\": 1, \"94\": 1, \"60\": 2}, \"20\": {\"20\": 15, \"57\": 1}, \"117\": {\"117\": 109, \"99\": 1, \"18\": 3, \"93\": 1, \"21\": 2}, \"122\": {\"122\": 45, \"87\": 1, \"19\": 1, \"128\": 1, \"26\": 1, \"7\": 9, \"71\": 4, \"86\": 4, \"67\": 1, \"43\": 4, \"32\": 1, \"117\": 2, \"4\": 6, \"95\": 3, \"5\": 9, \"70\": 1, \"98\": 1, \"114\": 7, \"10\": 3, \"44\": 1, \"40\": 6, \"8\": 4, \"105\": 5, \"88\": 1, \"108\": 6, \"16\": 1, \"53\": 1, \"104\": 2, \"129\": 1, \"127\": 2, \"124\": 2, \"27\": 2, \"0\": 1, \"3\": 1}, \"113\": {\"117\": 3, \"113\": 51, \"99\": 1, \"2\": 3, \"39\": 3, \"90\": 1, \"18\": 7, \"72\": 1, \"120\": 1, \"60\": 1}, \"87\": {\"87\": 27, \"126\": 2, \"92\": 1, \"53\": 1, \"82\": 4, \"83\": 2, \"39\": 2, \"84\": 10, \"102\": 12, \"118\": 5, \"90\": 7, \"70\": 5, \"33\": 8, \"16\": 2, \"93\": 2, \"109\": 2, \"113\": 1, \"62\": 1, \"69\": 2, \"88\": 2, \"116\": 3, \"44\": 2, \"63\": 2, \"100\": 1, \"89\": 2, \"21\": 1, \"43\": 2, \"26\": 1}, \"21\": {\"21\": 29, \"109\": 2, \"31\": 1, \"117\": 2, \"99\": 1, \"88\": 1, \"113\": 2, \"18\": 1, \"126\": 1, \"87\": 1, \"63\": 1, \"26\": 1, \"120\": 1, \"16\": 1, \"39\": 2, \"93\": 1}, \"106\": {\"106\": 84, \"94\": 7, \"15\": 12, \"25\": 2, \"9\": 1, \"125\": 2, \"99\": 1, \"36\": 3, \"4\": 1, \"16\": 1, \"17\": 1, \"6\": 1, \"111\": 1, \"24\": 1, \"117\": 1, \"90\": 1}, \"3\": {\"3\": 98, \"129\": 3, \"71\": 4, \"70\": 1, \"110\": 2, \"105\": 3, \"39\": 1, \"7\": 3, \"40\": 5, \"5\": 5, \"122\": 1, \"114\": 1, \"123\": 1, \"32\": 1, \"28\": 2, \"37\": 1, \"42\": 2, \"18\": 1, \"26\": 1}, \"126\": {\"126\": 41, \"67\": 3, \"119\": 3, \"44\": 5, \"93\": 2, \"1\": 6, \"36\": 1, \"33\": 4, \"85\": 1, \"22\": 1, \"87\": 7, \"80\": 1, \"83\": 1, \"84\": 3, \"62\": 5, \"82\": 1, \"43\": 7, \"14\": 2, \"109\": 2, \"88\": 8, \"105\": 2, \"40\": 1, \"70\": 3, \"90\": 3, \"16\": 2, \"118\": 2, \"39\": 2, \"102\": 1}, \"41\": {\"49\": 1, \"41\": 13, \"90\": 1, \"12\": 1, \"77\": 1, \"52\": 1, \"0\": 2}, \"76\": {\"76\": 11, \"70\": 2, \"78\": 1, \"33\": 1, \"47\": 1}, \"60\": {\"76\": 2, \"69\": 1, \"60\": 12, \"44\": 1, \"83\": 2, \"90\": 1, \"118\": 1, \"78\": 1, \"22\": 1, \"47\": 3, \"123\": 1, \"33\": 1, \"45\": 1}, \"94\": {\"97\": 1, \"41\": 1, \"58\": 1, \"120\": 1, \"18\": 1, \"98\": 3, \"27\": 3, \"6\": 3, \"25\": 2, \"65\": 1, \"94\": 14, \"127\": 2, \"124\": 1, \"30\": 2, \"23\": 1, \"15\": 8, \"125\": 2, \"111\": 3, \"106\": 3, \"24\": 1, \"54\": 1, \"13\": 1, \"36\": 3, \"0\": 1, \"62\": 1, \"12\": 3}, \"50\": {\"50\": 15, \"62\": 1}, \"97\": {\"41\": 1, \"97\": 14, \"75\": 1, \"77\": 1, \"51\": 1, \"101\": 1, \"127\": 1}, \"115\": {\"115\": 7, \"37\": 1, \"71\": 1, \"129\": 1, \"42\": 2}, \"38\": {\"38\": 14, \"105\": 1, \"50\": 1}, \"43\": {\"3\": 8, \"93\": 1, \"70\": 8, \"65\": 1, \"55\": 1, \"44\": 6, \"43\": 40, \"80\": 1, \"40\": 8, \"78\": 4, \"107\": 1, \"118\": 2, \"46\": 1, \"1\": 11, \"62\": 8, \"84\": 1, \"11\": 2, \"113\": 2, \"105\": 2, \"33\": 2, \"126\": 4, \"5\": 1, \"90\": 1, \"129\": 1, \"73\": 1, \"50\": 1, \"64\": 1, \"23\": 1, \"28\": 1, \"76\": 1, \"109\": 1}, \"67\": {\"67\": 10, \"102\": 1, \"14\": 1, \"50\": 2, \"80\": 2}, \"18\": {\"18\": 91, \"65\": 3, \"117\": 15, \"39\": 2, \"88\": 3, \"33\": 1, \"113\": 2, \"26\": 5, \"81\": 1, \"93\": 3, \"69\": 2}, \"23\": {\"108\": 2, \"72\": 1, \"126\": 2, \"93\": 1, \"23\": 8, \"121\": 3, \"122\": 2, \"117\": 2, \"16\": 1, \"104\": 1, \"127\": 1, \"81\": 1, \"7\": 3, \"29\": 2, \"87\": 1, \"12\": 1, \"41\": 2, \"57\": 1, \"8\": 2, \"91\": 2, \"32\": 1, \"98\": 2, \"39\": 1, \"113\": 1}, \"63\": {\"63\": 20}, \"127\": {\"127\": 103, \"0\": 5, \"16\": 2, \"108\": 2, \"30\": 1, \"8\": 1, \"111\": 4, \"41\": 1, \"113\": 1, \"12\": 1, \"98\": 1, \"26\": 1, \"36\": 1}, \"72\": {\"72\": 22, \"69\": 1, \"102\": 1, \"121\": 2, \"81\": 1, \"15\": 1}, \"128\": {\"127\": 1, \"3\": 3, \"35\": 2, \"128\": 5, \"53\": 1, \"101\": 1, \"123\": 1, \"59\": 1, \"43\": 1, \"79\": 2, \"29\": 1, \"91\": 1, \"62\": 1, \"42\": 1, \"85\": 1, \"109\": 1}, \"7\": {\"7\": 102, \"120\": 1, \"110\": 1, \"4\": 5, \"12\": 1, \"10\": 1, \"122\": 7, \"108\": 1, \"114\": 2, \"26\": 2, \"11\": 1, \"71\": 2, \"8\": 1, \"39\": 1}, \"108\": {\"15\": 1, \"108\": 54, \"8\": 7, \"98\": 14, \"106\": 2, \"112\": 1, \"34\": 1, \"71\": 3, \"29\": 1, \"122\": 5, \"124\": 3, \"11\": 3, \"4\": 4, \"0\": 4, \"107\": 2, \"127\": 6, \"114\": 2, \"62\": 1, \"111\": 7, \"7\": 4, \"24\": 1, \"101\": 1, \"5\": 1, \"55\": 1, \"25\": 1, \"94\": 2, \"12\": 1, \"1\": 1}, \"16\": {\"16\": 54, \"63\": 1, \"76\": 1, \"102\": 11, \"118\": 1, \"126\": 1, \"88\": 3, \"69\": 13, \"90\": 5, \"117\": 2, \"87\": 3, \"93\": 5, \"70\": 4, \"65\": 1, \"31\": 2, \"83\": 1, \"120\": 1, \"14\": 1, \"21\": 1, \"24\": 1, \"39\": 2}, \"29\": {\"29\": 25, \"0\": 1, \"7\": 1, \"17\": 1, \"59\": 2, \"128\": 1, \"91\": 1}, \"61\": {\"61\": 18, \"32\": 1, \"13\": 1}, \"104\": {\"71\": 1, \"34\": 1, \"104\": 12, \"86\": 3, \"95\": 3}, \"120\": {\"120\": 20}, \"124\": {\"124\": 95, \"49\": 1, \"71\": 2, \"104\": 1, \"39\": 1, \"5\": 2, \"127\": 5, \"8\": 1, \"11\": 2, \"114\": 5, \"4\": 1, \"7\": 1, \"111\": 1, \"85\": 2, \"122\": 1, \"107\": 2, \"0\": 1}, \"34\": {\"103\": 2, \"8\": 1, \"34\": 3, \"56\": 1, \"54\": 1, \"98\": 1, \"110\": 1, \"25\": 1, \"105\": 2, \"12\": 2, \"7\": 2, \"122\": 3, \"36\": 1, \"41\": 2, \"66\": 2, \"22\": 1, \"111\": 2, \"51\": 1, \"28\": 1, \"32\": 1, \"24\": 1}, \"84\": {\"84\": 55, \"9\": 1, \"47\": 1, \"67\": 1, \"33\": 15, \"87\": 1, \"118\": 1, \"18\": 1, \"1\": 4, \"30\": 1, \"129\": 1, \"14\": 1, \"13\": 1, \"71\": 2, \"70\": 2, \"62\": 1, \"24\": 1, \"16\": 1, \"101\": 1}, \"103\": {\"103\": 15, \"52\": 1}, \"100\": {\"100\": 16}, \"40\": {\"115\": 2, \"129\": 4, \"40\": 92, \"105\": 8, \"93\": 1, \"19\": 2, \"59\": 1, \"107\": 4, \"26\": 1, \"18\": 1, \"24\": 1, \"3\": 4, \"30\": 1, \"113\": 1, \"1\": 1, \"43\": 1, \"69\": 1, \"5\": 1, \"37\": 1, \"32\": 2, \"16\": 1, \"117\": 2, \"39\": 2, \"70\": 2, \"71\": 1, \"111\": 2}, \"35\": {\"29\": 2, \"35\": 7, \"91\": 1, \"94\": 1, \"23\": 1}, \"96\": {\"100\": 1, \"96\": 10, \"78\": 2, \"118\": 1, \"62\": 1, \"83\": 2, \"82\": 1, \"72\": 2}, \"101\": {\"101\": 107, \"111\": 4, \"0\": 1, \"125\": 1, \"94\": 1, \"12\": 1, \"30\": 2, \"93\": 1, \"127\": 1, \"108\": 1}, \"71\": {\"71\": 69, \"115\": 2, \"110\": 2, \"122\": 5, \"98\": 1, \"5\": 4, \"87\": 1, \"117\": 1, \"4\": 1, \"11\": 3, \"124\": 1, \"104\": 1, \"86\": 2, \"85\": 1, \"18\": 1, \"109\": 1, \"114\": 1, \"105\": 1, \"7\": 2}, \"81\": {\"81\": 17, \"109\": 1, \"121\": 2, \"70\": 1, \"18\": 1, \"9\": 1, \"2\": 1}, \"74\": {\"37\": 1, \"68\": 1, \"27\": 1, \"74\": 8, \"122\": 2, \"115\": 1, \"6\": 1, \"10\": 1}, \"119\": {\"119\": 14, \"44\": 1, \"85\": 1, \"83\": 1, \"87\": 2, \"88\": 1}, \"5\": {\"5\": 81, \"112\": 1, \"122\": 4, \"26\": 1, \"95\": 1, \"24\": 2, \"71\": 4, \"40\": 5, \"3\": 3, \"18\": 2, \"114\": 2, \"42\": 1, \"126\": 1, \"110\": 1, \"11\": 1, \"4\": 1, \"105\": 1}, \"68\": {\"68\": 12, \"86\": 2, \"127\": 2}, \"37\": {\"81\": 1, \"37\": 7, \"85\": 2, \"129\": 1, \"3\": 2, \"122\": 1, \"32\": 2}, \"58\": {\"58\": 16, \"111\": 2, \"6\": 2}, \"109\": {\"81\": 1, \"126\": 2, \"13\": 1, \"109\": 43, \"90\": 8, \"78\": 1, \"16\": 1, \"23\": 1, \"118\": 5, \"83\": 1, \"21\": 2, \"39\": 6, \"18\": 1, \"88\": 4, \"87\": 2, \"44\": 1, \"33\": 2, \"84\": 1, \"70\": 2, \"93\": 7, \"82\": 1, \"65\": 1, \"47\": 1, \"62\": 2, \"43\": 2, \"26\": 1}, \"107\": {\"107\": 31, \"125\": 3, \"5\": 2, \"71\": 4, \"4\": 1, \"42\": 2, \"0\": 1, \"40\": 9, \"3\": 2, \"106\": 1, \"110\": 4, \"28\": 1, \"61\": 1, \"105\": 1, \"114\": 1}, \"13\": {\"100\": 2, \"72\": 1, \"13\": 8, \"57\": 1, \"9\": 1, \"82\": 1, \"18\": 1, \"120\": 1}, \"52\": {\"52\": 16, \"35\": 1, \"101\": 1, \"124\": 1, \"97\": 1}, \"77\": {\"35\": 1, \"77\": 6, \"30\": 1, \"79\": 1, \"0\": 2, \"22\": 1, \"52\": 1, \"91\": 1, \"97\": 2}, \"95\": {\"95\": 26, \"104\": 2, \"4\": 2, \"5\": 1, \"71\": 1, \"110\": 2, \"12\": 1, \"85\": 1}, \"44\": {\"44\": 82, \"119\": 2, \"43\": 2, \"126\": 2, \"90\": 1, \"105\": 1, \"70\": 6, \"60\": 1, \"1\": 1, \"78\": 1, \"122\": 1}, \"88\": {\"44\": 7, \"88\": 36, \"78\": 1, \"126\": 5, \"62\": 5, \"84\": 3, \"70\": 7, \"22\": 2, \"83\": 1, \"109\": 8, \"90\": 12, \"118\": 1, \"33\": 5, \"93\": 11, \"87\": 3, \"113\": 1, \"39\": 2, \"16\": 2, \"57\": 1, \"20\": 1, \"38\": 2, \"99\": 1, \"69\": 1, \"71\": 1, \"122\": 1, \"1\": 2}, \"91\": {\"77\": 2, \"127\": 1, \"0\": 1, \"91\": 14, \"108\": 1, \"29\": 3, \"111\": 1, \"74\": 1, \"52\": 2, \"128\": 1, \"126\": 1}, \"93\": {\"93\": 70, \"38\": 1, \"90\": 8, \"88\": 7, \"69\": 18, \"118\": 1, \"89\": 1, \"102\": 6, \"117\": 2, \"39\": 4, \"33\": 2, \"126\": 1, \"87\": 7, \"16\": 6, \"109\": 1, \"84\": 1, \"44\": 1, \"1\": 1}, \"8\": {\"108\": 8, \"8\": 74, \"12\": 4, \"104\": 1, \"101\": 2, \"43\": 1, \"110\": 2, \"98\": 1, \"18\": 1, \"0\": 2, \"7\": 3, \"113\": 1, \"4\": 3, \"122\": 4, \"127\": 9, \"17\": 1, \"56\": 1, \"23\": 1, \"111\": 1, \"26\": 1, \"30\": 1, \"114\": 1, \"124\": 1}, \"1\": {\"1\": 87, \"38\": 1, \"126\": 2, \"83\": 1, \"3\": 1, \"82\": 1, \"70\": 3, \"33\": 3, \"40\": 3, \"87\": 1, \"44\": 2, \"43\": 3, \"84\": 2, \"105\": 1, \"117\": 1, \"62\": 1, \"24\": 1}, \"45\": {\"1\": 1, \"45\": 8, \"31\": 1, \"82\": 3, \"89\": 1, \"83\": 1, \"70\": 1}, \"111\": {\"111\": 93, \"54\": 1, \"12\": 4, \"0\": 3, \"24\": 2, \"62\": 1, \"30\": 1, \"127\": 12, \"101\": 1, \"98\": 2, \"103\": 1, \"42\": 2, \"21\": 1, \"125\": 1, \"8\": 1}, \"116\": {\"100\": 1, \"45\": 1, \"116\": 15, \"89\": 2, \"93\": 1, \"70\": 1, \"92\": 1, \"126\": 1, \"78\": 1, \"48\": 2, \"69\": 1, \"76\": 1}, \"48\": {\"13\": 1, \"48\": 15, \"89\": 2, \"102\": 2}, \"57\": {\"57\": 18, \"90\": 1, \"20\": 1}, \"10\": {\"10\": 35, \"60\": 1, \"30\": 1, \"74\": 2, \"110\": 2, \"91\": 2, \"123\": 5, \"99\": 1, \"62\": 1, \"7\": 3, \"53\": 2, \"29\": 1, \"44\": 1, \"26\": 1, \"122\": 1, \"43\": 1}, \"129\": {\"3\": 2, \"129\": 20, \"122\": 1, \"107\": 2, \"56\": 1, \"5\": 1, \"40\": 2, \"115\": 1, \"73\": 1, \"34\": 1}, \"98\": {\"108\": 13, \"98\": 48, \"34\": 3, \"127\": 6, \"94\": 2, \"12\": 6, \"111\": 8, \"106\": 1, \"26\": 1, \"7\": 1, \"114\": 3, \"8\": 8, \"24\": 9, \"18\": 2, \"30\": 2, \"49\": 1, \"11\": 2, \"122\": 1, \"0\": 1}, \"65\": {\"65\": 16, \"121\": 2, \"18\": 2}, \"6\": {\"6\": 22, \"97\": 1, \"101\": 1, \"15\": 2, \"111\": 1, \"106\": 1, \"27\": 1, \"25\": 1, \"94\": 2}, \"75\": {\"75\": 9, \"97\": 1, \"25\": 1, \"117\": 1, \"36\": 2, \"101\": 2}, \"14\": {\"14\": 37, \"99\": 1, \"23\": 1, \"62\": 2, \"1\": 1, \"44\": 1, \"74\": 1, \"55\": 2, \"85\": 1, \"109\": 1}, \"30\": {\"30\": 48, \"51\": 2, \"75\": 1, \"24\": 2, \"15\": 5, \"0\": 11, \"111\": 4, \"108\": 2, \"101\": 9, \"18\": 1, \"117\": 2, \"12\": 1, \"16\": 1, \"7\": 3, \"71\": 1, \"127\": 5, \"3\": 1, \"39\": 2, \"68\": 1, \"6\": 1, \"52\": 2, \"128\": 2, \"106\": 2, \"98\": 2, \"5\": 1}, \"83\": {\"83\": 30, \"90\": 1, \"102\": 1, \"80\": 1, \"87\": 5, \"67\": 1, \"109\": 1}, \"69\": {\"69\": 109, \"102\": 5, \"83\": 1, \"87\": 1, \"71\": 2, \"18\": 1, \"16\": 1, \"7\": 1, \"72\": 2, \"117\": 1, \"113\": 1, \"93\": 3}, \"125\": {\"125\": 125, \"24\": 6, \"106\": 5, \"9\": 1, \"36\": 6, \"15\": 2, \"16\": 1}, \"31\": {\"87\": 2, \"116\": 2, \"92\": 1, \"33\": 1, \"67\": 1, \"102\": 2, \"93\": 1, \"31\": 8, \"90\": 1, \"89\": 1}, \"118\": {\"31\": 2, \"118\": 23, \"119\": 2, \"67\": 2, \"84\": 5, \"44\": 3, \"109\": 3, \"90\": 2, \"33\": 4, \"16\": 3, \"82\": 2, \"87\": 7, \"62\": 2, \"92\": 1, \"105\": 2, \"76\": 1, \"102\": 2, \"78\": 1, \"43\": 1}, \"53\": {\"34\": 1, \"53\": 7, \"128\": 1, \"7\": 1, \"49\": 1, \"122\": 2, \"71\": 1, \"110\": 1, \"41\": 1}, \"54\": {\"54\": 16, \"111\": 1, \"127\": 1, \"104\": 1, \"34\": 1}, \"92\": {\"92\": 26, \"89\": 2}, \"19\": {\"128\": 1, \"85\": 2, \"19\": 11, \"122\": 2, \"67\": 1, \"129\": 1, \"14\": 1, \"0\": 1, \"40\": 1, \"5\": 1, \"107\": 2, \"71\": 1, \"11\": 1, \"70\": 1, \"43\": 1}, \"27\": {\"27\": 23, \"72\": 1, \"15\": 3, \"25\": 3, \"94\": 3, \"111\": 3, \"106\": 8, \"51\": 1, \"29\": 1, \"124\": 1, \"3\": 1, \"0\": 1, \"125\": 3, \"12\": 2, \"36\": 5, \"58\": 1, \"120\": 1, \"81\": 1, \"93\": 1, \"108\": 1, \"30\": 1, \"24\": 2, \"5\": 1}, \"17\": {\"17\": 7, \"31\": 1, \"26\": 1, \"59\": 1, \"71\": 2, \"95\": 2, \"54\": 2}, \"4\": {\"4\": 58, \"71\": 6, \"8\": 2, \"5\": 4, \"114\": 2, \"7\": 3, \"122\": 7, \"16\": 1, \"49\": 1, \"11\": 1, \"101\": 1, \"108\": 1, \"107\": 1}, \"36\": {\"27\": 7, \"36\": 62, \"51\": 2, \"106\": 12, \"94\": 2, \"15\": 13, \"6\": 1, \"125\": 13, \"90\": 2, \"108\": 1, \"39\": 2, \"58\": 2, \"111\": 4, \"18\": 1, \"24\": 3, \"93\": 1}, \"90\": {\"126\": 2, \"109\": 3, \"90\": 89, \"76\": 1, \"31\": 1, \"83\": 3, \"88\": 9, \"33\": 1, \"118\": 4, \"93\": 6, \"113\": 1, \"69\": 2, \"16\": 4, \"62\": 1, \"87\": 3, \"70\": 5, \"89\": 1}, \"64\": {\"64\": 13, \"78\": 2, \"117\": 1}, \"66\": {\"66\": 18, \"40\": 1, \"86\": 1}, \"46\": {\"46\": 10, \"126\": 2, \"16\": 1, \"59\": 1, \"62\": 1, \"102\": 1}, \"86\": {\"86\": 25, \"94\": 1, \"124\": 2, \"8\": 1, \"4\": 2, \"122\": 1}, \"114\": {\"114\": 77, \"124\": 6, \"5\": 2, \"117\": 1, \"108\": 3, \"11\": 1, \"122\": 1, \"71\": 6, \"127\": 5, \"98\": 2, \"111\": 1, \"34\": 2, \"4\": 1, \"107\": 1, \"87\": 1}, \"32\": {\"32\": 18, \"129\": 1, \"38\": 1, \"75\": 1, \"66\": 1, \"95\": 1, \"0\": 1, \"122\": 2, \"112\": 1, \"115\": 1, \"41\": 2, \"7\": 1, \"23\": 2, \"85\": 1, \"27\": 1, \"70\": 1}, \"78\": {\"90\": 1, \"32\": 2, \"61\": 1, \"78\": 6, \"70\": 1, \"5\": 1, \"40\": 5, \"63\": 1, \"19\": 1, \"85\": 1, \"44\": 3, \"109\": 5, \"87\": 1, \"14\": 1, \"107\": 2, \"88\": 3, \"1\": 3, \"129\": 1, \"8\": 1, \"76\": 1, \"37\": 1, \"10\": 1, \"124\": 1, \"21\": 1, \"62\": 1, \"117\": 1, \"16\": 1}, \"33\": {\"31\": 1, \"33\": 116, \"84\": 8, \"62\": 3, \"102\": 2, \"1\": 2, \"16\": 1, \"87\": 3, \"18\": 1, \"82\": 1}, \"70\": {\"110\": 1, \"55\": 1, \"109\": 2, \"70\": 33, \"19\": 2, \"90\": 8, \"14\": 2, \"83\": 2, \"40\": 11, \"1\": 6, \"3\": 8, \"87\": 3, \"43\": 4, \"18\": 1, \"88\": 7, \"105\": 6, \"39\": 3, \"62\": 3, \"126\": 7, \"26\": 1, \"93\": 4, \"17\": 1, \"20\": 1, \"10\": 1, \"99\": 1, \"38\": 1, \"45\": 1, \"117\": 2, \"16\": 1}, \"0\": {\"91\": 2, \"0\": 64, \"29\": 2, \"77\": 2, \"122\": 1, \"12\": 1, \"30\": 12, \"127\": 5, \"7\": 3, \"8\": 1, \"101\": 4, \"39\": 2, \"26\": 1, \"24\": 1, \"113\": 1, \"17\": 1, \"111\": 5, \"41\": 2, \"108\": 3, \"98\": 1, \"70\": 1, \"106\": 1}, \"110\": {\"110\": 26, \"71\": 7, \"28\": 1, \"34\": 1, \"117\": 1, \"42\": 1, \"51\": 1, \"10\": 1, \"5\": 1}, \"2\": {\"2\": 23, \"99\": 3, \"26\": 1, \"21\": 1, \"117\": 1, \"72\": 1, \"36\": 1, \"81\": 1}, \"28\": {\"28\": 15, \"3\": 1, \"88\": 1, \"95\": 1, \"107\": 1, \"78\": 1}, \"51\": {\"36\": 1, \"51\": 12, \"54\": 1, \"106\": 1, \"103\": 1, \"9\": 3, \"52\": 1}, \"79\": {\"79\": 15, \"77\": 1}, \"42\": {\"70\": 2, \"97\": 1, \"61\": 1, \"54\": 1, \"66\": 1, \"0\": 2, \"42\": 2, \"29\": 1, \"1\": 1, \"106\": 1, \"101\": 1, \"12\": 2, \"62\": 1, \"46\": 1, \"64\": 1, \"115\": 1, \"127\": 1, \"35\": 1, \"40\": 2, \"71\": 1, \"33\": 1, \"34\": 1, \"32\": 1}, \"112\": {\"112\": 13, \"34\": 1, \"5\": 2}, \"89\": {\"89\": 23, \"116\": 4, \"31\": 1, \"126\": 3, \"16\": 1, \"48\": 2, \"87\": 1, \"33\": 1}, \"59\": {\"34\": 2, \"59\": 6, \"0\": 2, \"54\": 3, \"75\": 1, \"12\": 2}, \"105\": {\"105\": 99, \"32\": 1, \"107\": 3, \"85\": 1, \"3\": 3, \"114\": 1, \"40\": 8, \"43\": 3, \"70\": 1, \"26\": 2, \"62\": 1, \"66\": 1, \"115\": 1, \"86\": 2, \"78\": 1}, \"121\": {\"121\": 24, \"93\": 2, \"81\": 3, \"26\": 2, \"23\": 2, \"65\": 1, \"117\": 1, \"113\": 1}, \"11\": {\"49\": 2, \"86\": 1, \"11\": 28, \"95\": 1, \"48\": 1, \"104\": 1, \"123\": 1, \"124\": 1, \"8\": 2, \"4\": 4, \"7\": 2, \"122\": 6, \"30\": 1, \"98\": 3, \"108\": 5, \"0\": 2, \"10\": 2, \"71\": 5, \"114\": 1, \"3\": 2, \"42\": 2, \"110\": 2, \"115\": 1, \"26\": 1, \"128\": 1, \"57\": 1, \"18\": 1}, \"99\": {\"99\": 30, \"16\": 1, \"109\": 1}, \"25\": {\"25\": 12, \"94\": 2, \"24\": 1, \"36\": 1}, \"62\": {\"62\": 102, \"20\": 1, \"27\": 1, \"43\": 5, \"70\": 2, \"33\": 4, \"44\": 2, \"126\": 1, \"1\": 1, \"14\": 1, \"113\": 1, \"109\": 1, \"102\": 1, \"78\": 2, \"12\": 1, \"39\": 1, \"16\": 1}, \"123\": {\"123\": 16}, \"24\": {\"125\": 17, \"128\": 1, \"24\": 21, \"32\": 2, \"108\": 5, \"94\": 1, \"106\": 18, \"99\": 1, \"82\": 1, \"8\": 5, \"98\": 4, \"43\": 2, \"36\": 4, \"7\": 2, \"122\": 4, \"101\": 1, \"30\": 1, \"26\": 1, \"114\": 1, \"127\": 1, \"111\": 4, \"54\": 1, \"29\": 1, \"66\": 1, \"27\": 1, \"23\": 1, \"11\": 1, \"34\": 2, \"0\": 1, \"62\": 2, \"15\": 2, \"4\": 1, \"69\": 1}, \"80\": {\"80\": 14, \"60\": 1, \"62\": 1}, \"39\": {\"39\": 46, \"72\": 2, \"69\": 6, \"102\": 6, \"109\": 6, \"88\": 6, \"2\": 1, \"18\": 7, \"71\": 2, \"16\": 2, \"90\": 5, \"26\": 5, \"93\": 2, \"43\": 1, \"70\": 1, \"1\": 2}, \"22\": {\"22\": 17, \"71\": 1, \"61\": 1, \"2\": 1}}, \"W_4\": {\"32\": {\"32\": 17, \"87\": 1, \"11\": 2, \"122\": 1, \"69\": 1, \"72\": 1, \"31\": 1, \"82\": 1, \"108\": 1, \"7\": 2}, \"22\": {\"22\": 12, \"122\": 2, \"54\": 1, \"118\": 1}, \"69\": {\"69\": 104, \"122\": 1, \"36\": 1, \"13\": 1, \"39\": 1, \"118\": 1, \"109\": 2, \"94\": 1, \"5\": 2, \"126\": 1, \"16\": 1, \"102\": 3, \"18\": 1}, \"65\": {\"63\": 1, \"65\": 11}, \"91\": {\"91\": 20, \"8\": 1, \"30\": 2, \"86\": 1}, \"63\": {\"65\": 1, \"63\": 13, \"117\": 2}, \"127\": {\"63\": 1, \"127\": 78, \"101\": 8, \"128\": 1, \"30\": 1, \"12\": 4, \"0\": 4, \"103\": 2, \"95\": 1, \"102\": 1, \"106\": 1, \"86\": 1, \"15\": 2, \"111\": 2, \"18\": 1}, \"11\": {\"73\": 1, \"3\": 7, \"11\": 45, \"124\": 1, \"76\": 1, \"101\": 1, \"62\": 1, \"33\": 8, \"72\": 1, \"5\": 9, \"88\": 2, \"113\": 1, \"93\": 4, \"81\": 1, \"118\": 4, \"108\": 4, \"40\": 4, \"110\": 6, \"43\": 8, \"87\": 6, \"107\": 4, \"129\": 2, \"45\": 1, \"89\": 1, \"1\": 3, \"28\": 1, \"60\": 1, \"44\": 2, \"122\": 1, \"99\": 1, \"102\": 1, \"24\": 1, \"105\": 1, \"14\": 2, \"69\": 1}, \"12\": {\"12\": 61, \"111\": 6, \"29\": 1, \"90\": 1, \"101\": 3, \"69\": 1, \"15\": 2, \"36\": 2, \"30\": 2, \"106\": 7, \"18\": 2, \"108\": 2, \"37\": 1, \"27\": 2, \"9\": 1, \"8\": 4, \"26\": 1, \"127\": 1}, \"111\": {\"111\": 83, \"95\": 2, \"27\": 4, \"12\": 9, \"106\": 6, \"10\": 6, \"30\": 3, \"24\": 1, \"127\": 5, \"8\": 1, \"70\": 2, \"26\": 1, \"68\": 1, \"58\": 1, \"103\": 1, \"29\": 1, \"126\": 1}, \"53\": {\"53\": 7, \"12\": 1, \"10\": 3, \"106\": 1, \"122\": 1, \"37\": 1, \"98\": 1, \"52\": 1}, \"73\": {\"73\": 16, \"11\": 1, \"51\": 1, \"40\": 2, \"67\": 1, \"10\": 1, \"5\": 2}, \"3\": {\"3\": 77, \"15\": 1, \"9\": 1, \"42\": 1, \"107\": 8, \"32\": 1, \"72\": 2, \"99\": 1, \"82\": 1, \"40\": 3, \"21\": 1, \"46\": 1, \"105\": 4, \"14\": 1, \"89\": 1, \"33\": 1, \"70\": 2, \"122\": 1, \"1\": 3, \"108\": 1, \"5\": 2, \"110\": 1, \"11\": 3, \"93\": 1, \"43\": 2, \"49\": 3, \"20\": 1, \"87\": 6, \"124\": 1, \"29\": 1, \"39\": 1, \"118\": 1, \"114\": 1}, \"83\": {\"87\": 2, \"83\": 12, \"60\": 1, \"62\": 1, \"3\": 2, \"124\": 2, \"46\": 1, \"70\": 1, \"79\": 1, \"23\": 1, \"50\": 1, \"114\": 1, \"88\": 2}, \"88\": {\"88\": 31, \"100\": 1, \"43\": 1, \"128\": 1, \"70\": 10, \"110\": 3, \"23\": 1, \"109\": 12, \"4\": 4, \"78\": 1, \"99\": 1, \"7\": 7, \"101\": 2, \"81\": 1, \"1\": 6, \"122\": 2, \"98\": 4, \"10\": 5, \"124\": 5, \"93\": 4, \"90\": 4, \"114\": 5, \"105\": 3, \"22\": 1, \"104\": 1, \"108\": 1, \"97\": 1, \"49\": 2, \"71\": 1, \"87\": 3, \"118\": 3, \"0\": 1, \"117\": 1, \"127\": 1}, \"87\": {\"3\": 8, \"87\": 44, \"78\": 1, \"76\": 1, \"104\": 2, \"1\": 7, \"88\": 8, \"107\": 10, \"89\": 2, \"108\": 5, \"105\": 5, \"40\": 6, \"5\": 2, \"70\": 4, \"14\": 2, \"7\": 4, \"114\": 2, \"43\": 1, \"11\": 4, \"110\": 4, \"71\": 1, \"41\": 1, \"46\": 1, \"115\": 1, \"100\": 2, \"60\": 1, \"82\": 1, \"122\": 2}, \"2\": {\"2\": 20, \"117\": 1, \"16\": 2, \"18\": 1, \"67\": 2, \"90\": 1, \"109\": 1}, \"86\": {\"86\": 25, \"0\": 1, \"70\": 1, \"27\": 1}, \"16\": {\"16\": 80, \"2\": 6, \"14\": 1, \"88\": 2, \"109\": 6, \"90\": 4, \"102\": 4, \"113\": 3, \"117\": 2, \"84\": 3, \"69\": 2, \"81\": 1, \"44\": 3, \"118\": 1, \"110\": 1, \"127\": 1, \"5\": 2}, \"21\": {\"65\": 1, \"10\": 1, \"21\": 19, \"123\": 2, \"90\": 1, \"126\": 6, \"60\": 1, \"121\": 1, \"62\": 1, \"81\": 2, \"18\": 1, \"51\": 1, \"87\": 1, \"44\": 2}, \"96\": {\"96\": 6, \"43\": 1, \"78\": 2, \"110\": 1, \"129\": 1, \"99\": 1, \"90\": 5, \"44\": 1, \"88\": 1, \"105\": 1}, \"100\": {\"100\": 14, \"62\": 1, \"1\": 1, \"114\": 2, \"107\": 2}, \"7\": {\"7\": 74, \"70\": 10, \"128\": 1, \"29\": 1, \"3\": 2, \"82\": 2, \"108\": 1, \"114\": 4, \"1\": 4, \"27\": 1, \"105\": 4, \"40\": 2, \"104\": 1, \"23\": 1, \"88\": 1, \"49\": 1, \"99\": 1, \"87\": 2, \"4\": 2, \"124\": 1, \"71\": 1, \"107\": 2, \"113\": 1}, \"75\": {\"75\": 14, \"54\": 1, \"15\": 1}, \"10\": {\"100\": 1, \"10\": 22, \"24\": 8, \"22\": 2, \"9\": 1, \"59\": 3, \"17\": 2, \"25\": 1, \"27\": 5, \"12\": 5, \"34\": 1, \"94\": 4, \"127\": 1, \"18\": 1, \"1\": 1, \"15\": 8, \"5\": 1, \"7\": 5, \"72\": 1, \"0\": 4, \"87\": 4, \"70\": 4, \"106\": 5, \"125\": 8, \"36\": 10, \"114\": 1, \"101\": 1, \"85\": 2, \"97\": 2, \"103\": 1, \"41\": 1, \"126\": 1, \"111\": 1, \"6\": 1, \"11\": 1, \"117\": 1, \"4\": 2, \"8\": 1}, \"43\": {\"3\": 3, \"62\": 1, \"122\": 2, \"43\": 38, \"110\": 6, \"126\": 2, \"99\": 1, \"63\": 1, \"109\": 6, \"33\": 8, \"107\": 4, \"108\": 3, \"14\": 3, \"16\": 1, \"40\": 2, \"88\": 7, \"5\": 6, \"93\": 7, \"11\": 6, \"73\": 1, \"129\": 1, \"26\": 1, \"90\": 3, \"120\": 1, \"60\": 1, \"69\": 1, \"118\": 2, \"105\": 1, \"87\": 1}, \"92\": {\"96\": 1, \"92\": 19, \"66\": 1, \"88\": 1, \"48\": 1, \"31\": 2, \"102\": 2, \"74\": 1}, \"62\": {\"62\": 26, \"43\": 5, \"33\": 2, \"108\": 5, \"122\": 4, \"113\": 2, \"39\": 1, \"118\": 4, \"5\": 1, \"93\": 1, \"61\": 1, \"14\": 4, \"60\": 1, \"92\": 1, \"99\": 2}, \"31\": {\"45\": 2, \"31\": 8, \"32\": 1, \"108\": 1, \"11\": 1, \"20\": 2, \"4\": 1}, \"0\": {\"0\": 53, \"82\": 1, \"91\": 1, \"128\": 1, \"12\": 7, \"70\": 2, \"127\": 12, \"4\": 1, \"8\": 3, \"30\": 1, \"101\": 6, \"27\": 7, \"111\": 3, \"98\": 5, \"87\": 1, \"7\": 3, \"52\": 2, \"10\": 3, \"113\": 1, \"122\": 1}, \"45\": {\"45\": 16}, \"85\": {\"85\": 23, \"0\": 1, \"54\": 1, \"53\": 1, \"95\": 2}, \"119\": {\"1\": 1, \"119\": 10, \"98\": 2, \"105\": 1, \"128\": 2}, \"46\": {\"46\": 16, \"83\": 1, \"41\": 1, \"104\": 2}, \"71\": {\"71\": 67, \"129\": 5, \"83\": 1, \"4\": 3, \"114\": 10, \"124\": 8, \"1\": 2, \"70\": 1, \"100\": 2, \"18\": 1, \"87\": 1, \"3\": 1, \"15\": 1, \"126\": 1}, \"8\": {\"9\": 4, \"8\": 69, \"37\": 1, \"58\": 1, \"10\": 6, \"103\": 1, \"85\": 1, \"34\": 1, \"12\": 2, \"98\": 4, \"127\": 4, \"101\": 6, \"24\": 2, \"30\": 5, \"16\": 1, \"0\": 4, \"15\": 6, \"113\": 1, \"126\": 1, \"111\": 2, \"68\": 1, \"29\": 3, \"27\": 3, \"106\": 3, \"26\": 1, \"125\": 1}, \"118\": {\"118\": 44, \"99\": 2, \"122\": 4, \"14\": 3, \"88\": 2, \"102\": 3, \"62\": 3, \"43\": 4, \"109\": 3, \"93\": 3, \"69\": 14, \"110\": 6, \"33\": 4, \"39\": 1, \"108\": 2, \"84\": 1, \"87\": 1, \"7\": 1, \"90\": 3, \"107\": 1, \"5\": 2, \"32\": 1, \"18\": 2, \"106\": 1, \"16\": 1}, \"1\": {\"46\": 1, \"1\": 67, \"114\": 5, \"104\": 2, \"12\": 2, \"105\": 4, \"3\": 5, \"94\": 1, \"126\": 2, \"40\": 2, \"107\": 2, \"26\": 1, \"71\": 3, \"7\": 2, \"21\": 1, \"129\": 2, \"113\": 1, \"24\": 1, \"87\": 3, \"124\": 1}, \"38\": {\"31\": 1, \"66\": 1, \"38\": 6, \"80\": 3, \"74\": 1, \"90\": 1, \"96\": 2, \"26\": 1}, \"30\": {\"9\": 1, \"91\": 2, \"30\": 31, \"59\": 2, \"101\": 6, \"71\": 1, \"49\": 1, \"106\": 3, \"15\": 5, \"8\": 5, \"12\": 4, \"127\": 1, \"14\": 1, \"6\": 1, \"51\": 1, \"21\": 1, \"53\": 1, \"126\": 1, \"85\": 1, \"108\": 1, \"29\": 1, \"24\": 1, \"111\": 1, \"94\": 2, \"10\": 1}, \"66\": {\"66\": 8, \"69\": 2, \"116\": 2, \"20\": 2, \"118\": 1, \"90\": 1}, \"9\": {\"9\": 22, \"34\": 1, \"15\": 2, \"12\": 1, \"24\": 2}, \"5\": {\"5\": 94, \"33\": 14, \"108\": 1, \"3\": 3, \"118\": 2, \"11\": 7, \"73\": 1, \"50\": 1, \"83\": 1, \"62\": 1, \"60\": 1, \"9\": 2, \"99\": 1, \"43\": 3, \"110\": 1, \"69\": 1, \"40\": 1, \"102\": 1}, \"24\": {\"24\": 27, \"59\": 2, \"91\": 1, \"88\": 2, \"36\": 13, \"101\": 6, \"94\": 10, \"27\": 8, \"18\": 2, \"12\": 1, \"127\": 3, \"125\": 9, \"98\": 3, \"0\": 4, \"10\": 8, \"106\": 3, \"4\": 2, \"126\": 1, \"124\": 1, \"8\": 3, \"17\": 1, \"34\": 1, \"15\": 4, \"70\": 2, \"71\": 1, \"111\": 2}, \"97\": {\"88\": 1, \"24\": 1, \"125\": 2, \"58\": 1, \"70\": 1, \"97\": 6, \"25\": 4, \"85\": 1, \"56\": 1, \"95\": 1, \"111\": 1}, \"67\": {\"26\": 2, \"67\": 3, \"33\": 1, \"123\": 4, \"48\": 1, \"18\": 2, \"5\": 1, \"81\": 1, \"113\": 1}, \"19\": {\"71\": 2, \"69\": 1, \"41\": 1, \"80\": 1, \"37\": 1, \"0\": 1, \"42\": 1, \"70\": 2, \"86\": 2, \"105\": 1, \"7\": 1, \"110\": 2, \"84\": 1, \"19\": 2, \"5\": 1, \"85\": 1, \"3\": 1, \"20\": 1, \"66\": 1, \"95\": 1, \"122\": 1, \"108\": 2}, \"77\": {\"10\": 1, \"77\": 10, \"12\": 1}, \"26\": {\"26\": 84, \"121\": 2, \"117\": 9, \"18\": 13, \"90\": 1, \"62\": 1, \"113\": 5, \"16\": 1, \"39\": 1, \"126\": 1}, \"115\": {\"24\": 1, \"19\": 1, \"115\": 8, \"107\": 2, \"87\": 2, \"108\": 1, \"119\": 1}, \"50\": {\"50\": 9, \"5\": 2, \"28\": 1, \"14\": 2, \"107\": 1, \"83\": 1}, \"120\": {\"120\": 18, \"70\": 1, \"34\": 1}, \"102\": {\"102\": 106, \"45\": 3, \"93\": 2, \"69\": 8, \"84\": 6, \"26\": 1, \"40\": 1, \"11\": 1}, \"29\": {\"29\": 26, \"12\": 2, \"101\": 2, \"27\": 2}, \"44\": {\"102\": 3, \"118\": 3, \"44\": 37, \"5\": 3, \"113\": 2, \"78\": 1, \"93\": 4, \"122\": 1, \"109\": 1, \"26\": 1, \"33\": 3, \"92\": 1, \"43\": 1, \"84\": 2, \"69\": 1}, \"124\": {\"124\": 82, \"114\": 10, \"99\": 1, \"128\": 2, \"71\": 8, \"4\": 1, \"1\": 2, \"106\": 1, \"127\": 2, \"70\": 1, \"111\": 1, \"0\": 3, \"98\": 2, \"7\": 1, \"40\": 1}, \"78\": {\"107\": 2, \"44\": 1, \"26\": 3, \"78\": 6, \"2\": 1, \"116\": 1, \"66\": 1, \"63\": 1, \"86\": 1, \"93\": 3, \"29\": 1, \"82\": 1, \"21\": 1, \"84\": 1, \"89\": 1, \"1\": 1, \"39\": 1, \"22\": 1, \"104\": 1, \"120\": 1, \"129\": 1, \"76\": 1, \"95\": 1, \"18\": 1, \"96\": 1, \"87\": 1}, \"104\": {\"104\": 14, \"70\": 1, \"46\": 1}, \"105\": {\"78\": 2, \"105\": 48, \"82\": 1, \"1\": 7, \"49\": 1, \"40\": 8, \"46\": 1, \"117\": 1, \"84\": 1, \"100\": 1, \"71\": 3, \"72\": 1, \"107\": 10, \"114\": 3, \"3\": 1, \"34\": 1, \"14\": 1, \"7\": 1, \"11\": 1, \"87\": 3, \"15\": 1, \"39\": 1, \"113\": 1, \"110\": 1}, \"28\": {\"28\": 14, \"64\": 2, \"11\": 2, \"122\": 1, \"110\": 1}, \"37\": {\"37\": 15, \"8\": 1}, \"107\": {\"105\": 4, \"107\": 87, \"40\": 16, \"115\": 1, \"3\": 2, \"60\": 1, \"101\": 1, \"110\": 1, \"5\": 4, \"111\": 1, \"117\": 1, \"11\": 3, \"87\": 2, \"114\": 1, \"41\": 1, \"46\": 1, \"108\": 1, \"1\": 1, \"70\": 1, \"109\": 1, \"113\": 1}, \"6\": {\"6\": 15, \"75\": 1, \"103\": 1, \"58\": 1, \"36\": 1, \"94\": 1, \"30\": 2, \"9\": 1, \"24\": 1}, \"17\": {\"104\": 3, \"17\": 16, \"4\": 1}, \"57\": {\"57\": 13, \"96\": 1, \"90\": 1, \"16\": 1}, \"121\": {\"57\": 1, \"102\": 1, \"121\": 19, \"16\": 3, \"117\": 2, \"84\": 2, \"21\": 1, \"39\": 1, \"92\": 2}, \"58\": {\"58\": 14, \"6\": 2}, \"64\": {\"28\": 2, \"64\": 13, \"122\": 1}, \"82\": {\"82\": 28, \"19\": 1, \"88\": 1, \"49\": 1, \"87\": 1}, \"39\": {\"18\": 12, \"39\": 50, \"38\": 1, \"109\": 4, \"117\": 5, \"80\": 1, \"66\": 1, \"62\": 1, \"113\": 10, \"5\": 1, \"69\": 2, \"126\": 4, \"26\": 4, \"118\": 1, \"90\": 1, \"63\": 1, \"121\": 1}, \"110\": {\"32\": 1, \"110\": 48, \"45\": 1, \"43\": 8, \"129\": 1, \"99\": 2, \"26\": 1, \"93\": 5, \"33\": 11, \"108\": 6, \"88\": 6, \"62\": 2, \"109\": 3, \"18\": 2, \"118\": 5, \"114\": 1, \"107\": 1, \"39\": 1, \"21\": 1, \"14\": 2, \"5\": 1, \"9\": 1, \"81\": 1, \"1\": 2, \"11\": 7, \"3\": 1, \"90\": 3}, \"114\": {\"114\": 84, \"4\": 4, \"70\": 3, \"11\": 1, \"83\": 1, \"1\": 5, \"71\": 11, \"88\": 1, \"87\": 4, \"110\": 1, \"105\": 2, \"40\": 3, \"73\": 1, \"124\": 3, \"26\": 1, \"3\": 2, \"7\": 1}, \"20\": {\"20\": 10, \"92\": 1, \"74\": 2, \"11\": 1, \"31\": 2}, \"117\": {\"18\": 6, \"39\": 4, \"117\": 80, \"26\": 9, \"113\": 7, \"16\": 3, \"108\": 2, \"65\": 2, \"2\": 1}, \"18\": {\"18\": 92, \"65\": 1, \"26\": 10, \"117\": 4, \"126\": 2, \"39\": 2, \"16\": 1, \"90\": 1, \"81\": 2, \"21\": 1, \"102\": 2, \"113\": 2}, \"99\": {\"38\": 1, \"110\": 4, \"99\": 29, \"89\": 1, \"78\": 2, \"93\": 1, \"118\": 1, \"108\": 1}, \"23\": {\"117\": 2, \"0\": 1, \"53\": 1, \"61\": 1, \"27\": 1, \"122\": 1, \"39\": 1, \"23\": 3, \"4\": 1, \"63\": 1, \"21\": 1, \"18\": 2}, \"128\": {\"128\": 12, \"88\": 1, \"70\": 4, \"114\": 2, \"7\": 1, \"110\": 1, \"120\": 2, \"27\": 1}, \"60\": {\"128\": 1, \"70\": 1, \"99\": 3, \"60\": 10, \"71\": 3, \"42\": 2, \"88\": 1, \"110\": 1, \"89\": 2, \"22\": 1, \"104\": 1, \"43\": 1, \"92\": 1, \"100\": 1, \"82\": 1, \"17\": 2}, \"70\": {\"128\": 3, \"70\": 31, \"125\": 2, \"88\": 4, \"26\": 1, \"120\": 2, \"7\": 2, \"98\": 7, \"85\": 3, \"108\": 1, \"78\": 1, \"14\": 3, \"105\": 2, \"122\": 1, \"40\": 1, \"109\": 3, \"110\": 5, \"1\": 1, \"114\": 6, \"71\": 2, \"87\": 4, \"4\": 9, \"101\": 2, \"118\": 1, \"8\": 1, \"113\": 2, \"89\": 2, \"112\": 3, \"49\": 1, \"72\": 1, \"95\": 1, \"10\": 3, \"43\": 1, \"60\": 1, \"12\": 1, \"127\": 3, \"126\": 1, \"0\": 2}, \"122\": {\"122\": 26, \"70\": 1, \"5\": 6, \"43\": 7, \"99\": 4, \"109\": 2, \"33\": 7, \"118\": 4, \"108\": 4, \"110\": 3, \"126\": 1, \"88\": 1, \"107\": 1, \"18\": 1, \"14\": 2, \"93\": 1, \"117\": 1, \"114\": 1, \"69\": 4, \"102\": 3, \"62\": 3, \"11\": 1}, \"101\": {\"101\": 83, \"70\": 2, \"75\": 1, \"91\": 2, \"78\": 1, \"52\": 1, \"4\": 4, \"30\": 4, \"0\": 7, \"8\": 6, \"127\": 7, \"113\": 1, \"85\": 1, \"95\": 1, \"111\": 4, \"39\": 1, \"88\": 2, \"12\": 3, \"27\": 1}, \"33\": {\"33\": 112, \"44\": 1, \"84\": 1, \"5\": 5, \"43\": 1, \"110\": 3, \"107\": 4, \"11\": 1, \"40\": 2, \"102\": 1, \"93\": 1}, \"40\": {\"115\": 1, \"107\": 22, \"40\": 81, \"1\": 4, \"49\": 1, \"39\": 1, \"33\": 1, \"88\": 1, \"3\": 2, \"18\": 2, \"87\": 6, \"117\": 3, \"11\": 2, \"105\": 1, \"108\": 1, \"43\": 1}, \"41\": {\"24\": 2, \"27\": 1, \"36\": 1, \"41\": 7, \"52\": 1, \"42\": 1, \"95\": 2, \"35\": 1}, \"59\": {\"59\": 10, \"9\": 1, \"10\": 1}, \"4\": {\"4\": 85, \"114\": 1, \"39\": 3, \"98\": 1, \"121\": 1, \"101\": 1, \"0\": 2, \"62\": 1, \"70\": 1, \"27\": 1, \"86\": 2, \"129\": 1, \"26\": 2, \"18\": 1, \"71\": 1}, \"112\": {\"112\": 12, \"42\": 1, \"73\": 1, \"4\": 1, \"123\": 1}, \"36\": {\"59\": 2, \"47\": 1, \"36\": 57, \"103\": 1, \"106\": 9, \"94\": 6, \"9\": 2, \"125\": 14, \"18\": 1, \"15\": 7, \"10\": 5, \"12\": 1, \"30\": 3, \"26\": 1, \"24\": 7, \"111\": 2, \"27\": 1, \"8\": 3, \"58\": 1, \"51\": 1, \"52\": 1, \"4\": 2}, \"48\": {\"48\": 11, \"117\": 1, \"19\": 1, \"31\": 2, \"108\": 1}, \"126\": {\"126\": 70, \"18\": 7, \"61\": 1, \"39\": 5, \"81\": 2, \"16\": 3, \"62\": 1, \"26\": 6, \"113\": 8, \"90\": 4, \"109\": 3, \"84\": 1, \"117\": 1, \"2\": 2, \"93\": 2}, \"125\": {\"10\": 5, \"125\": 89, \"75\": 2, \"94\": 5, \"24\": 8, \"16\": 1, \"8\": 2, \"106\": 1, \"36\": 3, \"15\": 4, \"18\": 1, \"88\": 1}, \"84\": {\"84\": 93, \"102\": 9, \"113\": 6, \"44\": 3, \"39\": 1, \"16\": 3, \"33\": 3, \"90\": 1, \"69\": 3, \"18\": 2, \"99\": 1, \"109\": 1, \"26\": 2}, \"80\": {\"84\": 2, \"80\": 14}, \"49\": {\"122\": 1, \"29\": 1, \"12\": 3, \"92\": 1, \"33\": 4, \"19\": 2, \"8\": 2, \"127\": 2, \"43\": 1, \"3\": 2, \"111\": 1, \"40\": 2, \"116\": 1, \"5\": 2, \"74\": 1, \"11\": 2, \"87\": 1, \"49\": 1, \"44\": 1, \"32\": 1}, \"47\": {\"47\": 9, \"15\": 1, \"6\": 2}, \"95\": {\"95\": 22, \"37\": 1, \"127\": 2, \"12\": 1, \"34\": 2, \"52\": 1, \"98\": 1, \"85\": 1, \"97\": 1}, \"54\": {\"25\": 1, \"54\": 15}, \"25\": {\"125\": 2, \"25\": 8, \"97\": 3, \"36\": 1, \"54\": 2}, \"116\": {\"116\": 11, \"20\": 1, \"69\": 2, \"92\": 1, \"66\": 1, \"14\": 1, \"90\": 1, \"44\": 3, \"5\": 2, \"79\": 1, \"46\": 1, \"93\": 2, \"129\": 1}, \"74\": {\"74\": 13, \"45\": 1, \"116\": 1, \"92\": 1}, \"35\": {\"102\": 1, \"35\": 7, \"109\": 1, \"116\": 1, \"80\": 1, \"123\": 1}, \"15\": {\"15\": 69, \"6\": 1, \"59\": 2, \"94\": 5, \"12\": 7, \"58\": 4, \"36\": 1, \"106\": 3, \"8\": 5, \"30\": 7, \"18\": 1, \"125\": 5, \"111\": 3, \"0\": 1, \"118\": 1, \"91\": 1, \"75\": 3, \"68\": 1, \"9\": 2, \"39\": 1, \"101\": 1, \"24\": 2, \"10\": 2}, \"108\": {\"5\": 4, \"43\": 3, \"19\": 2, \"108\": 19, \"88\": 3, \"3\": 2, \"109\": 2, \"40\": 2, \"81\": 1, \"122\": 1, \"60\": 3, \"110\": 5, \"94\": 1, \"33\": 5, \"87\": 6, \"90\": 3, \"72\": 3, \"107\": 4, \"36\": 1, \"18\": 1, \"11\": 5, \"24\": 1, \"14\": 5, \"106\": 1, \"76\": 1, \"51\": 1, \"69\": 2, \"1\": 1, \"126\": 1, \"78\": 1, \"67\": 1, \"118\": 1}, \"34\": {\"3\": 2, \"6\": 2, \"55\": 1, \"70\": 5, \"49\": 2, \"36\": 2, \"79\": 1, \"34\": 3, \"124\": 2, \"89\": 1, \"15\": 2, \"71\": 3, \"103\": 2, \"32\": 1, \"119\": 1, \"24\": 2}, \"81\": {\"81\": 30, \"39\": 2, \"18\": 2, \"117\": 1, \"99\": 1}, \"93\": {\"102\": 9, \"99\": 2, \"69\": 5, \"93\": 65, \"110\": 8, \"122\": 5, \"118\": 3, \"90\": 4, \"33\": 4, \"43\": 3, \"108\": 5, \"40\": 1, \"109\": 4, \"20\": 1, \"66\": 1, \"5\": 1, \"74\": 1, \"11\": 1, \"116\": 1, \"44\": 1, \"62\": 1, \"88\": 1, \"3\": 1}, \"55\": {\"55\": 16}, \"27\": {\"97\": 1, \"4\": 6, \"27\": 31, \"105\": 2, \"8\": 6, \"71\": 2, \"12\": 5, \"111\": 6, \"70\": 3, \"39\": 1, \"98\": 9, \"127\": 1, \"101\": 2, \"0\": 6, \"10\": 2, \"30\": 2, \"125\": 1, \"24\": 3, \"95\": 1, \"42\": 1, \"52\": 2, \"88\": 1, \"106\": 1, \"94\": 2, \"15\": 1, \"43\": 1, \"7\": 1}, \"109\": {\"124\": 1, \"109\": 57, \"90\": 13, \"99\": 1, \"44\": 5, \"118\": 6, \"16\": 4, \"33\": 3, \"69\": 4, \"105\": 2, \"84\": 2, \"93\": 2, \"80\": 1, \"116\": 1, \"11\": 1, \"108\": 1, \"122\": 1, \"117\": 1, \"110\": 4}, \"106\": {\"97\": 1, \"47\": 1, \"106\": 63, \"68\": 1, \"103\": 4, \"98\": 1, \"127\": 3, \"9\": 2, \"12\": 10, \"101\": 1, \"10\": 4, \"111\": 7, \"24\": 2, \"16\": 1, \"15\": 2, \"126\": 4, \"8\": 1, \"30\": 1, \"41\": 1, \"125\": 1, \"58\": 1, \"37\": 1, \"26\": 1, \"84\": 1, \"18\": 1}, \"68\": {\"68\": 13, \"103\": 2, \"121\": 1}, \"76\": {\"18\": 1, \"76\": 10, \"22\": 1, \"108\": 1, \"78\": 2, \"122\": 1}, \"103\": {\"103\": 14, \"121\": 1, \"106\": 1}, \"42\": {\"76\": 1, \"103\": 3, \"53\": 2, \"60\": 1, \"68\": 1, \"43\": 1, \"89\": 1, \"42\": 3, \"79\": 1, \"100\": 1, \"14\": 1, \"119\": 2, \"106\": 1, \"72\": 1, \"41\": 1, \"36\": 1, \"87\": 3, \"98\": 1, \"52\": 2}, \"129\": {\"70\": 1, \"129\": 4, \"71\": 1, \"14\": 3, \"33\": 1, \"74\": 1, \"98\": 1, \"37\": 1, \"122\": 3, \"85\": 1, \"114\": 1, \"5\": 1, \"93\": 1, \"40\": 1, \"17\": 1, \"43\": 1, \"41\": 1, \"102\": 2, \"4\": 2}, \"94\": {\"94\": 48, \"97\": 1, \"39\": 1, \"36\": 7, \"6\": 1, \"15\": 8, \"10\": 4, \"125\": 4, \"12\": 1, \"24\": 2, \"3\": 1, \"18\": 3, \"106\": 3, \"30\": 1, \"126\": 1, \"1\": 1, \"117\": 1}, \"123\": {\"61\": 2, \"123\": 13, \"18\": 1}, \"61\": {\"61\": 7, \"23\": 1, \"117\": 1, \"109\": 1, \"102\": 1, \"123\": 2, \"121\": 1, \"57\": 2}, \"51\": {\"39\": 1, \"51\": 2, \"111\": 2, \"117\": 1, \"121\": 2, \"27\": 2, \"36\": 1, \"58\": 1, \"21\": 1, \"9\": 1, \"106\": 2}, \"98\": {\"33\": 1, \"56\": 1, \"34\": 2, \"39\": 2, \"98\": 65, \"85\": 4, \"109\": 2, \"42\": 1, \"8\": 3, \"127\": 5, \"70\": 5, \"0\": 4, \"111\": 2, \"114\": 2, \"93\": 1, \"30\": 1, \"124\": 2, \"18\": 1, \"118\": 1, \"87\": 1, \"24\": 1, \"101\": 1, \"95\": 1, \"68\": 1, \"106\": 1, \"27\": 4, \"90\": 1, \"4\": 1, \"84\": 1}, \"56\": {\"56\": 7, \"112\": 1, \"4\": 2, \"37\": 2}, \"14\": {\"14\": 74, \"118\": 5, \"32\": 1, \"19\": 1, \"33\": 6, \"122\": 6, \"108\": 1, \"11\": 2, \"18\": 1, \"3\": 1, \"62\": 1, \"43\": 8, \"23\": 1, \"87\": 1, \"110\": 1, \"99\": 1, \"39\": 1}, \"90\": {\"90\": 103, \"109\": 10, \"102\": 2, \"80\": 1, \"19\": 1, \"96\": 3, \"93\": 6, \"84\": 4, \"110\": 2, \"18\": 1, \"69\": 1, \"118\": 3, \"66\": 1}, \"13\": {\"13\": 8, \"69\": 1, \"118\": 1, \"71\": 2, \"93\": 1, \"102\": 2, \"33\": 1}, \"89\": {\"89\": 23, \"87\": 5, \"12\": 1, \"7\": 1, \"72\": 2}, \"52\": {\"52\": 13, \"99\": 1, \"41\": 1, \"127\": 3, \"10\": 1, \"27\": 1}, \"72\": {\"32\": 1, \"72\": 18, \"62\": 1, \"19\": 1, \"89\": 1, \"14\": 2, \"87\": 2, \"70\": 1, \"5\": 1, \"33\": 1, \"3\": 2, \"88\": 1}, \"79\": {\"79\": 11, \"116\": 1, \"3\": 1, \"5\": 1, \"102\": 2}, \"113\": {\"113\": 43, \"117\": 14, \"39\": 7, \"26\": 15, \"62\": 1, \"90\": 7, \"109\": 7, \"126\": 10, \"16\": 5, \"24\": 1, \"18\": 6, \"108\": 1, \"84\": 4, \"69\": 1, \"96\": 1, \"81\": 1, \"2\": 1, \"93\": 1}}, \"W_1\": {\"68\": {\"68\": 12, \"111\": 1, \"49\": 1, \"97\": 2}, \"7\": {\"7\": 119, \"104\": 2, \"87\": 3, \"43\": 6, \"126\": 6, \"1\": 3, \"11\": 2, \"70\": 1}, \"125\": {\"125\": 97, \"88\": 4, \"36\": 12, \"15\": 3, \"27\": 2}, \"111\": {\"111\": 88, \"97\": 2, \"68\": 1, \"112\": 1, \"127\": 7, \"109\": 1, \"71\": 4, \"15\": 3, \"94\": 1, \"88\": 5, \"106\": 3, \"101\": 1, \"9\": 1, \"12\": 2}, \"101\": {\"101\": 98, \"85\": 1, \"110\": 12, \"86\": 1, \"30\": 1, \"0\": 1, \"98\": 2, \"127\": 3, \"32\": 2, \"112\": 1, \"113\": 1, \"12\": 1}, \"11\": {\"42\": 3, \"60\": 1, \"11\": 61, \"80\": 1, \"20\": 1, \"82\": 3, \"109\": 3, \"70\": 1, \"102\": 7, \"62\": 11, \"33\": 11, \"90\": 3, \"124\": 2, \"1\": 6, \"114\": 3, \"71\": 1, \"120\": 1, \"81\": 2, \"25\": 2, \"67\": 2, \"122\": 3, \"43\": 1, \"2\": 1, \"99\": 1, \"14\": 2, \"3\": 1, \"84\": 2}, \"76\": {\"76\": 16}, \"5\": {\"5\": 70, \"40\": 4, \"117\": 1, \"108\": 2, \"114\": 1, \"107\": 2, \"4\": 3, \"124\": 2, \"105\": 1, \"34\": 1, \"39\": 1}, \"123\": {\"123\": 12, \"90\": 1, \"25\": 1, \"121\": 1, \"120\": 1}, \"85\": {\"85\": 28, \"32\": 2, \"10\": 2}, \"34\": {\"68\": 2, \"51\": 2, \"31\": 1, \"41\": 1, \"22\": 1, \"87\": 2, \"104\": 2, \"88\": 1, \"125\": 1, \"17\": 3, \"97\": 2, \"105\": 1, \"89\": 1, \"57\": 1, \"94\": 2, \"96\": 1, \"15\": 1, \"38\": 1, \"36\": 1, \"71\": 1, \"34\": 2, \"43\": 1, \"14\": 1}, \"42\": {\"34\": 1, \"42\": 9, \"22\": 1, \"40\": 2, \"38\": 1, \"50\": 1, \"8\": 2, \"109\": 2, \"105\": 1, \"4\": 1, \"87\": 1, \"5\": 3, \"35\": 1, \"114\": 1, \"33\": 1}, \"81\": {\"81\": 26, \"23\": 1, \"78\": 1}, \"127\": {\"101\": 5, \"68\": 1, \"127\": 79, \"111\": 4, \"12\": 7, \"71\": 1, \"110\": 4, \"36\": 1, \"106\": 1, \"30\": 3, \"27\": 1, \"88\": 1}, \"60\": {\"34\": 3, \"60\": 3, \"117\": 2, \"48\": 1, \"18\": 1, \"126\": 2, \"70\": 1, \"16\": 1, \"42\": 1, \"43\": 1}, \"77\": {\"77\": 14, \"107\": 1, \"17\": 1}, \"65\": {\"123\": 2, \"65\": 4, \"96\": 1, \"45\": 2, \"119\": 1, \"23\": 2}, \"44\": {\"44\": 65, \"126\": 5, \"74\": 1, \"105\": 2, \"73\": 1, \"7\": 2}, \"100\": {\"80\": 1, \"100\": 12, \"11\": 1, \"60\": 1, \"67\": 1}, \"80\": {\"21\": 1, \"80\": 12, \"1\": 2, \"61\": 1}, \"83\": {\"83\": 19, \"73\": 1, \"5\": 1, \"46\": 1, \"77\": 1, \"88\": 1, \"79\": 1, \"105\": 1, \"19\": 1, \"70\": 1}, \"51\": {\"51\": 13, \"52\": 1, \"59\": 1, \"94\": 1}, \"93\": {\"10\": 5, \"86\": 2, \"93\": 58, \"72\": 4, \"85\": 3, \"77\": 2, \"98\": 5, \"107\": 11, \"106\": 2, \"9\": 1, \"108\": 9, \"8\": 4, \"122\": 2, \"4\": 5, \"43\": 4, \"101\": 4, \"5\": 1, \"117\": 1, \"41\": 2, \"31\": 1, \"70\": 3, \"87\": 2, \"44\": 1, \"0\": 1, \"126\": 1}, \"31\": {\"31\": 10, \"34\": 1, \"23\": 2, \"87\": 1, \"107\": 1, \"5\": 1}, \"33\": {\"33\": 116, \"102\": 3, \"69\": 1, \"109\": 1, \"62\": 1, \"3\": 2, \"38\": 1, \"11\": 1}, \"113\": {\"123\": 2, \"113\": 110, \"118\": 2, \"18\": 4, \"117\": 3, \"26\": 1, \"43\": 1, \"39\": 1}, \"126\": {\"83\": 1, \"21\": 2, \"102\": 1, \"126\": 40, \"19\": 2, \"16\": 1, \"84\": 7, \"114\": 8, \"8\": 3, \"40\": 6, \"87\": 3, \"90\": 2, \"124\": 6, \"7\": 13, \"107\": 1, \"5\": 2, \"70\": 5, \"1\": 4, \"122\": 4, \"43\": 6, \"105\": 2, \"44\": 2, \"26\": 1, \"12\": 1, \"109\": 1}, \"10\": {\"10\": 75, \"122\": 2, \"85\": 2, \"75\": 1, \"70\": 4, \"32\": 2, \"93\": 6, \"87\": 4, \"84\": 1, \"8\": 8, \"0\": 4, \"101\": 7, \"23\": 1, \"110\": 2, \"108\": 1}, \"21\": {\"21\": 9, \"90\": 3, \"78\": 1, \"39\": 1, \"23\": 2, \"117\": 2, \"50\": 1, \"2\": 2, \"44\": 2, \"105\": 1, \"109\": 2, \"18\": 1, \"72\": 1, \"40\": 1, \"8\": 2, \"51\": 1, \"85\": 1, \"87\": 1, \"118\": 1, \"14\": 1, \"95\": 1, \"127\": 1, \"111\": 1, \"5\": 1}, \"90\": {\"90\": 95, \"109\": 17, \"120\": 1, \"74\": 2, \"64\": 1, \"42\": 1, \"62\": 4, \"11\": 4, \"33\": 2, \"16\": 1, \"61\": 2, \"69\": 1, \"3\": 1}, \"38\": {\"83\": 1, \"38\": 13, \"23\": 1, \"19\": 1}, \"96\": {\"38\": 1, \"96\": 13, \"64\": 3, \"20\": 1, \"82\": 1, \"129\": 1}, \"6\": {\"88\": 1, \"6\": 16, \"94\": 1, \"15\": 3, \"51\": 1, \"27\": 2, \"101\": 1, \"98\": 1, \"71\": 2, \"56\": 1, \"52\": 1, \"41\": 1, \"106\": 1}, \"121\": {\"113\": 3, \"121\": 18, \"95\": 4, \"13\": 2, \"117\": 1, \"26\": 3, \"118\": 1}, \"37\": {\"92\": 3, \"37\": 13}, \"88\": {\"6\": 3, \"37\": 1, \"52\": 1, \"88\": 37, \"127\": 4, \"98\": 5, \"125\": 10, \"91\": 1, \"36\": 8, \"24\": 5, \"15\": 8, \"101\": 5, \"27\": 6, \"110\": 5, \"108\": 3, \"94\": 6, \"12\": 3, \"111\": 4, \"106\": 6, \"0\": 1, \"9\": 1, \"71\": 3}, \"54\": {\"54\": 12, \"34\": 1, \"124\": 1, \"5\": 1, \"46\": 1}, \"92\": {\"92\": 26, \"37\": 2}, \"19\": {\"19\": 19, \"80\": 1, \"115\": 2, \"84\": 1, \"86\": 1, \"126\": 2, \"14\": 1, \"87\": 1}, \"47\": {\"47\": 9, \"59\": 1, \"72\": 1, \"34\": 1}, \"94\": {\"6\": 3, \"94\": 55, \"106\": 1, \"30\": 1, \"24\": 1, \"125\": 1, \"36\": 2, \"18\": 1, \"88\": 2, \"111\": 9, \"27\": 4, \"127\": 2, \"71\": 4, \"69\": 1, \"15\": 4, \"113\": 1}, \"66\": {\"66\": 12, \"22\": 2, \"99\": 2}, \"73\": {\"83\": 1, \"73\": 11, \"4\": 1, \"59\": 1, \"84\": 2, \"5\": 2, \"105\": 1, \"124\": 1}, \"75\": {\"75\": 16}, \"28\": {\"78\": 1, \"28\": 12, \"126\": 1, \"57\": 1, \"128\": 2, \"76\": 1, \"94\": 1, \"43\": 1}, \"20\": {\"20\": 11, \"96\": 1, \"11\": 1, \"60\": 2, \"99\": 1}, \"78\": {\"123\": 1, \"21\": 1, \"78\": 8, \"65\": 1, \"102\": 1, \"87\": 1, \"122\": 1, \"64\": 1, \"48\": 1}, \"71\": {\"71\": 47, \"24\": 5, \"106\": 7, \"12\": 6, \"30\": 2, \"26\": 1, \"111\": 9, \"27\": 1, \"15\": 6, \"94\": 1, \"127\": 8, \"117\": 1, \"98\": 3, \"91\": 1, \"39\": 1, \"125\": 1, \"88\": 3, \"110\": 1}, \"13\": {\"118\": 1, \"13\": 11, \"16\": 1, \"26\": 1, \"117\": 2}, \"118\": {\"118\": 55, \"13\": 1, \"26\": 11, \"62\": 1, \"2\": 1, \"69\": 2, \"39\": 2, \"117\": 1, \"42\": 1, \"16\": 4, \"18\": 3, \"90\": 1, \"11\": 1}, \"72\": {\"8\": 1, \"72\": 22, \"107\": 4, \"86\": 2, \"93\": 2, \"4\": 1}, \"24\": {\"24\": 37, \"72\": 1, \"77\": 1, \"98\": 4, \"30\": 2, \"88\": 4, \"108\": 1, \"71\": 7, \"101\": 3, \"113\": 1, \"110\": 2, \"111\": 3, \"106\": 4, \"15\": 3, \"4\": 1, \"39\": 1, \"45\": 1, \"51\": 1, \"6\": 2, \"86\": 2, \"9\": 1, \"127\": 1, \"27\": 3, \"107\": 4, \"70\": 2}, \"41\": {\"8\": 1, \"41\": 10, \"23\": 2, \"77\": 1, \"10\": 1, \"108\": 1}, \"102\": {\"102\": 99, \"100\": 2, \"11\": 1, \"33\": 8, \"69\": 5, \"3\": 2, \"62\": 2, \"15\": 1}, \"8\": {\"123\": 1, \"8\": 102, \"31\": 1, \"35\": 1, \"70\": 6, \"19\": 2, \"43\": 2, \"44\": 2, \"87\": 4, \"105\": 2, \"4\": 2, \"126\": 1, \"122\": 1, \"41\": 1, \"28\": 1, \"48\": 2, \"34\": 1, \"108\": 3, \"10\": 1, \"93\": 2}, \"39\": {\"39\": 43, \"21\": 5, \"18\": 7, \"102\": 2, \"26\": 3, \"118\": 4, \"16\": 9, \"69\": 3, \"33\": 1, \"109\": 3, \"117\": 11, \"88\": 1, \"90\": 2, \"129\": 1, \"12\": 1}, \"97\": {\"97\": 8, \"68\": 2, \"112\": 1, \"32\": 1, \"6\": 2, \"106\": 1, \"75\": 1, \"125\": 1, \"2\": 1, \"111\": 2}, \"48\": {\"48\": 12}, \"57\": {\"57\": 12}, \"29\": {\"29\": 24, \"111\": 1, \"68\": 1, \"37\": 1, \"89\": 1}, \"119\": {\"119\": 16}, \"89\": {\"89\": 16, \"41\": 1, \"35\": 1, \"108\": 1, \"5\": 1, \"98\": 1, \"106\": 1, \"9\": 4, \"24\": 1, \"17\": 1, \"29\": 1, \"54\": 1, \"68\": 1, \"127\": 1, \"34\": 2, \"111\": 1, \"105\": 1}, \"40\": {\"40\": 117, \"73\": 2, \"5\": 2, \"87\": 1, \"105\": 7, \"4\": 5, \"108\": 1, \"124\": 3, \"114\": 1, \"8\": 1}, \"22\": {\"97\": 1, \"22\": 11, \"11\": 2, \"100\": 1, \"62\": 1}, \"53\": {\"29\": 1, \"6\": 2, \"53\": 11, \"24\": 2, \"27\": 1, \"91\": 2, \"98\": 1}, \"108\": {\"42\": 1, \"89\": 3, \"108\": 47, \"5\": 7, \"107\": 6, \"32\": 1, \"70\": 5, \"127\": 2, \"93\": 7, \"101\": 4, \"4\": 5, \"98\": 4, \"14\": 1, \"8\": 5, \"105\": 2, \"40\": 2, \"44\": 2, \"109\": 1, \"86\": 1, \"41\": 1, \"96\": 1, \"71\": 2, \"111\": 3, \"106\": 3, \"122\": 1, \"0\": 1, \"24\": 1, \"114\": 1, \"12\": 1, \"43\": 2, \"88\": 1}, \"23\": {\"23\": 3, \"42\": 1, \"95\": 1, \"100\": 1, \"107\": 1, \"35\": 1, \"43\": 1, \"106\": 1, \"99\": 2, \"55\": 1, \"8\": 1, \"30\": 1, \"64\": 1, \"81\": 1, \"80\": 1, \"33\": 1, \"85\": 1, \"10\": 1, \"89\": 1, \"108\": 1, \"91\": 1}, \"109\": {\"76\": 2, \"109\": 49, \"28\": 1, \"102\": 6, \"66\": 1, \"99\": 1, \"50\": 2, \"96\": 1, \"90\": 18, \"33\": 2, \"64\": 2, \"3\": 3, \"82\": 1, \"7\": 4, \"18\": 2, \"62\": 4, \"1\": 1, \"14\": 1, \"126\": 3, \"122\": 1, \"67\": 1, \"104\": 1, \"42\": 1, \"11\": 2, \"43\": 1, \"87\": 2, \"114\": 1, \"70\": 1, \"84\": 1}, \"112\": {\"112\": 10, \"12\": 1, \"24\": 1, \"68\": 1, \"111\": 1, \"91\": 1, \"71\": 1}, \"35\": {\"23\": 2, \"35\": 7, \"8\": 2, \"70\": 1}, \"3\": {\"3\": 62, \"62\": 5, \"116\": 1, \"102\": 6, \"33\": 4, \"69\": 2, \"36\": 1, \"125\": 1, \"67\": 1, \"60\": 1, \"129\": 2, \"88\": 1, \"111\": 1}, \"103\": {\"103\": 15, \"94\": 1}, \"4\": {\"4\": 75, \"40\": 10, \"105\": 2, \"0\": 1, \"5\": 1, \"8\": 1, \"117\": 1, \"107\": 3, \"108\": 1, \"123\": 1, \"86\": 1, \"72\": 1, \"93\": 2}, \"87\": {\"28\": 3, \"78\": 3, \"23\": 2, \"73\": 2, \"87\": 30, \"114\": 8, \"84\": 7, \"45\": 1, \"1\": 1, \"83\": 1, \"44\": 1, \"43\": 5, \"16\": 1, \"126\": 2, \"7\": 2, \"105\": 9, \"70\": 5, \"8\": 3, \"74\": 2, \"40\": 7, \"93\": 5, \"46\": 1, \"48\": 1, \"128\": 2, \"122\": 3, \"14\": 1}, \"25\": {\"95\": 1, \"100\": 1, \"25\": 9, \"99\": 2, \"82\": 1, \"45\": 1, \"113\": 1}, \"15\": {\"15\": 55, \"127\": 5, \"30\": 3, \"32\": 2, \"88\": 4, \"24\": 2, \"125\": 2, \"94\": 4, \"113\": 1, \"106\": 1, \"111\": 1, \"110\": 1, \"36\": 1, \"12\": 4, \"27\": 9, \"101\": 2, \"58\": 1, \"71\": 4, \"121\": 1, \"117\": 1}, \"95\": {\"95\": 21, \"39\": 3, \"60\": 1, \"62\": 1, \"50\": 1, \"18\": 2, \"26\": 2, \"90\": 1, \"117\": 1, \"109\": 1, \"16\": 2}, \"120\": {\"120\": 14, \"62\": 4, \"123\": 1, \"121\": 1}, \"59\": {\"59\": 8, \"36\": 2, \"118\": 1, \"51\": 1}, \"49\": {\"49\": 5, \"52\": 1, \"9\": 3, \"70\": 1, \"5\": 1, \"90\": 1, \"108\": 1, \"24\": 2, \"93\": 1, \"4\": 1, \"112\": 1, \"34\": 1, \"11\": 1}, \"52\": {\"52\": 17, \"12\": 1, \"78\": 1, \"19\": 1}, \"45\": {\"87\": 1, \"22\": 1, \"80\": 1, \"7\": 1, \"41\": 1, \"36\": 1, \"61\": 1, \"82\": 1, \"74\": 3, \"33\": 1}, \"107\": {\"107\": 114, \"34\": 1, \"108\": 2, \"98\": 1, \"4\": 3, \"46\": 1, \"86\": 1, \"43\": 1}, \"106\": {\"106\": 99, \"95\": 1, \"110\": 1, \"127\": 3, \"24\": 4, \"98\": 5, \"71\": 3, \"88\": 3, \"111\": 5, \"12\": 3, \"4\": 1, \"17\": 1, \"91\": 1, \"93\": 1, \"89\": 1, \"49\": 1, \"101\": 1}, \"18\": {\"64\": 1, \"18\": 91, \"16\": 5, \"2\": 2, \"117\": 11, \"118\": 5, \"39\": 4, \"69\": 2, \"90\": 1, \"26\": 1, \"21\": 1}, \"64\": {\"64\": 16}, \"86\": {\"86\": 24, \"93\": 3, \"29\": 1, \"5\": 1, \"107\": 2, \"87\": 1, \"4\": 1, \"108\": 2, \"105\": 1}, \"14\": {\"115\": 2, \"14\": 79, \"84\": 4, \"74\": 1, \"43\": 3, \"7\": 1, \"122\": 2, \"19\": 2, \"129\": 2}, \"115\": {\"115\": 10, \"19\": 2}, \"0\": {\"0\": 57, \"111\": 1, \"93\": 5, \"91\": 1, \"110\": 6, \"10\": 3, \"101\": 6, \"24\": 1, \"85\": 2, \"11\": 1, \"127\": 1}, \"104\": {\"104\": 12, \"7\": 2, \"34\": 2}, \"61\": {\"61\": 5, \"81\": 1, \"122\": 1, \"82\": 2, \"80\": 1, \"43\": 2}, \"129\": {\"67\": 1, \"23\": 1, \"28\": 1, \"117\": 2, \"129\": 7, \"73\": 4, \"5\": 1, \"62\": 1, \"18\": 2, \"118\": 1, \"7\": 1, \"3\": 3, \"26\": 1, \"114\": 2}, \"122\": {\"122\": 38, \"23\": 1, \"60\": 1, \"70\": 3, \"44\": 2, \"14\": 10, \"109\": 1, \"7\": 4, \"43\": 5, \"84\": 7, \"1\": 2, \"117\": 1, \"90\": 1, \"82\": 1, \"96\": 1, \"115\": 2, \"38\": 2, \"129\": 1, \"33\": 1, \"87\": 2, \"126\": 1, \"114\": 1}, \"67\": {\"67\": 14, \"50\": 1, \"62\": 1}, \"128\": {\"104\": 1, \"107\": 2, \"72\": 2, \"128\": 4, \"43\": 1, \"14\": 1, \"86\": 3, \"7\": 1, \"4\": 1, \"85\": 1, \"99\": 2, \"81\": 1, \"11\": 1, \"49\": 1, \"77\": 1, \"96\": 1}, \"26\": {\"26\": 115, \"118\": 5, \"69\": 1, \"62\": 1, \"113\": 1, \"18\": 1, \"117\": 3, \"100\": 1, \"16\": 5, \"90\": 1}, \"117\": {\"13\": 1, \"117\": 112, \"16\": 10, \"118\": 1, \"18\": 8, \"26\": 2, \"95\": 1, \"39\": 1}, \"91\": {\"91\": 19, \"85\": 2, \"110\": 1, \"92\": 1, \"0\": 1, \"12\": 1, \"112\": 1, \"75\": 2}, \"12\": {\"12\": 57, \"112\": 2, \"6\": 2, \"53\": 1, \"30\": 2, \"106\": 1, \"101\": 5, \"127\": 14, \"15\": 3, \"111\": 4, \"71\": 4, \"18\": 1, \"90\": 1, \"118\": 1, \"97\": 1, \"33\": 1, \"24\": 2, \"110\": 1, \"117\": 1}, \"50\": {\"50\": 16}, \"99\": {\"99\": 17, \"25\": 1, \"109\": 1, \"1\": 2, \"90\": 1, \"20\": 1, \"11\": 1}, \"110\": {\"110\": 88, \"0\": 2, \"101\": 6, \"127\": 3, \"108\": 1, \"111\": 1, \"12\": 1, \"106\": 2}, \"43\": {\"43\": 34, \"23\": 3, \"128\": 1, \"87\": 11, \"84\": 18, \"14\": 5, \"109\": 1, \"90\": 2, \"36\": 1, \"114\": 6, \"122\": 4, \"7\": 8, \"125\": 1, \"1\": 5, \"62\": 4, \"126\": 6, \"22\": 1, \"21\": 1, \"44\": 2, \"24\": 1, \"107\": 1}, \"82\": {\"81\": 1, \"82\": 26, \"33\": 3, \"11\": 3, \"61\": 1, \"122\": 1, \"3\": 1}, \"1\": {\"1\": 79, \"80\": 1, \"40\": 1, \"126\": 2, \"114\": 5, \"124\": 1, \"14\": 2, \"43\": 1, \"81\": 1, \"109\": 1, \"84\": 1, \"88\": 1}, \"46\": {\"6\": 1, \"40\": 1, \"46\": 3, \"70\": 1, \"32\": 1, \"129\": 1, \"54\": 1, \"56\": 1, \"126\": 1, \"94\": 1}, \"16\": {\"16\": 76, \"117\": 14, \"118\": 2, \"2\": 1, \"69\": 2, \"21\": 1, \"26\": 6, \"113\": 1, \"90\": 1, \"18\": 1, \"13\": 1, \"95\": 1, \"50\": 1}, \"74\": {\"74\": 15, \"122\": 1}, \"32\": {\"32\": 16, \"0\": 1, \"111\": 2, \"127\": 2, \"91\": 2, \"101\": 1, \"71\": 2, \"51\": 2, \"110\": 1, \"30\": 2, \"49\": 1}, \"62\": {\"62\": 110, \"82\": 1, \"33\": 5, \"90\": 1, \"122\": 1, \"94\": 1, \"11\": 1}, \"27\": {\"27\": 29, \"56\": 2, \"36\": 5, \"112\": 2, \"12\": 4, \"98\": 1, \"111\": 7, \"30\": 3, \"88\": 8, \"24\": 1, \"71\": 1, \"15\": 6, \"127\": 2, \"125\": 8, \"106\": 1, \"94\": 5, \"59\": 1, \"68\": 1, \"37\": 1, \"6\": 2, \"69\": 1, \"16\": 1}, \"17\": {\"17\": 12, \"34\": 1, \"107\": 1, \"86\": 1, \"89\": 1}, \"36\": {\"36\": 101, \"94\": 2, \"125\": 16, \"88\": 6, \"27\": 4, \"15\": 4, \"118\": 1}, \"2\": {\"18\": 4, \"102\": 5, \"129\": 2, \"95\": 1, \"84\": 1, \"117\": 5, \"16\": 3, \"13\": 1, \"2\": 4, \"82\": 2, \"64\": 1, \"33\": 1, \"121\": 1, \"11\": 1}, \"70\": {\"72\": 4, \"109\": 2, \"87\": 4, \"34\": 1, \"70\": 33, \"83\": 3, \"102\": 1, \"93\": 7, \"120\": 1, \"43\": 6, \"108\": 18, \"126\": 4, \"106\": 1, \"107\": 4, \"118\": 1, \"11\": 2, \"110\": 1, \"4\": 6, \"122\": 1, \"8\": 5, \"5\": 3, \"7\": 3, \"14\": 1, \"40\": 4, \"101\": 2, \"23\": 1, \"86\": 3, \"62\": 1, \"44\": 1, \"90\": 1, \"98\": 2, \"18\": 1}, \"9\": {\"9\": 21, \"89\": 3, \"4\": 1, \"24\": 2, \"72\": 1, \"108\": 1, \"107\": 1, \"86\": 2}, \"114\": {\"84\": 13, \"114\": 94, \"1\": 3, \"124\": 7, \"5\": 2, \"70\": 1, \"40\": 5, \"129\": 1, \"83\": 1, \"3\": 1, \"87\": 1, \"14\": 1}, \"79\": {\"79\": 10, \"114\": 1, \"1\": 1}, \"56\": {\"17\": 1, \"56\": 7, \"12\": 1, \"98\": 1, \"32\": 1, \"112\": 1}, \"124\": {\"124\": 72, \"114\": 7, \"59\": 1, \"105\": 2, \"8\": 1, \"40\": 7, \"1\": 2, \"54\": 1, \"5\": 2, \"73\": 2, \"87\": 4, \"84\": 1}, \"84\": {\"84\": 92, \"73\": 1, \"19\": 1, \"20\": 1, \"70\": 1, \"126\": 3, \"87\": 3, \"114\": 11, \"14\": 5, \"40\": 1, \"43\": 7, \"122\": 1, \"1\": 4, \"45\": 1, \"74\": 1, \"105\": 1}, \"69\": {\"69\": 86, \"16\": 1, \"3\": 4, \"26\": 3, \"33\": 2, \"102\": 6, \"39\": 2, \"14\": 1, \"62\": 1, \"118\": 1, \"11\": 1}, \"58\": {\"58\": 10, \"127\": 1, \"111\": 1}, \"30\": {\"112\": 1, \"30\": 23, \"24\": 1, \"110\": 2, \"27\": 2, \"111\": 4, \"12\": 4, \"127\": 2, \"71\": 3, \"10\": 1, \"0\": 1, \"58\": 2, \"34\": 1, \"32\": 1, \"101\": 1, \"6\": 1, \"53\": 1, \"15\": 1}, \"55\": {\"55\": 12}, \"105\": {\"105\": 59, \"48\": 1, \"40\": 6, \"87\": 1, \"126\": 1, \"124\": 1, \"114\": 5, \"93\": 2, \"4\": 1, \"5\": 2, \"129\": 2, \"122\": 2, \"84\": 1}, \"63\": {\"117\": 1, \"63\": 10, \"18\": 3, \"121\": 1, \"13\": 1}, \"98\": {\"29\": 4, \"98\": 64, \"110\": 2, \"86\": 1, \"24\": 2, \"49\": 1, \"89\": 1, \"56\": 2, \"106\": 8, \"111\": 3, \"71\": 4, \"88\": 1, \"125\": 2, \"94\": 1, \"52\": 1, \"103\": 1, \"30\": 1, \"53\": 1, \"108\": 1, \"101\": 5, \"4\": 1, \"12\": 1}, \"116\": {\"116\": 18, \"118\": 1, \"11\": 2, \"102\": 2, \"42\": 1, \"3\": 3, \"33\": 1, \"50\": 2, \"26\": 2}}, \"W_3\": {\"76\": {\"76\": 12, \"116\": 2, \"69\": 1, \"79\": 1}, \"6\": {\"15\": 2, \"94\": 1, \"58\": 1, \"6\": 16, \"12\": 1, \"111\": 3, \"75\": 1, \"97\": 2, \"72\": 2, \"69\": 1, \"101\": 2}, \"108\": {\"6\": 2, \"83\": 1, \"85\": 1, \"71\": 4, \"108\": 45, \"127\": 10, \"24\": 1, \"7\": 1, \"105\": 2, \"94\": 1, \"124\": 5, \"3\": 4, \"70\": 6, \"12\": 1, \"4\": 6, \"8\": 3, \"114\": 3, \"62\": 1, \"10\": 3, \"55\": 1, \"66\": 1, \"9\": 1, \"27\": 1, \"1\": 1, \"87\": 1}, \"29\": {\"29\": 19, \"100\": 1, \"23\": 1, \"20\": 1, \"27\": 1, \"107\": 2, \"40\": 2, \"62\": 1, \"44\": 1, \"84\": 1, \"31\": 1, \"14\": 1}, \"83\": {\"108\": 1, \"83\": 19, \"127\": 1, \"34\": 1, \"70\": 1, \"8\": 1}, \"18\": {\"18\": 116, \"26\": 1, \"39\": 1, \"118\": 1, \"113\": 2, \"67\": 1, \"78\": 1, \"81\": 2, \"117\": 1, \"21\": 1, \"109\": 1}, \"54\": {\"54\": 16}, \"15\": {\"15\": 63, \"97\": 1, \"101\": 3, \"30\": 5, \"106\": 6, \"12\": 3, \"24\": 1, \"36\": 4, \"94\": 5, \"0\": 1, \"27\": 1, \"25\": 2, \"75\": 1, \"111\": 3, \"125\": 3, \"8\": 2}, \"100\": {\"100\": 10, \"129\": 1, \"62\": 1, \"87\": 1, \"48\": 1, \"44\": 1, \"82\": 1}, \"90\": {\"76\": 2, \"90\": 82, \"45\": 1, \"11\": 6, \"33\": 5, \"44\": 4, \"110\": 1, \"60\": 1, \"87\": 1, \"109\": 4, \"16\": 5, \"93\": 9, \"62\": 4, \"102\": 1, \"14\": 1, \"84\": 2, \"88\": 2, \"116\": 2, \"92\": 2, \"118\": 1}, \"26\": {\"26\": 118, \"96\": 1, \"18\": 1, \"93\": 1, \"14\": 1, \"118\": 1, \"90\": 1, \"11\": 1, \"121\": 2, \"39\": 3, \"43\": 1, \"16\": 1}, \"115\": {\"115\": 6, \"23\": 2, \"40\": 1, \"87\": 1, \"14\": 2, \"84\": 2, \"122\": 1, \"44\": 1}, \"94\": {\"15\": 8, \"94\": 59, \"0\": 1, \"106\": 1, \"27\": 2, \"73\": 1, \"36\": 1, \"111\": 2, \"125\": 2, \"8\": 3, \"6\": 2, \"30\": 1, \"118\": 1}, \"46\": {\"46\": 11, \"9\": 2, \"99\": 1, \"34\": 1, \"5\": 1}, \"121\": {\"121\": 20, \"63\": 1, \"113\": 2, \"21\": 2, \"39\": 5, \"92\": 1, \"78\": 1}, \"109\": {\"76\": 2, \"109\": 64, \"102\": 2, \"31\": 2, \"21\": 1, \"16\": 13, \"33\": 12, \"69\": 2, \"89\": 1, \"118\": 5, \"43\": 3, \"62\": 1, \"90\": 8, \"117\": 1, \"88\": 4, \"93\": 4, \"63\": 1, \"64\": 1, \"11\": 1}, \"101\": {\"101\": 39, \"37\": 3, \"0\": 2, \"111\": 1, \"125\": 1, \"8\": 4, \"30\": 2}, \"99\": {\"99\": 32, \"3\": 2, \"66\": 1, \"127\": 1}, \"8\": {\"8\": 59, \"9\": 1, \"98\": 12, \"111\": 11, \"7\": 6, \"10\": 2, \"128\": 2, \"127\": 6, \"30\": 3, \"73\": 1, \"12\": 2, \"15\": 3, \"26\": 1, \"124\": 4, \"41\": 2, \"27\": 3, \"77\": 1, \"52\": 1, \"104\": 1, \"51\": 1, \"0\": 3, \"117\": 1, \"4\": 1, \"106\": 1}, \"102\": {\"89\": 2, \"102\": 91, \"118\": 1, \"33\": 5, \"16\": 1, \"93\": 2, \"82\": 2}, \"122\": {\"123\": 1, \"122\": 26, \"90\": 2, \"40\": 7, \"88\": 3, \"103\": 1, \"57\": 1, \"62\": 2, \"105\": 1, \"129\": 1, \"1\": 2, \"107\": 5, \"26\": 1, \"114\": 2, \"115\": 1, \"126\": 1, \"110\": 1, \"70\": 1, \"5\": 1}, \"36\": {\"54\": 1, \"36\": 56, \"73\": 6, \"72\": 1, \"27\": 5, \"15\": 9, \"106\": 8, \"111\": 9, \"125\": 5, \"12\": 4, \"30\": 1, \"42\": 1, \"0\": 3, \"24\": 2, \"8\": 1, \"94\": 1, \"127\": 1, \"7\": 1, \"114\": 1}, \"113\": {\"113\": 72, \"92\": 1, \"90\": 1, \"117\": 8, \"109\": 3, \"11\": 4, \"93\": 4, \"126\": 2, \"39\": 7, \"18\": 8, \"118\": 3, \"123\": 2, \"64\": 1, \"43\": 1, \"26\": 3}, \"123\": {\"123\": 11, \"89\": 1, \"63\": 2, \"18\": 2}, \"120\": {\"120\": 20}, \"125\": {\"125\": 86, \"94\": 5, \"6\": 1, \"36\": 7, \"27\": 4, \"15\": 3, \"88\": 1, \"24\": 1}, \"89\": {\"89\": 18, \"43\": 1, \"33\": 1, \"14\": 1, \"30\": 1, \"116\": 1, \"102\": 2, \"69\": 1, \"11\": 1, \"84\": 1}, \"9\": {\"9\": 30, \"66\": 2}, \"31\": {\"62\": 2, \"14\": 1, \"69\": 1, \"31\": 12, \"102\": 1, \"76\": 2, \"116\": 1}, \"62\": {\"62\": 85, \"107\": 3, \"14\": 7, \"11\": 11, \"90\": 2, \"84\": 1, \"87\": 2, \"126\": 1, \"109\": 1, \"110\": 1}, \"49\": {\"23\": 1, \"51\": 1, \"14\": 1, \"48\": 1, \"101\": 1, \"84\": 3, \"1\": 1, \"77\": 1, \"40\": 2, \"80\": 1, \"44\": 1, \"72\": 1, \"22\": 1, \"50\": 1, \"42\": 1, \"10\": 1, \"69\": 1, \"6\": 2, \"87\": 2}, \"23\": {\"18\": 2, \"7\": 2, \"23\": 5, \"95\": 2, \"83\": 1, \"26\": 1, \"98\": 2, \"113\": 1, \"70\": 1, \"109\": 3, \"87\": 1, \"64\": 2, \"69\": 3, \"121\": 1, \"126\": 1, \"122\": 1, \"108\": 1, \"9\": 1, \"128\": 1}, \"55\": {\"55\": 16}, \"128\": {\"128\": 11, \"55\": 1, \"74\": 1, \"0\": 1, \"42\": 1, \"127\": 4, \"110\": 1, \"4\": 1, \"122\": 2, \"7\": 4, \"41\": 1, \"129\": 1, \"105\": 1, \"60\": 1, \"99\": 1}, \"71\": {\"71\": 50, \"20\": 1, \"3\": 3, \"104\": 1, \"49\": 1, \"26\": 1, \"34\": 2, \"4\": 4, \"108\": 3, \"5\": 1, \"114\": 1}, \"51\": {\"51\": 13, \"58\": 1, \"8\": 1, \"95\": 1}, \"7\": {\"7\": 91, \"77\": 1, \"34\": 1, \"99\": 1, \"91\": 1, \"127\": 8, \"8\": 1, \"12\": 1, \"95\": 1}, \"117\": {\"117\": 91, \"2\": 2, \"39\": 4, \"113\": 4, \"62\": 1, \"21\": 1, \"18\": 1}, \"28\": {\"28\": 13, \"55\": 1, \"87\": 1, \"70\": 1}, \"127\": {\"128\": 2, \"127\": 109, \"9\": 2, \"108\": 4, \"71\": 1, \"3\": 1, \"4\": 1, \"8\": 2, \"5\": 2, \"19\": 2, \"17\": 1, \"23\": 1}, \"57\": {\"57\": 20}, \"78\": {\"117\": 1, \"23\": 2, \"78\": 4, \"19\": 1, \"40\": 2, \"92\": 2, \"54\": 1, \"21\": 1, \"61\": 1, \"31\": 1}, \"87\": {\"87\": 56, \"90\": 8, \"40\": 10, \"115\": 1, \"48\": 2, \"107\": 13, \"32\": 1, \"69\": 1, \"129\": 3, \"88\": 1, \"110\": 2, \"14\": 3, \"109\": 2, \"16\": 1, \"62\": 3, \"50\": 1, \"100\": 1, \"78\": 2, \"33\": 1, \"29\": 1, \"84\": 3, \"1\": 1, \"117\": 1, \"44\": 1, \"114\": 1}, \"40\": {\"40\": 92, \"16\": 3, \"60\": 1, \"110\": 4, \"107\": 8, \"1\": 9, \"114\": 3, \"11\": 1, \"87\": 2, \"69\": 1, \"122\": 1, \"32\": 1, \"129\": 1, \"70\": 1}, \"81\": {\"81\": 28, \"18\": 4}, \"2\": {\"2\": 21, \"96\": 1, \"43\": 1, \"67\": 1, \"26\": 2, \"63\": 1, \"39\": 1}, \"58\": {\"58\": 14, \"0\": 1, \"101\": 1}, \"68\": {\"68\": 11, \"77\": 1, \"52\": 1, \"91\": 1, \"63\": 1, \"51\": 1}, \"20\": {\"20\": 8, \"34\": 2, \"29\": 1, \"11\": 1, \"53\": 1, \"60\": 1, \"36\": 1, \"76\": 1}, \"35\": {\"35\": 9, \"91\": 1, \"0\": 1, \"95\": 1}, \"96\": {\"96\": 15, \"118\": 1, \"78\": 1, \"11\": 1, \"43\": 1, \"92\": 1}, \"84\": {\"84\": 88, \"80\": 1, \"11\": 4, \"14\": 3, \"62\": 4, \"16\": 1, \"82\": 2, \"31\": 1, \"69\": 1, \"44\": 2, \"90\": 1}, \"13\": {\"64\": 2, \"13\": 7, \"62\": 1, \"80\": 1, \"119\": 1, \"16\": 1, \"43\": 1, \"69\": 1, \"26\": 1}, \"64\": {\"64\": 17, \"2\": 1, \"120\": 1, \"102\": 1}, \"112\": {\"112\": 8, \"97\": 1, \"42\": 2, \"47\": 1, \"75\": 1, \"6\": 1, \"94\": 1, \"108\": 1}, \"103\": {\"5\": 1, \"103\": 10, \"66\": 2, \"88\": 1, \"34\": 1, \"29\": 1}, \"65\": {\"65\": 11, \"63\": 1}, \"118\": {\"118\": 42, \"93\": 10, \"13\": 1, \"109\": 12, \"69\": 2, \"96\": 2, \"92\": 2, \"33\": 6, \"102\": 7, \"26\": 4, \"113\": 2, \"88\": 1, \"89\": 2, \"90\": 1, \"76\": 1, \"43\": 1, \"16\": 4}, \"88\": {\"64\": 1, \"103\": 1, \"9\": 2, \"118\": 3, \"88\": 27, \"55\": 2, \"76\": 1, \"74\": 1, \"109\": 11, \"87\": 3, \"39\": 1, \"99\": 1, \"1\": 2, \"60\": 1, \"110\": 4, \"21\": 2, \"11\": 3, \"105\": 9, \"18\": 1, \"114\": 3, \"90\": 4, \"108\": 2, \"36\": 2, \"62\": 2, \"84\": 2, \"120\": 1, \"34\": 1, \"127\": 1, \"40\": 1, \"5\": 2, \"66\": 1, \"96\": 1, \"116\": 1, \"71\": 2, \"85\": 1, \"93\": 1, \"3\": 4, \"107\": 2, \"106\": 1, \"7\": 1}, \"85\": {\"85\": 28, \"112\": 1, \"25\": 1, \"104\": 1, \"108\": 1, \"72\": 1, \"71\": 1, \"128\": 1, \"124\": 1}, \"5\": {\"112\": 1, \"5\": 79, \"105\": 8, \"71\": 2, \"3\": 7, \"126\": 1, \"1\": 2, \"4\": 6, \"114\": 2, \"18\": 1, \"46\": 1, \"88\": 1, \"108\": 1}, \"93\": {\"118\": 8, \"93\": 77, \"102\": 6, \"116\": 1, \"16\": 8, \"62\": 2, \"43\": 3, \"92\": 2, \"69\": 2, \"33\": 10, \"109\": 6, \"90\": 5, \"84\": 2, \"11\": 2, \"89\": 2, \"88\": 1, \"44\": 1}, \"43\": {\"2\": 1, \"43\": 17, \"63\": 1, \"62\": 1, \"109\": 4, \"89\": 3, \"88\": 1, \"26\": 6, \"39\": 2, \"93\": 4, \"33\": 1, \"92\": 1, \"64\": 2, \"13\": 1, \"69\": 1, \"118\": 1, \"81\": 1, \"102\": 2, \"90\": 2, \"16\": 2, \"11\": 2}, \"67\": {\"67\": 14, \"89\": 1, \"43\": 1}, \"48\": {\"48\": 2, \"82\": 1, \"77\": 1, \"66\": 2, \"70\": 1, \"7\": 2, \"93\": 1, \"10\": 1, \"119\": 2, \"9\": 2, \"102\": 1}, \"73\": {\"73\": 24, \"58\": 2, \"12\": 1, \"92\": 1, \"36\": 2, \"30\": 1, \"97\": 1, \"106\": 2, \"24\": 1, \"111\": 2, \"90\": 1, \"94\": 2}, \"34\": {\"87\": 3, \"73\": 2, \"52\": 1, \"34\": 3, \"23\": 2, \"72\": 2, \"111\": 4, \"97\": 1, \"6\": 1, \"84\": 1, \"19\": 2, \"48\": 1, \"51\": 1, \"36\": 2, \"29\": 1, \"30\": 1, \"24\": 2, \"106\": 1, \"62\": 1}, \"91\": {\"10\": 2, \"91\": 13, \"95\": 2, \"68\": 2, \"72\": 1, \"101\": 2, \"69\": 1, \"35\": 1}, \"105\": {\"105\": 104, \"71\": 1, \"5\": 3, \"3\": 1, \"114\": 3, \"19\": 2, \"7\": 1, \"103\": 1, \"9\": 2, \"4\": 3, \"70\": 1, \"108\": 2}, \"10\": {\"10\": 67, \"91\": 2, \"37\": 1, \"7\": 7, \"95\": 2, \"74\": 1, \"77\": 1, \"108\": 3, \"30\": 3, \"8\": 3, \"4\": 2, \"0\": 3, \"70\": 2, \"40\": 1, \"101\": 2, \"65\": 1, \"86\": 1, \"127\": 2, \"12\": 1, \"5\": 1}, \"61\": {\"18\": 1, \"61\": 10, \"92\": 1, \"117\": 1, \"121\": 1, \"67\": 2}, \"74\": {\"74\": 15, \"129\": 1}, \"4\": {\"4\": 68, \"9\": 1, \"104\": 1, \"49\": 1, \"128\": 1, \"5\": 7, \"3\": 3, \"105\": 9, \"94\": 1, \"127\": 1, \"71\": 2, \"113\": 1}, \"37\": {\"101\": 1, \"37\": 15}, \"19\": {\"19\": 10, \"50\": 1, \"51\": 2, \"0\": 1, \"129\": 2, \"14\": 3, \"95\": 1, \"87\": 1, \"85\": 1, \"34\": 1, \"30\": 1, \"62\": 1, \"122\": 1, \"32\": 3, \"29\": 2, \"128\": 1}, \"44\": {\"44\": 39, \"76\": 1, \"14\": 1, \"62\": 1, \"87\": 5, \"102\": 1, \"11\": 3, \"100\": 1, \"29\": 2, \"109\": 1, \"84\": 7, \"88\": 2, \"39\": 1, \"90\": 1, \"115\": 1, \"107\": 1, \"129\": 1, \"30\": 1, \"69\": 1, \"93\": 1}, \"52\": {\"52\": 13, \"58\": 1, \"8\": 1, \"42\": 1}, \"92\": {\"92\": 25, \"33\": 2, \"80\": 2, \"118\": 1, \"26\": 1, \"43\": 1}, \"33\": {\"33\": 108, \"118\": 1, \"102\": 11, \"69\": 2, \"84\": 1, \"93\": 2, \"16\": 2, \"70\": 1}, \"45\": {\"45\": 12, \"129\": 1, \"82\": 3}, \"11\": {\"11\": 43, \"45\": 1, \"76\": 1, \"29\": 1, \"90\": 10, \"82\": 7, \"33\": 12, \"109\": 4, \"62\": 6, \"74\": 1, \"39\": 1, \"100\": 2, \"14\": 4, \"44\": 3, \"88\": 4, \"87\": 2, \"16\": 3, \"84\": 10, \"43\": 2, \"129\": 1, \"89\": 1, \"69\": 1, \"120\": 1, \"32\": 1, \"107\": 3, \"93\": 3}, \"129\": {\"11\": 2, \"129\": 15, \"50\": 1, \"48\": 2, \"19\": 1, \"105\": 2, \"100\": 1, \"44\": 3, \"84\": 1, \"114\": 3, \"5\": 1}, \"116\": {\"116\": 14, \"69\": 1, \"50\": 1, \"11\": 3, \"109\": 1, \"87\": 2, \"76\": 2, \"26\": 1, \"33\": 1, \"89\": 1, \"129\": 1}, \"75\": {\"75\": 14, \"6\": 2}, \"41\": {\"41\": 6, \"72\": 1, \"47\": 2, \"8\": 1, \"108\": 1, \"127\": 1, \"34\": 1, \"128\": 1, \"124\": 2}, \"21\": {\"118\": 2, \"21\": 31, \"43\": 2, \"64\": 1, \"39\": 1, \"69\": 1, \"16\": 1, \"113\": 2, \"126\": 5, \"8\": 1, \"94\": 1}, \"69\": {\"69\": 63, \"61\": 1, \"33\": 7, \"90\": 2, \"7\": 1, \"43\": 1, \"93\": 2, \"102\": 3, \"11\": 1, \"13\": 2, \"126\": 1}, \"16\": {\"69\": 1, \"116\": 2, \"16\": 48, \"118\": 3, \"93\": 8, \"39\": 1, \"109\": 8, \"33\": 11, \"102\": 5, \"11\": 3, \"84\": 5, \"90\": 5, \"96\": 1, \"88\": 3, \"126\": 1, \"62\": 2, \"14\": 1}, \"25\": {\"25\": 11, \"58\": 2, \"15\": 1, \"27\": 2}, \"12\": {\"12\": 67, \"111\": 7, \"83\": 3, \"73\": 2, \"98\": 3, \"0\": 9, \"127\": 2, \"30\": 1, \"8\": 4, \"94\": 1, \"15\": 1, \"108\": 1, \"72\": 2, \"88\": 1}, \"72\": {\"72\": 23, \"68\": 1, \"0\": 1, \"111\": 1, \"12\": 1, \"30\": 1}, \"0\": {\"0\": 64, \"65\": 1, \"101\": 2, \"111\": 6, \"12\": 9, \"30\": 9, \"73\": 1, \"15\": 2, \"10\": 4, \"7\": 4, \"108\": 1, \"98\": 2, \"91\": 2, \"8\": 5, \"72\": 2, \"126\": 1, \"106\": 1}, \"50\": {\"107\": 1, \"50\": 12, \"14\": 2, \"88\": 1}, \"107\": {\"107\": 122, \"84\": 1, \"14\": 1, \"40\": 9, \"16\": 2, \"62\": 1, \"87\": 3, \"122\": 1}, \"124\": {\"124\": 108, \"8\": 3, \"85\": 1, \"111\": 3, \"98\": 3, \"127\": 3, \"12\": 1, \"72\": 1, \"108\": 1}, \"53\": {\"53\": 11, \"129\": 1, \"108\": 1, \"48\": 2, \"98\": 1, \"1\": 2, \"55\": 1, \"117\": 1}, \"66\": {\"66\": 15, \"9\": 1}, \"47\": {\"47\": 9, \"112\": 1, \"41\": 1, \"99\": 1}, \"24\": {\"24\": 16, \"51\": 1, \"25\": 2, \"68\": 1, \"0\": 1, \"73\": 2, \"97\": 1, \"111\": 1, \"91\": 1, \"124\": 3, \"30\": 1, \"7\": 1, \"106\": 1, \"36\": 3, \"15\": 4, \"12\": 2, \"52\": 1, \"108\": 1, \"94\": 1, \"127\": 1, \"85\": 1, \"125\": 1, \"26\": 1}, \"95\": {\"95\": 29, \"123\": 1, \"98\": 2}, \"98\": {\"98\": 52, \"47\": 1, \"95\": 1, \"111\": 2, \"85\": 1, \"12\": 5, \"83\": 1, \"5\": 1, \"8\": 9, \"44\": 1, \"73\": 1, \"124\": 8, \"0\": 1, \"7\": 3, \"127\": 3, \"106\": 4, \"108\": 2, \"91\": 1, \"27\": 1, \"103\": 1, \"15\": 1, \"71\": 1, \"86\": 1, \"113\": 1, \"36\": 1, \"30\": 1, \"105\": 1}, \"63\": {\"63\": 16}, \"3\": {\"3\": 74, \"71\": 5, \"103\": 1, \"1\": 4, \"32\": 1, \"39\": 1, \"70\": 3, \"5\": 7, \"105\": 6, \"4\": 3, \"114\": 2, \"127\": 2, \"110\": 1, \"108\": 2, \"113\": 1, \"128\": 1, \"88\": 1, \"18\": 1}, \"14\": {\"14\": 74, \"62\": 6}, \"1\": {\"1\": 74, \"3\": 2, \"122\": 1, \"40\": 12, \"114\": 10, \"110\": 3, \"60\": 1, \"129\": 1, \"87\": 1, \"62\": 1, \"107\": 2}, \"38\": {\"38\": 14, \"110\": 1, \"105\": 1}, \"110\": {\"1\": 5, \"66\": 1, \"118\": 2, \"110\": 40, \"34\": 1, \"32\": 2, \"23\": 1, \"17\": 1, \"28\": 2, \"88\": 3, \"122\": 1, \"4\": 1, \"3\": 2, \"18\": 2, \"114\": 9, \"70\": 3, \"129\": 1, \"5\": 2, \"128\": 2, \"19\": 1, \"60\": 2, \"87\": 1, \"62\": 1, \"30\": 1, \"105\": 3, \"106\": 1, \"126\": 1}, \"17\": {\"11\": 1, \"35\": 2, \"39\": 1, \"95\": 3, \"7\": 3, \"111\": 1, \"109\": 1, \"127\": 1, \"41\": 1, \"4\": 1, \"121\": 1}, \"30\": {\"30\": 51, \"42\": 1, \"94\": 3, \"98\": 3, \"0\": 3, \"111\": 4, \"7\": 1, \"106\": 3, \"8\": 3, \"10\": 1, \"15\": 2, \"93\": 1, \"101\": 1, \"95\": 1, \"124\": 1, \"128\": 1, \"24\": 1, \"73\": 1, \"3\": 1, \"127\": 1}, \"56\": {\"56\": 6, \"9\": 2, \"42\": 2, \"46\": 1, \"75\": 1}, \"27\": {\"52\": 2, \"27\": 34, \"15\": 5, \"124\": 6, \"36\": 9, \"6\": 2, \"111\": 10, \"73\": 1, \"125\": 7, \"12\": 1, \"106\": 5, \"8\": 1, \"7\": 1, \"113\": 2, \"51\": 2, \"23\": 1, \"25\": 1, \"24\": 2, \"98\": 1, \"49\": 1, \"30\": 1, \"126\": 1}, \"104\": {\"104\": 16}, \"97\": {\"56\": 2, \"97\": 10, \"124\": 1, \"15\": 1, \"111\": 1, \"52\": 1, \"59\": 1, \"72\": 1, \"73\": 1, \"36\": 1}, \"42\": {\"97\": 3, \"112\": 2, \"25\": 1, \"42\": 5, \"0\": 1, \"125\": 1, \"108\": 2, \"19\": 1, \"15\": 3, \"49\": 1, \"27\": 2, \"58\": 1, \"4\": 2, \"24\": 1, \"71\": 1, \"105\": 1}, \"39\": {\"96\": 1, \"123\": 3, \"39\": 55, \"81\": 1, \"121\": 5, \"26\": 5, \"18\": 3, \"117\": 13, \"109\": 5, \"113\": 11, \"126\": 1, \"2\": 1, \"23\": 2, \"92\": 1, \"21\": 1}, \"70\": {\"23\": 3, \"87\": 4, \"105\": 5, \"63\": 1, \"48\": 1, \"98\": 4, \"60\": 1, \"3\": 1, \"127\": 7, \"88\": 7, \"70\": 6, \"0\": 1, \"40\": 2, \"90\": 1, \"62\": 4, \"4\": 2, \"108\": 3, \"1\": 2, \"110\": 1, \"47\": 1, \"22\": 1, \"76\": 1, \"74\": 2, \"25\": 1, \"46\": 2, \"49\": 1, \"71\": 1, \"126\": 1, \"8\": 2, \"124\": 1, \"11\": 2}, \"86\": {\"86\": 20, \"99\": 3, \"70\": 1, \"7\": 1, \"108\": 1, \"127\": 2}, \"119\": {\"119\": 16}, \"77\": {\"77\": 13, \"12\": 2, \"65\": 1}, \"59\": {\"59\": 7, \"42\": 1, \"6\": 1, \"51\": 2, \"12\": 1}, \"22\": {\"76\": 1, \"122\": 1, \"22\": 11, \"62\": 2, \"50\": 1}, \"79\": {\"79\": 10, \"46\": 1, \"17\": 1}, \"80\": {\"80\": 11, \"109\": 1, \"116\": 1, \"16\": 1, \"90\": 2}, \"111\": {\"75\": 1, \"111\": 105, \"94\": 2, \"97\": 1, \"73\": 4, \"30\": 6, \"15\": 4, \"87\": 1, \"12\": 6, \"72\": 1, \"8\": 1}, \"82\": {\"107\": 2, \"82\": 20, \"84\": 3, \"69\": 3}, \"126\": {\"121\": 3, \"126\": 94, \"78\": 1, \"81\": 2, \"39\": 5, \"21\": 2, \"117\": 5, \"113\": 2, \"18\": 6, \"26\": 1, \"118\": 1, \"88\": 1, \"43\": 1}, \"32\": {\"87\": 1, \"69\": 1, \"32\": 12, \"45\": 1, \"102\": 1, \"62\": 1, \"122\": 3, \"106\": 1, \"86\": 1, \"20\": 1, \"107\": 3, \"101\": 1, \"105\": 2, \"110\": 1, \"44\": 1, \"128\": 1}, \"106\": {\"106\": 77, \"119\": 1, \"6\": 2, \"111\": 1, \"27\": 2, \"15\": 7, \"98\": 1, \"36\": 5, \"52\": 1, \"94\": 1, \"18\": 1, \"125\": 1}, \"60\": {\"60\": 20, \"129\": 2, \"45\": 1, \"32\": 1, \"11\": 1, \"76\": 1, \"87\": 1, \"110\": 1}, \"114\": {\"114\": 66, \"60\": 1, \"1\": 12, \"3\": 4, \"87\": 1, \"5\": 3, \"70\": 2, \"105\": 5, \"110\": 1, \"108\": 1, \"107\": 3, \"124\": 1, \"38\": 2, \"20\": 1, \"53\": 1, \"40\": 3, \"39\": 1}}, \"C_5\": {\"12\": {\"12\": 90, \"38\": 1, \"4\": 4, \"45\": 1}, \"8\": {\"48\": 17, \"8\": 111, \"53\": 10, \"1\": 4}, \"29\": {\"29\": 121, \"3\": 1, \"11\": 1, \"47\": 1, \"15\": 1, \"43\": 4, \"37\": 1, \"36\": 2}, \"57\": {\"57\": 123, \"18\": 1, \"52\": 1, \"25\": 1}, \"38\": {\"38\": 32}, \"23\": {\"23\": 110, \"54\": 4, \"39\": 4, \"57\": 6}, \"56\": {\"49\": 1, \"56\": 120, \"24\": 5, \"10\": 2, \"15\": 5, \"43\": 4, \"0\": 1}, \"49\": {\"49\": 28, \"29\": 5, \"3\": 2, \"14\": 1}, \"4\": {\"4\": 74, \"6\": 1, \"12\": 4, \"20\": 3, \"45\": 6, \"55\": 7, \"7\": 2, \"51\": 1, \"30\": 2}, \"48\": {\"48\": 90, \"8\": 15, \"1\": 17, \"53\": 5, \"27\": 6, \"9\": 3}, \"21\": {\"21\": 133, \"5\": 4, \"50\": 2, \"19\": 4, \"25\": 1}, \"30\": {\"30\": 126, \"6\": 2}, \"1\": {\"1\": 127, \"48\": 11, \"8\": 9, \"53\": 1}, \"34\": {\"29\": 1, \"34\": 34, \"33\": 1}, \"35\": {\"35\": 36}, \"55\": {\"55\": 112, \"45\": 5, \"7\": 2, \"6\": 5, \"51\": 19, \"30\": 4, \"20\": 5}, \"5\": {\"5\": 105, \"21\": 5, \"44\": 3, \"40\": 6, \"19\": 2, \"25\": 1}, \"52\": {\"52\": 101, \"47\": 8, \"46\": 9, \"3\": 1, \"16\": 2, \"57\": 5}, \"6\": {\"6\": 67, \"55\": 1, \"50\": 1, \"20\": 2, \"9\": 4, \"30\": 13, \"17\": 9, \"45\": 2, \"1\": 5, \"48\": 6, \"27\": 1, \"8\": 6, \"51\": 6, \"53\": 1, \"26\": 3, \"25\": 1}, \"36\": {\"36\": 85, \"47\": 2, \"46\": 1, \"3\": 1, \"16\": 2, \"14\": 1}, \"41\": {\"41\": 28}, \"3\": {\"3\": 64, \"29\": 2, \"46\": 11, \"11\": 5, \"36\": 3, \"47\": 3, \"15\": 4, \"43\": 1, \"56\": 1, \"16\": 1, \"14\": 1, \"31\": 2, \"49\": 1, \"52\": 1}, \"28\": {\"28\": 28, \"34\": 2, \"36\": 1, \"47\": 1}, \"18\": {\"18\": 64}, \"25\": {\"25\": 104, \"9\": 2, \"21\": 5, \"19\": 6, \"5\": 3, \"50\": 9, \"1\": 1, \"20\": 2, \"27\": 2, \"48\": 1, \"40\": 1}, \"47\": {\"47\": 80, \"34\": 2, \"37\": 1, \"2\": 1, \"29\": 2, \"36\": 3, \"16\": 4, \"52\": 4, \"46\": 2, \"3\": 1}, \"13\": {\"13\": 159, \"10\": 1}, \"11\": {\"47\": 4, \"11\": 110, \"15\": 11, \"43\": 4, \"52\": 1, \"16\": 4, \"14\": 2, \"37\": 1, \"49\": 1, \"3\": 2, \"29\": 4}, \"53\": {\"53\": 104, \"27\": 5, \"8\": 15, \"1\": 10, \"19\": 1, \"5\": 2, \"9\": 2, \"48\": 4, \"21\": 1}, \"33\": {\"33\": 32}, \"46\": {\"46\": 130, \"14\": 2, \"37\": 2, \"29\": 1, \"31\": 1, \"3\": 4, \"11\": 1, \"16\": 4, \"36\": 2, \"57\": 1}, \"50\": {\"50\": 90, \"33\": 1, \"53\": 7, \"25\": 12, \"32\": 5, \"18\": 2, \"20\": 9, \"1\": 5, \"21\": 9, \"5\": 3, \"48\": 3, \"51\": 1, \"27\": 1}, \"10\": {\"10\": 62, \"13\": 4, \"24\": 1, \"56\": 1}, \"15\": {\"15\": 117, \"43\": 16, \"11\": 5}, \"44\": {\"44\": 116, \"40\": 16, \"5\": 4, \"11\": 2, \"29\": 2}, \"2\": {\"2\": 24, \"29\": 1, \"43\": 1, \"56\": 1, \"15\": 1}, \"7\": {\"7\": 23, \"55\": 4, \"51\": 2, \"6\": 1, \"45\": 2}, \"43\": {\"43\": 115, \"15\": 17, \"3\": 3, \"11\": 1, \"16\": 2}, \"32\": {\"32\": 24, \"50\": 1, \"9\": 1, \"53\": 4, \"1\": 2}, \"0\": {\"0\": 124}, \"39\": {\"39\": 20}, \"26\": {\"26\": 24}, \"27\": {\"27\": 98, \"48\": 1, \"53\": 5, \"8\": 2, \"9\": 6}, \"54\": {\"54\": 109, \"23\": 3}, \"17\": {\"17\": 113, \"26\": 1, \"6\": 1, \"30\": 1}, \"14\": {\"36\": 3, \"34\": 3, \"11\": 3, \"46\": 1, \"15\": 4, \"14\": 17, \"37\": 2, \"31\": 4, \"47\": 3, \"16\": 1, \"3\": 1, \"52\": 1, \"44\": 1}, \"16\": {\"36\": 7, \"16\": 105, \"47\": 12, \"46\": 13, \"52\": 4, \"11\": 4, \"57\": 1, \"49\": 1, \"29\": 1}, \"9\": {\"1\": 2, \"9\": 96, \"44\": 1, \"8\": 8, \"4\": 2, \"53\": 6, \"30\": 3, \"27\": 16, \"45\": 2, \"6\": 2, \"55\": 2, \"51\": 2, \"48\": 3, \"40\": 1, \"20\": 2}, \"19\": {\"19\": 147, \"40\": 1, \"21\": 4}, \"20\": {\"20\": 130, \"51\": 2, \"9\": 3, \"50\": 1, \"55\": 1, \"1\": 1}, \"37\": {\"46\": 4, \"37\": 19, \"14\": 1}, \"24\": {\"24\": 73, \"13\": 2, \"35\": 2, \"56\": 2, \"10\": 1}, \"40\": {\"40\": 105, \"11\": 2, \"44\": 9, \"5\": 3, \"21\": 2, \"36\": 1}, \"45\": {\"20\": 2, \"55\": 13, \"26\": 1, \"38\": 2, \"45\": 62, \"9\": 8, \"4\": 5, \"7\": 2, \"30\": 7, \"12\": 2, \"51\": 8, \"6\": 4, \"27\": 5, \"53\": 3}, \"22\": {\"22\": 28}, \"42\": {\"42\": 38, \"13\": 1, \"56\": 1}, \"51\": {\"51\": 109, \"55\": 5, \"20\": 1, \"44\": 2, \"5\": 1}, \"31\": {\"31\": 36}}, \"C_1\": {\"27\": {\"27\": 136, \"24\": 3, \"22\": 2, \"43\": 1}, \"2\": {\"2\": 34, \"48\": 1, \"6\": 1}, \"33\": {\"33\": 32}, \"45\": {\"45\": 155, \"1\": 1}, \"38\": {\"38\": 22, \"15\": 1, \"23\": 1}, \"4\": {\"4\": 123, \"50\": 2, \"46\": 6, \"51\": 1}, \"31\": {\"31\": 28}, \"55\": {\"55\": 92, \"57\": 6, \"3\": 17, \"56\": 4, \"35\": 2, \"16\": 2, \"1\": 3, \"11\": 2, \"47\": 4, \"44\": 4, \"29\": 1, \"42\": 1, \"54\": 1, \"19\": 1}, \"32\": {\"32\": 31, \"36\": 1}, \"57\": {\"57\": 116, \"19\": 8, \"56\": 13, \"55\": 1, \"1\": 2}, \"14\": {\"14\": 12, \"30\": 1, \"53\": 3, \"5\": 3, \"9\": 4, \"26\": 1}, \"16\": {\"16\": 131, \"54\": 9}, \"34\": {\"34\": 23, \"33\": 1}, \"56\": {\"57\": 17, \"56\": 92, \"19\": 6, \"29\": 8, \"1\": 3}, \"24\": {\"24\": 85, \"22\": 11, \"10\": 6, \"43\": 3, \"27\": 2, \"52\": 1}, \"30\": {\"30\": 105, \"26\": 1, \"18\": 1, \"19\": 2, \"25\": 1, \"13\": 1, \"51\": 1}, \"17\": {\"17\": 58, \"8\": 5, \"53\": 1}, \"13\": {\"13\": 135, \"7\": 2, \"44\": 1}, \"39\": {\"39\": 26, \"21\": 2}, \"50\": {\"50\": 144, \"46\": 1, \"4\": 1}, \"20\": {\"20\": 136, \"12\": 4}, \"41\": {\"41\": 24}, \"53\": {\"53\": 118, \"14\": 3, \"9\": 5}, \"48\": {\"48\": 139, \"6\": 2, \"2\": 1}, \"36\": {\"36\": 62, \"0\": 2}, \"8\": {\"8\": 140}, \"15\": {\"49\": 1, \"15\": 110, \"11\": 15, \"0\": 3, \"22\": 1, \"21\": 1, \"23\": 1}, \"40\": {\"40\": 142, \"12\": 5, \"51\": 3, \"46\": 1, \"29\": 1, \"20\": 3, \"13\": 1}, \"37\": {\"37\": 32}, \"21\": {\"21\": 115, \"23\": 2, \"22\": 1, \"15\": 2}, \"35\": {\"35\": 34, \"44\": 2}, \"49\": {\"49\": 32}, \"26\": {\"26\": 24}, \"28\": {\"28\": 21, \"10\": 3, \"31\": 2, \"52\": 1, \"11\": 1}, \"12\": {\"12\": 104, \"20\": 10, \"51\": 2}, \"5\": {\"5\": 139, \"6\": 5, \"48\": 1, \"53\": 5, \"14\": 1, \"17\": 1}, \"29\": {\"29\": 107, \"20\": 5, \"56\": 6, \"19\": 5, \"57\": 4, \"55\": 9, \"13\": 2, \"3\": 2}, \"47\": {\"47\": 134, \"28\": 1, \"24\": 1, \"43\": 1, \"55\": 1, \"11\": 1, \"52\": 1}, \"10\": {\"10\": 72, \"22\": 8, \"24\": 9, \"49\": 1, \"0\": 1, \"43\": 3, \"28\": 1, \"11\": 1}, \"18\": {\"18\": 67, \"26\": 2, \"46\": 1, \"56\": 2}, \"9\": {\"9\": 123, \"8\": 3}, \"3\": {\"3\": 123, \"55\": 11, \"44\": 4, \"29\": 1, \"13\": 1}, \"52\": {\"52\": 128, \"47\": 1, \"43\": 2, \"28\": 1}, \"25\": {\"25\": 130, \"30\": 2, \"45\": 2, \"29\": 1, \"1\": 1}, \"19\": {\"45\": 2, \"19\": 130, \"42\": 2, \"1\": 9, \"56\": 2, \"20\": 4, \"57\": 5, \"25\": 2}, \"11\": {\"11\": 98, \"10\": 6, \"15\": 19, \"0\": 4, \"47\": 1, \"22\": 4, \"52\": 1, \"24\": 1, \"21\": 1, \"27\": 1}, \"7\": {\"7\": 27, \"30\": 1}, \"23\": {\"23\": 132, \"21\": 4}, \"44\": {\"44\": 106, \"35\": 2, \"16\": 2, \"55\": 5, \"57\": 2, \"15\": 4, \"3\": 8, \"36\": 2, \"0\": 1}, \"42\": {\"42\": 35, \"45\": 2, \"1\": 2, \"57\": 1}, \"54\": {\"54\": 104}, \"1\": {\"1\": 90, \"45\": 2, \"42\": 1, \"19\": 4, \"16\": 1, \"54\": 1, \"13\": 1}, \"46\": {\"46\": 96, \"4\": 10, \"8\": 1, \"50\": 10, \"48\": 7, \"40\": 2, \"17\": 1, \"6\": 1}, \"6\": {\"6\": 87, \"40\": 1, \"2\": 2, \"9\": 1, \"5\": 4, \"48\": 1}, \"43\": {\"43\": 137, \"24\": 6, \"27\": 1}, \"51\": {\"51\": 141, \"20\": 1}, \"22\": {\"22\": 120, \"24\": 8, \"27\": 2, \"21\": 2, \"39\": 2, \"10\": 2}, \"0\": {\"36\": 5, \"11\": 7, \"0\": 105, \"38\": 2, \"31\": 1, \"15\": 8}}, \"C_4\": {\"32\": {\"32\": 24}, \"2\": {\"2\": 31, \"24\": 2, \"1\": 1, \"38\": 1, \"56\": 1}, \"41\": {\"41\": 35, \"35\": 1}, \"11\": {\"11\": 74, \"37\": 1, \"46\": 4, \"15\": 16, \"14\": 1, \"10\": 3, \"16\": 3}, \"57\": {\"52\": 5, \"57\": 90, \"47\": 4, \"46\": 1}, \"6\": {\"20\": 11, \"19\": 4, \"6\": 30, \"51\": 4, \"40\": 11, \"3\": 8, \"53\": 7, \"31\": 1, \"34\": 1, \"44\": 4, \"26\": 3, \"17\": 2, \"9\": 1, \"4\": 8, \"25\": 5, \"48\": 1, \"27\": 1, \"55\": 4, \"30\": 1, \"36\": 1, \"50\": 2, \"47\": 1, \"45\": 1}, \"23\": {\"23\": 134, \"18\": 2}, \"52\": {\"23\": 4, \"52\": 93, \"47\": 11, \"41\": 1, \"57\": 6, \"5\": 1}, \"38\": {\"38\": 38, \"43\": 1, \"24\": 1}, \"50\": {\"50\": 95, \"9\": 9, \"30\": 5, \"8\": 4, \"53\": 2, \"55\": 1, \"20\": 3, \"51\": 2, \"6\": 3, \"27\": 2, \"21\": 3, \"17\": 2, \"4\": 1}, \"55\": {\"55\": 117, \"31\": 5, \"19\": 6, \"15\": 4, \"44\": 3, \"10\": 1, \"6\": 2, \"40\": 10, \"33\": 1, \"37\": 1, \"11\": 2}, \"46\": {\"11\": 14, \"15\": 14, \"46\": 92, \"52\": 3, \"47\": 10, \"14\": 1, \"57\": 8, \"0\": 2, \"1\": 3, \"56\": 2, \"49\": 1, \"37\": 1, \"32\": 1, \"35\": 2}, \"37\": {\"37\": 24}, \"20\": {\"55\": 2, \"20\": 109, \"50\": 4, \"6\": 3}, \"49\": {\"49\": 13, \"47\": 1, \"52\": 1, \"0\": 2, \"46\": 2, \"1\": 1}, \"45\": {\"45\": 82, \"12\": 7, \"8\": 1, \"21\": 4, \"51\": 2}, \"54\": {\"54\": 107, \"18\": 1}, \"3\": {\"3\": 77, \"33\": 3, \"50\": 2, \"4\": 6, \"25\": 9, \"6\": 2, \"53\": 3, \"40\": 2, \"55\": 1, \"36\": 2, \"48\": 12, \"44\": 2, \"18\": 1, \"19\": 1, \"20\": 1}, \"13\": {\"13\": 152}, \"18\": {\"54\": 1, \"18\": 105, \"15\": 1, \"3\": 1}, \"21\": {\"21\": 124, \"30\": 2}, \"43\": {\"43\": 143, \"0\": 1}, \"47\": {\"47\": 85, \"57\": 13, \"16\": 4, \"52\": 5, \"1\": 1, \"5\": 7, \"46\": 3, \"15\": 2}, \"4\": {\"4\": 117, \"51\": 3, \"44\": 2, \"40\": 1, \"6\": 2, \"9\": 4, \"25\": 2, \"53\": 1}, \"12\": {\"12\": 90, \"45\": 2}, \"9\": {\"9\": 109, \"53\": 1, \"4\": 3, \"17\": 3, \"50\": 4, \"51\": 2, \"44\": 1, \"40\": 1, \"27\": 3, \"8\": 1}, \"7\": {\"7\": 21, \"15\": 1, \"32\": 2}, \"56\": {\"56\": 99, \"22\": 9, \"10\": 4}, \"28\": {\"28\": 24, \"33\": 3, \"40\": 1, \"34\": 2, \"25\": 1, \"6\": 1}, \"44\": {\"44\": 105, \"33\": 1, \"40\": 7, \"19\": 12, \"6\": 2, \"51\": 1, \"25\": 2, \"55\": 1, \"3\": 1}, \"24\": {\"38\": 2, \"43\": 2, \"24\": 49, \"0\": 1, \"2\": 1, \"13\": 1}, \"33\": {\"33\": 36}, \"35\": {\"35\": 40}, \"51\": {\"51\": 135, \"20\": 3}, \"39\": {\"39\": 20}, \"36\": {\"36\": 88, \"48\": 2, \"53\": 1, \"44\": 1}, \"19\": {\"19\": 126, \"55\": 5, \"44\": 5, \"40\": 3, \"6\": 1}, \"0\": {\"0\": 62, \"31\": 3, \"43\": 7, \"57\": 1, \"29\": 2, \"15\": 2, \"7\": 1, \"5\": 2}, \"15\": {\"15\": 123, \"1\": 2, \"11\": 6, \"46\": 4, \"10\": 1}, \"29\": {\"29\": 122, \"34\": 1, \"11\": 1}, \"30\": {\"30\": 39, \"21\": 5}, \"1\": {\"1\": 39, \"46\": 1}, \"22\": {\"22\": 110, \"24\": 1, \"56\": 11, \"10\": 5, \"13\": 1}, \"40\": {\"55\": 4, \"40\": 118, \"19\": 3, \"25\": 4, \"44\": 5, \"6\": 4, \"33\": 4, \"4\": 3, \"48\": 1}, \"8\": {\"8\": 118, \"27\": 9, \"17\": 1}, \"53\": {\"53\": 122, \"3\": 2, \"6\": 1, \"48\": 3, \"50\": 1, \"4\": 8, \"9\": 1}, \"34\": {\"34\": 23, \"28\": 1}, \"10\": {\"10\": 107, \"13\": 1, \"22\": 10, \"56\": 3, \"43\": 1}, \"31\": {\"31\": 28}, \"17\": {\"17\": 73, \"27\": 4, \"9\": 2, \"51\": 1}, \"16\": {\"16\": 82, \"1\": 3, \"46\": 6, \"52\": 1, \"11\": 3, \"57\": 1}, \"42\": {\"42\": 32}, \"27\": {\"27\": 135, \"17\": 1, \"50\": 2, \"8\": 4}, \"14\": {\"38\": 1, \"22\": 1, \"14\": 8, \"0\": 1, \"46\": 1, \"43\": 2, \"31\": 1, \"11\": 1}, \"25\": {\"44\": 3, \"3\": 6, \"4\": 6, \"25\": 81, \"40\": 8, \"6\": 3, \"36\": 2, \"20\": 3, \"48\": 7, \"19\": 1, \"53\": 1, \"55\": 1}, \"48\": {\"48\": 114, \"36\": 1, \"3\": 4, \"53\": 4, \"25\": 7, \"27\": 2}, \"26\": {\"3\": 2, \"26\": 20, \"27\": 1, \"48\": 1}, \"5\": {\"5\": 65, \"39\": 2, \"57\": 10, \"16\": 2, \"47\": 9, \"52\": 6, \"34\": 1, \"23\": 2, \"35\": 1, \"29\": 3, \"15\": 4, \"37\": 1, \"11\": 1, \"55\": 1}}, \"C_3\": {\"14\": {\"7\": 2, \"14\": 18, \"24\": 4, \"43\": 4, \"56\": 2, \"31\": 1, \"55\": 4, \"10\": 1, \"11\": 4}, \"18\": {\"18\": 81, \"30\": 1, \"52\": 2}, \"30\": {\"30\": 119, \"3\": 1}, \"16\": {\"16\": 137, \"37\": 3, \"35\": 3, \"23\": 7, \"15\": 3, \"57\": 1, \"39\": 1, \"5\": 1}, \"1\": {\"1\": 91, \"34\": 3, \"57\": 5, \"47\": 1}, \"20\": {\"20\": 132}, \"7\": {\"7\": 36}, \"52\": {\"52\": 116, \"48\": 8, \"41\": 3, \"18\": 3}, \"9\": {\"9\": 132, \"3\": 2, \"21\": 1, \"30\": 1, \"46\": 2, \"20\": 1, \"40\": 1}, \"23\": {\"23\": 135, \"35\": 1, \"37\": 1, \"56\": 1, \"16\": 4, \"5\": 2}, \"55\": {\"55\": 137, \"7\": 1, \"14\": 2, \"5\": 2, \"46\": 3, \"1\": 3, \"47\": 3, \"13\": 2, \"44\": 1, \"52\": 1, \"29\": 3, \"11\": 1, \"57\": 2, \"48\": 1, \"22\": 2}, \"29\": {\"29\": 123, \"42\": 1, \"52\": 1, \"1\": 1}, \"56\": {\"56\": 113, \"24\": 15, \"10\": 1, \"7\": 1, \"13\": 1, \"22\": 3}, \"3\": {\"29\": 6, \"3\": 60, \"50\": 13, \"25\": 6, \"6\": 5, \"30\": 5, \"46\": 6, \"18\": 1, \"9\": 14, \"52\": 2, \"48\": 3, \"20\": 1, \"21\": 1, \"44\": 1}, \"42\": {\"1\": 1, \"42\": 27}, \"6\": {\"6\": 33, \"33\": 1, \"30\": 10, \"55\": 2, \"9\": 9, \"17\": 1, \"46\": 3, \"19\": 2, \"50\": 2, \"40\": 2, \"3\": 8, \"18\": 1, \"53\": 1, \"20\": 2, \"25\": 5, \"21\": 2, \"51\": 1, \"2\": 1, \"44\": 1, \"29\": 1}, \"5\": {\"5\": 82, \"26\": 3, \"15\": 9, \"34\": 3, \"47\": 7, \"16\": 2, \"1\": 2, \"57\": 5, \"28\": 1, \"11\": 1, \"23\": 1}, \"27\": {\"27\": 137, \"17\": 2, \"53\": 3, \"25\": 1, \"36\": 1}, \"47\": {\"47\": 56, \"15\": 13, \"5\": 6, \"34\": 3, \"57\": 3, \"1\": 6, \"11\": 2, \"41\": 1, \"0\": 1, \"55\": 1}, \"39\": {\"39\": 14, \"37\": 1, \"23\": 1}, \"34\": {\"34\": 24, \"28\": 1, \"5\": 3, \"1\": 2, \"26\": 1, \"47\": 1}, \"4\": {\"4\": 108, \"2\": 1, \"38\": 2, \"20\": 2, \"19\": 2, \"51\": 7, \"21\": 1, \"17\": 1, \"53\": 1, \"12\": 1}, \"24\": {\"24\": 97, \"10\": 3, \"56\": 4}, \"46\": {\"46\": 80, \"3\": 8, \"55\": 2, \"18\": 3, \"30\": 5, \"47\": 2, \"9\": 3, \"1\": 2, \"48\": 3, \"25\": 1, \"29\": 6, \"6\": 1, \"50\": 1, \"41\": 1}, \"50\": {\"46\": 5, \"50\": 74, \"3\": 9, \"17\": 3, \"48\": 1, \"29\": 2, \"27\": 8, \"44\": 1, \"21\": 5, \"20\": 1, \"53\": 2, \"30\": 4, \"40\": 2, \"9\": 4, \"6\": 1, \"25\": 4}, \"38\": {\"38\": 25, \"17\": 2, \"55\": 1}, \"54\": {\"54\": 100}, \"35\": {\"35\": 28}, \"2\": {\"2\": 30, \"17\": 1, \"40\": 1}, \"41\": {\"41\": 28}, \"57\": {\"57\": 115, \"23\": 1, \"1\": 1, \"16\": 1}, \"25\": {\"25\": 102, \"50\": 7, \"6\": 5, \"30\": 3, \"3\": 4, \"44\": 7, \"40\": 4, \"46\": 2, \"29\": 1, \"9\": 12, \"20\": 1, \"21\": 2}, \"48\": {\"48\": 88, \"18\": 2, \"3\": 7, \"52\": 13, \"11\": 1, \"57\": 1, \"33\": 2, \"30\": 2}, \"33\": {\"33\": 25, \"9\": 2, \"50\": 1}, \"45\": {\"45\": 51, \"4\": 2, \"12\": 4, \"51\": 2, \"19\": 1}, \"13\": {\"13\": 125, \"22\": 1}, \"36\": {\"36\": 99, \"8\": 1}, \"43\": {\"43\": 131, \"49\": 1}, \"28\": {\"28\": 25, \"26\": 2, \"15\": 1}, \"0\": {\"0\": 124}, \"12\": {\"12\": 77, \"51\": 7, \"45\": 4, \"4\": 3, \"2\": 1}, \"31\": {\"31\": 28}, \"40\": {\"40\": 86, \"20\": 2, \"25\": 3, \"46\": 4, \"19\": 10, \"21\": 6, \"4\": 2, \"51\": 1, \"38\": 2}, \"44\": {\"44\": 66, \"19\": 13, \"21\": 4, \"20\": 1, \"40\": 3, \"25\": 1}, \"32\": {\"32\": 28}, \"26\": {\"5\": 1, \"26\": 15, \"1\": 1, \"15\": 2, \"57\": 2, \"34\": 1, \"35\": 1, \"52\": 1}, \"8\": {\"8\": 115, \"32\": 1}, \"10\": {\"10\": 59, \"24\": 3, \"56\": 1, \"13\": 1}, \"15\": {\"15\": 130, \"31\": 1, \"22\": 1, \"47\": 1, \"5\": 6, \"16\": 1, \"56\": 1, \"11\": 1}, \"21\": {\"21\": 105, \"2\": 1, \"25\": 4, \"20\": 6, \"40\": 5, \"50\": 4, \"36\": 1, \"44\": 1, \"9\": 1}, \"37\": {\"37\": 28}, \"17\": {\"17\": 96, \"27\": 9, \"8\": 1, \"53\": 2}, \"51\": {\"51\": 123, \"20\": 1}, \"53\": {\"53\": 128, \"17\": 7, \"8\": 1, \"27\": 5, \"36\": 2, \"19\": 1}, \"19\": {\"19\": 126, \"9\": 1, \"44\": 2, \"46\": 2, \"40\": 2, \"20\": 1, \"48\": 1, \"6\": 1}, \"49\": {\"49\": 20}, \"11\": {\"11\": 121, \"34\": 1, \"47\": 3, \"15\": 11, \"1\": 1, \"5\": 1}, \"22\": {\"22\": 121, \"13\": 5, \"56\": 2, \"7\": 1, \"10\": 1}}}, \"per_domain_accuracy\": {\"O_8\": {\"accuracy\": 0.8721354166666667, \"source?\": true}, \"O_38\": {\"accuracy\": 0.915625, \"source?\": true}, \"O_26\": {\"accuracy\": 0.7377604166666667, \"source?\": true}, \"O_20\": {\"accuracy\": 0.88671875, \"source?\": true}, \"O_50\": {\"accuracy\": 0.9109375, \"source?\": true}, \"O_32\": {\"accuracy\": 0.8864583333333333, \"source?\": true}, \"O_44\": {\"accuracy\": 0.8171875, \"source?\": true}, \"O_14\": {\"accuracy\": 0.91484375, \"source?\": true}, \"C_2\": {\"accuracy\": 0.8776633522727273, \"source?\": false}, \"W_2\": {\"accuracy\": 0.6137079831932774, \"source?\": false}, \"W_4\": {\"accuracy\": 0.560570987654321, \"source?\": false}, \"W_1\": {\"accuracy\": 0.6466755319148936, \"source?\": false}, \"W_3\": {\"accuracy\": 0.6433094713656388, \"source?\": false}, \"C_5\": {\"accuracy\": 0.8342696629213483, \"source?\": false}, \"C_1\": {\"accuracy\": 0.9004120879120879, \"source?\": false}, \"C_4\": {\"accuracy\": 0.8521706586826348, \"source?\": false}, \"C_3\": {\"accuracy\": 0.8644005847953217, \"source?\": false}}}, \"history\": {\"epoch_indices\": [1, 2, 3, 4, 5, 6, 7], \"train_label_loss\": [0.7826177984209998, 0.49191532326734716, 0.3918334081752359, 0.32882629737668184, 0.2932381442580317, 0.26667872329126113, 0.24601883322244422], \"source_val_label_loss\": [0.7008370161056519, 0.4301629960536957, 0.3723483085632324, 0.3223635256290436, 0.3026376962661743, 0.29632437229156494, 0.2868799567222595], \"target_val_label_loss\": [2.8142573833465576, 3.165354013442993, 3.723856210708618, 4.169082164764404, 3.5097994804382324, 3.979215145111084, 4.564166069030762], \"source_val_acc_label\": [0.7753255208333333, 0.8497721354166666, 0.8677083333333333, 0.8852213541666667, 0.8912760416666666, 0.8945638020833333, 0.8955403645833333], \"target_val_acc_label\": [0.5885216015410016, 0.7277277105118327, 0.7359658778205834, 0.6960649422124381, 0.6936743258117777, 0.6663112272977435, 0.6513139790864062]}, \"dataset_metrics\": {\"source\": {\"train\": {\"n_unique_x\": 179200, \"n_unique_y\": 16, \"n_batch/episode\": 6720}, \"val\": {\"n_unique_x\": 38400, \"n_unique_y\": 16, \"n_batch/episode\": 960}, \"test\": {\"n_unique_x\": 38400, \"n_unique_y\": 16, \"n_batch/episode\": 960}}, \"target\": {\"train\": {\"n_unique_x\": 364101, \"n_unique_y\": 130, \"n_batch/episode\": 13150}, \"val\": {\"n_unique_x\": 77154, \"n_unique_y\": 130, \"n_batch/episode\": 1817}, \"test\": {\"n_unique_x\": 78411, \"n_unique_y\": 130, \"n_batch/episode\": 1853}}}}'"
      ]
     },
     "execution_count": 29,
     "metadata": {},
     "output_type": "execute_result"
    }
   ],
   "source": [
    "json.dumps(experiment)"
   ]
  }
 ],
 "metadata": {
  "celltoolbar": "Tags",
  "kernelspec": {
   "display_name": "Python 3 (ipykernel)",
   "language": "python",
   "name": "python3"
  },
  "language_info": {
   "codemirror_mode": {
    "name": "ipython",
    "version": 3
   },
   "file_extension": ".py",
   "mimetype": "text/x-python",
   "name": "python",
   "nbconvert_exporter": "python",
   "pygments_lexer": "ipython3",
   "version": "3.8.10"
  },
  "papermill": {
   "default_parameters": {},
   "duration": 1534.415801,
   "end_time": "2022-03-19T22:18:36.161379",
   "environment_variables": {},
   "exception": null,
   "input_path": "/mnt/wd500GB/CSC500/csc500-main/csc500-notebooks/templates/tl_ptn_template.ipynb",
   "output_path": "trial.ipynb",
   "parameters": {
    "parameters": {
     "BEST_MODEL_PATH": "./best_model.pth",
     "NUM_LOGS_PER_EPOCH": 10,
     "criteria_for_best": "target_accuracy",
     "dataset_seed": 154325,
     "datasets": [
      {
       "domain_prefix": "C_",
       "domains": [
        1,
        2,
        3,
        4,
        5
       ],
       "episode_transforms": [],
       "labels": [
        "1-10.",
        "1-11.",
        "1-15.",
        "1-16.",
        "1-17.",
        "1-18.",
        "1-19.",
        "10-4.",
        "10-7.",
        "11-1.",
        "11-14.",
        "11-17.",
        "11-20.",
        "11-7.",
        "13-20.",
        "13-8.",
        "14-10.",
        "14-11.",
        "14-14.",
        "14-7.",
        "15-1.",
        "15-20.",
        "16-1.",
        "16-16.",
        "17-10.",
        "17-11.",
        "17-2.",
        "19-1.",
        "19-16.",
        "19-19.",
        "19-20.",
        "19-3.",
        "2-10.",
        "2-11.",
        "2-17.",
        "2-18.",
        "2-20.",
        "2-3.",
        "2-4.",
        "2-5.",
        "2-6.",
        "2-7.",
        "2-8.",
        "3-13.",
        "3-18.",
        "3-3.",
        "4-1.",
        "4-10.",
        "4-11.",
        "4-19.",
        "5-5.",
        "6-15.",
        "7-10.",
        "7-14.",
        "8-18.",
        "8-20.",
        "8-3.",
        "8-8."
       ],
       "num_examples_per_domain_per_label": -1,
       "pickle_path": "/mnt/wd500GB/CSC500/csc500-main/datasets/cores.stratified_ds.2022A.pkl",
       "source_or_target_dataset": "target",
       "x_transforms": [
        "unit_power"
       ]
      },
      {
       "domain_prefix": "W_",
       "domains": [
        1,
        2,
        3,
        4
       ],
       "episode_transforms": [],
       "labels": [
        "1-10",
        "1-12",
        "1-14",
        "1-16",
        "1-18",
        "1-19",
        "1-8",
        "10-11",
        "10-17",
        "10-4",
        "10-7",
        "11-1",
        "11-10",
        "11-19",
        "11-20",
        "11-4",
        "11-7",
        "12-19",
        "12-20",
        "12-7",
        "13-14",
        "13-18",
        "13-19",
        "13-20",
        "13-3",
        "13-7",
        "14-10",
        "14-11",
        "14-12",
        "14-13",
        "14-14",
        "14-19",
        "14-20",
        "14-7",
        "14-8",
        "14-9",
        "15-1",
        "15-19",
        "15-6",
        "16-1",
        "16-16",
        "16-19",
        "16-20",
        "17-10",
        "17-11",
        "18-1",
        "18-10",
        "18-11",
        "18-12",
        "18-13",
        "18-14",
        "18-15",
        "18-16",
        "18-17",
        "18-19",
        "18-2",
        "18-20",
        "18-4",
        "18-5",
        "18-7",
        "18-8",
        "18-9",
        "19-1",
        "19-10",
        "19-11",
        "19-12",
        "19-13",
        "19-14",
        "19-15",
        "19-19",
        "19-2",
        "19-20",
        "19-3",
        "19-4",
        "19-6",
        "19-7",
        "19-8",
        "19-9",
        "2-1",
        "2-13",
        "2-15",
        "2-3",
        "2-4",
        "2-5",
        "2-6",
        "2-7",
        "2-8",
        "20-1",
        "20-12",
        "20-14",
        "20-15",
        "20-16",
        "20-18",
        "20-19",
        "20-20",
        "20-3",
        "20-4",
        "20-5",
        "20-7",
        "20-8",
        "3-1",
        "3-13",
        "3-18",
        "3-2",
        "3-8",
        "4-1",
        "4-10",
        "4-11",
        "5-1",
        "5-5",
        "6-1",
        "6-15",
        "6-6",
        "7-10",
        "7-11",
        "7-12",
        "7-13",
        "7-14",
        "7-7",
        "7-8",
        "7-9",
        "8-1",
        "8-13",
        "8-14",
        "8-18",
        "8-20",
        "8-3",
        "8-8",
        "9-1",
        "9-7"
       ],
       "num_examples_per_domain_per_label": -1,
       "pickle_path": "/mnt/wd500GB/CSC500/csc500-main/datasets/wisig.node3-19.stratified_ds.2022A.pkl",
       "source_or_target_dataset": "target",
       "x_transforms": [
        "unit_power"
       ]
      },
      {
       "domain_prefix": "O_",
       "domains": [
        32,
        38,
        8,
        44,
        14,
        50,
        20,
        26
       ],
       "episode_transforms": [],
       "labels": [
        "3123D52",
        "3123D65",
        "3123D79",
        "3123D80",
        "3123D54",
        "3123D70",
        "3123D7B",
        "3123D89",
        "3123D58",
        "3123D76",
        "3123D7D",
        "3123EFE",
        "3123D64",
        "3123D78",
        "3123D7E",
        "3124E4A"
       ],
       "num_examples_per_domain_per_label": 2000,
       "pickle_path": "/mnt/wd500GB/CSC500/csc500-main/datasets/oracle.Run1_framed_2000Examples_stratified_ds.2022A.pkl",
       "source_or_target_dataset": "source",
       "x_transforms": [
        "unit_power"
       ]
      }
     ],
     "device": "cuda",
     "experiment_name": "tl_2v2:oracle.run1.framed -> cores+wisig",
     "lr": 0.0001,
     "n_epoch": 50,
     "n_query": 2,
     "n_shot": 3,
     "n_way": 16,
     "patience": 3,
     "seed": 154325,
     "test_k_factor": 2,
     "torch_default_dtype": "torch.float32",
     "train_k_factor": 3,
     "val_k_factor": 2,
     "x_net": [
      {
       "class": "nnReshape",
       "kargs": {
        "shape": [
         -1,
         1,
         2,
         256
        ]
       }
      },
      {
       "class": "Conv2d",
       "kargs": {
        "bias": false,
        "in_channels": 1,
        "kernel_size": [
         1,
         7
        ],
        "out_channels": 256,
        "padding": [
         0,
         3
        ]
       }
      },
      {
       "class": "ReLU",
       "kargs": {
        "inplace": true
       }
      },
      {
       "class": "BatchNorm2d",
       "kargs": {
        "num_features": 256
       }
      },
      {
       "class": "Conv2d",
       "kargs": {
        "bias": true,
        "in_channels": 256,
        "kernel_size": [
         2,
         7
        ],
        "out_channels": 80,
        "padding": [
         0,
         3
        ]
       }
      },
      {
       "class": "ReLU",
       "kargs": {
        "inplace": true
       }
      },
      {
       "class": "BatchNorm2d",
       "kargs": {
        "num_features": 80
       }
      },
      {
       "class": "Flatten",
       "kargs": {}
      },
      {
       "class": "Linear",
       "kargs": {
        "in_features": 20480,
        "out_features": 256
       }
      },
      {
       "class": "ReLU",
       "kargs": {
        "inplace": true
       }
      },
      {
       "class": "BatchNorm1d",
       "kargs": {
        "num_features": 256
       }
      },
      {
       "class": "Linear",
       "kargs": {
        "in_features": 256,
        "out_features": 256
       }
      }
     ]
    }
   },
   "start_time": "2022-03-19T21:53:01.745578",
   "version": "2.3.4"
  }
 },
 "nbformat": 4,
 "nbformat_minor": 5
}