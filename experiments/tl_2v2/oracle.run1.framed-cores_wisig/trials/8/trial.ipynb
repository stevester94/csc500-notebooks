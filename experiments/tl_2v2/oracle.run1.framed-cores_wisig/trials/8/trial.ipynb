{
 "cells": [
  {
   "cell_type": "markdown",
   "id": "9fea5f46",
   "metadata": {
    "papermill": {
     "duration": 0.013269,
     "end_time": "2022-03-19T22:47:21.744425",
     "exception": false,
     "start_time": "2022-03-19T22:47:21.731156",
     "status": "completed"
    },
    "tags": []
   },
   "source": [
    "# Transfer Learning Template"
   ]
  },
  {
   "cell_type": "code",
   "execution_count": 1,
   "id": "0902182a",
   "metadata": {
    "execution": {
     "iopub.execute_input": "2022-03-19T22:47:21.782919Z",
     "iopub.status.busy": "2022-03-19T22:47:21.776307Z",
     "iopub.status.idle": "2022-03-19T22:47:22.693789Z",
     "shell.execute_reply": "2022-03-19T22:47:22.693500Z"
    },
    "papermill": {
     "duration": 0.936657,
     "end_time": "2022-03-19T22:47:22.693860",
     "exception": false,
     "start_time": "2022-03-19T22:47:21.757203",
     "status": "completed"
    },
    "tags": []
   },
   "outputs": [],
   "source": [
    "%load_ext autoreload\n",
    "%autoreload 2\n",
    "%matplotlib inline\n",
    "\n",
    "    \n",
    "import os, json, sys, time, random\n",
    "import numpy as np\n",
    "import torch\n",
    "from torch.optim import Adam\n",
    "from  easydict import EasyDict\n",
    "import matplotlib.pyplot as plt\n",
    "\n",
    "from steves_models.steves_ptn import Steves_Prototypical_Network\n",
    "\n",
    "from steves_utils.lazy_iterable_wrapper import Lazy_Iterable_Wrapper\n",
    "from steves_utils.iterable_aggregator import Iterable_Aggregator\n",
    "from steves_utils.ptn_train_eval_test_jig import  PTN_Train_Eval_Test_Jig\n",
    "from steves_utils.torch_sequential_builder import build_sequential\n",
    "from steves_utils.torch_utils import get_dataset_metrics, ptn_confusion_by_domain_over_dataloader\n",
    "from steves_utils.utils_v2 import (per_domain_accuracy_from_confusion, get_datasets_base_path)\n",
    "from steves_utils.PTN.utils import independent_accuracy_assesment\n",
    "\n",
    "from torch.utils.data import DataLoader\n",
    "\n",
    "from steves_utils.stratified_dataset.episodic_accessor import Episodic_Accessor_Factory\n",
    "\n",
    "from steves_utils.ptn_do_report import (\n",
    "    get_loss_curve,\n",
    "    get_results_table,\n",
    "    get_parameters_table,\n",
    "    get_domain_accuracies,\n",
    ")\n",
    "\n",
    "from steves_utils.transforms import get_chained_transform"
   ]
  },
  {
   "cell_type": "markdown",
   "id": "41c840b4",
   "metadata": {
    "papermill": {
     "duration": 0.012418,
     "end_time": "2022-03-19T22:47:22.719168",
     "exception": false,
     "start_time": "2022-03-19T22:47:22.706750",
     "status": "completed"
    },
    "tags": []
   },
   "source": [
    "# Allowed Parameters\n",
    "These are allowed parameters, not defaults\n",
    "Each of these values need to be present in the injected parameters (the notebook will raise an exception if they are not present)\n",
    "\n",
    "Papermill uses the cell tag \"parameters\" to inject the real parameters below this cell.\n",
    "Enable tags to see what I mean"
   ]
  },
  {
   "cell_type": "code",
   "execution_count": 2,
   "id": "fd44eb83",
   "metadata": {
    "execution": {
     "iopub.execute_input": "2022-03-19T22:47:22.751659Z",
     "iopub.status.busy": "2022-03-19T22:47:22.746741Z",
     "iopub.status.idle": "2022-03-19T22:47:22.761350Z",
     "shell.execute_reply": "2022-03-19T22:47:22.760938Z"
    },
    "papermill": {
     "duration": 0.029841,
     "end_time": "2022-03-19T22:47:22.761444",
     "exception": false,
     "start_time": "2022-03-19T22:47:22.731603",
     "status": "completed"
    },
    "tags": []
   },
   "outputs": [],
   "source": [
    "required_parameters = {\n",
    "    \"experiment_name\",\n",
    "    \"lr\",\n",
    "    \"device\",\n",
    "    \"seed\",\n",
    "    \"dataset_seed\",\n",
    "    \"n_shot\",\n",
    "    \"n_query\",\n",
    "    \"n_way\",\n",
    "    \"train_k_factor\",\n",
    "    \"val_k_factor\",\n",
    "    \"test_k_factor\",\n",
    "    \"n_epoch\",\n",
    "    \"patience\",\n",
    "    \"criteria_for_best\",\n",
    "    \"x_net\",\n",
    "    \"datasets\",\n",
    "    \"torch_default_dtype\",\n",
    "    \"NUM_LOGS_PER_EPOCH\",\n",
    "    \"BEST_MODEL_PATH\",\n",
    "    \"x_shape\",\n",
    "}"
   ]
  },
  {
   "cell_type": "code",
   "execution_count": 3,
   "id": "fa3f0049",
   "metadata": {
    "execution": {
     "iopub.execute_input": "2022-03-19T22:47:22.800797Z",
     "iopub.status.busy": "2022-03-19T22:47:22.798748Z",
     "iopub.status.idle": "2022-03-19T22:47:22.812319Z",
     "shell.execute_reply": "2022-03-19T22:47:22.811888Z"
    },
    "papermill": {
     "duration": 0.033345,
     "end_time": "2022-03-19T22:47:22.812408",
     "exception": false,
     "start_time": "2022-03-19T22:47:22.779063",
     "status": "completed"
    },
    "tags": [
     "parameters"
    ]
   },
   "outputs": [],
   "source": [
    "from steves_utils.CORES.utils import (\n",
    "    ALL_NODES,\n",
    "    ALL_NODES_MINIMUM_1000_EXAMPLES,\n",
    "    ALL_DAYS\n",
    ")\n",
    "\n",
    "from steves_utils.ORACLE.utils_v2 import (\n",
    "    ALL_DISTANCES_FEET_NARROWED,\n",
    "    ALL_RUNS,\n",
    "    ALL_SERIAL_NUMBERS,\n",
    ")\n",
    "\n",
    "standalone_parameters = {}\n",
    "standalone_parameters[\"experiment_name\"] = \"STANDALONE PTN\"\n",
    "standalone_parameters[\"lr\"] = 0.001\n",
    "standalone_parameters[\"device\"] = \"cuda\"\n",
    "\n",
    "standalone_parameters[\"seed\"] = 1337\n",
    "standalone_parameters[\"dataset_seed\"] = 1337\n",
    "\n",
    "standalone_parameters[\"n_way\"] = 8\n",
    "standalone_parameters[\"n_shot\"] = 3\n",
    "standalone_parameters[\"n_query\"]  = 2\n",
    "standalone_parameters[\"train_k_factor\"] = 1\n",
    "standalone_parameters[\"val_k_factor\"] = 2\n",
    "standalone_parameters[\"test_k_factor\"] = 2\n",
    "\n",
    "\n",
    "standalone_parameters[\"n_epoch\"] = 50\n",
    "\n",
    "standalone_parameters[\"patience\"] = 10\n",
    "standalone_parameters[\"criteria_for_best\"] = \"source_loss\"\n",
    "\n",
    "standalone_parameters[\"datasets\"] = [\n",
    "    {\n",
    "        \"labels\": ALL_SERIAL_NUMBERS,\n",
    "        \"domains\": ALL_DISTANCES_FEET_NARROWED,\n",
    "        \"num_examples_per_domain_per_label\": 100,\n",
    "        \"pickle_path\": os.path.join(get_datasets_base_path(), \"oracle.Run1_framed_2000Examples_stratified_ds.2022A.pkl\"),\n",
    "        \"source_or_target_dataset\": \"source\",\n",
    "        \"x_transforms\": [\"unit_mag\", \"minus_two\"],\n",
    "        \"episode_transforms\": [],\n",
    "        \"domain_prefix\": \"ORACLE_\"\n",
    "    },\n",
    "    {\n",
    "        \"labels\": ALL_NODES,\n",
    "        \"domains\": ALL_DAYS,\n",
    "        \"num_examples_per_domain_per_label\": 100,\n",
    "        \"pickle_path\": os.path.join(get_datasets_base_path(), \"cores.stratified_ds.2022A.pkl\"),\n",
    "        \"source_or_target_dataset\": \"target\",\n",
    "        \"x_transforms\": [\"unit_power\", \"times_zero\"],\n",
    "        \"episode_transforms\": [],\n",
    "        \"domain_prefix\": \"CORES_\"\n",
    "    }   \n",
    "]\n",
    "\n",
    "standalone_parameters[\"torch_default_dtype\"] = \"torch.float32\" \n",
    "\n",
    "\n",
    "\n",
    "standalone_parameters[\"x_net\"] =     [\n",
    "    {\"class\": \"nnReshape\", \"kargs\": {\"shape\":[-1, 1, 2, 256]}},\n",
    "    {\"class\": \"Conv2d\", \"kargs\": { \"in_channels\":1, \"out_channels\":256, \"kernel_size\":(1,7), \"bias\":False, \"padding\":(0,3), },},\n",
    "    {\"class\": \"ReLU\", \"kargs\": {\"inplace\": True}},\n",
    "    {\"class\": \"BatchNorm2d\", \"kargs\": {\"num_features\":256}},\n",
    "\n",
    "    {\"class\": \"Conv2d\", \"kargs\": { \"in_channels\":256, \"out_channels\":80, \"kernel_size\":(2,7), \"bias\":True, \"padding\":(0,3), },},\n",
    "    {\"class\": \"ReLU\", \"kargs\": {\"inplace\": True}},\n",
    "    {\"class\": \"BatchNorm2d\", \"kargs\": {\"num_features\":80}},\n",
    "    {\"class\": \"Flatten\", \"kargs\": {}},\n",
    "\n",
    "    {\"class\": \"Linear\", \"kargs\": {\"in_features\": 80*256, \"out_features\": 256}}, # 80 units per IQ pair\n",
    "    {\"class\": \"ReLU\", \"kargs\": {\"inplace\": True}},\n",
    "    {\"class\": \"BatchNorm1d\", \"kargs\": {\"num_features\":256}},\n",
    "\n",
    "    {\"class\": \"Linear\", \"kargs\": {\"in_features\": 256, \"out_features\": 256}},\n",
    "]\n",
    "\n",
    "# Parameters relevant to results\n",
    "# These parameters will basically never need to change\n",
    "standalone_parameters[\"NUM_LOGS_PER_EPOCH\"] = 10\n",
    "standalone_parameters[\"BEST_MODEL_PATH\"] = \"./best_model.pth\"\n",
    "\n",
    "\n",
    "\n",
    "\n"
   ]
  },
  {
   "cell_type": "code",
   "execution_count": 4,
   "id": "9ccb4b1e",
   "metadata": {
    "execution": {
     "iopub.execute_input": "2022-03-19T22:47:22.855569Z",
     "iopub.status.busy": "2022-03-19T22:47:22.844539Z",
     "iopub.status.idle": "2022-03-19T22:47:22.868504Z",
     "shell.execute_reply": "2022-03-19T22:47:22.868112Z"
    },
    "papermill": {
     "duration": 0.03818,
     "end_time": "2022-03-19T22:47:22.868592",
     "exception": false,
     "start_time": "2022-03-19T22:47:22.830412",
     "status": "completed"
    },
    "tags": [
     "injected-parameters"
    ]
   },
   "outputs": [],
   "source": [
    "# Parameters\n",
    "parameters = {\n",
    "    \"experiment_name\": \"tl_2v2:oracle.run1.framed -> cores+wisig\",\n",
    "    \"device\": \"cuda\",\n",
    "    \"lr\": 0.0001,\n",
    "    \"n_shot\": 3,\n",
    "    \"n_query\": 2,\n",
    "    \"train_k_factor\": 3,\n",
    "    \"val_k_factor\": 2,\n",
    "    \"test_k_factor\": 2,\n",
    "    \"torch_default_dtype\": \"torch.float32\",\n",
    "    \"n_epoch\": 50,\n",
    "    \"patience\": 3,\n",
    "    \"criteria_for_best\": \"target_accuracy\",\n",
    "    \"x_net\": [\n",
    "        {\"class\": \"nnReshape\", \"kargs\": {\"shape\": [-1, 1, 2, 256]}},\n",
    "        {\n",
    "            \"class\": \"Conv2d\",\n",
    "            \"kargs\": {\n",
    "                \"in_channels\": 1,\n",
    "                \"out_channels\": 256,\n",
    "                \"kernel_size\": [1, 7],\n",
    "                \"bias\": False,\n",
    "                \"padding\": [0, 3],\n",
    "            },\n",
    "        },\n",
    "        {\"class\": \"ReLU\", \"kargs\": {\"inplace\": True}},\n",
    "        {\"class\": \"BatchNorm2d\", \"kargs\": {\"num_features\": 256}},\n",
    "        {\n",
    "            \"class\": \"Conv2d\",\n",
    "            \"kargs\": {\n",
    "                \"in_channels\": 256,\n",
    "                \"out_channels\": 80,\n",
    "                \"kernel_size\": [2, 7],\n",
    "                \"bias\": True,\n",
    "                \"padding\": [0, 3],\n",
    "            },\n",
    "        },\n",
    "        {\"class\": \"ReLU\", \"kargs\": {\"inplace\": True}},\n",
    "        {\"class\": \"BatchNorm2d\", \"kargs\": {\"num_features\": 80}},\n",
    "        {\"class\": \"Flatten\", \"kargs\": {}},\n",
    "        {\"class\": \"Linear\", \"kargs\": {\"in_features\": 20480, \"out_features\": 256}},\n",
    "        {\"class\": \"ReLU\", \"kargs\": {\"inplace\": True}},\n",
    "        {\"class\": \"BatchNorm1d\", \"kargs\": {\"num_features\": 256}},\n",
    "        {\"class\": \"Linear\", \"kargs\": {\"in_features\": 256, \"out_features\": 256}},\n",
    "    ],\n",
    "    \"NUM_LOGS_PER_EPOCH\": 10,\n",
    "    \"BEST_MODEL_PATH\": \"./best_model.pth\",\n",
    "    \"n_way\": 16,\n",
    "    \"datasets\": [\n",
    "        {\n",
    "            \"labels\": [\n",
    "                \"1-10.\",\n",
    "                \"1-11.\",\n",
    "                \"1-15.\",\n",
    "                \"1-16.\",\n",
    "                \"1-17.\",\n",
    "                \"1-18.\",\n",
    "                \"1-19.\",\n",
    "                \"10-4.\",\n",
    "                \"10-7.\",\n",
    "                \"11-1.\",\n",
    "                \"11-14.\",\n",
    "                \"11-17.\",\n",
    "                \"11-20.\",\n",
    "                \"11-7.\",\n",
    "                \"13-20.\",\n",
    "                \"13-8.\",\n",
    "                \"14-10.\",\n",
    "                \"14-11.\",\n",
    "                \"14-14.\",\n",
    "                \"14-7.\",\n",
    "                \"15-1.\",\n",
    "                \"15-20.\",\n",
    "                \"16-1.\",\n",
    "                \"16-16.\",\n",
    "                \"17-10.\",\n",
    "                \"17-11.\",\n",
    "                \"17-2.\",\n",
    "                \"19-1.\",\n",
    "                \"19-16.\",\n",
    "                \"19-19.\",\n",
    "                \"19-20.\",\n",
    "                \"19-3.\",\n",
    "                \"2-10.\",\n",
    "                \"2-11.\",\n",
    "                \"2-17.\",\n",
    "                \"2-18.\",\n",
    "                \"2-20.\",\n",
    "                \"2-3.\",\n",
    "                \"2-4.\",\n",
    "                \"2-5.\",\n",
    "                \"2-6.\",\n",
    "                \"2-7.\",\n",
    "                \"2-8.\",\n",
    "                \"3-13.\",\n",
    "                \"3-18.\",\n",
    "                \"3-3.\",\n",
    "                \"4-1.\",\n",
    "                \"4-10.\",\n",
    "                \"4-11.\",\n",
    "                \"4-19.\",\n",
    "                \"5-5.\",\n",
    "                \"6-15.\",\n",
    "                \"7-10.\",\n",
    "                \"7-14.\",\n",
    "                \"8-18.\",\n",
    "                \"8-20.\",\n",
    "                \"8-3.\",\n",
    "                \"8-8.\",\n",
    "            ],\n",
    "            \"domains\": [1, 2, 3, 4, 5],\n",
    "            \"num_examples_per_domain_per_label\": -1,\n",
    "            \"pickle_path\": \"/mnt/wd500GB/CSC500/csc500-main/datasets/cores.stratified_ds.2022A.pkl\",\n",
    "            \"source_or_target_dataset\": \"target\",\n",
    "            \"x_transforms\": [],\n",
    "            \"episode_transforms\": [],\n",
    "            \"domain_prefix\": \"C_\",\n",
    "        },\n",
    "        {\n",
    "            \"labels\": [\n",
    "                \"1-10\",\n",
    "                \"1-12\",\n",
    "                \"1-14\",\n",
    "                \"1-16\",\n",
    "                \"1-18\",\n",
    "                \"1-19\",\n",
    "                \"1-8\",\n",
    "                \"10-11\",\n",
    "                \"10-17\",\n",
    "                \"10-4\",\n",
    "                \"10-7\",\n",
    "                \"11-1\",\n",
    "                \"11-10\",\n",
    "                \"11-19\",\n",
    "                \"11-20\",\n",
    "                \"11-4\",\n",
    "                \"11-7\",\n",
    "                \"12-19\",\n",
    "                \"12-20\",\n",
    "                \"12-7\",\n",
    "                \"13-14\",\n",
    "                \"13-18\",\n",
    "                \"13-19\",\n",
    "                \"13-20\",\n",
    "                \"13-3\",\n",
    "                \"13-7\",\n",
    "                \"14-10\",\n",
    "                \"14-11\",\n",
    "                \"14-12\",\n",
    "                \"14-13\",\n",
    "                \"14-14\",\n",
    "                \"14-19\",\n",
    "                \"14-20\",\n",
    "                \"14-7\",\n",
    "                \"14-8\",\n",
    "                \"14-9\",\n",
    "                \"15-1\",\n",
    "                \"15-19\",\n",
    "                \"15-6\",\n",
    "                \"16-1\",\n",
    "                \"16-16\",\n",
    "                \"16-19\",\n",
    "                \"16-20\",\n",
    "                \"17-10\",\n",
    "                \"17-11\",\n",
    "                \"18-1\",\n",
    "                \"18-10\",\n",
    "                \"18-11\",\n",
    "                \"18-12\",\n",
    "                \"18-13\",\n",
    "                \"18-14\",\n",
    "                \"18-15\",\n",
    "                \"18-16\",\n",
    "                \"18-17\",\n",
    "                \"18-19\",\n",
    "                \"18-2\",\n",
    "                \"18-20\",\n",
    "                \"18-4\",\n",
    "                \"18-5\",\n",
    "                \"18-7\",\n",
    "                \"18-8\",\n",
    "                \"18-9\",\n",
    "                \"19-1\",\n",
    "                \"19-10\",\n",
    "                \"19-11\",\n",
    "                \"19-12\",\n",
    "                \"19-13\",\n",
    "                \"19-14\",\n",
    "                \"19-15\",\n",
    "                \"19-19\",\n",
    "                \"19-2\",\n",
    "                \"19-20\",\n",
    "                \"19-3\",\n",
    "                \"19-4\",\n",
    "                \"19-6\",\n",
    "                \"19-7\",\n",
    "                \"19-8\",\n",
    "                \"19-9\",\n",
    "                \"2-1\",\n",
    "                \"2-13\",\n",
    "                \"2-15\",\n",
    "                \"2-3\",\n",
    "                \"2-4\",\n",
    "                \"2-5\",\n",
    "                \"2-6\",\n",
    "                \"2-7\",\n",
    "                \"2-8\",\n",
    "                \"20-1\",\n",
    "                \"20-12\",\n",
    "                \"20-14\",\n",
    "                \"20-15\",\n",
    "                \"20-16\",\n",
    "                \"20-18\",\n",
    "                \"20-19\",\n",
    "                \"20-20\",\n",
    "                \"20-3\",\n",
    "                \"20-4\",\n",
    "                \"20-5\",\n",
    "                \"20-7\",\n",
    "                \"20-8\",\n",
    "                \"3-1\",\n",
    "                \"3-13\",\n",
    "                \"3-18\",\n",
    "                \"3-2\",\n",
    "                \"3-8\",\n",
    "                \"4-1\",\n",
    "                \"4-10\",\n",
    "                \"4-11\",\n",
    "                \"5-1\",\n",
    "                \"5-5\",\n",
    "                \"6-1\",\n",
    "                \"6-15\",\n",
    "                \"6-6\",\n",
    "                \"7-10\",\n",
    "                \"7-11\",\n",
    "                \"7-12\",\n",
    "                \"7-13\",\n",
    "                \"7-14\",\n",
    "                \"7-7\",\n",
    "                \"7-8\",\n",
    "                \"7-9\",\n",
    "                \"8-1\",\n",
    "                \"8-13\",\n",
    "                \"8-14\",\n",
    "                \"8-18\",\n",
    "                \"8-20\",\n",
    "                \"8-3\",\n",
    "                \"8-8\",\n",
    "                \"9-1\",\n",
    "                \"9-7\",\n",
    "            ],\n",
    "            \"domains\": [1, 2, 3, 4],\n",
    "            \"num_examples_per_domain_per_label\": -1,\n",
    "            \"pickle_path\": \"/mnt/wd500GB/CSC500/csc500-main/datasets/wisig.node3-19.stratified_ds.2022A.pkl\",\n",
    "            \"source_or_target_dataset\": \"target\",\n",
    "            \"x_transforms\": [],\n",
    "            \"episode_transforms\": [],\n",
    "            \"domain_prefix\": \"W_\",\n",
    "        },\n",
    "        {\n",
    "            \"labels\": [\n",
    "                \"3123D52\",\n",
    "                \"3123D65\",\n",
    "                \"3123D79\",\n",
    "                \"3123D80\",\n",
    "                \"3123D54\",\n",
    "                \"3123D70\",\n",
    "                \"3123D7B\",\n",
    "                \"3123D89\",\n",
    "                \"3123D58\",\n",
    "                \"3123D76\",\n",
    "                \"3123D7D\",\n",
    "                \"3123EFE\",\n",
    "                \"3123D64\",\n",
    "                \"3123D78\",\n",
    "                \"3123D7E\",\n",
    "                \"3124E4A\",\n",
    "            ],\n",
    "            \"domains\": [32, 38, 8, 44, 14, 50, 20, 26],\n",
    "            \"num_examples_per_domain_per_label\": 2000,\n",
    "            \"pickle_path\": \"/mnt/wd500GB/CSC500/csc500-main/datasets/oracle.Run1_framed_2000Examples_stratified_ds.2022A.pkl\",\n",
    "            \"source_or_target_dataset\": \"source\",\n",
    "            \"x_transforms\": [],\n",
    "            \"episode_transforms\": [],\n",
    "            \"domain_prefix\": \"O_\",\n",
    "        },\n",
    "    ],\n",
    "    \"seed\": 154325,\n",
    "    \"dataset_seed\": 154325,\n",
    "}\n"
   ]
  },
  {
   "cell_type": "code",
   "execution_count": 5,
   "id": "8fa1cc33",
   "metadata": {
    "execution": {
     "iopub.execute_input": "2022-03-19T22:47:22.908913Z",
     "iopub.status.busy": "2022-03-19T22:47:22.908665Z",
     "iopub.status.idle": "2022-03-19T22:47:22.916317Z",
     "shell.execute_reply": "2022-03-19T22:47:22.916709Z"
    },
    "papermill": {
     "duration": 0.030306,
     "end_time": "2022-03-19T22:47:22.916830",
     "exception": false,
     "start_time": "2022-03-19T22:47:22.886524",
     "status": "completed"
    },
    "tags": []
   },
   "outputs": [],
   "source": [
    "# Set this to True if you want to run this template directly\n",
    "STANDALONE = False\n",
    "if STANDALONE:\n",
    "    print(\"parameters not injected, running with standalone_parameters\")\n",
    "    parameters = standalone_parameters\n",
    "\n",
    "if not 'parameters' in locals() and not 'parameters' in globals():\n",
    "    raise Exception(\"Parameter injection failed\")\n",
    "\n",
    "#Use an easy dict for all the parameters\n",
    "p = EasyDict(parameters)\n",
    "\n",
    "if \"x_shape\" not in p:\n",
    "    p.x_shape = [2,256] # Default to this if we dont supply x_shape\n",
    "\n",
    "\n",
    "supplied_keys = set(p.keys())\n",
    "\n",
    "if  supplied_keys != required_parameters:\n",
    "    print(\"Parameters are incorrect\")\n",
    "    if len(supplied_keys - required_parameters)>0: print(\"Shouldn't have:\", str(supplied_keys - required_parameters))\n",
    "    if len(required_parameters - supplied_keys)>0: print(\"Need to have:\", str(required_parameters - supplied_keys))\n",
    "    raise RuntimeError(\"Parameters are incorrect\")"
   ]
  },
  {
   "cell_type": "code",
   "execution_count": 6,
   "id": "3a028d58",
   "metadata": {
    "execution": {
     "iopub.execute_input": "2022-03-19T22:47:22.957246Z",
     "iopub.status.busy": "2022-03-19T22:47:22.948395Z",
     "iopub.status.idle": "2022-03-19T22:47:22.963049Z",
     "shell.execute_reply": "2022-03-19T22:47:22.963475Z"
    },
    "papermill": {
     "duration": 0.030089,
     "end_time": "2022-03-19T22:47:22.963597",
     "exception": false,
     "start_time": "2022-03-19T22:47:22.933508",
     "status": "completed"
    },
    "tags": []
   },
   "outputs": [],
   "source": [
    "###################################\n",
    "# Set the RNGs and make it all deterministic\n",
    "###################################\n",
    "np.random.seed(p.seed)\n",
    "random.seed(p.seed)\n",
    "torch.manual_seed(p.seed)\n",
    "\n",
    "torch.use_deterministic_algorithms(True) "
   ]
  },
  {
   "cell_type": "code",
   "execution_count": 7,
   "id": "b691acf6",
   "metadata": {
    "execution": {
     "iopub.execute_input": "2022-03-19T22:47:23.008165Z",
     "iopub.status.busy": "2022-03-19T22:47:23.007925Z",
     "iopub.status.idle": "2022-03-19T22:47:23.009747Z",
     "shell.execute_reply": "2022-03-19T22:47:23.009344Z"
    },
    "papermill": {
     "duration": 0.029541,
     "end_time": "2022-03-19T22:47:23.009839",
     "exception": false,
     "start_time": "2022-03-19T22:47:22.980298",
     "status": "completed"
    },
    "tags": []
   },
   "outputs": [],
   "source": [
    "###########################################\n",
    "# The stratified datasets honor this\n",
    "###########################################\n",
    "torch.set_default_dtype(eval(p.torch_default_dtype))"
   ]
  },
  {
   "cell_type": "code",
   "execution_count": 8,
   "id": "b5fba671",
   "metadata": {
    "execution": {
     "iopub.execute_input": "2022-03-19T22:47:23.048227Z",
     "iopub.status.busy": "2022-03-19T22:47:23.042326Z",
     "iopub.status.idle": "2022-03-19T22:47:23.082207Z",
     "shell.execute_reply": "2022-03-19T22:47:23.081770Z"
    },
    "papermill": {
     "duration": 0.054271,
     "end_time": "2022-03-19T22:47:23.082295",
     "exception": false,
     "start_time": "2022-03-19T22:47:23.028024",
     "status": "completed"
    },
    "tags": []
   },
   "outputs": [],
   "source": [
    "###################################\n",
    "# Build the network(s)\n",
    "# Note: It's critical to do this AFTER setting the RNG\n",
    "###################################\n",
    "x_net = build_sequential(p.x_net)"
   ]
  },
  {
   "cell_type": "code",
   "execution_count": 9,
   "id": "5d7e61cc",
   "metadata": {
    "execution": {
     "iopub.execute_input": "2022-03-19T22:47:23.122733Z",
     "iopub.status.busy": "2022-03-19T22:47:23.113784Z",
     "iopub.status.idle": "2022-03-19T22:47:23.129731Z",
     "shell.execute_reply": "2022-03-19T22:47:23.129066Z"
    },
    "papermill": {
     "duration": 0.031367,
     "end_time": "2022-03-19T22:47:23.129842",
     "exception": false,
     "start_time": "2022-03-19T22:47:23.098475",
     "status": "completed"
    },
    "tags": []
   },
   "outputs": [],
   "source": [
    "start_time_secs = time.time()"
   ]
  },
  {
   "cell_type": "code",
   "execution_count": 10,
   "id": "c6b67dfd",
   "metadata": {
    "execution": {
     "iopub.execute_input": "2022-03-19T22:47:23.162982Z",
     "iopub.status.busy": "2022-03-19T22:47:23.162737Z",
     "iopub.status.idle": "2022-03-19T22:47:23.179654Z",
     "shell.execute_reply": "2022-03-19T22:47:23.179999Z"
    },
    "papermill": {
     "duration": 0.032136,
     "end_time": "2022-03-19T22:47:23.180104",
     "exception": false,
     "start_time": "2022-03-19T22:47:23.147968",
     "status": "completed"
    },
    "tags": []
   },
   "outputs": [],
   "source": [
    "p.domains_source = []\n",
    "p.domains_target = []\n",
    "\n",
    "\n",
    "train_original_source = []\n",
    "val_original_source   = []\n",
    "test_original_source  = []\n",
    "\n",
    "train_original_target = []\n",
    "val_original_target   = []\n",
    "test_original_target  = []"
   ]
  },
  {
   "cell_type": "code",
   "execution_count": 11,
   "id": "e3d9c3d3",
   "metadata": {
    "execution": {
     "iopub.execute_input": "2022-03-19T22:47:23.215573Z",
     "iopub.status.busy": "2022-03-19T22:47:23.213667Z",
     "iopub.status.idle": "2022-03-19T22:47:23.227389Z",
     "shell.execute_reply": "2022-03-19T22:47:23.227598Z"
    },
    "papermill": {
     "duration": 0.029184,
     "end_time": "2022-03-19T22:47:23.227657",
     "exception": false,
     "start_time": "2022-03-19T22:47:23.198473",
     "status": "completed"
    },
    "tags": []
   },
   "outputs": [],
   "source": [
    "# global_x_transform_func = lambda x: normalize(x.to(torch.get_default_dtype()), \"unit_power\") # unit_power, unit_mag\n",
    "# global_x_transform_func = lambda x: normalize(x, \"unit_power\") # unit_power, unit_mag"
   ]
  },
  {
   "cell_type": "code",
   "execution_count": 12,
   "id": "acb78fd2",
   "metadata": {
    "execution": {
     "iopub.execute_input": "2022-03-19T22:47:23.267467Z",
     "iopub.status.busy": "2022-03-19T22:47:23.266918Z",
     "iopub.status.idle": "2022-03-19T22:47:23.280259Z",
     "shell.execute_reply": "2022-03-19T22:47:23.279872Z"
    },
    "papermill": {
     "duration": 0.033309,
     "end_time": "2022-03-19T22:47:23.280349",
     "exception": false,
     "start_time": "2022-03-19T22:47:23.247040",
     "status": "completed"
    },
    "tags": []
   },
   "outputs": [],
   "source": [
    "def add_dataset(\n",
    "    labels,\n",
    "    domains,\n",
    "    pickle_path,\n",
    "    x_transforms,\n",
    "    episode_transforms,\n",
    "    domain_prefix,\n",
    "    num_examples_per_domain_per_label,\n",
    "    source_or_target_dataset:str,\n",
    "    iterator_seed=p.seed,\n",
    "    dataset_seed=p.dataset_seed,\n",
    "    n_shot=p.n_shot,\n",
    "    n_way=p.n_way,\n",
    "    n_query=p.n_query,\n",
    "    train_val_test_k_factors=(p.train_k_factor,p.val_k_factor,p.test_k_factor),\n",
    "):\n",
    "   \n",
    "    if x_transforms == []: x_transform = None\n",
    "    else: x_transform = get_chained_transform(x_transforms)\n",
    "    \n",
    "    if episode_transforms == []: episode_transform = None\n",
    "    else: raise Exception(\"episode_transforms not implemented\")\n",
    "    \n",
    "    episode_transform = lambda tup, _prefix=domain_prefix: (_prefix + str(tup[0]), tup[1])\n",
    "\n",
    "\n",
    "    eaf = Episodic_Accessor_Factory(\n",
    "        labels=labels,\n",
    "        domains=domains,\n",
    "        num_examples_per_domain_per_label=num_examples_per_domain_per_label,\n",
    "        iterator_seed=iterator_seed,\n",
    "        dataset_seed=dataset_seed,\n",
    "        n_shot=n_shot,\n",
    "        n_way=n_way,\n",
    "        n_query=n_query,\n",
    "        train_val_test_k_factors=train_val_test_k_factors,\n",
    "        pickle_path=pickle_path,\n",
    "        x_transform_func=x_transform,\n",
    "    )\n",
    "\n",
    "    train, val, test = eaf.get_train(), eaf.get_val(), eaf.get_test()\n",
    "    train = Lazy_Iterable_Wrapper(train, episode_transform)\n",
    "    val = Lazy_Iterable_Wrapper(val, episode_transform)\n",
    "    test = Lazy_Iterable_Wrapper(test, episode_transform)\n",
    "\n",
    "    if source_or_target_dataset==\"source\":\n",
    "        train_original_source.append(train)\n",
    "        val_original_source.append(val)\n",
    "        test_original_source.append(test)\n",
    "\n",
    "        p.domains_source.extend(\n",
    "            [domain_prefix + str(u) for u in domains]\n",
    "        )\n",
    "    elif source_or_target_dataset==\"target\":\n",
    "        train_original_target.append(train)\n",
    "        val_original_target.append(val)\n",
    "        test_original_target.append(test)\n",
    "        p.domains_target.extend(\n",
    "            [domain_prefix + str(u) for u in domains]\n",
    "        )\n",
    "    else:\n",
    "        raise Exception(f\"invalid source_or_target_dataset: {source_or_target_dataset}\")\n",
    "    "
   ]
  },
  {
   "cell_type": "code",
   "execution_count": 13,
   "id": "fe266617",
   "metadata": {
    "execution": {
     "iopub.execute_input": "2022-03-19T22:47:23.312570Z",
     "iopub.status.busy": "2022-03-19T22:47:23.312262Z",
     "iopub.status.idle": "2022-03-19T22:47:26.729687Z",
     "shell.execute_reply": "2022-03-19T22:47:26.729216Z"
    },
    "papermill": {
     "duration": 3.432771,
     "end_time": "2022-03-19T22:47:26.729790",
     "exception": false,
     "start_time": "2022-03-19T22:47:23.297019",
     "status": "completed"
    },
    "tags": []
   },
   "outputs": [],
   "source": [
    "for ds in p.datasets:\n",
    "    add_dataset(**ds)"
   ]
  },
  {
   "cell_type": "code",
   "execution_count": 14,
   "id": "b90d65ac",
   "metadata": {
    "execution": {
     "iopub.execute_input": "2022-03-19T22:47:26.765992Z",
     "iopub.status.busy": "2022-03-19T22:47:26.765740Z",
     "iopub.status.idle": "2022-03-19T22:47:26.781235Z",
     "shell.execute_reply": "2022-03-19T22:47:26.780787Z"
    },
    "papermill": {
     "duration": 0.031205,
     "end_time": "2022-03-19T22:47:26.781326",
     "exception": false,
     "start_time": "2022-03-19T22:47:26.750121",
     "status": "completed"
    },
    "tags": []
   },
   "outputs": [],
   "source": [
    "# from steves_utils.CORES.utils import (\n",
    "#     ALL_NODES,\n",
    "#     ALL_NODES_MINIMUM_1000_EXAMPLES,\n",
    "#     ALL_DAYS\n",
    "# )\n",
    "\n",
    "# add_dataset(\n",
    "#     labels=ALL_NODES,\n",
    "#     domains = ALL_DAYS,\n",
    "#     num_examples_per_domain_per_label=100,\n",
    "#     pickle_path=os.path.join(get_datasets_base_path(), \"cores.stratified_ds.2022A.pkl\"),\n",
    "#     source_or_target_dataset=\"target\",\n",
    "#     x_transform_func=global_x_transform_func,\n",
    "#     domain_modifier=lambda u: f\"cores_{u}\"\n",
    "# )"
   ]
  },
  {
   "cell_type": "code",
   "execution_count": 15,
   "id": "76db484d",
   "metadata": {
    "execution": {
     "iopub.execute_input": "2022-03-19T22:47:26.815076Z",
     "iopub.status.busy": "2022-03-19T22:47:26.814755Z",
     "iopub.status.idle": "2022-03-19T22:47:26.829147Z",
     "shell.execute_reply": "2022-03-19T22:47:26.828697Z"
    },
    "papermill": {
     "duration": 0.03013,
     "end_time": "2022-03-19T22:47:26.829240",
     "exception": false,
     "start_time": "2022-03-19T22:47:26.799110",
     "status": "completed"
    },
    "tags": []
   },
   "outputs": [],
   "source": [
    "# from steves_utils.ORACLE.utils_v2 import (\n",
    "#     ALL_DISTANCES_FEET,\n",
    "#     ALL_RUNS,\n",
    "#     ALL_SERIAL_NUMBERS,\n",
    "# )\n",
    "\n",
    "\n",
    "# add_dataset(\n",
    "#     labels=ALL_SERIAL_NUMBERS,\n",
    "#     domains = list(set(ALL_DISTANCES_FEET) - {2,62}),\n",
    "#     num_examples_per_domain_per_label=100,\n",
    "#     pickle_path=os.path.join(get_datasets_base_path(), \"oracle.Run2_framed_2000Examples_stratified_ds.2022A.pkl\"),\n",
    "#     source_or_target_dataset=\"source\",\n",
    "#     x_transform_func=global_x_transform_func,\n",
    "#     domain_modifier=lambda u: f\"oracle1_{u}\"\n",
    "# )\n"
   ]
  },
  {
   "cell_type": "code",
   "execution_count": 16,
   "id": "97dea9d2",
   "metadata": {
    "execution": {
     "iopub.execute_input": "2022-03-19T22:47:26.863518Z",
     "iopub.status.busy": "2022-03-19T22:47:26.863253Z",
     "iopub.status.idle": "2022-03-19T22:47:26.877110Z",
     "shell.execute_reply": "2022-03-19T22:47:26.876677Z"
    },
    "papermill": {
     "duration": 0.02987,
     "end_time": "2022-03-19T22:47:26.877199",
     "exception": false,
     "start_time": "2022-03-19T22:47:26.847329",
     "status": "completed"
    },
    "tags": []
   },
   "outputs": [],
   "source": [
    "# from steves_utils.ORACLE.utils_v2 import (\n",
    "#     ALL_DISTANCES_FEET,\n",
    "#     ALL_RUNS,\n",
    "#     ALL_SERIAL_NUMBERS,\n",
    "# )\n",
    "\n",
    "\n",
    "# add_dataset(\n",
    "#     labels=ALL_SERIAL_NUMBERS,\n",
    "#     domains = list(set(ALL_DISTANCES_FEET) - {2,62,56}),\n",
    "#     num_examples_per_domain_per_label=100,\n",
    "#     pickle_path=os.path.join(get_datasets_base_path(), \"oracle.Run2_framed_2000Examples_stratified_ds.2022A.pkl\"),\n",
    "#     source_or_target_dataset=\"source\",\n",
    "#     x_transform_func=global_x_transform_func,\n",
    "#     domain_modifier=lambda u: f\"oracle2_{u}\"\n",
    "# )"
   ]
  },
  {
   "cell_type": "code",
   "execution_count": 17,
   "id": "6f289866",
   "metadata": {
    "execution": {
     "iopub.execute_input": "2022-03-19T22:47:26.912118Z",
     "iopub.status.busy": "2022-03-19T22:47:26.911866Z",
     "iopub.status.idle": "2022-03-19T22:47:26.925514Z",
     "shell.execute_reply": "2022-03-19T22:47:26.925064Z"
    },
    "papermill": {
     "duration": 0.029972,
     "end_time": "2022-03-19T22:47:26.925605",
     "exception": false,
     "start_time": "2022-03-19T22:47:26.895633",
     "status": "completed"
    },
    "tags": []
   },
   "outputs": [],
   "source": [
    "# add_dataset(\n",
    "#     labels=list(range(19)),\n",
    "#     domains = [0,1,2],\n",
    "#     num_examples_per_domain_per_label=100,\n",
    "#     pickle_path=os.path.join(get_datasets_base_path(), \"metehan.stratified_ds.2022A.pkl\"),\n",
    "#     source_or_target_dataset=\"target\",\n",
    "#     x_transform_func=global_x_transform_func,\n",
    "#     domain_modifier=lambda u: f\"met_{u}\"\n",
    "# )"
   ]
  },
  {
   "cell_type": "code",
   "execution_count": 18,
   "id": "86a863c3",
   "metadata": {
    "execution": {
     "iopub.execute_input": "2022-03-19T22:47:26.959720Z",
     "iopub.status.busy": "2022-03-19T22:47:26.958986Z",
     "iopub.status.idle": "2022-03-19T22:47:26.972068Z",
     "shell.execute_reply": "2022-03-19T22:47:26.972438Z"
    },
    "papermill": {
     "duration": 0.028895,
     "end_time": "2022-03-19T22:47:26.972542",
     "exception": false,
     "start_time": "2022-03-19T22:47:26.943647",
     "status": "completed"
    },
    "tags": []
   },
   "outputs": [],
   "source": [
    "# # from steves_utils.wisig.utils import (\n",
    "# #     ALL_NODES_MINIMUM_100_EXAMPLES,\n",
    "# #     ALL_NODES_MINIMUM_500_EXAMPLES,\n",
    "# #     ALL_NODES_MINIMUM_1000_EXAMPLES,\n",
    "# #     ALL_DAYS\n",
    "# # )\n",
    "\n",
    "# import steves_utils.wisig.utils as wisig\n",
    "\n",
    "\n",
    "# add_dataset(\n",
    "#     labels=wisig.ALL_NODES_MINIMUM_100_EXAMPLES,\n",
    "#     domains = wisig.ALL_DAYS,\n",
    "#     num_examples_per_domain_per_label=100,\n",
    "#     pickle_path=os.path.join(get_datasets_base_path(), \"wisig.node3-19.stratified_ds.2022A.pkl\"),\n",
    "#     source_or_target_dataset=\"target\",\n",
    "#     x_transform_func=global_x_transform_func,\n",
    "#     domain_modifier=lambda u: f\"wisig_{u}\"\n",
    "# )"
   ]
  },
  {
   "cell_type": "code",
   "execution_count": 19,
   "id": "fd5442bc",
   "metadata": {
    "execution": {
     "iopub.execute_input": "2022-03-19T22:47:27.010198Z",
     "iopub.status.busy": "2022-03-19T22:47:27.009463Z",
     "iopub.status.idle": "2022-03-19T22:47:27.023330Z",
     "shell.execute_reply": "2022-03-19T22:47:27.022948Z"
    },
    "papermill": {
     "duration": 0.032215,
     "end_time": "2022-03-19T22:47:27.023400",
     "exception": false,
     "start_time": "2022-03-19T22:47:26.991185",
     "status": "completed"
    },
    "tags": []
   },
   "outputs": [],
   "source": [
    "###################################\n",
    "# Build the dataset\n",
    "###################################\n",
    "train_original_source = Iterable_Aggregator(train_original_source, p.seed)\n",
    "val_original_source = Iterable_Aggregator(val_original_source, p.seed)\n",
    "test_original_source = Iterable_Aggregator(test_original_source, p.seed)\n",
    "\n",
    "\n",
    "train_original_target = Iterable_Aggregator(train_original_target, p.seed)\n",
    "val_original_target = Iterable_Aggregator(val_original_target, p.seed)\n",
    "test_original_target = Iterable_Aggregator(test_original_target, p.seed)\n",
    "\n",
    "# For CNN We only use X and Y. And we only train on the source.\n",
    "# Properly form the data using a transform lambda and Lazy_Iterable_Wrapper. Finally wrap them in a dataloader\n",
    "\n",
    "transform_lambda = lambda ex: ex[1] # Original is (<domain>, <episode>) so we strip down to episode only\n",
    "\n",
    "train_processed_source = Lazy_Iterable_Wrapper(train_original_source, transform_lambda)\n",
    "val_processed_source   = Lazy_Iterable_Wrapper(val_original_source, transform_lambda)\n",
    "test_processed_source  = Lazy_Iterable_Wrapper(test_original_source, transform_lambda)\n",
    "\n",
    "train_processed_target = Lazy_Iterable_Wrapper(train_original_target, transform_lambda)\n",
    "val_processed_target   = Lazy_Iterable_Wrapper(val_original_target, transform_lambda)\n",
    "test_processed_target  = Lazy_Iterable_Wrapper(test_original_target, transform_lambda)\n",
    "\n",
    "datasets = EasyDict({\n",
    "    \"source\": {\n",
    "        \"original\": {\"train\":train_original_source, \"val\":val_original_source, \"test\":test_original_source},\n",
    "        \"processed\": {\"train\":train_processed_source, \"val\":val_processed_source, \"test\":test_processed_source}\n",
    "    },\n",
    "    \"target\": {\n",
    "        \"original\": {\"train\":train_original_target, \"val\":val_original_target, \"test\":test_original_target},\n",
    "        \"processed\": {\"train\":train_processed_target, \"val\":val_processed_target, \"test\":test_processed_target}\n",
    "    },\n",
    "})"
   ]
  },
  {
   "cell_type": "code",
   "execution_count": 20,
   "id": "5b3c01fc",
   "metadata": {
    "execution": {
     "iopub.execute_input": "2022-03-19T22:47:27.057723Z",
     "iopub.status.busy": "2022-03-19T22:47:27.057395Z",
     "iopub.status.idle": "2022-03-19T22:47:35.765509Z",
     "shell.execute_reply": "2022-03-19T22:47:35.765867Z"
    },
    "papermill": {
     "duration": 8.725142,
     "end_time": "2022-03-19T22:47:35.765973",
     "exception": false,
     "start_time": "2022-03-19T22:47:27.040831",
     "status": "completed"
    },
    "tags": []
   },
   "outputs": [
    {
     "name": "stdout",
     "output_type": "stream",
     "text": [
      "{'O_38', 'O_44', 'O_26', 'O_14', 'O_20', 'O_32', 'O_8', 'O_50'}\n"
     ]
    },
    {
     "name": "stdout",
     "output_type": "stream",
     "text": [
      "{'C_4', 'C_1', 'W_4', 'C_3', 'C_2', 'C_5', 'W_1', 'W_3', 'W_2'}\n"
     ]
    },
    {
     "name": "stdout",
     "output_type": "stream",
     "text": [
      "tensor([[[-0.0013,  0.0068, -0.0012,  ..., -0.0069,  0.0031,  0.0037],\n",
      "         [-0.0027,  0.0023,  0.0033,  ..., -0.0003, -0.0062, -0.0068]],\n",
      "\n",
      "        [[ 0.0003,  0.0075, -0.0019,  ..., -0.0059, -0.0003, -0.0047],\n",
      "         [-0.0026, -0.0019,  0.0040,  ...,  0.0021, -0.0082, -0.0054]],\n",
      "\n",
      "        [[-0.0045, -0.0010,  0.0059,  ..., -0.0004, -0.0087,  0.0002],\n",
      "         [-0.0027, -0.0060,  0.0040,  ...,  0.0053,  0.0020,  0.0089]],\n",
      "\n",
      "        ...,\n",
      "\n",
      "        [[ 0.0006,  0.0037, -0.0006,  ..., -0.0046, -0.0049, -0.0058],\n",
      "         [-0.0050, -0.0015,  0.0073,  ...,  0.0005, -0.0057,  0.0046]],\n",
      "\n",
      "        [[-0.0014,  0.0061,  0.0001,  ..., -0.0058,  0.0011,  0.0016],\n",
      "         [-0.0027,  0.0002,  0.0035,  ...,  0.0014, -0.0059, -0.0058]],\n",
      "\n",
      "        [[-0.0042, -0.0043,  0.0056,  ...,  0.0034, -0.0011,  0.0072],\n",
      "         [ 0.0029, -0.0009, -0.0042,  ...,  0.0030,  0.0071,  0.0013]]])\n"
     ]
    }
   ],
   "source": [
    "from steves_utils.transforms import get_average_magnitude, get_average_power\n",
    "\n",
    "print(set([u for u,_ in val_original_source]))\n",
    "print(set([u for u,_ in val_original_target]))\n",
    "\n",
    "s_x, s_y, q_x, q_y, _ = next(iter(train_processed_source))\n",
    "print(s_x)\n",
    "\n",
    "# for ds in [\n",
    "#     train_processed_source,\n",
    "#     val_processed_source,\n",
    "#     test_processed_source,\n",
    "#     train_processed_target,\n",
    "#     val_processed_target,\n",
    "#     test_processed_target\n",
    "# ]:\n",
    "#     for s_x, s_y, q_x, q_y, _ in ds:\n",
    "#         for X in (s_x, q_x):\n",
    "#             for x in X:\n",
    "#                 assert np.isclose(get_average_magnitude(x.numpy()), 1.0)\n",
    "#                 assert np.isclose(get_average_power(x.numpy()), 1.0)\n",
    "                "
   ]
  },
  {
   "cell_type": "code",
   "execution_count": 21,
   "id": "bbdacba1",
   "metadata": {
    "execution": {
     "iopub.execute_input": "2022-03-19T22:47:35.802312Z",
     "iopub.status.busy": "2022-03-19T22:47:35.802066Z",
     "iopub.status.idle": "2022-03-19T22:47:35.860672Z",
     "shell.execute_reply": "2022-03-19T22:47:35.860232Z"
    },
    "papermill": {
     "duration": 0.076413,
     "end_time": "2022-03-19T22:47:35.860764",
     "exception": false,
     "start_time": "2022-03-19T22:47:35.784351",
     "status": "completed"
    },
    "tags": []
   },
   "outputs": [
    {
     "name": "stdout",
     "output_type": "stream",
     "text": [
      "(2, 256)\n"
     ]
    }
   ],
   "source": [
    "###################################\n",
    "# Build the model\n",
    "###################################\n",
    "# easfsl only wants a tuple for the shape\n",
    "model = Steves_Prototypical_Network(x_net, device=p.device, x_shape=tuple(p.x_shape))\n",
    "optimizer = Adam(params=model.parameters(), lr=p.lr)"
   ]
  },
  {
   "cell_type": "code",
   "execution_count": 22,
   "id": "22b39ac5",
   "metadata": {
    "execution": {
     "iopub.execute_input": "2022-03-19T22:47:35.903825Z",
     "iopub.status.busy": "2022-03-19T22:47:35.903573Z",
     "iopub.status.idle": "2022-03-19T23:03:17.683267Z",
     "shell.execute_reply": "2022-03-19T23:03:17.683033Z"
    },
    "papermill": {
     "duration": 941.801251,
     "end_time": "2022-03-19T23:03:17.683327",
     "exception": false,
     "start_time": "2022-03-19T22:47:35.882076",
     "status": "completed"
    },
    "tags": []
   },
   "outputs": [
    {
     "name": "stdout",
     "output_type": "stream",
     "text": [
      "epoch: 1, [batch: 1 / 6720], examples_per_second: 47.5597, train_label_loss: 2.8647, \n"
     ]
    },
    {
     "name": "stdout",
     "output_type": "stream",
     "text": [
      "epoch: 1, [batch: 672 / 6720], examples_per_second: 3247.4266, train_label_loss: 0.5245, \n"
     ]
    },
    {
     "name": "stdout",
     "output_type": "stream",
     "text": [
      "epoch: 1, [batch: 1344 / 6720], examples_per_second: 3236.8122, train_label_loss: 0.5490, \n"
     ]
    },
    {
     "name": "stdout",
     "output_type": "stream",
     "text": [
      "epoch: 1, [batch: 2016 / 6720], examples_per_second: 3230.7761, train_label_loss: 0.9537, \n"
     ]
    },
    {
     "name": "stdout",
     "output_type": "stream",
     "text": [
      "epoch: 1, [batch: 2688 / 6720], examples_per_second: 3212.6132, train_label_loss: 0.5474, \n"
     ]
    },
    {
     "name": "stdout",
     "output_type": "stream",
     "text": [
      "epoch: 1, [batch: 3360 / 6720], examples_per_second: 3219.4899, train_label_loss: 0.3170, \n"
     ]
    },
    {
     "name": "stdout",
     "output_type": "stream",
     "text": [
      "epoch: 1, [batch: 4032 / 6720], examples_per_second: 3219.6534, train_label_loss: 0.3845, \n"
     ]
    },
    {
     "name": "stdout",
     "output_type": "stream",
     "text": [
      "epoch: 1, [batch: 4704 / 6720], examples_per_second: 3215.3835, train_label_loss: 0.3051, \n"
     ]
    },
    {
     "name": "stdout",
     "output_type": "stream",
     "text": [
      "epoch: 1, [batch: 5376 / 6720], examples_per_second: 3226.2958, train_label_loss: 0.2832, \n"
     ]
    },
    {
     "name": "stdout",
     "output_type": "stream",
     "text": [
      "epoch: 1, [batch: 6048 / 6720], examples_per_second: 3236.5590, train_label_loss: 0.1732, \n"
     ]
    },
    {
     "name": "stdout",
     "output_type": "stream",
     "text": [
      "=============================================================\n",
      "epoch: 1, source_val_acc_label: 0.6131, target_val_acc_label: 0.7944, source_val_label_loss: 174.3712, target_val_label_loss: 9551.7041, \n",
      "=============================================================\n"
     ]
    },
    {
     "name": "stdout",
     "output_type": "stream",
     "text": [
      "New best\n"
     ]
    },
    {
     "name": "stdout",
     "output_type": "stream",
     "text": [
      "epoch: 2, [batch: 1 / 6720], examples_per_second: 4.0724, train_label_loss: 564.4829, \n"
     ]
    },
    {
     "name": "stdout",
     "output_type": "stream",
     "text": [
      "epoch: 2, [batch: 672 / 6720], examples_per_second: 3256.5605, train_label_loss: 0.2881, \n"
     ]
    },
    {
     "name": "stdout",
     "output_type": "stream",
     "text": [
      "epoch: 2, [batch: 1344 / 6720], examples_per_second: 3248.5715, train_label_loss: 0.8295, \n"
     ]
    },
    {
     "name": "stdout",
     "output_type": "stream",
     "text": [
      "epoch: 2, [batch: 2016 / 6720], examples_per_second: 3248.5015, train_label_loss: 0.1763, \n"
     ]
    },
    {
     "name": "stdout",
     "output_type": "stream",
     "text": [
      "epoch: 2, [batch: 2688 / 6720], examples_per_second: 3235.1694, train_label_loss: 0.4143, \n"
     ]
    },
    {
     "name": "stdout",
     "output_type": "stream",
     "text": [
      "epoch: 2, [batch: 3360 / 6720], examples_per_second: 3260.1621, train_label_loss: 0.2266, \n"
     ]
    },
    {
     "name": "stdout",
     "output_type": "stream",
     "text": [
      "epoch: 2, [batch: 4032 / 6720], examples_per_second: 3255.6138, train_label_loss: 0.5810, \n"
     ]
    },
    {
     "name": "stdout",
     "output_type": "stream",
     "text": [
      "epoch: 2, [batch: 4704 / 6720], examples_per_second: 3247.7540, train_label_loss: 0.2641, \n"
     ]
    },
    {
     "name": "stdout",
     "output_type": "stream",
     "text": [
      "epoch: 2, [batch: 5376 / 6720], examples_per_second: 3254.4729, train_label_loss: 0.4526, \n"
     ]
    },
    {
     "name": "stdout",
     "output_type": "stream",
     "text": [
      "epoch: 2, [batch: 6048 / 6720], examples_per_second: 3269.7909, train_label_loss: 0.1524, \n"
     ]
    },
    {
     "name": "stdout",
     "output_type": "stream",
     "text": [
      "=============================================================\n",
      "epoch: 2, source_val_acc_label: 0.9055, target_val_acc_label: 0.6747, source_val_label_loss: 0.2704, target_val_label_loss: 1160.2102, \n",
      "=============================================================\n"
     ]
    },
    {
     "name": "stdout",
     "output_type": "stream",
     "text": [
      "epoch: 3, [batch: 1 / 6720], examples_per_second: 4.0691, train_label_loss: 0.3761, \n"
     ]
    },
    {
     "name": "stdout",
     "output_type": "stream",
     "text": [
      "epoch: 3, [batch: 672 / 6720], examples_per_second: 3247.6506, train_label_loss: 0.0604, \n"
     ]
    },
    {
     "name": "stdout",
     "output_type": "stream",
     "text": [
      "epoch: 3, [batch: 1344 / 6720], examples_per_second: 3256.5006, train_label_loss: 0.2902, \n"
     ]
    },
    {
     "name": "stdout",
     "output_type": "stream",
     "text": [
      "epoch: 3, [batch: 2016 / 6720], examples_per_second: 3260.0823, train_label_loss: 0.4555, \n"
     ]
    },
    {
     "name": "stdout",
     "output_type": "stream",
     "text": [
      "epoch: 3, [batch: 2688 / 6720], examples_per_second: 3246.8447, train_label_loss: 0.1416, \n"
     ]
    },
    {
     "name": "stdout",
     "output_type": "stream",
     "text": [
      "epoch: 3, [batch: 3360 / 6720], examples_per_second: 3250.3977, train_label_loss: 0.0500, \n"
     ]
    },
    {
     "name": "stdout",
     "output_type": "stream",
     "text": [
      "epoch: 3, [batch: 4032 / 6720], examples_per_second: 3250.8478, train_label_loss: 0.1763, \n"
     ]
    },
    {
     "name": "stdout",
     "output_type": "stream",
     "text": [
      "epoch: 3, [batch: 4704 / 6720], examples_per_second: 3238.5285, train_label_loss: 0.2189, \n"
     ]
    },
    {
     "name": "stdout",
     "output_type": "stream",
     "text": [
      "epoch: 3, [batch: 5376 / 6720], examples_per_second: 3246.4706, train_label_loss: 0.1231, \n"
     ]
    },
    {
     "name": "stdout",
     "output_type": "stream",
     "text": [
      "epoch: 3, [batch: 6048 / 6720], examples_per_second: 3245.7840, train_label_loss: 0.2221, \n"
     ]
    },
    {
     "name": "stdout",
     "output_type": "stream",
     "text": [
      "=============================================================\n",
      "epoch: 3, source_val_acc_label: 0.9310, target_val_acc_label: 0.7003, source_val_label_loss: 0.2085, target_val_label_loss: 1328.0699, \n",
      "=============================================================\n"
     ]
    },
    {
     "name": "stdout",
     "output_type": "stream",
     "text": [
      "epoch: 4, [batch: 1 / 6720], examples_per_second: 4.0735, train_label_loss: 0.0485, \n"
     ]
    },
    {
     "name": "stdout",
     "output_type": "stream",
     "text": [
      "epoch: 4, [batch: 672 / 6720], examples_per_second: 3252.7347, train_label_loss: 0.0833, \n"
     ]
    },
    {
     "name": "stdout",
     "output_type": "stream",
     "text": [
      "epoch: 4, [batch: 1344 / 6720], examples_per_second: 3254.2825, train_label_loss: 0.4740, \n"
     ]
    },
    {
     "name": "stdout",
     "output_type": "stream",
     "text": [
      "epoch: 4, [batch: 2016 / 6720], examples_per_second: 3265.7973, train_label_loss: 0.0862, \n"
     ]
    },
    {
     "name": "stdout",
     "output_type": "stream",
     "text": [
      "epoch: 4, [batch: 2688 / 6720], examples_per_second: 3238.4932, train_label_loss: 0.2522, \n"
     ]
    },
    {
     "name": "stdout",
     "output_type": "stream",
     "text": [
      "epoch: 4, [batch: 3360 / 6720], examples_per_second: 3249.2743, train_label_loss: 0.0612, \n"
     ]
    },
    {
     "name": "stdout",
     "output_type": "stream",
     "text": [
      "epoch: 4, [batch: 4032 / 6720], examples_per_second: 3256.6972, train_label_loss: 0.2034, \n"
     ]
    },
    {
     "name": "stdout",
     "output_type": "stream",
     "text": [
      "epoch: 4, [batch: 4704 / 6720], examples_per_second: 3245.3961, train_label_loss: 0.2037, \n"
     ]
    },
    {
     "name": "stdout",
     "output_type": "stream",
     "text": [
      "epoch: 4, [batch: 5376 / 6720], examples_per_second: 3244.9951, train_label_loss: 0.0785, \n"
     ]
    },
    {
     "name": "stdout",
     "output_type": "stream",
     "text": [
      "epoch: 4, [batch: 6048 / 6720], examples_per_second: 3252.1780, train_label_loss: 0.2813, \n"
     ]
    },
    {
     "name": "stdout",
     "output_type": "stream",
     "text": [
      "=============================================================\n",
      "epoch: 4, source_val_acc_label: 0.9351, target_val_acc_label: 0.7248, source_val_label_loss: 0.1882, target_val_label_loss: 1619.1777, \n",
      "=============================================================\n"
     ]
    },
    {
     "name": "stdout",
     "output_type": "stream",
     "text": [
      "epoch: 5, [batch: 1 / 6720], examples_per_second: 4.0571, train_label_loss: 0.1488, \n"
     ]
    },
    {
     "name": "stdout",
     "output_type": "stream",
     "text": [
      "epoch: 5, [batch: 672 / 6720], examples_per_second: 3251.6329, train_label_loss: 0.4444, \n"
     ]
    },
    {
     "name": "stdout",
     "output_type": "stream",
     "text": [
      "epoch: 5, [batch: 1344 / 6720], examples_per_second: 3266.3690, train_label_loss: 0.3287, \n"
     ]
    },
    {
     "name": "stdout",
     "output_type": "stream",
     "text": [
      "epoch: 5, [batch: 2016 / 6720], examples_per_second: 3255.0127, train_label_loss: 0.2059, \n"
     ]
    },
    {
     "name": "stdout",
     "output_type": "stream",
     "text": [
      "epoch: 5, [batch: 2688 / 6720], examples_per_second: 3247.4178, train_label_loss: 0.0637, \n"
     ]
    },
    {
     "name": "stdout",
     "output_type": "stream",
     "text": [
      "epoch: 5, [batch: 3360 / 6720], examples_per_second: 3256.3725, train_label_loss: 0.2864, \n"
     ]
    },
    {
     "name": "stdout",
     "output_type": "stream",
     "text": [
      "epoch: 5, [batch: 4032 / 6720], examples_per_second: 3261.9807, train_label_loss: 0.1191, \n"
     ]
    },
    {
     "name": "stdout",
     "output_type": "stream",
     "text": [
      "epoch: 5, [batch: 4704 / 6720], examples_per_second: 3234.9134, train_label_loss: 0.1145, \n"
     ]
    },
    {
     "name": "stdout",
     "output_type": "stream",
     "text": [
      "epoch: 5, [batch: 5376 / 6720], examples_per_second: 3243.8718, train_label_loss: 0.0491, \n"
     ]
    },
    {
     "name": "stdout",
     "output_type": "stream",
     "text": [
      "epoch: 5, [batch: 6048 / 6720], examples_per_second: 3258.7259, train_label_loss: 0.3041, \n"
     ]
    },
    {
     "name": "stdout",
     "output_type": "stream",
     "text": [
      "=============================================================\n",
      "epoch: 5, source_val_acc_label: 0.9235, target_val_acc_label: 0.6863, source_val_label_loss: 0.2132, target_val_label_loss: 2057.8054, \n",
      "=============================================================\n"
     ]
    },
    {
     "name": "stdout",
     "output_type": "stream",
     "text": [
      "Patience (3) exhausted\n"
     ]
    }
   ],
   "source": [
    "###################################\n",
    "# train\n",
    "###################################\n",
    "jig = PTN_Train_Eval_Test_Jig(model, p.BEST_MODEL_PATH, p.device)\n",
    "\n",
    "jig.train(\n",
    "    train_iterable=datasets.source.processed.train,\n",
    "    source_val_iterable=datasets.source.processed.val,\n",
    "    target_val_iterable=datasets.target.processed.val,\n",
    "    num_epochs=p.n_epoch,\n",
    "    num_logs_per_epoch=p.NUM_LOGS_PER_EPOCH,\n",
    "    patience=p.patience,\n",
    "    optimizer=optimizer,\n",
    "    criteria_for_best=p.criteria_for_best,\n",
    ")"
   ]
  },
  {
   "cell_type": "code",
   "execution_count": 23,
   "id": "31e8fabf",
   "metadata": {
    "execution": {
     "iopub.execute_input": "2022-03-19T23:03:17.746512Z",
     "iopub.status.busy": "2022-03-19T23:03:17.735265Z",
     "iopub.status.idle": "2022-03-19T23:03:17.755036Z",
     "shell.execute_reply": "2022-03-19T23:03:17.754628Z"
    },
    "papermill": {
     "duration": 0.047241,
     "end_time": "2022-03-19T23:03:17.755126",
     "exception": false,
     "start_time": "2022-03-19T23:03:17.707885",
     "status": "completed"
    },
    "tags": []
   },
   "outputs": [],
   "source": [
    "total_experiment_time_secs = time.time() - start_time_secs"
   ]
  },
  {
   "cell_type": "code",
   "execution_count": 24,
   "id": "87b9595b",
   "metadata": {
    "execution": {
     "iopub.execute_input": "2022-03-19T23:03:17.820835Z",
     "iopub.status.busy": "2022-03-19T23:03:17.816358Z",
     "iopub.status.idle": "2022-03-19T23:05:41.253403Z",
     "shell.execute_reply": "2022-03-19T23:05:41.252908Z"
    },
    "papermill": {
     "duration": 143.468226,
     "end_time": "2022-03-19T23:05:41.253521",
     "exception": false,
     "start_time": "2022-03-19T23:03:17.785295",
     "status": "completed"
    },
    "tags": []
   },
   "outputs": [],
   "source": [
    "###################################\n",
    "# Evaluate the model\n",
    "###################################\n",
    "source_test_label_accuracy, source_test_label_loss = jig.test(datasets.source.processed.test)\n",
    "target_test_label_accuracy, target_test_label_loss = jig.test(datasets.target.processed.test)\n",
    "\n",
    "source_val_label_accuracy, source_val_label_loss = jig.test(datasets.source.processed.val)\n",
    "target_val_label_accuracy, target_val_label_loss = jig.test(datasets.target.processed.val)\n",
    "\n",
    "history = jig.get_history()\n",
    "\n",
    "total_epochs_trained = len(history[\"epoch_indices\"])\n",
    "\n",
    "val_dl = Iterable_Aggregator((datasets.source.original.val,datasets.target.original.val))\n",
    "\n",
    "confusion = ptn_confusion_by_domain_over_dataloader(model, p.device, val_dl)\n",
    "per_domain_accuracy = per_domain_accuracy_from_confusion(confusion)\n",
    "\n",
    "# Add a key to per_domain_accuracy for if it was a source domain\n",
    "for domain, accuracy in per_domain_accuracy.items():\n",
    "    per_domain_accuracy[domain] = {\n",
    "        \"accuracy\": accuracy,\n",
    "        \"source?\": domain in p.domains_source\n",
    "    }\n",
    "\n",
    "# Do an independent accuracy assesment JUST TO BE SURE!\n",
    "# _source_test_label_accuracy = independent_accuracy_assesment(model, datasets.source.processed.test, p.device)\n",
    "# _target_test_label_accuracy = independent_accuracy_assesment(model, datasets.target.processed.test, p.device)\n",
    "# _source_val_label_accuracy = independent_accuracy_assesment(model, datasets.source.processed.val, p.device)\n",
    "# _target_val_label_accuracy = independent_accuracy_assesment(model, datasets.target.processed.val, p.device)\n",
    "\n",
    "# assert(_source_test_label_accuracy == source_test_label_accuracy)\n",
    "# assert(_target_test_label_accuracy == target_test_label_accuracy)\n",
    "# assert(_source_val_label_accuracy == source_val_label_accuracy)\n",
    "# assert(_target_val_label_accuracy == target_val_label_accuracy)\n",
    "\n",
    "experiment = {\n",
    "    \"experiment_name\": p.experiment_name,\n",
    "    \"parameters\": dict(p),\n",
    "    \"results\": {\n",
    "        \"source_test_label_accuracy\": source_test_label_accuracy,\n",
    "        \"source_test_label_loss\": source_test_label_loss,\n",
    "        \"target_test_label_accuracy\": target_test_label_accuracy,\n",
    "        \"target_test_label_loss\": target_test_label_loss,\n",
    "        \"source_val_label_accuracy\": source_val_label_accuracy,\n",
    "        \"source_val_label_loss\": source_val_label_loss,\n",
    "        \"target_val_label_accuracy\": target_val_label_accuracy,\n",
    "        \"target_val_label_loss\": target_val_label_loss,\n",
    "        \"total_epochs_trained\": total_epochs_trained,\n",
    "        \"total_experiment_time_secs\": total_experiment_time_secs,\n",
    "        \"confusion\": confusion,\n",
    "        \"per_domain_accuracy\": per_domain_accuracy,\n",
    "    },\n",
    "    \"history\": history,\n",
    "    \"dataset_metrics\": get_dataset_metrics(datasets, \"ptn\"),\n",
    "}"
   ]
  },
  {
   "cell_type": "code",
   "execution_count": 25,
   "id": "54a21829",
   "metadata": {
    "execution": {
     "iopub.execute_input": "2022-03-19T23:05:41.309223Z",
     "iopub.status.busy": "2022-03-19T23:05:41.308971Z",
     "iopub.status.idle": "2022-03-19T23:05:41.428391Z",
     "shell.execute_reply": "2022-03-19T23:05:41.427998Z"
    },
    "papermill": {
     "duration": 0.145668,
     "end_time": "2022-03-19T23:05:41.428486",
     "exception": false,
     "start_time": "2022-03-19T23:05:41.282818",
     "status": "completed"
    },
    "tags": []
   },
   "outputs": [
    {
     "data": {
      "image/png": "[encoded data removed]",
      "text/plain": [
       "<Figure size 1080x504 with 1 Axes>"
      ]
     },
     "metadata": {
      "needs_background": "light"
     },
     "output_type": "display_data"
    }
   ],
   "source": [
    "ax = get_loss_curve(experiment)\n",
    "plt.show()"
   ]
  },
  {
   "cell_type": "code",
   "execution_count": 26,
   "id": "fd8a0f60",
   "metadata": {
    "execution": {
     "iopub.execute_input": "2022-03-19T23:05:41.485059Z",
     "iopub.status.busy": "2022-03-19T23:05:41.484812Z",
     "iopub.status.idle": "2022-03-19T23:05:41.631127Z",
     "shell.execute_reply": "2022-03-19T23:05:41.630901Z"
    },
    "papermill": {
     "duration": 0.173494,
     "end_time": "2022-03-19T23:05:41.631184",
     "exception": false,
     "start_time": "2022-03-19T23:05:41.457690",
     "status": "completed"
    },
    "tags": []
   },
   "outputs": [
    {
     "data": {
      "text/plain": [
       "<AxesSubplot:title={'center':'Results'}>"
      ]
     },
     "execution_count": 26,
     "metadata": {},
     "output_type": "execute_result"
    },
    {
     "data": {
      "image/png": "[encoded data removed]",
      "text/plain": [
       "<Figure size 1080x504 with 1 Axes>"
      ]
     },
     "metadata": {
      "needs_background": "light"
     },
     "output_type": "display_data"
    }
   ],
   "source": [
    "get_results_table(experiment)"
   ]
  },
  {
   "cell_type": "code",
   "execution_count": 27,
   "id": "cf8dc689",
   "metadata": {
    "execution": {
     "iopub.execute_input": "2022-03-19T23:05:41.688553Z",
     "iopub.status.busy": "2022-03-19T23:05:41.688303Z",
     "iopub.status.idle": "2022-03-19T23:05:41.841430Z",
     "shell.execute_reply": "2022-03-19T23:05:41.841089Z"
    },
    "papermill": {
     "duration": 0.182748,
     "end_time": "2022-03-19T23:05:41.841517",
     "exception": false,
     "start_time": "2022-03-19T23:05:41.658769",
     "status": "completed"
    },
    "tags": []
   },
   "outputs": [
    {
     "data": {
      "text/plain": [
       "<AxesSubplot:title={'center':'Per Domain Validation Accuracy'}, xlabel='domain'>"
      ]
     },
     "execution_count": 27,
     "metadata": {},
     "output_type": "execute_result"
    },
    {
     "data": {
      "image/png": "[encoded data removed]",
      "text/plain": [
       "<Figure size 1080x504 with 1 Axes>"
      ]
     },
     "metadata": {
      "needs_background": "light"
     },
     "output_type": "display_data"
    }
   ],
   "source": [
    "get_domain_accuracies(experiment)"
   ]
  },
  {
   "cell_type": "code",
   "execution_count": 28,
   "id": "a74ae082",
   "metadata": {
    "execution": {
     "iopub.execute_input": "2022-03-19T23:05:41.905258Z",
     "iopub.status.busy": "2022-03-19T23:05:41.905005Z",
     "iopub.status.idle": "2022-03-19T23:05:41.920160Z",
     "shell.execute_reply": "2022-03-19T23:05:41.920526Z"
    },
    "papermill": {
     "duration": 0.046317,
     "end_time": "2022-03-19T23:05:41.920634",
     "exception": false,
     "start_time": "2022-03-19T23:05:41.874317",
     "status": "completed"
    },
    "tags": []
   },
   "outputs": [
    {
     "name": "stdout",
     "output_type": "stream",
     "text": [
      "Source Test Label Accuracy: 0.6108072916666667 Target Test Label Accuracy: 0.7930720453318942\n",
      "Source Val Label Accuracy: 0.6130533854166667 Target Val Label Accuracy: 0.7943725921849202\n"
     ]
    }
   ],
   "source": [
    "print(\"Source Test Label Accuracy:\", experiment[\"results\"][\"source_test_label_accuracy\"], \"Target Test Label Accuracy:\", experiment[\"results\"][\"target_test_label_accuracy\"])\n",
    "print(\"Source Val Label Accuracy:\", experiment[\"results\"][\"source_val_label_accuracy\"], \"Target Val Label Accuracy:\", experiment[\"results\"][\"target_val_label_accuracy\"])"
   ]
  },
  {
   "cell_type": "code",
   "execution_count": 29,
   "id": "dacca602",
   "metadata": {
    "execution": {
     "iopub.execute_input": "2022-03-19T23:05:41.979720Z",
     "iopub.status.busy": "2022-03-19T23:05:41.979474Z",
     "iopub.status.idle": "2022-03-19T23:05:42.001243Z",
     "shell.execute_reply": "2022-03-19T23:05:42.001613Z"
    },
    "papermill": {
     "duration": 0.051888,
     "end_time": "2022-03-19T23:05:42.001721",
     "exception": false,
     "start_time": "2022-03-19T23:05:41.949833",
     "status": "completed"
    },
    "tags": [
     "experiment_json"
    ]
   },
   "outputs": [
    {
     "data": {
      "text/plain": [
       "'{\"experiment_name\": \"tl_2v2:oracle.run1.framed -> cores+wisig\", \"parameters\": {\"experiment_name\": \"tl_2v2:oracle.run1.framed -> cores+wisig\", \"device\": \"cuda\", \"lr\": 0.0001, \"n_shot\": 3, \"n_query\": 2, \"train_k_factor\": 3, \"val_k_factor\": 2, \"test_k_factor\": 2, \"torch_default_dtype\": \"torch.float32\", \"n_epoch\": 50, \"patience\": 3, \"criteria_for_best\": \"target_accuracy\", \"x_net\": [{\"class\": \"nnReshape\", \"kargs\": {\"shape\": [-1, 1, 2, 256]}}, {\"class\": \"Conv2d\", \"kargs\": {\"in_channels\": 1, \"out_channels\": 256, \"kernel_size\": [1, 7], \"bias\": false, \"padding\": [0, 3]}}, {\"class\": \"ReLU\", \"kargs\": {\"inplace\": true}}, {\"class\": \"BatchNorm2d\", \"kargs\": {\"num_features\": 256}}, {\"class\": \"Conv2d\", \"kargs\": {\"in_channels\": 256, \"out_channels\": 80, \"kernel_size\": [2, 7], \"bias\": true, \"padding\": [0, 3]}}, {\"class\": \"ReLU\", \"kargs\": {\"inplace\": true}}, {\"class\": \"BatchNorm2d\", \"kargs\": {\"num_features\": 80}}, {\"class\": \"Flatten\", \"kargs\": {}}, {\"class\": \"Linear\", \"kargs\": {\"in_features\": 20480, \"out_features\": 256}}, {\"class\": \"ReLU\", \"kargs\": {\"inplace\": true}}, {\"class\": \"BatchNorm1d\", \"kargs\": {\"num_features\": 256}}, {\"class\": \"Linear\", \"kargs\": {\"in_features\": 256, \"out_features\": 256}}], \"NUM_LOGS_PER_EPOCH\": 10, \"BEST_MODEL_PATH\": \"./best_model.pth\", \"n_way\": 16, \"datasets\": [{\"labels\": [\"1-10.\", \"1-11.\", \"1-15.\", \"1-16.\", \"1-17.\", \"1-18.\", \"1-19.\", \"10-4.\", \"10-7.\", \"11-1.\", \"11-14.\", \"11-17.\", \"11-20.\", \"11-7.\", \"13-20.\", \"13-8.\", \"14-10.\", \"14-11.\", \"14-14.\", \"14-7.\", \"15-1.\", \"15-20.\", \"16-1.\", \"16-16.\", \"17-10.\", \"17-11.\", \"17-2.\", \"19-1.\", \"19-16.\", \"19-19.\", \"19-20.\", \"19-3.\", \"2-10.\", \"2-11.\", \"2-17.\", \"2-18.\", \"2-20.\", \"2-3.\", \"2-4.\", \"2-5.\", \"2-6.\", \"2-7.\", \"2-8.\", \"3-13.\", \"3-18.\", \"3-3.\", \"4-1.\", \"4-10.\", \"4-11.\", \"4-19.\", \"5-5.\", \"6-15.\", \"7-10.\", \"7-14.\", \"8-18.\", \"8-20.\", \"8-3.\", \"8-8.\"], \"domains\": [1, 2, 3, 4, 5], \"num_examples_per_domain_per_label\": -1, \"pickle_path\": \"/mnt/wd500GB/CSC500/csc500-main/datasets/cores.stratified_ds.2022A.pkl\", \"source_or_target_dataset\": \"target\", \"x_transforms\": [], \"episode_transforms\": [], \"domain_prefix\": \"C_\"}, {\"labels\": [\"1-10\", \"1-12\", \"1-14\", \"1-16\", \"1-18\", \"1-19\", \"1-8\", \"10-11\", \"10-17\", \"10-4\", \"10-7\", \"11-1\", \"11-10\", \"11-19\", \"11-20\", \"11-4\", \"11-7\", \"12-19\", \"12-20\", \"12-7\", \"13-14\", \"13-18\", \"13-19\", \"13-20\", \"13-3\", \"13-7\", \"14-10\", \"14-11\", \"14-12\", \"14-13\", \"14-14\", \"14-19\", \"14-20\", \"14-7\", \"14-8\", \"14-9\", \"15-1\", \"15-19\", \"15-6\", \"16-1\", \"16-16\", \"16-19\", \"16-20\", \"17-10\", \"17-11\", \"18-1\", \"18-10\", \"18-11\", \"18-12\", \"18-13\", \"18-14\", \"18-15\", \"18-16\", \"18-17\", \"18-19\", \"18-2\", \"18-20\", \"18-4\", \"18-5\", \"18-7\", \"18-8\", \"18-9\", \"19-1\", \"19-10\", \"19-11\", \"19-12\", \"19-13\", \"19-14\", \"19-15\", \"19-19\", \"19-2\", \"19-20\", \"19-3\", \"19-4\", \"19-6\", \"19-7\", \"19-8\", \"19-9\", \"2-1\", \"2-13\", \"2-15\", \"2-3\", \"2-4\", \"2-5\", \"2-6\", \"2-7\", \"2-8\", \"20-1\", \"20-12\", \"20-14\", \"20-15\", \"20-16\", \"20-18\", \"20-19\", \"20-20\", \"20-3\", \"20-4\", \"20-5\", \"20-7\", \"20-8\", \"3-1\", \"3-13\", \"3-18\", \"3-2\", \"3-8\", \"4-1\", \"4-10\", \"4-11\", \"5-1\", \"5-5\", \"6-1\", \"6-15\", \"6-6\", \"7-10\", \"7-11\", \"7-12\", \"7-13\", \"7-14\", \"7-7\", \"7-8\", \"7-9\", \"8-1\", \"8-13\", \"8-14\", \"8-18\", \"8-20\", \"8-3\", \"8-8\", \"9-1\", \"9-7\"], \"domains\": [1, 2, 3, 4], \"num_examples_per_domain_per_label\": -1, \"pickle_path\": \"/mnt/wd500GB/CSC500/csc500-main/datasets/wisig.node3-19.stratified_ds.2022A.pkl\", \"source_or_target_dataset\": \"target\", \"x_transforms\": [], \"episode_transforms\": [], \"domain_prefix\": \"W_\"}, {\"labels\": [\"3123D52\", \"3123D65\", \"3123D79\", \"3123D80\", \"3123D54\", \"3123D70\", \"3123D7B\", \"3123D89\", \"3123D58\", \"3123D76\", \"3123D7D\", \"3123EFE\", \"3123D64\", \"3123D78\", \"3123D7E\", \"3124E4A\"], \"domains\": [32, 38, 8, 44, 14, 50, 20, 26], \"num_examples_per_domain_per_label\": 2000, \"pickle_path\": \"/mnt/wd500GB/CSC500/csc500-main/datasets/oracle.Run1_framed_2000Examples_stratified_ds.2022A.pkl\", \"source_or_target_dataset\": \"source\", \"x_transforms\": [], \"episode_transforms\": [], \"domain_prefix\": \"O_\"}], \"seed\": 154325, \"dataset_seed\": 154325, \"x_shape\": [2, 256], \"domains_source\": [\"O_32\", \"O_38\", \"O_8\", \"O_44\", \"O_14\", \"O_50\", \"O_20\", \"O_26\"], \"domains_target\": [\"C_1\", \"C_2\", \"C_3\", \"C_4\", \"C_5\", \"W_1\", \"W_2\", \"W_3\", \"W_4\"]}, \"results\": {\"source_test_label_accuracy\": 0.6108072916666667, \"source_test_label_loss\": 173.23887634277344, \"target_test_label_accuracy\": 0.7930720453318942, \"target_test_label_loss\": 10284.0078125, \"source_val_label_accuracy\": 0.6130533854166667, \"source_val_label_loss\": 174.37115478515625, \"target_val_label_accuracy\": 0.7943725921849202, \"target_val_label_loss\": 9551.7041015625, \"total_epochs_trained\": 5, \"total_experiment_time_secs\": 954.6255147457123, \"confusion\": {\"O_8\": {\"13\": {\"11\": 21, \"10\": 42, \"6\": 23, \"1\": 29, \"7\": 22, \"13\": 47, \"12\": 18, \"5\": 27, \"15\": 6, \"8\": 3, \"4\": 2}, \"9\": {\"9\": 240}, \"15\": {\"2\": 49, \"15\": 89, \"12\": 51, \"13\": 3, \"1\": 3, \"3\": 30, \"5\": 13, \"10\": 2}, \"2\": {\"2\": 74, \"3\": 60, \"13\": 5, \"15\": 59, \"12\": 30, \"5\": 6, \"9\": 1, \"10\": 3, \"1\": 2}, \"3\": {\"2\": 29, \"3\": 185, \"15\": 19, \"9\": 4, \"12\": 3}, \"8\": {\"14\": 69, \"7\": 15, \"8\": 82, \"6\": 24, \"11\": 9, \"4\": 37, \"0\": 1, \"13\": 1, \"1\": 2}, \"5\": {\"11\": 13, \"2\": 28, \"5\": 45, \"1\": 22, \"13\": 23, \"3\": 8, \"12\": 35, \"15\": 35, \"7\": 9, \"10\": 18, \"14\": 1, \"6\": 3}, \"14\": {\"14\": 80, \"8\": 52, \"7\": 14, \"4\": 56, \"6\": 27, \"0\": 2, \"11\": 6, \"13\": 1, \"1\": 2}, \"1\": {\"1\": 56, \"8\": 4, \"12\": 12, \"7\": 16, \"5\": 32, \"11\": 36, \"6\": 17, \"10\": 33, \"4\": 4, \"13\": 27, \"2\": 1, \"15\": 2}, \"0\": {\"14\": 4, \"0\": 230, \"8\": 4, \"4\": 2}, \"10\": {\"10\": 41, \"5\": 42, \"1\": 30, \"15\": 4, \"6\": 12, \"7\": 17, \"4\": 6, \"12\": 15, \"11\": 25, \"13\": 42, \"2\": 2, \"14\": 1, \"8\": 3}, \"6\": {\"7\": 45, \"8\": 29, \"10\": 16, \"13\": 16, \"4\": 33, \"6\": 44, \"1\": 11, \"14\": 19, \"11\": 27}, \"11\": {\"6\": 22, \"1\": 44, \"5\": 28, \"11\": 45, \"7\": 17, \"4\": 13, \"10\": 25, \"13\": 24, \"12\": 8, \"8\": 8, \"15\": 1, \"14\": 5}, \"7\": {\"13\": 19, \"6\": 51, \"5\": 1, \"14\": 21, \"7\": 44, \"11\": 22, \"4\": 33, \"1\": 18, \"8\": 16, \"10\": 15}, \"4\": {\"13\": 5, \"14\": 55, \"6\": 43, \"4\": 52, \"7\": 31, \"8\": 39, \"1\": 4, \"11\": 10, \"10\": 1}, \"12\": {\"13\": 17, \"2\": 22, \"12\": 75, \"10\": 24, \"5\": 18, \"7\": 4, \"15\": 61, \"1\": 11, \"11\": 2, \"3\": 5, \"6\": 1}}, \"O_38\": {\"13\": {\"13\": 233, \"10\": 5, \"0\": 2}, \"12\": {\"12\": 240}, \"2\": {\"2\": 233, \"14\": 7}, \"9\": {\"9\": 240}, \"15\": {\"15\": 236, \"5\": 2, \"1\": 2}, \"5\": {\"5\": 135, \"8\": 68, \"7\": 20, \"9\": 13, \"15\": 3, \"0\": 1}, \"14\": {\"14\": 235, \"2\": 5}, \"0\": {\"8\": 6, \"0\": 125, \"7\": 21, \"10\": 61, \"3\": 5, \"13\": 21, \"5\": 1}, \"3\": {\"0\": 7, \"11\": 5, \"3\": 219, \"10\": 9}, \"1\": {\"1\": 240}, \"11\": {\"11\": 124, \"0\": 3, \"3\": 107, \"10\": 4, \"4\": 2}, \"7\": {\"7\": 234, \"8\": 5, \"5\": 1}, \"8\": {\"8\": 153, \"5\": 55, \"7\": 20, \"0\": 3, \"15\": 5, \"13\": 4}, \"4\": {\"4\": 240}, \"10\": {\"10\": 211, \"0\": 25, \"13\": 4}, \"6\": {\"6\": 240}}, \"O_26\": {\"10\": {\"10\": 169, \"14\": 30, \"15\": 13, \"6\": 10, \"0\": 18}, \"12\": {\"12\": 240}, \"1\": {\"1\": 157, \"10\": 17, \"6\": 10, \"5\": 4, \"14\": 44, \"8\": 4, \"0\": 4}, \"0\": {\"0\": 112, \"10\": 74, \"15\": 5, \"14\": 28, \"8\": 9, \"1\": 10, \"2\": 2}, \"15\": {\"5\": 25, \"15\": 199, \"6\": 14, \"1\": 1, \"10\": 1}, \"13\": {\"9\": 53, \"3\": 32, \"7\": 30, \"13\": 37, \"4\": 19, \"12\": 6, \"2\": 23, \"8\": 38, \"15\": 2}, \"8\": {\"9\": 47, \"0\": 17, \"8\": 116, \"13\": 7, \"3\": 6, \"7\": 18, \"2\": 16, \"10\": 6, \"14\": 1, \"15\": 3, \"1\": 3}, \"3\": {\"3\": 74, \"13\": 40, \"7\": 39, \"4\": 63, \"2\": 10, \"9\": 7, \"8\": 7}, \"11\": {\"11\": 240}, \"4\": {\"3\": 71, \"4\": 145, \"7\": 5, \"13\": 18, \"9\": 1}, \"6\": {\"6\": 231, \"15\": 7, \"10\": 2}, \"7\": {\"13\": 27, \"9\": 40, \"7\": 49, \"2\": 23, \"8\": 68, \"4\": 4, \"0\": 8, \"10\": 4, \"3\": 12, \"14\": 3, \"15\": 2}, \"14\": {\"1\": 28, \"14\": 109, \"10\": 73, \"0\": 25, \"8\": 2, \"15\": 2, \"6\": 1}, \"2\": {\"9\": 35, \"7\": 25, \"2\": 44, \"0\": 13, \"13\": 32, \"15\": 7, \"8\": 67, \"4\": 2, \"3\": 12, \"10\": 3}, \"5\": {\"5\": 215, \"15\": 25}, \"9\": {\"9\": 74, \"12\": 10, \"0\": 5, \"8\": 91, \"7\": 15, \"13\": 18, \"3\": 7, \"2\": 16, \"10\": 3, \"15\": 1}}, \"O_20\": {\"5\": {\"3\": 27, \"0\": 25, \"12\": 4, \"9\": 10, \"8\": 35, \"5\": 44, \"11\": 25, \"1\": 37, \"15\": 19, \"14\": 9, \"2\": 3, \"4\": 2}, \"15\": {\"11\": 3, \"12\": 13, \"15\": 35, \"3\": 22, \"7\": 17, \"5\": 23, \"1\": 44, \"8\": 19, \"2\": 17, \"9\": 19, \"14\": 7, \"6\": 4, \"10\": 1, \"13\": 6, \"4\": 10}, \"9\": {\"14\": 12, \"12\": 22, \"13\": 14, \"7\": 22, \"15\": 26, \"5\": 18, \"2\": 17, \"3\": 26, \"9\": 25, \"4\": 16, \"1\": 20, \"8\": 13, \"6\": 6, \"11\": 2, \"10\": 1}, \"7\": {\"12\": 27, \"13\": 31, \"9\": 25, \"7\": 32, \"14\": 8, \"2\": 31, \"3\": 6, \"6\": 25, \"10\": 9, \"4\": 17, \"15\": 14, \"8\": 5, \"1\": 9, \"5\": 1}, \"3\": {\"15\": 16, \"3\": 25, \"12\": 11, \"2\": 9, \"1\": 40, \"5\": 40, \"7\": 11, \"8\": 31, \"14\": 15, \"9\": 26, \"0\": 5, \"13\": 1, \"4\": 4, \"10\": 1, \"11\": 2, \"6\": 3}, \"8\": {\"8\": 53, \"3\": 27, \"7\": 5, \"1\": 27, \"5\": 49, \"14\": 18, \"12\": 9, \"11\": 16, \"4\": 5, \"9\": 11, \"15\": 10, \"0\": 8, \"13\": 2}, \"4\": {\"4\": 45, \"6\": 23, \"14\": 16, \"13\": 21, \"2\": 21, \"7\": 35, \"12\": 27, \"15\": 11, \"9\": 11, \"8\": 6, \"10\": 13, \"1\": 5, \"3\": 5, \"5\": 1}, \"6\": {\"7\": 26, \"10\": 72, \"9\": 5, \"13\": 19, \"6\": 61, \"14\": 8, \"2\": 19, \"12\": 13, \"4\": 13, \"3\": 2, \"5\": 1, \"1\": 1}, \"2\": {\"9\": 18, \"6\": 19, \"7\": 31, \"3\": 14, \"5\": 6, \"15\": 16, \"13\": 25, \"12\": 34, \"2\": 27, \"10\": 15, \"4\": 14, \"1\": 12, \"14\": 4, \"8\": 5}, \"12\": {\"3\": 12, \"12\": 39, \"4\": 25, \"1\": 20, \"7\": 13, \"14\": 13, \"2\": 28, \"9\": 18, \"15\": 20, \"5\": 11, \"6\": 12, \"13\": 18, \"10\": 8, \"8\": 3}, \"0\": {\"0\": 203, \"8\": 8, \"5\": 12, \"11\": 12, \"1\": 4, \"3\": 1}, \"13\": {\"12\": 28, \"15\": 3, \"13\": 45, \"2\": 43, \"5\": 2, \"10\": 34, \"9\": 12, \"6\": 23, \"4\": 13, \"7\": 27, \"3\": 5, \"14\": 2, \"1\": 2, \"8\": 1}, \"10\": {\"10\": 141, \"6\": 56, \"13\": 14, \"2\": 6, \"7\": 9, \"12\": 5, \"4\": 9}, \"11\": {\"11\": 106, \"3\": 20, \"15\": 10, \"7\": 3, \"0\": 26, \"1\": 13, \"8\": 24, \"2\": 3, \"5\": 23, \"9\": 10, \"14\": 2}, \"14\": {\"4\": 22, \"14\": 42, \"12\": 23, \"7\": 20, \"9\": 20, \"15\": 11, \"13\": 4, \"8\": 23, \"6\": 12, \"2\": 15, \"3\": 22, \"0\": 2, \"5\": 9, \"10\": 6, \"1\": 9}, \"1\": {\"5\": 32, \"1\": 39, \"2\": 9, \"7\": 9, \"14\": 14, \"15\": 26, \"3\": 25, \"13\": 4, \"9\": 16, \"11\": 15, \"8\": 30, \"12\": 10, \"0\": 5, \"4\": 5, \"6\": 1}}, \"O_50\": {\"1\": {\"1\": 240}, \"2\": {\"2\": 237, \"0\": 3}, \"8\": {\"8\": 239, \"10\": 1}, \"7\": {\"7\": 230, \"6\": 2, \"5\": 6, \"4\": 1, \"3\": 1}, \"14\": {\"14\": 240}, \"6\": {\"6\": 201, \"5\": 38, \"15\": 1}, \"3\": {\"3\": 240}, \"4\": {\"4\": 204, \"5\": 16, \"6\": 1, \"15\": 7, \"7\": 12}, \"12\": {\"12\": 236, \"9\": 4}, \"15\": {\"15\": 235, \"6\": 3, \"5\": 1, \"11\": 1}, \"11\": {\"11\": 236, \"15\": 1, \"12\": 2, \"9\": 1}, \"0\": {\"0\": 228, \"2\": 11, \"10\": 1}, \"9\": {\"12\": 20, \"9\": 219, \"11\": 1}, \"10\": {\"10\": 235, \"0\": 1, \"8\": 4}, \"5\": {\"6\": 36, \"1\": 4, \"4\": 12, \"5\": 111, \"7\": 60, \"13\": 10, \"15\": 7}, \"13\": {\"13\": 240}}, \"O_32\": {\"2\": {\"2\": 214, \"4\": 26}, \"6\": {\"6\": 240}, \"5\": {\"7\": 51, \"0\": 75, \"15\": 15, \"5\": 59, \"14\": 10, \"8\": 29, \"13\": 1}, \"12\": {\"12\": 240}, \"13\": {\"14\": 37, \"13\": 75, \"4\": 99, \"5\": 2, \"11\": 3, \"3\": 18, \"2\": 2, \"8\": 2, \"15\": 1, \"7\": 1}, \"9\": {\"9\": 240}, \"11\": {\"11\": 213, \"3\": 24, \"13\": 3}, \"1\": {\"1\": 238, \"10\": 2}, \"3\": {\"3\": 163, \"13\": 13, \"14\": 27, \"11\": 28, \"15\": 3, \"5\": 5, \"7\": 1}, \"7\": {\"7\": 136, \"5\": 24, \"0\": 64, \"15\": 2, \"13\": 3, \"14\": 8, \"8\": 3}, \"14\": {\"7\": 81, \"15\": 8, \"14\": 49, \"3\": 39, \"0\": 17, \"13\": 17, \"8\": 7, \"11\": 1, \"4\": 5, \"5\": 15, \"2\": 1}, \"8\": {\"8\": 164, \"0\": 51, \"5\": 11, \"15\": 7, \"14\": 5, \"7\": 1, \"13\": 1}, \"4\": {\"4\": 198, \"2\": 35, \"14\": 1, \"7\": 1, \"13\": 5}, \"0\": {\"0\": 187, \"5\": 11, \"7\": 31, \"14\": 2, \"8\": 8, \"4\": 1}, \"10\": {\"10\": 236, \"1\": 1, \"6\": 1, \"12\": 2}, \"15\": {\"15\": 141, \"3\": 14, \"5\": 25, \"8\": 47, \"14\": 13}}, \"O_44\": {\"13\": {\"13\": 192, \"6\": 41, \"9\": 7}, \"4\": {\"4\": 156, \"14\": 80, \"15\": 3, \"5\": 1}, \"6\": {\"6\": 197, \"13\": 34, \"9\": 9}, \"0\": {\"0\": 226, \"8\": 14}, \"10\": {\"10\": 87, \"2\": 63, \"1\": 54, \"12\": 15, \"7\": 21}, \"7\": {\"7\": 224, \"9\": 16}, \"14\": {\"14\": 175, \"4\": 57, \"5\": 3, \"15\": 5}, \"15\": {\"14\": 6, \"15\": 224, \"0\": 3, \"8\": 4, \"5\": 3}, \"5\": {\"5\": 227, \"15\": 7, \"14\": 5, \"8\": 1}, \"2\": {\"2\": 142, \"7\": 53, \"1\": 17, \"10\": 28}, \"9\": {\"7\": 75, \"9\": 122, \"13\": 20, \"6\": 23}, \"12\": {\"1\": 36, \"12\": 144, \"3\": 24, \"10\": 33, \"2\": 3}, \"8\": {\"8\": 163, \"0\": 70, \"15\": 3, \"5\": 4}, \"3\": {\"3\": 240}, \"1\": {\"1\": 71, \"2\": 46, \"3\": 34, \"12\": 10, \"10\": 72, \"7\": 7}, \"11\": {\"11\": 240}}, \"O_14\": {\"1\": {\"1\": 205, \"11\": 17, \"4\": 18}, \"15\": {\"15\": 234, \"0\": 3, \"13\": 2, \"3\": 1}, \"10\": {\"10\": 95, \"4\": 36, \"2\": 36, \"9\": 31, \"14\": 6, \"1\": 2, \"5\": 30, \"7\": 2, \"8\": 1, \"13\": 1}, \"2\": {\"8\": 11, \"6\": 9, \"5\": 49, \"9\": 9, \"2\": 43, \"14\": 26, \"10\": 16, \"4\": 35, \"13\": 13, \"3\": 11, \"7\": 14, \"12\": 1, \"1\": 1, \"0\": 2}, \"9\": {\"3\": 11, \"10\": 35, \"9\": 102, \"14\": 14, \"8\": 35, \"2\": 14, \"5\": 8, \"0\": 8, \"7\": 1, \"6\": 4, \"13\": 3, \"4\": 5}, \"5\": {\"4\": 37, \"5\": 79, \"7\": 48, \"2\": 39, \"9\": 3, \"10\": 11, \"14\": 7, \"6\": 4, \"8\": 4, \"13\": 8}, \"7\": {\"5\": 55, \"7\": 106, \"4\": 48, \"2\": 23, \"14\": 4, \"1\": 2, \"9\": 1, \"10\": 1}, \"13\": {\"3\": 22, \"6\": 40, \"13\": 30, \"15\": 25, \"14\": 34, \"2\": 23, \"5\": 9, \"10\": 8, \"12\": 13, \"4\": 7, \"7\": 2, \"0\": 12, \"8\": 11, \"9\": 4}, \"8\": {\"3\": 46, \"14\": 40, \"8\": 74, \"13\": 12, \"5\": 8, \"12\": 4, \"0\": 19, \"6\": 20, \"2\": 11, \"9\": 5, \"7\": 1}, \"6\": {\"0\": 24, \"3\": 46, \"14\": 45, \"13\": 39, \"6\": 35, \"12\": 12, \"5\": 8, \"15\": 2, \"2\": 17, \"10\": 1, \"8\": 9, \"9\": 1, \"7\": 1}, \"3\": {\"0\": 44, \"6\": 32, \"13\": 24, \"3\": 61, \"14\": 20, \"8\": 25, \"12\": 31, \"2\": 1, \"9\": 1, \"15\": 1}, \"12\": {\"0\": 32, \"12\": 173, \"15\": 26, \"13\": 2, \"8\": 1, \"3\": 6}, \"0\": {\"0\": 69, \"13\": 10, \"14\": 16, \"12\": 77, \"2\": 4, \"8\": 20, \"6\": 15, \"3\": 23, \"15\": 5, \"9\": 1}, \"4\": {\"4\": 133, \"5\": 33, \"10\": 25, \"7\": 23, \"1\": 13, \"2\": 13}, \"14\": {\"8\": 32, \"14\": 70, \"3\": 23, \"6\": 39, \"5\": 6, \"0\": 9, \"9\": 6, \"2\": 28, \"13\": 21, \"10\": 3, \"7\": 3}, \"11\": {\"11\": 190, \"1\": 48, \"4\": 2}}, \"C_2\": {\"21\": {\"21\": 114, \"40\": 6}, \"4\": {\"4\": 126, \"9\": 2, \"30\": 2}, \"6\": {\"6\": 100, \"3\": 15, \"45\": 5, \"46\": 2, \"50\": 1, \"44\": 1}, \"10\": {\"10\": 112}, \"33\": {\"33\": 15, \"14\": 1, \"36\": 5, \"13\": 2, \"29\": 1, \"35\": 1, \"57\": 2, \"2\": 1}, \"56\": {\"56\": 111, \"0\": 2, \"22\": 5, \"52\": 1, \"30\": 1, \"47\": 1, \"57\": 1}, \"20\": {\"20\": 97, \"8\": 19, \"27\": 4, \"9\": 7, \"29\": 1, \"48\": 4}, \"24\": {\"24\": 94, \"43\": 2}, \"45\": {\"45\": 98, \"3\": 5, \"6\": 13, \"5\": 1, \"46\": 2, \"50\": 7, \"44\": 2}, \"32\": {\"32\": 22, \"31\": 1, \"39\": 1, \"38\": 2, \"2\": 2}, \"27\": {\"27\": 147, \"8\": 1}, \"53\": {\"53\": 136}, \"8\": {\"27\": 21, \"8\": 114, \"20\": 19, \"9\": 4, \"48\": 2}, \"54\": {\"54\": 108}, \"50\": {\"6\": 4, \"44\": 13, \"50\": 94, \"21\": 2, \"12\": 2, \"46\": 12, \"3\": 4, \"40\": 2, \"5\": 1}, \"44\": {\"44\": 76, \"6\": 7, \"50\": 6, \"3\": 5, \"5\": 3, \"46\": 3}, \"5\": {\"5\": 104, \"46\": 6, \"40\": 2, \"6\": 1, \"3\": 1, \"44\": 4, \"50\": 1, \"21\": 1}, \"38\": {\"38\": 19, \"13\": 1}, \"19\": {\"19\": 130, \"28\": 1, \"49\": 1}, \"1\": {\"1\": 77, \"29\": 15, \"48\": 4, \"47\": 8, \"57\": 8}, \"30\": {\"30\": 132, \"52\": 3, \"4\": 4, \"40\": 2, \"0\": 3}, \"15\": {\"15\": 116, \"16\": 19, \"11\": 9}, \"23\": {\"54\": 8, \"23\": 114, \"19\": 10, \"49\": 2, \"53\": 5, \"43\": 4, \"42\": 1, \"24\": 2}, \"35\": {\"35\": 23, \"55\": 1, \"36\": 3, \"17\": 2, \"23\": 1, \"33\": 1, \"51\": 1}, \"22\": {\"22\": 122, \"56\": 2, \"0\": 1, \"52\": 2, \"30\": 1}, \"40\": {\"40\": 121, \"30\": 4, \"21\": 4, \"5\": 1, \"46\": 6, \"12\": 2, \"50\": 2}, \"46\": {\"46\": 86, \"21\": 5, \"5\": 10, \"44\": 8, \"50\": 10, \"40\": 3, \"6\": 3, \"0\": 1}, \"3\": {\"3\": 65, \"6\": 8, \"44\": 11, \"50\": 3, \"45\": 2, \"46\": 3}, \"48\": {\"48\": 117, \"9\": 13, \"57\": 4, \"47\": 7, \"52\": 1, \"1\": 1, \"8\": 1, \"29\": 4}, \"52\": {\"52\": 122, \"9\": 2}, \"2\": {\"2\": 30, \"33\": 2}, \"26\": {\"26\": 20, \"49\": 1, \"23\": 1, \"7\": 1, \"53\": 1}, \"17\": {\"17\": 102, \"35\": 2}, \"55\": {\"17\": 9, \"55\": 116, \"31\": 1, \"43\": 6, \"7\": 4, \"37\": 3, \"36\": 1, \"54\": 1, \"23\": 2, \"51\": 1}, \"51\": {\"51\": 112, \"36\": 10}, \"42\": {\"42\": 32, \"7\": 1, \"39\": 1, \"55\": 2}, \"41\": {\"41\": 13, \"9\": 1, \"13\": 2, \"2\": 1, \"32\": 2, \"21\": 1}, \"31\": {\"31\": 24, \"43\": 3, \"37\": 1}, \"16\": {\"15\": 25, \"16\": 109, \"11\": 4}, \"36\": {\"36\": 111, \"55\": 1, \"51\": 3, \"32\": 1}, \"49\": {\"49\": 14, \"7\": 1, \"55\": 2, \"39\": 1, \"23\": 3, \"53\": 1, \"19\": 1, \"35\": 1}, \"0\": {\"0\": 48}, \"18\": {\"18\": 48}, \"25\": {\"25\": 108, \"15\": 19, \"11\": 4, \"16\": 14, \"10\": 1}, \"9\": {\"9\": 113, \"48\": 5, \"47\": 1, \"20\": 2, \"8\": 1}, \"47\": {\"47\": 98, \"29\": 8, \"1\": 5, \"57\": 15, \"52\": 2, \"48\": 2, \"9\": 2}, \"7\": {\"7\": 22, \"42\": 4, \"39\": 2, \"53\": 2, \"24\": 1, \"34\": 1, \"37\": 3, \"55\": 1}, \"37\": {\"7\": 2, \"37\": 32, \"55\": 1, \"33\": 1}, \"13\": {\"13\": 113, \"14\": 1, \"29\": 2}, \"14\": {\"14\": 20, \"41\": 1, \"29\": 1, \"13\": 1, \"57\": 1}, \"34\": {\"25\": 2, \"34\": 18, \"49\": 4, \"53\": 2, \"19\": 2}, \"57\": {\"57\": 125, \"1\": 6, \"29\": 6, \"47\": 2, \"48\": 1}, \"11\": {\"15\": 14, \"11\": 104, \"25\": 3, \"16\": 16, \"10\": 1}, \"39\": {\"39\": 23, \"13\": 2, \"2\": 1, \"55\": 2}, \"12\": {\"12\": 67, \"44\": 3, \"46\": 3, \"21\": 3, \"50\": 9, \"45\": 1, \"30\": 1, \"40\": 4, \"3\": 1}, \"28\": {\"28\": 28}, \"29\": {\"29\": 101, \"57\": 11, \"1\": 4, \"48\": 2, \"13\": 1, \"8\": 1, \"20\": 2, \"52\": 2, \"47\": 3, \"38\": 1}, \"43\": {\"43\": 134, \"11\": 1, \"15\": 1, \"55\": 1, \"24\": 1, \"23\": 2}}, \"W_2\": {\"56\": {\"56\": 7, \"49\": 2, \"34\": 2, \"68\": 1}, \"12\": {\"12\": 61, \"60\": 1, \"105\": 1, \"93\": 2, \"106\": 8, \"78\": 2, \"7\": 6, \"40\": 2, \"74\": 2, \"62\": 1, \"88\": 1, \"70\": 1}, \"15\": {\"15\": 96, \"122\": 2, \"110\": 2, \"106\": 1, \"94\": 3, \"0\": 9, \"78\": 1, \"70\": 1, \"88\": 1}, \"26\": {\"12\": 2, \"26\": 103, \"110\": 2, \"31\": 1, \"16\": 2, \"93\": 7, \"69\": 3, \"24\": 2, \"3\": 1, \"18\": 4, \"21\": 1, \"14\": 1, \"88\": 1, \"7\": 2}, \"82\": {\"73\": 3, \"82\": 17, \"45\": 3, \"46\": 1, \"91\": 1, \"42\": 2, \"99\": 1, \"64\": 1, \"17\": 1, \"53\": 2, \"92\": 1, \"19\": 1, \"90\": 2}, \"9\": {\"9\": 24, \"49\": 1, \"128\": 1, \"107\": 2, \"58\": 1, \"34\": 1, \"51\": 1, \"71\": 1}, \"49\": {\"20\": 1, \"9\": 2, \"49\": 14, \"76\": 1, \"29\": 1, \"75\": 1, \"33\": 1, \"128\": 3}, \"55\": {\"47\": 1, \"82\": 1, \"55\": 8, \"120\": 1, \"92\": 1, \"63\": 1, \"34\": 1, \"81\": 2}, \"102\": {\"102\": 123, \"48\": 1}, \"85\": {\"85\": 17, \"73\": 2, \"37\": 3, \"19\": 1, \"66\": 1, \"81\": 1, \"67\": 2, \"91\": 2, \"42\": 2, \"75\": 1}, \"73\": {\"73\": 18, \"28\": 1, \"112\": 3, \"91\": 1, \"17\": 1, \"103\": 1, \"46\": 2, \"52\": 1}, \"47\": {\"20\": 1, \"47\": 6, \"27\": 1, \"128\": 3, \"83\": 1}, \"20\": {\"49\": 1, \"20\": 7, \"100\": 1, \"92\": 1, \"75\": 1, \"18\": 2, \"88\": 1, \"83\": 1, \"33\": 1}, \"117\": {\"117\": 100, \"22\": 1, \"124\": 2, \"21\": 2, \"44\": 2, \"111\": 5, \"116\": 2, \"19\": 1, \"39\": 1}, \"122\": {\"15\": 3, \"122\": 93, \"21\": 1, \"8\": 11, \"43\": 4, \"36\": 4, \"30\": 7, \"88\": 1, \"0\": 2, \"118\": 1, \"105\": 2, \"87\": 1, \"70\": 1, \"113\": 1, \"11\": 4, \"108\": 1, \"39\": 1, \"24\": 2}, \"113\": {\"113\": 54, \"122\": 4, \"12\": 1, \"118\": 2, \"26\": 2, \"105\": 1, \"90\": 1, \"11\": 1, \"97\": 2, \"121\": 1, \"16\": 1, \"15\": 2}, \"87\": {\"122\": 2, \"126\": 5, \"87\": 74, \"118\": 2, \"108\": 6, \"30\": 1, \"43\": 9, \"109\": 3, \"1\": 1, \"88\": 1, \"8\": 2, \"11\": 3, \"27\": 1, \"21\": 1, \"24\": 1}, \"21\": {\"21\": 45, \"78\": 2, \"88\": 1}, \"106\": {\"106\": 95, \"26\": 2, \"24\": 2, \"127\": 6, \"101\": 5, \"70\": 2, \"12\": 3, \"7\": 2, \"40\": 1, \"105\": 1, \"21\": 1}, \"3\": {\"3\": 102, \"128\": 1, \"71\": 10, \"40\": 6, \"127\": 3, \"88\": 1, \"1\": 5, \"69\": 2, \"16\": 1, \"24\": 2, \"106\": 2, \"39\": 1}, \"126\": {\"126\": 93, \"108\": 2, \"87\": 4, \"10\": 4, \"27\": 1, \"39\": 3, \"24\": 2, \"109\": 5, \"16\": 1, \"30\": 2, \"88\": 2, \"43\": 1}, \"41\": {\"73\": 1, \"41\": 9, \"37\": 2, \"66\": 1, \"50\": 1, \"65\": 1, \"129\": 1, \"5\": 1, \"86\": 1, \"124\": 1, \"91\": 1}, \"76\": {\"3\": 1, \"76\": 7, \"53\": 1, \"61\": 1, \"28\": 1, \"14\": 1, \"99\": 1, \"33\": 1, \"77\": 1, \"38\": 1}, \"60\": {\"60\": 15, \"84\": 1, \"16\": 2, \"110\": 2, \"8\": 1, \"97\": 2, \"62\": 3, \"23\": 1, \"26\": 1}, \"94\": {\"94\": 30, \"88\": 1, \"109\": 1, \"108\": 1, \"122\": 3, \"11\": 2, \"30\": 3, \"24\": 2, \"36\": 3, \"15\": 6, \"0\": 2, \"126\": 1, \"105\": 3, \"124\": 1, \"106\": 1, \"110\": 1, \"8\": 1, \"118\": 1, \"12\": 1}, \"50\": {\"50\": 7, \"31\": 1, \"20\": 1, \"57\": 1, \"28\": 1, \"55\": 1, \"38\": 1, \"73\": 1, \"91\": 2}, \"97\": {\"97\": 16, \"94\": 1, \"7\": 1, \"106\": 1, \"12\": 1}, \"115\": {\"115\": 12}, \"38\": {\"38\": 12, \"100\": 2, \"92\": 1, \"77\": 1}, \"43\": {\"43\": 82, \"70\": 1, \"94\": 3, \"126\": 4, \"87\": 11, \"108\": 4, \"0\": 1, \"39\": 1, \"62\": 1, \"88\": 1, \"30\": 2, \"36\": 3, \"118\": 1, \"11\": 3, \"122\": 2, \"78\": 1, \"15\": 2, \"109\": 1}, \"67\": {\"63\": 3, \"45\": 1, \"17\": 1, \"102\": 1, \"68\": 2, \"5\": 3, \"85\": 1, \"124\": 1, \"73\": 3}, \"18\": {\"18\": 88, \"3\": 3, \"72\": 2, \"84\": 6, \"21\": 2, \"69\": 11, \"1\": 5, \"10\": 2, \"40\": 2, \"39\": 1, \"78\": 1, \"127\": 2, \"26\": 1, \"33\": 1, \"88\": 1}, \"23\": {\"23\": 17, \"16\": 1, \"93\": 1, \"26\": 2, \"69\": 3, \"60\": 1, \"11\": 1, \"105\": 3, \"0\": 4, \"15\": 1, \"84\": 2, \"122\": 1, \"62\": 1, \"7\": 1, \"72\": 1, \"118\": 1, \"94\": 2, \"106\": 1}, \"63\": {\"63\": 13, \"20\": 2, \"117\": 1, \"99\": 1, \"91\": 1, \"120\": 2}, \"127\": {\"127\": 111, \"10\": 1, \"33\": 2, \"101\": 2, \"5\": 1, \"121\": 1, \"71\": 1, \"93\": 2, \"40\": 1, \"88\": 1, \"111\": 1}, \"72\": {\"72\": 20, \"84\": 1, \"71\": 4, \"27\": 1, \"98\": 1, \"83\": 1}, \"128\": {\"47\": 2, \"34\": 2, \"128\": 12, \"49\": 2, \"89\": 2, \"54\": 2, \"121\": 1, \"109\": 1}, \"7\": {\"7\": 107, \"88\": 2, \"110\": 1, \"12\": 8, \"106\": 3, \"3\": 2, \"105\": 1, \"93\": 1, \"60\": 1, \"10\": 1, \"109\": 1}, \"108\": {\"108\": 99, \"43\": 7, \"36\": 5, \"30\": 7, \"87\": 5, \"8\": 2, \"122\": 3, \"94\": 2, \"11\": 1, \"27\": 1, \"126\": 2}, \"16\": {\"16\": 58, \"23\": 7, \"93\": 10, \"26\": 3, \"18\": 2, \"105\": 5, \"62\": 7, \"88\": 2, \"106\": 1, \"0\": 2, \"70\": 1, \"108\": 1, \"115\": 1, \"96\": 1, \"84\": 1, \"122\": 2, \"7\": 2, \"69\": 1, \"30\": 1, \"27\": 1, \"14\": 1, \"8\": 1, \"21\": 2, \"39\": 1}, \"29\": {\"29\": 24, \"91\": 4, \"90\": 1, \"17\": 2, \"73\": 1}, \"61\": {\"61\": 9, \"82\": 2, \"83\": 2, \"29\": 1, \"95\": 1, \"66\": 1, \"44\": 1, \"53\": 1, \"126\": 1, \"31\": 1}, \"104\": {\"29\": 1, \"104\": 13, \"46\": 3, \"68\": 1, \"59\": 1, \"91\": 1}, \"120\": {\"124\": 1, \"120\": 14, \"66\": 1, \"119\": 1, \"90\": 2, \"91\": 1}, \"124\": {\"124\": 98, \"104\": 1, \"86\": 4, \"91\": 1, \"5\": 9, \"111\": 7, \"42\": 2, \"22\": 1, \"41\": 1}, \"34\": {\"34\": 13, \"100\": 1, \"31\": 1, \"54\": 1, \"58\": 1, \"95\": 1, \"107\": 1, \"89\": 1, \"110\": 1, \"14\": 1, \"83\": 3, \"53\": 2, \"128\": 1, \"49\": 1, \"33\": 1, \"19\": 1, \"32\": 1}, \"84\": {\"84\": 63, \"49\": 1, \"101\": 1, \"47\": 1, \"127\": 4, \"40\": 5, \"30\": 1, \"93\": 2, \"109\": 1, \"1\": 1, \"126\": 1, \"69\": 4, \"62\": 3, \"26\": 1, \"3\": 2, \"16\": 1}, \"103\": {\"104\": 1, \"124\": 2, \"41\": 1, \"103\": 8, \"68\": 2, \"111\": 1, \"25\": 1}, \"100\": {\"120\": 1, \"61\": 1, \"100\": 6, \"34\": 2, \"92\": 1, \"33\": 1, \"103\": 1, \"72\": 1, \"18\": 1, \"121\": 1}, \"40\": {\"71\": 11, \"101\": 3, \"40\": 55, \"24\": 1, \"3\": 14, \"93\": 2, \"12\": 3, \"95\": 4, \"114\": 1, \"127\": 13, \"70\": 1, \"26\": 2, \"107\": 2, \"21\": 2, \"39\": 3, \"1\": 9, \"88\": 3, \"62\": 3, \"14\": 3, \"84\": 3, \"106\": 1, \"69\": 1}, \"35\": {\"35\": 11, \"7\": 1}, \"96\": {\"96\": 8, \"47\": 1, \"84\": 1, \"26\": 2, \"16\": 5, \"31\": 2, \"72\": 1}, \"101\": {\"101\": 101, \"26\": 2, \"12\": 1, \"106\": 4, \"127\": 3, \"114\": 1, \"93\": 3, \"3\": 1, \"40\": 3, \"5\": 1}, \"71\": {\"71\": 79, \"3\": 8, \"24\": 1, \"14\": 2, \"40\": 6, \"10\": 1, \"44\": 1, \"78\": 1, \"70\": 1}, \"81\": {\"81\": 12, \"74\": 1, \"82\": 3, \"65\": 2, \"83\": 1, \"121\": 3, \"102\": 1, \"91\": 1}, \"74\": {\"35\": 2, \"36\": 1, \"74\": 1, \"3\": 4, \"44\": 1, \"71\": 1, \"47\": 1, \"14\": 2, \"122\": 1, \"18\": 2}, \"119\": {\"37\": 2, \"119\": 2, \"116\": 1, \"46\": 1, \"38\": 1, \"85\": 1, \"117\": 1, \"80\": 2, \"111\": 1, \"13\": 2, \"67\": 1, \"22\": 1, \"42\": 4}, \"5\": {\"5\": 84, \"41\": 2, \"42\": 4, \"43\": 1, \"124\": 10, \"129\": 1, \"109\": 1, \"24\": 1, \"111\": 3, \"126\": 1, \"117\": 4}, \"68\": {\"68\": 11, \"90\": 2, \"89\": 1, \"50\": 2}, \"37\": {\"109\": 1, \"37\": 9, \"41\": 2, \"85\": 2, \"91\": 1, \"48\": 1}, \"58\": {\"9\": 4, \"58\": 11, \"44\": 1, \"34\": 2, \"49\": 1, \"38\": 1}, \"109\": {\"109\": 75, \"78\": 4, \"70\": 3, \"39\": 6, \"24\": 3, \"88\": 6, \"10\": 3}, \"107\": {\"107\": 37, \"3\": 1, \"94\": 2, \"36\": 1, \"61\": 1, \"118\": 1, \"95\": 1, \"7\": 1, \"44\": 5, \"114\": 6, \"74\": 1, \"51\": 1, \"75\": 1, \"92\": 2, \"33\": 1, \"1\": 2}, \"13\": {\"115\": 2, \"13\": 7, \"109\": 1, \"129\": 1, \"118\": 1, \"125\": 2, \"111\": 1, \"24\": 1}, \"52\": {\"77\": 1, \"58\": 1, \"52\": 13, \"41\": 1, \"98\": 1, \"75\": 1, \"83\": 1, \"119\": 1}, \"77\": {\"77\": 11, \"17\": 1, \"22\": 1, \"91\": 3}, \"95\": {\"35\": 1, \"95\": 22, \"31\": 1, \"3\": 2, \"32\": 2, \"1\": 2, \"107\": 1, \"40\": 2, \"72\": 1, \"47\": 1, \"49\": 1}, \"44\": {\"44\": 90, \"68\": 2, \"114\": 3, \"33\": 1, \"61\": 1, \"1\": 2, \"107\": 1}, \"88\": {\"88\": 89, \"70\": 12, \"109\": 10, \"21\": 1, \"78\": 3, \"27\": 1, \"39\": 3, \"24\": 2, \"126\": 1}, \"91\": {\"91\": 13, \"111\": 1, \"73\": 1, \"112\": 2, \"29\": 3, \"104\": 1, \"124\": 2, \"17\": 1, \"126\": 1, \"77\": 1, \"85\": 2}, \"93\": {\"93\": 77, \"8\": 2, \"110\": 1, \"105\": 8, \"26\": 3, \"23\": 3, \"14\": 3, \"62\": 18, \"7\": 6, \"21\": 1, \"18\": 3, \"84\": 2, \"16\": 3, \"0\": 2, \"97\": 1, \"109\": 1, \"70\": 2, \"114\": 1, \"122\": 1}, \"8\": {\"8\": 59, \"122\": 12, \"94\": 2, \"15\": 6, \"118\": 1, \"87\": 3, \"36\": 9, \"11\": 7, \"26\": 2, \"105\": 2, \"43\": 2, \"69\": 1, \"30\": 7, \"0\": 5, \"62\": 1, \"110\": 2, \"97\": 1, \"23\": 1, \"60\": 1}, \"1\": {\"1\": 84, \"58\": 1, \"33\": 3, \"114\": 2, \"71\": 6, \"24\": 2, \"3\": 7, \"40\": 5, \"36\": 1, \"39\": 1, \"69\": 2}, \"45\": {\"73\": 2, \"21\": 1, \"45\": 12, \"112\": 1}, \"111\": {\"111\": 109, \"22\": 1, \"124\": 7, \"24\": 1, \"102\": 2, \"5\": 3, \"46\": 1, \"21\": 1, \"125\": 1}, \"116\": {\"116\": 21, \"119\": 1, \"104\": 2, \"129\": 1, \"42\": 1, \"67\": 1, \"65\": 1}, \"48\": {\"48\": 8, \"13\": 1, \"17\": 2, \"79\": 1, \"125\": 1, \"102\": 2, \"42\": 1, \"2\": 2, \"117\": 1, \"86\": 1}, \"57\": {\"57\": 10, \"46\": 1, \"78\": 1, \"90\": 1, \"92\": 1, \"112\": 1, \"88\": 1, \"99\": 2, \"85\": 2}, \"10\": {\"10\": 43, \"126\": 10, \"24\": 1, \"109\": 3, \"87\": 1, \"27\": 2}, \"129\": {\"129\": 27, \"22\": 2, \"42\": 1, \"5\": 1, \"111\": 1}, \"98\": {\"98\": 103, \"107\": 3, \"88\": 1, \"24\": 1, \"103\": 2, \"38\": 1, \"90\": 1, \"44\": 1, \"19\": 1, \"109\": 1, \"33\": 1, \"16\": 2}, \"65\": {\"65\": 16, \"73\": 1, \"109\": 1, \"102\": 1, \"2\": 1}, \"6\": {\"6\": 26, \"111\": 1, \"124\": 2, \"91\": 1, \"59\": 1, \"25\": 1}, \"75\": {\"49\": 2, \"3\": 1, \"55\": 1, \"75\": 6, \"10\": 1, \"32\": 1, \"54\": 2, \"52\": 1, \"128\": 1}, \"14\": {\"14\": 27, \"3\": 6, \"78\": 2, \"64\": 2, \"127\": 2, \"1\": 2, \"72\": 3, \"84\": 2, \"33\": 1, \"71\": 1}, \"30\": {\"30\": 71, \"36\": 10, \"0\": 1, \"122\": 6, \"27\": 1, \"8\": 8, \"70\": 1, \"88\": 1, \"126\": 1, \"108\": 5, \"39\": 3, \"94\": 1, \"43\": 3}, \"83\": {\"83\": 32, \"49\": 1, \"34\": 1, \"20\": 1, \"100\": 3, \"32\": 1, \"44\": 1}, \"69\": {\"69\": 111, \"84\": 1, \"18\": 5, \"14\": 1, \"40\": 2, \"109\": 1, \"24\": 1, \"3\": 2, \"72\": 2, \"126\": 1, \"88\": 1}, \"125\": {\"125\": 141, \"119\": 1, \"86\": 1, \"5\": 1, \"4\": 1, \"98\": 1}, \"31\": {\"31\": 8, \"74\": 1, \"66\": 1, \"33\": 1, \"100\": 1, \"45\": 1, \"58\": 1, \"61\": 2, \"107\": 2, \"114\": 1, \"117\": 1}, \"118\": {\"87\": 2, \"118\": 53, \"23\": 2, \"60\": 1, \"122\": 2, \"11\": 4, \"113\": 1, \"105\": 2, \"21\": 1}, \"53\": {\"92\": 2, \"19\": 4, \"49\": 1, \"53\": 4, \"89\": 1, \"61\": 1, \"81\": 1, \"58\": 2}, \"54\": {\"34\": 1, \"54\": 9, \"51\": 2, \"83\": 2, \"61\": 2, \"22\": 1, \"53\": 1, \"116\": 1, \"128\": 1}, \"92\": {\"31\": 2, \"92\": 9, \"20\": 1, \"75\": 2, \"32\": 1, \"19\": 3, \"107\": 2, \"55\": 2, \"66\": 2, \"33\": 2, \"58\": 2}, \"19\": {\"53\": 1, \"19\": 25, \"81\": 1, \"98\": 1}, \"27\": {\"27\": 36, \"11\": 2, \"94\": 2, \"122\": 2, \"15\": 1, \"126\": 7, \"87\": 2, \"36\": 3, \"108\": 6, \"30\": 4, \"10\": 1, \"8\": 1, \"43\": 1}, \"17\": {\"17\": 7, \"21\": 1, \"43\": 1, \"79\": 1, \"111\": 2, \"129\": 1, \"125\": 2, \"6\": 1}, \"4\": {\"4\": 85, \"24\": 1, \"125\": 2}, \"36\": {\"27\": 2, \"94\": 2, \"36\": 81, \"122\": 9, \"23\": 1, \"15\": 1, \"87\": 1, \"88\": 3, \"11\": 4, \"127\": 1, \"30\": 12, \"24\": 1, \"98\": 1, \"8\": 2, \"108\": 5, \"70\": 1, \"43\": 1}, \"90\": {\"120\": 2, \"90\": 125, \"19\": 1, \"77\": 2, \"65\": 1, \"98\": 1, \"28\": 1, \"38\": 1, \"99\": 2}, \"64\": {\"64\": 8, \"90\": 1, \"19\": 1, \"63\": 1, \"82\": 2, \"28\": 1, \"24\": 1, \"37\": 1}, \"66\": {\"90\": 3, \"66\": 11, \"82\": 2, \"100\": 2, \"103\": 1, \"98\": 1}, \"46\": {\"119\": 1, \"46\": 10, \"45\": 2, \"109\": 1, \"59\": 1, \"78\": 1}, \"86\": {\"86\": 26, \"102\": 1, \"2\": 2, \"124\": 2, \"41\": 1}, \"114\": {\"32\": 1, \"68\": 1, \"76\": 1, \"114\": 92, \"107\": 4, \"10\": 1, \"1\": 3, \"127\": 1, \"33\": 1, \"101\": 1, \"18\": 2, \"44\": 1, \"126\": 1}, \"32\": {\"32\": 26, \"76\": 1, \"111\": 1, \"114\": 1, \"107\": 3, \"61\": 1, \"34\": 1, \"71\": 1, \"102\": 1}, \"78\": {\"109\": 4, \"78\": 41, \"24\": 1, \"39\": 2}, \"33\": {\"100\": 1, \"33\": 120, \"40\": 4, \"1\": 4, \"126\": 1, \"114\": 4, \"122\": 1, \"32\": 2, \"101\": 1}, \"70\": {\"70\": 78, \"109\": 9, \"19\": 1, \"88\": 8, \"24\": 15, \"16\": 1, \"108\": 2, \"39\": 4, \"10\": 1, \"78\": 1, \"126\": 1, \"87\": 1, \"94\": 1, \"27\": 1}, \"0\": {\"0\": 88, \"122\": 3, \"7\": 2, \"30\": 2, \"110\": 1, \"44\": 1, \"117\": 1, \"15\": 5, \"105\": 3, \"109\": 1, \"106\": 3, \"113\": 1, \"118\": 1, \"62\": 2, \"90\": 1, \"127\": 1}, \"110\": {\"110\": 29, \"0\": 3, \"105\": 3, \"23\": 1, \"70\": 1, \"42\": 1, \"107\": 1, \"16\": 1}, \"2\": {\"50\": 2, \"123\": 4, \"19\": 1, \"86\": 1, \"82\": 1, \"2\": 7, \"117\": 1, \"102\": 3, \"63\": 3, \"116\": 2, \"65\": 2, \"119\": 1, \"67\": 1, \"85\": 2, \"120\": 1}, \"28\": {\"28\": 9, \"50\": 1, \"67\": 1, \"80\": 1, \"99\": 1, \"29\": 1, \"57\": 1, \"82\": 2, \"90\": 1, \"102\": 1, \"77\": 1}, \"51\": {\"51\": 9, \"74\": 1, \"95\": 1, \"28\": 1, \"75\": 1, \"49\": 1, \"107\": 1, \"9\": 2, \"72\": 1, \"96\": 1, \"128\": 1}, \"79\": {\"79\": 15, \"59\": 1}, \"42\": {\"86\": 3, \"112\": 1, \"42\": 11, \"91\": 1, \"59\": 2, \"17\": 1, \"29\": 1, \"90\": 1, \"117\": 1, \"119\": 1, \"57\": 1, \"102\": 2, \"121\": 1, \"5\": 1}, \"112\": {\"112\": 12, \"73\": 2, \"91\": 1, \"29\": 1}, \"89\": {\"89\": 19, \"99\": 1, \"92\": 4, \"64\": 2, \"34\": 1, \"82\": 2, \"90\": 2, \"98\": 3, \"83\": 1, \"20\": 1}, \"59\": {\"17\": 2, \"125\": 4, \"59\": 5, \"45\": 2, \"86\": 2, \"13\": 1}, \"105\": {\"105\": 117, \"0\": 2, \"7\": 2, \"127\": 1, \"24\": 1, \"70\": 1, \"110\": 2, \"84\": 2}, \"121\": {\"121\": 30, \"99\": 1, \"90\": 1, \"36\": 1, \"66\": 1, \"81\": 2}, \"11\": {\"11\": 43, \"23\": 1, \"24\": 1, \"43\": 2, \"8\": 9, \"118\": 2, \"108\": 2, \"122\": 6, \"87\": 3, \"36\": 2, \"15\": 2, \"30\": 2, \"126\": 1, \"88\": 1, \"94\": 1, \"109\": 1, \"0\": 1}, \"99\": {\"76\": 1, \"99\": 20, \"83\": 1, \"89\": 1, \"3\": 1, \"44\": 2, \"24\": 1, \"82\": 1, \"47\": 1, \"18\": 1, \"87\": 1, \"33\": 1}, \"25\": {\"52\": 1, \"41\": 1, \"25\": 11, \"64\": 1, \"17\": 1, \"55\": 1}, \"62\": {\"62\": 87, \"94\": 1, \"93\": 9, \"60\": 1, \"12\": 1, \"7\": 5, \"14\": 2, \"106\": 4, \"26\": 5, \"101\": 1, \"16\": 5, \"108\": 1, \"84\": 1, \"78\": 2, \"24\": 1, \"126\": 1, \"33\": 1}, \"123\": {\"123\": 10, \"104\": 1, \"5\": 1, \"50\": 1, \"67\": 1, \"90\": 1, \"120\": 1}, \"24\": {\"24\": 84, \"12\": 1, \"70\": 12, \"27\": 2, \"88\": 1, \"109\": 4, \"78\": 1, \"108\": 1, \"126\": 1, \"43\": 1, \"39\": 4}, \"80\": {\"80\": 16}, \"39\": {\"39\": 63, \"88\": 8, \"10\": 2, \"109\": 8, \"70\": 12, \"43\": 1, \"24\": 1, \"108\": 1, \"126\": 3, \"27\": 1}, \"22\": {\"85\": 2, \"86\": 2, \"22\": 7, \"102\": 1, \"129\": 1, \"17\": 1, \"73\": 1, \"124\": 1, \"59\": 1, \"104\": 1, \"126\": 1, \"5\": 1}}, \"C_5\": {\"12\": {\"12\": 83, \"4\": 9, \"50\": 2, \"30\": 1, \"6\": 1}, \"8\": {\"48\": 15, \"8\": 109, \"27\": 16, \"20\": 2}, \"29\": {\"29\": 125, \"13\": 5, \"47\": 1, \"57\": 1}, \"57\": {\"57\": 120, \"47\": 5, \"52\": 1}, \"38\": {\"8\": 1, \"38\": 23, \"39\": 2, \"41\": 1, \"17\": 1, \"26\": 1, \"54\": 1, \"34\": 2}, \"23\": {\"23\": 84, \"53\": 6, \"19\": 5, \"31\": 1, \"55\": 20, \"24\": 2, \"54\": 5, \"17\": 1}, \"56\": {\"56\": 125, \"1\": 1, \"57\": 5, \"52\": 3, \"46\": 1, \"0\": 2, \"21\": 1}, \"49\": {\"49\": 36}, \"4\": {\"4\": 66, \"30\": 5, \"12\": 15, \"46\": 3, \"9\": 2, \"5\": 4, \"40\": 2, \"3\": 1, \"44\": 1, \"0\": 1}, \"48\": {\"48\": 95, \"1\": 14, \"20\": 12, \"27\": 4, \"52\": 2, \"8\": 6, \"57\": 3}, \"21\": {\"21\": 143, \"52\": 1}, \"30\": {\"30\": 123, \"9\": 5}, \"1\": {\"1\": 147, \"20\": 1}, \"34\": {\"23\": 3, \"49\": 3, \"34\": 27, \"54\": 1, \"35\": 1, \"33\": 1}, \"35\": {\"35\": 31, \"41\": 2, \"36\": 1, \"33\": 2}, \"55\": {\"55\": 99, \"54\": 10, \"17\": 2, \"23\": 12, \"53\": 6, \"24\": 1, \"19\": 20, \"43\": 1, \"38\": 1}, \"5\": {\"5\": 93, \"22\": 1, \"3\": 9, \"44\": 14, \"40\": 5}, \"52\": {\"52\": 119, \"21\": 3, \"57\": 3, \"1\": 1}, \"6\": {\"6\": 108, \"50\": 16, \"45\": 3, \"5\": 1}, \"36\": {\"36\": 90, \"39\": 1, \"37\": 1}, \"41\": {\"38\": 2, \"41\": 11, \"33\": 1, \"13\": 3, \"32\": 1, \"51\": 2, \"27\": 1, \"39\": 1, \"37\": 1, \"43\": 2, \"56\": 1, \"2\": 1, \"14\": 1}, \"3\": {\"3\": 75, \"0\": 1, \"44\": 4, \"40\": 7, \"46\": 3, \"5\": 8, \"50\": 1, \"22\": 1}, \"28\": {\"28\": 31, \"16\": 1}, \"18\": {\"18\": 64}, \"25\": {\"25\": 106, \"16\": 12, \"10\": 4, \"15\": 12, \"11\": 2}, \"47\": {\"47\": 92, \"1\": 1, \"29\": 2, \"20\": 1, \"57\": 3, \"48\": 1}, \"13\": {\"13\": 140, \"29\": 12, \"20\": 1, \"47\": 1, \"57\": 3, \"56\": 1, \"14\": 2}, \"11\": {\"11\": 142, \"15\": 2}, \"53\": {\"53\": 140, \"55\": 2, \"24\": 1, \"19\": 1}, \"33\": {\"33\": 31, \"29\": 1}, \"46\": {\"46\": 138, \"0\": 10}, \"50\": {\"6\": 20, \"50\": 115, \"4\": 1, \"5\": 1, \"45\": 11}, \"10\": {\"10\": 68}, \"15\": {\"15\": 132, \"16\": 5, \"11\": 1}, \"44\": {\"44\": 119, \"5\": 16, \"3\": 1, \"40\": 4}, \"2\": {\"33\": 2, \"2\": 16, \"43\": 5, \"39\": 1, \"49\": 1, \"37\": 1, \"14\": 1, \"42\": 1}, \"7\": {\"32\": 3, \"7\": 28, \"51\": 1}, \"43\": {\"43\": 135, \"51\": 2, \"42\": 1}, \"32\": {\"32\": 27, \"39\": 1, \"7\": 4}, \"0\": {\"0\": 123, \"46\": 1}, \"39\": {\"32\": 1, \"39\": 12, \"36\": 5, \"2\": 1, \"41\": 1}, \"26\": {\"53\": 4, \"54\": 2, \"26\": 11, \"23\": 1, \"42\": 2, \"38\": 2, \"34\": 1, \"10\": 1}, \"27\": {\"27\": 107, \"8\": 5}, \"54\": {\"54\": 103, \"31\": 1, \"34\": 1, \"49\": 3, \"23\": 1, \"19\": 1, \"55\": 1, \"17\": 1}, \"17\": {\"17\": 116}, \"14\": {\"14\": 43, \"37\": 1}, \"16\": {\"16\": 134, \"15\": 11, \"25\": 3}, \"9\": {\"9\": 133, \"52\": 1, \"12\": 1, \"30\": 6, \"40\": 2, \"21\": 2, \"44\": 1, \"4\": 1, \"46\": 1}, \"19\": {\"19\": 142, \"42\": 2, \"55\": 4, \"23\": 4}, \"20\": {\"20\": 120, \"48\": 12, \"1\": 6}, \"37\": {\"2\": 4, \"37\": 16, \"13\": 1, \"14\": 1, \"36\": 2}, \"24\": {\"24\": 79, \"31\": 1}, \"40\": {\"40\": 109, \"3\": 4, \"5\": 1, \"46\": 5, \"0\": 2, \"22\": 1}, \"45\": {\"45\": 89, \"6\": 13, \"12\": 1, \"50\": 18, \"5\": 2, \"44\": 1}, \"22\": {\"22\": 24, \"0\": 2, \"40\": 2}, \"42\": {\"42\": 34, \"31\": 3, \"19\": 2, \"55\": 1}, \"51\": {\"51\": 107, \"17\": 6, \"13\": 2, \"27\": 1, \"43\": 2}, \"31\": {\"31\": 28, \"10\": 1, \"24\": 5, \"42\": 1, \"55\": 1}}, \"C_1\": {\"27\": {\"27\": 134, \"52\": 5, \"47\": 1, \"21\": 2}, \"2\": {\"2\": 36}, \"33\": {\"33\": 32}, \"45\": {\"45\": 154, \"56\": 2}, \"38\": {\"38\": 15, \"39\": 3, \"43\": 1, \"41\": 1, \"8\": 1, \"36\": 1, \"51\": 1, \"32\": 1}, \"4\": {\"4\": 117, \"30\": 1, \"40\": 5, \"20\": 2, \"46\": 1, \"0\": 1, \"3\": 1, \"13\": 2, \"6\": 1, \"12\": 1}, \"31\": {\"31\": 24, \"24\": 3, \"35\": 1}, \"55\": {\"55\": 121, \"37\": 5, \"42\": 3, \"49\": 1, \"33\": 1, \"43\": 5, \"51\": 4}, \"32\": {\"32\": 31, \"37\": 1}, \"57\": {\"57\": 137, \"29\": 2, \"52\": 1}, \"14\": {\"14\": 21, \"57\": 1, \"8\": 2}, \"16\": {\"16\": 117, \"15\": 11, \"25\": 8, \"10\": 4}, \"34\": {\"34\": 22, \"23\": 2}, \"56\": {\"56\": 107, \"3\": 7, \"45\": 6, \"40\": 3, \"44\": 3}, \"24\": {\"24\": 108}, \"30\": {\"30\": 109, \"0\": 1, \"13\": 1, \"57\": 1}, \"17\": {\"17\": 63, \"54\": 1}, \"13\": {\"13\": 124, \"12\": 6, \"30\": 6, \"57\": 1, \"22\": 1}, \"39\": {\"55\": 4, \"39\": 18, \"27\": 1, \"1\": 2, \"33\": 2, \"38\": 1}, \"50\": {\"50\": 140, \"20\": 1, \"6\": 1, \"4\": 2, \"46\": 2}, \"20\": {\"20\": 127, \"0\": 9, \"29\": 1, \"12\": 2, \"21\": 1}, \"41\": {\"41\": 23, \"48\": 1}, \"53\": {\"53\": 124, \"26\": 1, \"19\": 1}, \"48\": {\"48\": 134, \"8\": 4, \"9\": 3, \"2\": 1}, \"36\": {\"36\": 62, \"1\": 2}, \"8\": {\"8\": 139, \"48\": 1}, \"15\": {\"15\": 122, \"10\": 9, \"16\": 1}, \"40\": {\"40\": 142, \"4\": 2, \"6\": 2, \"3\": 2, \"56\": 1, \"46\": 2, \"20\": 4, \"0\": 1}, \"37\": {\"33\": 1, \"32\": 1, \"37\": 20, \"9\": 2, \"51\": 2, \"27\": 2, \"41\": 1, \"36\": 2, \"49\": 1}, \"21\": {\"21\": 106, \"52\": 13, \"8\": 1}, \"35\": {\"35\": 28, \"34\": 2, \"31\": 3, \"19\": 1, \"23\": 1, \"55\": 1}, \"49\": {\"49\": 27, \"43\": 3, \"39\": 2}, \"26\": {\"26\": 20, \"25\": 1, \"19\": 2, \"54\": 1}, \"28\": {\"28\": 28}, \"12\": {\"12\": 104, \"30\": 4, \"13\": 7, \"52\": 1}, \"5\": {\"5\": 151, \"50\": 1}, \"29\": {\"14\": 4, \"29\": 104, \"1\": 3, \"8\": 1, \"52\": 14, \"27\": 3, \"47\": 8, \"21\": 1, \"48\": 2}, \"47\": {\"47\": 116, \"29\": 16, \"27\": 2, \"1\": 4, \"57\": 1, \"36\": 1}, \"10\": {\"10\": 91, \"15\": 5}, \"18\": {\"18\": 69, \"50\": 1, \"10\": 2}, \"9\": {\"9\": 126}, \"3\": {\"3\": 118, \"40\": 7, \"56\": 8, \"6\": 1, \"45\": 4, \"20\": 2}, \"52\": {\"52\": 103, \"21\": 11, \"29\": 6, \"27\": 5, \"57\": 3, \"22\": 2, \"47\": 1, \"30\": 1}, \"25\": {\"25\": 118, \"10\": 2, \"15\": 10, \"11\": 2, \"16\": 4}, \"19\": {\"19\": 144, \"34\": 1, \"23\": 3, \"53\": 6, \"26\": 1, \"54\": 1}, \"11\": {\"11\": 132, \"15\": 2, \"16\": 2}, \"7\": {\"7\": 25, \"51\": 1, \"55\": 1, \"37\": 1}, \"23\": {\"23\": 113, \"19\": 11, \"24\": 8, \"54\": 1, \"34\": 2, \"53\": 1}, \"44\": {\"44\": 114, \"45\": 7, \"56\": 11}, \"42\": {\"42\": 30, \"7\": 2, \"35\": 1, \"55\": 2, \"54\": 1, \"17\": 4}, \"54\": {\"54\": 103, \"42\": 1}, \"1\": {\"1\": 97, \"36\": 1, \"47\": 1, \"9\": 1}, \"46\": {\"40\": 4, \"46\": 70, \"45\": 18, \"6\": 8, \"50\": 14, \"56\": 7, \"44\": 2, \"5\": 1, \"3\": 3, \"4\": 1}, \"6\": {\"6\": 76, \"46\": 7, \"50\": 5, \"45\": 3, \"40\": 5}, \"43\": {\"38\": 4, \"43\": 138, \"39\": 1, \"55\": 1}, \"51\": {\"51\": 140, \"37\": 1, \"41\": 1}, \"22\": {\"22\": 124, \"0\": 3, \"12\": 2, \"20\": 3, \"57\": 4}, \"0\": {\"0\": 125, \"20\": 1, \"22\": 1, \"57\": 1}}, \"W_4\": {\"32\": {\"32\": 8, \"83\": 1, \"114\": 1, \"33\": 4, \"57\": 2, \"66\": 1, \"41\": 1, \"3\": 2, \"38\": 3, \"34\": 1, \"44\": 2, \"121\": 2}, \"22\": {\"22\": 8, \"42\": 2, \"68\": 2, \"79\": 1, \"111\": 1, \"17\": 1, \"90\": 1}, \"69\": {\"69\": 102, \"108\": 1, \"24\": 2, \"72\": 1, \"39\": 1, \"84\": 6, \"70\": 2, \"105\": 2, \"126\": 1, \"71\": 2}, \"65\": {\"63\": 2, \"65\": 9, \"2\": 1}, \"91\": {\"91\": 18, \"68\": 1, \"82\": 1, \"66\": 2, \"22\": 1, \"17\": 1}, \"63\": {\"63\": 9, \"117\": 1, \"124\": 2, \"112\": 2, \"115\": 2}, \"127\": {\"88\": 1, \"127\": 87, \"69\": 4, \"107\": 2, \"14\": 4, \"40\": 2, \"96\": 1, \"106\": 2, \"84\": 2, \"118\": 1, \"12\": 2}, \"11\": {\"11\": 82, \"7\": 9, \"23\": 1, \"16\": 3, \"62\": 3, \"88\": 1, \"101\": 9, \"24\": 1, \"8\": 5, \"93\": 8, \"110\": 7, \"113\": 1, \"60\": 1, \"15\": 2, \"106\": 1, \"14\": 2, \"127\": 2}, \"12\": {\"12\": 76, \"106\": 11, \"78\": 1, \"24\": 2, \"60\": 2, \"10\": 2, \"124\": 1, \"7\": 2, \"111\": 1, \"127\": 2}, \"111\": {\"111\": 105, \"124\": 9, \"117\": 4, \"78\": 1, \"22\": 1, \"129\": 1, \"96\": 1, \"17\": 1, \"125\": 2, \"24\": 1, \"90\": 2}, \"53\": {\"53\": 9, \"3\": 2, \"121\": 1, \"69\": 1, \"9\": 1, \"114\": 2}, \"73\": {\"73\": 6, \"64\": 2, \"98\": 1, \"55\": 1, \"90\": 2, \"103\": 2, \"67\": 3, \"85\": 1, \"31\": 1, \"45\": 1, \"102\": 1, \"28\": 1, \"112\": 1, \"92\": 1}, \"3\": {\"3\": 85, \"53\": 1, \"99\": 6, \"40\": 7, \"21\": 1, \"71\": 3, \"18\": 1, \"1\": 13, \"84\": 1, \"114\": 7, \"107\": 4, \"49\": 4, \"5\": 2, \"39\": 1}, \"83\": {\"83\": 9, \"32\": 1, \"120\": 1, \"114\": 1, \"38\": 1, \"33\": 2, \"3\": 1, \"128\": 1, \"98\": 1, \"95\": 2, \"19\": 1, \"5\": 2, \"44\": 2, \"107\": 1, \"103\": 1, \"85\": 1}, \"88\": {\"88\": 119, \"10\": 2, \"24\": 1, \"108\": 1, \"39\": 3, \"70\": 2, \"78\": 1, \"109\": 1}, \"87\": {\"87\": 114, \"108\": 1, \"118\": 7, \"15\": 3, \"70\": 1, \"110\": 1, \"122\": 1, \"30\": 1, \"11\": 1, \"94\": 1, \"0\": 1}, \"2\": {\"2\": 18, \"65\": 1, \"116\": 4, \"104\": 1, \"33\": 1, \"67\": 2, \"124\": 1}, \"86\": {\"86\": 25, \"125\": 1, \"79\": 2}, \"16\": {\"16\": 88, \"21\": 1, \"71\": 1, \"11\": 9, \"26\": 8, \"105\": 2, \"84\": 2, \"69\": 2, \"10\": 1, \"96\": 1, \"3\": 1, \"93\": 3, \"107\": 1, \"7\": 1, \"109\": 1}, \"21\": {\"21\": 37, \"78\": 2, \"39\": 1}, \"96\": {\"16\": 4, \"96\": 6, \"124\": 1, \"26\": 1, \"0\": 2, \"110\": 3, \"113\": 1, \"1\": 1, \"122\": 1}, \"100\": {\"100\": 7, \"3\": 3, \"53\": 2, \"9\": 1, \"1\": 1, \"89\": 1, \"114\": 3, \"5\": 2}, \"7\": {\"7\": 82, \"101\": 7, \"93\": 4, \"60\": 2, \"12\": 5, \"108\": 1, \"0\": 1, \"71\": 1, \"106\": 4, \"11\": 5, \"14\": 1, \"16\": 4, \"23\": 2, \"109\": 1}, \"75\": {\"75\": 8, \"5\": 3, \"29\": 2, \"32\": 1, \"47\": 1, \"15\": 1}, \"10\": {\"10\": 75, \"24\": 14, \"126\": 1, \"108\": 11, \"44\": 1, \"88\": 6, \"39\": 4, \"70\": 7, \"27\": 2, \"12\": 2, \"109\": 1}, \"43\": {\"43\": 95, \"122\": 6, \"126\": 4, \"10\": 1, \"23\": 1, \"0\": 1, \"78\": 1, \"27\": 4, \"118\": 2, \"36\": 3, \"109\": 1, \"101\": 1}, \"92\": {\"92\": 15, \"31\": 1, \"82\": 1, \"74\": 1, \"90\": 5, \"46\": 1, \"95\": 1, \"19\": 2, \"117\": 1}, \"62\": {\"62\": 35, \"11\": 10, \"93\": 2, \"24\": 1, \"8\": 1, \"110\": 1, \"88\": 1, \"106\": 1, \"126\": 1, \"108\": 1, \"101\": 2, \"122\": 2, \"0\": 2}, \"31\": {\"38\": 1, \"46\": 2, \"44\": 2, \"92\": 1, \"31\": 3, \"82\": 1, \"19\": 1, \"81\": 1, \"51\": 1, \"28\": 2, \"77\": 1}, \"0\": {\"0\": 64, \"110\": 7, \"15\": 14, \"122\": 4, \"30\": 3, \"106\": 1, \"87\": 1, \"118\": 4, \"8\": 8, \"10\": 1, \"88\": 1, \"7\": 1, \"94\": 3, \"101\": 2}, \"45\": {\"45\": 8, \"120\": 2, \"103\": 2, \"28\": 1, \"102\": 1, \"55\": 1, \"111\": 1}, \"85\": {\"9\": 3, \"85\": 18, \"95\": 2, \"54\": 1, \"100\": 1, \"31\": 1, \"53\": 1, \"83\": 1}, \"119\": {\"119\": 7, \"17\": 1, \"115\": 2, \"4\": 1, \"59\": 2, \"50\": 1, \"13\": 2}, \"46\": {\"9\": 2, \"33\": 2, \"46\": 12, \"128\": 1, \"54\": 2, \"95\": 1}, \"71\": {\"71\": 79, \"3\": 3, \"105\": 6, \"72\": 3, \"101\": 2, \"40\": 3, \"1\": 2, \"127\": 1, \"99\": 2, \"109\": 1, \"69\": 1, \"70\": 1}, \"8\": {\"0\": 12, \"8\": 72, \"106\": 3, \"15\": 11, \"7\": 3, \"122\": 1, \"87\": 2, \"11\": 7, \"118\": 4, \"110\": 3, \"101\": 7, \"10\": 1, \"36\": 2, \"109\": 1, \"70\": 2, \"94\": 2, \"62\": 1}, \"118\": {\"118\": 72, \"0\": 6, \"8\": 1, \"122\": 4, \"11\": 2, \"110\": 4, \"90\": 1, \"87\": 11, \"39\": 1, \"126\": 2, \"101\": 3, \"16\": 1, \"36\": 1, \"113\": 1, \"109\": 1, \"108\": 1}, \"1\": {\"1\": 73, \"81\": 2, \"85\": 1, \"3\": 14, \"124\": 1, \"18\": 2, \"10\": 4, \"40\": 5, \"21\": 1, \"114\": 2, \"82\": 1, \"71\": 2}, \"38\": {\"38\": 8, \"9\": 1, \"32\": 1, \"83\": 3, \"82\": 1, \"5\": 1, \"108\": 1}, \"30\": {\"30\": 57, \"62\": 2, \"0\": 1, \"94\": 4, \"43\": 1, \"36\": 2, \"88\": 1, \"27\": 2, \"70\": 1, \"21\": 1, \"87\": 1, \"109\": 1, \"8\": 1, \"7\": 1}, \"66\": {\"91\": 3, \"66\": 5, \"67\": 1, \"55\": 1, \"19\": 3, \"48\": 1, \"22\": 1, \"37\": 1}, \"9\": {\"31\": 4, \"114\": 2, \"107\": 3, \"34\": 2, \"3\": 2, \"9\": 9, \"85\": 1, \"56\": 1, \"53\": 2, \"111\": 1, \"29\": 1}, \"5\": {\"5\": 116, \"33\": 8, \"114\": 2, \"44\": 1, \"83\": 1, \"34\": 1, \"53\": 1, \"82\": 1, \"99\": 1, \"110\": 2, \"3\": 2}, \"24\": {\"24\": 77, \"10\": 14, \"97\": 1, \"70\": 11, \"27\": 5, \"88\": 3, \"108\": 6, \"109\": 1, \"36\": 1, \"126\": 1}, \"97\": {\"50\": 1, \"24\": 1, \"97\": 12, \"27\": 1, \"70\": 2, \"118\": 1, \"88\": 2}, \"67\": {\"67\": 11, \"45\": 1, \"48\": 1, \"42\": 1, \"73\": 1, \"115\": 1}, \"19\": {\"120\": 2, \"19\": 21, \"55\": 1, \"98\": 1, \"89\": 1, \"90\": 1, \"41\": 1}, \"77\": {\"77\": 11, \"55\": 1}, \"26\": {\"26\": 105, \"96\": 2, \"16\": 4, \"93\": 3, \"78\": 1, \"69\": 1, \"7\": 1, \"43\": 1}, \"115\": {\"88\": 1, \"115\": 5, \"116\": 1, \"42\": 4, \"37\": 2, \"86\": 1, \"124\": 1, \"80\": 1}, \"50\": {\"50\": 10, \"115\": 1, \"6\": 1, \"129\": 1, \"116\": 1, \"64\": 2}, \"120\": {\"120\": 10, \"19\": 1, \"92\": 1, \"82\": 1, \"64\": 2, \"123\": 1, \"102\": 1, \"86\": 1, \"90\": 2}, \"102\": {\"102\": 117, \"123\": 2, \"55\": 1, \"39\": 1, \"125\": 6, \"117\": 1}, \"29\": {\"29\": 31, \"98\": 1}, \"44\": {\"44\": 38, \"107\": 4, \"5\": 9, \"58\": 1, \"99\": 1, \"105\": 1, \"1\": 1, \"81\": 3, \"33\": 1, \"83\": 1, \"95\": 1, \"76\": 1, \"40\": 1, \"100\": 1}, \"124\": {\"37\": 4, \"124\": 93, \"121\": 1, \"42\": 3, \"111\": 10, \"116\": 1, \"125\": 1, \"102\": 4, \"129\": 1}, \"78\": {\"78\": 33, \"39\": 1, \"88\": 2}, \"104\": {\"37\": 1, \"104\": 7, \"17\": 2, \"2\": 2, \"116\": 1, \"119\": 1, \"73\": 1, \"22\": 1}, \"105\": {\"105\": 74, \"72\": 3, \"40\": 2, \"127\": 3, \"70\": 1, \"10\": 1, \"5\": 1, \"71\": 3, \"14\": 5, \"84\": 2, \"78\": 1, \"102\": 1, \"88\": 1, \"69\": 1, \"36\": 1}, \"28\": {\"28\": 12, \"120\": 2, \"2\": 1, \"75\": 1, \"31\": 1, \"64\": 1, \"73\": 2}, \"37\": {\"17\": 1, \"102\": 1, \"37\": 12, \"129\": 2}, \"107\": {\"107\": 96, \"81\": 2, \"3\": 6, \"117\": 1, \"40\": 4, \"108\": 1, \"5\": 3, \"114\": 8, \"95\": 2, \"53\": 1, \"44\": 4, \"1\": 2, \"98\": 1, \"88\": 1}, \"6\": {\"6\": 22, \"42\": 1, \"111\": 1}, \"17\": {\"124\": 3, \"102\": 1, \"17\": 11, \"104\": 3, \"129\": 2}, \"57\": {\"57\": 12, \"90\": 2, \"19\": 2}, \"121\": {\"121\": 26, \"32\": 1, \"83\": 1, \"78\": 1, \"33\": 1, \"89\": 1, \"19\": 1}, \"58\": {\"120\": 2, \"58\": 11, \"51\": 1, \"98\": 2}, \"64\": {\"58\": 1, \"64\": 6, \"73\": 2, \"98\": 1, \"115\": 1, \"112\": 1, \"46\": 1, \"22\": 1, \"82\": 1, \"41\": 1}, \"82\": {\"82\": 16, \"31\": 1, \"74\": 1, \"9\": 1, \"19\": 2, \"5\": 2, \"33\": 1, \"32\": 2, \"28\": 1, \"92\": 1, \"29\": 2, \"98\": 2}, \"39\": {\"39\": 83, \"108\": 3, \"70\": 2, \"109\": 6, \"36\": 1, \"0\": 1, \"10\": 2, \"88\": 1, \"24\": 1}, \"110\": {\"11\": 9, \"110\": 86, \"0\": 2, \"61\": 1, \"113\": 3, \"87\": 2, \"12\": 1, \"122\": 2, \"15\": 2, \"118\": 5, \"16\": 1, \"109\": 1, \"39\": 2, \"126\": 2, \"21\": 1, \"9\": 1, \"43\": 1, \"8\": 1, \"88\": 1}, \"114\": {\"114\": 100, \"20\": 3, \"1\": 9, \"40\": 5, \"107\": 2, \"84\": 1, \"69\": 1, \"82\": 1, \"109\": 1, \"3\": 5}, \"20\": {\"99\": 2, \"40\": 2, \"20\": 9, \"32\": 1, \"49\": 2}, \"117\": {\"124\": 4, \"117\": 103, \"90\": 4, \"67\": 2, \"125\": 1}, \"18\": {\"18\": 103, \"105\": 2, \"84\": 2, \"1\": 1, \"71\": 3, \"3\": 2, \"88\": 1, \"26\": 2, \"12\": 1, \"40\": 1, \"101\": 1, \"5\": 1}, \"99\": {\"114\": 1, \"99\": 9, \"53\": 1, \"40\": 5, \"18\": 1, \"3\": 4, \"69\": 3, \"71\": 4, \"44\": 3, \"1\": 2, \"14\": 2, \"34\": 2, \"105\": 1, \"106\": 1, \"9\": 1}, \"23\": {\"39\": 3, \"11\": 3, \"110\": 1, \"108\": 1, \"78\": 1, \"93\": 1, \"23\": 2, \"72\": 1, \"21\": 1, \"88\": 2}, \"128\": {\"128\": 16, \"92\": 1, \"46\": 1, \"117\": 1, \"85\": 1, \"38\": 1, \"90\": 1, \"100\": 1, \"74\": 1}, \"60\": {\"60\": 22, \"7\": 2, \"93\": 1, \"11\": 2, \"127\": 2, \"106\": 2, \"72\": 1}, \"70\": {\"88\": 3, \"70\": 81, \"97\": 1, \"11\": 1, \"109\": 9, \"108\": 7, \"126\": 4, \"10\": 7, \"118\": 1, \"110\": 1, \"24\": 2, \"43\": 1, \"27\": 2}, \"122\": {\"88\": 1, \"122\": 56, \"23\": 1, \"110\": 5, \"87\": 7, \"8\": 1, \"10\": 3, \"0\": 3, \"93\": 1, \"62\": 1, \"94\": 2, \"109\": 1, \"118\": 2}, \"101\": {\"101\": 98, \"60\": 2, \"15\": 4, \"11\": 5, \"78\": 1, \"127\": 5, \"108\": 2, \"0\": 1, \"106\": 1, \"10\": 1, \"7\": 1, \"118\": 2, \"110\": 2, \"88\": 1, \"93\": 2, \"8\": 4}, \"33\": {\"33\": 121, \"92\": 2, \"111\": 1, \"5\": 3, \"107\": 4, \"90\": 1}, \"40\": {\"40\": 95, \"83\": 1, \"99\": 1, \"33\": 2, \"49\": 2, \"1\": 9, \"71\": 3, \"39\": 1, \"126\": 1, \"18\": 1, \"107\": 3, \"34\": 2, \"109\": 2, \"114\": 1, \"88\": 2, \"105\": 1, \"84\": 1, \"110\": 2}, \"41\": {\"41\": 5, \"56\": 1, \"13\": 1, \"29\": 1, \"86\": 1, \"19\": 2, \"98\": 2, \"102\": 1, \"21\": 1, \"64\": 1}, \"59\": {\"59\": 12}, \"4\": {\"4\": 94, \"39\": 2, \"27\": 1, \"108\": 1, \"24\": 1, \"80\": 2, \"10\": 1, \"109\": 1, \"88\": 1}, \"112\": {\"112\": 7, \"31\": 1, \"125\": 1, \"115\": 1, \"73\": 1, \"103\": 2, \"64\": 1, \"90\": 1, \"27\": 1}, \"36\": {\"30\": 7, \"36\": 89, \"8\": 2, \"43\": 4, \"27\": 13, \"94\": 1, \"88\": 2, \"0\": 1, \"15\": 2, \"16\": 1, \"24\": 1, \"87\": 3, \"70\": 1, \"126\": 1}, \"48\": {\"48\": 9, \"67\": 1, \"117\": 2, \"68\": 1, \"129\": 3}, \"126\": {\"10\": 3, \"126\": 87, \"109\": 6, \"43\": 5, \"39\": 1, \"113\": 1, \"30\": 1, \"108\": 1, \"27\": 5, \"87\": 1, \"62\": 1, \"11\": 1, \"118\": 1, \"24\": 1, \"88\": 1}, \"125\": {\"59\": 1, \"125\": 111, \"102\": 4, \"124\": 2, \"111\": 1, \"107\": 1, \"98\": 1, \"90\": 1}, \"84\": {\"84\": 86, \"21\": 1, \"71\": 3, \"127\": 1, \"88\": 7, \"1\": 1, \"14\": 4, \"105\": 2, \"10\": 1, \"69\": 14, \"24\": 1, \"99\": 1, \"72\": 1, \"109\": 1, \"118\": 1, \"12\": 2, \"26\": 1}, \"80\": {\"80\": 16}, \"49\": {\"20\": 2, \"40\": 3, \"49\": 9, \"95\": 5, \"14\": 1, \"127\": 2, \"44\": 3, \"5\": 1, \"107\": 1, \"82\": 1, \"114\": 2, \"128\": 1, \"12\": 1}, \"47\": {\"25\": 1, \"47\": 8, \"91\": 1, \"5\": 2}, \"95\": {\"5\": 3, \"114\": 1, \"95\": 17, \"54\": 1, \"105\": 1, \"46\": 2, \"52\": 2, \"40\": 2, \"49\": 2, \"83\": 1}, \"54\": {\"5\": 1, \"95\": 1, \"54\": 13, \"103\": 1}, \"25\": {\"25\": 11, \"54\": 1, \"46\": 1, \"19\": 1, \"47\": 2}, \"116\": {\"116\": 19, \"68\": 1, \"65\": 1, \"2\": 2, \"124\": 1, \"37\": 2, \"42\": 1, \"129\": 1}, \"74\": {\"74\": 13, \"5\": 1, \"85\": 1, \"128\": 1}, \"35\": {\"35\": 11, \"81\": 1}, \"15\": {\"15\": 84, \"8\": 12, \"94\": 10, \"0\": 11, \"101\": 1, \"109\": 1, \"105\": 1, \"113\": 1, \"87\": 2, \"88\": 1, \"7\": 1, \"118\": 3}, \"108\": {\"108\": 50, \"39\": 5, \"109\": 6, \"90\": 1, \"70\": 13, \"122\": 1, \"27\": 1, \"98\": 1, \"126\": 1, \"24\": 6, \"88\": 2, \"41\": 1, \"21\": 1, \"9\": 1, \"36\": 1, \"10\": 1}, \"34\": {\"3\": 3, \"76\": 1, \"114\": 2, \"99\": 2, \"34\": 11, \"49\": 2, \"69\": 1, \"40\": 3, \"71\": 4, \"72\": 1, \"52\": 2}, \"81\": {\"81\": 23, \"18\": 2, \"128\": 1, \"1\": 1, \"44\": 1, \"33\": 1, \"5\": 1, \"107\": 1, \"120\": 1, \"114\": 2, \"92\": 1, \"82\": 1}, \"93\": {\"93\": 89, \"7\": 6, \"84\": 3, \"12\": 1, \"8\": 1, \"11\": 5, \"14\": 1, \"16\": 11, \"40\": 1, \"101\": 1, \"94\": 1, \"110\": 2, \"62\": 1, \"113\": 1, \"127\": 1, \"15\": 1, \"3\": 2}, \"55\": {\"64\": 2, \"55\": 8, \"66\": 1, \"56\": 1, \"89\": 1, \"73\": 1, \"83\": 2}, \"27\": {\"27\": 63, \"109\": 4, \"36\": 4, \"8\": 2, \"23\": 1, \"108\": 2, \"43\": 7, \"88\": 1, \"126\": 1, \"30\": 2, \"10\": 1, \"125\": 1, \"97\": 1, \"70\": 2, \"0\": 3, \"11\": 1, \"124\": 1, \"15\": 2, \"39\": 1}, \"109\": {\"97\": 2, \"109\": 72, \"70\": 7, \"126\": 5, \"108\": 9, \"39\": 6, \"10\": 2, \"43\": 3, \"90\": 1, \"118\": 1, \"62\": 1, \"27\": 1}, \"106\": {\"11\": 2, \"106\": 71, \"96\": 2, \"7\": 4, \"127\": 4, \"12\": 20, \"101\": 1, \"109\": 2, \"5\": 1, \"14\": 2, \"126\": 1, \"72\": 2, \"10\": 2, \"24\": 2}, \"68\": {\"68\": 13, \"91\": 2, \"24\": 1}, \"76\": {\"36\": 1, \"76\": 11, \"114\": 1, \"32\": 2, \"78\": 1}, \"103\": {\"103\": 3, \"42\": 1, \"68\": 1, \"10\": 1, \"121\": 1, \"95\": 1, \"128\": 1, \"45\": 2, \"46\": 2, \"112\": 1, \"75\": 1, \"19\": 1}, \"42\": {\"104\": 1, \"25\": 1, \"98\": 2, \"55\": 1, \"68\": 1, \"29\": 2, \"42\": 4, \"124\": 4, \"116\": 3, \"119\": 1, \"41\": 2, \"112\": 2, \"85\": 1, \"115\": 1, \"117\": 2}, \"129\": {\"129\": 26, \"111\": 2}, \"94\": {\"15\": 10, \"94\": 60, \"101\": 1, \"39\": 2, \"36\": 3, \"43\": 1, \"88\": 2, \"30\": 1, \"8\": 3, \"126\": 1, \"122\": 1, \"87\": 1, \"109\": 2}, \"123\": {\"123\": 16}, \"61\": {\"61\": 8, \"99\": 1, \"74\": 1, \"83\": 2, \"46\": 1, \"107\": 1, \"33\": 1, \"44\": 1}, \"51\": {\"39\": 1, \"51\": 3, \"109\": 1, \"27\": 2, \"107\": 1, \"89\": 1, \"21\": 2, \"20\": 1, \"53\": 1, \"69\": 1, \"71\": 2}, \"98\": {\"73\": 1, \"56\": 1, \"98\": 102, \"55\": 1, \"50\": 1, \"33\": 4, \"5\": 1, \"90\": 2, \"85\": 1, \"121\": 1, \"82\": 1, \"107\": 1, \"114\": 1}, \"56\": {\"56\": 7, \"98\": 1, \"57\": 2, \"83\": 1, \"66\": 1}, \"14\": {\"14\": 96, \"84\": 3, \"109\": 1, \"7\": 1, \"69\": 3, \"105\": 2, \"127\": 4, \"78\": 1, \"88\": 1}, \"90\": {\"90\": 128, \"57\": 1, \"102\": 1, \"19\": 1, \"73\": 1, \"66\": 3, \"98\": 3}, \"13\": {\"129\": 2, \"13\": 9, \"123\": 1, \"119\": 2, \"102\": 1, \"124\": 1}, \"89\": {\"89\": 26, \"100\": 1, \"4\": 1, \"32\": 1, \"5\": 1, \"51\": 2}, \"52\": {\"89\": 1, \"37\": 1, \"33\": 3, \"3\": 2, \"95\": 2, \"52\": 6, \"46\": 1, \"66\": 1, \"34\": 1, \"114\": 1, \"44\": 1}, \"72\": {\"105\": 3, \"12\": 2, \"40\": 2, \"7\": 1, \"127\": 3, \"84\": 1, \"3\": 1, \"72\": 4, \"106\": 3, \"71\": 2, \"93\": 2, \"76\": 1, \"97\": 2, \"26\": 1, \"99\": 1, \"60\": 2, \"98\": 1}, \"79\": {\"79\": 14, \"102\": 1, \"4\": 1}, \"113\": {\"113\": 85, \"110\": 7, \"8\": 2, \"26\": 1, \"122\": 4, \"118\": 5, \"90\": 1, \"11\": 4, \"106\": 2, \"43\": 1, \"87\": 6, \"70\": 1, \"39\": 2, \"62\": 1, \"93\": 2, \"0\": 1, \"16\": 1}}, \"C_4\": {\"32\": {\"32\": 14, \"38\": 1, \"55\": 3, \"19\": 2, \"24\": 2, \"42\": 2}, \"2\": {\"2\": 28, \"39\": 4, \"49\": 1, \"37\": 1, \"14\": 2}, \"41\": {\"41\": 23, \"37\": 2, \"42\": 2, \"55\": 4, \"2\": 1, \"39\": 1, \"36\": 1, \"49\": 2}, \"11\": {\"11\": 85, \"23\": 1, \"10\": 3, \"15\": 10, \"16\": 2, \"53\": 1}, \"57\": {\"57\": 71, \"29\": 21, \"20\": 1, \"1\": 2, \"47\": 3, \"48\": 1, \"13\": 1}, \"6\": {\"50\": 9, \"6\": 85, \"3\": 14, \"5\": 2, \"45\": 2}, \"23\": {\"23\": 79, \"7\": 1, \"54\": 1, \"19\": 29, \"26\": 3, \"42\": 3, \"43\": 3, \"53\": 8, \"55\": 8, \"31\": 1}, \"52\": {\"52\": 115, \"4\": 1}, \"38\": {\"38\": 31, \"49\": 1, \"33\": 3, \"14\": 1, \"51\": 1, \"13\": 1, \"7\": 2}, \"50\": {\"50\": 84, \"6\": 12, \"3\": 21, \"5\": 10, \"45\": 5}, \"55\": {\"55\": 100, \"41\": 3, \"49\": 2, \"24\": 4, \"43\": 15, \"32\": 3, \"54\": 10, \"23\": 2, \"17\": 1, \"36\": 1, \"19\": 7, \"42\": 3, \"7\": 1}, \"46\": {\"46\": 115, \"22\": 18, \"44\": 7, \"40\": 13, \"0\": 1}, \"37\": {\"2\": 3, \"37\": 11, \"35\": 1, \"20\": 1, \"51\": 1, \"57\": 1, \"36\": 2, \"33\": 3, \"14\": 1}, \"20\": {\"52\": 1, \"20\": 95, \"8\": 5, \"21\": 1, \"9\": 3, \"48\": 12, \"12\": 1}, \"49\": {\"32\": 1, \"38\": 1, \"55\": 2, \"37\": 3, \"7\": 1, \"49\": 2, \"54\": 2, \"51\": 3, \"33\": 1, \"41\": 2, \"36\": 1, \"35\": 1}, \"45\": {\"45\": 74, \"3\": 3, \"6\": 5, \"50\": 8, \"5\": 2, \"22\": 2, \"46\": 1, \"30\": 1}, \"54\": {\"54\": 98, \"23\": 3, \"17\": 2, \"55\": 1, \"53\": 2, \"43\": 1, \"24\": 1}, \"3\": {\"3\": 82, \"50\": 16, \"6\": 13, \"44\": 1, \"5\": 5, \"22\": 1, \"45\": 4, \"30\": 1, \"46\": 1}, \"13\": {\"13\": 152}, \"18\": {\"18\": 107, \"15\": 1}, \"21\": {\"21\": 124, \"12\": 2}, \"43\": {\"43\": 144}, \"47\": {\"47\": 107, \"57\": 3, \"29\": 7, \"20\": 1, \"1\": 1, \"48\": 1}, \"4\": {\"52\": 5, \"4\": 103, \"27\": 3, \"9\": 13, \"1\": 2, \"47\": 1, \"8\": 1, \"48\": 4}, \"12\": {\"12\": 78, \"21\": 11, \"3\": 2, \"30\": 1}, \"9\": {\"9\": 110, \"4\": 7, \"13\": 2, \"27\": 2, \"52\": 3, \"8\": 2, \"29\": 1, \"47\": 1}, \"7\": {\"7\": 11, \"33\": 3, \"49\": 3, \"51\": 1, \"43\": 1, \"37\": 1, \"42\": 1, \"38\": 1, \"55\": 1, \"36\": 1}, \"56\": {\"56\": 104, \"0\": 7, \"52\": 1}, \"28\": {\"28\": 27, \"34\": 4, \"53\": 1}, \"44\": {\"44\": 106, \"40\": 16, \"46\": 3, \"3\": 2, \"30\": 3, \"22\": 2}, \"24\": {\"24\": 52, \"43\": 1, \"55\": 1, \"32\": 1, \"54\": 1}, \"33\": {\"33\": 36}, \"35\": {\"36\": 2, \"55\": 6, \"35\": 17, \"43\": 1, \"19\": 1, \"33\": 6, \"24\": 2, \"42\": 2, \"2\": 2, \"32\": 1}, \"51\": {\"51\": 133, \"49\": 1, \"36\": 4}, \"39\": {\"51\": 2, \"39\": 15, \"14\": 1, \"37\": 1, \"35\": 1}, \"36\": {\"36\": 73, \"51\": 10, \"33\": 3, \"53\": 1, \"35\": 1, \"57\": 1, \"54\": 1, \"55\": 1, \"19\": 1}, \"19\": {\"19\": 129, \"53\": 5, \"23\": 5, \"34\": 1}, \"0\": {\"0\": 74, \"46\": 2, \"56\": 3, \"52\": 1}, \"15\": {\"15\": 121, \"16\": 9, \"10\": 3, \"11\": 2, \"53\": 1}, \"29\": {\"29\": 104, \"47\": 6, \"57\": 12, \"48\": 1, \"20\": 1}, \"30\": {\"30\": 44}, \"1\": {\"52\": 1, \"1\": 39}, \"22\": {\"22\": 95, \"46\": 21, \"44\": 6, \"40\": 5, \"3\": 1}, \"40\": {\"46\": 14, \"40\": 129, \"44\": 1, \"0\": 1, \"22\": 1}, \"8\": {\"8\": 93, \"9\": 10, \"20\": 9, \"4\": 5, \"48\": 8, \"27\": 3}, \"53\": {\"53\": 137, \"26\": 1}, \"34\": {\"34\": 21, \"42\": 1, \"28\": 1, \"19\": 1}, \"10\": {\"10\": 122}, \"31\": {\"31\": 22, \"41\": 1, \"53\": 2, \"55\": 1, \"42\": 2}, \"17\": {\"17\": 79, \"36\": 1}, \"16\": {\"16\": 77, \"15\": 15, \"11\": 3, \"25\": 1}, \"42\": {\"7\": 1, \"42\": 25, \"26\": 1, \"17\": 1, \"28\": 1, \"55\": 1, \"32\": 2}, \"27\": {\"27\": 125, \"39\": 2, \"47\": 2, \"29\": 2, \"2\": 1, \"8\": 6, \"51\": 2, \"20\": 1, \"57\": 1}, \"14\": {\"14\": 12, \"39\": 1, \"2\": 2, \"47\": 1}, \"25\": {\"25\": 104, \"15\": 9, \"16\": 5, \"10\": 3, \"34\": 1}, \"48\": {\"48\": 79, \"52\": 1, \"9\": 19, \"4\": 5, \"29\": 2, \"8\": 10, \"20\": 11, \"47\": 2, \"27\": 2, \"57\": 1}, \"26\": {\"26\": 14, \"19\": 1, \"42\": 2, \"28\": 2, \"53\": 4, \"23\": 1}, \"5\": {\"5\": 86, \"6\": 4, \"50\": 10, \"3\": 6, \"46\": 2}}, \"W_1\": {\"68\": {\"77\": 2, \"68\": 9, \"5\": 1, \"58\": 2, \"104\": 2}, \"7\": {\"7\": 113, \"84\": 20, \"105\": 1, \"106\": 6, \"110\": 1, \"12\": 1}, \"125\": {\"125\": 114, \"115\": 1, \"48\": 2, \"124\": 1}, \"111\": {\"111\": 105, \"6\": 1, \"5\": 5, \"125\": 5, \"90\": 1, \"101\": 1, \"117\": 1, \"21\": 1}, \"101\": {\"101\": 110, \"127\": 2, \"12\": 4, \"40\": 1, \"71\": 3, \"114\": 1, \"88\": 1, \"18\": 2}, \"11\": {\"11\": 89, \"30\": 2, \"108\": 4, \"122\": 2, \"39\": 6, \"27\": 2, \"126\": 7, \"43\": 12, \"93\": 5, \"8\": 3, \"88\": 1, \"87\": 2, \"24\": 1}, \"76\": {\"76\": 5, \"81\": 3, \"100\": 1, \"14\": 2, \"105\": 1, \"74\": 2, \"42\": 1, \"60\": 1}, \"5\": {\"5\": 80, \"129\": 1, \"124\": 1, \"22\": 1, \"55\": 2, \"0\": 1, \"39\": 1, \"111\": 1}, \"123\": {\"123\": 11, \"65\": 1, \"102\": 2, \"119\": 1, \"120\": 1}, \"85\": {\"85\": 21, \"52\": 1, \"54\": 1, \"90\": 1, \"83\": 1, \"128\": 2, \"92\": 3, \"32\": 1, \"19\": 1}, \"34\": {\"34\": 13, \"35\": 1, \"31\": 3, \"107\": 3, \"75\": 2, \"89\": 2, \"14\": 3, \"105\": 1, \"1\": 1, \"50\": 1, \"76\": 1, \"49\": 1}, \"42\": {\"85\": 1, \"68\": 1, \"22\": 1, \"66\": 1, \"42\": 10, \"100\": 1, \"104\": 1, \"90\": 2, \"98\": 2, \"117\": 1, \"19\": 1, \"64\": 1, \"28\": 2, \"91\": 2, \"82\": 1}, \"81\": {\"76\": 2, \"81\": 17, \"127\": 1, \"47\": 1, \"103\": 1, \"99\": 1, \"50\": 1, \"49\": 1, \"44\": 1, \"40\": 1, \"34\": 1}, \"127\": {\"101\": 12, \"127\": 87, \"9\": 1, \"71\": 5, \"44\": 1, \"11\": 1, \"70\": 1}, \"60\": {\"127\": 2, \"60\": 8, \"62\": 2, \"18\": 1, \"110\": 1, \"106\": 1, \"113\": 1}, \"77\": {\"77\": 14, \"28\": 2}, \"65\": {\"65\": 11, \"37\": 1}, \"44\": {\"44\": 57, \"33\": 1, \"71\": 2, \"105\": 1, \"127\": 1, \"114\": 1, \"84\": 1, \"9\": 1, \"31\": 1, \"101\": 2, \"14\": 3, \"40\": 3, \"3\": 2}, \"100\": {\"33\": 1, \"90\": 1, \"100\": 6, \"127\": 1, \"120\": 1, \"50\": 1, \"72\": 1, \"44\": 1, \"95\": 1, \"114\": 1, \"85\": 1}, \"80\": {\"80\": 15, \"102\": 1}, \"83\": {\"83\": 15, \"66\": 2, \"54\": 2, \"32\": 1, \"10\": 1, \"77\": 1, \"44\": 1, \"91\": 2, \"68\": 1, \"17\": 1, \"107\": 1}, \"51\": {\"51\": 12, \"31\": 2, \"19\": 1, \"74\": 1}, \"93\": {\"93\": 102, \"126\": 9, \"24\": 3, \"30\": 1, \"43\": 6, \"8\": 4, \"70\": 1, \"27\": 2, \"87\": 2, \"11\": 4}, \"31\": {\"31\": 7, \"34\": 2, \"3\": 2, \"127\": 1, \"35\": 1, \"97\": 1, \"114\": 1, \"12\": 1}, \"33\": {\"33\": 114, \"47\": 1, \"2\": 1, \"114\": 6, \"3\": 1, \"89\": 1, \"45\": 1, \"81\": 1}, \"113\": {\"113\": 107, \"96\": 1, \"70\": 2, \"118\": 2, \"62\": 3, \"110\": 4, \"26\": 2, \"122\": 1, \"87\": 2}, \"126\": {\"93\": 17, \"126\": 69, \"122\": 4, \"96\": 2, \"43\": 6, \"70\": 2, \"11\": 13, \"8\": 6, \"110\": 1, \"108\": 1, \"87\": 1, \"39\": 2}, \"10\": {\"10\": 102, \"70\": 6, \"109\": 5, \"88\": 3, \"108\": 1, \"39\": 1, \"78\": 1, \"24\": 1}, \"21\": {\"21\": 39, \"10\": 1}, \"90\": {\"90\": 122, \"73\": 1, \"128\": 4, \"85\": 1, \"19\": 1, \"117\": 1, \"38\": 1, \"22\": 1}, \"38\": {\"19\": 2, \"38\": 11, \"100\": 1, \"29\": 1, \"85\": 1}, \"96\": {\"113\": 1, \"94\": 1, \"96\": 10, \"12\": 1, \"118\": 1, \"14\": 1, \"127\": 1, \"7\": 2, \"97\": 1, \"24\": 1}, \"6\": {\"37\": 1, \"6\": 25, \"22\": 1, \"111\": 2, \"64\": 1, \"112\": 2}, \"121\": {\"66\": 1, \"121\": 30, \"90\": 1}, \"37\": {\"37\": 14, \"6\": 1, \"111\": 1}, \"88\": {\"88\": 83, \"10\": 9, \"93\": 5, \"11\": 5, \"27\": 1, \"24\": 10, \"70\": 1, \"126\": 3, \"39\": 3, \"108\": 5, \"109\": 1}, \"54\": {\"66\": 4, \"54\": 8, \"89\": 1, \"129\": 1, \"128\": 2}, \"92\": {\"92\": 28}, \"19\": {\"19\": 20, \"38\": 2, \"89\": 2, \"100\": 2, \"83\": 1, \"28\": 1}, \"47\": {\"73\": 1, \"96\": 1, \"47\": 5, \"98\": 1, \"32\": 1, \"74\": 1, \"56\": 1, \"34\": 1}, \"94\": {\"94\": 73, \"36\": 5, \"110\": 2, \"10\": 1, \"27\": 2, \"0\": 1, \"15\": 4, \"88\": 1, \"122\": 1, \"8\": 1, \"126\": 1}, \"66\": {\"73\": 2, \"66\": 7, \"42\": 2, \"102\": 1, \"82\": 2, \"4\": 1, \"128\": 1}, \"73\": {\"54\": 1, \"96\": 1, \"73\": 12, \"66\": 1, \"128\": 1, \"10\": 1, \"90\": 1, \"61\": 1, \"34\": 1}, \"75\": {\"75\": 7, \"72\": 2, \"89\": 1, \"34\": 2, \"29\": 2, \"9\": 2}, \"28\": {\"28\": 11, \"120\": 1, \"100\": 1, \"3\": 2, \"67\": 1, \"65\": 1, \"117\": 1, \"19\": 1, \"5\": 1}, \"20\": {\"20\": 13, \"74\": 1, \"81\": 2}, \"78\": {\"21\": 1, \"78\": 14, \"11\": 1}, \"71\": {\"71\": 68, \"12\": 3, \"109\": 1, \"127\": 9, \"40\": 3, \"84\": 1, \"101\": 6, \"44\": 2, \"11\": 1, \"14\": 4, \"16\": 1, \"21\": 1, \"105\": 2, \"7\": 1, \"106\": 1}, \"13\": {\"123\": 1, \"102\": 3, \"13\": 5, \"57\": 2, \"119\": 1, \"2\": 1, \"86\": 1, \"124\": 2}, \"118\": {\"118\": 78, \"69\": 2, \"87\": 2, \"110\": 1, \"10\": 1}, \"72\": {\"72\": 8, \"20\": 3, \"100\": 2, \"18\": 1, \"101\": 2, \"74\": 2, \"3\": 1, \"107\": 2, \"127\": 3, \"40\": 3, \"114\": 2, \"9\": 2, \"44\": 1}, \"24\": {\"24\": 53, \"30\": 1, \"11\": 4, \"88\": 8, \"109\": 2, \"126\": 2, \"10\": 1, \"27\": 2, \"43\": 5, \"93\": 3, \"39\": 1, \"108\": 9, \"8\": 1}, \"41\": {\"41\": 3, \"28\": 1, \"42\": 3, \"112\": 1, \"59\": 2, \"77\": 1, \"91\": 1, \"37\": 3, \"55\": 1}, \"102\": {\"102\": 116, \"116\": 2, \"124\": 2}, \"8\": {\"21\": 1, \"24\": 1, \"87\": 7, \"8\": 55, \"94\": 3, \"27\": 1, \"11\": 9, \"110\": 4, \"43\": 14, \"126\": 8, \"36\": 5, \"15\": 8, \"0\": 1, \"93\": 10, \"39\": 2, \"122\": 6, \"108\": 1, \"96\": 2}, \"39\": {\"39\": 72, \"109\": 2, \"10\": 1, \"27\": 2, \"43\": 2, \"93\": 1, \"24\": 1, \"11\": 7, \"88\": 2, \"117\": 1, \"126\": 2, \"70\": 1, \"7\": 1, \"108\": 1}, \"97\": {\"97\": 13, \"30\": 2, \"122\": 1, \"93\": 1, \"11\": 2, \"28\": 1}, \"48\": {\"48\": 12}, \"57\": {\"57\": 9, \"119\": 1, \"117\": 1, \"2\": 1}, \"29\": {\"29\": 25, \"89\": 3}, \"119\": {\"57\": 2, \"45\": 1, \"119\": 10, \"129\": 1, \"61\": 1, \"123\": 1}, \"89\": {\"89\": 19, \"35\": 1, \"107\": 2, \"92\": 1, \"75\": 1, \"19\": 3, \"9\": 1, \"98\": 1, \"56\": 1, \"29\": 2, \"34\": 2, \"32\": 1, \"49\": 1}, \"40\": {\"40\": 73, \"12\": 6, \"34\": 1, \"76\": 1, \"44\": 5, \"105\": 2, \"127\": 6, \"71\": 7, \"72\": 1, \"114\": 2, \"101\": 19, \"14\": 4, \"7\": 1, \"1\": 5, \"84\": 2, \"31\": 1, \"3\": 1, \"18\": 3}, \"22\": {\"108\": 1, \"22\": 9, \"5\": 3, \"17\": 1, \"68\": 1, \"58\": 1}, \"53\": {\"29\": 1, \"53\": 16, \"89\": 1, \"116\": 1, \"6\": 1}, \"108\": {\"108\": 69, \"10\": 5, \"27\": 1, \"88\": 16, \"126\": 7, \"122\": 2, \"11\": 5, \"109\": 3, \"24\": 11, \"93\": 4, \"43\": 1}, \"23\": {\"11\": 1, \"76\": 1, \"87\": 1, \"127\": 1, \"8\": 1, \"113\": 2, \"23\": 6, \"110\": 1, \"94\": 1, \"105\": 2, \"26\": 1, \"97\": 2, \"84\": 1, \"88\": 1, \"36\": 2}, \"109\": {\"109\": 92, \"70\": 11, \"10\": 4, \"108\": 3, \"24\": 3, \"39\": 2, \"88\": 1}, \"112\": {\"112\": 6, \"31\": 1, \"45\": 1, \"111\": 2, \"5\": 2, \"91\": 1, \"6\": 1, \"58\": 1, \"129\": 1}, \"35\": {\"76\": 1, \"23\": 2, \"35\": 9}, \"3\": {\"3\": 78, \"74\": 2, \"33\": 1, \"114\": 3, \"111\": 2, \"44\": 1, \"98\": 1}, \"103\": {\"103\": 10, \"31\": 1, \"64\": 1, \"120\": 1, \"45\": 1, \"98\": 1, \"44\": 1}, \"4\": {\"4\": 97, \"109\": 1, \"84\": 1, \"48\": 1}, \"87\": {\"87\": 82, \"8\": 9, \"43\": 4, \"36\": 1, \"118\": 2, \"110\": 1, \"109\": 1, \"11\": 1, \"122\": 3, \"0\": 1, \"97\": 1, \"15\": 1, \"126\": 1}, \"25\": {\"87\": 1, \"120\": 1, \"25\": 4, \"67\": 2, \"75\": 1, \"33\": 1, \"82\": 1, \"83\": 1, \"19\": 2, \"11\": 1, \"38\": 1}, \"15\": {\"15\": 76, \"94\": 7, \"8\": 1, \"0\": 5, \"36\": 12, \"70\": 1, \"21\": 1, \"109\": 1}, \"95\": {\"95\": 23, \"128\": 1, \"1\": 3, \"81\": 1, \"47\": 1, \"33\": 4, \"114\": 1, \"121\": 1, \"82\": 1}, \"120\": {\"120\": 14, \"2\": 1, \"28\": 2, \"8\": 1, \"19\": 2}, \"59\": {\"59\": 9, \"124\": 2, \"83\": 1}, \"49\": {\"49\": 10, \"51\": 1, \"9\": 2, \"82\": 1, \"32\": 1, \"107\": 1, \"72\": 1, \"52\": 1, \"73\": 1, \"89\": 1}, \"52\": {\"52\": 13, \"3\": 1, \"53\": 1, \"70\": 1, \"92\": 2, \"85\": 1, \"24\": 1}, \"45\": {\"65\": 2, \"46\": 2, \"41\": 1, \"90\": 1, \"45\": 1, \"119\": 1, \"124\": 2, \"55\": 1, \"24\": 1}, \"107\": {\"49\": 1, \"107\": 113, \"34\": 1, \"32\": 1, \"33\": 1, \"1\": 2, \"89\": 1, \"114\": 4}, \"106\": {\"106\": 116, \"10\": 1, \"84\": 7, \"7\": 7, \"122\": 1, \"12\": 2}, \"18\": {\"113\": 3, \"18\": 104, \"69\": 1, \"16\": 2, \"12\": 1, \"7\": 2, \"110\": 2, \"40\": 1, \"84\": 4, \"23\": 1, \"15\": 1, \"106\": 1, \"26\": 1}, \"64\": {\"64\": 11, \"66\": 3, \"82\": 1, \"42\": 1}, \"86\": {\"115\": 1, \"111\": 2, \"125\": 1, \"48\": 2, \"86\": 10, \"124\": 2, \"102\": 6, \"129\": 3, \"46\": 1, \"108\": 1, \"17\": 1, \"5\": 3, \"4\": 1, \"2\": 2}, \"14\": {\"44\": 5, \"14\": 79, \"72\": 2, \"40\": 5, \"127\": 1, \"71\": 2, \"84\": 2}, \"115\": {\"115\": 12}, \"0\": {\"0\": 66, \"15\": 2, \"110\": 5, \"62\": 2, \"106\": 1, \"10\": 1, \"8\": 2, \"94\": 2, \"36\": 3}, \"104\": {\"104\": 15, \"57\": 1}, \"61\": {\"67\": 1, \"61\": 7, \"28\": 1, \"37\": 2, \"45\": 1}, \"129\": {\"129\": 15, \"57\": 1, \"102\": 1, \"22\": 2, \"119\": 2, \"55\": 1, \"5\": 2, \"46\": 2, \"111\": 2}, \"122\": {\"8\": 7, \"122\": 61, \"118\": 1, \"11\": 1, \"87\": 4, \"43\": 6, \"70\": 1, \"36\": 2, \"93\": 1, \"10\": 1, \"0\": 2, \"108\": 1}, \"67\": {\"67\": 14, \"21\": 1, \"39\": 1}, \"128\": {\"54\": 2, \"85\": 3, \"38\": 3, \"128\": 9, \"90\": 2, \"98\": 2, \"89\": 1, \"103\": 1, \"29\": 1}, \"26\": {\"26\": 122, \"7\": 2, \"16\": 6, \"10\": 1, \"84\": 1, \"93\": 1, \"126\": 1}, \"117\": {\"117\": 136}, \"91\": {\"91\": 22, \"54\": 1, \"28\": 1, \"45\": 2, \"77\": 1, \"68\": 1}, \"12\": {\"12\": 74, \"105\": 4, \"84\": 3, \"127\": 3, \"69\": 1, \"44\": 1, \"101\": 10, \"70\": 2, \"108\": 2, \"40\": 3, \"88\": 1}, \"50\": {\"100\": 2, \"40\": 1, \"50\": 6, \"82\": 1, \"128\": 1, \"99\": 1, \"83\": 2, \"29\": 2}, \"99\": {\"99\": 9, \"72\": 1, \"103\": 1, \"33\": 3, \"44\": 2, \"29\": 2, \"85\": 1, \"7\": 1, \"20\": 1, \"26\": 1, \"75\": 2}, \"110\": {\"110\": 97, \"0\": 3, \"36\": 2, \"113\": 2}, \"43\": {\"43\": 70, \"87\": 2, \"126\": 6, \"96\": 1, \"8\": 12, \"70\": 1, \"122\": 2, \"93\": 4, \"118\": 1, \"36\": 1, \"11\": 7, \"30\": 2, \"27\": 3, \"106\": 1, \"39\": 1, \"24\": 2}, \"82\": {\"82\": 24, \"83\": 2, \"107\": 1, \"98\": 1, \"2\": 3, \"61\": 1, \"64\": 1, \"28\": 1, \"99\": 1, \"33\": 1}, \"1\": {\"1\": 87, \"34\": 1, \"3\": 4, \"14\": 1, \"40\": 1, \"33\": 2}, \"46\": {\"111\": 2, \"46\": 5, \"55\": 1, \"129\": 1, \"22\": 1, \"65\": 1, \"17\": 1}, \"16\": {\"16\": 74, \"18\": 1, \"127\": 1, \"69\": 6, \"70\": 2, \"26\": 16, \"62\": 3, \"113\": 2, \"60\": 1, \"14\": 1, \"101\": 1}, \"74\": {\"74\": 11, \"73\": 1, \"107\": 1, \"114\": 1, \"18\": 1, \"76\": 1}, \"32\": {\"32\": 22, \"29\": 2, \"49\": 1, \"114\": 3, \"56\": 1, \"73\": 1, \"107\": 1, \"89\": 1}, \"62\": {\"62\": 103, \"69\": 8, \"18\": 3, \"70\": 1, \"16\": 2, \"84\": 2, \"102\": 1}, \"27\": {\"27\": 53, \"87\": 3, \"11\": 5, \"93\": 7, \"30\": 8, \"126\": 5, \"43\": 2, \"122\": 3, \"15\": 1, \"110\": 1, \"24\": 1, \"21\": 1, \"108\": 1, \"8\": 1}, \"17\": {\"5\": 3, \"79\": 1, \"129\": 5, \"13\": 1, \"6\": 2, \"45\": 2, \"17\": 2}, \"36\": {\"36\": 109, \"87\": 1, \"110\": 1, \"15\": 13, \"94\": 3, \"8\": 2, \"122\": 1, \"43\": 2, \"23\": 1, \"10\": 1}, \"2\": {\"102\": 3, \"2\": 17, \"116\": 1, \"58\": 1, \"5\": 2, \"125\": 2, \"57\": 2, \"64\": 1, \"117\": 2, \"111\": 1}, \"70\": {\"70\": 106, \"109\": 13, \"10\": 7, \"24\": 1, \"108\": 1}, \"9\": {\"9\": 20, \"107\": 2, \"85\": 1, \"56\": 1, \"1\": 1, \"72\": 3, \"74\": 1, \"89\": 1, \"3\": 1, \"98\": 1}, \"114\": {\"114\": 121, \"107\": 4, \"1\": 1, \"33\": 3, \"90\": 1}, \"79\": {\"79\": 8, \"22\": 1, \"86\": 1, \"80\": 2}, \"56\": {\"128\": 1, \"107\": 2, \"56\": 7, \"98\": 1, \"32\": 1}, \"124\": {\"124\": 95, \"45\": 1, \"86\": 1, \"5\": 2, \"6\": 1, \"111\": 2}, \"84\": {\"84\": 97, \"106\": 7, \"7\": 21, \"105\": 1, \"12\": 1, \"62\": 2, \"69\": 1, \"18\": 2, \"23\": 2}, \"69\": {\"69\": 93, \"109\": 1, \"26\": 4, \"62\": 4, \"113\": 3, \"0\": 1, \"70\": 1, \"7\": 1}, \"58\": {\"58\": 7, \"91\": 2, \"111\": 1, \"68\": 2}, \"30\": {\"30\": 44, \"24\": 3, \"8\": 1, \"27\": 1, \"93\": 2, \"94\": 1}, \"55\": {\"55\": 8, \"5\": 3, \"46\": 1}, \"105\": {\"105\": 62, \"62\": 2, \"84\": 2, \"101\": 5, \"12\": 3, \"71\": 2, \"7\": 2, \"26\": 2, \"23\": 2, \"40\": 2}, \"63\": {\"115\": 1, \"63\": 5, \"117\": 1, \"102\": 2, \"86\": 3, \"80\": 2, \"57\": 1, \"13\": 1}, \"98\": {\"90\": 5, \"98\": 91, \"83\": 1, \"91\": 1, \"47\": 1, \"107\": 2, \"114\": 1, \"109\": 1, \"52\": 2, \"103\": 1, \"53\": 1, \"111\": 1}, \"116\": {\"116\": 22, \"111\": 1, \"5\": 2, \"21\": 1, \"124\": 1, \"2\": 1, \"65\": 1, \"86\": 1, \"17\": 1, \"129\": 1}}, \"W_3\": {\"76\": {\"76\": 3, \"19\": 1, \"53\": 2, \"20\": 2, \"1\": 1, \"105\": 1, \"38\": 2, \"18\": 1, \"74\": 2, \"120\": 1}, \"6\": {\"115\": 1, \"6\": 22, \"73\": 1, \"37\": 1, \"111\": 5, \"124\": 1, \"82\": 1}, \"108\": {\"108\": 75, \"30\": 3, \"11\": 2, \"118\": 3, \"8\": 3, \"36\": 6, \"24\": 1, \"109\": 2, \"27\": 3, \"10\": 1, \"87\": 4, \"43\": 2, \"0\": 1}, \"29\": {\"29\": 26, \"111\": 1, \"120\": 2, \"82\": 3}, \"83\": {\"83\": 13, \"46\": 2, \"34\": 1, \"98\": 1, \"32\": 1, \"3\": 1, \"66\": 1, \"20\": 1, \"114\": 1, \"128\": 2}, \"18\": {\"18\": 120, \"26\": 2, \"88\": 1, \"12\": 1, \"105\": 1, \"78\": 1, \"84\": 1, \"93\": 1}, \"54\": {\"54\": 12, \"9\": 2, \"20\": 2}, \"15\": {\"15\": 87, \"94\": 9, \"8\": 3, \"110\": 1, \"0\": 4}, \"100\": {\"46\": 1, \"100\": 10, \"38\": 1, \"19\": 1, \"98\": 1, \"44\": 1, \"57\": 1}, \"90\": {\"100\": 1, \"90\": 121, \"92\": 3, \"19\": 3, \"111\": 1, \"29\": 1, \"86\": 1, \"98\": 2, \"77\": 1, \"82\": 1, \"5\": 1}, \"26\": {\"26\": 119, \"39\": 1, \"93\": 2, \"88\": 1, \"16\": 2, \"90\": 1, \"40\": 2, \"127\": 1, \"101\": 1, \"84\": 2}, \"115\": {\"115\": 10, \"117\": 2, \"123\": 1, \"2\": 1, \"86\": 1, \"124\": 1}, \"94\": {\"15\": 14, \"94\": 60, \"0\": 4, \"8\": 4, \"62\": 1, \"73\": 1}, \"46\": {\"46\": 10, \"83\": 1, \"100\": 2, \"91\": 1, \"90\": 2}, \"121\": {\"121\": 28, \"22\": 2, \"29\": 2}, \"109\": {\"109\": 106, \"43\": 2, \"108\": 5, \"39\": 4, \"126\": 4, \"11\": 5, \"122\": 1, \"10\": 1}, \"101\": {\"101\": 38, \"60\": 2, \"12\": 3, \"98\": 1, \"93\": 2, \"16\": 4, \"23\": 2}, \"99\": {\"99\": 14, \"54\": 1, \"9\": 2, \"71\": 2, \"47\": 5, \"83\": 1, \"44\": 3, \"1\": 1, \"3\": 3, \"95\": 1, \"107\": 1, \"127\": 1, \"72\": 1}, \"8\": {\"8\": 88, \"12\": 1, \"94\": 4, \"122\": 2, \"0\": 13, \"30\": 2, \"87\": 3, \"88\": 1, \"101\": 3, \"110\": 2, \"36\": 1, \"62\": 1, \"97\": 1, \"15\": 5, \"27\": 1}, \"102\": {\"102\": 103, \"90\": 1}, \"122\": {\"36\": 1, \"122\": 40, \"90\": 1, \"118\": 3, \"110\": 3, \"43\": 1, \"30\": 1, \"109\": 2, \"96\": 2, \"11\": 1, \"87\": 3, \"113\": 1, \"8\": 1}, \"36\": {\"36\": 87, \"122\": 1, \"87\": 3, \"43\": 2, \"24\": 1, \"70\": 1, \"108\": 8, \"27\": 2, \"30\": 4, \"8\": 1, \"0\": 3, \"5\": 1, \"118\": 1, \"11\": 1}, \"113\": {\"113\": 100, \"43\": 1, \"11\": 3, \"87\": 2, \"10\": 1, \"16\": 2, \"12\": 2, \"118\": 3, \"96\": 2, \"122\": 1, \"26\": 2, \"110\": 1}, \"123\": {\"125\": 1, \"123\": 10, \"102\": 2, \"79\": 3}, \"120\": {\"102\": 1, \"120\": 12, \"128\": 2, \"46\": 2, \"116\": 1, \"79\": 1, \"57\": 1}, \"125\": {\"125\": 102, \"102\": 2, \"4\": 1, \"59\": 2, \"73\": 1}, \"89\": {\"89\": 17, \"50\": 1, \"120\": 1, \"100\": 1, \"44\": 3, \"64\": 1, \"46\": 1, \"92\": 2, \"32\": 1}, \"9\": {\"9\": 23, \"99\": 1, \"35\": 1, \"25\": 1, \"71\": 1, \"72\": 1, \"34\": 1, \"107\": 1, \"31\": 1, \"3\": 1}, \"31\": {\"99\": 1, \"31\": 11, \"69\": 1, \"61\": 1, \"82\": 1, \"71\": 1, \"74\": 2, \"107\": 2}, \"62\": {\"62\": 94, \"93\": 9, \"101\": 2, \"113\": 1, \"26\": 2, \"8\": 1, \"16\": 1, \"49\": 1, \"60\": 1, \"126\": 1, \"88\": 1}, \"49\": {\"49\": 5, \"101\": 3, \"14\": 1, \"105\": 1, \"71\": 2, \"84\": 1, \"40\": 4, \"60\": 1, \"16\": 2, \"69\": 1, \"6\": 1, \"127\": 2}, \"23\": {\"49\": 1, \"23\": 16, \"30\": 1, \"26\": 4, \"93\": 1, \"110\": 3, \"16\": 3, \"40\": 1, \"69\": 1, \"8\": 1}, \"55\": {\"55\": 12, \"52\": 2, \"77\": 1, \"44\": 1}, \"128\": {\"28\": 2, \"128\": 14, \"73\": 1, \"98\": 1, \"74\": 1, \"92\": 2, \"89\": 3, \"65\": 1, \"83\": 1, \"51\": 1, \"44\": 2, \"19\": 1, \"99\": 1, \"32\": 1}, \"71\": {\"71\": 54, \"1\": 2, \"124\": 1, \"40\": 2, \"105\": 5, \"14\": 2, \"3\": 2}, \"51\": {\"49\": 2, \"101\": 2, \"54\": 1, \"51\": 6, \"127\": 2, \"14\": 2, \"7\": 1}, \"7\": {\"7\": 84, \"49\": 2, \"106\": 12, \"101\": 5, \"60\": 1, \"12\": 2}, \"117\": {\"117\": 96, \"98\": 2, \"90\": 1, \"2\": 1, \"124\": 2, \"102\": 2}, \"28\": {\"28\": 9, \"128\": 1, \"19\": 1, \"9\": 1, \"32\": 3, \"92\": 1}, \"127\": {\"127\": 110, \"49\": 1, \"69\": 2, \"62\": 3, \"40\": 3, \"114\": 1, \"7\": 1, \"105\": 1, \"78\": 1, \"84\": 2, \"71\": 2, \"16\": 1}, \"57\": {\"57\": 10, \"128\": 1, \"61\": 1, \"103\": 1, \"112\": 1, \"19\": 1, \"31\": 1, \"76\": 1, \"55\": 1, \"92\": 1, \"90\": 1}, \"78\": {\"78\": 12, \"11\": 2, \"62\": 1, \"88\": 1}, \"87\": {\"122\": 3, \"87\": 105, \"118\": 1, \"62\": 1, \"30\": 1, \"110\": 2, \"0\": 3, \"8\": 3, \"27\": 1}, \"40\": {\"99\": 1, \"127\": 12, \"40\": 63, \"105\": 8, \"72\": 1, \"33\": 3, \"26\": 2, \"107\": 1, \"71\": 4, \"14\": 10, \"1\": 7, \"3\": 4, \"114\": 3, \"18\": 2, \"69\": 2, \"12\": 1, \"84\": 2, \"34\": 1, \"44\": 1}, \"81\": {\"81\": 17, \"20\": 1, \"33\": 2, \"92\": 3, \"107\": 1, \"74\": 1, \"89\": 2, \"28\": 2, \"44\": 1, \"121\": 2}, \"2\": {\"115\": 2, \"48\": 1, \"67\": 2, \"2\": 20, \"117\": 1, \"116\": 1, \"103\": 1}, \"58\": {\"90\": 1, \"58\": 5, \"19\": 2, \"95\": 1, \"52\": 1, \"55\": 1, \"91\": 1, \"38\": 1, \"25\": 1, \"20\": 1, \"54\": 1}, \"68\": {\"68\": 12, \"119\": 2, \"108\": 1, \"111\": 1}, \"20\": {\"9\": 1, \"35\": 1, \"34\": 2, \"1\": 2, \"76\": 1, \"20\": 4, \"31\": 2, \"33\": 1, \"107\": 1, \"103\": 1}, \"35\": {\"35\": 11, \"105\": 1}, \"96\": {\"96\": 16, \"122\": 1, \"62\": 2, \"8\": 1}, \"84\": {\"84\": 96, \"93\": 4, \"3\": 1, \"14\": 1, \"49\": 1, \"16\": 3, \"26\": 1, \"71\": 1}, \"13\": {\"88\": 2, \"13\": 6, \"63\": 1, \"80\": 1, \"104\": 1, \"119\": 2, \"39\": 1, \"4\": 1, \"21\": 1}, \"64\": {\"64\": 15, \"116\": 1, \"55\": 1, \"58\": 1, \"29\": 2}, \"112\": {\"103\": 1, \"112\": 5, \"48\": 1, \"41\": 2, \"111\": 1, \"40\": 1, \"42\": 1, \"52\": 2, \"66\": 1, \"124\": 1}, \"103\": {\"65\": 2, \"66\": 2, \"112\": 1, \"103\": 3, \"55\": 2, \"46\": 2, \"80\": 1, \"19\": 2, \"29\": 1}, \"65\": {\"65\": 10, \"68\": 1, \"128\": 1}, \"118\": {\"118\": 78, \"122\": 1, \"110\": 1, \"108\": 2, \"30\": 1, \"113\": 6, \"87\": 7, \"15\": 1, \"8\": 1, \"94\": 1, \"126\": 1}, \"88\": {\"88\": 108, \"70\": 2, \"124\": 1, \"5\": 1}, \"85\": {\"85\": 32, \"103\": 1, \"45\": 1, \"91\": 2}, \"5\": {\"112\": 1, \"5\": 92, \"21\": 1, \"90\": 4, \"102\": 2, \"124\": 4, \"87\": 1, \"129\": 1, \"88\": 1, \"125\": 2, \"111\": 3}, \"93\": {\"93\": 98, \"16\": 16, \"60\": 2, \"30\": 1, \"113\": 3, \"15\": 3, \"33\": 1, \"62\": 4, \"84\": 3, \"8\": 2, \"26\": 1, \"5\": 1, \"114\": 1, \"7\": 2}, \"43\": {\"43\": 36, \"27\": 1, \"39\": 4, \"87\": 3, \"11\": 5, \"109\": 2, \"122\": 1, \"126\": 1, \"8\": 2, \"21\": 1}, \"67\": {\"67\": 12, \"50\": 1, \"116\": 2, \"10\": 1}, \"48\": {\"48\": 11, \"64\": 1, \"85\": 1, \"67\": 1, \"91\": 2}, \"73\": {\"112\": 1, \"28\": 1, \"120\": 1, \"58\": 1, \"73\": 30, \"128\": 2, \"77\": 1, \"89\": 1, \"124\": 1, \"86\": 1}, \"34\": {\"105\": 1, \"34\": 14, \"99\": 1, \"107\": 3, \"95\": 2, \"3\": 2, \"47\": 1, \"54\": 4, \"9\": 1, \"83\": 1, \"72\": 2}, \"91\": {\"91\": 13, \"28\": 1, \"50\": 1, \"66\": 1, \"85\": 2, \"86\": 2, \"52\": 1, \"65\": 1, \"82\": 1, \"92\": 1}, \"105\": {\"105\": 92, \"47\": 1, \"71\": 4, \"40\": 10, \"1\": 2, \"3\": 7, \"69\": 1, \"114\": 1, \"95\": 1, \"72\": 2, \"127\": 2, \"5\": 1}, \"10\": {\"10\": 90, \"109\": 6, \"108\": 1, \"39\": 2, \"70\": 1, \"27\": 4, \"36\": 1, \"88\": 1}, \"61\": {\"61\": 14, \"81\": 2}, \"74\": {\"74\": 9, \"38\": 2, \"82\": 1, \"41\": 1, \"76\": 3}, \"4\": {\"4\": 93, \"88\": 1, \"125\": 2}, \"37\": {\"37\": 12, \"52\": 1, \"104\": 2, \"125\": 1}, \"19\": {\"19\": 23, \"66\": 2, \"44\": 1, \"95\": 1, \"82\": 1, \"91\": 1, \"55\": 1, \"90\": 1, \"28\": 1}, \"44\": {\"44\": 61, \"76\": 1, \"57\": 1, \"95\": 1, \"72\": 2, \"32\": 1, \"98\": 1, \"83\": 1, \"114\": 1, \"30\": 1, \"73\": 1}, \"52\": {\"52\": 11, \"85\": 1, \"25\": 1, \"55\": 1, \"83\": 1, \"112\": 1}, \"92\": {\"92\": 24, \"50\": 1, \"128\": 2, \"74\": 1, \"34\": 1, \"120\": 1, \"57\": 2}, \"33\": {\"33\": 120, \"99\": 2, \"107\": 3, \"93\": 1, \"114\": 2}, \"45\": {\"45\": 10, \"77\": 2, \"64\": 1, \"2\": 2, \"6\": 1}, \"11\": {\"11\": 94, \"110\": 2, \"108\": 7, \"122\": 1, \"126\": 8, \"101\": 1, \"30\": 1, \"109\": 8, \"43\": 2, \"27\": 1, \"36\": 2, \"118\": 1}, \"129\": {\"45\": 1, \"129\": 23, \"104\": 3, \"42\": 1, \"82\": 1, \"102\": 1, \"5\": 2}, \"116\": {\"116\": 19, \"117\": 2, \"42\": 2, \"90\": 1, \"85\": 2, \"129\": 1, \"89\": 1}, \"75\": {\"72\": 2, \"75\": 10, \"47\": 1, \"24\": 1, \"44\": 1, \"99\": 1}, \"41\": {\"25\": 1, \"41\": 8, \"103\": 1, \"42\": 1, \"112\": 1, \"77\": 1, \"68\": 1, \"65\": 1, \"58\": 1}, \"21\": {\"21\": 44, \"88\": 2, \"70\": 1, \"86\": 1}, \"69\": {\"69\": 74, \"88\": 2, \"3\": 2, \"127\": 2, \"14\": 2, \"26\": 2}, \"16\": {\"16\": 74, \"127\": 1, \"96\": 1, \"93\": 17, \"113\": 1, \"84\": 1, \"62\": 9, \"101\": 1, \"8\": 1, \"21\": 1, \"7\": 1}, \"25\": {\"25\": 8, \"52\": 1, \"56\": 1, \"58\": 2, \"41\": 1, \"24\": 1, \"37\": 1, \"95\": 1}, \"12\": {\"12\": 84, \"7\": 12, \"106\": 6, \"97\": 1, \"88\": 1}, \"72\": {\"72\": 15, \"75\": 3, \"9\": 1, \"71\": 1, \"69\": 1, \"95\": 1, \"34\": 1, \"40\": 2, \"105\": 1, \"1\": 2}, \"0\": {\"0\": 91, \"8\": 7, \"101\": 1, \"30\": 2, \"108\": 3, \"87\": 4, \"110\": 2, \"94\": 1, \"126\": 1, \"10\": 1, \"11\": 2, \"15\": 1}, \"50\": {\"5\": 3, \"50\": 5, \"52\": 1, \"41\": 1, \"13\": 1, \"103\": 1, \"45\": 1, \"66\": 1, \"100\": 2}, \"107\": {\"107\": 115, \"53\": 1, \"9\": 1, \"44\": 2, \"33\": 10, \"114\": 9, \"20\": 1, \"1\": 1}, \"124\": {\"124\": 95, \"123\": 1, \"41\": 1, \"111\": 12, \"5\": 10, \"104\": 2, \"125\": 2, \"102\": 1}, \"53\": {\"53\": 7, \"107\": 1, \"9\": 1, \"56\": 1, \"44\": 3, \"57\": 1, \"31\": 2, \"20\": 1, \"88\": 1, \"46\": 1, \"95\": 1}, \"66\": {\"50\": 1, \"103\": 1, \"29\": 1, \"116\": 1, \"66\": 7, \"19\": 1, \"64\": 1, \"77\": 1, \"89\": 1, \"32\": 1}, \"47\": {\"9\": 2, \"75\": 2, \"47\": 6, \"34\": 1, \"99\": 1}, \"24\": {\"24\": 34, \"10\": 2, \"27\": 2, \"11\": 2, \"43\": 1, \"36\": 1, \"12\": 2, \"108\": 1, \"88\": 1, \"109\": 1, \"39\": 1}, \"95\": {\"95\": 24, \"39\": 1, \"74\": 1, \"44\": 1, \"40\": 1, \"83\": 2, \"98\": 2}, \"98\": {\"50\": 1, \"98\": 79, \"95\": 1, \"99\": 1, \"100\": 2, \"34\": 1, \"83\": 1, \"32\": 2, \"44\": 2, \"90\": 2, \"107\": 3, \"1\": 1, \"114\": 3, \"25\": 1, \"51\": 1, \"19\": 1, \"9\": 1, \"73\": 2, \"33\": 1}, \"63\": {\"63\": 15, \"119\": 1}, \"3\": {\"71\": 2, \"3\": 94, \"1\": 5, \"70\": 1, \"107\": 1, \"105\": 7, \"127\": 1, \"109\": 1, \"40\": 3, \"10\": 1}, \"14\": {\"14\": 73, \"69\": 1, \"40\": 3, \"84\": 2, \"122\": 1}, \"1\": {\"1\": 77, \"110\": 1, \"38\": 1, \"83\": 1, \"107\": 3, \"3\": 6, \"114\": 9, \"40\": 3, \"69\": 1, \"105\": 5, \"33\": 1}, \"38\": {\"38\": 9, \"20\": 1, \"19\": 1, \"74\": 1, \"32\": 1, \"56\": 1, \"107\": 2}, \"110\": {\"122\": 3, \"110\": 63, \"88\": 2, \"8\": 9, \"36\": 1, \"0\": 1, \"7\": 1, \"108\": 1, \"39\": 1, \"101\": 1, \"15\": 2, \"118\": 1, \"87\": 2, \"113\": 2, \"5\": 1, \"126\": 1}, \"17\": {\"11\": 1, \"17\": 8, \"124\": 2, \"129\": 2, \"111\": 1, \"63\": 2}, \"30\": {\"30\": 67, \"108\": 1, \"43\": 1, \"0\": 2, \"111\": 1, \"36\": 3, \"8\": 2, \"122\": 2, \"24\": 1, \"118\": 1, \"94\": 1, \"87\": 2}, \"56\": {\"24\": 2, \"57\": 2, \"56\": 6, \"28\": 2}, \"27\": {\"27\": 73, \"109\": 1, \"36\": 4, \"10\": 6, \"70\": 2, \"39\": 2, \"108\": 3, \"11\": 3, \"122\": 1, \"30\": 1}, \"104\": {\"104\": 6, \"4\": 1, \"48\": 1, \"68\": 1, \"85\": 1, \"129\": 2, \"115\": 2, \"124\": 1, \"41\": 1}, \"97\": {\"97\": 13, \"60\": 2, \"15\": 2, \"49\": 2, \"8\": 1}, \"42\": {\"42\": 6, \"112\": 1, \"25\": 1, \"82\": 1, \"85\": 1, \"45\": 1, \"64\": 1, \"111\": 2, \"22\": 1, \"121\": 2, \"59\": 1, \"68\": 1, \"58\": 2, \"124\": 2, \"100\": 1, \"129\": 2, \"5\": 1, \"29\": 1}, \"39\": {\"39\": 93, \"10\": 2, \"27\": 3, \"11\": 3, \"109\": 5, \"70\": 1, \"88\": 1}, \"70\": {\"39\": 3, \"70\": 58, \"109\": 1, \"24\": 1, \"27\": 1, \"10\": 5, \"88\": 2, \"21\": 1}, \"86\": {\"86\": 22, \"111\": 3, \"115\": 1, \"125\": 1, \"117\": 1}, \"119\": {\"119\": 11, \"86\": 1, \"123\": 1, \"2\": 1, \"48\": 1, \"17\": 1}, \"77\": {\"77\": 16}, \"59\": {\"59\": 12}, \"22\": {\"22\": 6, \"103\": 1, \"129\": 1, \"124\": 1, \"42\": 1, \"111\": 1, \"123\": 1, \"104\": 2, \"48\": 2}, \"79\": {\"79\": 11, \"17\": 1}, \"80\": {\"80\": 16}, \"111\": {\"111\": 114, \"71\": 1, \"37\": 1, \"5\": 3, \"125\": 1, \"124\": 11, \"68\": 1}, \"82\": {\"128\": 4, \"121\": 1, \"82\": 15, \"90\": 2, \"19\": 1, \"100\": 3, \"66\": 1, \"92\": 1}, \"126\": {\"126\": 104, \"11\": 6, \"109\": 4, \"70\": 1, \"108\": 1, \"87\": 2, \"39\": 2, \"10\": 1, \"81\": 1, \"88\": 1, \"43\": 1}, \"32\": {\"33\": 2, \"32\": 20, \"44\": 2, \"107\": 3, \"98\": 2, \"114\": 1, \"81\": 1, \"28\": 1}, \"106\": {\"106\": 78, \"70\": 1, \"12\": 7, \"7\": 9, \"101\": 1, \"93\": 2, \"39\": 1, \"8\": 1}, \"60\": {\"60\": 15, \"96\": 1, \"93\": 1, \"7\": 2, \"110\": 3, \"127\": 1, \"12\": 2, \"62\": 1, \"23\": 1, \"49\": 1}, \"114\": {\"114\": 84, \"107\": 7, \"3\": 4, \"1\": 9, \"90\": 1, \"33\": 2, \"39\": 1}}, \"C_3\": {\"14\": {\"14\": 34, \"39\": 1, \"8\": 1, \"57\": 1, \"9\": 1, \"13\": 1, \"1\": 1}, \"18\": {\"18\": 84}, \"30\": {\"30\": 119, \"40\": 1}, \"16\": {\"16\": 135, \"15\": 14, \"11\": 6, \"25\": 1}, \"1\": {\"1\": 87, \"29\": 4, \"9\": 1, \"47\": 3, \"48\": 2, \"41\": 1, \"57\": 2}, \"20\": {\"20\": 96, \"41\": 1, \"9\": 14, \"48\": 6, \"29\": 3, \"27\": 6, \"8\": 3, \"52\": 1, \"1\": 1, \"47\": 1}, \"7\": {\"55\": 1, \"7\": 17, \"35\": 1, \"32\": 1, \"34\": 2, \"36\": 4, \"14\": 2, \"43\": 1, \"2\": 1, \"42\": 1, \"13\": 4, \"38\": 1}, \"52\": {\"52\": 128, \"47\": 1, \"4\": 1}, \"9\": {\"9\": 120, \"1\": 3, \"20\": 4, \"33\": 1, \"48\": 8, \"57\": 2, \"41\": 1, \"27\": 1}, \"23\": {\"23\": 123, \"26\": 4, \"19\": 9, \"54\": 1, \"53\": 2, \"49\": 1, \"24\": 4}, \"55\": {\"42\": 4, \"55\": 128, \"24\": 2, \"37\": 5, \"43\": 10, \"17\": 6, \"34\": 2, \"49\": 1, \"51\": 2, \"7\": 1, \"54\": 1, \"23\": 2}, \"29\": {\"1\": 9, \"9\": 9, \"14\": 1, \"29\": 87, \"47\": 3, \"48\": 6, \"41\": 2, \"57\": 7, \"27\": 1, \"52\": 1}, \"56\": {\"56\": 120, \"47\": 2, \"22\": 7, \"29\": 1, \"1\": 1, \"57\": 1, \"48\": 1, \"9\": 1}, \"3\": {\"6\": 9, \"44\": 15, \"3\": 83, \"50\": 10, \"21\": 1, \"5\": 1, \"46\": 2, \"45\": 2, \"12\": 1}, \"42\": {\"42\": 22, \"55\": 4, \"37\": 2}, \"6\": {\"6\": 72, \"5\": 1, \"46\": 1, \"44\": 2, \"3\": 8, \"45\": 4}, \"5\": {\"5\": 106, \"46\": 7, \"50\": 2, \"3\": 1}, \"27\": {\"41\": 3, \"27\": 108, \"9\": 6, \"4\": 2, \"20\": 4, \"47\": 3, \"8\": 12, \"57\": 1, \"48\": 3, \"52\": 1, \"33\": 1}, \"47\": {\"47\": 70, \"41\": 3, \"29\": 2, \"52\": 2, \"57\": 2, \"48\": 4, \"1\": 5, \"56\": 3, \"9\": 1}, \"39\": {\"39\": 14, \"33\": 1, \"57\": 1}, \"34\": {\"34\": 20, \"35\": 4, \"55\": 3, \"26\": 1, \"23\": 2, \"19\": 1, \"36\": 1}, \"4\": {\"4\": 106, \"20\": 4, \"52\": 4, \"27\": 5, \"48\": 3, \"8\": 2, \"9\": 2}, \"24\": {\"24\": 103, \"26\": 1}, \"46\": {\"46\": 88, \"50\": 8, \"21\": 11, \"5\": 7, \"12\": 1, \"40\": 2, \"44\": 1}, \"50\": {\"46\": 12, \"3\": 5, \"50\": 89, \"21\": 9, \"12\": 4, \"6\": 1, \"44\": 3, \"40\": 1, \"5\": 2}, \"38\": {\"2\": 1, \"38\": 25, \"14\": 1, \"36\": 1}, \"54\": {\"54\": 91, \"26\": 1, \"53\": 1, \"19\": 2, \"23\": 5}, \"35\": {\"35\": 19, \"7\": 2, \"42\": 2, \"36\": 1, \"55\": 1, \"49\": 2, \"43\": 1}, \"2\": {\"38\": 3, \"2\": 24, \"51\": 2, \"36\": 2, \"49\": 1}, \"41\": {\"41\": 12, \"27\": 2, \"9\": 4, \"52\": 1, \"29\": 2, \"36\": 2, \"57\": 3, \"47\": 1, \"33\": 1}, \"57\": {\"57\": 86, \"48\": 4, \"1\": 10, \"47\": 4, \"29\": 14}, \"25\": {\"25\": 116, \"16\": 16, \"15\": 14, \"11\": 4}, \"48\": {\"57\": 3, \"48\": 74, \"56\": 2, \"20\": 6, \"1\": 7, \"29\": 10, \"9\": 9, \"27\": 2, \"52\": 1, \"4\": 1, \"47\": 1}, \"33\": {\"33\": 28}, \"45\": {\"45\": 48, \"6\": 6, \"44\": 5, \"50\": 1}, \"13\": {\"14\": 2, \"13\": 124}, \"36\": {\"36\": 93, \"38\": 2, \"13\": 2, \"34\": 1, \"17\": 1, \"51\": 1}, \"43\": {\"43\": 119, \"49\": 2, \"55\": 6, \"23\": 4, \"24\": 1}, \"28\": {\"28\": 28}, \"0\": {\"0\": 123, \"22\": 1}, \"12\": {\"12\": 76, \"50\": 6, \"21\": 2, \"46\": 5, \"44\": 1, \"3\": 2}, \"31\": {\"31\": 26, \"24\": 2}, \"40\": {\"40\": 99, \"30\": 5, \"21\": 3, \"0\": 1, \"46\": 3, \"22\": 3, \"5\": 1, \"44\": 1}, \"44\": {\"5\": 4, \"3\": 8, \"44\": 61, \"50\": 3, \"12\": 6, \"40\": 1, \"6\": 4, \"45\": 1}, \"32\": {\"32\": 25, \"36\": 2, \"37\": 1}, \"26\": {\"26\": 21, \"23\": 2, \"24\": 1}, \"8\": {\"8\": 81, \"20\": 3, \"27\": 20, \"4\": 2, \"9\": 5, \"52\": 2, \"29\": 2, \"48\": 1}, \"10\": {\"10\": 63, \"11\": 1}, \"15\": {\"15\": 120, \"16\": 5, \"11\": 12, \"25\": 5}, \"21\": {\"21\": 114, \"50\": 3, \"46\": 8, \"40\": 3}, \"37\": {\"37\": 28}, \"17\": {\"17\": 107, \"51\": 1}, \"51\": {\"51\": 118, \"38\": 1, \"17\": 3, \"13\": 2}, \"53\": {\"53\": 139, \"19\": 3, \"54\": 1, \"25\": 1}, \"19\": {\"19\": 130, \"53\": 5, \"23\": 1}, \"49\": {\"49\": 10, \"14\": 1, \"43\": 4, \"23\": 1, \"55\": 1, \"17\": 1, \"36\": 2}, \"11\": {\"11\": 101, \"15\": 21, \"16\": 15, \"25\": 1}, \"22\": {\"22\": 110, \"0\": 11, \"47\": 1, \"56\": 8}}}, \"per_domain_accuracy\": {\"O_8\": {\"accuracy\": 0.37213541666666666, \"source?\": true}, \"O_38\": {\"accuracy\": 0.8692708333333333, \"source?\": true}, \"O_26\": {\"accuracy\": 0.57578125, \"source?\": true}, \"O_20\": {\"accuracy\": 0.25052083333333336, \"source?\": true}, \"O_50\": {\"accuracy\": 0.9299479166666667, \"source?\": true}, \"O_32\": {\"accuracy\": 0.72734375, \"source?\": true}, \"O_44\": {\"accuracy\": 0.7369791666666666, \"source?\": true}, \"O_14\": {\"accuracy\": 0.44244791666666666, \"source?\": true}, \"C_2\": {\"accuracy\": 0.8517400568181818, \"source?\": false}, \"W_2\": {\"accuracy\": 0.7077205882352942, \"source?\": false}, \"C_5\": {\"accuracy\": 0.8753511235955056, \"source?\": false}, \"C_1\": {\"accuracy\": 0.9036744505494505, \"source?\": false}, \"W_4\": {\"accuracy\": 0.7088477366255144, \"source?\": false}, \"C_4\": {\"accuracy\": 0.8274700598802395, \"source?\": false}, \"W_1\": {\"accuracy\": 0.7525265957446808, \"source?\": false}, \"W_3\": {\"accuracy\": 0.7655561674008811, \"source?\": false}, \"C_3\": {\"accuracy\": 0.8402777777777778, \"source?\": false}}}, \"history\": {\"epoch_indices\": [1, 2, 3, 4, 5], \"train_label_loss\": [0.42514676900630416, 1.6138339904275718, 0.2239505916425038, 0.21865782613216045, 0.18071404522890502], \"source_val_label_loss\": [174.37115478515625, 0.27041512727737427, 0.20847143232822418, 0.1882391721010208, 0.21323011815547943], \"target_val_label_loss\": [9551.7041015625, 1160.210205078125, 1328.0699462890625, 1619.177734375, 2057.805419921875], \"source_val_acc_label\": [0.6130533854166667, 0.90546875, 0.9309895833333334, 0.9350911458333333, 0.92353515625], \"target_val_acc_label\": [0.7943725921849202, 0.6746525866813429, 0.7003130159603742, 0.7248383324160704, 0.686330489818382]}, \"dataset_metrics\": {\"source\": {\"train\": {\"n_unique_x\": 179200, \"n_unique_y\": 16, \"n_batch/episode\": 6720}, \"val\": {\"n_unique_x\": 38400, \"n_unique_y\": 16, \"n_batch/episode\": 960}, \"test\": {\"n_unique_x\": 38400, \"n_unique_y\": 16, \"n_batch/episode\": 960}}, \"target\": {\"train\": {\"n_unique_x\": 364101, \"n_unique_y\": 130, \"n_batch/episode\": 13150}, \"val\": {\"n_unique_x\": 77154, \"n_unique_y\": 130, \"n_batch/episode\": 1817}, \"test\": {\"n_unique_x\": 78411, \"n_unique_y\": 130, \"n_batch/episode\": 1853}}}}'"
      ]
     },
     "execution_count": 29,
     "metadata": {},
     "output_type": "execute_result"
    }
   ],
   "source": [
    "json.dumps(experiment)"
   ]
  }
 ],
 "metadata": {
  "celltoolbar": "Tags",
  "kernelspec": {
   "display_name": "Python 3 (ipykernel)",
   "language": "python",
   "name": "python3"
  },
  "language_info": {
   "codemirror_mode": {
    "name": "ipython",
    "version": 3
   },
   "file_extension": ".py",
   "mimetype": "text/x-python",
   "name": "python",
   "nbconvert_exporter": "python",
   "pygments_lexer": "ipython3",
   "version": "3.8.10"
  },
  "papermill": {
   "default_parameters": {},
   "duration": 1102.034488,
   "end_time": "2022-03-19T23:05:43.139725",
   "environment_variables": {},
   "exception": null,
   "input_path": "/mnt/wd500GB/CSC500/csc500-main/csc500-notebooks/templates/tl_ptn_template.ipynb",
   "output_path": "trial.ipynb",
   "parameters": {
    "parameters": {
     "BEST_MODEL_PATH": "./best_model.pth",
     "NUM_LOGS_PER_EPOCH": 10,
     "criteria_for_best": "target_accuracy",
     "dataset_seed": 154325,
     "datasets": [
      {
       "domain_prefix": "C_",
       "domains": [
        1,
        2,
        3,
        4,
        5
       ],
       "episode_transforms": [],
       "labels": [
        "1-10.",
        "1-11.",
        "1-15.",
        "1-16.",
        "1-17.",
        "1-18.",
        "1-19.",
        "10-4.",
        "10-7.",
        "11-1.",
        "11-14.",
        "11-17.",
        "11-20.",
        "11-7.",
        "13-20.",
        "13-8.",
        "14-10.",
        "14-11.",
        "14-14.",
        "14-7.",
        "15-1.",
        "15-20.",
        "16-1.",
        "16-16.",
        "17-10.",
        "17-11.",
        "17-2.",
        "19-1.",
        "19-16.",
        "19-19.",
        "19-20.",
        "19-3.",
        "2-10.",
        "2-11.",
        "2-17.",
        "2-18.",
        "2-20.",
        "2-3.",
        "2-4.",
        "2-5.",
        "2-6.",
        "2-7.",
        "2-8.",
        "3-13.",
        "3-18.",
        "3-3.",
        "4-1.",
        "4-10.",
        "4-11.",
        "4-19.",
        "5-5.",
        "6-15.",
        "7-10.",
        "7-14.",
        "8-18.",
        "8-20.",
        "8-3.",
        "8-8."
       ],
       "num_examples_per_domain_per_label": -1,
       "pickle_path": "/mnt/wd500GB/CSC500/csc500-main/datasets/cores.stratified_ds.2022A.pkl",
       "source_or_target_dataset": "target",
       "x_transforms": []
      },
      {
       "domain_prefix": "W_",
       "domains": [
        1,
        2,
        3,
        4
       ],
       "episode_transforms": [],
       "labels": [
        "1-10",
        "1-12",
        "1-14",
        "1-16",
        "1-18",
        "1-19",
        "1-8",
        "10-11",
        "10-17",
        "10-4",
        "10-7",
        "11-1",
        "11-10",
        "11-19",
        "11-20",
        "11-4",
        "11-7",
        "12-19",
        "12-20",
        "12-7",
        "13-14",
        "13-18",
        "13-19",
        "13-20",
        "13-3",
        "13-7",
        "14-10",
        "14-11",
        "14-12",
        "14-13",
        "14-14",
        "14-19",
        "14-20",
        "14-7",
        "14-8",
        "14-9",
        "15-1",
        "15-19",
        "15-6",
        "16-1",
        "16-16",
        "16-19",
        "16-20",
        "17-10",
        "17-11",
        "18-1",
        "18-10",
        "18-11",
        "18-12",
        "18-13",
        "18-14",
        "18-15",
        "18-16",
        "18-17",
        "18-19",
        "18-2",
        "18-20",
        "18-4",
        "18-5",
        "18-7",
        "18-8",
        "18-9",
        "19-1",
        "19-10",
        "19-11",
        "19-12",
        "19-13",
        "19-14",
        "19-15",
        "19-19",
        "19-2",
        "19-20",
        "19-3",
        "19-4",
        "19-6",
        "19-7",
        "19-8",
        "19-9",
        "2-1",
        "2-13",
        "2-15",
        "2-3",
        "2-4",
        "2-5",
        "2-6",
        "2-7",
        "2-8",
        "20-1",
        "20-12",
        "20-14",
        "20-15",
        "20-16",
        "20-18",
        "20-19",
        "20-20",
        "20-3",
        "20-4",
        "20-5",
        "20-7",
        "20-8",
        "3-1",
        "3-13",
        "3-18",
        "3-2",
        "3-8",
        "4-1",
        "4-10",
        "4-11",
        "5-1",
        "5-5",
        "6-1",
        "6-15",
        "6-6",
        "7-10",
        "7-11",
        "7-12",
        "7-13",
        "7-14",
        "7-7",
        "7-8",
        "7-9",
        "8-1",
        "8-13",
        "8-14",
        "8-18",
        "8-20",
        "8-3",
        "8-8",
        "9-1",
        "9-7"
       ],
       "num_examples_per_domain_per_label": -1,
       "pickle_path": "/mnt/wd500GB/CSC500/csc500-main/datasets/wisig.node3-19.stratified_ds.2022A.pkl",
       "source_or_target_dataset": "target",
       "x_transforms": []
      },
      {
       "domain_prefix": "O_",
       "domains": [
        32,
        38,
        8,
        44,
        14,
        50,
        20,
        26
       ],
       "episode_transforms": [],
       "labels": [
        "3123D52",
        "3123D65",
        "3123D79",
        "3123D80",
        "3123D54",
        "3123D70",
        "3123D7B",
        "3123D89",
        "3123D58",
        "3123D76",
        "3123D7D",
        "3123EFE",
        "3123D64",
        "3123D78",
        "3123D7E",
        "3124E4A"
       ],
       "num_examples_per_domain_per_label": 2000,
       "pickle_path": "/mnt/wd500GB/CSC500/csc500-main/datasets/oracle.Run1_framed_2000Examples_stratified_ds.2022A.pkl",
       "source_or_target_dataset": "source",
       "x_transforms": []
      }
     ],
     "device": "cuda",
     "experiment_name": "tl_2v2:oracle.run1.framed -> cores+wisig",
     "lr": 0.0001,
     "n_epoch": 50,
     "n_query": 2,
     "n_shot": 3,
     "n_way": 16,
     "patience": 3,
     "seed": 154325,
     "test_k_factor": 2,
     "torch_default_dtype": "torch.float32",
     "train_k_factor": 3,
     "val_k_factor": 2,
     "x_net": [
      {
       "class": "nnReshape",
       "kargs": {
        "shape": [
         -1,
         1,
         2,
         256
        ]
       }
      },
      {
       "class": "Conv2d",
       "kargs": {
        "bias": false,
        "in_channels": 1,
        "kernel_size": [
         1,
         7
        ],
        "out_channels": 256,
        "padding": [
         0,
         3
        ]
       }
      },
      {
       "class": "ReLU",
       "kargs": {
        "inplace": true
       }
      },
      {
       "class": "BatchNorm2d",
       "kargs": {
        "num_features": 256
       }
      },
      {
       "class": "Conv2d",
       "kargs": {
        "bias": true,
        "in_channels": 256,
        "kernel_size": [
         2,
         7
        ],
        "out_channels": 80,
        "padding": [
         0,
         3
        ]
       }
      },
      {
       "class": "ReLU",
       "kargs": {
        "inplace": true
       }
      },
      {
       "class": "BatchNorm2d",
       "kargs": {
        "num_features": 80
       }
      },
      {
       "class": "Flatten",
       "kargs": {}
      },
      {
       "class": "Linear",
       "kargs": {
        "in_features": 20480,
        "out_features": 256
       }
      },
      {
       "class": "ReLU",
       "kargs": {
        "inplace": true
       }
      },
      {
       "class": "BatchNorm1d",
       "kargs": {
        "num_features": 256
       }
      },
      {
       "class": "Linear",
       "kargs": {
        "in_features": 256,
        "out_features": 256
       }
      }
     ]
    }
   },
   "start_time": "2022-03-19T22:47:21.105237",
   "version": "2.3.4"
  }
 },
 "nbformat": 4,
 "nbformat_minor": 5
}