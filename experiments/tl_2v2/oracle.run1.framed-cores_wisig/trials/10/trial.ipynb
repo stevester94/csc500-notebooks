{
 "cells": [
  {
   "cell_type": "markdown",
   "id": "9fea5f46",
   "metadata": {
    "papermill": {
     "duration": 0.017285,
     "end_time": "2022-03-19T23:31:13.651998",
     "exception": false,
     "start_time": "2022-03-19T23:31:13.634713",
     "status": "completed"
    },
    "tags": []
   },
   "source": [
    "# Transfer Learning Template"
   ]
  },
  {
   "cell_type": "code",
   "execution_count": 1,
   "id": "0902182a",
   "metadata": {
    "execution": {
     "iopub.execute_input": "2022-03-19T23:31:13.689239Z",
     "iopub.status.busy": "2022-03-19T23:31:13.688872Z",
     "iopub.status.idle": "2022-03-19T23:31:14.617128Z",
     "shell.execute_reply": "2022-03-19T23:31:14.617517Z"
    },
    "papermill": {
     "duration": 0.953213,
     "end_time": "2022-03-19T23:31:14.617698",
     "exception": false,
     "start_time": "2022-03-19T23:31:13.664485",
     "status": "completed"
    },
    "tags": []
   },
   "outputs": [],
   "source": [
    "%load_ext autoreload\n",
    "%autoreload 2\n",
    "%matplotlib inline\n",
    "\n",
    "    \n",
    "import os, json, sys, time, random\n",
    "import numpy as np\n",
    "import torch\n",
    "from torch.optim import Adam\n",
    "from  easydict import EasyDict\n",
    "import matplotlib.pyplot as plt\n",
    "\n",
    "from steves_models.steves_ptn import Steves_Prototypical_Network\n",
    "\n",
    "from steves_utils.lazy_iterable_wrapper import Lazy_Iterable_Wrapper\n",
    "from steves_utils.iterable_aggregator import Iterable_Aggregator\n",
    "from steves_utils.ptn_train_eval_test_jig import  PTN_Train_Eval_Test_Jig\n",
    "from steves_utils.torch_sequential_builder import build_sequential\n",
    "from steves_utils.torch_utils import get_dataset_metrics, ptn_confusion_by_domain_over_dataloader\n",
    "from steves_utils.utils_v2 import (per_domain_accuracy_from_confusion, get_datasets_base_path)\n",
    "from steves_utils.PTN.utils import independent_accuracy_assesment\n",
    "\n",
    "from torch.utils.data import DataLoader\n",
    "\n",
    "from steves_utils.stratified_dataset.episodic_accessor import Episodic_Accessor_Factory\n",
    "\n",
    "from steves_utils.ptn_do_report import (\n",
    "    get_loss_curve,\n",
    "    get_results_table,\n",
    "    get_parameters_table,\n",
    "    get_domain_accuracies,\n",
    ")\n",
    "\n",
    "from steves_utils.transforms import get_chained_transform"
   ]
  },
  {
   "cell_type": "markdown",
   "id": "41c840b4",
   "metadata": {
    "papermill": {
     "duration": 0.012393,
     "end_time": "2022-03-19T23:31:14.647468",
     "exception": false,
     "start_time": "2022-03-19T23:31:14.635075",
     "status": "completed"
    },
    "tags": []
   },
   "source": [
    "# Allowed Parameters\n",
    "These are allowed parameters, not defaults\n",
    "Each of these values need to be present in the injected parameters (the notebook will raise an exception if they are not present)\n",
    "\n",
    "Papermill uses the cell tag \"parameters\" to inject the real parameters below this cell.\n",
    "Enable tags to see what I mean"
   ]
  },
  {
   "cell_type": "code",
   "execution_count": 2,
   "id": "fd44eb83",
   "metadata": {
    "execution": {
     "iopub.execute_input": "2022-03-19T23:31:14.675161Z",
     "iopub.status.busy": "2022-03-19T23:31:14.674903Z",
     "iopub.status.idle": "2022-03-19T23:31:14.689545Z",
     "shell.execute_reply": "2022-03-19T23:31:14.689830Z"
    },
    "papermill": {
     "duration": 0.030044,
     "end_time": "2022-03-19T23:31:14.689912",
     "exception": false,
     "start_time": "2022-03-19T23:31:14.659868",
     "status": "completed"
    },
    "tags": []
   },
   "outputs": [],
   "source": [
    "required_parameters = {\n",
    "    \"experiment_name\",\n",
    "    \"lr\",\n",
    "    \"device\",\n",
    "    \"seed\",\n",
    "    \"dataset_seed\",\n",
    "    \"n_shot\",\n",
    "    \"n_query\",\n",
    "    \"n_way\",\n",
    "    \"train_k_factor\",\n",
    "    \"val_k_factor\",\n",
    "    \"test_k_factor\",\n",
    "    \"n_epoch\",\n",
    "    \"patience\",\n",
    "    \"criteria_for_best\",\n",
    "    \"x_net\",\n",
    "    \"datasets\",\n",
    "    \"torch_default_dtype\",\n",
    "    \"NUM_LOGS_PER_EPOCH\",\n",
    "    \"BEST_MODEL_PATH\",\n",
    "    \"x_shape\",\n",
    "}"
   ]
  },
  {
   "cell_type": "code",
   "execution_count": 3,
   "id": "fa3f0049",
   "metadata": {
    "execution": {
     "iopub.execute_input": "2022-03-19T23:31:14.727438Z",
     "iopub.status.busy": "2022-03-19T23:31:14.727146Z",
     "iopub.status.idle": "2022-03-19T23:31:14.739078Z",
     "shell.execute_reply": "2022-03-19T23:31:14.739445Z"
    },
    "papermill": {
     "duration": 0.034105,
     "end_time": "2022-03-19T23:31:14.739552",
     "exception": false,
     "start_time": "2022-03-19T23:31:14.705447",
     "status": "completed"
    },
    "tags": [
     "parameters"
    ]
   },
   "outputs": [],
   "source": [
    "from steves_utils.CORES.utils import (\n",
    "    ALL_NODES,\n",
    "    ALL_NODES_MINIMUM_1000_EXAMPLES,\n",
    "    ALL_DAYS\n",
    ")\n",
    "\n",
    "from steves_utils.ORACLE.utils_v2 import (\n",
    "    ALL_DISTANCES_FEET_NARROWED,\n",
    "    ALL_RUNS,\n",
    "    ALL_SERIAL_NUMBERS,\n",
    ")\n",
    "\n",
    "standalone_parameters = {}\n",
    "standalone_parameters[\"experiment_name\"] = \"STANDALONE PTN\"\n",
    "standalone_parameters[\"lr\"] = 0.001\n",
    "standalone_parameters[\"device\"] = \"cuda\"\n",
    "\n",
    "standalone_parameters[\"seed\"] = 1337\n",
    "standalone_parameters[\"dataset_seed\"] = 1337\n",
    "\n",
    "standalone_parameters[\"n_way\"] = 8\n",
    "standalone_parameters[\"n_shot\"] = 3\n",
    "standalone_parameters[\"n_query\"]  = 2\n",
    "standalone_parameters[\"train_k_factor\"] = 1\n",
    "standalone_parameters[\"val_k_factor\"] = 2\n",
    "standalone_parameters[\"test_k_factor\"] = 2\n",
    "\n",
    "\n",
    "standalone_parameters[\"n_epoch\"] = 50\n",
    "\n",
    "standalone_parameters[\"patience\"] = 10\n",
    "standalone_parameters[\"criteria_for_best\"] = \"source_loss\"\n",
    "\n",
    "standalone_parameters[\"datasets\"] = [\n",
    "    {\n",
    "        \"labels\": ALL_SERIAL_NUMBERS,\n",
    "        \"domains\": ALL_DISTANCES_FEET_NARROWED,\n",
    "        \"num_examples_per_domain_per_label\": 100,\n",
    "        \"pickle_path\": os.path.join(get_datasets_base_path(), \"oracle.Run1_framed_2000Examples_stratified_ds.2022A.pkl\"),\n",
    "        \"source_or_target_dataset\": \"source\",\n",
    "        \"x_transforms\": [\"unit_mag\", \"minus_two\"],\n",
    "        \"episode_transforms\": [],\n",
    "        \"domain_prefix\": \"ORACLE_\"\n",
    "    },\n",
    "    {\n",
    "        \"labels\": ALL_NODES,\n",
    "        \"domains\": ALL_DAYS,\n",
    "        \"num_examples_per_domain_per_label\": 100,\n",
    "        \"pickle_path\": os.path.join(get_datasets_base_path(), \"cores.stratified_ds.2022A.pkl\"),\n",
    "        \"source_or_target_dataset\": \"target\",\n",
    "        \"x_transforms\": [\"unit_power\", \"times_zero\"],\n",
    "        \"episode_transforms\": [],\n",
    "        \"domain_prefix\": \"CORES_\"\n",
    "    }   \n",
    "]\n",
    "\n",
    "standalone_parameters[\"torch_default_dtype\"] = \"torch.float32\" \n",
    "\n",
    "\n",
    "\n",
    "standalone_parameters[\"x_net\"] =     [\n",
    "    {\"class\": \"nnReshape\", \"kargs\": {\"shape\":[-1, 1, 2, 256]}},\n",
    "    {\"class\": \"Conv2d\", \"kargs\": { \"in_channels\":1, \"out_channels\":256, \"kernel_size\":(1,7), \"bias\":False, \"padding\":(0,3), },},\n",
    "    {\"class\": \"ReLU\", \"kargs\": {\"inplace\": True}},\n",
    "    {\"class\": \"BatchNorm2d\", \"kargs\": {\"num_features\":256}},\n",
    "\n",
    "    {\"class\": \"Conv2d\", \"kargs\": { \"in_channels\":256, \"out_channels\":80, \"kernel_size\":(2,7), \"bias\":True, \"padding\":(0,3), },},\n",
    "    {\"class\": \"ReLU\", \"kargs\": {\"inplace\": True}},\n",
    "    {\"class\": \"BatchNorm2d\", \"kargs\": {\"num_features\":80}},\n",
    "    {\"class\": \"Flatten\", \"kargs\": {}},\n",
    "\n",
    "    {\"class\": \"Linear\", \"kargs\": {\"in_features\": 80*256, \"out_features\": 256}}, # 80 units per IQ pair\n",
    "    {\"class\": \"ReLU\", \"kargs\": {\"inplace\": True}},\n",
    "    {\"class\": \"BatchNorm1d\", \"kargs\": {\"num_features\":256}},\n",
    "\n",
    "    {\"class\": \"Linear\", \"kargs\": {\"in_features\": 256, \"out_features\": 256}},\n",
    "]\n",
    "\n",
    "# Parameters relevant to results\n",
    "# These parameters will basically never need to change\n",
    "standalone_parameters[\"NUM_LOGS_PER_EPOCH\"] = 10\n",
    "standalone_parameters[\"BEST_MODEL_PATH\"] = \"./best_model.pth\"\n",
    "\n",
    "\n",
    "\n",
    "\n"
   ]
  },
  {
   "cell_type": "code",
   "execution_count": 4,
   "id": "b6dee566",
   "metadata": {
    "execution": {
     "iopub.execute_input": "2022-03-19T23:31:14.783757Z",
     "iopub.status.busy": "2022-03-19T23:31:14.783227Z",
     "iopub.status.idle": "2022-03-19T23:31:14.796203Z",
     "shell.execute_reply": "2022-03-19T23:31:14.795822Z"
    },
    "papermill": {
     "duration": 0.038487,
     "end_time": "2022-03-19T23:31:14.796290",
     "exception": false,
     "start_time": "2022-03-19T23:31:14.757803",
     "status": "completed"
    },
    "tags": [
     "injected-parameters"
    ]
   },
   "outputs": [],
   "source": [
    "# Parameters\n",
    "parameters = {\n",
    "    \"experiment_name\": \"tl_2v2:oracle.run1.framed -> cores+wisig\",\n",
    "    \"device\": \"cuda\",\n",
    "    \"lr\": 0.0001,\n",
    "    \"n_shot\": 3,\n",
    "    \"n_query\": 2,\n",
    "    \"train_k_factor\": 3,\n",
    "    \"val_k_factor\": 2,\n",
    "    \"test_k_factor\": 2,\n",
    "    \"torch_default_dtype\": \"torch.float32\",\n",
    "    \"n_epoch\": 50,\n",
    "    \"patience\": 3,\n",
    "    \"criteria_for_best\": \"target_accuracy\",\n",
    "    \"x_net\": [\n",
    "        {\"class\": \"nnReshape\", \"kargs\": {\"shape\": [-1, 1, 2, 256]}},\n",
    "        {\n",
    "            \"class\": \"Conv2d\",\n",
    "            \"kargs\": {\n",
    "                \"in_channels\": 1,\n",
    "                \"out_channels\": 256,\n",
    "                \"kernel_size\": [1, 7],\n",
    "                \"bias\": False,\n",
    "                \"padding\": [0, 3],\n",
    "            },\n",
    "        },\n",
    "        {\"class\": \"ReLU\", \"kargs\": {\"inplace\": True}},\n",
    "        {\"class\": \"BatchNorm2d\", \"kargs\": {\"num_features\": 256}},\n",
    "        {\n",
    "            \"class\": \"Conv2d\",\n",
    "            \"kargs\": {\n",
    "                \"in_channels\": 256,\n",
    "                \"out_channels\": 80,\n",
    "                \"kernel_size\": [2, 7],\n",
    "                \"bias\": True,\n",
    "                \"padding\": [0, 3],\n",
    "            },\n",
    "        },\n",
    "        {\"class\": \"ReLU\", \"kargs\": {\"inplace\": True}},\n",
    "        {\"class\": \"BatchNorm2d\", \"kargs\": {\"num_features\": 80}},\n",
    "        {\"class\": \"Flatten\", \"kargs\": {}},\n",
    "        {\"class\": \"Linear\", \"kargs\": {\"in_features\": 20480, \"out_features\": 256}},\n",
    "        {\"class\": \"ReLU\", \"kargs\": {\"inplace\": True}},\n",
    "        {\"class\": \"BatchNorm1d\", \"kargs\": {\"num_features\": 256}},\n",
    "        {\"class\": \"Linear\", \"kargs\": {\"in_features\": 256, \"out_features\": 256}},\n",
    "    ],\n",
    "    \"NUM_LOGS_PER_EPOCH\": 10,\n",
    "    \"BEST_MODEL_PATH\": \"./best_model.pth\",\n",
    "    \"n_way\": 16,\n",
    "    \"datasets\": [\n",
    "        {\n",
    "            \"labels\": [\n",
    "                \"1-10.\",\n",
    "                \"1-11.\",\n",
    "                \"1-15.\",\n",
    "                \"1-16.\",\n",
    "                \"1-17.\",\n",
    "                \"1-18.\",\n",
    "                \"1-19.\",\n",
    "                \"10-4.\",\n",
    "                \"10-7.\",\n",
    "                \"11-1.\",\n",
    "                \"11-14.\",\n",
    "                \"11-17.\",\n",
    "                \"11-20.\",\n",
    "                \"11-7.\",\n",
    "                \"13-20.\",\n",
    "                \"13-8.\",\n",
    "                \"14-10.\",\n",
    "                \"14-11.\",\n",
    "                \"14-14.\",\n",
    "                \"14-7.\",\n",
    "                \"15-1.\",\n",
    "                \"15-20.\",\n",
    "                \"16-1.\",\n",
    "                \"16-16.\",\n",
    "                \"17-10.\",\n",
    "                \"17-11.\",\n",
    "                \"17-2.\",\n",
    "                \"19-1.\",\n",
    "                \"19-16.\",\n",
    "                \"19-19.\",\n",
    "                \"19-20.\",\n",
    "                \"19-3.\",\n",
    "                \"2-10.\",\n",
    "                \"2-11.\",\n",
    "                \"2-17.\",\n",
    "                \"2-18.\",\n",
    "                \"2-20.\",\n",
    "                \"2-3.\",\n",
    "                \"2-4.\",\n",
    "                \"2-5.\",\n",
    "                \"2-6.\",\n",
    "                \"2-7.\",\n",
    "                \"2-8.\",\n",
    "                \"3-13.\",\n",
    "                \"3-18.\",\n",
    "                \"3-3.\",\n",
    "                \"4-1.\",\n",
    "                \"4-10.\",\n",
    "                \"4-11.\",\n",
    "                \"4-19.\",\n",
    "                \"5-5.\",\n",
    "                \"6-15.\",\n",
    "                \"7-10.\",\n",
    "                \"7-14.\",\n",
    "                \"8-18.\",\n",
    "                \"8-20.\",\n",
    "                \"8-3.\",\n",
    "                \"8-8.\",\n",
    "            ],\n",
    "            \"domains\": [1, 2, 3, 4, 5],\n",
    "            \"num_examples_per_domain_per_label\": -1,\n",
    "            \"pickle_path\": \"/mnt/wd500GB/CSC500/csc500-main/datasets/cores.stratified_ds.2022A.pkl\",\n",
    "            \"source_or_target_dataset\": \"target\",\n",
    "            \"x_transforms\": [\"unit_mag\"],\n",
    "            \"episode_transforms\": [],\n",
    "            \"domain_prefix\": \"C_\",\n",
    "        },\n",
    "        {\n",
    "            \"labels\": [\n",
    "                \"1-10\",\n",
    "                \"1-12\",\n",
    "                \"1-14\",\n",
    "                \"1-16\",\n",
    "                \"1-18\",\n",
    "                \"1-19\",\n",
    "                \"1-8\",\n",
    "                \"10-11\",\n",
    "                \"10-17\",\n",
    "                \"10-4\",\n",
    "                \"10-7\",\n",
    "                \"11-1\",\n",
    "                \"11-10\",\n",
    "                \"11-19\",\n",
    "                \"11-20\",\n",
    "                \"11-4\",\n",
    "                \"11-7\",\n",
    "                \"12-19\",\n",
    "                \"12-20\",\n",
    "                \"12-7\",\n",
    "                \"13-14\",\n",
    "                \"13-18\",\n",
    "                \"13-19\",\n",
    "                \"13-20\",\n",
    "                \"13-3\",\n",
    "                \"13-7\",\n",
    "                \"14-10\",\n",
    "                \"14-11\",\n",
    "                \"14-12\",\n",
    "                \"14-13\",\n",
    "                \"14-14\",\n",
    "                \"14-19\",\n",
    "                \"14-20\",\n",
    "                \"14-7\",\n",
    "                \"14-8\",\n",
    "                \"14-9\",\n",
    "                \"15-1\",\n",
    "                \"15-19\",\n",
    "                \"15-6\",\n",
    "                \"16-1\",\n",
    "                \"16-16\",\n",
    "                \"16-19\",\n",
    "                \"16-20\",\n",
    "                \"17-10\",\n",
    "                \"17-11\",\n",
    "                \"18-1\",\n",
    "                \"18-10\",\n",
    "                \"18-11\",\n",
    "                \"18-12\",\n",
    "                \"18-13\",\n",
    "                \"18-14\",\n",
    "                \"18-15\",\n",
    "                \"18-16\",\n",
    "                \"18-17\",\n",
    "                \"18-19\",\n",
    "                \"18-2\",\n",
    "                \"18-20\",\n",
    "                \"18-4\",\n",
    "                \"18-5\",\n",
    "                \"18-7\",\n",
    "                \"18-8\",\n",
    "                \"18-9\",\n",
    "                \"19-1\",\n",
    "                \"19-10\",\n",
    "                \"19-11\",\n",
    "                \"19-12\",\n",
    "                \"19-13\",\n",
    "                \"19-14\",\n",
    "                \"19-15\",\n",
    "                \"19-19\",\n",
    "                \"19-2\",\n",
    "                \"19-20\",\n",
    "                \"19-3\",\n",
    "                \"19-4\",\n",
    "                \"19-6\",\n",
    "                \"19-7\",\n",
    "                \"19-8\",\n",
    "                \"19-9\",\n",
    "                \"2-1\",\n",
    "                \"2-13\",\n",
    "                \"2-15\",\n",
    "                \"2-3\",\n",
    "                \"2-4\",\n",
    "                \"2-5\",\n",
    "                \"2-6\",\n",
    "                \"2-7\",\n",
    "                \"2-8\",\n",
    "                \"20-1\",\n",
    "                \"20-12\",\n",
    "                \"20-14\",\n",
    "                \"20-15\",\n",
    "                \"20-16\",\n",
    "                \"20-18\",\n",
    "                \"20-19\",\n",
    "                \"20-20\",\n",
    "                \"20-3\",\n",
    "                \"20-4\",\n",
    "                \"20-5\",\n",
    "                \"20-7\",\n",
    "                \"20-8\",\n",
    "                \"3-1\",\n",
    "                \"3-13\",\n",
    "                \"3-18\",\n",
    "                \"3-2\",\n",
    "                \"3-8\",\n",
    "                \"4-1\",\n",
    "                \"4-10\",\n",
    "                \"4-11\",\n",
    "                \"5-1\",\n",
    "                \"5-5\",\n",
    "                \"6-1\",\n",
    "                \"6-15\",\n",
    "                \"6-6\",\n",
    "                \"7-10\",\n",
    "                \"7-11\",\n",
    "                \"7-12\",\n",
    "                \"7-13\",\n",
    "                \"7-14\",\n",
    "                \"7-7\",\n",
    "                \"7-8\",\n",
    "                \"7-9\",\n",
    "                \"8-1\",\n",
    "                \"8-13\",\n",
    "                \"8-14\",\n",
    "                \"8-18\",\n",
    "                \"8-20\",\n",
    "                \"8-3\",\n",
    "                \"8-8\",\n",
    "                \"9-1\",\n",
    "                \"9-7\",\n",
    "            ],\n",
    "            \"domains\": [1, 2, 3, 4],\n",
    "            \"num_examples_per_domain_per_label\": -1,\n",
    "            \"pickle_path\": \"/mnt/wd500GB/CSC500/csc500-main/datasets/wisig.node3-19.stratified_ds.2022A.pkl\",\n",
    "            \"source_or_target_dataset\": \"target\",\n",
    "            \"x_transforms\": [\"unit_mag\"],\n",
    "            \"episode_transforms\": [],\n",
    "            \"domain_prefix\": \"W_\",\n",
    "        },\n",
    "        {\n",
    "            \"labels\": [\n",
    "                \"3123D52\",\n",
    "                \"3123D65\",\n",
    "                \"3123D79\",\n",
    "                \"3123D80\",\n",
    "                \"3123D54\",\n",
    "                \"3123D70\",\n",
    "                \"3123D7B\",\n",
    "                \"3123D89\",\n",
    "                \"3123D58\",\n",
    "                \"3123D76\",\n",
    "                \"3123D7D\",\n",
    "                \"3123EFE\",\n",
    "                \"3123D64\",\n",
    "                \"3123D78\",\n",
    "                \"3123D7E\",\n",
    "                \"3124E4A\",\n",
    "            ],\n",
    "            \"domains\": [32, 38, 8, 44, 14, 50, 20, 26],\n",
    "            \"num_examples_per_domain_per_label\": 2000,\n",
    "            \"pickle_path\": \"/mnt/wd500GB/CSC500/csc500-main/datasets/oracle.Run1_framed_2000Examples_stratified_ds.2022A.pkl\",\n",
    "            \"source_or_target_dataset\": \"source\",\n",
    "            \"x_transforms\": [\"unit_mag\"],\n",
    "            \"episode_transforms\": [],\n",
    "            \"domain_prefix\": \"O_\",\n",
    "        },\n",
    "    ],\n",
    "    \"seed\": 7,\n",
    "    \"dataset_seed\": 7,\n",
    "}\n"
   ]
  },
  {
   "cell_type": "code",
   "execution_count": 5,
   "id": "8fa1cc33",
   "metadata": {
    "execution": {
     "iopub.execute_input": "2022-03-19T23:31:14.830780Z",
     "iopub.status.busy": "2022-03-19T23:31:14.830530Z",
     "iopub.status.idle": "2022-03-19T23:31:14.841211Z",
     "shell.execute_reply": "2022-03-19T23:31:14.840835Z"
    },
    "papermill": {
     "duration": 0.026681,
     "end_time": "2022-03-19T23:31:14.841298",
     "exception": false,
     "start_time": "2022-03-19T23:31:14.814617",
     "status": "completed"
    },
    "tags": []
   },
   "outputs": [],
   "source": [
    "# Set this to True if you want to run this template directly\n",
    "STANDALONE = False\n",
    "if STANDALONE:\n",
    "    print(\"parameters not injected, running with standalone_parameters\")\n",
    "    parameters = standalone_parameters\n",
    "\n",
    "if not 'parameters' in locals() and not 'parameters' in globals():\n",
    "    raise Exception(\"Parameter injection failed\")\n",
    "\n",
    "#Use an easy dict for all the parameters\n",
    "p = EasyDict(parameters)\n",
    "\n",
    "if \"x_shape\" not in p:\n",
    "    p.x_shape = [2,256] # Default to this if we dont supply x_shape\n",
    "\n",
    "\n",
    "supplied_keys = set(p.keys())\n",
    "\n",
    "if  supplied_keys != required_parameters:\n",
    "    print(\"Parameters are incorrect\")\n",
    "    if len(supplied_keys - required_parameters)>0: print(\"Shouldn't have:\", str(supplied_keys - required_parameters))\n",
    "    if len(required_parameters - supplied_keys)>0: print(\"Need to have:\", str(required_parameters - supplied_keys))\n",
    "    raise RuntimeError(\"Parameters are incorrect\")"
   ]
  },
  {
   "cell_type": "code",
   "execution_count": 6,
   "id": "3a028d58",
   "metadata": {
    "execution": {
     "iopub.execute_input": "2022-03-19T23:31:14.873620Z",
     "iopub.status.busy": "2022-03-19T23:31:14.873380Z",
     "iopub.status.idle": "2022-03-19T23:31:14.883970Z",
     "shell.execute_reply": "2022-03-19T23:31:14.884310Z"
    },
    "papermill": {
     "duration": 0.025424,
     "end_time": "2022-03-19T23:31:14.884415",
     "exception": false,
     "start_time": "2022-03-19T23:31:14.858991",
     "status": "completed"
    },
    "tags": []
   },
   "outputs": [],
   "source": [
    "###################################\n",
    "# Set the RNGs and make it all deterministic\n",
    "###################################\n",
    "np.random.seed(p.seed)\n",
    "random.seed(p.seed)\n",
    "torch.manual_seed(p.seed)\n",
    "\n",
    "torch.use_deterministic_algorithms(True) "
   ]
  },
  {
   "cell_type": "code",
   "execution_count": 7,
   "id": "b691acf6",
   "metadata": {
    "execution": {
     "iopub.execute_input": "2022-03-19T23:31:14.917593Z",
     "iopub.status.busy": "2022-03-19T23:31:14.917349Z",
     "iopub.status.idle": "2022-03-19T23:31:14.932656Z",
     "shell.execute_reply": "2022-03-19T23:31:14.932276Z"
    },
    "papermill": {
     "duration": 0.030598,
     "end_time": "2022-03-19T23:31:14.932744",
     "exception": false,
     "start_time": "2022-03-19T23:31:14.902146",
     "status": "completed"
    },
    "tags": []
   },
   "outputs": [],
   "source": [
    "###########################################\n",
    "# The stratified datasets honor this\n",
    "###########################################\n",
    "torch.set_default_dtype(eval(p.torch_default_dtype))"
   ]
  },
  {
   "cell_type": "code",
   "execution_count": 8,
   "id": "b5fba671",
   "metadata": {
    "execution": {
     "iopub.execute_input": "2022-03-19T23:31:14.965842Z",
     "iopub.status.busy": "2022-03-19T23:31:14.965603Z",
     "iopub.status.idle": "2022-03-19T23:31:15.005870Z",
     "shell.execute_reply": "2022-03-19T23:31:15.005488Z"
    },
    "papermill": {
     "duration": 0.055549,
     "end_time": "2022-03-19T23:31:15.005957",
     "exception": false,
     "start_time": "2022-03-19T23:31:14.950408",
     "status": "completed"
    },
    "tags": []
   },
   "outputs": [],
   "source": [
    "###################################\n",
    "# Build the network(s)\n",
    "# Note: It's critical to do this AFTER setting the RNG\n",
    "###################################\n",
    "x_net = build_sequential(p.x_net)"
   ]
  },
  {
   "cell_type": "code",
   "execution_count": 9,
   "id": "5d7e61cc",
   "metadata": {
    "execution": {
     "iopub.execute_input": "2022-03-19T23:31:15.038368Z",
     "iopub.status.busy": "2022-03-19T23:31:15.038105Z",
     "iopub.status.idle": "2022-03-19T23:31:15.049156Z",
     "shell.execute_reply": "2022-03-19T23:31:15.048776Z"
    },
    "papermill": {
     "duration": 0.025898,
     "end_time": "2022-03-19T23:31:15.049243",
     "exception": false,
     "start_time": "2022-03-19T23:31:15.023345",
     "status": "completed"
    },
    "tags": []
   },
   "outputs": [],
   "source": [
    "start_time_secs = time.time()"
   ]
  },
  {
   "cell_type": "code",
   "execution_count": 10,
   "id": "c6b67dfd",
   "metadata": {
    "execution": {
     "iopub.execute_input": "2022-03-19T23:31:15.082141Z",
     "iopub.status.busy": "2022-03-19T23:31:15.081202Z",
     "iopub.status.idle": "2022-03-19T23:31:15.096509Z",
     "shell.execute_reply": "2022-03-19T23:31:15.096851Z"
    },
    "papermill": {
     "duration": 0.030087,
     "end_time": "2022-03-19T23:31:15.096956",
     "exception": false,
     "start_time": "2022-03-19T23:31:15.066869",
     "status": "completed"
    },
    "tags": []
   },
   "outputs": [],
   "source": [
    "p.domains_source = []\n",
    "p.domains_target = []\n",
    "\n",
    "\n",
    "train_original_source = []\n",
    "val_original_source   = []\n",
    "test_original_source  = []\n",
    "\n",
    "train_original_target = []\n",
    "val_original_target   = []\n",
    "test_original_target  = []"
   ]
  },
  {
   "cell_type": "code",
   "execution_count": 11,
   "id": "e3d9c3d3",
   "metadata": {
    "execution": {
     "iopub.execute_input": "2022-03-19T23:31:15.130755Z",
     "iopub.status.busy": "2022-03-19T23:31:15.130412Z",
     "iopub.status.idle": "2022-03-19T23:31:15.146610Z",
     "shell.execute_reply": "2022-03-19T23:31:15.146139Z"
    },
    "papermill": {
     "duration": 0.03179,
     "end_time": "2022-03-19T23:31:15.146709",
     "exception": false,
     "start_time": "2022-03-19T23:31:15.114919",
     "status": "completed"
    },
    "tags": []
   },
   "outputs": [],
   "source": [
    "# global_x_transform_func = lambda x: normalize(x.to(torch.get_default_dtype()), \"unit_power\") # unit_power, unit_mag\n",
    "# global_x_transform_func = lambda x: normalize(x, \"unit_power\") # unit_power, unit_mag"
   ]
  },
  {
   "cell_type": "code",
   "execution_count": 12,
   "id": "acb78fd2",
   "metadata": {
    "execution": {
     "iopub.execute_input": "2022-03-19T23:31:15.185736Z",
     "iopub.status.busy": "2022-03-19T23:31:15.185486Z",
     "iopub.status.idle": "2022-03-19T23:31:15.198094Z",
     "shell.execute_reply": "2022-03-19T23:31:15.198479Z"
    },
    "papermill": {
     "duration": 0.033491,
     "end_time": "2022-03-19T23:31:15.198588",
     "exception": false,
     "start_time": "2022-03-19T23:31:15.165097",
     "status": "completed"
    },
    "tags": []
   },
   "outputs": [],
   "source": [
    "def add_dataset(\n",
    "    labels,\n",
    "    domains,\n",
    "    pickle_path,\n",
    "    x_transforms,\n",
    "    episode_transforms,\n",
    "    domain_prefix,\n",
    "    num_examples_per_domain_per_label,\n",
    "    source_or_target_dataset:str,\n",
    "    iterator_seed=p.seed,\n",
    "    dataset_seed=p.dataset_seed,\n",
    "    n_shot=p.n_shot,\n",
    "    n_way=p.n_way,\n",
    "    n_query=p.n_query,\n",
    "    train_val_test_k_factors=(p.train_k_factor,p.val_k_factor,p.test_k_factor),\n",
    "):\n",
    "   \n",
    "    if x_transforms == []: x_transform = None\n",
    "    else: x_transform = get_chained_transform(x_transforms)\n",
    "    \n",
    "    if episode_transforms == []: episode_transform = None\n",
    "    else: raise Exception(\"episode_transforms not implemented\")\n",
    "    \n",
    "    episode_transform = lambda tup, _prefix=domain_prefix: (_prefix + str(tup[0]), tup[1])\n",
    "\n",
    "\n",
    "    eaf = Episodic_Accessor_Factory(\n",
    "        labels=labels,\n",
    "        domains=domains,\n",
    "        num_examples_per_domain_per_label=num_examples_per_domain_per_label,\n",
    "        iterator_seed=iterator_seed,\n",
    "        dataset_seed=dataset_seed,\n",
    "        n_shot=n_shot,\n",
    "        n_way=n_way,\n",
    "        n_query=n_query,\n",
    "        train_val_test_k_factors=train_val_test_k_factors,\n",
    "        pickle_path=pickle_path,\n",
    "        x_transform_func=x_transform,\n",
    "    )\n",
    "\n",
    "    train, val, test = eaf.get_train(), eaf.get_val(), eaf.get_test()\n",
    "    train = Lazy_Iterable_Wrapper(train, episode_transform)\n",
    "    val = Lazy_Iterable_Wrapper(val, episode_transform)\n",
    "    test = Lazy_Iterable_Wrapper(test, episode_transform)\n",
    "\n",
    "    if source_or_target_dataset==\"source\":\n",
    "        train_original_source.append(train)\n",
    "        val_original_source.append(val)\n",
    "        test_original_source.append(test)\n",
    "\n",
    "        p.domains_source.extend(\n",
    "            [domain_prefix + str(u) for u in domains]\n",
    "        )\n",
    "    elif source_or_target_dataset==\"target\":\n",
    "        train_original_target.append(train)\n",
    "        val_original_target.append(val)\n",
    "        test_original_target.append(test)\n",
    "        p.domains_target.extend(\n",
    "            [domain_prefix + str(u) for u in domains]\n",
    "        )\n",
    "    else:\n",
    "        raise Exception(f\"invalid source_or_target_dataset: {source_or_target_dataset}\")\n",
    "    "
   ]
  },
  {
   "cell_type": "code",
   "execution_count": 13,
   "id": "fe266617",
   "metadata": {
    "execution": {
     "iopub.execute_input": "2022-03-19T23:31:15.234064Z",
     "iopub.status.busy": "2022-03-19T23:31:15.233824Z",
     "iopub.status.idle": "2022-03-19T23:32:01.912151Z",
     "shell.execute_reply": "2022-03-19T23:32:01.911753Z"
    },
    "papermill": {
     "duration": 46.693948,
     "end_time": "2022-03-19T23:32:01.912258",
     "exception": false,
     "start_time": "2022-03-19T23:31:15.218310",
     "status": "completed"
    },
    "tags": []
   },
   "outputs": [],
   "source": [
    "for ds in p.datasets:\n",
    "    add_dataset(**ds)"
   ]
  },
  {
   "cell_type": "code",
   "execution_count": 14,
   "id": "b90d65ac",
   "metadata": {
    "execution": {
     "iopub.execute_input": "2022-03-19T23:32:01.946673Z",
     "iopub.status.busy": "2022-03-19T23:32:01.946426Z",
     "iopub.status.idle": "2022-03-19T23:32:01.961102Z",
     "shell.execute_reply": "2022-03-19T23:32:01.961391Z"
    },
    "papermill": {
     "duration": 0.030357,
     "end_time": "2022-03-19T23:32:01.961474",
     "exception": false,
     "start_time": "2022-03-19T23:32:01.931117",
     "status": "completed"
    },
    "tags": []
   },
   "outputs": [],
   "source": [
    "# from steves_utils.CORES.utils import (\n",
    "#     ALL_NODES,\n",
    "#     ALL_NODES_MINIMUM_1000_EXAMPLES,\n",
    "#     ALL_DAYS\n",
    "# )\n",
    "\n",
    "# add_dataset(\n",
    "#     labels=ALL_NODES,\n",
    "#     domains = ALL_DAYS,\n",
    "#     num_examples_per_domain_per_label=100,\n",
    "#     pickle_path=os.path.join(get_datasets_base_path(), \"cores.stratified_ds.2022A.pkl\"),\n",
    "#     source_or_target_dataset=\"target\",\n",
    "#     x_transform_func=global_x_transform_func,\n",
    "#     domain_modifier=lambda u: f\"cores_{u}\"\n",
    "# )"
   ]
  },
  {
   "cell_type": "code",
   "execution_count": 15,
   "id": "76db484d",
   "metadata": {
    "execution": {
     "iopub.execute_input": "2022-03-19T23:32:01.993797Z",
     "iopub.status.busy": "2022-03-19T23:32:01.993553Z",
     "iopub.status.idle": "2022-03-19T23:32:02.003503Z",
     "shell.execute_reply": "2022-03-19T23:32:02.003707Z"
    },
    "papermill": {
     "duration": 0.024706,
     "end_time": "2022-03-19T23:32:02.003764",
     "exception": false,
     "start_time": "2022-03-19T23:32:01.979058",
     "status": "completed"
    },
    "tags": []
   },
   "outputs": [],
   "source": [
    "# from steves_utils.ORACLE.utils_v2 import (\n",
    "#     ALL_DISTANCES_FEET,\n",
    "#     ALL_RUNS,\n",
    "#     ALL_SERIAL_NUMBERS,\n",
    "# )\n",
    "\n",
    "\n",
    "# add_dataset(\n",
    "#     labels=ALL_SERIAL_NUMBERS,\n",
    "#     domains = list(set(ALL_DISTANCES_FEET) - {2,62}),\n",
    "#     num_examples_per_domain_per_label=100,\n",
    "#     pickle_path=os.path.join(get_datasets_base_path(), \"oracle.Run2_framed_2000Examples_stratified_ds.2022A.pkl\"),\n",
    "#     source_or_target_dataset=\"source\",\n",
    "#     x_transform_func=global_x_transform_func,\n",
    "#     domain_modifier=lambda u: f\"oracle1_{u}\"\n",
    "# )\n"
   ]
  },
  {
   "cell_type": "code",
   "execution_count": 16,
   "id": "97dea9d2",
   "metadata": {
    "execution": {
     "iopub.execute_input": "2022-03-19T23:32:02.035086Z",
     "iopub.status.busy": "2022-03-19T23:32:02.034845Z",
     "iopub.status.idle": "2022-03-19T23:32:02.048833Z",
     "shell.execute_reply": "2022-03-19T23:32:02.049174Z"
    },
    "papermill": {
     "duration": 0.029671,
     "end_time": "2022-03-19T23:32:02.049278",
     "exception": false,
     "start_time": "2022-03-19T23:32:02.019607",
     "status": "completed"
    },
    "tags": []
   },
   "outputs": [],
   "source": [
    "# from steves_utils.ORACLE.utils_v2 import (\n",
    "#     ALL_DISTANCES_FEET,\n",
    "#     ALL_RUNS,\n",
    "#     ALL_SERIAL_NUMBERS,\n",
    "# )\n",
    "\n",
    "\n",
    "# add_dataset(\n",
    "#     labels=ALL_SERIAL_NUMBERS,\n",
    "#     domains = list(set(ALL_DISTANCES_FEET) - {2,62,56}),\n",
    "#     num_examples_per_domain_per_label=100,\n",
    "#     pickle_path=os.path.join(get_datasets_base_path(), \"oracle.Run2_framed_2000Examples_stratified_ds.2022A.pkl\"),\n",
    "#     source_or_target_dataset=\"source\",\n",
    "#     x_transform_func=global_x_transform_func,\n",
    "#     domain_modifier=lambda u: f\"oracle2_{u}\"\n",
    "# )"
   ]
  },
  {
   "cell_type": "code",
   "execution_count": 17,
   "id": "6f289866",
   "metadata": {
    "execution": {
     "iopub.execute_input": "2022-03-19T23:32:02.082872Z",
     "iopub.status.busy": "2022-03-19T23:32:02.082631Z",
     "iopub.status.idle": "2022-03-19T23:32:02.098312Z",
     "shell.execute_reply": "2022-03-19T23:32:02.098678Z"
    },
    "papermill": {
     "duration": 0.031201,
     "end_time": "2022-03-19T23:32:02.098781",
     "exception": false,
     "start_time": "2022-03-19T23:32:02.067580",
     "status": "completed"
    },
    "tags": []
   },
   "outputs": [],
   "source": [
    "# add_dataset(\n",
    "#     labels=list(range(19)),\n",
    "#     domains = [0,1,2],\n",
    "#     num_examples_per_domain_per_label=100,\n",
    "#     pickle_path=os.path.join(get_datasets_base_path(), \"metehan.stratified_ds.2022A.pkl\"),\n",
    "#     source_or_target_dataset=\"target\",\n",
    "#     x_transform_func=global_x_transform_func,\n",
    "#     domain_modifier=lambda u: f\"met_{u}\"\n",
    "# )"
   ]
  },
  {
   "cell_type": "code",
   "execution_count": 18,
   "id": "86a863c3",
   "metadata": {
    "execution": {
     "iopub.execute_input": "2022-03-19T23:32:02.131971Z",
     "iopub.status.busy": "2022-03-19T23:32:02.131730Z",
     "iopub.status.idle": "2022-03-19T23:32:02.143705Z",
     "shell.execute_reply": "2022-03-19T23:32:02.143910Z"
    },
    "papermill": {
     "duration": 0.027289,
     "end_time": "2022-03-19T23:32:02.143966",
     "exception": false,
     "start_time": "2022-03-19T23:32:02.116677",
     "status": "completed"
    },
    "tags": []
   },
   "outputs": [],
   "source": [
    "# # from steves_utils.wisig.utils import (\n",
    "# #     ALL_NODES_MINIMUM_100_EXAMPLES,\n",
    "# #     ALL_NODES_MINIMUM_500_EXAMPLES,\n",
    "# #     ALL_NODES_MINIMUM_1000_EXAMPLES,\n",
    "# #     ALL_DAYS\n",
    "# # )\n",
    "\n",
    "# import steves_utils.wisig.utils as wisig\n",
    "\n",
    "\n",
    "# add_dataset(\n",
    "#     labels=wisig.ALL_NODES_MINIMUM_100_EXAMPLES,\n",
    "#     domains = wisig.ALL_DAYS,\n",
    "#     num_examples_per_domain_per_label=100,\n",
    "#     pickle_path=os.path.join(get_datasets_base_path(), \"wisig.node3-19.stratified_ds.2022A.pkl\"),\n",
    "#     source_or_target_dataset=\"target\",\n",
    "#     x_transform_func=global_x_transform_func,\n",
    "#     domain_modifier=lambda u: f\"wisig_{u}\"\n",
    "# )"
   ]
  },
  {
   "cell_type": "code",
   "execution_count": 19,
   "id": "fd5442bc",
   "metadata": {
    "execution": {
     "iopub.execute_input": "2022-03-19T23:32:02.180788Z",
     "iopub.status.busy": "2022-03-19T23:32:02.180535Z",
     "iopub.status.idle": "2022-03-19T23:32:02.194878Z",
     "shell.execute_reply": "2022-03-19T23:32:02.195258Z"
    },
    "papermill": {
     "duration": 0.032568,
     "end_time": "2022-03-19T23:32:02.195362",
     "exception": false,
     "start_time": "2022-03-19T23:32:02.162794",
     "status": "completed"
    },
    "tags": []
   },
   "outputs": [],
   "source": [
    "###################################\n",
    "# Build the dataset\n",
    "###################################\n",
    "train_original_source = Iterable_Aggregator(train_original_source, p.seed)\n",
    "val_original_source = Iterable_Aggregator(val_original_source, p.seed)\n",
    "test_original_source = Iterable_Aggregator(test_original_source, p.seed)\n",
    "\n",
    "\n",
    "train_original_target = Iterable_Aggregator(train_original_target, p.seed)\n",
    "val_original_target = Iterable_Aggregator(val_original_target, p.seed)\n",
    "test_original_target = Iterable_Aggregator(test_original_target, p.seed)\n",
    "\n",
    "# For CNN We only use X and Y. And we only train on the source.\n",
    "# Properly form the data using a transform lambda and Lazy_Iterable_Wrapper. Finally wrap them in a dataloader\n",
    "\n",
    "transform_lambda = lambda ex: ex[1] # Original is (<domain>, <episode>) so we strip down to episode only\n",
    "\n",
    "train_processed_source = Lazy_Iterable_Wrapper(train_original_source, transform_lambda)\n",
    "val_processed_source   = Lazy_Iterable_Wrapper(val_original_source, transform_lambda)\n",
    "test_processed_source  = Lazy_Iterable_Wrapper(test_original_source, transform_lambda)\n",
    "\n",
    "train_processed_target = Lazy_Iterable_Wrapper(train_original_target, transform_lambda)\n",
    "val_processed_target   = Lazy_Iterable_Wrapper(val_original_target, transform_lambda)\n",
    "test_processed_target  = Lazy_Iterable_Wrapper(test_original_target, transform_lambda)\n",
    "\n",
    "datasets = EasyDict({\n",
    "    \"source\": {\n",
    "        \"original\": {\"train\":train_original_source, \"val\":val_original_source, \"test\":test_original_source},\n",
    "        \"processed\": {\"train\":train_processed_source, \"val\":val_processed_source, \"test\":test_processed_source}\n",
    "    },\n",
    "    \"target\": {\n",
    "        \"original\": {\"train\":train_original_target, \"val\":val_original_target, \"test\":test_original_target},\n",
    "        \"processed\": {\"train\":train_processed_target, \"val\":val_processed_target, \"test\":test_processed_target}\n",
    "    },\n",
    "})"
   ]
  },
  {
   "cell_type": "code",
   "execution_count": 20,
   "id": "5b3c01fc",
   "metadata": {
    "execution": {
     "iopub.execute_input": "2022-03-19T23:32:02.231003Z",
     "iopub.status.busy": "2022-03-19T23:32:02.230687Z",
     "iopub.status.idle": "2022-03-19T23:32:11.049820Z",
     "shell.execute_reply": "2022-03-19T23:32:11.050120Z"
    },
    "papermill": {
     "duration": 8.835827,
     "end_time": "2022-03-19T23:32:11.050248",
     "exception": false,
     "start_time": "2022-03-19T23:32:02.214421",
     "status": "completed"
    },
    "tags": []
   },
   "outputs": [
    {
     "name": "stdout",
     "output_type": "stream",
     "text": [
      "{'O_8', 'O_50', 'O_14', 'O_26', 'O_20', 'O_44', 'O_32', 'O_38'}\n"
     ]
    },
    {
     "name": "stdout",
     "output_type": "stream",
     "text": [
      "{'C_5', 'C_1', 'W_3', 'W_1', 'C_2', 'C_4', 'C_3', 'W_2', 'W_4'}\n"
     ]
    },
    {
     "name": "stdout",
     "output_type": "stream",
     "text": [
      "tensor([[[ 0.8950,  0.6777, -0.8950,  ..., -0.7472,  0.0087, -1.2251],\n",
      "         [-0.5648,  0.4431,  0.9210,  ..., -0.7646, -1.3555, -0.0348]],\n",
      "\n",
      "        [[ 0.4454,  1.0655, -0.7162,  ..., -0.7773,  0.8996, -0.0262],\n",
      "         [-0.3756,  0.6376,  0.3406,  ..., -0.5153, -1.0044, -0.9607]],\n",
      "\n",
      "        [[-0.3479, -0.6871,  0.8698,  ...,  0.7393, -1.0872, -0.3740],\n",
      "         [ 0.2609, -0.9307, -0.1913,  ...,  0.7828,  0.7045,  0.8089]],\n",
      "\n",
      "        ...,\n",
      "\n",
      "        [[-0.4380, -1.0049,  0.4294,  ...,  1.0049,  0.4208,  1.1165],\n",
      "         [ 1.0392,  0.0687, -1.1938,  ...,  0.0601,  1.2454, -0.2748]],\n",
      "\n",
      "        [[ 0.5300,  0.0085, -0.7608,  ..., -0.0769,  1.2823,  0.7779],\n",
      "         [ 0.0000,  1.1455, -0.4274,  ..., -0.9062,  0.1539, -0.5984]],\n",
      "\n",
      "        [[ 0.9548,  0.4978, -1.0283,  ..., -0.6774,  0.0082, -1.3711],\n",
      "         [-0.5386,  0.5141,  0.7671,  ..., -0.8406, -1.1997,  0.1306]]])\n"
     ]
    }
   ],
   "source": [
    "from steves_utils.transforms import get_average_magnitude, get_average_power\n",
    "\n",
    "print(set([u for u,_ in val_original_source]))\n",
    "print(set([u for u,_ in val_original_target]))\n",
    "\n",
    "s_x, s_y, q_x, q_y, _ = next(iter(train_processed_source))\n",
    "print(s_x)\n",
    "\n",
    "# for ds in [\n",
    "#     train_processed_source,\n",
    "#     val_processed_source,\n",
    "#     test_processed_source,\n",
    "#     train_processed_target,\n",
    "#     val_processed_target,\n",
    "#     test_processed_target\n",
    "# ]:\n",
    "#     for s_x, s_y, q_x, q_y, _ in ds:\n",
    "#         for X in (s_x, q_x):\n",
    "#             for x in X:\n",
    "#                 assert np.isclose(get_average_magnitude(x.numpy()), 1.0)\n",
    "#                 assert np.isclose(get_average_power(x.numpy()), 1.0)\n",
    "                "
   ]
  },
  {
   "cell_type": "code",
   "execution_count": 21,
   "id": "bbdacba1",
   "metadata": {
    "execution": {
     "iopub.execute_input": "2022-03-19T23:32:11.087850Z",
     "iopub.status.busy": "2022-03-19T23:32:11.087594Z",
     "iopub.status.idle": "2022-03-19T23:32:11.143623Z",
     "shell.execute_reply": "2022-03-19T23:32:11.143971Z"
    },
    "papermill": {
     "duration": 0.073681,
     "end_time": "2022-03-19T23:32:11.144087",
     "exception": false,
     "start_time": "2022-03-19T23:32:11.070406",
     "status": "completed"
    },
    "tags": []
   },
   "outputs": [
    {
     "name": "stdout",
     "output_type": "stream",
     "text": [
      "(2, 256)\n"
     ]
    }
   ],
   "source": [
    "###################################\n",
    "# Build the model\n",
    "###################################\n",
    "# easfsl only wants a tuple for the shape\n",
    "model = Steves_Prototypical_Network(x_net, device=p.device, x_shape=tuple(p.x_shape))\n",
    "optimizer = Adam(params=model.parameters(), lr=p.lr)"
   ]
  },
  {
   "cell_type": "code",
   "execution_count": 22,
   "id": "22b39ac5",
   "metadata": {
    "execution": {
     "iopub.execute_input": "2022-03-19T23:32:11.182335Z",
     "iopub.status.busy": "2022-03-19T23:32:11.182091Z",
     "iopub.status.idle": "2022-03-20T00:32:08.474718Z",
     "shell.execute_reply": "2022-03-20T00:32:08.474492Z"
    },
    "papermill": {
     "duration": 3597.310533,
     "end_time": "2022-03-20T00:32:08.474777",
     "exception": false,
     "start_time": "2022-03-19T23:32:11.164244",
     "status": "completed"
    },
    "tags": []
   },
   "outputs": [
    {
     "name": "stdout",
     "output_type": "stream",
     "text": [
      "epoch: 1, [batch: 1 / 6720], examples_per_second: 48.0760, train_label_loss: 3.0125, \n"
     ]
    },
    {
     "name": "stdout",
     "output_type": "stream",
     "text": [
      "epoch: 1, [batch: 672 / 6720], examples_per_second: 3215.7383, train_label_loss: 1.2746, \n"
     ]
    },
    {
     "name": "stdout",
     "output_type": "stream",
     "text": [
      "epoch: 1, [batch: 1344 / 6720], examples_per_second: 3237.7273, train_label_loss: 0.8065, \n"
     ]
    },
    {
     "name": "stdout",
     "output_type": "stream",
     "text": [
      "epoch: 1, [batch: 2016 / 6720], examples_per_second: 3217.2881, train_label_loss: 0.7727, \n"
     ]
    },
    {
     "name": "stdout",
     "output_type": "stream",
     "text": [
      "epoch: 1, [batch: 2688 / 6720], examples_per_second: 3216.7167, train_label_loss: 0.7156, \n"
     ]
    },
    {
     "name": "stdout",
     "output_type": "stream",
     "text": [
      "epoch: 1, [batch: 3360 / 6720], examples_per_second: 3222.3761, train_label_loss: 0.5156, \n"
     ]
    },
    {
     "name": "stdout",
     "output_type": "stream",
     "text": [
      "epoch: 1, [batch: 4032 / 6720], examples_per_second: 3218.4069, train_label_loss: 0.7393, \n"
     ]
    },
    {
     "name": "stdout",
     "output_type": "stream",
     "text": [
      "epoch: 1, [batch: 4704 / 6720], examples_per_second: 3188.5851, train_label_loss: 0.5827, \n"
     ]
    },
    {
     "name": "stdout",
     "output_type": "stream",
     "text": [
      "epoch: 1, [batch: 5376 / 6720], examples_per_second: 3195.9608, train_label_loss: 0.8859, \n"
     ]
    },
    {
     "name": "stdout",
     "output_type": "stream",
     "text": [
      "epoch: 1, [batch: 6048 / 6720], examples_per_second: 3206.8260, train_label_loss: 0.4096, \n"
     ]
    },
    {
     "name": "stdout",
     "output_type": "stream",
     "text": [
      "=============================================================\n",
      "epoch: 1, source_val_acc_label: 0.7834, target_val_acc_label: 0.6256, source_val_label_loss: 8.7313, target_val_label_loss: 716.3998, \n",
      "=============================================================\n"
     ]
    },
    {
     "name": "stdout",
     "output_type": "stream",
     "text": [
      "New best\n"
     ]
    },
    {
     "name": "stdout",
     "output_type": "stream",
     "text": [
      "epoch: 2, [batch: 1 / 6720], examples_per_second: 4.0324, train_label_loss: 0.8218, \n"
     ]
    },
    {
     "name": "stdout",
     "output_type": "stream",
     "text": [
      "epoch: 2, [batch: 672 / 6720], examples_per_second: 3231.9953, train_label_loss: 0.8544, \n"
     ]
    },
    {
     "name": "stdout",
     "output_type": "stream",
     "text": [
      "epoch: 2, [batch: 1344 / 6720], examples_per_second: 3233.1539, train_label_loss: 0.7634, \n"
     ]
    },
    {
     "name": "stdout",
     "output_type": "stream",
     "text": [
      "epoch: 2, [batch: 2016 / 6720], examples_per_second: 3246.7416, train_label_loss: 0.3727, \n"
     ]
    },
    {
     "name": "stdout",
     "output_type": "stream",
     "text": [
      "epoch: 2, [batch: 2688 / 6720], examples_per_second: 3230.5785, train_label_loss: 0.7440, \n"
     ]
    },
    {
     "name": "stdout",
     "output_type": "stream",
     "text": [
      "epoch: 2, [batch: 3360 / 6720], examples_per_second: 3249.2046, train_label_loss: 0.5136, \n"
     ]
    },
    {
     "name": "stdout",
     "output_type": "stream",
     "text": [
      "epoch: 2, [batch: 4032 / 6720], examples_per_second: 3245.7588, train_label_loss: 0.3196, \n"
     ]
    },
    {
     "name": "stdout",
     "output_type": "stream",
     "text": [
      "epoch: 2, [batch: 4704 / 6720], examples_per_second: 3248.4399, train_label_loss: 0.5668, \n"
     ]
    },
    {
     "name": "stdout",
     "output_type": "stream",
     "text": [
      "epoch: 2, [batch: 5376 / 6720], examples_per_second: 3240.1324, train_label_loss: 0.0852, \n"
     ]
    },
    {
     "name": "stdout",
     "output_type": "stream",
     "text": [
      "epoch: 2, [batch: 6048 / 6720], examples_per_second: 3240.7049, train_label_loss: 0.4861, \n"
     ]
    },
    {
     "name": "stdout",
     "output_type": "stream",
     "text": [
      "=============================================================\n",
      "epoch: 2, source_val_acc_label: 0.8145, target_val_acc_label: 0.6412, source_val_label_loss: 0.5089, target_val_label_loss: 411.6347, \n",
      "=============================================================\n"
     ]
    },
    {
     "name": "stdout",
     "output_type": "stream",
     "text": [
      "New best\n"
     ]
    },
    {
     "name": "stdout",
     "output_type": "stream",
     "text": [
      "epoch: 3, [batch: 1 / 6720], examples_per_second: 4.0208, train_label_loss: 0.1585, \n"
     ]
    },
    {
     "name": "stdout",
     "output_type": "stream",
     "text": [
      "epoch: 3, [batch: 672 / 6720], examples_per_second: 3234.7104, train_label_loss: 0.5013, \n"
     ]
    },
    {
     "name": "stdout",
     "output_type": "stream",
     "text": [
      "epoch: 3, [batch: 1344 / 6720], examples_per_second: 3243.9530, train_label_loss: 0.2113, \n"
     ]
    },
    {
     "name": "stdout",
     "output_type": "stream",
     "text": [
      "epoch: 3, [batch: 2016 / 6720], examples_per_second: 3258.7092, train_label_loss: 0.5664, \n"
     ]
    },
    {
     "name": "stdout",
     "output_type": "stream",
     "text": [
      "epoch: 3, [batch: 2688 / 6720], examples_per_second: 3244.6542, train_label_loss: 0.4149, \n"
     ]
    },
    {
     "name": "stdout",
     "output_type": "stream",
     "text": [
      "epoch: 3, [batch: 3360 / 6720], examples_per_second: 3261.2042, train_label_loss: 0.5753, \n"
     ]
    },
    {
     "name": "stdout",
     "output_type": "stream",
     "text": [
      "epoch: 3, [batch: 4032 / 6720], examples_per_second: 3243.8793, train_label_loss: 0.2890, \n"
     ]
    },
    {
     "name": "stdout",
     "output_type": "stream",
     "text": [
      "epoch: 3, [batch: 4704 / 6720], examples_per_second: 3234.7564, train_label_loss: 0.3226, \n"
     ]
    },
    {
     "name": "stdout",
     "output_type": "stream",
     "text": [
      "epoch: 3, [batch: 5376 / 6720], examples_per_second: 3247.9186, train_label_loss: 0.6243, \n"
     ]
    },
    {
     "name": "stdout",
     "output_type": "stream",
     "text": [
      "epoch: 3, [batch: 6048 / 6720], examples_per_second: 3259.4925, train_label_loss: 0.4366, \n"
     ]
    },
    {
     "name": "stdout",
     "output_type": "stream",
     "text": [
      "=============================================================\n",
      "epoch: 3, source_val_acc_label: 0.8310, target_val_acc_label: 0.6734, source_val_label_loss: 0.4661, target_val_label_loss: 482.3552, \n",
      "=============================================================\n"
     ]
    },
    {
     "name": "stdout",
     "output_type": "stream",
     "text": [
      "New best\n"
     ]
    },
    {
     "name": "stdout",
     "output_type": "stream",
     "text": [
      "epoch: 4, [batch: 1 / 6720], examples_per_second: 4.0310, train_label_loss: 0.4508, \n"
     ]
    },
    {
     "name": "stdout",
     "output_type": "stream",
     "text": [
      "epoch: 4, [batch: 672 / 6720], examples_per_second: 3219.4675, train_label_loss: 0.2048, \n"
     ]
    },
    {
     "name": "stdout",
     "output_type": "stream",
     "text": [
      "epoch: 4, [batch: 1344 / 6720], examples_per_second: 3240.3480, train_label_loss: 0.4257, \n"
     ]
    },
    {
     "name": "stdout",
     "output_type": "stream",
     "text": [
      "epoch: 4, [batch: 2016 / 6720], examples_per_second: 3235.6035, train_label_loss: 0.3214, \n"
     ]
    },
    {
     "name": "stdout",
     "output_type": "stream",
     "text": [
      "epoch: 4, [batch: 2688 / 6720], examples_per_second: 3224.8550, train_label_loss: 0.2449, \n"
     ]
    },
    {
     "name": "stdout",
     "output_type": "stream",
     "text": [
      "epoch: 4, [batch: 3360 / 6720], examples_per_second: 3253.3716, train_label_loss: 0.2982, \n"
     ]
    },
    {
     "name": "stdout",
     "output_type": "stream",
     "text": [
      "epoch: 4, [batch: 4032 / 6720], examples_per_second: 3248.3797, train_label_loss: 0.2131, \n"
     ]
    },
    {
     "name": "stdout",
     "output_type": "stream",
     "text": [
      "epoch: 4, [batch: 4704 / 6720], examples_per_second: 3243.9238, train_label_loss: 0.8058, \n"
     ]
    },
    {
     "name": "stdout",
     "output_type": "stream",
     "text": [
      "epoch: 4, [batch: 5376 / 6720], examples_per_second: 3252.2248, train_label_loss: 0.1351, \n"
     ]
    },
    {
     "name": "stdout",
     "output_type": "stream",
     "text": [
      "epoch: 4, [batch: 6048 / 6720], examples_per_second: 3258.5197, train_label_loss: 0.2145, \n"
     ]
    },
    {
     "name": "stdout",
     "output_type": "stream",
     "text": [
      "=============================================================\n",
      "epoch: 4, source_val_acc_label: 0.8709, target_val_acc_label: 0.6907, source_val_label_loss: 0.3697, target_val_label_loss: 638.6581, \n",
      "=============================================================\n"
     ]
    },
    {
     "name": "stdout",
     "output_type": "stream",
     "text": [
      "New best\n"
     ]
    },
    {
     "name": "stdout",
     "output_type": "stream",
     "text": [
      "epoch: 5, [batch: 1 / 6720], examples_per_second: 4.0377, train_label_loss: 0.6550, \n"
     ]
    },
    {
     "name": "stdout",
     "output_type": "stream",
     "text": [
      "epoch: 5, [batch: 672 / 6720], examples_per_second: 3232.5984, train_label_loss: 0.3514, \n"
     ]
    },
    {
     "name": "stdout",
     "output_type": "stream",
     "text": [
      "epoch: 5, [batch: 1344 / 6720], examples_per_second: 3242.1526, train_label_loss: 0.3042, \n"
     ]
    },
    {
     "name": "stdout",
     "output_type": "stream",
     "text": [
      "epoch: 5, [batch: 2016 / 6720], examples_per_second: 3246.0684, train_label_loss: 0.3300, \n"
     ]
    },
    {
     "name": "stdout",
     "output_type": "stream",
     "text": [
      "epoch: 5, [batch: 2688 / 6720], examples_per_second: 3241.3205, train_label_loss: 0.1663, \n"
     ]
    },
    {
     "name": "stdout",
     "output_type": "stream",
     "text": [
      "epoch: 5, [batch: 3360 / 6720], examples_per_second: 3246.8081, train_label_loss: 0.5271, \n"
     ]
    },
    {
     "name": "stdout",
     "output_type": "stream",
     "text": [
      "epoch: 5, [batch: 4032 / 6720], examples_per_second: 3249.5022, train_label_loss: 0.3455, \n"
     ]
    },
    {
     "name": "stdout",
     "output_type": "stream",
     "text": [
      "epoch: 5, [batch: 4704 / 6720], examples_per_second: 3241.7751, train_label_loss: 0.2707, \n"
     ]
    },
    {
     "name": "stdout",
     "output_type": "stream",
     "text": [
      "epoch: 5, [batch: 5376 / 6720], examples_per_second: 3241.9650, train_label_loss: 0.0963, \n"
     ]
    },
    {
     "name": "stdout",
     "output_type": "stream",
     "text": [
      "epoch: 5, [batch: 6048 / 6720], examples_per_second: 3253.4814, train_label_loss: 0.0790, \n"
     ]
    },
    {
     "name": "stdout",
     "output_type": "stream",
     "text": [
      "=============================================================\n",
      "epoch: 5, source_val_acc_label: 0.8821, target_val_acc_label: 0.6985, source_val_label_loss: 0.3351, target_val_label_loss: 716.7444, \n",
      "=============================================================\n"
     ]
    },
    {
     "name": "stdout",
     "output_type": "stream",
     "text": [
      "New best\n"
     ]
    },
    {
     "name": "stdout",
     "output_type": "stream",
     "text": [
      "epoch: 6, [batch: 1 / 6720], examples_per_second: 4.0330, train_label_loss: 0.1805, \n"
     ]
    },
    {
     "name": "stdout",
     "output_type": "stream",
     "text": [
      "epoch: 6, [batch: 672 / 6720], examples_per_second: 3240.9787, train_label_loss: 0.4607, \n"
     ]
    },
    {
     "name": "stdout",
     "output_type": "stream",
     "text": [
      "epoch: 6, [batch: 1344 / 6720], examples_per_second: 3234.6108, train_label_loss: 0.1373, \n"
     ]
    },
    {
     "name": "stdout",
     "output_type": "stream",
     "text": [
      "epoch: 6, [batch: 2016 / 6720], examples_per_second: 3233.2078, train_label_loss: 0.2879, \n"
     ]
    },
    {
     "name": "stdout",
     "output_type": "stream",
     "text": [
      "epoch: 6, [batch: 2688 / 6720], examples_per_second: 3236.6069, train_label_loss: 0.0546, \n"
     ]
    },
    {
     "name": "stdout",
     "output_type": "stream",
     "text": [
      "epoch: 6, [batch: 3360 / 6720], examples_per_second: 3221.3402, train_label_loss: 0.3272, \n"
     ]
    },
    {
     "name": "stdout",
     "output_type": "stream",
     "text": [
      "epoch: 6, [batch: 4032 / 6720], examples_per_second: 3233.8190, train_label_loss: 0.0873, \n"
     ]
    },
    {
     "name": "stdout",
     "output_type": "stream",
     "text": [
      "epoch: 6, [batch: 4704 / 6720], examples_per_second: 3241.2949, train_label_loss: 0.1916, \n"
     ]
    },
    {
     "name": "stdout",
     "output_type": "stream",
     "text": [
      "epoch: 6, [batch: 5376 / 6720], examples_per_second: 3239.0986, train_label_loss: 0.3083, \n"
     ]
    },
    {
     "name": "stdout",
     "output_type": "stream",
     "text": [
      "epoch: 6, [batch: 6048 / 6720], examples_per_second: 3237.2935, train_label_loss: 0.3317, \n"
     ]
    },
    {
     "name": "stdout",
     "output_type": "stream",
     "text": [
      "=============================================================\n",
      "epoch: 6, source_val_acc_label: 0.8735, target_val_acc_label: 0.7006, source_val_label_loss: 0.3676, target_val_label_loss: 809.7959, \n",
      "=============================================================\n"
     ]
    },
    {
     "name": "stdout",
     "output_type": "stream",
     "text": [
      "New best\n"
     ]
    },
    {
     "name": "stdout",
     "output_type": "stream",
     "text": [
      "epoch: 7, [batch: 1 / 6720], examples_per_second: 4.0275, train_label_loss: 0.0333, \n"
     ]
    },
    {
     "name": "stdout",
     "output_type": "stream",
     "text": [
      "epoch: 7, [batch: 672 / 6720], examples_per_second: 3232.3007, train_label_loss: 0.2203, \n"
     ]
    },
    {
     "name": "stdout",
     "output_type": "stream",
     "text": [
      "epoch: 7, [batch: 1344 / 6720], examples_per_second: 3240.7331, train_label_loss: 0.6721, \n"
     ]
    },
    {
     "name": "stdout",
     "output_type": "stream",
     "text": [
      "epoch: 7, [batch: 2016 / 6720], examples_per_second: 3219.6072, train_label_loss: 0.3043, \n"
     ]
    },
    {
     "name": "stdout",
     "output_type": "stream",
     "text": [
      "epoch: 7, [batch: 2688 / 6720], examples_per_second: 3224.8100, train_label_loss: 0.0184, \n"
     ]
    },
    {
     "name": "stdout",
     "output_type": "stream",
     "text": [
      "epoch: 7, [batch: 3360 / 6720], examples_per_second: 3241.5370, train_label_loss: 0.3662, \n"
     ]
    },
    {
     "name": "stdout",
     "output_type": "stream",
     "text": [
      "epoch: 7, [batch: 4032 / 6720], examples_per_second: 3241.6129, train_label_loss: 0.1740, \n"
     ]
    },
    {
     "name": "stdout",
     "output_type": "stream",
     "text": [
      "epoch: 7, [batch: 4704 / 6720], examples_per_second: 3232.1574, train_label_loss: 0.2838, \n"
     ]
    },
    {
     "name": "stdout",
     "output_type": "stream",
     "text": [
      "epoch: 7, [batch: 5376 / 6720], examples_per_second: 3246.0146, train_label_loss: 0.3140, \n"
     ]
    },
    {
     "name": "stdout",
     "output_type": "stream",
     "text": [
      "epoch: 7, [batch: 6048 / 6720], examples_per_second: 3244.9994, train_label_loss: 0.2726, \n"
     ]
    },
    {
     "name": "stdout",
     "output_type": "stream",
     "text": [
      "=============================================================\n",
      "epoch: 7, source_val_acc_label: 0.8854, target_val_acc_label: 0.7023, source_val_label_loss: 0.3179, target_val_label_loss: 904.5693, \n",
      "=============================================================\n"
     ]
    },
    {
     "name": "stdout",
     "output_type": "stream",
     "text": [
      "New best\n"
     ]
    },
    {
     "name": "stdout",
     "output_type": "stream",
     "text": [
      "epoch: 8, [batch: 1 / 6720], examples_per_second: 4.0414, train_label_loss: 0.1953, \n"
     ]
    },
    {
     "name": "stdout",
     "output_type": "stream",
     "text": [
      "epoch: 8, [batch: 672 / 6720], examples_per_second: 3237.7912, train_label_loss: 0.1285, \n"
     ]
    },
    {
     "name": "stdout",
     "output_type": "stream",
     "text": [
      "epoch: 8, [batch: 1344 / 6720], examples_per_second: 3253.2901, train_label_loss: 0.1369, \n"
     ]
    },
    {
     "name": "stdout",
     "output_type": "stream",
     "text": [
      "epoch: 8, [batch: 2016 / 6720], examples_per_second: 3242.7810, train_label_loss: 0.6234, \n"
     ]
    },
    {
     "name": "stdout",
     "output_type": "stream",
     "text": [
      "epoch: 8, [batch: 2688 / 6720], examples_per_second: 3233.1260, train_label_loss: 0.8407, \n"
     ]
    },
    {
     "name": "stdout",
     "output_type": "stream",
     "text": [
      "epoch: 8, [batch: 3360 / 6720], examples_per_second: 3255.0815, train_label_loss: 0.1612, \n"
     ]
    },
    {
     "name": "stdout",
     "output_type": "stream",
     "text": [
      "epoch: 8, [batch: 4032 / 6720], examples_per_second: 3247.4167, train_label_loss: 0.2036, \n"
     ]
    },
    {
     "name": "stdout",
     "output_type": "stream",
     "text": [
      "epoch: 8, [batch: 4704 / 6720], examples_per_second: 3234.7220, train_label_loss: 0.1841, \n"
     ]
    },
    {
     "name": "stdout",
     "output_type": "stream",
     "text": [
      "epoch: 8, [batch: 5376 / 6720], examples_per_second: 3242.4003, train_label_loss: 0.1725, \n"
     ]
    },
    {
     "name": "stdout",
     "output_type": "stream",
     "text": [
      "epoch: 8, [batch: 6048 / 6720], examples_per_second: 3250.3858, train_label_loss: 0.7334, \n"
     ]
    },
    {
     "name": "stdout",
     "output_type": "stream",
     "text": [
      "=============================================================\n",
      "epoch: 8, source_val_acc_label: 0.8923, target_val_acc_label: 0.7033, source_val_label_loss: 0.3135, target_val_label_loss: 967.3982, \n",
      "=============================================================\n"
     ]
    },
    {
     "name": "stdout",
     "output_type": "stream",
     "text": [
      "New best\n"
     ]
    },
    {
     "name": "stdout",
     "output_type": "stream",
     "text": [
      "epoch: 9, [batch: 1 / 6720], examples_per_second: 4.0489, train_label_loss: 0.0636, \n"
     ]
    },
    {
     "name": "stdout",
     "output_type": "stream",
     "text": [
      "epoch: 9, [batch: 672 / 6720], examples_per_second: 3226.3261, train_label_loss: 0.2938, \n"
     ]
    },
    {
     "name": "stdout",
     "output_type": "stream",
     "text": [
      "epoch: 9, [batch: 1344 / 6720], examples_per_second: 3242.8460, train_label_loss: 0.1897, \n"
     ]
    },
    {
     "name": "stdout",
     "output_type": "stream",
     "text": [
      "epoch: 9, [batch: 2016 / 6720], examples_per_second: 3259.2985, train_label_loss: 0.2259, \n"
     ]
    },
    {
     "name": "stdout",
     "output_type": "stream",
     "text": [
      "epoch: 9, [batch: 2688 / 6720], examples_per_second: 3240.7731, train_label_loss: 0.2493, \n"
     ]
    },
    {
     "name": "stdout",
     "output_type": "stream",
     "text": [
      "epoch: 9, [batch: 3360 / 6720], examples_per_second: 3250.4646, train_label_loss: 0.2156, \n"
     ]
    },
    {
     "name": "stdout",
     "output_type": "stream",
     "text": [
      "epoch: 9, [batch: 4032 / 6720], examples_per_second: 3250.1351, train_label_loss: 0.2094, \n"
     ]
    },
    {
     "name": "stdout",
     "output_type": "stream",
     "text": [
      "epoch: 9, [batch: 4704 / 6720], examples_per_second: 3239.4028, train_label_loss: 0.0103, \n"
     ]
    },
    {
     "name": "stdout",
     "output_type": "stream",
     "text": [
      "epoch: 9, [batch: 5376 / 6720], examples_per_second: 3224.3440, train_label_loss: 0.2495, \n"
     ]
    },
    {
     "name": "stdout",
     "output_type": "stream",
     "text": [
      "epoch: 9, [batch: 6048 / 6720], examples_per_second: 3223.9904, train_label_loss: 0.4402, \n"
     ]
    },
    {
     "name": "stdout",
     "output_type": "stream",
     "text": [
      "=============================================================\n",
      "epoch: 9, source_val_acc_label: 0.9003, target_val_acc_label: 0.7024, source_val_label_loss: 0.2912, target_val_label_loss: 1028.3552, \n",
      "=============================================================\n"
     ]
    },
    {
     "name": "stdout",
     "output_type": "stream",
     "text": [
      "epoch: 10, [batch: 1 / 6720], examples_per_second: 4.0106, train_label_loss: 0.2442, \n"
     ]
    },
    {
     "name": "stdout",
     "output_type": "stream",
     "text": [
      "epoch: 10, [batch: 672 / 6720], examples_per_second: 3233.6095, train_label_loss: 0.7513, \n"
     ]
    },
    {
     "name": "stdout",
     "output_type": "stream",
     "text": [
      "epoch: 10, [batch: 1344 / 6720], examples_per_second: 3233.4676, train_label_loss: 0.1875, \n"
     ]
    },
    {
     "name": "stdout",
     "output_type": "stream",
     "text": [
      "epoch: 10, [batch: 2016 / 6720], examples_per_second: 3234.9385, train_label_loss: 0.2001, \n"
     ]
    },
    {
     "name": "stdout",
     "output_type": "stream",
     "text": [
      "epoch: 10, [batch: 2688 / 6720], examples_per_second: 3227.3586, train_label_loss: 0.3877, \n"
     ]
    },
    {
     "name": "stdout",
     "output_type": "stream",
     "text": [
      "epoch: 10, [batch: 3360 / 6720], examples_per_second: 3236.7528, train_label_loss: 0.1435, \n"
     ]
    },
    {
     "name": "stdout",
     "output_type": "stream",
     "text": [
      "epoch: 10, [batch: 4032 / 6720], examples_per_second: 3247.1730, train_label_loss: 0.2671, \n"
     ]
    },
    {
     "name": "stdout",
     "output_type": "stream",
     "text": [
      "epoch: 10, [batch: 4704 / 6720], examples_per_second: 3229.1163, train_label_loss: 0.0791, \n"
     ]
    },
    {
     "name": "stdout",
     "output_type": "stream",
     "text": [
      "epoch: 10, [batch: 5376 / 6720], examples_per_second: 3249.0659, train_label_loss: 0.1993, \n"
     ]
    },
    {
     "name": "stdout",
     "output_type": "stream",
     "text": [
      "epoch: 10, [batch: 6048 / 6720], examples_per_second: 3243.9628, train_label_loss: 0.1574, \n"
     ]
    },
    {
     "name": "stdout",
     "output_type": "stream",
     "text": [
      "=============================================================\n",
      "epoch: 10, source_val_acc_label: 0.9031, target_val_acc_label: 0.7013, source_val_label_loss: 0.2886, target_val_label_loss: 1051.0673, \n",
      "=============================================================\n"
     ]
    },
    {
     "name": "stdout",
     "output_type": "stream",
     "text": [
      "epoch: 11, [batch: 1 / 6720], examples_per_second: 4.0610, train_label_loss: 0.1769, \n"
     ]
    },
    {
     "name": "stdout",
     "output_type": "stream",
     "text": [
      "epoch: 11, [batch: 672 / 6720], examples_per_second: 3227.6428, train_label_loss: 0.0567, \n"
     ]
    },
    {
     "name": "stdout",
     "output_type": "stream",
     "text": [
      "epoch: 11, [batch: 1344 / 6720], examples_per_second: 3232.0880, train_label_loss: 0.7114, \n"
     ]
    },
    {
     "name": "stdout",
     "output_type": "stream",
     "text": [
      "epoch: 11, [batch: 2016 / 6720], examples_per_second: 3241.7546, train_label_loss: 0.1113, \n"
     ]
    },
    {
     "name": "stdout",
     "output_type": "stream",
     "text": [
      "epoch: 11, [batch: 2688 / 6720], examples_per_second: 3232.4867, train_label_loss: 0.2990, \n"
     ]
    },
    {
     "name": "stdout",
     "output_type": "stream",
     "text": [
      "epoch: 11, [batch: 3360 / 6720], examples_per_second: 3245.8793, train_label_loss: 0.0550, \n"
     ]
    },
    {
     "name": "stdout",
     "output_type": "stream",
     "text": [
      "epoch: 11, [batch: 4032 / 6720], examples_per_second: 3244.2973, train_label_loss: 0.5704, \n"
     ]
    },
    {
     "name": "stdout",
     "output_type": "stream",
     "text": [
      "epoch: 11, [batch: 4704 / 6720], examples_per_second: 3240.4308, train_label_loss: 0.2636, \n"
     ]
    },
    {
     "name": "stdout",
     "output_type": "stream",
     "text": [
      "epoch: 11, [batch: 5376 / 6720], examples_per_second: 3245.3437, train_label_loss: 0.0510, \n"
     ]
    },
    {
     "name": "stdout",
     "output_type": "stream",
     "text": [
      "epoch: 11, [batch: 6048 / 6720], examples_per_second: 3250.4068, train_label_loss: 0.1277, \n"
     ]
    },
    {
     "name": "stdout",
     "output_type": "stream",
     "text": [
      "=============================================================\n",
      "epoch: 11, source_val_acc_label: 0.8993, target_val_acc_label: 0.7032, source_val_label_loss: 0.2814, target_val_label_loss: 1040.5150, \n",
      "=============================================================\n"
     ]
    },
    {
     "name": "stdout",
     "output_type": "stream",
     "text": [
      "epoch: 12, [batch: 1 / 6720], examples_per_second: 4.0327, train_label_loss: 0.1214, \n"
     ]
    },
    {
     "name": "stdout",
     "output_type": "stream",
     "text": [
      "epoch: 12, [batch: 672 / 6720], examples_per_second: 3244.5362, train_label_loss: 0.0395, \n"
     ]
    },
    {
     "name": "stdout",
     "output_type": "stream",
     "text": [
      "epoch: 12, [batch: 1344 / 6720], examples_per_second: 3249.3811, train_label_loss: 0.3033, \n"
     ]
    },
    {
     "name": "stdout",
     "output_type": "stream",
     "text": [
      "epoch: 12, [batch: 2016 / 6720], examples_per_second: 3250.8894, train_label_loss: 0.0449, \n"
     ]
    },
    {
     "name": "stdout",
     "output_type": "stream",
     "text": [
      "epoch: 12, [batch: 2688 / 6720], examples_per_second: 3225.0067, train_label_loss: 0.0757, \n"
     ]
    },
    {
     "name": "stdout",
     "output_type": "stream",
     "text": [
      "epoch: 12, [batch: 3360 / 6720], examples_per_second: 3232.7667, train_label_loss: 0.0504, \n"
     ]
    },
    {
     "name": "stdout",
     "output_type": "stream",
     "text": [
      "epoch: 12, [batch: 4032 / 6720], examples_per_second: 3250.0331, train_label_loss: 0.2628, \n"
     ]
    },
    {
     "name": "stdout",
     "output_type": "stream",
     "text": [
      "epoch: 12, [batch: 4704 / 6720], examples_per_second: 3241.8058, train_label_loss: 0.1491, \n"
     ]
    },
    {
     "name": "stdout",
     "output_type": "stream",
     "text": [
      "epoch: 12, [batch: 5376 / 6720], examples_per_second: 3250.6606, train_label_loss: 0.2462, \n"
     ]
    },
    {
     "name": "stdout",
     "output_type": "stream",
     "text": [
      "epoch: 12, [batch: 6048 / 6720], examples_per_second: 3247.6176, train_label_loss: 0.1128, \n"
     ]
    },
    {
     "name": "stdout",
     "output_type": "stream",
     "text": [
      "=============================================================\n",
      "epoch: 12, source_val_acc_label: 0.9044, target_val_acc_label: 0.7158, source_val_label_loss: 0.2790, target_val_label_loss: 1111.6173, \n",
      "=============================================================\n"
     ]
    },
    {
     "name": "stdout",
     "output_type": "stream",
     "text": [
      "New best\n"
     ]
    },
    {
     "name": "stdout",
     "output_type": "stream",
     "text": [
      "epoch: 13, [batch: 1 / 6720], examples_per_second: 4.0063, train_label_loss: 0.2165, \n"
     ]
    },
    {
     "name": "stdout",
     "output_type": "stream",
     "text": [
      "epoch: 13, [batch: 672 / 6720], examples_per_second: 3234.7641, train_label_loss: 0.0660, \n"
     ]
    },
    {
     "name": "stdout",
     "output_type": "stream",
     "text": [
      "epoch: 13, [batch: 1344 / 6720], examples_per_second: 3233.5547, train_label_loss: 0.0498, \n"
     ]
    },
    {
     "name": "stdout",
     "output_type": "stream",
     "text": [
      "epoch: 13, [batch: 2016 / 6720], examples_per_second: 3257.0792, train_label_loss: 0.1184, \n"
     ]
    },
    {
     "name": "stdout",
     "output_type": "stream",
     "text": [
      "epoch: 13, [batch: 2688 / 6720], examples_per_second: 3211.5822, train_label_loss: 0.3552, \n"
     ]
    },
    {
     "name": "stdout",
     "output_type": "stream",
     "text": [
      "epoch: 13, [batch: 3360 / 6720], examples_per_second: 3240.6047, train_label_loss: 0.2561, \n"
     ]
    },
    {
     "name": "stdout",
     "output_type": "stream",
     "text": [
      "epoch: 13, [batch: 4032 / 6720], examples_per_second: 3245.4154, train_label_loss: 0.5817, \n"
     ]
    },
    {
     "name": "stdout",
     "output_type": "stream",
     "text": [
      "epoch: 13, [batch: 4704 / 6720], examples_per_second: 3243.2500, train_label_loss: 0.1672, \n"
     ]
    },
    {
     "name": "stdout",
     "output_type": "stream",
     "text": [
      "epoch: 13, [batch: 5376 / 6720], examples_per_second: 3237.4390, train_label_loss: 0.3979, \n"
     ]
    },
    {
     "name": "stdout",
     "output_type": "stream",
     "text": [
      "epoch: 13, [batch: 6048 / 6720], examples_per_second: 3251.1018, train_label_loss: 0.2119, \n"
     ]
    },
    {
     "name": "stdout",
     "output_type": "stream",
     "text": [
      "=============================================================\n",
      "epoch: 13, source_val_acc_label: 0.9023, target_val_acc_label: 0.7038, source_val_label_loss: 0.2785, target_val_label_loss: 1108.6494, \n",
      "=============================================================\n"
     ]
    },
    {
     "name": "stdout",
     "output_type": "stream",
     "text": [
      "epoch: 14, [batch: 1 / 6720], examples_per_second: 4.0529, train_label_loss: 0.0650, \n"
     ]
    },
    {
     "name": "stdout",
     "output_type": "stream",
     "text": [
      "epoch: 14, [batch: 672 / 6720], examples_per_second: 3211.3218, train_label_loss: 0.2373, \n"
     ]
    },
    {
     "name": "stdout",
     "output_type": "stream",
     "text": [
      "epoch: 14, [batch: 1344 / 6720], examples_per_second: 3232.1823, train_label_loss: 0.2087, \n"
     ]
    },
    {
     "name": "stdout",
     "output_type": "stream",
     "text": [
      "epoch: 14, [batch: 2016 / 6720], examples_per_second: 3245.6615, train_label_loss: 0.0412, \n"
     ]
    },
    {
     "name": "stdout",
     "output_type": "stream",
     "text": [
      "epoch: 14, [batch: 2688 / 6720], examples_per_second: 3240.1499, train_label_loss: 0.1734, \n"
     ]
    },
    {
     "name": "stdout",
     "output_type": "stream",
     "text": [
      "epoch: 14, [batch: 3360 / 6720], examples_per_second: 3250.5356, train_label_loss: 0.2131, \n"
     ]
    },
    {
     "name": "stdout",
     "output_type": "stream",
     "text": [
      "epoch: 14, [batch: 4032 / 6720], examples_per_second: 3236.9681, train_label_loss: 0.0746, \n"
     ]
    },
    {
     "name": "stdout",
     "output_type": "stream",
     "text": [
      "epoch: 14, [batch: 4704 / 6720], examples_per_second: 3229.3532, train_label_loss: 0.2251, \n"
     ]
    },
    {
     "name": "stdout",
     "output_type": "stream",
     "text": [
      "epoch: 14, [batch: 5376 / 6720], examples_per_second: 3235.0879, train_label_loss: 0.1279, \n"
     ]
    },
    {
     "name": "stdout",
     "output_type": "stream",
     "text": [
      "epoch: 14, [batch: 6048 / 6720], examples_per_second: 3235.5998, train_label_loss: 0.1517, \n"
     ]
    },
    {
     "name": "stdout",
     "output_type": "stream",
     "text": [
      "=============================================================\n",
      "epoch: 14, source_val_acc_label: 0.9063, target_val_acc_label: 0.7149, source_val_label_loss: 0.2823, target_val_label_loss: 1150.4642, \n",
      "=============================================================\n"
     ]
    },
    {
     "name": "stdout",
     "output_type": "stream",
     "text": [
      "epoch: 15, [batch: 1 / 6720], examples_per_second: 4.0305, train_label_loss: 0.1240, \n"
     ]
    },
    {
     "name": "stdout",
     "output_type": "stream",
     "text": [
      "epoch: 15, [batch: 672 / 6720], examples_per_second: 3235.1588, train_label_loss: 0.0758, \n"
     ]
    },
    {
     "name": "stdout",
     "output_type": "stream",
     "text": [
      "epoch: 15, [batch: 1344 / 6720], examples_per_second: 3238.1702, train_label_loss: 0.0741, \n"
     ]
    },
    {
     "name": "stdout",
     "output_type": "stream",
     "text": [
      "epoch: 15, [batch: 2016 / 6720], examples_per_second: 3233.4473, train_label_loss: 0.3559, \n"
     ]
    },
    {
     "name": "stdout",
     "output_type": "stream",
     "text": [
      "epoch: 15, [batch: 2688 / 6720], examples_per_second: 3228.5984, train_label_loss: 0.3349, \n"
     ]
    },
    {
     "name": "stdout",
     "output_type": "stream",
     "text": [
      "epoch: 15, [batch: 3360 / 6720], examples_per_second: 3251.0281, train_label_loss: 0.1714, \n"
     ]
    },
    {
     "name": "stdout",
     "output_type": "stream",
     "text": [
      "epoch: 15, [batch: 4032 / 6720], examples_per_second: 3241.4292, train_label_loss: 0.0913, \n"
     ]
    },
    {
     "name": "stdout",
     "output_type": "stream",
     "text": [
      "epoch: 15, [batch: 4704 / 6720], examples_per_second: 3235.3431, train_label_loss: 0.0600, \n"
     ]
    },
    {
     "name": "stdout",
     "output_type": "stream",
     "text": [
      "epoch: 15, [batch: 5376 / 6720], examples_per_second: 3250.6705, train_label_loss: 0.3515, \n"
     ]
    },
    {
     "name": "stdout",
     "output_type": "stream",
     "text": [
      "epoch: 15, [batch: 6048 / 6720], examples_per_second: 3246.0691, train_label_loss: 0.3823, \n"
     ]
    },
    {
     "name": "stdout",
     "output_type": "stream",
     "text": [
      "=============================================================\n",
      "epoch: 15, source_val_acc_label: 0.9074, target_val_acc_label: 0.7268, source_val_label_loss: 0.2803, target_val_label_loss: 1173.8501, \n",
      "=============================================================\n"
     ]
    },
    {
     "name": "stdout",
     "output_type": "stream",
     "text": [
      "New best\n"
     ]
    },
    {
     "name": "stdout",
     "output_type": "stream",
     "text": [
      "epoch: 16, [batch: 1 / 6720], examples_per_second: 4.0183, train_label_loss: 0.0799, \n"
     ]
    },
    {
     "name": "stdout",
     "output_type": "stream",
     "text": [
      "epoch: 16, [batch: 672 / 6720], examples_per_second: 3233.8896, train_label_loss: 0.1491, \n"
     ]
    },
    {
     "name": "stdout",
     "output_type": "stream",
     "text": [
      "epoch: 16, [batch: 1344 / 6720], examples_per_second: 3238.7297, train_label_loss: 0.1679, \n"
     ]
    },
    {
     "name": "stdout",
     "output_type": "stream",
     "text": [
      "epoch: 16, [batch: 2016 / 6720], examples_per_second: 3237.0845, train_label_loss: 0.0972, \n"
     ]
    },
    {
     "name": "stdout",
     "output_type": "stream",
     "text": [
      "epoch: 16, [batch: 2688 / 6720], examples_per_second: 3237.0793, train_label_loss: 0.2730, \n"
     ]
    },
    {
     "name": "stdout",
     "output_type": "stream",
     "text": [
      "epoch: 16, [batch: 3360 / 6720], examples_per_second: 3257.5928, train_label_loss: 0.1302, \n"
     ]
    },
    {
     "name": "stdout",
     "output_type": "stream",
     "text": [
      "epoch: 16, [batch: 4032 / 6720], examples_per_second: 3240.7245, train_label_loss: 0.0335, \n"
     ]
    },
    {
     "name": "stdout",
     "output_type": "stream",
     "text": [
      "epoch: 16, [batch: 4704 / 6720], examples_per_second: 3235.8903, train_label_loss: 0.0107, \n"
     ]
    },
    {
     "name": "stdout",
     "output_type": "stream",
     "text": [
      "epoch: 16, [batch: 5376 / 6720], examples_per_second: 3234.7639, train_label_loss: 0.0097, \n"
     ]
    },
    {
     "name": "stdout",
     "output_type": "stream",
     "text": [
      "epoch: 16, [batch: 6048 / 6720], examples_per_second: 3221.6887, train_label_loss: 0.3050, \n"
     ]
    },
    {
     "name": "stdout",
     "output_type": "stream",
     "text": [
      "=============================================================\n",
      "epoch: 16, source_val_acc_label: 0.9080, target_val_acc_label: 0.7204, source_val_label_loss: 0.2877, target_val_label_loss: 1260.0225, \n",
      "=============================================================\n"
     ]
    },
    {
     "name": "stdout",
     "output_type": "stream",
     "text": [
      "epoch: 17, [batch: 1 / 6720], examples_per_second: 4.0148, train_label_loss: 0.1372, \n"
     ]
    },
    {
     "name": "stdout",
     "output_type": "stream",
     "text": [
      "epoch: 17, [batch: 672 / 6720], examples_per_second: 3222.5975, train_label_loss: 0.1121, \n"
     ]
    },
    {
     "name": "stdout",
     "output_type": "stream",
     "text": [
      "epoch: 17, [batch: 1344 / 6720], examples_per_second: 3232.5781, train_label_loss: 0.2076, \n"
     ]
    },
    {
     "name": "stdout",
     "output_type": "stream",
     "text": [
      "epoch: 17, [batch: 2016 / 6720], examples_per_second: 3228.9153, train_label_loss: 0.1537, \n"
     ]
    },
    {
     "name": "stdout",
     "output_type": "stream",
     "text": [
      "epoch: 17, [batch: 2688 / 6720], examples_per_second: 3241.7078, train_label_loss: 0.3191, \n"
     ]
    },
    {
     "name": "stdout",
     "output_type": "stream",
     "text": [
      "epoch: 17, [batch: 3360 / 6720], examples_per_second: 3241.5322, train_label_loss: 0.3795, \n"
     ]
    },
    {
     "name": "stdout",
     "output_type": "stream",
     "text": [
      "epoch: 17, [batch: 4032 / 6720], examples_per_second: 3242.2086, train_label_loss: 0.3266, \n"
     ]
    },
    {
     "name": "stdout",
     "output_type": "stream",
     "text": [
      "epoch: 17, [batch: 4704 / 6720], examples_per_second: 3238.5945, train_label_loss: 0.1664, \n"
     ]
    },
    {
     "name": "stdout",
     "output_type": "stream",
     "text": [
      "epoch: 17, [batch: 5376 / 6720], examples_per_second: 3263.2408, train_label_loss: 0.0578, \n"
     ]
    },
    {
     "name": "stdout",
     "output_type": "stream",
     "text": [
      "epoch: 17, [batch: 6048 / 6720], examples_per_second: 3247.1546, train_label_loss: 0.1959, \n"
     ]
    },
    {
     "name": "stdout",
     "output_type": "stream",
     "text": [
      "=============================================================\n",
      "epoch: 17, source_val_acc_label: 0.9084, target_val_acc_label: 0.7010, source_val_label_loss: 0.2709, target_val_label_loss: 1315.1661, \n",
      "=============================================================\n"
     ]
    },
    {
     "name": "stdout",
     "output_type": "stream",
     "text": [
      "epoch: 18, [batch: 1 / 6720], examples_per_second: 4.0281, train_label_loss: 0.1680, \n"
     ]
    },
    {
     "name": "stdout",
     "output_type": "stream",
     "text": [
      "epoch: 18, [batch: 672 / 6720], examples_per_second: 3234.0645, train_label_loss: 0.3151, \n"
     ]
    },
    {
     "name": "stdout",
     "output_type": "stream",
     "text": [
      "epoch: 18, [batch: 1344 / 6720], examples_per_second: 3233.2413, train_label_loss: 0.0796, \n"
     ]
    },
    {
     "name": "stdout",
     "output_type": "stream",
     "text": [
      "epoch: 18, [batch: 2016 / 6720], examples_per_second: 3235.6227, train_label_loss: 0.0395, \n"
     ]
    },
    {
     "name": "stdout",
     "output_type": "stream",
     "text": [
      "epoch: 18, [batch: 2688 / 6720], examples_per_second: 3242.7814, train_label_loss: 0.0504, \n"
     ]
    },
    {
     "name": "stdout",
     "output_type": "stream",
     "text": [
      "epoch: 18, [batch: 3360 / 6720], examples_per_second: 3243.6692, train_label_loss: 0.0940, \n"
     ]
    },
    {
     "name": "stdout",
     "output_type": "stream",
     "text": [
      "epoch: 18, [batch: 4032 / 6720], examples_per_second: 3233.1806, train_label_loss: 0.0683, \n"
     ]
    },
    {
     "name": "stdout",
     "output_type": "stream",
     "text": [
      "epoch: 18, [batch: 4704 / 6720], examples_per_second: 3242.3640, train_label_loss: 0.0947, \n"
     ]
    },
    {
     "name": "stdout",
     "output_type": "stream",
     "text": [
      "epoch: 18, [batch: 5376 / 6720], examples_per_second: 3264.7526, train_label_loss: 0.0079, \n"
     ]
    },
    {
     "name": "stdout",
     "output_type": "stream",
     "text": [
      "epoch: 18, [batch: 6048 / 6720], examples_per_second: 3241.2852, train_label_loss: 0.1516, \n"
     ]
    },
    {
     "name": "stdout",
     "output_type": "stream",
     "text": [
      "=============================================================\n",
      "epoch: 18, source_val_acc_label: 0.9043, target_val_acc_label: 0.7176, source_val_label_loss: 0.2999, target_val_label_loss: 1340.6594, \n",
      "=============================================================\n"
     ]
    },
    {
     "name": "stdout",
     "output_type": "stream",
     "text": [
      "epoch: 19, [batch: 1 / 6720], examples_per_second: 4.0243, train_label_loss: 0.1392, \n"
     ]
    },
    {
     "name": "stdout",
     "output_type": "stream",
     "text": [
      "epoch: 19, [batch: 672 / 6720], examples_per_second: 3235.2585, train_label_loss: 0.1588, \n"
     ]
    },
    {
     "name": "stdout",
     "output_type": "stream",
     "text": [
      "epoch: 19, [batch: 1344 / 6720], examples_per_second: 3227.2251, train_label_loss: 0.2675, \n"
     ]
    },
    {
     "name": "stdout",
     "output_type": "stream",
     "text": [
      "epoch: 19, [batch: 2016 / 6720], examples_per_second: 3184.8644, train_label_loss: 0.2104, \n"
     ]
    },
    {
     "name": "stdout",
     "output_type": "stream",
     "text": [
      "epoch: 19, [batch: 2688 / 6720], examples_per_second: 3126.1137, train_label_loss: 0.0430, \n"
     ]
    },
    {
     "name": "stdout",
     "output_type": "stream",
     "text": [
      "epoch: 19, [batch: 3360 / 6720], examples_per_second: 3139.2336, train_label_loss: 0.1060, \n"
     ]
    },
    {
     "name": "stdout",
     "output_type": "stream",
     "text": [
      "epoch: 19, [batch: 4032 / 6720], examples_per_second: 3142.6796, train_label_loss: 0.0326, \n"
     ]
    },
    {
     "name": "stdout",
     "output_type": "stream",
     "text": [
      "epoch: 19, [batch: 4704 / 6720], examples_per_second: 3131.5936, train_label_loss: 0.0456, \n"
     ]
    },
    {
     "name": "stdout",
     "output_type": "stream",
     "text": [
      "epoch: 19, [batch: 5376 / 6720], examples_per_second: 3155.0101, train_label_loss: 0.1205, \n"
     ]
    },
    {
     "name": "stdout",
     "output_type": "stream",
     "text": [
      "epoch: 19, [batch: 6048 / 6720], examples_per_second: 3126.3319, train_label_loss: 0.1112, \n"
     ]
    },
    {
     "name": "stdout",
     "output_type": "stream",
     "text": [
      "=============================================================\n",
      "epoch: 19, source_val_acc_label: 0.9073, target_val_acc_label: 0.7181, source_val_label_loss: 0.2917, target_val_label_loss: 1385.1716, \n",
      "=============================================================\n"
     ]
    },
    {
     "name": "stdout",
     "output_type": "stream",
     "text": [
      "Patience (3) exhausted\n"
     ]
    }
   ],
   "source": [
    "###################################\n",
    "# train\n",
    "###################################\n",
    "jig = PTN_Train_Eval_Test_Jig(model, p.BEST_MODEL_PATH, p.device)\n",
    "\n",
    "jig.train(\n",
    "    train_iterable=datasets.source.processed.train,\n",
    "    source_val_iterable=datasets.source.processed.val,\n",
    "    target_val_iterable=datasets.target.processed.val,\n",
    "    num_epochs=p.n_epoch,\n",
    "    num_logs_per_epoch=p.NUM_LOGS_PER_EPOCH,\n",
    "    patience=p.patience,\n",
    "    optimizer=optimizer,\n",
    "    criteria_for_best=p.criteria_for_best,\n",
    ")"
   ]
  },
  {
   "cell_type": "code",
   "execution_count": 23,
   "id": "31e8fabf",
   "metadata": {
    "execution": {
     "iopub.execute_input": "2022-03-20T00:32:08.582646Z",
     "iopub.status.busy": "2022-03-20T00:32:08.582398Z",
     "iopub.status.idle": "2022-03-20T00:32:08.600550Z",
     "shell.execute_reply": "2022-03-20T00:32:08.600176Z"
    },
    "papermill": {
     "duration": 0.073189,
     "end_time": "2022-03-20T00:32:08.600649",
     "exception": false,
     "start_time": "2022-03-20T00:32:08.527460",
     "status": "completed"
    },
    "tags": []
   },
   "outputs": [],
   "source": [
    "total_experiment_time_secs = time.time() - start_time_secs"
   ]
  },
  {
   "cell_type": "code",
   "execution_count": 24,
   "id": "87b9595b",
   "metadata": {
    "execution": {
     "iopub.execute_input": "2022-03-20T00:32:08.718139Z",
     "iopub.status.busy": "2022-03-20T00:32:08.713573Z",
     "iopub.status.idle": "2022-03-20T00:34:38.595586Z",
     "shell.execute_reply": "2022-03-20T00:34:38.595163Z"
    },
    "papermill": {
     "duration": 149.937609,
     "end_time": "2022-03-20T00:34:38.595694",
     "exception": false,
     "start_time": "2022-03-20T00:32:08.658085",
     "status": "completed"
    },
    "tags": []
   },
   "outputs": [],
   "source": [
    "###################################\n",
    "# Evaluate the model\n",
    "###################################\n",
    "source_test_label_accuracy, source_test_label_loss = jig.test(datasets.source.processed.test)\n",
    "target_test_label_accuracy, target_test_label_loss = jig.test(datasets.target.processed.test)\n",
    "\n",
    "source_val_label_accuracy, source_val_label_loss = jig.test(datasets.source.processed.val)\n",
    "target_val_label_accuracy, target_val_label_loss = jig.test(datasets.target.processed.val)\n",
    "\n",
    "history = jig.get_history()\n",
    "\n",
    "total_epochs_trained = len(history[\"epoch_indices\"])\n",
    "\n",
    "val_dl = Iterable_Aggregator((datasets.source.original.val,datasets.target.original.val))\n",
    "\n",
    "confusion = ptn_confusion_by_domain_over_dataloader(model, p.device, val_dl)\n",
    "per_domain_accuracy = per_domain_accuracy_from_confusion(confusion)\n",
    "\n",
    "# Add a key to per_domain_accuracy for if it was a source domain\n",
    "for domain, accuracy in per_domain_accuracy.items():\n",
    "    per_domain_accuracy[domain] = {\n",
    "        \"accuracy\": accuracy,\n",
    "        \"source?\": domain in p.domains_source\n",
    "    }\n",
    "\n",
    "# Do an independent accuracy assesment JUST TO BE SURE!\n",
    "# _source_test_label_accuracy = independent_accuracy_assesment(model, datasets.source.processed.test, p.device)\n",
    "# _target_test_label_accuracy = independent_accuracy_assesment(model, datasets.target.processed.test, p.device)\n",
    "# _source_val_label_accuracy = independent_accuracy_assesment(model, datasets.source.processed.val, p.device)\n",
    "# _target_val_label_accuracy = independent_accuracy_assesment(model, datasets.target.processed.val, p.device)\n",
    "\n",
    "# assert(_source_test_label_accuracy == source_test_label_accuracy)\n",
    "# assert(_target_test_label_accuracy == target_test_label_accuracy)\n",
    "# assert(_source_val_label_accuracy == source_val_label_accuracy)\n",
    "# assert(_target_val_label_accuracy == target_val_label_accuracy)\n",
    "\n",
    "experiment = {\n",
    "    \"experiment_name\": p.experiment_name,\n",
    "    \"parameters\": dict(p),\n",
    "    \"results\": {\n",
    "        \"source_test_label_accuracy\": source_test_label_accuracy,\n",
    "        \"source_test_label_loss\": source_test_label_loss,\n",
    "        \"target_test_label_accuracy\": target_test_label_accuracy,\n",
    "        \"target_test_label_loss\": target_test_label_loss,\n",
    "        \"source_val_label_accuracy\": source_val_label_accuracy,\n",
    "        \"source_val_label_loss\": source_val_label_loss,\n",
    "        \"target_val_label_accuracy\": target_val_label_accuracy,\n",
    "        \"target_val_label_loss\": target_val_label_loss,\n",
    "        \"total_epochs_trained\": total_epochs_trained,\n",
    "        \"total_experiment_time_secs\": total_experiment_time_secs,\n",
    "        \"confusion\": confusion,\n",
    "        \"per_domain_accuracy\": per_domain_accuracy,\n",
    "    },\n",
    "    \"history\": history,\n",
    "    \"dataset_metrics\": get_dataset_metrics(datasets, \"ptn\"),\n",
    "}"
   ]
  },
  {
   "cell_type": "code",
   "execution_count": 25,
   "id": "54a21829",
   "metadata": {
    "execution": {
     "iopub.execute_input": "2022-03-20T00:34:38.715165Z",
     "iopub.status.busy": "2022-03-20T00:34:38.706745Z",
     "iopub.status.idle": "2022-03-20T00:34:38.826201Z",
     "shell.execute_reply": "2022-03-20T00:34:38.825746Z"
    },
    "papermill": {
     "duration": 0.174132,
     "end_time": "2022-03-20T00:34:38.826304",
     "exception": false,
     "start_time": "2022-03-20T00:34:38.652172",
     "status": "completed"
    },
    "tags": []
   },
   "outputs": [
    {
     "data": {
      "image/png": "[encoded data removed]",
      "text/plain": [
       "<Figure size 1080x504 with 1 Axes>"
      ]
     },
     "metadata": {
      "needs_background": "light"
     },
     "output_type": "display_data"
    }
   ],
   "source": [
    "ax = get_loss_curve(experiment)\n",
    "plt.show()"
   ]
  },
  {
   "cell_type": "code",
   "execution_count": 26,
   "id": "fd8a0f60",
   "metadata": {
    "execution": {
     "iopub.execute_input": "2022-03-20T00:34:38.942853Z",
     "iopub.status.busy": "2022-03-20T00:34:38.938452Z",
     "iopub.status.idle": "2022-03-20T00:34:39.083884Z",
     "shell.execute_reply": "2022-03-20T00:34:39.084198Z"
    },
    "papermill": {
     "duration": 0.200461,
     "end_time": "2022-03-20T00:34:39.084344",
     "exception": false,
     "start_time": "2022-03-20T00:34:38.883883",
     "status": "completed"
    },
    "tags": []
   },
   "outputs": [
    {
     "data": {
      "text/plain": [
       "<AxesSubplot:title={'center':'Results'}>"
      ]
     },
     "execution_count": 26,
     "metadata": {},
     "output_type": "execute_result"
    },
    {
     "data": {
      "image/png": "[encoded data removed]",
      "text/plain": [
       "<Figure size 1080x504 with 1 Axes>"
      ]
     },
     "metadata": {
      "needs_background": "light"
     },
     "output_type": "display_data"
    }
   ],
   "source": [
    "get_results_table(experiment)"
   ]
  },
  {
   "cell_type": "code",
   "execution_count": 27,
   "id": "cf8dc689",
   "metadata": {
    "execution": {
     "iopub.execute_input": "2022-03-20T00:34:39.204300Z",
     "iopub.status.busy": "2022-03-20T00:34:39.204044Z",
     "iopub.status.idle": "2022-03-20T00:34:39.362568Z",
     "shell.execute_reply": "2022-03-20T00:34:39.362128Z"
    },
    "papermill": {
     "duration": 0.220305,
     "end_time": "2022-03-20T00:34:39.362677",
     "exception": false,
     "start_time": "2022-03-20T00:34:39.142372",
     "status": "completed"
    },
    "tags": []
   },
   "outputs": [
    {
     "data": {
      "text/plain": [
       "<AxesSubplot:title={'center':'Per Domain Validation Accuracy'}, xlabel='domain'>"
      ]
     },
     "execution_count": 27,
     "metadata": {},
     "output_type": "execute_result"
    },
    {
     "data": {
      "image/png": "[encoded data removed]",
      "text/plain": [
       "<Figure size 1080x504 with 1 Axes>"
      ]
     },
     "metadata": {
      "needs_background": "light"
     },
     "output_type": "display_data"
    }
   ],
   "source": [
    "get_domain_accuracies(experiment)"
   ]
  },
  {
   "cell_type": "code",
   "execution_count": 28,
   "id": "a74ae082",
   "metadata": {
    "execution": {
     "iopub.execute_input": "2022-03-20T00:34:39.478784Z",
     "iopub.status.busy": "2022-03-20T00:34:39.478531Z",
     "iopub.status.idle": "2022-03-20T00:34:39.491028Z",
     "shell.execute_reply": "2022-03-20T00:34:39.490774Z"
    },
    "papermill": {
     "duration": 0.068958,
     "end_time": "2022-03-20T00:34:39.491101",
     "exception": false,
     "start_time": "2022-03-20T00:34:39.422143",
     "status": "completed"
    },
    "tags": []
   },
   "outputs": [
    {
     "name": "stdout",
     "output_type": "stream",
     "text": [
      "Source Test Label Accuracy: 0.91201171875 Target Test Label Accuracy: 0.728003640776699\n",
      "Source Val Label Accuracy: 0.9073893229166666 Target Val Label Accuracy: 0.7267940450054885\n"
     ]
    }
   ],
   "source": [
    "print(\"Source Test Label Accuracy:\", experiment[\"results\"][\"source_test_label_accuracy\"], \"Target Test Label Accuracy:\", experiment[\"results\"][\"target_test_label_accuracy\"])\n",
    "print(\"Source Val Label Accuracy:\", experiment[\"results\"][\"source_val_label_accuracy\"], \"Target Val Label Accuracy:\", experiment[\"results\"][\"target_val_label_accuracy\"])"
   ]
  },
  {
   "cell_type": "code",
   "execution_count": 29,
   "id": "dacca602",
   "metadata": {
    "execution": {
     "iopub.execute_input": "2022-03-20T00:34:39.610387Z",
     "iopub.status.busy": "2022-03-20T00:34:39.608988Z",
     "iopub.status.idle": "2022-03-20T00:34:39.629541Z",
     "shell.execute_reply": "2022-03-20T00:34:39.629840Z"
    },
    "papermill": {
     "duration": 0.078809,
     "end_time": "2022-03-20T00:34:39.629943",
     "exception": false,
     "start_time": "2022-03-20T00:34:39.551134",
     "status": "completed"
    },
    "tags": [
     "experiment_json"
    ]
   },
   "outputs": [
    {
     "data": {
      "text/plain": [
       "'{\"experiment_name\": \"tl_2v2:oracle.run1.framed -> cores+wisig\", \"parameters\": {\"experiment_name\": \"tl_2v2:oracle.run1.framed -> cores+wisig\", \"device\": \"cuda\", \"lr\": 0.0001, \"n_shot\": 3, \"n_query\": 2, \"train_k_factor\": 3, \"val_k_factor\": 2, \"test_k_factor\": 2, \"torch_default_dtype\": \"torch.float32\", \"n_epoch\": 50, \"patience\": 3, \"criteria_for_best\": \"target_accuracy\", \"x_net\": [{\"class\": \"nnReshape\", \"kargs\": {\"shape\": [-1, 1, 2, 256]}}, {\"class\": \"Conv2d\", \"kargs\": {\"in_channels\": 1, \"out_channels\": 256, \"kernel_size\": [1, 7], \"bias\": false, \"padding\": [0, 3]}}, {\"class\": \"ReLU\", \"kargs\": {\"inplace\": true}}, {\"class\": \"BatchNorm2d\", \"kargs\": {\"num_features\": 256}}, {\"class\": \"Conv2d\", \"kargs\": {\"in_channels\": 256, \"out_channels\": 80, \"kernel_size\": [2, 7], \"bias\": true, \"padding\": [0, 3]}}, {\"class\": \"ReLU\", \"kargs\": {\"inplace\": true}}, {\"class\": \"BatchNorm2d\", \"kargs\": {\"num_features\": 80}}, {\"class\": \"Flatten\", \"kargs\": {}}, {\"class\": \"Linear\", \"kargs\": {\"in_features\": 20480, \"out_features\": 256}}, {\"class\": \"ReLU\", \"kargs\": {\"inplace\": true}}, {\"class\": \"BatchNorm1d\", \"kargs\": {\"num_features\": 256}}, {\"class\": \"Linear\", \"kargs\": {\"in_features\": 256, \"out_features\": 256}}], \"NUM_LOGS_PER_EPOCH\": 10, \"BEST_MODEL_PATH\": \"./best_model.pth\", \"n_way\": 16, \"datasets\": [{\"labels\": [\"1-10.\", \"1-11.\", \"1-15.\", \"1-16.\", \"1-17.\", \"1-18.\", \"1-19.\", \"10-4.\", \"10-7.\", \"11-1.\", \"11-14.\", \"11-17.\", \"11-20.\", \"11-7.\", \"13-20.\", \"13-8.\", \"14-10.\", \"14-11.\", \"14-14.\", \"14-7.\", \"15-1.\", \"15-20.\", \"16-1.\", \"16-16.\", \"17-10.\", \"17-11.\", \"17-2.\", \"19-1.\", \"19-16.\", \"19-19.\", \"19-20.\", \"19-3.\", \"2-10.\", \"2-11.\", \"2-17.\", \"2-18.\", \"2-20.\", \"2-3.\", \"2-4.\", \"2-5.\", \"2-6.\", \"2-7.\", \"2-8.\", \"3-13.\", \"3-18.\", \"3-3.\", \"4-1.\", \"4-10.\", \"4-11.\", \"4-19.\", \"5-5.\", \"6-15.\", \"7-10.\", \"7-14.\", \"8-18.\", \"8-20.\", \"8-3.\", \"8-8.\"], \"domains\": [1, 2, 3, 4, 5], \"num_examples_per_domain_per_label\": -1, \"pickle_path\": \"/mnt/wd500GB/CSC500/csc500-main/datasets/cores.stratified_ds.2022A.pkl\", \"source_or_target_dataset\": \"target\", \"x_transforms\": [\"unit_mag\"], \"episode_transforms\": [], \"domain_prefix\": \"C_\"}, {\"labels\": [\"1-10\", \"1-12\", \"1-14\", \"1-16\", \"1-18\", \"1-19\", \"1-8\", \"10-11\", \"10-17\", \"10-4\", \"10-7\", \"11-1\", \"11-10\", \"11-19\", \"11-20\", \"11-4\", \"11-7\", \"12-19\", \"12-20\", \"12-7\", \"13-14\", \"13-18\", \"13-19\", \"13-20\", \"13-3\", \"13-7\", \"14-10\", \"14-11\", \"14-12\", \"14-13\", \"14-14\", \"14-19\", \"14-20\", \"14-7\", \"14-8\", \"14-9\", \"15-1\", \"15-19\", \"15-6\", \"16-1\", \"16-16\", \"16-19\", \"16-20\", \"17-10\", \"17-11\", \"18-1\", \"18-10\", \"18-11\", \"18-12\", \"18-13\", \"18-14\", \"18-15\", \"18-16\", \"18-17\", \"18-19\", \"18-2\", \"18-20\", \"18-4\", \"18-5\", \"18-7\", \"18-8\", \"18-9\", \"19-1\", \"19-10\", \"19-11\", \"19-12\", \"19-13\", \"19-14\", \"19-15\", \"19-19\", \"19-2\", \"19-20\", \"19-3\", \"19-4\", \"19-6\", \"19-7\", \"19-8\", \"19-9\", \"2-1\", \"2-13\", \"2-15\", \"2-3\", \"2-4\", \"2-5\", \"2-6\", \"2-7\", \"2-8\", \"20-1\", \"20-12\", \"20-14\", \"20-15\", \"20-16\", \"20-18\", \"20-19\", \"20-20\", \"20-3\", \"20-4\", \"20-5\", \"20-7\", \"20-8\", \"3-1\", \"3-13\", \"3-18\", \"3-2\", \"3-8\", \"4-1\", \"4-10\", \"4-11\", \"5-1\", \"5-5\", \"6-1\", \"6-15\", \"6-6\", \"7-10\", \"7-11\", \"7-12\", \"7-13\", \"7-14\", \"7-7\", \"7-8\", \"7-9\", \"8-1\", \"8-13\", \"8-14\", \"8-18\", \"8-20\", \"8-3\", \"8-8\", \"9-1\", \"9-7\"], \"domains\": [1, 2, 3, 4], \"num_examples_per_domain_per_label\": -1, \"pickle_path\": \"/mnt/wd500GB/CSC500/csc500-main/datasets/wisig.node3-19.stratified_ds.2022A.pkl\", \"source_or_target_dataset\": \"target\", \"x_transforms\": [\"unit_mag\"], \"episode_transforms\": [], \"domain_prefix\": \"W_\"}, {\"labels\": [\"3123D52\", \"3123D65\", \"3123D79\", \"3123D80\", \"3123D54\", \"3123D70\", \"3123D7B\", \"3123D89\", \"3123D58\", \"3123D76\", \"3123D7D\", \"3123EFE\", \"3123D64\", \"3123D78\", \"3123D7E\", \"3124E4A\"], \"domains\": [32, 38, 8, 44, 14, 50, 20, 26], \"num_examples_per_domain_per_label\": 2000, \"pickle_path\": \"/mnt/wd500GB/CSC500/csc500-main/datasets/oracle.Run1_framed_2000Examples_stratified_ds.2022A.pkl\", \"source_or_target_dataset\": \"source\", \"x_transforms\": [\"unit_mag\"], \"episode_transforms\": [], \"domain_prefix\": \"O_\"}], \"seed\": 7, \"dataset_seed\": 7, \"x_shape\": [2, 256], \"domains_source\": [\"O_32\", \"O_38\", \"O_8\", \"O_44\", \"O_14\", \"O_50\", \"O_20\", \"O_26\"], \"domains_target\": [\"C_1\", \"C_2\", \"C_3\", \"C_4\", \"C_5\", \"W_1\", \"W_2\", \"W_3\", \"W_4\"]}, \"results\": {\"source_test_label_accuracy\": 0.91201171875, \"source_test_label_loss\": 0.29930728673934937, \"target_test_label_accuracy\": 0.728003640776699, \"target_test_label_loss\": 1160.0648193359375, \"source_val_label_accuracy\": 0.9073893229166666, \"source_val_label_loss\": 0.2802572250366211, \"target_val_label_accuracy\": 0.7267940450054885, \"target_val_label_loss\": 1173.8502197265625, \"total_epochs_trained\": 19, \"total_experiment_time_secs\": 3653.5510149002075, \"confusion\": {\"O_26\": {\"0\": {\"0\": 109, \"10\": 61, \"14\": 41, \"8\": 19, \"4\": 9, \"6\": 1}, \"4\": {\"14\": 8, \"4\": 213, \"7\": 5, \"8\": 8, \"0\": 6}, \"14\": {\"14\": 191, \"10\": 10, \"0\": 19, \"4\": 10, \"8\": 3, \"1\": 7}, \"12\": {\"12\": 240}, \"8\": {\"8\": 147, \"0\": 20, \"4\": 13, \"14\": 12, \"7\": 18, \"10\": 29, \"15\": 1}, \"7\": {\"7\": 203, \"3\": 14, \"0\": 2, \"4\": 10, \"8\": 4, \"14\": 1, \"2\": 6}, \"13\": {\"13\": 216, \"5\": 16, \"2\": 5, \"9\": 2, \"15\": 1}, \"5\": {\"5\": 230, \"13\": 4, \"2\": 6}, \"15\": {\"15\": 208, \"6\": 15, \"13\": 2, \"9\": 8, \"0\": 1, \"2\": 1, \"8\": 3, \"10\": 1, \"5\": 1}, \"10\": {\"10\": 132, \"0\": 71, \"8\": 24, \"14\": 10, \"6\": 3}, \"3\": {\"3\": 192, \"2\": 38, \"5\": 1, \"7\": 9}, \"9\": {\"9\": 220, \"15\": 12, \"13\": 5, \"6\": 2, \"2\": 1}, \"6\": {\"6\": 225, \"10\": 4, \"0\": 1, \"15\": 3, \"9\": 5, \"8\": 2}, \"1\": {\"1\": 232, \"10\": 1, \"14\": 5, \"4\": 1, \"7\": 1}, \"11\": {\"11\": 240}, \"2\": {\"2\": 150, \"3\": 46, \"7\": 19, \"5\": 11, \"15\": 8, \"13\": 5, \"9\": 1}}, \"O_44\": {\"1\": {\"10\": 9, \"3\": 9, \"1\": 210, \"12\": 9, \"2\": 3}, \"11\": {\"11\": 236, \"13\": 3, \"6\": 1}, \"3\": {\"3\": 236, \"1\": 3, \"12\": 1}, \"6\": {\"9\": 17, \"6\": 184, \"13\": 39}, \"7\": {\"9\": 41, \"7\": 180, \"2\": 14, \"6\": 5}, \"5\": {\"5\": 226, \"0\": 5, \"8\": 3, \"14\": 4, \"15\": 2}, \"2\": {\"2\": 219, \"10\": 3, \"7\": 15, \"1\": 3}, \"15\": {\"15\": 207, \"14\": 18, \"0\": 6, \"5\": 6, \"8\": 2, \"4\": 1}, \"10\": {\"10\": 221, \"1\": 12, \"2\": 6, \"12\": 1}, \"13\": {\"13\": 193, \"6\": 31, \"9\": 16}, \"8\": {\"0\": 75, \"8\": 158, \"15\": 4, \"5\": 3}, \"4\": {\"4\": 198, \"14\": 42}, \"9\": {\"9\": 138, \"13\": 24, \"7\": 55, \"6\": 23}, \"14\": {\"14\": 180, \"4\": 46, \"15\": 11, \"5\": 3}, \"0\": {\"0\": 171, \"15\": 3, \"8\": 58, \"5\": 8}, \"12\": {\"12\": 223, \"1\": 16, \"3\": 1}}, \"O_50\": {\"15\": {\"15\": 230, \"1\": 3, \"4\": 5, \"11\": 2}, \"4\": {\"4\": 185, \"5\": 28, \"15\": 18, \"6\": 2, \"7\": 3, \"1\": 3, \"11\": 1}, \"6\": {\"6\": 223, \"4\": 2, \"13\": 4, \"15\": 5, \"5\": 2, \"7\": 4}, \"2\": {\"2\": 228, \"0\": 12}, \"5\": {\"5\": 174, \"7\": 18, \"4\": 26, \"13\": 13, \"1\": 8, \"6\": 1}, \"9\": {\"9\": 237, \"11\": 3}, \"8\": {\"8\": 238, \"10\": 2}, \"12\": {\"12\": 239, \"9\": 1}, \"10\": {\"10\": 235, \"13\": 1, \"8\": 1, \"0\": 3}, \"1\": {\"1\": 225, \"5\": 1, \"15\": 10, \"4\": 3, \"6\": 1}, \"0\": {\"0\": 221, \"2\": 15, \"10\": 4}, \"3\": {\"3\": 239, \"8\": 1}, \"13\": {\"13\": 225, \"6\": 3, \"10\": 4, \"5\": 5, \"7\": 3}, \"11\": {\"11\": 223, \"15\": 12, \"12\": 3, \"1\": 1, \"4\": 1}, \"7\": {\"7\": 209, \"6\": 5, \"5\": 16, \"13\": 5, \"4\": 5}, \"14\": {\"14\": 240}}, \"O_38\": {\"15\": {\"15\": 227, \"8\": 8, \"1\": 4, \"5\": 1}, \"11\": {\"4\": 1, \"14\": 1, \"11\": 235, \"10\": 3}, \"10\": {\"10\": 227, \"13\": 10, \"5\": 1, \"8\": 2}, \"14\": {\"14\": 238, \"2\": 2}, \"6\": {\"6\": 239, \"9\": 1}, \"4\": {\"4\": 240}, \"13\": {\"13\": 225, \"8\": 4, \"0\": 5, \"2\": 3, \"10\": 2, \"15\": 1}, \"3\": {\"3\": 236, \"0\": 4}, \"7\": {\"7\": 222, \"0\": 4, \"8\": 8, \"5\": 6}, \"8\": {\"8\": 197, \"0\": 10, \"5\": 26, \"7\": 6, \"15\": 1}, \"1\": {\"1\": 237, \"15\": 3}, \"5\": {\"5\": 170, \"8\": 47, \"7\": 16, \"15\": 4, \"0\": 1, \"9\": 2}, \"0\": {\"0\": 221, \"3\": 6, \"8\": 8, \"7\": 4, \"5\": 1}, \"2\": {\"2\": 229, \"14\": 6, \"15\": 2, \"13\": 3}, \"12\": {\"12\": 240}, \"9\": {\"9\": 239, \"6\": 1}}, \"O_20\": {\"10\": {\"10\": 240}, \"7\": {\"7\": 234, \"2\": 3, \"8\": 2, \"3\": 1}, \"4\": {\"4\": 239, \"7\": 1}, \"13\": {\"13\": 238, \"2\": 2}, \"1\": {\"1\": 216, \"12\": 18, \"15\": 3, \"5\": 1, \"3\": 1, \"9\": 1}, \"0\": {\"0\": 218, \"15\": 12, \"5\": 10}, \"12\": {\"12\": 190, \"9\": 4, \"3\": 19, \"1\": 23, \"2\": 4}, \"5\": {\"1\": 3, \"5\": 227, \"12\": 2, \"15\": 6, \"0\": 2}, \"6\": {\"6\": 230, \"14\": 10}, \"2\": {\"12\": 19, \"3\": 11, \"2\": 182, \"7\": 11, \"13\": 4, \"1\": 2, \"9\": 11}, \"8\": {\"8\": 231, \"4\": 6, \"7\": 3}, \"11\": {\"11\": 240}, \"9\": {\"9\": 199, \"3\": 8, \"2\": 24, \"12\": 8, \"7\": 1}, \"14\": {\"14\": 232, \"6\": 8}, \"15\": {\"15\": 223, \"0\": 5, \"1\": 6, \"5\": 6}, \"3\": {\"3\": 191, \"12\": 24, \"9\": 7, \"2\": 13, \"10\": 1, \"4\": 3, \"1\": 1}}, \"O_14\": {\"14\": {\"14\": 223, \"13\": 1, \"2\": 11, \"6\": 5}, \"0\": {\"0\": 239, \"3\": 1}, \"4\": {\"4\": 236, \"5\": 4}, \"11\": {\"11\": 239, \"9\": 1}, \"13\": {\"13\": 178, \"6\": 54, \"5\": 1, \"4\": 4, \"2\": 1, \"14\": 2}, \"9\": {\"9\": 240}, \"3\": {\"3\": 237, \"2\": 3}, \"6\": {\"6\": 216, \"13\": 23, \"14\": 1}, \"1\": {\"1\": 238, \"5\": 1, \"4\": 1}, \"5\": {\"5\": 221, \"4\": 14, \"2\": 2, \"1\": 3}, \"12\": {\"12\": 240}, \"10\": {\"10\": 240}, \"8\": {\"8\": 240}, \"7\": {\"7\": 240}, \"15\": {\"15\": 240}, \"2\": {\"2\": 183, \"14\": 32, \"6\": 5, \"5\": 15, \"3\": 4, \"13\": 1}}, \"O_32\": {\"11\": {\"11\": 240}, \"1\": {\"1\": 240}, \"2\": {\"2\": 216, \"4\": 23, \"7\": 1}, \"0\": {\"0\": 215, \"8\": 9, \"14\": 14, \"5\": 2}, \"3\": {\"3\": 238, \"11\": 1, \"13\": 1}, \"8\": {\"8\": 224, \"0\": 14, \"13\": 1, \"5\": 1}, \"12\": {\"12\": 240}, \"5\": {\"5\": 166, \"7\": 56, \"13\": 8, \"0\": 2, \"3\": 3, \"4\": 4, \"14\": 1}, \"15\": {\"15\": 239, \"8\": 1}, \"7\": {\"7\": 184, \"5\": 47, \"14\": 4, \"4\": 5}, \"4\": {\"2\": 27, \"4\": 201, \"7\": 3, \"13\": 6, \"5\": 3}, \"14\": {\"14\": 207, \"0\": 18, \"11\": 11, \"8\": 1, \"7\": 1, \"5\": 1, \"13\": 1}, \"10\": {\"10\": 240}, \"6\": {\"6\": 240}, \"13\": {\"13\": 216, \"5\": 6, \"4\": 9, \"3\": 8, \"7\": 1}, \"9\": {\"9\": 240}}, \"O_8\": {\"9\": {\"9\": 240}, \"11\": {\"11\": 236, \"1\": 4}, \"8\": {\"8\": 239, \"15\": 1}, \"4\": {\"6\": 3, \"4\": 222, \"13\": 13, \"14\": 2}, \"13\": {\"13\": 187, \"4\": 18, \"10\": 18, \"6\": 10, \"14\": 2, \"0\": 5}, \"14\": {\"10\": 15, \"14\": 215, \"1\": 3, \"4\": 7}, \"2\": {\"2\": 239, \"7\": 1}, \"3\": {\"3\": 238, \"2\": 1, \"12\": 1}, \"1\": {\"1\": 239, \"11\": 1}, \"0\": {\"0\": 231, \"10\": 4, \"13\": 4, \"7\": 1}, \"5\": {\"5\": 232, \"1\": 6, \"10\": 2}, \"15\": {\"15\": 229, \"12\": 11}, \"10\": {\"10\": 230, \"14\": 4, \"13\": 5, \"4\": 1}, \"12\": {\"12\": 217, \"15\": 21, \"2\": 1, \"3\": 1}, \"6\": {\"6\": 214, \"4\": 6, \"13\": 3, \"7\": 17}, \"7\": {\"7\": 220, \"6\": 18, \"3\": 1, \"0\": 1}}, \"W_4\": {\"71\": {\"71\": 74, \"7\": 1, \"56\": 1, \"52\": 2, \"88\": 1, \"42\": 1, \"114\": 4, \"8\": 1, \"4\": 9, \"27\": 2, \"17\": 1, \"32\": 1, \"84\": 1, \"107\": 1, \"108\": 1, \"0\": 1, \"1\": 1, \"43\": 1}, \"17\": {\"17\": 13, \"104\": 1, \"4\": 2, \"107\": 1, \"56\": 1, \"114\": 2}, \"105\": {\"105\": 50, \"1\": 3, \"15\": 1, \"49\": 2, \"39\": 3, \"88\": 1, \"128\": 1, \"90\": 2, \"40\": 5, \"87\": 6, \"3\": 3, \"71\": 2, \"12\": 1, \"43\": 1, \"70\": 1, \"126\": 5, \"14\": 2, \"120\": 1, \"96\": 1, \"33\": 1, \"86\": 2, \"30\": 2, \"19\": 1, \"7\": 2, \"114\": 1}, \"92\": {\"92\": 24, \"2\": 1, \"45\": 2, \"48\": 1}, \"100\": {\"17\": 1, \"100\": 14, \"120\": 1, \"40\": 1, \"4\": 2, \"70\": 1}, \"6\": {\"36\": 1, \"68\": 1, \"6\": 13, \"111\": 2, \"94\": 2, \"12\": 2, \"24\": 1, \"125\": 1, \"9\": 1}, \"36\": {\"6\": 3, \"36\": 51, \"54\": 3, \"95\": 1, \"9\": 2, \"111\": 9, \"97\": 2, \"125\": 11, \"0\": 1, \"94\": 5, \"8\": 4, \"127\": 1, \"98\": 3, \"124\": 4, \"30\": 3, \"10\": 6, \"24\": 5, \"1\": 1, \"15\": 2, \"90\": 1, \"106\": 2, \"34\": 1, \"103\": 1, \"12\": 5, \"88\": 1}, \"35\": {\"35\": 11, \"63\": 1}, \"63\": {\"63\": 16}, \"104\": {\"104\": 16}, \"114\": {\"17\": 1, \"100\": 1, \"114\": 80, \"71\": 9, \"27\": 4, \"49\": 1, \"7\": 2, \"4\": 4, \"94\": 1, \"8\": 4, \"40\": 1, \"10\": 2, \"107\": 3, \"88\": 1, \"56\": 2, \"122\": 1, \"42\": 1, \"11\": 2, \"81\": 1, \"24\": 1, \"70\": 4, \"126\": 1, \"106\": 1}, \"68\": {\"68\": 12, \"91\": 1, \"8\": 1, \"95\": 1, \"111\": 1}, \"109\": {\"109\": 45, \"35\": 1, \"96\": 2, \"38\": 1, \"113\": 7, \"88\": 2, \"117\": 5, \"118\": 5, \"90\": 6, \"69\": 2, \"44\": 4, \"84\": 12, \"93\": 2, \"110\": 3, \"18\": 2, \"26\": 1, \"122\": 1, \"126\": 5, \"16\": 3, \"39\": 3, \"81\": 1, \"62\": 1, \"43\": 2}, \"27\": {\"105\": 2, \"104\": 1, \"101\": 4, \"83\": 1, \"127\": 8, \"113\": 2, \"0\": 4, \"27\": 14, \"7\": 2, \"114\": 5, \"30\": 3, \"12\": 2, \"49\": 2, \"126\": 2, \"8\": 5, \"107\": 2, \"71\": 3, \"106\": 3, \"10\": 2, \"88\": 4, \"4\": 3, \"1\": 2, \"108\": 2, \"87\": 3, \"68\": 1, \"46\": 1, \"111\": 3, \"117\": 1, \"86\": 1, \"60\": 2, \"100\": 1, \"98\": 4, \"40\": 2, \"70\": 1, \"11\": 2}, \"79\": {\"79\": 13, \"107\": 1, \"115\": 2}, \"0\": {\"0\": 33, \"27\": 3, \"29\": 3, \"89\": 2, \"105\": 6, \"14\": 3, \"71\": 2, \"127\": 3, \"88\": 1, \"70\": 1, \"94\": 1, \"106\": 2, \"7\": 6, \"4\": 4, \"1\": 3, \"10\": 3, \"101\": 9, \"3\": 2, \"8\": 7, \"39\": 1, \"26\": 1, \"126\": 3, \"108\": 1, \"21\": 1, \"87\": 2, \"5\": 1, \"93\": 1, \"110\": 1}, \"28\": {\"28\": 19, \"98\": 1}, \"4\": {\"4\": 74, \"71\": 4, \"106\": 1, \"117\": 2, \"127\": 1, \"0\": 4, \"114\": 3, \"53\": 1, \"112\": 1, \"17\": 1, \"80\": 1, \"27\": 3, \"101\": 2, \"56\": 1, \"105\": 1, \"10\": 1, \"8\": 1, \"24\": 1, \"14\": 1}, \"106\": {\"24\": 5, \"106\": 62, \"21\": 1, \"12\": 7, \"111\": 2, \"36\": 4, \"30\": 1, \"125\": 5, \"113\": 2, \"85\": 1, \"124\": 1, \"15\": 3, \"94\": 2, \"98\": 4, \"10\": 1, \"117\": 1}, \"40\": {\"40\": 105, \"87\": 3, \"107\": 8, \"88\": 1, \"16\": 1, \"5\": 1, \"1\": 5, \"70\": 1, \"33\": 2, \"73\": 1, \"3\": 1, \"113\": 1, \"105\": 3, \"18\": 1}, \"127\": {\"127\": 76, \"8\": 9, \"95\": 3, \"38\": 1, \"129\": 1, \"110\": 1, \"114\": 1, \"30\": 1, \"85\": 1, \"56\": 1, \"91\": 1, \"27\": 1, \"101\": 8, \"4\": 1, \"15\": 1, \"111\": 1}, \"57\": {\"57\": 12, \"51\": 1, \"99\": 1, \"45\": 1, \"47\": 1}, \"60\": {\"60\": 8, \"40\": 2, \"105\": 3, \"110\": 1, \"56\": 1, \"107\": 1, \"122\": 1, \"7\": 2, \"129\": 1, \"62\": 3, \"27\": 1, \"14\": 1, \"22\": 1, \"102\": 1, \"44\": 2, \"43\": 2, \"69\": 1}, \"69\": {\"84\": 5, \"69\": 93, \"117\": 1, \"16\": 2, \"102\": 17, \"118\": 2, \"18\": 1, \"126\": 1, \"44\": 1, \"39\": 1}, \"84\": {\"84\": 96, \"21\": 1, \"16\": 10, \"102\": 4, \"78\": 1, \"69\": 6, \"121\": 1, \"43\": 4, \"90\": 3, \"118\": 3, \"109\": 2, \"126\": 1}, \"24\": {\"4\": 2, \"94\": 6, \"87\": 1, \"24\": 31, \"25\": 1, \"119\": 1, \"70\": 1, \"36\": 7, \"115\": 1, \"125\": 11, \"21\": 1, \"97\": 1, \"18\": 2, \"42\": 1, \"71\": 3, \"10\": 5, \"98\": 4, \"40\": 1, \"88\": 2, \"12\": 4, \"106\": 2, \"30\": 3, \"43\": 1, \"113\": 1, \"8\": 2, \"124\": 4, \"0\": 2, \"114\": 3, \"111\": 1, \"108\": 1, \"27\": 2, \"75\": 1, \"104\": 1, \"7\": 1, \"107\": 2, \"9\": 1, \"15\": 2, \"84\": 1, \"105\": 1, \"110\": 1, \"126\": 1}, \"94\": {\"96\": 1, \"94\": 49, \"111\": 1, \"125\": 8, \"36\": 6, \"24\": 4, \"98\": 1, \"106\": 4, \"4\": 2, \"12\": 1, \"85\": 1, \"37\": 1, \"54\": 1, \"17\": 1, \"15\": 4, \"6\": 1, \"126\": 2}, \"7\": {\"40\": 3, \"96\": 1, \"7\": 59, \"86\": 4, \"95\": 1, \"5\": 1, \"108\": 1, \"129\": 2, \"27\": 3, \"105\": 3, \"114\": 2, \"3\": 8, \"71\": 1, \"43\": 2, \"0\": 5, \"1\": 4, \"113\": 1, \"126\": 1, \"18\": 1, \"88\": 2, \"82\": 1, \"87\": 1, \"80\": 1, \"70\": 5, \"107\": 2, \"14\": 1, \"117\": 1, \"10\": 1, \"106\": 1, \"8\": 1}, \"96\": {\"84\": 3, \"96\": 7, \"109\": 2, \"59\": 1, \"68\": 1, \"26\": 1, \"129\": 1, \"12\": 1, \"44\": 2, \"63\": 1}, \"116\": {\"28\": 1, \"84\": 5, \"104\": 1, \"116\": 6, \"76\": 1, \"50\": 1, \"45\": 1, \"48\": 1, \"115\": 2, \"32\": 1, \"122\": 2, \"90\": 1, \"124\": 1, \"11\": 2, \"109\": 2}, \"47\": {\"47\": 7, \"96\": 1, \"51\": 2, \"65\": 1, \"90\": 1}, \"119\": {\"119\": 12, \"25\": 1, \"91\": 1, \"66\": 2}, \"74\": {\"107\": 1, \"32\": 1, \"74\": 11, \"45\": 1, \"113\": 1, \"11\": 1}, \"93\": {\"93\": 96, \"66\": 1, \"90\": 13, \"88\": 2, \"109\": 4, \"44\": 5, \"110\": 11, \"3\": 4, \"62\": 3, \"118\": 1, \"84\": 2, \"39\": 1, \"113\": 1, \"38\": 1, \"13\": 1, \"78\": 1, \"33\": 1, \"122\": 2, \"117\": 1, \"43\": 1}, \"2\": {\"93\": 2, \"2\": 21, \"63\": 1, \"96\": 2, \"16\": 1, \"90\": 1}, \"37\": {\"37\": 12, \"51\": 2, \"9\": 2}, \"15\": {\"24\": 6, \"15\": 52, \"54\": 2, \"106\": 5, \"30\": 5, \"125\": 6, \"103\": 1, \"113\": 1, \"36\": 5, \"10\": 10, \"111\": 4, \"94\": 4, \"8\": 4, \"98\": 2, \"12\": 6, \"27\": 2, \"124\": 2, \"101\": 1, \"68\": 1, \"91\": 1, \"85\": 1, \"9\": 1, \"127\": 4, \"62\": 1, \"126\": 1}, \"102\": {\"102\": 116, \"67\": 1, \"92\": 1, \"109\": 2, \"11\": 1, \"69\": 9, \"118\": 2, \"43\": 1, \"123\": 1, \"84\": 1, \"57\": 1}, \"87\": {\"87\": 30, \"119\": 1, \"40\": 10, \"113\": 1, \"99\": 1, \"43\": 7, \"105\": 9, \"7\": 6, \"88\": 4, \"72\": 2, \"1\": 8, \"71\": 1, \"107\": 7, \"44\": 1, \"108\": 3, \"122\": 3, \"5\": 1, \"4\": 2, \"114\": 1, \"126\": 1, \"33\": 2, \"3\": 4, \"14\": 4, \"60\": 1, \"93\": 1, \"86\": 2, \"32\": 1, \"39\": 1, \"106\": 2, \"19\": 1, \"0\": 1, \"24\": 1, \"70\": 1, \"110\": 1}, \"107\": {\"107\": 117, \"87\": 3, \"14\": 1, \"122\": 1, \"40\": 10, \"114\": 3, \"105\": 2, \"39\": 1, \"11\": 2, \"78\": 1, \"82\": 1, \"7\": 1, \"108\": 1}, \"61\": {\"61\": 14, \"96\": 1, \"21\": 1}, \"78\": {\"78\": 6, \"107\": 2, \"14\": 1, \"66\": 1, \"81\": 2, \"50\": 1, \"108\": 1, \"88\": 2, \"8\": 1, \"114\": 1, \"126\": 2, \"40\": 2, \"26\": 1, \"120\": 1, \"18\": 2, \"99\": 1, \"89\": 1, \"21\": 1, \"63\": 1, \"113\": 4, \"93\": 1, \"115\": 1}, \"9\": {\"9\": 15, \"10\": 1, \"15\": 3, \"111\": 3, \"12\": 1, \"97\": 1, \"77\": 2, \"85\": 1, \"24\": 1}, \"32\": {\"119\": 1, \"107\": 1, \"128\": 1, \"32\": 12, \"20\": 2, \"19\": 1, \"80\": 2, \"85\": 1, \"45\": 1, \"88\": 2, \"87\": 2, \"14\": 1, \"33\": 1}, \"14\": {\"14\": 76, \"122\": 1, \"93\": 1, \"71\": 1, \"22\": 2, \"3\": 1, \"110\": 2, \"114\": 2, \"5\": 2, \"33\": 9, \"43\": 3, \"44\": 2, \"1\": 1, \"108\": 1, \"62\": 2, \"87\": 1, \"7\": 1, \"70\": 2, \"88\": 1, \"16\": 1}, \"62\": {\"62\": 35, \"33\": 2, \"5\": 3, \"90\": 3, \"116\": 1, \"108\": 1, \"81\": 2, \"72\": 1, \"102\": 1, \"122\": 4, \"93\": 1, \"69\": 1, \"117\": 1, \"113\": 1, \"43\": 1, \"118\": 2}, \"1\": {\"25\": 1, \"14\": 3, \"1\": 43, \"49\": 3, \"7\": 6, \"87\": 5, \"71\": 3, \"40\": 11, \"70\": 2, \"43\": 1, \"3\": 5, \"105\": 7, \"12\": 1, \"107\": 4, \"0\": 1, \"24\": 1, \"88\": 1, \"27\": 2, \"33\": 1, \"36\": 1}, \"23\": {\"23\": 3, \"62\": 2, \"111\": 1, \"93\": 1, \"112\": 1, \"91\": 1, \"113\": 2, \"2\": 1, \"117\": 1, \"0\": 1, \"101\": 1, \"128\": 1}, \"95\": {\"95\": 26, \"127\": 1, \"4\": 2, \"56\": 1, \"18\": 1, \"10\": 1}, \"56\": {\"56\": 10, \"17\": 1, \"4\": 1}, \"91\": {\"95\": 3, \"91\": 12, \"29\": 2, \"111\": 1, \"112\": 1, \"4\": 1, \"104\": 2, \"53\": 1, \"85\": 1}, \"34\": {\"25\": 1, \"1\": 1, \"34\": 2, \"120\": 2, \"14\": 2, \"7\": 1, \"10\": 2, \"3\": 1, \"15\": 2, \"8\": 1, \"70\": 1, \"94\": 3, \"41\": 1, \"112\": 1, \"36\": 2, \"54\": 2, \"129\": 3, \"83\": 1, \"128\": 1, \"105\": 1, \"30\": 1}, \"25\": {\"25\": 16}, \"33\": {\"33\": 113, \"122\": 4, \"14\": 1, \"108\": 1, \"125\": 1, \"118\": 1, \"5\": 3}, \"16\": {\"16\": 91, \"84\": 10, \"43\": 2, \"69\": 4, \"81\": 1, \"102\": 2, \"118\": 2, \"26\": 1, \"109\": 1, \"117\": 3, \"18\": 2, \"2\": 1, \"93\": 2, \"90\": 1, \"113\": 1}, \"26\": {\"26\": 102, \"113\": 2, \"21\": 1, \"117\": 5, \"18\": 11, \"126\": 1, \"16\": 2, \"2\": 1, \"88\": 1}, \"5\": {\"5\": 95, \"93\": 5, \"14\": 5, \"90\": 2, \"40\": 1, \"102\": 2, \"72\": 2, \"118\": 3, \"108\": 5, \"33\": 5, \"122\": 2, \"43\": 2, \"70\": 1, \"39\": 1, \"81\": 1, \"110\": 1, \"19\": 1, \"84\": 1, \"126\": 1}, \"123\": {\"26\": 1, \"125\": 1, \"123\": 12, \"63\": 2}, \"8\": {\"95\": 1, \"8\": 48, \"15\": 3, \"85\": 2, \"101\": 7, \"114\": 7, \"7\": 1, \"49\": 1, \"19\": 1, \"40\": 2, \"127\": 4, \"70\": 5, \"12\": 2, \"105\": 2, \"71\": 5, \"106\": 1, \"111\": 10, \"30\": 1, \"4\": 2, \"10\": 3, \"98\": 3, \"0\": 4, \"27\": 2, \"24\": 1}, \"83\": {\"83\": 13, \"45\": 1, \"27\": 2, \"46\": 1, \"38\": 1, \"5\": 1, \"114\": 2, \"104\": 1, \"26\": 1, \"95\": 1, \"70\": 1, \"107\": 2, \"88\": 1}, \"125\": {\"125\": 115, \"36\": 7, \"24\": 2, \"94\": 10}, \"51\": {\"111\": 3, \"51\": 2, \"26\": 1, \"98\": 1, \"62\": 1, \"106\": 2, \"24\": 1, \"104\": 1, \"54\": 2, \"113\": 1, \"94\": 1}, \"22\": {\"22\": 9, \"5\": 2, \"90\": 1, \"129\": 2, \"14\": 2}, \"54\": {\"54\": 13, \"51\": 1, \"25\": 1, \"94\": 1}, \"66\": {\"66\": 12, \"20\": 1, \"93\": 1, \"122\": 1, \"13\": 1}, \"59\": {\"103\": 1, \"51\": 1, \"59\": 6, \"94\": 1, \"6\": 1, \"15\": 1, \"126\": 1}, \"111\": {\"111\": 88, \"6\": 2, \"91\": 1, \"30\": 3, \"95\": 1, \"29\": 1, \"12\": 4, \"9\": 3, \"97\": 1, \"24\": 3, \"127\": 2, \"15\": 6, \"10\": 1, \"8\": 7, \"125\": 1, \"5\": 1, \"68\": 1, \"27\": 1, \"126\": 1}, \"77\": {\"77\": 8, \"103\": 1, \"12\": 2, \"9\": 1}, \"103\": {\"103\": 16}, \"20\": {\"20\": 12, \"43\": 1, \"102\": 1, \"74\": 1, \"11\": 1}, \"124\": {\"124\": 94, \"98\": 9, \"71\": 1, \"11\": 1, \"4\": 1, \"18\": 1, \"108\": 3, \"10\": 2, \"104\": 1, \"114\": 2, \"125\": 1, \"106\": 1, \"1\": 1, \"26\": 1, \"93\": 1}, \"99\": {\"99\": 32, \"102\": 3, \"32\": 1, \"78\": 2, \"81\": 1, \"108\": 1}, \"120\": {\"96\": 1, \"120\": 16, \"106\": 1, \"21\": 1, \"87\": 1}, \"76\": {\"76\": 12, \"81\": 1, \"104\": 1, \"79\": 2}, \"110\": {\"110\": 45, \"22\": 2, \"99\": 1, \"33\": 4, \"108\": 2, \"72\": 2, \"90\": 9, \"5\": 6, \"122\": 3, \"109\": 4, \"93\": 8, \"113\": 4, \"44\": 1, \"3\": 3, \"118\": 3, \"43\": 6, \"88\": 3, \"39\": 1, \"62\": 1, \"60\": 1, \"14\": 1, \"126\": 2, \"18\": 1, \"87\": 1, \"70\": 1, \"11\": 1}, \"29\": {\"29\": 26, \"71\": 1, \"117\": 1, \"0\": 1, \"127\": 1, \"4\": 2}, \"118\": {\"118\": 29, \"102\": 10, \"18\": 1, \"44\": 2, \"90\": 6, \"69\": 6, \"14\": 3, \"109\": 7, \"43\": 3, \"73\": 1, \"108\": 3, \"5\": 6, \"33\": 5, \"84\": 6, \"93\": 6, \"110\": 2, \"117\": 1, \"126\": 2, \"38\": 1, \"21\": 1, \"67\": 1, \"113\": 2, \"122\": 4, \"99\": 1, \"88\": 1, \"62\": 1, \"11\": 1}, \"58\": {\"58\": 12, \"68\": 1, \"88\": 2, \"30\": 1}, \"13\": {\"92\": 2, \"13\": 11, \"11\": 2, \"94\": 1}, \"89\": {\"101\": 1, \"99\": 1, \"89\": 21, \"7\": 1, \"19\": 1, \"5\": 1, \"70\": 1, \"49\": 1, \"14\": 1, \"87\": 1, \"1\": 1, \"60\": 1}, \"31\": {\"31\": 11, \"13\": 1, \"80\": 1, \"32\": 2, \"33\": 1}, \"64\": {\"64\": 15, \"80\": 1}, \"65\": {\"65\": 12}, \"101\": {\"91\": 3, \"101\": 62, \"127\": 10, \"29\": 1, \"4\": 2, \"123\": 1, \"86\": 1, \"114\": 2, \"1\": 1, \"111\": 3, \"72\": 1, \"125\": 1, \"88\": 2, \"7\": 4, \"8\": 8, \"30\": 1, \"71\": 4, \"10\": 3, \"27\": 2, \"12\": 1, \"15\": 3, \"0\": 4, \"93\": 1, \"70\": 3, \"95\": 2, \"107\": 1, \"128\": 2, \"40\": 1, \"108\": 1, \"26\": 1}, \"126\": {\"126\": 113, \"21\": 4, \"39\": 1}, \"108\": {\"1\": 1, \"5\": 4, \"70\": 4, \"108\": 14, \"107\": 2, \"80\": 2, \"33\": 5, \"62\": 2, \"16\": 3, \"69\": 2, \"39\": 1, \"73\": 1, \"118\": 2, \"109\": 10, \"14\": 3, \"87\": 2, \"18\": 2, \"93\": 2, \"94\": 1, \"98\": 1, \"88\": 3, \"122\": 1, \"43\": 1, \"126\": 1, \"110\": 3, \"40\": 2, \"90\": 3, \"3\": 1, \"38\": 2, \"102\": 1, \"120\": 1, \"49\": 1, \"30\": 1, \"26\": 1, \"116\": 1, \"105\": 2, \"7\": 1, \"11\": 2}, \"45\": {\"45\": 14, \"69\": 1, \"32\": 1}, \"21\": {\"21\": 32, \"117\": 2, \"43\": 1, \"63\": 1, \"78\": 1, \"121\": 1, \"126\": 2}, \"30\": {\"106\": 1, \"108\": 1, \"91\": 1, \"30\": 34, \"111\": 5, \"12\": 4, \"101\": 4, \"122\": 1, \"97\": 1, \"27\": 1, \"8\": 1, \"98\": 1, \"21\": 1, \"127\": 3, \"10\": 3, \"94\": 2, \"15\": 2, \"0\": 1, \"1\": 1, \"51\": 1, \"6\": 1, \"29\": 1, \"36\": 4, \"117\": 1}, \"82\": {\"82\": 27, \"12\": 1, \"89\": 2, \"40\": 1, \"20\": 1}, \"85\": {\"95\": 1, \"85\": 15, \"4\": 3, \"91\": 1, \"86\": 2, \"97\": 2, \"127\": 1, \"56\": 2, \"114\": 1}, \"88\": {\"88\": 15, \"71\": 2, \"2\": 1, \"14\": 1, \"26\": 6, \"109\": 3, \"108\": 3, \"86\": 2, \"42\": 2, \"78\": 1, \"81\": 3, \"127\": 1, \"21\": 1, \"39\": 11, \"122\": 3, \"113\": 8, \"3\": 3, \"126\": 9, \"8\": 1, \"11\": 1, \"87\": 6, \"94\": 2, \"16\": 2, \"117\": 12, \"90\": 2, \"33\": 5, \"114\": 1, \"40\": 2, \"0\": 1, \"70\": 1, \"7\": 3, \"43\": 1, \"118\": 1, \"97\": 1, \"119\": 1, \"60\": 2, \"93\": 1, \"105\": 2, \"121\": 1, \"18\": 2, \"124\": 2, \"27\": 1, \"4\": 1, \"107\": 1, \"110\": 1}, \"41\": {\"77\": 1, \"41\": 6, \"98\": 1, \"97\": 1, \"111\": 1, \"88\": 1, \"15\": 1, \"119\": 1, \"37\": 2, \"103\": 1}, \"128\": {\"85\": 2, \"32\": 1, \"115\": 1, \"4\": 1, \"8\": 1, \"127\": 1, \"95\": 1, \"37\": 1, \"10\": 1, \"128\": 5, \"98\": 1, \"105\": 1, \"34\": 1, \"23\": 1, \"70\": 1, \"111\": 2, \"114\": 2}, \"39\": {\"18\": 9, \"39\": 48, \"16\": 2, \"109\": 5, \"126\": 9, \"113\": 11, \"117\": 10, \"108\": 1, \"81\": 1, \"26\": 4}, \"18\": {\"18\": 96, \"81\": 1, \"117\": 1, \"21\": 1, \"26\": 8, \"113\": 6, \"5\": 1, \"39\": 2, \"126\": 2, \"109\": 2}, \"113\": {\"113\": 90, \"39\": 7, \"26\": 4, \"81\": 4, \"88\": 2, \"117\": 7, \"93\": 1, \"109\": 3, \"18\": 6, \"122\": 1, \"23\": 1, \"90\": 1, \"126\": 1}, \"11\": {\"11\": 90, \"79\": 1, \"45\": 1, \"48\": 1, \"70\": 1, \"107\": 9, \"40\": 5, \"124\": 5, \"102\": 1, \"69\": 3, \"114\": 6, \"33\": 1, \"93\": 1, \"126\": 3, \"115\": 1, \"83\": 1, \"92\": 1, \"99\": 3, \"71\": 1, \"32\": 1, \"27\": 1, \"108\": 1}, \"43\": {\"32\": 2, \"3\": 8, \"62\": 1, \"38\": 1, \"7\": 4, \"66\": 1, \"14\": 4, \"105\": 2, \"49\": 4, \"110\": 5, \"122\": 5, \"43\": 25, \"44\": 1, \"5\": 6, \"84\": 1, \"33\": 8, \"109\": 4, \"87\": 3, \"90\": 4, \"126\": 2, \"88\": 4, \"93\": 5, \"70\": 5, \"98\": 1, \"102\": 4, \"118\": 1, \"69\": 3, \"129\": 1, \"22\": 1, \"89\": 1, \"82\": 1, \"99\": 1, \"1\": 1}, \"12\": {\"12\": 59, \"81\": 1, \"111\": 11, \"15\": 7, \"9\": 1, \"41\": 1, \"30\": 1, \"24\": 1, \"106\": 6, \"98\": 3, \"94\": 1, \"101\": 1, \"10\": 2, \"85\": 1, \"128\": 1, \"124\": 1, \"110\": 1, \"113\": 1}, \"122\": {\"14\": 6, \"122\": 15, \"93\": 3, \"43\": 2, \"33\": 12, \"73\": 1, \"87\": 4, \"102\": 3, \"99\": 3, \"129\": 2, \"109\": 4, \"126\": 5, \"16\": 1, \"5\": 7, \"62\": 1, \"108\": 3, \"118\": 3, \"78\": 1, \"88\": 2, \"44\": 2, \"70\": 1, \"113\": 1, \"110\": 1, \"90\": 1}, \"52\": {\"52\": 18, \"34\": 1, \"127\": 1}, \"44\": {\"44\": 35, \"62\": 1, \"118\": 2, \"43\": 4, \"84\": 2, \"72\": 2, \"108\": 2, \"90\": 1, \"102\": 3, \"122\": 5, \"81\": 1, \"126\": 1, \"39\": 1, \"14\": 1, \"93\": 3}, \"90\": {\"90\": 107, \"62\": 1, \"69\": 1, \"44\": 4, \"93\": 10, \"5\": 2, \"109\": 2, \"110\": 3, \"84\": 1, \"43\": 1, \"108\": 1, \"18\": 1}, \"112\": {\"112\": 12, \"105\": 1, \"42\": 1, \"91\": 1, \"4\": 1}, \"86\": {\"86\": 24, \"55\": 1, \"7\": 1, \"4\": 1, \"128\": 1}, \"3\": {\"3\": 67, \"78\": 1, \"88\": 1, \"1\": 6, \"70\": 7, \"71\": 1, \"43\": 3, \"7\": 7, \"14\": 2, \"114\": 1, \"5\": 2, \"40\": 3, \"87\": 5, \"73\": 1, \"49\": 1, \"42\": 1, \"30\": 2, \"33\": 2, \"105\": 1, \"24\": 1, \"18\": 1}, \"38\": {\"38\": 15, \"66\": 1}, \"121\": {\"38\": 2, \"113\": 2, \"116\": 1, \"45\": 2, \"121\": 5, \"126\": 4, \"16\": 2, \"44\": 1, \"69\": 3, \"26\": 2, \"117\": 2, \"39\": 3, \"102\": 1, \"81\": 1, \"33\": 1}, \"46\": {\"70\": 1, \"67\": 1, \"46\": 12, \"112\": 1, \"114\": 2, \"115\": 2, \"50\": 1}, \"70\": {\"70\": 17, \"87\": 3, \"38\": 1, \"4\": 3, \"100\": 3, \"86\": 1, \"69\": 1, \"71\": 6, \"128\": 1, \"109\": 2, \"122\": 4, \"108\": 1, \"0\": 10, \"117\": 2, \"7\": 5, \"3\": 4, \"94\": 1, \"14\": 4, \"27\": 1, \"8\": 3, \"114\": 6, \"111\": 1, \"43\": 1, \"101\": 9, \"107\": 3, \"84\": 3, \"40\": 2, \"10\": 2, \"5\": 4, \"90\": 4, \"78\": 2, \"23\": 1, \"73\": 1, \"75\": 1, \"52\": 1, \"22\": 1, \"99\": 1, \"18\": 1, \"88\": 1, \"106\": 1, \"118\": 1, \"1\": 1, \"127\": 1, \"33\": 1, \"93\": 1}, \"67\": {\"40\": 1, \"113\": 4, \"117\": 4, \"18\": 1, \"74\": 1, \"38\": 1, \"83\": 1, \"20\": 1, \"67\": 2}, \"53\": {\"53\": 13, \"4\": 1, \"49\": 1, \"85\": 1}, \"49\": {\"78\": 2, \"49\": 6, \"127\": 2, \"4\": 2, \"14\": 1, \"107\": 1, \"110\": 1, \"86\": 1, \"98\": 2, \"73\": 3, \"105\": 1, \"122\": 1, \"101\": 4, \"102\": 2, \"5\": 1, \"34\": 1, \"85\": 1}, \"42\": {\"14\": 3, \"98\": 2, \"129\": 1, \"9\": 1, \"82\": 3, \"87\": 1, \"124\": 2, \"7\": 1, \"114\": 1, \"51\": 1, \"88\": 1, \"15\": 1, \"128\": 1, \"3\": 2, \"103\": 1, \"89\": 1, \"30\": 1, \"42\": 3, \"10\": 1}, \"10\": {\"49\": 1, \"14\": 2, \"4\": 1, \"70\": 3, \"124\": 3, \"85\": 2, \"10\": 23, \"111\": 2, \"82\": 1, \"12\": 6, \"106\": 7, \"24\": 6, \"3\": 3, \"71\": 3, \"36\": 6, \"7\": 6, \"5\": 2, \"107\": 6, \"30\": 2, \"15\": 5, \"94\": 1, \"39\": 2, \"98\": 5, \"87\": 1, \"8\": 1, \"128\": 1, \"90\": 1, \"83\": 2, \"44\": 1, \"42\": 1, \"125\": 2, \"9\": 1, \"108\": 2, \"1\": 1, \"114\": 2, \"40\": 1, \"110\": 1, \"101\": 2}, \"50\": {\"50\": 15, \"115\": 1}, \"73\": {\"73\": 17, \"49\": 2, \"24\": 1, \"46\": 2, \"74\": 1, \"88\": 1}, \"115\": {\"115\": 9, \"88\": 1, \"104\": 1, \"40\": 2, \"79\": 1, \"44\": 1, \"49\": 1}, \"80\": {\"80\": 13, \"106\": 1, \"66\": 2}, \"19\": {\"19\": 5, \"7\": 3, \"55\": 1, \"89\": 2, \"122\": 3, \"129\": 1, \"113\": 1, \"108\": 3, \"88\": 1, \"32\": 1, \"71\": 1, \"82\": 1, \"110\": 1, \"90\": 1, \"105\": 1, \"126\": 1, \"118\": 1}, \"55\": {\"55\": 15, \"101\": 1}, \"72\": {\"72\": 13, \"60\": 3, \"106\": 1, \"108\": 1, \"43\": 1, \"33\": 3, \"5\": 5, \"122\": 1, \"71\": 1, \"93\": 1, \"27\": 1, \"62\": 1}, \"117\": {\"117\": 102, \"65\": 2, \"109\": 1, \"18\": 4, \"26\": 2, \"16\": 1, \"113\": 3, \"69\": 1}, \"81\": {\"81\": 32, \"80\": 1, \"113\": 2, \"78\": 1}, \"75\": {\"75\": 15, \"77\": 1}, \"98\": {\"104\": 1, \"98\": 86, \"41\": 2, \"124\": 5, \"34\": 1, \"10\": 5, \"27\": 2, \"8\": 2, \"94\": 1, \"30\": 1, \"111\": 3, \"108\": 1, \"24\": 2, \"25\": 2, \"15\": 2, \"29\": 1, \"106\": 3}, \"48\": {\"48\": 13, \"83\": 1, \"16\": 1, \"92\": 1}, \"129\": {\"114\": 1, \"129\": 6, \"128\": 2, \"72\": 1, \"108\": 2, \"19\": 2, \"87\": 1, \"43\": 1, \"71\": 1, \"55\": 1, \"110\": 1, \"8\": 2, \"101\": 1, \"98\": 1, \"44\": 1, \"107\": 1, \"102\": 1, \"118\": 1, \"99\": 1}, \"97\": {\"111\": 3, \"12\": 1, \"24\": 2, \"36\": 1, \"97\": 5, \"124\": 1, \"94\": 1, \"47\": 2, \"8\": 1, \"25\": 1, \"52\": 1, \"15\": 1}}, \"C_5\": {\"26\": {\"26\": 23, \"17\": 1}, \"7\": {\"7\": 31, \"12\": 1}, \"56\": {\"56\": 138, \"24\": 2, \"35\": 1, \"43\": 1}, \"36\": {\"36\": 76, \"3\": 1, \"28\": 2, \"49\": 2, \"47\": 3, \"46\": 1, \"44\": 1, \"43\": 1, \"21\": 3, \"57\": 1, \"29\": 1}, \"47\": {\"36\": 4, \"47\": 86, \"49\": 2, \"14\": 3, \"34\": 1, \"40\": 1, \"3\": 1, \"37\": 1, \"29\": 1}, \"2\": {\"14\": 1, \"2\": 25, \"29\": 2}, \"15\": {\"15\": 147, \"0\": 3, \"11\": 1, \"43\": 1}, \"14\": {\"2\": 4, \"47\": 11, \"14\": 11, \"11\": 2, \"44\": 2, \"56\": 3, \"5\": 1, \"22\": 3, \"28\": 1, \"40\": 1, \"0\": 4, \"46\": 1}, \"27\": {\"27\": 128, \"9\": 16, \"51\": 1, \"53\": 1}, \"40\": {\"40\": 98, \"5\": 7, \"36\": 3, \"44\": 13, \"47\": 1, \"2\": 1, \"25\": 1}, \"49\": {\"49\": 29, \"40\": 1, \"44\": 4, \"5\": 1, \"3\": 1}, \"45\": {\"49\": 1, \"27\": 8, \"32\": 3, \"45\": 51, \"6\": 3, \"55\": 9, \"30\": 8, \"5\": 1, \"9\": 10, \"53\": 3, \"50\": 4, \"19\": 2, \"8\": 2, \"20\": 6, \"25\": 2, \"1\": 3, \"7\": 1, \"51\": 2, \"4\": 2, \"12\": 1, \"48\": 1, \"17\": 1}, \"46\": {\"46\": 89, \"35\": 2, \"57\": 11, \"52\": 13, \"16\": 12, \"56\": 2, \"43\": 1, \"29\": 2, \"47\": 1, \"23\": 1, \"11\": 1, \"0\": 1}, \"11\": {\"11\": 127, \"16\": 1, \"15\": 1, \"0\": 1}, \"30\": {\"30\": 108, \"6\": 2, \"51\": 1, \"8\": 1}, \"0\": {\"0\": 116, \"15\": 4, \"11\": 1, \"43\": 3}, \"10\": {\"10\": 65, \"22\": 1, \"56\": 2}, \"1\": {\"1\": 134, \"8\": 2, \"48\": 9, \"17\": 1, \"6\": 1, \"51\": 1}, \"42\": {\"42\": 37, \"10\": 1, \"23\": 1, \"29\": 1}, \"54\": {\"54\": 84, \"50\": 3, \"42\": 1, \"21\": 9, \"23\": 9, \"18\": 5, \"51\": 1}, \"55\": {\"55\": 138, \"45\": 2, \"32\": 1, \"9\": 1, \"4\": 2, \"19\": 5, \"25\": 2, \"50\": 1}, \"23\": {\"23\": 111, \"39\": 3, \"18\": 5, \"54\": 3, \"42\": 2}, \"25\": {\"25\": 117, \"44\": 4, \"33\": 1, \"40\": 5, \"19\": 7, \"5\": 9, \"21\": 3, \"50\": 6}, \"28\": {\"28\": 28, \"3\": 2, \"14\": 1, \"47\": 1}, \"32\": {\"32\": 32}, \"9\": {\"9\": 102, \"27\": 20, \"45\": 4, \"53\": 4, \"20\": 1, \"6\": 2, \"50\": 1, \"51\": 3, \"30\": 2, \"55\": 1, \"19\": 2}, \"39\": {\"39\": 17, \"23\": 3}, \"3\": {\"3\": 43, \"46\": 5, \"16\": 3, \"22\": 3, \"29\": 5, \"11\": 7, \"52\": 9, \"44\": 2, \"47\": 9, \"56\": 2, \"0\": 1, \"43\": 2, \"10\": 1, \"28\": 5, \"14\": 1, \"57\": 1, \"24\": 1}, \"29\": {\"29\": 115, \"3\": 2, \"2\": 1}, \"17\": {\"17\": 111, \"48\": 4, \"55\": 1}, \"35\": {\"35\": 34, \"56\": 2}, \"44\": {\"44\": 130, \"49\": 2, \"5\": 1, \"40\": 14, \"29\": 2, \"2\": 1, \"14\": 1, \"36\": 1}, \"5\": {\"5\": 114, \"40\": 11, \"44\": 3}, \"33\": {\"33\": 32}, \"34\": {\"13\": 1, \"34\": 34, \"22\": 1}, \"13\": {\"13\": 130, \"10\": 5, \"56\": 1, \"22\": 2}, \"41\": {\"41\": 28}, \"6\": {\"51\": 3, \"50\": 4, \"6\": 37, \"38\": 3, \"1\": 12, \"20\": 4, \"48\": 16, \"17\": 11, \"30\": 4, \"55\": 5, \"53\": 3, \"27\": 6, \"45\": 3, \"25\": 1, \"12\": 4, \"8\": 4, \"9\": 5, \"32\": 1, \"54\": 1, \"4\": 1}, \"51\": {\"6\": 3, \"51\": 119, \"53\": 11, \"9\": 1, \"55\": 1, \"8\": 3}, \"50\": {\"50\": 66, \"6\": 2, \"32\": 1, \"9\": 4, \"27\": 3, \"41\": 1, \"5\": 3, \"20\": 23, \"21\": 1, \"19\": 7, \"54\": 7, \"25\": 14, \"51\": 2, \"53\": 1, \"55\": 4, \"44\": 3, \"1\": 1, \"36\": 1}, \"37\": {\"37\": 24}, \"19\": {\"50\": 3, \"19\": 139, \"9\": 1, \"5\": 1}, \"57\": {\"57\": 128, \"39\": 2, \"52\": 2}, \"21\": {\"21\": 143, \"54\": 1}, \"24\": {\"24\": 75, \"43\": 3, \"56\": 1, \"10\": 1}, \"8\": {\"8\": 113, \"30\": 4, \"1\": 3, \"53\": 9, \"51\": 1}, \"12\": {\"12\": 77, \"7\": 2, \"38\": 2, \"51\": 1, \"17\": 5, \"30\": 1, \"6\": 3, \"45\": 1, \"9\": 3, \"48\": 1}, \"48\": {\"48\": 115, \"38\": 1, \"1\": 10, \"30\": 1, \"17\": 3, \"8\": 1, \"6\": 1}, \"43\": {\"43\": 123, \"31\": 3, \"15\": 7, \"24\": 4, \"56\": 3, \"0\": 7, \"35\": 1, \"3\": 2}, \"53\": {\"53\": 110, \"51\": 10, \"1\": 3, \"20\": 3, \"9\": 3, \"8\": 13, \"6\": 3, \"50\": 1, \"48\": 1, \"27\": 1}, \"38\": {\"38\": 29, \"26\": 1, \"12\": 2}, \"16\": {\"16\": 138, \"46\": 4}, \"22\": {\"22\": 27, \"2\": 1}, \"4\": {\"4\": 93, \"55\": 5, \"19\": 1, \"50\": 1}, \"18\": {\"18\": 57, \"23\": 3, \"42\": 1, \"54\": 3}, \"20\": {\"20\": 134, \"6\": 1, \"9\": 3, \"51\": 3, \"50\": 2, \"53\": 1}, \"52\": {\"52\": 125, \"46\": 6, \"16\": 3, \"57\": 5, \"56\": 1}, \"31\": {\"31\": 36}}, \"W_1\": {\"105\": {\"105\": 63, \"19\": 1, \"73\": 1, \"70\": 1, \"5\": 3, \"114\": 2, \"93\": 3, \"8\": 2, \"4\": 1, \"87\": 1, \"40\": 6}, \"100\": {\"100\": 14, \"82\": 2}, \"112\": {\"112\": 14, \"127\": 2}, \"123\": {\"123\": 16}, \"13\": {\"95\": 1, \"13\": 8, \"26\": 4, \"20\": 2, \"118\": 1}, \"81\": {\"81\": 24, \"122\": 2, \"1\": 1, \"2\": 1}, \"124\": {\"124\": 106, \"70\": 2, \"8\": 3, \"117\": 1, \"108\": 2, \"45\": 1, \"77\": 1, \"13\": 1, \"88\": 1, \"11\": 1, \"114\": 1}, \"122\": {\"122\": 31, \"96\": 2, \"14\": 5, \"46\": 1, \"23\": 2, \"44\": 3, \"61\": 2, \"7\": 5, \"22\": 1, \"129\": 1, \"87\": 2, \"50\": 1, \"43\": 3, \"70\": 2, \"114\": 1, \"8\": 1, \"3\": 2, \"12\": 1, \"33\": 2, \"84\": 6, \"126\": 3, \"40\": 1, \"1\": 2, \"120\": 1, \"79\": 1, \"60\": 1, \"19\": 1, \"62\": 1, \"10\": 1, \"90\": 2}, \"111\": {\"112\": 1, \"111\": 80, \"6\": 2, \"56\": 1, \"24\": 2, \"97\": 1, \"30\": 1, \"127\": 3, \"18\": 1, \"98\": 2, \"15\": 10, \"40\": 1, \"88\": 1, \"71\": 3, \"94\": 3, \"12\": 3, \"32\": 1, \"106\": 1, \"27\": 1, \"109\": 1, \"110\": 1}, \"93\": {\"93\": 55, \"122\": 2, \"1\": 3, \"40\": 5, \"31\": 1, \"107\": 12, \"108\": 5, \"44\": 1, \"7\": 4, \"72\": 1, \"84\": 8, \"4\": 1, \"14\": 3, \"87\": 8, \"114\": 3, \"43\": 3, \"118\": 1, \"0\": 3, \"110\": 10, \"101\": 8, \"10\": 5, \"70\": 3, \"106\": 1, \"128\": 2, \"115\": 1, \"86\": 3, \"96\": 1, \"41\": 1, \"127\": 1, \"126\": 1, \"24\": 1, \"94\": 1}, \"106\": {\"86\": 1, \"106\": 69, \"17\": 3, \"30\": 2, \"89\": 1, \"110\": 3, \"88\": 7, \"98\": 8, \"94\": 2, \"111\": 10, \"36\": 1, \"105\": 1, \"12\": 3, \"68\": 1, \"103\": 1, \"15\": 2, \"24\": 1, \"39\": 2}, \"113\": {\"113\": 118, \"18\": 4, \"39\": 2}, \"95\": {\"95\": 29, \"123\": 1, \"26\": 3, \"118\": 1, \"63\": 1, \"117\": 1}, \"87\": {\"105\": 9, \"87\": 31, \"1\": 8, \"16\": 1, \"31\": 1, \"44\": 7, \"70\": 4, \"7\": 5, \"84\": 4, \"126\": 4, \"8\": 4, \"43\": 3, \"114\": 5, \"40\": 7, \"10\": 1, \"14\": 3, \"108\": 1, \"93\": 4, \"122\": 3, \"4\": 1, \"18\": 1, \"33\": 1}, \"86\": {\"93\": 2, \"86\": 23, \"110\": 2, \"27\": 1, \"72\": 1, \"114\": 2, \"55\": 1, \"4\": 1, \"70\": 1, \"40\": 2}, \"67\": {\"67\": 16}, \"85\": {\"0\": 3, \"85\": 29}, \"82\": {\"82\": 29, \"81\": 2, \"44\": 1, \"2\": 1, \"33\": 3}, \"115\": {\"115\": 9, \"44\": 1, \"19\": 1, \"126\": 1}, \"7\": {\"7\": 100, \"48\": 2, \"14\": 1, \"44\": 2, \"129\": 4, \"1\": 6, \"43\": 8, \"84\": 9, \"10\": 2, \"126\": 5, \"87\": 2, \"114\": 1}, \"44\": {\"7\": 5, \"44\": 58, \"84\": 1, \"129\": 1, \"1\": 2, \"126\": 2, \"43\": 3, \"87\": 1, \"23\": 1, \"109\": 1, \"14\": 1}, \"65\": {\"82\": 1, \"76\": 1, \"65\": 3, \"109\": 1, \"95\": 2, \"78\": 1, \"63\": 2, \"119\": 1}, \"129\": {\"129\": 7, \"41\": 2, \"84\": 1, \"62\": 1, \"23\": 1, \"94\": 1, \"69\": 3, \"117\": 1, \"3\": 1, \"12\": 1, \"73\": 1, \"1\": 1, \"16\": 2, \"93\": 1, \"17\": 1, \"118\": 2, \"111\": 1}, \"42\": {\"65\": 1, \"29\": 1, \"56\": 2, \"90\": 1, \"60\": 1, \"25\": 3, \"83\": 3, \"124\": 1, \"62\": 3, \"69\": 1, \"49\": 1, \"3\": 1, \"108\": 1, \"42\": 3, \"39\": 1, \"20\": 1, \"129\": 1, \"114\": 1, \"86\": 1}, \"28\": {\"82\": 1, \"28\": 15, \"64\": 1, \"44\": 1, \"43\": 1, \"99\": 1}, \"0\": {\"29\": 1, \"0\": 51, \"39\": 1, \"41\": 1, \"35\": 2, \"30\": 1, \"15\": 1, \"10\": 2, \"93\": 3, \"5\": 5, \"70\": 1, \"4\": 2, \"14\": 1, \"107\": 3, \"40\": 2, \"101\": 3, \"85\": 1, \"28\": 1, \"108\": 1, \"110\": 1}, \"10\": {\"115\": 1, \"85\": 2, \"10\": 70, \"35\": 2, \"70\": 3, \"43\": 1, \"93\": 3, \"84\": 6, \"14\": 4, \"126\": 9, \"94\": 2, \"7\": 4, \"8\": 2, \"73\": 1, \"64\": 1, \"105\": 2, \"129\": 1, \"32\": 1, \"0\": 4, \"40\": 1}, \"76\": {\"76\": 14, \"33\": 1, \"18\": 1}, \"88\": {\"88\": 32, \"29\": 1, \"98\": 6, \"32\": 3, \"58\": 1, \"8\": 2, \"125\": 11, \"27\": 11, \"105\": 1, \"106\": 5, \"4\": 1, \"6\": 2, \"94\": 5, \"124\": 1, \"36\": 8, \"93\": 3, \"15\": 2, \"12\": 1, \"40\": 2, \"107\": 3, \"111\": 4, \"24\": 3, \"110\": 8, \"101\": 3, \"49\": 1, \"89\": 1, \"108\": 3, \"71\": 1, \"70\": 1}, \"29\": {\"29\": 27, \"34\": 1}, \"16\": {\"16\": 86, \"118\": 10, \"69\": 1, \"95\": 1, \"26\": 2, \"39\": 3, \"18\": 4, \"113\": 1}, \"41\": {\"41\": 16}, \"27\": {\"27\": 45, \"51\": 2, \"111\": 1, \"52\": 2, \"77\": 2, \"106\": 3, \"32\": 1, \"98\": 6, \"94\": 4, \"88\": 4, \"125\": 6, \"36\": 4, \"71\": 3, \"12\": 1, \"15\": 3, \"37\": 1, \"30\": 1, \"92\": 1, \"127\": 1, \"110\": 1}, \"33\": {\"33\": 113, \"62\": 4, \"102\": 1, \"2\": 1, \"90\": 1}, \"75\": {\"75\": 16}, \"48\": {\"7\": 2, \"48\": 10}, \"56\": {\"9\": 1, \"27\": 2, \"56\": 4, \"94\": 1, \"15\": 1, \"98\": 1, \"91\": 1, \"36\": 1}, \"9\": {\"9\": 20, \"56\": 2, \"49\": 1, \"32\": 1, \"37\": 1, \"29\": 1, \"23\": 1, \"127\": 1, \"34\": 1, \"86\": 1, \"117\": 1, \"114\": 1}, \"1\": {\"7\": 3, \"1\": 87, \"115\": 2, \"14\": 2, \"87\": 3, \"42\": 2, \"126\": 3, \"122\": 2, \"44\": 1, \"84\": 12, \"102\": 1, \"33\": 3, \"62\": 2, \"18\": 1, \"109\": 1, \"124\": 1}, \"39\": {\"39\": 46, \"113\": 7, \"117\": 18, \"18\": 14, \"118\": 7, \"16\": 8, \"129\": 1, \"2\": 1, \"26\": 1, \"109\": 1}, \"50\": {\"39\": 1, \"33\": 1, \"50\": 10, \"4\": 1, \"102\": 1, \"10\": 1, \"65\": 1}, \"99\": {\"33\": 1, \"99\": 14, \"116\": 1, \"122\": 1, \"39\": 1, \"25\": 1, \"42\": 1, \"23\": 1, \"62\": 1, \"7\": 1, \"82\": 1}, \"90\": {\"90\": 116, \"3\": 1, \"62\": 2, \"109\": 3}, \"45\": {\"90\": 1, \"67\": 1, \"112\": 1, \"28\": 1, \"120\": 2, \"126\": 1, \"70\": 1, \"48\": 2, \"45\": 1, \"39\": 1}, \"5\": {\"5\": 67, \"40\": 6, \"4\": 6, \"105\": 2, \"93\": 4, \"114\": 1, \"73\": 1, \"87\": 1}, \"128\": {\"92\": 1, \"5\": 1, \"33\": 2, \"34\": 1, \"40\": 1, \"93\": 1, \"44\": 1, \"99\": 1, \"128\": 5, \"7\": 2, \"62\": 1, \"0\": 1, \"67\": 1, \"115\": 1, \"96\": 1, \"4\": 1, \"126\": 1, \"107\": 1}, \"2\": {\"45\": 2, \"95\": 1, \"67\": 1, \"2\": 11, \"70\": 2, \"82\": 1, \"18\": 1, \"39\": 2, \"81\": 3, \"42\": 1, \"11\": 1, \"117\": 1, \"102\": 1, \"78\": 1, \"113\": 2, \"33\": 1}, \"53\": {\"53\": 17, \"91\": 2, \"71\": 1}, \"104\": {\"104\": 11, \"78\": 3, \"60\": 1, \"43\": 1}, \"32\": {\"32\": 14, \"53\": 1, \"30\": 1, \"51\": 1, \"27\": 2, \"103\": 2, \"36\": 1, \"37\": 1, \"91\": 3, \"106\": 2, \"110\": 1, \"24\": 1, \"12\": 2}, \"92\": {\"92\": 26, \"127\": 2}, \"78\": {\"2\": 1, \"78\": 3, \"64\": 1, \"1\": 2, \"16\": 1, \"31\": 1, \"69\": 1, \"44\": 1, \"70\": 1, \"19\": 1, \"90\": 1, \"129\": 1, \"39\": 1}, \"19\": {\"19\": 17, \"115\": 1, \"78\": 1, \"84\": 1, \"126\": 3, \"7\": 1, \"28\": 1, \"128\": 1, \"129\": 1, \"10\": 1}, \"120\": {\"120\": 17, \"121\": 1, \"100\": 2}, \"43\": {\"28\": 2, \"34\": 2, \"122\": 2, \"21\": 2, \"3\": 6, \"43\": 49, \"84\": 14, \"7\": 6, \"14\": 7, \"44\": 3, \"87\": 5, \"1\": 4, \"90\": 4, \"33\": 4, \"10\": 4, \"39\": 3, \"35\": 1, \"93\": 1, \"113\": 1, \"62\": 2, \"70\": 2, \"109\": 2, \"126\": 1, \"117\": 1}, \"74\": {\"74\": 15, \"28\": 1}, \"11\": {\"120\": 1, \"11\": 103, \"8\": 3, \"40\": 1, \"124\": 6, \"39\": 1, \"33\": 2, \"102\": 4, \"114\": 1, \"70\": 1, \"62\": 1, \"95\": 1, \"38\": 1, \"26\": 1, \"126\": 1, \"82\": 1, \"122\": 1}, \"26\": {\"26\": 120, \"13\": 1, \"95\": 1, \"69\": 4, \"39\": 2, \"96\": 1, \"118\": 1, \"16\": 2}, \"125\": {\"125\": 115, \"88\": 2, \"27\": 1, \"36\": 9, \"59\": 2, \"94\": 2, \"106\": 1}, \"64\": {\"64\": 16}, \"127\": {\"92\": 2, \"127\": 81, \"36\": 1, \"15\": 2, \"12\": 5, \"110\": 4, \"71\": 1, \"108\": 2, \"91\": 3, \"101\": 2, \"111\": 1, \"69\": 1, \"6\": 1, \"94\": 1, \"125\": 1}, \"83\": {\"83\": 15, \"120\": 2, \"114\": 2, \"40\": 2, \"18\": 1, \"11\": 1, \"79\": 1, \"13\": 1, \"9\": 1, \"108\": 2}, \"118\": {\"118\": 51, \"2\": 1, \"16\": 12, \"116\": 2, \"63\": 2, \"117\": 2, \"26\": 7, \"18\": 3, \"95\": 1, \"39\": 3}, \"103\": {\"103\": 12, \"77\": 2, \"36\": 1, \"111\": 1}, \"55\": {\"0\": 1, \"55\": 9, \"93\": 1, \"73\": 1}, \"110\": {\"110\": 78, \"112\": 1, \"72\": 1, \"37\": 1, \"4\": 2, \"91\": 1, \"101\": 9, \"127\": 6, \"107\": 8, \"93\": 3, \"5\": 3, \"40\": 2, \"12\": 3, \"105\": 1, \"70\": 1, \"24\": 2, \"15\": 1, \"108\": 2, \"0\": 1}, \"30\": {\"30\": 15, \"110\": 1, \"68\": 1, \"51\": 4, \"94\": 2, \"53\": 2, \"91\": 1, \"15\": 3, \"4\": 1, \"32\": 1, \"72\": 1, \"49\": 1, \"106\": 3, \"122\": 1, \"112\": 1, \"47\": 1, \"127\": 1, \"9\": 1, \"111\": 2, \"101\": 2, \"129\": 2, \"52\": 1, \"24\": 1, \"12\": 1, \"86\": 1, \"92\": 1}, \"51\": {\"51\": 16}, \"6\": {\"30\": 3, \"51\": 2, \"6\": 9, \"111\": 2, \"52\": 1, \"97\": 1, \"88\": 2, \"71\": 2, \"12\": 3, \"27\": 1, \"92\": 1, \"36\": 2, \"15\": 1, \"9\": 1, \"127\": 1}, \"96\": {\"1\": 1, \"96\": 8, \"122\": 1, \"74\": 1, \"70\": 1, \"42\": 1, \"126\": 1, \"61\": 1, \"20\": 1, \"18\": 1, \"83\": 1, \"76\": 2}, \"114\": {\"114\": 123, \"121\": 1, \"40\": 4, \"87\": 2, \"8\": 8, \"105\": 3, \"56\": 1, \"97\": 1, \"39\": 1}, \"69\": {\"69\": 86, \"26\": 2, \"16\": 3, \"102\": 6, \"39\": 2, \"109\": 1, \"3\": 2, \"117\": 2, \"118\": 2, \"62\": 2}, \"60\": {\"60\": 6, \"96\": 1, \"118\": 2, \"3\": 1, \"108\": 1, \"90\": 1, \"123\": 1, \"42\": 1, \"69\": 1, \"87\": 1}, \"94\": {\"51\": 3, \"27\": 3, \"89\": 1, \"94\": 37, \"103\": 1, \"59\": 2, \"111\": 6, \"15\": 1, \"88\": 4, \"12\": 4, \"6\": 3, \"106\": 2, \"71\": 3, \"127\": 3, \"125\": 3, \"30\": 3, \"98\": 4, \"36\": 4, \"52\": 1, \"32\": 2, \"18\": 1, \"107\": 1}, \"79\": {\"79\": 12}, \"126\": {\"126\": 46, \"41\": 1, \"73\": 1, \"12\": 1, \"19\": 2, \"33\": 6, \"82\": 1, \"81\": 1, \"86\": 1, \"1\": 6, \"10\": 1, \"23\": 1, \"87\": 8, \"70\": 4, \"14\": 2, \"84\": 12, \"40\": 4, \"24\": 3, \"5\": 3, \"43\": 9, \"62\": 2, \"7\": 2, \"39\": 1, \"42\": 2, \"122\": 3, \"48\": 1, \"44\": 4, \"93\": 1, \"108\": 2, \"21\": 1, \"114\": 1, \"109\": 1}, \"68\": {\"103\": 1, \"68\": 13, \"15\": 1, \"111\": 1}, \"72\": {\"72\": 23, \"107\": 1, \"93\": 2, \"86\": 2, \"128\": 2, \"0\": 2}, \"63\": {\"63\": 14, \"118\": 2}, \"22\": {\"19\": 1, \"22\": 10, \"114\": 1, \"126\": 1, \"1\": 1, \"23\": 1, \"51\": 1}, \"121\": {\"121\": 15, \"63\": 1, \"66\": 2, \"123\": 1, \"39\": 3, \"26\": 2, \"16\": 3, \"90\": 2, \"88\": 1, \"118\": 2}, \"71\": {\"71\": 58, \"29\": 1, \"27\": 2, \"66\": 1, \"53\": 1, \"111\": 12, \"30\": 1, \"24\": 4, \"91\": 1, \"110\": 1, \"12\": 4, \"94\": 2, \"10\": 1, \"98\": 1, \"44\": 1, \"127\": 5, \"15\": 6, \"43\": 1, \"106\": 1, \"52\": 1, \"108\": 1, \"16\": 1, \"113\": 1}, \"54\": {\"54\": 16}, \"102\": {\"102\": 108, \"113\": 1, \"33\": 2, \"69\": 6, \"129\": 2, \"62\": 1}, \"73\": {\"73\": 17, \"111\": 1, \"98\": 1, \"68\": 1}, \"38\": {\"38\": 16}, \"4\": {\"86\": 3, \"4\": 56, \"40\": 6, \"108\": 1, \"93\": 6, \"105\": 7, \"24\": 1, \"8\": 3, \"5\": 7, \"113\": 1, \"10\": 3, \"114\": 2, \"83\": 1, \"107\": 1, \"90\": 2}, \"52\": {\"52\": 18, \"27\": 1, \"94\": 1}, \"70\": {\"72\": 1, \"86\": 3, \"64\": 2, \"20\": 2, \"126\": 4, \"34\": 2, \"89\": 2, \"70\": 14, \"9\": 3, \"54\": 1, \"114\": 1, \"87\": 5, \"97\": 1, \"124\": 9, \"40\": 9, \"23\": 2, \"90\": 1, \"84\": 1, \"98\": 1, \"33\": 3, \"8\": 7, \"122\": 3, \"110\": 4, \"105\": 2, \"43\": 3, \"7\": 3, \"118\": 1, \"93\": 4, \"24\": 1, \"102\": 1, \"88\": 2, \"10\": 1, \"108\": 11, \"47\": 1, \"103\": 1, \"83\": 1, \"129\": 1, \"27\": 2, \"81\": 1, \"107\": 2, \"44\": 1, \"12\": 2, \"32\": 1, \"3\": 1, \"109\": 1, \"1\": 1, \"0\": 2}, \"91\": {\"91\": 18, \"53\": 1, \"32\": 1, \"88\": 1, \"36\": 2, \"30\": 1, \"58\": 1, \"101\": 1, \"127\": 1, \"112\": 1}, \"77\": {\"77\": 13, \"117\": 1, \"30\": 2}, \"20\": {\"20\": 16}, \"59\": {\"59\": 12}, \"40\": {\"5\": 6, \"104\": 2, \"17\": 1, \"40\": 94, \"87\": 2, \"109\": 2, \"114\": 6, \"93\": 12, \"4\": 6, \"70\": 2, \"35\": 1, \"9\": 1, \"88\": 1}, \"98\": {\"46\": 1, \"98\": 86, \"88\": 3, \"111\": 6, \"106\": 5, \"71\": 1, \"56\": 1, \"12\": 2, \"94\": 1, \"15\": 2}, \"46\": {\"13\": 1, \"46\": 4, \"94\": 1, \"32\": 2, \"51\": 1, \"30\": 1, \"103\": 1, \"54\": 1}, \"34\": {\"34\": 4, \"52\": 1, \"77\": 4, \"51\": 2, \"27\": 2, \"94\": 1, \"122\": 1, \"61\": 1, \"98\": 1, \"28\": 1, \"6\": 1, \"7\": 2, \"20\": 1, \"44\": 1, \"14\": 1, \"96\": 2, \"71\": 1, \"68\": 1, \"112\": 1, \"43\": 1, \"93\": 1, \"15\": 1}, \"24\": {\"71\": 5, \"46\": 1, \"107\": 3, \"113\": 2, \"30\": 2, \"49\": 1, \"24\": 23, \"106\": 4, \"110\": 2, \"36\": 3, \"127\": 3, \"27\": 1, \"111\": 8, \"105\": 2, \"94\": 3, \"15\": 3, \"12\": 7, \"86\": 2, \"108\": 3, \"89\": 1, \"103\": 1, \"128\": 1, \"88\": 2, \"0\": 1, \"32\": 1, \"98\": 4, \"93\": 1, \"40\": 1, \"39\": 1}, \"62\": {\"62\": 101, \"99\": 1, \"33\": 8, \"102\": 6, \"125\": 1, \"113\": 1, \"16\": 1, \"90\": 1}, \"14\": {\"14\": 87, \"93\": 1, \"122\": 3, \"80\": 1, \"87\": 2, \"43\": 1, \"1\": 1}, \"12\": {\"37\": 2, \"112\": 1, \"12\": 54, \"106\": 4, \"30\": 4, \"117\": 1, \"111\": 4, \"127\": 8, \"71\": 5, \"36\": 1, \"15\": 2, \"108\": 1, \"24\": 8, \"47\": 2, \"66\": 1, \"32\": 1, \"113\": 1, \"101\": 2, \"39\": 1, \"90\": 1}, \"84\": {\"84\": 87, \"31\": 1, \"87\": 8, \"10\": 3, \"70\": 1, \"126\": 1, \"23\": 1, \"1\": 2, \"14\": 5, \"43\": 7, \"7\": 10, \"18\": 1, \"93\": 2, \"73\": 1, \"113\": 1, \"106\": 1, \"105\": 1, \"39\": 1}, \"37\": {\"37\": 15, \"58\": 1}, \"97\": {\"104\": 1, \"32\": 1, \"94\": 3, \"34\": 3, \"98\": 1, \"97\": 5, \"68\": 1, \"106\": 1, \"15\": 1, \"12\": 1, \"40\": 1, \"128\": 1}, \"57\": {\"57\": 11, \"39\": 1}, \"49\": {\"49\": 7, \"127\": 3, \"6\": 1, \"53\": 1, \"40\": 2, \"72\": 2, \"73\": 1, \"108\": 1, \"58\": 1, \"15\": 1}, \"17\": {\"98\": 1, \"49\": 1, \"77\": 1, \"32\": 1, \"17\": 9, \"2\": 1, \"27\": 1, \"29\": 1}, \"109\": {\"1\": 2, \"39\": 3, \"122\": 2, \"18\": 11, \"109\": 51, \"33\": 3, \"3\": 6, \"117\": 4, \"44\": 1, \"113\": 2, \"118\": 2, \"90\": 10, \"126\": 2, \"74\": 2, \"62\": 2, \"69\": 2, \"102\": 1}, \"80\": {\"14\": 2, \"80\": 13, \"1\": 1}, \"66\": {\"66\": 16}, \"101\": {\"101\": 103, \"72\": 2, \"110\": 5, \"93\": 2, \"0\": 1, \"127\": 3, \"107\": 6, \"5\": 1, \"117\": 1}, \"89\": {\"89\": 30, \"21\": 1, \"106\": 1, \"98\": 1, \"46\": 1, \"3\": 1, \"54\": 1}, \"31\": {\"71\": 1, \"31\": 11, \"86\": 2, \"84\": 1, \"40\": 1}, \"21\": {\"23\": 1, \"76\": 1, \"113\": 4, \"21\": 7, \"1\": 4, \"3\": 1, \"87\": 1, \"118\": 1, \"114\": 1, \"107\": 1, \"44\": 1, \"39\": 4, \"126\": 1, \"90\": 2, \"33\": 1, \"69\": 2, \"7\": 1, \"18\": 3, \"109\": 2, \"84\": 1}, \"23\": {\"122\": 1, \"43\": 1, \"129\": 1, \"93\": 1, \"18\": 1, \"110\": 2, \"23\": 1, \"127\": 1, \"1\": 1, \"44\": 2, \"70\": 1, \"108\": 1, \"73\": 1, \"33\": 1, \"41\": 1, \"86\": 1, \"55\": 1, \"99\": 1, \"91\": 1, \"82\": 1, \"30\": 1, \"0\": 1}, \"25\": {\"25\": 11, \"89\": 2, \"90\": 1, \"100\": 1, \"42\": 1}, \"107\": {\"107\": 86, \"30\": 1, \"27\": 1, \"87\": 1, \"113\": 1, \"110\": 7, \"93\": 4, \"101\": 4, \"24\": 1, \"70\": 2, \"108\": 1, \"125\": 1, \"114\": 1, \"124\": 1}, \"3\": {\"60\": 1, \"66\": 1, \"3\": 82, \"6\": 1, \"125\": 2, \"109\": 1}, \"61\": {\"61\": 9, \"90\": 2, \"111\": 1}, \"117\": {\"117\": 120, \"39\": 6}, \"119\": {\"119\": 15, \"0\": 1}, \"58\": {\"58\": 9, \"37\": 1, \"24\": 1, \"91\": 1}, \"47\": {\"47\": 10, \"30\": 2}, \"116\": {\"116\": 9, \"120\": 1, \"109\": 3, \"69\": 2, \"62\": 2, \"16\": 4, \"21\": 1, \"11\": 2, \"124\": 2, \"33\": 5, \"2\": 1}, \"18\": {\"18\": 108, \"113\": 3, \"90\": 2, \"117\": 3, \"39\": 5, \"121\": 1, \"109\": 1, \"69\": 1}, \"36\": {\"36\": 70, \"109\": 1, \"98\": 1, \"6\": 3, \"71\": 2, \"111\": 3, \"125\": 14, \"94\": 3, \"27\": 5, \"88\": 7, \"39\": 1, \"106\": 2, \"51\": 1, \"68\": 4, \"103\": 2, \"12\": 1, \"24\": 1, \"113\": 1}, \"108\": {\"92\": 1, \"91\": 1, \"9\": 2, \"54\": 2, \"93\": 8, \"35\": 1, \"101\": 8, \"129\": 1, \"4\": 3, \"106\": 4, \"108\": 22, \"27\": 1, \"110\": 5, \"5\": 2, \"1\": 1, \"0\": 2, \"105\": 5, \"107\": 6, \"127\": 3, \"84\": 2, \"8\": 2, \"125\": 2, \"114\": 2, \"11\": 1, \"29\": 2, \"47\": 1, \"24\": 4, \"104\": 1, \"72\": 1, \"128\": 1, \"124\": 3, \"34\": 1, \"14\": 1, \"21\": 1, \"70\": 4, \"12\": 2, \"40\": 2, \"71\": 1}, \"15\": {\"89\": 1, \"111\": 4, \"15\": 42, \"37\": 1, \"91\": 2, \"86\": 1, \"27\": 4, \"36\": 4, \"127\": 6, \"93\": 3, \"71\": 2, \"106\": 7, \"24\": 4, \"88\": 4, \"12\": 2, \"17\": 1, \"72\": 1, \"6\": 1, \"94\": 3, \"112\": 1, \"34\": 2, \"32\": 1, \"110\": 1, \"92\": 1, \"4\": 1, \"117\": 1, \"107\": 1, \"101\": 1, \"98\": 1}, \"8\": {\"40\": 7, \"8\": 65, \"72\": 1, \"114\": 16, \"128\": 1, \"42\": 2, \"83\": 1, \"5\": 1, \"70\": 3, \"24\": 1, \"84\": 1, \"126\": 2, \"87\": 1, \"108\": 1, \"93\": 2, \"129\": 1, \"105\": 3, \"124\": 3, \"1\": 1, \"107\": 1}, \"35\": {\"35\": 11, \"10\": 1}}, \"W_2\": {\"3\": {\"3\": 98, \"46\": 2, \"129\": 1, \"78\": 1, \"7\": 5, \"19\": 1, \"23\": 1, \"105\": 6, \"111\": 1, \"1\": 1, \"122\": 4, \"26\": 1, \"22\": 1, \"112\": 2, \"110\": 2, \"39\": 2, \"84\": 1, \"109\": 1, \"70\": 1}, \"127\": {\"127\": 99, \"2\": 1, \"12\": 2, \"24\": 1, \"111\": 7, \"30\": 2, \"0\": 6, \"114\": 2}, \"58\": {\"58\": 19, \"51\": 1}, \"114\": {\"127\": 1, \"86\": 1, \"114\": 81, \"8\": 4, \"24\": 2, \"34\": 1, \"5\": 1, \"95\": 2, \"30\": 1, \"4\": 2, \"12\": 3, \"108\": 4, \"128\": 1, \"120\": 1, \"21\": 1, \"71\": 1, \"98\": 1, \"124\": 3, \"11\": 1}, \"111\": {\"111\": 109, \"54\": 1, \"77\": 1, \"101\": 5, \"30\": 7, \"34\": 1, \"127\": 1, \"24\": 4, \"0\": 2, \"114\": 1, \"15\": 1, \"98\": 3, \"12\": 3, \"120\": 1, \"94\": 2, \"109\": 1, \"108\": 1}, \"105\": {\"105\": 100, \"74\": 1, \"3\": 8, \"110\": 2, \"78\": 1, \"14\": 1, \"7\": 5, \"40\": 2, \"12\": 1, \"122\": 6, \"70\": 1, \"39\": 1, \"43\": 2, \"71\": 1}, \"118\": {\"21\": 1, \"118\": 26, \"102\": 2, \"78\": 2, \"33\": 5, \"84\": 6, \"109\": 1, \"90\": 3, \"81\": 1, \"16\": 3, \"23\": 1, \"14\": 2, \"43\": 2, \"126\": 2, \"31\": 2, \"96\": 1, \"93\": 1, \"44\": 1, \"83\": 1, \"92\": 1, \"88\": 1, \"1\": 2, \"113\": 1}, \"23\": {\"127\": 1, \"99\": 3, \"112\": 1, \"117\": 5, \"113\": 3, \"105\": 1, \"122\": 3, \"8\": 2, \"23\": 5, \"16\": 1, \"2\": 1, \"87\": 1, \"110\": 1, \"88\": 1, \"18\": 1, \"11\": 2, \"90\": 2, \"7\": 1, \"109\": 1, \"81\": 1, \"43\": 1, \"108\": 1, \"0\": 1, \"3\": 2, \"27\": 1, \"71\": 1}, \"21\": {\"20\": 1, \"21\": 43, \"87\": 1, \"120\": 1, \"117\": 1, \"113\": 1}, \"20\": {\"21\": 2, \"20\": 12, \"120\": 2}, \"75\": {\"75\": 12, \"12\": 2, \"99\": 1, \"30\": 1}, \"86\": {\"86\": 30, \"124\": 2}, \"60\": {\"118\": 2, \"14\": 1, \"60\": 15, \"22\": 1, \"62\": 1, \"88\": 1, \"116\": 1, \"44\": 1, \"46\": 2, \"20\": 1, \"84\": 1, \"50\": 1}, \"69\": {\"69\": 111, \"72\": 2, \"102\": 4, \"90\": 4, \"121\": 1, \"26\": 6, \"18\": 1, \"88\": 3, \"117\": 1, \"16\": 2, \"31\": 2, \"109\": 1, \"39\": 1, \"62\": 1}, \"99\": {\"99\": 25, \"65\": 1, \"120\": 1, \"117\": 1, \"2\": 2, \"39\": 1, \"18\": 1}, \"14\": {\"14\": 22, \"22\": 2, \"55\": 1, \"33\": 1, \"78\": 3, \"1\": 5, \"113\": 2, \"127\": 2, \"44\": 1, \"60\": 2, \"88\": 3, \"107\": 1, \"62\": 2, \"117\": 1}, \"25\": {\"25\": 14, \"101\": 1, \"36\": 1}, \"52\": {\"30\": 2, \"103\": 1, \"86\": 2, \"52\": 13, \"51\": 1, \"97\": 1}, \"47\": {\"47\": 8, \"97\": 1, \"25\": 1, \"81\": 1, \"98\": 1}, \"48\": {\"48\": 17, \"27\": 1, \"92\": 2}, \"27\": {\"27\": 25, \"20\": 1, \"30\": 2, \"98\": 2, \"87\": 1, \"125\": 5, \"15\": 6, \"101\": 2, \"95\": 1, \"12\": 1, \"34\": 1, \"6\": 3, \"109\": 3, \"84\": 1, \"111\": 2, \"24\": 2, \"94\": 3, \"21\": 1, \"36\": 1, \"42\": 1, \"113\": 1, \"29\": 1, \"114\": 1, \"106\": 1}, \"78\": {\"99\": 1, \"47\": 1, \"78\": 3, \"76\": 2, \"65\": 1, \"85\": 1, \"83\": 2, \"32\": 1, \"109\": 1, \"93\": 1, \"63\": 1, \"42\": 2, \"50\": 2, \"90\": 1, \"88\": 3, \"122\": 3, \"40\": 2, \"121\": 1, \"10\": 1, \"129\": 1, \"107\": 2, \"31\": 1, \"115\": 1, \"7\": 2, \"46\": 1, \"1\": 2, \"14\": 1, \"18\": 1, \"113\": 1, \"105\": 1, \"110\": 1, \"4\": 1, \"126\": 1, \"12\": 1}, \"8\": {\"8\": 40, \"41\": 2, \"52\": 1, \"110\": 1, \"59\": 1, \"128\": 1, \"124\": 5, \"4\": 6, \"40\": 4, \"100\": 2, \"101\": 2, \"34\": 1, \"11\": 1, \"108\": 3, \"7\": 5, \"122\": 7, \"127\": 4, \"114\": 12, \"30\": 2, \"33\": 1, \"42\": 2, \"77\": 1, \"56\": 1, \"115\": 1, \"95\": 1, \"27\": 2, \"29\": 1, \"105\": 1, \"84\": 1, \"5\": 3, \"106\": 1, \"24\": 1, \"3\": 1, \"94\": 1, \"71\": 1, \"111\": 1, \"90\": 1}, \"90\": {\"90\": 127, \"99\": 1, \"93\": 10, \"102\": 2, \"69\": 4, \"87\": 2, \"43\": 1, \"88\": 2, \"70\": 1, \"44\": 3, \"62\": 2, \"118\": 1, \"82\": 1, \"83\": 3}, \"103\": {\"52\": 1, \"103\": 15}, \"120\": {\"120\": 20}, \"96\": {\"90\": 1, \"96\": 10, \"102\": 3, \"13\": 2, \"60\": 1, \"116\": 1, \"118\": 2}, \"30\": {\"30\": 37, \"111\": 7, \"101\": 6, \"114\": 5, \"127\": 7, \"122\": 1, \"0\": 4, \"98\": 4, \"106\": 1, \"8\": 1, \"15\": 1, \"108\": 3, \"36\": 2, \"24\": 4, \"105\": 1, \"125\": 1, \"51\": 1, \"12\": 1, \"93\": 1, \"49\": 2, \"6\": 2, \"54\": 1, \"23\": 1, \"52\": 1, \"1\": 1, \"110\": 1, \"71\": 2, \"4\": 2, \"11\": 1, \"3\": 1, \"124\": 1}, \"33\": {\"33\": 132, \"80\": 3, \"84\": 5, \"87\": 1, \"8\": 1, \"70\": 1, \"62\": 3}, \"35\": {\"35\": 8, \"30\": 1, \"127\": 1, \"6\": 1, \"91\": 1}, \"108\": {\"54\": 3, \"103\": 1, \"108\": 28, \"49\": 1, \"112\": 2, \"52\": 1, \"114\": 4, \"110\": 1, \"111\": 11, \"8\": 4, \"98\": 10, \"7\": 4, \"127\": 7, \"122\": 3, \"12\": 3, \"101\": 1, \"94\": 3, \"105\": 1, \"30\": 1, \"5\": 3, \"3\": 2, \"104\": 1, \"32\": 1, \"91\": 1, \"73\": 2, \"71\": 1, \"29\": 2, \"107\": 1, \"11\": 3, \"40\": 4, \"124\": 5, \"36\": 1}, \"112\": {\"40\": 1, \"112\": 12, \"5\": 1, \"11\": 2}, \"40\": {\"40\": 84, \"5\": 14, \"107\": 8, \"68\": 1, \"21\": 1, \"78\": 1, \"100\": 2, \"63\": 1, \"122\": 3, \"18\": 2, \"93\": 1, \"36\": 1, \"7\": 2, \"105\": 2, \"114\": 1, \"90\": 1, \"8\": 3, \"85\": 1, \"94\": 1, \"32\": 2, \"82\": 1, \"95\": 1, \"109\": 2, \"110\": 1, \"39\": 1, \"71\": 1, \"84\": 1}, \"102\": {\"102\": 102, \"118\": 1, \"90\": 2, \"88\": 1, \"69\": 4, \"39\": 1, \"72\": 2, \"26\": 2, \"70\": 1}, \"56\": {\"56\": 12}, \"93\": {\"93\": 100, \"88\": 1, \"96\": 2, \"2\": 1, \"16\": 4, \"90\": 11, \"109\": 3, \"39\": 2, \"18\": 2, \"43\": 2, \"69\": 1, \"26\": 1, \"83\": 1, \"126\": 2, \"102\": 1, \"87\": 2}, \"68\": {\"68\": 12, \"0\": 2, \"31\": 1, \"34\": 1}, \"70\": {\"87\": 2, \"80\": 1, \"70\": 20, \"105\": 10, \"123\": 1, \"119\": 1, \"84\": 5, \"88\": 10, \"3\": 4, \"14\": 4, \"96\": 1, \"19\": 1, \"109\": 3, \"117\": 1, \"1\": 10, \"90\": 9, \"71\": 1, \"16\": 5, \"107\": 1, \"121\": 2, \"93\": 6, \"26\": 1, \"33\": 4, \"18\": 2, \"102\": 3, \"83\": 1, \"50\": 1, \"118\": 1, \"63\": 1, \"95\": 1, \"7\": 1, \"11\": 1, \"43\": 4, \"122\": 2, \"39\": 2, \"62\": 1}, \"7\": {\"112\": 2, \"71\": 4, \"110\": 2, \"7\": 75, \"4\": 7, \"129\": 2, \"40\": 2, \"108\": 3, \"5\": 5, \"127\": 1, \"122\": 12, \"101\": 1, \"8\": 1, \"3\": 3, \"109\": 1, \"126\": 1, \"0\": 1, \"43\": 1}, \"87\": {\"102\": 5, \"93\": 5, \"87\": 34, \"113\": 2, \"50\": 1, \"88\": 4, \"116\": 2, \"83\": 1, \"1\": 5, \"70\": 4, \"100\": 1, \"62\": 1, \"84\": 7, \"126\": 8, \"33\": 9, \"39\": 5, \"16\": 2, \"109\": 6, \"90\": 4, \"46\": 1, \"89\": 1, \"99\": 1, \"2\": 1, \"122\": 1, \"43\": 1}, \"54\": {\"56\": 1, \"54\": 17, \"24\": 1, \"34\": 1}, \"71\": {\"71\": 60, \"112\": 1, \"4\": 7, \"107\": 4, \"11\": 4, \"34\": 1, \"5\": 4, \"39\": 2, \"125\": 1, \"127\": 1, \"93\": 1, \"8\": 2, \"114\": 1, \"122\": 3, \"47\": 1, \"7\": 2, \"88\": 1, \"40\": 1, \"29\": 1, \"108\": 2}, \"80\": {\"80\": 14, \"33\": 2}, \"18\": {\"18\": 100, \"117\": 8, \"26\": 3, \"65\": 2, \"39\": 3, \"113\": 1, \"90\": 1, \"16\": 1, \"69\": 1, \"93\": 2}, \"101\": {\"111\": 12, \"101\": 90, \"114\": 1, \"83\": 1, \"98\": 2, \"6\": 1, \"107\": 1, \"127\": 1, \"30\": 5, \"106\": 1, \"108\": 2, \"91\": 2, \"15\": 2, \"58\": 1}, \"92\": {\"92\": 23, \"18\": 1, \"82\": 1, \"48\": 1, \"73\": 2}, \"32\": {\"128\": 1, \"32\": 24, \"42\": 2, \"105\": 1, \"78\": 1, \"40\": 1, \"114\": 1, \"122\": 1, \"107\": 1, \"45\": 1, \"129\": 1, \"15\": 1}, \"128\": {\"30\": 4, \"40\": 1, \"128\": 4, \"14\": 1, \"24\": 1, \"107\": 1, \"67\": 1, \"105\": 1, \"45\": 2, \"5\": 1, \"51\": 1, \"52\": 1, \"19\": 2, \"11\": 1, \"32\": 1, \"129\": 1}, \"6\": {\"51\": 2, \"6\": 24, \"36\": 1, \"75\": 1, \"94\": 1, \"15\": 2, \"27\": 1}, \"51\": {\"6\": 1, \"111\": 1, \"41\": 1, \"15\": 1, \"9\": 1, \"8\": 1, \"51\": 5, \"58\": 1, \"36\": 2, \"127\": 2, \"0\": 1, \"12\": 1, \"10\": 1, \"114\": 1}, \"85\": {\"85\": 20, \"108\": 2, \"121\": 1, \"66\": 1, \"95\": 3, \"114\": 1, \"28\": 1, \"45\": 1, \"52\": 1, \"86\": 1}, \"46\": {\"128\": 2, \"46\": 10, \"85\": 1, \"22\": 1, \"84\": 1, \"1\": 1}, \"22\": {\"22\": 17, \"14\": 1, \"80\": 1, \"62\": 1}, \"1\": {\"87\": 2, \"129\": 1, \"22\": 2, \"1\": 94, \"127\": 2, \"88\": 1, \"43\": 6, \"102\": 2, \"109\": 2, \"62\": 2, \"33\": 1, \"118\": 1, \"80\": 1, \"78\": 1, \"16\": 1, \"84\": 1, \"126\": 1, \"122\": 1}, \"37\": {\"37\": 15, \"40\": 1}, \"44\": {\"44\": 75, \"83\": 1, \"38\": 1, \"61\": 1, \"109\": 1, \"90\": 3, \"126\": 2, \"62\": 3, \"84\": 2, \"1\": 1, \"93\": 1, \"0\": 1, \"60\": 2, \"99\": 1, \"88\": 1, \"70\": 2, \"33\": 2}, \"24\": {\"1\": 3, \"24\": 17, \"15\": 12, \"9\": 1, \"106\": 8, \"98\": 5, \"5\": 1, \"114\": 1, \"88\": 2, \"12\": 1, \"110\": 1, \"36\": 8, \"7\": 2, \"101\": 3, \"3\": 2, \"27\": 1, \"113\": 1, \"40\": 8, \"16\": 1, \"30\": 1, \"33\": 1, \"127\": 1, \"39\": 1, \"70\": 1, \"124\": 2, \"126\": 1, \"26\": 1, \"125\": 1, \"111\": 3, \"105\": 3, \"20\": 1, \"51\": 1, \"25\": 1, \"97\": 1, \"107\": 2, \"91\": 1, \"34\": 1, \"21\": 1, \"118\": 1, \"109\": 2, \"11\": 1, \"94\": 2, \"87\": 1, \"108\": 1, \"122\": 1}, \"9\": {\"9\": 30, \"111\": 2}, \"116\": {\"87\": 1, \"116\": 11, \"16\": 2, \"45\": 1, \"82\": 3, \"93\": 1, \"60\": 1, \"109\": 1, \"26\": 1, \"67\": 2, \"89\": 1, \"118\": 1, \"78\": 2}, \"64\": {\"64\": 16}, \"129\": {\"1\": 1, \"47\": 1, \"129\": 17, \"8\": 2, \"70\": 3, \"110\": 2, \"122\": 1, \"7\": 1, \"5\": 1, \"3\": 3}, \"42\": {\"129\": 1, \"1\": 3, \"55\": 1, \"107\": 1, \"42\": 4, \"98\": 1, \"105\": 1, \"120\": 1, \"22\": 3, \"110\": 1, \"0\": 1, \"30\": 2, \"44\": 1, \"121\": 1, \"5\": 1, \"51\": 1, \"28\": 1, \"46\": 1, \"2\": 1, \"58\": 1}, \"117\": {\"117\": 103, \"109\": 2, \"18\": 7, \"39\": 1, \"16\": 1, \"88\": 1, \"113\": 3, \"26\": 1, \"72\": 1}, \"88\": {\"88\": 46, \"31\": 2, \"87\": 5, \"81\": 1, \"113\": 3, \"24\": 1, \"33\": 3, \"120\": 1, \"16\": 6, \"39\": 4, \"90\": 8, \"63\": 1, \"21\": 3, \"93\": 8, \"2\": 2, \"118\": 1, \"1\": 3, \"109\": 6, \"117\": 6, \"69\": 2, \"18\": 3, \"102\": 1, \"43\": 1, \"62\": 2, \"85\": 1, \"80\": 1, \"72\": 1, \"26\": 2}, \"31\": {\"31\": 18, \"93\": 1, \"96\": 1}, \"113\": {\"113\": 68, \"21\": 2, \"39\": 1, \"117\": 1}, \"38\": {\"38\": 14, \"44\": 2}, \"83\": {\"88\": 1, \"25\": 1, \"48\": 1, \"119\": 1, \"126\": 1, \"83\": 24, \"39\": 2, \"65\": 1, \"99\": 1, \"93\": 1, \"44\": 2, \"16\": 1, \"90\": 2, \"125\": 1}, \"49\": {\"49\": 9, \"127\": 2, \"129\": 1, \"5\": 2, \"4\": 1, \"75\": 1, \"108\": 1, \"128\": 3, \"91\": 1, \"95\": 1, \"88\": 1, \"30\": 1}, \"97\": {\"101\": 1, \"97\": 12, \"15\": 1, \"98\": 2, \"127\": 4}, \"76\": {\"76\": 14, \"45\": 2}, \"29\": {\"29\": 22, \"71\": 5, \"49\": 1, \"77\": 1, \"15\": 1, \"11\": 2}, \"61\": {\"38\": 2, \"61\": 18}, \"125\": {\"125\": 129, \"106\": 6, \"21\": 1, \"27\": 1, \"36\": 10, \"9\": 1}, \"126\": {\"90\": 7, \"126\": 35, \"46\": 1, \"83\": 3, \"44\": 2, \"1\": 5, \"99\": 1, \"33\": 12, \"93\": 7, \"43\": 2, \"109\": 2, \"69\": 1, \"84\": 6, \"88\": 2, \"70\": 6, \"39\": 1, \"87\": 5, \"114\": 1, \"16\": 5, \"102\": 2, \"60\": 1, \"118\": 1, \"105\": 2, \"113\": 1, \"96\": 1, \"14\": 1, \"129\": 1, \"116\": 1, \"15\": 1, \"80\": 1, \"78\": 1, \"40\": 1, \"18\": 1}, \"55\": {\"55\": 15, \"43\": 1}, \"0\": {\"29\": 3, \"0\": 57, \"113\": 2, \"97\": 1, \"111\": 5, \"71\": 4, \"17\": 1, \"9\": 1, \"101\": 2, \"127\": 11, \"12\": 3, \"7\": 2, \"4\": 2, \"68\": 2, \"77\": 1, \"49\": 1, \"109\": 1, \"108\": 1, \"30\": 2, \"11\": 1, \"34\": 1, \"18\": 1, \"114\": 1, \"122\": 2}, \"15\": {\"25\": 3, \"15\": 55, \"27\": 2, \"54\": 2, \"111\": 9, \"12\": 1, \"88\": 2, \"36\": 12, \"98\": 7, \"41\": 1, \"9\": 1, \"125\": 5, \"94\": 3, \"18\": 1, \"127\": 1, \"106\": 2, \"24\": 4, \"30\": 3, \"6\": 1, \"58\": 1, \"114\": 1, \"101\": 3}, \"26\": {\"26\": 104, \"18\": 3, \"2\": 3, \"87\": 3, \"39\": 7, \"117\": 1, \"69\": 4, \"109\": 2, \"90\": 1, \"102\": 3, \"16\": 4, \"113\": 1, \"93\": 1, \"88\": 1}, \"63\": {\"63\": 20}, \"57\": {\"57\": 20}, \"39\": {\"63\": 3, \"39\": 34, \"113\": 3, \"96\": 1, \"109\": 7, \"26\": 14, \"69\": 6, \"121\": 2, \"16\": 5, \"117\": 9, \"88\": 5, \"18\": 6, \"93\": 4, \"33\": 1, \"70\": 2, \"65\": 1, \"87\": 4, \"2\": 1, \"102\": 1, \"126\": 1, \"90\": 2}, \"62\": {\"62\": 95, \"60\": 1, \"1\": 4, \"84\": 1, \"39\": 2, \"78\": 1, \"126\": 4, \"33\": 12, \"90\": 2, \"44\": 2, \"71\": 1, \"93\": 1, \"70\": 3, \"118\": 2, \"43\": 4, \"20\": 1, \"81\": 1, \"37\": 1, \"10\": 1, \"102\": 1}, \"82\": {\"82\": 30, \"121\": 1, \"117\": 1, \"21\": 1, \"60\": 1, \"116\": 1, \"113\": 1}, \"11\": {\"4\": 8, \"129\": 2, \"79\": 1, \"49\": 1, \"11\": 26, \"102\": 1, \"32\": 1, \"114\": 2, \"127\": 4, \"122\": 2, \"105\": 2, \"71\": 9, \"23\": 2, \"40\": 2, \"19\": 2, \"0\": 1, \"8\": 3, \"59\": 1, \"115\": 1, \"47\": 1, \"128\": 1, \"106\": 1, \"15\": 1, \"27\": 1, \"3\": 1, \"110\": 1, \"93\": 1, \"108\": 1}, \"4\": {\"4\": 63, \"11\": 3, \"71\": 9, \"122\": 3, \"107\": 3, \"8\": 2, \"7\": 2, \"113\": 1, \"5\": 1, \"12\": 1}, \"41\": {\"41\": 15, \"98\": 1, \"34\": 1, \"91\": 2, \"30\": 1}, \"72\": {\"72\": 18, \"16\": 1, \"31\": 1, \"26\": 2, \"83\": 1, \"87\": 1, \"69\": 2, \"126\": 2}, \"16\": {\"16\": 64, \"72\": 1, \"88\": 2, \"102\": 9, \"93\": 8, \"90\": 8, \"87\": 8, \"39\": 8, \"26\": 3, \"126\": 3, \"69\": 5, \"78\": 1, \"2\": 2, \"118\": 1, \"70\": 1}, \"81\": {\"81\": 20, \"65\": 2, \"0\": 1, \"54\": 1}, \"67\": {\"67\": 10, \"76\": 1, \"66\": 2, \"55\": 2, \"64\": 1}, \"123\": {\"123\": 13, \"28\": 1, \"38\": 1, \"61\": 1}, \"66\": {\"66\": 10, \"85\": 1, \"108\": 1, \"95\": 1, \"114\": 2, \"32\": 2, \"47\": 2, \"36\": 1}, \"36\": {\"36\": 50, \"81\": 1, \"51\": 1, \"52\": 1, \"9\": 2, \"15\": 9, \"125\": 14, \"124\": 1, \"44\": 1, \"121\": 3, \"24\": 11, \"111\": 6, \"27\": 4, \"6\": 4, \"94\": 4, \"98\": 3, \"106\": 7, \"30\": 1, \"75\": 1, \"117\": 1, \"21\": 1, \"65\": 1, \"69\": 1}, \"115\": {\"115\": 8, \"5\": 1, \"40\": 2, \"21\": 1}, \"77\": {\"77\": 10, \"101\": 1, \"27\": 1, \"0\": 4}, \"119\": {\"119\": 19, \"90\": 1}, \"65\": {\"99\": 2, \"65\": 18}, \"34\": {\"42\": 2, \"34\": 7, \"91\": 1, \"41\": 2, \"12\": 5, \"86\": 1, \"107\": 4, \"11\": 1, \"98\": 4, \"52\": 1, \"54\": 1, \"4\": 1, \"105\": 1, \"111\": 1}, \"107\": {\"42\": 3, \"107\": 40, \"18\": 1, \"8\": 1, \"32\": 1, \"71\": 4, \"122\": 3, \"113\": 2, \"5\": 2, \"40\": 5, \"7\": 1, \"58\": 1}, \"13\": {\"13\": 11, \"26\": 1, \"118\": 2, \"96\": 1, \"92\": 1}, \"110\": {\"25\": 1, \"110\": 18, \"105\": 3, \"122\": 4, \"0\": 1, \"21\": 1, \"11\": 1, \"5\": 2, \"129\": 1, \"7\": 1, \"120\": 1, \"33\": 1, \"3\": 1, \"10\": 1, \"43\": 1, \"107\": 1, \"40\": 1}, \"106\": {\"25\": 2, \"106\": 78, \"15\": 8, \"101\": 2, \"125\": 10, \"6\": 2, \"36\": 6, \"109\": 1, \"98\": 1, \"24\": 1, \"51\": 2, \"108\": 2, \"65\": 1, \"88\": 1, \"94\": 1}, \"89\": {\"89\": 33, \"84\": 1, \"76\": 1, \"116\": 1}, \"94\": {\"98\": 5, \"51\": 1, \"8\": 2, \"94\": 20, \"117\": 1, \"110\": 1, \"87\": 1, \"15\": 4, \"6\": 1, \"9\": 1, \"36\": 4, \"34\": 1, \"21\": 2, \"27\": 1, \"101\": 2, \"16\": 1, \"111\": 2, \"24\": 3, \"75\": 1, \"88\": 3, \"54\": 1, \"65\": 1, \"125\": 2, \"106\": 1, \"12\": 2}, \"98\": {\"91\": 3, \"98\": 73, \"97\": 1, \"83\": 1, \"93\": 2, \"118\": 1, \"108\": 3, \"94\": 1, \"15\": 2, \"106\": 1, \"111\": 4, \"8\": 1, \"90\": 1, \"40\": 2, \"21\": 1, \"49\": 1, \"126\": 1, \"114\": 2, \"30\": 4, \"12\": 2, \"124\": 2, \"24\": 3}, \"91\": {\"94\": 1, \"91\": 10, \"59\": 2, \"42\": 1, \"98\": 1, \"34\": 1, \"114\": 2, \"30\": 1, \"71\": 1, \"11\": 1, \"128\": 1, \"111\": 2, \"127\": 1, \"41\": 1, \"68\": 1, \"117\": 1}, \"84\": {\"84\": 62, \"40\": 2, \"33\": 11, \"70\": 4, \"126\": 3, \"87\": 2, \"1\": 1, \"80\": 1, \"43\": 2, \"102\": 1, \"16\": 1, \"88\": 1, \"62\": 1}, \"73\": {\"9\": 1, \"73\": 24, \"95\": 3}, \"104\": {\"59\": 2, \"86\": 1, \"16\": 1, \"104\": 11, \"95\": 1, \"120\": 1, \"93\": 1, \"37\": 2}, \"59\": {\"91\": 1, \"59\": 4, \"30\": 2, \"41\": 1, \"12\": 2, \"128\": 3, \"103\": 1, \"49\": 2}, \"74\": {\"74\": 16}, \"28\": {\"28\": 17, \"93\": 1, \"85\": 1, \"58\": 1}, \"95\": {\"104\": 2, \"119\": 1, \"95\": 26, \"122\": 1, \"40\": 2, \"73\": 2, \"108\": 1, \"27\": 1}, \"2\": {\"2\": 21, \"69\": 2, \"93\": 1, \"99\": 1, \"26\": 1, \"88\": 2, \"18\": 2, \"39\": 1, \"16\": 1}, \"5\": {\"115\": 1, \"5\": 96, \"11\": 4, \"40\": 1, \"113\": 1, \"7\": 2, \"107\": 2, \"122\": 2, \"70\": 1, \"39\": 1, \"12\": 1}, \"50\": {\"50\": 11, \"120\": 1, \"1\": 1, \"55\": 1, \"14\": 2}, \"109\": {\"88\": 8, \"109\": 46, \"113\": 3, \"15\": 1, \"21\": 3, \"90\": 5, \"39\": 8, \"70\": 4, \"26\": 1, \"93\": 2, \"117\": 3, \"69\": 1, \"121\": 1, \"16\": 3, \"18\": 1, \"96\": 1, \"87\": 7, \"118\": 1, \"78\": 1}, \"10\": {\"77\": 2, \"78\": 1, \"12\": 2, \"71\": 2, \"84\": 1, \"93\": 1, \"23\": 1, \"62\": 4, \"10\": 20, \"43\": 2, \"113\": 1, \"44\": 2, \"129\": 1, \"126\": 1, \"32\": 1, \"70\": 3, \"33\": 1, \"88\": 2, \"50\": 2, \"21\": 1, \"74\": 1, \"3\": 3, \"14\": 1, \"7\": 1, \"87\": 1, \"109\": 1, \"105\": 1}, \"45\": {\"45\": 14, \"87\": 1, \"120\": 1}, \"121\": {\"89\": 4, \"82\": 1, \"121\": 10, \"99\": 2, \"92\": 2, \"21\": 3, \"109\": 4, \"16\": 1, \"69\": 2, \"18\": 2, \"120\": 1, \"100\": 2, \"113\": 1, \"72\": 1}, \"124\": {\"124\": 85, \"28\": 1, \"108\": 7, \"24\": 1, \"7\": 2, \"95\": 2, \"8\": 2, \"98\": 4, \"51\": 1, \"86\": 2, \"42\": 1, \"125\": 1, \"94\": 1}, \"53\": {\"28\": 1, \"74\": 1, \"53\": 6, \"3\": 3, \"129\": 1, \"24\": 1, \"88\": 1, \"125\": 1, \"61\": 1}, \"79\": {\"79\": 15, \"127\": 1}, \"43\": {\"43\": 32, \"60\": 1, \"70\": 8, \"87\": 2, \"116\": 1, \"122\": 5, \"78\": 1, \"129\": 1, \"33\": 2, \"1\": 8, \"10\": 1, \"14\": 1, \"110\": 2, \"17\": 1, \"118\": 1, \"105\": 17, \"90\": 5, \"111\": 1, \"93\": 2, \"109\": 1, \"84\": 2, \"126\": 1, \"108\": 1, \"115\": 1, \"62\": 4, \"19\": 2, \"88\": 2, \"44\": 2, \"24\": 1, \"40\": 1, \"11\": 1, \"18\": 1, \"106\": 1, \"16\": 1}, \"122\": {\"42\": 1, \"110\": 2, \"19\": 2, \"107\": 2, \"11\": 3, \"120\": 1, \"0\": 6, \"122\": 35, \"23\": 1, \"43\": 3, \"105\": 10, \"127\": 4, \"71\": 8, \"14\": 2, \"88\": 2, \"10\": 1, \"3\": 7, \"40\": 4, \"111\": 2, \"114\": 4, \"18\": 1, \"30\": 2, \"39\": 1, \"7\": 3, \"5\": 8, \"15\": 2, \"108\": 2, \"106\": 1, \"8\": 2, \"70\": 3, \"1\": 2, \"62\": 2, \"4\": 5, \"84\": 1, \"24\": 1, \"33\": 2}, \"100\": {\"100\": 11, \"84\": 2, \"78\": 1, \"118\": 1, \"66\": 1}, \"19\": {\"40\": 3, \"19\": 7, \"71\": 3, \"75\": 1, \"24\": 3, \"10\": 2, \"8\": 1, \"123\": 1, \"17\": 1, \"22\": 1, \"43\": 1, \"1\": 1, \"70\": 1, \"62\": 1, \"5\": 1}, \"12\": {\"12\": 33, \"110\": 2, \"77\": 1, \"8\": 4, \"114\": 7, \"127\": 7, \"98\": 3, \"75\": 2, \"11\": 1, \"91\": 1, \"124\": 2, \"88\": 2, \"30\": 4, \"108\": 7, \"0\": 1, \"111\": 6, \"34\": 1, \"109\": 1, \"122\": 1, \"94\": 1, \"70\": 1}, \"17\": {\"17\": 8, \"34\": 1, \"127\": 3, \"20\": 1, \"128\": 1, \"108\": 2}}, \"C_1\": {\"41\": {\"41\": 24}, \"40\": {\"40\": 107, \"12\": 2, \"29\": 1}, \"45\": {\"45\": 131, \"42\": 1, \"18\": 1, \"30\": 1, \"25\": 2, \"16\": 1, \"19\": 1}, \"51\": {\"51\": 143, \"20\": 3, \"25\": 1, \"45\": 1}, \"5\": {\"48\": 3, \"5\": 129, \"17\": 4, \"6\": 4, \"8\": 3, \"50\": 4, \"46\": 5, \"9\": 1, \"53\": 1}, \"30\": {\"30\": 115, \"53\": 4, \"26\": 1}, \"42\": {\"42\": 32, \"19\": 2, \"25\": 1, \"1\": 4, \"54\": 1}, \"46\": {\"46\": 106, \"41\": 1, \"5\": 11, \"17\": 1, \"4\": 6, \"8\": 2, \"50\": 2, \"1\": 1, \"45\": 1, \"53\": 3, \"6\": 1, \"13\": 1}, \"48\": {\"48\": 134}, \"53\": {\"53\": 141, \"14\": 1, \"5\": 2}, \"47\": {\"47\": 144, \"38\": 4, \"49\": 1, \"52\": 3}, \"49\": {\"49\": 31, \"31\": 1}, \"36\": {\"36\": 56, \"23\": 8}, \"32\": {\"32\": 27, \"44\": 3, \"35\": 2}, \"34\": {\"34\": 24}, \"29\": {\"29\": 137, \"57\": 1, \"3\": 1, \"44\": 1}, \"35\": {\"35\": 33, \"57\": 1, \"44\": 1, \"32\": 1}, \"3\": {\"3\": 112, \"55\": 8, \"57\": 1, \"44\": 2, \"29\": 6, \"47\": 2, \"38\": 1, \"54\": 1, \"0\": 1}, \"16\": {\"16\": 140}, \"26\": {\"26\": 20, \"45\": 1, \"30\": 2, \"14\": 1}, \"57\": {\"57\": 118, \"56\": 24, \"29\": 2}, \"44\": {\"32\": 4, \"44\": 120, \"0\": 1, \"54\": 2, \"35\": 1}, \"0\": {\"11\": 11, \"0\": 134, \"23\": 3, \"15\": 2, \"38\": 1, \"44\": 1}, \"4\": {\"4\": 131, \"46\": 1}, \"31\": {\"31\": 27, \"52\": 1}, \"11\": {\"11\": 121, \"21\": 10, \"22\": 2, \"15\": 5, \"0\": 2}, \"6\": {\"48\": 3, \"6\": 74, \"14\": 1, \"50\": 10, \"5\": 4, \"9\": 1, \"8\": 3}, \"54\": {\"54\": 102, \"36\": 1, \"16\": 1}, \"17\": {\"17\": 62, \"6\": 1, \"8\": 1}, \"20\": {\"20\": 126, \"13\": 1, \"25\": 1}, \"13\": {\"13\": 144, \"25\": 3, \"12\": 3}, \"33\": {\"33\": 31, \"37\": 1}, \"24\": {\"39\": 5, \"52\": 2, \"24\": 79, \"22\": 5, \"10\": 11, \"27\": 5, \"43\": 1}, \"52\": {\"52\": 94, \"27\": 11, \"31\": 2, \"43\": 11, \"39\": 1, \"24\": 6, \"10\": 3, \"47\": 2, \"22\": 2}, \"2\": {\"2\": 36}, \"19\": {\"19\": 121, \"51\": 1, \"42\": 4, \"1\": 16, \"56\": 1, \"20\": 1, \"13\": 1, \"45\": 4, \"25\": 7}, \"39\": {\"39\": 27, \"22\": 1}, \"8\": {\"8\": 134, \"5\": 2, \"9\": 3, \"17\": 1}, \"21\": {\"21\": 115, \"11\": 1, \"0\": 1, \"15\": 6, \"22\": 1}, \"10\": {\"10\": 73, \"11\": 1, \"27\": 3, \"24\": 14, \"22\": 4, \"47\": 1}, \"37\": {\"37\": 30, \"33\": 2}, \"25\": {\"25\": 131, \"19\": 7, \"29\": 1, \"13\": 1, \"1\": 3, \"56\": 1}, \"27\": {\"27\": 101, \"10\": 8, \"24\": 5, \"31\": 1, \"52\": 4, \"22\": 5, \"43\": 5, \"11\": 1}, \"23\": {\"23\": 129, \"36\": 4, \"0\": 1, \"15\": 2}, \"1\": {\"42\": 6, \"1\": 75, \"57\": 3, \"19\": 9, \"25\": 6, \"13\": 1}, \"50\": {\"50\": 144, \"48\": 6, \"6\": 2}, \"12\": {\"12\": 112, \"13\": 1, \"20\": 3}, \"18\": {\"18\": 71, \"14\": 1}, \"38\": {\"38\": 23, \"0\": 1}, \"14\": {\"14\": 11, \"30\": 1, \"6\": 1, \"45\": 2, \"53\": 4, \"9\": 1, \"18\": 2, \"8\": 1, \"41\": 1}, \"56\": {\"56\": 111, \"57\": 26, \"44\": 1, \"25\": 1, \"29\": 1, \"19\": 2}, \"55\": {\"55\": 136, \"38\": 1, \"56\": 1, \"35\": 1, \"3\": 11, \"47\": 6, \"29\": 2, \"32\": 2}, \"9\": {\"9\": 134, \"8\": 4}, \"15\": {\"15\": 124, \"21\": 7, \"11\": 13, \"22\": 1, \"0\": 1}, \"28\": {\"28\": 28}, \"7\": {\"7\": 27, \"51\": 1}, \"43\": {\"43\": 99, \"27\": 18, \"52\": 13, \"10\": 3, \"28\": 1, \"24\": 2}, \"22\": {\"22\": 86, \"10\": 6, \"0\": 5, \"21\": 13, \"24\": 7, \"15\": 6, \"11\": 8, \"27\": 3, \"52\": 1, \"43\": 1}}, \"W_3\": {\"38\": {\"38\": 16}, \"88\": {\"3\": 1, \"74\": 1, \"107\": 5, \"39\": 4, \"128\": 1, \"94\": 1, \"110\": 6, \"45\": 1, \"34\": 1, \"102\": 1, \"86\": 1, \"92\": 3, \"126\": 5, \"21\": 5, \"88\": 7, \"105\": 1, \"18\": 3, \"4\": 2, \"9\": 2, \"60\": 2, \"40\": 3, \"44\": 1, \"122\": 2, \"7\": 1, \"90\": 2, \"117\": 6, \"11\": 3, \"113\": 8, \"108\": 2, \"87\": 2, \"84\": 2, \"111\": 1, \"114\": 2, \"1\": 4, \"93\": 2, \"10\": 3, \"48\": 1, \"82\": 1, \"28\": 1, \"66\": 1, \"43\": 2, \"81\": 1, \"85\": 1, \"12\": 1, \"70\": 2, \"36\": 1, \"109\": 1, \"14\": 1, \"8\": 1}, \"104\": {\"104\": 16}, \"11\": {\"16\": 9, \"11\": 68, \"109\": 3, \"43\": 2, \"118\": 4, \"93\": 4, \"110\": 1, \"102\": 12, \"26\": 4, \"33\": 7, \"70\": 1, \"107\": 7, \"84\": 1, \"62\": 2, \"126\": 1, \"31\": 1, \"90\": 2, \"69\": 1, \"40\": 3, \"88\": 1, \"87\": 3, \"18\": 1, \"14\": 2}, \"103\": {\"3\": 1, \"103\": 7, \"128\": 2, \"28\": 1, \"105\": 1, \"34\": 1, \"49\": 2, \"23\": 1}, \"124\": {\"51\": 1, \"124\": 73, \"47\": 1, \"12\": 5, \"24\": 3, \"98\": 8, \"34\": 3, \"9\": 1, \"8\": 6, \"36\": 2, \"111\": 6, \"72\": 1, \"99\": 2, \"6\": 1, \"15\": 1, \"93\": 1, \"108\": 1}, \"3\": {\"3\": 81, \"129\": 1, \"7\": 3, \"2\": 1, \"86\": 1, \"114\": 2, \"70\": 1, \"1\": 1, \"127\": 2, \"5\": 6, \"30\": 1, \"117\": 1, \"27\": 1, \"4\": 5, \"42\": 1, \"105\": 3, \"103\": 1, \"128\": 1, \"71\": 1, \"40\": 1, \"113\": 1}, \"74\": {\"74\": 9, \"22\": 1, \"87\": 2, \"110\": 2, \"25\": 1, \"77\": 1}, \"126\": {\"126\": 110, \"64\": 1, \"109\": 2, \"121\": 1, \"21\": 6, \"39\": 2}, \"123\": {\"123\": 16}, \"51\": {\"124\": 1, \"51\": 7, \"83\": 1, \"127\": 1, \"34\": 1, \"112\": 1, \"111\": 1, \"99\": 1, \"30\": 1, \"59\": 1}, \"14\": {\"14\": 69, \"87\": 6, \"62\": 2, \"16\": 1, \"28\": 1, \"117\": 1}, \"16\": {\"16\": 67, \"31\": 2, \"33\": 16, \"69\": 1, \"93\": 3, \"109\": 2, \"102\": 7, \"84\": 4, \"62\": 2, \"18\": 2, \"90\": 2, \"43\": 2, \"118\": 3, \"26\": 1, \"11\": 2}, \"22\": {\"22\": 14, \"1\": 1, \"14\": 1}, \"109\": {\"126\": 5, \"109\": 44, \"93\": 8, \"43\": 3, \"121\": 1, \"13\": 2, \"96\": 1, \"118\": 7, \"81\": 1, \"92\": 2, \"33\": 10, \"88\": 3, \"60\": 1, \"113\": 6, \"102\": 11, \"16\": 5, \"39\": 2, \"84\": 1, \"69\": 1, \"2\": 1, \"18\": 2, \"117\": 1, \"90\": 1, \"14\": 1, \"26\": 2}, \"27\": {\"51\": 1, \"27\": 33, \"94\": 2, \"12\": 1, \"56\": 1, \"15\": 10, \"106\": 5, \"71\": 1, \"111\": 2, \"125\": 13, \"98\": 4, \"108\": 6, \"0\": 2, \"36\": 2, \"124\": 4, \"54\": 1, \"104\": 1, \"9\": 1, \"73\": 3, \"83\": 1, \"4\": 1, \"113\": 1}, \"75\": {\"75\": 16}, \"66\": {\"48\": 1, \"53\": 1, \"66\": 13, \"41\": 1}, \"48\": {\"53\": 3, \"55\": 1, \"86\": 2, \"127\": 2, \"48\": 2, \"20\": 1, \"112\": 2, \"49\": 1, \"65\": 2}, \"6\": {\"54\": 1, \"6\": 16, \"37\": 2, \"73\": 1, \"111\": 3, \"94\": 1, \"15\": 2, \"59\": 1, \"75\": 1, \"72\": 1, \"36\": 2, \"124\": 1}, \"10\": {\"55\": 1, \"10\": 53, \"74\": 1, \"101\": 1, \"44\": 1, \"65\": 1, \"95\": 4, \"4\": 2, \"86\": 2, \"70\": 2, \"1\": 5, \"105\": 2, \"87\": 1, \"7\": 3, \"127\": 5, \"114\": 5, \"110\": 4, \"3\": 6, \"8\": 1, \"12\": 2, \"5\": 2, \"107\": 1, \"40\": 1, \"120\": 1, \"50\": 1, \"19\": 1, \"29\": 2, \"126\": 1}, \"99\": {\"99\": 27, \"66\": 1, \"125\": 1, \"42\": 1, \"47\": 2, \"30\": 1, \"71\": 1, \"12\": 1, \"108\": 1}, \"50\": {\"50\": 13, \"60\": 1, \"53\": 2}, \"54\": {\"54\": 14, \"15\": 1, \"75\": 1}, \"55\": {\"55\": 15, \"10\": 1}, \"53\": {\"53\": 16, \"107\": 1, \"99\": 1, \"20\": 2}, \"72\": {\"72\": 20, \"111\": 2, \"41\": 2, \"124\": 3, \"58\": 1}, \"64\": {\"64\": 18, \"120\": 2}, \"115\": {\"126\": 1, \"115\": 13, \"114\": 2}, \"23\": {\"64\": 4, \"23\": 5, \"81\": 1, \"0\": 1, \"63\": 1, \"2\": 2, \"93\": 2, \"37\": 1, \"105\": 2, \"39\": 2, \"8\": 1, \"5\": 1, \"114\": 3, \"96\": 1, \"42\": 1, \"127\": 1, \"3\": 1, \"118\": 1, \"9\": 1}, \"32\": {\"107\": 4, \"1\": 1, \"32\": 7, \"128\": 1, \"87\": 2, \"70\": 3, \"45\": 1, \"82\": 3, \"78\": 1, \"100\": 1, \"20\": 1, \"22\": 1, \"69\": 1, \"38\": 1, \"108\": 1, \"11\": 2, \"3\": 1}, \"15\": {\"15\": 53, \"94\": 6, \"37\": 2, \"52\": 3, \"6\": 3, \"99\": 2, \"92\": 1, \"106\": 4, \"108\": 1, \"30\": 1, \"111\": 5, \"36\": 8, \"27\": 2, \"124\": 4, \"113\": 1, \"64\": 1, \"42\": 1, \"24\": 2, \"8\": 1, \"125\": 1, \"12\": 2}, \"43\": {\"43\": 21, \"13\": 1, \"33\": 4, \"93\": 3, \"113\": 2, \"102\": 2, \"16\": 2, \"88\": 2, \"69\": 1, \"118\": 5, \"109\": 5, \"21\": 3, \"80\": 1, \"92\": 2, \"120\": 1, \"117\": 1}, \"114\": {\"114\": 82, \"9\": 2, \"105\": 10, \"107\": 1, \"5\": 8, \"18\": 1, \"126\": 1, \"40\": 3, \"10\": 2, \"98\": 1, \"4\": 2, \"23\": 1, \"3\": 6, \"71\": 1, \"1\": 1, \"110\": 1, \"87\": 1}, \"121\": {\"64\": 2, \"121\": 10, \"93\": 1, \"102\": 1, \"80\": 2, \"70\": 1, \"118\": 4, \"21\": 2, \"11\": 1, \"126\": 1, \"92\": 1, \"16\": 1, \"69\": 5}, \"79\": {\"79\": 12}, \"81\": {\"81\": 32}, \"8\": {\"8\": 42, \"41\": 1, \"3\": 1, \"52\": 1, \"12\": 8, \"5\": 4, \"127\": 4, \"30\": 3, \"73\": 3, \"71\": 3, \"111\": 8, \"98\": 5, \"108\": 8, \"124\": 12, \"4\": 4, \"7\": 5, \"27\": 4, \"36\": 5, \"112\": 2, \"72\": 1, \"94\": 1, \"101\": 1, \"10\": 1, \"0\": 1}, \"13\": {\"121\": 1, \"43\": 1, \"13\": 3, \"115\": 1, \"92\": 1, \"60\": 1, \"96\": 2, \"102\": 1, \"16\": 1, \"69\": 1, \"61\": 1, \"11\": 1, \"39\": 1}, \"90\": {\"90\": 130, \"23\": 1, \"84\": 6, \"33\": 1, \"109\": 1, \"88\": 1, \"110\": 2, \"62\": 6, \"22\": 1, \"129\": 1, \"44\": 3, \"43\": 1, \"29\": 1, \"14\": 1}, \"41\": {\"43\": 1, \"41\": 13, \"15\": 2}, \"107\": {\"107\": 114, \"40\": 14, \"1\": 3, \"99\": 1, \"114\": 1, \"87\": 2, \"122\": 1}, \"57\": {\"57\": 20}, \"33\": {\"33\": 103, \"16\": 7, \"102\": 3, \"90\": 2, \"26\": 1, \"92\": 1, \"93\": 3}, \"35\": {\"86\": 1, \"42\": 1, \"127\": 2, \"35\": 6, \"0\": 1, \"55\": 1}, \"29\": {\"29\": 26, \"84\": 1, \"44\": 4, \"90\": 1}, \"70\": {\"86\": 4, \"33\": 3, \"84\": 2, \"29\": 1, \"12\": 1, \"88\": 1, \"120\": 1, \"4\": 4, \"10\": 3, \"39\": 1, \"82\": 1, \"107\": 2, \"121\": 1, \"105\": 4, \"27\": 1, \"128\": 1, \"3\": 2, \"108\": 2, \"71\": 2, \"7\": 2, \"16\": 2, \"93\": 2, \"1\": 1, \"70\": 9, \"8\": 1, \"127\": 2, \"31\": 1, \"90\": 2, \"41\": 1, \"55\": 1, \"44\": 1, \"98\": 2, \"113\": 1, \"62\": 1, \"5\": 3, \"126\": 1, \"30\": 1, \"114\": 1}, \"42\": {\"43\": 1, \"42\": 4, \"7\": 1, \"97\": 2, \"106\": 1, \"25\": 2, \"75\": 3, \"10\": 1, \"15\": 1, \"127\": 1, \"94\": 4, \"19\": 1, \"73\": 1, \"117\": 1, \"95\": 1, \"72\": 1, \"108\": 1, \"86\": 1}, \"93\": {\"33\": 4, \"93\": 96, \"113\": 5, \"109\": 4, \"92\": 1, \"18\": 1, \"118\": 3, \"11\": 1, \"126\": 1, \"117\": 4, \"88\": 3, \"16\": 2, \"102\": 1}, \"86\": {\"86\": 19, \"42\": 1, \"105\": 3, \"108\": 1, \"10\": 1, \"5\": 1, \"3\": 1, \"103\": 1}, \"28\": {\"28\": 15, \"88\": 1}, \"1\": {\"1\": 77, \"129\": 4, \"55\": 2, \"110\": 4, \"14\": 1, \"87\": 4, \"105\": 1, \"70\": 1, \"18\": 1, \"114\": 3, \"3\": 1, \"122\": 3, \"32\": 1, \"101\": 1, \"40\": 2, \"126\": 1, \"90\": 1}, \"125\": {\"125\": 113, \"54\": 1, \"36\": 4, \"44\": 1, \"106\": 1, \"27\": 3, \"118\": 1}, \"69\": {\"69\": 76, \"21\": 1, \"113\": 1, \"33\": 1, \"102\": 2, \"39\": 1, \"62\": 2}, \"97\": {\"97\": 9, \"42\": 2, \"106\": 2, \"94\": 1, \"47\": 1, \"6\": 2, \"24\": 1, \"0\": 1, \"101\": 1}, \"117\": {\"117\": 99, \"67\": 2, \"113\": 3, \"33\": 1, \"18\": 3, \"39\": 4}, \"68\": {\"68\": 15, \"12\": 1}, \"30\": {\"114\": 1, \"68\": 2, \"0\": 6, \"58\": 1, \"5\": 2, \"12\": 5, \"59\": 1, \"99\": 1, \"36\": 4, \"108\": 2, \"30\": 20, \"15\": 2, \"7\": 5, \"111\": 11, \"73\": 2, \"8\": 3, \"98\": 4, \"71\": 2, \"4\": 1, \"112\": 1, \"39\": 1, \"49\": 1, \"37\": 1, \"21\": 1, \"124\": 1, \"83\": 1, \"85\": 1, \"126\": 1}, \"111\": {\"111\": 103, \"59\": 1, \"37\": 1, \"0\": 2, \"30\": 4, \"24\": 1, \"36\": 3, \"73\": 7, \"27\": 2, \"12\": 2, \"8\": 3, \"6\": 1, \"15\": 1, \"124\": 1}, \"47\": {\"68\": 1, \"47\": 6, \"103\": 2, \"91\": 1, \"114\": 1, \"83\": 1}, \"102\": {\"102\": 119, \"118\": 3, \"109\": 1, \"11\": 1}, \"65\": {\"65\": 11, \"10\": 1}, \"113\": {\"113\": 82, \"81\": 1, \"39\": 6, \"64\": 2, \"92\": 1, \"18\": 11, \"2\": 1, \"106\": 1, \"93\": 2, \"117\": 9, \"109\": 1, \"73\": 1, \"126\": 1, \"98\": 1}, \"36\": {\"111\": 8, \"36\": 40, \"94\": 14, \"124\": 2, \"6\": 2, \"15\": 11, \"12\": 8, \"106\": 2, \"98\": 3, \"73\": 2, \"71\": 1, \"0\": 2, \"125\": 5, \"27\": 4, \"8\": 1, \"54\": 2, \"99\": 2, \"97\": 1, \"30\": 2, \"126\": 1, \"7\": 1}, \"119\": {\"119\": 14, \"107\": 1, \"102\": 1}, \"46\": {\"46\": 13, \"30\": 1, \"23\": 1, \"56\": 1}, \"49\": {\"23\": 2, \"90\": 1, \"71\": 1, \"16\": 1, \"60\": 1, \"4\": 2, \"7\": 1, \"49\": 3, \"105\": 1, \"125\": 2, \"87\": 2, \"19\": 1, \"110\": 1, \"95\": 1, \"14\": 1, \"33\": 1, \"11\": 1, \"50\": 1}, \"0\": {\"58\": 1, \"94\": 2, \"41\": 1, \"0\": 49, \"42\": 1, \"7\": 5, \"73\": 5, \"12\": 5, \"10\": 1, \"111\": 4, \"127\": 5, \"108\": 2, \"30\": 8, \"8\": 4, \"15\": 5, \"88\": 1, \"5\": 3, \"4\": 3, \"95\": 1, \"35\": 1, \"46\": 1, \"59\": 1, \"101\": 1, \"124\": 3, \"19\": 1, \"83\": 1, \"86\": 1}, \"58\": {\"0\": 1, \"30\": 1, \"58\": 13, \"15\": 1}, \"63\": {\"63\": 11, \"117\": 2, \"18\": 2, \"61\": 1}, \"94\": {\"58\": 3, \"94\": 45, \"106\": 2, \"72\": 2, \"59\": 1, \"36\": 7, \"29\": 1, \"73\": 1, \"27\": 1, \"15\": 9, \"98\": 3, \"97\": 1, \"6\": 1, \"24\": 1, \"125\": 2, \"111\": 2, \"8\": 1, \"30\": 1}, \"17\": {\"46\": 2, \"17\": 4, \"39\": 1, \"82\": 1, \"120\": 1, \"93\": 1, \"127\": 1, \"56\": 1, \"89\": 1, \"126\": 2, \"121\": 1}, \"9\": {\"105\": 4, \"9\": 20, \"114\": 2, \"4\": 1, \"108\": 1, \"7\": 1, \"16\": 1, \"128\": 1, \"5\": 1}, \"87\": {\"87\": 44, \"33\": 2, \"113\": 1, \"100\": 3, \"88\": 1, \"11\": 2, \"14\": 5, \"1\": 5, \"16\": 6, \"107\": 8, \"102\": 4, \"90\": 4, \"44\": 2, \"70\": 4, \"105\": 2, \"40\": 6, \"69\": 1, \"118\": 2, \"114\": 4, \"110\": 3, \"62\": 2, \"23\": 1, \"55\": 1, \"50\": 2, \"129\": 1, \"109\": 1, \"84\": 1, \"93\": 1, \"8\": 1}, \"59\": {\"59\": 12}, \"105\": {\"105\": 93, \"48\": 1, \"114\": 6, \"3\": 2, \"5\": 7, \"87\": 1, \"40\": 1, \"7\": 1, \"107\": 1, \"4\": 4, \"1\": 1, \"86\": 1, \"127\": 1}, \"80\": {\"80\": 14, \"113\": 1, \"31\": 1}, \"120\": {\"120\": 17, \"78\": 1, \"92\": 1, \"64\": 1}, \"18\": {\"18\": 117, \"118\": 1, \"39\": 2, \"26\": 1, \"113\": 5, \"126\": 1, \"117\": 4, \"93\": 1}, \"78\": {\"78\": 4, \"81\": 1, \"43\": 1, \"49\": 1, \"67\": 1, \"10\": 1, \"68\": 1, \"32\": 1, \"18\": 1, \"100\": 2, \"96\": 1, \"82\": 1}, \"25\": {\"25\": 14, \"6\": 1, \"106\": 1}, \"19\": {\"122\": 1, \"104\": 1, \"127\": 2, \"101\": 1, \"0\": 2, \"19\": 6, \"56\": 3, \"50\": 2, \"88\": 1, \"34\": 1, \"108\": 1, \"44\": 1, \"12\": 2, \"42\": 1, \"110\": 1, \"14\": 1, \"8\": 1, \"74\": 1, \"91\": 1, \"23\": 1, \"70\": 1}, \"122\": {\"129\": 1, \"105\": 2, \"39\": 1, \"113\": 1, \"55\": 3, \"17\": 2, \"32\": 3, \"60\": 1, \"120\": 1, \"122\": 19, \"44\": 2, \"70\": 3, \"86\": 1, \"1\": 3, \"40\": 2, \"114\": 1, \"10\": 1, \"4\": 1, \"88\": 4, \"128\": 1, \"74\": 1, \"43\": 1, \"90\": 2, \"18\": 1, \"62\": 1, \"84\": 1}, \"39\": {\"39\": 61, \"81\": 2, \"113\": 13, \"18\": 4, \"21\": 1, \"126\": 12, \"117\": 11, \"16\": 1, \"92\": 1, \"88\": 1, \"109\": 1}, \"76\": {\"76\": 11, \"69\": 2, \"11\": 1, \"60\": 2}, \"89\": {\"89\": 27, \"118\": 1}, \"129\": {\"129\": 8, \"19\": 1, \"14\": 4, \"62\": 1, \"86\": 1, \"70\": 1, \"122\": 2, \"116\": 1, \"110\": 2, \"3\": 2, \"44\": 1, \"114\": 1, \"87\": 1, \"105\": 2, \"1\": 2, \"90\": 1, \"29\": 1}, \"26\": {\"26\": 89, \"2\": 1, \"118\": 1, \"88\": 1, \"102\": 4, \"109\": 1, \"80\": 1, \"81\": 1, \"117\": 1}, \"85\": {\"85\": 34, \"24\": 1, \"124\": 1}, \"71\": {\"47\": 1, \"71\": 50, \"56\": 1, \"77\": 1, \"7\": 3, \"18\": 2, \"70\": 1, \"0\": 2, \"127\": 1, \"9\": 2, \"105\": 1, \"5\": 1, \"114\": 1, \"8\": 1}, \"77\": {\"77\": 12, \"7\": 1, \"129\": 1, \"19\": 2}, \"128\": {\"71\": 2, \"10\": 1, \"128\": 12, \"112\": 1, \"23\": 2, \"77\": 1, \"122\": 1, \"19\": 2, \"86\": 1, \"7\": 1, \"95\": 1, \"55\": 1, \"46\": 1, \"62\": 1, \"91\": 1, \"88\": 1, \"0\": 1, \"105\": 1}, \"2\": {\"26\": 2, \"2\": 19, \"16\": 1, \"118\": 2, \"117\": 2, \"123\": 1, \"18\": 1}, \"56\": {\"56\": 12}, \"24\": {\"54\": 1, \"24\": 10, \"75\": 2, \"58\": 1, \"85\": 3, \"5\": 1, \"7\": 2, \"124\": 3, \"106\": 4, \"30\": 1, \"12\": 1, \"27\": 4, \"3\": 1, \"111\": 2, \"68\": 1, \"104\": 1, \"98\": 2, \"73\": 1, \"125\": 3, \"15\": 3, \"71\": 1}, \"101\": {\"2\": 1, \"56\": 2, \"5\": 2, \"101\": 19, \"43\": 1, \"0\": 9, \"51\": 1, \"8\": 3, \"10\": 1, \"117\": 1, \"30\": 4, \"58\": 1, \"7\": 2, \"3\": 1, \"12\": 1, \"71\": 2, \"127\": 1}, \"52\": {\"52\": 14, \"56\": 1, \"72\": 1}, \"84\": {\"29\": 2, \"84\": 78, \"31\": 1, \"90\": 5, \"14\": 3, \"129\": 1, \"87\": 3, \"44\": 4, \"88\": 1, \"39\": 1, \"109\": 1, \"62\": 5, \"60\": 2, \"118\": 1}, \"7\": {\"7\": 67, \"48\": 1, \"105\": 11, \"127\": 13, \"10\": 2, \"9\": 1, \"5\": 2, \"3\": 5, \"71\": 2, \"39\": 1, \"113\": 1, \"121\": 1, \"101\": 1, \"4\": 3, \"8\": 1}, \"82\": {\"82\": 26, \"107\": 2}, \"60\": {\"60\": 12, \"122\": 1, \"114\": 1, \"50\": 1, \"116\": 1, \"107\": 3, \"44\": 2, \"84\": 1, \"40\": 3, \"113\": 1, \"124\": 1, \"14\": 1}, \"45\": {\"18\": 1, \"45\": 12, \"21\": 1, \"53\": 1, \"117\": 1}, \"40\": {\"114\": 7, \"40\": 94, \"1\": 3, \"107\": 15, \"87\": 3, \"34\": 1, \"128\": 1}, \"20\": {\"45\": 2, \"20\": 11, \"102\": 1, \"48\": 1, \"115\": 1}, \"4\": {\"9\": 4, \"4\": 56, \"7\": 10, \"105\": 8, \"108\": 3, \"127\": 3, \"5\": 5, \"40\": 2, \"3\": 1, \"19\": 2, \"70\": 1, \"8\": 1}, \"116\": {\"116\": 7, \"18\": 1, \"90\": 1, \"117\": 1, \"118\": 2, \"45\": 1, \"92\": 3, \"93\": 2, \"67\": 1, \"99\": 1, \"53\": 2, \"41\": 2, \"96\": 1, \"119\": 3}, \"61\": {\"61\": 16}, \"5\": {\"5\": 90, \"3\": 4, \"19\": 1, \"105\": 9, \"4\": 2, \"127\": 2, \"18\": 1, \"114\": 1, \"108\": 1, \"126\": 1}, \"106\": {\"42\": 2, \"54\": 1, \"72\": 2, \"106\": 78, \"88\": 1, \"15\": 3, \"111\": 1, \"73\": 1, \"98\": 2, \"36\": 2, \"125\": 2, \"25\": 1, \"27\": 2, \"94\": 1, \"24\": 1}, \"12\": {\"72\": 1, \"12\": 54, \"98\": 4, \"8\": 10, \"34\": 3, \"73\": 2, \"111\": 9, \"0\": 4, \"30\": 3, \"127\": 1, \"68\": 2, \"49\": 1, \"59\": 1, \"101\": 1, \"124\": 3, \"36\": 3, \"7\": 1, \"108\": 1}, \"62\": {\"62\": 97, \"16\": 4, \"90\": 5, \"14\": 1, \"93\": 1, \"11\": 1, \"118\": 1, \"33\": 4, \"84\": 2, \"81\": 1, \"109\": 1, \"87\": 1, \"113\": 1}, \"34\": {\"62\": 2, \"72\": 2, \"19\": 1, \"94\": 1, \"29\": 2, \"110\": 1, \"88\": 1, \"6\": 1, \"73\": 6, \"34\": 1, \"87\": 2, \"14\": 3, \"84\": 2, \"15\": 2, \"1\": 2, \"118\": 1, \"36\": 1, \"23\": 1}, \"91\": {\"34\": 2, \"91\": 10, \"41\": 1, \"78\": 1, \"101\": 1, \"37\": 1, \"71\": 1, \"99\": 2, \"112\": 2, \"108\": 1, \"0\": 1, \"36\": 1}, \"112\": {\"112\": 9, \"3\": 1, \"92\": 1, \"8\": 1, \"19\": 2, \"83\": 2}, \"92\": {\"92\": 26, \"113\": 3, \"96\": 1, \"64\": 1, \"13\": 1}, \"95\": {\"95\": 32}, \"96\": {\"96\": 16, \"64\": 1, \"113\": 1, \"109\": 1, \"84\": 1}, \"127\": {\"127\": 81, \"105\": 2, \"126\": 3, \"88\": 1, \"40\": 1, \"7\": 6, \"8\": 2, \"3\": 1, \"46\": 1, \"114\": 1, \"35\": 1, \"95\": 1, \"71\": 2, \"5\": 3, \"4\": 2}, \"67\": {\"67\": 12, \"89\": 2, \"117\": 1, \"3\": 1}, \"83\": {\"83\": 17, \"86\": 1, \"98\": 1, \"99\": 1, \"72\": 1, \"19\": 1, \"24\": 2}, \"21\": {\"121\": 2, \"21\": 36, \"39\": 1, \"106\": 2, \"126\": 3, \"18\": 1, \"59\": 1, \"93\": 1, \"94\": 1}, \"98\": {\"12\": 8, \"98\": 64, \"30\": 4, \"125\": 3, \"15\": 2, \"27\": 3, \"124\": 17, \"111\": 4, \"36\": 6, \"106\": 2, \"8\": 2, \"16\": 1, \"47\": 1, \"37\": 1, \"72\": 2, \"91\": 1, \"24\": 1, \"108\": 2}, \"108\": {\"30\": 3, \"108\": 53, \"4\": 3, \"8\": 5, \"107\": 3, \"24\": 1, \"105\": 4, \"3\": 3, \"1\": 2, \"0\": 5, \"111\": 1, \"127\": 2, \"101\": 1, \"7\": 1, \"98\": 5, \"124\": 7, \"70\": 1, \"109\": 1, \"114\": 4, \"125\": 1, \"5\": 3, \"12\": 1, \"40\": 3, \"10\": 2, \"34\": 2, \"119\": 1, \"19\": 1, \"48\": 1, \"91\": 1, \"42\": 1, \"32\": 1, \"38\": 1, \"122\": 2, \"83\": 1, \"44\": 1, \"71\": 2, \"87\": 1, \"126\": 1}, \"31\": {\"31\": 16, \"84\": 1, \"16\": 1, \"43\": 1, \"110\": 1}, \"118\": {\"96\": 1, \"118\": 50, \"69\": 4, \"26\": 4, \"88\": 3, \"109\": 5, \"31\": 2, \"117\": 2, \"102\": 5, \"16\": 7, \"33\": 2, \"93\": 4, \"113\": 1, \"18\": 4, \"67\": 1, \"13\": 1, \"43\": 2, \"2\": 2}, \"110\": {\"110\": 41, \"88\": 2, \"122\": 2, \"70\": 4, \"129\": 3, \"10\": 3, \"1\": 7, \"105\": 6, \"44\": 2, \"3\": 3, \"8\": 2, \"14\": 1, \"90\": 4, \"84\": 1, \"62\": 2, \"87\": 3, \"108\": 1, \"49\": 1, \"19\": 1, \"60\": 1, \"29\": 1, \"40\": 1}, \"73\": {\"49\": 1, \"15\": 1, \"111\": 3, \"73\": 32, \"59\": 1, \"98\": 1, \"24\": 1}, \"44\": {\"44\": 57, \"117\": 1, \"29\": 4, \"70\": 1, \"14\": 1, \"60\": 1, \"11\": 1, \"84\": 2, \"110\": 1, \"26\": 1, \"88\": 1, \"90\": 1}, \"37\": {\"37\": 13, \"52\": 2, \"18\": 1}, \"100\": {\"100\": 14, \"87\": 1, \"107\": 1}}, \"C_3\": {\"1\": {\"5\": 7, \"1\": 79, \"57\": 9, \"47\": 3, \"29\": 1, \"46\": 1}, \"9\": {\"50\": 3, \"9\": 112, \"6\": 3, \"25\": 1, \"21\": 2, \"3\": 3}, \"22\": {\"22\": 109, \"31\": 4, \"10\": 4, \"56\": 9, \"24\": 2, \"13\": 8}, \"43\": {\"43\": 123, \"10\": 2, \"7\": 3, \"24\": 6, \"49\": 2}, \"49\": {\"49\": 20}, \"50\": {\"48\": 2, \"50\": 63, \"25\": 9, \"53\": 6, \"20\": 10, \"47\": 1, \"2\": 2, \"44\": 2, \"3\": 6, \"46\": 5, \"6\": 5, \"51\": 2, \"19\": 3, \"21\": 4, \"27\": 4, \"9\": 9, \"40\": 1, \"30\": 2, \"29\": 2}, \"53\": {\"53\": 118, \"8\": 5, \"51\": 3, \"17\": 3, \"27\": 2, \"6\": 1, \"36\": 1, \"12\": 1, \"50\": 1, \"54\": 1}, \"10\": {\"10\": 57, \"24\": 5, \"13\": 2}, \"48\": {\"48\": 91, \"30\": 13, \"40\": 1, \"53\": 1, \"46\": 3, \"18\": 1, \"55\": 1, \"6\": 1, \"47\": 1, \"7\": 1, \"3\": 1, \"50\": 1}, \"8\": {\"8\": 118, \"17\": 4, \"54\": 10, \"53\": 3, \"36\": 2, \"29\": 1}, \"31\": {\"31\": 28}, \"56\": {\"56\": 123, \"10\": 2, \"13\": 3, \"22\": 3, \"31\": 3}, \"25\": {\"25\": 80, \"3\": 6, \"44\": 7, \"40\": 5, \"21\": 16, \"42\": 1, \"29\": 6, \"9\": 7, \"19\": 5, \"46\": 4, \"55\": 1, \"33\": 1, \"34\": 1, \"20\": 2}, \"28\": {\"28\": 28}, \"38\": {\"38\": 27, \"54\": 1}, \"5\": {\"5\": 103, \"37\": 1, \"47\": 3, \"57\": 3, \"1\": 4, \"0\": 1, \"26\": 1}, \"12\": {\"12\": 73, \"32\": 2, \"17\": 1, \"27\": 2, \"45\": 1, \"54\": 5, \"8\": 2, \"4\": 1, \"9\": 1, \"36\": 2, \"51\": 1, \"6\": 1}, \"6\": {\"6\": 17, \"33\": 1, \"44\": 5, \"19\": 3, \"51\": 3, \"21\": 4, \"28\": 1, \"36\": 5, \"41\": 2, \"47\": 1, \"3\": 3, \"25\": 7, \"9\": 5, \"17\": 5, \"29\": 2, \"48\": 5, \"4\": 2, \"5\": 1, \"50\": 4, \"38\": 1, \"18\": 1, \"26\": 1, \"32\": 1, \"12\": 1, \"53\": 5, \"1\": 1, \"8\": 1}, \"19\": {\"19\": 140, \"44\": 1, \"40\": 11}, \"26\": {\"26\": 21, \"39\": 1, \"34\": 1, \"41\": 1}, \"32\": {\"32\": 27, \"27\": 1}, \"33\": {\"25\": 2, \"20\": 3, \"9\": 2, \"33\": 20, \"21\": 1}, \"3\": {\"6\": 2, \"3\": 63, \"21\": 4, \"46\": 10, \"30\": 6, \"1\": 1, \"50\": 7, \"9\": 9, \"4\": 2, \"25\": 3, \"48\": 3, \"57\": 1, \"33\": 1, \"52\": 1, \"20\": 1, \"18\": 1, \"44\": 1, \"53\": 1, \"29\": 1}, \"51\": {\"51\": 108, \"53\": 17, \"36\": 2, \"38\": 1}, \"16\": {\"16\": 136, \"11\": 1, \"5\": 1}, \"46\": {\"6\": 4, \"46\": 62, \"9\": 4, \"18\": 1, \"30\": 10, \"3\": 10, \"34\": 1, \"47\": 3, \"50\": 8, \"52\": 3, \"48\": 3, \"1\": 3, \"25\": 6, \"23\": 5, \"55\": 2, \"29\": 6, \"5\": 1, \"19\": 1, \"44\": 3, \"27\": 1, \"26\": 1, \"7\": 1, \"20\": 1}, \"7\": {\"43\": 1, \"7\": 34, \"10\": 1}, \"47\": {\"47\": 90, \"5\": 1, \"13\": 1}, \"39\": {\"35\": 2, \"39\": 14}, \"40\": {\"40\": 129, \"19\": 6, \"44\": 1}, \"14\": {\"14\": 25, \"28\": 1, \"7\": 1, \"55\": 4, \"13\": 2, \"10\": 2, \"22\": 4, \"56\": 1}, \"37\": {\"37\": 27, \"0\": 1}, \"2\": {\"2\": 31, \"9\": 1}, \"21\": {\"21\": 106, \"20\": 3, \"50\": 2, \"4\": 1, \"6\": 2, \"3\": 5, \"25\": 1}, \"35\": {\"35\": 28}, \"54\": {\"54\": 75, \"8\": 9, \"36\": 2, \"51\": 4, \"32\": 1, \"17\": 5, \"53\": 4}, \"52\": {\"52\": 111, \"23\": 3, \"18\": 2}, \"29\": {\"29\": 113, \"25\": 3, \"48\": 2}, \"20\": {\"20\": 99, \"33\": 3, \"3\": 3, \"50\": 7, \"6\": 1, \"9\": 3, \"21\": 6, \"51\": 4, \"4\": 1, \"53\": 4, \"27\": 1}, \"18\": {\"18\": 70, \"30\": 3, \"52\": 7, \"48\": 4}, \"11\": {\"11\": 137, \"15\": 5}, \"0\": {\"0\": 113, \"37\": 1, \"11\": 2, \"15\": 8}, \"36\": {\"36\": 99, \"8\": 1}, \"17\": {\"17\": 100, \"54\": 4, \"8\": 3, \"38\": 1}, \"30\": {\"30\": 110, \"18\": 1, \"50\": 1, \"3\": 1, \"48\": 1}, \"42\": {\"42\": 26, \"44\": 2}, \"45\": {\"45\": 54, \"12\": 3, \"4\": 2, \"25\": 1}, \"4\": {\"4\": 143, \"45\": 2, \"21\": 1, \"20\": 1, \"27\": 1}, \"23\": {\"23\": 130, \"16\": 1, \"55\": 1, \"52\": 1, \"47\": 1}, \"13\": {\"13\": 120, \"22\": 5, \"56\": 3}, \"15\": {\"15\": 110, \"5\": 1, \"16\": 4, \"0\": 9, \"22\": 2, \"52\": 1, \"43\": 1}, \"57\": {\"39\": 1, \"57\": 112, \"1\": 10, \"35\": 1}, \"27\": {\"27\": 133, \"32\": 1}, \"44\": {\"44\": 72, \"19\": 7, \"25\": 2, \"40\": 7}, \"34\": {\"34\": 32}, \"41\": {\"41\": 28}, \"24\": {\"24\": 94, \"10\": 7, \"43\": 3}, \"55\": {\"55\": 116, \"14\": 1, \"13\": 1}}, \"C_4\": {\"52\": {\"52\": 110, \"23\": 2, \"46\": 4}, \"6\": {\"40\": 4, \"6\": 37, \"54\": 6, \"28\": 2, \"25\": 10, \"53\": 1, \"19\": 3, \"51\": 3, \"31\": 1, \"26\": 1, \"3\": 7, \"4\": 9, \"27\": 1, \"50\": 14, \"36\": 3, \"45\": 1, \"9\": 1, \"5\": 2, \"44\": 1, \"30\": 1, \"33\": 1, \"20\": 3}, \"14\": {\"14\": 9, \"43\": 3, \"24\": 2, \"38\": 1, \"10\": 1}, \"49\": {\"49\": 20}, \"0\": {\"43\": 5, \"5\": 1, \"0\": 71, \"11\": 1, \"56\": 1, \"16\": 1}, \"46\": {\"52\": 18, \"41\": 2, \"1\": 1, \"14\": 1, \"18\": 2, \"46\": 65, \"39\": 1, \"57\": 8, \"5\": 6, \"22\": 3, \"47\": 9, \"16\": 6, \"55\": 4, \"56\": 10, \"15\": 8, \"10\": 2, \"29\": 2, \"23\": 2, \"35\": 4, \"32\": 1, \"43\": 1}, \"41\": {\"41\": 36}, \"24\": {\"43\": 9, \"24\": 45, \"10\": 1, \"37\": 1}, \"25\": {\"40\": 7, \"25\": 104, \"26\": 1, \"33\": 2, \"4\": 3, \"54\": 1, \"28\": 2, \"29\": 1, \"53\": 1, \"50\": 1, \"3\": 3, \"20\": 3, \"44\": 3, \"19\": 7, \"6\": 8, \"34\": 4, \"55\": 1}, \"40\": {\"40\": 113, \"44\": 7, \"6\": 1, \"19\": 12, \"55\": 2, \"29\": 2, \"5\": 1}, \"38\": {\"13\": 3, \"38\": 34, \"2\": 1, \"56\": 1, \"22\": 1}, \"13\": {\"13\": 152}, \"9\": {\"9\": 99, \"4\": 2, \"50\": 3, \"3\": 1, \"45\": 1, \"20\": 2}, \"45\": {\"45\": 85, \"27\": 1, \"8\": 3, \"21\": 2, \"50\": 1, \"4\": 2, \"17\": 1, \"9\": 1}, \"43\": {\"0\": 5, \"24\": 8, \"43\": 119, \"10\": 4, \"22\": 4, \"2\": 1, \"7\": 1, \"11\": 2}, \"10\": {\"10\": 121, \"22\": 5, \"56\": 3, \"43\": 1}, \"15\": {\"15\": 102, \"11\": 17, \"22\": 2, \"46\": 4, \"16\": 2, \"56\": 1}, \"39\": {\"39\": 20}, \"4\": {\"4\": 122, \"50\": 2, \"6\": 4, \"9\": 3, \"3\": 1}, \"53\": {\"53\": 98, \"20\": 8, \"54\": 4, \"3\": 6, \"51\": 10, \"36\": 2, \"6\": 3, \"40\": 1}, \"1\": {\"15\": 5, \"1\": 25, \"41\": 3, \"57\": 5, \"56\": 1, \"16\": 1}, \"28\": {\"28\": 24, \"33\": 6, \"19\": 1, \"40\": 1}, \"54\": {\"54\": 90, \"53\": 9, \"42\": 1, \"3\": 5, \"20\": 1, \"36\": 1, \"51\": 1}, \"21\": {\"21\": 130, \"30\": 1, \"51\": 1}, \"7\": {\"7\": 22, \"24\": 1, \"18\": 1}, \"8\": {\"8\": 117, \"30\": 7, \"21\": 5, \"27\": 6, \"48\": 1}, \"42\": {\"42\": 32}, \"11\": {\"11\": 79, \"15\": 18, \"56\": 2, \"7\": 1, \"0\": 1, \"22\": 1, \"46\": 2}, \"33\": {\"33\": 36}, \"27\": {\"27\": 118, \"17\": 14, \"40\": 1, \"8\": 7, \"48\": 1, \"21\": 1}, \"19\": {\"19\": 126, \"28\": 3, \"44\": 6, \"40\": 8, \"33\": 1}, \"2\": {\"2\": 31, \"56\": 3, \"38\": 1, \"22\": 1}, \"3\": {\"3\": 50, \"26\": 1, \"36\": 2, \"54\": 5, \"51\": 13, \"33\": 1, \"25\": 6, \"53\": 12, \"48\": 9, \"6\": 3, \"8\": 2, \"20\": 9, \"4\": 2, \"50\": 3, \"34\": 1, \"18\": 1}, \"57\": {\"57\": 81, \"41\": 2, \"35\": 7, \"56\": 1, \"29\": 1, \"47\": 1, \"5\": 4, \"16\": 2, \"1\": 1}, \"20\": {\"20\": 86, \"51\": 2, \"53\": 14, \"3\": 5, \"6\": 3, \"40\": 2}, \"23\": {\"23\": 111, \"18\": 17}, \"22\": {\"22\": 93, \"2\": 3, \"38\": 5, \"56\": 7, \"14\": 2, \"43\": 3, \"10\": 11, \"0\": 1, \"24\": 3}, \"29\": {\"29\": 116, \"38\": 1, \"33\": 1, \"6\": 1, \"5\": 1, \"19\": 1, \"47\": 3}, \"36\": {\"36\": 83, \"3\": 2, \"44\": 2, \"8\": 2, \"51\": 1, \"48\": 2}, \"51\": {\"51\": 110, \"20\": 8, \"50\": 1, \"53\": 6, \"3\": 4, \"54\": 1, \"36\": 1, \"6\": 1}, \"31\": {\"31\": 28}, \"12\": {\"12\": 91, \"8\": 1}, \"56\": {\"56\": 126, \"10\": 4, \"22\": 6, \"38\": 2}, \"5\": {\"57\": 15, \"5\": 65, \"47\": 12, \"46\": 8, \"55\": 1, \"16\": 1, \"35\": 1, \"1\": 3, \"29\": 2}, \"35\": {\"35\": 37, \"56\": 1, \"5\": 1, \"46\": 1}, \"17\": {\"17\": 68, \"27\": 11, \"36\": 1}, \"32\": {\"32\": 24}, \"47\": {\"47\": 99, \"5\": 17, \"46\": 4}, \"18\": {\"18\": 80, \"44\": 1, \"23\": 19, \"13\": 1, \"55\": 1, \"54\": 6}, \"26\": {\"26\": 22, \"25\": 1, \"4\": 1}, \"50\": {\"17\": 2, \"50\": 52, \"48\": 2, \"4\": 8, \"25\": 6, \"51\": 7, \"20\": 7, \"9\": 11, \"54\": 3, \"3\": 9, \"40\": 3, \"8\": 1, \"44\": 1, \"6\": 5, \"53\": 3, \"34\": 1, \"19\": 1}, \"55\": {\"55\": 121, \"40\": 2, \"31\": 1}, \"34\": {\"34\": 23, \"26\": 1}, \"30\": {\"45\": 3, \"8\": 6, \"30\": 32, \"21\": 2, \"27\": 1}, \"37\": {\"37\": 24}, \"44\": {\"40\": 13, \"19\": 20, \"44\": 95, \"25\": 3, \"55\": 1}, \"48\": {\"48\": 93, \"27\": 3, \"3\": 3, \"28\": 1, \"8\": 13, \"53\": 1, \"40\": 1, \"21\": 2, \"19\": 1}, \"16\": {\"16\": 96}}, \"C_2\": {\"11\": {\"11\": 126, \"16\": 1, \"5\": 1, \"15\": 2}, \"21\": {\"21\": 116, \"25\": 2, \"3\": 2}, \"19\": {\"19\": 132, \"40\": 3, \"46\": 1, \"4\": 2, \"44\": 2}, \"20\": {\"20\": 101, \"17\": 4, \"51\": 9, \"50\": 2, \"54\": 1, \"40\": 2, \"8\": 1, \"53\": 6, \"12\": 2}, \"9\": {\"9\": 133, \"3\": 1, \"53\": 1, \"19\": 1, \"21\": 3, \"4\": 1}, \"10\": {\"10\": 101, \"24\": 11}, \"37\": {\"37\": 36}, \"32\": {\"32\": 28}, \"3\": {\"50\": 8, \"3\": 49, \"9\": 1, \"33\": 1, \"21\": 5, \"2\": 1, \"51\": 2, \"6\": 5, \"4\": 2, \"44\": 1, \"17\": 3, \"46\": 4, \"20\": 2, \"32\": 2, \"40\": 1, \"25\": 2, \"18\": 1, \"48\": 1, \"53\": 1}, \"39\": {\"39\": 28}, \"45\": {\"45\": 101, \"26\": 1, \"9\": 6, \"12\": 5, \"36\": 1, \"4\": 1, \"20\": 4, \"27\": 4, \"40\": 2, \"54\": 2, \"50\": 1}, \"50\": {\"32\": 2, \"46\": 3, \"3\": 4, \"40\": 3, \"6\": 11, \"33\": 1, \"50\": 63, \"41\": 1, \"48\": 6, \"53\": 13, \"21\": 4, \"9\": 2, \"25\": 8, \"17\": 8, \"29\": 2, \"20\": 1, \"27\": 1, \"54\": 2, \"4\": 1}, \"40\": {\"40\": 138, \"19\": 1, \"25\": 1}, \"46\": {\"19\": 6, \"21\": 9, \"46\": 44, \"29\": 9, \"10\": 1, \"2\": 1, \"43\": 1, \"44\": 5, \"5\": 1, \"57\": 8, \"52\": 1, \"1\": 11, \"55\": 2, \"25\": 10, \"9\": 2, \"7\": 2, \"38\": 1, \"42\": 2, \"47\": 4, \"3\": 4, \"13\": 1, \"23\": 1, \"22\": 2}, \"12\": {\"12\": 83, \"20\": 5, \"8\": 2, \"45\": 1, \"54\": 1}, \"13\": {\"13\": 109, \"24\": 1, \"56\": 4, \"22\": 2}, \"47\": {\"47\": 120, \"5\": 11, \"28\": 1}, \"15\": {\"15\": 129, \"57\": 1, \"16\": 9, \"39\": 1, \"0\": 2}, \"54\": {\"54\": 79, \"8\": 9, \"6\": 1, \"17\": 1, \"51\": 1, \"20\": 7, \"36\": 7, \"53\": 2, \"27\": 1}, \"48\": {\"48\": 127, \"53\": 4, \"51\": 3, \"18\": 1, \"50\": 1, \"30\": 3, \"6\": 8, \"36\": 1}, \"23\": {\"23\": 130, \"52\": 10, \"30\": 2}, \"29\": {\"29\": 124, \"33\": 2, \"25\": 1, \"44\": 1}, \"38\": {\"38\": 20}, \"53\": {\"53\": 101, \"51\": 15, \"8\": 7, \"17\": 1, \"6\": 5, \"20\": 3, \"50\": 2, \"36\": 2}, \"27\": {\"27\": 149, \"54\": 1}, \"43\": {\"43\": 123, \"13\": 1, \"10\": 7, \"24\": 8, \"11\": 1, \"56\": 2, \"22\": 2}, \"35\": {\"35\": 32}, \"0\": {\"0\": 42, \"15\": 4, \"16\": 2}, \"52\": {\"52\": 110, \"23\": 9, \"16\": 1, \"5\": 1, \"15\": 2, \"30\": 1}, \"8\": {\"8\": 108, \"53\": 4, \"54\": 7, \"27\": 5, \"36\": 1, \"51\": 1, \"12\": 2}, \"24\": {\"10\": 14, \"13\": 1, \"24\": 77, \"43\": 3, \"56\": 1}, \"18\": {\"18\": 45, \"30\": 3}, \"25\": {\"25\": 87, \"3\": 6, \"34\": 4, \"33\": 2, \"44\": 7, \"21\": 10, \"50\": 3, \"9\": 4, \"6\": 2, \"40\": 3, \"19\": 14, \"46\": 2, \"42\": 2, \"29\": 2}, \"57\": {\"57\": 130, \"1\": 5, \"52\": 1}, \"55\": {\"37\": 1, \"55\": 133}, \"36\": {\"36\": 116}, \"17\": {\"17\": 101, \"20\": 1, \"54\": 1, \"50\": 1}, \"2\": {\"2\": 31, \"5\": 1}, \"34\": {\"34\": 28}, \"1\": {\"1\": 85, \"39\": 3, \"21\": 1, \"7\": 2, \"29\": 1, \"57\": 16, \"46\": 4}, \"51\": {\"51\": 102, \"53\": 16, \"20\": 3, \"54\": 2, \"6\": 6, \"8\": 2, \"36\": 3, \"27\": 1, \"32\": 1}, \"31\": {\"31\": 27, \"22\": 1}, \"49\": {\"49\": 24}, \"14\": {\"13\": 2, \"14\": 16, \"37\": 1, \"24\": 1, \"56\": 1, \"31\": 2, \"38\": 1}, \"33\": {\"33\": 28}, \"41\": {\"41\": 18, \"50\": 1, \"49\": 1}, \"28\": {\"28\": 25, \"31\": 1, \"5\": 1, \"14\": 1}, \"5\": {\"5\": 108, \"47\": 7, \"28\": 2, \"11\": 2, \"57\": 1}, \"16\": {\"16\": 138, \"15\": 10, \"0\": 2}, \"4\": {\"4\": 117, \"9\": 5, \"25\": 2, \"34\": 2, \"40\": 2}, \"22\": {\"22\": 98, \"14\": 2, \"56\": 16, \"10\": 6, \"13\": 9, \"43\": 3, \"31\": 1, \"24\": 1}, \"6\": {\"3\": 5, \"6\": 44, \"54\": 2, \"53\": 8, \"41\": 2, \"51\": 14, \"40\": 3, \"36\": 7, \"50\": 3, \"17\": 4, \"8\": 2, \"48\": 11, \"21\": 2, \"4\": 2, \"29\": 1, \"9\": 1, \"19\": 1, \"33\": 1, \"20\": 2, \"25\": 3}, \"30\": {\"30\": 119, \"18\": 1, \"23\": 3, \"52\": 1}, \"26\": {\"26\": 23, \"8\": 1}, \"56\": {\"56\": 134, \"22\": 8}, \"42\": {\"42\": 36}, \"44\": {\"44\": 89, \"40\": 2, \"19\": 7, \"42\": 1, \"50\": 1}, \"7\": {\"7\": 35, \"1\": 1}}}, \"per_domain_accuracy\": {\"O_26\": {\"accuracy\": 0.8197916666666667, \"source?\": true}, \"O_44\": {\"accuracy\": 0.828125, \"source?\": true}, \"O_50\": {\"accuracy\": 0.9299479166666667, \"source?\": true}, \"O_38\": {\"accuracy\": 0.9432291666666667, \"source?\": true}, \"O_20\": {\"accuracy\": 0.9192708333333334, \"source?\": true}, \"O_14\": {\"accuracy\": 0.9505208333333334, \"source?\": true}, \"O_32\": {\"accuracy\": 0.9234375, \"source?\": true}, \"O_8\": {\"accuracy\": 0.9447916666666667, \"source?\": true}, \"W_4\": {\"accuracy\": 0.5756172839506173, \"source?\": false}, \"C_5\": {\"accuracy\": 0.8427025139664804, \"source?\": false}, \"W_1\": {\"accuracy\": 0.6439353813559322, \"source?\": false}, \"W_2\": {\"accuracy\": 0.6051255230125523, \"source?\": false}, \"C_1\": {\"accuracy\": 0.8877377717391305, \"source?\": false}, \"W_3\": {\"accuracy\": 0.6322325327510917, \"source?\": false}, \"C_3\": {\"accuracy\": 0.8505514705882353, \"source?\": false}, \"C_4\": {\"accuracy\": 0.8091114457831325, \"source?\": false}, \"C_2\": {\"accuracy\": 0.8515625, \"source?\": false}}}, \"history\": {\"epoch_indices\": [1, 2, 3, 4, 5, 6, 7, 8, 9, 10, 11, 12, 13, 14, 15, 16, 17, 18, 19], \"train_label_loss\": [0.7406422510443788, 0.7635178885012421, 0.4368312682124919, 0.3708145739807237, 0.32659256094318284, 0.2994864221166132, 0.2738261281078892, 0.2536064255920965, 0.23618613475742417, 0.22160517236876504, 0.20917384399737265, 0.1958695788338359, 0.21002607333897946, 0.17561340623374452, 0.1658748910750936, 0.15669611971976077, 0.1661032668347616, 0.14062586668006544, 0.139590289668108], \"source_val_label_loss\": [8.731297492980957, 0.508929967880249, 0.4661217927932739, 0.3696804642677307, 0.33514636754989624, 0.3676438331604004, 0.3179125487804413, 0.31354615092277527, 0.29124435782432556, 0.2885643541812897, 0.2814362347126007, 0.27902624011039734, 0.2784856855869293, 0.28225111961364746, 0.2802572250366211, 0.287691205739975, 0.27088895440101624, 0.2998642325401306, 0.29172712564468384], \"target_val_label_loss\": [716.3997802734375, 411.6346740722656, 482.355224609375, 638.6580810546875, 716.7444458007812, 809.7958984375, 904.5692749023438, 967.398193359375, 1028.355224609375, 1051.0672607421875, 1040.5150146484375, 1111.6173095703125, 1108.6494140625, 1150.4642333984375, 1173.85009765625, 1260.0224609375, 1315.1661376953125, 1340.659423828125, 1385.171630859375], \"source_val_acc_label\": [0.7833658854166666, 0.8144856770833333, 0.8309895833333333, 0.8708984375, 0.88212890625, 0.8734700520833333, 0.8853515625, 0.89228515625, 0.9002604166666667, 0.903125, 0.8992838541666667, 0.9044270833333333, 0.9022786458333333, 0.9063151041666667, 0.9073893229166666, 0.9080078125, 0.9083658854166666, 0.9042643229166667, 0.90732421875], \"target_val_acc_label\": [0.6255659989023051, 0.6412253018660812, 0.6734014818880352, 0.6906730241492866, 0.6985284028540066, 0.7006208836443468, 0.7022845773874863, 0.7033308177826564, 0.7023874862788145, 0.7013412458836443, 0.7031764544456641, 0.7157656421514819, 0.7038453622392975, 0.7149252195389681, 0.7267940450054885, 0.7203622392974753, 0.7010496706915478, 0.7175665477497256, 0.7180639407244785]}, \"dataset_metrics\": {\"source\": {\"train\": {\"n_unique_x\": 179200, \"n_unique_y\": 16, \"n_batch/episode\": 6720}, \"val\": {\"n_unique_x\": 38400, \"n_unique_y\": 16, \"n_batch/episode\": 960}, \"test\": {\"n_unique_x\": 38400, \"n_unique_y\": 16, \"n_batch/episode\": 960}}, \"target\": {\"train\": {\"n_unique_x\": 364204, \"n_unique_y\": 130, \"n_batch/episode\": 13168}, \"val\": {\"n_unique_x\": 77221, \"n_unique_y\": 130, \"n_batch/episode\": 1822}, \"test\": {\"n_unique_x\": 78360, \"n_unique_y\": 130, \"n_batch/episode\": 1854}}}}'"
      ]
     },
     "execution_count": 29,
     "metadata": {},
     "output_type": "execute_result"
    }
   ],
   "source": [
    "json.dumps(experiment)"
   ]
  }
 ],
 "metadata": {
  "celltoolbar": "Tags",
  "kernelspec": {
   "display_name": "Python 3 (ipykernel)",
   "language": "python",
   "name": "python3"
  },
  "language_info": {
   "codemirror_mode": {
    "name": "ipython",
    "version": 3
   },
   "file_extension": ".py",
   "mimetype": "text/x-python",
   "name": "python",
   "nbconvert_exporter": "python",
   "pygments_lexer": "ipython3",
   "version": "3.8.10"
  },
  "papermill": {
   "default_parameters": {},
   "duration": 3808.563886,
   "end_time": "2022-03-20T00:34:41.404162",
   "environment_variables": {},
   "exception": null,
   "input_path": "/mnt/wd500GB/CSC500/csc500-main/csc500-notebooks/templates/tl_ptn_template.ipynb",
   "output_path": "trial.ipynb",
   "parameters": {
    "parameters": {
     "BEST_MODEL_PATH": "./best_model.pth",
     "NUM_LOGS_PER_EPOCH": 10,
     "criteria_for_best": "target_accuracy",
     "dataset_seed": 7,
     "datasets": [
      {
       "domain_prefix": "C_",
       "domains": [
        1,
        2,
        3,
        4,
        5
       ],
       "episode_transforms": [],
       "labels": [
        "1-10.",
        "1-11.",
        "1-15.",
        "1-16.",
        "1-17.",
        "1-18.",
        "1-19.",
        "10-4.",
        "10-7.",
        "11-1.",
        "11-14.",
        "11-17.",
        "11-20.",
        "11-7.",
        "13-20.",
        "13-8.",
        "14-10.",
        "14-11.",
        "14-14.",
        "14-7.",
        "15-1.",
        "15-20.",
        "16-1.",
        "16-16.",
        "17-10.",
        "17-11.",
        "17-2.",
        "19-1.",
        "19-16.",
        "19-19.",
        "19-20.",
        "19-3.",
        "2-10.",
        "2-11.",
        "2-17.",
        "2-18.",
        "2-20.",
        "2-3.",
        "2-4.",
        "2-5.",
        "2-6.",
        "2-7.",
        "2-8.",
        "3-13.",
        "3-18.",
        "3-3.",
        "4-1.",
        "4-10.",
        "4-11.",
        "4-19.",
        "5-5.",
        "6-15.",
        "7-10.",
        "7-14.",
        "8-18.",
        "8-20.",
        "8-3.",
        "8-8."
       ],
       "num_examples_per_domain_per_label": -1,
       "pickle_path": "/mnt/wd500GB/CSC500/csc500-main/datasets/cores.stratified_ds.2022A.pkl",
       "source_or_target_dataset": "target",
       "x_transforms": [
        "unit_mag"
       ]
      },
      {
       "domain_prefix": "W_",
       "domains": [
        1,
        2,
        3,
        4
       ],
       "episode_transforms": [],
       "labels": [
        "1-10",
        "1-12",
        "1-14",
        "1-16",
        "1-18",
        "1-19",
        "1-8",
        "10-11",
        "10-17",
        "10-4",
        "10-7",
        "11-1",
        "11-10",
        "11-19",
        "11-20",
        "11-4",
        "11-7",
        "12-19",
        "12-20",
        "12-7",
        "13-14",
        "13-18",
        "13-19",
        "13-20",
        "13-3",
        "13-7",
        "14-10",
        "14-11",
        "14-12",
        "14-13",
        "14-14",
        "14-19",
        "14-20",
        "14-7",
        "14-8",
        "14-9",
        "15-1",
        "15-19",
        "15-6",
        "16-1",
        "16-16",
        "16-19",
        "16-20",
        "17-10",
        "17-11",
        "18-1",
        "18-10",
        "18-11",
        "18-12",
        "18-13",
        "18-14",
        "18-15",
        "18-16",
        "18-17",
        "18-19",
        "18-2",
        "18-20",
        "18-4",
        "18-5",
        "18-7",
        "18-8",
        "18-9",
        "19-1",
        "19-10",
        "19-11",
        "19-12",
        "19-13",
        "19-14",
        "19-15",
        "19-19",
        "19-2",
        "19-20",
        "19-3",
        "19-4",
        "19-6",
        "19-7",
        "19-8",
        "19-9",
        "2-1",
        "2-13",
        "2-15",
        "2-3",
        "2-4",
        "2-5",
        "2-6",
        "2-7",
        "2-8",
        "20-1",
        "20-12",
        "20-14",
        "20-15",
        "20-16",
        "20-18",
        "20-19",
        "20-20",
        "20-3",
        "20-4",
        "20-5",
        "20-7",
        "20-8",
        "3-1",
        "3-13",
        "3-18",
        "3-2",
        "3-8",
        "4-1",
        "4-10",
        "4-11",
        "5-1",
        "5-5",
        "6-1",
        "6-15",
        "6-6",
        "7-10",
        "7-11",
        "7-12",
        "7-13",
        "7-14",
        "7-7",
        "7-8",
        "7-9",
        "8-1",
        "8-13",
        "8-14",
        "8-18",
        "8-20",
        "8-3",
        "8-8",
        "9-1",
        "9-7"
       ],
       "num_examples_per_domain_per_label": -1,
       "pickle_path": "/mnt/wd500GB/CSC500/csc500-main/datasets/wisig.node3-19.stratified_ds.2022A.pkl",
       "source_or_target_dataset": "target",
       "x_transforms": [
        "unit_mag"
       ]
      },
      {
       "domain_prefix": "O_",
       "domains": [
        32,
        38,
        8,
        44,
        14,
        50,
        20,
        26
       ],
       "episode_transforms": [],
       "labels": [
        "3123D52",
        "3123D65",
        "3123D79",
        "3123D80",
        "3123D54",
        "3123D70",
        "3123D7B",
        "3123D89",
        "3123D58",
        "3123D76",
        "3123D7D",
        "3123EFE",
        "3123D64",
        "3123D78",
        "3123D7E",
        "3124E4A"
       ],
       "num_examples_per_domain_per_label": 2000,
       "pickle_path": "/mnt/wd500GB/CSC500/csc500-main/datasets/oracle.Run1_framed_2000Examples_stratified_ds.2022A.pkl",
       "source_or_target_dataset": "source",
       "x_transforms": [
        "unit_mag"
       ]
      }
     ],
     "device": "cuda",
     "experiment_name": "tl_2v2:oracle.run1.framed -> cores+wisig",
     "lr": 0.0001,
     "n_epoch": 50,
     "n_query": 2,
     "n_shot": 3,
     "n_way": 16,
     "patience": 3,
     "seed": 7,
     "test_k_factor": 2,
     "torch_default_dtype": "torch.float32",
     "train_k_factor": 3,
     "val_k_factor": 2,
     "x_net": [
      {
       "class": "nnReshape",
       "kargs": {
        "shape": [
         -1,
         1,
         2,
         256
        ]
       }
      },
      {
       "class": "Conv2d",
       "kargs": {
        "bias": false,
        "in_channels": 1,
        "kernel_size": [
         1,
         7
        ],
        "out_channels": 256,
        "padding": [
         0,
         3
        ]
       }
      },
      {
       "class": "ReLU",
       "kargs": {
        "inplace": true
       }
      },
      {
       "class": "BatchNorm2d",
       "kargs": {
        "num_features": 256
       }
      },
      {
       "class": "Conv2d",
       "kargs": {
        "bias": true,
        "in_channels": 256,
        "kernel_size": [
         2,
         7
        ],
        "out_channels": 80,
        "padding": [
         0,
         3
        ]
       }
      },
      {
       "class": "ReLU",
       "kargs": {
        "inplace": true
       }
      },
      {
       "class": "BatchNorm2d",
       "kargs": {
        "num_features": 80
       }
      },
      {
       "class": "Flatten",
       "kargs": {}
      },
      {
       "class": "Linear",
       "kargs": {
        "in_features": 20480,
        "out_features": 256
       }
      },
      {
       "class": "ReLU",
       "kargs": {
        "inplace": true
       }
      },
      {
       "class": "BatchNorm1d",
       "kargs": {
        "num_features": 256
       }
      },
      {
       "class": "Linear",
       "kargs": {
        "in_features": 256,
        "out_features": 256
       }
      }
     ]
    }
   },
   "start_time": "2022-03-19T23:31:12.840276",
   "version": "2.3.4"
  }
 },
 "nbformat": 4,
 "nbformat_minor": 5
}