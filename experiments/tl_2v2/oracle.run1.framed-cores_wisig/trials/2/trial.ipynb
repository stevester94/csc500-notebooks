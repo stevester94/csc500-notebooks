{
 "cells": [
  {
   "cell_type": "markdown",
   "id": "9fea5f46",
   "metadata": {
    "papermill": {
     "duration": 0.019962,
     "end_time": "2022-03-19T20:09:51.104147",
     "exception": false,
     "start_time": "2022-03-19T20:09:51.084185",
     "status": "completed"
    },
    "tags": []
   },
   "source": [
    "# Transfer Learning Template"
   ]
  },
  {
   "cell_type": "code",
   "execution_count": 1,
   "id": "0902182a",
   "metadata": {
    "execution": {
     "iopub.execute_input": "2022-03-19T20:09:51.144557Z",
     "iopub.status.busy": "2022-03-19T20:09:51.142532Z",
     "iopub.status.idle": "2022-03-19T20:09:52.146144Z",
     "shell.execute_reply": "2022-03-19T20:09:52.146560Z"
    },
    "papermill": {
     "duration": 1.0295,
     "end_time": "2022-03-19T20:09:52.146751",
     "exception": false,
     "start_time": "2022-03-19T20:09:51.117251",
     "status": "completed"
    },
    "tags": []
   },
   "outputs": [],
   "source": [
    "%load_ext autoreload\n",
    "%autoreload 2\n",
    "%matplotlib inline\n",
    "\n",
    "    \n",
    "import os, json, sys, time, random\n",
    "import numpy as np\n",
    "import torch\n",
    "from torch.optim import Adam\n",
    "from  easydict import EasyDict\n",
    "import matplotlib.pyplot as plt\n",
    "\n",
    "from steves_models.steves_ptn import Steves_Prototypical_Network\n",
    "\n",
    "from steves_utils.lazy_iterable_wrapper import Lazy_Iterable_Wrapper\n",
    "from steves_utils.iterable_aggregator import Iterable_Aggregator\n",
    "from steves_utils.ptn_train_eval_test_jig import  PTN_Train_Eval_Test_Jig\n",
    "from steves_utils.torch_sequential_builder import build_sequential\n",
    "from steves_utils.torch_utils import get_dataset_metrics, ptn_confusion_by_domain_over_dataloader\n",
    "from steves_utils.utils_v2 import (per_domain_accuracy_from_confusion, get_datasets_base_path)\n",
    "from steves_utils.PTN.utils import independent_accuracy_assesment\n",
    "\n",
    "from torch.utils.data import DataLoader\n",
    "\n",
    "from steves_utils.stratified_dataset.episodic_accessor import Episodic_Accessor_Factory\n",
    "\n",
    "from steves_utils.ptn_do_report import (\n",
    "    get_loss_curve,\n",
    "    get_results_table,\n",
    "    get_parameters_table,\n",
    "    get_domain_accuracies,\n",
    ")\n",
    "\n",
    "from steves_utils.transforms import get_chained_transform"
   ]
  },
  {
   "cell_type": "markdown",
   "id": "41c840b4",
   "metadata": {
    "papermill": {
     "duration": 0.013493,
     "end_time": "2022-03-19T20:09:52.183048",
     "exception": false,
     "start_time": "2022-03-19T20:09:52.169555",
     "status": "completed"
    },
    "tags": []
   },
   "source": [
    "# Allowed Parameters\n",
    "These are allowed parameters, not defaults\n",
    "Each of these values need to be present in the injected parameters (the notebook will raise an exception if they are not present)\n",
    "\n",
    "Papermill uses the cell tag \"parameters\" to inject the real parameters below this cell.\n",
    "Enable tags to see what I mean"
   ]
  },
  {
   "cell_type": "code",
   "execution_count": 2,
   "id": "fd44eb83",
   "metadata": {
    "execution": {
     "iopub.execute_input": "2022-03-19T20:09:52.211052Z",
     "iopub.status.busy": "2022-03-19T20:09:52.210793Z",
     "iopub.status.idle": "2022-03-19T20:09:52.226730Z",
     "shell.execute_reply": "2022-03-19T20:09:52.227153Z"
    },
    "papermill": {
     "duration": 0.031787,
     "end_time": "2022-03-19T20:09:52.227309",
     "exception": false,
     "start_time": "2022-03-19T20:09:52.195522",
     "status": "completed"
    },
    "tags": []
   },
   "outputs": [],
   "source": [
    "required_parameters = {\n",
    "    \"experiment_name\",\n",
    "    \"lr\",\n",
    "    \"device\",\n",
    "    \"seed\",\n",
    "    \"dataset_seed\",\n",
    "    \"n_shot\",\n",
    "    \"n_query\",\n",
    "    \"n_way\",\n",
    "    \"train_k_factor\",\n",
    "    \"val_k_factor\",\n",
    "    \"test_k_factor\",\n",
    "    \"n_epoch\",\n",
    "    \"patience\",\n",
    "    \"criteria_for_best\",\n",
    "    \"x_net\",\n",
    "    \"datasets\",\n",
    "    \"torch_default_dtype\",\n",
    "    \"NUM_LOGS_PER_EPOCH\",\n",
    "    \"BEST_MODEL_PATH\",\n",
    "    \"x_shape\",\n",
    "}"
   ]
  },
  {
   "cell_type": "code",
   "execution_count": 3,
   "id": "fa3f0049",
   "metadata": {
    "execution": {
     "iopub.execute_input": "2022-03-19T20:09:52.269747Z",
     "iopub.status.busy": "2022-03-19T20:09:52.260894Z",
     "iopub.status.idle": "2022-03-19T20:09:52.283241Z",
     "shell.execute_reply": "2022-03-19T20:09:52.283627Z"
    },
    "papermill": {
     "duration": 0.039476,
     "end_time": "2022-03-19T20:09:52.283764",
     "exception": false,
     "start_time": "2022-03-19T20:09:52.244288",
     "status": "completed"
    },
    "tags": [
     "parameters"
    ]
   },
   "outputs": [],
   "source": [
    "from steves_utils.CORES.utils import (\n",
    "    ALL_NODES,\n",
    "    ALL_NODES_MINIMUM_1000_EXAMPLES,\n",
    "    ALL_DAYS\n",
    ")\n",
    "\n",
    "from steves_utils.ORACLE.utils_v2 import (\n",
    "    ALL_DISTANCES_FEET_NARROWED,\n",
    "    ALL_RUNS,\n",
    "    ALL_SERIAL_NUMBERS,\n",
    ")\n",
    "\n",
    "standalone_parameters = {}\n",
    "standalone_parameters[\"experiment_name\"] = \"STANDALONE PTN\"\n",
    "standalone_parameters[\"lr\"] = 0.001\n",
    "standalone_parameters[\"device\"] = \"cuda\"\n",
    "\n",
    "standalone_parameters[\"seed\"] = 1337\n",
    "standalone_parameters[\"dataset_seed\"] = 1337\n",
    "\n",
    "standalone_parameters[\"n_way\"] = 8\n",
    "standalone_parameters[\"n_shot\"] = 3\n",
    "standalone_parameters[\"n_query\"]  = 2\n",
    "standalone_parameters[\"train_k_factor\"] = 1\n",
    "standalone_parameters[\"val_k_factor\"] = 2\n",
    "standalone_parameters[\"test_k_factor\"] = 2\n",
    "\n",
    "\n",
    "standalone_parameters[\"n_epoch\"] = 50\n",
    "\n",
    "standalone_parameters[\"patience\"] = 10\n",
    "standalone_parameters[\"criteria_for_best\"] = \"source_loss\"\n",
    "\n",
    "standalone_parameters[\"datasets\"] = [\n",
    "    {\n",
    "        \"labels\": ALL_SERIAL_NUMBERS,\n",
    "        \"domains\": ALL_DISTANCES_FEET_NARROWED,\n",
    "        \"num_examples_per_domain_per_label\": 100,\n",
    "        \"pickle_path\": os.path.join(get_datasets_base_path(), \"oracle.Run1_framed_2000Examples_stratified_ds.2022A.pkl\"),\n",
    "        \"source_or_target_dataset\": \"source\",\n",
    "        \"x_transforms\": [\"unit_mag\", \"minus_two\"],\n",
    "        \"episode_transforms\": [],\n",
    "        \"domain_prefix\": \"ORACLE_\"\n",
    "    },\n",
    "    {\n",
    "        \"labels\": ALL_NODES,\n",
    "        \"domains\": ALL_DAYS,\n",
    "        \"num_examples_per_domain_per_label\": 100,\n",
    "        \"pickle_path\": os.path.join(get_datasets_base_path(), \"cores.stratified_ds.2022A.pkl\"),\n",
    "        \"source_or_target_dataset\": \"target\",\n",
    "        \"x_transforms\": [\"unit_power\", \"times_zero\"],\n",
    "        \"episode_transforms\": [],\n",
    "        \"domain_prefix\": \"CORES_\"\n",
    "    }   \n",
    "]\n",
    "\n",
    "standalone_parameters[\"torch_default_dtype\"] = \"torch.float32\" \n",
    "\n",
    "\n",
    "\n",
    "standalone_parameters[\"x_net\"] =     [\n",
    "    {\"class\": \"nnReshape\", \"kargs\": {\"shape\":[-1, 1, 2, 256]}},\n",
    "    {\"class\": \"Conv2d\", \"kargs\": { \"in_channels\":1, \"out_channels\":256, \"kernel_size\":(1,7), \"bias\":False, \"padding\":(0,3), },},\n",
    "    {\"class\": \"ReLU\", \"kargs\": {\"inplace\": True}},\n",
    "    {\"class\": \"BatchNorm2d\", \"kargs\": {\"num_features\":256}},\n",
    "\n",
    "    {\"class\": \"Conv2d\", \"kargs\": { \"in_channels\":256, \"out_channels\":80, \"kernel_size\":(2,7), \"bias\":True, \"padding\":(0,3), },},\n",
    "    {\"class\": \"ReLU\", \"kargs\": {\"inplace\": True}},\n",
    "    {\"class\": \"BatchNorm2d\", \"kargs\": {\"num_features\":80}},\n",
    "    {\"class\": \"Flatten\", \"kargs\": {}},\n",
    "\n",
    "    {\"class\": \"Linear\", \"kargs\": {\"in_features\": 80*256, \"out_features\": 256}}, # 80 units per IQ pair\n",
    "    {\"class\": \"ReLU\", \"kargs\": {\"inplace\": True}},\n",
    "    {\"class\": \"BatchNorm1d\", \"kargs\": {\"num_features\":256}},\n",
    "\n",
    "    {\"class\": \"Linear\", \"kargs\": {\"in_features\": 256, \"out_features\": 256}},\n",
    "]\n",
    "\n",
    "# Parameters relevant to results\n",
    "# These parameters will basically never need to change\n",
    "standalone_parameters[\"NUM_LOGS_PER_EPOCH\"] = 10\n",
    "standalone_parameters[\"BEST_MODEL_PATH\"] = \"./best_model.pth\"\n",
    "\n",
    "\n",
    "\n",
    "\n"
   ]
  },
  {
   "cell_type": "code",
   "execution_count": 4,
   "id": "e671bf37",
   "metadata": {
    "execution": {
     "iopub.execute_input": "2022-03-19T20:09:52.325977Z",
     "iopub.status.busy": "2022-03-19T20:09:52.325345Z",
     "iopub.status.idle": "2022-03-19T20:09:52.338775Z",
     "shell.execute_reply": "2022-03-19T20:09:52.339181Z"
    },
    "papermill": {
     "duration": 0.038695,
     "end_time": "2022-03-19T20:09:52.339339",
     "exception": false,
     "start_time": "2022-03-19T20:09:52.300644",
     "status": "completed"
    },
    "tags": [
     "injected-parameters"
    ]
   },
   "outputs": [],
   "source": [
    "# Parameters\n",
    "parameters = {\n",
    "    \"experiment_name\": \"tl_2v2:oracle.run1.framed -> cores+wisig\",\n",
    "    \"device\": \"cuda\",\n",
    "    \"lr\": 0.0001,\n",
    "    \"n_shot\": 3,\n",
    "    \"n_query\": 2,\n",
    "    \"train_k_factor\": 3,\n",
    "    \"val_k_factor\": 2,\n",
    "    \"test_k_factor\": 2,\n",
    "    \"torch_default_dtype\": \"torch.float32\",\n",
    "    \"n_epoch\": 50,\n",
    "    \"patience\": 3,\n",
    "    \"criteria_for_best\": \"target_accuracy\",\n",
    "    \"x_net\": [\n",
    "        {\"class\": \"nnReshape\", \"kargs\": {\"shape\": [-1, 1, 2, 256]}},\n",
    "        {\n",
    "            \"class\": \"Conv2d\",\n",
    "            \"kargs\": {\n",
    "                \"in_channels\": 1,\n",
    "                \"out_channels\": 256,\n",
    "                \"kernel_size\": [1, 7],\n",
    "                \"bias\": False,\n",
    "                \"padding\": [0, 3],\n",
    "            },\n",
    "        },\n",
    "        {\"class\": \"ReLU\", \"kargs\": {\"inplace\": True}},\n",
    "        {\"class\": \"BatchNorm2d\", \"kargs\": {\"num_features\": 256}},\n",
    "        {\n",
    "            \"class\": \"Conv2d\",\n",
    "            \"kargs\": {\n",
    "                \"in_channels\": 256,\n",
    "                \"out_channels\": 80,\n",
    "                \"kernel_size\": [2, 7],\n",
    "                \"bias\": True,\n",
    "                \"padding\": [0, 3],\n",
    "            },\n",
    "        },\n",
    "        {\"class\": \"ReLU\", \"kargs\": {\"inplace\": True}},\n",
    "        {\"class\": \"BatchNorm2d\", \"kargs\": {\"num_features\": 80}},\n",
    "        {\"class\": \"Flatten\", \"kargs\": {}},\n",
    "        {\"class\": \"Linear\", \"kargs\": {\"in_features\": 20480, \"out_features\": 256}},\n",
    "        {\"class\": \"ReLU\", \"kargs\": {\"inplace\": True}},\n",
    "        {\"class\": \"BatchNorm1d\", \"kargs\": {\"num_features\": 256}},\n",
    "        {\"class\": \"Linear\", \"kargs\": {\"in_features\": 256, \"out_features\": 256}},\n",
    "    ],\n",
    "    \"NUM_LOGS_PER_EPOCH\": 10,\n",
    "    \"BEST_MODEL_PATH\": \"./best_model.pth\",\n",
    "    \"n_way\": 16,\n",
    "    \"datasets\": [\n",
    "        {\n",
    "            \"labels\": [\n",
    "                \"1-10.\",\n",
    "                \"1-11.\",\n",
    "                \"1-15.\",\n",
    "                \"1-16.\",\n",
    "                \"1-17.\",\n",
    "                \"1-18.\",\n",
    "                \"1-19.\",\n",
    "                \"10-4.\",\n",
    "                \"10-7.\",\n",
    "                \"11-1.\",\n",
    "                \"11-14.\",\n",
    "                \"11-17.\",\n",
    "                \"11-20.\",\n",
    "                \"11-7.\",\n",
    "                \"13-20.\",\n",
    "                \"13-8.\",\n",
    "                \"14-10.\",\n",
    "                \"14-11.\",\n",
    "                \"14-14.\",\n",
    "                \"14-7.\",\n",
    "                \"15-1.\",\n",
    "                \"15-20.\",\n",
    "                \"16-1.\",\n",
    "                \"16-16.\",\n",
    "                \"17-10.\",\n",
    "                \"17-11.\",\n",
    "                \"17-2.\",\n",
    "                \"19-1.\",\n",
    "                \"19-16.\",\n",
    "                \"19-19.\",\n",
    "                \"19-20.\",\n",
    "                \"19-3.\",\n",
    "                \"2-10.\",\n",
    "                \"2-11.\",\n",
    "                \"2-17.\",\n",
    "                \"2-18.\",\n",
    "                \"2-20.\",\n",
    "                \"2-3.\",\n",
    "                \"2-4.\",\n",
    "                \"2-5.\",\n",
    "                \"2-6.\",\n",
    "                \"2-7.\",\n",
    "                \"2-8.\",\n",
    "                \"3-13.\",\n",
    "                \"3-18.\",\n",
    "                \"3-3.\",\n",
    "                \"4-1.\",\n",
    "                \"4-10.\",\n",
    "                \"4-11.\",\n",
    "                \"4-19.\",\n",
    "                \"5-5.\",\n",
    "                \"6-15.\",\n",
    "                \"7-10.\",\n",
    "                \"7-14.\",\n",
    "                \"8-18.\",\n",
    "                \"8-20.\",\n",
    "                \"8-3.\",\n",
    "                \"8-8.\",\n",
    "            ],\n",
    "            \"domains\": [1, 2, 3, 4, 5],\n",
    "            \"num_examples_per_domain_per_label\": -1,\n",
    "            \"pickle_path\": \"/mnt/wd500GB/CSC500/csc500-main/datasets/cores.stratified_ds.2022A.pkl\",\n",
    "            \"source_or_target_dataset\": \"target\",\n",
    "            \"x_transforms\": [],\n",
    "            \"episode_transforms\": [],\n",
    "            \"domain_prefix\": \"C_\",\n",
    "        },\n",
    "        {\n",
    "            \"labels\": [\n",
    "                \"1-10\",\n",
    "                \"1-12\",\n",
    "                \"1-14\",\n",
    "                \"1-16\",\n",
    "                \"1-18\",\n",
    "                \"1-19\",\n",
    "                \"1-8\",\n",
    "                \"10-11\",\n",
    "                \"10-17\",\n",
    "                \"10-4\",\n",
    "                \"10-7\",\n",
    "                \"11-1\",\n",
    "                \"11-10\",\n",
    "                \"11-19\",\n",
    "                \"11-20\",\n",
    "                \"11-4\",\n",
    "                \"11-7\",\n",
    "                \"12-19\",\n",
    "                \"12-20\",\n",
    "                \"12-7\",\n",
    "                \"13-14\",\n",
    "                \"13-18\",\n",
    "                \"13-19\",\n",
    "                \"13-20\",\n",
    "                \"13-3\",\n",
    "                \"13-7\",\n",
    "                \"14-10\",\n",
    "                \"14-11\",\n",
    "                \"14-12\",\n",
    "                \"14-13\",\n",
    "                \"14-14\",\n",
    "                \"14-19\",\n",
    "                \"14-20\",\n",
    "                \"14-7\",\n",
    "                \"14-8\",\n",
    "                \"14-9\",\n",
    "                \"15-1\",\n",
    "                \"15-19\",\n",
    "                \"15-6\",\n",
    "                \"16-1\",\n",
    "                \"16-16\",\n",
    "                \"16-19\",\n",
    "                \"16-20\",\n",
    "                \"17-10\",\n",
    "                \"17-11\",\n",
    "                \"18-1\",\n",
    "                \"18-10\",\n",
    "                \"18-11\",\n",
    "                \"18-12\",\n",
    "                \"18-13\",\n",
    "                \"18-14\",\n",
    "                \"18-15\",\n",
    "                \"18-16\",\n",
    "                \"18-17\",\n",
    "                \"18-19\",\n",
    "                \"18-2\",\n",
    "                \"18-20\",\n",
    "                \"18-4\",\n",
    "                \"18-5\",\n",
    "                \"18-7\",\n",
    "                \"18-8\",\n",
    "                \"18-9\",\n",
    "                \"19-1\",\n",
    "                \"19-10\",\n",
    "                \"19-11\",\n",
    "                \"19-12\",\n",
    "                \"19-13\",\n",
    "                \"19-14\",\n",
    "                \"19-15\",\n",
    "                \"19-19\",\n",
    "                \"19-2\",\n",
    "                \"19-20\",\n",
    "                \"19-3\",\n",
    "                \"19-4\",\n",
    "                \"19-6\",\n",
    "                \"19-7\",\n",
    "                \"19-8\",\n",
    "                \"19-9\",\n",
    "                \"2-1\",\n",
    "                \"2-13\",\n",
    "                \"2-15\",\n",
    "                \"2-3\",\n",
    "                \"2-4\",\n",
    "                \"2-5\",\n",
    "                \"2-6\",\n",
    "                \"2-7\",\n",
    "                \"2-8\",\n",
    "                \"20-1\",\n",
    "                \"20-12\",\n",
    "                \"20-14\",\n",
    "                \"20-15\",\n",
    "                \"20-16\",\n",
    "                \"20-18\",\n",
    "                \"20-19\",\n",
    "                \"20-20\",\n",
    "                \"20-3\",\n",
    "                \"20-4\",\n",
    "                \"20-5\",\n",
    "                \"20-7\",\n",
    "                \"20-8\",\n",
    "                \"3-1\",\n",
    "                \"3-13\",\n",
    "                \"3-18\",\n",
    "                \"3-2\",\n",
    "                \"3-8\",\n",
    "                \"4-1\",\n",
    "                \"4-10\",\n",
    "                \"4-11\",\n",
    "                \"5-1\",\n",
    "                \"5-5\",\n",
    "                \"6-1\",\n",
    "                \"6-15\",\n",
    "                \"6-6\",\n",
    "                \"7-10\",\n",
    "                \"7-11\",\n",
    "                \"7-12\",\n",
    "                \"7-13\",\n",
    "                \"7-14\",\n",
    "                \"7-7\",\n",
    "                \"7-8\",\n",
    "                \"7-9\",\n",
    "                \"8-1\",\n",
    "                \"8-13\",\n",
    "                \"8-14\",\n",
    "                \"8-18\",\n",
    "                \"8-20\",\n",
    "                \"8-3\",\n",
    "                \"8-8\",\n",
    "                \"9-1\",\n",
    "                \"9-7\",\n",
    "            ],\n",
    "            \"domains\": [1, 2, 3, 4],\n",
    "            \"num_examples_per_domain_per_label\": -1,\n",
    "            \"pickle_path\": \"/mnt/wd500GB/CSC500/csc500-main/datasets/wisig.node3-19.stratified_ds.2022A.pkl\",\n",
    "            \"source_or_target_dataset\": \"target\",\n",
    "            \"x_transforms\": [],\n",
    "            \"episode_transforms\": [],\n",
    "            \"domain_prefix\": \"W_\",\n",
    "        },\n",
    "        {\n",
    "            \"labels\": [\n",
    "                \"3123D52\",\n",
    "                \"3123D65\",\n",
    "                \"3123D79\",\n",
    "                \"3123D80\",\n",
    "                \"3123D54\",\n",
    "                \"3123D70\",\n",
    "                \"3123D7B\",\n",
    "                \"3123D89\",\n",
    "                \"3123D58\",\n",
    "                \"3123D76\",\n",
    "                \"3123D7D\",\n",
    "                \"3123EFE\",\n",
    "                \"3123D64\",\n",
    "                \"3123D78\",\n",
    "                \"3123D7E\",\n",
    "                \"3124E4A\",\n",
    "            ],\n",
    "            \"domains\": [32, 38, 8, 44, 14, 50, 20, 26],\n",
    "            \"num_examples_per_domain_per_label\": 2000,\n",
    "            \"pickle_path\": \"/mnt/wd500GB/CSC500/csc500-main/datasets/oracle.Run1_framed_2000Examples_stratified_ds.2022A.pkl\",\n",
    "            \"source_or_target_dataset\": \"source\",\n",
    "            \"x_transforms\": [],\n",
    "            \"episode_transforms\": [],\n",
    "            \"domain_prefix\": \"O_\",\n",
    "        },\n",
    "    ],\n",
    "    \"seed\": 1337,\n",
    "    \"dataset_seed\": 1337,\n",
    "}\n"
   ]
  },
  {
   "cell_type": "code",
   "execution_count": 5,
   "id": "8fa1cc33",
   "metadata": {
    "execution": {
     "iopub.execute_input": "2022-03-19T20:09:52.374226Z",
     "iopub.status.busy": "2022-03-19T20:09:52.373967Z",
     "iopub.status.idle": "2022-03-19T20:09:52.387169Z",
     "shell.execute_reply": "2022-03-19T20:09:52.387499Z"
    },
    "papermill": {
     "duration": 0.030729,
     "end_time": "2022-03-19T20:09:52.387602",
     "exception": false,
     "start_time": "2022-03-19T20:09:52.356873",
     "status": "completed"
    },
    "tags": []
   },
   "outputs": [],
   "source": [
    "# Set this to True if you want to run this template directly\n",
    "STANDALONE = False\n",
    "if STANDALONE:\n",
    "    print(\"parameters not injected, running with standalone_parameters\")\n",
    "    parameters = standalone_parameters\n",
    "\n",
    "if not 'parameters' in locals() and not 'parameters' in globals():\n",
    "    raise Exception(\"Parameter injection failed\")\n",
    "\n",
    "#Use an easy dict for all the parameters\n",
    "p = EasyDict(parameters)\n",
    "\n",
    "if \"x_shape\" not in p:\n",
    "    p.x_shape = [2,256] # Default to this if we dont supply x_shape\n",
    "\n",
    "\n",
    "supplied_keys = set(p.keys())\n",
    "\n",
    "if  supplied_keys != required_parameters:\n",
    "    print(\"Parameters are incorrect\")\n",
    "    if len(supplied_keys - required_parameters)>0: print(\"Shouldn't have:\", str(supplied_keys - required_parameters))\n",
    "    if len(required_parameters - supplied_keys)>0: print(\"Need to have:\", str(required_parameters - supplied_keys))\n",
    "    raise RuntimeError(\"Parameters are incorrect\")"
   ]
  },
  {
   "cell_type": "code",
   "execution_count": 6,
   "id": "3a028d58",
   "metadata": {
    "execution": {
     "iopub.execute_input": "2022-03-19T20:09:52.422273Z",
     "iopub.status.busy": "2022-03-19T20:09:52.421973Z",
     "iopub.status.idle": "2022-03-19T20:09:52.436776Z",
     "shell.execute_reply": "2022-03-19T20:09:52.437175Z"
    },
    "papermill": {
     "duration": 0.030625,
     "end_time": "2022-03-19T20:09:52.437304",
     "exception": false,
     "start_time": "2022-03-19T20:09:52.406679",
     "status": "completed"
    },
    "tags": []
   },
   "outputs": [],
   "source": [
    "###################################\n",
    "# Set the RNGs and make it all deterministic\n",
    "###################################\n",
    "np.random.seed(p.seed)\n",
    "random.seed(p.seed)\n",
    "torch.manual_seed(p.seed)\n",
    "\n",
    "torch.use_deterministic_algorithms(True) "
   ]
  },
  {
   "cell_type": "code",
   "execution_count": 7,
   "id": "b691acf6",
   "metadata": {
    "execution": {
     "iopub.execute_input": "2022-03-19T20:09:52.471000Z",
     "iopub.status.busy": "2022-03-19T20:09:52.470722Z",
     "iopub.status.idle": "2022-03-19T20:09:52.485114Z",
     "shell.execute_reply": "2022-03-19T20:09:52.484667Z"
    },
    "papermill": {
     "duration": 0.029723,
     "end_time": "2022-03-19T20:09:52.485224",
     "exception": false,
     "start_time": "2022-03-19T20:09:52.455501",
     "status": "completed"
    },
    "tags": []
   },
   "outputs": [],
   "source": [
    "###########################################\n",
    "# The stratified datasets honor this\n",
    "###########################################\n",
    "torch.set_default_dtype(eval(p.torch_default_dtype))"
   ]
  },
  {
   "cell_type": "code",
   "execution_count": 8,
   "id": "b5fba671",
   "metadata": {
    "execution": {
     "iopub.execute_input": "2022-03-19T20:09:52.519088Z",
     "iopub.status.busy": "2022-03-19T20:09:52.518831Z",
     "iopub.status.idle": "2022-03-19T20:09:52.560785Z",
     "shell.execute_reply": "2022-03-19T20:09:52.561196Z"
    },
    "papermill": {
     "duration": 0.057575,
     "end_time": "2022-03-19T20:09:52.561332",
     "exception": false,
     "start_time": "2022-03-19T20:09:52.503757",
     "status": "completed"
    },
    "tags": []
   },
   "outputs": [],
   "source": [
    "###################################\n",
    "# Build the network(s)\n",
    "# Note: It's critical to do this AFTER setting the RNG\n",
    "###################################\n",
    "x_net = build_sequential(p.x_net)"
   ]
  },
  {
   "cell_type": "code",
   "execution_count": 9,
   "id": "5d7e61cc",
   "metadata": {
    "execution": {
     "iopub.execute_input": "2022-03-19T20:09:52.596106Z",
     "iopub.status.busy": "2022-03-19T20:09:52.595713Z",
     "iopub.status.idle": "2022-03-19T20:09:52.607182Z",
     "shell.execute_reply": "2022-03-19T20:09:52.607493Z"
    },
    "papermill": {
     "duration": 0.027511,
     "end_time": "2022-03-19T20:09:52.607594",
     "exception": false,
     "start_time": "2022-03-19T20:09:52.580083",
     "status": "completed"
    },
    "tags": []
   },
   "outputs": [],
   "source": [
    "start_time_secs = time.time()"
   ]
  },
  {
   "cell_type": "code",
   "execution_count": 10,
   "id": "c6b67dfd",
   "metadata": {
    "execution": {
     "iopub.execute_input": "2022-03-19T20:09:52.637413Z",
     "iopub.status.busy": "2022-03-19T20:09:52.637161Z",
     "iopub.status.idle": "2022-03-19T20:09:52.653359Z",
     "shell.execute_reply": "2022-03-19T20:09:52.653760Z"
    },
    "papermill": {
     "duration": 0.032606,
     "end_time": "2022-03-19T20:09:52.653888",
     "exception": false,
     "start_time": "2022-03-19T20:09:52.621282",
     "status": "completed"
    },
    "tags": []
   },
   "outputs": [],
   "source": [
    "p.domains_source = []\n",
    "p.domains_target = []\n",
    "\n",
    "\n",
    "train_original_source = []\n",
    "val_original_source   = []\n",
    "test_original_source  = []\n",
    "\n",
    "train_original_target = []\n",
    "val_original_target   = []\n",
    "test_original_target  = []"
   ]
  },
  {
   "cell_type": "code",
   "execution_count": 11,
   "id": "e3d9c3d3",
   "metadata": {
    "execution": {
     "iopub.execute_input": "2022-03-19T20:09:52.688576Z",
     "iopub.status.busy": "2022-03-19T20:09:52.688324Z",
     "iopub.status.idle": "2022-03-19T20:09:52.703086Z",
     "shell.execute_reply": "2022-03-19T20:09:52.702672Z"
    },
    "papermill": {
     "duration": 0.030222,
     "end_time": "2022-03-19T20:09:52.703188",
     "exception": false,
     "start_time": "2022-03-19T20:09:52.672966",
     "status": "completed"
    },
    "tags": []
   },
   "outputs": [],
   "source": [
    "# global_x_transform_func = lambda x: normalize(x.to(torch.get_default_dtype()), \"unit_power\") # unit_power, unit_mag\n",
    "# global_x_transform_func = lambda x: normalize(x, \"unit_power\") # unit_power, unit_mag"
   ]
  },
  {
   "cell_type": "code",
   "execution_count": 12,
   "id": "acb78fd2",
   "metadata": {
    "execution": {
     "iopub.execute_input": "2022-03-19T20:09:52.743872Z",
     "iopub.status.busy": "2022-03-19T20:09:52.743607Z",
     "iopub.status.idle": "2022-03-19T20:09:52.755725Z",
     "shell.execute_reply": "2022-03-19T20:09:52.756100Z"
    },
    "papermill": {
     "duration": 0.033358,
     "end_time": "2022-03-19T20:09:52.756231",
     "exception": false,
     "start_time": "2022-03-19T20:09:52.722873",
     "status": "completed"
    },
    "tags": []
   },
   "outputs": [],
   "source": [
    "def add_dataset(\n",
    "    labels,\n",
    "    domains,\n",
    "    pickle_path,\n",
    "    x_transforms,\n",
    "    episode_transforms,\n",
    "    domain_prefix,\n",
    "    num_examples_per_domain_per_label,\n",
    "    source_or_target_dataset:str,\n",
    "    iterator_seed=p.seed,\n",
    "    dataset_seed=p.dataset_seed,\n",
    "    n_shot=p.n_shot,\n",
    "    n_way=p.n_way,\n",
    "    n_query=p.n_query,\n",
    "    train_val_test_k_factors=(p.train_k_factor,p.val_k_factor,p.test_k_factor),\n",
    "):\n",
    "   \n",
    "    if x_transforms == []: x_transform = None\n",
    "    else: x_transform = get_chained_transform(x_transforms)\n",
    "    \n",
    "    if episode_transforms == []: episode_transform = None\n",
    "    else: raise Exception(\"episode_transforms not implemented\")\n",
    "    \n",
    "    episode_transform = lambda tup, _prefix=domain_prefix: (_prefix + str(tup[0]), tup[1])\n",
    "\n",
    "\n",
    "    eaf = Episodic_Accessor_Factory(\n",
    "        labels=labels,\n",
    "        domains=domains,\n",
    "        num_examples_per_domain_per_label=num_examples_per_domain_per_label,\n",
    "        iterator_seed=iterator_seed,\n",
    "        dataset_seed=dataset_seed,\n",
    "        n_shot=n_shot,\n",
    "        n_way=n_way,\n",
    "        n_query=n_query,\n",
    "        train_val_test_k_factors=train_val_test_k_factors,\n",
    "        pickle_path=pickle_path,\n",
    "        x_transform_func=x_transform,\n",
    "    )\n",
    "\n",
    "    train, val, test = eaf.get_train(), eaf.get_val(), eaf.get_test()\n",
    "    train = Lazy_Iterable_Wrapper(train, episode_transform)\n",
    "    val = Lazy_Iterable_Wrapper(val, episode_transform)\n",
    "    test = Lazy_Iterable_Wrapper(test, episode_transform)\n",
    "\n",
    "    if source_or_target_dataset==\"source\":\n",
    "        train_original_source.append(train)\n",
    "        val_original_source.append(val)\n",
    "        test_original_source.append(test)\n",
    "\n",
    "        p.domains_source.extend(\n",
    "            [domain_prefix + str(u) for u in domains]\n",
    "        )\n",
    "    elif source_or_target_dataset==\"target\":\n",
    "        train_original_target.append(train)\n",
    "        val_original_target.append(val)\n",
    "        test_original_target.append(test)\n",
    "        p.domains_target.extend(\n",
    "            [domain_prefix + str(u) for u in domains]\n",
    "        )\n",
    "    else:\n",
    "        raise Exception(f\"invalid source_or_target_dataset: {source_or_target_dataset}\")\n",
    "    "
   ]
  },
  {
   "cell_type": "code",
   "execution_count": 13,
   "id": "fe266617",
   "metadata": {
    "execution": {
     "iopub.execute_input": "2022-03-19T20:09:52.789482Z",
     "iopub.status.busy": "2022-03-19T20:09:52.789219Z",
     "iopub.status.idle": "2022-03-19T20:09:56.101411Z",
     "shell.execute_reply": "2022-03-19T20:09:56.100966Z"
    },
    "papermill": {
     "duration": 3.327852,
     "end_time": "2022-03-19T20:09:56.101516",
     "exception": false,
     "start_time": "2022-03-19T20:09:52.773664",
     "status": "completed"
    },
    "tags": []
   },
   "outputs": [],
   "source": [
    "for ds in p.datasets:\n",
    "    add_dataset(**ds)"
   ]
  },
  {
   "cell_type": "code",
   "execution_count": 14,
   "id": "b90d65ac",
   "metadata": {
    "execution": {
     "iopub.execute_input": "2022-03-19T20:09:56.135151Z",
     "iopub.status.busy": "2022-03-19T20:09:56.134871Z",
     "iopub.status.idle": "2022-03-19T20:09:56.150413Z",
     "shell.execute_reply": "2022-03-19T20:09:56.149956Z"
    },
    "papermill": {
     "duration": 0.032154,
     "end_time": "2022-03-19T20:09:56.150524",
     "exception": false,
     "start_time": "2022-03-19T20:09:56.118370",
     "status": "completed"
    },
    "tags": []
   },
   "outputs": [],
   "source": [
    "# from steves_utils.CORES.utils import (\n",
    "#     ALL_NODES,\n",
    "#     ALL_NODES_MINIMUM_1000_EXAMPLES,\n",
    "#     ALL_DAYS\n",
    "# )\n",
    "\n",
    "# add_dataset(\n",
    "#     labels=ALL_NODES,\n",
    "#     domains = ALL_DAYS,\n",
    "#     num_examples_per_domain_per_label=100,\n",
    "#     pickle_path=os.path.join(get_datasets_base_path(), \"cores.stratified_ds.2022A.pkl\"),\n",
    "#     source_or_target_dataset=\"target\",\n",
    "#     x_transform_func=global_x_transform_func,\n",
    "#     domain_modifier=lambda u: f\"cores_{u}\"\n",
    "# )"
   ]
  },
  {
   "cell_type": "code",
   "execution_count": 15,
   "id": "76db484d",
   "metadata": {
    "execution": {
     "iopub.execute_input": "2022-03-19T20:09:56.191993Z",
     "iopub.status.busy": "2022-03-19T20:09:56.184414Z",
     "iopub.status.idle": "2022-03-19T20:09:56.198669Z",
     "shell.execute_reply": "2022-03-19T20:09:56.198450Z"
    },
    "papermill": {
     "duration": 0.029763,
     "end_time": "2022-03-19T20:09:56.198720",
     "exception": false,
     "start_time": "2022-03-19T20:09:56.168957",
     "status": "completed"
    },
    "tags": []
   },
   "outputs": [],
   "source": [
    "# from steves_utils.ORACLE.utils_v2 import (\n",
    "#     ALL_DISTANCES_FEET,\n",
    "#     ALL_RUNS,\n",
    "#     ALL_SERIAL_NUMBERS,\n",
    "# )\n",
    "\n",
    "\n",
    "# add_dataset(\n",
    "#     labels=ALL_SERIAL_NUMBERS,\n",
    "#     domains = list(set(ALL_DISTANCES_FEET) - {2,62}),\n",
    "#     num_examples_per_domain_per_label=100,\n",
    "#     pickle_path=os.path.join(get_datasets_base_path(), \"oracle.Run2_framed_2000Examples_stratified_ds.2022A.pkl\"),\n",
    "#     source_or_target_dataset=\"source\",\n",
    "#     x_transform_func=global_x_transform_func,\n",
    "#     domain_modifier=lambda u: f\"oracle1_{u}\"\n",
    "# )\n"
   ]
  },
  {
   "cell_type": "code",
   "execution_count": 16,
   "id": "97dea9d2",
   "metadata": {
    "execution": {
     "iopub.execute_input": "2022-03-19T20:09:56.229390Z",
     "iopub.status.busy": "2022-03-19T20:09:56.227092Z",
     "iopub.status.idle": "2022-03-19T20:09:56.243574Z",
     "shell.execute_reply": "2022-03-19T20:09:56.243154Z"
    },
    "papermill": {
     "duration": 0.031393,
     "end_time": "2022-03-19T20:09:56.243667",
     "exception": false,
     "start_time": "2022-03-19T20:09:56.212274",
     "status": "completed"
    },
    "tags": []
   },
   "outputs": [],
   "source": [
    "# from steves_utils.ORACLE.utils_v2 import (\n",
    "#     ALL_DISTANCES_FEET,\n",
    "#     ALL_RUNS,\n",
    "#     ALL_SERIAL_NUMBERS,\n",
    "# )\n",
    "\n",
    "\n",
    "# add_dataset(\n",
    "#     labels=ALL_SERIAL_NUMBERS,\n",
    "#     domains = list(set(ALL_DISTANCES_FEET) - {2,62,56}),\n",
    "#     num_examples_per_domain_per_label=100,\n",
    "#     pickle_path=os.path.join(get_datasets_base_path(), \"oracle.Run2_framed_2000Examples_stratified_ds.2022A.pkl\"),\n",
    "#     source_or_target_dataset=\"source\",\n",
    "#     x_transform_func=global_x_transform_func,\n",
    "#     domain_modifier=lambda u: f\"oracle2_{u}\"\n",
    "# )"
   ]
  },
  {
   "cell_type": "code",
   "execution_count": 17,
   "id": "6f289866",
   "metadata": {
    "execution": {
     "iopub.execute_input": "2022-03-19T20:09:56.283179Z",
     "iopub.status.busy": "2022-03-19T20:09:56.276419Z",
     "iopub.status.idle": "2022-03-19T20:09:56.290097Z",
     "shell.execute_reply": "2022-03-19T20:09:56.289777Z"
    },
    "papermill": {
     "duration": 0.029278,
     "end_time": "2022-03-19T20:09:56.290173",
     "exception": false,
     "start_time": "2022-03-19T20:09:56.260895",
     "status": "completed"
    },
    "tags": []
   },
   "outputs": [],
   "source": [
    "# add_dataset(\n",
    "#     labels=list(range(19)),\n",
    "#     domains = [0,1,2],\n",
    "#     num_examples_per_domain_per_label=100,\n",
    "#     pickle_path=os.path.join(get_datasets_base_path(), \"metehan.stratified_ds.2022A.pkl\"),\n",
    "#     source_or_target_dataset=\"target\",\n",
    "#     x_transform_func=global_x_transform_func,\n",
    "#     domain_modifier=lambda u: f\"met_{u}\"\n",
    "# )"
   ]
  },
  {
   "cell_type": "code",
   "execution_count": 18,
   "id": "86a863c3",
   "metadata": {
    "execution": {
     "iopub.execute_input": "2022-03-19T20:09:56.323295Z",
     "iopub.status.busy": "2022-03-19T20:09:56.322998Z",
     "iopub.status.idle": "2022-03-19T20:09:56.337216Z",
     "shell.execute_reply": "2022-03-19T20:09:56.336847Z"
    },
    "papermill": {
     "duration": 0.029574,
     "end_time": "2022-03-19T20:09:56.337311",
     "exception": false,
     "start_time": "2022-03-19T20:09:56.307737",
     "status": "completed"
    },
    "tags": []
   },
   "outputs": [],
   "source": [
    "# # from steves_utils.wisig.utils import (\n",
    "# #     ALL_NODES_MINIMUM_100_EXAMPLES,\n",
    "# #     ALL_NODES_MINIMUM_500_EXAMPLES,\n",
    "# #     ALL_NODES_MINIMUM_1000_EXAMPLES,\n",
    "# #     ALL_DAYS\n",
    "# # )\n",
    "\n",
    "# import steves_utils.wisig.utils as wisig\n",
    "\n",
    "\n",
    "# add_dataset(\n",
    "#     labels=wisig.ALL_NODES_MINIMUM_100_EXAMPLES,\n",
    "#     domains = wisig.ALL_DAYS,\n",
    "#     num_examples_per_domain_per_label=100,\n",
    "#     pickle_path=os.path.join(get_datasets_base_path(), \"wisig.node3-19.stratified_ds.2022A.pkl\"),\n",
    "#     source_or_target_dataset=\"target\",\n",
    "#     x_transform_func=global_x_transform_func,\n",
    "#     domain_modifier=lambda u: f\"wisig_{u}\"\n",
    "# )"
   ]
  },
  {
   "cell_type": "code",
   "execution_count": 19,
   "id": "fd5442bc",
   "metadata": {
    "execution": {
     "iopub.execute_input": "2022-03-19T20:09:56.374448Z",
     "iopub.status.busy": "2022-03-19T20:09:56.374188Z",
     "iopub.status.idle": "2022-03-19T20:09:56.387886Z",
     "shell.execute_reply": "2022-03-19T20:09:56.387500Z"
    },
    "papermill": {
     "duration": 0.032097,
     "end_time": "2022-03-19T20:09:56.387975",
     "exception": false,
     "start_time": "2022-03-19T20:09:56.355878",
     "status": "completed"
    },
    "tags": []
   },
   "outputs": [],
   "source": [
    "###################################\n",
    "# Build the dataset\n",
    "###################################\n",
    "train_original_source = Iterable_Aggregator(train_original_source, p.seed)\n",
    "val_original_source = Iterable_Aggregator(val_original_source, p.seed)\n",
    "test_original_source = Iterable_Aggregator(test_original_source, p.seed)\n",
    "\n",
    "\n",
    "train_original_target = Iterable_Aggregator(train_original_target, p.seed)\n",
    "val_original_target = Iterable_Aggregator(val_original_target, p.seed)\n",
    "test_original_target = Iterable_Aggregator(test_original_target, p.seed)\n",
    "\n",
    "# For CNN We only use X and Y. And we only train on the source.\n",
    "# Properly form the data using a transform lambda and Lazy_Iterable_Wrapper. Finally wrap them in a dataloader\n",
    "\n",
    "transform_lambda = lambda ex: ex[1] # Original is (<domain>, <episode>) so we strip down to episode only\n",
    "\n",
    "train_processed_source = Lazy_Iterable_Wrapper(train_original_source, transform_lambda)\n",
    "val_processed_source   = Lazy_Iterable_Wrapper(val_original_source, transform_lambda)\n",
    "test_processed_source  = Lazy_Iterable_Wrapper(test_original_source, transform_lambda)\n",
    "\n",
    "train_processed_target = Lazy_Iterable_Wrapper(train_original_target, transform_lambda)\n",
    "val_processed_target   = Lazy_Iterable_Wrapper(val_original_target, transform_lambda)\n",
    "test_processed_target  = Lazy_Iterable_Wrapper(test_original_target, transform_lambda)\n",
    "\n",
    "datasets = EasyDict({\n",
    "    \"source\": {\n",
    "        \"original\": {\"train\":train_original_source, \"val\":val_original_source, \"test\":test_original_source},\n",
    "        \"processed\": {\"train\":train_processed_source, \"val\":val_processed_source, \"test\":test_processed_source}\n",
    "    },\n",
    "    \"target\": {\n",
    "        \"original\": {\"train\":train_original_target, \"val\":val_original_target, \"test\":test_original_target},\n",
    "        \"processed\": {\"train\":train_processed_target, \"val\":val_processed_target, \"test\":test_processed_target}\n",
    "    },\n",
    "})"
   ]
  },
  {
   "cell_type": "code",
   "execution_count": 20,
   "id": "5b3c01fc",
   "metadata": {
    "execution": {
     "iopub.execute_input": "2022-03-19T20:09:56.424131Z",
     "iopub.status.busy": "2022-03-19T20:09:56.423867Z",
     "iopub.status.idle": "2022-03-19T20:10:05.094311Z",
     "shell.execute_reply": "2022-03-19T20:10:05.093799Z"
    },
    "papermill": {
     "duration": 8.68717,
     "end_time": "2022-03-19T20:10:05.094423",
     "exception": false,
     "start_time": "2022-03-19T20:09:56.407253",
     "status": "completed"
    },
    "tags": []
   },
   "outputs": [
    {
     "name": "stdout",
     "output_type": "stream",
     "text": [
      "{'O_20', 'O_50', 'O_44', 'O_26', 'O_38', 'O_32', 'O_14', 'O_8'}\n"
     ]
    },
    {
     "name": "stdout",
     "output_type": "stream",
     "text": [
      "{'C_5', 'C_1', 'C_3', 'W_3', 'C_2', 'W_2', 'W_4', 'C_4', 'W_1'}\n"
     ]
    },
    {
     "name": "stdout",
     "output_type": "stream",
     "text": [
      "tensor([[[-0.0003,  0.0038, -0.0004,  ..., -0.0031, -0.0009, -0.0018],\n",
      "         [-0.0021, -0.0010,  0.0035,  ...,  0.0008, -0.0047, -0.0016]],\n",
      "\n",
      "        [[-0.0015,  0.0022,  0.0018,  ..., -0.0041, -0.0038, -0.0004],\n",
      "         [-0.0037, -0.0010,  0.0036,  ...,  0.0013, -0.0005,  0.0040]],\n",
      "\n",
      "        [[ 0.0021, -0.0012, -0.0025,  ...,  0.0026,  0.0045,  0.0011],\n",
      "         [ 0.0027,  0.0022, -0.0029,  ..., -0.0025,  0.0015, -0.0038]],\n",
      "\n",
      "        ...,\n",
      "\n",
      "        [[ 0.0048, -0.0012, -0.0057,  ...,  0.0031,  0.0048, -0.0031],\n",
      "         [ 0.0027,  0.0034, -0.0018,  ..., -0.0047, -0.0030, -0.0054]],\n",
      "\n",
      "        [[ 0.0001, -0.0048,  0.0014,  ...,  0.0043,  0.0023,  0.0052],\n",
      "         [ 0.0038,  0.0020, -0.0055,  ..., -0.0006,  0.0061, -0.0011]],\n",
      "\n",
      "        [[ 0.0023,  0.0016, -0.0035,  ..., -0.0022,  0.0060,  0.0049],\n",
      "         [-0.0020,  0.0053, -0.0002,  ..., -0.0052, -0.0003, -0.0012]]])\n"
     ]
    }
   ],
   "source": [
    "from steves_utils.transforms import get_average_magnitude, get_average_power\n",
    "\n",
    "print(set([u for u,_ in val_original_source]))\n",
    "print(set([u for u,_ in val_original_target]))\n",
    "\n",
    "s_x, s_y, q_x, q_y, _ = next(iter(train_processed_source))\n",
    "print(s_x)\n",
    "\n",
    "# for ds in [\n",
    "#     train_processed_source,\n",
    "#     val_processed_source,\n",
    "#     test_processed_source,\n",
    "#     train_processed_target,\n",
    "#     val_processed_target,\n",
    "#     test_processed_target\n",
    "# ]:\n",
    "#     for s_x, s_y, q_x, q_y, _ in ds:\n",
    "#         for X in (s_x, q_x):\n",
    "#             for x in X:\n",
    "#                 assert np.isclose(get_average_magnitude(x.numpy()), 1.0)\n",
    "#                 assert np.isclose(get_average_power(x.numpy()), 1.0)\n",
    "                "
   ]
  },
  {
   "cell_type": "code",
   "execution_count": 21,
   "id": "bbdacba1",
   "metadata": {
    "execution": {
     "iopub.execute_input": "2022-03-19T20:10:05.141580Z",
     "iopub.status.busy": "2022-03-19T20:10:05.135329Z",
     "iopub.status.idle": "2022-03-19T20:10:05.196215Z",
     "shell.execute_reply": "2022-03-19T20:10:05.195756Z"
    },
    "papermill": {
     "duration": 0.079964,
     "end_time": "2022-03-19T20:10:05.196316",
     "exception": false,
     "start_time": "2022-03-19T20:10:05.116352",
     "status": "completed"
    },
    "tags": []
   },
   "outputs": [
    {
     "name": "stdout",
     "output_type": "stream",
     "text": [
      "(2, 256)\n"
     ]
    }
   ],
   "source": [
    "###################################\n",
    "# Build the model\n",
    "###################################\n",
    "# easfsl only wants a tuple for the shape\n",
    "model = Steves_Prototypical_Network(x_net, device=p.device, x_shape=tuple(p.x_shape))\n",
    "optimizer = Adam(params=model.parameters(), lr=p.lr)"
   ]
  },
  {
   "cell_type": "code",
   "execution_count": 22,
   "id": "22b39ac5",
   "metadata": {
    "execution": {
     "iopub.execute_input": "2022-03-19T20:10:05.234109Z",
     "iopub.status.busy": "2022-03-19T20:10:05.233702Z",
     "iopub.status.idle": "2022-03-19T20:31:05.744361Z",
     "shell.execute_reply": "2022-03-19T20:31:05.744129Z"
    },
    "papermill": {
     "duration": 1260.528106,
     "end_time": "2022-03-19T20:31:05.744422",
     "exception": false,
     "start_time": "2022-03-19T20:10:05.216316",
     "status": "completed"
    },
    "tags": []
   },
   "outputs": [
    {
     "name": "stdout",
     "output_type": "stream",
     "text": [
      "epoch: 1, [batch: 1 / 6720], examples_per_second: 47.4332, train_label_loss: 2.8700, \n"
     ]
    },
    {
     "name": "stdout",
     "output_type": "stream",
     "text": [
      "epoch: 1, [batch: 672 / 6720], examples_per_second: 3179.4952, train_label_loss: 0.7511, \n"
     ]
    },
    {
     "name": "stdout",
     "output_type": "stream",
     "text": [
      "epoch: 1, [batch: 1344 / 6720], examples_per_second: 3180.4948, train_label_loss: 0.4347, \n"
     ]
    },
    {
     "name": "stdout",
     "output_type": "stream",
     "text": [
      "epoch: 1, [batch: 2016 / 6720], examples_per_second: 3196.6879, train_label_loss: 0.2949, \n"
     ]
    },
    {
     "name": "stdout",
     "output_type": "stream",
     "text": [
      "epoch: 1, [batch: 2688 / 6720], examples_per_second: 3143.3817, train_label_loss: 0.2474, \n"
     ]
    },
    {
     "name": "stdout",
     "output_type": "stream",
     "text": [
      "epoch: 1, [batch: 3360 / 6720], examples_per_second: 3150.9852, train_label_loss: 0.1939, \n"
     ]
    },
    {
     "name": "stdout",
     "output_type": "stream",
     "text": [
      "epoch: 1, [batch: 4032 / 6720], examples_per_second: 3173.0410, train_label_loss: 0.3846, \n"
     ]
    },
    {
     "name": "stdout",
     "output_type": "stream",
     "text": [
      "epoch: 1, [batch: 4704 / 6720], examples_per_second: 3179.0335, train_label_loss: 0.3924, \n"
     ]
    },
    {
     "name": "stdout",
     "output_type": "stream",
     "text": [
      "epoch: 1, [batch: 5376 / 6720], examples_per_second: 3171.7765, train_label_loss: 0.1424, \n"
     ]
    },
    {
     "name": "stdout",
     "output_type": "stream",
     "text": [
      "epoch: 1, [batch: 6048 / 6720], examples_per_second: 3171.5577, train_label_loss: 0.0723, \n"
     ]
    },
    {
     "name": "stdout",
     "output_type": "stream",
     "text": [
      "=============================================================\n",
      "epoch: 1, source_val_acc_label: 0.6653, target_val_acc_label: 0.8264, source_val_label_loss: 190.7516, target_val_label_loss: 10719.8262, \n",
      "=============================================================\n"
     ]
    },
    {
     "name": "stdout",
     "output_type": "stream",
     "text": [
      "New best\n"
     ]
    },
    {
     "name": "stdout",
     "output_type": "stream",
     "text": [
      "epoch: 2, [batch: 1 / 6720], examples_per_second: 3.9651, train_label_loss: 301.7738, \n"
     ]
    },
    {
     "name": "stdout",
     "output_type": "stream",
     "text": [
      "epoch: 2, [batch: 672 / 6720], examples_per_second: 3181.9505, train_label_loss: 0.7994, \n"
     ]
    },
    {
     "name": "stdout",
     "output_type": "stream",
     "text": [
      "epoch: 2, [batch: 1344 / 6720], examples_per_second: 3194.2462, train_label_loss: 0.4176, \n"
     ]
    },
    {
     "name": "stdout",
     "output_type": "stream",
     "text": [
      "epoch: 2, [batch: 2016 / 6720], examples_per_second: 3157.4830, train_label_loss: 0.5169, \n"
     ]
    },
    {
     "name": "stdout",
     "output_type": "stream",
     "text": [
      "epoch: 2, [batch: 2688 / 6720], examples_per_second: 3191.3139, train_label_loss: 0.3530, \n"
     ]
    },
    {
     "name": "stdout",
     "output_type": "stream",
     "text": [
      "epoch: 2, [batch: 3360 / 6720], examples_per_second: 3191.9775, train_label_loss: 0.1801, \n"
     ]
    },
    {
     "name": "stdout",
     "output_type": "stream",
     "text": [
      "epoch: 2, [batch: 4032 / 6720], examples_per_second: 3173.7009, train_label_loss: 0.3130, \n"
     ]
    },
    {
     "name": "stdout",
     "output_type": "stream",
     "text": [
      "epoch: 2, [batch: 4704 / 6720], examples_per_second: 3165.4276, train_label_loss: 0.1677, \n"
     ]
    },
    {
     "name": "stdout",
     "output_type": "stream",
     "text": [
      "epoch: 2, [batch: 5376 / 6720], examples_per_second: 3128.9492, train_label_loss: 0.3029, \n"
     ]
    },
    {
     "name": "stdout",
     "output_type": "stream",
     "text": [
      "epoch: 2, [batch: 6048 / 6720], examples_per_second: 3144.3196, train_label_loss: 0.2924, \n"
     ]
    },
    {
     "name": "stdout",
     "output_type": "stream",
     "text": [
      "=============================================================\n",
      "epoch: 2, source_val_acc_label: 0.9099, target_val_acc_label: 0.8532, source_val_label_loss: 0.2604, target_val_label_loss: 4880.3823, \n",
      "=============================================================\n"
     ]
    },
    {
     "name": "stdout",
     "output_type": "stream",
     "text": [
      "New best\n"
     ]
    },
    {
     "name": "stdout",
     "output_type": "stream",
     "text": [
      "epoch: 3, [batch: 1 / 6720], examples_per_second: 3.9965, train_label_loss: 0.1016, \n"
     ]
    },
    {
     "name": "stdout",
     "output_type": "stream",
     "text": [
      "epoch: 3, [batch: 672 / 6720], examples_per_second: 3184.3986, train_label_loss: 0.1769, \n"
     ]
    },
    {
     "name": "stdout",
     "output_type": "stream",
     "text": [
      "epoch: 3, [batch: 1344 / 6720], examples_per_second: 3190.7956, train_label_loss: 0.2042, \n"
     ]
    },
    {
     "name": "stdout",
     "output_type": "stream",
     "text": [
      "epoch: 3, [batch: 2016 / 6720], examples_per_second: 3152.1853, train_label_loss: 0.2179, \n"
     ]
    },
    {
     "name": "stdout",
     "output_type": "stream",
     "text": [
      "epoch: 3, [batch: 2688 / 6720], examples_per_second: 3184.6877, train_label_loss: 0.1828, \n"
     ]
    },
    {
     "name": "stdout",
     "output_type": "stream",
     "text": [
      "epoch: 3, [batch: 3360 / 6720], examples_per_second: 3181.8186, train_label_loss: 0.3132, \n"
     ]
    },
    {
     "name": "stdout",
     "output_type": "stream",
     "text": [
      "epoch: 3, [batch: 4032 / 6720], examples_per_second: 3167.8561, train_label_loss: 0.1784, \n"
     ]
    },
    {
     "name": "stdout",
     "output_type": "stream",
     "text": [
      "epoch: 3, [batch: 4704 / 6720], examples_per_second: 3201.7031, train_label_loss: 0.1968, \n"
     ]
    },
    {
     "name": "stdout",
     "output_type": "stream",
     "text": [
      "epoch: 3, [batch: 5376 / 6720], examples_per_second: 3109.9139, train_label_loss: 0.1051, \n"
     ]
    },
    {
     "name": "stdout",
     "output_type": "stream",
     "text": [
      "epoch: 3, [batch: 6048 / 6720], examples_per_second: 3102.7750, train_label_loss: 0.0620, \n"
     ]
    },
    {
     "name": "stdout",
     "output_type": "stream",
     "text": [
      "=============================================================\n",
      "epoch: 3, source_val_acc_label: 0.9119, target_val_acc_label: 0.8277, source_val_label_loss: 0.2443, target_val_label_loss: 6033.6191, \n",
      "=============================================================\n"
     ]
    },
    {
     "name": "stdout",
     "output_type": "stream",
     "text": [
      "epoch: 4, [batch: 1 / 6720], examples_per_second: 3.9215, train_label_loss: 0.1592, \n"
     ]
    },
    {
     "name": "stdout",
     "output_type": "stream",
     "text": [
      "epoch: 4, [batch: 672 / 6720], examples_per_second: 3093.8245, train_label_loss: 0.1027, \n"
     ]
    },
    {
     "name": "stdout",
     "output_type": "stream",
     "text": [
      "epoch: 4, [batch: 1344 / 6720], examples_per_second: 3147.9665, train_label_loss: 0.2960, \n"
     ]
    },
    {
     "name": "stdout",
     "output_type": "stream",
     "text": [
      "epoch: 4, [batch: 2016 / 6720], examples_per_second: 3070.9440, train_label_loss: 0.1495, \n"
     ]
    },
    {
     "name": "stdout",
     "output_type": "stream",
     "text": [
      "epoch: 4, [batch: 2688 / 6720], examples_per_second: 3222.7263, train_label_loss: 0.3130, \n"
     ]
    },
    {
     "name": "stdout",
     "output_type": "stream",
     "text": [
      "epoch: 4, [batch: 3360 / 6720], examples_per_second: 3177.1764, train_label_loss: 0.1755, \n"
     ]
    },
    {
     "name": "stdout",
     "output_type": "stream",
     "text": [
      "epoch: 4, [batch: 4032 / 6720], examples_per_second: 3240.5365, train_label_loss: 0.2618, \n"
     ]
    },
    {
     "name": "stdout",
     "output_type": "stream",
     "text": [
      "epoch: 4, [batch: 4704 / 6720], examples_per_second: 3141.7782, train_label_loss: 0.3507, \n"
     ]
    },
    {
     "name": "stdout",
     "output_type": "stream",
     "text": [
      "epoch: 4, [batch: 5376 / 6720], examples_per_second: 3212.1875, train_label_loss: 0.0782, \n"
     ]
    },
    {
     "name": "stdout",
     "output_type": "stream",
     "text": [
      "epoch: 4, [batch: 6048 / 6720], examples_per_second: 3258.5282, train_label_loss: 0.0942, \n"
     ]
    },
    {
     "name": "stdout",
     "output_type": "stream",
     "text": [
      "=============================================================\n",
      "epoch: 4, source_val_acc_label: 0.9246, target_val_acc_label: 0.7528, source_val_label_loss: 0.2093, target_val_label_loss: 3635.2671, \n",
      "=============================================================\n"
     ]
    },
    {
     "name": "stdout",
     "output_type": "stream",
     "text": [
      "epoch: 5, [batch: 1 / 6720], examples_per_second: 3.9660, train_label_loss: 0.1085, \n"
     ]
    },
    {
     "name": "stdout",
     "output_type": "stream",
     "text": [
      "epoch: 5, [batch: 672 / 6720], examples_per_second: 3122.5904, train_label_loss: 0.1056, \n"
     ]
    },
    {
     "name": "stdout",
     "output_type": "stream",
     "text": [
      "epoch: 5, [batch: 1344 / 6720], examples_per_second: 3140.8424, train_label_loss: 0.4299, \n"
     ]
    },
    {
     "name": "stdout",
     "output_type": "stream",
     "text": [
      "epoch: 5, [batch: 2016 / 6720], examples_per_second: 3257.1153, train_label_loss: 0.2871, \n"
     ]
    },
    {
     "name": "stdout",
     "output_type": "stream",
     "text": [
      "epoch: 5, [batch: 2688 / 6720], examples_per_second: 3240.1075, train_label_loss: 0.1015, \n"
     ]
    },
    {
     "name": "stdout",
     "output_type": "stream",
     "text": [
      "epoch: 5, [batch: 3360 / 6720], examples_per_second: 3203.4425, train_label_loss: 0.1367, \n"
     ]
    },
    {
     "name": "stdout",
     "output_type": "stream",
     "text": [
      "epoch: 5, [batch: 4032 / 6720], examples_per_second: 3170.2003, train_label_loss: 0.0513, \n"
     ]
    },
    {
     "name": "stdout",
     "output_type": "stream",
     "text": [
      "epoch: 5, [batch: 4704 / 6720], examples_per_second: 3170.2930, train_label_loss: 0.0735, \n"
     ]
    },
    {
     "name": "stdout",
     "output_type": "stream",
     "text": [
      "epoch: 5, [batch: 5376 / 6720], examples_per_second: 3157.3225, train_label_loss: 0.0732, \n"
     ]
    },
    {
     "name": "stdout",
     "output_type": "stream",
     "text": [
      "epoch: 5, [batch: 6048 / 6720], examples_per_second: 3202.2264, train_label_loss: 0.2386, \n"
     ]
    },
    {
     "name": "stdout",
     "output_type": "stream",
     "text": [
      "=============================================================\n",
      "epoch: 5, source_val_acc_label: 0.9298, target_val_acc_label: 0.7625, source_val_label_loss: 0.1991, target_val_label_loss: 4346.4058, \n",
      "=============================================================\n"
     ]
    },
    {
     "name": "stdout",
     "output_type": "stream",
     "text": [
      "epoch: 6, [batch: 1 / 6720], examples_per_second: 3.9366, train_label_loss: 0.2205, \n"
     ]
    },
    {
     "name": "stdout",
     "output_type": "stream",
     "text": [
      "epoch: 6, [batch: 672 / 6720], examples_per_second: 3119.6496, train_label_loss: 0.1662, \n"
     ]
    },
    {
     "name": "stdout",
     "output_type": "stream",
     "text": [
      "epoch: 6, [batch: 1344 / 6720], examples_per_second: 2916.9813, train_label_loss: 0.2256, \n"
     ]
    },
    {
     "name": "stdout",
     "output_type": "stream",
     "text": [
      "epoch: 6, [batch: 2016 / 6720], examples_per_second: 1781.0698, train_label_loss: 0.1671, \n"
     ]
    },
    {
     "name": "stdout",
     "output_type": "stream",
     "text": [
      "epoch: 6, [batch: 2688 / 6720], examples_per_second: 1784.4512, train_label_loss: 0.1739, \n"
     ]
    },
    {
     "name": "stdout",
     "output_type": "stream",
     "text": [
      "epoch: 6, [batch: 3360 / 6720], examples_per_second: 1782.8097, train_label_loss: 0.1110, \n"
     ]
    },
    {
     "name": "stdout",
     "output_type": "stream",
     "text": [
      "epoch: 6, [batch: 4032 / 6720], examples_per_second: 2082.7682, train_label_loss: 0.0672, \n"
     ]
    },
    {
     "name": "stdout",
     "output_type": "stream",
     "text": [
      "epoch: 6, [batch: 4704 / 6720], examples_per_second: 1870.0218, train_label_loss: 0.4653, \n"
     ]
    },
    {
     "name": "stdout",
     "output_type": "stream",
     "text": [
      "epoch: 6, [batch: 5376 / 6720], examples_per_second: 1790.6094, train_label_loss: 0.3576, \n"
     ]
    },
    {
     "name": "stdout",
     "output_type": "stream",
     "text": [
      "epoch: 6, [batch: 6048 / 6720], examples_per_second: 1762.7268, train_label_loss: 0.1122, \n"
     ]
    },
    {
     "name": "stdout",
     "output_type": "stream",
     "text": [
      "=============================================================\n",
      "epoch: 6, source_val_acc_label: 0.9422, target_val_acc_label: 0.7717, source_val_label_loss: 0.1625, target_val_label_loss: 4387.3882, \n",
      "=============================================================\n"
     ]
    },
    {
     "name": "stdout",
     "output_type": "stream",
     "text": [
      "Patience (3) exhausted\n"
     ]
    }
   ],
   "source": [
    "###################################\n",
    "# train\n",
    "###################################\n",
    "jig = PTN_Train_Eval_Test_Jig(model, p.BEST_MODEL_PATH, p.device)\n",
    "\n",
    "jig.train(\n",
    "    train_iterable=datasets.source.processed.train,\n",
    "    source_val_iterable=datasets.source.processed.val,\n",
    "    target_val_iterable=datasets.target.processed.val,\n",
    "    num_epochs=p.n_epoch,\n",
    "    num_logs_per_epoch=p.NUM_LOGS_PER_EPOCH,\n",
    "    patience=p.patience,\n",
    "    optimizer=optimizer,\n",
    "    criteria_for_best=p.criteria_for_best,\n",
    ")"
   ]
  },
  {
   "cell_type": "code",
   "execution_count": 23,
   "id": "31e8fabf",
   "metadata": {
    "execution": {
     "iopub.execute_input": "2022-03-19T20:31:05.809055Z",
     "iopub.status.busy": "2022-03-19T20:31:05.808546Z",
     "iopub.status.idle": "2022-03-19T20:31:05.824406Z",
     "shell.execute_reply": "2022-03-19T20:31:05.823862Z"
    },
    "papermill": {
     "duration": 0.046733,
     "end_time": "2022-03-19T20:31:05.824530",
     "exception": false,
     "start_time": "2022-03-19T20:31:05.777797",
     "status": "completed"
    },
    "tags": []
   },
   "outputs": [],
   "source": [
    "total_experiment_time_secs = time.time() - start_time_secs"
   ]
  },
  {
   "cell_type": "code",
   "execution_count": 24,
   "id": "87b9595b",
   "metadata": {
    "execution": {
     "iopub.execute_input": "2022-03-19T20:31:05.888945Z",
     "iopub.status.busy": "2022-03-19T20:31:05.888664Z",
     "iopub.status.idle": "2022-03-19T20:34:12.984159Z",
     "shell.execute_reply": "2022-03-19T20:34:12.984547Z"
    },
    "papermill": {
     "duration": 187.129428,
     "end_time": "2022-03-19T20:34:12.984688",
     "exception": false,
     "start_time": "2022-03-19T20:31:05.855260",
     "status": "completed"
    },
    "tags": []
   },
   "outputs": [],
   "source": [
    "###################################\n",
    "# Evaluate the model\n",
    "###################################\n",
    "source_test_label_accuracy, source_test_label_loss = jig.test(datasets.source.processed.test)\n",
    "target_test_label_accuracy, target_test_label_loss = jig.test(datasets.target.processed.test)\n",
    "\n",
    "source_val_label_accuracy, source_val_label_loss = jig.test(datasets.source.processed.val)\n",
    "target_val_label_accuracy, target_val_label_loss = jig.test(datasets.target.processed.val)\n",
    "\n",
    "history = jig.get_history()\n",
    "\n",
    "total_epochs_trained = len(history[\"epoch_indices\"])\n",
    "\n",
    "val_dl = Iterable_Aggregator((datasets.source.original.val,datasets.target.original.val))\n",
    "\n",
    "confusion = ptn_confusion_by_domain_over_dataloader(model, p.device, val_dl)\n",
    "per_domain_accuracy = per_domain_accuracy_from_confusion(confusion)\n",
    "\n",
    "# Add a key to per_domain_accuracy for if it was a source domain\n",
    "for domain, accuracy in per_domain_accuracy.items():\n",
    "    per_domain_accuracy[domain] = {\n",
    "        \"accuracy\": accuracy,\n",
    "        \"source?\": domain in p.domains_source\n",
    "    }\n",
    "\n",
    "# Do an independent accuracy assesment JUST TO BE SURE!\n",
    "# _source_test_label_accuracy = independent_accuracy_assesment(model, datasets.source.processed.test, p.device)\n",
    "# _target_test_label_accuracy = independent_accuracy_assesment(model, datasets.target.processed.test, p.device)\n",
    "# _source_val_label_accuracy = independent_accuracy_assesment(model, datasets.source.processed.val, p.device)\n",
    "# _target_val_label_accuracy = independent_accuracy_assesment(model, datasets.target.processed.val, p.device)\n",
    "\n",
    "# assert(_source_test_label_accuracy == source_test_label_accuracy)\n",
    "# assert(_target_test_label_accuracy == target_test_label_accuracy)\n",
    "# assert(_source_val_label_accuracy == source_val_label_accuracy)\n",
    "# assert(_target_val_label_accuracy == target_val_label_accuracy)\n",
    "\n",
    "experiment = {\n",
    "    \"experiment_name\": p.experiment_name,\n",
    "    \"parameters\": dict(p),\n",
    "    \"results\": {\n",
    "        \"source_test_label_accuracy\": source_test_label_accuracy,\n",
    "        \"source_test_label_loss\": source_test_label_loss,\n",
    "        \"target_test_label_accuracy\": target_test_label_accuracy,\n",
    "        \"target_test_label_loss\": target_test_label_loss,\n",
    "        \"source_val_label_accuracy\": source_val_label_accuracy,\n",
    "        \"source_val_label_loss\": source_val_label_loss,\n",
    "        \"target_val_label_accuracy\": target_val_label_accuracy,\n",
    "        \"target_val_label_loss\": target_val_label_loss,\n",
    "        \"total_epochs_trained\": total_epochs_trained,\n",
    "        \"total_experiment_time_secs\": total_experiment_time_secs,\n",
    "        \"confusion\": confusion,\n",
    "        \"per_domain_accuracy\": per_domain_accuracy,\n",
    "    },\n",
    "    \"history\": history,\n",
    "    \"dataset_metrics\": get_dataset_metrics(datasets, \"ptn\"),\n",
    "}"
   ]
  },
  {
   "cell_type": "code",
   "execution_count": 25,
   "id": "54a21829",
   "metadata": {
    "execution": {
     "iopub.execute_input": "2022-03-19T20:34:13.046159Z",
     "iopub.status.busy": "2022-03-19T20:34:13.045879Z",
     "iopub.status.idle": "2022-03-19T20:34:13.163585Z",
     "shell.execute_reply": "2022-03-19T20:34:13.163959Z"
    },
    "papermill": {
     "duration": 0.14742,
     "end_time": "2022-03-19T20:34:13.164080",
     "exception": false,
     "start_time": "2022-03-19T20:34:13.016660",
     "status": "completed"
    },
    "tags": []
   },
   "outputs": [
    {
     "data": {
      "image/png": "[encoded data removed]",
      "text/plain": [
       "<Figure size 1080x504 with 1 Axes>"
      ]
     },
     "metadata": {
      "needs_background": "light"
     },
     "output_type": "display_data"
    }
   ],
   "source": [
    "ax = get_loss_curve(experiment)\n",
    "plt.show()"
   ]
  },
  {
   "cell_type": "code",
   "execution_count": 26,
   "id": "fd8a0f60",
   "metadata": {
    "execution": {
     "iopub.execute_input": "2022-03-19T20:34:13.225627Z",
     "iopub.status.busy": "2022-03-19T20:34:13.225358Z",
     "iopub.status.idle": "2022-03-19T20:34:13.368463Z",
     "shell.execute_reply": "2022-03-19T20:34:13.368237Z"
    },
    "papermill": {
     "duration": 0.17315,
     "end_time": "2022-03-19T20:34:13.368530",
     "exception": false,
     "start_time": "2022-03-19T20:34:13.195380",
     "status": "completed"
    },
    "tags": []
   },
   "outputs": [
    {
     "data": {
      "text/plain": [
       "<AxesSubplot:title={'center':'Results'}>"
      ]
     },
     "execution_count": 26,
     "metadata": {},
     "output_type": "execute_result"
    },
    {
     "data": {
      "image/png": "[encoded data removed]",
      "text/plain": [
       "<Figure size 1080x504 with 1 Axes>"
      ]
     },
     "metadata": {
      "needs_background": "light"
     },
     "output_type": "display_data"
    }
   ],
   "source": [
    "get_results_table(experiment)"
   ]
  },
  {
   "cell_type": "code",
   "execution_count": 27,
   "id": "cf8dc689",
   "metadata": {
    "execution": {
     "iopub.execute_input": "2022-03-19T20:34:13.432435Z",
     "iopub.status.busy": "2022-03-19T20:34:13.432168Z",
     "iopub.status.idle": "2022-03-19T20:34:13.583494Z",
     "shell.execute_reply": "2022-03-19T20:34:13.582942Z"
    },
    "papermill": {
     "duration": 0.182948,
     "end_time": "2022-03-19T20:34:13.583607",
     "exception": false,
     "start_time": "2022-03-19T20:34:13.400659",
     "status": "completed"
    },
    "tags": []
   },
   "outputs": [
    {
     "data": {
      "text/plain": [
       "<AxesSubplot:title={'center':'Per Domain Validation Accuracy'}, xlabel='domain'>"
      ]
     },
     "execution_count": 27,
     "metadata": {},
     "output_type": "execute_result"
    },
    {
     "data": {
      "image/png": "[encoded data removed]",
      "text/plain": [
       "<Figure size 1080x504 with 1 Axes>"
      ]
     },
     "metadata": {
      "needs_background": "light"
     },
     "output_type": "display_data"
    }
   ],
   "source": [
    "get_domain_accuracies(experiment)"
   ]
  },
  {
   "cell_type": "code",
   "execution_count": 28,
   "id": "a74ae082",
   "metadata": {
    "execution": {
     "iopub.execute_input": "2022-03-19T20:34:13.651513Z",
     "iopub.status.busy": "2022-03-19T20:34:13.651249Z",
     "iopub.status.idle": "2022-03-19T20:34:13.666791Z",
     "shell.execute_reply": "2022-03-19T20:34:13.666390Z"
    },
    "papermill": {
     "duration": 0.047291,
     "end_time": "2022-03-19T20:34:13.666901",
     "exception": false,
     "start_time": "2022-03-19T20:34:13.619610",
     "status": "completed"
    },
    "tags": []
   },
   "outputs": [
    {
     "name": "stdout",
     "output_type": "stream",
     "text": [
      "Source Test Label Accuracy: 0.91044921875 Target Test Label Accuracy: 0.8521841397849462\n",
      "Source Val Label Accuracy: 0.9098958333333333 Target Val Label Accuracy: 0.8532108516483516\n"
     ]
    }
   ],
   "source": [
    "print(\"Source Test Label Accuracy:\", experiment[\"results\"][\"source_test_label_accuracy\"], \"Target Test Label Accuracy:\", experiment[\"results\"][\"target_test_label_accuracy\"])\n",
    "print(\"Source Val Label Accuracy:\", experiment[\"results\"][\"source_val_label_accuracy\"], \"Target Val Label Accuracy:\", experiment[\"results\"][\"target_val_label_accuracy\"])"
   ]
  },
  {
   "cell_type": "code",
   "execution_count": 29,
   "id": "dacca602",
   "metadata": {
    "execution": {
     "iopub.execute_input": "2022-03-19T20:34:13.733207Z",
     "iopub.status.busy": "2022-03-19T20:34:13.732720Z",
     "iopub.status.idle": "2022-03-19T20:34:13.751394Z",
     "shell.execute_reply": "2022-03-19T20:34:13.751799Z"
    },
    "papermill": {
     "duration": 0.051257,
     "end_time": "2022-03-19T20:34:13.751927",
     "exception": false,
     "start_time": "2022-03-19T20:34:13.700670",
     "status": "completed"
    },
    "tags": [
     "experiment_json"
    ]
   },
   "outputs": [
    {
     "data": {
      "text/plain": [
       "'{\"experiment_name\": \"tl_2v2:oracle.run1.framed -> cores+wisig\", \"parameters\": {\"experiment_name\": \"tl_2v2:oracle.run1.framed -> cores+wisig\", \"device\": \"cuda\", \"lr\": 0.0001, \"n_shot\": 3, \"n_query\": 2, \"train_k_factor\": 3, \"val_k_factor\": 2, \"test_k_factor\": 2, \"torch_default_dtype\": \"torch.float32\", \"n_epoch\": 50, \"patience\": 3, \"criteria_for_best\": \"target_accuracy\", \"x_net\": [{\"class\": \"nnReshape\", \"kargs\": {\"shape\": [-1, 1, 2, 256]}}, {\"class\": \"Conv2d\", \"kargs\": {\"in_channels\": 1, \"out_channels\": 256, \"kernel_size\": [1, 7], \"bias\": false, \"padding\": [0, 3]}}, {\"class\": \"ReLU\", \"kargs\": {\"inplace\": true}}, {\"class\": \"BatchNorm2d\", \"kargs\": {\"num_features\": 256}}, {\"class\": \"Conv2d\", \"kargs\": {\"in_channels\": 256, \"out_channels\": 80, \"kernel_size\": [2, 7], \"bias\": true, \"padding\": [0, 3]}}, {\"class\": \"ReLU\", \"kargs\": {\"inplace\": true}}, {\"class\": \"BatchNorm2d\", \"kargs\": {\"num_features\": 80}}, {\"class\": \"Flatten\", \"kargs\": {}}, {\"class\": \"Linear\", \"kargs\": {\"in_features\": 20480, \"out_features\": 256}}, {\"class\": \"ReLU\", \"kargs\": {\"inplace\": true}}, {\"class\": \"BatchNorm1d\", \"kargs\": {\"num_features\": 256}}, {\"class\": \"Linear\", \"kargs\": {\"in_features\": 256, \"out_features\": 256}}], \"NUM_LOGS_PER_EPOCH\": 10, \"BEST_MODEL_PATH\": \"./best_model.pth\", \"n_way\": 16, \"datasets\": [{\"labels\": [\"1-10.\", \"1-11.\", \"1-15.\", \"1-16.\", \"1-17.\", \"1-18.\", \"1-19.\", \"10-4.\", \"10-7.\", \"11-1.\", \"11-14.\", \"11-17.\", \"11-20.\", \"11-7.\", \"13-20.\", \"13-8.\", \"14-10.\", \"14-11.\", \"14-14.\", \"14-7.\", \"15-1.\", \"15-20.\", \"16-1.\", \"16-16.\", \"17-10.\", \"17-11.\", \"17-2.\", \"19-1.\", \"19-16.\", \"19-19.\", \"19-20.\", \"19-3.\", \"2-10.\", \"2-11.\", \"2-17.\", \"2-18.\", \"2-20.\", \"2-3.\", \"2-4.\", \"2-5.\", \"2-6.\", \"2-7.\", \"2-8.\", \"3-13.\", \"3-18.\", \"3-3.\", \"4-1.\", \"4-10.\", \"4-11.\", \"4-19.\", \"5-5.\", \"6-15.\", \"7-10.\", \"7-14.\", \"8-18.\", \"8-20.\", \"8-3.\", \"8-8.\"], \"domains\": [1, 2, 3, 4, 5], \"num_examples_per_domain_per_label\": -1, \"pickle_path\": \"/mnt/wd500GB/CSC500/csc500-main/datasets/cores.stratified_ds.2022A.pkl\", \"source_or_target_dataset\": \"target\", \"x_transforms\": [], \"episode_transforms\": [], \"domain_prefix\": \"C_\"}, {\"labels\": [\"1-10\", \"1-12\", \"1-14\", \"1-16\", \"1-18\", \"1-19\", \"1-8\", \"10-11\", \"10-17\", \"10-4\", \"10-7\", \"11-1\", \"11-10\", \"11-19\", \"11-20\", \"11-4\", \"11-7\", \"12-19\", \"12-20\", \"12-7\", \"13-14\", \"13-18\", \"13-19\", \"13-20\", \"13-3\", \"13-7\", \"14-10\", \"14-11\", \"14-12\", \"14-13\", \"14-14\", \"14-19\", \"14-20\", \"14-7\", \"14-8\", \"14-9\", \"15-1\", \"15-19\", \"15-6\", \"16-1\", \"16-16\", \"16-19\", \"16-20\", \"17-10\", \"17-11\", \"18-1\", \"18-10\", \"18-11\", \"18-12\", \"18-13\", \"18-14\", \"18-15\", \"18-16\", \"18-17\", \"18-19\", \"18-2\", \"18-20\", \"18-4\", \"18-5\", \"18-7\", \"18-8\", \"18-9\", \"19-1\", \"19-10\", \"19-11\", \"19-12\", \"19-13\", \"19-14\", \"19-15\", \"19-19\", \"19-2\", \"19-20\", \"19-3\", \"19-4\", \"19-6\", \"19-7\", \"19-8\", \"19-9\", \"2-1\", \"2-13\", \"2-15\", \"2-3\", \"2-4\", \"2-5\", \"2-6\", \"2-7\", \"2-8\", \"20-1\", \"20-12\", \"20-14\", \"20-15\", \"20-16\", \"20-18\", \"20-19\", \"20-20\", \"20-3\", \"20-4\", \"20-5\", \"20-7\", \"20-8\", \"3-1\", \"3-13\", \"3-18\", \"3-2\", \"3-8\", \"4-1\", \"4-10\", \"4-11\", \"5-1\", \"5-5\", \"6-1\", \"6-15\", \"6-6\", \"7-10\", \"7-11\", \"7-12\", \"7-13\", \"7-14\", \"7-7\", \"7-8\", \"7-9\", \"8-1\", \"8-13\", \"8-14\", \"8-18\", \"8-20\", \"8-3\", \"8-8\", \"9-1\", \"9-7\"], \"domains\": [1, 2, 3, 4], \"num_examples_per_domain_per_label\": -1, \"pickle_path\": \"/mnt/wd500GB/CSC500/csc500-main/datasets/wisig.node3-19.stratified_ds.2022A.pkl\", \"source_or_target_dataset\": \"target\", \"x_transforms\": [], \"episode_transforms\": [], \"domain_prefix\": \"W_\"}, {\"labels\": [\"3123D52\", \"3123D65\", \"3123D79\", \"3123D80\", \"3123D54\", \"3123D70\", \"3123D7B\", \"3123D89\", \"3123D58\", \"3123D76\", \"3123D7D\", \"3123EFE\", \"3123D64\", \"3123D78\", \"3123D7E\", \"3124E4A\"], \"domains\": [32, 38, 8, 44, 14, 50, 20, 26], \"num_examples_per_domain_per_label\": 2000, \"pickle_path\": \"/mnt/wd500GB/CSC500/csc500-main/datasets/oracle.Run1_framed_2000Examples_stratified_ds.2022A.pkl\", \"source_or_target_dataset\": \"source\", \"x_transforms\": [], \"episode_transforms\": [], \"domain_prefix\": \"O_\"}], \"seed\": 1337, \"dataset_seed\": 1337, \"x_shape\": [2, 256], \"domains_source\": [\"O_32\", \"O_38\", \"O_8\", \"O_44\", \"O_14\", \"O_50\", \"O_20\", \"O_26\"], \"domains_target\": [\"C_1\", \"C_2\", \"C_3\", \"C_4\", \"C_5\", \"W_1\", \"W_2\", \"W_3\", \"W_4\"]}, \"results\": {\"source_test_label_accuracy\": 0.91044921875, \"source_test_label_loss\": 0.26147133111953735, \"target_test_label_accuracy\": 0.8521841397849462, \"target_test_label_loss\": 4829.240234375, \"source_val_label_accuracy\": 0.9098958333333333, \"source_val_label_loss\": 0.2604171931743622, \"target_val_label_accuracy\": 0.8532108516483516, \"target_val_label_loss\": 4880.380859375, \"total_epochs_trained\": 6, \"total_experiment_time_secs\": 1273.215848684311, \"confusion\": {\"O_14\": {\"15\": {\"15\": 240}, \"3\": {\"3\": 240}, \"6\": {\"6\": 163, \"13\": 58, \"14\": 12, \"2\": 7}, \"1\": {\"1\": 240}, \"8\": {\"8\": 240}, \"10\": {\"10\": 240}, \"9\": {\"9\": 240}, \"13\": {\"14\": 73, \"13\": 61, \"2\": 21, \"6\": 84, \"15\": 1}, \"12\": {\"12\": 240}, \"5\": {\"5\": 228, \"2\": 7, \"4\": 2, \"3\": 2, \"7\": 1}, \"0\": {\"0\": 236, \"3\": 4}, \"2\": {\"6\": 20, \"2\": 144, \"4\": 2, \"14\": 32, \"13\": 17, \"5\": 25}, \"11\": {\"11\": 240}, \"14\": {\"14\": 206, \"13\": 24, \"2\": 7, \"6\": 3}, \"7\": {\"7\": 238, \"5\": 2}, \"4\": {\"4\": 239, \"5\": 1}}, \"O_20\": {\"3\": {\"3\": 212, \"8\": 5, \"1\": 4, \"9\": 16, \"5\": 3}, \"15\": {\"15\": 214, \"1\": 21, \"12\": 4, \"13\": 1}, \"8\": {\"8\": 237, \"3\": 3}, \"4\": {\"4\": 239, \"12\": 1}, \"14\": {\"14\": 240}, \"0\": {\"0\": 240}, \"7\": {\"7\": 222, \"9\": 15, \"2\": 3}, \"6\": {\"6\": 240}, \"10\": {\"10\": 240}, \"5\": {\"5\": 210, \"1\": 27, \"3\": 3}, \"2\": {\"2\": 203, \"12\": 29, \"7\": 4, \"13\": 1, \"15\": 1, \"9\": 2}, \"12\": {\"12\": 218, \"2\": 21, \"15\": 1}, \"9\": {\"9\": 217, \"3\": 16, \"7\": 6, \"1\": 1}, \"1\": {\"1\": 198, \"5\": 35, \"3\": 5, \"15\": 1, \"9\": 1}, \"11\": {\"11\": 240}, \"13\": {\"13\": 238, \"2\": 2}}, \"O_38\": {\"5\": {\"8\": 87, \"7\": 14, \"5\": 123, \"9\": 12, \"0\": 1, \"13\": 1, \"15\": 2}, \"8\": {\"5\": 56, \"8\": 162, \"0\": 3, \"13\": 2, \"15\": 7, \"7\": 10}, \"11\": {\"11\": 236, \"3\": 4}, \"1\": {\"1\": 240}, \"10\": {\"10\": 225, \"0\": 10, \"13\": 5}, \"15\": {\"15\": 232, \"1\": 5, \"8\": 2, \"5\": 1}, \"3\": {\"3\": 240}, \"7\": {\"7\": 237, \"5\": 2, \"0\": 1}, \"4\": {\"4\": 240}, \"14\": {\"14\": 231, \"2\": 9}, \"9\": {\"9\": 237, \"5\": 3}, \"12\": {\"12\": 240}, \"6\": {\"6\": 240}, \"2\": {\"2\": 232, \"14\": 8}, \"0\": {\"13\": 15, \"7\": 16, \"0\": 172, \"10\": 24, \"3\": 9, \"5\": 3, \"8\": 1}, \"13\": {\"13\": 230, \"0\": 3, \"10\": 7}}, \"O_8\": {\"9\": {\"9\": 240}, \"10\": {\"10\": 211, \"5\": 4, \"4\": 1, \"13\": 24}, \"13\": {\"13\": 214, \"7\": 2, \"10\": 22, \"6\": 2}, \"0\": {\"0\": 240}, \"1\": {\"1\": 229, \"11\": 11}, \"15\": {\"15\": 228, \"12\": 12}, \"5\": {\"5\": 207, \"1\": 11, \"10\": 21, \"11\": 1}, \"3\": {\"3\": 239, \"2\": 1}, \"6\": {\"6\": 220, \"7\": 19, \"13\": 1}, \"11\": {\"11\": 180, \"1\": 58, \"14\": 2}, \"8\": {\"8\": 240}, \"4\": {\"4\": 238, \"6\": 1, \"14\": 1}, \"12\": {\"12\": 202, \"15\": 38}, \"14\": {\"14\": 231, \"4\": 8, \"11\": 1}, \"2\": {\"2\": 220, \"3\": 17, \"15\": 1, \"12\": 2}, \"7\": {\"7\": 223, \"6\": 17}}, \"O_50\": {\"7\": {\"7\": 237, \"5\": 3}, \"3\": {\"3\": 240}, \"8\": {\"8\": 240}, \"2\": {\"2\": 237, \"0\": 3}, \"14\": {\"14\": 240}, \"4\": {\"4\": 209, \"7\": 8, \"5\": 17, \"15\": 5, \"6\": 1}, \"6\": {\"6\": 198, \"5\": 40, \"15\": 2}, \"15\": {\"15\": 233, \"6\": 3, \"11\": 2, \"5\": 2}, \"10\": {\"10\": 240}, \"11\": {\"11\": 236, \"9\": 2, \"12\": 1, \"15\": 1}, \"13\": {\"13\": 240}, \"9\": {\"9\": 217, \"11\": 13, \"12\": 10}, \"0\": {\"0\": 231, \"10\": 2, \"2\": 7}, \"1\": {\"1\": 239, \"13\": 1}, \"12\": {\"12\": 230, \"9\": 9, \"11\": 1}, \"5\": {\"5\": 100, \"6\": 55, \"7\": 54, \"13\": 3, \"4\": 17, \"15\": 9, \"1\": 2}}, \"O_32\": {\"8\": {\"8\": 223, \"0\": 13, \"14\": 1, \"5\": 3}, \"14\": {\"14\": 186, \"4\": 4, \"7\": 37, \"8\": 2, \"5\": 3, \"0\": 7, \"2\": 1}, \"2\": {\"2\": 224, \"4\": 16}, \"0\": {\"0\": 170, \"7\": 39, \"5\": 10, \"14\": 7, \"8\": 14}, \"1\": {\"1\": 240}, \"10\": {\"10\": 240}, \"11\": {\"11\": 240}, \"5\": {\"5\": 132, \"7\": 44, \"14\": 4, \"0\": 45, \"8\": 15}, \"15\": {\"15\": 240}, \"3\": {\"3\": 240}, \"12\": {\"12\": 240}, \"7\": {\"0\": 20, \"7\": 191, \"5\": 23, \"14\": 6}, \"13\": {\"13\": 211, \"4\": 10, \"3\": 19}, \"6\": {\"6\": 240}, \"4\": {\"4\": 223, \"2\": 17}, \"9\": {\"9\": 235, \"12\": 5}}, \"O_26\": {\"4\": {\"4\": 240}, \"12\": {\"12\": 240}, \"10\": {\"14\": 20, \"10\": 202, \"6\": 4, \"15\": 4, \"0\": 10}, \"0\": {\"0\": 188, \"10\": 35, \"14\": 16, \"8\": 1}, \"13\": {\"2\": 10, \"13\": 218, \"9\": 12}, \"9\": {\"2\": 2, \"9\": 225, \"8\": 8, \"13\": 4, \"7\": 1}, \"3\": {\"3\": 227, \"7\": 9, \"2\": 4}, \"2\": {\"2\": 171, \"3\": 34, \"7\": 19, \"9\": 11, \"8\": 2, \"0\": 1, \"13\": 1, \"15\": 1}, \"5\": {\"5\": 228, \"15\": 12}, \"14\": {\"14\": 216, \"10\": 15, \"1\": 3, \"0\": 5, \"5\": 1}, \"8\": {\"8\": 203, \"7\": 30, \"9\": 7}, \"7\": {\"7\": 215, \"8\": 18, \"2\": 4, \"3\": 3}, \"6\": {\"6\": 232, \"10\": 1, \"15\": 7}, \"11\": {\"11\": 240}, \"15\": {\"15\": 207, \"10\": 5, \"5\": 19, \"6\": 9}, \"1\": {\"1\": 195, \"14\": 40, \"5\": 1, \"10\": 3, \"15\": 1}}, \"O_44\": {\"12\": {\"12\": 239, \"3\": 1}, \"7\": {\"7\": 227, \"9\": 13}, \"5\": {\"5\": 223, \"14\": 6, \"15\": 10, \"8\": 1}, \"15\": {\"15\": 228, \"14\": 6, \"8\": 4, \"4\": 1, \"0\": 1}, \"8\": {\"0\": 44, \"8\": 185, \"15\": 5, \"5\": 6}, \"2\": {\"2\": 233, \"1\": 7}, \"13\": {\"13\": 194, \"6\": 40, \"9\": 6}, \"4\": {\"4\": 146, \"14\": 92, \"15\": 2}, \"0\": {\"0\": 226, \"8\": 14}, \"6\": {\"6\": 200, \"13\": 31, \"9\": 9}, \"9\": {\"9\": 123, \"7\": 66, \"6\": 24, \"13\": 27}, \"11\": {\"11\": 240}, \"10\": {\"10\": 226, \"1\": 11, \"7\": 1, \"2\": 2}, \"14\": {\"14\": 176, \"4\": 56, \"15\": 4, \"5\": 4}, \"1\": {\"1\": 236, \"2\": 4}, \"3\": {\"3\": 239, \"12\": 1}}, \"W_3\": {\"109\": {\"109\": 118, \"43\": 3, \"11\": 2, \"108\": 1, \"87\": 1, \"88\": 1, \"118\": 2}, \"127\": {\"127\": 118, \"12\": 3, \"118\": 1, \"40\": 1, \"108\": 1, \"71\": 2, \"105\": 2}, \"14\": {\"14\": 80}, \"7\": {\"7\": 100, \"12\": 5, \"94\": 2, \"106\": 1, \"88\": 1, \"8\": 2, \"16\": 1}, \"129\": {\"129\": 24, \"103\": 1, \"5\": 3, \"102\": 2, \"45\": 1, \"112\": 1}, \"57\": {\"57\": 11, \"46\": 1, \"34\": 1, \"9\": 1, \"66\": 1, \"74\": 1, \"32\": 1, \"73\": 1, \"105\": 2}, \"84\": {\"14\": 4, \"49\": 2, \"26\": 1, \"84\": 91, \"16\": 5, \"40\": 2, \"70\": 1, \"110\": 1, \"88\": 1}, \"114\": {\"114\": 97, \"3\": 4, \"29\": 1, \"1\": 11, \"107\": 9, \"64\": 1, \"88\": 1}, \"44\": {\"44\": 60, \"53\": 3, \"1\": 1, \"31\": 1, \"76\": 3, \"32\": 2, \"114\": 1, \"107\": 1}, \"21\": {\"21\": 41, \"126\": 2, \"129\": 1, \"39\": 1, \"108\": 2, \"71\": 1}, \"46\": {\"46\": 10, \"55\": 1, \"57\": 2, \"83\": 2, \"25\": 1}, \"100\": {\"100\": 7, \"44\": 1, \"65\": 1, \"57\": 1, \"72\": 1, \"50\": 2, \"32\": 1, \"82\": 2}, \"63\": {\"63\": 15, \"82\": 1}, \"24\": {\"24\": 39, \"10\": 6, \"27\": 2, \"108\": 1}, \"107\": {\"114\": 7, \"107\": 100, \"47\": 1, \"1\": 7, \"90\": 1, \"99\": 2}, \"35\": {\"114\": 1, \"127\": 1, \"35\": 9, \"27\": 1}, \"81\": {\"81\": 24, \"61\": 3, \"121\": 3, \"18\": 1, \"33\": 1}, \"64\": {\"64\": 17, \"2\": 1, \"121\": 1, \"13\": 1}, \"59\": {\"59\": 12}, \"33\": {\"33\": 109, \"117\": 1, \"31\": 1, \"18\": 2, \"90\": 1}, \"34\": {\"34\": 11, \"58\": 1, \"83\": 1, \"52\": 1, \"54\": 1, \"71\": 1, \"3\": 3, \"75\": 2, \"44\": 1, \"105\": 1, \"1\": 1, \"40\": 1, \"32\": 2, \"51\": 1, \"56\": 2, \"9\": 2}, \"36\": {\"36\": 95, \"122\": 3, \"24\": 2, \"125\": 1, \"0\": 2, \"30\": 5, \"108\": 10, \"27\": 1, \"111\": 1}, \"79\": {\"79\": 12}, \"80\": {\"80\": 16}, \"77\": {\"77\": 13, \"87\": 1, \"5\": 2}, \"22\": {\"77\": 2, \"22\": 12, \"41\": 1, \"85\": 1}, \"124\": {\"124\": 109, \"104\": 1, \"5\": 3, \"98\": 2, \"111\": 6, \"86\": 1, \"32\": 1, \"73\": 1}, \"2\": {\"2\": 20, \"102\": 3, \"13\": 1, \"117\": 3, \"81\": 1}, \"87\": {\"87\": 100, \"122\": 2, \"110\": 3, \"118\": 2, \"8\": 1, \"11\": 3, \"126\": 1}, \"105\": {\"105\": 107, \"127\": 2, \"3\": 8, \"106\": 1, \"107\": 1, \"40\": 2, \"71\": 1}, \"95\": {\"95\": 29, \"56\": 1, \"113\": 1, \"54\": 1}, \"43\": {\"43\": 45, \"21\": 1, \"109\": 1, \"118\": 4, \"70\": 1, \"88\": 1, \"78\": 1, \"11\": 2}, \"56\": {\"128\": 1, \"95\": 1, \"56\": 9, \"34\": 1}, \"18\": {\"18\": 116, \"26\": 2, \"73\": 1, \"33\": 2, \"21\": 1, \"16\": 1, \"11\": 1}, \"85\": {\"85\": 25, \"76\": 1, \"42\": 2, \"73\": 3, \"52\": 1, \"103\": 1, \"82\": 1, \"19\": 2}, \"113\": {\"113\": 112, \"108\": 2, \"118\": 1, \"126\": 1, \"43\": 2, \"96\": 1, \"109\": 1}, \"97\": {\"97\": 16, \"15\": 2, \"27\": 1, \"39\": 1}, \"86\": {\"59\": 2, \"129\": 1, \"86\": 19, \"24\": 1, \"48\": 2, \"37\": 1, \"124\": 1, \"127\": 1}, \"128\": {\"128\": 20, \"56\": 2, \"25\": 1, \"82\": 1, \"52\": 1, \"19\": 1, \"28\": 1, \"53\": 1, \"83\": 2, \"124\": 1, \"98\": 1}, \"123\": {\"123\": 15, \"63\": 1}, \"8\": {\"8\": 101, \"94\": 1, \"93\": 1, \"101\": 2, \"62\": 3, \"0\": 13, \"15\": 7, \"110\": 2}, \"110\": {\"110\": 68, \"88\": 1, \"118\": 5, \"78\": 1, \"0\": 3, \"44\": 1, \"111\": 1, \"42\": 1, \"122\": 2, \"36\": 1, \"39\": 1, \"8\": 2, \"87\": 2, \"10\": 1}, \"126\": {\"126\": 100, \"88\": 3, \"111\": 1}, \"42\": {\"68\": 1, \"48\": 1, \"42\": 16, \"41\": 2, \"77\": 1, \"58\": 2, \"115\": 3, \"124\": 1, \"5\": 1}, \"96\": {\"96\": 17, \"26\": 1, \"43\": 1, \"122\": 1}, \"83\": {\"114\": 2, \"65\": 2, \"83\": 9, \"9\": 1, \"99\": 1, \"34\": 1, \"55\": 1, \"112\": 1, \"17\": 1, \"128\": 2, \"50\": 1, \"31\": 1, \"1\": 1}, \"54\": {\"54\": 12, \"41\": 1, \"49\": 1, \"95\": 2}, \"65\": {\"83\": 1, \"48\": 2, \"103\": 2, \"65\": 4, \"49\": 1, \"55\": 1, \"112\": 1}, \"30\": {\"30\": 61, \"36\": 9, \"0\": 4, \"125\": 1, \"109\": 3, \"15\": 1, \"122\": 1, \"70\": 1, \"8\": 1, \"27\": 2}, \"121\": {\"121\": 26, \"11\": 3, \"90\": 1, \"21\": 1, \"109\": 1}, \"68\": {\"42\": 2, \"68\": 12, \"111\": 1, \"51\": 1}, \"45\": {\"65\": 2, \"119\": 1, \"45\": 12, \"63\": 1}, \"48\": {\"48\": 9, \"42\": 2, \"115\": 3, \"79\": 2}, \"4\": {\"4\": 92, \"125\": 2, \"39\": 1, \"87\": 1}, \"67\": {\"67\": 15, \"92\": 1}, \"103\": {\"65\": 1, \"103\": 8, \"42\": 1, \"85\": 1, \"86\": 1, \"91\": 2, \"5\": 1, \"53\": 1}, \"74\": {\"74\": 16}, \"1\": {\"1\": 88, \"71\": 1, \"114\": 6, \"105\": 2, \"40\": 4, \"3\": 3, \"27\": 1, \"99\": 1, \"109\": 1, \"127\": 1}, \"61\": {\"81\": 3, \"61\": 13}, \"101\": {\"101\": 43, \"8\": 1, \"71\": 1, \"70\": 1, \"118\": 1, \"94\": 1, \"12\": 2, \"7\": 2}, \"93\": {\"96\": 2, \"93\": 110, \"110\": 1, \"23\": 2, \"16\": 13, \"113\": 2, \"62\": 4, \"26\": 2, \"69\": 2}, \"26\": {\"26\": 127, \"93\": 2, \"16\": 1}, \"71\": {\"14\": 2, \"71\": 49, \"127\": 5, \"113\": 1, \"105\": 5, \"3\": 3, \"110\": 1, \"40\": 1, \"1\": 1}, \"15\": {\"15\": 95, \"94\": 1, \"97\": 1, \"7\": 1, \"39\": 1, \"8\": 2, \"88\": 1, \"0\": 2}, \"55\": {\"46\": 2, \"28\": 1, \"55\": 10, \"85\": 1, \"103\": 2}, \"104\": {\"112\": 1, \"104\": 8, \"111\": 1, \"52\": 1, \"58\": 1, \"86\": 1, \"41\": 1, \"85\": 2}, \"112\": {\"112\": 10, \"104\": 1, \"85\": 3, \"42\": 1, \"27\": 1}, \"102\": {\"102\": 122}, \"117\": {\"117\": 112}, \"119\": {\"119\": 8, \"79\": 1, \"64\": 1, \"45\": 1, \"129\": 3, \"102\": 1, \"13\": 1}, \"20\": {\"53\": 2, \"74\": 1, \"125\": 1, \"20\": 7, \"1\": 1, \"114\": 1, \"50\": 1, \"32\": 1, \"128\": 1}, \"120\": {\"64\": 1, \"92\": 3, \"120\": 8, \"119\": 1, \"76\": 1, \"29\": 1, \"81\": 1, \"5\": 1, \"82\": 1, \"107\": 2}, \"39\": {\"39\": 103, \"88\": 3, \"70\": 1, \"109\": 1}, \"49\": {\"49\": 13, \"84\": 1, \"7\": 4, \"14\": 3, \"127\": 1, \"93\": 1, \"106\": 1}, \"53\": {\"20\": 2, \"76\": 2, \"114\": 2, \"90\": 1, \"53\": 8, \"44\": 2, \"65\": 1, \"32\": 2}, \"92\": {\"92\": 25, \"39\": 1, \"89\": 3, \"83\": 2, \"120\": 1}, \"3\": {\"114\": 4, \"3\": 97, \"105\": 7, \"1\": 3, \"40\": 1, \"71\": 3, \"107\": 1}, \"47\": {\"47\": 8, \"34\": 1, \"99\": 1, \"38\": 1, \"9\": 1}, \"115\": {\"115\": 16}, \"58\": {\"58\": 10, \"112\": 1, \"42\": 1, \"49\": 1, \"128\": 1, \"103\": 1, \"57\": 1}, \"29\": {\"29\": 28, \"82\": 2, \"65\": 1, \"19\": 1}, \"12\": {\"12\": 95, \"101\": 2, \"106\": 3, \"7\": 4}, \"62\": {\"62\": 108, \"60\": 2, \"114\": 1, \"93\": 2, \"71\": 2, \"8\": 2, \"11\": 1}, \"11\": {\"11\": 107, \"87\": 7, \"122\": 1, \"43\": 5, \"110\": 2, \"118\": 7, \"10\": 2, \"109\": 8, \"62\": 1}, \"72\": {\"72\": 18, \"9\": 2, \"105\": 1, \"99\": 3, \"75\": 4}, \"98\": {\"98\": 100, \"77\": 2, \"83\": 1, \"95\": 1, \"111\": 2}, \"122\": {\"122\": 51, \"108\": 2, \"30\": 1, \"110\": 1, \"21\": 2, \"8\": 1, \"36\": 1, \"82\": 1}, \"17\": {\"11\": 1, \"115\": 1, \"110\": 1, \"17\": 3, \"118\": 2, \"63\": 1, \"126\": 1, \"86\": 1, \"111\": 1, \"104\": 1, \"117\": 1, \"22\": 1, \"119\": 1}, \"94\": {\"94\": 77, \"15\": 4, \"8\": 2, \"0\": 1}, \"106\": {\"106\": 77, \"12\": 3, \"88\": 2, \"127\": 6, \"94\": 2}, \"28\": {\"77\": 1, \"28\": 9, \"38\": 1, \"53\": 1, \"128\": 1, \"50\": 1, \"100\": 1, \"19\": 1}, \"69\": {\"69\": 68, \"88\": 1, \"16\": 2, \"109\": 2, \"14\": 4, \"84\": 1, \"1\": 1, \"49\": 2, \"87\": 1, \"70\": 1, \"27\": 1}, \"125\": {\"125\": 108, \"98\": 2, \"4\": 3, \"117\": 1}, \"19\": {\"19\": 22, \"66\": 1, \"38\": 1, \"52\": 1, \"55\": 1, \"91\": 1, \"85\": 2, \"90\": 1, \"128\": 1, \"98\": 1}, \"41\": {\"41\": 5, \"19\": 1, \"37\": 2, \"111\": 1, \"52\": 1, \"85\": 2, \"98\": 1, \"124\": 1, \"68\": 1, \"20\": 1}, \"60\": {\"60\": 21, \"0\": 1, \"15\": 1, \"93\": 2, \"62\": 3}, \"70\": {\"70\": 60, \"109\": 1, \"88\": 5, \"39\": 1, \"10\": 4, \"78\": 1}, \"27\": {\"108\": 13, \"27\": 70, \"87\": 1, \"122\": 2, \"24\": 2, \"30\": 5, \"6\": 1, \"36\": 2}, \"10\": {\"10\": 107, \"70\": 3, \"39\": 1, \"11\": 4, \"24\": 2, \"27\": 1}, \"108\": {\"108\": 118, \"10\": 3, \"36\": 1, \"122\": 2, \"39\": 2, \"27\": 4, \"87\": 5, \"8\": 3, \"24\": 2}, \"9\": {\"9\": 24, \"57\": 2, \"32\": 2, \"38\": 1, \"34\": 3}, \"25\": {\"25\": 10, \"66\": 3, \"52\": 1, \"39\": 1, \"54\": 1}, \"37\": {\"37\": 13, \"73\": 1, \"77\": 1, \"42\": 1}, \"0\": {\"36\": 3, \"0\": 105, \"30\": 2, \"8\": 5, \"15\": 1}, \"66\": {\"66\": 8, \"20\": 1, \"128\": 3, \"77\": 1, \"46\": 1, \"45\": 1, \"76\": 1}, \"51\": {\"51\": 11, \"127\": 3, \"99\": 1, \"54\": 1}, \"76\": {\"76\": 13, \"120\": 1, \"53\": 1, \"44\": 1}, \"32\": {\"32\": 25, \"45\": 1, \"83\": 2, \"107\": 1, \"28\": 1, \"77\": 2}, \"88\": {\"88\": 109, \"70\": 1, \"39\": 2}, \"31\": {\"31\": 14, \"76\": 2, \"29\": 1, \"71\": 2, \"50\": 1}, \"91\": {\"91\": 17, \"66\": 1, \"42\": 1, \"73\": 2, \"46\": 1, \"65\": 1, \"103\": 1}, \"90\": {\"90\": 124, \"82\": 2}, \"13\": {\"13\": 9, \"79\": 3, \"126\": 1, \"118\": 1, \"102\": 2}, \"50\": {\"50\": 11, \"77\": 1, \"19\": 1, \"112\": 1, \"100\": 1, \"22\": 1}, \"78\": {\"78\": 13, \"70\": 2, \"88\": 1}, \"116\": {\"116\": 24, \"120\": 2, \"5\": 1, \"117\": 1}, \"5\": {\"5\": 106, \"39\": 1, \"115\": 1, \"124\": 1, \"111\": 2, \"70\": 1}, \"75\": {\"75\": 11, \"9\": 1, \"34\": 2, \"72\": 1, \"30\": 1}, \"89\": {\"38\": 1, \"89\": 19, \"92\": 2, \"90\": 1, \"120\": 1, \"76\": 1, \"82\": 3}, \"16\": {\"69\": 2, \"16\": 96, \"84\": 2, \"23\": 4, \"39\": 1, \"93\": 6, \"27\": 1, \"26\": 3, \"62\": 1}, \"38\": {\"25\": 2, \"38\": 11, \"72\": 2, \"45\": 1}, \"118\": {\"118\": 95, \"24\": 1, \"87\": 1, \"11\": 1, \"113\": 1, \"109\": 1}, \"99\": {\"83\": 1, \"99\": 21, \"3\": 2, \"72\": 1, \"95\": 2, \"127\": 1, \"27\": 1, \"47\": 1, \"34\": 1, \"114\": 3, \"105\": 1, \"40\": 1}, \"52\": {\"55\": 2, \"52\": 9, \"95\": 1, \"25\": 1, \"65\": 2, \"103\": 1}, \"111\": {\"111\": 116, \"124\": 6, \"5\": 4, \"68\": 2}, \"23\": {\"93\": 3, \"12\": 1, \"23\": 8, \"18\": 1, \"8\": 3, \"0\": 5, \"26\": 2, \"15\": 2, \"110\": 2, \"30\": 2, \"122\": 2, \"62\": 1}, \"73\": {\"73\": 27, \"103\": 1, \"85\": 2, \"124\": 1, \"98\": 2, \"6\": 1, \"91\": 3, \"34\": 1, \"129\": 1, \"44\": 1}, \"82\": {\"82\": 20, \"29\": 2, \"90\": 4, \"24\": 1, \"122\": 1}, \"40\": {\"40\": 92, \"71\": 3, \"14\": 3, \"1\": 9, \"127\": 6, \"105\": 4, \"88\": 2, \"17\": 1, \"69\": 2, \"3\": 3, \"114\": 2, \"107\": 1}, \"6\": {\"6\": 29, \"124\": 1, \"111\": 1, \"58\": 1}}, \"C_3\": {\"43\": {\"43\": 120, \"31\": 2, \"24\": 3, \"55\": 2, \"49\": 1}, \"9\": {\"9\": 127, \"27\": 11, \"48\": 10, \"20\": 2}, \"6\": {\"6\": 74, \"50\": 2, \"45\": 1, \"3\": 10, \"44\": 1}, \"3\": {\"3\": 123, \"6\": 9, \"44\": 5, \"50\": 5, \"5\": 2}, \"16\": {\"16\": 119, \"15\": 3, \"11\": 12}, \"51\": {\"51\": 124, \"38\": 3, \"36\": 1}, \"31\": {\"31\": 28}, \"46\": {\"46\": 111, \"44\": 2, \"3\": 1, \"5\": 4, \"21\": 6, \"50\": 4, \"40\": 5, \"30\": 1}, \"19\": {\"19\": 123, \"53\": 1}, \"8\": {\"8\": 127, \"20\": 11, \"4\": 5, \"27\": 6, \"9\": 2, \"48\": 1}, \"18\": {\"18\": 84}, \"37\": {\"37\": 27, \"34\": 1}, \"24\": {\"24\": 101, \"31\": 2, \"43\": 1}, \"10\": {\"10\": 64}, \"44\": {\"44\": 76, \"3\": 3, \"6\": 2, \"46\": 2, \"5\": 4, \"21\": 1}, \"14\": {\"14\": 27, \"39\": 5, \"13\": 7, \"57\": 1}, \"38\": {\"38\": 27, \"51\": 1}, \"53\": {\"53\": 138, \"15\": 1, \"23\": 1}, \"20\": {\"20\": 106, \"8\": 12, \"9\": 3, \"27\": 3, \"4\": 5, \"48\": 3}, \"32\": {\"32\": 28}, \"36\": {\"36\": 96, \"17\": 3, \"32\": 1}, \"33\": {\"33\": 26, \"41\": 2}, \"56\": {\"56\": 131, \"22\": 4, \"0\": 1}, \"23\": {\"23\": 125, \"19\": 3, \"42\": 1, \"53\": 1}, \"54\": {\"54\": 99, \"53\": 1}, \"21\": {\"21\": 118, \"44\": 1, \"46\": 5, \"40\": 1, \"50\": 1}, \"28\": {\"28\": 28}, \"26\": {\"26\": 20, \"23\": 3, \"42\": 1}, \"48\": {\"48\": 79, \"20\": 1, \"9\": 18, \"30\": 1, \"27\": 15, \"29\": 1, \"4\": 1}, \"52\": {\"52\": 118}, \"39\": {\"39\": 13, \"14\": 1, \"35\": 1, \"7\": 1}, \"22\": {\"22\": 124, \"56\": 8, \"0\": 6, \"47\": 1, \"1\": 1}, \"13\": {\"14\": 4, \"13\": 124}, \"2\": {\"51\": 3, \"2\": 24, \"38\": 3, \"17\": 1, \"36\": 1}, \"34\": {\"34\": 23, \"37\": 2, \"42\": 2, \"43\": 2, \"55\": 3}, \"27\": {\"27\": 107, \"48\": 10, \"9\": 13, \"57\": 1, \"33\": 1}, \"45\": {\"45\": 53, \"12\": 2, \"6\": 3, \"50\": 1, \"3\": 1}, \"35\": {\"35\": 28}, \"29\": {\"29\": 103, \"41\": 3, \"1\": 12, \"57\": 9, \"47\": 1}, \"25\": {\"25\": 131, \"15\": 8, \"16\": 3, \"11\": 2}, \"0\": {\"0\": 122, \"22\": 2}, \"41\": {\"41\": 16, \"52\": 1, \"47\": 4, \"33\": 2, \"29\": 3, \"9\": 2}, \"11\": {\"11\": 109, \"15\": 17, \"16\": 16}, \"5\": {\"5\": 105, \"3\": 1, \"46\": 2}, \"1\": {\"1\": 88, \"29\": 6, \"57\": 5, \"47\": 1}, \"57\": {\"57\": 96, \"47\": 2, \"41\": 1, \"1\": 11, \"29\": 6}, \"17\": {\"17\": 106, \"10\": 1, \"15\": 1}, \"7\": {\"37\": 3, \"39\": 1, \"35\": 4, \"7\": 17, \"14\": 3, \"13\": 4, \"34\": 2, \"26\": 1, \"42\": 1}, \"12\": {\"12\": 88, \"21\": 1, \"45\": 2, \"3\": 1}, \"47\": {\"29\": 7, \"47\": 75, \"22\": 1, \"1\": 7, \"57\": 2}, \"40\": {\"40\": 126, \"30\": 5, \"46\": 3, \"52\": 1, \"21\": 1}, \"15\": {\"15\": 117, \"11\": 23, \"16\": 2}, \"42\": {\"42\": 26, \"35\": 1, \"24\": 1}, \"55\": {\"55\": 128, \"42\": 5, \"34\": 3, \"43\": 5, \"13\": 1, \"23\": 4, \"49\": 1, \"37\": 1, \"35\": 1, \"24\": 1}, \"49\": {\"49\": 8, \"7\": 3, \"14\": 1, \"13\": 2, \"43\": 2, \"24\": 3, \"35\": 1}, \"30\": {\"30\": 118, \"40\": 2}, \"50\": {\"50\": 112, \"21\": 5, \"44\": 2, \"3\": 7, \"46\": 7, \"5\": 1}, \"4\": {\"4\": 122, \"20\": 7, \"27\": 2, \"48\": 2, \"9\": 2, \"8\": 1}}, \"C_4\": {\"35\": {\"35\": 20, \"14\": 1, \"37\": 4, \"2\": 4, \"41\": 3, \"42\": 1, \"33\": 1, \"55\": 1, \"49\": 1, \"32\": 1, \"36\": 1, \"7\": 1, \"54\": 1}, \"25\": {\"25\": 127, \"28\": 1, \"15\": 2, \"16\": 1, \"53\": 1, \"11\": 1, \"18\": 1}, \"24\": {\"24\": 54, \"43\": 2}, \"48\": {\"48\": 103, \"20\": 9, \"8\": 19, \"9\": 6, \"27\": 1}, \"51\": {\"51\": 142, \"36\": 2}, \"13\": {\"13\": 120}, \"14\": {\"14\": 11, \"35\": 1, \"39\": 1, \"37\": 1, \"13\": 1, \"52\": 1}, \"32\": {\"35\": 2, \"24\": 5, \"37\": 2, \"32\": 10, \"49\": 2, \"2\": 1, \"54\": 2}, \"30\": {\"30\": 44}, \"34\": {\"24\": 1, \"34\": 20, \"42\": 1, \"19\": 1, \"16\": 1}, \"9\": {\"9\": 121, \"8\": 8, \"20\": 5, \"4\": 2}, \"1\": {\"1\": 37, \"47\": 2, \"57\": 1}, \"0\": {\"0\": 79, \"56\": 1}, \"38\": {\"38\": 35, \"37\": 3, \"2\": 1, \"13\": 1}, \"22\": {\"22\": 103, \"46\": 12, \"0\": 6, \"5\": 1, \"56\": 2, \"40\": 3, \"44\": 1}, \"40\": {\"40\": 113, \"44\": 5, \"46\": 2}, \"6\": {\"6\": 82, \"50\": 15, \"3\": 10, \"5\": 5}, \"16\": {\"16\": 82, \"11\": 3, \"15\": 11}, \"11\": {\"11\": 97, \"15\": 5, \"16\": 2}, \"20\": {\"20\": 105, \"8\": 2, \"9\": 11, \"48\": 4}, \"17\": {\"17\": 80}, \"26\": {\"55\": 3, \"19\": 1, \"26\": 14, \"31\": 3, \"54\": 1, \"53\": 1, \"23\": 1}, \"54\": {\"54\": 102, \"55\": 2, \"23\": 2, \"53\": 1, \"19\": 1}, \"55\": {\"55\": 124, \"42\": 3, \"23\": 3, \"26\": 1, \"54\": 7, \"43\": 1, \"19\": 10, \"49\": 1, \"7\": 1, \"33\": 1, \"41\": 2}, \"50\": {\"50\": 104, \"6\": 11, \"3\": 15, \"18\": 1, \"45\": 1}, \"19\": {\"19\": 125, \"31\": 3, \"42\": 2, \"53\": 2, \"23\": 9, \"16\": 1}, \"44\": {\"40\": 21, \"44\": 101}, \"47\": {\"47\": 101, \"1\": 2, \"29\": 8, \"57\": 6, \"52\": 3}, \"33\": {\"33\": 34, \"39\": 1, \"7\": 1}, \"5\": {\"44\": 1, \"5\": 102, \"3\": 2, \"6\": 2, \"50\": 1}, \"18\": {\"18\": 105, \"25\": 2, \"11\": 1}, \"21\": {\"21\": 124}, \"41\": {\"39\": 2, \"7\": 3, \"41\": 22, \"43\": 2, \"29\": 1, \"55\": 2, \"14\": 1, \"38\": 2, \"2\": 1}, \"23\": {\"54\": 3, \"23\": 77, \"42\": 4, \"53\": 12, \"19\": 14, \"55\": 13, \"31\": 2, \"26\": 1, \"43\": 1, \"50\": 1}, \"39\": {\"39\": 20}, \"37\": {\"37\": 12, \"39\": 1, \"49\": 4, \"29\": 1, \"35\": 4, \"14\": 1, \"38\": 1}, \"8\": {\"20\": 6, \"8\": 104, \"9\": 15, \"48\": 18, \"4\": 1}, \"49\": {\"49\": 7, \"35\": 3, \"38\": 1, \"19\": 1, \"55\": 2, \"24\": 1, \"2\": 2, \"37\": 1, \"33\": 1, \"42\": 1}, \"53\": {\"53\": 140}, \"31\": {\"19\": 3, \"31\": 20, \"54\": 1, \"42\": 2, \"26\": 2}, \"28\": {\"16\": 1, \"28\": 25, \"34\": 1, \"25\": 4, \"31\": 1}, \"3\": {\"50\": 9, \"3\": 95, \"6\": 16, \"5\": 2, \"44\": 2}, \"27\": {\"27\": 136, \"48\": 2}, \"46\": {\"46\": 108, \"44\": 9, \"40\": 3, \"22\": 8}, \"12\": {\"12\": 91, \"21\": 1}, \"7\": {\"42\": 1, \"55\": 2, \"32\": 2, \"7\": 11, \"2\": 1, \"33\": 1, \"35\": 2, \"41\": 3, \"23\": 1}, \"4\": {\"4\": 118, \"9\": 1, \"48\": 4, \"20\": 7, \"29\": 1, \"27\": 1}, \"42\": {\"42\": 22, \"31\": 2, \"26\": 1, \"54\": 1, \"33\": 1, \"19\": 2, \"41\": 1, \"49\": 1, \"23\": 1}, \"43\": {\"43\": 126, \"49\": 1, \"41\": 1, \"55\": 1, \"24\": 1}, \"29\": {\"29\": 102, \"57\": 11, \"47\": 4, \"1\": 3}, \"57\": {\"1\": 1, \"57\": 83, \"47\": 5, \"29\": 11}, \"52\": {\"52\": 104}, \"45\": {\"45\": 89, \"12\": 2, \"30\": 1, \"50\": 4}, \"36\": {\"36\": 80, \"17\": 2, \"55\": 4, \"51\": 3, \"54\": 2, \"19\": 1}, \"10\": {\"10\": 126}, \"15\": {\"15\": 116, \"11\": 6, \"18\": 2, \"16\": 10}, \"56\": {\"56\": 118, \"0\": 6}, \"2\": {\"2\": 32, \"13\": 3, \"38\": 1}}, \"W_4\": {\"28\": {\"28\": 16, \"19\": 2, \"85\": 1, \"61\": 1}, \"4\": {\"4\": 97, \"10\": 1, \"24\": 1, \"86\": 2, \"39\": 1, \"125\": 2}, \"72\": {\"14\": 3, \"72\": 17, \"7\": 1, \"107\": 1, \"103\": 1, \"16\": 2, \"3\": 3, \"34\": 2, \"120\": 1, \"99\": 1}, \"111\": {\"111\": 117, \"124\": 10, \"10\": 2, \"125\": 1, \"105\": 2, \"6\": 1, \"129\": 1, \"126\": 1, \"0\": 1}, \"108\": {\"108\": 60, \"109\": 9, \"24\": 4, \"88\": 4, \"94\": 1, \"27\": 1, \"98\": 1, \"43\": 3, \"70\": 6, \"39\": 1, \"10\": 1, \"12\": 1}, \"43\": {\"43\": 99, \"36\": 2, \"122\": 4, \"27\": 6, \"109\": 2, \"110\": 1, \"24\": 3, \"113\": 1, \"71\": 1, \"118\": 1}, \"96\": {\"96\": 12, \"14\": 3, \"93\": 2, \"110\": 1, \"113\": 1, \"118\": 1}, \"89\": {\"89\": 22, \"85\": 4, \"78\": 1, \"52\": 2, \"43\": 1, \"33\": 1, \"32\": 1}, \"31\": {\"28\": 2, \"31\": 6, \"83\": 1, \"5\": 1, \"90\": 2, \"19\": 2, \"73\": 1, \"74\": 1}, \"45\": {\"28\": 2, \"45\": 6, \"120\": 2, \"64\": 2, \"112\": 1, \"73\": 1, \"92\": 1, \"32\": 1}, \"2\": {\"2\": 25, \"117\": 1, \"66\": 1, \"45\": 1}, \"114\": {\"114\": 91, \"108\": 1, \"107\": 18, \"76\": 1, \"95\": 2, \"3\": 3, \"1\": 6, \"53\": 1, \"89\": 1, \"88\": 1, \"40\": 3}, \"11\": {\"11\": 96, \"96\": 1, \"118\": 3, \"0\": 2, \"122\": 1, \"7\": 4, \"62\": 7, \"14\": 2, \"8\": 2, \"87\": 2, \"69\": 1, \"110\": 9, \"84\": 1, \"16\": 1, \"93\": 3, \"126\": 1}, \"12\": {\"14\": 2, \"12\": 74, \"11\": 1, \"98\": 1, \"106\": 12, \"88\": 1, \"101\": 1, \"127\": 3, \"28\": 1, \"72\": 1, \"108\": 1, \"7\": 2}, \"14\": {\"14\": 100, \"109\": 1, \"105\": 2, \"127\": 6, \"72\": 1, \"69\": 2}, \"90\": {\"90\": 148, \"102\": 1, \"22\": 1, \"57\": 2, \"67\": 1, \"117\": 1}, \"10\": {\"10\": 90, \"43\": 2, \"70\": 12, \"24\": 8, \"36\": 2, \"88\": 4, \"108\": 2, \"18\": 1, \"39\": 1}, \"63\": {\"123\": 1, \"63\": 13, \"117\": 2}, \"85\": {\"85\": 19, \"89\": 1, \"107\": 1, \"100\": 2, \"52\": 1, \"9\": 1, \"46\": 1, \"78\": 1, \"98\": 1}, \"64\": {\"64\": 10, \"11\": 1, \"120\": 1, \"45\": 1, \"126\": 1, \"33\": 2}, \"82\": {\"85\": 2, \"107\": 1, \"9\": 1, \"100\": 1, \"32\": 2, \"55\": 1, \"82\": 14, \"56\": 1, \"112\": 1, \"33\": 2, \"98\": 1, \"129\": 1, \"89\": 2, \"120\": 1, \"103\": 1}, \"58\": {\"91\": 1, \"42\": 1, \"58\": 10, \"70\": 1, \"82\": 1, \"6\": 2}, \"3\": {\"3\": 100, \"12\": 1, \"118\": 1, \"40\": 3, \"21\": 2, \"114\": 8, \"81\": 1, \"49\": 4, \"105\": 1, \"5\": 1, \"20\": 2, \"71\": 2, \"34\": 2, \"72\": 1, \"88\": 2, \"1\": 3, \"107\": 2}, \"54\": {\"58\": 1, \"85\": 1, \"54\": 11, \"125\": 2, \"104\": 1}, \"121\": {\"121\": 30, \"90\": 1, \"81\": 1}, \"42\": {\"91\": 2, \"116\": 1, \"112\": 1, \"42\": 13, \"25\": 1, \"29\": 2, \"6\": 1, \"75\": 1, \"102\": 4, \"98\": 1, \"73\": 1}, \"98\": {\"98\": 106, \"29\": 2, \"121\": 2, \"44\": 1, \"111\": 1, \"109\": 1, \"95\": 1, \"41\": 2, \"19\": 1, \"25\": 1, \"120\": 2}, \"123\": {\"123\": 15, \"102\": 1}, \"91\": {\"98\": 1, \"91\": 18, \"103\": 1, \"77\": 1, \"68\": 1, \"41\": 1, \"29\": 1}, \"83\": {\"120\": 1, \"83\": 11, \"36\": 1, \"56\": 1, \"3\": 1, \"103\": 2, \"40\": 1, \"5\": 3, \"99\": 2, \"92\": 1, \"32\": 1, \"107\": 2, \"70\": 1}, \"99\": {\"60\": 2, \"3\": 6, \"83\": 1, \"1\": 1, \"71\": 3, \"99\": 16, \"74\": 2, \"72\": 1, \"105\": 1, \"14\": 1, \"20\": 1, \"69\": 2, \"89\": 1, \"40\": 2}, \"112\": {\"120\": 1, \"45\": 1, \"112\": 9, \"91\": 2, \"103\": 1, \"28\": 1, \"116\": 1}, \"119\": {\"124\": 2, \"119\": 12, \"104\": 2}, \"70\": {\"70\": 80, \"27\": 2, \"118\": 1, \"88\": 4, \"43\": 1, \"39\": 2, \"108\": 7, \"10\": 11, \"24\": 9, \"114\": 1, \"109\": 3, \"126\": 1, \"73\": 1, \"7\": 1}, \"20\": {\"99\": 2, \"5\": 2, \"20\": 9, \"3\": 1, \"122\": 1, \"92\": 1}, \"120\": {\"120\": 8, \"19\": 2, \"64\": 2, \"100\": 1, \"55\": 1, \"89\": 2, \"52\": 2, \"82\": 2}, \"7\": {\"60\": 4, \"7\": 110, \"1\": 1, \"12\": 2, \"0\": 1, \"108\": 1, \"78\": 1, \"105\": 1, \"11\": 2, \"101\": 1}, \"60\": {\"60\": 27, \"7\": 1, \"69\": 1, \"16\": 2, \"93\": 1}, \"113\": {\"113\": 113, \"62\": 1, \"118\": 1, \"39\": 1, \"24\": 1, \"16\": 1}, \"37\": {\"37\": 14, \"11\": 1, \"109\": 1}, \"124\": {\"124\": 100, \"115\": 1, \"104\": 1, \"111\": 7, \"17\": 1}, \"27\": {\"27\": 66, \"0\": 6, \"43\": 9, \"87\": 5, \"110\": 1, \"36\": 4, \"30\": 2, \"88\": 1, \"10\": 1, \"126\": 2, \"118\": 2, \"15\": 1}, \"86\": {\"86\": 28}, \"127\": {\"127\": 87, \"12\": 2, \"88\": 2, \"10\": 1, \"1\": 2, \"84\": 1, \"126\": 1, \"71\": 3, \"14\": 3, \"39\": 2, \"114\": 3, \"69\": 1}, \"62\": {\"62\": 42, \"39\": 1, \"109\": 2, \"118\": 1, \"93\": 3, \"122\": 1, \"8\": 3, \"126\": 1, \"11\": 4, \"16\": 2}, \"122\": {\"122\": 46, \"118\": 11, \"109\": 1, \"62\": 5, \"87\": 8, \"0\": 2, \"110\": 9, \"90\": 1, \"88\": 1}, \"51\": {\"127\": 2, \"85\": 1, \"30\": 1, \"21\": 1, \"51\": 3, \"53\": 2, \"71\": 1, \"97\": 1, \"62\": 1, \"72\": 1, \"34\": 1, \"109\": 1}, \"109\": {\"109\": 94, \"88\": 4, \"70\": 4, \"10\": 2, \"108\": 5, \"39\": 1, \"24\": 1, \"126\": 1, \"43\": 2}, \"106\": {\"106\": 83, \"7\": 3, \"39\": 2, \"12\": 11, \"14\": 2, \"88\": 2, \"114\": 2, \"127\": 5, \"109\": 2, \"78\": 2}, \"94\": {\"94\": 68, \"118\": 1, \"0\": 2, \"30\": 4, \"127\": 2, \"15\": 9, \"7\": 1, \"11\": 1}, \"38\": {\"38\": 13, \"33\": 2, \"92\": 1}, \"129\": {\"129\": 19, \"116\": 1, \"59\": 1, \"120\": 1, \"124\": 3, \"50\": 2, \"45\": 1}, \"116\": {\"116\": 21, \"129\": 1, \"124\": 1, \"48\": 1, \"102\": 1, \"119\": 1, \"63\": 2}, \"107\": {\"107\": 98, \"114\": 14, \"1\": 1, \"40\": 1, \"5\": 1, \"3\": 3}, \"30\": {\"101\": 2, \"30\": 63, \"36\": 6, \"39\": 1, \"94\": 1, \"10\": 1, \"0\": 1, \"126\": 1}, \"102\": {\"102\": 124, \"116\": 1, \"129\": 2, \"124\": 3, \"62\": 1, \"6\": 1}, \"74\": {\"74\": 11, \"32\": 1, \"89\": 2, \"31\": 2}, \"101\": {\"101\": 119, \"94\": 2, \"7\": 2, \"106\": 1, \"24\": 1, \"62\": 1, \"12\": 3, \"15\": 3}, \"117\": {\"117\": 112, \"126\": 1, \"88\": 1, \"90\": 2, \"10\": 1, \"102\": 3, \"63\": 1, \"83\": 2, \"124\": 1}, \"1\": {\"1\": 64, \"100\": 1, \"114\": 1, \"3\": 3, \"95\": 2, \"74\": 2, \"49\": 2, \"99\": 4, \"88\": 2, \"24\": 2, \"40\": 7, \"107\": 3, \"71\": 5, \"105\": 4, \"102\": 2, \"98\": 1, \"21\": 1, \"109\": 1, \"69\": 1}, \"84\": {\"84\": 113, \"5\": 3, \"113\": 1, \"69\": 2, \"109\": 2, \"105\": 1, \"88\": 2, \"18\": 2, \"16\": 2, \"14\": 3, \"40\": 1}, \"17\": {\"17\": 13, \"6\": 1, \"68\": 2, \"104\": 1, \"42\": 1, \"86\": 2}, \"6\": {\"6\": 22, \"68\": 1, \"91\": 1}, \"110\": {\"110\": 101, \"8\": 1, \"62\": 4, \"118\": 2, \"11\": 8, \"122\": 3, \"24\": 1, \"88\": 1, \"27\": 2, \"87\": 1}, \"77\": {\"77\": 11, \"47\": 1}, \"8\": {\"8\": 94, \"110\": 1, \"109\": 1, \"7\": 5, \"94\": 3, \"62\": 3, \"0\": 9, \"15\": 6, \"36\": 2, \"43\": 2, \"30\": 1, \"87\": 1, \"106\": 3, \"10\": 1}, \"73\": {\"91\": 1, \"57\": 1, \"38\": 2, \"73\": 9, \"104\": 1, \"48\": 3, \"39\": 1, \"19\": 1, \"6\": 1, \"120\": 1, \"46\": 1, \"112\": 1, \"45\": 1}, \"126\": {\"126\": 116, \"113\": 3, \"88\": 1, \"109\": 1, \"21\": 1, \"118\": 2}, \"57\": {\"57\": 13, \"103\": 2, \"33\": 1}, \"95\": {\"95\": 23, \"39\": 1, \"99\": 1, \"34\": 2, \"72\": 1, \"71\": 1, \"105\": 1, \"85\": 2}, \"103\": {\"103\": 5, \"82\": 2, \"17\": 1, \"47\": 2, \"25\": 2, \"41\": 1, \"6\": 1, \"120\": 1, \"86\": 1}, \"97\": {\"97\": 17, \"111\": 1, \"27\": 1, \"29\": 1}, \"39\": {\"39\": 93, \"88\": 1, \"126\": 2, \"108\": 3, \"21\": 1}, \"100\": {\"83\": 2, \"32\": 4, \"100\": 6, \"85\": 1, \"46\": 2, \"5\": 1, \"107\": 2, \"128\": 2}, \"40\": {\"40\": 86, \"3\": 8, \"1\": 8, \"105\": 4, \"109\": 1, \"34\": 1, \"71\": 2}, \"36\": {\"36\": 102, \"87\": 2, \"30\": 6, \"27\": 6, \"0\": 3, \"8\": 1, \"15\": 3, \"24\": 1, \"94\": 1, \"88\": 1}, \"19\": {\"56\": 2, \"19\": 12, \"64\": 2, \"73\": 2, \"9\": 1, \"92\": 1, \"55\": 1, \"41\": 2, \"98\": 3, \"57\": 1, \"90\": 1}, \"118\": {\"118\": 90, \"122\": 2, \"87\": 9, \"110\": 4, \"27\": 2, \"8\": 1, \"43\": 1, \"62\": 1, \"24\": 1, \"127\": 1}, \"56\": {\"56\": 9, \"41\": 2, \"6\": 1}, \"26\": {\"26\": 124, \"109\": 1, \"93\": 1}, \"5\": {\"5\": 120, \"44\": 3, \"82\": 1, \"95\": 1, \"33\": 6, \"117\": 1, \"114\": 2, \"107\": 1, \"108\": 1}, \"21\": {\"21\": 36, \"78\": 1, \"1\": 1, \"122\": 2}, \"22\": {\"22\": 10, \"94\": 1, \"50\": 2, \"28\": 2, \"42\": 1}, \"68\": {\"103\": 2, \"68\": 11, \"91\": 1, \"111\": 2}, \"9\": {\"107\": 4, \"56\": 2, \"52\": 1, \"51\": 2, \"128\": 2, \"44\": 1, \"105\": 1, \"3\": 1, \"32\": 1, \"46\": 1, \"9\": 5, \"75\": 1, \"98\": 1, \"19\": 1, \"89\": 1, \"99\": 2, \"25\": 1}, \"66\": {\"22\": 2, \"28\": 2, \"66\": 8, \"50\": 1, \"73\": 1, \"90\": 1, \"116\": 1}, \"87\": {\"87\": 102, \"110\": 3, \"118\": 8, \"27\": 1, \"8\": 2, \"30\": 2, \"62\": 2, \"11\": 1, \"43\": 1, \"15\": 1, \"109\": 1}, \"71\": {\"71\": 84, \"39\": 2, \"14\": 1, \"114\": 2, \"105\": 9, \"1\": 1, \"40\": 3, \"49\": 1, \"21\": 1}, \"115\": {\"68\": 2, \"115\": 8, \"79\": 2, \"13\": 1, \"116\": 2, \"125\": 1}, \"23\": {\"68\": 1, \"97\": 1, \"23\": 2, \"11\": 2, \"21\": 2, \"101\": 1, \"44\": 1, \"20\": 1, \"122\": 1, \"10\": 2, \"113\": 1, \"26\": 1}, \"33\": {\"33\": 110, \"83\": 2, \"128\": 1, \"0\": 1, \"5\": 3, \"90\": 1}, \"35\": {\"35\": 7, \"39\": 1, \"18\": 2, \"81\": 2}, \"125\": {\"125\": 126, \"90\": 2, \"111\": 1, \"117\": 2, \"10\": 1}, \"47\": {\"47\": 12}, \"79\": {\"79\": 14, \"116\": 1, \"80\": 1}, \"53\": {\"53\": 13, \"76\": 1, \"46\": 1, \"34\": 1}, \"67\": {\"67\": 8, \"120\": 1, \"61\": 1, \"116\": 1, \"123\": 1, \"73\": 1, \"126\": 1, \"13\": 1, \"19\": 1}, \"80\": {\"80\": 16}, \"105\": {\"105\": 73, \"88\": 1, \"78\": 1, \"71\": 8, \"14\": 3, \"39\": 2, \"3\": 2, \"40\": 4, \"102\": 2, \"93\": 1, \"83\": 1, \"127\": 1, \"69\": 1}, \"76\": {\"76\": 11, \"53\": 4, \"71\": 1}, \"46\": {\"100\": 3, \"46\": 8, \"111\": 1, \"33\": 1, \"32\": 3, \"83\": 1, \"129\": 1, \"85\": 2}, \"34\": {\"32\": 3, \"71\": 1, \"34\": 12, \"107\": 3, \"3\": 3, \"49\": 2, \"1\": 2, \"40\": 1, \"52\": 2, \"54\": 2, \"89\": 1}, \"32\": {\"100\": 1, \"46\": 2, \"32\": 14, \"1\": 1, \"114\": 3, \"33\": 4, \"3\": 2, \"107\": 1}, \"13\": {\"13\": 12, \"115\": 1, \"102\": 3}, \"78\": {\"78\": 31, \"88\": 3, \"21\": 1, \"109\": 1}, \"41\": {\"56\": 1, \"41\": 11, \"67\": 1, \"29\": 1, \"103\": 2}, \"69\": {\"3\": 1, \"69\": 112, \"84\": 3, \"126\": 2, \"105\": 3, \"16\": 1, \"127\": 2, \"78\": 1, \"88\": 1, \"14\": 2}, \"88\": {\"88\": 112, \"70\": 5, \"117\": 1, \"24\": 2, \"122\": 1, \"109\": 4, \"10\": 2, \"108\": 2, \"21\": 1, \"39\": 1, \"90\": 1}, \"15\": {\"15\": 101, \"0\": 3, \"8\": 9, \"24\": 2, \"94\": 7, \"126\": 1, \"88\": 1, \"30\": 2, \"39\": 1, \"7\": 1}, \"61\": {\"3\": 1, \"74\": 1, \"61\": 7, \"48\": 2, \"121\": 1, \"44\": 1, \"5\": 1, \"18\": 2}, \"0\": {\"0\": 71, \"97\": 1, \"8\": 16, \"87\": 7, \"15\": 8, \"94\": 4, \"30\": 1, \"24\": 1, \"101\": 1, \"62\": 1, \"108\": 2, \"70\": 1, \"117\": 1, \"110\": 1}, \"104\": {\"17\": 1, \"42\": 1, \"73\": 1, \"91\": 1, \"124\": 2, \"104\": 5, \"6\": 2, \"119\": 1, \"29\": 1, \"116\": 1}, \"48\": {\"48\": 4, \"116\": 2, \"123\": 2, \"102\": 2, \"2\": 1, \"65\": 2, \"98\": 1, \"117\": 2}, \"25\": {\"25\": 11, \"75\": 1, \"9\": 1, \"98\": 2, \"85\": 1}, \"75\": {\"75\": 13, \"85\": 2, \"77\": 1}, \"81\": {\"81\": 28, \"33\": 1, \"39\": 1, \"92\": 1, \"84\": 2, \"18\": 2, \"117\": 1}, \"50\": {\"50\": 8, \"112\": 1, \"42\": 1, \"111\": 1, \"86\": 1, \"129\": 1, \"119\": 1, \"104\": 1, \"19\": 1}, \"52\": {\"95\": 2, \"52\": 12, \"58\": 1, \"100\": 2, \"98\": 1, \"34\": 2}, \"16\": {\"16\": 106, \"84\": 1, \"7\": 1, \"108\": 1, \"93\": 2, \"33\": 1, \"96\": 1, \"14\": 1, \"26\": 3, \"11\": 2, \"117\": 1}, \"44\": {\"44\": 55, \"5\": 2, \"121\": 1, \"3\": 2, \"18\": 1, \"107\": 1, \"84\": 2}, \"29\": {\"29\": 26, \"21\": 1, \"41\": 1, \"47\": 1, \"122\": 1, \"98\": 1, \"25\": 1}, \"93\": {\"93\": 106, \"118\": 2, \"110\": 3, \"114\": 1, \"69\": 4, \"11\": 4, \"16\": 3, \"84\": 1}, \"18\": {\"18\": 110, \"69\": 2, \"81\": 2}, \"49\": {\"49\": 12, \"3\": 3, \"71\": 1, \"127\": 2, \"99\": 3, \"114\": 1, \"44\": 1, \"20\": 2, \"69\": 1, \"34\": 1, \"100\": 2, \"107\": 2, \"1\": 1}, \"55\": {\"55\": 11, \"82\": 1, \"17\": 2, \"58\": 1, \"9\": 1}, \"59\": {\"59\": 9, \"86\": 2, \"21\": 1}, \"128\": {\"128\": 15, \"9\": 1, \"92\": 1, \"124\": 1, \"46\": 1, \"83\": 1, \"33\": 1, \"98\": 1, \"89\": 1, \"85\": 1}, \"24\": {\"24\": 81, \"109\": 3, \"43\": 3, \"10\": 10, \"70\": 10, \"27\": 4, \"108\": 5, \"36\": 1, \"0\": 2, \"39\": 1}, \"65\": {\"65\": 12}, \"92\": {\"128\": 1, \"92\": 17, \"90\": 2, \"44\": 1, \"82\": 1, \"57\": 3, \"114\": 1, \"107\": 1, \"64\": 1}}, \"W_1\": {\"108\": {\"108\": 90, \"87\": 2, \"24\": 6, \"11\": 3, \"10\": 4, \"43\": 2, \"88\": 13, \"126\": 3, \"93\": 1}, \"40\": {\"9\": 1, \"40\": 93, \"34\": 2, \"1\": 4, \"71\": 4, \"72\": 1, \"105\": 9, \"14\": 2, \"127\": 4, \"107\": 2, \"0\": 1, \"44\": 1, \"111\": 1, \"101\": 7, \"106\": 1, \"12\": 1, \"114\": 2}, \"68\": {\"68\": 11, \"22\": 1, \"17\": 1, \"112\": 2, \"91\": 1}, \"23\": {\"26\": 2, \"3\": 1, \"7\": 1, \"122\": 1, \"110\": 3, \"96\": 1, \"23\": 4, \"94\": 3, \"0\": 2, \"44\": 1, \"36\": 2, \"1\": 2, \"76\": 1}, \"26\": {\"26\": 105, \"44\": 1, \"24\": 1, \"16\": 9, \"18\": 3, \"70\": 1}, \"64\": {\"64\": 14, \"57\": 1, \"61\": 1}, \"22\": {\"22\": 10, \"64\": 1, \"83\": 1, \"116\": 1, \"74\": 1, \"120\": 1, \"43\": 1}, \"3\": {\"3\": 67, \"62\": 2, \"0\": 1, \"1\": 4, \"71\": 1, \"114\": 4, \"40\": 1, \"111\": 1, \"116\": 1, \"33\": 4, \"14\": 1, \"101\": 1}, \"4\": {\"4\": 97, \"125\": 2, \"108\": 1}, \"70\": {\"70\": 106, \"10\": 5, \"109\": 6, \"78\": 1, \"108\": 1, \"88\": 1}, \"57\": {\"57\": 11, \"124\": 1}, \"79\": {\"79\": 10, \"124\": 1, \"67\": 1}, \"9\": {\"9\": 28, \"75\": 1, \"49\": 1, \"83\": 2}, \"89\": {\"89\": 19, \"1\": 1, \"49\": 3, \"29\": 2, \"75\": 1, \"72\": 2, \"81\": 1, \"53\": 2, \"107\": 3, \"32\": 1, \"5\": 1}, \"110\": {\"110\": 121, \"87\": 3, \"0\": 1, \"36\": 2, \"7\": 1}, \"102\": {\"102\": 116, \"22\": 1, \"10\": 1, \"124\": 1, \"5\": 1}, \"31\": {\"31\": 10, \"105\": 1, \"114\": 1, \"14\": 1, \"34\": 1, \"35\": 1, \"7\": 1}, \"58\": {\"68\": 1, \"58\": 10, \"37\": 1}, \"47\": {\"83\": 2, \"28\": 1, \"19\": 1, \"47\": 3, \"114\": 1, \"25\": 2, \"49\": 2}, \"24\": {\"11\": 7, \"93\": 6, \"24\": 48, \"122\": 1, \"97\": 1, \"108\": 12, \"30\": 1, \"88\": 10, \"126\": 1, \"70\": 1, \"10\": 1, \"87\": 1, \"43\": 2}, \"19\": {\"19\": 23, \"82\": 1, \"120\": 2, \"73\": 1, \"38\": 1}, \"11\": {\"11\": 102, \"126\": 17, \"39\": 2, \"43\": 7, \"108\": 2, \"8\": 1, \"87\": 1}, \"52\": {\"52\": 19, \"32\": 1}, \"17\": {\"115\": 1, \"17\": 4, \"68\": 2, \"43\": 1, \"111\": 2, \"55\": 3, \"4\": 1, \"129\": 1, \"41\": 1}, \"25\": {\"57\": 1, \"19\": 1, \"25\": 4, \"120\": 1, \"128\": 2, \"66\": 2, \"45\": 1, \"47\": 1, \"33\": 1, \"5\": 2}, \"69\": {\"69\": 102, \"70\": 3, \"62\": 1, \"26\": 2}, \"96\": {\"69\": 2, \"96\": 6, \"68\": 1, \"65\": 1, \"76\": 1, \"121\": 1, \"101\": 1, \"126\": 1, \"109\": 1, \"110\": 1, \"117\": 1, \"35\": 1, \"118\": 1, \"44\": 1}, \"109\": {\"109\": 107, \"78\": 1, \"70\": 4, \"10\": 1, \"88\": 1}, \"115\": {\"115\": 12}, \"83\": {\"31\": 1, \"83\": 15, \"107\": 2, \"109\": 1, \"99\": 1, \"86\": 2, \"34\": 1, \"17\": 1, \"19\": 2, \"114\": 1, \"9\": 1}, \"84\": {\"84\": 98, \"0\": 1, \"40\": 1, \"62\": 8, \"105\": 1, \"7\": 13, \"88\": 1, \"35\": 2, \"10\": 1, \"71\": 2}, \"119\": {\"119\": 12, \"2\": 2, \"116\": 1, \"13\": 1}, \"122\": {\"122\": 64, \"11\": 4, \"8\": 3, \"97\": 1, \"126\": 2, \"70\": 2, \"15\": 2, \"87\": 5, \"109\": 1, \"93\": 1, \"43\": 1, \"21\": 2}, \"99\": {\"99\": 16, \"81\": 2, \"3\": 1, \"100\": 3, \"33\": 1, \"90\": 1}, \"1\": {\"1\": 131, \"118\": 1, \"70\": 1, \"81\": 2, \"10\": 1}, \"74\": {\"74\": 10, \"1\": 3, \"67\": 1, \"72\": 1, \"114\": 1}, \"85\": {\"85\": 23, \"53\": 1, \"32\": 3, \"56\": 2, \"107\": 1, \"98\": 1, \"83\": 1}, \"127\": {\"127\": 86, \"39\": 1, \"71\": 12, \"105\": 1, \"101\": 3, \"12\": 1, \"10\": 1, \"107\": 2, \"106\": 1}, \"111\": {\"111\": 111, \"59\": 1, \"6\": 2, \"124\": 4, \"5\": 1, \"24\": 1}, \"53\": {\"85\": 2, \"53\": 14, \"124\": 1, \"103\": 1, \"128\": 2}, \"88\": {\"88\": 108, \"24\": 9, \"108\": 5, \"43\": 1, \"93\": 5, \"8\": 2, \"10\": 1, \"126\": 1}, \"65\": {\"65\": 8, \"21\": 1, \"28\": 1, \"13\": 1, \"67\": 1}, \"7\": {\"7\": 122, \"62\": 6, \"84\": 5, \"60\": 1}, \"16\": {\"16\": 88, \"84\": 1, \"26\": 16, \"18\": 2, \"10\": 1}, \"128\": {\"128\": 18, \"38\": 2, \"37\": 1, \"107\": 1, \"90\": 1, \"89\": 1}, \"34\": {\"114\": 5, \"56\": 2, \"34\": 10, \"1\": 2, \"92\": 1, \"83\": 1, \"72\": 2, \"127\": 1, \"96\": 1, \"35\": 1, \"29\": 3, \"40\": 1, \"44\": 1, \"75\": 1}, \"129\": {\"129\": 19, \"104\": 1, \"112\": 1, \"45\": 1, \"2\": 4, \"86\": 2}, \"43\": {\"43\": 96, \"10\": 1, \"93\": 5, \"126\": 11, \"122\": 4, \"11\": 4, \"8\": 6, \"70\": 1}, \"92\": {\"92\": 28}, \"28\": {\"128\": 1, \"68\": 1, \"120\": 3, \"28\": 6, \"104\": 1, \"61\": 2, \"57\": 1, \"42\": 2, \"66\": 1, \"65\": 1, \"111\": 1}, \"27\": {\"27\": 77, \"36\": 1, \"8\": 3, \"97\": 1, \"15\": 1, \"30\": 6, \"87\": 1, \"93\": 1, \"94\": 1}, \"114\": {\"114\": 116, \"20\": 1, \"88\": 1, \"33\": 4, \"107\": 2}, \"73\": {\"104\": 1, \"73\": 9, \"64\": 1, \"41\": 2, \"75\": 1, \"83\": 2, \"103\": 1, \"51\": 1, \"34\": 1, \"9\": 1}, \"0\": {\"0\": 64, \"36\": 8, \"15\": 9, \"110\": 3}, \"104\": {\"28\": 1, \"129\": 1, \"104\": 9, \"5\": 1, \"61\": 2, \"116\": 2}, \"118\": {\"118\": 79, \"109\": 1, \"122\": 2, \"11\": 2}, \"41\": {\"104\": 1, \"41\": 13, \"55\": 1, \"86\": 1}, \"91\": {\"17\": 2, \"91\": 24, \"92\": 1, \"98\": 1}, \"124\": {\"124\": 119, \"102\": 2, \"5\": 1}, \"81\": {\"81\": 19, \"76\": 1, \"44\": 1, \"3\": 1, \"84\": 1, \"114\": 1, \"69\": 1, \"20\": 1, \"29\": 2}, \"63\": {\"129\": 1, \"63\": 11, \"61\": 1, \"2\": 1, \"13\": 1, \"102\": 1}, \"76\": {\"76\": 14, \"1\": 1, \"9\": 1}, \"10\": {\"10\": 106, \"111\": 1, \"70\": 9, \"108\": 1, \"122\": 2, \"109\": 1}, \"51\": {\"51\": 12, \"77\": 2, \"32\": 1, \"121\": 1}, \"82\": {\"82\": 31, \"64\": 1, \"120\": 1, \"90\": 2, \"129\": 1}, \"56\": {\"56\": 12}, \"30\": {\"30\": 41, \"27\": 2, \"122\": 1, \"43\": 1, \"24\": 1, \"93\": 2, \"88\": 2, \"23\": 2}, \"21\": {\"21\": 30, \"109\": 3, \"22\": 1, \"90\": 2, \"41\": 1, \"68\": 1, \"70\": 2}, \"46\": {\"124\": 1, \"65\": 1, \"46\": 8, \"6\": 1, \"57\": 1}, \"33\": {\"33\": 135, \"99\": 2, \"50\": 1}, \"101\": {\"101\": 100, \"71\": 9, \"35\": 1, \"107\": 1, \"126\": 1, \"44\": 1, \"12\": 1, \"40\": 3, \"127\": 6, \"98\": 1}, \"105\": {\"105\": 73, \"122\": 1, \"40\": 2, \"12\": 6, \"106\": 2}, \"50\": {\"50\": 8, \"28\": 1, \"1\": 1, \"82\": 1, \"73\": 1, \"78\": 1, \"83\": 1, \"33\": 2}, \"116\": {\"116\": 27, \"117\": 1, \"119\": 1, \"104\": 1, \"82\": 1, \"102\": 1}, \"77\": {\"77\": 12, \"83\": 2, \"68\": 2}, \"75\": {\"75\": 5, \"9\": 4, \"107\": 1, \"92\": 1, \"85\": 1, \"127\": 1, \"71\": 2, \"1\": 1}, \"95\": {\"95\": 34, \"99\": 1, \"82\": 1}, \"120\": {\"28\": 4, \"120\": 10, \"54\": 2, \"82\": 2, \"66\": 2}, \"18\": {\"18\": 97, \"16\": 9, \"113\": 1, \"26\": 1}, \"14\": {\"14\": 85, \"74\": 2, \"44\": 3, \"40\": 1, \"34\": 2, \"105\": 1, \"1\": 2}, \"44\": {\"44\": 72, \"50\": 1, \"31\": 1, \"14\": 2}, \"98\": {\"98\": 89, \"107\": 3, \"128\": 4}, \"121\": {\"121\": 32}, \"113\": {\"113\": 108}, \"103\": {\"53\": 2, \"103\": 9, \"128\": 1, \"38\": 1, \"52\": 1, \"89\": 2}, \"62\": {\"62\": 115, \"21\": 1, \"84\": 1, \"10\": 1, \"70\": 1, \"39\": 1}, \"32\": {\"32\": 29, \"85\": 2, \"53\": 1}, \"71\": {\"71\": 70, \"12\": 2, \"127\": 16, \"70\": 1, \"18\": 1, \"101\": 8, \"118\": 1, \"40\": 1, \"44\": 6, \"105\": 2}, \"94\": {\"94\": 73, \"0\": 2, \"27\": 3, \"110\": 4, \"8\": 1, \"36\": 5, \"10\": 2, \"23\": 1, \"11\": 1}, \"49\": {\"49\": 14, \"89\": 1, \"42\": 1, \"29\": 1, \"9\": 1, \"72\": 2}, \"12\": {\"12\": 85, \"71\": 3, \"101\": 5, \"127\": 1, \"105\": 2, \"109\": 1, \"106\": 4, \"21\": 1, \"70\": 1, \"40\": 1}, \"90\": {\"82\": 2, \"90\": 119, \"67\": 2, \"98\": 1}, \"93\": {\"93\": 108, \"87\": 1, \"43\": 4, \"126\": 1, \"11\": 2, \"8\": 2, \"97\": 1, \"122\": 1, \"24\": 1, \"15\": 1, \"88\": 2}, \"13\": {\"13\": 11, \"63\": 1, \"102\": 1, \"117\": 2, \"119\": 1}, \"67\": {\"111\": 1, \"67\": 7, \"55\": 1, \"90\": 1, \"61\": 1, \"82\": 1, \"54\": 2, \"107\": 1, \"95\": 1}, \"20\": {\"20\": 13, \"109\": 1, \"122\": 1, \"81\": 1}, \"2\": {\"104\": 1, \"2\": 21, \"67\": 1, \"25\": 1, \"5\": 1, \"22\": 2, \"129\": 2, \"63\": 1, \"66\": 1, \"117\": 1}, \"5\": {\"5\": 82, \"124\": 3, \"101\": 1, \"21\": 1, \"129\": 1}, \"54\": {\"54\": 9, \"41\": 2, \"104\": 1, \"38\": 1, \"19\": 1, \"122\": 1, \"29\": 1}, \"37\": {\"37\": 15, \"58\": 1}, \"38\": {\"38\": 15, \"34\": 1}, \"86\": {\"86\": 18, \"6\": 4, \"115\": 1, \"111\": 4, \"112\": 1, \"124\": 4, \"85\": 1, \"25\": 1, \"109\": 1, \"11\": 1}, \"55\": {\"55\": 12}, \"97\": {\"97\": 11, \"94\": 1, \"19\": 1, \"27\": 2, \"15\": 1, \"122\": 2, \"42\": 1, \"110\": 1}, \"29\": {\"29\": 26, \"34\": 2}, \"48\": {\"63\": 1, \"48\": 10, \"79\": 1}, \"60\": {\"60\": 9, \"7\": 1, \"76\": 2, \"18\": 1, \"0\": 1, \"26\": 1, \"62\": 1}, \"36\": {\"36\": 88, \"15\": 11, \"0\": 7, \"110\": 7, \"88\": 1, \"94\": 2, \"27\": 2, \"43\": 2, \"108\": 1, \"8\": 1}, \"42\": {\"73\": 1, \"2\": 1, \"120\": 2, \"77\": 2, \"98\": 1, \"42\": 11, \"116\": 3, \"107\": 1, \"47\": 1, \"28\": 2, \"19\": 2, \"21\": 1}, \"66\": {\"2\": 2, \"42\": 1, \"90\": 2, \"66\": 7, \"45\": 1, \"49\": 1, \"120\": 2}, \"126\": {\"126\": 97, \"11\": 16, \"43\": 7, \"8\": 2, \"109\": 1, \"108\": 1, \"122\": 2, \"88\": 1, \"93\": 1}, \"39\": {\"39\": 101, \"122\": 1, \"126\": 1, \"11\": 1}, \"107\": {\"107\": 107, \"49\": 1, \"72\": 3, \"89\": 2, \"70\": 1, \"114\": 4, \"118\": 2, \"1\": 4}, \"59\": {\"59\": 10, \"95\": 1, \"66\": 1}, \"117\": {\"117\": 138}, \"6\": {\"6\": 26, \"111\": 5, \"86\": 1}, \"123\": {\"123\": 16}, \"8\": {\"8\": 90, \"27\": 2, \"109\": 1, \"87\": 7, \"126\": 1, \"122\": 3, \"43\": 6, \"93\": 10, \"15\": 3, \"11\": 1}, \"112\": {\"112\": 7, \"111\": 1, \"98\": 2, \"83\": 1, \"109\": 1, \"55\": 2, \"68\": 1, \"91\": 1}, \"80\": {\"80\": 15, \"96\": 1}, \"125\": {\"125\": 134, \"98\": 2}, \"61\": {\"64\": 3, \"67\": 1, \"61\": 7, \"25\": 1}, \"45\": {\"43\": 1, \"64\": 3, \"45\": 6, \"86\": 2}, \"72\": {\"105\": 1, \"74\": 1, \"9\": 1, \"72\": 14, \"101\": 1, \"34\": 4, \"107\": 4, \"51\": 1, \"83\": 1, \"76\": 2, \"127\": 1, \"89\": 1}, \"87\": {\"87\": 84, \"122\": 11, \"43\": 1, \"8\": 9, \"110\": 1, \"11\": 1, \"93\": 1}, \"106\": {\"106\": 118, \"127\": 2, \"12\": 2, \"71\": 1, \"108\": 1}, \"35\": {\"35\": 6, \"29\": 1, \"105\": 2, \"6\": 1, \"93\": 1, \"101\": 1}, \"78\": {\"122\": 1, \"78\": 9, \"24\": 1, \"109\": 1, \"10\": 3, \"21\": 1}, \"15\": {\"15\": 74, \"36\": 5, \"110\": 10, \"27\": 1, \"0\": 4, \"94\": 4, \"109\": 1, \"127\": 1, \"70\": 1, \"40\": 1, \"8\": 1, \"21\": 1}, \"100\": {\"100\": 10, \"44\": 2, \"76\": 1, \"19\": 2, \"82\": 1}}, \"C_5\": {\"47\": {\"47\": 92, \"57\": 6, \"52\": 2}, \"53\": {\"53\": 150}, \"29\": {\"29\": 125, \"13\": 1}, \"52\": {\"52\": 120, \"57\": 10}, \"55\": {\"55\": 127, \"53\": 10, \"54\": 2, \"19\": 3, \"17\": 2}, \"17\": {\"17\": 116}, \"42\": {\"42\": 35, \"19\": 2, \"54\": 1, \"23\": 2}, \"33\": {\"33\": 29, \"41\": 3}, \"11\": {\"11\": 144, \"15\": 4}, \"19\": {\"19\": 116, \"53\": 2}, \"1\": {\"1\": 141, \"20\": 3}, \"44\": {\"44\": 123, \"3\": 15, \"40\": 2, \"5\": 2}, \"49\": {\"49\": 35, \"34\": 1}, \"4\": {\"4\": 87, \"30\": 7, \"9\": 4, \"5\": 2}, \"6\": {\"6\": 104, \"45\": 10, \"50\": 2}, \"39\": {\"39\": 20}, \"50\": {\"50\": 142, \"45\": 4, \"6\": 2}, \"56\": {\"56\": 125, \"47\": 2, \"0\": 2, \"52\": 1}, \"25\": {\"25\": 141, \"11\": 1, \"28\": 1, \"16\": 1}, \"28\": {\"28\": 32}, \"35\": {\"35\": 26, \"37\": 1, \"43\": 4, \"13\": 1, \"23\": 1, \"2\": 2, \"31\": 1}, \"24\": {\"24\": 78, \"31\": 2}, \"21\": {\"21\": 132}, \"45\": {\"45\": 107, \"50\": 5, \"6\": 10, \"4\": 1, \"12\": 1}, \"16\": {\"16\": 132, \"11\": 5, \"15\": 6, \"23\": 1}, \"37\": {\"37\": 19, \"29\": 1, \"56\": 2, \"43\": 2}, \"57\": {\"57\": 117, \"52\": 15}, \"34\": {\"34\": 26, \"49\": 7, \"24\": 2, \"42\": 1}, \"38\": {\"38\": 22, \"17\": 6, \"8\": 1, \"32\": 2, \"51\": 1}, \"48\": {\"48\": 107, \"20\": 7, \"27\": 5, \"8\": 9, \"1\": 2}, \"26\": {\"26\": 18, \"55\": 2, \"17\": 2, \"23\": 1, \"38\": 1}, \"9\": {\"9\": 147, \"21\": 1, \"30\": 4}, \"18\": {\"18\": 64}, \"3\": {\"3\": 76, \"44\": 9, \"40\": 9, \"46\": 2, \"5\": 4}, \"23\": {\"23\": 114, \"42\": 1, \"53\": 6, \"19\": 1, \"54\": 2}, \"15\": {\"15\": 143, \"16\": 6, \"19\": 2, \"11\": 3}, \"10\": {\"10\": 68}, \"46\": {\"46\": 144, \"44\": 2, \"40\": 1, \"22\": 1}, \"22\": {\"22\": 25, \"3\": 1, \"56\": 1, \"46\": 1}, \"54\": {\"54\": 106, \"31\": 1, \"43\": 1, \"37\": 1, \"19\": 1, \"53\": 2}, \"27\": {\"27\": 156, \"8\": 3, \"32\": 1}, \"41\": {\"48\": 1, \"41\": 16, \"47\": 2, \"14\": 3, \"33\": 3, \"32\": 1, \"51\": 1, \"39\": 1}, \"31\": {\"31\": 33, \"24\": 1, \"34\": 1, \"42\": 1}, \"0\": {\"0\": 123, \"22\": 1}, \"7\": {\"7\": 32}, \"2\": {\"37\": 3, \"2\": 21, \"43\": 3, \"35\": 1}, \"14\": {\"14\": 41, \"36\": 3}, \"40\": {\"40\": 103, \"3\": 9, \"46\": 3, \"44\": 7, \"5\": 2}, \"5\": {\"5\": 117, \"3\": 5, \"40\": 2, \"44\": 4}, \"12\": {\"12\": 94, \"45\": 1, \"6\": 1}, \"43\": {\"43\": 132, \"2\": 3, \"36\": 1, \"35\": 1, \"23\": 1, \"41\": 1, \"37\": 1, \"24\": 1, \"53\": 1}, \"13\": {\"13\": 144, \"56\": 1, \"14\": 1, \"29\": 2}, \"36\": {\"36\": 85, \"8\": 1, \"14\": 4, \"37\": 2}, \"8\": {\"8\": 109, \"27\": 28, \"20\": 1, \"48\": 12}, \"32\": {\"32\": 30, \"39\": 1, \"33\": 1}, \"30\": {\"30\": 121, \"9\": 7}, \"51\": {\"51\": 137, \"17\": 1}, \"20\": {\"20\": 123, \"1\": 9, \"48\": 6}}, \"C_1\": {\"46\": {\"46\": 109, \"6\": 16, \"40\": 2, \"5\": 3, \"50\": 10}, \"16\": {\"16\": 121, \"25\": 10, \"15\": 3}, \"26\": {\"26\": 22, \"19\": 2}, \"10\": {\"10\": 96}, \"9\": {\"9\": 153, \"17\": 1, \"29\": 1, \"51\": 1}, \"28\": {\"28\": 28}, \"51\": {\"51\": 152, \"41\": 4}, \"1\": {\"1\": 100}, \"55\": {\"55\": 135, \"33\": 1, \"51\": 2, \"49\": 1, \"38\": 2, \"32\": 2, \"37\": 2, \"42\": 3}, \"27\": {\"27\": 123, \"52\": 1}, \"22\": {\"22\": 116, \"21\": 2, \"0\": 5, \"47\": 1}, \"52\": {\"52\": 109, \"21\": 14, \"27\": 1, \"22\": 2}, \"3\": {\"3\": 125, \"56\": 14, \"45\": 1}, \"33\": {\"33\": 32}, \"47\": {\"47\": 115, \"36\": 3, \"52\": 2}, \"42\": {\"42\": 32, \"26\": 1, \"54\": 1, \"37\": 2, \"55\": 2, \"24\": 1, \"19\": 1}, \"12\": {\"12\": 104, \"13\": 9, \"20\": 2, \"30\": 1}, \"23\": {\"23\": 121, \"19\": 4, \"24\": 3, \"35\": 1, \"34\": 1, \"31\": 1, \"54\": 1}, \"49\": {\"49\": 28, \"43\": 2, \"39\": 2}, \"7\": {\"7\": 27, \"51\": 1}, \"4\": {\"4\": 130, \"13\": 1, \"12\": 1}, \"50\": {\"50\": 134}, \"19\": {\"19\": 148, \"26\": 2, \"53\": 4}, \"11\": {\"11\": 140}, \"31\": {\"23\": 3, \"31\": 22, \"35\": 2, \"24\": 1}, \"41\": {\"41\": 12, \"51\": 9, \"1\": 3}, \"56\": {\"56\": 116, \"44\": 3, \"3\": 6, \"45\": 13}, \"0\": {\"0\": 147, \"22\": 1}, \"57\": {\"57\": 127, \"12\": 1}, \"53\": {\"53\": 140}, \"43\": {\"43\": 142, \"49\": 1, \"55\": 1}, \"37\": {\"33\": 2, \"36\": 5, \"37\": 14, \"55\": 8, \"51\": 1, \"43\": 1, \"47\": 1}, \"2\": {\"2\": 36}, \"6\": {\"6\": 90, \"46\": 5, \"50\": 1}, \"13\": {\"13\": 141, \"30\": 8, \"8\": 1}, \"18\": {\"18\": 72}, \"36\": {\"36\": 64}, \"29\": {\"29\": 130, \"1\": 4, \"52\": 3, \"57\": 2, \"47\": 1}, \"39\": {\"39\": 22, \"47\": 1, \"41\": 1, \"35\": 1, \"49\": 2, \"43\": 1}, \"17\": {\"17\": 64}, \"21\": {\"21\": 124}, \"25\": {\"25\": 119, \"16\": 6, \"31\": 1, \"15\": 3, \"53\": 1, \"28\": 1, \"11\": 1}, \"45\": {\"45\": 140, \"44\": 2}, \"38\": {\"52\": 2, \"38\": 10, \"36\": 3, \"29\": 1, \"55\": 3, \"37\": 1, \"43\": 3, \"49\": 1}, \"30\": {\"30\": 116, \"13\": 4}, \"24\": {\"24\": 106, \"35\": 2}, \"20\": {\"20\": 128, \"40\": 6, \"12\": 4, \"13\": 2}, \"8\": {\"8\": 140}, \"35\": {\"39\": 1, \"54\": 3, \"35\": 24, \"31\": 5, \"43\": 1, \"24\": 2}, \"54\": {\"54\": 103, \"34\": 1}, \"5\": {\"5\": 148}, \"48\": {\"48\": 141, \"2\": 3}, \"15\": {\"15\": 142}, \"34\": {\"34\": 11, \"39\": 1, \"19\": 3, \"38\": 1, \"33\": 2, \"31\": 2, \"55\": 2, \"23\": 2}, \"14\": {\"13\": 2, \"14\": 22}, \"32\": {\"32\": 32}, \"40\": {\"40\": 143, \"20\": 4, \"44\": 1}, \"44\": {\"44\": 118, \"45\": 16, \"3\": 2}}, \"W_2\": {\"91\": {\"86\": 1, \"91\": 20, \"85\": 1, \"25\": 2, \"42\": 1, \"9\": 1, \"109\": 1, \"124\": 1}, \"12\": {\"97\": 6, \"12\": 64, \"7\": 6, \"87\": 1, \"78\": 3, \"40\": 1, \"126\": 1, \"106\": 4, \"94\": 1, \"3\": 1}, \"101\": {\"101\": 136, \"106\": 7, \"95\": 1, \"127\": 3, \"109\": 1}, \"121\": {\"121\": 30, \"81\": 2, \"109\": 1, \"90\": 2, \"99\": 1}, \"118\": {\"118\": 59, \"88\": 1, \"108\": 2, \"11\": 2, \"94\": 2, \"87\": 2}, \"10\": {\"10\": 47, \"88\": 2, \"70\": 3, \"24\": 6, \"39\": 1, \"7\": 1}, \"117\": {\"117\": 113, \"2\": 1, \"116\": 2, \"90\": 2, \"65\": 1, \"108\": 1}, \"110\": {\"110\": 26, \"60\": 2, \"120\": 1, \"8\": 1, \"70\": 2, \"109\": 1, \"90\": 1, \"94\": 1, \"10\": 1, \"7\": 3, \"62\": 1}, \"97\": {\"97\": 13, \"15\": 3, \"7\": 2, \"0\": 2}, \"28\": {\"28\": 15, \"123\": 1, \"82\": 2, \"55\": 1, \"19\": 1}, \"88\": {\"88\": 95, \"39\": 2, \"78\": 5, \"109\": 14, \"70\": 8}, \"17\": {\"17\": 3, \"86\": 1, \"129\": 2, \"79\": 1, \"48\": 1, \"41\": 1, \"111\": 2, \"59\": 2, \"6\": 1, \"104\": 1, \"4\": 1}, \"126\": {\"10\": 3, \"126\": 98, \"70\": 3, \"43\": 3, \"110\": 1, \"90\": 1, \"87\": 2, \"39\": 2, \"57\": 1}, \"33\": {\"33\": 122, \"43\": 1, \"40\": 1, \"70\": 1, \"88\": 1, \"1\": 2}, \"86\": {\"86\": 29, \"111\": 1, \"124\": 2}, \"106\": {\"106\": 103, \"30\": 1, \"101\": 6, \"12\": 1, \"126\": 1, \"127\": 1, \"3\": 1, \"88\": 1, \"78\": 1, \"21\": 1, \"109\": 1, \"70\": 2}, \"54\": {\"54\": 13, \"56\": 2, \"51\": 1, \"5\": 1, \"9\": 2, \"85\": 1}, \"125\": {\"125\": 130, \"4\": 1, \"117\": 1}, \"83\": {\"83\": 33, \"19\": 2, \"89\": 1, \"44\": 2, \"100\": 1, \"109\": 1}, \"98\": {\"98\": 111, \"29\": 1, \"112\": 1, \"44\": 2, \"117\": 1, \"1\": 1, \"28\": 1, \"124\": 1, \"18\": 1}, \"11\": {\"11\": 54, \"122\": 9, \"105\": 1, \"27\": 1, \"0\": 3, \"8\": 4, \"10\": 1, \"30\": 1, \"70\": 1, \"108\": 2, \"39\": 1, \"94\": 1, \"88\": 1}, \"32\": {\"32\": 29, \"17\": 1, \"68\": 1, \"107\": 4, \"114\": 1}, \"42\": {\"125\": 2, \"42\": 11, \"86\": 1, \"5\": 3, \"37\": 1, \"73\": 1, \"45\": 1, \"48\": 1, \"25\": 1, \"123\": 1, \"129\": 1, \"6\": 2, \"28\": 2}, \"103\": {\"103\": 5, \"42\": 1, \"77\": 2, \"29\": 2, \"41\": 2, \"58\": 2, \"50\": 1, \"28\": 1}, \"87\": {\"87\": 85, \"8\": 1, \"7\": 1, \"39\": 2, \"109\": 3, \"126\": 8, \"43\": 6, \"88\": 2, \"24\": 1, \"108\": 2, \"110\": 1}, \"61\": {\"97\": 1, \"15\": 1, \"24\": 1, \"53\": 2, \"61\": 5, \"128\": 2, \"39\": 1, \"114\": 2, \"21\": 1, \"38\": 1, \"92\": 1, \"89\": 1, \"83\": 1}, \"13\": {\"13\": 8, \"78\": 1, \"80\": 2, \"116\": 2, \"129\": 2, \"108\": 1}, \"4\": {\"4\": 80, \"79\": 1, \"39\": 2, \"109\": 1, \"125\": 2}, \"15\": {\"15\": 96, \"88\": 1, \"94\": 2, \"12\": 5, \"122\": 4, \"39\": 2, \"7\": 3, \"8\": 1, \"105\": 2, \"0\": 2, \"36\": 1, \"70\": 1}, \"120\": {\"102\": 1, \"121\": 1, \"120\": 17, \"124\": 1}, \"80\": {\"80\": 16}, \"72\": {\"72\": 20, \"14\": 2, \"44\": 1, \"8\": 1, \"18\": 2, \"60\": 1, \"33\": 1}, \"64\": {\"53\": 2, \"76\": 2, \"19\": 1, \"0\": 1, \"55\": 1, \"56\": 1, \"29\": 1, \"61\": 1, \"98\": 2, \"64\": 3, \"89\": 1}, \"81\": {\"120\": 1, \"81\": 12, \"60\": 1, \"99\": 1, \"121\": 1, \"90\": 2, \"117\": 1, \"18\": 1, \"1\": 1, \"33\": 1, \"26\": 1, \"44\": 1}, \"102\": {\"102\": 110, \"91\": 2}, \"76\": {\"98\": 1, \"76\": 5, \"3\": 1, \"71\": 3, \"35\": 1, \"64\": 2, \"128\": 1, \"123\": 1, \"92\": 1}, \"49\": {\"76\": 1, \"35\": 1, \"56\": 1, \"114\": 1, \"49\": 10, \"38\": 1, \"66\": 1, \"33\": 1, \"86\": 1, \"111\": 1, \"16\": 1, \"128\": 1, \"85\": 1, \"53\": 1, \"107\": 1}, \"129\": {\"129\": 27, \"123\": 2, \"42\": 1, \"104\": 2}, \"89\": {\"89\": 22, \"82\": 2, \"38\": 1, \"45\": 1, \"126\": 1, \"112\": 1, \"92\": 2, \"51\": 1, \"83\": 2, \"47\": 1, \"67\": 2}, \"52\": {\"52\": 10, \"98\": 2, \"50\": 1, \"129\": 1, \"77\": 1, \"29\": 2, \"111\": 1, \"68\": 1, \"102\": 1}, \"35\": {\"35\": 11, \"101\": 1}, \"53\": {\"53\": 11, \"61\": 1, \"64\": 2, \"38\": 2}, \"26\": {\"26\": 114, \"93\": 8, \"18\": 1, \"87\": 1, \"8\": 1, \"24\": 1, \"78\": 1, \"84\": 1}, \"96\": {\"96\": 10, \"18\": 3, \"60\": 4, \"26\": 1, \"23\": 1, \"105\": 1}, \"27\": {\"27\": 42, \"21\": 3, \"94\": 1, \"109\": 3, \"122\": 3, \"24\": 2, \"23\": 1, \"88\": 4, \"30\": 1, \"70\": 1, \"39\": 1, \"0\": 2, \"87\": 1, \"108\": 2, \"8\": 1}, \"24\": {\"24\": 82, \"88\": 1, \"126\": 2, \"10\": 9, \"27\": 1, \"78\": 2, \"70\": 7, \"39\": 3, \"109\": 2, \"118\": 1, \"43\": 2}, \"82\": {\"82\": 25, \"108\": 1, \"73\": 1, \"39\": 1, \"90\": 2, \"46\": 1, \"92\": 2, \"21\": 1, \"81\": 1, \"10\": 1}, \"18\": {\"18\": 108, \"23\": 1, \"109\": 1, \"26\": 6, \"78\": 1, \"93\": 2, \"126\": 1, \"39\": 1, \"24\": 1, \"72\": 2, \"69\": 4}, \"69\": {\"26\": 3, \"18\": 2, \"69\": 99, \"60\": 1, \"3\": 1, \"70\": 2, \"84\": 3, \"1\": 5, \"33\": 3, \"88\": 1, \"62\": 1, \"109\": 1}, \"47\": {\"55\": 2, \"114\": 1, \"47\": 4, \"123\": 1, \"34\": 2, \"129\": 1, \"89\": 1}, \"85\": {\"67\": 3, \"112\": 1, \"29\": 1, \"85\": 15, \"49\": 1, \"41\": 2, \"116\": 2, \"22\": 1, \"37\": 1, \"89\": 1, \"50\": 1, \"66\": 1, \"75\": 1, \"124\": 1}, \"2\": {\"129\": 1, \"2\": 21, \"65\": 1, \"90\": 3, \"22\": 2, \"119\": 3, \"117\": 1}, \"67\": {\"129\": 1, \"67\": 9, \"119\": 3, \"73\": 1, \"98\": 1, \"24\": 1}, \"39\": {\"70\": 4, \"39\": 94, \"78\": 4, \"88\": 2, \"109\": 3, \"24\": 3, \"43\": 1, \"90\": 1}, \"99\": {\"99\": 28, \"16\": 1, \"83\": 1, \"18\": 1, \"121\": 1}, \"74\": {\"74\": 8, \"64\": 2, \"21\": 1, \"3\": 1, \"71\": 1, \"91\": 1, \"10\": 1, \"1\": 1}, \"105\": {\"105\": 118, \"7\": 8, \"109\": 3, \"88\": 1, \"15\": 2}, \"70\": {\"70\": 80, \"24\": 10, \"78\": 3, \"126\": 7, \"39\": 4, \"88\": 9, \"43\": 2, \"109\": 5, \"10\": 1, \"90\": 1}, \"55\": {\"55\": 6, \"47\": 1, \"92\": 1, \"128\": 2, \"76\": 4, \"107\": 1, \"28\": 1}, \"30\": {\"30\": 77, \"36\": 12, \"8\": 7, \"94\": 1, \"27\": 3, \"118\": 2, \"122\": 2, \"109\": 1, \"9\": 1, \"108\": 1, \"88\": 1, \"0\": 2, \"126\": 2}, \"60\": {\"60\": 17, \"72\": 2, \"21\": 1, \"96\": 1, \"105\": 2, \"14\": 2, \"23\": 1, \"3\": 1, \"69\": 1}, \"92\": {\"92\": 8, \"64\": 1, \"19\": 1, \"50\": 1, \"44\": 2, \"25\": 1, \"100\": 1, \"90\": 1, \"57\": 3, \"87\": 1, \"89\": 1, \"76\": 2, \"127\": 1, \"46\": 1, \"31\": 1, \"82\": 1, \"1\": 1}, \"45\": {\"92\": 1, \"73\": 1, \"45\": 12, \"64\": 1, \"109\": 1}, \"127\": {\"127\": 103, \"101\": 5, \"46\": 1, \"71\": 1, \"62\": 2}, \"9\": {\"108\": 1, \"9\": 29, \"77\": 1, \"39\": 1}, \"115\": {\"115\": 12}, \"73\": {\"73\": 18, \"50\": 1, \"77\": 1, \"85\": 2, \"44\": 1, \"19\": 2, \"92\": 1, \"29\": 1, \"54\": 1}, \"108\": {\"108\": 123, \"11\": 1, \"27\": 1, \"43\": 3, \"122\": 3, \"8\": 4, \"94\": 3}, \"114\": {\"114\": 93, \"17\": 1, \"49\": 4, \"107\": 10, \"88\": 1, \"1\": 2, \"34\": 1, \"70\": 1, \"101\": 2, \"39\": 1}, \"63\": {\"63\": 13, \"104\": 1, \"102\": 1, \"120\": 1, \"116\": 2, \"41\": 1, \"28\": 1}, \"93\": {\"93\": 114, \"105\": 1, \"84\": 1, \"16\": 7, \"23\": 2, \"7\": 2, \"69\": 1}, \"7\": {\"7\": 126, \"0\": 3, \"105\": 2, \"12\": 1}, \"31\": {\"31\": 13, \"78\": 1, \"107\": 1, \"18\": 1, \"1\": 2, \"67\": 1, \"72\": 1}, \"123\": {\"19\": 1, \"123\": 8, \"73\": 2, \"22\": 1, \"17\": 1, \"45\": 2, \"46\": 1}, \"128\": {\"47\": 2, \"56\": 2, \"128\": 10, \"107\": 1, \"114\": 1, \"82\": 1, \"58\": 1, \"9\": 2, \"100\": 1, \"61\": 1, \"32\": 1, \"89\": 1}, \"0\": {\"97\": 4, \"7\": 4, \"0\": 76, \"24\": 1, \"105\": 6, \"98\": 1, \"110\": 1, \"39\": 3, \"94\": 1, \"106\": 2, \"12\": 1, \"11\": 1, \"15\": 11, \"83\": 1, \"36\": 2, \"70\": 1}, \"3\": {\"7\": 1, \"64\": 1, \"3\": 113, \"14\": 5, \"40\": 3, \"71\": 9, \"33\": 1, \"1\": 3}, \"19\": {\"19\": 23, \"55\": 1, \"66\": 2, \"112\": 2}, \"57\": {\"57\": 13, \"82\": 1, \"63\": 1, \"83\": 2, \"24\": 1, \"90\": 1, \"92\": 1}, \"78\": {\"78\": 38, \"88\": 5, \"70\": 4, \"109\": 1}, \"95\": {\"95\": 17, \"40\": 1, \"3\": 3, \"71\": 2, \"107\": 2, \"32\": 4, \"88\": 1, \"127\": 4, \"1\": 1, \"114\": 1}, \"40\": {\"40\": 81, \"3\": 12, \"107\": 1, \"1\": 2, \"12\": 3, \"95\": 4, \"114\": 4, \"127\": 6, \"71\": 14, \"39\": 1, \"109\": 2, \"7\": 1, \"14\": 1, \"27\": 1, \"88\": 1, \"70\": 3, \"105\": 1, \"33\": 1, \"126\": 1}, \"14\": {\"78\": 2, \"40\": 3, \"14\": 25, \"16\": 1, \"3\": 4, \"95\": 2, \"70\": 3, \"107\": 2, \"72\": 1, \"108\": 1, \"88\": 1, \"71\": 1, \"1\": 2}, \"36\": {\"36\": 94, \"122\": 2, \"94\": 1, \"8\": 8, \"21\": 1, \"27\": 5, \"88\": 2, \"30\": 7, \"70\": 1, \"15\": 2, \"24\": 1, \"10\": 1, \"7\": 1, \"109\": 1, \"23\": 1}, \"56\": {\"56\": 11, \"17\": 1}, \"111\": {\"111\": 123, \"124\": 4, \"24\": 1}, \"59\": {\"59\": 11, \"126\": 1, \"111\": 3, \"78\": 1}, \"79\": {\"79\": 14, \"98\": 1, \"77\": 1}, \"62\": {\"62\": 107, \"122\": 1, \"16\": 4, \"7\": 3, \"93\": 2, \"0\": 1, \"24\": 1, \"1\": 3}, \"21\": {\"21\": 48}, \"48\": {\"48\": 16, \"116\": 3, \"102\": 1}, \"16\": {\"72\": 1, \"16\": 96, \"93\": 11, \"88\": 2, \"105\": 2, \"69\": 6, \"70\": 1, \"62\": 4, \"39\": 1}, \"50\": {\"50\": 7, \"61\": 1, \"129\": 1, \"37\": 1, \"55\": 2, \"19\": 2, \"98\": 1, \"38\": 1}, \"44\": {\"44\": 92, \"117\": 1, \"89\": 2, \"114\": 1}, \"5\": {\"5\": 99, \"111\": 5, \"124\": 2, \"43\": 1, \"102\": 2, \"109\": 1}, \"20\": {\"20\": 14, \"89\": 1, \"43\": 1}, \"1\": {\"1\": 100, \"16\": 1, \"40\": 2, \"3\": 4, \"69\": 1, \"114\": 1, \"33\": 5, \"71\": 2, \"84\": 1, \"127\": 1, \"18\": 1, \"43\": 1}, \"65\": {\"65\": 18, \"126\": 1, \"87\": 1}, \"116\": {\"116\": 26, \"119\": 1, \"22\": 1}, \"51\": {\"128\": 2, \"51\": 11, \"106\": 1, \"32\": 1, \"54\": 1, \"127\": 1, \"40\": 1, \"9\": 1, \"36\": 1}, \"75\": {\"9\": 2, \"75\": 13, \"88\": 1}, \"100\": {\"100\": 9, \"71\": 1, \"3\": 2, \"92\": 1, \"1\": 1, \"83\": 2}, \"113\": {\"113\": 70, \"23\": 2}, \"41\": {\"29\": 2, \"41\": 13, \"80\": 2, \"37\": 1, \"86\": 2}, \"29\": {\"29\": 19, \"68\": 1, \"98\": 5, \"112\": 1, \"104\": 2, \"25\": 2, \"17\": 1, \"77\": 1}, \"23\": {\"23\": 11, \"20\": 2, \"94\": 3, \"0\": 3, \"81\": 1, \"122\": 5, \"27\": 1, \"105\": 2, \"36\": 1, \"15\": 1, \"18\": 2, \"16\": 1, \"93\": 3, \"26\": 3, \"110\": 2, \"30\": 1, \"8\": 2}, \"124\": {\"124\": 111, \"111\": 5, \"5\": 5, \"4\": 1, \"21\": 1, \"117\": 1}, \"68\": {\"68\": 8, \"29\": 1, \"50\": 2, \"98\": 1, \"103\": 1, \"24\": 1, \"28\": 2}, \"71\": {\"71\": 77, \"88\": 1, \"35\": 1, \"1\": 1, \"105\": 1, \"7\": 1, \"12\": 2, \"3\": 9, \"40\": 6, \"127\": 1}, \"107\": {\"107\": 35, \"128\": 3, \"117\": 1, \"32\": 2, \"114\": 8, \"39\": 1, \"109\": 1, \"1\": 2, \"42\": 1, \"43\": 1, \"88\": 1, \"55\": 1, \"8\": 1, \"56\": 1, \"63\": 1, \"26\": 1, \"34\": 2, \"91\": 1}, \"94\": {\"94\": 37, \"0\": 6, \"109\": 1, \"8\": 1, \"36\": 4, \"122\": 2, \"15\": 4, \"105\": 2, \"12\": 3, \"70\": 1, \"110\": 1, \"88\": 2}, \"77\": {\"77\": 9, \"66\": 2, \"39\": 1, \"17\": 1, \"98\": 2, \"29\": 1}, \"8\": {\"8\": 94, \"30\": 3, \"122\": 10, \"36\": 4, \"11\": 2, \"108\": 4, \"12\": 1, \"105\": 2, \"0\": 2}, \"46\": {\"46\": 7, \"102\": 1, \"82\": 2, \"123\": 4, \"89\": 1, \"80\": 1}, \"25\": {\"25\": 13, \"68\": 1, \"91\": 1, \"42\": 1}, \"122\": {\"122\": 87, \"15\": 3, \"11\": 14, \"94\": 3, \"8\": 14, \"27\": 1, \"88\": 1, \"36\": 1, \"23\": 3, \"109\": 1, \"105\": 2, \"81\": 1, \"43\": 3, \"118\": 1, \"0\": 1, \"30\": 2, \"108\": 2}, \"58\": {\"50\": 2, \"66\": 1, \"129\": 1, \"58\": 7, \"39\": 1, \"98\": 1, \"87\": 1, \"103\": 1, \"24\": 1, \"54\": 2, \"111\": 1, \"9\": 1}, \"6\": {\"6\": 32}, \"109\": {\"88\": 16, \"70\": 6, \"109\": 67, \"24\": 4, \"39\": 7}, \"119\": {\"2\": 3, \"119\": 11, \"117\": 1, \"90\": 1, \"116\": 2, \"129\": 1, \"111\": 1}, \"34\": {\"34\": 17, \"98\": 1, \"1\": 1, \"112\": 1, \"88\": 1, \"107\": 1, \"9\": 1, \"124\": 1, \"47\": 1, \"114\": 3, \"87\": 1, \"54\": 2, \"75\": 1}, \"90\": {\"90\": 137, \"82\": 2, \"44\": 1}, \"38\": {\"38\": 14, \"98\": 2}, \"104\": {\"104\": 9, \"86\": 2, \"22\": 1, \"85\": 2, \"8\": 1, \"129\": 1, \"37\": 1, \"6\": 1, \"5\": 1, \"73\": 1}, \"84\": {\"84\": 81, \"108\": 1, \"60\": 1, \"40\": 3, \"62\": 1, \"16\": 1, \"126\": 1, \"33\": 1, \"3\": 2}, \"112\": {\"112\": 8, \"29\": 1, \"28\": 1, \"34\": 1, \"98\": 1, \"46\": 1, \"66\": 1, \"73\": 1, \"90\": 1}, \"66\": {\"28\": 4, \"66\": 10, \"39\": 1, \"116\": 1, \"87\": 1, \"86\": 1, \"85\": 1, \"5\": 1}, \"22\": {\"5\": 3, \"22\": 9, \"123\": 1, \"116\": 2, \"37\": 1, \"85\": 1, \"28\": 1, \"42\": 1, \"86\": 1}, \"37\": {\"37\": 14, \"85\": 1, \"22\": 1}, \"43\": {\"126\": 4, \"43\": 98, \"108\": 5, \"71\": 1, \"39\": 1, \"94\": 2, \"11\": 2, \"122\": 1, \"109\": 1, \"118\": 2, \"87\": 2, \"88\": 3, \"70\": 2}}, \"C_2\": {\"36\": {\"36\": 110, \"17\": 1, \"51\": 5}, \"5\": {\"5\": 107, \"44\": 8, \"46\": 4, \"3\": 1}, \"45\": {\"45\": 109, \"3\": 2, \"6\": 9, \"12\": 3, \"21\": 1, \"50\": 4}, \"49\": {\"49\": 14, \"34\": 2, \"35\": 2, \"55\": 1, \"39\": 2, \"54\": 1, \"19\": 1, \"7\": 1}, \"50\": {\"50\": 126, \"40\": 1, \"46\": 4, \"45\": 1, \"44\": 1, \"21\": 1, \"6\": 2}, \"4\": {\"4\": 125, \"9\": 6, \"48\": 3, \"8\": 1, \"30\": 1, \"27\": 1, \"52\": 1}, \"43\": {\"43\": 134, \"24\": 6, \"31\": 4, \"23\": 2, \"15\": 1, \"55\": 1}, \"41\": {\"41\": 18, \"33\": 1, \"52\": 1}, \"37\": {\"37\": 31, \"41\": 1, \"55\": 2, \"2\": 1, \"13\": 1}, \"12\": {\"12\": 90, \"6\": 1, \"3\": 1}, \"33\": {\"33\": 13, \"41\": 4, \"47\": 2, \"2\": 2, \"29\": 3, \"51\": 1, \"1\": 1, \"36\": 2}, \"7\": {\"7\": 27, \"42\": 1, \"53\": 2, \"24\": 1, \"23\": 3, \"17\": 1, \"19\": 1}, \"56\": {\"56\": 136, \"22\": 4}, \"14\": {\"14\": 21, \"13\": 3}, \"52\": {\"52\": 124}, \"44\": {\"44\": 68, \"50\": 4, \"46\": 15, \"5\": 8, \"3\": 1}, \"48\": {\"48\": 123, \"9\": 17, \"1\": 1, \"29\": 1, \"8\": 1, \"27\": 1}, \"20\": {\"20\": 112, \"8\": 15, \"4\": 1}, \"55\": {\"55\": 123, \"7\": 3, \"49\": 1, \"42\": 3, \"23\": 7, \"37\": 1, \"31\": 2, \"13\": 2, \"54\": 1, \"36\": 1}, \"32\": {\"32\": 25, \"17\": 1, \"36\": 1, \"54\": 1}, \"40\": {\"40\": 126, \"21\": 6, \"9\": 1, \"46\": 1, \"30\": 2}, \"54\": {\"54\": 108}, \"17\": {\"17\": 103, \"54\": 1}, \"38\": {\"38\": 16, \"2\": 2, \"13\": 2}, \"24\": {\"24\": 95, \"43\": 1}, \"1\": {\"1\": 93, \"57\": 7, \"47\": 8, \"29\": 3, \"30\": 1}, \"6\": {\"6\": 119, \"45\": 4, \"50\": 1}, \"34\": {\"34\": 13, \"19\": 5, \"25\": 1, \"28\": 4, \"53\": 2, \"11\": 2, \"15\": 1}, \"11\": {\"11\": 100, \"16\": 27, \"15\": 9}, \"9\": {\"9\": 138, \"48\": 3, \"8\": 7, \"4\": 1, \"27\": 1}, \"8\": {\"8\": 129, \"20\": 10, \"27\": 4, \"48\": 1, \"9\": 8}, \"22\": {\"22\": 131, \"56\": 3, \"47\": 2}, \"26\": {\"26\": 17, \"35\": 1, \"53\": 3, \"17\": 1, \"23\": 1, \"54\": 1}, \"23\": {\"23\": 122, \"42\": 5, \"7\": 9, \"54\": 1, \"55\": 2, \"19\": 6, \"49\": 1}, \"10\": {\"10\": 112}, \"18\": {\"18\": 48}, \"13\": {\"13\": 116}, \"30\": {\"30\": 125, \"40\": 2, \"4\": 1}, \"42\": {\"42\": 29, \"23\": 5, \"53\": 1, \"7\": 1}, \"31\": {\"31\": 27, \"43\": 1}, \"46\": {\"46\": 106, \"44\": 8, \"5\": 5, \"21\": 3, \"40\": 3, \"30\": 1, \"50\": 2}, \"57\": {\"57\": 122, \"1\": 6, \"29\": 5, \"47\": 9}, \"47\": {\"47\": 109, \"1\": 7, \"22\": 1, \"57\": 19, \"29\": 2}, \"35\": {\"17\": 3, \"35\": 25, \"36\": 2, \"54\": 1, \"37\": 1}, \"15\": {\"15\": 117, \"16\": 14, \"11\": 1}, \"25\": {\"25\": 131, \"15\": 3, \"16\": 2}, \"19\": {\"19\": 136}, \"51\": {\"51\": 125, \"36\": 3}, \"53\": {\"53\": 133, \"54\": 1}, \"21\": {\"21\": 112, \"40\": 7, \"46\": 1}, \"39\": {\"39\": 22, \"55\": 1, \"13\": 2, \"41\": 1, \"1\": 1, \"33\": 1}, \"2\": {\"2\": 31, \"41\": 1}, \"16\": {\"16\": 120, \"15\": 19, \"11\": 11}, \"0\": {\"0\": 48}, \"3\": {\"3\": 86, \"6\": 4, \"50\": 1, \"45\": 1}, \"27\": {\"27\": 141, \"8\": 1}, \"28\": {\"28\": 28}, \"29\": {\"29\": 107, \"1\": 6, \"47\": 4, \"57\": 9, \"32\": 1, \"48\": 1}}}, \"per_domain_accuracy\": {\"O_14\": {\"accuracy\": 0.89453125, \"source?\": true}, \"O_20\": {\"accuracy\": 0.9395833333333333, \"source?\": true}, \"O_38\": {\"accuracy\": 0.9158854166666667, \"source?\": true}, \"O_8\": {\"accuracy\": 0.9276041666666667, \"source?\": true}, \"O_50\": {\"accuracy\": 0.92890625, \"source?\": true}, \"O_32\": {\"accuracy\": 0.9049479166666666, \"source?\": true}, \"O_26\": {\"accuracy\": 0.89765625, \"source?\": true}, \"O_44\": {\"accuracy\": 0.8700520833333333, \"source?\": true}, \"W_3\": {\"accuracy\": 0.8351151315789473, \"source?\": false}, \"C_3\": {\"accuracy\": 0.8908066860465116, \"source?\": false}, \"C_4\": {\"accuracy\": 0.8721590909090909, \"source?\": false}, \"W_4\": {\"accuracy\": 0.7808641975308642, \"source?\": false}, \"W_1\": {\"accuracy\": 0.8207446808510638, \"source?\": false}, \"C_5\": {\"accuracy\": 0.9238826815642458, \"source?\": false}, \"C_1\": {\"accuracy\": 0.9402322404371585, \"source?\": false}, \"W_2\": {\"accuracy\": 0.7807247899159664, \"source?\": false}, \"C_2\": {\"accuracy\": 0.900776836158192, \"source?\": false}}}, \"history\": {\"epoch_indices\": [1, 2, 3, 4, 5, 6], \"train_label_loss\": [0.4108127673433739, 1.128534799902506, 0.238851968420966, 0.31707616651221454, 0.1883001214944497, 0.1760694571211865], \"source_val_label_loss\": [190.75160217285156, 0.2604171931743622, 0.24433383345603943, 0.20929843187332153, 0.19907227158546448, 0.16254720091819763], \"target_val_label_loss\": [10719.826171875, 4880.38232421875, 6033.619140625, 3635.26708984375, 4346.40576171875, 4387.38818359375], \"source_val_acc_label\": [0.6652669270833333, 0.9098958333333333, 0.9118815104166667, 0.924609375, 0.9298177083333333, 0.9421875], \"target_val_acc_label\": [0.8264251373626373, 0.8532108516483516, 0.8277300824175824, 0.7527987637362638, 0.7624656593406594, 0.7716517857142857]}, \"dataset_metrics\": {\"source\": {\"train\": {\"n_unique_x\": 179200, \"n_unique_y\": 16, \"n_batch/episode\": 6720}, \"val\": {\"n_unique_x\": 38400, \"n_unique_y\": 16, \"n_batch/episode\": 960}, \"test\": {\"n_unique_x\": 38400, \"n_unique_y\": 16, \"n_batch/episode\": 960}}, \"target\": {\"train\": {\"n_unique_x\": 364179, \"n_unique_y\": 130, \"n_batch/episode\": 13159}, \"val\": {\"n_unique_x\": 77264, \"n_unique_y\": 130, \"n_batch/episode\": 1820}, \"test\": {\"n_unique_x\": 78450, \"n_unique_y\": 130, \"n_batch/episode\": 1860}}}}'"
      ]
     },
     "execution_count": 29,
     "metadata": {},
     "output_type": "execute_result"
    }
   ],
   "source": [
    "json.dumps(experiment)"
   ]
  }
 ],
 "metadata": {
  "celltoolbar": "Tags",
  "kernelspec": {
   "display_name": "Python 3 (ipykernel)",
   "language": "python",
   "name": "python3"
  },
  "language_info": {
   "codemirror_mode": {
    "name": "ipython",
    "version": 3
   },
   "file_extension": ".py",
   "mimetype": "text/x-python",
   "name": "python",
   "nbconvert_exporter": "python",
   "pygments_lexer": "ipython3",
   "version": "3.8.10"
  },
  "papermill": {
   "default_parameters": {},
   "duration": 1464.310908,
   "end_time": "2022-03-19T20:34:14.797908",
   "environment_variables": {},
   "exception": null,
   "input_path": "/mnt/wd500GB/CSC500/csc500-main/csc500-notebooks/templates/tl_ptn_template.ipynb",
   "output_path": "trial.ipynb",
   "parameters": {
    "parameters": {
     "BEST_MODEL_PATH": "./best_model.pth",
     "NUM_LOGS_PER_EPOCH": 10,
     "criteria_for_best": "target_accuracy",
     "dataset_seed": 1337,
     "datasets": [
      {
       "domain_prefix": "C_",
       "domains": [
        1,
        2,
        3,
        4,
        5
       ],
       "episode_transforms": [],
       "labels": [
        "1-10.",
        "1-11.",
        "1-15.",
        "1-16.",
        "1-17.",
        "1-18.",
        "1-19.",
        "10-4.",
        "10-7.",
        "11-1.",
        "11-14.",
        "11-17.",
        "11-20.",
        "11-7.",
        "13-20.",
        "13-8.",
        "14-10.",
        "14-11.",
        "14-14.",
        "14-7.",
        "15-1.",
        "15-20.",
        "16-1.",
        "16-16.",
        "17-10.",
        "17-11.",
        "17-2.",
        "19-1.",
        "19-16.",
        "19-19.",
        "19-20.",
        "19-3.",
        "2-10.",
        "2-11.",
        "2-17.",
        "2-18.",
        "2-20.",
        "2-3.",
        "2-4.",
        "2-5.",
        "2-6.",
        "2-7.",
        "2-8.",
        "3-13.",
        "3-18.",
        "3-3.",
        "4-1.",
        "4-10.",
        "4-11.",
        "4-19.",
        "5-5.",
        "6-15.",
        "7-10.",
        "7-14.",
        "8-18.",
        "8-20.",
        "8-3.",
        "8-8."
       ],
       "num_examples_per_domain_per_label": -1,
       "pickle_path": "/mnt/wd500GB/CSC500/csc500-main/datasets/cores.stratified_ds.2022A.pkl",
       "source_or_target_dataset": "target",
       "x_transforms": []
      },
      {
       "domain_prefix": "W_",
       "domains": [
        1,
        2,
        3,
        4
       ],
       "episode_transforms": [],
       "labels": [
        "1-10",
        "1-12",
        "1-14",
        "1-16",
        "1-18",
        "1-19",
        "1-8",
        "10-11",
        "10-17",
        "10-4",
        "10-7",
        "11-1",
        "11-10",
        "11-19",
        "11-20",
        "11-4",
        "11-7",
        "12-19",
        "12-20",
        "12-7",
        "13-14",
        "13-18",
        "13-19",
        "13-20",
        "13-3",
        "13-7",
        "14-10",
        "14-11",
        "14-12",
        "14-13",
        "14-14",
        "14-19",
        "14-20",
        "14-7",
        "14-8",
        "14-9",
        "15-1",
        "15-19",
        "15-6",
        "16-1",
        "16-16",
        "16-19",
        "16-20",
        "17-10",
        "17-11",
        "18-1",
        "18-10",
        "18-11",
        "18-12",
        "18-13",
        "18-14",
        "18-15",
        "18-16",
        "18-17",
        "18-19",
        "18-2",
        "18-20",
        "18-4",
        "18-5",
        "18-7",
        "18-8",
        "18-9",
        "19-1",
        "19-10",
        "19-11",
        "19-12",
        "19-13",
        "19-14",
        "19-15",
        "19-19",
        "19-2",
        "19-20",
        "19-3",
        "19-4",
        "19-6",
        "19-7",
        "19-8",
        "19-9",
        "2-1",
        "2-13",
        "2-15",
        "2-3",
        "2-4",
        "2-5",
        "2-6",
        "2-7",
        "2-8",
        "20-1",
        "20-12",
        "20-14",
        "20-15",
        "20-16",
        "20-18",
        "20-19",
        "20-20",
        "20-3",
        "20-4",
        "20-5",
        "20-7",
        "20-8",
        "3-1",
        "3-13",
        "3-18",
        "3-2",
        "3-8",
        "4-1",
        "4-10",
        "4-11",
        "5-1",
        "5-5",
        "6-1",
        "6-15",
        "6-6",
        "7-10",
        "7-11",
        "7-12",
        "7-13",
        "7-14",
        "7-7",
        "7-8",
        "7-9",
        "8-1",
        "8-13",
        "8-14",
        "8-18",
        "8-20",
        "8-3",
        "8-8",
        "9-1",
        "9-7"
       ],
       "num_examples_per_domain_per_label": -1,
       "pickle_path": "/mnt/wd500GB/CSC500/csc500-main/datasets/wisig.node3-19.stratified_ds.2022A.pkl",
       "source_or_target_dataset": "target",
       "x_transforms": []
      },
      {
       "domain_prefix": "O_",
       "domains": [
        32,
        38,
        8,
        44,
        14,
        50,
        20,
        26
       ],
       "episode_transforms": [],
       "labels": [
        "3123D52",
        "3123D65",
        "3123D79",
        "3123D80",
        "3123D54",
        "3123D70",
        "3123D7B",
        "3123D89",
        "3123D58",
        "3123D76",
        "3123D7D",
        "3123EFE",
        "3123D64",
        "3123D78",
        "3123D7E",
        "3124E4A"
       ],
       "num_examples_per_domain_per_label": 2000,
       "pickle_path": "/mnt/wd500GB/CSC500/csc500-main/datasets/oracle.Run1_framed_2000Examples_stratified_ds.2022A.pkl",
       "source_or_target_dataset": "source",
       "x_transforms": []
      }
     ],
     "device": "cuda",
     "experiment_name": "tl_2v2:oracle.run1.framed -> cores+wisig",
     "lr": 0.0001,
     "n_epoch": 50,
     "n_query": 2,
     "n_shot": 3,
     "n_way": 16,
     "patience": 3,
     "seed": 1337,
     "test_k_factor": 2,
     "torch_default_dtype": "torch.float32",
     "train_k_factor": 3,
     "val_k_factor": 2,
     "x_net": [
      {
       "class": "nnReshape",
       "kargs": {
        "shape": [
         -1,
         1,
         2,
         256
        ]
       }
      },
      {
       "class": "Conv2d",
       "kargs": {
        "bias": false,
        "in_channels": 1,
        "kernel_size": [
         1,
         7
        ],
        "out_channels": 256,
        "padding": [
         0,
         3
        ]
       }
      },
      {
       "class": "ReLU",
       "kargs": {
        "inplace": true
       }
      },
      {
       "class": "BatchNorm2d",
       "kargs": {
        "num_features": 256
       }
      },
      {
       "class": "Conv2d",
       "kargs": {
        "bias": true,
        "in_channels": 256,
        "kernel_size": [
         2,
         7
        ],
        "out_channels": 80,
        "padding": [
         0,
         3
        ]
       }
      },
      {
       "class": "ReLU",
       "kargs": {
        "inplace": true
       }
      },
      {
       "class": "BatchNorm2d",
       "kargs": {
        "num_features": 80
       }
      },
      {
       "class": "Flatten",
       "kargs": {}
      },
      {
       "class": "Linear",
       "kargs": {
        "in_features": 20480,
        "out_features": 256
       }
      },
      {
       "class": "ReLU",
       "kargs": {
        "inplace": true
       }
      },
      {
       "class": "BatchNorm1d",
       "kargs": {
        "num_features": 256
       }
      },
      {
       "class": "Linear",
       "kargs": {
        "in_features": 256,
        "out_features": 256
       }
      }
     ]
    }
   },
   "start_time": "2022-03-19T20:09:50.487000",
   "version": "2.3.4"
  }
 },
 "nbformat": 4,
 "nbformat_minor": 5
}