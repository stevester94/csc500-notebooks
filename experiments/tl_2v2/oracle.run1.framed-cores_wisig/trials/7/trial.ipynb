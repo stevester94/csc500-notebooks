{
 "cells": [
  {
   "cell_type": "markdown",
   "id": "9fea5f46",
   "metadata": {
    "papermill": {
     "duration": 0.012906,
     "end_time": "2022-03-19T22:18:37.005635",
     "exception": false,
     "start_time": "2022-03-19T22:18:36.992729",
     "status": "completed"
    },
    "tags": []
   },
   "source": [
    "# Transfer Learning Template"
   ]
  },
  {
   "cell_type": "code",
   "execution_count": 1,
   "id": "0902182a",
   "metadata": {
    "execution": {
     "iopub.execute_input": "2022-03-19T22:18:37.043159Z",
     "iopub.status.busy": "2022-03-19T22:18:37.037422Z",
     "iopub.status.idle": "2022-03-19T22:18:37.960347Z",
     "shell.execute_reply": "2022-03-19T22:18:37.960054Z"
    },
    "papermill": {
     "duration": 0.942237,
     "end_time": "2022-03-19T22:18:37.960421",
     "exception": false,
     "start_time": "2022-03-19T22:18:37.018184",
     "status": "completed"
    },
    "tags": []
   },
   "outputs": [],
   "source": [
    "%load_ext autoreload\n",
    "%autoreload 2\n",
    "%matplotlib inline\n",
    "\n",
    "    \n",
    "import os, json, sys, time, random\n",
    "import numpy as np\n",
    "import torch\n",
    "from torch.optim import Adam\n",
    "from  easydict import EasyDict\n",
    "import matplotlib.pyplot as plt\n",
    "\n",
    "from steves_models.steves_ptn import Steves_Prototypical_Network\n",
    "\n",
    "from steves_utils.lazy_iterable_wrapper import Lazy_Iterable_Wrapper\n",
    "from steves_utils.iterable_aggregator import Iterable_Aggregator\n",
    "from steves_utils.ptn_train_eval_test_jig import  PTN_Train_Eval_Test_Jig\n",
    "from steves_utils.torch_sequential_builder import build_sequential\n",
    "from steves_utils.torch_utils import get_dataset_metrics, ptn_confusion_by_domain_over_dataloader\n",
    "from steves_utils.utils_v2 import (per_domain_accuracy_from_confusion, get_datasets_base_path)\n",
    "from steves_utils.PTN.utils import independent_accuracy_assesment\n",
    "\n",
    "from torch.utils.data import DataLoader\n",
    "\n",
    "from steves_utils.stratified_dataset.episodic_accessor import Episodic_Accessor_Factory\n",
    "\n",
    "from steves_utils.ptn_do_report import (\n",
    "    get_loss_curve,\n",
    "    get_results_table,\n",
    "    get_parameters_table,\n",
    "    get_domain_accuracies,\n",
    ")\n",
    "\n",
    "from steves_utils.transforms import get_chained_transform"
   ]
  },
  {
   "cell_type": "markdown",
   "id": "41c840b4",
   "metadata": {
    "papermill": {
     "duration": 0.012759,
     "end_time": "2022-03-19T22:18:37.989058",
     "exception": false,
     "start_time": "2022-03-19T22:18:37.976299",
     "status": "completed"
    },
    "tags": []
   },
   "source": [
    "# Allowed Parameters\n",
    "These are allowed parameters, not defaults\n",
    "Each of these values need to be present in the injected parameters (the notebook will raise an exception if they are not present)\n",
    "\n",
    "Papermill uses the cell tag \"parameters\" to inject the real parameters below this cell.\n",
    "Enable tags to see what I mean"
   ]
  },
  {
   "cell_type": "code",
   "execution_count": 2,
   "id": "fd44eb83",
   "metadata": {
    "execution": {
     "iopub.execute_input": "2022-03-19T22:18:38.017375Z",
     "iopub.status.busy": "2022-03-19T22:18:38.016971Z",
     "iopub.status.idle": "2022-03-19T22:18:38.030429Z",
     "shell.execute_reply": "2022-03-19T22:18:38.030189Z"
    },
    "papermill": {
     "duration": 0.028596,
     "end_time": "2022-03-19T22:18:38.030488",
     "exception": false,
     "start_time": "2022-03-19T22:18:38.001892",
     "status": "completed"
    },
    "tags": []
   },
   "outputs": [],
   "source": [
    "required_parameters = {\n",
    "    \"experiment_name\",\n",
    "    \"lr\",\n",
    "    \"device\",\n",
    "    \"seed\",\n",
    "    \"dataset_seed\",\n",
    "    \"n_shot\",\n",
    "    \"n_query\",\n",
    "    \"n_way\",\n",
    "    \"train_k_factor\",\n",
    "    \"val_k_factor\",\n",
    "    \"test_k_factor\",\n",
    "    \"n_epoch\",\n",
    "    \"patience\",\n",
    "    \"criteria_for_best\",\n",
    "    \"x_net\",\n",
    "    \"datasets\",\n",
    "    \"torch_default_dtype\",\n",
    "    \"NUM_LOGS_PER_EPOCH\",\n",
    "    \"BEST_MODEL_PATH\",\n",
    "    \"x_shape\",\n",
    "}"
   ]
  },
  {
   "cell_type": "code",
   "execution_count": 3,
   "id": "fa3f0049",
   "metadata": {
    "execution": {
     "iopub.execute_input": "2022-03-19T22:18:38.062956Z",
     "iopub.status.busy": "2022-03-19T22:18:38.062539Z",
     "iopub.status.idle": "2022-03-19T22:18:38.075390Z",
     "shell.execute_reply": "2022-03-19T22:18:38.075099Z"
    },
    "papermill": {
     "duration": 0.032017,
     "end_time": "2022-03-19T22:18:38.075455",
     "exception": false,
     "start_time": "2022-03-19T22:18:38.043438",
     "status": "completed"
    },
    "tags": [
     "parameters"
    ]
   },
   "outputs": [],
   "source": [
    "from steves_utils.CORES.utils import (\n",
    "    ALL_NODES,\n",
    "    ALL_NODES_MINIMUM_1000_EXAMPLES,\n",
    "    ALL_DAYS\n",
    ")\n",
    "\n",
    "from steves_utils.ORACLE.utils_v2 import (\n",
    "    ALL_DISTANCES_FEET_NARROWED,\n",
    "    ALL_RUNS,\n",
    "    ALL_SERIAL_NUMBERS,\n",
    ")\n",
    "\n",
    "standalone_parameters = {}\n",
    "standalone_parameters[\"experiment_name\"] = \"STANDALONE PTN\"\n",
    "standalone_parameters[\"lr\"] = 0.001\n",
    "standalone_parameters[\"device\"] = \"cuda\"\n",
    "\n",
    "standalone_parameters[\"seed\"] = 1337\n",
    "standalone_parameters[\"dataset_seed\"] = 1337\n",
    "\n",
    "standalone_parameters[\"n_way\"] = 8\n",
    "standalone_parameters[\"n_shot\"] = 3\n",
    "standalone_parameters[\"n_query\"]  = 2\n",
    "standalone_parameters[\"train_k_factor\"] = 1\n",
    "standalone_parameters[\"val_k_factor\"] = 2\n",
    "standalone_parameters[\"test_k_factor\"] = 2\n",
    "\n",
    "\n",
    "standalone_parameters[\"n_epoch\"] = 50\n",
    "\n",
    "standalone_parameters[\"patience\"] = 10\n",
    "standalone_parameters[\"criteria_for_best\"] = \"source_loss\"\n",
    "\n",
    "standalone_parameters[\"datasets\"] = [\n",
    "    {\n",
    "        \"labels\": ALL_SERIAL_NUMBERS,\n",
    "        \"domains\": ALL_DISTANCES_FEET_NARROWED,\n",
    "        \"num_examples_per_domain_per_label\": 100,\n",
    "        \"pickle_path\": os.path.join(get_datasets_base_path(), \"oracle.Run1_framed_2000Examples_stratified_ds.2022A.pkl\"),\n",
    "        \"source_or_target_dataset\": \"source\",\n",
    "        \"x_transforms\": [\"unit_mag\", \"minus_two\"],\n",
    "        \"episode_transforms\": [],\n",
    "        \"domain_prefix\": \"ORACLE_\"\n",
    "    },\n",
    "    {\n",
    "        \"labels\": ALL_NODES,\n",
    "        \"domains\": ALL_DAYS,\n",
    "        \"num_examples_per_domain_per_label\": 100,\n",
    "        \"pickle_path\": os.path.join(get_datasets_base_path(), \"cores.stratified_ds.2022A.pkl\"),\n",
    "        \"source_or_target_dataset\": \"target\",\n",
    "        \"x_transforms\": [\"unit_power\", \"times_zero\"],\n",
    "        \"episode_transforms\": [],\n",
    "        \"domain_prefix\": \"CORES_\"\n",
    "    }   \n",
    "]\n",
    "\n",
    "standalone_parameters[\"torch_default_dtype\"] = \"torch.float32\" \n",
    "\n",
    "\n",
    "\n",
    "standalone_parameters[\"x_net\"] =     [\n",
    "    {\"class\": \"nnReshape\", \"kargs\": {\"shape\":[-1, 1, 2, 256]}},\n",
    "    {\"class\": \"Conv2d\", \"kargs\": { \"in_channels\":1, \"out_channels\":256, \"kernel_size\":(1,7), \"bias\":False, \"padding\":(0,3), },},\n",
    "    {\"class\": \"ReLU\", \"kargs\": {\"inplace\": True}},\n",
    "    {\"class\": \"BatchNorm2d\", \"kargs\": {\"num_features\":256}},\n",
    "\n",
    "    {\"class\": \"Conv2d\", \"kargs\": { \"in_channels\":256, \"out_channels\":80, \"kernel_size\":(2,7), \"bias\":True, \"padding\":(0,3), },},\n",
    "    {\"class\": \"ReLU\", \"kargs\": {\"inplace\": True}},\n",
    "    {\"class\": \"BatchNorm2d\", \"kargs\": {\"num_features\":80}},\n",
    "    {\"class\": \"Flatten\", \"kargs\": {}},\n",
    "\n",
    "    {\"class\": \"Linear\", \"kargs\": {\"in_features\": 80*256, \"out_features\": 256}}, # 80 units per IQ pair\n",
    "    {\"class\": \"ReLU\", \"kargs\": {\"inplace\": True}},\n",
    "    {\"class\": \"BatchNorm1d\", \"kargs\": {\"num_features\":256}},\n",
    "\n",
    "    {\"class\": \"Linear\", \"kargs\": {\"in_features\": 256, \"out_features\": 256}},\n",
    "]\n",
    "\n",
    "# Parameters relevant to results\n",
    "# These parameters will basically never need to change\n",
    "standalone_parameters[\"NUM_LOGS_PER_EPOCH\"] = 10\n",
    "standalone_parameters[\"BEST_MODEL_PATH\"] = \"./best_model.pth\"\n",
    "\n",
    "\n",
    "\n",
    "\n"
   ]
  },
  {
   "cell_type": "code",
   "execution_count": 4,
   "id": "279946f9",
   "metadata": {
    "execution": {
     "iopub.execute_input": "2022-03-19T22:18:38.113783Z",
     "iopub.status.busy": "2022-03-19T22:18:38.113267Z",
     "iopub.status.idle": "2022-03-19T22:18:38.127114Z",
     "shell.execute_reply": "2022-03-19T22:18:38.126832Z"
    },
    "papermill": {
     "duration": 0.035887,
     "end_time": "2022-03-19T22:18:38.127176",
     "exception": false,
     "start_time": "2022-03-19T22:18:38.091289",
     "status": "completed"
    },
    "tags": [
     "injected-parameters"
    ]
   },
   "outputs": [],
   "source": [
    "# Parameters\n",
    "parameters = {\n",
    "    \"experiment_name\": \"tl_2v2:oracle.run1.framed -> cores+wisig\",\n",
    "    \"device\": \"cuda\",\n",
    "    \"lr\": 0.0001,\n",
    "    \"n_shot\": 3,\n",
    "    \"n_query\": 2,\n",
    "    \"train_k_factor\": 3,\n",
    "    \"val_k_factor\": 2,\n",
    "    \"test_k_factor\": 2,\n",
    "    \"torch_default_dtype\": \"torch.float32\",\n",
    "    \"n_epoch\": 50,\n",
    "    \"patience\": 3,\n",
    "    \"criteria_for_best\": \"target_accuracy\",\n",
    "    \"x_net\": [\n",
    "        {\"class\": \"nnReshape\", \"kargs\": {\"shape\": [-1, 1, 2, 256]}},\n",
    "        {\n",
    "            \"class\": \"Conv2d\",\n",
    "            \"kargs\": {\n",
    "                \"in_channels\": 1,\n",
    "                \"out_channels\": 256,\n",
    "                \"kernel_size\": [1, 7],\n",
    "                \"bias\": False,\n",
    "                \"padding\": [0, 3],\n",
    "            },\n",
    "        },\n",
    "        {\"class\": \"ReLU\", \"kargs\": {\"inplace\": True}},\n",
    "        {\"class\": \"BatchNorm2d\", \"kargs\": {\"num_features\": 256}},\n",
    "        {\n",
    "            \"class\": \"Conv2d\",\n",
    "            \"kargs\": {\n",
    "                \"in_channels\": 256,\n",
    "                \"out_channels\": 80,\n",
    "                \"kernel_size\": [2, 7],\n",
    "                \"bias\": True,\n",
    "                \"padding\": [0, 3],\n",
    "            },\n",
    "        },\n",
    "        {\"class\": \"ReLU\", \"kargs\": {\"inplace\": True}},\n",
    "        {\"class\": \"BatchNorm2d\", \"kargs\": {\"num_features\": 80}},\n",
    "        {\"class\": \"Flatten\", \"kargs\": {}},\n",
    "        {\"class\": \"Linear\", \"kargs\": {\"in_features\": 20480, \"out_features\": 256}},\n",
    "        {\"class\": \"ReLU\", \"kargs\": {\"inplace\": True}},\n",
    "        {\"class\": \"BatchNorm1d\", \"kargs\": {\"num_features\": 256}},\n",
    "        {\"class\": \"Linear\", \"kargs\": {\"in_features\": 256, \"out_features\": 256}},\n",
    "    ],\n",
    "    \"NUM_LOGS_PER_EPOCH\": 10,\n",
    "    \"BEST_MODEL_PATH\": \"./best_model.pth\",\n",
    "    \"n_way\": 16,\n",
    "    \"datasets\": [\n",
    "        {\n",
    "            \"labels\": [\n",
    "                \"1-10.\",\n",
    "                \"1-11.\",\n",
    "                \"1-15.\",\n",
    "                \"1-16.\",\n",
    "                \"1-17.\",\n",
    "                \"1-18.\",\n",
    "                \"1-19.\",\n",
    "                \"10-4.\",\n",
    "                \"10-7.\",\n",
    "                \"11-1.\",\n",
    "                \"11-14.\",\n",
    "                \"11-17.\",\n",
    "                \"11-20.\",\n",
    "                \"11-7.\",\n",
    "                \"13-20.\",\n",
    "                \"13-8.\",\n",
    "                \"14-10.\",\n",
    "                \"14-11.\",\n",
    "                \"14-14.\",\n",
    "                \"14-7.\",\n",
    "                \"15-1.\",\n",
    "                \"15-20.\",\n",
    "                \"16-1.\",\n",
    "                \"16-16.\",\n",
    "                \"17-10.\",\n",
    "                \"17-11.\",\n",
    "                \"17-2.\",\n",
    "                \"19-1.\",\n",
    "                \"19-16.\",\n",
    "                \"19-19.\",\n",
    "                \"19-20.\",\n",
    "                \"19-3.\",\n",
    "                \"2-10.\",\n",
    "                \"2-11.\",\n",
    "                \"2-17.\",\n",
    "                \"2-18.\",\n",
    "                \"2-20.\",\n",
    "                \"2-3.\",\n",
    "                \"2-4.\",\n",
    "                \"2-5.\",\n",
    "                \"2-6.\",\n",
    "                \"2-7.\",\n",
    "                \"2-8.\",\n",
    "                \"3-13.\",\n",
    "                \"3-18.\",\n",
    "                \"3-3.\",\n",
    "                \"4-1.\",\n",
    "                \"4-10.\",\n",
    "                \"4-11.\",\n",
    "                \"4-19.\",\n",
    "                \"5-5.\",\n",
    "                \"6-15.\",\n",
    "                \"7-10.\",\n",
    "                \"7-14.\",\n",
    "                \"8-18.\",\n",
    "                \"8-20.\",\n",
    "                \"8-3.\",\n",
    "                \"8-8.\",\n",
    "            ],\n",
    "            \"domains\": [1, 2, 3, 4, 5],\n",
    "            \"num_examples_per_domain_per_label\": -1,\n",
    "            \"pickle_path\": \"/mnt/wd500GB/CSC500/csc500-main/datasets/cores.stratified_ds.2022A.pkl\",\n",
    "            \"source_or_target_dataset\": \"target\",\n",
    "            \"x_transforms\": [\"unit_mag\"],\n",
    "            \"episode_transforms\": [],\n",
    "            \"domain_prefix\": \"C_\",\n",
    "        },\n",
    "        {\n",
    "            \"labels\": [\n",
    "                \"1-10\",\n",
    "                \"1-12\",\n",
    "                \"1-14\",\n",
    "                \"1-16\",\n",
    "                \"1-18\",\n",
    "                \"1-19\",\n",
    "                \"1-8\",\n",
    "                \"10-11\",\n",
    "                \"10-17\",\n",
    "                \"10-4\",\n",
    "                \"10-7\",\n",
    "                \"11-1\",\n",
    "                \"11-10\",\n",
    "                \"11-19\",\n",
    "                \"11-20\",\n",
    "                \"11-4\",\n",
    "                \"11-7\",\n",
    "                \"12-19\",\n",
    "                \"12-20\",\n",
    "                \"12-7\",\n",
    "                \"13-14\",\n",
    "                \"13-18\",\n",
    "                \"13-19\",\n",
    "                \"13-20\",\n",
    "                \"13-3\",\n",
    "                \"13-7\",\n",
    "                \"14-10\",\n",
    "                \"14-11\",\n",
    "                \"14-12\",\n",
    "                \"14-13\",\n",
    "                \"14-14\",\n",
    "                \"14-19\",\n",
    "                \"14-20\",\n",
    "                \"14-7\",\n",
    "                \"14-8\",\n",
    "                \"14-9\",\n",
    "                \"15-1\",\n",
    "                \"15-19\",\n",
    "                \"15-6\",\n",
    "                \"16-1\",\n",
    "                \"16-16\",\n",
    "                \"16-19\",\n",
    "                \"16-20\",\n",
    "                \"17-10\",\n",
    "                \"17-11\",\n",
    "                \"18-1\",\n",
    "                \"18-10\",\n",
    "                \"18-11\",\n",
    "                \"18-12\",\n",
    "                \"18-13\",\n",
    "                \"18-14\",\n",
    "                \"18-15\",\n",
    "                \"18-16\",\n",
    "                \"18-17\",\n",
    "                \"18-19\",\n",
    "                \"18-2\",\n",
    "                \"18-20\",\n",
    "                \"18-4\",\n",
    "                \"18-5\",\n",
    "                \"18-7\",\n",
    "                \"18-8\",\n",
    "                \"18-9\",\n",
    "                \"19-1\",\n",
    "                \"19-10\",\n",
    "                \"19-11\",\n",
    "                \"19-12\",\n",
    "                \"19-13\",\n",
    "                \"19-14\",\n",
    "                \"19-15\",\n",
    "                \"19-19\",\n",
    "                \"19-2\",\n",
    "                \"19-20\",\n",
    "                \"19-3\",\n",
    "                \"19-4\",\n",
    "                \"19-6\",\n",
    "                \"19-7\",\n",
    "                \"19-8\",\n",
    "                \"19-9\",\n",
    "                \"2-1\",\n",
    "                \"2-13\",\n",
    "                \"2-15\",\n",
    "                \"2-3\",\n",
    "                \"2-4\",\n",
    "                \"2-5\",\n",
    "                \"2-6\",\n",
    "                \"2-7\",\n",
    "                \"2-8\",\n",
    "                \"20-1\",\n",
    "                \"20-12\",\n",
    "                \"20-14\",\n",
    "                \"20-15\",\n",
    "                \"20-16\",\n",
    "                \"20-18\",\n",
    "                \"20-19\",\n",
    "                \"20-20\",\n",
    "                \"20-3\",\n",
    "                \"20-4\",\n",
    "                \"20-5\",\n",
    "                \"20-7\",\n",
    "                \"20-8\",\n",
    "                \"3-1\",\n",
    "                \"3-13\",\n",
    "                \"3-18\",\n",
    "                \"3-2\",\n",
    "                \"3-8\",\n",
    "                \"4-1\",\n",
    "                \"4-10\",\n",
    "                \"4-11\",\n",
    "                \"5-1\",\n",
    "                \"5-5\",\n",
    "                \"6-1\",\n",
    "                \"6-15\",\n",
    "                \"6-6\",\n",
    "                \"7-10\",\n",
    "                \"7-11\",\n",
    "                \"7-12\",\n",
    "                \"7-13\",\n",
    "                \"7-14\",\n",
    "                \"7-7\",\n",
    "                \"7-8\",\n",
    "                \"7-9\",\n",
    "                \"8-1\",\n",
    "                \"8-13\",\n",
    "                \"8-14\",\n",
    "                \"8-18\",\n",
    "                \"8-20\",\n",
    "                \"8-3\",\n",
    "                \"8-8\",\n",
    "                \"9-1\",\n",
    "                \"9-7\",\n",
    "            ],\n",
    "            \"domains\": [1, 2, 3, 4],\n",
    "            \"num_examples_per_domain_per_label\": -1,\n",
    "            \"pickle_path\": \"/mnt/wd500GB/CSC500/csc500-main/datasets/wisig.node3-19.stratified_ds.2022A.pkl\",\n",
    "            \"source_or_target_dataset\": \"target\",\n",
    "            \"x_transforms\": [\"unit_mag\"],\n",
    "            \"episode_transforms\": [],\n",
    "            \"domain_prefix\": \"W_\",\n",
    "        },\n",
    "        {\n",
    "            \"labels\": [\n",
    "                \"3123D52\",\n",
    "                \"3123D65\",\n",
    "                \"3123D79\",\n",
    "                \"3123D80\",\n",
    "                \"3123D54\",\n",
    "                \"3123D70\",\n",
    "                \"3123D7B\",\n",
    "                \"3123D89\",\n",
    "                \"3123D58\",\n",
    "                \"3123D76\",\n",
    "                \"3123D7D\",\n",
    "                \"3123EFE\",\n",
    "                \"3123D64\",\n",
    "                \"3123D78\",\n",
    "                \"3123D7E\",\n",
    "                \"3124E4A\",\n",
    "            ],\n",
    "            \"domains\": [32, 38, 8, 44, 14, 50, 20, 26],\n",
    "            \"num_examples_per_domain_per_label\": 2000,\n",
    "            \"pickle_path\": \"/mnt/wd500GB/CSC500/csc500-main/datasets/oracle.Run1_framed_2000Examples_stratified_ds.2022A.pkl\",\n",
    "            \"source_or_target_dataset\": \"source\",\n",
    "            \"x_transforms\": [\"unit_mag\"],\n",
    "            \"episode_transforms\": [],\n",
    "            \"domain_prefix\": \"O_\",\n",
    "        },\n",
    "    ],\n",
    "    \"seed\": 154325,\n",
    "    \"dataset_seed\": 154325,\n",
    "}\n"
   ]
  },
  {
   "cell_type": "code",
   "execution_count": 5,
   "id": "8fa1cc33",
   "metadata": {
    "execution": {
     "iopub.execute_input": "2022-03-19T22:18:38.163325Z",
     "iopub.status.busy": "2022-03-19T22:18:38.162877Z",
     "iopub.status.idle": "2022-03-19T22:18:38.174007Z",
     "shell.execute_reply": "2022-03-19T22:18:38.174227Z"
    },
    "papermill": {
     "duration": 0.030775,
     "end_time": "2022-03-19T22:18:38.174302",
     "exception": false,
     "start_time": "2022-03-19T22:18:38.143527",
     "status": "completed"
    },
    "tags": []
   },
   "outputs": [],
   "source": [
    "# Set this to True if you want to run this template directly\n",
    "STANDALONE = False\n",
    "if STANDALONE:\n",
    "    print(\"parameters not injected, running with standalone_parameters\")\n",
    "    parameters = standalone_parameters\n",
    "\n",
    "if not 'parameters' in locals() and not 'parameters' in globals():\n",
    "    raise Exception(\"Parameter injection failed\")\n",
    "\n",
    "#Use an easy dict for all the parameters\n",
    "p = EasyDict(parameters)\n",
    "\n",
    "if \"x_shape\" not in p:\n",
    "    p.x_shape = [2,256] # Default to this if we dont supply x_shape\n",
    "\n",
    "\n",
    "supplied_keys = set(p.keys())\n",
    "\n",
    "if  supplied_keys != required_parameters:\n",
    "    print(\"Parameters are incorrect\")\n",
    "    if len(supplied_keys - required_parameters)>0: print(\"Shouldn't have:\", str(supplied_keys - required_parameters))\n",
    "    if len(required_parameters - supplied_keys)>0: print(\"Need to have:\", str(required_parameters - supplied_keys))\n",
    "    raise RuntimeError(\"Parameters are incorrect\")"
   ]
  },
  {
   "cell_type": "code",
   "execution_count": 6,
   "id": "3a028d58",
   "metadata": {
    "execution": {
     "iopub.execute_input": "2022-03-19T22:18:38.202740Z",
     "iopub.status.busy": "2022-03-19T22:18:38.202337Z",
     "iopub.status.idle": "2022-03-19T22:18:38.214065Z",
     "shell.execute_reply": "2022-03-19T22:18:38.213792Z"
    },
    "papermill": {
     "duration": 0.026657,
     "end_time": "2022-03-19T22:18:38.214127",
     "exception": false,
     "start_time": "2022-03-19T22:18:38.187470",
     "status": "completed"
    },
    "tags": []
   },
   "outputs": [],
   "source": [
    "###################################\n",
    "# Set the RNGs and make it all deterministic\n",
    "###################################\n",
    "np.random.seed(p.seed)\n",
    "random.seed(p.seed)\n",
    "torch.manual_seed(p.seed)\n",
    "\n",
    "torch.use_deterministic_algorithms(True) "
   ]
  },
  {
   "cell_type": "code",
   "execution_count": 7,
   "id": "b691acf6",
   "metadata": {
    "execution": {
     "iopub.execute_input": "2022-03-19T22:18:38.244976Z",
     "iopub.status.busy": "2022-03-19T22:18:38.244582Z",
     "iopub.status.idle": "2022-03-19T22:18:38.255554Z",
     "shell.execute_reply": "2022-03-19T22:18:38.255771Z"
    },
    "papermill": {
     "duration": 0.025614,
     "end_time": "2022-03-19T22:18:38.255845",
     "exception": false,
     "start_time": "2022-03-19T22:18:38.230231",
     "status": "completed"
    },
    "tags": []
   },
   "outputs": [],
   "source": [
    "###########################################\n",
    "# The stratified datasets honor this\n",
    "###########################################\n",
    "torch.set_default_dtype(eval(p.torch_default_dtype))"
   ]
  },
  {
   "cell_type": "code",
   "execution_count": 8,
   "id": "b5fba671",
   "metadata": {
    "execution": {
     "iopub.execute_input": "2022-03-19T22:18:38.284837Z",
     "iopub.status.busy": "2022-03-19T22:18:38.284341Z",
     "iopub.status.idle": "2022-03-19T22:18:38.321896Z",
     "shell.execute_reply": "2022-03-19T22:18:38.321439Z"
    },
    "papermill": {
     "duration": 0.052966,
     "end_time": "2022-03-19T22:18:38.322006",
     "exception": false,
     "start_time": "2022-03-19T22:18:38.269040",
     "status": "completed"
    },
    "tags": []
   },
   "outputs": [],
   "source": [
    "###################################\n",
    "# Build the network(s)\n",
    "# Note: It's critical to do this AFTER setting the RNG\n",
    "###################################\n",
    "x_net = build_sequential(p.x_net)"
   ]
  },
  {
   "cell_type": "code",
   "execution_count": 9,
   "id": "5d7e61cc",
   "metadata": {
    "execution": {
     "iopub.execute_input": "2022-03-19T22:18:38.356919Z",
     "iopub.status.busy": "2022-03-19T22:18:38.356670Z",
     "iopub.status.idle": "2022-03-19T22:18:38.368386Z",
     "shell.execute_reply": "2022-03-19T22:18:38.367935Z"
    },
    "papermill": {
     "duration": 0.027458,
     "end_time": "2022-03-19T22:18:38.368497",
     "exception": false,
     "start_time": "2022-03-19T22:18:38.341039",
     "status": "completed"
    },
    "tags": []
   },
   "outputs": [],
   "source": [
    "start_time_secs = time.time()"
   ]
  },
  {
   "cell_type": "code",
   "execution_count": 10,
   "id": "c6b67dfd",
   "metadata": {
    "execution": {
     "iopub.execute_input": "2022-03-19T22:18:38.403411Z",
     "iopub.status.busy": "2022-03-19T22:18:38.403144Z",
     "iopub.status.idle": "2022-03-19T22:18:38.418520Z",
     "shell.execute_reply": "2022-03-19T22:18:38.418051Z"
    },
    "papermill": {
     "duration": 0.030851,
     "end_time": "2022-03-19T22:18:38.418622",
     "exception": false,
     "start_time": "2022-03-19T22:18:38.387771",
     "status": "completed"
    },
    "tags": []
   },
   "outputs": [],
   "source": [
    "p.domains_source = []\n",
    "p.domains_target = []\n",
    "\n",
    "\n",
    "train_original_source = []\n",
    "val_original_source   = []\n",
    "test_original_source  = []\n",
    "\n",
    "train_original_target = []\n",
    "val_original_target   = []\n",
    "test_original_target  = []"
   ]
  },
  {
   "cell_type": "code",
   "execution_count": 11,
   "id": "e3d9c3d3",
   "metadata": {
    "execution": {
     "iopub.execute_input": "2022-03-19T22:18:38.451890Z",
     "iopub.status.busy": "2022-03-19T22:18:38.451649Z",
     "iopub.status.idle": "2022-03-19T22:18:38.466732Z",
     "shell.execute_reply": "2022-03-19T22:18:38.466239Z"
    },
    "papermill": {
     "duration": 0.030075,
     "end_time": "2022-03-19T22:18:38.466843",
     "exception": false,
     "start_time": "2022-03-19T22:18:38.436768",
     "status": "completed"
    },
    "tags": []
   },
   "outputs": [],
   "source": [
    "# global_x_transform_func = lambda x: normalize(x.to(torch.get_default_dtype()), \"unit_power\") # unit_power, unit_mag\n",
    "# global_x_transform_func = lambda x: normalize(x, \"unit_power\") # unit_power, unit_mag"
   ]
  },
  {
   "cell_type": "code",
   "execution_count": 12,
   "id": "acb78fd2",
   "metadata": {
    "execution": {
     "iopub.execute_input": "2022-03-19T22:18:38.502654Z",
     "iopub.status.busy": "2022-03-19T22:18:38.502334Z",
     "iopub.status.idle": "2022-03-19T22:18:38.514621Z",
     "shell.execute_reply": "2022-03-19T22:18:38.514136Z"
    },
    "papermill": {
     "duration": 0.030035,
     "end_time": "2022-03-19T22:18:38.514723",
     "exception": false,
     "start_time": "2022-03-19T22:18:38.484688",
     "status": "completed"
    },
    "tags": []
   },
   "outputs": [],
   "source": [
    "def add_dataset(\n",
    "    labels,\n",
    "    domains,\n",
    "    pickle_path,\n",
    "    x_transforms,\n",
    "    episode_transforms,\n",
    "    domain_prefix,\n",
    "    num_examples_per_domain_per_label,\n",
    "    source_or_target_dataset:str,\n",
    "    iterator_seed=p.seed,\n",
    "    dataset_seed=p.dataset_seed,\n",
    "    n_shot=p.n_shot,\n",
    "    n_way=p.n_way,\n",
    "    n_query=p.n_query,\n",
    "    train_val_test_k_factors=(p.train_k_factor,p.val_k_factor,p.test_k_factor),\n",
    "):\n",
    "   \n",
    "    if x_transforms == []: x_transform = None\n",
    "    else: x_transform = get_chained_transform(x_transforms)\n",
    "    \n",
    "    if episode_transforms == []: episode_transform = None\n",
    "    else: raise Exception(\"episode_transforms not implemented\")\n",
    "    \n",
    "    episode_transform = lambda tup, _prefix=domain_prefix: (_prefix + str(tup[0]), tup[1])\n",
    "\n",
    "\n",
    "    eaf = Episodic_Accessor_Factory(\n",
    "        labels=labels,\n",
    "        domains=domains,\n",
    "        num_examples_per_domain_per_label=num_examples_per_domain_per_label,\n",
    "        iterator_seed=iterator_seed,\n",
    "        dataset_seed=dataset_seed,\n",
    "        n_shot=n_shot,\n",
    "        n_way=n_way,\n",
    "        n_query=n_query,\n",
    "        train_val_test_k_factors=train_val_test_k_factors,\n",
    "        pickle_path=pickle_path,\n",
    "        x_transform_func=x_transform,\n",
    "    )\n",
    "\n",
    "    train, val, test = eaf.get_train(), eaf.get_val(), eaf.get_test()\n",
    "    train = Lazy_Iterable_Wrapper(train, episode_transform)\n",
    "    val = Lazy_Iterable_Wrapper(val, episode_transform)\n",
    "    test = Lazy_Iterable_Wrapper(test, episode_transform)\n",
    "\n",
    "    if source_or_target_dataset==\"source\":\n",
    "        train_original_source.append(train)\n",
    "        val_original_source.append(val)\n",
    "        test_original_source.append(test)\n",
    "\n",
    "        p.domains_source.extend(\n",
    "            [domain_prefix + str(u) for u in domains]\n",
    "        )\n",
    "    elif source_or_target_dataset==\"target\":\n",
    "        train_original_target.append(train)\n",
    "        val_original_target.append(val)\n",
    "        test_original_target.append(test)\n",
    "        p.domains_target.extend(\n",
    "            [domain_prefix + str(u) for u in domains]\n",
    "        )\n",
    "    else:\n",
    "        raise Exception(f\"invalid source_or_target_dataset: {source_or_target_dataset}\")\n",
    "    "
   ]
  },
  {
   "cell_type": "code",
   "execution_count": 13,
   "id": "fe266617",
   "metadata": {
    "execution": {
     "iopub.execute_input": "2022-03-19T22:18:38.548559Z",
     "iopub.status.busy": "2022-03-19T22:18:38.548310Z",
     "iopub.status.idle": "2022-03-19T22:19:24.770760Z",
     "shell.execute_reply": "2022-03-19T22:19:24.770989Z"
    },
    "papermill": {
     "duration": 46.237786,
     "end_time": "2022-03-19T22:19:24.771075",
     "exception": false,
     "start_time": "2022-03-19T22:18:38.533289",
     "status": "completed"
    },
    "tags": []
   },
   "outputs": [],
   "source": [
    "for ds in p.datasets:\n",
    "    add_dataset(**ds)"
   ]
  },
  {
   "cell_type": "code",
   "execution_count": 14,
   "id": "b90d65ac",
   "metadata": {
    "execution": {
     "iopub.execute_input": "2022-03-19T22:19:24.800933Z",
     "iopub.status.busy": "2022-03-19T22:19:24.800525Z",
     "iopub.status.idle": "2022-03-19T22:19:24.812119Z",
     "shell.execute_reply": "2022-03-19T22:19:24.811840Z"
    },
    "papermill": {
     "duration": 0.02712,
     "end_time": "2022-03-19T22:19:24.812179",
     "exception": false,
     "start_time": "2022-03-19T22:19:24.785059",
     "status": "completed"
    },
    "tags": []
   },
   "outputs": [],
   "source": [
    "# from steves_utils.CORES.utils import (\n",
    "#     ALL_NODES,\n",
    "#     ALL_NODES_MINIMUM_1000_EXAMPLES,\n",
    "#     ALL_DAYS\n",
    "# )\n",
    "\n",
    "# add_dataset(\n",
    "#     labels=ALL_NODES,\n",
    "#     domains = ALL_DAYS,\n",
    "#     num_examples_per_domain_per_label=100,\n",
    "#     pickle_path=os.path.join(get_datasets_base_path(), \"cores.stratified_ds.2022A.pkl\"),\n",
    "#     source_or_target_dataset=\"target\",\n",
    "#     x_transform_func=global_x_transform_func,\n",
    "#     domain_modifier=lambda u: f\"cores_{u}\"\n",
    "# )"
   ]
  },
  {
   "cell_type": "code",
   "execution_count": 15,
   "id": "76db484d",
   "metadata": {
    "execution": {
     "iopub.execute_input": "2022-03-19T22:19:24.841612Z",
     "iopub.status.busy": "2022-03-19T22:19:24.841212Z",
     "iopub.status.idle": "2022-03-19T22:19:24.852398Z",
     "shell.execute_reply": "2022-03-19T22:19:24.852109Z"
    },
    "papermill": {
     "duration": 0.026482,
     "end_time": "2022-03-19T22:19:24.852462",
     "exception": false,
     "start_time": "2022-03-19T22:19:24.825980",
     "status": "completed"
    },
    "tags": []
   },
   "outputs": [],
   "source": [
    "# from steves_utils.ORACLE.utils_v2 import (\n",
    "#     ALL_DISTANCES_FEET,\n",
    "#     ALL_RUNS,\n",
    "#     ALL_SERIAL_NUMBERS,\n",
    "# )\n",
    "\n",
    "\n",
    "# add_dataset(\n",
    "#     labels=ALL_SERIAL_NUMBERS,\n",
    "#     domains = list(set(ALL_DISTANCES_FEET) - {2,62}),\n",
    "#     num_examples_per_domain_per_label=100,\n",
    "#     pickle_path=os.path.join(get_datasets_base_path(), \"oracle.Run2_framed_2000Examples_stratified_ds.2022A.pkl\"),\n",
    "#     source_or_target_dataset=\"source\",\n",
    "#     x_transform_func=global_x_transform_func,\n",
    "#     domain_modifier=lambda u: f\"oracle1_{u}\"\n",
    "# )\n"
   ]
  },
  {
   "cell_type": "code",
   "execution_count": 16,
   "id": "97dea9d2",
   "metadata": {
    "execution": {
     "iopub.execute_input": "2022-03-19T22:19:24.882055Z",
     "iopub.status.busy": "2022-03-19T22:19:24.881645Z",
     "iopub.status.idle": "2022-03-19T22:19:24.892684Z",
     "shell.execute_reply": "2022-03-19T22:19:24.892422Z"
    },
    "papermill": {
     "duration": 0.026373,
     "end_time": "2022-03-19T22:19:24.892741",
     "exception": false,
     "start_time": "2022-03-19T22:19:24.866368",
     "status": "completed"
    },
    "tags": []
   },
   "outputs": [],
   "source": [
    "# from steves_utils.ORACLE.utils_v2 import (\n",
    "#     ALL_DISTANCES_FEET,\n",
    "#     ALL_RUNS,\n",
    "#     ALL_SERIAL_NUMBERS,\n",
    "# )\n",
    "\n",
    "\n",
    "# add_dataset(\n",
    "#     labels=ALL_SERIAL_NUMBERS,\n",
    "#     domains = list(set(ALL_DISTANCES_FEET) - {2,62,56}),\n",
    "#     num_examples_per_domain_per_label=100,\n",
    "#     pickle_path=os.path.join(get_datasets_base_path(), \"oracle.Run2_framed_2000Examples_stratified_ds.2022A.pkl\"),\n",
    "#     source_or_target_dataset=\"source\",\n",
    "#     x_transform_func=global_x_transform_func,\n",
    "#     domain_modifier=lambda u: f\"oracle2_{u}\"\n",
    "# )"
   ]
  },
  {
   "cell_type": "code",
   "execution_count": 17,
   "id": "6f289866",
   "metadata": {
    "execution": {
     "iopub.execute_input": "2022-03-19T22:19:24.922288Z",
     "iopub.status.busy": "2022-03-19T22:19:24.921915Z",
     "iopub.status.idle": "2022-03-19T22:19:24.933049Z",
     "shell.execute_reply": "2022-03-19T22:19:24.932787Z"
    },
    "papermill": {
     "duration": 0.026491,
     "end_time": "2022-03-19T22:19:24.933107",
     "exception": false,
     "start_time": "2022-03-19T22:19:24.906616",
     "status": "completed"
    },
    "tags": []
   },
   "outputs": [],
   "source": [
    "# add_dataset(\n",
    "#     labels=list(range(19)),\n",
    "#     domains = [0,1,2],\n",
    "#     num_examples_per_domain_per_label=100,\n",
    "#     pickle_path=os.path.join(get_datasets_base_path(), \"metehan.stratified_ds.2022A.pkl\"),\n",
    "#     source_or_target_dataset=\"target\",\n",
    "#     x_transform_func=global_x_transform_func,\n",
    "#     domain_modifier=lambda u: f\"met_{u}\"\n",
    "# )"
   ]
  },
  {
   "cell_type": "code",
   "execution_count": 18,
   "id": "86a863c3",
   "metadata": {
    "execution": {
     "iopub.execute_input": "2022-03-19T22:19:24.963239Z",
     "iopub.status.busy": "2022-03-19T22:19:24.962828Z",
     "iopub.status.idle": "2022-03-19T22:19:24.973447Z",
     "shell.execute_reply": "2022-03-19T22:19:24.973662Z"
    },
    "papermill": {
     "duration": 0.026717,
     "end_time": "2022-03-19T22:19:24.973733",
     "exception": false,
     "start_time": "2022-03-19T22:19:24.947016",
     "status": "completed"
    },
    "tags": []
   },
   "outputs": [],
   "source": [
    "# # from steves_utils.wisig.utils import (\n",
    "# #     ALL_NODES_MINIMUM_100_EXAMPLES,\n",
    "# #     ALL_NODES_MINIMUM_500_EXAMPLES,\n",
    "# #     ALL_NODES_MINIMUM_1000_EXAMPLES,\n",
    "# #     ALL_DAYS\n",
    "# # )\n",
    "\n",
    "# import steves_utils.wisig.utils as wisig\n",
    "\n",
    "\n",
    "# add_dataset(\n",
    "#     labels=wisig.ALL_NODES_MINIMUM_100_EXAMPLES,\n",
    "#     domains = wisig.ALL_DAYS,\n",
    "#     num_examples_per_domain_per_label=100,\n",
    "#     pickle_path=os.path.join(get_datasets_base_path(), \"wisig.node3-19.stratified_ds.2022A.pkl\"),\n",
    "#     source_or_target_dataset=\"target\",\n",
    "#     x_transform_func=global_x_transform_func,\n",
    "#     domain_modifier=lambda u: f\"wisig_{u}\"\n",
    "# )"
   ]
  },
  {
   "cell_type": "code",
   "execution_count": 19,
   "id": "fd5442bc",
   "metadata": {
    "execution": {
     "iopub.execute_input": "2022-03-19T22:19:25.005237Z",
     "iopub.status.busy": "2022-03-19T22:19:25.004819Z",
     "iopub.status.idle": "2022-03-19T22:19:25.016892Z",
     "shell.execute_reply": "2022-03-19T22:19:25.016617Z"
    },
    "papermill": {
     "duration": 0.029215,
     "end_time": "2022-03-19T22:19:25.016953",
     "exception": false,
     "start_time": "2022-03-19T22:19:24.987738",
     "status": "completed"
    },
    "tags": []
   },
   "outputs": [],
   "source": [
    "###################################\n",
    "# Build the dataset\n",
    "###################################\n",
    "train_original_source = Iterable_Aggregator(train_original_source, p.seed)\n",
    "val_original_source = Iterable_Aggregator(val_original_source, p.seed)\n",
    "test_original_source = Iterable_Aggregator(test_original_source, p.seed)\n",
    "\n",
    "\n",
    "train_original_target = Iterable_Aggregator(train_original_target, p.seed)\n",
    "val_original_target = Iterable_Aggregator(val_original_target, p.seed)\n",
    "test_original_target = Iterable_Aggregator(test_original_target, p.seed)\n",
    "\n",
    "# For CNN We only use X and Y. And we only train on the source.\n",
    "# Properly form the data using a transform lambda and Lazy_Iterable_Wrapper. Finally wrap them in a dataloader\n",
    "\n",
    "transform_lambda = lambda ex: ex[1] # Original is (<domain>, <episode>) so we strip down to episode only\n",
    "\n",
    "train_processed_source = Lazy_Iterable_Wrapper(train_original_source, transform_lambda)\n",
    "val_processed_source   = Lazy_Iterable_Wrapper(val_original_source, transform_lambda)\n",
    "test_processed_source  = Lazy_Iterable_Wrapper(test_original_source, transform_lambda)\n",
    "\n",
    "train_processed_target = Lazy_Iterable_Wrapper(train_original_target, transform_lambda)\n",
    "val_processed_target   = Lazy_Iterable_Wrapper(val_original_target, transform_lambda)\n",
    "test_processed_target  = Lazy_Iterable_Wrapper(test_original_target, transform_lambda)\n",
    "\n",
    "datasets = EasyDict({\n",
    "    \"source\": {\n",
    "        \"original\": {\"train\":train_original_source, \"val\":val_original_source, \"test\":test_original_source},\n",
    "        \"processed\": {\"train\":train_processed_source, \"val\":val_processed_source, \"test\":test_processed_source}\n",
    "    },\n",
    "    \"target\": {\n",
    "        \"original\": {\"train\":train_original_target, \"val\":val_original_target, \"test\":test_original_target},\n",
    "        \"processed\": {\"train\":train_processed_target, \"val\":val_processed_target, \"test\":test_processed_target}\n",
    "    },\n",
    "})"
   ]
  },
  {
   "cell_type": "code",
   "execution_count": 20,
   "id": "5b3c01fc",
   "metadata": {
    "execution": {
     "iopub.execute_input": "2022-03-19T22:19:25.048227Z",
     "iopub.status.busy": "2022-03-19T22:19:25.047822Z",
     "iopub.status.idle": "2022-03-19T22:19:33.800742Z",
     "shell.execute_reply": "2022-03-19T22:19:33.800997Z"
    },
    "papermill": {
     "duration": 8.769862,
     "end_time": "2022-03-19T22:19:33.801079",
     "exception": false,
     "start_time": "2022-03-19T22:19:25.031217",
     "status": "completed"
    },
    "tags": []
   },
   "outputs": [
    {
     "name": "stdout",
     "output_type": "stream",
     "text": [
      "{'O_26', 'O_14', 'O_44', 'O_8', 'O_38', 'O_20', 'O_32', 'O_50'}\n"
     ]
    },
    {
     "name": "stdout",
     "output_type": "stream",
     "text": [
      "{'W_3', 'C_2', 'C_3', 'C_1', 'W_2', 'W_4', 'C_5', 'C_4', 'W_1'}\n"
     ]
    },
    {
     "name": "stdout",
     "output_type": "stream",
     "text": [
      "tensor([[[-0.2017,  1.0708, -0.1873,  ..., -1.0900,  0.4802,  0.5762],\n",
      "         [-0.4225,  0.3697,  0.5234,  ..., -0.0528, -0.9699, -1.0756]],\n",
      "\n",
      "        [[ 0.0526,  1.1818, -0.3014,  ..., -0.9282, -0.0431, -0.7369],\n",
      "         [-0.4019, -0.3014,  0.6220,  ...,  0.3254, -1.2871, -0.8469]],\n",
      "\n",
      "        [[-0.6893, -0.1605,  0.9112,  ..., -0.0614, -1.3455,  0.0236],\n",
      "         [-0.4202, -0.9301,  0.6137,  ...,  0.8262,  0.3116,  1.3691]],\n",
      "\n",
      "        ...,\n",
      "\n",
      "        [[ 0.1071,  0.6820, -0.1071,  ..., -0.8567, -0.8961, -1.0709],\n",
      "         [-0.9243, -0.2818,  1.3414,  ...,  0.0958, -1.0596,  0.8511]],\n",
      "\n",
      "        [[-0.2684,  1.1422,  0.0228,  ..., -1.0851,  0.1999,  0.3027],\n",
      "         [-0.5026,  0.0343,  0.6625,  ...,  0.2627, -1.1079, -1.0794]],\n",
      "\n",
      "        [[-0.7840, -0.8071,  1.0550,  ...,  0.6399, -0.2133,  1.3605],\n",
      "         [ 0.5534, -0.1729, -0.7840,  ...,  0.5592,  1.3432,  0.2421]]])\n"
     ]
    }
   ],
   "source": [
    "from steves_utils.transforms import get_average_magnitude, get_average_power\n",
    "\n",
    "print(set([u for u,_ in val_original_source]))\n",
    "print(set([u for u,_ in val_original_target]))\n",
    "\n",
    "s_x, s_y, q_x, q_y, _ = next(iter(train_processed_source))\n",
    "print(s_x)\n",
    "\n",
    "# for ds in [\n",
    "#     train_processed_source,\n",
    "#     val_processed_source,\n",
    "#     test_processed_source,\n",
    "#     train_processed_target,\n",
    "#     val_processed_target,\n",
    "#     test_processed_target\n",
    "# ]:\n",
    "#     for s_x, s_y, q_x, q_y, _ in ds:\n",
    "#         for X in (s_x, q_x):\n",
    "#             for x in X:\n",
    "#                 assert np.isclose(get_average_magnitude(x.numpy()), 1.0)\n",
    "#                 assert np.isclose(get_average_power(x.numpy()), 1.0)\n",
    "                "
   ]
  },
  {
   "cell_type": "code",
   "execution_count": 21,
   "id": "bbdacba1",
   "metadata": {
    "execution": {
     "iopub.execute_input": "2022-03-19T22:19:33.833822Z",
     "iopub.status.busy": "2022-03-19T22:19:33.833555Z",
     "iopub.status.idle": "2022-03-19T22:19:33.895815Z",
     "shell.execute_reply": "2022-03-19T22:19:33.895329Z"
    },
    "papermill": {
     "duration": 0.08013,
     "end_time": "2022-03-19T22:19:33.895922",
     "exception": false,
     "start_time": "2022-03-19T22:19:33.815792",
     "status": "completed"
    },
    "tags": []
   },
   "outputs": [
    {
     "name": "stdout",
     "output_type": "stream",
     "text": [
      "(2, 256)\n"
     ]
    }
   ],
   "source": [
    "###################################\n",
    "# Build the model\n",
    "###################################\n",
    "# easfsl only wants a tuple for the shape\n",
    "model = Steves_Prototypical_Network(x_net, device=p.device, x_shape=tuple(p.x_shape))\n",
    "optimizer = Adam(params=model.parameters(), lr=p.lr)"
   ]
  },
  {
   "cell_type": "code",
   "execution_count": 22,
   "id": "22b39ac5",
   "metadata": {
    "execution": {
     "iopub.execute_input": "2022-03-19T22:19:33.935750Z",
     "iopub.status.busy": "2022-03-19T22:19:33.933794Z",
     "iopub.status.idle": "2022-03-19T22:44:53.796550Z",
     "shell.execute_reply": "2022-03-19T22:44:53.796324Z"
    },
    "papermill": {
     "duration": 1519.879557,
     "end_time": "2022-03-19T22:44:53.796612",
     "exception": false,
     "start_time": "2022-03-19T22:19:33.917055",
     "status": "completed"
    },
    "tags": []
   },
   "outputs": [
    {
     "name": "stdout",
     "output_type": "stream",
     "text": [
      "epoch: 1, [batch: 1 / 6720], examples_per_second: 48.4276, train_label_loss: 2.9734, \n"
     ]
    },
    {
     "name": "stdout",
     "output_type": "stream",
     "text": [
      "epoch: 1, [batch: 672 / 6720], examples_per_second: 3223.2636, train_label_loss: 0.7441, \n"
     ]
    },
    {
     "name": "stdout",
     "output_type": "stream",
     "text": [
      "epoch: 1, [batch: 1344 / 6720], examples_per_second: 3215.8677, train_label_loss: 0.7202, \n"
     ]
    },
    {
     "name": "stdout",
     "output_type": "stream",
     "text": [
      "epoch: 1, [batch: 2016 / 6720], examples_per_second: 3200.7016, train_label_loss: 0.4594, \n"
     ]
    },
    {
     "name": "stdout",
     "output_type": "stream",
     "text": [
      "epoch: 1, [batch: 2688 / 6720], examples_per_second: 3198.8866, train_label_loss: 0.3390, \n"
     ]
    },
    {
     "name": "stdout",
     "output_type": "stream",
     "text": [
      "epoch: 1, [batch: 3360 / 6720], examples_per_second: 3205.4628, train_label_loss: 0.4446, \n"
     ]
    },
    {
     "name": "stdout",
     "output_type": "stream",
     "text": [
      "epoch: 1, [batch: 4032 / 6720], examples_per_second: 3195.8492, train_label_loss: 0.6420, \n"
     ]
    },
    {
     "name": "stdout",
     "output_type": "stream",
     "text": [
      "epoch: 1, [batch: 4704 / 6720], examples_per_second: 3186.9327, train_label_loss: 0.3591, \n"
     ]
    },
    {
     "name": "stdout",
     "output_type": "stream",
     "text": [
      "epoch: 1, [batch: 5376 / 6720], examples_per_second: 3185.1201, train_label_loss: 0.3688, \n"
     ]
    },
    {
     "name": "stdout",
     "output_type": "stream",
     "text": [
      "epoch: 1, [batch: 6048 / 6720], examples_per_second: 3127.7505, train_label_loss: 0.5040, \n"
     ]
    },
    {
     "name": "stdout",
     "output_type": "stream",
     "text": [
      "=============================================================\n",
      "epoch: 1, source_val_acc_label: 0.7857, target_val_acc_label: 0.6286, source_val_label_loss: 0.6581, target_val_label_loss: 3.4458, \n",
      "=============================================================\n"
     ]
    },
    {
     "name": "stdout",
     "output_type": "stream",
     "text": [
      "New best\n"
     ]
    },
    {
     "name": "stdout",
     "output_type": "stream",
     "text": [
      "epoch: 2, [batch: 1 / 6720], examples_per_second: 3.9597, train_label_loss: 0.4719, \n"
     ]
    },
    {
     "name": "stdout",
     "output_type": "stream",
     "text": [
      "epoch: 2, [batch: 672 / 6720], examples_per_second: 3189.6959, train_label_loss: 0.4226, \n"
     ]
    },
    {
     "name": "stdout",
     "output_type": "stream",
     "text": [
      "epoch: 2, [batch: 1344 / 6720], examples_per_second: 3193.8345, train_label_loss: 0.9617, \n"
     ]
    },
    {
     "name": "stdout",
     "output_type": "stream",
     "text": [
      "epoch: 2, [batch: 2016 / 6720], examples_per_second: 3193.9246, train_label_loss: 0.2849, \n"
     ]
    },
    {
     "name": "stdout",
     "output_type": "stream",
     "text": [
      "epoch: 2, [batch: 2688 / 6720], examples_per_second: 3188.5232, train_label_loss: 0.5367, \n"
     ]
    },
    {
     "name": "stdout",
     "output_type": "stream",
     "text": [
      "epoch: 2, [batch: 3360 / 6720], examples_per_second: 3209.2563, train_label_loss: 0.3848, \n"
     ]
    },
    {
     "name": "stdout",
     "output_type": "stream",
     "text": [
      "epoch: 2, [batch: 4032 / 6720], examples_per_second: 3210.8836, train_label_loss: 0.2322, \n"
     ]
    },
    {
     "name": "stdout",
     "output_type": "stream",
     "text": [
      "epoch: 2, [batch: 4704 / 6720], examples_per_second: 3186.0520, train_label_loss: 0.1846, \n"
     ]
    },
    {
     "name": "stdout",
     "output_type": "stream",
     "text": [
      "epoch: 2, [batch: 5376 / 6720], examples_per_second: 3192.5986, train_label_loss: 1.1779, \n"
     ]
    },
    {
     "name": "stdout",
     "output_type": "stream",
     "text": [
      "epoch: 2, [batch: 6048 / 6720], examples_per_second: 3219.3219, train_label_loss: 0.2394, \n"
     ]
    },
    {
     "name": "stdout",
     "output_type": "stream",
     "text": [
      "=============================================================\n",
      "epoch: 2, source_val_acc_label: 0.8556, target_val_acc_label: 0.7312, source_val_label_loss: 0.4102, target_val_label_loss: 3.9015, \n",
      "=============================================================\n"
     ]
    },
    {
     "name": "stdout",
     "output_type": "stream",
     "text": [
      "New best\n"
     ]
    },
    {
     "name": "stdout",
     "output_type": "stream",
     "text": [
      "epoch: 3, [batch: 1 / 6720], examples_per_second: 4.0332, train_label_loss: 0.4744, \n"
     ]
    },
    {
     "name": "stdout",
     "output_type": "stream",
     "text": [
      "epoch: 3, [batch: 672 / 6720], examples_per_second: 3206.9366, train_label_loss: 0.3548, \n"
     ]
    },
    {
     "name": "stdout",
     "output_type": "stream",
     "text": [
      "epoch: 3, [batch: 1344 / 6720], examples_per_second: 3204.3625, train_label_loss: 0.7744, \n"
     ]
    },
    {
     "name": "stdout",
     "output_type": "stream",
     "text": [
      "epoch: 3, [batch: 2016 / 6720], examples_per_second: 3201.3709, train_label_loss: 0.4821, \n"
     ]
    },
    {
     "name": "stdout",
     "output_type": "stream",
     "text": [
      "epoch: 3, [batch: 2688 / 6720], examples_per_second: 3199.7300, train_label_loss: 0.2791, \n"
     ]
    },
    {
     "name": "stdout",
     "output_type": "stream",
     "text": [
      "epoch: 3, [batch: 3360 / 6720], examples_per_second: 3188.3107, train_label_loss: 0.2425, \n"
     ]
    },
    {
     "name": "stdout",
     "output_type": "stream",
     "text": [
      "epoch: 3, [batch: 4032 / 6720], examples_per_second: 3171.3742, train_label_loss: 0.3298, \n"
     ]
    },
    {
     "name": "stdout",
     "output_type": "stream",
     "text": [
      "epoch: 3, [batch: 4704 / 6720], examples_per_second: 3223.1743, train_label_loss: 0.2434, \n"
     ]
    },
    {
     "name": "stdout",
     "output_type": "stream",
     "text": [
      "epoch: 3, [batch: 5376 / 6720], examples_per_second: 3236.8128, train_label_loss: 0.1838, \n"
     ]
    },
    {
     "name": "stdout",
     "output_type": "stream",
     "text": [
      "epoch: 3, [batch: 6048 / 6720], examples_per_second: 3238.8311, train_label_loss: 0.3238, \n"
     ]
    },
    {
     "name": "stdout",
     "output_type": "stream",
     "text": [
      "=============================================================\n",
      "epoch: 3, source_val_acc_label: 0.8634, target_val_acc_label: 0.7294, source_val_label_loss: 0.3787, target_val_label_loss: 4.9976, \n",
      "=============================================================\n"
     ]
    },
    {
     "name": "stdout",
     "output_type": "stream",
     "text": [
      "epoch: 4, [batch: 1 / 6720], examples_per_second: 4.0369, train_label_loss: 0.1756, \n"
     ]
    },
    {
     "name": "stdout",
     "output_type": "stream",
     "text": [
      "epoch: 4, [batch: 672 / 6720], examples_per_second: 3217.7376, train_label_loss: 0.1658, \n"
     ]
    },
    {
     "name": "stdout",
     "output_type": "stream",
     "text": [
      "epoch: 4, [batch: 1344 / 6720], examples_per_second: 3219.7819, train_label_loss: 0.1660, \n"
     ]
    },
    {
     "name": "stdout",
     "output_type": "stream",
     "text": [
      "epoch: 4, [batch: 2016 / 6720], examples_per_second: 3221.9026, train_label_loss: 0.2285, \n"
     ]
    },
    {
     "name": "stdout",
     "output_type": "stream",
     "text": [
      "epoch: 4, [batch: 2688 / 6720], examples_per_second: 3223.0851, train_label_loss: 0.4919, \n"
     ]
    },
    {
     "name": "stdout",
     "output_type": "stream",
     "text": [
      "epoch: 4, [batch: 3360 / 6720], examples_per_second: 3222.4940, train_label_loss: 0.1075, \n"
     ]
    },
    {
     "name": "stdout",
     "output_type": "stream",
     "text": [
      "epoch: 4, [batch: 4032 / 6720], examples_per_second: 3220.5711, train_label_loss: 0.3312, \n"
     ]
    },
    {
     "name": "stdout",
     "output_type": "stream",
     "text": [
      "epoch: 4, [batch: 4704 / 6720], examples_per_second: 3205.4436, train_label_loss: 0.1518, \n"
     ]
    },
    {
     "name": "stdout",
     "output_type": "stream",
     "text": [
      "epoch: 4, [batch: 5376 / 6720], examples_per_second: 3223.2100, train_label_loss: 0.1268, \n"
     ]
    },
    {
     "name": "stdout",
     "output_type": "stream",
     "text": [
      "epoch: 4, [batch: 6048 / 6720], examples_per_second: 3246.4618, train_label_loss: 0.1475, \n"
     ]
    },
    {
     "name": "stdout",
     "output_type": "stream",
     "text": [
      "=============================================================\n",
      "epoch: 4, source_val_acc_label: 0.8857, target_val_acc_label: 0.7347, source_val_label_loss: 0.3190, target_val_label_loss: 4.7965, \n",
      "=============================================================\n"
     ]
    },
    {
     "name": "stdout",
     "output_type": "stream",
     "text": [
      "New best\n"
     ]
    },
    {
     "name": "stdout",
     "output_type": "stream",
     "text": [
      "epoch: 5, [batch: 1 / 6720], examples_per_second: 4.0371, train_label_loss: 0.4002, \n"
     ]
    },
    {
     "name": "stdout",
     "output_type": "stream",
     "text": [
      "epoch: 5, [batch: 672 / 6720], examples_per_second: 3225.5487, train_label_loss: 0.7567, \n"
     ]
    },
    {
     "name": "stdout",
     "output_type": "stream",
     "text": [
      "epoch: 5, [batch: 1344 / 6720], examples_per_second: 3226.2861, train_label_loss: 0.1556, \n"
     ]
    },
    {
     "name": "stdout",
     "output_type": "stream",
     "text": [
      "epoch: 5, [batch: 2016 / 6720], examples_per_second: 3215.5315, train_label_loss: 0.9548, \n"
     ]
    },
    {
     "name": "stdout",
     "output_type": "stream",
     "text": [
      "epoch: 5, [batch: 2688 / 6720], examples_per_second: 3206.8487, train_label_loss: 0.2388, \n"
     ]
    },
    {
     "name": "stdout",
     "output_type": "stream",
     "text": [
      "epoch: 5, [batch: 3360 / 6720], examples_per_second: 3247.7688, train_label_loss: 0.7101, \n"
     ]
    },
    {
     "name": "stdout",
     "output_type": "stream",
     "text": [
      "epoch: 5, [batch: 4032 / 6720], examples_per_second: 3245.4425, train_label_loss: 0.0987, \n"
     ]
    },
    {
     "name": "stdout",
     "output_type": "stream",
     "text": [
      "epoch: 5, [batch: 4704 / 6720], examples_per_second: 3224.4598, train_label_loss: 0.4126, \n"
     ]
    },
    {
     "name": "stdout",
     "output_type": "stream",
     "text": [
      "epoch: 5, [batch: 5376 / 6720], examples_per_second: 3233.4454, train_label_loss: 0.0984, \n"
     ]
    },
    {
     "name": "stdout",
     "output_type": "stream",
     "text": [
      "epoch: 5, [batch: 6048 / 6720], examples_per_second: 3239.3906, train_label_loss: 0.4130, \n"
     ]
    },
    {
     "name": "stdout",
     "output_type": "stream",
     "text": [
      "=============================================================\n",
      "epoch: 5, source_val_acc_label: 0.8898, target_val_acc_label: 0.7330, source_val_label_loss: 0.3049, target_val_label_loss: 5.2026, \n",
      "=============================================================\n"
     ]
    },
    {
     "name": "stdout",
     "output_type": "stream",
     "text": [
      "epoch: 6, [batch: 1 / 6720], examples_per_second: 4.0557, train_label_loss: 0.2398, \n"
     ]
    },
    {
     "name": "stdout",
     "output_type": "stream",
     "text": [
      "epoch: 6, [batch: 672 / 6720], examples_per_second: 3210.8494, train_label_loss: 0.1975, \n"
     ]
    },
    {
     "name": "stdout",
     "output_type": "stream",
     "text": [
      "epoch: 6, [batch: 1344 / 6720], examples_per_second: 3223.6385, train_label_loss: 0.1165, \n"
     ]
    },
    {
     "name": "stdout",
     "output_type": "stream",
     "text": [
      "epoch: 6, [batch: 2016 / 6720], examples_per_second: 3234.3343, train_label_loss: 0.2096, \n"
     ]
    },
    {
     "name": "stdout",
     "output_type": "stream",
     "text": [
      "epoch: 6, [batch: 2688 / 6720], examples_per_second: 3225.0804, train_label_loss: 0.3156, \n"
     ]
    },
    {
     "name": "stdout",
     "output_type": "stream",
     "text": [
      "epoch: 6, [batch: 3360 / 6720], examples_per_second: 3241.1937, train_label_loss: 0.2115, \n"
     ]
    },
    {
     "name": "stdout",
     "output_type": "stream",
     "text": [
      "epoch: 6, [batch: 4032 / 6720], examples_per_second: 3231.2784, train_label_loss: 0.2663, \n"
     ]
    },
    {
     "name": "stdout",
     "output_type": "stream",
     "text": [
      "epoch: 6, [batch: 4704 / 6720], examples_per_second: 3210.5535, train_label_loss: 0.4194, \n"
     ]
    },
    {
     "name": "stdout",
     "output_type": "stream",
     "text": [
      "epoch: 6, [batch: 5376 / 6720], examples_per_second: 3226.0135, train_label_loss: 0.2987, \n"
     ]
    },
    {
     "name": "stdout",
     "output_type": "stream",
     "text": [
      "epoch: 6, [batch: 6048 / 6720], examples_per_second: 3242.2368, train_label_loss: 0.2644, \n"
     ]
    },
    {
     "name": "stdout",
     "output_type": "stream",
     "text": [
      "=============================================================\n",
      "epoch: 6, source_val_acc_label: 0.8933, target_val_acc_label: 0.7314, source_val_label_loss: 0.2956, target_val_label_loss: 5.1586, \n",
      "=============================================================\n"
     ]
    },
    {
     "name": "stdout",
     "output_type": "stream",
     "text": [
      "epoch: 7, [batch: 1 / 6720], examples_per_second: 4.0578, train_label_loss: 0.1071, \n"
     ]
    },
    {
     "name": "stdout",
     "output_type": "stream",
     "text": [
      "epoch: 7, [batch: 672 / 6720], examples_per_second: 3218.0109, train_label_loss: 0.1200, \n"
     ]
    },
    {
     "name": "stdout",
     "output_type": "stream",
     "text": [
      "epoch: 7, [batch: 1344 / 6720], examples_per_second: 3225.5271, train_label_loss: 0.1776, \n"
     ]
    },
    {
     "name": "stdout",
     "output_type": "stream",
     "text": [
      "epoch: 7, [batch: 2016 / 6720], examples_per_second: 3225.7646, train_label_loss: 0.0757, \n"
     ]
    },
    {
     "name": "stdout",
     "output_type": "stream",
     "text": [
      "epoch: 7, [batch: 2688 / 6720], examples_per_second: 3237.1341, train_label_loss: 0.0167, \n"
     ]
    },
    {
     "name": "stdout",
     "output_type": "stream",
     "text": [
      "epoch: 7, [batch: 3360 / 6720], examples_per_second: 3248.5418, train_label_loss: 0.0744, \n"
     ]
    },
    {
     "name": "stdout",
     "output_type": "stream",
     "text": [
      "epoch: 7, [batch: 4032 / 6720], examples_per_second: 3239.5535, train_label_loss: 0.1569, \n"
     ]
    },
    {
     "name": "stdout",
     "output_type": "stream",
     "text": [
      "epoch: 7, [batch: 4704 / 6720], examples_per_second: 3227.4876, train_label_loss: 0.1550, \n"
     ]
    },
    {
     "name": "stdout",
     "output_type": "stream",
     "text": [
      "epoch: 7, [batch: 5376 / 6720], examples_per_second: 3238.9068, train_label_loss: 0.3249, \n"
     ]
    },
    {
     "name": "stdout",
     "output_type": "stream",
     "text": [
      "epoch: 7, [batch: 6048 / 6720], examples_per_second: 3231.7035, train_label_loss: 0.2356, \n"
     ]
    },
    {
     "name": "stdout",
     "output_type": "stream",
     "text": [
      "=============================================================\n",
      "epoch: 7, source_val_acc_label: 0.8906, target_val_acc_label: 0.7123, source_val_label_loss: 0.3039, target_val_label_loss: 6.2114, \n",
      "=============================================================\n"
     ]
    },
    {
     "name": "stdout",
     "output_type": "stream",
     "text": [
      "epoch: 8, [batch: 1 / 6720], examples_per_second: 4.0438, train_label_loss: 0.0851, \n"
     ]
    },
    {
     "name": "stdout",
     "output_type": "stream",
     "text": [
      "epoch: 8, [batch: 672 / 6720], examples_per_second: 3221.7199, train_label_loss: 0.1302, \n"
     ]
    },
    {
     "name": "stdout",
     "output_type": "stream",
     "text": [
      "epoch: 8, [batch: 1344 / 6720], examples_per_second: 3234.1457, train_label_loss: 0.0436, \n"
     ]
    },
    {
     "name": "stdout",
     "output_type": "stream",
     "text": [
      "epoch: 8, [batch: 2016 / 6720], examples_per_second: 3231.3408, train_label_loss: 0.3856, \n"
     ]
    },
    {
     "name": "stdout",
     "output_type": "stream",
     "text": [
      "epoch: 8, [batch: 2688 / 6720], examples_per_second: 3223.7523, train_label_loss: 0.1107, \n"
     ]
    },
    {
     "name": "stdout",
     "output_type": "stream",
     "text": [
      "epoch: 8, [batch: 3360 / 6720], examples_per_second: 3230.6472, train_label_loss: 0.6381, \n"
     ]
    },
    {
     "name": "stdout",
     "output_type": "stream",
     "text": [
      "epoch: 8, [batch: 4032 / 6720], examples_per_second: 3228.7503, train_label_loss: 0.2215, \n"
     ]
    },
    {
     "name": "stdout",
     "output_type": "stream",
     "text": [
      "epoch: 8, [batch: 4704 / 6720], examples_per_second: 3228.7167, train_label_loss: 0.1284, \n"
     ]
    },
    {
     "name": "stdout",
     "output_type": "stream",
     "text": [
      "epoch: 8, [batch: 5376 / 6720], examples_per_second: 3230.4834, train_label_loss: 0.0884, \n"
     ]
    },
    {
     "name": "stdout",
     "output_type": "stream",
     "text": [
      "epoch: 8, [batch: 6048 / 6720], examples_per_second: 3252.3145, train_label_loss: 0.2381, \n"
     ]
    },
    {
     "name": "stdout",
     "output_type": "stream",
     "text": [
      "=============================================================\n",
      "epoch: 8, source_val_acc_label: 0.8993, target_val_acc_label: 0.6984, source_val_label_loss: 0.2775, target_val_label_loss: 7.6240, \n",
      "=============================================================\n"
     ]
    },
    {
     "name": "stdout",
     "output_type": "stream",
     "text": [
      "Patience (3) exhausted\n"
     ]
    }
   ],
   "source": [
    "###################################\n",
    "# train\n",
    "###################################\n",
    "jig = PTN_Train_Eval_Test_Jig(model, p.BEST_MODEL_PATH, p.device)\n",
    "\n",
    "jig.train(\n",
    "    train_iterable=datasets.source.processed.train,\n",
    "    source_val_iterable=datasets.source.processed.val,\n",
    "    target_val_iterable=datasets.target.processed.val,\n",
    "    num_epochs=p.n_epoch,\n",
    "    num_logs_per_epoch=p.NUM_LOGS_PER_EPOCH,\n",
    "    patience=p.patience,\n",
    "    optimizer=optimizer,\n",
    "    criteria_for_best=p.criteria_for_best,\n",
    ")"
   ]
  },
  {
   "cell_type": "code",
   "execution_count": 23,
   "id": "31e8fabf",
   "metadata": {
    "execution": {
     "iopub.execute_input": "2022-03-19T22:44:53.860408Z",
     "iopub.status.busy": "2022-03-19T22:44:53.860162Z",
     "iopub.status.idle": "2022-03-19T22:44:53.879388Z",
     "shell.execute_reply": "2022-03-19T22:44:53.879694Z"
    },
    "papermill": {
     "duration": 0.052855,
     "end_time": "2022-03-19T22:44:53.879803",
     "exception": false,
     "start_time": "2022-03-19T22:44:53.826948",
     "status": "completed"
    },
    "tags": []
   },
   "outputs": [],
   "source": [
    "total_experiment_time_secs = time.time() - start_time_secs"
   ]
  },
  {
   "cell_type": "code",
   "execution_count": 24,
   "id": "87b9595b",
   "metadata": {
    "execution": {
     "iopub.execute_input": "2022-03-19T22:44:53.951891Z",
     "iopub.status.busy": "2022-03-19T22:44:53.951550Z",
     "iopub.status.idle": "2022-03-19T22:47:18.413727Z",
     "shell.execute_reply": "2022-03-19T22:47:18.413318Z"
    },
    "papermill": {
     "duration": 144.498368,
     "end_time": "2022-03-19T22:47:18.413842",
     "exception": false,
     "start_time": "2022-03-19T22:44:53.915474",
     "status": "completed"
    },
    "tags": []
   },
   "outputs": [],
   "source": [
    "###################################\n",
    "# Evaluate the model\n",
    "###################################\n",
    "source_test_label_accuracy, source_test_label_loss = jig.test(datasets.source.processed.test)\n",
    "target_test_label_accuracy, target_test_label_loss = jig.test(datasets.target.processed.test)\n",
    "\n",
    "source_val_label_accuracy, source_val_label_loss = jig.test(datasets.source.processed.val)\n",
    "target_val_label_accuracy, target_val_label_loss = jig.test(datasets.target.processed.val)\n",
    "\n",
    "history = jig.get_history()\n",
    "\n",
    "total_epochs_trained = len(history[\"epoch_indices\"])\n",
    "\n",
    "val_dl = Iterable_Aggregator((datasets.source.original.val,datasets.target.original.val))\n",
    "\n",
    "confusion = ptn_confusion_by_domain_over_dataloader(model, p.device, val_dl)\n",
    "per_domain_accuracy = per_domain_accuracy_from_confusion(confusion)\n",
    "\n",
    "# Add a key to per_domain_accuracy for if it was a source domain\n",
    "for domain, accuracy in per_domain_accuracy.items():\n",
    "    per_domain_accuracy[domain] = {\n",
    "        \"accuracy\": accuracy,\n",
    "        \"source?\": domain in p.domains_source\n",
    "    }\n",
    "\n",
    "# Do an independent accuracy assesment JUST TO BE SURE!\n",
    "# _source_test_label_accuracy = independent_accuracy_assesment(model, datasets.source.processed.test, p.device)\n",
    "# _target_test_label_accuracy = independent_accuracy_assesment(model, datasets.target.processed.test, p.device)\n",
    "# _source_val_label_accuracy = independent_accuracy_assesment(model, datasets.source.processed.val, p.device)\n",
    "# _target_val_label_accuracy = independent_accuracy_assesment(model, datasets.target.processed.val, p.device)\n",
    "\n",
    "# assert(_source_test_label_accuracy == source_test_label_accuracy)\n",
    "# assert(_target_test_label_accuracy == target_test_label_accuracy)\n",
    "# assert(_source_val_label_accuracy == source_val_label_accuracy)\n",
    "# assert(_target_val_label_accuracy == target_val_label_accuracy)\n",
    "\n",
    "experiment = {\n",
    "    \"experiment_name\": p.experiment_name,\n",
    "    \"parameters\": dict(p),\n",
    "    \"results\": {\n",
    "        \"source_test_label_accuracy\": source_test_label_accuracy,\n",
    "        \"source_test_label_loss\": source_test_label_loss,\n",
    "        \"target_test_label_accuracy\": target_test_label_accuracy,\n",
    "        \"target_test_label_loss\": target_test_label_loss,\n",
    "        \"source_val_label_accuracy\": source_val_label_accuracy,\n",
    "        \"source_val_label_loss\": source_val_label_loss,\n",
    "        \"target_val_label_accuracy\": target_val_label_accuracy,\n",
    "        \"target_val_label_loss\": target_val_label_loss,\n",
    "        \"total_epochs_trained\": total_epochs_trained,\n",
    "        \"total_experiment_time_secs\": total_experiment_time_secs,\n",
    "        \"confusion\": confusion,\n",
    "        \"per_domain_accuracy\": per_domain_accuracy,\n",
    "    },\n",
    "    \"history\": history,\n",
    "    \"dataset_metrics\": get_dataset_metrics(datasets, \"ptn\"),\n",
    "}"
   ]
  },
  {
   "cell_type": "code",
   "execution_count": 25,
   "id": "54a21829",
   "metadata": {
    "execution": {
     "iopub.execute_input": "2022-03-19T22:47:18.484021Z",
     "iopub.status.busy": "2022-03-19T22:47:18.483767Z",
     "iopub.status.idle": "2022-03-19T22:47:18.612633Z",
     "shell.execute_reply": "2022-03-19T22:47:18.612215Z"
    },
    "papermill": {
     "duration": 0.163226,
     "end_time": "2022-03-19T22:47:18.612731",
     "exception": false,
     "start_time": "2022-03-19T22:47:18.449505",
     "status": "completed"
    },
    "tags": []
   },
   "outputs": [
    {
     "data": {
      "image/png": "[encoded data removed]",
      "text/plain": [
       "<Figure size 1080x504 with 1 Axes>"
      ]
     },
     "metadata": {
      "needs_background": "light"
     },
     "output_type": "display_data"
    }
   ],
   "source": [
    "ax = get_loss_curve(experiment)\n",
    "plt.show()"
   ]
  },
  {
   "cell_type": "code",
   "execution_count": 26,
   "id": "fd8a0f60",
   "metadata": {
    "execution": {
     "iopub.execute_input": "2022-03-19T22:47:18.683987Z",
     "iopub.status.busy": "2022-03-19T22:47:18.683736Z",
     "iopub.status.idle": "2022-03-19T22:47:18.826616Z",
     "shell.execute_reply": "2022-03-19T22:47:18.826826Z"
    },
    "papermill": {
     "duration": 0.177204,
     "end_time": "2022-03-19T22:47:18.826898",
     "exception": false,
     "start_time": "2022-03-19T22:47:18.649694",
     "status": "completed"
    },
    "tags": []
   },
   "outputs": [
    {
     "data": {
      "text/plain": [
       "<AxesSubplot:title={'center':'Results'}>"
      ]
     },
     "execution_count": 26,
     "metadata": {},
     "output_type": "execute_result"
    },
    {
     "data": {
      "image/png": "[encoded data removed]",
      "text/plain": [
       "<Figure size 1080x504 with 1 Axes>"
      ]
     },
     "metadata": {
      "needs_background": "light"
     },
     "output_type": "display_data"
    }
   ],
   "source": [
    "get_results_table(experiment)"
   ]
  },
  {
   "cell_type": "code",
   "execution_count": 27,
   "id": "cf8dc689",
   "metadata": {
    "execution": {
     "iopub.execute_input": "2022-03-19T22:47:18.894916Z",
     "iopub.status.busy": "2022-03-19T22:47:18.893920Z",
     "iopub.status.idle": "2022-03-19T22:47:19.043412Z",
     "shell.execute_reply": "2022-03-19T22:47:19.043000Z"
    },
    "papermill": {
     "duration": 0.183685,
     "end_time": "2022-03-19T22:47:19.043508",
     "exception": false,
     "start_time": "2022-03-19T22:47:18.859823",
     "status": "completed"
    },
    "tags": []
   },
   "outputs": [
    {
     "data": {
      "text/plain": [
       "<AxesSubplot:title={'center':'Per Domain Validation Accuracy'}, xlabel='domain'>"
      ]
     },
     "execution_count": 27,
     "metadata": {},
     "output_type": "execute_result"
    },
    {
     "data": {
      "image/png": "[encoded data removed]",
      "text/plain": [
       "<Figure size 1080x504 with 1 Axes>"
      ]
     },
     "metadata": {
      "needs_background": "light"
     },
     "output_type": "display_data"
    }
   ],
   "source": [
    "get_domain_accuracies(experiment)"
   ]
  },
  {
   "cell_type": "code",
   "execution_count": 28,
   "id": "a74ae082",
   "metadata": {
    "execution": {
     "iopub.execute_input": "2022-03-19T22:47:19.117371Z",
     "iopub.status.busy": "2022-03-19T22:47:19.117123Z",
     "iopub.status.idle": "2022-03-19T22:47:19.133980Z",
     "shell.execute_reply": "2022-03-19T22:47:19.133539Z"
    },
    "papermill": {
     "duration": 0.053666,
     "end_time": "2022-03-19T22:47:19.134072",
     "exception": false,
     "start_time": "2022-03-19T22:47:19.080406",
     "status": "completed"
    },
    "tags": []
   },
   "outputs": [
    {
     "name": "stdout",
     "output_type": "stream",
     "text": [
      "Source Test Label Accuracy: 0.88642578125 Target Test Label Accuracy: 0.7344002968159741\n",
      "Source Val Label Accuracy: 0.8857421875 Target Val Label Accuracy: 0.7347275729223995\n"
     ]
    }
   ],
   "source": [
    "print(\"Source Test Label Accuracy:\", experiment[\"results\"][\"source_test_label_accuracy\"], \"Target Test Label Accuracy:\", experiment[\"results\"][\"target_test_label_accuracy\"])\n",
    "print(\"Source Val Label Accuracy:\", experiment[\"results\"][\"source_val_label_accuracy\"], \"Target Val Label Accuracy:\", experiment[\"results\"][\"target_val_label_accuracy\"])"
   ]
  },
  {
   "cell_type": "code",
   "execution_count": 29,
   "id": "dacca602",
   "metadata": {
    "execution": {
     "iopub.execute_input": "2022-03-19T22:47:19.207957Z",
     "iopub.status.busy": "2022-03-19T22:47:19.207711Z",
     "iopub.status.idle": "2022-03-19T22:47:19.227747Z",
     "shell.execute_reply": "2022-03-19T22:47:19.228109Z"
    },
    "papermill": {
     "duration": 0.056225,
     "end_time": "2022-03-19T22:47:19.228220",
     "exception": false,
     "start_time": "2022-03-19T22:47:19.171995",
     "status": "completed"
    },
    "tags": [
     "experiment_json"
    ]
   },
   "outputs": [
    {
     "data": {
      "text/plain": [
       "'{\"experiment_name\": \"tl_2v2:oracle.run1.framed -> cores+wisig\", \"parameters\": {\"experiment_name\": \"tl_2v2:oracle.run1.framed -> cores+wisig\", \"device\": \"cuda\", \"lr\": 0.0001, \"n_shot\": 3, \"n_query\": 2, \"train_k_factor\": 3, \"val_k_factor\": 2, \"test_k_factor\": 2, \"torch_default_dtype\": \"torch.float32\", \"n_epoch\": 50, \"patience\": 3, \"criteria_for_best\": \"target_accuracy\", \"x_net\": [{\"class\": \"nnReshape\", \"kargs\": {\"shape\": [-1, 1, 2, 256]}}, {\"class\": \"Conv2d\", \"kargs\": {\"in_channels\": 1, \"out_channels\": 256, \"kernel_size\": [1, 7], \"bias\": false, \"padding\": [0, 3]}}, {\"class\": \"ReLU\", \"kargs\": {\"inplace\": true}}, {\"class\": \"BatchNorm2d\", \"kargs\": {\"num_features\": 256}}, {\"class\": \"Conv2d\", \"kargs\": {\"in_channels\": 256, \"out_channels\": 80, \"kernel_size\": [2, 7], \"bias\": true, \"padding\": [0, 3]}}, {\"class\": \"ReLU\", \"kargs\": {\"inplace\": true}}, {\"class\": \"BatchNorm2d\", \"kargs\": {\"num_features\": 80}}, {\"class\": \"Flatten\", \"kargs\": {}}, {\"class\": \"Linear\", \"kargs\": {\"in_features\": 20480, \"out_features\": 256}}, {\"class\": \"ReLU\", \"kargs\": {\"inplace\": true}}, {\"class\": \"BatchNorm1d\", \"kargs\": {\"num_features\": 256}}, {\"class\": \"Linear\", \"kargs\": {\"in_features\": 256, \"out_features\": 256}}], \"NUM_LOGS_PER_EPOCH\": 10, \"BEST_MODEL_PATH\": \"./best_model.pth\", \"n_way\": 16, \"datasets\": [{\"labels\": [\"1-10.\", \"1-11.\", \"1-15.\", \"1-16.\", \"1-17.\", \"1-18.\", \"1-19.\", \"10-4.\", \"10-7.\", \"11-1.\", \"11-14.\", \"11-17.\", \"11-20.\", \"11-7.\", \"13-20.\", \"13-8.\", \"14-10.\", \"14-11.\", \"14-14.\", \"14-7.\", \"15-1.\", \"15-20.\", \"16-1.\", \"16-16.\", \"17-10.\", \"17-11.\", \"17-2.\", \"19-1.\", \"19-16.\", \"19-19.\", \"19-20.\", \"19-3.\", \"2-10.\", \"2-11.\", \"2-17.\", \"2-18.\", \"2-20.\", \"2-3.\", \"2-4.\", \"2-5.\", \"2-6.\", \"2-7.\", \"2-8.\", \"3-13.\", \"3-18.\", \"3-3.\", \"4-1.\", \"4-10.\", \"4-11.\", \"4-19.\", \"5-5.\", \"6-15.\", \"7-10.\", \"7-14.\", \"8-18.\", \"8-20.\", \"8-3.\", \"8-8.\"], \"domains\": [1, 2, 3, 4, 5], \"num_examples_per_domain_per_label\": -1, \"pickle_path\": \"/mnt/wd500GB/CSC500/csc500-main/datasets/cores.stratified_ds.2022A.pkl\", \"source_or_target_dataset\": \"target\", \"x_transforms\": [\"unit_mag\"], \"episode_transforms\": [], \"domain_prefix\": \"C_\"}, {\"labels\": [\"1-10\", \"1-12\", \"1-14\", \"1-16\", \"1-18\", \"1-19\", \"1-8\", \"10-11\", \"10-17\", \"10-4\", \"10-7\", \"11-1\", \"11-10\", \"11-19\", \"11-20\", \"11-4\", \"11-7\", \"12-19\", \"12-20\", \"12-7\", \"13-14\", \"13-18\", \"13-19\", \"13-20\", \"13-3\", \"13-7\", \"14-10\", \"14-11\", \"14-12\", \"14-13\", \"14-14\", \"14-19\", \"14-20\", \"14-7\", \"14-8\", \"14-9\", \"15-1\", \"15-19\", \"15-6\", \"16-1\", \"16-16\", \"16-19\", \"16-20\", \"17-10\", \"17-11\", \"18-1\", \"18-10\", \"18-11\", \"18-12\", \"18-13\", \"18-14\", \"18-15\", \"18-16\", \"18-17\", \"18-19\", \"18-2\", \"18-20\", \"18-4\", \"18-5\", \"18-7\", \"18-8\", \"18-9\", \"19-1\", \"19-10\", \"19-11\", \"19-12\", \"19-13\", \"19-14\", \"19-15\", \"19-19\", \"19-2\", \"19-20\", \"19-3\", \"19-4\", \"19-6\", \"19-7\", \"19-8\", \"19-9\", \"2-1\", \"2-13\", \"2-15\", \"2-3\", \"2-4\", \"2-5\", \"2-6\", \"2-7\", \"2-8\", \"20-1\", \"20-12\", \"20-14\", \"20-15\", \"20-16\", \"20-18\", \"20-19\", \"20-20\", \"20-3\", \"20-4\", \"20-5\", \"20-7\", \"20-8\", \"3-1\", \"3-13\", \"3-18\", \"3-2\", \"3-8\", \"4-1\", \"4-10\", \"4-11\", \"5-1\", \"5-5\", \"6-1\", \"6-15\", \"6-6\", \"7-10\", \"7-11\", \"7-12\", \"7-13\", \"7-14\", \"7-7\", \"7-8\", \"7-9\", \"8-1\", \"8-13\", \"8-14\", \"8-18\", \"8-20\", \"8-3\", \"8-8\", \"9-1\", \"9-7\"], \"domains\": [1, 2, 3, 4], \"num_examples_per_domain_per_label\": -1, \"pickle_path\": \"/mnt/wd500GB/CSC500/csc500-main/datasets/wisig.node3-19.stratified_ds.2022A.pkl\", \"source_or_target_dataset\": \"target\", \"x_transforms\": [\"unit_mag\"], \"episode_transforms\": [], \"domain_prefix\": \"W_\"}, {\"labels\": [\"3123D52\", \"3123D65\", \"3123D79\", \"3123D80\", \"3123D54\", \"3123D70\", \"3123D7B\", \"3123D89\", \"3123D58\", \"3123D76\", \"3123D7D\", \"3123EFE\", \"3123D64\", \"3123D78\", \"3123D7E\", \"3124E4A\"], \"domains\": [32, 38, 8, 44, 14, 50, 20, 26], \"num_examples_per_domain_per_label\": 2000, \"pickle_path\": \"/mnt/wd500GB/CSC500/csc500-main/datasets/oracle.Run1_framed_2000Examples_stratified_ds.2022A.pkl\", \"source_or_target_dataset\": \"source\", \"x_transforms\": [\"unit_mag\"], \"episode_transforms\": [], \"domain_prefix\": \"O_\"}], \"seed\": 154325, \"dataset_seed\": 154325, \"x_shape\": [2, 256], \"domains_source\": [\"O_32\", \"O_38\", \"O_8\", \"O_44\", \"O_14\", \"O_50\", \"O_20\", \"O_26\"], \"domains_target\": [\"C_1\", \"C_2\", \"C_3\", \"C_4\", \"C_5\", \"W_1\", \"W_2\", \"W_3\", \"W_4\"]}, \"results\": {\"source_test_label_accuracy\": 0.88642578125, \"source_test_label_loss\": 0.3203188478946686, \"target_test_label_accuracy\": 0.7344002968159741, \"target_test_label_loss\": 4.8250412940979, \"source_val_label_accuracy\": 0.8857421875, \"source_val_label_loss\": 0.3189913332462311, \"target_val_label_accuracy\": 0.7347275729223995, \"target_val_label_loss\": 4.796482563018799, \"total_epochs_trained\": 8, \"total_experiment_time_secs\": 1575.511574268341, \"confusion\": {\"O_8\": {\"13\": {\"4\": 30, \"0\": 34, \"13\": 131, \"10\": 34, \"6\": 7, \"7\": 1, \"14\": 3}, \"9\": {\"9\": 240}, \"15\": {\"15\": 230, \"12\": 10}, \"2\": {\"2\": 236, \"7\": 3, \"3\": 1}, \"3\": {\"3\": 239, \"2\": 1}, \"8\": {\"8\": 239, \"15\": 1}, \"5\": {\"5\": 231, \"10\": 4, \"1\": 5}, \"14\": {\"4\": 16, \"14\": 193, \"10\": 23, \"13\": 5, \"5\": 1, \"1\": 2}, \"1\": {\"1\": 239, \"11\": 1}, \"0\": {\"0\": 218, \"13\": 19, \"10\": 1, \"4\": 1, \"7\": 1}, \"10\": {\"10\": 218, \"14\": 16, \"13\": 3, \"4\": 2, \"5\": 1}, \"6\": {\"6\": 202, \"7\": 28, \"4\": 7, \"13\": 2, \"0\": 1}, \"11\": {\"11\": 231, \"1\": 9}, \"7\": {\"6\": 30, \"7\": 209, \"0\": 1}, \"4\": {\"4\": 203, \"13\": 28, \"14\": 5, \"10\": 1, \"6\": 2, \"0\": 1}, \"12\": {\"12\": 184, \"15\": 45, \"8\": 2, \"3\": 9}}, \"O_38\": {\"13\": {\"13\": 227, \"10\": 5, \"15\": 3, \"2\": 3, \"8\": 2}, \"12\": {\"12\": 240}, \"2\": {\"2\": 233, \"14\": 6, \"13\": 1}, \"9\": {\"9\": 233, \"5\": 2, \"6\": 5}, \"15\": {\"15\": 223, \"1\": 11, \"8\": 3, \"5\": 2, \"13\": 1}, \"5\": {\"5\": 152, \"8\": 39, \"7\": 31, \"6\": 6, \"0\": 2, \"9\": 5, \"15\": 4, \"13\": 1}, \"14\": {\"14\": 237, \"2\": 3}, \"0\": {\"0\": 197, \"7\": 7, \"3\": 7, \"8\": 24, \"10\": 2, \"9\": 1, \"13\": 2}, \"3\": {\"3\": 240}, \"1\": {\"1\": 232, \"15\": 8}, \"11\": {\"11\": 237, \"10\": 2, \"14\": 1}, \"7\": {\"7\": 222, \"0\": 5, \"8\": 7, \"5\": 6}, \"8\": {\"8\": 181, \"5\": 31, \"15\": 4, \"7\": 8, \"0\": 14, \"10\": 1, \"13\": 1}, \"4\": {\"4\": 239, \"12\": 1}, \"10\": {\"10\": 232, \"13\": 6, \"8\": 2}, \"6\": {\"9\": 2, \"6\": 238}}, \"O_26\": {\"10\": {\"0\": 69, \"10\": 126, \"8\": 28, \"14\": 13, \"4\": 4}, \"12\": {\"12\": 240}, \"1\": {\"1\": 225, \"4\": 3, \"14\": 7, \"7\": 2, \"10\": 2, \"3\": 1}, \"0\": {\"0\": 103, \"14\": 40, \"8\": 15, \"10\": 65, \"4\": 17}, \"15\": {\"9\": 27, \"15\": 191, \"8\": 10, \"6\": 3, \"7\": 3, \"10\": 3, \"13\": 3}, \"13\": {\"5\": 34, \"13\": 196, \"9\": 4, \"2\": 4, \"15\": 1, \"3\": 1}, \"8\": {\"8\": 144, \"15\": 4, \"10\": 32, \"0\": 22, \"14\": 6, \"4\": 13, \"7\": 15, \"2\": 3, \"9\": 1}, \"3\": {\"3\": 199, \"2\": 31, \"7\": 10}, \"11\": {\"11\": 240}, \"4\": {\"4\": 179, \"0\": 11, \"7\": 9, \"14\": 25, \"8\": 14, \"10\": 1, \"1\": 1}, \"6\": {\"6\": 230, \"15\": 3, \"8\": 2, \"10\": 4, \"9\": 1}, \"7\": {\"7\": 207, \"8\": 4, \"2\": 14, \"3\": 8, \"4\": 5, \"0\": 2}, \"14\": {\"14\": 150, \"4\": 26, \"1\": 9, \"10\": 14, \"0\": 33, \"8\": 8}, \"2\": {\"5\": 15, \"2\": 133, \"3\": 57, \"15\": 3, \"7\": 23, \"8\": 5, \"13\": 3, \"9\": 1}, \"5\": {\"5\": 213, \"13\": 15, \"2\": 9, \"15\": 1, \"3\": 1, \"9\": 1}, \"9\": {\"9\": 205, \"15\": 27, \"13\": 5, \"5\": 1, \"6\": 2}}, \"O_20\": {\"5\": {\"5\": 219, \"0\": 15, \"1\": 3, \"15\": 3}, \"15\": {\"15\": 223, \"0\": 11, \"1\": 5, \"5\": 1}, \"9\": {\"9\": 197, \"2\": 25, \"12\": 11, \"3\": 7}, \"7\": {\"4\": 2, \"7\": 232, \"2\": 6}, \"3\": {\"3\": 186, \"12\": 31, \"9\": 11, \"1\": 1, \"4\": 3, \"2\": 8}, \"8\": {\"8\": 235, \"4\": 3, \"7\": 2}, \"4\": {\"4\": 240}, \"6\": {\"6\": 236, \"14\": 4}, \"2\": {\"2\": 191, \"12\": 7, \"3\": 6, \"9\": 25, \"7\": 10, \"13\": 1}, \"12\": {\"12\": 160, \"1\": 39, \"3\": 31, \"9\": 5, \"2\": 5}, \"0\": {\"0\": 197, \"5\": 29, \"15\": 13, \"7\": 1}, \"13\": {\"13\": 239, \"2\": 1}, \"10\": {\"10\": 240}, \"11\": {\"11\": 240}, \"14\": {\"14\": 235, \"6\": 5}, \"1\": {\"1\": 195, \"12\": 36, \"15\": 4, \"5\": 4, \"2\": 1}}, \"O_50\": {\"1\": {\"1\": 215, \"15\": 14, \"4\": 6, \"13\": 1, \"5\": 1, \"6\": 2, \"11\": 1}, \"2\": {\"2\": 229, \"0\": 11}, \"8\": {\"8\": 238, \"3\": 2}, \"7\": {\"7\": 207, \"6\": 3, \"13\": 15, \"5\": 15}, \"14\": {\"14\": 240}, \"6\": {\"6\": 234, \"5\": 2, \"7\": 1, \"13\": 1, \"15\": 1, \"1\": 1}, \"3\": {\"3\": 239, \"8\": 1}, \"4\": {\"4\": 173, \"6\": 3, \"5\": 36, \"15\": 16, \"1\": 9, \"11\": 1, \"7\": 2}, \"12\": {\"12\": 238, \"9\": 1, \"11\": 1}, \"15\": {\"15\": 212, \"1\": 11, \"4\": 14, \"6\": 3}, \"11\": {\"11\": 229, \"15\": 7, \"14\": 1, \"12\": 2, \"9\": 1}, \"0\": {\"0\": 227, \"10\": 4, \"2\": 9}, \"9\": {\"9\": 236, \"11\": 2, \"12\": 2}, \"10\": {\"10\": 235, \"0\": 2, \"8\": 1, \"13\": 2}, \"5\": {\"13\": 19, \"5\": 176, \"1\": 7, \"4\": 23, \"6\": 2, \"7\": 12, \"15\": 1}, \"13\": {\"7\": 9, \"13\": 210, \"6\": 4, \"5\": 17}}, \"O_32\": {\"2\": {\"2\": 203, \"4\": 36, \"7\": 1}, \"6\": {\"6\": 240}, \"5\": {\"5\": 159, \"7\": 44, \"13\": 12, \"3\": 10, \"8\": 6, \"4\": 7, \"0\": 2}, \"12\": {\"12\": 240}, \"13\": {\"13\": 212, \"8\": 5, \"3\": 9, \"4\": 12, \"7\": 1, \"5\": 1}, \"9\": {\"9\": 240}, \"11\": {\"11\": 234, \"14\": 5, \"13\": 1}, \"1\": {\"1\": 240}, \"3\": {\"3\": 238, \"8\": 1, \"13\": 1}, \"7\": {\"7\": 172, \"13\": 3, \"4\": 11, \"5\": 44, \"14\": 6, \"8\": 1, \"2\": 2, \"11\": 1}, \"14\": {\"14\": 182, \"0\": 17, \"11\": 29, \"7\": 9, \"8\": 2, \"5\": 1}, \"8\": {\"8\": 211, \"0\": 18, \"13\": 3, \"14\": 2, \"5\": 5, \"7\": 1}, \"4\": {\"4\": 204, \"2\": 22, \"7\": 8, \"5\": 5, \"13\": 1}, \"0\": {\"0\": 219, \"7\": 1, \"14\": 9, \"8\": 10, \"13\": 1}, \"10\": {\"10\": 237, \"1\": 3}, \"15\": {\"15\": 240}}, \"O_44\": {\"13\": {\"13\": 191, \"6\": 29, \"9\": 19, \"11\": 1}, \"4\": {\"4\": 184, \"14\": 55, \"15\": 1}, \"6\": {\"6\": 194, \"13\": 28, \"9\": 15, \"7\": 3}, \"0\": {\"0\": 169, \"8\": 57, \"5\": 8, \"15\": 6}, \"10\": {\"10\": 221, \"1\": 11, \"12\": 2, \"2\": 6}, \"7\": {\"7\": 173, \"2\": 29, \"9\": 35, \"6\": 3}, \"14\": {\"14\": 171, \"4\": 56, \"15\": 12, \"5\": 1}, \"15\": {\"14\": 9, \"15\": 216, \"0\": 7, \"5\": 4, \"8\": 4}, \"5\": {\"5\": 215, \"8\": 4, \"15\": 8, \"14\": 5, \"0\": 8}, \"2\": {\"2\": 211, \"1\": 4, \"7\": 17, \"10\": 8}, \"9\": {\"9\": 164, \"13\": 15, \"7\": 47, \"6\": 14}, \"12\": {\"12\": 221, \"1\": 16, \"3\": 2, \"10\": 1}, \"8\": {\"8\": 154, \"15\": 8, \"0\": 76, \"5\": 2}, \"3\": {\"3\": 235, \"1\": 5}, \"1\": {\"1\": 195, \"3\": 11, \"12\": 20, \"10\": 10, \"2\": 4}, \"11\": {\"11\": 239, \"13\": 1}}, \"O_14\": {\"1\": {\"1\": 233, \"5\": 7}, \"15\": {\"15\": 240}, \"10\": {\"10\": 240}, \"2\": {\"3\": 7, \"2\": 167, \"14\": 46, \"5\": 14, \"6\": 4, \"13\": 2}, \"9\": {\"9\": 240}, \"5\": {\"5\": 209, \"2\": 4, \"4\": 15, \"3\": 1, \"1\": 11}, \"7\": {\"7\": 240}, \"13\": {\"13\": 176, \"4\": 3, \"6\": 51, \"14\": 6, \"2\": 3, \"5\": 1}, \"8\": {\"8\": 240}, \"6\": {\"13\": 31, \"6\": 207, \"2\": 1, \"14\": 1}, \"3\": {\"3\": 235, \"2\": 2, \"14\": 2, \"4\": 1}, \"12\": {\"12\": 240}, \"0\": {\"0\": 238, \"3\": 1, \"11\": 1}, \"4\": {\"4\": 232, \"5\": 6, \"3\": 1, \"1\": 1}, \"14\": {\"14\": 225, \"2\": 14, \"6\": 1}, \"11\": {\"11\": 234, \"9\": 4, \"0\": 2}}, \"W_2\": {\"56\": {\"56\": 5, \"122\": 1, \"86\": 1, \"17\": 1, \"8\": 1, \"110\": 1, \"95\": 1, \"28\": 1}, \"12\": {\"12\": 38, \"56\": 1, \"122\": 1, \"114\": 2, \"86\": 1, \"68\": 4, \"0\": 5, \"104\": 1, \"8\": 4, \"121\": 1, \"42\": 2, \"127\": 5, \"111\": 3, \"98\": 2, \"7\": 5, \"30\": 2, \"54\": 1, \"11\": 1, \"108\": 3, \"39\": 1, \"107\": 2, \"4\": 1, \"26\": 1, \"70\": 1}, \"15\": {\"15\": 64, \"113\": 1, \"127\": 4, \"0\": 2, \"36\": 11, \"51\": 1, \"111\": 4, \"106\": 5, \"101\": 3, \"94\": 4, \"27\": 1, \"30\": 2, \"125\": 9, \"98\": 1, \"16\": 1, \"93\": 1, \"24\": 1, \"117\": 1}, \"26\": {\"26\": 116, \"102\": 3, \"117\": 2, \"69\": 1, \"109\": 2, \"18\": 5, \"39\": 2, \"99\": 1}, \"82\": {\"82\": 35, \"16\": 1}, \"9\": {\"9\": 30, \"15\": 1, \"27\": 1}, \"49\": {\"12\": 2, \"122\": 1, \"115\": 1, \"49\": 4, \"3\": 3, \"42\": 1, \"11\": 1, \"15\": 1, \"110\": 1, \"73\": 1, \"112\": 1, \"98\": 3, \"29\": 1, \"71\": 1, \"111\": 1, \"95\": 1}, \"55\": {\"47\": 2, \"55\": 11, \"50\": 1, \"14\": 2}, \"102\": {\"82\": 1, \"102\": 110, \"93\": 1, \"69\": 3, \"16\": 3, \"84\": 3, \"88\": 1, \"87\": 1, \"90\": 1}, \"85\": {\"85\": 19, \"73\": 2, \"40\": 2, \"122\": 1, \"5\": 2, \"32\": 1, \"55\": 2, \"28\": 1, \"3\": 2}, \"73\": {\"73\": 23, \"28\": 1, \"61\": 1, \"32\": 1, \"3\": 1, \"112\": 1}, \"47\": {\"82\": 1, \"47\": 7, \"15\": 1, \"96\": 1, \"19\": 1, \"94\": 1}, \"20\": {\"20\": 16}, \"117\": {\"117\": 107, \"99\": 1, \"18\": 3, \"39\": 2, \"121\": 1, \"21\": 2}, \"122\": {\"122\": 31, \"47\": 1, \"21\": 1, \"128\": 2, \"26\": 1, \"107\": 2, \"71\": 5, \"43\": 3, \"86\": 1, \"3\": 5, \"67\": 1, \"76\": 1, \"4\": 5, \"129\": 1, \"117\": 1, \"0\": 1, \"19\": 1, \"95\": 3, \"5\": 11, \"70\": 3, \"7\": 4, \"1\": 3, \"30\": 1, \"124\": 6, \"114\": 2, \"10\": 3, \"40\": 7, \"24\": 1, \"111\": 1, \"105\": 8, \"33\": 1, \"8\": 5, \"16\": 1, \"53\": 1, \"54\": 1, \"108\": 3, \"29\": 1, \"104\": 1, \"73\": 1, \"90\": 1, \"62\": 3, \"39\": 1, \"69\": 1, \"102\": 1, \"44\": 2}, \"113\": {\"117\": 2, \"113\": 53, \"99\": 1, \"2\": 1, \"39\": 3, \"18\": 8, \"90\": 1, \"81\": 1, \"120\": 1, \"60\": 1}, \"87\": {\"21\": 3, \"126\": 4, \"87\": 29, \"120\": 1, \"33\": 12, \"83\": 2, \"39\": 2, \"82\": 1, \"84\": 8, \"118\": 4, \"90\": 6, \"70\": 5, \"14\": 1, \"69\": 4, \"93\": 2, \"1\": 2, \"62\": 1, \"113\": 1, \"88\": 3, \"16\": 4, \"116\": 1, \"63\": 2, \"102\": 5, \"47\": 1, \"100\": 1, \"71\": 1, \"109\": 3, \"43\": 2, \"26\": 1}, \"21\": {\"21\": 36, \"109\": 2, \"88\": 3, \"113\": 2, \"78\": 1, \"117\": 2, \"120\": 1, \"16\": 1}, \"106\": {\"106\": 92, \"25\": 2, \"15\": 11, \"125\": 2, \"99\": 1, \"6\": 1, \"40\": 1, \"16\": 1, \"24\": 2, \"94\": 3, \"111\": 1, \"36\": 1, \"117\": 1, \"90\": 1}, \"3\": {\"3\": 98, \"122\": 7, \"129\": 1, \"71\": 2, \"11\": 1, \"88\": 1, \"107\": 3, \"7\": 4, \"40\": 3, \"5\": 5, \"114\": 2, \"39\": 1, \"10\": 1, \"123\": 1, \"95\": 1, \"42\": 1, \"4\": 2, \"33\": 1, \"26\": 1}, \"126\": {\"126\": 42, \"23\": 2, \"119\": 1, \"100\": 1, \"44\": 2, \"116\": 1, \"1\": 9, \"36\": 1, \"31\": 1, \"90\": 5, \"80\": 1, \"87\": 7, \"83\": 1, \"84\": 3, \"118\": 2, \"88\": 10, \"14\": 1, \"33\": 5, \"62\": 1, \"40\": 3, \"16\": 4, \"67\": 1, \"115\": 1, \"105\": 2, \"47\": 1, \"43\": 4, \"39\": 2, \"70\": 3, \"93\": 1, \"109\": 1, \"102\": 1}, \"41\": {\"49\": 2, \"41\": 8, \"7\": 2, \"90\": 1, \"95\": 2, \"108\": 1, \"12\": 1, \"77\": 2, \"98\": 1}, \"76\": {\"76\": 11, \"70\": 2, \"37\": 2, \"43\": 1}, \"60\": {\"60\": 18, \"126\": 1, \"84\": 2, \"123\": 1, \"118\": 1, \"82\": 1, \"22\": 1, \"33\": 1, \"47\": 1, \"102\": 1}, \"94\": {\"97\": 1, \"41\": 1, \"94\": 21, \"88\": 1, \"18\": 1, \"98\": 4, \"27\": 4, \"6\": 2, \"25\": 2, \"65\": 1, \"127\": 2, \"23\": 1, \"12\": 2, \"15\": 9, \"111\": 3, \"30\": 1, \"24\": 1, \"54\": 1, \"13\": 1, \"0\": 1, \"126\": 1, \"36\": 2, \"106\": 1}, \"50\": {\"50\": 14, \"55\": 2}, \"97\": {\"41\": 1, \"97\": 13, \"77\": 1, \"15\": 1, \"12\": 1, \"127\": 1, \"52\": 2}, \"115\": {\"115\": 9, \"107\": 1, \"71\": 1, \"29\": 1}, \"38\": {\"38\": 13, \"123\": 1, \"126\": 2}, \"43\": {\"23\": 2, \"67\": 1, \"102\": 1, \"70\": 9, \"20\": 1, \"55\": 1, \"44\": 4, \"43\": 34, \"40\": 15, \"116\": 1, \"78\": 4, \"5\": 1, \"118\": 2, \"60\": 1, \"14\": 1, \"110\": 1, \"24\": 1, \"1\": 9, \"62\": 7, \"11\": 2, \"113\": 2, \"105\": 6, \"126\": 2, \"16\": 1, \"88\": 2, \"129\": 2, \"32\": 1, \"84\": 1, \"93\": 2, \"3\": 4, \"33\": 2, \"109\": 1}, \"67\": {\"67\": 11, \"19\": 2, \"50\": 2, \"80\": 1}, \"18\": {\"18\": 91, \"65\": 2, \"117\": 16, \"39\": 2, \"2\": 2, \"88\": 3, \"113\": 2, \"26\": 6, \"81\": 1, \"23\": 1, \"93\": 2}, \"23\": {\"108\": 1, \"63\": 1, \"126\": 2, \"93\": 1, \"23\": 6, \"121\": 2, \"127\": 2, \"122\": 2, \"117\": 2, \"16\": 1, \"12\": 2, \"81\": 1, \"5\": 1, \"34\": 1, \"7\": 2, \"29\": 2, \"87\": 1, \"41\": 2, \"57\": 1, \"35\": 1, \"8\": 1, \"71\": 1, \"91\": 1, \"18\": 1, \"32\": 1, \"98\": 2, \"39\": 1, \"113\": 1, \"11\": 1}, \"63\": {\"63\": 20}, \"127\": {\"127\": 103, \"0\": 3, \"16\": 1, \"30\": 4, \"11\": 1, \"108\": 2, \"111\": 2, \"39\": 1, \"8\": 2, \"113\": 1, \"12\": 1, \"98\": 1, \"26\": 1, \"36\": 1}, \"72\": {\"72\": 19, \"121\": 1, \"69\": 1, \"102\": 2, \"22\": 2, \"16\": 1, \"15\": 1, \"89\": 1}, \"128\": {\"127\": 1, \"3\": 3, \"35\": 1, \"103\": 1, \"98\": 2, \"47\": 2, \"52\": 1, \"50\": 1, \"59\": 1, \"43\": 1, \"79\": 2, \"6\": 1, \"128\": 2, \"30\": 1, \"51\": 1, \"62\": 1, \"49\": 1, \"109\": 1}, \"7\": {\"7\": 97, \"88\": 2, \"110\": 3, \"12\": 1, \"127\": 1, \"10\": 1, \"71\": 2, \"4\": 6, \"5\": 1, \"3\": 4, \"11\": 4, \"19\": 1, \"26\": 1, \"98\": 1, \"122\": 2, \"18\": 1}, \"108\": {\"15\": 1, \"108\": 35, \"8\": 9, \"3\": 4, \"98\": 13, \"54\": 1, \"42\": 1, \"71\": 5, \"29\": 2, \"124\": 6, \"11\": 4, \"4\": 3, \"7\": 9, \"12\": 5, \"114\": 8, \"40\": 1, \"127\": 4, \"125\": 1, \"126\": 1, \"111\": 8, \"5\": 1, \"107\": 2, \"118\": 1, \"103\": 1, \"122\": 3, \"0\": 1, \"105\": 1, \"30\": 1, \"33\": 1, \"36\": 1}, \"16\": {\"16\": 53, \"126\": 3, \"90\": 1, \"102\": 14, \"23\": 2, \"93\": 4, \"118\": 1, \"88\": 3, \"69\": 17, \"39\": 3, \"117\": 2, \"87\": 2, \"18\": 1, \"31\": 2, \"120\": 1, \"21\": 2, \"70\": 2, \"84\": 1}, \"29\": {\"29\": 19, \"128\": 1, \"11\": 1, \"91\": 2, \"12\": 2, \"7\": 1, \"95\": 1, \"4\": 1, \"59\": 2, \"122\": 1, \"8\": 1}, \"61\": {\"61\": 14, \"42\": 1, \"22\": 2, \"10\": 1, \"105\": 1, \"126\": 1}, \"104\": {\"71\": 2, \"104\": 11, \"86\": 3, \"19\": 1, \"40\": 1, \"105\": 1, \"95\": 1}, \"120\": {\"120\": 20}, \"124\": {\"124\": 104, \"71\": 1, \"23\": 1, \"113\": 1, \"95\": 1, \"4\": 2, \"114\": 6, \"67\": 1, \"32\": 1, \"86\": 1, \"107\": 1, \"11\": 1, \"0\": 1, \"108\": 2}, \"34\": {\"103\": 4, \"8\": 1, \"34\": 6, \"53\": 1, \"54\": 1, \"98\": 1, \"110\": 1, \"7\": 3, \"122\": 3, \"101\": 1, \"41\": 1, \"66\": 1, \"22\": 1, \"52\": 2, \"105\": 1, \"111\": 1, \"23\": 1, \"12\": 1, \"24\": 1}, \"84\": {\"84\": 57, \"9\": 1, \"87\": 2, \"33\": 15, \"43\": 1, \"118\": 2, \"70\": 4, \"1\": 3, \"30\": 1, \"126\": 1, \"71\": 1, \"62\": 3, \"101\": 1}, \"103\": {\"103\": 15, \"97\": 1}, \"100\": {\"100\": 14, \"116\": 1, \"33\": 1}, \"40\": {\"71\": 2, \"61\": 1, \"129\": 3, \"40\": 99, \"105\": 8, \"118\": 1, \"19\": 2, \"107\": 1, \"90\": 1, \"21\": 1, \"3\": 4, \"113\": 1, \"43\": 2, \"122\": 1, \"109\": 1, \"95\": 1, \"32\": 2, \"16\": 1, \"117\": 2, \"39\": 2, \"70\": 2, \"84\": 1, \"5\": 1}, \"35\": {\"128\": 1, \"35\": 10, \"52\": 1}, \"96\": {\"96\": 11, \"99\": 1, \"78\": 1, \"39\": 1, \"16\": 4, \"82\": 1, \"87\": 1}, \"101\": {\"101\": 108, \"79\": 1, \"111\": 3, \"6\": 1, \"0\": 1, \"125\": 1, \"94\": 2, \"30\": 1, \"93\": 1, \"108\": 1}, \"71\": {\"71\": 69, \"115\": 2, \"7\": 3, \"122\": 5, \"23\": 1, \"5\": 3, \"87\": 1, \"117\": 1, \"124\": 1, \"8\": 2, \"107\": 1, \"104\": 2, \"86\": 1, \"75\": 1, \"3\": 1, \"11\": 2, \"18\": 1, \"109\": 1, \"114\": 1, \"105\": 1}, \"81\": {\"81\": 17, \"90\": 1, \"121\": 2, \"70\": 1, \"18\": 1, \"9\": 1, \"2\": 1}, \"74\": {\"107\": 2, \"27\": 1, \"74\": 5, \"68\": 1, \"3\": 2, \"115\": 2, \"6\": 1, \"122\": 1, \"4\": 1}, \"119\": {\"119\": 17, \"109\": 1, \"92\": 1, \"31\": 1}, \"5\": {\"5\": 86, \"122\": 4, \"26\": 1, \"129\": 1, \"7\": 1, \"71\": 3, \"40\": 4, \"3\": 2, \"18\": 2, \"115\": 1, \"126\": 1, \"114\": 1, \"11\": 1, \"4\": 2, \"98\": 1, \"105\": 1}, \"68\": {\"68\": 9, \"35\": 1, \"114\": 2, \"12\": 2, \"127\": 2}, \"37\": {\"109\": 1, \"37\": 10, \"14\": 1, \"100\": 1, \"85\": 2, \"32\": 1}, \"58\": {\"58\": 17, \"111\": 2, \"101\": 1}, \"109\": {\"109\": 44, \"13\": 2, \"78\": 3, \"16\": 2, \"23\": 2, \"89\": 1, \"90\": 6, \"118\": 5, \"83\": 1, \"39\": 7, \"21\": 4, \"69\": 2, \"18\": 1, \"88\": 5, \"87\": 1, \"84\": 1, \"70\": 1, \"93\": 8, \"72\": 1, \"2\": 1, \"43\": 1, \"26\": 1}, \"107\": {\"107\": 32, \"125\": 3, \"5\": 5, \"71\": 5, \"3\": 5, \"122\": 1, \"110\": 5, \"1\": 1, \"0\": 1, \"40\": 2, \"106\": 1, \"11\": 1, \"115\": 2}, \"13\": {\"119\": 2, \"72\": 1, \"13\": 8, \"57\": 1, \"9\": 1, \"82\": 2, \"87\": 1}, \"52\": {\"94\": 1, \"52\": 16, \"124\": 1, \"97\": 2}, \"77\": {\"35\": 2, \"30\": 1, \"77\": 7, \"59\": 1, \"22\": 1, \"52\": 1, \"91\": 1, \"97\": 1, \"0\": 1}, \"95\": {\"95\": 28, \"104\": 2, \"107\": 1, \"71\": 1, \"110\": 2, \"4\": 1, \"55\": 1}, \"44\": {\"44\": 76, \"46\": 1, \"126\": 5, \"90\": 1, \"84\": 1, \"105\": 3, \"40\": 1, \"39\": 1, \"70\": 7, \"61\": 1, \"23\": 1, \"93\": 2}, \"88\": {\"120\": 1, \"126\": 4, \"78\": 3, \"88\": 45, \"118\": 1, \"84\": 4, \"70\": 5, \"71\": 2, \"83\": 1, \"109\": 8, \"2\": 1, \"62\": 4, \"90\": 6, \"33\": 3, \"102\": 3, \"69\": 6, \"1\": 2, \"21\": 1, \"93\": 9, \"87\": 1, \"113\": 2, \"39\": 2, \"16\": 4, \"20\": 2, \"99\": 2}, \"91\": {\"91\": 13, \"127\": 2, \"54\": 1, \"68\": 1, \"108\": 1, \"29\": 2, \"15\": 1, \"111\": 1, \"74\": 1, \"52\": 2, \"51\": 1, \"128\": 1, \"126\": 1}, \"93\": {\"93\": 78, \"20\": 1, \"90\": 5, \"88\": 8, \"69\": 13, \"118\": 2, \"102\": 10, \"117\": 2, \"87\": 8, \"109\": 2, \"16\": 3, \"39\": 3, \"44\": 1, \"33\": 2}, \"8\": {\"108\": 4, \"8\": 66, \"104\": 2, \"12\": 2, \"43\": 1, \"11\": 2, \"7\": 3, \"124\": 9, \"1\": 1, \"98\": 1, \"18\": 1, \"114\": 3, \"71\": 2, \"113\": 1, \"4\": 6, \"127\": 6, \"122\": 2, \"3\": 1, \"5\": 1, \"56\": 1, \"49\": 1, \"68\": 1, \"29\": 1, \"34\": 1, \"86\": 1, \"111\": 1, \"109\": 1, \"107\": 1, \"105\": 1}, \"1\": {\"45\": 1, \"1\": 86, \"38\": 1, \"87\": 2, \"84\": 4, \"82\": 1, \"24\": 1, \"70\": 2, \"33\": 3, \"40\": 4, \"62\": 2, \"43\": 5, \"108\": 1, \"117\": 1}, \"45\": {\"45\": 12, \"31\": 1, \"14\": 2, \"39\": 1}, \"111\": {\"111\": 105, \"0\": 2, \"62\": 1, \"127\": 13, \"24\": 1, \"42\": 2, \"21\": 1, \"125\": 1}, \"116\": {\"1\": 1, \"93\": 1, \"116\": 14, \"90\": 1, \"89\": 1, \"83\": 1, \"70\": 1, \"92\": 1, \"126\": 1, \"88\": 1, \"84\": 2, \"69\": 1, \"76\": 1, \"48\": 1}, \"48\": {\"13\": 1, \"48\": 16, \"102\": 2, \"89\": 1}, \"57\": {\"57\": 18, \"78\": 1, \"20\": 1}, \"10\": {\"44\": 1, \"10\": 24, \"14\": 1, \"30\": 1, \"66\": 2, \"22\": 1, \"126\": 3, \"110\": 3, \"34\": 1, \"33\": 1, \"123\": 2, \"99\": 1, \"90\": 1, \"43\": 2, \"7\": 3, \"3\": 2, \"68\": 1, \"38\": 1, \"62\": 1, \"118\": 1, \"53\": 1, \"11\": 1, \"105\": 1, \"29\": 1, \"4\": 1, \"26\": 1, \"122\": 1}, \"129\": {\"3\": 1, \"129\": 16, \"40\": 2, \"53\": 1, \"32\": 1, \"122\": 4, \"19\": 1, \"42\": 1, \"56\": 1, \"5\": 1, \"41\": 1, \"73\": 1, \"86\": 1}, \"98\": {\"108\": 7, \"98\": 53, \"34\": 2, \"127\": 5, \"94\": 2, \"12\": 6, \"111\": 9, \"88\": 1, \"7\": 1, \"0\": 3, \"8\": 5, \"24\": 4, \"114\": 5, \"4\": 3, \"18\": 2, \"30\": 2, \"49\": 1, \"86\": 1, \"41\": 1, \"71\": 1, \"11\": 3, \"124\": 1}, \"65\": {\"65\": 17, \"121\": 1, \"18\": 2}, \"6\": {\"6\": 20, \"97\": 1, \"101\": 2, \"125\": 2, \"15\": 2, \"30\": 1, \"58\": 2, \"94\": 1, \"25\": 1}, \"75\": {\"75\": 11, \"97\": 1, \"25\": 1, \"117\": 1, \"36\": 2}, \"14\": {\"14\": 39, \"96\": 1, \"84\": 1, \"62\": 1, \"1\": 1, \"44\": 1, \"22\": 1, \"55\": 2, \"99\": 1}, \"30\": {\"30\": 38, \"51\": 2, \"75\": 1, \"106\": 4, \"15\": 4, \"0\": 10, \"111\": 3, \"98\": 3, \"101\": 13, \"127\": 10, \"18\": 1, \"117\": 2, \"11\": 1, \"24\": 1, \"125\": 2, \"16\": 1, \"7\": 2, \"71\": 1, \"40\": 1, \"39\": 2, \"68\": 1, \"49\": 2, \"29\": 1, \"128\": 1, \"12\": 1, \"5\": 1, \"108\": 1, \"8\": 2}, \"83\": {\"83\": 27, \"90\": 2, \"126\": 1, \"88\": 1, \"87\": 5, \"109\": 2, \"16\": 2}, \"69\": {\"69\": 107, \"39\": 3, \"109\": 1, \"90\": 2, \"16\": 5, \"18\": 1, \"93\": 6, \"72\": 2, \"117\": 1}, \"125\": {\"125\": 114, \"24\": 3, \"106\": 5, \"36\": 10, \"6\": 2, \"15\": 8, \"9\": 2, \"25\": 1, \"16\": 1}, \"31\": {\"31\": 6, \"116\": 2, \"100\": 1, \"33\": 1, \"102\": 3, \"93\": 1, \"16\": 1, \"82\": 1, \"87\": 1, \"62\": 1, \"72\": 1, \"89\": 1}, \"118\": {\"31\": 1, \"87\": 9, \"118\": 21, \"39\": 1, \"48\": 1, \"62\": 1, \"84\": 4, \"1\": 1, \"109\": 3, \"126\": 2, \"33\": 4, \"89\": 1, \"82\": 2, \"16\": 3, \"88\": 2, \"72\": 1, \"119\": 1, \"92\": 1, \"102\": 3, \"105\": 2, \"76\": 1, \"93\": 1, \"78\": 1, \"43\": 1}, \"53\": {\"56\": 1, \"53\": 7, \"122\": 2, \"128\": 1, \"7\": 1, \"112\": 1, \"71\": 1, \"41\": 1, \"110\": 1}, \"54\": {\"54\": 18, \"127\": 1, \"104\": 1}, \"92\": {\"92\": 26, \"55\": 1, \"89\": 1}, \"19\": {\"122\": 2, \"19\": 16, \"22\": 1, \"78\": 1, \"67\": 1, \"14\": 1, \"84\": 1, \"5\": 1, \"107\": 2, \"70\": 1, \"40\": 1}, \"27\": {\"27\": 21, \"72\": 1, \"15\": 6, \"75\": 1, \"25\": 1, \"94\": 1, \"49\": 1, \"24\": 2, \"111\": 4, \"106\": 8, \"6\": 2, \"124\": 4, \"1\": 1, \"0\": 1, \"12\": 1, \"36\": 4, \"125\": 2, \"120\": 2, \"23\": 1, \"108\": 1, \"30\": 1, \"43\": 1, \"127\": 1}, \"17\": {\"17\": 6, \"21\": 1, \"26\": 1, \"106\": 1, \"71\": 2, \"95\": 2, \"8\": 1, \"54\": 1, \"4\": 1}, \"4\": {\"4\": 65, \"32\": 1, \"71\": 6, \"7\": 5, \"69\": 1, \"49\": 1, \"110\": 1, \"8\": 2, \"11\": 3, \"122\": 1, \"101\": 1, \"107\": 1}, \"36\": {\"27\": 5, \"36\": 64, \"51\": 2, \"101\": 3, \"106\": 10, \"94\": 4, \"15\": 13, \"125\": 13, \"6\": 1, \"88\": 2, \"30\": 1, \"39\": 2, \"58\": 2, \"111\": 3, \"18\": 1, \"24\": 1, \"90\": 1}, \"90\": {\"126\": 5, \"90\": 96, \"93\": 5, \"31\": 1, \"83\": 1, \"33\": 1, \"118\": 2, \"70\": 6, \"88\": 5, \"2\": 1, \"69\": 3, \"44\": 1, \"87\": 1, \"62\": 1, \"109\": 2, \"16\": 3, \"113\": 1, \"26\": 1}, \"64\": {\"64\": 13, \"76\": 2, \"117\": 1}, \"66\": {\"66\": 18, \"40\": 1, \"78\": 1}, \"46\": {\"46\": 11, \"126\": 2, \"16\": 1, \"14\": 1, \"102\": 1}, \"86\": {\"86\": 23, \"72\": 1, \"95\": 1, \"122\": 5, \"110\": 1, \"4\": 1}, \"114\": {\"114\": 65, \"86\": 2, \"12\": 1, \"71\": 9, \"5\": 1, \"117\": 1, \"108\": 6, \"11\": 1, \"122\": 4, \"124\": 4, \"127\": 3, \"98\": 2, \"8\": 6, \"24\": 1, \"4\": 3, \"87\": 1}, \"32\": {\"32\": 21, \"129\": 2, \"92\": 1, \"40\": 5, \"75\": 1, \"0\": 1, \"122\": 2, \"19\": 1, \"85\": 1, \"27\": 1}, \"78\": {\"78\": 7, \"46\": 1, \"76\": 1, \"99\": 2, \"14\": 1, \"73\": 1, \"40\": 5, \"63\": 1, \"85\": 1, \"44\": 2, \"109\": 5, \"87\": 1, \"95\": 1, \"122\": 2, \"88\": 3, \"110\": 1, \"42\": 1, \"129\": 1, \"24\": 1, \"32\": 1, \"124\": 1, \"1\": 2, \"21\": 2, \"118\": 1, \"117\": 1, \"70\": 1, \"16\": 1}, \"33\": {\"100\": 1, \"33\": 117, \"84\": 7, \"102\": 2, \"1\": 3, \"69\": 1, \"23\": 1, \"87\": 2, \"14\": 1, \"126\": 1, \"62\": 2}, \"70\": {\"43\": 5, \"55\": 1, \"109\": 4, \"70\": 29, \"19\": 2, \"90\": 8, \"73\": 1, \"78\": 1, \"120\": 1, \"40\": 16, \"87\": 4, \"105\": 9, \"24\": 1, \"14\": 1, \"88\": 8, \"18\": 1, \"1\": 5, \"3\": 3, \"39\": 4, \"16\": 1, \"69\": 1, \"93\": 2, \"17\": 1, \"20\": 1, \"10\": 1, \"99\": 1, \"32\": 1, \"21\": 1, \"89\": 1, \"84\": 1, \"107\": 1, \"117\": 2, \"126\": 4, \"62\": 1}, \"0\": {\"127\": 11, \"0\": 62, \"29\": 1, \"68\": 1, \"7\": 1, \"12\": 2, \"30\": 10, \"124\": 2, \"108\": 4, \"101\": 6, \"117\": 2, \"15\": 1, \"8\": 1, \"113\": 1, \"17\": 2, \"52\": 2, \"77\": 1, \"49\": 1, \"4\": 1, \"88\": 1, \"105\": 1, \"39\": 1, \"111\": 1}, \"110\": {\"110\": 20, \"43\": 1, \"71\": 5, \"7\": 4, \"117\": 1, \"40\": 1, \"42\": 1, \"51\": 1, \"3\": 1, \"10\": 1, \"86\": 1, \"11\": 1, \"5\": 1, \"30\": 1}, \"2\": {\"2\": 24, \"99\": 3, \"113\": 1, \"26\": 1, \"39\": 1, \"36\": 1, \"81\": 1}, \"28\": {\"28\": 14, \"88\": 1, \"32\": 1, \"95\": 1, \"66\": 2, \"78\": 1}, \"51\": {\"36\": 2, \"97\": 1, \"51\": 13, \"9\": 2, \"58\": 1, \"52\": 1}, \"79\": {\"79\": 16}, \"42\": {\"70\": 2, \"97\": 1, \"61\": 1, \"54\": 1, \"43\": 1, \"77\": 1, \"42\": 1, \"29\": 1, \"1\": 2, \"0\": 2, \"12\": 1, \"4\": 1, \"30\": 1, \"46\": 1, \"64\": 1, \"110\": 1, \"115\": 1, \"107\": 1, \"124\": 1, \"40\": 2, \"71\": 1, \"33\": 1, \"108\": 1, \"32\": 1}, \"112\": {\"112\": 13, \"114\": 1, \"127\": 1, \"67\": 1}, \"89\": {\"89\": 28, \"92\": 1, \"116\": 2, \"31\": 1, \"93\": 1, \"72\": 1, \"48\": 2}, \"59\": {\"98\": 2, \"59\": 6, \"54\": 4, \"30\": 2, \"28\": 1, \"91\": 1}, \"105\": {\"105\": 101, \"40\": 6, \"126\": 1, \"129\": 1, \"3\": 2, \"114\": 2, \"43\": 3, \"26\": 1, \"70\": 2, \"39\": 1, \"66\": 1, \"115\": 1, \"108\": 2, \"14\": 1, \"78\": 1, \"62\": 1, \"107\": 1}, \"121\": {\"121\": 25, \"26\": 3, \"65\": 3, \"23\": 2, \"39\": 1, \"117\": 1, \"113\": 1}, \"11\": {\"11\": 25, \"29\": 1, \"110\": 3, \"3\": 2, \"48\": 1, \"123\": 1, \"105\": 2, \"4\": 5, \"5\": 1, \"12\": 4, \"98\": 5, \"108\": 4, \"8\": 2, \"10\": 2, \"7\": 4, \"0\": 3, \"42\": 1, \"115\": 1, \"95\": 1, \"49\": 1, \"16\": 1, \"128\": 1, \"20\": 1, \"23\": 1, \"124\": 1, \"122\": 1, \"111\": 1, \"19\": 1, \"71\": 1, \"40\": 1, \"18\": 1}, \"99\": {\"99\": 31, \"121\": 1}, \"25\": {\"25\": 14, \"94\": 1, \"24\": 1}, \"62\": {\"62\": 101, \"20\": 1, \"80\": 1, \"70\": 2, \"43\": 5, \"44\": 2, \"33\": 4, \"126\": 1, \"113\": 1, \"38\": 1, \"109\": 1, \"102\": 1, \"78\": 2, \"12\": 1, \"39\": 1, \"26\": 1, \"90\": 2}, \"123\": {\"123\": 14, \"68\": 1, \"10\": 1}, \"24\": {\"24\": 21, \"43\": 2, \"27\": 2, \"32\": 2, \"106\": 16, \"71\": 1, \"94\": 1, \"51\": 1, \"99\": 1, \"125\": 15, \"83\": 1, \"78\": 2, \"4\": 3, \"108\": 3, \"114\": 2, \"90\": 1, \"36\": 3, \"40\": 2, \"8\": 1, \"111\": 5, \"122\": 4, \"30\": 2, \"26\": 1, \"127\": 1, \"9\": 1, \"54\": 1, \"95\": 2, \"66\": 1, \"124\": 1, \"98\": 2, \"11\": 1, \"77\": 2, \"34\": 1, \"42\": 1, \"126\": 2, \"15\": 2, \"5\": 1, \"109\": 1}, \"80\": {\"80\": 14, \"62\": 1, \"82\": 1}, \"39\": {\"39\": 48, \"26\": 10, \"102\": 3, \"109\": 6, \"88\": 6, \"69\": 5, \"2\": 2, \"18\": 10, \"117\": 1, \"16\": 2, \"93\": 2, \"90\": 1, \"121\": 1, \"48\": 1, \"99\": 1, \"21\": 1}, \"22\": {\"22\": 13, \"66\": 1, \"10\": 1, \"60\": 1, \"61\": 2, \"74\": 1, \"2\": 1}}, \"C_2\": {\"21\": {\"21\": 112, \"3\": 4, \"46\": 2, \"25\": 2}, \"4\": {\"4\": 114, \"40\": 7, \"9\": 6, \"45\": 1, \"27\": 1, \"8\": 1}, \"6\": {\"6\": 73, \"53\": 7, \"21\": 2, \"40\": 3, \"50\": 8, \"25\": 6, \"17\": 9, \"3\": 4, \"19\": 2, \"9\": 2, \"27\": 1, \"29\": 1, \"1\": 1, \"46\": 1, \"48\": 4}, \"10\": {\"10\": 109, \"24\": 2, \"13\": 1}, \"33\": {\"33\": 28}, \"56\": {\"56\": 107, \"13\": 1, \"24\": 7, \"22\": 6, \"10\": 1}, \"20\": {\"20\": 128, \"51\": 4}, \"24\": {\"56\": 2, \"24\": 88, \"10\": 6}, \"45\": {\"45\": 86, \"20\": 12, \"26\": 1, \"32\": 2, \"12\": 12, \"51\": 2, \"35\": 1, \"21\": 1, \"4\": 6, \"8\": 4, \"27\": 1}, \"32\": {\"32\": 27, \"27\": 1}, \"27\": {\"27\": 139, \"8\": 9}, \"53\": {\"53\": 119, \"17\": 3, \"8\": 4, \"27\": 1, \"50\": 9}, \"8\": {\"8\": 144, \"53\": 3, \"32\": 3, \"27\": 7, \"36\": 3}, \"54\": {\"54\": 106, \"36\": 1, \"8\": 1}, \"50\": {\"27\": 4, \"53\": 13, \"8\": 8, \"50\": 68, \"17\": 8, \"6\": 8, \"3\": 4, \"21\": 4, \"9\": 3, \"40\": 5, \"25\": 8, \"4\": 1}, \"44\": {\"44\": 84, \"19\": 9, \"21\": 3, \"29\": 1, \"25\": 1, \"33\": 1, \"46\": 1}, \"5\": {\"5\": 78, \"15\": 8, \"37\": 3, \"47\": 16, \"11\": 9, \"13\": 1, \"19\": 1, \"1\": 2, \"28\": 1, \"57\": 1}, \"38\": {\"38\": 20}, \"19\": {\"19\": 122, \"3\": 1, \"44\": 3, \"35\": 1, \"4\": 1, \"29\": 3, \"40\": 1}, \"1\": {\"1\": 102, \"30\": 1, \"15\": 2, \"29\": 3, \"47\": 2, \"7\": 1, \"46\": 1}, \"30\": {\"30\": 135, \"52\": 1, \"18\": 6, \"29\": 2}, \"15\": {\"15\": 137, \"11\": 3, \"16\": 2, \"5\": 2}, \"23\": {\"23\": 146}, \"35\": {\"35\": 32}, \"22\": {\"22\": 125, \"10\": 2, \"13\": 1}, \"40\": {\"40\": 117, \"35\": 1, \"9\": 11, \"44\": 1, \"25\": 5, \"3\": 3, \"55\": 1, \"4\": 1}, \"46\": {\"46\": 91, \"2\": 2, \"47\": 3, \"30\": 5, \"57\": 1, \"7\": 3, \"3\": 1, \"1\": 2, \"55\": 3, \"29\": 8, \"41\": 1, \"34\": 1, \"48\": 1, \"19\": 2, \"25\": 1, \"50\": 1}, \"3\": {\"48\": 4, \"3\": 46, \"55\": 1, \"41\": 1, \"25\": 9, \"33\": 3, \"21\": 7, \"27\": 1, \"46\": 1, \"29\": 2, \"9\": 4, \"30\": 1, \"50\": 3, \"44\": 3, \"6\": 4, \"47\": 1, \"40\": 1}, \"48\": {\"48\": 114, \"49\": 1, \"30\": 9, \"53\": 1, \"6\": 2, \"17\": 4, \"50\": 6, \"25\": 1, \"9\": 6, \"41\": 2, \"3\": 1, \"29\": 1}, \"52\": {\"52\": 99, \"57\": 16, \"29\": 1, \"30\": 3, \"16\": 1, \"23\": 3, \"15\": 1}, \"2\": {\"2\": 30, \"7\": 1, \"46\": 1}, \"26\": {\"26\": 24}, \"17\": {\"17\": 88, \"27\": 8, \"50\": 5, \"6\": 1, \"53\": 1, \"44\": 1}, \"55\": {\"55\": 123, \"42\": 4, \"46\": 5, \"1\": 3, \"47\": 4, \"7\": 1, \"37\": 1, \"11\": 1, \"44\": 1, \"5\": 1}, \"51\": {\"51\": 122}, \"42\": {\"42\": 34, \"2\": 1, \"46\": 1}, \"41\": {\"41\": 16, \"48\": 4}, \"31\": {\"31\": 28}, \"16\": {\"16\": 134, \"15\": 3, \"0\": 1}, \"36\": {\"36\": 115, \"27\": 1}, \"49\": {\"49\": 21, \"6\": 1, \"33\": 2}, \"0\": {\"0\": 48}, \"18\": {\"18\": 47, \"30\": 1}, \"25\": {\"25\": 98, \"40\": 2, \"50\": 14, \"21\": 9, \"3\": 7, \"48\": 2, \"6\": 3, \"9\": 2, \"44\": 3, \"41\": 2, \"17\": 2, \"19\": 2}, \"9\": {\"9\": 111, \"21\": 1, \"50\": 1, \"53\": 1, \"17\": 1, \"6\": 4, \"40\": 1, \"4\": 1, \"51\": 1}, \"47\": {\"47\": 105, \"15\": 11, \"5\": 12, \"57\": 2, \"11\": 2}, \"7\": {\"7\": 26, \"42\": 6, \"5\": 1, \"1\": 2, \"47\": 1}, \"37\": {\"37\": 36}, \"13\": {\"13\": 114, \"22\": 2}, \"14\": {\"13\": 2, \"31\": 1, \"14\": 11, \"37\": 1, \"47\": 2, \"10\": 3, \"56\": 1, \"43\": 1, \"5\": 2}, \"34\": {\"34\": 27, \"33\": 1}, \"57\": {\"57\": 138, \"52\": 1, \"1\": 1}, \"11\": {\"11\": 131, \"5\": 4, \"15\": 2, \"47\": 1}, \"39\": {\"15\": 2, \"39\": 25, \"57\": 1}, \"12\": {\"12\": 79, \"36\": 1, \"45\": 4, \"20\": 4, \"8\": 3, \"27\": 1}, \"28\": {\"28\": 27, \"11\": 1}, \"29\": {\"29\": 122, \"33\": 1, \"46\": 2, \"2\": 1, \"21\": 1, \"19\": 1}, \"43\": {\"43\": 137, \"11\": 2, \"24\": 1}}, \"W_4\": {\"32\": {\"32\": 13, \"22\": 1, \"33\": 3, \"14\": 2, \"122\": 1, \"108\": 2, \"72\": 1, \"31\": 2, \"78\": 1, \"11\": 1, \"114\": 1}, \"22\": {\"22\": 13, \"20\": 2, \"54\": 1}, \"69\": {\"69\": 96, \"122\": 2, \"36\": 1, \"13\": 1, \"84\": 3, \"102\": 3, \"39\": 1, \"118\": 5, \"109\": 2, \"94\": 1, \"44\": 2, \"126\": 1, \"16\": 1, \"18\": 1}, \"65\": {\"63\": 1, \"65\": 11}, \"91\": {\"111\": 1, \"53\": 1, \"85\": 2, \"30\": 1, \"91\": 15, \"68\": 1, \"23\": 1, \"17\": 1, \"37\": 1}, \"63\": {\"63\": 15, \"117\": 1}, \"127\": {\"63\": 1, \"127\": 79, \"101\": 11, \"36\": 2, \"12\": 4, \"0\": 3, \"34\": 2, \"16\": 1, \"106\": 1, \"15\": 1, \"124\": 1, \"8\": 1, \"18\": 1}, \"11\": {\"11\": 56, \"87\": 7, \"3\": 5, \"28\": 2, \"64\": 1, \"88\": 3, \"76\": 1, \"33\": 5, \"5\": 8, \"113\": 1, \"62\": 1, \"81\": 1, \"118\": 3, \"108\": 3, \"110\": 4, \"43\": 7, \"24\": 2, \"107\": 4, \"40\": 4, \"90\": 1, \"111\": 1, \"72\": 1, \"45\": 1, \"1\": 2, \"116\": 2, \"44\": 1, \"99\": 3, \"122\": 2, \"93\": 2, \"71\": 1, \"70\": 1, \"14\": 1, \"69\": 1}, \"12\": {\"12\": 55, \"111\": 8, \"29\": 1, \"90\": 2, \"34\": 1, \"15\": 4, \"36\": 2, \"127\": 5, \"106\": 7, \"101\": 1, \"18\": 2, \"108\": 2, \"30\": 1, \"47\": 1, \"27\": 1, \"9\": 1, \"8\": 4, \"10\": 1, \"26\": 1}, \"111\": {\"111\": 80, \"95\": 2, \"12\": 7, \"106\": 6, \"10\": 3, \"0\": 2, \"30\": 2, \"127\": 5, \"27\": 6, \"8\": 5, \"98\": 1, \"70\": 2, \"26\": 1, \"68\": 2, \"29\": 2, \"77\": 1, \"126\": 1}, \"53\": {\"53\": 7, \"111\": 1, \"85\": 1, \"55\": 1, \"4\": 1, \"122\": 1, \"30\": 1, \"52\": 1, \"10\": 2}, \"73\": {\"73\": 17, \"51\": 1, \"40\": 3, \"10\": 1, \"5\": 2}, \"3\": {\"3\": 69, \"15\": 1, \"42\": 1, \"7\": 1, \"19\": 2, \"99\": 2, \"1\": 9, \"49\": 3, \"113\": 1, \"105\": 6, \"88\": 2, \"14\": 1, \"78\": 1, \"70\": 3, \"11\": 2, \"114\": 4, \"10\": 1, \"107\": 4, \"33\": 1, \"43\": 1, \"5\": 1, \"87\": 4, \"100\": 1, \"124\": 1, \"128\": 2, \"60\": 1, \"98\": 2, \"40\": 4, \"27\": 1, \"39\": 1, \"71\": 2, \"111\": 1}, \"83\": {\"11\": 3, \"87\": 1, \"37\": 1, \"40\": 1, \"83\": 6, \"90\": 1, \"3\": 2, \"124\": 2, \"33\": 1, \"70\": 1, \"19\": 1, \"79\": 1, \"50\": 3, \"23\": 1, \"105\": 1, \"88\": 2}, \"88\": {\"88\": 18, \"100\": 1, \"43\": 2, \"16\": 1, \"67\": 1, \"128\": 1, \"70\": 12, \"110\": 3, \"61\": 1, \"109\": 12, \"106\": 2, \"78\": 1, \"99\": 1, \"7\": 4, \"3\": 3, \"81\": 1, \"1\": 6, \"36\": 2, \"39\": 3, \"122\": 3, \"98\": 3, \"10\": 5, \"124\": 5, \"71\": 2, \"0\": 2, \"90\": 3, \"114\": 5, \"87\": 3, \"117\": 2, \"105\": 3, \"126\": 1, \"35\": 1, \"46\": 1, \"37\": 1, \"95\": 1, \"49\": 2, \"118\": 2, \"4\": 1, \"127\": 2, \"5\": 1, \"84\": 1, \"113\": 3, \"93\": 1, \"107\": 1}, \"87\": {\"83\": 1, \"87\": 38, \"78\": 1, \"76\": 1, \"104\": 3, \"1\": 11, \"88\": 6, \"19\": 1, \"107\": 12, \"72\": 1, \"108\": 5, \"3\": 5, \"105\": 6, \"40\": 3, \"43\": 4, \"110\": 7, \"114\": 5, \"14\": 2, \"70\": 5, \"7\": 4, \"41\": 1, \"62\": 1, \"90\": 1, \"42\": 2, \"60\": 2, \"116\": 1, \"122\": 2, \"69\": 1}, \"2\": {\"16\": 4, \"2\": 22, \"117\": 1, \"109\": 1}, \"86\": {\"86\": 24, \"0\": 2, \"70\": 1, \"52\": 1}, \"16\": {\"16\": 86, \"21\": 1, \"121\": 1, \"2\": 5, \"109\": 5, \"26\": 2, \"117\": 4, \"113\": 8, \"84\": 3, \"69\": 2, \"81\": 1, \"63\": 1, \"44\": 2, \"39\": 1}, \"21\": {\"21\": 21, \"10\": 1, \"123\": 2, \"126\": 7, \"60\": 1, \"18\": 2, \"121\": 1, \"26\": 1, \"63\": 1, \"35\": 1, \"44\": 1, \"90\": 1}, \"96\": {\"96\": 11, \"78\": 1, \"110\": 1, \"90\": 4, \"88\": 1, \"38\": 2}, \"100\": {\"100\": 14, \"7\": 1, \"4\": 2, \"114\": 2, \"1\": 1}, \"7\": {\"7\": 62, \"3\": 2, \"128\": 1, \"29\": 1, \"46\": 2, \"82\": 1, \"110\": 1, \"108\": 1, \"40\": 4, \"43\": 2, \"87\": 4, \"14\": 2, \"114\": 5, \"70\": 7, \"98\": 1, \"105\": 5, \"1\": 6, \"27\": 1, \"23\": 1, \"88\": 1, \"49\": 1, \"99\": 1, \"107\": 3, \"4\": 2, \"0\": 1, \"111\": 1, \"113\": 1}, \"75\": {\"75\": 13, \"54\": 1, \"15\": 1, \"94\": 1}, \"10\": {\"7\": 3, \"75\": 1, \"24\": 7, \"71\": 4, \"40\": 1, \"22\": 1, \"59\": 4, \"34\": 3, \"25\": 1, \"27\": 4, \"99\": 1, \"12\": 5, \"94\": 4, \"18\": 1, \"110\": 2, \"62\": 1, \"10\": 17, \"15\": 10, \"39\": 1, \"118\": 1, \"3\": 2, \"87\": 4, \"106\": 4, \"43\": 1, \"107\": 3, \"36\": 8, \"114\": 3, \"125\": 7, \"111\": 2, \"129\": 2, \"97\": 2, \"103\": 1, \"120\": 1, \"128\": 1, \"126\": 1, \"6\": 1, \"30\": 1, \"5\": 1, \"117\": 1, \"11\": 1, \"8\": 2, \"70\": 3}, \"43\": {\"3\": 4, \"88\": 5, \"44\": 2, \"43\": 32, \"110\": 4, \"126\": 3, \"96\": 1, \"99\": 2, \"63\": 1, \"69\": 1, \"62\": 2, \"107\": 4, \"108\": 2, \"16\": 3, \"60\": 2, \"40\": 8, \"87\": 4, \"5\": 6, \"109\": 6, \"93\": 7, \"33\": 2, \"66\": 1, \"14\": 1, \"73\": 1, \"129\": 1, \"46\": 1, \"26\": 1, \"90\": 6, \"11\": 1, \"1\": 1, \"118\": 1, \"105\": 1, \"122\": 1, \"102\": 1, \"0\": 1}, \"92\": {\"92\": 23, \"66\": 1, \"48\": 1, \"84\": 1, \"102\": 1, \"118\": 1}, \"62\": {\"62\": 26, \"43\": 3, \"72\": 2, \"108\": 5, \"122\": 3, \"113\": 2, \"110\": 3, \"118\": 4, \"93\": 2, \"126\": 1, \"14\": 5, \"60\": 2, \"69\": 1, \"88\": 1}, \"31\": {\"45\": 1, \"118\": 1, \"31\": 9, \"20\": 2, \"129\": 1, \"108\": 2}, \"0\": {\"0\": 51, \"86\": 1, \"82\": 1, \"91\": 1, \"105\": 1, \"89\": 1, \"29\": 1, \"12\": 5, \"70\": 1, \"49\": 1, \"127\": 13, \"4\": 3, \"101\": 4, \"27\": 3, \"111\": 1, \"98\": 4, \"114\": 3, \"7\": 4, \"8\": 3, \"87\": 1, \"52\": 1, \"124\": 1, \"10\": 5, \"96\": 1, \"122\": 1, \"71\": 1, \"3\": 1}, \"45\": {\"45\": 16}, \"85\": {\"85\": 19, \"53\": 1, \"88\": 1, \"54\": 1, \"34\": 2, \"24\": 1, \"95\": 1, \"71\": 2}, \"119\": {\"1\": 1, \"119\": 14, \"14\": 1}, \"46\": {\"46\": 19, \"104\": 1}, \"71\": {\"71\": 70, \"129\": 5, \"114\": 10, \"124\": 7, \"4\": 2, \"110\": 1, \"1\": 2, \"27\": 1, \"100\": 2, \"18\": 1, \"87\": 1, \"3\": 1, \"126\": 1}, \"8\": {\"8\": 60, \"12\": 6, \"37\": 1, \"9\": 1, \"10\": 3, \"103\": 1, \"34\": 3, \"15\": 6, \"4\": 1, \"127\": 9, \"0\": 3, \"98\": 3, \"24\": 4, \"30\": 4, \"111\": 7, \"16\": 1, \"27\": 5, \"101\": 5, \"113\": 1, \"126\": 1, \"41\": 1, \"85\": 1, \"29\": 2, \"106\": 4, \"26\": 1}, \"118\": {\"118\": 46, \"102\": 7, \"96\": 2, \"99\": 2, \"122\": 4, \"5\": 1, \"62\": 2, \"109\": 6, \"14\": 3, \"90\": 6, \"69\": 15, \"110\": 2, \"84\": 1, \"88\": 1, \"33\": 2, \"39\": 1, \"93\": 1, \"48\": 1, \"116\": 1, \"32\": 1, \"18\": 2, \"106\": 1, \"108\": 3, \"16\": 1}, \"1\": {\"1\": 74, \"114\": 2, \"104\": 2, \"12\": 2, \"88\": 1, \"33\": 1, \"94\": 1, \"105\": 4, \"70\": 1, \"126\": 2, \"107\": 1, \"3\": 8, \"26\": 1, \"21\": 1, \"71\": 1, \"7\": 2, \"113\": 1, \"40\": 1, \"24\": 1, \"87\": 1}, \"38\": {\"38\": 11, \"66\": 1, \"80\": 2, \"90\": 1, \"26\": 1}, \"30\": {\"9\": 2, \"86\": 1, \"30\": 35, \"59\": 1, \"101\": 4, \"71\": 1, \"111\": 2, \"36\": 1, \"125\": 3, \"15\": 4, \"8\": 3, \"106\": 1, \"0\": 1, \"12\": 3, \"127\": 1, \"14\": 1, \"6\": 1, \"91\": 1, \"51\": 1, \"21\": 1, \"52\": 1, \"126\": 1, \"34\": 1, \"108\": 1, \"94\": 3, \"10\": 1}, \"66\": {\"66\": 7, \"70\": 2, \"43\": 1, \"69\": 1, \"116\": 3, \"20\": 1, \"90\": 1}, \"9\": {\"9\": 20, \"34\": 1, \"94\": 1, \"15\": 2, \"12\": 2, \"106\": 2}, \"5\": {\"5\": 94, \"19\": 1, \"33\": 12, \"1\": 2, \"108\": 2, \"87\": 1, \"3\": 3, \"107\": 5, \"118\": 1, \"49\": 1, \"83\": 2, \"113\": 1, \"60\": 1, \"14\": 2, \"99\": 1, \"43\": 3, \"110\": 1, \"88\": 1, \"40\": 2}, \"24\": {\"24\": 27, \"59\": 2, \"91\": 1, \"68\": 1, \"36\": 13, \"32\": 1, \"94\": 10, \"105\": 2, \"8\": 4, \"18\": 2, \"88\": 2, \"12\": 2, \"40\": 1, \"124\": 2, \"125\": 8, \"27\": 3, \"114\": 5, \"3\": 1, \"71\": 2, \"10\": 5, \"106\": 3, \"4\": 2, \"70\": 2, \"39\": 1, \"107\": 1, \"101\": 2, \"127\": 2, \"87\": 2, \"34\": 1, \"30\": 2, \"98\": 2, \"11\": 1, \"111\": 2, \"0\": 1, \"15\": 2}, \"97\": {\"88\": 2, \"24\": 1, \"125\": 2, \"58\": 1, \"70\": 1, \"97\": 5, \"94\": 1, \"25\": 4, \"128\": 1, \"111\": 1, \"77\": 1}, \"67\": {\"26\": 2, \"67\": 3, \"33\": 1, \"123\": 4, \"48\": 1, \"18\": 2, \"99\": 1, \"81\": 1, \"113\": 1}, \"19\": {\"71\": 2, \"13\": 1, \"56\": 1, \"19\": 4, \"37\": 1, \"0\": 2, \"85\": 2, \"70\": 2, \"105\": 1, \"95\": 1, \"110\": 2, \"31\": 1, \"5\": 1, \"86\": 1, \"20\": 2, \"53\": 1, \"122\": 1, \"108\": 1, \"24\": 1}, \"77\": {\"10\": 1, \"77\": 10, \"12\": 1}, \"26\": {\"26\": 89, \"121\": 2, \"117\": 6, \"18\": 13, \"81\": 1, \"113\": 5, \"39\": 1, \"126\": 1}, \"115\": {\"24\": 1, \"19\": 1, \"115\": 7, \"87\": 1, \"76\": 1, \"64\": 1, \"107\": 2, \"73\": 2}, \"50\": {\"50\": 11, \"28\": 1, \"1\": 1, \"14\": 2, \"107\": 1}, \"120\": {\"120\": 18, \"34\": 2}, \"102\": {\"102\": 104, \"74\": 1, \"99\": 2, \"69\": 9, \"84\": 7, \"33\": 1, \"39\": 1, \"92\": 1, \"122\": 1, \"93\": 1}, \"29\": {\"29\": 26, \"12\": 1, \"101\": 2, \"30\": 1, \"4\": 2}, \"44\": {\"44\": 33, \"102\": 6, \"5\": 1, \"113\": 2, \"78\": 1, \"118\": 2, \"122\": 3, \"26\": 1, \"90\": 1, \"66\": 1, \"33\": 2, \"99\": 3, \"40\": 1, \"110\": 1, \"69\": 2, \"84\": 3, \"93\": 1}, \"124\": {\"124\": 90, \"114\": 7, \"97\": 2, \"96\": 1, \"128\": 2, \"71\": 6, \"0\": 3, \"4\": 2, \"98\": 3, \"27\": 1, \"8\": 1}, \"78\": {\"124\": 1, \"44\": 1, \"26\": 3, \"78\": 6, \"2\": 1, \"126\": 1, \"63\": 1, \"0\": 1, \"93\": 1, \"79\": 3, \"99\": 1, \"21\": 1, \"121\": 1, \"84\": 1, \"89\": 1, \"117\": 1, \"96\": 1, \"35\": 1, \"104\": 1, \"129\": 1, \"73\": 1, \"76\": 1, \"32\": 1, \"95\": 1, \"107\": 1, \"90\": 1, \"115\": 1}, \"104\": {\"104\": 14, \"107\": 1, \"87\": 1}, \"105\": {\"107\": 7, \"104\": 1, \"105\": 56, \"46\": 2, \"49\": 1, \"3\": 5, \"40\": 3, \"121\": 1, \"84\": 1, \"71\": 1, \"1\": 5, \"114\": 3, \"128\": 1, \"120\": 1, \"78\": 1, \"7\": 2, \"108\": 1, \"87\": 3, \"15\": 1, \"88\": 1, \"39\": 1, \"18\": 1, \"10\": 1}, \"28\": {\"104\": 1, \"28\": 15, \"40\": 2, \"120\": 1, \"45\": 1}, \"37\": {\"37\": 12, \"4\": 2, \"56\": 2}, \"107\": {\"107\": 89, \"40\": 16, \"3\": 2, \"105\": 2, \"43\": 1, \"60\": 2, \"122\": 1, \"5\": 1, \"109\": 2, \"114\": 2, \"87\": 3, \"11\": 3, \"46\": 1, \"41\": 1, \"70\": 1, \"14\": 1, \"7\": 1, \"1\": 1, \"88\": 1, \"113\": 1}, \"6\": {\"6\": 16, \"75\": 1, \"15\": 1, \"25\": 1, \"10\": 1, \"36\": 2, \"30\": 2}, \"17\": {\"37\": 2, \"17\": 13, \"114\": 1, \"104\": 1, \"46\": 1, \"129\": 1, \"82\": 1}, \"57\": {\"57\": 15, \"32\": 1}, \"121\": {\"57\": 2, \"121\": 13, \"13\": 3, \"102\": 2, \"18\": 1, \"84\": 2, \"21\": 1, \"16\": 3, \"39\": 1, \"92\": 2, \"126\": 2}, \"58\": {\"58\": 11, \"6\": 2, \"34\": 1, \"15\": 2}, \"64\": {\"64\": 13, \"115\": 2, \"11\": 1}, \"82\": {\"82\": 28, \"19\": 1, \"89\": 1, \"71\": 2}, \"39\": {\"18\": 14, \"39\": 59, \"109\": 4, \"117\": 5, \"2\": 1, \"113\": 7, \"126\": 3, \"26\": 4, \"118\": 1, \"63\": 2}, \"110\": {\"32\": 1, \"110\": 45, \"87\": 3, \"43\": 5, \"129\": 2, \"90\": 4, \"26\": 1, \"66\": 2, \"96\": 1, \"93\": 6, \"33\": 8, \"108\": 6, \"88\": 3, \"62\": 2, \"118\": 5, \"14\": 6, \"16\": 1, \"114\": 1, \"107\": 2, \"39\": 1, \"40\": 4, \"109\": 2, \"21\": 1, \"9\": 1, \"18\": 2, \"1\": 2, \"99\": 1, \"69\": 1, \"122\": 1, \"3\": 1, \"102\": 3}, \"114\": {\"114\": 89, \"70\": 4, \"129\": 1, \"71\": 11, \"36\": 1, \"1\": 4, \"7\": 4, \"110\": 1, \"88\": 2, \"40\": 1, \"46\": 2, \"105\": 1, \"39\": 1, \"4\": 2, \"100\": 1, \"3\": 2, \"124\": 1}, \"20\": {\"20\": 12, \"102\": 1, \"31\": 2, \"74\": 1}, \"117\": {\"18\": 6, \"39\": 3, \"117\": 90, \"113\": 8, \"16\": 3, \"65\": 2, \"26\": 1, \"2\": 1}, \"18\": {\"18\": 92, \"26\": 12, \"117\": 6, \"126\": 4, \"39\": 3, \"81\": 1, \"21\": 1, \"113\": 1}, \"99\": {\"32\": 2, \"110\": 3, \"99\": 25, \"90\": 1, \"57\": 1, \"108\": 2, \"88\": 2, \"118\": 2, \"116\": 2}, \"23\": {\"117\": 1, \"0\": 1, \"103\": 1, \"61\": 1, \"27\": 1, \"122\": 1, \"39\": 2, \"78\": 1, \"129\": 1, \"91\": 1, \"23\": 1, \"63\": 1, \"21\": 1, \"18\": 2}, \"128\": {\"128\": 7, \"88\": 2, \"105\": 2, \"49\": 1, \"114\": 2, \"43\": 1, \"14\": 1, \"4\": 1, \"118\": 1, \"100\": 2, \"124\": 1, \"99\": 1, \"70\": 2}, \"60\": {\"128\": 1, \"70\": 1, \"60\": 7, \"99\": 1, \"71\": 1, \"42\": 2, \"96\": 1, \"2\": 1, \"79\": 2, \"88\": 1, \"110\": 1, \"89\": 1, \"40\": 1, \"22\": 1, \"104\": 1, \"43\": 1, \"28\": 1, \"124\": 1, \"90\": 1, \"129\": 1, \"121\": 1, \"106\": 1, \"49\": 1, \"111\": 1}, \"70\": {\"8\": 4, \"70\": 22, \"125\": 2, \"88\": 7, \"26\": 1, \"3\": 1, \"86\": 1, \"4\": 10, \"78\": 1, \"14\": 3, \"105\": 3, \"122\": 1, \"40\": 1, \"109\": 2, \"71\": 4, \"62\": 1, \"110\": 6, \"27\": 2, \"127\": 1, \"98\": 7, \"43\": 1, \"124\": 3, \"118\": 3, \"114\": 2, \"69\": 1, \"87\": 5, \"113\": 2, \"66\": 1, \"112\": 2, \"49\": 1, \"108\": 1, \"85\": 2, \"42\": 1, \"10\": 2, \"1\": 2, \"93\": 2, \"60\": 1, \"12\": 2, \"111\": 1, \"126\": 1, \"84\": 1, \"11\": 1, \"101\": 1, \"0\": 1}, \"122\": {\"122\": 23, \"70\": 1, \"5\": 2, \"102\": 7, \"43\": 2, \"108\": 4, \"99\": 1, \"109\": 2, \"33\": 5, \"118\": 4, \"93\": 3, \"110\": 3, \"1\": 1, \"72\": 2, \"126\": 1, \"84\": 2, \"69\": 7, \"18\": 1, \"14\": 5, \"105\": 1, \"44\": 2, \"121\": 1, \"32\": 1, \"62\": 3}, \"101\": {\"101\": 70, \"88\": 1, \"125\": 1, \"70\": 1, \"91\": 1, \"53\": 1, \"63\": 1, \"41\": 1, \"85\": 1, \"34\": 1, \"52\": 1, \"4\": 8, \"36\": 2, \"0\": 10, \"127\": 7, \"8\": 10, \"27\": 2, \"30\": 1, \"113\": 1, \"86\": 2, \"56\": 2, \"10\": 1, \"39\": 1, \"12\": 4, \"98\": 1}, \"33\": {\"44\": 1, \"66\": 1, \"84\": 1, \"33\": 112, \"43\": 2, \"14\": 2, \"110\": 5, \"5\": 1, \"107\": 3, \"40\": 1, \"108\": 1, \"102\": 1, \"90\": 1}, \"40\": {\"40\": 86, \"73\": 1, \"43\": 4, \"72\": 1, \"39\": 1, \"33\": 3, \"110\": 1, \"1\": 3, \"88\": 1, \"107\": 16, \"18\": 2, \"87\": 6, \"117\": 3, \"105\": 2}, \"41\": {\"24\": 1, \"4\": 1, \"56\": 1, \"36\": 1, \"41\": 6, \"70\": 1, \"19\": 1, \"98\": 1, \"95\": 1, \"35\": 1, \"42\": 1}, \"59\": {\"59\": 5, \"10\": 3, \"77\": 1, \"9\": 2, \"25\": 1}, \"4\": {\"4\": 77, \"27\": 5, \"39\": 4, \"95\": 1, \"121\": 1, \"114\": 2, \"124\": 1, \"71\": 2, \"62\": 1, \"98\": 1, \"8\": 1, \"0\": 3, \"86\": 2, \"129\": 1, \"26\": 1, \"109\": 1}, \"112\": {\"1\": 1, \"24\": 1, \"112\": 10, \"4\": 1, \"73\": 1, \"114\": 1, \"123\": 1}, \"36\": {\"59\": 2, \"106\": 8, \"36\": 55, \"94\": 7, \"34\": 2, \"15\": 7, \"27\": 4, \"111\": 2, \"18\": 1, \"125\": 14, \"24\": 6, \"10\": 2, \"12\": 1, \"26\": 1, \"98\": 1, \"8\": 5, \"58\": 1, \"51\": 1, \"91\": 1, \"30\": 1, \"71\": 2, \"4\": 2, \"101\": 1, \"124\": 1}, \"48\": {\"48\": 11, \"19\": 2, \"31\": 2, \"108\": 1}, \"126\": {\"126\": 83, \"81\": 2, \"39\": 3, \"26\": 5, \"113\": 11, \"18\": 7, \"16\": 1, \"117\": 2, \"109\": 2}, \"125\": {\"10\": 6, \"125\": 78, \"6\": 1, \"75\": 1, \"94\": 8, \"24\": 5, \"36\": 8, \"15\": 9, \"16\": 1, \"8\": 2, \"25\": 1, \"18\": 1, \"88\": 1}, \"84\": {\"84\": 89, \"92\": 1, \"121\": 1, \"44\": 2, \"113\": 5, \"39\": 1, \"16\": 2, \"118\": 3, \"69\": 8, \"102\": 7, \"126\": 1, \"33\": 2, \"18\": 1, \"93\": 1, \"88\": 1, \"90\": 1, \"26\": 2}, \"80\": {\"84\": 1, \"102\": 1, \"80\": 14}, \"49\": {\"102\": 1, \"29\": 1, \"95\": 1, \"105\": 1, \"119\": 2, \"19\": 1, \"34\": 2, \"33\": 1, \"43\": 2, \"111\": 1, \"44\": 2, \"72\": 2, \"5\": 5, \"74\": 1, \"127\": 1, \"20\": 1, \"8\": 1, \"73\": 1, \"49\": 1, \"86\": 1, \"60\": 1, \"40\": 1, \"12\": 1}, \"47\": {\"47\": 9, \"15\": 1, \"6\": 2}, \"95\": {\"95\": 28, \"27\": 1, \"127\": 1, \"52\": 1, \"98\": 1}, \"54\": {\"54\": 16}, \"25\": {\"25\": 12, \"125\": 1, \"36\": 1, \"97\": 2}, \"116\": {\"84\": 1, \"116\": 11, \"69\": 1, \"93\": 1, \"92\": 1, \"66\": 1, \"90\": 2, \"108\": 1, \"72\": 2, \"44\": 2, \"5\": 2, \"79\": 1, \"87\": 1, \"32\": 1}, \"74\": {\"74\": 14, \"70\": 1, \"72\": 1}, \"35\": {\"35\": 10, \"109\": 1, \"123\": 1}, \"15\": {\"15\": 60, \"59\": 2, \"94\": 6, \"12\": 7, \"58\": 3, \"36\": 2, \"10\": 6, \"106\": 4, \"8\": 5, \"30\": 8, \"101\": 2, \"126\": 1, \"125\": 7, \"0\": 2, \"118\": 1, \"34\": 1, \"91\": 1, \"75\": 2, \"9\": 2, \"39\": 1, \"24\": 2, \"127\": 1, \"111\": 2}, \"108\": {\"5\": 5, \"66\": 1, \"19\": 2, \"108\": 15, \"88\": 4, \"39\": 1, \"3\": 2, \"109\": 2, \"72\": 2, \"81\": 1, \"44\": 1, \"93\": 3, \"60\": 2, \"14\": 5, \"110\": 6, \"94\": 1, \"40\": 3, \"90\": 3, \"107\": 6, \"87\": 1, \"118\": 3, \"36\": 1, \"18\": 1, \"113\": 1, \"11\": 4, \"33\": 2, \"70\": 2, \"59\": 1, \"79\": 1, \"63\": 1, \"126\": 1, \"50\": 1, \"67\": 1, \"43\": 3, \"102\": 2, \"16\": 1}, \"34\": {\"3\": 3, \"85\": 1, \"6\": 2, \"7\": 1, \"49\": 3, \"36\": 2, \"70\": 1, \"79\": 1, \"34\": 3, \"98\": 1, \"89\": 1, \"15\": 1, \"4\": 1, \"10\": 1, \"71\": 2, \"103\": 2, \"124\": 2, \"42\": 1, \"94\": 1, \"24\": 2}, \"81\": {\"81\": 29, \"113\": 1, \"39\": 1, \"26\": 1, \"18\": 2, \"117\": 1, \"44\": 1}, \"93\": {\"99\": 1, \"93\": 59, \"110\": 6, \"122\": 3, \"108\": 3, \"33\": 9, \"5\": 6, \"44\": 1, \"118\": 5, \"105\": 1, \"102\": 6, \"109\": 3, \"90\": 4, \"107\": 2, \"69\": 3, \"14\": 3, \"66\": 1, \"72\": 1, \"74\": 1, \"3\": 1, \"117\": 1, \"40\": 1, \"62\": 2, \"16\": 1, \"84\": 1, \"43\": 1, \"113\": 1, \"88\": 1}, \"55\": {\"55\": 16}, \"27\": {\"47\": 1, \"124\": 3, \"103\": 2, \"112\": 1, \"56\": 1, \"106\": 5, \"27\": 22, \"98\": 7, \"105\": 3, \"4\": 5, \"104\": 1, \"108\": 2, \"12\": 5, \"100\": 1, \"70\": 2, \"39\": 1, \"8\": 8, \"7\": 3, \"111\": 5, \"15\": 2, \"10\": 1, \"1\": 3, \"0\": 3, \"114\": 1, \"125\": 1, \"33\": 1, \"24\": 2, \"46\": 1, \"30\": 1, \"42\": 1, \"87\": 1, \"71\": 1, \"43\": 1, \"127\": 1, \"3\": 1}, \"109\": {\"16\": 7, \"109\": 57, \"90\": 10, \"69\": 7, \"44\": 2, \"126\": 1, \"84\": 4, \"113\": 2, \"118\": 7, \"110\": 4, \"72\": 1, \"108\": 2, \"122\": 1, \"117\": 1, \"39\": 1, \"88\": 1, \"102\": 1, \"93\": 1}, \"106\": {\"97\": 1, \"47\": 1, \"106\": 62, \"68\": 1, \"103\": 4, \"127\": 4, \"70\": 1, \"9\": 2, \"12\": 10, \"15\": 4, \"111\": 4, \"4\": 1, \"8\": 3, \"26\": 2, \"113\": 1, \"10\": 2, \"24\": 3, \"126\": 4, \"6\": 1, \"30\": 1, \"71\": 1, \"125\": 1, \"27\": 1, \"18\": 1}, \"68\": {\"68\": 12, \"103\": 2, \"121\": 1, \"34\": 1}, \"76\": {\"18\": 1, \"76\": 12, \"70\": 1, \"78\": 1, \"122\": 1}, \"103\": {\"103\": 15, \"121\": 1}, \"42\": {\"87\": 3, \"103\": 3, \"4\": 1, \"53\": 1, \"60\": 1, \"68\": 1, \"43\": 2, \"42\": 5, \"79\": 1, \"104\": 1, \"33\": 1, \"119\": 1, \"8\": 1, \"64\": 1, \"30\": 1, \"34\": 1, \"98\": 1, \"27\": 2}, \"129\": {\"0\": 1, \"129\": 5, \"71\": 1, \"14\": 2, \"33\": 2, \"118\": 1, \"37\": 1, \"32\": 1, \"122\": 2, \"72\": 1, \"85\": 2, \"5\": 1, \"40\": 1, \"17\": 1, \"43\": 1, \"41\": 1, \"102\": 2, \"4\": 2}, \"94\": {\"94\": 45, \"97\": 1, \"121\": 1, \"36\": 7, \"6\": 1, \"15\": 11, \"10\": 4, \"125\": 4, \"12\": 1, \"24\": 3, \"127\": 1, \"39\": 1, \"81\": 1, \"18\": 2, \"30\": 1, \"126\": 1, \"106\": 1, \"3\": 1, \"117\": 1}, \"123\": {\"61\": 2, \"123\": 14}, \"61\": {\"61\": 12, \"117\": 1, \"123\": 3}, \"51\": {\"39\": 1, \"51\": 1, \"68\": 1, \"90\": 1, \"121\": 2, \"27\": 1, \"36\": 1, \"11\": 1, \"58\": 1, \"63\": 1, \"21\": 1, \"9\": 2, \"106\": 2}, \"98\": {\"33\": 1, \"42\": 1, \"98\": 58, \"109\": 3, \"4\": 3, \"85\": 2, \"70\": 3, \"8\": 4, \"127\": 6, \"71\": 3, \"124\": 5, \"111\": 2, \"114\": 4, \"93\": 1, \"18\": 1, \"88\": 2, \"118\": 2, \"24\": 2, \"95\": 1, \"68\": 1, \"34\": 1, \"39\": 1, \"106\": 1, \"125\": 1, \"27\": 3, \"90\": 1, \"3\": 1, \"12\": 1, \"0\": 2, \"84\": 1}, \"56\": {\"56\": 5, \"4\": 4, \"37\": 3}, \"14\": {\"14\": 85, \"32\": 1, \"33\": 5, \"5\": 1, \"16\": 1, \"43\": 7, \"118\": 4, \"23\": 1, \"87\": 1, \"99\": 1, \"40\": 1, \"122\": 2, \"105\": 1, \"39\": 1}, \"90\": {\"90\": 99, \"109\": 9, \"102\": 2, \"99\": 1, \"19\": 1, \"96\": 2, \"69\": 2, \"122\": 3, \"84\": 6, \"113\": 3, \"118\": 5, \"93\": 4, \"66\": 1}, \"13\": {\"13\": 12, \"92\": 2, \"110\": 1, \"118\": 1}, \"89\": {\"89\": 23, \"87\": 3, \"105\": 1, \"15\": 1, \"7\": 1, \"72\": 2, \"3\": 1}, \"52\": {\"52\": 12, \"110\": 1, \"29\": 1, \"70\": 1, \"10\": 2, \"53\": 1, \"27\": 2}, \"72\": {\"32\": 1, \"72\": 16, \"62\": 1, \"116\": 2, \"14\": 3, \"87\": 1, \"118\": 1, \"122\": 3, \"70\": 1, \"5\": 1, \"12\": 1, \"3\": 1}, \"79\": {\"79\": 9, \"1\": 1, \"3\": 2, \"46\": 3, \"5\": 1}, \"113\": {\"113\": 63, \"117\": 18, \"39\": 7, \"26\": 11, \"24\": 1, \"126\": 9, \"18\": 4, \"88\": 1, \"109\": 3, \"16\": 5, \"84\": 2, \"81\": 1, \"2\": 1}}, \"W_1\": {\"68\": {\"68\": 13, \"111\": 1, \"97\": 2}, \"7\": {\"7\": 115, \"23\": 1, \"19\": 1, \"87\": 2, \"109\": 1, \"14\": 2, \"43\": 5, \"126\": 1, \"104\": 1, \"44\": 1, \"70\": 2, \"84\": 8, \"1\": 1, \"40\": 1}, \"125\": {\"125\": 87, \"111\": 1, \"52\": 1, \"88\": 4, \"36\": 11, \"15\": 4, \"30\": 1, \"27\": 4, \"71\": 1, \"94\": 4}, \"111\": {\"111\": 83, \"12\": 3, \"68\": 1, \"112\": 1, \"127\": 2, \"18\": 1, \"71\": 2, \"106\": 5, \"24\": 5, \"88\": 8, \"15\": 3, \"92\": 1, \"97\": 1, \"101\": 1, \"72\": 1, \"98\": 2}, \"101\": {\"101\": 109, \"110\": 5, \"127\": 3, \"32\": 2, \"58\": 1, \"113\": 1, \"106\": 1, \"98\": 1, \"12\": 1}, \"11\": {\"42\": 2, \"100\": 1, \"11\": 92, \"80\": 1, \"82\": 3, \"70\": 1, \"102\": 4, \"62\": 4, \"33\": 10, \"69\": 1, \"1\": 2, \"39\": 1, \"81\": 2, \"25\": 2, \"116\": 1, \"67\": 1, \"109\": 1, \"14\": 2, \"122\": 2, \"99\": 1, \"84\": 1, \"3\": 1}, \"76\": {\"76\": 16}, \"5\": {\"5\": 75, \"40\": 4, \"107\": 1, \"117\": 1, \"9\": 1, \"70\": 1, \"93\": 2, \"34\": 1, \"86\": 1, \"39\": 1}, \"123\": {\"123\": 13, \"21\": 1, \"121\": 1, \"33\": 1}, \"85\": {\"85\": 27, \"35\": 1, \"127\": 1, \"32\": 1, \"10\": 2}, \"34\": {\"111\": 1, \"68\": 1, \"51\": 2, \"34\": 3, \"89\": 2, \"22\": 1, \"87\": 1, \"104\": 2, \"52\": 1, \"125\": 1, \"14\": 2, \"17\": 2, \"97\": 2, \"105\": 1, \"37\": 1, \"57\": 1, \"94\": 2, \"8\": 1, \"30\": 1, \"48\": 1, \"36\": 1, \"71\": 1, \"43\": 1}, \"42\": {\"34\": 1, \"42\": 8, \"66\": 1, \"40\": 1, \"11\": 1, \"38\": 1, \"50\": 1, \"8\": 1, \"109\": 2, \"105\": 1, \"4\": 1, \"87\": 1, \"86\": 2, \"5\": 2, \"124\": 2, \"114\": 1, \"62\": 1}, \"81\": {\"81\": 25, \"19\": 1, \"33\": 1, \"128\": 1}, \"127\": {\"101\": 8, \"127\": 86, \"32\": 1, \"12\": 7, \"36\": 1, \"111\": 1, \"30\": 2, \"88\": 1, \"110\": 1}, \"60\": {\"60\": 3, \"34\": 2, \"117\": 2, \"122\": 1, \"48\": 1, \"18\": 1, \"126\": 1, \"118\": 1, \"44\": 1, \"16\": 1, \"21\": 1, \"14\": 1}, \"77\": {\"77\": 13, \"70\": 1, \"98\": 1, \"29\": 1}, \"65\": {\"33\": 1, \"123\": 1, \"65\": 4, \"66\": 1, \"45\": 2, \"11\": 1, \"50\": 2}, \"44\": {\"44\": 52, \"86\": 1, \"126\": 2, \"122\": 1, \"74\": 1, \"84\": 3, \"40\": 1, \"87\": 3, \"105\": 1, \"5\": 1, \"128\": 2, \"70\": 2, \"129\": 1, \"62\": 1, \"7\": 4}, \"100\": {\"21\": 1, \"100\": 14, \"67\": 1}, \"80\": {\"21\": 1, \"80\": 9, \"1\": 2, \"84\": 1, \"114\": 2, \"61\": 1}, \"83\": {\"83\": 18, \"73\": 1, \"54\": 1, \"1\": 1, \"88\": 1, \"79\": 1, \"105\": 2, \"5\": 1, \"114\": 1, \"19\": 1}, \"51\": {\"51\": 12, \"52\": 2, \"94\": 1, \"111\": 1}, \"93\": {\"10\": 5, \"93\": 52, \"72\": 3, \"86\": 1, \"5\": 5, \"4\": 13, \"107\": 14, \"9\": 3, \"87\": 6, \"105\": 1, \"108\": 5, \"110\": 2, \"40\": 3, \"44\": 2, \"117\": 1, \"24\": 1, \"8\": 4, \"62\": 1, \"84\": 1, \"43\": 1, \"41\": 2, \"31\": 1, \"35\": 1, \"70\": 3, \"0\": 1, \"126\": 2}, \"31\": {\"31\": 9, \"34\": 2, \"23\": 2, \"4\": 2, \"107\": 1}, \"33\": {\"33\": 113, \"82\": 1, \"102\": 4, \"69\": 1, \"64\": 1, \"62\": 3, \"38\": 1, \"3\": 2}, \"113\": {\"123\": 2, \"113\": 112, \"118\": 1, \"117\": 5, \"26\": 1, \"39\": 3}, \"126\": {\"83\": 1, \"21\": 1, \"102\": 1, \"126\": 26, \"5\": 6, \"1\": 4, \"19\": 1, \"107\": 7, \"70\": 4, \"43\": 6, \"117\": 1, \"44\": 3, \"84\": 7, \"93\": 2, \"8\": 4, \"114\": 4, \"40\": 8, \"90\": 2, \"124\": 5, \"87\": 5, \"7\": 8, \"122\": 5, \"62\": 4, \"71\": 1, \"11\": 1, \"129\": 2, \"108\": 1, \"26\": 1, \"4\": 1, \"10\": 1, \"109\": 1}, \"10\": {\"10\": 60, \"122\": 1, \"60\": 1, \"85\": 3, \"75\": 1, \"70\": 1, \"32\": 2, \"127\": 2, \"87\": 7, \"110\": 4, \"93\": 6, \"84\": 2, \"62\": 3, \"43\": 6, \"101\": 7, \"7\": 3, \"40\": 1, \"8\": 1, \"23\": 1, \"48\": 1, \"72\": 1, \"106\": 1, \"107\": 2, \"0\": 2, \"109\": 1}, \"21\": {\"21\": 10, \"90\": 1, \"20\": 1, \"39\": 1, \"23\": 1, \"3\": 1, \"117\": 3, \"18\": 2, \"2\": 1, \"114\": 1, \"105\": 1, \"44\": 1, \"109\": 1, \"72\": 1, \"40\": 1, \"8\": 2, \"95\": 2, \"51\": 1, \"10\": 1, \"87\": 1, \"118\": 1, \"14\": 1, \"121\": 1, \"30\": 1, \"111\": 1, \"5\": 1}, \"90\": {\"90\": 100, \"109\": 13, \"3\": 4, \"42\": 2, \"64\": 1, \"62\": 4, \"33\": 3, \"16\": 1, \"39\": 1, \"61\": 2, \"43\": 1}, \"38\": {\"38\": 15, \"20\": 1}, \"96\": {\"38\": 1, \"96\": 14, \"64\": 1, \"28\": 1, \"70\": 1, \"109\": 1, \"7\": 1}, \"6\": {\"37\": 1, \"6\": 13, \"111\": 1, \"94\": 5, \"27\": 2, \"101\": 1, \"98\": 1, \"71\": 2, \"30\": 1, \"52\": 1, \"41\": 1, \"106\": 1, \"15\": 2}, \"121\": {\"113\": 3, \"121\": 21, \"95\": 3, \"13\": 1, \"117\": 1, \"26\": 3}, \"37\": {\"92\": 3, \"37\": 13}, \"88\": {\"6\": 1, \"88\": 33, \"52\": 1, \"72\": 2, \"127\": 4, \"98\": 8, \"125\": 11, \"91\": 1, \"36\": 9, \"108\": 7, \"15\": 7, \"32\": 2, \"110\": 2, \"105\": 1, \"12\": 3, \"24\": 3, \"27\": 7, \"101\": 3, \"94\": 6, \"70\": 1, \"111\": 4, \"4\": 1, \"71\": 3, \"106\": 5, \"107\": 1}, \"54\": {\"54\": 13, \"5\": 2, \"46\": 1}, \"92\": {\"37\": 1, \"92\": 27}, \"19\": {\"19\": 15, \"80\": 1, \"115\": 5, \"84\": 1, \"20\": 1, \"7\": 1, \"126\": 2, \"14\": 1, \"87\": 1}, \"47\": {\"47\": 8, \"59\": 1, \"98\": 1, \"105\": 1, \"108\": 1}, \"94\": {\"6\": 3, \"92\": 1, \"101\": 2, \"94\": 53, \"24\": 5, \"125\": 3, \"36\": 2, \"18\": 1, \"111\": 3, \"27\": 4, \"98\": 1, \"127\": 3, \"88\": 2, \"71\": 3, \"30\": 1, \"69\": 1, \"15\": 3, \"113\": 1}, \"66\": {\"66\": 13, \"22\": 1, \"109\": 1, \"99\": 1}, \"73\": {\"73\": 12, \"3\": 1, \"72\": 1, \"59\": 1, \"5\": 3, \"40\": 1, \"4\": 1}, \"75\": {\"75\": 16}, \"28\": {\"28\": 12, \"60\": 1, \"78\": 1, \"128\": 2, \"76\": 1, \"94\": 1, \"65\": 1, \"43\": 1}, \"20\": {\"20\": 16}, \"78\": {\"121\": 1, \"78\": 5, \"87\": 2, \"65\": 1, \"129\": 2, \"122\": 2, \"80\": 2, \"28\": 1}, \"71\": {\"71\": 49, \"24\": 6, \"106\": 8, \"30\": 1, \"26\": 1, \"111\": 8, \"127\": 7, \"88\": 3, \"12\": 7, \"27\": 1, \"98\": 4, \"15\": 4, \"94\": 2, \"117\": 1, \"91\": 1, \"39\": 1}, \"13\": {\"13\": 13, \"118\": 1, \"16\": 1, \"63\": 1}, \"118\": {\"118\": 56, \"26\": 12, \"117\": 4, \"16\": 7, \"39\": 3, \"18\": 2}, \"72\": {\"72\": 26, \"107\": 5, \"98\": 1}, \"24\": {\"24\": 25, \"77\": 1, \"30\": 3, \"98\": 5, \"88\": 5, \"27\": 3, \"108\": 2, \"71\": 8, \"15\": 8, \"4\": 3, \"113\": 1, \"107\": 4, \"111\": 3, \"110\": 2, \"94\": 3, \"93\": 1, \"39\": 1, \"45\": 1, \"51\": 1, \"52\": 2, \"105\": 1, \"9\": 1, \"106\": 4, \"5\": 1, \"127\": 1, \"70\": 2}, \"41\": {\"41\": 10, \"23\": 2, \"93\": 2, \"126\": 2}, \"102\": {\"102\": 102, \"100\": 2, \"2\": 1, \"33\": 8, \"3\": 1, \"69\": 4, \"27\": 1, \"62\": 1}, \"8\": {\"123\": 1, \"8\": 80, \"49\": 1, \"107\": 1, \"41\": 1, \"70\": 6, \"23\": 1, \"86\": 2, \"105\": 6, \"19\": 1, \"43\": 2, \"84\": 3, \"40\": 7, \"122\": 2, \"108\": 4, \"5\": 4, \"93\": 2, \"7\": 1, \"126\": 3, \"124\": 1, \"120\": 1, \"4\": 1, \"114\": 1, \"34\": 1, \"21\": 1, \"87\": 4}, \"39\": {\"39\": 47, \"13\": 1, \"18\": 11, \"21\": 4, \"26\": 2, \"118\": 3, \"16\": 12, \"109\": 4, \"117\": 10, \"88\": 1, \"12\": 1}, \"97\": {\"111\": 3, \"24\": 1, \"30\": 1, \"32\": 2, \"106\": 1, \"89\": 1, \"97\": 7, \"6\": 1, \"72\": 2, \"117\": 1}, \"48\": {\"48\": 12}, \"57\": {\"57\": 12}, \"29\": {\"29\": 27, \"106\": 1}, \"119\": {\"119\": 16}, \"89\": {\"29\": 4, \"23\": 2, \"108\": 2, \"89\": 23, \"9\": 2, \"8\": 1, \"54\": 2}, \"40\": {\"40\": 126, \"73\": 2, \"105\": 4, \"114\": 2, \"87\": 2, \"84\": 1, \"8\": 2, \"124\": 1}, \"22\": {\"97\": 1, \"22\": 7, \"43\": 1, \"14\": 1, \"87\": 2, \"38\": 2, \"19\": 2}, \"53\": {\"108\": 1, \"111\": 1, \"53\": 10, \"24\": 2, \"30\": 1, \"27\": 1, \"91\": 2, \"6\": 1, \"98\": 1}, \"108\": {\"42\": 1, \"89\": 2, \"46\": 1, \"108\": 34, \"34\": 1, \"106\": 5, \"83\": 1, \"107\": 8, \"126\": 4, \"70\": 4, \"21\": 1, \"86\": 2, \"1\": 1, \"5\": 4, \"87\": 3, \"72\": 2, \"105\": 2, \"93\": 3, \"4\": 4, \"12\": 1, \"98\": 3, \"90\": 1, \"8\": 4, \"40\": 5, \"127\": 4, \"33\": 2, \"47\": 1, \"24\": 1, \"41\": 1, \"9\": 2, \"97\": 1, \"124\": 1, \"96\": 1, \"71\": 2, \"111\": 3, \"122\": 2, \"0\": 1, \"114\": 1, \"101\": 2, \"43\": 1, \"88\": 1}, \"23\": {\"23\": 3, \"42\": 1, \"95\": 1, \"81\": 2, \"52\": 1, \"35\": 1, \"82\": 1, \"106\": 1, \"129\": 2, \"55\": 1, \"70\": 1, \"5\": 1, \"122\": 2, \"80\": 1, \"107\": 1, \"4\": 1, \"9\": 1, \"89\": 1, \"91\": 1}, \"109\": {\"76\": 4, \"61\": 1, \"128\": 1, \"109\": 40, \"39\": 4, \"99\": 1, \"117\": 2, \"82\": 1, \"90\": 11, \"19\": 1, \"42\": 1, \"122\": 2, \"1\": 3, \"3\": 4, \"84\": 2, \"43\": 4, \"62\": 5, \"7\": 8, \"8\": 1, \"33\": 2, \"40\": 1, \"14\": 2, \"2\": 1, \"118\": 2, \"104\": 1, \"126\": 2, \"16\": 1, \"87\": 2, \"18\": 1, \"70\": 3, \"11\": 1, \"114\": 1}, \"112\": {\"112\": 10, \"111\": 2, \"24\": 2, \"6\": 1, \"71\": 1}, \"35\": {\"23\": 2, \"35\": 10}, \"3\": {\"3\": 70, \"62\": 3, \"102\": 4, \"33\": 3, \"125\": 3, \"60\": 1, \"14\": 1, \"129\": 1, \"118\": 1, \"88\": 1}, \"103\": {\"103\": 12, \"94\": 1, \"111\": 2, \"52\": 1}, \"4\": {\"4\": 75, \"107\": 2, \"93\": 4, \"108\": 3, \"40\": 3, \"5\": 5, \"117\": 1, \"123\": 1, \"8\": 2, \"86\": 2, \"70\": 1, \"105\": 1}, \"87\": {\"120\": 1, \"87\": 29, \"78\": 2, \"34\": 1, \"23\": 2, \"40\": 8, \"73\": 1, \"114\": 7, \"45\": 1, \"5\": 1, \"70\": 6, \"84\": 8, \"4\": 1, \"7\": 4, \"43\": 5, \"16\": 1, \"126\": 3, \"105\": 9, \"44\": 1, \"74\": 2, \"108\": 1, \"122\": 4, \"93\": 3, \"86\": 1, \"38\": 1, \"48\": 1, \"128\": 1, \"96\": 1, \"11\": 1, \"14\": 1}, \"25\": {\"95\": 1, \"87\": 1, \"25\": 8, \"99\": 1, \"129\": 1, \"45\": 2, \"20\": 1, \"113\": 1}, \"15\": {\"15\": 61, \"127\": 5, \"30\": 2, \"32\": 1, \"71\": 3, \"94\": 5, \"12\": 2, \"113\": 1, \"106\": 1, \"110\": 1, \"36\": 1, \"101\": 3, \"111\": 2, \"27\": 7, \"112\": 1, \"121\": 1, \"88\": 2, \"125\": 2, \"24\": 2, \"117\": 1}, \"95\": {\"95\": 26, \"39\": 2, \"117\": 3, \"26\": 2, \"18\": 1, \"2\": 2}, \"120\": {\"120\": 15, \"62\": 3, \"123\": 1, \"121\": 1}, \"59\": {\"59\": 8, \"36\": 2, \"118\": 1, \"51\": 1}, \"49\": {\"107\": 1, \"52\": 1, \"46\": 1, \"70\": 1, \"5\": 1, \"68\": 1, \"90\": 1, \"32\": 1, \"24\": 2, \"4\": 1, \"8\": 1, \"112\": 1, \"49\": 1, \"77\": 1, \"34\": 1, \"111\": 1, \"9\": 2, \"11\": 1}, \"52\": {\"52\": 18, \"78\": 1, \"120\": 1}, \"45\": {\"22\": 1, \"78\": 1, \"80\": 1, \"7\": 1, \"41\": 1, \"36\": 1, \"82\": 1, \"45\": 1, \"74\": 3, \"33\": 1}, \"107\": {\"107\": 118, \"34\": 1, \"108\": 1, \"93\": 2, \"106\": 1, \"43\": 1}, \"106\": {\"106\": 96, \"95\": 1, \"32\": 2, \"98\": 13, \"53\": 1, \"71\": 2, \"24\": 3, \"107\": 2, \"111\": 5, \"127\": 1, \"17\": 1, \"89\": 2, \"49\": 1, \"12\": 2, \"110\": 1, \"88\": 1}, \"18\": {\"123\": 1, \"18\": 97, \"117\": 14, \"16\": 2, \"109\": 1, \"2\": 1, \"26\": 1, \"21\": 1, \"118\": 4, \"39\": 2}, \"64\": {\"64\": 15, \"28\": 1}, \"86\": {\"86\": 18, \"115\": 1, \"29\": 1, \"40\": 1, \"8\": 1, \"107\": 2, \"105\": 2, \"47\": 1, \"70\": 3, \"87\": 2, \"4\": 3, \"83\": 1}, \"14\": {\"115\": 2, \"14\": 83, \"84\": 3, \"7\": 1, \"122\": 2, \"43\": 2, \"19\": 1, \"129\": 2}, \"115\": {\"115\": 8, \"19\": 3, \"4\": 1}, \"0\": {\"0\": 55, \"111\": 1, \"77\": 1, \"91\": 1, \"110\": 5, \"71\": 1, \"10\": 4, \"101\": 6, \"24\": 1, \"86\": 1, \"85\": 1, \"11\": 1, \"30\": 1, \"127\": 1, \"4\": 2, \"12\": 1, \"93\": 1}, \"104\": {\"104\": 7, \"128\": 1, \"42\": 2, \"87\": 1, \"70\": 1, \"96\": 2, \"7\": 2}, \"61\": {\"61\": 5, \"129\": 2, \"102\": 1, \"109\": 1, \"82\": 2, \"43\": 1}, \"129\": {\"67\": 1, \"35\": 1, \"102\": 1, \"117\": 2, \"60\": 2, \"73\": 3, \"13\": 2, \"5\": 2, \"62\": 1, \"120\": 1, \"80\": 1, \"18\": 1, \"50\": 1, \"83\": 1, \"129\": 3, \"3\": 2, \"26\": 1, \"114\": 1, \"4\": 1}, \"122\": {\"129\": 1, \"104\": 1, \"60\": 3, \"122\": 37, \"33\": 2, \"14\": 10, \"109\": 3, \"43\": 6, \"44\": 1, \"84\": 7, \"1\": 2, \"70\": 1, \"117\": 1, \"11\": 1, \"90\": 1, \"74\": 1, \"7\": 1, \"115\": 2, \"38\": 2, \"39\": 1, \"87\": 3, \"62\": 1}, \"67\": {\"67\": 14, \"62\": 1, \"11\": 1}, \"128\": {\"104\": 1, \"107\": 4, \"72\": 2, \"128\": 3, \"9\": 1, \"129\": 1, \"22\": 1, \"86\": 2, \"7\": 1, \"99\": 2, \"21\": 1, \"28\": 1, \"49\": 1, \"3\": 1, \"46\": 1, \"87\": 1}, \"26\": {\"26\": 113, \"118\": 6, \"69\": 1, \"21\": 1, \"113\": 1, \"117\": 6, \"121\": 1, \"16\": 5}, \"117\": {\"117\": 117, \"26\": 4, \"63\": 2, \"18\": 5, \"16\": 5, \"2\": 1, \"39\": 2}, \"91\": {\"91\": 16, \"85\": 1, \"72\": 1, \"107\": 1, \"12\": 2, \"110\": 1, \"0\": 1, \"101\": 1, \"32\": 1, \"6\": 1, \"89\": 1, \"108\": 1}, \"12\": {\"12\": 53, \"112\": 2, \"6\": 2, \"127\": 10, \"101\": 9, \"30\": 2, \"15\": 3, \"111\": 5, \"18\": 1, \"71\": 4, \"94\": 3, \"69\": 1, \"106\": 2, \"118\": 1, \"97\": 1, \"53\": 1, \"117\": 2, \"24\": 1, \"110\": 1}, \"50\": {\"50\": 16}, \"99\": {\"99\": 14, \"23\": 2, \"33\": 2, \"44\": 1, \"1\": 2, \"96\": 1, \"50\": 1, \"122\": 1}, \"110\": {\"110\": 79, \"101\": 10, \"12\": 1, \"0\": 4, \"127\": 5, \"107\": 1, \"108\": 1, \"98\": 1, \"106\": 2}, \"43\": {\"43\": 35, \"87\": 7, \"22\": 1, \"84\": 22, \"14\": 5, \"120\": 1, \"42\": 2, \"109\": 2, \"36\": 1, \"114\": 2, \"122\": 6, \"7\": 7, \"11\": 5, \"106\": 1, \"1\": 3, \"62\": 2, \"126\": 6, \"95\": 1, \"23\": 2, \"21\": 1, \"90\": 1, \"44\": 1, \"24\": 1, \"107\": 1}, \"82\": {\"81\": 1, \"82\": 25, \"3\": 1, \"33\": 7, \"11\": 1, \"116\": 1}, \"1\": {\"1\": 77, \"14\": 2, \"105\": 1, \"87\": 2, \"114\": 4, \"126\": 3, \"84\": 4, \"11\": 1, \"81\": 1, \"106\": 1}, \"46\": {\"6\": 1, \"40\": 1, \"46\": 3, \"38\": 1, \"32\": 1, \"54\": 2, \"92\": 1, \"126\": 1, \"94\": 1}, \"16\": {\"16\": 86, \"117\": 6, \"109\": 1, \"21\": 1, \"26\": 10, \"18\": 1, \"65\": 1, \"118\": 2}, \"74\": {\"74\": 13, \"96\": 1, \"62\": 1, \"122\": 1}, \"32\": {\"32\": 14, \"0\": 1, \"107\": 1, \"111\": 3, \"92\": 1, \"91\": 2, \"72\": 1, \"101\": 1, \"71\": 2, \"112\": 1, \"51\": 1, \"29\": 1, \"110\": 1, \"49\": 2}, \"62\": {\"62\": 109, \"82\": 1, \"50\": 2, \"33\": 5, \"90\": 1, \"102\": 1, \"94\": 1}, \"27\": {\"27\": 31, \"56\": 2, \"36\": 5, \"112\": 2, \"12\": 4, \"98\": 1, \"111\": 9, \"94\": 7, \"110\": 1, \"88\": 9, \"71\": 1, \"30\": 3, \"15\": 4, \"125\": 7, \"68\": 1, \"29\": 1, \"6\": 1, \"72\": 1, \"69\": 1, \"21\": 1}, \"17\": {\"17\": 11, \"108\": 1, \"107\": 1, \"86\": 1, \"89\": 2}, \"36\": {\"36\": 102, \"94\": 3, \"125\": 12, \"15\": 6, \"88\": 5, \"71\": 1, \"27\": 3, \"39\": 1, \"111\": 1}, \"2\": {\"18\": 4, \"102\": 5, \"129\": 2, \"118\": 1, \"116\": 2, \"117\": 4, \"16\": 5, \"2\": 3, \"82\": 1, \"81\": 1, \"26\": 1, \"11\": 1, \"39\": 2}, \"70\": {\"72\": 2, \"78\": 2, \"128\": 1, \"107\": 4, \"70\": 19, \"122\": 2, \"8\": 2, \"86\": 3, \"83\": 2, \"124\": 2, \"96\": 2, \"102\": 1, \"84\": 3, \"4\": 7, \"62\": 5, \"120\": 1, \"108\": 17, \"5\": 4, \"7\": 4, \"11\": 5, \"126\": 2, \"87\": 2, \"106\": 4, \"98\": 2, \"118\": 1, \"110\": 1, \"14\": 1, \"10\": 1, \"33\": 3, \"93\": 7, \"90\": 2, \"89\": 1, \"44\": 1, \"23\": 1, \"9\": 1, \"60\": 1, \"109\": 2, \"43\": 1, \"24\": 1, \"40\": 2, \"39\": 1, \"88\": 1, \"18\": 1}, \"9\": {\"9\": 18, \"107\": 2, \"89\": 1, \"24\": 1, \"4\": 1, \"106\": 2, \"72\": 2, \"108\": 1, \"86\": 3, \"49\": 1}, \"114\": {\"114\": 103, \"87\": 3, \"40\": 6, \"1\": 5, \"124\": 2, \"84\": 5, \"8\": 1, \"126\": 3, \"105\": 2}, \"79\": {\"79\": 8, \"86\": 1, \"104\": 1, \"31\": 1, \"40\": 1}, \"56\": {\"17\": 1, \"34\": 1, \"9\": 1, \"127\": 1, \"56\": 4, \"98\": 1, \"32\": 1, \"112\": 1, \"47\": 1}, \"124\": {\"124\": 73, \"114\": 4, \"40\": 12, \"108\": 1, \"105\": 1, \"4\": 2, \"8\": 2, \"54\": 2, \"73\": 2, \"87\": 2, \"5\": 1}, \"84\": {\"84\": 102, \"19\": 1, \"20\": 1, \"126\": 4, \"87\": 2, \"114\": 7, \"40\": 2, \"1\": 4, \"14\": 2, \"43\": 6, \"7\": 1, \"45\": 1, \"80\": 1}, \"69\": {\"69\": 88, \"16\": 1, \"3\": 1, \"26\": 2, \"33\": 4, \"39\": 1, \"102\": 6, \"62\": 2, \"118\": 1, \"109\": 1, \"11\": 1}, \"58\": {\"58\": 10, \"127\": 1, \"112\": 1}, \"30\": {\"112\": 1, \"94\": 1, \"49\": 1, \"30\": 16, \"12\": 4, \"27\": 4, \"111\": 3, \"110\": 3, \"106\": 1, \"36\": 2, \"127\": 2, \"71\": 2, \"125\": 1, \"6\": 3, \"0\": 1, \"58\": 2, \"15\": 2, \"32\": 1, \"101\": 2}, \"55\": {\"55\": 12}, \"105\": {\"105\": 64, \"86\": 1, \"8\": 2, \"43\": 2, \"84\": 3, \"114\": 3, \"70\": 1, \"87\": 1, \"124\": 1, \"5\": 1, \"41\": 1, \"104\": 1, \"129\": 1, \"40\": 2}, \"63\": {\"63\": 9, \"117\": 1, \"118\": 3, \"18\": 1, \"26\": 1, \"13\": 1}, \"98\": {\"29\": 2, \"89\": 2, \"106\": 9, \"127\": 5, \"98\": 54, \"72\": 1, \"12\": 4, \"47\": 1, \"24\": 1, \"49\": 1, \"9\": 3, \"56\": 2, \"111\": 6, \"105\": 1, \"71\": 4, \"88\": 1, \"125\": 1, \"94\": 1, \"103\": 2, \"77\": 1, \"101\": 3, \"5\": 1, \"107\": 2}, \"116\": {\"116\": 12, \"69\": 2, \"11\": 2, \"14\": 1, \"109\": 1, \"102\": 4, \"42\": 1, \"3\": 2, \"80\": 1, \"100\": 1, \"65\": 1, \"39\": 1, \"26\": 2, \"16\": 1}}, \"W_3\": {\"76\": {\"76\": 13, \"79\": 3}, \"6\": {\"15\": 1, \"94\": 2, \"6\": 23, \"12\": 1, \"72\": 2, \"101\": 2, \"31\": 1}, \"108\": {\"83\": 2, \"124\": 7, \"108\": 47, \"46\": 1, \"42\": 1, \"24\": 1, \"7\": 1, \"98\": 3, \"127\": 6, \"94\": 1, \"3\": 3, \"70\": 6, \"40\": 1, \"4\": 4, \"8\": 4, \"12\": 1, \"114\": 3, \"105\": 2, \"107\": 3, \"112\": 1, \"17\": 2, \"99\": 2, \"10\": 1, \"87\": 1, \"71\": 1, \"1\": 1}, \"29\": {\"29\": 18, \"100\": 1, \"23\": 1, \"76\": 1, \"44\": 2, \"27\": 1, \"40\": 2, \"62\": 1, \"14\": 4, \"1\": 1}, \"83\": {\"108\": 1, \"83\": 17, \"99\": 1, \"15\": 1, \"34\": 1, \"70\": 1, \"91\": 1, \"71\": 1}, \"18\": {\"18\": 117, \"39\": 2, \"118\": 1, \"113\": 1, \"67\": 1, \"78\": 1, \"81\": 2, \"117\": 1, \"21\": 1, \"109\": 1}, \"54\": {\"54\": 16}, \"15\": {\"15\": 55, \"97\": 1, \"101\": 3, \"128\": 1, \"27\": 4, \"125\": 4, \"111\": 5, \"24\": 4, \"30\": 3, \"73\": 2, \"36\": 4, \"12\": 5, \"0\": 1, \"94\": 3, \"124\": 3, \"51\": 1, \"106\": 3, \"8\": 2}, \"100\": {\"100\": 12, \"129\": 1, \"44\": 1, \"87\": 1, \"50\": 1}, \"90\": {\"29\": 2, \"90\": 90, \"84\": 13, \"105\": 1, \"93\": 2, \"62\": 5, \"109\": 2, \"87\": 1, \"5\": 1, \"14\": 4, \"76\": 1, \"11\": 2, \"31\": 1, \"107\": 1, \"32\": 1, \"70\": 1, \"92\": 2, \"18\": 1, \"69\": 1, \"33\": 1, \"44\": 1, \"88\": 2}, \"26\": {\"26\": 116, \"18\": 2, \"93\": 1, \"113\": 1, \"118\": 3, \"117\": 2, \"43\": 4, \"121\": 1, \"39\": 2}, \"115\": {\"100\": 1, \"115\": 8, \"23\": 1, \"28\": 1, \"40\": 2, \"74\": 2, \"122\": 1}, \"94\": {\"15\": 8, \"94\": 56, \"0\": 2, \"95\": 1, \"27\": 1, \"36\": 1, \"125\": 4, \"106\": 1, \"25\": 1, \"6\": 3, \"8\": 2, \"30\": 1, \"118\": 1, \"111\": 2}, \"46\": {\"46\": 12, \"127\": 1, \"108\": 1, \"114\": 1, \"5\": 1}, \"121\": {\"121\": 21, \"63\": 1, \"113\": 1, \"21\": 3, \"39\": 4, \"2\": 1, \"33\": 1}, \"109\": {\"26\": 1, \"76\": 1, \"109\": 69, \"118\": 11, \"11\": 2, \"31\": 1, \"113\": 8, \"16\": 8, \"33\": 5, \"69\": 2, \"43\": 2, \"102\": 2, \"117\": 1, \"39\": 3, \"93\": 6, \"88\": 4, \"21\": 1, \"64\": 1}, \"101\": {\"101\": 38, \"37\": 3, \"0\": 3, \"125\": 1, \"111\": 1, \"8\": 2, \"59\": 1, \"30\": 2, \"15\": 1}, \"99\": {\"9\": 1, \"99\": 24, \"7\": 1, \"71\": 3, \"127\": 3, \"85\": 1, \"3\": 2, \"128\": 1}, \"8\": {\"8\": 63, \"124\": 11, \"41\": 3, \"12\": 2, \"98\": 12, \"34\": 1, \"71\": 1, \"128\": 1, \"0\": 4, \"7\": 3, \"30\": 1, \"111\": 9, \"26\": 1, \"127\": 6, \"27\": 3, \"52\": 2, \"42\": 1, \"15\": 2, \"117\": 1, \"10\": 1}, \"102\": {\"89\": 2, \"102\": 86, \"118\": 1, \"69\": 1, \"33\": 3, \"16\": 3, \"93\": 3, \"82\": 2, \"109\": 2, \"11\": 1}, \"122\": {\"123\": 1, \"122\": 23, \"90\": 2, \"40\": 5, \"88\": 4, \"76\": 1, \"38\": 1, \"57\": 1, \"62\": 2, \"105\": 1, \"128\": 1, \"87\": 2, \"1\": 2, \"32\": 2, \"26\": 1, \"107\": 3, \"22\": 1, \"19\": 3, \"126\": 1, \"129\": 1, \"70\": 1, \"5\": 1}, \"36\": {\"125\": 8, \"36\": 55, \"6\": 2, \"72\": 1, \"42\": 2, \"98\": 1, \"15\": 8, \"73\": 6, \"8\": 4, \"30\": 3, \"27\": 4, \"111\": 7, \"0\": 5, \"12\": 2, \"106\": 5, \"127\": 1, \"114\": 2}, \"113\": {\"113\": 87, \"117\": 7, \"109\": 4, \"126\": 1, \"26\": 4, \"118\": 3, \"18\": 3, \"93\": 1, \"123\": 2, \"96\": 1, \"39\": 7}, \"123\": {\"123\": 12, \"63\": 2, \"18\": 2}, \"120\": {\"120\": 20}, \"125\": {\"125\": 83, \"6\": 1, \"36\": 10, \"94\": 5, \"27\": 1, \"106\": 2, \"15\": 4, \"111\": 1, \"109\": 1}, \"89\": {\"89\": 21, \"116\": 1, \"69\": 1, \"16\": 1, \"30\": 1, \"102\": 1, \"11\": 2}, \"9\": {\"9\": 29, \"66\": 1, \"104\": 1, \"5\": 1}, \"31\": {\"102\": 2, \"92\": 1, \"50\": 1, \"31\": 12, \"76\": 1, \"90\": 1, \"116\": 2}, \"62\": {\"62\": 87, \"33\": 1, \"107\": 2, \"116\": 1, \"14\": 10, \"90\": 4, \"84\": 3, \"87\": 1, \"11\": 1, \"126\": 1, \"109\": 1, \"113\": 1, \"16\": 1}, \"49\": {\"29\": 1, \"101\": 1, \"48\": 1, \"105\": 1, \"49\": 1, \"118\": 1, \"1\": 1, \"77\": 1, \"22\": 1, \"80\": 1, \"44\": 1, \"72\": 1, \"70\": 1, \"50\": 1, \"42\": 2, \"40\": 1, \"69\": 1, \"6\": 2, \"87\": 1, \"60\": 1, \"5\": 2}, \"23\": {\"117\": 1, \"128\": 1, \"23\": 5, \"70\": 3, \"83\": 1, \"92\": 1, \"98\": 1, \"39\": 1, \"7\": 1, \"18\": 1, \"109\": 1, \"87\": 1, \"64\": 2, \"69\": 2, \"31\": 1, \"49\": 1, \"121\": 1, \"126\": 1, \"118\": 1, \"108\": 1, \"4\": 1, \"85\": 1, \"21\": 2}, \"55\": {\"55\": 14, \"88\": 1, \"60\": 1}, \"128\": {\"127\": 6, \"57\": 1, \"128\": 7, \"44\": 2, \"50\": 1, \"0\": 2, \"122\": 2, \"107\": 1, \"110\": 1, \"7\": 4, \"41\": 2, \"129\": 1, \"85\": 1, \"60\": 1}, \"71\": {\"71\": 58, \"99\": 2, \"3\": 1, \"49\": 1, \"26\": 1, \"4\": 3, \"114\": 2}, \"51\": {\"51\": 14, \"8\": 2}, \"7\": {\"7\": 79, \"10\": 1, \"65\": 1, \"34\": 1, \"99\": 1, \"91\": 1, \"86\": 1, \"127\": 13, \"8\": 3, \"3\": 1, \"112\": 1, \"0\": 1, \"124\": 1, \"105\": 1}, \"117\": {\"117\": 86, \"43\": 1, \"26\": 3, \"39\": 6, \"113\": 6, \"18\": 2}, \"28\": {\"28\": 14, \"87\": 1, \"70\": 1}, \"127\": {\"7\": 11, \"127\": 108, \"9\": 1, \"41\": 1, \"3\": 1, \"4\": 2, \"19\": 2, \"17\": 1, \"128\": 1}, \"57\": {\"57\": 20}, \"78\": {\"117\": 1, \"23\": 1, \"78\": 5, \"22\": 1, \"110\": 1, \"92\": 1, \"54\": 1, \"40\": 1, \"21\": 1, \"38\": 1, \"120\": 1, \"61\": 1}, \"87\": {\"40\": 13, \"115\": 2, \"48\": 2, \"87\": 54, \"107\": 14, \"32\": 1, \"1\": 5, \"90\": 4, \"88\": 1, \"14\": 3, \"11\": 2, \"16\": 1, \"84\": 6, \"50\": 1, \"100\": 1, \"78\": 2, \"70\": 1, \"29\": 1, \"86\": 1, \"62\": 2, \"117\": 1, \"44\": 1, \"93\": 1}, \"40\": {\"40\": 94, \"79\": 1, \"129\": 2, \"39\": 1, \"88\": 1, \"107\": 16, \"1\": 6, \"11\": 1, \"105\": 1, \"69\": 1, \"122\": 2, \"32\": 1, \"110\": 1}, \"81\": {\"81\": 30, \"18\": 2}, \"2\": {\"2\": 22, \"96\": 1, \"67\": 1, \"113\": 1, \"118\": 1, \"39\": 1, \"26\": 1}, \"58\": {\"58\": 14, \"6\": 1, \"101\": 1}, \"68\": {\"68\": 12, \"52\": 2, \"2\": 1, \"0\": 1}, \"20\": {\"20\": 7, \"115\": 1, \"34\": 1, \"45\": 1, \"1\": 1, \"60\": 1, \"107\": 1, \"36\": 1, \"76\": 2}, \"35\": {\"35\": 9, \"91\": 1, \"0\": 2}, \"96\": {\"96\": 16, \"118\": 1, \"16\": 1, \"43\": 1, \"92\": 1}, \"84\": {\"84\": 93, \"14\": 3, \"62\": 5, \"87\": 1, \"16\": 1, \"82\": 1, \"31\": 1, \"44\": 2, \"90\": 1}, \"13\": {\"64\": 1, \"13\": 7, \"16\": 1, \"43\": 2, \"80\": 1, \"93\": 1, \"119\": 1, \"69\": 1, \"26\": 1}, \"64\": {\"64\": 18, \"120\": 1, \"16\": 1}, \"112\": {\"112\": 8, \"5\": 1, \"42\": 2, \"75\": 1, \"59\": 1, \"94\": 1, \"4\": 1, \"108\": 1}, \"103\": {\"5\": 1, \"103\": 9, \"66\": 2, \"105\": 1, \"114\": 1, \"47\": 1, \"29\": 1}, \"65\": {\"65\": 11, \"63\": 1}, \"118\": {\"118\": 47, \"16\": 6, \"109\": 12, \"69\": 2, \"96\": 1, \"92\": 2, \"102\": 7, \"26\": 8, \"113\": 5, \"88\": 1, \"33\": 3, \"89\": 2, \"93\": 3, \"39\": 1}, \"88\": {\"64\": 1, \"103\": 1, \"9\": 1, \"118\": 4, \"88\": 25, \"14\": 1, \"68\": 1, \"20\": 1, \"69\": 1, \"38\": 1, \"109\": 10, \"87\": 5, \"39\": 3, \"99\": 4, \"93\": 1, \"110\": 1, \"117\": 1, \"113\": 5, \"105\": 7, \"18\": 2, \"16\": 1, \"70\": 3, \"108\": 5, \"36\": 2, \"62\": 2, \"120\": 2, \"40\": 2, \"90\": 1, \"66\": 1, \"44\": 2, \"114\": 2, \"71\": 1, \"107\": 3, \"85\": 1, \"21\": 2, \"3\": 2, \"106\": 1, \"1\": 2, \"127\": 1}, \"85\": {\"85\": 34, \"108\": 1, \"3\": 1}, \"5\": {\"5\": 86, \"105\": 6, \"71\": 1, \"126\": 1, \"1\": 2, \"3\": 5, \"4\": 5, \"127\": 1, \"18\": 1, \"99\": 1, \"114\": 2, \"88\": 1}, \"93\": {\"118\": 3, \"93\": 85, \"80\": 2, \"16\": 5, \"82\": 1, \"92\": 1, \"90\": 5, \"69\": 2, \"33\": 10, \"102\": 11, \"11\": 2, \"84\": 3, \"109\": 5, \"62\": 1, \"43\": 1, \"88\": 1}, \"43\": {\"2\": 1, \"43\": 17, \"63\": 1, \"39\": 3, \"109\": 4, \"88\": 2, \"82\": 2, \"89\": 2, \"26\": 4, \"69\": 2, \"93\": 3, \"33\": 2, \"64\": 2, \"13\": 1, \"118\": 2, \"102\": 3, \"81\": 1, \"16\": 3, \"11\": 1}, \"67\": {\"67\": 12, \"89\": 1, \"43\": 1, \"96\": 2}, \"48\": {\"48\": 2, \"82\": 1, \"77\": 1, \"9\": 4, \"53\": 1, \"7\": 2, \"11\": 1, \"10\": 1, \"69\": 1, \"119\": 1, \"102\": 1}, \"73\": {\"73\": 21, \"51\": 2, \"12\": 1, \"92\": 1, \"30\": 2, \"36\": 3, \"97\": 1, \"106\": 1, \"98\": 1, \"24\": 1, \"8\": 1, \"111\": 2, \"33\": 1, \"94\": 2}, \"34\": {\"48\": 1, \"73\": 2, \"52\": 1, \"34\": 2, \"23\": 2, \"72\": 4, \"107\": 1, \"111\": 3, \"97\": 1, \"12\": 1, \"84\": 1, \"106\": 1, \"90\": 1, \"19\": 1, \"87\": 1, \"100\": 1, \"51\": 2, \"36\": 2, \"29\": 1, \"30\": 1, \"27\": 1, \"62\": 1}, \"91\": {\"112\": 1, \"91\": 12, \"66\": 1, \"68\": 1, \"72\": 1, \"101\": 2, \"69\": 1, \"65\": 1, \"35\": 1, \"7\": 1, \"74\": 1, \"98\": 1}, \"105\": {\"105\": 117, \"5\": 3, \"114\": 3, \"103\": 1}, \"10\": {\"10\": 46, \"91\": 1, \"128\": 1, \"37\": 2, \"24\": 1, \"95\": 1, \"74\": 1, \"12\": 2, \"19\": 2, \"30\": 3, \"122\": 3, \"114\": 1, \"70\": 4, \"0\": 5, \"105\": 4, \"1\": 2, \"8\": 2, \"87\": 4, \"110\": 1, \"40\": 1, \"108\": 3, \"127\": 4, \"101\": 2, \"17\": 1, \"35\": 1, \"66\": 1, \"14\": 2, \"62\": 1, \"7\": 2, \"5\": 1, \"3\": 1}, \"61\": {\"61\": 13, \"121\": 1, \"67\": 2}, \"74\": {\"74\": 15, \"82\": 1}, \"4\": {\"4\": 66, \"66\": 1, \"9\": 1, \"110\": 2, \"5\": 7, \"3\": 8, \"105\": 4, \"108\": 1, \"17\": 1, \"71\": 3, \"113\": 1, \"98\": 1}, \"37\": {\"101\": 2, \"37\": 14}, \"19\": {\"19\": 10, \"107\": 1, \"103\": 1, \"9\": 2, \"129\": 2, \"14\": 4, \"124\": 2, \"100\": 1, \"44\": 1, \"85\": 1, \"127\": 1, \"122\": 1, \"32\": 2, \"40\": 2, \"128\": 1}, \"44\": {\"44\": 37, \"76\": 1, \"122\": 2, \"87\": 5, \"1\": 2, \"11\": 1, \"29\": 4, \"109\": 1, \"84\": 5, \"88\": 1, \"39\": 1, \"90\": 1, \"50\": 2, \"17\": 1, \"115\": 1, \"14\": 1, \"129\": 1, \"107\": 1, \"69\": 1, \"117\": 2, \"93\": 1}, \"52\": {\"52\": 12, \"24\": 1, \"91\": 1, \"58\": 1, \"42\": 1}, \"92\": {\"92\": 28, \"90\": 1, \"80\": 2, \"93\": 1}, \"33\": {\"33\": 109, \"102\": 8, \"16\": 5, \"93\": 1, \"69\": 3, \"116\": 1, \"109\": 1}, \"45\": {\"34\": 1, \"129\": 1, \"45\": 12, \"50\": 2}, \"11\": {\"11\": 48, \"109\": 8, \"29\": 1, \"64\": 1, \"82\": 8, \"33\": 15, \"62\": 4, \"39\": 1, \"40\": 2, \"88\": 4, \"93\": 5, \"90\": 4, \"102\": 5, \"118\": 1, \"16\": 7, \"43\": 2, \"89\": 1, \"44\": 2, \"69\": 3, \"120\": 1, \"84\": 4, \"87\": 1}, \"129\": {\"45\": 1, \"129\": 15, \"50\": 1, \"19\": 1, \"105\": 1, \"82\": 1, \"44\": 3, \"84\": 1, \"1\": 1, \"114\": 3, \"107\": 1, \"4\": 1, \"11\": 1, \"5\": 1}, \"116\": {\"116\": 13, \"69\": 1, \"44\": 1, \"29\": 1, \"11\": 2, \"87\": 3, \"89\": 1, \"120\": 1, \"26\": 1, \"16\": 1, \"84\": 1, \"33\": 1, \"107\": 1}, \"75\": {\"75\": 14, \"6\": 2}, \"41\": {\"41\": 11, \"112\": 2, \"124\": 1, \"42\": 1, \"128\": 1}, \"21\": {\"118\": 2, \"21\": 33, \"43\": 2, \"64\": 2, \"69\": 1, \"117\": 2, \"113\": 1, \"8\": 1, \"126\": 3, \"94\": 1}, \"69\": {\"69\": 63, \"61\": 1, \"33\": 6, \"11\": 1, \"43\": 2, \"93\": 2, \"102\": 5, \"16\": 1, \"13\": 2, \"126\": 1}, \"16\": {\"16\": 54, \"118\": 3, \"93\": 6, \"43\": 4, \"109\": 8, \"33\": 13, \"102\": 6, \"90\": 1, \"116\": 2, \"62\": 1, \"14\": 1, \"126\": 1, \"11\": 5, \"84\": 1, \"26\": 1, \"88\": 1}, \"25\": {\"25\": 12, \"58\": 2, \"37\": 1, \"27\": 1}, \"12\": {\"12\": 55, \"41\": 2, \"111\": 8, \"8\": 6, \"73\": 2, \"59\": 1, \"0\": 9, \"15\": 2, \"94\": 1, \"30\": 1, \"127\": 3, \"106\": 1, \"98\": 4, \"10\": 1, \"46\": 1, \"35\": 1, \"72\": 1, \"101\": 1, \"83\": 1, \"124\": 1, \"88\": 1, \"7\": 1}, \"72\": {\"72\": 24, \"68\": 1, \"37\": 1, \"111\": 1, \"12\": 1}, \"0\": {\"51\": 2, \"30\": 5, \"0\": 56, \"111\": 6, \"65\": 1, \"101\": 2, \"95\": 1, \"98\": 3, \"12\": 12, \"127\": 6, \"10\": 3, \"7\": 2, \"105\": 1, \"106\": 2, \"91\": 2, \"94\": 1, \"8\": 4, \"72\": 2, \"126\": 1, \"73\": 1, \"15\": 1, \"36\": 1, \"108\": 1}, \"50\": {\"50\": 14, \"14\": 2}, \"107\": {\"107\": 111, \"129\": 2, \"32\": 5, \"40\": 15, \"1\": 1, \"87\": 2, \"62\": 1, \"84\": 1, \"122\": 1, \"14\": 1}, \"124\": {\"124\": 115, \"41\": 1, \"71\": 1, \"8\": 4, \"98\": 2, \"127\": 1}, \"53\": {\"53\": 10, \"105\": 1, \"48\": 2, \"1\": 2, \"98\": 1, \"60\": 1, \"117\": 1, \"46\": 1, \"34\": 1}, \"66\": {\"66\": 12, \"9\": 1, \"34\": 2, \"70\": 1}, \"47\": {\"47\": 12}, \"24\": {\"24\": 12, \"71\": 2, \"25\": 2, \"68\": 1, \"37\": 1, \"73\": 4, \"111\": 1, \"91\": 1, \"127\": 2, \"30\": 1, \"7\": 1, \"106\": 1, \"36\": 4, \"15\": 4, \"12\": 3, \"42\": 1, \"124\": 2, \"94\": 1, \"5\": 1, \"85\": 1, \"125\": 1, \"26\": 1}, \"95\": {\"95\": 29, \"123\": 1, \"6\": 1, \"49\": 1}, \"98\": {\"98\": 61, \"47\": 1, \"105\": 1, \"99\": 1, \"111\": 2, \"12\": 6, \"73\": 1, \"5\": 2, \"44\": 1, \"108\": 2, \"8\": 5, \"124\": 7, \"0\": 1, \"7\": 5, \"127\": 5, \"85\": 1, \"42\": 1, \"71\": 1, \"30\": 1, \"113\": 1}, \"63\": {\"63\": 15, \"123\": 1}, \"3\": {\"3\": 75, \"103\": 1, \"85\": 1, \"114\": 1, \"83\": 1, \"127\": 2, \"86\": 1, \"39\": 1, \"128\": 2, \"4\": 8, \"105\": 4, \"98\": 1, \"110\": 1, \"108\": 2, \"113\": 1, \"56\": 1, \"49\": 1, \"99\": 1, \"5\": 2, \"88\": 1, \"71\": 4, \"7\": 3, \"18\": 1}, \"14\": {\"14\": 70, \"62\": 8, \"84\": 2}, \"1\": {\"122\": 2, \"1\": 83, \"44\": 1, \"40\": 7, \"114\": 5, \"110\": 3, \"87\": 5, \"60\": 1, \"107\": 1}, \"38\": {\"38\": 14, \"71\": 1, \"114\": 1}, \"110\": {\"110\": 26, \"122\": 3, \"88\": 6, \"109\": 1, \"32\": 2, \"23\": 1, \"71\": 1, \"62\": 3, \"105\": 8, \"107\": 2, \"40\": 4, \"5\": 7, \"18\": 2, \"114\": 5, \"108\": 1, \"3\": 1, \"70\": 4, \"4\": 3, \"99\": 1, \"128\": 1, \"19\": 1, \"60\": 2, \"87\": 2, \"30\": 1, \"14\": 1, \"106\": 1, \"1\": 1, \"126\": 1}, \"17\": {\"67\": 1, \"65\": 1, \"39\": 1, \"95\": 1, \"19\": 1, \"91\": 1, \"7\": 3, \"71\": 1, \"109\": 1, \"23\": 1, \"127\": 2, \"4\": 1, \"78\": 1}, \"30\": {\"30\": 44, \"124\": 2, \"42\": 1, \"94\": 5, \"98\": 3, \"12\": 1, \"73\": 1, \"111\": 2, \"7\": 1, \"106\": 3, \"8\": 5, \"0\": 5, \"102\": 1, \"101\": 1, \"95\": 2, \"128\": 1, \"24\": 1, \"125\": 1, \"15\": 2, \"3\": 2}, \"56\": {\"56\": 6, \"71\": 1, \"42\": 1, \"41\": 1, \"23\": 1, \"46\": 1, \"75\": 1}, \"27\": {\"52\": 2, \"83\": 2, \"101\": 1, \"124\": 4, \"36\": 8, \"59\": 1, \"27\": 22, \"72\": 2, \"12\": 2, \"111\": 7, \"15\": 6, \"70\": 1, \"4\": 2, \"94\": 3, \"125\": 8, \"106\": 5, \"98\": 2, \"108\": 1, \"8\": 1, \"113\": 1, \"51\": 2, \"47\": 1, \"56\": 1, \"25\": 1, \"24\": 2, \"42\": 1, \"49\": 1, \"6\": 1, \"0\": 1, \"30\": 2, \"126\": 1, \"39\": 1}, \"104\": {\"104\": 13, \"9\": 1, \"66\": 2}, \"97\": {\"56\": 2, \"97\": 9, \"42\": 1, \"124\": 1, \"15\": 1, \"111\": 1, \"6\": 1, \"52\": 1, \"59\": 1, \"12\": 1, \"36\": 1}, \"42\": {\"97\": 3, \"112\": 2, \"25\": 1, \"42\": 5, \"125\": 2, \"108\": 1, \"19\": 1, \"124\": 1, \"4\": 2, \"27\": 1, \"105\": 1, \"58\": 1, \"17\": 2, \"24\": 2, \"71\": 1, \"36\": 1, \"15\": 1}, \"39\": {\"96\": 1, \"39\": 53, \"123\": 1, \"81\": 3, \"121\": 4, \"126\": 5, \"18\": 5, \"117\": 13, \"109\": 4, \"113\": 10, \"118\": 1, \"26\": 3, \"21\": 2, \"2\": 1, \"23\": 2}, \"70\": {\"93\": 3, \"116\": 1, \"105\": 3, \"63\": 1, \"31\": 1, \"98\": 3, \"90\": 6, \"60\": 2, \"86\": 1, \"127\": 5, \"70\": 6, \"5\": 2, \"3\": 4, \"33\": 3, \"62\": 2, \"44\": 1, \"4\": 3, \"108\": 3, \"88\": 4, \"84\": 1, \"118\": 1, \"47\": 1, \"80\": 1, \"120\": 1, \"17\": 1, \"87\": 3, \"43\": 1, \"100\": 1, \"46\": 1, \"99\": 1, \"64\": 1, \"126\": 1, \"8\": 1, \"114\": 1, \"109\": 1}, \"86\": {\"86\": 19, \"114\": 2, \"70\": 1, \"7\": 3, \"127\": 2, \"4\": 1}, \"119\": {\"119\": 16}, \"77\": {\"77\": 15, \"65\": 1}, \"59\": {\"68\": 1, \"59\": 4, \"34\": 1, \"98\": 1, \"6\": 1, \"8\": 1, \"51\": 2, \"97\": 1}, \"22\": {\"76\": 1, \"122\": 1, \"22\": 10, \"40\": 1, \"62\": 1, \"70\": 1, \"50\": 1}, \"79\": {\"79\": 11, \"17\": 1}, \"80\": {\"80\": 14, \"11\": 1, \"16\": 1}, \"111\": {\"111\": 110, \"125\": 1, \"97\": 1, \"73\": 4, \"30\": 3, \"12\": 6, \"0\": 2, \"8\": 1, \"114\": 1, \"72\": 1, \"27\": 1, \"15\": 1}, \"82\": {\"82\": 24, \"45\": 1, \"69\": 3}, \"126\": {\"126\": 101, \"78\": 1, \"39\": 5, \"21\": 4, \"117\": 2, \"113\": 2, \"18\": 5, \"118\": 1, \"81\": 2, \"88\": 1}, \"32\": {\"32\": 20, \"45\": 1, \"107\": 4, \"122\": 3, \"94\": 1, \"20\": 1, \"40\": 1, \"44\": 1}, \"106\": {\"106\": 76, \"119\": 1, \"73\": 3, \"94\": 1, \"15\": 7, \"30\": 2, \"27\": 3, \"36\": 4, \"52\": 1, \"18\": 1, \"125\": 1}, \"60\": {\"84\": 1, \"60\": 13, \"105\": 1, \"129\": 2, \"82\": 1, \"5\": 1, \"110\": 1, \"79\": 1, \"22\": 1, \"76\": 2, \"62\": 1, \"87\": 1, \"40\": 1, \"29\": 1}, \"114\": {\"114\": 73, \"4\": 1, \"1\": 4, \"3\": 3, \"110\": 2, \"5\": 6, \"70\": 1, \"105\": 5, \"108\": 1, \"40\": 4, \"8\": 1, \"129\": 1, \"38\": 2, \"20\": 1, \"128\": 1, \"107\": 1, \"39\": 1}}, \"C_5\": {\"12\": {\"12\": 91, \"7\": 1, \"55\": 1, \"17\": 1, \"45\": 1, \"9\": 1}, \"8\": {\"1\": 6, \"8\": 100, \"6\": 1, \"53\": 10, \"48\": 11, \"30\": 4, \"9\": 5, \"27\": 4, \"32\": 1}, \"29\": {\"29\": 116, \"3\": 2, \"11\": 2, \"15\": 1, \"43\": 7, \"47\": 2, \"28\": 1, \"46\": 1}, \"57\": {\"57\": 124, \"21\": 2}, \"38\": {\"38\": 32}, \"23\": {\"23\": 121, \"42\": 1, \"18\": 2}, \"56\": {\"56\": 130, \"10\": 1, \"15\": 3, \"24\": 2, \"0\": 1, \"13\": 1}, \"49\": {\"49\": 33, \"47\": 1, \"44\": 1, \"34\": 1}, \"4\": {\"4\": 89, \"50\": 1, \"32\": 2, \"45\": 2, \"25\": 1, \"55\": 3, \"7\": 1, \"30\": 1}, \"48\": {\"48\": 110, \"53\": 6, \"8\": 9, \"6\": 3, \"17\": 3, \"1\": 4, \"9\": 1}, \"21\": {\"21\": 142, \"50\": 2}, \"30\": {\"30\": 121, \"6\": 4, \"9\": 3}, \"1\": {\"1\": 126, \"48\": 8, \"8\": 10, \"53\": 3, \"6\": 1}, \"34\": {\"34\": 36}, \"35\": {\"35\": 34, \"15\": 1, \"31\": 1}, \"55\": {\"30\": 6, \"55\": 118, \"45\": 12, \"7\": 1, \"20\": 4, \"9\": 1, \"6\": 5, \"51\": 4, \"4\": 1}, \"5\": {\"5\": 112, \"34\": 1, \"40\": 3, \"44\": 4, \"19\": 2}, \"52\": {\"52\": 105, \"46\": 5, \"57\": 9, \"36\": 1, \"37\": 1, \"28\": 2, \"47\": 2, \"23\": 1}, \"6\": {\"6\": 56, \"9\": 8, \"1\": 6, \"50\": 3, \"17\": 15, \"7\": 2, \"30\": 7, \"45\": 2, \"48\": 14, \"27\": 1, \"55\": 1, \"53\": 1, \"26\": 1, \"38\": 1, \"20\": 2, \"8\": 6, \"51\": 2}, \"36\": {\"36\": 85, \"57\": 1, \"47\": 3, \"23\": 1, \"14\": 2}, \"41\": {\"41\": 28}, \"3\": {\"3\": 55, \"36\": 2, \"11\": 7, \"28\": 1, \"37\": 1, \"0\": 1, \"46\": 12, \"47\": 3, \"52\": 1, \"43\": 2, \"29\": 8, \"15\": 1, \"14\": 1, \"31\": 4, \"49\": 1}, \"28\": {\"28\": 26, \"37\": 1, \"36\": 1, \"3\": 2, \"46\": 1, \"47\": 1}, \"18\": {\"18\": 64}, \"25\": {\"25\": 112, \"41\": 1, \"21\": 2, \"19\": 2, \"5\": 2, \"20\": 5, \"50\": 11, \"9\": 1}, \"47\": {\"47\": 94, \"43\": 1, \"36\": 2, \"28\": 1, \"29\": 1, \"3\": 1}, \"13\": {\"13\": 155, \"10\": 5}, \"11\": {\"11\": 119, \"15\": 8, \"43\": 16, \"29\": 1}, \"53\": {\"53\": 93, \"6\": 1, \"27\": 3, \"8\": 19, \"17\": 1, \"1\": 13, \"48\": 9, \"32\": 1, \"20\": 1, \"5\": 2, \"25\": 1}, \"33\": {\"33\": 32}, \"46\": {\"46\": 110, \"14\": 2, \"37\": 2, \"31\": 2, \"28\": 3, \"29\": 1, \"16\": 16, \"52\": 2, \"11\": 2, \"57\": 4, \"47\": 1, \"3\": 3}, \"50\": {\"50\": 77, \"25\": 20, \"30\": 1, \"48\": 1, \"1\": 11, \"32\": 2, \"53\": 4, \"49\": 1, \"51\": 2, \"5\": 3, \"36\": 1, \"27\": 3, \"21\": 6, \"20\": 7, \"8\": 3, \"54\": 1, \"40\": 2, \"39\": 1, \"9\": 2}, \"10\": {\"10\": 62, \"24\": 2, \"13\": 4}, \"15\": {\"15\": 128, \"43\": 5, \"11\": 5}, \"44\": {\"44\": 136, \"40\": 1, \"43\": 1, \"29\": 1, \"5\": 1}, \"2\": {\"2\": 26, \"47\": 2}, \"7\": {\"7\": 26, \"12\": 2, \"30\": 2, \"55\": 2}, \"43\": {\"43\": 80, \"15\": 19, \"29\": 8, \"31\": 1, \"46\": 2, \"3\": 3, \"11\": 22, \"16\": 3}, \"32\": {\"32\": 29, \"50\": 1, \"9\": 1, \"4\": 1}, \"0\": {\"0\": 124}, \"39\": {\"39\": 20}, \"26\": {\"26\": 24}, \"27\": {\"27\": 102, \"48\": 2, \"8\": 3, \"53\": 1, \"9\": 3, \"32\": 1}, \"54\": {\"54\": 106, \"50\": 4, \"18\": 1, \"1\": 1}, \"17\": {\"17\": 112, \"6\": 1, \"48\": 3}, \"14\": {\"3\": 5, \"14\": 24, \"16\": 2, \"37\": 2, \"36\": 2, \"47\": 2, \"40\": 3, \"44\": 2, \"15\": 1, \"46\": 1}, \"16\": {\"16\": 127, \"46\": 20, \"43\": 1}, \"9\": {\"1\": 2, \"9\": 93, \"44\": 1, \"8\": 17, \"4\": 1, \"48\": 10, \"30\": 4, \"45\": 2, \"27\": 8, \"6\": 5, \"20\": 2, \"25\": 1, \"40\": 1, \"55\": 1}, \"19\": {\"19\": 140, \"4\": 4, \"33\": 2, \"25\": 3, \"21\": 2, \"50\": 1}, \"20\": {\"20\": 123, \"50\": 3, \"51\": 10, \"6\": 1, \"25\": 1}, \"37\": {\"46\": 4, \"37\": 20}, \"24\": {\"24\": 78, \"56\": 1, \"10\": 1}, \"40\": {\"40\": 114, \"34\": 1, \"44\": 4, \"21\": 1, \"14\": 1, \"36\": 1}, \"45\": {\"9\": 9, \"55\": 15, \"1\": 1, \"45\": 53, \"4\": 7, \"12\": 5, \"30\": 11, \"6\": 6, \"21\": 1, \"20\": 6, \"27\": 5, \"53\": 1, \"8\": 3, \"7\": 1}, \"22\": {\"22\": 28}, \"42\": {\"42\": 38, \"13\": 1, \"56\": 1}, \"51\": {\"51\": 112, \"20\": 3, \"55\": 1, \"25\": 2}, \"31\": {\"31\": 36}}, \"C_1\": {\"27\": {\"27\": 142}, \"2\": {\"2\": 34, \"48\": 2}, \"33\": {\"33\": 32}, \"45\": {\"45\": 136, \"42\": 3, \"30\": 2, \"19\": 7, \"1\": 8}, \"38\": {\"38\": 20, \"15\": 2, \"49\": 1, \"0\": 1}, \"4\": {\"4\": 131, \"46\": 1}, \"31\": {\"31\": 27, \"10\": 1}, \"55\": {\"55\": 110, \"57\": 3, \"56\": 2, \"3\": 11, \"54\": 5, \"1\": 1, \"16\": 1, \"44\": 1, \"0\": 4, \"47\": 1, \"20\": 1}, \"32\": {\"32\": 31, \"35\": 1}, \"57\": {\"57\": 117, \"29\": 6, \"1\": 2, \"56\": 13, \"20\": 1, \"19\": 1}, \"14\": {\"14\": 14, \"30\": 1, \"53\": 3, \"9\": 3, \"8\": 1, \"26\": 1, \"45\": 1}, \"16\": {\"16\": 136, \"54\": 4}, \"34\": {\"34\": 24}, \"56\": {\"57\": 19, \"56\": 91, \"19\": 5, \"29\": 8, \"1\": 2, \"54\": 1}, \"24\": {\"24\": 87, \"49\": 1, \"22\": 11, \"10\": 7, \"31\": 1, \"11\": 1}, \"30\": {\"30\": 108, \"25\": 1, \"13\": 1, \"9\": 1, \"40\": 1}, \"17\": {\"17\": 53, \"8\": 10, \"53\": 1}, \"13\": {\"13\": 135, \"7\": 2, \"40\": 1}, \"39\": {\"39\": 24, \"15\": 1, \"21\": 1, \"10\": 2}, \"50\": {\"50\": 144, \"4\": 1, \"46\": 1}, \"20\": {\"20\": 138, \"51\": 1, \"13\": 1}, \"41\": {\"41\": 24}, \"53\": {\"53\": 117, \"14\": 3, \"9\": 5, \"17\": 1}, \"48\": {\"48\": 142}, \"36\": {\"36\": 64}, \"8\": {\"8\": 137, \"17\": 3}, \"15\": {\"15\": 124, \"11\": 8}, \"40\": {\"40\": 150, \"12\": 2, \"51\": 2, \"20\": 1, \"13\": 1}, \"37\": {\"37\": 32}, \"21\": {\"21\": 118, \"22\": 1, \"23\": 1}, \"35\": {\"35\": 32, \"44\": 4}, \"49\": {\"49\": 30, \"10\": 1, \"31\": 1}, \"26\": {\"26\": 24}, \"28\": {\"47\": 2, \"28\": 16, \"24\": 1, \"11\": 2, \"10\": 3, \"36\": 1, \"0\": 1, \"38\": 1, \"15\": 1}, \"12\": {\"12\": 115, \"20\": 1}, \"5\": {\"5\": 144, \"6\": 3, \"48\": 2, \"46\": 2, \"50\": 1}, \"29\": {\"29\": 105, \"57\": 15, \"20\": 2, \"56\": 9, \"19\": 1, \"51\": 1, \"1\": 1, \"3\": 3, \"12\": 1, \"55\": 1, \"40\": 1}, \"47\": {\"47\": 131, \"28\": 2, \"0\": 1, \"22\": 2, \"52\": 2, \"11\": 1, \"15\": 1}, \"10\": {\"10\": 81, \"24\": 9, \"22\": 6}, \"18\": {\"18\": 69, \"46\": 1, \"56\": 2}, \"9\": {\"9\": 119, \"14\": 1, \"53\": 6}, \"3\": {\"3\": 130, \"55\": 6, \"44\": 2, \"56\": 1, \"51\": 1}, \"52\": {\"52\": 124, \"31\": 2, \"47\": 3, \"43\": 3}, \"25\": {\"25\": 134, \"45\": 2}, \"19\": {\"19\": 127, \"45\": 5, \"42\": 1, \"1\": 10, \"56\": 2, \"57\": 2, \"20\": 3, \"29\": 3, \"25\": 3}, \"11\": {\"11\": 106, \"10\": 2, \"15\": 13, \"0\": 5, \"22\": 7, \"24\": 1, \"21\": 2}, \"7\": {\"7\": 27, \"51\": 1}, \"23\": {\"23\": 135, \"21\": 1}, \"44\": {\"44\": 117, \"35\": 4, \"55\": 1, \"15\": 1, \"0\": 3, \"38\": 1, \"32\": 2, \"3\": 2, \"57\": 1}, \"42\": {\"42\": 36, \"19\": 1, \"45\": 3}, \"54\": {\"16\": 5, \"54\": 98, \"57\": 1}, \"1\": {\"1\": 89, \"56\": 1, \"42\": 3, \"19\": 5, \"45\": 1, \"57\": 1}, \"46\": {\"46\": 83, \"6\": 2, \"4\": 8, \"8\": 1, \"5\": 16, \"17\": 2, \"20\": 1, \"50\": 5, \"48\": 1, \"13\": 1, \"40\": 4, \"41\": 2, \"51\": 2}, \"6\": {\"6\": 89, \"40\": 1, \"46\": 1, \"5\": 2, \"50\": 1, \"48\": 2}, \"43\": {\"43\": 128, \"39\": 1, \"10\": 3, \"24\": 5, \"22\": 3, \"31\": 1, \"27\": 3}, \"51\": {\"51\": 141, \"40\": 1}, \"22\": {\"22\": 108, \"24\": 9, \"31\": 3, \"21\": 4, \"43\": 2, \"11\": 1, \"10\": 8, \"49\": 1}, \"0\": {\"0\": 120, \"38\": 1, \"15\": 5, \"11\": 2}}, \"C_4\": {\"32\": {\"32\": 24}, \"2\": {\"2\": 34, \"10\": 1, \"24\": 1}, \"41\": {\"41\": 34, \"35\": 1, \"52\": 1}, \"11\": {\"11\": 81, \"37\": 1, \"15\": 14, \"32\": 1, \"16\": 1, \"46\": 2, \"0\": 1, \"22\": 1}, \"57\": {\"57\": 99, \"41\": 1}, \"6\": {\"20\": 5, \"19\": 3, \"33\": 3, \"6\": 33, \"40\": 11, \"3\": 19, \"5\": 1, \"31\": 1, \"53\": 7, \"9\": 1, \"4\": 6, \"26\": 1, \"21\": 1, \"44\": 4, \"48\": 2, \"25\": 5, \"27\": 1, \"55\": 2, \"36\": 2, \"51\": 1, \"50\": 2, \"29\": 1}, \"23\": {\"23\": 134, \"18\": 2}, \"52\": {\"57\": 10, \"23\": 2, \"52\": 96, \"41\": 3, \"47\": 3, \"5\": 2}, \"38\": {\"38\": 35, \"43\": 1, \"24\": 4}, \"50\": {\"50\": 70, \"20\": 8, \"9\": 14, \"3\": 2, \"30\": 5, \"17\": 4, \"55\": 1, \"8\": 6, \"51\": 5, \"40\": 3, \"4\": 1, \"25\": 1, \"27\": 9, \"48\": 1, \"53\": 1, \"6\": 1}, \"55\": {\"55\": 124, \"31\": 8, \"1\": 1, \"29\": 1, \"15\": 2, \"11\": 1, \"44\": 2, \"5\": 2, \"46\": 2, \"40\": 5, \"33\": 1, \"47\": 3}, \"46\": {\"11\": 7, \"32\": 2, \"15\": 18, \"52\": 5, \"16\": 6, \"57\": 11, \"47\": 17, \"46\": 67, \"41\": 1, \"1\": 4, \"56\": 1, \"5\": 4, \"23\": 2, \"49\": 1, \"35\": 3, \"7\": 1, \"0\": 1, \"43\": 1, \"22\": 1, \"29\": 1}, \"37\": {\"37\": 24}, \"20\": {\"20\": 107, \"50\": 1, \"51\": 7, \"55\": 1, \"3\": 1, \"53\": 1}, \"49\": {\"49\": 19, \"7\": 1}, \"45\": {\"45\": 84, \"12\": 7, \"8\": 1, \"21\": 3, \"51\": 1}, \"54\": {\"54\": 99, \"48\": 7, \"36\": 1, \"18\": 1}, \"3\": {\"3\": 72, \"4\": 10, \"28\": 2, \"25\": 6, \"53\": 8, \"6\": 6, \"9\": 2, \"40\": 4, \"36\": 4, \"48\": 2, \"44\": 4, \"55\": 1, \"34\": 1, \"26\": 1, \"54\": 1}, \"13\": {\"13\": 152}, \"18\": {\"18\": 106, \"6\": 1, \"23\": 1}, \"21\": {\"21\": 117, \"30\": 3, \"27\": 3, \"45\": 1, \"8\": 2}, \"43\": {\"43\": 139, \"0\": 4, \"11\": 1}, \"47\": {\"47\": 86, \"35\": 1, \"57\": 12, \"41\": 2, \"1\": 3, \"5\": 8, \"52\": 1, \"46\": 7}, \"4\": {\"3\": 15, \"4\": 99, \"6\": 4, \"34\": 1, \"40\": 2, \"50\": 1, \"9\": 4, \"48\": 2, \"25\": 3, \"20\": 1}, \"12\": {\"12\": 89, \"45\": 3}, \"9\": {\"9\": 117, \"50\": 6, \"8\": 1, \"51\": 2, \"36\": 1, \"27\": 1}, \"7\": {\"7\": 21, \"11\": 1, \"1\": 1, \"15\": 1}, \"56\": {\"56\": 98, \"22\": 2, \"43\": 6, \"10\": 5, \"0\": 1}, \"28\": {\"28\": 30, \"40\": 1, \"33\": 1}, \"44\": {\"44\": 109, \"19\": 14, \"34\": 2, \"33\": 1, \"6\": 1, \"28\": 2, \"40\": 1, \"55\": 1, \"3\": 1}, \"24\": {\"24\": 55, \"56\": 1}, \"33\": {\"33\": 35, \"40\": 1}, \"35\": {\"35\": 40}, \"51\": {\"51\": 124, \"20\": 13, \"44\": 1}, \"39\": {\"39\": 20}, \"36\": {\"36\": 90, \"48\": 1, \"44\": 1}, \"19\": {\"19\": 120, \"44\": 8, \"4\": 1, \"40\": 8, \"25\": 1, \"55\": 2}, \"0\": {\"15\": 3, \"0\": 59, \"31\": 1, \"7\": 1, \"43\": 7, \"37\": 1, \"55\": 3, \"47\": 1, \"5\": 3, \"38\": 1}, \"15\": {\"15\": 128, \"0\": 2, \"11\": 3, \"46\": 2, \"16\": 1}, \"29\": {\"29\": 121, \"44\": 2, \"47\": 1}, \"30\": {\"30\": 39, \"8\": 2, \"21\": 3}, \"1\": {\"1\": 36, \"57\": 2, \"47\": 1, \"35\": 1}, \"22\": {\"22\": 113, \"56\": 5, \"13\": 1, \"24\": 1, \"10\": 7, \"38\": 1}, \"40\": {\"40\": 116, \"31\": 1, \"19\": 4, \"25\": 2, \"44\": 6, \"33\": 4, \"6\": 7, \"3\": 1, \"28\": 3, \"5\": 1, \"55\": 1}, \"8\": {\"8\": 98, \"50\": 2, \"27\": 15, \"17\": 9, \"21\": 4}, \"53\": {\"53\": 122, \"36\": 2, \"34\": 1, \"6\": 1, \"48\": 5, \"25\": 1, \"4\": 3, \"3\": 2, \"50\": 1}, \"34\": {\"34\": 23, \"25\": 1}, \"10\": {\"10\": 118, \"22\": 3, \"56\": 1}, \"31\": {\"31\": 28}, \"17\": {\"17\": 67, \"8\": 2, \"48\": 1, \"27\": 9, \"51\": 1}, \"16\": {\"16\": 94, \"41\": 1, \"46\": 1}, \"42\": {\"42\": 32}, \"27\": {\"27\": 129, \"8\": 7, \"17\": 4, \"21\": 2}, \"14\": {\"14\": 9, \"11\": 1, \"29\": 1, \"46\": 1, \"43\": 2, \"32\": 1, \"15\": 1}, \"25\": {\"25\": 81, \"3\": 7, \"4\": 6, \"40\": 7, \"53\": 7, \"6\": 1, \"36\": 2, \"20\": 7, \"48\": 3, \"51\": 1}, \"48\": {\"48\": 118, \"3\": 2, \"53\": 8, \"4\": 1, \"54\": 1, \"8\": 1, \"27\": 1}, \"26\": {\"26\": 23, \"4\": 1}, \"5\": {\"5\": 59, \"57\": 6, \"47\": 16, \"29\": 11, \"35\": 2, \"46\": 7, \"23\": 1, \"1\": 1, \"33\": 1, \"37\": 1, \"52\": 1, \"16\": 1, \"15\": 1}}, \"C_3\": {\"14\": {\"55\": 6, \"7\": 1, \"14\": 18, \"28\": 1, \"43\": 3, \"31\": 1, \"49\": 1, \"15\": 1, \"10\": 1, \"56\": 1, \"11\": 3, \"24\": 3}, \"18\": {\"18\": 83, \"52\": 1}, \"30\": {\"30\": 112, \"48\": 5, \"9\": 2, \"3\": 1}, \"16\": {\"16\": 152, \"35\": 1, \"23\": 2, \"15\": 1}, \"1\": {\"1\": 94, \"52\": 1, \"47\": 1, \"5\": 1, \"34\": 1, \"57\": 1, \"29\": 1}, \"20\": {\"20\": 127, \"21\": 2, \"51\": 2, \"50\": 1}, \"7\": {\"7\": 34, \"13\": 1, \"31\": 1}, \"52\": {\"52\": 124, \"18\": 2, \"29\": 2, \"48\": 1, \"57\": 1}, \"9\": {\"9\": 124, \"3\": 2, \"21\": 2, \"25\": 1, \"46\": 1, \"48\": 6, \"30\": 2, \"20\": 1, \"19\": 1}, \"23\": {\"23\": 142, \"47\": 1, \"37\": 1}, \"55\": {\"55\": 140, \"26\": 3, \"5\": 4, \"46\": 2, \"47\": 4, \"13\": 2, \"44\": 1, \"11\": 3, \"14\": 1, \"57\": 2, \"1\": 2}, \"29\": {\"29\": 123, \"48\": 2, \"1\": 1}, \"56\": {\"56\": 115, \"24\": 14, \"10\": 3, \"31\": 1, \"49\": 1}, \"3\": {\"29\": 5, \"6\": 8, \"3\": 70, \"50\": 5, \"26\": 2, \"30\": 7, \"9\": 5, \"53\": 1, \"41\": 1, \"52\": 1, \"48\": 3, \"55\": 2, \"27\": 2, \"1\": 2, \"25\": 6, \"46\": 3, \"44\": 1}, \"42\": {\"42\": 28}, \"6\": {\"30\": 11, \"6\": 29, \"50\": 4, \"55\": 3, \"32\": 1, \"25\": 4, \"46\": 3, \"40\": 4, \"27\": 3, \"52\": 1, \"3\": 7, \"53\": 3, \"20\": 2, \"9\": 5, \"17\": 1, \"21\": 2, \"48\": 2, \"33\": 1, \"29\": 1, \"44\": 1}, \"5\": {\"5\": 76, \"34\": 2, \"47\": 8, \"15\": 13, \"1\": 2, \"57\": 11, \"11\": 2, \"46\": 1, \"16\": 1}, \"27\": {\"27\": 139, \"17\": 5}, \"47\": {\"47\": 75, \"5\": 6, \"15\": 9, \"34\": 1, \"55\": 1}, \"39\": {\"39\": 16}, \"34\": {\"34\": 30, \"26\": 1, \"1\": 1}, \"4\": {\"4\": 113, \"2\": 2, \"38\": 1, \"27\": 5, \"40\": 2, \"19\": 1, \"8\": 1, \"53\": 1}, \"24\": {\"24\": 97, \"10\": 7}, \"46\": {\"46\": 78, \"55\": 2, \"6\": 2, \"47\": 3, \"30\": 3, \"3\": 9, \"1\": 1, \"48\": 4, \"9\": 3, \"26\": 1, \"42\": 2, \"41\": 1, \"25\": 1, \"50\": 2, \"29\": 6}, \"50\": {\"46\": 3, \"50\": 59, \"8\": 2, \"26\": 1, \"21\": 6, \"17\": 6, \"25\": 7, \"44\": 3, \"20\": 4, \"53\": 13, \"38\": 1, \"29\": 1, \"6\": 3, \"27\": 6, \"3\": 5, \"40\": 3, \"9\": 1, \"41\": 1, \"30\": 1}, \"38\": {\"38\": 24, \"8\": 1, \"17\": 2, \"40\": 1}, \"54\": {\"54\": 98, \"36\": 2}, \"35\": {\"35\": 27, \"16\": 1}, \"2\": {\"2\": 32}, \"41\": {\"41\": 19, \"33\": 3, \"9\": 2, \"3\": 1, \"6\": 1, \"30\": 1, \"50\": 1}, \"57\": {\"57\": 111, \"34\": 1, \"5\": 1, \"1\": 5}, \"25\": {\"25\": 101, \"50\": 12, \"6\": 4, \"3\": 6, \"44\": 3, \"21\": 8, \"30\": 2, \"9\": 7, \"40\": 5, \"20\": 2}, \"48\": {\"48\": 79, \"33\": 2, \"9\": 11, \"18\": 1, \"17\": 4, \"3\": 6, \"29\": 1, \"30\": 6, \"25\": 1, \"52\": 2, \"1\": 1, \"6\": 1, \"50\": 1}, \"33\": {\"33\": 25, \"27\": 1, \"50\": 2}, \"45\": {\"45\": 49, \"36\": 3, \"4\": 2, \"12\": 4, \"20\": 1, \"27\": 1}, \"13\": {\"13\": 126}, \"36\": {\"36\": 99, \"8\": 1}, \"43\": {\"43\": 130, \"49\": 1, \"0\": 1}, \"28\": {\"28\": 26, \"26\": 2}, \"0\": {\"0\": 124}, \"12\": {\"12\": 81, \"51\": 3, \"45\": 4, \"4\": 2, \"36\": 1, \"8\": 1}, \"31\": {\"31\": 28}, \"40\": {\"40\": 96, \"25\": 4, \"19\": 5, \"17\": 1, \"44\": 2, \"4\": 3, \"51\": 1, \"20\": 2, \"27\": 2}, \"44\": {\"44\": 71, \"19\": 10, \"20\": 1, \"21\": 1, \"29\": 2, \"40\": 2, \"51\": 1}, \"32\": {\"32\": 28}, \"26\": {\"26\": 22, \"57\": 1, \"52\": 1}, \"8\": {\"8\": 112, \"36\": 4}, \"10\": {\"10\": 61, \"24\": 3}, \"15\": {\"15\": 135, \"55\": 1, \"11\": 2, \"47\": 1, \"5\": 2, \"16\": 1}, \"21\": {\"21\": 104, \"2\": 1, \"27\": 1, \"25\": 4, \"40\": 3, \"20\": 7, \"50\": 5, \"19\": 1, \"53\": 1, \"33\": 1}, \"37\": {\"37\": 28}, \"17\": {\"17\": 100, \"27\": 5, \"53\": 3}, \"51\": {\"51\": 120, \"50\": 1, \"20\": 3}, \"53\": {\"53\": 126, \"36\": 5, \"17\": 2, \"27\": 7, \"50\": 3, \"19\": 1}, \"19\": {\"19\": 115, \"9\": 1, \"44\": 5, \"55\": 1, \"40\": 8, \"21\": 1, \"4\": 3, \"20\": 1, \"50\": 1}, \"49\": {\"49\": 19, \"43\": 1}, \"11\": {\"11\": 133, \"15\": 5}, \"22\": {\"22\": 121, \"13\": 9}}}, \"per_domain_accuracy\": {\"O_8\": {\"accuracy\": 0.8966145833333333, \"source?\": true}, \"O_38\": {\"accuracy\": 0.9278645833333333, \"source?\": true}, \"O_26\": {\"accuracy\": 0.7763020833333333, \"source?\": true}, \"O_20\": {\"accuracy\": 0.90234375, \"source?\": true}, \"O_50\": {\"accuracy\": 0.9213541666666667, \"source?\": true}, \"O_32\": {\"accuracy\": 0.90390625, \"source?\": true}, \"O_44\": {\"accuracy\": 0.82109375, \"source?\": true}, \"O_14\": {\"accuracy\": 0.9364583333333333, \"source?\": true}, \"W_2\": {\"accuracy\": 0.6100315126050421, \"source?\": false}, \"C_2\": {\"accuracy\": 0.8723366477272727, \"source?\": false}, \"W_4\": {\"accuracy\": 0.553883744855967, \"source?\": false}, \"W_1\": {\"accuracy\": 0.6376329787234043, \"source?\": false}, \"W_3\": {\"accuracy\": 0.6453744493392071, \"source?\": false}, \"C_5\": {\"accuracy\": 0.8439255617977528, \"source?\": false}, \"C_1\": {\"accuracy\": 0.9100274725274725, \"source?\": false}, \"C_4\": {\"accuracy\": 0.8413173652694611, \"source?\": false}, \"C_3\": {\"accuracy\": 0.8713450292397661, \"source?\": false}}}, \"history\": {\"epoch_indices\": [1, 2, 3, 4, 5, 6, 7, 8], \"train_label_loss\": [0.736683793022253, 0.47492881279350035, 0.38180298579890015, 0.32166569125769284, 0.2854521375967167, 0.26041092285893336, 0.24073556861521433, 0.22290744760518594], \"source_val_label_loss\": [0.6580881476402283, 0.4102158546447754, 0.37869396805763245, 0.3189913332462311, 0.3048633635044098, 0.2955792248249054, 0.3039296567440033, 0.27745622396469116], \"target_val_label_loss\": [3.4458439350128174, 3.9014551639556885, 4.997645854949951, 4.796481609344482, 5.202642917633057, 5.1586480140686035, 6.21140193939209, 7.624001979827881], \"source_val_acc_label\": [0.7857421875, 0.8555989583333333, 0.8634440104166666, 0.8857421875, 0.88984375, 0.8932942708333333, 0.890625, 0.8992838541666667], \"target_val_acc_label\": [0.62857732526142, 0.7311846450192625, 0.7294303797468354, 0.7347275729223995, 0.7330077050082554, 0.7313566318106769, 0.7123176940011007, 0.6984383599339571]}, \"dataset_metrics\": {\"source\": {\"train\": {\"n_unique_x\": 179200, \"n_unique_y\": 16, \"n_batch/episode\": 6720}, \"val\": {\"n_unique_x\": 38400, \"n_unique_y\": 16, \"n_batch/episode\": 960}, \"test\": {\"n_unique_x\": 38400, \"n_unique_y\": 16, \"n_batch/episode\": 960}}, \"target\": {\"train\": {\"n_unique_x\": 364101, \"n_unique_y\": 130, \"n_batch/episode\": 13150}, \"val\": {\"n_unique_x\": 77154, \"n_unique_y\": 130, \"n_batch/episode\": 1817}, \"test\": {\"n_unique_x\": 78411, \"n_unique_y\": 130, \"n_batch/episode\": 1853}}}}'"
      ]
     },
     "execution_count": 29,
     "metadata": {},
     "output_type": "execute_result"
    }
   ],
   "source": [
    "json.dumps(experiment)"
   ]
  }
 ],
 "metadata": {
  "celltoolbar": "Tags",
  "kernelspec": {
   "display_name": "Python 3 (ipykernel)",
   "language": "python",
   "name": "python3"
  },
  "language_info": {
   "codemirror_mode": {
    "name": "ipython",
    "version": 3
   },
   "file_extension": ".py",
   "mimetype": "text/x-python",
   "name": "python",
   "nbconvert_exporter": "python",
   "pygments_lexer": "ipython3",
   "version": "3.8.10"
  },
  "papermill": {
   "default_parameters": {},
   "duration": 1724.666744,
   "end_time": "2022-03-19T22:47:20.978062",
   "environment_variables": {},
   "exception": null,
   "input_path": "/mnt/wd500GB/CSC500/csc500-main/csc500-notebooks/templates/tl_ptn_template.ipynb",
   "output_path": "trial.ipynb",
   "parameters": {
    "parameters": {
     "BEST_MODEL_PATH": "./best_model.pth",
     "NUM_LOGS_PER_EPOCH": 10,
     "criteria_for_best": "target_accuracy",
     "dataset_seed": 154325,
     "datasets": [
      {
       "domain_prefix": "C_",
       "domains": [
        1,
        2,
        3,
        4,
        5
       ],
       "episode_transforms": [],
       "labels": [
        "1-10.",
        "1-11.",
        "1-15.",
        "1-16.",
        "1-17.",
        "1-18.",
        "1-19.",
        "10-4.",
        "10-7.",
        "11-1.",
        "11-14.",
        "11-17.",
        "11-20.",
        "11-7.",
        "13-20.",
        "13-8.",
        "14-10.",
        "14-11.",
        "14-14.",
        "14-7.",
        "15-1.",
        "15-20.",
        "16-1.",
        "16-16.",
        "17-10.",
        "17-11.",
        "17-2.",
        "19-1.",
        "19-16.",
        "19-19.",
        "19-20.",
        "19-3.",
        "2-10.",
        "2-11.",
        "2-17.",
        "2-18.",
        "2-20.",
        "2-3.",
        "2-4.",
        "2-5.",
        "2-6.",
        "2-7.",
        "2-8.",
        "3-13.",
        "3-18.",
        "3-3.",
        "4-1.",
        "4-10.",
        "4-11.",
        "4-19.",
        "5-5.",
        "6-15.",
        "7-10.",
        "7-14.",
        "8-18.",
        "8-20.",
        "8-3.",
        "8-8."
       ],
       "num_examples_per_domain_per_label": -1,
       "pickle_path": "/mnt/wd500GB/CSC500/csc500-main/datasets/cores.stratified_ds.2022A.pkl",
       "source_or_target_dataset": "target",
       "x_transforms": [
        "unit_mag"
       ]
      },
      {
       "domain_prefix": "W_",
       "domains": [
        1,
        2,
        3,
        4
       ],
       "episode_transforms": [],
       "labels": [
        "1-10",
        "1-12",
        "1-14",
        "1-16",
        "1-18",
        "1-19",
        "1-8",
        "10-11",
        "10-17",
        "10-4",
        "10-7",
        "11-1",
        "11-10",
        "11-19",
        "11-20",
        "11-4",
        "11-7",
        "12-19",
        "12-20",
        "12-7",
        "13-14",
        "13-18",
        "13-19",
        "13-20",
        "13-3",
        "13-7",
        "14-10",
        "14-11",
        "14-12",
        "14-13",
        "14-14",
        "14-19",
        "14-20",
        "14-7",
        "14-8",
        "14-9",
        "15-1",
        "15-19",
        "15-6",
        "16-1",
        "16-16",
        "16-19",
        "16-20",
        "17-10",
        "17-11",
        "18-1",
        "18-10",
        "18-11",
        "18-12",
        "18-13",
        "18-14",
        "18-15",
        "18-16",
        "18-17",
        "18-19",
        "18-2",
        "18-20",
        "18-4",
        "18-5",
        "18-7",
        "18-8",
        "18-9",
        "19-1",
        "19-10",
        "19-11",
        "19-12",
        "19-13",
        "19-14",
        "19-15",
        "19-19",
        "19-2",
        "19-20",
        "19-3",
        "19-4",
        "19-6",
        "19-7",
        "19-8",
        "19-9",
        "2-1",
        "2-13",
        "2-15",
        "2-3",
        "2-4",
        "2-5",
        "2-6",
        "2-7",
        "2-8",
        "20-1",
        "20-12",
        "20-14",
        "20-15",
        "20-16",
        "20-18",
        "20-19",
        "20-20",
        "20-3",
        "20-4",
        "20-5",
        "20-7",
        "20-8",
        "3-1",
        "3-13",
        "3-18",
        "3-2",
        "3-8",
        "4-1",
        "4-10",
        "4-11",
        "5-1",
        "5-5",
        "6-1",
        "6-15",
        "6-6",
        "7-10",
        "7-11",
        "7-12",
        "7-13",
        "7-14",
        "7-7",
        "7-8",
        "7-9",
        "8-1",
        "8-13",
        "8-14",
        "8-18",
        "8-20",
        "8-3",
        "8-8",
        "9-1",
        "9-7"
       ],
       "num_examples_per_domain_per_label": -1,
       "pickle_path": "/mnt/wd500GB/CSC500/csc500-main/datasets/wisig.node3-19.stratified_ds.2022A.pkl",
       "source_or_target_dataset": "target",
       "x_transforms": [
        "unit_mag"
       ]
      },
      {
       "domain_prefix": "O_",
       "domains": [
        32,
        38,
        8,
        44,
        14,
        50,
        20,
        26
       ],
       "episode_transforms": [],
       "labels": [
        "3123D52",
        "3123D65",
        "3123D79",
        "3123D80",
        "3123D54",
        "3123D70",
        "3123D7B",
        "3123D89",
        "3123D58",
        "3123D76",
        "3123D7D",
        "3123EFE",
        "3123D64",
        "3123D78",
        "3123D7E",
        "3124E4A"
       ],
       "num_examples_per_domain_per_label": 2000,
       "pickle_path": "/mnt/wd500GB/CSC500/csc500-main/datasets/oracle.Run1_framed_2000Examples_stratified_ds.2022A.pkl",
       "source_or_target_dataset": "source",
       "x_transforms": [
        "unit_mag"
       ]
      }
     ],
     "device": "cuda",
     "experiment_name": "tl_2v2:oracle.run1.framed -> cores+wisig",
     "lr": 0.0001,
     "n_epoch": 50,
     "n_query": 2,
     "n_shot": 3,
     "n_way": 16,
     "patience": 3,
     "seed": 154325,
     "test_k_factor": 2,
     "torch_default_dtype": "torch.float32",
     "train_k_factor": 3,
     "val_k_factor": 2,
     "x_net": [
      {
       "class": "nnReshape",
       "kargs": {
        "shape": [
         -1,
         1,
         2,
         256
        ]
       }
      },
      {
       "class": "Conv2d",
       "kargs": {
        "bias": false,
        "in_channels": 1,
        "kernel_size": [
         1,
         7
        ],
        "out_channels": 256,
        "padding": [
         0,
         3
        ]
       }
      },
      {
       "class": "ReLU",
       "kargs": {
        "inplace": true
       }
      },
      {
       "class": "BatchNorm2d",
       "kargs": {
        "num_features": 256
       }
      },
      {
       "class": "Conv2d",
       "kargs": {
        "bias": true,
        "in_channels": 256,
        "kernel_size": [
         2,
         7
        ],
        "out_channels": 80,
        "padding": [
         0,
         3
        ]
       }
      },
      {
       "class": "ReLU",
       "kargs": {
        "inplace": true
       }
      },
      {
       "class": "BatchNorm2d",
       "kargs": {
        "num_features": 80
       }
      },
      {
       "class": "Flatten",
       "kargs": {}
      },
      {
       "class": "Linear",
       "kargs": {
        "in_features": 20480,
        "out_features": 256
       }
      },
      {
       "class": "ReLU",
       "kargs": {
        "inplace": true
       }
      },
      {
       "class": "BatchNorm1d",
       "kargs": {
        "num_features": 256
       }
      },
      {
       "class": "Linear",
       "kargs": {
        "in_features": 256,
        "out_features": 256
       }
      }
     ]
    }
   },
   "start_time": "2022-03-19T22:18:36.311318",
   "version": "2.3.4"
  }
 },
 "nbformat": 4,
 "nbformat_minor": 5
}