{
 "cells": [
  {
   "cell_type": "markdown",
   "id": "9fea5f46",
   "metadata": {
    "papermill": {
     "duration": 0.023225,
     "end_time": "2022-03-19T18:36:09.588479",
     "exception": false,
     "start_time": "2022-03-19T18:36:09.565254",
     "status": "completed"
    },
    "tags": []
   },
   "source": [
    "# Transfer Learning Template"
   ]
  },
  {
   "cell_type": "code",
   "execution_count": 1,
   "id": "0902182a",
   "metadata": {
    "execution": {
     "iopub.execute_input": "2022-03-19T18:36:09.628260Z",
     "iopub.status.busy": "2022-03-19T18:36:09.627669Z",
     "iopub.status.idle": "2022-03-19T18:36:10.559019Z",
     "shell.execute_reply": "2022-03-19T18:36:10.558504Z"
    },
    "papermill": {
     "duration": 0.957002,
     "end_time": "2022-03-19T18:36:10.559137",
     "exception": false,
     "start_time": "2022-03-19T18:36:09.602135",
     "status": "completed"
    },
    "tags": []
   },
   "outputs": [],
   "source": [
    "%load_ext autoreload\n",
    "%autoreload 2\n",
    "%matplotlib inline\n",
    "\n",
    "    \n",
    "import os, json, sys, time, random\n",
    "import numpy as np\n",
    "import torch\n",
    "from torch.optim import Adam\n",
    "from  easydict import EasyDict\n",
    "import matplotlib.pyplot as plt\n",
    "\n",
    "from steves_models.steves_ptn import Steves_Prototypical_Network\n",
    "\n",
    "from steves_utils.lazy_iterable_wrapper import Lazy_Iterable_Wrapper\n",
    "from steves_utils.iterable_aggregator import Iterable_Aggregator\n",
    "from steves_utils.ptn_train_eval_test_jig import  PTN_Train_Eval_Test_Jig\n",
    "from steves_utils.torch_sequential_builder import build_sequential\n",
    "from steves_utils.torch_utils import get_dataset_metrics, ptn_confusion_by_domain_over_dataloader\n",
    "from steves_utils.utils_v2 import (per_domain_accuracy_from_confusion, get_datasets_base_path)\n",
    "from steves_utils.PTN.utils import independent_accuracy_assesment\n",
    "\n",
    "from torch.utils.data import DataLoader\n",
    "\n",
    "from steves_utils.stratified_dataset.episodic_accessor import Episodic_Accessor_Factory\n",
    "\n",
    "from steves_utils.ptn_do_report import (\n",
    "    get_loss_curve,\n",
    "    get_results_table,\n",
    "    get_parameters_table,\n",
    "    get_domain_accuracies,\n",
    ")\n",
    "\n",
    "from steves_utils.transforms import get_chained_transform"
   ]
  },
  {
   "cell_type": "markdown",
   "id": "41c840b4",
   "metadata": {
    "papermill": {
     "duration": 0.012585,
     "end_time": "2022-03-19T18:36:10.589472",
     "exception": false,
     "start_time": "2022-03-19T18:36:10.576887",
     "status": "completed"
    },
    "tags": []
   },
   "source": [
    "# Allowed Parameters\n",
    "These are allowed parameters, not defaults\n",
    "Each of these values need to be present in the injected parameters (the notebook will raise an exception if they are not present)\n",
    "\n",
    "Papermill uses the cell tag \"parameters\" to inject the real parameters below this cell.\n",
    "Enable tags to see what I mean"
   ]
  },
  {
   "cell_type": "code",
   "execution_count": 2,
   "id": "fd44eb83",
   "metadata": {
    "execution": {
     "iopub.execute_input": "2022-03-19T18:36:10.620112Z",
     "iopub.status.busy": "2022-03-19T18:36:10.617134Z",
     "iopub.status.idle": "2022-03-19T18:36:10.631428Z",
     "shell.execute_reply": "2022-03-19T18:36:10.631164Z"
    },
    "papermill": {
     "duration": 0.02943,
     "end_time": "2022-03-19T18:36:10.631485",
     "exception": false,
     "start_time": "2022-03-19T18:36:10.602055",
     "status": "completed"
    },
    "tags": []
   },
   "outputs": [],
   "source": [
    "required_parameters = {\n",
    "    \"experiment_name\",\n",
    "    \"lr\",\n",
    "    \"device\",\n",
    "    \"seed\",\n",
    "    \"dataset_seed\",\n",
    "    \"n_shot\",\n",
    "    \"n_query\",\n",
    "    \"n_way\",\n",
    "    \"train_k_factor\",\n",
    "    \"val_k_factor\",\n",
    "    \"test_k_factor\",\n",
    "    \"n_epoch\",\n",
    "    \"patience\",\n",
    "    \"criteria_for_best\",\n",
    "    \"x_net\",\n",
    "    \"datasets\",\n",
    "    \"torch_default_dtype\",\n",
    "    \"NUM_LOGS_PER_EPOCH\",\n",
    "    \"BEST_MODEL_PATH\",\n",
    "    \"x_shape\",\n",
    "}"
   ]
  },
  {
   "cell_type": "code",
   "execution_count": 3,
   "id": "fa3f0049",
   "metadata": {
    "execution": {
     "iopub.execute_input": "2022-03-19T18:36:10.667202Z",
     "iopub.status.busy": "2022-03-19T18:36:10.666917Z",
     "iopub.status.idle": "2022-03-19T18:36:10.681518Z",
     "shell.execute_reply": "2022-03-19T18:36:10.681025Z"
    },
    "papermill": {
     "duration": 0.033383,
     "end_time": "2022-03-19T18:36:10.681622",
     "exception": false,
     "start_time": "2022-03-19T18:36:10.648239",
     "status": "completed"
    },
    "tags": [
     "parameters"
    ]
   },
   "outputs": [],
   "source": [
    "from steves_utils.CORES.utils import (\n",
    "    ALL_NODES,\n",
    "    ALL_NODES_MINIMUM_1000_EXAMPLES,\n",
    "    ALL_DAYS\n",
    ")\n",
    "\n",
    "from steves_utils.ORACLE.utils_v2 import (\n",
    "    ALL_DISTANCES_FEET_NARROWED,\n",
    "    ALL_RUNS,\n",
    "    ALL_SERIAL_NUMBERS,\n",
    ")\n",
    "\n",
    "standalone_parameters = {}\n",
    "standalone_parameters[\"experiment_name\"] = \"STANDALONE PTN\"\n",
    "standalone_parameters[\"lr\"] = 0.001\n",
    "standalone_parameters[\"device\"] = \"cuda\"\n",
    "\n",
    "standalone_parameters[\"seed\"] = 1337\n",
    "standalone_parameters[\"dataset_seed\"] = 1337\n",
    "\n",
    "standalone_parameters[\"n_way\"] = 8\n",
    "standalone_parameters[\"n_shot\"] = 3\n",
    "standalone_parameters[\"n_query\"]  = 2\n",
    "standalone_parameters[\"train_k_factor\"] = 1\n",
    "standalone_parameters[\"val_k_factor\"] = 2\n",
    "standalone_parameters[\"test_k_factor\"] = 2\n",
    "\n",
    "\n",
    "standalone_parameters[\"n_epoch\"] = 50\n",
    "\n",
    "standalone_parameters[\"patience\"] = 10\n",
    "standalone_parameters[\"criteria_for_best\"] = \"source_loss\"\n",
    "\n",
    "standalone_parameters[\"datasets\"] = [\n",
    "    {\n",
    "        \"labels\": ALL_SERIAL_NUMBERS,\n",
    "        \"domains\": ALL_DISTANCES_FEET_NARROWED,\n",
    "        \"num_examples_per_domain_per_label\": 100,\n",
    "        \"pickle_path\": os.path.join(get_datasets_base_path(), \"oracle.Run1_framed_2000Examples_stratified_ds.2022A.pkl\"),\n",
    "        \"source_or_target_dataset\": \"source\",\n",
    "        \"x_transforms\": [\"unit_mag\", \"minus_two\"],\n",
    "        \"episode_transforms\": [],\n",
    "        \"domain_prefix\": \"ORACLE_\"\n",
    "    },\n",
    "    {\n",
    "        \"labels\": ALL_NODES,\n",
    "        \"domains\": ALL_DAYS,\n",
    "        \"num_examples_per_domain_per_label\": 100,\n",
    "        \"pickle_path\": os.path.join(get_datasets_base_path(), \"cores.stratified_ds.2022A.pkl\"),\n",
    "        \"source_or_target_dataset\": \"target\",\n",
    "        \"x_transforms\": [\"unit_power\", \"times_zero\"],\n",
    "        \"episode_transforms\": [],\n",
    "        \"domain_prefix\": \"CORES_\"\n",
    "    }   \n",
    "]\n",
    "\n",
    "standalone_parameters[\"torch_default_dtype\"] = \"torch.float32\" \n",
    "\n",
    "\n",
    "\n",
    "standalone_parameters[\"x_net\"] =     [\n",
    "    {\"class\": \"nnReshape\", \"kargs\": {\"shape\":[-1, 1, 2, 256]}},\n",
    "    {\"class\": \"Conv2d\", \"kargs\": { \"in_channels\":1, \"out_channels\":256, \"kernel_size\":(1,7), \"bias\":False, \"padding\":(0,3), },},\n",
    "    {\"class\": \"ReLU\", \"kargs\": {\"inplace\": True}},\n",
    "    {\"class\": \"BatchNorm2d\", \"kargs\": {\"num_features\":256}},\n",
    "\n",
    "    {\"class\": \"Conv2d\", \"kargs\": { \"in_channels\":256, \"out_channels\":80, \"kernel_size\":(2,7), \"bias\":True, \"padding\":(0,3), },},\n",
    "    {\"class\": \"ReLU\", \"kargs\": {\"inplace\": True}},\n",
    "    {\"class\": \"BatchNorm2d\", \"kargs\": {\"num_features\":80}},\n",
    "    {\"class\": \"Flatten\", \"kargs\": {}},\n",
    "\n",
    "    {\"class\": \"Linear\", \"kargs\": {\"in_features\": 80*256, \"out_features\": 256}}, # 80 units per IQ pair\n",
    "    {\"class\": \"ReLU\", \"kargs\": {\"inplace\": True}},\n",
    "    {\"class\": \"BatchNorm1d\", \"kargs\": {\"num_features\":256}},\n",
    "\n",
    "    {\"class\": \"Linear\", \"kargs\": {\"in_features\": 256, \"out_features\": 256}},\n",
    "]\n",
    "\n",
    "# Parameters relevant to results\n",
    "# These parameters will basically never need to change\n",
    "standalone_parameters[\"NUM_LOGS_PER_EPOCH\"] = 10\n",
    "standalone_parameters[\"BEST_MODEL_PATH\"] = \"./best_model.pth\"\n",
    "\n",
    "\n",
    "\n",
    "\n"
   ]
  },
  {
   "cell_type": "code",
   "execution_count": 4,
   "id": "7f15dbcd",
   "metadata": {
    "execution": {
     "iopub.execute_input": "2022-03-19T18:36:10.725586Z",
     "iopub.status.busy": "2022-03-19T18:36:10.724970Z",
     "iopub.status.idle": "2022-03-19T18:36:10.738864Z",
     "shell.execute_reply": "2022-03-19T18:36:10.738374Z"
    },
    "papermill": {
     "duration": 0.039591,
     "end_time": "2022-03-19T18:36:10.738966",
     "exception": false,
     "start_time": "2022-03-19T18:36:10.699375",
     "status": "completed"
    },
    "tags": [
     "injected-parameters"
    ]
   },
   "outputs": [],
   "source": [
    "# Parameters\n",
    "parameters = {\n",
    "    \"experiment_name\": \"tl_2v2:oracle.run1.framed -> cores+wisig\",\n",
    "    \"device\": \"cuda\",\n",
    "    \"lr\": 0.0001,\n",
    "    \"n_shot\": 3,\n",
    "    \"n_query\": 2,\n",
    "    \"train_k_factor\": 3,\n",
    "    \"val_k_factor\": 2,\n",
    "    \"test_k_factor\": 2,\n",
    "    \"torch_default_dtype\": \"torch.float32\",\n",
    "    \"n_epoch\": 50,\n",
    "    \"patience\": 3,\n",
    "    \"criteria_for_best\": \"target_accuracy\",\n",
    "    \"x_net\": [\n",
    "        {\"class\": \"nnReshape\", \"kargs\": {\"shape\": [-1, 1, 2, 256]}},\n",
    "        {\n",
    "            \"class\": \"Conv2d\",\n",
    "            \"kargs\": {\n",
    "                \"in_channels\": 1,\n",
    "                \"out_channels\": 256,\n",
    "                \"kernel_size\": [1, 7],\n",
    "                \"bias\": False,\n",
    "                \"padding\": [0, 3],\n",
    "            },\n",
    "        },\n",
    "        {\"class\": \"ReLU\", \"kargs\": {\"inplace\": True}},\n",
    "        {\"class\": \"BatchNorm2d\", \"kargs\": {\"num_features\": 256}},\n",
    "        {\n",
    "            \"class\": \"Conv2d\",\n",
    "            \"kargs\": {\n",
    "                \"in_channels\": 256,\n",
    "                \"out_channels\": 80,\n",
    "                \"kernel_size\": [2, 7],\n",
    "                \"bias\": True,\n",
    "                \"padding\": [0, 3],\n",
    "            },\n",
    "        },\n",
    "        {\"class\": \"ReLU\", \"kargs\": {\"inplace\": True}},\n",
    "        {\"class\": \"BatchNorm2d\", \"kargs\": {\"num_features\": 80}},\n",
    "        {\"class\": \"Flatten\", \"kargs\": {}},\n",
    "        {\"class\": \"Linear\", \"kargs\": {\"in_features\": 20480, \"out_features\": 256}},\n",
    "        {\"class\": \"ReLU\", \"kargs\": {\"inplace\": True}},\n",
    "        {\"class\": \"BatchNorm1d\", \"kargs\": {\"num_features\": 256}},\n",
    "        {\"class\": \"Linear\", \"kargs\": {\"in_features\": 256, \"out_features\": 256}},\n",
    "    ],\n",
    "    \"NUM_LOGS_PER_EPOCH\": 10,\n",
    "    \"BEST_MODEL_PATH\": \"./best_model.pth\",\n",
    "    \"n_way\": 16,\n",
    "    \"datasets\": [\n",
    "        {\n",
    "            \"labels\": [\n",
    "                \"1-10.\",\n",
    "                \"1-11.\",\n",
    "                \"1-15.\",\n",
    "                \"1-16.\",\n",
    "                \"1-17.\",\n",
    "                \"1-18.\",\n",
    "                \"1-19.\",\n",
    "                \"10-4.\",\n",
    "                \"10-7.\",\n",
    "                \"11-1.\",\n",
    "                \"11-14.\",\n",
    "                \"11-17.\",\n",
    "                \"11-20.\",\n",
    "                \"11-7.\",\n",
    "                \"13-20.\",\n",
    "                \"13-8.\",\n",
    "                \"14-10.\",\n",
    "                \"14-11.\",\n",
    "                \"14-14.\",\n",
    "                \"14-7.\",\n",
    "                \"15-1.\",\n",
    "                \"15-20.\",\n",
    "                \"16-1.\",\n",
    "                \"16-16.\",\n",
    "                \"17-10.\",\n",
    "                \"17-11.\",\n",
    "                \"17-2.\",\n",
    "                \"19-1.\",\n",
    "                \"19-16.\",\n",
    "                \"19-19.\",\n",
    "                \"19-20.\",\n",
    "                \"19-3.\",\n",
    "                \"2-10.\",\n",
    "                \"2-11.\",\n",
    "                \"2-17.\",\n",
    "                \"2-18.\",\n",
    "                \"2-20.\",\n",
    "                \"2-3.\",\n",
    "                \"2-4.\",\n",
    "                \"2-5.\",\n",
    "                \"2-6.\",\n",
    "                \"2-7.\",\n",
    "                \"2-8.\",\n",
    "                \"3-13.\",\n",
    "                \"3-18.\",\n",
    "                \"3-3.\",\n",
    "                \"4-1.\",\n",
    "                \"4-10.\",\n",
    "                \"4-11.\",\n",
    "                \"4-19.\",\n",
    "                \"5-5.\",\n",
    "                \"6-15.\",\n",
    "                \"7-10.\",\n",
    "                \"7-14.\",\n",
    "                \"8-18.\",\n",
    "                \"8-20.\",\n",
    "                \"8-3.\",\n",
    "                \"8-8.\",\n",
    "            ],\n",
    "            \"domains\": [1, 2, 3, 4, 5],\n",
    "            \"num_examples_per_domain_per_label\": -1,\n",
    "            \"pickle_path\": \"/mnt/wd500GB/CSC500/csc500-main/datasets/cores.stratified_ds.2022A.pkl\",\n",
    "            \"source_or_target_dataset\": \"target\",\n",
    "            \"x_transforms\": [\"unit_mag\"],\n",
    "            \"episode_transforms\": [],\n",
    "            \"domain_prefix\": \"C_\",\n",
    "        },\n",
    "        {\n",
    "            \"labels\": [\n",
    "                \"1-10\",\n",
    "                \"1-12\",\n",
    "                \"1-14\",\n",
    "                \"1-16\",\n",
    "                \"1-18\",\n",
    "                \"1-19\",\n",
    "                \"1-8\",\n",
    "                \"10-11\",\n",
    "                \"10-17\",\n",
    "                \"10-4\",\n",
    "                \"10-7\",\n",
    "                \"11-1\",\n",
    "                \"11-10\",\n",
    "                \"11-19\",\n",
    "                \"11-20\",\n",
    "                \"11-4\",\n",
    "                \"11-7\",\n",
    "                \"12-19\",\n",
    "                \"12-20\",\n",
    "                \"12-7\",\n",
    "                \"13-14\",\n",
    "                \"13-18\",\n",
    "                \"13-19\",\n",
    "                \"13-20\",\n",
    "                \"13-3\",\n",
    "                \"13-7\",\n",
    "                \"14-10\",\n",
    "                \"14-11\",\n",
    "                \"14-12\",\n",
    "                \"14-13\",\n",
    "                \"14-14\",\n",
    "                \"14-19\",\n",
    "                \"14-20\",\n",
    "                \"14-7\",\n",
    "                \"14-8\",\n",
    "                \"14-9\",\n",
    "                \"15-1\",\n",
    "                \"15-19\",\n",
    "                \"15-6\",\n",
    "                \"16-1\",\n",
    "                \"16-16\",\n",
    "                \"16-19\",\n",
    "                \"16-20\",\n",
    "                \"17-10\",\n",
    "                \"17-11\",\n",
    "                \"18-1\",\n",
    "                \"18-10\",\n",
    "                \"18-11\",\n",
    "                \"18-12\",\n",
    "                \"18-13\",\n",
    "                \"18-14\",\n",
    "                \"18-15\",\n",
    "                \"18-16\",\n",
    "                \"18-17\",\n",
    "                \"18-19\",\n",
    "                \"18-2\",\n",
    "                \"18-20\",\n",
    "                \"18-4\",\n",
    "                \"18-5\",\n",
    "                \"18-7\",\n",
    "                \"18-8\",\n",
    "                \"18-9\",\n",
    "                \"19-1\",\n",
    "                \"19-10\",\n",
    "                \"19-11\",\n",
    "                \"19-12\",\n",
    "                \"19-13\",\n",
    "                \"19-14\",\n",
    "                \"19-15\",\n",
    "                \"19-19\",\n",
    "                \"19-2\",\n",
    "                \"19-20\",\n",
    "                \"19-3\",\n",
    "                \"19-4\",\n",
    "                \"19-6\",\n",
    "                \"19-7\",\n",
    "                \"19-8\",\n",
    "                \"19-9\",\n",
    "                \"2-1\",\n",
    "                \"2-13\",\n",
    "                \"2-15\",\n",
    "                \"2-3\",\n",
    "                \"2-4\",\n",
    "                \"2-5\",\n",
    "                \"2-6\",\n",
    "                \"2-7\",\n",
    "                \"2-8\",\n",
    "                \"20-1\",\n",
    "                \"20-12\",\n",
    "                \"20-14\",\n",
    "                \"20-15\",\n",
    "                \"20-16\",\n",
    "                \"20-18\",\n",
    "                \"20-19\",\n",
    "                \"20-20\",\n",
    "                \"20-3\",\n",
    "                \"20-4\",\n",
    "                \"20-5\",\n",
    "                \"20-7\",\n",
    "                \"20-8\",\n",
    "                \"3-1\",\n",
    "                \"3-13\",\n",
    "                \"3-18\",\n",
    "                \"3-2\",\n",
    "                \"3-8\",\n",
    "                \"4-1\",\n",
    "                \"4-10\",\n",
    "                \"4-11\",\n",
    "                \"5-1\",\n",
    "                \"5-5\",\n",
    "                \"6-1\",\n",
    "                \"6-15\",\n",
    "                \"6-6\",\n",
    "                \"7-10\",\n",
    "                \"7-11\",\n",
    "                \"7-12\",\n",
    "                \"7-13\",\n",
    "                \"7-14\",\n",
    "                \"7-7\",\n",
    "                \"7-8\",\n",
    "                \"7-9\",\n",
    "                \"8-1\",\n",
    "                \"8-13\",\n",
    "                \"8-14\",\n",
    "                \"8-18\",\n",
    "                \"8-20\",\n",
    "                \"8-3\",\n",
    "                \"8-8\",\n",
    "                \"9-1\",\n",
    "                \"9-7\",\n",
    "            ],\n",
    "            \"domains\": [1, 2, 3, 4],\n",
    "            \"num_examples_per_domain_per_label\": -1,\n",
    "            \"pickle_path\": \"/mnt/wd500GB/CSC500/csc500-main/datasets/wisig.node3-19.stratified_ds.2022A.pkl\",\n",
    "            \"source_or_target_dataset\": \"target\",\n",
    "            \"x_transforms\": [\"unit_mag\"],\n",
    "            \"episode_transforms\": [],\n",
    "            \"domain_prefix\": \"W_\",\n",
    "        },\n",
    "        {\n",
    "            \"labels\": [\n",
    "                \"3123D52\",\n",
    "                \"3123D65\",\n",
    "                \"3123D79\",\n",
    "                \"3123D80\",\n",
    "                \"3123D54\",\n",
    "                \"3123D70\",\n",
    "                \"3123D7B\",\n",
    "                \"3123D89\",\n",
    "                \"3123D58\",\n",
    "                \"3123D76\",\n",
    "                \"3123D7D\",\n",
    "                \"3123EFE\",\n",
    "                \"3123D64\",\n",
    "                \"3123D78\",\n",
    "                \"3123D7E\",\n",
    "                \"3124E4A\",\n",
    "            ],\n",
    "            \"domains\": [32, 38, 8, 44, 14, 50, 20, 26],\n",
    "            \"num_examples_per_domain_per_label\": 2000,\n",
    "            \"pickle_path\": \"/mnt/wd500GB/CSC500/csc500-main/datasets/oracle.Run1_framed_2000Examples_stratified_ds.2022A.pkl\",\n",
    "            \"source_or_target_dataset\": \"source\",\n",
    "            \"x_transforms\": [\"unit_mag\"],\n",
    "            \"episode_transforms\": [],\n",
    "            \"domain_prefix\": \"O_\",\n",
    "        },\n",
    "    ],\n",
    "    \"seed\": 1337,\n",
    "    \"dataset_seed\": 1337,\n",
    "}\n"
   ]
  },
  {
   "cell_type": "code",
   "execution_count": 5,
   "id": "8fa1cc33",
   "metadata": {
    "execution": {
     "iopub.execute_input": "2022-03-19T18:36:10.775653Z",
     "iopub.status.busy": "2022-03-19T18:36:10.773242Z",
     "iopub.status.idle": "2022-03-19T18:36:10.788013Z",
     "shell.execute_reply": "2022-03-19T18:36:10.788393Z"
    },
    "papermill": {
     "duration": 0.032215,
     "end_time": "2022-03-19T18:36:10.788517",
     "exception": false,
     "start_time": "2022-03-19T18:36:10.756302",
     "status": "completed"
    },
    "tags": []
   },
   "outputs": [],
   "source": [
    "# Set this to True if you want to run this template directly\n",
    "STANDALONE = False\n",
    "if STANDALONE:\n",
    "    print(\"parameters not injected, running with standalone_parameters\")\n",
    "    parameters = standalone_parameters\n",
    "\n",
    "if not 'parameters' in locals() and not 'parameters' in globals():\n",
    "    raise Exception(\"Parameter injection failed\")\n",
    "\n",
    "#Use an easy dict for all the parameters\n",
    "p = EasyDict(parameters)\n",
    "\n",
    "if \"x_shape\" not in p:\n",
    "    p.x_shape = [2,256] # Default to this if we dont supply x_shape\n",
    "\n",
    "\n",
    "supplied_keys = set(p.keys())\n",
    "\n",
    "if  supplied_keys != required_parameters:\n",
    "    print(\"Parameters are incorrect\")\n",
    "    if len(supplied_keys - required_parameters)>0: print(\"Shouldn't have:\", str(supplied_keys - required_parameters))\n",
    "    if len(required_parameters - supplied_keys)>0: print(\"Need to have:\", str(required_parameters - supplied_keys))\n",
    "    raise RuntimeError(\"Parameters are incorrect\")"
   ]
  },
  {
   "cell_type": "code",
   "execution_count": 6,
   "id": "3a028d58",
   "metadata": {
    "execution": {
     "iopub.execute_input": "2022-03-19T18:36:10.826293Z",
     "iopub.status.busy": "2022-03-19T18:36:10.822154Z",
     "iopub.status.idle": "2022-03-19T18:36:10.838701Z",
     "shell.execute_reply": "2022-03-19T18:36:10.838214Z"
    },
    "papermill": {
     "duration": 0.031617,
     "end_time": "2022-03-19T18:36:10.838802",
     "exception": false,
     "start_time": "2022-03-19T18:36:10.807185",
     "status": "completed"
    },
    "tags": []
   },
   "outputs": [],
   "source": [
    "###################################\n",
    "# Set the RNGs and make it all deterministic\n",
    "###################################\n",
    "np.random.seed(p.seed)\n",
    "random.seed(p.seed)\n",
    "torch.manual_seed(p.seed)\n",
    "\n",
    "torch.use_deterministic_algorithms(True) "
   ]
  },
  {
   "cell_type": "code",
   "execution_count": 7,
   "id": "b691acf6",
   "metadata": {
    "execution": {
     "iopub.execute_input": "2022-03-19T18:36:10.876554Z",
     "iopub.status.busy": "2022-03-19T18:36:10.875468Z",
     "iopub.status.idle": "2022-03-19T18:36:10.887180Z",
     "shell.execute_reply": "2022-03-19T18:36:10.886692Z"
    },
    "papermill": {
     "duration": 0.030544,
     "end_time": "2022-03-19T18:36:10.887298",
     "exception": false,
     "start_time": "2022-03-19T18:36:10.856754",
     "status": "completed"
    },
    "tags": []
   },
   "outputs": [],
   "source": [
    "###########################################\n",
    "# The stratified datasets honor this\n",
    "###########################################\n",
    "torch.set_default_dtype(eval(p.torch_default_dtype))"
   ]
  },
  {
   "cell_type": "code",
   "execution_count": 8,
   "id": "b5fba671",
   "metadata": {
    "execution": {
     "iopub.execute_input": "2022-03-19T18:36:10.920164Z",
     "iopub.status.busy": "2022-03-19T18:36:10.919918Z",
     "iopub.status.idle": "2022-03-19T18:36:10.960799Z",
     "shell.execute_reply": "2022-03-19T18:36:10.960291Z"
    },
    "papermill": {
     "duration": 0.056343,
     "end_time": "2022-03-19T18:36:10.960909",
     "exception": false,
     "start_time": "2022-03-19T18:36:10.904566",
     "status": "completed"
    },
    "tags": []
   },
   "outputs": [],
   "source": [
    "###################################\n",
    "# Build the network(s)\n",
    "# Note: It's critical to do this AFTER setting the RNG\n",
    "###################################\n",
    "x_net = build_sequential(p.x_net)"
   ]
  },
  {
   "cell_type": "code",
   "execution_count": 9,
   "id": "5d7e61cc",
   "metadata": {
    "execution": {
     "iopub.execute_input": "2022-03-19T18:36:10.995125Z",
     "iopub.status.busy": "2022-03-19T18:36:10.994634Z",
     "iopub.status.idle": "2022-03-19T18:36:11.006384Z",
     "shell.execute_reply": "2022-03-19T18:36:11.006006Z"
    },
    "papermill": {
     "duration": 0.026438,
     "end_time": "2022-03-19T18:36:11.006467",
     "exception": false,
     "start_time": "2022-03-19T18:36:10.980029",
     "status": "completed"
    },
    "tags": []
   },
   "outputs": [],
   "source": [
    "start_time_secs = time.time()"
   ]
  },
  {
   "cell_type": "code",
   "execution_count": 10,
   "id": "c6b67dfd",
   "metadata": {
    "execution": {
     "iopub.execute_input": "2022-03-19T18:36:11.044803Z",
     "iopub.status.busy": "2022-03-19T18:36:11.038317Z",
     "iopub.status.idle": "2022-03-19T18:36:11.052538Z",
     "shell.execute_reply": "2022-03-19T18:36:11.052936Z"
    },
    "papermill": {
     "duration": 0.030158,
     "end_time": "2022-03-19T18:36:11.053056",
     "exception": false,
     "start_time": "2022-03-19T18:36:11.022898",
     "status": "completed"
    },
    "tags": []
   },
   "outputs": [],
   "source": [
    "p.domains_source = []\n",
    "p.domains_target = []\n",
    "\n",
    "\n",
    "train_original_source = []\n",
    "val_original_source   = []\n",
    "test_original_source  = []\n",
    "\n",
    "train_original_target = []\n",
    "val_original_target   = []\n",
    "test_original_target  = []"
   ]
  },
  {
   "cell_type": "code",
   "execution_count": 11,
   "id": "e3d9c3d3",
   "metadata": {
    "execution": {
     "iopub.execute_input": "2022-03-19T18:36:11.087584Z",
     "iopub.status.busy": "2022-03-19T18:36:11.087296Z",
     "iopub.status.idle": "2022-03-19T18:36:11.102173Z",
     "shell.execute_reply": "2022-03-19T18:36:11.101692Z"
    },
    "papermill": {
     "duration": 0.030291,
     "end_time": "2022-03-19T18:36:11.102272",
     "exception": false,
     "start_time": "2022-03-19T18:36:11.071981",
     "status": "completed"
    },
    "tags": []
   },
   "outputs": [],
   "source": [
    "# global_x_transform_func = lambda x: normalize(x.to(torch.get_default_dtype()), \"unit_power\") # unit_power, unit_mag\n",
    "# global_x_transform_func = lambda x: normalize(x, \"unit_power\") # unit_power, unit_mag"
   ]
  },
  {
   "cell_type": "code",
   "execution_count": 12,
   "id": "acb78fd2",
   "metadata": {
    "execution": {
     "iopub.execute_input": "2022-03-19T18:36:11.144297Z",
     "iopub.status.busy": "2022-03-19T18:36:11.141262Z",
     "iopub.status.idle": "2022-03-19T18:36:11.154307Z",
     "shell.execute_reply": "2022-03-19T18:36:11.154701Z"
    },
    "papermill": {
     "duration": 0.033954,
     "end_time": "2022-03-19T18:36:11.154823",
     "exception": false,
     "start_time": "2022-03-19T18:36:11.120869",
     "status": "completed"
    },
    "tags": []
   },
   "outputs": [],
   "source": [
    "def add_dataset(\n",
    "    labels,\n",
    "    domains,\n",
    "    pickle_path,\n",
    "    x_transforms,\n",
    "    episode_transforms,\n",
    "    domain_prefix,\n",
    "    num_examples_per_domain_per_label,\n",
    "    source_or_target_dataset:str,\n",
    "    iterator_seed=p.seed,\n",
    "    dataset_seed=p.dataset_seed,\n",
    "    n_shot=p.n_shot,\n",
    "    n_way=p.n_way,\n",
    "    n_query=p.n_query,\n",
    "    train_val_test_k_factors=(p.train_k_factor,p.val_k_factor,p.test_k_factor),\n",
    "):\n",
    "   \n",
    "    if x_transforms == []: x_transform = None\n",
    "    else: x_transform = get_chained_transform(x_transforms)\n",
    "    \n",
    "    if episode_transforms == []: episode_transform = None\n",
    "    else: raise Exception(\"episode_transforms not implemented\")\n",
    "    \n",
    "    episode_transform = lambda tup, _prefix=domain_prefix: (_prefix + str(tup[0]), tup[1])\n",
    "\n",
    "\n",
    "    eaf = Episodic_Accessor_Factory(\n",
    "        labels=labels,\n",
    "        domains=domains,\n",
    "        num_examples_per_domain_per_label=num_examples_per_domain_per_label,\n",
    "        iterator_seed=iterator_seed,\n",
    "        dataset_seed=dataset_seed,\n",
    "        n_shot=n_shot,\n",
    "        n_way=n_way,\n",
    "        n_query=n_query,\n",
    "        train_val_test_k_factors=train_val_test_k_factors,\n",
    "        pickle_path=pickle_path,\n",
    "        x_transform_func=x_transform,\n",
    "    )\n",
    "\n",
    "    train, val, test = eaf.get_train(), eaf.get_val(), eaf.get_test()\n",
    "    train = Lazy_Iterable_Wrapper(train, episode_transform)\n",
    "    val = Lazy_Iterable_Wrapper(val, episode_transform)\n",
    "    test = Lazy_Iterable_Wrapper(test, episode_transform)\n",
    "\n",
    "    if source_or_target_dataset==\"source\":\n",
    "        train_original_source.append(train)\n",
    "        val_original_source.append(val)\n",
    "        test_original_source.append(test)\n",
    "\n",
    "        p.domains_source.extend(\n",
    "            [domain_prefix + str(u) for u in domains]\n",
    "        )\n",
    "    elif source_or_target_dataset==\"target\":\n",
    "        train_original_target.append(train)\n",
    "        val_original_target.append(val)\n",
    "        test_original_target.append(test)\n",
    "        p.domains_target.extend(\n",
    "            [domain_prefix + str(u) for u in domains]\n",
    "        )\n",
    "    else:\n",
    "        raise Exception(f\"invalid source_or_target_dataset: {source_or_target_dataset}\")\n",
    "    "
   ]
  },
  {
   "cell_type": "code",
   "execution_count": 13,
   "id": "fe266617",
   "metadata": {
    "execution": {
     "iopub.execute_input": "2022-03-19T18:36:11.196250Z",
     "iopub.status.busy": "2022-03-19T18:36:11.194293Z",
     "iopub.status.idle": "2022-03-19T18:36:58.934146Z",
     "shell.execute_reply": "2022-03-19T18:36:58.934541Z"
    },
    "papermill": {
     "duration": 47.760685,
     "end_time": "2022-03-19T18:36:58.934681",
     "exception": false,
     "start_time": "2022-03-19T18:36:11.173996",
     "status": "completed"
    },
    "tags": []
   },
   "outputs": [],
   "source": [
    "for ds in p.datasets:\n",
    "    add_dataset(**ds)"
   ]
  },
  {
   "cell_type": "code",
   "execution_count": 14,
   "id": "b90d65ac",
   "metadata": {
    "execution": {
     "iopub.execute_input": "2022-03-19T18:36:58.968734Z",
     "iopub.status.busy": "2022-03-19T18:36:58.968135Z",
     "iopub.status.idle": "2022-03-19T18:36:58.983036Z",
     "shell.execute_reply": "2022-03-19T18:36:58.982563Z"
    },
    "papermill": {
     "duration": 0.030468,
     "end_time": "2022-03-19T18:36:58.983137",
     "exception": false,
     "start_time": "2022-03-19T18:36:58.952669",
     "status": "completed"
    },
    "tags": []
   },
   "outputs": [],
   "source": [
    "# from steves_utils.CORES.utils import (\n",
    "#     ALL_NODES,\n",
    "#     ALL_NODES_MINIMUM_1000_EXAMPLES,\n",
    "#     ALL_DAYS\n",
    "# )\n",
    "\n",
    "# add_dataset(\n",
    "#     labels=ALL_NODES,\n",
    "#     domains = ALL_DAYS,\n",
    "#     num_examples_per_domain_per_label=100,\n",
    "#     pickle_path=os.path.join(get_datasets_base_path(), \"cores.stratified_ds.2022A.pkl\"),\n",
    "#     source_or_target_dataset=\"target\",\n",
    "#     x_transform_func=global_x_transform_func,\n",
    "#     domain_modifier=lambda u: f\"cores_{u}\"\n",
    "# )"
   ]
  },
  {
   "cell_type": "code",
   "execution_count": 15,
   "id": "76db484d",
   "metadata": {
    "execution": {
     "iopub.execute_input": "2022-03-19T18:36:59.018004Z",
     "iopub.status.busy": "2022-03-19T18:36:59.017754Z",
     "iopub.status.idle": "2022-03-19T18:36:59.028567Z",
     "shell.execute_reply": "2022-03-19T18:36:59.028202Z"
    },
    "papermill": {
     "duration": 0.025811,
     "end_time": "2022-03-19T18:36:59.028644",
     "exception": false,
     "start_time": "2022-03-19T18:36:59.002833",
     "status": "completed"
    },
    "tags": []
   },
   "outputs": [],
   "source": [
    "# from steves_utils.ORACLE.utils_v2 import (\n",
    "#     ALL_DISTANCES_FEET,\n",
    "#     ALL_RUNS,\n",
    "#     ALL_SERIAL_NUMBERS,\n",
    "# )\n",
    "\n",
    "\n",
    "# add_dataset(\n",
    "#     labels=ALL_SERIAL_NUMBERS,\n",
    "#     domains = list(set(ALL_DISTANCES_FEET) - {2,62}),\n",
    "#     num_examples_per_domain_per_label=100,\n",
    "#     pickle_path=os.path.join(get_datasets_base_path(), \"oracle.Run2_framed_2000Examples_stratified_ds.2022A.pkl\"),\n",
    "#     source_or_target_dataset=\"source\",\n",
    "#     x_transform_func=global_x_transform_func,\n",
    "#     domain_modifier=lambda u: f\"oracle1_{u}\"\n",
    "# )\n"
   ]
  },
  {
   "cell_type": "code",
   "execution_count": 16,
   "id": "97dea9d2",
   "metadata": {
    "execution": {
     "iopub.execute_input": "2022-03-19T18:36:59.062898Z",
     "iopub.status.busy": "2022-03-19T18:36:59.062649Z",
     "iopub.status.idle": "2022-03-19T18:36:59.077856Z",
     "shell.execute_reply": "2022-03-19T18:36:59.078253Z"
    },
    "papermill": {
     "duration": 0.030842,
     "end_time": "2022-03-19T18:36:59.078372",
     "exception": false,
     "start_time": "2022-03-19T18:36:59.047530",
     "status": "completed"
    },
    "tags": []
   },
   "outputs": [],
   "source": [
    "# from steves_utils.ORACLE.utils_v2 import (\n",
    "#     ALL_DISTANCES_FEET,\n",
    "#     ALL_RUNS,\n",
    "#     ALL_SERIAL_NUMBERS,\n",
    "# )\n",
    "\n",
    "\n",
    "# add_dataset(\n",
    "#     labels=ALL_SERIAL_NUMBERS,\n",
    "#     domains = list(set(ALL_DISTANCES_FEET) - {2,62,56}),\n",
    "#     num_examples_per_domain_per_label=100,\n",
    "#     pickle_path=os.path.join(get_datasets_base_path(), \"oracle.Run2_framed_2000Examples_stratified_ds.2022A.pkl\"),\n",
    "#     source_or_target_dataset=\"source\",\n",
    "#     x_transform_func=global_x_transform_func,\n",
    "#     domain_modifier=lambda u: f\"oracle2_{u}\"\n",
    "# )"
   ]
  },
  {
   "cell_type": "code",
   "execution_count": 17,
   "id": "6f289866",
   "metadata": {
    "execution": {
     "iopub.execute_input": "2022-03-19T18:36:59.112812Z",
     "iopub.status.busy": "2022-03-19T18:36:59.112562Z",
     "iopub.status.idle": "2022-03-19T18:36:59.128412Z",
     "shell.execute_reply": "2022-03-19T18:36:59.127989Z"
    },
    "papermill": {
     "duration": 0.031124,
     "end_time": "2022-03-19T18:36:59.128512",
     "exception": false,
     "start_time": "2022-03-19T18:36:59.097388",
     "status": "completed"
    },
    "tags": []
   },
   "outputs": [],
   "source": [
    "# add_dataset(\n",
    "#     labels=list(range(19)),\n",
    "#     domains = [0,1,2],\n",
    "#     num_examples_per_domain_per_label=100,\n",
    "#     pickle_path=os.path.join(get_datasets_base_path(), \"metehan.stratified_ds.2022A.pkl\"),\n",
    "#     source_or_target_dataset=\"target\",\n",
    "#     x_transform_func=global_x_transform_func,\n",
    "#     domain_modifier=lambda u: f\"met_{u}\"\n",
    "# )"
   ]
  },
  {
   "cell_type": "code",
   "execution_count": 18,
   "id": "86a863c3",
   "metadata": {
    "execution": {
     "iopub.execute_input": "2022-03-19T18:36:59.163355Z",
     "iopub.status.busy": "2022-03-19T18:36:59.162929Z",
     "iopub.status.idle": "2022-03-19T18:36:59.173685Z",
     "shell.execute_reply": "2022-03-19T18:36:59.173441Z"
    },
    "papermill": {
     "duration": 0.026094,
     "end_time": "2022-03-19T18:36:59.173743",
     "exception": false,
     "start_time": "2022-03-19T18:36:59.147649",
     "status": "completed"
    },
    "tags": []
   },
   "outputs": [],
   "source": [
    "# # from steves_utils.wisig.utils import (\n",
    "# #     ALL_NODES_MINIMUM_100_EXAMPLES,\n",
    "# #     ALL_NODES_MINIMUM_500_EXAMPLES,\n",
    "# #     ALL_NODES_MINIMUM_1000_EXAMPLES,\n",
    "# #     ALL_DAYS\n",
    "# # )\n",
    "\n",
    "# import steves_utils.wisig.utils as wisig\n",
    "\n",
    "\n",
    "# add_dataset(\n",
    "#     labels=wisig.ALL_NODES_MINIMUM_100_EXAMPLES,\n",
    "#     domains = wisig.ALL_DAYS,\n",
    "#     num_examples_per_domain_per_label=100,\n",
    "#     pickle_path=os.path.join(get_datasets_base_path(), \"wisig.node3-19.stratified_ds.2022A.pkl\"),\n",
    "#     source_or_target_dataset=\"target\",\n",
    "#     x_transform_func=global_x_transform_func,\n",
    "#     domain_modifier=lambda u: f\"wisig_{u}\"\n",
    "# )"
   ]
  },
  {
   "cell_type": "code",
   "execution_count": 19,
   "id": "fd5442bc",
   "metadata": {
    "execution": {
     "iopub.execute_input": "2022-03-19T18:36:59.206890Z",
     "iopub.status.busy": "2022-03-19T18:36:59.206483Z",
     "iopub.status.idle": "2022-03-19T18:36:59.218272Z",
     "shell.execute_reply": "2022-03-19T18:36:59.218025Z"
    },
    "papermill": {
     "duration": 0.028614,
     "end_time": "2022-03-19T18:36:59.218330",
     "exception": false,
     "start_time": "2022-03-19T18:36:59.189716",
     "status": "completed"
    },
    "tags": []
   },
   "outputs": [],
   "source": [
    "###################################\n",
    "# Build the dataset\n",
    "###################################\n",
    "train_original_source = Iterable_Aggregator(train_original_source, p.seed)\n",
    "val_original_source = Iterable_Aggregator(val_original_source, p.seed)\n",
    "test_original_source = Iterable_Aggregator(test_original_source, p.seed)\n",
    "\n",
    "\n",
    "train_original_target = Iterable_Aggregator(train_original_target, p.seed)\n",
    "val_original_target = Iterable_Aggregator(val_original_target, p.seed)\n",
    "test_original_target = Iterable_Aggregator(test_original_target, p.seed)\n",
    "\n",
    "# For CNN We only use X and Y. And we only train on the source.\n",
    "# Properly form the data using a transform lambda and Lazy_Iterable_Wrapper. Finally wrap them in a dataloader\n",
    "\n",
    "transform_lambda = lambda ex: ex[1] # Original is (<domain>, <episode>) so we strip down to episode only\n",
    "\n",
    "train_processed_source = Lazy_Iterable_Wrapper(train_original_source, transform_lambda)\n",
    "val_processed_source   = Lazy_Iterable_Wrapper(val_original_source, transform_lambda)\n",
    "test_processed_source  = Lazy_Iterable_Wrapper(test_original_source, transform_lambda)\n",
    "\n",
    "train_processed_target = Lazy_Iterable_Wrapper(train_original_target, transform_lambda)\n",
    "val_processed_target   = Lazy_Iterable_Wrapper(val_original_target, transform_lambda)\n",
    "test_processed_target  = Lazy_Iterable_Wrapper(test_original_target, transform_lambda)\n",
    "\n",
    "datasets = EasyDict({\n",
    "    \"source\": {\n",
    "        \"original\": {\"train\":train_original_source, \"val\":val_original_source, \"test\":test_original_source},\n",
    "        \"processed\": {\"train\":train_processed_source, \"val\":val_processed_source, \"test\":test_processed_source}\n",
    "    },\n",
    "    \"target\": {\n",
    "        \"original\": {\"train\":train_original_target, \"val\":val_original_target, \"test\":test_original_target},\n",
    "        \"processed\": {\"train\":train_processed_target, \"val\":val_processed_target, \"test\":test_processed_target}\n",
    "    },\n",
    "})"
   ]
  },
  {
   "cell_type": "code",
   "execution_count": 20,
   "id": "5b3c01fc",
   "metadata": {
    "execution": {
     "iopub.execute_input": "2022-03-19T18:36:59.250046Z",
     "iopub.status.busy": "2022-03-19T18:36:59.249650Z",
     "iopub.status.idle": "2022-03-19T18:37:07.846675Z",
     "shell.execute_reply": "2022-03-19T18:37:07.846386Z"
    },
    "papermill": {
     "duration": 8.61313,
     "end_time": "2022-03-19T18:37:07.846740",
     "exception": false,
     "start_time": "2022-03-19T18:36:59.233610",
     "status": "completed"
    },
    "tags": []
   },
   "outputs": [
    {
     "name": "stdout",
     "output_type": "stream",
     "text": [
      "{'O_32', 'O_20', 'O_50', 'O_38', 'O_8', 'O_44', 'O_26', 'O_14'}\n"
     ]
    },
    {
     "name": "stdout",
     "output_type": "stream",
     "text": [
      "{'C_2', 'W_4', 'W_3', 'C_3', 'W_1', 'C_1', 'C_4', 'W_2', 'C_5'}\n"
     ]
    },
    {
     "name": "stdout",
     "output_type": "stream",
     "text": [
      "tensor([[[-0.0955,  1.1942, -0.1146,  ..., -0.9840, -0.2675, -0.5732],\n",
      "         [-0.6592, -0.3057,  1.0891,  ...,  0.2484, -1.4617, -0.4872]],\n",
      "\n",
      "        [[-0.4662,  0.7090,  0.5730,  ..., -1.3014, -1.2237, -0.1165],\n",
      "         [-1.1752, -0.3302,  1.1558,  ...,  0.4273, -0.1554,  1.2626]],\n",
      "\n",
      "        [[ 0.6763, -0.3671, -0.7922,  ...,  0.8212,  1.4202,  0.3381],\n",
      "         [ 0.8598,  0.7053, -0.9178,  ..., -0.7826,  0.4831, -1.1980]],\n",
      "\n",
      "        ...,\n",
      "\n",
      "        [[ 1.0255, -0.2498, -1.2227,  ...,  0.6639,  1.0255, -0.6771],\n",
      "         [ 0.5785,  0.7428, -0.3878,  ..., -1.0123, -0.6376, -1.1701]],\n",
      "\n",
      "        [[ 0.0260, -1.0137,  0.2924,  ...,  0.9227,  0.4808,  1.0981],\n",
      "         [ 0.8122,  0.4354, -1.1631,  ..., -0.1235,  1.2996, -0.2339]],\n",
      "\n",
      "        [[ 0.4980,  0.3408, -0.7471,  ..., -0.4718,  1.2779,  1.0616],\n",
      "         [-0.4260,  1.1468, -0.0328,  ..., -1.1141, -0.0590, -0.2556]]])\n"
     ]
    }
   ],
   "source": [
    "from steves_utils.transforms import get_average_magnitude, get_average_power\n",
    "\n",
    "print(set([u for u,_ in val_original_source]))\n",
    "print(set([u for u,_ in val_original_target]))\n",
    "\n",
    "s_x, s_y, q_x, q_y, _ = next(iter(train_processed_source))\n",
    "print(s_x)\n",
    "\n",
    "# for ds in [\n",
    "#     train_processed_source,\n",
    "#     val_processed_source,\n",
    "#     test_processed_source,\n",
    "#     train_processed_target,\n",
    "#     val_processed_target,\n",
    "#     test_processed_target\n",
    "# ]:\n",
    "#     for s_x, s_y, q_x, q_y, _ in ds:\n",
    "#         for X in (s_x, q_x):\n",
    "#             for x in X:\n",
    "#                 assert np.isclose(get_average_magnitude(x.numpy()), 1.0)\n",
    "#                 assert np.isclose(get_average_power(x.numpy()), 1.0)\n",
    "                "
   ]
  },
  {
   "cell_type": "code",
   "execution_count": 21,
   "id": "bbdacba1",
   "metadata": {
    "execution": {
     "iopub.execute_input": "2022-03-19T18:37:07.881023Z",
     "iopub.status.busy": "2022-03-19T18:37:07.880755Z",
     "iopub.status.idle": "2022-03-19T18:37:07.941241Z",
     "shell.execute_reply": "2022-03-19T18:37:07.941614Z"
    },
    "papermill": {
     "duration": 0.078073,
     "end_time": "2022-03-19T18:37:07.941753",
     "exception": false,
     "start_time": "2022-03-19T18:37:07.863680",
     "status": "completed"
    },
    "tags": []
   },
   "outputs": [
    {
     "name": "stdout",
     "output_type": "stream",
     "text": [
      "(2, 256)\n"
     ]
    }
   ],
   "source": [
    "###################################\n",
    "# Build the model\n",
    "###################################\n",
    "# easfsl only wants a tuple for the shape\n",
    "model = Steves_Prototypical_Network(x_net, device=p.device, x_shape=tuple(p.x_shape))\n",
    "optimizer = Adam(params=model.parameters(), lr=p.lr)"
   ]
  },
  {
   "cell_type": "code",
   "execution_count": 22,
   "id": "22b39ac5",
   "metadata": {
    "execution": {
     "iopub.execute_input": "2022-03-19T18:37:07.979322Z",
     "iopub.status.busy": "2022-03-19T18:37:07.979025Z",
     "iopub.status.idle": "2022-03-19T20:07:18.997817Z",
     "shell.execute_reply": "2022-03-19T20:07:18.997554Z"
    },
    "papermill": {
     "duration": 5411.036645,
     "end_time": "2022-03-19T20:07:18.997903",
     "exception": false,
     "start_time": "2022-03-19T18:37:07.961258",
     "status": "completed"
    },
    "tags": []
   },
   "outputs": [
    {
     "name": "stdout",
     "output_type": "stream",
     "text": [
      "epoch: 1, [batch: 1 / 6720], examples_per_second: 48.1193, train_label_loss: 2.9912, \n"
     ]
    },
    {
     "name": "stdout",
     "output_type": "stream",
     "text": [
      "epoch: 1, [batch: 672 / 6720], examples_per_second: 3222.6029, train_label_loss: 1.1203, \n"
     ]
    },
    {
     "name": "stdout",
     "output_type": "stream",
     "text": [
      "epoch: 1, [batch: 1344 / 6720], examples_per_second: 3219.8424, train_label_loss: 0.7133, \n"
     ]
    },
    {
     "name": "stdout",
     "output_type": "stream",
     "text": [
      "epoch: 1, [batch: 2016 / 6720], examples_per_second: 3215.1151, train_label_loss: 0.6167, \n"
     ]
    },
    {
     "name": "stdout",
     "output_type": "stream",
     "text": [
      "epoch: 1, [batch: 2688 / 6720], examples_per_second: 3200.0032, train_label_loss: 0.8359, \n"
     ]
    },
    {
     "name": "stdout",
     "output_type": "stream",
     "text": [
      "epoch: 1, [batch: 3360 / 6720], examples_per_second: 3226.3979, train_label_loss: 0.8036, \n"
     ]
    },
    {
     "name": "stdout",
     "output_type": "stream",
     "text": [
      "epoch: 1, [batch: 4032 / 6720], examples_per_second: 3199.0851, train_label_loss: 0.6302, \n"
     ]
    },
    {
     "name": "stdout",
     "output_type": "stream",
     "text": [
      "epoch: 1, [batch: 4704 / 6720], examples_per_second: 3208.2295, train_label_loss: 0.3698, \n"
     ]
    },
    {
     "name": "stdout",
     "output_type": "stream",
     "text": [
      "epoch: 1, [batch: 5376 / 6720], examples_per_second: 3208.3134, train_label_loss: 0.6556, \n"
     ]
    },
    {
     "name": "stdout",
     "output_type": "stream",
     "text": [
      "epoch: 1, [batch: 6048 / 6720], examples_per_second: 3215.2170, train_label_loss: 0.3985, \n"
     ]
    },
    {
     "name": "stdout",
     "output_type": "stream",
     "text": [
      "=============================================================\n",
      "epoch: 1, source_val_acc_label: 0.6779, target_val_acc_label: 0.5178, source_val_label_loss: 36.6281, target_val_label_loss: 951.9274, \n",
      "=============================================================\n"
     ]
    },
    {
     "name": "stdout",
     "output_type": "stream",
     "text": [
      "New best\n"
     ]
    },
    {
     "name": "stdout",
     "output_type": "stream",
     "text": [
      "epoch: 2, [batch: 1 / 6720], examples_per_second: 4.0613, train_label_loss: 39.3832, \n"
     ]
    },
    {
     "name": "stdout",
     "output_type": "stream",
     "text": [
      "epoch: 2, [batch: 672 / 6720], examples_per_second: 3238.6217, train_label_loss: 0.5585, \n"
     ]
    },
    {
     "name": "stdout",
     "output_type": "stream",
     "text": [
      "epoch: 2, [batch: 1344 / 6720], examples_per_second: 3224.4411, train_label_loss: 0.4286, \n"
     ]
    },
    {
     "name": "stdout",
     "output_type": "stream",
     "text": [
      "epoch: 2, [batch: 2016 / 6720], examples_per_second: 3228.2392, train_label_loss: 1.0498, \n"
     ]
    },
    {
     "name": "stdout",
     "output_type": "stream",
     "text": [
      "epoch: 2, [batch: 2688 / 6720], examples_per_second: 3219.7610, train_label_loss: 0.8367, \n"
     ]
    },
    {
     "name": "stdout",
     "output_type": "stream",
     "text": [
      "epoch: 2, [batch: 3360 / 6720], examples_per_second: 3234.7059, train_label_loss: 0.3772, \n"
     ]
    },
    {
     "name": "stdout",
     "output_type": "stream",
     "text": [
      "epoch: 2, [batch: 4032 / 6720], examples_per_second: 3245.8715, train_label_loss: 0.9043, \n"
     ]
    },
    {
     "name": "stdout",
     "output_type": "stream",
     "text": [
      "epoch: 2, [batch: 4704 / 6720], examples_per_second: 3243.9497, train_label_loss: 0.5787, \n"
     ]
    },
    {
     "name": "stdout",
     "output_type": "stream",
     "text": [
      "epoch: 2, [batch: 5376 / 6720], examples_per_second: 3246.2249, train_label_loss: 0.6661, \n"
     ]
    },
    {
     "name": "stdout",
     "output_type": "stream",
     "text": [
      "epoch: 2, [batch: 6048 / 6720], examples_per_second: 3231.3124, train_label_loss: 0.4193, \n"
     ]
    },
    {
     "name": "stdout",
     "output_type": "stream",
     "text": [
      "=============================================================\n",
      "epoch: 2, source_val_acc_label: 0.8012, target_val_acc_label: 0.5829, source_val_label_loss: 0.5431, target_val_label_loss: 267.1844, \n",
      "=============================================================\n"
     ]
    },
    {
     "name": "stdout",
     "output_type": "stream",
     "text": [
      "New best\n"
     ]
    },
    {
     "name": "stdout",
     "output_type": "stream",
     "text": [
      "epoch: 3, [batch: 1 / 6720], examples_per_second: 4.0481, train_label_loss: 0.6823, \n"
     ]
    },
    {
     "name": "stdout",
     "output_type": "stream",
     "text": [
      "epoch: 3, [batch: 672 / 6720], examples_per_second: 3219.7421, train_label_loss: 0.1870, \n"
     ]
    },
    {
     "name": "stdout",
     "output_type": "stream",
     "text": [
      "epoch: 3, [batch: 1344 / 6720], examples_per_second: 3232.0879, train_label_loss: 0.4812, \n"
     ]
    },
    {
     "name": "stdout",
     "output_type": "stream",
     "text": [
      "epoch: 3, [batch: 2016 / 6720], examples_per_second: 3235.7482, train_label_loss: 0.1852, \n"
     ]
    },
    {
     "name": "stdout",
     "output_type": "stream",
     "text": [
      "epoch: 3, [batch: 2688 / 6720], examples_per_second: 3229.0917, train_label_loss: 0.4527, \n"
     ]
    },
    {
     "name": "stdout",
     "output_type": "stream",
     "text": [
      "epoch: 3, [batch: 3360 / 6720], examples_per_second: 3251.3018, train_label_loss: 0.8777, \n"
     ]
    },
    {
     "name": "stdout",
     "output_type": "stream",
     "text": [
      "epoch: 3, [batch: 4032 / 6720], examples_per_second: 3249.0919, train_label_loss: 0.6733, \n"
     ]
    },
    {
     "name": "stdout",
     "output_type": "stream",
     "text": [
      "epoch: 3, [batch: 4704 / 6720], examples_per_second: 3230.8578, train_label_loss: 0.2493, \n"
     ]
    },
    {
     "name": "stdout",
     "output_type": "stream",
     "text": [
      "epoch: 3, [batch: 5376 / 6720], examples_per_second: 3239.7747, train_label_loss: 0.3230, \n"
     ]
    },
    {
     "name": "stdout",
     "output_type": "stream",
     "text": [
      "epoch: 3, [batch: 6048 / 6720], examples_per_second: 3254.8814, train_label_loss: 0.0766, \n"
     ]
    },
    {
     "name": "stdout",
     "output_type": "stream",
     "text": [
      "=============================================================\n",
      "epoch: 3, source_val_acc_label: 0.8436, target_val_acc_label: 0.5919, source_val_label_loss: 0.4337, target_val_label_loss: 408.0688, \n",
      "=============================================================\n"
     ]
    },
    {
     "name": "stdout",
     "output_type": "stream",
     "text": [
      "New best\n"
     ]
    },
    {
     "name": "stdout",
     "output_type": "stream",
     "text": [
      "epoch: 4, [batch: 1 / 6720], examples_per_second: 4.0197, train_label_loss: 0.1560, \n"
     ]
    },
    {
     "name": "stdout",
     "output_type": "stream",
     "text": [
      "epoch: 4, [batch: 672 / 6720], examples_per_second: 2990.0846, train_label_loss: 0.1316, \n"
     ]
    },
    {
     "name": "stdout",
     "output_type": "stream",
     "text": [
      "epoch: 4, [batch: 1344 / 6720], examples_per_second: 3118.9057, train_label_loss: 0.8470, \n"
     ]
    },
    {
     "name": "stdout",
     "output_type": "stream",
     "text": [
      "epoch: 4, [batch: 2016 / 6720], examples_per_second: 3113.7206, train_label_loss: 0.5414, \n"
     ]
    },
    {
     "name": "stdout",
     "output_type": "stream",
     "text": [
      "epoch: 4, [batch: 2688 / 6720], examples_per_second: 3077.7920, train_label_loss: 0.6132, \n"
     ]
    },
    {
     "name": "stdout",
     "output_type": "stream",
     "text": [
      "epoch: 4, [batch: 3360 / 6720], examples_per_second: 3114.6693, train_label_loss: 0.2544, \n"
     ]
    },
    {
     "name": "stdout",
     "output_type": "stream",
     "text": [
      "epoch: 4, [batch: 4032 / 6720], examples_per_second: 3202.7185, train_label_loss: 0.6752, \n"
     ]
    },
    {
     "name": "stdout",
     "output_type": "stream",
     "text": [
      "epoch: 4, [batch: 4704 / 6720], examples_per_second: 3173.1353, train_label_loss: 0.5017, \n"
     ]
    },
    {
     "name": "stdout",
     "output_type": "stream",
     "text": [
      "epoch: 4, [batch: 5376 / 6720], examples_per_second: 3136.4720, train_label_loss: 0.2471, \n"
     ]
    },
    {
     "name": "stdout",
     "output_type": "stream",
     "text": [
      "epoch: 4, [batch: 6048 / 6720], examples_per_second: 3168.4910, train_label_loss: 0.3156, \n"
     ]
    },
    {
     "name": "stdout",
     "output_type": "stream",
     "text": [
      "=============================================================\n",
      "epoch: 4, source_val_acc_label: 0.8485, target_val_acc_label: 0.5870, source_val_label_loss: 0.4213, target_val_label_loss: 536.4941, \n",
      "=============================================================\n"
     ]
    },
    {
     "name": "stdout",
     "output_type": "stream",
     "text": [
      "epoch: 5, [batch: 1 / 6720], examples_per_second: 3.9395, train_label_loss: 0.1358, \n"
     ]
    },
    {
     "name": "stdout",
     "output_type": "stream",
     "text": [
      "epoch: 5, [batch: 672 / 6720], examples_per_second: 3140.1812, train_label_loss: 0.1518, \n"
     ]
    },
    {
     "name": "stdout",
     "output_type": "stream",
     "text": [
      "epoch: 5, [batch: 1344 / 6720], examples_per_second: 3142.2760, train_label_loss: 0.5451, \n"
     ]
    },
    {
     "name": "stdout",
     "output_type": "stream",
     "text": [
      "epoch: 5, [batch: 2016 / 6720], examples_per_second: 3077.8352, train_label_loss: 0.6237, \n"
     ]
    },
    {
     "name": "stdout",
     "output_type": "stream",
     "text": [
      "epoch: 5, [batch: 2688 / 6720], examples_per_second: 3194.4388, train_label_loss: 0.2363, \n"
     ]
    },
    {
     "name": "stdout",
     "output_type": "stream",
     "text": [
      "epoch: 5, [batch: 3360 / 6720], examples_per_second: 3191.8172, train_label_loss: 0.1027, \n"
     ]
    },
    {
     "name": "stdout",
     "output_type": "stream",
     "text": [
      "epoch: 5, [batch: 4032 / 6720], examples_per_second: 3167.7186, train_label_loss: 0.2101, \n"
     ]
    },
    {
     "name": "stdout",
     "output_type": "stream",
     "text": [
      "epoch: 5, [batch: 4704 / 6720], examples_per_second: 3116.7421, train_label_loss: 0.1257, \n"
     ]
    },
    {
     "name": "stdout",
     "output_type": "stream",
     "text": [
      "epoch: 5, [batch: 5376 / 6720], examples_per_second: 3151.1900, train_label_loss: 0.4979, \n"
     ]
    },
    {
     "name": "stdout",
     "output_type": "stream",
     "text": [
      "epoch: 5, [batch: 6048 / 6720], examples_per_second: 3165.8705, train_label_loss: 0.3067, \n"
     ]
    },
    {
     "name": "stdout",
     "output_type": "stream",
     "text": [
      "=============================================================\n",
      "epoch: 5, source_val_acc_label: 0.8465, target_val_acc_label: 0.5997, source_val_label_loss: 0.4223, target_val_label_loss: 537.9591, \n",
      "=============================================================\n"
     ]
    },
    {
     "name": "stdout",
     "output_type": "stream",
     "text": [
      "New best\n"
     ]
    },
    {
     "name": "stdout",
     "output_type": "stream",
     "text": [
      "epoch: 6, [batch: 1 / 6720], examples_per_second: 3.9687, train_label_loss: 0.2622, \n"
     ]
    },
    {
     "name": "stdout",
     "output_type": "stream",
     "text": [
      "epoch: 6, [batch: 672 / 6720], examples_per_second: 3165.6617, train_label_loss: 0.6102, \n"
     ]
    },
    {
     "name": "stdout",
     "output_type": "stream",
     "text": [
      "epoch: 6, [batch: 1344 / 6720], examples_per_second: 3131.2466, train_label_loss: 0.4411, \n"
     ]
    },
    {
     "name": "stdout",
     "output_type": "stream",
     "text": [
      "epoch: 6, [batch: 2016 / 6720], examples_per_second: 3142.3948, train_label_loss: 0.1162, \n"
     ]
    },
    {
     "name": "stdout",
     "output_type": "stream",
     "text": [
      "epoch: 6, [batch: 2688 / 6720], examples_per_second: 3179.2441, train_label_loss: 0.1175, \n"
     ]
    },
    {
     "name": "stdout",
     "output_type": "stream",
     "text": [
      "epoch: 6, [batch: 3360 / 6720], examples_per_second: 3173.9723, train_label_loss: 0.1457, \n"
     ]
    },
    {
     "name": "stdout",
     "output_type": "stream",
     "text": [
      "epoch: 6, [batch: 4032 / 6720], examples_per_second: 3187.1728, train_label_loss: 0.5048, \n"
     ]
    },
    {
     "name": "stdout",
     "output_type": "stream",
     "text": [
      "epoch: 6, [batch: 4704 / 6720], examples_per_second: 3119.4049, train_label_loss: 0.2970, \n"
     ]
    },
    {
     "name": "stdout",
     "output_type": "stream",
     "text": [
      "epoch: 6, [batch: 5376 / 6720], examples_per_second: 3174.8045, train_label_loss: 0.2958, \n"
     ]
    },
    {
     "name": "stdout",
     "output_type": "stream",
     "text": [
      "epoch: 6, [batch: 6048 / 6720], examples_per_second: 3155.4907, train_label_loss: 0.0696, \n"
     ]
    },
    {
     "name": "stdout",
     "output_type": "stream",
     "text": [
      "=============================================================\n",
      "epoch: 6, source_val_acc_label: 0.8832, target_val_acc_label: 0.6091, source_val_label_loss: 0.3221, target_val_label_loss: 579.3970, \n",
      "=============================================================\n"
     ]
    },
    {
     "name": "stdout",
     "output_type": "stream",
     "text": [
      "New best\n"
     ]
    },
    {
     "name": "stdout",
     "output_type": "stream",
     "text": [
      "epoch: 7, [batch: 1 / 6720], examples_per_second: 3.9313, train_label_loss: 0.0638, \n"
     ]
    },
    {
     "name": "stdout",
     "output_type": "stream",
     "text": [
      "epoch: 7, [batch: 672 / 6720], examples_per_second: 3114.0444, train_label_loss: 0.5206, \n"
     ]
    },
    {
     "name": "stdout",
     "output_type": "stream",
     "text": [
      "epoch: 7, [batch: 1344 / 6720], examples_per_second: 3109.0229, train_label_loss: 0.1350, \n"
     ]
    },
    {
     "name": "stdout",
     "output_type": "stream",
     "text": [
      "epoch: 7, [batch: 2016 / 6720], examples_per_second: 3200.3783, train_label_loss: 0.3060, \n"
     ]
    },
    {
     "name": "stdout",
     "output_type": "stream",
     "text": [
      "epoch: 7, [batch: 2688 / 6720], examples_per_second: 3190.1031, train_label_loss: 0.5395, \n"
     ]
    },
    {
     "name": "stdout",
     "output_type": "stream",
     "text": [
      "epoch: 7, [batch: 3360 / 6720], examples_per_second: 3200.8593, train_label_loss: 0.7545, \n"
     ]
    },
    {
     "name": "stdout",
     "output_type": "stream",
     "text": [
      "epoch: 7, [batch: 4032 / 6720], examples_per_second: 3205.4204, train_label_loss: 0.1085, \n"
     ]
    },
    {
     "name": "stdout",
     "output_type": "stream",
     "text": [
      "epoch: 7, [batch: 4704 / 6720], examples_per_second: 3200.7241, train_label_loss: 0.2109, \n"
     ]
    },
    {
     "name": "stdout",
     "output_type": "stream",
     "text": [
      "epoch: 7, [batch: 5376 / 6720], examples_per_second: 3211.1808, train_label_loss: 0.1884, \n"
     ]
    },
    {
     "name": "stdout",
     "output_type": "stream",
     "text": [
      "epoch: 7, [batch: 6048 / 6720], examples_per_second: 3203.0722, train_label_loss: 0.1856, \n"
     ]
    },
    {
     "name": "stdout",
     "output_type": "stream",
     "text": [
      "=============================================================\n",
      "epoch: 7, source_val_acc_label: 0.8734, target_val_acc_label: 0.6138, source_val_label_loss: 0.3421, target_val_label_loss: 664.8533, \n",
      "=============================================================\n"
     ]
    },
    {
     "name": "stdout",
     "output_type": "stream",
     "text": [
      "New best\n"
     ]
    },
    {
     "name": "stdout",
     "output_type": "stream",
     "text": [
      "epoch: 8, [batch: 1 / 6720], examples_per_second: 3.9709, train_label_loss: 0.4050, \n"
     ]
    },
    {
     "name": "stdout",
     "output_type": "stream",
     "text": [
      "epoch: 8, [batch: 672 / 6720], examples_per_second: 3149.2050, train_label_loss: 0.4907, \n"
     ]
    },
    {
     "name": "stdout",
     "output_type": "stream",
     "text": [
      "epoch: 8, [batch: 1344 / 6720], examples_per_second: 3185.9122, train_label_loss: 0.4239, \n"
     ]
    },
    {
     "name": "stdout",
     "output_type": "stream",
     "text": [
      "epoch: 8, [batch: 2016 / 6720], examples_per_second: 3164.1782, train_label_loss: 0.0794, \n"
     ]
    },
    {
     "name": "stdout",
     "output_type": "stream",
     "text": [
      "epoch: 8, [batch: 2688 / 6720], examples_per_second: 3178.6784, train_label_loss: 0.0802, \n"
     ]
    },
    {
     "name": "stdout",
     "output_type": "stream",
     "text": [
      "epoch: 8, [batch: 3360 / 6720], examples_per_second: 3064.6922, train_label_loss: 0.3576, \n"
     ]
    },
    {
     "name": "stdout",
     "output_type": "stream",
     "text": [
      "epoch: 8, [batch: 4032 / 6720], examples_per_second: 3140.7280, train_label_loss: 0.4316, \n"
     ]
    },
    {
     "name": "stdout",
     "output_type": "stream",
     "text": [
      "epoch: 8, [batch: 4704 / 6720], examples_per_second: 3083.7481, train_label_loss: 0.2996, \n"
     ]
    },
    {
     "name": "stdout",
     "output_type": "stream",
     "text": [
      "epoch: 8, [batch: 5376 / 6720], examples_per_second: 3202.4061, train_label_loss: 0.1884, \n"
     ]
    },
    {
     "name": "stdout",
     "output_type": "stream",
     "text": [
      "epoch: 8, [batch: 6048 / 6720], examples_per_second: 3145.2751, train_label_loss: 0.2514, \n"
     ]
    },
    {
     "name": "stdout",
     "output_type": "stream",
     "text": [
      "=============================================================\n",
      "epoch: 8, source_val_acc_label: 0.8960, target_val_acc_label: 0.6094, source_val_label_loss: 0.2872, target_val_label_loss: 729.3325, \n",
      "=============================================================\n"
     ]
    },
    {
     "name": "stdout",
     "output_type": "stream",
     "text": [
      "epoch: 9, [batch: 1 / 6720], examples_per_second: 3.9542, train_label_loss: 0.1161, \n"
     ]
    },
    {
     "name": "stdout",
     "output_type": "stream",
     "text": [
      "epoch: 9, [batch: 672 / 6720], examples_per_second: 3181.4489, train_label_loss: 0.4918, \n"
     ]
    },
    {
     "name": "stdout",
     "output_type": "stream",
     "text": [
      "epoch: 9, [batch: 1344 / 6720], examples_per_second: 3174.9634, train_label_loss: 0.4039, \n"
     ]
    },
    {
     "name": "stdout",
     "output_type": "stream",
     "text": [
      "epoch: 9, [batch: 2016 / 6720], examples_per_second: 3145.9834, train_label_loss: 0.1754, \n"
     ]
    },
    {
     "name": "stdout",
     "output_type": "stream",
     "text": [
      "epoch: 9, [batch: 2688 / 6720], examples_per_second: 3112.8719, train_label_loss: 0.2049, \n"
     ]
    },
    {
     "name": "stdout",
     "output_type": "stream",
     "text": [
      "epoch: 9, [batch: 3360 / 6720], examples_per_second: 3045.9069, train_label_loss: 0.3784, \n"
     ]
    },
    {
     "name": "stdout",
     "output_type": "stream",
     "text": [
      "epoch: 9, [batch: 4032 / 6720], examples_per_second: 3169.0144, train_label_loss: 0.3970, \n"
     ]
    },
    {
     "name": "stdout",
     "output_type": "stream",
     "text": [
      "epoch: 9, [batch: 4704 / 6720], examples_per_second: 3141.4939, train_label_loss: 0.0765, \n"
     ]
    },
    {
     "name": "stdout",
     "output_type": "stream",
     "text": [
      "epoch: 9, [batch: 5376 / 6720], examples_per_second: 3157.7384, train_label_loss: 0.1611, \n"
     ]
    },
    {
     "name": "stdout",
     "output_type": "stream",
     "text": [
      "epoch: 9, [batch: 6048 / 6720], examples_per_second: 3097.9434, train_label_loss: 0.0968, \n"
     ]
    },
    {
     "name": "stdout",
     "output_type": "stream",
     "text": [
      "=============================================================\n",
      "epoch: 9, source_val_acc_label: 0.8898, target_val_acc_label: 0.6194, source_val_label_loss: 0.3008, target_val_label_loss: 755.0346, \n",
      "=============================================================\n"
     ]
    },
    {
     "name": "stdout",
     "output_type": "stream",
     "text": [
      "New best\n"
     ]
    },
    {
     "name": "stdout",
     "output_type": "stream",
     "text": [
      "epoch: 10, [batch: 1 / 6720], examples_per_second: 3.9875, train_label_loss: 0.2929, \n"
     ]
    },
    {
     "name": "stdout",
     "output_type": "stream",
     "text": [
      "epoch: 10, [batch: 672 / 6720], examples_per_second: 3161.8571, train_label_loss: 0.2354, \n"
     ]
    },
    {
     "name": "stdout",
     "output_type": "stream",
     "text": [
      "epoch: 10, [batch: 1344 / 6720], examples_per_second: 3189.0571, train_label_loss: 0.3079, \n"
     ]
    },
    {
     "name": "stdout",
     "output_type": "stream",
     "text": [
      "epoch: 10, [batch: 2016 / 6720], examples_per_second: 3211.6794, train_label_loss: 0.2016, \n"
     ]
    },
    {
     "name": "stdout",
     "output_type": "stream",
     "text": [
      "epoch: 10, [batch: 2688 / 6720], examples_per_second: 3192.4482, train_label_loss: 0.1308, \n"
     ]
    },
    {
     "name": "stdout",
     "output_type": "stream",
     "text": [
      "epoch: 10, [batch: 3360 / 6720], examples_per_second: 3206.3252, train_label_loss: 0.1413, \n"
     ]
    },
    {
     "name": "stdout",
     "output_type": "stream",
     "text": [
      "epoch: 10, [batch: 4032 / 6720], examples_per_second: 3223.1878, train_label_loss: 0.1717, \n"
     ]
    },
    {
     "name": "stdout",
     "output_type": "stream",
     "text": [
      "epoch: 10, [batch: 4704 / 6720], examples_per_second: 3208.4254, train_label_loss: 0.2228, \n"
     ]
    },
    {
     "name": "stdout",
     "output_type": "stream",
     "text": [
      "epoch: 10, [batch: 5376 / 6720], examples_per_second: 3216.4868, train_label_loss: 0.2325, \n"
     ]
    },
    {
     "name": "stdout",
     "output_type": "stream",
     "text": [
      "epoch: 10, [batch: 6048 / 6720], examples_per_second: 3229.2926, train_label_loss: 0.0274, \n"
     ]
    },
    {
     "name": "stdout",
     "output_type": "stream",
     "text": [
      "=============================================================\n",
      "epoch: 10, source_val_acc_label: 0.9055, target_val_acc_label: 0.6119, source_val_label_loss: 0.2626, target_val_label_loss: 791.4147, \n",
      "=============================================================\n"
     ]
    },
    {
     "name": "stdout",
     "output_type": "stream",
     "text": [
      "epoch: 11, [batch: 1 / 6720], examples_per_second: 4.0437, train_label_loss: 0.2370, \n"
     ]
    },
    {
     "name": "stdout",
     "output_type": "stream",
     "text": [
      "epoch: 11, [batch: 672 / 6720], examples_per_second: 3194.3186, train_label_loss: 0.2231, \n"
     ]
    },
    {
     "name": "stdout",
     "output_type": "stream",
     "text": [
      "epoch: 11, [batch: 1344 / 6720], examples_per_second: 3191.0233, train_label_loss: 0.2660, \n"
     ]
    },
    {
     "name": "stdout",
     "output_type": "stream",
     "text": [
      "epoch: 11, [batch: 2016 / 6720], examples_per_second: 3213.5931, train_label_loss: 0.2041, \n"
     ]
    },
    {
     "name": "stdout",
     "output_type": "stream",
     "text": [
      "epoch: 11, [batch: 2688 / 6720], examples_per_second: 3214.1209, train_label_loss: 0.5593, \n"
     ]
    },
    {
     "name": "stdout",
     "output_type": "stream",
     "text": [
      "epoch: 11, [batch: 3360 / 6720], examples_per_second: 3180.4647, train_label_loss: 0.2988, \n"
     ]
    },
    {
     "name": "stdout",
     "output_type": "stream",
     "text": [
      "epoch: 11, [batch: 4032 / 6720], examples_per_second: 3140.8899, train_label_loss: 0.2333, \n"
     ]
    },
    {
     "name": "stdout",
     "output_type": "stream",
     "text": [
      "epoch: 11, [batch: 4704 / 6720], examples_per_second: 3110.0304, train_label_loss: 0.0360, \n"
     ]
    },
    {
     "name": "stdout",
     "output_type": "stream",
     "text": [
      "epoch: 11, [batch: 5376 / 6720], examples_per_second: 3167.0884, train_label_loss: 0.2894, \n"
     ]
    },
    {
     "name": "stdout",
     "output_type": "stream",
     "text": [
      "epoch: 11, [batch: 6048 / 6720], examples_per_second: 3101.3723, train_label_loss: 0.1363, \n"
     ]
    },
    {
     "name": "stdout",
     "output_type": "stream",
     "text": [
      "=============================================================\n",
      "epoch: 11, source_val_acc_label: 0.9051, target_val_acc_label: 0.6199, source_val_label_loss: 0.2687, target_val_label_loss: 878.6256, \n",
      "=============================================================\n"
     ]
    },
    {
     "name": "stdout",
     "output_type": "stream",
     "text": [
      "New best\n"
     ]
    },
    {
     "name": "stdout",
     "output_type": "stream",
     "text": [
      "epoch: 12, [batch: 1 / 6720], examples_per_second: 3.8861, train_label_loss: 0.3182, \n"
     ]
    },
    {
     "name": "stdout",
     "output_type": "stream",
     "text": [
      "epoch: 12, [batch: 672 / 6720], examples_per_second: 3182.9450, train_label_loss: 0.3743, \n"
     ]
    },
    {
     "name": "stdout",
     "output_type": "stream",
     "text": [
      "epoch: 12, [batch: 1344 / 6720], examples_per_second: 3189.4218, train_label_loss: 0.0724, \n"
     ]
    },
    {
     "name": "stdout",
     "output_type": "stream",
     "text": [
      "epoch: 12, [batch: 2016 / 6720], examples_per_second: 3147.3446, train_label_loss: 0.2883, \n"
     ]
    },
    {
     "name": "stdout",
     "output_type": "stream",
     "text": [
      "epoch: 12, [batch: 2688 / 6720], examples_per_second: 3020.4398, train_label_loss: 0.0730, \n"
     ]
    },
    {
     "name": "stdout",
     "output_type": "stream",
     "text": [
      "epoch: 12, [batch: 3360 / 6720], examples_per_second: 3161.3667, train_label_loss: 0.3119, \n"
     ]
    },
    {
     "name": "stdout",
     "output_type": "stream",
     "text": [
      "epoch: 12, [batch: 4032 / 6720], examples_per_second: 3117.8755, train_label_loss: 0.1458, \n"
     ]
    },
    {
     "name": "stdout",
     "output_type": "stream",
     "text": [
      "epoch: 12, [batch: 4704 / 6720], examples_per_second: 3189.7892, train_label_loss: 0.1322, \n"
     ]
    },
    {
     "name": "stdout",
     "output_type": "stream",
     "text": [
      "epoch: 12, [batch: 5376 / 6720], examples_per_second: 3044.5062, train_label_loss: 0.0487, \n"
     ]
    },
    {
     "name": "stdout",
     "output_type": "stream",
     "text": [
      "epoch: 12, [batch: 6048 / 6720], examples_per_second: 3122.7574, train_label_loss: 0.1530, \n"
     ]
    },
    {
     "name": "stdout",
     "output_type": "stream",
     "text": [
      "=============================================================\n",
      "epoch: 12, source_val_acc_label: 0.9035, target_val_acc_label: 0.6166, source_val_label_loss: 0.2709, target_val_label_loss: 1023.0672, \n",
      "=============================================================\n"
     ]
    },
    {
     "name": "stdout",
     "output_type": "stream",
     "text": [
      "epoch: 13, [batch: 1 / 6720], examples_per_second: 3.9279, train_label_loss: 0.3088, \n"
     ]
    },
    {
     "name": "stdout",
     "output_type": "stream",
     "text": [
      "epoch: 13, [batch: 672 / 6720], examples_per_second: 3157.3870, train_label_loss: 0.1469, \n"
     ]
    },
    {
     "name": "stdout",
     "output_type": "stream",
     "text": [
      "epoch: 13, [batch: 1344 / 6720], examples_per_second: 3131.3118, train_label_loss: 0.1155, \n"
     ]
    },
    {
     "name": "stdout",
     "output_type": "stream",
     "text": [
      "epoch: 13, [batch: 2016 / 6720], examples_per_second: 3106.7326, train_label_loss: 0.3200, \n"
     ]
    },
    {
     "name": "stdout",
     "output_type": "stream",
     "text": [
      "epoch: 13, [batch: 2688 / 6720], examples_per_second: 3122.8459, train_label_loss: 0.0436, \n"
     ]
    },
    {
     "name": "stdout",
     "output_type": "stream",
     "text": [
      "epoch: 13, [batch: 3360 / 6720], examples_per_second: 3142.8010, train_label_loss: 0.3894, \n"
     ]
    },
    {
     "name": "stdout",
     "output_type": "stream",
     "text": [
      "epoch: 13, [batch: 4032 / 6720], examples_per_second: 3153.3793, train_label_loss: 0.2678, \n"
     ]
    },
    {
     "name": "stdout",
     "output_type": "stream",
     "text": [
      "epoch: 13, [batch: 4704 / 6720], examples_per_second: 3146.7493, train_label_loss: 0.0134, \n"
     ]
    },
    {
     "name": "stdout",
     "output_type": "stream",
     "text": [
      "epoch: 13, [batch: 5376 / 6720], examples_per_second: 3171.5413, train_label_loss: 0.0812, \n"
     ]
    },
    {
     "name": "stdout",
     "output_type": "stream",
     "text": [
      "epoch: 13, [batch: 6048 / 6720], examples_per_second: 3139.3082, train_label_loss: 0.1041, \n"
     ]
    },
    {
     "name": "stdout",
     "output_type": "stream",
     "text": [
      "=============================================================\n",
      "epoch: 13, source_val_acc_label: 0.9105, target_val_acc_label: 0.6307, source_val_label_loss: 0.2561, target_val_label_loss: 1054.6461, \n",
      "=============================================================\n"
     ]
    },
    {
     "name": "stdout",
     "output_type": "stream",
     "text": [
      "New best\n"
     ]
    },
    {
     "name": "stdout",
     "output_type": "stream",
     "text": [
      "epoch: 14, [batch: 1 / 6720], examples_per_second: 3.9103, train_label_loss: 0.0985, \n"
     ]
    },
    {
     "name": "stdout",
     "output_type": "stream",
     "text": [
      "epoch: 14, [batch: 672 / 6720], examples_per_second: 3155.9954, train_label_loss: 0.2748, \n"
     ]
    },
    {
     "name": "stdout",
     "output_type": "stream",
     "text": [
      "epoch: 14, [batch: 1344 / 6720], examples_per_second: 3173.2586, train_label_loss: 0.0539, \n"
     ]
    },
    {
     "name": "stdout",
     "output_type": "stream",
     "text": [
      "epoch: 14, [batch: 2016 / 6720], examples_per_second: 3114.7736, train_label_loss: 0.1517, \n"
     ]
    },
    {
     "name": "stdout",
     "output_type": "stream",
     "text": [
      "epoch: 14, [batch: 2688 / 6720], examples_per_second: 3095.1965, train_label_loss: 0.1364, \n"
     ]
    },
    {
     "name": "stdout",
     "output_type": "stream",
     "text": [
      "epoch: 14, [batch: 3360 / 6720], examples_per_second: 3135.4677, train_label_loss: 0.0641, \n"
     ]
    },
    {
     "name": "stdout",
     "output_type": "stream",
     "text": [
      "epoch: 14, [batch: 4032 / 6720], examples_per_second: 3146.6449, train_label_loss: 0.2607, \n"
     ]
    },
    {
     "name": "stdout",
     "output_type": "stream",
     "text": [
      "epoch: 14, [batch: 4704 / 6720], examples_per_second: 3146.3974, train_label_loss: 0.1373, \n"
     ]
    },
    {
     "name": "stdout",
     "output_type": "stream",
     "text": [
      "epoch: 14, [batch: 5376 / 6720], examples_per_second: 3154.3214, train_label_loss: 0.1391, \n"
     ]
    },
    {
     "name": "stdout",
     "output_type": "stream",
     "text": [
      "epoch: 14, [batch: 6048 / 6720], examples_per_second: 3179.9049, train_label_loss: 0.0274, \n"
     ]
    },
    {
     "name": "stdout",
     "output_type": "stream",
     "text": [
      "=============================================================\n",
      "epoch: 14, source_val_acc_label: 0.9083, target_val_acc_label: 0.6296, source_val_label_loss: 0.2642, target_val_label_loss: 1084.7893, \n",
      "=============================================================\n"
     ]
    },
    {
     "name": "stdout",
     "output_type": "stream",
     "text": [
      "epoch: 15, [batch: 1 / 6720], examples_per_second: 3.9362, train_label_loss: 0.0417, \n"
     ]
    },
    {
     "name": "stdout",
     "output_type": "stream",
     "text": [
      "epoch: 15, [batch: 672 / 6720], examples_per_second: 3128.0490, train_label_loss: 0.0103, \n"
     ]
    },
    {
     "name": "stdout",
     "output_type": "stream",
     "text": [
      "epoch: 15, [batch: 1344 / 6720], examples_per_second: 3175.8760, train_label_loss: 0.0497, \n"
     ]
    },
    {
     "name": "stdout",
     "output_type": "stream",
     "text": [
      "epoch: 15, [batch: 2016 / 6720], examples_per_second: 3190.0374, train_label_loss: 0.1554, \n"
     ]
    },
    {
     "name": "stdout",
     "output_type": "stream",
     "text": [
      "epoch: 15, [batch: 2688 / 6720], examples_per_second: 3152.1059, train_label_loss: 0.1884, \n"
     ]
    },
    {
     "name": "stdout",
     "output_type": "stream",
     "text": [
      "epoch: 15, [batch: 3360 / 6720], examples_per_second: 3083.3342, train_label_loss: 0.0928, \n"
     ]
    },
    {
     "name": "stdout",
     "output_type": "stream",
     "text": [
      "epoch: 15, [batch: 4032 / 6720], examples_per_second: 3220.3935, train_label_loss: 0.1294, \n"
     ]
    },
    {
     "name": "stdout",
     "output_type": "stream",
     "text": [
      "epoch: 15, [batch: 4704 / 6720], examples_per_second: 3206.4525, train_label_loss: 0.1264, \n"
     ]
    },
    {
     "name": "stdout",
     "output_type": "stream",
     "text": [
      "epoch: 15, [batch: 5376 / 6720], examples_per_second: 3218.1427, train_label_loss: 0.1065, \n"
     ]
    },
    {
     "name": "stdout",
     "output_type": "stream",
     "text": [
      "epoch: 15, [batch: 6048 / 6720], examples_per_second: 3213.2638, train_label_loss: 0.0942, \n"
     ]
    },
    {
     "name": "stdout",
     "output_type": "stream",
     "text": [
      "=============================================================\n",
      "epoch: 15, source_val_acc_label: 0.9076, target_val_acc_label: 0.6337, source_val_label_loss: 0.2632, target_val_label_loss: 1182.7787, \n",
      "=============================================================\n"
     ]
    },
    {
     "name": "stdout",
     "output_type": "stream",
     "text": [
      "New best\n"
     ]
    },
    {
     "name": "stdout",
     "output_type": "stream",
     "text": [
      "epoch: 16, [batch: 1 / 6720], examples_per_second: 4.0007, train_label_loss: 0.0662, \n"
     ]
    },
    {
     "name": "stdout",
     "output_type": "stream",
     "text": [
      "epoch: 16, [batch: 672 / 6720], examples_per_second: 3143.6266, train_label_loss: 0.1370, \n"
     ]
    },
    {
     "name": "stdout",
     "output_type": "stream",
     "text": [
      "epoch: 16, [batch: 1344 / 6720], examples_per_second: 3182.9932, train_label_loss: 0.0293, \n"
     ]
    },
    {
     "name": "stdout",
     "output_type": "stream",
     "text": [
      "epoch: 16, [batch: 2016 / 6720], examples_per_second: 3195.1309, train_label_loss: 0.0141, \n"
     ]
    },
    {
     "name": "stdout",
     "output_type": "stream",
     "text": [
      "epoch: 16, [batch: 2688 / 6720], examples_per_second: 3153.2679, train_label_loss: 0.1470, \n"
     ]
    },
    {
     "name": "stdout",
     "output_type": "stream",
     "text": [
      "epoch: 16, [batch: 3360 / 6720], examples_per_second: 3185.0845, train_label_loss: 0.1262, \n"
     ]
    },
    {
     "name": "stdout",
     "output_type": "stream",
     "text": [
      "epoch: 16, [batch: 4032 / 6720], examples_per_second: 3180.3490, train_label_loss: 0.2320, \n"
     ]
    },
    {
     "name": "stdout",
     "output_type": "stream",
     "text": [
      "epoch: 16, [batch: 4704 / 6720], examples_per_second: 3183.5993, train_label_loss: 0.1479, \n"
     ]
    },
    {
     "name": "stdout",
     "output_type": "stream",
     "text": [
      "epoch: 16, [batch: 5376 / 6720], examples_per_second: 3215.0262, train_label_loss: 0.0687, \n"
     ]
    },
    {
     "name": "stdout",
     "output_type": "stream",
     "text": [
      "epoch: 16, [batch: 6048 / 6720], examples_per_second: 3142.4383, train_label_loss: 0.0384, \n"
     ]
    },
    {
     "name": "stdout",
     "output_type": "stream",
     "text": [
      "=============================================================\n",
      "epoch: 16, source_val_acc_label: 0.8938, target_val_acc_label: 0.6391, source_val_label_loss: 0.3118, target_val_label_loss: 1209.0244, \n",
      "=============================================================\n"
     ]
    },
    {
     "name": "stdout",
     "output_type": "stream",
     "text": [
      "New best\n"
     ]
    },
    {
     "name": "stdout",
     "output_type": "stream",
     "text": [
      "epoch: 17, [batch: 1 / 6720], examples_per_second: 3.9891, train_label_loss: 0.0603, \n"
     ]
    },
    {
     "name": "stdout",
     "output_type": "stream",
     "text": [
      "epoch: 17, [batch: 672 / 6720], examples_per_second: 3146.8324, train_label_loss: 0.1826, \n"
     ]
    },
    {
     "name": "stdout",
     "output_type": "stream",
     "text": [
      "epoch: 17, [batch: 1344 / 6720], examples_per_second: 3185.9865, train_label_loss: 0.0096, \n"
     ]
    },
    {
     "name": "stdout",
     "output_type": "stream",
     "text": [
      "epoch: 17, [batch: 2016 / 6720], examples_per_second: 3128.0220, train_label_loss: 0.1706, \n"
     ]
    },
    {
     "name": "stdout",
     "output_type": "stream",
     "text": [
      "epoch: 17, [batch: 2688 / 6720], examples_per_second: 3049.2147, train_label_loss: 0.0754, \n"
     ]
    },
    {
     "name": "stdout",
     "output_type": "stream",
     "text": [
      "epoch: 17, [batch: 3360 / 6720], examples_per_second: 3195.1760, train_label_loss: 0.2189, \n"
     ]
    },
    {
     "name": "stdout",
     "output_type": "stream",
     "text": [
      "epoch: 17, [batch: 4032 / 6720], examples_per_second: 3185.0875, train_label_loss: 0.2297, \n"
     ]
    },
    {
     "name": "stdout",
     "output_type": "stream",
     "text": [
      "epoch: 17, [batch: 4704 / 6720], examples_per_second: 3170.3130, train_label_loss: 0.0235, \n"
     ]
    },
    {
     "name": "stdout",
     "output_type": "stream",
     "text": [
      "epoch: 17, [batch: 5376 / 6720], examples_per_second: 3185.5988, train_label_loss: 0.0819, \n"
     ]
    },
    {
     "name": "stdout",
     "output_type": "stream",
     "text": [
      "epoch: 17, [batch: 6048 / 6720], examples_per_second: 3191.1533, train_label_loss: 0.0364, \n"
     ]
    },
    {
     "name": "stdout",
     "output_type": "stream",
     "text": [
      "=============================================================\n",
      "epoch: 17, source_val_acc_label: 0.9098, target_val_acc_label: 0.6388, source_val_label_loss: 0.2691, target_val_label_loss: 1236.2594, \n",
      "=============================================================\n"
     ]
    },
    {
     "name": "stdout",
     "output_type": "stream",
     "text": [
      "epoch: 18, [batch: 1 / 6720], examples_per_second: 3.9591, train_label_loss: 0.0343, \n"
     ]
    },
    {
     "name": "stdout",
     "output_type": "stream",
     "text": [
      "epoch: 18, [batch: 672 / 6720], examples_per_second: 3125.7497, train_label_loss: 0.0954, \n"
     ]
    },
    {
     "name": "stdout",
     "output_type": "stream",
     "text": [
      "epoch: 18, [batch: 1344 / 6720], examples_per_second: 3199.4608, train_label_loss: 0.1176, \n"
     ]
    },
    {
     "name": "stdout",
     "output_type": "stream",
     "text": [
      "epoch: 18, [batch: 2016 / 6720], examples_per_second: 3187.0053, train_label_loss: 0.0613, \n"
     ]
    },
    {
     "name": "stdout",
     "output_type": "stream",
     "text": [
      "epoch: 18, [batch: 2688 / 6720], examples_per_second: 3222.8889, train_label_loss: 0.2554, \n"
     ]
    },
    {
     "name": "stdout",
     "output_type": "stream",
     "text": [
      "epoch: 18, [batch: 3360 / 6720], examples_per_second: 3187.6347, train_label_loss: 0.0692, \n"
     ]
    },
    {
     "name": "stdout",
     "output_type": "stream",
     "text": [
      "epoch: 18, [batch: 4032 / 6720], examples_per_second: 3168.4250, train_label_loss: 0.0130, \n"
     ]
    },
    {
     "name": "stdout",
     "output_type": "stream",
     "text": [
      "epoch: 18, [batch: 4704 / 6720], examples_per_second: 3155.9626, train_label_loss: 0.0255, \n"
     ]
    },
    {
     "name": "stdout",
     "output_type": "stream",
     "text": [
      "epoch: 18, [batch: 5376 / 6720], examples_per_second: 3154.0468, train_label_loss: 0.0482, \n"
     ]
    },
    {
     "name": "stdout",
     "output_type": "stream",
     "text": [
      "epoch: 18, [batch: 6048 / 6720], examples_per_second: 3134.2419, train_label_loss: 0.3117, \n"
     ]
    },
    {
     "name": "stdout",
     "output_type": "stream",
     "text": [
      "=============================================================\n",
      "epoch: 18, source_val_acc_label: 0.9073, target_val_acc_label: 0.6362, source_val_label_loss: 0.2807, target_val_label_loss: 1275.6239, \n",
      "=============================================================\n"
     ]
    },
    {
     "name": "stdout",
     "output_type": "stream",
     "text": [
      "epoch: 19, [batch: 1 / 6720], examples_per_second: 3.9342, train_label_loss: 0.2513, \n"
     ]
    },
    {
     "name": "stdout",
     "output_type": "stream",
     "text": [
      "epoch: 19, [batch: 672 / 6720], examples_per_second: 3146.1683, train_label_loss: 0.0659, \n"
     ]
    },
    {
     "name": "stdout",
     "output_type": "stream",
     "text": [
      "epoch: 19, [batch: 1344 / 6720], examples_per_second: 3154.8991, train_label_loss: 0.0172, \n"
     ]
    },
    {
     "name": "stdout",
     "output_type": "stream",
     "text": [
      "epoch: 19, [batch: 2016 / 6720], examples_per_second: 3209.5925, train_label_loss: 0.2678, \n"
     ]
    },
    {
     "name": "stdout",
     "output_type": "stream",
     "text": [
      "epoch: 19, [batch: 2688 / 6720], examples_per_second: 3183.7169, train_label_loss: 0.0596, \n"
     ]
    },
    {
     "name": "stdout",
     "output_type": "stream",
     "text": [
      "epoch: 19, [batch: 3360 / 6720], examples_per_second: 3133.3904, train_label_loss: 0.0204, \n"
     ]
    },
    {
     "name": "stdout",
     "output_type": "stream",
     "text": [
      "epoch: 19, [batch: 4032 / 6720], examples_per_second: 3134.9972, train_label_loss: 0.0185, \n"
     ]
    },
    {
     "name": "stdout",
     "output_type": "stream",
     "text": [
      "epoch: 19, [batch: 4704 / 6720], examples_per_second: 3145.1986, train_label_loss: 0.1103, \n"
     ]
    },
    {
     "name": "stdout",
     "output_type": "stream",
     "text": [
      "epoch: 19, [batch: 5376 / 6720], examples_per_second: 3140.8879, train_label_loss: 0.0098, \n"
     ]
    },
    {
     "name": "stdout",
     "output_type": "stream",
     "text": [
      "epoch: 19, [batch: 6048 / 6720], examples_per_second: 3182.3100, train_label_loss: 0.2105, \n"
     ]
    },
    {
     "name": "stdout",
     "output_type": "stream",
     "text": [
      "=============================================================\n",
      "epoch: 19, source_val_acc_label: 0.9085, target_val_acc_label: 0.6536, source_val_label_loss: 0.2785, target_val_label_loss: 1479.5283, \n",
      "=============================================================\n"
     ]
    },
    {
     "name": "stdout",
     "output_type": "stream",
     "text": [
      "New best\n"
     ]
    },
    {
     "name": "stdout",
     "output_type": "stream",
     "text": [
      "epoch: 20, [batch: 1 / 6720], examples_per_second: 3.8788, train_label_loss: 0.1182, \n"
     ]
    },
    {
     "name": "stdout",
     "output_type": "stream",
     "text": [
      "epoch: 20, [batch: 672 / 6720], examples_per_second: 3157.0948, train_label_loss: 0.0275, \n"
     ]
    },
    {
     "name": "stdout",
     "output_type": "stream",
     "text": [
      "epoch: 20, [batch: 1344 / 6720], examples_per_second: 3149.3927, train_label_loss: 0.0130, \n"
     ]
    },
    {
     "name": "stdout",
     "output_type": "stream",
     "text": [
      "epoch: 20, [batch: 2016 / 6720], examples_per_second: 3141.6096, train_label_loss: 0.1681, \n"
     ]
    },
    {
     "name": "stdout",
     "output_type": "stream",
     "text": [
      "epoch: 20, [batch: 2688 / 6720], examples_per_second: 3126.8955, train_label_loss: 0.1186, \n"
     ]
    },
    {
     "name": "stdout",
     "output_type": "stream",
     "text": [
      "epoch: 20, [batch: 3360 / 6720], examples_per_second: 3192.3743, train_label_loss: 0.0081, \n"
     ]
    },
    {
     "name": "stdout",
     "output_type": "stream",
     "text": [
      "epoch: 20, [batch: 4032 / 6720], examples_per_second: 3154.0128, train_label_loss: 0.2042, \n"
     ]
    },
    {
     "name": "stdout",
     "output_type": "stream",
     "text": [
      "epoch: 20, [batch: 4704 / 6720], examples_per_second: 3153.9833, train_label_loss: 0.3415, \n"
     ]
    },
    {
     "name": "stdout",
     "output_type": "stream",
     "text": [
      "epoch: 20, [batch: 5376 / 6720], examples_per_second: 3187.8058, train_label_loss: 0.2590, \n"
     ]
    },
    {
     "name": "stdout",
     "output_type": "stream",
     "text": [
      "epoch: 20, [batch: 6048 / 6720], examples_per_second: 3187.5033, train_label_loss: 0.0698, \n"
     ]
    },
    {
     "name": "stdout",
     "output_type": "stream",
     "text": [
      "=============================================================\n",
      "epoch: 20, source_val_acc_label: 0.9116, target_val_acc_label: 0.6541, source_val_label_loss: 0.2681, target_val_label_loss: 1384.7662, \n",
      "=============================================================\n"
     ]
    },
    {
     "name": "stdout",
     "output_type": "stream",
     "text": [
      "New best\n"
     ]
    },
    {
     "name": "stdout",
     "output_type": "stream",
     "text": [
      "epoch: 21, [batch: 1 / 6720], examples_per_second: 3.9428, train_label_loss: 0.1586, \n"
     ]
    },
    {
     "name": "stdout",
     "output_type": "stream",
     "text": [
      "epoch: 21, [batch: 672 / 6720], examples_per_second: 3158.1249, train_label_loss: 0.0799, \n"
     ]
    },
    {
     "name": "stdout",
     "output_type": "stream",
     "text": [
      "epoch: 21, [batch: 1344 / 6720], examples_per_second: 3163.6832, train_label_loss: 0.0486, \n"
     ]
    },
    {
     "name": "stdout",
     "output_type": "stream",
     "text": [
      "epoch: 21, [batch: 2016 / 6720], examples_per_second: 3166.4902, train_label_loss: 0.2647, \n"
     ]
    },
    {
     "name": "stdout",
     "output_type": "stream",
     "text": [
      "epoch: 21, [batch: 2688 / 6720], examples_per_second: 3188.2694, train_label_loss: 0.2501, \n"
     ]
    },
    {
     "name": "stdout",
     "output_type": "stream",
     "text": [
      "epoch: 21, [batch: 3360 / 6720], examples_per_second: 3199.2682, train_label_loss: 0.1056, \n"
     ]
    },
    {
     "name": "stdout",
     "output_type": "stream",
     "text": [
      "epoch: 21, [batch: 4032 / 6720], examples_per_second: 3190.1341, train_label_loss: 0.0307, \n"
     ]
    },
    {
     "name": "stdout",
     "output_type": "stream",
     "text": [
      "epoch: 21, [batch: 4704 / 6720], examples_per_second: 3181.2928, train_label_loss: 0.1351, \n"
     ]
    },
    {
     "name": "stdout",
     "output_type": "stream",
     "text": [
      "epoch: 21, [batch: 5376 / 6720], examples_per_second: 3210.4860, train_label_loss: 0.1557, \n"
     ]
    },
    {
     "name": "stdout",
     "output_type": "stream",
     "text": [
      "epoch: 21, [batch: 6048 / 6720], examples_per_second: 3223.1854, train_label_loss: 0.2419, \n"
     ]
    },
    {
     "name": "stdout",
     "output_type": "stream",
     "text": [
      "=============================================================\n",
      "epoch: 21, source_val_acc_label: 0.9035, target_val_acc_label: 0.6467, source_val_label_loss: 0.2921, target_val_label_loss: 1417.5729, \n",
      "=============================================================\n"
     ]
    },
    {
     "name": "stdout",
     "output_type": "stream",
     "text": [
      "epoch: 22, [batch: 1 / 6720], examples_per_second: 3.9650, train_label_loss: 0.0285, \n"
     ]
    },
    {
     "name": "stdout",
     "output_type": "stream",
     "text": [
      "epoch: 22, [batch: 672 / 6720], examples_per_second: 3186.9901, train_label_loss: 0.0045, \n"
     ]
    },
    {
     "name": "stdout",
     "output_type": "stream",
     "text": [
      "epoch: 22, [batch: 1344 / 6720], examples_per_second: 3191.0202, train_label_loss: 0.0766, \n"
     ]
    },
    {
     "name": "stdout",
     "output_type": "stream",
     "text": [
      "epoch: 22, [batch: 2016 / 6720], examples_per_second: 3165.2689, train_label_loss: 0.0478, \n"
     ]
    },
    {
     "name": "stdout",
     "output_type": "stream",
     "text": [
      "epoch: 22, [batch: 2688 / 6720], examples_per_second: 3180.5705, train_label_loss: 0.0209, \n"
     ]
    },
    {
     "name": "stdout",
     "output_type": "stream",
     "text": [
      "epoch: 22, [batch: 3360 / 6720], examples_per_second: 3156.6751, train_label_loss: 0.0269, \n"
     ]
    },
    {
     "name": "stdout",
     "output_type": "stream",
     "text": [
      "epoch: 22, [batch: 4032 / 6720], examples_per_second: 3182.9730, train_label_loss: 0.1703, \n"
     ]
    },
    {
     "name": "stdout",
     "output_type": "stream",
     "text": [
      "epoch: 22, [batch: 4704 / 6720], examples_per_second: 3137.1258, train_label_loss: 0.0353, \n"
     ]
    },
    {
     "name": "stdout",
     "output_type": "stream",
     "text": [
      "epoch: 22, [batch: 5376 / 6720], examples_per_second: 3180.5611, train_label_loss: 0.1793, \n"
     ]
    },
    {
     "name": "stdout",
     "output_type": "stream",
     "text": [
      "epoch: 22, [batch: 6048 / 6720], examples_per_second: 3153.9377, train_label_loss: 0.1207, \n"
     ]
    },
    {
     "name": "stdout",
     "output_type": "stream",
     "text": [
      "=============================================================\n",
      "epoch: 22, source_val_acc_label: 0.9066, target_val_acc_label: 0.6496, source_val_label_loss: 0.2905, target_val_label_loss: 1528.7059, \n",
      "=============================================================\n"
     ]
    },
    {
     "name": "stdout",
     "output_type": "stream",
     "text": [
      "epoch: 23, [batch: 1 / 6720], examples_per_second: 3.8436, train_label_loss: 0.1546, \n"
     ]
    },
    {
     "name": "stdout",
     "output_type": "stream",
     "text": [
      "epoch: 23, [batch: 672 / 6720], examples_per_second: 3107.7813, train_label_loss: 0.0417, \n"
     ]
    },
    {
     "name": "stdout",
     "output_type": "stream",
     "text": [
      "epoch: 23, [batch: 1344 / 6720], examples_per_second: 3119.9787, train_label_loss: 0.1096, \n"
     ]
    },
    {
     "name": "stdout",
     "output_type": "stream",
     "text": [
      "epoch: 23, [batch: 2016 / 6720], examples_per_second: 3152.0519, train_label_loss: 0.1322, \n"
     ]
    },
    {
     "name": "stdout",
     "output_type": "stream",
     "text": [
      "epoch: 23, [batch: 2688 / 6720], examples_per_second: 3161.4255, train_label_loss: 0.1315, \n"
     ]
    },
    {
     "name": "stdout",
     "output_type": "stream",
     "text": [
      "epoch: 23, [batch: 3360 / 6720], examples_per_second: 3122.7922, train_label_loss: 0.0609, \n"
     ]
    },
    {
     "name": "stdout",
     "output_type": "stream",
     "text": [
      "epoch: 23, [batch: 4032 / 6720], examples_per_second: 3176.6656, train_label_loss: 0.1104, \n"
     ]
    },
    {
     "name": "stdout",
     "output_type": "stream",
     "text": [
      "epoch: 23, [batch: 4704 / 6720], examples_per_second: 3142.3607, train_label_loss: 0.0182, \n"
     ]
    },
    {
     "name": "stdout",
     "output_type": "stream",
     "text": [
      "epoch: 23, [batch: 5376 / 6720], examples_per_second: 3128.9583, train_label_loss: 0.0058, \n"
     ]
    },
    {
     "name": "stdout",
     "output_type": "stream",
     "text": [
      "epoch: 23, [batch: 6048 / 6720], examples_per_second: 3152.7450, train_label_loss: 0.0519, \n"
     ]
    },
    {
     "name": "stdout",
     "output_type": "stream",
     "text": [
      "=============================================================\n",
      "epoch: 23, source_val_acc_label: 0.9094, target_val_acc_label: 0.6486, source_val_label_loss: 0.2855, target_val_label_loss: 1586.0393, \n",
      "=============================================================\n"
     ]
    },
    {
     "name": "stdout",
     "output_type": "stream",
     "text": [
      "epoch: 24, [batch: 1 / 6720], examples_per_second: 3.9509, train_label_loss: 0.0087, \n"
     ]
    },
    {
     "name": "stdout",
     "output_type": "stream",
     "text": [
      "epoch: 24, [batch: 672 / 6720], examples_per_second: 3140.6366, train_label_loss: 0.0805, \n"
     ]
    },
    {
     "name": "stdout",
     "output_type": "stream",
     "text": [
      "epoch: 24, [batch: 1344 / 6720], examples_per_second: 3159.1367, train_label_loss: 0.0749, \n"
     ]
    },
    {
     "name": "stdout",
     "output_type": "stream",
     "text": [
      "epoch: 24, [batch: 2016 / 6720], examples_per_second: 3184.3944, train_label_loss: 0.1298, \n"
     ]
    },
    {
     "name": "stdout",
     "output_type": "stream",
     "text": [
      "epoch: 24, [batch: 2688 / 6720], examples_per_second: 3169.5001, train_label_loss: 0.0065, \n"
     ]
    },
    {
     "name": "stdout",
     "output_type": "stream",
     "text": [
      "epoch: 24, [batch: 3360 / 6720], examples_per_second: 3206.7904, train_label_loss: 0.1033, \n"
     ]
    },
    {
     "name": "stdout",
     "output_type": "stream",
     "text": [
      "epoch: 24, [batch: 4032 / 6720], examples_per_second: 3180.5044, train_label_loss: 0.1344, \n"
     ]
    },
    {
     "name": "stdout",
     "output_type": "stream",
     "text": [
      "epoch: 24, [batch: 4704 / 6720], examples_per_second: 3173.2365, train_label_loss: 0.0068, \n"
     ]
    },
    {
     "name": "stdout",
     "output_type": "stream",
     "text": [
      "epoch: 24, [batch: 5376 / 6720], examples_per_second: 3210.9796, train_label_loss: 0.2725, \n"
     ]
    },
    {
     "name": "stdout",
     "output_type": "stream",
     "text": [
      "epoch: 24, [batch: 6048 / 6720], examples_per_second: 3177.4851, train_label_loss: 0.0515, \n"
     ]
    },
    {
     "name": "stdout",
     "output_type": "stream",
     "text": [
      "=============================================================\n",
      "epoch: 24, source_val_acc_label: 0.9083, target_val_acc_label: 0.6560, source_val_label_loss: 0.2982, target_val_label_loss: 1694.1758, \n",
      "=============================================================\n"
     ]
    },
    {
     "name": "stdout",
     "output_type": "stream",
     "text": [
      "New best\n"
     ]
    },
    {
     "name": "stdout",
     "output_type": "stream",
     "text": [
      "epoch: 25, [batch: 1 / 6720], examples_per_second: 3.9529, train_label_loss: 0.1486, \n"
     ]
    },
    {
     "name": "stdout",
     "output_type": "stream",
     "text": [
      "epoch: 25, [batch: 672 / 6720], examples_per_second: 3176.6122, train_label_loss: 0.1101, \n"
     ]
    },
    {
     "name": "stdout",
     "output_type": "stream",
     "text": [
      "epoch: 25, [batch: 1344 / 6720], examples_per_second: 3175.4692, train_label_loss: 0.1047, \n"
     ]
    },
    {
     "name": "stdout",
     "output_type": "stream",
     "text": [
      "epoch: 25, [batch: 2016 / 6720], examples_per_second: 3126.1985, train_label_loss: 0.0751, \n"
     ]
    },
    {
     "name": "stdout",
     "output_type": "stream",
     "text": [
      "epoch: 25, [batch: 2688 / 6720], examples_per_second: 3168.4157, train_label_loss: 0.0840, \n"
     ]
    },
    {
     "name": "stdout",
     "output_type": "stream",
     "text": [
      "epoch: 25, [batch: 3360 / 6720], examples_per_second: 3161.9371, train_label_loss: 0.0325, \n"
     ]
    },
    {
     "name": "stdout",
     "output_type": "stream",
     "text": [
      "epoch: 25, [batch: 4032 / 6720], examples_per_second: 3222.8290, train_label_loss: 0.1558, \n"
     ]
    },
    {
     "name": "stdout",
     "output_type": "stream",
     "text": [
      "epoch: 25, [batch: 4704 / 6720], examples_per_second: 3235.6213, train_label_loss: 0.0705, \n"
     ]
    },
    {
     "name": "stdout",
     "output_type": "stream",
     "text": [
      "epoch: 25, [batch: 5376 / 6720], examples_per_second: 3202.0343, train_label_loss: 0.1611, \n"
     ]
    },
    {
     "name": "stdout",
     "output_type": "stream",
     "text": [
      "epoch: 25, [batch: 6048 / 6720], examples_per_second: 3075.3141, train_label_loss: 0.0234, \n"
     ]
    },
    {
     "name": "stdout",
     "output_type": "stream",
     "text": [
      "=============================================================\n",
      "epoch: 25, source_val_acc_label: 0.9051, target_val_acc_label: 0.6376, source_val_label_loss: 0.3053, target_val_label_loss: 1691.0861, \n",
      "=============================================================\n"
     ]
    },
    {
     "name": "stdout",
     "output_type": "stream",
     "text": [
      "epoch: 26, [batch: 1 / 6720], examples_per_second: 3.9126, train_label_loss: 0.0565, \n"
     ]
    },
    {
     "name": "stdout",
     "output_type": "stream",
     "text": [
      "epoch: 26, [batch: 672 / 6720], examples_per_second: 3144.0745, train_label_loss: 0.3270, \n"
     ]
    },
    {
     "name": "stdout",
     "output_type": "stream",
     "text": [
      "epoch: 26, [batch: 1344 / 6720], examples_per_second: 3074.8313, train_label_loss: 0.3854, \n"
     ]
    },
    {
     "name": "stdout",
     "output_type": "stream",
     "text": [
      "epoch: 26, [batch: 2016 / 6720], examples_per_second: 3131.0765, train_label_loss: 0.1088, \n"
     ]
    },
    {
     "name": "stdout",
     "output_type": "stream",
     "text": [
      "epoch: 26, [batch: 2688 / 6720], examples_per_second: 3151.3716, train_label_loss: 0.1929, \n"
     ]
    },
    {
     "name": "stdout",
     "output_type": "stream",
     "text": [
      "epoch: 26, [batch: 3360 / 6720], examples_per_second: 3177.1781, train_label_loss: 0.0709, \n"
     ]
    },
    {
     "name": "stdout",
     "output_type": "stream",
     "text": [
      "epoch: 26, [batch: 4032 / 6720], examples_per_second: 3184.3149, train_label_loss: 0.1401, \n"
     ]
    },
    {
     "name": "stdout",
     "output_type": "stream",
     "text": [
      "epoch: 26, [batch: 4704 / 6720], examples_per_second: 3126.1433, train_label_loss: 0.1001, \n"
     ]
    },
    {
     "name": "stdout",
     "output_type": "stream",
     "text": [
      "epoch: 26, [batch: 5376 / 6720], examples_per_second: 3146.9469, train_label_loss: 0.1725, \n"
     ]
    },
    {
     "name": "stdout",
     "output_type": "stream",
     "text": [
      "epoch: 26, [batch: 6048 / 6720], examples_per_second: 3158.5979, train_label_loss: 0.0997, \n"
     ]
    },
    {
     "name": "stdout",
     "output_type": "stream",
     "text": [
      "=============================================================\n",
      "epoch: 26, source_val_acc_label: 0.9109, target_val_acc_label: 0.6525, source_val_label_loss: 0.3004, target_val_label_loss: 1777.9274, \n",
      "=============================================================\n"
     ]
    },
    {
     "name": "stdout",
     "output_type": "stream",
     "text": [
      "epoch: 27, [batch: 1 / 6720], examples_per_second: 3.9067, train_label_loss: 0.0076, \n"
     ]
    },
    {
     "name": "stdout",
     "output_type": "stream",
     "text": [
      "epoch: 27, [batch: 672 / 6720], examples_per_second: 3151.3432, train_label_loss: 0.0057, \n"
     ]
    },
    {
     "name": "stdout",
     "output_type": "stream",
     "text": [
      "epoch: 27, [batch: 1344 / 6720], examples_per_second: 3116.4459, train_label_loss: 0.0666, \n"
     ]
    },
    {
     "name": "stdout",
     "output_type": "stream",
     "text": [
      "epoch: 27, [batch: 2016 / 6720], examples_per_second: 3115.5325, train_label_loss: 0.6314, \n"
     ]
    },
    {
     "name": "stdout",
     "output_type": "stream",
     "text": [
      "epoch: 27, [batch: 2688 / 6720], examples_per_second: 3174.2720, train_label_loss: 0.0467, \n"
     ]
    },
    {
     "name": "stdout",
     "output_type": "stream",
     "text": [
      "epoch: 27, [batch: 3360 / 6720], examples_per_second: 3196.6213, train_label_loss: 0.1353, \n"
     ]
    },
    {
     "name": "stdout",
     "output_type": "stream",
     "text": [
      "epoch: 27, [batch: 4032 / 6720], examples_per_second: 3194.7085, train_label_loss: 0.0056, \n"
     ]
    },
    {
     "name": "stdout",
     "output_type": "stream",
     "text": [
      "epoch: 27, [batch: 4704 / 6720], examples_per_second: 3198.9827, train_label_loss: 0.0890, \n"
     ]
    },
    {
     "name": "stdout",
     "output_type": "stream",
     "text": [
      "epoch: 27, [batch: 5376 / 6720], examples_per_second: 3195.6772, train_label_loss: 0.0820, \n"
     ]
    },
    {
     "name": "stdout",
     "output_type": "stream",
     "text": [
      "epoch: 27, [batch: 6048 / 6720], examples_per_second: 3156.7775, train_label_loss: 0.0379, \n"
     ]
    },
    {
     "name": "stdout",
     "output_type": "stream",
     "text": [
      "=============================================================\n",
      "epoch: 27, source_val_acc_label: 0.9047, target_val_acc_label: 0.6473, source_val_label_loss: 0.3090, target_val_label_loss: 1768.7552, \n",
      "=============================================================\n"
     ]
    },
    {
     "name": "stdout",
     "output_type": "stream",
     "text": [
      "epoch: 28, [batch: 1 / 6720], examples_per_second: 3.9331, train_label_loss: 0.1049, \n"
     ]
    },
    {
     "name": "stdout",
     "output_type": "stream",
     "text": [
      "epoch: 28, [batch: 672 / 6720], examples_per_second: 3126.3657, train_label_loss: 0.0238, \n"
     ]
    },
    {
     "name": "stdout",
     "output_type": "stream",
     "text": [
      "epoch: 28, [batch: 1344 / 6720], examples_per_second: 3156.2344, train_label_loss: 0.0336, \n"
     ]
    },
    {
     "name": "stdout",
     "output_type": "stream",
     "text": [
      "epoch: 28, [batch: 2016 / 6720], examples_per_second: 3159.5119, train_label_loss: 0.0163, \n"
     ]
    },
    {
     "name": "stdout",
     "output_type": "stream",
     "text": [
      "epoch: 28, [batch: 2688 / 6720], examples_per_second: 3164.8685, train_label_loss: 0.2063, \n"
     ]
    },
    {
     "name": "stdout",
     "output_type": "stream",
     "text": [
      "epoch: 28, [batch: 3360 / 6720], examples_per_second: 3097.9347, train_label_loss: 0.1467, \n"
     ]
    },
    {
     "name": "stdout",
     "output_type": "stream",
     "text": [
      "epoch: 28, [batch: 4032 / 6720], examples_per_second: 3136.9974, train_label_loss: 0.0127, \n"
     ]
    },
    {
     "name": "stdout",
     "output_type": "stream",
     "text": [
      "epoch: 28, [batch: 4704 / 6720], examples_per_second: 3185.8722, train_label_loss: 0.0135, \n"
     ]
    },
    {
     "name": "stdout",
     "output_type": "stream",
     "text": [
      "epoch: 28, [batch: 5376 / 6720], examples_per_second: 3200.7711, train_label_loss: 0.0360, \n"
     ]
    },
    {
     "name": "stdout",
     "output_type": "stream",
     "text": [
      "epoch: 28, [batch: 6048 / 6720], examples_per_second: 3196.1602, train_label_loss: 0.0321, \n"
     ]
    },
    {
     "name": "stdout",
     "output_type": "stream",
     "text": [
      "=============================================================\n",
      "epoch: 28, source_val_acc_label: 0.9088, target_val_acc_label: 0.6482, source_val_label_loss: 0.3047, target_val_label_loss: 1853.9819, \n",
      "=============================================================\n"
     ]
    },
    {
     "name": "stdout",
     "output_type": "stream",
     "text": [
      "Patience (3) exhausted\n"
     ]
    }
   ],
   "source": [
    "###################################\n",
    "# train\n",
    "###################################\n",
    "jig = PTN_Train_Eval_Test_Jig(model, p.BEST_MODEL_PATH, p.device)\n",
    "\n",
    "jig.train(\n",
    "    train_iterable=datasets.source.processed.train,\n",
    "    source_val_iterable=datasets.source.processed.val,\n",
    "    target_val_iterable=datasets.target.processed.val,\n",
    "    num_epochs=p.n_epoch,\n",
    "    num_logs_per_epoch=p.NUM_LOGS_PER_EPOCH,\n",
    "    patience=p.patience,\n",
    "    optimizer=optimizer,\n",
    "    criteria_for_best=p.criteria_for_best,\n",
    ")"
   ]
  },
  {
   "cell_type": "code",
   "execution_count": 23,
   "id": "31e8fabf",
   "metadata": {
    "execution": {
     "iopub.execute_input": "2022-03-19T20:07:19.177556Z",
     "iopub.status.busy": "2022-03-19T20:07:19.177286Z",
     "iopub.status.idle": "2022-03-19T20:07:19.194555Z",
     "shell.execute_reply": "2022-03-19T20:07:19.194121Z"
    },
    "papermill": {
     "duration": 0.106086,
     "end_time": "2022-03-19T20:07:19.194649",
     "exception": false,
     "start_time": "2022-03-19T20:07:19.088563",
     "status": "completed"
    },
    "tags": []
   },
   "outputs": [],
   "source": [
    "total_experiment_time_secs = time.time() - start_time_secs"
   ]
  },
  {
   "cell_type": "code",
   "execution_count": 24,
   "id": "87b9595b",
   "metadata": {
    "execution": {
     "iopub.execute_input": "2022-03-19T20:07:19.355539Z",
     "iopub.status.busy": "2022-03-19T20:07:19.355216Z",
     "iopub.status.idle": "2022-03-19T20:09:47.351002Z",
     "shell.execute_reply": "2022-03-19T20:09:47.351469Z"
    },
    "papermill": {
     "duration": 148.074937,
     "end_time": "2022-03-19T20:09:47.351612",
     "exception": false,
     "start_time": "2022-03-19T20:07:19.276675",
     "status": "completed"
    },
    "tags": []
   },
   "outputs": [],
   "source": [
    "###################################\n",
    "# Evaluate the model\n",
    "###################################\n",
    "source_test_label_accuracy, source_test_label_loss = jig.test(datasets.source.processed.test)\n",
    "target_test_label_accuracy, target_test_label_loss = jig.test(datasets.target.processed.test)\n",
    "\n",
    "source_val_label_accuracy, source_val_label_loss = jig.test(datasets.source.processed.val)\n",
    "target_val_label_accuracy, target_val_label_loss = jig.test(datasets.target.processed.val)\n",
    "\n",
    "history = jig.get_history()\n",
    "\n",
    "total_epochs_trained = len(history[\"epoch_indices\"])\n",
    "\n",
    "val_dl = Iterable_Aggregator((datasets.source.original.val,datasets.target.original.val))\n",
    "\n",
    "confusion = ptn_confusion_by_domain_over_dataloader(model, p.device, val_dl)\n",
    "per_domain_accuracy = per_domain_accuracy_from_confusion(confusion)\n",
    "\n",
    "# Add a key to per_domain_accuracy for if it was a source domain\n",
    "for domain, accuracy in per_domain_accuracy.items():\n",
    "    per_domain_accuracy[domain] = {\n",
    "        \"accuracy\": accuracy,\n",
    "        \"source?\": domain in p.domains_source\n",
    "    }\n",
    "\n",
    "# Do an independent accuracy assesment JUST TO BE SURE!\n",
    "# _source_test_label_accuracy = independent_accuracy_assesment(model, datasets.source.processed.test, p.device)\n",
    "# _target_test_label_accuracy = independent_accuracy_assesment(model, datasets.target.processed.test, p.device)\n",
    "# _source_val_label_accuracy = independent_accuracy_assesment(model, datasets.source.processed.val, p.device)\n",
    "# _target_val_label_accuracy = independent_accuracy_assesment(model, datasets.target.processed.val, p.device)\n",
    "\n",
    "# assert(_source_test_label_accuracy == source_test_label_accuracy)\n",
    "# assert(_target_test_label_accuracy == target_test_label_accuracy)\n",
    "# assert(_source_val_label_accuracy == source_val_label_accuracy)\n",
    "# assert(_target_val_label_accuracy == target_val_label_accuracy)\n",
    "\n",
    "experiment = {\n",
    "    \"experiment_name\": p.experiment_name,\n",
    "    \"parameters\": dict(p),\n",
    "    \"results\": {\n",
    "        \"source_test_label_accuracy\": source_test_label_accuracy,\n",
    "        \"source_test_label_loss\": source_test_label_loss,\n",
    "        \"target_test_label_accuracy\": target_test_label_accuracy,\n",
    "        \"target_test_label_loss\": target_test_label_loss,\n",
    "        \"source_val_label_accuracy\": source_val_label_accuracy,\n",
    "        \"source_val_label_loss\": source_val_label_loss,\n",
    "        \"target_val_label_accuracy\": target_val_label_accuracy,\n",
    "        \"target_val_label_loss\": target_val_label_loss,\n",
    "        \"total_epochs_trained\": total_epochs_trained,\n",
    "        \"total_experiment_time_secs\": total_experiment_time_secs,\n",
    "        \"confusion\": confusion,\n",
    "        \"per_domain_accuracy\": per_domain_accuracy,\n",
    "    },\n",
    "    \"history\": history,\n",
    "    \"dataset_metrics\": get_dataset_metrics(datasets, \"ptn\"),\n",
    "}"
   ]
  },
  {
   "cell_type": "code",
   "execution_count": 25,
   "id": "54a21829",
   "metadata": {
    "execution": {
     "iopub.execute_input": "2022-03-19T20:09:47.498560Z",
     "iopub.status.busy": "2022-03-19T20:09:47.497316Z",
     "iopub.status.idle": "2022-03-19T20:09:47.628527Z",
     "shell.execute_reply": "2022-03-19T20:09:47.628755Z"
    },
    "papermill": {
     "duration": 0.204435,
     "end_time": "2022-03-19T20:09:47.628840",
     "exception": false,
     "start_time": "2022-03-19T20:09:47.424405",
     "status": "completed"
    },
    "tags": []
   },
   "outputs": [
    {
     "data": {
      "image/png": "[encoded data removed]",
      "text/plain": [
       "<Figure size 1080x504 with 1 Axes>"
      ]
     },
     "metadata": {
      "needs_background": "light"
     },
     "output_type": "display_data"
    }
   ],
   "source": [
    "ax = get_loss_curve(experiment)\n",
    "plt.show()"
   ]
  },
  {
   "cell_type": "code",
   "execution_count": 26,
   "id": "fd8a0f60",
   "metadata": {
    "execution": {
     "iopub.execute_input": "2022-03-19T20:09:47.777505Z",
     "iopub.status.busy": "2022-03-19T20:09:47.776651Z",
     "iopub.status.idle": "2022-03-19T20:09:47.928001Z",
     "shell.execute_reply": "2022-03-19T20:09:47.928258Z"
    },
    "papermill": {
     "duration": 0.226339,
     "end_time": "2022-03-19T20:09:47.928348",
     "exception": false,
     "start_time": "2022-03-19T20:09:47.702009",
     "status": "completed"
    },
    "tags": []
   },
   "outputs": [
    {
     "data": {
      "text/plain": [
       "<AxesSubplot:title={'center':'Results'}>"
      ]
     },
     "execution_count": 26,
     "metadata": {},
     "output_type": "execute_result"
    },
    {
     "data": {
      "image/png": "[encoded data removed]",
      "text/plain": [
       "<Figure size 1080x504 with 1 Axes>"
      ]
     },
     "metadata": {
      "needs_background": "light"
     },
     "output_type": "display_data"
    }
   ],
   "source": [
    "get_results_table(experiment)"
   ]
  },
  {
   "cell_type": "code",
   "execution_count": 27,
   "id": "cf8dc689",
   "metadata": {
    "execution": {
     "iopub.execute_input": "2022-03-19T20:09:48.083583Z",
     "iopub.status.busy": "2022-03-19T20:09:48.083307Z",
     "iopub.status.idle": "2022-03-19T20:09:48.236761Z",
     "shell.execute_reply": "2022-03-19T20:09:48.237330Z"
    },
    "papermill": {
     "duration": 0.234181,
     "end_time": "2022-03-19T20:09:48.237475",
     "exception": false,
     "start_time": "2022-03-19T20:09:48.003294",
     "status": "completed"
    },
    "tags": []
   },
   "outputs": [
    {
     "data": {
      "text/plain": [
       "<AxesSubplot:title={'center':'Per Domain Validation Accuracy'}, xlabel='domain'>"
      ]
     },
     "execution_count": 27,
     "metadata": {},
     "output_type": "execute_result"
    },
    {
     "data": {
      "image/png": "[encoded data removed]",
      "text/plain": [
       "<Figure size 1080x504 with 1 Axes>"
      ]
     },
     "metadata": {
      "needs_background": "light"
     },
     "output_type": "display_data"
    }
   ],
   "source": [
    "get_domain_accuracies(experiment)"
   ]
  },
  {
   "cell_type": "code",
   "execution_count": 28,
   "id": "a74ae082",
   "metadata": {
    "execution": {
     "iopub.execute_input": "2022-03-19T20:09:48.392785Z",
     "iopub.status.busy": "2022-03-19T20:09:48.392513Z",
     "iopub.status.idle": "2022-03-19T20:09:48.408471Z",
     "shell.execute_reply": "2022-03-19T20:09:48.408052Z"
    },
    "papermill": {
     "duration": 0.092591,
     "end_time": "2022-03-19T20:09:48.408576",
     "exception": false,
     "start_time": "2022-03-19T20:09:48.315985",
     "status": "completed"
    },
    "tags": []
   },
   "outputs": [
    {
     "name": "stdout",
     "output_type": "stream",
     "text": [
      "Source Test Label Accuracy: 0.90927734375 Target Test Label Accuracy: 0.6488911290322581\n",
      "Source Val Label Accuracy: 0.9082682291666667 Target Val Label Accuracy: 0.6559752747252747\n"
     ]
    }
   ],
   "source": [
    "print(\"Source Test Label Accuracy:\", experiment[\"results\"][\"source_test_label_accuracy\"], \"Target Test Label Accuracy:\", experiment[\"results\"][\"target_test_label_accuracy\"])\n",
    "print(\"Source Val Label Accuracy:\", experiment[\"results\"][\"source_val_label_accuracy\"], \"Target Val Label Accuracy:\", experiment[\"results\"][\"target_val_label_accuracy\"])"
   ]
  },
  {
   "cell_type": "code",
   "execution_count": 29,
   "id": "dacca602",
   "metadata": {
    "execution": {
     "iopub.execute_input": "2022-03-19T20:09:48.562891Z",
     "iopub.status.busy": "2022-03-19T20:09:48.561857Z",
     "iopub.status.idle": "2022-03-19T20:09:48.585610Z",
     "shell.execute_reply": "2022-03-19T20:09:48.585913Z"
    },
    "papermill": {
     "duration": 0.09987,
     "end_time": "2022-03-19T20:09:48.586017",
     "exception": false,
     "start_time": "2022-03-19T20:09:48.486147",
     "status": "completed"
    },
    "tags": [
     "experiment_json"
    ]
   },
   "outputs": [
    {
     "data": {
      "text/plain": [
       "'{\"experiment_name\": \"tl_2v2:oracle.run1.framed -> cores+wisig\", \"parameters\": {\"experiment_name\": \"tl_2v2:oracle.run1.framed -> cores+wisig\", \"device\": \"cuda\", \"lr\": 0.0001, \"n_shot\": 3, \"n_query\": 2, \"train_k_factor\": 3, \"val_k_factor\": 2, \"test_k_factor\": 2, \"torch_default_dtype\": \"torch.float32\", \"n_epoch\": 50, \"patience\": 3, \"criteria_for_best\": \"target_accuracy\", \"x_net\": [{\"class\": \"nnReshape\", \"kargs\": {\"shape\": [-1, 1, 2, 256]}}, {\"class\": \"Conv2d\", \"kargs\": {\"in_channels\": 1, \"out_channels\": 256, \"kernel_size\": [1, 7], \"bias\": false, \"padding\": [0, 3]}}, {\"class\": \"ReLU\", \"kargs\": {\"inplace\": true}}, {\"class\": \"BatchNorm2d\", \"kargs\": {\"num_features\": 256}}, {\"class\": \"Conv2d\", \"kargs\": {\"in_channels\": 256, \"out_channels\": 80, \"kernel_size\": [2, 7], \"bias\": true, \"padding\": [0, 3]}}, {\"class\": \"ReLU\", \"kargs\": {\"inplace\": true}}, {\"class\": \"BatchNorm2d\", \"kargs\": {\"num_features\": 80}}, {\"class\": \"Flatten\", \"kargs\": {}}, {\"class\": \"Linear\", \"kargs\": {\"in_features\": 20480, \"out_features\": 256}}, {\"class\": \"ReLU\", \"kargs\": {\"inplace\": true}}, {\"class\": \"BatchNorm1d\", \"kargs\": {\"num_features\": 256}}, {\"class\": \"Linear\", \"kargs\": {\"in_features\": 256, \"out_features\": 256}}], \"NUM_LOGS_PER_EPOCH\": 10, \"BEST_MODEL_PATH\": \"./best_model.pth\", \"n_way\": 16, \"datasets\": [{\"labels\": [\"1-10.\", \"1-11.\", \"1-15.\", \"1-16.\", \"1-17.\", \"1-18.\", \"1-19.\", \"10-4.\", \"10-7.\", \"11-1.\", \"11-14.\", \"11-17.\", \"11-20.\", \"11-7.\", \"13-20.\", \"13-8.\", \"14-10.\", \"14-11.\", \"14-14.\", \"14-7.\", \"15-1.\", \"15-20.\", \"16-1.\", \"16-16.\", \"17-10.\", \"17-11.\", \"17-2.\", \"19-1.\", \"19-16.\", \"19-19.\", \"19-20.\", \"19-3.\", \"2-10.\", \"2-11.\", \"2-17.\", \"2-18.\", \"2-20.\", \"2-3.\", \"2-4.\", \"2-5.\", \"2-6.\", \"2-7.\", \"2-8.\", \"3-13.\", \"3-18.\", \"3-3.\", \"4-1.\", \"4-10.\", \"4-11.\", \"4-19.\", \"5-5.\", \"6-15.\", \"7-10.\", \"7-14.\", \"8-18.\", \"8-20.\", \"8-3.\", \"8-8.\"], \"domains\": [1, 2, 3, 4, 5], \"num_examples_per_domain_per_label\": -1, \"pickle_path\": \"/mnt/wd500GB/CSC500/csc500-main/datasets/cores.stratified_ds.2022A.pkl\", \"source_or_target_dataset\": \"target\", \"x_transforms\": [\"unit_mag\"], \"episode_transforms\": [], \"domain_prefix\": \"C_\"}, {\"labels\": [\"1-10\", \"1-12\", \"1-14\", \"1-16\", \"1-18\", \"1-19\", \"1-8\", \"10-11\", \"10-17\", \"10-4\", \"10-7\", \"11-1\", \"11-10\", \"11-19\", \"11-20\", \"11-4\", \"11-7\", \"12-19\", \"12-20\", \"12-7\", \"13-14\", \"13-18\", \"13-19\", \"13-20\", \"13-3\", \"13-7\", \"14-10\", \"14-11\", \"14-12\", \"14-13\", \"14-14\", \"14-19\", \"14-20\", \"14-7\", \"14-8\", \"14-9\", \"15-1\", \"15-19\", \"15-6\", \"16-1\", \"16-16\", \"16-19\", \"16-20\", \"17-10\", \"17-11\", \"18-1\", \"18-10\", \"18-11\", \"18-12\", \"18-13\", \"18-14\", \"18-15\", \"18-16\", \"18-17\", \"18-19\", \"18-2\", \"18-20\", \"18-4\", \"18-5\", \"18-7\", \"18-8\", \"18-9\", \"19-1\", \"19-10\", \"19-11\", \"19-12\", \"19-13\", \"19-14\", \"19-15\", \"19-19\", \"19-2\", \"19-20\", \"19-3\", \"19-4\", \"19-6\", \"19-7\", \"19-8\", \"19-9\", \"2-1\", \"2-13\", \"2-15\", \"2-3\", \"2-4\", \"2-5\", \"2-6\", \"2-7\", \"2-8\", \"20-1\", \"20-12\", \"20-14\", \"20-15\", \"20-16\", \"20-18\", \"20-19\", \"20-20\", \"20-3\", \"20-4\", \"20-5\", \"20-7\", \"20-8\", \"3-1\", \"3-13\", \"3-18\", \"3-2\", \"3-8\", \"4-1\", \"4-10\", \"4-11\", \"5-1\", \"5-5\", \"6-1\", \"6-15\", \"6-6\", \"7-10\", \"7-11\", \"7-12\", \"7-13\", \"7-14\", \"7-7\", \"7-8\", \"7-9\", \"8-1\", \"8-13\", \"8-14\", \"8-18\", \"8-20\", \"8-3\", \"8-8\", \"9-1\", \"9-7\"], \"domains\": [1, 2, 3, 4], \"num_examples_per_domain_per_label\": -1, \"pickle_path\": \"/mnt/wd500GB/CSC500/csc500-main/datasets/wisig.node3-19.stratified_ds.2022A.pkl\", \"source_or_target_dataset\": \"target\", \"x_transforms\": [\"unit_mag\"], \"episode_transforms\": [], \"domain_prefix\": \"W_\"}, {\"labels\": [\"3123D52\", \"3123D65\", \"3123D79\", \"3123D80\", \"3123D54\", \"3123D70\", \"3123D7B\", \"3123D89\", \"3123D58\", \"3123D76\", \"3123D7D\", \"3123EFE\", \"3123D64\", \"3123D78\", \"3123D7E\", \"3124E4A\"], \"domains\": [32, 38, 8, 44, 14, 50, 20, 26], \"num_examples_per_domain_per_label\": 2000, \"pickle_path\": \"/mnt/wd500GB/CSC500/csc500-main/datasets/oracle.Run1_framed_2000Examples_stratified_ds.2022A.pkl\", \"source_or_target_dataset\": \"source\", \"x_transforms\": [\"unit_mag\"], \"episode_transforms\": [], \"domain_prefix\": \"O_\"}], \"seed\": 1337, \"dataset_seed\": 1337, \"x_shape\": [2, 256], \"domains_source\": [\"O_32\", \"O_38\", \"O_8\", \"O_44\", \"O_14\", \"O_50\", \"O_20\", \"O_26\"], \"domains_target\": [\"C_1\", \"C_2\", \"C_3\", \"C_4\", \"C_5\", \"W_1\", \"W_2\", \"W_3\", \"W_4\"]}, \"results\": {\"source_test_label_accuracy\": 0.90927734375, \"source_test_label_loss\": 0.3704640865325928, \"target_test_label_accuracy\": 0.6488911290322581, \"target_test_label_loss\": 1684.37353515625, \"source_val_label_accuracy\": 0.9082682291666667, \"source_val_label_loss\": 0.2982238531112671, \"target_val_label_accuracy\": 0.6559752747252747, \"target_val_label_loss\": 1694.17578125, \"total_epochs_trained\": 28, \"total_experiment_time_secs\": 5468.1877455711365, \"confusion\": {\"O_14\": {\"15\": {\"15\": 240}, \"3\": {\"3\": 232, \"2\": 3, \"0\": 1, \"5\": 2, \"4\": 1, \"14\": 1}, \"6\": {\"6\": 202, \"13\": 33, \"2\": 5}, \"1\": {\"1\": 238, \"5\": 2}, \"8\": {\"8\": 240}, \"10\": {\"10\": 240}, \"9\": {\"9\": 240}, \"13\": {\"6\": 33, \"13\": 199, \"2\": 3, \"5\": 3, \"14\": 1, \"4\": 1}, \"12\": {\"12\": 240}, \"5\": {\"5\": 222, \"4\": 8, \"2\": 6, \"3\": 4}, \"0\": {\"0\": 240}, \"2\": {\"2\": 175, \"5\": 12, \"14\": 45, \"13\": 2, \"3\": 2, \"6\": 4}, \"11\": {\"11\": 236, \"9\": 4}, \"14\": {\"14\": 208, \"2\": 30, \"13\": 1, \"3\": 1}, \"7\": {\"7\": 240}, \"4\": {\"4\": 236, \"6\": 1, \"5\": 3}}, \"O_20\": {\"3\": {\"3\": 183, \"7\": 1, \"1\": 2, \"9\": 10, \"12\": 28, \"4\": 3, \"10\": 1, \"2\": 12}, \"15\": {\"15\": 227, \"1\": 5, \"0\": 1, \"5\": 6, \"12\": 1}, \"8\": {\"8\": 238, \"7\": 1, \"4\": 1}, \"4\": {\"4\": 235, \"3\": 1, \"8\": 4}, \"14\": {\"6\": 5, \"14\": 234, \"10\": 1}, \"0\": {\"5\": 6, \"0\": 230, \"8\": 1, \"15\": 3}, \"7\": {\"7\": 235, \"3\": 1, \"2\": 2, \"8\": 1, \"9\": 1}, \"6\": {\"6\": 239, \"14\": 1}, \"10\": {\"10\": 239, \"4\": 1}, \"5\": {\"5\": 228, \"15\": 3, \"0\": 5, \"1\": 1, \"12\": 3}, \"2\": {\"2\": 203, \"9\": 19, \"3\": 6, \"7\": 5, \"12\": 6, \"13\": 1}, \"12\": {\"12\": 200, \"3\": 15, \"1\": 20, \"2\": 4, \"5\": 1}, \"9\": {\"9\": 210, \"3\": 8, \"2\": 19, \"12\": 3}, \"1\": {\"1\": 210, \"5\": 1, \"12\": 26, \"15\": 3}, \"11\": {\"11\": 240}, \"13\": {\"13\": 240}}, \"O_38\": {\"5\": {\"5\": 175, \"8\": 44, \"7\": 10, \"9\": 8, \"13\": 1, \"15\": 1, \"0\": 1}, \"8\": {\"8\": 201, \"5\": 22, \"0\": 12, \"7\": 2, \"13\": 2, \"15\": 1}, \"11\": {\"11\": 238, \"14\": 2}, \"1\": {\"1\": 235, \"15\": 5}, \"10\": {\"10\": 220, \"4\": 1, \"0\": 5, \"7\": 1, \"13\": 12, \"8\": 1}, \"15\": {\"15\": 225, \"1\": 8, \"8\": 2, \"2\": 2, \"5\": 3}, \"3\": {\"3\": 239, \"0\": 1}, \"7\": {\"7\": 214, \"8\": 6, \"0\": 9, \"5\": 11}, \"4\": {\"4\": 240}, \"14\": {\"14\": 233, \"2\": 7}, \"9\": {\"9\": 239, \"6\": 1}, \"12\": {\"12\": 239, \"4\": 1}, \"6\": {\"6\": 240}, \"2\": {\"2\": 229, \"13\": 5, \"15\": 1, \"14\": 5}, \"0\": {\"8\": 12, \"0\": 215, \"3\": 4, \"13\": 3, \"9\": 1, \"10\": 1, \"5\": 1, \"7\": 3}, \"13\": {\"13\": 231, \"15\": 3, \"10\": 3, \"0\": 2, \"2\": 1}}, \"O_8\": {\"9\": {\"9\": 240}, \"10\": {\"10\": 218, \"4\": 4, \"14\": 2, \"13\": 16}, \"13\": {\"13\": 177, \"4\": 20, \"0\": 10, \"10\": 21, \"6\": 10, \"14\": 2}, \"0\": {\"0\": 227, \"7\": 4, \"13\": 6, \"10\": 3}, \"1\": {\"1\": 238, \"5\": 1, \"14\": 1}, \"15\": {\"15\": 219, \"12\": 21}, \"5\": {\"5\": 233, \"10\": 6, \"14\": 1}, \"3\": {\"3\": 240}, \"6\": {\"6\": 211, \"7\": 18, \"4\": 9, \"13\": 2}, \"11\": {\"11\": 240}, \"8\": {\"8\": 240}, \"4\": {\"4\": 213, \"6\": 5, \"13\": 13, \"14\": 9}, \"12\": {\"12\": 218, \"15\": 20, \"3\": 2}, \"14\": {\"14\": 215, \"1\": 6, \"10\": 7, \"4\": 11, \"5\": 1}, \"2\": {\"2\": 237, \"3\": 2, \"7\": 1}, \"7\": {\"7\": 222, \"6\": 17, \"0\": 1}}, \"O_50\": {\"7\": {\"7\": 225, \"5\": 5, \"6\": 9, \"4\": 1}, \"3\": {\"3\": 240}, \"8\": {\"8\": 237, \"10\": 3}, \"2\": {\"2\": 230, \"0\": 10}, \"14\": {\"14\": 240}, \"4\": {\"4\": 192, \"5\": 22, \"15\": 19, \"11\": 2, \"6\": 3, \"7\": 2}, \"6\": {\"6\": 231, \"15\": 6, \"7\": 1, \"5\": 1, \"13\": 1}, \"15\": {\"15\": 221, \"4\": 8, \"11\": 5, \"1\": 5, \"6\": 1}, \"10\": {\"10\": 230, \"13\": 4, \"0\": 5, \"8\": 1}, \"11\": {\"11\": 230, \"15\": 5, \"12\": 3, \"4\": 2}, \"13\": {\"13\": 230, \"10\": 2, \"7\": 4, \"6\": 4}, \"9\": {\"9\": 230, \"12\": 2, \"11\": 8}, \"0\": {\"0\": 220, \"2\": 17, \"10\": 3}, \"1\": {\"1\": 214, \"5\": 4, \"11\": 2, \"15\": 12, \"13\": 2, \"2\": 2, \"4\": 3, \"6\": 1}, \"12\": {\"12\": 234, \"9\": 2, \"14\": 1, \"11\": 3}, \"5\": {\"4\": 35, \"5\": 174, \"7\": 12, \"1\": 5, \"13\": 12, \"15\": 1, \"6\": 1}}, \"O_32\": {\"8\": {\"8\": 227, \"13\": 3, \"5\": 3, \"0\": 7}, \"14\": {\"14\": 210, \"0\": 12, \"11\": 6, \"7\": 12}, \"2\": {\"2\": 211, \"4\": 28, \"7\": 1}, \"0\": {\"0\": 219, \"14\": 6, \"8\": 14, \"5\": 1}, \"1\": {\"1\": 240}, \"10\": {\"10\": 240}, \"11\": {\"11\": 237, \"14\": 3}, \"5\": {\"5\": 157, \"7\": 61, \"3\": 3, \"13\": 3, \"14\": 5, \"8\": 8, \"4\": 2, \"0\": 1}, \"15\": {\"15\": 240}, \"3\": {\"3\": 228, \"11\": 3, \"8\": 3, \"13\": 4, \"14\": 2}, \"12\": {\"12\": 240}, \"7\": {\"5\": 35, \"7\": 189, \"4\": 9, \"14\": 4, \"13\": 3}, \"13\": {\"13\": 219, \"3\": 7, \"11\": 1, \"7\": 3, \"14\": 1, \"4\": 5, \"2\": 1, \"5\": 2, \"8\": 1}, \"6\": {\"6\": 240}, \"4\": {\"4\": 191, \"2\": 33, \"7\": 3, \"13\": 11, \"5\": 2}, \"9\": {\"9\": 240}}, \"O_26\": {\"4\": {\"4\": 212, \"14\": 4, \"7\": 9, \"10\": 1, \"8\": 10, \"0\": 4}, \"12\": {\"12\": 240}, \"10\": {\"14\": 15, \"10\": 139, \"0\": 60, \"6\": 1, \"8\": 23, \"15\": 2}, \"0\": {\"0\": 127, \"10\": 52, \"14\": 26, \"8\": 20, \"4\": 14, \"15\": 1}, \"13\": {\"13\": 228, \"2\": 4, \"5\": 7, \"15\": 1}, \"9\": {\"9\": 232, \"6\": 2, \"15\": 4, \"13\": 2}, \"3\": {\"3\": 191, \"2\": 38, \"7\": 11}, \"2\": {\"2\": 147, \"3\": 57, \"5\": 8, \"7\": 20, \"13\": 3, \"15\": 3, \"9\": 1, \"8\": 1}, \"5\": {\"5\": 230, \"3\": 1, \"15\": 2, \"2\": 7}, \"14\": {\"14\": 187, \"10\": 12, \"0\": 25, \"1\": 5, \"4\": 6, \"8\": 3, \"7\": 1, \"15\": 1}, \"8\": {\"7\": 18, \"8\": 175, \"0\": 8, \"15\": 2, \"10\": 15, \"4\": 17, \"14\": 5}, \"7\": {\"7\": 201, \"8\": 15, \"2\": 12, \"3\": 7, \"15\": 1, \"4\": 3, \"0\": 1}, \"6\": {\"6\": 225, \"15\": 8, \"10\": 4, \"9\": 2, \"8\": 1}, \"11\": {\"11\": 240}, \"15\": {\"8\": 3, \"15\": 218, \"9\": 7, \"0\": 2, \"5\": 5, \"2\": 2, \"6\": 2, \"10\": 1}, \"1\": {\"1\": 227, \"14\": 11, \"4\": 1, \"7\": 1}}, \"O_44\": {\"12\": {\"12\": 229, \"1\": 11}, \"7\": {\"7\": 187, \"2\": 20, \"9\": 29, \"10\": 1, \"6\": 2, \"1\": 1}, \"5\": {\"5\": 216, \"14\": 5, \"15\": 6, \"0\": 10, \"8\": 3}, \"15\": {\"15\": 211, \"14\": 9, \"5\": 4, \"8\": 8, \"0\": 8}, \"8\": {\"8\": 158, \"0\": 71, \"15\": 10, \"5\": 1}, \"2\": {\"2\": 211, \"7\": 24, \"10\": 3, \"1\": 2}, \"13\": {\"13\": 178, \"6\": 39, \"9\": 22, \"11\": 1}, \"4\": {\"4\": 182, \"14\": 58}, \"0\": {\"8\": 50, \"0\": 186, \"15\": 2, \"5\": 2}, \"6\": {\"6\": 180, \"13\": 36, \"9\": 20, \"7\": 4}, \"9\": {\"13\": 20, \"9\": 161, \"7\": 47, \"6\": 11, \"2\": 1}, \"11\": {\"13\": 5, \"11\": 235}, \"10\": {\"1\": 14, \"10\": 217, \"2\": 9}, \"14\": {\"4\": 56, \"14\": 177, \"15\": 5, \"5\": 2}, \"1\": {\"1\": 198, \"12\": 17, \"10\": 10, \"3\": 9, \"2\": 6}, \"3\": {\"3\": 231, \"12\": 2, \"1\": 6, \"2\": 1}}, \"C_3\": {\"43\": {\"10\": 7, \"35\": 1, \"43\": 105, \"22\": 11, \"13\": 1, \"56\": 1, \"24\": 2}, \"9\": {\"9\": 132, \"33\": 2, \"30\": 1, \"23\": 4, \"21\": 2, \"52\": 3, \"46\": 2, \"48\": 1, \"3\": 1, \"50\": 2}, \"6\": {\"3\": 6, \"6\": 9, \"1\": 2, \"36\": 4, \"34\": 1, \"54\": 3, \"26\": 1, \"29\": 2, \"11\": 1, \"30\": 5, \"25\": 3, \"8\": 1, \"50\": 5, \"57\": 1, \"9\": 1, \"51\": 7, \"44\": 2, \"48\": 6, \"20\": 3, \"12\": 1, \"46\": 2, \"40\": 1, \"53\": 7, \"18\": 4, \"21\": 3, \"5\": 3, \"47\": 2, \"23\": 1, \"52\": 1}, \"3\": {\"3\": 51, \"46\": 8, \"9\": 21, \"33\": 3, \"25\": 5, \"44\": 1, \"57\": 6, \"6\": 4, \"48\": 3, \"23\": 15, \"15\": 2, \"1\": 2, \"21\": 10, \"16\": 2, \"50\": 6, \"52\": 2, \"29\": 1, \"11\": 1, \"19\": 1}, \"16\": {\"16\": 130, \"46\": 2, \"15\": 2}, \"51\": {\"51\": 99, \"36\": 7, \"54\": 2, \"12\": 1, \"53\": 9, \"27\": 1, \"20\": 5, \"50\": 2, \"48\": 1, \"45\": 1}, \"31\": {\"31\": 28}, \"46\": {\"37\": 1, \"3\": 7, \"44\": 3, \"46\": 55, \"21\": 5, \"7\": 1, \"9\": 5, \"0\": 1, \"25\": 2, \"40\": 5, \"16\": 4, \"6\": 3, \"43\": 4, \"5\": 2, \"52\": 3, \"23\": 13, \"50\": 4, \"11\": 6, \"33\": 1, \"41\": 2, \"34\": 2, \"1\": 2, \"48\": 1, \"22\": 1, \"57\": 1}, \"19\": {\"19\": 116, \"1\": 1, \"57\": 2, \"25\": 2, \"29\": 2, \"46\": 1}, \"8\": {\"8\": 151, \"54\": 1}, \"18\": {\"18\": 74, \"30\": 5, \"48\": 4, \"52\": 1}, \"37\": {\"37\": 28}, \"24\": {\"24\": 92, \"56\": 5, \"13\": 2, \"10\": 4, \"14\": 1}, \"10\": {\"10\": 61, \"24\": 2, \"22\": 1}, \"44\": {\"44\": 73, \"40\": 10, \"42\": 3, \"7\": 1, \"22\": 1}, \"14\": {\"14\": 23, \"56\": 5, \"24\": 9, \"10\": 1, \"22\": 1, \"13\": 1}, \"38\": {\"38\": 28}, \"53\": {\"54\": 8, \"53\": 95, \"20\": 3, \"17\": 2, \"40\": 1, \"36\": 6, \"12\": 4, \"27\": 5, \"51\": 7, \"19\": 1, \"50\": 3, \"8\": 2, \"32\": 2, \"43\": 1}, \"20\": {\"32\": 2, \"33\": 1, \"20\": 85, \"36\": 5, \"18\": 2, \"53\": 7, \"51\": 9, \"50\": 7, \"27\": 3, \"30\": 7, \"9\": 2, \"48\": 1, \"4\": 1}, \"32\": {\"32\": 28}, \"36\": {\"36\": 88, \"20\": 3, \"51\": 3, \"2\": 1, \"53\": 4, \"54\": 1}, \"33\": {\"33\": 26, \"9\": 2}, \"56\": {\"24\": 14, \"56\": 114, \"14\": 3, \"13\": 4, \"31\": 1}, \"23\": {\"23\": 127, \"29\": 1, \"16\": 2}, \"54\": {\"54\": 72, \"36\": 5, \"38\": 1, \"45\": 1, \"20\": 2, \"17\": 2, \"8\": 2, \"51\": 6, \"53\": 7, \"12\": 2}, \"21\": {\"21\": 87, \"6\": 4, \"2\": 1, \"41\": 3, \"57\": 2, \"3\": 9, \"34\": 1, \"16\": 2, \"46\": 5, \"29\": 1, \"25\": 1, \"23\": 6, \"0\": 1, \"50\": 2, \"9\": 1}, \"28\": {\"28\": 27, \"7\": 1}, \"26\": {\"26\": 20, \"29\": 1, \"15\": 1, \"50\": 1, \"25\": 1}, \"48\": {\"48\": 83, \"18\": 2, \"52\": 5, \"53\": 6, \"30\": 7, \"9\": 2, \"36\": 2, \"51\": 2, \"50\": 2, \"40\": 1, \"6\": 3, \"20\": 1}, \"52\": {\"52\": 115, \"18\": 1, \"48\": 1, \"6\": 1}, \"39\": {\"39\": 15, \"0\": 1}, \"22\": {\"22\": 117, \"31\": 1, \"49\": 4, \"10\": 8, \"24\": 1, \"43\": 5, \"56\": 1, \"55\": 3}, \"13\": {\"14\": 2, \"13\": 104, \"24\": 14, \"56\": 8}, \"2\": {\"2\": 30, \"45\": 2}, \"34\": {\"34\": 32}, \"27\": {\"27\": 120, \"20\": 3, \"36\": 3, \"30\": 2, \"51\": 1, \"32\": 1, \"12\": 1, \"53\": 1}, \"45\": {\"27\": 10, \"19\": 1, \"45\": 20, \"54\": 2, \"2\": 2, \"30\": 1, \"50\": 1, \"9\": 1, \"12\": 2, \"53\": 6, \"36\": 2, \"46\": 1, \"17\": 5, \"38\": 1, \"8\": 1, \"4\": 1, \"23\": 1, \"51\": 1, \"3\": 1}, \"35\": {\"35\": 28}, \"29\": {\"29\": 106, \"47\": 3, \"1\": 6, \"57\": 4, \"40\": 1, \"19\": 3, \"34\": 2, \"15\": 1, \"46\": 1, \"0\": 1}, \"25\": {\"37\": 3, \"25\": 64, \"7\": 1, \"42\": 1, \"41\": 2, \"33\": 2, \"40\": 11, \"3\": 10, \"29\": 10, \"23\": 3, \"9\": 7, \"19\": 5, \"46\": 3, \"5\": 1, \"44\": 6, \"47\": 1, \"21\": 8, \"57\": 1, \"30\": 1, \"24\": 1, \"15\": 2, \"11\": 1}, \"0\": {\"0\": 111, \"34\": 2, \"47\": 5, \"11\": 2, \"15\": 3, \"39\": 1}, \"41\": {\"41\": 23, \"46\": 2, \"3\": 1, \"6\": 1, \"21\": 1}, \"11\": {\"11\": 129, \"0\": 6, \"47\": 4, \"5\": 3}, \"5\": {\"5\": 100, \"11\": 4, \"15\": 1, \"34\": 2, \"7\": 1}, \"1\": {\"57\": 6, \"1\": 81, \"0\": 1, \"47\": 1, \"16\": 3, \"29\": 1, \"21\": 1, \"15\": 4, \"34\": 1, \"3\": 1}, \"57\": {\"57\": 98, \"47\": 3, \"15\": 6, \"29\": 2, \"0\": 2, \"1\": 5}, \"17\": {\"17\": 104, \"10\": 1, \"38\": 2, \"56\": 1}, \"7\": {\"7\": 33, \"28\": 2, \"5\": 1}, \"12\": {\"12\": 59, \"27\": 3, \"6\": 1, \"20\": 5, \"51\": 4, \"2\": 1, \"17\": 2, \"54\": 7, \"45\": 3, \"36\": 3, \"8\": 2, \"53\": 1, \"50\": 1}, \"47\": {\"47\": 50, \"0\": 11, \"57\": 9, \"13\": 1, \"29\": 4, \"34\": 1, \"10\": 1, \"11\": 2, \"1\": 3, \"46\": 2, \"6\": 3, \"15\": 4, \"55\": 1}, \"40\": {\"40\": 124, \"44\": 5, \"47\": 1, \"5\": 2, \"3\": 1, \"25\": 1, \"46\": 1, \"11\": 1}, \"15\": {\"15\": 133, \"44\": 1, \"46\": 2, \"3\": 2, \"0\": 1, \"13\": 1, \"24\": 1, \"16\": 1}, \"42\": {\"42\": 27, \"40\": 1}, \"55\": {\"55\": 119, \"31\": 1, \"13\": 10, \"14\": 1, \"22\": 9, \"56\": 3, \"43\": 5, \"24\": 2}, \"49\": {\"49\": 11, \"22\": 4, \"24\": 2, \"10\": 3}, \"30\": {\"30\": 78, \"48\": 16, \"18\": 10, \"22\": 2, \"9\": 1, \"17\": 1, \"51\": 2, \"53\": 1, \"50\": 3, \"54\": 1, \"6\": 1, \"47\": 1, \"52\": 1, \"20\": 2}, \"50\": {\"50\": 39, \"41\": 1, \"51\": 11, \"6\": 5, \"37\": 1, \"9\": 2, \"18\": 1, \"48\": 10, \"1\": 2, \"36\": 5, \"53\": 14, \"46\": 5, \"30\": 9, \"52\": 3, \"57\": 3, \"27\": 4, \"4\": 1, \"20\": 7, \"29\": 3, \"3\": 2, \"25\": 1, \"15\": 1, \"21\": 2, \"54\": 2}, \"4\": {\"4\": 126, \"45\": 4, \"46\": 1, \"9\": 3, \"2\": 1, \"3\": 1}}, \"W_3\": {\"109\": {\"57\": 1, \"14\": 4, \"80\": 2, \"60\": 1, \"43\": 2, \"113\": 5, \"109\": 24, \"78\": 1, \"13\": 1, \"69\": 3, \"88\": 8, \"11\": 7, \"84\": 5, \"102\": 17, \"87\": 3, \"117\": 6, \"39\": 6, \"108\": 1, \"93\": 3, \"126\": 2, \"90\": 3, \"62\": 3, \"61\": 2, \"118\": 2, \"28\": 2, \"67\": 2, \"73\": 2, \"70\": 2, \"116\": 2, \"82\": 1, \"2\": 1, \"114\": 1, \"33\": 1, \"18\": 1, \"110\": 1}, \"127\": {\"127\": 78, \"95\": 1, \"32\": 1, \"112\": 1, \"8\": 6, \"71\": 7, \"39\": 1, \"105\": 6, \"99\": 2, \"73\": 1, \"10\": 5, \"0\": 2, \"7\": 2, \"5\": 3, \"4\": 4, \"3\": 1, \"69\": 1, \"77\": 1, \"24\": 1, \"86\": 1, \"30\": 1, \"114\": 1, \"108\": 1}, \"14\": {\"44\": 3, \"65\": 2, \"14\": 50, \"100\": 1, \"102\": 2, \"62\": 6, \"70\": 3, \"88\": 1, \"1\": 1, \"11\": 1, \"19\": 1, \"109\": 1, \"118\": 1, \"84\": 3, \"87\": 1, \"16\": 2, \"110\": 1}, \"7\": {\"7\": 70, \"30\": 2, \"73\": 1, \"91\": 1, \"98\": 7, \"95\": 2, \"127\": 5, \"99\": 2, \"0\": 7, \"105\": 2, \"124\": 2, \"3\": 2, \"10\": 3, \"8\": 2, \"12\": 1, \"35\": 1, \"117\": 1, \"11\": 1}, \"129\": {\"44\": 7, \"49\": 1, \"129\": 6, \"103\": 1, \"26\": 1, \"84\": 2, \"70\": 1, \"108\": 2, \"110\": 1, \"88\": 1, \"114\": 1, \"1\": 2, \"128\": 2, \"33\": 1, \"21\": 1, \"19\": 1, \"102\": 1}, \"57\": {\"57\": 17, \"87\": 2, \"101\": 1}, \"84\": {\"57\": 1, \"44\": 2, \"84\": 67, \"14\": 4, \"29\": 2, \"1\": 1, \"122\": 1, \"43\": 1, \"90\": 2, \"5\": 1, \"16\": 3, \"110\": 4, \"87\": 1, \"109\": 1, \"33\": 3, \"102\": 2, \"11\": 1, \"77\": 2, \"62\": 3, \"118\": 2, \"108\": 2, \"70\": 1, \"88\": 1}, \"114\": {\"114\": 83, \"107\": 10, \"68\": 1, \"3\": 3, \"109\": 1, \"1\": 7, \"5\": 4, \"108\": 5, \"110\": 2, \"87\": 1, \"103\": 1, \"43\": 1, \"128\": 1, \"113\": 1, \"88\": 1, \"105\": 1, \"62\": 1}, \"44\": {\"44\": 49, \"63\": 1, \"49\": 1, \"57\": 1, \"31\": 2, \"33\": 2, \"114\": 2, \"113\": 2, \"121\": 1, \"93\": 1, \"86\": 1, \"29\": 2, \"70\": 2, \"88\": 2, \"21\": 1, \"18\": 1, \"87\": 1}, \"21\": {\"21\": 32, \"113\": 3, \"126\": 1, \"43\": 1, \"39\": 3, \"18\": 2, \"36\": 1, \"63\": 2, \"118\": 2, \"94\": 1}, \"46\": {\"46\": 14, \"71\": 2}, \"100\": {\"14\": 2, \"100\": 9, \"65\": 1, \"107\": 1, \"122\": 1, \"11\": 1, \"129\": 1}, \"63\": {\"63\": 13, \"93\": 2, \"18\": 1}, \"24\": {\"24\": 10, \"114\": 1, \"65\": 1, \"106\": 2, \"99\": 1, \"37\": 1, \"41\": 2, \"101\": 2, \"93\": 1, \"124\": 1, \"36\": 3, \"15\": 1, \"7\": 1, \"5\": 3, \"125\": 3, \"8\": 2, \"34\": 1, \"42\": 2, \"72\": 1, \"73\": 1, \"30\": 1, \"6\": 1, \"94\": 2, \"12\": 2, \"0\": 1, \"27\": 1}, \"107\": {\"100\": 1, \"107\": 89, \"50\": 2, \"82\": 1, \"129\": 1, \"122\": 1, \"23\": 2, \"69\": 1, \"114\": 6, \"1\": 5, \"108\": 3, \"10\": 2, \"62\": 2, \"24\": 1, \"88\": 1}, \"35\": {\"7\": 2, \"35\": 6, \"121\": 1, \"47\": 2, \"101\": 1}, \"81\": {\"81\": 26, \"67\": 1, \"39\": 2, \"96\": 1, \"43\": 1, \"113\": 1}, \"64\": {\"64\": 19, \"120\": 1}, \"59\": {\"124\": 1, \"36\": 1, \"59\": 6, \"97\": 1, \"72\": 2, \"68\": 1}, \"33\": {\"33\": 96, \"109\": 4, \"93\": 1, \"87\": 1, \"118\": 4, \"5\": 1, \"44\": 1, \"16\": 1, \"10\": 1, \"11\": 2, \"126\": 1, \"102\": 1}, \"34\": {\"36\": 2, \"58\": 3, \"111\": 2, \"24\": 1, \"14\": 1, \"70\": 2, \"37\": 2, \"34\": 4, \"23\": 1, \"62\": 1, \"19\": 1, \"110\": 1, \"25\": 1, \"11\": 1, \"100\": 1, \"128\": 1, \"57\": 2, \"49\": 1, \"94\": 1, \"15\": 3}, \"36\": {\"124\": 7, \"36\": 29, \"101\": 1, \"27\": 3, \"25\": 1, \"104\": 1, \"0\": 8, \"9\": 2, \"91\": 1, \"15\": 7, \"12\": 2, \"7\": 9, \"8\": 2, \"95\": 1, \"106\": 9, \"30\": 2, \"111\": 4, \"94\": 6, \"125\": 7, \"98\": 2, \"127\": 6, \"40\": 2, \"4\": 2, \"108\": 2, \"10\": 2, \"97\": 1, \"71\": 1}, \"79\": {\"79\": 9, \"55\": 1, \"50\": 1, \"49\": 1}, \"80\": {\"80\": 15, \"43\": 1}, \"77\": {\"34\": 1, \"64\": 1, \"77\": 7, \"8\": 1, \"49\": 1, \"127\": 1, \"4\": 2, \"105\": 2}, \"22\": {\"22\": 15, \"108\": 1}, \"124\": {\"124\": 72, \"73\": 5, \"91\": 1, \"7\": 4, \"125\": 3, \"101\": 1, \"111\": 6, \"8\": 1, \"30\": 1, \"94\": 1, \"16\": 1, \"3\": 1, \"12\": 2, \"98\": 14, \"0\": 4, \"34\": 1, \"97\": 1, \"52\": 1, \"85\": 1, \"18\": 1, \"110\": 1, \"36\": 1}, \"2\": {\"2\": 16, \"81\": 2, \"117\": 2, \"26\": 1, \"113\": 2, \"16\": 1, \"93\": 2, \"109\": 2}, \"87\": {\"105\": 1, \"22\": 1, \"57\": 1, \"112\": 3, \"31\": 1, \"87\": 32, \"44\": 5, \"110\": 2, \"90\": 2, \"88\": 1, \"3\": 8, \"69\": 2, \"107\": 7, \"109\": 2, \"5\": 3, \"11\": 2, \"108\": 9, \"114\": 13, \"84\": 3, \"62\": 2, \"33\": 2, \"8\": 1, \"1\": 1, \"115\": 1, \"126\": 1, \"16\": 2, \"14\": 1, \"102\": 3}, \"105\": {\"105\": 70, \"86\": 4, \"5\": 9, \"108\": 4, \"1\": 1, \"3\": 1, \"127\": 9, \"40\": 3, \"71\": 1, \"4\": 6, \"0\": 1, \"114\": 2, \"46\": 1, \"83\": 1, \"34\": 1, \"19\": 2, \"95\": 1, \"8\": 3, \"10\": 1, \"87\": 1}, \"95\": {\"95\": 31, \"91\": 1}, \"43\": {\"113\": 9, \"123\": 1, \"33\": 3, \"80\": 2, \"26\": 4, \"93\": 3, \"62\": 1, \"21\": 1, \"43\": 14, \"109\": 1, \"88\": 2, \"122\": 1, \"92\": 1, \"102\": 1, \"84\": 2, \"64\": 1, \"40\": 1, \"107\": 1, \"121\": 2, \"118\": 2, \"39\": 1, \"18\": 1, \"44\": 1}, \"56\": {\"56\": 9, \"46\": 1, \"12\": 1, \"85\": 1}, \"18\": {\"18\": 87, \"2\": 1, \"81\": 1, \"92\": 2, \"117\": 16, \"88\": 1, \"39\": 6, \"113\": 2, \"118\": 1, \"17\": 2, \"21\": 1, \"31\": 1, \"109\": 1, \"93\": 1, \"125\": 1}, \"85\": {\"85\": 20, \"97\": 1, \"36\": 1, \"66\": 2, \"12\": 2, \"91\": 2, \"72\": 1, \"52\": 2, \"59\": 1, \"0\": 1, \"34\": 1, \"116\": 1, \"73\": 1}, \"113\": {\"113\": 92, \"96\": 2, \"39\": 9, \"126\": 3, \"81\": 1, \"120\": 3, \"109\": 1, \"88\": 2, \"117\": 1, \"64\": 2, \"43\": 1, \"121\": 1, \"16\": 2}, \"97\": {\"97\": 5, \"59\": 1, \"58\": 2, \"124\": 1, \"126\": 1, \"73\": 1, \"94\": 1, \"15\": 1, \"36\": 1, \"64\": 1, \"111\": 2, \"27\": 2, \"24\": 1}, \"86\": {\"8\": 1, \"128\": 1, \"32\": 2, \"86\": 15, \"92\": 1, \"5\": 2, \"40\": 2, \"4\": 2, \"15\": 1, \"124\": 1}, \"128\": {\"46\": 1, \"8\": 2, \"55\": 1, \"102\": 1, \"14\": 2, \"49\": 1, \"5\": 2, \"86\": 1, \"30\": 2, \"110\": 2, \"128\": 2, \"10\": 1, \"108\": 1, \"129\": 2, \"40\": 2, \"28\": 1, \"48\": 1, \"20\": 1, \"57\": 3, \"125\": 1, \"88\": 1, \"42\": 1}, \"123\": {\"123\": 14, \"26\": 1, \"118\": 1}, \"8\": {\"86\": 2, \"95\": 4, \"53\": 1, \"114\": 8, \"35\": 2, \"56\": 3, \"12\": 5, \"5\": 9, \"43\": 1, \"42\": 4, \"36\": 2, \"8\": 29, \"10\": 4, \"127\": 8, \"40\": 4, \"0\": 5, \"71\": 3, \"7\": 9, \"1\": 2, \"108\": 2, \"124\": 2, \"107\": 1, \"105\": 4, \"55\": 1, \"47\": 1, \"94\": 1, \"48\": 1, \"101\": 1, \"19\": 2, \"9\": 1, \"3\": 2, \"27\": 1, \"98\": 3, \"15\": 1, \"4\": 1}, \"110\": {\"110\": 28, \"21\": 1, \"129\": 1, \"64\": 2, \"101\": 1, \"44\": 2, \"92\": 1, \"29\": 1, \"107\": 3, \"62\": 3, \"84\": 3, \"11\": 2, \"118\": 1, \"19\": 1, \"27\": 2, \"87\": 5, \"117\": 1, \"111\": 1, \"114\": 3, \"3\": 2, \"7\": 1, \"102\": 3, \"90\": 2, \"10\": 1, \"60\": 2, \"1\": 5, \"122\": 2, \"70\": 1, \"33\": 4, \"16\": 1, \"126\": 2, \"8\": 1, \"26\": 1}, \"126\": {\"126\": 89, \"93\": 2, \"125\": 1, \"113\": 6, \"106\": 1, \"96\": 1, \"39\": 2, \"118\": 2}, \"42\": {\"45\": 1, \"100\": 1, \"42\": 6, \"41\": 1, \"28\": 1, \"78\": 1, \"58\": 2, \"12\": 1, \"72\": 1, \"14\": 1, \"65\": 2, \"128\": 1, \"59\": 1, \"99\": 1, \"15\": 1, \"129\": 1, \"62\": 2, \"124\": 1, \"27\": 2}, \"96\": {\"113\": 1, \"96\": 16, \"81\": 1, \"39\": 2}, \"83\": {\"30\": 1, \"83\": 17, \"68\": 1, \"32\": 1, \"40\": 2, \"122\": 1, \"12\": 1}, \"54\": {\"54\": 14, \"125\": 1, \"94\": 1}, \"65\": {\"114\": 2, \"96\": 1, \"103\": 2, \"4\": 1, \"65\": 2, \"8\": 1, \"55\": 1, \"112\": 1, \"92\": 1}, \"30\": {\"83\": 1, \"30\": 19, \"85\": 1, \"86\": 1, \"5\": 2, \"12\": 5, \"71\": 1, \"0\": 6, \"127\": 8, \"27\": 1, \"34\": 1, \"8\": 4, \"110\": 1, \"125\": 1, \"7\": 3, \"10\": 1, \"99\": 2, \"105\": 1, \"40\": 2, \"126\": 1, \"124\": 5, \"3\": 2, \"46\": 1, \"68\": 2, \"4\": 3, \"73\": 2, \"98\": 4, \"39\": 1, \"108\": 1, \"95\": 1}, \"121\": {\"113\": 1, \"44\": 1, \"121\": 9, \"62\": 5, \"64\": 2, \"90\": 1, \"21\": 2, \"14\": 2, \"39\": 2, \"82\": 1, \"126\": 1, \"109\": 1, \"57\": 1, \"120\": 1, \"43\": 1, \"88\": 1}, \"68\": {\"42\": 1, \"30\": 1, \"68\": 13, \"129\": 1}, \"45\": {\"48\": 2, \"53\": 1, \"45\": 8, \"20\": 1, \"89\": 1, \"38\": 1, \"5\": 1, \"115\": 1}, \"48\": {\"48\": 7, \"83\": 1, \"34\": 2, \"77\": 2, \"76\": 1, \"40\": 1, \"85\": 1, \"8\": 1}, \"4\": {\"4\": 61, \"8\": 1, \"108\": 3, \"10\": 3, \"40\": 4, \"105\": 6, \"127\": 7, \"39\": 1, \"71\": 4, \"9\": 1, \"30\": 1, \"86\": 1, \"23\": 1, \"5\": 1, \"36\": 1}, \"67\": {\"67\": 14, \"117\": 1, \"39\": 1}, \"103\": {\"103\": 10, \"108\": 2, \"19\": 1, \"40\": 1, \"5\": 1, \"70\": 1}, \"74\": {\"74\": 14, \"19\": 1, \"5\": 1}, \"1\": {\"1\": 66, \"112\": 2, \"122\": 1, \"19\": 2, \"108\": 4, \"107\": 5, \"114\": 12, \"110\": 2, \"3\": 4, \"62\": 1, \"113\": 2, \"50\": 1, \"14\": 2, \"88\": 2, \"87\": 1, \"11\": 1}, \"61\": {\"61\": 15, \"118\": 1}, \"101\": {\"101\": 26, \"42\": 1, \"112\": 1, \"47\": 2, \"0\": 3, \"91\": 2, \"6\": 1, \"12\": 5, \"109\": 1, \"71\": 1, \"94\": 1, \"66\": 1, \"35\": 1, \"7\": 2, \"95\": 2, \"30\": 1, \"27\": 1}, \"93\": {\"96\": 3, \"117\": 4, \"93\": 88, \"44\": 4, \"63\": 1, \"64\": 1, \"126\": 2, \"118\": 1, \"113\": 8, \"109\": 6, \"16\": 5, \"88\": 2, \"90\": 6, \"18\": 2, \"120\": 1, \"121\": 1, \"70\": 1, \"108\": 1, \"110\": 1}, \"26\": {\"26\": 106, \"69\": 1, \"93\": 1, \"14\": 1, \"118\": 3, \"23\": 2, \"102\": 7, \"117\": 2, \"16\": 3, \"11\": 1, \"109\": 3}, \"71\": {\"4\": 3, \"71\": 41, \"108\": 1, \"9\": 1, \"107\": 1, \"113\": 1, \"127\": 9, \"105\": 2, \"122\": 1, \"19\": 2, \"8\": 1, \"77\": 1, \"23\": 1, \"5\": 3}, \"15\": {\"104\": 1, \"15\": 38, \"97\": 1, \"72\": 2, \"42\": 1, \"94\": 3, \"73\": 2, \"24\": 5, \"101\": 1, \"6\": 1, \"111\": 3, \"98\": 10, \"126\": 1, \"30\": 3, \"124\": 5, \"125\": 6, \"106\": 5, \"3\": 1, \"27\": 4, \"36\": 4, \"0\": 2, \"25\": 1, \"37\": 1, \"91\": 2, \"88\": 1}, \"55\": {\"55\": 15, \"5\": 1}, \"104\": {\"104\": 16}, \"112\": {\"112\": 8, \"3\": 2, \"103\": 2, \"27\": 1, \"60\": 1, \"74\": 2}, \"102\": {\"102\": 87, \"122\": 1, \"109\": 5, \"33\": 5, \"40\": 2, \"84\": 2, \"110\": 1, \"62\": 9, \"118\": 2, \"87\": 4, \"93\": 1, \"31\": 1, \"14\": 1, \"26\": 1}, \"117\": {\"117\": 105, \"18\": 4, \"39\": 3}, \"119\": {\"119\": 12, \"79\": 2, \"13\": 1, \"69\": 1}, \"20\": {\"45\": 2, \"20\": 6, \"70\": 1, \"125\": 1, \"74\": 2, \"50\": 1, \"116\": 1, \"119\": 2}, \"120\": {\"120\": 20}, \"39\": {\"92\": 1, \"39\": 41, \"64\": 2, \"2\": 2, \"93\": 9, \"121\": 2, \"109\": 2, \"117\": 12, \"26\": 1, \"18\": 10, \"16\": 4, \"126\": 10, \"113\": 6, \"90\": 1, \"88\": 2, \"13\": 1, \"96\": 1, \"21\": 1}, \"49\": {\"49\": 2, \"8\": 2, \"45\": 1, \"129\": 2, \"32\": 1, \"87\": 1, \"77\": 1, \"14\": 4, \"108\": 1, \"127\": 1, \"29\": 2, \"65\": 1, \"12\": 1, \"122\": 1, \"28\": 1, \"57\": 2}, \"53\": {\"53\": 19, \"49\": 1}, \"92\": {\"92\": 26, \"39\": 1, \"2\": 2, \"113\": 3}, \"3\": {\"65\": 1, \"3\": 79, \"103\": 2, \"128\": 1, \"5\": 10, \"122\": 1, \"1\": 3, \"8\": 3, \"114\": 4, \"111\": 1, \"112\": 1, \"108\": 3, \"86\": 1, \"40\": 1, \"105\": 3, \"4\": 1, \"70\": 1}, \"47\": {\"83\": 1, \"97\": 1, \"47\": 9, \"56\": 1}, \"115\": {\"115\": 10, \"127\": 1, \"32\": 1, \"82\": 1, \"114\": 1, \"5\": 1, \"45\": 1}, \"58\": {\"97\": 1, \"58\": 13, \"94\": 1, \"72\": 1}, \"29\": {\"29\": 22, \"31\": 1, \"122\": 1, \"78\": 1, \"84\": 1, \"33\": 2, \"44\": 4}, \"12\": {\"95\": 4, \"68\": 1, \"12\": 54, \"30\": 7, \"73\": 1, \"36\": 1, \"98\": 5, \"0\": 8, \"101\": 1, \"91\": 1, \"127\": 3, \"8\": 4, \"111\": 1, \"105\": 3, \"10\": 3, \"124\": 1, \"85\": 1, \"56\": 1, \"42\": 1, \"7\": 2, \"3\": 1}, \"62\": {\"62\": 67, \"87\": 5, \"107\": 1, \"103\": 2, \"110\": 2, \"108\": 2, \"118\": 3, \"102\": 8, \"11\": 2, \"69\": 2, \"114\": 1, \"26\": 1, \"40\": 1, \"7\": 1, \"84\": 3, \"88\": 2, \"33\": 2, \"8\": 1, \"129\": 1, \"57\": 2, \"14\": 5, \"70\": 1, \"3\": 1, \"90\": 1, \"113\": 1}, \"11\": {\"62\": 3, \"115\": 1, \"17\": 2, \"116\": 1, \"87\": 4, \"11\": 23, \"26\": 3, \"16\": 8, \"110\": 2, \"33\": 4, \"88\": 1, \"18\": 1, \"118\": 4, \"40\": 17, \"43\": 4, \"105\": 5, \"14\": 3, \"12\": 1, \"69\": 3, \"5\": 3, \"106\": 1, \"109\": 3, \"90\": 5, \"84\": 3, \"108\": 5, \"114\": 3, \"107\": 6, \"93\": 3, \"102\": 2, \"29\": 2, \"50\": 1, \"45\": 1, \"122\": 1, \"74\": 1, \"92\": 1, \"39\": 1, \"77\": 1, \"71\": 2, \"8\": 2, \"70\": 1, \"1\": 1, \"36\": 1}, \"72\": {\"72\": 17, \"68\": 1, \"111\": 3, \"73\": 2, \"124\": 3, \"58\": 1, \"0\": 1}, \"98\": {\"98\": 52, \"72\": 1, \"7\": 3, \"124\": 7, \"73\": 1, \"0\": 7, \"12\": 4, \"111\": 16, \"15\": 3, \"125\": 3, \"51\": 1, \"30\": 1, \"94\": 1, \"27\": 1, \"36\": 5}, \"122\": {\"115\": 1, \"29\": 2, \"19\": 1, \"70\": 3, \"45\": 2, \"1\": 3, \"44\": 3, \"74\": 1, \"90\": 1, \"128\": 3, \"84\": 2, \"5\": 2, \"18\": 1, \"129\": 1, \"21\": 3, \"110\": 1, \"16\": 1, \"122\": 14, \"102\": 2, \"62\": 1, \"107\": 1, \"33\": 2, \"8\": 2, \"40\": 1, \"88\": 1, \"87\": 1, \"55\": 1, \"93\": 1, \"10\": 1, \"113\": 1}, \"17\": {\"17\": 2, \"80\": 1, \"64\": 2, \"67\": 1, \"93\": 1, \"126\": 1, \"9\": 1, \"63\": 1, \"68\": 1, \"98\": 1, \"25\": 1, \"117\": 1, \"119\": 1, \"118\": 1}, \"94\": {\"59\": 1, \"94\": 37, \"91\": 2, \"6\": 5, \"34\": 1, \"24\": 2, \"12\": 1, \"73\": 5, \"15\": 4, \"36\": 3, \"106\": 7, \"125\": 4, \"111\": 1, \"58\": 1, \"98\": 1, \"25\": 1, \"51\": 1, \"37\": 1, \"72\": 2, \"124\": 1, \"85\": 1, \"27\": 2}, \"106\": {\"94\": 4, \"106\": 59, \"75\": 2, \"24\": 2, \"72\": 1, \"36\": 3, \"126\": 2, \"15\": 4, \"125\": 7, \"27\": 3, \"0\": 2, \"111\": 1}, \"28\": {\"28\": 10, \"122\": 2, \"23\": 1, \"129\": 1, \"100\": 1, \"49\": 1}, \"69\": {\"69\": 60, \"88\": 1, \"11\": 3, \"1\": 2, \"113\": 3, \"107\": 6, \"76\": 1, \"14\": 2, \"82\": 2, \"23\": 1, \"93\": 1, \"62\": 1, \"110\": 1}, \"125\": {\"125\": 108, \"109\": 1, \"15\": 1, \"16\": 1, \"27\": 2, \"117\": 1}, \"19\": {\"42\": 1, \"101\": 2, \"30\": 2, \"69\": 1, \"83\": 2, \"19\": 2, \"95\": 1, \"52\": 1, \"14\": 1, \"12\": 1, \"110\": 2, \"127\": 1, \"70\": 1, \"9\": 1, \"73\": 1, \"8\": 1, \"99\": 1, \"129\": 2, \"0\": 1, \"56\": 2, \"116\": 1, \"11\": 2, \"1\": 2}, \"41\": {\"41\": 10, \"111\": 1, \"91\": 1, \"15\": 1, \"94\": 2, \"59\": 1}, \"60\": {\"60\": 11, \"28\": 2, \"87\": 1, \"78\": 1, \"77\": 1, \"40\": 1, \"62\": 3, \"44\": 2, \"65\": 1, \"114\": 1, \"116\": 1, \"129\": 1, \"31\": 1, \"1\": 1}, \"70\": {\"80\": 1, \"70\": 6, \"103\": 2, \"88\": 2, \"11\": 1, \"3\": 7, \"108\": 3, \"36\": 1, \"16\": 3, \"127\": 1, \"109\": 3, \"87\": 2, \"73\": 1, \"102\": 1, \"122\": 1, \"39\": 1, \"118\": 1, \"10\": 2, \"114\": 6, \"40\": 1, \"5\": 6, \"90\": 1, \"105\": 2, \"84\": 2, \"8\": 2, \"53\": 1, \"43\": 1, \"128\": 1, \"14\": 1, \"18\": 1, \"92\": 1, \"44\": 1, \"113\": 2, \"69\": 1, \"110\": 1, \"4\": 1, \"126\": 1}, \"27\": {\"68\": 1, \"27\": 31, \"25\": 3, \"51\": 1, \"56\": 2, \"42\": 3, \"38\": 1, \"124\": 4, \"32\": 1, \"75\": 2, \"95\": 2, \"34\": 1, \"106\": 2, \"125\": 10, \"12\": 2, \"10\": 3, \"99\": 1, \"127\": 4, \"15\": 1, \"111\": 2, \"71\": 1, \"4\": 1, \"0\": 3, \"104\": 1, \"101\": 1, \"3\": 2, \"91\": 1, \"30\": 2, \"97\": 1, \"6\": 2, \"94\": 1, \"36\": 2, \"98\": 1}, \"10\": {\"27\": 3, \"71\": 1, \"10\": 38, \"129\": 1, \"26\": 1, \"127\": 11, \"103\": 1, \"9\": 1, \"5\": 1, \"1\": 5, \"94\": 1, \"128\": 1, \"16\": 2, \"95\": 1, \"23\": 1, \"12\": 2, \"40\": 1, \"11\": 2, \"110\": 1, \"30\": 3, \"39\": 1, \"108\": 3, \"105\": 5, \"4\": 5, \"62\": 2, \"87\": 4, \"84\": 2, \"114\": 1, \"7\": 4, \"82\": 1, \"70\": 1, \"92\": 1, \"14\": 1, \"99\": 1, \"8\": 4, \"33\": 2, \"0\": 1, \"98\": 1}, \"108\": {\"71\": 4, \"20\": 1, \"4\": 7, \"87\": 6, \"127\": 14, \"3\": 5, \"7\": 4, \"108\": 24, \"9\": 4, \"10\": 6, \"52\": 2, \"113\": 1, \"8\": 7, \"5\": 3, \"70\": 3, \"102\": 2, \"40\": 2, \"39\": 1, \"114\": 5, \"0\": 3, \"1\": 2, \"105\": 8, \"110\": 3, \"84\": 2, \"106\": 1, \"88\": 3, \"31\": 1, \"122\": 1, \"53\": 1, \"74\": 1, \"24\": 1, \"99\": 1, \"56\": 1, \"44\": 1, \"30\": 1, \"21\": 1, \"95\": 1, \"126\": 1, \"14\": 1, \"90\": 1, \"107\": 2, \"62\": 1}, \"9\": {\"71\": 1, \"9\": 23, \"10\": 1, \"105\": 4, \"8\": 1, \"34\": 1, \"106\": 1}, \"25\": {\"25\": 11, \"106\": 2, \"96\": 1, \"6\": 2}, \"37\": {\"37\": 15, \"88\": 1}, \"0\": {\"37\": 2, \"101\": 3, \"4\": 4, \"0\": 38, \"5\": 3, \"98\": 7, \"127\": 11, \"105\": 7, \"30\": 5, \"111\": 9, \"124\": 5, \"12\": 5, \"10\": 2, \"7\": 6, \"27\": 1, \"8\": 3, \"23\": 1, \"99\": 2, \"110\": 1, \"108\": 1}, \"66\": {\"66\": 14, \"12\": 1, \"10\": 1}, \"51\": {\"51\": 11, \"27\": 1, \"37\": 2, \"59\": 2}, \"76\": {\"45\": 1, \"76\": 10, \"87\": 1, \"116\": 2, \"11\": 1, \"88\": 1}, \"32\": {\"32\": 11, \"88\": 1, \"108\": 1, \"103\": 2, \"11\": 1, \"70\": 1, \"30\": 1, \"105\": 1, \"40\": 1, \"8\": 1, \"49\": 1, \"9\": 2, \"22\": 1, \"119\": 1, \"128\": 1, \"56\": 1, \"83\": 2, \"71\": 2}, \"88\": {\"64\": 3, \"87\": 4, \"88\": 20, \"69\": 1, \"14\": 3, \"21\": 1, \"0\": 2, \"96\": 1, \"60\": 1, \"16\": 2, \"101\": 1, \"122\": 1, \"127\": 3, \"126\": 6, \"39\": 8, \"70\": 1, \"113\": 9, \"71\": 1, \"110\": 6, \"93\": 1, \"3\": 1, \"102\": 2, \"1\": 4, \"84\": 2, \"62\": 2, \"114\": 3, \"40\": 2, \"8\": 1, \"4\": 2, \"108\": 3, \"105\": 4, \"107\": 2, \"5\": 1, \"73\": 1, \"78\": 2, \"24\": 1, \"44\": 1, \"117\": 1, \"11\": 1, \"12\": 1}, \"31\": {\"31\": 17, \"88\": 1, \"29\": 1, \"44\": 1}, \"91\": {\"56\": 2, \"66\": 1, \"91\": 3, \"12\": 2, \"85\": 1, \"15\": 2, \"8\": 1, \"124\": 2, \"73\": 3, \"30\": 1, \"27\": 1, \"35\": 1, \"52\": 2, \"6\": 1, \"7\": 1}, \"90\": {\"90\": 109, \"29\": 1, \"117\": 1, \"108\": 2, \"33\": 2, \"84\": 1, \"87\": 1, \"78\": 1, \"16\": 5, \"88\": 1, \"62\": 2}, \"13\": {\"119\": 1, \"90\": 1, \"44\": 1, \"13\": 4, \"126\": 1, \"43\": 1, \"82\": 3, \"49\": 1, \"118\": 1, \"31\": 2}, \"50\": {\"50\": 9, \"87\": 1, \"107\": 2, \"1\": 3, \"14\": 1}, \"78\": {\"77\": 1, \"50\": 2, \"78\": 4, \"96\": 1, \"114\": 2, \"127\": 1, \"92\": 1, \"113\": 1, \"74\": 1, \"121\": 1, \"34\": 1}, \"116\": {\"18\": 4, \"120\": 1, \"26\": 1, \"116\": 2, \"109\": 2, \"31\": 2, \"8\": 1, \"29\": 1, \"78\": 1, \"99\": 1, \"44\": 1, \"9\": 1, \"46\": 1, \"67\": 2, \"56\": 1, \"2\": 1, \"33\": 1, \"118\": 2, \"16\": 2}, \"5\": {\"5\": 98, \"105\": 5, \"39\": 1, \"108\": 1, \"3\": 4, \"86\": 1, \"18\": 1, \"40\": 1}, \"75\": {\"75\": 16}, \"89\": {\"89\": 26, \"69\": 1, \"129\": 1}, \"16\": {\"16\": 60, \"44\": 3, \"33\": 10, \"70\": 1, \"11\": 1, \"93\": 5, \"88\": 3, \"118\": 7, \"23\": 1, \"18\": 2, \"84\": 3, \"69\": 1, \"109\": 3, \"90\": 10, \"27\": 1, \"26\": 2, \"43\": 1, \"117\": 1, \"102\": 1}, \"38\": {\"106\": 2, \"38\": 13, \"43\": 1}, \"118\": {\"31\": 2, \"118\": 23, \"102\": 11, \"62\": 5, \"121\": 1, \"11\": 6, \"113\": 1, \"16\": 6, \"44\": 1, \"26\": 2, \"70\": 1, \"117\": 2, \"90\": 4, \"69\": 2, \"18\": 2, \"109\": 6, \"88\": 1, \"93\": 6, \"33\": 5, \"60\": 1, \"92\": 1, \"84\": 4, \"107\": 2, \"43\": 1, \"126\": 1, \"39\": 2, \"8\": 1}, \"99\": {\"127\": 4, \"99\": 19, \"10\": 1, \"125\": 1, \"8\": 2, \"101\": 1, \"47\": 1, \"12\": 1, \"66\": 1, \"24\": 2, \"85\": 1, \"56\": 1, \"0\": 1}, \"52\": {\"34\": 2, \"52\": 11, \"124\": 1, \"7\": 1, \"9\": 1}, \"111\": {\"111\": 102, \"73\": 3, \"24\": 2, \"6\": 2, \"98\": 5, \"124\": 2, \"36\": 7, \"94\": 1, \"15\": 3, \"0\": 1}, \"23\": {\"118\": 1, \"126\": 1, \"99\": 4, \"78\": 1, \"18\": 2, \"127\": 1, \"121\": 2, \"113\": 3, \"30\": 1, \"105\": 2, \"39\": 1, \"107\": 1, \"108\": 2, \"27\": 1, \"23\": 3, \"101\": 1, \"71\": 1, \"10\": 1, \"26\": 1, \"5\": 1, \"81\": 1}, \"73\": {\"72\": 1, \"73\": 30, \"98\": 1, \"101\": 1, \"6\": 1, \"124\": 2, \"111\": 1, \"85\": 2, \"12\": 1}, \"82\": {\"42\": 1, \"50\": 1, \"114\": 2, \"116\": 1, \"82\": 13, \"13\": 2, \"92\": 1, \"19\": 1, \"5\": 1, \"115\": 1, \"85\": 2, \"80\": 1, \"40\": 1}, \"40\": {\"40\": 83, \"42\": 1, \"9\": 2, \"8\": 5, \"70\": 1, \"27\": 1, \"108\": 2, \"105\": 5, \"5\": 4, \"1\": 5, \"10\": 1, \"4\": 2, \"114\": 4, \"87\": 2, \"93\": 1, \"115\": 1, \"128\": 2, \"48\": 1, \"55\": 1, \"71\": 1, \"122\": 1, \"88\": 1, \"107\": 1}, \"6\": {\"94\": 4, \"91\": 2, \"6\": 11, \"97\": 1, \"15\": 1, \"101\": 2, \"0\": 1, \"111\": 2, \"24\": 2, \"41\": 1, \"58\": 1, \"72\": 1, \"106\": 1, \"124\": 1, \"27\": 1}}, \"C_4\": {\"35\": {\"35\": 38, \"0\": 2}, \"25\": {\"25\": 92, \"28\": 2, \"0\": 2, \"35\": 3, \"44\": 8, \"46\": 1, \"19\": 2, \"47\": 6, \"6\": 3, \"40\": 6, \"3\": 4, \"33\": 1, \"34\": 1, \"50\": 1, \"29\": 1, \"4\": 1}, \"24\": {\"24\": 43, \"10\": 3, \"22\": 4, \"56\": 1, \"55\": 1, \"43\": 3, \"2\": 1}, \"48\": {\"48\": 111, \"17\": 3, \"18\": 3, \"8\": 11, \"21\": 3, \"20\": 2, \"53\": 1, \"27\": 4}, \"51\": {\"51\": 94, \"53\": 19, \"54\": 3, \"36\": 8, \"20\": 4, \"23\": 1, \"3\": 8, \"50\": 4, \"18\": 2, \"6\": 1}, \"13\": {\"13\": 118, \"38\": 1, \"14\": 1}, \"14\": {\"13\": 1, \"24\": 1, \"14\": 8, \"22\": 1, \"38\": 2, \"56\": 3}, \"32\": {\"32\": 23, \"49\": 1}, \"30\": {\"30\": 35, \"12\": 2, \"27\": 2, \"8\": 4, \"21\": 1}, \"34\": {\"34\": 24}, \"9\": {\"9\": 118, \"18\": 1, \"54\": 2, \"53\": 4, \"6\": 3, \"40\": 1, \"51\": 2, \"4\": 3, \"20\": 1, \"50\": 1}, \"1\": {\"1\": 31, \"41\": 1, \"57\": 4, \"16\": 1, \"46\": 2, \"5\": 1}, \"0\": {\"35\": 2, \"0\": 67, \"11\": 1, \"57\": 1, \"43\": 3, \"32\": 3, \"46\": 2, \"56\": 1}, \"38\": {\"38\": 32, \"31\": 2, \"37\": 3, \"13\": 1, \"24\": 1, \"10\": 1}, \"22\": {\"22\": 68, \"0\": 8, \"10\": 6, \"43\": 21, \"24\": 3, \"56\": 11, \"35\": 3, \"55\": 7, \"13\": 1}, \"40\": {\"40\": 103, \"11\": 1, \"44\": 6, \"0\": 1, \"46\": 2, \"15\": 2, \"55\": 3, \"33\": 2}, \"6\": {\"26\": 2, \"6\": 20, \"39\": 1, \"51\": 4, \"29\": 2, \"25\": 2, \"9\": 3, \"18\": 6, \"40\": 1, \"0\": 2, \"53\": 5, \"44\": 6, \"4\": 3, \"42\": 2, \"52\": 1, \"23\": 15, \"3\": 5, \"57\": 4, \"15\": 1, \"50\": 2, \"48\": 2, \"54\": 2, \"36\": 6, \"5\": 4, \"22\": 1, \"27\": 1, \"33\": 1, \"20\": 1, \"34\": 1, \"1\": 1, \"46\": 1, \"16\": 2, \"43\": 1, \"19\": 1}, \"16\": {\"16\": 84, \"46\": 3, \"0\": 1, \"57\": 3, \"47\": 3, \"5\": 2}, \"11\": {\"11\": 100, \"15\": 3, \"1\": 1}, \"20\": {\"20\": 95, \"53\": 4, \"36\": 1, \"3\": 4, \"51\": 10, \"9\": 2, \"23\": 1, \"48\": 2, \"50\": 2, \"18\": 1}, \"17\": {\"17\": 70, \"48\": 1, \"27\": 4, \"21\": 3, \"30\": 1, \"25\": 1}, \"26\": {\"26\": 23, \"25\": 1}, \"54\": {\"54\": 84, \"23\": 5, \"6\": 5, \"26\": 1, \"42\": 2, \"53\": 3, \"3\": 4, \"50\": 1, \"36\": 3}, \"55\": {\"55\": 108, \"40\": 9, \"46\": 1, \"0\": 4, \"35\": 8, \"31\": 2, \"43\": 5, \"22\": 8, \"56\": 7, \"44\": 1, \"2\": 1}, \"50\": {\"20\": 10, \"54\": 2, \"50\": 40, \"6\": 4, \"36\": 7, \"4\": 13, \"51\": 9, \"39\": 1, \"52\": 1, \"9\": 11, \"5\": 1, \"3\": 5, \"25\": 7, \"53\": 6, \"29\": 3, \"23\": 1, \"15\": 1, \"48\": 2, \"42\": 1, \"21\": 1, \"26\": 1, \"18\": 3, \"19\": 2}, \"19\": {\"44\": 8, \"19\": 123, \"1\": 1, \"29\": 3, \"11\": 2, \"25\": 4, \"57\": 1}, \"44\": {\"44\": 104, \"19\": 11, \"33\": 3, \"55\": 1, \"25\": 2, \"40\": 1}, \"47\": {\"5\": 7, \"47\": 100, \"39\": 3, \"16\": 2, \"41\": 1, \"46\": 6, \"57\": 1}, \"33\": {\"33\": 33, \"19\": 1, \"40\": 1, \"7\": 1}, \"5\": {\"47\": 12, \"5\": 46, \"39\": 2, \"15\": 4, \"41\": 7, \"11\": 2, \"43\": 1, \"16\": 7, \"29\": 3, \"22\": 2, \"46\": 11, \"44\": 1, \"57\": 7, \"0\": 1, \"33\": 1, \"6\": 1}, \"18\": {\"18\": 99, \"53\": 3, \"23\": 2, \"19\": 2, \"47\": 1, \"51\": 1}, \"21\": {\"21\": 102, \"48\": 2, \"45\": 2, \"12\": 2, \"30\": 1, \"8\": 8, \"17\": 3, \"50\": 1, \"27\": 3}, \"41\": {\"41\": 27, \"16\": 2, \"46\": 2, \"5\": 2, \"57\": 3}, \"23\": {\"18\": 4, \"23\": 123, \"52\": 1}, \"39\": {\"39\": 19, \"46\": 1}, \"37\": {\"37\": 24}, \"8\": {\"8\": 113, \"48\": 1, \"27\": 13, \"30\": 8, \"21\": 8, \"17\": 1}, \"49\": {\"49\": 19, \"32\": 1}, \"53\": {\"20\": 9, \"53\": 95, \"50\": 3, \"36\": 4, \"51\": 20, \"6\": 2, \"3\": 4, \"18\": 1, \"9\": 2}, \"31\": {\"31\": 27, \"55\": 1}, \"28\": {\"28\": 26, \"46\": 1, \"25\": 2, \"57\": 1, \"47\": 1, \"19\": 1}, \"3\": {\"54\": 11, \"3\": 48, \"53\": 7, \"42\": 3, \"51\": 6, \"47\": 4, \"20\": 6, \"23\": 5, \"6\": 5, \"36\": 9, \"50\": 9, \"29\": 1, \"18\": 3, \"26\": 1, \"52\": 2, \"9\": 1, \"5\": 1, \"28\": 1, \"4\": 1}, \"27\": {\"17\": 2, \"27\": 120, \"8\": 9, \"21\": 4, \"51\": 1, \"30\": 1, \"48\": 1}, \"46\": {\"28\": 2, \"16\": 8, \"1\": 4, \"46\": 36, \"47\": 12, \"22\": 2, \"5\": 11, \"55\": 5, \"6\": 1, \"10\": 4, \"56\": 4, \"18\": 1, \"41\": 5, \"0\": 1, \"57\": 8, \"15\": 10, \"11\": 2, \"52\": 3, \"35\": 1, \"39\": 2, \"7\": 1, \"25\": 2, \"29\": 1, \"43\": 1, \"40\": 1}, \"12\": {\"12\": 88, \"8\": 1, \"45\": 2, \"50\": 1}, \"7\": {\"7\": 19, \"32\": 1, \"1\": 1, \"55\": 1, \"11\": 2}, \"4\": {\"4\": 117, \"9\": 2, \"6\": 2, \"54\": 1, \"3\": 2, \"55\": 1, \"50\": 4, \"43\": 1, \"36\": 1, \"52\": 1}, \"42\": {\"42\": 32}, \"43\": {\"24\": 3, \"43\": 80, \"0\": 6, \"32\": 1, \"56\": 11, \"2\": 1, \"10\": 8, \"22\": 15, \"35\": 1, \"38\": 1, \"55\": 1, \"40\": 2}, \"29\": {\"5\": 5, \"29\": 94, \"33\": 1, \"19\": 4, \"57\": 6, \"46\": 3, \"49\": 1, \"1\": 2, \"16\": 1, \"25\": 2, \"44\": 1}, \"57\": {\"57\": 78, \"1\": 2, \"16\": 3, \"29\": 8, \"5\": 3, \"41\": 3, \"15\": 2, \"46\": 1}, \"52\": {\"52\": 102, \"23\": 2}, \"45\": {\"45\": 68, \"27\": 7, \"51\": 1, \"17\": 6, \"4\": 2, \"12\": 2, \"20\": 1, \"8\": 4, \"50\": 1, \"53\": 1, \"9\": 2, \"21\": 1}, \"36\": {\"36\": 81, \"53\": 3, \"3\": 1, \"20\": 2, \"54\": 2, \"51\": 2, \"50\": 1}, \"10\": {\"10\": 109, \"22\": 6, \"24\": 3, \"56\": 7, \"43\": 1}, \"15\": {\"15\": 126, \"16\": 5, \"57\": 2, \"46\": 1}, \"56\": {\"56\": 106, \"43\": 3, \"2\": 1, \"10\": 8, \"22\": 4, \"24\": 2}, \"2\": {\"2\": 35, \"24\": 1}}, \"C_5\": {\"47\": {\"47\": 80, \"46\": 5, \"16\": 4, \"3\": 5, \"25\": 1, \"34\": 3, \"11\": 2}, \"53\": {\"53\": 115, \"45\": 1, \"1\": 1, \"20\": 5, \"8\": 13, \"27\": 1, \"51\": 7, \"9\": 7}, \"29\": {\"29\": 94, \"0\": 8, \"44\": 4, \"15\": 3, \"36\": 3, \"43\": 8, \"3\": 2, \"34\": 2, \"14\": 1, \"56\": 1}, \"52\": {\"39\": 2, \"52\": 123, \"21\": 1, \"15\": 1, \"57\": 2, \"54\": 1}, \"55\": {\"55\": 98, \"4\": 5, \"33\": 1, \"45\": 2, \"19\": 12, \"0\": 2, \"11\": 3, \"44\": 2, \"50\": 4, \"46\": 4, \"25\": 2, \"16\": 3, \"47\": 3, \"54\": 2, \"21\": 1}, \"17\": {\"17\": 111, \"48\": 2, \"38\": 2, \"6\": 1}, \"42\": {\"42\": 40}, \"33\": {\"33\": 31, \"50\": 1}, \"11\": {\"11\": 144, \"28\": 2, \"3\": 2}, \"19\": {\"19\": 104, \"25\": 5, \"4\": 2, \"57\": 1, \"50\": 4, \"33\": 1, \"16\": 1}, \"1\": {\"1\": 120, \"27\": 1, \"6\": 3, \"48\": 6, \"30\": 5, \"8\": 7, \"53\": 1, \"17\": 1}, \"44\": {\"44\": 122, \"36\": 5, \"29\": 8, \"5\": 2, \"14\": 2, \"40\": 1, \"0\": 1, \"43\": 1}, \"49\": {\"49\": 31, \"29\": 1, \"0\": 1, \"3\": 2, \"43\": 1}, \"4\": {\"4\": 82, \"45\": 2, \"50\": 4, \"54\": 3, \"25\": 1, \"21\": 1, \"47\": 1, \"19\": 3, \"9\": 1, \"55\": 2}, \"6\": {\"17\": 7, \"30\": 19, \"1\": 5, \"51\": 7, \"32\": 2, \"50\": 4, \"12\": 1, \"6\": 24, \"7\": 1, \"42\": 2, \"54\": 1, \"9\": 4, \"8\": 3, \"45\": 4, \"48\": 13, \"55\": 1, \"27\": 4, \"53\": 3, \"26\": 2, \"57\": 5, \"23\": 1, \"38\": 1, \"21\": 1, \"4\": 1}, \"39\": {\"39\": 18, \"21\": 2}, \"50\": {\"50\": 55, \"54\": 10, \"41\": 3, \"49\": 1, \"42\": 2, \"57\": 6, \"3\": 2, \"18\": 2, \"11\": 6, \"25\": 9, \"44\": 2, \"45\": 3, \"19\": 5, \"21\": 12, \"15\": 4, \"43\": 1, \"47\": 2, \"20\": 6, \"4\": 2, \"16\": 1, \"30\": 1, \"52\": 6, \"46\": 1, \"23\": 3, \"51\": 1, \"5\": 1, \"0\": 1}, \"56\": {\"56\": 124, \"35\": 1, \"43\": 3, \"31\": 1, \"29\": 1}, \"25\": {\"25\": 98, \"50\": 10, \"11\": 1, \"44\": 2, \"57\": 3, \"46\": 2, \"0\": 6, \"21\": 4, \"29\": 2, \"19\": 9, \"15\": 1, \"55\": 1, \"36\": 2, \"49\": 1, \"4\": 1, \"3\": 1}, \"28\": {\"28\": 32}, \"35\": {\"35\": 33, \"24\": 1, \"13\": 1, \"10\": 1}, \"24\": {\"24\": 73, \"35\": 2, \"10\": 3, \"56\": 2}, \"21\": {\"39\": 2, \"21\": 117, \"57\": 4, \"54\": 2, \"52\": 5, \"51\": 1, \"50\": 1}, \"45\": {\"45\": 35, \"50\": 5, \"9\": 15, \"53\": 6, \"32\": 2, \"6\": 3, \"54\": 4, \"46\": 1, \"25\": 3, \"41\": 1, \"21\": 4, \"20\": 5, \"8\": 6, \"4\": 9, \"55\": 1, \"36\": 1, \"47\": 2, \"30\": 2, \"27\": 9, \"19\": 3, \"18\": 2, \"34\": 1, \"42\": 1, \"51\": 2, \"57\": 1}, \"16\": {\"16\": 126, \"3\": 1, \"47\": 4, \"46\": 9, \"40\": 1, \"11\": 3}, \"37\": {\"37\": 22, \"36\": 2}, \"57\": {\"57\": 121, \"21\": 8, \"52\": 2, \"46\": 1}, \"34\": {\"47\": 1, \"34\": 30, \"46\": 3, \"49\": 1, \"25\": 1}, \"38\": {\"38\": 32}, \"48\": {\"48\": 97, \"30\": 14, \"17\": 6, \"6\": 1, \"1\": 10, \"8\": 1, \"53\": 1}, \"26\": {\"48\": 1, \"26\": 23}, \"9\": {\"45\": 2, \"8\": 2, \"9\": 96, \"6\": 3, \"32\": 1, \"27\": 29, \"51\": 6, \"55\": 3, \"4\": 2, \"50\": 1, \"44\": 1, \"53\": 1, \"20\": 4, \"21\": 1}, \"18\": {\"18\": 62, \"23\": 1, \"20\": 1}, \"3\": {\"3\": 42, \"37\": 1, \"14\": 1, \"47\": 9, \"46\": 9, \"57\": 2, \"28\": 2, \"11\": 8, \"34\": 3, \"16\": 7, \"0\": 1, \"43\": 3, \"40\": 1, \"36\": 1, \"31\": 1, \"10\": 1, \"29\": 1, \"35\": 2, \"24\": 1, \"15\": 1, \"21\": 1, \"50\": 2}, \"23\": {\"23\": 124}, \"15\": {\"15\": 148, \"11\": 1, \"0\": 1, \"13\": 2, \"2\": 2}, \"10\": {\"10\": 67, \"24\": 1}, \"46\": {\"3\": 5, \"46\": 97, \"49\": 1, \"43\": 1, \"16\": 18, \"11\": 1, \"57\": 10, \"56\": 2, \"21\": 3, \"34\": 1, \"47\": 6, \"52\": 3}, \"22\": {\"22\": 27, \"24\": 1}, \"54\": {\"42\": 2, \"54\": 80, \"25\": 1, \"46\": 1, \"16\": 1, \"21\": 9, \"57\": 6, \"50\": 4, \"43\": 1, \"5\": 1, \"19\": 1, \"23\": 1, \"52\": 4}, \"27\": {\"27\": 132, \"32\": 3, \"9\": 15, \"45\": 2, \"53\": 1, \"30\": 1, \"18\": 2, \"51\": 2, \"20\": 2}, \"41\": {\"41\": 26, \"42\": 1, \"50\": 1}, \"31\": {\"31\": 33, \"43\": 1, \"56\": 1, \"29\": 1}, \"0\": {\"0\": 120, \"29\": 2, \"15\": 2}, \"7\": {\"1\": 1, \"7\": 28, \"8\": 1, \"27\": 1, \"17\": 1}, \"2\": {\"49\": 2, \"2\": 24, \"0\": 1, \"3\": 1}, \"14\": {\"14\": 9, \"49\": 2, \"15\": 3, \"11\": 3, \"5\": 3, \"31\": 4, \"2\": 1, \"36\": 7, \"40\": 7, \"3\": 1, \"13\": 1, \"22\": 1, \"28\": 1, \"0\": 1}, \"40\": {\"40\": 100, \"5\": 6, \"14\": 3, \"0\": 1, \"43\": 5, \"15\": 1, \"22\": 1, \"24\": 4, \"10\": 1, \"56\": 1, \"29\": 1}, \"5\": {\"5\": 108, \"40\": 6, \"14\": 2, \"44\": 10, \"29\": 1, \"43\": 1}, \"12\": {\"12\": 73, \"9\": 1, \"17\": 2, \"7\": 3, \"48\": 5, \"45\": 2, \"30\": 3, \"6\": 1, \"20\": 1, \"53\": 1, \"8\": 2, \"4\": 1, \"27\": 1}, \"43\": {\"0\": 10, \"36\": 4, \"31\": 1, \"43\": 81, \"40\": 2, \"56\": 9, \"44\": 8, \"29\": 21, \"24\": 2, \"15\": 2, \"14\": 2}, \"13\": {\"13\": 143, \"22\": 1, \"10\": 2, \"40\": 1, \"24\": 1}, \"36\": {\"36\": 56, \"14\": 1, \"40\": 2, \"3\": 3, \"0\": 3, \"2\": 1, \"28\": 2, \"44\": 4, \"11\": 3, \"29\": 5, \"15\": 3, \"43\": 4, \"49\": 3, \"5\": 2}, \"8\": {\"8\": 124, \"48\": 4, \"7\": 1, \"1\": 7, \"30\": 4, \"55\": 1, \"44\": 1, \"6\": 4, \"53\": 4}, \"32\": {\"32\": 29, \"2\": 1, \"20\": 1, \"44\": 1}, \"30\": {\"30\": 108, \"8\": 2, \"48\": 9, \"53\": 2, \"17\": 2, \"1\": 2, \"27\": 1, \"6\": 2}, \"51\": {\"51\": 102, \"20\": 12, \"53\": 7, \"18\": 3, \"8\": 2, \"0\": 1, \"32\": 1, \"9\": 2, \"6\": 4, \"49\": 1, \"27\": 1, \"45\": 2}, \"20\": {\"32\": 1, \"20\": 86, \"51\": 25, \"9\": 11, \"27\": 6, \"53\": 4, \"23\": 1, \"18\": 2, \"6\": 1, \"8\": 1}}, \"C_1\": {\"46\": {\"26\": 1, \"51\": 3, \"46\": 74, \"30\": 8, \"14\": 4, \"5\": 20, \"12\": 1, \"20\": 3, \"4\": 5, \"45\": 3, \"18\": 3, \"25\": 3, \"9\": 5, \"53\": 4, \"41\": 1, \"19\": 1, \"56\": 1}, \"16\": {\"16\": 129, \"33\": 1, \"37\": 1, \"19\": 1, \"34\": 1, \"25\": 1}, \"26\": {\"26\": 24}, \"10\": {\"10\": 87, \"52\": 3, \"47\": 2, \"22\": 2, \"3\": 2}, \"9\": {\"9\": 152, \"5\": 2, \"30\": 2}, \"28\": {\"28\": 26, \"3\": 1, \"49\": 1}, \"51\": {\"51\": 150, \"45\": 2, \"7\": 2, \"25\": 1, \"1\": 1}, \"1\": {\"1\": 85, \"19\": 6, \"51\": 1, \"37\": 1, \"16\": 4, \"45\": 1, \"47\": 1, \"25\": 1}, \"55\": {\"55\": 120, \"11\": 3, \"44\": 9, \"38\": 3, \"29\": 8, \"22\": 1, \"0\": 2, \"52\": 1, \"47\": 1}, \"27\": {\"28\": 1, \"27\": 93, \"24\": 4, \"43\": 21, \"22\": 2, \"49\": 2, \"10\": 1}, \"22\": {\"28\": 3, \"10\": 10, \"22\": 75, \"39\": 1, \"31\": 3, \"55\": 1, \"24\": 5, \"44\": 1, \"11\": 2, \"49\": 1, \"47\": 6, \"52\": 4, \"0\": 8, \"3\": 2, \"27\": 2}, \"52\": {\"52\": 100, \"38\": 2, \"31\": 1, \"3\": 7, \"22\": 2, \"24\": 3, \"47\": 5, \"10\": 3, \"0\": 2, \"55\": 1}, \"3\": {\"3\": 94, \"21\": 1, \"22\": 10, \"32\": 2, \"24\": 8, \"44\": 2, \"10\": 5, \"27\": 2, \"15\": 1, \"0\": 2, \"31\": 1, \"52\": 5, \"55\": 3, \"36\": 1, \"47\": 3}, \"33\": {\"33\": 32}, \"47\": {\"52\": 10, \"47\": 84, \"24\": 1, \"44\": 4, \"11\": 2, \"10\": 3, \"0\": 7, \"21\": 1, \"43\": 1, \"3\": 1, \"55\": 4, \"22\": 2}, \"42\": {\"33\": 1, \"42\": 29, \"34\": 1, \"7\": 1, \"19\": 6, \"37\": 2}, \"12\": {\"12\": 99, \"13\": 9, \"54\": 3, \"20\": 3, \"56\": 1, \"57\": 1}, \"23\": {\"23\": 127, \"15\": 4, \"36\": 1}, \"49\": {\"49\": 29, \"24\": 2, \"43\": 1}, \"7\": {\"7\": 23, \"51\": 4, \"42\": 1}, \"4\": {\"4\": 130, \"19\": 1, \"45\": 1}, \"50\": {\"50\": 113, \"48\": 13, \"2\": 4, \"25\": 1, \"6\": 2, \"5\": 1}, \"19\": {\"19\": 124, \"42\": 6, \"25\": 4, \"1\": 9, \"51\": 3, \"45\": 4, \"16\": 2, \"20\": 2}, \"11\": {\"11\": 118, \"21\": 12, \"0\": 9, \"44\": 1}, \"31\": {\"31\": 27, \"3\": 1}, \"41\": {\"41\": 21, \"51\": 2, \"45\": 1}, \"56\": {\"56\": 121, \"12\": 2, \"32\": 1, \"44\": 1, \"57\": 10, \"54\": 2, \"29\": 1}, \"0\": {\"0\": 104, \"10\": 3, \"15\": 1, \"11\": 11, \"21\": 9, \"47\": 11, \"52\": 2, \"44\": 5, \"38\": 1, \"55\": 1}, \"57\": {\"57\": 111, \"24\": 1, \"56\": 10, \"1\": 1, \"43\": 1, \"20\": 1, \"36\": 2, \"13\": 1}, \"53\": {\"53\": 112, \"30\": 11, \"14\": 1, \"9\": 5, \"46\": 3, \"5\": 8}, \"43\": {\"43\": 109, \"49\": 2, \"24\": 3, \"27\": 26, \"39\": 1, \"28\": 1, \"10\": 2}, \"37\": {\"33\": 1, \"37\": 30, \"25\": 1}, \"2\": {\"2\": 36}, \"6\": {\"6\": 68, \"50\": 13, \"48\": 3, \"17\": 3, \"53\": 1, \"9\": 2, \"8\": 3, \"2\": 2, \"4\": 1}, \"13\": {\"13\": 143, \"56\": 1, \"12\": 4, \"32\": 1, \"20\": 1}, \"18\": {\"18\": 72}, \"36\": {\"36\": 59, \"54\": 4, \"15\": 1}, \"29\": {\"29\": 113, \"21\": 2, \"32\": 1, \"44\": 12, \"38\": 1, \"35\": 2, \"55\": 3, \"40\": 1, \"57\": 1, \"0\": 2, \"11\": 1, \"23\": 1}, \"39\": {\"39\": 25, \"10\": 1, \"22\": 1, \"24\": 1}, \"17\": {\"17\": 62, \"6\": 1, \"9\": 1}, \"21\": {\"21\": 115, \"11\": 6, \"0\": 2, \"15\": 1}, \"25\": {\"25\": 112, \"45\": 2, \"37\": 1, \"32\": 1, \"1\": 4, \"40\": 2, \"29\": 1, \"19\": 6, \"15\": 1, \"55\": 1, \"56\": 1}, \"45\": {\"45\": 114, \"7\": 1, \"51\": 5, \"42\": 2, \"1\": 2, \"25\": 4, \"19\": 10, \"20\": 1, \"16\": 2, \"56\": 1}, \"38\": {\"38\": 21, \"11\": 2, \"0\": 1}, \"30\": {\"30\": 99, \"53\": 15, \"14\": 1, \"5\": 3, \"9\": 2}, \"24\": {\"31\": 2, \"24\": 90, \"10\": 2, \"27\": 3, \"22\": 6, \"49\": 2, \"43\": 2, \"39\": 1}, \"20\": {\"20\": 121, \"54\": 4, \"12\": 2, \"1\": 2, \"25\": 2, \"19\": 1, \"13\": 2, \"56\": 2, \"16\": 2, \"36\": 1, \"34\": 1}, \"8\": {\"8\": 138, \"6\": 2}, \"35\": {\"35\": 34, \"0\": 1, \"32\": 1}, \"54\": {\"54\": 96, \"20\": 5, \"16\": 1, \"23\": 2}, \"5\": {\"5\": 108, \"30\": 3, \"6\": 2, \"18\": 1, \"53\": 8, \"46\": 13, \"9\": 6, \"4\": 2, \"51\": 1, \"41\": 1, \"17\": 2, \"8\": 1}, \"48\": {\"2\": 6, \"48\": 133, \"50\": 5}, \"15\": {\"15\": 122, \"23\": 12, \"21\": 7, \"27\": 1}, \"34\": {\"34\": 24}, \"14\": {\"14\": 17, \"46\": 1, \"26\": 1, \"9\": 1, \"18\": 2, \"53\": 1, \"5\": 1}, \"32\": {\"32\": 26, \"29\": 2, \"35\": 1, \"15\": 2, \"23\": 1}, \"40\": {\"40\": 130, \"29\": 9, \"15\": 1, \"55\": 5, \"44\": 2, \"21\": 1}, \"44\": {\"44\": 103, \"38\": 1, \"29\": 3, \"0\": 11, \"21\": 4, \"23\": 2, \"47\": 1, \"11\": 5, \"35\": 3, \"32\": 2, \"55\": 1}}, \"W_4\": {\"28\": {\"28\": 17, \"79\": 1, \"61\": 1, \"41\": 1}, \"4\": {\"4\": 69, \"63\": 1, \"85\": 1, \"8\": 5, \"101\": 10, \"0\": 4, \"107\": 2, \"113\": 1, \"27\": 1, \"91\": 1, \"86\": 2, \"82\": 1, \"1\": 1, \"127\": 1, \"39\": 1, \"114\": 1, \"7\": 1, \"24\": 1}, \"72\": {\"43\": 5, \"72\": 8, \"119\": 2, \"99\": 3, \"22\": 2, \"74\": 2, \"70\": 2, \"44\": 1, \"5\": 2, \"33\": 1, \"19\": 1, \"73\": 1, \"93\": 1, \"3\": 1}, \"111\": {\"111\": 91, \"95\": 5, \"30\": 4, \"124\": 2, \"16\": 1, \"106\": 2, \"98\": 9, \"15\": 5, \"127\": 3, \"12\": 5, \"8\": 1, \"29\": 1, \"9\": 1, \"91\": 1, \"27\": 1, \"126\": 1, \"117\": 1, \"10\": 1, \"113\": 1}, \"108\": {\"96\": 2, \"43\": 5, \"108\": 11, \"81\": 1, \"129\": 2, \"88\": 7, \"109\": 2, \"1\": 1, \"128\": 1, \"90\": 4, \"122\": 2, \"117\": 2, \"62\": 4, \"5\": 10, \"94\": 1, \"125\": 1, \"126\": 1, \"33\": 1, \"70\": 2, \"102\": 4, \"110\": 1, \"44\": 2, \"119\": 1, \"14\": 4, \"118\": 2, \"72\": 2, \"39\": 2, \"84\": 1, \"8\": 2, \"93\": 3, \"105\": 1, \"113\": 1, \"69\": 1, \"101\": 1, \"7\": 1, \"3\": 2, \"24\": 1}, \"43\": {\"72\": 1, \"108\": 6, \"43\": 25, \"69\": 2, \"85\": 1, \"66\": 1, \"3\": 4, \"87\": 6, \"4\": 1, \"73\": 3, \"88\": 6, \"14\": 4, \"33\": 8, \"93\": 4, \"49\": 2, \"1\": 2, \"102\": 4, \"82\": 1, \"7\": 2, \"62\": 1, \"11\": 1, \"109\": 2, \"90\": 2, \"118\": 2, \"70\": 2, \"18\": 4, \"9\": 1, \"128\": 1, \"119\": 1, \"103\": 1, \"36\": 1, \"74\": 1, \"110\": 3, \"45\": 1, \"60\": 1, \"96\": 1, \"113\": 1, \"122\": 2, \"124\": 1, \"84\": 1, \"5\": 3, \"40\": 1, \"0\": 1, \"114\": 1}, \"96\": {\"108\": 1, \"90\": 2, \"100\": 2, \"88\": 3, \"5\": 1, \"110\": 1, \"84\": 1, \"96\": 2, \"57\": 2, \"78\": 2, \"118\": 1, \"43\": 1, \"63\": 1}, \"89\": {\"89\": 17, \"33\": 3, \"120\": 1, \"71\": 2, \"3\": 1, \"117\": 1, \"30\": 2, \"114\": 1, \"60\": 1, \"70\": 1, \"63\": 1, \"78\": 1}, \"31\": {\"31\": 13, \"11\": 2, \"120\": 1}, \"45\": {\"45\": 14, \"67\": 1, \"49\": 1}, \"2\": {\"96\": 2, \"2\": 15, \"119\": 1, \"109\": 2, \"26\": 3, \"18\": 2, \"38\": 1, \"84\": 2}, \"114\": {\"12\": 2, \"90\": 1, \"107\": 5, \"40\": 3, \"114\": 66, \"83\": 1, \"8\": 5, \"128\": 1, \"86\": 1, \"7\": 6, \"55\": 1, \"71\": 5, \"4\": 4, \"101\": 2, \"108\": 1, \"27\": 2, \"1\": 2, \"105\": 6, \"0\": 3, \"87\": 1, \"50\": 1, \"53\": 1, \"46\": 1, \"115\": 1, \"98\": 2, \"30\": 1, \"84\": 1, \"10\": 1, \"33\": 1}, \"11\": {\"4\": 3, \"108\": 2, \"42\": 2, \"11\": 40, \"67\": 2, \"69\": 8, \"115\": 2, \"72\": 1, \"92\": 1, \"127\": 3, \"102\": 4, \"118\": 5, \"114\": 4, \"33\": 10, \"7\": 3, \"27\": 2, \"98\": 1, \"122\": 2, \"105\": 3, \"71\": 2, \"106\": 1, \"43\": 2, \"40\": 5, \"0\": 3, \"87\": 1, \"70\": 3, \"107\": 5, \"74\": 1, \"31\": 1, \"73\": 1, \"126\": 1, \"128\": 1, \"17\": 2, \"24\": 4, \"88\": 1, \"101\": 2, \"10\": 1, \"1\": 1}, \"12\": {\"111\": 10, \"10\": 5, \"58\": 2, \"59\": 2, \"12\": 41, \"36\": 4, \"30\": 6, \"9\": 1, \"127\": 4, \"126\": 1, \"15\": 7, \"124\": 2, \"106\": 4, \"101\": 2, \"24\": 2, \"113\": 1, \"95\": 1, \"34\": 1, \"107\": 1, \"103\": 2, \"98\": 1}, \"14\": {\"14\": 46, \"72\": 3, \"1\": 1, \"43\": 5, \"33\": 5, \"44\": 1, \"87\": 5, \"49\": 4, \"27\": 2, \"99\": 1, \"108\": 4, \"3\": 4, \"102\": 7, \"7\": 1, \"81\": 1, \"62\": 1, \"88\": 2, \"84\": 2, \"5\": 3, \"127\": 2, \"70\": 2, \"19\": 1, \"42\": 1, \"129\": 1, \"78\": 2, \"118\": 1, \"69\": 3, \"114\": 1}, \"90\": {\"90\": 134, \"63\": 2, \"88\": 5, \"43\": 1, \"122\": 2, \"93\": 8, \"57\": 1, \"108\": 1}, \"10\": {\"11\": 3, \"58\": 1, \"106\": 17, \"97\": 3, \"10\": 17, \"19\": 1, \"51\": 1, \"66\": 1, \"104\": 2, \"1\": 1, \"47\": 3, \"87\": 4, \"32\": 1, \"128\": 1, \"75\": 1, \"27\": 2, \"7\": 2, \"36\": 5, \"125\": 15, \"60\": 1, \"3\": 2, \"71\": 1, \"15\": 6, \"127\": 3, \"24\": 2, \"4\": 2, \"117\": 1, \"84\": 2, \"5\": 1, \"90\": 1, \"114\": 3, \"43\": 1, \"94\": 2, \"89\": 1, \"129\": 1, \"14\": 1, \"98\": 1, \"30\": 1, \"124\": 1, \"12\": 1, \"40\": 1, \"88\": 1, \"39\": 1, \"8\": 2, \"70\": 1}, \"63\": {\"63\": 11, \"123\": 1, \"18\": 3, \"117\": 1}, \"85\": {\"4\": 2, \"85\": 22, \"124\": 1, \"17\": 1, \"71\": 1, \"1\": 1}, \"64\": {\"64\": 13, \"90\": 1, \"37\": 1, \"126\": 1}, \"82\": {\"42\": 2, \"82\": 16, \"100\": 2, \"111\": 1, \"1\": 3, \"105\": 3, \"112\": 2, \"101\": 1, \"129\": 2}, \"58\": {\"58\": 15, \"113\": 1}, \"3\": {\"3\": 82, \"38\": 1, \"87\": 4, \"80\": 1, \"129\": 1, \"5\": 4, \"73\": 3, \"127\": 2, \"49\": 2, \"60\": 1, \"70\": 4, \"62\": 1, \"43\": 3, \"88\": 2, \"33\": 5, \"14\": 4, \"112\": 1, \"36\": 1, \"22\": 2, \"89\": 1, \"30\": 1, \"119\": 1, \"19\": 2, \"113\": 1, \"118\": 1, \"21\": 1, \"110\": 1, \"102\": 2, \"117\": 1}, \"54\": {\"54\": 13, \"36\": 2, \"15\": 1}, \"121\": {\"121\": 5, \"63\": 1, \"39\": 3, \"1\": 3, \"61\": 2, \"69\": 2, \"92\": 1, \"78\": 1, \"3\": 1, \"10\": 1, \"9\": 2, \"20\": 1, \"96\": 1, \"45\": 1, \"43\": 1, \"21\": 2, \"81\": 2, \"126\": 1, \"105\": 1}, \"42\": {\"10\": 4, \"62\": 1, \"106\": 1, \"72\": 2, \"43\": 3, \"104\": 1, \"29\": 2, \"75\": 1, \"7\": 1, \"22\": 1, \"122\": 1, \"30\": 2, \"98\": 2, \"5\": 1, \"58\": 1, \"89\": 1, \"99\": 1, \"101\": 2}, \"98\": {\"98\": 52, \"29\": 1, \"97\": 2, \"12\": 8, \"26\": 1, \"127\": 9, \"124\": 7, \"36\": 1, \"4\": 1, \"62\": 1, \"8\": 2, \"30\": 3, \"27\": 1, \"111\": 7, \"10\": 6, \"15\": 2, \"126\": 1, \"95\": 1, \"51\": 1, \"94\": 2, \"41\": 2, \"84\": 2, \"25\": 1, \"17\": 2, \"11\": 1, \"85\": 2, \"108\": 1}, \"123\": {\"123\": 14, \"63\": 1, \"90\": 1}, \"91\": {\"98\": 1, \"82\": 1, \"4\": 2, \"91\": 8, \"68\": 2, \"30\": 1, \"15\": 1, \"41\": 1, \"9\": 2, \"29\": 1, \"111\": 2, \"127\": 2}, \"83\": {\"120\": 1, \"83\": 12, \"119\": 1, \"40\": 3, \"71\": 2, \"60\": 2, \"8\": 2, \"46\": 1, \"107\": 1, \"26\": 1, \"10\": 1, \"70\": 1}, \"99\": {\"20\": 1, \"99\": 19, \"3\": 4, \"109\": 1, \"1\": 2, \"122\": 1, \"49\": 2, \"14\": 4, \"102\": 1, \"73\": 1, \"118\": 3, \"84\": 1}, \"112\": {\"112\": 14, \"129\": 1, \"3\": 1}, \"119\": {\"119\": 11, \"30\": 1, \"14\": 2, \"122\": 2}, \"70\": {\"112\": 1, \"27\": 4, \"70\": 15, \"118\": 2, \"39\": 1, \"8\": 11, \"94\": 2, \"90\": 3, \"105\": 8, \"114\": 5, \"0\": 7, \"87\": 6, \"5\": 1, \"18\": 1, \"62\": 1, \"7\": 5, \"110\": 5, \"33\": 3, \"15\": 2, \"93\": 2, \"1\": 3, \"84\": 3, \"14\": 3, \"98\": 1, \"101\": 3, \"107\": 2, \"126\": 1, \"102\": 1, \"3\": 1, \"69\": 1, \"46\": 1, \"119\": 2, \"60\": 1, \"2\": 1, \"40\": 1, \"71\": 5, \"26\": 1, \"88\": 3, \"117\": 1, \"43\": 1, \"10\": 1, \"122\": 2}, \"20\": {\"20\": 10, \"121\": 2, \"23\": 1, \"43\": 1, \"57\": 1, \"96\": 1}, \"120\": {\"45\": 3, \"120\": 8, \"100\": 1, \"46\": 3, \"107\": 1, \"7\": 2, \"60\": 2}, \"7\": {\"112\": 1, \"7\": 44, \"30\": 1, \"119\": 1, \"1\": 2, \"8\": 7, \"105\": 3, \"49\": 1, \"46\": 2, \"95\": 1, \"101\": 3, \"107\": 2, \"0\": 8, \"71\": 8, \"3\": 1, \"4\": 4, \"10\": 2, \"114\": 3, \"70\": 4, \"40\": 4, \"87\": 5, \"126\": 1, \"127\": 1, \"53\": 1, \"60\": 1, \"27\": 2, \"89\": 2, \"83\": 1, \"128\": 1, \"11\": 1, \"12\": 2, \"33\": 1, \"88\": 1, \"106\": 1, \"69\": 1}, \"60\": {\"60\": 4, \"7\": 3, \"66\": 2, \"85\": 1, \"105\": 1, \"76\": 2, \"43\": 1, \"129\": 2, \"88\": 2, \"122\": 1, \"107\": 1, \"62\": 1, \"2\": 1, \"109\": 1, \"94\": 1, \"42\": 2, \"22\": 1, \"112\": 1, \"45\": 1, \"108\": 1, \"44\": 1, \"40\": 1}, \"113\": {\"113\": 94, \"126\": 5, \"88\": 2, \"2\": 1, \"14\": 1, \"81\": 3, \"122\": 2, \"90\": 2, \"39\": 4, \"109\": 2, \"117\": 1, \"18\": 1}, \"37\": {\"37\": 14, \"90\": 1, \"121\": 1}, \"124\": {\"124\": 85, \"17\": 1, \"27\": 1, \"15\": 2, \"98\": 8, \"111\": 7, \"12\": 2, \"41\": 1, \"94\": 1, \"24\": 2}, \"27\": {\"83\": 1, \"60\": 1, \"53\": 1, \"120\": 1, \"27\": 10, \"88\": 1, \"114\": 6, \"73\": 1, \"62\": 1, \"10\": 4, \"127\": 4, \"0\": 5, \"98\": 4, \"107\": 1, \"49\": 2, \"101\": 4, \"102\": 1, \"8\": 7, \"40\": 1, \"4\": 3, \"14\": 3, \"11\": 2, \"125\": 1, \"1\": 2, \"126\": 4, \"105\": 2, \"124\": 1, \"87\": 1, \"118\": 1, \"71\": 5, \"12\": 1, \"22\": 2, \"95\": 2, \"7\": 2, \"30\": 2, \"85\": 1, \"3\": 4, \"110\": 1, \"15\": 1, \"33\": 1, \"70\": 2}, \"86\": {\"86\": 24, \"53\": 1, \"52\": 1, \"49\": 1, \"55\": 1}, \"127\": {\"10\": 2, \"127\": 55, \"4\": 5, \"12\": 1, \"98\": 6, \"34\": 1, \"71\": 2, \"30\": 5, \"88\": 1, \"113\": 1, \"8\": 7, \"111\": 4, \"124\": 2, \"101\": 5, \"126\": 1, \"0\": 3, \"39\": 2, \"114\": 1, \"86\": 1, \"27\": 1, \"90\": 1, \"94\": 1}, \"62\": {\"122\": 5, \"89\": 1, \"67\": 1, \"113\": 1, \"116\": 1, \"62\": 18, \"129\": 1, \"99\": 1, \"109\": 3, \"118\": 3, \"108\": 3, \"16\": 2, \"33\": 1, \"126\": 1, \"14\": 3, \"43\": 3, \"44\": 2, \"72\": 1, \"73\": 1, \"110\": 2, \"80\": 1, \"70\": 2, \"102\": 2, \"3\": 1}, \"122\": {\"38\": 1, \"109\": 3, \"19\": 1, \"122\": 13, \"44\": 2, \"62\": 2, \"102\": 4, \"93\": 6, \"88\": 4, \"60\": 1, \"49\": 3, \"99\": 2, \"90\": 2, \"84\": 4, \"108\": 2, \"14\": 4, \"33\": 5, \"5\": 2, \"110\": 3, \"3\": 2, \"43\": 4, \"23\": 2, \"119\": 1, \"118\": 2, \"1\": 1, \"117\": 2, \"113\": 1, \"87\": 1, \"69\": 1, \"10\": 1, \"71\": 1, \"16\": 1}, \"51\": {\"106\": 2, \"6\": 2, \"117\": 1, \"21\": 1, \"95\": 1, \"15\": 2, \"51\": 2, \"77\": 1, \"122\": 1, \"62\": 1, \"24\": 1, \"109\": 1}, \"109\": {\"122\": 5, \"109\": 23, \"39\": 4, \"118\": 6, \"84\": 3, \"113\": 8, \"74\": 2, \"62\": 3, \"108\": 4, \"81\": 1, \"16\": 13, \"88\": 2, \"18\": 2, \"105\": 1, \"102\": 12, \"14\": 3, \"69\": 2, \"5\": 1, \"90\": 3, \"93\": 1, \"33\": 2, \"121\": 2, \"63\": 1, \"30\": 2, \"80\": 1, \"40\": 1, \"92\": 1, \"20\": 1, \"70\": 1, \"43\": 2, \"117\": 1}, \"106\": {\"106\": 63, \"10\": 7, \"39\": 1, \"103\": 2, \"15\": 10, \"30\": 1, \"34\": 1, \"24\": 5, \"36\": 5, \"27\": 1, \"126\": 3, \"12\": 2, \"127\": 1, \"125\": 3, \"78\": 1, \"95\": 1, \"94\": 2, \"1\": 1, \"117\": 1, \"111\": 2, \"113\": 1}, \"94\": {\"106\": 3, \"94\": 39, \"54\": 4, \"25\": 3, \"22\": 1, \"12\": 1, \"15\": 5, \"30\": 6, \"0\": 1, \"34\": 1, \"10\": 1, \"125\": 8, \"36\": 6, \"124\": 2, \"1\": 2, \"98\": 1, \"7\": 1, \"6\": 1, \"49\": 1, \"114\": 1}, \"38\": {\"38\": 13, \"113\": 1, \"93\": 1, \"122\": 1}, \"129\": {\"51\": 1, \"86\": 2, \"129\": 5, \"52\": 1, \"99\": 1, \"88\": 1, \"128\": 2, \"59\": 1, \"114\": 1, \"1\": 1, \"71\": 3, \"105\": 1, \"46\": 1, \"53\": 1, \"19\": 1, \"55\": 1, \"82\": 1, \"84\": 2, \"7\": 1}, \"116\": {\"109\": 1, \"89\": 1, \"33\": 2, \"83\": 2, \"115\": 1, \"73\": 2, \"51\": 1, \"122\": 1, \"5\": 2, \"128\": 1, \"114\": 2, \"92\": 2, \"82\": 1, \"8\": 2, \"116\": 1, \"98\": 1, \"74\": 1, \"118\": 1, \"66\": 1, \"40\": 1, \"72\": 1}, \"107\": {\"107\": 73, \"71\": 5, \"115\": 1, \"114\": 8, \"11\": 6, \"1\": 2, \"105\": 3, \"108\": 1, \"69\": 1, \"40\": 9, \"8\": 2, \"46\": 1, \"82\": 2, \"118\": 1, \"70\": 1, \"83\": 1, \"98\": 1}, \"30\": {\"51\": 1, \"17\": 1, \"103\": 2, \"68\": 2, \"71\": 3, \"29\": 2, \"12\": 2, \"101\": 5, \"30\": 28, \"24\": 1, \"39\": 1, \"15\": 3, \"34\": 2, \"27\": 2, \"111\": 3, \"11\": 1, \"114\": 2, \"124\": 2, \"98\": 4, \"94\": 1, \"9\": 1, \"128\": 1, \"129\": 1, \"0\": 2, \"8\": 2, \"126\": 1}, \"102\": {\"102\": 89, \"114\": 1, \"129\": 1, \"118\": 6, \"5\": 2, \"69\": 5, \"14\": 4, \"87\": 2, \"33\": 4, \"108\": 2, \"43\": 2, \"11\": 2, \"57\": 1, \"73\": 1, \"80\": 1, \"49\": 1, \"72\": 1, \"99\": 2, \"109\": 2, \"62\": 1, \"3\": 1, \"124\": 1}, \"74\": {\"74\": 10, \"119\": 1, \"99\": 2, \"22\": 2, \"102\": 1}, \"101\": {\"1\": 4, \"85\": 2, \"95\": 2, \"53\": 1, \"101\": 51, \"55\": 1, \"86\": 1, \"4\": 6, \"0\": 7, \"7\": 4, \"127\": 13, \"30\": 4, \"71\": 2, \"114\": 4, \"11\": 1, \"87\": 2, \"40\": 3, \"10\": 5, \"90\": 1, \"8\": 3, \"107\": 3, \"51\": 1, \"128\": 2, \"9\": 2, \"60\": 1, \"110\": 1, \"70\": 1, \"98\": 1, \"105\": 1, \"124\": 2}, \"117\": {\"117\": 95, \"2\": 2, \"126\": 1, \"26\": 3, \"39\": 1, \"69\": 1, \"16\": 1, \"18\": 9, \"63\": 1, \"90\": 1, \"92\": 1, \"93\": 2, \"81\": 1, \"118\": 1, \"109\": 4}, \"1\": {\"107\": 3, \"1\": 46, \"40\": 7, \"3\": 2, \"105\": 11, \"82\": 2, \"129\": 2, \"27\": 6, \"127\": 1, \"90\": 1, \"111\": 1, \"71\": 3, \"33\": 1, \"87\": 4, \"126\": 2, \"15\": 3, \"36\": 1, \"98\": 1, \"7\": 4, \"128\": 1, \"21\": 1, \"69\": 1, \"102\": 1, \"11\": 1, \"101\": 1, \"8\": 1}, \"84\": {\"84\": 74, \"19\": 1, \"110\": 7, \"118\": 2, \"18\": 1, \"43\": 5, \"5\": 5, \"122\": 6, \"108\": 1, \"44\": 5, \"114\": 1, \"109\": 4, \"117\": 1, \"16\": 5, \"70\": 2, \"14\": 1, \"2\": 1, \"99\": 1, \"93\": 1, \"126\": 1, \"62\": 1, \"90\": 1, \"88\": 3, \"87\": 2}, \"17\": {\"17\": 16, \"85\": 1, \"28\": 1, \"127\": 2}, \"6\": {\"51\": 2, \"54\": 1, \"6\": 12, \"106\": 1, \"77\": 2, \"75\": 2, \"41\": 1, \"103\": 1, \"48\": 1, \"36\": 1}, \"110\": {\"8\": 2, \"73\": 2, \"57\": 1, \"22\": 1, \"39\": 1, \"87\": 7, \"127\": 1, \"114\": 1, \"84\": 8, \"93\": 6, \"5\": 9, \"90\": 10, \"110\": 30, \"43\": 7, \"44\": 4, \"108\": 6, \"122\": 6, \"14\": 1, \"62\": 3, \"70\": 1, \"126\": 2, \"2\": 1, \"119\": 2, \"113\": 1, \"38\": 1, \"20\": 1, \"88\": 3, \"109\": 3, \"10\": 1, \"33\": 1, \"40\": 1}, \"77\": {\"77\": 10, \"91\": 1, \"97\": 1}, \"8\": {\"4\": 4, \"112\": 2, \"40\": 3, \"1\": 3, \"91\": 1, \"8\": 49, \"7\": 7, \"114\": 5, \"93\": 1, \"0\": 6, \"34\": 2, \"12\": 1, \"10\": 2, \"14\": 2, \"30\": 1, \"127\": 6, \"98\": 2, \"105\": 5, \"87\": 2, \"70\": 4, \"27\": 1, \"111\": 4, \"101\": 4, \"24\": 1, \"107\": 1, \"53\": 1, \"81\": 1, \"9\": 1, \"82\": 1, \"43\": 1, \"115\": 1, \"3\": 1, \"71\": 1, \"90\": 2, \"106\": 2, \"15\": 1}, \"73\": {\"8\": 1, \"57\": 1, \"73\": 11, \"3\": 2, \"104\": 1, \"49\": 1, \"43\": 1, \"81\": 1, \"111\": 1, \"36\": 1, \"120\": 1, \"74\": 1, \"119\": 1}, \"126\": {\"126\": 109, \"113\": 5, \"81\": 3, \"39\": 3, \"123\": 1, \"21\": 2, \"108\": 1}, \"57\": {\"57\": 16}, \"95\": {\"95\": 22, \"126\": 1, \"111\": 4, \"29\": 1, \"127\": 1, \"4\": 1, \"12\": 2}, \"103\": {\"95\": 1, \"103\": 10, \"89\": 1, \"10\": 2, \"29\": 2}, \"97\": {\"97\": 10, \"7\": 1, \"56\": 2, \"29\": 2, \"59\": 1, \"98\": 1, \"34\": 1, \"94\": 1, \"95\": 1}, \"39\": {\"126\": 6, \"39\": 49, \"26\": 2, \"113\": 9, \"109\": 3, \"117\": 5, \"63\": 1, \"21\": 3, \"2\": 4, \"87\": 1, \"108\": 2, \"81\": 4, \"90\": 4, \"43\": 1, \"118\": 1, \"80\": 2, \"110\": 1, \"18\": 2}, \"100\": {\"1\": 3, \"100\": 13, \"42\": 2, \"10\": 1, \"128\": 1}, \"40\": {\"114\": 4, \"40\": 65, \"83\": 1, \"11\": 3, \"1\": 4, \"107\": 13, \"105\": 5, \"90\": 1, \"98\": 2, \"101\": 1, \"33\": 1, \"23\": 1, \"116\": 1, \"0\": 1, \"7\": 3, \"8\": 1, \"71\": 2, \"27\": 1}, \"36\": {\"36\": 57, \"54\": 3, \"29\": 3, \"101\": 2, \"12\": 5, \"125\": 9, \"10\": 2, \"98\": 3, \"71\": 1, \"15\": 10, \"94\": 5, \"124\": 3, \"111\": 4, \"24\": 3, \"126\": 1, \"106\": 3, \"68\": 2, \"30\": 3, \"21\": 1, \"114\": 1, \"7\": 2, \"127\": 2, \"4\": 1}, \"19\": {\"106\": 1, \"19\": 12, \"71\": 1, \"3\": 1, \"122\": 1, \"82\": 2, \"27\": 3, \"8\": 1, \"105\": 1, \"88\": 1, \"89\": 1, \"115\": 1, \"16\": 1, \"118\": 1}, \"118\": {\"39\": 1, \"118\": 25, \"38\": 2, \"79\": 3, \"33\": 5, \"116\": 1, \"2\": 2, \"109\": 4, \"73\": 1, \"129\": 1, \"114\": 3, \"16\": 2, \"5\": 6, \"84\": 4, \"69\": 3, \"122\": 1, \"108\": 2, \"117\": 2, \"110\": 5, \"43\": 4, \"107\": 3, \"14\": 3, \"88\": 2, \"1\": 3, \"81\": 1, \"87\": 1, \"7\": 1, \"3\": 2, \"11\": 2, \"102\": 2, \"44\": 2, \"23\": 1, \"90\": 3, \"24\": 1, \"12\": 1, \"99\": 1, \"105\": 2, \"71\": 1, \"40\": 1, \"62\": 1, \"98\": 1}, \"56\": {\"7\": 1, \"56\": 9, \"114\": 1, \"85\": 1}, \"26\": {\"26\": 108, \"2\": 1, \"16\": 2, \"44\": 1, \"109\": 2, \"117\": 4, \"18\": 5, \"123\": 1, \"70\": 1, \"113\": 1}, \"5\": {\"5\": 103, \"19\": 1, \"114\": 2, \"88\": 3, \"72\": 1, \"108\": 3, \"84\": 1, \"14\": 3, \"8\": 2, \"122\": 1, \"110\": 4, \"43\": 6, \"70\": 1, \"44\": 1, \"26\": 1, \"105\": 1, \"18\": 1, \"33\": 1}, \"21\": {\"21\": 35, \"1\": 2, \"126\": 1, \"81\": 2}, \"22\": {\"22\": 9, \"72\": 1, \"94\": 1, \"120\": 1, \"74\": 1, \"44\": 1, \"79\": 1, \"89\": 1}, \"68\": {\"68\": 9, \"89\": 1, \"15\": 2, \"111\": 2, \"98\": 2}, \"9\": {\"91\": 2, \"30\": 2, \"56\": 2, \"9\": 15, \"95\": 1, \"127\": 1, \"8\": 2, \"28\": 2, \"101\": 1}, \"66\": {\"66\": 12, \"108\": 1, \"38\": 1, \"44\": 2}, \"87\": {\"115\": 1, \"87\": 12, \"33\": 2, \"32\": 1, \"4\": 1, \"46\": 1, \"71\": 10, \"109\": 3, \"72\": 1, \"43\": 3, \"107\": 4, \"44\": 2, \"105\": 12, \"0\": 4, \"7\": 7, \"5\": 14, \"108\": 1, \"24\": 2, \"124\": 1, \"14\": 3, \"88\": 1, \"114\": 11, \"1\": 2, \"70\": 3, \"69\": 2, \"110\": 1, \"52\": 1, \"122\": 2, \"128\": 1, \"84\": 4, \"40\": 3, \"8\": 2, \"62\": 1, \"98\": 2, \"27\": 1, \"117\": 1, \"11\": 1}, \"71\": {\"71\": 57, \"113\": 1, \"107\": 1, \"83\": 1, \"46\": 3, \"55\": 2, \"114\": 7, \"7\": 5, \"49\": 2, \"105\": 5, \"106\": 1, \"87\": 2, \"12\": 1, \"40\": 1, \"86\": 2, \"53\": 1, \"10\": 2, \"82\": 1, \"27\": 3, \"8\": 2, \"101\": 1, \"21\": 1, \"39\": 1, \"108\": 1}, \"115\": {\"85\": 1, \"28\": 1, \"101\": 2, \"115\": 5, \"11\": 1, \"1\": 1, \"89\": 1, \"79\": 1, \"34\": 2, \"49\": 1}, \"23\": {\"97\": 1, \"23\": 1, \"90\": 5, \"21\": 2, \"101\": 1, \"44\": 1, \"121\": 2, \"113\": 2, \"98\": 1}, \"33\": {\"33\": 90, \"87\": 2, \"43\": 1, \"128\": 1, \"126\": 1, \"72\": 1, \"27\": 1, \"1\": 1, \"102\": 3, \"122\": 1, \"88\": 1, \"14\": 5, \"110\": 1, \"108\": 1, \"70\": 2, \"69\": 1, \"49\": 1, \"10\": 1, \"3\": 1, \"127\": 1, \"84\": 1}, \"35\": {\"117\": 2, \"35\": 4, \"61\": 1, \"39\": 1, \"128\": 1, \"62\": 1, \"44\": 1, \"16\": 1}, \"125\": {\"125\": 115, \"24\": 2, \"3\": 1, \"94\": 2, \"26\": 1, \"36\": 5, \"15\": 1, \"90\": 1, \"122\": 1, \"18\": 1, \"10\": 2}, \"47\": {\"94\": 2, \"47\": 9, \"34\": 1}, \"79\": {\"115\": 1, \"101\": 1, \"79\": 11, \"1\": 1, \"107\": 1, \"89\": 1}, \"53\": {\"4\": 2, \"86\": 1, \"53\": 10, \"102\": 1, \"27\": 2}, \"67\": {\"39\": 3, \"90\": 3, \"32\": 1, \"67\": 2, \"113\": 2, \"123\": 1, \"46\": 1, \"106\": 1, \"107\": 1, \"7\": 1}, \"80\": {\"80\": 15, \"113\": 1}, \"105\": {\"105\": 41, \"7\": 4, \"49\": 2, \"126\": 2, \"87\": 8, \"71\": 6, \"107\": 3, \"1\": 5, \"82\": 1, \"113\": 2, \"14\": 1, \"114\": 3, \"101\": 2, \"102\": 2, \"40\": 5, \"0\": 3, \"15\": 2, \"46\": 1, \"27\": 1, \"96\": 1, \"83\": 2, \"106\": 2, \"8\": 1}, \"76\": {\"76\": 13, \"114\": 2, \"50\": 1}, \"46\": {\"46\": 10, \"53\": 1, \"107\": 2, \"71\": 1, \"52\": 1, \"114\": 2, \"10\": 1, \"32\": 1, \"70\": 1}, \"34\": {\"120\": 2, \"87\": 1, \"24\": 4, \"12\": 1, \"33\": 1, \"107\": 1, \"3\": 1, \"43\": 2, \"99\": 1, \"15\": 3, \"0\": 1, \"40\": 1, \"8\": 2, \"73\": 1, \"75\": 2, \"17\": 1, \"115\": 1, \"97\": 1, \"94\": 2, \"34\": 3}, \"32\": {\"11\": 1, \"32\": 22, \"13\": 1, \"17\": 1, \"46\": 1, \"31\": 1, \"107\": 1}, \"13\": {\"13\": 10, \"69\": 4, \"11\": 2}, \"78\": {\"76\": 1, \"90\": 2, \"78\": 5, \"107\": 1, \"1\": 2, \"85\": 1, \"97\": 1, \"114\": 3, \"111\": 1, \"117\": 3, \"4\": 1, \"126\": 2, \"127\": 2, \"43\": 1, \"52\": 1, \"63\": 1, \"18\": 1, \"38\": 1, \"9\": 1, \"115\": 1, \"0\": 1, \"113\": 2, \"7\": 1}, \"41\": {\"56\": 2, \"41\": 12, \"111\": 1, \"29\": 1}, \"69\": {\"3\": 1, \"60\": 1, \"70\": 1, \"69\": 104, \"126\": 4, \"105\": 3, \"5\": 1, \"118\": 3, \"87\": 2, \"33\": 2, \"102\": 2, \"109\": 1, \"120\": 1, \"22\": 1, \"11\": 1}, \"88\": {\"32\": 1, \"63\": 1, \"56\": 1, \"112\": 1, \"9\": 1, \"71\": 1, \"128\": 2, \"89\": 1, \"88\": 13, \"124\": 2, \"70\": 4, \"26\": 1, \"117\": 7, \"114\": 1, \"113\": 12, \"126\": 13, \"87\": 9, \"49\": 1, \"8\": 2, \"11\": 2, \"102\": 2, \"40\": 1, \"90\": 4, \"4\": 1, \"1\": 3, \"10\": 4, \"3\": 5, \"27\": 2, \"108\": 1, \"5\": 3, \"33\": 3, \"110\": 2, \"109\": 1, \"15\": 1, \"93\": 2, \"74\": 1, \"81\": 2, \"43\": 1, \"122\": 2, \"39\": 5, \"105\": 1, \"98\": 1, \"0\": 2, \"118\": 1, \"84\": 1, \"18\": 1, \"7\": 1, \"69\": 1, \"24\": 1}, \"15\": {\"77\": 1, \"15\": 41, \"101\": 4, \"10\": 2, \"12\": 12, \"127\": 4, \"36\": 6, \"34\": 1, \"111\": 8, \"8\": 2, \"125\": 6, \"106\": 8, \"24\": 6, \"93\": 1, \"124\": 4, \"94\": 6, \"126\": 2, \"98\": 5, \"75\": 2, \"79\": 1, \"6\": 1, \"85\": 1, \"21\": 1, \"30\": 2, \"113\": 1}, \"61\": {\"74\": 1, \"13\": 1, \"61\": 5, \"26\": 1, \"79\": 1, \"2\": 1, \"48\": 2, \"27\": 2, \"69\": 2}, \"0\": {\"42\": 1, \"17\": 1, \"85\": 2, \"98\": 1, \"0\": 18, \"73\": 1, \"49\": 1, \"8\": 11, \"108\": 2, \"7\": 5, \"33\": 1, \"4\": 8, \"27\": 4, \"101\": 7, \"127\": 9, \"10\": 2, \"3\": 3, \"107\": 4, \"124\": 1, \"87\": 6, \"102\": 3, \"1\": 6, \"24\": 3, \"43\": 2, \"111\": 3, \"126\": 1, \"55\": 2, \"86\": 1, \"83\": 1, \"105\": 1, \"113\": 2, \"106\": 1, \"117\": 1, \"18\": 1}, \"104\": {\"104\": 13, \"70\": 1, \"41\": 2}, \"48\": {\"48\": 5, \"116\": 2, \"71\": 2, \"79\": 2, \"31\": 2, \"68\": 1, \"100\": 2}, \"25\": {\"75\": 2, \"25\": 14}, \"75\": {\"75\": 15, \"6\": 1}, \"81\": {\"81\": 33, \"0\": 1, \"39\": 1, \"113\": 1}, \"50\": {\"50\": 7, \"46\": 2, \"86\": 2, \"103\": 1, \"104\": 2, \"114\": 1, \"4\": 1}, \"52\": {\"52\": 15, \"27\": 1, \"4\": 2, \"34\": 1, \"53\": 1}, \"16\": {\"16\": 74, \"122\": 2, \"26\": 12, \"84\": 6, \"102\": 3, \"88\": 2, \"126\": 1, \"93\": 2, \"109\": 5, \"23\": 1, \"35\": 1, \"57\": 1, \"90\": 1, \"5\": 3, \"99\": 2, \"69\": 2, \"117\": 2}, \"44\": {\"122\": 3, \"44\": 39, \"5\": 2, \"88\": 2, \"70\": 1, \"71\": 1, \"1\": 2, \"43\": 1, \"87\": 4, \"84\": 3, \"110\": 4, \"62\": 1, \"117\": 1}, \"29\": {\"29\": 23, \"39\": 1, \"30\": 2, \"10\": 1, \"129\": 1, \"91\": 1, \"96\": 1, \"85\": 2}, \"93\": {\"93\": 64, \"21\": 1, \"44\": 1, \"3\": 3, \"78\": 1, \"118\": 1, \"0\": 1, \"107\": 1, \"43\": 1, \"88\": 6, \"62\": 3, \"110\": 7, \"90\": 16, \"114\": 1, \"69\": 1, \"117\": 2, \"108\": 5, \"70\": 1, \"109\": 1, \"81\": 2, \"122\": 4, \"87\": 1}, \"18\": {\"18\": 79, \"117\": 16, \"1\": 1, \"109\": 1, \"126\": 3, \"26\": 6, \"90\": 2, \"2\": 1, \"78\": 2, \"122\": 1, \"39\": 1, \"88\": 1}, \"49\": {\"49\": 7, \"4\": 2, \"18\": 1, \"3\": 4, \"101\": 2, \"14\": 2, \"7\": 1, \"99\": 3, \"127\": 1, \"8\": 1, \"24\": 1, \"109\": 1, \"17\": 1, \"86\": 1, \"52\": 1, \"128\": 1, \"87\": 1, \"10\": 1}, \"55\": {\"55\": 15, \"86\": 1}, \"59\": {\"59\": 6, \"58\": 2, \"21\": 1, \"97\": 2, \"77\": 1}, \"128\": {\"17\": 1, \"88\": 3, \"122\": 1, \"114\": 1, \"4\": 1, \"128\": 3, \"52\": 1, \"18\": 1, \"62\": 1, \"8\": 2, \"76\": 1, \"5\": 1, \"87\": 1, \"101\": 1, \"43\": 2, \"14\": 1, \"70\": 1, \"7\": 1}, \"24\": {\"24\": 18, \"87\": 3, \"10\": 9, \"29\": 1, \"114\": 2, \"113\": 1, \"14\": 2, \"34\": 1, \"0\": 2, \"1\": 4, \"40\": 3, \"125\": 18, \"98\": 2, \"108\": 1, \"8\": 2, \"7\": 2, \"71\": 3, \"90\": 1, \"105\": 3, \"4\": 2, \"111\": 4, \"12\": 1, \"36\": 7, \"101\": 2, \"70\": 1, \"106\": 5, \"33\": 1, \"75\": 2, \"51\": 1, \"60\": 1, \"107\": 1, \"54\": 1, \"25\": 2, \"91\": 2, \"102\": 2, \"16\": 1, \"39\": 1, \"94\": 1, \"11\": 1, \"15\": 3}, \"65\": {\"65\": 10, \"109\": 2}, \"92\": {\"92\": 26, \"107\": 1, \"98\": 1}}, \"W_1\": {\"108\": {\"9\": 2, \"108\": 31, \"124\": 3, \"22\": 1, \"7\": 4, \"41\": 1, \"24\": 2, \"84\": 3, \"4\": 1, \"71\": 1, \"11\": 4, \"43\": 4, \"93\": 4, \"87\": 4, \"3\": 2, \"8\": 9, \"114\": 7, \"107\": 3, \"122\": 1, \"1\": 4, \"101\": 6, \"40\": 4, \"111\": 1, \"105\": 3, \"110\": 3, \"5\": 3, \"88\": 1, \"49\": 1, \"34\": 1, \"83\": 1, \"48\": 1, \"53\": 1, \"75\": 1, \"44\": 1, \"33\": 1, \"12\": 1, \"70\": 2, \"127\": 1}, \"40\": {\"40\": 80, \"4\": 10, \"49\": 1, \"9\": 1, \"107\": 6, \"88\": 1, \"93\": 4, \"5\": 3, \"24\": 2, \"124\": 3, \"36\": 2, \"105\": 5, \"87\": 2, \"70\": 1, \"10\": 1, \"8\": 2, \"101\": 3, \"114\": 3, \"29\": 1, \"108\": 1, \"86\": 1, \"42\": 1, \"27\": 1, \"43\": 1}, \"68\": {\"68\": 8, \"3\": 1, \"52\": 1, \"34\": 1, \"111\": 1, \"94\": 1, \"112\": 1, \"71\": 2}, \"23\": {\"57\": 2, \"111\": 2, \"53\": 1, \"56\": 1, \"65\": 1, \"98\": 2, \"88\": 1, \"4\": 1, \"89\": 1, \"3\": 2, \"37\": 1, \"1\": 1, \"66\": 1, \"112\": 1, \"13\": 1, \"10\": 1, \"106\": 2, \"36\": 1, \"85\": 1}, \"26\": {\"26\": 109, \"27\": 1, \"33\": 1, \"14\": 1, \"117\": 1, \"62\": 1, \"69\": 2, \"118\": 1, \"94\": 1, \"128\": 1, \"102\": 1}, \"64\": {\"3\": 1, \"64\": 13, \"57\": 2}, \"22\": {\"22\": 11, \"44\": 1, \"114\": 1, \"109\": 1, \"10\": 1, \"94\": 1}, \"3\": {\"3\": 63, \"87\": 2, \"94\": 2, \"102\": 2, \"90\": 6, \"71\": 2, \"109\": 4, \"15\": 1, \"82\": 1, \"18\": 1, \"122\": 1, \"117\": 2, \"125\": 1}, \"4\": {\"4\": 75, \"0\": 3, \"30\": 3, \"43\": 1, \"8\": 2, \"124\": 1, \"93\": 3, \"108\": 2, \"5\": 1, \"40\": 3, \"72\": 1, \"121\": 1, \"105\": 2, \"70\": 2}, \"70\": {\"110\": 1, \"102\": 1, \"70\": 10, \"122\": 4, \"33\": 2, \"14\": 1, \"51\": 1, \"8\": 4, \"54\": 1, \"9\": 1, \"1\": 4, \"126\": 6, \"101\": 7, \"109\": 4, \"24\": 3, \"128\": 1, \"39\": 1, \"36\": 1, \"114\": 5, \"108\": 6, \"117\": 3, \"98\": 1, \"4\": 1, \"87\": 3, \"62\": 2, \"93\": 3, \"43\": 3, \"7\": 1, \"5\": 3, \"10\": 2, \"69\": 3, \"107\": 6, \"118\": 1, \"40\": 4, \"85\": 1, \"21\": 2, \"106\": 2, \"86\": 1, \"105\": 1, \"3\": 1, \"90\": 3, \"124\": 4, \"11\": 3, \"94\": 1, \"16\": 1}, \"57\": {\"57\": 11, \"88\": 1}, \"79\": {\"79\": 9, \"4\": 1, \"120\": 1, \"70\": 1}, \"9\": {\"9\": 20, \"53\": 1, \"75\": 2, \"108\": 3, \"110\": 2, \"10\": 1, \"105\": 2, \"24\": 1}, \"89\": {\"89\": 23, \"53\": 1, \"97\": 1, \"127\": 2, \"91\": 2, \"0\": 1, \"49\": 2, \"103\": 2, \"88\": 1, \"110\": 1}, \"110\": {\"89\": 4, \"110\": 48, \"30\": 2, \"107\": 8, \"83\": 1, \"127\": 4, \"15\": 3, \"70\": 1, \"12\": 5, \"24\": 7, \"106\": 8, \"71\": 5, \"98\": 5, \"93\": 8, \"88\": 2, \"10\": 1, \"124\": 2, \"49\": 1, \"101\": 3, \"58\": 1, \"111\": 2, \"108\": 2, \"4\": 2, \"91\": 2, \"53\": 1}, \"102\": {\"102\": 92, \"62\": 4, \"43\": 5, \"33\": 10, \"50\": 1, \"122\": 1, \"18\": 1, \"69\": 1, \"1\": 1, \"14\": 1, \"36\": 1, \"109\": 1, \"70\": 1}, \"31\": {\"19\": 1, \"31\": 11, \"77\": 1, \"70\": 1, \"87\": 1, \"35\": 1}, \"58\": {\"58\": 10, \"71\": 1, \"88\": 1}, \"47\": {\"47\": 12}, \"24\": {\"52\": 1, \"58\": 1, \"38\": 1, \"10\": 3, \"24\": 21, \"122\": 1, \"101\": 1, \"15\": 2, \"34\": 2, \"124\": 1, \"21\": 1, \"27\": 2, \"110\": 8, \"111\": 2, \"94\": 3, \"40\": 2, \"106\": 4, \"3\": 2, \"113\": 1, \"87\": 3, \"93\": 2, \"4\": 1, \"12\": 8, \"70\": 1, \"7\": 1, \"108\": 2, \"49\": 1, \"88\": 4, \"97\": 1, \"9\": 1, \"85\": 1, \"36\": 3, \"125\": 1, \"11\": 1, \"0\": 1, \"127\": 1}, \"19\": {\"19\": 16, \"14\": 3, \"126\": 1, \"43\": 2, \"74\": 1, \"48\": 1, \"7\": 1, \"115\": 2, \"122\": 1}, \"11\": {\"11\": 54, \"115\": 1, \"14\": 9, \"19\": 1, \"107\": 1, \"126\": 1, \"26\": 1, \"116\": 1, \"86\": 1, \"62\": 3, \"114\": 9, \"102\": 2, \"3\": 1, \"40\": 9, \"7\": 4, \"44\": 1, \"108\": 3, \"70\": 3, \"124\": 3, \"43\": 2, \"87\": 2, \"119\": 1, \"67\": 1, \"8\": 8, \"128\": 1, \"105\": 2, \"84\": 2, \"33\": 2, \"1\": 1, \"93\": 2}, \"52\": {\"52\": 14, \"92\": 3, \"36\": 2, \"88\": 1}, \"17\": {\"17\": 5, \"52\": 3, \"34\": 3, \"118\": 1, \"68\": 2, \"10\": 1, \"91\": 1}, \"25\": {\"25\": 10, \"35\": 2, \"114\": 2, \"122\": 2}, \"69\": {\"69\": 77, \"62\": 7, \"13\": 1, \"102\": 5, \"82\": 1, \"118\": 2, \"95\": 1, \"44\": 1, \"33\": 3, \"90\": 1, \"18\": 1, \"48\": 1, \"3\": 1, \"2\": 1, \"70\": 2, \"39\": 1, \"16\": 2}, \"96\": {\"96\": 10, \"51\": 1, \"23\": 1, \"65\": 1, \"121\": 1, \"43\": 1, \"42\": 1, \"109\": 2, \"39\": 1, \"64\": 1}, \"109\": {\"109\": 44, \"96\": 1, \"82\": 1, \"113\": 5, \"44\": 1, \"50\": 1, \"70\": 3, \"60\": 1, \"62\": 3, \"1\": 1, \"118\": 2, \"39\": 2, \"90\": 13, \"102\": 1, \"3\": 3, \"18\": 14, \"117\": 4, \"108\": 1, \"76\": 2, \"84\": 2, \"121\": 1, \"16\": 2, \"126\": 1, \"69\": 2, \"8\": 1, \"43\": 2}, \"115\": {\"115\": 8, \"84\": 1, \"0\": 2, \"128\": 1}, \"83\": {\"83\": 19, \"124\": 2, \"109\": 1, \"85\": 1, \"34\": 1, \"114\": 1, \"97\": 2, \"9\": 1}, \"84\": {\"23\": 2, \"128\": 2, \"84\": 69, \"115\": 1, \"1\": 12, \"122\": 4, \"14\": 6, \"87\": 4, \"10\": 1, \"7\": 4, \"43\": 10, \"62\": 1, \"126\": 3, \"110\": 1, \"19\": 1, \"39\": 1, \"44\": 1, \"71\": 1, \"107\": 1, \"70\": 3}, \"119\": {\"119\": 14, \"74\": 1, \"116\": 1}, \"122\": {\"23\": 1, \"122\": 22, \"33\": 1, \"11\": 2, \"78\": 2, \"62\": 3, \"19\": 1, \"21\": 3, \"105\": 1, \"5\": 5, \"50\": 1, \"126\": 2, \"87\": 6, \"109\": 3, \"108\": 1, \"43\": 2, \"1\": 3, \"44\": 3, \"7\": 2, \"70\": 2, \"25\": 2, \"69\": 3, \"60\": 1, \"28\": 2, \"14\": 3, \"81\": 2, \"118\": 1, \"30\": 1, \"93\": 1, \"3\": 1, \"90\": 1, \"114\": 2, \"15\": 1, \"39\": 1}, \"99\": {\"65\": 1, \"99\": 19, \"96\": 2, \"129\": 1, \"2\": 1}, \"1\": {\"1\": 85, \"14\": 5, \"66\": 1, \"129\": 5, \"84\": 12, \"122\": 2, \"39\": 1, \"43\": 4, \"44\": 5, \"126\": 4, \"114\": 1, \"33\": 4, \"69\": 1, \"82\": 1, \"102\": 3, \"7\": 1, \"90\": 1}, \"74\": {\"74\": 13, \"67\": 1, \"19\": 1, \"87\": 1}, \"85\": {\"85\": 29, \"49\": 1, \"10\": 1, \"124\": 1}, \"127\": {\"111\": 5, \"127\": 63, \"39\": 1, \"6\": 1, \"98\": 3, \"34\": 1, \"12\": 7, \"71\": 7, \"110\": 8, \"105\": 1, \"106\": 6, \"16\": 1, \"27\": 1, \"15\": 1, \"94\": 1, \"88\": 1}, \"111\": {\"111\": 64, \"127\": 4, \"68\": 1, \"17\": 2, \"88\": 4, \"37\": 2, \"32\": 1, \"15\": 4, \"27\": 8, \"71\": 8, \"91\": 1, \"6\": 2, \"94\": 2, \"98\": 4, \"124\": 1, \"106\": 4, \"92\": 1, \"97\": 1, \"110\": 3, \"30\": 2, \"18\": 1}, \"53\": {\"53\": 17, \"0\": 1, \"34\": 1, \"128\": 1}, \"88\": {\"53\": 2, \"88\": 27, \"98\": 2, \"9\": 2, \"94\": 3, \"71\": 7, \"92\": 1, \"27\": 8, \"97\": 1, \"105\": 1, \"32\": 3, \"114\": 5, \"30\": 1, \"3\": 1, \"24\": 3, \"110\": 6, \"0\": 1, \"15\": 5, \"106\": 7, \"40\": 2, \"5\": 2, \"124\": 7, \"8\": 1, \"125\": 9, \"107\": 4, \"43\": 1, \"1\": 1, \"127\": 2, \"101\": 2, \"58\": 1, \"6\": 3, \"72\": 1, \"93\": 3, \"111\": 2, \"10\": 1, \"7\": 1, \"12\": 1, \"108\": 1, \"36\": 1}, \"65\": {\"65\": 5, \"63\": 1, \"21\": 1, \"66\": 1, \"20\": 1, \"108\": 1, \"39\": 1, \"33\": 1}, \"7\": {\"7\": 101, \"84\": 5, \"87\": 6, \"70\": 4, \"62\": 1, \"102\": 1, \"122\": 1, \"44\": 1, \"93\": 1, \"28\": 1, \"71\": 1, \"43\": 3, \"126\": 3, \"1\": 1, \"24\": 1, \"14\": 2, \"33\": 1}, \"16\": {\"16\": 82, \"61\": 1, \"18\": 1, \"62\": 1, \"117\": 10, \"90\": 3, \"69\": 3, \"65\": 1, \"26\": 2, \"118\": 2, \"39\": 2}, \"128\": {\"41\": 1, \"104\": 1, \"102\": 1, \"13\": 1, \"125\": 1, \"2\": 1, \"78\": 1, \"70\": 3, \"118\": 1, \"128\": 3, \"108\": 2, \"10\": 1, \"105\": 2, \"3\": 1, \"5\": 1, \"69\": 1, \"114\": 2}, \"34\": {\"129\": 1, \"28\": 2, \"56\": 2, \"7\": 2, \"70\": 1, \"34\": 5, \"112\": 1, \"100\": 2, \"128\": 1, \"24\": 1, \"116\": 1, \"122\": 1, \"6\": 1, \"104\": 1, \"48\": 2, \"77\": 2, \"60\": 1, \"92\": 1, \"52\": 2, \"15\": 1, \"68\": 1}, \"129\": {\"128\": 1, \"41\": 1, \"129\": 3, \"81\": 1, \"117\": 1, \"80\": 2, \"90\": 4, \"43\": 3, \"84\": 3, \"3\": 1, \"2\": 1, \"73\": 1, \"66\": 2, \"87\": 2, \"49\": 1, \"1\": 1}, \"43\": {\"73\": 3, \"128\": 2, \"96\": 2, \"43\": 45, \"20\": 1, \"67\": 1, \"33\": 5, \"19\": 1, \"45\": 1, \"44\": 3, \"81\": 1, \"122\": 3, \"126\": 7, \"84\": 3, \"109\": 4, \"102\": 4, \"71\": 1, \"1\": 4, \"14\": 2, \"90\": 3, \"87\": 9, \"10\": 2, \"7\": 5, \"50\": 1, \"129\": 1, \"3\": 1, \"93\": 2, \"99\": 1, \"62\": 1, \"11\": 2, \"110\": 1, \"69\": 2, \"117\": 1, \"70\": 2, \"8\": 1}, \"92\": {\"92\": 27, \"34\": 1}, \"28\": {\"28\": 10, \"17\": 1, \"1\": 2, \"5\": 1, \"20\": 1, \"7\": 1, \"44\": 2, \"14\": 1, \"77\": 1}, \"27\": {\"53\": 1, \"27\": 18, \"49\": 2, \"89\": 1, \"58\": 1, \"36\": 7, \"112\": 1, \"127\": 4, \"88\": 6, \"92\": 3, \"51\": 2, \"110\": 4, \"15\": 3, \"12\": 5, \"125\": 7, \"34\": 1, \"108\": 3, \"94\": 7, \"106\": 4, \"30\": 2, \"24\": 3, \"9\": 1, \"124\": 1, \"71\": 2, \"93\": 2, \"111\": 1}, \"114\": {\"114\": 81, \"108\": 7, \"3\": 1, \"30\": 1, \"5\": 7, \"90\": 1, \"87\": 5, \"93\": 4, \"8\": 7, \"70\": 3, \"105\": 3, \"40\": 1, \"15\": 1, \"4\": 1, \"7\": 1}, \"73\": {\"73\": 19, \"41\": 1}, \"0\": {\"0\": 31, \"53\": 1, \"85\": 1, \"8\": 1, \"4\": 7, \"55\": 1, \"37\": 1, \"101\": 3, \"29\": 1, \"105\": 2, \"124\": 3, \"110\": 2, \"107\": 4, \"108\": 2, \"24\": 3, \"40\": 1, \"127\": 1, \"12\": 3, \"93\": 4, \"70\": 2, \"103\": 1, \"5\": 2, \"9\": 2, \"91\": 1, \"83\": 1, \"21\": 1, \"30\": 1, \"10\": 1}, \"104\": {\"28\": 1, \"43\": 1, \"104\": 12, \"99\": 1, \"8\": 1}, \"118\": {\"118\": 42, \"21\": 2, \"33\": 3, \"2\": 2, \"95\": 3, \"109\": 2, \"70\": 2, \"129\": 1, \"62\": 2, \"102\": 5, \"26\": 5, \"69\": 6, \"39\": 2, \"16\": 1, \"117\": 5, \"90\": 1}, \"41\": {\"41\": 15, \"17\": 1}, \"91\": {\"53\": 1, \"111\": 2, \"91\": 7, \"92\": 3, \"107\": 4, \"89\": 1, \"98\": 1, \"15\": 1, \"29\": 2, \"52\": 1, \"12\": 1, \"24\": 1, \"30\": 2, \"93\": 1}, \"124\": {\"124\": 88, \"9\": 3, \"108\": 4, \"107\": 3, \"4\": 1, \"29\": 1, \"10\": 4, \"40\": 8, \"24\": 1, \"88\": 3, \"70\": 1, \"42\": 1, \"110\": 1, \"105\": 1, \"93\": 1, \"101\": 1}, \"81\": {\"81\": 26, \"114\": 2}, \"63\": {\"63\": 15, \"57\": 1}, \"76\": {\"76\": 16}, \"10\": {\"17\": 1, \"51\": 1, \"24\": 7, \"105\": 5, \"107\": 12, \"8\": 4, \"97\": 1, \"0\": 4, \"10\": 24, \"124\": 6, \"93\": 6, \"110\": 5, \"40\": 6, \"101\": 4, \"108\": 1, \"84\": 1, \"98\": 1, \"70\": 4, \"114\": 2, \"106\": 3, \"53\": 2, \"49\": 2, \"22\": 1, \"86\": 1, \"9\": 3, \"55\": 1, \"75\": 1, \"29\": 1, \"72\": 1, \"85\": 2, \"59\": 1, \"43\": 1, \"4\": 3, \"16\": 1, \"15\": 1}, \"51\": {\"51\": 12, \"27\": 2, \"32\": 1, \"121\": 1}, \"82\": {\"33\": 6, \"50\": 2, \"82\": 19, \"22\": 2, \"62\": 1, \"14\": 1, \"2\": 1, \"1\": 1, \"42\": 2, \"102\": 1}, \"56\": {\"56\": 12}, \"30\": {\"110\": 2, \"56\": 1, \"30\": 12, \"93\": 2, \"27\": 3, \"34\": 1, \"127\": 2, \"24\": 2, \"15\": 1, \"6\": 3, \"4\": 2, \"98\": 1, \"10\": 2, \"105\": 1, \"0\": 1, \"101\": 1, \"97\": 1, \"52\": 2, \"125\": 2, \"88\": 2, \"85\": 1, \"94\": 2, \"107\": 2, \"71\": 1, \"12\": 1, \"36\": 1}, \"21\": {\"96\": 1, \"65\": 1, \"48\": 1, \"29\": 2, \"118\": 1, \"109\": 2, \"21\": 7, \"70\": 1, \"113\": 5, \"108\": 1, \"39\": 4, \"121\": 1, \"40\": 1, \"110\": 1, \"87\": 2, \"11\": 1, \"90\": 3, \"122\": 1, \"18\": 1, \"107\": 1, \"78\": 1, \"105\": 1}, \"46\": {\"46\": 7, \"110\": 1, \"6\": 1, \"38\": 1, \"92\": 1, \"0\": 1}, \"33\": {\"82\": 2, \"33\": 109, \"62\": 9, \"2\": 1, \"128\": 1, \"102\": 5, \"1\": 3, \"126\": 3, \"28\": 2, \"122\": 1, \"44\": 1, \"7\": 1}, \"101\": {\"101\": 90, \"9\": 2, \"55\": 1, \"41\": 1, \"0\": 2, \"3\": 2, \"12\": 1, \"5\": 3, \"107\": 5, \"105\": 2, \"108\": 3, \"16\": 1, \"40\": 2, \"86\": 2, \"10\": 2, \"93\": 2, \"1\": 1, \"117\": 1, \"36\": 1}, \"105\": {\"105\": 49, \"101\": 2, \"35\": 1, \"86\": 1, \"107\": 2, \"85\": 1, \"36\": 1, \"40\": 11, \"108\": 4, \"8\": 5, \"4\": 2, \"114\": 2, \"5\": 2, \"93\": 1}, \"50\": {\"50\": 6, \"28\": 1, \"1\": 2, \"102\": 3, \"45\": 1, \"44\": 1, \"113\": 1, \"33\": 1}, \"116\": {\"46\": 1, \"50\": 1, \"97\": 2, \"10\": 1, \"21\": 2, \"62\": 1, \"20\": 1, \"118\": 5, \"124\": 3, \"34\": 1, \"122\": 1, \"116\": 3, \"106\": 1, \"103\": 1, \"60\": 1, \"12\": 1, \"110\": 3, \"27\": 1, \"6\": 1, \"98\": 1}, \"77\": {\"77\": 11, \"6\": 2, \"68\": 2, \"71\": 1}, \"75\": {\"75\": 11, \"4\": 2, \"85\": 2, \"0\": 1}, \"95\": {\"95\": 33, \"118\": 2, \"26\": 1}, \"120\": {\"120\": 20}, \"18\": {\"18\": 87, \"39\": 4, \"113\": 7, \"109\": 5, \"111\": 1, \"21\": 2, \"117\": 1, \"90\": 1}, \"14\": {\"1\": 13, \"14\": 57, \"84\": 8, \"44\": 5, \"59\": 1, \"122\": 2, \"102\": 1, \"11\": 1, \"43\": 2, \"74\": 2, \"87\": 1, \"8\": 1, \"33\": 1, \"69\": 1}, \"44\": {\"62\": 1, \"44\": 37, \"43\": 5, \"126\": 7, \"122\": 4, \"70\": 1, \"7\": 2, \"14\": 2, \"1\": 4, \"102\": 6, \"73\": 1, \"96\": 1, \"84\": 1, \"93\": 1, \"87\": 3}, \"98\": {\"98\": 50, \"71\": 9, \"127\": 3, \"49\": 2, \"111\": 2, \"30\": 1, \"94\": 4, \"36\": 1, \"27\": 3, \"106\": 8, \"24\": 2, \"12\": 1, \"88\": 3, \"15\": 4, \"110\": 2, \"125\": 1}, \"121\": {\"121\": 19, \"113\": 1, \"90\": 7, \"13\": 1, \"42\": 1, \"123\": 3}, \"113\": {\"113\": 106, \"2\": 2}, \"103\": {\"98\": 1, \"103\": 8, \"111\": 1, \"17\": 2, \"38\": 1, \"58\": 2, \"52\": 1}, \"62\": {\"62\": 71, \"102\": 10, \"69\": 3, \"82\": 4, \"14\": 3, \"33\": 9, \"39\": 2, \"44\": 2, \"43\": 1, \"3\": 2, \"16\": 1, \"126\": 2, \"129\": 1, \"60\": 1, \"115\": 1, \"116\": 1, \"18\": 2, \"122\": 1, \"87\": 2, \"109\": 1}, \"32\": {\"32\": 27, \"36\": 2, \"71\": 1, \"92\": 2}, \"71\": {\"12\": 5, \"111\": 7, \"88\": 12, \"127\": 7, \"91\": 1, \"37\": 4, \"110\": 5, \"15\": 4, \"32\": 1, \"71\": 32, \"30\": 5, \"94\": 6, \"27\": 1, \"98\": 5, \"16\": 1, \"18\": 1, \"106\": 4, \"92\": 1, \"118\": 1, \"51\": 1, \"6\": 1, \"97\": 1, \"10\": 2}, \"94\": {\"111\": 2, \"32\": 1, \"94\": 37, \"77\": 1, \"92\": 2, \"40\": 1, \"110\": 3, \"125\": 7, \"24\": 2, \"71\": 2, \"12\": 1, \"106\": 2, \"127\": 1, \"98\": 2, \"88\": 7, \"36\": 5, \"16\": 1, \"51\": 2, \"23\": 1, \"112\": 1, \"27\": 3, \"85\": 1, \"30\": 2, \"6\": 2, \"18\": 1, \"93\": 1, \"113\": 1}, \"49\": {\"40\": 1, \"12\": 1, \"5\": 2, \"10\": 1, \"70\": 1, \"49\": 5, \"42\": 1, \"43\": 1, \"47\": 1, \"111\": 1, \"6\": 2, \"98\": 1, \"9\": 1, \"93\": 1}, \"12\": {\"12\": 55, \"71\": 2, \"83\": 1, \"106\": 8, \"88\": 2, \"127\": 7, \"27\": 2, \"10\": 1, \"24\": 5, \"0\": 1, \"109\": 1, \"110\": 4, \"98\": 4, \"107\": 2, \"101\": 1, \"91\": 1, \"53\": 2, \"90\": 1, \"93\": 1, \"111\": 1, \"40\": 1, \"18\": 1}, \"90\": {\"90\": 116, \"42\": 1, \"109\": 4, \"3\": 3}, \"93\": {\"93\": 17, \"40\": 7, \"74\": 1, \"88\": 5, \"105\": 1, \"10\": 5, \"35\": 1, \"87\": 2, \"49\": 2, \"128\": 1, \"91\": 1, \"42\": 2, \"122\": 2, \"7\": 1, \"43\": 5, \"1\": 3, \"14\": 3, \"107\": 9, \"70\": 3, \"84\": 3, \"24\": 7, \"114\": 6, \"12\": 1, \"108\": 4, \"101\": 5, \"124\": 5, \"71\": 2, \"11\": 2, \"110\": 2, \"106\": 2, \"8\": 3, \"47\": 1, \"28\": 1, \"62\": 1, \"82\": 1, \"127\": 4, \"85\": 1, \"15\": 1, \"126\": 1}, \"13\": {\"13\": 11, \"102\": 1, \"117\": 2, \"50\": 1, \"118\": 1}, \"67\": {\"94\": 1, \"67\": 13, \"70\": 1, \"26\": 1}, \"20\": {\"20\": 11, \"43\": 1, \"126\": 1, \"109\": 1, \"57\": 1, \"65\": 1}, \"2\": {\"104\": 1, \"2\": 15, \"42\": 1, \"67\": 1, \"25\": 1, \"122\": 1, \"113\": 3, \"44\": 1, \"1\": 3, \"129\": 1, \"100\": 1, \"23\": 1, \"66\": 1, \"62\": 1}, \"5\": {\"5\": 72, \"72\": 4, \"15\": 1, \"101\": 1, \"114\": 3, \"36\": 1, \"21\": 1, \"31\": 1, \"77\": 1, \"0\": 1, \"4\": 1, \"8\": 1}, \"54\": {\"54\": 14, \"67\": 1, \"127\": 1}, \"37\": {\"37\": 15, \"111\": 1}, \"38\": {\"38\": 15, \"67\": 1}, \"86\": {\"40\": 1, \"5\": 2, \"70\": 3, \"35\": 2, \"4\": 4, \"86\": 11, \"114\": 2, \"108\": 2, \"105\": 1, \"47\": 1, \"101\": 2, \"109\": 1, \"2\": 1, \"9\": 1, \"85\": 1, \"27\": 1}, \"55\": {\"55\": 10, \"41\": 1, \"4\": 1}, \"97\": {\"89\": 3, \"97\": 4, \"122\": 1, \"24\": 1, \"27\": 1, \"29\": 1, \"9\": 1, \"76\": 1, \"0\": 1, \"125\": 1, \"30\": 1, \"42\": 1, \"86\": 1, \"40\": 1, \"110\": 1}, \"29\": {\"97\": 1, \"29\": 27}, \"48\": {\"63\": 1, \"48\": 8, \"126\": 2, \"19\": 1}, \"60\": {\"60\": 2, \"84\": 1, \"76\": 1, \"18\": 1, \"3\": 1, \"119\": 1, \"109\": 2, \"45\": 1, \"117\": 1, \"116\": 1, \"22\": 2, \"118\": 1, \"62\": 1}, \"36\": {\"27\": 5, \"36\": 72, \"32\": 1, \"111\": 6, \"15\": 2, \"94\": 4, \"88\": 4, \"125\": 12, \"127\": 1, \"90\": 1, \"98\": 3, \"106\": 5, \"6\": 1, \"59\": 1, \"92\": 1, \"30\": 1, \"71\": 1, \"113\": 1}, \"42\": {\"9\": 1, \"66\": 1, \"97\": 2, \"49\": 3, \"88\": 1, \"118\": 1, \"42\": 2, \"109\": 2, \"39\": 1, \"107\": 2, \"111\": 1, \"96\": 1, \"29\": 2, \"11\": 1, \"18\": 2, \"76\": 2, \"124\": 1, \"16\": 1, \"127\": 1}, \"66\": {\"66\": 11, \"42\": 1, \"90\": 2, \"3\": 2}, \"126\": {\"84\": 10, \"14\": 2, \"126\": 46, \"99\": 2, \"62\": 3, \"87\": 1, \"70\": 2, \"90\": 2, \"7\": 4, \"43\": 11, \"71\": 1, \"1\": 13, \"3\": 3, \"33\": 5, \"114\": 1, \"40\": 1, \"44\": 9, \"18\": 1, \"11\": 2, \"117\": 2, \"42\": 1, \"19\": 1, \"69\": 3, \"102\": 1, \"109\": 1}, \"39\": {\"13\": 1, \"39\": 48, \"90\": 4, \"117\": 10, \"113\": 7, \"118\": 6, \"69\": 4, \"18\": 8, \"126\": 1, \"102\": 1, \"109\": 1, \"3\": 5, \"21\": 1, \"16\": 4, \"2\": 1, \"128\": 1, \"26\": 1}, \"107\": {\"107\": 83, \"40\": 7, \"85\": 2, \"101\": 6, \"124\": 3, \"93\": 6, \"39\": 1, \"10\": 1, \"70\": 3, \"110\": 1, \"24\": 3, \"105\": 2, \"4\": 1, \"8\": 5}, \"59\": {\"71\": 2, \"59\": 6, \"32\": 2, \"118\": 1, \"129\": 1}, \"117\": {\"117\": 128, \"16\": 10}, \"6\": {\"127\": 2, \"88\": 6, \"27\": 1, \"12\": 1, \"106\": 3, \"6\": 6, \"36\": 2, \"110\": 1, \"111\": 1, \"30\": 1, \"32\": 3, \"47\": 1, \"68\": 1, \"97\": 1, \"125\": 1, \"94\": 1}, \"123\": {\"123\": 13, \"117\": 1, \"3\": 1, \"118\": 1}, \"8\": {\"80\": 1, \"14\": 1, \"8\": 47, \"105\": 7, \"83\": 1, \"120\": 1, \"78\": 2, \"129\": 2, \"39\": 1, \"86\": 1, \"84\": 3, \"3\": 3, \"100\": 2, \"5\": 5, \"122\": 2, \"107\": 2, \"87\": 2, \"10\": 1, \"108\": 5, \"11\": 2, \"40\": 4, \"70\": 5, \"1\": 1, \"114\": 7, \"7\": 3, \"101\": 4, \"124\": 2, \"110\": 1, \"30\": 1, \"88\": 1, \"24\": 1, \"43\": 1, \"93\": 2}, \"112\": {\"112\": 11, \"98\": 1, \"36\": 1, \"27\": 2, \"68\": 1}, \"80\": {\"80\": 9, \"81\": 1, \"120\": 2, \"96\": 1, \"87\": 1, \"122\": 1, \"49\": 1}, \"125\": {\"125\": 126, \"36\": 8, \"94\": 2}, \"61\": {\"61\": 8, \"64\": 1, \"3\": 2, \"109\": 1}, \"45\": {\"45\": 1, \"67\": 1, \"2\": 1, \"25\": 1, \"3\": 2, \"7\": 1, \"14\": 2, \"74\": 1, \"64\": 2}, \"72\": {\"105\": 3, \"72\": 19, \"55\": 2, \"114\": 2, \"101\": 1, \"87\": 1, \"4\": 1, \"41\": 1, \"108\": 2}, \"87\": {\"43\": 6, \"84\": 3, \"114\": 7, \"122\": 2, \"78\": 1, \"99\": 1, \"87\": 18, \"85\": 2, \"70\": 7, \"102\": 2, \"4\": 2, \"69\": 1, \"126\": 1, \"108\": 3, \"105\": 4, \"8\": 6, \"62\": 1, \"14\": 1, \"93\": 3, \"1\": 3, \"33\": 2, \"44\": 4, \"7\": 3, \"5\": 3, \"72\": 3, \"3\": 1, \"41\": 1, \"9\": 1, \"104\": 1, \"129\": 2, \"21\": 2, \"42\": 2, \"48\": 1, \"16\": 1, \"128\": 1, \"71\": 1, \"40\": 1, \"101\": 2, \"88\": 2}, \"106\": {\"106\": 55, \"127\": 6, \"15\": 6, \"42\": 1, \"111\": 10, \"6\": 1, \"71\": 6, \"24\": 3, \"110\": 10, \"12\": 8, \"98\": 6, \"88\": 1, \"91\": 1, \"9\": 1, \"105\": 1, \"30\": 3, \"27\": 2, \"94\": 2, \"113\": 1}, \"35\": {\"87\": 1, \"27\": 1, \"31\": 1, \"51\": 1, \"41\": 2, \"35\": 3, \"32\": 1, \"110\": 1, \"5\": 1}, \"78\": {\"78\": 6, \"113\": 1, \"19\": 1, \"97\": 1, \"70\": 1, \"64\": 1, \"83\": 1, \"29\": 1, \"62\": 1, \"90\": 1, \"126\": 1}, \"15\": {\"15\": 36, \"92\": 1, \"36\": 7, \"32\": 2, \"71\": 6, \"34\": 1, \"127\": 1, \"6\": 1, \"98\": 3, \"94\": 6, \"18\": 2, \"88\": 5, \"106\": 7, \"27\": 3, \"24\": 1, \"110\": 3, \"125\": 3, \"107\": 2, \"12\": 3, \"10\": 1, \"111\": 4, \"30\": 3, \"21\": 1, \"105\": 1, \"93\": 1}, \"100\": {\"100\": 12, \"11\": 1, \"84\": 1, \"116\": 1, \"129\": 1}}, \"W_2\": {\"91\": {\"101\": 1, \"91\": 12, \"30\": 2, \"27\": 1, \"17\": 1, \"32\": 1, \"25\": 1, \"94\": 1, \"111\": 1, \"127\": 1, \"98\": 1, \"124\": 1, \"99\": 1, \"12\": 1, \"79\": 2}, \"12\": {\"101\": 4, \"17\": 1, \"35\": 2, \"97\": 4, \"12\": 26, \"29\": 1, \"111\": 3, \"117\": 1, \"59\": 1, \"41\": 1, \"0\": 6, \"114\": 4, \"10\": 1, \"16\": 1, \"127\": 4, \"94\": 1, \"7\": 3, \"124\": 5, \"106\": 1, \"90\": 1, \"98\": 4, \"78\": 1, \"52\": 2, \"91\": 3, \"121\": 1, \"30\": 2, \"40\": 1, \"126\": 1, \"108\": 2}, \"101\": {\"101\": 98, \"77\": 2, \"36\": 3, \"30\": 9, \"111\": 23, \"127\": 2, \"98\": 1, \"103\": 3, \"12\": 1, \"59\": 1, \"125\": 2, \"91\": 1, \"117\": 1, \"124\": 1}, \"121\": {\"88\": 4, \"120\": 1, \"89\": 3, \"47\": 2, \"72\": 1, \"65\": 2, \"121\": 9, \"109\": 1, \"122\": 1, \"118\": 1, \"82\": 2, \"22\": 1, \"90\": 2, \"14\": 1, \"60\": 1, \"24\": 2, \"116\": 1, \"87\": 1}, \"118\": {\"33\": 4, \"11\": 1, \"118\": 14, \"14\": 5, \"116\": 1, \"62\": 2, \"84\": 2, \"102\": 2, \"20\": 1, \"23\": 3, \"22\": 2, \"43\": 2, \"70\": 2, \"88\": 1, \"3\": 4, \"18\": 1, \"40\": 1, \"1\": 3, \"16\": 1, \"122\": 1, \"55\": 1, \"126\": 1, \"78\": 1, \"80\": 1, \"19\": 1, \"107\": 1, \"87\": 2, \"110\": 1, \"44\": 2, \"93\": 1, \"69\": 3}, \"10\": {\"126\": 2, \"110\": 4, \"10\": 14, \"112\": 2, \"54\": 1, \"121\": 1, \"3\": 4, \"114\": 1, \"105\": 6, \"1\": 2, \"40\": 2, \"11\": 1, \"70\": 1, \"69\": 1, \"109\": 1, \"63\": 1, \"103\": 1, \"64\": 1, \"61\": 1, \"28\": 1, \"90\": 1, \"24\": 1, \"5\": 1, \"26\": 2, \"32\": 1, \"107\": 3, \"78\": 1, \"111\": 1, \"44\": 1}, \"117\": {\"117\": 102, \"2\": 2, \"81\": 2, \"18\": 3, \"90\": 2, \"39\": 2, \"109\": 2, \"121\": 1, \"73\": 1, \"26\": 2, \"44\": 1}, \"110\": {\"110\": 16, \"129\": 2, \"47\": 1, \"108\": 1, \"100\": 2, \"5\": 2, \"78\": 2, \"109\": 1, \"90\": 1, \"3\": 1, \"73\": 1, \"115\": 3, \"70\": 1, \"16\": 1, \"65\": 1, \"95\": 1, \"71\": 1, \"122\": 2}, \"97\": {\"101\": 2, \"97\": 9, \"54\": 2, \"74\": 1, \"34\": 1, \"111\": 1, \"58\": 1, \"127\": 1, \"25\": 1, \"94\": 1}, \"28\": {\"28\": 20}, \"88\": {\"88\": 54, \"33\": 2, \"44\": 3, \"109\": 8, \"39\": 6, \"84\": 2, \"70\": 3, \"18\": 5, \"43\": 4, \"113\": 4, \"16\": 3, \"90\": 6, \"117\": 1, \"105\": 1, \"87\": 3, \"93\": 8, \"26\": 3, \"69\": 2, \"42\": 1, \"119\": 1, \"62\": 2, \"126\": 2}, \"17\": {\"17\": 7, \"91\": 2, \"56\": 2, \"77\": 1, \"111\": 1, \"12\": 1, \"29\": 2}, \"126\": {\"118\": 1, \"10\": 1, \"23\": 1, \"126\": 34, \"63\": 1, \"90\": 6, \"44\": 7, \"65\": 1, \"84\": 4, \"70\": 4, \"83\": 2, \"100\": 2, \"78\": 1, \"43\": 3, \"16\": 5, \"5\": 4, \"33\": 7, \"93\": 5, \"39\": 4, \"71\": 1, \"87\": 5, \"117\": 1, \"1\": 1, \"102\": 6, \"62\": 2, \"46\": 1, \"122\": 2, \"14\": 1, \"11\": 1}, \"33\": {\"33\": 83, \"53\": 1, \"78\": 2, \"102\": 8, \"62\": 14, \"46\": 2, \"70\": 1, \"87\": 2, \"84\": 6, \"43\": 2, \"93\": 1, \"124\": 1, \"1\": 3, \"90\": 1, \"88\": 1}, \"86\": {\"17\": 1, \"86\": 27, \"74\": 1, \"24\": 2, \"124\": 1}, \"106\": {\"106\": 80, \"15\": 10, \"90\": 3, \"125\": 10, \"24\": 2, \"94\": 2, \"36\": 7, \"88\": 1, \"51\": 1, \"39\": 1, \"101\": 1, \"70\": 1, \"93\": 1}, \"54\": {\"54\": 17, \"111\": 1, \"91\": 1, \"103\": 1}, \"125\": {\"106\": 2, \"125\": 126, \"15\": 1, \"58\": 2, \"117\": 1}, \"83\": {\"83\": 27, \"109\": 1, \"14\": 1, \"87\": 2, \"78\": 1, \"93\": 2, \"16\": 3, \"119\": 1, \"96\": 1, \"88\": 1}, \"98\": {\"98\": 60, \"52\": 2, \"34\": 2, \"30\": 4, \"104\": 1, \"0\": 3, \"79\": 1, \"71\": 2, \"111\": 8, \"127\": 5, \"16\": 1, \"106\": 1, \"124\": 8, \"113\": 2, \"101\": 6, \"12\": 2, \"108\": 3, \"24\": 4, \"39\": 1, \"77\": 1, \"90\": 1, \"91\": 1, \"15\": 1}, \"11\": {\"97\": 1, \"32\": 1, \"53\": 1, \"35\": 1, \"11\": 11, \"7\": 4, \"20\": 2, \"40\": 3, \"101\": 1, \"103\": 1, \"70\": 1, \"3\": 3, \"105\": 4, \"94\": 3, \"14\": 1, \"34\": 2, \"5\": 9, \"98\": 1, \"124\": 2, \"99\": 1, \"84\": 1, \"8\": 3, \"43\": 2, \"71\": 5, \"108\": 2, \"128\": 1, \"129\": 1, \"73\": 1, \"33\": 1, \"0\": 3, \"122\": 3, \"114\": 1, \"4\": 2, \"88\": 1}, \"32\": {\"11\": 1, \"98\": 2, \"3\": 4, \"32\": 5, \"12\": 2, \"97\": 1, \"68\": 1, \"119\": 1, \"128\": 1, \"91\": 4, \"95\": 1, \"78\": 1, \"86\": 2, \"19\": 1, \"105\": 2, \"29\": 1, \"14\": 2, \"73\": 1, \"122\": 2, \"115\": 1}, \"42\": {\"61\": 4, \"86\": 1, \"49\": 1, \"46\": 2, \"87\": 1, \"84\": 2, \"42\": 6, \"12\": 2, \"70\": 1, \"127\": 1, \"27\": 4, \"51\": 1, \"56\": 1, \"123\": 1}, \"103\": {\"54\": 1, \"103\": 10, \"24\": 2, \"104\": 1, \"58\": 1, \"86\": 1}, \"87\": {\"83\": 1, \"87\": 24, \"126\": 5, \"23\": 1, \"63\": 1, \"60\": 3, \"18\": 3, \"46\": 3, \"109\": 3, \"10\": 1, \"69\": 2, \"93\": 3, \"78\": 1, \"16\": 7, \"70\": 5, \"62\": 7, \"118\": 2, \"44\": 6, \"39\": 5, \"90\": 6, \"88\": 3, \"102\": 2, \"33\": 6, \"110\": 1, \"100\": 1, \"47\": 1, \"71\": 1, \"116\": 2, \"84\": 4, \"81\": 1, \"117\": 1}, \"61\": {\"61\": 15, \"120\": 1, \"39\": 1, \"21\": 1, \"84\": 2}, \"13\": {\"13\": 7, \"57\": 1, \"14\": 1, \"116\": 2, \"80\": 1, \"33\": 2, \"129\": 1, \"81\": 1}, \"4\": {\"4\": 58, \"30\": 1, \"122\": 3, \"114\": 2, \"93\": 1, \"11\": 1, \"117\": 1, \"108\": 3, \"127\": 1, \"7\": 7, \"8\": 2, \"40\": 2, \"73\": 1, \"85\": 1, \"24\": 1, \"88\": 1}, \"15\": {\"106\": 20, \"103\": 2, \"15\": 54, \"59\": 1, \"20\": 1, \"54\": 3, \"24\": 3, \"86\": 2, \"28\": 1, \"36\": 7, \"9\": 1, \"93\": 2, \"101\": 4, \"124\": 3, \"125\": 6, \"112\": 1, \"51\": 2, \"97\": 1, \"67\": 1, \"30\": 1, \"111\": 2, \"98\": 1, \"113\": 1}, \"120\": {\"120\": 20}, \"80\": {\"80\": 12, \"84\": 1, \"1\": 1, \"31\": 1, \"10\": 1}, \"72\": {\"102\": 1, \"81\": 1, \"45\": 2, \"72\": 15, \"62\": 1, \"38\": 2, \"13\": 2, \"121\": 1, \"33\": 1, \"31\": 2}, \"64\": {\"64\": 12, \"86\": 1, \"121\": 1, \"91\": 2}, \"81\": {\"81\": 15, \"20\": 2, \"18\": 3, \"63\": 1, \"88\": 1, \"87\": 2}, \"102\": {\"102\": 90, \"46\": 1, \"84\": 1, \"31\": 2, \"118\": 2, \"70\": 1, \"33\": 6, \"125\": 1, \"69\": 2, \"62\": 5, \"80\": 1}, \"76\": {\"76\": 14, \"35\": 1, \"4\": 1}, \"49\": {\"35\": 2, \"114\": 2, \"3\": 1, \"49\": 6, \"9\": 1, \"89\": 1, \"58\": 1, \"27\": 1, \"0\": 1, \"41\": 1, \"75\": 1, \"73\": 2, \"39\": 1, \"125\": 1, \"110\": 1, \"98\": 1}, \"129\": {\"53\": 1, \"129\": 12, \"19\": 3, \"115\": 1, \"84\": 2, \"1\": 3, \"3\": 2, \"14\": 1, \"107\": 1, \"11\": 2, \"40\": 1, \"78\": 1, \"105\": 1, \"95\": 1}, \"89\": {\"76\": 3, \"89\": 27, \"5\": 1, \"126\": 1, \"19\": 1, \"77\": 1, \"66\": 2}, \"52\": {\"98\": 2, \"97\": 2, \"36\": 1, \"52\": 12, \"111\": 1, \"28\": 1, \"127\": 1}, \"35\": {\"52\": 1, \"98\": 1, \"12\": 1, \"35\": 5, \"41\": 3, \"114\": 1}, \"53\": {\"53\": 15, \"110\": 1}, \"26\": {\"26\": 89, \"93\": 1, \"69\": 18, \"70\": 3, \"44\": 2, \"117\": 2, \"102\": 5, \"113\": 1, \"90\": 1, \"99\": 1, \"18\": 2, \"121\": 1, \"118\": 1, \"62\": 1}, \"96\": {\"69\": 1, \"96\": 10, \"119\": 1, \"63\": 1, \"116\": 3, \"65\": 1, \"23\": 1, \"26\": 1, \"18\": 1}, \"27\": {\"27\": 20, \"17\": 1, \"21\": 3, \"128\": 1, \"15\": 4, \"99\": 1, \"109\": 3, \"106\": 2, \"66\": 1, \"86\": 1, \"98\": 3, \"101\": 2, \"88\": 1, \"30\": 1, \"8\": 2, \"12\": 3, \"39\": 1, \"117\": 1, \"9\": 3, \"113\": 1, \"25\": 1, \"36\": 5, \"56\": 1, \"6\": 1, \"124\": 2, \"4\": 1, \"125\": 1, \"90\": 1}, \"24\": {\"27\": 9, \"24\": 10, \"88\": 2, \"8\": 3, \"104\": 1, \"25\": 2, \"106\": 6, \"15\": 13, \"109\": 3, \"101\": 1, \"114\": 1, \"127\": 1, \"94\": 6, \"9\": 2, \"36\": 6, \"122\": 1, \"108\": 2, \"117\": 2, \"124\": 1, \"111\": 3, \"39\": 1, \"70\": 1, \"93\": 3, \"125\": 2, \"105\": 1, \"62\": 2, \"30\": 2, \"73\": 1, \"80\": 1, \"102\": 1, \"6\": 1, \"51\": 1, \"54\": 1, \"10\": 1, \"5\": 1, \"14\": 2, \"71\": 1, \"82\": 1, \"91\": 2, \"110\": 2, \"98\": 3, \"121\": 1, \"84\": 1, \"40\": 1, \"11\": 1, \"90\": 1, \"87\": 1}, \"82\": {\"82\": 31, \"90\": 1, \"39\": 1, \"122\": 1, \"21\": 1, \"18\": 1}, \"18\": {\"18\": 89, \"117\": 7, \"32\": 1, \"118\": 1, \"109\": 3, \"43\": 1, \"96\": 2, \"39\": 2, \"83\": 2, \"16\": 5, \"126\": 1, \"88\": 1, \"90\": 5, \"113\": 1, \"14\": 1, \"26\": 2, \"2\": 1, \"87\": 1, \"93\": 1, \"44\": 1}, \"69\": {\"33\": 4, \"69\": 90, \"102\": 10, \"57\": 1, \"60\": 2, \"16\": 1, \"84\": 3, \"18\": 1, \"78\": 1, \"88\": 2, \"62\": 3, \"26\": 2, \"44\": 1, \"93\": 1}, \"47\": {\"129\": 4, \"114\": 1, \"47\": 4, \"22\": 2, \"112\": 1}, \"85\": {\"85\": 17, \"24\": 4, \"41\": 2, \"30\": 1, \"12\": 1, \"59\": 2, \"52\": 1, \"98\": 1, \"92\": 1, \"29\": 2}, \"2\": {\"39\": 2, \"2\": 17, \"65\": 1, \"82\": 1, \"21\": 1, \"90\": 2, \"70\": 1, \"88\": 3, \"26\": 2, \"93\": 1, \"81\": 1}, \"67\": {\"67\": 11, \"45\": 1, \"115\": 1, \"71\": 2, \"72\": 1}, \"39\": {\"99\": 4, \"61\": 1, \"39\": 34, \"118\": 2, \"126\": 4, \"18\": 3, \"121\": 1, \"70\": 3, \"109\": 3, \"117\": 5, \"16\": 9, \"90\": 8, \"93\": 7, \"84\": 1, \"88\": 4, \"69\": 1, \"62\": 1, \"33\": 1, \"87\": 5, \"65\": 1, \"113\": 3, \"78\": 1, \"23\": 1, \"20\": 1, \"44\": 3, \"21\": 1, \"83\": 2, \"26\": 1, \"102\": 1}, \"99\": {\"99\": 29, \"88\": 1, \"65\": 2}, \"74\": {\"47\": 1, \"74\": 10, \"7\": 1, \"0\": 1, \"106\": 1, \"75\": 2}, \"105\": {\"55\": 4, \"129\": 1, \"107\": 5, \"105\": 54, \"45\": 1, \"71\": 3, \"5\": 9, \"3\": 10, \"10\": 1, \"94\": 1, \"73\": 1, \"34\": 1, \"43\": 2, \"8\": 4, \"108\": 4, \"122\": 9, \"84\": 2, \"36\": 1, \"4\": 1, \"98\": 1, \"109\": 1, \"93\": 1, \"16\": 1, \"128\": 1, \"24\": 1, \"87\": 1, \"111\": 1, \"11\": 3, \"40\": 4, \"62\": 1, \"15\": 1, \"1\": 1}, \"70\": {\"70\": 11, \"129\": 1, \"98\": 1, \"10\": 3, \"102\": 2, \"78\": 3, \"23\": 2, \"126\": 6, \"39\": 5, \"22\": 1, \"110\": 2, \"118\": 2, \"122\": 3, \"99\": 2, \"113\": 2, \"3\": 15, \"105\": 6, \"88\": 7, \"90\": 3, \"14\": 1, \"16\": 2, \"40\": 2, \"62\": 3, \"1\": 6, \"109\": 2, \"93\": 8, \"43\": 3, \"5\": 2, \"117\": 2, \"11\": 2, \"69\": 2, \"19\": 1, \"45\": 1, \"84\": 2, \"33\": 2, \"94\": 1, \"44\": 1, \"108\": 1, \"30\": 1}, \"55\": {\"55\": 11, \"128\": 1, \"5\": 2, \"105\": 2}, \"30\": {\"47\": 1, \"91\": 3, \"30\": 20, \"56\": 1, \"97\": 1, \"34\": 3, \"8\": 4, \"98\": 12, \"75\": 1, \"7\": 9, \"104\": 2, \"54\": 1, \"101\": 12, \"36\": 2, \"94\": 2, \"0\": 3, \"122\": 1, \"15\": 1, \"4\": 2, \"111\": 6, \"24\": 1, \"114\": 4, \"90\": 1, \"93\": 1, \"108\": 8, \"12\": 1, \"58\": 1, \"128\": 1, \"127\": 5, \"88\": 1, \"124\": 1}, \"60\": {\"45\": 2, \"60\": 10, \"88\": 1, \"21\": 1, \"80\": 2, \"116\": 1, \"100\": 2, \"118\": 2, \"11\": 1, \"123\": 1, \"55\": 1, \"46\": 1, \"1\": 2, \"44\": 1}, \"92\": {\"92\": 15, \"97\": 1, \"51\": 1, \"76\": 2, \"24\": 1, \"48\": 1, \"119\": 1, \"28\": 1, \"29\": 1, \"104\": 1, \"85\": 2, \"74\": 1}, \"45\": {\"47\": 1, \"55\": 1, \"45\": 11, \"129\": 1, \"14\": 1, \"88\": 1}, \"127\": {\"114\": 5, \"127\": 68, \"27\": 1, \"0\": 3, \"98\": 5, \"124\": 3, \"30\": 2, \"111\": 2, \"101\": 4, \"4\": 1, \"7\": 5, \"8\": 1, \"108\": 1, \"126\": 1, \"35\": 2, \"79\": 3, \"77\": 2, \"34\": 1, \"24\": 1, \"122\": 1}, \"9\": {\"120\": 1, \"9\": 28, \"125\": 2, \"113\": 1}, \"115\": {\"55\": 1, \"108\": 1, \"122\": 2, \"115\": 7, \"71\": 1}, \"73\": {\"73\": 26, \"71\": 1, \"11\": 1}, \"108\": {\"114\": 7, \"108\": 34, \"71\": 4, \"68\": 1, \"15\": 2, \"8\": 10, \"49\": 1, \"77\": 1, \"54\": 1, \"110\": 1, \"109\": 1, \"1\": 2, \"124\": 4, \"78\": 1, \"95\": 1, \"105\": 5, \"122\": 4, \"7\": 9, \"4\": 5, \"107\": 3, \"0\": 5, \"24\": 1, \"98\": 2, \"3\": 7, \"127\": 4, \"125\": 1, \"62\": 1, \"5\": 3, \"33\": 4, \"50\": 1, \"14\": 1, \"32\": 1, \"79\": 1, \"91\": 1, \"115\": 1, \"12\": 2, \"106\": 1, \"36\": 1, \"70\": 1, \"111\": 1, \"40\": 1}, \"114\": {\"127\": 3, \"114\": 71, \"0\": 2, \"49\": 2, \"8\": 5, \"27\": 1, \"40\": 6, \"122\": 3, \"94\": 1, \"109\": 1, \"7\": 2, \"107\": 1, \"24\": 2, \"4\": 6, \"41\": 2, \"47\": 1, \"124\": 1, \"118\": 1, \"34\": 2, \"12\": 1, \"113\": 1, \"108\": 1}, \"63\": {\"93\": 2, \"63\": 15, \"39\": 2, \"127\": 1}, \"93\": {\"93\": 79, \"14\": 1, \"118\": 1, \"90\": 24, \"109\": 4, \"88\": 2, \"44\": 2, \"16\": 2, \"105\": 2, \"87\": 2, \"117\": 1, \"62\": 1, \"121\": 1, \"70\": 3, \"126\": 1, \"18\": 1, \"69\": 1}, \"7\": {\"7\": 87, \"95\": 2, \"114\": 9, \"40\": 2, \"12\": 1, \"91\": 1, \"127\": 3, \"108\": 6, \"122\": 2, \"107\": 1, \"124\": 1, \"0\": 2, \"24\": 1, \"5\": 3, \"105\": 1, \"49\": 1, \"19\": 1, \"23\": 1, \"4\": 2, \"79\": 1, \"71\": 2, \"34\": 1, \"11\": 1}, \"31\": {\"31\": 12, \"3\": 1, \"14\": 2, \"124\": 1, \"53\": 2, \"111\": 1, \"5\": 1}, \"123\": {\"123\": 11, \"44\": 3, \"38\": 1, \"83\": 1}, \"128\": {\"19\": 2, \"59\": 1, \"111\": 1, \"51\": 1, \"92\": 1, \"124\": 1, \"71\": 1, \"23\": 1, \"70\": 1, \"14\": 2, \"91\": 1, \"56\": 1, \"3\": 1, \"42\": 1, \"11\": 1, \"107\": 1, \"29\": 1, \"128\": 1, \"122\": 1, \"52\": 1, \"43\": 1, \"86\": 1}, \"0\": {\"7\": 6, \"114\": 4, \"0\": 43, \"10\": 2, \"127\": 7, \"12\": 11, \"87\": 2, \"94\": 1, \"11\": 2, \"30\": 6, \"107\": 1, \"93\": 1, \"4\": 6, \"122\": 4, \"124\": 1, \"117\": 1, \"24\": 3, \"108\": 3, \"98\": 2, \"106\": 1, \"41\": 1, \"34\": 2, \"8\": 2, \"101\": 1, \"39\": 2, \"70\": 1}, \"3\": {\"19\": 2, \"3\": 101, \"23\": 1, \"129\": 2, \"84\": 2, \"30\": 1, \"1\": 6, \"40\": 1, \"24\": 1, \"18\": 1, \"43\": 5, \"98\": 1, \"111\": 1, \"110\": 1, \"11\": 1, \"5\": 1, \"122\": 1, \"108\": 1, \"12\": 1, \"39\": 1, \"33\": 1, \"105\": 2, \"0\": 1}, \"19\": {\"128\": 1, \"19\": 6, \"67\": 1, \"125\": 1, \"50\": 3, \"110\": 2, \"73\": 3, \"114\": 2, \"40\": 1, \"46\": 1, \"118\": 1, \"47\": 1, \"122\": 1, \"80\": 1, \"6\": 1, \"42\": 2}, \"57\": {\"57\": 17, \"31\": 2, \"84\": 1}, \"78\": {\"14\": 1, \"128\": 1, \"89\": 1, \"39\": 2, \"43\": 1, \"12\": 2, \"83\": 1, \"126\": 2, \"71\": 4, \"70\": 1, \"73\": 1, \"11\": 1, \"18\": 1, \"5\": 1, \"78\": 4, \"93\": 2, \"23\": 2, \"107\": 2, \"123\": 1, \"92\": 1, \"8\": 1, \"16\": 1, \"82\": 1, \"90\": 3, \"26\": 1, \"112\": 1, \"44\": 2, \"122\": 1, \"116\": 1, \"109\": 2, \"34\": 1, \"87\": 1}, \"95\": {\"95\": 23, \"56\": 1, \"51\": 1, \"127\": 4, \"79\": 1, \"88\": 1, \"124\": 2, \"4\": 1, \"114\": 2}, \"40\": {\"55\": 1, \"95\": 1, \"40\": 66, \"19\": 3, \"11\": 2, \"32\": 1, \"8\": 4, \"129\": 1, \"122\": 8, \"105\": 7, \"12\": 2, \"7\": 2, \"94\": 1, \"114\": 4, \"127\": 2, \"71\": 5, \"30\": 2, \"4\": 5, \"93\": 2, \"90\": 3, \"5\": 4, \"108\": 3, \"29\": 1, \"96\": 1, \"107\": 2, \"110\": 1, \"120\": 1, \"106\": 1, \"39\": 1, \"117\": 1, \"98\": 1, \"33\": 1}, \"14\": {\"14\": 22, \"78\": 1, \"62\": 4, \"65\": 1, \"118\": 4, \"1\": 2, \"110\": 3, \"126\": 1, \"113\": 1, \"129\": 1, \"107\": 2, \"81\": 1, \"88\": 1, \"33\": 3, \"3\": 1}, \"36\": {\"54\": 1, \"36\": 46, \"59\": 2, \"97\": 1, \"58\": 1, \"125\": 12, \"86\": 2, \"94\": 2, \"9\": 2, \"91\": 1, \"6\": 2, \"21\": 1, \"106\": 7, \"15\": 9, \"101\": 7, \"88\": 2, \"98\": 3, \"111\": 8, \"93\": 1, \"117\": 1, \"124\": 3, \"75\": 2, \"20\": 1, \"27\": 4, \"24\": 1, \"29\": 1, \"44\": 1, \"18\": 1, \"12\": 2, \"109\": 1}, \"56\": {\"56\": 11, \"59\": 1}, \"111\": {\"111\": 98, \"59\": 2, \"101\": 10, \"98\": 2, \"124\": 4, \"93\": 1, \"12\": 2, \"30\": 4, \"71\": 1, \"127\": 1, \"97\": 1, \"75\": 1, \"95\": 1}, \"59\": {\"111\": 1, \"59\": 10, \"126\": 1, \"52\": 1, \"86\": 1, \"17\": 1, \"118\": 1}, \"79\": {\"79\": 13, \"27\": 1, \"127\": 1, \"98\": 1}, \"62\": {\"62\": 60, \"84\": 7, \"77\": 1, \"33\": 14, \"126\": 4, \"31\": 1, \"43\": 5, \"87\": 3, \"18\": 1, \"40\": 2, \"102\": 9, \"118\": 1, \"1\": 5, \"44\": 1, \"69\": 1, \"71\": 1, \"88\": 1, \"39\": 1, \"109\": 1, \"70\": 3}, \"21\": {\"21\": 42, \"113\": 2, \"44\": 1, \"88\": 2, \"39\": 1}, \"48\": {\"48\": 18, \"116\": 2}, \"16\": {\"72\": 1, \"16\": 60, \"109\": 4, \"57\": 1, \"65\": 1, \"88\": 6, \"70\": 2, \"118\": 2, \"83\": 2, \"18\": 6, \"39\": 3, \"44\": 4, \"126\": 9, \"87\": 5, \"93\": 6, \"90\": 2, \"102\": 1, \"62\": 1, \"100\": 1, \"81\": 3, \"69\": 2, \"42\": 1, \"113\": 1}, \"50\": {\"50\": 11, \"73\": 1, \"122\": 2, \"109\": 1, \"45\": 1}, \"44\": {\"44\": 78, \"126\": 5, \"43\": 3, \"87\": 3, \"18\": 1, \"90\": 1, \"70\": 2, \"83\": 1, \"16\": 1, \"33\": 1}, \"5\": {\"5\": 80, \"1\": 1, \"108\": 3, \"122\": 4, \"23\": 1, \"40\": 2, \"105\": 4, \"4\": 3, \"71\": 3, \"8\": 3, \"93\": 2, \"11\": 2, \"115\": 1, \"114\": 1}, \"20\": {\"20\": 13, \"23\": 2, \"106\": 1}, \"1\": {\"60\": 2, \"1\": 66, \"19\": 1, \"40\": 4, \"80\": 2, \"65\": 1, \"14\": 3, \"33\": 4, \"122\": 2, \"110\": 1, \"10\": 1, \"102\": 2, \"84\": 3, \"3\": 2, \"118\": 1, \"70\": 3, \"43\": 9, \"12\": 1, \"62\": 7, \"32\": 1, \"111\": 1, \"5\": 1, \"0\": 1, \"30\": 1}, \"65\": {\"81\": 2, \"65\": 16, \"45\": 1, \"120\": 1}, \"116\": {\"88\": 2, \"72\": 2, \"116\": 9, \"110\": 4, \"100\": 1, \"129\": 1, \"96\": 2, \"48\": 1, \"18\": 1, \"57\": 1, \"33\": 1, \"105\": 1, \"82\": 1, \"31\": 1}, \"51\": {\"51\": 5, \"59\": 1, \"36\": 2, \"97\": 1, \"54\": 1, \"6\": 3, \"125\": 2, \"128\": 1, \"91\": 1, \"20\": 1, \"111\": 1, \"106\": 1}, \"75\": {\"75\": 12, \"56\": 1, \"24\": 1, \"88\": 1, \"97\": 1}, \"100\": {\"100\": 15, \"63\": 1}, \"113\": {\"113\": 65, \"20\": 1, \"21\": 1, \"117\": 2, \"99\": 1, \"39\": 2}, \"41\": {\"41\": 14, \"56\": 1, \"7\": 1, \"49\": 1, \"127\": 1, \"68\": 1, \"114\": 1}, \"29\": {\"41\": 1, \"7\": 2, \"108\": 3, \"29\": 25, \"15\": 1}, \"23\": {\"41\": 1, \"114\": 5, \"23\": 5, \"107\": 1, \"7\": 2, \"90\": 2, \"121\": 1, \"105\": 1, \"88\": 1, \"8\": 2, \"127\": 2, \"0\": 2, \"39\": 1, \"122\": 3, \"18\": 4, \"3\": 2, \"113\": 1, \"99\": 4, \"115\": 1, \"5\": 1, \"120\": 1, \"110\": 1}, \"124\": {\"124\": 93, \"36\": 1, \"12\": 5, \"127\": 4, \"1\": 1, \"114\": 1, \"111\": 4, \"30\": 2, \"98\": 7, \"24\": 1, \"88\": 1, \"101\": 1, \"108\": 2, \"18\": 1}, \"68\": {\"68\": 10, \"95\": 1, \"114\": 2, \"90\": 1, \"56\": 2}, \"71\": {\"71\": 59, \"128\": 1, \"88\": 1, \"115\": 1, \"114\": 1, \"108\": 2, \"5\": 5, \"23\": 2, \"105\": 3, \"11\": 3, \"107\": 2, \"3\": 1, \"125\": 2, \"122\": 2, \"4\": 3, \"49\": 2, \"8\": 3, \"40\": 2, \"10\": 1, \"24\": 1, \"110\": 1, \"70\": 1, \"98\": 1}, \"107\": {\"107\": 27, \"71\": 4, \"90\": 1, \"32\": 1, \"129\": 2, \"39\": 1, \"94\": 1, \"18\": 1, \"8\": 3, \"114\": 1, \"16\": 1, \"122\": 2, \"113\": 1, \"105\": 5, \"40\": 1, \"11\": 1, \"5\": 6, \"99\": 1, \"128\": 1, \"88\": 1, \"93\": 1, \"30\": 1}, \"94\": {\"94\": 21, \"124\": 4, \"54\": 1, \"68\": 1, \"125\": 3, \"58\": 1, \"109\": 1, \"91\": 1, \"36\": 4, \"127\": 3, \"101\": 2, \"114\": 1, \"15\": 2, \"98\": 4, \"111\": 2, \"106\": 2, \"73\": 1, \"52\": 1, \"118\": 1, \"79\": 1, \"24\": 2, \"12\": 2, \"88\": 2, \"7\": 1}, \"77\": {\"77\": 7, \"35\": 1, \"49\": 2, \"41\": 3, \"65\": 1, \"98\": 2}, \"8\": {\"35\": 1, \"115\": 1, \"8\": 39, \"74\": 1, \"24\": 1, \"29\": 1, \"5\": 10, \"12\": 2, \"30\": 2, \"33\": 1, \"122\": 5, \"73\": 3, \"91\": 1, \"108\": 8, \"114\": 6, \"107\": 1, \"94\": 1, \"124\": 1, \"98\": 1, \"71\": 2, \"36\": 1, \"105\": 4, \"127\": 3, \"3\": 3, \"43\": 2, \"4\": 4, \"103\": 2, \"75\": 1, \"78\": 1, \"85\": 1, \"19\": 1, \"54\": 1, \"10\": 1, \"110\": 1, \"62\": 1, \"11\": 1, \"40\": 1, \"111\": 2, \"1\": 1, \"0\": 2}, \"46\": {\"46\": 14, \"78\": 1, \"10\": 1}, \"25\": {\"25\": 12, \"24\": 1, \"109\": 1, \"99\": 1, \"15\": 1}, \"122\": {\"115\": 1, \"35\": 1, \"62\": 3, \"29\": 1, \"80\": 1, \"129\": 1, \"10\": 4, \"12\": 3, \"40\": 7, \"105\": 9, \"121\": 1, \"114\": 7, \"7\": 4, \"70\": 2, \"94\": 2, \"0\": 5, \"122\": 24, \"71\": 6, \"73\": 1, \"110\": 1, \"98\": 1, \"127\": 4, \"1\": 5, \"24\": 3, \"3\": 8, \"90\": 1, \"5\": 6, \"8\": 4, \"43\": 3, \"47\": 1, \"19\": 1, \"17\": 1, \"33\": 2, \"108\": 4, \"32\": 1, \"128\": 1, \"111\": 1, \"69\": 1, \"23\": 1, \"84\": 1, \"95\": 1, \"11\": 3, \"4\": 1, \"102\": 1}, \"58\": {\"97\": 3, \"66\": 2, \"58\": 9, \"36\": 2, \"65\": 1, \"87\": 1, \"113\": 1, \"54\": 1}, \"6\": {\"51\": 4, \"94\": 2, \"6\": 18, \"15\": 1, \"106\": 1, \"25\": 3, \"97\": 1, \"27\": 1, \"36\": 1}, \"109\": {\"109\": 27, \"117\": 2, \"38\": 1, \"87\": 8, \"44\": 2, \"93\": 7, \"16\": 5, \"88\": 11, \"62\": 1, \"39\": 5, \"126\": 7, \"90\": 4, \"113\": 5, \"123\": 1, \"61\": 1, \"65\": 1, \"60\": 1, \"99\": 1, \"26\": 1, \"81\": 2, \"83\": 1, \"21\": 2, \"70\": 2, \"18\": 1, \"84\": 1}, \"119\": {\"119\": 15, \"2\": 1, \"90\": 2, \"106\": 1, \"61\": 1}, \"34\": {\"30\": 1, \"34\": 6, \"98\": 3, \"8\": 1, \"0\": 2, \"121\": 1, \"79\": 2, \"127\": 3, \"71\": 2, \"91\": 2, \"12\": 2, \"41\": 1, \"120\": 1, \"40\": 1, \"74\": 1, \"124\": 1, \"78\": 1, \"110\": 1}, \"90\": {\"90\": 107, \"126\": 1, \"88\": 4, \"93\": 19, \"16\": 3, \"105\": 1, \"62\": 1, \"83\": 1, \"87\": 1, \"39\": 1, \"18\": 1}, \"38\": {\"44\": 1, \"38\": 10, \"62\": 1, \"43\": 1, \"123\": 2, \"61\": 1}, \"104\": {\"108\": 1, \"104\": 15, \"86\": 2, \"99\": 1, \"101\": 1}, \"84\": {\"84\": 53, \"65\": 1, \"62\": 3, \"46\": 1, \"102\": 5, \"1\": 8, \"70\": 5, \"43\": 3, \"69\": 1, \"90\": 1, \"122\": 2, \"33\": 4, \"87\": 3, \"118\": 1, \"126\": 1}, \"112\": {\"112\": 7, \"3\": 1, \"30\": 2, \"105\": 1, \"55\": 2, \"129\": 1, \"12\": 1, \"79\": 1}, \"66\": {\"66\": 14, \"49\": 1, \"114\": 1, \"120\": 2, \"7\": 1, \"15\": 1}, \"22\": {\"22\": 15, \"80\": 1, \"91\": 1, \"78\": 1, \"33\": 1, \"116\": 1}, \"37\": {\"37\": 15, \"89\": 1}, \"43\": {\"62\": 5, \"78\": 1, \"38\": 1, \"8\": 3, \"122\": 6, \"23\": 1, \"1\": 5, \"3\": 17, \"118\": 4, \"102\": 2, \"43\": 19, \"110\": 2, \"14\": 1, \"84\": 1, \"105\": 4, \"70\": 4, \"44\": 8, \"93\": 3, \"90\": 2, \"88\": 4, \"108\": 2, \"12\": 2, \"5\": 1, \"71\": 2, \"24\": 2, \"98\": 1, \"109\": 2, \"113\": 1, \"16\": 2, \"126\": 1, \"55\": 1, \"60\": 1, \"87\": 5, \"10\": 1, \"115\": 1, \"11\": 3, \"30\": 1, \"39\": 1, \"33\": 1}}, \"C_2\": {\"36\": {\"36\": 102, \"51\": 4, \"53\": 2, \"12\": 2, \"20\": 2, \"54\": 2, \"45\": 1, \"50\": 1}, \"5\": {\"5\": 116, \"43\": 1, \"28\": 1, \"39\": 1, \"22\": 1}, \"45\": {\"7\": 1, \"45\": 67, \"34\": 2, \"4\": 4, \"12\": 3, \"51\": 5, \"54\": 9, \"9\": 3, \"20\": 6, \"25\": 2, \"6\": 3, \"36\": 10, \"29\": 2, \"53\": 3, \"21\": 2, \"17\": 3, \"49\": 1, \"50\": 1, \"57\": 1}, \"49\": {\"49\": 21, \"43\": 1, \"3\": 1, \"30\": 1}, \"50\": {\"50\": 43, \"3\": 1, \"51\": 9, \"53\": 16, \"34\": 1, \"54\": 9, \"12\": 1, \"21\": 1, \"20\": 8, \"2\": 1, \"11\": 1, \"48\": 9, \"6\": 15, \"1\": 2, \"17\": 1, \"47\": 1, \"43\": 1, \"19\": 2, \"57\": 2, \"45\": 1, \"35\": 1, \"46\": 2, \"29\": 1, \"8\": 1, \"25\": 2, \"5\": 1, \"30\": 1, \"9\": 1, \"40\": 1}, \"4\": {\"4\": 115, \"9\": 19, \"21\": 1, \"3\": 1, \"6\": 1, \"23\": 1}, \"43\": {\"43\": 119, \"24\": 2, \"28\": 1, \"22\": 8, \"10\": 15, \"38\": 3}, \"41\": {\"41\": 19, \"52\": 1}, \"37\": {\"37\": 35, \"14\": 1}, \"12\": {\"12\": 67, \"8\": 7, \"50\": 2, \"26\": 1, \"54\": 2, \"27\": 3, \"53\": 2, \"45\": 2, \"20\": 5, \"32\": 1}, \"33\": {\"33\": 24, \"2\": 1, \"29\": 1, \"19\": 2}, \"7\": {\"7\": 25, \"15\": 6, \"47\": 1, \"16\": 2, \"2\": 1, \"1\": 1}, \"56\": {\"56\": 121, \"14\": 1, \"24\": 10, \"10\": 1, \"13\": 2, \"43\": 2, \"22\": 3}, \"14\": {\"56\": 6, \"14\": 10, \"24\": 1, \"10\": 1, \"37\": 2, \"13\": 2, \"55\": 2}, \"52\": {\"52\": 116, \"23\": 8}, \"44\": {\"44\": 93, \"5\": 2, \"35\": 1}, \"48\": {\"48\": 111, \"41\": 1, \"18\": 2, \"17\": 2, \"50\": 7, \"12\": 1, \"27\": 1, \"53\": 6, \"6\": 7, \"54\": 4, \"20\": 1, \"30\": 1}, \"20\": {\"20\": 73, \"17\": 10, \"12\": 7, \"53\": 9, \"48\": 3, \"50\": 2, \"54\": 8, \"51\": 8, \"8\": 3, \"44\": 1, \"27\": 1, \"26\": 1, \"36\": 1, \"6\": 1}, \"55\": {\"55\": 98, \"56\": 8, \"43\": 6, \"24\": 3, \"13\": 2, \"22\": 18, \"31\": 3, \"10\": 5, \"14\": 1}, \"32\": {\"32\": 23, \"17\": 1, \"45\": 2, \"53\": 2}, \"40\": {\"40\": 118, \"19\": 5, \"14\": 1, \"33\": 2, \"46\": 2, \"44\": 2, \"11\": 1, \"5\": 5}, \"54\": {\"36\": 5, \"20\": 3, \"53\": 12, \"54\": 77, \"50\": 3, \"51\": 3, \"8\": 2, \"26\": 2, \"6\": 1}, \"17\": {\"17\": 102, \"45\": 1, \"9\": 1}, \"38\": {\"38\": 18, \"22\": 1, \"43\": 1}, \"24\": {\"24\": 67, \"56\": 17, \"43\": 3, \"22\": 4, \"10\": 2, \"31\": 2, \"13\": 1}, \"1\": {\"1\": 94, \"21\": 5, \"0\": 2, \"57\": 1, \"23\": 1, \"3\": 2, \"29\": 1, \"15\": 1, \"47\": 1, \"43\": 1, \"7\": 1, \"16\": 2}, \"6\": {\"48\": 14, \"6\": 58, \"36\": 2, \"27\": 2, \"18\": 2, \"54\": 3, \"7\": 1, \"12\": 2, \"50\": 15, \"23\": 3, \"52\": 1, \"30\": 2, \"53\": 4, \"17\": 3, \"21\": 2, \"26\": 1, \"51\": 3, \"20\": 2, \"32\": 1, \"1\": 1, \"8\": 1, \"25\": 1}, \"34\": {\"34\": 28}, \"11\": {\"11\": 132, \"47\": 3, \"46\": 1}, \"9\": {\"9\": 140, \"3\": 1, \"50\": 1, \"4\": 5, \"52\": 1, \"1\": 1, \"23\": 1}, \"8\": {\"8\": 142, \"27\": 9, \"12\": 1}, \"22\": {\"56\": 7, \"22\": 100, \"38\": 1, \"10\": 11, \"31\": 2, \"24\": 7, \"43\": 6, \"13\": 1, \"37\": 1}, \"26\": {\"26\": 24}, \"23\": {\"23\": 136, \"52\": 10}, \"10\": {\"10\": 98, \"43\": 7, \"22\": 5, \"38\": 1, \"56\": 1}, \"18\": {\"18\": 45, \"30\": 2, \"52\": 1}, \"13\": {\"13\": 94, \"56\": 15, \"24\": 4, \"22\": 2, \"14\": 1}, \"30\": {\"30\": 112, \"48\": 3, \"18\": 4, \"52\": 3, \"3\": 1, \"50\": 2, \"6\": 2, \"49\": 1}, \"42\": {\"40\": 2, \"42\": 31, \"19\": 2, \"39\": 1}, \"31\": {\"31\": 28}, \"46\": {\"1\": 7, \"42\": 1, \"0\": 1, \"46\": 40, \"15\": 15, \"28\": 1, \"57\": 7, \"7\": 3, \"19\": 2, \"3\": 2, \"43\": 9, \"50\": 1, \"16\": 11, \"21\": 2, \"23\": 7, \"40\": 5, \"35\": 1, \"5\": 3, \"25\": 4, \"29\": 1, \"10\": 1, \"47\": 3, \"44\": 1}, \"57\": {\"57\": 124, \"0\": 2, \"7\": 1, \"15\": 3, \"16\": 3, \"47\": 4, \"46\": 1, \"29\": 2, \"42\": 1, \"1\": 1}, \"47\": {\"47\": 111, \"15\": 4, \"29\": 6, \"46\": 1, \"11\": 5, \"16\": 4, \"57\": 6, \"1\": 1}, \"35\": {\"35\": 32}, \"15\": {\"15\": 117, \"16\": 10, \"43\": 1, \"57\": 1, \"7\": 2, \"0\": 1}, \"25\": {\"9\": 7, \"25\": 76, \"34\": 2, \"40\": 9, \"29\": 4, \"1\": 2, \"19\": 8, \"21\": 11, \"3\": 5, \"47\": 1, \"23\": 6, \"57\": 1, \"7\": 1, \"6\": 2, \"30\": 1}, \"19\": {\"19\": 121, \"2\": 1, \"11\": 4, \"29\": 3, \"25\": 4, \"46\": 1, \"40\": 2}, \"51\": {\"51\": 98, \"18\": 1, \"53\": 9, \"50\": 6, \"54\": 2, \"20\": 3, \"6\": 4, \"36\": 5}, \"53\": {\"53\": 94, \"51\": 10, \"17\": 2, \"36\": 1, \"54\": 6, \"6\": 4, \"50\": 9, \"20\": 4, \"44\": 2, \"48\": 2}, \"21\": {\"21\": 100, \"25\": 4, \"3\": 7, \"46\": 2, \"23\": 2, \"50\": 1, \"1\": 1, \"7\": 1, \"29\": 1, \"52\": 1}, \"39\": {\"39\": 25, \"42\": 1, \"5\": 1, \"44\": 1}, \"2\": {\"2\": 29, \"47\": 2, \"46\": 1}, \"16\": {\"16\": 122, \"15\": 21, \"0\": 3, \"57\": 4}, \"0\": {\"0\": 39, \"47\": 2, \"16\": 4, \"57\": 1, \"15\": 2}, \"3\": {\"3\": 35, \"49\": 1, \"9\": 5, \"29\": 2, \"21\": 9, \"47\": 3, \"40\": 2, \"23\": 4, \"52\": 8, \"30\": 4, \"46\": 2, \"25\": 4, \"44\": 1, \"4\": 1, \"57\": 1, \"6\": 2, \"19\": 1, \"1\": 4, \"36\": 1, \"50\": 1, \"20\": 1}, \"27\": {\"27\": 142}, \"28\": {\"28\": 22, \"46\": 2, \"5\": 1, \"44\": 2, \"55\": 1}, \"29\": {\"29\": 108, \"3\": 1, \"0\": 2, \"25\": 3, \"47\": 2, \"15\": 1, \"1\": 3, \"46\": 2, \"57\": 3, \"34\": 1, \"42\": 1, \"21\": 1}}}, \"per_domain_accuracy\": {\"O_14\": {\"accuracy\": 0.9447916666666667, \"source?\": true}, \"O_20\": {\"accuracy\": 0.93515625, \"source?\": true}, \"O_38\": {\"accuracy\": 0.9408854166666667, \"source?\": true}, \"O_8\": {\"accuracy\": 0.934375, \"source?\": true}, \"O_50\": {\"accuracy\": 0.9317708333333333, \"source?\": true}, \"O_32\": {\"accuracy\": 0.91875, \"source?\": true}, \"O_26\": {\"accuracy\": 0.83828125, \"source?\": true}, \"O_44\": {\"accuracy\": 0.8221354166666667, \"source?\": true}, \"C_3\": {\"accuracy\": 0.7817950581395349, \"source?\": false}, \"W_3\": {\"accuracy\": 0.5457785087719298, \"source?\": false}, \"C_4\": {\"accuracy\": 0.7666666666666667, \"source?\": false}, \"C_5\": {\"accuracy\": 0.7821229050279329, \"source?\": false}, \"C_1\": {\"accuracy\": 0.8423838797814208, \"source?\": false}, \"W_4\": {\"accuracy\": 0.4949845679012346, \"source?\": false}, \"W_1\": {\"accuracy\": 0.5492021276595744, \"source?\": false}, \"W_2\": {\"accuracy\": 0.5254726890756303, \"source?\": false}, \"C_2\": {\"accuracy\": 0.790430790960452, \"source?\": false}}}, \"history\": {\"epoch_indices\": [1, 2, 3, 4, 5, 6, 7, 8, 9, 10, 11, 12, 13, 14, 15, 16, 17, 18, 19, 20, 21, 22, 23, 24, 25, 26, 27, 28], \"train_label_loss\": [0.7896823528699488, 0.7696460758047622, 0.44065078972350985, 0.3615408113982994, 0.3236236148253305, 0.2979990116154936, 0.26695179886283726, 0.2511879551698387, 0.23146974849143936, 0.21837282455179818, 0.2039010563352522, 0.19173693465865135, 0.18040101596343447, 0.17057883402795554, 0.1611146896715495, 0.15721742970550362, 0.14365982410724124, 0.13560700154760394, 0.12786199735696538, 0.12348506703258733, 0.1277682087437911, 0.10973332450227774, 0.10740215030751599, 0.10101041485636632, 0.1051672831128837, 0.09200307322937858, 0.09055735404638415, 0.08687534074596918], \"source_val_label_loss\": [36.62809753417969, 0.5430506467819214, 0.4337351620197296, 0.4213472306728363, 0.4223085641860962, 0.32212314009666443, 0.3421050012111664, 0.28716883063316345, 0.30078545212745667, 0.26257115602493286, 0.2687447965145111, 0.2709266245365143, 0.2561098635196686, 0.2642272710800171, 0.26321184635162354, 0.3118431866168976, 0.2691150903701782, 0.28070342540740967, 0.2785188555717468, 0.26809635758399963, 0.29207977652549744, 0.2904754877090454, 0.28546032309532166, 0.2982238531112671, 0.30531179904937744, 0.30035945773124695, 0.3089756369590759, 0.3046509325504303], \"target_val_label_loss\": [951.9274291992188, 267.1844482421875, 408.0687561035156, 536.4940795898438, 537.9591064453125, 579.3970336914062, 664.8533325195312, 729.33251953125, 755.0346069335938, 791.4146728515625, 878.6256103515625, 1023.0671997070312, 1054.6461181640625, 1084.789306640625, 1182.7786865234375, 1209.0244140625, 1236.2593994140625, 1275.6239013671875, 1479.5283203125, 1384.7662353515625, 1417.5728759765625, 1528.7059326171875, 1586.039306640625, 1694.17578125, 1691.0860595703125, 1777.9273681640625, 1768.7552490234375, 1853.98193359375], \"source_val_acc_label\": [0.6778971354166666, 0.8012369791666667, 0.8436197916666667, 0.8484700520833334, 0.846484375, 0.883203125, 0.8734049479166667, 0.89599609375, 0.8898111979166666, 0.90546875, 0.905078125, 0.9035481770833333, 0.9105143229166667, 0.9082682291666667, 0.9076497395833333, 0.89384765625, 0.909765625, 0.9072916666666667, 0.9084635416666667, 0.9115559895833333, 0.9035481770833333, 0.9066080729166667, 0.909375, 0.9082682291666667, 0.9051106770833334, 0.9108723958333333, 0.9046875, 0.9087890625], \"target_val_acc_label\": [0.5177884615384616, 0.5828811813186813, 0.5919127747252747, 0.5869848901098901, 0.5996909340659341, 0.6090831043956044, 0.6137534340659341, 0.6094093406593407, 0.6194196428571429, 0.6119333791208791, 0.6198660714285714, 0.6165693681318681, 0.6307005494505494, 0.629635989010989, 0.6336881868131868, 0.6390968406593407, 0.6388392857142857, 0.6362293956043956, 0.6536401098901099, 0.6540865384615384, 0.6467376373626373, 0.6495535714285714, 0.6485576923076923, 0.6559752747252747, 0.637603021978022, 0.6524725274725275, 0.6473214285714286, 0.648231456043956]}, \"dataset_metrics\": {\"source\": {\"train\": {\"n_unique_x\": 179200, \"n_unique_y\": 16, \"n_batch/episode\": 6720}, \"val\": {\"n_unique_x\": 38400, \"n_unique_y\": 16, \"n_batch/episode\": 960}, \"test\": {\"n_unique_x\": 38400, \"n_unique_y\": 16, \"n_batch/episode\": 960}}, \"target\": {\"train\": {\"n_unique_x\": 364179, \"n_unique_y\": 130, \"n_batch/episode\": 13159}, \"val\": {\"n_unique_x\": 77264, \"n_unique_y\": 130, \"n_batch/episode\": 1820}, \"test\": {\"n_unique_x\": 78450, \"n_unique_y\": 130, \"n_batch/episode\": 1860}}}}'"
      ]
     },
     "execution_count": 29,
     "metadata": {},
     "output_type": "execute_result"
    }
   ],
   "source": [
    "json.dumps(experiment)"
   ]
  }
 ],
 "metadata": {
  "celltoolbar": "Tags",
  "kernelspec": {
   "display_name": "Python 3 (ipykernel)",
   "language": "python",
   "name": "python3"
  },
  "language_info": {
   "codemirror_mode": {
    "name": "ipython",
    "version": 3
   },
   "file_extension": ".py",
   "mimetype": "text/x-python",
   "name": "python",
   "nbconvert_exporter": "python",
   "pygments_lexer": "ipython3",
   "version": "3.8.10"
  },
  "papermill": {
   "default_parameters": {},
   "duration": 5621.271066,
   "end_time": "2022-03-19T20:09:50.280838",
   "environment_variables": {},
   "exception": null,
   "input_path": "/mnt/wd500GB/CSC500/csc500-main/csc500-notebooks/templates/tl_ptn_template.ipynb",
   "output_path": "trial.ipynb",
   "parameters": {
    "parameters": {
     "BEST_MODEL_PATH": "./best_model.pth",
     "NUM_LOGS_PER_EPOCH": 10,
     "criteria_for_best": "target_accuracy",
     "dataset_seed": 1337,
     "datasets": [
      {
       "domain_prefix": "C_",
       "domains": [
        1,
        2,
        3,
        4,
        5
       ],
       "episode_transforms": [],
       "labels": [
        "1-10.",
        "1-11.",
        "1-15.",
        "1-16.",
        "1-17.",
        "1-18.",
        "1-19.",
        "10-4.",
        "10-7.",
        "11-1.",
        "11-14.",
        "11-17.",
        "11-20.",
        "11-7.",
        "13-20.",
        "13-8.",
        "14-10.",
        "14-11.",
        "14-14.",
        "14-7.",
        "15-1.",
        "15-20.",
        "16-1.",
        "16-16.",
        "17-10.",
        "17-11.",
        "17-2.",
        "19-1.",
        "19-16.",
        "19-19.",
        "19-20.",
        "19-3.",
        "2-10.",
        "2-11.",
        "2-17.",
        "2-18.",
        "2-20.",
        "2-3.",
        "2-4.",
        "2-5.",
        "2-6.",
        "2-7.",
        "2-8.",
        "3-13.",
        "3-18.",
        "3-3.",
        "4-1.",
        "4-10.",
        "4-11.",
        "4-19.",
        "5-5.",
        "6-15.",
        "7-10.",
        "7-14.",
        "8-18.",
        "8-20.",
        "8-3.",
        "8-8."
       ],
       "num_examples_per_domain_per_label": -1,
       "pickle_path": "/mnt/wd500GB/CSC500/csc500-main/datasets/cores.stratified_ds.2022A.pkl",
       "source_or_target_dataset": "target",
       "x_transforms": [
        "unit_mag"
       ]
      },
      {
       "domain_prefix": "W_",
       "domains": [
        1,
        2,
        3,
        4
       ],
       "episode_transforms": [],
       "labels": [
        "1-10",
        "1-12",
        "1-14",
        "1-16",
        "1-18",
        "1-19",
        "1-8",
        "10-11",
        "10-17",
        "10-4",
        "10-7",
        "11-1",
        "11-10",
        "11-19",
        "11-20",
        "11-4",
        "11-7",
        "12-19",
        "12-20",
        "12-7",
        "13-14",
        "13-18",
        "13-19",
        "13-20",
        "13-3",
        "13-7",
        "14-10",
        "14-11",
        "14-12",
        "14-13",
        "14-14",
        "14-19",
        "14-20",
        "14-7",
        "14-8",
        "14-9",
        "15-1",
        "15-19",
        "15-6",
        "16-1",
        "16-16",
        "16-19",
        "16-20",
        "17-10",
        "17-11",
        "18-1",
        "18-10",
        "18-11",
        "18-12",
        "18-13",
        "18-14",
        "18-15",
        "18-16",
        "18-17",
        "18-19",
        "18-2",
        "18-20",
        "18-4",
        "18-5",
        "18-7",
        "18-8",
        "18-9",
        "19-1",
        "19-10",
        "19-11",
        "19-12",
        "19-13",
        "19-14",
        "19-15",
        "19-19",
        "19-2",
        "19-20",
        "19-3",
        "19-4",
        "19-6",
        "19-7",
        "19-8",
        "19-9",
        "2-1",
        "2-13",
        "2-15",
        "2-3",
        "2-4",
        "2-5",
        "2-6",
        "2-7",
        "2-8",
        "20-1",
        "20-12",
        "20-14",
        "20-15",
        "20-16",
        "20-18",
        "20-19",
        "20-20",
        "20-3",
        "20-4",
        "20-5",
        "20-7",
        "20-8",
        "3-1",
        "3-13",
        "3-18",
        "3-2",
        "3-8",
        "4-1",
        "4-10",
        "4-11",
        "5-1",
        "5-5",
        "6-1",
        "6-15",
        "6-6",
        "7-10",
        "7-11",
        "7-12",
        "7-13",
        "7-14",
        "7-7",
        "7-8",
        "7-9",
        "8-1",
        "8-13",
        "8-14",
        "8-18",
        "8-20",
        "8-3",
        "8-8",
        "9-1",
        "9-7"
       ],
       "num_examples_per_domain_per_label": -1,
       "pickle_path": "/mnt/wd500GB/CSC500/csc500-main/datasets/wisig.node3-19.stratified_ds.2022A.pkl",
       "source_or_target_dataset": "target",
       "x_transforms": [
        "unit_mag"
       ]
      },
      {
       "domain_prefix": "O_",
       "domains": [
        32,
        38,
        8,
        44,
        14,
        50,
        20,
        26
       ],
       "episode_transforms": [],
       "labels": [
        "3123D52",
        "3123D65",
        "3123D79",
        "3123D80",
        "3123D54",
        "3123D70",
        "3123D7B",
        "3123D89",
        "3123D58",
        "3123D76",
        "3123D7D",
        "3123EFE",
        "3123D64",
        "3123D78",
        "3123D7E",
        "3124E4A"
       ],
       "num_examples_per_domain_per_label": 2000,
       "pickle_path": "/mnt/wd500GB/CSC500/csc500-main/datasets/oracle.Run1_framed_2000Examples_stratified_ds.2022A.pkl",
       "source_or_target_dataset": "source",
       "x_transforms": [
        "unit_mag"
       ]
      }
     ],
     "device": "cuda",
     "experiment_name": "tl_2v2:oracle.run1.framed -> cores+wisig",
     "lr": 0.0001,
     "n_epoch": 50,
     "n_query": 2,
     "n_shot": 3,
     "n_way": 16,
     "patience": 3,
     "seed": 1337,
     "test_k_factor": 2,
     "torch_default_dtype": "torch.float32",
     "train_k_factor": 3,
     "val_k_factor": 2,
     "x_net": [
      {
       "class": "nnReshape",
       "kargs": {
        "shape": [
         -1,
         1,
         2,
         256
        ]
       }
      },
      {
       "class": "Conv2d",
       "kargs": {
        "bias": false,
        "in_channels": 1,
        "kernel_size": [
         1,
         7
        ],
        "out_channels": 256,
        "padding": [
         0,
         3
        ]
       }
      },
      {
       "class": "ReLU",
       "kargs": {
        "inplace": true
       }
      },
      {
       "class": "BatchNorm2d",
       "kargs": {
        "num_features": 256
       }
      },
      {
       "class": "Conv2d",
       "kargs": {
        "bias": true,
        "in_channels": 256,
        "kernel_size": [
         2,
         7
        ],
        "out_channels": 80,
        "padding": [
         0,
         3
        ]
       }
      },
      {
       "class": "ReLU",
       "kargs": {
        "inplace": true
       }
      },
      {
       "class": "BatchNorm2d",
       "kargs": {
        "num_features": 80
       }
      },
      {
       "class": "Flatten",
       "kargs": {}
      },
      {
       "class": "Linear",
       "kargs": {
        "in_features": 20480,
        "out_features": 256
       }
      },
      {
       "class": "ReLU",
       "kargs": {
        "inplace": true
       }
      },
      {
       "class": "BatchNorm1d",
       "kargs": {
        "num_features": 256
       }
      },
      {
       "class": "Linear",
       "kargs": {
        "in_features": 256,
        "out_features": 256
       }
      }
     ]
    }
   },
   "start_time": "2022-03-19T18:36:09.009772",
   "version": "2.3.4"
  }
 },
 "nbformat": 4,
 "nbformat_minor": 5
}