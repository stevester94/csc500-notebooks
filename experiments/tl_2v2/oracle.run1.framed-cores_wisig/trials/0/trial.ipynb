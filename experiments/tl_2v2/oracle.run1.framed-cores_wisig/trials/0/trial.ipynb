{
 "cells": [
  {
   "cell_type": "markdown",
   "id": "9fea5f46",
   "metadata": {
    "papermill": {
     "duration": 0.017117,
     "end_time": "2022-03-19T18:11:04.712582",
     "exception": false,
     "start_time": "2022-03-19T18:11:04.695465",
     "status": "completed"
    },
    "tags": []
   },
   "source": [
    "# Transfer Learning Template"
   ]
  },
  {
   "cell_type": "code",
   "execution_count": 1,
   "id": "0902182a",
   "metadata": {
    "execution": {
     "iopub.execute_input": "2022-03-19T18:11:04.751285Z",
     "iopub.status.busy": "2022-03-19T18:11:04.740012Z",
     "iopub.status.idle": "2022-03-19T18:11:05.710126Z",
     "shell.execute_reply": "2022-03-19T18:11:05.709590Z"
    },
    "papermill": {
     "duration": 0.985304,
     "end_time": "2022-03-19T18:11:05.710247",
     "exception": false,
     "start_time": "2022-03-19T18:11:04.724943",
     "status": "completed"
    },
    "tags": []
   },
   "outputs": [],
   "source": [
    "%load_ext autoreload\n",
    "%autoreload 2\n",
    "%matplotlib inline\n",
    "\n",
    "    \n",
    "import os, json, sys, time, random\n",
    "import numpy as np\n",
    "import torch\n",
    "from torch.optim import Adam\n",
    "from  easydict import EasyDict\n",
    "import matplotlib.pyplot as plt\n",
    "\n",
    "from steves_models.steves_ptn import Steves_Prototypical_Network\n",
    "\n",
    "from steves_utils.lazy_iterable_wrapper import Lazy_Iterable_Wrapper\n",
    "from steves_utils.iterable_aggregator import Iterable_Aggregator\n",
    "from steves_utils.ptn_train_eval_test_jig import  PTN_Train_Eval_Test_Jig\n",
    "from steves_utils.torch_sequential_builder import build_sequential\n",
    "from steves_utils.torch_utils import get_dataset_metrics, ptn_confusion_by_domain_over_dataloader\n",
    "from steves_utils.utils_v2 import (per_domain_accuracy_from_confusion, get_datasets_base_path)\n",
    "from steves_utils.PTN.utils import independent_accuracy_assesment\n",
    "\n",
    "from torch.utils.data import DataLoader\n",
    "\n",
    "from steves_utils.stratified_dataset.episodic_accessor import Episodic_Accessor_Factory\n",
    "\n",
    "from steves_utils.ptn_do_report import (\n",
    "    get_loss_curve,\n",
    "    get_results_table,\n",
    "    get_parameters_table,\n",
    "    get_domain_accuracies,\n",
    ")\n",
    "\n",
    "from steves_utils.transforms import get_chained_transform"
   ]
  },
  {
   "cell_type": "markdown",
   "id": "41c840b4",
   "metadata": {
    "papermill": {
     "duration": 0.012754,
     "end_time": "2022-03-19T18:11:05.741243",
     "exception": false,
     "start_time": "2022-03-19T18:11:05.728489",
     "status": "completed"
    },
    "tags": []
   },
   "source": [
    "# Allowed Parameters\n",
    "These are allowed parameters, not defaults\n",
    "Each of these values need to be present in the injected parameters (the notebook will raise an exception if they are not present)\n",
    "\n",
    "Papermill uses the cell tag \"parameters\" to inject the real parameters below this cell.\n",
    "Enable tags to see what I mean"
   ]
  },
  {
   "cell_type": "code",
   "execution_count": 2,
   "id": "fd44eb83",
   "metadata": {
    "execution": {
     "iopub.execute_input": "2022-03-19T18:11:05.770087Z",
     "iopub.status.busy": "2022-03-19T18:11:05.769834Z",
     "iopub.status.idle": "2022-03-19T18:11:05.783692Z",
     "shell.execute_reply": "2022-03-19T18:11:05.783895Z"
    },
    "papermill": {
     "duration": 0.029817,
     "end_time": "2022-03-19T18:11:05.783954",
     "exception": false,
     "start_time": "2022-03-19T18:11:05.754137",
     "status": "completed"
    },
    "tags": []
   },
   "outputs": [],
   "source": [
    "required_parameters = {\n",
    "    \"experiment_name\",\n",
    "    \"lr\",\n",
    "    \"device\",\n",
    "    \"seed\",\n",
    "    \"dataset_seed\",\n",
    "    \"n_shot\",\n",
    "    \"n_query\",\n",
    "    \"n_way\",\n",
    "    \"train_k_factor\",\n",
    "    \"val_k_factor\",\n",
    "    \"test_k_factor\",\n",
    "    \"n_epoch\",\n",
    "    \"patience\",\n",
    "    \"criteria_for_best\",\n",
    "    \"x_net\",\n",
    "    \"datasets\",\n",
    "    \"torch_default_dtype\",\n",
    "    \"NUM_LOGS_PER_EPOCH\",\n",
    "    \"BEST_MODEL_PATH\",\n",
    "    \"x_shape\",\n",
    "}"
   ]
  },
  {
   "cell_type": "code",
   "execution_count": 3,
   "id": "fa3f0049",
   "metadata": {
    "execution": {
     "iopub.execute_input": "2022-03-19T18:11:05.826506Z",
     "iopub.status.busy": "2022-03-19T18:11:05.826232Z",
     "iopub.status.idle": "2022-03-19T18:11:05.838872Z",
     "shell.execute_reply": "2022-03-19T18:11:05.838462Z"
    },
    "papermill": {
     "duration": 0.036065,
     "end_time": "2022-03-19T18:11:05.838970",
     "exception": false,
     "start_time": "2022-03-19T18:11:05.802905",
     "status": "completed"
    },
    "tags": [
     "parameters"
    ]
   },
   "outputs": [],
   "source": [
    "from steves_utils.CORES.utils import (\n",
    "    ALL_NODES,\n",
    "    ALL_NODES_MINIMUM_1000_EXAMPLES,\n",
    "    ALL_DAYS\n",
    ")\n",
    "\n",
    "from steves_utils.ORACLE.utils_v2 import (\n",
    "    ALL_DISTANCES_FEET_NARROWED,\n",
    "    ALL_RUNS,\n",
    "    ALL_SERIAL_NUMBERS,\n",
    ")\n",
    "\n",
    "standalone_parameters = {}\n",
    "standalone_parameters[\"experiment_name\"] = \"STANDALONE PTN\"\n",
    "standalone_parameters[\"lr\"] = 0.001\n",
    "standalone_parameters[\"device\"] = \"cuda\"\n",
    "\n",
    "standalone_parameters[\"seed\"] = 1337\n",
    "standalone_parameters[\"dataset_seed\"] = 1337\n",
    "\n",
    "standalone_parameters[\"n_way\"] = 8\n",
    "standalone_parameters[\"n_shot\"] = 3\n",
    "standalone_parameters[\"n_query\"]  = 2\n",
    "standalone_parameters[\"train_k_factor\"] = 1\n",
    "standalone_parameters[\"val_k_factor\"] = 2\n",
    "standalone_parameters[\"test_k_factor\"] = 2\n",
    "\n",
    "\n",
    "standalone_parameters[\"n_epoch\"] = 50\n",
    "\n",
    "standalone_parameters[\"patience\"] = 10\n",
    "standalone_parameters[\"criteria_for_best\"] = \"source_loss\"\n",
    "\n",
    "standalone_parameters[\"datasets\"] = [\n",
    "    {\n",
    "        \"labels\": ALL_SERIAL_NUMBERS,\n",
    "        \"domains\": ALL_DISTANCES_FEET_NARROWED,\n",
    "        \"num_examples_per_domain_per_label\": 100,\n",
    "        \"pickle_path\": os.path.join(get_datasets_base_path(), \"oracle.Run1_framed_2000Examples_stratified_ds.2022A.pkl\"),\n",
    "        \"source_or_target_dataset\": \"source\",\n",
    "        \"x_transforms\": [\"unit_mag\", \"minus_two\"],\n",
    "        \"episode_transforms\": [],\n",
    "        \"domain_prefix\": \"ORACLE_\"\n",
    "    },\n",
    "    {\n",
    "        \"labels\": ALL_NODES,\n",
    "        \"domains\": ALL_DAYS,\n",
    "        \"num_examples_per_domain_per_label\": 100,\n",
    "        \"pickle_path\": os.path.join(get_datasets_base_path(), \"cores.stratified_ds.2022A.pkl\"),\n",
    "        \"source_or_target_dataset\": \"target\",\n",
    "        \"x_transforms\": [\"unit_power\", \"times_zero\"],\n",
    "        \"episode_transforms\": [],\n",
    "        \"domain_prefix\": \"CORES_\"\n",
    "    }   \n",
    "]\n",
    "\n",
    "standalone_parameters[\"torch_default_dtype\"] = \"torch.float32\" \n",
    "\n",
    "\n",
    "\n",
    "standalone_parameters[\"x_net\"] =     [\n",
    "    {\"class\": \"nnReshape\", \"kargs\": {\"shape\":[-1, 1, 2, 256]}},\n",
    "    {\"class\": \"Conv2d\", \"kargs\": { \"in_channels\":1, \"out_channels\":256, \"kernel_size\":(1,7), \"bias\":False, \"padding\":(0,3), },},\n",
    "    {\"class\": \"ReLU\", \"kargs\": {\"inplace\": True}},\n",
    "    {\"class\": \"BatchNorm2d\", \"kargs\": {\"num_features\":256}},\n",
    "\n",
    "    {\"class\": \"Conv2d\", \"kargs\": { \"in_channels\":256, \"out_channels\":80, \"kernel_size\":(2,7), \"bias\":True, \"padding\":(0,3), },},\n",
    "    {\"class\": \"ReLU\", \"kargs\": {\"inplace\": True}},\n",
    "    {\"class\": \"BatchNorm2d\", \"kargs\": {\"num_features\":80}},\n",
    "    {\"class\": \"Flatten\", \"kargs\": {}},\n",
    "\n",
    "    {\"class\": \"Linear\", \"kargs\": {\"in_features\": 80*256, \"out_features\": 256}}, # 80 units per IQ pair\n",
    "    {\"class\": \"ReLU\", \"kargs\": {\"inplace\": True}},\n",
    "    {\"class\": \"BatchNorm1d\", \"kargs\": {\"num_features\":256}},\n",
    "\n",
    "    {\"class\": \"Linear\", \"kargs\": {\"in_features\": 256, \"out_features\": 256}},\n",
    "]\n",
    "\n",
    "# Parameters relevant to results\n",
    "# These parameters will basically never need to change\n",
    "standalone_parameters[\"NUM_LOGS_PER_EPOCH\"] = 10\n",
    "standalone_parameters[\"BEST_MODEL_PATH\"] = \"./best_model.pth\"\n",
    "\n",
    "\n",
    "\n",
    "\n"
   ]
  },
  {
   "cell_type": "code",
   "execution_count": 4,
   "id": "69b23e3f",
   "metadata": {
    "execution": {
     "iopub.execute_input": "2022-03-19T18:11:05.883374Z",
     "iopub.status.busy": "2022-03-19T18:11:05.877363Z",
     "iopub.status.idle": "2022-03-19T18:11:05.896646Z",
     "shell.execute_reply": "2022-03-19T18:11:05.897024Z"
    },
    "papermill": {
     "duration": 0.039934,
     "end_time": "2022-03-19T18:11:05.897137",
     "exception": false,
     "start_time": "2022-03-19T18:11:05.857203",
     "status": "completed"
    },
    "tags": [
     "injected-parameters"
    ]
   },
   "outputs": [],
   "source": [
    "# Parameters\n",
    "parameters = {\n",
    "    \"experiment_name\": \"tl_2v2:oracle.run1.framed -> cores+wisig\",\n",
    "    \"device\": \"cuda\",\n",
    "    \"lr\": 0.0001,\n",
    "    \"n_shot\": 3,\n",
    "    \"n_query\": 2,\n",
    "    \"train_k_factor\": 3,\n",
    "    \"val_k_factor\": 2,\n",
    "    \"test_k_factor\": 2,\n",
    "    \"torch_default_dtype\": \"torch.float32\",\n",
    "    \"n_epoch\": 50,\n",
    "    \"patience\": 3,\n",
    "    \"criteria_for_best\": \"target_accuracy\",\n",
    "    \"x_net\": [\n",
    "        {\"class\": \"nnReshape\", \"kargs\": {\"shape\": [-1, 1, 2, 256]}},\n",
    "        {\n",
    "            \"class\": \"Conv2d\",\n",
    "            \"kargs\": {\n",
    "                \"in_channels\": 1,\n",
    "                \"out_channels\": 256,\n",
    "                \"kernel_size\": [1, 7],\n",
    "                \"bias\": False,\n",
    "                \"padding\": [0, 3],\n",
    "            },\n",
    "        },\n",
    "        {\"class\": \"ReLU\", \"kargs\": {\"inplace\": True}},\n",
    "        {\"class\": \"BatchNorm2d\", \"kargs\": {\"num_features\": 256}},\n",
    "        {\n",
    "            \"class\": \"Conv2d\",\n",
    "            \"kargs\": {\n",
    "                \"in_channels\": 256,\n",
    "                \"out_channels\": 80,\n",
    "                \"kernel_size\": [2, 7],\n",
    "                \"bias\": True,\n",
    "                \"padding\": [0, 3],\n",
    "            },\n",
    "        },\n",
    "        {\"class\": \"ReLU\", \"kargs\": {\"inplace\": True}},\n",
    "        {\"class\": \"BatchNorm2d\", \"kargs\": {\"num_features\": 80}},\n",
    "        {\"class\": \"Flatten\", \"kargs\": {}},\n",
    "        {\"class\": \"Linear\", \"kargs\": {\"in_features\": 20480, \"out_features\": 256}},\n",
    "        {\"class\": \"ReLU\", \"kargs\": {\"inplace\": True}},\n",
    "        {\"class\": \"BatchNorm1d\", \"kargs\": {\"num_features\": 256}},\n",
    "        {\"class\": \"Linear\", \"kargs\": {\"in_features\": 256, \"out_features\": 256}},\n",
    "    ],\n",
    "    \"NUM_LOGS_PER_EPOCH\": 10,\n",
    "    \"BEST_MODEL_PATH\": \"./best_model.pth\",\n",
    "    \"n_way\": 16,\n",
    "    \"datasets\": [\n",
    "        {\n",
    "            \"labels\": [\n",
    "                \"1-10.\",\n",
    "                \"1-11.\",\n",
    "                \"1-15.\",\n",
    "                \"1-16.\",\n",
    "                \"1-17.\",\n",
    "                \"1-18.\",\n",
    "                \"1-19.\",\n",
    "                \"10-4.\",\n",
    "                \"10-7.\",\n",
    "                \"11-1.\",\n",
    "                \"11-14.\",\n",
    "                \"11-17.\",\n",
    "                \"11-20.\",\n",
    "                \"11-7.\",\n",
    "                \"13-20.\",\n",
    "                \"13-8.\",\n",
    "                \"14-10.\",\n",
    "                \"14-11.\",\n",
    "                \"14-14.\",\n",
    "                \"14-7.\",\n",
    "                \"15-1.\",\n",
    "                \"15-20.\",\n",
    "                \"16-1.\",\n",
    "                \"16-16.\",\n",
    "                \"17-10.\",\n",
    "                \"17-11.\",\n",
    "                \"17-2.\",\n",
    "                \"19-1.\",\n",
    "                \"19-16.\",\n",
    "                \"19-19.\",\n",
    "                \"19-20.\",\n",
    "                \"19-3.\",\n",
    "                \"2-10.\",\n",
    "                \"2-11.\",\n",
    "                \"2-17.\",\n",
    "                \"2-18.\",\n",
    "                \"2-20.\",\n",
    "                \"2-3.\",\n",
    "                \"2-4.\",\n",
    "                \"2-5.\",\n",
    "                \"2-6.\",\n",
    "                \"2-7.\",\n",
    "                \"2-8.\",\n",
    "                \"3-13.\",\n",
    "                \"3-18.\",\n",
    "                \"3-3.\",\n",
    "                \"4-1.\",\n",
    "                \"4-10.\",\n",
    "                \"4-11.\",\n",
    "                \"4-19.\",\n",
    "                \"5-5.\",\n",
    "                \"6-15.\",\n",
    "                \"7-10.\",\n",
    "                \"7-14.\",\n",
    "                \"8-18.\",\n",
    "                \"8-20.\",\n",
    "                \"8-3.\",\n",
    "                \"8-8.\",\n",
    "            ],\n",
    "            \"domains\": [1, 2, 3, 4, 5],\n",
    "            \"num_examples_per_domain_per_label\": -1,\n",
    "            \"pickle_path\": \"/mnt/wd500GB/CSC500/csc500-main/datasets/cores.stratified_ds.2022A.pkl\",\n",
    "            \"source_or_target_dataset\": \"target\",\n",
    "            \"x_transforms\": [\"unit_power\"],\n",
    "            \"episode_transforms\": [],\n",
    "            \"domain_prefix\": \"C_\",\n",
    "        },\n",
    "        {\n",
    "            \"labels\": [\n",
    "                \"1-10\",\n",
    "                \"1-12\",\n",
    "                \"1-14\",\n",
    "                \"1-16\",\n",
    "                \"1-18\",\n",
    "                \"1-19\",\n",
    "                \"1-8\",\n",
    "                \"10-11\",\n",
    "                \"10-17\",\n",
    "                \"10-4\",\n",
    "                \"10-7\",\n",
    "                \"11-1\",\n",
    "                \"11-10\",\n",
    "                \"11-19\",\n",
    "                \"11-20\",\n",
    "                \"11-4\",\n",
    "                \"11-7\",\n",
    "                \"12-19\",\n",
    "                \"12-20\",\n",
    "                \"12-7\",\n",
    "                \"13-14\",\n",
    "                \"13-18\",\n",
    "                \"13-19\",\n",
    "                \"13-20\",\n",
    "                \"13-3\",\n",
    "                \"13-7\",\n",
    "                \"14-10\",\n",
    "                \"14-11\",\n",
    "                \"14-12\",\n",
    "                \"14-13\",\n",
    "                \"14-14\",\n",
    "                \"14-19\",\n",
    "                \"14-20\",\n",
    "                \"14-7\",\n",
    "                \"14-8\",\n",
    "                \"14-9\",\n",
    "                \"15-1\",\n",
    "                \"15-19\",\n",
    "                \"15-6\",\n",
    "                \"16-1\",\n",
    "                \"16-16\",\n",
    "                \"16-19\",\n",
    "                \"16-20\",\n",
    "                \"17-10\",\n",
    "                \"17-11\",\n",
    "                \"18-1\",\n",
    "                \"18-10\",\n",
    "                \"18-11\",\n",
    "                \"18-12\",\n",
    "                \"18-13\",\n",
    "                \"18-14\",\n",
    "                \"18-15\",\n",
    "                \"18-16\",\n",
    "                \"18-17\",\n",
    "                \"18-19\",\n",
    "                \"18-2\",\n",
    "                \"18-20\",\n",
    "                \"18-4\",\n",
    "                \"18-5\",\n",
    "                \"18-7\",\n",
    "                \"18-8\",\n",
    "                \"18-9\",\n",
    "                \"19-1\",\n",
    "                \"19-10\",\n",
    "                \"19-11\",\n",
    "                \"19-12\",\n",
    "                \"19-13\",\n",
    "                \"19-14\",\n",
    "                \"19-15\",\n",
    "                \"19-19\",\n",
    "                \"19-2\",\n",
    "                \"19-20\",\n",
    "                \"19-3\",\n",
    "                \"19-4\",\n",
    "                \"19-6\",\n",
    "                \"19-7\",\n",
    "                \"19-8\",\n",
    "                \"19-9\",\n",
    "                \"2-1\",\n",
    "                \"2-13\",\n",
    "                \"2-15\",\n",
    "                \"2-3\",\n",
    "                \"2-4\",\n",
    "                \"2-5\",\n",
    "                \"2-6\",\n",
    "                \"2-7\",\n",
    "                \"2-8\",\n",
    "                \"20-1\",\n",
    "                \"20-12\",\n",
    "                \"20-14\",\n",
    "                \"20-15\",\n",
    "                \"20-16\",\n",
    "                \"20-18\",\n",
    "                \"20-19\",\n",
    "                \"20-20\",\n",
    "                \"20-3\",\n",
    "                \"20-4\",\n",
    "                \"20-5\",\n",
    "                \"20-7\",\n",
    "                \"20-8\",\n",
    "                \"3-1\",\n",
    "                \"3-13\",\n",
    "                \"3-18\",\n",
    "                \"3-2\",\n",
    "                \"3-8\",\n",
    "                \"4-1\",\n",
    "                \"4-10\",\n",
    "                \"4-11\",\n",
    "                \"5-1\",\n",
    "                \"5-5\",\n",
    "                \"6-1\",\n",
    "                \"6-15\",\n",
    "                \"6-6\",\n",
    "                \"7-10\",\n",
    "                \"7-11\",\n",
    "                \"7-12\",\n",
    "                \"7-13\",\n",
    "                \"7-14\",\n",
    "                \"7-7\",\n",
    "                \"7-8\",\n",
    "                \"7-9\",\n",
    "                \"8-1\",\n",
    "                \"8-13\",\n",
    "                \"8-14\",\n",
    "                \"8-18\",\n",
    "                \"8-20\",\n",
    "                \"8-3\",\n",
    "                \"8-8\",\n",
    "                \"9-1\",\n",
    "                \"9-7\",\n",
    "            ],\n",
    "            \"domains\": [1, 2, 3, 4],\n",
    "            \"num_examples_per_domain_per_label\": -1,\n",
    "            \"pickle_path\": \"/mnt/wd500GB/CSC500/csc500-main/datasets/wisig.node3-19.stratified_ds.2022A.pkl\",\n",
    "            \"source_or_target_dataset\": \"target\",\n",
    "            \"x_transforms\": [\"unit_power\"],\n",
    "            \"episode_transforms\": [],\n",
    "            \"domain_prefix\": \"W_\",\n",
    "        },\n",
    "        {\n",
    "            \"labels\": [\n",
    "                \"3123D52\",\n",
    "                \"3123D65\",\n",
    "                \"3123D79\",\n",
    "                \"3123D80\",\n",
    "                \"3123D54\",\n",
    "                \"3123D70\",\n",
    "                \"3123D7B\",\n",
    "                \"3123D89\",\n",
    "                \"3123D58\",\n",
    "                \"3123D76\",\n",
    "                \"3123D7D\",\n",
    "                \"3123EFE\",\n",
    "                \"3123D64\",\n",
    "                \"3123D78\",\n",
    "                \"3123D7E\",\n",
    "                \"3124E4A\",\n",
    "            ],\n",
    "            \"domains\": [32, 38, 8, 44, 14, 50, 20, 26],\n",
    "            \"num_examples_per_domain_per_label\": 2000,\n",
    "            \"pickle_path\": \"/mnt/wd500GB/CSC500/csc500-main/datasets/oracle.Run1_framed_2000Examples_stratified_ds.2022A.pkl\",\n",
    "            \"source_or_target_dataset\": \"source\",\n",
    "            \"x_transforms\": [\"unit_power\"],\n",
    "            \"episode_transforms\": [],\n",
    "            \"domain_prefix\": \"O_\",\n",
    "        },\n",
    "    ],\n",
    "    \"seed\": 1337,\n",
    "    \"dataset_seed\": 1337,\n",
    "}\n"
   ]
  },
  {
   "cell_type": "code",
   "execution_count": 5,
   "id": "8fa1cc33",
   "metadata": {
    "execution": {
     "iopub.execute_input": "2022-03-19T18:11:05.933813Z",
     "iopub.status.busy": "2022-03-19T18:11:05.933558Z",
     "iopub.status.idle": "2022-03-19T18:11:05.947478Z",
     "shell.execute_reply": "2022-03-19T18:11:05.947853Z"
    },
    "papermill": {
     "duration": 0.030638,
     "end_time": "2022-03-19T18:11:05.947966",
     "exception": false,
     "start_time": "2022-03-19T18:11:05.917328",
     "status": "completed"
    },
    "tags": []
   },
   "outputs": [],
   "source": [
    "# Set this to True if you want to run this template directly\n",
    "STANDALONE = False\n",
    "if STANDALONE:\n",
    "    print(\"parameters not injected, running with standalone_parameters\")\n",
    "    parameters = standalone_parameters\n",
    "\n",
    "if not 'parameters' in locals() and not 'parameters' in globals():\n",
    "    raise Exception(\"Parameter injection failed\")\n",
    "\n",
    "#Use an easy dict for all the parameters\n",
    "p = EasyDict(parameters)\n",
    "\n",
    "if \"x_shape\" not in p:\n",
    "    p.x_shape = [2,256] # Default to this if we dont supply x_shape\n",
    "\n",
    "\n",
    "supplied_keys = set(p.keys())\n",
    "\n",
    "if  supplied_keys != required_parameters:\n",
    "    print(\"Parameters are incorrect\")\n",
    "    if len(supplied_keys - required_parameters)>0: print(\"Shouldn't have:\", str(supplied_keys - required_parameters))\n",
    "    if len(required_parameters - supplied_keys)>0: print(\"Need to have:\", str(required_parameters - supplied_keys))\n",
    "    raise RuntimeError(\"Parameters are incorrect\")"
   ]
  },
  {
   "cell_type": "code",
   "execution_count": 6,
   "id": "3a028d58",
   "metadata": {
    "execution": {
     "iopub.execute_input": "2022-03-19T18:11:05.981427Z",
     "iopub.status.busy": "2022-03-19T18:11:05.981182Z",
     "iopub.status.idle": "2022-03-19T18:11:05.995924Z",
     "shell.execute_reply": "2022-03-19T18:11:05.996294Z"
    },
    "papermill": {
     "duration": 0.031295,
     "end_time": "2022-03-19T18:11:05.996405",
     "exception": false,
     "start_time": "2022-03-19T18:11:05.965110",
     "status": "completed"
    },
    "tags": []
   },
   "outputs": [],
   "source": [
    "###################################\n",
    "# Set the RNGs and make it all deterministic\n",
    "###################################\n",
    "np.random.seed(p.seed)\n",
    "random.seed(p.seed)\n",
    "torch.manual_seed(p.seed)\n",
    "\n",
    "torch.use_deterministic_algorithms(True) "
   ]
  },
  {
   "cell_type": "code",
   "execution_count": 7,
   "id": "b691acf6",
   "metadata": {
    "execution": {
     "iopub.execute_input": "2022-03-19T18:11:06.031848Z",
     "iopub.status.busy": "2022-03-19T18:11:06.031603Z",
     "iopub.status.idle": "2022-03-19T18:11:06.045126Z",
     "shell.execute_reply": "2022-03-19T18:11:06.044731Z"
    },
    "papermill": {
     "duration": 0.029034,
     "end_time": "2022-03-19T18:11:06.045222",
     "exception": false,
     "start_time": "2022-03-19T18:11:06.016188",
     "status": "completed"
    },
    "tags": []
   },
   "outputs": [],
   "source": [
    "###########################################\n",
    "# The stratified datasets honor this\n",
    "###########################################\n",
    "torch.set_default_dtype(eval(p.torch_default_dtype))"
   ]
  },
  {
   "cell_type": "code",
   "execution_count": 8,
   "id": "b5fba671",
   "metadata": {
    "execution": {
     "iopub.execute_input": "2022-03-19T18:11:06.080284Z",
     "iopub.status.busy": "2022-03-19T18:11:06.080040Z",
     "iopub.status.idle": "2022-03-19T18:11:06.119407Z",
     "shell.execute_reply": "2022-03-19T18:11:06.118952Z"
    },
    "papermill": {
     "duration": 0.054849,
     "end_time": "2022-03-19T18:11:06.119504",
     "exception": false,
     "start_time": "2022-03-19T18:11:06.064655",
     "status": "completed"
    },
    "tags": []
   },
   "outputs": [],
   "source": [
    "###################################\n",
    "# Build the network(s)\n",
    "# Note: It's critical to do this AFTER setting the RNG\n",
    "###################################\n",
    "x_net = build_sequential(p.x_net)"
   ]
  },
  {
   "cell_type": "code",
   "execution_count": 9,
   "id": "5d7e61cc",
   "metadata": {
    "execution": {
     "iopub.execute_input": "2022-03-19T18:11:06.155178Z",
     "iopub.status.busy": "2022-03-19T18:11:06.154929Z",
     "iopub.status.idle": "2022-03-19T18:11:06.170001Z",
     "shell.execute_reply": "2022-03-19T18:11:06.170373Z"
    },
    "papermill": {
     "duration": 0.031214,
     "end_time": "2022-03-19T18:11:06.170483",
     "exception": false,
     "start_time": "2022-03-19T18:11:06.139269",
     "status": "completed"
    },
    "tags": []
   },
   "outputs": [],
   "source": [
    "start_time_secs = time.time()"
   ]
  },
  {
   "cell_type": "code",
   "execution_count": 10,
   "id": "c6b67dfd",
   "metadata": {
    "execution": {
     "iopub.execute_input": "2022-03-19T18:11:06.207571Z",
     "iopub.status.busy": "2022-03-19T18:11:06.207328Z",
     "iopub.status.idle": "2022-03-19T18:11:06.222645Z",
     "shell.execute_reply": "2022-03-19T18:11:06.223013Z"
    },
    "papermill": {
     "duration": 0.03163,
     "end_time": "2022-03-19T18:11:06.223123",
     "exception": false,
     "start_time": "2022-03-19T18:11:06.191493",
     "status": "completed"
    },
    "tags": []
   },
   "outputs": [],
   "source": [
    "p.domains_source = []\n",
    "p.domains_target = []\n",
    "\n",
    "\n",
    "train_original_source = []\n",
    "val_original_source   = []\n",
    "test_original_source  = []\n",
    "\n",
    "train_original_target = []\n",
    "val_original_target   = []\n",
    "test_original_target  = []"
   ]
  },
  {
   "cell_type": "code",
   "execution_count": 11,
   "id": "e3d9c3d3",
   "metadata": {
    "execution": {
     "iopub.execute_input": "2022-03-19T18:11:06.257403Z",
     "iopub.status.busy": "2022-03-19T18:11:06.256917Z",
     "iopub.status.idle": "2022-03-19T18:11:06.272923Z",
     "shell.execute_reply": "2022-03-19T18:11:06.272538Z"
    },
    "papermill": {
     "duration": 0.030599,
     "end_time": "2022-03-19T18:11:06.273017",
     "exception": false,
     "start_time": "2022-03-19T18:11:06.242418",
     "status": "completed"
    },
    "tags": []
   },
   "outputs": [],
   "source": [
    "# global_x_transform_func = lambda x: normalize(x.to(torch.get_default_dtype()), \"unit_power\") # unit_power, unit_mag\n",
    "# global_x_transform_func = lambda x: normalize(x, \"unit_power\") # unit_power, unit_mag"
   ]
  },
  {
   "cell_type": "code",
   "execution_count": 12,
   "id": "acb78fd2",
   "metadata": {
    "execution": {
     "iopub.execute_input": "2022-03-19T18:11:06.311285Z",
     "iopub.status.busy": "2022-03-19T18:11:06.311020Z",
     "iopub.status.idle": "2022-03-19T18:11:06.325809Z",
     "shell.execute_reply": "2022-03-19T18:11:06.325414Z"
    },
    "papermill": {
     "duration": 0.034621,
     "end_time": "2022-03-19T18:11:06.325899",
     "exception": false,
     "start_time": "2022-03-19T18:11:06.291278",
     "status": "completed"
    },
    "tags": []
   },
   "outputs": [],
   "source": [
    "def add_dataset(\n",
    "    labels,\n",
    "    domains,\n",
    "    pickle_path,\n",
    "    x_transforms,\n",
    "    episode_transforms,\n",
    "    domain_prefix,\n",
    "    num_examples_per_domain_per_label,\n",
    "    source_or_target_dataset:str,\n",
    "    iterator_seed=p.seed,\n",
    "    dataset_seed=p.dataset_seed,\n",
    "    n_shot=p.n_shot,\n",
    "    n_way=p.n_way,\n",
    "    n_query=p.n_query,\n",
    "    train_val_test_k_factors=(p.train_k_factor,p.val_k_factor,p.test_k_factor),\n",
    "):\n",
    "   \n",
    "    if x_transforms == []: x_transform = None\n",
    "    else: x_transform = get_chained_transform(x_transforms)\n",
    "    \n",
    "    if episode_transforms == []: episode_transform = None\n",
    "    else: raise Exception(\"episode_transforms not implemented\")\n",
    "    \n",
    "    episode_transform = lambda tup, _prefix=domain_prefix: (_prefix + str(tup[0]), tup[1])\n",
    "\n",
    "\n",
    "    eaf = Episodic_Accessor_Factory(\n",
    "        labels=labels,\n",
    "        domains=domains,\n",
    "        num_examples_per_domain_per_label=num_examples_per_domain_per_label,\n",
    "        iterator_seed=iterator_seed,\n",
    "        dataset_seed=dataset_seed,\n",
    "        n_shot=n_shot,\n",
    "        n_way=n_way,\n",
    "        n_query=n_query,\n",
    "        train_val_test_k_factors=train_val_test_k_factors,\n",
    "        pickle_path=pickle_path,\n",
    "        x_transform_func=x_transform,\n",
    "    )\n",
    "\n",
    "    train, val, test = eaf.get_train(), eaf.get_val(), eaf.get_test()\n",
    "    train = Lazy_Iterable_Wrapper(train, episode_transform)\n",
    "    val = Lazy_Iterable_Wrapper(val, episode_transform)\n",
    "    test = Lazy_Iterable_Wrapper(test, episode_transform)\n",
    "\n",
    "    if source_or_target_dataset==\"source\":\n",
    "        train_original_source.append(train)\n",
    "        val_original_source.append(val)\n",
    "        test_original_source.append(test)\n",
    "\n",
    "        p.domains_source.extend(\n",
    "            [domain_prefix + str(u) for u in domains]\n",
    "        )\n",
    "    elif source_or_target_dataset==\"target\":\n",
    "        train_original_target.append(train)\n",
    "        val_original_target.append(val)\n",
    "        test_original_target.append(test)\n",
    "        p.domains_target.extend(\n",
    "            [domain_prefix + str(u) for u in domains]\n",
    "        )\n",
    "    else:\n",
    "        raise Exception(f\"invalid source_or_target_dataset: {source_or_target_dataset}\")\n",
    "    "
   ]
  },
  {
   "cell_type": "code",
   "execution_count": 13,
   "id": "fe266617",
   "metadata": {
    "execution": {
     "iopub.execute_input": "2022-03-19T18:11:06.358457Z",
     "iopub.status.busy": "2022-03-19T18:11:06.358213Z",
     "iopub.status.idle": "2022-03-19T18:11:55.078589Z",
     "shell.execute_reply": "2022-03-19T18:11:55.078185Z"
    },
    "papermill": {
     "duration": 48.734849,
     "end_time": "2022-03-19T18:11:55.078695",
     "exception": false,
     "start_time": "2022-03-19T18:11:06.343846",
     "status": "completed"
    },
    "tags": []
   },
   "outputs": [],
   "source": [
    "for ds in p.datasets:\n",
    "    add_dataset(**ds)"
   ]
  },
  {
   "cell_type": "code",
   "execution_count": 14,
   "id": "b90d65ac",
   "metadata": {
    "execution": {
     "iopub.execute_input": "2022-03-19T18:11:55.111810Z",
     "iopub.status.busy": "2022-03-19T18:11:55.111552Z",
     "iopub.status.idle": "2022-03-19T18:11:55.126048Z",
     "shell.execute_reply": "2022-03-19T18:11:55.126400Z"
    },
    "papermill": {
     "duration": 0.029875,
     "end_time": "2022-03-19T18:11:55.126509",
     "exception": false,
     "start_time": "2022-03-19T18:11:55.096634",
     "status": "completed"
    },
    "tags": []
   },
   "outputs": [],
   "source": [
    "# from steves_utils.CORES.utils import (\n",
    "#     ALL_NODES,\n",
    "#     ALL_NODES_MINIMUM_1000_EXAMPLES,\n",
    "#     ALL_DAYS\n",
    "# )\n",
    "\n",
    "# add_dataset(\n",
    "#     labels=ALL_NODES,\n",
    "#     domains = ALL_DAYS,\n",
    "#     num_examples_per_domain_per_label=100,\n",
    "#     pickle_path=os.path.join(get_datasets_base_path(), \"cores.stratified_ds.2022A.pkl\"),\n",
    "#     source_or_target_dataset=\"target\",\n",
    "#     x_transform_func=global_x_transform_func,\n",
    "#     domain_modifier=lambda u: f\"cores_{u}\"\n",
    "# )"
   ]
  },
  {
   "cell_type": "code",
   "execution_count": 15,
   "id": "76db484d",
   "metadata": {
    "execution": {
     "iopub.execute_input": "2022-03-19T18:11:55.159840Z",
     "iopub.status.busy": "2022-03-19T18:11:55.159586Z",
     "iopub.status.idle": "2022-03-19T18:11:55.170411Z",
     "shell.execute_reply": "2022-03-19T18:11:55.170021Z"
    },
    "papermill": {
     "duration": 0.026009,
     "end_time": "2022-03-19T18:11:55.170502",
     "exception": false,
     "start_time": "2022-03-19T18:11:55.144493",
     "status": "completed"
    },
    "tags": []
   },
   "outputs": [],
   "source": [
    "# from steves_utils.ORACLE.utils_v2 import (\n",
    "#     ALL_DISTANCES_FEET,\n",
    "#     ALL_RUNS,\n",
    "#     ALL_SERIAL_NUMBERS,\n",
    "# )\n",
    "\n",
    "\n",
    "# add_dataset(\n",
    "#     labels=ALL_SERIAL_NUMBERS,\n",
    "#     domains = list(set(ALL_DISTANCES_FEET) - {2,62}),\n",
    "#     num_examples_per_domain_per_label=100,\n",
    "#     pickle_path=os.path.join(get_datasets_base_path(), \"oracle.Run2_framed_2000Examples_stratified_ds.2022A.pkl\"),\n",
    "#     source_or_target_dataset=\"source\",\n",
    "#     x_transform_func=global_x_transform_func,\n",
    "#     domain_modifier=lambda u: f\"oracle1_{u}\"\n",
    "# )\n"
   ]
  },
  {
   "cell_type": "code",
   "execution_count": 16,
   "id": "97dea9d2",
   "metadata": {
    "execution": {
     "iopub.execute_input": "2022-03-19T18:11:55.202254Z",
     "iopub.status.busy": "2022-03-19T18:11:55.202009Z",
     "iopub.status.idle": "2022-03-19T18:11:55.217520Z",
     "shell.execute_reply": "2022-03-19T18:11:55.217872Z"
    },
    "papermill": {
     "duration": 0.031414,
     "end_time": "2022-03-19T18:11:55.217980",
     "exception": false,
     "start_time": "2022-03-19T18:11:55.186566",
     "status": "completed"
    },
    "tags": []
   },
   "outputs": [],
   "source": [
    "# from steves_utils.ORACLE.utils_v2 import (\n",
    "#     ALL_DISTANCES_FEET,\n",
    "#     ALL_RUNS,\n",
    "#     ALL_SERIAL_NUMBERS,\n",
    "# )\n",
    "\n",
    "\n",
    "# add_dataset(\n",
    "#     labels=ALL_SERIAL_NUMBERS,\n",
    "#     domains = list(set(ALL_DISTANCES_FEET) - {2,62,56}),\n",
    "#     num_examples_per_domain_per_label=100,\n",
    "#     pickle_path=os.path.join(get_datasets_base_path(), \"oracle.Run2_framed_2000Examples_stratified_ds.2022A.pkl\"),\n",
    "#     source_or_target_dataset=\"source\",\n",
    "#     x_transform_func=global_x_transform_func,\n",
    "#     domain_modifier=lambda u: f\"oracle2_{u}\"\n",
    "# )"
   ]
  },
  {
   "cell_type": "code",
   "execution_count": 17,
   "id": "6f289866",
   "metadata": {
    "execution": {
     "iopub.execute_input": "2022-03-19T18:11:55.250480Z",
     "iopub.status.busy": "2022-03-19T18:11:55.249985Z",
     "iopub.status.idle": "2022-03-19T18:11:55.261353Z",
     "shell.execute_reply": "2022-03-19T18:11:55.260857Z"
    },
    "papermill": {
     "duration": 0.027249,
     "end_time": "2022-03-19T18:11:55.261456",
     "exception": false,
     "start_time": "2022-03-19T18:11:55.234207",
     "status": "completed"
    },
    "tags": []
   },
   "outputs": [],
   "source": [
    "# add_dataset(\n",
    "#     labels=list(range(19)),\n",
    "#     domains = [0,1,2],\n",
    "#     num_examples_per_domain_per_label=100,\n",
    "#     pickle_path=os.path.join(get_datasets_base_path(), \"metehan.stratified_ds.2022A.pkl\"),\n",
    "#     source_or_target_dataset=\"target\",\n",
    "#     x_transform_func=global_x_transform_func,\n",
    "#     domain_modifier=lambda u: f\"met_{u}\"\n",
    "# )"
   ]
  },
  {
   "cell_type": "code",
   "execution_count": 18,
   "id": "86a863c3",
   "metadata": {
    "execution": {
     "iopub.execute_input": "2022-03-19T18:11:55.293826Z",
     "iopub.status.busy": "2022-03-19T18:11:55.293552Z",
     "iopub.status.idle": "2022-03-19T18:11:55.307683Z",
     "shell.execute_reply": "2022-03-19T18:11:55.307270Z"
    },
    "papermill": {
     "duration": 0.02988,
     "end_time": "2022-03-19T18:11:55.307789",
     "exception": false,
     "start_time": "2022-03-19T18:11:55.277909",
     "status": "completed"
    },
    "tags": []
   },
   "outputs": [],
   "source": [
    "# # from steves_utils.wisig.utils import (\n",
    "# #     ALL_NODES_MINIMUM_100_EXAMPLES,\n",
    "# #     ALL_NODES_MINIMUM_500_EXAMPLES,\n",
    "# #     ALL_NODES_MINIMUM_1000_EXAMPLES,\n",
    "# #     ALL_DAYS\n",
    "# # )\n",
    "\n",
    "# import steves_utils.wisig.utils as wisig\n",
    "\n",
    "\n",
    "# add_dataset(\n",
    "#     labels=wisig.ALL_NODES_MINIMUM_100_EXAMPLES,\n",
    "#     domains = wisig.ALL_DAYS,\n",
    "#     num_examples_per_domain_per_label=100,\n",
    "#     pickle_path=os.path.join(get_datasets_base_path(), \"wisig.node3-19.stratified_ds.2022A.pkl\"),\n",
    "#     source_or_target_dataset=\"target\",\n",
    "#     x_transform_func=global_x_transform_func,\n",
    "#     domain_modifier=lambda u: f\"wisig_{u}\"\n",
    "# )"
   ]
  },
  {
   "cell_type": "code",
   "execution_count": 19,
   "id": "fd5442bc",
   "metadata": {
    "execution": {
     "iopub.execute_input": "2022-03-19T18:11:55.344038Z",
     "iopub.status.busy": "2022-03-19T18:11:55.343672Z",
     "iopub.status.idle": "2022-03-19T18:11:55.355660Z",
     "shell.execute_reply": "2022-03-19T18:11:55.355329Z"
    },
    "papermill": {
     "duration": 0.028786,
     "end_time": "2022-03-19T18:11:55.355747",
     "exception": false,
     "start_time": "2022-03-19T18:11:55.326961",
     "status": "completed"
    },
    "tags": []
   },
   "outputs": [],
   "source": [
    "###################################\n",
    "# Build the dataset\n",
    "###################################\n",
    "train_original_source = Iterable_Aggregator(train_original_source, p.seed)\n",
    "val_original_source = Iterable_Aggregator(val_original_source, p.seed)\n",
    "test_original_source = Iterable_Aggregator(test_original_source, p.seed)\n",
    "\n",
    "\n",
    "train_original_target = Iterable_Aggregator(train_original_target, p.seed)\n",
    "val_original_target = Iterable_Aggregator(val_original_target, p.seed)\n",
    "test_original_target = Iterable_Aggregator(test_original_target, p.seed)\n",
    "\n",
    "# For CNN We only use X and Y. And we only train on the source.\n",
    "# Properly form the data using a transform lambda and Lazy_Iterable_Wrapper. Finally wrap them in a dataloader\n",
    "\n",
    "transform_lambda = lambda ex: ex[1] # Original is (<domain>, <episode>) so we strip down to episode only\n",
    "\n",
    "train_processed_source = Lazy_Iterable_Wrapper(train_original_source, transform_lambda)\n",
    "val_processed_source   = Lazy_Iterable_Wrapper(val_original_source, transform_lambda)\n",
    "test_processed_source  = Lazy_Iterable_Wrapper(test_original_source, transform_lambda)\n",
    "\n",
    "train_processed_target = Lazy_Iterable_Wrapper(train_original_target, transform_lambda)\n",
    "val_processed_target   = Lazy_Iterable_Wrapper(val_original_target, transform_lambda)\n",
    "test_processed_target  = Lazy_Iterable_Wrapper(test_original_target, transform_lambda)\n",
    "\n",
    "datasets = EasyDict({\n",
    "    \"source\": {\n",
    "        \"original\": {\"train\":train_original_source, \"val\":val_original_source, \"test\":test_original_source},\n",
    "        \"processed\": {\"train\":train_processed_source, \"val\":val_processed_source, \"test\":test_processed_source}\n",
    "    },\n",
    "    \"target\": {\n",
    "        \"original\": {\"train\":train_original_target, \"val\":val_original_target, \"test\":test_original_target},\n",
    "        \"processed\": {\"train\":train_processed_target, \"val\":val_processed_target, \"test\":test_processed_target}\n",
    "    },\n",
    "})"
   ]
  },
  {
   "cell_type": "code",
   "execution_count": 20,
   "id": "5b3c01fc",
   "metadata": {
    "execution": {
     "iopub.execute_input": "2022-03-19T18:11:55.390562Z",
     "iopub.status.busy": "2022-03-19T18:11:55.390161Z",
     "iopub.status.idle": "2022-03-19T18:12:03.898337Z",
     "shell.execute_reply": "2022-03-19T18:12:03.898734Z"
    },
    "papermill": {
     "duration": 8.524259,
     "end_time": "2022-03-19T18:12:03.898872",
     "exception": false,
     "start_time": "2022-03-19T18:11:55.374613",
     "status": "completed"
    },
    "tags": []
   },
   "outputs": [
    {
     "name": "stdout",
     "output_type": "stream",
     "text": [
      "{'O_38', 'O_32', 'O_44', 'O_14', 'O_50', 'O_26', 'O_20', 'O_8'}\n"
     ]
    },
    {
     "name": "stdout",
     "output_type": "stream",
     "text": [
      "{'W_1', 'C_4', 'W_3', 'C_2', 'C_5', 'C_1', 'W_2', 'C_3', 'W_4'}\n"
     ]
    },
    {
     "name": "stdout",
     "output_type": "stream",
     "text": [
      "tensor([[[-0.0924,  1.1552, -0.1109,  ..., -0.9518, -0.2588, -0.5545],\n",
      "         [-0.6376, -0.2957,  1.0535,  ...,  0.2403, -1.4139, -0.4713]],\n",
      "\n",
      "        [[-0.4449,  0.6767,  0.5469,  ..., -1.2421, -1.1679, -0.1112],\n",
      "         [-1.1216, -0.3152,  1.1030,  ...,  0.4078, -0.1483,  1.2050]],\n",
      "\n",
      "        [[ 0.6507, -0.3532, -0.7623,  ...,  0.7901,  1.3665,  0.3254],\n",
      "         [ 0.8273,  0.6786, -0.8831,  ..., -0.7530,  0.4648, -1.1527]],\n",
      "\n",
      "        ...,\n",
      "\n",
      "        [[ 0.9828, -0.2394, -1.1718,  ...,  0.6363,  0.9828, -0.6489],\n",
      "         [ 0.5544,  0.7119, -0.3717,  ..., -0.9702, -0.6111, -1.1214]],\n",
      "\n",
      "        [[ 0.0252, -0.9847,  0.2840,  ...,  0.8963,  0.4671,  1.0667],\n",
      "         [ 0.7890,  0.4229, -1.1298,  ..., -0.1199,  1.2624, -0.2272]],\n",
      "\n",
      "        [[ 0.4796,  0.3281, -0.7194,  ..., -0.4544,  1.2306,  1.0223],\n",
      "         [-0.4102,  1.1043, -0.0316,  ..., -1.0728, -0.0568, -0.2461]]])\n"
     ]
    }
   ],
   "source": [
    "from steves_utils.transforms import get_average_magnitude, get_average_power\n",
    "\n",
    "print(set([u for u,_ in val_original_source]))\n",
    "print(set([u for u,_ in val_original_target]))\n",
    "\n",
    "s_x, s_y, q_x, q_y, _ = next(iter(train_processed_source))\n",
    "print(s_x)\n",
    "\n",
    "# for ds in [\n",
    "#     train_processed_source,\n",
    "#     val_processed_source,\n",
    "#     test_processed_source,\n",
    "#     train_processed_target,\n",
    "#     val_processed_target,\n",
    "#     test_processed_target\n",
    "# ]:\n",
    "#     for s_x, s_y, q_x, q_y, _ in ds:\n",
    "#         for X in (s_x, q_x):\n",
    "#             for x in X:\n",
    "#                 assert np.isclose(get_average_magnitude(x.numpy()), 1.0)\n",
    "#                 assert np.isclose(get_average_power(x.numpy()), 1.0)\n",
    "                "
   ]
  },
  {
   "cell_type": "code",
   "execution_count": 21,
   "id": "bbdacba1",
   "metadata": {
    "execution": {
     "iopub.execute_input": "2022-03-19T18:12:03.938864Z",
     "iopub.status.busy": "2022-03-19T18:12:03.938364Z",
     "iopub.status.idle": "2022-03-19T18:12:03.997053Z",
     "shell.execute_reply": "2022-03-19T18:12:03.996609Z"
    },
    "papermill": {
     "duration": 0.07637,
     "end_time": "2022-03-19T18:12:03.997165",
     "exception": false,
     "start_time": "2022-03-19T18:12:03.920795",
     "status": "completed"
    },
    "tags": []
   },
   "outputs": [
    {
     "name": "stdout",
     "output_type": "stream",
     "text": [
      "(2, 256)\n"
     ]
    }
   ],
   "source": [
    "###################################\n",
    "# Build the model\n",
    "###################################\n",
    "# easfsl only wants a tuple for the shape\n",
    "model = Steves_Prototypical_Network(x_net, device=p.device, x_shape=tuple(p.x_shape))\n",
    "optimizer = Adam(params=model.parameters(), lr=p.lr)"
   ]
  },
  {
   "cell_type": "code",
   "execution_count": 22,
   "id": "22b39ac5",
   "metadata": {
    "execution": {
     "iopub.execute_input": "2022-03-19T18:12:04.035253Z",
     "iopub.status.busy": "2022-03-19T18:12:04.034985Z",
     "iopub.status.idle": "2022-03-19T18:33:44.362836Z",
     "shell.execute_reply": "2022-03-19T18:33:44.362603Z"
    },
    "papermill": {
     "duration": 1300.345724,
     "end_time": "2022-03-19T18:33:44.362895",
     "exception": false,
     "start_time": "2022-03-19T18:12:04.017171",
     "status": "completed"
    },
    "tags": []
   },
   "outputs": [
    {
     "name": "stdout",
     "output_type": "stream",
     "text": [
      "epoch: 1, [batch: 1 / 6720], examples_per_second: 50.5844, train_label_loss: 2.9921, \n"
     ]
    },
    {
     "name": "stdout",
     "output_type": "stream",
     "text": [
      "epoch: 1, [batch: 672 / 6720], examples_per_second: 3270.5942, train_label_loss: 1.0158, \n"
     ]
    },
    {
     "name": "stdout",
     "output_type": "stream",
     "text": [
      "epoch: 1, [batch: 1344 / 6720], examples_per_second: 3268.4256, train_label_loss: 0.6807, \n"
     ]
    },
    {
     "name": "stdout",
     "output_type": "stream",
     "text": [
      "epoch: 1, [batch: 2016 / 6720], examples_per_second: 3283.9215, train_label_loss: 0.6248, \n"
     ]
    },
    {
     "name": "stdout",
     "output_type": "stream",
     "text": [
      "epoch: 1, [batch: 2688 / 6720], examples_per_second: 3263.2370, train_label_loss: 0.6738, \n"
     ]
    },
    {
     "name": "stdout",
     "output_type": "stream",
     "text": [
      "epoch: 1, [batch: 3360 / 6720], examples_per_second: 3281.1533, train_label_loss: 0.7565, \n"
     ]
    },
    {
     "name": "stdout",
     "output_type": "stream",
     "text": [
      "epoch: 1, [batch: 4032 / 6720], examples_per_second: 3271.5130, train_label_loss: 0.4797, \n"
     ]
    },
    {
     "name": "stdout",
     "output_type": "stream",
     "text": [
      "epoch: 1, [batch: 4704 / 6720], examples_per_second: 3266.5012, train_label_loss: 0.3344, \n"
     ]
    },
    {
     "name": "stdout",
     "output_type": "stream",
     "text": [
      "epoch: 1, [batch: 5376 / 6720], examples_per_second: 3280.2727, train_label_loss: 0.7270, \n"
     ]
    },
    {
     "name": "stdout",
     "output_type": "stream",
     "text": [
      "epoch: 1, [batch: 6048 / 6720], examples_per_second: 3289.6065, train_label_loss: 0.3358, \n"
     ]
    },
    {
     "name": "stdout",
     "output_type": "stream",
     "text": [
      "=============================================================\n",
      "epoch: 1, source_val_acc_label: 0.6296, target_val_acc_label: 0.5356, source_val_label_loss: 44.2772, target_val_label_loss: 383.8529, \n",
      "=============================================================\n"
     ]
    },
    {
     "name": "stdout",
     "output_type": "stream",
     "text": [
      "New best\n"
     ]
    },
    {
     "name": "stdout",
     "output_type": "stream",
     "text": [
      "epoch: 2, [batch: 1 / 6720], examples_per_second: 4.1098, train_label_loss: 65.1072, \n"
     ]
    },
    {
     "name": "stdout",
     "output_type": "stream",
     "text": [
      "epoch: 2, [batch: 672 / 6720], examples_per_second: 3269.5139, train_label_loss: 0.5991, \n"
     ]
    },
    {
     "name": "stdout",
     "output_type": "stream",
     "text": [
      "epoch: 2, [batch: 1344 / 6720], examples_per_second: 3274.6926, train_label_loss: 0.3851, \n"
     ]
    },
    {
     "name": "stdout",
     "output_type": "stream",
     "text": [
      "epoch: 2, [batch: 2016 / 6720], examples_per_second: 3295.1893, train_label_loss: 1.0863, \n"
     ]
    },
    {
     "name": "stdout",
     "output_type": "stream",
     "text": [
      "epoch: 2, [batch: 2688 / 6720], examples_per_second: 3296.0296, train_label_loss: 0.7638, \n"
     ]
    },
    {
     "name": "stdout",
     "output_type": "stream",
     "text": [
      "epoch: 2, [batch: 3360 / 6720], examples_per_second: 3304.5833, train_label_loss: 0.3740, \n"
     ]
    },
    {
     "name": "stdout",
     "output_type": "stream",
     "text": [
      "epoch: 2, [batch: 4032 / 6720], examples_per_second: 3305.3145, train_label_loss: 0.8196, \n"
     ]
    },
    {
     "name": "stdout",
     "output_type": "stream",
     "text": [
      "epoch: 2, [batch: 4704 / 6720], examples_per_second: 3287.4645, train_label_loss: 0.5453, \n"
     ]
    },
    {
     "name": "stdout",
     "output_type": "stream",
     "text": [
      "epoch: 2, [batch: 5376 / 6720], examples_per_second: 3307.9404, train_label_loss: 0.6881, \n"
     ]
    },
    {
     "name": "stdout",
     "output_type": "stream",
     "text": [
      "epoch: 2, [batch: 6048 / 6720], examples_per_second: 3244.3762, train_label_loss: 0.4602, \n"
     ]
    },
    {
     "name": "stdout",
     "output_type": "stream",
     "text": [
      "=============================================================\n",
      "epoch: 2, source_val_acc_label: 0.8190, target_val_acc_label: 0.6166, source_val_label_loss: 0.5071, target_val_label_loss: 95.5277, \n",
      "=============================================================\n"
     ]
    },
    {
     "name": "stdout",
     "output_type": "stream",
     "text": [
      "New best\n"
     ]
    },
    {
     "name": "stdout",
     "output_type": "stream",
     "text": [
      "epoch: 3, [batch: 1 / 6720], examples_per_second: 4.1461, train_label_loss: 0.5972, \n"
     ]
    },
    {
     "name": "stdout",
     "output_type": "stream",
     "text": [
      "epoch: 3, [batch: 672 / 6720], examples_per_second: 3259.9648, train_label_loss: 0.1734, \n"
     ]
    },
    {
     "name": "stdout",
     "output_type": "stream",
     "text": [
      "epoch: 3, [batch: 1344 / 6720], examples_per_second: 3291.4604, train_label_loss: 0.4084, \n"
     ]
    },
    {
     "name": "stdout",
     "output_type": "stream",
     "text": [
      "epoch: 3, [batch: 2016 / 6720], examples_per_second: 3301.8974, train_label_loss: 0.1941, \n"
     ]
    },
    {
     "name": "stdout",
     "output_type": "stream",
     "text": [
      "epoch: 3, [batch: 2688 / 6720], examples_per_second: 3294.6170, train_label_loss: 0.4563, \n"
     ]
    },
    {
     "name": "stdout",
     "output_type": "stream",
     "text": [
      "epoch: 3, [batch: 3360 / 6720], examples_per_second: 3297.0373, train_label_loss: 1.0110, \n"
     ]
    },
    {
     "name": "stdout",
     "output_type": "stream",
     "text": [
      "epoch: 3, [batch: 4032 / 6720], examples_per_second: 3181.5824, train_label_loss: 0.5761, \n"
     ]
    },
    {
     "name": "stdout",
     "output_type": "stream",
     "text": [
      "epoch: 3, [batch: 4704 / 6720], examples_per_second: 3265.1301, train_label_loss: 0.1827, \n"
     ]
    },
    {
     "name": "stdout",
     "output_type": "stream",
     "text": [
      "epoch: 3, [batch: 5376 / 6720], examples_per_second: 3287.5650, train_label_loss: 0.3678, \n"
     ]
    },
    {
     "name": "stdout",
     "output_type": "stream",
     "text": [
      "epoch: 3, [batch: 6048 / 6720], examples_per_second: 3250.2004, train_label_loss: 0.1589, \n"
     ]
    },
    {
     "name": "stdout",
     "output_type": "stream",
     "text": [
      "=============================================================\n",
      "epoch: 3, source_val_acc_label: 0.8510, target_val_acc_label: 0.6267, source_val_label_loss: 0.4136, target_val_label_loss: 173.1833, \n",
      "=============================================================\n"
     ]
    },
    {
     "name": "stdout",
     "output_type": "stream",
     "text": [
      "New best\n"
     ]
    },
    {
     "name": "stdout",
     "output_type": "stream",
     "text": [
      "epoch: 4, [batch: 1 / 6720], examples_per_second: 4.0597, train_label_loss: 0.4532, \n"
     ]
    },
    {
     "name": "stdout",
     "output_type": "stream",
     "text": [
      "epoch: 4, [batch: 672 / 6720], examples_per_second: 3283.0697, train_label_loss: 0.1785, \n"
     ]
    },
    {
     "name": "stdout",
     "output_type": "stream",
     "text": [
      "epoch: 4, [batch: 1344 / 6720], examples_per_second: 3237.3349, train_label_loss: 0.7908, \n"
     ]
    },
    {
     "name": "stdout",
     "output_type": "stream",
     "text": [
      "epoch: 4, [batch: 2016 / 6720], examples_per_second: 3303.1793, train_label_loss: 0.4278, \n"
     ]
    },
    {
     "name": "stdout",
     "output_type": "stream",
     "text": [
      "epoch: 4, [batch: 2688 / 6720], examples_per_second: 3297.5672, train_label_loss: 0.5506, \n"
     ]
    },
    {
     "name": "stdout",
     "output_type": "stream",
     "text": [
      "epoch: 4, [batch: 3360 / 6720], examples_per_second: 3280.5792, train_label_loss: 0.2550, \n"
     ]
    },
    {
     "name": "stdout",
     "output_type": "stream",
     "text": [
      "epoch: 4, [batch: 4032 / 6720], examples_per_second: 3303.6384, train_label_loss: 0.6794, \n"
     ]
    },
    {
     "name": "stdout",
     "output_type": "stream",
     "text": [
      "epoch: 4, [batch: 4704 / 6720], examples_per_second: 3293.1490, train_label_loss: 0.4081, \n"
     ]
    },
    {
     "name": "stdout",
     "output_type": "stream",
     "text": [
      "epoch: 4, [batch: 5376 / 6720], examples_per_second: 3301.1832, train_label_loss: 0.3568, \n"
     ]
    },
    {
     "name": "stdout",
     "output_type": "stream",
     "text": [
      "epoch: 4, [batch: 6048 / 6720], examples_per_second: 3298.6414, train_label_loss: 0.2526, \n"
     ]
    },
    {
     "name": "stdout",
     "output_type": "stream",
     "text": [
      "=============================================================\n",
      "epoch: 4, source_val_acc_label: 0.8463, target_val_acc_label: 0.6117, source_val_label_loss: 0.4185, target_val_label_loss: 204.9083, \n",
      "=============================================================\n"
     ]
    },
    {
     "name": "stdout",
     "output_type": "stream",
     "text": [
      "epoch: 5, [batch: 1 / 6720], examples_per_second: 4.1384, train_label_loss: 0.0966, \n"
     ]
    },
    {
     "name": "stdout",
     "output_type": "stream",
     "text": [
      "epoch: 5, [batch: 672 / 6720], examples_per_second: 3275.5068, train_label_loss: 0.2369, \n"
     ]
    },
    {
     "name": "stdout",
     "output_type": "stream",
     "text": [
      "epoch: 5, [batch: 1344 / 6720], examples_per_second: 3297.5982, train_label_loss: 0.5097, \n"
     ]
    },
    {
     "name": "stdout",
     "output_type": "stream",
     "text": [
      "epoch: 5, [batch: 2016 / 6720], examples_per_second: 3296.9187, train_label_loss: 0.6737, \n"
     ]
    },
    {
     "name": "stdout",
     "output_type": "stream",
     "text": [
      "epoch: 5, [batch: 2688 / 6720], examples_per_second: 3294.3761, train_label_loss: 0.2777, \n"
     ]
    },
    {
     "name": "stdout",
     "output_type": "stream",
     "text": [
      "epoch: 5, [batch: 3360 / 6720], examples_per_second: 3306.0311, train_label_loss: 0.1257, \n"
     ]
    },
    {
     "name": "stdout",
     "output_type": "stream",
     "text": [
      "epoch: 5, [batch: 4032 / 6720], examples_per_second: 3309.9828, train_label_loss: 0.2553, \n"
     ]
    },
    {
     "name": "stdout",
     "output_type": "stream",
     "text": [
      "epoch: 5, [batch: 4704 / 6720], examples_per_second: 3295.0760, train_label_loss: 0.1488, \n"
     ]
    },
    {
     "name": "stdout",
     "output_type": "stream",
     "text": [
      "epoch: 5, [batch: 5376 / 6720], examples_per_second: 3309.4357, train_label_loss: 0.4926, \n"
     ]
    },
    {
     "name": "stdout",
     "output_type": "stream",
     "text": [
      "epoch: 5, [batch: 6048 / 6720], examples_per_second: 3308.1520, train_label_loss: 0.2763, \n"
     ]
    },
    {
     "name": "stdout",
     "output_type": "stream",
     "text": [
      "=============================================================\n",
      "epoch: 5, source_val_acc_label: 0.8683, target_val_acc_label: 0.6242, source_val_label_loss: 0.3714, target_val_label_loss: 230.1054, \n",
      "=============================================================\n"
     ]
    },
    {
     "name": "stdout",
     "output_type": "stream",
     "text": [
      "epoch: 6, [batch: 1 / 6720], examples_per_second: 4.1165, train_label_loss: 0.3576, \n"
     ]
    },
    {
     "name": "stdout",
     "output_type": "stream",
     "text": [
      "epoch: 6, [batch: 672 / 6720], examples_per_second: 3212.6037, train_label_loss: 0.6232, \n"
     ]
    },
    {
     "name": "stdout",
     "output_type": "stream",
     "text": [
      "epoch: 6, [batch: 1344 / 6720], examples_per_second: 3318.8010, train_label_loss: 0.5299, \n"
     ]
    },
    {
     "name": "stdout",
     "output_type": "stream",
     "text": [
      "epoch: 6, [batch: 2016 / 6720], examples_per_second: 3328.0580, train_label_loss: 0.1526, \n"
     ]
    },
    {
     "name": "stdout",
     "output_type": "stream",
     "text": [
      "epoch: 6, [batch: 2688 / 6720], examples_per_second: 3320.6435, train_label_loss: 0.1103, \n"
     ]
    },
    {
     "name": "stdout",
     "output_type": "stream",
     "text": [
      "epoch: 6, [batch: 3360 / 6720], examples_per_second: 3334.2169, train_label_loss: 0.1774, \n"
     ]
    },
    {
     "name": "stdout",
     "output_type": "stream",
     "text": [
      "epoch: 6, [batch: 4032 / 6720], examples_per_second: 3318.4207, train_label_loss: 0.4554, \n"
     ]
    },
    {
     "name": "stdout",
     "output_type": "stream",
     "text": [
      "epoch: 6, [batch: 4704 / 6720], examples_per_second: 3317.8950, train_label_loss: 0.3505, \n"
     ]
    },
    {
     "name": "stdout",
     "output_type": "stream",
     "text": [
      "epoch: 6, [batch: 5376 / 6720], examples_per_second: 3312.4496, train_label_loss: 0.3251, \n"
     ]
    },
    {
     "name": "stdout",
     "output_type": "stream",
     "text": [
      "epoch: 6, [batch: 6048 / 6720], examples_per_second: 3295.6054, train_label_loss: 0.1617, \n"
     ]
    },
    {
     "name": "stdout",
     "output_type": "stream",
     "text": [
      "=============================================================\n",
      "epoch: 6, source_val_acc_label: 0.8803, target_val_acc_label: 0.6240, source_val_label_loss: 0.3298, target_val_label_loss: 258.4110, \n",
      "=============================================================\n"
     ]
    },
    {
     "name": "stdout",
     "output_type": "stream",
     "text": [
      "epoch: 7, [batch: 1 / 6720], examples_per_second: 4.1486, train_label_loss: 0.0737, \n"
     ]
    },
    {
     "name": "stdout",
     "output_type": "stream",
     "text": [
      "epoch: 7, [batch: 672 / 6720], examples_per_second: 3281.4188, train_label_loss: 0.4696, \n"
     ]
    },
    {
     "name": "stdout",
     "output_type": "stream",
     "text": [
      "epoch: 7, [batch: 1344 / 6720], examples_per_second: 3321.9512, train_label_loss: 0.1634, \n"
     ]
    },
    {
     "name": "stdout",
     "output_type": "stream",
     "text": [
      "epoch: 7, [batch: 2016 / 6720], examples_per_second: 3318.4894, train_label_loss: 0.3702, \n"
     ]
    },
    {
     "name": "stdout",
     "output_type": "stream",
     "text": [
      "epoch: 7, [batch: 2688 / 6720], examples_per_second: 3319.0575, train_label_loss: 0.3838, \n"
     ]
    },
    {
     "name": "stdout",
     "output_type": "stream",
     "text": [
      "epoch: 7, [batch: 3360 / 6720], examples_per_second: 3320.1951, train_label_loss: 0.6790, \n"
     ]
    },
    {
     "name": "stdout",
     "output_type": "stream",
     "text": [
      "epoch: 7, [batch: 4032 / 6720], examples_per_second: 3329.6714, train_label_loss: 0.2008, \n"
     ]
    },
    {
     "name": "stdout",
     "output_type": "stream",
     "text": [
      "epoch: 7, [batch: 4704 / 6720], examples_per_second: 3318.0268, train_label_loss: 0.2510, \n"
     ]
    },
    {
     "name": "stdout",
     "output_type": "stream",
     "text": [
      "epoch: 7, [batch: 5376 / 6720], examples_per_second: 3313.8458, train_label_loss: 0.1808, \n"
     ]
    },
    {
     "name": "stdout",
     "output_type": "stream",
     "text": [
      "epoch: 7, [batch: 6048 / 6720], examples_per_second: 3310.9147, train_label_loss: 0.1976, \n"
     ]
    },
    {
     "name": "stdout",
     "output_type": "stream",
     "text": [
      "=============================================================\n",
      "epoch: 7, source_val_acc_label: 0.8460, target_val_acc_label: 0.6137, source_val_label_loss: 0.4146, target_val_label_loss: 289.6759, \n",
      "=============================================================\n"
     ]
    },
    {
     "name": "stdout",
     "output_type": "stream",
     "text": [
      "Patience (3) exhausted\n"
     ]
    }
   ],
   "source": [
    "###################################\n",
    "# train\n",
    "###################################\n",
    "jig = PTN_Train_Eval_Test_Jig(model, p.BEST_MODEL_PATH, p.device)\n",
    "\n",
    "jig.train(\n",
    "    train_iterable=datasets.source.processed.train,\n",
    "    source_val_iterable=datasets.source.processed.val,\n",
    "    target_val_iterable=datasets.target.processed.val,\n",
    "    num_epochs=p.n_epoch,\n",
    "    num_logs_per_epoch=p.NUM_LOGS_PER_EPOCH,\n",
    "    patience=p.patience,\n",
    "    optimizer=optimizer,\n",
    "    criteria_for_best=p.criteria_for_best,\n",
    ")"
   ]
  },
  {
   "cell_type": "code",
   "execution_count": 23,
   "id": "31e8fabf",
   "metadata": {
    "execution": {
     "iopub.execute_input": "2022-03-19T18:33:44.423162Z",
     "iopub.status.busy": "2022-03-19T18:33:44.422913Z",
     "iopub.status.idle": "2022-03-19T18:33:44.441256Z",
     "shell.execute_reply": "2022-03-19T18:33:44.440853Z"
    },
    "papermill": {
     "duration": 0.04973,
     "end_time": "2022-03-19T18:33:44.441347",
     "exception": false,
     "start_time": "2022-03-19T18:33:44.391617",
     "status": "completed"
    },
    "tags": []
   },
   "outputs": [],
   "source": [
    "total_experiment_time_secs = time.time() - start_time_secs"
   ]
  },
  {
   "cell_type": "code",
   "execution_count": 24,
   "id": "87b9595b",
   "metadata": {
    "execution": {
     "iopub.execute_input": "2022-03-19T18:33:44.507889Z",
     "iopub.status.busy": "2022-03-19T18:33:44.507508Z",
     "iopub.status.idle": "2022-03-19T18:36:06.449144Z",
     "shell.execute_reply": "2022-03-19T18:36:06.448863Z"
    },
    "papermill": {
     "duration": 141.975037,
     "end_time": "2022-03-19T18:36:06.449213",
     "exception": false,
     "start_time": "2022-03-19T18:33:44.474176",
     "status": "completed"
    },
    "tags": []
   },
   "outputs": [],
   "source": [
    "###################################\n",
    "# Evaluate the model\n",
    "###################################\n",
    "source_test_label_accuracy, source_test_label_loss = jig.test(datasets.source.processed.test)\n",
    "target_test_label_accuracy, target_test_label_loss = jig.test(datasets.target.processed.test)\n",
    "\n",
    "source_val_label_accuracy, source_val_label_loss = jig.test(datasets.source.processed.val)\n",
    "target_val_label_accuracy, target_val_label_loss = jig.test(datasets.target.processed.val)\n",
    "\n",
    "history = jig.get_history()\n",
    "\n",
    "total_epochs_trained = len(history[\"epoch_indices\"])\n",
    "\n",
    "val_dl = Iterable_Aggregator((datasets.source.original.val,datasets.target.original.val))\n",
    "\n",
    "confusion = ptn_confusion_by_domain_over_dataloader(model, p.device, val_dl)\n",
    "per_domain_accuracy = per_domain_accuracy_from_confusion(confusion)\n",
    "\n",
    "# Add a key to per_domain_accuracy for if it was a source domain\n",
    "for domain, accuracy in per_domain_accuracy.items():\n",
    "    per_domain_accuracy[domain] = {\n",
    "        \"accuracy\": accuracy,\n",
    "        \"source?\": domain in p.domains_source\n",
    "    }\n",
    "\n",
    "# Do an independent accuracy assesment JUST TO BE SURE!\n",
    "# _source_test_label_accuracy = independent_accuracy_assesment(model, datasets.source.processed.test, p.device)\n",
    "# _target_test_label_accuracy = independent_accuracy_assesment(model, datasets.target.processed.test, p.device)\n",
    "# _source_val_label_accuracy = independent_accuracy_assesment(model, datasets.source.processed.val, p.device)\n",
    "# _target_val_label_accuracy = independent_accuracy_assesment(model, datasets.target.processed.val, p.device)\n",
    "\n",
    "# assert(_source_test_label_accuracy == source_test_label_accuracy)\n",
    "# assert(_target_test_label_accuracy == target_test_label_accuracy)\n",
    "# assert(_source_val_label_accuracy == source_val_label_accuracy)\n",
    "# assert(_target_val_label_accuracy == target_val_label_accuracy)\n",
    "\n",
    "experiment = {\n",
    "    \"experiment_name\": p.experiment_name,\n",
    "    \"parameters\": dict(p),\n",
    "    \"results\": {\n",
    "        \"source_test_label_accuracy\": source_test_label_accuracy,\n",
    "        \"source_test_label_loss\": source_test_label_loss,\n",
    "        \"target_test_label_accuracy\": target_test_label_accuracy,\n",
    "        \"target_test_label_loss\": target_test_label_loss,\n",
    "        \"source_val_label_accuracy\": source_val_label_accuracy,\n",
    "        \"source_val_label_loss\": source_val_label_loss,\n",
    "        \"target_val_label_accuracy\": target_val_label_accuracy,\n",
    "        \"target_val_label_loss\": target_val_label_loss,\n",
    "        \"total_epochs_trained\": total_epochs_trained,\n",
    "        \"total_experiment_time_secs\": total_experiment_time_secs,\n",
    "        \"confusion\": confusion,\n",
    "        \"per_domain_accuracy\": per_domain_accuracy,\n",
    "    },\n",
    "    \"history\": history,\n",
    "    \"dataset_metrics\": get_dataset_metrics(datasets, \"ptn\"),\n",
    "}"
   ]
  },
  {
   "cell_type": "code",
   "execution_count": 25,
   "id": "54a21829",
   "metadata": {
    "execution": {
     "iopub.execute_input": "2022-03-19T18:36:06.515545Z",
     "iopub.status.busy": "2022-03-19T18:36:06.514959Z",
     "iopub.status.idle": "2022-03-19T18:36:06.639833Z",
     "shell.execute_reply": "2022-03-19T18:36:06.640213Z"
    },
    "papermill": {
     "duration": 0.158427,
     "end_time": "2022-03-19T18:36:06.640322",
     "exception": false,
     "start_time": "2022-03-19T18:36:06.481895",
     "status": "completed"
    },
    "tags": []
   },
   "outputs": [
    {
     "data": {
      "image/png": "[encoded data removed]",
      "text/plain": [
       "<Figure size 1080x504 with 1 Axes>"
      ]
     },
     "metadata": {
      "needs_background": "light"
     },
     "output_type": "display_data"
    }
   ],
   "source": [
    "ax = get_loss_curve(experiment)\n",
    "plt.show()"
   ]
  },
  {
   "cell_type": "code",
   "execution_count": 26,
   "id": "fd8a0f60",
   "metadata": {
    "execution": {
     "iopub.execute_input": "2022-03-19T18:36:06.715796Z",
     "iopub.status.busy": "2022-03-19T18:36:06.715442Z",
     "iopub.status.idle": "2022-03-19T18:36:06.849402Z",
     "shell.execute_reply": "2022-03-19T18:36:06.849614Z"
    },
    "papermill": {
     "duration": 0.176055,
     "end_time": "2022-03-19T18:36:06.849679",
     "exception": false,
     "start_time": "2022-03-19T18:36:06.673624",
     "status": "completed"
    },
    "tags": []
   },
   "outputs": [
    {
     "data": {
      "text/plain": [
       "<AxesSubplot:title={'center':'Results'}>"
      ]
     },
     "execution_count": 26,
     "metadata": {},
     "output_type": "execute_result"
    },
    {
     "data": {
      "image/png": "[encoded data removed]",
      "text/plain": [
       "<Figure size 1080x504 with 1 Axes>"
      ]
     },
     "metadata": {
      "needs_background": "light"
     },
     "output_type": "display_data"
    }
   ],
   "source": [
    "get_results_table(experiment)"
   ]
  },
  {
   "cell_type": "code",
   "execution_count": 27,
   "id": "cf8dc689",
   "metadata": {
    "execution": {
     "iopub.execute_input": "2022-03-19T18:36:06.913854Z",
     "iopub.status.busy": "2022-03-19T18:36:06.912859Z",
     "iopub.status.idle": "2022-03-19T18:36:07.061687Z",
     "shell.execute_reply": "2022-03-19T18:36:07.061214Z"
    },
    "papermill": {
     "duration": 0.181081,
     "end_time": "2022-03-19T18:36:07.061785",
     "exception": false,
     "start_time": "2022-03-19T18:36:06.880704",
     "status": "completed"
    },
    "tags": []
   },
   "outputs": [
    {
     "data": {
      "text/plain": [
       "<AxesSubplot:title={'center':'Per Domain Validation Accuracy'}, xlabel='domain'>"
      ]
     },
     "execution_count": 27,
     "metadata": {},
     "output_type": "execute_result"
    },
    {
     "data": {
      "image/png": "[encoded data removed]",
      "text/plain": [
       "<Figure size 1080x504 with 1 Axes>"
      ]
     },
     "metadata": {
      "needs_background": "light"
     },
     "output_type": "display_data"
    }
   ],
   "source": [
    "get_domain_accuracies(experiment)"
   ]
  },
  {
   "cell_type": "code",
   "execution_count": 28,
   "id": "a74ae082",
   "metadata": {
    "execution": {
     "iopub.execute_input": "2022-03-19T18:36:07.132581Z",
     "iopub.status.busy": "2022-03-19T18:36:07.132138Z",
     "iopub.status.idle": "2022-03-19T18:36:07.150314Z",
     "shell.execute_reply": "2022-03-19T18:36:07.149844Z"
    },
    "papermill": {
     "duration": 0.052223,
     "end_time": "2022-03-19T18:36:07.150409",
     "exception": false,
     "start_time": "2022-03-19T18:36:07.098186",
     "status": "completed"
    },
    "tags": []
   },
   "outputs": [
    {
     "name": "stdout",
     "output_type": "stream",
     "text": [
      "Source Test Label Accuracy: 0.8569986979166667 Target Test Label Accuracy: 0.6244791666666667\n",
      "Source Val Label Accuracy: 0.8510091145833333 Target Val Label Accuracy: 0.6266826923076924\n"
     ]
    }
   ],
   "source": [
    "print(\"Source Test Label Accuracy:\", experiment[\"results\"][\"source_test_label_accuracy\"], \"Target Test Label Accuracy:\", experiment[\"results\"][\"target_test_label_accuracy\"])\n",
    "print(\"Source Val Label Accuracy:\", experiment[\"results\"][\"source_val_label_accuracy\"], \"Target Val Label Accuracy:\", experiment[\"results\"][\"target_val_label_accuracy\"])"
   ]
  },
  {
   "cell_type": "code",
   "execution_count": 29,
   "id": "dacca602",
   "metadata": {
    "execution": {
     "iopub.execute_input": "2022-03-19T18:36:07.222343Z",
     "iopub.status.busy": "2022-03-19T18:36:07.220497Z",
     "iopub.status.idle": "2022-03-19T18:36:07.241088Z",
     "shell.execute_reply": "2022-03-19T18:36:07.241382Z"
    },
    "papermill": {
     "duration": 0.054989,
     "end_time": "2022-03-19T18:36:07.241467",
     "exception": false,
     "start_time": "2022-03-19T18:36:07.186478",
     "status": "completed"
    },
    "tags": [
     "experiment_json"
    ]
   },
   "outputs": [
    {
     "data": {
      "text/plain": [
       "'{\"experiment_name\": \"tl_2v2:oracle.run1.framed -> cores+wisig\", \"parameters\": {\"experiment_name\": \"tl_2v2:oracle.run1.framed -> cores+wisig\", \"device\": \"cuda\", \"lr\": 0.0001, \"n_shot\": 3, \"n_query\": 2, \"train_k_factor\": 3, \"val_k_factor\": 2, \"test_k_factor\": 2, \"torch_default_dtype\": \"torch.float32\", \"n_epoch\": 50, \"patience\": 3, \"criteria_for_best\": \"target_accuracy\", \"x_net\": [{\"class\": \"nnReshape\", \"kargs\": {\"shape\": [-1, 1, 2, 256]}}, {\"class\": \"Conv2d\", \"kargs\": {\"in_channels\": 1, \"out_channels\": 256, \"kernel_size\": [1, 7], \"bias\": false, \"padding\": [0, 3]}}, {\"class\": \"ReLU\", \"kargs\": {\"inplace\": true}}, {\"class\": \"BatchNorm2d\", \"kargs\": {\"num_features\": 256}}, {\"class\": \"Conv2d\", \"kargs\": {\"in_channels\": 256, \"out_channels\": 80, \"kernel_size\": [2, 7], \"bias\": true, \"padding\": [0, 3]}}, {\"class\": \"ReLU\", \"kargs\": {\"inplace\": true}}, {\"class\": \"BatchNorm2d\", \"kargs\": {\"num_features\": 80}}, {\"class\": \"Flatten\", \"kargs\": {}}, {\"class\": \"Linear\", \"kargs\": {\"in_features\": 20480, \"out_features\": 256}}, {\"class\": \"ReLU\", \"kargs\": {\"inplace\": true}}, {\"class\": \"BatchNorm1d\", \"kargs\": {\"num_features\": 256}}, {\"class\": \"Linear\", \"kargs\": {\"in_features\": 256, \"out_features\": 256}}], \"NUM_LOGS_PER_EPOCH\": 10, \"BEST_MODEL_PATH\": \"./best_model.pth\", \"n_way\": 16, \"datasets\": [{\"labels\": [\"1-10.\", \"1-11.\", \"1-15.\", \"1-16.\", \"1-17.\", \"1-18.\", \"1-19.\", \"10-4.\", \"10-7.\", \"11-1.\", \"11-14.\", \"11-17.\", \"11-20.\", \"11-7.\", \"13-20.\", \"13-8.\", \"14-10.\", \"14-11.\", \"14-14.\", \"14-7.\", \"15-1.\", \"15-20.\", \"16-1.\", \"16-16.\", \"17-10.\", \"17-11.\", \"17-2.\", \"19-1.\", \"19-16.\", \"19-19.\", \"19-20.\", \"19-3.\", \"2-10.\", \"2-11.\", \"2-17.\", \"2-18.\", \"2-20.\", \"2-3.\", \"2-4.\", \"2-5.\", \"2-6.\", \"2-7.\", \"2-8.\", \"3-13.\", \"3-18.\", \"3-3.\", \"4-1.\", \"4-10.\", \"4-11.\", \"4-19.\", \"5-5.\", \"6-15.\", \"7-10.\", \"7-14.\", \"8-18.\", \"8-20.\", \"8-3.\", \"8-8.\"], \"domains\": [1, 2, 3, 4, 5], \"num_examples_per_domain_per_label\": -1, \"pickle_path\": \"/mnt/wd500GB/CSC500/csc500-main/datasets/cores.stratified_ds.2022A.pkl\", \"source_or_target_dataset\": \"target\", \"x_transforms\": [\"unit_power\"], \"episode_transforms\": [], \"domain_prefix\": \"C_\"}, {\"labels\": [\"1-10\", \"1-12\", \"1-14\", \"1-16\", \"1-18\", \"1-19\", \"1-8\", \"10-11\", \"10-17\", \"10-4\", \"10-7\", \"11-1\", \"11-10\", \"11-19\", \"11-20\", \"11-4\", \"11-7\", \"12-19\", \"12-20\", \"12-7\", \"13-14\", \"13-18\", \"13-19\", \"13-20\", \"13-3\", \"13-7\", \"14-10\", \"14-11\", \"14-12\", \"14-13\", \"14-14\", \"14-19\", \"14-20\", \"14-7\", \"14-8\", \"14-9\", \"15-1\", \"15-19\", \"15-6\", \"16-1\", \"16-16\", \"16-19\", \"16-20\", \"17-10\", \"17-11\", \"18-1\", \"18-10\", \"18-11\", \"18-12\", \"18-13\", \"18-14\", \"18-15\", \"18-16\", \"18-17\", \"18-19\", \"18-2\", \"18-20\", \"18-4\", \"18-5\", \"18-7\", \"18-8\", \"18-9\", \"19-1\", \"19-10\", \"19-11\", \"19-12\", \"19-13\", \"19-14\", \"19-15\", \"19-19\", \"19-2\", \"19-20\", \"19-3\", \"19-4\", \"19-6\", \"19-7\", \"19-8\", \"19-9\", \"2-1\", \"2-13\", \"2-15\", \"2-3\", \"2-4\", \"2-5\", \"2-6\", \"2-7\", \"2-8\", \"20-1\", \"20-12\", \"20-14\", \"20-15\", \"20-16\", \"20-18\", \"20-19\", \"20-20\", \"20-3\", \"20-4\", \"20-5\", \"20-7\", \"20-8\", \"3-1\", \"3-13\", \"3-18\", \"3-2\", \"3-8\", \"4-1\", \"4-10\", \"4-11\", \"5-1\", \"5-5\", \"6-1\", \"6-15\", \"6-6\", \"7-10\", \"7-11\", \"7-12\", \"7-13\", \"7-14\", \"7-7\", \"7-8\", \"7-9\", \"8-1\", \"8-13\", \"8-14\", \"8-18\", \"8-20\", \"8-3\", \"8-8\", \"9-1\", \"9-7\"], \"domains\": [1, 2, 3, 4], \"num_examples_per_domain_per_label\": -1, \"pickle_path\": \"/mnt/wd500GB/CSC500/csc500-main/datasets/wisig.node3-19.stratified_ds.2022A.pkl\", \"source_or_target_dataset\": \"target\", \"x_transforms\": [\"unit_power\"], \"episode_transforms\": [], \"domain_prefix\": \"W_\"}, {\"labels\": [\"3123D52\", \"3123D65\", \"3123D79\", \"3123D80\", \"3123D54\", \"3123D70\", \"3123D7B\", \"3123D89\", \"3123D58\", \"3123D76\", \"3123D7D\", \"3123EFE\", \"3123D64\", \"3123D78\", \"3123D7E\", \"3124E4A\"], \"domains\": [32, 38, 8, 44, 14, 50, 20, 26], \"num_examples_per_domain_per_label\": 2000, \"pickle_path\": \"/mnt/wd500GB/CSC500/csc500-main/datasets/oracle.Run1_framed_2000Examples_stratified_ds.2022A.pkl\", \"source_or_target_dataset\": \"source\", \"x_transforms\": [\"unit_power\"], \"episode_transforms\": [], \"domain_prefix\": \"O_\"}], \"seed\": 1337, \"dataset_seed\": 1337, \"x_shape\": [2, 256], \"domains_source\": [\"O_32\", \"O_38\", \"O_8\", \"O_44\", \"O_14\", \"O_50\", \"O_20\", \"O_26\"], \"domains_target\": [\"C_1\", \"C_2\", \"C_3\", \"C_4\", \"C_5\", \"W_1\", \"W_2\", \"W_3\", \"W_4\"]}, \"results\": {\"source_test_label_accuracy\": 0.8569986979166667, \"source_test_label_loss\": 0.4106592833995819, \"target_test_label_accuracy\": 0.6244791666666667, \"target_test_label_loss\": 173.3349151611328, \"source_val_label_accuracy\": 0.8510091145833333, \"source_val_label_loss\": 0.4136366844177246, \"target_val_label_accuracy\": 0.6266826923076924, \"target_val_label_loss\": 173.18328857421875, \"total_epochs_trained\": 7, \"total_experiment_time_secs\": 1358.2712678909302, \"confusion\": {\"O_14\": {\"15\": {\"15\": 240}, \"3\": {\"3\": 235, \"5\": 1, \"14\": 2, \"1\": 1, \"4\": 1}, \"6\": {\"6\": 188, \"13\": 50, \"14\": 1, \"2\": 1}, \"1\": {\"1\": 231, \"5\": 9}, \"8\": {\"8\": 240}, \"10\": {\"10\": 240}, \"9\": {\"9\": 240}, \"13\": {\"14\": 24, \"13\": 128, \"2\": 18, \"6\": 66, \"5\": 2, \"4\": 1, \"3\": 1}, \"12\": {\"12\": 240}, \"5\": {\"5\": 182, \"4\": 38, \"1\": 9, \"3\": 2, \"2\": 9}, \"0\": {\"0\": 238, \"11\": 1, \"3\": 1}, \"2\": {\"2\": 155, \"6\": 9, \"5\": 21, \"14\": 41, \"13\": 9, \"15\": 1, \"3\": 4}, \"11\": {\"11\": 226, \"9\": 12, \"0\": 2}, \"14\": {\"14\": 214, \"2\": 17, \"13\": 7, \"6\": 2}, \"7\": {\"7\": 240}, \"4\": {\"4\": 222, \"1\": 1, \"5\": 16, \"2\": 1}}, \"O_20\": {\"3\": {\"12\": 30, \"3\": 173, \"9\": 24, \"2\": 9, \"4\": 4}, \"15\": {\"5\": 17, \"15\": 204, \"0\": 11, \"1\": 5, \"13\": 3}, \"8\": {\"8\": 232, \"7\": 1, \"4\": 6, \"14\": 1}, \"4\": {\"4\": 233, \"12\": 1, \"3\": 1, \"8\": 5}, \"14\": {\"14\": 227, \"6\": 12, \"8\": 1}, \"0\": {\"5\": 37, \"0\": 192, \"15\": 8, \"8\": 2, \"13\": 1}, \"7\": {\"7\": 220, \"2\": 13, \"3\": 3, \"8\": 3, \"9\": 1}, \"6\": {\"6\": 228, \"14\": 12}, \"10\": {\"10\": 239, \"14\": 1}, \"5\": {\"5\": 192, \"1\": 6, \"0\": 23, \"15\": 15, \"12\": 4}, \"2\": {\"2\": 171, \"3\": 11, \"9\": 36, \"7\": 10, \"12\": 8, \"1\": 2, \"13\": 2}, \"12\": {\"12\": 149, \"1\": 44, \"3\": 31, \"9\": 9, \"2\": 5, \"5\": 2}, \"9\": {\"9\": 177, \"12\": 5, \"2\": 35, \"3\": 23}, \"1\": {\"1\": 198, \"12\": 34, \"5\": 7, \"9\": 1}, \"11\": {\"11\": 240}, \"13\": {\"13\": 238, \"2\": 2}}, \"O_38\": {\"5\": {\"8\": 58, \"7\": 24, \"5\": 133, \"15\": 9, \"9\": 4, \"6\": 8, \"13\": 1, \"0\": 3}, \"8\": {\"8\": 192, \"5\": 26, \"0\": 11, \"7\": 6, \"15\": 4, \"10\": 1}, \"11\": {\"11\": 233, \"14\": 6, \"4\": 1}, \"1\": {\"1\": 235, \"15\": 5}, \"10\": {\"10\": 221, \"7\": 2, \"8\": 5, \"13\": 12}, \"15\": {\"15\": 224, \"8\": 2, \"1\": 10, \"13\": 2, \"5\": 2}, \"3\": {\"3\": 238, \"0\": 2}, \"7\": {\"7\": 222, \"0\": 4, \"5\": 10, \"8\": 4}, \"4\": {\"4\": 240}, \"14\": {\"14\": 233, \"2\": 7}, \"9\": {\"9\": 230, \"6\": 9, \"5\": 1}, \"12\": {\"12\": 240}, \"6\": {\"9\": 5, \"6\": 235}, \"2\": {\"2\": 225, \"13\": 5, \"14\": 10}, \"0\": {\"8\": 29, \"0\": 182, \"7\": 10, \"3\": 9, \"11\": 2, \"10\": 4, \"13\": 2, \"5\": 2}, \"13\": {\"13\": 221, \"15\": 4, \"10\": 8, \"0\": 2, \"8\": 1, \"2\": 3, \"14\": 1}}, \"O_8\": {\"9\": {\"9\": 240}, \"10\": {\"10\": 212, \"14\": 17, \"13\": 6, \"4\": 5}, \"13\": {\"13\": 132, \"14\": 10, \"0\": 35, \"6\": 6, \"4\": 30, \"10\": 27}, \"0\": {\"13\": 32, \"0\": 197, \"4\": 2, \"6\": 4, \"7\": 4, \"10\": 1}, \"1\": {\"1\": 233, \"10\": 1, \"14\": 4, \"11\": 1, \"5\": 1}, \"15\": {\"15\": 214, \"12\": 22, \"8\": 4}, \"5\": {\"5\": 229, \"10\": 8, \"1\": 1, \"14\": 2}, \"3\": {\"3\": 238, \"2\": 1, \"12\": 1}, \"6\": {\"6\": 194, \"13\": 5, \"7\": 36, \"4\": 4, \"0\": 1}, \"11\": {\"11\": 232, \"1\": 7, \"5\": 1}, \"8\": {\"8\": 239, \"15\": 1}, \"4\": {\"4\": 182, \"13\": 41, \"6\": 5, \"14\": 12}, \"12\": {\"12\": 159, \"15\": 65, \"3\": 12, \"2\": 1, \"8\": 3}, \"14\": {\"14\": 186, \"4\": 20, \"10\": 26, \"13\": 2, \"1\": 6}, \"2\": {\"7\": 8, \"2\": 229, \"3\": 3}, \"7\": {\"7\": 205, \"6\": 35}}, \"O_50\": {\"7\": {\"7\": 219, \"13\": 10, \"5\": 6, \"6\": 2, \"10\": 3}, \"3\": {\"3\": 240}, \"8\": {\"8\": 234, \"10\": 6}, \"2\": {\"2\": 229, \"0\": 11}, \"14\": {\"14\": 240}, \"4\": {\"15\": 22, \"4\": 164, \"1\": 16, \"5\": 33, \"6\": 3, \"13\": 1, \"7\": 1}, \"6\": {\"6\": 224, \"7\": 3, \"4\": 2, \"15\": 2, \"1\": 2, \"13\": 6, \"5\": 1}, \"15\": {\"15\": 207, \"4\": 8, \"1\": 20, \"6\": 2, \"11\": 3}, \"10\": {\"10\": 234, \"8\": 3, \"13\": 2, \"0\": 1}, \"11\": {\"11\": 230, \"15\": 5, \"12\": 3, \"9\": 2}, \"13\": {\"13\": 213, \"7\": 8, \"6\": 8, \"5\": 9, \"10\": 1, \"0\": 1}, \"9\": {\"9\": 227, \"12\": 5, \"11\": 8}, \"0\": {\"0\": 214, \"2\": 18, \"10\": 8}, \"1\": {\"15\": 25, \"1\": 196, \"4\": 8, \"5\": 4, \"6\": 5, \"2\": 1, \"11\": 1}, \"12\": {\"12\": 234, \"9\": 3, \"14\": 3}, \"5\": {\"5\": 137, \"4\": 30, \"7\": 18, \"13\": 32, \"1\": 18, \"6\": 3, \"15\": 1, \"10\": 1}}, \"O_32\": {\"8\": {\"8\": 214, \"13\": 13, \"0\": 8, \"5\": 2, \"3\": 2, \"14\": 1}, \"14\": {\"14\": 157, \"11\": 47, \"0\": 19, \"8\": 2, \"7\": 12, \"3\": 2, \"5\": 1}, \"2\": {\"2\": 204, \"4\": 36}, \"0\": {\"0\": 202, \"14\": 10, \"7\": 2, \"8\": 24, \"13\": 2}, \"1\": {\"1\": 239, \"10\": 1}, \"10\": {\"10\": 239, \"1\": 1}, \"11\": {\"11\": 221, \"7\": 2, \"14\": 17}, \"5\": {\"5\": 141, \"7\": 44, \"3\": 11, \"8\": 3, \"13\": 17, \"4\": 19, \"0\": 3, \"11\": 1, \"14\": 1}, \"15\": {\"15\": 240}, \"3\": {\"3\": 233, \"11\": 3, \"13\": 4}, \"12\": {\"12\": 240}, \"7\": {\"7\": 169, \"14\": 5, \"5\": 33, \"4\": 23, \"13\": 5, \"0\": 1, \"11\": 1, \"2\": 3}, \"13\": {\"13\": 202, \"8\": 5, \"0\": 1, \"3\": 9, \"5\": 8, \"14\": 4, \"4\": 9, \"7\": 2}, \"6\": {\"6\": 240}, \"4\": {\"2\": 31, \"4\": 178, \"5\": 8, \"13\": 10, \"7\": 13}, \"9\": {\"9\": 240}}, \"O_26\": {\"4\": {\"4\": 158, \"14\": 45, \"0\": 12, \"7\": 13, \"1\": 3, \"8\": 9}, \"12\": {\"12\": 240}, \"10\": {\"14\": 18, \"0\": 62, \"10\": 123, \"8\": 33, \"6\": 1, \"15\": 1, \"9\": 2}, \"0\": {\"0\": 107, \"14\": 35, \"10\": 51, \"8\": 25, \"4\": 20, \"7\": 2}, \"13\": {\"13\": 190, \"5\": 44, \"15\": 4, \"2\": 1, \"9\": 1}, \"9\": {\"9\": 177, \"15\": 52, \"13\": 2, \"6\": 9}, \"3\": {\"3\": 184, \"2\": 36, \"7\": 20}, \"2\": {\"2\": 102, \"3\": 80, \"5\": 27, \"7\": 23, \"15\": 5, \"8\": 2, \"13\": 1}, \"5\": {\"5\": 204, \"2\": 11, \"13\": 17, \"9\": 3, \"15\": 3, \"7\": 1, \"3\": 1}, \"14\": {\"14\": 129, \"4\": 64, \"10\": 10, \"0\": 22, \"1\": 12, \"8\": 1, \"7\": 1, \"6\": 1}, \"8\": {\"4\": 15, \"7\": 17, \"8\": 144, \"0\": 22, \"14\": 6, \"10\": 29, \"15\": 6, \"2\": 1}, \"7\": {\"7\": 176, \"2\": 22, \"8\": 18, \"4\": 13, \"3\": 8, \"14\": 1, \"15\": 1, \"10\": 1}, \"6\": {\"6\": 216, \"9\": 14, \"10\": 2, \"15\": 8}, \"11\": {\"11\": 240}, \"15\": {\"15\": 167, \"9\": 35, \"8\": 11, \"5\": 6, \"13\": 9, \"6\": 6, \"10\": 4, \"2\": 2}, \"1\": {\"1\": 224, \"14\": 12, \"8\": 1, \"4\": 2, \"10\": 1}}, \"O_44\": {\"12\": {\"12\": 217, \"1\": 20, \"3\": 1, \"10\": 2}, \"7\": {\"7\": 168, \"2\": 27, \"9\": 42, \"6\": 3}, \"5\": {\"5\": 210, \"14\": 5, \"0\": 16, \"8\": 5, \"15\": 4}, \"15\": {\"15\": 204, \"14\": 9, \"5\": 6, \"0\": 15, \"8\": 6}, \"8\": {\"0\": 80, \"8\": 149, \"5\": 1, \"15\": 10}, \"2\": {\"2\": 190, \"1\": 14, \"10\": 8, \"7\": 28}, \"13\": {\"13\": 168, \"6\": 37, \"9\": 34, \"7\": 1}, \"4\": {\"4\": 181, \"14\": 59}, \"0\": {\"0\": 160, \"8\": 60, \"5\": 10, \"15\": 10}, \"6\": {\"6\": 180, \"13\": 36, \"7\": 4, \"9\": 20}, \"9\": {\"13\": 29, \"7\": 50, \"9\": 146, \"6\": 13, \"4\": 2}, \"11\": {\"11\": 236, \"13\": 4}, \"10\": {\"1\": 18, \"10\": 204, \"12\": 9, \"2\": 8, \"7\": 1}, \"14\": {\"14\": 154, \"4\": 74, \"15\": 9, \"5\": 3}, \"1\": {\"3\": 13, \"1\": 172, \"2\": 8, \"12\": 37, \"10\": 10}, \"3\": {\"3\": 225, \"1\": 14, \"12\": 1}}, \"W_3\": {\"109\": {\"109\": 73, \"64\": 2, \"43\": 2, \"13\": 1, \"11\": 8, \"16\": 9, \"118\": 4, \"93\": 4, \"113\": 2, \"39\": 3, \"88\": 9, \"84\": 1, \"62\": 3, \"102\": 1, \"121\": 2, \"70\": 2, \"18\": 1, \"33\": 1}, \"127\": {\"127\": 93, \"46\": 1, \"99\": 1, \"112\": 1, \"71\": 6, \"39\": 1, \"73\": 1, \"27\": 1, \"0\": 1, \"5\": 1, \"105\": 4, \"10\": 4, \"114\": 1, \"7\": 5, \"69\": 1, \"124\": 2, \"4\": 1, \"42\": 1, \"8\": 1, \"108\": 1}, \"14\": {\"109\": 4, \"14\": 57, \"121\": 1, \"74\": 1, \"62\": 6, \"32\": 1, \"82\": 1, \"11\": 2, \"118\": 1, \"93\": 2, \"120\": 1, \"16\": 1, \"84\": 2}, \"7\": {\"7\": 71, \"42\": 1, \"124\": 5, \"12\": 1, \"99\": 1, \"30\": 2, \"94\": 1, \"0\": 6, \"36\": 2, \"111\": 5, \"127\": 6, \"3\": 3, \"5\": 1, \"4\": 1, \"95\": 1, \"117\": 1, \"15\": 1, \"98\": 2, \"88\": 1}, \"129\": {\"14\": 3, \"129\": 13, \"10\": 1, \"32\": 2, \"84\": 1, \"122\": 2, \"110\": 1, \"87\": 1, \"1\": 1, \"40\": 1, \"5\": 2, \"99\": 1, \"44\": 1, \"115\": 1, \"11\": 1}, \"57\": {\"57\": 18, \"64\": 2}, \"84\": {\"14\": 4, \"44\": 1, \"84\": 56, \"29\": 3, \"82\": 3, \"116\": 1, \"129\": 2, \"87\": 3, \"93\": 1, \"107\": 8, \"1\": 8, \"70\": 1, \"40\": 4, \"69\": 1, \"90\": 3, \"102\": 2, \"32\": 2, \"33\": 2, \"120\": 1, \"43\": 1, \"26\": 1}, \"114\": {\"46\": 1, \"100\": 1, \"114\": 63, \"3\": 3, \"108\": 4, \"90\": 2, \"29\": 1, \"44\": 4, \"9\": 1, \"105\": 6, \"5\": 4, \"107\": 1, \"84\": 1, \"10\": 3, \"127\": 6, \"4\": 1, \"40\": 8, \"1\": 5, \"28\": 1, \"110\": 2, \"71\": 1, \"111\": 1, \"113\": 1, \"8\": 2, \"62\": 1}, \"44\": {\"44\": 30, \"109\": 1, \"49\": 2, \"129\": 3, \"108\": 1, \"60\": 2, \"19\": 3, \"31\": 1, \"9\": 1, \"107\": 3, \"1\": 3, \"16\": 2, \"76\": 1, \"92\": 1, \"40\": 2, \"122\": 4, \"29\": 2, \"78\": 2, \"87\": 2, \"33\": 1, \"84\": 3, \"8\": 1, \"11\": 1}, \"21\": {\"21\": 29, \"43\": 2, \"120\": 2, \"26\": 2, \"11\": 2, \"39\": 4, \"36\": 1, \"101\": 1, \"118\": 2, \"94\": 1, \"122\": 2}, \"46\": {\"46\": 9, \"129\": 1, \"110\": 1, \"55\": 1, \"108\": 1, \"5\": 2, \"105\": 1}, \"100\": {\"107\": 1, \"100\": 10, \"48\": 1, \"14\": 1, \"122\": 1, \"84\": 1, \"87\": 1}, \"63\": {\"63\": 4, \"84\": 1, \"123\": 2, \"67\": 1, \"26\": 1, \"121\": 1, \"16\": 1, \"39\": 1, \"18\": 1, \"17\": 1, \"118\": 1, \"122\": 1}, \"24\": {\"24\": 14, \"65\": 1, \"121\": 1, \"106\": 3, \"70\": 2, \"37\": 2, \"9\": 1, \"93\": 1, \"71\": 1, \"8\": 1, \"128\": 1, \"1\": 1, \"30\": 3, \"125\": 2, \"127\": 2, \"84\": 1, \"0\": 1, \"105\": 2, \"94\": 1, \"6\": 1, \"5\": 1, \"87\": 1, \"36\": 2, \"110\": 1, \"27\": 1}, \"107\": {\"84\": 4, \"107\": 91, \"115\": 1, \"110\": 1, \"50\": 2, \"40\": 3, \"33\": 5, \"70\": 1, \"90\": 4, \"1\": 1, \"87\": 1, \"102\": 2, \"62\": 1, \"108\": 1}, \"35\": {\"127\": 1, \"7\": 1, \"35\": 6, \"36\": 1, \"76\": 1, \"52\": 1, \"101\": 1}, \"81\": {\"81\": 25, \"123\": 3, \"18\": 1, \"39\": 2, \"126\": 1}, \"64\": {\"64\": 19, \"120\": 1}, \"59\": {\"59\": 6, \"106\": 2, \"51\": 4}, \"33\": {\"33\": 64, \"87\": 2, \"107\": 4, \"115\": 1, \"93\": 4, \"62\": 5, \"84\": 3, \"102\": 13, \"113\": 3, \"118\": 2, \"11\": 4, \"45\": 1, \"32\": 1, \"43\": 2, \"69\": 1, \"14\": 1, \"16\": 1, \"39\": 1, \"90\": 1}, \"34\": {\"59\": 2, \"58\": 2, \"34\": 7, \"94\": 2, \"14\": 3, \"16\": 1, \"37\": 1, \"23\": 1, \"90\": 1, \"27\": 1, \"125\": 1, \"25\": 1, \"11\": 1, \"50\": 1, \"28\": 2, \"57\": 2, \"15\": 1, \"73\": 2}, \"36\": {\"124\": 4, \"59\": 1, \"25\": 2, \"101\": 1, \"36\": 26, \"12\": 4, \"34\": 1, \"52\": 1, \"10\": 5, \"112\": 1, \"15\": 3, \"6\": 1, \"71\": 1, \"91\": 2, \"0\": 4, \"73\": 1, \"8\": 6, \"106\": 11, \"127\": 2, \"27\": 1, \"30\": 1, \"125\": 10, \"5\": 3, \"111\": 4, \"7\": 3, \"3\": 3, \"4\": 1, \"94\": 5, \"97\": 1, \"42\": 3, \"86\": 1, \"108\": 4, \"70\": 1, \"114\": 2}, \"79\": {\"79\": 9, \"14\": 1, \"50\": 1, \"48\": 1}, \"80\": {\"80\": 14, \"60\": 2}, \"77\": {\"77\": 13, \"81\": 1, \"8\": 1, \"1\": 1}, \"22\": {\"22\": 13, \"108\": 1, \"43\": 1, \"32\": 1}, \"124\": {\"124\": 72, \"52\": 4, \"5\": 2, \"10\": 3, \"71\": 4, \"8\": 1, \"111\": 1, \"127\": 10, \"114\": 4, \"15\": 1, \"105\": 2, \"16\": 1, \"4\": 5, \"3\": 3, \"0\": 1, \"47\": 1, \"41\": 2, \"12\": 2, \"85\": 1, \"86\": 1, \"122\": 1, \"42\": 1, \"30\": 1}, \"2\": {\"2\": 12, \"109\": 2, \"57\": 1, \"117\": 3, \"18\": 2, \"26\": 2, \"102\": 1, \"62\": 1, \"13\": 1, \"43\": 1, \"82\": 1, \"93\": 1}, \"87\": {\"105\": 7, \"34\": 1, \"14\": 1, \"100\": 1, \"9\": 2, \"57\": 1, \"4\": 3, \"50\": 1, \"87\": 20, \"88\": 6, \"11\": 6, \"43\": 1, \"39\": 1, \"102\": 1, \"90\": 4, \"71\": 3, \"40\": 9, \"114\": 10, \"108\": 1, \"84\": 4, \"93\": 4, \"62\": 3, \"33\": 2, \"109\": 4, \"107\": 2, \"29\": 1, \"92\": 2, \"122\": 1, \"45\": 1, \"21\": 1, \"44\": 1, \"126\": 1, \"10\": 1, \"70\": 1, \"7\": 1, \"16\": 2, \"110\": 1}, \"105\": {\"105\": 84, \"9\": 2, \"129\": 2, \"122\": 2, \"30\": 1, \"127\": 2, \"5\": 2, \"108\": 4, \"114\": 6, \"4\": 4, \"8\": 4, \"40\": 4, \"46\": 1, \"10\": 2, \"86\": 1, \"34\": 1}, \"95\": {\"95\": 27, \"30\": 1, \"111\": 3, \"7\": 1}, \"43\": {\"43\": 16, \"123\": 1, \"107\": 4, \"26\": 2, \"13\": 2, \"93\": 1, \"117\": 1, \"82\": 3, \"122\": 2, \"118\": 3, \"39\": 2, \"69\": 1, \"88\": 1, \"113\": 3, \"64\": 1, \"63\": 1, \"11\": 3, \"87\": 2, \"120\": 1, \"121\": 1, \"78\": 1, \"21\": 1, \"70\": 2, \"109\": 1}, \"56\": {\"86\": 1, \"110\": 1, \"56\": 6, \"47\": 2, \"85\": 1, \"3\": 1}, \"18\": {\"126\": 10, \"18\": 83, \"26\": 4, \"102\": 3, \"117\": 10, \"88\": 1, \"113\": 2, \"81\": 2, \"13\": 1, \"67\": 1, \"39\": 4, \"43\": 1, \"125\": 1, \"33\": 1}, \"85\": {\"95\": 1, \"86\": 2, \"12\": 2, \"85\": 17, \"91\": 1, \"52\": 3, \"111\": 1, \"3\": 1, \"42\": 1, \"124\": 1, \"5\": 2, \"8\": 2, \"4\": 1, \"40\": 1}, \"113\": {\"18\": 8, \"113\": 38, \"96\": 1, \"64\": 1, \"39\": 7, \"93\": 8, \"43\": 7, \"26\": 13, \"81\": 1, \"120\": 2, \"16\": 1, \"118\": 3, \"62\": 2, \"117\": 10, \"126\": 4, \"109\": 6, \"88\": 2, \"11\": 2, \"40\": 1, \"17\": 1, \"69\": 1, \"102\": 1}, \"97\": {\"97\": 6, \"59\": 1, \"58\": 2, \"52\": 1, \"118\": 1, \"73\": 4, \"6\": 1, \"15\": 1, \"64\": 1, \"111\": 2}, \"86\": {\"46\": 2, \"86\": 9, \"129\": 1, \"10\": 1, \"105\": 3, \"42\": 1, \"92\": 1, \"5\": 1, \"48\": 1, \"85\": 1, \"8\": 2, \"4\": 2, \"15\": 1, \"127\": 1, \"125\": 1}, \"128\": {\"128\": 13, \"55\": 1, \"90\": 1, \"115\": 2, \"5\": 3, \"29\": 3, \"86\": 1, \"19\": 1, \"10\": 1, \"28\": 2, \"22\": 1, \"103\": 1, \"122\": 1, \"125\": 1}, \"123\": {\"43\": 1, \"123\": 7, \"81\": 2, \"117\": 1, \"39\": 2, \"67\": 1, \"63\": 1, \"70\": 1}, \"8\": {\"46\": 1, \"110\": 5, \"65\": 2, \"35\": 1, \"8\": 36, \"27\": 3, \"56\": 1, \"86\": 1, \"43\": 1, \"124\": 4, \"1\": 9, \"91\": 1, \"36\": 1, \"10\": 7, \"12\": 2, \"127\": 9, \"122\": 1, \"30\": 2, \"105\": 5, \"3\": 2, \"99\": 2, \"71\": 3, \"15\": 3, \"5\": 4, \"40\": 1, \"7\": 3, \"108\": 6, \"0\": 2, \"107\": 2, \"87\": 1, \"24\": 1, \"19\": 1, \"128\": 1, \"42\": 1, \"70\": 1, \"4\": 2, \"88\": 1, \"114\": 1}, \"110\": {\"128\": 3, \"43\": 1, \"129\": 1, \"67\": 1, \"110\": 26, \"63\": 1, \"32\": 2, \"92\": 1, \"62\": 1, \"78\": 1, \"11\": 2, \"21\": 1, \"90\": 2, \"88\": 7, \"24\": 1, \"10\": 1, \"71\": 1, \"105\": 1, \"117\": 1, \"126\": 2, \"0\": 1, \"93\": 2, \"8\": 3, \"1\": 7, \"114\": 3, \"122\": 2, \"101\": 1, \"9\": 1, \"107\": 2, \"5\": 1, \"70\": 1, \"14\": 1, \"69\": 1, \"87\": 3, \"109\": 1, \"108\": 3}, \"126\": {\"126\": 56, \"43\": 3, \"57\": 1, \"118\": 4, \"120\": 1, \"94\": 1, \"16\": 2, \"125\": 1, \"109\": 1, \"18\": 6, \"39\": 5, \"106\": 1, \"93\": 3, \"117\": 1, \"11\": 2, \"81\": 2, \"63\": 1, \"96\": 1, \"26\": 2, \"5\": 1, \"70\": 1, \"62\": 1, \"110\": 1, \"88\": 2, \"113\": 2, \"90\": 1, \"87\": 1}, \"42\": {\"42\": 8, \"114\": 1, \"68\": 2, \"70\": 1, \"77\": 1, \"12\": 1, \"30\": 1, \"127\": 1, \"58\": 1, \"99\": 1, \"85\": 1, \"60\": 1, \"44\": 1, \"5\": 1, \"24\": 1, \"101\": 1, \"19\": 1, \"8\": 2, \"124\": 1}, \"96\": {\"121\": 2, \"96\": 5, \"93\": 1, \"78\": 1, \"21\": 1, \"43\": 2, \"17\": 1, \"18\": 1, \"109\": 6}, \"83\": {\"83\": 20, \"72\": 1, \"99\": 1, \"112\": 2}, \"54\": {\"54\": 16}, \"65\": {\"114\": 1, \"121\": 1, \"1\": 2, \"65\": 5, \"8\": 1, \"108\": 1, \"64\": 1}, \"30\": {\"114\": 2, \"83\": 1, \"86\": 1, \"30\": 22, \"10\": 2, \"103\": 1, \"7\": 2, \"85\": 1, \"128\": 1, \"0\": 4, \"99\": 5, \"73\": 3, \"71\": 1, \"101\": 2, \"127\": 4, \"125\": 1, \"36\": 3, \"8\": 4, \"40\": 1, \"69\": 1, \"3\": 4, \"15\": 2, \"105\": 1, \"58\": 1, \"68\": 1, \"9\": 1, \"5\": 4, \"55\": 1, \"98\": 2, \"126\": 1, \"6\": 1, \"27\": 1, \"12\": 2}, \"121\": {\"96\": 1, \"113\": 2, \"121\": 20, \"64\": 1, \"88\": 1, \"117\": 1, \"21\": 1, \"123\": 1, \"109\": 2, \"39\": 1, \"93\": 1}, \"68\": {\"42\": 1, \"30\": 1, \"12\": 2, \"41\": 1, \"68\": 9, \"10\": 1, \"57\": 1}, \"45\": {\"48\": 2, \"45\": 10, \"20\": 1, \"89\": 1, \"94\": 1, \"87\": 1}, \"48\": {\"48\": 1, \"42\": 1, \"47\": 3, \"101\": 1, \"76\": 2, \"112\": 1, \"79\": 2, \"103\": 1, \"28\": 1, \"39\": 1, \"105\": 1, \"62\": 1}, \"4\": {\"4\": 52, \"56\": 1, \"0\": 1, \"127\": 6, \"124\": 10, \"117\": 1, \"105\": 5, \"114\": 2, \"3\": 3, \"5\": 5, \"10\": 1, \"86\": 1, \"108\": 4, \"71\": 1, \"8\": 2, \"87\": 1}, \"67\": {\"67\": 13, \"123\": 2, \"117\": 1}, \"103\": {\"103\": 10, \"36\": 1, \"5\": 1, \"40\": 1, \"4\": 1, \"85\": 1, \"31\": 1}, \"74\": {\"74\": 15, \"122\": 1}, \"1\": {\"1\": 76, \"87\": 2, \"66\": 1, \"19\": 2, \"99\": 1, \"110\": 6, \"108\": 2, \"70\": 2, \"114\": 2, \"40\": 4, \"109\": 1, \"8\": 1, \"84\": 2, \"117\": 1, \"33\": 1, \"107\": 2, \"105\": 1, \"11\": 1}, \"61\": {\"61\": 16}, \"101\": {\"101\": 29, \"68\": 3, \"1\": 1, \"42\": 1, \"0\": 4, \"124\": 1, \"91\": 1, \"6\": 1, \"109\": 1, \"30\": 2, \"111\": 1, \"94\": 1, \"58\": 1, \"12\": 2, \"95\": 1, \"15\": 1, \"24\": 1}, \"93\": {\"96\": 2, \"93\": 86, \"13\": 1, \"64\": 2, \"118\": 5, \"113\": 1, \"16\": 7, \"11\": 4, \"109\": 11, \"87\": 1, \"88\": 3, \"126\": 2, \"33\": 7, \"92\": 1, \"120\": 1, \"121\": 2, \"108\": 1, \"39\": 1}, \"26\": {\"81\": 2, \"67\": 2, \"26\": 82, \"13\": 1, \"11\": 4, \"120\": 1, \"16\": 5, \"84\": 1, \"43\": 1, \"93\": 2, \"118\": 2, \"113\": 7, \"117\": 6, \"102\": 2, \"62\": 1, \"88\": 1, \"2\": 2, \"23\": 1, \"70\": 1, \"109\": 1, \"18\": 1, \"33\": 3, \"126\": 1}, \"71\": {\"4\": 2, \"71\": 36, \"124\": 5, \"101\": 1, \"73\": 1, \"62\": 1, \"113\": 1, \"127\": 8, \"7\": 2, \"105\": 1, \"108\": 1, \"0\": 1, \"3\": 4, \"31\": 1, \"18\": 1, \"40\": 1, \"10\": 1}, \"15\": {\"46\": 1, \"15\": 40, \"97\": 3, \"127\": 4, \"6\": 1, \"12\": 7, \"24\": 1, \"27\": 5, \"101\": 2, \"73\": 1, \"3\": 1, \"126\": 1, \"111\": 3, \"124\": 1, \"8\": 2, \"0\": 5, \"94\": 2, \"30\": 2, \"25\": 1, \"47\": 1, \"85\": 1, \"5\": 1, \"7\": 2, \"105\": 1, \"91\": 1, \"98\": 7, \"18\": 1, \"36\": 4, \"4\": 1, \"106\": 1}, \"55\": {\"55\": 16}, \"104\": {\"55\": 2, \"104\": 12, \"38\": 1, \"9\": 1}, \"112\": {\"112\": 9, \"101\": 1, \"99\": 1, \"91\": 2, \"86\": 1, \"27\": 1, \"129\": 1}, \"102\": {\"14\": 1, \"2\": 1, \"102\": 75, \"107\": 1, \"43\": 3, \"69\": 2, \"118\": 3, \"18\": 2, \"84\": 2, \"110\": 1, \"26\": 2, \"33\": 18, \"117\": 4, \"109\": 1, \"93\": 1, \"122\": 1, \"39\": 1, \"11\": 2, \"62\": 1}, \"117\": {\"117\": 96, \"121\": 1, \"113\": 9, \"26\": 1, \"39\": 2, \"2\": 1, \"118\": 1, \"126\": 1}, \"119\": {\"119\": 9, \"45\": 2, \"102\": 1, \"87\": 1, \"53\": 1, \"69\": 1, \"33\": 1}, \"20\": {\"53\": 1, \"20\": 4, \"43\": 1, \"125\": 1, \"9\": 2, \"120\": 1, \"79\": 1, \"109\": 2, \"32\": 2, \"122\": 1}, \"120\": {\"120\": 20}, \"39\": {\"92\": 1, \"120\": 1, \"39\": 31, \"64\": 1, \"122\": 1, \"82\": 1, \"43\": 4, \"121\": 2, \"109\": 13, \"63\": 1, \"26\": 4, \"18\": 5, \"21\": 4, \"113\": 7, \"118\": 7, \"23\": 1, \"126\": 5, \"70\": 1, \"93\": 3, \"117\": 8, \"16\": 1, \"96\": 1, \"2\": 1, \"33\": 1, \"62\": 2, \"88\": 1}, \"49\": {\"49\": 9, \"83\": 1, \"36\": 1, \"10\": 2, \"91\": 1, \"114\": 2, \"8\": 1, \"29\": 2, \"129\": 1, \"105\": 1, \"44\": 1, \"38\": 1, \"40\": 1}, \"53\": {\"53\": 17, \"44\": 2, \"55\": 1}, \"92\": {\"120\": 1, \"39\": 1, \"92\": 17, \"16\": 2, \"14\": 2, \"11\": 1, \"118\": 2, \"62\": 1, \"84\": 1, \"31\": 1, \"26\": 1, \"116\": 1, \"70\": 1}, \"3\": {\"83\": 1, \"114\": 2, \"35\": 1, \"3\": 54, \"127\": 12, \"103\": 1, \"5\": 7, \"52\": 1, \"34\": 1, \"108\": 5, \"98\": 2, \"7\": 2, \"71\": 2, \"124\": 2, \"4\": 4, \"30\": 2, \"36\": 1, \"8\": 3, \"46\": 1, \"112\": 1, \"58\": 1, \"72\": 1, \"86\": 1, \"12\": 2, \"10\": 3, \"0\": 2, \"40\": 1}, \"47\": {\"15\": 2, \"47\": 9, \"112\": 1}, \"115\": {\"115\": 9, \"122\": 2, \"93\": 1, \"62\": 2, \"14\": 1, \"87\": 1}, \"58\": {\"58\": 15, \"97\": 1}, \"29\": {\"29\": 13, \"90\": 1, \"14\": 2, \"31\": 2, \"122\": 2, \"32\": 4, \"20\": 1, \"11\": 1, \"84\": 1, \"44\": 1, \"39\": 1, \"116\": 1, \"88\": 2}, \"12\": {\"12\": 42, \"72\": 1, \"55\": 1, \"27\": 1, \"58\": 1, \"85\": 1, \"30\": 7, \"73\": 1, \"127\": 5, \"106\": 2, \"98\": 5, \"101\": 1, \"91\": 1, \"111\": 5, \"124\": 5, \"108\": 1, \"0\": 6, \"105\": 1, \"36\": 1, \"3\": 2, \"7\": 2, \"15\": 4, \"97\": 1, \"4\": 1, \"5\": 1, \"83\": 1, \"95\": 1, \"94\": 1, \"10\": 1, \"8\": 1}, \"62\": {\"62\": 76, \"90\": 3, \"69\": 3, \"11\": 7, \"82\": 1, \"92\": 1, \"21\": 1, \"14\": 9, \"26\": 1, \"93\": 2, \"109\": 2, \"118\": 3, \"33\": 3, \"74\": 1, \"107\": 1, \"16\": 4}, \"11\": {\"121\": 1, \"11\": 32, \"64\": 2, \"69\": 4, \"88\": 7, \"120\": 3, \"87\": 6, \"93\": 9, \"21\": 5, \"109\": 9, \"16\": 7, \"43\": 3, \"39\": 2, \"14\": 2, \"107\": 3, \"62\": 9, \"26\": 2, \"102\": 8, \"33\": 8, \"84\": 3, \"90\": 3, \"118\": 4, \"70\": 2, \"92\": 1, \"44\": 2, \"117\": 1, \"113\": 1, \"114\": 1}, \"72\": {\"95\": 1, \"72\": 17, \"0\": 2, \"101\": 1, \"111\": 1, \"42\": 2, \"58\": 2, \"94\": 1, \"71\": 1}, \"98\": {\"98\": 55, \"15\": 10, \"7\": 1, \"73\": 1, \"0\": 3, \"36\": 8, \"111\": 12, \"94\": 2, \"125\": 3, \"106\": 3, \"127\": 1, \"95\": 1, \"30\": 2, \"27\": 2, \"124\": 1, \"12\": 1}, \"122\": {\"100\": 1, \"11\": 3, \"19\": 3, \"1\": 8, \"74\": 1, \"122\": 11, \"107\": 1, \"129\": 3, \"118\": 2, \"99\": 1, \"62\": 2, \"128\": 2, \"21\": 1, \"39\": 3, \"70\": 2, \"40\": 3, \"23\": 2, \"113\": 3, \"31\": 2, \"64\": 1, \"80\": 1, \"115\": 1, \"57\": 1, \"44\": 1, \"110\": 1}, \"17\": {\"121\": 1, \"11\": 1, \"64\": 2, \"88\": 1, \"63\": 1, \"120\": 1, \"9\": 1, \"17\": 1, \"108\": 1, \"104\": 1, \"43\": 1, \"15\": 1, \"110\": 1, \"94\": 1, \"16\": 1}, \"94\": {\"59\": 1, \"94\": 39, \"27\": 2, \"0\": 6, \"106\": 10, \"6\": 4, \"15\": 2, \"7\": 1, \"125\": 6, \"111\": 3, \"36\": 1, \"51\": 2, \"73\": 4, \"37\": 1, \"30\": 1, \"24\": 1}, \"106\": {\"106\": 58, \"94\": 4, \"7\": 2, \"25\": 1, \"72\": 1, \"24\": 1, \"73\": 2, \"15\": 4, \"125\": 3, \"27\": 2, \"36\": 3, \"98\": 4, \"111\": 3, \"0\": 1, \"126\": 1}, \"28\": {\"28\": 16}, \"69\": {\"69\": 59, \"18\": 1, \"62\": 3, \"102\": 3, \"26\": 1, \"113\": 3, \"84\": 1, \"16\": 1, \"82\": 2, \"118\": 2, \"87\": 1, \"117\": 1, \"107\": 1, \"93\": 1, \"70\": 1, \"14\": 2, \"11\": 1}, \"125\": {\"125\": 100, \"94\": 2, \"106\": 3, \"6\": 2, \"70\": 1, \"39\": 2, \"73\": 1, \"27\": 2, \"24\": 1}, \"19\": {\"42\": 2, \"30\": 1, \"19\": 11, \"55\": 2, \"103\": 1, \"9\": 2, \"1\": 3, \"10\": 2, \"128\": 1, \"107\": 1, \"3\": 1, \"114\": 1, \"129\": 1, \"60\": 1, \"56\": 1, \"29\": 1}, \"41\": {\"41\": 7, \"42\": 2, \"52\": 2, \"124\": 4, \"35\": 1}, \"60\": {\"60\": 13, \"20\": 1, \"57\": 1, \"78\": 1, \"23\": 1, \"28\": 1, \"53\": 1, \"9\": 1, \"44\": 2, \"43\": 1, \"92\": 2, \"62\": 1, \"29\": 1, \"115\": 1}, \"70\": {\"43\": 2, \"42\": 1, \"103\": 1, \"21\": 3, \"109\": 6, \"88\": 5, \"3\": 2, \"129\": 2, \"36\": 1, \"108\": 2, \"10\": 5, \"87\": 1, \"23\": 1, \"70\": 7, \"27\": 3, \"16\": 1, \"8\": 4, \"39\": 1, \"124\": 1, \"105\": 1, \"114\": 2, \"1\": 4, \"5\": 4, \"112\": 1, \"18\": 1, \"30\": 1, \"113\": 2, \"9\": 2, \"111\": 1, \"11\": 2, \"62\": 1, \"126\": 1}, \"27\": {\"72\": 1, \"27\": 26, \"25\": 3, \"35\": 1, \"44\": 1, \"8\": 9, \"15\": 3, \"97\": 1, \"124\": 3, \"5\": 5, \"75\": 2, \"24\": 2, \"36\": 2, \"34\": 2, \"127\": 4, \"125\": 9, \"30\": 1, \"10\": 3, \"108\": 3, \"105\": 1, \"106\": 1, \"46\": 1, \"86\": 1, \"4\": 1, \"68\": 1, \"128\": 1, \"94\": 3, \"101\": 1, \"3\": 1, \"1\": 1, \"111\": 1, \"90\": 1}, \"10\": {\"72\": 1, \"68\": 1, \"101\": 2, \"10\": 17, \"88\": 4, \"110\": 6, \"108\": 3, \"127\": 16, \"62\": 2, \"32\": 1, \"90\": 4, \"12\": 3, \"1\": 3, \"21\": 2, \"30\": 5, \"105\": 2, \"14\": 1, \"70\": 3, \"16\": 1, \"23\": 1, \"15\": 2, \"93\": 5, \"7\": 2, \"113\": 2, \"0\": 1, \"36\": 2, \"124\": 4, \"109\": 2, \"4\": 1, \"11\": 3, \"8\": 4, \"92\": 1, \"120\": 1, \"19\": 1, \"91\": 1, \"99\": 1, \"84\": 1, \"118\": 2, \"87\": 3, \"111\": 1}, \"108\": {\"71\": 1, \"10\": 8, \"27\": 1, \"57\": 1, \"41\": 2, \"7\": 1, \"66\": 1, \"5\": 3, \"129\": 1, \"85\": 2, \"3\": 12, \"29\": 1, \"113\": 2, \"110\": 10, \"62\": 2, \"93\": 1, \"108\": 24, \"23\": 2, \"18\": 1, \"70\": 2, \"0\": 1, \"1\": 3, \"127\": 14, \"88\": 9, \"84\": 2, \"90\": 3, \"114\": 1, \"4\": 3, \"111\": 2, \"124\": 2, \"105\": 3, \"17\": 1, \"31\": 1, \"8\": 3, \"28\": 2, \"48\": 1, \"86\": 1, \"95\": 1, \"87\": 4, \"14\": 2, \"11\": 2, \"16\": 1}, \"9\": {\"108\": 1, \"9\": 24, \"103\": 1, \"105\": 1, \"40\": 1, \"128\": 1, \"91\": 2, \"8\": 1}, \"25\": {\"25\": 12, \"106\": 2, \"109\": 1, \"6\": 1}, \"37\": {\"37\": 15, \"21\": 1}, \"0\": {\"9\": 2, \"10\": 4, \"91\": 1, \"0\": 32, \"5\": 7, \"3\": 4, \"98\": 6, \"12\": 2, \"127\": 8, \"73\": 1, \"30\": 6, \"27\": 4, \"36\": 8, \"111\": 8, \"105\": 4, \"108\": 1, \"15\": 4, \"124\": 3, \"1\": 1, \"8\": 2, \"86\": 1, \"6\": 1, \"4\": 1, \"114\": 1, \"110\": 1, \"7\": 3}, \"66\": {\"66\": 13, \"50\": 1, \"38\": 1, \"122\": 1}, \"51\": {\"51\": 12, \"27\": 1, \"37\": 2, \"68\": 1}, \"76\": {\"76\": 16}, \"32\": {\"32\": 11, \"88\": 1, \"110\": 2, \"62\": 2, \"129\": 1, \"14\": 2, \"11\": 2, \"122\": 1, \"1\": 3, \"44\": 1, \"108\": 2, \"19\": 2, \"28\": 1, \"57\": 1}, \"88\": {\"64\": 3, \"88\": 38, \"57\": 1, \"21\": 2, \"60\": 1, \"53\": 1, \"43\": 1, \"28\": 2, \"90\": 8, \"92\": 1, \"122\": 1, \"99\": 1, \"14\": 2, \"126\": 2, \"39\": 6, \"110\": 5, \"109\": 7, \"1\": 4, \"108\": 2, \"93\": 3, \"84\": 2, \"114\": 4, \"87\": 1, \"107\": 1, \"16\": 2, \"105\": 1, \"113\": 2, \"11\": 4, \"70\": 2, \"62\": 1, \"24\": 1}, \"31\": {\"31\": 15, \"88\": 1, \"90\": 1, \"115\": 1, \"21\": 1, \"80\": 1}, \"91\": {\"47\": 2, \"128\": 1, \"91\": 6, \"7\": 2, \"19\": 1, \"24\": 1, \"10\": 1, \"12\": 1, \"105\": 2, \"27\": 1, \"52\": 2, \"31\": 1, \"15\": 1, \"9\": 2}, \"90\": {\"76\": 1, \"50\": 1, \"90\": 68, \"107\": 5, \"60\": 1, \"29\": 2, \"14\": 1, \"109\": 3, \"62\": 9, \"84\": 1, \"11\": 4, \"1\": 1, \"33\": 4, \"39\": 1, \"16\": 3, \"69\": 1, \"87\": 4, \"79\": 1, \"114\": 1, \"88\": 8, \"78\": 1, \"110\": 1, \"118\": 1, \"93\": 2, \"102\": 1}, \"13\": {\"67\": 1, \"50\": 2, \"60\": 1, \"13\": 3, \"126\": 1, \"82\": 2, \"23\": 1, \"33\": 1, \"39\": 1, \"101\": 1, \"14\": 1, \"115\": 1}, \"50\": {\"50\": 12, \"100\": 2, \"32\": 1, \"14\": 1}, \"78\": {\"60\": 2, \"21\": 2, \"114\": 1, \"109\": 1, \"129\": 2, \"118\": 1, \"50\": 1, \"113\": 1, \"92\": 1, \"88\": 1, \"78\": 1, \"121\": 1, \"9\": 1}, \"116\": {\"88\": 2, \"120\": 4, \"116\": 6, \"109\": 7, \"14\": 1, \"92\": 1, \"108\": 1, \"93\": 2, \"70\": 1, \"23\": 2, \"107\": 1}, \"5\": {\"5\": 68, \"38\": 1, \"124\": 2, \"105\": 7, \"86\": 1, \"108\": 2, \"4\": 6, \"114\": 3, \"39\": 1, \"127\": 4, \"8\": 4, \"3\": 2, \"46\": 3, \"19\": 1, \"1\": 1, \"18\": 1, \"40\": 2, \"30\": 2, \"0\": 1}, \"75\": {\"75\": 16}, \"89\": {\"89\": 21, \"69\": 2, \"102\": 1, \"26\": 1, \"33\": 1, \"115\": 1, \"116\": 1}, \"16\": {\"96\": 1, \"16\": 41, \"109\": 5, \"113\": 2, \"39\": 2, \"14\": 2, \"118\": 8, \"11\": 10, \"70\": 2, \"62\": 8, \"69\": 3, \"110\": 1, \"26\": 2, \"84\": 2, \"88\": 1, \"90\": 5, \"0\": 1, \"93\": 5, \"33\": 3, \"116\": 2, \"43\": 1, \"122\": 3, \"102\": 6}, \"38\": {\"66\": 2, \"38\": 13, \"43\": 1}, \"118\": {\"64\": 2, \"93\": 4, \"118\": 24, \"102\": 6, \"92\": 2, \"62\": 7, \"21\": 1, \"113\": 3, \"107\": 3, \"11\": 4, \"70\": 1, \"16\": 3, \"69\": 4, \"39\": 4, \"109\": 14, \"14\": 1, \"84\": 2, \"33\": 4, \"117\": 2, \"40\": 1, \"79\": 1, \"43\": 1, \"126\": 1, \"26\": 3, \"90\": 1, \"87\": 1}, \"99\": {\"110\": 3, \"99\": 24, \"125\": 1, \"10\": 2, \"112\": 1, \"129\": 2, \"8\": 1, \"114\": 1, \"1\": 1}, \"52\": {\"52\": 15, \"108\": 1}, \"111\": {\"111\": 97, \"73\": 3, \"95\": 3, \"12\": 2, \"71\": 1, \"101\": 1, \"15\": 3, \"0\": 5, \"36\": 5, \"98\": 5, \"7\": 2, \"27\": 1}, \"23\": {\"118\": 1, \"126\": 1, \"10\": 2, \"109\": 1, \"18\": 1, \"11\": 1, \"128\": 1, \"121\": 2, \"113\": 1, \"43\": 1, \"30\": 1, \"1\": 1, \"16\": 1, \"23\": 5, \"108\": 2, \"27\": 1, \"99\": 3, \"127\": 1, \"87\": 1, \"26\": 1, \"44\": 1, \"81\": 1, \"9\": 1}, \"73\": {\"73\": 27, \"111\": 3, \"98\": 1, \"0\": 2, \"6\": 1, \"15\": 3, \"37\": 1, \"27\": 1, \"12\": 1}, \"82\": {\"107\": 1, \"82\": 17, \"90\": 2, \"29\": 1, \"92\": 1, \"109\": 1, \"84\": 1, \"45\": 1, \"21\": 1, \"33\": 1, \"126\": 1}, \"40\": {\"40\": 79, \"14\": 1, \"53\": 1, \"122\": 1, \"114\": 5, \"44\": 1, \"16\": 2, \"105\": 6, \"1\": 7, \"84\": 4, \"107\": 7, \"10\": 1, \"87\": 2, \"102\": 1, \"93\": 1, \"46\": 1, \"104\": 2, \"100\": 1, \"129\": 1, \"82\": 1, \"33\": 1, \"109\": 1, \"5\": 1}, \"6\": {\"6\": 21, \"94\": 6, \"97\": 1, \"106\": 1, \"15\": 1, \"125\": 1, \"73\": 1}}, \"C_3\": {\"43\": {\"24\": 5, \"43\": 116, \"11\": 2, \"22\": 3, \"7\": 1, \"56\": 1}, \"9\": {\"9\": 110, \"33\": 2, \"2\": 1, \"27\": 9, \"20\": 2, \"48\": 3, \"36\": 1, \"18\": 1, \"19\": 3, \"53\": 4, \"40\": 3, \"8\": 3, \"50\": 4, \"30\": 1, \"32\": 1, \"21\": 2}, \"6\": {\"51\": 2, \"6\": 10, \"18\": 3, \"54\": 8, \"23\": 5, \"33\": 1, \"53\": 6, \"36\": 11, \"30\": 9, \"52\": 3, \"50\": 7, \"3\": 3, \"27\": 2, \"25\": 2, \"1\": 2, \"46\": 3, \"20\": 2, \"8\": 4, \"38\": 1, \"2\": 1, \"32\": 1, \"9\": 1, \"57\": 1}, \"3\": {\"46\": 5, \"3\": 45, \"30\": 20, \"41\": 2, \"50\": 10, \"19\": 1, \"16\": 2, \"25\": 19, \"18\": 8, \"48\": 8, \"40\": 1, \"53\": 3, \"23\": 3, \"52\": 5, \"20\": 2, \"27\": 3, \"6\": 3, \"54\": 2, \"9\": 1, \"36\": 1}, \"16\": {\"16\": 132, \"26\": 1, \"5\": 1}, \"51\": {\"51\": 85, \"20\": 22, \"12\": 1, \"53\": 9, \"36\": 1, \"4\": 4, \"27\": 1, \"2\": 2, \"8\": 2, \"50\": 1}, \"31\": {\"31\": 28}, \"46\": {\"46\": 38, \"16\": 3, \"3\": 13, \"52\": 23, \"44\": 1, \"50\": 8, \"29\": 2, \"18\": 7, \"30\": 1, \"25\": 10, \"1\": 2, \"47\": 1, \"11\": 1, \"0\": 3, \"23\": 6, \"41\": 3, \"36\": 1, \"34\": 1, \"57\": 2, \"26\": 1, \"48\": 3, \"6\": 1, \"55\": 1, \"5\": 1, \"40\": 1}, \"19\": {\"19\": 51, \"17\": 4, \"20\": 8, \"40\": 4, \"27\": 10, \"9\": 28, \"4\": 8, \"48\": 1, \"50\": 1, \"38\": 1, \"2\": 1, \"45\": 1, \"53\": 2, \"25\": 1, \"44\": 1, \"8\": 1, \"3\": 1}, \"8\": {\"8\": 136, \"38\": 4, \"17\": 6, \"36\": 4, \"53\": 2}, \"18\": {\"18\": 64, \"3\": 5, \"25\": 9, \"50\": 1, \"30\": 3, \"6\": 1, \"48\": 1}, \"37\": {\"37\": 28}, \"24\": {\"24\": 93, \"43\": 7, \"13\": 3, \"56\": 1}, \"10\": {\"10\": 62, \"56\": 2}, \"44\": {\"44\": 73, \"3\": 1, \"6\": 1, \"50\": 1, \"1\": 1, \"29\": 3, \"46\": 2, \"40\": 4, \"25\": 1, \"22\": 1}, \"14\": {\"31\": 1, \"16\": 1, \"22\": 4, \"56\": 4, \"14\": 7, \"24\": 5, \"10\": 4, \"13\": 1, \"55\": 4, \"15\": 1, \"34\": 2, \"28\": 2, \"47\": 1, \"43\": 1, \"11\": 2}, \"38\": {\"38\": 27, \"8\": 1}, \"53\": {\"53\": 109, \"38\": 3, \"18\": 1, \"27\": 8, \"20\": 4, \"8\": 6, \"17\": 4, \"36\": 1, \"19\": 1, \"4\": 2, \"52\": 1}, \"20\": {\"53\": 22, \"38\": 3, \"20\": 102, \"8\": 2, \"17\": 1, \"4\": 1, \"51\": 1}, \"32\": {\"32\": 28}, \"36\": {\"36\": 100}, \"33\": {\"33\": 15, \"17\": 1, \"6\": 2, \"30\": 3, \"27\": 4, \"54\": 1, \"4\": 1, \"25\": 1}, \"56\": {\"56\": 133, \"22\": 1, \"10\": 2}, \"23\": {\"23\": 129, \"16\": 1}, \"54\": {\"54\": 98, \"36\": 2}, \"21\": {\"21\": 94, \"6\": 3, \"41\": 1, \"36\": 2, \"23\": 2, \"18\": 1, \"53\": 5, \"54\": 5, \"30\": 5, \"48\": 1, \"32\": 1, \"8\": 1, \"52\": 1, \"25\": 1, \"27\": 1, \"20\": 1, \"50\": 1}, \"28\": {\"28\": 27, \"5\": 1}, \"26\": {\"26\": 22, \"16\": 2}, \"48\": {\"48\": 52, \"18\": 4, \"40\": 3, \"8\": 1, \"54\": 7, \"30\": 9, \"36\": 2, \"50\": 8, \"3\": 4, \"6\": 4, \"9\": 4, \"53\": 1, \"25\": 6, \"52\": 6, \"27\": 1, \"29\": 1, \"46\": 1, \"20\": 2}, \"52\": {\"52\": 95, \"25\": 8, \"48\": 2, \"23\": 1, \"3\": 2, \"18\": 3, \"46\": 4, \"50\": 2, \"30\": 1}, \"39\": {\"39\": 16}, \"22\": {\"22\": 108, \"31\": 5, \"14\": 3, \"43\": 5, \"13\": 8, \"24\": 3, \"55\": 7, \"49\": 1}, \"13\": {\"13\": 119, \"22\": 1, \"24\": 6, \"55\": 1, \"56\": 1}, \"2\": {\"2\": 28, \"27\": 2, \"17\": 1, \"38\": 1}, \"34\": {\"34\": 23, \"0\": 2, \"37\": 1, \"23\": 1, \"5\": 3, \"28\": 1, \"1\": 1}, \"27\": {\"27\": 123, \"36\": 1, \"30\": 1, \"50\": 1, \"8\": 1, \"6\": 1, \"4\": 2, \"53\": 2}, \"45\": {\"27\": 6, \"20\": 4, \"17\": 8, \"12\": 2, \"8\": 1, \"45\": 15, \"21\": 1, \"2\": 2, \"40\": 2, \"54\": 1, \"9\": 1, \"51\": 3, \"53\": 1, \"36\": 2, \"38\": 1, \"32\": 1, \"4\": 7, \"52\": 1, \"19\": 1}, \"35\": {\"35\": 27, \"5\": 1}, \"29\": {\"29\": 110, \"3\": 4, \"46\": 1, \"40\": 2, \"25\": 1, \"57\": 2, \"48\": 2, \"52\": 1, \"47\": 1, \"41\": 1, \"1\": 2, \"16\": 1}, \"25\": {\"25\": 70, \"3\": 12, \"33\": 6, \"30\": 12, \"52\": 3, \"18\": 15, \"48\": 6, \"6\": 4, \"9\": 5, \"50\": 7, \"46\": 3, \"40\": 1}, \"0\": {\"0\": 109, \"35\": 1, \"15\": 8, \"5\": 5, \"47\": 1}, \"41\": {\"41\": 26, \"29\": 1, \"52\": 1}, \"11\": {\"31\": 1, \"11\": 125, \"28\": 1, \"35\": 1, \"7\": 2, \"5\": 1, \"15\": 3, \"0\": 7, \"16\": 1}, \"5\": {\"5\": 85, \"0\": 1, \"1\": 5, \"16\": 3, \"15\": 8, \"47\": 3, \"57\": 2, \"35\": 1}, \"1\": {\"1\": 82, \"47\": 6, \"23\": 6, \"57\": 5, \"5\": 1}, \"57\": {\"57\": 107, \"23\": 4, \"16\": 1, \"26\": 2, \"1\": 2}, \"17\": {\"17\": 94, \"10\": 1, \"8\": 9, \"38\": 1, \"32\": 2, \"56\": 1}, \"7\": {\"7\": 35, \"31\": 1}, \"12\": {\"12\": 27, \"51\": 20, \"38\": 1, \"53\": 3, \"8\": 5, \"20\": 9, \"2\": 1, \"32\": 4, \"17\": 10, \"9\": 2, \"36\": 1, \"27\": 1, \"4\": 7, \"19\": 1}, \"47\": {\"47\": 42, \"26\": 2, \"42\": 1, \"57\": 7, \"44\": 1, \"5\": 6, \"1\": 10, \"0\": 2, \"15\": 7, \"16\": 9, \"39\": 1, \"35\": 1, \"23\": 1, \"3\": 1, \"29\": 1}, \"40\": {\"12\": 1, \"40\": 61, \"27\": 9, \"3\": 2, \"9\": 32, \"18\": 2, \"6\": 4, \"48\": 3, \"50\": 6, \"19\": 2, \"25\": 2, \"54\": 2, \"53\": 2, \"20\": 2, \"36\": 2, \"29\": 1, \"30\": 1, \"45\": 1, \"21\": 1}, \"15\": {\"15\": 135, \"11\": 1, \"0\": 2, \"5\": 2, \"55\": 1, \"47\": 1}, \"42\": {\"42\": 22, \"26\": 1, \"29\": 2, \"1\": 1, \"47\": 2}, \"55\": {\"55\": 91, \"31\": 1, \"22\": 18, \"14\": 5, \"24\": 6, \"13\": 4, \"11\": 14, \"43\": 4, \"15\": 2, \"49\": 1, \"34\": 1, \"44\": 1, \"7\": 2}, \"49\": {\"49\": 16, \"11\": 4}, \"30\": {\"30\": 73, \"54\": 5, \"2\": 2, \"48\": 5, \"36\": 6, \"8\": 2, \"18\": 2, \"25\": 6, \"50\": 12, \"20\": 2, \"27\": 2, \"6\": 1, \"53\": 1, \"52\": 1}, \"50\": {\"50\": 49, \"32\": 1, \"3\": 5, \"36\": 6, \"27\": 15, \"52\": 4, \"54\": 13, \"20\": 5, \"53\": 11, \"30\": 7, \"25\": 7, \"8\": 4, \"17\": 2, \"48\": 3, \"6\": 1, \"23\": 1}, \"4\": {\"32\": 2, \"4\": 114, \"54\": 1, \"17\": 5, \"8\": 5, \"27\": 2, \"51\": 5, \"53\": 2}}, \"W_4\": {\"28\": {\"28\": 16, \"66\": 1, \"88\": 1, \"69\": 1, \"60\": 1}, \"4\": {\"4\": 47, \"63\": 1, \"51\": 2, \"103\": 2, \"114\": 6, \"86\": 3, \"56\": 1, \"101\": 9, \"0\": 2, \"71\": 5, \"127\": 6, \"124\": 5, \"122\": 1, \"3\": 1, \"7\": 2, \"9\": 1, \"34\": 1, \"95\": 2, \"90\": 1, \"87\": 1, \"105\": 1, \"36\": 2, \"111\": 2}, \"72\": {\"14\": 2, \"107\": 3, \"72\": 14, \"99\": 2, \"22\": 2, \"90\": 1, \"88\": 1, \"93\": 3, \"76\": 1, \"118\": 1, \"35\": 1, \"27\": 1}, \"111\": {\"111\": 84, \"106\": 11, \"29\": 2, \"95\": 5, \"16\": 2, \"98\": 6, \"15\": 6, \"127\": 8, \"0\": 4, \"10\": 2, \"36\": 1, \"4\": 1, \"101\": 2, \"90\": 1, \"12\": 1}, \"108\": {\"96\": 2, \"43\": 3, \"108\": 24, \"88\": 4, \"14\": 9, \"109\": 6, \"11\": 5, \"99\": 1, \"117\": 1, \"62\": 4, \"93\": 10, \"122\": 2, \"94\": 1, \"5\": 2, \"125\": 1, \"110\": 3, \"18\": 1, \"1\": 1, \"90\": 1, \"118\": 2, \"72\": 1, \"67\": 1, \"39\": 1, \"44\": 1, \"126\": 1, \"69\": 2, \"8\": 1, \"24\": 1}, \"43\": {\"72\": 3, \"108\": 4, \"43\": 10, \"90\": 4, \"0\": 1, \"117\": 1, \"99\": 3, \"3\": 3, \"107\": 6, \"87\": 4, \"114\": 6, \"88\": 6, \"14\": 2, \"24\": 1, \"113\": 3, \"93\": 6, \"7\": 2, \"124\": 2, \"110\": 7, \"105\": 4, \"62\": 3, \"33\": 4, \"122\": 2, \"109\": 5, \"40\": 5, \"11\": 3, \"70\": 1, \"5\": 2, \"46\": 2, \"120\": 2, \"78\": 1, \"116\": 1, \"96\": 1, \"8\": 1, \"129\": 1, \"102\": 4, \"121\": 1, \"84\": 1, \"21\": 1, \"118\": 1}, \"96\": {\"96\": 17, \"93\": 1, \"21\": 1, \"20\": 1}, \"89\": {\"89\": 19, \"71\": 2, \"86\": 1, \"105\": 1, \"88\": 1, \"114\": 3, \"60\": 1, \"79\": 2, \"96\": 1, \"99\": 1}, \"31\": {\"31\": 11, \"45\": 1, \"28\": 1, \"118\": 1, \"13\": 1, \"74\": 1}, \"45\": {\"45\": 14, \"116\": 1, \"88\": 1}, \"2\": {\"108\": 1, \"45\": 1, \"83\": 1, \"96\": 1, \"2\": 13, \"63\": 1, \"61\": 1, \"109\": 1, \"69\": 3, \"118\": 1, \"102\": 1, \"110\": 1, \"16\": 2}, \"114\": {\"89\": 3, \"2\": 1, \"1\": 6, \"114\": 66, \"40\": 4, \"72\": 1, \"14\": 1, \"86\": 1, \"82\": 4, \"124\": 6, \"4\": 2, \"33\": 3, \"101\": 2, \"30\": 1, \"71\": 3, \"0\": 2, \"8\": 1, \"110\": 1, \"24\": 1, \"98\": 1, \"100\": 1, \"5\": 1, \"105\": 4, \"87\": 2, \"70\": 2, \"3\": 2, \"90\": 1, \"118\": 1, \"11\": 1, \"27\": 3}, \"11\": {\"11\": 37, \"2\": 2, \"64\": 2, \"46\": 1, \"67\": 1, \"40\": 4, \"115\": 1, \"17\": 1, \"22\": 1, \"92\": 1, \"109\": 5, \"105\": 3, \"88\": 5, \"98\": 1, \"118\": 3, \"82\": 1, \"122\": 3, \"33\": 5, \"107\": 6, \"43\": 3, \"87\": 5, \"5\": 6, \"110\": 5, \"14\": 2, \"114\": 3, \"90\": 4, \"1\": 2, \"70\": 2, \"93\": 5, \"69\": 3, \"3\": 2, \"18\": 1, \"73\": 1, \"66\": 1, \"44\": 1, \"108\": 2, \"24\": 1, \"71\": 2, \"84\": 2}, \"12\": {\"111\": 7, \"58\": 2, \"59\": 2, \"68\": 1, \"12\": 40, \"36\": 2, \"30\": 6, \"101\": 5, \"0\": 2, \"9\": 1, \"127\": 6, \"15\": 8, \"62\": 1, \"106\": 6, \"43\": 1, \"82\": 1, \"98\": 4, \"10\": 2, \"7\": 2, \"3\": 1}, \"14\": {\"14\": 71, \"88\": 3, \"39\": 1, \"33\": 5, \"62\": 2, \"107\": 3, \"69\": 3, \"93\": 1, \"8\": 1, \"118\": 5, \"102\": 3, \"11\": 1, \"40\": 1, \"120\": 1, \"19\": 1, \"43\": 1, \"72\": 1, \"99\": 1, \"1\": 1, \"90\": 2, \"110\": 2, \"108\": 1, \"109\": 1}, \"90\": {\"90\": 73, \"45\": 1, \"13\": 1, \"120\": 3, \"20\": 1, \"70\": 3, \"118\": 5, \"44\": 3, \"96\": 2, \"43\": 1, \"16\": 4, \"14\": 4, \"39\": 1, \"108\": 5, \"5\": 1, \"122\": 2, \"110\": 11, \"69\": 4, \"93\": 8, \"109\": 12, \"84\": 2, \"115\": 1, \"57\": 1, \"88\": 3, \"113\": 2}, \"10\": {\"64\": 1, \"58\": 1, \"106\": 10, \"54\": 1, \"97\": 2, \"62\": 1, \"10\": 10, \"51\": 1, \"99\": 4, \"91\": 2, \"47\": 3, \"110\": 5, \"32\": 1, \"98\": 5, \"1\": 3, \"90\": 2, \"15\": 6, \"36\": 5, \"94\": 4, \"125\": 10, \"60\": 1, \"43\": 4, \"87\": 2, \"4\": 1, \"88\": 8, \"24\": 7, \"117\": 1, \"109\": 2, \"70\": 3, \"108\": 1, \"93\": 1, \"38\": 1, \"30\": 2, \"8\": 1, \"127\": 2, \"7\": 1, \"12\": 2, \"18\": 2, \"111\": 2, \"11\": 1}, \"63\": {\"63\": 10, \"123\": 1, \"35\": 1, \"18\": 3, \"116\": 1}, \"85\": {\"10\": 1, \"85\": 17, \"58\": 1, \"30\": 2, \"4\": 2, \"9\": 1, \"15\": 1, \"7\": 1, \"99\": 1, \"98\": 1}, \"64\": {\"64\": 13, \"120\": 1, \"126\": 1, \"118\": 1}, \"82\": {\"4\": 2, \"103\": 1, \"9\": 1, \"15\": 2, \"55\": 1, \"111\": 2, \"82\": 12, \"7\": 2, \"30\": 1, \"3\": 1, \"60\": 1, \"71\": 2, \"101\": 1, \"129\": 1, \"86\": 2}, \"58\": {\"58\": 13, \"113\": 1, \"15\": 1, \"9\": 1}, \"3\": {\"91\": 1, \"42\": 1, \"3\": 61, \"117\": 1, \"46\": 2, \"4\": 2, \"100\": 1, \"41\": 2, \"99\": 1, \"71\": 3, \"40\": 6, \"27\": 4, \"10\": 3, \"87\": 4, \"105\": 3, \"70\": 2, \"101\": 3, \"124\": 5, \"1\": 1, \"114\": 5, \"118\": 1, \"107\": 1, \"93\": 2, \"55\": 1, \"98\": 1, \"112\": 2, \"22\": 2, \"34\": 1, \"53\": 1, \"115\": 1, \"60\": 1, \"12\": 1, \"90\": 2, \"49\": 2, \"78\": 1, \"5\": 2, \"110\": 1, \"7\": 1, \"30\": 1}, \"54\": {\"54\": 14, \"94\": 1, \"12\": 1}, \"121\": {\"121\": 15, \"63\": 1, \"39\": 3, \"117\": 1, \"93\": 2, \"61\": 1, \"43\": 1, \"92\": 1, \"16\": 2, \"122\": 2, \"96\": 1, \"45\": 1, \"126\": 1}, \"42\": {\"91\": 2, \"42\": 4, \"127\": 1, \"72\": 3, \"20\": 1, \"4\": 1, \"95\": 1, \"52\": 1, \"49\": 1, \"105\": 1, \"128\": 2, \"30\": 2, \"40\": 1, \"71\": 3, \"79\": 1, \"8\": 1, \"60\": 1, \"115\": 1}, \"98\": {\"98\": 58, \"10\": 3, \"29\": 2, \"127\": 10, \"113\": 1, \"15\": 10, \"94\": 1, \"106\": 4, \"88\": 1, \"24\": 1, \"7\": 1, \"101\": 4, \"111\": 6, \"18\": 1, \"97\": 2, \"77\": 1, \"30\": 3, \"9\": 1, \"81\": 1, \"25\": 1, \"12\": 4, \"85\": 2, \"21\": 1, \"36\": 1}, \"123\": {\"121\": 1, \"63\": 1, \"88\": 2, \"123\": 7, \"90\": 1, \"67\": 1, \"126\": 1, \"16\": 1, \"92\": 1}, \"91\": {\"42\": 1, \"91\": 8, \"111\": 3, \"103\": 1, \"100\": 1, \"77\": 1, \"8\": 3, \"128\": 1, \"112\": 1, \"9\": 1, \"7\": 2, \"0\": 1}, \"83\": {\"119\": 1, \"83\": 13, \"96\": 1, \"1\": 3, \"14\": 1, \"8\": 3, \"93\": 1, \"107\": 1, \"11\": 1, \"26\": 1, \"5\": 2}, \"99\": {\"99\": 33, \"109\": 1, \"88\": 2, \"122\": 2, \"118\": 1, \"32\": 1}, \"112\": {\"112\": 11, \"129\": 1, \"91\": 1, \"3\": 1, \"8\": 2}, \"119\": {\"119\": 11, \"1\": 1, \"103\": 1, \"50\": 1, \"46\": 1, \"8\": 1}, \"70\": {\"83\": 2, \"99\": 3, \"70\": 15, \"38\": 1, \"39\": 1, \"91\": 1, \"42\": 2, \"90\": 4, \"29\": 1, \"88\": 9, \"30\": 5, \"24\": 2, \"117\": 2, \"114\": 5, \"62\": 2, \"0\": 6, \"110\": 4, \"12\": 1, \"105\": 3, \"101\": 5, \"1\": 1, \"118\": 1, \"11\": 1, \"98\": 1, \"109\": 7, \"8\": 8, \"10\": 2, \"3\": 5, \"126\": 1, \"40\": 2, \"93\": 3, \"129\": 2, \"119\": 2, \"17\": 1, \"7\": 3, \"87\": 2, \"33\": 1, \"122\": 3, \"27\": 1, \"124\": 2, \"71\": 1}, \"20\": {\"99\": 2, \"20\": 5, \"120\": 1, \"90\": 3, \"122\": 1, \"64\": 1, \"96\": 1, \"110\": 2}, \"120\": {\"120\": 17, \"76\": 2, \"110\": 1}, \"7\": {\"112\": 2, \"7\": 44, \"129\": 1, \"72\": 2, \"10\": 8, \"12\": 2, \"95\": 2, \"29\": 2, \"30\": 2, \"124\": 4, \"71\": 7, \"127\": 3, \"27\": 4, \"4\": 2, \"111\": 4, \"0\": 2, \"87\": 2, \"114\": 2, \"70\": 4, \"40\": 1, \"1\": 1, \"62\": 1, \"98\": 4, \"24\": 2, \"106\": 2, \"101\": 3, \"56\": 1, \"60\": 2, \"99\": 1, \"105\": 2, \"33\": 1, \"94\": 1, \"93\": 1, \"36\": 2}, \"60\": {\"60\": 4, \"27\": 1, \"87\": 1, \"103\": 1, \"19\": 1, \"105\": 1, \"3\": 2, \"76\": 1, \"99\": 2, \"83\": 1, \"108\": 2, \"62\": 3, \"128\": 1, \"109\": 3, \"89\": 1, \"42\": 1, \"22\": 1, \"70\": 2, \"119\": 1, \"96\": 1, \"44\": 1}, \"113\": {\"113\": 51, \"99\": 2, \"39\": 3, \"126\": 4, \"62\": 1, \"88\": 4, \"2\": 1, \"108\": 4, \"118\": 4, \"96\": 1, \"109\": 9, \"26\": 3, \"84\": 4, \"16\": 6, \"122\": 2, \"117\": 6, \"18\": 5, \"93\": 2, \"43\": 2, \"110\": 1, \"120\": 1, \"90\": 2}, \"37\": {\"37\": 14, \"120\": 1, \"109\": 1}, \"124\": {\"124\": 80, \"60\": 1, \"17\": 1, \"114\": 7, \"7\": 2, \"105\": 2, \"24\": 1, \"27\": 2, \"101\": 2, \"1\": 3, \"111\": 1, \"71\": 2, \"3\": 3, \"95\": 1, \"4\": 2}, \"27\": {\"120\": 3, \"124\": 3, \"86\": 1, \"53\": 1, \"96\": 1, \"27\": 18, \"76\": 1, \"78\": 1, \"55\": 3, \"105\": 1, \"88\": 6, \"29\": 1, \"0\": 6, \"98\": 1, \"43\": 2, \"14\": 3, \"87\": 1, \"110\": 2, \"8\": 3, \"15\": 3, \"108\": 3, \"111\": 2, \"71\": 6, \"7\": 1, \"30\": 4, \"114\": 1, \"118\": 1, \"101\": 5, \"40\": 1, \"65\": 1, \"3\": 1, \"127\": 1, \"90\": 1, \"119\": 1, \"123\": 1, \"9\": 1, \"32\": 1, \"83\": 1, \"70\": 1, \"122\": 1, \"11\": 1, \"26\": 1, \"1\": 1, \"93\": 1}, \"86\": {\"51\": 1, \"127\": 1, \"86\": 18, \"4\": 1, \"30\": 1, \"59\": 1, \"10\": 1, \"55\": 1, \"71\": 2, \"103\": 1}, \"127\": {\"127\": 64, \"4\": 5, \"0\": 5, \"12\": 3, \"101\": 4, \"92\": 1, \"113\": 1, \"106\": 2, \"1\": 1, \"111\": 8, \"126\": 1, \"98\": 5, \"15\": 2, \"55\": 2, \"68\": 1, \"30\": 1, \"122\": 1, \"39\": 1}, \"62\": {\"62\": 24, \"14\": 4, \"71\": 1, \"116\": 1, \"32\": 1, \"110\": 2, \"44\": 2, \"43\": 2, \"122\": 4, \"88\": 1, \"108\": 1, \"118\": 2, \"109\": 7, \"39\": 1, \"93\": 2, \"16\": 2, \"28\": 1, \"90\": 1, \"126\": 1}, \"122\": {\"109\": 12, \"118\": 5, \"122\": 15, \"62\": 1, \"44\": 5, \"40\": 1, \"102\": 3, \"88\": 7, \"99\": 1, \"33\": 5, \"14\": 6, \"108\": 5, \"93\": 1, \"90\": 3, \"20\": 2, \"110\": 3, \"119\": 1, \"81\": 1, \"113\": 1, \"126\": 1, \"87\": 1, \"1\": 1, \"107\": 1, \"84\": 1, \"39\": 1}, \"51\": {\"106\": 2, \"6\": 1, \"117\": 1, \"21\": 1, \"9\": 1, \"15\": 2, \"51\": 3, \"101\": 1, \"122\": 1, \"62\": 1, \"95\": 1, \"109\": 1}, \"109\": {\"62\": 6, \"109\": 74, \"60\": 1, \"118\": 4, \"122\": 3, \"16\": 5, \"69\": 3, \"108\": 2, \"88\": 2, \"110\": 3, \"113\": 2, \"93\": 4, \"90\": 2, \"18\": 1, \"28\": 1, \"92\": 1}, \"106\": {\"106\": 52, \"127\": 5, \"10\": 3, \"26\": 1, \"68\": 1, \"98\": 5, \"24\": 3, \"0\": 1, \"34\": 1, \"15\": 4, \"111\": 10, \"27\": 1, \"7\": 3, \"117\": 2, \"12\": 5, \"71\": 3, \"105\": 1, \"101\": 2, \"18\": 1, \"52\": 1, \"78\": 1, \"94\": 1, \"99\": 1, \"39\": 1, \"30\": 1, \"125\": 2, \"124\": 1, \"88\": 1}, \"94\": {\"106\": 2, \"94\": 36, \"54\": 4, \"25\": 2, \"111\": 2, \"90\": 2, \"12\": 1, \"15\": 6, \"29\": 1, \"121\": 1, \"34\": 1, \"24\": 2, \"125\": 6, \"36\": 7, \"30\": 3, \"7\": 1, \"1\": 2, \"98\": 2, \"27\": 1, \"75\": 2, \"6\": 1, \"127\": 2, \"4\": 1}, \"38\": {\"38\": 8, \"118\": 4, \"116\": 1, \"88\": 1, \"62\": 1, \"18\": 1}, \"129\": {\"112\": 1, \"129\": 8, \"52\": 2, \"83\": 1, \"14\": 1, \"114\": 1, \"101\": 1, \"36\": 1, \"1\": 3, \"71\": 2, \"46\": 1, \"53\": 1, \"19\": 1, \"124\": 1, \"102\": 1, \"72\": 2}, \"116\": {\"109\": 3, \"118\": 4, \"116\": 4, \"17\": 2, \"39\": 1, \"102\": 1, \"62\": 1, \"96\": 2, \"110\": 1, \"73\": 1, \"46\": 1, \"89\": 1, \"38\": 1, \"120\": 1, \"115\": 2, \"74\": 1, \"63\": 1}, \"107\": {\"107\": 84, \"28\": 1, \"46\": 1, \"4\": 1, \"33\": 13, \"114\": 2, \"105\": 5, \"1\": 1, \"10\": 1, \"40\": 4, \"115\": 2, \"100\": 1, \"110\": 1, \"11\": 1}, \"30\": {\"85\": 1, \"101\": 5, \"6\": 1, \"106\": 4, \"68\": 1, \"71\": 2, \"98\": 4, \"29\": 1, \"12\": 5, \"49\": 1, \"30\": 19, \"55\": 1, \"7\": 1, \"18\": 1, \"15\": 7, \"1\": 3, \"27\": 2, \"124\": 1, \"94\": 3, \"4\": 1, \"114\": 1, \"100\": 1, \"112\": 1, \"111\": 1, \"129\": 1, \"0\": 1, \"40\": 1, \"16\": 1, \"105\": 1, \"8\": 1, \"10\": 2}, \"102\": {\"102\": 80, \"116\": 1, \"1\": 2, \"69\": 19, \"84\": 7, \"43\": 2, \"14\": 1, \"33\": 4, \"87\": 1, \"110\": 1, \"122\": 2, \"118\": 1, \"114\": 1, \"74\": 1, \"62\": 1, \"16\": 4, \"44\": 2, \"4\": 1, \"11\": 1}, \"74\": {\"117\": 1, \"107\": 3, \"88\": 1, \"28\": 1, \"87\": 2, \"44\": 2, \"72\": 2, \"102\": 1, \"31\": 1, \"11\": 1, \"74\": 1}, \"101\": {\"101\": 56, \"95\": 2, \"53\": 1, \"55\": 2, \"50\": 1, \"30\": 7, \"0\": 4, \"7\": 1, \"52\": 1, \"49\": 1, \"127\": 9, \"111\": 3, \"71\": 1, \"114\": 4, \"87\": 2, \"12\": 2, \"15\": 8, \"8\": 3, \"40\": 1, \"106\": 3, \"110\": 1, \"124\": 2, \"77\": 1, \"41\": 1, \"58\": 1, \"17\": 1, \"82\": 1, \"38\": 1, \"78\": 2, \"98\": 4, \"85\": 1, \"70\": 1, \"5\": 1, \"4\": 1, \"1\": 1}, \"117\": {\"117\": 99, \"2\": 2, \"26\": 5, \"90\": 1, \"16\": 1, \"109\": 2, \"62\": 1, \"63\": 1, \"81\": 2, \"92\": 1, \"39\": 3, \"113\": 4, \"122\": 1, \"126\": 1}, \"1\": {\"1\": 46, \"114\": 2, \"107\": 4, \"49\": 2, \"42\": 1, \"129\": 2, \"104\": 1, \"89\": 1, \"99\": 1, \"108\": 2, \"8\": 2, \"0\": 2, \"82\": 2, \"3\": 2, \"88\": 2, \"5\": 5, \"93\": 1, \"87\": 3, \"105\": 5, \"15\": 2, \"70\": 2, \"29\": 1, \"128\": 3, \"78\": 2, \"101\": 1, \"71\": 1, \"21\": 1, \"124\": 1, \"14\": 1, \"11\": 1, \"40\": 2, \"27\": 1, \"43\": 1, \"90\": 1, \"24\": 1}, \"84\": {\"117\": 6, \"84\": 51, \"1\": 2, \"69\": 9, \"109\": 3, \"26\": 1, \"102\": 9, \"122\": 4, \"110\": 7, \"44\": 3, \"11\": 4, \"39\": 2, \"14\": 3, \"93\": 2, \"16\": 7, \"2\": 1, \"43\": 3, \"38\": 1, \"45\": 1, \"21\": 1, \"62\": 1, \"18\": 2, \"70\": 1, \"90\": 1, \"107\": 1, \"118\": 1, \"33\": 2, \"113\": 1, \"88\": 2}, \"17\": {\"17\": 15, \"107\": 1, \"71\": 1, \"128\": 1, \"49\": 1, \"1\": 1}, \"6\": {\"6\": 21, \"36\": 1, \"94\": 1, \"58\": 1}, \"110\": {\"110\": 38, \"39\": 3, \"107\": 4, \"7\": 1, \"93\": 6, \"73\": 1, \"1\": 1, \"21\": 1, \"126\": 3, \"43\": 4, \"44\": 2, \"122\": 6, \"14\": 2, \"11\": 5, \"118\": 2, \"33\": 4, \"90\": 10, \"109\": 11, \"108\": 9, \"62\": 2, \"5\": 1, \"16\": 1, \"113\": 1, \"88\": 3, \"69\": 1, \"87\": 2}, \"77\": {\"77\": 9, \"15\": 1, \"101\": 1, \"106\": 1}, \"8\": {\"91\": 1, \"8\": 67, \"119\": 1, \"14\": 1, \"114\": 4, \"109\": 1, \"0\": 5, \"87\": 4, \"1\": 9, \"70\": 11, \"110\": 1, \"27\": 5, \"101\": 1, \"7\": 1, \"108\": 1, \"43\": 3, \"107\": 2, \"3\": 1, \"53\": 1, \"120\": 1, \"32\": 2, \"40\": 3, \"26\": 1, \"122\": 1, \"30\": 1, \"90\": 2, \"15\": 1}, \"73\": {\"110\": 3, \"73\": 12, \"91\": 1, \"107\": 1, \"82\": 1, \"114\": 1, \"40\": 1, \"6\": 1, \"105\": 1, \"67\": 1, \"116\": 1}, \"126\": {\"126\": 67, \"61\": 1, \"2\": 1, \"39\": 5, \"81\": 1, \"117\": 4, \"88\": 3, \"90\": 5, \"93\": 2, \"18\": 7, \"113\": 3, \"16\": 1, \"26\": 5, \"109\": 7, \"21\": 2, \"48\": 1, \"67\": 1, \"22\": 1, \"78\": 1, \"14\": 1, \"118\": 1, \"122\": 3, \"62\": 1}, \"57\": {\"57\": 14, \"13\": 2}, \"95\": {\"95\": 20, \"39\": 1, \"111\": 2, \"29\": 1, \"108\": 2, \"71\": 2, \"127\": 1, \"0\": 1, \"12\": 2}, \"103\": {\"91\": 1, \"103\": 11, \"7\": 1, \"114\": 1, \"29\": 2}, \"97\": {\"97\": 8, \"5\": 1, \"106\": 1, \"9\": 1, \"29\": 2, \"59\": 2, \"55\": 2, \"112\": 1, \"19\": 1, \"94\": 1}, \"39\": {\"126\": 10, \"39\": 29, \"26\": 4, \"62\": 2, \"113\": 7, \"117\": 3, \"118\": 2, \"63\": 1, \"70\": 1, \"110\": 3, \"21\": 4, \"2\": 2, \"90\": 2, \"81\": 3, \"87\": 3, \"88\": 3, \"122\": 1, \"106\": 1, \"93\": 2, \"11\": 1, \"108\": 7, \"109\": 7, \"84\": 1, \"18\": 1}, \"100\": {\"1\": 2, \"114\": 1, \"46\": 2, \"3\": 2, \"43\": 1, \"100\": 10, \"71\": 2}, \"40\": {\"100\": 1, \"40\": 61, \"22\": 1, \"43\": 3, \"10\": 1, \"33\": 5, \"11\": 5, \"69\": 1, \"70\": 1, \"107\": 7, \"5\": 3, \"93\": 1, \"110\": 1, \"34\": 1, \"66\": 1, \"60\": 1, \"72\": 1, \"105\": 7, \"108\": 1, \"3\": 2, \"87\": 1, \"88\": 1, \"1\": 1, \"114\": 1, \"0\": 1}, \"36\": {\"54\": 3, \"6\": 1, \"36\": 53, \"29\": 4, \"101\": 3, \"12\": 5, \"9\": 1, \"0\": 3, \"125\": 7, \"98\": 6, \"27\": 1, \"15\": 5, \"94\": 4, \"111\": 7, \"24\": 4, \"114\": 2, \"30\": 2, \"10\": 1, \"7\": 2, \"127\": 4, \"126\": 1, \"106\": 2, \"58\": 1, \"95\": 1, \"110\": 1, \"4\": 2}, \"19\": {\"19\": 15, \"14\": 2, \"115\": 3, \"102\": 1, \"114\": 1, \"27\": 3, \"50\": 1, \"74\": 1, \"34\": 1}, \"118\": {\"39\": 3, \"118\": 36, \"35\": 2, \"45\": 3, \"67\": 1, \"109\": 9, \"1\": 1, \"96\": 1, \"88\": 2, \"69\": 3, \"62\": 4, \"44\": 2, \"14\": 10, \"122\": 2, \"90\": 6, \"102\": 4, \"93\": 6, \"110\": 2, \"113\": 2, \"11\": 1, \"43\": 1, \"99\": 2, \"57\": 1, \"33\": 1, \"108\": 3, \"12\": 1, \"26\": 1, \"107\": 2}, \"56\": {\"106\": 1, \"56\": 8, \"41\": 1, \"53\": 1, \"114\": 1}, \"26\": {\"26\": 87, \"61\": 1, \"113\": 6, \"87\": 1, \"117\": 8, \"110\": 1, \"16\": 4, \"126\": 4, \"18\": 9, \"123\": 2, \"109\": 2, \"122\": 1}, \"5\": {\"129\": 2, \"5\": 69, \"3\": 7, \"1\": 7, \"33\": 7, \"84\": 1, \"27\": 1, \"0\": 2, \"93\": 2, \"114\": 4, \"69\": 1, \"108\": 1, \"105\": 3, \"87\": 2, \"40\": 4, \"11\": 5, \"90\": 2, \"43\": 5, \"110\": 2, \"50\": 1, \"101\": 1, \"83\": 1, \"44\": 1, \"117\": 1, \"7\": 1, \"10\": 1, \"8\": 1, \"118\": 1}, \"21\": {\"21\": 16, \"113\": 1, \"99\": 2, \"39\": 3, \"93\": 2, \"118\": 1, \"108\": 1, \"110\": 2, \"109\": 1, \"84\": 1, \"126\": 2, \"43\": 2, \"81\": 3, \"121\": 2, \"62\": 1}, \"22\": {\"22\": 9, \"66\": 1, \"94\": 1, \"28\": 1, \"43\": 1, \"79\": 2, \"70\": 1}, \"68\": {\"68\": 7, \"106\": 1, \"30\": 1, \"91\": 1, \"101\": 1, \"111\": 1, \"127\": 1, \"15\": 2, \"36\": 1}, \"9\": {\"30\": 1, \"42\": 1, \"9\": 19, \"95\": 1, \"29\": 1, \"86\": 2, \"91\": 1, \"55\": 1, \"112\": 1}, \"66\": {\"66\": 7, \"88\": 1, \"38\": 2, \"90\": 2, \"44\": 1, \"60\": 1, \"78\": 2}, \"87\": {\"71\": 8, \"87\": 10, \"40\": 5, \"118\": 3, \"50\": 1, \"110\": 6, \"46\": 1, \"99\": 2, \"90\": 8, \"43\": 2, \"114\": 8, \"88\": 5, \"105\": 9, \"14\": 2, \"108\": 4, \"7\": 2, \"107\": 5, \"44\": 1, \"117\": 2, \"11\": 1, \"70\": 9, \"109\": 7, \"124\": 6, \"27\": 2, \"8\": 2, \"100\": 1, \"122\": 1, \"98\": 2, \"28\": 1, \"78\": 1, \"33\": 1, \"93\": 3, \"4\": 1, \"1\": 1, \"24\": 1}, \"71\": {\"71\": 51, \"113\": 1, \"86\": 2, \"56\": 2, \"127\": 2, \"101\": 3, \"114\": 7, \"55\": 1, \"95\": 2, \"3\": 3, \"4\": 4, \"105\": 5, \"7\": 3, \"124\": 5, \"82\": 1, \"70\": 1, \"27\": 1, \"87\": 1, \"98\": 4, \"46\": 2, \"107\": 1, \"39\": 2}, \"115\": {\"17\": 2, \"40\": 1, \"73\": 1, \"11\": 1, \"48\": 1, \"13\": 1, \"114\": 1, \"115\": 4, \"69\": 1, \"90\": 2, \"49\": 1}, \"23\": {\"97\": 1, \"87\": 1, \"120\": 4, \"21\": 1, \"113\": 2, \"53\": 1, \"23\": 1, \"122\": 2, \"118\": 1, \"98\": 1, \"123\": 1}, \"33\": {\"33\": 90, \"107\": 7, \"67\": 2, \"5\": 2, \"126\": 1, \"102\": 3, \"1\": 1, \"11\": 3, \"43\": 1, \"105\": 1, \"40\": 2, \"109\": 1, \"69\": 1, \"87\": 1, \"90\": 1, \"110\": 1}, \"35\": {\"35\": 7, \"39\": 2, \"18\": 1, \"62\": 2}, \"125\": {\"125\": 106, \"75\": 2, \"24\": 2, \"94\": 7, \"43\": 1, \"10\": 3, \"36\": 5, \"126\": 1, \"106\": 1, \"6\": 1, \"117\": 1, \"88\": 1, \"113\": 1}, \"47\": {\"94\": 2, \"47\": 9, \"34\": 1}, \"79\": {\"28\": 1, \"79\": 13, \"3\": 1, \"114\": 1}, \"53\": {\"86\": 2, \"53\": 12, \"4\": 1, \"44\": 1}, \"67\": {\"39\": 1, \"113\": 2, \"67\": 4, \"90\": 3, \"35\": 1, \"62\": 1, \"126\": 1, \"22\": 1, \"74\": 1, \"108\": 1}, \"80\": {\"80\": 8, \"113\": 1, \"78\": 1, \"90\": 1, \"66\": 1, \"44\": 1, \"117\": 1, \"32\": 1, \"129\": 1}, \"105\": {\"105\": 44, \"121\": 1, \"89\": 2, \"126\": 1, \"107\": 2, \"87\": 7, \"40\": 7, \"14\": 1, \"114\": 4, \"1\": 3, \"3\": 4, \"33\": 2, \"93\": 1, \"108\": 1, \"118\": 1, \"90\": 1, \"110\": 1, \"96\": 1, \"7\": 2, \"49\": 1, \"83\": 3, \"113\": 1, \"71\": 2, \"70\": 2, \"106\": 1, \"111\": 2, \"98\": 1, \"27\": 1}, \"76\": {\"76\": 13, \"120\": 1, \"64\": 1, \"28\": 1}, \"46\": {\"100\": 1, \"46\": 14, \"4\": 1, \"8\": 1, \"114\": 2, \"104\": 1}, \"34\": {\"37\": 4, \"87\": 1, \"24\": 8, \"36\": 1, \"27\": 1, \"107\": 2, \"60\": 1, \"99\": 2, \"34\": 2, \"8\": 1, \"40\": 1, \"38\": 1, \"75\": 2, \"115\": 1, \"94\": 1, \"54\": 2, \"72\": 1}, \"32\": {\"120\": 1, \"90\": 1, \"32\": 8, \"88\": 1, \"2\": 1, \"108\": 1, \"29\": 1, \"129\": 1, \"118\": 1, \"109\": 1, \"122\": 1, \"119\": 1, \"110\": 1, \"17\": 2, \"57\": 2, \"45\": 1, \"43\": 1, \"83\": 2}, \"13\": {\"67\": 2, \"13\": 7, \"90\": 3, \"63\": 1, \"99\": 1, \"109\": 2}, \"78\": {\"76\": 1, \"90\": 2, \"78\": 3, \"99\": 4, \"93\": 3, \"89\": 1, \"27\": 1, \"32\": 1, \"114\": 3, \"88\": 2, \"11\": 1, \"108\": 1, \"128\": 1, \"109\": 2, \"63\": 1, \"9\": 1, \"19\": 1, \"96\": 1, \"126\": 1, \"4\": 1, \"18\": 1, \"33\": 1, \"113\": 1, \"5\": 1}, \"41\": {\"41\": 10, \"4\": 1, \"70\": 1, \"29\": 1, \"0\": 1, \"103\": 1, \"9\": 1}, \"69\": {\"13\": 2, \"115\": 1, \"69\": 96, \"84\": 2, \"78\": 2, \"126\": 2, \"118\": 4, \"11\": 1, \"93\": 2, \"102\": 5, \"16\": 2, \"109\": 1, \"45\": 1, \"43\": 1, \"14\": 2, \"62\": 1, \"44\": 1, \"122\": 2}, \"88\": {\"100\": 1, \"88\": 29, \"108\": 5, \"3\": 3, \"19\": 1, \"30\": 1, \"89\": 1, \"96\": 1, \"27\": 6, \"39\": 5, \"26\": 4, \"72\": 1, \"87\": 1, \"5\": 2, \"60\": 1, \"24\": 3, \"99\": 3, \"0\": 2, \"1\": 4, \"109\": 9, \"10\": 1, \"122\": 3, \"62\": 1, \"33\": 1, \"93\": 4, \"8\": 2, \"70\": 6, \"69\": 3, \"110\": 6, \"102\": 1, \"84\": 1, \"21\": 2, \"120\": 2, \"90\": 3, \"14\": 2, \"113\": 2, \"43\": 2, \"40\": 2, \"126\": 1, \"118\": 2, \"114\": 1, \"124\": 1}, \"15\": {\"6\": 2, \"15\": 45, \"53\": 1, \"106\": 5, \"101\": 12, \"30\": 2, \"10\": 4, \"0\": 3, \"111\": 5, \"125\": 2, \"1\": 1, \"12\": 9, \"24\": 7, \"122\": 1, \"8\": 2, \"7\": 1, \"126\": 2, \"27\": 1, \"98\": 2, \"36\": 2, \"75\": 1, \"71\": 2, \"58\": 1, \"94\": 4, \"124\": 3, \"21\": 1, \"105\": 1, \"127\": 2, \"114\": 2, \"4\": 1, \"110\": 1}, \"61\": {\"63\": 5, \"61\": 8, \"39\": 1, \"65\": 2}, \"0\": {\"0\": 21, \"85\": 1, \"89\": 1, \"128\": 1, \"9\": 1, \"95\": 2, \"108\": 1, \"43\": 3, \"98\": 4, \"127\": 10, \"27\": 4, \"55\": 2, \"30\": 2, \"106\": 3, \"72\": 1, \"12\": 2, \"87\": 2, \"101\": 8, \"1\": 2, \"93\": 1, \"24\": 4, \"111\": 5, \"71\": 1, \"7\": 3, \"88\": 2, \"8\": 6, \"109\": 1, \"70\": 2, \"40\": 1, \"3\": 1, \"86\": 1, \"42\": 1, \"83\": 2, \"91\": 1, \"4\": 4, \"117\": 2, \"113\": 1, \"10\": 1, \"18\": 1, \"36\": 1, \"15\": 2, \"110\": 1}, \"104\": {\"104\": 13, \"43\": 1, \"39\": 1, \"73\": 1}, \"48\": {\"48\": 8, \"116\": 2, \"93\": 1, \"121\": 1, \"74\": 1, \"68\": 1, \"92\": 2}, \"25\": {\"25\": 16}, \"75\": {\"75\": 15, \"94\": 1}, \"81\": {\"81\": 26, \"39\": 3, \"93\": 1, \"126\": 1, \"90\": 1, \"18\": 1, \"16\": 1, \"120\": 1, \"117\": 1}, \"50\": {\"83\": 2, \"50\": 7, \"42\": 1, \"46\": 2, \"43\": 1, \"104\": 2, \"114\": 1}, \"52\": {\"52\": 13, \"9\": 1, \"42\": 1, \"124\": 1, \"127\": 1, \"101\": 1, \"53\": 1, \"30\": 1}, \"16\": {\"69\": 3, \"16\": 39, \"113\": 7, \"117\": 3, \"18\": 8, \"122\": 3, \"26\": 7, \"88\": 1, \"102\": 4, \"84\": 5, \"109\": 10, \"90\": 10, \"108\": 1, \"110\": 2, \"126\": 3, \"93\": 2, \"35\": 1, \"57\": 1, \"78\": 1, \"2\": 1, \"39\": 2, \"118\": 5, \"14\": 1}, \"44\": {\"116\": 3, \"80\": 1, \"89\": 2, \"3\": 1, \"96\": 1, \"126\": 4, \"88\": 1, \"33\": 2, \"78\": 1, \"1\": 1, \"44\": 16, \"14\": 6, \"69\": 8, \"5\": 1, \"93\": 1, \"27\": 1, \"102\": 2, \"84\": 3, \"122\": 1, \"11\": 1, \"43\": 3, \"62\": 1, \"40\": 1, \"110\": 1, \"90\": 1}, \"29\": {\"29\": 20, \"39\": 1, \"41\": 1, \"30\": 2, \"15\": 1, \"53\": 1, \"127\": 1, \"9\": 1, \"101\": 1, \"96\": 1, \"85\": 2}, \"93\": {\"93\": 58, \"27\": 1, \"3\": 1, \"110\": 6, \"32\": 2, \"33\": 1, \"78\": 1, \"88\": 5, \"39\": 3, \"14\": 2, \"121\": 1, \"44\": 1, \"60\": 1, \"43\": 5, \"122\": 3, \"118\": 1, \"70\": 3, \"109\": 8, \"90\": 7, \"113\": 2, \"108\": 5, \"26\": 1, \"11\": 2, \"8\": 1, \"72\": 1, \"105\": 1, \"87\": 1}, \"18\": {\"18\": 70, \"117\": 12, \"102\": 1, \"109\": 1, \"26\": 14, \"126\": 3, \"88\": 2, \"113\": 3, \"16\": 1, \"39\": 4, \"122\": 1, \"108\": 1, \"84\": 1}, \"49\": {\"105\": 1, \"49\": 12, \"43\": 1, \"87\": 1, \"3\": 4, \"33\": 1, \"52\": 3, \"1\": 1, \"8\": 1, \"27\": 1, \"17\": 1, \"37\": 1, \"129\": 2, \"101\": 1, \"88\": 1}, \"55\": {\"55\": 13, \"114\": 1, \"86\": 1, \"129\": 1}, \"59\": {\"59\": 9, \"58\": 2, \"110\": 1}, \"128\": {\"128\": 9, \"88\": 3, \"122\": 1, \"33\": 1, \"26\": 1, \"43\": 1, \"8\": 4, \"9\": 1, \"76\": 1, \"28\": 1, \"99\": 1}, \"24\": {\"25\": 4, \"87\": 7, \"24\": 16, \"72\": 1, \"105\": 1, \"89\": 1, \"0\": 2, \"15\": 3, \"125\": 17, \"8\": 8, \"113\": 1, \"34\": 2, \"27\": 3, \"108\": 1, \"14\": 2, \"117\": 1, \"70\": 4, \"93\": 1, \"118\": 2, \"7\": 5, \"88\": 4, \"36\": 7, \"110\": 3, \"106\": 4, \"75\": 2, \"86\": 1, \"91\": 1, \"54\": 1, \"94\": 1, \"83\": 1, \"111\": 1, \"40\": 1, \"109\": 1, \"4\": 1, \"1\": 1, \"5\": 1, \"18\": 1, \"101\": 1, \"12\": 1, \"98\": 2, \"10\": 2}, \"65\": {\"65\": 10, \"109\": 1, \"26\": 1}, \"92\": {\"22\": 1, \"92\": 21, \"43\": 1, \"113\": 1, \"122\": 1, \"57\": 1, \"96\": 1, \"38\": 1}}, \"C_4\": {\"35\": {\"35\": 40}, \"25\": {\"48\": 5, \"25\": 87, \"26\": 3, \"3\": 12, \"8\": 1, \"54\": 3, \"53\": 9, \"18\": 8, \"36\": 1, \"6\": 3, \"40\": 1, \"20\": 1}, \"24\": {\"0\": 1, \"24\": 44, \"43\": 10, \"11\": 1}, \"48\": {\"48\": 125, \"8\": 6, \"3\": 4, \"53\": 3}, \"51\": {\"51\": 59, \"21\": 19, \"53\": 5, \"20\": 29, \"9\": 4, \"30\": 3, \"50\": 14, \"4\": 5, \"3\": 1, \"27\": 2, \"48\": 1, \"17\": 1, \"25\": 1}, \"13\": {\"13\": 117, \"10\": 3}, \"14\": {\"32\": 2, \"24\": 1, \"14\": 3, \"37\": 2, \"22\": 3, \"1\": 2, \"56\": 1, \"35\": 2}, \"32\": {\"35\": 1, \"32\": 22, \"49\": 1}, \"30\": {\"30\": 40, \"17\": 3, \"21\": 1}, \"34\": {\"34\": 21, \"28\": 1, \"23\": 2}, \"9\": {\"9\": 103, \"8\": 2, \"21\": 2, \"53\": 2, \"25\": 2, \"17\": 4, \"20\": 7, \"27\": 7, \"45\": 1, \"50\": 6}, \"1\": {\"1\": 34, \"16\": 3, \"35\": 1, \"46\": 2}, \"0\": {\"0\": 76, \"15\": 1, \"43\": 2, \"11\": 1}, \"38\": {\"38\": 37, \"56\": 1, \"13\": 1, \"22\": 1}, \"22\": {\"24\": 7, \"22\": 82, \"10\": 2, \"43\": 16, \"56\": 5, \"15\": 2, \"0\": 5, \"11\": 2, \"55\": 2, \"13\": 1, \"14\": 1, \"38\": 2, \"46\": 1}, \"40\": {\"40\": 85, \"55\": 2, \"33\": 5, \"42\": 3, \"19\": 4, \"54\": 3, \"52\": 2, \"3\": 2, \"25\": 7, \"53\": 1, \"23\": 5, \"46\": 1}, \"6\": {\"20\": 9, \"6\": 13, \"37\": 1, \"27\": 6, \"28\": 2, \"4\": 5, \"25\": 11, \"9\": 4, \"26\": 1, \"56\": 1, \"54\": 2, \"44\": 2, \"40\": 1, \"8\": 9, \"36\": 6, \"3\": 4, \"30\": 1, \"11\": 3, \"51\": 4, \"47\": 1, \"17\": 1, \"21\": 1, \"16\": 1, \"48\": 3, \"52\": 1, \"50\": 2, \"29\": 1, \"53\": 6, \"19\": 5, \"46\": 1, \"15\": 1, \"18\": 2, \"23\": 1}, \"16\": {\"16\": 92, \"0\": 1, \"46\": 1, \"1\": 2}, \"11\": {\"11\": 98, \"55\": 1, \"15\": 2, \"7\": 1, \"0\": 2}, \"20\": {\"20\": 111, \"3\": 1, \"9\": 2, \"8\": 6, \"51\": 2}, \"17\": {\"17\": 68, \"8\": 2, \"27\": 2, \"30\": 4, \"9\": 2, \"50\": 1, \"51\": 1}, \"26\": {\"26\": 13, \"44\": 1, \"25\": 4, \"20\": 1, \"27\": 1, \"42\": 2, \"48\": 1, \"3\": 1}, \"54\": {\"54\": 93, \"18\": 7, \"25\": 2, \"23\": 5, \"6\": 1}, \"55\": {\"55\": 100, \"14\": 3, \"15\": 17, \"0\": 2, \"35\": 3, \"16\": 7, \"56\": 3, \"43\": 2, \"47\": 1, \"5\": 1, \"11\": 8, \"22\": 3, \"40\": 2, \"1\": 1, \"46\": 1}, \"50\": {\"20\": 17, \"50\": 52, \"8\": 17, \"17\": 5, \"4\": 2, \"9\": 11, \"30\": 4, \"36\": 2, \"53\": 4, \"19\": 1, \"54\": 2, \"27\": 4, \"51\": 2, \"3\": 2, \"22\": 1, \"21\": 2, \"25\": 2, \"44\": 1, \"48\": 1}, \"19\": {\"19\": 96, \"27\": 2, \"44\": 10, \"53\": 4, \"48\": 6, \"3\": 4, \"9\": 2, \"25\": 3, \"6\": 7, \"4\": 1, \"40\": 2, \"36\": 1, \"51\": 1, \"50\": 2, \"54\": 1}, \"44\": {\"44\": 67, \"54\": 1, \"40\": 2, \"48\": 4, \"19\": 10, \"4\": 3, \"53\": 3, \"51\": 1, \"25\": 12, \"45\": 1, \"3\": 5, \"36\": 3, \"6\": 4, \"26\": 1, \"50\": 2, \"18\": 3}, \"47\": {\"47\": 81, \"5\": 10, \"39\": 2, \"57\": 11, \"41\": 1, \"29\": 3, \"52\": 7, \"46\": 3, \"23\": 1, \"16\": 1}, \"33\": {\"33\": 34, \"28\": 1, \"54\": 1}, \"5\": {\"41\": 4, \"5\": 65, \"47\": 9, \"39\": 1, \"29\": 4, \"52\": 9, \"35\": 1, \"57\": 8, \"36\": 1, \"54\": 1, \"16\": 1, \"46\": 1, \"23\": 2, \"34\": 1}, \"18\": {\"18\": 83, \"25\": 8, \"54\": 2, \"23\": 5, \"50\": 1, \"53\": 3, \"44\": 1, \"48\": 1, \"42\": 1, \"19\": 1, \"6\": 1, \"3\": 1}, \"21\": {\"21\": 115, \"30\": 5, \"17\": 2, \"50\": 1, \"9\": 1}, \"41\": {\"39\": 1, \"41\": 35}, \"23\": {\"23\": 113, \"18\": 7, \"42\": 1, \"54\": 3, \"52\": 2, \"34\": 2}, \"39\": {\"39\": 17, \"5\": 1, \"47\": 1, \"46\": 1}, \"37\": {\"37\": 23, \"32\": 1}, \"8\": {\"8\": 110, \"27\": 20, \"30\": 1, \"17\": 5, \"50\": 4, \"9\": 4}, \"49\": {\"35\": 2, \"49\": 16, \"1\": 2}, \"53\": {\"20\": 12, \"53\": 101, \"4\": 3, \"36\": 3, \"48\": 4, \"50\": 3, \"3\": 8, \"8\": 3, \"27\": 2, \"17\": 1}, \"31\": {\"31\": 28}, \"28\": {\"18\": 3, \"28\": 18, \"3\": 2, \"25\": 2, \"42\": 3, \"54\": 2, \"23\": 2}, \"3\": {\"3\": 38, \"50\": 3, \"48\": 20, \"53\": 16, \"51\": 1, \"4\": 3, \"42\": 1, \"8\": 6, \"25\": 6, \"6\": 4, \"27\": 1, \"54\": 2, \"36\": 16, \"20\": 2, \"26\": 1, \"18\": 3, \"9\": 1}, \"27\": {\"27\": 133, \"9\": 2, \"8\": 3}, \"46\": {\"46\": 63, \"57\": 12, \"39\": 2, \"35\": 2, \"16\": 10, \"11\": 2, \"41\": 2, \"15\": 4, \"47\": 3, \"29\": 4, \"5\": 9, \"52\": 8, \"37\": 1, \"22\": 1, \"43\": 1, \"1\": 3, \"7\": 1}, \"12\": {\"12\": 56, \"21\": 12, \"17\": 5, \"8\": 2, \"30\": 4, \"50\": 2, \"51\": 2, \"9\": 4, \"20\": 2, \"6\": 1, \"27\": 2}, \"7\": {\"7\": 21, \"32\": 2, \"55\": 1}, \"4\": {\"4\": 117, \"27\": 5, \"23\": 1, \"53\": 2, \"9\": 1, \"20\": 2, \"19\": 1, \"8\": 1, \"48\": 1, \"40\": 1}, \"42\": {\"42\": 27, \"54\": 4, \"28\": 1}, \"43\": {\"43\": 105, \"24\": 6, \"15\": 2, \"2\": 1, \"0\": 5, \"11\": 5, \"22\": 5, \"38\": 1}, \"29\": {\"29\": 105, \"5\": 3, \"53\": 1, \"33\": 2, \"47\": 4, \"57\": 1, \"16\": 2, \"52\": 1, \"23\": 1}, \"57\": {\"57\": 92, \"5\": 4, \"39\": 1, \"47\": 2, \"46\": 1}, \"52\": {\"52\": 94, \"5\": 2, \"23\": 6, \"57\": 1, \"47\": 1}, \"45\": {\"8\": 1, \"12\": 3, \"17\": 15, \"27\": 9, \"50\": 1, \"30\": 8, \"21\": 15, \"45\": 33, \"26\": 1, \"25\": 2, \"42\": 1, \"20\": 2, \"4\": 2, \"36\": 1, \"51\": 2}, \"36\": {\"36\": 83, \"53\": 2, \"3\": 2, \"48\": 4, \"20\": 1}, \"10\": {\"10\": 121, \"38\": 1, \"2\": 1, \"13\": 2, \"22\": 1}, \"15\": {\"15\": 123, \"11\": 4, \"16\": 5, \"46\": 1, \"7\": 1}, \"56\": {\"56\": 110, \"43\": 4, \"38\": 2, \"10\": 3, \"0\": 2, \"22\": 2, \"55\": 1}, \"2\": {\"2\": 35, \"10\": 1}}, \"C_5\": {\"47\": {\"39\": 4, \"47\": 68, \"3\": 4, \"28\": 2, \"46\": 7, \"57\": 7, \"52\": 7, \"37\": 1}, \"53\": {\"53\": 126, \"1\": 3, \"8\": 20, \"27\": 1}, \"29\": {\"29\": 103, \"28\": 1, \"15\": 2, \"34\": 1, \"11\": 6, \"14\": 2, \"43\": 4, \"47\": 1, \"40\": 1, \"49\": 2, \"3\": 1, \"16\": 2}, \"52\": {\"42\": 2, \"52\": 119, \"21\": 1, \"46\": 2, \"54\": 1, \"47\": 1, \"57\": 4}, \"55\": {\"53\": 8, \"17\": 3, \"1\": 6, \"27\": 20, \"33\": 1, \"48\": 8, \"55\": 31, \"32\": 1, \"8\": 12, \"18\": 2, \"42\": 1, \"9\": 18, \"45\": 1, \"19\": 8, \"7\": 1, \"25\": 9, \"4\": 1, \"21\": 3, \"50\": 5, \"6\": 1, \"20\": 3, \"23\": 1}, \"17\": {\"17\": 98, \"26\": 3, \"30\": 10, \"45\": 2, \"6\": 2, \"9\": 1}, \"42\": {\"42\": 37, \"41\": 2, \"54\": 1}, \"33\": {\"33\": 29, \"32\": 1, \"50\": 2}, \"11\": {\"11\": 114, \"29\": 4, \"0\": 4, \"15\": 14, \"31\": 1, \"43\": 9, \"14\": 1, \"36\": 1}, \"19\": {\"4\": 1, \"19\": 89, \"32\": 1, \"9\": 3, \"55\": 3, \"8\": 1, \"53\": 4, \"5\": 1, \"20\": 7, \"27\": 5, \"1\": 2, \"6\": 1}, \"1\": {\"1\": 137, \"8\": 2, \"48\": 4, \"53\": 1}, \"44\": {\"44\": 110, \"2\": 1, \"40\": 10, \"15\": 5, \"3\": 1, \"5\": 3, \"29\": 3, \"14\": 5, \"36\": 1, \"11\": 1, \"52\": 1, \"43\": 1}, \"49\": {\"49\": 36}, \"4\": {\"4\": 31, \"1\": 1, \"17\": 10, \"27\": 14, \"45\": 3, \"53\": 2, \"30\": 7, \"12\": 4, \"6\": 3, \"9\": 4, \"55\": 3, \"5\": 2, \"51\": 7, \"26\": 1, \"20\": 6, \"32\": 1, \"48\": 1}, \"6\": {\"17\": 16, \"6\": 37, \"26\": 3, \"1\": 4, \"9\": 7, \"30\": 24, \"51\": 7, \"7\": 1, \"27\": 1, \"19\": 1, \"50\": 2, \"48\": 4, \"25\": 2, \"53\": 1, \"23\": 1, \"8\": 1, \"20\": 1, \"21\": 1, \"4\": 1, \"45\": 1}, \"39\": {\"39\": 18, \"52\": 2}, \"50\": {\"1\": 17, \"50\": 40, \"6\": 1, \"8\": 16, \"25\": 14, \"18\": 6, \"42\": 1, \"23\": 5, \"53\": 14, \"21\": 4, \"52\": 1, \"45\": 1, \"54\": 8, \"47\": 1, \"20\": 7, \"27\": 1, \"55\": 2, \"32\": 1, \"48\": 4, \"41\": 1, \"57\": 2, \"51\": 1}, \"56\": {\"24\": 8, \"56\": 92, \"11\": 2, \"15\": 8, \"35\": 2, \"43\": 8, \"0\": 9, \"40\": 1}, \"25\": {\"25\": 103, \"6\": 2, \"27\": 1, \"20\": 1, \"50\": 18, \"18\": 3, \"54\": 3, \"55\": 1, \"19\": 1, \"23\": 6, \"9\": 1, \"21\": 1, \"53\": 1, \"8\": 2}, \"28\": {\"28\": 28, \"3\": 1, \"46\": 2, \"47\": 1}, \"35\": {\"35\": 34, \"13\": 1, \"56\": 1}, \"24\": {\"24\": 70, \"35\": 1, \"15\": 2, \"43\": 1, \"56\": 5, \"0\": 1}, \"21\": {\"25\": 9, \"21\": 110, \"18\": 5, \"23\": 2, \"50\": 4, \"8\": 1, \"54\": 1}, \"45\": {\"4\": 5, \"55\": 7, \"26\": 4, \"45\": 14, \"1\": 3, \"17\": 15, \"38\": 2, \"6\": 12, \"30\": 15, \"21\": 2, \"12\": 3, \"7\": 4, \"9\": 12, \"48\": 4, \"20\": 6, \"19\": 1, \"52\": 2, \"25\": 1, \"14\": 1, \"23\": 1, \"40\": 1, \"18\": 2, \"27\": 2, \"50\": 2, \"53\": 1, \"51\": 2}, \"16\": {\"16\": 138, \"3\": 2, \"47\": 1, \"56\": 1, \"46\": 1, \"11\": 1}, \"37\": {\"37\": 20, \"46\": 4}, \"57\": {\"57\": 125, \"47\": 1, \"52\": 6}, \"34\": {\"34\": 27, \"47\": 2, \"39\": 1, \"37\": 1, \"52\": 1, \"57\": 1, \"42\": 3}, \"38\": {\"38\": 32}, \"48\": {\"48\": 98, \"9\": 6, \"8\": 6, \"32\": 1, \"30\": 5, \"53\": 2, \"27\": 4, \"1\": 6, \"6\": 1, \"17\": 1}, \"26\": {\"17\": 2, \"26\": 22}, \"9\": {\"9\": 110, \"48\": 8, \"27\": 13, \"17\": 2, \"52\": 1, \"30\": 6, \"51\": 3, \"45\": 2, \"25\": 1, \"44\": 1, \"8\": 2, \"5\": 1, \"6\": 2}, \"18\": {\"18\": 54, \"25\": 3, \"1\": 1, \"8\": 1, \"27\": 2, \"53\": 2, \"32\": 1}, \"3\": {\"3\": 50, \"37\": 1, \"47\": 7, \"49\": 2, \"46\": 15, \"28\": 7, \"16\": 6, \"14\": 2, \"29\": 3, \"57\": 3, \"36\": 2, \"11\": 1, \"52\": 1}, \"23\": {\"23\": 103, \"54\": 13, \"41\": 2, \"25\": 2, \"21\": 3, \"50\": 1}, \"15\": {\"15\": 131, \"43\": 2, \"0\": 7, \"13\": 2, \"11\": 8, \"24\": 2, \"36\": 1, \"56\": 1}, \"10\": {\"10\": 65, \"13\": 3}, \"46\": {\"46\": 106, \"3\": 13, \"36\": 2, \"47\": 11, \"57\": 7, \"5\": 1, \"52\": 1, \"16\": 4, \"28\": 2, \"39\": 1}, \"22\": {\"22\": 27, \"13\": 1}, \"54\": {\"23\": 12, \"54\": 94, \"41\": 1, \"21\": 2, \"57\": 1, \"5\": 1, \"50\": 1}, \"27\": {\"27\": 149, \"8\": 1, \"32\": 3, \"53\": 3, \"30\": 2, \"9\": 2}, \"41\": {\"41\": 24, \"54\": 2, \"23\": 1, \"50\": 1}, \"31\": {\"31\": 35, \"29\": 1}, \"0\": {\"11\": 2, \"0\": 112, \"15\": 7, \"43\": 2, \"56\": 1}, \"7\": {\"7\": 32}, \"2\": {\"2\": 23, \"49\": 1, \"56\": 2, \"11\": 1, \"43\": 1}, \"14\": {\"14\": 15, \"36\": 4, \"28\": 4, \"47\": 2, \"3\": 5, \"29\": 2, \"46\": 2, \"0\": 1, \"16\": 1, \"57\": 5, \"11\": 1, \"43\": 1, \"23\": 1}, \"40\": {\"49\": 4, \"28\": 1, \"40\": 84, \"36\": 5, \"43\": 4, \"39\": 2, \"3\": 3, \"47\": 5, \"46\": 4, \"44\": 1, \"29\": 3, \"57\": 3, \"16\": 1, \"34\": 1, \"14\": 1, \"15\": 2}, \"5\": {\"57\": 14, \"49\": 1, \"5\": 80, \"40\": 4, \"28\": 1, \"23\": 4, \"37\": 1, \"47\": 6, \"54\": 4, \"52\": 3, \"46\": 4, \"39\": 1, \"44\": 1, \"33\": 1, \"14\": 1, \"43\": 1, \"11\": 1}, \"12\": {\"45\": 2, \"17\": 5, \"12\": 43, \"51\": 9, \"30\": 10, \"7\": 6, \"55\": 3, \"20\": 5, \"6\": 5, \"38\": 3, \"19\": 1, \"9\": 3, \"4\": 1}, \"43\": {\"2\": 2, \"43\": 98, \"36\": 2, \"24\": 2, \"49\": 1, \"11\": 10, \"29\": 6, \"15\": 11, \"0\": 3, \"56\": 4, \"37\": 1, \"14\": 1, \"44\": 1}, \"13\": {\"13\": 142, \"35\": 1, \"10\": 4, \"56\": 1}, \"36\": {\"36\": 72, \"49\": 6, \"2\": 1, \"3\": 4, \"5\": 1, \"14\": 2, \"29\": 1, \"16\": 2, \"43\": 2, \"11\": 1}, \"8\": {\"8\": 105, \"27\": 4, \"9\": 1, \"53\": 22, \"48\": 5, \"1\": 11, \"55\": 1, \"41\": 1}, \"32\": {\"32\": 18, \"26\": 1, \"8\": 3, \"9\": 2, \"48\": 2, \"57\": 1, \"53\": 2, \"46\": 1, \"30\": 2}, \"30\": {\"30\": 113, \"17\": 10, \"6\": 4, \"26\": 1}, \"51\": {\"51\": 115, \"9\": 3, \"45\": 2, \"20\": 10, \"30\": 2, \"11\": 1, \"6\": 1, \"48\": 1, \"17\": 1, \"29\": 1, \"53\": 1}, \"20\": {\"20\": 120, \"51\": 9, \"8\": 2, \"53\": 5, \"27\": 1, \"9\": 1}}, \"C_1\": {\"46\": {\"9\": 7, \"26\": 2, \"50\": 19, \"46\": 25, \"2\": 8, \"6\": 7, \"14\": 4, \"5\": 9, \"40\": 4, \"17\": 1, \"48\": 29, \"53\": 8, \"4\": 7, \"13\": 4, \"8\": 2, \"41\": 1, \"51\": 1, \"18\": 1, \"30\": 1}, \"16\": {\"16\": 134}, \"26\": {\"26\": 21, \"14\": 1, \"18\": 2}, \"10\": {\"10\": 81, \"24\": 2, \"52\": 5, \"27\": 1, \"11\": 7}, \"9\": {\"9\": 149, \"53\": 1, \"5\": 2, \"8\": 4}, \"28\": {\"28\": 22, \"52\": 2, \"39\": 1, \"31\": 1, \"24\": 1, \"22\": 1}, \"51\": {\"51\": 128, \"13\": 12, \"30\": 3, \"8\": 2, \"9\": 3, \"5\": 1, \"14\": 1, \"53\": 5, \"6\": 1}, \"1\": {\"1\": 82, \"42\": 3, \"57\": 5, \"45\": 6, \"19\": 2, \"56\": 1, \"44\": 1}, \"55\": {\"55\": 101, \"7\": 1, \"3\": 4, \"22\": 5, \"44\": 3, \"15\": 8, \"54\": 4, \"20\": 4, \"29\": 5, \"0\": 3, \"36\": 3, \"38\": 1, \"32\": 1, \"23\": 1, \"21\": 3, \"57\": 1}, \"27\": {\"10\": 3, \"27\": 111, \"31\": 1, \"43\": 9}, \"22\": {\"22\": 80, \"11\": 13, \"39\": 1, \"24\": 6, \"15\": 4, \"21\": 9, \"0\": 9, \"38\": 1, \"47\": 1}, \"52\": {\"10\": 7, \"52\": 78, \"0\": 5, \"31\": 1, \"28\": 1, \"11\": 11, \"3\": 3, \"24\": 4, \"27\": 5, \"47\": 2, \"22\": 5, \"49\": 3, \"15\": 1}, \"3\": {\"3\": 120, \"38\": 1, \"29\": 3, \"20\": 4, \"12\": 1, \"44\": 4, \"47\": 1, \"11\": 1, \"32\": 2, \"0\": 1, \"36\": 1, \"45\": 1}, \"33\": {\"33\": 32}, \"47\": {\"47\": 83, \"39\": 2, \"3\": 3, \"11\": 3, \"0\": 6, \"44\": 3, \"10\": 4, \"52\": 10, \"24\": 1, \"27\": 2, \"31\": 1, \"28\": 1, \"15\": 1}, \"42\": {\"42\": 35, \"19\": 4, \"57\": 1}, \"12\": {\"12\": 100, \"46\": 2, \"3\": 3, \"20\": 4, \"44\": 2, \"30\": 1, \"29\": 1, \"47\": 1, \"0\": 1, \"40\": 1}, \"23\": {\"23\": 132}, \"49\": {\"49\": 31, \"24\": 1}, \"7\": {\"7\": 18, \"19\": 1, \"51\": 3, \"45\": 2, \"18\": 1, \"8\": 1, \"37\": 2}, \"4\": {\"41\": 2, \"4\": 91, \"30\": 8, \"17\": 1, \"53\": 11, \"46\": 4, \"8\": 4, \"9\": 6, \"50\": 2, \"2\": 1, \"40\": 1, \"5\": 1}, \"50\": {\"50\": 129, \"53\": 1, \"9\": 2, \"6\": 2}, \"19\": {\"19\": 100, \"53\": 7, \"45\": 9, \"1\": 5, \"26\": 1, \"13\": 6, \"30\": 12, \"18\": 4, \"57\": 3, \"42\": 3, \"25\": 2, \"9\": 1, \"48\": 1}, \"11\": {\"11\": 125, \"24\": 11, \"52\": 2, \"22\": 2}, \"31\": {\"31\": 25, \"39\": 1, \"47\": 1, \"52\": 1}, \"41\": {\"41\": 16, \"8\": 1, \"2\": 1, \"6\": 1, \"53\": 3, \"17\": 2}, \"56\": {\"56\": 97, \"29\": 8, \"1\": 7, \"42\": 1, \"57\": 14, \"45\": 5, \"54\": 1, \"19\": 1, \"16\": 2, \"34\": 1, \"33\": 1}, \"0\": {\"0\": 117, \"22\": 9, \"23\": 1, \"15\": 12, \"21\": 6, \"11\": 1, \"44\": 1, \"24\": 1}, \"57\": {\"42\": 2, \"57\": 102, \"1\": 11, \"44\": 1, \"45\": 4, \"12\": 1, \"56\": 2, \"16\": 2, \"33\": 1, \"37\": 1, \"51\": 1}, \"53\": {\"53\": 118, \"8\": 10, \"30\": 1, \"9\": 11}, \"43\": {\"43\": 131, \"27\": 13}, \"37\": {\"37\": 32}, \"2\": {\"2\": 33, \"48\": 1, \"6\": 2}, \"6\": {\"6\": 89, \"48\": 5, \"8\": 1, \"5\": 1}, \"13\": {\"18\": 5, \"41\": 2, \"13\": 120, \"30\": 15, \"51\": 2, \"19\": 1, \"53\": 3, \"25\": 1, \"5\": 1}, \"18\": {\"18\": 71, \"30\": 1}, \"36\": {\"36\": 63, \"54\": 1}, \"29\": {\"29\": 83, \"1\": 7, \"36\": 1, \"54\": 2, \"57\": 9, \"56\": 26, \"3\": 1, \"20\": 4, \"45\": 2, \"19\": 1, \"44\": 2, \"16\": 1, \"40\": 1}, \"39\": {\"39\": 23, \"11\": 1, \"10\": 1, \"49\": 1, \"24\": 2}, \"17\": {\"17\": 62, \"6\": 2}, \"21\": {\"21\": 107, \"0\": 2, \"22\": 2, \"15\": 11, \"23\": 2}, \"25\": {\"25\": 119, \"18\": 1, \"45\": 4, \"53\": 2, \"13\": 3, \"30\": 2, \"19\": 1}, \"45\": {\"45\": 127, \"19\": 5, \"1\": 3, \"18\": 3, \"30\": 1, \"25\": 1, \"42\": 2}, \"38\": {\"38\": 22, \"23\": 1, \"44\": 1}, \"30\": {\"30\": 96, \"14\": 2, \"17\": 1, \"53\": 17, \"8\": 1, \"9\": 3}, \"24\": {\"11\": 9, \"24\": 80, \"22\": 5, \"49\": 3, \"52\": 2, \"21\": 2, \"31\": 3, \"39\": 1, \"15\": 1, \"0\": 2}, \"20\": {\"20\": 136, \"54\": 1, \"44\": 1, \"29\": 1, \"3\": 1}, \"8\": {\"8\": 136, \"17\": 1, \"9\": 3}, \"35\": {\"35\": 34, \"0\": 2}, \"54\": {\"54\": 100, \"33\": 2, \"36\": 1, \"16\": 1}, \"5\": {\"8\": 22, \"5\": 52, \"53\": 14, \"30\": 2, \"9\": 22, \"48\": 12, \"17\": 9, \"6\": 8, \"50\": 5, \"2\": 1, \"46\": 1}, \"48\": {\"48\": 137, \"2\": 2, \"6\": 4, \"50\": 1}, \"15\": {\"15\": 109, \"21\": 16, \"0\": 11, \"22\": 4, \"38\": 1, \"47\": 1}, \"34\": {\"34\": 24}, \"14\": {\"14\": 10, \"13\": 2, \"6\": 2, \"9\": 6, \"30\": 1, \"8\": 2, \"48\": 1}, \"32\": {\"32\": 27, \"23\": 3, \"54\": 1, \"36\": 1}, \"40\": {\"40\": 84, \"8\": 8, \"9\": 7, \"14\": 1, \"5\": 14, \"13\": 1, \"53\": 7, \"51\": 4, \"6\": 2, \"46\": 3, \"12\": 1, \"17\": 2, \"50\": 5, \"30\": 3, \"48\": 3, \"19\": 2, \"20\": 1}, \"44\": {\"44\": 87, \"54\": 5, \"3\": 7, \"55\": 1, \"32\": 4, \"22\": 2, \"36\": 3, \"0\": 6, \"21\": 5, \"15\": 4, \"12\": 2, \"23\": 6, \"16\": 2, \"56\": 1, \"29\": 1}}, \"W_1\": {\"108\": {\"64\": 1, \"23\": 1, \"44\": 3, \"108\": 28, \"87\": 5, \"107\": 2, \"84\": 6, \"4\": 3, \"50\": 1, \"29\": 2, \"5\": 2, \"101\": 14, \"128\": 1, \"8\": 10, \"106\": 1, \"43\": 2, \"62\": 2, \"93\": 2, \"118\": 2, \"90\": 4, \"39\": 1, \"24\": 3, \"70\": 3, \"124\": 1, \"11\": 1, \"105\": 3, \"40\": 3, \"110\": 3, \"10\": 2, \"49\": 1, \"14\": 2, \"74\": 1, \"83\": 1, \"72\": 1, \"48\": 1, \"38\": 1, \"114\": 1, \"0\": 1, \"18\": 1, \"109\": 1}, \"40\": {\"40\": 77, \"7\": 4, \"114\": 7, \"5\": 7, \"4\": 8, \"105\": 6, \"87\": 4, \"124\": 5, \"0\": 1, \"93\": 4, \"107\": 5, \"106\": 2, \"110\": 2, \"108\": 1, \"10\": 1, \"3\": 1, \"43\": 1}, \"68\": {\"68\": 8, \"57\": 1, \"53\": 1, \"17\": 1, \"34\": 2, \"85\": 1, \"127\": 2}, \"23\": {\"108\": 2, \"85\": 3, \"84\": 1, \"56\": 1, \"96\": 1, \"103\": 2, \"9\": 1, \"88\": 1, \"44\": 1, \"0\": 1, \"87\": 1, \"72\": 1, \"129\": 1, \"66\": 1, \"22\": 1, \"91\": 1, \"23\": 1, \"128\": 1, \"106\": 2}, \"26\": {\"26\": 93, \"118\": 9, \"27\": 1, \"16\": 4, \"117\": 8, \"21\": 1, \"6\": 1, \"69\": 1, \"39\": 1, \"18\": 1}, \"64\": {\"64\": 12, \"62\": 1, \"57\": 1, \"90\": 1, \"96\": 1}, \"22\": {\"22\": 10, \"116\": 2, \"33\": 1, \"109\": 1, \"99\": 1, \"112\": 1}, \"3\": {\"64\": 1, \"3\": 38, \"81\": 1, \"44\": 1, \"102\": 5, \"87\": 2, \"84\": 4, \"78\": 3, \"114\": 5, \"0\": 1, \"33\": 4, \"129\": 2, \"1\": 5, \"90\": 1, \"94\": 1, \"126\": 3, \"122\": 1, \"82\": 2, \"71\": 1, \"14\": 1, \"15\": 1, \"39\": 1, \"43\": 1, \"26\": 1, \"125\": 1, \"10\": 1}, \"4\": {\"40\": 10, \"4\": 62, \"93\": 1, \"114\": 2, \"32\": 1, \"107\": 4, \"0\": 4, \"30\": 1, \"110\": 4, \"5\": 1, \"101\": 2, \"102\": 1, \"7\": 2, \"55\": 1, \"9\": 1, \"24\": 1, \"121\": 1, \"88\": 1}, \"70\": {\"4\": 2, \"57\": 1, \"124\": 2, \"70\": 19, \"69\": 2, \"95\": 3, \"35\": 1, \"8\": 7, \"9\": 2, \"108\": 5, \"122\": 2, \"101\": 6, \"118\": 2, \"6\": 1, \"44\": 4, \"39\": 5, \"93\": 6, \"84\": 2, \"10\": 3, \"126\": 4, \"1\": 3, \"107\": 2, \"109\": 5, \"105\": 2, \"43\": 6, \"15\": 2, \"114\": 2, \"18\": 3, \"110\": 2, \"90\": 5, \"7\": 2, \"38\": 1, \"31\": 1, \"16\": 1, \"30\": 1, \"94\": 1, \"87\": 1, \"40\": 1}, \"57\": {\"57\": 10, \"88\": 1, \"28\": 1}, \"79\": {\"79\": 9, \"3\": 1, \"105\": 1, \"48\": 1}, \"9\": {\"9\": 18, \"91\": 1, \"40\": 1, \"43\": 1, \"73\": 1, \"110\": 1, \"4\": 1, \"35\": 1, \"31\": 1, \"86\": 1, \"88\": 1, \"104\": 1, \"17\": 1, \"72\": 1, \"105\": 1}, \"89\": {\"89\": 28, \"55\": 1, \"72\": 1, \"86\": 1, \"110\": 3, \"83\": 1, \"97\": 1}, \"110\": {\"4\": 2, \"110\": 69, \"105\": 1, \"83\": 1, \"85\": 1, \"70\": 1, \"86\": 1, \"24\": 3, \"127\": 1, \"93\": 4, \"114\": 2, \"94\": 1, \"106\": 6, \"107\": 9, \"10\": 4, \"15\": 1, \"108\": 3, \"101\": 4, \"40\": 3, \"88\": 2, \"43\": 1, \"9\": 1, \"58\": 1, \"5\": 2, \"89\": 1, \"0\": 2, \"1\": 1}, \"102\": {\"102\": 83, \"3\": 1, \"82\": 1, \"62\": 3, \"119\": 1, \"11\": 6, \"33\": 9, \"126\": 1, \"69\": 8, \"1\": 1, \"63\": 1, \"67\": 1, \"26\": 1, \"78\": 1, \"36\": 1, \"16\": 1}, \"31\": {\"31\": 16}, \"58\": {\"58\": 10, \"27\": 1, \"86\": 1}, \"47\": {\"47\": 10, \"29\": 1, \"93\": 1}, \"24\": {\"17\": 1, \"52\": 1, \"72\": 1, \"103\": 1, \"78\": 1, \"122\": 1, \"19\": 1, \"97\": 2, \"98\": 2, \"24\": 18, \"0\": 3, \"27\": 5, \"15\": 7, \"107\": 2, \"12\": 5, \"40\": 1, \"87\": 1, \"26\": 2, \"108\": 7, \"113\": 1, \"44\": 1, \"94\": 2, \"10\": 2, \"93\": 1, \"111\": 5, \"127\": 2, \"105\": 1, \"5\": 2, \"49\": 1, \"71\": 2, \"30\": 1, \"84\": 1, \"36\": 1, \"8\": 2, \"70\": 2, \"88\": 1, \"106\": 2}, \"19\": {\"19\": 23, \"14\": 2, \"31\": 1, \"80\": 1, \"60\": 1}, \"11\": {\"25\": 1, \"69\": 4, \"20\": 1, \"126\": 4, \"73\": 1, \"70\": 2, \"62\": 8, \"34\": 1, \"11\": 34, \"124\": 3, \"95\": 1, \"33\": 6, \"116\": 1, \"109\": 4, \"16\": 2, \"90\": 6, \"3\": 2, \"84\": 7, \"43\": 4, \"118\": 1, \"87\": 3, \"122\": 1, \"44\": 1, \"102\": 6, \"117\": 4, \"8\": 2, \"18\": 5, \"114\": 4, \"99\": 1, \"57\": 1, \"67\": 1, \"65\": 1, \"105\": 1, \"39\": 4, \"1\": 1, \"14\": 2, \"26\": 1}, \"52\": {\"52\": 17, \"12\": 2, \"127\": 1}, \"17\": {\"17\": 4, \"73\": 1, \"43\": 1, \"9\": 2, \"85\": 1, \"103\": 3, \"72\": 1, \"4\": 1, \"55\": 1, \"107\": 1}, \"25\": {\"25\": 10, \"45\": 2, \"90\": 1, \"14\": 1, \"33\": 1, \"118\": 1}, \"69\": {\"69\": 67, \"62\": 10, \"102\": 7, \"26\": 5, \"33\": 5, \"11\": 1, \"16\": 2, \"18\": 2, \"2\": 2, \"82\": 1, \"39\": 1, \"67\": 1, \"90\": 2, \"14\": 1, \"3\": 1}, \"96\": {\"96\": 8, \"51\": 1, \"65\": 2, \"121\": 1, \"87\": 1, \"1\": 1, \"42\": 1, \"26\": 1, \"28\": 1, \"117\": 1, \"74\": 1, \"44\": 1}, \"109\": {\"109\": 48, \"3\": 2, \"20\": 1, \"2\": 1, \"95\": 4, \"70\": 2, \"60\": 1, \"128\": 1, \"11\": 3, \"62\": 3, \"84\": 2, \"126\": 11, \"118\": 2, \"39\": 2, \"44\": 3, \"90\": 9, \"1\": 2, \"18\": 3, \"74\": 1, \"76\": 3, \"42\": 1, \"121\": 2, \"16\": 1, \"43\": 2, \"113\": 2, \"8\": 1, \"93\": 1}, \"115\": {\"115\": 6, \"83\": 1, \"41\": 1, \"128\": 1, \"73\": 2, \"0\": 1}, \"83\": {\"83\": 11, \"115\": 2, \"124\": 2, \"105\": 1, \"77\": 1, \"121\": 1, \"87\": 2, \"40\": 1, \"48\": 1, \"108\": 1, \"10\": 2, \"72\": 1, \"7\": 1, \"29\": 1}, \"84\": {\"1\": 17, \"128\": 1, \"40\": 2, \"87\": 5, \"84\": 59, \"60\": 1, \"48\": 1, \"8\": 2, \"42\": 2, \"122\": 3, \"105\": 5, \"108\": 3, \"118\": 1, \"70\": 3, \"90\": 2, \"14\": 2, \"114\": 4, \"43\": 5, \"93\": 3, \"10\": 1, \"74\": 1, \"39\": 1, \"33\": 1, \"88\": 1, \"7\": 1, \"109\": 1}, \"119\": {\"122\": 2, \"119\": 13, \"62\": 1}, \"122\": {\"84\": 7, \"122\": 22, \"69\": 1, \"33\": 2, \"95\": 3, \"78\": 2, \"62\": 2, \"19\": 1, \"116\": 1, \"80\": 1, \"120\": 1, \"14\": 8, \"108\": 1, \"43\": 3, \"1\": 1, \"117\": 2, \"90\": 3, \"105\": 2, \"109\": 3, \"39\": 4, \"124\": 1, \"87\": 3, \"74\": 1, \"64\": 1, \"28\": 2, \"81\": 3, \"21\": 2, \"18\": 1, \"3\": 2, \"114\": 1, \"11\": 1}, \"99\": {\"122\": 2, \"99\": 14, \"96\": 2, \"20\": 1, \"120\": 1, \"62\": 1, \"21\": 1, \"129\": 1, \"66\": 1}, \"1\": {\"74\": 1, \"1\": 74, \"105\": 4, \"66\": 2, \"19\": 1, \"80\": 2, \"14\": 1, \"84\": 20, \"126\": 3, \"43\": 6, \"39\": 1, \"108\": 3, \"3\": 3, \"90\": 1, \"87\": 4, \"5\": 1, \"33\": 2, \"109\": 1, \"73\": 1, \"129\": 2, \"128\": 1, \"114\": 1, \"16\": 1}, \"74\": {\"74\": 13, \"20\": 1, \"28\": 1, \"61\": 1}, \"85\": {\"85\": 27, \"49\": 2, \"0\": 1, \"110\": 1, \"91\": 1}, \"127\": {\"127\": 74, \"123\": 1, \"88\": 1, \"0\": 2, \"71\": 4, \"111\": 4, \"6\": 1, \"30\": 1, \"12\": 4, \"94\": 2, \"43\": 1, \"16\": 1, \"85\": 1, \"106\": 5, \"97\": 1, \"110\": 2, \"15\": 1, \"98\": 2}, \"111\": {\"127\": 7, \"111\": 68, \"68\": 1, \"27\": 3, \"0\": 2, \"12\": 7, \"4\": 1, \"71\": 4, \"24\": 4, \"5\": 1, \"98\": 3, \"88\": 5, \"15\": 3, \"106\": 2, \"32\": 1, \"94\": 4, \"30\": 3, \"40\": 1}, \"53\": {\"111\": 3, \"53\": 16, \"6\": 1}, \"88\": {\"23\": 1, \"88\": 27, \"53\": 1, \"93\": 8, \"111\": 3, \"71\": 7, \"6\": 5, \"105\": 2, \"10\": 6, \"87\": 4, \"36\": 10, \"30\": 1, \"72\": 1, \"101\": 2, \"24\": 1, \"94\": 3, \"5\": 6, \"124\": 2, \"40\": 3, \"108\": 6, \"8\": 1, \"125\": 9, \"110\": 4, \"43\": 1, \"126\": 3, \"1\": 2, \"127\": 1, \"84\": 3, \"7\": 1, \"9\": 1, \"27\": 2, \"0\": 1, \"118\": 1, \"107\": 1, \"4\": 1, \"70\": 1}, \"65\": {\"65\": 5, \"63\": 1, \"43\": 1, \"66\": 2, \"40\": 1, \"39\": 1, \"121\": 1}, \"7\": {\"7\": 85, \"84\": 2, \"126\": 5, \"105\": 5, \"124\": 3, \"90\": 1, \"114\": 4, \"5\": 4, \"44\": 2, \"40\": 2, \"93\": 6, \"1\": 1, \"10\": 2, \"9\": 1, \"72\": 1, \"75\": 1, \"71\": 3, \"108\": 2, \"70\": 1, \"107\": 2, \"43\": 1}, \"16\": {\"16\": 46, \"63\": 2, \"61\": 2, \"95\": 2, \"118\": 6, \"26\": 14, \"62\": 4, \"90\": 2, \"69\": 5, \"117\": 10, \"39\": 5, \"113\": 2, \"70\": 1, \"18\": 1, \"109\": 2, \"2\": 2, \"65\": 1, \"120\": 1}, \"128\": {\"128\": 8, \"102\": 1, \"60\": 1, \"125\": 1, \"8\": 2, \"108\": 3, \"23\": 1, \"105\": 2, \"70\": 1, \"14\": 1, \"110\": 1, \"10\": 1, \"40\": 1}, \"34\": {\"129\": 1, \"28\": 4, \"56\": 3, \"43\": 2, \"122\": 1, \"94\": 1, \"112\": 1, \"72\": 1, \"34\": 1, \"87\": 2, \"128\": 1, \"125\": 1, \"42\": 3, \"6\": 1, \"64\": 2, \"37\": 1, \"60\": 1, \"52\": 1, \"12\": 1, \"10\": 1, \"68\": 1, \"111\": 1}, \"129\": {\"129\": 4, \"128\": 1, \"124\": 1, \"117\": 1, \"81\": 1, \"105\": 2, \"118\": 1, \"45\": 1, \"29\": 4, \"26\": 2, \"84\": 1, \"62\": 1, \"2\": 1, \"9\": 1, \"99\": 2, \"87\": 1, \"72\": 2, \"49\": 1}, \"43\": {\"128\": 1, \"129\": 1, \"65\": 1, \"79\": 1, \"43\": 33, \"20\": 1, \"64\": 1, \"124\": 2, \"96\": 1, \"63\": 1, \"8\": 9, \"121\": 1, \"105\": 7, \"83\": 1, \"120\": 2, \"84\": 2, \"70\": 5, \"95\": 1, \"108\": 6, \"39\": 2, \"126\": 6, \"87\": 5, \"109\": 6, \"114\": 7, \"90\": 1, \"1\": 4, \"5\": 1, \"10\": 1, \"7\": 4, \"93\": 3, \"122\": 1, \"11\": 2, \"69\": 1, \"40\": 6, \"117\": 1}, \"92\": {\"92\": 28}, \"28\": {\"43\": 1, \"92\": 1, \"1\": 2, \"28\": 9, \"104\": 1, \"44\": 1, \"70\": 1, \"42\": 1, \"34\": 1, \"10\": 1, \"71\": 1}, \"27\": {\"104\": 1, \"27\": 22, \"5\": 2, \"89\": 1, \"52\": 1, \"36\": 1, \"75\": 2, \"0\": 5, \"12\": 4, \"51\": 1, \"85\": 1, \"15\": 5, \"101\": 6, \"6\": 1, \"98\": 2, \"94\": 5, \"110\": 5, \"88\": 3, \"30\": 4, \"24\": 3, \"4\": 1, \"71\": 1, \"29\": 1, \"49\": 1, \"111\": 1, \"107\": 2, \"108\": 1, \"9\": 1, \"40\": 1, \"97\": 1, \"125\": 2, \"106\": 2, \"105\": 2}, \"114\": {\"114\": 79, \"40\": 6, \"84\": 4, \"3\": 1, \"7\": 3, \"72\": 2, \"90\": 1, \"105\": 4, \"87\": 5, \"1\": 4, \"126\": 1, \"93\": 2, \"108\": 4, \"55\": 1, \"14\": 1, \"5\": 2, \"24\": 1, \"8\": 1, \"110\": 1, \"124\": 1}, \"73\": {\"128\": 1, \"73\": 15, \"9\": 2, \"103\": 1, \"72\": 1}, \"0\": {\"27\": 3, \"104\": 1, \"111\": 4, \"103\": 2, \"75\": 2, \"0\": 19, \"35\": 1, \"71\": 4, \"52\": 1, \"101\": 2, \"88\": 3, \"29\": 1, \"127\": 4, \"24\": 4, \"15\": 2, \"4\": 3, \"6\": 1, \"106\": 4, \"107\": 1, \"5\": 4, \"98\": 1, \"12\": 4, \"91\": 2, \"48\": 1, \"94\": 1, \"17\": 1, \"56\": 1, \"30\": 1, \"93\": 1, \"110\": 3, \"10\": 1, \"108\": 1}, \"104\": {\"129\": 1, \"128\": 1, \"104\": 10, \"60\": 1, \"126\": 1, \"122\": 1, \"10\": 1}, \"118\": {\"118\": 34, \"65\": 1, \"33\": 1, \"66\": 1, \"45\": 1, \"42\": 1, \"122\": 3, \"26\": 12, \"69\": 4, \"39\": 5, \"18\": 4, \"95\": 1, \"62\": 3, \"102\": 1, \"109\": 1, \"117\": 6, \"13\": 2, \"90\": 1, \"8\": 1, \"16\": 1}, \"41\": {\"41\": 12, \"128\": 1, \"31\": 1, \"110\": 1, \"101\": 1}, \"91\": {\"111\": 1, \"10\": 1, \"127\": 2, \"47\": 1, \"91\": 9, \"48\": 1, \"97\": 1, \"128\": 1, \"29\": 3, \"71\": 1, \"107\": 1, \"0\": 3, \"52\": 1, \"85\": 1, \"68\": 1}, \"124\": {\"124\": 77, \"23\": 1, \"43\": 3, \"3\": 1, \"108\": 3, \"114\": 5, \"5\": 2, \"40\": 14, \"93\": 3, \"105\": 4, \"87\": 1, \"70\": 3, \"9\": 4, \"126\": 1}, \"81\": {\"81\": 22, \"102\": 1, \"87\": 1, \"114\": 2, \"66\": 1, \"128\": 1}, \"63\": {\"129\": 2, \"69\": 1, \"63\": 10, \"16\": 1, \"119\": 1, \"113\": 1}, \"76\": {\"76\": 16}, \"10\": {\"10\": 19, \"51\": 1, \"8\": 11, \"122\": 4, \"0\": 5, \"107\": 7, \"62\": 1, \"12\": 4, \"127\": 3, \"87\": 3, \"106\": 5, \"24\": 1, \"44\": 1, \"109\": 1, \"110\": 8, \"111\": 3, \"108\": 3, \"1\": 2, \"126\": 3, \"70\": 4, \"15\": 5, \"101\": 1, \"43\": 2, \"84\": 1, \"17\": 1, \"103\": 1, \"60\": 1, \"58\": 1, \"96\": 1, \"74\": 1, \"88\": 3, \"104\": 1, \"28\": 1, \"86\": 1, \"77\": 1, \"42\": 1, \"91\": 1, \"85\": 1, \"39\": 1, \"21\": 1, \"93\": 1, \"98\": 1, \"27\": 1, \"16\": 1}, \"51\": {\"51\": 13, \"6\": 1, \"88\": 1, \"121\": 1}, \"82\": {\"82\": 22, \"50\": 2, \"62\": 2, \"11\": 2, \"14\": 1, \"2\": 1, \"33\": 3, \"122\": 1, \"80\": 1, \"42\": 1}, \"56\": {\"56\": 11, \"37\": 1}, \"30\": {\"110\": 3, \"56\": 1, \"30\": 11, \"0\": 3, \"27\": 4, \"84\": 1, \"5\": 1, \"24\": 1, \"94\": 4, \"71\": 3, \"108\": 1, \"72\": 1, \"6\": 4, \"10\": 2, \"101\": 2, \"105\": 1, \"88\": 2, \"127\": 1, \"36\": 2, \"89\": 1, \"9\": 1, \"4\": 1, \"7\": 1}, \"21\": {\"65\": 2, \"60\": 1, \"48\": 1, \"95\": 5, \"97\": 1, \"109\": 2, \"14\": 1, \"26\": 1, \"113\": 3, \"122\": 2, \"21\": 6, \"118\": 3, \"1\": 1, \"39\": 1, \"49\": 1, \"104\": 1, \"18\": 2, \"111\": 1, \"90\": 1, \"126\": 1, \"70\": 1, \"84\": 1, \"8\": 1}, \"46\": {\"124\": 1, \"19\": 1, \"105\": 2, \"114\": 2, \"46\": 1, \"6\": 1, \"40\": 2, \"92\": 1, \"81\": 1}, \"33\": {\"33\": 110, \"3\": 1, \"62\": 4, \"82\": 1, \"2\": 3, \"11\": 2, \"102\": 4, \"14\": 1, \"1\": 2, \"60\": 1, \"69\": 2, \"50\": 1, \"84\": 2, \"90\": 1, \"16\": 1, \"39\": 1, \"109\": 1}, \"101\": {\"101\": 108, \"41\": 1, \"72\": 2, \"91\": 1, \"5\": 2, \"26\": 1, \"11\": 1, \"110\": 3, \"89\": 1, \"10\": 1, \"1\": 1, \"117\": 1, \"40\": 1}, \"105\": {\"105\": 58, \"1\": 1, \"21\": 1, \"6\": 1, \"40\": 10, \"93\": 1, \"43\": 1, \"87\": 1, \"5\": 1, \"108\": 1, \"4\": 1, \"124\": 1, \"114\": 3, \"84\": 2, \"7\": 1}, \"50\": {\"50\": 14, \"113\": 1, \"42\": 1}, \"116\": {\"79\": 1, \"50\": 1, \"2\": 1, \"116\": 16, \"123\": 1, \"122\": 1, \"62\": 1, \"20\": 1, \"118\": 1, \"11\": 1, \"26\": 2, \"100\": 1, \"18\": 1, \"82\": 1, \"3\": 1, \"124\": 1}, \"77\": {\"77\": 11, \"35\": 1, \"86\": 1, \"0\": 2, \"107\": 1}, \"75\": {\"75\": 9, \"0\": 2, \"58\": 1, \"91\": 1, \"24\": 1, \"77\": 1, \"108\": 1}, \"95\": {\"95\": 34, \"13\": 1, \"118\": 1}, \"120\": {\"120\": 18, \"70\": 1, \"64\": 1}, \"18\": {\"95\": 3, \"76\": 1, \"18\": 59, \"69\": 2, \"118\": 4, \"26\": 3, \"113\": 5, \"39\": 4, \"90\": 6, \"16\": 2, \"117\": 8, \"129\": 1, \"8\": 2, \"21\": 1, \"107\": 1, \"33\": 2, \"109\": 2, \"62\": 1, \"126\": 1}, \"14\": {\"14\": 82, \"124\": 1, \"1\": 2, \"84\": 4, \"102\": 2, \"8\": 1, \"43\": 1, \"122\": 1, \"33\": 1, \"109\": 1}, \"44\": {\"23\": 1, \"44\": 52, \"66\": 1, \"43\": 3, \"39\": 1, \"8\": 3, \"7\": 1, \"108\": 3, \"1\": 2, \"41\": 1, \"28\": 1, \"87\": 2, \"96\": 1, \"126\": 1, \"70\": 1, \"90\": 1, \"114\": 1}, \"98\": {\"98\": 60, \"71\": 6, \"85\": 1, \"111\": 5, \"32\": 3, \"30\": 3, \"127\": 4, \"27\": 1, \"24\": 2, \"107\": 2, \"106\": 1, \"88\": 2, \"15\": 1, \"12\": 2, \"53\": 1, \"110\": 1, \"36\": 1}, \"121\": {\"121\": 23, \"64\": 1, \"76\": 1, \"95\": 1, \"39\": 2, \"90\": 2, \"26\": 1, \"67\": 1}, \"113\": {\"113\": 84, \"64\": 1, \"3\": 1, \"39\": 6, \"18\": 2, \"117\": 2, \"109\": 2, \"126\": 1, \"16\": 3, \"26\": 1, \"2\": 2, \"28\": 1, \"95\": 1, \"118\": 1}, \"103\": {\"103\": 10, \"53\": 1, \"0\": 1, \"9\": 1, \"58\": 1, \"17\": 1, \"89\": 1}, \"62\": {\"62\": 94, \"64\": 1, \"69\": 2, \"67\": 2, \"82\": 1, \"20\": 1, \"39\": 2, \"102\": 3, \"122\": 1, \"43\": 1, \"26\": 1, \"16\": 1, \"14\": 2, \"42\": 1, \"33\": 3, \"11\": 1, \"107\": 1, \"18\": 2}, \"32\": {\"85\": 4, \"111\": 3, \"32\": 18, \"0\": 3, \"98\": 1, \"4\": 1, \"10\": 1, \"91\": 1}, \"71\": {\"12\": 6, \"71\": 49, \"85\": 1, \"88\": 7, \"15\": 9, \"111\": 8, \"94\": 10, \"127\": 3, \"98\": 3, \"16\": 1, \"18\": 1, \"125\": 3, \"37\": 1, \"95\": 1, \"30\": 2, \"6\": 1, \"97\": 1, \"36\": 1}, \"94\": {\"12\": 5, \"94\": 44, \"0\": 2, \"77\": 1, \"127\": 5, \"4\": 1, \"125\": 4, \"98\": 3, \"24\": 1, \"108\": 1, \"106\": 2, \"101\": 1, \"71\": 1, \"16\": 1, \"103\": 1, \"68\": 2, \"91\": 1, \"112\": 1, \"107\": 1, \"27\": 2, \"93\": 2, \"85\": 1, \"111\": 2, \"88\": 2, \"95\": 1, \"30\": 1, \"15\": 1, \"36\": 1, \"113\": 1}, \"49\": {\"49\": 11, \"34\": 1, \"4\": 1, \"27\": 1, \"10\": 1, \"110\": 2, \"73\": 1, \"6\": 1, \"72\": 1}, \"12\": {\"12\": 44, \"111\": 7, \"27\": 5, \"5\": 1, \"32\": 2, \"15\": 3, \"127\": 8, \"94\": 3, \"71\": 2, \"106\": 6, \"98\": 5, \"0\": 2, \"109\": 1, \"24\": 3, \"10\": 2, \"36\": 2, \"107\": 1, \"52\": 1, \"90\": 2, \"30\": 1, \"3\": 1, \"88\": 1, \"101\": 1}, \"90\": {\"96\": 1, \"90\": 82, \"64\": 1, \"126\": 7, \"99\": 1, \"66\": 2, \"14\": 2, \"39\": 3, \"8\": 2, \"109\": 10, \"87\": 1, \"69\": 1, \"62\": 1, \"33\": 2, \"122\": 2, \"21\": 1, \"84\": 1, \"70\": 2, \"18\": 1, \"43\": 1}, \"93\": {\"104\": 2, \"40\": 7, \"74\": 1, \"105\": 3, \"35\": 1, \"87\": 7, \"77\": 1, \"44\": 2, \"84\": 6, \"4\": 4, \"107\": 13, \"93\": 18, \"43\": 3, \"126\": 3, \"108\": 4, \"62\": 2, \"114\": 2, \"118\": 1, \"127\": 1, \"0\": 2, \"14\": 1, \"90\": 2, \"8\": 6, \"110\": 6, \"24\": 2, \"94\": 1, \"106\": 6, \"109\": 2, \"88\": 4, \"70\": 3, \"7\": 1, \"122\": 1, \"85\": 1, \"101\": 2, \"10\": 1, \"98\": 2}, \"13\": {\"62\": 2, \"13\": 9, \"82\": 2, \"102\": 1, \"42\": 1, \"118\": 1}, \"67\": {\"111\": 1, \"67\": 13, \"69\": 2}, \"20\": {\"20\": 12, \"74\": 1, \"121\": 1, \"57\": 1, \"65\": 1}, \"2\": {\"3\": 1, \"2\": 12, \"67\": 1, \"118\": 2, \"25\": 1, \"113\": 1, \"50\": 1, \"16\": 2, \"87\": 1, \"39\": 2, \"74\": 1, \"100\": 1, \"81\": 1, \"99\": 1, \"61\": 2, \"69\": 1, \"11\": 1}, \"5\": {\"5\": 63, \"72\": 3, \"101\": 3, \"110\": 2, \"107\": 4, \"7\": 3, \"36\": 1, \"10\": 1, \"21\": 1, \"9\": 1, \"30\": 1, \"93\": 1, \"24\": 1, \"4\": 2, \"114\": 1}, \"54\": {\"54\": 14, \"37\": 1, \"56\": 1}, \"37\": {\"37\": 16}, \"38\": {\"38\": 16}, \"86\": {\"89\": 2, \"49\": 4, \"35\": 2, \"4\": 1, \"101\": 4, \"94\": 1, \"15\": 4, \"106\": 1, \"70\": 1, \"86\": 7, \"114\": 1, \"40\": 1, \"109\": 1, \"16\": 1, \"77\": 1, \"23\": 1, \"97\": 1, \"27\": 1, \"0\": 1}, \"55\": {\"55\": 11, \"72\": 1}, \"97\": {\"52\": 2, \"29\": 2, \"94\": 1, \"97\": 2, \"62\": 1, \"91\": 1, \"89\": 1, \"9\": 1, \"24\": 1, \"76\": 1, \"40\": 1, \"93\": 1, \"4\": 1, \"86\": 1, \"42\": 1, \"110\": 1, \"10\": 1}, \"29\": {\"29\": 25, \"35\": 1, \"91\": 1, \"105\": 1}, \"48\": {\"16\": 1, \"48\": 8, \"115\": 1, \"83\": 1, \"70\": 1}, \"60\": {\"43\": 1, \"60\": 8, \"38\": 1, \"39\": 1, \"18\": 1, \"109\": 1, \"64\": 1, \"76\": 1, \"1\": 1}, \"36\": {\"12\": 9, \"36\": 71, \"15\": 4, \"27\": 5, \"6\": 3, \"30\": 2, \"88\": 5, \"125\": 5, \"127\": 2, \"16\": 1, \"98\": 2, \"111\": 2, \"106\": 2, \"51\": 2, \"92\": 1, \"94\": 2, \"85\": 1, \"71\": 1, \"24\": 1, \"113\": 1}, \"42\": {\"67\": 2, \"1\": 3, \"43\": 1, \"93\": 1, \"42\": 10, \"118\": 3, \"117\": 1, \"19\": 2, \"122\": 1, \"76\": 2, \"87\": 1, \"109\": 1}, \"66\": {\"66\": 14, \"90\": 1, \"8\": 1}, \"126\": {\"128\": 1, \"9\": 1, \"7\": 7, \"20\": 1, \"126\": 40, \"62\": 1, \"19\": 2, \"120\": 2, \"8\": 7, \"90\": 5, \"101\": 2, \"14\": 2, \"43\": 6, \"1\": 11, \"118\": 1, \"18\": 4, \"16\": 3, \"102\": 1, \"11\": 2, \"44\": 3, \"109\": 3, \"5\": 4, \"70\": 1, \"124\": 1, \"10\": 1, \"84\": 2, \"114\": 2, \"76\": 2, \"39\": 5, \"108\": 1, \"40\": 2, \"88\": 1, \"93\": 1}, \"39\": {\"102\": 2, \"39\": 47, \"120\": 4, \"126\": 1, \"118\": 10, \"121\": 1, \"117\": 8, \"66\": 1, \"113\": 4, \"69\": 1, \"18\": 5, \"26\": 5, \"109\": 1, \"3\": 2, \"87\": 2, \"16\": 5, \"21\": 1, \"2\": 1, \"95\": 2, \"33\": 1}, \"107\": {\"85\": 1, \"107\": 85, \"91\": 1, \"110\": 6, \"4\": 8, \"106\": 4, \"93\": 3, \"117\": 1, \"10\": 2, \"70\": 2, \"17\": 1, \"24\": 1, \"88\": 1, \"89\": 1, \"105\": 1, \"40\": 3, \"5\": 1, \"98\": 2}, \"59\": {\"71\": 4, \"59\": 6, \"118\": 1, \"129\": 1}, \"117\": {\"117\": 110, \"39\": 6, \"26\": 10, \"16\": 5, \"18\": 4, \"2\": 1, \"90\": 1, \"109\": 1}, \"6\": {\"6\": 27, \"12\": 1, \"98\": 1, \"30\": 1, \"112\": 1, \"94\": 1}, \"123\": {\"123\": 8, \"120\": 1, \"78\": 1, \"109\": 1, \"67\": 1, \"118\": 1, \"62\": 1, \"20\": 1, \"121\": 1}, \"8\": {\"80\": 1, \"8\": 85, \"82\": 1, \"93\": 4, \"39\": 2, \"69\": 1, \"87\": 2, \"90\": 2, \"108\": 3, \"126\": 3, \"11\": 1, \"10\": 1, \"43\": 6, \"60\": 2, \"44\": 1, \"122\": 2, \"114\": 1, \"14\": 1, \"84\": 1, \"70\": 1, \"109\": 3}, \"112\": {\"112\": 10, \"27\": 1, \"111\": 1, \"36\": 1, \"17\": 2, \"6\": 1}, \"80\": {\"81\": 1, \"14\": 1, \"80\": 8, \"122\": 2, \"1\": 1, \"96\": 1, \"64\": 1, \"87\": 1}, \"125\": {\"125\": 121, \"30\": 1, \"36\": 11, \"27\": 1, \"94\": 2}, \"61\": {\"64\": 4, \"96\": 1, \"61\": 4, \"109\": 2, \"74\": 1}, \"45\": {\"45\": 3, \"67\": 1, \"33\": 1, \"90\": 2, \"50\": 1, \"14\": 1, \"122\": 1, \"60\": 1, \"64\": 1}, \"72\": {\"7\": 1, \"72\": 18, \"9\": 1, \"0\": 1, \"114\": 1, \"15\": 1, \"108\": 3, \"40\": 2, \"24\": 1, \"73\": 1, \"4\": 1, \"101\": 1}, \"87\": {\"74\": 1, \"38\": 3, \"126\": 3, \"114\": 9, \"109\": 5, \"24\": 3, \"87\": 24, \"83\": 2, \"122\": 3, \"39\": 1, \"43\": 5, \"118\": 2, \"44\": 1, \"40\": 6, \"105\": 7, \"8\": 4, \"7\": 2, \"110\": 2, \"102\": 1, \"84\": 1, \"5\": 2, \"108\": 1, \"72\": 2, \"21\": 2, \"9\": 1, \"90\": 3, \"76\": 1, \"124\": 1, \"70\": 5, \"18\": 1, \"10\": 1, \"93\": 2, \"1\": 1}, \"106\": {\"27\": 2, \"93\": 1, \"106\": 76, \"111\": 5, \"15\": 2, \"127\": 5, \"10\": 1, \"24\": 1, \"0\": 4, \"12\": 9, \"110\": 5, \"98\": 2, \"107\": 4, \"30\": 2, \"86\": 1, \"4\": 1, \"94\": 2, \"113\": 1}, \"35\": {\"84\": 1, \"27\": 1, \"83\": 1, \"77\": 1, \"4\": 1, \"35\": 3, \"6\": 1, \"32\": 1, \"41\": 1, \"72\": 1}, \"78\": {\"95\": 2, \"3\": 1, \"78\": 2, \"62\": 1, \"97\": 1, \"70\": 1, \"96\": 1, \"77\": 1, \"120\": 1, \"10\": 1, \"90\": 2, \"21\": 1, \"126\": 1}, \"15\": {\"15\": 41, \"85\": 1, \"21\": 2, \"0\": 2, \"36\": 2, \"29\": 1, \"27\": 2, \"98\": 3, \"30\": 3, \"94\": 4, \"117\": 1, \"111\": 6, \"88\": 4, \"106\": 3, \"5\": 4, \"71\": 2, \"110\": 4, \"125\": 1, \"12\": 7, \"18\": 1, \"107\": 2, \"4\": 1, \"10\": 2, \"53\": 1, \"101\": 1, \"24\": 1, \"127\": 2}, \"100\": {\"100\": 9, \"122\": 1, \"62\": 1, \"44\": 1, \"60\": 1, \"2\": 1, \"84\": 1, \"102\": 1}}, \"C_2\": {\"36\": {\"36\": 114, \"8\": 2}, \"5\": {\"5\": 100, \"15\": 8, \"37\": 1, \"0\": 5, \"16\": 3, \"57\": 1, \"47\": 2}, \"45\": {\"50\": 1, \"4\": 10, \"40\": 6, \"30\": 1, \"12\": 5, \"17\": 7, \"45\": 34, \"44\": 1, \"53\": 7, \"27\": 7, \"35\": 4, \"9\": 7, \"5\": 1, \"20\": 11, \"19\": 2, \"6\": 5, \"51\": 6, \"36\": 2, \"25\": 1, \"54\": 3, \"26\": 1, \"46\": 1, \"18\": 1, \"8\": 4}, \"49\": {\"49\": 17, \"36\": 1, \"18\": 2, \"41\": 2, \"30\": 1, \"3\": 1}, \"50\": {\"50\": 65, \"25\": 9, \"3\": 6, \"6\": 17, \"53\": 7, \"30\": 2, \"48\": 6, \"54\": 7, \"8\": 1, \"36\": 8, \"4\": 1, \"27\": 1, \"40\": 2, \"17\": 2, \"46\": 1, \"9\": 1}, \"4\": {\"4\": 113, \"12\": 1, \"8\": 3, \"54\": 1, \"17\": 6, \"27\": 11, \"9\": 2, \"53\": 1}, \"43\": {\"43\": 128, \"24\": 19, \"22\": 1}, \"41\": {\"50\": 1, \"41\": 13, \"49\": 1, \"48\": 1, \"53\": 1, \"18\": 2, \"25\": 1}, \"37\": {\"37\": 36}, \"12\": {\"36\": 1, \"12\": 39, \"26\": 2, \"32\": 1, \"8\": 4, \"53\": 3, \"51\": 11, \"27\": 3, \"20\": 23, \"4\": 3, \"17\": 2}, \"33\": {\"49\": 1, \"33\": 24, \"29\": 2, \"3\": 1}, \"7\": {\"7\": 35, \"57\": 1}, \"56\": {\"56\": 135, \"10\": 2, \"13\": 3}, \"14\": {\"56\": 8, \"10\": 2, \"5\": 1, \"14\": 7, \"13\": 2, \"0\": 2, \"11\": 1, \"28\": 1}, \"52\": {\"52\": 102, \"34\": 1, \"46\": 4, \"23\": 16, \"30\": 1}, \"44\": {\"7\": 1, \"44\": 78, \"45\": 1, \"19\": 4, \"46\": 2, \"40\": 2, \"29\": 3, \"52\": 2, \"3\": 1, \"54\": 1, \"1\": 1}, \"48\": {\"48\": 94, \"41\": 1, \"3\": 4, \"36\": 2, \"25\": 8, \"54\": 11, \"50\": 19, \"6\": 5}, \"20\": {\"20\": 103, \"51\": 14, \"8\": 5, \"12\": 2, \"47\": 1, \"17\": 1, \"9\": 2}, \"55\": {\"55\": 91, \"37\": 2, \"24\": 2, \"43\": 13, \"47\": 1, \"31\": 2, \"11\": 12, \"56\": 4, \"5\": 5, \"22\": 10, \"13\": 1, \"10\": 1}, \"32\": {\"32\": 24, \"17\": 4}, \"40\": {\"54\": 4, \"17\": 9, \"40\": 81, \"35\": 1, \"32\": 1, \"27\": 5, \"8\": 2, \"3\": 1, \"25\": 1, \"6\": 5, \"50\": 10, \"53\": 3, \"4\": 1, \"9\": 7, \"19\": 1, \"45\": 1, \"48\": 2, \"44\": 1}, \"54\": {\"54\": 104, \"6\": 4}, \"17\": {\"17\": 96, \"8\": 1, \"27\": 7}, \"38\": {\"38\": 19, \"22\": 1}, \"24\": {\"24\": 85, \"43\": 10, \"13\": 1}, \"1\": {\"1\": 83, \"0\": 2, \"46\": 2, \"47\": 1, \"23\": 5, \"52\": 5, \"57\": 6, \"29\": 1, \"15\": 1, \"2\": 2, \"5\": 1, \"7\": 1, \"16\": 2}, \"6\": {\"36\": 16, \"6\": 38, \"27\": 4, \"50\": 15, \"32\": 2, \"17\": 4, \"54\": 6, \"53\": 8, \"48\": 5, \"3\": 3, \"9\": 5, \"25\": 9, \"26\": 1, \"8\": 7, \"18\": 1}, \"34\": {\"34\": 21, \"18\": 1, \"52\": 2, \"25\": 1, \"30\": 3}, \"11\": {\"11\": 131, \"5\": 2, \"15\": 1, \"28\": 2}, \"9\": {\"9\": 128, \"17\": 5, \"27\": 7, \"8\": 3, \"21\": 1, \"4\": 2, \"51\": 1, \"48\": 2, \"53\": 1}, \"8\": {\"8\": 130, \"26\": 1, \"27\": 10, \"53\": 2, \"17\": 1, \"36\": 8}, \"22\": {\"22\": 124, \"56\": 3, \"43\": 4, \"10\": 1, \"38\": 2, \"24\": 1, \"13\": 1}, \"26\": {\"26\": 23, \"8\": 1}, \"23\": {\"23\": 136, \"1\": 1, \"52\": 9}, \"10\": {\"10\": 99, \"56\": 8, \"22\": 2, \"13\": 1, \"14\": 2}, \"18\": {\"48\": 2, \"18\": 41, \"41\": 1, \"30\": 3, \"3\": 1}, \"13\": {\"13\": 112, \"22\": 1, \"10\": 2, \"56\": 1}, \"30\": {\"30\": 113, \"18\": 2, \"3\": 3, \"50\": 1, \"9\": 2, \"25\": 4, \"49\": 1, \"6\": 1, \"34\": 1}, \"42\": {\"46\": 1, \"42\": 23, \"1\": 3, \"52\": 2, \"47\": 1, \"57\": 3, \"23\": 1, \"30\": 1, \"29\": 1}, \"31\": {\"31\": 28}, \"46\": {\"30\": 15, \"46\": 42, \"52\": 19, \"33\": 2, \"18\": 1, \"15\": 5, \"1\": 3, \"54\": 1, \"21\": 1, \"6\": 2, \"43\": 1, \"3\": 1, \"11\": 3, \"48\": 6, \"50\": 2, \"22\": 1, \"25\": 2, \"29\": 4, \"49\": 2, \"16\": 2, \"5\": 1, \"23\": 8, \"40\": 1, \"44\": 1, \"47\": 1, \"57\": 1}, \"57\": {\"57\": 136, \"2\": 1, \"1\": 1, \"47\": 1, \"23\": 3}, \"47\": {\"15\": 5, \"7\": 4, \"47\": 84, \"0\": 3, \"1\": 9, \"57\": 13, \"16\": 15, \"46\": 2, \"5\": 2, \"23\": 1}, \"35\": {\"35\": 29, \"36\": 2, \"4\": 1}, \"15\": {\"15\": 123, \"16\": 4, \"22\": 1, \"7\": 1, \"57\": 1, \"0\": 1, \"47\": 1}, \"25\": {\"25\": 90, \"3\": 7, \"48\": 14, \"4\": 1, \"6\": 5, \"40\": 2, \"8\": 2, \"50\": 10, \"30\": 3, \"41\": 1, \"36\": 1}, \"19\": {\"25\": 6, \"19\": 82, \"3\": 2, \"54\": 6, \"29\": 3, \"45\": 1, \"52\": 1, \"6\": 8, \"48\": 5, \"27\": 1, \"40\": 7, \"17\": 1, \"30\": 1, \"21\": 1, \"50\": 4, \"4\": 2, \"8\": 1, \"9\": 2, \"44\": 2}, \"51\": {\"51\": 71, \"12\": 1, \"26\": 2, \"53\": 10, \"8\": 7, \"17\": 1, \"20\": 20, \"27\": 5, \"9\": 5, \"4\": 5, \"36\": 1}, \"53\": {\"53\": 110, \"17\": 7, \"9\": 4, \"27\": 2, \"4\": 1, \"8\": 7, \"51\": 1, \"29\": 1, \"23\": 1}, \"21\": {\"21\": 105, \"48\": 6, \"50\": 1, \"46\": 1, \"6\": 2, \"3\": 3, \"40\": 1, \"23\": 1}, \"39\": {\"39\": 26, \"5\": 1, \"0\": 1}, \"2\": {\"1\": 1, \"2\": 26, \"23\": 3, \"52\": 2}, \"16\": {\"16\": 146, \"15\": 3, \"47\": 1}, \"0\": {\"0\": 43, \"47\": 1, \"16\": 2, \"15\": 2}, \"3\": {\"50\": 13, \"36\": 3, \"48\": 7, \"3\": 33, \"53\": 4, \"30\": 1, \"25\": 9, \"46\": 1, \"27\": 1, \"54\": 6, \"52\": 2, \"9\": 4, \"17\": 3, \"8\": 2, \"41\": 1, \"6\": 1, \"21\": 1}, \"27\": {\"27\": 129, \"17\": 8, \"8\": 5}, \"28\": {\"28\": 25, \"5\": 1, \"15\": 1, \"16\": 1}, \"29\": {\"29\": 110, \"33\": 3, \"23\": 2, \"47\": 1, \"40\": 1, \"3\": 1, \"52\": 1, \"46\": 4, \"30\": 1, \"21\": 1, \"1\": 3}}, \"W_2\": {\"91\": {\"101\": 3, \"17\": 2, \"91\": 8, \"11\": 1, \"42\": 1, \"30\": 1, \"32\": 1, \"8\": 2, \"53\": 1, \"111\": 1, \"98\": 1, \"108\": 1, \"74\": 2, \"110\": 1, \"109\": 1, \"12\": 1}, \"12\": {\"101\": 3, \"91\": 1, \"12\": 23, \"27\": 1, \"114\": 7, \"97\": 1, \"87\": 1, \"98\": 3, \"111\": 3, \"0\": 9, \"110\": 1, \"16\": 1, \"7\": 3, \"94\": 2, \"108\": 4, \"107\": 1, \"90\": 1, \"71\": 5, \"127\": 6, \"78\": 1, \"54\": 1, \"10\": 1, \"115\": 1, \"30\": 1, \"34\": 1, \"79\": 1, \"126\": 1, \"24\": 2, \"3\": 1, \"106\": 1}, \"101\": {\"101\": 125, \"71\": 1, \"106\": 3, \"36\": 3, \"30\": 6, \"111\": 5, \"15\": 2, \"127\": 1, \"97\": 1, \"117\": 1}, \"121\": {\"88\": 4, \"81\": 1, \"72\": 3, \"31\": 3, \"121\": 19, \"96\": 4, \"109\": 2}, \"118\": {\"88\": 4, \"33\": 4, \"32\": 1, \"83\": 1, \"14\": 3, \"63\": 1, \"57\": 1, \"62\": 4, \"84\": 1, \"102\": 1, \"67\": 1, \"118\": 17, \"109\": 4, \"23\": 1, \"60\": 1, \"78\": 2, \"16\": 2, \"18\": 2, \"21\": 1, \"70\": 1, \"87\": 3, \"55\": 1, \"45\": 1, \"100\": 1, \"107\": 1, \"1\": 3, \"82\": 2, \"110\": 1, \"69\": 1, \"114\": 1}, \"10\": {\"88\": 1, \"126\": 2, \"8\": 5, \"123\": 1, \"10\": 20, \"122\": 2, \"109\": 1, \"23\": 1, \"3\": 1, \"12\": 1, \"26\": 1, \"105\": 4, \"40\": 1, \"21\": 1, \"11\": 1, \"117\": 1, \"63\": 1, \"24\": 1, \"61\": 1, \"54\": 1, \"18\": 1, \"60\": 1, \"44\": 2, \"107\": 2, \"74\": 2, \"43\": 1, \"90\": 3}, \"117\": {\"117\": 102, \"26\": 1, \"2\": 2, \"81\": 2, \"113\": 6, \"39\": 1, \"87\": 2, \"121\": 1, \"44\": 1, \"18\": 2}, \"110\": {\"17\": 1, \"110\": 14, \"80\": 1, \"47\": 1, \"108\": 1, \"100\": 1, \"5\": 1, \"66\": 1, \"85\": 1, \"10\": 2, \"83\": 1, \"122\": 2, \"34\": 1, \"90\": 1, \"114\": 2, \"1\": 1, \"16\": 1, \"116\": 2, \"107\": 1, \"115\": 1, \"8\": 1, \"124\": 2}, \"97\": {\"101\": 1, \"97\": 9, \"15\": 1, \"54\": 1, \"0\": 2, \"29\": 1, \"77\": 1, \"58\": 1, \"35\": 1, \"25\": 1, \"94\": 1}, \"28\": {\"28\": 19, \"22\": 1}, \"88\": {\"88\": 85, \"20\": 2, \"109\": 9, \"118\": 2, \"44\": 2, \"90\": 4, \"83\": 2, \"70\": 2, \"43\": 1, \"16\": 2, \"63\": 3, \"119\": 1, \"78\": 1, \"21\": 2, \"93\": 1, \"87\": 1, \"117\": 1, \"126\": 3}, \"17\": {\"110\": 2, \"17\": 5, \"91\": 2, \"3\": 2, \"5\": 3, \"107\": 1, \"114\": 1}, \"126\": {\"88\": 8, \"126\": 36, \"63\": 1, \"74\": 1, \"102\": 3, \"90\": 9, \"80\": 2, \"44\": 6, \"96\": 1, \"78\": 1, \"119\": 1, \"70\": 5, \"82\": 1, \"33\": 1, \"43\": 2, \"109\": 2, \"87\": 1, \"16\": 8, \"39\": 5, \"1\": 8, \"122\": 3, \"20\": 4, \"66\": 1, \"93\": 1, \"84\": 1, \"83\": 1, \"105\": 1}, \"33\": {\"33\": 77, \"82\": 1, \"46\": 1, \"1\": 11, \"99\": 1, \"78\": 1, \"105\": 1, \"62\": 7, \"84\": 6, \"43\": 5, \"90\": 1, \"39\": 1, \"87\": 1, \"102\": 3, \"18\": 1, \"50\": 2, \"40\": 1, \"67\": 1, \"60\": 1, \"126\": 1, \"70\": 2, \"117\": 1, \"16\": 1}, \"86\": {\"110\": 1, \"86\": 27, \"50\": 1, \"124\": 1, \"105\": 2}, \"106\": {\"106\": 81, \"36\": 5, \"15\": 8, \"75\": 1, \"81\": 1, \"125\": 5, \"24\": 1, \"98\": 3, \"90\": 1, \"30\": 2, \"18\": 1, \"96\": 1, \"39\": 1, \"27\": 1, \"94\": 3, \"101\": 2, \"70\": 1, \"111\": 1, \"26\": 1}, \"54\": {\"54\": 16, \"98\": 1, \"15\": 2, \"127\": 1}, \"125\": {\"106\": 1, \"15\": 3, \"125\": 116, \"30\": 1, \"9\": 3, \"6\": 1, \"27\": 2, \"94\": 1, \"36\": 3, \"18\": 1}, \"83\": {\"87\": 1, \"118\": 1, \"20\": 1, \"83\": 26, \"16\": 1, \"88\": 3, \"109\": 2, \"44\": 2, \"13\": 1, \"96\": 1, \"43\": 1}, \"98\": {\"98\": 59, \"54\": 1, \"97\": 1, \"34\": 2, \"24\": 3, \"30\": 5, \"27\": 1, \"0\": 5, \"101\": 4, \"111\": 5, \"36\": 6, \"16\": 1, \"106\": 5, \"21\": 1, \"15\": 4, \"7\": 4, \"12\": 1, \"108\": 5, \"126\": 1, \"127\": 1, \"90\": 1, \"118\": 1, \"94\": 1, \"71\": 1, \"114\": 1}, \"11\": {\"103\": 1, \"61\": 1, \"53\": 1, \"12\": 3, \"79\": 1, \"3\": 6, \"11\": 13, \"113\": 2, \"41\": 1, \"24\": 2, \"19\": 1, \"114\": 3, \"108\": 3, \"34\": 1, \"0\": 6, \"105\": 3, \"101\": 3, \"91\": 1, \"7\": 2, \"5\": 2, \"98\": 1, \"16\": 2, \"69\": 1, \"122\": 2, \"124\": 2, \"8\": 1, \"127\": 4, \"43\": 2, \"30\": 1, \"107\": 1, \"42\": 1, \"97\": 1, \"4\": 1, \"10\": 1, \"36\": 1, \"71\": 1, \"109\": 1}, \"32\": {\"32\": 12, \"11\": 1, \"23\": 1, \"87\": 1, \"50\": 1, \"46\": 1, \"100\": 1, \"14\": 4, \"3\": 1, \"84\": 1, \"43\": 2, \"86\": 1, \"45\": 2, \"38\": 1, \"107\": 2, \"0\": 1, \"105\": 3}, \"42\": {\"11\": 1, \"32\": 2, \"86\": 1, \"42\": 9, \"46\": 1, \"128\": 2, \"41\": 1, \"1\": 1, \"114\": 1, \"3\": 1, \"22\": 1, \"30\": 1, \"38\": 1, \"129\": 1, \"10\": 1, \"107\": 1, \"27\": 1, \"83\": 1}, \"103\": {\"103\": 11, \"41\": 3, \"71\": 1, \"7\": 1}, \"87\": {\"83\": 1, \"87\": 14, \"17\": 1, \"126\": 3, \"96\": 2, \"63\": 1, \"28\": 1, \"18\": 3, \"117\": 3, \"33\": 8, \"90\": 5, \"32\": 1, \"105\": 5, \"92\": 1, \"121\": 2, \"40\": 1, \"10\": 1, \"93\": 2, \"113\": 1, \"16\": 7, \"99\": 1, \"70\": 3, \"1\": 3, \"39\": 5, \"88\": 8, \"109\": 4, \"102\": 2, \"24\": 2, \"100\": 1, \"80\": 1, \"50\": 1, \"71\": 1, \"129\": 1, \"21\": 2, \"110\": 2, \"84\": 4, \"118\": 4, \"120\": 2, \"43\": 2}, \"61\": {\"61\": 16, \"120\": 1, \"39\": 1, \"63\": 1, \"38\": 1}, \"13\": {\"13\": 6, \"118\": 1, \"61\": 1, \"57\": 2, \"116\": 1, \"126\": 1, \"82\": 1, \"87\": 1, \"120\": 1, \"18\": 1}, \"4\": {\"4\": 43, \"103\": 1, \"12\": 2, \"71\": 6, \"124\": 3, \"83\": 1, \"24\": 2, \"69\": 1, \"114\": 2, \"108\": 4, \"7\": 5, \"5\": 5, \"122\": 1, \"127\": 1, \"111\": 1, \"92\": 1, \"40\": 1, \"3\": 2, \"95\": 3, \"109\": 1}, \"15\": {\"15\": 61, \"54\": 2, \"68\": 3, \"88\": 1, \"24\": 2, \"12\": 2, \"106\": 10, \"41\": 1, \"101\": 9, \"111\": 3, \"6\": 1, \"36\": 6, \"83\": 1, \"94\": 1, \"127\": 1, \"98\": 2, \"0\": 3, \"51\": 2, \"97\": 1, \"71\": 1, \"30\": 3, \"2\": 1, \"125\": 2, \"93\": 1}, \"120\": {\"120\": 20}, \"80\": {\"80\": 8, \"102\": 1, \"46\": 1, \"13\": 1, \"100\": 1, \"70\": 1, \"1\": 1, \"60\": 1, \"10\": 1}, \"72\": {\"72\": 19, \"120\": 1, \"45\": 2, \"21\": 1, \"13\": 2, \"82\": 2, \"62\": 1}, \"64\": {\"64\": 9, \"47\": 1, \"123\": 1, \"76\": 1, \"110\": 2, \"32\": 1, \"44\": 1}, \"81\": {\"81\": 17, \"72\": 1, \"99\": 1, \"39\": 1, \"18\": 1, \"113\": 1, \"109\": 2}, \"102\": {\"102\": 73, \"93\": 2, \"32\": 1, \"81\": 2, \"48\": 1, \"118\": 2, \"26\": 1, \"31\": 2, \"18\": 1, \"70\": 1, \"90\": 1, \"16\": 6, \"108\": 1, \"33\": 7, \"69\": 8, \"100\": 1, \"39\": 1, \"110\": 1}, \"76\": {\"76\": 14, \"120\": 1, \"123\": 1}, \"49\": {\"52\": 4, \"41\": 2, \"8\": 1, \"49\": 5, \"9\": 1, \"86\": 1, \"58\": 1, \"7\": 1, \"0\": 1, \"75\": 1, \"30\": 1, \"117\": 1, \"128\": 1, \"125\": 1, \"98\": 1, \"107\": 1}, \"129\": {\"80\": 1, \"110\": 2, \"55\": 1, \"129\": 12, \"128\": 3, \"32\": 1, \"84\": 3, \"1\": 3, \"11\": 1, \"42\": 1, \"107\": 1, \"40\": 1, \"112\": 1, \"105\": 1}, \"89\": {\"89\": 27, \"72\": 1, \"67\": 2, \"126\": 2, \"118\": 1, \"51\": 1, \"87\": 1, \"82\": 1}, \"52\": {\"52\": 14, \"0\": 2, \"36\": 1, \"12\": 1, \"101\": 1, \"91\": 1}, \"35\": {\"52\": 1, \"98\": 1, \"12\": 2, \"77\": 1, \"35\": 5, \"41\": 2}, \"53\": {\"53\": 15, \"110\": 1}, \"26\": {\"26\": 74, \"18\": 9, \"88\": 3, \"69\": 18, \"93\": 4, \"113\": 4, \"87\": 3, \"90\": 2, \"117\": 2, \"62\": 1, \"99\": 1, \"14\": 1, \"2\": 1, \"10\": 1, \"16\": 1, \"39\": 1, \"102\": 2}, \"96\": {\"120\": 1, \"96\": 15, \"21\": 1, \"88\": 2, \"90\": 1}, \"27\": {\"12\": 2, \"27\": 16, \"79\": 2, \"117\": 2, \"127\": 2, \"15\": 2, \"99\": 1, \"54\": 1, \"109\": 3, \"106\": 3, \"5\": 1, \"101\": 3, \"98\": 2, \"88\": 1, \"114\": 2, \"8\": 2, \"24\": 1, \"0\": 3, \"62\": 2, \"9\": 3, \"113\": 1, \"97\": 1, \"36\": 5, \"4\": 1, \"71\": 1, \"18\": 1, \"125\": 1, \"122\": 1, \"21\": 1, \"108\": 1}, \"24\": {\"27\": 2, \"12\": 1, \"75\": 1, \"88\": 5, \"24\": 14, \"8\": 4, \"108\": 2, \"25\": 2, \"106\": 6, \"15\": 14, \"126\": 1, \"37\": 1, \"101\": 5, \"42\": 1, \"34\": 1, \"94\": 5, \"36\": 8, \"43\": 1, \"40\": 1, \"90\": 2, \"117\": 1, \"98\": 7, \"39\": 2, \"30\": 1, \"109\": 4, \"100\": 1, \"78\": 2, \"51\": 1, \"10\": 3, \"60\": 1, \"14\": 1, \"82\": 1, \"96\": 1, \"26\": 1, \"58\": 1, \"72\": 1, \"53\": 1, \"1\": 1, \"23\": 1, \"105\": 1, \"83\": 1, \"44\": 1}, \"82\": {\"82\": 31, \"45\": 1, \"39\": 2, \"21\": 1, \"109\": 1}, \"18\": {\"18\": 81, \"26\": 18, \"48\": 1, \"118\": 1, \"123\": 1, \"82\": 1, \"39\": 3, \"113\": 5, \"117\": 3, \"93\": 1, \"102\": 1, \"16\": 1, \"87\": 1, \"44\": 1, \"78\": 1, \"14\": 1, \"2\": 1, \"69\": 5, \"33\": 1}, \"69\": {\"82\": 2, \"69\": 85, \"102\": 11, \"57\": 1, \"87\": 4, \"26\": 7, \"16\": 4, \"5\": 1, \"90\": 1, \"44\": 1, \"109\": 1, \"18\": 1, \"62\": 3}, \"47\": {\"74\": 2, \"108\": 1, \"47\": 6, \"22\": 2, \"38\": 1}, \"85\": {\"85\": 13, \"17\": 1, \"104\": 3, \"40\": 1, \"30\": 1, \"4\": 1, \"12\": 1, \"129\": 2, \"5\": 3, \"114\": 1, \"86\": 1, \"24\": 1, \"71\": 1, \"73\": 1, \"29\": 1}, \"2\": {\"39\": 3, \"2\": 18, \"102\": 1, \"69\": 2, \"87\": 1, \"83\": 3, \"70\": 1, \"26\": 2, \"117\": 1}, \"67\": {\"67\": 12, \"110\": 1, \"84\": 2, \"72\": 1}, \"39\": {\"39\": 39, \"61\": 1, \"88\": 10, \"120\": 2, \"70\": 3, \"121\": 2, \"82\": 1, \"26\": 1, \"109\": 8, \"69\": 5, \"83\": 4, \"99\": 1, \"18\": 3, \"117\": 3, \"126\": 7, \"90\": 1, \"87\": 3, \"123\": 2, \"16\": 2, \"113\": 3, \"78\": 1, \"119\": 1, \"84\": 1, \"81\": 1, \"20\": 2, \"48\": 1, \"21\": 1, \"116\": 1, \"2\": 2}, \"99\": {\"39\": 2, \"99\": 17, \"109\": 3, \"126\": 1, \"70\": 2, \"88\": 1, \"20\": 1, \"90\": 1, \"120\": 2, \"23\": 1, \"83\": 1}, \"74\": {\"74\": 10, \"47\": 1, \"19\": 1, \"106\": 1, \"8\": 1, \"75\": 2}, \"105\": {\"55\": 4, \"105\": 48, \"107\": 5, \"84\": 4, \"86\": 4, \"34\": 1, \"60\": 1, \"23\": 1, \"124\": 3, \"0\": 1, \"8\": 4, \"95\": 1, \"40\": 14, \"62\": 3, \"33\": 3, \"4\": 2, \"1\": 5, \"122\": 5, \"43\": 5, \"109\": 1, \"93\": 1, \"85\": 1, \"74\": 1, \"128\": 1, \"71\": 1, \"78\": 1, \"5\": 3, \"87\": 1, \"83\": 1, \"88\": 1, \"111\": 1, \"108\": 1, \"70\": 1, \"11\": 1, \"7\": 1}, \"70\": {\"39\": 7, \"70\": 15, \"89\": 1, \"28\": 1, \"118\": 1, \"88\": 13, \"90\": 5, \"8\": 3, \"22\": 1, \"50\": 2, \"16\": 4, \"43\": 6, \"42\": 1, \"99\": 3, \"83\": 3, \"34\": 1, \"105\": 3, \"2\": 1, \"40\": 8, \"126\": 6, \"26\": 4, \"44\": 4, \"122\": 4, \"1\": 3, \"87\": 1, \"93\": 2, \"11\": 1, \"33\": 4, \"124\": 1, \"19\": 1, \"23\": 1, \"37\": 1, \"107\": 1, \"108\": 3, \"62\": 1, \"84\": 2, \"109\": 1, \"102\": 1, \"3\": 1}, \"55\": {\"55\": 15, \"78\": 1}, \"30\": {\"91\": 4, \"95\": 2, \"7\": 5, \"106\": 7, \"97\": 1, \"30\": 24, \"0\": 5, \"98\": 5, \"12\": 3, \"3\": 6, \"27\": 1, \"94\": 3, \"24\": 2, \"124\": 4, \"114\": 3, \"105\": 1, \"127\": 3, \"122\": 2, \"15\": 5, \"111\": 3, \"108\": 3, \"109\": 1, \"101\": 7, \"4\": 1, \"16\": 1, \"36\": 3, \"6\": 1, \"58\": 1, \"128\": 1, \"107\": 1, \"34\": 1, \"5\": 1, \"88\": 1}, \"60\": {\"120\": 1, \"47\": 1, \"44\": 1, \"88\": 2, \"118\": 1, \"10\": 1, \"126\": 3, \"96\": 2, \"87\": 1, \"60\": 9, \"119\": 1, \"42\": 1, \"123\": 1, \"43\": 1, \"90\": 1, \"72\": 1}, \"92\": {\"92\": 13, \"86\": 1, \"51\": 1, \"116\": 1, \"75\": 1, \"102\": 1, \"2\": 1, \"46\": 1, \"28\": 1, \"118\": 1, \"48\": 1, \"80\": 1, \"31\": 1, \"107\": 2, \"43\": 1}, \"45\": {\"92\": 1, \"45\": 11, \"118\": 1, \"62\": 1, \"14\": 1, \"88\": 1}, \"127\": {\"127\": 65, \"128\": 1, \"111\": 17, \"30\": 1, \"12\": 4, \"4\": 2, \"3\": 2, \"7\": 2, \"101\": 1, \"108\": 1, \"126\": 1, \"103\": 2, \"114\": 4, \"54\": 1, \"27\": 1, \"0\": 2, \"98\": 1, \"15\": 2, \"124\": 1, \"5\": 1}, \"9\": {\"63\": 1, \"9\": 29, \"125\": 1, \"113\": 1}, \"115\": {\"114\": 2, \"127\": 1, \"35\": 1, \"77\": 1, \"115\": 5, \"24\": 1, \"91\": 1}, \"73\": {\"73\": 24, \"85\": 1, \"104\": 1, \"5\": 1, \"3\": 1}, \"108\": {\"114\": 7, \"108\": 35, \"64\": 1, \"68\": 1, \"112\": 1, \"74\": 1, \"79\": 2, \"110\": 3, \"0\": 2, \"8\": 15, \"126\": 2, \"111\": 4, \"78\": 1, \"122\": 6, \"127\": 7, \"24\": 1, \"4\": 3, \"11\": 4, \"124\": 3, \"71\": 4, \"1\": 4, \"105\": 2, \"30\": 3, \"43\": 3, \"3\": 5, \"5\": 2, \"40\": 3, \"44\": 3, \"15\": 2, \"91\": 1, \"38\": 1, \"107\": 1, \"84\": 2, \"23\": 1, \"70\": 1, \"62\": 1}, \"114\": {\"127\": 7, \"114\": 58, \"3\": 8, \"58\": 2, \"49\": 1, \"107\": 1, \"71\": 7, \"54\": 1, \"4\": 5, \"124\": 5, \"11\": 2, \"117\": 1, \"12\": 2, \"5\": 3, \"0\": 1, \"24\": 2, \"108\": 4, \"47\": 1, \"129\": 1, \"44\": 1, \"27\": 1, \"34\": 1, \"113\": 1}, \"63\": {\"120\": 4, \"63\": 11, \"88\": 3, \"83\": 1, \"127\": 1}, \"93\": {\"93\": 60, \"102\": 5, \"88\": 4, \"16\": 8, \"1\": 3, \"33\": 2, \"26\": 1, \"90\": 7, \"126\": 8, \"87\": 4, \"24\": 1, \"109\": 4, \"44\": 1, \"69\": 9, \"14\": 1, \"70\": 2, \"82\": 1, \"18\": 1, \"39\": 2, \"62\": 3, \"40\": 1}, \"7\": {\"7\": 87, \"56\": 1, \"104\": 2, \"114\": 3, \"3\": 5, \"91\": 1, \"30\": 5, \"5\": 3, \"124\": 6, \"108\": 3, \"122\": 3, \"111\": 1, \"49\": 1, \"127\": 1, \"4\": 3, \"95\": 1, \"71\": 2, \"12\": 1, \"43\": 1, \"0\": 1, \"98\": 1}, \"31\": {\"31\": 16, \"121\": 1, \"61\": 1, \"67\": 1, \"21\": 1}, \"123\": {\"123\": 12, \"20\": 1, \"44\": 2, \"14\": 1}, \"128\": {\"3\": 2, \"59\": 1, \"111\": 1, \"108\": 2, \"68\": 1, \"62\": 1, \"23\": 1, \"70\": 1, \"84\": 1, \"91\": 1, \"27\": 1, \"90\": 1, \"42\": 1, \"128\": 3, \"74\": 1, \"7\": 1, \"14\": 1, \"43\": 1, \"94\": 1, \"29\": 1}, \"0\": {\"97\": 4, \"0\": 45, \"24\": 1, \"12\": 8, \"87\": 1, \"11\": 1, \"101\": 6, \"3\": 3, \"21\": 1, \"127\": 5, \"98\": 3, \"30\": 8, \"83\": 2, \"122\": 1, \"108\": 3, \"39\": 2, \"5\": 3, \"40\": 1, \"111\": 4, \"77\": 1, \"86\": 1, \"4\": 3, \"27\": 1, \"94\": 1, \"15\": 1, \"7\": 1, \"71\": 1, \"8\": 1, \"36\": 1, \"124\": 1, \"70\": 1}, \"3\": {\"129\": 2, \"0\": 2, \"3\": 76, \"17\": 1, \"19\": 1, \"30\": 2, \"23\": 2, \"108\": 6, \"91\": 1, \"107\": 1, \"59\": 1, \"84\": 1, \"112\": 1, \"98\": 2, \"114\": 3, \"71\": 6, \"124\": 3, \"88\": 1, \"122\": 2, \"43\": 2, \"5\": 8, \"111\": 1, \"56\": 1, \"128\": 1, \"49\": 1, \"15\": 1, \"11\": 1, \"127\": 1, \"7\": 1, \"126\": 1, \"1\": 1, \"40\": 2}, \"19\": {\"19\": 13, \"67\": 1, \"3\": 1, \"32\": 2, \"110\": 3, \"80\": 2, \"126\": 1, \"105\": 1, \"42\": 1, \"50\": 1, \"101\": 1, \"8\": 1}, \"57\": {\"64\": 2, \"57\": 16, \"65\": 1, \"126\": 1}, \"78\": {\"61\": 1, \"64\": 1, \"118\": 1, \"81\": 2, \"126\": 2, \"52\": 1, \"70\": 2, \"78\": 6, \"88\": 4, \"39\": 3, \"73\": 2, \"5\": 1, \"14\": 3, \"90\": 4, \"43\": 1, \"59\": 1, \"8\": 1, \"85\": 2, \"93\": 1, \"44\": 2, \"21\": 1, \"34\": 1, \"107\": 1, \"109\": 3, \"110\": 1}, \"95\": {\"95\": 26, \"114\": 2, \"105\": 1, \"16\": 1, \"124\": 2, \"7\": 2, \"5\": 1, \"30\": 1}, \"40\": {\"55\": 2, \"40\": 56, \"110\": 3, \"85\": 2, \"107\": 7, \"29\": 1, \"1\": 2, \"80\": 1, \"19\": 1, \"62\": 1, \"50\": 2, \"105\": 15, \"114\": 1, \"95\": 1, \"122\": 13, \"5\": 6, \"71\": 2, \"124\": 4, \"11\": 1, \"39\": 2, \"90\": 2, \"24\": 1, \"4\": 1, \"8\": 2, \"108\": 2, \"10\": 1, \"96\": 1, \"33\": 1, \"84\": 1, \"70\": 1, \"43\": 2, \"26\": 1, \"30\": 1}, \"14\": {\"14\": 23, \"64\": 1, \"62\": 3, \"16\": 1, \"83\": 1, \"84\": 1, \"90\": 1, \"34\": 1, \"32\": 1, \"26\": 1, \"18\": 2, \"123\": 1, \"82\": 1, \"107\": 1, \"81\": 1, \"33\": 3, \"44\": 1, \"1\": 2, \"72\": 1, \"118\": 1}, \"36\": {\"54\": 1, \"36\": 47, \"68\": 2, \"106\": 6, \"98\": 6, \"58\": 1, \"71\": 1, \"6\": 1, \"94\": 2, \"9\": 3, \"101\": 9, \"111\": 4, \"11\": 1, \"15\": 8, \"39\": 1, \"125\": 9, \"24\": 2, \"27\": 4, \"118\": 1, \"109\": 1, \"117\": 1, \"97\": 2, \"99\": 1, \"29\": 1, \"127\": 3, \"96\": 1, \"107\": 1, \"87\": 1, \"108\": 1, \"0\": 2, \"30\": 2, \"12\": 1, \"18\": 1}, \"56\": {\"56\": 9, \"95\": 1, \"7\": 2}, \"111\": {\"59\": 1, \"111\": 87, \"101\": 9, \"127\": 8, \"0\": 4, \"114\": 1, \"30\": 3, \"90\": 1, \"71\": 3, \"108\": 2, \"3\": 1, \"97\": 1, \"68\": 2, \"95\": 1, \"4\": 1, \"12\": 1, \"98\": 1, \"7\": 1}, \"59\": {\"59\": 12, \"29\": 1, \"44\": 1, \"41\": 1, \"78\": 1}, \"79\": {\"79\": 13, \"27\": 1, \"103\": 1, \"98\": 1}, \"62\": {\"62\": 87, \"67\": 1, \"84\": 3, \"82\": 1, \"44\": 3, \"126\": 1, \"78\": 1, \"14\": 1, \"16\": 2, \"39\": 4, \"90\": 5, \"87\": 2, \"88\": 3, \"93\": 1, \"33\": 3, \"1\": 2, \"70\": 1, \"122\": 1}, \"21\": {\"21\": 25, \"96\": 1, \"60\": 1, \"118\": 1, \"109\": 4, \"90\": 2, \"70\": 1, \"39\": 1, \"16\": 2, \"63\": 2, \"88\": 5, \"31\": 1, \"120\": 1, \"117\": 1}, \"48\": {\"45\": 2, \"117\": 1, \"48\": 11, \"69\": 1, \"118\": 1, \"57\": 1, \"116\": 1, \"31\": 1, \"72\": 1}, \"16\": {\"16\": 53, \"20\": 2, \"83\": 2, \"65\": 1, \"109\": 6, \"88\": 8, \"70\": 3, \"93\": 5, \"18\": 1, \"126\": 4, \"39\": 6, \"118\": 2, \"69\": 8, \"87\": 2, \"90\": 5, \"62\": 9, \"44\": 1, \"81\": 1, \"102\": 3, \"82\": 1, \"1\": 1}, \"50\": {\"50\": 11, \"109\": 1, \"55\": 1, \"80\": 1, \"86\": 1, \"32\": 1}, \"44\": {\"88\": 2, \"44\": 70, \"126\": 3, \"82\": 1, \"43\": 2, \"10\": 2, \"21\": 1, \"109\": 3, \"83\": 2, \"87\": 2, \"18\": 1, \"1\": 2, \"122\": 1, \"61\": 1, \"90\": 1, \"16\": 1, \"70\": 1}, \"5\": {\"5\": 69, \"73\": 3, \"108\": 1, \"11\": 2, \"71\": 3, \"7\": 2, \"122\": 5, \"105\": 4, \"4\": 3, \"24\": 2, \"3\": 5, \"18\": 1, \"40\": 1, \"107\": 2, \"114\": 4, \"95\": 1, \"124\": 1, \"117\": 1}, \"20\": {\"20\": 13, \"118\": 2, \"106\": 1}, \"1\": {\"50\": 2, \"19\": 1, \"61\": 1, \"1\": 73, \"80\": 1, \"65\": 1, \"129\": 1, \"105\": 3, \"33\": 4, \"70\": 1, \"110\": 1, \"40\": 2, \"109\": 1, \"43\": 14, \"62\": 2, \"87\": 1, \"84\": 4, \"3\": 1, \"74\": 1, \"32\": 1, \"126\": 1, \"8\": 1, \"122\": 1, \"93\": 1}, \"65\": {\"20\": 1, \"65\": 16, \"113\": 1, \"120\": 1, \"39\": 1}, \"116\": {\"88\": 1, \"44\": 1, \"72\": 1, \"116\": 9, \"63\": 2, \"123\": 1, \"80\": 1, \"13\": 1, \"96\": 2, \"18\": 1, \"126\": 1, \"28\": 1, \"21\": 1, \"87\": 2, \"31\": 1, \"40\": 1, \"84\": 1}, \"51\": {\"51\": 9, \"15\": 1, \"6\": 2, \"97\": 1, \"68\": 1, \"125\": 1, \"0\": 1, \"9\": 1, \"36\": 1, \"20\": 1, \"24\": 1}, \"75\": {\"75\": 15, \"88\": 1}, \"100\": {\"67\": 3, \"39\": 1, \"100\": 10, \"18\": 1, \"33\": 1}, \"113\": {\"113\": 47, \"20\": 2, \"21\": 2, \"117\": 13, \"99\": 1, \"2\": 2, \"26\": 2, \"10\": 1, \"120\": 1, \"81\": 1}, \"41\": {\"41\": 10, \"114\": 2, \"11\": 1, \"24\": 3, \"49\": 1, \"12\": 1, \"35\": 1, \"47\": 1}, \"29\": {\"49\": 2, \"71\": 2, \"29\": 22, \"112\": 1, \"59\": 1, \"52\": 2, \"129\": 2}, \"23\": {\"32\": 1, \"23\": 12, \"118\": 1, \"114\": 2, \"0\": 2, \"81\": 1, \"122\": 4, \"91\": 1, \"107\": 1, \"5\": 1, \"11\": 2, \"39\": 3, \"88\": 2, \"10\": 1, \"83\": 1, \"26\": 1, \"61\": 1, \"2\": 1, \"44\": 1, \"34\": 1, \"8\": 1, \"120\": 1, \"43\": 1, \"18\": 1}, \"124\": {\"124\": 77, \"95\": 4, \"78\": 1, \"11\": 2, \"3\": 4, \"34\": 2, \"105\": 1, \"114\": 4, \"71\": 5, \"4\": 4, \"40\": 2, \"5\": 6, \"30\": 1, \"122\": 1, \"85\": 1, \"115\": 1, \"108\": 4, \"88\": 1, \"44\": 1, \"7\": 1, \"33\": 1}, \"68\": {\"68\": 11, \"97\": 1, \"114\": 1, \"18\": 1, \"27\": 2}, \"71\": {\"71\": 44, \"88\": 1, \"77\": 1, \"41\": 3, \"114\": 8, \"108\": 5, \"5\": 5, \"11\": 3, \"7\": 2, \"127\": 3, \"125\": 1, \"124\": 3, \"3\": 6, \"24\": 2, \"0\": 3, \"4\": 3, \"49\": 1, \"34\": 1, \"40\": 2, \"122\": 1, \"8\": 1, \"111\": 1}, \"107\": {\"107\": 30, \"105\": 4, \"117\": 1, \"108\": 1, \"82\": 1, \"71\": 2, \"123\": 1, \"29\": 1, \"112\": 1, \"99\": 2, \"7\": 1, \"83\": 1, \"122\": 1, \"26\": 2, \"124\": 2, \"40\": 1, \"129\": 1, \"128\": 1, \"64\": 1, \"5\": 4, \"110\": 1, \"24\": 1, \"34\": 2, \"10\": 1}, \"94\": {\"94\": 17, \"68\": 1, \"15\": 4, \"108\": 1, \"125\": 1, \"51\": 1, \"91\": 1, \"30\": 3, \"121\": 1, \"3\": 1, \"24\": 3, \"36\": 3, \"101\": 4, \"127\": 2, \"11\": 1, \"0\": 1, \"98\": 2, \"7\": 1, \"106\": 5, \"112\": 1, \"52\": 1, \"118\": 1, \"79\": 1, \"115\": 1, \"12\": 1, \"23\": 1, \"71\": 1, \"88\": 1, \"111\": 2}, \"77\": {\"77\": 10, \"71\": 1, \"49\": 2, \"39\": 1, \"52\": 1, \"29\": 1}, \"8\": {\"46\": 1, \"8\": 58, \"114\": 1, \"38\": 2, \"74\": 1, \"112\": 1, \"40\": 1, \"70\": 2, \"66\": 1, \"86\": 2, \"37\": 1, \"32\": 1, \"110\": 1, \"122\": 9, \"34\": 1, \"44\": 8, \"0\": 1, \"62\": 1, \"1\": 2, \"90\": 1, \"124\": 2, \"109\": 2, \"108\": 4, \"105\": 4, \"5\": 3, \"64\": 1, \"17\": 1, \"75\": 1, \"129\": 1, \"106\": 1, \"43\": 3, \"83\": 1, \"126\": 2}, \"46\": {\"44\": 1, \"122\": 1, \"46\": 7, \"80\": 2, \"37\": 1, \"55\": 1, \"78\": 2, \"10\": 1}, \"25\": {\"25\": 11, \"24\": 1, \"20\": 1, \"16\": 1, \"15\": 2}, \"122\": {\"8\": 10, \"115\": 1, \"119\": 1, \"122\": 35, \"37\": 2, \"1\": 4, \"10\": 4, \"40\": 9, \"50\": 1, \"105\": 6, \"121\": 1, \"107\": 2, \"90\": 5, \"11\": 3, \"124\": 4, \"44\": 2, \"5\": 8, \"110\": 1, \"78\": 1, \"3\": 3, \"126\": 6, \"24\": 1, \"62\": 2, \"117\": 1, \"71\": 1, \"127\": 1, \"53\": 1, \"41\": 1, \"13\": 1, \"113\": 1, \"128\": 1, \"111\": 1, \"109\": 2, \"23\": 1, \"83\": 1, \"95\": 1, \"114\": 2, \"118\": 1, \"43\": 4, \"4\": 1, \"7\": 2, \"70\": 2, \"0\": 1, \"108\": 1}, \"58\": {\"97\": 2, \"49\": 1, \"9\": 1, \"58\": 11, \"36\": 2, \"65\": 1, \"90\": 1, \"89\": 1}, \"6\": {\"6\": 17, \"51\": 2, \"101\": 3, \"15\": 3, \"111\": 1, \"36\": 1, \"125\": 2, \"9\": 1, \"25\": 2}, \"109\": {\"109\": 44, \"20\": 1, \"123\": 1, \"100\": 1, \"87\": 2, \"90\": 4, \"83\": 4, \"88\": 19, \"39\": 2, \"16\": 6, \"126\": 4, \"117\": 1, \"61\": 1, \"48\": 1, \"63\": 2, \"93\": 2, \"44\": 1, \"70\": 2, \"43\": 2}, \"119\": {\"119\": 15, \"90\": 1, \"53\": 1, \"126\": 1, \"51\": 1, \"61\": 1}, \"34\": {\"74\": 2, \"97\": 1, \"98\": 3, \"70\": 1, \"27\": 2, \"88\": 1, \"34\": 5, \"42\": 1, \"101\": 2, \"15\": 1, \"94\": 1, \"22\": 1, \"120\": 1, \"66\": 1, \"75\": 1, \"106\": 2, \"40\": 1, \"24\": 1, \"78\": 1, \"44\": 1, \"36\": 1, \"10\": 1}, \"90\": {\"102\": 2, \"90\": 78, \"62\": 7, \"14\": 1, \"126\": 6, \"83\": 2, \"16\": 7, \"109\": 4, \"93\": 8, \"70\": 1, \"88\": 10, \"44\": 4, \"99\": 2, \"20\": 2, \"82\": 1, \"118\": 3, \"39\": 1, \"43\": 1}, \"38\": {\"38\": 11, \"108\": 1, \"8\": 1, \"22\": 2, \"53\": 1}, \"104\": {\"106\": 1, \"104\": 13, \"107\": 1, \"5\": 1, \"73\": 1, \"99\": 1, \"70\": 1, \"101\": 1}, \"84\": {\"84\": 41, \"65\": 1, \"46\": 2, \"45\": 1, \"33\": 7, \"87\": 4, \"102\": 4, \"1\": 12, \"93\": 2, \"43\": 6, \"70\": 2, \"40\": 2, \"69\": 1, \"122\": 2, \"90\": 1, \"80\": 1, \"19\": 1, \"82\": 1, \"114\": 1}, \"112\": {\"29\": 1, \"24\": 1, \"112\": 10, \"40\": 1, \"34\": 1, \"19\": 1, \"114\": 1}, \"66\": {\"66\": 15, \"62\": 2, \"120\": 2, \"106\": 1}, \"22\": {\"22\": 14, \"123\": 1, \"126\": 1, \"28\": 1, \"66\": 1, \"37\": 1, \"21\": 1}, \"37\": {\"37\": 15, \"76\": 1}, \"43\": {\"62\": 2, \"84\": 2, \"70\": 3, \"83\": 6, \"37\": 1, \"50\": 1, \"23\": 1, \"122\": 3, \"78\": 1, \"88\": 10, \"109\": 7, \"107\": 1, \"110\": 3, \"105\": 8, \"1\": 4, \"44\": 6, \"39\": 3, \"40\": 8, \"43\": 9, \"5\": 6, \"90\": 6, \"33\": 4, \"24\": 1, \"108\": 2, \"16\": 2, \"8\": 2, \"55\": 1, \"123\": 1, \"60\": 1, \"20\": 1, \"128\": 1, \"21\": 2, \"126\": 1, \"82\": 1, \"93\": 1, \"27\": 1, \"120\": 1, \"3\": 1, \"118\": 2, \"11\": 1, \"117\": 1, \"124\": 1, \"87\": 2, \"114\": 1, \"18\": 1}}}, \"per_domain_accuracy\": {\"O_14\": {\"accuracy\": 0.90078125, \"source?\": true}, \"O_20\": {\"accuracy\": 0.8627604166666667, \"source?\": true}, \"O_38\": {\"accuracy\": 0.9125, \"source?\": true}, \"O_8\": {\"accuracy\": 0.86484375, \"source?\": true}, \"O_50\": {\"accuracy\": 0.8963541666666667, \"source?\": true}, \"O_32\": {\"accuracy\": 0.8747395833333333, \"source?\": true}, \"O_26\": {\"accuracy\": 0.72421875, \"source?\": true}, \"O_44\": {\"accuracy\": 0.771875, \"source?\": true}, \"W_3\": {\"accuracy\": 0.5084978070175439, \"source?\": false}, \"C_3\": {\"accuracy\": 0.7341933139534884, \"source?\": false}, \"W_4\": {\"accuracy\": 0.4591049382716049, \"source?\": false}, \"C_4\": {\"accuracy\": 0.7524621212121212, \"source?\": false}, \"C_5\": {\"accuracy\": 0.7430167597765364, \"source?\": false}, \"C_1\": {\"accuracy\": 0.7986680327868853, \"source?\": false}, \"W_1\": {\"accuracy\": 0.5355053191489362, \"source?\": false}, \"C_2\": {\"accuracy\": 0.7727754237288136, \"source?\": false}, \"W_2\": {\"accuracy\": 0.5077468487394958, \"source?\": false}}}, \"history\": {\"epoch_indices\": [1, 2, 3, 4, 5, 6, 7], \"train_label_loss\": [0.7749687834509782, 0.8069607406466578, 0.43351346847720423, 0.3661035723709834, 0.3312202132295906, 0.2988488564382091, 0.274365025534921], \"source_val_label_loss\": [44.277198791503906, 0.5070561766624451, 0.4136366844177246, 0.4184737801551819, 0.37143614888191223, 0.3297954797744751, 0.4145539104938507], \"target_val_label_loss\": [383.8529052734375, 95.52774810791016, 173.1833038330078, 204.90830993652344, 230.1054229736328, 258.4109802246094, 289.6759338378906], \"source_val_acc_label\": [0.6295572916666666, 0.8190104166666666, 0.8510091145833333, 0.8462890625, 0.8682942708333333, 0.8802734375, 0.84599609375], \"target_val_acc_label\": [0.5356456043956044, 0.6165865384615384, 0.6266826923076924, 0.6117273351648351, 0.6242101648351648, 0.6239526098901099, 0.613650412087912]}, \"dataset_metrics\": {\"source\": {\"train\": {\"n_unique_x\": 179200, \"n_unique_y\": 16, \"n_batch/episode\": 6720}, \"val\": {\"n_unique_x\": 38400, \"n_unique_y\": 16, \"n_batch/episode\": 960}, \"test\": {\"n_unique_x\": 38400, \"n_unique_y\": 16, \"n_batch/episode\": 960}}, \"target\": {\"train\": {\"n_unique_x\": 364179, \"n_unique_y\": 130, \"n_batch/episode\": 13159}, \"val\": {\"n_unique_x\": 77264, \"n_unique_y\": 130, \"n_batch/episode\": 1820}, \"test\": {\"n_unique_x\": 78450, \"n_unique_y\": 130, \"n_batch/episode\": 1860}}}}'"
      ]
     },
     "execution_count": 29,
     "metadata": {},
     "output_type": "execute_result"
    }
   ],
   "source": [
    "json.dumps(experiment)"
   ]
  }
 ],
 "metadata": {
  "celltoolbar": "Tags",
  "kernelspec": {
   "display_name": "Python 3 (ipykernel)",
   "language": "python",
   "name": "python3"
  },
  "language_info": {
   "codemirror_mode": {
    "name": "ipython",
    "version": 3
   },
   "file_extension": ".py",
   "mimetype": "text/x-python",
   "name": "python",
   "nbconvert_exporter": "python",
   "pygments_lexer": "ipython3",
   "version": "3.8.10"
  },
  "papermill": {
   "default_parameters": {},
   "duration": 1505.133307,
   "end_time": "2022-03-19T18:36:08.888078",
   "environment_variables": {},
   "exception": null,
   "input_path": "/mnt/wd500GB/CSC500/csc500-main/csc500-notebooks/templates/tl_ptn_template.ipynb",
   "output_path": "trial.ipynb",
   "parameters": {
    "parameters": {
     "BEST_MODEL_PATH": "./best_model.pth",
     "NUM_LOGS_PER_EPOCH": 10,
     "criteria_for_best": "target_accuracy",
     "dataset_seed": 1337,
     "datasets": [
      {
       "domain_prefix": "C_",
       "domains": [
        1,
        2,
        3,
        4,
        5
       ],
       "episode_transforms": [],
       "labels": [
        "1-10.",
        "1-11.",
        "1-15.",
        "1-16.",
        "1-17.",
        "1-18.",
        "1-19.",
        "10-4.",
        "10-7.",
        "11-1.",
        "11-14.",
        "11-17.",
        "11-20.",
        "11-7.",
        "13-20.",
        "13-8.",
        "14-10.",
        "14-11.",
        "14-14.",
        "14-7.",
        "15-1.",
        "15-20.",
        "16-1.",
        "16-16.",
        "17-10.",
        "17-11.",
        "17-2.",
        "19-1.",
        "19-16.",
        "19-19.",
        "19-20.",
        "19-3.",
        "2-10.",
        "2-11.",
        "2-17.",
        "2-18.",
        "2-20.",
        "2-3.",
        "2-4.",
        "2-5.",
        "2-6.",
        "2-7.",
        "2-8.",
        "3-13.",
        "3-18.",
        "3-3.",
        "4-1.",
        "4-10.",
        "4-11.",
        "4-19.",
        "5-5.",
        "6-15.",
        "7-10.",
        "7-14.",
        "8-18.",
        "8-20.",
        "8-3.",
        "8-8."
       ],
       "num_examples_per_domain_per_label": -1,
       "pickle_path": "/mnt/wd500GB/CSC500/csc500-main/datasets/cores.stratified_ds.2022A.pkl",
       "source_or_target_dataset": "target",
       "x_transforms": [
        "unit_power"
       ]
      },
      {
       "domain_prefix": "W_",
       "domains": [
        1,
        2,
        3,
        4
       ],
       "episode_transforms": [],
       "labels": [
        "1-10",
        "1-12",
        "1-14",
        "1-16",
        "1-18",
        "1-19",
        "1-8",
        "10-11",
        "10-17",
        "10-4",
        "10-7",
        "11-1",
        "11-10",
        "11-19",
        "11-20",
        "11-4",
        "11-7",
        "12-19",
        "12-20",
        "12-7",
        "13-14",
        "13-18",
        "13-19",
        "13-20",
        "13-3",
        "13-7",
        "14-10",
        "14-11",
        "14-12",
        "14-13",
        "14-14",
        "14-19",
        "14-20",
        "14-7",
        "14-8",
        "14-9",
        "15-1",
        "15-19",
        "15-6",
        "16-1",
        "16-16",
        "16-19",
        "16-20",
        "17-10",
        "17-11",
        "18-1",
        "18-10",
        "18-11",
        "18-12",
        "18-13",
        "18-14",
        "18-15",
        "18-16",
        "18-17",
        "18-19",
        "18-2",
        "18-20",
        "18-4",
        "18-5",
        "18-7",
        "18-8",
        "18-9",
        "19-1",
        "19-10",
        "19-11",
        "19-12",
        "19-13",
        "19-14",
        "19-15",
        "19-19",
        "19-2",
        "19-20",
        "19-3",
        "19-4",
        "19-6",
        "19-7",
        "19-8",
        "19-9",
        "2-1",
        "2-13",
        "2-15",
        "2-3",
        "2-4",
        "2-5",
        "2-6",
        "2-7",
        "2-8",
        "20-1",
        "20-12",
        "20-14",
        "20-15",
        "20-16",
        "20-18",
        "20-19",
        "20-20",
        "20-3",
        "20-4",
        "20-5",
        "20-7",
        "20-8",
        "3-1",
        "3-13",
        "3-18",
        "3-2",
        "3-8",
        "4-1",
        "4-10",
        "4-11",
        "5-1",
        "5-5",
        "6-1",
        "6-15",
        "6-6",
        "7-10",
        "7-11",
        "7-12",
        "7-13",
        "7-14",
        "7-7",
        "7-8",
        "7-9",
        "8-1",
        "8-13",
        "8-14",
        "8-18",
        "8-20",
        "8-3",
        "8-8",
        "9-1",
        "9-7"
       ],
       "num_examples_per_domain_per_label": -1,
       "pickle_path": "/mnt/wd500GB/CSC500/csc500-main/datasets/wisig.node3-19.stratified_ds.2022A.pkl",
       "source_or_target_dataset": "target",
       "x_transforms": [
        "unit_power"
       ]
      },
      {
       "domain_prefix": "O_",
       "domains": [
        32,
        38,
        8,
        44,
        14,
        50,
        20,
        26
       ],
       "episode_transforms": [],
       "labels": [
        "3123D52",
        "3123D65",
        "3123D79",
        "3123D80",
        "3123D54",
        "3123D70",
        "3123D7B",
        "3123D89",
        "3123D58",
        "3123D76",
        "3123D7D",
        "3123EFE",
        "3123D64",
        "3123D78",
        "3123D7E",
        "3124E4A"
       ],
       "num_examples_per_domain_per_label": 2000,
       "pickle_path": "/mnt/wd500GB/CSC500/csc500-main/datasets/oracle.Run1_framed_2000Examples_stratified_ds.2022A.pkl",
       "source_or_target_dataset": "source",
       "x_transforms": [
        "unit_power"
       ]
      }
     ],
     "device": "cuda",
     "experiment_name": "tl_2v2:oracle.run1.framed -> cores+wisig",
     "lr": 0.0001,
     "n_epoch": 50,
     "n_query": 2,
     "n_shot": 3,
     "n_way": 16,
     "patience": 3,
     "seed": 1337,
     "test_k_factor": 2,
     "torch_default_dtype": "torch.float32",
     "train_k_factor": 3,
     "val_k_factor": 2,
     "x_net": [
      {
       "class": "nnReshape",
       "kargs": {
        "shape": [
         -1,
         1,
         2,
         256
        ]
       }
      },
      {
       "class": "Conv2d",
       "kargs": {
        "bias": false,
        "in_channels": 1,
        "kernel_size": [
         1,
         7
        ],
        "out_channels": 256,
        "padding": [
         0,
         3
        ]
       }
      },
      {
       "class": "ReLU",
       "kargs": {
        "inplace": true
       }
      },
      {
       "class": "BatchNorm2d",
       "kargs": {
        "num_features": 256
       }
      },
      {
       "class": "Conv2d",
       "kargs": {
        "bias": true,
        "in_channels": 256,
        "kernel_size": [
         2,
         7
        ],
        "out_channels": 80,
        "padding": [
         0,
         3
        ]
       }
      },
      {
       "class": "ReLU",
       "kargs": {
        "inplace": true
       }
      },
      {
       "class": "BatchNorm2d",
       "kargs": {
        "num_features": 80
       }
      },
      {
       "class": "Flatten",
       "kargs": {}
      },
      {
       "class": "Linear",
       "kargs": {
        "in_features": 20480,
        "out_features": 256
       }
      },
      {
       "class": "ReLU",
       "kargs": {
        "inplace": true
       }
      },
      {
       "class": "BatchNorm1d",
       "kargs": {
        "num_features": 256
       }
      },
      {
       "class": "Linear",
       "kargs": {
        "in_features": 256,
        "out_features": 256
       }
      }
     ]
    }
   },
   "start_time": "2022-03-19T18:11:03.754771",
   "version": "2.3.4"
  }
 },
 "nbformat": 4,
 "nbformat_minor": 5
}