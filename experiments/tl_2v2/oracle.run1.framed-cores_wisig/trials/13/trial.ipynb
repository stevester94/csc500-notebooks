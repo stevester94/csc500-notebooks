{
 "cells": [
  {
   "cell_type": "markdown",
   "id": "9fea5f46",
   "metadata": {
    "papermill": {
     "duration": 0.017969,
     "end_time": "2022-03-20T01:19:39.394715",
     "exception": false,
     "start_time": "2022-03-20T01:19:39.376746",
     "status": "completed"
    },
    "tags": []
   },
   "source": [
    "# Transfer Learning Template"
   ]
  },
  {
   "cell_type": "code",
   "execution_count": 1,
   "id": "0902182a",
   "metadata": {
    "execution": {
     "iopub.execute_input": "2022-03-20T01:19:39.434348Z",
     "iopub.status.busy": "2022-03-20T01:19:39.434086Z",
     "iopub.status.idle": "2022-03-20T01:19:40.391567Z",
     "shell.execute_reply": "2022-03-20T01:19:40.390969Z"
    },
    "papermill": {
     "duration": 0.984525,
     "end_time": "2022-03-20T01:19:40.391693",
     "exception": false,
     "start_time": "2022-03-20T01:19:39.407168",
     "status": "completed"
    },
    "tags": []
   },
   "outputs": [],
   "source": [
    "%load_ext autoreload\n",
    "%autoreload 2\n",
    "%matplotlib inline\n",
    "\n",
    "    \n",
    "import os, json, sys, time, random\n",
    "import numpy as np\n",
    "import torch\n",
    "from torch.optim import Adam\n",
    "from  easydict import EasyDict\n",
    "import matplotlib.pyplot as plt\n",
    "\n",
    "from steves_models.steves_ptn import Steves_Prototypical_Network\n",
    "\n",
    "from steves_utils.lazy_iterable_wrapper import Lazy_Iterable_Wrapper\n",
    "from steves_utils.iterable_aggregator import Iterable_Aggregator\n",
    "from steves_utils.ptn_train_eval_test_jig import  PTN_Train_Eval_Test_Jig\n",
    "from steves_utils.torch_sequential_builder import build_sequential\n",
    "from steves_utils.torch_utils import get_dataset_metrics, ptn_confusion_by_domain_over_dataloader\n",
    "from steves_utils.utils_v2 import (per_domain_accuracy_from_confusion, get_datasets_base_path)\n",
    "from steves_utils.PTN.utils import independent_accuracy_assesment\n",
    "\n",
    "from torch.utils.data import DataLoader\n",
    "\n",
    "from steves_utils.stratified_dataset.episodic_accessor import Episodic_Accessor_Factory\n",
    "\n",
    "from steves_utils.ptn_do_report import (\n",
    "    get_loss_curve,\n",
    "    get_results_table,\n",
    "    get_parameters_table,\n",
    "    get_domain_accuracies,\n",
    ")\n",
    "\n",
    "from steves_utils.transforms import get_chained_transform"
   ]
  },
  {
   "cell_type": "markdown",
   "id": "41c840b4",
   "metadata": {
    "papermill": {
     "duration": 0.013365,
     "end_time": "2022-03-20T01:19:40.423957",
     "exception": false,
     "start_time": "2022-03-20T01:19:40.410592",
     "status": "completed"
    },
    "tags": []
   },
   "source": [
    "# Allowed Parameters\n",
    "These are allowed parameters, not defaults\n",
    "Each of these values need to be present in the injected parameters (the notebook will raise an exception if they are not present)\n",
    "\n",
    "Papermill uses the cell tag \"parameters\" to inject the real parameters below this cell.\n",
    "Enable tags to see what I mean"
   ]
  },
  {
   "cell_type": "code",
   "execution_count": 2,
   "id": "fd44eb83",
   "metadata": {
    "execution": {
     "iopub.execute_input": "2022-03-20T01:19:40.452501Z",
     "iopub.status.busy": "2022-03-20T01:19:40.450566Z",
     "iopub.status.idle": "2022-03-20T01:19:40.466581Z",
     "shell.execute_reply": "2022-03-20T01:19:40.466122Z"
    },
    "papermill": {
     "duration": 0.03008,
     "end_time": "2022-03-20T01:19:40.466690",
     "exception": false,
     "start_time": "2022-03-20T01:19:40.436610",
     "status": "completed"
    },
    "tags": []
   },
   "outputs": [],
   "source": [
    "required_parameters = {\n",
    "    \"experiment_name\",\n",
    "    \"lr\",\n",
    "    \"device\",\n",
    "    \"seed\",\n",
    "    \"dataset_seed\",\n",
    "    \"n_shot\",\n",
    "    \"n_query\",\n",
    "    \"n_way\",\n",
    "    \"train_k_factor\",\n",
    "    \"val_k_factor\",\n",
    "    \"test_k_factor\",\n",
    "    \"n_epoch\",\n",
    "    \"patience\",\n",
    "    \"criteria_for_best\",\n",
    "    \"x_net\",\n",
    "    \"datasets\",\n",
    "    \"torch_default_dtype\",\n",
    "    \"NUM_LOGS_PER_EPOCH\",\n",
    "    \"BEST_MODEL_PATH\",\n",
    "    \"x_shape\",\n",
    "}"
   ]
  },
  {
   "cell_type": "code",
   "execution_count": 3,
   "id": "fa3f0049",
   "metadata": {
    "execution": {
     "iopub.execute_input": "2022-03-20T01:19:40.505306Z",
     "iopub.status.busy": "2022-03-20T01:19:40.505021Z",
     "iopub.status.idle": "2022-03-20T01:19:40.522169Z",
     "shell.execute_reply": "2022-03-20T01:19:40.521905Z"
    },
    "papermill": {
     "duration": 0.040065,
     "end_time": "2022-03-20T01:19:40.522231",
     "exception": false,
     "start_time": "2022-03-20T01:19:40.482166",
     "status": "completed"
    },
    "tags": [
     "parameters"
    ]
   },
   "outputs": [],
   "source": [
    "from steves_utils.CORES.utils import (\n",
    "    ALL_NODES,\n",
    "    ALL_NODES_MINIMUM_1000_EXAMPLES,\n",
    "    ALL_DAYS\n",
    ")\n",
    "\n",
    "from steves_utils.ORACLE.utils_v2 import (\n",
    "    ALL_DISTANCES_FEET_NARROWED,\n",
    "    ALL_RUNS,\n",
    "    ALL_SERIAL_NUMBERS,\n",
    ")\n",
    "\n",
    "standalone_parameters = {}\n",
    "standalone_parameters[\"experiment_name\"] = \"STANDALONE PTN\"\n",
    "standalone_parameters[\"lr\"] = 0.001\n",
    "standalone_parameters[\"device\"] = \"cuda\"\n",
    "\n",
    "standalone_parameters[\"seed\"] = 1337\n",
    "standalone_parameters[\"dataset_seed\"] = 1337\n",
    "\n",
    "standalone_parameters[\"n_way\"] = 8\n",
    "standalone_parameters[\"n_shot\"] = 3\n",
    "standalone_parameters[\"n_query\"]  = 2\n",
    "standalone_parameters[\"train_k_factor\"] = 1\n",
    "standalone_parameters[\"val_k_factor\"] = 2\n",
    "standalone_parameters[\"test_k_factor\"] = 2\n",
    "\n",
    "\n",
    "standalone_parameters[\"n_epoch\"] = 50\n",
    "\n",
    "standalone_parameters[\"patience\"] = 10\n",
    "standalone_parameters[\"criteria_for_best\"] = \"source_loss\"\n",
    "\n",
    "standalone_parameters[\"datasets\"] = [\n",
    "    {\n",
    "        \"labels\": ALL_SERIAL_NUMBERS,\n",
    "        \"domains\": ALL_DISTANCES_FEET_NARROWED,\n",
    "        \"num_examples_per_domain_per_label\": 100,\n",
    "        \"pickle_path\": os.path.join(get_datasets_base_path(), \"oracle.Run1_framed_2000Examples_stratified_ds.2022A.pkl\"),\n",
    "        \"source_or_target_dataset\": \"source\",\n",
    "        \"x_transforms\": [\"unit_mag\", \"minus_two\"],\n",
    "        \"episode_transforms\": [],\n",
    "        \"domain_prefix\": \"ORACLE_\"\n",
    "    },\n",
    "    {\n",
    "        \"labels\": ALL_NODES,\n",
    "        \"domains\": ALL_DAYS,\n",
    "        \"num_examples_per_domain_per_label\": 100,\n",
    "        \"pickle_path\": os.path.join(get_datasets_base_path(), \"cores.stratified_ds.2022A.pkl\"),\n",
    "        \"source_or_target_dataset\": \"target\",\n",
    "        \"x_transforms\": [\"unit_power\", \"times_zero\"],\n",
    "        \"episode_transforms\": [],\n",
    "        \"domain_prefix\": \"CORES_\"\n",
    "    }   \n",
    "]\n",
    "\n",
    "standalone_parameters[\"torch_default_dtype\"] = \"torch.float32\" \n",
    "\n",
    "\n",
    "\n",
    "standalone_parameters[\"x_net\"] =     [\n",
    "    {\"class\": \"nnReshape\", \"kargs\": {\"shape\":[-1, 1, 2, 256]}},\n",
    "    {\"class\": \"Conv2d\", \"kargs\": { \"in_channels\":1, \"out_channels\":256, \"kernel_size\":(1,7), \"bias\":False, \"padding\":(0,3), },},\n",
    "    {\"class\": \"ReLU\", \"kargs\": {\"inplace\": True}},\n",
    "    {\"class\": \"BatchNorm2d\", \"kargs\": {\"num_features\":256}},\n",
    "\n",
    "    {\"class\": \"Conv2d\", \"kargs\": { \"in_channels\":256, \"out_channels\":80, \"kernel_size\":(2,7), \"bias\":True, \"padding\":(0,3), },},\n",
    "    {\"class\": \"ReLU\", \"kargs\": {\"inplace\": True}},\n",
    "    {\"class\": \"BatchNorm2d\", \"kargs\": {\"num_features\":80}},\n",
    "    {\"class\": \"Flatten\", \"kargs\": {}},\n",
    "\n",
    "    {\"class\": \"Linear\", \"kargs\": {\"in_features\": 80*256, \"out_features\": 256}}, # 80 units per IQ pair\n",
    "    {\"class\": \"ReLU\", \"kargs\": {\"inplace\": True}},\n",
    "    {\"class\": \"BatchNorm1d\", \"kargs\": {\"num_features\":256}},\n",
    "\n",
    "    {\"class\": \"Linear\", \"kargs\": {\"in_features\": 256, \"out_features\": 256}},\n",
    "]\n",
    "\n",
    "# Parameters relevant to results\n",
    "# These parameters will basically never need to change\n",
    "standalone_parameters[\"NUM_LOGS_PER_EPOCH\"] = 10\n",
    "standalone_parameters[\"BEST_MODEL_PATH\"] = \"./best_model.pth\"\n",
    "\n",
    "\n",
    "\n",
    "\n"
   ]
  },
  {
   "cell_type": "code",
   "execution_count": 4,
   "id": "d2a5717c",
   "metadata": {
    "execution": {
     "iopub.execute_input": "2022-03-20T01:19:40.560733Z",
     "iopub.status.busy": "2022-03-20T01:19:40.560213Z",
     "iopub.status.idle": "2022-03-20T01:19:40.574417Z",
     "shell.execute_reply": "2022-03-20T01:19:40.573990Z"
    },
    "papermill": {
     "duration": 0.039163,
     "end_time": "2022-03-20T01:19:40.574524",
     "exception": false,
     "start_time": "2022-03-20T01:19:40.535361",
     "status": "completed"
    },
    "tags": [
     "injected-parameters"
    ]
   },
   "outputs": [],
   "source": [
    "# Parameters\n",
    "parameters = {\n",
    "    \"experiment_name\": \"tl_2v2:oracle.run1.framed -> cores+wisig\",\n",
    "    \"device\": \"cuda\",\n",
    "    \"lr\": 0.0001,\n",
    "    \"n_shot\": 3,\n",
    "    \"n_query\": 2,\n",
    "    \"train_k_factor\": 3,\n",
    "    \"val_k_factor\": 2,\n",
    "    \"test_k_factor\": 2,\n",
    "    \"torch_default_dtype\": \"torch.float32\",\n",
    "    \"n_epoch\": 50,\n",
    "    \"patience\": 3,\n",
    "    \"criteria_for_best\": \"target_accuracy\",\n",
    "    \"x_net\": [\n",
    "        {\"class\": \"nnReshape\", \"kargs\": {\"shape\": [-1, 1, 2, 256]}},\n",
    "        {\n",
    "            \"class\": \"Conv2d\",\n",
    "            \"kargs\": {\n",
    "                \"in_channels\": 1,\n",
    "                \"out_channels\": 256,\n",
    "                \"kernel_size\": [1, 7],\n",
    "                \"bias\": False,\n",
    "                \"padding\": [0, 3],\n",
    "            },\n",
    "        },\n",
    "        {\"class\": \"ReLU\", \"kargs\": {\"inplace\": True}},\n",
    "        {\"class\": \"BatchNorm2d\", \"kargs\": {\"num_features\": 256}},\n",
    "        {\n",
    "            \"class\": \"Conv2d\",\n",
    "            \"kargs\": {\n",
    "                \"in_channels\": 256,\n",
    "                \"out_channels\": 80,\n",
    "                \"kernel_size\": [2, 7],\n",
    "                \"bias\": True,\n",
    "                \"padding\": [0, 3],\n",
    "            },\n",
    "        },\n",
    "        {\"class\": \"ReLU\", \"kargs\": {\"inplace\": True}},\n",
    "        {\"class\": \"BatchNorm2d\", \"kargs\": {\"num_features\": 80}},\n",
    "        {\"class\": \"Flatten\", \"kargs\": {}},\n",
    "        {\"class\": \"Linear\", \"kargs\": {\"in_features\": 20480, \"out_features\": 256}},\n",
    "        {\"class\": \"ReLU\", \"kargs\": {\"inplace\": True}},\n",
    "        {\"class\": \"BatchNorm1d\", \"kargs\": {\"num_features\": 256}},\n",
    "        {\"class\": \"Linear\", \"kargs\": {\"in_features\": 256, \"out_features\": 256}},\n",
    "    ],\n",
    "    \"NUM_LOGS_PER_EPOCH\": 10,\n",
    "    \"BEST_MODEL_PATH\": \"./best_model.pth\",\n",
    "    \"n_way\": 16,\n",
    "    \"datasets\": [\n",
    "        {\n",
    "            \"labels\": [\n",
    "                \"1-10.\",\n",
    "                \"1-11.\",\n",
    "                \"1-15.\",\n",
    "                \"1-16.\",\n",
    "                \"1-17.\",\n",
    "                \"1-18.\",\n",
    "                \"1-19.\",\n",
    "                \"10-4.\",\n",
    "                \"10-7.\",\n",
    "                \"11-1.\",\n",
    "                \"11-14.\",\n",
    "                \"11-17.\",\n",
    "                \"11-20.\",\n",
    "                \"11-7.\",\n",
    "                \"13-20.\",\n",
    "                \"13-8.\",\n",
    "                \"14-10.\",\n",
    "                \"14-11.\",\n",
    "                \"14-14.\",\n",
    "                \"14-7.\",\n",
    "                \"15-1.\",\n",
    "                \"15-20.\",\n",
    "                \"16-1.\",\n",
    "                \"16-16.\",\n",
    "                \"17-10.\",\n",
    "                \"17-11.\",\n",
    "                \"17-2.\",\n",
    "                \"19-1.\",\n",
    "                \"19-16.\",\n",
    "                \"19-19.\",\n",
    "                \"19-20.\",\n",
    "                \"19-3.\",\n",
    "                \"2-10.\",\n",
    "                \"2-11.\",\n",
    "                \"2-17.\",\n",
    "                \"2-18.\",\n",
    "                \"2-20.\",\n",
    "                \"2-3.\",\n",
    "                \"2-4.\",\n",
    "                \"2-5.\",\n",
    "                \"2-6.\",\n",
    "                \"2-7.\",\n",
    "                \"2-8.\",\n",
    "                \"3-13.\",\n",
    "                \"3-18.\",\n",
    "                \"3-3.\",\n",
    "                \"4-1.\",\n",
    "                \"4-10.\",\n",
    "                \"4-11.\",\n",
    "                \"4-19.\",\n",
    "                \"5-5.\",\n",
    "                \"6-15.\",\n",
    "                \"7-10.\",\n",
    "                \"7-14.\",\n",
    "                \"8-18.\",\n",
    "                \"8-20.\",\n",
    "                \"8-3.\",\n",
    "                \"8-8.\",\n",
    "            ],\n",
    "            \"domains\": [1, 2, 3, 4, 5],\n",
    "            \"num_examples_per_domain_per_label\": -1,\n",
    "            \"pickle_path\": \"/mnt/wd500GB/CSC500/csc500-main/datasets/cores.stratified_ds.2022A.pkl\",\n",
    "            \"source_or_target_dataset\": \"target\",\n",
    "            \"x_transforms\": [\"unit_mag\"],\n",
    "            \"episode_transforms\": [],\n",
    "            \"domain_prefix\": \"C_\",\n",
    "        },\n",
    "        {\n",
    "            \"labels\": [\n",
    "                \"1-10\",\n",
    "                \"1-12\",\n",
    "                \"1-14\",\n",
    "                \"1-16\",\n",
    "                \"1-18\",\n",
    "                \"1-19\",\n",
    "                \"1-8\",\n",
    "                \"10-11\",\n",
    "                \"10-17\",\n",
    "                \"10-4\",\n",
    "                \"10-7\",\n",
    "                \"11-1\",\n",
    "                \"11-10\",\n",
    "                \"11-19\",\n",
    "                \"11-20\",\n",
    "                \"11-4\",\n",
    "                \"11-7\",\n",
    "                \"12-19\",\n",
    "                \"12-20\",\n",
    "                \"12-7\",\n",
    "                \"13-14\",\n",
    "                \"13-18\",\n",
    "                \"13-19\",\n",
    "                \"13-20\",\n",
    "                \"13-3\",\n",
    "                \"13-7\",\n",
    "                \"14-10\",\n",
    "                \"14-11\",\n",
    "                \"14-12\",\n",
    "                \"14-13\",\n",
    "                \"14-14\",\n",
    "                \"14-19\",\n",
    "                \"14-20\",\n",
    "                \"14-7\",\n",
    "                \"14-8\",\n",
    "                \"14-9\",\n",
    "                \"15-1\",\n",
    "                \"15-19\",\n",
    "                \"15-6\",\n",
    "                \"16-1\",\n",
    "                \"16-16\",\n",
    "                \"16-19\",\n",
    "                \"16-20\",\n",
    "                \"17-10\",\n",
    "                \"17-11\",\n",
    "                \"18-1\",\n",
    "                \"18-10\",\n",
    "                \"18-11\",\n",
    "                \"18-12\",\n",
    "                \"18-13\",\n",
    "                \"18-14\",\n",
    "                \"18-15\",\n",
    "                \"18-16\",\n",
    "                \"18-17\",\n",
    "                \"18-19\",\n",
    "                \"18-2\",\n",
    "                \"18-20\",\n",
    "                \"18-4\",\n",
    "                \"18-5\",\n",
    "                \"18-7\",\n",
    "                \"18-8\",\n",
    "                \"18-9\",\n",
    "                \"19-1\",\n",
    "                \"19-10\",\n",
    "                \"19-11\",\n",
    "                \"19-12\",\n",
    "                \"19-13\",\n",
    "                \"19-14\",\n",
    "                \"19-15\",\n",
    "                \"19-19\",\n",
    "                \"19-2\",\n",
    "                \"19-20\",\n",
    "                \"19-3\",\n",
    "                \"19-4\",\n",
    "                \"19-6\",\n",
    "                \"19-7\",\n",
    "                \"19-8\",\n",
    "                \"19-9\",\n",
    "                \"2-1\",\n",
    "                \"2-13\",\n",
    "                \"2-15\",\n",
    "                \"2-3\",\n",
    "                \"2-4\",\n",
    "                \"2-5\",\n",
    "                \"2-6\",\n",
    "                \"2-7\",\n",
    "                \"2-8\",\n",
    "                \"20-1\",\n",
    "                \"20-12\",\n",
    "                \"20-14\",\n",
    "                \"20-15\",\n",
    "                \"20-16\",\n",
    "                \"20-18\",\n",
    "                \"20-19\",\n",
    "                \"20-20\",\n",
    "                \"20-3\",\n",
    "                \"20-4\",\n",
    "                \"20-5\",\n",
    "                \"20-7\",\n",
    "                \"20-8\",\n",
    "                \"3-1\",\n",
    "                \"3-13\",\n",
    "                \"3-18\",\n",
    "                \"3-2\",\n",
    "                \"3-8\",\n",
    "                \"4-1\",\n",
    "                \"4-10\",\n",
    "                \"4-11\",\n",
    "                \"5-1\",\n",
    "                \"5-5\",\n",
    "                \"6-1\",\n",
    "                \"6-15\",\n",
    "                \"6-6\",\n",
    "                \"7-10\",\n",
    "                \"7-11\",\n",
    "                \"7-12\",\n",
    "                \"7-13\",\n",
    "                \"7-14\",\n",
    "                \"7-7\",\n",
    "                \"7-8\",\n",
    "                \"7-9\",\n",
    "                \"8-1\",\n",
    "                \"8-13\",\n",
    "                \"8-14\",\n",
    "                \"8-18\",\n",
    "                \"8-20\",\n",
    "                \"8-3\",\n",
    "                \"8-8\",\n",
    "                \"9-1\",\n",
    "                \"9-7\",\n",
    "            ],\n",
    "            \"domains\": [1, 2, 3, 4],\n",
    "            \"num_examples_per_domain_per_label\": -1,\n",
    "            \"pickle_path\": \"/mnt/wd500GB/CSC500/csc500-main/datasets/wisig.node3-19.stratified_ds.2022A.pkl\",\n",
    "            \"source_or_target_dataset\": \"target\",\n",
    "            \"x_transforms\": [\"unit_mag\"],\n",
    "            \"episode_transforms\": [],\n",
    "            \"domain_prefix\": \"W_\",\n",
    "        },\n",
    "        {\n",
    "            \"labels\": [\n",
    "                \"3123D52\",\n",
    "                \"3123D65\",\n",
    "                \"3123D79\",\n",
    "                \"3123D80\",\n",
    "                \"3123D54\",\n",
    "                \"3123D70\",\n",
    "                \"3123D7B\",\n",
    "                \"3123D89\",\n",
    "                \"3123D58\",\n",
    "                \"3123D76\",\n",
    "                \"3123D7D\",\n",
    "                \"3123EFE\",\n",
    "                \"3123D64\",\n",
    "                \"3123D78\",\n",
    "                \"3123D7E\",\n",
    "                \"3124E4A\",\n",
    "            ],\n",
    "            \"domains\": [32, 38, 8, 44, 14, 50, 20, 26],\n",
    "            \"num_examples_per_domain_per_label\": 2000,\n",
    "            \"pickle_path\": \"/mnt/wd500GB/CSC500/csc500-main/datasets/oracle.Run1_framed_2000Examples_stratified_ds.2022A.pkl\",\n",
    "            \"source_or_target_dataset\": \"source\",\n",
    "            \"x_transforms\": [\"unit_mag\"],\n",
    "            \"episode_transforms\": [],\n",
    "            \"domain_prefix\": \"O_\",\n",
    "        },\n",
    "    ],\n",
    "    \"seed\": 500,\n",
    "    \"dataset_seed\": 500,\n",
    "}\n"
   ]
  },
  {
   "cell_type": "code",
   "execution_count": 5,
   "id": "8fa1cc33",
   "metadata": {
    "execution": {
     "iopub.execute_input": "2022-03-20T01:19:40.609356Z",
     "iopub.status.busy": "2022-03-20T01:19:40.608857Z",
     "iopub.status.idle": "2022-03-20T01:19:40.620826Z",
     "shell.execute_reply": "2022-03-20T01:19:40.620369Z"
    },
    "papermill": {
     "duration": 0.027775,
     "end_time": "2022-03-20T01:19:40.620933",
     "exception": false,
     "start_time": "2022-03-20T01:19:40.593158",
     "status": "completed"
    },
    "tags": []
   },
   "outputs": [],
   "source": [
    "# Set this to True if you want to run this template directly\n",
    "STANDALONE = False\n",
    "if STANDALONE:\n",
    "    print(\"parameters not injected, running with standalone_parameters\")\n",
    "    parameters = standalone_parameters\n",
    "\n",
    "if not 'parameters' in locals() and not 'parameters' in globals():\n",
    "    raise Exception(\"Parameter injection failed\")\n",
    "\n",
    "#Use an easy dict for all the parameters\n",
    "p = EasyDict(parameters)\n",
    "\n",
    "if \"x_shape\" not in p:\n",
    "    p.x_shape = [2,256] # Default to this if we dont supply x_shape\n",
    "\n",
    "\n",
    "supplied_keys = set(p.keys())\n",
    "\n",
    "if  supplied_keys != required_parameters:\n",
    "    print(\"Parameters are incorrect\")\n",
    "    if len(supplied_keys - required_parameters)>0: print(\"Shouldn't have:\", str(supplied_keys - required_parameters))\n",
    "    if len(required_parameters - supplied_keys)>0: print(\"Need to have:\", str(required_parameters - supplied_keys))\n",
    "    raise RuntimeError(\"Parameters are incorrect\")"
   ]
  },
  {
   "cell_type": "code",
   "execution_count": 6,
   "id": "3a028d58",
   "metadata": {
    "execution": {
     "iopub.execute_input": "2022-03-20T01:19:40.654607Z",
     "iopub.status.busy": "2022-03-20T01:19:40.654352Z",
     "iopub.status.idle": "2022-03-20T01:19:40.670613Z",
     "shell.execute_reply": "2022-03-20T01:19:40.670178Z"
    },
    "papermill": {
     "duration": 0.031406,
     "end_time": "2022-03-20T01:19:40.670722",
     "exception": false,
     "start_time": "2022-03-20T01:19:40.639316",
     "status": "completed"
    },
    "tags": []
   },
   "outputs": [],
   "source": [
    "###################################\n",
    "# Set the RNGs and make it all deterministic\n",
    "###################################\n",
    "np.random.seed(p.seed)\n",
    "random.seed(p.seed)\n",
    "torch.manual_seed(p.seed)\n",
    "\n",
    "torch.use_deterministic_algorithms(True) "
   ]
  },
  {
   "cell_type": "code",
   "execution_count": 7,
   "id": "b691acf6",
   "metadata": {
    "execution": {
     "iopub.execute_input": "2022-03-20T01:19:40.703988Z",
     "iopub.status.busy": "2022-03-20T01:19:40.703728Z",
     "iopub.status.idle": "2022-03-20T01:19:40.716182Z",
     "shell.execute_reply": "2022-03-20T01:19:40.716555Z"
    },
    "papermill": {
     "duration": 0.028151,
     "end_time": "2022-03-20T01:19:40.716672",
     "exception": false,
     "start_time": "2022-03-20T01:19:40.688521",
     "status": "completed"
    },
    "tags": []
   },
   "outputs": [],
   "source": [
    "###########################################\n",
    "# The stratified datasets honor this\n",
    "###########################################\n",
    "torch.set_default_dtype(eval(p.torch_default_dtype))"
   ]
  },
  {
   "cell_type": "code",
   "execution_count": 8,
   "id": "b5fba671",
   "metadata": {
    "execution": {
     "iopub.execute_input": "2022-03-20T01:19:40.749782Z",
     "iopub.status.busy": "2022-03-20T01:19:40.749530Z",
     "iopub.status.idle": "2022-03-20T01:19:40.790786Z",
     "shell.execute_reply": "2022-03-20T01:19:40.790537Z"
    },
    "papermill": {
     "duration": 0.056239,
     "end_time": "2022-03-20T01:19:40.790838",
     "exception": false,
     "start_time": "2022-03-20T01:19:40.734599",
     "status": "completed"
    },
    "tags": []
   },
   "outputs": [],
   "source": [
    "###################################\n",
    "# Build the network(s)\n",
    "# Note: It's critical to do this AFTER setting the RNG\n",
    "###################################\n",
    "x_net = build_sequential(p.x_net)"
   ]
  },
  {
   "cell_type": "code",
   "execution_count": 9,
   "id": "5d7e61cc",
   "metadata": {
    "execution": {
     "iopub.execute_input": "2022-03-20T01:19:40.819632Z",
     "iopub.status.busy": "2022-03-20T01:19:40.819381Z",
     "iopub.status.idle": "2022-03-20T01:19:40.830990Z",
     "shell.execute_reply": "2022-03-20T01:19:40.830771Z"
    },
    "papermill": {
     "duration": 0.026593,
     "end_time": "2022-03-20T01:19:40.831041",
     "exception": false,
     "start_time": "2022-03-20T01:19:40.804448",
     "status": "completed"
    },
    "tags": []
   },
   "outputs": [],
   "source": [
    "start_time_secs = time.time()"
   ]
  },
  {
   "cell_type": "code",
   "execution_count": 10,
   "id": "c6b67dfd",
   "metadata": {
    "execution": {
     "iopub.execute_input": "2022-03-20T01:19:40.860408Z",
     "iopub.status.busy": "2022-03-20T01:19:40.860143Z",
     "iopub.status.idle": "2022-03-20T01:19:40.874241Z",
     "shell.execute_reply": "2022-03-20T01:19:40.873860Z"
    },
    "papermill": {
     "duration": 0.030133,
     "end_time": "2022-03-20T01:19:40.874331",
     "exception": false,
     "start_time": "2022-03-20T01:19:40.844198",
     "status": "completed"
    },
    "tags": []
   },
   "outputs": [],
   "source": [
    "p.domains_source = []\n",
    "p.domains_target = []\n",
    "\n",
    "\n",
    "train_original_source = []\n",
    "val_original_source   = []\n",
    "test_original_source  = []\n",
    "\n",
    "train_original_target = []\n",
    "val_original_target   = []\n",
    "test_original_target  = []"
   ]
  },
  {
   "cell_type": "code",
   "execution_count": 11,
   "id": "e3d9c3d3",
   "metadata": {
    "execution": {
     "iopub.execute_input": "2022-03-20T01:19:40.908204Z",
     "iopub.status.busy": "2022-03-20T01:19:40.907949Z",
     "iopub.status.idle": "2022-03-20T01:19:40.923895Z",
     "shell.execute_reply": "2022-03-20T01:19:40.923508Z"
    },
    "papermill": {
     "duration": 0.032012,
     "end_time": "2022-03-20T01:19:40.923987",
     "exception": false,
     "start_time": "2022-03-20T01:19:40.891975",
     "status": "completed"
    },
    "tags": []
   },
   "outputs": [],
   "source": [
    "# global_x_transform_func = lambda x: normalize(x.to(torch.get_default_dtype()), \"unit_power\") # unit_power, unit_mag\n",
    "# global_x_transform_func = lambda x: normalize(x, \"unit_power\") # unit_power, unit_mag"
   ]
  },
  {
   "cell_type": "code",
   "execution_count": 12,
   "id": "acb78fd2",
   "metadata": {
    "execution": {
     "iopub.execute_input": "2022-03-20T01:19:40.962086Z",
     "iopub.status.busy": "2022-03-20T01:19:40.961718Z",
     "iopub.status.idle": "2022-03-20T01:19:40.974220Z",
     "shell.execute_reply": "2022-03-20T01:19:40.973841Z"
    },
    "papermill": {
     "duration": 0.033181,
     "end_time": "2022-03-20T01:19:40.974309",
     "exception": false,
     "start_time": "2022-03-20T01:19:40.941128",
     "status": "completed"
    },
    "tags": []
   },
   "outputs": [],
   "source": [
    "def add_dataset(\n",
    "    labels,\n",
    "    domains,\n",
    "    pickle_path,\n",
    "    x_transforms,\n",
    "    episode_transforms,\n",
    "    domain_prefix,\n",
    "    num_examples_per_domain_per_label,\n",
    "    source_or_target_dataset:str,\n",
    "    iterator_seed=p.seed,\n",
    "    dataset_seed=p.dataset_seed,\n",
    "    n_shot=p.n_shot,\n",
    "    n_way=p.n_way,\n",
    "    n_query=p.n_query,\n",
    "    train_val_test_k_factors=(p.train_k_factor,p.val_k_factor,p.test_k_factor),\n",
    "):\n",
    "   \n",
    "    if x_transforms == []: x_transform = None\n",
    "    else: x_transform = get_chained_transform(x_transforms)\n",
    "    \n",
    "    if episode_transforms == []: episode_transform = None\n",
    "    else: raise Exception(\"episode_transforms not implemented\")\n",
    "    \n",
    "    episode_transform = lambda tup, _prefix=domain_prefix: (_prefix + str(tup[0]), tup[1])\n",
    "\n",
    "\n",
    "    eaf = Episodic_Accessor_Factory(\n",
    "        labels=labels,\n",
    "        domains=domains,\n",
    "        num_examples_per_domain_per_label=num_examples_per_domain_per_label,\n",
    "        iterator_seed=iterator_seed,\n",
    "        dataset_seed=dataset_seed,\n",
    "        n_shot=n_shot,\n",
    "        n_way=n_way,\n",
    "        n_query=n_query,\n",
    "        train_val_test_k_factors=train_val_test_k_factors,\n",
    "        pickle_path=pickle_path,\n",
    "        x_transform_func=x_transform,\n",
    "    )\n",
    "\n",
    "    train, val, test = eaf.get_train(), eaf.get_val(), eaf.get_test()\n",
    "    train = Lazy_Iterable_Wrapper(train, episode_transform)\n",
    "    val = Lazy_Iterable_Wrapper(val, episode_transform)\n",
    "    test = Lazy_Iterable_Wrapper(test, episode_transform)\n",
    "\n",
    "    if source_or_target_dataset==\"source\":\n",
    "        train_original_source.append(train)\n",
    "        val_original_source.append(val)\n",
    "        test_original_source.append(test)\n",
    "\n",
    "        p.domains_source.extend(\n",
    "            [domain_prefix + str(u) for u in domains]\n",
    "        )\n",
    "    elif source_or_target_dataset==\"target\":\n",
    "        train_original_target.append(train)\n",
    "        val_original_target.append(val)\n",
    "        test_original_target.append(test)\n",
    "        p.domains_target.extend(\n",
    "            [domain_prefix + str(u) for u in domains]\n",
    "        )\n",
    "    else:\n",
    "        raise Exception(f\"invalid source_or_target_dataset: {source_or_target_dataset}\")\n",
    "    "
   ]
  },
  {
   "cell_type": "code",
   "execution_count": 13,
   "id": "fe266617",
   "metadata": {
    "execution": {
     "iopub.execute_input": "2022-03-20T01:19:41.006340Z",
     "iopub.status.busy": "2022-03-20T01:19:41.006082Z",
     "iopub.status.idle": "2022-03-20T01:20:29.042759Z",
     "shell.execute_reply": "2022-03-20T01:20:29.042309Z"
    },
    "papermill": {
     "duration": 48.051806,
     "end_time": "2022-03-20T01:20:29.042868",
     "exception": false,
     "start_time": "2022-03-20T01:19:40.991062",
     "status": "completed"
    },
    "tags": []
   },
   "outputs": [],
   "source": [
    "for ds in p.datasets:\n",
    "    add_dataset(**ds)"
   ]
  },
  {
   "cell_type": "code",
   "execution_count": 14,
   "id": "b90d65ac",
   "metadata": {
    "execution": {
     "iopub.execute_input": "2022-03-20T01:20:29.080024Z",
     "iopub.status.busy": "2022-03-20T01:20:29.078079Z",
     "iopub.status.idle": "2022-03-20T01:20:29.091972Z",
     "shell.execute_reply": "2022-03-20T01:20:29.091500Z"
    },
    "papermill": {
     "duration": 0.030697,
     "end_time": "2022-03-20T01:20:29.092073",
     "exception": false,
     "start_time": "2022-03-20T01:20:29.061376",
     "status": "completed"
    },
    "tags": []
   },
   "outputs": [],
   "source": [
    "# from steves_utils.CORES.utils import (\n",
    "#     ALL_NODES,\n",
    "#     ALL_NODES_MINIMUM_1000_EXAMPLES,\n",
    "#     ALL_DAYS\n",
    "# )\n",
    "\n",
    "# add_dataset(\n",
    "#     labels=ALL_NODES,\n",
    "#     domains = ALL_DAYS,\n",
    "#     num_examples_per_domain_per_label=100,\n",
    "#     pickle_path=os.path.join(get_datasets_base_path(), \"cores.stratified_ds.2022A.pkl\"),\n",
    "#     source_or_target_dataset=\"target\",\n",
    "#     x_transform_func=global_x_transform_func,\n",
    "#     domain_modifier=lambda u: f\"cores_{u}\"\n",
    "# )"
   ]
  },
  {
   "cell_type": "code",
   "execution_count": 15,
   "id": "76db484d",
   "metadata": {
    "execution": {
     "iopub.execute_input": "2022-03-20T01:20:29.124825Z",
     "iopub.status.busy": "2022-03-20T01:20:29.124573Z",
     "iopub.status.idle": "2022-03-20T01:20:29.136243Z",
     "shell.execute_reply": "2022-03-20T01:20:29.135819Z"
    },
    "papermill": {
     "duration": 0.027063,
     "end_time": "2022-03-20T01:20:29.136345",
     "exception": false,
     "start_time": "2022-03-20T01:20:29.109282",
     "status": "completed"
    },
    "tags": []
   },
   "outputs": [],
   "source": [
    "# from steves_utils.ORACLE.utils_v2 import (\n",
    "#     ALL_DISTANCES_FEET,\n",
    "#     ALL_RUNS,\n",
    "#     ALL_SERIAL_NUMBERS,\n",
    "# )\n",
    "\n",
    "\n",
    "# add_dataset(\n",
    "#     labels=ALL_SERIAL_NUMBERS,\n",
    "#     domains = list(set(ALL_DISTANCES_FEET) - {2,62}),\n",
    "#     num_examples_per_domain_per_label=100,\n",
    "#     pickle_path=os.path.join(get_datasets_base_path(), \"oracle.Run2_framed_2000Examples_stratified_ds.2022A.pkl\"),\n",
    "#     source_or_target_dataset=\"source\",\n",
    "#     x_transform_func=global_x_transform_func,\n",
    "#     domain_modifier=lambda u: f\"oracle1_{u}\"\n",
    "# )\n"
   ]
  },
  {
   "cell_type": "code",
   "execution_count": 16,
   "id": "97dea9d2",
   "metadata": {
    "execution": {
     "iopub.execute_input": "2022-03-20T01:20:29.175242Z",
     "iopub.status.busy": "2022-03-20T01:20:29.174970Z",
     "iopub.status.idle": "2022-03-20T01:20:29.185514Z",
     "shell.execute_reply": "2022-03-20T01:20:29.185040Z"
    },
    "papermill": {
     "duration": 0.030397,
     "end_time": "2022-03-20T01:20:29.185615",
     "exception": false,
     "start_time": "2022-03-20T01:20:29.155218",
     "status": "completed"
    },
    "tags": []
   },
   "outputs": [],
   "source": [
    "# from steves_utils.ORACLE.utils_v2 import (\n",
    "#     ALL_DISTANCES_FEET,\n",
    "#     ALL_RUNS,\n",
    "#     ALL_SERIAL_NUMBERS,\n",
    "# )\n",
    "\n",
    "\n",
    "# add_dataset(\n",
    "#     labels=ALL_SERIAL_NUMBERS,\n",
    "#     domains = list(set(ALL_DISTANCES_FEET) - {2,62,56}),\n",
    "#     num_examples_per_domain_per_label=100,\n",
    "#     pickle_path=os.path.join(get_datasets_base_path(), \"oracle.Run2_framed_2000Examples_stratified_ds.2022A.pkl\"),\n",
    "#     source_or_target_dataset=\"source\",\n",
    "#     x_transform_func=global_x_transform_func,\n",
    "#     domain_modifier=lambda u: f\"oracle2_{u}\"\n",
    "# )"
   ]
  },
  {
   "cell_type": "code",
   "execution_count": 17,
   "id": "6f289866",
   "metadata": {
    "execution": {
     "iopub.execute_input": "2022-03-20T01:20:29.221436Z",
     "iopub.status.busy": "2022-03-20T01:20:29.220415Z",
     "iopub.status.idle": "2022-03-20T01:20:29.235459Z",
     "shell.execute_reply": "2022-03-20T01:20:29.234830Z"
    },
    "papermill": {
     "duration": 0.031191,
     "end_time": "2022-03-20T01:20:29.235622",
     "exception": false,
     "start_time": "2022-03-20T01:20:29.204431",
     "status": "completed"
    },
    "tags": []
   },
   "outputs": [],
   "source": [
    "# add_dataset(\n",
    "#     labels=list(range(19)),\n",
    "#     domains = [0,1,2],\n",
    "#     num_examples_per_domain_per_label=100,\n",
    "#     pickle_path=os.path.join(get_datasets_base_path(), \"metehan.stratified_ds.2022A.pkl\"),\n",
    "#     source_or_target_dataset=\"target\",\n",
    "#     x_transform_func=global_x_transform_func,\n",
    "#     domain_modifier=lambda u: f\"met_{u}\"\n",
    "# )"
   ]
  },
  {
   "cell_type": "code",
   "execution_count": 18,
   "id": "86a863c3",
   "metadata": {
    "execution": {
     "iopub.execute_input": "2022-03-20T01:20:29.271961Z",
     "iopub.status.busy": "2022-03-20T01:20:29.270893Z",
     "iopub.status.idle": "2022-03-20T01:20:29.286799Z",
     "shell.execute_reply": "2022-03-20T01:20:29.286433Z"
    },
    "papermill": {
     "duration": 0.031637,
     "end_time": "2022-03-20T01:20:29.286879",
     "exception": false,
     "start_time": "2022-03-20T01:20:29.255242",
     "status": "completed"
    },
    "tags": []
   },
   "outputs": [],
   "source": [
    "# # from steves_utils.wisig.utils import (\n",
    "# #     ALL_NODES_MINIMUM_100_EXAMPLES,\n",
    "# #     ALL_NODES_MINIMUM_500_EXAMPLES,\n",
    "# #     ALL_NODES_MINIMUM_1000_EXAMPLES,\n",
    "# #     ALL_DAYS\n",
    "# # )\n",
    "\n",
    "# import steves_utils.wisig.utils as wisig\n",
    "\n",
    "\n",
    "# add_dataset(\n",
    "#     labels=wisig.ALL_NODES_MINIMUM_100_EXAMPLES,\n",
    "#     domains = wisig.ALL_DAYS,\n",
    "#     num_examples_per_domain_per_label=100,\n",
    "#     pickle_path=os.path.join(get_datasets_base_path(), \"wisig.node3-19.stratified_ds.2022A.pkl\"),\n",
    "#     source_or_target_dataset=\"target\",\n",
    "#     x_transform_func=global_x_transform_func,\n",
    "#     domain_modifier=lambda u: f\"wisig_{u}\"\n",
    "# )"
   ]
  },
  {
   "cell_type": "code",
   "execution_count": 19,
   "id": "fd5442bc",
   "metadata": {
    "execution": {
     "iopub.execute_input": "2022-03-20T01:20:29.323774Z",
     "iopub.status.busy": "2022-03-20T01:20:29.323513Z",
     "iopub.status.idle": "2022-03-20T01:20:29.338011Z",
     "shell.execute_reply": "2022-03-20T01:20:29.337591Z"
    },
    "papermill": {
     "duration": 0.032933,
     "end_time": "2022-03-20T01:20:29.338116",
     "exception": false,
     "start_time": "2022-03-20T01:20:29.305183",
     "status": "completed"
    },
    "tags": []
   },
   "outputs": [],
   "source": [
    "###################################\n",
    "# Build the dataset\n",
    "###################################\n",
    "train_original_source = Iterable_Aggregator(train_original_source, p.seed)\n",
    "val_original_source = Iterable_Aggregator(val_original_source, p.seed)\n",
    "test_original_source = Iterable_Aggregator(test_original_source, p.seed)\n",
    "\n",
    "\n",
    "train_original_target = Iterable_Aggregator(train_original_target, p.seed)\n",
    "val_original_target = Iterable_Aggregator(val_original_target, p.seed)\n",
    "test_original_target = Iterable_Aggregator(test_original_target, p.seed)\n",
    "\n",
    "# For CNN We only use X and Y. And we only train on the source.\n",
    "# Properly form the data using a transform lambda and Lazy_Iterable_Wrapper. Finally wrap them in a dataloader\n",
    "\n",
    "transform_lambda = lambda ex: ex[1] # Original is (<domain>, <episode>) so we strip down to episode only\n",
    "\n",
    "train_processed_source = Lazy_Iterable_Wrapper(train_original_source, transform_lambda)\n",
    "val_processed_source   = Lazy_Iterable_Wrapper(val_original_source, transform_lambda)\n",
    "test_processed_source  = Lazy_Iterable_Wrapper(test_original_source, transform_lambda)\n",
    "\n",
    "train_processed_target = Lazy_Iterable_Wrapper(train_original_target, transform_lambda)\n",
    "val_processed_target   = Lazy_Iterable_Wrapper(val_original_target, transform_lambda)\n",
    "test_processed_target  = Lazy_Iterable_Wrapper(test_original_target, transform_lambda)\n",
    "\n",
    "datasets = EasyDict({\n",
    "    \"source\": {\n",
    "        \"original\": {\"train\":train_original_source, \"val\":val_original_source, \"test\":test_original_source},\n",
    "        \"processed\": {\"train\":train_processed_source, \"val\":val_processed_source, \"test\":test_processed_source}\n",
    "    },\n",
    "    \"target\": {\n",
    "        \"original\": {\"train\":train_original_target, \"val\":val_original_target, \"test\":test_original_target},\n",
    "        \"processed\": {\"train\":train_processed_target, \"val\":val_processed_target, \"test\":test_processed_target}\n",
    "    },\n",
    "})"
   ]
  },
  {
   "cell_type": "code",
   "execution_count": 20,
   "id": "5b3c01fc",
   "metadata": {
    "execution": {
     "iopub.execute_input": "2022-03-20T01:20:29.374731Z",
     "iopub.status.busy": "2022-03-20T01:20:29.374048Z",
     "iopub.status.idle": "2022-03-20T01:20:38.570575Z",
     "shell.execute_reply": "2022-03-20T01:20:38.570989Z"
    },
    "papermill": {
     "duration": 9.214262,
     "end_time": "2022-03-20T01:20:38.571111",
     "exception": false,
     "start_time": "2022-03-20T01:20:29.356849",
     "status": "completed"
    },
    "tags": []
   },
   "outputs": [
    {
     "name": "stdout",
     "output_type": "stream",
     "text": [
      "{'O_44', 'O_38', 'O_8', 'O_50', 'O_26', 'O_20', 'O_14', 'O_32'}\n"
     ]
    },
    {
     "name": "stdout",
     "output_type": "stream",
     "text": [
      "{'C_2', 'W_1', 'W_3', 'C_5', 'C_1', 'W_4', 'C_4', 'C_3', 'W_2'}\n"
     ]
    },
    {
     "name": "stdout",
     "output_type": "stream",
     "text": [
      "tensor([[[ 0.5430,  0.9459, -0.9634,  ..., -0.7357,  0.5080, -0.8058],\n",
      "         [-0.4204,  0.3854,  0.1226,  ..., -0.4204, -1.1386, -0.9284]],\n",
      "\n",
      "        [[ 0.1073,  1.2338, -0.4828,  ..., -0.9477,  0.3576, -0.9835],\n",
      "         [-0.6795,  0.0894,  0.5901,  ..., -0.1073, -1.0729, -0.6080]],\n",
      "\n",
      "        [[-1.0279,  0.4508,  1.4246,  ..., -0.5049,  0.1984,  1.2623],\n",
      "         [-0.3066, -0.2525,  0.0361,  ...,  1.1722,  1.0459,  0.1803]],\n",
      "\n",
      "        ...,\n",
      "\n",
      "        [[-0.3467,  0.2836,  0.3782,  ..., -0.4412, -1.4339, -1.0242],\n",
      "         [-0.2836, -1.1345,  0.5988,  ...,  0.9770, -0.5673,  0.3624]],\n",
      "\n",
      "        [[ 0.5706, -0.4935, -0.6014,  ...,  0.2776,  1.3416,  0.6477],\n",
      "         [ 0.9098,  0.9252, -1.0486,  ..., -0.7710,  0.4163, -0.9561]],\n",
      "\n",
      "        [[ 0.4556, -0.7542, -0.5656,  ...,  0.8956,  1.0841,  0.3928],\n",
      "         [ 1.0684,  0.8013, -1.1627,  ..., -0.4871,  0.4714, -1.2098]]])\n"
     ]
    }
   ],
   "source": [
    "from steves_utils.transforms import get_average_magnitude, get_average_power\n",
    "\n",
    "print(set([u for u,_ in val_original_source]))\n",
    "print(set([u for u,_ in val_original_target]))\n",
    "\n",
    "s_x, s_y, q_x, q_y, _ = next(iter(train_processed_source))\n",
    "print(s_x)\n",
    "\n",
    "# for ds in [\n",
    "#     train_processed_source,\n",
    "#     val_processed_source,\n",
    "#     test_processed_source,\n",
    "#     train_processed_target,\n",
    "#     val_processed_target,\n",
    "#     test_processed_target\n",
    "# ]:\n",
    "#     for s_x, s_y, q_x, q_y, _ in ds:\n",
    "#         for X in (s_x, q_x):\n",
    "#             for x in X:\n",
    "#                 assert np.isclose(get_average_magnitude(x.numpy()), 1.0)\n",
    "#                 assert np.isclose(get_average_power(x.numpy()), 1.0)\n",
    "                "
   ]
  },
  {
   "cell_type": "code",
   "execution_count": 21,
   "id": "bbdacba1",
   "metadata": {
    "execution": {
     "iopub.execute_input": "2022-03-20T01:20:38.610945Z",
     "iopub.status.busy": "2022-03-20T01:20:38.610652Z",
     "iopub.status.idle": "2022-03-20T01:20:38.672752Z",
     "shell.execute_reply": "2022-03-20T01:20:38.673139Z"
    },
    "papermill": {
     "duration": 0.081948,
     "end_time": "2022-03-20T01:20:38.673275",
     "exception": false,
     "start_time": "2022-03-20T01:20:38.591327",
     "status": "completed"
    },
    "tags": []
   },
   "outputs": [
    {
     "name": "stdout",
     "output_type": "stream",
     "text": [
      "(2, 256)\n"
     ]
    }
   ],
   "source": [
    "###################################\n",
    "# Build the model\n",
    "###################################\n",
    "# easfsl only wants a tuple for the shape\n",
    "model = Steves_Prototypical_Network(x_net, device=p.device, x_shape=tuple(p.x_shape))\n",
    "optimizer = Adam(params=model.parameters(), lr=p.lr)"
   ]
  },
  {
   "cell_type": "code",
   "execution_count": 22,
   "id": "22b39ac5",
   "metadata": {
    "execution": {
     "iopub.execute_input": "2022-03-20T01:20:38.710054Z",
     "iopub.status.busy": "2022-03-20T01:20:38.709751Z",
     "iopub.status.idle": "2022-03-20T01:39:51.041282Z",
     "shell.execute_reply": "2022-03-20T01:39:51.041040Z"
    },
    "papermill": {
     "duration": 1152.349916,
     "end_time": "2022-03-20T01:39:51.041346",
     "exception": false,
     "start_time": "2022-03-20T01:20:38.691430",
     "status": "completed"
    },
    "tags": []
   },
   "outputs": [
    {
     "name": "stdout",
     "output_type": "stream",
     "text": [
      "epoch: 1, [batch: 1 / 6720], examples_per_second: 45.0335, train_label_loss: 2.8740, \n"
     ]
    },
    {
     "name": "stdout",
     "output_type": "stream",
     "text": [
      "epoch: 1, [batch: 672 / 6720], examples_per_second: 3147.5621, train_label_loss: 1.7951, \n"
     ]
    },
    {
     "name": "stdout",
     "output_type": "stream",
     "text": [
      "epoch: 1, [batch: 1344 / 6720], examples_per_second: 3183.7158, train_label_loss: 0.6908, \n"
     ]
    },
    {
     "name": "stdout",
     "output_type": "stream",
     "text": [
      "epoch: 1, [batch: 2016 / 6720], examples_per_second: 3182.3145, train_label_loss: 0.7324, \n"
     ]
    },
    {
     "name": "stdout",
     "output_type": "stream",
     "text": [
      "epoch: 1, [batch: 2688 / 6720], examples_per_second: 3164.4170, train_label_loss: 0.6017, \n"
     ]
    },
    {
     "name": "stdout",
     "output_type": "stream",
     "text": [
      "epoch: 1, [batch: 3360 / 6720], examples_per_second: 3184.3816, train_label_loss: 0.5420, \n"
     ]
    },
    {
     "name": "stdout",
     "output_type": "stream",
     "text": [
      "epoch: 1, [batch: 4032 / 6720], examples_per_second: 3183.0357, train_label_loss: 0.5821, \n"
     ]
    },
    {
     "name": "stdout",
     "output_type": "stream",
     "text": [
      "epoch: 1, [batch: 4704 / 6720], examples_per_second: 3185.2696, train_label_loss: 0.3913, \n"
     ]
    },
    {
     "name": "stdout",
     "output_type": "stream",
     "text": [
      "epoch: 1, [batch: 5376 / 6720], examples_per_second: 3168.2051, train_label_loss: 0.5923, \n"
     ]
    },
    {
     "name": "stdout",
     "output_type": "stream",
     "text": [
      "epoch: 1, [batch: 6048 / 6720], examples_per_second: 3196.1242, train_label_loss: 0.6072, \n"
     ]
    },
    {
     "name": "stdout",
     "output_type": "stream",
     "text": [
      "=============================================================\n",
      "epoch: 1, source_val_acc_label: 0.7419, target_val_acc_label: 0.6207, source_val_label_loss: 0.8518, target_val_label_loss: 7.3209, \n",
      "=============================================================\n"
     ]
    },
    {
     "name": "stdout",
     "output_type": "stream",
     "text": [
      "New best\n"
     ]
    },
    {
     "name": "stdout",
     "output_type": "stream",
     "text": [
      "epoch: 2, [batch: 1 / 6720], examples_per_second: 4.0019, train_label_loss: 0.8967, \n"
     ]
    },
    {
     "name": "stdout",
     "output_type": "stream",
     "text": [
      "epoch: 2, [batch: 672 / 6720], examples_per_second: 3190.4568, train_label_loss: 0.8656, \n"
     ]
    },
    {
     "name": "stdout",
     "output_type": "stream",
     "text": [
      "epoch: 2, [batch: 1344 / 6720], examples_per_second: 3184.6024, train_label_loss: 0.3983, \n"
     ]
    },
    {
     "name": "stdout",
     "output_type": "stream",
     "text": [
      "epoch: 2, [batch: 2016 / 6720], examples_per_second: 3207.4713, train_label_loss: 0.6412, \n"
     ]
    },
    {
     "name": "stdout",
     "output_type": "stream",
     "text": [
      "epoch: 2, [batch: 2688 / 6720], examples_per_second: 3212.8405, train_label_loss: 0.5085, \n"
     ]
    },
    {
     "name": "stdout",
     "output_type": "stream",
     "text": [
      "epoch: 2, [batch: 3360 / 6720], examples_per_second: 3225.7801, train_label_loss: 0.3562, \n"
     ]
    },
    {
     "name": "stdout",
     "output_type": "stream",
     "text": [
      "epoch: 2, [batch: 4032 / 6720], examples_per_second: 3233.2938, train_label_loss: 0.5831, \n"
     ]
    },
    {
     "name": "stdout",
     "output_type": "stream",
     "text": [
      "epoch: 2, [batch: 4704 / 6720], examples_per_second: 3212.8327, train_label_loss: 0.3879, \n"
     ]
    },
    {
     "name": "stdout",
     "output_type": "stream",
     "text": [
      "epoch: 2, [batch: 5376 / 6720], examples_per_second: 3210.6310, train_label_loss: 0.8929, \n"
     ]
    },
    {
     "name": "stdout",
     "output_type": "stream",
     "text": [
      "epoch: 2, [batch: 6048 / 6720], examples_per_second: 3227.0380, train_label_loss: 0.1769, \n"
     ]
    },
    {
     "name": "stdout",
     "output_type": "stream",
     "text": [
      "=============================================================\n",
      "epoch: 2, source_val_acc_label: 0.8480, target_val_acc_label: 0.7289, source_val_label_loss: 0.4233, target_val_label_loss: 6.5040, \n",
      "=============================================================\n"
     ]
    },
    {
     "name": "stdout",
     "output_type": "stream",
     "text": [
      "New best\n"
     ]
    },
    {
     "name": "stdout",
     "output_type": "stream",
     "text": [
      "epoch: 3, [batch: 1 / 6720], examples_per_second: 3.9843, train_label_loss: 0.7099, \n"
     ]
    },
    {
     "name": "stdout",
     "output_type": "stream",
     "text": [
      "epoch: 3, [batch: 672 / 6720], examples_per_second: 3183.2488, train_label_loss: 0.3645, \n"
     ]
    },
    {
     "name": "stdout",
     "output_type": "stream",
     "text": [
      "epoch: 3, [batch: 1344 / 6720], examples_per_second: 3212.2864, train_label_loss: 0.1630, \n"
     ]
    },
    {
     "name": "stdout",
     "output_type": "stream",
     "text": [
      "epoch: 3, [batch: 2016 / 6720], examples_per_second: 3210.4382, train_label_loss: 0.2175, \n"
     ]
    },
    {
     "name": "stdout",
     "output_type": "stream",
     "text": [
      "epoch: 3, [batch: 2688 / 6720], examples_per_second: 3213.2923, train_label_loss: 0.5212, \n"
     ]
    },
    {
     "name": "stdout",
     "output_type": "stream",
     "text": [
      "epoch: 3, [batch: 3360 / 6720], examples_per_second: 3211.3025, train_label_loss: 0.3065, \n"
     ]
    },
    {
     "name": "stdout",
     "output_type": "stream",
     "text": [
      "epoch: 3, [batch: 4032 / 6720], examples_per_second: 3101.1502, train_label_loss: 0.3703, \n"
     ]
    },
    {
     "name": "stdout",
     "output_type": "stream",
     "text": [
      "epoch: 3, [batch: 4704 / 6720], examples_per_second: 3193.0047, train_label_loss: 0.4806, \n"
     ]
    },
    {
     "name": "stdout",
     "output_type": "stream",
     "text": [
      "epoch: 3, [batch: 5376 / 6720], examples_per_second: 3193.9808, train_label_loss: 0.4423, \n"
     ]
    },
    {
     "name": "stdout",
     "output_type": "stream",
     "text": [
      "epoch: 3, [batch: 6048 / 6720], examples_per_second: 3111.4828, train_label_loss: 0.5119, \n"
     ]
    },
    {
     "name": "stdout",
     "output_type": "stream",
     "text": [
      "=============================================================\n",
      "epoch: 3, source_val_acc_label: 0.8709, target_val_acc_label: 0.7193, source_val_label_loss: 0.3582, target_val_label_loss: 7.8313, \n",
      "=============================================================\n"
     ]
    },
    {
     "name": "stdout",
     "output_type": "stream",
     "text": [
      "epoch: 4, [batch: 1 / 6720], examples_per_second: 3.9196, train_label_loss: 0.2985, \n"
     ]
    },
    {
     "name": "stdout",
     "output_type": "stream",
     "text": [
      "epoch: 4, [batch: 672 / 6720], examples_per_second: 3182.5250, train_label_loss: 0.2641, \n"
     ]
    },
    {
     "name": "stdout",
     "output_type": "stream",
     "text": [
      "epoch: 4, [batch: 1344 / 6720], examples_per_second: 3183.6788, train_label_loss: 0.3954, \n"
     ]
    },
    {
     "name": "stdout",
     "output_type": "stream",
     "text": [
      "epoch: 4, [batch: 2016 / 6720], examples_per_second: 3206.0411, train_label_loss: 0.1579, \n"
     ]
    },
    {
     "name": "stdout",
     "output_type": "stream",
     "text": [
      "epoch: 4, [batch: 2688 / 6720], examples_per_second: 3208.0915, train_label_loss: 0.2627, \n"
     ]
    },
    {
     "name": "stdout",
     "output_type": "stream",
     "text": [
      "epoch: 4, [batch: 3360 / 6720], examples_per_second: 3216.1822, train_label_loss: 0.4779, \n"
     ]
    },
    {
     "name": "stdout",
     "output_type": "stream",
     "text": [
      "epoch: 4, [batch: 4032 / 6720], examples_per_second: 3208.4094, train_label_loss: 0.2467, \n"
     ]
    },
    {
     "name": "stdout",
     "output_type": "stream",
     "text": [
      "epoch: 4, [batch: 4704 / 6720], examples_per_second: 3172.2580, train_label_loss: 0.7311, \n"
     ]
    },
    {
     "name": "stdout",
     "output_type": "stream",
     "text": [
      "epoch: 4, [batch: 5376 / 6720], examples_per_second: 3216.2902, train_label_loss: 0.4791, \n"
     ]
    },
    {
     "name": "stdout",
     "output_type": "stream",
     "text": [
      "epoch: 4, [batch: 6048 / 6720], examples_per_second: 3196.4360, train_label_loss: 0.3157, \n"
     ]
    },
    {
     "name": "stdout",
     "output_type": "stream",
     "text": [
      "=============================================================\n",
      "epoch: 4, source_val_acc_label: 0.8930, target_val_acc_label: 0.7148, source_val_label_loss: 0.2987, target_val_label_loss: 8.2708, \n",
      "=============================================================\n"
     ]
    },
    {
     "name": "stdout",
     "output_type": "stream",
     "text": [
      "epoch: 5, [batch: 1 / 6720], examples_per_second: 3.9914, train_label_loss: 0.3549, \n"
     ]
    },
    {
     "name": "stdout",
     "output_type": "stream",
     "text": [
      "epoch: 5, [batch: 672 / 6720], examples_per_second: 3193.9599, train_label_loss: 0.3145, \n"
     ]
    },
    {
     "name": "stdout",
     "output_type": "stream",
     "text": [
      "epoch: 5, [batch: 1344 / 6720], examples_per_second: 3200.1056, train_label_loss: 0.2398, \n"
     ]
    },
    {
     "name": "stdout",
     "output_type": "stream",
     "text": [
      "epoch: 5, [batch: 2016 / 6720], examples_per_second: 3207.2830, train_label_loss: 0.0625, \n"
     ]
    },
    {
     "name": "stdout",
     "output_type": "stream",
     "text": [
      "epoch: 5, [batch: 2688 / 6720], examples_per_second: 3178.3015, train_label_loss: 0.3341, \n"
     ]
    },
    {
     "name": "stdout",
     "output_type": "stream",
     "text": [
      "epoch: 5, [batch: 3360 / 6720], examples_per_second: 3190.8652, train_label_loss: 0.1504, \n"
     ]
    },
    {
     "name": "stdout",
     "output_type": "stream",
     "text": [
      "epoch: 5, [batch: 4032 / 6720], examples_per_second: 3135.7832, train_label_loss: 0.1551, \n"
     ]
    },
    {
     "name": "stdout",
     "output_type": "stream",
     "text": [
      "epoch: 5, [batch: 4704 / 6720], examples_per_second: 3193.0781, train_label_loss: 0.1080, \n"
     ]
    },
    {
     "name": "stdout",
     "output_type": "stream",
     "text": [
      "epoch: 5, [batch: 5376 / 6720], examples_per_second: 3179.1208, train_label_loss: 0.0813, \n"
     ]
    },
    {
     "name": "stdout",
     "output_type": "stream",
     "text": [
      "epoch: 5, [batch: 6048 / 6720], examples_per_second: 3151.9182, train_label_loss: 0.3109, \n"
     ]
    },
    {
     "name": "stdout",
     "output_type": "stream",
     "text": [
      "=============================================================\n",
      "epoch: 5, source_val_acc_label: 0.8934, target_val_acc_label: 0.7189, source_val_label_loss: 0.2971, target_val_label_loss: 7.7232, \n",
      "=============================================================\n"
     ]
    },
    {
     "name": "stdout",
     "output_type": "stream",
     "text": [
      "epoch: 6, [batch: 1 / 6720], examples_per_second: 3.9285, train_label_loss: 0.4761, \n"
     ]
    },
    {
     "name": "stdout",
     "output_type": "stream",
     "text": [
      "epoch: 6, [batch: 672 / 6720], examples_per_second: 3164.7802, train_label_loss: 0.3062, \n"
     ]
    },
    {
     "name": "stdout",
     "output_type": "stream",
     "text": [
      "epoch: 6, [batch: 1344 / 6720], examples_per_second: 3203.9263, train_label_loss: 0.2239, \n"
     ]
    },
    {
     "name": "stdout",
     "output_type": "stream",
     "text": [
      "epoch: 6, [batch: 2016 / 6720], examples_per_second: 3199.7751, train_label_loss: 0.1758, \n"
     ]
    },
    {
     "name": "stdout",
     "output_type": "stream",
     "text": [
      "epoch: 6, [batch: 2688 / 6720], examples_per_second: 3185.4708, train_label_loss: 0.3075, \n"
     ]
    },
    {
     "name": "stdout",
     "output_type": "stream",
     "text": [
      "epoch: 6, [batch: 3360 / 6720], examples_per_second: 3179.3844, train_label_loss: 0.1482, \n"
     ]
    },
    {
     "name": "stdout",
     "output_type": "stream",
     "text": [
      "epoch: 6, [batch: 4032 / 6720], examples_per_second: 3227.9051, train_label_loss: 0.2890, \n"
     ]
    },
    {
     "name": "stdout",
     "output_type": "stream",
     "text": [
      "epoch: 6, [batch: 4704 / 6720], examples_per_second: 3216.8691, train_label_loss: 0.3005, \n"
     ]
    },
    {
     "name": "stdout",
     "output_type": "stream",
     "text": [
      "epoch: 6, [batch: 5376 / 6720], examples_per_second: 3204.1425, train_label_loss: 0.0154, \n"
     ]
    },
    {
     "name": "stdout",
     "output_type": "stream",
     "text": [
      "epoch: 6, [batch: 6048 / 6720], examples_per_second: 3147.7972, train_label_loss: 0.7320, \n"
     ]
    },
    {
     "name": "stdout",
     "output_type": "stream",
     "text": [
      "=============================================================\n",
      "epoch: 6, source_val_acc_label: 0.8940, target_val_acc_label: 0.7111, source_val_label_loss: 0.2990, target_val_label_loss: 8.3420, \n",
      "=============================================================\n"
     ]
    },
    {
     "name": "stdout",
     "output_type": "stream",
     "text": [
      "Patience (3) exhausted\n"
     ]
    }
   ],
   "source": [
    "###################################\n",
    "# train\n",
    "###################################\n",
    "jig = PTN_Train_Eval_Test_Jig(model, p.BEST_MODEL_PATH, p.device)\n",
    "\n",
    "jig.train(\n",
    "    train_iterable=datasets.source.processed.train,\n",
    "    source_val_iterable=datasets.source.processed.val,\n",
    "    target_val_iterable=datasets.target.processed.val,\n",
    "    num_epochs=p.n_epoch,\n",
    "    num_logs_per_epoch=p.NUM_LOGS_PER_EPOCH,\n",
    "    patience=p.patience,\n",
    "    optimizer=optimizer,\n",
    "    criteria_for_best=p.criteria_for_best,\n",
    ")"
   ]
  },
  {
   "cell_type": "code",
   "execution_count": 23,
   "id": "31e8fabf",
   "metadata": {
    "execution": {
     "iopub.execute_input": "2022-03-20T01:39:51.097636Z",
     "iopub.status.busy": "2022-03-20T01:39:51.097232Z",
     "iopub.status.idle": "2022-03-20T01:39:51.113426Z",
     "shell.execute_reply": "2022-03-20T01:39:51.113133Z"
    },
    "papermill": {
     "duration": 0.04525,
     "end_time": "2022-03-20T01:39:51.113494",
     "exception": false,
     "start_time": "2022-03-20T01:39:51.068244",
     "status": "completed"
    },
    "tags": []
   },
   "outputs": [],
   "source": [
    "total_experiment_time_secs = time.time() - start_time_secs"
   ]
  },
  {
   "cell_type": "code",
   "execution_count": 24,
   "id": "87b9595b",
   "metadata": {
    "execution": {
     "iopub.execute_input": "2022-03-20T01:39:51.172709Z",
     "iopub.status.busy": "2022-03-20T01:39:51.172271Z",
     "iopub.status.idle": "2022-03-20T01:42:22.215753Z",
     "shell.execute_reply": "2022-03-20T01:42:22.216186Z"
    },
    "papermill": {
     "duration": 151.075393,
     "end_time": "2022-03-20T01:42:22.216331",
     "exception": false,
     "start_time": "2022-03-20T01:39:51.140938",
     "status": "completed"
    },
    "tags": []
   },
   "outputs": [],
   "source": [
    "###################################\n",
    "# Evaluate the model\n",
    "###################################\n",
    "source_test_label_accuracy, source_test_label_loss = jig.test(datasets.source.processed.test)\n",
    "target_test_label_accuracy, target_test_label_loss = jig.test(datasets.target.processed.test)\n",
    "\n",
    "source_val_label_accuracy, source_val_label_loss = jig.test(datasets.source.processed.val)\n",
    "target_val_label_accuracy, target_val_label_loss = jig.test(datasets.target.processed.val)\n",
    "\n",
    "history = jig.get_history()\n",
    "\n",
    "total_epochs_trained = len(history[\"epoch_indices\"])\n",
    "\n",
    "val_dl = Iterable_Aggregator((datasets.source.original.val,datasets.target.original.val))\n",
    "\n",
    "confusion = ptn_confusion_by_domain_over_dataloader(model, p.device, val_dl)\n",
    "per_domain_accuracy = per_domain_accuracy_from_confusion(confusion)\n",
    "\n",
    "# Add a key to per_domain_accuracy for if it was a source domain\n",
    "for domain, accuracy in per_domain_accuracy.items():\n",
    "    per_domain_accuracy[domain] = {\n",
    "        \"accuracy\": accuracy,\n",
    "        \"source?\": domain in p.domains_source\n",
    "    }\n",
    "\n",
    "# Do an independent accuracy assesment JUST TO BE SURE!\n",
    "# _source_test_label_accuracy = independent_accuracy_assesment(model, datasets.source.processed.test, p.device)\n",
    "# _target_test_label_accuracy = independent_accuracy_assesment(model, datasets.target.processed.test, p.device)\n",
    "# _source_val_label_accuracy = independent_accuracy_assesment(model, datasets.source.processed.val, p.device)\n",
    "# _target_val_label_accuracy = independent_accuracy_assesment(model, datasets.target.processed.val, p.device)\n",
    "\n",
    "# assert(_source_test_label_accuracy == source_test_label_accuracy)\n",
    "# assert(_target_test_label_accuracy == target_test_label_accuracy)\n",
    "# assert(_source_val_label_accuracy == source_val_label_accuracy)\n",
    "# assert(_target_val_label_accuracy == target_val_label_accuracy)\n",
    "\n",
    "experiment = {\n",
    "    \"experiment_name\": p.experiment_name,\n",
    "    \"parameters\": dict(p),\n",
    "    \"results\": {\n",
    "        \"source_test_label_accuracy\": source_test_label_accuracy,\n",
    "        \"source_test_label_loss\": source_test_label_loss,\n",
    "        \"target_test_label_accuracy\": target_test_label_accuracy,\n",
    "        \"target_test_label_loss\": target_test_label_loss,\n",
    "        \"source_val_label_accuracy\": source_val_label_accuracy,\n",
    "        \"source_val_label_loss\": source_val_label_loss,\n",
    "        \"target_val_label_accuracy\": target_val_label_accuracy,\n",
    "        \"target_val_label_loss\": target_val_label_loss,\n",
    "        \"total_epochs_trained\": total_epochs_trained,\n",
    "        \"total_experiment_time_secs\": total_experiment_time_secs,\n",
    "        \"confusion\": confusion,\n",
    "        \"per_domain_accuracy\": per_domain_accuracy,\n",
    "    },\n",
    "    \"history\": history,\n",
    "    \"dataset_metrics\": get_dataset_metrics(datasets, \"ptn\"),\n",
    "}"
   ]
  },
  {
   "cell_type": "code",
   "execution_count": 25,
   "id": "54a21829",
   "metadata": {
    "execution": {
     "iopub.execute_input": "2022-03-20T01:42:22.277212Z",
     "iopub.status.busy": "2022-03-20T01:42:22.276809Z",
     "iopub.status.idle": "2022-03-20T01:42:22.403201Z",
     "shell.execute_reply": "2022-03-20T01:42:22.402959Z"
    },
    "papermill": {
     "duration": 0.154668,
     "end_time": "2022-03-20T01:42:22.403289",
     "exception": false,
     "start_time": "2022-03-20T01:42:22.248621",
     "status": "completed"
    },
    "tags": []
   },
   "outputs": [
    {
     "data": {
      "image/png": "[encoded data removed]",
      "text/plain": [
       "<Figure size 1080x504 with 1 Axes>"
      ]
     },
     "metadata": {
      "needs_background": "light"
     },
     "output_type": "display_data"
    }
   ],
   "source": [
    "ax = get_loss_curve(experiment)\n",
    "plt.show()"
   ]
  },
  {
   "cell_type": "code",
   "execution_count": 26,
   "id": "fd8a0f60",
   "metadata": {
    "execution": {
     "iopub.execute_input": "2022-03-20T01:42:22.462442Z",
     "iopub.status.busy": "2022-03-20T01:42:22.462047Z",
     "iopub.status.idle": "2022-03-20T01:42:22.607238Z",
     "shell.execute_reply": "2022-03-20T01:42:22.607558Z"
    },
    "papermill": {
     "duration": 0.175277,
     "end_time": "2022-03-20T01:42:22.607669",
     "exception": false,
     "start_time": "2022-03-20T01:42:22.432392",
     "status": "completed"
    },
    "tags": []
   },
   "outputs": [
    {
     "data": {
      "text/plain": [
       "<AxesSubplot:title={'center':'Results'}>"
      ]
     },
     "execution_count": 26,
     "metadata": {},
     "output_type": "execute_result"
    },
    {
     "data": {
      "image/png": "[encoded data removed]",
      "text/plain": [
       "<Figure size 1080x504 with 1 Axes>"
      ]
     },
     "metadata": {
      "needs_background": "light"
     },
     "output_type": "display_data"
    }
   ],
   "source": [
    "get_results_table(experiment)"
   ]
  },
  {
   "cell_type": "code",
   "execution_count": 27,
   "id": "cf8dc689",
   "metadata": {
    "execution": {
     "iopub.execute_input": "2022-03-20T01:42:22.679527Z",
     "iopub.status.busy": "2022-03-20T01:42:22.672949Z",
     "iopub.status.idle": "2022-03-20T01:42:22.822944Z",
     "shell.execute_reply": "2022-03-20T01:42:22.822513Z"
    },
    "papermill": {
     "duration": 0.18216,
     "end_time": "2022-03-20T01:42:22.823051",
     "exception": false,
     "start_time": "2022-03-20T01:42:22.640891",
     "status": "completed"
    },
    "tags": []
   },
   "outputs": [
    {
     "data": {
      "text/plain": [
       "<AxesSubplot:title={'center':'Per Domain Validation Accuracy'}, xlabel='domain'>"
      ]
     },
     "execution_count": 27,
     "metadata": {},
     "output_type": "execute_result"
    },
    {
     "data": {
      "image/png": "[encoded data removed]",
      "text/plain": [
       "<Figure size 1080x504 with 1 Axes>"
      ]
     },
     "metadata": {
      "needs_background": "light"
     },
     "output_type": "display_data"
    }
   ],
   "source": [
    "get_domain_accuracies(experiment)"
   ]
  },
  {
   "cell_type": "code",
   "execution_count": 28,
   "id": "a74ae082",
   "metadata": {
    "execution": {
     "iopub.execute_input": "2022-03-20T01:42:22.898827Z",
     "iopub.status.busy": "2022-03-20T01:42:22.891751Z",
     "iopub.status.idle": "2022-03-20T01:42:22.906096Z",
     "shell.execute_reply": "2022-03-20T01:42:22.905702Z"
    },
    "papermill": {
     "duration": 0.048916,
     "end_time": "2022-03-20T01:42:22.906200",
     "exception": false,
     "start_time": "2022-03-20T01:42:22.857284",
     "status": "completed"
    },
    "tags": []
   },
   "outputs": [
    {
     "name": "stdout",
     "output_type": "stream",
     "text": [
      "Source Test Label Accuracy: 0.8503255208333333 Target Test Label Accuracy: 0.7284935379644588\n",
      "Source Val Label Accuracy: 0.8479817708333334 Target Val Label Accuracy: 0.7289495337356007\n"
     ]
    }
   ],
   "source": [
    "print(\"Source Test Label Accuracy:\", experiment[\"results\"][\"source_test_label_accuracy\"], \"Target Test Label Accuracy:\", experiment[\"results\"][\"target_test_label_accuracy\"])\n",
    "print(\"Source Val Label Accuracy:\", experiment[\"results\"][\"source_val_label_accuracy\"], \"Target Val Label Accuracy:\", experiment[\"results\"][\"target_val_label_accuracy\"])"
   ]
  },
  {
   "cell_type": "code",
   "execution_count": 29,
   "id": "dacca602",
   "metadata": {
    "execution": {
     "iopub.execute_input": "2022-03-20T01:42:22.975120Z",
     "iopub.status.busy": "2022-03-20T01:42:22.974600Z",
     "iopub.status.idle": "2022-03-20T01:42:22.997435Z",
     "shell.execute_reply": "2022-03-20T01:42:22.997837Z"
    },
    "papermill": {
     "duration": 0.056492,
     "end_time": "2022-03-20T01:42:22.997969",
     "exception": false,
     "start_time": "2022-03-20T01:42:22.941477",
     "status": "completed"
    },
    "tags": [
     "experiment_json"
    ]
   },
   "outputs": [
    {
     "data": {
      "text/plain": [
       "'{\"experiment_name\": \"tl_2v2:oracle.run1.framed -> cores+wisig\", \"parameters\": {\"experiment_name\": \"tl_2v2:oracle.run1.framed -> cores+wisig\", \"device\": \"cuda\", \"lr\": 0.0001, \"n_shot\": 3, \"n_query\": 2, \"train_k_factor\": 3, \"val_k_factor\": 2, \"test_k_factor\": 2, \"torch_default_dtype\": \"torch.float32\", \"n_epoch\": 50, \"patience\": 3, \"criteria_for_best\": \"target_accuracy\", \"x_net\": [{\"class\": \"nnReshape\", \"kargs\": {\"shape\": [-1, 1, 2, 256]}}, {\"class\": \"Conv2d\", \"kargs\": {\"in_channels\": 1, \"out_channels\": 256, \"kernel_size\": [1, 7], \"bias\": false, \"padding\": [0, 3]}}, {\"class\": \"ReLU\", \"kargs\": {\"inplace\": true}}, {\"class\": \"BatchNorm2d\", \"kargs\": {\"num_features\": 256}}, {\"class\": \"Conv2d\", \"kargs\": {\"in_channels\": 256, \"out_channels\": 80, \"kernel_size\": [2, 7], \"bias\": true, \"padding\": [0, 3]}}, {\"class\": \"ReLU\", \"kargs\": {\"inplace\": true}}, {\"class\": \"BatchNorm2d\", \"kargs\": {\"num_features\": 80}}, {\"class\": \"Flatten\", \"kargs\": {}}, {\"class\": \"Linear\", \"kargs\": {\"in_features\": 20480, \"out_features\": 256}}, {\"class\": \"ReLU\", \"kargs\": {\"inplace\": true}}, {\"class\": \"BatchNorm1d\", \"kargs\": {\"num_features\": 256}}, {\"class\": \"Linear\", \"kargs\": {\"in_features\": 256, \"out_features\": 256}}], \"NUM_LOGS_PER_EPOCH\": 10, \"BEST_MODEL_PATH\": \"./best_model.pth\", \"n_way\": 16, \"datasets\": [{\"labels\": [\"1-10.\", \"1-11.\", \"1-15.\", \"1-16.\", \"1-17.\", \"1-18.\", \"1-19.\", \"10-4.\", \"10-7.\", \"11-1.\", \"11-14.\", \"11-17.\", \"11-20.\", \"11-7.\", \"13-20.\", \"13-8.\", \"14-10.\", \"14-11.\", \"14-14.\", \"14-7.\", \"15-1.\", \"15-20.\", \"16-1.\", \"16-16.\", \"17-10.\", \"17-11.\", \"17-2.\", \"19-1.\", \"19-16.\", \"19-19.\", \"19-20.\", \"19-3.\", \"2-10.\", \"2-11.\", \"2-17.\", \"2-18.\", \"2-20.\", \"2-3.\", \"2-4.\", \"2-5.\", \"2-6.\", \"2-7.\", \"2-8.\", \"3-13.\", \"3-18.\", \"3-3.\", \"4-1.\", \"4-10.\", \"4-11.\", \"4-19.\", \"5-5.\", \"6-15.\", \"7-10.\", \"7-14.\", \"8-18.\", \"8-20.\", \"8-3.\", \"8-8.\"], \"domains\": [1, 2, 3, 4, 5], \"num_examples_per_domain_per_label\": -1, \"pickle_path\": \"/mnt/wd500GB/CSC500/csc500-main/datasets/cores.stratified_ds.2022A.pkl\", \"source_or_target_dataset\": \"target\", \"x_transforms\": [\"unit_mag\"], \"episode_transforms\": [], \"domain_prefix\": \"C_\"}, {\"labels\": [\"1-10\", \"1-12\", \"1-14\", \"1-16\", \"1-18\", \"1-19\", \"1-8\", \"10-11\", \"10-17\", \"10-4\", \"10-7\", \"11-1\", \"11-10\", \"11-19\", \"11-20\", \"11-4\", \"11-7\", \"12-19\", \"12-20\", \"12-7\", \"13-14\", \"13-18\", \"13-19\", \"13-20\", \"13-3\", \"13-7\", \"14-10\", \"14-11\", \"14-12\", \"14-13\", \"14-14\", \"14-19\", \"14-20\", \"14-7\", \"14-8\", \"14-9\", \"15-1\", \"15-19\", \"15-6\", \"16-1\", \"16-16\", \"16-19\", \"16-20\", \"17-10\", \"17-11\", \"18-1\", \"18-10\", \"18-11\", \"18-12\", \"18-13\", \"18-14\", \"18-15\", \"18-16\", \"18-17\", \"18-19\", \"18-2\", \"18-20\", \"18-4\", \"18-5\", \"18-7\", \"18-8\", \"18-9\", \"19-1\", \"19-10\", \"19-11\", \"19-12\", \"19-13\", \"19-14\", \"19-15\", \"19-19\", \"19-2\", \"19-20\", \"19-3\", \"19-4\", \"19-6\", \"19-7\", \"19-8\", \"19-9\", \"2-1\", \"2-13\", \"2-15\", \"2-3\", \"2-4\", \"2-5\", \"2-6\", \"2-7\", \"2-8\", \"20-1\", \"20-12\", \"20-14\", \"20-15\", \"20-16\", \"20-18\", \"20-19\", \"20-20\", \"20-3\", \"20-4\", \"20-5\", \"20-7\", \"20-8\", \"3-1\", \"3-13\", \"3-18\", \"3-2\", \"3-8\", \"4-1\", \"4-10\", \"4-11\", \"5-1\", \"5-5\", \"6-1\", \"6-15\", \"6-6\", \"7-10\", \"7-11\", \"7-12\", \"7-13\", \"7-14\", \"7-7\", \"7-8\", \"7-9\", \"8-1\", \"8-13\", \"8-14\", \"8-18\", \"8-20\", \"8-3\", \"8-8\", \"9-1\", \"9-7\"], \"domains\": [1, 2, 3, 4], \"num_examples_per_domain_per_label\": -1, \"pickle_path\": \"/mnt/wd500GB/CSC500/csc500-main/datasets/wisig.node3-19.stratified_ds.2022A.pkl\", \"source_or_target_dataset\": \"target\", \"x_transforms\": [\"unit_mag\"], \"episode_transforms\": [], \"domain_prefix\": \"W_\"}, {\"labels\": [\"3123D52\", \"3123D65\", \"3123D79\", \"3123D80\", \"3123D54\", \"3123D70\", \"3123D7B\", \"3123D89\", \"3123D58\", \"3123D76\", \"3123D7D\", \"3123EFE\", \"3123D64\", \"3123D78\", \"3123D7E\", \"3124E4A\"], \"domains\": [32, 38, 8, 44, 14, 50, 20, 26], \"num_examples_per_domain_per_label\": 2000, \"pickle_path\": \"/mnt/wd500GB/CSC500/csc500-main/datasets/oracle.Run1_framed_2000Examples_stratified_ds.2022A.pkl\", \"source_or_target_dataset\": \"source\", \"x_transforms\": [\"unit_mag\"], \"episode_transforms\": [], \"domain_prefix\": \"O_\"}], \"seed\": 500, \"dataset_seed\": 500, \"x_shape\": [2, 256], \"domains_source\": [\"O_32\", \"O_38\", \"O_8\", \"O_44\", \"O_14\", \"O_50\", \"O_20\", \"O_26\"], \"domains_target\": [\"C_1\", \"C_2\", \"C_3\", \"C_4\", \"C_5\", \"W_1\", \"W_2\", \"W_3\", \"W_4\"]}, \"results\": {\"source_test_label_accuracy\": 0.8503255208333333, \"source_test_label_loss\": 0.419377863407135, \"target_test_label_accuracy\": 0.7284935379644588, \"target_test_label_loss\": 6.395663738250732, \"source_val_label_accuracy\": 0.8479817708333334, \"source_val_label_loss\": 0.42332905530929565, \"target_val_label_accuracy\": 0.7289495337356007, \"target_val_label_loss\": 6.5039825439453125, \"total_epochs_trained\": 6, \"total_experiment_time_secs\": 1210.2826538085938, \"confusion\": {\"O_50\": {\"7\": {\"13\": 35, \"7\": 191, \"5\": 6, \"10\": 4, \"6\": 4}, \"10\": {\"10\": 236, \"8\": 2, \"0\": 2}, \"0\": {\"0\": 218, \"2\": 18, \"10\": 4}, \"11\": {\"11\": 230, \"15\": 8, \"9\": 2}, \"2\": {\"2\": 229, \"0\": 11}, \"14\": {\"14\": 240}, \"9\": {\"12\": 3, \"9\": 230, \"11\": 7}, \"13\": {\"7\": 13, \"13\": 205, \"10\": 3, \"6\": 11, \"5\": 6, \"0\": 1, \"4\": 1}, \"8\": {\"8\": 238, \"10\": 2}, \"15\": {\"15\": 214, \"1\": 17, \"4\": 7, \"6\": 1, \"11\": 1}, \"4\": {\"4\": 142, \"5\": 41, \"15\": 19, \"1\": 23, \"13\": 3, \"6\": 5, \"11\": 4, \"7\": 3}, \"5\": {\"4\": 33, \"5\": 136, \"6\": 2, \"7\": 25, \"13\": 32, \"1\": 10, \"15\": 1, \"10\": 1}, \"3\": {\"3\": 240}, \"1\": {\"1\": 177, \"4\": 16, \"15\": 36, \"5\": 4, \"13\": 1, \"6\": 5, \"11\": 1}, \"6\": {\"1\": 1, \"6\": 224, \"5\": 2, \"13\": 9, \"7\": 2, \"4\": 2}, \"12\": {\"12\": 233, \"11\": 4, \"14\": 1, \"9\": 2}}, \"O_14\": {\"14\": {\"14\": 223, \"2\": 14, \"6\": 1, \"13\": 2}, \"6\": {\"6\": 179, \"13\": 56, \"14\": 3, \"2\": 2}, \"5\": {\"4\": 31, \"5\": 187, \"2\": 5, \"1\": 16, \"3\": 1}, \"15\": {\"15\": 240}, \"11\": {\"11\": 225, \"9\": 15}, \"8\": {\"8\": 240}, \"12\": {\"12\": 240}, \"1\": {\"1\": 225, \"5\": 10, \"4\": 5}, \"2\": {\"2\": 148, \"14\": 37, \"13\": 12, \"6\": 12, \"5\": 24, \"3\": 5, \"4\": 2}, \"13\": {\"13\": 122, \"6\": 79, \"2\": 17, \"14\": 19, \"4\": 2, \"5\": 1}, \"3\": {\"3\": 239, \"2\": 1}, \"0\": {\"0\": 235, \"11\": 1, \"14\": 1, \"3\": 2, \"10\": 1}, \"9\": {\"9\": 240}, \"4\": {\"4\": 207, \"5\": 27, \"3\": 3, \"1\": 3}, \"7\": {\"7\": 240}, \"10\": {\"10\": 240}}, \"O_32\": {\"4\": {\"4\": 196, \"5\": 7, \"13\": 4, \"2\": 21, \"7\": 12}, \"14\": {\"14\": 155, \"11\": 57, \"7\": 10, \"5\": 3, \"0\": 13, \"13\": 1, \"8\": 1}, \"5\": {\"5\": 131, \"7\": 37, \"4\": 19, \"3\": 9, \"13\": 34, \"2\": 2, \"14\": 1, \"0\": 3, \"11\": 1, \"8\": 3}, \"10\": {\"10\": 240}, \"13\": {\"5\": 20, \"13\": 173, \"4\": 9, \"3\": 13, \"8\": 11, \"7\": 10, \"0\": 4}, \"9\": {\"9\": 239, \"12\": 1}, \"6\": {\"6\": 240}, \"3\": {\"3\": 234, \"8\": 1, \"11\": 1, \"13\": 4}, \"15\": {\"15\": 240}, \"7\": {\"7\": 178, \"5\": 25, \"13\": 4, \"2\": 3, \"4\": 17, \"14\": 7, \"0\": 2, \"11\": 4}, \"12\": {\"12\": 240}, \"8\": {\"8\": 205, \"13\": 15, \"0\": 12, \"14\": 2, \"3\": 4, \"5\": 2}, \"11\": {\"14\": 34, \"11\": 206}, \"2\": {\"2\": 197, \"4\": 39, \"5\": 1, \"7\": 3}, \"1\": {\"1\": 240}, \"0\": {\"0\": 213, \"8\": 14, \"13\": 4, \"14\": 6, \"7\": 2, \"4\": 1}}, \"O_44\": {\"8\": {\"8\": 157, \"0\": 75, \"5\": 5, \"15\": 3}, \"11\": {\"11\": 237, \"13\": 2, \"6\": 1}, \"14\": {\"14\": 178, \"4\": 56, \"15\": 5, \"5\": 1}, \"10\": {\"10\": 205, \"2\": 13, \"1\": 14, \"12\": 8}, \"3\": {\"3\": 233, \"1\": 5, \"12\": 2}, \"15\": {\"15\": 207, \"8\": 2, \"0\": 16, \"14\": 12, \"5\": 3}, \"2\": {\"2\": 201, \"7\": 29, \"10\": 8, \"3\": 1, \"1\": 1}, \"12\": {\"12\": 209, \"1\": 28, \"10\": 3}, \"4\": {\"14\": 74, \"4\": 166}, \"1\": {\"1\": 167, \"12\": 42, \"10\": 13, \"3\": 12, \"2\": 6}, \"0\": {\"0\": 169, \"15\": 10, \"8\": 58, \"5\": 3}, \"9\": {\"6\": 18, \"9\": 142, \"7\": 58, \"13\": 21, \"11\": 1}, \"5\": {\"5\": 201, \"0\": 17, \"14\": 9, \"8\": 4, \"15\": 9}, \"6\": {\"6\": 195, \"13\": 31, \"9\": 10, \"7\": 4}, \"7\": {\"7\": 171, \"9\": 37, \"6\": 3, \"2\": 27, \"13\": 1, \"1\": 1}, \"13\": {\"13\": 162, \"9\": 29, \"6\": 44, \"4\": 1, \"11\": 2, \"7\": 2}}, \"O_8\": {\"13\": {\"13\": 126, \"0\": 45, \"10\": 25, \"4\": 25, \"14\": 9, \"6\": 8, \"7\": 2}, \"3\": {\"3\": 240}, \"15\": {\"12\": 20, \"15\": 220}, \"4\": {\"4\": 199, \"13\": 19, \"6\": 12, \"14\": 10}, \"7\": {\"7\": 201, \"6\": 38, \"0\": 1}, \"2\": {\"2\": 228, \"3\": 8, \"7\": 4}, \"1\": {\"1\": 236, \"14\": 2, \"11\": 2}, \"0\": {\"0\": 221, \"13\": 17, \"10\": 1, \"7\": 1}, \"12\": {\"12\": 178, \"3\": 5, \"15\": 55, \"8\": 2}, \"6\": {\"6\": 192, \"7\": 27, \"4\": 14, \"13\": 7}, \"11\": {\"11\": 229, \"1\": 11}, \"9\": {\"9\": 240}, \"5\": {\"5\": 227, \"10\": 6, \"1\": 4, \"14\": 3}, \"10\": {\"10\": 219, \"13\": 13, \"5\": 1, \"14\": 6, \"4\": 1}, \"14\": {\"14\": 190, \"10\": 13, \"4\": 24, \"13\": 8, \"1\": 5}, \"8\": {\"8\": 237, \"15\": 3}}, \"O_20\": {\"6\": {\"6\": 230, \"14\": 9, \"8\": 1}, \"11\": {\"11\": 240}, \"5\": {\"5\": 206, \"0\": 13, \"15\": 13, \"12\": 4, \"1\": 3, \"4\": 1}, \"14\": {\"14\": 231, \"10\": 1, \"6\": 6, \"8\": 2}, \"2\": {\"2\": 176, \"9\": 40, \"3\": 8, \"12\": 8, \"13\": 3, \"7\": 4, \"1\": 1}, \"7\": {\"7\": 226, \"2\": 13, \"8\": 1}, \"3\": {\"3\": 161, \"2\": 15, \"12\": 37, \"9\": 21, \"7\": 2, \"4\": 3, \"5\": 1}, \"4\": {\"4\": 238, \"8\": 2}, \"9\": {\"9\": 181, \"12\": 6, \"2\": 21, \"3\": 32}, \"12\": {\"12\": 148, \"1\": 37, \"3\": 33, \"2\": 12, \"5\": 3, \"9\": 7}, \"0\": {\"5\": 31, \"0\": 193, \"15\": 16}, \"10\": {\"10\": 238, \"14\": 2}, \"8\": {\"8\": 232, \"4\": 8}, \"13\": {\"13\": 235, \"2\": 5}, \"1\": {\"1\": 194, \"12\": 31, \"15\": 8, \"5\": 4, \"9\": 1, \"2\": 1, \"3\": 1}, \"15\": {\"13\": 2, \"15\": 208, \"5\": 11, \"1\": 10, \"0\": 7, \"12\": 2}}, \"O_38\": {\"3\": {\"3\": 232, \"9\": 6, \"0\": 2}, \"8\": {\"5\": 36, \"8\": 173, \"0\": 14, \"7\": 12, \"15\": 2, \"10\": 3}, \"0\": {\"0\": 160, \"7\": 23, \"8\": 37, \"10\": 8, \"3\": 8, \"5\": 4}, \"2\": {\"2\": 228, \"14\": 8, \"13\": 4}, \"4\": {\"4\": 240}, \"7\": {\"7\": 227, \"5\": 5, \"0\": 5, \"8\": 3}, \"12\": {\"12\": 238, \"4\": 2}, \"6\": {\"6\": 234, \"9\": 5, \"5\": 1}, \"15\": {\"15\": 201, \"13\": 11, \"1\": 22, \"8\": 3, \"5\": 3}, \"11\": {\"11\": 231, \"14\": 7, \"10\": 1, \"4\": 1}, \"9\": {\"9\": 216, \"6\": 24}, \"14\": {\"14\": 235, \"11\": 3, \"2\": 2}, \"10\": {\"10\": 221, \"8\": 2, \"13\": 9, \"14\": 2, \"0\": 2, \"7\": 2, \"4\": 2}, \"5\": {\"5\": 141, \"8\": 43, \"7\": 32, \"6\": 7, \"15\": 6, \"0\": 3, \"9\": 7, \"13\": 1}, \"1\": {\"1\": 235, \"15\": 5}, \"13\": {\"10\": 8, \"13\": 203, \"8\": 1, \"15\": 15, \"1\": 1, \"2\": 7, \"5\": 2, \"0\": 2, \"14\": 1}}, \"O_26\": {\"5\": {\"5\": 201, \"13\": 21, \"2\": 14, \"15\": 2, \"3\": 2}, \"8\": {\"4\": 17, \"0\": 14, \"8\": 146, \"10\": 47, \"15\": 2, \"7\": 11, \"2\": 2, \"9\": 1}, \"4\": {\"4\": 134, \"0\": 21, \"8\": 8, \"1\": 4, \"10\": 8, \"14\": 58, \"7\": 7}, \"12\": {\"12\": 240}, \"6\": {\"6\": 215, \"15\": 3, \"10\": 9, \"9\": 10, \"0\": 3}, \"7\": {\"7\": 190, \"8\": 7, \"3\": 22, \"4\": 7, \"2\": 11, \"1\": 1, \"14\": 1, \"0\": 1}, \"10\": {\"8\": 30, \"10\": 111, \"14\": 12, \"0\": 69, \"4\": 10, \"6\": 7, \"9\": 1}, \"0\": {\"0\": 110, \"4\": 26, \"14\": 25, \"10\": 54, \"8\": 23, \"7\": 2}, \"15\": {\"15\": 166, \"9\": 58, \"6\": 6, \"10\": 1, \"7\": 1, \"8\": 3, \"13\": 3, \"5\": 1, \"2\": 1}, \"9\": {\"9\": 154, \"15\": 58, \"6\": 19, \"10\": 2, \"8\": 4, \"0\": 1, \"13\": 2}, \"11\": {\"11\": 240}, \"14\": {\"4\": 46, \"14\": 139, \"1\": 12, \"7\": 1, \"0\": 34, \"8\": 3, \"10\": 5}, \"2\": {\"2\": 121, \"3\": 74, \"15\": 12, \"8\": 4, \"5\": 15, \"7\": 12, \"13\": 1, \"9\": 1}, \"13\": {\"13\": 188, \"5\": 46, \"9\": 2, \"2\": 1, \"15\": 3}, \"3\": {\"3\": 195, \"2\": 36, \"7\": 9}, \"1\": {\"14\": 10, \"1\": 225, \"4\": 5}}, \"W_3\": {\"99\": {\"99\": 19, \"86\": 2, \"25\": 1, \"128\": 1, \"70\": 3, \"4\": 3, \"105\": 2, \"12\": 1, \"127\": 1, \"97\": 1, \"8\": 1, \"71\": 1}, \"8\": {\"42\": 2, \"8\": 59, \"19\": 1, \"4\": 4, \"124\": 7, \"10\": 1, \"7\": 3, \"127\": 14, \"98\": 10, \"12\": 4, \"105\": 1, \"108\": 1, \"111\": 3, \"72\": 1, \"77\": 1, \"128\": 2, \"71\": 3, \"3\": 4, \"30\": 1, \"5\": 1, \"27\": 1}, \"65\": {\"18\": 1, \"65\": 7, \"48\": 2, \"7\": 2}, \"117\": {\"117\": 106, \"39\": 3, \"126\": 1, \"26\": 2}, \"18\": {\"18\": 114, \"113\": 1, \"39\": 4, \"81\": 2, \"126\": 1, \"117\": 2}, \"39\": {\"117\": 7, \"39\": 35, \"123\": 1, \"23\": 1, \"121\": 1, \"126\": 4, \"2\": 1, \"14\": 1, \"26\": 6, \"62\": 3, \"119\": 1, \"67\": 3, \"109\": 4, \"11\": 2, \"18\": 15, \"93\": 3, \"113\": 6, \"118\": 2, \"16\": 1, \"102\": 1, \"64\": 1, \"31\": 1, \"82\": 1, \"69\": 1, \"21\": 3, \"40\": 1, \"33\": 1, \"90\": 1}, \"102\": {\"102\": 121, \"118\": 1, \"11\": 1, \"69\": 1}, \"76\": {\"76\": 10, \"11\": 1, \"29\": 1, \"33\": 2, \"80\": 1, \"93\": 1}, \"101\": {\"101\": 28, \"58\": 1, \"59\": 2, \"42\": 1, \"73\": 2, \"12\": 2, \"95\": 4, \"18\": 1, \"111\": 1, \"37\": 2, \"51\": 2, \"10\": 1, \"117\": 1, \"30\": 3, \"7\": 1}, \"57\": {\"57\": 20}, \"86\": {\"86\": 24, \"112\": 1, \"110\": 1, \"99\": 1, \"26\": 1}, \"11\": {\"102\": 14, \"11\": 35, \"120\": 2, \"109\": 6, \"96\": 1, \"69\": 7, \"17\": 2, \"80\": 2, \"43\": 2, \"14\": 3, \"89\": 1, \"62\": 15, \"39\": 1, \"93\": 10, \"33\": 8, \"84\": 1, \"16\": 9, \"90\": 4, \"118\": 3, \"26\": 2, \"88\": 1, \"113\": 1, \"87\": 1, \"18\": 1}, \"98\": {\"8\": 14, \"98\": 66, \"24\": 1, \"83\": 2, \"112\": 1, \"56\": 1, \"59\": 1, \"41\": 1, \"42\": 2, \"12\": 1, \"7\": 2, \"3\": 4, \"34\": 2, \"62\": 1, \"124\": 15, \"127\": 4, \"0\": 1, \"36\": 1, \"71\": 1, \"68\": 1, \"72\": 2, \"90\": 1, \"85\": 1, \"94\": 1, \"111\": 1}, \"42\": {\"99\": 1, \"101\": 1, \"24\": 2, \"108\": 1, \"71\": 3, \"5\": 1, \"42\": 8, \"106\": 2, \"60\": 1, \"19\": 1, \"46\": 1, \"83\": 1, \"104\": 1, \"111\": 1, \"3\": 1, \"4\": 1, \"70\": 1}, \"47\": {\"98\": 2, \"42\": 1, \"47\": 7, \"112\": 1, \"71\": 1}, \"49\": {\"99\": 1, \"76\": 1, \"42\": 1, \"35\": 1, \"60\": 2, \"20\": 1, \"49\": 4, \"105\": 1, \"127\": 1, \"14\": 2, \"71\": 1, \"41\": 1, \"29\": 1, \"0\": 2, \"68\": 1, \"62\": 1, \"7\": 1, \"88\": 1}, \"111\": {\"111\": 114, \"106\": 3, \"12\": 8, \"0\": 1, \"26\": 1, \"34\": 1, \"97\": 1, \"15\": 2, \"98\": 1}, \"36\": {\"36\": 50, \"51\": 1, \"125\": 11, \"24\": 1, \"94\": 10, \"0\": 3, \"106\": 7, \"15\": 5, \"111\": 11, \"7\": 2, \"12\": 3, \"30\": 1, \"98\": 1, \"127\": 2, \"9\": 1, \"75\": 1, \"42\": 1, \"73\": 1, \"27\": 3, \"3\": 1}, \"124\": {\"124\": 74, \"83\": 2, \"11\": 1, \"105\": 2, \"19\": 1, \"127\": 1, \"5\": 2, \"98\": 4, \"111\": 2, \"8\": 3, \"108\": 2, \"125\": 3, \"62\": 1, \"41\": 1, \"42\": 1, \"71\": 1, \"3\": 4, \"93\": 1}, \"122\": {\"122\": 29, \"92\": 1, \"129\": 3, \"61\": 1, \"34\": 4, \"9\": 3, \"114\": 4, \"90\": 1, \"109\": 1, \"18\": 2, \"40\": 1, \"1\": 1, \"3\": 1, \"107\": 1, \"60\": 1, \"62\": 2, \"84\": 1, \"126\": 1, \"70\": 1, \"26\": 1}, \"93\": {\"69\": 6, \"16\": 11, \"93\": 74, \"62\": 9, \"92\": 2, \"33\": 20, \"11\": 3, \"118\": 4, \"84\": 1, \"102\": 5, \"109\": 2, \"120\": 1, \"43\": 1, \"88\": 1, \"90\": 2}, \"89\": {\"89\": 15, \"69\": 6, \"43\": 1, \"80\": 1, \"102\": 3, \"26\": 1, \"93\": 1}, \"51\": {\"51\": 16}, \"73\": {\"111\": 1, \"36\": 1, \"73\": 31, \"8\": 1, \"42\": 1, \"15\": 1, \"0\": 2, \"72\": 1, \"21\": 1}, \"45\": {\"69\": 1, \"45\": 12, \"82\": 1, \"84\": 1, \"44\": 1}, \"5\": {\"5\": 80, \"18\": 2, \"124\": 2, \"71\": 9, \"105\": 5, \"113\": 2, \"126\": 1, \"42\": 1, \"104\": 1, \"3\": 2, \"4\": 4, \"108\": 2, \"1\": 1}, \"69\": {\"69\": 66, \"33\": 2, \"16\": 1, \"102\": 6, \"18\": 1, \"118\": 3, \"93\": 1, \"126\": 1, \"11\": 1, \"90\": 1, \"113\": 1}, \"26\": {\"26\": 112, \"113\": 6, \"117\": 7, \"2\": 1, \"67\": 1, \"118\": 2, \"69\": 1}, \"1\": {\"1\": 88, \"70\": 2, \"22\": 1, \"122\": 1, \"32\": 4, \"40\": 2, \"110\": 3, \"88\": 1, \"60\": 1, \"114\": 2, \"39\": 1, \"87\": 1, \"5\": 1}, \"92\": {\"93\": 3, \"92\": 17, \"33\": 1, \"16\": 2, \"11\": 4, \"62\": 1, \"120\": 1, \"118\": 1, \"45\": 1, \"31\": 1}, \"96\": {\"2\": 1, \"96\": 7, \"93\": 1, \"117\": 1, \"119\": 1, \"89\": 1, \"118\": 1, \"26\": 3, \"113\": 3, \"69\": 1}, \"85\": {\"85\": 32, \"114\": 2, \"129\": 1, \"62\": 1}, \"114\": {\"1\": 5, \"114\": 114, \"5\": 2, \"103\": 1, \"38\": 1, \"14\": 1, \"110\": 1, \"88\": 1}, \"50\": {\"50\": 13, \"115\": 1, \"107\": 1, \"32\": 1}, \"81\": {\"81\": 30, \"26\": 1, \"18\": 1}, \"2\": {\"2\": 22, \"92\": 1, \"117\": 3, \"102\": 1, \"39\": 1}, \"33\": {\"33\": 131, \"92\": 1, \"16\": 2, \"93\": 11, \"26\": 1}, \"31\": {\"116\": 2, \"31\": 13, \"80\": 2, \"33\": 1, \"62\": 1, \"45\": 1}, \"90\": {\"116\": 1, \"90\": 77, \"62\": 5, \"44\": 2, \"93\": 3, \"84\": 8, \"87\": 5, \"14\": 6, \"107\": 5, \"26\": 1, \"29\": 1, \"115\": 1, \"82\": 1, \"88\": 2}, \"17\": {\"86\": 2, \"11\": 2, \"43\": 3, \"17\": 2, \"113\": 2, \"105\": 1, \"69\": 1, \"99\": 1, \"21\": 1, \"101\": 1}, \"116\": {\"2\": 1, \"116\": 11, \"84\": 1, \"102\": 1, \"33\": 3, \"14\": 1, \"109\": 1, \"62\": 3, \"113\": 1, \"16\": 1, \"92\": 1, \"29\": 1, \"82\": 2}, \"91\": {\"91\": 15, \"68\": 2, \"12\": 2, \"7\": 3, \"31\": 1, \"8\": 1}, \"120\": {\"120\": 20}, \"128\": {\"74\": 1, \"44\": 1, \"71\": 1, \"128\": 9, \"127\": 3, \"87\": 1, \"48\": 1, \"22\": 1, \"114\": 1, \"4\": 1, \"40\": 1, \"3\": 1, \"1\": 1, \"55\": 1, \"88\": 1, \"28\": 1, \"122\": 1, \"99\": 1, \"70\": 1, \"110\": 1, \"10\": 1, \"108\": 1}, \"78\": {\"120\": 1, \"17\": 1, \"78\": 4, \"40\": 1, \"113\": 3, \"88\": 1, \"32\": 2, \"87\": 1, \"39\": 1, \"49\": 1}, \"58\": {\"58\": 12, \"30\": 2, \"35\": 2}, \"23\": {\"128\": 2, \"17\": 3, \"24\": 1, \"68\": 1, \"39\": 1, \"42\": 1, \"19\": 1, \"91\": 1, \"121\": 1, \"126\": 4, \"81\": 1, \"109\": 1, \"127\": 2, \"18\": 1, \"13\": 1, \"105\": 1, \"112\": 1, \"2\": 1, \"7\": 1, \"117\": 2, \"123\": 1, \"114\": 1, \"101\": 1, \"113\": 1}, \"15\": {\"97\": 3, \"6\": 2, \"98\": 1, \"15\": 50, \"35\": 1, \"106\": 4, \"123\": 1, \"7\": 1, \"125\": 4, \"72\": 3, \"95\": 2, \"36\": 8, \"24\": 1, \"30\": 2, \"94\": 4, \"27\": 2, \"0\": 1, \"111\": 4, \"12\": 5, \"34\": 1, \"73\": 1, \"101\": 2, \"26\": 1}, \"74\": {\"74\": 16}, \"34\": {\"74\": 2, \"97\": 4, \"20\": 1, \"51\": 1, \"34\": 6, \"6\": 6, \"60\": 1, \"27\": 1, \"106\": 1, \"84\": 1, \"22\": 1, \"43\": 1, \"15\": 2, \"62\": 2, \"129\": 1, \"94\": 1}, \"103\": {\"103\": 12, \"99\": 1, \"46\": 1, \"71\": 1, \"86\": 1}, \"106\": {\"106\": 72, \"73\": 3, \"27\": 6, \"15\": 5, \"125\": 1, \"30\": 3, \"97\": 2, \"72\": 1, \"0\": 2, \"111\": 3, \"36\": 2}, \"44\": {\"44\": 52, \"80\": 1, \"29\": 2, \"82\": 1, \"64\": 1, \"90\": 3, \"62\": 2, \"84\": 2, \"40\": 4, \"76\": 1, \"115\": 1, \"16\": 1, \"88\": 1}, \"9\": {\"34\": 1, \"128\": 1, \"105\": 4, \"9\": 22, \"101\": 1, \"127\": 1, \"93\": 1, \"108\": 1}, \"97\": {\"97\": 16, \"42\": 1, \"37\": 1, \"59\": 1, \"98\": 1}, \"123\": {\"123\": 12, \"106\": 1, \"18\": 1, \"68\": 1, \"61\": 1}, \"6\": {\"6\": 28, \"90\": 1, \"12\": 2, \"125\": 1}, \"68\": {\"68\": 16}, \"24\": {\"24\": 10, \"6\": 1, \"56\": 1, \"42\": 1, \"15\": 3, \"7\": 1, \"12\": 4, \"71\": 1, \"83\": 2, \"72\": 3, \"127\": 3, \"94\": 4, \"98\": 2, \"110\": 1, \"36\": 4, \"97\": 1, \"77\": 1, \"4\": 1, \"25\": 1, \"35\": 1, \"99\": 1, \"8\": 1}, \"21\": {\"21\": 28, \"11\": 3, \"126\": 2, \"39\": 1, \"41\": 1, \"81\": 1, \"93\": 2, \"113\": 1, \"43\": 2, \"116\": 1, \"118\": 1, \"15\": 1, \"18\": 1, \"26\": 1, \"109\": 1, \"16\": 1}, \"83\": {\"83\": 17, \"118\": 1, \"125\": 2, \"61\": 1, \"47\": 1, \"68\": 1, \"42\": 1}, \"60\": {\"60\": 11, \"14\": 1, \"87\": 1, \"105\": 1, \"115\": 1, \"1\": 1, \"129\": 1, \"114\": 1, \"38\": 1, \"34\": 1, \"74\": 1, \"48\": 1, \"70\": 1, \"79\": 1, \"88\": 1, \"40\": 1, \"107\": 1, \"23\": 1}, \"87\": {\"87\": 61, \"20\": 1, \"14\": 7, \"62\": 9, \"109\": 1, \"44\": 4, \"88\": 1, \"90\": 10, \"32\": 1, \"107\": 12, \"1\": 1, \"84\": 4, \"40\": 6, \"92\": 1, \"29\": 1}, \"30\": {\"6\": 3, \"15\": 6, \"68\": 1, \"75\": 1, \"72\": 1, \"99\": 1, \"12\": 5, \"18\": 1, \"30\": 27, \"58\": 1, \"39\": 1, \"94\": 6, \"7\": 8, \"98\": 1, \"106\": 1, \"111\": 4, \"0\": 1, \"86\": 1, \"17\": 1, \"91\": 1, \"110\": 1, \"26\": 1, \"73\": 1, \"125\": 2, \"8\": 1, \"101\": 2, \"3\": 1, \"127\": 1, \"10\": 2}, \"43\": {\"23\": 2, \"118\": 2, \"43\": 22, \"96\": 1, \"31\": 2, \"16\": 3, \"21\": 3, \"102\": 2, \"109\": 4, \"26\": 1, \"11\": 4, \"89\": 2, \"69\": 2, \"120\": 2, \"33\": 1, \"93\": 2, \"62\": 1}, \"115\": {\"115\": 11, \"87\": 1, \"44\": 2, \"43\": 1, \"90\": 1}, \"40\": {\"40\": 91, \"62\": 1, \"110\": 1, \"1\": 5, \"87\": 4, \"126\": 1, \"88\": 6, \"114\": 2, \"78\": 1, \"32\": 1, \"50\": 1, \"60\": 1, \"129\": 1, \"107\": 1, \"44\": 2, \"90\": 1}, \"112\": {\"112\": 6, \"47\": 1, \"83\": 1, \"124\": 1, \"59\": 1, \"41\": 1, \"19\": 1, \"68\": 1, \"12\": 1, \"97\": 1, \"56\": 1}, \"66\": {\"66\": 13, \"34\": 2, \"55\": 1}, \"110\": {\"66\": 1, \"110\": 43, \"112\": 1, \"50\": 1, \"129\": 1, \"28\": 2, \"19\": 3, \"105\": 3, \"114\": 5, \"4\": 6, \"5\": 4, \"90\": 3, \"7\": 1, \"89\": 1, \"107\": 2, \"128\": 1, \"3\": 1, \"71\": 1, \"22\": 2, \"87\": 1, \"43\": 1, \"122\": 2, \"40\": 1, \"70\": 4, \"1\": 1}, \"3\": {\"3\": 88, \"56\": 2, \"127\": 4, \"108\": 4, \"106\": 1, \"105\": 1, \"8\": 1, \"124\": 2, \"126\": 1, \"5\": 2, \"4\": 3, \"71\": 2, \"19\": 1, \"111\": 2}, \"20\": {\"20\": 13, \"100\": 2, \"44\": 1}, \"28\": {\"28\": 13, \"110\": 1, \"128\": 1, \"19\": 1}, \"84\": {\"84\": 77, \"20\": 1, \"33\": 1, \"14\": 7, \"29\": 2, \"44\": 2, \"126\": 2, \"87\": 4, \"109\": 2, \"90\": 5, \"107\": 2, \"62\": 1, \"88\": 1, \"26\": 1}, \"79\": {\"20\": 1, \"79\": 9, \"84\": 1, \"33\": 1}, \"118\": {\"118\": 44, \"92\": 1, \"33\": 3, \"43\": 2, \"69\": 4, \"93\": 3, \"102\": 8, \"64\": 3, \"113\": 5, \"16\": 5, \"12\": 1, \"109\": 4, \"11\": 5, \"26\": 2, \"14\": 1, \"90\": 2, \"96\": 1, \"67\": 1, \"76\": 1, \"115\": 1, \"62\": 2, \"39\": 1}, \"56\": {\"56\": 7, \"36\": 1, \"41\": 1, \"19\": 1, \"7\": 1, \"75\": 1}, \"48\": {\"26\": 2, \"63\": 3, \"13\": 1, \"48\": 2, \"128\": 1, \"43\": 1, \"86\": 1, \"67\": 1, \"47\": 1, \"113\": 1, \"119\": 2}, \"77\": {\"7\": 1, \"77\": 15}, \"14\": {\"14\": 69, \"62\": 6, \"84\": 2, \"31\": 1, \"33\": 2}, \"64\": {\"64\": 19, \"96\": 1}, \"67\": {\"67\": 15, \"1\": 1}, \"62\": {\"62\": 117, \"87\": 1, \"11\": 2, \"90\": 3, \"109\": 1}, \"75\": {\"75\": 15, \"15\": 1}, \"63\": {\"63\": 11, \"109\": 1, \"101\": 1, \"81\": 1, \"116\": 1, \"123\": 1}, \"7\": {\"7\": 100, \"91\": 4, \"8\": 2, \"10\": 3, \"30\": 1, \"12\": 2}, \"125\": {\"125\": 83, \"24\": 2, \"94\": 3, \"27\": 3, \"113\": 1, \"36\": 8, \"111\": 1, \"43\": 1, \"62\": 1, \"15\": 1}, \"37\": {\"37\": 15, \"101\": 1}, \"121\": {\"121\": 16, \"93\": 2, \"92\": 1, \"13\": 1, \"27\": 1, \"26\": 1, \"81\": 1, \"33\": 1, \"43\": 1, \"102\": 1, \"21\": 2, \"117\": 2, \"126\": 2}, \"16\": {\"16\": 52, \"33\": 17, \"102\": 9, \"11\": 3, \"93\": 7, \"69\": 7, \"109\": 2, \"118\": 2, \"84\": 1, \"113\": 1, \"78\": 1, \"117\": 1, \"18\": 1}, \"35\": {\"35\": 8, \"0\": 2, \"68\": 1, \"114\": 1}, \"32\": {\"16\": 2, \"32\": 12, \"70\": 2, \"120\": 1, \"11\": 3, \"33\": 1, \"105\": 1, \"22\": 2, \"93\": 2, \"40\": 1, \"45\": 1, \"129\": 1, \"128\": 1, \"110\": 2}, \"46\": {\"46\": 13, \"23\": 1, \"5\": 1, \"103\": 1}, \"70\": {\"56\": 2, \"70\": 4, \"128\": 2, \"20\": 1, \"115\": 2, \"3\": 5, \"124\": 2, \"66\": 1, \"87\": 5, \"108\": 6, \"83\": 1, \"14\": 2, \"4\": 6, \"62\": 5, \"98\": 1, \"110\": 1, \"127\": 3, \"107\": 2, \"113\": 1, \"67\": 1, \"71\": 3, \"120\": 1, \"79\": 1, \"122\": 2, \"99\": 1, \"5\": 4, \"44\": 1, \"81\": 1, \"88\": 2, \"8\": 1, \"12\": 1, \"90\": 1}, \"129\": {\"129\": 10, \"121\": 2, \"82\": 2, \"114\": 4, \"62\": 1, \"105\": 2, \"5\": 2, \"110\": 1, \"11\": 1, \"4\": 1, \"85\": 1, \"31\": 1, \"93\": 1, \"107\": 2, \"69\": 1}, \"95\": {\"95\": 29, \"64\": 1, \"0\": 2}, \"72\": {\"72\": 26, \"12\": 2}, \"19\": {\"129\": 3, \"19\": 12, \"17\": 1, \"40\": 1, \"103\": 1, \"49\": 1, \"91\": 1, \"50\": 1, \"127\": 3, \"71\": 3, \"83\": 1, \"9\": 1, \"77\": 1, \"34\": 1, \"98\": 1}, \"52\": {\"52\": 10, \"27\": 1, \"91\": 1, \"34\": 1, \"73\": 1, \"8\": 2}, \"100\": {\"100\": 10, \"20\": 1, \"84\": 1, \"33\": 1, \"40\": 2, \"93\": 1}, \"104\": {\"40\": 1, \"104\": 10, \"66\": 1, \"114\": 1, \"9\": 1, \"105\": 1, \"5\": 1}, \"59\": {\"59\": 11, \"35\": 1}, \"109\": {\"43\": 4, \"109\": 67, \"2\": 1, \"118\": 5, \"33\": 12, \"69\": 4, \"84\": 2, \"93\": 6, \"62\": 6, \"16\": 6, \"11\": 6, \"76\": 1, \"89\": 1, \"90\": 2, \"14\": 1, \"113\": 1, \"26\": 1}, \"88\": {\"96\": 1, \"110\": 4, \"11\": 4, \"88\": 16, \"80\": 1, \"114\": 8, \"70\": 2, \"71\": 1, \"120\": 2, \"5\": 4, \"121\": 2, \"60\": 1, \"85\": 1, \"109\": 11, \"87\": 3, \"62\": 5, \"84\": 2, \"1\": 4, \"118\": 3, \"106\": 1, \"107\": 2, \"3\": 5, \"108\": 4, \"33\": 2, \"40\": 2, \"48\": 1, \"45\": 1, \"99\": 1, \"49\": 1, \"81\": 1, \"69\": 1, \"90\": 2, \"93\": 3, \"7\": 1, \"105\": 2, \"14\": 1, \"126\": 1, \"117\": 1}, \"27\": {\"27\": 35, \"52\": 1, \"49\": 1, \"127\": 1, \"6\": 2, \"72\": 1, \"24\": 4, \"124\": 1, \"125\": 5, \"111\": 6, \"98\": 7, \"106\": 3, \"4\": 1, \"73\": 1, \"67\": 1, \"36\": 6, \"94\": 7, \"117\": 1, \"26\": 1, \"25\": 1, \"37\": 1, \"12\": 1, \"5\": 1, \"126\": 1, \"8\": 3, \"3\": 1}, \"113\": {\"93\": 6, \"113\": 73, \"26\": 10, \"109\": 7, \"117\": 8, \"118\": 3, \"69\": 1, \"39\": 5, \"102\": 1, \"88\": 1, \"89\": 1, \"11\": 1, \"33\": 2, \"18\": 1}, \"105\": {\"105\": 106, \"49\": 1, \"4\": 3, \"3\": 3, \"128\": 1, \"5\": 2, \"108\": 3, \"114\": 1, \"70\": 3, \"9\": 1}, \"71\": {\"71\": 48, \"70\": 1, \"41\": 1, \"5\": 4, \"105\": 4, \"125\": 1, \"4\": 2, \"111\": 1, \"28\": 1, \"86\": 1, \"8\": 1, \"99\": 1, \"126\": 1, \"40\": 1}, \"108\": {\"108\": 36, \"71\": 6, \"110\": 1, \"38\": 1, \"124\": 11, \"127\": 3, \"105\": 7, \"62\": 1, \"98\": 5, \"1\": 2, \"114\": 3, \"7\": 2, \"40\": 1, \"4\": 6, \"70\": 3, \"5\": 10, \"90\": 1, \"3\": 6, \"8\": 5, \"88\": 4, \"101\": 1, \"9\": 1, \"83\": 1, \"24\": 1, \"99\": 1, \"19\": 1, \"129\": 1, \"87\": 1, \"0\": 1, \"109\": 1}, \"41\": {\"41\": 13, \"98\": 1, \"24\": 1, \"99\": 1}, \"80\": {\"80\": 9, \"31\": 2, \"76\": 1, \"33\": 1, \"100\": 1, \"92\": 2}, \"13\": {\"31\": 1, \"13\": 4, \"92\": 1, \"33\": 1, \"84\": 1, \"117\": 2, \"62\": 1, \"118\": 1, \"43\": 1, \"120\": 1, \"116\": 1, \"39\": 1}, \"55\": {\"55\": 16}, \"0\": {\"0\": 63, \"7\": 3, \"51\": 6, \"95\": 3, \"39\": 1, \"34\": 1, \"6\": 2, \"12\": 3, \"94\": 1, \"111\": 8, \"84\": 1, \"30\": 3, \"36\": 2, \"15\": 2, \"101\": 1, \"52\": 1, \"90\": 1, \"10\": 2, \"127\": 1, \"98\": 1}, \"25\": {\"25\": 15, \"54\": 1}, \"53\": {\"53\": 14, \"107\": 1, \"110\": 1, \"44\": 1, \"122\": 1, \"40\": 2}, \"61\": {\"61\": 12, \"117\": 1, \"123\": 1, \"113\": 1, \"63\": 1}, \"38\": {\"38\": 14, \"88\": 1, \"87\": 1}, \"127\": {\"127\": 108, \"113\": 1, \"42\": 1, \"10\": 1, \"7\": 1, \"8\": 7, \"3\": 4, \"126\": 2, \"124\": 1, \"84\": 1, \"98\": 1}, \"4\": {\"71\": 6, \"108\": 1, \"4\": 64, \"5\": 10, \"48\": 1, \"9\": 2, \"3\": 3, \"98\": 1, \"105\": 1, \"1\": 1, \"86\": 1, \"88\": 1, \"18\": 1, \"113\": 1, \"114\": 1, \"109\": 1}, \"12\": {\"68\": 1, \"12\": 61, \"30\": 3, \"95\": 2, \"73\": 2, \"127\": 4, \"8\": 6, \"124\": 2, \"111\": 10, \"98\": 2, \"36\": 2, \"52\": 1, \"41\": 1, \"42\": 1, \"7\": 5, \"15\": 1}, \"126\": {\"18\": 14, \"126\": 66, \"2\": 1, \"121\": 4, \"26\": 5, \"21\": 2, \"81\": 4, \"118\": 3, \"117\": 6, \"113\": 6, \"39\": 5, \"88\": 1, \"93\": 1, \"13\": 2, \"15\": 1, \"69\": 1, \"109\": 1, \"102\": 1}, \"29\": {\"29\": 20, \"84\": 6, \"45\": 1, \"62\": 1, \"116\": 1, \"107\": 1, \"44\": 1, \"115\": 1}, \"107\": {\"107\": 117, \"87\": 4, \"32\": 3, \"40\": 2, \"33\": 1, \"62\": 1, \"29\": 2, \"44\": 1, \"84\": 3, \"14\": 1, \"90\": 1}, \"82\": {\"82\": 27, \"33\": 1}, \"94\": {\"94\": 56, \"30\": 3, \"15\": 9, \"0\": 2, \"125\": 5, \"27\": 1, \"106\": 2, \"36\": 3, \"101\": 2, \"18\": 1}, \"54\": {\"54\": 16}, \"10\": {\"0\": 8, \"105\": 9, \"86\": 2, \"101\": 4, \"10\": 63, \"127\": 3, \"95\": 1, \"98\": 1, \"106\": 1, \"7\": 6, \"4\": 5, \"30\": 5, \"111\": 5, \"26\": 1, \"8\": 2, \"12\": 2, \"91\": 1, \"110\": 1, \"9\": 1, \"57\": 1, \"3\": 3, \"70\": 1, \"62\": 1, \"36\": 1}, \"22\": {\"22\": 14, \"110\": 1, \"28\": 1}, \"119\": {\"119\": 15, \"26\": 1}}, \"C_4\": {\"38\": {\"38\": 36, \"2\": 2, \"22\": 1, \"43\": 1}, \"3\": {\"20\": 6, \"44\": 1, \"3\": 74, \"4\": 3, \"25\": 9, \"48\": 7, \"8\": 1, \"50\": 2, \"6\": 3, \"53\": 9, \"36\": 3, \"26\": 2, \"28\": 1, \"17\": 2, \"51\": 1}, \"24\": {\"38\": 1, \"24\": 52, \"2\": 1, \"14\": 1, \"43\": 1}, \"49\": {\"49\": 19, \"46\": 1}, \"7\": {\"7\": 18, \"32\": 1, \"47\": 1, \"11\": 2, \"15\": 1, \"57\": 1}, \"17\": {\"17\": 74, \"27\": 6}, \"43\": {\"43\": 143, \"0\": 5}, \"30\": {\"17\": 4, \"30\": 33, \"50\": 1, \"21\": 2, \"9\": 2, \"3\": 1, \"51\": 1}, \"44\": {\"44\": 106, \"6\": 3, \"19\": 17, \"55\": 1, \"40\": 3, \"51\": 2}, \"23\": {\"23\": 133, \"52\": 7, \"42\": 1, \"5\": 1, \"18\": 2}, \"37\": {\"37\": 24}, \"4\": {\"4\": 127, \"50\": 1, \"6\": 1, \"17\": 2, \"8\": 1}, \"57\": {\"57\": 77, \"16\": 4, \"35\": 1, \"52\": 8, \"46\": 2, \"5\": 2, \"47\": 2, \"1\": 3, \"23\": 1}, \"16\": {\"16\": 85, \"47\": 1, \"11\": 3, \"35\": 1, \"1\": 2, \"46\": 1, \"57\": 1, \"5\": 1, \"15\": 1}, \"18\": {\"18\": 91, \"42\": 8, \"29\": 2, \"55\": 1, \"47\": 1, \"23\": 3, \"44\": 1, \"51\": 1}, \"20\": {\"20\": 108, \"51\": 8, \"3\": 2, \"21\": 1, \"27\": 1, \"6\": 1, \"4\": 1, \"50\": 2}, \"45\": {\"45\": 88, \"12\": 4, \"9\": 2, \"50\": 2}, \"15\": {\"15\": 126, \"11\": 2, \"7\": 1, \"31\": 1, \"29\": 1, \"46\": 1}, \"52\": {\"52\": 94, \"39\": 4, \"57\": 7, \"46\": 4, \"18\": 1, \"47\": 1, \"23\": 5}, \"19\": {\"19\": 126, \"44\": 7, \"40\": 5, \"55\": 1, \"51\": 1}, \"54\": {\"54\": 99, \"42\": 2, \"36\": 3, \"48\": 2, \"25\": 1, \"18\": 1}, \"56\": {\"56\": 113, \"10\": 6, \"22\": 11}, \"40\": {\"40\": 120, \"51\": 3, \"6\": 2, \"28\": 1, \"4\": 2, \"19\": 3, \"55\": 1, \"25\": 1, \"44\": 1}, \"28\": {\"28\": 27, \"26\": 1, \"48\": 2, \"33\": 1, \"25\": 1}, \"2\": {\"2\": 34, \"24\": 1, \"38\": 1}, \"9\": {\"9\": 101, \"50\": 3, \"30\": 3, \"45\": 1, \"21\": 7, \"20\": 4, \"4\": 1}, \"0\": {\"0\": 58, \"43\": 19, \"47\": 1, \"16\": 1, \"11\": 1}, \"36\": {\"36\": 88, \"53\": 1, \"8\": 2, \"12\": 1}, \"55\": {\"55\": 119, \"44\": 4, \"40\": 6, \"6\": 1}, \"35\": {\"35\": 39, \"16\": 1}, \"39\": {\"52\": 2, \"39\": 16, \"23\": 1, \"29\": 1}, \"31\": {\"31\": 28}, \"14\": {\"38\": 4, \"31\": 2, \"14\": 4, \"23\": 1, \"24\": 3, \"47\": 1, \"37\": 1}, \"12\": {\"12\": 89, \"51\": 1, \"45\": 1, \"53\": 1}, \"6\": {\"20\": 12, \"6\": 44, \"51\": 9, \"3\": 9, \"4\": 9, \"33\": 1, \"40\": 6, \"50\": 4, \"44\": 4, \"27\": 1, \"53\": 2, \"55\": 3, \"25\": 6, \"17\": 1, \"9\": 1}, \"26\": {\"26\": 23, \"9\": 1}, \"50\": {\"51\": 17, \"50\": 58, \"9\": 3, \"53\": 4, \"8\": 10, \"21\": 11, \"6\": 2, \"27\": 2, \"12\": 1, \"20\": 17, \"4\": 2, \"40\": 1, \"30\": 2, \"26\": 1, \"25\": 1}, \"21\": {\"21\": 111, \"27\": 1, \"30\": 3, \"50\": 4, \"45\": 1, \"9\": 1, \"8\": 1}, \"46\": {\"1\": 6, \"46\": 82, \"41\": 2, \"47\": 3, \"57\": 8, \"15\": 12, \"52\": 5, \"5\": 2, \"18\": 2, \"22\": 2, \"16\": 6, \"23\": 4, \"7\": 1, \"43\": 1, \"32\": 2, \"35\": 1, \"11\": 1}, \"51\": {\"51\": 119, \"20\": 16, \"50\": 4, \"3\": 1}, \"41\": {\"41\": 36}, \"34\": {\"34\": 22, \"25\": 2}, \"47\": {\"47\": 71, \"23\": 8, \"5\": 19, \"41\": 1, \"18\": 1, \"29\": 3, \"57\": 3, \"52\": 11, \"46\": 1, \"39\": 1, \"1\": 1}, \"5\": {\"5\": 45, \"47\": 18, \"4\": 2, \"15\": 1, \"41\": 1, \"57\": 8, \"46\": 3, \"23\": 6, \"29\": 9, \"42\": 1, \"52\": 6, \"54\": 2, \"6\": 1, \"48\": 1, \"35\": 2, \"3\": 1, \"16\": 1}, \"1\": {\"1\": 32, \"46\": 3, \"11\": 2, \"57\": 1, \"16\": 2}, \"48\": {\"48\": 111, \"25\": 4, \"36\": 7, \"3\": 2, \"53\": 8, \"51\": 1, \"44\": 1}, \"29\": {\"29\": 106, \"20\": 1, \"47\": 3, \"5\": 3, \"3\": 1, \"55\": 1, \"57\": 1, \"18\": 1, \"44\": 1}, \"22\": {\"22\": 110, \"56\": 10, \"10\": 6, \"11\": 1, \"43\": 1}, \"10\": {\"10\": 128, \"22\": 2, \"56\": 2}, \"32\": {\"32\": 24}, \"13\": {\"13\": 112}, \"42\": {\"18\": 3, \"42\": 28, \"54\": 1}, \"27\": {\"27\": 131, \"17\": 6, \"8\": 1}, \"8\": {\"8\": 131, \"27\": 9, \"17\": 1, \"50\": 1}, \"33\": {\"33\": 36}, \"25\": {\"25\": 53, \"44\": 2, \"53\": 10, \"36\": 8, \"19\": 3, \"48\": 30, \"21\": 2, \"6\": 1, \"20\": 7, \"3\": 2, \"34\": 3, \"40\": 5, \"50\": 3, \"51\": 2, \"9\": 1}, \"11\": {\"11\": 93, \"15\": 7, \"43\": 3, \"0\": 1}, \"53\": {\"25\": 3, \"8\": 3, \"53\": 87, \"34\": 2, \"48\": 4, \"50\": 1, \"44\": 1, \"3\": 5, \"51\": 1, \"26\": 1, \"36\": 1, \"17\": 1, \"27\": 2}}, \"C_2\": {\"32\": {\"32\": 28}, \"17\": {\"17\": 101, \"19\": 1, \"25\": 1, \"27\": 1}, \"38\": {\"38\": 18, \"11\": 1, \"43\": 1}, \"2\": {\"2\": 27, \"18\": 1, \"7\": 1, \"30\": 2, \"1\": 1}, \"43\": {\"43\": 143, \"22\": 1}, \"56\": {\"56\": 135, \"24\": 5, \"10\": 4}, \"37\": {\"37\": 30, \"11\": 4, \"38\": 1, \"31\": 1}, \"49\": {\"49\": 21, \"34\": 1, \"18\": 2}, \"0\": {\"0\": 43, \"5\": 1, \"16\": 1, \"28\": 2, \"39\": 1}, \"29\": {\"29\": 103, \"34\": 3, \"2\": 1, \"6\": 4, \"46\": 3, \"48\": 9, \"21\": 1, \"33\": 1, \"42\": 1, \"3\": 1, \"30\": 1}, \"35\": {\"35\": 32}, \"18\": {\"2\": 2, \"18\": 43, \"49\": 1, \"30\": 2}, \"25\": {\"25\": 55, \"21\": 8, \"34\": 1, \"40\": 10, \"4\": 9, \"3\": 12, \"50\": 17, \"48\": 8, \"19\": 3, \"54\": 1, \"36\": 2, \"6\": 5, \"51\": 3, \"9\": 1, \"20\": 1}, \"23\": {\"23\": 115, \"57\": 8, \"16\": 1}, \"15\": {\"15\": 143, \"16\": 1, \"5\": 2}, \"21\": {\"21\": 114, \"17\": 1, \"50\": 1, \"19\": 1, \"9\": 2, \"53\": 1}, \"51\": {\"51\": 124, \"40\": 1, \"20\": 2, \"45\": 1}, \"20\": {\"20\": 131, \"4\": 1, \"51\": 5, \"45\": 1}, \"7\": {\"52\": 2, \"7\": 30, \"1\": 3, \"57\": 1}, \"50\": {\"50\": 93, \"17\": 2, \"34\": 1, \"6\": 4, \"53\": 2, \"36\": 9, \"25\": 7, \"21\": 2, \"54\": 11, \"3\": 3, \"51\": 1, \"9\": 1}, \"31\": {\"31\": 28}, \"30\": {\"30\": 130, \"2\": 2, \"21\": 1, \"1\": 1, \"48\": 2, \"18\": 3, \"25\": 1}, \"19\": {\"19\": 148, \"21\": 2, \"44\": 3, \"40\": 2, \"45\": 1}, \"9\": {\"9\": 139, \"20\": 1, \"50\": 1, \"17\": 2, \"27\": 1}, \"52\": {\"7\": 2, \"52\": 104, \"23\": 4, \"1\": 6, \"57\": 7, \"30\": 1}, \"45\": {\"45\": 107, \"35\": 2, \"4\": 5, \"20\": 5, \"12\": 8, \"21\": 1}, \"8\": {\"8\": 139, \"27\": 3, \"53\": 12}, \"55\": {\"55\": 128, \"19\": 9, \"46\": 6, \"44\": 13, \"40\": 3, \"6\": 1}, \"12\": {\"12\": 85, \"45\": 4, \"20\": 3}, \"40\": {\"40\": 115, \"4\": 9, \"21\": 3, \"9\": 7, \"6\": 2, \"51\": 2, \"20\": 1, \"19\": 1}, \"28\": {\"28\": 24, \"5\": 1, \"0\": 3}, \"36\": {\"36\": 107, \"54\": 8, \"8\": 1}, \"39\": {\"39\": 24, \"46\": 1, \"16\": 3}, \"46\": {\"46\": 80, \"21\": 6, \"34\": 1, \"17\": 2, \"6\": 8, \"48\": 6, \"3\": 5, \"19\": 1, \"50\": 1, \"29\": 2, \"25\": 3, \"44\": 1, \"55\": 4, \"51\": 1, \"11\": 1}, \"14\": {\"56\": 2, \"2\": 1, \"14\": 4, \"55\": 2, \"43\": 4, \"1\": 2, \"7\": 3, \"10\": 2, \"47\": 2, \"42\": 2}, \"57\": {\"57\": 112, \"47\": 3, \"52\": 16, \"15\": 2, \"16\": 1, \"23\": 4, \"5\": 2, \"1\": 2}, \"34\": {\"34\": 24, \"20\": 1, \"48\": 1, \"25\": 2}, \"1\": {\"1\": 105, \"52\": 3, \"46\": 1, \"57\": 1, \"47\": 1, \"6\": 1}, \"53\": {\"53\": 117, \"6\": 2, \"50\": 3, \"36\": 4, \"8\": 8, \"17\": 1, \"25\": 1}, \"48\": {\"48\": 113, \"49\": 1, \"29\": 2, \"25\": 7, \"6\": 3, \"50\": 1, \"3\": 2, \"46\": 1}, \"3\": {\"3\": 46, \"6\": 13, \"50\": 12, \"17\": 2, \"25\": 7, \"46\": 1, \"21\": 1, \"48\": 3, \"36\": 1, \"27\": 2, \"54\": 1, \"53\": 1, \"1\": 1, \"19\": 1}, \"16\": {\"28\": 1, \"39\": 1, \"16\": 139, \"15\": 7, \"11\": 1, \"0\": 1, \"5\": 1, \"47\": 1}, \"6\": {\"6\": 59, \"36\": 3, \"41\": 1, \"53\": 6, \"3\": 9, \"25\": 9, \"50\": 17, \"54\": 3, \"27\": 1, \"48\": 3, \"29\": 1, \"8\": 3, \"9\": 2, \"34\": 1, \"51\": 1, \"17\": 1, \"46\": 1, \"21\": 2, \"40\": 1}, \"10\": {\"10\": 110, \"56\": 1, \"24\": 1}, \"13\": {\"13\": 115, \"22\": 1}, \"26\": {\"26\": 23, \"27\": 1}, \"24\": {\"24\": 89, \"10\": 2, \"13\": 2, \"56\": 3}, \"44\": {\"44\": 88, \"19\": 11, \"34\": 1}, \"27\": {\"27\": 149, \"17\": 1}, \"22\": {\"22\": 126, \"10\": 1, \"13\": 1}, \"33\": {\"33\": 28}, \"47\": {\"11\": 3, \"5\": 3, \"47\": 82, \"52\": 2, \"15\": 14, \"7\": 1, \"57\": 10, \"1\": 1, \"23\": 1, \"16\": 1}, \"5\": {\"5\": 100, \"13\": 2, \"15\": 9, \"47\": 1, \"16\": 4, \"11\": 2, \"42\": 1, \"57\": 1}, \"4\": {\"4\": 132, \"9\": 4, \"51\": 1, \"45\": 1}, \"41\": {\"41\": 19, \"49\": 1}, \"11\": {\"11\": 139, \"31\": 2, \"15\": 1, \"5\": 7, \"37\": 1}, \"54\": {\"54\": 90, \"36\": 13, \"50\": 2, \"32\": 1, \"53\": 1, \"25\": 1}, \"42\": {\"42\": 33, \"46\": 1, \"29\": 2}}, \"C_3\": {\"5\": {\"11\": 1, \"5\": 98, \"55\": 1, \"47\": 2, \"57\": 5, \"23\": 1, \"16\": 1, \"15\": 5, \"26\": 1, \"1\": 1}, \"32\": {\"32\": 24, \"8\": 2, \"53\": 1, \"17\": 1}, \"33\": {\"33\": 26, \"25\": 2}, \"49\": {\"49\": 20}, \"39\": {\"39\": 14, \"23\": 2}, \"11\": {\"11\": 137, \"15\": 3, \"31\": 1, \"5\": 1}, \"8\": {\"8\": 109, \"4\": 1, \"53\": 5, \"32\": 1}, \"26\": {\"26\": 19, \"52\": 3, \"34\": 1, \"57\": 1}, \"51\": {\"51\": 117, \"2\": 1, \"20\": 3, \"12\": 1}, \"4\": {\"4\": 146}, \"52\": {\"52\": 109, \"48\": 1, \"18\": 3, \"47\": 1, \"57\": 1, \"29\": 1, \"1\": 2}, \"47\": {\"5\": 3, \"11\": 4, \"23\": 4, \"47\": 47, \"44\": 1, \"52\": 2, \"1\": 10, \"57\": 10, \"55\": 1, \"15\": 5, \"13\": 1, \"14\": 1, \"34\": 2, \"16\": 1}, \"17\": {\"17\": 93, \"27\": 11, \"56\": 1, \"9\": 1, \"6\": 1, \"53\": 1}, \"53\": {\"8\": 8, \"53\": 121, \"36\": 2, \"54\": 2, \"20\": 1, \"17\": 1, \"27\": 1}, \"2\": {\"51\": 1, \"2\": 31}, \"12\": {\"12\": 82, \"51\": 2, \"45\": 5, \"4\": 1, \"21\": 2}, \"37\": {\"37\": 28}, \"9\": {\"9\": 139, \"33\": 1, \"19\": 1, \"53\": 1, \"30\": 1, \"25\": 3, \"50\": 1, \"27\": 1}, \"13\": {\"13\": 128}, \"54\": {\"8\": 6, \"38\": 2, \"54\": 74, \"36\": 12, \"50\": 2, \"53\": 1, \"17\": 1, \"21\": 1, \"30\": 1}, \"31\": {\"31\": 28}, \"34\": {\"34\": 22, \"1\": 1, \"57\": 4, \"26\": 1, \"52\": 1, \"5\": 2, \"23\": 1}, \"24\": {\"24\": 104}, \"7\": {\"7\": 33, \"22\": 1, \"13\": 1, \"14\": 1}, \"50\": {\"50\": 70, \"25\": 12, \"20\": 2, \"38\": 1, \"44\": 2, \"3\": 2, \"12\": 1, \"54\": 3, \"6\": 3, \"46\": 1, \"53\": 7, \"27\": 2, \"21\": 1, \"33\": 1, \"36\": 5, \"17\": 2, \"9\": 1, \"29\": 1, \"40\": 1}, \"46\": {\"50\": 2, \"46\": 83, \"6\": 6, \"25\": 3, \"9\": 6, \"40\": 1, \"52\": 2, \"55\": 5, \"29\": 3, \"3\": 9, \"48\": 5, \"27\": 1, \"21\": 1, \"30\": 1}, \"44\": {\"44\": 77, \"19\": 7, \"40\": 1, \"21\": 1, \"4\": 2}, \"40\": {\"40\": 97, \"51\": 1, \"44\": 3, \"21\": 1, \"19\": 11, \"12\": 1, \"4\": 2}, \"21\": {\"21\": 113, \"20\": 8, \"25\": 2, \"27\": 1, \"51\": 1, \"6\": 1, \"8\": 1, \"53\": 1}, \"45\": {\"45\": 46, \"32\": 1, \"4\": 3, \"12\": 5, \"51\": 4, \"21\": 1}, \"16\": {\"16\": 103, \"23\": 13, \"35\": 2, \"1\": 1, \"15\": 6, \"5\": 1}, \"14\": {\"14\": 13, \"24\": 7, \"10\": 5, \"1\": 2, \"55\": 5, \"56\": 2, \"43\": 2, \"57\": 1, \"16\": 1, \"31\": 1, \"46\": 1}, \"36\": {\"36\": 99, \"54\": 1}, \"56\": {\"56\": 111, \"24\": 2, \"10\": 1}, \"10\": {\"10\": 64}, \"18\": {\"18\": 83, \"52\": 1}, \"48\": {\"48\": 84, \"3\": 11, \"41\": 4, \"6\": 2, \"52\": 1, \"29\": 5, \"46\": 2, \"9\": 1, \"30\": 5, \"18\": 1}, \"38\": {\"38\": 25, \"27\": 1, \"53\": 1, \"2\": 1}, \"27\": {\"27\": 124, \"8\": 2, \"17\": 3, \"54\": 1}, \"42\": {\"42\": 27, \"19\": 1}, \"15\": {\"15\": 124, \"1\": 1, \"5\": 2, \"16\": 3, \"11\": 2, \"14\": 1, \"55\": 1}, \"1\": {\"1\": 91, \"34\": 3, \"57\": 3, \"16\": 1, \"52\": 1, \"29\": 1}, \"28\": {\"28\": 25, \"0\": 2, \"15\": 1}, \"43\": {\"43\": 134, \"49\": 2}, \"0\": {\"0\": 120, \"15\": 2, \"28\": 2}, \"57\": {\"57\": 104, \"1\": 4, \"34\": 3, \"47\": 4, \"35\": 1, \"23\": 4, \"5\": 3, \"52\": 1}, \"3\": {\"41\": 2, \"3\": 93, \"6\": 5, \"25\": 11, \"9\": 3, \"33\": 2, \"46\": 11, \"30\": 12, \"48\": 5, \"50\": 3, \"29\": 1}, \"29\": {\"41\": 1, \"29\": 107, \"3\": 1, \"6\": 1, \"48\": 5, \"9\": 4, \"25\": 1, \"52\": 2, \"46\": 2}, \"41\": {\"48\": 2, \"9\": 1, \"6\": 1, \"18\": 2, \"50\": 2, \"41\": 10, \"3\": 4, \"33\": 1, \"30\": 1, \"46\": 2, \"21\": 1, \"25\": 1}, \"25\": {\"4\": 2, \"20\": 3, \"50\": 10, \"40\": 15, \"33\": 3, \"19\": 7, \"25\": 48, \"9\": 4, \"30\": 12, \"3\": 12, \"6\": 6, \"36\": 1, \"54\": 3, \"44\": 3, \"21\": 12, \"48\": 4, \"27\": 1}, \"6\": {\"20\": 5, \"4\": 1, \"9\": 5, \"6\": 19, \"30\": 7, \"42\": 1, \"33\": 2, \"3\": 9, \"25\": 4, \"50\": 7, \"21\": 14, \"51\": 3, \"27\": 1, \"40\": 2, \"19\": 3, \"48\": 1, \"36\": 2, \"44\": 1, \"46\": 1}, \"35\": {\"35\": 28}, \"20\": {\"20\": 108, \"21\": 7, \"51\": 6, \"53\": 2, \"40\": 1, \"17\": 1, \"8\": 1}, \"23\": {\"23\": 128, \"16\": 6}, \"22\": {\"22\": 120, \"13\": 16, \"10\": 2, \"7\": 1, \"31\": 1}, \"19\": {\"19\": 105, \"20\": 1, \"40\": 8, \"44\": 1, \"51\": 1}, \"55\": {\"42\": 2, \"55\": 108, \"14\": 1, \"44\": 1, \"1\": 1, \"29\": 2, \"46\": 8, \"11\": 1}, \"30\": {\"30\": 112, \"6\": 1, \"48\": 2, \"3\": 1, \"25\": 4}}, \"W_2\": {\"73\": {\"73\": 22, \"85\": 1, \"109\": 2, \"96\": 1, \"84\": 1, \"4\": 1}, \"40\": {\"40\": 97, \"86\": 2, \"37\": 1, \"69\": 2, \"19\": 4, \"72\": 2, \"105\": 6, \"43\": 8, \"5\": 3, \"16\": 1, \"3\": 2, \"93\": 1, \"70\": 1, \"39\": 1, \"117\": 1}, \"99\": {\"99\": 19, \"2\": 1, \"21\": 1, \"26\": 3, \"82\": 2, \"72\": 1, \"109\": 1, \"121\": 1, \"69\": 1, \"39\": 2}, \"5\": {\"5\": 81, \"114\": 4, \"124\": 7, \"3\": 4, \"69\": 2, \"40\": 4, \"105\": 1, \"26\": 2, \"108\": 1, \"107\": 1, \"88\": 1, \"71\": 1, \"42\": 2, \"11\": 1}, \"108\": {\"53\": 1, \"128\": 1, \"112\": 2, \"108\": 51, \"124\": 10, \"59\": 1, \"23\": 1, \"12\": 4, \"106\": 2, \"107\": 1, \"114\": 9, \"110\": 1, \"27\": 2, \"24\": 4, \"4\": 2, \"122\": 8, \"98\": 7, \"11\": 2, \"111\": 4, \"8\": 7, \"15\": 1, \"7\": 2, \"0\": 1, \"104\": 1, \"71\": 2, \"105\": 3, \"127\": 1, \"3\": 1}, \"128\": {\"44\": 1, \"58\": 1, \"64\": 2, \"55\": 1, \"107\": 2, \"3\": 1, \"7\": 2, \"91\": 1, \"43\": 2, \"14\": 1, \"40\": 1, \"15\": 1, \"19\": 1, \"21\": 1, \"37\": 1, \"0\": 1, \"4\": 2, \"127\": 2}, \"89\": {\"89\": 25, \"92\": 3, \"116\": 1, \"16\": 1, \"126\": 2, \"100\": 1, \"81\": 1, \"87\": 1, \"82\": 1}, \"107\": {\"107\": 30, \"58\": 1, \"105\": 5, \"71\": 2, \"86\": 4, \"110\": 1, \"93\": 3, \"114\": 1, \"101\": 2, \"69\": 1, \"4\": 2, \"88\": 1, \"2\": 1, \"5\": 3, \"25\": 1, \"104\": 1, \"87\": 1, \"117\": 1, \"127\": 1, \"124\": 1, \"125\": 1}, \"2\": {\"2\": 28, \"89\": 2, \"117\": 1, \"97\": 1}, \"78\": {\"78\": 8, \"21\": 2, \"19\": 1, \"73\": 2, \"32\": 2, \"50\": 2, \"80\": 1, \"126\": 2, \"60\": 1, \"70\": 8, \"40\": 7, \"86\": 2, \"44\": 1, \"104\": 1, \"43\": 3, \"122\": 2, \"90\": 2, \"105\": 1}, \"85\": {\"85\": 23, \"28\": 3, \"43\": 1, \"5\": 1, \"124\": 1, \"46\": 1, \"73\": 2}, \"44\": {\"44\": 82, \"70\": 3, \"14\": 2, \"42\": 1, \"43\": 1, \"1\": 2, \"33\": 1, \"78\": 2, \"60\": 1, \"62\": 3, \"93\": 1, \"126\": 1}, \"58\": {\"58\": 14, \"15\": 2, \"6\": 3, \"51\": 1}, \"57\": {\"57\": 13, \"102\": 1, \"48\": 1, \"69\": 2, \"82\": 1, \"92\": 1, \"13\": 1}, \"41\": {\"41\": 14, \"79\": 1, \"91\": 2, \"13\": 1, \"127\": 1, \"7\": 1}, \"53\": {\"53\": 15, \"95\": 1}, \"14\": {\"119\": 2, \"90\": 2, \"93\": 1, \"14\": 26, \"83\": 1, \"69\": 2, \"50\": 1, \"62\": 4, \"21\": 1, \"89\": 1, \"100\": 1, \"38\": 1, \"43\": 2, \"26\": 1, \"18\": 1, \"118\": 1}, \"83\": {\"118\": 1, \"9\": 1, \"83\": 26, \"90\": 3, \"116\": 1, \"87\": 1, \"88\": 2, \"126\": 1, \"16\": 1, \"45\": 2, \"127\": 1}, \"119\": {\"119\": 18, \"90\": 1, \"109\": 1}, \"95\": {\"5\": 2, \"95\": 17, \"114\": 1, \"129\": 1, \"115\": 2, \"104\": 1, \"71\": 3, \"4\": 1, \"122\": 1, \"8\": 2, \"128\": 1, \"107\": 1, \"110\": 1, \"118\": 1, \"40\": 1}, \"28\": {\"28\": 15, \"19\": 1, \"97\": 1, \"1\": 1, \"85\": 1, \"5\": 1}, \"19\": {\"95\": 1, \"43\": 2, \"122\": 1, \"19\": 17, \"70\": 2, \"105\": 1, \"86\": 1, \"57\": 1, \"32\": 1, \"129\": 1}, \"69\": {\"14\": 2, \"69\": 116, \"16\": 5, \"72\": 1, \"102\": 1, \"26\": 1, \"117\": 1, \"13\": 1, \"93\": 1, \"109\": 2, \"18\": 1}, \"93\": {\"14\": 1, \"93\": 88, \"90\": 9, \"62\": 1, \"109\": 3, \"16\": 9, \"18\": 1, \"88\": 4, \"87\": 3, \"102\": 7, \"33\": 3, \"39\": 1, \"69\": 1, \"26\": 1, \"126\": 1, \"84\": 1}, \"9\": {\"9\": 29, \"75\": 2, \"15\": 1}, \"118\": {\"93\": 3, \"33\": 2, \"118\": 27, \"83\": 3, \"31\": 1, \"16\": 3, \"96\": 1, \"69\": 1, \"88\": 2, \"90\": 5, \"84\": 2, \"126\": 2, \"109\": 3, \"44\": 2, \"119\": 1, \"116\": 1, \"82\": 3, \"102\": 1, \"87\": 1, \"62\": 1, \"43\": 1, \"70\": 1, \"26\": 1}, \"43\": {\"43\": 46, \"19\": 1, \"62\": 15, \"90\": 3, \"40\": 7, \"81\": 1, \"86\": 1, \"1\": 8, \"71\": 1, \"107\": 2, \"44\": 1, \"2\": 1, \"105\": 5, \"5\": 2, \"3\": 3, \"70\": 7, \"88\": 2, \"33\": 1, \"109\": 1, \"14\": 1, \"118\": 2, \"126\": 4, \"102\": 1}, \"47\": {\"47\": 8, \"28\": 1, \"85\": 1, \"32\": 1, \"42\": 1}, \"125\": {\"125\": 119, \"36\": 9, \"94\": 2, \"15\": 3, \"24\": 3, \"27\": 3, \"106\": 2, \"101\": 2, \"18\": 1}, \"29\": {\"29\": 24, \"7\": 2, \"91\": 2, \"97\": 1, \"30\": 2, \"0\": 1}, \"122\": {\"122\": 56, \"86\": 1, \"47\": 1, \"95\": 1, \"115\": 1, \"12\": 3, \"112\": 2, \"66\": 1, \"4\": 3, \"41\": 1, \"22\": 1, \"10\": 2, \"71\": 4, \"110\": 3, \"40\": 6, \"7\": 5, \"3\": 6, \"62\": 1, \"105\": 10, \"107\": 1, \"15\": 1, \"108\": 3, \"114\": 3, \"124\": 1, \"8\": 7, \"11\": 1, \"5\": 2, \"30\": 1, \"39\": 1, \"19\": 1, \"56\": 1, \"109\": 1, \"102\": 1, \"43\": 2, \"87\": 1, \"90\": 1, \"18\": 1, \"126\": 1, \"1\": 1}, \"46\": {\"55\": 1, \"19\": 1, \"46\": 13, \"126\": 1}, \"86\": {\"122\": 1, \"86\": 13, \"105\": 7, \"107\": 1, \"110\": 2, \"129\": 3, \"22\": 1, \"71\": 3, \"8\": 1}, \"70\": {\"70\": 27, \"19\": 3, \"90\": 10, \"115\": 1, \"31\": 1, \"118\": 4, \"113\": 1, \"43\": 7, \"109\": 5, \"40\": 2, \"60\": 2, \"126\": 5, \"23\": 1, \"65\": 1, \"62\": 17, \"21\": 1, \"32\": 2, \"78\": 3, \"44\": 1, \"88\": 5, \"1\": 3, \"18\": 3, \"3\": 4, \"105\": 1, \"83\": 1, \"33\": 1, \"37\": 1, \"16\": 1, \"69\": 1, \"50\": 1, \"87\": 1, \"39\": 1, \"63\": 1, \"84\": 2, \"14\": 1, \"117\": 1, \"93\": 1}, \"51\": {\"51\": 14, \"38\": 1, \"6\": 1, \"94\": 2, \"27\": 1, \"32\": 1}, \"23\": {\"41\": 1, \"57\": 1, \"95\": 1, \"23\": 1, \"48\": 1, \"4\": 8, \"121\": 1, \"56\": 2, \"127\": 3, \"77\": 1, \"69\": 1, \"110\": 1, \"29\": 2, \"108\": 1, \"71\": 1, \"12\": 5, \"7\": 2, \"109\": 1, \"65\": 1, \"26\": 1, \"53\": 1, \"91\": 1, \"13\": 1, \"2\": 1, \"39\": 1, \"117\": 1, \"5\": 1, \"99\": 1}, \"121\": {\"21\": 2, \"57\": 1, \"121\": 20, \"113\": 2, \"120\": 1, \"48\": 1, \"65\": 2, \"2\": 1, \"39\": 1, \"16\": 2, \"18\": 1, \"109\": 2}, \"63\": {\"21\": 1, \"63\": 18, \"39\": 1}, \"102\": {\"102\": 114, \"16\": 3, \"87\": 1, \"39\": 1, \"69\": 2, \"93\": 1}, \"21\": {\"21\": 30, \"57\": 1, \"120\": 2, \"121\": 1, \"93\": 2, \"69\": 3, \"88\": 1, \"26\": 1, \"39\": 3, \"117\": 1, \"99\": 2, \"90\": 1}, \"55\": {\"55\": 12, \"19\": 1, \"84\": 1, \"116\": 1, \"23\": 1}, \"54\": {\"54\": 16, \"41\": 1, \"12\": 1, \"111\": 1, \"34\": 1}, \"6\": {\"6\": 27, \"9\": 1, \"15\": 1, \"58\": 1, \"51\": 1, \"75\": 1}, \"109\": {\"20\": 1, \"109\": 47, \"90\": 11, \"84\": 4, \"87\": 4, \"88\": 10, \"126\": 4, \"118\": 4, \"93\": 6, \"70\": 1, \"62\": 1, \"119\": 1, \"120\": 1, \"117\": 1, \"99\": 1, \"8\": 1, \"21\": 1, \"26\": 1}, \"64\": {\"89\": 1, \"46\": 1, \"64\": 12, \"62\": 1, \"1\": 1}, \"20\": {\"20\": 13, \"109\": 1, \"16\": 2}, \"98\": {\"54\": 2, \"98\": 61, \"34\": 1, \"49\": 1, \"121\": 1, \"59\": 1, \"12\": 8, \"111\": 12, \"24\": 2, \"106\": 3, \"108\": 7, \"30\": 2, \"11\": 2, \"7\": 3, \"127\": 3, \"52\": 1, \"87\": 1, \"69\": 1, \"122\": 2}, \"92\": {\"92\": 17, \"13\": 1, \"82\": 2, \"118\": 1, \"21\": 1, \"67\": 2, \"33\": 1, \"57\": 1, \"84\": 1, \"31\": 1}, \"35\": {\"128\": 2, \"97\": 3, \"35\": 4, \"111\": 2, \"91\": 1}, \"113\": {\"113\": 57, \"26\": 1, \"18\": 2, \"117\": 7, \"39\": 2, \"23\": 1, \"87\": 1, \"118\": 1}, \"71\": {\"95\": 3, \"71\": 60, \"56\": 1, \"115\": 2, \"121\": 1, \"108\": 3, \"4\": 2, \"124\": 1, \"11\": 2, \"118\": 1, \"3\": 3, \"114\": 6, \"110\": 3, \"107\": 3, \"7\": 1, \"117\": 1, \"104\": 2, \"18\": 1, \"105\": 1, \"122\": 1, \"5\": 1, \"109\": 1}, \"94\": {\"91\": 1, \"99\": 3, \"111\": 3, \"94\": 18, \"6\": 4, \"106\": 3, \"36\": 4, \"69\": 1, \"51\": 1, \"77\": 4, \"113\": 2, \"89\": 1, \"125\": 7, \"27\": 2, \"34\": 2, \"127\": 1, \"20\": 1, \"26\": 1, \"68\": 1, \"88\": 1, \"15\": 1, \"87\": 1, \"0\": 1}, \"52\": {\"91\": 4, \"52\": 9, \"111\": 2, \"68\": 1, \"103\": 2, \"26\": 1, \"34\": 1}, \"116\": {\"64\": 1, \"87\": 1, \"93\": 2, \"116\": 7, \"72\": 2, \"16\": 2, \"89\": 1, \"83\": 2, \"99\": 1, \"90\": 1, \"45\": 1, \"92\": 1, \"109\": 2, \"31\": 1, \"82\": 2, \"102\": 1}, \"87\": {\"92\": 1, \"87\": 33, \"83\": 2, \"33\": 15, \"70\": 1, \"31\": 1, \"113\": 1, \"90\": 8, \"82\": 2, \"119\": 2, \"84\": 8, \"18\": 4, \"69\": 2, \"118\": 3, \"93\": 2, \"62\": 1, \"1\": 1, \"88\": 5, \"109\": 2, \"102\": 5, \"26\": 1, \"67\": 1, \"37\": 1, \"96\": 1, \"89\": 1, \"14\": 1, \"63\": 1, \"16\": 1, \"126\": 2, \"44\": 2, \"117\": 1}, \"90\": {\"87\": 5, \"20\": 1, \"90\": 107, \"76\": 1, \"83\": 1, \"96\": 2, \"88\": 8, \"126\": 6, \"102\": 1, \"118\": 3, \"93\": 4, \"33\": 7, \"119\": 1, \"1\": 1}, \"91\": {\"91\": 22, \"52\": 3, \"77\": 1, \"54\": 2}, \"84\": {\"84\": 67, \"121\": 1, \"64\": 1, \"87\": 4, \"117\": 1, \"33\": 12, \"126\": 1, \"1\": 1, \"113\": 1, \"90\": 2, \"26\": 1}, \"24\": {\"55\": 1, \"122\": 2, \"36\": 5, \"111\": 5, \"53\": 1, \"24\": 11, \"40\": 4, \"51\": 1, \"15\": 10, \"25\": 1, \"65\": 1, \"129\": 2, \"93\": 2, \"125\": 10, \"124\": 3, \"10\": 1, \"27\": 2, \"39\": 2, \"107\": 2, \"109\": 1, \"43\": 6, \"108\": 2, \"101\": 5, \"106\": 5, \"30\": 2, \"26\": 1, \"8\": 1, \"56\": 1, \"23\": 1, \"47\": 1, \"97\": 1, \"4\": 1, \"103\": 1, \"84\": 1, \"9\": 1, \"90\": 1, \"95\": 2, \"3\": 2, \"18\": 1, \"94\": 1, \"0\": 3, \"105\": 2, \"117\": 2, \"5\": 1}, \"33\": {\"33\": 125, \"69\": 2, \"1\": 1, \"87\": 1, \"84\": 4, \"117\": 1}, \"81\": {\"81\": 20, \"113\": 1, \"72\": 1, \"69\": 1, \"101\": 1}, \"115\": {\"115\": 4, \"122\": 3, \"70\": 1, \"4\": 2, \"98\": 1, \"71\": 1}, \"77\": {\"77\": 14, \"79\": 1, \"97\": 1}, \"106\": {\"106\": 83, \"94\": 5, \"36\": 4, \"72\": 1, \"27\": 5, \"15\": 4, \"125\": 4, \"111\": 5, \"16\": 1, \"30\": 3, \"0\": 2, \"71\": 1, \"127\": 1, \"24\": 1}, \"42\": {\"28\": 2, \"42\": 2, \"56\": 2, \"103\": 1, \"91\": 1, \"77\": 1, \"59\": 1, \"52\": 1, \"81\": 1, \"29\": 3, \"93\": 1, \"12\": 1, \"32\": 1, \"120\": 1, \"50\": 2, \"22\": 1, \"127\": 2, \"117\": 1, \"62\": 1, \"73\": 1, \"43\": 1}, \"38\": {\"38\": 16}, \"36\": {\"36\": 49, \"121\": 1, \"25\": 1, \"15\": 5, \"27\": 9, \"125\": 12, \"14\": 1, \"101\": 9, \"2\": 1, \"106\": 5, \"127\": 1, \"39\": 1, \"30\": 4, \"0\": 3, \"69\": 2, \"111\": 3, \"113\": 1, \"9\": 1, \"117\": 1, \"24\": 3, \"98\": 1}, \"79\": {\"79\": 15, \"103\": 1}, \"60\": {\"28\": 1, \"93\": 1, \"60\": 12, \"115\": 1, \"92\": 1, \"87\": 1, \"70\": 2, \"127\": 1, \"44\": 2, \"43\": 1, \"46\": 1, \"38\": 1, \"107\": 2, \"126\": 1}, \"80\": {\"80\": 7, \"87\": 1, \"1\": 3, \"120\": 1, \"33\": 1, \"19\": 1, \"88\": 1, \"76\": 1}, \"32\": {\"76\": 2, \"32\": 22, \"14\": 1, \"44\": 2, \"122\": 1, \"105\": 5, \"110\": 1, \"95\": 1, \"33\": 1}, \"0\": {\"0\": 72, \"111\": 13, \"126\": 1, \"8\": 1, \"30\": 10, \"24\": 2, \"7\": 2, \"98\": 3, \"101\": 1, \"127\": 5, \"54\": 2, \"68\": 1, \"94\": 1, \"11\": 1, \"108\": 1}, \"127\": {\"127\": 105, \"111\": 10, \"98\": 1, \"18\": 1, \"25\": 2, \"103\": 1, \"79\": 2, \"12\": 1, \"0\": 1}, \"114\": {\"114\": 86, \"5\": 1, \"69\": 1, \"71\": 5, \"124\": 6, \"3\": 6, \"8\": 3, \"0\": 1, \"11\": 1, \"107\": 1, \"108\": 1, \"36\": 1, \"109\": 1, \"12\": 1, \"122\": 1}, \"62\": {\"62\": 127, \"69\": 1, \"43\": 3, \"26\": 1, \"44\": 2, \"55\": 1, \"70\": 3, \"88\": 1, \"1\": 1}, \"129\": {\"95\": 2, \"129\": 8, \"73\": 1, \"115\": 1, \"62\": 1, \"5\": 2, \"28\": 2, \"19\": 3, \"71\": 1, \"124\": 3, \"23\": 3, \"128\": 1, \"3\": 2, \"108\": 2}, \"56\": {\"56\": 9, \"11\": 1, \"107\": 1, \"4\": 1}, \"76\": {\"76\": 11, \"90\": 1, \"42\": 2, \"60\": 1, \"80\": 1}, \"72\": {\"72\": 21, \"89\": 1, \"90\": 1, \"69\": 1, \"88\": 1, \"9\": 1, \"96\": 1, \"16\": 1}, \"88\": {\"90\": 15, \"99\": 1, \"39\": 5, \"88\": 43, \"33\": 3, \"118\": 7, \"93\": 7, \"87\": 6, \"16\": 6, \"44\": 1, \"43\": 3, \"84\": 3, \"109\": 5, \"83\": 2, \"116\": 1, \"64\": 1, \"62\": 4, \"126\": 7, \"21\": 1, \"69\": 1, \"1\": 1, \"102\": 1}, \"68\": {\"68\": 5, \"52\": 1, \"59\": 1, \"54\": 2, \"87\": 1, \"29\": 2, \"77\": 2, \"90\": 1, \"0\": 1}, \"67\": {\"67\": 11, \"96\": 2, \"21\": 1, \"80\": 1, \"93\": 1}, \"100\": {\"100\": 13, \"16\": 1, \"89\": 1, \"93\": 1}, \"34\": {\"34\": 4, \"115\": 1, \"108\": 1, \"71\": 3, \"127\": 1, \"7\": 2, \"110\": 1, \"91\": 1, \"29\": 1, \"21\": 1, \"111\": 2, \"24\": 1, \"8\": 1, \"119\": 1, \"122\": 1, \"54\": 2, \"53\": 1, \"10\": 1, \"98\": 1, \"3\": 2, \"101\": 1, \"68\": 2}, \"16\": {\"16\": 66, \"100\": 1, \"82\": 1, \"39\": 9, \"93\": 4, \"102\": 12, \"126\": 2, \"69\": 17, \"88\": 3, \"70\": 1, \"87\": 1, \"21\": 1, \"90\": 1, \"81\": 1, \"72\": 2, \"118\": 1, \"33\": 1}, \"126\": {\"67\": 1, \"60\": 1, \"126\": 43, \"119\": 3, \"46\": 2, \"78\": 1, \"83\": 4, \"14\": 2, \"44\": 3, \"88\": 6, \"33\": 5, \"90\": 8, \"84\": 7, \"102\": 2, \"70\": 3, \"62\": 3, \"1\": 7, \"109\": 6, \"16\": 1, \"87\": 4, \"118\": 3, \"37\": 1, \"93\": 3, \"45\": 1}, \"4\": {\"4\": 59, \"95\": 7, \"107\": 3, \"16\": 1, \"14\": 1, \"71\": 4, \"3\": 5, \"39\": 1, \"110\": 3, \"108\": 1, \"0\": 1, \"8\": 2}, \"101\": {\"101\": 144, \"0\": 1, \"111\": 1}, \"104\": {\"115\": 2, \"104\": 10, \"105\": 1, \"112\": 2, \"4\": 2, \"71\": 1, \"27\": 1, \"102\": 1}, \"30\": {\"67\": 1, \"127\": 10, \"15\": 4, \"91\": 1, \"94\": 2, \"30\": 45, \"129\": 1, \"58\": 1, \"106\": 10, \"7\": 3, \"0\": 6, \"101\": 7, \"111\": 7, \"98\": 3, \"105\": 1, \"29\": 1, \"79\": 1, \"8\": 1, \"125\": 1, \"18\": 1, \"24\": 1, \"69\": 1, \"108\": 1}, \"8\": {\"127\": 1, \"95\": 1, \"8\": 71, \"71\": 6, \"12\": 3, \"11\": 5, \"110\": 4, \"4\": 2, \"3\": 5, \"49\": 3, \"7\": 5, \"122\": 3, \"0\": 1, \"24\": 3, \"5\": 2, \"105\": 2, \"114\": 2, \"108\": 4, \"93\": 1, \"34\": 1, \"113\": 1, \"36\": 1, \"124\": 1}, \"82\": {\"82\": 29, \"16\": 1, \"93\": 1, \"69\": 2, \"67\": 1, \"89\": 1, \"117\": 1}, \"26\": {\"26\": 100, \"87\": 3, \"113\": 3, \"117\": 13, \"118\": 1, \"39\": 2, \"18\": 7, \"21\": 1, \"102\": 1, \"2\": 1, \"96\": 2, \"23\": 1, \"69\": 3}, \"96\": {\"96\": 13, \"126\": 3, \"82\": 1, \"93\": 1, \"76\": 1, \"67\": 1}, \"3\": {\"129\": 1, \"3\": 77, \"112\": 1, \"5\": 9, \"128\": 2, \"4\": 2, \"114\": 12, \"42\": 2, \"105\": 4, \"122\": 4, \"124\": 2, \"71\": 5, \"7\": 1, \"11\": 1, \"8\": 1, \"30\": 4, \"107\": 1, \"19\": 1, \"59\": 1, \"39\": 1, \"23\": 1, \"24\": 1, \"102\": 1, \"108\": 1}, \"25\": {\"25\": 12, \"118\": 1, \"99\": 1, \"6\": 2}, \"13\": {\"13\": 7, \"21\": 1, \"69\": 3, \"125\": 1, \"82\": 1, \"119\": 2, \"113\": 1}, \"37\": {\"62\": 2, \"37\": 9, \"45\": 2, \"43\": 1, \"16\": 1, \"55\": 1}, \"49\": {\"115\": 1, \"98\": 3, \"113\": 1, \"111\": 1, \"40\": 2, \"54\": 1, \"107\": 1, \"92\": 1, \"71\": 1, \"3\": 3, \"127\": 2, \"12\": 2, \"5\": 1, \"2\": 1, \"95\": 1, \"110\": 1, \"39\": 1}, \"111\": {\"111\": 114, \"98\": 6, \"59\": 1, \"127\": 8, \"0\": 2, \"108\": 1, \"30\": 3, \"106\": 1}, \"105\": {\"105\": 119, \"40\": 4, \"122\": 1, \"3\": 3, \"32\": 1, \"113\": 1, \"107\": 1, \"78\": 1, \"30\": 1}, \"17\": {\"35\": 2, \"56\": 2, \"121\": 1, \"113\": 1, \"19\": 1, \"7\": 3, \"107\": 1, \"17\": 1, \"26\": 1, \"4\": 3}, \"65\": {\"65\": 11, \"2\": 2, \"57\": 1, \"81\": 2, \"18\": 2, \"117\": 1, \"26\": 1}, \"123\": {\"74\": 2, \"123\": 12, \"6\": 1, \"122\": 1}, \"74\": {\"35\": 2, \"126\": 1, \"74\": 10, \"48\": 1, \"8\": 2}, \"97\": {\"97\": 11, \"15\": 1, \"78\": 1, \"58\": 2, \"109\": 1, \"101\": 1, \"77\": 2, \"90\": 1}, \"112\": {\"112\": 8, \"123\": 1, \"24\": 1, \"12\": 1, \"47\": 1, \"95\": 2, \"108\": 2}, \"120\": {\"120\": 17, \"121\": 1, \"20\": 2}, \"50\": {\"14\": 4, \"50\": 9, \"39\": 1, \"125\": 1, \"55\": 1}, \"59\": {\"98\": 1, \"20\": 1, \"91\": 1, \"12\": 1, \"59\": 8, \"25\": 2, \"29\": 2}, \"10\": {\"14\": 1, \"10\": 25, \"61\": 2, \"63\": 2, \"7\": 3, \"60\": 1, \"81\": 1, \"70\": 1, \"29\": 4, \"34\": 1, \"22\": 2, \"113\": 1, \"110\": 2, \"53\": 1, \"50\": 1, \"127\": 3, \"39\": 1, \"32\": 1, \"86\": 1, \"43\": 1, \"8\": 1, \"122\": 1, \"24\": 1, \"11\": 1, \"87\": 1}, \"45\": {\"45\": 12, \"33\": 1, \"82\": 1, \"88\": 1, \"118\": 1}, \"12\": {\"112\": 1, \"12\": 44, \"54\": 1, \"24\": 3, \"111\": 6, \"106\": 2, \"21\": 1, \"7\": 4, \"98\": 2, \"49\": 1, \"16\": 1, \"127\": 6, \"108\": 1, \"117\": 1, \"97\": 1, \"4\": 3, \"59\": 2, \"25\": 1, \"30\": 2, \"41\": 1, \"8\": 1, \"94\": 1, \"122\": 2}, \"75\": {\"51\": 2, \"75\": 6, \"19\": 1, \"15\": 2, \"9\": 1, \"101\": 2, \"6\": 1, \"58\": 1}, \"48\": {\"48\": 17, \"26\": 1, \"113\": 1, \"69\": 1}, \"61\": {\"61\": 16, \"120\": 2, \"69\": 1, \"8\": 1}, \"124\": {\"86\": 1, \"124\": 65, \"5\": 13, \"85\": 1, \"72\": 1, \"4\": 1, \"107\": 2, \"71\": 3, \"108\": 4, \"3\": 10, \"43\": 1, \"114\": 9, \"56\": 2, \"23\": 1, \"115\": 2, \"11\": 2, \"16\": 1, \"106\": 1, \"40\": 3, \"24\": 1}, \"11\": {\"124\": 4, \"56\": 1, \"68\": 1, \"54\": 2, \"107\": 2, \"11\": 27, \"86\": 2, \"122\": 4, \"24\": 3, \"4\": 3, \"98\": 5, \"117\": 1, \"3\": 3, \"114\": 1, \"39\": 1, \"5\": 1, \"0\": 1, \"70\": 1, \"8\": 4, \"111\": 2, \"106\": 2, \"129\": 2, \"49\": 2, \"42\": 1, \"94\": 1, \"26\": 1, \"71\": 1, \"105\": 1}, \"103\": {\"103\": 11, \"45\": 1, \"91\": 1, \"30\": 1, \"109\": 1, \"54\": 1}, \"7\": {\"7\": 94, \"54\": 1, \"86\": 1, \"34\": 1, \"23\": 1, \"12\": 7, \"117\": 1, \"10\": 1, \"109\": 1, \"114\": 1, \"122\": 9, \"26\": 1, \"11\": 2, \"81\": 1, \"127\": 3, \"8\": 4, \"71\": 2, \"124\": 1}, \"18\": {\"18\": 102, \"121\": 2, \"88\": 1, \"26\": 7, \"117\": 4, \"113\": 2, \"23\": 1, \"69\": 1}, \"31\": {\"31\": 11, \"45\": 1, \"69\": 1, \"118\": 1, \"82\": 1, \"126\": 3, \"92\": 2}, \"15\": {\"6\": 2, \"36\": 8, \"15\": 58, \"25\": 3, \"125\": 6, \"75\": 1, \"51\": 1, \"0\": 2, \"101\": 15, \"117\": 2, \"106\": 3, \"30\": 6, \"27\": 1, \"34\": 1, \"58\": 1, \"9\": 2, \"127\": 4, \"24\": 2}, \"1\": {\"1\": 111, \"99\": 1, \"93\": 1, \"118\": 1, \"62\": 1, \"33\": 2, \"117\": 1, \"44\": 1, \"126\": 2, \"70\": 1}, \"66\": {\"66\": 16, \"98\": 1, \"44\": 1, \"128\": 1, \"55\": 1}, \"110\": {\"122\": 2, \"4\": 3, \"81\": 1, \"71\": 2, \"110\": 21, \"65\": 1, \"93\": 1, \"8\": 1, \"26\": 1, \"57\": 1, \"10\": 1, \"121\": 1, \"128\": 1, \"86\": 1, \"113\": 1, \"88\": 1}, \"27\": {\"27\": 24, \"25\": 1, \"91\": 1, \"36\": 5, \"117\": 3, \"69\": 1, \"24\": 2, \"2\": 1, \"101\": 3, \"111\": 4, \"127\": 3, \"125\": 6, \"49\": 1, \"52\": 1, \"15\": 2, \"6\": 1, \"9\": 1, \"99\": 1, \"12\": 1, \"102\": 1, \"106\": 3, \"113\": 1, \"118\": 1}, \"22\": {\"22\": 17, \"61\": 1, \"125\": 1, \"27\": 1}, \"117\": {\"117\": 109, \"113\": 10, \"18\": 1}, \"39\": {\"120\": 3, \"14\": 1, \"89\": 2, \"126\": 1, \"26\": 11, \"113\": 1, \"39\": 38, \"118\": 3, \"62\": 1, \"93\": 3, \"109\": 6, \"88\": 8, \"69\": 5, \"70\": 1, \"90\": 5, \"18\": 3, \"16\": 2, \"102\": 3, \"20\": 1, \"72\": 1, \"2\": 1, \"63\": 1, \"82\": 1, \"21\": 4, \"87\": 2}}, \"C_1\": {\"24\": {\"24\": 93, \"22\": 13, \"10\": 2}, \"25\": {\"9\": 7, \"25\": 93, \"8\": 2, \"30\": 10, \"6\": 1, \"42\": 3, \"19\": 2, \"48\": 1, \"1\": 1, \"13\": 3, \"40\": 1, \"45\": 11, \"51\": 2, \"5\": 1, \"53\": 1, \"20\": 1}, \"45\": {\"45\": 98, \"1\": 10, \"42\": 4, \"25\": 16, \"9\": 2, \"53\": 3, \"19\": 5, \"56\": 1, \"26\": 1, \"30\": 3, \"18\": 1}, \"42\": {\"42\": 35, \"25\": 2, \"45\": 1, \"30\": 1, \"20\": 1}, \"2\": {\"2\": 34, \"5\": 2}, \"9\": {\"9\": 148, \"12\": 1, \"46\": 1}, \"21\": {\"21\": 123, \"22\": 1}, \"26\": {\"26\": 20, \"25\": 3, \"42\": 1}, \"49\": {\"49\": 29, \"15\": 2, \"0\": 1}, \"39\": {\"39\": 26, \"15\": 1, \"24\": 1}, \"46\": {\"46\": 112, \"5\": 3, \"40\": 5, \"50\": 6, \"4\": 7, \"48\": 2, \"51\": 1}, \"17\": {\"17\": 64}, \"19\": {\"19\": 96, \"1\": 9, \"56\": 9, \"57\": 23, \"42\": 5, \"30\": 3, \"25\": 1, \"45\": 7, \"9\": 2, \"29\": 1}, \"23\": {\"23\": 132}, \"1\": {\"19\": 10, \"1\": 67, \"45\": 7, \"55\": 2, \"56\": 3, \"20\": 2, \"25\": 5, \"57\": 4}, \"29\": {\"29\": 121, \"57\": 4, \"20\": 1, \"19\": 4, \"13\": 6, \"51\": 2, \"56\": 2}, \"56\": {\"55\": 6, \"56\": 103, \"7\": 2, \"57\": 20, \"19\": 10, \"1\": 1, \"29\": 4, \"25\": 2, \"45\": 2}, \"37\": {\"37\": 32}, \"33\": {\"33\": 32}, \"55\": {\"55\": 88, \"56\": 4, \"19\": 12, \"1\": 7, \"44\": 4, \"3\": 11, \"57\": 8, \"25\": 3, \"54\": 1, \"45\": 3, \"29\": 1}, \"30\": {\"30\": 115, \"9\": 2, \"53\": 1, \"25\": 2}, \"0\": {\"0\": 145, \"15\": 4, \"49\": 3}, \"36\": {\"36\": 61, \"0\": 3}, \"32\": {\"32\": 26, \"44\": 2, \"35\": 1, \"16\": 1, \"54\": 2}, \"31\": {\"31\": 28}, \"15\": {\"15\": 128, \"49\": 2, \"11\": 5, \"22\": 2, \"0\": 1}, \"12\": {\"12\": 116}, \"38\": {\"15\": 1, \"38\": 21, \"0\": 2}, \"40\": {\"40\": 142, \"41\": 1, \"12\": 2, \"46\": 1}, \"14\": {\"14\": 19, \"26\": 1, \"30\": 2, \"53\": 2}, \"13\": {\"13\": 142, \"51\": 7, \"41\": 1}, \"48\": {\"48\": 141, \"5\": 3, \"6\": 4}, \"34\": {\"34\": 24}, \"44\": {\"44\": 116, \"35\": 5, \"32\": 1, \"16\": 4, \"47\": 1, \"54\": 2, \"0\": 1}, \"5\": {\"5\": 99, \"2\": 5, \"48\": 22, \"46\": 2, \"50\": 8, \"6\": 7, \"17\": 6, \"8\": 2, \"4\": 1}, \"11\": {\"11\": 128, \"10\": 1, \"22\": 1, \"15\": 9, \"47\": 1}, \"7\": {\"7\": 27, \"13\": 1}, \"18\": {\"18\": 69, \"45\": 3}, \"52\": {\"52\": 117, \"11\": 4, \"31\": 3, \"28\": 1, \"47\": 3, \"22\": 3, \"15\": 1}, \"51\": {\"51\": 138, \"13\": 4}, \"41\": {\"41\": 24}, \"16\": {\"16\": 127, \"54\": 13}, \"22\": {\"22\": 109, \"24\": 13, \"39\": 2, \"43\": 1, \"21\": 4, \"27\": 2, \"10\": 3}, \"3\": {\"3\": 131, \"16\": 2, \"20\": 2, \"44\": 4, \"57\": 1}, \"54\": {\"16\": 14, \"54\": 88, \"44\": 2}, \"27\": {\"27\": 144}, \"20\": {\"20\": 137, \"51\": 3}, \"8\": {\"8\": 135, \"53\": 3}, \"50\": {\"50\": 144}, \"57\": {\"57\": 100, \"19\": 14, \"56\": 18, \"29\": 3, \"45\": 1, \"55\": 1, \"42\": 1, \"1\": 2}, \"4\": {\"4\": 127, \"50\": 2, \"46\": 3}, \"47\": {\"47\": 132, \"35\": 2, \"52\": 5, \"11\": 3, \"44\": 3, \"49\": 1}, \"10\": {\"24\": 8, \"10\": 79, \"22\": 7, \"39\": 1, \"43\": 1}, \"35\": {\"35\": 34, \"44\": 1, \"38\": 1}, \"53\": {\"53\": 108, \"9\": 7, \"8\": 8, \"14\": 3}, \"6\": {\"2\": 6, \"6\": 72, \"48\": 9, \"17\": 2, \"5\": 5, \"20\": 1, \"46\": 1}, \"43\": {\"43\": 132, \"27\": 7, \"39\": 1}, \"28\": {\"28\": 26, \"52\": 1, \"47\": 1}}, \"W_1\": {\"60\": {\"105\": 2, \"4\": 2, \"32\": 1, \"108\": 1, \"34\": 1, \"95\": 1, \"8\": 1, \"60\": 1, \"11\": 1, \"48\": 1, \"104\": 1, \"26\": 1, \"13\": 1, \"23\": 1}, \"59\": {\"62\": 1, \"59\": 7, \"6\": 2, \"125\": 1, \"67\": 1}, \"107\": {\"107\": 108, \"72\": 3, \"17\": 1, \"70\": 1, \"98\": 4, \"93\": 2, \"101\": 1, \"106\": 1, \"90\": 1, \"108\": 1, \"127\": 1}, \"113\": {\"113\": 112, \"16\": 3, \"118\": 1, \"117\": 3, \"102\": 2, \"33\": 1, \"26\": 1, \"69\": 1}, \"6\": {\"6\": 17, \"59\": 1, \"13\": 1, \"15\": 2, \"0\": 1, \"95\": 1, \"71\": 2, \"94\": 1, \"125\": 1, \"69\": 1, \"52\": 1, \"88\": 2, \"127\": 1}, \"24\": {\"24\": 21, \"4\": 6, \"70\": 1, \"127\": 5, \"94\": 4, \"17\": 1, \"97\": 2, \"12\": 4, \"106\": 5, \"107\": 2, \"108\": 4, \"52\": 1, \"89\": 1, \"27\": 5, \"98\": 7, \"30\": 3, \"5\": 3, \"72\": 1, \"125\": 2, \"71\": 2, \"93\": 2, \"49\": 1, \"73\": 1, \"15\": 2, \"32\": 1, \"101\": 3, \"117\": 1, \"111\": 1}, \"50\": {\"50\": 11, \"62\": 1, \"33\": 1, \"65\": 1, \"110\": 1, \"81\": 1}, \"62\": {\"62\": 114, \"90\": 3, \"109\": 2, \"33\": 1}, \"48\": {\"44\": 1, \"48\": 11}, \"104\": {\"60\": 1, \"104\": 14, \"22\": 1}, \"105\": {\"104\": 1, \"105\": 67, \"40\": 10, \"87\": 1, \"26\": 1, \"84\": 2, \"108\": 1, \"15\": 1}, \"44\": {\"44\": 65, \"105\": 1, \"17\": 1, \"7\": 1, \"43\": 1, \"40\": 4, \"87\": 2, \"84\": 1}, \"49\": {\"4\": 2, \"49\": 6, \"56\": 2, \"103\": 1, \"73\": 1, \"127\": 3, \"77\": 1, \"110\": 1, \"37\": 1, \"52\": 1, \"43\": 1}, \"55\": {\"55\": 12}, \"4\": {\"107\": 5, \"32\": 2, \"4\": 70, \"40\": 6, \"34\": 2, \"70\": 2, \"108\": 3, \"5\": 1, \"105\": 1, \"93\": 2, \"17\": 1, \"55\": 1, \"42\": 2, \"86\": 2}, \"76\": {\"76\": 15, \"90\": 1}, \"85\": {\"85\": 24, \"0\": 4, \"110\": 2, \"101\": 1, \"12\": 1}, \"89\": {\"89\": 22, \"106\": 3, \"9\": 3, \"70\": 1, \"98\": 1, \"94\": 1, \"29\": 2, \"107\": 3}, \"74\": {\"74\": 16}, \"112\": {\"32\": 1, \"30\": 1, \"112\": 8, \"127\": 1, \"37\": 1, \"52\": 2, \"27\": 2}, \"79\": {\"84\": 2, \"79\": 9, \"124\": 1}, \"0\": {\"91\": 1, \"118\": 1, \"0\": 49, \"85\": 4, \"110\": 8, \"30\": 2, \"72\": 1, \"101\": 8, \"93\": 1, \"127\": 3, \"32\": 1, \"10\": 2, \"12\": 1, \"98\": 2}, \"91\": {\"91\": 19, \"32\": 1, \"101\": 2, \"127\": 1, \"71\": 1, \"56\": 2, \"30\": 2}, \"118\": {\"118\": 54, \"13\": 1, \"69\": 2, \"18\": 5, \"26\": 4, \"117\": 5, \"39\": 6, \"16\": 4, \"50\": 1, \"27\": 1, \"33\": 1}, \"80\": {\"80\": 14, \"90\": 1, \"115\": 1}, \"64\": {\"64\": 16}, \"97\": {\"97\": 5, \"89\": 1, \"112\": 2, \"27\": 1, \"54\": 1, \"111\": 1, \"24\": 1, \"98\": 2, \"71\": 3, \"91\": 1, \"106\": 1, \"9\": 1}, \"84\": {\"84\": 98, \"43\": 6, \"124\": 1, \"114\": 6, \"87\": 2, \"23\": 1, \"42\": 1, \"70\": 1, \"126\": 4, \"44\": 1, \"7\": 1, \"14\": 1, \"1\": 1}, \"38\": {\"80\": 1, \"38\": 13, \"61\": 1, \"96\": 1}, \"30\": {\"112\": 2, \"32\": 1, \"30\": 18, \"127\": 5, \"97\": 1, \"125\": 2, \"15\": 3, \"0\": 1, \"94\": 1, \"36\": 2, \"59\": 2, \"75\": 4, \"92\": 1, \"91\": 1, \"101\": 4, \"24\": 1, \"10\": 1, \"27\": 1, \"12\": 1}, \"32\": {\"32\": 17, \"16\": 1, \"0\": 2, \"91\": 1, \"86\": 1, \"110\": 2, \"53\": 1, \"127\": 2, \"101\": 1, \"113\": 2, \"98\": 1, \"111\": 1}, \"72\": {\"72\": 28, \"40\": 1, \"5\": 1, \"4\": 1, \"107\": 1}, \"33\": {\"33\": 124, \"23\": 1, \"96\": 1, \"11\": 3, \"109\": 1, \"3\": 1, \"102\": 1}, \"34\": {\"24\": 1, \"107\": 1, \"7\": 4, \"88\": 1, \"27\": 1, \"68\": 2, \"44\": 4, \"43\": 1, \"77\": 1, \"111\": 3, \"53\": 1, \"6\": 1, \"34\": 3, \"83\": 1, \"36\": 1, \"0\": 1, \"87\": 1, \"70\": 1, \"56\": 1, \"42\": 1, \"98\": 1}, \"28\": {\"38\": 1, \"107\": 1, \"76\": 1, \"28\": 12, \"128\": 2, \"8\": 1, \"64\": 1, \"87\": 1}, \"123\": {\"123\": 12, \"3\": 1, \"119\": 2, \"2\": 1}, \"2\": {\"33\": 3, \"2\": 11, \"102\": 3, \"16\": 3, \"3\": 1, \"45\": 1, \"118\": 2, \"117\": 1, \"95\": 3, \"13\": 1, \"116\": 2, \"11\": 1}, \"70\": {\"34\": 1, \"70\": 18, \"50\": 1, \"5\": 8, \"98\": 2, \"128\": 2, \"107\": 7, \"96\": 1, \"42\": 1, \"7\": 2, \"43\": 5, \"4\": 4, \"44\": 2, \"21\": 2, \"108\": 6, \"24\": 2, \"106\": 5, \"8\": 3, \"69\": 2, \"122\": 2, \"109\": 2, \"126\": 2, \"39\": 1, \"40\": 5, \"93\": 6, \"90\": 5, \"33\": 3, \"84\": 1, \"72\": 3, \"65\": 1, \"28\": 1, \"9\": 3, \"41\": 1, \"14\": 4, \"45\": 1, \"62\": 4, \"110\": 2, \"124\": 1, \"10\": 2}, \"127\": {\"127\": 89, \"91\": 2, \"49\": 1, \"78\": 1, \"12\": 3, \"24\": 4, \"111\": 2, \"94\": 2, \"10\": 1, \"71\": 3}, \"110\": {\"110\": 92, \"0\": 8, \"55\": 1, \"101\": 10, \"98\": 5, \"88\": 1, \"10\": 1, \"39\": 1, \"71\": 1, \"113\": 1, \"30\": 1, \"32\": 1, \"12\": 1, \"93\": 2, \"69\": 1, \"16\": 1}, \"126\": {\"126\": 39, \"109\": 4, \"84\": 11, \"129\": 1, \"78\": 1, \"3\": 3, \"1\": 7, \"77\": 1, \"19\": 3, \"8\": 2, \"87\": 5, \"90\": 9, \"70\": 2, \"114\": 6, \"62\": 6, \"4\": 1, \"40\": 3, \"124\": 5, \"7\": 4, \"43\": 3, \"14\": 5, \"106\": 1, \"102\": 1, \"5\": 3, \"120\": 1, \"72\": 1, \"122\": 4, \"93\": 1, \"105\": 1, \"33\": 1, \"108\": 1}, \"13\": {\"13\": 12, \"18\": 1, \"26\": 2, \"118\": 1}, \"15\": {\"15\": 42, \"127\": 4, \"37\": 1, \"27\": 8, \"94\": 8, \"71\": 9, \"12\": 4, \"125\": 9, \"111\": 5, \"106\": 2, \"36\": 7, \"51\": 1, \"6\": 1, \"92\": 1, \"0\": 1, \"88\": 1}, \"29\": {\"29\": 25, \"77\": 1, \"108\": 1, \"89\": 1}, \"18\": {\"18\": 103, \"69\": 2, \"118\": 8, \"117\": 3, \"2\": 2, \"95\": 1, \"62\": 1}, \"7\": {\"7\": 111, \"84\": 4, \"87\": 7, \"19\": 1, \"40\": 4, \"70\": 3, \"105\": 1, \"126\": 3, \"43\": 5, \"83\": 1, \"54\": 1, \"14\": 1}, \"56\": {\"56\": 9, \"111\": 3}, \"98\": {\"98\": 77, \"68\": 1, \"24\": 1, \"106\": 11, \"111\": 3, \"107\": 1, \"12\": 2, \"127\": 3, \"110\": 2, \"97\": 2, \"85\": 1, \"101\": 2, \"32\": 1, \"27\": 1}, \"99\": {\"99\": 17, \"33\": 2, \"25\": 3, \"3\": 1, \"116\": 1}, \"77\": {\"77\": 8, \"93\": 1, \"17\": 1, \"71\": 2, \"20\": 1, \"72\": 3}, \"103\": {\"15\": 1, \"103\": 13, \"9\": 1, \"94\": 1}, \"128\": {\"34\": 1, \"99\": 1, \"108\": 1, \"90\": 1, \"109\": 4, \"88\": 2, \"70\": 1, \"14\": 1, \"83\": 1, \"81\": 2, \"116\": 1, \"106\": 1, \"128\": 3, \"89\": 1, \"55\": 1, \"120\": 1, \"43\": 1}, \"3\": {\"3\": 60, \"99\": 3, \"81\": 2, \"33\": 4, \"82\": 2, \"14\": 1, \"118\": 1, \"102\": 2, \"125\": 1, \"88\": 1, \"62\": 2, \"11\": 4, \"69\": 1, \"109\": 2, \"71\": 1, \"36\": 1}, \"121\": {\"117\": 2, \"113\": 2, \"121\": 14, \"65\": 2, \"39\": 2, \"62\": 2, \"18\": 1, \"66\": 1, \"63\": 1, \"102\": 1, \"16\": 1, \"119\": 1, \"69\": 1, \"42\": 1}, \"42\": {\"84\": 1, \"99\": 2, \"69\": 3, \"4\": 2, \"81\": 1, \"116\": 4, \"61\": 1, \"86\": 1, \"102\": 5, \"42\": 2, \"82\": 2, \"50\": 1, \"108\": 1, \"128\": 1, \"31\": 1}, \"90\": {\"90\": 110, \"109\": 7, \"62\": 3}, \"37\": {\"37\": 14, \"58\": 2}, \"120\": {\"121\": 1, \"120\": 16, \"122\": 1, \"26\": 1, \"20\": 1}, \"117\": {\"117\": 109, \"18\": 1, \"118\": 1, \"16\": 4, \"26\": 3}, \"9\": {\"9\": 24, \"89\": 1, \"129\": 1, \"107\": 1, \"108\": 2, \"34\": 2, \"98\": 1}, \"108\": {\"103\": 1, \"108\": 32, \"34\": 1, \"107\": 14, \"47\": 2, \"44\": 1, \"70\": 8, \"43\": 5, \"87\": 6, \"40\": 5, \"89\": 2, \"9\": 1, \"8\": 4, \"101\": 1, \"7\": 1, \"5\": 9, \"24\": 3, \"4\": 2, \"106\": 4, \"110\": 1, \"105\": 1, \"31\": 2, \"53\": 1, \"49\": 1, \"98\": 3, \"17\": 1, \"29\": 1, \"15\": 1, \"72\": 1, \"93\": 2, \"1\": 2, \"90\": 1, \"88\": 1, \"111\": 2, \"124\": 1}, \"83\": {\"84\": 2, \"83\": 12, \"54\": 2, \"19\": 1, \"73\": 1, \"87\": 1, \"1\": 1, \"115\": 2, \"104\": 2, \"40\": 1, \"114\": 1, \"44\": 2}, \"14\": {\"14\": 79, \"8\": 1, \"121\": 1, \"122\": 8, \"109\": 2, \"3\": 1, \"126\": 2, \"38\": 1, \"62\": 1}, \"63\": {\"63\": 14, \"2\": 1, \"16\": 1}, \"11\": {\"11\": 61, \"82\": 3, \"2\": 3, \"3\": 6, \"102\": 15, \"26\": 3, \"109\": 3, \"62\": 5, \"33\": 16, \"66\": 1, \"69\": 1, \"90\": 1}, \"95\": {\"95\": 22, \"121\": 2, \"118\": 3, \"117\": 3, \"18\": 1, \"26\": 2, \"69\": 1, \"2\": 1, \"39\": 1}, \"26\": {\"26\": 103, \"18\": 2, \"117\": 12, \"118\": 1, \"16\": 7, \"36\": 1, \"51\": 1, \"39\": 2, \"102\": 1}, \"22\": {\"22\": 10, \"123\": 1, \"80\": 1, \"19\": 1, \"64\": 2, \"90\": 1}, \"102\": {\"102\": 110, \"67\": 2, \"33\": 7, \"69\": 1}, \"69\": {\"69\": 77, \"102\": 9, \"123\": 1, \"39\": 5, \"118\": 2, \"113\": 3, \"117\": 1, \"62\": 3, \"67\": 1, \"90\": 1, \"109\": 1, \"18\": 2}, \"1\": {\"1\": 116, \"114\": 3, \"40\": 1, \"126\": 3, \"70\": 1, \"109\": 1, \"8\": 1, \"87\": 1, \"84\": 1, \"124\": 1, \"7\": 1}, \"67\": {\"67\": 16}, \"57\": {\"57\": 12}, \"8\": {\"64\": 1, \"48\": 1, \"8\": 72, \"83\": 1, \"87\": 5, \"4\": 2, \"28\": 1, \"44\": 2, \"62\": 1, \"26\": 1, \"90\": 1, \"108\": 1, \"14\": 1, \"84\": 6, \"7\": 7, \"40\": 6, \"43\": 10, \"105\": 2, \"1\": 1, \"5\": 1, \"114\": 3, \"126\": 1, \"70\": 4, \"100\": 1, \"124\": 1, \"122\": 1}, \"109\": {\"129\": 1, \"109\": 70, \"120\": 2, \"61\": 2, \"82\": 1, \"19\": 3, \"39\": 2, \"33\": 3, \"62\": 10, \"117\": 1, \"90\": 9, \"11\": 3, \"69\": 3, \"3\": 4, \"1\": 3, \"45\": 1, \"81\": 1, \"96\": 2, \"122\": 2, \"18\": 1}, \"129\": {\"128\": 2, \"45\": 2, \"67\": 1, \"102\": 4, \"2\": 5, \"87\": 2, \"116\": 2, \"129\": 3, \"18\": 2, \"61\": 1, \"63\": 1, \"34\": 1, \"84\": 2}, \"111\": {\"111\": 94, \"70\": 1, \"127\": 3, \"71\": 2, \"15\": 2, \"30\": 1, \"24\": 4, \"98\": 3, \"12\": 4, \"88\": 3, \"106\": 3}, \"71\": {\"71\": 66, \"102\": 1, \"52\": 3, \"53\": 2, \"30\": 2, \"69\": 1, \"12\": 10, \"88\": 3, \"110\": 2, \"127\": 5, \"113\": 2, \"27\": 4, \"125\": 2, \"111\": 1, \"24\": 1, \"16\": 1, \"26\": 1, \"62\": 1}, \"47\": {\"47\": 8, \"29\": 2, \"5\": 1, \"34\": 1}, \"82\": {\"82\": 23, \"120\": 1, \"3\": 2, \"62\": 2, \"11\": 1, \"67\": 4, \"128\": 1, \"50\": 1, \"116\": 1}, \"27\": {\"71\": 5, \"27\": 30, \"30\": 2, \"88\": 6, \"6\": 4, \"127\": 4, \"24\": 2, \"52\": 1, \"12\": 9, \"125\": 4, \"94\": 5, \"106\": 1, \"15\": 4, \"111\": 5, \"107\": 1, \"36\": 4, \"103\": 1, \"85\": 1, \"68\": 1, \"98\": 1, \"101\": 1}, \"19\": {\"122\": 2, \"19\": 18, \"8\": 1, \"126\": 2, \"4\": 1, \"38\": 1, \"83\": 2, \"42\": 1}, \"122\": {\"63\": 1, \"122\": 41, \"87\": 2, \"82\": 1, \"14\": 14, \"117\": 1, \"90\": 2, \"43\": 7, \"126\": 2, \"114\": 2, \"1\": 2, \"84\": 2, \"7\": 3, \"42\": 2, \"38\": 1, \"21\": 2, \"8\": 1, \"70\": 2}, \"53\": {\"71\": 1, \"27\": 1, \"53\": 13, \"111\": 2, \"32\": 1, \"6\": 1, \"112\": 1}, \"87\": {\"104\": 1, \"122\": 1, \"87\": 43, \"43\": 10, \"3\": 1, \"79\": 1, \"44\": 3, \"40\": 5, \"28\": 1, \"83\": 1, \"105\": 3, \"7\": 3, \"126\": 3, \"124\": 3, \"89\": 1, \"8\": 8, \"84\": 9, \"114\": 3, \"74\": 1, \"37\": 1, \"73\": 1, \"5\": 1, \"4\": 2, \"14\": 1, \"70\": 1}, \"100\": {\"11\": 2, \"100\": 7, \"102\": 2, \"3\": 1, \"82\": 1, \"39\": 1, \"33\": 1, \"118\": 1}, \"66\": {\"66\": 15, \"116\": 1}, \"31\": {\"31\": 14, \"72\": 1, \"49\": 1}, \"58\": {\"37\": 2, \"58\": 10}, \"68\": {\"68\": 9, \"32\": 1, \"29\": 1, \"35\": 1, \"17\": 1, \"12\": 1, \"111\": 1, \"88\": 1}, \"88\": {\"112\": 2, \"53\": 1, \"97\": 1, \"27\": 4, \"23\": 1, \"6\": 1, \"49\": 1, \"88\": 14, \"111\": 4, \"125\": 17, \"107\": 5, \"110\": 5, \"36\": 9, \"69\": 1, \"101\": 7, \"98\": 4, \"15\": 5, \"94\": 2, \"106\": 9, \"71\": 2, \"40\": 1, \"93\": 5, \"113\": 1, \"70\": 1, \"85\": 1, \"32\": 2, \"87\": 1, \"127\": 5, \"24\": 1, \"108\": 1}, \"45\": {\"128\": 1, \"129\": 1, \"44\": 1, \"122\": 1, \"3\": 2, \"116\": 1, \"11\": 1, \"45\": 1, \"36\": 1, \"33\": 2}, \"114\": {\"114\": 99, \"124\": 12, \"19\": 1, \"8\": 1, \"122\": 1, \"84\": 5, \"126\": 3, \"1\": 1, \"87\": 2, \"23\": 1, \"40\": 1, \"83\": 1}, \"23\": {\"58\": 1, \"126\": 1, \"55\": 1, \"23\": 4, \"20\": 1, \"60\": 2, \"96\": 1, \"120\": 1, \"17\": 1, \"90\": 3, \"71\": 1, \"80\": 1, \"0\": 1, \"11\": 1, \"1\": 2, \"106\": 2}, \"65\": {\"92\": 1, \"26\": 1, \"43\": 1, \"16\": 1, \"8\": 2, \"74\": 1, \"51\": 1, \"63\": 1, \"65\": 1, \"18\": 2}, \"124\": {\"124\": 67, \"73\": 1, \"83\": 5, \"40\": 2, \"1\": 9, \"84\": 8, \"114\": 9, \"126\": 6, \"7\": 1, \"79\": 1, \"87\": 1, \"128\": 1, \"17\": 1, \"14\": 2, \"122\": 1, \"43\": 1, \"105\": 2}, \"10\": {\"10\": 36, \"58\": 2, \"57\": 1, \"85\": 7, \"0\": 12, \"29\": 1, \"110\": 14, \"4\": 4, \"32\": 2, \"105\": 2, \"41\": 1, \"44\": 2, \"93\": 7, \"15\": 1, \"127\": 5, \"8\": 7, \"39\": 2, \"87\": 2, \"94\": 1, \"70\": 3, \"101\": 3, \"111\": 2, \"7\": 1, \"26\": 1, \"14\": 1}, \"92\": {\"92\": 28}, \"40\": {\"40\": 109, \"17\": 1, \"87\": 3, \"84\": 3, \"77\": 1, \"73\": 1, \"126\": 1, \"107\": 1, \"8\": 1, \"5\": 3, \"105\": 10, \"26\": 1, \"60\": 1, \"4\": 3, \"34\": 2, \"70\": 1, \"16\": 1, \"43\": 1}, \"73\": {\"73\": 13, \"64\": 2, \"46\": 1, \"40\": 1, \"5\": 2, \"83\": 1}, \"94\": {\"94\": 28, \"6\": 3, \"36\": 8, \"24\": 2, \"52\": 1, \"106\": 1, \"27\": 7, \"125\": 2, \"30\": 2, \"127\": 5, \"15\": 10, \"71\": 5, \"12\": 6, \"88\": 5, \"111\": 3, \"59\": 1, \"53\": 1, \"85\": 1, \"118\": 1}, \"81\": {\"81\": 25, \"42\": 1, \"82\": 2}, \"101\": {\"101\": 90, \"53\": 1, \"110\": 11, \"0\": 1, \"118\": 1, \"91\": 1, \"55\": 1, \"32\": 1, \"93\": 2, \"33\": 1}, \"86\": {\"86\": 23, \"31\": 1, \"71\": 2, \"108\": 3, \"4\": 1, \"70\": 2, \"40\": 1, \"106\": 1, \"111\": 1, \"7\": 1}, \"78\": {\"78\": 1, \"38\": 1, \"126\": 4, \"60\": 1, \"96\": 1, \"115\": 1, \"81\": 1, \"64\": 1, \"109\": 1, \"43\": 1, \"120\": 1, \"83\": 2}, \"96\": {\"22\": 1, \"96\": 7, \"90\": 1, \"42\": 2, \"14\": 3, \"129\": 2, \"109\": 3, \"1\": 1}, \"5\": {\"5\": 72, \"22\": 1, \"89\": 1, \"24\": 1, \"105\": 2, \"122\": 1, \"107\": 2, \"109\": 1, \"50\": 1, \"31\": 1, \"93\": 2, \"128\": 2, \"33\": 1}, \"16\": {\"26\": 13, \"16\": 62, \"63\": 2, \"117\": 14, \"113\": 4, \"62\": 1, \"69\": 2, \"121\": 1, \"82\": 1, \"18\": 3, \"33\": 3, \"39\": 1, \"118\": 1}, \"35\": {\"35\": 9, \"93\": 1, \"34\": 1, \"105\": 1}, \"51\": {\"51\": 14, \"15\": 1, \"6\": 1}, \"46\": {\"46\": 5, \"25\": 2, \"27\": 1, \"6\": 1, \"124\": 1, \"1\": 1, \"71\": 1}, \"20\": {\"20\": 15, \"33\": 1}, \"116\": {\"102\": 5, \"33\": 1, \"116\": 17, \"109\": 1, \"62\": 2, \"11\": 1, \"100\": 1, \"82\": 1, \"50\": 1, \"63\": 1, \"15\": 1}, \"75\": {\"75\": 16}, \"43\": {\"84\": 15, \"126\": 6, \"43\": 45, \"109\": 2, \"105\": 1, \"21\": 2, \"1\": 2, \"87\": 9, \"5\": 1, \"7\": 15, \"90\": 4, \"26\": 2, \"14\": 6, \"108\": 1, \"122\": 1, \"124\": 1, \"8\": 2, \"70\": 1, \"61\": 1, \"120\": 1, \"40\": 2, \"17\": 1, \"42\": 1, \"44\": 3, \"62\": 1, \"114\": 2}, \"17\": {\"4\": 1, \"17\": 8, \"54\": 1, \"34\": 2, \"93\": 2, \"98\": 2}, \"12\": {\"12\": 65, \"52\": 5, \"27\": 2, \"111\": 5, \"71\": 9, \"102\": 1, \"88\": 3, \"98\": 3, \"0\": 3, \"24\": 2, \"15\": 1, \"101\": 2, \"30\": 1, \"127\": 1, \"94\": 1}, \"25\": {\"25\": 13, \"81\": 2, \"99\": 1}, \"54\": {\"17\": 2, \"54\": 10, \"126\": 1, \"73\": 1, \"92\": 1, \"129\": 1}, \"36\": {\"36\": 79, \"125\": 14, \"94\": 6, \"26\": 1, \"113\": 1, \"27\": 1, \"15\": 2, \"88\": 4, \"0\": 2, \"92\": 1, \"117\": 1}, \"52\": {\"52\": 16, \"127\": 1, \"24\": 1, \"112\": 2}, \"61\": {\"61\": 9, \"109\": 2, \"62\": 1}, \"106\": {\"106\": 106, \"24\": 1, \"98\": 5, \"107\": 2, \"111\": 2, \"93\": 1, \"127\": 1, \"88\": 2}, \"39\": {\"39\": 42, \"66\": 1, \"61\": 1, \"121\": 2, \"117\": 14, \"16\": 6, \"26\": 10, \"118\": 2, \"18\": 2, \"69\": 6, \"62\": 3, \"90\": 2, \"50\": 1, \"102\": 2, \"33\": 5, \"11\": 1, \"3\": 2, \"113\": 2}, \"119\": {\"119\": 16}, \"125\": {\"125\": 115, \"94\": 2, \"24\": 1, \"36\": 2, \"71\": 1, \"27\": 2, \"12\": 1, \"88\": 11, \"15\": 7, \"111\": 5, \"6\": 1}, \"93\": {\"93\": 78, \"28\": 1, \"29\": 1, \"0\": 1, \"105\": 3, \"106\": 7, \"108\": 9, \"98\": 2, \"4\": 3, \"24\": 1, \"44\": 2, \"107\": 11, \"5\": 3, \"110\": 2, \"40\": 1, \"70\": 6, \"17\": 3, \"77\": 1, \"10\": 2, \"91\": 1, \"87\": 2, \"121\": 1, \"86\": 2, \"8\": 3, \"62\": 1, \"84\": 1}, \"115\": {\"115\": 10, \"114\": 1, \"1\": 1}, \"21\": {\"69\": 2, \"96\": 2, \"7\": 3, \"105\": 2, \"90\": 3, \"39\": 2, \"94\": 1, \"118\": 1, \"54\": 1, \"126\": 1, \"33\": 2, \"21\": 4, \"128\": 2, \"66\": 2, \"92\": 1, \"2\": 1, \"109\": 5, \"43\": 1, \"14\": 1, \"62\": 1, \"113\": 1, \"122\": 1}, \"41\": {\"41\": 15, \"31\": 1}}, \"W_4\": {\"55\": {\"55\": 16}, \"9\": {\"59\": 1, \"9\": 15, \"10\": 1, \"68\": 2, \"34\": 1, \"53\": 1, \"15\": 1, \"77\": 2, \"94\": 1, \"6\": 1, \"12\": 1, \"24\": 1}, \"70\": {\"56\": 1, \"115\": 1, \"14\": 4, \"85\": 3, \"37\": 1, \"62\": 2, \"108\": 5, \"43\": 4, \"27\": 6, \"4\": 7, \"70\": 22, \"49\": 1, \"98\": 13, \"87\": 4, \"33\": 1, \"111\": 1, \"90\": 2, \"106\": 3, \"122\": 1, \"109\": 1, \"110\": 3, \"39\": 1, \"7\": 2, \"3\": 3, \"10\": 4, \"71\": 2, \"30\": 1, \"118\": 1, \"15\": 1, \"114\": 1, \"0\": 1, \"107\": 2, \"8\": 3, \"95\": 2, \"32\": 1, \"42\": 1, \"60\": 1, \"66\": 1, \"117\": 1, \"124\": 3, \"88\": 1, \"1\": 1, \"93\": 2}, \"112\": {\"112\": 9, \"52\": 2, \"56\": 1, \"98\": 2, \"71\": 1, \"42\": 1}, \"115\": {\"108\": 1, \"116\": 1, \"36\": 1, \"74\": 1, \"79\": 1, \"115\": 3, \"18\": 2, \"107\": 1, \"28\": 1, \"69\": 1, \"44\": 2, \"46\": 1}, \"56\": {\"56\": 9, \"110\": 1, \"86\": 2}, \"108\": {\"13\": 1, \"83\": 2, \"31\": 3, \"14\": 5, \"108\": 15, \"25\": 1, \"76\": 1, \"109\": 3, \"72\": 1, \"107\": 3, \"50\": 1, \"99\": 2, \"18\": 1, \"28\": 1, \"33\": 6, \"43\": 4, \"69\": 2, \"62\": 2, \"10\": 1, \"90\": 4, \"88\": 1, \"11\": 5, \"16\": 3, \"122\": 6, \"5\": 5, \"94\": 2, \"32\": 2, \"93\": 4, \"114\": 1, \"110\": 1, \"36\": 1, \"102\": 2}, \"117\": {\"117\": 105, \"81\": 2, \"39\": 3, \"18\": 1, \"113\": 9, \"110\": 1, \"93\": 1, \"16\": 1, \"126\": 1}, \"111\": {\"9\": 1, \"10\": 2, \"111\": 92, \"103\": 3, \"106\": 12, \"15\": 2, \"12\": 5, \"24\": 1, \"0\": 2, \"36\": 2, \"127\": 3, \"27\": 2, \"52\": 1, \"98\": 2, \"101\": 1, \"113\": 1}, \"71\": {\"111\": 1, \"71\": 74, \"63\": 1, \"70\": 3, \"4\": 3, \"114\": 5, \"15\": 1, \"7\": 2, \"124\": 6, \"42\": 1, \"9\": 1, \"62\": 1, \"36\": 1, \"126\": 3, \"16\": 1}, \"59\": {\"59\": 8, \"25\": 2, \"94\": 2}, \"10\": {\"59\": 2, \"115\": 1, \"25\": 1, \"9\": 2, \"24\": 3, \"129\": 1, \"111\": 2, \"6\": 4, \"10\": 32, \"114\": 1, \"30\": 3, \"82\": 2, \"15\": 11, \"105\": 3, \"36\": 7, \"70\": 2, \"122\": 1, \"7\": 7, \"127\": 1, \"27\": 3, \"94\": 4, \"87\": 2, \"88\": 2, \"101\": 1, \"43\": 1, \"0\": 1, \"125\": 8, \"34\": 1, \"37\": 1, \"90\": 1, \"1\": 1, \"78\": 1, \"110\": 1, \"14\": 1, \"124\": 1, \"42\": 2, \"4\": 3, \"71\": 1, \"126\": 1, \"108\": 1}, \"83\": {\"70\": 1, \"83\": 16, \"72\": 1, \"79\": 1, \"107\": 3, \"60\": 1, \"28\": 1, \"46\": 1, \"114\": 1, \"1\": 1, \"20\": 1}, \"116\": {\"116\": 11, \"62\": 1, \"33\": 1, \"66\": 1, \"5\": 2, \"90\": 2, \"69\": 3, \"79\": 1, \"99\": 1, \"102\": 2, \"50\": 1, \"84\": 1, \"11\": 1}, \"13\": {\"13\": 14, \"67\": 2}, \"4\": {\"56\": 2, \"71\": 2, \"4\": 79, \"95\": 2, \"98\": 4, \"27\": 6, \"82\": 1, \"7\": 1, \"70\": 4, \"88\": 1, \"85\": 1, \"126\": 1}, \"125\": {\"125\": 91, \"94\": 4, \"24\": 4, \"113\": 2, \"10\": 2, \"36\": 3}, \"102\": {\"102\": 116, \"84\": 5, \"16\": 1, \"69\": 1, \"26\": 1}, \"47\": {\"58\": 1, \"47\": 11}, \"28\": {\"28\": 14, \"74\": 1, \"1\": 1, \"64\": 1, \"46\": 1, \"43\": 1, \"32\": 1}, \"82\": {\"82\": 30, \"34\": 1, \"89\": 1}, \"60\": {\"14\": 1, \"17\": 2, \"19\": 3, \"5\": 1, \"110\": 4, \"98\": 1, \"8\": 1, \"99\": 2, \"60\": 6, \"116\": 1, \"4\": 1, \"105\": 1, \"100\": 1, \"43\": 1, \"129\": 1, \"71\": 1, \"112\": 1, \"69\": 1, \"66\": 1, \"89\": 1}, \"107\": {\"107\": 110, \"60\": 1, \"40\": 7, \"110\": 1, \"115\": 1, \"78\": 1, \"1\": 1, \"43\": 4, \"5\": 1, \"3\": 3, \"87\": 1, \"129\": 1, \"108\": 1, \"93\": 1}, \"75\": {\"75\": 14, \"34\": 2}, \"31\": {\"31\": 11, \"19\": 1, \"45\": 1, \"57\": 1, \"33\": 2}, \"92\": {\"92\": 24, \"102\": 1, \"80\": 1, \"69\": 2}, \"58\": {\"58\": 16}, \"113\": {\"113\": 67, \"117\": 18, \"62\": 2, \"69\": 5, \"121\": 1, \"16\": 10, \"84\": 4, \"90\": 4, \"126\": 4, \"109\": 3, \"39\": 3, \"33\": 1, \"118\": 1, \"44\": 2, \"26\": 1, \"11\": 1, \"93\": 1}, \"95\": {\"82\": 2, \"95\": 24, \"27\": 2, \"85\": 1, \"98\": 2, \"41\": 1}, \"14\": {\"14\": 86, \"113\": 1, \"32\": 2, \"43\": 9, \"110\": 4, \"107\": 1, \"16\": 1, \"72\": 1, \"122\": 2, \"33\": 1, \"108\": 1, \"117\": 1, \"88\": 1, \"44\": 1}, \"17\": {\"82\": 1, \"17\": 17, \"60\": 1, \"19\": 1}, \"104\": {\"104\": 10, \"3\": 1, \"41\": 1, \"60\": 1, \"43\": 1, \"32\": 1, \"107\": 1}, \"72\": {\"72\": 17, \"43\": 3, \"108\": 2, \"19\": 2, \"40\": 1, \"62\": 2, \"60\": 1, \"32\": 2, \"76\": 1, \"33\": 1}, \"69\": {\"69\": 103, \"117\": 1, \"109\": 2, \"84\": 3, \"102\": 8, \"44\": 2, \"90\": 5, \"118\": 2, \"122\": 1, \"18\": 1}, \"63\": {\"63\": 15, \"26\": 1}, \"12\": {\"12\": 53, \"103\": 2, \"106\": 5, \"111\": 10, \"41\": 1, \"8\": 7, \"10\": 4, \"101\": 1, \"24\": 2, \"127\": 7, \"7\": 1, \"118\": 1, \"19\": 1, \"88\": 1, \"1\": 1, \"0\": 2, \"117\": 1}, \"25\": {\"25\": 14, \"10\": 1, \"94\": 1}, \"67\": {\"63\": 1, \"69\": 1, \"109\": 1, \"26\": 1, \"48\": 2, \"74\": 2, \"99\": 2, \"39\": 4, \"33\": 1, \"67\": 1}, \"50\": {\"50\": 11, \"43\": 1, \"49\": 1, \"19\": 1, \"33\": 2}, \"43\": {\"108\": 5, \"43\": 31, \"46\": 3, \"110\": 3, \"26\": 1, \"40\": 18, \"99\": 4, \"22\": 1, \"117\": 1, \"129\": 1, \"122\": 4, \"33\": 2, \"107\": 16, \"44\": 3, \"70\": 3, \"1\": 4, \"90\": 2, \"14\": 3, \"88\": 1, \"3\": 1, \"5\": 2, \"28\": 2, \"13\": 1, \"62\": 2, \"83\": 1, \"69\": 1, \"49\": 1, \"118\": 1, \"93\": 1, \"10\": 1}, \"96\": {\"108\": 1, \"67\": 1, \"96\": 9, \"69\": 1, \"62\": 1, \"84\": 2, \"90\": 1, \"80\": 2, \"118\": 1, \"16\": 1}, \"128\": {\"71\": 2, \"17\": 1, \"128\": 12, \"70\": 2, \"82\": 1, \"46\": 1, \"100\": 1, \"120\": 1, \"105\": 1, \"89\": 1, \"88\": 1}, \"77\": {\"77\": 12}, \"54\": {\"54\": 16}, \"118\": {\"118\": 46, \"90\": 3, \"69\": 15, \"35\": 1, \"44\": 3, \"14\": 2, \"39\": 1, \"62\": 4, \"113\": 1, \"117\": 1, \"33\": 6, \"26\": 2, \"122\": 5, \"110\": 3, \"93\": 4, \"84\": 2, \"88\": 3, \"109\": 5, \"96\": 1, \"116\": 1, \"21\": 1, \"108\": 2}, \"30\": {\"30\": 26, \"8\": 2, \"29\": 6, \"109\": 1, \"10\": 3, \"41\": 1, \"91\": 1, \"27\": 1, \"94\": 4, \"15\": 8, \"101\": 4, \"12\": 4, \"106\": 3, \"127\": 5, \"55\": 1, \"54\": 1, \"103\": 1, \"0\": 1, \"36\": 2, \"14\": 1}, \"51\": {\"30\": 2, \"111\": 2, \"34\": 2, \"51\": 2, \"15\": 2, \"125\": 1, \"97\": 1, \"94\": 2, \"9\": 1, \"25\": 1}, \"122\": {\"118\": 8, \"31\": 1, \"122\": 25, \"45\": 1, \"90\": 9, \"110\": 6, \"62\": 1, \"38\": 2, \"14\": 2, \"66\": 1, \"44\": 5, \"69\": 2, \"102\": 1, \"39\": 1, \"33\": 6, \"108\": 4, \"74\": 2, \"99\": 1, \"15\": 1, \"43\": 2, \"93\": 1, \"16\": 1, \"18\": 1}, \"46\": {\"46\": 13, \"40\": 3, \"63\": 1, \"107\": 1, \"104\": 1, \"105\": 1}, \"79\": {\"28\": 1, \"79\": 13, \"83\": 1, \"3\": 1}, \"103\": {\"8\": 1, \"103\": 13, \"111\": 2}, \"74\": {\"43\": 1, \"74\": 12, \"49\": 2, \"45\": 1}, \"90\": {\"31\": 1, \"118\": 5, \"90\": 91, \"19\": 1, \"78\": 1, \"122\": 5, \"33\": 10, \"69\": 8, \"93\": 5, \"109\": 9, \"38\": 2, \"44\": 5, \"108\": 2, \"84\": 1}, \"8\": {\"8\": 77, \"103\": 2, \"55\": 1, \"106\": 6, \"127\": 16, \"12\": 2, \"117\": 1, \"85\": 1, \"101\": 18, \"0\": 2, \"111\": 3, \"30\": 1, \"7\": 1, \"24\": 1, \"27\": 2, \"53\": 2, \"91\": 1, \"39\": 2, \"94\": 1, \"98\": 2}, \"94\": {\"94\": 38, \"125\": 8, \"9\": 3, \"106\": 3, \"34\": 1, \"111\": 4, \"36\": 4, \"15\": 9, \"24\": 4, \"107\": 1, \"87\": 1, \"6\": 2, \"54\": 1, \"25\": 1, \"10\": 3, \"21\": 1, \"16\": 1, \"12\": 1, \"49\": 1, \"126\": 1}, \"7\": {\"7\": 85, \"17\": 3, \"70\": 5, \"89\": 2, \"4\": 4, \"36\": 1, \"84\": 1, \"88\": 2, \"10\": 2, \"126\": 1, \"87\": 1, \"128\": 2, \"104\": 1, \"82\": 2, \"40\": 1, \"71\": 4, \"62\": 1, \"114\": 1, \"105\": 1, \"124\": 1, \"1\": 1}, \"61\": {\"61\": 9, \"26\": 2, \"18\": 1, \"121\": 1, \"65\": 2, \"39\": 1}, \"26\": {\"26\": 83, \"67\": 2, \"18\": 15, \"39\": 6, \"123\": 2, \"81\": 1, \"57\": 1, \"113\": 2, \"126\": 2, \"117\": 2, \"63\": 2, \"84\": 1, \"69\": 1}, \"127\": {\"127\": 86, \"37\": 1, \"101\": 3, \"111\": 3, \"106\": 2, \"12\": 2, \"8\": 6, \"26\": 1, \"27\": 1, \"10\": 1, \"103\": 1, \"15\": 1}, \"23\": {\"17\": 1, \"61\": 2, \"21\": 1, \"65\": 2, \"88\": 1, \"13\": 1, \"26\": 1, \"123\": 1, \"16\": 1, \"81\": 1, \"55\": 2, \"23\": 1, \"85\": 1}, \"1\": {\"1\": 58, \"87\": 7, \"42\": 1, \"114\": 11, \"71\": 2, \"107\": 2, \"105\": 7, \"4\": 2, \"3\": 11, \"18\": 1, \"13\": 1, \"33\": 1, \"88\": 2, \"124\": 1, \"125\": 1}, \"93\": {\"93\": 68, \"90\": 6, \"99\": 1, \"44\": 5, \"43\": 2, \"33\": 19, \"96\": 2, \"11\": 5, \"108\": 2, \"14\": 2, \"118\": 6, \"5\": 1, \"107\": 1, \"110\": 3, \"31\": 1, \"109\": 1, \"83\": 1, \"69\": 3, \"122\": 2, \"102\": 3}, \"106\": {\"106\": 67, \"12\": 9, \"9\": 1, \"123\": 1, \"18\": 3, \"37\": 1, \"97\": 3, \"111\": 13, \"86\": 1, \"117\": 1, \"127\": 1, \"24\": 3, \"113\": 1, \"61\": 1, \"27\": 2, \"81\": 1, \"0\": 2, \"67\": 1, \"16\": 1, \"10\": 1, \"103\": 1, \"21\": 1}, \"110\": {\"43\": 7, \"110\": 51, \"5\": 2, \"62\": 4, \"99\": 1, \"107\": 9, \"40\": 4, \"14\": 10, \"93\": 9, \"33\": 7, \"109\": 2, \"18\": 1, \"87\": 1, \"118\": 3, \"83\": 1, \"78\": 1, \"90\": 1, \"108\": 1, \"122\": 1, \"88\": 1, \"1\": 1}, \"76\": {\"115\": 1, \"76\": 9, \"20\": 1, \"43\": 1, \"120\": 1, \"90\": 1, \"88\": 1, \"118\": 1}, \"36\": {\"36\": 57, \"24\": 6, \"6\": 3, \"106\": 1, \"29\": 1, \"15\": 6, \"10\": 8, \"12\": 6, \"94\": 4, \"127\": 5, \"8\": 1, \"111\": 5, \"125\": 6, \"9\": 1, \"30\": 6, \"54\": 1, \"59\": 1, \"27\": 1, \"113\": 1}, \"21\": {\"67\": 1, \"108\": 1, \"126\": 5, \"84\": 1, \"123\": 1, \"21\": 22, \"81\": 3, \"78\": 2, \"63\": 1, \"62\": 1, \"122\": 2}, \"37\": {\"37\": 10, \"17\": 2, \"70\": 2, \"10\": 2}, \"11\": {\"11\": 69, \"115\": 1, \"74\": 1, \"50\": 1, \"116\": 2, \"33\": 9, \"44\": 2, \"5\": 10, \"1\": 1, \"14\": 1, \"102\": 7, \"90\": 3, \"84\": 1, \"72\": 1, \"92\": 3, \"43\": 1, \"107\": 1, \"122\": 1, \"40\": 1, \"110\": 2, \"113\": 2}, \"109\": {\"109\": 60, \"108\": 3, \"69\": 9, \"118\": 10, \"96\": 1, \"84\": 1, \"44\": 4, \"113\": 2, \"110\": 2, \"90\": 10, \"102\": 8, \"5\": 1, \"66\": 1, \"62\": 1, \"80\": 2, \"99\": 1}, \"62\": {\"21\": 1, \"62\": 33, \"108\": 4, \"126\": 1, \"72\": 2, \"66\": 2, \"78\": 2, \"26\": 2, \"99\": 1, \"109\": 1, \"110\": 1, \"88\": 2, \"117\": 1, \"122\": 1, \"69\": 2, \"113\": 1, \"14\": 1, \"93\": 2}, \"89\": {\"89\": 23, \"48\": 1, \"8\": 1, \"37\": 1, \"7\": 2, \"17\": 1, \"0\": 1, \"82\": 2}, \"126\": {\"126\": 58, \"65\": 1, \"117\": 9, \"18\": 13, \"16\": 4, \"84\": 1, \"121\": 3, \"21\": 2, \"81\": 3, \"113\": 9, \"109\": 2, \"39\": 7, \"26\": 4, \"14\": 1, \"62\": 1, \"69\": 4, \"2\": 1, \"33\": 1}, \"101\": {\"101\": 80, \"127\": 7, \"8\": 18, \"68\": 1, \"15\": 2, \"113\": 1, \"111\": 3, \"126\": 1, \"12\": 1, \"0\": 1, \"87\": 1, \"91\": 2, \"106\": 1, \"70\": 1, \"30\": 1, \"29\": 1, \"36\": 1, \"117\": 1, \"10\": 1, \"4\": 1, \"18\": 1, \"84\": 1}, \"65\": {\"65\": 12}, \"19\": {\"5\": 1, \"89\": 3, \"31\": 1, \"98\": 3, \"72\": 1, \"19\": 4, \"106\": 2, \"44\": 1, \"7\": 1, \"129\": 1, \"17\": 2, \"66\": 1, \"45\": 1, \"118\": 1, \"64\": 1, \"20\": 1, \"116\": 1, \"27\": 2}, \"27\": {\"95\": 6, \"27\": 21, \"112\": 1, \"127\": 5, \"111\": 7, \"8\": 2, \"121\": 1, \"114\": 1, \"12\": 5, \"101\": 4, \"82\": 2, \"15\": 1, \"1\": 1, \"106\": 6, \"10\": 4, \"7\": 1, \"98\": 4, \"24\": 3, \"87\": 4, \"0\": 1, \"88\": 2, \"124\": 1, \"41\": 2, \"9\": 1, \"128\": 2, \"120\": 1, \"70\": 3, \"4\": 2, \"105\": 1, \"19\": 1, \"71\": 1, \"49\": 1, \"126\": 1, \"93\": 1}, \"5\": {\"5\": 101, \"23\": 1, \"11\": 4, \"90\": 1, \"108\": 1, \"93\": 3, \"33\": 10, \"118\": 2, \"109\": 2, \"110\": 2, \"19\": 2, \"49\": 3, \"99\": 1, \"107\": 1, \"3\": 1, \"40\": 1}, \"73\": {\"5\": 5, \"19\": 2, \"73\": 10, \"88\": 1, \"50\": 1, \"47\": 1, \"79\": 3, \"72\": 1}, \"6\": {\"6\": 18, \"36\": 2, \"9\": 1, \"58\": 1, \"59\": 1, \"24\": 1}, \"29\": {\"29\": 30, \"30\": 1, \"9\": 1}, \"114\": {\"114\": 99, \"70\": 1, \"129\": 1, \"124\": 5, \"71\": 3, \"87\": 2, \"1\": 3, \"105\": 2, \"7\": 1, \"3\": 8, \"46\": 1, \"117\": 1, \"88\": 1}, \"49\": {\"19\": 2, \"74\": 2, \"102\": 2, \"32\": 1, \"37\": 1, \"49\": 2, \"0\": 4, \"5\": 2, \"52\": 1, \"12\": 2, \"41\": 1, \"38\": 1, \"3\": 1, \"99\": 1, \"45\": 1, \"86\": 1, \"127\": 2, \"122\": 1, \"11\": 2, \"106\": 2}, \"16\": {\"16\": 85, \"39\": 1, \"117\": 7, \"121\": 3, \"96\": 1, \"81\": 2, \"90\": 1, \"84\": 3, \"113\": 2, \"109\": 2, \"63\": 1, \"2\": 2, \"13\": 2, \"118\": 2, \"102\": 1, \"69\": 1, \"88\": 1, \"126\": 1}, \"68\": {\"68\": 10, \"98\": 1, \"52\": 2, \"8\": 1, \"111\": 1, \"95\": 1}, \"98\": {\"98\": 73, \"58\": 1, \"112\": 2, \"27\": 8, \"4\": 5, \"18\": 1, \"70\": 6, \"10\": 2, \"108\": 1, \"24\": 2, \"88\": 1, \"90\": 1, \"0\": 1, \"41\": 2, \"7\": 2, \"111\": 5, \"85\": 1, \"15\": 1, \"106\": 1, \"8\": 4}, \"64\": {\"64\": 15, \"31\": 1}, \"121\": {\"121\": 13, \"48\": 2, \"57\": 1, \"118\": 2, \"113\": 5, \"109\": 3, \"16\": 1, \"63\": 1, \"39\": 2, \"102\": 2}, \"124\": {\"119\": 1, \"124\": 64, \"46\": 1, \"70\": 4, \"3\": 8, \"1\": 6, \"105\": 1, \"71\": 7, \"110\": 2, \"87\": 4, \"114\": 7, \"8\": 1, \"7\": 2, \"112\": 1, \"50\": 1, \"4\": 2, \"12\": 1, \"40\": 1}, \"97\": {\"94\": 2, \"49\": 2, \"36\": 2, \"97\": 3, \"0\": 1, \"106\": 1, \"89\": 1, \"125\": 1, \"9\": 1, \"17\": 2, \"25\": 2, \"75\": 2}, \"40\": {\"40\": 103, \"129\": 4, \"78\": 1, \"104\": 2, \"3\": 1, \"107\": 16, \"14\": 3, \"105\": 1, \"43\": 1, \"110\": 1, \"46\": 1, \"88\": 2}, \"119\": {\"40\": 1, \"119\": 13, \"32\": 1, \"104\": 1}, \"100\": {\"119\": 1, \"124\": 1, \"42\": 1, \"114\": 1, \"60\": 1, \"7\": 1, \"71\": 2, \"100\": 8, \"34\": 1, \"104\": 1, \"120\": 1, \"46\": 1}, \"87\": {\"87\": 58, \"119\": 1, \"46\": 2, \"19\": 2, \"60\": 1, \"105\": 10, \"43\": 2, \"14\": 1, \"1\": 3, \"88\": 6, \"122\": 1, \"40\": 2, \"110\": 3, \"3\": 8, \"114\": 5, \"70\": 6, \"7\": 2, \"99\": 1, \"78\": 1, \"33\": 1}, \"88\": {\"114\": 5, \"61\": 1, \"99\": 1, \"8\": 2, \"19\": 4, \"27\": 2, \"109\": 12, \"105\": 5, \"89\": 1, \"118\": 7, \"22\": 1, \"62\": 1, \"60\": 1, \"82\": 3, \"86\": 1, \"88\": 10, \"122\": 6, \"26\": 2, \"7\": 6, \"33\": 1, \"14\": 3, \"70\": 5, \"90\": 6, \"71\": 2, \"3\": 2, \"87\": 3, \"124\": 3, \"110\": 3, \"0\": 1, \"129\": 1, \"80\": 1, \"17\": 1, \"66\": 1, \"128\": 1, \"69\": 1, \"43\": 1, \"1\": 1, \"21\": 1, \"108\": 3, \"78\": 1, \"113\": 2, \"10\": 1, \"18\": 1, \"44\": 1, \"98\": 1, \"93\": 3, \"4\": 5, \"40\": 1}, \"52\": {\"52\": 10, \"29\": 1, \"91\": 1, \"47\": 1, \"1\": 1, \"41\": 1, \"77\": 1, \"120\": 1, \"85\": 1, \"30\": 2}, \"80\": {\"80\": 12, \"13\": 1, \"74\": 1, \"109\": 1, \"36\": 1}, \"105\": {\"105\": 71, \"124\": 3, \"122\": 1, \"22\": 1, \"87\": 1, \"91\": 1, \"1\": 3, \"88\": 4, \"26\": 1, \"114\": 5, \"3\": 2, \"129\": 2, \"117\": 2, \"7\": 1, \"126\": 2}, \"32\": {\"14\": 2, \"90\": 2, \"32\": 8, \"108\": 2, \"50\": 2, \"110\": 2, \"22\": 1, \"33\": 1, \"70\": 1, \"72\": 1, \"118\": 2, \"109\": 1, \"107\": 1, \"116\": 1, \"99\": 1}, \"35\": {\"35\": 9, \"18\": 1, \"13\": 1, \"26\": 1}, \"99\": {\"72\": 1, \"69\": 1, \"99\": 22, \"76\": 1, \"43\": 2, \"62\": 1, \"122\": 2, \"90\": 2, \"14\": 1, \"109\": 1, \"78\": 1, \"32\": 1, \"116\": 2, \"102\": 1, \"64\": 1}, \"18\": {\"35\": 3, \"18\": 100, \"39\": 4, \"123\": 2, \"26\": 6, \"121\": 1, \"117\": 2, \"126\": 1, \"16\": 1}, \"24\": {\"85\": 4, \"70\": 4, \"0\": 4, \"24\": 24, \"114\": 3, \"27\": 8, \"107\": 1, \"36\": 5, \"33\": 1, \"7\": 4, \"94\": 5, \"4\": 5, \"10\": 7, \"125\": 16, \"71\": 2, \"111\": 3, \"98\": 3, \"8\": 2, \"15\": 2, \"88\": 1, \"42\": 1, \"25\": 1, \"1\": 1, \"9\": 1, \"82\": 1, \"44\": 1, \"49\": 1, \"30\": 1}, \"85\": {\"85\": 24, \"26\": 1, \"52\": 1, \"70\": 2}, \"39\": {\"39\": 27, \"26\": 8, \"117\": 10, \"81\": 1, \"16\": 6, \"126\": 8, \"2\": 1, \"118\": 7, \"18\": 9, \"109\": 3, \"113\": 6, \"93\": 1, \"33\": 1, \"61\": 3, \"96\": 1, \"65\": 2, \"88\": 1, \"123\": 1, \"21\": 2, \"69\": 1, \"121\": 1}, \"123\": {\"123\": 14, \"35\": 1, \"13\": 1}, \"91\": {\"91\": 14, \"52\": 1, \"86\": 1, \"8\": 3, \"95\": 1, \"56\": 1, \"15\": 1, \"53\": 1, \"55\": 1}, \"78\": {\"16\": 2, \"19\": 2, \"78\": 3, \"72\": 2, \"62\": 6, \"54\": 1, \"100\": 1, \"98\": 1, \"40\": 2, \"21\": 1, \"107\": 2, \"43\": 1, \"96\": 1, \"39\": 1, \"99\": 1, \"95\": 1, \"109\": 3, \"15\": 1, \"113\": 1, \"88\": 1, \"26\": 1, \"124\": 1}, \"38\": {\"38\": 13, \"109\": 3}, \"15\": {\"29\": 3, \"111\": 5, \"15\": 68, \"24\": 5, \"12\": 10, \"9\": 2, \"30\": 3, \"94\": 9, \"10\": 4, \"81\": 1, \"18\": 1, \"101\": 1, \"125\": 5, \"8\": 2, \"36\": 2, \"51\": 1, \"6\": 2, \"127\": 1, \"26\": 1, \"106\": 1, \"39\": 1}, \"48\": {\"48\": 15, \"80\": 1}, \"45\": {\"45\": 16}, \"120\": {\"120\": 19, \"73\": 1}, \"44\": {\"45\": 1, \"38\": 2, \"44\": 43, \"99\": 1, \"69\": 1, \"109\": 1, \"90\": 3, \"5\": 4, \"93\": 3, \"108\": 1, \"102\": 2, \"118\": 1, \"117\": 1}, \"86\": {\"86\": 25, \"65\": 1, \"81\": 1, \"101\": 1}, \"20\": {\"33\": 2, \"20\": 8, \"66\": 1, \"96\": 1, \"93\": 1, \"90\": 1, \"64\": 1, \"11\": 1}, \"33\": {\"33\": 128, \"11\": 5, \"5\": 5, \"113\": 1, \"93\": 3, \"69\": 2, \"118\": 1, \"107\": 1, \"21\": 1, \"50\": 1, \"38\": 1, \"126\": 1}, \"129\": {\"34\": 1, \"62\": 1, \"73\": 1, \"85\": 2, \"32\": 1, \"10\": 1, \"109\": 2, \"98\": 1, \"89\": 1, \"90\": 2, \"70\": 1, \"33\": 2, \"71\": 1, \"50\": 1, \"19\": 1, \"129\": 1, \"69\": 2, \"60\": 1, \"118\": 1, \"66\": 1, \"57\": 1, \"105\": 1, \"20\": 1}, \"34\": {\"9\": 3, \"34\": 4, \"128\": 1, \"94\": 1, \"106\": 1, \"49\": 1, \"105\": 3, \"0\": 1, \"10\": 3, \"89\": 3, \"30\": 1, \"122\": 1, \"125\": 1, \"91\": 1, \"97\": 2, \"37\": 1, \"114\": 1, \"70\": 1, \"1\": 1, \"88\": 1}, \"81\": {\"81\": 32, \"117\": 3, \"39\": 1}, \"57\": {\"109\": 1, \"80\": 1, \"57\": 10, \"24\": 1, \"90\": 2, \"93\": 1}, \"0\": {\"4\": 3, \"0\": 63, \"41\": 2, \"101\": 3, \"12\": 1, \"8\": 14, \"27\": 1, \"127\": 2, \"26\": 1, \"111\": 4, \"7\": 6, \"16\": 1, \"106\": 1, \"59\": 1, \"86\": 2, \"68\": 1, \"52\": 1, \"55\": 1, \"63\": 1, \"85\": 1, \"103\": 2, \"98\": 1, \"49\": 1, \"10\": 1, \"105\": 1}, \"2\": {\"117\": 7, \"102\": 2, \"2\": 15, \"126\": 1, \"90\": 1, \"16\": 1, \"84\": 1}, \"42\": {\"103\": 1, \"119\": 1, \"27\": 3, \"127\": 1, \"106\": 1, \"100\": 1, \"114\": 1, \"85\": 1, \"99\": 1, \"42\": 2, \"124\": 2, \"4\": 1, \"12\": 1, \"76\": 1, \"37\": 2, \"86\": 1, \"3\": 1, \"1\": 2, \"105\": 1, \"8\": 2, \"98\": 1}, \"84\": {\"69\": 10, \"84\": 95, \"92\": 2, \"2\": 1, \"117\": 1, \"102\": 10, \"90\": 2, \"16\": 3, \"44\": 1, \"18\": 1, \"93\": 1, \"126\": 1, \"57\": 1, \"45\": 1, \"118\": 1, \"26\": 1}, \"3\": {\"104\": 1, \"3\": 79, \"19\": 1, \"129\": 1, \"114\": 8, \"21\": 1, \"40\": 4, \"1\": 4, \"43\": 3, \"105\": 3, \"18\": 2, \"87\": 3, \"124\": 6, \"7\": 1, \"49\": 1, \"100\": 1, \"38\": 1, \"117\": 1, \"71\": 2, \"107\": 1, \"24\": 1, \"93\": 1}, \"41\": {\"42\": 2, \"86\": 1, \"41\": 10, \"70\": 1, \"48\": 1, \"52\": 1}, \"53\": {\"53\": 10, \"34\": 1, \"113\": 1, \"124\": 1, \"8\": 2, \"30\": 1}, \"66\": {\"33\": 2, \"66\": 10, \"20\": 1, \"116\": 1, \"31\": 2}, \"22\": {\"49\": 2, \"43\": 1, \"22\": 4, \"76\": 2, \"14\": 2, \"88\": 2, \"60\": 2, \"122\": 1}}, \"C_5\": {\"35\": {\"35\": 36}, \"57\": {\"57\": 106, \"52\": 16, \"28\": 4, \"23\": 2, \"46\": 1, \"42\": 1, \"39\": 1, \"47\": 1}, \"20\": {\"32\": 2, \"20\": 109, \"51\": 19, \"9\": 6, \"8\": 2, \"55\": 1, \"27\": 1, \"6\": 2, \"25\": 1, \"48\": 1}, \"12\": {\"12\": 88, \"45\": 3, \"38\": 1, \"4\": 2, \"7\": 1, \"6\": 1}, \"32\": {\"32\": 25, \"48\": 1, \"27\": 4, \"55\": 1, \"51\": 1}, \"25\": {\"25\": 81, \"1\": 23, \"33\": 3, \"50\": 12, \"55\": 2, \"8\": 1, \"21\": 1, \"6\": 2, \"19\": 3, \"53\": 2, \"41\": 2, \"5\": 1, \"51\": 1, \"17\": 1, \"20\": 2, \"9\": 1}, \"44\": {\"44\": 137, \"40\": 9, \"2\": 1, \"29\": 1}, \"31\": {\"31\": 36}, \"11\": {\"11\": 130, \"43\": 14, \"15\": 5, \"29\": 1}, \"47\": {\"47\": 74, \"23\": 3, \"49\": 4, \"52\": 4, \"14\": 2, \"36\": 4, \"43\": 1, \"34\": 3, \"57\": 1, \"29\": 3, \"16\": 1}, \"23\": {\"23\": 121, \"41\": 1, \"57\": 1, \"54\": 1}, \"43\": {\"11\": 22, \"29\": 1, \"43\": 118, \"16\": 1, \"3\": 1, \"15\": 1}, \"37\": {\"37\": 23, \"16\": 1}, \"5\": {\"5\": 121, \"19\": 5, \"40\": 1, \"55\": 1}, \"45\": {\"20\": 5, \"12\": 13, \"45\": 53, \"38\": 4, \"9\": 9, \"30\": 11, \"4\": 11, \"6\": 6, \"55\": 8, \"26\": 2, \"7\": 2}, \"7\": {\"7\": 30, \"38\": 1, \"45\": 1}, \"13\": {\"13\": 129, \"10\": 4, \"24\": 2, \"56\": 1}, \"49\": {\"49\": 28, \"28\": 4, \"34\": 2, \"44\": 1, \"47\": 1}, \"46\": {\"46\": 122, \"15\": 2, \"3\": 2, \"43\": 2, \"16\": 12, \"52\": 4, \"37\": 2, \"31\": 1, \"57\": 1}, \"16\": {\"46\": 8, \"16\": 122, \"3\": 1, \"52\": 1, \"47\": 1, \"29\": 1, \"11\": 1, \"43\": 1}, \"54\": {\"54\": 78, \"42\": 1, \"53\": 3, \"41\": 1, \"25\": 1, \"18\": 5, \"34\": 2, \"50\": 3, \"23\": 8, \"1\": 5, \"8\": 2, \"33\": 1, \"21\": 1, \"48\": 1}, \"19\": {\"19\": 150, \"50\": 1, \"9\": 1}, \"55\": {\"55\": 111, \"45\": 12, \"20\": 5, \"12\": 2, \"4\": 7, \"6\": 1, \"9\": 5, \"7\": 1, \"30\": 3, \"51\": 2, \"27\": 1}, \"30\": {\"30\": 127, \"6\": 1}, \"34\": {\"34\": 24, \"54\": 2, \"49\": 2, \"33\": 1, \"44\": 1, \"14\": 2, \"22\": 1, \"47\": 3}, \"50\": {\"5\": 3, \"50\": 48, \"1\": 24, \"25\": 9, \"8\": 4, \"53\": 15, \"51\": 8, \"12\": 1, \"27\": 3, \"20\": 7, \"21\": 3, \"48\": 3, \"55\": 2, \"45\": 1, \"17\": 1, \"19\": 1, \"9\": 1}, \"3\": {\"46\": 12, \"3\": 60, \"11\": 6, \"16\": 7, \"36\": 1, \"43\": 3, \"29\": 7, \"47\": 1, \"15\": 1, \"37\": 1, \"52\": 1}, \"10\": {\"10\": 65, \"13\": 3}, \"27\": {\"27\": 130, \"17\": 1, \"32\": 1, \"48\": 4, \"1\": 1, \"8\": 2, \"6\": 1, \"53\": 1, \"9\": 1}, \"33\": {\"33\": 31, \"41\": 1}, \"56\": {\"56\": 128, \"24\": 3, \"11\": 1, \"15\": 6, \"0\": 2, \"13\": 1, \"43\": 1}, \"9\": {\"55\": 2, \"9\": 112, \"32\": 1, \"27\": 6, \"12\": 1, \"17\": 7, \"20\": 3, \"6\": 5, \"5\": 1, \"8\": 2, \"48\": 2, \"51\": 1, \"26\": 1, \"30\": 3, \"4\": 1, \"45\": 1, \"53\": 1}, \"14\": {\"46\": 4, \"31\": 3, \"14\": 8, \"43\": 1, \"29\": 2, \"40\": 7, \"47\": 4, \"34\": 4, \"57\": 1, \"23\": 1, \"18\": 1, \"36\": 2, \"16\": 2, \"52\": 1, \"15\": 1, \"44\": 2}, \"4\": {\"4\": 84, \"7\": 1, \"55\": 7, \"45\": 7, \"30\": 1}, \"42\": {\"42\": 37, \"39\": 2, \"55\": 1}, \"24\": {\"24\": 78, \"10\": 1, \"35\": 1}, \"39\": {\"39\": 20}, \"52\": {\"28\": 2, \"57\": 9, \"52\": 111, \"40\": 1, \"46\": 3, \"23\": 2, \"47\": 1, \"29\": 1}, \"2\": {\"2\": 22, \"29\": 2, \"49\": 2, \"47\": 2}, \"28\": {\"52\": 2, \"28\": 30}, \"53\": {\"53\": 98, \"8\": 16, \"1\": 8}, \"17\": {\"17\": 110, \"8\": 4, \"6\": 2}, \"29\": {\"29\": 119, \"14\": 1, \"2\": 2, \"43\": 7, \"52\": 1, \"47\": 1, \"28\": 1}, \"38\": {\"38\": 29, \"26\": 1, \"45\": 1, \"30\": 1}, \"15\": {\"15\": 143, \"56\": 1}, \"26\": {\"26\": 20, \"48\": 2, \"6\": 2}, \"21\": {\"21\": 144}, \"41\": {\"41\": 22, \"34\": 1, \"1\": 1, \"18\": 1, \"25\": 2, \"7\": 1}, \"48\": {\"48\": 113, \"32\": 2, \"8\": 6, \"53\": 2, \"1\": 5, \"6\": 1, \"27\": 7}, \"22\": {\"22\": 27, \"2\": 1}, \"8\": {\"8\": 133, \"48\": 1, \"17\": 2, \"53\": 7, \"1\": 5}, \"18\": {\"41\": 3, \"18\": 59, \"54\": 2}, \"0\": {\"35\": 1, \"0\": 121}, \"1\": {\"1\": 123, \"27\": 2, \"48\": 5, \"50\": 3, \"53\": 3, \"8\": 2}, \"40\": {\"40\": 110, \"44\": 12, \"55\": 1, \"5\": 1}, \"6\": {\"30\": 4, \"32\": 3, \"6\": 28, \"17\": 16, \"51\": 4, \"1\": 2, \"48\": 5, \"4\": 2, \"12\": 2, \"55\": 7, \"20\": 11, \"45\": 13, \"9\": 5, \"8\": 11, \"53\": 6, \"27\": 4, \"26\": 3, \"7\": 2}, \"51\": {\"51\": 117, \"32\": 1, \"27\": 1, \"20\": 15, \"48\": 1, \"53\": 1, \"6\": 2, \"9\": 2, \"8\": 1, \"1\": 1}, \"36\": {\"36\": 87, \"52\": 3, \"47\": 1, \"57\": 1}}}, \"per_domain_accuracy\": {\"O_50\": {\"accuracy\": 0.8809895833333333, \"source?\": true}, \"O_14\": {\"accuracy\": 0.8932291666666666, \"source?\": true}, \"O_32\": {\"accuracy\": 0.86640625, \"source?\": true}, \"O_44\": {\"accuracy\": 0.78125, \"source?\": true}, \"O_8\": {\"accuracy\": 0.8809895833333333, \"source?\": true}, \"O_20\": {\"accuracy\": 0.8690104166666667, \"source?\": true}, \"O_38\": {\"accuracy\": 0.8893229166666666, \"source?\": true}, \"O_26\": {\"accuracy\": 0.72265625, \"source?\": true}, \"W_3\": {\"accuracy\": 0.6411026200873362, \"source?\": false}, \"C_4\": {\"accuracy\": 0.8261363636363637, \"source?\": false}, \"C_2\": {\"accuracy\": 0.8653441011235955, \"source?\": false}, \"C_3\": {\"accuracy\": 0.8467261904761905, \"source?\": false}, \"W_2\": {\"accuracy\": 0.6141927083333333, \"source?\": false}, \"C_1\": {\"accuracy\": 0.8778716216216216, \"source?\": false}, \"W_1\": {\"accuracy\": 0.637844279661017, \"source?\": false}, \"W_4\": {\"accuracy\": 0.5794753086419753, \"source?\": false}, \"C_5\": {\"accuracy\": 0.8285614525139665, \"source?\": false}}}, \"history\": {\"epoch_indices\": [1, 2, 3, 4, 5, 6], \"train_label_loss\": [0.7967965063638985, 0.48932379592137987, 0.3848017498922889, 0.32722359334612044, 0.2904051545559057, 0.2618123340369147], \"source_val_label_loss\": [0.851774275302887, 0.42332905530929565, 0.35821422934532166, 0.2986637055873871, 0.29711392521858215, 0.29898494482040405], \"target_val_label_loss\": [7.320897102355957, 6.503981590270996, 7.831315994262695, 8.27080249786377, 7.723186492919922, 8.342046737670898], \"source_val_acc_label\": [0.74189453125, 0.8479817708333334, 0.8709309895833334, 0.8930338541666667, 0.893359375, 0.8940104166666667], \"target_val_acc_label\": [0.6207487657707076, 0.7289495337356007, 0.7192985463521667, 0.7148073230938015, 0.7189042786615469, 0.7110703510696654]}, \"dataset_metrics\": {\"source\": {\"train\": {\"n_unique_x\": 179200, \"n_unique_y\": 16, \"n_batch/episode\": 6720}, \"val\": {\"n_unique_x\": 38400, \"n_unique_y\": 16, \"n_batch/episode\": 960}, \"test\": {\"n_unique_x\": 38400, \"n_unique_y\": 16, \"n_batch/episode\": 960}}, \"target\": {\"train\": {\"n_unique_x\": 364205, \"n_unique_y\": 130, \"n_batch/episode\": 13140}, \"val\": {\"n_unique_x\": 77236, \"n_unique_y\": 130, \"n_batch/episode\": 1823}, \"test\": {\"n_unique_x\": 78478, \"n_unique_y\": 130, \"n_batch/episode\": 1857}}}}'"
      ]
     },
     "execution_count": 29,
     "metadata": {},
     "output_type": "execute_result"
    }
   ],
   "source": [
    "json.dumps(experiment)"
   ]
  }
 ],
 "metadata": {
  "celltoolbar": "Tags",
  "kernelspec": {
   "display_name": "Python 3 (ipykernel)",
   "language": "python",
   "name": "python3"
  },
  "language_info": {
   "codemirror_mode": {
    "name": "ipython",
    "version": 3
   },
   "file_extension": ".py",
   "mimetype": "text/x-python",
   "name": "python",
   "nbconvert_exporter": "python",
   "pygments_lexer": "ipython3",
   "version": "3.8.10"
  },
  "papermill": {
   "default_parameters": {},
   "duration": 1366.283422,
   "end_time": "2022-03-20T01:42:24.843944",
   "environment_variables": {},
   "exception": null,
   "input_path": "/mnt/wd500GB/CSC500/csc500-main/csc500-notebooks/templates/tl_ptn_template.ipynb",
   "output_path": "trial.ipynb",
   "parameters": {
    "parameters": {
     "BEST_MODEL_PATH": "./best_model.pth",
     "NUM_LOGS_PER_EPOCH": 10,
     "criteria_for_best": "target_accuracy",
     "dataset_seed": 500,
     "datasets": [
      {
       "domain_prefix": "C_",
       "domains": [
        1,
        2,
        3,
        4,
        5
       ],
       "episode_transforms": [],
       "labels": [
        "1-10.",
        "1-11.",
        "1-15.",
        "1-16.",
        "1-17.",
        "1-18.",
        "1-19.",
        "10-4.",
        "10-7.",
        "11-1.",
        "11-14.",
        "11-17.",
        "11-20.",
        "11-7.",
        "13-20.",
        "13-8.",
        "14-10.",
        "14-11.",
        "14-14.",
        "14-7.",
        "15-1.",
        "15-20.",
        "16-1.",
        "16-16.",
        "17-10.",
        "17-11.",
        "17-2.",
        "19-1.",
        "19-16.",
        "19-19.",
        "19-20.",
        "19-3.",
        "2-10.",
        "2-11.",
        "2-17.",
        "2-18.",
        "2-20.",
        "2-3.",
        "2-4.",
        "2-5.",
        "2-6.",
        "2-7.",
        "2-8.",
        "3-13.",
        "3-18.",
        "3-3.",
        "4-1.",
        "4-10.",
        "4-11.",
        "4-19.",
        "5-5.",
        "6-15.",
        "7-10.",
        "7-14.",
        "8-18.",
        "8-20.",
        "8-3.",
        "8-8."
       ],
       "num_examples_per_domain_per_label": -1,
       "pickle_path": "/mnt/wd500GB/CSC500/csc500-main/datasets/cores.stratified_ds.2022A.pkl",
       "source_or_target_dataset": "target",
       "x_transforms": [
        "unit_mag"
       ]
      },
      {
       "domain_prefix": "W_",
       "domains": [
        1,
        2,
        3,
        4
       ],
       "episode_transforms": [],
       "labels": [
        "1-10",
        "1-12",
        "1-14",
        "1-16",
        "1-18",
        "1-19",
        "1-8",
        "10-11",
        "10-17",
        "10-4",
        "10-7",
        "11-1",
        "11-10",
        "11-19",
        "11-20",
        "11-4",
        "11-7",
        "12-19",
        "12-20",
        "12-7",
        "13-14",
        "13-18",
        "13-19",
        "13-20",
        "13-3",
        "13-7",
        "14-10",
        "14-11",
        "14-12",
        "14-13",
        "14-14",
        "14-19",
        "14-20",
        "14-7",
        "14-8",
        "14-9",
        "15-1",
        "15-19",
        "15-6",
        "16-1",
        "16-16",
        "16-19",
        "16-20",
        "17-10",
        "17-11",
        "18-1",
        "18-10",
        "18-11",
        "18-12",
        "18-13",
        "18-14",
        "18-15",
        "18-16",
        "18-17",
        "18-19",
        "18-2",
        "18-20",
        "18-4",
        "18-5",
        "18-7",
        "18-8",
        "18-9",
        "19-1",
        "19-10",
        "19-11",
        "19-12",
        "19-13",
        "19-14",
        "19-15",
        "19-19",
        "19-2",
        "19-20",
        "19-3",
        "19-4",
        "19-6",
        "19-7",
        "19-8",
        "19-9",
        "2-1",
        "2-13",
        "2-15",
        "2-3",
        "2-4",
        "2-5",
        "2-6",
        "2-7",
        "2-8",
        "20-1",
        "20-12",
        "20-14",
        "20-15",
        "20-16",
        "20-18",
        "20-19",
        "20-20",
        "20-3",
        "20-4",
        "20-5",
        "20-7",
        "20-8",
        "3-1",
        "3-13",
        "3-18",
        "3-2",
        "3-8",
        "4-1",
        "4-10",
        "4-11",
        "5-1",
        "5-5",
        "6-1",
        "6-15",
        "6-6",
        "7-10",
        "7-11",
        "7-12",
        "7-13",
        "7-14",
        "7-7",
        "7-8",
        "7-9",
        "8-1",
        "8-13",
        "8-14",
        "8-18",
        "8-20",
        "8-3",
        "8-8",
        "9-1",
        "9-7"
       ],
       "num_examples_per_domain_per_label": -1,
       "pickle_path": "/mnt/wd500GB/CSC500/csc500-main/datasets/wisig.node3-19.stratified_ds.2022A.pkl",
       "source_or_target_dataset": "target",
       "x_transforms": [
        "unit_mag"
       ]
      },
      {
       "domain_prefix": "O_",
       "domains": [
        32,
        38,
        8,
        44,
        14,
        50,
        20,
        26
       ],
       "episode_transforms": [],
       "labels": [
        "3123D52",
        "3123D65",
        "3123D79",
        "3123D80",
        "3123D54",
        "3123D70",
        "3123D7B",
        "3123D89",
        "3123D58",
        "3123D76",
        "3123D7D",
        "3123EFE",
        "3123D64",
        "3123D78",
        "3123D7E",
        "3124E4A"
       ],
       "num_examples_per_domain_per_label": 2000,
       "pickle_path": "/mnt/wd500GB/CSC500/csc500-main/datasets/oracle.Run1_framed_2000Examples_stratified_ds.2022A.pkl",
       "source_or_target_dataset": "source",
       "x_transforms": [
        "unit_mag"
       ]
      }
     ],
     "device": "cuda",
     "experiment_name": "tl_2v2:oracle.run1.framed -> cores+wisig",
     "lr": 0.0001,
     "n_epoch": 50,
     "n_query": 2,
     "n_shot": 3,
     "n_way": 16,
     "patience": 3,
     "seed": 500,
     "test_k_factor": 2,
     "torch_default_dtype": "torch.float32",
     "train_k_factor": 3,
     "val_k_factor": 2,
     "x_net": [
      {
       "class": "nnReshape",
       "kargs": {
        "shape": [
         -1,
         1,
         2,
         256
        ]
       }
      },
      {
       "class": "Conv2d",
       "kargs": {
        "bias": false,
        "in_channels": 1,
        "kernel_size": [
         1,
         7
        ],
        "out_channels": 256,
        "padding": [
         0,
         3
        ]
       }
      },
      {
       "class": "ReLU",
       "kargs": {
        "inplace": true
       }
      },
      {
       "class": "BatchNorm2d",
       "kargs": {
        "num_features": 256
       }
      },
      {
       "class": "Conv2d",
       "kargs": {
        "bias": true,
        "in_channels": 256,
        "kernel_size": [
         2,
         7
        ],
        "out_channels": 80,
        "padding": [
         0,
         3
        ]
       }
      },
      {
       "class": "ReLU",
       "kargs": {
        "inplace": true
       }
      },
      {
       "class": "BatchNorm2d",
       "kargs": {
        "num_features": 80
       }
      },
      {
       "class": "Flatten",
       "kargs": {}
      },
      {
       "class": "Linear",
       "kargs": {
        "in_features": 20480,
        "out_features": 256
       }
      },
      {
       "class": "ReLU",
       "kargs": {
        "inplace": true
       }
      },
      {
       "class": "BatchNorm1d",
       "kargs": {
        "num_features": 256
       }
      },
      {
       "class": "Linear",
       "kargs": {
        "in_features": 256,
        "out_features": 256
       }
      }
     ]
    }
   },
   "start_time": "2022-03-20T01:19:38.560522",
   "version": "2.3.4"
  }
 },
 "nbformat": 4,
 "nbformat_minor": 5
}