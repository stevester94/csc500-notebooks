{
 "cells": [
  {
   "cell_type": "markdown",
   "id": "9fea5f46",
   "metadata": {
    "papermill": {
     "duration": 0.016992,
     "end_time": "2022-03-19T20:34:15.664410",
     "exception": false,
     "start_time": "2022-03-19T20:34:15.647418",
     "status": "completed"
    },
    "tags": []
   },
   "source": [
    "# Transfer Learning Template"
   ]
  },
  {
   "cell_type": "code",
   "execution_count": 1,
   "id": "0902182a",
   "metadata": {
    "execution": {
     "iopub.execute_input": "2022-03-19T20:34:15.708100Z",
     "iopub.status.busy": "2022-03-19T20:34:15.702491Z",
     "iopub.status.idle": "2022-03-19T20:34:16.636976Z",
     "shell.execute_reply": "2022-03-19T20:34:16.637405Z"
    },
    "papermill": {
     "duration": 0.956719,
     "end_time": "2022-03-19T20:34:16.637598",
     "exception": false,
     "start_time": "2022-03-19T20:34:15.680879",
     "status": "completed"
    },
    "tags": []
   },
   "outputs": [],
   "source": [
    "%load_ext autoreload\n",
    "%autoreload 2\n",
    "%matplotlib inline\n",
    "\n",
    "    \n",
    "import os, json, sys, time, random\n",
    "import numpy as np\n",
    "import torch\n",
    "from torch.optim import Adam\n",
    "from  easydict import EasyDict\n",
    "import matplotlib.pyplot as plt\n",
    "\n",
    "from steves_models.steves_ptn import Steves_Prototypical_Network\n",
    "\n",
    "from steves_utils.lazy_iterable_wrapper import Lazy_Iterable_Wrapper\n",
    "from steves_utils.iterable_aggregator import Iterable_Aggregator\n",
    "from steves_utils.ptn_train_eval_test_jig import  PTN_Train_Eval_Test_Jig\n",
    "from steves_utils.torch_sequential_builder import build_sequential\n",
    "from steves_utils.torch_utils import get_dataset_metrics, ptn_confusion_by_domain_over_dataloader\n",
    "from steves_utils.utils_v2 import (per_domain_accuracy_from_confusion, get_datasets_base_path)\n",
    "from steves_utils.PTN.utils import independent_accuracy_assesment\n",
    "\n",
    "from torch.utils.data import DataLoader\n",
    "\n",
    "from steves_utils.stratified_dataset.episodic_accessor import Episodic_Accessor_Factory\n",
    "\n",
    "from steves_utils.ptn_do_report import (\n",
    "    get_loss_curve,\n",
    "    get_results_table,\n",
    "    get_parameters_table,\n",
    "    get_domain_accuracies,\n",
    ")\n",
    "\n",
    "from steves_utils.transforms import get_chained_transform"
   ]
  },
  {
   "cell_type": "markdown",
   "id": "41c840b4",
   "metadata": {
    "papermill": {
     "duration": 0.014132,
     "end_time": "2022-03-19T20:34:16.670054",
     "exception": false,
     "start_time": "2022-03-19T20:34:16.655922",
     "status": "completed"
    },
    "tags": []
   },
   "source": [
    "# Allowed Parameters\n",
    "These are allowed parameters, not defaults\n",
    "Each of these values need to be present in the injected parameters (the notebook will raise an exception if they are not present)\n",
    "\n",
    "Papermill uses the cell tag \"parameters\" to inject the real parameters below this cell.\n",
    "Enable tags to see what I mean"
   ]
  },
  {
   "cell_type": "code",
   "execution_count": 2,
   "id": "fd44eb83",
   "metadata": {
    "execution": {
     "iopub.execute_input": "2022-03-19T20:34:16.698797Z",
     "iopub.status.busy": "2022-03-19T20:34:16.698529Z",
     "iopub.status.idle": "2022-03-19T20:34:16.712183Z",
     "shell.execute_reply": "2022-03-19T20:34:16.712396Z"
    },
    "papermill": {
     "duration": 0.030062,
     "end_time": "2022-03-19T20:34:16.712473",
     "exception": false,
     "start_time": "2022-03-19T20:34:16.682411",
     "status": "completed"
    },
    "tags": []
   },
   "outputs": [],
   "source": [
    "required_parameters = {\n",
    "    \"experiment_name\",\n",
    "    \"lr\",\n",
    "    \"device\",\n",
    "    \"seed\",\n",
    "    \"dataset_seed\",\n",
    "    \"n_shot\",\n",
    "    \"n_query\",\n",
    "    \"n_way\",\n",
    "    \"train_k_factor\",\n",
    "    \"val_k_factor\",\n",
    "    \"test_k_factor\",\n",
    "    \"n_epoch\",\n",
    "    \"patience\",\n",
    "    \"criteria_for_best\",\n",
    "    \"x_net\",\n",
    "    \"datasets\",\n",
    "    \"torch_default_dtype\",\n",
    "    \"NUM_LOGS_PER_EPOCH\",\n",
    "    \"BEST_MODEL_PATH\",\n",
    "    \"x_shape\",\n",
    "}"
   ]
  },
  {
   "cell_type": "code",
   "execution_count": 3,
   "id": "fa3f0049",
   "metadata": {
    "execution": {
     "iopub.execute_input": "2022-03-19T20:34:16.752202Z",
     "iopub.status.busy": "2022-03-19T20:34:16.751915Z",
     "iopub.status.idle": "2022-03-19T20:34:16.765214Z",
     "shell.execute_reply": "2022-03-19T20:34:16.764796Z"
    },
    "papermill": {
     "duration": 0.03704,
     "end_time": "2022-03-19T20:34:16.765325",
     "exception": false,
     "start_time": "2022-03-19T20:34:16.728285",
     "status": "completed"
    },
    "tags": [
     "parameters"
    ]
   },
   "outputs": [],
   "source": [
    "from steves_utils.CORES.utils import (\n",
    "    ALL_NODES,\n",
    "    ALL_NODES_MINIMUM_1000_EXAMPLES,\n",
    "    ALL_DAYS\n",
    ")\n",
    "\n",
    "from steves_utils.ORACLE.utils_v2 import (\n",
    "    ALL_DISTANCES_FEET_NARROWED,\n",
    "    ALL_RUNS,\n",
    "    ALL_SERIAL_NUMBERS,\n",
    ")\n",
    "\n",
    "standalone_parameters = {}\n",
    "standalone_parameters[\"experiment_name\"] = \"STANDALONE PTN\"\n",
    "standalone_parameters[\"lr\"] = 0.001\n",
    "standalone_parameters[\"device\"] = \"cuda\"\n",
    "\n",
    "standalone_parameters[\"seed\"] = 1337\n",
    "standalone_parameters[\"dataset_seed\"] = 1337\n",
    "\n",
    "standalone_parameters[\"n_way\"] = 8\n",
    "standalone_parameters[\"n_shot\"] = 3\n",
    "standalone_parameters[\"n_query\"]  = 2\n",
    "standalone_parameters[\"train_k_factor\"] = 1\n",
    "standalone_parameters[\"val_k_factor\"] = 2\n",
    "standalone_parameters[\"test_k_factor\"] = 2\n",
    "\n",
    "\n",
    "standalone_parameters[\"n_epoch\"] = 50\n",
    "\n",
    "standalone_parameters[\"patience\"] = 10\n",
    "standalone_parameters[\"criteria_for_best\"] = \"source_loss\"\n",
    "\n",
    "standalone_parameters[\"datasets\"] = [\n",
    "    {\n",
    "        \"labels\": ALL_SERIAL_NUMBERS,\n",
    "        \"domains\": ALL_DISTANCES_FEET_NARROWED,\n",
    "        \"num_examples_per_domain_per_label\": 100,\n",
    "        \"pickle_path\": os.path.join(get_datasets_base_path(), \"oracle.Run1_framed_2000Examples_stratified_ds.2022A.pkl\"),\n",
    "        \"source_or_target_dataset\": \"source\",\n",
    "        \"x_transforms\": [\"unit_mag\", \"minus_two\"],\n",
    "        \"episode_transforms\": [],\n",
    "        \"domain_prefix\": \"ORACLE_\"\n",
    "    },\n",
    "    {\n",
    "        \"labels\": ALL_NODES,\n",
    "        \"domains\": ALL_DAYS,\n",
    "        \"num_examples_per_domain_per_label\": 100,\n",
    "        \"pickle_path\": os.path.join(get_datasets_base_path(), \"cores.stratified_ds.2022A.pkl\"),\n",
    "        \"source_or_target_dataset\": \"target\",\n",
    "        \"x_transforms\": [\"unit_power\", \"times_zero\"],\n",
    "        \"episode_transforms\": [],\n",
    "        \"domain_prefix\": \"CORES_\"\n",
    "    }   \n",
    "]\n",
    "\n",
    "standalone_parameters[\"torch_default_dtype\"] = \"torch.float32\" \n",
    "\n",
    "\n",
    "\n",
    "standalone_parameters[\"x_net\"] =     [\n",
    "    {\"class\": \"nnReshape\", \"kargs\": {\"shape\":[-1, 1, 2, 256]}},\n",
    "    {\"class\": \"Conv2d\", \"kargs\": { \"in_channels\":1, \"out_channels\":256, \"kernel_size\":(1,7), \"bias\":False, \"padding\":(0,3), },},\n",
    "    {\"class\": \"ReLU\", \"kargs\": {\"inplace\": True}},\n",
    "    {\"class\": \"BatchNorm2d\", \"kargs\": {\"num_features\":256}},\n",
    "\n",
    "    {\"class\": \"Conv2d\", \"kargs\": { \"in_channels\":256, \"out_channels\":80, \"kernel_size\":(2,7), \"bias\":True, \"padding\":(0,3), },},\n",
    "    {\"class\": \"ReLU\", \"kargs\": {\"inplace\": True}},\n",
    "    {\"class\": \"BatchNorm2d\", \"kargs\": {\"num_features\":80}},\n",
    "    {\"class\": \"Flatten\", \"kargs\": {}},\n",
    "\n",
    "    {\"class\": \"Linear\", \"kargs\": {\"in_features\": 80*256, \"out_features\": 256}}, # 80 units per IQ pair\n",
    "    {\"class\": \"ReLU\", \"kargs\": {\"inplace\": True}},\n",
    "    {\"class\": \"BatchNorm1d\", \"kargs\": {\"num_features\":256}},\n",
    "\n",
    "    {\"class\": \"Linear\", \"kargs\": {\"in_features\": 256, \"out_features\": 256}},\n",
    "]\n",
    "\n",
    "# Parameters relevant to results\n",
    "# These parameters will basically never need to change\n",
    "standalone_parameters[\"NUM_LOGS_PER_EPOCH\"] = 10\n",
    "standalone_parameters[\"BEST_MODEL_PATH\"] = \"./best_model.pth\"\n",
    "\n",
    "\n",
    "\n",
    "\n"
   ]
  },
  {
   "cell_type": "code",
   "execution_count": 4,
   "id": "7b803592",
   "metadata": {
    "execution": {
     "iopub.execute_input": "2022-03-19T20:34:16.812833Z",
     "iopub.status.busy": "2022-03-19T20:34:16.812192Z",
     "iopub.status.idle": "2022-03-19T20:34:16.825642Z",
     "shell.execute_reply": "2022-03-19T20:34:16.825962Z"
    },
    "papermill": {
     "duration": 0.043095,
     "end_time": "2022-03-19T20:34:16.826073",
     "exception": false,
     "start_time": "2022-03-19T20:34:16.782978",
     "status": "completed"
    },
    "tags": [
     "injected-parameters"
    ]
   },
   "outputs": [],
   "source": [
    "# Parameters\n",
    "parameters = {\n",
    "    \"experiment_name\": \"tl_2v2:oracle.run1.framed -> cores+wisig\",\n",
    "    \"device\": \"cuda\",\n",
    "    \"lr\": 0.0001,\n",
    "    \"n_shot\": 3,\n",
    "    \"n_query\": 2,\n",
    "    \"train_k_factor\": 3,\n",
    "    \"val_k_factor\": 2,\n",
    "    \"test_k_factor\": 2,\n",
    "    \"torch_default_dtype\": \"torch.float32\",\n",
    "    \"n_epoch\": 50,\n",
    "    \"patience\": 3,\n",
    "    \"criteria_for_best\": \"target_accuracy\",\n",
    "    \"x_net\": [\n",
    "        {\"class\": \"nnReshape\", \"kargs\": {\"shape\": [-1, 1, 2, 256]}},\n",
    "        {\n",
    "            \"class\": \"Conv2d\",\n",
    "            \"kargs\": {\n",
    "                \"in_channels\": 1,\n",
    "                \"out_channels\": 256,\n",
    "                \"kernel_size\": [1, 7],\n",
    "                \"bias\": False,\n",
    "                \"padding\": [0, 3],\n",
    "            },\n",
    "        },\n",
    "        {\"class\": \"ReLU\", \"kargs\": {\"inplace\": True}},\n",
    "        {\"class\": \"BatchNorm2d\", \"kargs\": {\"num_features\": 256}},\n",
    "        {\n",
    "            \"class\": \"Conv2d\",\n",
    "            \"kargs\": {\n",
    "                \"in_channels\": 256,\n",
    "                \"out_channels\": 80,\n",
    "                \"kernel_size\": [2, 7],\n",
    "                \"bias\": True,\n",
    "                \"padding\": [0, 3],\n",
    "            },\n",
    "        },\n",
    "        {\"class\": \"ReLU\", \"kargs\": {\"inplace\": True}},\n",
    "        {\"class\": \"BatchNorm2d\", \"kargs\": {\"num_features\": 80}},\n",
    "        {\"class\": \"Flatten\", \"kargs\": {}},\n",
    "        {\"class\": \"Linear\", \"kargs\": {\"in_features\": 20480, \"out_features\": 256}},\n",
    "        {\"class\": \"ReLU\", \"kargs\": {\"inplace\": True}},\n",
    "        {\"class\": \"BatchNorm1d\", \"kargs\": {\"num_features\": 256}},\n",
    "        {\"class\": \"Linear\", \"kargs\": {\"in_features\": 256, \"out_features\": 256}},\n",
    "    ],\n",
    "    \"NUM_LOGS_PER_EPOCH\": 10,\n",
    "    \"BEST_MODEL_PATH\": \"./best_model.pth\",\n",
    "    \"n_way\": 16,\n",
    "    \"datasets\": [\n",
    "        {\n",
    "            \"labels\": [\n",
    "                \"1-10.\",\n",
    "                \"1-11.\",\n",
    "                \"1-15.\",\n",
    "                \"1-16.\",\n",
    "                \"1-17.\",\n",
    "                \"1-18.\",\n",
    "                \"1-19.\",\n",
    "                \"10-4.\",\n",
    "                \"10-7.\",\n",
    "                \"11-1.\",\n",
    "                \"11-14.\",\n",
    "                \"11-17.\",\n",
    "                \"11-20.\",\n",
    "                \"11-7.\",\n",
    "                \"13-20.\",\n",
    "                \"13-8.\",\n",
    "                \"14-10.\",\n",
    "                \"14-11.\",\n",
    "                \"14-14.\",\n",
    "                \"14-7.\",\n",
    "                \"15-1.\",\n",
    "                \"15-20.\",\n",
    "                \"16-1.\",\n",
    "                \"16-16.\",\n",
    "                \"17-10.\",\n",
    "                \"17-11.\",\n",
    "                \"17-2.\",\n",
    "                \"19-1.\",\n",
    "                \"19-16.\",\n",
    "                \"19-19.\",\n",
    "                \"19-20.\",\n",
    "                \"19-3.\",\n",
    "                \"2-10.\",\n",
    "                \"2-11.\",\n",
    "                \"2-17.\",\n",
    "                \"2-18.\",\n",
    "                \"2-20.\",\n",
    "                \"2-3.\",\n",
    "                \"2-4.\",\n",
    "                \"2-5.\",\n",
    "                \"2-6.\",\n",
    "                \"2-7.\",\n",
    "                \"2-8.\",\n",
    "                \"3-13.\",\n",
    "                \"3-18.\",\n",
    "                \"3-3.\",\n",
    "                \"4-1.\",\n",
    "                \"4-10.\",\n",
    "                \"4-11.\",\n",
    "                \"4-19.\",\n",
    "                \"5-5.\",\n",
    "                \"6-15.\",\n",
    "                \"7-10.\",\n",
    "                \"7-14.\",\n",
    "                \"8-18.\",\n",
    "                \"8-20.\",\n",
    "                \"8-3.\",\n",
    "                \"8-8.\",\n",
    "            ],\n",
    "            \"domains\": [1, 2, 3, 4, 5],\n",
    "            \"num_examples_per_domain_per_label\": -1,\n",
    "            \"pickle_path\": \"/mnt/wd500GB/CSC500/csc500-main/datasets/cores.stratified_ds.2022A.pkl\",\n",
    "            \"source_or_target_dataset\": \"target\",\n",
    "            \"x_transforms\": [\"unit_power\"],\n",
    "            \"episode_transforms\": [],\n",
    "            \"domain_prefix\": \"C_\",\n",
    "        },\n",
    "        {\n",
    "            \"labels\": [\n",
    "                \"1-10\",\n",
    "                \"1-12\",\n",
    "                \"1-14\",\n",
    "                \"1-16\",\n",
    "                \"1-18\",\n",
    "                \"1-19\",\n",
    "                \"1-8\",\n",
    "                \"10-11\",\n",
    "                \"10-17\",\n",
    "                \"10-4\",\n",
    "                \"10-7\",\n",
    "                \"11-1\",\n",
    "                \"11-10\",\n",
    "                \"11-19\",\n",
    "                \"11-20\",\n",
    "                \"11-4\",\n",
    "                \"11-7\",\n",
    "                \"12-19\",\n",
    "                \"12-20\",\n",
    "                \"12-7\",\n",
    "                \"13-14\",\n",
    "                \"13-18\",\n",
    "                \"13-19\",\n",
    "                \"13-20\",\n",
    "                \"13-3\",\n",
    "                \"13-7\",\n",
    "                \"14-10\",\n",
    "                \"14-11\",\n",
    "                \"14-12\",\n",
    "                \"14-13\",\n",
    "                \"14-14\",\n",
    "                \"14-19\",\n",
    "                \"14-20\",\n",
    "                \"14-7\",\n",
    "                \"14-8\",\n",
    "                \"14-9\",\n",
    "                \"15-1\",\n",
    "                \"15-19\",\n",
    "                \"15-6\",\n",
    "                \"16-1\",\n",
    "                \"16-16\",\n",
    "                \"16-19\",\n",
    "                \"16-20\",\n",
    "                \"17-10\",\n",
    "                \"17-11\",\n",
    "                \"18-1\",\n",
    "                \"18-10\",\n",
    "                \"18-11\",\n",
    "                \"18-12\",\n",
    "                \"18-13\",\n",
    "                \"18-14\",\n",
    "                \"18-15\",\n",
    "                \"18-16\",\n",
    "                \"18-17\",\n",
    "                \"18-19\",\n",
    "                \"18-2\",\n",
    "                \"18-20\",\n",
    "                \"18-4\",\n",
    "                \"18-5\",\n",
    "                \"18-7\",\n",
    "                \"18-8\",\n",
    "                \"18-9\",\n",
    "                \"19-1\",\n",
    "                \"19-10\",\n",
    "                \"19-11\",\n",
    "                \"19-12\",\n",
    "                \"19-13\",\n",
    "                \"19-14\",\n",
    "                \"19-15\",\n",
    "                \"19-19\",\n",
    "                \"19-2\",\n",
    "                \"19-20\",\n",
    "                \"19-3\",\n",
    "                \"19-4\",\n",
    "                \"19-6\",\n",
    "                \"19-7\",\n",
    "                \"19-8\",\n",
    "                \"19-9\",\n",
    "                \"2-1\",\n",
    "                \"2-13\",\n",
    "                \"2-15\",\n",
    "                \"2-3\",\n",
    "                \"2-4\",\n",
    "                \"2-5\",\n",
    "                \"2-6\",\n",
    "                \"2-7\",\n",
    "                \"2-8\",\n",
    "                \"20-1\",\n",
    "                \"20-12\",\n",
    "                \"20-14\",\n",
    "                \"20-15\",\n",
    "                \"20-16\",\n",
    "                \"20-18\",\n",
    "                \"20-19\",\n",
    "                \"20-20\",\n",
    "                \"20-3\",\n",
    "                \"20-4\",\n",
    "                \"20-5\",\n",
    "                \"20-7\",\n",
    "                \"20-8\",\n",
    "                \"3-1\",\n",
    "                \"3-13\",\n",
    "                \"3-18\",\n",
    "                \"3-2\",\n",
    "                \"3-8\",\n",
    "                \"4-1\",\n",
    "                \"4-10\",\n",
    "                \"4-11\",\n",
    "                \"5-1\",\n",
    "                \"5-5\",\n",
    "                \"6-1\",\n",
    "                \"6-15\",\n",
    "                \"6-6\",\n",
    "                \"7-10\",\n",
    "                \"7-11\",\n",
    "                \"7-12\",\n",
    "                \"7-13\",\n",
    "                \"7-14\",\n",
    "                \"7-7\",\n",
    "                \"7-8\",\n",
    "                \"7-9\",\n",
    "                \"8-1\",\n",
    "                \"8-13\",\n",
    "                \"8-14\",\n",
    "                \"8-18\",\n",
    "                \"8-20\",\n",
    "                \"8-3\",\n",
    "                \"8-8\",\n",
    "                \"9-1\",\n",
    "                \"9-7\",\n",
    "            ],\n",
    "            \"domains\": [1, 2, 3, 4],\n",
    "            \"num_examples_per_domain_per_label\": -1,\n",
    "            \"pickle_path\": \"/mnt/wd500GB/CSC500/csc500-main/datasets/wisig.node3-19.stratified_ds.2022A.pkl\",\n",
    "            \"source_or_target_dataset\": \"target\",\n",
    "            \"x_transforms\": [\"unit_power\"],\n",
    "            \"episode_transforms\": [],\n",
    "            \"domain_prefix\": \"W_\",\n",
    "        },\n",
    "        {\n",
    "            \"labels\": [\n",
    "                \"3123D52\",\n",
    "                \"3123D65\",\n",
    "                \"3123D79\",\n",
    "                \"3123D80\",\n",
    "                \"3123D54\",\n",
    "                \"3123D70\",\n",
    "                \"3123D7B\",\n",
    "                \"3123D89\",\n",
    "                \"3123D58\",\n",
    "                \"3123D76\",\n",
    "                \"3123D7D\",\n",
    "                \"3123EFE\",\n",
    "                \"3123D64\",\n",
    "                \"3123D78\",\n",
    "                \"3123D7E\",\n",
    "                \"3124E4A\",\n",
    "            ],\n",
    "            \"domains\": [32, 38, 8, 44, 14, 50, 20, 26],\n",
    "            \"num_examples_per_domain_per_label\": 2000,\n",
    "            \"pickle_path\": \"/mnt/wd500GB/CSC500/csc500-main/datasets/oracle.Run1_framed_2000Examples_stratified_ds.2022A.pkl\",\n",
    "            \"source_or_target_dataset\": \"source\",\n",
    "            \"x_transforms\": [\"unit_power\"],\n",
    "            \"episode_transforms\": [],\n",
    "            \"domain_prefix\": \"O_\",\n",
    "        },\n",
    "    ],\n",
    "    \"seed\": 420,\n",
    "    \"dataset_seed\": 420,\n",
    "}\n"
   ]
  },
  {
   "cell_type": "code",
   "execution_count": 5,
   "id": "8fa1cc33",
   "metadata": {
    "execution": {
     "iopub.execute_input": "2022-03-19T20:34:16.860798Z",
     "iopub.status.busy": "2022-03-19T20:34:16.860541Z",
     "iopub.status.idle": "2022-03-19T20:34:16.876227Z",
     "shell.execute_reply": "2022-03-19T20:34:16.875800Z"
    },
    "papermill": {
     "duration": 0.033058,
     "end_time": "2022-03-19T20:34:16.876327",
     "exception": false,
     "start_time": "2022-03-19T20:34:16.843269",
     "status": "completed"
    },
    "tags": []
   },
   "outputs": [],
   "source": [
    "# Set this to True if you want to run this template directly\n",
    "STANDALONE = False\n",
    "if STANDALONE:\n",
    "    print(\"parameters not injected, running with standalone_parameters\")\n",
    "    parameters = standalone_parameters\n",
    "\n",
    "if not 'parameters' in locals() and not 'parameters' in globals():\n",
    "    raise Exception(\"Parameter injection failed\")\n",
    "\n",
    "#Use an easy dict for all the parameters\n",
    "p = EasyDict(parameters)\n",
    "\n",
    "if \"x_shape\" not in p:\n",
    "    p.x_shape = [2,256] # Default to this if we dont supply x_shape\n",
    "\n",
    "\n",
    "supplied_keys = set(p.keys())\n",
    "\n",
    "if  supplied_keys != required_parameters:\n",
    "    print(\"Parameters are incorrect\")\n",
    "    if len(supplied_keys - required_parameters)>0: print(\"Shouldn't have:\", str(supplied_keys - required_parameters))\n",
    "    if len(required_parameters - supplied_keys)>0: print(\"Need to have:\", str(required_parameters - supplied_keys))\n",
    "    raise RuntimeError(\"Parameters are incorrect\")"
   ]
  },
  {
   "cell_type": "code",
   "execution_count": 6,
   "id": "3a028d58",
   "metadata": {
    "execution": {
     "iopub.execute_input": "2022-03-19T20:34:16.908568Z",
     "iopub.status.busy": "2022-03-19T20:34:16.907387Z",
     "iopub.status.idle": "2022-03-19T20:34:16.923932Z",
     "shell.execute_reply": "2022-03-19T20:34:16.924306Z"
    },
    "papermill": {
     "duration": 0.031425,
     "end_time": "2022-03-19T20:34:16.924438",
     "exception": false,
     "start_time": "2022-03-19T20:34:16.893013",
     "status": "completed"
    },
    "tags": []
   },
   "outputs": [],
   "source": [
    "###################################\n",
    "# Set the RNGs and make it all deterministic\n",
    "###################################\n",
    "np.random.seed(p.seed)\n",
    "random.seed(p.seed)\n",
    "torch.manual_seed(p.seed)\n",
    "\n",
    "torch.use_deterministic_algorithms(True) "
   ]
  },
  {
   "cell_type": "code",
   "execution_count": 7,
   "id": "b691acf6",
   "metadata": {
    "execution": {
     "iopub.execute_input": "2022-03-19T20:34:16.958929Z",
     "iopub.status.busy": "2022-03-19T20:34:16.958680Z",
     "iopub.status.idle": "2022-03-19T20:34:16.974749Z",
     "shell.execute_reply": "2022-03-19T20:34:16.974329Z"
    },
    "papermill": {
     "duration": 0.031787,
     "end_time": "2022-03-19T20:34:16.974850",
     "exception": false,
     "start_time": "2022-03-19T20:34:16.943063",
     "status": "completed"
    },
    "tags": []
   },
   "outputs": [],
   "source": [
    "###########################################\n",
    "# The stratified datasets honor this\n",
    "###########################################\n",
    "torch.set_default_dtype(eval(p.torch_default_dtype))"
   ]
  },
  {
   "cell_type": "code",
   "execution_count": 8,
   "id": "b5fba671",
   "metadata": {
    "execution": {
     "iopub.execute_input": "2022-03-19T20:34:17.007764Z",
     "iopub.status.busy": "2022-03-19T20:34:17.007511Z",
     "iopub.status.idle": "2022-03-19T20:34:17.047084Z",
     "shell.execute_reply": "2022-03-19T20:34:17.047504Z"
    },
    "papermill": {
     "duration": 0.055275,
     "end_time": "2022-03-19T20:34:17.047646",
     "exception": false,
     "start_time": "2022-03-19T20:34:16.992371",
     "status": "completed"
    },
    "tags": []
   },
   "outputs": [],
   "source": [
    "###################################\n",
    "# Build the network(s)\n",
    "# Note: It's critical to do this AFTER setting the RNG\n",
    "###################################\n",
    "x_net = build_sequential(p.x_net)"
   ]
  },
  {
   "cell_type": "code",
   "execution_count": 9,
   "id": "5d7e61cc",
   "metadata": {
    "execution": {
     "iopub.execute_input": "2022-03-19T20:34:17.083491Z",
     "iopub.status.busy": "2022-03-19T20:34:17.083215Z",
     "iopub.status.idle": "2022-03-19T20:34:17.098829Z",
     "shell.execute_reply": "2022-03-19T20:34:17.099223Z"
    },
    "papermill": {
     "duration": 0.033097,
     "end_time": "2022-03-19T20:34:17.099371",
     "exception": false,
     "start_time": "2022-03-19T20:34:17.066274",
     "status": "completed"
    },
    "tags": []
   },
   "outputs": [],
   "source": [
    "start_time_secs = time.time()"
   ]
  },
  {
   "cell_type": "code",
   "execution_count": 10,
   "id": "c6b67dfd",
   "metadata": {
    "execution": {
     "iopub.execute_input": "2022-03-19T20:34:17.133149Z",
     "iopub.status.busy": "2022-03-19T20:34:17.131758Z",
     "iopub.status.idle": "2022-03-19T20:34:17.149059Z",
     "shell.execute_reply": "2022-03-19T20:34:17.149477Z"
    },
    "papermill": {
     "duration": 0.032382,
     "end_time": "2022-03-19T20:34:17.149600",
     "exception": false,
     "start_time": "2022-03-19T20:34:17.117218",
     "status": "completed"
    },
    "tags": []
   },
   "outputs": [],
   "source": [
    "p.domains_source = []\n",
    "p.domains_target = []\n",
    "\n",
    "\n",
    "train_original_source = []\n",
    "val_original_source   = []\n",
    "test_original_source  = []\n",
    "\n",
    "train_original_target = []\n",
    "val_original_target   = []\n",
    "test_original_target  = []"
   ]
  },
  {
   "cell_type": "code",
   "execution_count": 11,
   "id": "e3d9c3d3",
   "metadata": {
    "execution": {
     "iopub.execute_input": "2022-03-19T20:34:17.181649Z",
     "iopub.status.busy": "2022-03-19T20:34:17.181145Z",
     "iopub.status.idle": "2022-03-19T20:34:17.191490Z",
     "shell.execute_reply": "2022-03-19T20:34:17.191869Z"
    },
    "papermill": {
     "duration": 0.025986,
     "end_time": "2022-03-19T20:34:17.191998",
     "exception": false,
     "start_time": "2022-03-19T20:34:17.166012",
     "status": "completed"
    },
    "tags": []
   },
   "outputs": [],
   "source": [
    "# global_x_transform_func = lambda x: normalize(x.to(torch.get_default_dtype()), \"unit_power\") # unit_power, unit_mag\n",
    "# global_x_transform_func = lambda x: normalize(x, \"unit_power\") # unit_power, unit_mag"
   ]
  },
  {
   "cell_type": "code",
   "execution_count": 12,
   "id": "acb78fd2",
   "metadata": {
    "execution": {
     "iopub.execute_input": "2022-03-19T20:34:17.231117Z",
     "iopub.status.busy": "2022-03-19T20:34:17.230699Z",
     "iopub.status.idle": "2022-03-19T20:34:17.244678Z",
     "shell.execute_reply": "2022-03-19T20:34:17.244242Z"
    },
    "papermill": {
     "duration": 0.035304,
     "end_time": "2022-03-19T20:34:17.244783",
     "exception": false,
     "start_time": "2022-03-19T20:34:17.209479",
     "status": "completed"
    },
    "tags": []
   },
   "outputs": [],
   "source": [
    "def add_dataset(\n",
    "    labels,\n",
    "    domains,\n",
    "    pickle_path,\n",
    "    x_transforms,\n",
    "    episode_transforms,\n",
    "    domain_prefix,\n",
    "    num_examples_per_domain_per_label,\n",
    "    source_or_target_dataset:str,\n",
    "    iterator_seed=p.seed,\n",
    "    dataset_seed=p.dataset_seed,\n",
    "    n_shot=p.n_shot,\n",
    "    n_way=p.n_way,\n",
    "    n_query=p.n_query,\n",
    "    train_val_test_k_factors=(p.train_k_factor,p.val_k_factor,p.test_k_factor),\n",
    "):\n",
    "   \n",
    "    if x_transforms == []: x_transform = None\n",
    "    else: x_transform = get_chained_transform(x_transforms)\n",
    "    \n",
    "    if episode_transforms == []: episode_transform = None\n",
    "    else: raise Exception(\"episode_transforms not implemented\")\n",
    "    \n",
    "    episode_transform = lambda tup, _prefix=domain_prefix: (_prefix + str(tup[0]), tup[1])\n",
    "\n",
    "\n",
    "    eaf = Episodic_Accessor_Factory(\n",
    "        labels=labels,\n",
    "        domains=domains,\n",
    "        num_examples_per_domain_per_label=num_examples_per_domain_per_label,\n",
    "        iterator_seed=iterator_seed,\n",
    "        dataset_seed=dataset_seed,\n",
    "        n_shot=n_shot,\n",
    "        n_way=n_way,\n",
    "        n_query=n_query,\n",
    "        train_val_test_k_factors=train_val_test_k_factors,\n",
    "        pickle_path=pickle_path,\n",
    "        x_transform_func=x_transform,\n",
    "    )\n",
    "\n",
    "    train, val, test = eaf.get_train(), eaf.get_val(), eaf.get_test()\n",
    "    train = Lazy_Iterable_Wrapper(train, episode_transform)\n",
    "    val = Lazy_Iterable_Wrapper(val, episode_transform)\n",
    "    test = Lazy_Iterable_Wrapper(test, episode_transform)\n",
    "\n",
    "    if source_or_target_dataset==\"source\":\n",
    "        train_original_source.append(train)\n",
    "        val_original_source.append(val)\n",
    "        test_original_source.append(test)\n",
    "\n",
    "        p.domains_source.extend(\n",
    "            [domain_prefix + str(u) for u in domains]\n",
    "        )\n",
    "    elif source_or_target_dataset==\"target\":\n",
    "        train_original_target.append(train)\n",
    "        val_original_target.append(val)\n",
    "        test_original_target.append(test)\n",
    "        p.domains_target.extend(\n",
    "            [domain_prefix + str(u) for u in domains]\n",
    "        )\n",
    "    else:\n",
    "        raise Exception(f\"invalid source_or_target_dataset: {source_or_target_dataset}\")\n",
    "    "
   ]
  },
  {
   "cell_type": "code",
   "execution_count": 13,
   "id": "fe266617",
   "metadata": {
    "execution": {
     "iopub.execute_input": "2022-03-19T20:34:17.279063Z",
     "iopub.status.busy": "2022-03-19T20:34:17.278806Z",
     "iopub.status.idle": "2022-03-19T20:35:06.594297Z",
     "shell.execute_reply": "2022-03-19T20:35:06.593853Z"
    },
    "papermill": {
     "duration": 49.331063,
     "end_time": "2022-03-19T20:35:06.594412",
     "exception": false,
     "start_time": "2022-03-19T20:34:17.263349",
     "status": "completed"
    },
    "tags": []
   },
   "outputs": [],
   "source": [
    "for ds in p.datasets:\n",
    "    add_dataset(**ds)"
   ]
  },
  {
   "cell_type": "code",
   "execution_count": 14,
   "id": "b90d65ac",
   "metadata": {
    "execution": {
     "iopub.execute_input": "2022-03-19T20:35:06.628498Z",
     "iopub.status.busy": "2022-03-19T20:35:06.628248Z",
     "iopub.status.idle": "2022-03-19T20:35:06.641837Z",
     "shell.execute_reply": "2022-03-19T20:35:06.641410Z"
    },
    "papermill": {
     "duration": 0.029026,
     "end_time": "2022-03-19T20:35:06.641941",
     "exception": false,
     "start_time": "2022-03-19T20:35:06.612915",
     "status": "completed"
    },
    "tags": []
   },
   "outputs": [],
   "source": [
    "# from steves_utils.CORES.utils import (\n",
    "#     ALL_NODES,\n",
    "#     ALL_NODES_MINIMUM_1000_EXAMPLES,\n",
    "#     ALL_DAYS\n",
    "# )\n",
    "\n",
    "# add_dataset(\n",
    "#     labels=ALL_NODES,\n",
    "#     domains = ALL_DAYS,\n",
    "#     num_examples_per_domain_per_label=100,\n",
    "#     pickle_path=os.path.join(get_datasets_base_path(), \"cores.stratified_ds.2022A.pkl\"),\n",
    "#     source_or_target_dataset=\"target\",\n",
    "#     x_transform_func=global_x_transform_func,\n",
    "#     domain_modifier=lambda u: f\"cores_{u}\"\n",
    "# )"
   ]
  },
  {
   "cell_type": "code",
   "execution_count": 15,
   "id": "76db484d",
   "metadata": {
    "execution": {
     "iopub.execute_input": "2022-03-19T20:35:06.675283Z",
     "iopub.status.busy": "2022-03-19T20:35:06.675009Z",
     "iopub.status.idle": "2022-03-19T20:35:06.690679Z",
     "shell.execute_reply": "2022-03-19T20:35:06.691057Z"
    },
    "papermill": {
     "duration": 0.031108,
     "end_time": "2022-03-19T20:35:06.691187",
     "exception": false,
     "start_time": "2022-03-19T20:35:06.660079",
     "status": "completed"
    },
    "tags": []
   },
   "outputs": [],
   "source": [
    "# from steves_utils.ORACLE.utils_v2 import (\n",
    "#     ALL_DISTANCES_FEET,\n",
    "#     ALL_RUNS,\n",
    "#     ALL_SERIAL_NUMBERS,\n",
    "# )\n",
    "\n",
    "\n",
    "# add_dataset(\n",
    "#     labels=ALL_SERIAL_NUMBERS,\n",
    "#     domains = list(set(ALL_DISTANCES_FEET) - {2,62}),\n",
    "#     num_examples_per_domain_per_label=100,\n",
    "#     pickle_path=os.path.join(get_datasets_base_path(), \"oracle.Run2_framed_2000Examples_stratified_ds.2022A.pkl\"),\n",
    "#     source_or_target_dataset=\"source\",\n",
    "#     x_transform_func=global_x_transform_func,\n",
    "#     domain_modifier=lambda u: f\"oracle1_{u}\"\n",
    "# )\n"
   ]
  },
  {
   "cell_type": "code",
   "execution_count": 16,
   "id": "97dea9d2",
   "metadata": {
    "execution": {
     "iopub.execute_input": "2022-03-19T20:35:06.725923Z",
     "iopub.status.busy": "2022-03-19T20:35:06.725674Z",
     "iopub.status.idle": "2022-03-19T20:35:06.736773Z",
     "shell.execute_reply": "2022-03-19T20:35:06.736455Z"
    },
    "papermill": {
     "duration": 0.026126,
     "end_time": "2022-03-19T20:35:06.736858",
     "exception": false,
     "start_time": "2022-03-19T20:35:06.710732",
     "status": "completed"
    },
    "tags": []
   },
   "outputs": [],
   "source": [
    "# from steves_utils.ORACLE.utils_v2 import (\n",
    "#     ALL_DISTANCES_FEET,\n",
    "#     ALL_RUNS,\n",
    "#     ALL_SERIAL_NUMBERS,\n",
    "# )\n",
    "\n",
    "\n",
    "# add_dataset(\n",
    "#     labels=ALL_SERIAL_NUMBERS,\n",
    "#     domains = list(set(ALL_DISTANCES_FEET) - {2,62,56}),\n",
    "#     num_examples_per_domain_per_label=100,\n",
    "#     pickle_path=os.path.join(get_datasets_base_path(), \"oracle.Run2_framed_2000Examples_stratified_ds.2022A.pkl\"),\n",
    "#     source_or_target_dataset=\"source\",\n",
    "#     x_transform_func=global_x_transform_func,\n",
    "#     domain_modifier=lambda u: f\"oracle2_{u}\"\n",
    "# )"
   ]
  },
  {
   "cell_type": "code",
   "execution_count": 17,
   "id": "6f289866",
   "metadata": {
    "execution": {
     "iopub.execute_input": "2022-03-19T20:35:06.767320Z",
     "iopub.status.busy": "2022-03-19T20:35:06.767064Z",
     "iopub.status.idle": "2022-03-19T20:35:06.782248Z",
     "shell.execute_reply": "2022-03-19T20:35:06.782624Z"
    },
    "papermill": {
     "duration": 0.031149,
     "end_time": "2022-03-19T20:35:06.782753",
     "exception": false,
     "start_time": "2022-03-19T20:35:06.751604",
     "status": "completed"
    },
    "tags": []
   },
   "outputs": [],
   "source": [
    "# add_dataset(\n",
    "#     labels=list(range(19)),\n",
    "#     domains = [0,1,2],\n",
    "#     num_examples_per_domain_per_label=100,\n",
    "#     pickle_path=os.path.join(get_datasets_base_path(), \"metehan.stratified_ds.2022A.pkl\"),\n",
    "#     source_or_target_dataset=\"target\",\n",
    "#     x_transform_func=global_x_transform_func,\n",
    "#     domain_modifier=lambda u: f\"met_{u}\"\n",
    "# )"
   ]
  },
  {
   "cell_type": "code",
   "execution_count": 18,
   "id": "86a863c3",
   "metadata": {
    "execution": {
     "iopub.execute_input": "2022-03-19T20:35:06.816746Z",
     "iopub.status.busy": "2022-03-19T20:35:06.816495Z",
     "iopub.status.idle": "2022-03-19T20:35:06.830784Z",
     "shell.execute_reply": "2022-03-19T20:35:06.831161Z"
    },
    "papermill": {
     "duration": 0.030324,
     "end_time": "2022-03-19T20:35:06.831314",
     "exception": false,
     "start_time": "2022-03-19T20:35:06.800990",
     "status": "completed"
    },
    "tags": []
   },
   "outputs": [],
   "source": [
    "# # from steves_utils.wisig.utils import (\n",
    "# #     ALL_NODES_MINIMUM_100_EXAMPLES,\n",
    "# #     ALL_NODES_MINIMUM_500_EXAMPLES,\n",
    "# #     ALL_NODES_MINIMUM_1000_EXAMPLES,\n",
    "# #     ALL_DAYS\n",
    "# # )\n",
    "\n",
    "# import steves_utils.wisig.utils as wisig\n",
    "\n",
    "\n",
    "# add_dataset(\n",
    "#     labels=wisig.ALL_NODES_MINIMUM_100_EXAMPLES,\n",
    "#     domains = wisig.ALL_DAYS,\n",
    "#     num_examples_per_domain_per_label=100,\n",
    "#     pickle_path=os.path.join(get_datasets_base_path(), \"wisig.node3-19.stratified_ds.2022A.pkl\"),\n",
    "#     source_or_target_dataset=\"target\",\n",
    "#     x_transform_func=global_x_transform_func,\n",
    "#     domain_modifier=lambda u: f\"wisig_{u}\"\n",
    "# )"
   ]
  },
  {
   "cell_type": "code",
   "execution_count": 19,
   "id": "fd5442bc",
   "metadata": {
    "execution": {
     "iopub.execute_input": "2022-03-19T20:35:06.870037Z",
     "iopub.status.busy": "2022-03-19T20:35:06.869777Z",
     "iopub.status.idle": "2022-03-19T20:35:06.887245Z",
     "shell.execute_reply": "2022-03-19T20:35:06.886668Z"
    },
    "papermill": {
     "duration": 0.036276,
     "end_time": "2022-03-19T20:35:06.887380",
     "exception": false,
     "start_time": "2022-03-19T20:35:06.851104",
     "status": "completed"
    },
    "tags": []
   },
   "outputs": [],
   "source": [
    "###################################\n",
    "# Build the dataset\n",
    "###################################\n",
    "train_original_source = Iterable_Aggregator(train_original_source, p.seed)\n",
    "val_original_source = Iterable_Aggregator(val_original_source, p.seed)\n",
    "test_original_source = Iterable_Aggregator(test_original_source, p.seed)\n",
    "\n",
    "\n",
    "train_original_target = Iterable_Aggregator(train_original_target, p.seed)\n",
    "val_original_target = Iterable_Aggregator(val_original_target, p.seed)\n",
    "test_original_target = Iterable_Aggregator(test_original_target, p.seed)\n",
    "\n",
    "# For CNN We only use X and Y. And we only train on the source.\n",
    "# Properly form the data using a transform lambda and Lazy_Iterable_Wrapper. Finally wrap them in a dataloader\n",
    "\n",
    "transform_lambda = lambda ex: ex[1] # Original is (<domain>, <episode>) so we strip down to episode only\n",
    "\n",
    "train_processed_source = Lazy_Iterable_Wrapper(train_original_source, transform_lambda)\n",
    "val_processed_source   = Lazy_Iterable_Wrapper(val_original_source, transform_lambda)\n",
    "test_processed_source  = Lazy_Iterable_Wrapper(test_original_source, transform_lambda)\n",
    "\n",
    "train_processed_target = Lazy_Iterable_Wrapper(train_original_target, transform_lambda)\n",
    "val_processed_target   = Lazy_Iterable_Wrapper(val_original_target, transform_lambda)\n",
    "test_processed_target  = Lazy_Iterable_Wrapper(test_original_target, transform_lambda)\n",
    "\n",
    "datasets = EasyDict({\n",
    "    \"source\": {\n",
    "        \"original\": {\"train\":train_original_source, \"val\":val_original_source, \"test\":test_original_source},\n",
    "        \"processed\": {\"train\":train_processed_source, \"val\":val_processed_source, \"test\":test_processed_source}\n",
    "    },\n",
    "    \"target\": {\n",
    "        \"original\": {\"train\":train_original_target, \"val\":val_original_target, \"test\":test_original_target},\n",
    "        \"processed\": {\"train\":train_processed_target, \"val\":val_processed_target, \"test\":test_processed_target}\n",
    "    },\n",
    "})"
   ]
  },
  {
   "cell_type": "code",
   "execution_count": 20,
   "id": "5b3c01fc",
   "metadata": {
    "execution": {
     "iopub.execute_input": "2022-03-19T20:35:06.924860Z",
     "iopub.status.busy": "2022-03-19T20:35:06.924608Z",
     "iopub.status.idle": "2022-03-19T20:35:15.807178Z",
     "shell.execute_reply": "2022-03-19T20:35:15.807495Z"
    },
    "papermill": {
     "duration": 8.899771,
     "end_time": "2022-03-19T20:35:15.807602",
     "exception": false,
     "start_time": "2022-03-19T20:35:06.907831",
     "status": "completed"
    },
    "tags": []
   },
   "outputs": [
    {
     "name": "stdout",
     "output_type": "stream",
     "text": [
      "{'O_50', 'O_20', 'O_32', 'O_38', 'O_14', 'O_8', 'O_44', 'O_26'}\n"
     ]
    },
    {
     "name": "stdout",
     "output_type": "stream",
     "text": [
      "{'C_2', 'W_3', 'C_5', 'W_1', 'C_1', 'W_2', 'C_4', 'C_3', 'W_4'}\n"
     ]
    },
    {
     "name": "stdout",
     "output_type": "stream",
     "text": [
      "tensor([[[ 0.6495,  0.3202, -0.9787,  ..., -0.2744,  1.3812,  0.4757],\n",
      "         [ 0.1555,  1.2166, -0.3110,  ..., -1.0611, -0.1738, -0.7043]],\n",
      "\n",
      "        [[-0.6653,  0.5267,  0.5452,  ..., -0.5452, -1.2104, -0.7669],\n",
      "         [-0.4990, -1.0349,  0.9517,  ...,  1.0441, -0.7854,  0.2864]],\n",
      "\n",
      "        [[-0.0370,  1.1380, -0.2313,  ..., -1.0917, -0.1573, -0.7402],\n",
      "         [-0.5829, -0.1665,  1.0177,  ..., -0.0185, -1.4618, -0.5551]],\n",
      "\n",
      "        ...,\n",
      "\n",
      "        [[ 0.7020,  0.1576, -0.9455,  ..., -0.2650,  1.3467,  0.3940],\n",
      "         [ 0.1648,  1.0745, -0.4083,  ..., -1.0960, -0.1433, -0.9384]],\n",
      "\n",
      "        [[ 0.9806,  0.3002, -1.2808,  ..., -0.1067,  1.0273, -0.7472],\n",
      "         [ 0.1001,  0.8339, -0.1201,  ..., -0.9473, -0.8139, -0.9473]],\n",
      "\n",
      "        [[ 0.8709,  0.5375, -0.9934,  ..., -0.7689, -0.2041, -1.3336],\n",
      "         [-0.7008,  0.5307,  0.9254,  ..., -0.8097, -1.1976,  0.2450]]])\n"
     ]
    }
   ],
   "source": [
    "from steves_utils.transforms import get_average_magnitude, get_average_power\n",
    "\n",
    "print(set([u for u,_ in val_original_source]))\n",
    "print(set([u for u,_ in val_original_target]))\n",
    "\n",
    "s_x, s_y, q_x, q_y, _ = next(iter(train_processed_source))\n",
    "print(s_x)\n",
    "\n",
    "# for ds in [\n",
    "#     train_processed_source,\n",
    "#     val_processed_source,\n",
    "#     test_processed_source,\n",
    "#     train_processed_target,\n",
    "#     val_processed_target,\n",
    "#     test_processed_target\n",
    "# ]:\n",
    "#     for s_x, s_y, q_x, q_y, _ in ds:\n",
    "#         for X in (s_x, q_x):\n",
    "#             for x in X:\n",
    "#                 assert np.isclose(get_average_magnitude(x.numpy()), 1.0)\n",
    "#                 assert np.isclose(get_average_power(x.numpy()), 1.0)\n",
    "                "
   ]
  },
  {
   "cell_type": "code",
   "execution_count": 21,
   "id": "bbdacba1",
   "metadata": {
    "execution": {
     "iopub.execute_input": "2022-03-19T20:35:15.843460Z",
     "iopub.status.busy": "2022-03-19T20:35:15.843008Z",
     "iopub.status.idle": "2022-03-19T20:35:15.902097Z",
     "shell.execute_reply": "2022-03-19T20:35:15.901648Z"
    },
    "papermill": {
     "duration": 0.077519,
     "end_time": "2022-03-19T20:35:15.902208",
     "exception": false,
     "start_time": "2022-03-19T20:35:15.824689",
     "status": "completed"
    },
    "tags": []
   },
   "outputs": [
    {
     "name": "stdout",
     "output_type": "stream",
     "text": [
      "(2, 256)\n"
     ]
    }
   ],
   "source": [
    "###################################\n",
    "# Build the model\n",
    "###################################\n",
    "# easfsl only wants a tuple for the shape\n",
    "model = Steves_Prototypical_Network(x_net, device=p.device, x_shape=tuple(p.x_shape))\n",
    "optimizer = Adam(params=model.parameters(), lr=p.lr)"
   ]
  },
  {
   "cell_type": "code",
   "execution_count": 22,
   "id": "22b39ac5",
   "metadata": {
    "execution": {
     "iopub.execute_input": "2022-03-19T20:35:15.943989Z",
     "iopub.status.busy": "2022-03-19T20:35:15.941355Z",
     "iopub.status.idle": "2022-03-19T21:00:26.600152Z",
     "shell.execute_reply": "2022-03-19T21:00:26.599922Z"
    },
    "papermill": {
     "duration": 1510.676813,
     "end_time": "2022-03-19T21:00:26.600210",
     "exception": false,
     "start_time": "2022-03-19T20:35:15.923397",
     "status": "completed"
    },
    "tags": []
   },
   "outputs": [
    {
     "name": "stdout",
     "output_type": "stream",
     "text": [
      "epoch: 1, [batch: 1 / 6720], examples_per_second: 44.9050, train_label_loss: 3.0269, \n"
     ]
    },
    {
     "name": "stdout",
     "output_type": "stream",
     "text": [
      "epoch: 1, [batch: 672 / 6720], examples_per_second: 3126.8621, train_label_loss: 1.0602, \n"
     ]
    },
    {
     "name": "stdout",
     "output_type": "stream",
     "text": [
      "epoch: 1, [batch: 1344 / 6720], examples_per_second: 3127.9553, train_label_loss: 0.8338, \n"
     ]
    },
    {
     "name": "stdout",
     "output_type": "stream",
     "text": [
      "epoch: 1, [batch: 2016 / 6720], examples_per_second: 3152.0429, train_label_loss: 0.8358, \n"
     ]
    },
    {
     "name": "stdout",
     "output_type": "stream",
     "text": [
      "epoch: 1, [batch: 2688 / 6720], examples_per_second: 3113.2004, train_label_loss: 0.6416, \n"
     ]
    },
    {
     "name": "stdout",
     "output_type": "stream",
     "text": [
      "epoch: 1, [batch: 3360 / 6720], examples_per_second: 3094.7723, train_label_loss: 0.8630, \n"
     ]
    },
    {
     "name": "stdout",
     "output_type": "stream",
     "text": [
      "epoch: 1, [batch: 4032 / 6720], examples_per_second: 3122.7498, train_label_loss: 0.5089, \n"
     ]
    },
    {
     "name": "stdout",
     "output_type": "stream",
     "text": [
      "epoch: 1, [batch: 4704 / 6720], examples_per_second: 3090.6946, train_label_loss: 0.4739, \n"
     ]
    },
    {
     "name": "stdout",
     "output_type": "stream",
     "text": [
      "epoch: 1, [batch: 5376 / 6720], examples_per_second: 3166.5169, train_label_loss: 0.7337, \n"
     ]
    },
    {
     "name": "stdout",
     "output_type": "stream",
     "text": [
      "epoch: 1, [batch: 6048 / 6720], examples_per_second: 3141.9622, train_label_loss: 0.3703, \n"
     ]
    },
    {
     "name": "stdout",
     "output_type": "stream",
     "text": [
      "=============================================================\n",
      "epoch: 1, source_val_acc_label: 0.7747, target_val_acc_label: 0.6904, source_val_label_loss: 5.9828, target_val_label_loss: 419.8028, \n",
      "=============================================================\n"
     ]
    },
    {
     "name": "stdout",
     "output_type": "stream",
     "text": [
      "New best\n"
     ]
    },
    {
     "name": "stdout",
     "output_type": "stream",
     "text": [
      "epoch: 2, [batch: 1 / 6720], examples_per_second: 3.8776, train_label_loss: 0.6287, \n"
     ]
    },
    {
     "name": "stdout",
     "output_type": "stream",
     "text": [
      "epoch: 2, [batch: 672 / 6720], examples_per_second: 3176.7837, train_label_loss: 0.5372, \n"
     ]
    },
    {
     "name": "stdout",
     "output_type": "stream",
     "text": [
      "epoch: 2, [batch: 1344 / 6720], examples_per_second: 3202.5720, train_label_loss: 0.4775, \n"
     ]
    },
    {
     "name": "stdout",
     "output_type": "stream",
     "text": [
      "epoch: 2, [batch: 2016 / 6720], examples_per_second: 3179.9435, train_label_loss: 0.2549, \n"
     ]
    },
    {
     "name": "stdout",
     "output_type": "stream",
     "text": [
      "epoch: 2, [batch: 2688 / 6720], examples_per_second: 3117.2629, train_label_loss: 0.5886, \n"
     ]
    },
    {
     "name": "stdout",
     "output_type": "stream",
     "text": [
      "epoch: 2, [batch: 3360 / 6720], examples_per_second: 3129.1751, train_label_loss: 0.4722, \n"
     ]
    },
    {
     "name": "stdout",
     "output_type": "stream",
     "text": [
      "epoch: 2, [batch: 4032 / 6720], examples_per_second: 3202.1780, train_label_loss: 0.3725, \n"
     ]
    },
    {
     "name": "stdout",
     "output_type": "stream",
     "text": [
      "epoch: 2, [batch: 4704 / 6720], examples_per_second: 3234.8711, train_label_loss: 0.5413, \n"
     ]
    },
    {
     "name": "stdout",
     "output_type": "stream",
     "text": [
      "epoch: 2, [batch: 5376 / 6720], examples_per_second: 3248.0441, train_label_loss: 0.8041, \n"
     ]
    },
    {
     "name": "stdout",
     "output_type": "stream",
     "text": [
      "epoch: 2, [batch: 6048 / 6720], examples_per_second: 3245.5203, train_label_loss: 0.2122, \n"
     ]
    },
    {
     "name": "stdout",
     "output_type": "stream",
     "text": [
      "=============================================================\n",
      "epoch: 2, source_val_acc_label: 0.8017, target_val_acc_label: 0.6738, source_val_label_loss: 0.5406, target_val_label_loss: 197.9577, \n",
      "=============================================================\n"
     ]
    },
    {
     "name": "stdout",
     "output_type": "stream",
     "text": [
      "epoch: 3, [batch: 1 / 6720], examples_per_second: 4.0403, train_label_loss: 0.2735, \n"
     ]
    },
    {
     "name": "stdout",
     "output_type": "stream",
     "text": [
      "epoch: 3, [batch: 672 / 6720], examples_per_second: 3228.2697, train_label_loss: 0.7229, \n"
     ]
    },
    {
     "name": "stdout",
     "output_type": "stream",
     "text": [
      "epoch: 3, [batch: 1344 / 6720], examples_per_second: 3257.4965, train_label_loss: 0.9363, \n"
     ]
    },
    {
     "name": "stdout",
     "output_type": "stream",
     "text": [
      "epoch: 3, [batch: 2016 / 6720], examples_per_second: 3260.3611, train_label_loss: 0.1895, \n"
     ]
    },
    {
     "name": "stdout",
     "output_type": "stream",
     "text": [
      "epoch: 3, [batch: 2688 / 6720], examples_per_second: 3254.9268, train_label_loss: 0.6037, \n"
     ]
    },
    {
     "name": "stdout",
     "output_type": "stream",
     "text": [
      "epoch: 3, [batch: 3360 / 6720], examples_per_second: 3244.7211, train_label_loss: 0.5692, \n"
     ]
    },
    {
     "name": "stdout",
     "output_type": "stream",
     "text": [
      "epoch: 3, [batch: 4032 / 6720], examples_per_second: 3246.2354, train_label_loss: 0.4091, \n"
     ]
    },
    {
     "name": "stdout",
     "output_type": "stream",
     "text": [
      "epoch: 3, [batch: 4704 / 6720], examples_per_second: 3229.8595, train_label_loss: 0.3079, \n"
     ]
    },
    {
     "name": "stdout",
     "output_type": "stream",
     "text": [
      "epoch: 3, [batch: 5376 / 6720], examples_per_second: 3258.0356, train_label_loss: 0.5315, \n"
     ]
    },
    {
     "name": "stdout",
     "output_type": "stream",
     "text": [
      "epoch: 3, [batch: 6048 / 6720], examples_per_second: 3255.0560, train_label_loss: 0.3144, \n"
     ]
    },
    {
     "name": "stdout",
     "output_type": "stream",
     "text": [
      "=============================================================\n",
      "epoch: 3, source_val_acc_label: 0.8451, target_val_acc_label: 0.6938, source_val_label_loss: 0.4287, target_val_label_loss: 239.9803, \n",
      "=============================================================\n"
     ]
    },
    {
     "name": "stdout",
     "output_type": "stream",
     "text": [
      "New best\n"
     ]
    },
    {
     "name": "stdout",
     "output_type": "stream",
     "text": [
      "epoch: 4, [batch: 1 / 6720], examples_per_second: 4.0647, train_label_loss: 0.2857, \n"
     ]
    },
    {
     "name": "stdout",
     "output_type": "stream",
     "text": [
      "epoch: 4, [batch: 672 / 6720], examples_per_second: 3235.9870, train_label_loss: 0.3697, \n"
     ]
    },
    {
     "name": "stdout",
     "output_type": "stream",
     "text": [
      "epoch: 4, [batch: 1344 / 6720], examples_per_second: 3199.6841, train_label_loss: 0.2084, \n"
     ]
    },
    {
     "name": "stdout",
     "output_type": "stream",
     "text": [
      "epoch: 4, [batch: 2016 / 6720], examples_per_second: 3298.3825, train_label_loss: 0.1447, \n"
     ]
    },
    {
     "name": "stdout",
     "output_type": "stream",
     "text": [
      "epoch: 4, [batch: 2688 / 6720], examples_per_second: 3266.8687, train_label_loss: 0.3972, \n"
     ]
    },
    {
     "name": "stdout",
     "output_type": "stream",
     "text": [
      "epoch: 4, [batch: 3360 / 6720], examples_per_second: 3262.9154, train_label_loss: 0.7884, \n"
     ]
    },
    {
     "name": "stdout",
     "output_type": "stream",
     "text": [
      "epoch: 4, [batch: 4032 / 6720], examples_per_second: 3252.2939, train_label_loss: 0.3326, \n"
     ]
    },
    {
     "name": "stdout",
     "output_type": "stream",
     "text": [
      "epoch: 4, [batch: 4704 / 6720], examples_per_second: 3272.9832, train_label_loss: 0.2232, \n"
     ]
    },
    {
     "name": "stdout",
     "output_type": "stream",
     "text": [
      "epoch: 4, [batch: 5376 / 6720], examples_per_second: 3287.8382, train_label_loss: 0.2920, \n"
     ]
    },
    {
     "name": "stdout",
     "output_type": "stream",
     "text": [
      "epoch: 4, [batch: 6048 / 6720], examples_per_second: 3282.6292, train_label_loss: 0.3081, \n"
     ]
    },
    {
     "name": "stdout",
     "output_type": "stream",
     "text": [
      "=============================================================\n",
      "epoch: 4, source_val_acc_label: 0.8510, target_val_acc_label: 0.7022, source_val_label_loss: 0.4070, target_val_label_loss: 273.4238, \n",
      "=============================================================\n"
     ]
    },
    {
     "name": "stdout",
     "output_type": "stream",
     "text": [
      "New best\n"
     ]
    },
    {
     "name": "stdout",
     "output_type": "stream",
     "text": [
      "epoch: 5, [batch: 1 / 6720], examples_per_second: 4.0866, train_label_loss: 0.2375, \n"
     ]
    },
    {
     "name": "stdout",
     "output_type": "stream",
     "text": [
      "epoch: 5, [batch: 672 / 6720], examples_per_second: 3262.8789, train_label_loss: 0.7352, \n"
     ]
    },
    {
     "name": "stdout",
     "output_type": "stream",
     "text": [
      "epoch: 5, [batch: 1344 / 6720], examples_per_second: 3284.2283, train_label_loss: 0.3761, \n"
     ]
    },
    {
     "name": "stdout",
     "output_type": "stream",
     "text": [
      "epoch: 5, [batch: 2016 / 6720], examples_per_second: 3278.3438, train_label_loss: 0.6072, \n"
     ]
    },
    {
     "name": "stdout",
     "output_type": "stream",
     "text": [
      "epoch: 5, [batch: 2688 / 6720], examples_per_second: 3262.6433, train_label_loss: 0.4663, \n"
     ]
    },
    {
     "name": "stdout",
     "output_type": "stream",
     "text": [
      "epoch: 5, [batch: 3360 / 6720], examples_per_second: 3255.7215, train_label_loss: 0.3655, \n"
     ]
    },
    {
     "name": "stdout",
     "output_type": "stream",
     "text": [
      "epoch: 5, [batch: 4032 / 6720], examples_per_second: 3274.4674, train_label_loss: 0.3666, \n"
     ]
    },
    {
     "name": "stdout",
     "output_type": "stream",
     "text": [
      "epoch: 5, [batch: 4704 / 6720], examples_per_second: 3266.1523, train_label_loss: 0.2653, \n"
     ]
    },
    {
     "name": "stdout",
     "output_type": "stream",
     "text": [
      "epoch: 5, [batch: 5376 / 6720], examples_per_second: 3280.9700, train_label_loss: 0.2354, \n"
     ]
    },
    {
     "name": "stdout",
     "output_type": "stream",
     "text": [
      "epoch: 5, [batch: 6048 / 6720], examples_per_second: 3296.2843, train_label_loss: 0.1135, \n"
     ]
    },
    {
     "name": "stdout",
     "output_type": "stream",
     "text": [
      "=============================================================\n",
      "epoch: 5, source_val_acc_label: 0.8908, target_val_acc_label: 0.6492, source_val_label_loss: 0.3105, target_val_label_loss: 393.1822, \n",
      "=============================================================\n"
     ]
    },
    {
     "name": "stdout",
     "output_type": "stream",
     "text": [
      "epoch: 6, [batch: 1 / 6720], examples_per_second: 4.0861, train_label_loss: 0.1485, \n"
     ]
    },
    {
     "name": "stdout",
     "output_type": "stream",
     "text": [
      "epoch: 6, [batch: 672 / 6720], examples_per_second: 3258.9133, train_label_loss: 0.1814, \n"
     ]
    },
    {
     "name": "stdout",
     "output_type": "stream",
     "text": [
      "epoch: 6, [batch: 1344 / 6720], examples_per_second: 3289.6442, train_label_loss: 0.4589, \n"
     ]
    },
    {
     "name": "stdout",
     "output_type": "stream",
     "text": [
      "epoch: 6, [batch: 2016 / 6720], examples_per_second: 3273.9072, train_label_loss: 0.7696, \n"
     ]
    },
    {
     "name": "stdout",
     "output_type": "stream",
     "text": [
      "epoch: 6, [batch: 2688 / 6720], examples_per_second: 3276.0928, train_label_loss: 0.1594, \n"
     ]
    },
    {
     "name": "stdout",
     "output_type": "stream",
     "text": [
      "epoch: 6, [batch: 3360 / 6720], examples_per_second: 3292.7209, train_label_loss: 0.1549, \n"
     ]
    },
    {
     "name": "stdout",
     "output_type": "stream",
     "text": [
      "epoch: 6, [batch: 4032 / 6720], examples_per_second: 3293.9111, train_label_loss: 0.3209, \n"
     ]
    },
    {
     "name": "stdout",
     "output_type": "stream",
     "text": [
      "epoch: 6, [batch: 4704 / 6720], examples_per_second: 3291.2293, train_label_loss: 0.3878, \n"
     ]
    },
    {
     "name": "stdout",
     "output_type": "stream",
     "text": [
      "epoch: 6, [batch: 5376 / 6720], examples_per_second: 3276.2893, train_label_loss: 0.4721, \n"
     ]
    },
    {
     "name": "stdout",
     "output_type": "stream",
     "text": [
      "epoch: 6, [batch: 6048 / 6720], examples_per_second: 3284.0161, train_label_loss: 0.5654, \n"
     ]
    },
    {
     "name": "stdout",
     "output_type": "stream",
     "text": [
      "=============================================================\n",
      "epoch: 6, source_val_acc_label: 0.8971, target_val_acc_label: 0.6531, source_val_label_loss: 0.2953, target_val_label_loss: 455.0758, \n",
      "=============================================================\n"
     ]
    },
    {
     "name": "stdout",
     "output_type": "stream",
     "text": [
      "epoch: 7, [batch: 1 / 6720], examples_per_second: 4.0976, train_label_loss: 0.1997, \n"
     ]
    },
    {
     "name": "stdout",
     "output_type": "stream",
     "text": [
      "epoch: 7, [batch: 672 / 6720], examples_per_second: 3253.6487, train_label_loss: 0.4060, \n"
     ]
    },
    {
     "name": "stdout",
     "output_type": "stream",
     "text": [
      "epoch: 7, [batch: 1344 / 6720], examples_per_second: 3298.3715, train_label_loss: 0.0406, \n"
     ]
    },
    {
     "name": "stdout",
     "output_type": "stream",
     "text": [
      "epoch: 7, [batch: 2016 / 6720], examples_per_second: 3287.1993, train_label_loss: 0.3481, \n"
     ]
    },
    {
     "name": "stdout",
     "output_type": "stream",
     "text": [
      "epoch: 7, [batch: 2688 / 6720], examples_per_second: 3268.9950, train_label_loss: 0.1464, \n"
     ]
    },
    {
     "name": "stdout",
     "output_type": "stream",
     "text": [
      "epoch: 7, [batch: 3360 / 6720], examples_per_second: 3276.7756, train_label_loss: 0.2832, \n"
     ]
    },
    {
     "name": "stdout",
     "output_type": "stream",
     "text": [
      "epoch: 7, [batch: 4032 / 6720], examples_per_second: 3281.6954, train_label_loss: 0.3110, \n"
     ]
    },
    {
     "name": "stdout",
     "output_type": "stream",
     "text": [
      "epoch: 7, [batch: 4704 / 6720], examples_per_second: 3249.4274, train_label_loss: 0.7052, \n"
     ]
    },
    {
     "name": "stdout",
     "output_type": "stream",
     "text": [
      "epoch: 7, [batch: 5376 / 6720], examples_per_second: 3265.3299, train_label_loss: 0.1953, \n"
     ]
    },
    {
     "name": "stdout",
     "output_type": "stream",
     "text": [
      "epoch: 7, [batch: 6048 / 6720], examples_per_second: 3278.4836, train_label_loss: 0.2326, \n"
     ]
    },
    {
     "name": "stdout",
     "output_type": "stream",
     "text": [
      "=============================================================\n",
      "epoch: 7, source_val_acc_label: 0.8886, target_val_acc_label: 0.6595, source_val_label_loss: 0.3112, target_val_label_loss: 502.5250, \n",
      "=============================================================\n"
     ]
    },
    {
     "name": "stdout",
     "output_type": "stream",
     "text": [
      "epoch: 8, [batch: 1 / 6720], examples_per_second: 4.0665, train_label_loss: 0.1330, \n"
     ]
    },
    {
     "name": "stdout",
     "output_type": "stream",
     "text": [
      "epoch: 8, [batch: 672 / 6720], examples_per_second: 3235.8387, train_label_loss: 0.1037, \n"
     ]
    },
    {
     "name": "stdout",
     "output_type": "stream",
     "text": [
      "epoch: 8, [batch: 1344 / 6720], examples_per_second: 3268.3156, train_label_loss: 0.0951, \n"
     ]
    },
    {
     "name": "stdout",
     "output_type": "stream",
     "text": [
      "epoch: 8, [batch: 2016 / 6720], examples_per_second: 3280.2419, train_label_loss: 0.2677, \n"
     ]
    },
    {
     "name": "stdout",
     "output_type": "stream",
     "text": [
      "epoch: 8, [batch: 2688 / 6720], examples_per_second: 3272.6245, train_label_loss: 0.1673, \n"
     ]
    },
    {
     "name": "stdout",
     "output_type": "stream",
     "text": [
      "epoch: 8, [batch: 3360 / 6720], examples_per_second: 3279.4730, train_label_loss: 0.1063, \n"
     ]
    },
    {
     "name": "stdout",
     "output_type": "stream",
     "text": [
      "epoch: 8, [batch: 4032 / 6720], examples_per_second: 3286.0267, train_label_loss: 0.1545, \n"
     ]
    },
    {
     "name": "stdout",
     "output_type": "stream",
     "text": [
      "epoch: 8, [batch: 4704 / 6720], examples_per_second: 3261.2883, train_label_loss: 0.4420, \n"
     ]
    },
    {
     "name": "stdout",
     "output_type": "stream",
     "text": [
      "epoch: 8, [batch: 5376 / 6720], examples_per_second: 3282.6253, train_label_loss: 0.0683, \n"
     ]
    },
    {
     "name": "stdout",
     "output_type": "stream",
     "text": [
      "epoch: 8, [batch: 6048 / 6720], examples_per_second: 3285.9931, train_label_loss: 0.1962, \n"
     ]
    },
    {
     "name": "stdout",
     "output_type": "stream",
     "text": [
      "=============================================================\n",
      "epoch: 8, source_val_acc_label: 0.8865, target_val_acc_label: 0.6576, source_val_label_loss: 0.3098, target_val_label_loss: 548.3022, \n",
      "=============================================================\n"
     ]
    },
    {
     "name": "stdout",
     "output_type": "stream",
     "text": [
      "Patience (3) exhausted\n"
     ]
    }
   ],
   "source": [
    "###################################\n",
    "# train\n",
    "###################################\n",
    "jig = PTN_Train_Eval_Test_Jig(model, p.BEST_MODEL_PATH, p.device)\n",
    "\n",
    "jig.train(\n",
    "    train_iterable=datasets.source.processed.train,\n",
    "    source_val_iterable=datasets.source.processed.val,\n",
    "    target_val_iterable=datasets.target.processed.val,\n",
    "    num_epochs=p.n_epoch,\n",
    "    num_logs_per_epoch=p.NUM_LOGS_PER_EPOCH,\n",
    "    patience=p.patience,\n",
    "    optimizer=optimizer,\n",
    "    criteria_for_best=p.criteria_for_best,\n",
    ")"
   ]
  },
  {
   "cell_type": "code",
   "execution_count": 23,
   "id": "31e8fabf",
   "metadata": {
    "execution": {
     "iopub.execute_input": "2022-03-19T21:00:26.663777Z",
     "iopub.status.busy": "2022-03-19T21:00:26.663527Z",
     "iopub.status.idle": "2022-03-19T21:00:26.678041Z",
     "shell.execute_reply": "2022-03-19T21:00:26.677695Z"
    },
    "papermill": {
     "duration": 0.047569,
     "end_time": "2022-03-19T21:00:26.678113",
     "exception": false,
     "start_time": "2022-03-19T21:00:26.630544",
     "status": "completed"
    },
    "tags": []
   },
   "outputs": [],
   "source": [
    "total_experiment_time_secs = time.time() - start_time_secs"
   ]
  },
  {
   "cell_type": "code",
   "execution_count": 24,
   "id": "87b9595b",
   "metadata": {
    "execution": {
     "iopub.execute_input": "2022-03-19T21:00:26.747103Z",
     "iopub.status.busy": "2022-03-19T21:00:26.746842Z",
     "iopub.status.idle": "2022-03-19T21:02:49.817755Z",
     "shell.execute_reply": "2022-03-19T21:02:49.818120Z"
    },
    "papermill": {
     "duration": 143.10573,
     "end_time": "2022-03-19T21:02:49.818256",
     "exception": false,
     "start_time": "2022-03-19T21:00:26.712526",
     "status": "completed"
    },
    "tags": []
   },
   "outputs": [],
   "source": [
    "###################################\n",
    "# Evaluate the model\n",
    "###################################\n",
    "source_test_label_accuracy, source_test_label_loss = jig.test(datasets.source.processed.test)\n",
    "target_test_label_accuracy, target_test_label_loss = jig.test(datasets.target.processed.test)\n",
    "\n",
    "source_val_label_accuracy, source_val_label_loss = jig.test(datasets.source.processed.val)\n",
    "target_val_label_accuracy, target_val_label_loss = jig.test(datasets.target.processed.val)\n",
    "\n",
    "history = jig.get_history()\n",
    "\n",
    "total_epochs_trained = len(history[\"epoch_indices\"])\n",
    "\n",
    "val_dl = Iterable_Aggregator((datasets.source.original.val,datasets.target.original.val))\n",
    "\n",
    "confusion = ptn_confusion_by_domain_over_dataloader(model, p.device, val_dl)\n",
    "per_domain_accuracy = per_domain_accuracy_from_confusion(confusion)\n",
    "\n",
    "# Add a key to per_domain_accuracy for if it was a source domain\n",
    "for domain, accuracy in per_domain_accuracy.items():\n",
    "    per_domain_accuracy[domain] = {\n",
    "        \"accuracy\": accuracy,\n",
    "        \"source?\": domain in p.domains_source\n",
    "    }\n",
    "\n",
    "# Do an independent accuracy assesment JUST TO BE SURE!\n",
    "# _source_test_label_accuracy = independent_accuracy_assesment(model, datasets.source.processed.test, p.device)\n",
    "# _target_test_label_accuracy = independent_accuracy_assesment(model, datasets.target.processed.test, p.device)\n",
    "# _source_val_label_accuracy = independent_accuracy_assesment(model, datasets.source.processed.val, p.device)\n",
    "# _target_val_label_accuracy = independent_accuracy_assesment(model, datasets.target.processed.val, p.device)\n",
    "\n",
    "# assert(_source_test_label_accuracy == source_test_label_accuracy)\n",
    "# assert(_target_test_label_accuracy == target_test_label_accuracy)\n",
    "# assert(_source_val_label_accuracy == source_val_label_accuracy)\n",
    "# assert(_target_val_label_accuracy == target_val_label_accuracy)\n",
    "\n",
    "experiment = {\n",
    "    \"experiment_name\": p.experiment_name,\n",
    "    \"parameters\": dict(p),\n",
    "    \"results\": {\n",
    "        \"source_test_label_accuracy\": source_test_label_accuracy,\n",
    "        \"source_test_label_loss\": source_test_label_loss,\n",
    "        \"target_test_label_accuracy\": target_test_label_accuracy,\n",
    "        \"target_test_label_loss\": target_test_label_loss,\n",
    "        \"source_val_label_accuracy\": source_val_label_accuracy,\n",
    "        \"source_val_label_loss\": source_val_label_loss,\n",
    "        \"target_val_label_accuracy\": target_val_label_accuracy,\n",
    "        \"target_val_label_loss\": target_val_label_loss,\n",
    "        \"total_epochs_trained\": total_epochs_trained,\n",
    "        \"total_experiment_time_secs\": total_experiment_time_secs,\n",
    "        \"confusion\": confusion,\n",
    "        \"per_domain_accuracy\": per_domain_accuracy,\n",
    "    },\n",
    "    \"history\": history,\n",
    "    \"dataset_metrics\": get_dataset_metrics(datasets, \"ptn\"),\n",
    "}"
   ]
  },
  {
   "cell_type": "code",
   "execution_count": 25,
   "id": "54a21829",
   "metadata": {
    "execution": {
     "iopub.execute_input": "2022-03-19T21:02:49.888559Z",
     "iopub.status.busy": "2022-03-19T21:02:49.888309Z",
     "iopub.status.idle": "2022-03-19T21:02:50.008346Z",
     "shell.execute_reply": "2022-03-19T21:02:50.008743Z"
    },
    "papermill": {
     "duration": 0.153707,
     "end_time": "2022-03-19T21:02:50.008873",
     "exception": false,
     "start_time": "2022-03-19T21:02:49.855166",
     "status": "completed"
    },
    "tags": []
   },
   "outputs": [
    {
     "data": {
      "image/png": "[encoded data removed]",
      "text/plain": [
       "<Figure size 1080x504 with 1 Axes>"
      ]
     },
     "metadata": {
      "needs_background": "light"
     },
     "output_type": "display_data"
    }
   ],
   "source": [
    "ax = get_loss_curve(experiment)\n",
    "plt.show()"
   ]
  },
  {
   "cell_type": "code",
   "execution_count": 26,
   "id": "fd8a0f60",
   "metadata": {
    "execution": {
     "iopub.execute_input": "2022-03-19T21:02:50.079845Z",
     "iopub.status.busy": "2022-03-19T21:02:50.077185Z",
     "iopub.status.idle": "2022-03-19T21:02:50.220124Z",
     "shell.execute_reply": "2022-03-19T21:02:50.220326Z"
    },
    "papermill": {
     "duration": 0.176686,
     "end_time": "2022-03-19T21:02:50.220409",
     "exception": false,
     "start_time": "2022-03-19T21:02:50.043723",
     "status": "completed"
    },
    "tags": []
   },
   "outputs": [
    {
     "data": {
      "text/plain": [
       "<AxesSubplot:title={'center':'Results'}>"
      ]
     },
     "execution_count": 26,
     "metadata": {},
     "output_type": "execute_result"
    },
    {
     "data": {
      "image/png": "[encoded data removed]",
      "text/plain": [
       "<Figure size 1080x504 with 1 Axes>"
      ]
     },
     "metadata": {
      "needs_background": "light"
     },
     "output_type": "display_data"
    }
   ],
   "source": [
    "get_results_table(experiment)"
   ]
  },
  {
   "cell_type": "code",
   "execution_count": 27,
   "id": "cf8dc689",
   "metadata": {
    "execution": {
     "iopub.execute_input": "2022-03-19T21:02:50.288970Z",
     "iopub.status.busy": "2022-03-19T21:02:50.288203Z",
     "iopub.status.idle": "2022-03-19T21:02:50.437320Z",
     "shell.execute_reply": "2022-03-19T21:02:50.436777Z"
    },
    "papermill": {
     "duration": 0.183517,
     "end_time": "2022-03-19T21:02:50.437429",
     "exception": false,
     "start_time": "2022-03-19T21:02:50.253912",
     "status": "completed"
    },
    "tags": []
   },
   "outputs": [
    {
     "data": {
      "text/plain": [
       "<AxesSubplot:title={'center':'Per Domain Validation Accuracy'}, xlabel='domain'>"
      ]
     },
     "execution_count": 27,
     "metadata": {},
     "output_type": "execute_result"
    },
    {
     "data": {
      "image/png": "[encoded data removed]",
      "text/plain": [
       "<Figure size 1080x504 with 1 Axes>"
      ]
     },
     "metadata": {
      "needs_background": "light"
     },
     "output_type": "display_data"
    }
   ],
   "source": [
    "get_domain_accuracies(experiment)"
   ]
  },
  {
   "cell_type": "code",
   "execution_count": 28,
   "id": "a74ae082",
   "metadata": {
    "execution": {
     "iopub.execute_input": "2022-03-19T21:02:50.510576Z",
     "iopub.status.busy": "2022-03-19T21:02:50.510324Z",
     "iopub.status.idle": "2022-03-19T21:02:50.527512Z",
     "shell.execute_reply": "2022-03-19T21:02:50.527014Z"
    },
    "papermill": {
     "duration": 0.053478,
     "end_time": "2022-03-19T21:02:50.527626",
     "exception": false,
     "start_time": "2022-03-19T21:02:50.474148",
     "status": "completed"
    },
    "tags": []
   },
   "outputs": [
    {
     "name": "stdout",
     "output_type": "stream",
     "text": [
      "Source Test Label Accuracy: 0.85185546875 Target Test Label Accuracy: 0.7011001619870411\n",
      "Source Val Label Accuracy: 0.8510091145833333 Target Val Label Accuracy: 0.7021725700164745\n"
     ]
    }
   ],
   "source": [
    "print(\"Source Test Label Accuracy:\", experiment[\"results\"][\"source_test_label_accuracy\"], \"Target Test Label Accuracy:\", experiment[\"results\"][\"target_test_label_accuracy\"])\n",
    "print(\"Source Val Label Accuracy:\", experiment[\"results\"][\"source_val_label_accuracy\"], \"Target Val Label Accuracy:\", experiment[\"results\"][\"target_val_label_accuracy\"])"
   ]
  },
  {
   "cell_type": "code",
   "execution_count": 29,
   "id": "dacca602",
   "metadata": {
    "execution": {
     "iopub.execute_input": "2022-03-19T21:02:50.603969Z",
     "iopub.status.busy": "2022-03-19T21:02:50.603726Z",
     "iopub.status.idle": "2022-03-19T21:02:50.625607Z",
     "shell.execute_reply": "2022-03-19T21:02:50.625997Z"
    },
    "papermill": {
     "duration": 0.058301,
     "end_time": "2022-03-19T21:02:50.626125",
     "exception": false,
     "start_time": "2022-03-19T21:02:50.567824",
     "status": "completed"
    },
    "tags": [
     "experiment_json"
    ]
   },
   "outputs": [
    {
     "data": {
      "text/plain": [
       "'{\"experiment_name\": \"tl_2v2:oracle.run1.framed -> cores+wisig\", \"parameters\": {\"experiment_name\": \"tl_2v2:oracle.run1.framed -> cores+wisig\", \"device\": \"cuda\", \"lr\": 0.0001, \"n_shot\": 3, \"n_query\": 2, \"train_k_factor\": 3, \"val_k_factor\": 2, \"test_k_factor\": 2, \"torch_default_dtype\": \"torch.float32\", \"n_epoch\": 50, \"patience\": 3, \"criteria_for_best\": \"target_accuracy\", \"x_net\": [{\"class\": \"nnReshape\", \"kargs\": {\"shape\": [-1, 1, 2, 256]}}, {\"class\": \"Conv2d\", \"kargs\": {\"in_channels\": 1, \"out_channels\": 256, \"kernel_size\": [1, 7], \"bias\": false, \"padding\": [0, 3]}}, {\"class\": \"ReLU\", \"kargs\": {\"inplace\": true}}, {\"class\": \"BatchNorm2d\", \"kargs\": {\"num_features\": 256}}, {\"class\": \"Conv2d\", \"kargs\": {\"in_channels\": 256, \"out_channels\": 80, \"kernel_size\": [2, 7], \"bias\": true, \"padding\": [0, 3]}}, {\"class\": \"ReLU\", \"kargs\": {\"inplace\": true}}, {\"class\": \"BatchNorm2d\", \"kargs\": {\"num_features\": 80}}, {\"class\": \"Flatten\", \"kargs\": {}}, {\"class\": \"Linear\", \"kargs\": {\"in_features\": 20480, \"out_features\": 256}}, {\"class\": \"ReLU\", \"kargs\": {\"inplace\": true}}, {\"class\": \"BatchNorm1d\", \"kargs\": {\"num_features\": 256}}, {\"class\": \"Linear\", \"kargs\": {\"in_features\": 256, \"out_features\": 256}}], \"NUM_LOGS_PER_EPOCH\": 10, \"BEST_MODEL_PATH\": \"./best_model.pth\", \"n_way\": 16, \"datasets\": [{\"labels\": [\"1-10.\", \"1-11.\", \"1-15.\", \"1-16.\", \"1-17.\", \"1-18.\", \"1-19.\", \"10-4.\", \"10-7.\", \"11-1.\", \"11-14.\", \"11-17.\", \"11-20.\", \"11-7.\", \"13-20.\", \"13-8.\", \"14-10.\", \"14-11.\", \"14-14.\", \"14-7.\", \"15-1.\", \"15-20.\", \"16-1.\", \"16-16.\", \"17-10.\", \"17-11.\", \"17-2.\", \"19-1.\", \"19-16.\", \"19-19.\", \"19-20.\", \"19-3.\", \"2-10.\", \"2-11.\", \"2-17.\", \"2-18.\", \"2-20.\", \"2-3.\", \"2-4.\", \"2-5.\", \"2-6.\", \"2-7.\", \"2-8.\", \"3-13.\", \"3-18.\", \"3-3.\", \"4-1.\", \"4-10.\", \"4-11.\", \"4-19.\", \"5-5.\", \"6-15.\", \"7-10.\", \"7-14.\", \"8-18.\", \"8-20.\", \"8-3.\", \"8-8.\"], \"domains\": [1, 2, 3, 4, 5], \"num_examples_per_domain_per_label\": -1, \"pickle_path\": \"/mnt/wd500GB/CSC500/csc500-main/datasets/cores.stratified_ds.2022A.pkl\", \"source_or_target_dataset\": \"target\", \"x_transforms\": [\"unit_power\"], \"episode_transforms\": [], \"domain_prefix\": \"C_\"}, {\"labels\": [\"1-10\", \"1-12\", \"1-14\", \"1-16\", \"1-18\", \"1-19\", \"1-8\", \"10-11\", \"10-17\", \"10-4\", \"10-7\", \"11-1\", \"11-10\", \"11-19\", \"11-20\", \"11-4\", \"11-7\", \"12-19\", \"12-20\", \"12-7\", \"13-14\", \"13-18\", \"13-19\", \"13-20\", \"13-3\", \"13-7\", \"14-10\", \"14-11\", \"14-12\", \"14-13\", \"14-14\", \"14-19\", \"14-20\", \"14-7\", \"14-8\", \"14-9\", \"15-1\", \"15-19\", \"15-6\", \"16-1\", \"16-16\", \"16-19\", \"16-20\", \"17-10\", \"17-11\", \"18-1\", \"18-10\", \"18-11\", \"18-12\", \"18-13\", \"18-14\", \"18-15\", \"18-16\", \"18-17\", \"18-19\", \"18-2\", \"18-20\", \"18-4\", \"18-5\", \"18-7\", \"18-8\", \"18-9\", \"19-1\", \"19-10\", \"19-11\", \"19-12\", \"19-13\", \"19-14\", \"19-15\", \"19-19\", \"19-2\", \"19-20\", \"19-3\", \"19-4\", \"19-6\", \"19-7\", \"19-8\", \"19-9\", \"2-1\", \"2-13\", \"2-15\", \"2-3\", \"2-4\", \"2-5\", \"2-6\", \"2-7\", \"2-8\", \"20-1\", \"20-12\", \"20-14\", \"20-15\", \"20-16\", \"20-18\", \"20-19\", \"20-20\", \"20-3\", \"20-4\", \"20-5\", \"20-7\", \"20-8\", \"3-1\", \"3-13\", \"3-18\", \"3-2\", \"3-8\", \"4-1\", \"4-10\", \"4-11\", \"5-1\", \"5-5\", \"6-1\", \"6-15\", \"6-6\", \"7-10\", \"7-11\", \"7-12\", \"7-13\", \"7-14\", \"7-7\", \"7-8\", \"7-9\", \"8-1\", \"8-13\", \"8-14\", \"8-18\", \"8-20\", \"8-3\", \"8-8\", \"9-1\", \"9-7\"], \"domains\": [1, 2, 3, 4], \"num_examples_per_domain_per_label\": -1, \"pickle_path\": \"/mnt/wd500GB/CSC500/csc500-main/datasets/wisig.node3-19.stratified_ds.2022A.pkl\", \"source_or_target_dataset\": \"target\", \"x_transforms\": [\"unit_power\"], \"episode_transforms\": [], \"domain_prefix\": \"W_\"}, {\"labels\": [\"3123D52\", \"3123D65\", \"3123D79\", \"3123D80\", \"3123D54\", \"3123D70\", \"3123D7B\", \"3123D89\", \"3123D58\", \"3123D76\", \"3123D7D\", \"3123EFE\", \"3123D64\", \"3123D78\", \"3123D7E\", \"3124E4A\"], \"domains\": [32, 38, 8, 44, 14, 50, 20, 26], \"num_examples_per_domain_per_label\": 2000, \"pickle_path\": \"/mnt/wd500GB/CSC500/csc500-main/datasets/oracle.Run1_framed_2000Examples_stratified_ds.2022A.pkl\", \"source_or_target_dataset\": \"source\", \"x_transforms\": [\"unit_power\"], \"episode_transforms\": [], \"domain_prefix\": \"O_\"}], \"seed\": 420, \"dataset_seed\": 420, \"x_shape\": [2, 256], \"domains_source\": [\"O_32\", \"O_38\", \"O_8\", \"O_44\", \"O_14\", \"O_50\", \"O_20\", \"O_26\"], \"domains_target\": [\"C_1\", \"C_2\", \"C_3\", \"C_4\", \"C_5\", \"W_1\", \"W_2\", \"W_3\", \"W_4\"]}, \"results\": {\"source_test_label_accuracy\": 0.85185546875, \"source_test_label_loss\": 0.4105049967765808, \"target_test_label_accuracy\": 0.7011001619870411, \"target_test_label_loss\": 277.05670166015625, \"source_val_label_accuracy\": 0.8510091145833333, \"source_val_label_loss\": 0.4070318639278412, \"target_val_label_accuracy\": 0.7021725700164745, \"target_val_label_loss\": 273.423828125, \"total_epochs_trained\": 8, \"total_experiment_time_secs\": 1569.578912973404, \"confusion\": {\"O_14\": {\"15\": {\"15\": 239, \"7\": 1}, \"5\": {\"5\": 173, \"4\": 40, \"2\": 1, \"1\": 22, \"7\": 1, \"3\": 3}, \"7\": {\"7\": 240}, \"4\": {\"4\": 203, \"5\": 31, \"1\": 6}, \"10\": {\"10\": 238, \"0\": 2}, \"11\": {\"11\": 229, \"9\": 7, \"0\": 4}, \"12\": {\"12\": 240}, \"0\": {\"0\": 239, \"11\": 1}, \"14\": {\"14\": 224, \"6\": 1, \"2\": 13, \"13\": 2}, \"8\": {\"8\": 240}, \"13\": {\"6\": 72, \"14\": 19, \"13\": 126, \"2\": 20, \"4\": 1, \"3\": 1, \"5\": 1}, \"6\": {\"13\": 51, \"6\": 182, \"14\": 3, \"2\": 4}, \"1\": {\"1\": 219, \"5\": 18, \"4\": 3}, \"3\": {\"3\": 230, \"2\": 3, \"14\": 4, \"4\": 3}, \"9\": {\"9\": 240}, \"2\": {\"2\": 141, \"13\": 11, \"6\": 19, \"3\": 9, \"14\": 45, \"5\": 12, \"15\": 2, \"4\": 1}}, \"O_20\": {\"4\": {\"4\": 201, \"8\": 38, \"3\": 1}, \"10\": {\"10\": 233, \"14\": 7}, \"15\": {\"15\": 198, \"5\": 10, \"0\": 18, \"1\": 13, \"13\": 1}, \"0\": {\"8\": 1, \"0\": 177, \"5\": 38, \"15\": 24}, \"6\": {\"6\": 223, \"14\": 15, \"10\": 1, \"7\": 1}, \"3\": {\"3\": 166, \"12\": 33, \"2\": 10, \"7\": 12, \"9\": 15, \"5\": 1, \"4\": 3}, \"7\": {\"7\": 195, \"2\": 30, \"3\": 9, \"9\": 6}, \"2\": {\"2\": 129, \"9\": 52, \"7\": 33, \"13\": 5, \"1\": 5, \"3\": 8, \"12\": 8}, \"8\": {\"8\": 213, \"4\": 26, \"7\": 1}, \"11\": {\"11\": 240}, \"14\": {\"14\": 217, \"6\": 17, \"10\": 5, \"8\": 1}, \"12\": {\"12\": 156, \"1\": 38, \"3\": 32, \"2\": 5, \"5\": 2, \"9\": 7}, \"13\": {\"13\": 231, \"2\": 6, \"1\": 2, \"15\": 1}, \"9\": {\"9\": 162, \"2\": 49, \"3\": 22, \"7\": 4, \"12\": 3}, \"5\": {\"0\": 19, \"5\": 192, \"1\": 12, \"15\": 13, \"12\": 4}, \"1\": {\"15\": 20, \"1\": 178, \"12\": 31, \"13\": 1, \"5\": 5, \"3\": 2, \"2\": 2, \"9\": 1}}, \"O_50\": {\"5\": {\"5\": 160, \"6\": 5, \"7\": 22, \"13\": 12, \"4\": 28, \"1\": 11, \"15\": 2}, \"12\": {\"12\": 234, \"11\": 4, \"9\": 2}, \"14\": {\"14\": 240}, \"4\": {\"4\": 176, \"7\": 3, \"5\": 32, \"15\": 23, \"6\": 3, \"11\": 1, \"1\": 2}, \"13\": {\"10\": 5, \"13\": 218, \"6\": 7, \"7\": 4, \"5\": 5, \"0\": 1}, \"10\": {\"10\": 233, \"13\": 2, \"0\": 5}, \"9\": {\"9\": 222, \"11\": 6, \"12\": 12}, \"15\": {\"15\": 213, \"1\": 13, \"4\": 11, \"6\": 2, \"11\": 1}, \"6\": {\"6\": 229, \"13\": 7, \"1\": 1, \"15\": 2, \"7\": 1}, \"2\": {\"2\": 224, \"0\": 16}, \"0\": {\"0\": 206, \"2\": 25, \"10\": 9}, \"11\": {\"11\": 224, \"9\": 3, \"15\": 9, \"12\": 4}, \"3\": {\"3\": 240}, \"8\": {\"8\": 239, \"10\": 1}, \"7\": {\"7\": 213, \"13\": 10, \"5\": 6, \"6\": 11}, \"1\": {\"1\": 218, \"15\": 15, \"6\": 1, \"5\": 3, \"13\": 2, \"4\": 1}}, \"O_26\": {\"7\": {\"7\": 190, \"3\": 11, \"2\": 18, \"1\": 1, \"4\": 16, \"8\": 4}, \"6\": {\"6\": 222, \"9\": 11, \"10\": 5, \"15\": 2}, \"14\": {\"14\": 138, \"4\": 43, \"0\": 30, \"10\": 10, \"7\": 1, \"1\": 14, \"8\": 4}, \"15\": {\"9\": 44, \"15\": 171, \"7\": 3, \"13\": 6, \"5\": 5, \"10\": 2, \"6\": 5, \"8\": 3, \"2\": 1}, \"5\": {\"5\": 209, \"2\": 8, \"13\": 16, \"15\": 3, \"9\": 3, \"7\": 1}, \"10\": {\"10\": 117, \"0\": 79, \"8\": 22, \"7\": 1, \"4\": 2, \"14\": 9, \"6\": 6, \"1\": 2, \"15\": 2}, \"4\": {\"4\": 145, \"14\": 52, \"1\": 6, \"0\": 14, \"7\": 6, \"8\": 17}, \"11\": {\"11\": 240}, \"13\": {\"13\": 190, \"5\": 36, \"9\": 7, \"15\": 3, \"2\": 3, \"3\": 1}, \"2\": {\"7\": 25, \"5\": 20, \"2\": 111, \"3\": 77, \"15\": 5, \"13\": 1, \"8\": 1}, \"0\": {\"0\": 99, \"10\": 76, \"14\": 35, \"4\": 22, \"7\": 1, \"1\": 1, \"8\": 6}, \"12\": {\"12\": 240}, \"3\": {\"3\": 191, \"2\": 36, \"7\": 12, \"5\": 1}, \"9\": {\"9\": 195, \"15\": 28, \"6\": 9, \"5\": 1, \"13\": 3, \"8\": 2, \"7\": 1, \"10\": 1}, \"8\": {\"7\": 19, \"0\": 20, \"8\": 138, \"10\": 29, \"4\": 24, \"14\": 6, \"15\": 3, \"2\": 1}, \"1\": {\"1\": 210, \"0\": 1, \"14\": 16, \"4\": 11, \"7\": 2}}, \"O_32\": {\"7\": {\"5\": 37, \"7\": 182, \"14\": 4, \"2\": 2, \"4\": 9, \"0\": 3, \"13\": 3}, \"2\": {\"2\": 218, \"4\": 22}, \"5\": {\"3\": 5, \"5\": 139, \"7\": 56, \"4\": 11, \"8\": 10, \"13\": 10, \"14\": 6, \"0\": 3}, \"6\": {\"6\": 240}, \"13\": {\"5\": 11, \"3\": 13, \"13\": 188, \"7\": 9, \"8\": 10, \"4\": 8, \"11\": 1}, \"4\": {\"4\": 202, \"2\": 27, \"5\": 2, \"7\": 6, \"13\": 3}, \"3\": {\"3\": 235, \"11\": 2, \"13\": 2, \"8\": 1}, \"0\": {\"0\": 203, \"8\": 14, \"7\": 8, \"14\": 9, \"5\": 4, \"13\": 2}, \"9\": {\"9\": 239, \"12\": 1}, \"12\": {\"12\": 240}, \"8\": {\"0\": 16, \"8\": 211, \"5\": 5, \"13\": 6, \"14\": 2}, \"14\": {\"14\": 192, \"0\": 13, \"7\": 3, \"11\": 28, \"3\": 1, \"8\": 1, \"5\": 1, \"13\": 1}, \"15\": {\"15\": 240}, \"11\": {\"11\": 227, \"14\": 12, \"13\": 1}, \"10\": {\"10\": 239, \"1\": 1}, \"1\": {\"1\": 240}}, \"O_44\": {\"11\": {\"11\": 238, \"13\": 2}, \"7\": {\"7\": 185, \"9\": 32, \"2\": 19, \"6\": 3, \"13\": 1}, \"6\": {\"6\": 179, \"13\": 44, \"9\": 13, \"7\": 4}, \"12\": {\"12\": 227, \"1\": 11, \"3\": 1, \"10\": 1}, \"4\": {\"4\": 162, \"14\": 77, \"15\": 1}, \"13\": {\"13\": 185, \"6\": 30, \"9\": 20, \"7\": 1, \"11\": 4}, \"8\": {\"0\": 59, \"8\": 174, \"5\": 4, \"15\": 3}, \"5\": {\"5\": 217, \"15\": 7, \"0\": 8, \"14\": 6, \"8\": 2}, \"14\": {\"14\": 157, \"4\": 72, \"15\": 9, \"5\": 2}, \"3\": {\"1\": 8, \"3\": 231, \"12\": 1}, \"10\": {\"10\": 217, \"2\": 9, \"1\": 12, \"12\": 2}, \"1\": {\"10\": 9, \"1\": 184, \"12\": 22, \"3\": 18, \"2\": 7}, \"2\": {\"2\": 215, \"7\": 20, \"1\": 3, \"10\": 2}, \"15\": {\"15\": 202, \"14\": 13, \"0\": 11, \"8\": 7, \"4\": 3, \"5\": 4}, \"9\": {\"9\": 150, \"2\": 1, \"6\": 23, \"7\": 38, \"13\": 28}, \"0\": {\"0\": 162, \"8\": 57, \"15\": 11, \"5\": 10}}, \"O_8\": {\"10\": {\"10\": 208, \"14\": 22, \"4\": 3, \"13\": 7}, \"6\": {\"6\": 190, \"4\": 10, \"7\": 32, \"0\": 4, \"13\": 4}, \"13\": {\"13\": 107, \"14\": 4, \"0\": 35, \"4\": 42, \"10\": 43, \"6\": 8, \"7\": 1}, \"3\": {\"3\": 238, \"12\": 1, \"2\": 1}, \"9\": {\"9\": 240}, \"1\": {\"11\": 2, \"1\": 236, \"5\": 2}, \"5\": {\"5\": 230, \"10\": 6, \"11\": 1, \"1\": 3}, \"11\": {\"11\": 230, \"1\": 10}, \"4\": {\"4\": 180, \"10\": 2, \"13\": 35, \"14\": 19, \"6\": 3, \"0\": 1}, \"14\": {\"13\": 2, \"10\": 33, \"14\": 183, \"4\": 21, \"1\": 1}, \"12\": {\"12\": 165, \"15\": 59, \"8\": 4, \"3\": 11, \"2\": 1}, \"7\": {\"7\": 187, \"6\": 50, \"0\": 1, \"13\": 1, \"15\": 1}, \"0\": {\"0\": 188, \"7\": 11, \"13\": 36, \"6\": 3, \"4\": 2}, \"15\": {\"15\": 221, \"12\": 18, \"8\": 1}, \"2\": {\"2\": 234, \"3\": 4, \"7\": 2}, \"8\": {\"8\": 240}}, \"O_38\": {\"4\": {\"4\": 239, \"12\": 1}, \"7\": {\"7\": 214, \"8\": 8, \"5\": 13, \"0\": 4, \"10\": 1}, \"12\": {\"12\": 240}, \"10\": {\"7\": 2, \"10\": 222, \"8\": 4, \"0\": 1, \"13\": 10, \"14\": 1}, \"0\": {\"0\": 194, \"8\": 24, \"13\": 3, \"5\": 4, \"3\": 6, \"7\": 6, \"10\": 3}, \"1\": {\"1\": 237, \"15\": 3}, \"5\": {\"7\": 32, \"5\": 145, \"8\": 47, \"15\": 4, \"0\": 4, \"9\": 4, \"6\": 3, \"13\": 1}, \"15\": {\"15\": 215, \"1\": 12, \"13\": 2, \"5\": 5, \"8\": 6}, \"9\": {\"9\": 233, \"6\": 6, \"5\": 1}, \"11\": {\"11\": 236, \"10\": 1, \"2\": 1, \"14\": 2}, \"14\": {\"14\": 233, \"2\": 6, \"12\": 1}, \"6\": {\"6\": 239, \"9\": 1}, \"8\": {\"8\": 188, \"5\": 30, \"0\": 9, \"15\": 6, \"7\": 4, \"10\": 1, \"13\": 2}, \"3\": {\"3\": 239, \"11\": 1}, \"2\": {\"2\": 232, \"13\": 2, \"14\": 6}, \"13\": {\"13\": 231, \"15\": 1, \"0\": 3, \"8\": 1, \"2\": 1, \"10\": 3}}, \"C_4\": {\"42\": {\"42\": 31, \"52\": 1}, \"0\": {\"0\": 70, \"43\": 8, \"11\": 1, \"15\": 1}, \"1\": {\"1\": 33, \"57\": 4, \"46\": 1, \"35\": 1, \"47\": 1}, \"39\": {\"39\": 20}, \"28\": {\"28\": 29, \"4\": 1, \"57\": 1, \"33\": 1}, \"53\": {\"53\": 115, \"3\": 1, \"6\": 1, \"50\": 4, \"20\": 1, \"18\": 1, \"40\": 1}, \"19\": {\"40\": 8, \"19\": 123, \"44\": 11, \"15\": 2}, \"34\": {\"34\": 23, \"42\": 1}, \"33\": {\"33\": 31, \"28\": 1, \"35\": 2, \"13\": 1, \"5\": 1}, \"32\": {\"32\": 23, \"11\": 1}, \"10\": {\"10\": 129, \"22\": 6, \"24\": 1}, \"46\": {\"1\": 3, \"46\": 59, \"14\": 1, \"15\": 6, \"47\": 9, \"43\": 6, \"49\": 1, \"41\": 4, \"0\": 5, \"5\": 6, \"16\": 4, \"52\": 5, \"57\": 5, \"11\": 3, \"6\": 1, \"25\": 7, \"40\": 3, \"55\": 2, \"39\": 1, \"32\": 1, \"56\": 1, \"35\": 1}, \"20\": {\"20\": 102, \"51\": 3, \"5\": 1, \"53\": 8, \"19\": 1, \"15\": 1, \"21\": 1, \"3\": 2, \"36\": 1, \"44\": 1, \"40\": 1}, \"5\": {\"39\": 2, \"28\": 1, \"5\": 53, \"34\": 2, \"46\": 10, \"35\": 1, \"16\": 7, \"1\": 3, \"41\": 2, \"47\": 13, \"57\": 7, \"29\": 2, \"7\": 1, \"25\": 2, \"11\": 1, \"23\": 1}, \"40\": {\"46\": 1, \"40\": 104, \"33\": 1, \"35\": 1, \"31\": 1, \"15\": 4, \"19\": 6, \"29\": 5, \"44\": 1}, \"51\": {\"51\": 139, \"20\": 5}, \"37\": {\"37\": 24}, \"17\": {\"27\": 8, \"17\": 69, \"8\": 3}, \"45\": {\"45\": 67, \"30\": 1, \"51\": 3, \"36\": 1, \"8\": 5, \"27\": 5, \"21\": 5, \"12\": 1, \"9\": 7, \"17\": 1}, \"13\": {\"13\": 142}, \"27\": {\"27\": 106, \"17\": 6, \"30\": 1, \"8\": 27, \"21\": 2, \"36\": 1, \"48\": 1}, \"24\": {\"24\": 50, \"22\": 2, \"10\": 2, \"38\": 1, \"56\": 1}, \"30\": {\"27\": 5, \"30\": 31, \"21\": 3, \"8\": 5}, \"31\": {\"31\": 27, \"37\": 1}, \"41\": {\"41\": 32, \"38\": 1, \"47\": 2, \"13\": 1}, \"36\": {\"36\": 70, \"48\": 15, \"54\": 4, \"51\": 1, \"6\": 1, \"17\": 1}, \"16\": {\"16\": 81, \"41\": 2, \"47\": 5, \"5\": 1, \"11\": 1, \"46\": 3, \"57\": 2, \"22\": 1}, \"22\": {\"24\": 12, \"22\": 90, \"10\": 15, \"56\": 6, \"0\": 2, \"2\": 2, \"13\": 1}, \"44\": {\"44\": 101, \"15\": 1, \"40\": 9, \"19\": 19, \"31\": 1, \"55\": 1}, \"9\": {\"17\": 2, \"9\": 124, \"54\": 1, \"45\": 2, \"50\": 4, \"53\": 2, \"4\": 1, \"51\": 2, \"20\": 2}, \"57\": {\"57\": 89, \"35\": 1, \"37\": 1, \"1\": 2, \"47\": 3, \"5\": 2, \"29\": 1, \"46\": 1}, \"8\": {\"8\": 120, \"17\": 3, \"27\": 15}, \"23\": {\"23\": 115, \"18\": 15, \"3\": 2}, \"47\": {\"47\": 86, \"5\": 4, \"46\": 5, \"1\": 1, \"57\": 6, \"29\": 6, \"16\": 8, \"40\": 1, \"41\": 1, \"35\": 1, \"52\": 1}, \"43\": {\"43\": 124, \"0\": 12, \"11\": 2}, \"49\": {\"49\": 20}, \"3\": {\"36\": 3, \"23\": 5, \"3\": 66, \"26\": 1, \"54\": 2, \"42\": 2, \"52\": 2, \"53\": 4, \"4\": 1, \"18\": 12, \"27\": 1, \"25\": 6, \"21\": 1, \"48\": 7, \"50\": 5, \"5\": 1, \"44\": 1, \"9\": 1, \"46\": 1, \"6\": 1, \"8\": 1}, \"12\": {\"8\": 7, \"12\": 73, \"36\": 1, \"21\": 3, \"48\": 1, \"27\": 3, \"30\": 1, \"45\": 2, \"6\": 1}, \"38\": {\"38\": 37, \"56\": 1, \"22\": 2}, \"7\": {\"7\": 24}, \"14\": {\"14\": 15, \"11\": 1}, \"15\": {\"15\": 127, \"46\": 6, \"24\": 1, \"11\": 10, \"16\": 1, \"22\": 1}, \"25\": {\"34\": 3, \"25\": 94, \"15\": 3, \"41\": 1, \"52\": 11, \"5\": 2, \"50\": 1, \"46\": 2, \"3\": 2, \"39\": 2, \"6\": 3, \"16\": 2, \"4\": 1, \"11\": 1}, \"26\": {\"26\": 24}, \"21\": {\"21\": 129, \"8\": 2, \"30\": 1}, \"48\": {\"36\": 7, \"48\": 126, \"54\": 5, \"3\": 3, \"27\": 3}, \"56\": {\"38\": 4, \"56\": 119, \"10\": 8, \"22\": 3}, \"11\": {\"11\": 90, \"15\": 12, \"0\": 2}, \"2\": {\"2\": 33, \"56\": 1, \"24\": 1, \"22\": 1}, \"6\": {\"3\": 4, \"28\": 3, \"6\": 41, \"26\": 2, \"23\": 3, \"39\": 1, \"5\": 7, \"29\": 2, \"9\": 5, \"54\": 2, \"21\": 1, \"4\": 12, \"16\": 3, \"51\": 2, \"17\": 1, \"20\": 3, \"25\": 6, \"52\": 3, \"15\": 1, \"18\": 2, \"34\": 1, \"42\": 1, \"30\": 1, \"55\": 1, \"50\": 3, \"46\": 1}, \"55\": {\"55\": 90, \"14\": 1, \"29\": 3, \"40\": 4, \"11\": 12, \"44\": 3, \"0\": 3, \"43\": 10, \"15\": 8, \"22\": 1, \"19\": 2, \"35\": 1, \"47\": 1, \"46\": 1}, \"54\": {\"48\": 6, \"54\": 96, \"36\": 6}, \"29\": {\"29\": 107, \"15\": 1, \"37\": 1, \"10\": 1, \"33\": 2, \"55\": 2, \"57\": 2, \"40\": 1, \"35\": 5, \"1\": 1, \"46\": 1}, \"50\": {\"21\": 12, \"53\": 8, \"50\": 39, \"15\": 1, \"27\": 9, \"20\": 4, \"9\": 6, \"18\": 2, \"23\": 2, \"17\": 1, \"3\": 7, \"4\": 9, \"48\": 5, \"57\": 1, \"36\": 5, \"45\": 1, \"6\": 1, \"8\": 3, \"30\": 3, \"5\": 1, \"25\": 2}, \"52\": {\"52\": 110, \"23\": 3, \"39\": 1, \"3\": 1, \"18\": 1}, \"35\": {\"35\": 35, \"49\": 1, \"57\": 1, \"47\": 1, \"33\": 1, \"29\": 1}, \"4\": {\"4\": 107, \"44\": 1, \"6\": 2, \"25\": 2, \"9\": 2, \"3\": 1, \"34\": 1, \"26\": 3, \"16\": 1}, \"18\": {\"18\": 97, \"23\": 9, \"3\": 2}}, \"C_5\": {\"43\": {\"43\": 131, \"15\": 8, \"11\": 13}, \"35\": {\"35\": 35, \"15\": 1}, \"54\": {\"54\": 112}, \"22\": {\"22\": 27, \"24\": 1}, \"16\": {\"16\": 133, \"46\": 10, \"47\": 2, \"0\": 1}, \"5\": {\"5\": 106, \"40\": 13, \"29\": 2, \"44\": 4, \"11\": 1, \"43\": 1, \"3\": 1}, \"28\": {\"28\": 31, \"11\": 1}, \"14\": {\"3\": 3, \"31\": 1, \"46\": 2, \"14\": 22, \"0\": 2, \"16\": 2, \"15\": 2, \"11\": 3, \"57\": 1, \"5\": 1, \"43\": 2, \"52\": 1, \"28\": 1, \"47\": 1}, \"51\": {\"51\": 116, \"20\": 8, \"7\": 2, \"4\": 1, \"30\": 1}, \"19\": {\"19\": 135, \"34\": 3, \"33\": 1, \"42\": 1}, \"31\": {\"31\": 35, \"37\": 1}, \"10\": {\"10\": 62, \"13\": 6}, \"21\": {\"21\": 135, \"50\": 1}, \"3\": {\"14\": 3, \"3\": 58, \"40\": 3, \"29\": 4, \"16\": 2, \"49\": 4, \"5\": 3, \"15\": 3, \"34\": 1, \"43\": 2, \"47\": 7, \"41\": 1, \"46\": 2, \"44\": 1, \"36\": 1, \"57\": 1, \"11\": 1, \"19\": 1, \"0\": 2}, \"57\": {\"57\": 122, \"41\": 4, \"52\": 4, \"25\": 2}, \"9\": {\"9\": 92, \"54\": 6, \"27\": 22, \"48\": 3, \"20\": 2, \"8\": 2, \"46\": 1, \"50\": 1, \"1\": 8, \"19\": 1, \"53\": 2, \"4\": 1, \"5\": 1, \"11\": 2, \"45\": 1, \"21\": 1}, \"8\": {\"8\": 93, \"11\": 1, \"30\": 11, \"1\": 6, \"53\": 16, \"48\": 2, \"6\": 2, \"54\": 1}, \"46\": {\"46\": 101, \"52\": 11, \"24\": 1, \"31\": 1, \"3\": 3, \"14\": 1, \"16\": 13, \"29\": 1, \"11\": 2, \"34\": 1, \"43\": 2, \"28\": 1, \"57\": 1, \"0\": 1}, \"23\": {\"23\": 114, \"18\": 6, \"42\": 1, \"54\": 2, \"11\": 1}, \"37\": {\"37\": 23, \"31\": 1}, \"34\": {\"34\": 30, \"49\": 2, \"33\": 1, \"36\": 2, \"19\": 1}, \"4\": {\"4\": 95, \"36\": 1, \"45\": 2, \"50\": 1, \"55\": 1}, \"6\": {\"4\": 1, \"8\": 7, \"6\": 33, \"9\": 9, \"20\": 3, \"30\": 6, \"26\": 2, \"17\": 21, \"48\": 16, \"45\": 4, \"1\": 7, \"53\": 5, \"27\": 3, \"55\": 2, \"38\": 3, \"21\": 2, \"54\": 1, \"50\": 2, \"51\": 1}, \"48\": {\"48\": 96, \"26\": 6, \"17\": 20, \"4\": 1, \"1\": 4, \"6\": 7, \"16\": 1, \"8\": 1}, \"44\": {\"44\": 121, \"29\": 8, \"15\": 1, \"40\": 5, \"5\": 3}, \"40\": {\"40\": 83, \"28\": 1, \"3\": 1, \"5\": 11, \"0\": 3, \"44\": 5, \"11\": 4, \"36\": 2, \"29\": 11, \"14\": 1, \"15\": 1, \"35\": 1}, \"12\": {\"12\": 77, \"6\": 3, \"30\": 3, \"38\": 1, \"8\": 3, \"51\": 5, \"45\": 1, \"17\": 2, \"53\": 1}, \"30\": {\"6\": 4, \"30\": 108, \"8\": 10, \"17\": 1, \"48\": 1, \"51\": 1, \"53\": 2, \"20\": 1}, \"39\": {\"39\": 20}, \"45\": {\"32\": 3, \"7\": 1, \"20\": 4, \"9\": 15, \"45\": 42, \"53\": 8, \"4\": 5, \"38\": 1, \"55\": 8, \"6\": 6, \"1\": 2, \"48\": 2, \"27\": 7, \"21\": 2, \"51\": 5, \"8\": 4, \"25\": 1, \"50\": 3, \"18\": 1, \"16\": 1, \"12\": 1, \"54\": 1, \"17\": 1}, \"36\": {\"36\": 79, \"2\": 1, \"43\": 2, \"11\": 1, \"52\": 4, \"16\": 1, \"25\": 2, \"47\": 1, \"3\": 1}, \"27\": {\"27\": 114, \"9\": 13, \"8\": 2, \"1\": 3, \"32\": 2, \"18\": 1, \"54\": 3, \"45\": 1, \"50\": 1}, \"32\": {\"32\": 31, \"27\": 1}, \"52\": {\"52\": 124, \"50\": 1, \"46\": 3, \"16\": 1, \"57\": 1}, \"0\": {\"0\": 124}, \"26\": {\"26\": 24}, \"1\": {\"1\": 126, \"30\": 1, \"8\": 11, \"48\": 5, \"15\": 1, \"54\": 2, \"11\": 1, \"53\": 1}, \"53\": {\"53\": 120, \"51\": 2, \"21\": 1, \"8\": 17, \"1\": 2, \"15\": 1, \"48\": 1, \"16\": 1, \"20\": 1}, \"25\": {\"25\": 99, \"36\": 1, \"49\": 1, \"50\": 9, \"11\": 1, \"41\": 2, \"46\": 7, \"52\": 10, \"19\": 2, \"21\": 3, \"16\": 4, \"57\": 4, \"42\": 1}, \"24\": {\"24\": 80}, \"7\": {\"7\": 31, \"48\": 1}, \"18\": {\"18\": 59, \"23\": 5}, \"20\": {\"20\": 140, \"51\": 2, \"45\": 1, \"9\": 1}, \"33\": {\"33\": 29, \"47\": 1, \"3\": 1, \"19\": 1}, \"55\": {\"55\": 115, \"41\": 1, \"20\": 1, \"16\": 1, \"4\": 3, \"9\": 3, \"25\": 5, \"50\": 7, \"45\": 1, \"57\": 1, \"18\": 2}, \"41\": {\"41\": 26, \"57\": 1, \"25\": 1}, \"42\": {\"42\": 32, \"23\": 5, \"40\": 1, \"18\": 2}, \"49\": {\"49\": 35, \"14\": 1}, \"13\": {\"13\": 142, \"10\": 5, \"22\": 1}, \"38\": {\"38\": 30, \"6\": 2}, \"2\": {\"2\": 21, \"28\": 3, \"11\": 2, \"29\": 1, \"0\": 1}, \"47\": {\"47\": 68, \"16\": 11, \"28\": 2, \"46\": 13, \"3\": 1, \"52\": 1, \"36\": 1, \"2\": 1, \"33\": 1, \"34\": 1}, \"17\": {\"17\": 111, \"26\": 2, \"48\": 2, \"6\": 1}, \"11\": {\"11\": 120, \"15\": 14, \"43\": 16, \"3\": 1, \"16\": 1, \"35\": 1, \"28\": 1}, \"29\": {\"29\": 128, \"5\": 3, \"0\": 1}, \"50\": {\"23\": 7, \"50\": 54, \"41\": 2, \"36\": 1, \"4\": 2, \"47\": 6, \"52\": 5, \"9\": 5, \"18\": 1, \"42\": 2, \"57\": 5, \"55\": 6, \"16\": 2, \"20\": 6, \"25\": 14, \"27\": 2, \"21\": 8, \"6\": 3, \"30\": 1, \"49\": 1, \"53\": 2, \"1\": 1, \"19\": 1, \"46\": 1}, \"56\": {\"56\": 146, \"0\": 1, \"24\": 1}, \"15\": {\"15\": 117, \"11\": 13, \"43\": 8, \"14\": 1, \"2\": 1, \"3\": 1, \"29\": 1}}, \"W_3\": {\"110\": {\"22\": 1, \"110\": 30, \"129\": 1, \"44\": 1, \"105\": 8, \"3\": 9, \"1\": 13, \"74\": 1, \"71\": 1, \"5\": 2, \"4\": 2, \"88\": 2, \"127\": 1, \"70\": 1, \"108\": 2, \"87\": 5, \"109\": 1, \"60\": 1, \"77\": 1, \"23\": 1, \"122\": 2, \"32\": 1, \"10\": 2, \"114\": 1, \"43\": 1, \"11\": 1}, \"1\": {\"1\": 81, \"100\": 2, \"110\": 4, \"50\": 2, \"88\": 1, \"40\": 1, \"105\": 3, \"70\": 1, \"87\": 2, \"129\": 1, \"107\": 3, \"69\": 1, \"114\": 3, \"3\": 1, \"10\": 1, \"108\": 1}, \"2\": {\"117\": 4, \"92\": 1, \"63\": 1, \"26\": 2, \"2\": 12, \"118\": 3, \"102\": 1, \"121\": 1, \"23\": 2, \"113\": 1}, \"94\": {\"94\": 37, \"113\": 1, \"6\": 2, \"106\": 9, \"15\": 10, \"27\": 3, \"26\": 1, \"125\": 3, \"30\": 1, \"36\": 6, \"121\": 1, \"114\": 1, \"111\": 5, \"124\": 2, \"8\": 1, \"18\": 1}, \"64\": {\"64\": 20}, \"78\": {\"1\": 1, \"110\": 2, \"10\": 1, \"121\": 1, \"113\": 1, \"88\": 1, \"14\": 1, \"55\": 2, \"3\": 1, \"30\": 1, \"34\": 1, \"40\": 1, \"21\": 1, \"63\": 1}, \"47\": {\"47\": 7, \"108\": 2, \"41\": 2, \"69\": 1}, \"127\": {\"127\": 83, \"112\": 2, \"42\": 1, \"4\": 6, \"105\": 3, \"30\": 1, \"71\": 1, \"49\": 1, \"7\": 9, \"3\": 4, \"5\": 4, \"114\": 1, \"98\": 2, \"101\": 1, \"108\": 2, \"70\": 1, \"8\": 1, \"10\": 4, \"18\": 1}, \"89\": {\"89\": 16, \"22\": 1, \"23\": 1, \"17\": 1, \"55\": 2, \"102\": 1, \"105\": 2, \"60\": 1, \"82\": 1, \"14\": 1, \"110\": 1}, \"79\": {\"79\": 11, \"23\": 1}, \"22\": {\"22\": 15, \"89\": 1}, \"117\": {\"2\": 2, \"117\": 79, \"113\": 6, \"121\": 2, \"18\": 9, \"39\": 5, \"26\": 3, \"107\": 1, \"123\": 2, \"118\": 3}, \"49\": {\"49\": 4, \"127\": 1, \"124\": 2, \"1\": 5, \"84\": 1, \"7\": 1, \"11\": 1, \"30\": 1, \"77\": 1, \"36\": 1, \"91\": 2, \"118\": 1, \"9\": 1, \"19\": 1, \"16\": 1}, \"14\": {\"14\": 68, \"62\": 3, \"128\": 1, \"16\": 1, \"11\": 1, \"88\": 1, \"116\": 1, \"107\": 1, \"110\": 1, \"70\": 1, \"8\": 1}, \"103\": {\"78\": 2, \"103\": 11, \"9\": 1, \"86\": 1, \"122\": 1}, \"123\": {\"123\": 15, \"63\": 1}, \"98\": {\"0\": 8, \"98\": 65, \"52\": 1, \"85\": 2, \"87\": 1, \"5\": 1, \"7\": 4, \"124\": 10, \"108\": 3, \"8\": 8, \"34\": 1, \"127\": 3, \"12\": 4, \"72\": 2, \"32\": 1, \"95\": 2, \"30\": 1, \"41\": 1, \"3\": 1, \"71\": 2, \"111\": 2, \"36\": 1, \"43\": 1, \"39\": 1, \"27\": 1, \"90\": 1}, \"18\": {\"81\": 3, \"18\": 96, \"63\": 1, \"117\": 5, \"39\": 2, \"113\": 1}, \"61\": {\"61\": 16}, \"108\": {\"85\": 1, \"98\": 7, \"70\": 7, \"47\": 1, \"4\": 3, \"88\": 6, \"95\": 1, \"3\": 2, \"122\": 2, \"8\": 7, \"105\": 4, \"108\": 29, \"5\": 12, \"128\": 1, \"71\": 2, \"7\": 4, \"1\": 2, \"10\": 7, \"110\": 1, \"126\": 1, \"12\": 5, \"127\": 5, \"40\": 1, \"0\": 2, \"46\": 1, \"53\": 1, \"78\": 1, \"49\": 1, \"68\": 1, \"124\": 1, \"84\": 1, \"111\": 2, \"87\": 1, \"62\": 1, \"113\": 1, \"114\": 1}, \"100\": {\"100\": 16}, \"0\": {\"8\": 4, \"0\": 45, \"51\": 1, \"42\": 1, \"7\": 3, \"66\": 1, \"46\": 1, \"124\": 4, \"108\": 3, \"127\": 1, \"39\": 1, \"111\": 10, \"49\": 1, \"30\": 3, \"12\": 6, \"10\": 2, \"88\": 1, \"36\": 2, \"15\": 6, \"52\": 1, \"56\": 1, \"104\": 1, \"73\": 1, \"112\": 1, \"60\": 1, \"72\": 1, \"41\": 1, \"35\": 1, \"70\": 1, \"27\": 3, \"106\": 2, \"3\": 1, \"105\": 1, \"98\": 3}, \"107\": {\"107\": 107, \"40\": 8, \"100\": 1, \"69\": 1, \"14\": 2, \"11\": 2, \"62\": 1, \"115\": 1, \"82\": 1, \"1\": 1, \"32\": 1, \"129\": 1, \"99\": 1, \"3\": 1, \"114\": 1}, \"58\": {\"58\": 12, \"51\": 1, \"72\": 1, \"73\": 1, \"98\": 1}, \"8\": {\"8\": 42, \"0\": 8, \"12\": 6, \"127\": 2, \"108\": 5, \"124\": 8, \"10\": 5, \"105\": 3, \"98\": 13, \"101\": 1, \"34\": 2, \"30\": 2, \"7\": 1, \"3\": 2, \"95\": 2, \"19\": 1, \"15\": 4, \"66\": 1, \"85\": 2, \"114\": 1, \"23\": 1, \"71\": 2, \"4\": 2, \"111\": 2, \"70\": 1, \"5\": 1}, \"85\": {\"0\": 1, \"85\": 27, \"41\": 2, \"78\": 1, \"101\": 1, \"124\": 1, \"40\": 1, \"42\": 1, \"98\": 1}, \"31\": {\"31\": 11, \"118\": 1, \"82\": 1, \"108\": 1, \"78\": 1, \"13\": 2, \"116\": 1, \"119\": 1, \"84\": 1}, \"81\": {\"81\": 27, \"123\": 1, \"18\": 1, \"67\": 2, \"26\": 1}, \"60\": {\"60\": 16, \"22\": 3, \"66\": 1, \"65\": 1, \"23\": 2, \"78\": 1, \"99\": 1, \"9\": 1, \"69\": 1, \"70\": 1}, \"102\": {\"102\": 100, \"11\": 2, \"69\": 3, \"90\": 2, \"33\": 5, \"109\": 2, \"62\": 1, \"16\": 1}, \"19\": {\"98\": 2, \"129\": 2, \"19\": 6, \"87\": 1, \"32\": 1, \"1\": 2, \"66\": 1, \"0\": 1, \"29\": 1, \"5\": 2, \"7\": 5, \"14\": 1, \"71\": 1, \"122\": 1, \"34\": 2, \"46\": 1, \"84\": 1, \"4\": 1}, \"23\": {\"108\": 2, \"23\": 7, \"66\": 1, \"67\": 3, \"10\": 1, \"41\": 1, \"81\": 2, \"63\": 1, \"30\": 1, \"73\": 2, \"98\": 1, \"7\": 2, \"123\": 1, \"117\": 1, \"91\": 1, \"12\": 1, \"71\": 2, \"3\": 1, \"18\": 1}, \"32\": {\"100\": 1, \"70\": 1, \"23\": 1, \"32\": 11, \"60\": 1, \"48\": 1, \"107\": 2, \"5\": 1, \"9\": 2, \"77\": 1, \"1\": 1, \"11\": 2, \"14\": 1, \"128\": 2, \"69\": 1, \"105\": 1, \"88\": 1, \"40\": 1}, \"39\": {\"63\": 1, \"39\": 49, \"123\": 1, \"81\": 2, \"93\": 2, \"26\": 6, \"21\": 3, \"43\": 4, \"113\": 11, \"126\": 6, \"118\": 5, \"117\": 11, \"64\": 1, \"92\": 2, \"23\": 1, \"18\": 3}, \"129\": {\"28\": 1, \"129\": 14, \"115\": 1, \"74\": 2, \"107\": 1, \"34\": 1, \"105\": 2, \"5\": 2, \"87\": 1, \"3\": 1, \"110\": 1, \"4\": 3, \"84\": 1, \"122\": 1}, \"71\": {\"91\": 1, \"99\": 1, \"71\": 46, \"5\": 6, \"3\": 2, \"19\": 1, \"4\": 4, \"7\": 1, \"127\": 3, \"56\": 1, \"109\": 1, \"105\": 1}, \"91\": {\"91\": 10, \"57\": 3, \"30\": 3, \"56\": 1, \"101\": 1, \"37\": 1, \"72\": 1, \"12\": 2, \"118\": 2}, \"101\": {\"101\": 33, \"51\": 1, \"126\": 1, \"98\": 2, \"12\": 4, \"15\": 1, \"124\": 3, \"56\": 1, \"95\": 3, \"72\": 1, \"42\": 1, \"113\": 1}, \"62\": {\"62\": 75, \"28\": 1, \"88\": 4, \"74\": 1, \"29\": 1, \"16\": 5, \"11\": 7, \"87\": 3, \"84\": 5, \"33\": 1, \"70\": 3, \"114\": 1, \"93\": 1, \"102\": 1, \"10\": 5, \"109\": 2, \"14\": 3, \"107\": 1, \"44\": 1, \"43\": 1}, \"63\": {\"123\": 2, \"63\": 13, \"117\": 1}, \"125\": {\"125\": 107, \"24\": 2, \"26\": 1, \"94\": 2, \"15\": 3, \"0\": 2, \"36\": 2, \"111\": 1}, \"57\": {\"28\": 4, \"57\": 10, \"109\": 2, \"122\": 3, \"29\": 1}, \"28\": {\"28\": 11, \"57\": 1, \"122\": 2, \"88\": 2}, \"70\": {\"57\": 1, \"91\": 2, \"34\": 1, \"123\": 2, \"18\": 2, \"10\": 5, \"129\": 1, \"70\": 8, \"74\": 1, \"110\": 2, \"7\": 3, \"126\": 4, \"83\": 3, \"87\": 1, \"88\": 4, \"105\": 2, \"117\": 2, \"90\": 1, \"4\": 1, \"49\": 2, \"127\": 4, \"26\": 1, \"108\": 3, \"3\": 2, \"80\": 1, \"128\": 1, \"8\": 2, \"118\": 2, \"44\": 2, \"5\": 1, \"39\": 1, \"11\": 2, \"113\": 1, \"93\": 1}, \"99\": {\"99\": 27, \"105\": 1, \"21\": 1, \"27\": 1, \"128\": 2, \"58\": 1, \"42\": 1, \"127\": 1, \"7\": 1}, \"121\": {\"100\": 1, \"121\": 8, \"69\": 1, \"61\": 3, \"26\": 4, \"43\": 2, \"96\": 1, \"21\": 4, \"102\": 1, \"120\": 1, \"80\": 1, \"119\": 1, \"90\": 1, \"117\": 1, \"31\": 1, \"113\": 1}, \"4\": {\"3\": 1, \"86\": 3, \"9\": 1, \"4\": 52, \"53\": 2, \"103\": 1, \"71\": 3, \"30\": 2, \"8\": 1, \"105\": 6, \"10\": 2, \"122\": 1, \"114\": 3, \"5\": 9, \"40\": 1, \"34\": 2, \"48\": 1, \"127\": 1, \"108\": 2, \"117\": 1, \"87\": 1}, \"80\": {\"80\": 11, \"93\": 2, \"16\": 2, \"92\": 1}, \"51\": {\"15\": 1, \"51\": 11, \"106\": 1, \"25\": 1, \"0\": 1, \"73\": 1}, \"3\": {\"1\": 2, \"3\": 70, \"71\": 3, \"46\": 1, \"110\": 1, \"125\": 1, \"106\": 1, \"122\": 1, \"105\": 3, \"127\": 12, \"39\": 1, \"5\": 6, \"88\": 1, \"108\": 4, \"40\": 1, \"7\": 3, \"8\": 1, \"114\": 3, \"90\": 1}, \"9\": {\"9\": 23, \"35\": 1, \"4\": 2, \"19\": 1, \"32\": 1, \"8\": 1, \"55\": 1, \"7\": 1, \"105\": 1}, \"53\": {\"53\": 14, \"112\": 1, \"5\": 2, \"17\": 1, \"9\": 1, \"81\": 1}, \"30\": {\"30\": 30, \"58\": 2, \"91\": 2, \"97\": 1, \"73\": 1, \"104\": 2, \"57\": 1, \"10\": 1, \"7\": 5, \"128\": 1, \"27\": 2, \"15\": 1, \"101\": 4, \"36\": 5, \"95\": 2, \"111\": 2, \"70\": 2, \"94\": 1, \"51\": 3, \"56\": 1, \"69\": 1, \"68\": 1, \"35\": 1, \"6\": 1, \"3\": 2, \"88\": 1, \"8\": 1, \"98\": 1, \"12\": 3, \"0\": 1, \"106\": 2}, \"33\": {\"33\": 104, \"93\": 6, \"118\": 1, \"16\": 4, \"102\": 1, \"84\": 2, \"26\": 1, \"23\": 1, \"109\": 2}, \"15\": {\"15\": 39, \"97\": 4, \"41\": 1, \"94\": 7, \"0\": 3, \"30\": 2, \"106\": 11, \"124\": 1, \"12\": 5, \"36\": 7, \"125\": 3, \"111\": 7, \"24\": 2, \"27\": 3, \"73\": 1, \"98\": 3, \"101\": 1, \"6\": 3, \"126\": 1}, \"97\": {\"80\": 1, \"15\": 3, \"97\": 14, \"73\": 1, \"101\": 1}, \"86\": {\"86\": 21, \"115\": 1, \"105\": 3, \"108\": 1, \"99\": 1, \"81\": 1}, \"20\": {\"20\": 9, \"107\": 1, \"76\": 1, \"79\": 2, \"89\": 1, \"108\": 2}, \"66\": {\"66\": 13, \"99\": 1, \"3\": 1, \"127\": 1}, \"10\": {\"83\": 1, \"60\": 2, \"10\": 48, \"128\": 1, \"34\": 1, \"122\": 2, \"111\": 2, \"7\": 6, \"108\": 10, \"87\": 4, \"95\": 1, \"70\": 5, \"8\": 5, \"88\": 5, \"49\": 1, \"5\": 1, \"12\": 3, \"98\": 4, \"84\": 1, \"127\": 7, \"24\": 1, \"1\": 1, \"32\": 1, \"110\": 1, \"62\": 1, \"30\": 1, \"3\": 2, \"0\": 1, \"43\": 1, \"105\": 1, \"90\": 1}, \"29\": {\"109\": 1, \"29\": 23, \"129\": 1, \"11\": 1, \"62\": 1, \"31\": 2, \"87\": 1, \"116\": 2}, \"109\": {\"69\": 3, \"109\": 37, \"28\": 2, \"33\": 11, \"43\": 3, \"19\": 2, \"116\": 2, \"16\": 6, \"21\": 3, \"117\": 1, \"93\": 6, \"126\": 6, \"90\": 9, \"39\": 1, \"102\": 5, \"11\": 1, \"82\": 1, \"118\": 5, \"87\": 1, \"13\": 2, \"88\": 1, \"84\": 1, \"62\": 3, \"113\": 2}, \"52\": {\"52\": 9, \"104\": 1, \"41\": 1, \"34\": 1, \"0\": 1, \"56\": 1, \"78\": 1, \"66\": 1}, \"67\": {\"67\": 15, \"18\": 1}, \"83\": {\"83\": 14, \"121\": 1, \"95\": 2, \"30\": 1, \"98\": 1, \"113\": 1, \"91\": 2, \"7\": 1, \"127\": 1}, \"72\": {\"72\": 22, \"124\": 1, \"59\": 1, \"37\": 3, \"98\": 1}, \"90\": {\"90\": 86, \"44\": 2, \"16\": 5, \"93\": 11, \"118\": 3, \"69\": 1, \"84\": 4, \"88\": 2, \"109\": 2, \"11\": 6, \"62\": 1, \"45\": 1, \"23\": 1, \"87\": 1}, \"69\": {\"69\": 69, \"26\": 2, \"90\": 1, \"16\": 1, \"102\": 4, \"33\": 3, \"84\": 1, \"89\": 1, \"14\": 1, \"62\": 1}, \"88\": {\"34\": 2, \"88\": 29, \"7\": 5, \"120\": 2, \"70\": 3, \"74\": 1, \"5\": 2, \"92\": 2, \"85\": 1, \"110\": 5, \"1\": 3, \"10\": 5, \"113\": 2, \"118\": 2, \"127\": 2, \"3\": 4, \"122\": 1, \"126\": 4, \"11\": 4, \"107\": 1, \"109\": 6, \"114\": 3, \"18\": 1, \"39\": 5, \"108\": 2, \"55\": 1, \"19\": 1, \"22\": 2, \"68\": 1, \"28\": 1, \"87\": 2, \"4\": 2, \"43\": 1, \"0\": 1, \"8\": 1, \"90\": 1, \"40\": 1}, \"115\": {\"115\": 12, \"70\": 1, \"55\": 1, \"40\": 1, \"48\": 1}, \"73\": {\"73\": 22, \"25\": 1, \"116\": 2, \"111\": 2, \"72\": 2, \"97\": 1, \"120\": 1, \"42\": 1, \"124\": 2, \"44\": 1, \"36\": 2, \"16\": 1, \"30\": 2}, \"34\": {\"62\": 2, \"129\": 1, \"6\": 2, \"34\": 7, \"50\": 1, \"24\": 1, \"88\": 1, \"1\": 2, \"70\": 2, \"87\": 1, \"94\": 1, \"58\": 2, \"75\": 1, \"128\": 1, \"20\": 1, \"51\": 3, \"25\": 1, \"122\": 1, \"73\": 1}, \"25\": {\"25\": 14, \"6\": 1, \"36\": 1}, \"44\": {\"44\": 62, \"74\": 1, \"107\": 1, \"87\": 4, \"11\": 1, \"29\": 1, \"39\": 1, \"43\": 1}, \"112\": {\"56\": 1, \"112\": 7, \"97\": 1, \"98\": 1, \"105\": 1, \"3\": 1, \"86\": 2, \"5\": 1, \"4\": 1}, \"37\": {\"111\": 1, \"98\": 1, \"37\": 12, \"101\": 2}, \"77\": {\"77\": 15, \"10\": 1}, \"111\": {\"111\": 102, \"97\": 3, \"124\": 1, \"73\": 1, \"27\": 1, \"15\": 2, \"12\": 4, \"98\": 1, \"26\": 1, \"0\": 3, \"18\": 1, \"8\": 2}, \"119\": {\"119\": 15, \"102\": 1}, \"56\": {\"56\": 5, \"4\": 1, \"101\": 2, \"0\": 2, \"95\": 1, \"9\": 1}, \"5\": {\"122\": 1, \"5\": 74, \"4\": 6, \"105\": 9, \"3\": 6, \"7\": 3, \"126\": 1, \"1\": 1, \"110\": 1, \"127\": 4, \"40\": 1, \"19\": 2, \"108\": 1, \"69\": 1, \"114\": 1}, \"122\": {\"5\": 2, \"122\": 17, \"4\": 1, \"103\": 1, \"115\": 1, \"110\": 4, \"129\": 2, \"88\": 1, \"50\": 1, \"1\": 5, \"53\": 1, \"117\": 2, \"45\": 1, \"87\": 2, \"114\": 2, \"10\": 4, \"107\": 1, \"70\": 4, \"65\": 1, \"60\": 2, \"105\": 2, \"126\": 1, \"108\": 1, \"44\": 1}, \"74\": {\"74\": 15, \"88\": 1}, \"11\": {\"11\": 34, \"62\": 7, \"60\": 2, \"17\": 2, \"109\": 7, \"100\": 1, \"87\": 8, \"29\": 1, \"74\": 2, \"82\": 1, \"86\": 1, \"88\": 8, \"43\": 1, \"121\": 1, \"110\": 1, \"21\": 1, \"44\": 4, \"90\": 8, \"102\": 10, \"122\": 2, \"14\": 4, \"118\": 2, \"114\": 1, \"69\": 5, \"107\": 6, \"93\": 5, \"39\": 1, \"108\": 1, \"84\": 6, \"40\": 3, \"116\": 2, \"22\": 1, \"76\": 1, \"113\": 1, \"3\": 1, \"70\": 1, \"10\": 1, \"105\": 1, \"26\": 1, \"8\": 1, \"33\": 4, \"1\": 1}, \"41\": {\"52\": 3, \"41\": 4, \"111\": 1, \"108\": 2, \"98\": 2, \"30\": 1, \"12\": 1, \"124\": 1, \"35\": 1}, \"104\": {\"5\": 2, \"104\": 10, \"53\": 2, \"105\": 2}, \"21\": {\"21\": 40, \"121\": 1, \"113\": 1, \"101\": 2, \"109\": 1, \"64\": 2, \"117\": 1}, \"118\": {\"118\": 37, \"81\": 1, \"6\": 1, \"43\": 4, \"90\": 6, \"60\": 1, \"29\": 1, \"64\": 1, \"69\": 5, \"88\": 2, \"109\": 5, \"93\": 4, \"16\": 1, \"70\": 1, \"39\": 1, \"62\": 1, \"113\": 1, \"102\": 10, \"26\": 5, \"33\": 4, \"120\": 1, \"128\": 1, \"31\": 1, \"126\": 1, \"1\": 1, \"84\": 2, \"24\": 1}, \"40\": {\"40\": 84, \"21\": 1, \"105\": 5, \"1\": 4, \"114\": 7, \"87\": 3, \"4\": 1, \"127\": 1, \"14\": 2, \"107\": 5, \"12\": 2, \"3\": 2, \"53\": 1, \"110\": 1, \"11\": 1, \"62\": 1, \"5\": 1}, \"6\": {\"6\": 20, \"73\": 1, \"106\": 1, \"36\": 2, \"24\": 1, \"97\": 2, \"15\": 4, \"125\": 1}, \"27\": {\"94\": 3, \"12\": 6, \"25\": 2, \"30\": 9, \"58\": 1, \"54\": 3, \"27\": 29, \"124\": 2, \"95\": 1, \"0\": 5, \"77\": 1, \"97\": 1, \"24\": 1, \"41\": 2, \"8\": 2, \"125\": 7, \"98\": 1, \"111\": 3, \"106\": 1, \"36\": 7, \"61\": 1, \"91\": 2, \"5\": 1, \"71\": 1, \"15\": 2, \"7\": 2}, \"113\": {\"113\": 68, \"39\": 8, \"43\": 3, \"117\": 9, \"2\": 3, \"26\": 6, \"18\": 6, \"16\": 1, \"81\": 2, \"88\": 4, \"118\": 2, \"87\": 1, \"93\": 3, \"64\": 1, \"121\": 1, \"109\": 1, \"90\": 1}, \"68\": {\"68\": 13, \"12\": 2, \"73\": 1}, \"12\": {\"12\": 66, \"46\": 1, \"8\": 6, \"0\": 5, \"127\": 2, \"30\": 2, \"111\": 4, \"98\": 6, \"108\": 2, \"124\": 4, \"24\": 1, \"68\": 1, \"94\": 2}, \"54\": {\"54\": 16}, \"24\": {\"101\": 2, \"56\": 1, \"24\": 11, \"9\": 1, \"54\": 1, \"99\": 1, \"85\": 2, \"30\": 1, \"66\": 2, \"0\": 4, \"73\": 1, \"52\": 1, \"75\": 2, \"126\": 1, \"42\": 1, \"27\": 3, \"34\": 1, \"58\": 2, \"12\": 2, \"6\": 1, \"18\": 1, \"10\": 1, \"125\": 2, \"19\": 1, \"36\": 1, \"8\": 1}, \"106\": {\"24\": 3, \"106\": 71, \"125\": 3, \"94\": 3, \"15\": 8, \"36\": 6, \"126\": 1, \"58\": 2, \"113\": 1, \"91\": 1, \"27\": 1}, \"128\": {\"4\": 1, \"128\": 15, \"66\": 1, \"99\": 3, \"10\": 1, \"122\": 1, \"19\": 1, \"5\": 2, \"0\": 1, \"95\": 1, \"104\": 2, \"74\": 1, \"44\": 1, \"70\": 1}, \"48\": {\"10\": 3, \"48\": 1, \"65\": 1, \"82\": 1, \"107\": 1, \"57\": 1, \"79\": 2, \"77\": 2, \"86\": 1, \"95\": 1, \"69\": 2}, \"92\": {\"92\": 25, \"2\": 1, \"16\": 1, \"39\": 1, \"33\": 1, \"78\": 1, \"80\": 1, \"64\": 1}, \"35\": {\"35\": 6, \"59\": 1, \"54\": 1, \"6\": 1, \"27\": 1, \"91\": 1, \"0\": 1}, \"116\": {\"92\": 3, \"107\": 1, \"116\": 11, \"43\": 1, \"13\": 1, \"44\": 1, \"71\": 1, \"82\": 3, \"129\": 1, \"109\": 1, \"23\": 1, \"16\": 1, \"88\": 1, \"90\": 1}, \"38\": {\"38\": 13, \"120\": 1, \"4\": 1, \"127\": 1}, \"126\": {\"92\": 2, \"81\": 3, \"116\": 1, \"126\": 77, \"39\": 11, \"96\": 2, \"113\": 9, \"43\": 1, \"88\": 2, \"117\": 5, \"118\": 1, \"109\": 2, \"26\": 1, \"18\": 3, \"64\": 1, \"21\": 1, \"90\": 1, \"11\": 1}, \"46\": {\"4\": 1, \"46\": 10, \"71\": 3, \"105\": 2}, \"120\": {\"120\": 20}, \"7\": {\"7\": 81, \"88\": 2, \"46\": 1, \"3\": 1, \"95\": 1, \"105\": 2, \"4\": 4, \"70\": 3, \"127\": 3, \"12\": 1, \"10\": 2, \"8\": 4, \"47\": 1, \"9\": 1, \"49\": 1, \"121\": 1, \"112\": 1, \"73\": 1, \"5\": 1}, \"13\": {\"13\": 5, \"69\": 2, \"81\": 1, \"82\": 1, \"2\": 1, \"121\": 1, \"33\": 1, \"92\": 1, \"17\": 1, \"109\": 2}, \"43\": {\"23\": 1, \"43\": 17, \"118\": 4, \"60\": 1, \"33\": 3, \"109\": 2, \"26\": 1, \"120\": 2, \"82\": 2, \"16\": 4, \"121\": 1, \"90\": 1, \"126\": 3, \"113\": 1, \"69\": 1, \"44\": 1, \"39\": 4, \"84\": 2, \"11\": 1, \"62\": 1, \"88\": 1, \"87\": 1, \"102\": 1}, \"93\": {\"93\": 84, \"109\": 9, \"43\": 1, \"118\": 1, \"87\": 1, \"44\": 2, \"33\": 13, \"11\": 4, \"16\": 5, \"90\": 5, \"18\": 1, \"120\": 1, \"88\": 2, \"108\": 1, \"113\": 1, \"102\": 1}, \"26\": {\"26\": 119, \"43\": 1, \"113\": 2, \"126\": 1, \"81\": 2, \"117\": 5, \"109\": 2}, \"76\": {\"40\": 1, \"76\": 10, \"86\": 1, \"22\": 2, \"32\": 1, \"88\": 1}, \"59\": {\"59\": 8, \"51\": 1, \"58\": 1, \"12\": 2}, \"65\": {\"65\": 9, \"16\": 1, \"128\": 2}, \"87\": {\"87\": 32, \"129\": 3, \"32\": 1, \"1\": 6, \"109\": 1, \"60\": 1, \"19\": 1, \"62\": 5, \"107\": 9, \"122\": 2, \"10\": 2, \"110\": 13, \"88\": 5, \"114\": 10, \"40\": 5, \"90\": 2, \"16\": 3, \"11\": 3, \"44\": 2, \"5\": 4, \"84\": 3, \"22\": 1, \"48\": 1, \"116\": 1, \"28\": 1, \"70\": 1, \"39\": 1, \"93\": 1}, \"124\": {\"30\": 1, \"124\": 82, \"52\": 2, \"7\": 1, \"98\": 4, \"6\": 1, \"12\": 5, \"111\": 8, \"34\": 2, \"0\": 2, \"15\": 3, \"113\": 1, \"37\": 1, \"38\": 1, \"32\": 1, \"5\": 1, \"108\": 2, \"8\": 1, \"41\": 1, \"35\": 1, \"127\": 1, \"94\": 1, \"90\": 1}, \"84\": {\"129\": 2, \"84\": 68, \"87\": 5, \"107\": 3, \"16\": 2, \"94\": 1, \"109\": 1, \"114\": 1, \"69\": 2, \"102\": 4, \"11\": 3, \"44\": 1, \"62\": 7, \"29\": 2, \"57\": 1, \"88\": 1, \"14\": 3, \"108\": 1}, \"82\": {\"82\": 24, \"84\": 2, \"102\": 2}, \"75\": {\"75\": 16}, \"17\": {\"73\": 1, \"120\": 1, \"116\": 1, \"104\": 1, \"7\": 2, \"64\": 1, \"117\": 1, \"113\": 2, \"17\": 1, \"81\": 1, \"47\": 1, \"56\": 1, \"76\": 1, \"27\": 1}, \"105\": {\"4\": 3, \"105\": 98, \"55\": 1, \"129\": 2, \"122\": 1, \"114\": 2, \"127\": 3, \"5\": 6, \"3\": 1, \"110\": 1, \"108\": 1, \"88\": 1, \"86\": 2, \"71\": 1, \"10\": 1}, \"95\": {\"95\": 26, \"7\": 2, \"8\": 2, \"32\": 1, \"55\": 1}, \"42\": {\"15\": 2, \"42\": 6, \"34\": 2, \"60\": 1, \"73\": 2, \"27\": 1, \"106\": 1, \"58\": 2, \"59\": 1, \"94\": 1, \"70\": 1, \"128\": 1, \"114\": 3, \"122\": 1, \"72\": 1, \"7\": 1, \"105\": 1}, \"55\": {\"55\": 16}, \"16\": {\"16\": 63, \"82\": 1, \"11\": 6, \"43\": 3, \"29\": 1, \"102\": 7, \"84\": 1, \"118\": 5, \"33\": 8, \"90\": 4, \"69\": 1, \"87\": 1, \"96\": 1, \"19\": 1, \"23\": 1, \"113\": 1, \"93\": 7, \"14\": 1, \"26\": 1, \"109\": 2}, \"50\": {\"50\": 10, \"14\": 2, \"122\": 1, \"1\": 1, \"115\": 1, \"74\": 1}, \"96\": {\"96\": 8, \"121\": 5, \"26\": 1, \"117\": 1, \"80\": 1, \"63\": 1, \"16\": 1, \"90\": 1, \"123\": 1}, \"45\": {\"45\": 15, \"107\": 1}, \"36\": {\"52\": 1, \"24\": 2, \"36\": 45, \"101\": 2, \"94\": 11, \"15\": 7, \"71\": 1, \"125\": 11, \"30\": 4, \"27\": 5, \"111\": 5, \"108\": 3, \"12\": 2, \"0\": 4, \"8\": 1, \"98\": 1, \"7\": 1, \"37\": 1, \"124\": 3, \"54\": 3, \"73\": 2, \"72\": 1, \"106\": 4}, \"114\": {\"114\": 83, \"5\": 1, \"26\": 1, \"1\": 7, \"105\": 5, \"71\": 1, \"107\": 5, \"125\": 1, \"70\": 1, \"87\": 1, \"124\": 1, \"7\": 1, \"110\": 2, \"40\": 5, \"112\": 1, \"53\": 1, \"3\": 3, \"4\": 1, \"113\": 1, \"90\": 1, \"102\": 1}}, \"C_2\": {\"49\": {\"49\": 24}, \"13\": {\"13\": 114, \"24\": 1, \"10\": 1}, \"37\": {\"37\": 35, \"38\": 1}, \"41\": {\"41\": 20}, \"15\": {\"15\": 110, \"39\": 1, \"7\": 2, \"0\": 6, \"16\": 12, \"57\": 6, \"1\": 2, \"47\": 3}, \"56\": {\"56\": 120, \"22\": 9, \"24\": 7, \"10\": 4, \"13\": 2}, \"14\": {\"14\": 17, \"31\": 4, \"55\": 1, \"56\": 2}, \"3\": {\"30\": 7, \"3\": 40, \"41\": 2, \"23\": 4, \"52\": 6, \"25\": 7, \"7\": 1, \"49\": 3, \"46\": 3, \"57\": 2, \"1\": 2, \"21\": 3, \"16\": 1, \"45\": 2, \"48\": 1, \"17\": 1, \"2\": 1, \"50\": 3, \"6\": 2, \"40\": 1}, \"38\": {\"38\": 17, \"37\": 1, \"43\": 2}, \"43\": {\"43\": 138}, \"33\": {\"47\": 2, \"42\": 3, \"33\": 20, \"40\": 1, \"46\": 1, \"2\": 1}, \"47\": {\"47\": 114, \"5\": 11, \"42\": 3, \"28\": 2, \"0\": 1, \"46\": 2, \"57\": 2, \"15\": 1, \"29\": 1, \"11\": 1}, \"30\": {\"30\": 131, \"2\": 1, \"23\": 2, \"18\": 3, \"50\": 4, \"6\": 1, \"48\": 1, \"21\": 1}, \"39\": {\"39\": 28}, \"12\": {\"12\": 71, \"51\": 3, \"54\": 3, \"26\": 1, \"53\": 6, \"8\": 5, \"27\": 2, \"36\": 1}, \"6\": {\"6\": 67, \"57\": 1, \"48\": 18, \"29\": 2, \"18\": 3, \"27\": 3, \"46\": 2, \"50\": 12, \"30\": 4, \"17\": 2, \"8\": 2, \"25\": 2, \"52\": 2, \"32\": 1, \"54\": 1, \"36\": 1, \"53\": 1}, \"51\": {\"51\": 118, \"20\": 12, \"12\": 3, \"45\": 1}, \"5\": {\"5\": 106, \"47\": 10, \"43\": 1, \"46\": 1, \"15\": 1, \"22\": 1}, \"34\": {\"34\": 27, \"3\": 1}, \"35\": {\"35\": 31, \"44\": 1}, \"0\": {\"0\": 40, \"28\": 3, \"15\": 3, \"57\": 2}, \"7\": {\"15\": 2, \"7\": 33, \"46\": 1}, \"24\": {\"24\": 86, \"10\": 5, \"22\": 4, \"56\": 1}, \"8\": {\"36\": 3, \"8\": 122, \"53\": 3, \"27\": 6, \"54\": 2}, \"20\": {\"20\": 115, \"51\": 7, \"12\": 2}, \"36\": {\"36\": 95, \"54\": 17, \"27\": 4}, \"42\": {\"42\": 31, \"7\": 1, \"57\": 1, \"2\": 1, \"16\": 1, \"46\": 1}, \"1\": {\"1\": 84, \"7\": 2, \"57\": 12, \"16\": 3, \"29\": 1, \"23\": 4, \"15\": 1, \"0\": 4, \"46\": 1}, \"4\": {\"4\": 140, \"9\": 4, \"45\": 3, \"21\": 1}, \"28\": {\"28\": 26, \"0\": 2}, \"50\": {\"50\": 65, \"26\": 1, \"41\": 1, \"21\": 3, \"6\": 15, \"4\": 1, \"3\": 3, \"17\": 3, \"48\": 10, \"53\": 8, \"8\": 7, \"1\": 2, \"23\": 1, \"29\": 1, \"32\": 3, \"2\": 1, \"33\": 1, \"52\": 1, \"27\": 3, \"18\": 1, \"25\": 1, \"36\": 1, \"30\": 1, \"15\": 1, \"9\": 1}, \"45\": {\"8\": 2, \"45\": 72, \"35\": 1, \"4\": 16, \"51\": 6, \"54\": 1, \"17\": 4, \"16\": 1, \"9\": 15, \"50\": 1, \"41\": 1, \"53\": 1, \"21\": 3, \"40\": 1, \"20\": 2, \"12\": 1}, \"18\": {\"18\": 42, \"6\": 2, \"30\": 2, \"50\": 1, \"48\": 1}, \"57\": {\"57\": 116, \"1\": 3, \"0\": 1}, \"46\": {\"33\": 3, \"16\": 10, \"25\": 7, \"39\": 1, \"46\": 46, \"47\": 4, \"21\": 9, \"28\": 1, \"29\": 5, \"57\": 2, \"11\": 3, \"52\": 7, \"40\": 5, \"19\": 2, \"5\": 7, \"43\": 1, \"50\": 1, \"44\": 1, \"2\": 1, \"15\": 8, \"7\": 1, \"3\": 2, \"1\": 1}, \"23\": {\"23\": 147, \"52\": 1}, \"27\": {\"27\": 111, \"54\": 8, \"8\": 7, \"36\": 12}, \"19\": {\"19\": 122, \"44\": 5, \"40\": 4, \"11\": 2, \"16\": 1}, \"22\": {\"22\": 114, \"56\": 16, \"10\": 3, \"43\": 1, \"13\": 2}, \"17\": {\"17\": 93, \"48\": 5, \"54\": 1, \"50\": 2, \"46\": 1, \"6\": 1, \"41\": 1}, \"55\": {\"44\": 8, \"55\": 99, \"10\": 2, \"31\": 3, \"13\": 2, \"43\": 11, \"11\": 6, \"46\": 1, \"24\": 1, \"5\": 2, \"38\": 1}, \"44\": {\"44\": 84, \"35\": 4, \"19\": 12}, \"26\": {\"26\": 21, \"54\": 2, \"36\": 1}, \"31\": {\"31\": 28}, \"16\": {\"16\": 126, \"15\": 3, \"39\": 1}, \"11\": {\"11\": 121, \"5\": 3, \"47\": 2, \"46\": 2}, \"25\": {\"25\": 73, \"52\": 8, \"3\": 4, \"30\": 9, \"16\": 5, \"15\": 6, \"57\": 2, \"9\": 2, \"6\": 3, \"23\": 4, \"21\": 1, \"46\": 4, \"34\": 2, \"1\": 1, \"50\": 2}, \"54\": {\"54\": 108}, \"32\": {\"32\": 26, \"6\": 1, \"36\": 1}, \"52\": {\"52\": 107, \"23\": 7, \"30\": 6, \"3\": 1, \"25\": 1, \"11\": 1, \"18\": 1}, \"40\": {\"40\": 118, \"21\": 1, \"19\": 3, \"16\": 1, \"46\": 1, \"33\": 3, \"57\": 1, \"29\": 4}, \"2\": {\"2\": 25, \"57\": 2, \"39\": 1, \"16\": 1, \"3\": 2, \"15\": 1}, \"10\": {\"13\": 4, \"10\": 97, \"24\": 9}, \"53\": {\"53\": 134, \"50\": 1, \"8\": 1}, \"9\": {\"9\": 142, \"21\": 4, \"45\": 2, \"25\": 2}, \"21\": {\"21\": 117, \"9\": 1, \"3\": 1, \"25\": 1}, \"48\": {\"48\": 121, \"17\": 3, \"50\": 3, \"6\": 2, \"25\": 1, \"18\": 1, \"32\": 2, \"36\": 1, \"23\": 1, \"46\": 1, \"27\": 2}, \"29\": {\"29\": 118, \"57\": 3, \"40\": 3, \"25\": 2, \"46\": 1, \"11\": 1}}, \"W_4\": {\"113\": {\"35\": 2, \"18\": 11, \"113\": 53, \"2\": 1, \"80\": 1, \"117\": 12, \"26\": 9, \"44\": 2, \"21\": 2, \"90\": 7, \"16\": 2, \"81\": 3, \"78\": 1, \"88\": 2, \"39\": 4, \"122\": 2, \"126\": 7, \"63\": 1, \"109\": 1, \"93\": 1}, \"85\": {\"8\": 2, \"85\": 19, \"36\": 1, \"86\": 2, \"112\": 2, \"6\": 1, \"30\": 1}, \"34\": {\"55\": 1, \"83\": 1, \"34\": 4, \"62\": 2, \"115\": 1, \"32\": 2, \"23\": 1, \"75\": 1, \"47\": 2, \"76\": 2, \"30\": 2, \"46\": 1, \"98\": 1, \"25\": 2, \"108\": 1, \"120\": 1, \"70\": 1, \"10\": 2, \"36\": 2, \"87\": 2}, \"55\": {\"55\": 15, \"49\": 1}, \"42\": {\"24\": 2, \"11\": 2, \"30\": 4, \"49\": 2, \"42\": 5, \"12\": 1, \"6\": 1, \"105\": 2, \"8\": 1, \"87\": 1, \"9\": 2, \"95\": 1, \"72\": 1, \"112\": 1, \"103\": 1, \"85\": 1}, \"13\": {\"13\": 12, \"84\": 2, \"67\": 1, \"102\": 1}, \"69\": {\"13\": 2, \"69\": 81, \"39\": 2, \"33\": 7, \"16\": 2, \"84\": 4, \"5\": 3, \"102\": 13, \"90\": 1, \"43\": 1, \"26\": 1, \"14\": 2, \"89\": 1, \"87\": 1, \"113\": 1, \"11\": 2}, \"35\": {\"35\": 8, \"113\": 1, \"81\": 1, \"123\": 1, \"61\": 1}, \"83\": {\"83\": 10, \"21\": 1, \"73\": 2, \"107\": 1, \"72\": 1, \"62\": 1, \"32\": 1, \"37\": 2, \"115\": 2, \"87\": 1, \"11\": 1, \"109\": 1, \"3\": 1, \"33\": 1, \"14\": 1, \"105\": 1}, \"51\": {\"24\": 2, \"126\": 1, \"62\": 1, \"51\": 4, \"9\": 3, \"113\": 1, \"10\": 1, \"39\": 1, \"121\": 1, \"6\": 1}, \"72\": {\"83\": 1, \"72\": 21, \"43\": 1, \"99\": 2, \"42\": 1, \"14\": 3, \"52\": 1, \"118\": 1, \"40\": 1}, \"24\": {\"51\": 2, \"24\": 27, \"8\": 4, \"10\": 7, \"90\": 1, \"99\": 1, \"106\": 5, \"15\": 3, \"0\": 7, \"94\": 7, \"98\": 4, \"117\": 1, \"30\": 5, \"36\": 6, \"27\": 6, \"125\": 10, \"111\": 1, \"101\": 8, \"124\": 1, \"11\": 1, \"54\": 1, \"75\": 1, \"37\": 1, \"7\": 1, \"29\": 1, \"70\": 2, \"88\": 2, \"12\": 2, \"110\": 1, \"105\": 1}, \"53\": {\"53\": 9, \"44\": 1, \"91\": 1, \"24\": 2, \"29\": 2, \"27\": 1}, \"8\": {\"8\": 59, \"37\": 2, \"52\": 2, \"29\": 2, \"55\": 1, \"9\": 2, \"85\": 1, \"12\": 4, \"98\": 5, \"27\": 4, \"81\": 1, \"7\": 2, \"95\": 2, \"30\": 1, \"42\": 1, \"117\": 1, \"127\": 4, \"101\": 10, \"0\": 6, \"111\": 10, \"24\": 1, \"10\": 4, \"18\": 2, \"88\": 2, \"26\": 2, \"106\": 1, \"86\": 2, \"68\": 1, \"91\": 1, \"71\": 1, \"4\": 1, \"58\": 1, \"34\": 1, \"21\": 1, \"69\": 1, \"124\": 2}, \"49\": {\"49\": 2, \"13\": 1, \"11\": 1, \"84\": 1, \"29\": 1, \"66\": 1, \"8\": 3, \"5\": 3, \"41\": 1, \"69\": 1, \"88\": 2, \"44\": 2, \"89\": 1, \"82\": 1, \"24\": 1, \"122\": 1, \"129\": 1, \"10\": 1, \"32\": 2, \"102\": 2, \"3\": 1, \"87\": 1, \"33\": 1}, \"21\": {\"21\": 29, \"39\": 1, \"126\": 2, \"121\": 4, \"113\": 3, \"108\": 1}, \"18\": {\"18\": 102, \"63\": 2, \"26\": 4, \"117\": 8, \"90\": 1, \"16\": 2, \"39\": 1}, \"114\": {\"114\": 82, \"104\": 1, \"71\": 8, \"46\": 2, \"82\": 2, \"100\": 1, \"107\": 5, \"105\": 6, \"7\": 2, \"113\": 2, \"70\": 1, \"87\": 1, \"0\": 1, \"101\": 1, \"1\": 1, \"3\": 2}, \"58\": {\"58\": 12, \"21\": 1, \"106\": 1, \"12\": 2}, \"56\": {\"56\": 7, \"91\": 3, \"95\": 1, \"77\": 1}, \"80\": {\"80\": 16}, \"11\": {\"68\": 1, \"50\": 2, \"69\": 4, \"11\": 36, \"19\": 4, \"3\": 6, \"118\": 4, \"102\": 7, \"31\": 1, \"37\": 1, \"40\": 8, \"60\": 1, \"89\": 4, \"46\": 1, \"87\": 10, \"49\": 1, \"33\": 10, \"109\": 2, \"108\": 2, \"88\": 4, \"86\": 2, \"78\": 2, \"93\": 2, \"14\": 4, \"1\": 3, \"5\": 2, \"105\": 1, \"107\": 10, \"114\": 3, \"70\": 3, \"27\": 3, \"73\": 1, \"32\": 1, \"15\": 1, \"71\": 1, \"7\": 3, \"101\": 2, \"43\": 1}, \"15\": {\"58\": 2, \"9\": 2, \"15\": 52, \"91\": 2, \"10\": 9, \"34\": 1, \"75\": 1, \"101\": 8, \"24\": 7, \"12\": 7, \"117\": 1, \"36\": 6, \"106\": 5, \"8\": 6, \"94\": 2, \"30\": 3, \"88\": 1, \"27\": 1, \"49\": 1, \"124\": 1, \"103\": 2, \"29\": 1, \"97\": 1, \"98\": 2, \"127\": 1, \"69\": 1, \"125\": 2}, \"50\": {\"50\": 9, \"40\": 3, \"27\": 1, \"115\": 2, \"92\": 1}, \"111\": {\"111\": 112, \"30\": 2, \"127\": 5, \"10\": 2, \"0\": 2, \"12\": 2, \"8\": 3, \"98\": 2, \"94\": 1, \"15\": 2, \"117\": 1, \"106\": 1, \"124\": 1, \"125\": 1, \"101\": 1}, \"108\": {\"68\": 1, \"73\": 2, \"118\": 4, \"5\": 6, \"108\": 13, \"32\": 1, \"70\": 5, \"102\": 2, \"33\": 2, \"93\": 3, \"109\": 3, \"88\": 3, \"40\": 5, \"106\": 1, \"3\": 6, \"14\": 1, \"4\": 1, \"90\": 2, \"7\": 1, \"43\": 3, \"126\": 2, \"105\": 1, \"107\": 1, \"13\": 1, \"129\": 1, \"22\": 1, \"119\": 1, \"26\": 1, \"10\": 1, \"34\": 1, \"27\": 1, \"71\": 1, \"30\": 1, \"62\": 1, \"84\": 1, \"39\": 2, \"97\": 1, \"11\": 2, \"87\": 3, \"110\": 1, \"1\": 1, \"12\": 1}, \"104\": {\"104\": 7, \"56\": 1, \"106\": 1, \"17\": 2, \"4\": 1, \"127\": 1, \"32\": 1, \"28\": 1, \"34\": 1}, \"32\": {\"32\": 14, \"107\": 1, \"64\": 1, \"11\": 1, \"49\": 1, \"50\": 1, \"105\": 1, \"111\": 1, \"72\": 1, \"14\": 1, \"119\": 1, \"78\": 1, \"45\": 1, \"87\": 1, \"69\": 1}, \"68\": {\"111\": 2, \"68\": 13, \"35\": 1}, \"73\": {\"108\": 1, \"50\": 1, \"40\": 1, \"73\": 16, \"67\": 2, \"31\": 1, \"14\": 2}, \"92\": {\"121\": 1, \"57\": 1, \"120\": 1, \"45\": 1, \"40\": 3, \"11\": 1, \"34\": 1, \"92\": 12, \"48\": 2, \"102\": 1, \"7\": 2, \"27\": 1, \"87\": 1}, \"57\": {\"57\": 16}, \"40\": {\"107\": 11, \"50\": 1, \"114\": 9, \"40\": 91, \"1\": 3, \"82\": 1, \"18\": 1, \"11\": 3, \"81\": 1, \"7\": 1, \"106\": 1, \"3\": 3, \"100\": 1, \"73\": 1, \"26\": 1, \"71\": 3, \"126\": 1, \"105\": 1, \"14\": 1, \"87\": 1}, \"71\": {\"71\": 69, \"114\": 12, \"0\": 1, \"6\": 1, \"1\": 2, \"4\": 2, \"98\": 2, \"12\": 1, \"40\": 2, \"88\": 2, \"127\": 1, \"126\": 2, \"107\": 1, \"27\": 2, \"3\": 1, \"101\": 1, \"113\": 1, \"69\": 1}, \"121\": {\"57\": 2, \"39\": 1, \"84\": 4, \"126\": 2, \"118\": 2, \"121\": 7, \"69\": 1, \"93\": 2, \"113\": 1, \"16\": 1, \"33\": 2, \"21\": 3, \"31\": 1, \"74\": 1, \"109\": 2}, \"62\": {\"57\": 1, \"62\": 22, \"118\": 3, \"11\": 1, \"2\": 1, \"26\": 2, \"43\": 1, \"5\": 1, \"99\": 2, \"84\": 2, \"117\": 1, \"14\": 4, \"93\": 2, \"108\": 1, \"69\": 1, \"32\": 2, \"102\": 4, \"18\": 1, \"27\": 1, \"106\": 1, \"128\": 1, \"61\": 1, \"87\": 1, \"21\": 1, \"33\": 1, \"44\": 1}, \"39\": {\"39\": 52, \"63\": 1, \"109\": 4, \"126\": 5, \"44\": 1, \"121\": 1, \"26\": 5, \"113\": 7, \"18\": 7, \"117\": 6, \"93\": 1, \"90\": 1, \"43\": 1, \"23\": 1, \"81\": 2, \"66\": 1, \"84\": 1, \"16\": 2, \"21\": 1}, \"107\": {\"50\": 1, \"107\": 101, \"40\": 14, \"90\": 1, \"1\": 3, \"105\": 4, \"87\": 1, \"114\": 11, \"43\": 1, \"71\": 2, \"110\": 1, \"14\": 1, \"101\": 1, \"33\": 2}, \"60\": {\"8\": 1, \"110\": 3, \"60\": 6, \"9\": 1, \"128\": 1, \"43\": 1, \"5\": 1, \"11\": 1, \"127\": 1, \"120\": 1, \"112\": 2, \"27\": 1, \"62\": 4, \"22\": 2, \"95\": 1, \"118\": 1, \"78\": 1, \"89\": 1, \"34\": 1, \"88\": 1}, \"129\": {\"0\": 2, \"33\": 1, \"129\": 6, \"5\": 2, \"1\": 1, \"112\": 1, \"8\": 1, \"122\": 1, \"48\": 1, \"97\": 1, \"70\": 1, \"55\": 2, \"95\": 1, \"75\": 1, \"127\": 3, \"69\": 2, \"71\": 1}, \"84\": {\"84\": 85, \"69\": 11, \"13\": 3, \"65\": 1, \"49\": 1, \"18\": 1, \"16\": 9, \"113\": 1, \"122\": 3, \"102\": 4, \"109\": 1, \"11\": 3, \"93\": 1, \"60\": 1, \"39\": 1, \"126\": 1, \"117\": 1, \"43\": 1, \"110\": 1, \"118\": 1, \"87\": 1}, \"106\": {\"106\": 67, \"12\": 11, \"30\": 2, \"9\": 2, \"75\": 1, \"18\": 1, \"125\": 4, \"27\": 2, \"47\": 1, \"127\": 1, \"15\": 6, \"24\": 4, \"36\": 2, \"111\": 2, \"77\": 1, \"82\": 1, \"95\": 1, \"1\": 2, \"118\": 1, \"10\": 3, \"124\": 1}, \"87\": {\"60\": 1, \"82\": 3, \"107\": 5, \"87\": 37, \"115\": 1, \"119\": 1, \"1\": 5, \"88\": 9, \"129\": 3, \"40\": 7, \"105\": 5, \"71\": 4, \"70\": 4, \"108\": 1, \"14\": 4, \"3\": 2, \"43\": 3, \"122\": 1, \"7\": 2, \"109\": 1, \"110\": 5, \"114\": 9, \"0\": 5, \"20\": 1, \"11\": 3, \"19\": 1, \"46\": 1, \"73\": 1, \"83\": 1, \"78\": 1, \"5\": 1, \"118\": 1, \"33\": 1, \"93\": 1, \"27\": 1}, \"110\": {\"110\": 32, \"11\": 6, \"93\": 6, \"126\": 2, \"14\": 2, \"5\": 10, \"78\": 1, \"102\": 2, \"118\": 2, \"84\": 2, \"43\": 6, \"90\": 4, \"109\": 2, \"36\": 1, \"33\": 3, \"88\": 4, \"122\": 1, \"116\": 1, \"129\": 1, \"108\": 6}, \"118\": {\"69\": 9, \"60\": 2, \"108\": 7, \"118\": 24, \"96\": 1, \"89\": 1, \"102\": 13, \"44\": 1, \"10\": 1, \"119\": 1, \"122\": 3, \"5\": 1, \"46\": 1, \"74\": 1, \"116\": 1, \"11\": 6, \"33\": 6, \"14\": 3, \"93\": 4, \"62\": 1, \"109\": 4, \"99\": 2, \"84\": 3, \"107\": 1, \"88\": 6, \"87\": 1, \"110\": 2, \"26\": 1, \"57\": 2, \"129\": 1, \"78\": 1, \"43\": 1}, \"64\": {\"64\": 12, \"11\": 1, \"80\": 1, \"28\": 1, \"69\": 1}, \"82\": {\"60\": 1, \"82\": 18, \"11\": 1, \"14\": 1, \"86\": 1, \"85\": 1, \"1\": 2, \"42\": 1, \"49\": 1, \"4\": 1, \"40\": 1, \"17\": 1, \"107\": 2}, \"7\": {\"7\": 61, \"55\": 1, \"99\": 1, \"129\": 2, \"1\": 6, \"3\": 6, \"71\": 5, \"88\": 3, \"86\": 3, \"105\": 3, \"70\": 9, \"87\": 6, \"4\": 2, \"98\": 1, \"110\": 1, \"22\": 1, \"96\": 1, \"128\": 1, \"26\": 1, \"85\": 1, \"40\": 2, \"27\": 1, \"106\": 1, \"11\": 1, \"126\": 3, \"127\": 1}, \"0\": {\"60\": 2, \"8\": 5, \"19\": 1, \"0\": 40, \"83\": 1, \"127\": 9, \"87\": 1, \"27\": 2, \"101\": 9, \"1\": 2, \"70\": 5, \"117\": 1, \"111\": 4, \"98\": 7, \"4\": 5, \"71\": 1, \"126\": 1, \"88\": 3, \"10\": 2, \"124\": 3, \"3\": 2, \"93\": 1, \"41\": 1, \"37\": 1, \"100\": 1, \"85\": 1, \"21\": 2, \"34\": 1, \"97\": 2}, \"41\": {\"103\": 1, \"41\": 5, \"42\": 1, \"102\": 1, \"24\": 1, \"29\": 1, \"4\": 2, \"101\": 1, \"98\": 3}, \"102\": {\"102\": 99, \"129\": 1, \"14\": 2, \"84\": 5, \"43\": 1, \"69\": 8, \"16\": 2, \"33\": 2, \"126\": 1, \"87\": 1, \"48\": 2, \"5\": 1, \"67\": 2, \"122\": 1, \"108\": 2}, \"89\": {\"83\": 1, \"89\": 14, \"22\": 1, \"105\": 1, \"113\": 1, \"5\": 1, \"103\": 1, \"34\": 1, \"128\": 3, \"17\": 1, \"76\": 1, \"86\": 1, \"95\": 1, \"8\": 1, \"1\": 1, \"46\": 1, \"70\": 1}, \"26\": {\"18\": 14, \"26\": 89, \"61\": 2, \"39\": 4, \"78\": 1, \"90\": 2, \"118\": 2, \"117\": 7, \"109\": 2, \"88\": 2, \"126\": 1, \"40\": 2}, \"103\": {\"103\": 11, \"94\": 1, \"106\": 1, \"27\": 1, \"125\": 1, \"42\": 1}, \"90\": {\"90\": 86, \"84\": 3, \"44\": 1, \"113\": 2, \"43\": 2, \"39\": 2, \"81\": 1, \"88\": 3, \"109\": 3, \"5\": 1, \"93\": 3, \"63\": 1, \"110\": 3, \"117\": 4, \"16\": 2, \"114\": 1}, \"14\": {\"14\": 81, \"19\": 3, \"62\": 2, \"33\": 5, \"99\": 1, \"110\": 1, \"122\": 1, \"87\": 5, \"3\": 1, \"109\": 1, \"40\": 2, \"115\": 2, \"88\": 1, \"11\": 2, \"78\": 2, \"69\": 1, \"5\": 1}, \"9\": {\"68\": 1, \"9\": 19, \"106\": 5, \"97\": 1, \"12\": 1, \"0\": 1}, \"5\": {\"14\": 1, \"87\": 3, \"5\": 91, \"19\": 1, \"10\": 1, \"88\": 2, \"129\": 1, \"72\": 1, \"110\": 2, \"44\": 1, \"33\": 10, \"3\": 3, \"7\": 2, \"11\": 6, \"113\": 1, \"1\": 1, \"108\": 1, \"89\": 1, \"93\": 4, \"117\": 1, \"4\": 1, \"114\": 1}, \"22\": {\"49\": 1, \"22\": 8, \"89\": 2, \"5\": 1, \"20\": 1, \"76\": 2, \"79\": 1}, \"2\": {\"2\": 20, \"81\": 1, \"117\": 1, \"110\": 1, \"16\": 3, \"18\": 2}, \"77\": {\"77\": 11, \"111\": 1}, \"59\": {\"77\": 2, \"59\": 6, \"39\": 1, \"81\": 1, \"111\": 2}, \"127\": {\"127\": 74, \"95\": 6, \"113\": 2, \"111\": 7, \"81\": 1, \"0\": 4, \"80\": 1, \"12\": 2, \"117\": 1, \"101\": 1, \"8\": 3}, \"61\": {\"61\": 13, \"84\": 1, \"26\": 1, \"113\": 1}, \"17\": {\"17\": 16, \"27\": 2, \"81\": 1, \"55\": 1}, \"45\": {\"45\": 15, \"14\": 1}, \"19\": {\"84\": 2, \"20\": 1, \"19\": 6, \"100\": 1, \"91\": 1, \"14\": 1, \"43\": 2, \"122\": 1, \"114\": 1, \"105\": 1, \"5\": 2, \"0\": 1, \"129\": 1, \"102\": 1, \"49\": 1, \"110\": 1, \"7\": 2, \"44\": 1, \"108\": 1}, \"52\": {\"52\": 9, \"8\": 3, \"113\": 1, \"101\": 1, \"34\": 1, \"10\": 3, \"27\": 1, \"71\": 1}, \"123\": {\"77\": 1, \"123\": 8, \"117\": 1, \"113\": 1, \"81\": 2, \"54\": 1, \"75\": 1, \"26\": 1}, \"20\": {\"20\": 7, \"69\": 2, \"88\": 1, \"11\": 1, \"120\": 1, \"22\": 1, \"3\": 1, \"57\": 1, \"76\": 1}, \"112\": {\"112\": 11, \"77\": 1, \"71\": 2, \"129\": 1, \"126\": 1}, \"37\": {\"37\": 15, \"8\": 1}, \"29\": {\"29\": 29, \"8\": 1, \"91\": 1, \"10\": 1}, \"128\": {\"100\": 2, \"128\": 6, \"91\": 2, \"28\": 1, \"114\": 1, \"104\": 1, \"46\": 1, \"127\": 1, \"78\": 1, \"88\": 2, \"112\": 1, \"8\": 1, \"70\": 2, \"109\": 1, \"98\": 1}, \"100\": {\"100\": 15, \"22\": 2, \"29\": 1, \"43\": 1, \"59\": 1}, \"67\": {\"67\": 3, \"117\": 2, \"115\": 1, \"39\": 1, \"126\": 1, \"40\": 1, \"2\": 1, \"45\": 2, \"3\": 1, \"14\": 1, \"18\": 2}, \"12\": {\"12\": 58, \"113\": 1, \"106\": 6, \"29\": 1, \"6\": 2, \"24\": 2, \"27\": 3, \"111\": 7, \"70\": 1, \"108\": 1, \"30\": 1, \"127\": 4, \"10\": 1, \"51\": 1, \"95\": 3, \"94\": 1, \"0\": 1, \"101\": 1, \"15\": 2, \"16\": 1, \"126\": 1, \"124\": 1}, \"101\": {\"101\": 82, \"91\": 2, \"8\": 9, \"0\": 7, \"98\": 4, \"27\": 2, \"12\": 2, \"124\": 1, \"87\": 2, \"127\": 4, \"26\": 1, \"111\": 3, \"24\": 1, \"41\": 1, \"89\": 1, \"88\": 1, \"10\": 3, \"4\": 1, \"110\": 1}, \"76\": {\"31\": 1, \"76\": 9, \"91\": 1, \"42\": 2, \"40\": 1, \"22\": 2}, \"70\": {\"86\": 1, \"76\": 1, \"70\": 23, \"128\": 1, \"27\": 5, \"68\": 2, \"38\": 1, \"104\": 1, \"108\": 4, \"8\": 8, \"52\": 2, \"118\": 3, \"71\": 3, \"98\": 3, \"110\": 1, \"101\": 4, \"93\": 6, \"99\": 1, \"12\": 1, \"122\": 4, \"24\": 2, \"88\": 6, \"111\": 2, \"43\": 3, \"0\": 2, \"90\": 3, \"4\": 4, \"106\": 1, \"3\": 2, \"87\": 1, \"103\": 1, \"95\": 1, \"127\": 3, \"120\": 1, \"105\": 2, \"49\": 2, \"17\": 1, \"11\": 1, \"89\": 1, \"7\": 1, \"34\": 1, \"113\": 1, \"1\": 2, \"114\": 3, \"10\": 2}, \"31\": {\"39\": 1, \"31\": 10, \"33\": 1, \"45\": 2, \"43\": 2}, \"86\": {\"86\": 21, \"91\": 1, \"129\": 1, \"7\": 1, \"4\": 1, \"17\": 1, \"85\": 1, \"70\": 1}, \"88\": {\"39\": 5, \"88\": 33, \"38\": 2, \"71\": 2, \"128\": 1, \"66\": 2, \"93\": 3, \"49\": 1, \"109\": 5, \"101\": 5, \"27\": 5, \"98\": 5, \"14\": 1, \"10\": 2, \"122\": 4, \"11\": 2, \"113\": 3, \"105\": 1, \"70\": 6, \"108\": 2, \"4\": 2, \"7\": 3, \"24\": 1, \"3\": 2, \"69\": 1, \"43\": 2, \"90\": 2, \"126\": 5, \"0\": 6, \"112\": 2, \"12\": 1, \"86\": 1, \"99\": 1, \"110\": 1, \"83\": 1, \"34\": 1, \"72\": 1, \"1\": 2, \"78\": 1, \"111\": 1, \"124\": 1, \"87\": 1, \"8\": 3}, \"3\": {\"3\": 70, \"62\": 1, \"5\": 5, \"114\": 4, \"40\": 3, \"70\": 2, \"18\": 1, \"110\": 1, \"14\": 1, \"71\": 5, \"122\": 1, \"27\": 1, \"7\": 2, \"87\": 5, \"43\": 1, \"107\": 3, \"1\": 5, \"11\": 3, \"73\": 2, \"32\": 1, \"2\": 1, \"82\": 1, \"98\": 1, \"118\": 1, \"127\": 1, \"33\": 3, \"88\": 1}, \"117\": {\"117\": 85, \"113\": 5, \"81\": 1, \"126\": 2, \"26\": 13, \"18\": 6, \"16\": 2, \"79\": 1, \"78\": 1, \"118\": 2, \"90\": 2}, \"30\": {\"53\": 1, \"9\": 2, \"10\": 7, \"52\": 1, \"106\": 5, \"47\": 3, \"8\": 8, \"30\": 23, \"15\": 4, \"101\": 3, \"90\": 1, \"24\": 1, \"36\": 2, \"111\": 3, \"127\": 1, \"86\": 1, \"34\": 1, \"91\": 1, \"58\": 2, \"18\": 1, \"6\": 2, \"49\": 1, \"125\": 1, \"117\": 1}, \"96\": {\"44\": 2, \"109\": 2, \"89\": 1, \"116\": 1, \"60\": 1, \"22\": 1, \"16\": 1, \"43\": 1, \"96\": 5, \"20\": 1, \"38\": 1, \"84\": 1, \"128\": 1, \"105\": 1}, \"27\": {\"53\": 1, \"117\": 1, \"91\": 1, \"27\": 20, \"60\": 1, \"62\": 2, \"8\": 3, \"9\": 1, \"95\": 1, \"86\": 3, \"70\": 3, \"52\": 2, \"127\": 5, \"15\": 1, \"0\": 11, \"101\": 3, \"39\": 1, \"111\": 6, \"24\": 2, \"10\": 3, \"43\": 1, \"108\": 1, \"126\": 2, \"110\": 3, \"87\": 1, \"90\": 1, \"109\": 1, \"113\": 2, \"106\": 1, \"76\": 1, \"36\": 1, \"12\": 4, \"21\": 1, \"120\": 1, \"71\": 1, \"42\": 2, \"11\": 1, \"88\": 1, \"30\": 1, \"7\": 1, \"4\": 1}, \"122\": {\"40\": 3, \"122\": 22, \"43\": 4, \"74\": 1, \"14\": 6, \"119\": 2, \"70\": 1, \"108\": 2, \"48\": 1, \"69\": 4, \"93\": 4, \"90\": 2, \"107\": 1, \"88\": 2, \"84\": 3, \"87\": 2, \"33\": 3, \"39\": 2, \"102\": 2, \"118\": 1, \"109\": 3, \"73\": 2, \"7\": 2, \"17\": 1, \"11\": 1, \"79\": 1, \"60\": 1, \"110\": 1, \"62\": 1, \"8\": 1, \"78\": 2}, \"120\": {\"120\": 13, \"42\": 2, \"21\": 1, \"37\": 1, \"7\": 2, \"17\": 1}, \"44\": {\"44\": 43, \"122\": 2, \"43\": 2, \"110\": 2, \"105\": 1, \"84\": 3, \"5\": 2, \"99\": 1, \"39\": 2, \"121\": 1, \"38\": 1, \"102\": 1, \"118\": 2, \"26\": 1}, \"79\": {\"79\": 10, \"51\": 1, \"87\": 1, \"86\": 1, \"73\": 1, \"127\": 1, \"39\": 1}, \"105\": {\"100\": 1, \"105\": 42, \"129\": 3, \"1\": 4, \"82\": 1, \"40\": 17, \"71\": 5, \"122\": 1, \"70\": 1, \"0\": 1, \"11\": 1, \"86\": 1, \"107\": 2, \"88\": 1, \"43\": 1, \"87\": 1, \"4\": 1, \"115\": 2, \"89\": 1, \"46\": 1, \"73\": 2, \"17\": 1, \"81\": 1, \"19\": 1, \"39\": 1, \"14\": 2, \"114\": 4}, \"95\": {\"95\": 13, \"127\": 7, \"86\": 1, \"8\": 3, \"21\": 1, \"68\": 1, \"30\": 1, \"111\": 1, \"114\": 2, \"0\": 1, \"117\": 1}, \"109\": {\"80\": 2, \"109\": 40, \"39\": 1, \"116\": 2, \"88\": 3, \"122\": 3, \"48\": 1, \"102\": 10, \"126\": 4, \"113\": 1, \"108\": 1, \"90\": 1, \"84\": 14, \"44\": 2, \"70\": 2, \"5\": 2, \"93\": 3, \"33\": 2, \"0\": 1, \"69\": 6, \"16\": 1, \"13\": 1, \"118\": 1, \"21\": 2, \"92\": 1, \"110\": 4, \"40\": 1, \"14\": 1, \"43\": 2, \"3\": 1}, \"16\": {\"67\": 2, \"16\": 76, \"110\": 2, \"117\": 3, \"84\": 6, \"43\": 1, \"26\": 6, \"122\": 1, \"102\": 5, \"113\": 2, \"18\": 3, \"70\": 1, \"108\": 1, \"13\": 2, \"62\": 1, \"109\": 1, \"72\": 1, \"90\": 2, \"33\": 1, \"11\": 1}, \"36\": {\"36\": 50, \"106\": 7, \"113\": 1, \"6\": 1, \"12\": 3, \"15\": 5, \"27\": 4, \"125\": 8, \"24\": 4, \"10\": 3, \"94\": 1, \"30\": 1, \"126\": 1, \"111\": 4, \"1\": 1, \"39\": 1, \"117\": 2, \"8\": 1}, \"125\": {\"125\": 114, \"36\": 8, \"6\": 1, \"94\": 4, \"106\": 2, \"113\": 1, \"15\": 1, \"30\": 1, \"24\": 1, \"25\": 1, \"10\": 2}, \"97\": {\"9\": 2, \"84\": 1, \"120\": 1, \"97\": 4, \"127\": 2, \"98\": 2, \"25\": 1, \"8\": 1, \"29\": 1, \"18\": 1, \"101\": 1, \"24\": 1, \"5\": 2}, \"91\": {\"91\": 11, \"111\": 1, \"54\": 1, \"127\": 1, \"34\": 3, \"41\": 2, \"77\": 1, \"29\": 2, \"8\": 1, \"47\": 1}, \"28\": {\"28\": 15, \"115\": 1, \"71\": 1, \"82\": 1, \"64\": 1, \"70\": 1}, \"81\": {\"18\": 2, \"81\": 28, \"123\": 2, \"113\": 1, \"26\": 2, \"63\": 1}, \"126\": {\"81\": 3, \"126\": 65, \"2\": 1, \"21\": 2, \"117\": 11, \"113\": 10, \"44\": 1, \"39\": 5, \"18\": 8, \"109\": 7, \"26\": 3, \"90\": 4, \"66\": 1, \"110\": 1}, \"4\": {\"4\": 62, \"112\": 2, \"126\": 1, \"124\": 1, \"111\": 1, \"71\": 3, \"70\": 2, \"114\": 4, \"98\": 4, \"88\": 1, \"39\": 1, \"113\": 1, \"18\": 1, \"1\": 5, \"107\": 1, \"0\": 1, \"104\": 2, \"86\": 1, \"17\": 1, \"95\": 1, \"110\": 1, \"127\": 3, \"101\": 2, \"118\": 1, \"26\": 1}, \"10\": {\"10\": 20, \"36\": 5, \"11\": 1, \"54\": 1, \"112\": 1, \"65\": 1, \"7\": 3, \"127\": 1, \"87\": 2, \"15\": 14, \"125\": 9, \"8\": 5, \"88\": 3, \"94\": 6, \"12\": 2, \"101\": 5, \"27\": 3, \"4\": 2, \"108\": 5, \"43\": 2, \"70\": 8, \"122\": 1, \"106\": 1, \"30\": 2, \"24\": 6, \"23\": 1, \"86\": 1, \"0\": 1, \"78\": 1, \"128\": 2, \"103\": 1, \"109\": 1, \"1\": 1, \"52\": 1, \"14\": 1, \"113\": 1, \"5\": 1, \"110\": 1, \"93\": 1}, \"63\": {\"63\": 12, \"35\": 1, \"117\": 3}, \"43\": {\"1\": 6, \"122\": 6, \"3\": 9, \"19\": 1, \"79\": 2, \"20\": 1, \"14\": 6, \"73\": 1, \"88\": 3, \"43\": 24, \"105\": 3, \"78\": 2, \"11\": 9, \"40\": 4, \"118\": 3, \"71\": 2, \"84\": 1, \"70\": 4, \"93\": 6, \"102\": 1, \"33\": 7, \"110\": 5, \"109\": 1, \"5\": 5, \"42\": 1, \"99\": 1, \"64\": 1, \"108\": 3}, \"116\": {\"96\": 1, \"116\": 8, \"99\": 2, \"48\": 1, \"129\": 1, \"118\": 1, \"69\": 1, \"11\": 1, \"1\": 1, \"92\": 1, \"73\": 1, \"23\": 1, \"102\": 1, \"121\": 1, \"40\": 1, \"105\": 1, \"107\": 1, \"89\": 1, \"67\": 1, \"109\": 1}, \"1\": {\"1\": 53, \"129\": 2, \"49\": 2, \"88\": 2, \"42\": 1, \"127\": 1, \"15\": 1, \"115\": 1, \"71\": 5, \"87\": 6, \"10\": 1, \"11\": 2, \"7\": 6, \"107\": 2, \"40\": 5, \"3\": 5, \"90\": 1, \"17\": 1, \"106\": 1, \"109\": 1, \"18\": 1, \"105\": 2, \"0\": 1, \"70\": 1, \"114\": 3, \"126\": 1}, \"94\": {\"54\": 2, \"10\": 2, \"78\": 1, \"94\": 46, \"30\": 3, \"24\": 10, \"12\": 2, \"3\": 1, \"15\": 6, \"18\": 1, \"106\": 3, \"26\": 1, \"47\": 1, \"111\": 1, \"36\": 2, \"125\": 6}, \"38\": {\"38\": 10, \"109\": 2, \"62\": 1, \"66\": 1, \"84\": 1, \"16\": 1}, \"54\": {\"54\": 16}, \"74\": {\"74\": 8, \"69\": 2, \"14\": 1, \"129\": 1, \"50\": 1, \"92\": 1, \"33\": 2}, \"25\": {\"25\": 15, \"97\": 1}, \"75\": {\"75\": 15, \"59\": 1}, \"119\": {\"119\": 14, \"123\": 1, \"128\": 1}, \"46\": {\"46\": 9, \"11\": 1, \"104\": 1, \"124\": 1, \"105\": 2, \"22\": 1, \"129\": 1, \"60\": 1, \"3\": 1, \"1\": 2}, \"23\": {\"81\": 1, \"54\": 1, \"70\": 1, \"126\": 1, \"127\": 1, \"113\": 1, \"102\": 1, \"39\": 1, \"86\": 3, \"121\": 1, \"65\": 2, \"75\": 1, \"60\": 1}, \"99\": {\"99\": 33, \"62\": 1, \"118\": 1, \"93\": 2, \"108\": 2, \"43\": 1}, \"33\": {\"33\": 101, \"52\": 1, \"11\": 3, \"5\": 3, \"10\": 1, \"69\": 2, \"109\": 1, \"115\": 1, \"31\": 1, \"7\": 1, \"16\": 1, \"108\": 2}, \"47\": {\"47\": 12}, \"115\": {\"115\": 10, \"14\": 2, \"107\": 2, \"105\": 1, \"83\": 1}, \"6\": {\"6\": 11, \"25\": 1, \"97\": 1, \"58\": 2, \"125\": 2, \"75\": 2, \"9\": 1, \"106\": 1, \"113\": 1, \"24\": 2}, \"65\": {\"84\": 1, \"65\": 11}, \"66\": {\"66\": 10, \"84\": 1, \"90\": 2, \"93\": 1, \"38\": 2}, \"78\": {\"120\": 1, \"58\": 1, \"38\": 1, \"89\": 2, \"88\": 4, \"12\": 1, \"1\": 1, \"10\": 1, \"78\": 3, \"8\": 2, \"70\": 3, \"39\": 2, \"27\": 2, \"21\": 1, \"0\": 3, \"109\": 3, \"30\": 1, \"36\": 1, \"122\": 1, \"93\": 1, \"126\": 1}, \"98\": {\"98\": 72, \"27\": 1, \"34\": 3, \"95\": 1, \"30\": 2, \"70\": 3, \"101\": 6, \"8\": 4, \"111\": 1, \"124\": 2, \"10\": 2, \"71\": 3, \"7\": 1, \"0\": 4, \"4\": 2, \"127\": 6, \"106\": 1, \"1\": 1, \"114\": 1}, \"93\": {\"110\": 12, \"93\": 59, \"87\": 2, \"44\": 1, \"118\": 5, \"43\": 2, \"90\": 3, \"14\": 1, \"108\": 2, \"122\": 2, \"5\": 9, \"109\": 6, \"88\": 4, \"99\": 2, \"72\": 1, \"11\": 3, \"78\": 1, \"3\": 1}, \"48\": {\"48\": 15, \"62\": 1}, \"124\": {\"124\": 75, \"41\": 1, \"127\": 6, \"114\": 4, \"111\": 6, \"4\": 3, \"98\": 4, \"12\": 1, \"8\": 1, \"101\": 3, \"10\": 3, \"24\": 2, \"27\": 1, \"29\": 1, \"1\": 1, \"95\": 1, \"126\": 1}}, \"W_2\": {\"115\": {\"115\": 12}, \"34\": {\"34\": 14, \"7\": 1, \"59\": 1, \"124\": 2, \"110\": 2, \"42\": 1, \"79\": 2, \"111\": 1, \"56\": 2, \"0\": 1, \"108\": 2, \"41\": 1, \"49\": 1, \"98\": 1}, \"97\": {\"97\": 9, \"75\": 2, \"0\": 1, \"90\": 1, \"79\": 2, \"111\": 1, \"94\": 1, \"101\": 1, \"52\": 2}, \"100\": {\"100\": 14, \"89\": 1, \"33\": 1}, \"129\": {\"7\": 1, \"115\": 1, \"32\": 3, \"11\": 1, \"129\": 19, \"12\": 1, \"14\": 1, \"126\": 1, \"71\": 1, \"5\": 1, \"105\": 1, \"3\": 1}, \"90\": {\"90\": 94, \"96\": 2, \"83\": 1, \"63\": 1, \"119\": 1, \"26\": 2, \"93\": 13, \"109\": 8, \"39\": 2, \"88\": 8, \"16\": 2, \"44\": 1, \"70\": 3, \"78\": 1, \"87\": 1, \"62\": 1, \"69\": 1}, \"125\": {\"97\": 2, \"106\": 1, \"125\": 120, \"107\": 1, \"27\": 2, \"15\": 2, \"11\": 1, \"36\": 1, \"24\": 2}, \"7\": {\"7\": 83, \"17\": 1, \"56\": 1, \"98\": 1, \"110\": 2, \"122\": 4, \"71\": 2, \"114\": 2, \"78\": 1, \"4\": 1, \"127\": 3, \"40\": 2, \"24\": 2, \"3\": 5, \"90\": 1, \"70\": 3, \"108\": 1, \"28\": 1, \"5\": 1, \"117\": 1, \"47\": 1, \"129\": 1, \"26\": 1, \"29\": 1, \"12\": 2, \"11\": 1, \"8\": 1, \"15\": 1, \"105\": 1}, \"92\": {\"115\": 2, \"92\": 15, \"13\": 2, \"122\": 1, \"112\": 1, \"89\": 3, \"104\": 2, \"91\": 1, \"32\": 1}, \"114\": {\"114\": 90, \"73\": 2, \"39\": 1, \"122\": 2, \"106\": 1, \"71\": 9, \"4\": 2, \"127\": 2, \"95\": 2, \"124\": 1, \"7\": 2, \"24\": 1, \"108\": 1}, \"80\": {\"80\": 14, \"73\": 1, \"83\": 1}, \"16\": {\"16\": 73, \"93\": 6, \"83\": 1, \"118\": 2, \"88\": 3, \"69\": 6, \"38\": 1, \"21\": 2, \"126\": 1, \"102\": 5, \"70\": 4, \"39\": 6, \"87\": 3, \"57\": 1, \"31\": 1, \"26\": 4, \"44\": 1, \"90\": 2}, \"69\": {\"102\": 6, \"82\": 1, \"69\": 96, \"113\": 1, \"16\": 2, \"26\": 5, \"87\": 1, \"84\": 1, \"109\": 1, \"33\": 2}, \"102\": {\"102\": 98, \"13\": 2, \"84\": 3, \"69\": 5, \"33\": 2, \"31\": 2, \"87\": 1, \"7\": 1}, \"33\": {\"33\": 116, \"118\": 2, \"31\": 2, \"62\": 1, \"1\": 2, \"84\": 4, \"102\": 2, \"87\": 1}, \"17\": {\"7\": 2, \"17\": 10, \"54\": 1, \"2\": 1, \"8\": 1, \"122\": 1}, \"27\": {\"27\": 32, \"25\": 1, \"36\": 6, \"103\": 1, \"101\": 2, \"49\": 2, \"15\": 5, \"24\": 1, \"16\": 1, \"94\": 2, \"113\": 1, \"12\": 1, \"9\": 2, \"65\": 1, \"125\": 1, \"124\": 1, \"52\": 1, \"34\": 1, \"97\": 1, \"106\": 4, \"87\": 1}, \"117\": {\"117\": 89, \"2\": 1, \"113\": 2, \"18\": 6, \"69\": 1, \"26\": 7}, \"14\": {\"14\": 36, \"112\": 1, \"78\": 2, \"62\": 3, \"129\": 1, \"23\": 2, \"105\": 1, \"4\": 1, \"99\": 1}, \"86\": {\"17\": 1, \"86\": 24, \"47\": 1, \"40\": 2, \"8\": 2, \"4\": 1, \"107\": 1}, \"0\": {\"17\": 1, \"0\": 70, \"21\": 1, \"52\": 1, \"68\": 1, \"120\": 1, \"29\": 3, \"8\": 5, \"128\": 1, \"94\": 1, \"111\": 5, \"98\": 3, \"12\": 2, \"30\": 6, \"106\": 2, \"127\": 2, \"122\": 2, \"24\": 2, \"101\": 2, \"23\": 1, \"39\": 1, \"108\": 2, \"70\": 1}, \"62\": {\"62\": 103, \"122\": 2, \"31\": 1, \"116\": 1, \"1\": 6, \"33\": 7, \"43\": 3, \"126\": 2, \"88\": 2, \"44\": 2, \"112\": 1, \"10\": 1, \"14\": 2, \"70\": 2, \"101\": 1, \"84\": 1, \"93\": 1}, \"39\": {\"39\": 38, \"10\": 1, \"109\": 9, \"78\": 2, \"88\": 5, \"26\": 6, \"116\": 1, \"69\": 8, \"93\": 2, \"83\": 2, \"87\": 6, \"18\": 5, \"16\": 1, \"113\": 1, \"102\": 5, \"126\": 1, \"70\": 3, \"44\": 2, \"90\": 5, \"121\": 2, \"120\": 1, \"31\": 1, \"117\": 2, \"62\": 2, \"84\": 1}, \"19\": {\"19\": 20, \"59\": 2, \"1\": 2, \"107\": 1, \"129\": 1, \"38\": 1, \"40\": 1}, \"44\": {\"10\": 2, \"44\": 87, \"83\": 1, \"126\": 1, \"109\": 3, \"88\": 3, \"70\": 2, \"43\": 1}, \"104\": {\"17\": 4, \"86\": 2, \"104\": 9, \"110\": 1, \"4\": 1, \"54\": 1, \"32\": 1, \"40\": 1}, \"3\": {\"104\": 1, \"14\": 1, \"76\": 1, \"3\": 82, \"19\": 1, \"7\": 4, \"71\": 8, \"78\": 1, \"98\": 1, \"107\": 2, \"1\": 4, \"70\": 3, \"5\": 5, \"87\": 1, \"90\": 1, \"114\": 1, \"108\": 3, \"26\": 1, \"66\": 1, \"21\": 1, \"42\": 1, \"43\": 1, \"93\": 1, \"105\": 2, \"8\": 1, \"40\": 1}, \"10\": {\"19\": 1, \"10\": 31, \"53\": 3, \"70\": 1, \"60\": 1, \"30\": 1, \"120\": 1, \"32\": 1, \"37\": 1, \"78\": 2, \"8\": 1, \"126\": 1, \"109\": 1, \"105\": 1, \"122\": 2, \"18\": 2, \"43\": 3, \"7\": 2, \"21\": 1, \"88\": 1, \"11\": 1, \"5\": 1}, \"61\": {\"61\": 11, \"119\": 1, \"96\": 1, \"74\": 2, \"118\": 2, \"126\": 1, \"39\": 1, \"22\": 1}, \"111\": {\"103\": 3, \"111\": 91, \"127\": 7, \"51\": 1, \"34\": 1, \"12\": 3, \"0\": 1, \"8\": 1, \"30\": 4, \"101\": 2}, \"68\": {\"98\": 3, \"68\": 8, \"0\": 1, \"58\": 2, \"51\": 2}, \"101\": {\"101\": 129, \"75\": 1, \"26\": 1, \"98\": 2, \"30\": 3, \"106\": 3, \"0\": 1, \"2\": 1, \"24\": 1, \"15\": 1, \"111\": 1}, \"36\": {\"101\": 10, \"121\": 1, \"36\": 56, \"75\": 1, \"106\": 11, \"27\": 6, \"58\": 2, \"15\": 8, \"9\": 3, \"18\": 2, \"30\": 6, \"111\": 2, \"94\": 1, \"125\": 6, \"98\": 1, \"24\": 1, \"39\": 1, \"12\": 1, \"52\": 2, \"51\": 1, \"16\": 1, \"127\": 1, \"0\": 1, \"4\": 1, \"93\": 1, \"117\": 1}, \"120\": {\"120\": 19, \"113\": 1}, \"103\": {\"103\": 14, \"54\": 2}, \"47\": {\"111\": 1, \"68\": 1, \"47\": 7, \"115\": 1, \"30\": 1, \"50\": 1}, \"98\": {\"111\": 6, \"98\": 73, \"34\": 2, \"30\": 1, \"114\": 4, \"0\": 11, \"127\": 4, \"11\": 2, \"4\": 1, \"12\": 3, \"7\": 2, \"124\": 1, \"8\": 3, \"108\": 3, \"91\": 1, \"93\": 1, \"41\": 1, \"106\": 1}, \"76\": {\"76\": 12, \"66\": 1, \"45\": 1, \"47\": 1, \"11\": 1}, \"88\": {\"61\": 1, \"88\": 53, \"118\": 4, \"84\": 1, \"31\": 1, \"19\": 1, \"126\": 6, \"87\": 6, \"90\": 7, \"83\": 2, \"109\": 13, \"44\": 5, \"16\": 5, \"105\": 1, \"62\": 2, \"43\": 2, \"70\": 3, \"93\": 3, \"63\": 2, \"39\": 3, \"78\": 1, \"10\": 1, \"33\": 1}, \"93\": {\"93\": 75, \"88\": 4, \"96\": 2, \"16\": 16, \"1\": 1, \"83\": 1, \"26\": 7, \"87\": 5, \"21\": 1, \"126\": 1, \"90\": 7, \"109\": 2, \"39\": 2, \"70\": 4, \"44\": 1, \"102\": 3, \"78\": 1, \"81\": 1, \"72\": 1, \"84\": 1, \"69\": 2}, \"23\": {\"120\": 1, \"98\": 3, \"76\": 2, \"3\": 1, \"18\": 2, \"11\": 1, \"127\": 1, \"93\": 1, \"29\": 2, \"23\": 4, \"7\": 2, \"69\": 1, \"126\": 2, \"117\": 1, \"111\": 1, \"109\": 1, \"66\": 2, \"118\": 2, \"99\": 3, \"12\": 2, \"129\": 1, \"121\": 1, \"4\": 1, \"35\": 1, \"87\": 1, \"105\": 1, \"113\": 2, \"0\": 1}, \"108\": {\"86\": 2, \"74\": 2, \"42\": 1, \"122\": 17, \"112\": 1, \"24\": 2, \"32\": 1, \"11\": 4, \"85\": 1, \"37\": 2, \"108\": 24, \"12\": 3, \"7\": 7, \"124\": 3, \"78\": 1, \"127\": 2, \"71\": 5, \"29\": 2, \"105\": 2, \"114\": 8, \"109\": 1, \"5\": 1, \"98\": 5, \"8\": 7, \"101\": 2, \"3\": 2, \"103\": 1, \"79\": 1, \"15\": 1, \"35\": 1, \"41\": 3, \"91\": 1, \"129\": 1, \"111\": 3, \"4\": 1, \"70\": 1, \"0\": 2}, \"51\": {\"77\": 2, \"79\": 2, \"14\": 1, \"51\": 4, \"35\": 1, \"15\": 1, \"8\": 2, \"27\": 1, \"6\": 1, \"70\": 1, \"49\": 1, \"127\": 2, \"87\": 1}, \"13\": {\"13\": 4, \"119\": 1, \"48\": 2, \"100\": 2, \"89\": 1, \"87\": 2, \"102\": 2, \"90\": 1, \"113\": 1}, \"77\": {\"77\": 12, \"91\": 2, \"79\": 1, \"17\": 1}, \"46\": {\"46\": 14, \"62\": 2}, \"96\": {\"13\": 2, \"70\": 2, \"96\": 9, \"87\": 1, \"88\": 1, \"69\": 1, \"90\": 1, \"126\": 2, \"78\": 1}, \"119\": {\"119\": 18, \"44\": 1, \"106\": 1}, \"121\": {\"121\": 12, \"16\": 2, \"82\": 1, \"67\": 1, \"129\": 1, \"99\": 2, \"102\": 2, \"21\": 1, \"57\": 1, \"65\": 2, \"120\": 1, \"26\": 2, \"63\": 1, \"92\": 1, \"31\": 2, \"39\": 1, \"20\": 1, \"72\": 1, \"89\": 1}, \"54\": {\"54\": 11, \"28\": 1, \"104\": 1, \"52\": 1, \"111\": 2, \"121\": 1, \"0\": 1, \"34\": 1, \"86\": 1}, \"82\": {\"82\": 33, \"123\": 1, \"65\": 1, \"60\": 1}, \"12\": {\"17\": 1, \"12\": 48, \"68\": 2, \"108\": 5, \"111\": 8, \"33\": 1, \"127\": 10, \"29\": 1, \"30\": 2, \"98\": 3, \"91\": 1, \"0\": 1, \"126\": 1, \"88\": 1, \"109\": 1, \"8\": 1, \"7\": 1}, \"74\": {\"74\": 13, \"32\": 2, \"20\": 1}, \"66\": {\"66\": 16, \"37\": 1, \"76\": 1, \"24\": 1, \"36\": 1}, \"28\": {\"54\": 1, \"28\": 8, \"104\": 1, \"50\": 1, \"55\": 1, \"49\": 1, \"100\": 1, \"12\": 1, \"71\": 1, \"40\": 2, \"73\": 1, \"95\": 1}, \"52\": {\"52\": 17, \"101\": 1, \"106\": 1, \"25\": 1}, \"41\": {\"41\": 12, \"15\": 1, \"8\": 1, \"108\": 1, \"30\": 1, \"127\": 1, \"4\": 2, \"125\": 1}, \"81\": {\"81\": 18, \"99\": 2, \"2\": 1, \"18\": 1, \"26\": 2}, \"48\": {\"13\": 2, \"48\": 16, \"89\": 1, \"100\": 1}, \"113\": {\"81\": 5, \"99\": 1, \"113\": 52, \"117\": 6, \"18\": 3, \"90\": 1, \"109\": 1, \"21\": 2, \"39\": 1}, \"53\": {\"53\": 16}, \"15\": {\"15\": 58, \"52\": 1, \"97\": 1, \"75\": 1, \"101\": 9, \"106\": 13, \"49\": 1, \"51\": 2, \"36\": 6, \"9\": 2, \"94\": 2, \"0\": 3, \"125\": 6, \"30\": 2, \"27\": 3, \"127\": 1, \"111\": 1, \"25\": 1, \"6\": 2, \"24\": 2, \"108\": 2, \"93\": 1}, \"30\": {\"108\": 4, \"30\": 32, \"25\": 2, \"41\": 1, \"0\": 8, \"101\": 7, \"94\": 3, \"7\": 4, \"15\": 7, \"91\": 1, \"93\": 2, \"8\": 2, \"12\": 5, \"128\": 1, \"98\": 7, \"36\": 1, \"24\": 6, \"126\": 1, \"127\": 4, \"29\": 1, \"34\": 1, \"58\": 4, \"110\": 1, \"122\": 3, \"106\": 3, \"27\": 1}, \"43\": {\"32\": 1, \"70\": 11, \"90\": 2, \"5\": 4, \"109\": 4, \"118\": 1, \"129\": 3, \"43\": 23, \"88\": 4, \"126\": 6, \"3\": 4, \"71\": 3, \"22\": 2, \"87\": 4, \"44\": 7, \"16\": 2, \"0\": 1, \"93\": 6, \"1\": 6, \"33\": 2, \"84\": 2, \"105\": 8, \"40\": 2, \"39\": 1, \"49\": 1, \"80\": 1, \"20\": 1, \"110\": 1, \"10\": 5, \"107\": 1, \"14\": 1, \"73\": 1, \"78\": 1, \"62\": 2}, \"29\": {\"29\": 26, \"91\": 2, \"128\": 1, \"35\": 1, \"0\": 1, \"8\": 1}, \"109\": {\"109\": 48, \"39\": 7, \"44\": 2, \"90\": 14, \"120\": 1, \"113\": 1, \"10\": 3, \"16\": 2, \"87\": 4, \"88\": 6, \"62\": 2, \"70\": 2, \"26\": 1, \"102\": 1, \"21\": 2, \"93\": 3, \"18\": 1}, \"60\": {\"32\": 1, \"43\": 1, \"122\": 1, \"61\": 1, \"60\": 14, \"99\": 1, \"73\": 1, \"29\": 1, \"116\": 1, \"16\": 1, \"87\": 1, \"23\": 1, \"110\": 1, \"83\": 1, \"10\": 1}, \"70\": {\"109\": 8, \"60\": 1, \"1\": 10, \"81\": 1, \"115\": 1, \"78\": 1, \"11\": 2, \"10\": 4, \"110\": 1, \"126\": 5, \"127\": 1, \"113\": 3, \"70\": 16, \"90\": 8, \"16\": 2, \"8\": 2, \"105\": 7, \"88\": 10, \"43\": 6, \"117\": 1, \"3\": 3, \"44\": 2, \"71\": 3, \"33\": 3, \"122\": 3, \"93\": 2, \"40\": 1, \"62\": 2, \"46\": 1, \"39\": 2, \"31\": 1, \"95\": 1, \"21\": 5, \"72\": 1, \"14\": 1, \"30\": 1}, \"127\": {\"127\": 97, \"15\": 1, \"59\": 1, \"12\": 8, \"8\": 3, \"30\": 2, \"111\": 6, \"114\": 2, \"24\": 1, \"0\": 1, \"16\": 1, \"101\": 1}, \"32\": {\"73\": 1, \"32\": 17, \"40\": 2, \"7\": 2, \"129\": 4, \"103\": 1, \"105\": 1, \"23\": 1, \"67\": 1, \"124\": 1, \"46\": 1, \"14\": 2, \"4\": 1, \"3\": 1}, \"73\": {\"73\": 12, \"19\": 1, \"41\": 1, \"105\": 1, \"55\": 1, \"90\": 1, \"114\": 5, \"12\": 1, \"85\": 1, \"5\": 1, \"3\": 2, \"40\": 1}, \"50\": {\"50\": 10, \"1\": 1, \"9\": 1, \"16\": 1, \"101\": 1, \"67\": 1, \"5\": 1}, \"1\": {\"50\": 1, \"83\": 1, \"53\": 1, \"1\": 92, \"73\": 3, \"117\": 1, \"87\": 3, \"84\": 3, \"126\": 1, \"71\": 3, \"40\": 1, \"78\": 1, \"43\": 2, \"33\": 2, \"62\": 3, \"49\": 1, \"70\": 1, \"5\": 1, \"88\": 1, \"26\": 1, \"93\": 1}, \"106\": {\"106\": 88, \"15\": 14, \"94\": 3, \"126\": 1, \"36\": 7, \"30\": 3, \"19\": 1, \"96\": 1, \"27\": 1, \"44\": 1}, \"123\": {\"123\": 16}, \"79\": {\"79\": 13, \"30\": 2, \"0\": 1}, \"4\": {\"4\": 53, \"95\": 3, \"73\": 2, \"105\": 3, \"122\": 2, \"7\": 1, \"107\": 3, \"5\": 5, \"90\": 1, \"71\": 2, \"127\": 1, \"114\": 2, \"108\": 1, \"126\": 1, \"31\": 1, \"110\": 1, \"41\": 1, \"40\": 2, \"3\": 1, \"111\": 2}, \"2\": {\"16\": 2, \"2\": 23, \"90\": 2, \"26\": 3, \"18\": 2}, \"8\": {\"8\": 56, \"79\": 1, \"41\": 2, \"4\": 6, \"128\": 1, \"127\": 12, \"108\": 9, \"86\": 3, \"65\": 1, \"117\": 1, \"0\": 5, \"11\": 5, \"70\": 1, \"105\": 2, \"24\": 1, \"122\": 6, \"110\": 1, \"53\": 1, \"129\": 1, \"113\": 1, \"94\": 1, \"124\": 4, \"12\": 2, \"39\": 1, \"7\": 1, \"98\": 3}, \"83\": {\"83\": 30, \"38\": 1, \"93\": 3, \"88\": 1, \"118\": 1, \"43\": 1, \"39\": 1, \"90\": 1, \"126\": 1}, \"105\": {\"74\": 3, \"55\": 1, \"53\": 1, \"19\": 1, \"105\": 71, \"23\": 2, \"43\": 4, \"107\": 2, \"71\": 5, \"122\": 5, \"1\": 4, \"8\": 1, \"40\": 12, \"5\": 3, \"7\": 3, \"12\": 1, \"70\": 2, \"37\": 1, \"14\": 3, \"117\": 1, \"59\": 1, \"11\": 1, \"3\": 2}, \"5\": {\"5\": 77, \"40\": 3, \"95\": 2, \"99\": 1, \"110\": 1, \"32\": 1, \"114\": 1, \"124\": 1, \"7\": 2, \"93\": 1, \"122\": 2, \"71\": 7, \"4\": 3, \"18\": 2, \"3\": 5, \"70\": 1, \"12\": 1, \"2\": 1}, \"99\": {\"99\": 23, \"81\": 1, \"117\": 1, \"93\": 1, \"2\": 2, \"121\": 1, \"18\": 1, \"23\": 1, \"113\": 1}, \"25\": {\"25\": 16}, \"59\": {\"59\": 7, \"17\": 1, \"21\": 2, \"103\": 1, \"104\": 2, \"91\": 1, \"93\": 1, \"7\": 1}, \"42\": {\"59\": 1, \"118\": 1, \"68\": 2, \"54\": 2, \"51\": 1, \"111\": 4, \"46\": 1, \"60\": 1, \"94\": 2, \"42\": 1, \"10\": 1, \"18\": 1, \"35\": 2, \"0\": 1, \"15\": 1, \"34\": 2, \"3\": 1, \"30\": 1, \"62\": 1, \"109\": 1}, \"55\": {\"95\": 2, \"55\": 12, \"84\": 1, \"100\": 1}, \"75\": {\"97\": 1, \"75\": 12, \"94\": 2, \"24\": 1}, \"118\": {\"118\": 24, \"82\": 5, \"14\": 2, \"55\": 1, \"10\": 1, \"89\": 3, \"84\": 6, \"23\": 3, \"108\": 1, \"62\": 4, \"78\": 2, \"69\": 1, \"1\": 2, \"93\": 1, \"67\": 1, \"99\": 1, \"76\": 1, \"43\": 1, \"116\": 2, \"87\": 2, \"33\": 1, \"16\": 1, \"83\": 1, \"126\": 1}, \"95\": {\"55\": 1, \"4\": 2, \"121\": 1, \"17\": 1, \"95\": 21, \"86\": 1, \"107\": 1, \"40\": 2, \"8\": 1, \"13\": 1, \"5\": 2, \"110\": 1, \"91\": 1}, \"122\": {\"110\": 2, \"104\": 2, \"122\": 30, \"60\": 2, \"29\": 3, \"112\": 1, \"7\": 7, \"40\": 3, \"8\": 5, \"0\": 1, \"4\": 6, \"90\": 1, \"24\": 2, \"3\": 6, \"10\": 3, \"11\": 5, \"70\": 1, \"12\": 2, \"43\": 5, \"62\": 1, \"114\": 5, \"108\": 10, \"19\": 1, \"5\": 2, \"22\": 1, \"32\": 1, \"53\": 1, \"98\": 2, \"86\": 1, \"59\": 1, \"126\": 2, \"127\": 2, \"124\": 1, \"105\": 1, \"111\": 1}, \"20\": {\"20\": 16}, \"110\": {\"110\": 18, \"105\": 1, \"50\": 1, \"26\": 1, \"10\": 1, \"45\": 2, \"6\": 1, \"116\": 1, \"5\": 2, \"7\": 2, \"114\": 2, \"88\": 1, \"115\": 1, \"17\": 1, \"99\": 1, \"107\": 1, \"4\": 2, \"19\": 1}, \"65\": {\"65\": 19, \"81\": 1}, \"37\": {\"64\": 1, \"37\": 9, \"76\": 1, \"118\": 1, \"14\": 1, \"104\": 1, \"95\": 1, \"105\": 1}, \"64\": {\"64\": 13, \"110\": 2, \"28\": 1}, \"63\": {\"63\": 19, \"93\": 1}, \"40\": {\"40\": 82, \"59\": 1, \"107\": 4, \"95\": 1, \"32\": 1, \"105\": 16, \"12\": 2, \"18\": 1, \"14\": 1, \"110\": 1, \"89\": 1, \"4\": 3, \"8\": 1, \"88\": 1, \"5\": 1, \"93\": 1, \"71\": 2, \"114\": 2, \"117\": 1, \"122\": 4, \"55\": 1, \"108\": 1, \"76\": 1, \"16\": 2, \"118\": 1, \"7\": 1, \"39\": 1, \"113\": 1, \"85\": 1, \"109\": 1, \"127\": 1, \"69\": 1}, \"21\": {\"63\": 1, \"21\": 38, \"121\": 2, \"109\": 4, \"99\": 1, \"78\": 1, \"39\": 1}, \"11\": {\"5\": 4, \"11\": 19, \"122\": 2, \"129\": 2, \"112\": 1, \"128\": 2, \"108\": 3, \"7\": 7, \"49\": 1, \"71\": 4, \"110\": 1, \"107\": 1, \"8\": 3, \"127\": 1, \"114\": 4, \"105\": 3, \"98\": 3, \"29\": 1, \"18\": 2, \"58\": 1, \"76\": 3, \"93\": 1, \"40\": 1, \"22\": 1, \"41\": 1, \"73\": 2, \"15\": 1, \"0\": 1, \"3\": 1, \"12\": 1, \"30\": 1, \"4\": 1}, \"67\": {\"67\": 13, \"19\": 1, \"33\": 1, \"1\": 1}, \"91\": {\"91\": 16, \"70\": 1, \"0\": 1, \"63\": 1, \"122\": 1, \"98\": 1, \"24\": 1, \"12\": 3, \"103\": 1, \"11\": 2}, \"87\": {\"118\": 3, \"87\": 26, \"38\": 2, \"60\": 1, \"69\": 2, \"109\": 3, \"14\": 4, \"62\": 5, \"88\": 7, \"1\": 3, \"11\": 1, \"90\": 4, \"102\": 6, \"78\": 3, \"70\": 3, \"5\": 1, \"126\": 1, \"93\": 5, \"33\": 7, \"43\": 3, \"84\": 5, \"44\": 3, \"117\": 2, \"83\": 2, \"39\": 3, \"10\": 3, \"16\": 2, \"21\": 2}, \"89\": {\"89\": 22, \"129\": 1, \"70\": 1, \"7\": 2, \"11\": 2, \"24\": 1, \"19\": 1, \"118\": 1, \"18\": 1, \"60\": 1, \"48\": 1, \"76\": 1, \"82\": 1}, \"9\": {\"9\": 30, \"36\": 2}, \"124\": {\"124\": 74, \"103\": 1, \"86\": 2, \"111\": 4, \"114\": 4, \"0\": 3, \"106\": 2, \"98\": 4, \"101\": 3, \"8\": 2, \"127\": 6, \"12\": 1, \"71\": 1, \"108\": 1, \"24\": 1, \"34\": 3, \"30\": 1, \"40\": 1}, \"56\": {\"32\": 1, \"56\": 6, \"101\": 1, \"86\": 2, \"24\": 1, \"95\": 1}, \"38\": {\"38\": 15, \"83\": 1}, \"94\": {\"94\": 15, \"9\": 2, \"106\": 11, \"27\": 2, \"98\": 1, \"101\": 9, \"30\": 4, \"11\": 1, \"113\": 1, \"36\": 1, \"75\": 2, \"0\": 2, \"97\": 1, \"26\": 1, \"117\": 1, \"39\": 2, \"111\": 1, \"15\": 1, \"125\": 4, \"93\": 1, \"24\": 1}, \"6\": {\"6\": 25, \"106\": 1, \"101\": 3, \"24\": 1, \"15\": 1, \"51\": 1}, \"58\": {\"106\": 1, \"58\": 12, \"0\": 1, \"125\": 1, \"83\": 1, \"30\": 2, \"6\": 2}, \"22\": {\"22\": 12, \"43\": 3, \"59\": 1, \"7\": 2, \"74\": 2}, \"24\": {\"53\": 1, \"24\": 14, \"118\": 1, \"48\": 1, \"108\": 4, \"125\": 13, \"75\": 1, \"36\": 8, \"8\": 4, \"93\": 3, \"27\": 1, \"126\": 3, \"2\": 1, \"6\": 2, \"23\": 1, \"110\": 1, \"106\": 8, \"7\": 3, \"30\": 2, \"78\": 1, \"101\": 1, \"105\": 1, \"29\": 2, \"88\": 1, \"122\": 3, \"127\": 1, \"109\": 2, \"0\": 3, \"56\": 2, \"104\": 1, \"25\": 1, \"87\": 1, \"95\": 1, \"91\": 1, \"117\": 1, \"43\": 4, \"90\": 1, \"21\": 1, \"9\": 1, \"11\": 1, \"15\": 3, \"39\": 1, \"44\": 1, \"16\": 1, \"94\": 1, \"40\": 1, \"18\": 1}, \"57\": {\"57\": 20}, \"112\": {\"112\": 10, \"24\": 1, \"129\": 1, \"104\": 2, \"19\": 1, \"23\": 1}, \"116\": {\"116\": 11, \"82\": 2, \"113\": 2, \"72\": 1, \"107\": 1, \"63\": 1, \"33\": 1, \"45\": 1, \"22\": 1, \"118\": 2, \"57\": 1, \"109\": 1, \"93\": 1, \"14\": 1, \"78\": 1}, \"18\": {\"18\": 105, \"2\": 2, \"113\": 2, \"102\": 2, \"117\": 6, \"84\": 1, \"93\": 1, \"26\": 4, \"90\": 3, \"81\": 1, \"39\": 1}, \"49\": {\"112\": 2, \"30\": 2, \"34\": 1, \"99\": 1, \"49\": 7, \"11\": 1, \"12\": 2, \"29\": 1, \"5\": 1, \"125\": 1, \"58\": 1, \"59\": 1, \"106\": 2, \"109\": 1}, \"45\": {\"45\": 13, \"105\": 1, \"23\": 1, \"89\": 1}, \"107\": {\"73\": 3, \"5\": 5, \"95\": 1, \"37\": 1, \"107\": 24, \"82\": 1, \"86\": 2, \"110\": 3, \"38\": 1, \"40\": 4, \"90\": 1, \"114\": 2, \"1\": 1, \"8\": 1, \"39\": 2, \"78\": 1, \"120\": 1, \"45\": 1, \"85\": 1, \"42\": 1, \"129\": 2, \"9\": 1, \"14\": 1, \"122\": 1, \"88\": 1, \"71\": 1}, \"35\": {\"35\": 11, \"29\": 1}, \"78\": {\"78\": 6, \"50\": 2, \"21\": 1, \"10\": 1, \"129\": 2, \"43\": 3, \"20\": 1, \"7\": 1, \"93\": 1, \"88\": 1, \"118\": 1, \"107\": 1, \"126\": 2, \"83\": 2, \"40\": 3, \"109\": 2, \"70\": 2, \"5\": 2, \"90\": 1, \"66\": 1, \"4\": 1, \"63\": 2, \"44\": 1, \"91\": 1, \"74\": 1, \"73\": 2, \"14\": 1, \"122\": 1, \"87\": 1, \"1\": 1}, \"126\": {\"14\": 3, \"123\": 1, \"60\": 2, \"19\": 1, \"126\": 51, \"1\": 3, \"43\": 4, \"83\": 4, \"93\": 1, \"78\": 1, \"70\": 8, \"44\": 6, \"109\": 2, \"11\": 1, \"87\": 6, \"62\": 4, \"88\": 8, \"3\": 1, \"7\": 1, \"90\": 2, \"120\": 1, \"119\": 1, \"23\": 2, \"96\": 3, \"10\": 1, \"84\": 1, \"108\": 1}, \"85\": {\"108\": 1, \"85\": 22, \"127\": 1, \"55\": 1, \"19\": 1, \"30\": 1, \"73\": 1, \"124\": 1, \"0\": 1, \"4\": 1, \"114\": 1}, \"72\": {\"72\": 12, \"69\": 1, \"107\": 1, \"90\": 1, \"19\": 1, \"57\": 1, \"21\": 1, \"7\": 1, \"22\": 1, \"82\": 3, \"43\": 2, \"60\": 1, \"102\": 2}, \"26\": {\"26\": 92, \"16\": 3, \"2\": 2, \"93\": 2, \"109\": 1, \"126\": 1, \"69\": 5, \"18\": 10, \"44\": 1, \"90\": 1, \"117\": 5, \"39\": 1}, \"84\": {\"57\": 2, \"84\": 51, \"125\": 1, \"31\": 1, \"102\": 3, \"1\": 10, \"3\": 1, \"71\": 3, \"43\": 1, \"33\": 10, \"90\": 1, \"62\": 3, \"70\": 2, \"55\": 1, \"113\": 1, \"87\": 1}, \"128\": {\"11\": 1, \"107\": 1, \"38\": 3, \"128\": 3, \"111\": 1, \"60\": 2, \"122\": 1, \"110\": 1, \"79\": 2, \"0\": 2, \"101\": 1, \"127\": 2, \"44\": 1, \"126\": 1, \"3\": 1, \"43\": 1}, \"31\": {\"31\": 14, \"96\": 1, \"33\": 1, \"116\": 1, \"123\": 1, \"82\": 1, \"70\": 1}, \"71\": {\"7\": 7, \"71\": 59, \"107\": 1, \"110\": 1, \"114\": 7, \"85\": 1, \"3\": 3, \"16\": 1, \"5\": 7, \"4\": 2, \"39\": 1, \"108\": 1, \"24\": 1, \"86\": 2, \"66\": 1, \"11\": 1, \"129\": 1, \"40\": 2, \"8\": 1}}, \"C_1\": {\"9\": {\"9\": 122, \"17\": 2, \"8\": 13, \"30\": 3, \"6\": 1, \"50\": 1}, \"25\": {\"25\": 110, \"33\": 1, \"36\": 3, \"54\": 2, \"45\": 7, \"16\": 3, \"20\": 2}, \"41\": {\"41\": 24}, \"29\": {\"29\": 117, \"32\": 1, \"57\": 1, \"56\": 3, \"44\": 14, \"20\": 1, \"35\": 2, \"55\": 1}, \"46\": {\"41\": 1, \"20\": 1, \"46\": 81, \"26\": 1, \"4\": 11, \"14\": 1, \"42\": 1, \"45\": 2, \"51\": 9, \"5\": 2, \"13\": 2, \"16\": 2, \"19\": 2, \"1\": 2, \"53\": 3, \"8\": 1, \"50\": 1, \"9\": 1, \"25\": 2, \"6\": 1, \"12\": 1}, \"4\": {\"4\": 127, \"41\": 1, \"51\": 3, \"12\": 1}, \"31\": {\"31\": 28}, \"36\": {\"36\": 62, \"57\": 1, \"23\": 1}, \"20\": {\"20\": 127, \"12\": 1}, \"7\": {\"7\": 25, \"45\": 1, \"37\": 1, \"25\": 1}, \"6\": {\"50\": 18, \"53\": 3, \"6\": 44, \"4\": 3, \"2\": 4, \"48\": 16, \"8\": 4, \"5\": 3, \"9\": 1}, \"16\": {\"16\": 136, \"54\": 1, \"25\": 1}, \"17\": {\"17\": 45, \"6\": 2, \"2\": 5, \"48\": 11, \"8\": 1}, \"50\": {\"50\": 127, \"6\": 6, \"48\": 10, \"2\": 2, \"8\": 3}, \"57\": {\"57\": 118, \"56\": 17, \"16\": 1, \"19\": 6, \"54\": 2}, \"23\": {\"23\": 133, \"56\": 1, \"55\": 1, \"44\": 1}, \"3\": {\"3\": 101, \"38\": 1, \"39\": 1, \"36\": 1, \"29\": 1, \"44\": 5, \"15\": 6, \"21\": 3, \"24\": 1, \"11\": 1, \"0\": 3, \"35\": 1, \"23\": 1}, \"53\": {\"53\": 137, \"9\": 1, \"30\": 2}, \"49\": {\"49\": 32}, \"56\": {\"56\": 116, \"57\": 22, \"29\": 3, \"19\": 5, \"54\": 1, \"44\": 4, \"23\": 1}, \"51\": {\"51\": 135, \"20\": 3, \"41\": 1, \"12\": 2, \"13\": 1}, \"26\": {\"26\": 22, \"30\": 2}, \"43\": {\"43\": 132, \"10\": 3, \"52\": 1, \"27\": 6, \"28\": 1, \"47\": 1}, \"22\": {\"22\": 103, \"52\": 3, \"10\": 6, \"43\": 1, \"21\": 5, \"11\": 4, \"49\": 1, \"24\": 10, \"0\": 2, \"47\": 1}, \"45\": {\"45\": 130, \"1\": 10, \"33\": 1, \"42\": 2, \"16\": 2, \"19\": 1}, \"13\": {\"13\": 151, \"54\": 1}, \"12\": {\"12\": 101, \"1\": 1, \"51\": 5, \"20\": 8, \"45\": 1}, \"54\": {\"54\": 103, \"16\": 1}, \"24\": {\"24\": 88, \"10\": 15, \"52\": 1, \"22\": 3, \"11\": 1}, \"44\": {\"44\": 108, \"29\": 12, \"35\": 3, \"36\": 1, \"15\": 4, \"55\": 3, \"11\": 1, \"0\": 1, \"3\": 2, \"47\": 1}, \"28\": {\"28\": 19, \"24\": 7, \"10\": 1, \"52\": 1}, \"33\": {\"33\": 32}, \"38\": {\"38\": 23, \"0\": 1}, \"0\": {\"0\": 133, \"15\": 8, \"21\": 1, \"11\": 2}, \"47\": {\"47\": 146, \"31\": 1, \"27\": 2, \"39\": 1, \"49\": 1, \"22\": 1, \"21\": 1, \"11\": 1}, \"42\": {\"42\": 38, \"24\": 1, \"22\": 1}, \"34\": {\"34\": 24}, \"48\": {\"48\": 121, \"2\": 5, \"17\": 8, \"6\": 5, \"50\": 3}, \"35\": {\"35\": 35, \"44\": 1}, \"2\": {\"2\": 32, \"48\": 2, \"6\": 2}, \"30\": {\"18\": 4, \"30\": 113, \"26\": 1, \"53\": 1, \"8\": 1}, \"18\": {\"18\": 71, \"30\": 1}, \"37\": {\"37\": 32}, \"1\": {\"45\": 9, \"1\": 84, \"19\": 6, \"42\": 1}, \"11\": {\"11\": 123, \"0\": 6, \"15\": 3, \"22\": 4, \"21\": 1, \"3\": 1}, \"55\": {\"15\": 4, \"55\": 113, \"56\": 2, \"44\": 3, \"23\": 4, \"3\": 1, \"35\": 1, \"29\": 2}, \"15\": {\"15\": 127, \"23\": 3, \"38\": 3, \"21\": 5, \"0\": 7, \"11\": 1, \"44\": 4}, \"10\": {\"10\": 71, \"24\": 17, \"22\": 3, \"52\": 4, \"31\": 1}, \"27\": {\"27\": 153, \"43\": 6, \"52\": 1}, \"19\": {\"19\": 129, \"25\": 2, \"1\": 4, \"16\": 2, \"57\": 5, \"45\": 1, \"54\": 2, \"56\": 1}, \"14\": {\"30\": 2, \"14\": 13, \"18\": 1, \"5\": 3, \"50\": 2, \"9\": 1, \"26\": 2}, \"8\": {\"50\": 14, \"8\": 110, \"6\": 1, \"48\": 7, \"9\": 5, \"17\": 2, \"5\": 1}, \"5\": {\"5\": 97, \"17\": 4, \"48\": 12, \"6\": 5, \"50\": 12, \"8\": 4, \"9\": 2}, \"39\": {\"39\": 28}, \"52\": {\"52\": 101, \"10\": 9, \"24\": 5, \"22\": 4, \"43\": 2, \"11\": 1}, \"21\": {\"21\": 108, \"0\": 8, \"11\": 1, \"15\": 4, \"49\": 2, \"38\": 1}, \"40\": {\"40\": 134, \"20\": 4, \"19\": 2, \"12\": 4, \"29\": 2, \"56\": 3, \"57\": 2, \"3\": 1}, \"32\": {\"32\": 30, \"55\": 1, \"44\": 1}}, \"W_1\": {\"22\": {\"22\": 13, \"35\": 1, \"116\": 1, \"82\": 1}, \"58\": {\"58\": 11, \"30\": 1}, \"109\": {\"74\": 3, \"28\": 1, \"109\": 58, \"78\": 2, \"93\": 1, \"126\": 6, \"21\": 1, \"61\": 1, \"90\": 23, \"122\": 3, \"1\": 2, \"7\": 6, \"44\": 2, \"43\": 3, \"10\": 3, \"102\": 1, \"69\": 1, \"66\": 1, \"87\": 1, \"33\": 1, \"18\": 1, \"70\": 2, \"39\": 1}, \"77\": {\"77\": 12, \"97\": 1, \"103\": 1, \"34\": 1, \"9\": 1}, \"74\": {\"74\": 16}, \"10\": {\"35\": 3, \"10\": 56, \"75\": 2, \"87\": 1, \"104\": 1, \"41\": 1, \"71\": 1, \"86\": 3, \"44\": 4, \"7\": 3, \"93\": 6, \"8\": 5, \"0\": 5, \"110\": 4, \"108\": 4, \"126\": 11, \"101\": 1, \"70\": 2, \"90\": 2, \"19\": 1, \"43\": 1, \"4\": 2, \"105\": 1}, \"70\": {\"109\": 5, \"35\": 1, \"29\": 2, \"53\": 1, \"70\": 24, \"75\": 1, \"49\": 1, \"93\": 5, \"127\": 2, \"120\": 1, \"74\": 1, \"83\": 1, \"108\": 6, \"72\": 1, \"101\": 7, \"30\": 1, \"98\": 3, \"126\": 5, \"110\": 8, \"43\": 2, \"0\": 8, \"8\": 4, \"7\": 1, \"5\": 1, \"4\": 2, \"84\": 1, \"124\": 1, \"44\": 1, \"90\": 7, \"87\": 3, \"40\": 4, \"106\": 2, \"91\": 1, \"28\": 1, \"77\": 1, \"64\": 1, \"96\": 1, \"62\": 1, \"85\": 1, \"34\": 1, \"107\": 3, \"21\": 2, \"94\": 1, \"10\": 1}, \"84\": {\"84\": 71, \"114\": 12, \"81\": 1, \"40\": 1, \"5\": 3, \"1\": 11, \"87\": 1, \"14\": 4, \"42\": 1, \"70\": 1, \"126\": 1, \"10\": 1}, \"52\": {\"52\": 13, \"32\": 1, \"112\": 2, \"12\": 1, \"37\": 1, \"103\": 1, \"27\": 1}, \"20\": {\"22\": 2, \"52\": 1, \"20\": 8, \"120\": 1, \"96\": 1, \"127\": 1, \"62\": 2}, \"14\": {\"14\": 87, \"105\": 1, \"113\": 1, \"8\": 1, \"75\": 1, \"87\": 1, \"1\": 2, \"84\": 1, \"122\": 1}, \"37\": {\"37\": 15, \"52\": 1}, \"42\": {\"70\": 1, \"62\": 4, \"50\": 1, \"35\": 1, \"42\": 6, \"24\": 1, \"33\": 2, \"39\": 1, \"93\": 4, \"83\": 2, \"74\": 1, \"117\": 1, \"82\": 1, \"86\": 1, \"2\": 1}, \"99\": {\"62\": 2, \"99\": 11, \"1\": 1, \"21\": 1, \"7\": 1, \"78\": 2, \"33\": 1, \"43\": 1, \"69\": 2, \"109\": 1, \"82\": 1}, \"35\": {\"35\": 8, \"72\": 1, \"70\": 1, \"85\": 1, \"54\": 1}, \"62\": {\"62\": 96, \"33\": 2, \"102\": 7, \"69\": 4, \"43\": 1, \"87\": 1, \"7\": 1, \"84\": 1, \"50\": 3, \"129\": 2, \"82\": 1, \"18\": 1}, \"61\": {\"7\": 1, \"61\": 7, \"90\": 1, \"109\": 1, \"66\": 1, \"60\": 1}, \"7\": {\"7\": 100, \"104\": 2, \"38\": 1, \"10\": 1, \"48\": 1, \"86\": 2, \"84\": 2, \"1\": 6, \"87\": 3, \"43\": 5, \"15\": 1, \"122\": 4, \"126\": 6, \"109\": 3, \"45\": 2, \"5\": 1, \"105\": 1, \"39\": 1}, \"69\": {\"69\": 71, \"102\": 8, \"3\": 2, \"26\": 6, \"109\": 4, \"126\": 1, \"18\": 3, \"70\": 1, \"1\": 1, \"117\": 1, \"128\": 1, \"62\": 1, \"33\": 3, \"118\": 1}, \"55\": {\"55\": 11, \"93\": 1}, \"41\": {\"41\": 14, \"8\": 1, \"31\": 1}, \"120\": {\"120\": 17, \"8\": 1, \"78\": 1, \"80\": 1}, \"123\": {\"123\": 14, \"16\": 1, \"121\": 1}, \"97\": {\"127\": 1, \"97\": 8, \"0\": 1, \"47\": 1, \"121\": 1, \"49\": 2, \"59\": 2, \"98\": 1, \"68\": 1, \"90\": 1, \"10\": 1}, \"102\": {\"102\": 100, \"69\": 9, \"50\": 1, \"33\": 6, \"16\": 1, \"18\": 2, \"62\": 1}, \"60\": {\"41\": 2, \"108\": 1, \"18\": 1, \"126\": 1, \"10\": 1, \"117\": 2, \"109\": 2, \"60\": 1, \"21\": 1, \"118\": 1, \"55\": 1, \"70\": 1, \"125\": 1}, \"127\": {\"127\": 80, \"47\": 1, \"97\": 1, \"33\": 1, \"26\": 1, \"89\": 1, \"106\": 4, \"12\": 4, \"15\": 1, \"110\": 1, \"113\": 1, \"88\": 3, \"111\": 4, \"121\": 1, \"72\": 1, \"56\": 1, \"0\": 2}, \"32\": {\"77\": 1, \"32\": 21, \"98\": 1, \"111\": 2, \"127\": 2, \"23\": 1, \"6\": 1, \"37\": 2, \"29\": 1}, \"3\": {\"69\": 3, \"3\": 60, \"33\": 7, \"15\": 2, \"26\": 1, \"43\": 1, \"39\": 1, \"109\": 2, \"36\": 1, \"1\": 2, \"102\": 1, \"62\": 1, \"59\": 1, \"88\": 1, \"122\": 1, \"126\": 1, \"7\": 1, \"113\": 1}, \"8\": {\"21\": 1, \"8\": 67, \"38\": 1, \"35\": 1, \"5\": 3, \"122\": 1, \"108\": 3, \"10\": 5, \"0\": 2, \"4\": 2, \"70\": 3, \"101\": 2, \"14\": 4, \"87\": 3, \"40\": 5, \"93\": 4, \"126\": 4, \"110\": 1, \"124\": 3, \"19\": 1, \"86\": 2, \"43\": 1, \"7\": 1, \"114\": 1, \"106\": 1}, \"129\": {\"129\": 10, \"126\": 1, \"13\": 1, \"82\": 1, \"87\": 2, \"105\": 3, \"4\": 1, \"33\": 2, \"96\": 1, \"55\": 1, \"73\": 1, \"1\": 1, \"69\": 1, \"83\": 1, \"5\": 1}, \"119\": {\"119\": 13, \"25\": 1, \"31\": 1, \"102\": 1}, \"21\": {\"109\": 2, \"75\": 1, \"21\": 18, \"39\": 4, \"44\": 1, \"0\": 1, \"121\": 3, \"74\": 1, \"90\": 2, \"60\": 1, \"57\": 1, \"56\": 1, \"87\": 1, \"89\": 1, \"2\": 1, \"113\": 1}, \"53\": {\"30\": 1, \"53\": 14, \"91\": 1, \"101\": 2, \"127\": 1, \"85\": 1}, \"28\": {\"109\": 1, \"28\": 18, \"60\": 1}, \"117\": {\"117\": 126, \"39\": 3, \"18\": 1, \"16\": 9, \"69\": 2, \"118\": 1, \"82\": 1, \"26\": 1}, \"112\": {\"112\": 11, \"92\": 2, \"47\": 1, \"71\": 1, \"37\": 1}, \"126\": {\"126\": 50, \"80\": 3, \"73\": 1, \"10\": 5, \"48\": 1, \"21\": 1, \"41\": 1, \"44\": 4, \"128\": 2, \"1\": 12, \"87\": 5, \"7\": 6, \"70\": 5, \"12\": 1, \"93\": 3, \"109\": 3, \"90\": 6, \"43\": 8, \"113\": 1, \"8\": 3, \"106\": 1, \"5\": 2, \"84\": 4, \"39\": 1, \"122\": 2, \"71\": 1, \"110\": 2}, \"30\": {\"112\": 2, \"53\": 1, \"91\": 2, \"30\": 22, \"32\": 1, \"36\": 3, \"51\": 1, \"86\": 2, \"0\": 2, \"89\": 3, \"24\": 1, \"29\": 1, \"127\": 2, \"97\": 1, \"21\": 1, \"52\": 1, \"75\": 1, \"49\": 1, \"101\": 1, \"56\": 1, \"9\": 1, \"27\": 1}, \"105\": {\"105\": 51, \"108\": 1, \"40\": 10, \"2\": 1, \"10\": 1, \"18\": 1, \"5\": 3, \"26\": 1, \"43\": 3, \"114\": 2, \"4\": 2, \"73\": 1, \"80\": 2, \"93\": 1, \"110\": 1, \"70\": 1, \"87\": 2}, \"29\": {\"29\": 24, \"12\": 1, \"127\": 1, \"111\": 2}, \"57\": {\"57\": 10, \"28\": 2}, \"93\": {\"93\": 51, \"5\": 3, \"49\": 1, \"105\": 1, \"98\": 1, \"110\": 4, \"73\": 1, \"40\": 6, \"34\": 1, \"7\": 3, \"0\": 4, \"44\": 3, \"4\": 5, \"10\": 5, \"126\": 5, \"89\": 1, \"107\": 12, \"70\": 8, \"11\": 1, \"87\": 2, \"108\": 6, \"122\": 2, \"35\": 1, \"91\": 1, \"128\": 2, \"78\": 1, \"42\": 1, \"86\": 2, \"43\": 5, \"90\": 1}, \"17\": {\"17\": 9, \"97\": 1, \"53\": 2, \"86\": 1, \"32\": 1, \"9\": 2}, \"44\": {\"44\": 70, \"93\": 1, \"87\": 3, \"34\": 1, \"126\": 1}, \"63\": {\"63\": 12, \"117\": 2, \"16\": 1, \"26\": 1}, \"87\": {\"93\": 1, \"44\": 6, \"114\": 5, \"5\": 3, \"87\": 27, \"90\": 1, \"129\": 2, \"81\": 1, \"126\": 6, \"31\": 1, \"1\": 2, \"62\": 2, \"10\": 4, \"84\": 8, \"105\": 4, \"43\": 7, \"7\": 2, \"4\": 2, \"113\": 1, \"14\": 4, \"40\": 4, \"8\": 1, \"108\": 1, \"57\": 2, \"55\": 1, \"122\": 4, \"79\": 1, \"70\": 2, \"83\": 1, \"109\": 1, \"16\": 1}, \"0\": {\"98\": 3, \"0\": 46, \"108\": 5, \"103\": 1, \"9\": 1, \"72\": 1, \"127\": 4, \"85\": 1, \"106\": 3, \"110\": 5, \"39\": 1, \"4\": 3, \"70\": 1, \"12\": 1, \"124\": 1, \"83\": 1, \"101\": 3, \"111\": 1, \"93\": 1, \"8\": 1}, \"96\": {\"109\": 1, \"96\": 6, \"104\": 2, \"57\": 1, \"126\": 1, \"41\": 1, \"46\": 1, \"120\": 2, \"19\": 1, \"18\": 1, \"70\": 1, \"20\": 1, \"44\": 1}, \"98\": {\"0\": 4, \"98\": 61, \"49\": 1, \"32\": 3, \"106\": 4, \"24\": 4, \"29\": 1, \"15\": 1, \"111\": 3, \"34\": 1, \"70\": 1, \"127\": 2, \"101\": 5, \"12\": 3, \"110\": 5, \"97\": 1, \"68\": 1, \"9\": 2, \"30\": 1, \"27\": 2, \"124\": 1, \"108\": 1}, \"75\": {\"75\": 16}, \"78\": {\"96\": 1, \"57\": 1, \"108\": 1, \"129\": 1, \"40\": 2, \"21\": 1, \"78\": 2, \"81\": 2, \"120\": 1, \"80\": 1, \"110\": 1, \"117\": 1, \"43\": 1}, \"116\": {\"96\": 1, \"116\": 18, \"109\": 1, \"50\": 1, \"114\": 1, \"21\": 1, \"28\": 1, \"90\": 2, \"26\": 1, \"81\": 1, \"60\": 1, \"67\": 1, \"117\": 1, \"94\": 1}, \"114\": {\"81\": 1, \"73\": 1, \"114\": 96, \"40\": 4, \"115\": 1, \"129\": 1, \"5\": 2, \"1\": 2, \"4\": 1, \"8\": 1, \"26\": 1, \"122\": 1, \"43\": 1, \"84\": 6, \"93\": 1, \"14\": 1, \"121\": 1, \"106\": 1, \"87\": 2, \"108\": 1, \"11\": 2}, \"103\": {\"103\": 12, \"46\": 1, \"71\": 2, \"112\": 1}, \"50\": {\"50\": 14, \"45\": 2}, \"124\": {\"124\": 77, \"114\": 2, \"101\": 1, \"46\": 1, \"9\": 1, \"107\": 14, \"108\": 5, \"85\": 2, \"4\": 6, \"5\": 1, \"105\": 1, \"40\": 8, \"110\": 1, \"34\": 1, \"72\": 1, \"27\": 1, \"127\": 1, \"0\": 1, \"98\": 1, \"10\": 1, \"84\": 1}, \"5\": {\"5\": 65, \"49\": 1, \"72\": 1, \"87\": 1, \"114\": 3, \"105\": 2, \"84\": 1, \"9\": 1, \"40\": 1, \"107\": 1, \"4\": 3, \"86\": 1, \"124\": 4, \"93\": 1, \"18\": 1, \"15\": 1}, \"73\": {\"114\": 1, \"103\": 1, \"73\": 14, \"105\": 2, \"23\": 1, \"5\": 1}, \"81\": {\"114\": 2, \"81\": 22, \"115\": 1, \"1\": 1, \"43\": 2}, \"49\": {\"49\": 7, \"109\": 1, \"112\": 2, \"105\": 1, \"32\": 1, \"24\": 1, \"34\": 1, \"9\": 2, \"93\": 1, \"5\": 2, \"40\": 1}, \"16\": {\"16\": 71, \"39\": 6, \"113\": 2, \"117\": 5, \"118\": 6, \"26\": 7, \"18\": 3, \"90\": 2, \"95\": 2, \"43\": 1, \"69\": 1, \"126\": 1, \"109\": 1}, \"101\": {\"101\": 115, \"110\": 2, \"12\": 4, \"70\": 1, \"106\": 1, \"24\": 1}, \"125\": {\"125\": 99, \"27\": 6, \"94\": 4, \"15\": 2, \"88\": 3, \"36\": 4}, \"65\": {\"16\": 1, \"28\": 1, \"92\": 1, \"123\": 1, \"65\": 1, \"33\": 2, \"66\": 2, \"18\": 1, \"109\": 1, \"76\": 1}, \"66\": {\"66\": 13, \"76\": 2, \"90\": 1}, \"79\": {\"8\": 1, \"79\": 11}, \"39\": {\"66\": 1, \"16\": 5, \"123\": 1, \"39\": 44, \"118\": 2, \"13\": 2, \"117\": 13, \"69\": 4, \"7\": 2, \"90\": 8, \"26\": 7, \"62\": 2, \"18\": 7, \"70\": 1, \"109\": 3, \"113\": 1, \"33\": 1}, \"104\": {\"96\": 2, \"104\": 11, \"21\": 1, \"19\": 1, \"1\": 1}, \"91\": {\"97\": 2, \"75\": 1, \"91\": 16, \"85\": 1, \"88\": 1, \"56\": 1, \"24\": 1, \"108\": 1, \"52\": 2, \"35\": 1, \"30\": 1}, \"25\": {\"25\": 10, \"40\": 1, \"80\": 1, \"31\": 1, \"4\": 1, \"22\": 2}, \"64\": {\"64\": 16}, \"34\": {\"43\": 2, \"127\": 1, \"34\": 3, \"38\": 1, \"97\": 1, \"126\": 1, \"106\": 3, \"30\": 1, \"36\": 1, \"6\": 3, \"108\": 2, \"71\": 2, \"40\": 2, \"92\": 1, \"24\": 1, \"87\": 1, \"104\": 1, \"1\": 1, \"44\": 1, \"93\": 1, \"84\": 2}, \"82\": {\"82\": 32, \"33\": 2, \"45\": 1, \"102\": 1}, \"18\": {\"18\": 108, \"90\": 3, \"109\": 2, \"16\": 1, \"39\": 2, \"117\": 5, \"2\": 2, \"26\": 1}, \"43\": {\"64\": 1, \"43\": 40, \"128\": 4, \"71\": 1, \"84\": 12, \"14\": 3, \"70\": 3, \"7\": 5, \"105\": 6, \"10\": 3, \"40\": 2, \"1\": 8, \"109\": 8, \"5\": 3, \"90\": 3, \"126\": 6, \"114\": 3, \"44\": 2, \"87\": 3, \"122\": 5, \"80\": 1, \"21\": 1, \"81\": 2, \"78\": 1, \"19\": 1, \"74\": 1}, \"47\": {\"97\": 1, \"47\": 10, \"23\": 1}, \"108\": {\"108\": 28, \"34\": 1, \"105\": 1, \"129\": 1, \"56\": 2, \"31\": 1, \"73\": 1, \"0\": 5, \"72\": 1, \"41\": 1, \"110\": 4, \"126\": 4, \"21\": 1, \"35\": 1, \"107\": 5, \"44\": 3, \"8\": 4, \"101\": 4, \"70\": 3, \"128\": 2, \"98\": 6, \"24\": 2, \"89\": 3, \"114\": 2, \"29\": 1, \"10\": 5, \"106\": 2, \"12\": 2, \"127\": 1, \"9\": 1, \"87\": 2, \"124\": 4, \"93\": 4, \"111\": 1, \"43\": 1, \"88\": 1, \"4\": 4, \"1\": 2, \"94\": 1, \"40\": 3, \"113\": 1, \"71\": 2}, \"111\": {\"111\": 82, \"98\": 1, \"71\": 6, \"90\": 1, \"106\": 3, \"88\": 3, \"68\": 3, \"127\": 4, \"37\": 1, \"15\": 1, \"32\": 1, \"24\": 1, \"110\": 1}, \"23\": {\"45\": 1, \"111\": 1, \"32\": 2, \"23\": 2, \"24\": 1, \"62\": 6, \"3\": 1, \"43\": 1, \"12\": 2, \"109\": 1, \"31\": 1, \"68\": 1, \"110\": 1, \"98\": 1, \"127\": 1, \"88\": 1}, \"90\": {\"90\": 134, \"76\": 1, \"66\": 1, \"21\": 1, \"18\": 1, \"36\": 2, \"109\": 11, \"122\": 1, \"11\": 1, \"61\": 2, \"95\": 1, \"10\": 1, \"39\": 1, \"16\": 1, \"69\": 1}, \"4\": {\"75\": 1, \"4\": 61, \"5\": 5, \"1\": 3, \"8\": 3, \"93\": 4, \"107\": 3, \"105\": 2, \"40\": 9, \"126\": 1, \"70\": 1, \"85\": 1, \"18\": 1, \"124\": 2, \"87\": 1, \"114\": 1, \"10\": 1}, \"92\": {\"92\": 25, \"30\": 1, \"15\": 2}, \"2\": {\"102\": 2, \"2\": 10, \"50\": 1, \"117\": 2, \"82\": 4, \"62\": 2, \"16\": 2, \"18\": 2, \"84\": 1, \"109\": 1, \"43\": 1, \"15\": 1, \"121\": 1, \"11\": 1, \"33\": 1}, \"45\": {\"90\": 3, \"50\": 1, \"40\": 1, \"76\": 1, \"67\": 1, \"104\": 1, \"25\": 1, \"28\": 2, \"115\": 1}, \"68\": {\"111\": 3, \"68\": 10, \"127\": 3}, \"26\": {\"117\": 5, \"119\": 1, \"63\": 1, \"26\": 104, \"43\": 1, \"16\": 5, \"95\": 4, \"18\": 1, \"90\": 1, \"118\": 2, \"69\": 2, \"39\": 1}, \"38\": {\"38\": 12, \"75\": 1, \"108\": 2, \"129\": 1}, \"40\": {\"40\": 103, \"107\": 10, \"83\": 1, \"105\": 9, \"5\": 2, \"4\": 11, \"98\": 1, \"114\": 2, \"14\": 1, \"111\": 1, \"84\": 1}, \"80\": {\"80\": 11, \"93\": 1, \"64\": 1, \"1\": 1, \"126\": 1, \"74\": 1}, \"107\": {\"107\": 97, \"40\": 4, \"72\": 2, \"65\": 1, \"124\": 7, \"18\": 1, \"106\": 1, \"110\": 2, \"53\": 1, \"77\": 2, \"39\": 1, \"105\": 2, \"113\": 1}, \"94\": {\"112\": 1, \"94\": 40, \"106\": 2, \"59\": 1, \"101\": 1, \"125\": 6, \"15\": 9, \"127\": 1, \"88\": 8, \"98\": 1, \"27\": 4, \"71\": 3, \"36\": 5, \"111\": 2, \"51\": 1, \"6\": 1, \"12\": 1, \"52\": 1, \"29\": 2, \"24\": 1, \"92\": 1}, \"115\": {\"115\": 10, \"1\": 1, \"45\": 1}, \"46\": {\"5\": 2, \"32\": 1, \"1\": 1, \"105\": 1, \"30\": 2, \"16\": 1, \"46\": 1, \"103\": 2, \"94\": 1}, \"72\": {\"107\": 5, \"72\": 23, \"17\": 1, \"108\": 3}, \"19\": {\"19\": 18, \"5\": 1, \"73\": 1, \"93\": 1, \"114\": 1, \"105\": 1, \"14\": 1, \"1\": 1, \"81\": 1, \"129\": 1, \"20\": 1}, \"100\": {\"100\": 7, \"33\": 2, \"98\": 1, \"119\": 2, \"17\": 1, \"22\": 1, \"62\": 2}, \"76\": {\"76\": 15, \"64\": 1}, \"106\": {\"106\": 102, \"49\": 1, \"101\": 1, \"127\": 5, \"110\": 2, \"98\": 1, \"12\": 7, \"111\": 5, \"88\": 2, \"112\": 1, \"68\": 1, \"30\": 1, \"107\": 2, \"24\": 1}, \"88\": {\"94\": 4, \"88\": 36, \"59\": 1, \"9\": 1, \"24\": 5, \"110\": 8, \"6\": 2, \"26\": 1, \"35\": 1, \"36\": 10, \"71\": 4, \"15\": 4, \"70\": 3, \"98\": 4, \"27\": 8, \"101\": 7, \"12\": 2, \"125\": 7, \"124\": 2, \"106\": 2, \"111\": 3, \"38\": 1, \"85\": 1, \"91\": 1, \"4\": 2, \"0\": 1, \"127\": 3, \"89\": 1, \"34\": 1, \"93\": 2, \"18\": 1, \"8\": 1}, \"15\": {\"15\": 45, \"94\": 10, \"53\": 1, \"68\": 1, \"6\": 2, \"101\": 4, \"71\": 8, \"98\": 2, \"27\": 6, \"24\": 1, \"88\": 7, \"12\": 3, \"37\": 1, \"125\": 5, \"111\": 4, \"113\": 1, \"10\": 1, \"127\": 1, \"106\": 1}, \"54\": {\"54\": 10, \"53\": 1, \"72\": 1, \"97\": 1, \"17\": 2, \"46\": 1}, \"13\": {\"13\": 13, \"69\": 2, \"118\": 1}, \"51\": {\"51\": 15, \"88\": 1}, \"24\": {\"127\": 2, \"24\": 17, \"71\": 11, \"97\": 2, \"49\": 1, \"27\": 4, \"91\": 2, \"89\": 2, \"112\": 2, \"93\": 1, \"108\": 3, \"15\": 6, \"10\": 3, \"8\": 4, \"40\": 1, \"111\": 4, \"98\": 1, \"87\": 1, \"88\": 3, \"12\": 3, \"101\": 4, \"92\": 4, \"17\": 1, \"58\": 1, \"83\": 1, \"106\": 3, \"118\": 1, \"5\": 1, \"0\": 2, \"110\": 1}, \"48\": {\"38\": 1, \"7\": 1, \"48\": 8, \"96\": 2}, \"85\": {\"0\": 2, \"85\": 29, \"72\": 1}, \"33\": {\"33\": 120, \"3\": 2, \"102\": 6, \"62\": 4, \"69\": 4, \"82\": 3, \"50\": 1}, \"71\": {\"71\": 70, \"121\": 1, \"30\": 1, \"29\": 1, \"68\": 1, \"127\": 2, \"111\": 7, \"110\": 1, \"27\": 1, \"94\": 3, \"12\": 2, \"16\": 1, \"112\": 1, \"106\": 1, \"123\": 1, \"98\": 1, \"89\": 1, \"24\": 2, \"15\": 2, \"90\": 1, \"0\": 1, \"36\": 1, \"88\": 5}, \"6\": {\"6\": 13, \"24\": 2, \"92\": 1, \"106\": 2, \"68\": 1, \"88\": 1, \"9\": 1, \"12\": 1, \"27\": 1, \"127\": 2, \"125\": 2, \"15\": 1, \"36\": 1, \"32\": 1, \"98\": 1, \"94\": 1}, \"83\": {\"83\": 15, \"31\": 1, \"108\": 2, \"18\": 1, \"11\": 1, \"8\": 2, \"105\": 1, \"43\": 1, \"14\": 1, \"107\": 1, \"2\": 1, \"79\": 1}, \"121\": {\"90\": 1, \"39\": 1, \"123\": 1, \"16\": 1, \"121\": 11, \"21\": 2, \"26\": 1, \"118\": 2, \"117\": 2, \"76\": 2, \"69\": 1, \"78\": 1, \"82\": 2, \"95\": 3, \"2\": 1}, \"31\": {\"31\": 13, \"121\": 1, \"55\": 2}, \"67\": {\"45\": 1, \"67\": 12, \"115\": 1, \"33\": 2}, \"1\": {\"1\": 92, \"129\": 1, \"81\": 3, \"84\": 19, \"14\": 4, \"43\": 4, \"87\": 1, \"70\": 1, \"7\": 3, \"18\": 1, \"5\": 1, \"108\": 2, \"127\": 1, \"126\": 1, \"93\": 1, \"114\": 1}, \"27\": {\"127\": 2, \"27\": 41, \"59\": 1, \"88\": 9, \"47\": 1, \"15\": 7, \"125\": 6, \"12\": 3, \"71\": 3, \"18\": 1, \"101\": 1, \"110\": 1, \"36\": 3, \"24\": 5, \"94\": 1, \"108\": 1, \"91\": 1, \"30\": 1, \"98\": 1, \"29\": 1, \"111\": 1, \"106\": 1}, \"118\": {\"118\": 41, \"39\": 3, \"78\": 1, \"69\": 5, \"117\": 5, \"26\": 4, \"2\": 3, \"95\": 1, \"16\": 7, \"70\": 1, \"40\": 1, \"102\": 1, \"60\": 1, \"13\": 2, \"64\": 1, \"113\": 1, \"109\": 1, \"126\": 1, \"90\": 4}, \"56\": {\"56\": 10, \"127\": 1, \"92\": 1}, \"36\": {\"36\": 98, \"30\": 1, \"94\": 4, \"27\": 2, \"16\": 1, \"15\": 1, \"88\": 6, \"125\": 11, \"112\": 1, \"97\": 1, \"92\": 1, \"111\": 1}, \"11\": {\"33\": 12, \"100\": 1, \"80\": 1, \"11\": 44, \"82\": 1, \"128\": 2, \"62\": 4, \"87\": 1, \"7\": 7, \"93\": 3, \"109\": 3, \"1\": 3, \"69\": 2, \"124\": 1, \"102\": 9, \"122\": 2, \"14\": 2, \"70\": 2, \"113\": 1, \"43\": 3, \"84\": 5, \"88\": 1, \"116\": 2, \"105\": 1, \"78\": 1, \"19\": 1, \"34\": 1, \"81\": 1, \"95\": 2, \"44\": 1, \"126\": 1, \"40\": 1, \"114\": 1, \"8\": 1, \"90\": 1, \"4\": 1}, \"110\": {\"110\": 64, \"106\": 9, \"101\": 9, \"0\": 3, \"18\": 2, \"93\": 5, \"12\": 2, \"88\": 2, \"4\": 2, \"127\": 8, \"10\": 3, \"111\": 2, \"8\": 2, \"75\": 1, \"17\": 1, \"85\": 1, \"89\": 1, \"108\": 2, \"70\": 1, \"107\": 2}, \"89\": {\"89\": 15, \"9\": 2, \"98\": 4, \"86\": 1, \"30\": 1, \"127\": 1, \"15\": 1, \"70\": 1, \"32\": 1, \"34\": 1, \"24\": 1, \"58\": 1, \"111\": 1, \"106\": 3, \"71\": 1, \"110\": 1}, \"113\": {\"113\": 85, \"117\": 8, \"13\": 2, \"11\": 1, \"16\": 5, \"109\": 2, \"18\": 7, \"110\": 1, \"39\": 3, \"12\": 1, \"2\": 1, \"36\": 1, \"107\": 1}, \"59\": {\"59\": 7, \"30\": 2, \"112\": 2, \"27\": 1}, \"9\": {\"9\": 14, \"110\": 1, \"103\": 2, \"30\": 2, \"26\": 1, \"107\": 3, \"40\": 1, \"46\": 2, \"101\": 1, \"6\": 1, \"85\": 1, \"124\": 1, \"0\": 1, \"56\": 1}, \"86\": {\"86\": 19, \"40\": 2, \"108\": 2, \"110\": 1, \"5\": 1, \"122\": 1, \"4\": 4, \"85\": 1, \"83\": 1, \"94\": 1, \"88\": 1, \"10\": 1, \"12\": 1}, \"12\": {\"52\": 1, \"12\": 68, \"106\": 3, \"71\": 4, \"110\": 3, \"24\": 4, \"113\": 1, \"0\": 2, \"101\": 3, \"90\": 1, \"111\": 4, \"97\": 1, \"37\": 1, \"127\": 1, \"88\": 3, \"39\": 1, \"98\": 1, \"15\": 1, \"18\": 1}, \"122\": {\"126\": 3, \"122\": 17, \"10\": 4, \"34\": 1, \"4\": 1, \"19\": 1, \"44\": 5, \"21\": 1, \"124\": 2, \"84\": 5, \"43\": 8, \"14\": 8, \"114\": 7, \"70\": 5, \"87\": 2, \"25\": 1, \"93\": 1, \"117\": 1, \"40\": 8, \"1\": 2, \"105\": 3, \"113\": 1, \"26\": 1}, \"128\": {\"128\": 9, \"93\": 1, \"110\": 1, \"99\": 2, \"9\": 3, \"126\": 1, \"90\": 1, \"11\": 1, \"43\": 1, \"72\": 2, \"86\": 1, \"34\": 1}, \"95\": {\"21\": 1, \"16\": 3, \"95\": 14, \"7\": 1, \"118\": 6, \"26\": 4, \"11\": 1, \"96\": 1, \"109\": 1, \"117\": 4}}, \"C_3\": {\"56\": {\"56\": 120}, \"4\": {\"4\": 141, \"46\": 1, \"27\": 2, \"9\": 2}, \"34\": {\"34\": 27, \"1\": 3, \"29\": 1, \"57\": 1}, \"52\": {\"52\": 118, \"30\": 6, \"50\": 3, \"23\": 3, \"18\": 2, \"6\": 1, \"9\": 1, \"3\": 2}, \"32\": {\"32\": 21, \"17\": 4, \"8\": 2, \"46\": 1}, \"46\": {\"46\": 62, \"57\": 3, \"23\": 2, \"25\": 15, \"39\": 2, \"1\": 2, \"11\": 5, \"20\": 6, \"9\": 2, \"47\": 1, \"40\": 2, \"16\": 6, \"3\": 4, \"29\": 3, \"6\": 1, \"5\": 4, \"15\": 4, \"21\": 6, \"43\": 1, \"55\": 1, \"41\": 1, \"30\": 1, \"4\": 1, \"52\": 1}, \"12\": {\"12\": 62, \"32\": 2, \"27\": 1, \"53\": 1, \"36\": 4, \"51\": 8, \"17\": 4, \"45\": 1, \"8\": 7, \"54\": 2}, \"20\": {\"20\": 128, \"21\": 2, \"51\": 1, \"52\": 1}, \"54\": {\"54\": 98, \"36\": 2}, \"22\": {\"22\": 129, \"14\": 4, \"13\": 1, \"31\": 4, \"56\": 1, \"24\": 1}, \"26\": {\"26\": 22, \"16\": 1, \"25\": 1}, \"31\": {\"22\": 1, \"31\": 27}, \"10\": {\"10\": 56, \"24\": 8}, \"27\": {\"27\": 136, \"6\": 2, \"30\": 1, \"9\": 3, \"17\": 1, \"50\": 1}, \"40\": {\"40\": 108, \"15\": 1, \"19\": 21, \"11\": 1, \"25\": 1, \"29\": 2, \"16\": 1, \"21\": 1}, \"28\": {\"28\": 26, \"43\": 1, \"15\": 1}, \"5\": {\"5\": 100, \"35\": 3, \"11\": 1, \"47\": 4, \"57\": 2, \"0\": 3, \"55\": 1, \"43\": 1, \"15\": 1}, \"30\": {\"30\": 107, \"18\": 6, \"50\": 2, \"11\": 1, \"48\": 2, \"6\": 2}, \"7\": {\"7\": 34, \"55\": 1, \"43\": 1}, \"18\": {\"30\": 2, \"18\": 77, \"48\": 1, \"50\": 3, \"52\": 1}, \"39\": {\"39\": 16}, \"50\": {\"29\": 1, \"52\": 11, \"48\": 7, \"50\": 57, \"30\": 15, \"3\": 11, \"33\": 2, \"11\": 2, \"23\": 5, \"41\": 3, \"16\": 2, \"27\": 4, \"18\": 5, \"6\": 1, \"36\": 1, \"9\": 1, \"46\": 2, \"37\": 1, \"17\": 2, \"53\": 1, \"4\": 1, \"40\": 1}, \"49\": {\"49\": 18, \"10\": 1, \"22\": 1}, \"43\": {\"43\": 121, \"55\": 1}, \"29\": {\"29\": 102, \"34\": 1, \"3\": 1, \"57\": 6, \"37\": 1, \"1\": 1, \"5\": 1, \"46\": 1}, \"35\": {\"35\": 26, \"25\": 1, \"26\": 1}, \"13\": {\"13\": 122, \"43\": 1, \"22\": 1}, \"36\": {\"36\": 83, \"54\": 17}, \"11\": {\"11\": 137, \"5\": 4, \"47\": 2, \"15\": 2, \"7\": 1}, \"57\": {\"57\": 114, \"1\": 6, \"29\": 2, \"34\": 1, \"0\": 1}, \"9\": {\"9\": 124, \"25\": 1, \"23\": 3, \"46\": 1, \"3\": 1}, \"25\": {\"25\": 65, \"46\": 14, \"57\": 1, \"23\": 13, \"26\": 2, \"3\": 8, \"52\": 4, \"9\": 8, \"15\": 3, \"6\": 2, \"11\": 3, \"41\": 1, \"1\": 1, \"16\": 5}, \"16\": {\"16\": 118, \"15\": 1, \"55\": 1, \"25\": 3, \"46\": 3}, \"53\": {\"53\": 112, \"8\": 6}, \"33\": {\"33\": 26, \"48\": 1, \"27\": 1}, \"51\": {\"51\": 126, \"12\": 1, \"20\": 1}, \"44\": {\"44\": 80, \"19\": 2, \"40\": 3, \"11\": 1, \"13\": 1, \"46\": 1}, \"48\": {\"48\": 100, \"30\": 3, \"3\": 2, \"11\": 1, \"52\": 1, \"27\": 2, \"17\": 2, \"18\": 2, \"5\": 1}, \"6\": {\"48\": 9, \"26\": 1, \"6\": 23, \"25\": 5, \"50\": 3, \"46\": 3, \"18\": 5, \"34\": 1, \"30\": 10, \"3\": 4, \"27\": 3, \"52\": 3, \"17\": 4, \"16\": 2, \"39\": 1, \"33\": 1, \"38\": 1, \"1\": 1, \"4\": 2, \"53\": 1, \"9\": 2, \"21\": 1, \"57\": 1, \"15\": 1}, \"23\": {\"41\": 2, \"23\": 139, \"3\": 3}, \"1\": {\"57\": 13, \"1\": 79, \"5\": 2, \"29\": 3, \"34\": 1, \"46\": 1, \"15\": 1}, \"17\": {\"38\": 2, \"17\": 99, \"8\": 4, \"30\": 1, \"54\": 1, \"36\": 1}, \"21\": {\"21\": 100, \"33\": 2, \"46\": 3, \"50\": 1, \"23\": 2, \"30\": 1, \"6\": 1, \"3\": 2, \"20\": 5, \"9\": 4, \"25\": 1}, \"14\": {\"14\": 27, \"22\": 5, \"55\": 1, \"13\": 1, \"47\": 1, \"10\": 2, \"43\": 1, \"28\": 1, \"11\": 1}, \"55\": {\"14\": 3, \"55\": 113, \"7\": 2, \"44\": 1, \"10\": 1, \"11\": 1, \"43\": 16, \"28\": 1, \"22\": 3, \"24\": 1, \"13\": 2}, \"41\": {\"41\": 24, \"6\": 2, \"18\": 1, \"23\": 1}, \"3\": {\"41\": 4, \"50\": 4, \"3\": 62, \"52\": 11, \"23\": 7, \"16\": 9, \"25\": 11, \"18\": 2, \"57\": 2, \"6\": 6, \"1\": 2, \"46\": 7, \"15\": 1, \"9\": 2, \"29\": 2, \"26\": 1, \"20\": 2, \"48\": 2, \"30\": 1}, \"38\": {\"38\": 28}, \"2\": {\"2\": 31, \"8\": 1}, \"8\": {\"8\": 135, \"36\": 3, \"17\": 3, \"54\": 1}, \"37\": {\"37\": 28}, \"45\": {\"45\": 38, \"4\": 8, \"12\": 2, \"20\": 1, \"21\": 2, \"29\": 1, \"25\": 1, \"27\": 4, \"17\": 2, \"50\": 1}, \"42\": {\"42\": 23, \"5\": 1, \"47\": 1, \"15\": 1, \"1\": 1, \"57\": 1}, \"24\": {\"24\": 99, \"10\": 5}, \"15\": {\"15\": 124, \"47\": 3, \"37\": 1, \"57\": 2, \"5\": 2, \"0\": 3, \"16\": 1}, \"0\": {\"0\": 115, \"1\": 1, \"15\": 2, \"57\": 2, \"47\": 4}, \"47\": {\"47\": 54, \"13\": 1, \"7\": 1, \"5\": 8, \"0\": 15, \"57\": 6, \"15\": 3, \"11\": 1, \"42\": 1, \"35\": 1, \"43\": 1}, \"19\": {\"19\": 106, \"40\": 12, \"29\": 2}}}, \"per_domain_accuracy\": {\"O_14\": {\"accuracy\": 0.8861979166666667, \"source?\": true}, \"O_20\": {\"accuracy\": 0.81015625, \"source?\": true}, \"O_50\": {\"accuracy\": 0.90859375, \"source?\": true}, \"O_26\": {\"accuracy\": 0.7307291666666667, \"source?\": true}, \"O_32\": {\"accuracy\": 0.89453125, \"source?\": true}, \"O_44\": {\"accuracy\": 0.8033854166666666, \"source?\": true}, \"O_8\": {\"accuracy\": 0.8533854166666667, \"source?\": true}, \"O_38\": {\"accuracy\": 0.92109375, \"source?\": true}, \"C_4\": {\"accuracy\": 0.8104416167664671, \"source?\": false}, \"C_5\": {\"accuracy\": 0.822800279329609, \"source?\": false}, \"W_3\": {\"accuracy\": 0.5843340611353712, \"source?\": false}, \"C_2\": {\"accuracy\": 0.8416071428571429, \"source?\": false}, \"W_4\": {\"accuracy\": 0.5272469008264463, \"source?\": false}, \"W_2\": {\"accuracy\": 0.586629746835443, \"source?\": false}, \"C_1\": {\"accuracy\": 0.8704144021739131, \"source?\": false}, \"W_1\": {\"accuracy\": 0.6076680672268907, \"source?\": false}, \"C_3\": {\"accuracy\": 0.8443014705882353, \"source?\": false}}}, \"history\": {\"epoch_indices\": [1, 2, 3, 4, 5, 6, 7, 8], \"train_label_loss\": [0.7853322351595298, 0.6183393364373062, 0.41940096934004467, 0.35296194192681773, 0.34901416639207, 0.2954678306080279, 0.26942307443588065, 0.2514600241487469], \"source_val_label_loss\": [5.982849597930908, 0.5405689477920532, 0.4286940097808838, 0.4070318639278412, 0.3104730248451233, 0.2953282594680786, 0.31115615367889404, 0.3098303973674774], \"target_val_label_loss\": [419.8028259277344, 197.9577178955078, 239.9803466796875, 273.4237976074219, 393.18218994140625, 455.0758361816406, 502.52496337890625, 548.3021850585938], \"source_val_acc_label\": [0.77470703125, 0.8016927083333333, 0.8451171875, 0.8510091145833333, 0.8907552083333333, 0.8971354166666666, 0.8886067708333333, 0.8864583333333333], \"target_val_acc_label\": [0.6903658704008786, 0.6738227622185612, 0.6937808896210873, 0.7021725700164745, 0.649248352553542, 0.6530752333882482, 0.659476249313564, 0.6575542284459088]}, \"dataset_metrics\": {\"source\": {\"train\": {\"n_unique_x\": 179200, \"n_unique_y\": 16, \"n_batch/episode\": 6720}, \"val\": {\"n_unique_x\": 38400, \"n_unique_y\": 16, \"n_batch/episode\": 960}, \"test\": {\"n_unique_x\": 38400, \"n_unique_y\": 16, \"n_batch/episode\": 960}}, \"target\": {\"train\": {\"n_unique_x\": 364209, \"n_unique_y\": 130, \"n_batch/episode\": 13178}, \"val\": {\"n_unique_x\": 77265, \"n_unique_y\": 130, \"n_batch/episode\": 1821}, \"test\": {\"n_unique_x\": 78390, \"n_unique_y\": 130, \"n_batch/episode\": 1852}}}}'"
      ]
     },
     "execution_count": 29,
     "metadata": {},
     "output_type": "execute_result"
    }
   ],
   "source": [
    "json.dumps(experiment)"
   ]
  }
 ],
 "metadata": {
  "celltoolbar": "Tags",
  "kernelspec": {
   "display_name": "Python 3 (ipykernel)",
   "language": "python",
   "name": "python3"
  },
  "language_info": {
   "codemirror_mode": {
    "name": "ipython",
    "version": 3
   },
   "file_extension": ".py",
   "mimetype": "text/x-python",
   "name": "python",
   "nbconvert_exporter": "python",
   "pygments_lexer": "ipython3",
   "version": "3.8.10"
  },
  "papermill": {
   "default_parameters": {},
   "duration": 1717.463735,
   "end_time": "2022-03-19T21:02:52.376100",
   "environment_variables": {},
   "exception": null,
   "input_path": "/mnt/wd500GB/CSC500/csc500-main/csc500-notebooks/templates/tl_ptn_template.ipynb",
   "output_path": "trial.ipynb",
   "parameters": {
    "parameters": {
     "BEST_MODEL_PATH": "./best_model.pth",
     "NUM_LOGS_PER_EPOCH": 10,
     "criteria_for_best": "target_accuracy",
     "dataset_seed": 420,
     "datasets": [
      {
       "domain_prefix": "C_",
       "domains": [
        1,
        2,
        3,
        4,
        5
       ],
       "episode_transforms": [],
       "labels": [
        "1-10.",
        "1-11.",
        "1-15.",
        "1-16.",
        "1-17.",
        "1-18.",
        "1-19.",
        "10-4.",
        "10-7.",
        "11-1.",
        "11-14.",
        "11-17.",
        "11-20.",
        "11-7.",
        "13-20.",
        "13-8.",
        "14-10.",
        "14-11.",
        "14-14.",
        "14-7.",
        "15-1.",
        "15-20.",
        "16-1.",
        "16-16.",
        "17-10.",
        "17-11.",
        "17-2.",
        "19-1.",
        "19-16.",
        "19-19.",
        "19-20.",
        "19-3.",
        "2-10.",
        "2-11.",
        "2-17.",
        "2-18.",
        "2-20.",
        "2-3.",
        "2-4.",
        "2-5.",
        "2-6.",
        "2-7.",
        "2-8.",
        "3-13.",
        "3-18.",
        "3-3.",
        "4-1.",
        "4-10.",
        "4-11.",
        "4-19.",
        "5-5.",
        "6-15.",
        "7-10.",
        "7-14.",
        "8-18.",
        "8-20.",
        "8-3.",
        "8-8."
       ],
       "num_examples_per_domain_per_label": -1,
       "pickle_path": "/mnt/wd500GB/CSC500/csc500-main/datasets/cores.stratified_ds.2022A.pkl",
       "source_or_target_dataset": "target",
       "x_transforms": [
        "unit_power"
       ]
      },
      {
       "domain_prefix": "W_",
       "domains": [
        1,
        2,
        3,
        4
       ],
       "episode_transforms": [],
       "labels": [
        "1-10",
        "1-12",
        "1-14",
        "1-16",
        "1-18",
        "1-19",
        "1-8",
        "10-11",
        "10-17",
        "10-4",
        "10-7",
        "11-1",
        "11-10",
        "11-19",
        "11-20",
        "11-4",
        "11-7",
        "12-19",
        "12-20",
        "12-7",
        "13-14",
        "13-18",
        "13-19",
        "13-20",
        "13-3",
        "13-7",
        "14-10",
        "14-11",
        "14-12",
        "14-13",
        "14-14",
        "14-19",
        "14-20",
        "14-7",
        "14-8",
        "14-9",
        "15-1",
        "15-19",
        "15-6",
        "16-1",
        "16-16",
        "16-19",
        "16-20",
        "17-10",
        "17-11",
        "18-1",
        "18-10",
        "18-11",
        "18-12",
        "18-13",
        "18-14",
        "18-15",
        "18-16",
        "18-17",
        "18-19",
        "18-2",
        "18-20",
        "18-4",
        "18-5",
        "18-7",
        "18-8",
        "18-9",
        "19-1",
        "19-10",
        "19-11",
        "19-12",
        "19-13",
        "19-14",
        "19-15",
        "19-19",
        "19-2",
        "19-20",
        "19-3",
        "19-4",
        "19-6",
        "19-7",
        "19-8",
        "19-9",
        "2-1",
        "2-13",
        "2-15",
        "2-3",
        "2-4",
        "2-5",
        "2-6",
        "2-7",
        "2-8",
        "20-1",
        "20-12",
        "20-14",
        "20-15",
        "20-16",
        "20-18",
        "20-19",
        "20-20",
        "20-3",
        "20-4",
        "20-5",
        "20-7",
        "20-8",
        "3-1",
        "3-13",
        "3-18",
        "3-2",
        "3-8",
        "4-1",
        "4-10",
        "4-11",
        "5-1",
        "5-5",
        "6-1",
        "6-15",
        "6-6",
        "7-10",
        "7-11",
        "7-12",
        "7-13",
        "7-14",
        "7-7",
        "7-8",
        "7-9",
        "8-1",
        "8-13",
        "8-14",
        "8-18",
        "8-20",
        "8-3",
        "8-8",
        "9-1",
        "9-7"
       ],
       "num_examples_per_domain_per_label": -1,
       "pickle_path": "/mnt/wd500GB/CSC500/csc500-main/datasets/wisig.node3-19.stratified_ds.2022A.pkl",
       "source_or_target_dataset": "target",
       "x_transforms": [
        "unit_power"
       ]
      },
      {
       "domain_prefix": "O_",
       "domains": [
        32,
        38,
        8,
        44,
        14,
        50,
        20,
        26
       ],
       "episode_transforms": [],
       "labels": [
        "3123D52",
        "3123D65",
        "3123D79",
        "3123D80",
        "3123D54",
        "3123D70",
        "3123D7B",
        "3123D89",
        "3123D58",
        "3123D76",
        "3123D7D",
        "3123EFE",
        "3123D64",
        "3123D78",
        "3123D7E",
        "3124E4A"
       ],
       "num_examples_per_domain_per_label": 2000,
       "pickle_path": "/mnt/wd500GB/CSC500/csc500-main/datasets/oracle.Run1_framed_2000Examples_stratified_ds.2022A.pkl",
       "source_or_target_dataset": "source",
       "x_transforms": [
        "unit_power"
       ]
      }
     ],
     "device": "cuda",
     "experiment_name": "tl_2v2:oracle.run1.framed -> cores+wisig",
     "lr": 0.0001,
     "n_epoch": 50,
     "n_query": 2,
     "n_shot": 3,
     "n_way": 16,
     "patience": 3,
     "seed": 420,
     "test_k_factor": 2,
     "torch_default_dtype": "torch.float32",
     "train_k_factor": 3,
     "val_k_factor": 2,
     "x_net": [
      {
       "class": "nnReshape",
       "kargs": {
        "shape": [
         -1,
         1,
         2,
         256
        ]
       }
      },
      {
       "class": "Conv2d",
       "kargs": {
        "bias": false,
        "in_channels": 1,
        "kernel_size": [
         1,
         7
        ],
        "out_channels": 256,
        "padding": [
         0,
         3
        ]
       }
      },
      {
       "class": "ReLU",
       "kargs": {
        "inplace": true
       }
      },
      {
       "class": "BatchNorm2d",
       "kargs": {
        "num_features": 256
       }
      },
      {
       "class": "Conv2d",
       "kargs": {
        "bias": true,
        "in_channels": 256,
        "kernel_size": [
         2,
         7
        ],
        "out_channels": 80,
        "padding": [
         0,
         3
        ]
       }
      },
      {
       "class": "ReLU",
       "kargs": {
        "inplace": true
       }
      },
      {
       "class": "BatchNorm2d",
       "kargs": {
        "num_features": 80
       }
      },
      {
       "class": "Flatten",
       "kargs": {}
      },
      {
       "class": "Linear",
       "kargs": {
        "in_features": 20480,
        "out_features": 256
       }
      },
      {
       "class": "ReLU",
       "kargs": {
        "inplace": true
       }
      },
      {
       "class": "BatchNorm1d",
       "kargs": {
        "num_features": 256
       }
      },
      {
       "class": "Linear",
       "kargs": {
        "in_features": 256,
        "out_features": 256
       }
      }
     ]
    }
   },
   "start_time": "2022-03-19T20:34:14.912365",
   "version": "2.3.4"
  }
 },
 "nbformat": 4,
 "nbformat_minor": 5
}