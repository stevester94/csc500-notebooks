{
 "cells": [
  {
   "cell_type": "markdown",
   "id": "9fea5f46",
   "metadata": {
    "papermill": {
     "duration": 0.017254,
     "end_time": "2022-03-19T21:34:40.907435",
     "exception": false,
     "start_time": "2022-03-19T21:34:40.890181",
     "status": "completed"
    },
    "tags": []
   },
   "source": [
    "# Transfer Learning Template"
   ]
  },
  {
   "cell_type": "code",
   "execution_count": 1,
   "id": "0902182a",
   "metadata": {
    "execution": {
     "iopub.execute_input": "2022-03-19T21:34:40.944740Z",
     "iopub.status.busy": "2022-03-19T21:34:40.944261Z",
     "iopub.status.idle": "2022-03-19T21:34:41.857259Z",
     "shell.execute_reply": "2022-03-19T21:34:41.856934Z"
    },
    "papermill": {
     "duration": 0.937448,
     "end_time": "2022-03-19T21:34:41.857328",
     "exception": false,
     "start_time": "2022-03-19T21:34:40.919880",
     "status": "completed"
    },
    "tags": []
   },
   "outputs": [],
   "source": [
    "%load_ext autoreload\n",
    "%autoreload 2\n",
    "%matplotlib inline\n",
    "\n",
    "    \n",
    "import os, json, sys, time, random\n",
    "import numpy as np\n",
    "import torch\n",
    "from torch.optim import Adam\n",
    "from  easydict import EasyDict\n",
    "import matplotlib.pyplot as plt\n",
    "\n",
    "from steves_models.steves_ptn import Steves_Prototypical_Network\n",
    "\n",
    "from steves_utils.lazy_iterable_wrapper import Lazy_Iterable_Wrapper\n",
    "from steves_utils.iterable_aggregator import Iterable_Aggregator\n",
    "from steves_utils.ptn_train_eval_test_jig import  PTN_Train_Eval_Test_Jig\n",
    "from steves_utils.torch_sequential_builder import build_sequential\n",
    "from steves_utils.torch_utils import get_dataset_metrics, ptn_confusion_by_domain_over_dataloader\n",
    "from steves_utils.utils_v2 import (per_domain_accuracy_from_confusion, get_datasets_base_path)\n",
    "from steves_utils.PTN.utils import independent_accuracy_assesment\n",
    "\n",
    "from torch.utils.data import DataLoader\n",
    "\n",
    "from steves_utils.stratified_dataset.episodic_accessor import Episodic_Accessor_Factory\n",
    "\n",
    "from steves_utils.ptn_do_report import (\n",
    "    get_loss_curve,\n",
    "    get_results_table,\n",
    "    get_parameters_table,\n",
    "    get_domain_accuracies,\n",
    ")\n",
    "\n",
    "from steves_utils.transforms import get_chained_transform"
   ]
  },
  {
   "cell_type": "markdown",
   "id": "41c840b4",
   "metadata": {
    "papermill": {
     "duration": 0.01322,
     "end_time": "2022-03-19T21:34:41.884207",
     "exception": false,
     "start_time": "2022-03-19T21:34:41.870987",
     "status": "completed"
    },
    "tags": []
   },
   "source": [
    "# Allowed Parameters\n",
    "These are allowed parameters, not defaults\n",
    "Each of these values need to be present in the injected parameters (the notebook will raise an exception if they are not present)\n",
    "\n",
    "Papermill uses the cell tag \"parameters\" to inject the real parameters below this cell.\n",
    "Enable tags to see what I mean"
   ]
  },
  {
   "cell_type": "code",
   "execution_count": 2,
   "id": "fd44eb83",
   "metadata": {
    "execution": {
     "iopub.execute_input": "2022-03-19T21:34:41.912123Z",
     "iopub.status.busy": "2022-03-19T21:34:41.911868Z",
     "iopub.status.idle": "2022-03-19T21:34:41.922879Z",
     "shell.execute_reply": "2022-03-19T21:34:41.922579Z"
    },
    "papermill": {
     "duration": 0.02552,
     "end_time": "2022-03-19T21:34:41.922949",
     "exception": false,
     "start_time": "2022-03-19T21:34:41.897429",
     "status": "completed"
    },
    "tags": []
   },
   "outputs": [],
   "source": [
    "required_parameters = {\n",
    "    \"experiment_name\",\n",
    "    \"lr\",\n",
    "    \"device\",\n",
    "    \"seed\",\n",
    "    \"dataset_seed\",\n",
    "    \"n_shot\",\n",
    "    \"n_query\",\n",
    "    \"n_way\",\n",
    "    \"train_k_factor\",\n",
    "    \"val_k_factor\",\n",
    "    \"test_k_factor\",\n",
    "    \"n_epoch\",\n",
    "    \"patience\",\n",
    "    \"criteria_for_best\",\n",
    "    \"x_net\",\n",
    "    \"datasets\",\n",
    "    \"torch_default_dtype\",\n",
    "    \"NUM_LOGS_PER_EPOCH\",\n",
    "    \"BEST_MODEL_PATH\",\n",
    "    \"x_shape\",\n",
    "}"
   ]
  },
  {
   "cell_type": "code",
   "execution_count": 3,
   "id": "fa3f0049",
   "metadata": {
    "execution": {
     "iopub.execute_input": "2022-03-19T21:34:41.962661Z",
     "iopub.status.busy": "2022-03-19T21:34:41.955361Z",
     "iopub.status.idle": "2022-03-19T21:34:41.974971Z",
     "shell.execute_reply": "2022-03-19T21:34:41.974526Z"
    },
    "papermill": {
     "duration": 0.033873,
     "end_time": "2022-03-19T21:34:41.975059",
     "exception": false,
     "start_time": "2022-03-19T21:34:41.941186",
     "status": "completed"
    },
    "tags": [
     "parameters"
    ]
   },
   "outputs": [],
   "source": [
    "from steves_utils.CORES.utils import (\n",
    "    ALL_NODES,\n",
    "    ALL_NODES_MINIMUM_1000_EXAMPLES,\n",
    "    ALL_DAYS\n",
    ")\n",
    "\n",
    "from steves_utils.ORACLE.utils_v2 import (\n",
    "    ALL_DISTANCES_FEET_NARROWED,\n",
    "    ALL_RUNS,\n",
    "    ALL_SERIAL_NUMBERS,\n",
    ")\n",
    "\n",
    "standalone_parameters = {}\n",
    "standalone_parameters[\"experiment_name\"] = \"STANDALONE PTN\"\n",
    "standalone_parameters[\"lr\"] = 0.001\n",
    "standalone_parameters[\"device\"] = \"cuda\"\n",
    "\n",
    "standalone_parameters[\"seed\"] = 1337\n",
    "standalone_parameters[\"dataset_seed\"] = 1337\n",
    "\n",
    "standalone_parameters[\"n_way\"] = 8\n",
    "standalone_parameters[\"n_shot\"] = 3\n",
    "standalone_parameters[\"n_query\"]  = 2\n",
    "standalone_parameters[\"train_k_factor\"] = 1\n",
    "standalone_parameters[\"val_k_factor\"] = 2\n",
    "standalone_parameters[\"test_k_factor\"] = 2\n",
    "\n",
    "\n",
    "standalone_parameters[\"n_epoch\"] = 50\n",
    "\n",
    "standalone_parameters[\"patience\"] = 10\n",
    "standalone_parameters[\"criteria_for_best\"] = \"source_loss\"\n",
    "\n",
    "standalone_parameters[\"datasets\"] = [\n",
    "    {\n",
    "        \"labels\": ALL_SERIAL_NUMBERS,\n",
    "        \"domains\": ALL_DISTANCES_FEET_NARROWED,\n",
    "        \"num_examples_per_domain_per_label\": 100,\n",
    "        \"pickle_path\": os.path.join(get_datasets_base_path(), \"oracle.Run1_framed_2000Examples_stratified_ds.2022A.pkl\"),\n",
    "        \"source_or_target_dataset\": \"source\",\n",
    "        \"x_transforms\": [\"unit_mag\", \"minus_two\"],\n",
    "        \"episode_transforms\": [],\n",
    "        \"domain_prefix\": \"ORACLE_\"\n",
    "    },\n",
    "    {\n",
    "        \"labels\": ALL_NODES,\n",
    "        \"domains\": ALL_DAYS,\n",
    "        \"num_examples_per_domain_per_label\": 100,\n",
    "        \"pickle_path\": os.path.join(get_datasets_base_path(), \"cores.stratified_ds.2022A.pkl\"),\n",
    "        \"source_or_target_dataset\": \"target\",\n",
    "        \"x_transforms\": [\"unit_power\", \"times_zero\"],\n",
    "        \"episode_transforms\": [],\n",
    "        \"domain_prefix\": \"CORES_\"\n",
    "    }   \n",
    "]\n",
    "\n",
    "standalone_parameters[\"torch_default_dtype\"] = \"torch.float32\" \n",
    "\n",
    "\n",
    "\n",
    "standalone_parameters[\"x_net\"] =     [\n",
    "    {\"class\": \"nnReshape\", \"kargs\": {\"shape\":[-1, 1, 2, 256]}},\n",
    "    {\"class\": \"Conv2d\", \"kargs\": { \"in_channels\":1, \"out_channels\":256, \"kernel_size\":(1,7), \"bias\":False, \"padding\":(0,3), },},\n",
    "    {\"class\": \"ReLU\", \"kargs\": {\"inplace\": True}},\n",
    "    {\"class\": \"BatchNorm2d\", \"kargs\": {\"num_features\":256}},\n",
    "\n",
    "    {\"class\": \"Conv2d\", \"kargs\": { \"in_channels\":256, \"out_channels\":80, \"kernel_size\":(2,7), \"bias\":True, \"padding\":(0,3), },},\n",
    "    {\"class\": \"ReLU\", \"kargs\": {\"inplace\": True}},\n",
    "    {\"class\": \"BatchNorm2d\", \"kargs\": {\"num_features\":80}},\n",
    "    {\"class\": \"Flatten\", \"kargs\": {}},\n",
    "\n",
    "    {\"class\": \"Linear\", \"kargs\": {\"in_features\": 80*256, \"out_features\": 256}}, # 80 units per IQ pair\n",
    "    {\"class\": \"ReLU\", \"kargs\": {\"inplace\": True}},\n",
    "    {\"class\": \"BatchNorm1d\", \"kargs\": {\"num_features\":256}},\n",
    "\n",
    "    {\"class\": \"Linear\", \"kargs\": {\"in_features\": 256, \"out_features\": 256}},\n",
    "]\n",
    "\n",
    "# Parameters relevant to results\n",
    "# These parameters will basically never need to change\n",
    "standalone_parameters[\"NUM_LOGS_PER_EPOCH\"] = 10\n",
    "standalone_parameters[\"BEST_MODEL_PATH\"] = \"./best_model.pth\"\n",
    "\n",
    "\n",
    "\n",
    "\n"
   ]
  },
  {
   "cell_type": "code",
   "execution_count": 4,
   "id": "7eda877f",
   "metadata": {
    "execution": {
     "iopub.execute_input": "2022-03-19T21:34:42.019345Z",
     "iopub.status.busy": "2022-03-19T21:34:42.019017Z",
     "iopub.status.idle": "2022-03-19T21:34:42.032353Z",
     "shell.execute_reply": "2022-03-19T21:34:42.031925Z"
    },
    "papermill": {
     "duration": 0.039066,
     "end_time": "2022-03-19T21:34:42.032441",
     "exception": false,
     "start_time": "2022-03-19T21:34:41.993375",
     "status": "completed"
    },
    "tags": [
     "injected-parameters"
    ]
   },
   "outputs": [],
   "source": [
    "# Parameters\n",
    "parameters = {\n",
    "    \"experiment_name\": \"tl_2v2:oracle.run1.framed -> cores+wisig\",\n",
    "    \"device\": \"cuda\",\n",
    "    \"lr\": 0.0001,\n",
    "    \"n_shot\": 3,\n",
    "    \"n_query\": 2,\n",
    "    \"train_k_factor\": 3,\n",
    "    \"val_k_factor\": 2,\n",
    "    \"test_k_factor\": 2,\n",
    "    \"torch_default_dtype\": \"torch.float32\",\n",
    "    \"n_epoch\": 50,\n",
    "    \"patience\": 3,\n",
    "    \"criteria_for_best\": \"target_accuracy\",\n",
    "    \"x_net\": [\n",
    "        {\"class\": \"nnReshape\", \"kargs\": {\"shape\": [-1, 1, 2, 256]}},\n",
    "        {\n",
    "            \"class\": \"Conv2d\",\n",
    "            \"kargs\": {\n",
    "                \"in_channels\": 1,\n",
    "                \"out_channels\": 256,\n",
    "                \"kernel_size\": [1, 7],\n",
    "                \"bias\": False,\n",
    "                \"padding\": [0, 3],\n",
    "            },\n",
    "        },\n",
    "        {\"class\": \"ReLU\", \"kargs\": {\"inplace\": True}},\n",
    "        {\"class\": \"BatchNorm2d\", \"kargs\": {\"num_features\": 256}},\n",
    "        {\n",
    "            \"class\": \"Conv2d\",\n",
    "            \"kargs\": {\n",
    "                \"in_channels\": 256,\n",
    "                \"out_channels\": 80,\n",
    "                \"kernel_size\": [2, 7],\n",
    "                \"bias\": True,\n",
    "                \"padding\": [0, 3],\n",
    "            },\n",
    "        },\n",
    "        {\"class\": \"ReLU\", \"kargs\": {\"inplace\": True}},\n",
    "        {\"class\": \"BatchNorm2d\", \"kargs\": {\"num_features\": 80}},\n",
    "        {\"class\": \"Flatten\", \"kargs\": {}},\n",
    "        {\"class\": \"Linear\", \"kargs\": {\"in_features\": 20480, \"out_features\": 256}},\n",
    "        {\"class\": \"ReLU\", \"kargs\": {\"inplace\": True}},\n",
    "        {\"class\": \"BatchNorm1d\", \"kargs\": {\"num_features\": 256}},\n",
    "        {\"class\": \"Linear\", \"kargs\": {\"in_features\": 256, \"out_features\": 256}},\n",
    "    ],\n",
    "    \"NUM_LOGS_PER_EPOCH\": 10,\n",
    "    \"BEST_MODEL_PATH\": \"./best_model.pth\",\n",
    "    \"n_way\": 16,\n",
    "    \"datasets\": [\n",
    "        {\n",
    "            \"labels\": [\n",
    "                \"1-10.\",\n",
    "                \"1-11.\",\n",
    "                \"1-15.\",\n",
    "                \"1-16.\",\n",
    "                \"1-17.\",\n",
    "                \"1-18.\",\n",
    "                \"1-19.\",\n",
    "                \"10-4.\",\n",
    "                \"10-7.\",\n",
    "                \"11-1.\",\n",
    "                \"11-14.\",\n",
    "                \"11-17.\",\n",
    "                \"11-20.\",\n",
    "                \"11-7.\",\n",
    "                \"13-20.\",\n",
    "                \"13-8.\",\n",
    "                \"14-10.\",\n",
    "                \"14-11.\",\n",
    "                \"14-14.\",\n",
    "                \"14-7.\",\n",
    "                \"15-1.\",\n",
    "                \"15-20.\",\n",
    "                \"16-1.\",\n",
    "                \"16-16.\",\n",
    "                \"17-10.\",\n",
    "                \"17-11.\",\n",
    "                \"17-2.\",\n",
    "                \"19-1.\",\n",
    "                \"19-16.\",\n",
    "                \"19-19.\",\n",
    "                \"19-20.\",\n",
    "                \"19-3.\",\n",
    "                \"2-10.\",\n",
    "                \"2-11.\",\n",
    "                \"2-17.\",\n",
    "                \"2-18.\",\n",
    "                \"2-20.\",\n",
    "                \"2-3.\",\n",
    "                \"2-4.\",\n",
    "                \"2-5.\",\n",
    "                \"2-6.\",\n",
    "                \"2-7.\",\n",
    "                \"2-8.\",\n",
    "                \"3-13.\",\n",
    "                \"3-18.\",\n",
    "                \"3-3.\",\n",
    "                \"4-1.\",\n",
    "                \"4-10.\",\n",
    "                \"4-11.\",\n",
    "                \"4-19.\",\n",
    "                \"5-5.\",\n",
    "                \"6-15.\",\n",
    "                \"7-10.\",\n",
    "                \"7-14.\",\n",
    "                \"8-18.\",\n",
    "                \"8-20.\",\n",
    "                \"8-3.\",\n",
    "                \"8-8.\",\n",
    "            ],\n",
    "            \"domains\": [1, 2, 3, 4, 5],\n",
    "            \"num_examples_per_domain_per_label\": -1,\n",
    "            \"pickle_path\": \"/mnt/wd500GB/CSC500/csc500-main/datasets/cores.stratified_ds.2022A.pkl\",\n",
    "            \"source_or_target_dataset\": \"target\",\n",
    "            \"x_transforms\": [],\n",
    "            \"episode_transforms\": [],\n",
    "            \"domain_prefix\": \"C_\",\n",
    "        },\n",
    "        {\n",
    "            \"labels\": [\n",
    "                \"1-10\",\n",
    "                \"1-12\",\n",
    "                \"1-14\",\n",
    "                \"1-16\",\n",
    "                \"1-18\",\n",
    "                \"1-19\",\n",
    "                \"1-8\",\n",
    "                \"10-11\",\n",
    "                \"10-17\",\n",
    "                \"10-4\",\n",
    "                \"10-7\",\n",
    "                \"11-1\",\n",
    "                \"11-10\",\n",
    "                \"11-19\",\n",
    "                \"11-20\",\n",
    "                \"11-4\",\n",
    "                \"11-7\",\n",
    "                \"12-19\",\n",
    "                \"12-20\",\n",
    "                \"12-7\",\n",
    "                \"13-14\",\n",
    "                \"13-18\",\n",
    "                \"13-19\",\n",
    "                \"13-20\",\n",
    "                \"13-3\",\n",
    "                \"13-7\",\n",
    "                \"14-10\",\n",
    "                \"14-11\",\n",
    "                \"14-12\",\n",
    "                \"14-13\",\n",
    "                \"14-14\",\n",
    "                \"14-19\",\n",
    "                \"14-20\",\n",
    "                \"14-7\",\n",
    "                \"14-8\",\n",
    "                \"14-9\",\n",
    "                \"15-1\",\n",
    "                \"15-19\",\n",
    "                \"15-6\",\n",
    "                \"16-1\",\n",
    "                \"16-16\",\n",
    "                \"16-19\",\n",
    "                \"16-20\",\n",
    "                \"17-10\",\n",
    "                \"17-11\",\n",
    "                \"18-1\",\n",
    "                \"18-10\",\n",
    "                \"18-11\",\n",
    "                \"18-12\",\n",
    "                \"18-13\",\n",
    "                \"18-14\",\n",
    "                \"18-15\",\n",
    "                \"18-16\",\n",
    "                \"18-17\",\n",
    "                \"18-19\",\n",
    "                \"18-2\",\n",
    "                \"18-20\",\n",
    "                \"18-4\",\n",
    "                \"18-5\",\n",
    "                \"18-7\",\n",
    "                \"18-8\",\n",
    "                \"18-9\",\n",
    "                \"19-1\",\n",
    "                \"19-10\",\n",
    "                \"19-11\",\n",
    "                \"19-12\",\n",
    "                \"19-13\",\n",
    "                \"19-14\",\n",
    "                \"19-15\",\n",
    "                \"19-19\",\n",
    "                \"19-2\",\n",
    "                \"19-20\",\n",
    "                \"19-3\",\n",
    "                \"19-4\",\n",
    "                \"19-6\",\n",
    "                \"19-7\",\n",
    "                \"19-8\",\n",
    "                \"19-9\",\n",
    "                \"2-1\",\n",
    "                \"2-13\",\n",
    "                \"2-15\",\n",
    "                \"2-3\",\n",
    "                \"2-4\",\n",
    "                \"2-5\",\n",
    "                \"2-6\",\n",
    "                \"2-7\",\n",
    "                \"2-8\",\n",
    "                \"20-1\",\n",
    "                \"20-12\",\n",
    "                \"20-14\",\n",
    "                \"20-15\",\n",
    "                \"20-16\",\n",
    "                \"20-18\",\n",
    "                \"20-19\",\n",
    "                \"20-20\",\n",
    "                \"20-3\",\n",
    "                \"20-4\",\n",
    "                \"20-5\",\n",
    "                \"20-7\",\n",
    "                \"20-8\",\n",
    "                \"3-1\",\n",
    "                \"3-13\",\n",
    "                \"3-18\",\n",
    "                \"3-2\",\n",
    "                \"3-8\",\n",
    "                \"4-1\",\n",
    "                \"4-10\",\n",
    "                \"4-11\",\n",
    "                \"5-1\",\n",
    "                \"5-5\",\n",
    "                \"6-1\",\n",
    "                \"6-15\",\n",
    "                \"6-6\",\n",
    "                \"7-10\",\n",
    "                \"7-11\",\n",
    "                \"7-12\",\n",
    "                \"7-13\",\n",
    "                \"7-14\",\n",
    "                \"7-7\",\n",
    "                \"7-8\",\n",
    "                \"7-9\",\n",
    "                \"8-1\",\n",
    "                \"8-13\",\n",
    "                \"8-14\",\n",
    "                \"8-18\",\n",
    "                \"8-20\",\n",
    "                \"8-3\",\n",
    "                \"8-8\",\n",
    "                \"9-1\",\n",
    "                \"9-7\",\n",
    "            ],\n",
    "            \"domains\": [1, 2, 3, 4],\n",
    "            \"num_examples_per_domain_per_label\": -1,\n",
    "            \"pickle_path\": \"/mnt/wd500GB/CSC500/csc500-main/datasets/wisig.node3-19.stratified_ds.2022A.pkl\",\n",
    "            \"source_or_target_dataset\": \"target\",\n",
    "            \"x_transforms\": [],\n",
    "            \"episode_transforms\": [],\n",
    "            \"domain_prefix\": \"W_\",\n",
    "        },\n",
    "        {\n",
    "            \"labels\": [\n",
    "                \"3123D52\",\n",
    "                \"3123D65\",\n",
    "                \"3123D79\",\n",
    "                \"3123D80\",\n",
    "                \"3123D54\",\n",
    "                \"3123D70\",\n",
    "                \"3123D7B\",\n",
    "                \"3123D89\",\n",
    "                \"3123D58\",\n",
    "                \"3123D76\",\n",
    "                \"3123D7D\",\n",
    "                \"3123EFE\",\n",
    "                \"3123D64\",\n",
    "                \"3123D78\",\n",
    "                \"3123D7E\",\n",
    "                \"3124E4A\",\n",
    "            ],\n",
    "            \"domains\": [32, 38, 8, 44, 14, 50, 20, 26],\n",
    "            \"num_examples_per_domain_per_label\": 2000,\n",
    "            \"pickle_path\": \"/mnt/wd500GB/CSC500/csc500-main/datasets/oracle.Run1_framed_2000Examples_stratified_ds.2022A.pkl\",\n",
    "            \"source_or_target_dataset\": \"source\",\n",
    "            \"x_transforms\": [],\n",
    "            \"episode_transforms\": [],\n",
    "            \"domain_prefix\": \"O_\",\n",
    "        },\n",
    "    ],\n",
    "    \"seed\": 420,\n",
    "    \"dataset_seed\": 420,\n",
    "}\n"
   ]
  },
  {
   "cell_type": "code",
   "execution_count": 5,
   "id": "8fa1cc33",
   "metadata": {
    "execution": {
     "iopub.execute_input": "2022-03-19T21:34:42.075944Z",
     "iopub.status.busy": "2022-03-19T21:34:42.069145Z",
     "iopub.status.idle": "2022-03-19T21:34:42.082656Z",
     "shell.execute_reply": "2022-03-19T21:34:42.082128Z"
    },
    "papermill": {
     "duration": 0.032531,
     "end_time": "2022-03-19T21:34:42.082760",
     "exception": false,
     "start_time": "2022-03-19T21:34:42.050229",
     "status": "completed"
    },
    "tags": []
   },
   "outputs": [],
   "source": [
    "# Set this to True if you want to run this template directly\n",
    "STANDALONE = False\n",
    "if STANDALONE:\n",
    "    print(\"parameters not injected, running with standalone_parameters\")\n",
    "    parameters = standalone_parameters\n",
    "\n",
    "if not 'parameters' in locals() and not 'parameters' in globals():\n",
    "    raise Exception(\"Parameter injection failed\")\n",
    "\n",
    "#Use an easy dict for all the parameters\n",
    "p = EasyDict(parameters)\n",
    "\n",
    "if \"x_shape\" not in p:\n",
    "    p.x_shape = [2,256] # Default to this if we dont supply x_shape\n",
    "\n",
    "\n",
    "supplied_keys = set(p.keys())\n",
    "\n",
    "if  supplied_keys != required_parameters:\n",
    "    print(\"Parameters are incorrect\")\n",
    "    if len(supplied_keys - required_parameters)>0: print(\"Shouldn't have:\", str(supplied_keys - required_parameters))\n",
    "    if len(required_parameters - supplied_keys)>0: print(\"Need to have:\", str(required_parameters - supplied_keys))\n",
    "    raise RuntimeError(\"Parameters are incorrect\")"
   ]
  },
  {
   "cell_type": "code",
   "execution_count": 6,
   "id": "3a028d58",
   "metadata": {
    "execution": {
     "iopub.execute_input": "2022-03-19T21:34:42.114798Z",
     "iopub.status.busy": "2022-03-19T21:34:42.114545Z",
     "iopub.status.idle": "2022-03-19T21:34:42.129363Z",
     "shell.execute_reply": "2022-03-19T21:34:42.128844Z"
    },
    "papermill": {
     "duration": 0.029754,
     "end_time": "2022-03-19T21:34:42.129466",
     "exception": false,
     "start_time": "2022-03-19T21:34:42.099712",
     "status": "completed"
    },
    "tags": []
   },
   "outputs": [],
   "source": [
    "###################################\n",
    "# Set the RNGs and make it all deterministic\n",
    "###################################\n",
    "np.random.seed(p.seed)\n",
    "random.seed(p.seed)\n",
    "torch.manual_seed(p.seed)\n",
    "\n",
    "torch.use_deterministic_algorithms(True) "
   ]
  },
  {
   "cell_type": "code",
   "execution_count": 7,
   "id": "b691acf6",
   "metadata": {
    "execution": {
     "iopub.execute_input": "2022-03-19T21:34:42.161918Z",
     "iopub.status.busy": "2022-03-19T21:34:42.161611Z",
     "iopub.status.idle": "2022-03-19T21:34:42.172204Z",
     "shell.execute_reply": "2022-03-19T21:34:42.171956Z"
    },
    "papermill": {
     "duration": 0.025243,
     "end_time": "2022-03-19T21:34:42.172297",
     "exception": false,
     "start_time": "2022-03-19T21:34:42.147054",
     "status": "completed"
    },
    "tags": []
   },
   "outputs": [],
   "source": [
    "###########################################\n",
    "# The stratified datasets honor this\n",
    "###########################################\n",
    "torch.set_default_dtype(eval(p.torch_default_dtype))"
   ]
  },
  {
   "cell_type": "code",
   "execution_count": 8,
   "id": "b5fba671",
   "metadata": {
    "execution": {
     "iopub.execute_input": "2022-03-19T21:34:42.208347Z",
     "iopub.status.busy": "2022-03-19T21:34:42.204448Z",
     "iopub.status.idle": "2022-03-19T21:34:42.242130Z",
     "shell.execute_reply": "2022-03-19T21:34:42.241679Z"
    },
    "papermill": {
     "duration": 0.051706,
     "end_time": "2022-03-19T21:34:42.242221",
     "exception": false,
     "start_time": "2022-03-19T21:34:42.190515",
     "status": "completed"
    },
    "tags": []
   },
   "outputs": [],
   "source": [
    "###################################\n",
    "# Build the network(s)\n",
    "# Note: It's critical to do this AFTER setting the RNG\n",
    "###################################\n",
    "x_net = build_sequential(p.x_net)"
   ]
  },
  {
   "cell_type": "code",
   "execution_count": 9,
   "id": "5d7e61cc",
   "metadata": {
    "execution": {
     "iopub.execute_input": "2022-03-19T21:34:42.275151Z",
     "iopub.status.busy": "2022-03-19T21:34:42.274600Z",
     "iopub.status.idle": "2022-03-19T21:34:42.285870Z",
     "shell.execute_reply": "2022-03-19T21:34:42.285410Z"
    },
    "papermill": {
     "duration": 0.026005,
     "end_time": "2022-03-19T21:34:42.285963",
     "exception": false,
     "start_time": "2022-03-19T21:34:42.259958",
     "status": "completed"
    },
    "tags": []
   },
   "outputs": [],
   "source": [
    "start_time_secs = time.time()"
   ]
  },
  {
   "cell_type": "code",
   "execution_count": 10,
   "id": "c6b67dfd",
   "metadata": {
    "execution": {
     "iopub.execute_input": "2022-03-19T21:34:42.318577Z",
     "iopub.status.busy": "2022-03-19T21:34:42.318305Z",
     "iopub.status.idle": "2022-03-19T21:34:42.327996Z",
     "shell.execute_reply": "2022-03-19T21:34:42.328205Z"
    },
    "papermill": {
     "duration": 0.024661,
     "end_time": "2022-03-19T21:34:42.328266",
     "exception": false,
     "start_time": "2022-03-19T21:34:42.303605",
     "status": "completed"
    },
    "tags": []
   },
   "outputs": [],
   "source": [
    "p.domains_source = []\n",
    "p.domains_target = []\n",
    "\n",
    "\n",
    "train_original_source = []\n",
    "val_original_source   = []\n",
    "test_original_source  = []\n",
    "\n",
    "train_original_target = []\n",
    "val_original_target   = []\n",
    "test_original_target  = []"
   ]
  },
  {
   "cell_type": "code",
   "execution_count": 11,
   "id": "e3d9c3d3",
   "metadata": {
    "execution": {
     "iopub.execute_input": "2022-03-19T21:34:42.361281Z",
     "iopub.status.busy": "2022-03-19T21:34:42.361024Z",
     "iopub.status.idle": "2022-03-19T21:34:42.371088Z",
     "shell.execute_reply": "2022-03-19T21:34:42.370777Z"
    },
    "papermill": {
     "duration": 0.024352,
     "end_time": "2022-03-19T21:34:42.371161",
     "exception": false,
     "start_time": "2022-03-19T21:34:42.346809",
     "status": "completed"
    },
    "tags": []
   },
   "outputs": [],
   "source": [
    "# global_x_transform_func = lambda x: normalize(x.to(torch.get_default_dtype()), \"unit_power\") # unit_power, unit_mag\n",
    "# global_x_transform_func = lambda x: normalize(x, \"unit_power\") # unit_power, unit_mag"
   ]
  },
  {
   "cell_type": "code",
   "execution_count": 12,
   "id": "acb78fd2",
   "metadata": {
    "execution": {
     "iopub.execute_input": "2022-03-19T21:34:42.404380Z",
     "iopub.status.busy": "2022-03-19T21:34:42.404105Z",
     "iopub.status.idle": "2022-03-19T21:34:42.415204Z",
     "shell.execute_reply": "2022-03-19T21:34:42.414822Z"
    },
    "papermill": {
     "duration": 0.028526,
     "end_time": "2022-03-19T21:34:42.415312",
     "exception": false,
     "start_time": "2022-03-19T21:34:42.386786",
     "status": "completed"
    },
    "tags": []
   },
   "outputs": [],
   "source": [
    "def add_dataset(\n",
    "    labels,\n",
    "    domains,\n",
    "    pickle_path,\n",
    "    x_transforms,\n",
    "    episode_transforms,\n",
    "    domain_prefix,\n",
    "    num_examples_per_domain_per_label,\n",
    "    source_or_target_dataset:str,\n",
    "    iterator_seed=p.seed,\n",
    "    dataset_seed=p.dataset_seed,\n",
    "    n_shot=p.n_shot,\n",
    "    n_way=p.n_way,\n",
    "    n_query=p.n_query,\n",
    "    train_val_test_k_factors=(p.train_k_factor,p.val_k_factor,p.test_k_factor),\n",
    "):\n",
    "   \n",
    "    if x_transforms == []: x_transform = None\n",
    "    else: x_transform = get_chained_transform(x_transforms)\n",
    "    \n",
    "    if episode_transforms == []: episode_transform = None\n",
    "    else: raise Exception(\"episode_transforms not implemented\")\n",
    "    \n",
    "    episode_transform = lambda tup, _prefix=domain_prefix: (_prefix + str(tup[0]), tup[1])\n",
    "\n",
    "\n",
    "    eaf = Episodic_Accessor_Factory(\n",
    "        labels=labels,\n",
    "        domains=domains,\n",
    "        num_examples_per_domain_per_label=num_examples_per_domain_per_label,\n",
    "        iterator_seed=iterator_seed,\n",
    "        dataset_seed=dataset_seed,\n",
    "        n_shot=n_shot,\n",
    "        n_way=n_way,\n",
    "        n_query=n_query,\n",
    "        train_val_test_k_factors=train_val_test_k_factors,\n",
    "        pickle_path=pickle_path,\n",
    "        x_transform_func=x_transform,\n",
    "    )\n",
    "\n",
    "    train, val, test = eaf.get_train(), eaf.get_val(), eaf.get_test()\n",
    "    train = Lazy_Iterable_Wrapper(train, episode_transform)\n",
    "    val = Lazy_Iterable_Wrapper(val, episode_transform)\n",
    "    test = Lazy_Iterable_Wrapper(test, episode_transform)\n",
    "\n",
    "    if source_or_target_dataset==\"source\":\n",
    "        train_original_source.append(train)\n",
    "        val_original_source.append(val)\n",
    "        test_original_source.append(test)\n",
    "\n",
    "        p.domains_source.extend(\n",
    "            [domain_prefix + str(u) for u in domains]\n",
    "        )\n",
    "    elif source_or_target_dataset==\"target\":\n",
    "        train_original_target.append(train)\n",
    "        val_original_target.append(val)\n",
    "        test_original_target.append(test)\n",
    "        p.domains_target.extend(\n",
    "            [domain_prefix + str(u) for u in domains]\n",
    "        )\n",
    "    else:\n",
    "        raise Exception(f\"invalid source_or_target_dataset: {source_or_target_dataset}\")\n",
    "    "
   ]
  },
  {
   "cell_type": "code",
   "execution_count": 13,
   "id": "fe266617",
   "metadata": {
    "execution": {
     "iopub.execute_input": "2022-03-19T21:34:42.446988Z",
     "iopub.status.busy": "2022-03-19T21:34:42.446728Z",
     "iopub.status.idle": "2022-03-19T21:34:45.860524Z",
     "shell.execute_reply": "2022-03-19T21:34:45.860102Z"
    },
    "papermill": {
     "duration": 3.428524,
     "end_time": "2022-03-19T21:34:45.860628",
     "exception": false,
     "start_time": "2022-03-19T21:34:42.432104",
     "status": "completed"
    },
    "tags": []
   },
   "outputs": [],
   "source": [
    "for ds in p.datasets:\n",
    "    add_dataset(**ds)"
   ]
  },
  {
   "cell_type": "code",
   "execution_count": 14,
   "id": "b90d65ac",
   "metadata": {
    "execution": {
     "iopub.execute_input": "2022-03-19T21:34:45.895352Z",
     "iopub.status.busy": "2022-03-19T21:34:45.895072Z",
     "iopub.status.idle": "2022-03-19T21:34:45.910192Z",
     "shell.execute_reply": "2022-03-19T21:34:45.909742Z"
    },
    "papermill": {
     "duration": 0.03093,
     "end_time": "2022-03-19T21:34:45.910284",
     "exception": false,
     "start_time": "2022-03-19T21:34:45.879354",
     "status": "completed"
    },
    "tags": []
   },
   "outputs": [],
   "source": [
    "# from steves_utils.CORES.utils import (\n",
    "#     ALL_NODES,\n",
    "#     ALL_NODES_MINIMUM_1000_EXAMPLES,\n",
    "#     ALL_DAYS\n",
    "# )\n",
    "\n",
    "# add_dataset(\n",
    "#     labels=ALL_NODES,\n",
    "#     domains = ALL_DAYS,\n",
    "#     num_examples_per_domain_per_label=100,\n",
    "#     pickle_path=os.path.join(get_datasets_base_path(), \"cores.stratified_ds.2022A.pkl\"),\n",
    "#     source_or_target_dataset=\"target\",\n",
    "#     x_transform_func=global_x_transform_func,\n",
    "#     domain_modifier=lambda u: f\"cores_{u}\"\n",
    "# )"
   ]
  },
  {
   "cell_type": "code",
   "execution_count": 15,
   "id": "76db484d",
   "metadata": {
    "execution": {
     "iopub.execute_input": "2022-03-19T21:34:45.941680Z",
     "iopub.status.busy": "2022-03-19T21:34:45.940745Z",
     "iopub.status.idle": "2022-03-19T21:34:45.956246Z",
     "shell.execute_reply": "2022-03-19T21:34:45.956609Z"
    },
    "papermill": {
     "duration": 0.030503,
     "end_time": "2022-03-19T21:34:45.956717",
     "exception": false,
     "start_time": "2022-03-19T21:34:45.926214",
     "status": "completed"
    },
    "tags": []
   },
   "outputs": [],
   "source": [
    "# from steves_utils.ORACLE.utils_v2 import (\n",
    "#     ALL_DISTANCES_FEET,\n",
    "#     ALL_RUNS,\n",
    "#     ALL_SERIAL_NUMBERS,\n",
    "# )\n",
    "\n",
    "\n",
    "# add_dataset(\n",
    "#     labels=ALL_SERIAL_NUMBERS,\n",
    "#     domains = list(set(ALL_DISTANCES_FEET) - {2,62}),\n",
    "#     num_examples_per_domain_per_label=100,\n",
    "#     pickle_path=os.path.join(get_datasets_base_path(), \"oracle.Run2_framed_2000Examples_stratified_ds.2022A.pkl\"),\n",
    "#     source_or_target_dataset=\"source\",\n",
    "#     x_transform_func=global_x_transform_func,\n",
    "#     domain_modifier=lambda u: f\"oracle1_{u}\"\n",
    "# )\n"
   ]
  },
  {
   "cell_type": "code",
   "execution_count": 16,
   "id": "97dea9d2",
   "metadata": {
    "execution": {
     "iopub.execute_input": "2022-03-19T21:34:45.991800Z",
     "iopub.status.busy": "2022-03-19T21:34:45.991306Z",
     "iopub.status.idle": "2022-03-19T21:34:46.005778Z",
     "shell.execute_reply": "2022-03-19T21:34:46.005361Z"
    },
    "papermill": {
     "duration": 0.030649,
     "end_time": "2022-03-19T21:34:46.005869",
     "exception": false,
     "start_time": "2022-03-19T21:34:45.975220",
     "status": "completed"
    },
    "tags": []
   },
   "outputs": [],
   "source": [
    "# from steves_utils.ORACLE.utils_v2 import (\n",
    "#     ALL_DISTANCES_FEET,\n",
    "#     ALL_RUNS,\n",
    "#     ALL_SERIAL_NUMBERS,\n",
    "# )\n",
    "\n",
    "\n",
    "# add_dataset(\n",
    "#     labels=ALL_SERIAL_NUMBERS,\n",
    "#     domains = list(set(ALL_DISTANCES_FEET) - {2,62,56}),\n",
    "#     num_examples_per_domain_per_label=100,\n",
    "#     pickle_path=os.path.join(get_datasets_base_path(), \"oracle.Run2_framed_2000Examples_stratified_ds.2022A.pkl\"),\n",
    "#     source_or_target_dataset=\"source\",\n",
    "#     x_transform_func=global_x_transform_func,\n",
    "#     domain_modifier=lambda u: f\"oracle2_{u}\"\n",
    "# )"
   ]
  },
  {
   "cell_type": "code",
   "execution_count": 17,
   "id": "6f289866",
   "metadata": {
    "execution": {
     "iopub.execute_input": "2022-03-19T21:34:46.044205Z",
     "iopub.status.busy": "2022-03-19T21:34:46.039157Z",
     "iopub.status.idle": "2022-03-19T21:34:46.052064Z",
     "shell.execute_reply": "2022-03-19T21:34:46.052350Z"
    },
    "papermill": {
     "duration": 0.028411,
     "end_time": "2022-03-19T21:34:46.052434",
     "exception": false,
     "start_time": "2022-03-19T21:34:46.024023",
     "status": "completed"
    },
    "tags": []
   },
   "outputs": [],
   "source": [
    "# add_dataset(\n",
    "#     labels=list(range(19)),\n",
    "#     domains = [0,1,2],\n",
    "#     num_examples_per_domain_per_label=100,\n",
    "#     pickle_path=os.path.join(get_datasets_base_path(), \"metehan.stratified_ds.2022A.pkl\"),\n",
    "#     source_or_target_dataset=\"target\",\n",
    "#     x_transform_func=global_x_transform_func,\n",
    "#     domain_modifier=lambda u: f\"met_{u}\"\n",
    "# )"
   ]
  },
  {
   "cell_type": "code",
   "execution_count": 18,
   "id": "86a863c3",
   "metadata": {
    "execution": {
     "iopub.execute_input": "2022-03-19T21:34:46.091976Z",
     "iopub.status.busy": "2022-03-19T21:34:46.091706Z",
     "iopub.status.idle": "2022-03-19T21:34:46.103491Z",
     "shell.execute_reply": "2022-03-19T21:34:46.103908Z"
    },
    "papermill": {
     "duration": 0.032548,
     "end_time": "2022-03-19T21:34:46.104026",
     "exception": false,
     "start_time": "2022-03-19T21:34:46.071478",
     "status": "completed"
    },
    "tags": []
   },
   "outputs": [],
   "source": [
    "# # from steves_utils.wisig.utils import (\n",
    "# #     ALL_NODES_MINIMUM_100_EXAMPLES,\n",
    "# #     ALL_NODES_MINIMUM_500_EXAMPLES,\n",
    "# #     ALL_NODES_MINIMUM_1000_EXAMPLES,\n",
    "# #     ALL_DAYS\n",
    "# # )\n",
    "\n",
    "# import steves_utils.wisig.utils as wisig\n",
    "\n",
    "\n",
    "# add_dataset(\n",
    "#     labels=wisig.ALL_NODES_MINIMUM_100_EXAMPLES,\n",
    "#     domains = wisig.ALL_DAYS,\n",
    "#     num_examples_per_domain_per_label=100,\n",
    "#     pickle_path=os.path.join(get_datasets_base_path(), \"wisig.node3-19.stratified_ds.2022A.pkl\"),\n",
    "#     source_or_target_dataset=\"target\",\n",
    "#     x_transform_func=global_x_transform_func,\n",
    "#     domain_modifier=lambda u: f\"wisig_{u}\"\n",
    "# )"
   ]
  },
  {
   "cell_type": "code",
   "execution_count": 19,
   "id": "fd5442bc",
   "metadata": {
    "execution": {
     "iopub.execute_input": "2022-03-19T21:34:46.148441Z",
     "iopub.status.busy": "2022-03-19T21:34:46.142389Z",
     "iopub.status.idle": "2022-03-19T21:34:46.156348Z",
     "shell.execute_reply": "2022-03-19T21:34:46.155965Z"
    },
    "papermill": {
     "duration": 0.032836,
     "end_time": "2022-03-19T21:34:46.156437",
     "exception": false,
     "start_time": "2022-03-19T21:34:46.123601",
     "status": "completed"
    },
    "tags": []
   },
   "outputs": [],
   "source": [
    "###################################\n",
    "# Build the dataset\n",
    "###################################\n",
    "train_original_source = Iterable_Aggregator(train_original_source, p.seed)\n",
    "val_original_source = Iterable_Aggregator(val_original_source, p.seed)\n",
    "test_original_source = Iterable_Aggregator(test_original_source, p.seed)\n",
    "\n",
    "\n",
    "train_original_target = Iterable_Aggregator(train_original_target, p.seed)\n",
    "val_original_target = Iterable_Aggregator(val_original_target, p.seed)\n",
    "test_original_target = Iterable_Aggregator(test_original_target, p.seed)\n",
    "\n",
    "# For CNN We only use X and Y. And we only train on the source.\n",
    "# Properly form the data using a transform lambda and Lazy_Iterable_Wrapper. Finally wrap them in a dataloader\n",
    "\n",
    "transform_lambda = lambda ex: ex[1] # Original is (<domain>, <episode>) so we strip down to episode only\n",
    "\n",
    "train_processed_source = Lazy_Iterable_Wrapper(train_original_source, transform_lambda)\n",
    "val_processed_source   = Lazy_Iterable_Wrapper(val_original_source, transform_lambda)\n",
    "test_processed_source  = Lazy_Iterable_Wrapper(test_original_source, transform_lambda)\n",
    "\n",
    "train_processed_target = Lazy_Iterable_Wrapper(train_original_target, transform_lambda)\n",
    "val_processed_target   = Lazy_Iterable_Wrapper(val_original_target, transform_lambda)\n",
    "test_processed_target  = Lazy_Iterable_Wrapper(test_original_target, transform_lambda)\n",
    "\n",
    "datasets = EasyDict({\n",
    "    \"source\": {\n",
    "        \"original\": {\"train\":train_original_source, \"val\":val_original_source, \"test\":test_original_source},\n",
    "        \"processed\": {\"train\":train_processed_source, \"val\":val_processed_source, \"test\":test_processed_source}\n",
    "    },\n",
    "    \"target\": {\n",
    "        \"original\": {\"train\":train_original_target, \"val\":val_original_target, \"test\":test_original_target},\n",
    "        \"processed\": {\"train\":train_processed_target, \"val\":val_processed_target, \"test\":test_processed_target}\n",
    "    },\n",
    "})"
   ]
  },
  {
   "cell_type": "code",
   "execution_count": 20,
   "id": "5b3c01fc",
   "metadata": {
    "execution": {
     "iopub.execute_input": "2022-03-19T21:34:46.191815Z",
     "iopub.status.busy": "2022-03-19T21:34:46.191563Z",
     "iopub.status.idle": "2022-03-19T21:34:54.895021Z",
     "shell.execute_reply": "2022-03-19T21:34:54.895303Z"
    },
    "papermill": {
     "duration": 8.72008,
     "end_time": "2022-03-19T21:34:54.895389",
     "exception": false,
     "start_time": "2022-03-19T21:34:46.175309",
     "status": "completed"
    },
    "tags": []
   },
   "outputs": [
    {
     "name": "stdout",
     "output_type": "stream",
     "text": [
      "{'O_38', 'O_14', 'O_50', 'O_32', 'O_44', 'O_8', 'O_20', 'O_26'}\n"
     ]
    },
    {
     "name": "stdout",
     "output_type": "stream",
     "text": [
      "{'C_3', 'W_2', 'W_1', 'C_5', 'W_3', 'W_4', 'C_2', 'C_1', 'C_4'}\n"
     ]
    },
    {
     "name": "stdout",
     "output_type": "stream",
     "text": [
      "tensor([[[ 2.1668e-03,  1.0681e-03, -3.2655e-03,  ..., -9.1556e-04,\n",
      "           4.6083e-03,  1.5870e-03],\n",
      "         [ 5.1881e-04,  4.0590e-03, -1.0376e-03,  ..., -3.5401e-03,\n",
      "          -5.7985e-04, -2.3499e-03]],\n",
      "\n",
      "        [[-2.1973e-03,  1.7396e-03,  1.8006e-03,  ..., -1.8006e-03,\n",
      "          -3.9979e-03, -2.5330e-03],\n",
      "         [-1.6480e-03, -3.4181e-03,  3.1434e-03,  ...,  3.4486e-03,\n",
      "          -2.5941e-03,  9.4607e-04]],\n",
      "\n",
      "        [[-1.2207e-04,  3.7538e-03, -7.6296e-04,  ..., -3.6012e-03,\n",
      "          -5.1881e-04, -2.4415e-03],\n",
      "         [-1.9227e-03, -5.4933e-04,  3.3570e-03,  ..., -6.1037e-05,\n",
      "          -4.8219e-03, -1.8311e-03]],\n",
      "\n",
      "        ...,\n",
      "\n",
      "        [[ 2.9908e-03,  6.7141e-04, -4.0284e-03,  ..., -1.1292e-03,\n",
      "           5.7375e-03,  1.6785e-03],\n",
      "         [ 7.0193e-04,  4.5778e-03, -1.7396e-03,  ..., -4.6693e-03,\n",
      "          -6.1037e-04, -3.9979e-03]],\n",
      "\n",
      "        [[ 4.4862e-03,  1.3733e-03, -5.8596e-03,  ..., -4.8830e-04,\n",
      "           4.6999e-03, -3.4181e-03],\n",
      "         [ 4.5778e-04,  3.8148e-03, -5.4933e-04,  ..., -4.3336e-03,\n",
      "          -3.7233e-03, -4.3336e-03]],\n",
      "\n",
      "        [[ 3.9064e-03,  2.4110e-03, -4.4557e-03,  ..., -3.4486e-03,\n",
      "          -9.1556e-04, -5.9816e-03],\n",
      "         [-3.1434e-03,  2.3804e-03,  4.1505e-03,  ..., -3.6317e-03,\n",
      "          -5.3713e-03,  1.0987e-03]]])\n"
     ]
    }
   ],
   "source": [
    "from steves_utils.transforms import get_average_magnitude, get_average_power\n",
    "\n",
    "print(set([u for u,_ in val_original_source]))\n",
    "print(set([u for u,_ in val_original_target]))\n",
    "\n",
    "s_x, s_y, q_x, q_y, _ = next(iter(train_processed_source))\n",
    "print(s_x)\n",
    "\n",
    "# for ds in [\n",
    "#     train_processed_source,\n",
    "#     val_processed_source,\n",
    "#     test_processed_source,\n",
    "#     train_processed_target,\n",
    "#     val_processed_target,\n",
    "#     test_processed_target\n",
    "# ]:\n",
    "#     for s_x, s_y, q_x, q_y, _ in ds:\n",
    "#         for X in (s_x, q_x):\n",
    "#             for x in X:\n",
    "#                 assert np.isclose(get_average_magnitude(x.numpy()), 1.0)\n",
    "#                 assert np.isclose(get_average_power(x.numpy()), 1.0)\n",
    "                "
   ]
  },
  {
   "cell_type": "code",
   "execution_count": 21,
   "id": "bbdacba1",
   "metadata": {
    "execution": {
     "iopub.execute_input": "2022-03-19T21:34:54.928887Z",
     "iopub.status.busy": "2022-03-19T21:34:54.928629Z",
     "iopub.status.idle": "2022-03-19T21:34:54.986592Z",
     "shell.execute_reply": "2022-03-19T21:34:54.986271Z"
    },
    "papermill": {
     "duration": 0.075765,
     "end_time": "2022-03-19T21:34:54.986672",
     "exception": false,
     "start_time": "2022-03-19T21:34:54.910907",
     "status": "completed"
    },
    "tags": []
   },
   "outputs": [
    {
     "name": "stdout",
     "output_type": "stream",
     "text": [
      "(2, 256)\n"
     ]
    }
   ],
   "source": [
    "###################################\n",
    "# Build the model\n",
    "###################################\n",
    "# easfsl only wants a tuple for the shape\n",
    "model = Steves_Prototypical_Network(x_net, device=p.device, x_shape=tuple(p.x_shape))\n",
    "optimizer = Adam(params=model.parameters(), lr=p.lr)"
   ]
  },
  {
   "cell_type": "code",
   "execution_count": 22,
   "id": "22b39ac5",
   "metadata": {
    "execution": {
     "iopub.execute_input": "2022-03-19T21:34:55.022572Z",
     "iopub.status.busy": "2022-03-19T21:34:55.022321Z",
     "iopub.status.idle": "2022-03-19T21:50:36.144393Z",
     "shell.execute_reply": "2022-03-19T21:50:36.144171Z"
    },
    "papermill": {
     "duration": 941.140285,
     "end_time": "2022-03-19T21:50:36.144451",
     "exception": false,
     "start_time": "2022-03-19T21:34:55.004166",
     "status": "completed"
    },
    "tags": []
   },
   "outputs": [
    {
     "name": "stdout",
     "output_type": "stream",
     "text": [
      "epoch: 1, [batch: 1 / 6720], examples_per_second: 50.1822, train_label_loss: 2.9543, \n"
     ]
    },
    {
     "name": "stdout",
     "output_type": "stream",
     "text": [
      "epoch: 1, [batch: 672 / 6720], examples_per_second: 3235.3838, train_label_loss: 0.6137, \n"
     ]
    },
    {
     "name": "stdout",
     "output_type": "stream",
     "text": [
      "epoch: 1, [batch: 1344 / 6720], examples_per_second: 3238.8143, train_label_loss: 0.4583, \n"
     ]
    },
    {
     "name": "stdout",
     "output_type": "stream",
     "text": [
      "epoch: 1, [batch: 2016 / 6720], examples_per_second: 3235.0040, train_label_loss: 0.5288, \n"
     ]
    },
    {
     "name": "stdout",
     "output_type": "stream",
     "text": [
      "epoch: 1, [batch: 2688 / 6720], examples_per_second: 3231.1559, train_label_loss: 0.7297, \n"
     ]
    },
    {
     "name": "stdout",
     "output_type": "stream",
     "text": [
      "epoch: 1, [batch: 3360 / 6720], examples_per_second: 3215.6318, train_label_loss: 0.1180, \n"
     ]
    },
    {
     "name": "stdout",
     "output_type": "stream",
     "text": [
      "epoch: 1, [batch: 4032 / 6720], examples_per_second: 3225.6033, train_label_loss: 0.1100, \n"
     ]
    },
    {
     "name": "stdout",
     "output_type": "stream",
     "text": [
      "epoch: 1, [batch: 4704 / 6720], examples_per_second: 3205.3333, train_label_loss: 0.1640, \n"
     ]
    },
    {
     "name": "stdout",
     "output_type": "stream",
     "text": [
      "epoch: 1, [batch: 5376 / 6720], examples_per_second: 3224.2544, train_label_loss: 0.2009, \n"
     ]
    },
    {
     "name": "stdout",
     "output_type": "stream",
     "text": [
      "epoch: 1, [batch: 6048 / 6720], examples_per_second: 3221.9347, train_label_loss: 0.3119, \n"
     ]
    },
    {
     "name": "stdout",
     "output_type": "stream",
     "text": [
      "=============================================================\n",
      "epoch: 1, source_val_acc_label: 0.7464, target_val_acc_label: 0.8412, source_val_label_loss: 5.9440, target_val_label_loss: 2192.4229, \n",
      "=============================================================\n"
     ]
    },
    {
     "name": "stdout",
     "output_type": "stream",
     "text": [
      "New best\n"
     ]
    },
    {
     "name": "stdout",
     "output_type": "stream",
     "text": [
      "epoch: 2, [batch: 1 / 6720], examples_per_second: 4.0877, train_label_loss: 0.3320, \n"
     ]
    },
    {
     "name": "stdout",
     "output_type": "stream",
     "text": [
      "epoch: 2, [batch: 672 / 6720], examples_per_second: 3250.9518, train_label_loss: 0.1328, \n"
     ]
    },
    {
     "name": "stdout",
     "output_type": "stream",
     "text": [
      "epoch: 2, [batch: 1344 / 6720], examples_per_second: 3254.0780, train_label_loss: 0.3995, \n"
     ]
    },
    {
     "name": "stdout",
     "output_type": "stream",
     "text": [
      "epoch: 2, [batch: 2016 / 6720], examples_per_second: 3259.2502, train_label_loss: 0.1407, \n"
     ]
    },
    {
     "name": "stdout",
     "output_type": "stream",
     "text": [
      "epoch: 2, [batch: 2688 / 6720], examples_per_second: 3259.6047, train_label_loss: 0.3062, \n"
     ]
    },
    {
     "name": "stdout",
     "output_type": "stream",
     "text": [
      "epoch: 2, [batch: 3360 / 6720], examples_per_second: 3265.6565, train_label_loss: 0.2653, \n"
     ]
    },
    {
     "name": "stdout",
     "output_type": "stream",
     "text": [
      "epoch: 2, [batch: 4032 / 6720], examples_per_second: 3263.6420, train_label_loss: 0.3399, \n"
     ]
    },
    {
     "name": "stdout",
     "output_type": "stream",
     "text": [
      "epoch: 2, [batch: 4704 / 6720], examples_per_second: 3219.9525, train_label_loss: 0.3582, \n"
     ]
    },
    {
     "name": "stdout",
     "output_type": "stream",
     "text": [
      "epoch: 2, [batch: 5376 / 6720], examples_per_second: 3261.0219, train_label_loss: 0.4051, \n"
     ]
    },
    {
     "name": "stdout",
     "output_type": "stream",
     "text": [
      "epoch: 2, [batch: 6048 / 6720], examples_per_second: 3253.1291, train_label_loss: 0.1548, \n"
     ]
    },
    {
     "name": "stdout",
     "output_type": "stream",
     "text": [
      "=============================================================\n",
      "epoch: 2, source_val_acc_label: 0.9175, target_val_acc_label: 0.7484, source_val_label_loss: 0.2436, target_val_label_loss: 1438.0638, \n",
      "=============================================================\n"
     ]
    },
    {
     "name": "stdout",
     "output_type": "stream",
     "text": [
      "epoch: 3, [batch: 1 / 6720], examples_per_second: 4.1162, train_label_loss: 0.1696, \n"
     ]
    },
    {
     "name": "stdout",
     "output_type": "stream",
     "text": [
      "epoch: 3, [batch: 672 / 6720], examples_per_second: 3246.4067, train_label_loss: 0.2196, \n"
     ]
    },
    {
     "name": "stdout",
     "output_type": "stream",
     "text": [
      "epoch: 3, [batch: 1344 / 6720], examples_per_second: 3257.5502, train_label_loss: 0.3129, \n"
     ]
    },
    {
     "name": "stdout",
     "output_type": "stream",
     "text": [
      "epoch: 3, [batch: 2016 / 6720], examples_per_second: 3254.4657, train_label_loss: 0.1879, \n"
     ]
    },
    {
     "name": "stdout",
     "output_type": "stream",
     "text": [
      "epoch: 3, [batch: 2688 / 6720], examples_per_second: 3238.9139, train_label_loss: 0.2453, \n"
     ]
    },
    {
     "name": "stdout",
     "output_type": "stream",
     "text": [
      "epoch: 3, [batch: 3360 / 6720], examples_per_second: 3253.4856, train_label_loss: 0.3301, \n"
     ]
    },
    {
     "name": "stdout",
     "output_type": "stream",
     "text": [
      "epoch: 3, [batch: 4032 / 6720], examples_per_second: 3254.6052, train_label_loss: 0.4998, \n"
     ]
    },
    {
     "name": "stdout",
     "output_type": "stream",
     "text": [
      "epoch: 3, [batch: 4704 / 6720], examples_per_second: 3250.6446, train_label_loss: 0.0432, \n"
     ]
    },
    {
     "name": "stdout",
     "output_type": "stream",
     "text": [
      "epoch: 3, [batch: 5376 / 6720], examples_per_second: 3246.1700, train_label_loss: 0.2679, \n"
     ]
    },
    {
     "name": "stdout",
     "output_type": "stream",
     "text": [
      "epoch: 3, [batch: 6048 / 6720], examples_per_second: 3249.2840, train_label_loss: 0.2021, \n"
     ]
    },
    {
     "name": "stdout",
     "output_type": "stream",
     "text": [
      "=============================================================\n",
      "epoch: 3, source_val_acc_label: 0.9335, target_val_acc_label: 0.6666, source_val_label_loss: 0.1915, target_val_label_loss: 1109.3202, \n",
      "=============================================================\n"
     ]
    },
    {
     "name": "stdout",
     "output_type": "stream",
     "text": [
      "epoch: 4, [batch: 1 / 6720], examples_per_second: 4.0675, train_label_loss: 0.1449, \n"
     ]
    },
    {
     "name": "stdout",
     "output_type": "stream",
     "text": [
      "epoch: 4, [batch: 672 / 6720], examples_per_second: 3231.8447, train_label_loss: 0.0475, \n"
     ]
    },
    {
     "name": "stdout",
     "output_type": "stream",
     "text": [
      "epoch: 4, [batch: 1344 / 6720], examples_per_second: 3255.4842, train_label_loss: 0.1792, \n"
     ]
    },
    {
     "name": "stdout",
     "output_type": "stream",
     "text": [
      "epoch: 4, [batch: 2016 / 6720], examples_per_second: 3256.6765, train_label_loss: 0.0911, \n"
     ]
    },
    {
     "name": "stdout",
     "output_type": "stream",
     "text": [
      "epoch: 4, [batch: 2688 / 6720], examples_per_second: 3244.1478, train_label_loss: 0.2569, \n"
     ]
    },
    {
     "name": "stdout",
     "output_type": "stream",
     "text": [
      "epoch: 4, [batch: 3360 / 6720], examples_per_second: 3250.6832, train_label_loss: 0.2877, \n"
     ]
    },
    {
     "name": "stdout",
     "output_type": "stream",
     "text": [
      "epoch: 4, [batch: 4032 / 6720], examples_per_second: 3250.6863, train_label_loss: 0.1804, \n"
     ]
    },
    {
     "name": "stdout",
     "output_type": "stream",
     "text": [
      "epoch: 4, [batch: 4704 / 6720], examples_per_second: 3238.7276, train_label_loss: 0.4143, \n"
     ]
    },
    {
     "name": "stdout",
     "output_type": "stream",
     "text": [
      "epoch: 4, [batch: 5376 / 6720], examples_per_second: 3245.4121, train_label_loss: 0.0883, \n"
     ]
    },
    {
     "name": "stdout",
     "output_type": "stream",
     "text": [
      "epoch: 4, [batch: 6048 / 6720], examples_per_second: 3258.0958, train_label_loss: 0.0190, \n"
     ]
    },
    {
     "name": "stdout",
     "output_type": "stream",
     "text": [
      "=============================================================\n",
      "epoch: 4, source_val_acc_label: 0.9298, target_val_acc_label: 0.6882, source_val_label_loss: 0.2011, target_val_label_loss: 1344.1564, \n",
      "=============================================================\n"
     ]
    },
    {
     "name": "stdout",
     "output_type": "stream",
     "text": [
      "epoch: 5, [batch: 1 / 6720], examples_per_second: 4.0707, train_label_loss: 0.2459, \n"
     ]
    },
    {
     "name": "stdout",
     "output_type": "stream",
     "text": [
      "epoch: 5, [batch: 672 / 6720], examples_per_second: 3230.3366, train_label_loss: 0.2504, \n"
     ]
    },
    {
     "name": "stdout",
     "output_type": "stream",
     "text": [
      "epoch: 5, [batch: 1344 / 6720], examples_per_second: 3240.4100, train_label_loss: 0.2736, \n"
     ]
    },
    {
     "name": "stdout",
     "output_type": "stream",
     "text": [
      "epoch: 5, [batch: 2016 / 6720], examples_per_second: 3249.0840, train_label_loss: 0.2870, \n"
     ]
    },
    {
     "name": "stdout",
     "output_type": "stream",
     "text": [
      "epoch: 5, [batch: 2688 / 6720], examples_per_second: 3257.0475, train_label_loss: 0.1889, \n"
     ]
    },
    {
     "name": "stdout",
     "output_type": "stream",
     "text": [
      "epoch: 5, [batch: 3360 / 6720], examples_per_second: 3269.4263, train_label_loss: 0.2194, \n"
     ]
    },
    {
     "name": "stdout",
     "output_type": "stream",
     "text": [
      "epoch: 5, [batch: 4032 / 6720], examples_per_second: 3244.1798, train_label_loss: 0.3893, \n"
     ]
    },
    {
     "name": "stdout",
     "output_type": "stream",
     "text": [
      "epoch: 5, [batch: 4704 / 6720], examples_per_second: 3249.3270, train_label_loss: 0.2053, \n"
     ]
    },
    {
     "name": "stdout",
     "output_type": "stream",
     "text": [
      "epoch: 5, [batch: 5376 / 6720], examples_per_second: 3261.3473, train_label_loss: 0.1492, \n"
     ]
    },
    {
     "name": "stdout",
     "output_type": "stream",
     "text": [
      "epoch: 5, [batch: 6048 / 6720], examples_per_second: 3246.8728, train_label_loss: 0.1234, \n"
     ]
    },
    {
     "name": "stdout",
     "output_type": "stream",
     "text": [
      "=============================================================\n",
      "epoch: 5, source_val_acc_label: 0.9407, target_val_acc_label: 0.6747, source_val_label_loss: 0.1684, target_val_label_loss: 1543.1204, \n",
      "=============================================================\n"
     ]
    },
    {
     "name": "stdout",
     "output_type": "stream",
     "text": [
      "Patience (3) exhausted\n"
     ]
    }
   ],
   "source": [
    "###################################\n",
    "# train\n",
    "###################################\n",
    "jig = PTN_Train_Eval_Test_Jig(model, p.BEST_MODEL_PATH, p.device)\n",
    "\n",
    "jig.train(\n",
    "    train_iterable=datasets.source.processed.train,\n",
    "    source_val_iterable=datasets.source.processed.val,\n",
    "    target_val_iterable=datasets.target.processed.val,\n",
    "    num_epochs=p.n_epoch,\n",
    "    num_logs_per_epoch=p.NUM_LOGS_PER_EPOCH,\n",
    "    patience=p.patience,\n",
    "    optimizer=optimizer,\n",
    "    criteria_for_best=p.criteria_for_best,\n",
    ")"
   ]
  },
  {
   "cell_type": "code",
   "execution_count": 23,
   "id": "31e8fabf",
   "metadata": {
    "execution": {
     "iopub.execute_input": "2022-03-19T21:50:36.196358Z",
     "iopub.status.busy": "2022-03-19T21:50:36.196048Z",
     "iopub.status.idle": "2022-03-19T21:50:36.213851Z",
     "shell.execute_reply": "2022-03-19T21:50:36.213474Z"
    },
    "papermill": {
     "duration": 0.045171,
     "end_time": "2022-03-19T21:50:36.213945",
     "exception": false,
     "start_time": "2022-03-19T21:50:36.168774",
     "status": "completed"
    },
    "tags": []
   },
   "outputs": [],
   "source": [
    "total_experiment_time_secs = time.time() - start_time_secs"
   ]
  },
  {
   "cell_type": "code",
   "execution_count": 24,
   "id": "87b9595b",
   "metadata": {
    "execution": {
     "iopub.execute_input": "2022-03-19T21:50:36.271834Z",
     "iopub.status.busy": "2022-03-19T21:50:36.271421Z",
     "iopub.status.idle": "2022-03-19T21:52:59.745330Z",
     "shell.execute_reply": "2022-03-19T21:52:59.745720Z"
    },
    "papermill": {
     "duration": 143.503732,
     "end_time": "2022-03-19T21:52:59.745863",
     "exception": false,
     "start_time": "2022-03-19T21:50:36.242131",
     "status": "completed"
    },
    "tags": []
   },
   "outputs": [],
   "source": [
    "###################################\n",
    "# Evaluate the model\n",
    "###################################\n",
    "source_test_label_accuracy, source_test_label_loss = jig.test(datasets.source.processed.test)\n",
    "target_test_label_accuracy, target_test_label_loss = jig.test(datasets.target.processed.test)\n",
    "\n",
    "source_val_label_accuracy, source_val_label_loss = jig.test(datasets.source.processed.val)\n",
    "target_val_label_accuracy, target_val_label_loss = jig.test(datasets.target.processed.val)\n",
    "\n",
    "history = jig.get_history()\n",
    "\n",
    "total_epochs_trained = len(history[\"epoch_indices\"])\n",
    "\n",
    "val_dl = Iterable_Aggregator((datasets.source.original.val,datasets.target.original.val))\n",
    "\n",
    "confusion = ptn_confusion_by_domain_over_dataloader(model, p.device, val_dl)\n",
    "per_domain_accuracy = per_domain_accuracy_from_confusion(confusion)\n",
    "\n",
    "# Add a key to per_domain_accuracy for if it was a source domain\n",
    "for domain, accuracy in per_domain_accuracy.items():\n",
    "    per_domain_accuracy[domain] = {\n",
    "        \"accuracy\": accuracy,\n",
    "        \"source?\": domain in p.domains_source\n",
    "    }\n",
    "\n",
    "# Do an independent accuracy assesment JUST TO BE SURE!\n",
    "# _source_test_label_accuracy = independent_accuracy_assesment(model, datasets.source.processed.test, p.device)\n",
    "# _target_test_label_accuracy = independent_accuracy_assesment(model, datasets.target.processed.test, p.device)\n",
    "# _source_val_label_accuracy = independent_accuracy_assesment(model, datasets.source.processed.val, p.device)\n",
    "# _target_val_label_accuracy = independent_accuracy_assesment(model, datasets.target.processed.val, p.device)\n",
    "\n",
    "# assert(_source_test_label_accuracy == source_test_label_accuracy)\n",
    "# assert(_target_test_label_accuracy == target_test_label_accuracy)\n",
    "# assert(_source_val_label_accuracy == source_val_label_accuracy)\n",
    "# assert(_target_val_label_accuracy == target_val_label_accuracy)\n",
    "\n",
    "experiment = {\n",
    "    \"experiment_name\": p.experiment_name,\n",
    "    \"parameters\": dict(p),\n",
    "    \"results\": {\n",
    "        \"source_test_label_accuracy\": source_test_label_accuracy,\n",
    "        \"source_test_label_loss\": source_test_label_loss,\n",
    "        \"target_test_label_accuracy\": target_test_label_accuracy,\n",
    "        \"target_test_label_loss\": target_test_label_loss,\n",
    "        \"source_val_label_accuracy\": source_val_label_accuracy,\n",
    "        \"source_val_label_loss\": source_val_label_loss,\n",
    "        \"target_val_label_accuracy\": target_val_label_accuracy,\n",
    "        \"target_val_label_loss\": target_val_label_loss,\n",
    "        \"total_epochs_trained\": total_epochs_trained,\n",
    "        \"total_experiment_time_secs\": total_experiment_time_secs,\n",
    "        \"confusion\": confusion,\n",
    "        \"per_domain_accuracy\": per_domain_accuracy,\n",
    "    },\n",
    "    \"history\": history,\n",
    "    \"dataset_metrics\": get_dataset_metrics(datasets, \"ptn\"),\n",
    "}"
   ]
  },
  {
   "cell_type": "code",
   "execution_count": 25,
   "id": "54a21829",
   "metadata": {
    "execution": {
     "iopub.execute_input": "2022-03-19T21:52:59.803508Z",
     "iopub.status.busy": "2022-03-19T21:52:59.802635Z",
     "iopub.status.idle": "2022-03-19T21:52:59.917669Z",
     "shell.execute_reply": "2022-03-19T21:52:59.918069Z"
    },
    "papermill": {
     "duration": 0.142654,
     "end_time": "2022-03-19T21:52:59.918200",
     "exception": false,
     "start_time": "2022-03-19T21:52:59.775546",
     "status": "completed"
    },
    "tags": []
   },
   "outputs": [
    {
     "data": {
      "image/png": "[encoded data removed]",
      "text/plain": [
       "<Figure size 1080x504 with 1 Axes>"
      ]
     },
     "metadata": {
      "needs_background": "light"
     },
     "output_type": "display_data"
    }
   ],
   "source": [
    "ax = get_loss_curve(experiment)\n",
    "plt.show()"
   ]
  },
  {
   "cell_type": "code",
   "execution_count": 26,
   "id": "fd8a0f60",
   "metadata": {
    "execution": {
     "iopub.execute_input": "2022-03-19T21:52:59.975549Z",
     "iopub.status.busy": "2022-03-19T21:52:59.974656Z",
     "iopub.status.idle": "2022-03-19T21:53:00.118727Z",
     "shell.execute_reply": "2022-03-19T21:53:00.119009Z"
    },
    "papermill": {
     "duration": 0.172095,
     "end_time": "2022-03-19T21:53:00.119110",
     "exception": false,
     "start_time": "2022-03-19T21:52:59.947015",
     "status": "completed"
    },
    "tags": []
   },
   "outputs": [
    {
     "data": {
      "text/plain": [
       "<AxesSubplot:title={'center':'Results'}>"
      ]
     },
     "execution_count": 26,
     "metadata": {},
     "output_type": "execute_result"
    },
    {
     "data": {
      "image/png": "[encoded data removed]",
      "text/plain": [
       "<Figure size 1080x504 with 1 Axes>"
      ]
     },
     "metadata": {
      "needs_background": "light"
     },
     "output_type": "display_data"
    }
   ],
   "source": [
    "get_results_table(experiment)"
   ]
  },
  {
   "cell_type": "code",
   "execution_count": 27,
   "id": "cf8dc689",
   "metadata": {
    "execution": {
     "iopub.execute_input": "2022-03-19T21:53:00.181584Z",
     "iopub.status.busy": "2022-03-19T21:53:00.181334Z",
     "iopub.status.idle": "2022-03-19T21:53:00.330259Z",
     "shell.execute_reply": "2022-03-19T21:53:00.329775Z"
    },
    "papermill": {
     "duration": 0.178266,
     "end_time": "2022-03-19T21:53:00.330366",
     "exception": false,
     "start_time": "2022-03-19T21:53:00.152100",
     "status": "completed"
    },
    "tags": []
   },
   "outputs": [
    {
     "data": {
      "text/plain": [
       "<AxesSubplot:title={'center':'Per Domain Validation Accuracy'}, xlabel='domain'>"
      ]
     },
     "execution_count": 27,
     "metadata": {},
     "output_type": "execute_result"
    },
    {
     "data": {
      "image/png": "[encoded data removed]",
      "text/plain": [
       "<Figure size 1080x504 with 1 Axes>"
      ]
     },
     "metadata": {
      "needs_background": "light"
     },
     "output_type": "display_data"
    }
   ],
   "source": [
    "get_domain_accuracies(experiment)"
   ]
  },
  {
   "cell_type": "code",
   "execution_count": 28,
   "id": "a74ae082",
   "metadata": {
    "execution": {
     "iopub.execute_input": "2022-03-19T21:53:00.393337Z",
     "iopub.status.busy": "2022-03-19T21:53:00.393080Z",
     "iopub.status.idle": "2022-03-19T21:53:00.411099Z",
     "shell.execute_reply": "2022-03-19T21:53:00.410706Z"
    },
    "papermill": {
     "duration": 0.048529,
     "end_time": "2022-03-19T21:53:00.411205",
     "exception": false,
     "start_time": "2022-03-19T21:53:00.362676",
     "status": "completed"
    },
    "tags": []
   },
   "outputs": [
    {
     "name": "stdout",
     "output_type": "stream",
     "text": [
      "Source Test Label Accuracy: 0.75 Target Test Label Accuracy: 0.8406283747300216\n",
      "Source Val Label Accuracy: 0.7463541666666667 Target Val Label Accuracy: 0.8411930258099946\n"
     ]
    }
   ],
   "source": [
    "print(\"Source Test Label Accuracy:\", experiment[\"results\"][\"source_test_label_accuracy\"], \"Target Test Label Accuracy:\", experiment[\"results\"][\"target_test_label_accuracy\"])\n",
    "print(\"Source Val Label Accuracy:\", experiment[\"results\"][\"source_val_label_accuracy\"], \"Target Val Label Accuracy:\", experiment[\"results\"][\"target_val_label_accuracy\"])"
   ]
  },
  {
   "cell_type": "code",
   "execution_count": 29,
   "id": "dacca602",
   "metadata": {
    "execution": {
     "iopub.execute_input": "2022-03-19T21:53:00.477715Z",
     "iopub.status.busy": "2022-03-19T21:53:00.473994Z",
     "iopub.status.idle": "2022-03-19T21:53:00.492398Z",
     "shell.execute_reply": "2022-03-19T21:53:00.492696Z"
    },
    "papermill": {
     "duration": 0.049667,
     "end_time": "2022-03-19T21:53:00.492798",
     "exception": false,
     "start_time": "2022-03-19T21:53:00.443131",
     "status": "completed"
    },
    "tags": [
     "experiment_json"
    ]
   },
   "outputs": [
    {
     "data": {
      "text/plain": [
       "'{\"experiment_name\": \"tl_2v2:oracle.run1.framed -> cores+wisig\", \"parameters\": {\"experiment_name\": \"tl_2v2:oracle.run1.framed -> cores+wisig\", \"device\": \"cuda\", \"lr\": 0.0001, \"n_shot\": 3, \"n_query\": 2, \"train_k_factor\": 3, \"val_k_factor\": 2, \"test_k_factor\": 2, \"torch_default_dtype\": \"torch.float32\", \"n_epoch\": 50, \"patience\": 3, \"criteria_for_best\": \"target_accuracy\", \"x_net\": [{\"class\": \"nnReshape\", \"kargs\": {\"shape\": [-1, 1, 2, 256]}}, {\"class\": \"Conv2d\", \"kargs\": {\"in_channels\": 1, \"out_channels\": 256, \"kernel_size\": [1, 7], \"bias\": false, \"padding\": [0, 3]}}, {\"class\": \"ReLU\", \"kargs\": {\"inplace\": true}}, {\"class\": \"BatchNorm2d\", \"kargs\": {\"num_features\": 256}}, {\"class\": \"Conv2d\", \"kargs\": {\"in_channels\": 256, \"out_channels\": 80, \"kernel_size\": [2, 7], \"bias\": true, \"padding\": [0, 3]}}, {\"class\": \"ReLU\", \"kargs\": {\"inplace\": true}}, {\"class\": \"BatchNorm2d\", \"kargs\": {\"num_features\": 80}}, {\"class\": \"Flatten\", \"kargs\": {}}, {\"class\": \"Linear\", \"kargs\": {\"in_features\": 20480, \"out_features\": 256}}, {\"class\": \"ReLU\", \"kargs\": {\"inplace\": true}}, {\"class\": \"BatchNorm1d\", \"kargs\": {\"num_features\": 256}}, {\"class\": \"Linear\", \"kargs\": {\"in_features\": 256, \"out_features\": 256}}], \"NUM_LOGS_PER_EPOCH\": 10, \"BEST_MODEL_PATH\": \"./best_model.pth\", \"n_way\": 16, \"datasets\": [{\"labels\": [\"1-10.\", \"1-11.\", \"1-15.\", \"1-16.\", \"1-17.\", \"1-18.\", \"1-19.\", \"10-4.\", \"10-7.\", \"11-1.\", \"11-14.\", \"11-17.\", \"11-20.\", \"11-7.\", \"13-20.\", \"13-8.\", \"14-10.\", \"14-11.\", \"14-14.\", \"14-7.\", \"15-1.\", \"15-20.\", \"16-1.\", \"16-16.\", \"17-10.\", \"17-11.\", \"17-2.\", \"19-1.\", \"19-16.\", \"19-19.\", \"19-20.\", \"19-3.\", \"2-10.\", \"2-11.\", \"2-17.\", \"2-18.\", \"2-20.\", \"2-3.\", \"2-4.\", \"2-5.\", \"2-6.\", \"2-7.\", \"2-8.\", \"3-13.\", \"3-18.\", \"3-3.\", \"4-1.\", \"4-10.\", \"4-11.\", \"4-19.\", \"5-5.\", \"6-15.\", \"7-10.\", \"7-14.\", \"8-18.\", \"8-20.\", \"8-3.\", \"8-8.\"], \"domains\": [1, 2, 3, 4, 5], \"num_examples_per_domain_per_label\": -1, \"pickle_path\": \"/mnt/wd500GB/CSC500/csc500-main/datasets/cores.stratified_ds.2022A.pkl\", \"source_or_target_dataset\": \"target\", \"x_transforms\": [], \"episode_transforms\": [], \"domain_prefix\": \"C_\"}, {\"labels\": [\"1-10\", \"1-12\", \"1-14\", \"1-16\", \"1-18\", \"1-19\", \"1-8\", \"10-11\", \"10-17\", \"10-4\", \"10-7\", \"11-1\", \"11-10\", \"11-19\", \"11-20\", \"11-4\", \"11-7\", \"12-19\", \"12-20\", \"12-7\", \"13-14\", \"13-18\", \"13-19\", \"13-20\", \"13-3\", \"13-7\", \"14-10\", \"14-11\", \"14-12\", \"14-13\", \"14-14\", \"14-19\", \"14-20\", \"14-7\", \"14-8\", \"14-9\", \"15-1\", \"15-19\", \"15-6\", \"16-1\", \"16-16\", \"16-19\", \"16-20\", \"17-10\", \"17-11\", \"18-1\", \"18-10\", \"18-11\", \"18-12\", \"18-13\", \"18-14\", \"18-15\", \"18-16\", \"18-17\", \"18-19\", \"18-2\", \"18-20\", \"18-4\", \"18-5\", \"18-7\", \"18-8\", \"18-9\", \"19-1\", \"19-10\", \"19-11\", \"19-12\", \"19-13\", \"19-14\", \"19-15\", \"19-19\", \"19-2\", \"19-20\", \"19-3\", \"19-4\", \"19-6\", \"19-7\", \"19-8\", \"19-9\", \"2-1\", \"2-13\", \"2-15\", \"2-3\", \"2-4\", \"2-5\", \"2-6\", \"2-7\", \"2-8\", \"20-1\", \"20-12\", \"20-14\", \"20-15\", \"20-16\", \"20-18\", \"20-19\", \"20-20\", \"20-3\", \"20-4\", \"20-5\", \"20-7\", \"20-8\", \"3-1\", \"3-13\", \"3-18\", \"3-2\", \"3-8\", \"4-1\", \"4-10\", \"4-11\", \"5-1\", \"5-5\", \"6-1\", \"6-15\", \"6-6\", \"7-10\", \"7-11\", \"7-12\", \"7-13\", \"7-14\", \"7-7\", \"7-8\", \"7-9\", \"8-1\", \"8-13\", \"8-14\", \"8-18\", \"8-20\", \"8-3\", \"8-8\", \"9-1\", \"9-7\"], \"domains\": [1, 2, 3, 4], \"num_examples_per_domain_per_label\": -1, \"pickle_path\": \"/mnt/wd500GB/CSC500/csc500-main/datasets/wisig.node3-19.stratified_ds.2022A.pkl\", \"source_or_target_dataset\": \"target\", \"x_transforms\": [], \"episode_transforms\": [], \"domain_prefix\": \"W_\"}, {\"labels\": [\"3123D52\", \"3123D65\", \"3123D79\", \"3123D80\", \"3123D54\", \"3123D70\", \"3123D7B\", \"3123D89\", \"3123D58\", \"3123D76\", \"3123D7D\", \"3123EFE\", \"3123D64\", \"3123D78\", \"3123D7E\", \"3124E4A\"], \"domains\": [32, 38, 8, 44, 14, 50, 20, 26], \"num_examples_per_domain_per_label\": 2000, \"pickle_path\": \"/mnt/wd500GB/CSC500/csc500-main/datasets/oracle.Run1_framed_2000Examples_stratified_ds.2022A.pkl\", \"source_or_target_dataset\": \"source\", \"x_transforms\": [], \"episode_transforms\": [], \"domain_prefix\": \"O_\"}], \"seed\": 420, \"dataset_seed\": 420, \"x_shape\": [2, 256], \"domains_source\": [\"O_32\", \"O_38\", \"O_8\", \"O_44\", \"O_14\", \"O_50\", \"O_20\", \"O_26\"], \"domains_target\": [\"C_1\", \"C_2\", \"C_3\", \"C_4\", \"C_5\", \"W_1\", \"W_2\", \"W_3\", \"W_4\"]}, \"results\": {\"source_test_label_accuracy\": 0.75, \"source_test_label_loss\": 5.718052864074707, \"target_test_label_accuracy\": 0.8406283747300216, \"target_test_label_loss\": 2209.541015625, \"source_val_label_accuracy\": 0.7463541666666667, \"source_val_label_loss\": 5.9439802169799805, \"target_val_label_accuracy\": 0.8411930258099946, \"target_val_label_loss\": 2192.42333984375, \"total_epochs_trained\": 5, \"total_experiment_time_secs\": 953.9278409481049, \"confusion\": {\"O_14\": {\"15\": {\"15\": 240}, \"5\": {\"5\": 225, \"4\": 7, \"3\": 3, \"2\": 5}, \"7\": {\"7\": 240}, \"4\": {\"4\": 226, \"5\": 14}, \"10\": {\"10\": 240}, \"11\": {\"11\": 240}, \"12\": {\"12\": 240}, \"0\": {\"0\": 238, \"10\": 2}, \"14\": {\"14\": 225, \"13\": 13, \"2\": 2}, \"8\": {\"8\": 240}, \"13\": {\"6\": 99, \"14\": 70, \"13\": 58, \"2\": 11, \"15\": 2}, \"6\": {\"6\": 150, \"13\": 75, \"14\": 11, \"2\": 4}, \"1\": {\"1\": 240}, \"3\": {\"3\": 239, \"14\": 1}, \"9\": {\"9\": 240}, \"2\": {\"2\": 138, \"14\": 36, \"5\": 34, \"13\": 6, \"6\": 14, \"3\": 4, \"4\": 8}}, \"O_20\": {\"4\": {\"4\": 239, \"12\": 1}, \"10\": {\"10\": 240}, \"15\": {\"15\": 217, \"1\": 17, \"12\": 5, \"13\": 1}, \"0\": {\"0\": 236, \"5\": 3, \"8\": 1}, \"6\": {\"6\": 239, \"7\": 1}, \"3\": {\"3\": 213, \"9\": 9, \"1\": 6, \"8\": 9, \"5\": 3}, \"7\": {\"7\": 195, \"9\": 20, \"2\": 24, \"4\": 1}, \"2\": {\"7\": 29, \"2\": 190, \"12\": 12, \"13\": 6, \"9\": 3}, \"8\": {\"8\": 229, \"3\": 8, \"14\": 3}, \"11\": {\"11\": 240}, \"14\": {\"14\": 240}, \"12\": {\"2\": 11, \"12\": 227, \"15\": 1, \"7\": 1}, \"13\": {\"13\": 238, \"2\": 2}, \"9\": {\"9\": 204, \"2\": 5, \"3\": 16, \"7\": 15}, \"5\": {\"5\": 207, \"1\": 31, \"3\": 2}, \"1\": {\"1\": 204, \"5\": 24, \"15\": 8, \"3\": 2, \"9\": 1, \"12\": 1}}, \"O_50\": {\"5\": {\"5\": 54, \"4\": 27, \"7\": 32, \"15\": 40, \"6\": 51, \"13\": 13, \"11\": 8, \"3\": 9, \"9\": 4, \"1\": 2}, \"12\": {\"12\": 167, \"11\": 32, \"9\": 41}, \"14\": {\"2\": 106, \"14\": 128, \"0\": 6}, \"4\": {\"4\": 124, \"7\": 79, \"15\": 15, \"6\": 4, \"5\": 15, \"9\": 3}, \"13\": {\"13\": 200, \"3\": 10, \"1\": 29, \"5\": 1}, \"10\": {\"10\": 220, \"8\": 17, \"0\": 3}, \"9\": {\"9\": 172, \"12\": 52, \"15\": 9, \"11\": 5, \"4\": 2}, \"15\": {\"6\": 69, \"15\": 137, \"4\": 1, \"11\": 5, \"9\": 13, \"5\": 14, \"7\": 1}, \"6\": {\"7\": 2, \"15\": 67, \"5\": 24, \"6\": 135, \"3\": 9, \"11\": 2, \"4\": 1}, \"2\": {\"0\": 29, \"2\": 127, \"14\": 84}, \"0\": {\"0\": 222, \"2\": 10, \"14\": 3, \"10\": 5}, \"11\": {\"11\": 194, \"9\": 10, \"12\": 19, \"6\": 6, \"15\": 9, \"5\": 1, \"3\": 1}, \"3\": {\"6\": 15, \"3\": 206, \"15\": 1, \"5\": 7, \"13\": 11}, \"8\": {\"8\": 191, \"10\": 36, \"1\": 13}, \"7\": {\"4\": 72, \"7\": 129, \"5\": 32, \"15\": 7}, \"1\": {\"1\": 147, \"13\": 43, \"11\": 2, \"8\": 29, \"10\": 19}}, \"O_26\": {\"7\": {\"8\": 35, \"7\": 187, \"2\": 10, \"3\": 8}, \"6\": {\"6\": 204, \"15\": 33, \"10\": 2, \"5\": 1}, \"14\": {\"14\": 180, \"10\": 47, \"6\": 1, \"1\": 1, \"0\": 11}, \"15\": {\"15\": 155, \"10\": 2, \"6\": 40, \"5\": 42, \"0\": 1}, \"5\": {\"5\": 221, \"15\": 18, \"6\": 1}, \"10\": {\"0\": 27, \"10\": 175, \"14\": 34, \"15\": 3, \"6\": 1}, \"4\": {\"4\": 240}, \"11\": {\"11\": 124, \"15\": 28, \"1\": 17, \"5\": 31, \"6\": 40}, \"13\": {\"13\": 219, \"9\": 9, \"2\": 5, \"3\": 7}, \"2\": {\"9\": 11, \"3\": 30, \"2\": 159, \"7\": 33, \"8\": 3, \"0\": 4}, \"0\": {\"14\": 11, \"0\": 198, \"10\": 29, \"15\": 1, \"8\": 1}, \"12\": {\"12\": 240}, \"3\": {\"3\": 218, \"7\": 19, \"2\": 3}, \"9\": {\"9\": 177, \"8\": 41, \"13\": 9, \"7\": 3, \"2\": 9, \"4\": 1}, \"8\": {\"8\": 202, \"9\": 6, \"7\": 32}, \"1\": {\"1\": 153, \"14\": 60, \"6\": 15, \"11\": 8, \"10\": 3, \"15\": 1}}, \"O_32\": {\"7\": {\"7\": 108, \"0\": 40, \"5\": 51, \"14\": 20, \"8\": 21}, \"2\": {\"2\": 138, \"4\": 71, \"3\": 19, \"8\": 3, \"13\": 4, \"14\": 3, \"0\": 2}, \"5\": {\"5\": 99, \"15\": 23, \"7\": 59, \"8\": 26, \"0\": 27, \"14\": 6}, \"6\": {\"6\": 240}, \"13\": {\"4\": 24, \"3\": 37, \"12\": 29, \"9\": 38, \"13\": 103, \"11\": 1, \"2\": 6, \"10\": 2}, \"4\": {\"4\": 102, \"2\": 59, \"3\": 61, \"13\": 17, \"9\": 1}, \"3\": {\"3\": 106, \"4\": 55, \"2\": 36, \"13\": 42, \"0\": 1}, \"0\": {\"0\": 88, \"8\": 58, \"5\": 32, \"14\": 19, \"7\": 42, \"4\": 1}, \"9\": {\"9\": 139, \"10\": 24, \"12\": 52, \"11\": 16, \"13\": 7, \"1\": 2}, \"12\": {\"12\": 136, \"9\": 46, \"10\": 55, \"13\": 3}, \"8\": {\"0\": 69, \"8\": 111, \"7\": 18, \"5\": 17, \"15\": 2, \"2\": 13, \"4\": 2, \"14\": 8}, \"14\": {\"7\": 55, \"0\": 27, \"14\": 116, \"5\": 14, \"2\": 14, \"8\": 11, \"3\": 3}, \"15\": {\"15\": 159, \"5\": 61, \"8\": 6, \"0\": 6, \"7\": 8}, \"11\": {\"6\": 7, \"11\": 220, \"13\": 2, \"10\": 5, \"12\": 5, \"9\": 1}, \"10\": {\"12\": 61, \"10\": 142, \"11\": 12, \"9\": 25}, \"1\": {\"1\": 238, \"8\": 2}}, \"O_44\": {\"11\": {\"11\": 240}, \"7\": {\"7\": 96, \"9\": 65, \"10\": 61, \"4\": 15, \"6\": 2, \"13\": 1}, \"6\": {\"13\": 97, \"6\": 136, \"9\": 6, \"11\": 1}, \"12\": {\"12\": 133, \"3\": 106, \"1\": 1}, \"4\": {\"5\": 32, \"10\": 19, \"14\": 36, \"7\": 22, \"15\": 32, \"4\": 73, \"8\": 4, \"9\": 18, \"2\": 4}, \"13\": {\"6\": 104, \"13\": 111, \"9\": 24, \"10\": 1}, \"8\": {\"15\": 44, \"8\": 128, \"0\": 53, \"5\": 10, \"4\": 3, \"2\": 2}, \"5\": {\"4\": 40, \"14\": 63, \"5\": 106, \"2\": 2, \"8\": 11, \"15\": 18}, \"14\": {\"14\": 100, \"5\": 47, \"2\": 5, \"4\": 66, \"8\": 1, \"15\": 20, \"10\": 1}, \"3\": {\"3\": 132, \"12\": 106, \"0\": 2}, \"10\": {\"9\": 14, \"10\": 157, \"7\": 44, \"1\": 8, \"2\": 7, \"4\": 9, \"14\": 1}, \"1\": {\"2\": 40, \"1\": 194, \"15\": 1, \"14\": 2, \"8\": 3}, \"2\": {\"2\": 165, \"1\": 15, \"15\": 30, \"4\": 8, \"14\": 14, \"8\": 5, \"5\": 1, \"9\": 1, \"10\": 1}, \"15\": {\"15\": 108, \"14\": 23, \"2\": 39, \"5\": 11, \"8\": 40, \"0\": 1, \"4\": 15, \"10\": 1, \"1\": 2}, \"9\": {\"9\": 69, \"7\": 53, \"6\": 25, \"4\": 27, \"14\": 16, \"5\": 1, \"2\": 3, \"10\": 13, \"13\": 30, \"15\": 3}, \"0\": {\"8\": 41, \"0\": 198, \"3\": 1}}, \"O_8\": {\"10\": {\"10\": 198, \"13\": 33, \"5\": 7, \"4\": 2}, \"6\": {\"6\": 216, \"7\": 24}, \"13\": {\"13\": 185, \"5\": 3, \"10\": 38, \"7\": 13, \"6\": 1}, \"3\": {\"3\": 240}, \"9\": {\"9\": 240}, \"1\": {\"1\": 167, \"11\": 55, \"5\": 14, \"10\": 4}, \"5\": {\"5\": 181, \"1\": 16, \"10\": 34, \"4\": 1, \"11\": 7, \"14\": 1}, \"11\": {\"1\": 111, \"11\": 107, \"0\": 3, \"14\": 4, \"5\": 7, \"8\": 6, \"4\": 2}, \"4\": {\"4\": 239, \"6\": 1}, \"14\": {\"4\": 57, \"14\": 176, \"1\": 1, \"11\": 5, \"8\": 1}, \"12\": {\"12\": 176, \"15\": 64}, \"7\": {\"7\": 228, \"6\": 12}, \"0\": {\"0\": 187, \"14\": 44, \"8\": 1, \"11\": 6, \"1\": 2}, \"15\": {\"15\": 217, \"12\": 23}, \"2\": {\"3\": 22, \"2\": 209, \"15\": 3, \"12\": 6}, \"8\": {\"8\": 240}}, \"O_38\": {\"4\": {\"10\": 6, \"4\": 233, \"0\": 1}, \"7\": {\"7\": 140, \"2\": 30, \"14\": 22, \"9\": 10, \"13\": 24, \"0\": 9, \"10\": 2, \"8\": 1, \"5\": 2}, \"12\": {\"12\": 215, \"14\": 9, \"8\": 6, \"15\": 8, \"5\": 2}, \"10\": {\"10\": 151, \"0\": 59, \"4\": 23, \"3\": 4, \"13\": 3}, \"0\": {\"13\": 59, \"10\": 77, \"0\": 58, \"7\": 18, \"3\": 14, \"9\": 2, \"2\": 4, \"14\": 2, \"4\": 4, \"8\": 1, \"5\": 1}, \"1\": {\"1\": 212, \"6\": 28}, \"5\": {\"9\": 33, \"5\": 83, \"8\": 83, \"15\": 26, \"2\": 10, \"7\": 4, \"12\": 1}, \"15\": {\"5\": 16, \"15\": 185, \"1\": 15, \"8\": 20, \"6\": 4}, \"9\": {\"9\": 218, \"5\": 18, \"8\": 4}, \"11\": {\"11\": 235, \"3\": 5}, \"14\": {\"14\": 176, \"7\": 17, \"2\": 35, \"12\": 1, \"0\": 2, \"10\": 3, \"13\": 6}, \"6\": {\"6\": 194, \"1\": 45, \"15\": 1}, \"8\": {\"8\": 86, \"5\": 71, \"2\": 42, \"9\": 7, \"15\": 23, \"7\": 9, \"14\": 2}, \"3\": {\"3\": 230, \"11\": 6, \"10\": 4}, \"2\": {\"2\": 195, \"8\": 21, \"5\": 10, \"7\": 8, \"14\": 6}, \"13\": {\"13\": 138, \"0\": 45, \"2\": 11, \"7\": 37, \"10\": 5, \"9\": 2, \"5\": 1, \"14\": 1}}, \"W_3\": {\"110\": {\"110\": 75, \"122\": 1, \"44\": 1, \"87\": 8, \"118\": 1, \"15\": 1, \"111\": 1, \"12\": 1, \"60\": 1, \"88\": 1, \"98\": 1}, \"1\": {\"1\": 96, \"40\": 3, \"3\": 4, \"107\": 1, \"39\": 1, \"114\": 3}, \"2\": {\"117\": 4, \"2\": 21, \"92\": 1, \"116\": 1, \"115\": 1}, \"94\": {\"94\": 57, \"27\": 1, \"15\": 9, \"0\": 3, \"39\": 2, \"122\": 2, \"8\": 4, \"108\": 2, \"121\": 1, \"30\": 1, \"12\": 2}, \"64\": {\"64\": 19, \"102\": 1}, \"78\": {\"78\": 10, \"88\": 4, \"21\": 2}, \"47\": {\"47\": 9, \"3\": 2, \"103\": 1}, \"127\": {\"127\": 122, \"72\": 2, \"3\": 1, \"105\": 1, \"7\": 1, \"109\": 1}, \"89\": {\"103\": 3, \"89\": 17, \"82\": 3, \"92\": 1, \"90\": 3, \"64\": 1}, \"79\": {\"79\": 12}, \"22\": {\"89\": 1, \"22\": 10, \"29\": 1, \"82\": 1, \"48\": 2, \"104\": 1}, \"117\": {\"117\": 109, \"120\": 2, \"33\": 1}, \"49\": {\"49\": 9, \"110\": 1, \"16\": 1, \"7\": 5, \"14\": 3, \"127\": 1, \"1\": 1, \"19\": 1, \"122\": 1, \"40\": 1}, \"14\": {\"14\": 75, \"49\": 1, \"71\": 1, \"40\": 1, \"84\": 1, \"114\": 1}, \"103\": {\"79\": 1, \"103\": 11, \"85\": 2, \"115\": 1, \"50\": 1}, \"123\": {\"123\": 15, \"63\": 1}, \"98\": {\"98\": 92, \"83\": 2, \"55\": 2, \"95\": 1, \"19\": 2, \"1\": 5, \"84\": 1, \"114\": 4, \"3\": 4, \"5\": 1, \"107\": 3, \"38\": 1, \"34\": 1, \"9\": 1, \"32\": 2, \"72\": 1, \"99\": 1, \"40\": 2, \"33\": 1, \"117\": 1}, \"18\": {\"18\": 108}, \"61\": {\"61\": 16}, \"108\": {\"108\": 91, \"27\": 5, \"10\": 2, \"15\": 4, \"30\": 1, \"36\": 14, \"11\": 4, \"8\": 2, \"0\": 2, \"109\": 1}, \"100\": {\"100\": 13, \"28\": 1, \"107\": 1, \"128\": 1}, \"0\": {\"8\": 6, \"0\": 98, \"15\": 6, \"10\": 1, \"108\": 1, \"30\": 2, \"94\": 2}, \"107\": {\"107\": 127, \"114\": 3}, \"58\": {\"58\": 11, \"52\": 1, \"54\": 1, \"111\": 2, \"25\": 1}, \"8\": {\"8\": 80, \"0\": 12, \"106\": 1, \"108\": 2, \"94\": 7, \"15\": 11, \"110\": 3, \"97\": 1, \"23\": 2, \"7\": 1}, \"85\": {\"85\": 27, \"38\": 1, \"52\": 1, \"112\": 1, \"45\": 1, \"103\": 2, \"32\": 1, \"66\": 1, \"42\": 1}, \"31\": {\"107\": 2, \"31\": 9, \"33\": 2, \"18\": 2, \"69\": 1, \"26\": 2, \"44\": 1, \"10\": 1}, \"81\": {\"81\": 29, \"29\": 1, \"61\": 1, \"33\": 1}, \"60\": {\"60\": 20, \"43\": 1, \"23\": 2, \"110\": 2, \"62\": 1, \"106\": 1, \"122\": 1}, \"102\": {\"102\": 113, \"2\": 1, \"117\": 2}, \"19\": {\"98\": 2, \"28\": 1, \"19\": 14, \"100\": 2, \"128\": 1, \"9\": 1, \"29\": 1, \"5\": 2, \"82\": 1, \"85\": 1, \"55\": 1, \"95\": 1, \"46\": 1, \"44\": 1, \"83\": 1, \"105\": 1}, \"23\": {\"60\": 3, \"23\": 12, \"97\": 3, \"69\": 1, \"11\": 1, \"107\": 1, \"101\": 1, \"122\": 3, \"36\": 1, \"8\": 1, \"26\": 1, \"12\": 1, \"110\": 1, \"18\": 1, \"15\": 1}, \"32\": {\"32\": 27, \"44\": 2, \"65\": 1, \"17\": 1, \"69\": 1}, \"39\": {\"39\": 99, \"43\": 1, \"101\": 1, \"21\": 1, \"109\": 1, \"11\": 2, \"126\": 2, \"113\": 1}, \"129\": {\"129\": 29, \"115\": 1, \"116\": 1, \"45\": 1}, \"71\": {\"99\": 2, \"3\": 1, \"71\": 53, \"105\": 7, \"127\": 4, \"109\": 1}, \"91\": {\"91\": 13, \"121\": 1, \"6\": 2, \"57\": 2, \"37\": 2, \"52\": 1, \"73\": 1, \"70\": 1, \"5\": 1}, \"101\": {\"101\": 38, \"70\": 1, \"12\": 6, \"106\": 4, \"51\": 1, \"11\": 1, \"110\": 1}, \"62\": {\"62\": 115, \"23\": 1, \"93\": 2, \"88\": 2, \"84\": 1, \"49\": 1}, \"63\": {\"63\": 16}, \"125\": {\"125\": 112, \"111\": 7, \"102\": 1}, \"57\": {\"32\": 2, \"91\": 2, \"83\": 2, \"28\": 2, \"57\": 6, \"129\": 1, \"128\": 1, \"19\": 1, \"5\": 2, \"53\": 1}, \"28\": {\"28\": 10, \"76\": 2, \"20\": 2, \"74\": 2}, \"70\": {\"70\": 48, \"88\": 9, \"39\": 4, \"24\": 2, \"108\": 1, \"36\": 2, \"10\": 2, \"27\": 2, \"109\": 2}, \"99\": {\"99\": 19, \"3\": 3, \"1\": 1, \"21\": 1, \"40\": 1, \"11\": 1, \"72\": 1, \"71\": 2, \"75\": 1, \"12\": 1, \"56\": 1, \"38\": 1, \"105\": 3}, \"121\": {\"121\": 26, \"90\": 2, \"61\": 1, \"117\": 1, \"97\": 1, \"107\": 1}, \"4\": {\"80\": 1, \"86\": 1, \"4\": 92, \"17\": 1, \"94\": 1}, \"80\": {\"80\": 14, \"67\": 2}, \"51\": {\"51\": 8, \"111\": 1, \"106\": 2, \"47\": 1, \"77\": 1, \"101\": 1, \"7\": 2}, \"3\": {\"3\": 102, \"40\": 6, \"14\": 1, \"105\": 4, \"71\": 1, \"70\": 1, \"109\": 1}, \"9\": {\"9\": 26, \"99\": 1, \"95\": 3, \"38\": 1, \"105\": 1}, \"53\": {\"53\": 10, \"66\": 1, \"56\": 2, \"72\": 1, \"42\": 1, \"74\": 1, \"114\": 1, \"116\": 1, \"11\": 1, \"105\": 1}, \"30\": {\"30\": 65, \"15\": 1, \"94\": 1, \"36\": 7, \"122\": 1, \"0\": 3, \"108\": 1, \"8\": 3, \"92\": 1, \"87\": 1}, \"33\": {\"33\": 115, \"26\": 2, \"18\": 3, \"69\": 2}, \"15\": {\"15\": 75, \"97\": 2, \"94\": 12, \"0\": 9, \"8\": 2, \"30\": 3, \"88\": 1}, \"97\": {\"30\": 1, \"15\": 1, \"97\": 18}, \"86\": {\"4\": 2, \"86\": 21, \"42\": 2, \"48\": 1, \"59\": 1, \"8\": 1}, \"20\": {\"20\": 10, \"1\": 1, \"76\": 2, \"55\": 1, \"53\": 2}, \"66\": {\"53\": 1, \"66\": 5, \"65\": 4, \"77\": 1, \"55\": 1, \"112\": 2, \"111\": 1, \"85\": 1}, \"10\": {\"10\": 94, \"122\": 2, \"27\": 8, \"30\": 1, \"88\": 1, \"36\": 3, \"108\": 5, \"8\": 1, \"24\": 4, \"70\": 1, \"5\": 1, \"0\": 1}, \"29\": {\"29\": 30, \"45\": 1, \"90\": 1}, \"109\": {\"109\": 92, \"43\": 6, \"122\": 1, \"87\": 2, \"39\": 3, \"10\": 1, \"90\": 1, \"11\": 8}, \"52\": {\"52\": 8, \"72\": 1, \"74\": 1, \"41\": 1, \"42\": 1, \"73\": 1, \"6\": 1, \"83\": 1, \"66\": 1}, \"67\": {\"67\": 14, \"117\": 1, \"121\": 1}, \"83\": {\"83\": 15, \"78\": 1, \"73\": 1, \"9\": 1, \"43\": 1, \"128\": 1, \"95\": 1, \"71\": 1, \"98\": 2}, \"72\": {\"72\": 26, \"75\": 1, \"99\": 1}, \"90\": {\"90\": 120, \"117\": 2, \"26\": 1, \"3\": 1, \"29\": 1, \"89\": 1}, \"69\": {\"69\": 74, \"53\": 1, \"26\": 3, \"117\": 1, \"33\": 2, \"107\": 1, \"1\": 2}, \"88\": {\"88\": 106, \"27\": 1, \"70\": 1, \"39\": 1, \"78\": 1, \"109\": 1, \"10\": 1}, \"115\": {\"115\": 14, \"29\": 1, \"48\": 1}, \"73\": {\"73\": 24, \"116\": 1, \"103\": 2, \"68\": 1, \"95\": 1, \"88\": 1, \"42\": 1, \"99\": 1, \"25\": 1, \"27\": 1, \"109\": 1, \"91\": 1, \"9\": 1, \"89\": 1, \"32\": 1, \"33\": 1}, \"34\": {\"34\": 16, \"32\": 1, \"54\": 3, \"69\": 1, \"114\": 2, \"107\": 2, \"58\": 1, \"47\": 3, \"72\": 1, \"53\": 1, \"25\": 1}, \"25\": {\"25\": 15, \"73\": 1}, \"44\": {\"44\": 68, \"105\": 1, \"81\": 1, \"33\": 2}, \"112\": {\"5\": 2, \"91\": 1, \"127\": 1, \"103\": 1, \"85\": 3, \"86\": 1, \"104\": 1, \"112\": 4, \"42\": 1, \"59\": 1}, \"37\": {\"111\": 2, \"68\": 1, \"37\": 7, \"91\": 2, \"73\": 1, \"77\": 1, \"85\": 2}, \"77\": {\"77\": 14, \"46\": 1, \"57\": 1}, \"111\": {\"111\": 104, \"6\": 2, \"124\": 13, \"11\": 2, \"10\": 1}, \"119\": {\"67\": 1, \"119\": 12, \"102\": 1, \"121\": 2}, \"56\": {\"98\": 1, \"56\": 8, \"91\": 1, \"95\": 2}, \"5\": {\"5\": 95, \"129\": 1, \"124\": 6, \"70\": 1, \"125\": 2, \"98\": 1, \"45\": 2, \"42\": 1, \"21\": 1, \"111\": 2}, \"122\": {\"122\": 41, \"110\": 6, \"109\": 3, \"87\": 3, \"0\": 3, \"21\": 1, \"8\": 1, \"118\": 1, \"94\": 1}, \"74\": {\"74\": 11, \"1\": 1, \"107\": 1, \"64\": 1, \"53\": 1, \"57\": 1}, \"11\": {\"11\": 90, \"43\": 3, \"122\": 7, \"109\": 18, \"118\": 5, \"87\": 14, \"27\": 4, \"126\": 1, \"108\": 8, \"110\": 1, \"39\": 1}, \"41\": {\"74\": 1, \"52\": 1, \"41\": 11, \"85\": 2, \"98\": 1}, \"104\": {\"104\": 13, \"6\": 1, \"116\": 1, \"66\": 1}, \"21\": {\"21\": 48}, \"118\": {\"118\": 96, \"60\": 1, \"39\": 1, \"87\": 2}, \"40\": {\"40\": 91, \"21\": 1, \"3\": 7, \"71\": 1, \"114\": 7, \"127\": 6, \"14\": 1, \"62\": 3, \"84\": 3, \"105\": 1, \"1\": 1}, \"6\": {\"6\": 25, \"73\": 1, \"41\": 1, \"111\": 1, \"68\": 1, \"91\": 1, \"124\": 2}, \"27\": {\"27\": 63, \"0\": 1, \"24\": 4, \"10\": 12, \"108\": 2, \"36\": 11, \"30\": 2, \"70\": 1}, \"113\": {\"113\": 113, \"21\": 1, \"93\": 2, \"118\": 1, \"126\": 2, \"84\": 1}, \"68\": {\"68\": 14, \"6\": 1, \"73\": 1}, \"12\": {\"12\": 90, \"97\": 1, \"7\": 8, \"101\": 2, \"106\": 1}, \"54\": {\"54\": 8, \"72\": 2, \"35\": 2, \"34\": 2, \"42\": 1, \"75\": 1}, \"24\": {\"24\": 27, \"10\": 1, \"30\": 1, \"0\": 1, \"27\": 6, \"36\": 2, \"11\": 2, \"70\": 3, \"78\": 2, \"108\": 3}, \"106\": {\"106\": 82, \"101\": 3, \"94\": 5, \"12\": 5, \"87\": 1, \"97\": 2, \"8\": 1, \"15\": 1}, \"128\": {\"128\": 21, \"32\": 3, \"25\": 1, \"99\": 1, \"9\": 1, \"98\": 2, \"95\": 3}, \"48\": {\"86\": 4, \"48\": 3, \"104\": 1, \"59\": 1, \"91\": 1, \"79\": 2, \"22\": 2, \"2\": 2}, \"92\": {\"92\": 25, \"89\": 2, \"18\": 1, \"90\": 2, \"61\": 2}, \"35\": {\"35\": 10, \"65\": 1, \"91\": 1}, \"116\": {\"116\": 25, \"82\": 1, \"102\": 1, \"29\": 1}, \"38\": {\"9\": 2, \"129\": 1, \"38\": 7, \"95\": 2, \"28\": 1, \"32\": 1, \"99\": 2}, \"126\": {\"24\": 2, \"126\": 120, \"109\": 1, \"17\": 1}, \"46\": {\"46\": 10, \"128\": 2, \"98\": 1, \"74\": 1, \"37\": 1, \"42\": 1}, \"120\": {\"120\": 15, \"17\": 1, \"117\": 2, \"13\": 2}, \"7\": {\"7\": 102, \"101\": 1, \"106\": 1, \"12\": 5, \"51\": 2, \"113\": 1}, \"13\": {\"13\": 12, \"116\": 1, \"70\": 1, \"122\": 1, \"88\": 1}, \"43\": {\"43\": 42, \"118\": 6, \"109\": 2, \"11\": 1, \"87\": 1, \"113\": 1, \"10\": 1, \"39\": 2}, \"93\": {\"93\": 99, \"113\": 5, \"96\": 2, \"26\": 1, \"16\": 11, \"62\": 9, \"90\": 1, \"107\": 1, \"84\": 2, \"44\": 1}, \"26\": {\"26\": 131, \"36\": 1}, \"76\": {\"76\": 7, \"44\": 1, \"33\": 1, \"28\": 2, \"38\": 2, \"32\": 1, \"90\": 1, \"89\": 1}, \"59\": {\"59\": 10, \"6\": 1, \"68\": 1}, \"65\": {\"66\": 2, \"65\": 7, \"17\": 1, \"128\": 2}, \"87\": {\"87\": 108, \"118\": 3, \"110\": 6, \"11\": 2, \"39\": 1}, \"124\": {\"124\": 99, \"85\": 1, \"111\": 15, \"125\": 2, \"89\": 1, \"77\": 2, \"68\": 3, \"90\": 1}, \"84\": {\"84\": 85, \"16\": 7, \"111\": 1, \"93\": 5, \"62\": 2, \"49\": 1, \"23\": 1, \"14\": 3, \"40\": 2, \"33\": 1}, \"82\": {\"82\": 22, \"89\": 4, \"29\": 2}, \"75\": {\"75\": 14, \"7\": 1, \"60\": 1}, \"17\": {\"4\": 1, \"17\": 6, \"67\": 1, \"129\": 2, \"79\": 1, \"78\": 1, \"86\": 1, \"88\": 1, \"5\": 1, \"73\": 1}, \"105\": {\"71\": 11, \"105\": 109, \"114\": 1, \"3\": 3}, \"95\": {\"95\": 27, \"101\": 2, \"9\": 1, \"99\": 1, \"98\": 1}, \"42\": {\"19\": 2, \"42\": 9, \"34\": 1, \"73\": 2, \"124\": 2, \"9\": 1, \"58\": 2, \"5\": 5, \"129\": 1, \"46\": 1, \"85\": 1, \"111\": 1}, \"55\": {\"55\": 15, \"103\": 1}, \"16\": {\"16\": 88, \"14\": 2, \"93\": 21, \"96\": 1, \"97\": 1, \"23\": 2, \"126\": 1}, \"50\": {\"5\": 1, \"50\": 11, \"129\": 1, \"116\": 1, \"48\": 1, \"100\": 1}, \"96\": {\"43\": 1, \"3\": 1, \"96\": 14, \"113\": 2, \"126\": 2}, \"45\": {\"45\": 15, \"90\": 1}, \"36\": {\"36\": 94, \"30\": 5, \"27\": 3, \"10\": 7, \"0\": 4, \"8\": 1, \"108\": 5, \"24\": 1}, \"114\": {\"114\": 105, \"36\": 1, \"1\": 7, \"3\": 1, \"107\": 5, \"40\": 1, \"127\": 1, \"4\": 1, \"11\": 1, \"117\": 1}}, \"W_4\": {\"113\": {\"113\": 114, \"109\": 2, \"93\": 2, \"16\": 1, \"62\": 1, \"11\": 1, \"40\": 1, \"24\": 1, \"114\": 1}, \"85\": {\"85\": 24, \"25\": 1, \"32\": 1, \"14\": 1, \"46\": 1}, \"34\": {\"34\": 23, \"40\": 1, \"72\": 2, \"49\": 1, \"75\": 1, \"114\": 1, \"52\": 1, \"71\": 2}, \"55\": {\"85\": 2, \"55\": 10, \"89\": 1, \"29\": 1, \"100\": 1, \"103\": 1}, \"42\": {\"42\": 9, \"102\": 1, \"120\": 1, \"29\": 1, \"116\": 1, \"6\": 4, \"129\": 1, \"48\": 1, \"98\": 1, \"119\": 1, \"91\": 1, \"37\": 1, \"95\": 1, \"111\": 1, \"17\": 1, \"112\": 1, \"67\": 1}, \"13\": {\"42\": 1, \"13\": 14, \"50\": 1}, \"69\": {\"49\": 4, \"69\": 89, \"39\": 2, \"88\": 3, \"84\": 6, \"1\": 4, \"109\": 1, \"33\": 2, \"83\": 1, \"74\": 2, \"5\": 1, \"114\": 4, \"26\": 1, \"105\": 1, \"108\": 1, \"107\": 2}, \"35\": {\"35\": 11, \"61\": 1}, \"83\": {\"83\": 10, \"21\": 1, \"32\": 1, \"107\": 6, \"89\": 1, \"62\": 1, \"69\": 1, \"128\": 1, \"73\": 1, \"82\": 1, \"78\": 1, \"49\": 2, \"71\": 1}, \"51\": {\"72\": 1, \"24\": 1, \"70\": 1, \"62\": 1, \"51\": 3, \"43\": 1, \"89\": 1, \"41\": 1, \"12\": 1, \"101\": 1, \"39\": 1, \"9\": 2, \"21\": 1}, \"72\": {\"72\": 14, \"69\": 1, \"1\": 2, \"62\": 1, \"40\": 3, \"99\": 4, \"78\": 1, \"3\": 3, \"14\": 1, \"71\": 1, \"12\": 1}, \"24\": {\"24\": 75, \"10\": 12, \"94\": 3, \"21\": 1, \"0\": 1, \"78\": 3, \"70\": 11, \"88\": 2, \"108\": 3, \"36\": 4, \"27\": 3, \"30\": 1, \"97\": 1}, \"53\": {\"34\": 2, \"53\": 4, \"71\": 1, \"27\": 1, \"114\": 2, \"49\": 2, \"127\": 2, \"105\": 2}, \"8\": {\"8\": 75, \"0\": 10, \"106\": 4, \"15\": 17, \"109\": 3, \"7\": 2, \"30\": 3, \"118\": 1, \"101\": 10, \"87\": 4, \"94\": 6, \"43\": 3, \"66\": 1, \"36\": 2, \"21\": 1, \"70\": 1, \"122\": 1}, \"49\": {\"83\": 1, \"49\": 13, \"12\": 2, \"106\": 1, \"5\": 4, \"105\": 1, \"23\": 1, \"34\": 1, \"3\": 1, \"95\": 1, \"76\": 2, \"53\": 1, \"1\": 1, \"71\": 1, \"127\": 1}, \"21\": {\"21\": 37, \"23\": 1, \"88\": 1, \"109\": 1}, \"18\": {\"18\": 112, \"32\": 2, \"35\": 2, \"24\": 1, \"108\": 1, \"26\": 2}, \"114\": {\"114\": 100, \"85\": 2, \"1\": 3, \"3\": 5, \"40\": 1, \"105\": 1, \"88\": 1, \"107\": 2, \"98\": 2, \"36\": 1}, \"58\": {\"58\": 12, \"45\": 1, \"108\": 1, \"29\": 1, \"40\": 1}, \"56\": {\"56\": 11, \"98\": 1}, \"80\": {\"80\": 16}, \"11\": {\"11\": 120, \"118\": 5, \"62\": 1, \"60\": 1, \"110\": 14, \"78\": 1, \"93\": 6, \"113\": 1, \"122\": 4, \"24\": 1}, \"15\": {\"15\": 91, \"0\": 7, \"87\": 2, \"30\": 4, \"88\": 2, \"94\": 4, \"8\": 13, \"101\": 2, \"109\": 3}, \"50\": {\"73\": 2, \"57\": 2, \"31\": 2, \"50\": 4, \"98\": 1, \"115\": 1, \"92\": 2, \"102\": 1, \"119\": 1}, \"111\": {\"111\": 130, \"124\": 5, \"125\": 1, \"27\": 1, \"33\": 1}, \"108\": {\"108\": 38, \"78\": 3, \"70\": 8, \"109\": 11, \"88\": 6, \"39\": 5, \"24\": 3, \"98\": 1, \"10\": 8, \"43\": 2, \"126\": 1, \"30\": 1, \"128\": 1, \"124\": 1, \"94\": 1, \"27\": 1, \"12\": 1}, \"104\": {\"104\": 8, \"55\": 1, \"17\": 1, \"82\": 1, \"128\": 1, \"91\": 1, \"4\": 1, \"124\": 1, \"111\": 1}, \"32\": {\"83\": 2, \"107\": 2, \"32\": 15, \"20\": 1, \"120\": 1, \"1\": 1, \"105\": 1, \"34\": 1, \"40\": 1, \"128\": 1, \"74\": 1, \"33\": 1}, \"68\": {\"111\": 2, \"68\": 13, \"108\": 1}, \"73\": {\"32\": 1, \"73\": 14, \"57\": 2, \"67\": 1, \"64\": 1, \"44\": 1, \"91\": 1, \"33\": 1, \"1\": 1, \"83\": 1}, \"92\": {\"107\": 1, \"121\": 1, \"45\": 2, \"66\": 1, \"92\": 15, \"42\": 1, \"44\": 1, \"83\": 1, \"33\": 1, \"90\": 2, \"129\": 2}, \"57\": {\"57\": 16}, \"40\": {\"40\": 100, \"72\": 1, \"71\": 3, \"108\": 1, \"105\": 1, \"109\": 1, \"114\": 4, \"1\": 11, \"3\": 5, \"107\": 1, \"99\": 1, \"70\": 1, \"69\": 3, \"88\": 1, \"5\": 1, \"14\": 1}, \"71\": {\"71\": 91, \"14\": 1, \"3\": 1, \"105\": 4, \"24\": 1, \"43\": 1, \"40\": 2, \"109\": 1, \"114\": 2}, \"121\": {\"121\": 27, \"38\": 1, \"21\": 1, \"33\": 2, \"90\": 1}, \"62\": {\"62\": 38, \"11\": 5, \"113\": 1, \"43\": 2, \"96\": 1, \"60\": 1, \"118\": 2, \"93\": 5, \"109\": 1, \"105\": 1, \"108\": 1, \"10\": 1, \"126\": 1}, \"39\": {\"39\": 82, \"88\": 2, \"109\": 6, \"126\": 1, \"118\": 1, \"27\": 2, \"70\": 1, \"122\": 1, \"24\": 2, \"11\": 1, \"108\": 1}, \"107\": {\"107\": 123, \"90\": 2, \"3\": 9, \"40\": 1, \"1\": 2, \"69\": 2, \"114\": 5}, \"60\": {\"7\": 4, \"60\": 19, \"62\": 3, \"118\": 1, \"122\": 1, \"96\": 1, \"11\": 1, \"84\": 1, \"93\": 1}, \"129\": {\"129\": 18, \"119\": 1, \"2\": 1, \"112\": 1, \"19\": 1, \"48\": 1, \"98\": 1, \"92\": 1, \"68\": 1, \"55\": 1, \"37\": 1}, \"84\": {\"84\": 111, \"69\": 5, \"72\": 2, \"88\": 3, \"3\": 1, \"8\": 1, \"109\": 1, \"99\": 2, \"108\": 2, \"26\": 2, \"70\": 1, \"16\": 1}, \"106\": {\"106\": 90, \"12\": 14, \"88\": 2, \"101\": 6, \"127\": 3, \"108\": 1}, \"87\": {\"87\": 117, \"122\": 4, \"43\": 2, \"0\": 5, \"11\": 2, \"110\": 2}, \"110\": {\"118\": 8, \"110\": 61, \"126\": 3, \"30\": 1, \"78\": 1, \"11\": 13, \"109\": 1, \"24\": 1, \"36\": 1, \"93\": 2, \"88\": 1, \"113\": 1}, \"118\": {\"118\": 71, \"110\": 6, \"19\": 1, \"122\": 12, \"11\": 6, \"126\": 1, \"62\": 3, \"10\": 1, \"7\": 4, \"88\": 2, \"43\": 3, \"69\": 1, \"87\": 1}, \"64\": {\"129\": 1, \"64\": 7, \"90\": 1, \"32\": 1, \"8\": 1, \"42\": 1, \"120\": 1, \"28\": 2, \"76\": 1}, \"82\": {\"129\": 1, \"32\": 1, \"55\": 1, \"17\": 1, \"91\": 1, \"76\": 1, \"28\": 1, \"82\": 16, \"49\": 1, \"41\": 2, \"128\": 1, \"120\": 2, \"105\": 1, \"98\": 2}, \"7\": {\"7\": 99, \"62\": 2, \"12\": 3, \"105\": 2, \"14\": 1, \"11\": 3, \"106\": 1, \"15\": 1, \"127\": 3, \"23\": 1, \"122\": 3, \"43\": 1, \"109\": 1, \"70\": 1, \"24\": 1, \"87\": 1}, \"0\": {\"87\": 7, \"8\": 6, \"0\": 79, \"94\": 5, \"15\": 10, \"88\": 1, \"10\": 1, \"30\": 2, \"11\": 1, \"21\": 2, \"106\": 1, \"101\": 1}, \"41\": {\"103\": 1, \"41\": 3, \"82\": 2, \"49\": 1, \"102\": 1, \"117\": 1, \"29\": 1, \"89\": 1, \"91\": 1, \"98\": 4}, \"102\": {\"102\": 121, \"129\": 1, \"111\": 1, \"126\": 1, \"19\": 1, \"48\": 2, \"2\": 2, \"117\": 1}, \"89\": {\"85\": 1, \"89\": 20, \"43\": 1, \"46\": 2, \"128\": 2, \"82\": 2, \"33\": 2, \"3\": 1, \"83\": 1}, \"26\": {\"26\": 123, \"33\": 1, \"70\": 1, \"44\": 1, \"16\": 2}, \"103\": {\"41\": 2, \"103\": 8, \"14\": 1, \"25\": 2, \"91\": 1, \"71\": 1, \"29\": 1}, \"90\": {\"90\": 115, \"124\": 1, \"117\": 2}, \"14\": {\"14\": 107, \"99\": 2, \"109\": 1, \"89\": 1, \"105\": 1}, \"9\": {\"9\": 19, \"53\": 1, \"71\": 1, \"51\": 1, \"95\": 2, \"58\": 1, \"54\": 1, \"7\": 1, \"25\": 1}, \"5\": {\"107\": 5, \"83\": 1, \"5\": 115, \"76\": 1, \"40\": 1, \"33\": 4, \"109\": 1, \"88\": 1, \"100\": 1, \"44\": 1, \"97\": 2, \"84\": 2, \"117\": 1}, \"22\": {\"22\": 11, \"19\": 2, \"73\": 1, \"28\": 2}, \"2\": {\"2\": 28}, \"77\": {\"77\": 12}, \"59\": {\"17\": 2, \"59\": 6, \"109\": 1, \"88\": 1, \"111\": 2}, \"127\": {\"127\": 94, \"0\": 1, \"4\": 1, \"88\": 1, \"105\": 3, \"80\": 1, \"10\": 1}, \"61\": {\"61\": 15, \"18\": 1}, \"17\": {\"17\": 14, \"86\": 1, \"48\": 1, \"4\": 1, \"124\": 2, \"79\": 1}, \"45\": {\"82\": 1, \"45\": 9, \"44\": 1, \"120\": 2, \"17\": 1, \"128\": 2}, \"19\": {\"90\": 2, \"19\": 15, \"128\": 1, \"103\": 1, \"121\": 1, \"58\": 1, \"92\": 2, \"56\": 1, \"46\": 1, \"83\": 1, \"5\": 1, \"1\": 1}, \"52\": {\"52\": 10, \"53\": 2, \"70\": 1, \"34\": 1, \"128\": 1, \"71\": 3, \"105\": 1, \"1\": 1}, \"123\": {\"29\": 1, \"123\": 12, \"117\": 1, \"7\": 1, \"111\": 1}, \"20\": {\"20\": 12, \"57\": 1, \"105\": 2, \"69\": 1}, \"112\": {\"19\": 1, \"29\": 2, \"28\": 1, \"120\": 1, \"112\": 7, \"128\": 1, \"85\": 1, \"32\": 1, \"2\": 1}, \"37\": {\"37\": 14, \"124\": 2}, \"29\": {\"29\": 30, \"103\": 2}, \"128\": {\"100\": 3, \"95\": 1, \"128\": 13, \"9\": 2, \"89\": 3, \"83\": 1, \"98\": 1}, \"100\": {\"100\": 11, \"128\": 3, \"95\": 1, \"112\": 1, \"114\": 1, \"34\": 1, \"98\": 1, \"56\": 1}, \"67\": {\"67\": 10, \"123\": 2, \"119\": 1, \"2\": 1, \"45\": 2}, \"12\": {\"12\": 86, \"8\": 1, \"106\": 3, \"87\": 2, \"111\": 1, \"127\": 3, \"0\": 1, \"108\": 1, \"118\": 1, \"7\": 1}, \"101\": {\"101\": 112, \"8\": 4, \"109\": 1, \"106\": 4, \"124\": 1, \"0\": 2, \"127\": 1, \"12\": 2, \"110\": 1}, \"76\": {\"76\": 15, \"52\": 1}, \"70\": {\"88\": 8, \"39\": 2, \"70\": 53, \"36\": 8, \"24\": 17, \"27\": 7, \"30\": 2, \"108\": 10, \"10\": 8, \"94\": 2, \"109\": 3, \"87\": 2, \"15\": 2}, \"31\": {\"88\": 1, \"57\": 1, \"31\": 6, \"45\": 1, \"120\": 1, \"90\": 1, \"41\": 2, \"73\": 1, \"33\": 1, \"100\": 1}, \"86\": {\"86\": 27, \"17\": 1}, \"88\": {\"88\": 86, \"109\": 6, \"39\": 2, \"78\": 3, \"10\": 16, \"70\": 5, \"108\": 7, \"24\": 6, \"27\": 1}, \"3\": {\"3\": 87, \"72\": 2, \"114\": 6, \"107\": 11, \"40\": 5, \"70\": 2, \"1\": 5, \"84\": 2, \"20\": 2, \"44\": 2, \"10\": 1, \"14\": 1}, \"117\": {\"117\": 112, \"123\": 1, \"10\": 1, \"11\": 1, \"63\": 1, \"73\": 1, \"126\": 1, \"102\": 2}, \"30\": {\"30\": 61, \"94\": 3, \"0\": 3, \"109\": 1, \"24\": 1, \"108\": 1, \"10\": 1, \"15\": 2, \"70\": 2, \"36\": 1}, \"96\": {\"96\": 9, \"60\": 1, \"113\": 1, \"118\": 2, \"16\": 1, \"62\": 3, \"7\": 2, \"105\": 1}, \"27\": {\"30\": 6, \"27\": 53, \"43\": 5, \"108\": 3, \"88\": 5, \"10\": 2, \"0\": 6, \"94\": 4, \"8\": 1, \"36\": 3, \"24\": 4, \"109\": 1, \"87\": 1, \"70\": 2, \"39\": 2, \"15\": 2}, \"122\": {\"122\": 62, \"118\": 2, \"87\": 4, \"11\": 6, \"110\": 4, \"93\": 1, \"62\": 1, \"10\": 1, \"43\": 3}, \"120\": {\"120\": 13, \"92\": 1, \"42\": 2, \"21\": 1, \"98\": 1, \"31\": 1, \"45\": 1}, \"44\": {\"92\": 3, \"44\": 51, \"121\": 1, \"5\": 2, \"66\": 1, \"90\": 1, \"107\": 2, \"64\": 1, \"28\": 1, \"3\": 1}, \"79\": {\"79\": 10, \"22\": 1, \"102\": 1, \"86\": 1, \"17\": 1, \"129\": 1, \"39\": 1}, \"105\": {\"105\": 78, \"40\": 4, \"39\": 2, \"16\": 2, \"88\": 1, \"71\": 7, \"14\": 1, \"52\": 2, \"72\": 1, \"27\": 1, \"124\": 1}, \"95\": {\"95\": 23, \"9\": 1, \"14\": 1, \"34\": 3, \"21\": 1, \"114\": 2, \"30\": 1}, \"109\": {\"39\": 2, \"43\": 5, \"109\": 76, \"126\": 5, \"70\": 5, \"88\": 4, \"36\": 1, \"108\": 12, \"121\": 1, \"10\": 1, \"118\": 2, \"107\": 1, \"78\": 1}, \"16\": {\"16\": 105, \"88\": 1, \"26\": 2, \"40\": 1, \"70\": 1, \"43\": 1, \"69\": 3, \"3\": 2, \"93\": 2}, \"36\": {\"36\": 72, \"10\": 1, \"109\": 1, \"70\": 4, \"27\": 6, \"15\": 4, \"24\": 2, \"108\": 1, \"94\": 3, \"30\": 3, \"21\": 1}, \"125\": {\"125\": 126, \"107\": 2, \"117\": 1, \"124\": 3, \"33\": 1, \"111\": 3}, \"97\": {\"36\": 2, \"60\": 1, \"97\": 12, \"10\": 2, \"118\": 1, \"124\": 2}, \"91\": {\"91\": 15, \"128\": 1, \"103\": 2, \"55\": 1, \"82\": 2, \"41\": 1, \"68\": 2}, \"28\": {\"28\": 11, \"119\": 1, \"85\": 1, \"5\": 1, \"112\": 1, \"128\": 1, \"64\": 2, \"19\": 2}, \"81\": {\"35\": 2, \"81\": 30, \"18\": 3, \"32\": 1}, \"126\": {\"126\": 103, \"88\": 1, \"109\": 2, \"113\": 4, \"78\": 1, \"43\": 2, \"10\": 1, \"39\": 4, \"110\": 3, \"118\": 1}, \"4\": {\"4\": 96, \"27\": 1, \"39\": 1, \"88\": 2, \"24\": 1, \"102\": 2, \"108\": 1}, \"10\": {\"10\": 80, \"97\": 1, \"78\": 3, \"108\": 5, \"70\": 9, \"88\": 10, \"30\": 2, \"24\": 10, \"36\": 2, \"27\": 1, \"39\": 1}, \"63\": {\"63\": 14, \"117\": 2}, \"43\": {\"43\": 92, \"118\": 4, \"30\": 1, \"27\": 3, \"122\": 6, \"109\": 3, \"87\": 5, \"108\": 1, \"11\": 1, \"126\": 1, \"110\": 1}, \"116\": {\"116\": 26, \"67\": 1, \"102\": 1}, \"1\": {\"1\": 49, \"105\": 3, \"49\": 2, \"114\": 12, \"92\": 1, \"124\": 1, \"111\": 1, \"40\": 18, \"107\": 5, \"5\": 1, \"71\": 3, \"3\": 5, \"110\": 1, \"99\": 2, \"108\": 1, \"109\": 1, \"90\": 1, \"88\": 1}, \"94\": {\"15\": 12, \"94\": 50, \"78\": 1, \"30\": 6, \"0\": 1, \"87\": 1, \"39\": 1, \"8\": 6, \"101\": 3, \"27\": 4, \"88\": 1, \"24\": 1, \"36\": 1}, \"38\": {\"38\": 6, \"5\": 4, \"83\": 1, \"44\": 2, \"32\": 1, \"66\": 2}, \"54\": {\"54\": 11, \"51\": 1, \"9\": 3, \"125\": 1}, \"74\": {\"74\": 13, \"119\": 1, \"33\": 2}, \"25\": {\"75\": 1, \"25\": 10, \"6\": 1, \"9\": 2, \"58\": 2}, \"75\": {\"103\": 1, \"25\": 1, \"75\": 11, \"1\": 1, \"54\": 1, \"34\": 1}, \"119\": {\"119\": 13, \"129\": 1, \"115\": 2}, \"46\": {\"46\": 7, \"73\": 1, \"128\": 1, \"5\": 2, \"33\": 2, \"119\": 1, \"89\": 2, \"111\": 2, \"19\": 1, \"85\": 1}, \"23\": {\"21\": 1, \"54\": 1, \"23\": 2, \"70\": 1, \"0\": 1, \"93\": 1, \"39\": 1, \"60\": 1, \"7\": 2, \"105\": 1, \"118\": 1, \"109\": 2, \"98\": 1}, \"99\": {\"99\": 25, \"14\": 4, \"1\": 1, \"44\": 1, \"84\": 1, \"3\": 2, \"40\": 3, \"114\": 1, \"71\": 1, \"107\": 1}, \"33\": {\"33\": 110, \"100\": 1, \"5\": 2, \"124\": 1, \"107\": 1, \"69\": 1, \"90\": 1, \"24\": 1}, \"47\": {\"47\": 12}, \"115\": {\"115\": 9, \"124\": 1, \"111\": 2, \"90\": 1, \"119\": 1, \"129\": 2}, \"6\": {\"6\": 18, \"120\": 1, \"58\": 2, \"29\": 1, \"42\": 1, \"39\": 1}, \"65\": {\"65\": 12}, \"66\": {\"90\": 4, \"120\": 1, \"66\": 4, \"97\": 1, \"38\": 2, \"64\": 1, \"121\": 1, \"44\": 2}, \"78\": {\"78\": 18, \"118\": 1, \"30\": 1, \"88\": 7, \"10\": 3, \"70\": 1, \"108\": 1, \"21\": 1, \"109\": 1, \"39\": 1, \"24\": 1}, \"98\": {\"98\": 101, \"114\": 2, \"34\": 2, \"111\": 1, \"1\": 2, \"5\": 2, \"56\": 1, \"64\": 1, \"100\": 1, \"40\": 1, \"33\": 2}, \"93\": {\"93\": 100, \"23\": 1, \"11\": 4, \"5\": 1, \"110\": 3, \"118\": 2, \"16\": 1, \"113\": 4}, \"48\": {\"48\": 11, \"102\": 1, \"90\": 1, \"50\": 1, \"121\": 1, \"104\": 1}, \"124\": {\"124\": 98, \"41\": 1, \"111\": 8, \"98\": 1, \"17\": 1, \"82\": 1, \"4\": 1, \"117\": 1, \"125\": 2}}, \"C_4\": {\"42\": {\"19\": 5, \"42\": 18, \"26\": 1, \"34\": 1, \"54\": 4, \"31\": 2, \"55\": 1}, \"0\": {\"0\": 78, \"56\": 2}, \"1\": {\"1\": 34, \"14\": 1, \"57\": 2, \"47\": 2, \"52\": 1}, \"39\": {\"39\": 20}, \"28\": {\"28\": 25, \"31\": 1, \"34\": 3, \"53\": 2, \"26\": 1}, \"53\": {\"53\": 122, \"19\": 1, \"23\": 1}, \"19\": {\"19\": 129, \"31\": 1, \"23\": 10, \"42\": 3, \"55\": 1}, \"34\": {\"34\": 13, \"28\": 1, \"15\": 2, \"23\": 1, \"16\": 2, \"24\": 2, \"19\": 2, \"26\": 1}, \"33\": {\"33\": 34, \"39\": 1, \"36\": 1}, \"32\": {\"32\": 18, \"39\": 2, \"38\": 1, \"7\": 1, \"41\": 1, \"27\": 1}, \"10\": {\"10\": 136}, \"46\": {\"46\": 109, \"22\": 18, \"0\": 4, \"44\": 2, \"40\": 1}, \"20\": {\"20\": 92, \"8\": 2, \"52\": 2, \"4\": 6, \"48\": 17, \"9\": 1, \"47\": 2}, \"5\": {\"5\": 92, \"3\": 5, \"22\": 8, \"46\": 1, \"6\": 2}, \"40\": {\"40\": 123, \"44\": 1}, \"51\": {\"51\": 140, \"36\": 4}, \"37\": {\"37\": 15, \"35\": 6, \"57\": 2, \"29\": 1}, \"17\": {\"17\": 79, \"54\": 1}, \"45\": {\"45\": 84, \"50\": 4, \"3\": 4, \"6\": 3, \"30\": 1}, \"13\": {\"13\": 142}, \"27\": {\"27\": 138, \"51\": 1, \"9\": 1, \"8\": 4}, \"24\": {\"24\": 56}, \"30\": {\"30\": 44}, \"31\": {\"31\": 22, \"23\": 2, \"33\": 1, \"42\": 2, \"55\": 1}, \"41\": {\"41\": 30, \"55\": 1, \"32\": 2, \"38\": 1, \"49\": 1, \"35\": 1}, \"36\": {\"51\": 11, \"36\": 74, \"9\": 1, \"54\": 2, \"27\": 1, \"17\": 1, \"55\": 1, \"19\": 1}, \"16\": {\"16\": 87, \"15\": 5, \"23\": 2, \"11\": 2}, \"22\": {\"22\": 112, \"46\": 10, \"5\": 4, \"56\": 2}, \"44\": {\"44\": 113, \"46\": 10, \"22\": 3, \"40\": 6}, \"9\": {\"9\": 116, \"8\": 8, \"20\": 6, \"48\": 8, \"27\": 2}, \"57\": {\"57\": 83, \"1\": 4, \"47\": 5, \"29\": 8}, \"8\": {\"8\": 115, \"48\": 7, \"20\": 7, \"9\": 8, \"27\": 1}, \"23\": {\"23\": 98, \"54\": 5, \"42\": 1, \"19\": 18, \"17\": 2, \"55\": 7, \"41\": 1}, \"47\": {\"47\": 105, \"1\": 5, \"57\": 6, \"29\": 4}, \"43\": {\"43\": 138}, \"49\": {\"24\": 1, \"7\": 1, \"43\": 1, \"14\": 1, \"49\": 7, \"37\": 2, \"38\": 2, \"41\": 2, \"39\": 1, \"35\": 2}, \"3\": {\"3\": 91, \"5\": 8, \"6\": 8, \"50\": 10, \"44\": 4, \"22\": 2, \"46\": 1}, \"12\": {\"12\": 83, \"21\": 6, \"45\": 2, \"40\": 1}, \"38\": {\"7\": 1, \"38\": 29, \"2\": 6, \"14\": 2, \"37\": 1, \"57\": 1}, \"7\": {\"43\": 4, \"7\": 8, \"38\": 1, \"14\": 2, \"35\": 5, \"37\": 2, \"32\": 1, \"33\": 1}, \"14\": {\"14\": 11, \"1\": 1, \"57\": 2, \"29\": 1, \"35\": 1}, \"15\": {\"15\": 125, \"23\": 1, \"11\": 15, \"16\": 4, \"18\": 1}, \"25\": {\"25\": 128}, \"26\": {\"26\": 15, \"51\": 1, \"53\": 3, \"23\": 1, \"17\": 2, \"54\": 2}, \"21\": {\"21\": 132}, \"48\": {\"48\": 86, \"29\": 1, \"4\": 20, \"20\": 18, \"9\": 11, \"8\": 8}, \"56\": {\"56\": 112, \"0\": 18, \"46\": 4}, \"11\": {\"15\": 21, \"11\": 79, \"16\": 4}, \"2\": {\"2\": 32, \"13\": 3, \"38\": 1}, \"6\": {\"6\": 85, \"3\": 12, \"5\": 8, \"50\": 5, \"44\": 1, \"22\": 1}, \"55\": {\"55\": 105, \"54\": 7, \"41\": 1, \"42\": 2, \"17\": 1, \"43\": 11, \"19\": 3, \"36\": 3, \"24\": 2, \"51\": 1, \"32\": 1, \"23\": 3}, \"54\": {\"54\": 98, \"23\": 1, \"19\": 3, \"17\": 3, \"55\": 3}, \"29\": {\"47\": 5, \"29\": 99, \"4\": 1, \"57\": 19}, \"50\": {\"50\": 98, \"3\": 16, \"6\": 5, \"22\": 1, \"44\": 2}, \"52\": {\"52\": 116}, \"35\": {\"35\": 25, \"32\": 1, \"39\": 3, \"37\": 5, \"43\": 2, \"38\": 2, \"49\": 2}, \"4\": {\"4\": 81, \"20\": 17, \"8\": 3, \"9\": 8, \"48\": 8, \"29\": 2, \"27\": 1}, \"18\": {\"18\": 108}}, \"C_5\": {\"43\": {\"43\": 147, \"37\": 1, \"34\": 1, \"36\": 2, \"19\": 1}, \"35\": {\"35\": 30, \"43\": 5, \"24\": 1}, \"54\": {\"51\": 3, \"54\": 99, \"17\": 1, \"55\": 2, \"19\": 3, \"23\": 4}, \"22\": {\"22\": 21, \"3\": 3, \"0\": 2, \"40\": 1, \"5\": 1}, \"16\": {\"16\": 141, \"11\": 2, \"54\": 1, \"15\": 2}, \"5\": {\"3\": 13, \"5\": 96, \"44\": 13, \"40\": 5, \"22\": 1}, \"28\": {\"28\": 31, \"15\": 1}, \"14\": {\"14\": 36, \"36\": 5, \"29\": 1, \"47\": 2}, \"51\": {\"51\": 124, \"27\": 2, \"32\": 1, \"53\": 1}, \"19\": {\"54\": 2, \"19\": 128, \"15\": 1, \"55\": 5, \"42\": 2, \"23\": 2}, \"31\": {\"31\": 36}, \"10\": {\"10\": 68}, \"21\": {\"21\": 136}, \"3\": {\"3\": 81, \"44\": 5, \"22\": 2, \"40\": 5, \"5\": 6, \"0\": 1}, \"57\": {\"57\": 129, \"52\": 2, \"1\": 1}, \"9\": {\"9\": 128, \"30\": 9, \"21\": 1, \"4\": 5, \"52\": 2, \"20\": 1}, \"8\": {\"8\": 119, \"48\": 6, \"20\": 2, \"27\": 5}, \"46\": {\"46\": 135, \"40\": 2, \"4\": 1, \"0\": 1, \"56\": 1}, \"23\": {\"23\": 108, \"19\": 8, \"42\": 1, \"55\": 1, \"54\": 5, \"43\": 1}, \"37\": {\"21\": 1, \"37\": 22, \"35\": 1}, \"34\": {\"34\": 31, \"41\": 2, \"49\": 1, \"51\": 1, \"24\": 1}, \"4\": {\"4\": 90, \"9\": 1, \"30\": 3, \"12\": 1, \"21\": 2, \"1\": 1, \"5\": 2}, \"6\": {\"6\": 116, \"45\": 11, \"50\": 1}, \"48\": {\"8\": 7, \"48\": 101, \"20\": 19, \"1\": 4, \"27\": 5}, \"44\": {\"44\": 119, \"3\": 8, \"22\": 1, \"40\": 1, \"5\": 9}, \"40\": {\"40\": 114, \"46\": 4, \"22\": 3, \"0\": 2, \"3\": 1}, \"12\": {\"12\": 93, \"4\": 1, \"30\": 2}, \"30\": {\"30\": 123, \"9\": 5}, \"39\": {\"39\": 15, \"41\": 1, \"36\": 4}, \"45\": {\"45\": 103, \"6\": 10, \"50\": 8, \"44\": 2, \"3\": 1}, \"36\": {\"36\": 91, \"29\": 1}, \"27\": {\"27\": 124, \"8\": 16}, \"32\": {\"32\": 27, \"33\": 2, \"7\": 1, \"39\": 1, \"51\": 1}, \"52\": {\"52\": 130}, \"0\": {\"0\": 124}, \"26\": {\"26\": 17, \"38\": 3, \"17\": 1, \"25\": 2, \"53\": 1}, \"1\": {\"1\": 131, \"20\": 13, \"21\": 3, \"30\": 1}, \"53\": {\"53\": 142, \"55\": 1, \"38\": 1, \"19\": 2}, \"25\": {\"25\": 138, \"26\": 1, \"16\": 5}, \"24\": {\"24\": 80}, \"7\": {\"7\": 32}, \"18\": {\"18\": 64}, \"20\": {\"20\": 136, \"48\": 2, \"1\": 6}, \"33\": {\"33\": 30, \"41\": 2}, \"55\": {\"55\": 114, \"42\": 1, \"54\": 3, \"19\": 5, \"53\": 7, \"23\": 4, \"51\": 1, \"17\": 5}, \"41\": {\"49\": 2, \"41\": 21, \"48\": 2, \"33\": 1, \"14\": 1, \"32\": 1}, \"42\": {\"42\": 30, \"28\": 1, \"19\": 1, \"43\": 1, \"23\": 4, \"15\": 2, \"53\": 1}, \"49\": {\"49\": 36}, \"13\": {\"13\": 143, \"56\": 3, \"46\": 2}, \"38\": {\"38\": 23, \"55\": 1, \"54\": 3, \"7\": 1, \"26\": 1, \"32\": 1, \"17\": 1, \"51\": 1}, \"2\": {\"2\": 19, \"43\": 5, \"37\": 3, \"35\": 1}, \"47\": {\"47\": 73, \"57\": 16, \"52\": 3, \"29\": 8}, \"17\": {\"17\": 116}, \"11\": {\"11\": 144, \"16\": 9, \"19\": 1}, \"29\": {\"47\": 5, \"29\": 121, \"57\": 6}, \"50\": {\"50\": 125, \"5\": 2, \"45\": 6, \"44\": 3, \"6\": 1, \"3\": 1}, \"56\": {\"56\": 142, \"0\": 3, \"46\": 2, \"13\": 1}, \"15\": {\"15\": 140, \"28\": 1, \"16\": 1}}, \"C_2\": {\"49\": {\"49\": 15, \"55\": 1, \"19\": 5, \"43\": 1, \"23\": 2}, \"13\": {\"13\": 116}, \"37\": {\"37\": 36}, \"41\": {\"41\": 15, \"33\": 2, \"1\": 1, \"47\": 1, \"48\": 1}, \"15\": {\"15\": 117, \"16\": 19, \"11\": 6}, \"56\": {\"56\": 132, \"22\": 5, \"47\": 1, \"11\": 1, \"0\": 3}, \"14\": {\"14\": 19, \"13\": 4, \"47\": 1}, \"3\": {\"3\": 69, \"30\": 1, \"6\": 12, \"44\": 7, \"46\": 2, \"50\": 1}, \"38\": {\"38\": 19, \"14\": 1}, \"43\": {\"43\": 136, \"37\": 1, \"31\": 1}, \"33\": {\"33\": 16, \"36\": 1, \"48\": 1, \"29\": 1, \"9\": 1, \"32\": 2, \"41\": 1, \"8\": 4, \"2\": 1}, \"47\": {\"47\": 131, \"57\": 2, \"1\": 5}, \"30\": {\"30\": 143, \"52\": 1}, \"39\": {\"39\": 21, \"38\": 1, \"55\": 2, \"13\": 1, \"41\": 1, \"42\": 1, \"14\": 1}, \"12\": {\"12\": 90, \"6\": 1, \"40\": 1}, \"6\": {\"6\": 102, \"3\": 12, \"46\": 2, \"5\": 1, \"44\": 3, \"45\": 3, \"50\": 1}, \"51\": {\"51\": 124, \"36\": 10}, \"5\": {\"5\": 116, \"46\": 1, \"44\": 2, \"6\": 1}, \"34\": {\"34\": 23, \"15\": 1, \"11\": 2, \"54\": 2}, \"35\": {\"35\": 21, \"39\": 1, \"23\": 4, \"32\": 3, \"55\": 1, \"51\": 1, \"49\": 1}, \"0\": {\"0\": 48}, \"7\": {\"7\": 27, \"34\": 2, \"55\": 2, \"19\": 1, \"42\": 3, \"23\": 1}, \"24\": {\"24\": 89, \"43\": 6, \"31\": 1}, \"8\": {\"20\": 24, \"8\": 106, \"48\": 1, \"27\": 5}, \"20\": {\"20\": 110, \"8\": 14}, \"36\": {\"36\": 106, \"51\": 10}, \"42\": {\"42\": 33, \"23\": 3}, \"1\": {\"1\": 81, \"52\": 3, \"57\": 9, \"47\": 11, \"29\": 3, \"48\": 5}, \"4\": {\"4\": 142, \"20\": 3, \"8\": 2, \"9\": 1}, \"28\": {\"28\": 27, \"15\": 1}, \"50\": {\"50\": 115, \"21\": 9, \"46\": 2, \"44\": 1, \"3\": 3, \"6\": 4, \"40\": 1, \"0\": 1}, \"45\": {\"45\": 108, \"44\": 1, \"6\": 11, \"3\": 4, \"50\": 3, \"21\": 1}, \"18\": {\"18\": 48}, \"57\": {\"57\": 106, \"1\": 10, \"47\": 2, \"29\": 2}, \"46\": {\"50\": 10, \"46\": 95, \"21\": 2, \"5\": 10, \"44\": 6, \"6\": 2, \"3\": 1, \"22\": 2}, \"23\": {\"19\": 4, \"23\": 139, \"34\": 1, \"49\": 3, \"42\": 1}, \"27\": {\"27\": 138}, \"19\": {\"19\": 127, \"16\": 1, \"53\": 3, \"49\": 2, \"54\": 1}, \"22\": {\"22\": 127, \"0\": 5, \"56\": 4}, \"17\": {\"17\": 102, \"23\": 1, \"51\": 1}, \"55\": {\"55\": 116, \"39\": 2, \"42\": 2, \"35\": 2, \"17\": 3, \"33\": 1, \"23\": 2, \"43\": 6, \"24\": 1, \"27\": 1}, \"44\": {\"44\": 71, \"3\": 9, \"5\": 10, \"46\": 6, \"6\": 1, \"50\": 2, \"12\": 1}, \"26\": {\"19\": 1, \"26\": 15, \"53\": 4, \"25\": 2, \"54\": 2}, \"31\": {\"31\": 28}, \"16\": {\"16\": 116, \"15\": 13, \"11\": 1}, \"11\": {\"11\": 117, \"16\": 6, \"15\": 5}, \"25\": {\"25\": 121, \"16\": 2, \"26\": 1, \"15\": 2}, \"54\": {\"54\": 108}, \"32\": {\"32\": 26, \"36\": 1, \"33\": 1}, \"52\": {\"52\": 123, \"30\": 1}, \"40\": {\"40\": 113, \"30\": 5, \"29\": 1, \"50\": 2, \"21\": 9, \"9\": 1, \"52\": 1}, \"2\": {\"2\": 32}, \"10\": {\"10\": 110}, \"53\": {\"53\": 136}, \"9\": {\"9\": 142, \"8\": 4, \"48\": 4}, \"21\": {\"21\": 114, \"9\": 1, \"52\": 1, \"50\": 1, \"30\": 1, \"40\": 1, \"4\": 1}, \"48\": {\"48\": 104, \"47\": 4, \"4\": 2, \"1\": 9, \"9\": 8, \"57\": 2, \"20\": 2, \"52\": 3, \"29\": 3, \"8\": 1}, \"29\": {\"29\": 114, \"57\": 7, \"48\": 3, \"1\": 2, \"20\": 2}}, \"W_2\": {\"115\": {\"115\": 12}, \"34\": {\"34\": 26, \"49\": 1, \"54\": 2, \"128\": 1, \"74\": 1, \"107\": 1}, \"97\": {\"7\": 2, \"97\": 8, \"0\": 6, \"127\": 1, \"120\": 1, \"101\": 2}, \"100\": {\"100\": 11, \"33\": 2, \"57\": 1, \"82\": 1, \"90\": 1}, \"129\": {\"129\": 29, \"111\": 1, \"5\": 2}, \"90\": {\"90\": 139, \"81\": 2, \"44\": 1}, \"125\": {\"125\": 127, \"111\": 2, \"2\": 1, \"124\": 2}, \"7\": {\"7\": 110, \"110\": 3, \"12\": 3, \"40\": 1, \"105\": 5, \"24\": 1, \"39\": 1, \"88\": 1, \"106\": 1, \"127\": 1, \"71\": 1}, \"92\": {\"33\": 1, \"100\": 2, \"92\": 13, \"114\": 1, \"38\": 1, \"107\": 1, \"128\": 1, \"89\": 3, \"82\": 4, \"28\": 1}, \"114\": {\"114\": 111, \"88\": 1, \"107\": 2, \"40\": 1, \"49\": 1}, \"80\": {\"80\": 13, \"48\": 2, \"82\": 1}, \"16\": {\"16\": 96, \"93\": 7, \"113\": 1, \"118\": 1, \"26\": 2, \"109\": 1, \"70\": 1, \"69\": 1, \"24\": 2, \"39\": 1, \"40\": 2, \"127\": 1, \"96\": 1, \"62\": 2, \"88\": 1, \"102\": 1, \"1\": 1}, \"69\": {\"69\": 102, \"24\": 1, \"18\": 1, \"26\": 5, \"1\": 3, \"108\": 1, \"21\": 1, \"88\": 1, \"33\": 1}, \"102\": {\"102\": 114}, \"33\": {\"33\": 130}, \"17\": {\"129\": 2, \"17\": 9, \"104\": 1, \"27\": 1, \"79\": 1, \"125\": 2}, \"27\": {\"27\": 46, \"10\": 5, \"108\": 3, \"36\": 5, \"24\": 2, \"70\": 1, \"109\": 2, \"11\": 1, \"78\": 1, \"88\": 1, \"30\": 1}, \"117\": {\"117\": 95, \"27\": 1, \"116\": 1, \"42\": 1, \"90\": 1, \"39\": 1, \"102\": 6}, \"14\": {\"14\": 32, \"71\": 2, \"3\": 2, \"40\": 6, \"93\": 2, \"33\": 1, \"84\": 1, \"126\": 1, \"43\": 1}, \"86\": {\"17\": 2, \"86\": 23, \"111\": 2, \"5\": 1, \"125\": 2, \"124\": 1, \"59\": 1}, \"0\": {\"97\": 1, \"0\": 106, \"21\": 1, \"10\": 1, \"122\": 1, \"105\": 1, \"15\": 1, \"23\": 1, \"24\": 1, \"8\": 2}, \"62\": {\"62\": 123, \"40\": 4, \"105\": 1, \"106\": 1, \"16\": 3, \"3\": 2, \"93\": 1, \"5\": 1, \"24\": 1, \"1\": 1}, \"39\": {\"39\": 68, \"43\": 2, \"109\": 19, \"118\": 1, \"126\": 7, \"24\": 4, \"87\": 1, \"70\": 4, \"88\": 4, \"10\": 2}, \"19\": {\"19\": 20, \"92\": 1, \"55\": 2, \"35\": 1, \"61\": 1, \"98\": 1, \"52\": 1, \"83\": 1}, \"44\": {\"14\": 1, \"44\": 97, \"33\": 1, \"26\": 1}, \"104\": {\"104\": 12, \"17\": 1, \"42\": 1, \"68\": 1, \"124\": 1, \"129\": 1, \"119\": 1, \"55\": 1, \"125\": 1}, \"3\": {\"14\": 3, \"95\": 1, \"3\": 105, \"71\": 4, \"40\": 8, \"16\": 1, \"88\": 1, \"39\": 1, \"43\": 1, \"21\": 1, \"62\": 1, \"36\": 1, \"1\": 2}, \"10\": {\"10\": 39, \"108\": 6, \"43\": 1, \"27\": 2, \"78\": 1, \"70\": 3, \"21\": 2, \"24\": 3, \"88\": 2, \"126\": 1}, \"61\": {\"61\": 10, \"98\": 1, \"36\": 1, \"70\": 1, \"114\": 1, \"92\": 1, \"19\": 1, \"107\": 2, \"39\": 2}, \"111\": {\"103\": 1, \"86\": 1, \"111\": 103, \"124\": 7, \"5\": 2}, \"68\": {\"111\": 1, \"68\": 8, \"54\": 1, \"52\": 1, \"98\": 1, \"76\": 2, \"25\": 2}, \"101\": {\"101\": 138, \"21\": 1, \"94\": 1, \"118\": 1, \"7\": 1, \"106\": 2}, \"36\": {\"36\": 88, \"8\": 4, \"30\": 16, \"88\": 2, \"94\": 3, \"108\": 5, \"105\": 1, \"109\": 3, \"43\": 1, \"122\": 1, \"15\": 3, \"70\": 1}, \"120\": {\"120\": 18, \"45\": 2}, \"103\": {\"103\": 12, \"111\": 1, \"25\": 2, \"98\": 1}, \"47\": {\"76\": 1, \"47\": 9, \"54\": 2}, \"98\": {\"111\": 1, \"98\": 112, \"34\": 3, \"29\": 1, \"1\": 2, \"114\": 1}, \"76\": {\"76\": 14, \"64\": 1, \"89\": 1}, \"88\": {\"88\": 70, \"39\": 8, \"11\": 2, \"21\": 1, \"10\": 3, \"24\": 7, \"109\": 11, \"70\": 15, \"87\": 2, \"118\": 1, \"78\": 2, \"43\": 1, \"126\": 1}, \"93\": {\"93\": 110, \"78\": 1, \"62\": 6, \"23\": 1, \"24\": 1, \"16\": 15, \"40\": 1, \"18\": 1, \"3\": 1, \"69\": 1}, \"23\": {\"93\": 1, \"36\": 1, \"11\": 3, \"105\": 1, \"118\": 1, \"18\": 2, \"72\": 3, \"0\": 3, \"23\": 3, \"69\": 3, \"109\": 1, \"16\": 1, \"94\": 3, \"30\": 1, \"7\": 2, \"84\": 1, \"15\": 1, \"78\": 1, \"101\": 1, \"1\": 2, \"12\": 1, \"96\": 1, \"43\": 2, \"106\": 1, \"113\": 3, \"87\": 1}, \"108\": {\"108\": 105, \"11\": 3, \"30\": 4, \"36\": 4, \"8\": 1, \"109\": 1, \"43\": 1, \"15\": 1, \"27\": 2, \"122\": 2}, \"51\": {\"54\": 2, \"106\": 2, \"90\": 2, \"9\": 1, \"35\": 1, \"51\": 6, \"49\": 2, \"58\": 1, \"127\": 2, \"21\": 1}, \"13\": {\"13\": 8, \"36\": 1, \"102\": 2, \"88\": 1, \"4\": 1, \"119\": 1, \"27\": 1, \"118\": 1}, \"77\": {\"104\": 1, \"77\": 12, \"91\": 1, \"41\": 1, \"66\": 1}, \"46\": {\"46\": 14, \"67\": 2}, \"96\": {\"33\": 1, \"96\": 12, \"1\": 1, \"93\": 2, \"69\": 1, \"113\": 1, \"62\": 2}, \"119\": {\"119\": 15, \"65\": 1, \"1\": 1, \"37\": 1, \"67\": 2}, \"121\": {\"119\": 2, \"121\": 30, \"116\": 2, \"120\": 2}, \"54\": {\"54\": 12, \"66\": 1, \"34\": 3, \"32\": 1, \"87\": 1, \"9\": 1, \"68\": 1}, \"82\": {\"82\": 31, \"90\": 1, \"99\": 2, \"78\": 1, \"89\": 1}, \"12\": {\"12\": 72, \"110\": 2, \"23\": 1, \"10\": 1, \"106\": 4, \"7\": 3, \"0\": 2, \"39\": 1, \"84\": 1, \"24\": 1}, \"74\": {\"74\": 12, \"127\": 1, \"32\": 1, \"105\": 1, \"33\": 1}, \"66\": {\"66\": 14, \"41\": 1, \"64\": 1, \"49\": 1, \"45\": 1, \"112\": 1, \"28\": 1}, \"28\": {\"66\": 3, \"28\": 13, \"34\": 1, \"2\": 1, \"61\": 1, \"107\": 1}, \"52\": {\"52\": 17, \"59\": 1, \"25\": 2}, \"41\": {\"41\": 13, \"54\": 1, \"112\": 2, \"5\": 1, \"97\": 1, \"103\": 1, \"114\": 1}, \"81\": {\"81\": 14, \"99\": 5, \"16\": 1, \"63\": 1, \"61\": 2, \"18\": 1}, \"48\": {\"102\": 3, \"48\": 16, \"90\": 1}, \"113\": {\"113\": 67, \"62\": 2, \"93\": 2, \"78\": 1}, \"53\": {\"53\": 13, \"64\": 1, \"1\": 1, \"74\": 1}, \"15\": {\"15\": 95, \"97\": 1, \"8\": 8, \"36\": 5, \"94\": 3, \"122\": 5, \"0\": 2, \"70\": 1}, \"30\": {\"30\": 78, \"27\": 6, \"11\": 2, \"24\": 1, \"36\": 10, \"122\": 2, \"8\": 5, \"16\": 1, \"108\": 4, \"15\": 2, \"70\": 1}, \"43\": {\"43\": 107, \"11\": 3, \"87\": 5, \"0\": 1, \"118\": 2, \"126\": 1, \"88\": 1, \"108\": 1, \"122\": 1, \"70\": 1, \"36\": 1}, \"29\": {\"29\": 29, \"91\": 2, \"59\": 1}, \"109\": {\"109\": 62, \"39\": 11, \"126\": 6, \"10\": 3, \"88\": 11, \"70\": 4, \"87\": 2, \"24\": 1}, \"60\": {\"74\": 1, \"60\": 17, \"110\": 2, \"122\": 1, \"11\": 2, \"126\": 1, \"72\": 1, \"70\": 1, \"16\": 1, \"3\": 1}, \"70\": {\"70\": 58, \"10\": 5, \"78\": 4, \"109\": 8, \"126\": 9, \"24\": 7, \"39\": 9, \"43\": 2, \"88\": 9, \"108\": 5, \"15\": 2, \"116\": 1, \"87\": 1, \"11\": 1, \"27\": 1}, \"127\": {\"127\": 116, \"101\": 2, \"105\": 2, \"24\": 1, \"12\": 2, \"106\": 1}, \"32\": {\"32\": 28, \"56\": 2, \"33\": 1, \"14\": 1, \"114\": 2, \"53\": 1, \"44\": 1}, \"73\": {\"73\": 24, \"41\": 1, \"88\": 1, \"90\": 2}, \"50\": {\"83\": 2, \"50\": 8, \"21\": 1, \"66\": 1, \"29\": 2, \"42\": 2}, \"1\": {\"1\": 106, \"8\": 1, \"33\": 3, \"27\": 1, \"69\": 2, \"40\": 2, \"84\": 1, \"3\": 3, \"14\": 2, \"88\": 2, \"126\": 1}, \"106\": {\"106\": 103, \"101\": 9, \"21\": 1, \"0\": 2, \"12\": 2, \"126\": 1, \"30\": 1, \"88\": 1}, \"123\": {\"83\": 2, \"82\": 1, \"123\": 7, \"50\": 2, \"48\": 1, \"129\": 1, \"89\": 1, \"61\": 1}, \"79\": {\"79\": 15, \"4\": 1}, \"4\": {\"4\": 81, \"45\": 2, \"78\": 1, \"126\": 1, \"108\": 1, \"5\": 2}, \"2\": {\"2\": 24, \"121\": 1, \"117\": 2, \"102\": 3, \"13\": 2}, \"8\": {\"8\": 66, \"127\": 1, \"30\": 4, \"0\": 5, \"36\": 9, \"94\": 6, \"88\": 2, \"108\": 5, \"105\": 4, \"15\": 5, \"122\": 14, \"11\": 3, \"39\": 1, \"7\": 1, \"109\": 1, \"43\": 1}, \"83\": {\"83\": 31, \"38\": 1, \"90\": 1, \"89\": 2, \"82\": 1, \"47\": 1, \"18\": 1, \"44\": 2}, \"105\": {\"105\": 118, \"106\": 1, \"110\": 2, \"60\": 1, \"7\": 5, \"39\": 1, \"127\": 1, \"40\": 1}, \"5\": {\"5\": 99, \"21\": 1, \"124\": 2, \"70\": 2, \"90\": 2, \"109\": 1, \"66\": 1, \"41\": 1, \"116\": 1, \"42\": 1, \"88\": 1}, \"99\": {\"90\": 1, \"99\": 20, \"81\": 2, \"38\": 1, \"121\": 1, \"82\": 1, \"83\": 1, \"120\": 1, \"57\": 1, \"68\": 2, \"26\": 1}, \"25\": {\"25\": 14, \"103\": 2}, \"59\": {\"59\": 6, \"17\": 1, \"21\": 2, \"5\": 3, \"104\": 1, \"86\": 1, \"70\": 1, \"85\": 1}, \"42\": {\"77\": 1, \"13\": 1, \"68\": 1, \"104\": 1, \"86\": 1, \"111\": 3, \"37\": 1, \"129\": 2, \"42\": 5, \"124\": 1, \"73\": 2, \"53\": 1, \"48\": 1, \"10\": 1, \"6\": 2, \"98\": 2, \"85\": 1, \"88\": 1}, \"55\": {\"95\": 2, \"53\": 1, \"55\": 5, \"1\": 1, \"110\": 1, \"45\": 1, \"61\": 2, \"82\": 1, \"92\": 1, \"19\": 1}, \"75\": {\"75\": 10, \"49\": 2, \"9\": 2, \"68\": 1, \"106\": 1}, \"118\": {\"118\": 63, \"15\": 1, \"27\": 1, \"87\": 3}, \"95\": {\"127\": 2, \"93\": 1, \"21\": 1, \"40\": 4, \"114\": 3, \"49\": 2, \"95\": 14, \"7\": 2, \"32\": 2, \"24\": 1, \"74\": 2, \"107\": 1, \"110\": 1}, \"122\": {\"12\": 2, \"122\": 77, \"11\": 7, \"108\": 1, \"8\": 12, \"94\": 2, \"24\": 1, \"105\": 1, \"15\": 7, \"0\": 3, \"87\": 2, \"43\": 3, \"7\": 1, \"30\": 1}, \"20\": {\"100\": 2, \"44\": 1, \"20\": 4, \"18\": 2, \"31\": 2, \"61\": 1, \"107\": 1, \"42\": 1, \"26\": 2}, \"110\": {\"110\": 25, \"101\": 1, \"123\": 1, \"39\": 1, \"6\": 1, \"21\": 1, \"105\": 2, \"88\": 1, \"87\": 2, \"27\": 1, \"7\": 3, \"52\": 1}, \"65\": {\"65\": 20}, \"37\": {\"37\": 8, \"66\": 1, \"125\": 1, \"46\": 1, \"73\": 1, \"115\": 1, \"124\": 1, \"5\": 1, \"86\": 1}, \"64\": {\"92\": 1, \"66\": 1, \"55\": 2, \"64\": 8, \"76\": 1, \"38\": 1, \"82\": 1, \"83\": 1}, \"63\": {\"121\": 2, \"63\": 15, \"116\": 1, \"17\": 1, \"57\": 1}, \"40\": {\"40\": 82, \"32\": 2, \"54\": 1, \"95\": 2, \"88\": 6, \"107\": 2, \"3\": 18, \"71\": 9, \"127\": 2, \"101\": 1, \"62\": 6, \"105\": 2, \"24\": 2, \"43\": 1, \"78\": 1, \"70\": 1, \"109\": 1, \"1\": 1}, \"21\": {\"21\": 46, \"78\": 1, \"109\": 1}, \"11\": {\"11\": 59, \"43\": 5, \"15\": 4, \"87\": 1, \"94\": 1, \"7\": 3, \"8\": 1, \"105\": 1, \"88\": 1, \"122\": 2, \"108\": 1, \"102\": 1}, \"67\": {\"123\": 1, \"67\": 12, \"129\": 1, \"22\": 1, \"46\": 1}, \"91\": {\"25\": 2, \"70\": 1, \"91\": 20, \"29\": 1, \"36\": 1, \"104\": 1, \"125\": 1, \"73\": 1}, \"87\": {\"87\": 88, \"118\": 4, \"43\": 7, \"126\": 3, \"108\": 1, \"88\": 2, \"24\": 1, \"39\": 3, \"109\": 2, \"11\": 1}, \"89\": {\"89\": 27, \"5\": 1, \"83\": 2, \"37\": 1, \"45\": 1, \"92\": 2, \"119\": 1, \"38\": 1}, \"9\": {\"9\": 32}, \"124\": {\"124\": 99, \"111\": 11, \"5\": 3, \"104\": 1}, \"56\": {\"56\": 11, \"34\": 1}, \"38\": {\"38\": 13, \"31\": 1, \"83\": 1, \"55\": 1}, \"94\": {\"94\": 33, \"0\": 3, \"108\": 2, \"15\": 7, \"30\": 5, \"109\": 2, \"106\": 1, \"3\": 1, \"8\": 3, \"23\": 1, \"97\": 1, \"88\": 2, \"27\": 1, \"36\": 1, \"39\": 1}, \"6\": {\"6\": 32}, \"58\": {\"58\": 14, \"51\": 2, \"109\": 1, \"55\": 1, \"71\": 1, \"32\": 1}, \"22\": {\"22\": 13, \"129\": 2, \"37\": 1, \"85\": 1, \"73\": 1, \"116\": 2}, \"24\": {\"108\": 2, \"10\": 1, \"24\": 84, \"78\": 4, \"109\": 4, \"36\": 2, \"27\": 1, \"88\": 7, \"57\": 1, \"39\": 3, \"15\": 1, \"70\": 1, \"101\": 1}, \"57\": {\"57\": 10, \"123\": 1, \"4\": 2, \"121\": 1, \"99\": 4, \"63\": 2}, \"112\": {\"112\": 6, \"41\": 1, \"103\": 1, \"7\": 1, \"66\": 1, \"77\": 2, \"92\": 2, \"116\": 1, \"85\": 1}, \"116\": {\"116\": 26, \"39\": 1, \"109\": 1}, \"18\": {\"18\": 98, \"109\": 1, \"22\": 1, \"87\": 1, \"1\": 2, \"26\": 6, \"78\": 1, \"70\": 2, \"88\": 1, \"24\": 2, \"69\": 5, \"33\": 2, \"44\": 6}, \"49\": {\"56\": 2, \"49\": 10, \"78\": 2, \"1\": 3, \"54\": 1, \"107\": 1, \"76\": 1, \"127\": 1, \"71\": 1, \"114\": 1, \"34\": 1}, \"45\": {\"45\": 10, \"19\": 1, \"110\": 1, \"123\": 1, \"5\": 1, \"37\": 1, \"102\": 1}, \"107\": {\"114\": 6, \"14\": 2, \"128\": 2, \"107\": 31, \"78\": 3, \"33\": 6, \"8\": 1, \"1\": 4, \"10\": 1, \"26\": 1, \"108\": 1, \"88\": 1, \"95\": 1, \"32\": 2, \"21\": 1, \"102\": 1}, \"35\": {\"35\": 10, \"84\": 2}, \"78\": {\"78\": 33, \"21\": 3, \"70\": 3, \"88\": 2, \"24\": 3, \"109\": 3, \"27\": 1}, \"126\": {\"126\": 83, \"27\": 2, \"88\": 6, \"109\": 6, \"87\": 4, \"70\": 8, \"39\": 2, \"43\": 5, \"24\": 1, \"11\": 1, \"108\": 2}, \"85\": {\"85\": 26, \"98\": 1, \"22\": 1, \"112\": 1, \"73\": 2, \"124\": 1}, \"72\": {\"72\": 23, \"69\": 1, \"1\": 2, \"21\": 1, \"84\": 1}, \"26\": {\"26\": 106, \"20\": 1, \"93\": 3, \"69\": 7, \"18\": 3, \"108\": 1, \"109\": 1, \"88\": 2}, \"84\": {\"84\": 78, \"118\": 1, \"71\": 1, \"24\": 1, \"3\": 2, \"69\": 1, \"30\": 1, \"1\": 4, \"72\": 1, \"26\": 1, \"62\": 1}, \"128\": {\"114\": 3, \"128\": 8, \"34\": 4, \"82\": 2, \"107\": 2, \"54\": 1, \"91\": 1, \"14\": 1, \"51\": 1, \"83\": 1}, \"31\": {\"31\": 18, \"44\": 1, \"33\": 1}, \"71\": {\"71\": 76, \"84\": 2, \"109\": 1, \"114\": 2, \"88\": 1, \"1\": 1, \"127\": 1, \"40\": 4, \"74\": 2, \"95\": 3, \"3\": 7}}, \"C_1\": {\"9\": {\"9\": 142}, \"25\": {\"25\": 119, \"53\": 1, \"16\": 6, \"18\": 1, \"15\": 1}, \"41\": {\"7\": 4, \"41\": 16, \"48\": 1, \"51\": 2, \"2\": 1}, \"29\": {\"29\": 130, \"57\": 6, \"1\": 2, \"47\": 1, \"36\": 1}, \"46\": {\"46\": 110, \"4\": 1, \"3\": 1, \"56\": 2, \"50\": 8, \"6\": 3, \"40\": 2, \"5\": 1}, \"4\": {\"4\": 129, \"13\": 1, \"30\": 1, \"50\": 1}, \"31\": {\"31\": 27, \"24\": 1}, \"36\": {\"36\": 64}, \"20\": {\"20\": 127, \"40\": 1}, \"7\": {\"7\": 25, \"41\": 2, \"33\": 1}, \"6\": {\"6\": 91, \"4\": 1, \"46\": 3, \"50\": 1}, \"16\": {\"16\": 131, \"25\": 7}, \"17\": {\"17\": 64}, \"50\": {\"4\": 2, \"50\": 143, \"6\": 3}, \"57\": {\"57\": 141, \"13\": 2, \"30\": 1}, \"23\": {\"23\": 131, \"19\": 3, \"34\": 1, \"54\": 1}, \"3\": {\"22\": 2, \"3\": 107, \"45\": 2, \"56\": 14, \"0\": 1}, \"53\": {\"53\": 140}, \"49\": {\"43\": 1, \"49\": 30, \"39\": 1}, \"56\": {\"56\": 117, \"3\": 9, \"45\": 26}, \"51\": {\"51\": 137, \"9\": 2, \"7\": 1, \"41\": 2}, \"26\": {\"26\": 22, \"19\": 1, \"25\": 1}, \"43\": {\"43\": 142, \"55\": 1, \"49\": 1}, \"22\": {\"22\": 126, \"20\": 1, \"0\": 8, \"21\": 1}, \"45\": {\"45\": 139, \"56\": 7}, \"13\": {\"12\": 14, \"13\": 137, \"30\": 1}, \"12\": {\"12\": 111, \"13\": 3, \"57\": 1, \"8\": 1}, \"54\": {\"54\": 103, \"42\": 1}, \"24\": {\"24\": 107, \"31\": 1}, \"44\": {\"44\": 123, \"45\": 10, \"56\": 3}, \"28\": {\"28\": 28}, \"33\": {\"33\": 32}, \"38\": {\"33\": 1, \"36\": 2, \"38\": 10, \"37\": 4, \"39\": 4, \"29\": 1, \"49\": 2}, \"0\": {\"0\": 144}, \"47\": {\"47\": 147, \"36\": 1, \"27\": 4, \"29\": 1, \"21\": 1}, \"42\": {\"42\": 30, \"54\": 1, \"34\": 1, \"41\": 1, \"55\": 2, \"19\": 1, \"23\": 1, \"31\": 1, \"51\": 2}, \"34\": {\"34\": 21, \"35\": 2, \"24\": 1}, \"48\": {\"48\": 140, \"2\": 2}, \"35\": {\"35\": 33, \"19\": 1, \"23\": 1, \"31\": 1}, \"2\": {\"2\": 35, \"48\": 1}, \"30\": {\"30\": 119, \"1\": 1}, \"18\": {\"18\": 72}, \"37\": {\"36\": 2, \"37\": 24, \"55\": 3, \"32\": 1, \"1\": 2}, \"1\": {\"1\": 99, \"36\": 1}, \"11\": {\"11\": 138}, \"55\": {\"37\": 3, \"55\": 117, \"33\": 4, \"32\": 1, \"51\": 3, \"9\": 2}, \"15\": {\"15\": 150}, \"10\": {\"10\": 96}, \"27\": {\"27\": 148, \"21\": 7, \"52\": 5}, \"19\": {\"19\": 145, \"53\": 1}, \"14\": {\"30\": 2, \"14\": 22}, \"8\": {\"8\": 140}, \"5\": {\"5\": 136}, \"39\": {\"39\": 22, \"47\": 2, \"32\": 2, \"38\": 1, \"1\": 1}, \"52\": {\"21\": 27, \"52\": 84, \"27\": 10, \"22\": 1}, \"21\": {\"52\": 8, \"21\": 106, \"27\": 6, \"1\": 1, \"22\": 2, \"29\": 1}, \"40\": {\"40\": 136, \"20\": 7, \"12\": 2, \"6\": 3, \"13\": 2, \"50\": 1, \"4\": 1}, \"32\": {\"32\": 31, \"38\": 1}}, \"C_3\": {\"56\": {\"22\": 15, \"56\": 94, \"0\": 11}, \"4\": {\"4\": 137, \"27\": 3, \"20\": 1, \"48\": 4, \"41\": 1}, \"34\": {\"34\": 23, \"42\": 1, \"31\": 1, \"55\": 2, \"37\": 2, \"7\": 1, \"35\": 1, \"19\": 1}, \"52\": {\"52\": 136}, \"32\": {\"32\": 26, \"36\": 2}, \"46\": {\"46\": 101, \"44\": 4, \"12\": 1, \"50\": 15, \"21\": 3, \"5\": 3, \"6\": 1, \"3\": 3, \"22\": 1, \"56\": 1, \"40\": 2, \"0\": 1}, \"12\": {\"12\": 84, \"45\": 3, \"21\": 2, \"50\": 1, \"46\": 2}, \"20\": {\"27\": 3, \"20\": 122, \"4\": 3, \"8\": 4}, \"54\": {\"54\": 97, \"17\": 1, \"53\": 2}, \"22\": {\"22\": 108, \"56\": 14, \"0\": 17, \"5\": 1}, \"26\": {\"26\": 24}, \"31\": {\"31\": 27, \"24\": 1}, \"10\": {\"10\": 64}, \"27\": {\"27\": 113, \"20\": 11, \"33\": 2, \"8\": 4, \"4\": 2, \"9\": 11, \"48\": 1}, \"40\": {\"40\": 128, \"52\": 2, \"46\": 1, \"30\": 3, \"21\": 2}, \"28\": {\"28\": 28}, \"5\": {\"5\": 108, \"44\": 3, \"22\": 1, \"3\": 3, \"0\": 1}, \"30\": {\"30\": 117, \"21\": 1, \"40\": 2}, \"7\": {\"7\": 13, \"39\": 2, \"20\": 1, \"34\": 2, \"49\": 1, \"14\": 1, \"29\": 1, \"47\": 1, \"13\": 2, \"42\": 2, \"41\": 1, \"57\": 3, \"43\": 2, \"9\": 1, \"35\": 1, \"55\": 2}, \"18\": {\"18\": 84}, \"39\": {\"35\": 1, \"39\": 13, \"7\": 2}, \"50\": {\"50\": 102, \"3\": 7, \"21\": 10, \"46\": 12, \"45\": 3, \"22\": 1, \"44\": 1}, \"49\": {\"7\": 2, \"49\": 9, \"20\": 1, \"24\": 5, \"43\": 2, \"12\": 1}, \"43\": {\"43\": 118, \"24\": 3, \"31\": 1}, \"29\": {\"29\": 95, \"9\": 6, \"57\": 9, \"1\": 4}, \"35\": {\"43\": 1, \"35\": 22, \"7\": 3, \"42\": 1, \"34\": 1}, \"13\": {\"13\": 122, \"47\": 2}, \"36\": {\"36\": 98, \"2\": 1, \"51\": 1}, \"11\": {\"11\": 110, \"15\": 29, \"16\": 6, \"25\": 1}, \"57\": {\"57\": 115, \"1\": 5, \"29\": 4}, \"9\": {\"9\": 115, \"29\": 8, \"20\": 1, \"27\": 4, \"52\": 1, \"57\": 1}, \"25\": {\"25\": 126, \"15\": 2, \"16\": 2}, \"16\": {\"16\": 113, \"15\": 7, \"11\": 6}, \"53\": {\"53\": 117, \"15\": 1}, \"33\": {\"33\": 27, \"41\": 1}, \"51\": {\"51\": 126, \"36\": 2}, \"44\": {\"44\": 63, \"3\": 11, \"5\": 3, \"50\": 7, \"46\": 4}, \"48\": {\"48\": 62, \"20\": 7, \"29\": 8, \"1\": 6, \"4\": 2, \"27\": 6, \"52\": 3, \"9\": 10, \"57\": 2, \"8\": 1, \"47\": 3, \"33\": 1, \"41\": 3}, \"6\": {\"6\": 80, \"3\": 7, \"46\": 1}, \"23\": {\"23\": 142, \"26\": 2}, \"1\": {\"1\": 82, \"57\": 5, \"48\": 5, \"47\": 6, \"29\": 2}, \"17\": {\"51\": 4, \"17\": 104}, \"21\": {\"21\": 116, \"50\": 2, \"46\": 4}, \"14\": {\"39\": 2, \"14\": 25, \"7\": 1, \"0\": 1, \"57\": 2, \"13\": 6, \"47\": 1, \"12\": 1, \"56\": 1}, \"55\": {\"34\": 2, \"17\": 2, \"55\": 121, \"35\": 2, \"37\": 4, \"23\": 4, \"43\": 5, \"26\": 1, \"7\": 1, \"32\": 1, \"36\": 1}, \"41\": {\"41\": 24, \"1\": 1, \"48\": 3}, \"3\": {\"3\": 112, \"44\": 7, \"6\": 10, \"5\": 4, \"46\": 2, \"50\": 3}, \"38\": {\"38\": 28}, \"2\": {\"2\": 22, \"38\": 1, \"51\": 3, \"42\": 1, \"36\": 4, \"8\": 1}, \"8\": {\"8\": 136, \"20\": 3, \"4\": 2, \"48\": 1}, \"37\": {\"37\": 28}, \"45\": {\"45\": 47, \"12\": 7, \"6\": 3, \"50\": 1, \"44\": 1, \"21\": 1}, \"42\": {\"42\": 26, \"34\": 2}, \"24\": {\"24\": 104}, \"15\": {\"15\": 116, \"11\": 14, \"16\": 6}, \"0\": {\"0\": 120, \"47\": 1, \"56\": 2, \"22\": 1}, \"47\": {\"47\": 85, \"22\": 1, \"1\": 6}, \"19\": {\"19\": 117, \"23\": 1, \"53\": 1, \"25\": 1}}, \"W_1\": {\"22\": {\"22\": 14, \"5\": 1, \"64\": 1}, \"58\": {\"58\": 11, \"37\": 1}, \"109\": {\"109\": 106, \"10\": 5, \"78\": 1, \"108\": 4, \"70\": 3, \"93\": 1, \"88\": 2, \"11\": 2}, \"77\": {\"77\": 13, \"91\": 3}, \"74\": {\"74\": 13, \"34\": 1, \"14\": 1, \"1\": 1}, \"10\": {\"10\": 84, \"70\": 12, \"108\": 7, \"88\": 6, \"24\": 6, \"27\": 1, \"109\": 2, \"93\": 1, \"94\": 1}, \"70\": {\"109\": 7, \"70\": 106, \"93\": 2, \"108\": 4, \"10\": 5, \"24\": 2, \"107\": 1, \"88\": 1}, \"84\": {\"84\": 99, \"23\": 1, \"7\": 8}, \"52\": {\"52\": 13, \"92\": 2, \"114\": 2, \"51\": 1, \"75\": 2}, \"20\": {\"20\": 13, \"77\": 1, \"114\": 2}, \"14\": {\"14\": 87, \"40\": 4, \"1\": 1, \"10\": 1, \"44\": 3}, \"37\": {\"37\": 15, \"91\": 1}, \"42\": {\"77\": 2, \"22\": 1, \"2\": 1, \"5\": 3, \"83\": 3, \"85\": 1, \"67\": 1, \"42\": 9, \"98\": 1, \"121\": 1, \"104\": 2, \"91\": 1, \"29\": 1, \"111\": 1}, \"99\": {\"74\": 1, \"99\": 16, \"26\": 1, \"14\": 1, \"19\": 1, \"33\": 3, \"1\": 1}, \"35\": {\"35\": 10, \"7\": 1, \"40\": 1}, \"62\": {\"62\": 111, \"69\": 4, \"26\": 1, \"84\": 1, \"105\": 2, \"109\": 1}, \"61\": {\"61\": 11, \"66\": 1}, \"7\": {\"7\": 133, \"69\": 1, \"118\": 1, \"84\": 5, \"62\": 1, \"109\": 1}, \"69\": {\"69\": 93, \"62\": 3, \"10\": 1, \"108\": 1, \"7\": 1, \"3\": 1, \"109\": 1, \"88\": 1, \"26\": 2}, \"55\": {\"55\": 12}, \"41\": {\"41\": 10, \"46\": 1, \"5\": 1, \"91\": 1, \"120\": 1, \"17\": 2}, \"120\": {\"120\": 17, \"124\": 1, \"82\": 2}, \"123\": {\"123\": 16}, \"97\": {\"97\": 11, \"93\": 1, \"98\": 1, \"42\": 1, \"0\": 1, \"54\": 1, \"90\": 1, \"8\": 2, \"126\": 1}, \"102\": {\"102\": 113, \"2\": 1, \"24\": 1, \"117\": 3, \"10\": 1, \"109\": 1}, \"60\": {\"7\": 2, \"127\": 1, \"18\": 1, \"106\": 2, \"60\": 3, \"65\": 2, \"61\": 1, \"74\": 1, \"31\": 1, \"96\": 1, \"8\": 1}, \"127\": {\"127\": 91, \"10\": 2, \"11\": 1, \"101\": 5, \"71\": 4, \"72\": 1, \"78\": 1, \"40\": 1, \"12\": 2}, \"32\": {\"32\": 24, \"51\": 3, \"40\": 1, \"92\": 2, \"75\": 1, \"49\": 1}, \"3\": {\"20\": 2, \"3\": 69, \"110\": 2, \"85\": 1, \"114\": 4, \"18\": 3, \"8\": 1, \"1\": 3, \"33\": 2, \"10\": 1}, \"8\": {\"8\": 59, \"93\": 10, \"87\": 2, \"122\": 5, \"43\": 9, \"126\": 12, \"27\": 5, \"110\": 3, \"88\": 1, \"36\": 3, \"94\": 2, \"0\": 5, \"11\": 2, \"106\": 1, \"30\": 1, \"97\": 1, \"12\": 1}, \"129\": {\"129\": 19, \"55\": 1, \"13\": 1, \"2\": 1, \"5\": 4, \"102\": 1, \"116\": 1}, \"119\": {\"119\": 10, \"129\": 1, \"115\": 1, \"116\": 1, \"61\": 1, \"57\": 1, \"102\": 1}, \"21\": {\"70\": 1, \"109\": 2, \"21\": 34, \"108\": 2, \"5\": 1}, \"53\": {\"53\": 20}, \"28\": {\"28\": 8, \"65\": 2, \"60\": 1, \"54\": 2, \"42\": 2, \"25\": 3, \"67\": 1, \"46\": 1}, \"117\": {\"117\": 144}, \"112\": {\"112\": 11, \"98\": 2, \"68\": 1, \"103\": 1, \"37\": 1}, \"126\": {\"30\": 1, \"126\": 86, \"93\": 13, \"122\": 5, \"78\": 1, \"43\": 7, \"11\": 7, \"108\": 2, \"87\": 2, \"110\": 1, \"8\": 4, \"10\": 1, \"27\": 3, \"88\": 1}, \"30\": {\"30\": 38, \"96\": 2, \"97\": 3, \"10\": 1, \"108\": 5, \"36\": 1, \"27\": 2}, \"105\": {\"105\": 69, \"40\": 4, \"10\": 1, \"11\": 1, \"70\": 1, \"34\": 2, \"84\": 3, \"7\": 1, \"12\": 2}, \"29\": {\"29\": 26, \"89\": 2}, \"57\": {\"57\": 11, \"104\": 1}, \"93\": {\"93\": 110, \"30\": 3, \"97\": 1, \"126\": 6, \"43\": 3, \"94\": 3, \"122\": 1, \"27\": 6, \"15\": 2, \"108\": 2, \"11\": 1, \"8\": 2}, \"17\": {\"55\": 3, \"97\": 1, \"17\": 5, \"124\": 4, \"86\": 2, \"111\": 1}, \"44\": {\"44\": 63, \"69\": 2, \"1\": 3, \"3\": 1, \"107\": 1, \"14\": 3, \"40\": 2, \"114\": 1}, \"63\": {\"63\": 13, \"102\": 1, \"117\": 1, \"13\": 1}, \"87\": {\"87\": 75, \"8\": 7, \"11\": 2, \"43\": 12, \"109\": 1, \"122\": 8, \"93\": 1, \"126\": 1, \"10\": 1}, \"0\": {\"0\": 73, \"110\": 5, \"122\": 1, \"15\": 3, \"87\": 1, \"12\": 1}, \"96\": {\"96\": 11, \"44\": 1, \"16\": 1, \"57\": 1, \"126\": 1, \"8\": 2, \"117\": 1, \"34\": 1, \"36\": 1}, \"98\": {\"98\": 85, \"92\": 1, \"38\": 1, \"89\": 1, \"128\": 4, \"40\": 1, \"114\": 3, \"85\": 3, \"107\": 3, \"14\": 1, \"54\": 1, \"91\": 1, \"42\": 1, \"29\": 1, \"11\": 1}, \"75\": {\"75\": 6, \"92\": 2, \"53\": 3, \"98\": 2, \"49\": 2, \"85\": 1}, \"78\": {\"78\": 11, \"109\": 1, \"108\": 2, \"10\": 1, \"24\": 1}, \"116\": {\"116\": 30, \"45\": 1, \"70\": 1}, \"114\": {\"114\": 119, \"89\": 2, \"83\": 1, \"109\": 1, \"10\": 1, \"44\": 1, \"1\": 3}, \"103\": {\"103\": 11, \"37\": 1, \"29\": 2, \"1\": 1, \"72\": 1}, \"50\": {\"73\": 2, \"50\": 8, \"90\": 2, \"42\": 1, \"33\": 1, \"100\": 1, \"82\": 1}, \"124\": {\"5\": 1, \"124\": 123, \"46\": 2, \"6\": 1, \"17\": 1}, \"5\": {\"5\": 75, \"42\": 2, \"129\": 2, \"124\": 7, \"8\": 1, \"12\": 1}, \"73\": {\"114\": 1, \"87\": 1, \"54\": 2, \"73\": 12, \"29\": 1, \"98\": 1, \"128\": 2}, \"81\": {\"50\": 2, \"81\": 18, \"33\": 1, \"19\": 3, \"1\": 2, \"74\": 1, \"18\": 1}, \"49\": {\"49\": 8, \"5\": 1, \"20\": 1, \"72\": 2, \"56\": 1, \"89\": 1, \"34\": 1, \"9\": 2, \"75\": 2, \"32\": 1}, \"16\": {\"16\": 83, \"113\": 6, \"18\": 3, \"69\": 3, \"26\": 8, \"70\": 1, \"10\": 1, \"62\": 2, \"108\": 1}, \"101\": {\"101\": 101, \"71\": 11, \"29\": 1, \"12\": 7, \"127\": 3, \"107\": 1}, \"125\": {\"125\": 113, \"111\": 5}, \"65\": {\"66\": 3, \"57\": 1, \"17\": 1, \"67\": 1, \"42\": 2, \"26\": 1, \"55\": 1, \"65\": 2}, \"66\": {\"28\": 2, \"64\": 1, \"66\": 10, \"13\": 1, \"61\": 2}, \"79\": {\"104\": 1, \"79\": 8, \"80\": 1, \"4\": 1, \"86\": 1}, \"39\": {\"39\": 97, \"30\": 1, \"108\": 1, \"11\": 3, \"43\": 1, \"122\": 1}, \"104\": {\"57\": 2, \"104\": 10, \"5\": 2, \"80\": 1, \"25\": 1}, \"91\": {\"91\": 18, \"53\": 1, \"54\": 2, \"83\": 1, \"37\": 1, \"86\": 1, \"103\": 2, \"77\": 1, \"98\": 1}, \"25\": {\"77\": 1, \"64\": 1, \"25\": 9, \"67\": 1, \"1\": 1, \"104\": 1, \"85\": 1, \"22\": 1}, \"64\": {\"64\": 14, \"28\": 1, \"67\": 1}, \"34\": {\"34\": 12, \"75\": 1, \"49\": 3, \"1\": 1, \"31\": 1, \"89\": 3, \"30\": 1, \"107\": 5, \"9\": 1, \"40\": 1, \"53\": 1, \"44\": 1, \"84\": 1}, \"82\": {\"82\": 31, \"90\": 1, \"42\": 1, \"33\": 1, \"64\": 1, \"100\": 1}, \"18\": {\"18\": 108, \"26\": 8, \"16\": 4, \"113\": 4}, \"43\": {\"43\": 99, \"10\": 1, \"122\": 8, \"87\": 6, \"126\": 10, \"11\": 2, \"0\": 1, \"8\": 1}, \"47\": {\"77\": 2, \"47\": 7, \"32\": 1, \"100\": 1, \"120\": 1}, \"108\": {\"108\": 74, \"88\": 10, \"67\": 1, \"93\": 6, \"126\": 4, \"30\": 3, \"70\": 3, \"24\": 13, \"8\": 2, \"27\": 1, \"43\": 1, \"94\": 1, \"10\": 2, \"11\": 2, \"36\": 1}, \"111\": {\"111\": 104, \"68\": 2, \"70\": 1, \"59\": 1}, \"23\": {\"23\": 6, \"87\": 2, \"44\": 1, \"62\": 6, \"110\": 4, \"26\": 1, \"60\": 1, \"15\": 1, \"88\": 2}, \"90\": {\"90\": 155, \"116\": 1, \"127\": 1, \"66\": 1, \"50\": 1, \"71\": 1}, \"4\": {\"4\": 96, \"104\": 2, \"86\": 1, \"30\": 1}, \"92\": {\"92\": 28}, \"2\": {\"102\": 6, \"63\": 2, \"2\": 14, \"117\": 2, \"116\": 2, \"5\": 3, \"82\": 1, \"104\": 1, \"0\": 1}, \"45\": {\"116\": 2, \"2\": 1, \"80\": 2, \"117\": 1, \"104\": 3, \"70\": 1, \"21\": 1, \"45\": 1}, \"68\": {\"68\": 13, \"111\": 3}, \"26\": {\"26\": 118, \"18\": 6, \"69\": 1, \"16\": 3}, \"38\": {\"38\": 10, \"25\": 1, \"34\": 1, \"74\": 1, \"29\": 1, \"107\": 1, \"77\": 1}, \"40\": {\"40\": 101, \"105\": 7, \"127\": 1, \"14\": 13, \"12\": 2, \"34\": 1, \"9\": 1, \"44\": 2, \"107\": 1, \"72\": 2, \"7\": 3, \"84\": 3, \"71\": 4, \"101\": 1}, \"80\": {\"80\": 13, \"81\": 1, \"104\": 1, \"73\": 1}, \"107\": {\"107\": 111, \"87\": 1, \"89\": 2, \"11\": 1, \"40\": 2, \"39\": 1, \"14\": 1, \"114\": 2, \"126\": 1}, \"94\": {\"94\": 63, \"93\": 4, \"15\": 11, \"27\": 2, \"36\": 8, \"8\": 1, \"0\": 1, \"110\": 1, \"126\": 1}, \"115\": {\"115\": 12}, \"46\": {\"41\": 1, \"46\": 4, \"111\": 1, \"37\": 2, \"70\": 1, \"91\": 2, \"6\": 1}, \"72\": {\"72\": 18, \"107\": 3, \"53\": 1, \"40\": 3, \"89\": 3, \"101\": 1, \"9\": 1, \"114\": 1, \"14\": 1}, \"19\": {\"19\": 25, \"81\": 3}, \"100\": {\"19\": 1, \"100\": 10, \"73\": 1, \"50\": 2, \"124\": 1, \"16\": 1}, \"76\": {\"76\": 13, \"47\": 1, \"1\": 1, \"88\": 1}, \"106\": {\"106\": 130, \"127\": 1, \"12\": 1}, \"88\": {\"88\": 84, \"10\": 9, \"108\": 10, \"24\": 9, \"93\": 6, \"27\": 6, \"70\": 3, \"36\": 2, \"30\": 1}, \"15\": {\"15\": 89, \"94\": 7, \"0\": 1, \"27\": 1, \"93\": 2, \"110\": 1, \"36\": 2, \"70\": 1}, \"54\": {\"54\": 11, \"15\": 1, \"5\": 1, \"38\": 1, \"97\": 1, \"91\": 1}, \"13\": {\"13\": 16}, \"51\": {\"51\": 10, \"32\": 2, \"49\": 2, \"40\": 1, \"12\": 1}, \"24\": {\"24\": 62, \"8\": 1, \"88\": 14, \"108\": 4, \"30\": 1, \"27\": 2, \"93\": 2, \"109\": 1, \"97\": 2, \"10\": 1, \"94\": 1, \"126\": 1}, \"48\": {\"48\": 12}, \"85\": {\"85\": 30, \"5\": 1, \"29\": 1}, \"33\": {\"33\": 140}, \"71\": {\"71\": 78, \"18\": 1, \"103\": 1, \"127\": 12, \"87\": 1, \"101\": 11, \"117\": 1, \"82\": 1, \"3\": 1, \"12\": 1}, \"6\": {\"6\": 24, \"68\": 2, \"111\": 2, \"128\": 1, \"5\": 1, \"58\": 2}, \"83\": {\"83\": 17, \"47\": 1, \"73\": 2, \"2\": 2, \"52\": 1, \"91\": 1, \"50\": 1, \"85\": 1, \"98\": 1, \"53\": 1}, \"121\": {\"121\": 28, \"117\": 2, \"42\": 2}, \"31\": {\"31\": 9, \"101\": 1, \"51\": 1, \"24\": 1, \"75\": 1, \"23\": 1, \"127\": 1, \"72\": 1}, \"67\": {\"109\": 1, \"67\": 13, \"64\": 2}, \"1\": {\"1\": 126, \"114\": 5, \"33\": 1, \"40\": 1, \"101\": 1, \"78\": 1, \"34\": 1}, \"27\": {\"27\": 67, \"93\": 5, \"24\": 5, \"108\": 1, \"109\": 1, \"94\": 3, \"15\": 2, \"88\": 4, \"30\": 2, \"10\": 1, \"36\": 1}, \"118\": {\"118\": 80, \"109\": 1, \"26\": 1, \"70\": 1, \"60\": 1}, \"56\": {\"56\": 10, \"32\": 2}, \"36\": {\"36\": 110, \"94\": 10, \"93\": 2, \"70\": 1, \"0\": 1, \"43\": 1, \"15\": 2, \"27\": 1}, \"11\": {\"11\": 86, \"30\": 2, \"126\": 14, \"87\": 2, \"122\": 2, \"36\": 1, \"43\": 8, \"8\": 3, \"107\": 1, \"93\": 1, \"0\": 1, \"39\": 3, \"108\": 1, \"109\": 1}, \"110\": {\"110\": 107, \"10\": 1, \"15\": 1, \"12\": 1, \"8\": 4, \"0\": 5, \"36\": 2, \"78\": 1}, \"89\": {\"89\": 22, \"98\": 2, \"72\": 4, \"85\": 1, \"114\": 1, \"47\": 1, \"92\": 1, \"107\": 1, \"29\": 3}, \"113\": {\"113\": 110, \"43\": 1, \"110\": 1, \"16\": 2, \"33\": 1, \"126\": 1, \"8\": 1, \"39\": 1}, \"59\": {\"59\": 10, \"17\": 2}, \"9\": {\"9\": 25, \"70\": 1, \"31\": 2, \"107\": 2, \"40\": 2}, \"86\": {\"46\": 1, \"79\": 1, \"115\": 2, \"86\": 27, \"124\": 1, \"17\": 1, \"22\": 1, \"125\": 1, \"89\": 1}, \"12\": {\"12\": 78, \"71\": 2, \"70\": 1, \"106\": 10, \"101\": 10, \"109\": 2, \"10\": 1}, \"122\": {\"126\": 3, \"122\": 49, \"8\": 7, \"30\": 1, \"43\": 16, \"11\": 4, \"87\": 3, \"10\": 1, \"88\": 1, \"94\": 1, \"70\": 2}, \"128\": {\"128\": 9, \"98\": 7, \"19\": 3, \"82\": 1, \"50\": 1, \"120\": 1, \"53\": 2}, \"95\": {\"95\": 31, \"24\": 1, \"26\": 1, \"33\": 1, \"64\": 1, \"81\": 1}}}, \"per_domain_accuracy\": {\"O_14\": {\"accuracy\": 0.8903645833333333, \"source?\": true}, \"O_20\": {\"accuracy\": 0.9265625, \"source?\": true}, \"O_50\": {\"accuracy\": 0.66484375, \"source?\": true}, \"O_26\": {\"accuracy\": 0.7947916666666667, \"source?\": true}, \"O_32\": {\"accuracy\": 0.5846354166666666, \"source?\": true}, \"O_44\": {\"accuracy\": 0.5588541666666667, \"source?\": true}, \"O_8\": {\"accuracy\": 0.8348958333333333, \"source?\": true}, \"O_38\": {\"accuracy\": 0.7158854166666667, \"source?\": true}, \"W_3\": {\"accuracy\": 0.8118176855895196, \"source?\": false}, \"W_4\": {\"accuracy\": 0.7534865702479339, \"source?\": false}, \"C_4\": {\"accuracy\": 0.8583458083832335, \"source?\": false}, \"C_5\": {\"accuracy\": 0.9135824022346368, \"source?\": false}, \"C_2\": {\"accuracy\": 0.9001785714285714, \"source?\": false}, \"W_2\": {\"accuracy\": 0.7766350210970464, \"source?\": false}, \"C_1\": {\"accuracy\": 0.9402173913043478, \"source?\": false}, \"C_3\": {\"accuracy\": 0.8863970588235294, \"source?\": false}, \"W_1\": {\"accuracy\": 0.8042279411764706, \"source?\": false}}}, \"history\": {\"epoch_indices\": [1, 2, 3, 4, 5], \"train_label_loss\": [0.40828974196504403, 0.4463918528568077, 0.26866273683671826, 0.19125213182016437, 0.17564651659870703], \"source_val_label_loss\": [5.9439802169799805, 0.24357707798480988, 0.19147489964962006, 0.20108629763126373, 0.16840079426765442], \"target_val_label_loss\": [2192.4228515625, 1438.0638427734375, 1109.3201904296875, 1344.1563720703125, 1543.120361328125], \"source_val_acc_label\": [0.7463541666666667, 0.91748046875, 0.9335286458333333, 0.9298177083333333, 0.9406575520833333], \"target_val_acc_label\": [0.8411930258099946, 0.7484383580450302, 0.6666495057660626, 0.6882379187259747, 0.6747322899505767]}, \"dataset_metrics\": {\"source\": {\"train\": {\"n_unique_x\": 179200, \"n_unique_y\": 16, \"n_batch/episode\": 6720}, \"val\": {\"n_unique_x\": 38400, \"n_unique_y\": 16, \"n_batch/episode\": 960}, \"test\": {\"n_unique_x\": 38400, \"n_unique_y\": 16, \"n_batch/episode\": 960}}, \"target\": {\"train\": {\"n_unique_x\": 364209, \"n_unique_y\": 130, \"n_batch/episode\": 13178}, \"val\": {\"n_unique_x\": 77265, \"n_unique_y\": 130, \"n_batch/episode\": 1821}, \"test\": {\"n_unique_x\": 78390, \"n_unique_y\": 130, \"n_batch/episode\": 1852}}}}'"
      ]
     },
     "execution_count": 29,
     "metadata": {},
     "output_type": "execute_result"
    }
   ],
   "source": [
    "json.dumps(experiment)"
   ]
  }
 ],
 "metadata": {
  "celltoolbar": "Tags",
  "kernelspec": {
   "display_name": "Python 3 (ipykernel)",
   "language": "python",
   "name": "python3"
  },
  "language_info": {
   "codemirror_mode": {
    "name": "ipython",
    "version": 3
   },
   "file_extension": ".py",
   "mimetype": "text/x-python",
   "name": "python",
   "nbconvert_exporter": "python",
   "pygments_lexer": "ipython3",
   "version": "3.8.10"
  },
  "papermill": {
   "default_parameters": {},
   "duration": 1101.476423,
   "end_time": "2022-03-19T21:53:01.634710",
   "environment_variables": {},
   "exception": null,
   "input_path": "/mnt/wd500GB/CSC500/csc500-main/csc500-notebooks/templates/tl_ptn_template.ipynb",
   "output_path": "trial.ipynb",
   "parameters": {
    "parameters": {
     "BEST_MODEL_PATH": "./best_model.pth",
     "NUM_LOGS_PER_EPOCH": 10,
     "criteria_for_best": "target_accuracy",
     "dataset_seed": 420,
     "datasets": [
      {
       "domain_prefix": "C_",
       "domains": [
        1,
        2,
        3,
        4,
        5
       ],
       "episode_transforms": [],
       "labels": [
        "1-10.",
        "1-11.",
        "1-15.",
        "1-16.",
        "1-17.",
        "1-18.",
        "1-19.",
        "10-4.",
        "10-7.",
        "11-1.",
        "11-14.",
        "11-17.",
        "11-20.",
        "11-7.",
        "13-20.",
        "13-8.",
        "14-10.",
        "14-11.",
        "14-14.",
        "14-7.",
        "15-1.",
        "15-20.",
        "16-1.",
        "16-16.",
        "17-10.",
        "17-11.",
        "17-2.",
        "19-1.",
        "19-16.",
        "19-19.",
        "19-20.",
        "19-3.",
        "2-10.",
        "2-11.",
        "2-17.",
        "2-18.",
        "2-20.",
        "2-3.",
        "2-4.",
        "2-5.",
        "2-6.",
        "2-7.",
        "2-8.",
        "3-13.",
        "3-18.",
        "3-3.",
        "4-1.",
        "4-10.",
        "4-11.",
        "4-19.",
        "5-5.",
        "6-15.",
        "7-10.",
        "7-14.",
        "8-18.",
        "8-20.",
        "8-3.",
        "8-8."
       ],
       "num_examples_per_domain_per_label": -1,
       "pickle_path": "/mnt/wd500GB/CSC500/csc500-main/datasets/cores.stratified_ds.2022A.pkl",
       "source_or_target_dataset": "target",
       "x_transforms": []
      },
      {
       "domain_prefix": "W_",
       "domains": [
        1,
        2,
        3,
        4
       ],
       "episode_transforms": [],
       "labels": [
        "1-10",
        "1-12",
        "1-14",
        "1-16",
        "1-18",
        "1-19",
        "1-8",
        "10-11",
        "10-17",
        "10-4",
        "10-7",
        "11-1",
        "11-10",
        "11-19",
        "11-20",
        "11-4",
        "11-7",
        "12-19",
        "12-20",
        "12-7",
        "13-14",
        "13-18",
        "13-19",
        "13-20",
        "13-3",
        "13-7",
        "14-10",
        "14-11",
        "14-12",
        "14-13",
        "14-14",
        "14-19",
        "14-20",
        "14-7",
        "14-8",
        "14-9",
        "15-1",
        "15-19",
        "15-6",
        "16-1",
        "16-16",
        "16-19",
        "16-20",
        "17-10",
        "17-11",
        "18-1",
        "18-10",
        "18-11",
        "18-12",
        "18-13",
        "18-14",
        "18-15",
        "18-16",
        "18-17",
        "18-19",
        "18-2",
        "18-20",
        "18-4",
        "18-5",
        "18-7",
        "18-8",
        "18-9",
        "19-1",
        "19-10",
        "19-11",
        "19-12",
        "19-13",
        "19-14",
        "19-15",
        "19-19",
        "19-2",
        "19-20",
        "19-3",
        "19-4",
        "19-6",
        "19-7",
        "19-8",
        "19-9",
        "2-1",
        "2-13",
        "2-15",
        "2-3",
        "2-4",
        "2-5",
        "2-6",
        "2-7",
        "2-8",
        "20-1",
        "20-12",
        "20-14",
        "20-15",
        "20-16",
        "20-18",
        "20-19",
        "20-20",
        "20-3",
        "20-4",
        "20-5",
        "20-7",
        "20-8",
        "3-1",
        "3-13",
        "3-18",
        "3-2",
        "3-8",
        "4-1",
        "4-10",
        "4-11",
        "5-1",
        "5-5",
        "6-1",
        "6-15",
        "6-6",
        "7-10",
        "7-11",
        "7-12",
        "7-13",
        "7-14",
        "7-7",
        "7-8",
        "7-9",
        "8-1",
        "8-13",
        "8-14",
        "8-18",
        "8-20",
        "8-3",
        "8-8",
        "9-1",
        "9-7"
       ],
       "num_examples_per_domain_per_label": -1,
       "pickle_path": "/mnt/wd500GB/CSC500/csc500-main/datasets/wisig.node3-19.stratified_ds.2022A.pkl",
       "source_or_target_dataset": "target",
       "x_transforms": []
      },
      {
       "domain_prefix": "O_",
       "domains": [
        32,
        38,
        8,
        44,
        14,
        50,
        20,
        26
       ],
       "episode_transforms": [],
       "labels": [
        "3123D52",
        "3123D65",
        "3123D79",
        "3123D80",
        "3123D54",
        "3123D70",
        "3123D7B",
        "3123D89",
        "3123D58",
        "3123D76",
        "3123D7D",
        "3123EFE",
        "3123D64",
        "3123D78",
        "3123D7E",
        "3124E4A"
       ],
       "num_examples_per_domain_per_label": 2000,
       "pickle_path": "/mnt/wd500GB/CSC500/csc500-main/datasets/oracle.Run1_framed_2000Examples_stratified_ds.2022A.pkl",
       "source_or_target_dataset": "source",
       "x_transforms": []
      }
     ],
     "device": "cuda",
     "experiment_name": "tl_2v2:oracle.run1.framed -> cores+wisig",
     "lr": 0.0001,
     "n_epoch": 50,
     "n_query": 2,
     "n_shot": 3,
     "n_way": 16,
     "patience": 3,
     "seed": 420,
     "test_k_factor": 2,
     "torch_default_dtype": "torch.float32",
     "train_k_factor": 3,
     "val_k_factor": 2,
     "x_net": [
      {
       "class": "nnReshape",
       "kargs": {
        "shape": [
         -1,
         1,
         2,
         256
        ]
       }
      },
      {
       "class": "Conv2d",
       "kargs": {
        "bias": false,
        "in_channels": 1,
        "kernel_size": [
         1,
         7
        ],
        "out_channels": 256,
        "padding": [
         0,
         3
        ]
       }
      },
      {
       "class": "ReLU",
       "kargs": {
        "inplace": true
       }
      },
      {
       "class": "BatchNorm2d",
       "kargs": {
        "num_features": 256
       }
      },
      {
       "class": "Conv2d",
       "kargs": {
        "bias": true,
        "in_channels": 256,
        "kernel_size": [
         2,
         7
        ],
        "out_channels": 80,
        "padding": [
         0,
         3
        ]
       }
      },
      {
       "class": "ReLU",
       "kargs": {
        "inplace": true
       }
      },
      {
       "class": "BatchNorm2d",
       "kargs": {
        "num_features": 80
       }
      },
      {
       "class": "Flatten",
       "kargs": {}
      },
      {
       "class": "Linear",
       "kargs": {
        "in_features": 20480,
        "out_features": 256
       }
      },
      {
       "class": "ReLU",
       "kargs": {
        "inplace": true
       }
      },
      {
       "class": "BatchNorm1d",
       "kargs": {
        "num_features": 256
       }
      },
      {
       "class": "Linear",
       "kargs": {
        "in_features": 256,
        "out_features": 256
       }
      }
     ]
    }
   },
   "start_time": "2022-03-19T21:34:40.158287",
   "version": "2.3.4"
  }
 },
 "nbformat": 4,
 "nbformat_minor": 5
}