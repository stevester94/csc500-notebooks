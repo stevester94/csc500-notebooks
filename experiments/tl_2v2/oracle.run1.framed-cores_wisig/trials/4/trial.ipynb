{
 "cells": [
  {
   "cell_type": "markdown",
   "id": "9fea5f46",
   "metadata": {
    "papermill": {
     "duration": 0.013419,
     "end_time": "2022-03-19T21:02:53.201116",
     "exception": false,
     "start_time": "2022-03-19T21:02:53.187697",
     "status": "completed"
    },
    "tags": []
   },
   "source": [
    "# Transfer Learning Template"
   ]
  },
  {
   "cell_type": "code",
   "execution_count": 1,
   "id": "0902182a",
   "metadata": {
    "execution": {
     "iopub.execute_input": "2022-03-19T21:02:53.238601Z",
     "iopub.status.busy": "2022-03-19T21:02:53.227967Z",
     "iopub.status.idle": "2022-03-19T21:02:54.181854Z",
     "shell.execute_reply": "2022-03-19T21:02:54.181563Z"
    },
    "papermill": {
     "duration": 0.968158,
     "end_time": "2022-03-19T21:02:54.181924",
     "exception": false,
     "start_time": "2022-03-19T21:02:53.213766",
     "status": "completed"
    },
    "tags": []
   },
   "outputs": [],
   "source": [
    "%load_ext autoreload\n",
    "%autoreload 2\n",
    "%matplotlib inline\n",
    "\n",
    "    \n",
    "import os, json, sys, time, random\n",
    "import numpy as np\n",
    "import torch\n",
    "from torch.optim import Adam\n",
    "from  easydict import EasyDict\n",
    "import matplotlib.pyplot as plt\n",
    "\n",
    "from steves_models.steves_ptn import Steves_Prototypical_Network\n",
    "\n",
    "from steves_utils.lazy_iterable_wrapper import Lazy_Iterable_Wrapper\n",
    "from steves_utils.iterable_aggregator import Iterable_Aggregator\n",
    "from steves_utils.ptn_train_eval_test_jig import  PTN_Train_Eval_Test_Jig\n",
    "from steves_utils.torch_sequential_builder import build_sequential\n",
    "from steves_utils.torch_utils import get_dataset_metrics, ptn_confusion_by_domain_over_dataloader\n",
    "from steves_utils.utils_v2 import (per_domain_accuracy_from_confusion, get_datasets_base_path)\n",
    "from steves_utils.PTN.utils import independent_accuracy_assesment\n",
    "\n",
    "from torch.utils.data import DataLoader\n",
    "\n",
    "from steves_utils.stratified_dataset.episodic_accessor import Episodic_Accessor_Factory\n",
    "\n",
    "from steves_utils.ptn_do_report import (\n",
    "    get_loss_curve,\n",
    "    get_results_table,\n",
    "    get_parameters_table,\n",
    "    get_domain_accuracies,\n",
    ")\n",
    "\n",
    "from steves_utils.transforms import get_chained_transform"
   ]
  },
  {
   "cell_type": "markdown",
   "id": "41c840b4",
   "metadata": {
    "papermill": {
     "duration": 0.01318,
     "end_time": "2022-03-19T21:02:54.208942",
     "exception": false,
     "start_time": "2022-03-19T21:02:54.195762",
     "status": "completed"
    },
    "tags": []
   },
   "source": [
    "# Allowed Parameters\n",
    "These are allowed parameters, not defaults\n",
    "Each of these values need to be present in the injected parameters (the notebook will raise an exception if they are not present)\n",
    "\n",
    "Papermill uses the cell tag \"parameters\" to inject the real parameters below this cell.\n",
    "Enable tags to see what I mean"
   ]
  },
  {
   "cell_type": "code",
   "execution_count": 2,
   "id": "fd44eb83",
   "metadata": {
    "execution": {
     "iopub.execute_input": "2022-03-19T21:02:54.237380Z",
     "iopub.status.busy": "2022-03-19T21:02:54.237114Z",
     "iopub.status.idle": "2022-03-19T21:02:54.251072Z",
     "shell.execute_reply": "2022-03-19T21:02:54.250826Z"
    },
    "papermill": {
     "duration": 0.029053,
     "end_time": "2022-03-19T21:02:54.251123",
     "exception": false,
     "start_time": "2022-03-19T21:02:54.222070",
     "status": "completed"
    },
    "tags": []
   },
   "outputs": [],
   "source": [
    "required_parameters = {\n",
    "    \"experiment_name\",\n",
    "    \"lr\",\n",
    "    \"device\",\n",
    "    \"seed\",\n",
    "    \"dataset_seed\",\n",
    "    \"n_shot\",\n",
    "    \"n_query\",\n",
    "    \"n_way\",\n",
    "    \"train_k_factor\",\n",
    "    \"val_k_factor\",\n",
    "    \"test_k_factor\",\n",
    "    \"n_epoch\",\n",
    "    \"patience\",\n",
    "    \"criteria_for_best\",\n",
    "    \"x_net\",\n",
    "    \"datasets\",\n",
    "    \"torch_default_dtype\",\n",
    "    \"NUM_LOGS_PER_EPOCH\",\n",
    "    \"BEST_MODEL_PATH\",\n",
    "    \"x_shape\",\n",
    "}"
   ]
  },
  {
   "cell_type": "code",
   "execution_count": 3,
   "id": "fa3f0049",
   "metadata": {
    "execution": {
     "iopub.execute_input": "2022-03-19T21:02:54.292356Z",
     "iopub.status.busy": "2022-03-19T21:02:54.288956Z",
     "iopub.status.idle": "2022-03-19T21:02:54.305153Z",
     "shell.execute_reply": "2022-03-19T21:02:54.304695Z"
    },
    "papermill": {
     "duration": 0.036314,
     "end_time": "2022-03-19T21:02:54.305245",
     "exception": false,
     "start_time": "2022-03-19T21:02:54.268931",
     "status": "completed"
    },
    "tags": [
     "parameters"
    ]
   },
   "outputs": [],
   "source": [
    "from steves_utils.CORES.utils import (\n",
    "    ALL_NODES,\n",
    "    ALL_NODES_MINIMUM_1000_EXAMPLES,\n",
    "    ALL_DAYS\n",
    ")\n",
    "\n",
    "from steves_utils.ORACLE.utils_v2 import (\n",
    "    ALL_DISTANCES_FEET_NARROWED,\n",
    "    ALL_RUNS,\n",
    "    ALL_SERIAL_NUMBERS,\n",
    ")\n",
    "\n",
    "standalone_parameters = {}\n",
    "standalone_parameters[\"experiment_name\"] = \"STANDALONE PTN\"\n",
    "standalone_parameters[\"lr\"] = 0.001\n",
    "standalone_parameters[\"device\"] = \"cuda\"\n",
    "\n",
    "standalone_parameters[\"seed\"] = 1337\n",
    "standalone_parameters[\"dataset_seed\"] = 1337\n",
    "\n",
    "standalone_parameters[\"n_way\"] = 8\n",
    "standalone_parameters[\"n_shot\"] = 3\n",
    "standalone_parameters[\"n_query\"]  = 2\n",
    "standalone_parameters[\"train_k_factor\"] = 1\n",
    "standalone_parameters[\"val_k_factor\"] = 2\n",
    "standalone_parameters[\"test_k_factor\"] = 2\n",
    "\n",
    "\n",
    "standalone_parameters[\"n_epoch\"] = 50\n",
    "\n",
    "standalone_parameters[\"patience\"] = 10\n",
    "standalone_parameters[\"criteria_for_best\"] = \"source_loss\"\n",
    "\n",
    "standalone_parameters[\"datasets\"] = [\n",
    "    {\n",
    "        \"labels\": ALL_SERIAL_NUMBERS,\n",
    "        \"domains\": ALL_DISTANCES_FEET_NARROWED,\n",
    "        \"num_examples_per_domain_per_label\": 100,\n",
    "        \"pickle_path\": os.path.join(get_datasets_base_path(), \"oracle.Run1_framed_2000Examples_stratified_ds.2022A.pkl\"),\n",
    "        \"source_or_target_dataset\": \"source\",\n",
    "        \"x_transforms\": [\"unit_mag\", \"minus_two\"],\n",
    "        \"episode_transforms\": [],\n",
    "        \"domain_prefix\": \"ORACLE_\"\n",
    "    },\n",
    "    {\n",
    "        \"labels\": ALL_NODES,\n",
    "        \"domains\": ALL_DAYS,\n",
    "        \"num_examples_per_domain_per_label\": 100,\n",
    "        \"pickle_path\": os.path.join(get_datasets_base_path(), \"cores.stratified_ds.2022A.pkl\"),\n",
    "        \"source_or_target_dataset\": \"target\",\n",
    "        \"x_transforms\": [\"unit_power\", \"times_zero\"],\n",
    "        \"episode_transforms\": [],\n",
    "        \"domain_prefix\": \"CORES_\"\n",
    "    }   \n",
    "]\n",
    "\n",
    "standalone_parameters[\"torch_default_dtype\"] = \"torch.float32\" \n",
    "\n",
    "\n",
    "\n",
    "standalone_parameters[\"x_net\"] =     [\n",
    "    {\"class\": \"nnReshape\", \"kargs\": {\"shape\":[-1, 1, 2, 256]}},\n",
    "    {\"class\": \"Conv2d\", \"kargs\": { \"in_channels\":1, \"out_channels\":256, \"kernel_size\":(1,7), \"bias\":False, \"padding\":(0,3), },},\n",
    "    {\"class\": \"ReLU\", \"kargs\": {\"inplace\": True}},\n",
    "    {\"class\": \"BatchNorm2d\", \"kargs\": {\"num_features\":256}},\n",
    "\n",
    "    {\"class\": \"Conv2d\", \"kargs\": { \"in_channels\":256, \"out_channels\":80, \"kernel_size\":(2,7), \"bias\":True, \"padding\":(0,3), },},\n",
    "    {\"class\": \"ReLU\", \"kargs\": {\"inplace\": True}},\n",
    "    {\"class\": \"BatchNorm2d\", \"kargs\": {\"num_features\":80}},\n",
    "    {\"class\": \"Flatten\", \"kargs\": {}},\n",
    "\n",
    "    {\"class\": \"Linear\", \"kargs\": {\"in_features\": 80*256, \"out_features\": 256}}, # 80 units per IQ pair\n",
    "    {\"class\": \"ReLU\", \"kargs\": {\"inplace\": True}},\n",
    "    {\"class\": \"BatchNorm1d\", \"kargs\": {\"num_features\":256}},\n",
    "\n",
    "    {\"class\": \"Linear\", \"kargs\": {\"in_features\": 256, \"out_features\": 256}},\n",
    "]\n",
    "\n",
    "# Parameters relevant to results\n",
    "# These parameters will basically never need to change\n",
    "standalone_parameters[\"NUM_LOGS_PER_EPOCH\"] = 10\n",
    "standalone_parameters[\"BEST_MODEL_PATH\"] = \"./best_model.pth\"\n",
    "\n",
    "\n",
    "\n",
    "\n"
   ]
  },
  {
   "cell_type": "code",
   "execution_count": 4,
   "id": "789e6eb2",
   "metadata": {
    "execution": {
     "iopub.execute_input": "2022-03-19T21:02:54.350034Z",
     "iopub.status.busy": "2022-03-19T21:02:54.349462Z",
     "iopub.status.idle": "2022-03-19T21:02:54.362012Z",
     "shell.execute_reply": "2022-03-19T21:02:54.361567Z"
    },
    "papermill": {
     "duration": 0.040373,
     "end_time": "2022-03-19T21:02:54.362103",
     "exception": false,
     "start_time": "2022-03-19T21:02:54.321730",
     "status": "completed"
    },
    "tags": [
     "injected-parameters"
    ]
   },
   "outputs": [],
   "source": [
    "# Parameters\n",
    "parameters = {\n",
    "    \"experiment_name\": \"tl_2v2:oracle.run1.framed -> cores+wisig\",\n",
    "    \"device\": \"cuda\",\n",
    "    \"lr\": 0.0001,\n",
    "    \"n_shot\": 3,\n",
    "    \"n_query\": 2,\n",
    "    \"train_k_factor\": 3,\n",
    "    \"val_k_factor\": 2,\n",
    "    \"test_k_factor\": 2,\n",
    "    \"torch_default_dtype\": \"torch.float32\",\n",
    "    \"n_epoch\": 50,\n",
    "    \"patience\": 3,\n",
    "    \"criteria_for_best\": \"target_accuracy\",\n",
    "    \"x_net\": [\n",
    "        {\"class\": \"nnReshape\", \"kargs\": {\"shape\": [-1, 1, 2, 256]}},\n",
    "        {\n",
    "            \"class\": \"Conv2d\",\n",
    "            \"kargs\": {\n",
    "                \"in_channels\": 1,\n",
    "                \"out_channels\": 256,\n",
    "                \"kernel_size\": [1, 7],\n",
    "                \"bias\": False,\n",
    "                \"padding\": [0, 3],\n",
    "            },\n",
    "        },\n",
    "        {\"class\": \"ReLU\", \"kargs\": {\"inplace\": True}},\n",
    "        {\"class\": \"BatchNorm2d\", \"kargs\": {\"num_features\": 256}},\n",
    "        {\n",
    "            \"class\": \"Conv2d\",\n",
    "            \"kargs\": {\n",
    "                \"in_channels\": 256,\n",
    "                \"out_channels\": 80,\n",
    "                \"kernel_size\": [2, 7],\n",
    "                \"bias\": True,\n",
    "                \"padding\": [0, 3],\n",
    "            },\n",
    "        },\n",
    "        {\"class\": \"ReLU\", \"kargs\": {\"inplace\": True}},\n",
    "        {\"class\": \"BatchNorm2d\", \"kargs\": {\"num_features\": 80}},\n",
    "        {\"class\": \"Flatten\", \"kargs\": {}},\n",
    "        {\"class\": \"Linear\", \"kargs\": {\"in_features\": 20480, \"out_features\": 256}},\n",
    "        {\"class\": \"ReLU\", \"kargs\": {\"inplace\": True}},\n",
    "        {\"class\": \"BatchNorm1d\", \"kargs\": {\"num_features\": 256}},\n",
    "        {\"class\": \"Linear\", \"kargs\": {\"in_features\": 256, \"out_features\": 256}},\n",
    "    ],\n",
    "    \"NUM_LOGS_PER_EPOCH\": 10,\n",
    "    \"BEST_MODEL_PATH\": \"./best_model.pth\",\n",
    "    \"n_way\": 16,\n",
    "    \"datasets\": [\n",
    "        {\n",
    "            \"labels\": [\n",
    "                \"1-10.\",\n",
    "                \"1-11.\",\n",
    "                \"1-15.\",\n",
    "                \"1-16.\",\n",
    "                \"1-17.\",\n",
    "                \"1-18.\",\n",
    "                \"1-19.\",\n",
    "                \"10-4.\",\n",
    "                \"10-7.\",\n",
    "                \"11-1.\",\n",
    "                \"11-14.\",\n",
    "                \"11-17.\",\n",
    "                \"11-20.\",\n",
    "                \"11-7.\",\n",
    "                \"13-20.\",\n",
    "                \"13-8.\",\n",
    "                \"14-10.\",\n",
    "                \"14-11.\",\n",
    "                \"14-14.\",\n",
    "                \"14-7.\",\n",
    "                \"15-1.\",\n",
    "                \"15-20.\",\n",
    "                \"16-1.\",\n",
    "                \"16-16.\",\n",
    "                \"17-10.\",\n",
    "                \"17-11.\",\n",
    "                \"17-2.\",\n",
    "                \"19-1.\",\n",
    "                \"19-16.\",\n",
    "                \"19-19.\",\n",
    "                \"19-20.\",\n",
    "                \"19-3.\",\n",
    "                \"2-10.\",\n",
    "                \"2-11.\",\n",
    "                \"2-17.\",\n",
    "                \"2-18.\",\n",
    "                \"2-20.\",\n",
    "                \"2-3.\",\n",
    "                \"2-4.\",\n",
    "                \"2-5.\",\n",
    "                \"2-6.\",\n",
    "                \"2-7.\",\n",
    "                \"2-8.\",\n",
    "                \"3-13.\",\n",
    "                \"3-18.\",\n",
    "                \"3-3.\",\n",
    "                \"4-1.\",\n",
    "                \"4-10.\",\n",
    "                \"4-11.\",\n",
    "                \"4-19.\",\n",
    "                \"5-5.\",\n",
    "                \"6-15.\",\n",
    "                \"7-10.\",\n",
    "                \"7-14.\",\n",
    "                \"8-18.\",\n",
    "                \"8-20.\",\n",
    "                \"8-3.\",\n",
    "                \"8-8.\",\n",
    "            ],\n",
    "            \"domains\": [1, 2, 3, 4, 5],\n",
    "            \"num_examples_per_domain_per_label\": -1,\n",
    "            \"pickle_path\": \"/mnt/wd500GB/CSC500/csc500-main/datasets/cores.stratified_ds.2022A.pkl\",\n",
    "            \"source_or_target_dataset\": \"target\",\n",
    "            \"x_transforms\": [\"unit_mag\"],\n",
    "            \"episode_transforms\": [],\n",
    "            \"domain_prefix\": \"C_\",\n",
    "        },\n",
    "        {\n",
    "            \"labels\": [\n",
    "                \"1-10\",\n",
    "                \"1-12\",\n",
    "                \"1-14\",\n",
    "                \"1-16\",\n",
    "                \"1-18\",\n",
    "                \"1-19\",\n",
    "                \"1-8\",\n",
    "                \"10-11\",\n",
    "                \"10-17\",\n",
    "                \"10-4\",\n",
    "                \"10-7\",\n",
    "                \"11-1\",\n",
    "                \"11-10\",\n",
    "                \"11-19\",\n",
    "                \"11-20\",\n",
    "                \"11-4\",\n",
    "                \"11-7\",\n",
    "                \"12-19\",\n",
    "                \"12-20\",\n",
    "                \"12-7\",\n",
    "                \"13-14\",\n",
    "                \"13-18\",\n",
    "                \"13-19\",\n",
    "                \"13-20\",\n",
    "                \"13-3\",\n",
    "                \"13-7\",\n",
    "                \"14-10\",\n",
    "                \"14-11\",\n",
    "                \"14-12\",\n",
    "                \"14-13\",\n",
    "                \"14-14\",\n",
    "                \"14-19\",\n",
    "                \"14-20\",\n",
    "                \"14-7\",\n",
    "                \"14-8\",\n",
    "                \"14-9\",\n",
    "                \"15-1\",\n",
    "                \"15-19\",\n",
    "                \"15-6\",\n",
    "                \"16-1\",\n",
    "                \"16-16\",\n",
    "                \"16-19\",\n",
    "                \"16-20\",\n",
    "                \"17-10\",\n",
    "                \"17-11\",\n",
    "                \"18-1\",\n",
    "                \"18-10\",\n",
    "                \"18-11\",\n",
    "                \"18-12\",\n",
    "                \"18-13\",\n",
    "                \"18-14\",\n",
    "                \"18-15\",\n",
    "                \"18-16\",\n",
    "                \"18-17\",\n",
    "                \"18-19\",\n",
    "                \"18-2\",\n",
    "                \"18-20\",\n",
    "                \"18-4\",\n",
    "                \"18-5\",\n",
    "                \"18-7\",\n",
    "                \"18-8\",\n",
    "                \"18-9\",\n",
    "                \"19-1\",\n",
    "                \"19-10\",\n",
    "                \"19-11\",\n",
    "                \"19-12\",\n",
    "                \"19-13\",\n",
    "                \"19-14\",\n",
    "                \"19-15\",\n",
    "                \"19-19\",\n",
    "                \"19-2\",\n",
    "                \"19-20\",\n",
    "                \"19-3\",\n",
    "                \"19-4\",\n",
    "                \"19-6\",\n",
    "                \"19-7\",\n",
    "                \"19-8\",\n",
    "                \"19-9\",\n",
    "                \"2-1\",\n",
    "                \"2-13\",\n",
    "                \"2-15\",\n",
    "                \"2-3\",\n",
    "                \"2-4\",\n",
    "                \"2-5\",\n",
    "                \"2-6\",\n",
    "                \"2-7\",\n",
    "                \"2-8\",\n",
    "                \"20-1\",\n",
    "                \"20-12\",\n",
    "                \"20-14\",\n",
    "                \"20-15\",\n",
    "                \"20-16\",\n",
    "                \"20-18\",\n",
    "                \"20-19\",\n",
    "                \"20-20\",\n",
    "                \"20-3\",\n",
    "                \"20-4\",\n",
    "                \"20-5\",\n",
    "                \"20-7\",\n",
    "                \"20-8\",\n",
    "                \"3-1\",\n",
    "                \"3-13\",\n",
    "                \"3-18\",\n",
    "                \"3-2\",\n",
    "                \"3-8\",\n",
    "                \"4-1\",\n",
    "                \"4-10\",\n",
    "                \"4-11\",\n",
    "                \"5-1\",\n",
    "                \"5-5\",\n",
    "                \"6-1\",\n",
    "                \"6-15\",\n",
    "                \"6-6\",\n",
    "                \"7-10\",\n",
    "                \"7-11\",\n",
    "                \"7-12\",\n",
    "                \"7-13\",\n",
    "                \"7-14\",\n",
    "                \"7-7\",\n",
    "                \"7-8\",\n",
    "                \"7-9\",\n",
    "                \"8-1\",\n",
    "                \"8-13\",\n",
    "                \"8-14\",\n",
    "                \"8-18\",\n",
    "                \"8-20\",\n",
    "                \"8-3\",\n",
    "                \"8-8\",\n",
    "                \"9-1\",\n",
    "                \"9-7\",\n",
    "            ],\n",
    "            \"domains\": [1, 2, 3, 4],\n",
    "            \"num_examples_per_domain_per_label\": -1,\n",
    "            \"pickle_path\": \"/mnt/wd500GB/CSC500/csc500-main/datasets/wisig.node3-19.stratified_ds.2022A.pkl\",\n",
    "            \"source_or_target_dataset\": \"target\",\n",
    "            \"x_transforms\": [\"unit_mag\"],\n",
    "            \"episode_transforms\": [],\n",
    "            \"domain_prefix\": \"W_\",\n",
    "        },\n",
    "        {\n",
    "            \"labels\": [\n",
    "                \"3123D52\",\n",
    "                \"3123D65\",\n",
    "                \"3123D79\",\n",
    "                \"3123D80\",\n",
    "                \"3123D54\",\n",
    "                \"3123D70\",\n",
    "                \"3123D7B\",\n",
    "                \"3123D89\",\n",
    "                \"3123D58\",\n",
    "                \"3123D76\",\n",
    "                \"3123D7D\",\n",
    "                \"3123EFE\",\n",
    "                \"3123D64\",\n",
    "                \"3123D78\",\n",
    "                \"3123D7E\",\n",
    "                \"3124E4A\",\n",
    "            ],\n",
    "            \"domains\": [32, 38, 8, 44, 14, 50, 20, 26],\n",
    "            \"num_examples_per_domain_per_label\": 2000,\n",
    "            \"pickle_path\": \"/mnt/wd500GB/CSC500/csc500-main/datasets/oracle.Run1_framed_2000Examples_stratified_ds.2022A.pkl\",\n",
    "            \"source_or_target_dataset\": \"source\",\n",
    "            \"x_transforms\": [\"unit_mag\"],\n",
    "            \"episode_transforms\": [],\n",
    "            \"domain_prefix\": \"O_\",\n",
    "        },\n",
    "    ],\n",
    "    \"seed\": 420,\n",
    "    \"dataset_seed\": 420,\n",
    "}\n"
   ]
  },
  {
   "cell_type": "code",
   "execution_count": 5,
   "id": "8fa1cc33",
   "metadata": {
    "execution": {
     "iopub.execute_input": "2022-03-19T21:02:54.405138Z",
     "iopub.status.busy": "2022-03-19T21:02:54.404615Z",
     "iopub.status.idle": "2022-03-19T21:02:54.411593Z",
     "shell.execute_reply": "2022-03-19T21:02:54.411866Z"
    },
    "papermill": {
     "duration": 0.032381,
     "end_time": "2022-03-19T21:02:54.411950",
     "exception": false,
     "start_time": "2022-03-19T21:02:54.379569",
     "status": "completed"
    },
    "tags": []
   },
   "outputs": [],
   "source": [
    "# Set this to True if you want to run this template directly\n",
    "STANDALONE = False\n",
    "if STANDALONE:\n",
    "    print(\"parameters not injected, running with standalone_parameters\")\n",
    "    parameters = standalone_parameters\n",
    "\n",
    "if not 'parameters' in locals() and not 'parameters' in globals():\n",
    "    raise Exception(\"Parameter injection failed\")\n",
    "\n",
    "#Use an easy dict for all the parameters\n",
    "p = EasyDict(parameters)\n",
    "\n",
    "if \"x_shape\" not in p:\n",
    "    p.x_shape = [2,256] # Default to this if we dont supply x_shape\n",
    "\n",
    "\n",
    "supplied_keys = set(p.keys())\n",
    "\n",
    "if  supplied_keys != required_parameters:\n",
    "    print(\"Parameters are incorrect\")\n",
    "    if len(supplied_keys - required_parameters)>0: print(\"Shouldn't have:\", str(supplied_keys - required_parameters))\n",
    "    if len(required_parameters - supplied_keys)>0: print(\"Need to have:\", str(required_parameters - supplied_keys))\n",
    "    raise RuntimeError(\"Parameters are incorrect\")"
   ]
  },
  {
   "cell_type": "code",
   "execution_count": 6,
   "id": "3a028d58",
   "metadata": {
    "execution": {
     "iopub.execute_input": "2022-03-19T21:02:54.452882Z",
     "iopub.status.busy": "2022-03-19T21:02:54.443689Z",
     "iopub.status.idle": "2022-03-19T21:02:54.459387Z",
     "shell.execute_reply": "2022-03-19T21:02:54.459785Z"
    },
    "papermill": {
     "duration": 0.031129,
     "end_time": "2022-03-19T21:02:54.459906",
     "exception": false,
     "start_time": "2022-03-19T21:02:54.428777",
     "status": "completed"
    },
    "tags": []
   },
   "outputs": [],
   "source": [
    "###################################\n",
    "# Set the RNGs and make it all deterministic\n",
    "###################################\n",
    "np.random.seed(p.seed)\n",
    "random.seed(p.seed)\n",
    "torch.manual_seed(p.seed)\n",
    "\n",
    "torch.use_deterministic_algorithms(True) "
   ]
  },
  {
   "cell_type": "code",
   "execution_count": 7,
   "id": "b691acf6",
   "metadata": {
    "execution": {
     "iopub.execute_input": "2022-03-19T21:02:54.495571Z",
     "iopub.status.busy": "2022-03-19T21:02:54.493818Z",
     "iopub.status.idle": "2022-03-19T21:02:54.509528Z",
     "shell.execute_reply": "2022-03-19T21:02:54.509093Z"
    },
    "papermill": {
     "duration": 0.030595,
     "end_time": "2022-03-19T21:02:54.509635",
     "exception": false,
     "start_time": "2022-03-19T21:02:54.479040",
     "status": "completed"
    },
    "tags": []
   },
   "outputs": [],
   "source": [
    "###########################################\n",
    "# The stratified datasets honor this\n",
    "###########################################\n",
    "torch.set_default_dtype(eval(p.torch_default_dtype))"
   ]
  },
  {
   "cell_type": "code",
   "execution_count": 8,
   "id": "b5fba671",
   "metadata": {
    "execution": {
     "iopub.execute_input": "2022-03-19T21:02:54.544438Z",
     "iopub.status.busy": "2022-03-19T21:02:54.544195Z",
     "iopub.status.idle": "2022-03-19T21:02:54.581402Z",
     "shell.execute_reply": "2022-03-19T21:02:54.581019Z"
    },
    "papermill": {
     "duration": 0.052536,
     "end_time": "2022-03-19T21:02:54.581490",
     "exception": false,
     "start_time": "2022-03-19T21:02:54.528954",
     "status": "completed"
    },
    "tags": []
   },
   "outputs": [],
   "source": [
    "###################################\n",
    "# Build the network(s)\n",
    "# Note: It's critical to do this AFTER setting the RNG\n",
    "###################################\n",
    "x_net = build_sequential(p.x_net)"
   ]
  },
  {
   "cell_type": "code",
   "execution_count": 9,
   "id": "5d7e61cc",
   "metadata": {
    "execution": {
     "iopub.execute_input": "2022-03-19T21:02:54.615938Z",
     "iopub.status.busy": "2022-03-19T21:02:54.615696Z",
     "iopub.status.idle": "2022-03-19T21:02:54.630252Z",
     "shell.execute_reply": "2022-03-19T21:02:54.629810Z"
    },
    "papermill": {
     "duration": 0.030673,
     "end_time": "2022-03-19T21:02:54.630341",
     "exception": false,
     "start_time": "2022-03-19T21:02:54.599668",
     "status": "completed"
    },
    "tags": []
   },
   "outputs": [],
   "source": [
    "start_time_secs = time.time()"
   ]
  },
  {
   "cell_type": "code",
   "execution_count": 10,
   "id": "c6b67dfd",
   "metadata": {
    "execution": {
     "iopub.execute_input": "2022-03-19T21:02:54.663956Z",
     "iopub.status.busy": "2022-03-19T21:02:54.663713Z",
     "iopub.status.idle": "2022-03-19T21:02:54.675812Z",
     "shell.execute_reply": "2022-03-19T21:02:54.675427Z"
    },
    "papermill": {
     "duration": 0.027496,
     "end_time": "2022-03-19T21:02:54.675901",
     "exception": false,
     "start_time": "2022-03-19T21:02:54.648405",
     "status": "completed"
    },
    "tags": []
   },
   "outputs": [],
   "source": [
    "p.domains_source = []\n",
    "p.domains_target = []\n",
    "\n",
    "\n",
    "train_original_source = []\n",
    "val_original_source   = []\n",
    "test_original_source  = []\n",
    "\n",
    "train_original_target = []\n",
    "val_original_target   = []\n",
    "test_original_target  = []"
   ]
  },
  {
   "cell_type": "code",
   "execution_count": 11,
   "id": "e3d9c3d3",
   "metadata": {
    "execution": {
     "iopub.execute_input": "2022-03-19T21:02:54.707201Z",
     "iopub.status.busy": "2022-03-19T21:02:54.706957Z",
     "iopub.status.idle": "2022-03-19T21:02:54.721509Z",
     "shell.execute_reply": "2022-03-19T21:02:54.721124Z"
    },
    "papermill": {
     "duration": 0.030039,
     "end_time": "2022-03-19T21:02:54.721597",
     "exception": false,
     "start_time": "2022-03-19T21:02:54.691558",
     "status": "completed"
    },
    "tags": []
   },
   "outputs": [],
   "source": [
    "# global_x_transform_func = lambda x: normalize(x.to(torch.get_default_dtype()), \"unit_power\") # unit_power, unit_mag\n",
    "# global_x_transform_func = lambda x: normalize(x, \"unit_power\") # unit_power, unit_mag"
   ]
  },
  {
   "cell_type": "code",
   "execution_count": 12,
   "id": "acb78fd2",
   "metadata": {
    "execution": {
     "iopub.execute_input": "2022-03-19T21:02:54.760860Z",
     "iopub.status.busy": "2022-03-19T21:02:54.760498Z",
     "iopub.status.idle": "2022-03-19T21:02:54.772847Z",
     "shell.execute_reply": "2022-03-19T21:02:54.773193Z"
    },
    "papermill": {
     "duration": 0.033222,
     "end_time": "2022-03-19T21:02:54.773300",
     "exception": false,
     "start_time": "2022-03-19T21:02:54.740078",
     "status": "completed"
    },
    "tags": []
   },
   "outputs": [],
   "source": [
    "def add_dataset(\n",
    "    labels,\n",
    "    domains,\n",
    "    pickle_path,\n",
    "    x_transforms,\n",
    "    episode_transforms,\n",
    "    domain_prefix,\n",
    "    num_examples_per_domain_per_label,\n",
    "    source_or_target_dataset:str,\n",
    "    iterator_seed=p.seed,\n",
    "    dataset_seed=p.dataset_seed,\n",
    "    n_shot=p.n_shot,\n",
    "    n_way=p.n_way,\n",
    "    n_query=p.n_query,\n",
    "    train_val_test_k_factors=(p.train_k_factor,p.val_k_factor,p.test_k_factor),\n",
    "):\n",
    "   \n",
    "    if x_transforms == []: x_transform = None\n",
    "    else: x_transform = get_chained_transform(x_transforms)\n",
    "    \n",
    "    if episode_transforms == []: episode_transform = None\n",
    "    else: raise Exception(\"episode_transforms not implemented\")\n",
    "    \n",
    "    episode_transform = lambda tup, _prefix=domain_prefix: (_prefix + str(tup[0]), tup[1])\n",
    "\n",
    "\n",
    "    eaf = Episodic_Accessor_Factory(\n",
    "        labels=labels,\n",
    "        domains=domains,\n",
    "        num_examples_per_domain_per_label=num_examples_per_domain_per_label,\n",
    "        iterator_seed=iterator_seed,\n",
    "        dataset_seed=dataset_seed,\n",
    "        n_shot=n_shot,\n",
    "        n_way=n_way,\n",
    "        n_query=n_query,\n",
    "        train_val_test_k_factors=train_val_test_k_factors,\n",
    "        pickle_path=pickle_path,\n",
    "        x_transform_func=x_transform,\n",
    "    )\n",
    "\n",
    "    train, val, test = eaf.get_train(), eaf.get_val(), eaf.get_test()\n",
    "    train = Lazy_Iterable_Wrapper(train, episode_transform)\n",
    "    val = Lazy_Iterable_Wrapper(val, episode_transform)\n",
    "    test = Lazy_Iterable_Wrapper(test, episode_transform)\n",
    "\n",
    "    if source_or_target_dataset==\"source\":\n",
    "        train_original_source.append(train)\n",
    "        val_original_source.append(val)\n",
    "        test_original_source.append(test)\n",
    "\n",
    "        p.domains_source.extend(\n",
    "            [domain_prefix + str(u) for u in domains]\n",
    "        )\n",
    "    elif source_or_target_dataset==\"target\":\n",
    "        train_original_target.append(train)\n",
    "        val_original_target.append(val)\n",
    "        test_original_target.append(test)\n",
    "        p.domains_target.extend(\n",
    "            [domain_prefix + str(u) for u in domains]\n",
    "        )\n",
    "    else:\n",
    "        raise Exception(f\"invalid source_or_target_dataset: {source_or_target_dataset}\")\n",
    "    "
   ]
  },
  {
   "cell_type": "code",
   "execution_count": 13,
   "id": "fe266617",
   "metadata": {
    "execution": {
     "iopub.execute_input": "2022-03-19T21:02:54.807987Z",
     "iopub.status.busy": "2022-03-19T21:02:54.807747Z",
     "iopub.status.idle": "2022-03-19T21:03:42.037044Z",
     "shell.execute_reply": "2022-03-19T21:03:42.036566Z"
    },
    "papermill": {
     "duration": 47.245079,
     "end_time": "2022-03-19T21:03:42.037148",
     "exception": false,
     "start_time": "2022-03-19T21:02:54.792069",
     "status": "completed"
    },
    "tags": []
   },
   "outputs": [],
   "source": [
    "for ds in p.datasets:\n",
    "    add_dataset(**ds)"
   ]
  },
  {
   "cell_type": "code",
   "execution_count": 14,
   "id": "b90d65ac",
   "metadata": {
    "execution": {
     "iopub.execute_input": "2022-03-19T21:03:42.073415Z",
     "iopub.status.busy": "2022-03-19T21:03:42.073167Z",
     "iopub.status.idle": "2022-03-19T21:03:42.089317Z",
     "shell.execute_reply": "2022-03-19T21:03:42.089687Z"
    },
    "papermill": {
     "duration": 0.032163,
     "end_time": "2022-03-19T21:03:42.089793",
     "exception": false,
     "start_time": "2022-03-19T21:03:42.057630",
     "status": "completed"
    },
    "tags": []
   },
   "outputs": [],
   "source": [
    "# from steves_utils.CORES.utils import (\n",
    "#     ALL_NODES,\n",
    "#     ALL_NODES_MINIMUM_1000_EXAMPLES,\n",
    "#     ALL_DAYS\n",
    "# )\n",
    "\n",
    "# add_dataset(\n",
    "#     labels=ALL_NODES,\n",
    "#     domains = ALL_DAYS,\n",
    "#     num_examples_per_domain_per_label=100,\n",
    "#     pickle_path=os.path.join(get_datasets_base_path(), \"cores.stratified_ds.2022A.pkl\"),\n",
    "#     source_or_target_dataset=\"target\",\n",
    "#     x_transform_func=global_x_transform_func,\n",
    "#     domain_modifier=lambda u: f\"cores_{u}\"\n",
    "# )"
   ]
  },
  {
   "cell_type": "code",
   "execution_count": 15,
   "id": "76db484d",
   "metadata": {
    "execution": {
     "iopub.execute_input": "2022-03-19T21:03:42.123475Z",
     "iopub.status.busy": "2022-03-19T21:03:42.123210Z",
     "iopub.status.idle": "2022-03-19T21:03:42.138830Z",
     "shell.execute_reply": "2022-03-19T21:03:42.138450Z"
    },
    "papermill": {
     "duration": 0.031357,
     "end_time": "2022-03-19T21:03:42.138921",
     "exception": false,
     "start_time": "2022-03-19T21:03:42.107564",
     "status": "completed"
    },
    "tags": []
   },
   "outputs": [],
   "source": [
    "# from steves_utils.ORACLE.utils_v2 import (\n",
    "#     ALL_DISTANCES_FEET,\n",
    "#     ALL_RUNS,\n",
    "#     ALL_SERIAL_NUMBERS,\n",
    "# )\n",
    "\n",
    "\n",
    "# add_dataset(\n",
    "#     labels=ALL_SERIAL_NUMBERS,\n",
    "#     domains = list(set(ALL_DISTANCES_FEET) - {2,62}),\n",
    "#     num_examples_per_domain_per_label=100,\n",
    "#     pickle_path=os.path.join(get_datasets_base_path(), \"oracle.Run2_framed_2000Examples_stratified_ds.2022A.pkl\"),\n",
    "#     source_or_target_dataset=\"source\",\n",
    "#     x_transform_func=global_x_transform_func,\n",
    "#     domain_modifier=lambda u: f\"oracle1_{u}\"\n",
    "# )\n"
   ]
  },
  {
   "cell_type": "code",
   "execution_count": 16,
   "id": "97dea9d2",
   "metadata": {
    "execution": {
     "iopub.execute_input": "2022-03-19T21:03:42.172121Z",
     "iopub.status.busy": "2022-03-19T21:03:42.171796Z",
     "iopub.status.idle": "2022-03-19T21:03:42.185799Z",
     "shell.execute_reply": "2022-03-19T21:03:42.186159Z"
    },
    "papermill": {
     "duration": 0.029662,
     "end_time": "2022-03-19T21:03:42.186261",
     "exception": false,
     "start_time": "2022-03-19T21:03:42.156599",
     "status": "completed"
    },
    "tags": []
   },
   "outputs": [],
   "source": [
    "# from steves_utils.ORACLE.utils_v2 import (\n",
    "#     ALL_DISTANCES_FEET,\n",
    "#     ALL_RUNS,\n",
    "#     ALL_SERIAL_NUMBERS,\n",
    "# )\n",
    "\n",
    "\n",
    "# add_dataset(\n",
    "#     labels=ALL_SERIAL_NUMBERS,\n",
    "#     domains = list(set(ALL_DISTANCES_FEET) - {2,62,56}),\n",
    "#     num_examples_per_domain_per_label=100,\n",
    "#     pickle_path=os.path.join(get_datasets_base_path(), \"oracle.Run2_framed_2000Examples_stratified_ds.2022A.pkl\"),\n",
    "#     source_or_target_dataset=\"source\",\n",
    "#     x_transform_func=global_x_transform_func,\n",
    "#     domain_modifier=lambda u: f\"oracle2_{u}\"\n",
    "# )"
   ]
  },
  {
   "cell_type": "code",
   "execution_count": 17,
   "id": "6f289866",
   "metadata": {
    "execution": {
     "iopub.execute_input": "2022-03-19T21:03:42.219672Z",
     "iopub.status.busy": "2022-03-19T21:03:42.219425Z",
     "iopub.status.idle": "2022-03-19T21:03:42.231969Z",
     "shell.execute_reply": "2022-03-19T21:03:42.232252Z"
    },
    "papermill": {
     "duration": 0.02841,
     "end_time": "2022-03-19T21:03:42.232334",
     "exception": false,
     "start_time": "2022-03-19T21:03:42.203924",
     "status": "completed"
    },
    "tags": []
   },
   "outputs": [],
   "source": [
    "# add_dataset(\n",
    "#     labels=list(range(19)),\n",
    "#     domains = [0,1,2],\n",
    "#     num_examples_per_domain_per_label=100,\n",
    "#     pickle_path=os.path.join(get_datasets_base_path(), \"metehan.stratified_ds.2022A.pkl\"),\n",
    "#     source_or_target_dataset=\"target\",\n",
    "#     x_transform_func=global_x_transform_func,\n",
    "#     domain_modifier=lambda u: f\"met_{u}\"\n",
    "# )"
   ]
  },
  {
   "cell_type": "code",
   "execution_count": 18,
   "id": "86a863c3",
   "metadata": {
    "execution": {
     "iopub.execute_input": "2022-03-19T21:03:42.266011Z",
     "iopub.status.busy": "2022-03-19T21:03:42.265767Z",
     "iopub.status.idle": "2022-03-19T21:03:42.280383Z",
     "shell.execute_reply": "2022-03-19T21:03:42.280005Z"
    },
    "papermill": {
     "duration": 0.030117,
     "end_time": "2022-03-19T21:03:42.280470",
     "exception": false,
     "start_time": "2022-03-19T21:03:42.250353",
     "status": "completed"
    },
    "tags": []
   },
   "outputs": [],
   "source": [
    "# # from steves_utils.wisig.utils import (\n",
    "# #     ALL_NODES_MINIMUM_100_EXAMPLES,\n",
    "# #     ALL_NODES_MINIMUM_500_EXAMPLES,\n",
    "# #     ALL_NODES_MINIMUM_1000_EXAMPLES,\n",
    "# #     ALL_DAYS\n",
    "# # )\n",
    "\n",
    "# import steves_utils.wisig.utils as wisig\n",
    "\n",
    "\n",
    "# add_dataset(\n",
    "#     labels=wisig.ALL_NODES_MINIMUM_100_EXAMPLES,\n",
    "#     domains = wisig.ALL_DAYS,\n",
    "#     num_examples_per_domain_per_label=100,\n",
    "#     pickle_path=os.path.join(get_datasets_base_path(), \"wisig.node3-19.stratified_ds.2022A.pkl\"),\n",
    "#     source_or_target_dataset=\"target\",\n",
    "#     x_transform_func=global_x_transform_func,\n",
    "#     domain_modifier=lambda u: f\"wisig_{u}\"\n",
    "# )"
   ]
  },
  {
   "cell_type": "code",
   "execution_count": 19,
   "id": "fd5442bc",
   "metadata": {
    "execution": {
     "iopub.execute_input": "2022-03-19T21:03:42.318442Z",
     "iopub.status.busy": "2022-03-19T21:03:42.318190Z",
     "iopub.status.idle": "2022-03-19T21:03:42.332398Z",
     "shell.execute_reply": "2022-03-19T21:03:42.332017Z"
    },
    "papermill": {
     "duration": 0.033228,
     "end_time": "2022-03-19T21:03:42.332487",
     "exception": false,
     "start_time": "2022-03-19T21:03:42.299259",
     "status": "completed"
    },
    "tags": []
   },
   "outputs": [],
   "source": [
    "###################################\n",
    "# Build the dataset\n",
    "###################################\n",
    "train_original_source = Iterable_Aggregator(train_original_source, p.seed)\n",
    "val_original_source = Iterable_Aggregator(val_original_source, p.seed)\n",
    "test_original_source = Iterable_Aggregator(test_original_source, p.seed)\n",
    "\n",
    "\n",
    "train_original_target = Iterable_Aggregator(train_original_target, p.seed)\n",
    "val_original_target = Iterable_Aggregator(val_original_target, p.seed)\n",
    "test_original_target = Iterable_Aggregator(test_original_target, p.seed)\n",
    "\n",
    "# For CNN We only use X and Y. And we only train on the source.\n",
    "# Properly form the data using a transform lambda and Lazy_Iterable_Wrapper. Finally wrap them in a dataloader\n",
    "\n",
    "transform_lambda = lambda ex: ex[1] # Original is (<domain>, <episode>) so we strip down to episode only\n",
    "\n",
    "train_processed_source = Lazy_Iterable_Wrapper(train_original_source, transform_lambda)\n",
    "val_processed_source   = Lazy_Iterable_Wrapper(val_original_source, transform_lambda)\n",
    "test_processed_source  = Lazy_Iterable_Wrapper(test_original_source, transform_lambda)\n",
    "\n",
    "train_processed_target = Lazy_Iterable_Wrapper(train_original_target, transform_lambda)\n",
    "val_processed_target   = Lazy_Iterable_Wrapper(val_original_target, transform_lambda)\n",
    "test_processed_target  = Lazy_Iterable_Wrapper(test_original_target, transform_lambda)\n",
    "\n",
    "datasets = EasyDict({\n",
    "    \"source\": {\n",
    "        \"original\": {\"train\":train_original_source, \"val\":val_original_source, \"test\":test_original_source},\n",
    "        \"processed\": {\"train\":train_processed_source, \"val\":val_processed_source, \"test\":test_processed_source}\n",
    "    },\n",
    "    \"target\": {\n",
    "        \"original\": {\"train\":train_original_target, \"val\":val_original_target, \"test\":test_original_target},\n",
    "        \"processed\": {\"train\":train_processed_target, \"val\":val_processed_target, \"test\":test_processed_target}\n",
    "    },\n",
    "})"
   ]
  },
  {
   "cell_type": "code",
   "execution_count": 20,
   "id": "5b3c01fc",
   "metadata": {
    "execution": {
     "iopub.execute_input": "2022-03-19T21:03:42.368168Z",
     "iopub.status.busy": "2022-03-19T21:03:42.367922Z",
     "iopub.status.idle": "2022-03-19T21:03:51.204252Z",
     "shell.execute_reply": "2022-03-19T21:03:51.204611Z"
    },
    "papermill": {
     "duration": 8.853446,
     "end_time": "2022-03-19T21:03:51.204720",
     "exception": false,
     "start_time": "2022-03-19T21:03:42.351274",
     "status": "completed"
    },
    "tags": []
   },
   "outputs": [
    {
     "name": "stdout",
     "output_type": "stream",
     "text": [
      "{'O_20', 'O_14', 'O_38', 'O_50', 'O_8', 'O_44', 'O_32', 'O_26'}\n"
     ]
    },
    {
     "name": "stdout",
     "output_type": "stream",
     "text": [
      "{'C_1', 'C_5', 'W_4', 'C_2', 'W_1', 'W_3', 'W_2', 'C_3', 'C_4'}\n"
     ]
    },
    {
     "name": "stdout",
     "output_type": "stream",
     "text": [
      "tensor([[[ 0.6700,  0.3303, -1.0098,  ..., -0.2831,  1.4250,  0.4907],\n",
      "         [ 0.1604,  1.2551, -0.3209,  ..., -1.0947, -0.1793, -0.7266]],\n",
      "\n",
      "        [[-0.6870,  0.5439,  0.5630,  ..., -0.5630, -1.2500, -0.7920],\n",
      "         [-0.5153, -1.0687,  0.9828,  ...,  1.0782, -0.8110,  0.2958]],\n",
      "\n",
      "        [[-0.0381,  1.1716, -0.2381,  ..., -1.1240, -0.1619, -0.7620],\n",
      "         [-0.6001, -0.1715,  1.0478,  ..., -0.0191, -1.5050, -0.5715]],\n",
      "\n",
      "        ...,\n",
      "\n",
      "        [[ 0.7217,  0.1620, -0.9721,  ..., -0.2725,  1.3845,  0.4050],\n",
      "         [ 0.1694,  1.1046, -0.4198,  ..., -1.1267, -0.1473, -0.9647]],\n",
      "\n",
      "        [[ 1.0139,  0.3104, -1.3243,  ..., -0.1104,  1.0622, -0.7725],\n",
      "         [ 0.1035,  0.8622, -0.1242,  ..., -0.9794, -0.8415, -0.9794]],\n",
      "\n",
      "        [[ 0.9075,  0.5601, -1.0351,  ..., -0.8012, -0.2127, -1.3897],\n",
      "         [-0.7303,  0.5530,  0.9642,  ..., -0.8437, -1.2478,  0.2552]]])\n"
     ]
    }
   ],
   "source": [
    "from steves_utils.transforms import get_average_magnitude, get_average_power\n",
    "\n",
    "print(set([u for u,_ in val_original_source]))\n",
    "print(set([u for u,_ in val_original_target]))\n",
    "\n",
    "s_x, s_y, q_x, q_y, _ = next(iter(train_processed_source))\n",
    "print(s_x)\n",
    "\n",
    "# for ds in [\n",
    "#     train_processed_source,\n",
    "#     val_processed_source,\n",
    "#     test_processed_source,\n",
    "#     train_processed_target,\n",
    "#     val_processed_target,\n",
    "#     test_processed_target\n",
    "# ]:\n",
    "#     for s_x, s_y, q_x, q_y, _ in ds:\n",
    "#         for X in (s_x, q_x):\n",
    "#             for x in X:\n",
    "#                 assert np.isclose(get_average_magnitude(x.numpy()), 1.0)\n",
    "#                 assert np.isclose(get_average_power(x.numpy()), 1.0)\n",
    "                "
   ]
  },
  {
   "cell_type": "code",
   "execution_count": 21,
   "id": "bbdacba1",
   "metadata": {
    "execution": {
     "iopub.execute_input": "2022-03-19T21:03:51.240238Z",
     "iopub.status.busy": "2022-03-19T21:03:51.239984Z",
     "iopub.status.idle": "2022-03-19T21:03:51.296793Z",
     "shell.execute_reply": "2022-03-19T21:03:51.296322Z"
    },
    "papermill": {
     "duration": 0.073943,
     "end_time": "2022-03-19T21:03:51.296903",
     "exception": false,
     "start_time": "2022-03-19T21:03:51.222960",
     "status": "completed"
    },
    "tags": []
   },
   "outputs": [
    {
     "name": "stdout",
     "output_type": "stream",
     "text": [
      "(2, 256)\n"
     ]
    }
   ],
   "source": [
    "###################################\n",
    "# Build the model\n",
    "###################################\n",
    "# easfsl only wants a tuple for the shape\n",
    "model = Steves_Prototypical_Network(x_net, device=p.device, x_shape=tuple(p.x_shape))\n",
    "optimizer = Adam(params=model.parameters(), lr=p.lr)"
   ]
  },
  {
   "cell_type": "code",
   "execution_count": 22,
   "id": "22b39ac5",
   "metadata": {
    "execution": {
     "iopub.execute_input": "2022-03-19T21:03:51.334383Z",
     "iopub.status.busy": "2022-03-19T21:03:51.334115Z",
     "iopub.status.idle": "2022-03-19T21:32:12.220989Z",
     "shell.execute_reply": "2022-03-19T21:32:12.220757Z"
    },
    "papermill": {
     "duration": 1700.905052,
     "end_time": "2022-03-19T21:32:12.221051",
     "exception": false,
     "start_time": "2022-03-19T21:03:51.315999",
     "status": "completed"
    },
    "tags": []
   },
   "outputs": [
    {
     "name": "stdout",
     "output_type": "stream",
     "text": [
      "epoch: 1, [batch: 1 / 6720], examples_per_second: 48.6192, train_label_loss: 3.0245, \n"
     ]
    },
    {
     "name": "stdout",
     "output_type": "stream",
     "text": [
      "epoch: 1, [batch: 672 / 6720], examples_per_second: 3226.7289, train_label_loss: 1.0294, \n"
     ]
    },
    {
     "name": "stdout",
     "output_type": "stream",
     "text": [
      "epoch: 1, [batch: 1344 / 6720], examples_per_second: 3243.2164, train_label_loss: 0.6412, \n"
     ]
    },
    {
     "name": "stdout",
     "output_type": "stream",
     "text": [
      "epoch: 1, [batch: 2016 / 6720], examples_per_second: 3223.9661, train_label_loss: 0.9777, \n"
     ]
    },
    {
     "name": "stdout",
     "output_type": "stream",
     "text": [
      "epoch: 1, [batch: 2688 / 6720], examples_per_second: 3194.1492, train_label_loss: 0.5575, \n"
     ]
    },
    {
     "name": "stdout",
     "output_type": "stream",
     "text": [
      "epoch: 1, [batch: 3360 / 6720], examples_per_second: 3220.2963, train_label_loss: 0.7838, \n"
     ]
    },
    {
     "name": "stdout",
     "output_type": "stream",
     "text": [
      "epoch: 1, [batch: 4032 / 6720], examples_per_second: 3210.7384, train_label_loss: 0.5160, \n"
     ]
    },
    {
     "name": "stdout",
     "output_type": "stream",
     "text": [
      "epoch: 1, [batch: 4704 / 6720], examples_per_second: 3200.8239, train_label_loss: 0.4670, \n"
     ]
    },
    {
     "name": "stdout",
     "output_type": "stream",
     "text": [
      "epoch: 1, [batch: 5376 / 6720], examples_per_second: 3209.7173, train_label_loss: 0.8013, \n"
     ]
    },
    {
     "name": "stdout",
     "output_type": "stream",
     "text": [
      "epoch: 1, [batch: 6048 / 6720], examples_per_second: 3220.4756, train_label_loss: 0.3742, \n"
     ]
    },
    {
     "name": "stdout",
     "output_type": "stream",
     "text": [
      "=============================================================\n",
      "epoch: 1, source_val_acc_label: 0.7695, target_val_acc_label: 0.5653, source_val_label_loss: 4.9620, target_val_label_loss: 625.7082, \n",
      "=============================================================\n"
     ]
    },
    {
     "name": "stdout",
     "output_type": "stream",
     "text": [
      "New best\n"
     ]
    },
    {
     "name": "stdout",
     "output_type": "stream",
     "text": [
      "epoch: 2, [batch: 1 / 6720], examples_per_second: 4.0444, train_label_loss: 0.5442, \n"
     ]
    },
    {
     "name": "stdout",
     "output_type": "stream",
     "text": [
      "epoch: 2, [batch: 672 / 6720], examples_per_second: 3232.1351, train_label_loss: 0.5892, \n"
     ]
    },
    {
     "name": "stdout",
     "output_type": "stream",
     "text": [
      "epoch: 2, [batch: 1344 / 6720], examples_per_second: 3228.9168, train_label_loss: 0.5401, \n"
     ]
    },
    {
     "name": "stdout",
     "output_type": "stream",
     "text": [
      "epoch: 2, [batch: 2016 / 6720], examples_per_second: 3232.6585, train_label_loss: 0.2248, \n"
     ]
    },
    {
     "name": "stdout",
     "output_type": "stream",
     "text": [
      "epoch: 2, [batch: 2688 / 6720], examples_per_second: 3237.6713, train_label_loss: 0.7414, \n"
     ]
    },
    {
     "name": "stdout",
     "output_type": "stream",
     "text": [
      "epoch: 2, [batch: 3360 / 6720], examples_per_second: 3250.6924, train_label_loss: 0.5085, \n"
     ]
    },
    {
     "name": "stdout",
     "output_type": "stream",
     "text": [
      "epoch: 2, [batch: 4032 / 6720], examples_per_second: 3240.4760, train_label_loss: 0.4083, \n"
     ]
    },
    {
     "name": "stdout",
     "output_type": "stream",
     "text": [
      "epoch: 2, [batch: 4704 / 6720], examples_per_second: 3245.3369, train_label_loss: 0.5405, \n"
     ]
    },
    {
     "name": "stdout",
     "output_type": "stream",
     "text": [
      "epoch: 2, [batch: 5376 / 6720], examples_per_second: 3251.2465, train_label_loss: 0.7652, \n"
     ]
    },
    {
     "name": "stdout",
     "output_type": "stream",
     "text": [
      "epoch: 2, [batch: 6048 / 6720], examples_per_second: 3247.2822, train_label_loss: 0.2043, \n"
     ]
    },
    {
     "name": "stdout",
     "output_type": "stream",
     "text": [
      "=============================================================\n",
      "epoch: 2, source_val_acc_label: 0.8192, target_val_acc_label: 0.6522, source_val_label_loss: 0.4998, target_val_label_loss: 312.2690, \n",
      "=============================================================\n"
     ]
    },
    {
     "name": "stdout",
     "output_type": "stream",
     "text": [
      "New best\n"
     ]
    },
    {
     "name": "stdout",
     "output_type": "stream",
     "text": [
      "epoch: 3, [batch: 1 / 6720], examples_per_second: 4.0377, train_label_loss: 0.2979, \n"
     ]
    },
    {
     "name": "stdout",
     "output_type": "stream",
     "text": [
      "epoch: 3, [batch: 672 / 6720], examples_per_second: 3218.6913, train_label_loss: 0.5674, \n"
     ]
    },
    {
     "name": "stdout",
     "output_type": "stream",
     "text": [
      "epoch: 3, [batch: 1344 / 6720], examples_per_second: 3251.3184, train_label_loss: 0.9172, \n"
     ]
    },
    {
     "name": "stdout",
     "output_type": "stream",
     "text": [
      "epoch: 3, [batch: 2016 / 6720], examples_per_second: 3248.5832, train_label_loss: 0.2735, \n"
     ]
    },
    {
     "name": "stdout",
     "output_type": "stream",
     "text": [
      "epoch: 3, [batch: 2688 / 6720], examples_per_second: 3238.1868, train_label_loss: 0.5329, \n"
     ]
    },
    {
     "name": "stdout",
     "output_type": "stream",
     "text": [
      "epoch: 3, [batch: 3360 / 6720], examples_per_second: 3237.6014, train_label_loss: 0.5468, \n"
     ]
    },
    {
     "name": "stdout",
     "output_type": "stream",
     "text": [
      "epoch: 3, [batch: 4032 / 6720], examples_per_second: 3253.4940, train_label_loss: 0.4295, \n"
     ]
    },
    {
     "name": "stdout",
     "output_type": "stream",
     "text": [
      "epoch: 3, [batch: 4704 / 6720], examples_per_second: 3234.3827, train_label_loss: 0.3389, \n"
     ]
    },
    {
     "name": "stdout",
     "output_type": "stream",
     "text": [
      "epoch: 3, [batch: 5376 / 6720], examples_per_second: 3246.8109, train_label_loss: 0.4843, \n"
     ]
    },
    {
     "name": "stdout",
     "output_type": "stream",
     "text": [
      "epoch: 3, [batch: 6048 / 6720], examples_per_second: 3267.6759, train_label_loss: 0.3125, \n"
     ]
    },
    {
     "name": "stdout",
     "output_type": "stream",
     "text": [
      "=============================================================\n",
      "epoch: 3, source_val_acc_label: 0.8520, target_val_acc_label: 0.6622, source_val_label_loss: 0.4152, target_val_label_loss: 398.4519, \n",
      "=============================================================\n"
     ]
    },
    {
     "name": "stdout",
     "output_type": "stream",
     "text": [
      "New best\n"
     ]
    },
    {
     "name": "stdout",
     "output_type": "stream",
     "text": [
      "epoch: 4, [batch: 1 / 6720], examples_per_second: 4.0331, train_label_loss: 0.3387, \n"
     ]
    },
    {
     "name": "stdout",
     "output_type": "stream",
     "text": [
      "epoch: 4, [batch: 672 / 6720], examples_per_second: 3240.3729, train_label_loss: 0.3488, \n"
     ]
    },
    {
     "name": "stdout",
     "output_type": "stream",
     "text": [
      "epoch: 4, [batch: 1344 / 6720], examples_per_second: 3238.3603, train_label_loss: 0.1902, \n"
     ]
    },
    {
     "name": "stdout",
     "output_type": "stream",
     "text": [
      "epoch: 4, [batch: 2016 / 6720], examples_per_second: 3253.7049, train_label_loss: 0.2171, \n"
     ]
    },
    {
     "name": "stdout",
     "output_type": "stream",
     "text": [
      "epoch: 4, [batch: 2688 / 6720], examples_per_second: 3244.9738, train_label_loss: 0.3891, \n"
     ]
    },
    {
     "name": "stdout",
     "output_type": "stream",
     "text": [
      "epoch: 4, [batch: 3360 / 6720], examples_per_second: 3255.1507, train_label_loss: 0.9012, \n"
     ]
    },
    {
     "name": "stdout",
     "output_type": "stream",
     "text": [
      "epoch: 4, [batch: 4032 / 6720], examples_per_second: 3249.4621, train_label_loss: 0.2321, \n"
     ]
    },
    {
     "name": "stdout",
     "output_type": "stream",
     "text": [
      "epoch: 4, [batch: 4704 / 6720], examples_per_second: 3239.5403, train_label_loss: 0.3793, \n"
     ]
    },
    {
     "name": "stdout",
     "output_type": "stream",
     "text": [
      "epoch: 4, [batch: 5376 / 6720], examples_per_second: 3265.5560, train_label_loss: 0.3656, \n"
     ]
    },
    {
     "name": "stdout",
     "output_type": "stream",
     "text": [
      "epoch: 4, [batch: 6048 / 6720], examples_per_second: 3243.7967, train_label_loss: 0.2539, \n"
     ]
    },
    {
     "name": "stdout",
     "output_type": "stream",
     "text": [
      "=============================================================\n",
      "epoch: 4, source_val_acc_label: 0.8435, target_val_acc_label: 0.6593, source_val_label_loss: 0.4295, target_val_label_loss: 451.2766, \n",
      "=============================================================\n"
     ]
    },
    {
     "name": "stdout",
     "output_type": "stream",
     "text": [
      "epoch: 5, [batch: 1 / 6720], examples_per_second: 4.0389, train_label_loss: 0.2521, \n"
     ]
    },
    {
     "name": "stdout",
     "output_type": "stream",
     "text": [
      "epoch: 5, [batch: 672 / 6720], examples_per_second: 3220.2352, train_label_loss: 0.6633, \n"
     ]
    },
    {
     "name": "stdout",
     "output_type": "stream",
     "text": [
      "epoch: 5, [batch: 1344 / 6720], examples_per_second: 3222.6211, train_label_loss: 0.3561, \n"
     ]
    },
    {
     "name": "stdout",
     "output_type": "stream",
     "text": [
      "epoch: 5, [batch: 2016 / 6720], examples_per_second: 3234.3848, train_label_loss: 0.5498, \n"
     ]
    },
    {
     "name": "stdout",
     "output_type": "stream",
     "text": [
      "epoch: 5, [batch: 2688 / 6720], examples_per_second: 3236.0506, train_label_loss: 0.4374, \n"
     ]
    },
    {
     "name": "stdout",
     "output_type": "stream",
     "text": [
      "epoch: 5, [batch: 3360 / 6720], examples_per_second: 3247.3944, train_label_loss: 0.2574, \n"
     ]
    },
    {
     "name": "stdout",
     "output_type": "stream",
     "text": [
      "epoch: 5, [batch: 4032 / 6720], examples_per_second: 3247.9879, train_label_loss: 0.3475, \n"
     ]
    },
    {
     "name": "stdout",
     "output_type": "stream",
     "text": [
      "epoch: 5, [batch: 4704 / 6720], examples_per_second: 3239.1209, train_label_loss: 0.2690, \n"
     ]
    },
    {
     "name": "stdout",
     "output_type": "stream",
     "text": [
      "epoch: 5, [batch: 5376 / 6720], examples_per_second: 3250.7594, train_label_loss: 0.2486, \n"
     ]
    },
    {
     "name": "stdout",
     "output_type": "stream",
     "text": [
      "epoch: 5, [batch: 6048 / 6720], examples_per_second: 3242.5404, train_label_loss: 0.0959, \n"
     ]
    },
    {
     "name": "stdout",
     "output_type": "stream",
     "text": [
      "=============================================================\n",
      "epoch: 5, source_val_acc_label: 0.8866, target_val_acc_label: 0.6692, source_val_label_loss: 0.3154, target_val_label_loss: 530.0051, \n",
      "=============================================================\n"
     ]
    },
    {
     "name": "stdout",
     "output_type": "stream",
     "text": [
      "New best\n"
     ]
    },
    {
     "name": "stdout",
     "output_type": "stream",
     "text": [
      "epoch: 6, [batch: 1 / 6720], examples_per_second: 4.0365, train_label_loss: 0.1221, \n"
     ]
    },
    {
     "name": "stdout",
     "output_type": "stream",
     "text": [
      "epoch: 6, [batch: 672 / 6720], examples_per_second: 3221.6285, train_label_loss: 0.1159, \n"
     ]
    },
    {
     "name": "stdout",
     "output_type": "stream",
     "text": [
      "epoch: 6, [batch: 1344 / 6720], examples_per_second: 3240.1895, train_label_loss: 0.5804, \n"
     ]
    },
    {
     "name": "stdout",
     "output_type": "stream",
     "text": [
      "epoch: 6, [batch: 2016 / 6720], examples_per_second: 3239.3671, train_label_loss: 0.6790, \n"
     ]
    },
    {
     "name": "stdout",
     "output_type": "stream",
     "text": [
      "epoch: 6, [batch: 2688 / 6720], examples_per_second: 3228.1643, train_label_loss: 0.1747, \n"
     ]
    },
    {
     "name": "stdout",
     "output_type": "stream",
     "text": [
      "epoch: 6, [batch: 3360 / 6720], examples_per_second: 3250.7684, train_label_loss: 0.1089, \n"
     ]
    },
    {
     "name": "stdout",
     "output_type": "stream",
     "text": [
      "epoch: 6, [batch: 4032 / 6720], examples_per_second: 3253.3314, train_label_loss: 0.2946, \n"
     ]
    },
    {
     "name": "stdout",
     "output_type": "stream",
     "text": [
      "epoch: 6, [batch: 4704 / 6720], examples_per_second: 3236.0405, train_label_loss: 0.3478, \n"
     ]
    },
    {
     "name": "stdout",
     "output_type": "stream",
     "text": [
      "epoch: 6, [batch: 5376 / 6720], examples_per_second: 3242.3037, train_label_loss: 0.4497, \n"
     ]
    },
    {
     "name": "stdout",
     "output_type": "stream",
     "text": [
      "epoch: 6, [batch: 6048 / 6720], examples_per_second: 3235.8974, train_label_loss: 0.5746, \n"
     ]
    },
    {
     "name": "stdout",
     "output_type": "stream",
     "text": [
      "=============================================================\n",
      "epoch: 6, source_val_acc_label: 0.8992, target_val_acc_label: 0.6610, source_val_label_loss: 0.2876, target_val_label_loss: 599.6248, \n",
      "=============================================================\n"
     ]
    },
    {
     "name": "stdout",
     "output_type": "stream",
     "text": [
      "epoch: 7, [batch: 1 / 6720], examples_per_second: 4.0537, train_label_loss: 0.1672, \n"
     ]
    },
    {
     "name": "stdout",
     "output_type": "stream",
     "text": [
      "epoch: 7, [batch: 672 / 6720], examples_per_second: 3231.2975, train_label_loss: 0.3351, \n"
     ]
    },
    {
     "name": "stdout",
     "output_type": "stream",
     "text": [
      "epoch: 7, [batch: 1344 / 6720], examples_per_second: 3232.4615, train_label_loss: 0.0543, \n"
     ]
    },
    {
     "name": "stdout",
     "output_type": "stream",
     "text": [
      "epoch: 7, [batch: 2016 / 6720], examples_per_second: 3239.0577, train_label_loss: 0.2653, \n"
     ]
    },
    {
     "name": "stdout",
     "output_type": "stream",
     "text": [
      "epoch: 7, [batch: 2688 / 6720], examples_per_second: 3238.3754, train_label_loss: 0.1925, \n"
     ]
    },
    {
     "name": "stdout",
     "output_type": "stream",
     "text": [
      "epoch: 7, [batch: 3360 / 6720], examples_per_second: 3234.5630, train_label_loss: 0.2172, \n"
     ]
    },
    {
     "name": "stdout",
     "output_type": "stream",
     "text": [
      "epoch: 7, [batch: 4032 / 6720], examples_per_second: 3239.8844, train_label_loss: 0.2780, \n"
     ]
    },
    {
     "name": "stdout",
     "output_type": "stream",
     "text": [
      "epoch: 7, [batch: 4704 / 6720], examples_per_second: 3215.4964, train_label_loss: 0.6642, \n"
     ]
    },
    {
     "name": "stdout",
     "output_type": "stream",
     "text": [
      "epoch: 7, [batch: 5376 / 6720], examples_per_second: 3238.3251, train_label_loss: 0.2055, \n"
     ]
    },
    {
     "name": "stdout",
     "output_type": "stream",
     "text": [
      "epoch: 7, [batch: 6048 / 6720], examples_per_second: 3241.7102, train_label_loss: 0.2787, \n"
     ]
    },
    {
     "name": "stdout",
     "output_type": "stream",
     "text": [
      "=============================================================\n",
      "epoch: 7, source_val_acc_label: 0.8921, target_val_acc_label: 0.6651, source_val_label_loss: 0.3002, target_val_label_loss: 675.1320, \n",
      "=============================================================\n"
     ]
    },
    {
     "name": "stdout",
     "output_type": "stream",
     "text": [
      "epoch: 8, [batch: 1 / 6720], examples_per_second: 4.0487, train_label_loss: 0.1093, \n"
     ]
    },
    {
     "name": "stdout",
     "output_type": "stream",
     "text": [
      "epoch: 8, [batch: 672 / 6720], examples_per_second: 3222.0835, train_label_loss: 0.0985, \n"
     ]
    },
    {
     "name": "stdout",
     "output_type": "stream",
     "text": [
      "epoch: 8, [batch: 1344 / 6720], examples_per_second: 3240.9081, train_label_loss: 0.0656, \n"
     ]
    },
    {
     "name": "stdout",
     "output_type": "stream",
     "text": [
      "epoch: 8, [batch: 2016 / 6720], examples_per_second: 3233.9013, train_label_loss: 0.2676, \n"
     ]
    },
    {
     "name": "stdout",
     "output_type": "stream",
     "text": [
      "epoch: 8, [batch: 2688 / 6720], examples_per_second: 3230.5540, train_label_loss: 0.1322, \n"
     ]
    },
    {
     "name": "stdout",
     "output_type": "stream",
     "text": [
      "epoch: 8, [batch: 3360 / 6720], examples_per_second: 3251.8815, train_label_loss: 0.0530, \n"
     ]
    },
    {
     "name": "stdout",
     "output_type": "stream",
     "text": [
      "epoch: 8, [batch: 4032 / 6720], examples_per_second: 3260.0827, train_label_loss: 0.0984, \n"
     ]
    },
    {
     "name": "stdout",
     "output_type": "stream",
     "text": [
      "epoch: 8, [batch: 4704 / 6720], examples_per_second: 3243.7954, train_label_loss: 0.4006, \n"
     ]
    },
    {
     "name": "stdout",
     "output_type": "stream",
     "text": [
      "epoch: 8, [batch: 5376 / 6720], examples_per_second: 3245.1475, train_label_loss: 0.0609, \n"
     ]
    },
    {
     "name": "stdout",
     "output_type": "stream",
     "text": [
      "epoch: 8, [batch: 6048 / 6720], examples_per_second: 3241.0488, train_label_loss: 0.1637, \n"
     ]
    },
    {
     "name": "stdout",
     "output_type": "stream",
     "text": [
      "=============================================================\n",
      "epoch: 8, source_val_acc_label: 0.8977, target_val_acc_label: 0.6609, source_val_label_loss: 0.2883, target_val_label_loss: 784.2842, \n",
      "=============================================================\n"
     ]
    },
    {
     "name": "stdout",
     "output_type": "stream",
     "text": [
      "epoch: 9, [batch: 1 / 6720], examples_per_second: 4.0385, train_label_loss: 0.5361, \n"
     ]
    },
    {
     "name": "stdout",
     "output_type": "stream",
     "text": [
      "epoch: 9, [batch: 672 / 6720], examples_per_second: 3225.6123, train_label_loss: 0.2549, \n"
     ]
    },
    {
     "name": "stdout",
     "output_type": "stream",
     "text": [
      "epoch: 9, [batch: 1344 / 6720], examples_per_second: 3242.9512, train_label_loss: 0.3599, \n"
     ]
    },
    {
     "name": "stdout",
     "output_type": "stream",
     "text": [
      "epoch: 9, [batch: 2016 / 6720], examples_per_second: 3247.6947, train_label_loss: 0.4015, \n"
     ]
    },
    {
     "name": "stdout",
     "output_type": "stream",
     "text": [
      "epoch: 9, [batch: 2688 / 6720], examples_per_second: 3242.6846, train_label_loss: 0.0542, \n"
     ]
    },
    {
     "name": "stdout",
     "output_type": "stream",
     "text": [
      "epoch: 9, [batch: 3360 / 6720], examples_per_second: 3255.2449, train_label_loss: 0.8262, \n"
     ]
    },
    {
     "name": "stdout",
     "output_type": "stream",
     "text": [
      "epoch: 9, [batch: 4032 / 6720], examples_per_second: 3243.0201, train_label_loss: 0.3049, \n"
     ]
    },
    {
     "name": "stdout",
     "output_type": "stream",
     "text": [
      "epoch: 9, [batch: 4704 / 6720], examples_per_second: 3236.6416, train_label_loss: 0.2142, \n"
     ]
    },
    {
     "name": "stdout",
     "output_type": "stream",
     "text": [
      "epoch: 9, [batch: 5376 / 6720], examples_per_second: 3245.6880, train_label_loss: 0.0292, \n"
     ]
    },
    {
     "name": "stdout",
     "output_type": "stream",
     "text": [
      "epoch: 9, [batch: 6048 / 6720], examples_per_second: 3261.6317, train_label_loss: 0.3002, \n"
     ]
    },
    {
     "name": "stdout",
     "output_type": "stream",
     "text": [
      "=============================================================\n",
      "epoch: 9, source_val_acc_label: 0.9033, target_val_acc_label: 0.6641, source_val_label_loss: 0.2751, target_val_label_loss: 834.4985, \n",
      "=============================================================\n"
     ]
    },
    {
     "name": "stdout",
     "output_type": "stream",
     "text": [
      "Patience (3) exhausted\n"
     ]
    }
   ],
   "source": [
    "###################################\n",
    "# train\n",
    "###################################\n",
    "jig = PTN_Train_Eval_Test_Jig(model, p.BEST_MODEL_PATH, p.device)\n",
    "\n",
    "jig.train(\n",
    "    train_iterable=datasets.source.processed.train,\n",
    "    source_val_iterable=datasets.source.processed.val,\n",
    "    target_val_iterable=datasets.target.processed.val,\n",
    "    num_epochs=p.n_epoch,\n",
    "    num_logs_per_epoch=p.NUM_LOGS_PER_EPOCH,\n",
    "    patience=p.patience,\n",
    "    optimizer=optimizer,\n",
    "    criteria_for_best=p.criteria_for_best,\n",
    ")"
   ]
  },
  {
   "cell_type": "code",
   "execution_count": 23,
   "id": "31e8fabf",
   "metadata": {
    "execution": {
     "iopub.execute_input": "2022-03-19T21:32:12.288740Z",
     "iopub.status.busy": "2022-03-19T21:32:12.288490Z",
     "iopub.status.idle": "2022-03-19T21:32:12.303357Z",
     "shell.execute_reply": "2022-03-19T21:32:12.302969Z"
    },
    "papermill": {
     "duration": 0.049575,
     "end_time": "2022-03-19T21:32:12.303434",
     "exception": false,
     "start_time": "2022-03-19T21:32:12.253859",
     "status": "completed"
    },
    "tags": []
   },
   "outputs": [],
   "source": [
    "total_experiment_time_secs = time.time() - start_time_secs"
   ]
  },
  {
   "cell_type": "code",
   "execution_count": 24,
   "id": "87b9595b",
   "metadata": {
    "execution": {
     "iopub.execute_input": "2022-03-19T21:32:12.377965Z",
     "iopub.status.busy": "2022-03-19T21:32:12.377700Z",
     "iopub.status.idle": "2022-03-19T21:34:37.424338Z",
     "shell.execute_reply": "2022-03-19T21:34:37.424760Z"
    },
    "papermill": {
     "duration": 145.083534,
     "end_time": "2022-03-19T21:34:37.424898",
     "exception": false,
     "start_time": "2022-03-19T21:32:12.341364",
     "status": "completed"
    },
    "tags": []
   },
   "outputs": [],
   "source": [
    "###################################\n",
    "# Evaluate the model\n",
    "###################################\n",
    "source_test_label_accuracy, source_test_label_loss = jig.test(datasets.source.processed.test)\n",
    "target_test_label_accuracy, target_test_label_loss = jig.test(datasets.target.processed.test)\n",
    "\n",
    "source_val_label_accuracy, source_val_label_loss = jig.test(datasets.source.processed.val)\n",
    "target_val_label_accuracy, target_val_label_loss = jig.test(datasets.target.processed.val)\n",
    "\n",
    "history = jig.get_history()\n",
    "\n",
    "total_epochs_trained = len(history[\"epoch_indices\"])\n",
    "\n",
    "val_dl = Iterable_Aggregator((datasets.source.original.val,datasets.target.original.val))\n",
    "\n",
    "confusion = ptn_confusion_by_domain_over_dataloader(model, p.device, val_dl)\n",
    "per_domain_accuracy = per_domain_accuracy_from_confusion(confusion)\n",
    "\n",
    "# Add a key to per_domain_accuracy for if it was a source domain\n",
    "for domain, accuracy in per_domain_accuracy.items():\n",
    "    per_domain_accuracy[domain] = {\n",
    "        \"accuracy\": accuracy,\n",
    "        \"source?\": domain in p.domains_source\n",
    "    }\n",
    "\n",
    "# Do an independent accuracy assesment JUST TO BE SURE!\n",
    "# _source_test_label_accuracy = independent_accuracy_assesment(model, datasets.source.processed.test, p.device)\n",
    "# _target_test_label_accuracy = independent_accuracy_assesment(model, datasets.target.processed.test, p.device)\n",
    "# _source_val_label_accuracy = independent_accuracy_assesment(model, datasets.source.processed.val, p.device)\n",
    "# _target_val_label_accuracy = independent_accuracy_assesment(model, datasets.target.processed.val, p.device)\n",
    "\n",
    "# assert(_source_test_label_accuracy == source_test_label_accuracy)\n",
    "# assert(_target_test_label_accuracy == target_test_label_accuracy)\n",
    "# assert(_source_val_label_accuracy == source_val_label_accuracy)\n",
    "# assert(_target_val_label_accuracy == target_val_label_accuracy)\n",
    "\n",
    "experiment = {\n",
    "    \"experiment_name\": p.experiment_name,\n",
    "    \"parameters\": dict(p),\n",
    "    \"results\": {\n",
    "        \"source_test_label_accuracy\": source_test_label_accuracy,\n",
    "        \"source_test_label_loss\": source_test_label_loss,\n",
    "        \"target_test_label_accuracy\": target_test_label_accuracy,\n",
    "        \"target_test_label_loss\": target_test_label_loss,\n",
    "        \"source_val_label_accuracy\": source_val_label_accuracy,\n",
    "        \"source_val_label_loss\": source_val_label_loss,\n",
    "        \"target_val_label_accuracy\": target_val_label_accuracy,\n",
    "        \"target_val_label_loss\": target_val_label_loss,\n",
    "        \"total_epochs_trained\": total_epochs_trained,\n",
    "        \"total_experiment_time_secs\": total_experiment_time_secs,\n",
    "        \"confusion\": confusion,\n",
    "        \"per_domain_accuracy\": per_domain_accuracy,\n",
    "    },\n",
    "    \"history\": history,\n",
    "    \"dataset_metrics\": get_dataset_metrics(datasets, \"ptn\"),\n",
    "}"
   ]
  },
  {
   "cell_type": "code",
   "execution_count": 25,
   "id": "54a21829",
   "metadata": {
    "execution": {
     "iopub.execute_input": "2022-03-19T21:34:37.495735Z",
     "iopub.status.busy": "2022-03-19T21:34:37.495484Z",
     "iopub.status.idle": "2022-03-19T21:34:37.619854Z",
     "shell.execute_reply": "2022-03-19T21:34:37.619526Z"
    },
    "papermill": {
     "duration": 0.158783,
     "end_time": "2022-03-19T21:34:37.619928",
     "exception": false,
     "start_time": "2022-03-19T21:34:37.461145",
     "status": "completed"
    },
    "tags": []
   },
   "outputs": [
    {
     "data": {
      "image/png": "[encoded data removed]",
      "text/plain": [
       "<Figure size 1080x504 with 1 Axes>"
      ]
     },
     "metadata": {
      "needs_background": "light"
     },
     "output_type": "display_data"
    }
   ],
   "source": [
    "ax = get_loss_curve(experiment)\n",
    "plt.show()"
   ]
  },
  {
   "cell_type": "code",
   "execution_count": 26,
   "id": "fd8a0f60",
   "metadata": {
    "execution": {
     "iopub.execute_input": "2022-03-19T21:34:37.691893Z",
     "iopub.status.busy": "2022-03-19T21:34:37.691639Z",
     "iopub.status.idle": "2022-03-19T21:34:37.835577Z",
     "shell.execute_reply": "2022-03-19T21:34:37.835788Z"
    },
    "papermill": {
     "duration": 0.179245,
     "end_time": "2022-03-19T21:34:37.835854",
     "exception": false,
     "start_time": "2022-03-19T21:34:37.656609",
     "status": "completed"
    },
    "tags": []
   },
   "outputs": [
    {
     "data": {
      "text/plain": [
       "<AxesSubplot:title={'center':'Results'}>"
      ]
     },
     "execution_count": 26,
     "metadata": {},
     "output_type": "execute_result"
    },
    {
     "data": {
      "image/png": "[encoded data removed]",
      "text/plain": [
       "<Figure size 1080x504 with 1 Axes>"
      ]
     },
     "metadata": {
      "needs_background": "light"
     },
     "output_type": "display_data"
    }
   ],
   "source": [
    "get_results_table(experiment)"
   ]
  },
  {
   "cell_type": "code",
   "execution_count": 27,
   "id": "cf8dc689",
   "metadata": {
    "execution": {
     "iopub.execute_input": "2022-03-19T21:34:37.909768Z",
     "iopub.status.busy": "2022-03-19T21:34:37.909519Z",
     "iopub.status.idle": "2022-03-19T21:34:38.063348Z",
     "shell.execute_reply": "2022-03-19T21:34:38.063723Z"
    },
    "papermill": {
     "duration": 0.191463,
     "end_time": "2022-03-19T21:34:38.063849",
     "exception": false,
     "start_time": "2022-03-19T21:34:37.872386",
     "status": "completed"
    },
    "tags": []
   },
   "outputs": [
    {
     "data": {
      "text/plain": [
       "<AxesSubplot:title={'center':'Per Domain Validation Accuracy'}, xlabel='domain'>"
      ]
     },
     "execution_count": 27,
     "metadata": {},
     "output_type": "execute_result"
    },
    {
     "data": {
      "image/png": "[encoded data removed]",
      "text/plain": [
       "<Figure size 1080x504 with 1 Axes>"
      ]
     },
     "metadata": {
      "needs_background": "light"
     },
     "output_type": "display_data"
    }
   ],
   "source": [
    "get_domain_accuracies(experiment)"
   ]
  },
  {
   "cell_type": "code",
   "execution_count": 28,
   "id": "a74ae082",
   "metadata": {
    "execution": {
     "iopub.execute_input": "2022-03-19T21:34:38.166302Z",
     "iopub.status.busy": "2022-03-19T21:34:38.166052Z",
     "iopub.status.idle": "2022-03-19T21:34:38.182425Z",
     "shell.execute_reply": "2022-03-19T21:34:38.182790Z"
    },
    "papermill": {
     "duration": 0.054656,
     "end_time": "2022-03-19T21:34:38.182901",
     "exception": false,
     "start_time": "2022-03-19T21:34:38.128245",
     "status": "completed"
    },
    "tags": []
   },
   "outputs": [
    {
     "name": "stdout",
     "output_type": "stream",
     "text": [
      "Source Test Label Accuracy: 0.8865559895833334 Target Test Label Accuracy: 0.6675047246220303\n",
      "Source Val Label Accuracy: 0.8865885416666667 Target Val Label Accuracy: 0.6692236408566722\n"
     ]
    }
   ],
   "source": [
    "print(\"Source Test Label Accuracy:\", experiment[\"results\"][\"source_test_label_accuracy\"], \"Target Test Label Accuracy:\", experiment[\"results\"][\"target_test_label_accuracy\"])\n",
    "print(\"Source Val Label Accuracy:\", experiment[\"results\"][\"source_val_label_accuracy\"], \"Target Val Label Accuracy:\", experiment[\"results\"][\"target_val_label_accuracy\"])"
   ]
  },
  {
   "cell_type": "code",
   "execution_count": 29,
   "id": "dacca602",
   "metadata": {
    "execution": {
     "iopub.execute_input": "2022-03-19T21:34:38.260376Z",
     "iopub.status.busy": "2022-03-19T21:34:38.259405Z",
     "iopub.status.idle": "2022-03-19T21:34:38.280757Z",
     "shell.execute_reply": "2022-03-19T21:34:38.281124Z"
    },
    "papermill": {
     "duration": 0.058299,
     "end_time": "2022-03-19T21:34:38.281233",
     "exception": false,
     "start_time": "2022-03-19T21:34:38.222934",
     "status": "completed"
    },
    "tags": [
     "experiment_json"
    ]
   },
   "outputs": [
    {
     "data": {
      "text/plain": [
       "'{\"experiment_name\": \"tl_2v2:oracle.run1.framed -> cores+wisig\", \"parameters\": {\"experiment_name\": \"tl_2v2:oracle.run1.framed -> cores+wisig\", \"device\": \"cuda\", \"lr\": 0.0001, \"n_shot\": 3, \"n_query\": 2, \"train_k_factor\": 3, \"val_k_factor\": 2, \"test_k_factor\": 2, \"torch_default_dtype\": \"torch.float32\", \"n_epoch\": 50, \"patience\": 3, \"criteria_for_best\": \"target_accuracy\", \"x_net\": [{\"class\": \"nnReshape\", \"kargs\": {\"shape\": [-1, 1, 2, 256]}}, {\"class\": \"Conv2d\", \"kargs\": {\"in_channels\": 1, \"out_channels\": 256, \"kernel_size\": [1, 7], \"bias\": false, \"padding\": [0, 3]}}, {\"class\": \"ReLU\", \"kargs\": {\"inplace\": true}}, {\"class\": \"BatchNorm2d\", \"kargs\": {\"num_features\": 256}}, {\"class\": \"Conv2d\", \"kargs\": {\"in_channels\": 256, \"out_channels\": 80, \"kernel_size\": [2, 7], \"bias\": true, \"padding\": [0, 3]}}, {\"class\": \"ReLU\", \"kargs\": {\"inplace\": true}}, {\"class\": \"BatchNorm2d\", \"kargs\": {\"num_features\": 80}}, {\"class\": \"Flatten\", \"kargs\": {}}, {\"class\": \"Linear\", \"kargs\": {\"in_features\": 20480, \"out_features\": 256}}, {\"class\": \"ReLU\", \"kargs\": {\"inplace\": true}}, {\"class\": \"BatchNorm1d\", \"kargs\": {\"num_features\": 256}}, {\"class\": \"Linear\", \"kargs\": {\"in_features\": 256, \"out_features\": 256}}], \"NUM_LOGS_PER_EPOCH\": 10, \"BEST_MODEL_PATH\": \"./best_model.pth\", \"n_way\": 16, \"datasets\": [{\"labels\": [\"1-10.\", \"1-11.\", \"1-15.\", \"1-16.\", \"1-17.\", \"1-18.\", \"1-19.\", \"10-4.\", \"10-7.\", \"11-1.\", \"11-14.\", \"11-17.\", \"11-20.\", \"11-7.\", \"13-20.\", \"13-8.\", \"14-10.\", \"14-11.\", \"14-14.\", \"14-7.\", \"15-1.\", \"15-20.\", \"16-1.\", \"16-16.\", \"17-10.\", \"17-11.\", \"17-2.\", \"19-1.\", \"19-16.\", \"19-19.\", \"19-20.\", \"19-3.\", \"2-10.\", \"2-11.\", \"2-17.\", \"2-18.\", \"2-20.\", \"2-3.\", \"2-4.\", \"2-5.\", \"2-6.\", \"2-7.\", \"2-8.\", \"3-13.\", \"3-18.\", \"3-3.\", \"4-1.\", \"4-10.\", \"4-11.\", \"4-19.\", \"5-5.\", \"6-15.\", \"7-10.\", \"7-14.\", \"8-18.\", \"8-20.\", \"8-3.\", \"8-8.\"], \"domains\": [1, 2, 3, 4, 5], \"num_examples_per_domain_per_label\": -1, \"pickle_path\": \"/mnt/wd500GB/CSC500/csc500-main/datasets/cores.stratified_ds.2022A.pkl\", \"source_or_target_dataset\": \"target\", \"x_transforms\": [\"unit_mag\"], \"episode_transforms\": [], \"domain_prefix\": \"C_\"}, {\"labels\": [\"1-10\", \"1-12\", \"1-14\", \"1-16\", \"1-18\", \"1-19\", \"1-8\", \"10-11\", \"10-17\", \"10-4\", \"10-7\", \"11-1\", \"11-10\", \"11-19\", \"11-20\", \"11-4\", \"11-7\", \"12-19\", \"12-20\", \"12-7\", \"13-14\", \"13-18\", \"13-19\", \"13-20\", \"13-3\", \"13-7\", \"14-10\", \"14-11\", \"14-12\", \"14-13\", \"14-14\", \"14-19\", \"14-20\", \"14-7\", \"14-8\", \"14-9\", \"15-1\", \"15-19\", \"15-6\", \"16-1\", \"16-16\", \"16-19\", \"16-20\", \"17-10\", \"17-11\", \"18-1\", \"18-10\", \"18-11\", \"18-12\", \"18-13\", \"18-14\", \"18-15\", \"18-16\", \"18-17\", \"18-19\", \"18-2\", \"18-20\", \"18-4\", \"18-5\", \"18-7\", \"18-8\", \"18-9\", \"19-1\", \"19-10\", \"19-11\", \"19-12\", \"19-13\", \"19-14\", \"19-15\", \"19-19\", \"19-2\", \"19-20\", \"19-3\", \"19-4\", \"19-6\", \"19-7\", \"19-8\", \"19-9\", \"2-1\", \"2-13\", \"2-15\", \"2-3\", \"2-4\", \"2-5\", \"2-6\", \"2-7\", \"2-8\", \"20-1\", \"20-12\", \"20-14\", \"20-15\", \"20-16\", \"20-18\", \"20-19\", \"20-20\", \"20-3\", \"20-4\", \"20-5\", \"20-7\", \"20-8\", \"3-1\", \"3-13\", \"3-18\", \"3-2\", \"3-8\", \"4-1\", \"4-10\", \"4-11\", \"5-1\", \"5-5\", \"6-1\", \"6-15\", \"6-6\", \"7-10\", \"7-11\", \"7-12\", \"7-13\", \"7-14\", \"7-7\", \"7-8\", \"7-9\", \"8-1\", \"8-13\", \"8-14\", \"8-18\", \"8-20\", \"8-3\", \"8-8\", \"9-1\", \"9-7\"], \"domains\": [1, 2, 3, 4], \"num_examples_per_domain_per_label\": -1, \"pickle_path\": \"/mnt/wd500GB/CSC500/csc500-main/datasets/wisig.node3-19.stratified_ds.2022A.pkl\", \"source_or_target_dataset\": \"target\", \"x_transforms\": [\"unit_mag\"], \"episode_transforms\": [], \"domain_prefix\": \"W_\"}, {\"labels\": [\"3123D52\", \"3123D65\", \"3123D79\", \"3123D80\", \"3123D54\", \"3123D70\", \"3123D7B\", \"3123D89\", \"3123D58\", \"3123D76\", \"3123D7D\", \"3123EFE\", \"3123D64\", \"3123D78\", \"3123D7E\", \"3124E4A\"], \"domains\": [32, 38, 8, 44, 14, 50, 20, 26], \"num_examples_per_domain_per_label\": 2000, \"pickle_path\": \"/mnt/wd500GB/CSC500/csc500-main/datasets/oracle.Run1_framed_2000Examples_stratified_ds.2022A.pkl\", \"source_or_target_dataset\": \"source\", \"x_transforms\": [\"unit_mag\"], \"episode_transforms\": [], \"domain_prefix\": \"O_\"}], \"seed\": 420, \"dataset_seed\": 420, \"x_shape\": [2, 256], \"domains_source\": [\"O_32\", \"O_38\", \"O_8\", \"O_44\", \"O_14\", \"O_50\", \"O_20\", \"O_26\"], \"domains_target\": [\"C_1\", \"C_2\", \"C_3\", \"C_4\", \"C_5\", \"W_1\", \"W_2\", \"W_3\", \"W_4\"]}, \"results\": {\"source_test_label_accuracy\": 0.8865559895833334, \"source_test_label_loss\": 0.3193569779396057, \"target_test_label_accuracy\": 0.6675047246220303, \"target_test_label_loss\": 536.5811767578125, \"source_val_label_accuracy\": 0.8865885416666667, \"source_val_label_loss\": 0.31538525223731995, \"target_val_label_accuracy\": 0.6692236408566722, \"target_val_label_loss\": 530.0050659179688, \"total_epochs_trained\": 9, \"total_experiment_time_secs\": 1757.6730828285217, \"confusion\": {\"O_14\": {\"15\": {\"15\": 240}, \"5\": {\"5\": 204, \"1\": 8, \"4\": 21, \"7\": 1, \"3\": 5, \"2\": 1}, \"7\": {\"7\": 240}, \"4\": {\"4\": 236, \"5\": 4}, \"10\": {\"10\": 240}, \"11\": {\"11\": 233, \"9\": 3, \"0\": 4}, \"12\": {\"12\": 240}, \"0\": {\"0\": 239, \"10\": 1}, \"14\": {\"14\": 221, \"2\": 14, \"13\": 4, \"6\": 1}, \"8\": {\"8\": 240}, \"13\": {\"6\": 56, \"13\": 168, \"2\": 8, \"4\": 2, \"14\": 4, \"5\": 2}, \"6\": {\"13\": 30, \"6\": 204, \"14\": 1, \"2\": 4, \"4\": 1}, \"1\": {\"1\": 236, \"5\": 4}, \"3\": {\"3\": 233, \"14\": 3, \"2\": 2, \"0\": 1, \"4\": 1}, \"9\": {\"9\": 240}, \"2\": {\"2\": 164, \"13\": 6, \"5\": 13, \"14\": 41, \"6\": 5, \"3\": 10, \"1\": 1}}, \"O_20\": {\"4\": {\"4\": 237, \"8\": 2, \"3\": 1}, \"10\": {\"10\": 240}, \"15\": {\"15\": 220, \"5\": 5, \"0\": 6, \"1\": 9}, \"0\": {\"0\": 206, \"5\": 20, \"15\": 13, \"8\": 1}, \"6\": {\"6\": 234, \"14\": 6}, \"3\": {\"3\": 197, \"9\": 17, \"2\": 2, \"1\": 2, \"12\": 21, \"7\": 1}, \"7\": {\"7\": 228, \"2\": 7, \"9\": 1, \"3\": 3, \"4\": 1}, \"2\": {\"2\": 178, \"9\": 31, \"3\": 7, \"13\": 5, \"12\": 8, \"7\": 8, \"1\": 3}, \"8\": {\"8\": 230, \"4\": 5, \"7\": 5}, \"11\": {\"11\": 240}, \"14\": {\"14\": 228, \"6\": 12}, \"12\": {\"12\": 165, \"1\": 32, \"3\": 31, \"2\": 5, \"9\": 6, \"5\": 1}, \"13\": {\"13\": 238, \"2\": 2}, \"9\": {\"9\": 194, \"2\": 27, \"3\": 17, \"12\": 2}, \"5\": {\"5\": 219, \"0\": 13, \"15\": 8}, \"1\": {\"1\": 201, \"12\": 31, \"15\": 5, \"5\": 1, \"3\": 1, \"9\": 1}}, \"O_50\": {\"5\": {\"5\": 169, \"4\": 29, \"13\": 15, \"7\": 17, \"1\": 9, \"6\": 1}, \"12\": {\"12\": 230, \"9\": 6, \"11\": 4}, \"14\": {\"14\": 240}, \"4\": {\"4\": 182, \"7\": 3, \"5\": 36, \"15\": 15, \"6\": 1, \"1\": 3}, \"13\": {\"10\": 1, \"13\": 233, \"5\": 4, \"6\": 1, \"7\": 1}, \"10\": {\"10\": 235, \"13\": 1, \"8\": 2, \"0\": 2}, \"9\": {\"9\": 230, \"11\": 5, \"12\": 5}, \"15\": {\"15\": 220, \"1\": 11, \"4\": 4, \"6\": 3, \"11\": 2}, \"6\": {\"6\": 230, \"1\": 1, \"13\": 7, \"4\": 1, \"5\": 1}, \"2\": {\"2\": 232, \"0\": 8}, \"0\": {\"0\": 214, \"2\": 15, \"10\": 10, \"13\": 1}, \"11\": {\"11\": 224, \"15\": 9, \"9\": 3, \"1\": 2, \"12\": 2}, \"3\": {\"3\": 240}, \"8\": {\"8\": 239, \"10\": 1}, \"7\": {\"7\": 217, \"13\": 6, \"6\": 9, \"5\": 6, \"8\": 1, \"10\": 1}, \"1\": {\"1\": 225, \"4\": 1, \"15\": 8, \"0\": 1, \"5\": 3, \"6\": 2}}, \"O_26\": {\"7\": {\"7\": 197, \"3\": 13, \"2\": 14, \"4\": 8, \"8\": 6, \"1\": 1, \"0\": 1}, \"6\": {\"6\": 231, \"10\": 2, \"15\": 3, \"9\": 3, \"8\": 1}, \"14\": {\"1\": 8, \"14\": 166, \"0\": 31, \"4\": 24, \"10\": 8, \"8\": 2, \"7\": 1}, \"15\": {\"15\": 192, \"8\": 13, \"13\": 4, \"7\": 1, \"6\": 4, \"9\": 22, \"14\": 1, \"2\": 2, \"10\": 1}, \"5\": {\"5\": 216, \"2\": 10, \"13\": 11, \"9\": 1, \"15\": 2}, \"10\": {\"10\": 128, \"8\": 19, \"0\": 77, \"14\": 11, \"4\": 1, \"1\": 1, \"6\": 2, \"15\": 1}, \"4\": {\"0\": 13, \"14\": 36, \"4\": 170, \"8\": 11, \"7\": 8, \"1\": 1, \"10\": 1}, \"11\": {\"11\": 240}, \"13\": {\"13\": 210, \"5\": 19, \"2\": 6, \"9\": 3, \"15\": 2}, \"2\": {\"13\": 2, \"5\": 21, \"2\": 121, \"3\": 62, \"7\": 27, \"15\": 3, \"8\": 3, \"1\": 1}, \"0\": {\"8\": 16, \"0\": 104, \"10\": 74, \"14\": 31, \"4\": 10, \"7\": 2, \"1\": 1, \"15\": 1, \"6\": 1}, \"12\": {\"12\": 240}, \"3\": {\"3\": 197, \"2\": 33, \"7\": 10}, \"9\": {\"9\": 212, \"15\": 19, \"6\": 3, \"8\": 2, \"13\": 3, \"10\": 1}, \"8\": {\"8\": 133, \"0\": 28, \"10\": 26, \"7\": 21, \"4\": 23, \"15\": 1, \"14\": 7, \"2\": 1}, \"1\": {\"1\": 223, \"14\": 9, \"4\": 6, \"3\": 1, \"7\": 1}}, \"O_32\": {\"7\": {\"7\": 185, \"2\": 2, \"4\": 6, \"5\": 38, \"13\": 4, \"14\": 4, \"11\": 1}, \"2\": {\"2\": 220, \"4\": 20}, \"5\": {\"5\": 164, \"7\": 44, \"4\": 9, \"3\": 3, \"8\": 6, \"2\": 2, \"13\": 10, \"14\": 2}, \"6\": {\"6\": 240}, \"13\": {\"13\": 205, \"4\": 15, \"7\": 3, \"5\": 10, \"3\": 6, \"8\": 1}, \"4\": {\"4\": 213, \"2\": 24, \"7\": 2, \"13\": 1}, \"3\": {\"3\": 234, \"11\": 2, \"13\": 3, \"8\": 1}, \"0\": {\"0\": 212, \"8\": 17, \"14\": 9, \"5\": 1, \"7\": 1}, \"9\": {\"9\": 238, \"12\": 2}, \"12\": {\"12\": 240}, \"8\": {\"8\": 216, \"5\": 6, \"0\": 16, \"13\": 2}, \"14\": {\"14\": 202, \"0\": 13, \"11\": 21, \"8\": 2, \"7\": 2}, \"15\": {\"15\": 240}, \"11\": {\"11\": 239, \"14\": 1}, \"10\": {\"10\": 239, \"1\": 1}, \"1\": {\"1\": 240}}, \"O_44\": {\"11\": {\"11\": 237, \"13\": 2, \"6\": 1}, \"7\": {\"7\": 176, \"9\": 41, \"2\": 18, \"6\": 5}, \"6\": {\"13\": 43, \"6\": 178, \"9\": 15, \"7\": 4}, \"12\": {\"12\": 226, \"1\": 10, \"10\": 1, \"3\": 3}, \"4\": {\"4\": 175, \"14\": 64, \"15\": 1}, \"13\": {\"13\": 199, \"6\": 26, \"9\": 13, \"7\": 1, \"11\": 1}, \"8\": {\"0\": 55, \"8\": 178, \"5\": 4, \"15\": 3}, \"5\": {\"5\": 226, \"0\": 6, \"14\": 4, \"15\": 3, \"8\": 1}, \"14\": {\"15\": 6, \"14\": 168, \"4\": 66}, \"3\": {\"3\": 232, \"1\": 6, \"12\": 2}, \"10\": {\"10\": 221, \"2\": 10, \"12\": 1, \"1\": 8}, \"1\": {\"1\": 190, \"10\": 11, \"12\": 23, \"2\": 9, \"3\": 7}, \"2\": {\"2\": 214, \"7\": 18, \"10\": 5, \"1\": 3}, \"15\": {\"15\": 195, \"14\": 15, \"0\": 16, \"8\": 7, \"4\": 4, \"5\": 3}, \"9\": {\"9\": 152, \"7\": 44, \"6\": 26, \"13\": 18}, \"0\": {\"8\": 47, \"0\": 177, \"5\": 9, \"15\": 7}}, \"O_8\": {\"10\": {\"10\": 215, \"13\": 7, \"14\": 16, \"4\": 2}, \"6\": {\"6\": 200, \"7\": 27, \"13\": 3, \"4\": 10}, \"13\": {\"13\": 128, \"0\": 44, \"10\": 33, \"4\": 27, \"6\": 3, \"14\": 4, \"7\": 1}, \"3\": {\"3\": 240}, \"9\": {\"9\": 240}, \"1\": {\"1\": 239, \"14\": 1}, \"5\": {\"5\": 233, \"10\": 4, \"1\": 2, \"14\": 1}, \"11\": {\"11\": 234, \"1\": 6}, \"4\": {\"4\": 207, \"13\": 21, \"14\": 5, \"6\": 4, \"10\": 2, \"0\": 1}, \"14\": {\"14\": 211, \"1\": 9, \"10\": 9, \"4\": 9, \"13\": 2}, \"12\": {\"12\": 193, \"8\": 5, \"15\": 35, \"3\": 7}, \"7\": {\"7\": 202, \"6\": 35, \"0\": 2, \"12\": 1}, \"0\": {\"0\": 204, \"7\": 10, \"13\": 25, \"10\": 1}, \"15\": {\"15\": 226, \"12\": 12, \"8\": 2}, \"2\": {\"3\": 2, \"2\": 232, \"6\": 1, \"7\": 5}, \"8\": {\"8\": 240}}, \"O_38\": {\"4\": {\"4\": 240}, \"7\": {\"7\": 215, \"8\": 5, \"0\": 6, \"5\": 13, \"10\": 1}, \"12\": {\"12\": 240}, \"10\": {\"10\": 219, \"8\": 2, \"0\": 3, \"13\": 13, \"15\": 1, \"7\": 2}, \"0\": {\"0\": 195, \"8\": 25, \"5\": 3, \"3\": 6, \"7\": 6, \"10\": 3, \"13\": 2}, \"1\": {\"1\": 238, \"15\": 2}, \"5\": {\"7\": 33, \"5\": 153, \"8\": 47, \"9\": 3, \"10\": 1, \"6\": 2, \"15\": 1}, \"15\": {\"15\": 219, \"1\": 7, \"5\": 4, \"8\": 8, \"13\": 2}, \"9\": {\"9\": 238, \"6\": 2}, \"11\": {\"11\": 237, \"10\": 2, \"14\": 1}, \"14\": {\"14\": 232, \"2\": 6, \"10\": 2}, \"6\": {\"6\": 239, \"9\": 1}, \"8\": {\"8\": 190, \"5\": 32, \"7\": 7, \"15\": 3, \"10\": 2, \"0\": 5, \"13\": 1}, \"3\": {\"3\": 238, \"11\": 1, \"0\": 1}, \"2\": {\"2\": 231, \"14\": 6, \"13\": 3}, \"13\": {\"13\": 224, \"10\": 8, \"0\": 4, \"2\": 2, \"15\": 2}}, \"W_3\": {\"110\": {\"22\": 1, \"110\": 41, \"129\": 1, \"78\": 1, \"1\": 9, \"42\": 1, \"70\": 5, \"114\": 8, \"88\": 4, \"108\": 4, \"16\": 1, \"71\": 1, \"109\": 1, \"107\": 1, \"3\": 1, \"60\": 1, \"128\": 1, \"11\": 2, \"122\": 3, \"10\": 1, \"4\": 2, \"39\": 1, \"90\": 1}, \"1\": {\"1\": 76, \"48\": 1, \"108\": 2, \"10\": 2, \"88\": 1, \"107\": 10, \"84\": 1, \"5\": 1, \"87\": 1, \"129\": 1, \"14\": 3, \"114\": 8, \"21\": 1}, \"2\": {\"123\": 1, \"117\": 3, \"2\": 16, \"26\": 1, \"109\": 2, \"31\": 1, \"13\": 1, \"121\": 1, \"23\": 1, \"113\": 1}, \"94\": {\"94\": 36, \"113\": 2, \"6\": 1, \"95\": 1, \"106\": 6, \"24\": 1, \"111\": 7, \"39\": 1, \"125\": 3, \"36\": 9, \"15\": 7, \"98\": 1, \"8\": 2, \"12\": 1, \"27\": 3, \"75\": 1, \"96\": 1, \"84\": 1}, \"64\": {\"64\": 17, \"21\": 3}, \"78\": {\"1\": 3, \"32\": 1, \"121\": 1, \"113\": 1, \"64\": 1, \"45\": 1, \"60\": 1, \"3\": 1, \"8\": 1, \"14\": 1, \"40\": 1, \"48\": 1, \"21\": 1, \"120\": 1}, \"47\": {\"47\": 9, \"3\": 2, \"69\": 1}, \"127\": {\"127\": 89, \"99\": 2, \"91\": 1, \"8\": 1, \"4\": 3, \"7\": 8, \"105\": 2, \"12\": 2, \"71\": 2, \"49\": 1, \"108\": 2, \"3\": 3, \"90\": 1, \"98\": 1, \"86\": 1, \"5\": 3, \"27\": 1, \"124\": 1, \"0\": 1, \"113\": 1, \"10\": 2}, \"89\": {\"79\": 1, \"89\": 22, \"22\": 1, \"16\": 1, \"69\": 1, \"60\": 2}, \"79\": {\"79\": 11, \"107\": 1}, \"22\": {\"22\": 13, \"88\": 1, \"78\": 1, \"60\": 1}, \"117\": {\"117\": 91, \"113\": 7, \"96\": 2, \"18\": 5, \"92\": 1, \"39\": 4, \"2\": 1, \"93\": 1}, \"49\": {\"49\": 5, \"127\": 2, \"124\": 1, \"107\": 2, \"7\": 2, \"14\": 1, \"11\": 1, \"77\": 1, \"36\": 1, \"91\": 2, \"31\": 1, \"10\": 1, \"1\": 2, \"19\": 1, \"16\": 1}, \"14\": {\"22\": 1, \"14\": 65, \"129\": 3, \"16\": 1, \"62\": 4, \"87\": 1, \"78\": 1, \"116\": 1, \"107\": 1, \"110\": 1, \"44\": 1}, \"103\": {\"47\": 3, \"103\": 10, \"112\": 1, \"55\": 1, \"86\": 1}, \"123\": {\"123\": 14, \"63\": 1, \"80\": 1}, \"98\": {\"0\": 8, \"98\": 54, \"37\": 1, \"73\": 2, \"41\": 3, \"34\": 1, \"7\": 9, \"12\": 4, \"85\": 2, \"84\": 1, \"125\": 3, \"124\": 5, \"127\": 4, \"15\": 4, \"94\": 1, \"27\": 1, \"111\": 8, \"36\": 4, \"95\": 1, \"106\": 1, \"4\": 1, \"71\": 2, \"24\": 2, \"6\": 1, \"118\": 1, \"108\": 1, \"16\": 1, \"8\": 1, \"90\": 1}, \"18\": {\"81\": 2, \"18\": 95, \"63\": 1, \"117\": 5, \"39\": 2, \"113\": 2, \"88\": 1}, \"61\": {\"61\": 16}, \"108\": {\"85\": 1, \"0\": 2, \"70\": 7, \"73\": 1, \"108\": 37, \"88\": 5, \"99\": 1, \"122\": 2, \"127\": 5, \"124\": 3, \"1\": 1, \"110\": 5, \"71\": 3, \"105\": 5, \"4\": 8, \"126\": 1, \"5\": 9, \"94\": 1, \"12\": 7, \"7\": 1, \"106\": 1, \"10\": 4, \"3\": 1, \"107\": 2, \"46\": 1, \"8\": 4, \"66\": 2, \"19\": 1, \"86\": 1, \"98\": 1, \"113\": 1, \"114\": 2}, \"100\": {\"100\": 13, \"107\": 2, \"50\": 1}, \"0\": {\"8\": 7, \"10\": 4, \"106\": 5, \"15\": 12, \"99\": 2, \"0\": 27, \"46\": 1, \"101\": 1, \"7\": 6, \"94\": 4, \"127\": 8, \"117\": 1, \"111\": 10, \"30\": 3, \"4\": 3, \"12\": 7, \"36\": 5, \"6\": 1, \"51\": 1, \"24\": 1, \"19\": 1, \"124\": 2, \"105\": 1, \"98\": 2, \"27\": 1}, \"107\": {\"107\": 102, \"40\": 5, \"14\": 2, \"100\": 2, \"45\": 1, \"87\": 1, \"62\": 5, \"114\": 4, \"115\": 1, \"1\": 4, \"32\": 1, \"84\": 1, \"5\": 1}, \"58\": {\"58\": 13, \"51\": 1, \"72\": 1, \"73\": 1}, \"8\": {\"8\": 50, \"58\": 1, \"83\": 1, \"5\": 1, \"124\": 11, \"70\": 2, \"105\": 2, \"12\": 11, \"34\": 2, \"10\": 3, \"108\": 7, \"127\": 6, \"30\": 3, \"0\": 2, \"36\": 2, \"7\": 3, \"24\": 1, \"86\": 1, \"65\": 1, \"19\": 1, \"15\": 2, \"91\": 1, \"23\": 1, \"4\": 3, \"98\": 2}, \"85\": {\"98\": 4, \"38\": 1, \"85\": 25, \"104\": 1, \"40\": 1, \"47\": 1, \"124\": 1, \"24\": 1, \"36\": 1}, \"31\": {\"31\": 12, \"118\": 1, \"93\": 1, \"82\": 1, \"96\": 1, \"121\": 1, \"116\": 1, \"29\": 1, \"84\": 1}, \"81\": {\"81\": 30, \"39\": 2}, \"60\": {\"23\": 1, \"60\": 16, \"109\": 1, \"22\": 3, \"32\": 1, \"55\": 1, \"78\": 1, \"31\": 1, \"110\": 1, \"19\": 1, \"69\": 1}, \"102\": {\"102\": 80, \"11\": 4, \"33\": 13, \"69\": 1, \"90\": 2, \"16\": 2, \"84\": 6, \"44\": 1, \"62\": 1, \"87\": 1, \"109\": 3, \"82\": 1, \"118\": 1}, \"19\": {\"98\": 1, \"108\": 1, \"129\": 1, \"19\": 7, \"87\": 1, \"32\": 1, \"1\": 2, \"66\": 1, \"0\": 1, \"29\": 1, \"5\": 1, \"10\": 1, \"3\": 1, \"122\": 2, \"30\": 1, \"9\": 1, \"34\": 2, \"99\": 1, \"60\": 1, \"7\": 1, \"105\": 1, \"86\": 1, \"49\": 1}, \"23\": {\"108\": 2, \"23\": 5, \"86\": 1, \"121\": 1, \"67\": 2, \"5\": 1, \"81\": 2, \"18\": 1, \"122\": 1, \"10\": 1, \"73\": 1, \"105\": 3, \"83\": 1, \"63\": 1, \"117\": 1, \"91\": 1, \"12\": 1, \"3\": 3, \"39\": 2, \"7\": 1}, \"32\": {\"100\": 1, \"70\": 1, \"32\": 14, \"115\": 1, \"65\": 1, \"107\": 3, \"87\": 1, \"128\": 3, \"1\": 1, \"11\": 1, \"79\": 1, \"29\": 1, \"122\": 1, \"76\": 1, \"114\": 1}, \"39\": {\"63\": 1, \"39\": 57, \"123\": 1, \"81\": 4, \"67\": 2, \"118\": 2, \"21\": 4, \"113\": 9, \"121\": 1, \"117\": 10, \"126\": 7, \"43\": 2, \"2\": 1, \"26\": 2, \"88\": 1, \"64\": 1, \"92\": 2, \"18\": 1}, \"129\": {\"28\": 1, \"129\": 9, \"34\": 1, \"62\": 2, \"88\": 2, \"115\": 1, \"122\": 3, \"83\": 1, \"32\": 1, \"87\": 2, \"3\": 2, \"84\": 1, \"5\": 1, \"19\": 1, \"74\": 1, \"49\": 3}, \"71\": {\"70\": 1, \"99\": 1, \"3\": 2, \"71\": 42, \"5\": 4, \"4\": 5, \"127\": 3, \"85\": 1, \"105\": 6, \"124\": 1, \"108\": 1, \"109\": 1}, \"91\": {\"91\": 11, \"39\": 1, \"30\": 2, \"56\": 1, \"101\": 1, \"86\": 2, \"105\": 2, \"83\": 1, \"12\": 1, \"118\": 2}, \"101\": {\"101\": 30, \"58\": 1, \"111\": 2, \"126\": 1, \"12\": 4, \"30\": 2, \"15\": 2, \"95\": 6, \"68\": 1, \"72\": 1, \"124\": 1, \"113\": 1}, \"62\": {\"62\": 84, \"28\": 1, \"29\": 1, \"11\": 4, \"14\": 2, \"87\": 6, \"70\": 3, \"84\": 6, \"44\": 4, \"107\": 4, \"90\": 1, \"39\": 1, \"129\": 1, \"43\": 1, \"40\": 1, \"16\": 2}, \"63\": {\"123\": 2, \"63\": 11, \"117\": 2, \"92\": 1}, \"125\": {\"125\": 102, \"37\": 1, \"24\": 2, \"75\": 1, \"26\": 1, \"94\": 2, \"27\": 2, \"106\": 2, \"0\": 1, \"72\": 1, \"15\": 1, \"111\": 4}, \"57\": {\"57\": 14, \"1\": 1, \"109\": 1, \"128\": 1, \"122\": 2, \"108\": 1}, \"28\": {\"28\": 9, \"84\": 1, \"122\": 2, \"80\": 2, \"88\": 2}, \"70\": {\"39\": 4, \"70\": 11, \"34\": 1, \"80\": 3, \"10\": 2, \"105\": 5, \"1\": 1, \"21\": 1, \"5\": 4, \"113\": 1, \"92\": 1, \"114\": 2, \"126\": 6, \"90\": 1, \"4\": 3, \"14\": 1, \"93\": 2, \"49\": 1, \"108\": 3, \"3\": 2, \"83\": 2, \"26\": 1, \"66\": 1, \"88\": 4, \"118\": 2, \"109\": 1, \"117\": 2, \"107\": 1, \"127\": 1, \"11\": 2}, \"99\": {\"99\": 21, \"9\": 1, \"7\": 3, \"64\": 1, \"27\": 1, \"55\": 1, \"124\": 1, \"128\": 2, \"58\": 1, \"127\": 1, \"71\": 1, \"4\": 2}, \"121\": {\"121\": 10, \"69\": 1, \"61\": 2, \"26\": 3, \"43\": 2, \"126\": 1, \"21\": 4, \"117\": 1, \"120\": 1, \"13\": 1, \"18\": 1, \"119\": 1, \"90\": 1, \"16\": 1, \"81\": 1, \"113\": 1}, \"4\": {\"9\": 1, \"66\": 1, \"56\": 2, \"35\": 2, \"46\": 1, \"7\": 3, \"4\": 48, \"73\": 1, \"103\": 1, \"71\": 6, \"30\": 1, \"36\": 1, \"105\": 2, \"0\": 1, \"124\": 4, \"5\": 7, \"47\": 1, \"34\": 1, \"99\": 2, \"91\": 1, \"24\": 1, \"3\": 2, \"10\": 1, \"117\": 1, \"108\": 3, \"15\": 1}, \"80\": {\"80\": 11, \"93\": 2, \"63\": 2, \"92\": 1}, \"51\": {\"15\": 1, \"51\": 11, \"106\": 1, \"25\": 1, \"0\": 1, \"73\": 1}, \"3\": {\"3\": 69, \"71\": 2, \"46\": 2, \"125\": 1, \"106\": 2, \"4\": 6, \"30\": 1, \"105\": 5, \"127\": 7, \"39\": 1, \"5\": 6, \"108\": 4, \"40\": 1, \"114\": 6, \"7\": 1, \"8\": 1, \"26\": 1}, \"9\": {\"66\": 1, \"9\": 21, \"4\": 1, \"55\": 2, \"5\": 2, \"8\": 1, \"103\": 2, \"105\": 1, \"122\": 1}, \"53\": {\"53\": 15, \"20\": 1, \"122\": 2, \"114\": 1, \"64\": 1}, \"30\": {\"30\": 27, \"72\": 2, \"4\": 2, \"91\": 4, \"5\": 1, \"57\": 1, \"112\": 1, \"128\": 3, \"10\": 1, \"27\": 4, \"15\": 2, \"7\": 2, \"36\": 5, \"127\": 4, \"0\": 2, \"111\": 3, \"8\": 1, \"51\": 3, \"48\": 1, \"86\": 2, \"99\": 1, \"92\": 1, \"58\": 1, \"35\": 1, \"3\": 3, \"107\": 1, \"101\": 2, \"110\": 1, \"94\": 1, \"12\": 1}, \"33\": {\"33\": 93, \"26\": 4, \"16\": 4, \"69\": 3, \"102\": 5, \"44\": 2, \"109\": 5, \"84\": 2, \"93\": 1, \"11\": 3}, \"15\": {\"15\": 31, \"51\": 1, \"12\": 7, \"94\": 8, \"42\": 1, \"24\": 3, \"30\": 5, \"106\": 10, \"0\": 3, \"8\": 3, \"36\": 6, \"125\": 2, \"111\": 5, \"124\": 1, \"10\": 1, \"27\": 6, \"101\": 2, \"95\": 3, \"97\": 1, \"7\": 1, \"6\": 2, \"126\": 1, \"3\": 1}, \"97\": {\"80\": 1, \"15\": 4, \"97\": 11, \"73\": 1, \"91\": 1, \"101\": 1, \"27\": 1}, \"86\": {\"66\": 4, \"86\": 14, \"19\": 2, \"34\": 1, \"57\": 2, \"105\": 1, \"42\": 2, \"91\": 1, \"81\": 1}, \"20\": {\"20\": 11, \"4\": 1, \"76\": 1, \"79\": 2, \"108\": 1}, \"66\": {\"66\": 14, \"86\": 1, \"24\": 1}, \"10\": {\"58\": 1, \"23\": 2, \"56\": 1, \"128\": 3, \"0\": 5, \"70\": 7, \"10\": 33, \"34\": 1, \"122\": 1, \"124\": 7, \"77\": 1, \"73\": 2, \"30\": 3, \"101\": 1, \"7\": 9, \"94\": 1, \"12\": 12, \"105\": 1, \"98\": 3, \"88\": 5, \"8\": 4, \"114\": 1, \"127\": 3, \"111\": 1, \"1\": 3, \"129\": 1, \"110\": 1, \"15\": 1, \"62\": 1, \"36\": 1, \"108\": 3, \"43\": 1, \"27\": 2}, \"29\": {\"29\": 18, \"109\": 1, \"129\": 1, \"62\": 1, \"33\": 2, \"44\": 3, \"87\": 1, \"26\": 1, \"84\": 1, \"82\": 1, \"116\": 2}, \"109\": {\"69\": 4, \"28\": 3, \"33\": 14, \"43\": 3, \"109\": 30, \"113\": 8, \"19\": 1, \"116\": 2, \"16\": 2, \"121\": 1, \"21\": 3, \"117\": 8, \"118\": 2, \"11\": 2, \"126\": 9, \"93\": 8, \"39\": 2, \"90\": 2, \"120\": 1, \"13\": 2, \"84\": 1, \"44\": 1, \"102\": 4, \"26\": 1}, \"52\": {\"52\": 10, \"41\": 2, \"95\": 1, \"0\": 2, \"108\": 1}, \"67\": {\"67\": 14, \"117\": 1, \"18\": 1}, \"83\": {\"83\": 10, \"121\": 1, \"7\": 1, \"4\": 1, \"91\": 1, \"19\": 1, \"113\": 1, \"3\": 1, \"71\": 2, \"49\": 2, \"5\": 1, \"95\": 1, \"101\": 1}, \"72\": {\"72\": 24, \"58\": 1, \"34\": 1, \"35\": 1, \"97\": 1}, \"90\": {\"90\": 73, \"28\": 2, \"63\": 1, \"93\": 13, \"109\": 3, \"92\": 1, \"44\": 4, \"16\": 9, \"118\": 2, \"11\": 7, \"84\": 4, \"102\": 1, \"87\": 1, \"33\": 3, \"45\": 1, \"88\": 1}, \"69\": {\"69\": 62, \"89\": 6, \"87\": 3, \"90\": 1, \"44\": 2, \"84\": 2, \"33\": 3, \"11\": 3, \"102\": 2}, \"88\": {\"34\": 1, \"88\": 23, \"129\": 2, \"120\": 2, \"70\": 4, \"74\": 1, \"64\": 1, \"42\": 1, \"49\": 2, \"1\": 1, \"92\": 2, \"40\": 3, \"110\": 6, \"90\": 1, \"113\": 1, \"127\": 1, \"117\": 3, \"108\": 2, \"114\": 7, \"107\": 3, \"122\": 1, \"126\": 8, \"105\": 1, \"11\": 4, \"87\": 4, \"109\": 4, \"44\": 1, \"39\": 5, \"10\": 3, \"7\": 1, \"19\": 1, \"22\": 1, \"76\": 1, \"5\": 1, \"28\": 1, \"93\": 3, \"14\": 1, \"71\": 2, \"43\": 1, \"62\": 1}, \"115\": {\"115\": 7, \"70\": 1, \"17\": 1, \"53\": 1, \"55\": 1, \"40\": 1, \"50\": 1, \"107\": 1, \"48\": 2}, \"73\": {\"73\": 21, \"25\": 2, \"116\": 2, \"111\": 2, \"72\": 2, \"95\": 1, \"120\": 1, \"34\": 1, \"106\": 1, \"44\": 1, \"36\": 2, \"93\": 1, \"41\": 1, \"30\": 1, \"7\": 1}, \"34\": {\"62\": 3, \"6\": 2, \"34\": 5, \"50\": 2, \"24\": 1, \"88\": 1, \"49\": 2, \"70\": 2, \"110\": 1, \"94\": 1, \"58\": 2, \"75\": 1, \"20\": 1, \"36\": 1, \"51\": 2, \"25\": 2, \"122\": 1, \"73\": 1, \"129\": 1}, \"25\": {\"25\": 16}, \"44\": {\"129\": 2, \"44\": 35, \"33\": 5, \"14\": 1, \"90\": 2, \"45\": 1, \"16\": 3, \"87\": 5, \"102\": 1, \"62\": 2, \"11\": 3, \"79\": 1, \"29\": 3, \"26\": 2, \"107\": 1, \"39\": 1, \"84\": 2, \"113\": 1, \"32\": 1}, \"112\": {\"56\": 1, \"5\": 2, \"112\": 5, \"97\": 1, \"55\": 2, \"86\": 1, \"105\": 2, \"24\": 1, \"4\": 1}, \"37\": {\"111\": 2, \"37\": 13, \"101\": 1}, \"77\": {\"77\": 14, \"101\": 1, \"110\": 1}, \"111\": {\"111\": 96, \"97\": 1, \"124\": 2, \"73\": 1, \"27\": 1, \"36\": 2, \"12\": 3, \"15\": 5, \"11\": 1, \"98\": 3, \"0\": 5, \"101\": 1, \"126\": 1}, \"119\": {\"119\": 15, \"11\": 1}, \"56\": {\"112\": 1, \"56\": 8, \"0\": 1, \"9\": 1, \"71\": 1}, \"5\": {\"122\": 1, \"112\": 1, \"5\": 66, \"40\": 2, \"3\": 9, \"105\": 12, \"83\": 2, \"128\": 1, \"71\": 1, \"126\": 1, \"107\": 2, \"114\": 3, \"57\": 2, \"42\": 2, \"4\": 3, \"108\": 1, \"21\": 1, \"70\": 1, \"127\": 1}, \"122\": {\"122\": 17, \"53\": 1, \"4\": 1, \"103\": 1, \"17\": 1, \"116\": 1, \"110\": 4, \"129\": 3, \"1\": 4, \"3\": 1, \"21\": 3, \"128\": 2, \"101\": 1, \"19\": 1, \"87\": 2, \"114\": 2, \"5\": 2, \"40\": 1, \"10\": 1, \"107\": 2, \"70\": 2, \"60\": 2, \"105\": 1, \"118\": 1, \"32\": 1, \"44\": 1, \"108\": 1}, \"74\": {\"74\": 11, \"110\": 3, \"88\": 1, \"28\": 1}, \"11\": {\"11\": 47, \"62\": 6, \"118\": 4, \"89\": 4, \"109\": 7, \"100\": 1, \"2\": 2, \"16\": 3, \"14\": 4, \"120\": 1, \"93\": 7, \"21\": 2, \"43\": 2, \"39\": 4, \"92\": 1, \"90\": 7, \"69\": 7, \"113\": 5, \"88\": 5, \"87\": 6, \"102\": 7, \"44\": 2, \"117\": 2, \"84\": 2, \"33\": 5, \"107\": 2, \"20\": 1, \"116\": 2, \"82\": 1, \"121\": 1, \"32\": 1, \"26\": 1}, \"41\": {\"41\": 11, \"52\": 1, \"98\": 1, \"124\": 2, \"99\": 1}, \"104\": {\"104\": 16}, \"21\": {\"21\": 48}, \"118\": {\"118\": 30, \"29\": 2, \"89\": 2, \"6\": 1, \"11\": 4, \"26\": 6, \"33\": 6, \"90\": 3, \"120\": 2, \"64\": 1, \"69\": 4, \"43\": 5, \"109\": 5, \"16\": 5, \"39\": 2, \"88\": 3, \"117\": 1, \"126\": 3, \"92\": 1, \"80\": 1, \"96\": 2, \"18\": 1, \"102\": 7, \"24\": 1, \"93\": 1, \"113\": 1}, \"40\": {\"40\": 79, \"21\": 1, \"20\": 1, \"46\": 1, \"105\": 2, \"111\": 1, \"1\": 7, \"114\": 15, \"3\": 2, \"71\": 1, \"107\": 4, \"122\": 1, \"53\": 1, \"4\": 1, \"84\": 1, \"110\": 1, \"70\": 1, \"127\": 1, \"87\": 1}, \"6\": {\"6\": 25, \"27\": 2, \"106\": 3, \"36\": 1, \"125\": 1}, \"27\": {\"94\": 5, \"12\": 3, \"125\": 10, \"30\": 6, \"101\": 1, \"54\": 3, \"27\": 25, \"99\": 2, \"124\": 6, \"9\": 1, \"128\": 1, \"97\": 1, \"24\": 1, \"108\": 2, \"41\": 1, \"8\": 1, \"127\": 3, \"36\": 8, \"4\": 1, \"80\": 1, \"91\": 3, \"112\": 1, \"51\": 1, \"122\": 1, \"105\": 2, \"7\": 4, \"5\": 2}, \"113\": {\"113\": 68, \"39\": 5, \"81\": 3, \"43\": 4, \"117\": 15, \"26\": 1, \"21\": 1, \"126\": 8, \"18\": 5, \"109\": 3, \"64\": 1, \"2\": 1, \"88\": 2, \"93\": 3}, \"68\": {\"68\": 10, \"12\": 1, \"95\": 1, \"73\": 1, \"124\": 1, \"59\": 2}, \"12\": {\"41\": 1, \"12\": 43, \"4\": 4, \"8\": 6, \"19\": 1, \"15\": 5, \"95\": 1, \"127\": 6, \"30\": 4, \"111\": 9, \"98\": 2, \"94\": 3, \"124\": 5, \"0\": 3, \"10\": 3, \"36\": 1, \"52\": 1, \"59\": 1, \"7\": 1, \"101\": 1, \"105\": 1}, \"54\": {\"54\": 16}, \"24\": {\"56\": 1, \"86\": 2, \"24\": 13, \"9\": 1, \"106\": 1, \"65\": 2, \"85\": 1, \"5\": 2, \"66\": 1, \"0\": 2, \"127\": 1, \"75\": 2, \"126\": 1, \"42\": 1, \"27\": 3, \"34\": 1, \"58\": 2, \"12\": 2, \"6\": 1, \"80\": 1, \"125\": 2, \"19\": 1, \"108\": 1, \"36\": 1, \"8\": 2}, \"106\": {\"37\": 1, \"106\": 58, \"6\": 1, \"15\": 8, \"125\": 9, \"85\": 1, \"94\": 8, \"36\": 3, \"111\": 1, \"126\": 1, \"58\": 2, \"121\": 1, \"24\": 2, \"72\": 1, \"27\": 2, \"0\": 1}, \"128\": {\"86\": 1, \"128\": 11, \"66\": 1, \"99\": 1, \"8\": 1, \"10\": 1, \"122\": 1, \"9\": 1, \"30\": 1, \"124\": 3, \"52\": 1, \"104\": 2, \"91\": 1, \"127\": 1, \"110\": 1, \"14\": 1, \"29\": 1, \"32\": 1, \"108\": 1}, \"48\": {\"10\": 3, \"48\": 1, \"65\": 1, \"33\": 1, \"11\": 1, \"83\": 1, \"79\": 2, \"101\": 2, \"86\": 2, \"69\": 2}, \"92\": {\"116\": 3, \"43\": 2, \"2\": 1, \"92\": 19, \"16\": 1, \"113\": 1, \"39\": 1, \"90\": 2, \"88\": 1, \"80\": 1}, \"35\": {\"35\": 7, \"54\": 1, \"6\": 1, \"27\": 1, \"30\": 1, \"0\": 1}, \"116\": {\"92\": 3, \"20\": 1, \"116\": 11, \"43\": 1, \"18\": 1, \"126\": 1, \"82\": 3, \"11\": 1, \"23\": 1, \"16\": 1, \"64\": 1, \"17\": 2, \"96\": 1}, \"38\": {\"38\": 13, \"120\": 1, \"99\": 2}, \"126\": {\"126\": 104, \"81\": 2, \"96\": 1, \"21\": 2, \"88\": 2, \"39\": 8, \"113\": 4, \"64\": 1}, \"46\": {\"108\": 1, \"46\": 11, \"4\": 1, \"104\": 1, \"71\": 2}, \"120\": {\"120\": 20}, \"7\": {\"98\": 3, \"83\": 3, \"7\": 76, \"46\": 1, \"4\": 4, \"95\": 1, \"124\": 4, \"27\": 1, \"10\": 2, \"30\": 2, \"105\": 4, \"12\": 2, \"127\": 1, \"51\": 1, \"47\": 1, \"9\": 2, \"121\": 1, \"73\": 1, \"72\": 1, \"71\": 1}, \"13\": {\"13\": 3, \"116\": 2, \"69\": 2, \"81\": 1, \"82\": 1, \"120\": 2, \"62\": 1, \"33\": 1, \"118\": 1, \"109\": 2}, \"43\": {\"102\": 1, \"92\": 1, \"118\": 3, \"39\": 7, \"60\": 1, \"33\": 3, \"113\": 7, \"121\": 2, \"26\": 1, \"43\": 7, \"120\": 2, \"82\": 1, \"16\": 5, \"11\": 1, \"96\": 1, \"126\": 3, \"69\": 1, \"21\": 2, \"44\": 1, \"62\": 1, \"117\": 1, \"93\": 1, \"84\": 1, \"87\": 1, \"109\": 1}, \"93\": {\"93\": 85, \"117\": 1, \"109\": 9, \"113\": 5, \"43\": 1, \"118\": 1, \"16\": 4, \"33\": 7, \"11\": 1, \"90\": 1, \"44\": 2, \"39\": 5, \"120\": 1, \"2\": 1, \"126\": 1, \"88\": 2, \"18\": 1, \"26\": 3, \"102\": 1}, \"26\": {\"26\": 112, \"43\": 1, \"109\": 3, \"118\": 2, \"93\": 5, \"126\": 1, \"44\": 3, \"117\": 1, \"16\": 3, \"18\": 1}, \"76\": {\"20\": 1, \"76\": 13, \"129\": 1, \"32\": 1}, \"59\": {\"59\": 6, \"51\": 1, \"58\": 1, \"30\": 2, \"68\": 2}, \"65\": {\"65\": 9, \"17\": 1, \"128\": 2}, \"87\": {\"87\": 35, \"14\": 3, \"84\": 8, \"78\": 2, \"60\": 1, \"62\": 7, \"1\": 3, \"107\": 18, \"101\": 1, \"16\": 4, \"122\": 1, \"40\": 5, \"110\": 5, \"118\": 1, \"90\": 4, \"33\": 2, \"88\": 3, \"44\": 1, \"109\": 1, \"22\": 1, \"20\": 1, \"129\": 1, \"116\": 1, \"53\": 2, \"93\": 4, \"126\": 1, \"114\": 3, \"11\": 1}, \"124\": {\"124\": 100, \"52\": 2, \"73\": 1, \"98\": 4, \"34\": 1, \"108\": 1, \"12\": 3, \"106\": 1, \"7\": 4, \"113\": 1, \"9\": 1, \"78\": 1, \"8\": 1, \"41\": 1, \"94\": 1, \"126\": 1}, \"84\": {\"129\": 1, \"109\": 1, \"14\": 2, \"84\": 58, \"107\": 3, \"33\": 2, \"87\": 3, \"94\": 1, \"62\": 10, \"1\": 2, \"69\": 2, \"114\": 1, \"102\": 6, \"44\": 3, \"11\": 4, \"29\": 2, \"43\": 1, \"49\": 2, \"88\": 1, \"118\": 1, \"16\": 1, \"108\": 1}, \"82\": {\"48\": 1, \"33\": 1, \"89\": 3, \"82\": 16, \"69\": 3, \"102\": 2, \"116\": 2}, \"75\": {\"75\": 11, \"125\": 2, \"25\": 2, \"94\": 1}, \"17\": {\"73\": 1, \"120\": 1, \"116\": 1, \"104\": 1, \"7\": 2, \"17\": 2, \"117\": 2, \"126\": 1, \"52\": 1, \"113\": 2, \"56\": 1, \"51\": 1}, \"105\": {\"4\": 4, \"55\": 1, \"105\": 87, \"5\": 6, \"42\": 2, \"7\": 1, \"71\": 4, \"30\": 1, \"3\": 6, \"114\": 5, \"10\": 1, \"127\": 3, \"19\": 1, \"128\": 1, \"70\": 1}, \"95\": {\"73\": 1, \"95\": 21, \"125\": 1, \"7\": 2, \"124\": 3, \"0\": 1, \"98\": 1, \"9\": 1, \"111\": 1}, \"42\": {\"0\": 2, \"72\": 2, \"34\": 2, \"42\": 4, \"122\": 2, \"97\": 1, \"73\": 2, \"124\": 1, \"99\": 2, \"27\": 1, \"70\": 2, \"58\": 1, \"88\": 1, \"114\": 3, \"111\": 1, \"5\": 1}, \"55\": {\"55\": 12, \"105\": 1, \"112\": 1, \"128\": 1, \"34\": 1}, \"16\": {\"16\": 56, \"109\": 6, \"11\": 5, \"87\": 2, \"117\": 1, \"44\": 4, \"118\": 3, \"33\": 10, \"90\": 6, \"84\": 2, \"102\": 5, \"26\": 4, \"93\": 7, \"96\": 1, \"23\": 1, \"121\": 1, \"43\": 2}, \"50\": {\"50\": 13, \"1\": 3}, \"96\": {\"96\": 7, \"121\": 1, \"26\": 1, \"63\": 3, \"81\": 1, \"80\": 1, \"126\": 1, \"43\": 1, \"31\": 2, \"123\": 1, \"93\": 1}, \"45\": {\"45\": 15, \"53\": 1}, \"36\": {\"52\": 1, \"24\": 1, \"36\": 36, \"95\": 1, \"0\": 2, \"94\": 8, \"6\": 3, \"15\": 5, \"4\": 2, \"125\": 11, \"30\": 4, \"12\": 7, \"27\": 4, \"127\": 4, \"105\": 2, \"106\": 4, \"98\": 1, \"8\": 5, \"7\": 3, \"111\": 4, \"124\": 3, \"54\": 2, \"37\": 2, \"108\": 3, \"10\": 1, \"35\": 1}, \"114\": {\"114\": 90, \"5\": 2, \"113\": 3, \"1\": 7, \"105\": 3, \"107\": 6, \"125\": 1, \"40\": 4, \"70\": 1, \"87\": 1, \"12\": 1, \"3\": 1, \"53\": 1, \"122\": 1, \"110\": 1, \"11\": 1}}, \"C_4\": {\"42\": {\"42\": 32}, \"0\": {\"0\": 64, \"32\": 1, \"35\": 1, \"43\": 12, \"11\": 2}, \"1\": {\"1\": 36, \"46\": 2, \"57\": 2}, \"39\": {\"39\": 19, \"5\": 1}, \"28\": {\"34\": 1, \"28\": 31}, \"53\": {\"53\": 111, \"3\": 2, \"19\": 1, \"4\": 3, \"50\": 6, \"40\": 1}, \"19\": {\"19\": 130, \"44\": 10, \"40\": 3, \"55\": 1}, \"34\": {\"34\": 22, \"26\": 1, \"28\": 1}, \"33\": {\"33\": 35, \"29\": 1}, \"32\": {\"32\": 22, \"11\": 2}, \"10\": {\"10\": 118, \"22\": 3, \"38\": 1, \"56\": 13, \"2\": 1}, \"46\": {\"1\": 5, \"46\": 49, \"14\": 2, \"47\": 17, \"22\": 3, \"16\": 6, \"15\": 7, \"57\": 6, \"41\": 2, \"0\": 3, \"29\": 5, \"52\": 6, \"43\": 2, \"5\": 7, \"11\": 5, \"23\": 1, \"55\": 1, \"35\": 3, \"56\": 3, \"10\": 1}, \"20\": {\"51\": 23, \"20\": 77, \"19\": 3, \"5\": 1, \"9\": 2, \"6\": 3, \"50\": 4, \"44\": 3, \"53\": 4, \"3\": 1, \"40\": 1}, \"5\": {\"39\": 3, \"1\": 4, \"5\": 49, \"46\": 9, \"57\": 12, \"29\": 4, \"41\": 2, \"47\": 12, \"6\": 2, \"40\": 1, \"11\": 1, \"52\": 2, \"42\": 1, \"15\": 2, \"16\": 1, \"55\": 1, \"53\": 1, \"23\": 1}, \"40\": {\"40\": 111, \"31\": 3, \"55\": 2, \"19\": 4, \"44\": 3, \"33\": 1}, \"51\": {\"20\": 15, \"51\": 110, \"50\": 6, \"3\": 2, \"6\": 1, \"26\": 1, \"4\": 2, \"9\": 6, \"53\": 1}, \"37\": {\"37\": 23, \"35\": 1}, \"17\": {\"27\": 12, \"17\": 62, \"8\": 1, \"21\": 4, \"48\": 1}, \"45\": {\"45\": 69, \"36\": 3, \"12\": 9, \"27\": 7, \"48\": 3, \"9\": 1, \"17\": 2, \"8\": 1, \"21\": 1}, \"13\": {\"13\": 142}, \"27\": {\"27\": 117, \"17\": 12, \"48\": 14, \"21\": 1}, \"24\": {\"24\": 54, \"38\": 1, \"10\": 1}, \"30\": {\"30\": 33, \"17\": 2, \"21\": 3, \"48\": 1, \"12\": 1, \"8\": 4}, \"31\": {\"31\": 27, \"44\": 1}, \"41\": {\"41\": 29, \"38\": 1, \"16\": 3, \"13\": 1, \"57\": 2}, \"36\": {\"36\": 72, \"48\": 8, \"54\": 4, \"19\": 1, \"8\": 2, \"21\": 2, \"6\": 1, \"17\": 2}, \"16\": {\"16\": 76, \"15\": 4, \"41\": 3, \"47\": 3, \"46\": 3, \"57\": 4, \"11\": 1, \"43\": 1, \"5\": 1}, \"22\": {\"37\": 2, \"22\": 79, \"43\": 10, \"14\": 1, \"24\": 7, \"0\": 3, \"10\": 6, \"56\": 17, \"2\": 1, \"11\": 2}, \"44\": {\"44\": 85, \"33\": 4, \"19\": 18, \"6\": 3, \"40\": 13, \"55\": 8, \"31\": 1}, \"9\": {\"9\": 102, \"26\": 1, \"45\": 7, \"50\": 9, \"3\": 3, \"4\": 7, \"12\": 2, \"27\": 1, \"6\": 1, \"48\": 1, \"8\": 1, \"51\": 1, \"53\": 3, \"20\": 1}, \"57\": {\"57\": 85, \"1\": 2, \"37\": 1, \"47\": 3, \"16\": 5, \"46\": 2, \"5\": 1, \"41\": 1}, \"8\": {\"8\": 89, \"21\": 10, \"30\": 9, \"17\": 10, \"48\": 14, \"27\": 6}, \"23\": {\"23\": 122, \"18\": 9, \"52\": 1}, \"47\": {\"47\": 76, \"5\": 11, \"29\": 6, \"41\": 4, \"46\": 5, \"16\": 6, \"57\": 8, \"15\": 4}, \"43\": {\"0\": 13, \"43\": 113, \"14\": 1, \"11\": 3, \"7\": 1, \"24\": 1, \"22\": 2, \"56\": 3, \"49\": 1}, \"49\": {\"49\": 20}, \"3\": {\"8\": 5, \"3\": 48, \"48\": 6, \"26\": 1, \"53\": 12, \"17\": 2, \"30\": 1, \"51\": 4, \"12\": 1, \"36\": 1, \"6\": 3, \"4\": 6, \"9\": 9, \"50\": 12, \"54\": 2, \"21\": 1, \"28\": 1, \"27\": 3, \"40\": 1, \"20\": 3, \"45\": 1, \"25\": 1}, \"12\": {\"12\": 72, \"17\": 6, \"48\": 1, \"3\": 1, \"21\": 7, \"45\": 2, \"8\": 1, \"27\": 2}, \"38\": {\"38\": 34, \"2\": 4, \"10\": 1, \"22\": 1}, \"7\": {\"7\": 24}, \"14\": {\"43\": 1, \"14\": 14, \"37\": 1}, \"15\": {\"15\": 120, \"47\": 3, \"24\": 1, \"11\": 10, \"46\": 9, \"16\": 2, \"13\": 1}, \"25\": {\"25\": 96, \"44\": 8, \"34\": 1, \"19\": 11, \"20\": 2, \"53\": 3, \"40\": 7}, \"26\": {\"34\": 1, \"26\": 23}, \"21\": {\"21\": 128, \"30\": 1, \"8\": 1, \"48\": 1, \"17\": 1}, \"48\": {\"48\": 108, \"27\": 23, \"30\": 2, \"21\": 1, \"8\": 8, \"17\": 2}, \"56\": {\"56\": 123, \"24\": 1, \"22\": 4, \"10\": 6}, \"11\": {\"11\": 90, \"35\": 4, \"15\": 4, \"49\": 1, \"7\": 1, \"16\": 3, \"43\": 1}, \"2\": {\"2\": 33, \"38\": 3}, \"6\": {\"3\": 6, \"6\": 36, \"26\": 1, \"51\": 13, \"55\": 3, \"9\": 7, \"48\": 2, \"27\": 1, \"4\": 7, \"50\": 8, \"45\": 1, \"40\": 5, \"17\": 2, \"12\": 3, \"54\": 1, \"53\": 1, \"28\": 3, \"21\": 2, \"34\": 2, \"30\": 1, \"33\": 1, \"29\": 2, \"20\": 4}, \"55\": {\"44\": 14, \"14\": 1, \"33\": 5, \"55\": 90, \"37\": 1, \"31\": 2, \"29\": 3, \"40\": 21, \"19\": 2, \"22\": 1}, \"54\": {\"54\": 77, \"48\": 10, \"27\": 10, \"8\": 3, \"36\": 3, \"17\": 4, \"21\": 1}, \"29\": {\"29\": 112, \"37\": 1, \"22\": 1, \"47\": 2, \"5\": 2, \"16\": 2, \"35\": 1, \"41\": 1, \"15\": 1, \"46\": 1}, \"50\": {\"8\": 8, \"53\": 3, \"51\": 3, \"50\": 49, \"25\": 3, \"27\": 2, \"9\": 10, \"21\": 2, \"17\": 2, \"3\": 12, \"4\": 8, \"48\": 7, \"20\": 5, \"45\": 2, \"6\": 1, \"54\": 3, \"30\": 1, \"12\": 1}, \"52\": {\"23\": 6, \"52\": 101, \"39\": 1, \"5\": 2, \"18\": 3, \"42\": 2, \"57\": 1}, \"35\": {\"35\": 38, \"15\": 2}, \"4\": {\"4\": 72, \"44\": 3, \"9\": 12, \"6\": 4, \"36\": 1, \"3\": 7, \"50\": 11, \"45\": 1, \"8\": 1, \"34\": 2, \"54\": 1, \"53\": 3, \"55\": 1, \"40\": 1}, \"18\": {\"18\": 100, \"23\": 8}}, \"W_4\": {\"113\": {\"35\": 2, \"26\": 12, \"113\": 62, \"2\": 1, \"80\": 2, \"117\": 14, \"109\": 3, \"21\": 4, \"121\": 1, \"18\": 3, \"81\": 3, \"78\": 1, \"39\": 4, \"88\": 2, \"126\": 7, \"63\": 1, \"90\": 1, \"93\": 1}, \"85\": {\"42\": 1, \"53\": 1, \"85\": 17, \"56\": 2, \"36\": 1, \"86\": 2, \"27\": 1, \"68\": 1, \"6\": 1, \"7\": 1}, \"34\": {\"85\": 2, \"34\": 6, \"73\": 1, \"62\": 1, \"27\": 4, \"42\": 2, \"75\": 1, \"47\": 2, \"95\": 1, \"30\": 2, \"120\": 2, \"25\": 2, \"10\": 2, \"36\": 2, \"87\": 2}, \"55\": {\"55\": 12, \"0\": 3, \"49\": 1}, \"42\": {\"34\": 4, \"120\": 1, \"11\": 1, \"8\": 2, \"49\": 2, \"127\": 2, \"105\": 2, \"43\": 1, \"30\": 1, \"91\": 1, \"87\": 1, \"0\": 1, \"9\": 1, \"95\": 2, \"72\": 1, \"42\": 3, \"112\": 1, \"19\": 1}, \"13\": {\"13\": 13, \"20\": 1, \"48\": 1, \"102\": 1}, \"69\": {\"13\": 2, \"69\": 76, \"39\": 1, \"7\": 1, \"5\": 6, \"84\": 3, \"43\": 2, \"102\": 15, \"33\": 7, \"90\": 1, \"88\": 1, \"83\": 1, \"44\": 1, \"110\": 1, \"21\": 1, \"122\": 1, \"113\": 1, \"18\": 1, \"11\": 2}, \"35\": {\"35\": 8, \"113\": 1, \"18\": 2, \"126\": 1}, \"83\": {\"83\": 10, \"21\": 1, \"107\": 3, \"50\": 1, \"14\": 1, \"122\": 1, \"62\": 1, \"32\": 1, \"69\": 1, \"40\": 1, \"11\": 1, \"88\": 1, \"3\": 1, \"49\": 1, \"33\": 1, \"43\": 1, \"105\": 1}, \"51\": {\"51\": 5, \"69\": 1, \"126\": 3, \"9\": 1, \"113\": 1, \"6\": 2, \"68\": 2, \"21\": 1}, \"72\": {\"85\": 1, \"49\": 1, \"72\": 14, \"119\": 1, \"99\": 2, \"110\": 1, \"118\": 2, \"17\": 1, \"43\": 1, \"67\": 1, \"3\": 2, \"5\": 2, \"14\": 1, \"1\": 1, \"40\": 1}, \"24\": {\"51\": 2, \"24\": 22, \"112\": 1, \"10\": 7, \"12\": 2, \"21\": 1, \"0\": 5, \"106\": 8, \"15\": 3, \"94\": 6, \"88\": 2, \"101\": 4, \"3\": 1, \"117\": 1, \"30\": 5, \"36\": 6, \"114\": 2, \"125\": 14, \"7\": 4, \"127\": 4, \"98\": 3, \"54\": 1, \"75\": 1, \"102\": 1, \"96\": 1, \"85\": 1, \"27\": 4, \"32\": 1, \"70\": 1, \"8\": 2, \"87\": 1, \"1\": 1, \"110\": 1, \"105\": 1}, \"53\": {\"42\": 1, \"8\": 1, \"53\": 7, \"27\": 3, \"44\": 1, \"101\": 1, \"17\": 1, \"111\": 1}, \"8\": {\"8\": 79, \"19\": 1, \"29\": 4, \"9\": 1, \"120\": 1, \"37\": 1, \"81\": 1, \"86\": 1, \"112\": 1, \"129\": 1, \"27\": 5, \"106\": 3, \"89\": 1, \"95\": 2, \"126\": 2, \"30\": 2, \"101\": 5, \"15\": 1, \"111\": 8, \"10\": 2, \"12\": 4, \"0\": 5, \"98\": 1, \"90\": 1, \"23\": 1, \"68\": 1, \"26\": 1, \"91\": 1, \"58\": 1, \"21\": 1, \"69\": 1, \"127\": 1, \"114\": 1, \"24\": 2}, \"49\": {\"83\": 1, \"13\": 1, \"69\": 2, \"84\": 2, \"29\": 1, \"37\": 1, \"5\": 3, \"82\": 1, \"91\": 2, \"30\": 1, \"44\": 2, \"8\": 1, \"102\": 4, \"17\": 1, \"122\": 1, \"129\": 1, \"59\": 1, \"7\": 1, \"11\": 1, \"49\": 1, \"3\": 1, \"87\": 1, \"33\": 1}, \"21\": {\"21\": 37, \"126\": 1, \"121\": 2}, \"18\": {\"80\": 2, \"18\": 99, \"63\": 2, \"26\": 7, \"113\": 1, \"43\": 1, \"117\": 6, \"16\": 1, \"39\": 1}, \"114\": {\"104\": 1, \"83\": 1, \"114\": 73, \"71\": 6, \"7\": 6, \"28\": 2, \"100\": 1, \"107\": 6, \"105\": 8, \"1\": 2, \"3\": 1, \"87\": 3, \"113\": 2, \"70\": 2, \"98\": 2, \"40\": 2}, \"58\": {\"58\": 11, \"2\": 1, \"36\": 1, \"15\": 1, \"12\": 2}, \"56\": {\"56\": 8, \"91\": 2, \"95\": 1, \"98\": 1}, \"80\": {\"80\": 16}, \"11\": {\"32\": 2, \"13\": 1, \"69\": 7, \"11\": 51, \"20\": 2, \"3\": 5, \"28\": 1, \"64\": 1, \"31\": 2, \"45\": 1, \"92\": 2, \"50\": 1, \"93\": 3, \"5\": 12, \"49\": 1, \"87\": 3, \"72\": 1, \"43\": 4, \"33\": 7, \"109\": 2, \"108\": 2, \"105\": 2, \"102\": 7, \"62\": 2, \"98\": 1, \"40\": 8, \"99\": 2, \"16\": 1, \"107\": 6, \"1\": 1, \"70\": 1, \"84\": 1, \"27\": 1, \"57\": 1, \"122\": 2, \"83\": 1, \"118\": 4, \"14\": 2}, \"15\": {\"58\": 2, \"9\": 3, \"94\": 5, \"0\": 3, \"15\": 44, \"25\": 1, \"41\": 1, \"6\": 1, \"91\": 1, \"101\": 10, \"12\": 3, \"111\": 6, \"30\": 4, \"39\": 1, \"24\": 5, \"36\": 5, \"8\": 7, \"127\": 3, \"125\": 4, \"10\": 5, \"106\": 1, \"88\": 1, \"27\": 2, \"49\": 2, \"42\": 1, \"29\": 4, \"97\": 1, \"4\": 1, \"26\": 1}, \"50\": {\"50\": 10, \"92\": 1, \"57\": 1, \"31\": 1, \"17\": 1, \"40\": 1, \"74\": 1}, \"111\": {\"111\": 90, \"106\": 2, \"127\": 9, \"30\": 4, \"95\": 3, \"101\": 10, \"10\": 3, \"12\": 3, \"4\": 1, \"98\": 4, \"27\": 1, \"94\": 1, \"24\": 1, \"15\": 3, \"117\": 1, \"36\": 1, \"125\": 1}, \"108\": {\"108\": 23, \"76\": 2, \"32\": 2, \"19\": 1, \"102\": 2, \"62\": 2, \"93\": 3, \"39\": 6, \"44\": 1, \"106\": 1, \"33\": 2, \"14\": 2, \"1\": 1, \"90\": 3, \"109\": 4, \"81\": 1, \"43\": 5, \"5\": 6, \"113\": 2, \"110\": 4, \"107\": 1, \"73\": 1, \"122\": 1, \"99\": 1, \"10\": 1, \"22\": 1, \"30\": 1, \"40\": 2, \"88\": 1, \"72\": 1, \"84\": 2, \"87\": 1, \"3\": 1, \"0\": 1, \"7\": 1, \"71\": 1, \"12\": 1}, \"104\": {\"104\": 14, \"124\": 1, \"82\": 1}, \"32\": {\"32\": 11, \"118\": 1, \"64\": 1, \"20\": 1, \"108\": 1, \"11\": 2, \"129\": 2, \"74\": 1, \"111\": 1, \"89\": 1, \"45\": 2, \"78\": 1, \"60\": 1, \"3\": 2}, \"68\": {\"111\": 4, \"68\": 8, \"10\": 2, \"35\": 1, \"29\": 1}, \"73\": {\"108\": 1, \"73\": 17, \"62\": 1, \"67\": 1, \"105\": 2, \"14\": 2}, \"92\": {\"92\": 22, \"122\": 1, \"45\": 1, \"99\": 1, \"48\": 1, \"69\": 1, \"11\": 1}, \"57\": {\"57\": 16}, \"40\": {\"50\": 1, \"107\": 15, \"114\": 8, \"40\": 82, \"71\": 4, \"108\": 1, \"7\": 5, \"81\": 1, \"127\": 1, \"3\": 3, \"87\": 2, \"24\": 1, \"45\": 1, \"1\": 4, \"73\": 1, \"126\": 2, \"105\": 1, \"33\": 1, \"14\": 1, \"5\": 1}, \"71\": {\"71\": 69, \"6\": 1, \"114\": 11, \"111\": 1, \"106\": 2, \"4\": 1, \"98\": 2, \"3\": 1, \"7\": 1, \"105\": 3, \"1\": 2, \"124\": 1, \"93\": 1, \"126\": 1, \"107\": 4, \"85\": 1, \"112\": 1, \"113\": 1}, \"121\": {\"121\": 5, \"39\": 3, \"84\": 4, \"126\": 2, \"118\": 4, \"69\": 1, \"57\": 1, \"23\": 1, \"13\": 1, \"81\": 1, \"33\": 2, \"21\": 3, \"44\": 1, \"74\": 1, \"109\": 2}, \"62\": {\"57\": 1, \"83\": 1, \"118\": 1, \"102\": 2, \"11\": 2, \"62\": 24, \"109\": 1, \"43\": 1, \"60\": 1, \"99\": 2, \"72\": 1, \"21\": 2, \"14\": 3, \"5\": 1, \"108\": 2, \"93\": 1, \"32\": 2, \"126\": 1, \"27\": 1, \"106\": 1, \"39\": 1, \"61\": 1, \"87\": 1, \"84\": 1, \"73\": 2, \"49\": 1, \"33\": 1, \"44\": 1}, \"39\": {\"21\": 2, \"39\": 58, \"80\": 1, \"109\": 3, \"126\": 6, \"93\": 2, \"118\": 1, \"81\": 1, \"26\": 4, \"113\": 8, \"18\": 2, \"117\": 6, \"122\": 1, \"90\": 1, \"23\": 1, \"38\": 1, \"16\": 2}, \"107\": {\"71\": 4, \"107\": 78, \"64\": 2, \"83\": 2, \"40\": 16, \"90\": 2, \"115\": 1, \"3\": 7, \"7\": 3, \"114\": 9, \"105\": 3, \"87\": 3, \"1\": 5, \"124\": 1, \"24\": 1, \"82\": 1, \"76\": 1, \"70\": 1, \"118\": 2, \"33\": 1, \"14\": 1}, \"60\": {\"7\": 2, \"110\": 3, \"8\": 1, \"123\": 2, \"128\": 1, \"43\": 1, \"62\": 3, \"103\": 1, \"120\": 2, \"95\": 1, \"84\": 1, \"27\": 1, \"105\": 1, \"23\": 1, \"22\": 1, \"51\": 1, \"118\": 1, \"66\": 1, \"44\": 1, \"129\": 1, \"109\": 1, \"88\": 1, \"69\": 1, \"34\": 1, \"117\": 1}, \"129\": {\"0\": 4, \"33\": 1, \"129\": 6, \"32\": 1, \"112\": 1, \"106\": 1, \"122\": 1, \"48\": 1, \"97\": 1, \"5\": 1, \"105\": 1, \"55\": 2, \"75\": 1, \"37\": 1, \"53\": 2, \"49\": 2, \"71\": 1}, \"84\": {\"84\": 76, \"118\": 6, \"69\": 8, \"13\": 2, \"20\": 1, \"72\": 2, \"5\": 2, \"88\": 1, \"116\": 1, \"16\": 7, \"39\": 3, \"93\": 3, \"44\": 3, \"102\": 4, \"122\": 3, \"43\": 2, \"90\": 2, \"33\": 1, \"109\": 2, \"108\": 1, \"11\": 1, \"110\": 1}, \"106\": {\"106\": 58, \"12\": 10, \"77\": 3, \"111\": 5, \"9\": 1, \"34\": 1, \"21\": 1, \"30\": 2, \"125\": 4, \"47\": 1, \"127\": 2, \"15\": 3, \"24\": 5, \"36\": 3, \"10\": 2, \"98\": 2, \"124\": 4, \"82\": 1, \"95\": 1, \"1\": 2, \"0\": 1, \"101\": 2, \"117\": 1, \"94\": 1}, \"87\": {\"110\": 6, \"87\": 34, \"107\": 9, \"28\": 1, \"88\": 11, \"1\": 7, \"114\": 9, \"40\": 10, \"105\": 5, \"70\": 5, \"99\": 1, \"14\": 4, \"43\": 3, \"122\": 1, \"71\": 3, \"93\": 1, \"109\": 1, \"108\": 2, \"98\": 1, \"115\": 1, \"3\": 2, \"76\": 1, \"78\": 2, \"46\": 1, \"62\": 1, \"2\": 1, \"11\": 1, \"129\": 1, \"83\": 1, \"19\": 2, \"4\": 1, \"27\": 2, \"118\": 1}, \"110\": {\"18\": 1, \"110\": 34, \"11\": 2, \"21\": 1, \"14\": 2, \"5\": 7, \"26\": 3, \"78\": 1, \"102\": 4, \"122\": 1, \"93\": 9, \"113\": 1, \"118\": 2, \"43\": 7, \"109\": 3, \"36\": 1, \"33\": 2, \"90\": 3, \"129\": 1, \"72\": 1, \"117\": 1, \"84\": 1, \"108\": 2, \"88\": 3, \"126\": 1}, \"118\": {\"69\": 8, \"110\": 4, \"108\": 2, \"118\": 22, \"19\": 2, \"102\": 11, \"60\": 1, \"11\": 5, \"44\": 2, \"20\": 2, \"96\": 1, \"26\": 3, \"122\": 3, \"5\": 2, \"65\": 1, \"74\": 1, \"129\": 1, \"43\": 4, \"72\": 2, \"33\": 8, \"62\": 1, \"93\": 5, \"121\": 2, \"1\": 1, \"90\": 1, \"3\": 3, \"16\": 2, \"84\": 3, \"39\": 1, \"109\": 1, \"57\": 1, \"99\": 2, \"14\": 1, \"113\": 1, \"88\": 1, \"40\": 1}, \"64\": {\"64\": 13, \"20\": 1, \"80\": 1, \"69\": 1}, \"82\": {\"7\": 1, \"82\": 15, \"17\": 6, \"86\": 2, \"105\": 1, \"42\": 1, \"88\": 1, \"10\": 1, \"4\": 2, \"124\": 1, \"85\": 1}, \"7\": {\"87\": 9, \"7\": 40, \"73\": 1, \"129\": 3, \"1\": 10, \"105\": 10, \"114\": 8, \"89\": 2, \"82\": 1, \"71\": 4, \"3\": 5, \"98\": 4, \"70\": 5, \"107\": 1, \"4\": 1, \"40\": 5, \"124\": 2, \"119\": 1, \"14\": 3, \"85\": 2, \"128\": 1, \"26\": 1, \"33\": 1, \"88\": 1, \"126\": 3}, \"0\": {\"0\": 25, \"129\": 1, \"19\": 1, \"34\": 3, \"95\": 3, \"87\": 1, \"27\": 4, \"101\": 9, \"12\": 6, \"105\": 1, \"70\": 4, \"111\": 9, \"39\": 1, \"106\": 3, \"30\": 2, \"10\": 3, \"4\": 8, \"24\": 4, \"71\": 3, \"126\": 1, \"8\": 1, \"88\": 1, \"114\": 1, \"1\": 1, \"127\": 5, \"3\": 1, \"90\": 1, \"41\": 1, \"76\": 1, \"9\": 2, \"37\": 1, \"112\": 2, \"21\": 2, \"97\": 2, \"15\": 2}, \"41\": {\"68\": 1, \"41\": 3, \"124\": 4, \"1\": 1, \"93\": 1, \"24\": 1, \"100\": 1, \"29\": 1, \"4\": 2, \"101\": 1}, \"102\": {\"102\": 88, \"129\": 1, \"79\": 1, \"118\": 1, \"48\": 3, \"122\": 2, \"84\": 3, \"33\": 7, \"43\": 3, \"69\": 10, \"11\": 2, \"126\": 1, \"116\": 1, \"2\": 1, \"5\": 3, \"99\": 1, \"92\": 1, \"108\": 1}, \"89\": {\"83\": 1, \"89\": 16, \"100\": 1, \"70\": 3, \"113\": 1, \"46\": 2, \"103\": 1, \"128\": 2, \"40\": 2, \"95\": 2, \"1\": 1}, \"26\": {\"18\": 14, \"26\": 92, \"61\": 1, \"39\": 5, \"117\": 8, \"16\": 2, \"109\": 2, \"88\": 1, \"126\": 1, \"44\": 1, \"113\": 1}, \"103\": {\"103\": 11, \"106\": 2, \"127\": 1, \"12\": 2}, \"90\": {\"113\": 8, \"90\": 75, \"84\": 2, \"44\": 2, \"43\": 2, \"109\": 5, \"117\": 6, \"93\": 5, \"122\": 2, \"62\": 1, \"26\": 1, \"110\": 3, \"5\": 1, \"69\": 1, \"39\": 1, \"118\": 2, \"16\": 1}, \"14\": {\"14\": 77, \"19\": 3, \"62\": 4, \"32\": 1, \"84\": 1, \"60\": 1, \"87\": 4, \"109\": 1, \"43\": 3, \"122\": 1, \"5\": 2, \"88\": 2, \"78\": 2, \"105\": 1, \"72\": 1, \"11\": 1, \"69\": 1, \"33\": 4, \"70\": 1, \"107\": 1}, \"9\": {\"103\": 1, \"9\": 22, \"30\": 1, \"127\": 2, \"12\": 1, \"0\": 1}, \"5\": {\"102\": 14, \"87\": 3, \"5\": 80, \"118\": 1, \"43\": 2, \"73\": 1, \"88\": 3, \"72\": 1, \"48\": 1, \"110\": 2, \"33\": 14, \"10\": 1, \"126\": 1, \"69\": 4, \"3\": 1, \"11\": 2, \"78\": 1, \"113\": 1, \"107\": 1, \"84\": 2}, \"22\": {\"22\": 8, \"19\": 2, \"60\": 1, \"62\": 1, \"23\": 1, \"5\": 1, \"44\": 2}, \"2\": {\"2\": 19, \"62\": 1, \"43\": 1, \"121\": 2, \"110\": 1, \"16\": 2, \"96\": 1, \"18\": 1}, \"77\": {\"77\": 8, \"106\": 2, \"111\": 2}, \"59\": {\"77\": 2, \"59\": 6, \"80\": 1, \"81\": 1, \"111\": 2}, \"127\": {\"127\": 64, \"101\": 5, \"106\": 1, \"103\": 2, \"113\": 2, \"111\": 7, \"95\": 3, \"0\": 6, \"81\": 2, \"12\": 3, \"30\": 1, \"10\": 2, \"117\": 1, \"8\": 1, \"15\": 1, \"36\": 1}, \"61\": {\"61\": 9, \"84\": 1, \"117\": 1, \"26\": 1, \"113\": 1, \"96\": 1, \"2\": 2}, \"17\": {\"17\": 14, \"82\": 2, \"81\": 1, \"71\": 1, \"27\": 2}, \"45\": {\"45\": 15, \"14\": 1}, \"19\": {\"84\": 3, \"19\": 4, \"70\": 1, \"91\": 1, \"43\": 4, \"40\": 1, \"122\": 2, \"106\": 1, \"52\": 1, \"5\": 2, \"76\": 1, \"129\": 1, \"49\": 1, \"110\": 1, \"1\": 1, \"62\": 1, \"108\": 1, \"4\": 1}, \"52\": {\"37\": 1, \"53\": 1, \"52\": 11, \"113\": 1, \"42\": 1, \"8\": 2, \"127\": 1, \"82\": 2}, \"123\": {\"77\": 1, \"123\": 11, \"113\": 2, \"54\": 1, \"75\": 1}, \"20\": {\"20\": 8, \"57\": 2, \"118\": 2, \"44\": 1, \"102\": 1, \"5\": 1, \"19\": 1}, \"112\": {\"112\": 11, \"77\": 1, \"71\": 1, \"6\": 1, \"129\": 1, \"126\": 1}, \"37\": {\"37\": 15, \"91\": 1}, \"29\": {\"29\": 26, \"127\": 1, \"8\": 2, \"111\": 1, \"53\": 1, \"10\": 1}, \"128\": {\"100\": 2, \"128\": 6, \"114\": 2, \"85\": 1, \"46\": 1, \"82\": 2, \"78\": 1, \"88\": 2, \"42\": 1, \"112\": 2, \"7\": 1, \"70\": 1, \"49\": 1, \"71\": 1}, \"100\": {\"104\": 1, \"106\": 1, \"105\": 2, \"100\": 11, \"114\": 1, \"42\": 1, \"124\": 1, \"128\": 1, \"10\": 1}, \"67\": {\"67\": 3, \"117\": 1, \"113\": 1, \"115\": 1, \"39\": 1, \"126\": 1, \"74\": 1, \"2\": 1, \"45\": 2, \"79\": 1, \"3\": 1, \"18\": 2}, \"12\": {\"12\": 49, \"80\": 1, \"34\": 1, \"8\": 2, \"127\": 4, \"6\": 3, \"94\": 3, \"95\": 6, \"27\": 4, \"15\": 3, \"99\": 1, \"111\": 6, \"101\": 4, \"10\": 1, \"124\": 3, \"106\": 5, \"4\": 1, \"87\": 1, \"18\": 1, \"126\": 1}, \"101\": {\"101\": 48, \"111\": 10, \"27\": 7, \"86\": 3, \"127\": 4, \"8\": 4, \"0\": 6, \"71\": 2, \"30\": 2, \"10\": 6, \"98\": 6, \"106\": 3, \"4\": 5, \"70\": 2, \"24\": 4, \"26\": 1, \"36\": 3, \"41\": 1, \"89\": 1, \"49\": 1, \"95\": 3, \"15\": 2, \"94\": 1, \"3\": 1, \"124\": 1, \"125\": 1}, \"76\": {\"76\": 13, \"40\": 2, \"42\": 1}, \"70\": {\"86\": 1, \"88\": 8, \"19\": 1, \"105\": 6, \"62\": 3, \"27\": 5, \"40\": 1, \"68\": 1, \"17\": 2, \"82\": 1, \"118\": 2, \"106\": 1, \"52\": 2, \"4\": 3, \"87\": 1, \"70\": 22, \"71\": 4, \"108\": 3, \"122\": 3, \"93\": 5, \"10\": 3, \"98\": 2, \"113\": 1, \"26\": 1, \"0\": 2, \"117\": 4, \"8\": 4, \"90\": 3, \"114\": 8, \"101\": 1, \"109\": 1, \"126\": 2, \"85\": 2, \"65\": 1, \"121\": 1, \"2\": 1, \"78\": 1, \"49\": 1, \"24\": 2, \"7\": 1, \"60\": 1, \"107\": 1, \"69\": 1, \"127\": 2, \"1\": 2}, \"31\": {\"39\": 1, \"31\": 10, \"33\": 1, \"45\": 2, \"43\": 2}, \"86\": {\"86\": 21, \"91\": 1, \"17\": 1, \"98\": 1, \"4\": 1, \"0\": 1, \"34\": 1, \"70\": 1}, \"88\": {\"39\": 9, \"88\": 28, \"19\": 2, \"128\": 1, \"21\": 1, \"113\": 9, \"26\": 3, \"126\": 4, \"42\": 1, \"109\": 5, \"124\": 2, \"8\": 3, \"105\": 6, \"14\": 2, \"10\": 3, \"122\": 2, \"114\": 2, \"81\": 3, \"108\": 4, \"1\": 4, \"87\": 5, \"98\": 1, \"24\": 2, \"70\": 5, \"90\": 3, \"112\": 2, \"27\": 2, \"18\": 1, \"110\": 2, \"0\": 2, \"60\": 1, \"117\": 1, \"40\": 1, \"107\": 3, \"111\": 1, \"16\": 1, \"101\": 1, \"7\": 3, \"71\": 1}, \"3\": {\"3\": 68, \"28\": 1, \"19\": 1, \"87\": 5, \"79\": 2, \"40\": 10, \"1\": 4, \"78\": 1, \"108\": 1, \"110\": 1, \"14\": 1, \"71\": 1, \"7\": 2, \"88\": 2, \"107\": 13, \"70\": 1, \"115\": 2, \"73\": 2, \"32\": 2, \"80\": 1, \"118\": 1, \"105\": 2, \"114\": 1, \"33\": 1}, \"117\": {\"117\": 94, \"113\": 4, \"63\": 1, \"81\": 1, \"126\": 2, \"39\": 1, \"108\": 1, \"26\": 12, \"18\": 3, \"123\": 1}, \"30\": {\"27\": 1, \"30\": 23, \"10\": 3, \"52\": 2, \"106\": 4, \"47\": 3, \"89\": 1, \"8\": 6, \"95\": 1, \"15\": 5, \"36\": 3, \"0\": 3, \"126\": 1, \"12\": 1, \"24\": 1, \"71\": 1, \"94\": 3, \"101\": 2, \"86\": 1, \"34\": 1, \"68\": 1, \"58\": 2, \"111\": 1, \"81\": 1, \"6\": 2, \"49\": 1, \"125\": 1, \"90\": 1}, \"96\": {\"44\": 2, \"80\": 1, \"109\": 2, \"96\": 7, \"43\": 1, \"113\": 1, \"16\": 1, \"126\": 1, \"84\": 1, \"38\": 1, \"61\": 1, \"122\": 1}, \"27\": {\"27\": 26, \"44\": 1, \"70\": 4, \"103\": 2, \"106\": 2, \"62\": 1, \"12\": 1, \"95\": 1, \"8\": 6, \"127\": 3, \"0\": 7, \"101\": 4, \"1\": 1, \"86\": 2, \"39\": 1, \"3\": 1, \"10\": 1, \"87\": 3, \"111\": 2, \"43\": 5, \"108\": 1, \"24\": 1, \"126\": 2, \"110\": 1, \"109\": 2, \"113\": 2, \"14\": 1, \"91\": 1, \"76\": 1, \"55\": 1, \"4\": 2, \"21\": 1, \"88\": 1, \"71\": 2, \"42\": 1, \"15\": 1, \"89\": 1, \"30\": 2, \"97\": 1, \"94\": 1}, \"122\": {\"45\": 1, \"44\": 1, \"60\": 1, \"43\": 2, \"19\": 1, \"74\": 1, \"26\": 1, \"118\": 5, \"122\": 25, \"129\": 1, \"108\": 1, \"48\": 1, \"93\": 3, \"90\": 5, \"3\": 2, \"110\": 2, \"88\": 3, \"99\": 2, \"39\": 1, \"16\": 1, \"102\": 3, \"87\": 1, \"7\": 1, \"79\": 2, \"11\": 1, \"49\": 1, \"62\": 1, \"14\": 3, \"109\": 3, \"33\": 2, \"113\": 1, \"78\": 2, \"21\": 1, \"84\": 1, \"69\": 1}, \"120\": {\"120\": 17, \"21\": 1, \"7\": 1, \"14\": 1}, \"44\": {\"96\": 2, \"92\": 1, \"43\": 1, \"44\": 27, \"121\": 2, \"117\": 2, \"48\": 2, \"84\": 3, \"62\": 1, \"118\": 2, \"102\": 3, \"5\": 2, \"113\": 1, \"110\": 1, \"109\": 1, \"26\": 2, \"16\": 1, \"2\": 1, \"122\": 5, \"69\": 2, \"72\": 1, \"39\": 1}, \"79\": {\"79\": 12, \"3\": 2, \"14\": 1, \"39\": 1}, \"105\": {\"105\": 42, \"129\": 2, \"1\": 3, \"40\": 11, \"87\": 4, \"70\": 2, \"39\": 2, \"115\": 3, \"8\": 1, \"3\": 3, \"107\": 2, \"7\": 5, \"88\": 1, \"14\": 1, \"71\": 4, \"82\": 1, \"46\": 1, \"98\": 2, \"17\": 1, \"81\": 1, \"62\": 1, \"94\": 1, \"114\": 5, \"106\": 1}, \"95\": {\"95\": 15, \"127\": 2, \"86\": 1, \"8\": 2, \"34\": 2, \"12\": 1, \"111\": 3, \"21\": 1, \"68\": 1, \"55\": 1, \"114\": 1, \"101\": 1, \"117\": 1}, \"109\": {\"80\": 2, \"109\": 26, \"126\": 13, \"67\": 1, \"66\": 1, \"48\": 1, \"93\": 4, \"113\": 2, \"110\": 3, \"118\": 6, \"90\": 2, \"99\": 1, \"69\": 2, \"84\": 9, \"108\": 2, \"44\": 3, \"81\": 1, \"5\": 2, \"16\": 10, \"33\": 1, \"43\": 1, \"102\": 6, \"65\": 1, \"116\": 1, \"122\": 3, \"88\": 2, \"21\": 2, \"92\": 1, \"39\": 2, \"72\": 1, \"78\": 2, \"11\": 2}, \"16\": {\"102\": 5, \"67\": 1, \"16\": 65, \"96\": 2, \"44\": 2, \"84\": 15, \"117\": 2, \"110\": 2, \"93\": 1, \"118\": 2, \"43\": 3, \"11\": 1, \"126\": 1, \"109\": 4, \"116\": 2, \"13\": 1, \"113\": 1, \"26\": 2, \"39\": 2, \"5\": 1, \"33\": 1, \"88\": 1, \"90\": 1}, \"36\": {\"36\": 36, \"82\": 1, \"106\": 5, \"21\": 1, \"12\": 4, \"127\": 4, \"15\": 2, \"52\": 1, \"125\": 8, \"30\": 2, \"27\": 3, \"101\": 5, \"10\": 2, \"124\": 1, \"0\": 1, \"126\": 1, \"98\": 1, \"71\": 1, \"111\": 6, \"24\": 3, \"8\": 2, \"4\": 1, \"54\": 2, \"121\": 1, \"95\": 1, \"117\": 2, \"40\": 1}, \"125\": {\"36\": 11, \"125\": 106, \"106\": 3, \"6\": 1, \"94\": 7, \"88\": 1, \"10\": 3, \"24\": 2, \"25\": 1, \"15\": 1}, \"97\": {\"9\": 2, \"84\": 1, \"120\": 1, \"97\": 3, \"127\": 3, \"46\": 1, \"25\": 1, \"22\": 1, \"29\": 1, \"18\": 1, \"101\": 1, \"4\": 1, \"24\": 1, \"5\": 2}, \"91\": {\"91\": 8, \"111\": 1, \"128\": 1, \"54\": 1, \"55\": 1, \"86\": 1, \"103\": 1, \"101\": 2, \"52\": 2, \"77\": 1, \"27\": 1, \"29\": 1, \"127\": 1, \"8\": 1, \"47\": 1}, \"28\": {\"28\": 17, \"115\": 1, \"83\": 2}, \"81\": {\"81\": 33, \"39\": 3}, \"126\": {\"62\": 1, \"81\": 1, \"126\": 90, \"117\": 2, \"39\": 5, \"109\": 2, \"113\": 10, \"90\": 2, \"26\": 2, \"21\": 2, \"88\": 2, \"18\": 3}, \"4\": {\"4\": 59, \"29\": 2, \"27\": 1, \"10\": 2, \"71\": 2, \"126\": 1, \"101\": 3, \"70\": 2, \"0\": 2, \"111\": 2, \"98\": 7, \"39\": 1, \"113\": 1, \"127\": 2, \"43\": 1, \"1\": 3, \"41\": 1, \"82\": 1, \"124\": 3, \"108\": 1, \"12\": 2, \"114\": 2, \"15\": 1, \"118\": 1, \"26\": 1}, \"10\": {\"10\": 19, \"36\": 4, \"129\": 1, \"54\": 1, \"84\": 2, \"78\": 1, \"89\": 2, \"127\": 1, \"87\": 6, \"15\": 11, \"125\": 16, \"14\": 2, \"88\": 4, \"94\": 7, \"70\": 8, \"105\": 2, \"108\": 5, \"4\": 5, \"12\": 1, \"7\": 1, \"62\": 1, \"122\": 1, \"106\": 1, \"30\": 3, \"101\": 3, \"109\": 1, \"23\": 1, \"60\": 1, \"66\": 1, \"128\": 3, \"52\": 2, \"0\": 1, \"39\": 1, \"24\": 1, \"8\": 2, \"98\": 1, \"93\": 1}, \"63\": {\"63\": 14, \"117\": 2}, \"43\": {\"83\": 2, \"3\": 12, \"87\": 5, \"96\": 1, \"73\": 2, \"84\": 2, \"88\": 1, \"44\": 2, \"105\": 5, \"110\": 6, \"33\": 4, \"114\": 1, \"43\": 18, \"118\": 3, \"122\": 3, \"81\": 1, \"109\": 3, \"93\": 6, \"117\": 3, \"70\": 2, \"113\": 2, \"1\": 3, \"40\": 3, \"16\": 2, \"11\": 2, \"90\": 5, \"107\": 6, \"45\": 1, \"35\": 1, \"127\": 1, \"64\": 1, \"72\": 1, \"7\": 3, \"108\": 2, \"14\": 1, \"26\": 2}, \"116\": {\"96\": 1, \"122\": 2, \"116\": 9, \"48\": 1, \"118\": 2, \"11\": 1, \"62\": 1, \"99\": 1, \"92\": 1, \"73\": 1, \"109\": 2, \"102\": 1, \"38\": 1, \"5\": 1, \"16\": 1, \"90\": 1, \"67\": 1}, \"1\": {\"1\": 43, \"87\": 8, \"105\": 3, \"7\": 5, \"49\": 1, \"23\": 1, \"42\": 1, \"15\": 1, \"114\": 6, \"10\": 1, \"14\": 1, \"107\": 9, \"71\": 5, \"40\": 8, \"43\": 1, \"3\": 3, \"70\": 4, \"90\": 1, \"76\": 1, \"97\": 1, \"39\": 1, \"93\": 1, \"88\": 1, \"126\": 1}, \"94\": {\"54\": 2, \"10\": 2, \"78\": 1, \"94\": 38, \"30\": 3, \"111\": 2, \"24\": 8, \"12\": 6, \"3\": 1, \"15\": 4, \"39\": 1, \"106\": 2, \"36\": 3, \"125\": 9, \"8\": 1, \"126\": 1, \"47\": 1, \"127\": 1, \"4\": 2}, \"38\": {\"38\": 7, \"122\": 1, \"109\": 1, \"110\": 2, \"93\": 2, \"116\": 1, \"16\": 1, \"66\": 1}, \"54\": {\"54\": 15, \"125\": 1}, \"74\": {\"74\": 9, \"69\": 1, \"5\": 1, \"92\": 1, \"50\": 2, \"33\": 2}, \"25\": {\"25\": 14, \"10\": 1, \"97\": 1}, \"75\": {\"75\": 16}, \"119\": {\"119\": 13, \"114\": 1, \"123\": 1, \"128\": 1}, \"46\": {\"46\": 9, \"128\": 1, \"118\": 1, \"124\": 1, \"105\": 2, \"22\": 1, \"7\": 2, \"122\": 1, \"1\": 2}, \"23\": {\"21\": 1, \"54\": 1, \"23\": 1, \"126\": 1, \"0\": 1, \"113\": 1, \"93\": 1, \"39\": 1, \"86\": 3, \"123\": 1, \"18\": 1, \"109\": 1, \"75\": 1, \"120\": 1}, \"99\": {\"11\": 1, \"99\": 30, \"62\": 1, \"33\": 1, \"116\": 1, \"5\": 1, \"102\": 2, \"3\": 1, \"32\": 1, \"14\": 1}, \"33\": {\"33\": 92, \"43\": 1, \"102\": 2, \"11\": 4, \"69\": 4, \"5\": 4, \"3\": 1, \"90\": 1, \"31\": 1, \"99\": 2, \"107\": 1, \"40\": 1, \"39\": 1, \"108\": 2, \"87\": 1}, \"47\": {\"47\": 10, \"106\": 1, \"34\": 1}, \"115\": {\"115\": 10, \"28\": 1, \"107\": 1, \"11\": 1, \"62\": 1, \"14\": 1, \"112\": 1}, \"6\": {\"6\": 14, \"10\": 1, \"97\": 1, \"58\": 3, \"36\": 1, \"75\": 2, \"113\": 1, \"24\": 1}, \"65\": {\"65\": 12}, \"66\": {\"66\": 11, \"84\": 1, \"16\": 2, \"93\": 2}, \"78\": {\"49\": 2, \"12\": 1, \"26\": 2, \"88\": 5, \"1\": 1, \"87\": 1, \"127\": 2, \"16\": 1, \"78\": 5, \"8\": 1, \"39\": 1, \"105\": 1, \"21\": 1, \"32\": 1, \"30\": 1, \"118\": 1, \"129\": 1, \"36\": 1, \"14\": 1, \"109\": 2, \"4\": 1, \"107\": 1, \"126\": 1, \"70\": 1}, \"98\": {\"98\": 61, \"17\": 1, \"86\": 1, \"95\": 1, \"124\": 9, \"0\": 5, \"15\": 2, \"101\": 3, \"111\": 4, \"71\": 5, \"10\": 3, \"94\": 2, \"4\": 3, \"114\": 3, \"1\": 1, \"56\": 1, \"58\": 1, \"30\": 2, \"82\": 1, \"97\": 1, \"24\": 1, \"40\": 1, \"36\": 1, \"127\": 1, \"7\": 1, \"8\": 1}, \"93\": {\"110\": 7, \"93\": 54, \"109\": 10, \"44\": 2, \"118\": 5, \"90\": 7, \"43\": 3, \"108\": 2, \"62\": 3, \"122\": 1, \"26\": 1, \"5\": 1, \"126\": 4, \"113\": 4, \"117\": 1, \"88\": 2, \"33\": 2, \"38\": 1, \"39\": 1, \"80\": 1, \"69\": 1, \"11\": 2, \"16\": 1}, \"48\": {\"48\": 12, \"116\": 1, \"92\": 1, \"62\": 1, \"13\": 1}, \"124\": {\"124\": 95, \"41\": 1, \"95\": 1, \"4\": 6, \"98\": 2, \"101\": 2, \"71\": 2, \"0\": 1, \"100\": 1, \"24\": 1, \"126\": 1, \"107\": 1}}, \"C_5\": {\"43\": {\"43\": 113, \"15\": 14, \"11\": 16, \"29\": 5, \"0\": 3, \"3\": 1}, \"35\": {\"35\": 34, \"56\": 1, \"24\": 1}, \"54\": {\"54\": 94, \"8\": 4, \"53\": 6, \"18\": 2, \"30\": 2, \"6\": 1, \"1\": 3}, \"22\": {\"35\": 3, \"22\": 22, \"29\": 2, \"40\": 1}, \"16\": {\"16\": 112, \"46\": 20, \"3\": 7, \"47\": 4, \"5\": 1, \"11\": 1, \"52\": 1}, \"5\": {\"5\": 110, \"36\": 2, \"33\": 1, \"40\": 8, \"44\": 7}, \"28\": {\"28\": 31, \"37\": 1}, \"14\": {\"14\": 28, \"43\": 4, \"36\": 2, \"47\": 1, \"11\": 3, \"15\": 2, \"34\": 1, \"29\": 1, \"28\": 1, \"3\": 1}, \"51\": {\"51\": 102, \"20\": 13, \"8\": 1, \"45\": 1, \"48\": 1, \"9\": 1, \"4\": 1, \"6\": 4, \"12\": 1, \"50\": 2, \"53\": 1}, \"19\": {\"19\": 139, \"49\": 1}, \"31\": {\"31\": 36}, \"10\": {\"10\": 55, \"13\": 13}, \"21\": {\"21\": 135, \"50\": 1}, \"3\": {\"14\": 3, \"28\": 1, \"3\": 53, \"40\": 5, \"11\": 2, \"16\": 11, \"29\": 4, \"52\": 1, \"15\": 2, \"43\": 2, \"36\": 2, \"47\": 5, \"46\": 2, \"44\": 3, \"57\": 1, \"19\": 1, \"0\": 1, \"56\": 1}, \"57\": {\"3\": 1, \"57\": 114, \"42\": 4, \"25\": 2, \"52\": 8, \"46\": 3}, \"9\": {\"9\": 62, \"32\": 2, \"45\": 2, \"27\": 22, \"5\": 2, \"30\": 7, \"48\": 2, \"6\": 6, \"49\": 1, \"12\": 3, \"50\": 2, \"53\": 3, \"33\": 1, \"8\": 14, \"1\": 6, \"19\": 4, \"55\": 4, \"40\": 1, \"21\": 1, \"51\": 1}, \"8\": {\"8\": 86, \"7\": 3, \"55\": 1, \"53\": 26, \"30\": 8, \"9\": 3, \"1\": 3, \"27\": 2}, \"46\": {\"46\": 102, \"16\": 15, \"22\": 1, \"11\": 3, \"3\": 4, \"29\": 2, \"52\": 6, \"57\": 4, \"28\": 1, \"40\": 1, \"43\": 1}, \"23\": {\"23\": 119, \"18\": 2, \"52\": 1, \"50\": 1, \"43\": 1}, \"37\": {\"37\": 24}, \"34\": {\"34\": 33, \"49\": 1, \"36\": 1, \"47\": 1}, \"4\": {\"4\": 83, \"9\": 3, \"51\": 1, \"55\": 6, \"20\": 1, \"45\": 3, \"8\": 1, \"19\": 1, \"6\": 1}, \"6\": {\"12\": 3, \"8\": 4, \"45\": 4, \"6\": 38, \"9\": 7, \"26\": 2, \"17\": 22, \"55\": 4, \"48\": 17, \"27\": 4, \"53\": 3, \"1\": 9, \"51\": 1, \"50\": 4, \"4\": 1, \"30\": 2, \"38\": 3}, \"48\": {\"48\": 119, \"26\": 4, \"17\": 9, \"4\": 1, \"1\": 1, \"6\": 1, \"19\": 1}, \"44\": {\"44\": 107, \"49\": 1, \"36\": 3, \"40\": 11, \"29\": 8, \"43\": 2, \"5\": 5, \"11\": 1}, \"40\": {\"40\": 110, \"44\": 11, \"14\": 1, \"29\": 2}, \"12\": {\"12\": 74, \"48\": 3, \"26\": 2, \"7\": 1, \"17\": 2, \"38\": 1, \"6\": 7, \"30\": 1, \"45\": 1, \"9\": 1, \"4\": 1, \"1\": 1, \"51\": 1}, \"30\": {\"12\": 2, \"30\": 102, \"53\": 7, \"9\": 2, \"8\": 4, \"1\": 9, \"45\": 1, \"19\": 1}, \"39\": {\"39\": 17, \"52\": 2, \"42\": 1}, \"45\": {\"32\": 4, \"7\": 4, \"45\": 42, \"30\": 2, \"17\": 4, \"19\": 4, \"4\": 5, \"55\": 7, \"51\": 5, \"9\": 11, \"1\": 8, \"48\": 4, \"27\": 4, \"20\": 3, \"8\": 4, \"5\": 1, \"12\": 2, \"26\": 1, \"50\": 2, \"6\": 3, \"54\": 1, \"21\": 1, \"53\": 2}, \"36\": {\"36\": 60, \"33\": 1, \"40\": 4, \"14\": 1, \"11\": 1, \"43\": 2, \"23\": 1, \"29\": 4, \"34\": 5, \"47\": 3, \"16\": 2, \"44\": 4, \"2\": 1, \"15\": 1, \"57\": 1, \"3\": 1}, \"27\": {\"27\": 93, \"9\": 14, \"53\": 12, \"8\": 10, \"48\": 4, \"32\": 1, \"30\": 2, \"1\": 1, \"6\": 2, \"45\": 1}, \"32\": {\"27\": 3, \"32\": 26, \"7\": 2, \"12\": 1}, \"52\": {\"52\": 108, \"57\": 19, \"46\": 3}, \"0\": {\"0\": 115, \"56\": 3, \"29\": 1, \"31\": 2, \"15\": 3}, \"26\": {\"26\": 24}, \"1\": {\"30\": 11, \"1\": 114, \"7\": 1, \"26\": 1, \"53\": 3, \"8\": 1, \"17\": 1, \"6\": 3, \"48\": 11, \"19\": 2}, \"53\": {\"53\": 105, \"9\": 3, \"7\": 1, \"32\": 1, \"27\": 2, \"51\": 2, \"55\": 1, \"8\": 14, \"30\": 8, \"1\": 4, \"5\": 1, \"48\": 2, \"19\": 1, \"20\": 1}, \"25\": {\"25\": 112, \"50\": 6, \"19\": 11, \"21\": 10, \"27\": 2, \"41\": 1, \"5\": 1, \"36\": 1}, \"24\": {\"24\": 74, \"56\": 5, \"35\": 1}, \"7\": {\"7\": 29, \"1\": 1, \"48\": 2}, \"18\": {\"18\": 60, \"23\": 2, \"54\": 2}, \"20\": {\"20\": 116, \"51\": 16, \"50\": 5, \"9\": 4, \"45\": 2, \"8\": 1}, \"33\": {\"33\": 29, \"49\": 1, \"47\": 2}, \"55\": {\"55\": 121, \"12\": 3, \"4\": 2, \"20\": 3, \"9\": 5, \"45\": 3, \"6\": 1, \"27\": 1, \"48\": 1}, \"41\": {\"41\": 23, \"57\": 4, \"46\": 1}, \"42\": {\"42\": 32, \"23\": 2, \"52\": 3, \"40\": 1, \"18\": 2}, \"49\": {\"49\": 34, \"14\": 1, \"34\": 1}, \"13\": {\"13\": 141, \"10\": 7}, \"38\": {\"38\": 25, \"26\": 3, \"17\": 4}, \"2\": {\"2\": 20, \"11\": 1, \"56\": 1, \"47\": 1, \"29\": 1, \"28\": 1, \"43\": 1, \"40\": 1, \"36\": 1}, \"47\": {\"47\": 76, \"41\": 1, \"46\": 8, \"16\": 2, \"33\": 1, \"14\": 1, \"11\": 2, \"3\": 1, \"52\": 1, \"36\": 4, \"34\": 1, \"28\": 1, \"43\": 1}, \"17\": {\"17\": 111, \"48\": 1, \"26\": 2, \"38\": 1, \"6\": 1}, \"11\": {\"11\": 119, \"43\": 16, \"15\": 13, \"3\": 1, \"35\": 1, \"46\": 1, \"28\": 1, \"36\": 1, \"29\": 1}, \"29\": {\"29\": 126, \"11\": 2, \"43\": 1, \"15\": 1, \"0\": 2}, \"50\": {\"50\": 68, \"20\": 7, \"25\": 10, \"45\": 7, \"51\": 4, \"18\": 1, \"21\": 8, \"9\": 7, \"19\": 4, \"57\": 1, \"54\": 3, \"4\": 3, \"55\": 3, \"27\": 2, \"8\": 3, \"1\": 4, \"44\": 1, \"6\": 1, \"53\": 1}, \"56\": {\"56\": 132, \"0\": 7, \"24\": 5, \"29\": 3, \"15\": 1}, \"15\": {\"15\": 122, \"43\": 12, \"11\": 4, \"31\": 1, \"14\": 1, \"29\": 1, \"0\": 1}}, \"W_2\": {\"115\": {\"115\": 11, \"11\": 1}, \"34\": {\"34\": 10, \"129\": 1, \"59\": 1, \"124\": 2, \"110\": 2, \"42\": 1, \"11\": 1, \"79\": 2, \"111\": 1, \"95\": 1, \"54\": 1, \"32\": 1, \"8\": 1, \"86\": 2, \"107\": 1, \"108\": 1, \"41\": 1, \"122\": 1, \"98\": 1}, \"97\": {\"97\": 5, \"27\": 2, \"0\": 2, \"90\": 1, \"94\": 2, \"30\": 1, \"77\": 2, \"111\": 2, \"101\": 1, \"52\": 2}, \"100\": {\"100\": 12, \"1\": 1, \"84\": 1, \"116\": 2}, \"129\": {\"129\": 17, \"32\": 3, \"11\": 1, \"47\": 1, \"112\": 1, \"62\": 1, \"12\": 1, \"19\": 2, \"5\": 2, \"105\": 2, \"3\": 1}, \"90\": {\"90\": 81, \"70\": 4, \"18\": 3, \"99\": 1, \"39\": 3, \"26\": 1, \"109\": 8, \"88\": 8, \"113\": 2, \"117\": 1, \"16\": 6, \"87\": 4, \"93\": 15, \"83\": 1, \"126\": 2, \"84\": 1, \"69\": 1}, \"125\": {\"125\": 118, \"107\": 1, \"27\": 3, \"98\": 2, \"106\": 3, \"24\": 4, \"39\": 1}, \"7\": {\"7\": 73, \"95\": 2, \"17\": 1, \"56\": 1, \"86\": 1, \"98\": 5, \"114\": 6, \"12\": 3, \"71\": 5, \"40\": 3, \"8\": 2, \"4\": 3, \"5\": 2, \"24\": 2, \"18\": 1, \"108\": 4, \"122\": 4, \"105\": 2, \"124\": 1, \"120\": 1, \"110\": 1, \"30\": 1, \"26\": 1, \"29\": 1, \"11\": 1, \"43\": 1}, \"92\": {\"100\": 2, \"92\": 19, \"105\": 1, \"128\": 1, \"55\": 2, \"67\": 1, \"32\": 1, \"76\": 1}, \"114\": {\"114\": 79, \"4\": 5, \"88\": 1, \"40\": 1, \"107\": 2, \"106\": 1, \"71\": 8, \"124\": 5, \"7\": 3, \"98\": 3, \"95\": 2, \"32\": 1, \"41\": 2, \"122\": 1, \"5\": 1, \"36\": 1}, \"80\": {\"80\": 12, \"62\": 1, \"73\": 1, \"37\": 1, \"83\": 1}, \"16\": {\"16\": 55, \"93\": 10, \"83\": 1, \"60\": 2, \"121\": 2, \"87\": 8, \"26\": 9, \"62\": 1, \"126\": 8, \"70\": 3, \"39\": 1, \"69\": 3, \"44\": 4, \"90\": 3, \"81\": 1, \"96\": 1, \"31\": 1, \"109\": 1, \"72\": 1, \"88\": 3, \"102\": 3, \"2\": 1}, \"69\": {\"69\": 100, \"26\": 5, \"113\": 1, \"102\": 3, \"90\": 1, \"21\": 1, \"109\": 1, \"33\": 2, \"16\": 2}, \"102\": {\"33\": 5, \"102\": 87, \"13\": 2, \"116\": 1, \"1\": 2, \"69\": 7, \"87\": 4, \"84\": 2, \"31\": 2, \"16\": 1, \"118\": 1}, \"33\": {\"33\": 110, \"14\": 1, \"87\": 4, \"1\": 4, \"102\": 5, \"84\": 3, \"43\": 1, \"69\": 2}, \"17\": {\"34\": 2, \"86\": 2, \"54\": 1, \"17\": 7, \"83\": 1, \"41\": 1, \"4\": 1, \"40\": 1}, \"27\": {\"27\": 28, \"41\": 1, \"36\": 5, \"12\": 4, \"101\": 2, \"91\": 2, \"106\": 4, \"127\": 1, \"125\": 4, \"94\": 1, \"24\": 1, \"126\": 1, \"109\": 1, \"114\": 1, \"9\": 3, \"65\": 1, \"124\": 1, \"52\": 1, \"88\": 1, \"15\": 2, \"30\": 2, \"0\": 1}, \"117\": {\"117\": 91, \"113\": 2, \"18\": 6, \"90\": 1, \"39\": 2, \"23\": 2, \"120\": 1, \"93\": 1}, \"14\": {\"19\": 1, \"14\": 32, \"112\": 1, \"78\": 3, \"62\": 3, \"129\": 2, \"23\": 1, \"96\": 1, \"108\": 1, \"128\": 1, \"21\": 1, \"107\": 1}, \"86\": {\"86\": 31, \"8\": 1}, \"0\": {\"0\": 50, \"21\": 1, \"25\": 1, \"77\": 1, \"120\": 1, \"29\": 3, \"101\": 12, \"127\": 6, \"122\": 2, \"111\": 6, \"94\": 2, \"98\": 4, \"8\": 5, \"4\": 1, \"12\": 2, \"7\": 2, \"30\": 7, \"68\": 1, \"97\": 1, \"15\": 1, \"24\": 2, \"23\": 1, \"39\": 1, \"108\": 3}, \"62\": {\"62\": 106, \"46\": 1, \"70\": 4, \"1\": 5, \"43\": 7, \"88\": 2, \"44\": 2, \"33\": 4, \"10\": 1, \"14\": 3, \"101\": 1, \"84\": 1, \"90\": 1}, \"39\": {\"39\": 33, \"109\": 12, \"113\": 4, \"88\": 6, \"2\": 1, \"116\": 1, \"69\": 6, \"90\": 4, \"83\": 3, \"117\": 3, \"126\": 2, \"102\": 4, \"87\": 4, \"70\": 3, \"62\": 1, \"44\": 2, \"40\": 1, \"119\": 1, \"21\": 1, \"80\": 2, \"120\": 1, \"31\": 1, \"93\": 2, \"18\": 3, \"16\": 4, \"84\": 2, \"26\": 5}, \"19\": {\"3\": 1, \"19\": 13, \"59\": 1, \"22\": 1, \"107\": 2, \"37\": 1, \"45\": 1, \"110\": 1, \"129\": 1, \"38\": 1, \"112\": 1, \"62\": 1, \"10\": 2, \"40\": 1}, \"44\": {\"44\": 79, \"83\": 2, \"126\": 5, \"109\": 1, \"87\": 1, \"70\": 3, \"90\": 2, \"88\": 4, \"84\": 1, \"78\": 2}, \"104\": {\"17\": 3, \"86\": 3, \"51\": 1, \"12\": 1, \"104\": 8, \"108\": 1, \"4\": 1, \"54\": 1, \"32\": 1}, \"3\": {\"104\": 2, \"10\": 1, \"3\": 81, \"19\": 1, \"107\": 4, \"98\": 2, \"122\": 4, \"1\": 1, \"5\": 6, \"70\": 3, \"71\": 3, \"90\": 2, \"40\": 3, \"114\": 1, \"105\": 7, \"109\": 1, \"42\": 2, \"11\": 1, \"117\": 1, \"43\": 1, \"62\": 1, \"108\": 2}, \"10\": {\"19\": 2, \"44\": 1, \"113\": 1, \"10\": 26, \"109\": 2, \"74\": 1, \"30\": 1, \"53\": 1, \"120\": 1, \"1\": 1, \"129\": 2, \"11\": 2, \"70\": 1, \"8\": 1, \"105\": 1, \"122\": 3, \"42\": 1, \"21\": 2, \"43\": 1, \"110\": 1, \"78\": 1, \"29\": 2, \"24\": 1, \"88\": 2, \"107\": 1, \"111\": 1}, \"61\": {\"61\": 12, \"121\": 1, \"90\": 1, \"80\": 1, \"78\": 2, \"39\": 2, \"22\": 1}, \"111\": {\"101\": 5, \"103\": 1, \"111\": 74, \"127\": 9, \"34\": 2, \"12\": 7, \"24\": 3, \"94\": 2, \"30\": 6, \"15\": 1, \"0\": 1, \"68\": 1, \"98\": 1, \"7\": 1}, \"68\": {\"86\": 1, \"103\": 1, \"68\": 7, \"104\": 2, \"98\": 1, \"58\": 2, \"51\": 2}, \"101\": {\"103\": 2, \"101\": 119, \"58\": 2, \"21\": 1, \"94\": 1, \"30\": 5, \"0\": 8, \"4\": 1, \"113\": 1, \"15\": 1, \"24\": 2, \"36\": 1}, \"36\": {\"103\": 1, \"101\": 9, \"121\": 1, \"36\": 46, \"97\": 1, \"27\": 5, \"58\": 1, \"34\": 3, \"30\": 9, \"9\": 3, \"18\": 1, \"6\": 2, \"111\": 2, \"94\": 2, \"127\": 2, \"125\": 13, \"98\": 3, \"24\": 1, \"0\": 1, \"109\": 4, \"106\": 5, \"51\": 1, \"90\": 1, \"59\": 1, \"15\": 8, \"124\": 1, \"117\": 1}, \"120\": {\"120\": 20}, \"103\": {\"103\": 14, \"51\": 1, \"54\": 1}, \"47\": {\"76\": 1, \"47\": 8, \"37\": 1, \"129\": 1, \"50\": 1}, \"98\": {\"86\": 2, \"98\": 62, \"104\": 1, \"34\": 2, \"30\": 3, \"24\": 3, \"124\": 4, \"12\": 6, \"85\": 2, \"114\": 4, \"11\": 2, \"4\": 2, \"94\": 1, \"127\": 2, \"111\": 1, \"101\": 3, \"7\": 7, \"71\": 1, \"0\": 4, \"87\": 1, \"35\": 1, \"122\": 1, \"41\": 2, \"106\": 1, \"15\": 2}, \"76\": {\"76\": 10, \"37\": 2, \"45\": 1, \"49\": 1, \"105\": 1, \"11\": 1}, \"88\": {\"88\": 53, \"16\": 9, \"118\": 2, \"39\": 2, \"84\": 1, \"63\": 4, \"126\": 6, \"14\": 1, \"18\": 1, \"90\": 4, \"109\": 17, \"83\": 2, \"44\": 2, \"62\": 2, \"70\": 3, \"93\": 4, \"87\": 3, \"78\": 2, \"26\": 1, \"113\": 1, \"105\": 1, \"102\": 1, \"1\": 1, \"69\": 1}, \"93\": {\"93\": 82, \"88\": 4, \"96\": 2, \"109\": 2, \"16\": 9, \"2\": 1, \"90\": 6, \"26\": 8, \"118\": 2, \"21\": 1, \"39\": 3, \"87\": 7, \"70\": 3, \"117\": 1, \"69\": 4, \"81\": 1, \"102\": 1, \"126\": 1}, \"23\": {\"120\": 1, \"111\": 1, \"23\": 6, \"19\": 1, \"99\": 4, \"11\": 1, \"107\": 1, \"44\": 1, \"29\": 1, \"18\": 1, \"7\": 2, \"88\": 1, \"117\": 2, \"5\": 1, \"4\": 2, \"94\": 1, \"109\": 1, \"8\": 2, \"66\": 1, \"126\": 2, \"12\": 2, \"71\": 1, \"39\": 1, \"34\": 1, \"108\": 1, \"90\": 1, \"105\": 1, \"113\": 3}, \"108\": {\"86\": 2, \"74\": 1, \"10\": 1, \"110\": 1, \"122\": 16, \"112\": 1, \"24\": 1, \"129\": 3, \"47\": 1, \"108\": 26, \"37\": 1, \"128\": 3, \"7\": 6, \"79\": 1, \"124\": 9, \"127\": 3, \"105\": 2, \"78\": 1, \"5\": 2, \"30\": 3, \"109\": 1, \"12\": 3, \"71\": 3, \"0\": 2, \"98\": 3, \"8\": 7, \"114\": 3, \"40\": 3, \"101\": 3, \"91\": 1, \"4\": 2, \"35\": 1, \"15\": 2, \"11\": 3, \"43\": 1, \"111\": 1, \"3\": 1}, \"51\": {\"54\": 3, \"79\": 2, \"90\": 1, \"51\": 4, \"35\": 1, \"58\": 1, \"41\": 1, \"8\": 1, \"27\": 1, \"6\": 1, \"83\": 1, \"127\": 2, \"44\": 1}, \"13\": {\"13\": 4, \"121\": 1, \"88\": 1, \"118\": 1, \"100\": 2, \"119\": 1, \"87\": 2, \"102\": 1, \"57\": 1, \"90\": 1, \"113\": 1}, \"77\": {\"77\": 13, \"8\": 1, \"0\": 2}, \"46\": {\"46\": 10, \"84\": 2, \"62\": 1, \"82\": 2, \"14\": 1}, \"96\": {\"96\": 11, \"13\": 1, \"81\": 1, \"93\": 2, \"44\": 1, \"16\": 1, \"69\": 1, \"39\": 2}, \"119\": {\"119\": 13, \"96\": 1, \"44\": 1, \"65\": 1, \"106\": 1, \"109\": 1, \"61\": 1, \"18\": 1}, \"121\": {\"121\": 11, \"83\": 2, \"21\": 3, \"87\": 2, \"109\": 1, \"99\": 2, \"102\": 2, \"57\": 1, \"89\": 3, \"120\": 1, \"26\": 2, \"63\": 1, \"118\": 1, \"31\": 1, \"39\": 1, \"20\": 1, \"72\": 1}, \"54\": {\"54\": 10, \"41\": 1, \"104\": 2, \"68\": 1, \"34\": 3, \"111\": 1, \"121\": 1, \"127\": 1}, \"82\": {\"82\": 29, \"87\": 1, \"84\": 1, \"60\": 3, \"99\": 1, \"33\": 1}, \"12\": {\"51\": 1, \"17\": 1, \"68\": 2, \"114\": 2, \"101\": 1, \"12\": 30, \"108\": 4, \"97\": 2, \"91\": 2, \"111\": 8, \"124\": 5, \"7\": 4, \"4\": 1, \"39\": 1, \"8\": 3, \"127\": 6, \"30\": 4, \"0\": 3, \"98\": 2, \"34\": 2, \"113\": 1, \"88\": 1, \"109\": 1, \"24\": 1}, \"74\": {\"74\": 13, \"32\": 2, \"20\": 1}, \"66\": {\"66\": 18, \"6\": 1, \"27\": 1}, \"28\": {\"28\": 10, \"108\": 1, \"85\": 1, \"50\": 1, \"55\": 2, \"49\": 1, \"64\": 1, \"67\": 2, \"73\": 1}, \"52\": {\"52\": 17, \"79\": 1, \"106\": 1, \"25\": 1}, \"41\": {\"41\": 8, \"15\": 1, \"24\": 1, \"49\": 1, \"127\": 1, \"8\": 3, \"4\": 1, \"40\": 1, \"7\": 1, \"125\": 1, \"108\": 1}, \"81\": {\"81\": 21, \"117\": 2, \"18\": 1}, \"48\": {\"102\": 2, \"48\": 12, \"69\": 1, \"89\": 1, \"33\": 1, \"100\": 1, \"82\": 2}, \"113\": {\"81\": 2, \"113\": 57, \"99\": 2, \"117\": 6, \"18\": 1, \"2\": 1, \"21\": 2, \"39\": 1}, \"53\": {\"53\": 13, \"30\": 2, \"112\": 1}, \"15\": {\"15\": 43, \"52\": 1, \"97\": 1, \"75\": 1, \"101\": 13, \"111\": 5, \"24\": 4, \"58\": 1, \"36\": 7, \"98\": 2, \"106\": 9, \"94\": 4, \"0\": 2, \"125\": 12, \"30\": 2, \"127\": 2, \"104\": 1, \"25\": 1, \"107\": 1, \"6\": 1, \"95\": 1, \"51\": 1, \"9\": 2, \"108\": 2, \"16\": 1}, \"30\": {\"108\": 4, \"52\": 1, \"25\": 4, \"8\": 3, \"68\": 1, \"34\": 1, \"101\": 8, \"30\": 27, \"9\": 1, \"94\": 3, \"7\": 2, \"91\": 1, \"93\": 1, \"24\": 5, \"111\": 1, \"122\": 2, \"125\": 1, \"6\": 1, \"12\": 3, \"127\": 5, \"0\": 5, \"126\": 1, \"98\": 3, \"106\": 7, \"15\": 7, \"29\": 1, \"3\": 1, \"5\": 1, \"4\": 3, \"124\": 1, \"58\": 2, \"110\": 1, \"1\": 1, \"27\": 1, \"117\": 1, \"40\": 1}, \"43\": {\"73\": 1, \"70\": 10, \"90\": 6, \"14\": 2, \"118\": 2, \"44\": 8, \"129\": 2, \"43\": 29, \"78\": 2, \"3\": 5, \"1\": 3, \"87\": 4, \"88\": 6, \"93\": 4, \"109\": 2, \"126\": 2, \"62\": 6, \"84\": 3, \"105\": 5, \"40\": 5, \"71\": 2, \"49\": 1, \"80\": 1, \"20\": 1, \"42\": 1, \"7\": 1, \"107\": 1, \"10\": 4, \"76\": 1, \"83\": 1, \"16\": 2, \"5\": 1}, \"29\": {\"29\": 18, \"58\": 1, \"128\": 1, \"108\": 3, \"30\": 1, \"8\": 1, \"27\": 1, \"49\": 1, \"74\": 1, \"91\": 1, \"35\": 1, \"4\": 1, \"127\": 1}, \"109\": {\"109\": 48, \"93\": 5, \"90\": 6, \"99\": 1, \"26\": 4, \"120\": 2, \"113\": 1, \"16\": 8, \"87\": 5, \"18\": 2, \"84\": 1, \"39\": 8, \"69\": 2, \"70\": 1, \"88\": 2, \"21\": 2, \"126\": 1, \"44\": 1}, \"60\": {\"80\": 1, \"74\": 1, \"61\": 2, \"60\": 7, \"16\": 1, \"38\": 2, \"1\": 1, \"87\": 2, \"3\": 1, \"109\": 1, \"116\": 2, \"70\": 1, \"21\": 1, \"110\": 1, \"83\": 1, \"44\": 2, \"73\": 1}, \"70\": {\"109\": 8, \"80\": 1, \"1\": 9, \"113\": 5, \"76\": 1, \"21\": 5, \"110\": 3, \"10\": 1, \"126\": 2, \"62\": 4, \"11\": 1, \"70\": 22, \"23\": 1, \"105\": 3, \"93\": 4, \"88\": 12, \"43\": 9, \"117\": 2, \"3\": 4, \"122\": 3, \"40\": 1, \"90\": 6, \"46\": 1, \"64\": 1, \"39\": 3, \"107\": 1, \"18\": 1, \"78\": 1, \"72\": 1, \"14\": 1, \"8\": 1, \"33\": 1, \"16\": 1, \"71\": 2}, \"127\": {\"127\": 94, \"97\": 1, \"77\": 1, \"91\": 1, \"0\": 5, \"4\": 1, \"124\": 1, \"111\": 6, \"114\": 3, \"101\": 1, \"17\": 1, \"12\": 4, \"16\": 1, \"98\": 1, \"7\": 1, \"30\": 1, \"8\": 1}, \"32\": {\"32\": 16, \"11\": 3, \"129\": 3, \"12\": 1, \"122\": 2, \"40\": 2, \"105\": 1, \"23\": 1, \"128\": 1, \"14\": 1, \"71\": 1, \"5\": 1, \"29\": 1, \"3\": 2}, \"73\": {\"73\": 13, \"19\": 1, \"107\": 1, \"105\": 2, \"113\": 1, \"71\": 3, \"110\": 1, \"85\": 1, \"5\": 1, \"3\": 4}, \"50\": {\"50\": 12, \"9\": 1, \"21\": 1, \"101\": 1, \"5\": 1}, \"1\": {\"1\": 77, \"83\": 1, \"10\": 1, \"14\": 1, \"33\": 5, \"73\": 4, \"117\": 1, \"129\": 1, \"82\": 1, \"84\": 3, \"126\": 3, \"43\": 3, \"118\": 1, \"62\": 8, \"78\": 2, \"11\": 2, \"46\": 2, \"76\": 1, \"22\": 1, \"70\": 1, \"87\": 1, \"109\": 1, \"102\": 1, \"3\": 2}, \"106\": {\"106\": 86, \"94\": 2, \"126\": 1, \"15\": 6, \"36\": 6, \"30\": 3, \"125\": 5, \"0\": 1, \"111\": 1, \"55\": 1, \"6\": 1, \"99\": 1, \"27\": 4, \"88\": 1, \"101\": 1}, \"123\": {\"123\": 13, \"105\": 1, \"110\": 1, \"61\": 1}, \"79\": {\"79\": 14, \"97\": 1, \"0\": 1}, \"4\": {\"8\": 4, \"4\": 51, \"11\": 2, \"95\": 1, \"94\": 1, \"108\": 8, \"7\": 4, \"114\": 2, \"109\": 1, \"12\": 1, \"98\": 1, \"120\": 1, \"49\": 1, \"31\": 1, \"86\": 2, \"41\": 1, \"122\": 1, \"5\": 2, \"124\": 1, \"30\": 1, \"40\": 1}, \"2\": {\"83\": 1, \"2\": 20, \"90\": 3, \"18\": 4, \"117\": 2, \"39\": 1, \"16\": 1}, \"8\": {\"8\": 77, \"41\": 1, \"49\": 1, \"110\": 2, \"24\": 4, \"129\": 1, \"0\": 4, \"86\": 3, \"83\": 1, \"88\": 1, \"23\": 1, \"105\": 2, \"108\": 7, \"70\": 1, \"127\": 1, \"122\": 6, \"52\": 1, \"29\": 2, \"12\": 2, \"113\": 1, \"4\": 2, \"124\": 2, \"109\": 1, \"40\": 1, \"7\": 2, \"3\": 1}, \"83\": {\"83\": 20, \"90\": 5, \"109\": 2, \"93\": 4, \"39\": 3, \"87\": 1, \"120\": 1, \"44\": 1, \"21\": 1, \"117\": 1, \"126\": 1}, \"105\": {\"105\": 65, \"74\": 2, \"110\": 1, \"76\": 2, \"3\": 5, \"128\": 1, \"107\": 2, \"71\": 7, \"122\": 3, \"43\": 3, \"8\": 1, \"40\": 12, \"94\": 1, \"70\": 2, \"5\": 7, \"7\": 3, \"12\": 1, \"114\": 3, \"108\": 3, \"24\": 1, \"11\": 3, \"113\": 1, \"124\": 1}, \"5\": {\"5\": 66, \"40\": 7, \"7\": 1, \"59\": 1, \"115\": 1, \"73\": 1, \"21\": 1, \"128\": 1, \"32\": 1, \"3\": 6, \"27\": 1, \"44\": 1, \"122\": 3, \"12\": 1, \"71\": 6, \"4\": 1, \"70\": 2, \"19\": 1, \"107\": 5, \"11\": 1, \"29\": 1, \"117\": 1, \"88\": 1, \"111\": 1}, \"99\": {\"99\": 25, \"121\": 2, \"81\": 2, \"2\": 1, \"126\": 1, \"113\": 1}, \"25\": {\"25\": 16}, \"59\": {\"59\": 7, \"0\": 1, \"21\": 2, \"103\": 1, \"114\": 2, \"91\": 1, \"93\": 1, \"7\": 1}, \"42\": {\"4\": 2, \"42\": 2, \"52\": 2, \"98\": 3, \"35\": 1, \"34\": 1, \"37\": 1, \"111\": 2, \"1\": 1, \"127\": 1, \"114\": 1, \"86\": 1, \"71\": 1, \"10\": 1, \"113\": 1, \"108\": 2, \"0\": 1, \"87\": 1, \"30\": 1, \"62\": 1, \"109\": 1}, \"55\": {\"95\": 2, \"55\": 8, \"64\": 1, \"45\": 1, \"28\": 1, \"84\": 1, \"19\": 2}, \"75\": {\"127\": 2, \"94\": 2, \"75\": 10, \"6\": 2}, \"118\": {\"118\": 30, \"82\": 3, \"55\": 1, \"90\": 1, \"1\": 3, \"84\": 7, \"117\": 1, \"62\": 1, \"78\": 1, \"89\": 2, \"93\": 3, \"13\": 1, \"67\": 1, \"99\": 1, \"19\": 1, \"16\": 2, \"48\": 1, \"46\": 1, \"116\": 1, \"87\": 2, \"33\": 1, \"126\": 2, \"102\": 1}, \"95\": {\"55\": 1, \"4\": 5, \"21\": 1, \"95\": 11, \"114\": 2, \"86\": 1, \"107\": 1, \"7\": 6, \"32\": 1, \"12\": 1, \"111\": 2, \"44\": 1, \"56\": 1, \"127\": 1, \"73\": 1}, \"122\": {\"110\": 2, \"104\": 1, \"122\": 32, \"32\": 3, \"5\": 2, \"108\": 12, \"29\": 1, \"112\": 1, \"7\": 6, \"86\": 1, \"4\": 5, \"95\": 1, \"102\": 1, \"24\": 2, \"10\": 3, \"71\": 2, \"11\": 3, \"70\": 1, \"3\": 4, \"12\": 2, \"62\": 2, \"114\": 5, \"105\": 3, \"8\": 7, \"43\": 5, \"19\": 1, \"49\": 2, \"22\": 1, \"53\": 2, \"98\": 1, \"36\": 1, \"40\": 2, \"127\": 1, \"124\": 1, \"111\": 1}, \"20\": {\"20\": 16}, \"110\": {\"110\": 20, \"11\": 1, \"26\": 1, \"10\": 1, \"35\": 1, \"6\": 1, \"126\": 1, \"107\": 1, \"122\": 1, \"114\": 2, \"88\": 1, \"115\": 1, \"24\": 1, \"17\": 1, \"99\": 1, \"5\": 1, \"52\": 1, \"4\": 1, \"19\": 1, \"7\": 1}, \"65\": {\"65\": 19, \"117\": 1}, \"37\": {\"114\": 1, \"37\": 10, \"76\": 1, \"14\": 2, \"11\": 1, \"19\": 1}, \"64\": {\"64\": 15, \"28\": 1}, \"63\": {\"63\": 16, \"88\": 1, \"99\": 1, \"93\": 1, \"83\": 1}, \"40\": {\"40\": 70, \"32\": 2, \"54\": 1, \"7\": 2, \"107\": 4, \"95\": 1, \"128\": 1, \"18\": 1, \"73\": 1, \"110\": 1, \"4\": 1, \"89\": 1, \"71\": 3, \"3\": 10, \"114\": 8, \"5\": 3, \"88\": 4, \"105\": 8, \"90\": 3, \"122\": 4, \"108\": 3, \"104\": 1, \"116\": 1, \"70\": 1, \"113\": 1, \"109\": 1, \"124\": 3}, \"21\": {\"21\": 44, \"99\": 1, \"109\": 3}, \"11\": {\"7\": 3, \"11\": 18, \"108\": 4, \"32\": 2, \"42\": 1, \"110\": 3, \"49\": 1, \"128\": 2, \"105\": 8, \"30\": 1, \"62\": 2, \"122\": 2, \"8\": 3, \"5\": 5, \"124\": 1, \"4\": 3, \"43\": 1, \"98\": 1, \"3\": 3, \"24\": 1, \"27\": 1, \"80\": 1, \"18\": 1, \"114\": 2, \"58\": 1, \"88\": 2, \"40\": 1, \"14\": 1, \"78\": 1, \"41\": 1, \"73\": 1, \"15\": 2}, \"67\": {\"67\": 13, \"62\": 2, \"46\": 1}, \"91\": {\"91\": 16, \"113\": 1, \"0\": 1, \"29\": 1, \"63\": 1, \"49\": 1, \"4\": 1, \"24\": 1, \"12\": 2, \"103\": 1, \"101\": 1, \"11\": 1}, \"87\": {\"81\": 1, \"87\": 18, \"120\": 1, \"93\": 6, \"99\": 1, \"82\": 1, \"109\": 5, \"14\": 2, \"88\": 10, \"89\": 4, \"117\": 1, \"113\": 5, \"69\": 4, \"1\": 3, \"39\": 5, \"126\": 3, \"23\": 1, \"62\": 3, \"84\": 4, \"90\": 6, \"33\": 10, \"43\": 1, \"70\": 3, \"102\": 8, \"16\": 4, \"78\": 1, \"21\": 1}, \"89\": {\"89\": 26, \"87\": 3, \"118\": 2, \"39\": 1, \"18\": 1, \"82\": 2, \"48\": 1}, \"9\": {\"9\": 30, \"36\": 1, \"15\": 1}, \"124\": {\"124\": 81, \"86\": 3, \"106\": 3, \"4\": 4, \"95\": 1, \"114\": 5, \"7\": 3, \"8\": 2, \"12\": 3, \"24\": 1, \"108\": 2, \"34\": 2, \"40\": 1, \"98\": 2, \"71\": 1}, \"56\": {\"124\": 1, \"56\": 7, \"6\": 1, \"7\": 1, \"125\": 1, \"95\": 1}, \"38\": {\"38\": 13, \"1\": 1, \"23\": 2}, \"94\": {\"94\": 12, \"9\": 2, \"106\": 12, \"27\": 1, \"98\": 1, \"40\": 1, \"101\": 7, \"36\": 5, \"30\": 3, \"127\": 2, \"11\": 1, \"109\": 2, \"15\": 2, \"0\": 3, \"88\": 1, \"117\": 1, \"39\": 2, \"111\": 1, \"125\": 4, \"24\": 1}, \"6\": {\"6\": 26, \"24\": 2, \"27\": 1, \"101\": 1, \"51\": 1, \"58\": 1}, \"58\": {\"58\": 11, \"106\": 1, \"0\": 1, \"125\": 1, \"109\": 1, \"30\": 2, \"6\": 2, \"111\": 1}, \"22\": {\"22\": 11, \"43\": 1, \"59\": 1, \"129\": 1, \"7\": 2, \"105\": 1, \"23\": 2, \"122\": 1}, \"24\": {\"112\": 1, \"24\": 11, \"118\": 1, \"39\": 1, \"104\": 2, \"75\": 1, \"101\": 3, \"9\": 2, \"22\": 1, \"93\": 2, \"27\": 1, \"44\": 1, \"109\": 4, \"6\": 2, \"32\": 1, \"36\": 9, \"7\": 1, \"106\": 8, \"3\": 2, \"78\": 1, \"94\": 2, \"125\": 9, \"105\": 3, \"122\": 4, \"108\": 1, \"124\": 1, \"43\": 4, \"30\": 4, \"88\": 2, \"71\": 1, \"62\": 2, \"98\": 1, \"1\": 2, \"8\": 2, \"110\": 1, \"19\": 1, \"25\": 1, \"121\": 1, \"56\": 2, \"120\": 1, \"83\": 1, \"90\": 4, \"70\": 1, \"127\": 1, \"15\": 2, \"87\": 1, \"126\": 1, \"111\": 1}, \"57\": {\"57\": 19, \"82\": 1}, \"112\": {\"112\": 8, \"41\": 1, \"6\": 1, \"86\": 1, \"122\": 1, \"129\": 1, \"91\": 2, \"23\": 1}, \"116\": {\"82\": 2, \"118\": 2, \"113\": 1, \"72\": 1, \"33\": 2, \"126\": 1, \"116\": 8, \"117\": 1, \"62\": 1, \"1\": 1, \"87\": 3, \"57\": 1, \"109\": 2, \"93\": 1, \"46\": 1}, \"18\": {\"18\": 97, \"2\": 1, \"109\": 2, \"90\": 2, \"113\": 1, \"117\": 7, \"88\": 4, \"26\": 6, \"16\": 1, \"93\": 3, \"121\": 1, \"70\": 1, \"81\": 1, \"39\": 1}, \"49\": {\"7\": 1, \"112\": 1, \"34\": 4, \"30\": 1, \"99\": 1, \"49\": 5, \"105\": 1, \"11\": 2, \"4\": 1, \"5\": 1, \"125\": 1, \"58\": 1, \"77\": 2, \"109\": 1, \"91\": 1}, \"45\": {\"45\": 13, \"14\": 1, \"37\": 2}, \"107\": {\"19\": 1, \"73\": 1, \"108\": 3, \"95\": 1, \"114\": 4, \"49\": 1, \"82\": 1, \"3\": 3, \"107\": 14, \"40\": 5, \"71\": 3, \"16\": 1, \"5\": 5, \"90\": 1, \"29\": 1, \"105\": 2, \"24\": 1, \"117\": 1, \"63\": 1, \"120\": 1, \"17\": 1, \"42\": 1, \"39\": 1, \"110\": 1, \"41\": 1, \"32\": 1, \"98\": 1, \"9\": 1, \"122\": 2, \"87\": 1, \"11\": 1, \"7\": 1}, \"35\": {\"35\": 9, \"111\": 1, \"6\": 1, \"8\": 1}, \"78\": {\"113\": 2, \"11\": 2, \"21\": 3, \"129\": 3, \"73\": 3, \"43\": 3, \"20\": 1, \"78\": 4, \"121\": 1, \"88\": 2, \"118\": 1, \"93\": 1, \"83\": 2, \"5\": 3, \"109\": 2, \"70\": 3, \"71\": 1, \"50\": 3, \"63\": 2, \"44\": 1, \"74\": 1, \"81\": 1, \"14\": 2, \"87\": 1}, \"126\": {\"14\": 1, \"78\": 1, \"60\": 1, \"82\": 1, \"33\": 4, \"126\": 39, \"119\": 2, \"1\": 2, \"93\": 7, \"62\": 4, \"83\": 4, \"90\": 3, \"70\": 8, \"44\": 6, \"109\": 3, \"16\": 2, \"87\": 6, \"88\": 9, \"39\": 2, \"84\": 5, \"65\": 2, \"80\": 1, \"96\": 1, \"21\": 1, \"118\": 1, \"69\": 1, \"102\": 2, \"43\": 1}, \"85\": {\"85\": 22, \"95\": 1, \"40\": 4, \"98\": 1, \"55\": 1, \"73\": 1, \"124\": 1, \"14\": 1}, \"72\": {\"72\": 15, \"69\": 1, \"39\": 1, \"116\": 1, \"21\": 1, \"87\": 3, \"82\": 2, \"90\": 1, \"16\": 1, \"33\": 2}, \"26\": {\"26\": 98, \"69\": 9, \"16\": 3, \"109\": 3, \"113\": 1, \"44\": 1, \"18\": 3, \"102\": 2, \"90\": 1, \"93\": 1, \"88\": 2}, \"84\": {\"84\": 59, \"125\": 1, \"1\": 9, \"90\": 2, \"69\": 3, \"43\": 1, \"102\": 4, \"33\": 8, \"78\": 1, \"99\": 1, \"70\": 1, \"62\": 2}, \"128\": {\"11\": 1, \"107\": 1, \"96\": 1, \"38\": 2, \"42\": 1, \"111\": 1, \"3\": 2, \"105\": 1, \"10\": 2, \"30\": 1, \"97\": 1, \"79\": 1, \"0\": 2, \"101\": 1, \"122\": 1, \"127\": 2, \"73\": 1, \"43\": 2}, \"31\": {\"31\": 16, \"96\": 1, \"33\": 1, \"82\": 1, \"88\": 1}, \"71\": {\"10\": 1, \"71\": 57, \"107\": 1, \"110\": 1, \"3\": 2, \"85\": 1, \"40\": 4, \"7\": 5, \"16\": 1, \"5\": 8, \"122\": 1, \"114\": 6, \"117\": 1, \"24\": 1, \"86\": 2, \"4\": 1, \"11\": 1, \"105\": 6}}, \"C_2\": {\"49\": {\"49\": 24}, \"13\": {\"13\": 109, \"10\": 4, \"56\": 3}, \"37\": {\"37\": 35, \"38\": 1}, \"41\": {\"41\": 20}, \"15\": {\"15\": 109, \"39\": 2, \"16\": 11, \"57\": 13, \"47\": 2, \"5\": 1, \"28\": 3, \"7\": 1}, \"56\": {\"13\": 1, \"56\": 131, \"10\": 5, \"24\": 4, \"22\": 1}, \"14\": {\"13\": 3, \"14\": 11, \"56\": 1, \"10\": 2, \"31\": 5, \"37\": 2}, \"3\": {\"3\": 58, \"17\": 2, \"30\": 1, \"21\": 3, \"20\": 1, \"50\": 6, \"25\": 4, \"6\": 3, \"33\": 1, \"54\": 1, \"9\": 1, \"51\": 2, \"29\": 2, \"12\": 1, \"48\": 2, \"8\": 1, \"40\": 1, \"52\": 1, \"45\": 1}, \"38\": {\"38\": 14, \"43\": 3, \"14\": 1, \"31\": 2}, \"43\": {\"43\": 128, \"10\": 2, \"22\": 3, \"24\": 1, \"5\": 1, \"31\": 2, \"14\": 1}, \"33\": {\"3\": 2, \"33\": 21, \"46\": 5}, \"47\": {\"47\": 103, \"28\": 4, \"5\": 13, \"0\": 1, \"15\": 5, \"11\": 1, \"16\": 2, \"57\": 9}, \"30\": {\"30\": 133, \"42\": 1, \"18\": 2, \"52\": 4, \"50\": 1, \"23\": 1, \"29\": 1, \"25\": 1}, \"39\": {\"15\": 1, \"39\": 25, \"28\": 2}, \"12\": {\"12\": 66, \"20\": 2, \"32\": 2, \"54\": 2, \"26\": 2, \"36\": 4, \"45\": 8, \"6\": 1, \"53\": 2, \"17\": 2, \"48\": 1}, \"6\": {\"6\": 51, \"40\": 1, \"53\": 11, \"50\": 7, \"12\": 5, \"27\": 11, \"21\": 1, \"8\": 14, \"4\": 1, \"9\": 2, \"17\": 7, \"25\": 1, \"51\": 4, \"42\": 1, \"29\": 2, \"32\": 1, \"54\": 1, \"36\": 1, \"48\": 1, \"3\": 1}, \"51\": {\"51\": 101, \"50\": 3, \"20\": 13, \"36\": 2, \"6\": 6, \"45\": 1, \"4\": 1, \"12\": 2, \"53\": 1, \"17\": 1, \"8\": 3}, \"5\": {\"5\": 91, \"11\": 18, \"47\": 4, \"43\": 1, \"28\": 2, \"15\": 3, \"22\": 1}, \"34\": {\"34\": 25, \"3\": 2, \"29\": 1}, \"35\": {\"35\": 32}, \"0\": {\"0\": 42, \"28\": 2, \"15\": 2, \"57\": 1, \"47\": 1}, \"7\": {\"7\": 33, \"0\": 1, \"15\": 1, \"1\": 1}, \"24\": {\"24\": 91, \"56\": 2, \"22\": 1, \"43\": 1, \"10\": 1}, \"8\": {\"8\": 122, \"53\": 5, \"17\": 4, \"36\": 1, \"6\": 2, \"27\": 2}, \"20\": {\"51\": 17, \"20\": 89, \"17\": 1, \"9\": 5, \"12\": 6, \"4\": 1, \"8\": 4, \"6\": 1}, \"36\": {\"36\": 96, \"54\": 16, \"26\": 4}, \"42\": {\"42\": 31, \"33\": 1, \"46\": 4}, \"1\": {\"1\": 93, \"7\": 2, \"57\": 4, \"52\": 2, \"46\": 1, \"3\": 3, \"39\": 2, \"29\": 5}, \"4\": {\"4\": 131, \"9\": 7, \"21\": 1, \"45\": 5, \"6\": 3, \"50\": 1}, \"28\": {\"28\": 25, \"0\": 2, \"15\": 1}, \"50\": {\"50\": 70, \"17\": 3, \"34\": 1, \"6\": 15, \"53\": 18, \"19\": 1, \"40\": 3, \"3\": 2, \"48\": 3, \"9\": 1, \"8\": 8, \"32\": 1, \"33\": 1, \"51\": 2, \"45\": 1, \"4\": 3, \"25\": 2, \"27\": 1}, \"45\": {\"45\": 94, \"40\": 1, \"35\": 1, \"4\": 5, \"36\": 4, \"20\": 5, \"54\": 2, \"12\": 5, \"21\": 2, \"9\": 2, \"17\": 2, \"27\": 1, \"26\": 3, \"3\": 1}, \"18\": {\"18\": 39, \"23\": 1, \"30\": 7, \"52\": 1}, \"57\": {\"39\": 1, \"57\": 107, \"16\": 4, \"15\": 7, \"47\": 1}, \"46\": {\"42\": 4, \"25\": 4, \"46\": 70, \"2\": 4, \"29\": 24, \"57\": 1, \"44\": 3, \"47\": 1, \"3\": 1, \"52\": 1, \"40\": 3, \"19\": 2, \"11\": 2, \"55\": 2, \"23\": 1, \"35\": 1, \"33\": 1, \"1\": 2, \"15\": 1}, \"23\": {\"23\": 142, \"52\": 5, \"30\": 1}, \"27\": {\"27\": 129, \"36\": 1, \"54\": 3, \"17\": 4, \"8\": 1}, \"19\": {\"19\": 124, \"44\": 1, \"40\": 9}, \"22\": {\"22\": 92, \"31\": 3, \"56\": 12, \"14\": 1, \"10\": 8, \"43\": 7, \"24\": 7, \"13\": 6}, \"17\": {\"17\": 78, \"27\": 10, \"8\": 5, \"53\": 1, \"19\": 1, \"6\": 4, \"36\": 2, \"54\": 2, \"48\": 1}, \"55\": {\"19\": 5, \"55\": 101, \"14\": 2, \"24\": 1, \"13\": 5, \"46\": 1, \"22\": 3, \"44\": 8, \"29\": 2, \"5\": 2, \"42\": 1, \"37\": 1, \"11\": 1, \"43\": 2, \"47\": 1}, \"44\": {\"44\": 81, \"35\": 1, \"42\": 2, \"19\": 6, \"55\": 6, \"46\": 2, \"29\": 1, \"52\": 1}, \"26\": {\"26\": 20, \"54\": 3, \"36\": 1}, \"31\": {\"31\": 27, \"37\": 1}, \"16\": {\"57\": 6, \"16\": 116, \"15\": 5, \"0\": 2, \"39\": 1}, \"11\": {\"11\": 105, \"57\": 3, \"5\": 15, \"28\": 1, \"47\": 4}, \"25\": {\"25\": 87, \"30\": 9, \"19\": 6, \"40\": 7, \"29\": 4, \"3\": 3, \"9\": 5, \"35\": 1, \"21\": 1, \"50\": 3}, \"54\": {\"54\": 103, \"26\": 5}, \"32\": {\"32\": 24, \"54\": 2, \"36\": 2}, \"52\": {\"30\": 7, \"52\": 100, \"23\": 12, \"49\": 1, \"57\": 1, \"1\": 1, \"46\": 1, \"18\": 1}, \"40\": {\"40\": 128, \"44\": 1, \"42\": 1, \"19\": 1, \"46\": 1}, \"2\": {\"2\": 28, \"1\": 1, \"57\": 1, \"7\": 1, \"21\": 1}, \"10\": {\"13\": 5, \"10\": 82, \"56\": 10, \"22\": 5, \"24\": 7, \"14\": 1}, \"53\": {\"53\": 121, \"27\": 1, \"8\": 12, \"50\": 2}, \"9\": {\"9\": 135, \"51\": 1, \"6\": 2, \"40\": 1, \"4\": 4, \"50\": 2, \"25\": 1, \"53\": 1, \"21\": 2, \"20\": 1}, \"21\": {\"21\": 108, \"19\": 3, \"4\": 1, \"40\": 2, \"9\": 1, \"3\": 3, \"34\": 1, \"46\": 1}, \"48\": {\"48\": 102, \"32\": 1, \"17\": 4, \"27\": 14, \"26\": 2, \"8\": 8, \"36\": 3, \"54\": 3, \"46\": 1}, \"29\": {\"29\": 120, \"33\": 1, \"46\": 4, \"1\": 1, \"25\": 1, \"47\": 1}}, \"W_1\": {\"22\": {\"22\": 13, \"122\": 1, \"120\": 1, \"38\": 1}, \"58\": {\"58\": 9, \"30\": 2, \"32\": 1}, \"109\": {\"62\": 2, \"74\": 1, \"109\": 59, \"117\": 2, \"44\": 1, \"126\": 6, \"96\": 1, \"76\": 1, \"45\": 1, \"21\": 1, \"11\": 2, \"90\": 16, \"122\": 1, \"1\": 3, \"43\": 3, \"18\": 3, \"7\": 2, \"113\": 6, \"39\": 2, \"3\": 2, \"102\": 1, \"69\": 2, \"33\": 1, \"66\": 1, \"87\": 1, \"82\": 1, \"16\": 2}, \"77\": {\"77\": 14, \"34\": 1, \"106\": 1}, \"74\": {\"74\": 15, \"31\": 1}, \"10\": {\"58\": 2, \"53\": 1, \"91\": 1, \"15\": 3, \"106\": 4, \"10\": 26, \"87\": 1, \"105\": 3, \"4\": 1, \"127\": 6, \"107\": 5, \"101\": 1, \"93\": 3, \"44\": 2, \"43\": 3, \"62\": 1, \"98\": 2, \"0\": 5, \"122\": 4, \"111\": 1, \"108\": 4, \"110\": 9, \"12\": 9, \"71\": 1, \"70\": 1, \"40\": 1, \"90\": 1, \"126\": 6, \"19\": 1, \"55\": 1, \"49\": 1, \"84\": 2, \"8\": 1, \"88\": 1, \"27\": 1, \"94\": 1, \"124\": 1, \"113\": 1, \"24\": 2}, \"70\": {\"74\": 1, \"35\": 1, \"29\": 1, \"55\": 1, \"70\": 30, \"4\": 6, \"105\": 3, \"93\": 11, \"124\": 3, \"129\": 2, \"69\": 1, \"5\": 4, \"72\": 2, \"101\": 4, \"107\": 2, \"9\": 1, \"126\": 3, \"114\": 1, \"0\": 1, \"109\": 4, \"44\": 2, \"40\": 8, \"87\": 4, \"8\": 3, \"7\": 1, \"98\": 2, \"117\": 1, \"113\": 1, \"106\": 1, \"41\": 1, \"28\": 1, \"96\": 1, \"11\": 1, \"86\": 1, \"89\": 1, \"21\": 2, \"108\": 4, \"39\": 1, \"27\": 1, \"122\": 2, \"90\": 3, \"10\": 1, \"110\": 1, \"43\": 2}, \"84\": {\"84\": 71, \"114\": 5, \"5\": 2, \"43\": 7, \"87\": 4, \"105\": 2, \"14\": 3, \"15\": 1, \"7\": 2, \"122\": 1, \"1\": 6, \"34\": 1, \"70\": 1, \"10\": 1, \"71\": 1}, \"52\": {\"37\": 1, \"52\": 10, \"32\": 2, \"58\": 1, \"12\": 1, \"30\": 1, \"27\": 3, \"94\": 1}, \"20\": {\"22\": 1, \"20\": 8, \"32\": 1, \"120\": 2, \"38\": 1, \"87\": 1, \"62\": 2}, \"14\": {\"84\": 4, \"14\": 80, \"128\": 1, \"87\": 2, \"19\": 1, \"120\": 1, \"122\": 3, \"113\": 1, \"126\": 1, \"7\": 2}, \"37\": {\"37\": 14, \"30\": 1, \"111\": 1}, \"42\": {\"84\": 1, \"62\": 3, \"28\": 1, \"35\": 1, \"42\": 6, \"40\": 1, \"93\": 2, \"83\": 2, \"69\": 1, \"45\": 1, \"117\": 1, \"33\": 1, \"123\": 1, \"86\": 2, \"95\": 1, \"99\": 1, \"70\": 1, \"109\": 1}, \"99\": {\"62\": 2, \"99\": 11, \"14\": 1, \"129\": 1, \"78\": 2, \"33\": 1, \"2\": 2, \"69\": 3, \"82\": 1}, \"35\": {\"35\": 10, \"72\": 1, \"86\": 1}, \"62\": {\"62\": 106, \"69\": 1, \"102\": 3, \"33\": 4, \"3\": 1, \"26\": 1, \"50\": 2, \"82\": 1, \"113\": 1}, \"61\": {\"60\": 2, \"126\": 1, \"66\": 1, \"109\": 2, \"117\": 1, \"61\": 5}, \"7\": {\"7\": 97, \"24\": 1, \"116\": 1, \"83\": 1, \"129\": 1, \"86\": 2, \"122\": 7, \"1\": 10, \"43\": 4, \"69\": 1, \"84\": 5, \"126\": 3, \"70\": 1, \"62\": 2, \"5\": 2, \"3\": 1, \"11\": 1, \"87\": 1, \"39\": 1}, \"69\": {\"69\": 64, \"102\": 5, \"82\": 3, \"118\": 3, \"99\": 1, \"26\": 6, \"109\": 5, \"16\": 2, \"18\": 2, \"33\": 4, \"44\": 1, \"70\": 1, \"117\": 2, \"7\": 1, \"3\": 3, \"62\": 1}, \"55\": {\"55\": 10, \"93\": 1, \"10\": 1}, \"41\": {\"41\": 14, \"70\": 1, \"72\": 1}, \"120\": {\"120\": 18, \"8\": 1, \"80\": 1}, \"123\": {\"123\": 15, \"66\": 1}, \"97\": {\"97\": 6, \"98\": 1, \"32\": 1, \"121\": 1, \"49\": 1, \"89\": 1, \"17\": 1, \"107\": 1, \"59\": 1, \"90\": 1, \"30\": 1, \"12\": 2, \"58\": 1, \"43\": 1}, \"102\": {\"102\": 89, \"50\": 1, \"2\": 1, \"33\": 13, \"39\": 1, \"69\": 8, \"118\": 1, \"18\": 1, \"82\": 2, \"3\": 1, \"109\": 1, \"11\": 1}, \"60\": {\"60\": 5, \"127\": 1, \"18\": 1, \"126\": 2, \"117\": 2, \"109\": 1, \"66\": 1, \"31\": 1, \"70\": 1, \"125\": 1}, \"127\": {\"127\": 73, \"32\": 2, \"27\": 2, \"3\": 1, \"71\": 4, \"90\": 1, \"107\": 1, \"106\": 2, \"98\": 1, \"110\": 2, \"113\": 1, \"88\": 3, \"0\": 1, \"111\": 5, \"121\": 1, \"72\": 2, \"15\": 1, \"12\": 3, \"24\": 2}, \"32\": {\"32\": 21, \"17\": 1, \"111\": 3, \"29\": 1, \"12\": 1, \"6\": 1, \"127\": 2, \"37\": 1, \"24\": 1}, \"3\": {\"102\": 4, \"69\": 6, \"50\": 1, \"3\": 50, \"42\": 1, \"33\": 7, \"15\": 2, \"62\": 4, \"11\": 1, \"109\": 2, \"39\": 1, \"36\": 1, \"26\": 1, \"59\": 1, \"118\": 2, \"125\": 1, \"1\": 1, \"70\": 1, \"90\": 1}, \"8\": {\"8\": 84, \"70\": 8, \"108\": 10, \"88\": 1, \"24\": 2, \"10\": 1, \"126\": 3, \"110\": 1, \"43\": 2, \"124\": 2, \"14\": 1, \"12\": 1, \"93\": 4, \"40\": 1, \"5\": 1}, \"129\": {\"117\": 1, \"126\": 1, \"129\": 8, \"13\": 1, \"116\": 2, \"87\": 2, \"128\": 2, \"84\": 1, \"3\": 1, \"83\": 2, \"70\": 1, \"19\": 1, \"73\": 1, \"62\": 1, \"1\": 1, \"14\": 1, \"33\": 1}, \"119\": {\"119\": 15, \"118\": 1}, \"21\": {\"109\": 2, \"8\": 1, \"16\": 1, \"39\": 4, \"21\": 14, \"23\": 1, \"97\": 1, \"19\": 1, \"121\": 3, \"74\": 2, \"7\": 1, \"118\": 1, \"60\": 2, \"58\": 1, \"117\": 1, \"14\": 1, \"86\": 1, \"113\": 2}, \"53\": {\"58\": 1, \"29\": 1, \"53\": 10, \"0\": 1, \"85\": 1, \"101\": 1, \"17\": 1, \"110\": 2, \"23\": 1, \"127\": 1}, \"28\": {\"109\": 1, \"28\": 16, \"60\": 3}, \"117\": {\"117\": 125, \"39\": 3, \"118\": 8, \"16\": 6, \"69\": 1, \"109\": 1}, \"112\": {\"112\": 8, \"52\": 1, \"92\": 2, \"32\": 2, \"36\": 2, \"37\": 1}, \"126\": {\"126\": 45, \"10\": 2, \"80\": 1, \"93\": 2, \"122\": 3, \"74\": 1, \"43\": 14, \"44\": 2, \"128\": 3, \"87\": 7, \"7\": 4, \"90\": 7, \"70\": 3, \"12\": 1, \"1\": 6, \"16\": 1, \"26\": 1, \"84\": 12, \"109\": 6, \"113\": 2, \"106\": 1, \"5\": 1, \"11\": 1, \"14\": 4, \"118\": 1, \"39\": 1, \"8\": 1, \"107\": 1}, \"30\": {\"112\": 2, \"53\": 1, \"75\": 2, \"30\": 14, \"72\": 3, \"92\": 4, \"37\": 1, \"91\": 3, \"86\": 3, \"0\": 2, \"52\": 2, \"93\": 1, \"127\": 3, \"36\": 1, \"111\": 3, \"98\": 1, \"9\": 1, \"49\": 1, \"94\": 1, \"101\": 1, \"27\": 1, \"15\": 1}, \"105\": {\"8\": 3, \"105\": 45, \"108\": 1, \"129\": 1, \"40\": 9, \"26\": 1, \"87\": 3, \"90\": 1, \"126\": 1, \"5\": 4, \"4\": 2, \"114\": 2, \"83\": 1, \"73\": 1, \"124\": 3, \"80\": 1, \"86\": 1, \"93\": 3, \"110\": 1}, \"29\": {\"29\": 28}, \"57\": {\"57\": 12}, \"93\": {\"93\": 46, \"77\": 2, \"49\": 2, \"105\": 3, \"4\": 6, \"73\": 2, \"72\": 2, \"97\": 1, \"89\": 2, \"9\": 1, \"0\": 2, \"128\": 4, \"10\": 2, \"8\": 5, \"12\": 1, \"15\": 1, \"107\": 11, \"70\": 6, \"84\": 2, \"108\": 2, \"124\": 2, \"5\": 1, \"110\": 3, \"40\": 11, \"122\": 3, \"7\": 2, \"126\": 3, \"65\": 1, \"55\": 1, \"19\": 1, \"42\": 1, \"86\": 1, \"87\": 1, \"106\": 1, \"14\": 2, \"43\": 3}, \"17\": {\"17\": 7, \"98\": 1, \"34\": 1, \"53\": 1, \"54\": 1, \"93\": 1, \"49\": 2, \"85\": 2}, \"44\": {\"44\": 72, \"84\": 1, \"109\": 1, \"126\": 2}, \"63\": {\"63\": 9, \"2\": 1, \"117\": 1, \"102\": 1, \"95\": 1, \"16\": 1, \"11\": 1, \"26\": 1}, \"87\": {\"55\": 1, \"44\": 5, \"114\": 13, \"84\": 8, \"124\": 3, \"129\": 2, \"73\": 1, \"31\": 1, \"48\": 1, \"87\": 21, \"62\": 1, \"5\": 2, \"83\": 2, \"126\": 4, \"105\": 7, \"43\": 4, \"113\": 2, \"122\": 6, \"10\": 2, \"118\": 1, \"40\": 3, \"14\": 2, \"7\": 1, \"70\": 3, \"93\": 1, \"57\": 1, \"104\": 2, \"65\": 2, \"86\": 1, \"79\": 1, \"38\": 2, \"109\": 1, \"4\": 1}, \"0\": {\"98\": 5, \"93\": 2, \"85\": 1, \"72\": 2, \"103\": 1, \"5\": 1, \"97\": 2, \"71\": 6, \"27\": 2, \"106\": 1, \"89\": 1, \"110\": 5, \"12\": 5, \"0\": 23, \"101\": 4, \"127\": 3, \"39\": 1, \"88\": 2, \"4\": 2, \"108\": 1, \"91\": 1, \"6\": 1, \"111\": 2, \"24\": 1, \"15\": 4, \"124\": 1, \"29\": 2, \"94\": 1, \"40\": 1}, \"96\": {\"96\": 14, \"78\": 1, \"126\": 1, \"46\": 1, \"70\": 2, \"18\": 1}, \"98\": {\"17\": 1, \"98\": 51, \"49\": 1, \"34\": 1, \"32\": 4, \"106\": 8, \"89\": 1, \"127\": 2, \"88\": 1, \"110\": 8, \"111\": 4, \"24\": 1, \"12\": 2, \"107\": 4, \"0\": 6, \"97\": 1, \"68\": 2, \"85\": 1, \"9\": 1, \"30\": 1, \"27\": 3, \"71\": 2, \"15\": 2}, \"75\": {\"75\": 14, \"70\": 1, \"10\": 1}, \"78\": {\"87\": 1, \"96\": 1, \"78\": 2, \"129\": 1, \"41\": 2, \"21\": 2, \"18\": 1, \"81\": 2, \"105\": 1, \"80\": 1, \"117\": 1, \"43\": 1}, \"116\": {\"109\": 2, \"116\": 8, \"3\": 1, \"50\": 3, \"90\": 4, \"7\": 1, \"16\": 1, \"21\": 1, \"63\": 1, \"26\": 2, \"62\": 1, \"82\": 1, \"33\": 2, \"67\": 1, \"11\": 1, \"13\": 1, \"94\": 1}, \"114\": {\"81\": 1, \"114\": 90, \"38\": 2, \"87\": 4, \"9\": 1, \"5\": 4, \"1\": 4, \"83\": 2, \"90\": 1, \"43\": 1, \"124\": 2, \"108\": 1, \"84\": 4, \"70\": 2, \"12\": 1, \"14\": 4, \"121\": 1, \"105\": 2, \"40\": 1}, \"103\": {\"103\": 6, \"77\": 3, \"46\": 1, \"40\": 1, \"0\": 1, \"30\": 1, \"112\": 1, \"68\": 1, \"91\": 1}, \"50\": {\"50\": 16}, \"124\": {\"87\": 3, \"124\": 93, \"19\": 1, \"105\": 5, \"83\": 1, \"5\": 1, \"4\": 4, \"108\": 5, \"114\": 7, \"8\": 2, \"40\": 4, \"70\": 2}, \"5\": {\"5\": 56, \"41\": 1, \"35\": 2, \"114\": 2, \"87\": 1, \"40\": 5, \"105\": 4, \"84\": 1, \"4\": 3, \"124\": 3, \"93\": 2, \"86\": 2, \"9\": 2, \"34\": 2, \"18\": 1, \"111\": 1}, \"73\": {\"73\": 14, \"103\": 1, \"108\": 1, \"80\": 2, \"5\": 1, \"105\": 1}, \"81\": {\"81\": 26, \"115\": 1, \"1\": 1}, \"49\": {\"49\": 5, \"109\": 1, \"98\": 1, \"105\": 1, \"32\": 1, \"97\": 1, \"34\": 1, \"9\": 2, \"93\": 2, \"5\": 2, \"85\": 1, \"29\": 1, \"27\": 1}, \"16\": {\"16\": 59, \"117\": 5, \"123\": 1, \"39\": 2, \"2\": 1, \"109\": 6, \"118\": 10, \"26\": 8, \"18\": 6, \"70\": 1, \"113\": 2, \"90\": 2, \"95\": 2, \"11\": 2, \"69\": 1}, \"101\": {\"101\": 119, \"72\": 1, \"24\": 3, \"29\": 1}, \"125\": {\"37\": 1, \"125\": 89, \"92\": 2, \"94\": 1, \"36\": 16, \"27\": 6, \"88\": 2, \"15\": 1}, \"65\": {\"16\": 1, \"65\": 5, \"92\": 1, \"67\": 1, \"33\": 2, \"18\": 1, \"109\": 1}, \"66\": {\"28\": 1, \"39\": 1, \"66\": 10, \"64\": 1, \"90\": 1, \"26\": 1, \"76\": 1}, \"79\": {\"101\": 1, \"79\": 8, \"105\": 1, \"22\": 2}, \"39\": {\"39\": 48, \"16\": 8, \"123\": 1, \"13\": 1, \"117\": 13, \"95\": 1, \"26\": 5, \"18\": 9, \"118\": 1, \"70\": 2, \"113\": 9, \"109\": 3, \"90\": 3}, \"104\": {\"96\": 2, \"104\": 12, \"21\": 1, \"126\": 1}, \"91\": {\"97\": 2, \"30\": 1, \"40\": 1, \"91\": 11, \"53\": 1, \"110\": 1, \"108\": 1, \"49\": 1, \"34\": 1, \"72\": 3, \"0\": 1, \"10\": 2, \"93\": 2}, \"25\": {\"25\": 11, \"80\": 1, \"1\": 1, \"11\": 1, \"22\": 2}, \"64\": {\"64\": 14, \"28\": 1, \"70\": 1}, \"34\": {\"43\": 3, \"32\": 1, \"48\": 1, \"49\": 1, \"93\": 2, \"106\": 3, \"71\": 3, \"36\": 2, \"6\": 2, \"85\": 1, \"5\": 2, \"17\": 1, \"92\": 1, \"77\": 1, \"70\": 1, \"104\": 1, \"1\": 1, \"125\": 1, \"84\": 1, \"94\": 1, \"87\": 2}, \"82\": {\"82\": 22, \"33\": 8, \"69\": 1, \"128\": 1, \"7\": 2, \"100\": 2}, \"18\": {\"18\": 93, \"2\": 4, \"117\": 5, \"39\": 6, \"113\": 10, \"16\": 4, \"90\": 1, \"26\": 1}, \"43\": {\"64\": 1, \"43\": 34, \"128\": 3, \"117\": 1, \"23\": 1, \"78\": 1, \"41\": 1, \"76\": 1, \"84\": 11, \"5\": 3, \"70\": 5, \"129\": 2, \"14\": 4, \"114\": 9, \"40\": 2, \"12\": 1, \"1\": 2, \"107\": 1, \"90\": 4, \"87\": 5, \"105\": 3, \"113\": 1, \"109\": 4, \"44\": 4, \"122\": 6, \"10\": 1, \"7\": 3, \"126\": 4, \"80\": 1, \"106\": 1, \"19\": 1, \"83\": 2, \"42\": 1, \"74\": 1, \"39\": 1, \"102\": 1, \"124\": 1}, \"47\": {\"97\": 1, \"47\": 10, \"93\": 1}, \"108\": {\"127\": 1, \"17\": 1, \"108\": 36, \"105\": 1, \"70\": 7, \"31\": 1, \"91\": 1, \"129\": 1, \"73\": 1, \"0\": 2, \"89\": 1, \"72\": 2, \"14\": 5, \"9\": 1, \"126\": 4, \"19\": 1, \"107\": 4, \"110\": 4, \"122\": 2, \"30\": 1, \"128\": 2, \"8\": 7, \"88\": 1, \"85\": 1, \"114\": 1, \"12\": 1, \"124\": 2, \"44\": 2, \"101\": 8, \"10\": 3, \"87\": 3, \"98\": 1, \"4\": 3, \"93\": 3, \"43\": 1, \"24\": 1, \"40\": 2, \"84\": 2, \"90\": 1, \"106\": 2}, \"111\": {\"111\": 68, \"68\": 3, \"71\": 8, \"23\": 1, \"106\": 2, \"110\": 2, \"98\": 4, \"15\": 2, \"90\": 1, \"12\": 3, \"36\": 1, \"88\": 5, \"127\": 5, \"94\": 2, \"27\": 1}, \"23\": {\"116\": 2, \"111\": 4, \"24\": 1, \"62\": 2, \"3\": 2, \"110\": 1, \"12\": 1, \"55\": 1, \"109\": 1, \"23\": 1, \"98\": 1, \"105\": 1, \"106\": 1, \"11\": 2, \"127\": 1, \"69\": 2}, \"90\": {\"90\": 122, \"66\": 2, \"21\": 1, \"36\": 1, \"118\": 2, \"109\": 10, \"18\": 1, \"113\": 6, \"39\": 7, \"3\": 1, \"61\": 2, \"95\": 1, \"121\": 1, \"16\": 1, \"69\": 1, \"125\": 1}, \"4\": {\"4\": 60, \"40\": 10, \"10\": 2, \"70\": 2, \"5\": 4, \"8\": 2, \"124\": 4, \"93\": 5, \"107\": 3, \"105\": 2, \"110\": 1, \"47\": 1, \"90\": 1, \"24\": 1, \"106\": 1, \"108\": 1}, \"92\": {\"92\": 28}, \"2\": {\"90\": 2, \"2\": 11, \"50\": 1, \"117\": 2, \"82\": 3, \"26\": 1, \"102\": 3, \"16\": 1, \"18\": 3, \"118\": 1, \"7\": 1, \"15\": 1, \"11\": 1, \"33\": 1}, \"45\": {\"90\": 2, \"50\": 2, \"80\": 1, \"45\": 2, \"67\": 1, \"126\": 1, \"25\": 1, \"28\": 2}, \"68\": {\"68\": 11, \"127\": 2, \"40\": 1, \"111\": 2}, \"26\": {\"26\": 106, \"63\": 2, \"18\": 2, \"69\": 3, \"16\": 2, \"117\": 1, \"95\": 2, \"118\": 2, \"82\": 1, \"33\": 1, \"90\": 1, \"3\": 1, \"39\": 2, \"102\": 2}, \"38\": {\"38\": 13, \"43\": 2, \"129\": 1}, \"40\": {\"40\": 88, \"107\": 11, \"54\": 1, \"86\": 3, \"93\": 3, \"105\": 4, \"5\": 1, \"4\": 10, \"9\": 3, \"114\": 4, \"12\": 1, \"124\": 6, \"89\": 1, \"24\": 1, \"27\": 1, \"98\": 1, \"94\": 2, \"36\": 1}, \"80\": {\"80\": 10, \"115\": 1, \"64\": 1, \"1\": 1, \"81\": 1, \"23\": 1, \"69\": 1}, \"107\": {\"107\": 84, \"40\": 1, \"72\": 2, \"65\": 1, \"89\": 3, \"93\": 4, \"18\": 1, \"88\": 2, \"98\": 2, \"12\": 3, \"0\": 1, \"110\": 7, \"30\": 1, \"53\": 2, \"77\": 2, \"106\": 3, \"39\": 1, \"90\": 1, \"124\": 1}, \"94\": {\"98\": 3, \"94\": 32, \"106\": 1, \"59\": 1, \"101\": 1, \"125\": 4, \"71\": 2, \"36\": 12, \"127\": 8, \"88\": 5, \"12\": 7, \"27\": 2, \"0\": 2, \"111\": 2, \"37\": 1, \"6\": 1, \"92\": 2, \"110\": 1, \"15\": 4, \"24\": 1}, \"115\": {\"115\": 6, \"46\": 2, \"38\": 1, \"19\": 1, \"21\": 1, \"50\": 1}, \"46\": {\"22\": 1, \"32\": 1, \"1\": 1, \"105\": 1, \"30\": 1, \"37\": 1, \"16\": 1, \"46\": 1, \"91\": 1, \"103\": 1, \"115\": 1, \"94\": 1}, \"72\": {\"5\": 1, \"72\": 21, \"91\": 2, \"93\": 2, \"89\": 1, \"108\": 1, \"88\": 1, \"107\": 2, \"128\": 1}, \"19\": {\"19\": 24, \"93\": 1, \"14\": 1, \"1\": 1, \"129\": 1}, \"100\": {\"63\": 1, \"119\": 2, \"100\": 8, \"33\": 1, \"98\": 1, \"88\": 1, \"62\": 2}, \"76\": {\"76\": 15, \"64\": 1}, \"106\": {\"106\": 88, \"98\": 4, \"12\": 9, \"127\": 2, \"107\": 5, \"29\": 1, \"110\": 7, \"111\": 4, \"68\": 3, \"91\": 1, \"85\": 1, \"71\": 1, \"0\": 1, \"27\": 2, \"72\": 1, \"88\": 2}, \"88\": {\"94\": 6, \"88\": 17, \"59\": 1, \"9\": 3, \"125\": 7, \"52\": 1, \"24\": 2, \"6\": 2, \"26\": 1, \"87\": 1, \"108\": 1, \"36\": 11, \"15\": 3, \"71\": 5, \"101\": 9, \"93\": 7, \"10\": 5, \"27\": 9, \"12\": 6, \"4\": 5, \"70\": 1, \"98\": 4, \"110\": 4, \"111\": 2, \"51\": 2, \"72\": 3, \"37\": 1, \"0\": 5, \"29\": 1, \"34\": 1, \"124\": 1, \"18\": 1, \"8\": 2}, \"15\": {\"94\": 9, \"88\": 6, \"85\": 2, \"68\": 3, \"15\": 36, \"6\": 2, \"27\": 11, \"101\": 5, \"71\": 6, \"12\": 4, \"98\": 1, \"111\": 6, \"125\": 2, \"93\": 1, \"37\": 1, \"72\": 1, \"107\": 1, \"0\": 1, \"106\": 1, \"110\": 1, \"113\": 1, \"108\": 1, \"127\": 1, \"24\": 1}, \"54\": {\"54\": 11, \"53\": 1, \"97\": 1, \"17\": 2, \"46\": 1}, \"13\": {\"13\": 14, \"3\": 1, \"118\": 1}, \"51\": {\"51\": 14, \"36\": 2}, \"24\": {\"127\": 5, \"34\": 2, \"40\": 1, \"85\": 2, \"49\": 2, \"30\": 1, \"106\": 2, \"71\": 2, \"110\": 1, \"27\": 6, \"91\": 1, \"108\": 3, \"128\": 1, \"8\": 7, \"10\": 3, \"12\": 5, \"15\": 7, \"24\": 19, \"5\": 1, \"111\": 3, \"43\": 1, \"88\": 1, \"101\": 5, \"97\": 1, \"93\": 1, \"72\": 1, \"0\": 1, \"107\": 1, \"4\": 2, \"69\": 1, \"14\": 1, \"124\": 1, \"7\": 1}, \"48\": {\"48\": 7, \"87\": 2, \"73\": 1, \"19\": 1, \"96\": 1}, \"85\": {\"0\": 2, \"53\": 1, \"85\": 24, \"10\": 1, \"4\": 1, \"98\": 1, \"88\": 1, \"12\": 1}, \"33\": {\"33\": 112, \"3\": 5, \"102\": 11, \"62\": 2, \"69\": 6, \"82\": 3, \"50\": 1}, \"71\": {\"85\": 1, \"71\": 54, \"111\": 6, \"121\": 1, \"30\": 1, \"68\": 1, \"127\": 7, \"36\": 5, \"0\": 5, \"15\": 6, \"88\": 6, \"94\": 4, \"125\": 2, \"12\": 1, \"16\": 1, \"112\": 1, \"123\": 1, \"27\": 1, \"107\": 2, \"92\": 1, \"39\": 1}, \"6\": {\"6\": 15, \"85\": 2, \"88\": 2, \"106\": 1, \"15\": 3, \"71\": 1, \"98\": 2, \"110\": 1, \"32\": 1, \"127\": 2, \"5\": 1, \"94\": 1}, \"83\": {\"40\": 1, \"83\": 17, \"122\": 2, \"2\": 1, \"87\": 1, \"14\": 2, \"105\": 1, \"108\": 1, \"19\": 1, \"99\": 1}, \"121\": {\"90\": 2, \"123\": 2, \"121\": 16, \"18\": 2, \"117\": 2, \"76\": 2, \"118\": 1, \"42\": 2, \"95\": 2, \"2\": 1}, \"31\": {\"31\": 13, \"121\": 1, \"41\": 1, \"70\": 1}, \"67\": {\"76\": 1, \"67\": 13, \"33\": 2}, \"1\": {\"1\": 84, \"129\": 1, \"81\": 3, \"14\": 6, \"128\": 1, \"7\": 16, \"44\": 2, \"84\": 7, \"40\": 1, \"122\": 4, \"43\": 2, \"126\": 5, \"18\": 1, \"33\": 1, \"3\": 1, \"105\": 1}, \"27\": {\"27\": 34, \"56\": 1, \"98\": 2, \"59\": 1, \"88\": 6, \"101\": 4, \"125\": 7, \"12\": 3, \"71\": 3, \"18\": 1, \"15\": 5, \"106\": 1, \"0\": 1, \"36\": 4, \"110\": 1, \"94\": 3, \"10\": 1, \"91\": 1, \"30\": 3, \"112\": 1, \"24\": 2, \"85\": 1, \"37\": 1, \"127\": 4, \"29\": 1}, \"118\": {\"118\": 35, \"39\": 4, \"117\": 6, \"69\": 5, \"99\": 1, \"26\": 8, \"95\": 3, \"16\": 4, \"70\": 1, \"62\": 1, \"113\": 2, \"60\": 2, \"13\": 2, \"23\": 1, \"18\": 1, \"2\": 3, \"109\": 1, \"90\": 4}, \"56\": {\"56\": 9, \"111\": 3}, \"36\": {\"36\": 86, \"30\": 2, \"92\": 2, \"94\": 5, \"27\": 1, \"71\": 4, \"125\": 12, \"39\": 1, \"15\": 2, \"88\": 3, \"111\": 2, \"85\": 1, \"49\": 1, \"127\": 3, \"0\": 1, \"12\": 2}, \"11\": {\"67\": 2, \"1\": 3, \"11\": 52, \"22\": 2, \"118\": 1, \"62\": 10, \"87\": 1, \"102\": 10, \"3\": 4, \"33\": 9, \"124\": 1, \"126\": 3, \"114\": 3, \"69\": 2, \"117\": 2, \"43\": 2, \"26\": 3, \"7\": 3, \"111\": 1, \"84\": 1, \"79\": 1, \"19\": 1, \"128\": 1, \"81\": 2, \"90\": 3, \"109\": 2, \"40\": 1}, \"110\": {\"91\": 2, \"110\": 52, \"101\": 7, \"85\": 4, \"18\": 2, \"10\": 4, \"12\": 5, \"4\": 3, \"127\": 6, \"0\": 2, \"71\": 2, \"98\": 4, \"88\": 3, \"106\": 12, \"111\": 3, \"55\": 1, \"30\": 1, \"24\": 1, \"29\": 1, \"93\": 1, \"70\": 1, \"107\": 5}, \"89\": {\"89\": 15, \"9\": 1, \"98\": 1, \"72\": 1, \"105\": 1, \"88\": 1, \"4\": 1, \"85\": 2, \"0\": 1, \"47\": 2, \"34\": 1, \"24\": 1, \"106\": 3, \"107\": 2, \"110\": 2, \"127\": 1}, \"113\": {\"18\": 12, \"113\": 93, \"117\": 4, \"39\": 2, \"88\": 1, \"16\": 1, \"109\": 1, \"125\": 1, \"90\": 2, \"107\": 1}, \"59\": {\"59\": 8, \"30\": 2, \"112\": 2}, \"9\": {\"9\": 22, \"86\": 1, \"103\": 1, \"126\": 1, \"40\": 1, \"124\": 1, \"107\": 1, \"101\": 1, \"5\": 1, \"30\": 1, \"4\": 1}, \"86\": {\"105\": 3, \"79\": 2, \"40\": 2, \"86\": 9, \"91\": 1, \"24\": 1, \"93\": 1, \"73\": 1, \"110\": 2, \"84\": 3, \"70\": 1, \"122\": 1, \"8\": 1, \"9\": 1, \"87\": 1, \"34\": 1, \"94\": 1, \"114\": 2, \"88\": 2}, \"12\": {\"37\": 2, \"12\": 39, \"0\": 10, \"27\": 3, \"110\": 4, \"15\": 4, \"4\": 1, \"107\": 6, \"106\": 3, \"94\": 2, \"113\": 1, \"101\": 4, \"10\": 1, \"71\": 3, \"93\": 2, \"98\": 3, \"90\": 1, \"111\": 6, \"32\": 1, \"127\": 1, \"88\": 2, \"30\": 1, \"39\": 2, \"108\": 2}, \"122\": {\"87\": 5, \"122\": 25, \"126\": 5, \"42\": 1, \"83\": 1, \"73\": 1, \"44\": 4, \"21\": 1, \"124\": 4, \"84\": 6, \"43\": 5, \"14\": 8, \"114\": 8, \"70\": 4, \"1\": 2, \"90\": 1, \"105\": 3, \"5\": 2, \"8\": 1, \"113\": 1}, \"128\": {\"128\": 7, \"93\": 1, \"110\": 1, \"3\": 1, \"99\": 1, \"9\": 3, \"4\": 1, \"108\": 1, \"44\": 1, \"45\": 1, \"11\": 1, \"43\": 1, \"72\": 2, \"86\": 1, \"105\": 1}, \"95\": {\"90\": 2, \"16\": 4, \"95\": 20, \"26\": 4, \"11\": 1, \"117\": 2, \"118\": 3}}, \"C_1\": {\"9\": {\"9\": 125, \"53\": 5, \"17\": 1, \"8\": 10, \"48\": 1}, \"25\": {\"25\": 112, \"1\": 2, \"45\": 8, \"29\": 1, \"51\": 1, \"57\": 1, \"20\": 1, \"56\": 2}, \"41\": {\"41\": 24}, \"29\": {\"29\": 127, \"55\": 8, \"56\": 3, \"44\": 2}, \"46\": {\"46\": 71, \"7\": 2, \"26\": 1, \"5\": 3, \"9\": 9, \"14\": 1, \"17\": 5, \"48\": 1, \"40\": 1, \"50\": 7, \"53\": 8, \"6\": 6, \"51\": 1, \"4\": 4, \"8\": 8}, \"4\": {\"4\": 114, \"7\": 2, \"46\": 4, \"29\": 1, \"5\": 3, \"17\": 1, \"50\": 1, \"48\": 2, \"6\": 3, \"40\": 1}, \"31\": {\"31\": 22, \"24\": 4, \"10\": 1, \"11\": 1}, \"36\": {\"36\": 59, \"23\": 3, \"54\": 1, \"15\": 1}, \"20\": {\"20\": 127, \"51\": 1}, \"7\": {\"7\": 28}, \"6\": {\"6\": 57, \"4\": 3, \"2\": 3, \"48\": 20, \"17\": 3, \"9\": 1, \"50\": 6, \"8\": 1, \"5\": 1, \"53\": 1}, \"16\": {\"16\": 133, \"33\": 1, \"36\": 1, \"45\": 1, \"1\": 1, \"25\": 1}, \"17\": {\"17\": 42, \"2\": 4, \"6\": 4, \"48\": 8, \"50\": 6}, \"50\": {\"50\": 117, \"48\": 29, \"2\": 2}, \"57\": {\"57\": 129, \"56\": 13, \"19\": 2}, \"23\": {\"23\": 135, \"21\": 1}, \"3\": {\"3\": 106, \"38\": 1, \"29\": 3, \"55\": 2, \"44\": 5, \"15\": 1, \"0\": 6, \"35\": 1, \"11\": 1}, \"53\": {\"9\": 22, \"53\": 117, \"8\": 1}, \"49\": {\"49\": 32}, \"56\": {\"56\": 106, \"57\": 21, \"29\": 9, \"19\": 5, \"36\": 1, \"55\": 6, \"54\": 1, \"45\": 1, \"1\": 1, \"44\": 1}, \"51\": {\"51\": 124, \"12\": 2, \"7\": 1, \"13\": 7, \"40\": 1, \"41\": 3, \"20\": 3, \"19\": 1}, \"26\": {\"26\": 22, \"30\": 2}, \"43\": {\"49\": 1, \"43\": 121, \"24\": 3, \"27\": 14, \"52\": 1, \"28\": 1, \"10\": 2, \"47\": 1}, \"22\": {\"22\": 102, \"21\": 8, \"52\": 4, \"10\": 8, \"24\": 7, \"11\": 3, \"31\": 1, \"49\": 1, \"15\": 2}, \"45\": {\"45\": 125, \"1\": 11, \"19\": 6, \"42\": 3, \"56\": 1}, \"13\": {\"51\": 15, \"13\": 127, \"19\": 3, \"56\": 3, \"20\": 4}, \"12\": {\"12\": 102, \"40\": 3, \"1\": 1, \"20\": 6, \"13\": 1, \"5\": 1, \"29\": 2}, \"54\": {\"54\": 102, \"16\": 1, \"57\": 1}, \"24\": {\"24\": 88, \"10\": 12, \"49\": 3, \"52\": 2, \"31\": 1, \"22\": 2}, \"44\": {\"44\": 117, \"31\": 1, \"15\": 5, \"23\": 1, \"22\": 2, \"57\": 1, \"55\": 2, \"21\": 3, \"11\": 1, \"35\": 1, \"54\": 1, \"0\": 1}, \"28\": {\"28\": 19, \"47\": 2, \"24\": 2, \"10\": 1, \"52\": 4}, \"33\": {\"33\": 32}, \"38\": {\"44\": 1, \"38\": 22, \"22\": 1}, \"0\": {\"0\": 114, \"38\": 1, \"11\": 13, \"15\": 5, \"44\": 6, \"21\": 2, \"22\": 3}, \"47\": {\"47\": 121, \"28\": 2, \"35\": 2, \"52\": 10, \"3\": 1, \"27\": 1, \"22\": 1, \"0\": 2, \"11\": 12, \"24\": 1, \"44\": 1}, \"42\": {\"42\": 38, \"32\": 1, \"29\": 1}, \"34\": {\"34\": 24}, \"48\": {\"48\": 142}, \"35\": {\"35\": 34, \"0\": 2}, \"2\": {\"2\": 32, \"48\": 2, \"6\": 2}, \"30\": {\"18\": 1, \"30\": 112, \"26\": 1, \"9\": 2, \"14\": 1, \"8\": 1, \"53\": 2}, \"18\": {\"18\": 70, \"37\": 2}, \"37\": {\"37\": 32}, \"1\": {\"45\": 13, \"1\": 78, \"19\": 6, \"25\": 2, \"42\": 1}, \"11\": {\"11\": 98, \"31\": 1, \"24\": 5, \"22\": 9, \"47\": 7, \"0\": 12, \"52\": 2, \"3\": 1, \"15\": 1, \"21\": 1, \"44\": 1}, \"55\": {\"29\": 5, \"55\": 99, \"32\": 2, \"56\": 10, \"15\": 2, \"44\": 8, \"57\": 2, \"36\": 1, \"11\": 1}, \"15\": {\"15\": 133, \"23\": 3, \"21\": 5, \"0\": 4, \"44\": 3, \"22\": 2}, \"10\": {\"10\": 69, \"24\": 13, \"22\": 4, \"52\": 5, \"31\": 1, \"49\": 4}, \"27\": {\"27\": 150, \"43\": 10}, \"19\": {\"19\": 109, \"1\": 11, \"45\": 9, \"25\": 9, \"56\": 3, \"57\": 4, \"55\": 1}, \"14\": {\"30\": 4, \"14\": 11, \"26\": 1, \"50\": 1, \"17\": 1, \"42\": 1, \"9\": 1, \"8\": 1, \"2\": 1, \"6\": 2}, \"8\": {\"14\": 1, \"8\": 124, \"6\": 7, \"50\": 2, \"48\": 3, \"17\": 2, \"9\": 1}, \"5\": {\"5\": 115, \"17\": 1, \"2\": 2, \"50\": 4, \"48\": 12, \"6\": 1, \"4\": 1}, \"39\": {\"39\": 28}, \"52\": {\"49\": 6, \"52\": 71, \"47\": 16, \"11\": 6, \"10\": 7, \"27\": 6, \"24\": 2, \"21\": 1, \"43\": 2, \"0\": 4, \"22\": 1}, \"21\": {\"21\": 123, \"15\": 1}, \"40\": {\"40\": 142, \"20\": 3, \"12\": 6, \"29\": 1}, \"32\": {\"32\": 29, \"0\": 1, \"35\": 1, \"54\": 1}}, \"C_3\": {\"56\": {\"10\": 4, \"56\": 108, \"24\": 6, \"13\": 2}, \"4\": {\"4\": 130, \"27\": 7, \"45\": 1, \"6\": 3, \"55\": 1, \"41\": 1, \"9\": 1, \"53\": 2}, \"34\": {\"34\": 26, \"1\": 3, \"29\": 1, \"57\": 2}, \"52\": {\"52\": 130, \"18\": 3, \"48\": 1, \"23\": 1, \"30\": 1}, \"32\": {\"32\": 20, \"17\": 1, \"36\": 3, \"38\": 2, \"6\": 1, \"54\": 1}, \"46\": {\"26\": 3, \"46\": 79, \"18\": 1, \"44\": 3, \"3\": 13, \"29\": 7, \"9\": 3, \"47\": 2, \"25\": 9, \"1\": 4, \"6\": 2, \"55\": 3, \"40\": 2, \"41\": 2, \"4\": 1, \"52\": 1, \"5\": 1}, \"12\": {\"12\": 69, \"54\": 2, \"32\": 4, \"27\": 1, \"2\": 1, \"36\": 5, \"45\": 3, \"8\": 4, \"17\": 2, \"53\": 1}, \"20\": {\"20\": 98, \"51\": 11, \"21\": 9, \"4\": 4, \"9\": 4, \"12\": 2, \"3\": 1, \"6\": 1, \"50\": 2}, \"54\": {\"54\": 96, \"36\": 2, \"48\": 2}, \"22\": {\"22\": 90, \"24\": 8, \"43\": 14, \"13\": 11, \"14\": 3, \"10\": 4, \"31\": 2, \"56\": 3, \"28\": 5}, \"26\": {\"26\": 21, \"1\": 3}, \"31\": {\"31\": 25, \"7\": 1, \"22\": 2}, \"10\": {\"10\": 52, \"24\": 8, \"56\": 3, \"13\": 1}, \"27\": {\"27\": 127, \"33\": 1, \"6\": 2, \"50\": 2, \"4\": 2, \"8\": 3, \"17\": 3, \"53\": 4}, \"40\": {\"40\": 119, \"19\": 15, \"44\": 2}, \"28\": {\"28\": 27, \"35\": 1}, \"5\": {\"35\": 1, \"5\": 94, \"15\": 4, \"47\": 6, \"34\": 1, \"55\": 2, \"1\": 1, \"57\": 4, \"11\": 1, \"0\": 2}, \"30\": {\"30\": 110, \"48\": 5, \"17\": 1, \"21\": 1, \"53\": 1, \"6\": 2}, \"7\": {\"7\": 34, \"11\": 1, \"43\": 1}, \"18\": {\"52\": 11, \"18\": 69, \"48\": 3, \"30\": 1}, \"39\": {\"39\": 14, \"0\": 1, \"37\": 1}, \"50\": {\"12\": 1, \"50\": 75, \"9\": 7, \"27\": 14, \"48\": 1, \"40\": 2, \"51\": 3, \"41\": 2, \"53\": 9, \"29\": 3, \"4\": 2, \"6\": 5, \"30\": 2, \"19\": 1, \"3\": 3, \"8\": 1, \"21\": 3, \"46\": 1, \"36\": 1}, \"49\": {\"49\": 18, \"10\": 1, \"14\": 1}, \"43\": {\"43\": 111, \"22\": 4, \"28\": 2, \"7\": 2, \"11\": 2, \"24\": 1}, \"29\": {\"29\": 102, \"34\": 1, \"46\": 2, \"1\": 3, \"25\": 2, \"26\": 3, \"57\": 1}, \"35\": {\"35\": 26, \"37\": 1, \"5\": 1}, \"13\": {\"13\": 121, \"14\": 1, \"22\": 2}, \"36\": {\"36\": 85, \"54\": 15}, \"11\": {\"11\": 121, \"35\": 3, \"5\": 11, \"15\": 4, \"34\": 1, \"7\": 1, \"47\": 5}, \"57\": {\"57\": 112, \"15\": 7, \"1\": 3, \"47\": 1, \"34\": 1}, \"9\": {\"33\": 1, \"9\": 117, \"4\": 1, \"3\": 2, \"20\": 3, \"21\": 2, \"50\": 2, \"6\": 2}, \"25\": {\"25\": 75, \"50\": 5, \"48\": 1, \"46\": 5, \"3\": 10, \"52\": 2, \"33\": 2, \"19\": 9, \"40\": 10, \"29\": 3, \"9\": 6, \"20\": 1, \"30\": 1}, \"16\": {\"16\": 112, \"15\": 8, \"55\": 1, \"23\": 3, \"1\": 1, \"46\": 1}, \"53\": {\"53\": 100, \"8\": 16, \"17\": 2}, \"33\": {\"53\": 1, \"33\": 23, \"27\": 3, \"4\": 1}, \"51\": {\"51\": 115, \"12\": 3, \"4\": 1, \"8\": 2, \"20\": 7}, \"44\": {\"44\": 75, \"42\": 3, \"19\": 3, \"40\": 5, \"55\": 2}, \"48\": {\"48\": 83, \"30\": 9, \"12\": 1, \"8\": 10, \"54\": 1, \"17\": 2, \"19\": 1, \"53\": 3, \"36\": 2, \"40\": 1, \"50\": 1}, \"6\": {\"53\": 7, \"20\": 5, \"6\": 24, \"38\": 3, \"4\": 3, \"51\": 4, \"8\": 8, \"50\": 5, \"46\": 1, \"40\": 2, \"17\": 5, \"3\": 1, \"27\": 2, \"48\": 6, \"36\": 2, \"30\": 3, \"21\": 1, \"25\": 3, \"29\": 2, \"9\": 1}, \"23\": {\"23\": 143, \"16\": 1}, \"1\": {\"1\": 86, \"26\": 1, \"57\": 8, \"29\": 3, \"5\": 1, \"16\": 1}, \"17\": {\"38\": 3, \"17\": 89, \"54\": 4, \"36\": 5, \"8\": 7}, \"21\": {\"21\": 86, \"40\": 6, \"33\": 1, \"9\": 7, \"50\": 3, \"53\": 1, \"4\": 2, \"19\": 1, \"6\": 3, \"20\": 8, \"27\": 1, \"41\": 1, \"46\": 1, \"3\": 1}, \"14\": {\"14\": 23, \"22\": 8, \"43\": 2, \"24\": 2, \"10\": 4, \"13\": 1}, \"55\": {\"55\": 128, \"34\": 1, \"14\": 1, \"22\": 4, \"13\": 4, \"10\": 1, \"44\": 2, \"29\": 1, \"40\": 1, \"46\": 1}, \"41\": {\"41\": 25, \"6\": 3}, \"3\": {\"3\": 93, \"6\": 4, \"50\": 4, \"30\": 1, \"33\": 1, \"9\": 6, \"46\": 8, \"52\": 6, \"27\": 1, \"29\": 2, \"21\": 3, \"25\": 4, \"48\": 3, \"20\": 2}, \"38\": {\"38\": 27, \"54\": 1}, \"2\": {\"2\": 30, \"51\": 1, \"8\": 1}, \"8\": {\"8\": 119, \"38\": 1, \"17\": 11, \"53\": 10, \"36\": 1}, \"37\": {\"37\": 28}, \"45\": {\"20\": 1, \"45\": 34, \"4\": 5, \"12\": 14, \"17\": 1, \"21\": 1, \"32\": 2, \"6\": 1, \"8\": 1}, \"42\": {\"42\": 21, \"44\": 1, \"46\": 1, \"29\": 1, \"19\": 2, \"3\": 2}, \"24\": {\"24\": 92, \"10\": 6, \"56\": 6}, \"15\": {\"15\": 112, \"47\": 4, \"57\": 8, \"5\": 4, \"16\": 5, \"0\": 1, \"39\": 1, \"1\": 1}, \"0\": {\"0\": 118, \"39\": 1, \"5\": 2, \"37\": 1, \"47\": 1, \"15\": 1}, \"47\": {\"47\": 49, \"11\": 4, \"14\": 1, \"5\": 11, \"1\": 1, \"57\": 14, \"15\": 7, \"35\": 1, \"34\": 2, \"55\": 1, \"26\": 1}, \"19\": {\"19\": 112, \"40\": 7, \"44\": 1}}}, \"per_domain_accuracy\": {\"O_14\": {\"accuracy\": 0.9317708333333333, \"source?\": true}, \"O_20\": {\"accuracy\": 0.8997395833333334, \"source?\": true}, \"O_50\": {\"accuracy\": 0.9270833333333334, \"source?\": true}, \"O_26\": {\"accuracy\": 0.7760416666666666, \"source?\": true}, \"O_32\": {\"accuracy\": 0.9184895833333333, \"source?\": true}, \"O_44\": {\"accuracy\": 0.81875, \"source?\": true}, \"O_8\": {\"accuracy\": 0.896875, \"source?\": true}, \"O_38\": {\"accuracy\": 0.9239583333333333, \"source?\": true}, \"W_3\": {\"accuracy\": 0.5573144104803494, \"source?\": false}, \"C_4\": {\"accuracy\": 0.7632859281437125, \"source?\": false}, \"W_4\": {\"accuracy\": 0.4981921487603306, \"source?\": false}, \"C_5\": {\"accuracy\": 0.7875349162011173, \"source?\": false}, \"W_2\": {\"accuracy\": 0.5487869198312236, \"source?\": false}, \"C_2\": {\"accuracy\": 0.8166071428571429, \"source?\": false}, \"W_1\": {\"accuracy\": 0.5643382352941176, \"source?\": false}, \"C_1\": {\"accuracy\": 0.8464673913043478, \"source?\": false}, \"C_3\": {\"accuracy\": 0.8176470588235294, \"source?\": false}}}, \"history\": {\"epoch_indices\": [1, 2, 3, 4, 5, 6, 7, 8, 9], \"train_label_loss\": [0.7733331735312406, 0.6182113989367194, 0.42765676489548893, 0.3571703047675934, 0.31532859394141094, 0.28627637222782054, 0.2649974691806988, 0.24616509511210358, 0.2405205984425092], \"source_val_label_loss\": [4.962006568908691, 0.4997686445713043, 0.41521894931793213, 0.4295390546321869, 0.31538525223731995, 0.2875783145427704, 0.3002201318740845, 0.2883167862892151, 0.2750573754310608], \"target_val_label_loss\": [625.7081909179688, 312.26898193359375, 398.4519348144531, 451.27655029296875, 530.0050659179688, 599.624755859375, 675.1319580078125, 784.2842407226562, 834.4984741210938], \"source_val_acc_label\": [0.7694661458333333, 0.8191731770833334, 0.851953125, 0.8434895833333333, 0.8865885416666667, 0.8991861979166667, 0.8921223958333333, 0.8977213541666667, 0.9032877604166667], \"target_val_acc_label\": [0.5653487095002746, 0.652200027457441, 0.6622391543108183, 0.6593389621087314, 0.6692236408566722, 0.6609864085667215, 0.6650707029104888, 0.6609349258649094, 0.6640925315760571]}, \"dataset_metrics\": {\"source\": {\"train\": {\"n_unique_x\": 179200, \"n_unique_y\": 16, \"n_batch/episode\": 6720}, \"val\": {\"n_unique_x\": 38400, \"n_unique_y\": 16, \"n_batch/episode\": 960}, \"test\": {\"n_unique_x\": 38400, \"n_unique_y\": 16, \"n_batch/episode\": 960}}, \"target\": {\"train\": {\"n_unique_x\": 364209, \"n_unique_y\": 130, \"n_batch/episode\": 13178}, \"val\": {\"n_unique_x\": 77265, \"n_unique_y\": 130, \"n_batch/episode\": 1821}, \"test\": {\"n_unique_x\": 78390, \"n_unique_y\": 130, \"n_batch/episode\": 1852}}}}'"
      ]
     },
     "execution_count": 29,
     "metadata": {},
     "output_type": "execute_result"
    }
   ],
   "source": [
    "json.dumps(experiment)"
   ]
  }
 ],
 "metadata": {
  "celltoolbar": "Tags",
  "kernelspec": {
   "display_name": "Python 3 (ipykernel)",
   "language": "python",
   "name": "python3"
  },
  "language_info": {
   "codemirror_mode": {
    "name": "ipython",
    "version": 3
   },
   "file_extension": ".py",
   "mimetype": "text/x-python",
   "name": "python",
   "nbconvert_exporter": "python",
   "pygments_lexer": "ipython3",
   "version": "3.8.10"
  },
  "papermill": {
   "default_parameters": {},
   "duration": 1907.531713,
   "end_time": "2022-03-19T21:34:40.031226",
   "environment_variables": {},
   "exception": null,
   "input_path": "/mnt/wd500GB/CSC500/csc500-main/csc500-notebooks/templates/tl_ptn_template.ipynb",
   "output_path": "trial.ipynb",
   "parameters": {
    "parameters": {
     "BEST_MODEL_PATH": "./best_model.pth",
     "NUM_LOGS_PER_EPOCH": 10,
     "criteria_for_best": "target_accuracy",
     "dataset_seed": 420,
     "datasets": [
      {
       "domain_prefix": "C_",
       "domains": [
        1,
        2,
        3,
        4,
        5
       ],
       "episode_transforms": [],
       "labels": [
        "1-10.",
        "1-11.",
        "1-15.",
        "1-16.",
        "1-17.",
        "1-18.",
        "1-19.",
        "10-4.",
        "10-7.",
        "11-1.",
        "11-14.",
        "11-17.",
        "11-20.",
        "11-7.",
        "13-20.",
        "13-8.",
        "14-10.",
        "14-11.",
        "14-14.",
        "14-7.",
        "15-1.",
        "15-20.",
        "16-1.",
        "16-16.",
        "17-10.",
        "17-11.",
        "17-2.",
        "19-1.",
        "19-16.",
        "19-19.",
        "19-20.",
        "19-3.",
        "2-10.",
        "2-11.",
        "2-17.",
        "2-18.",
        "2-20.",
        "2-3.",
        "2-4.",
        "2-5.",
        "2-6.",
        "2-7.",
        "2-8.",
        "3-13.",
        "3-18.",
        "3-3.",
        "4-1.",
        "4-10.",
        "4-11.",
        "4-19.",
        "5-5.",
        "6-15.",
        "7-10.",
        "7-14.",
        "8-18.",
        "8-20.",
        "8-3.",
        "8-8."
       ],
       "num_examples_per_domain_per_label": -1,
       "pickle_path": "/mnt/wd500GB/CSC500/csc500-main/datasets/cores.stratified_ds.2022A.pkl",
       "source_or_target_dataset": "target",
       "x_transforms": [
        "unit_mag"
       ]
      },
      {
       "domain_prefix": "W_",
       "domains": [
        1,
        2,
        3,
        4
       ],
       "episode_transforms": [],
       "labels": [
        "1-10",
        "1-12",
        "1-14",
        "1-16",
        "1-18",
        "1-19",
        "1-8",
        "10-11",
        "10-17",
        "10-4",
        "10-7",
        "11-1",
        "11-10",
        "11-19",
        "11-20",
        "11-4",
        "11-7",
        "12-19",
        "12-20",
        "12-7",
        "13-14",
        "13-18",
        "13-19",
        "13-20",
        "13-3",
        "13-7",
        "14-10",
        "14-11",
        "14-12",
        "14-13",
        "14-14",
        "14-19",
        "14-20",
        "14-7",
        "14-8",
        "14-9",
        "15-1",
        "15-19",
        "15-6",
        "16-1",
        "16-16",
        "16-19",
        "16-20",
        "17-10",
        "17-11",
        "18-1",
        "18-10",
        "18-11",
        "18-12",
        "18-13",
        "18-14",
        "18-15",
        "18-16",
        "18-17",
        "18-19",
        "18-2",
        "18-20",
        "18-4",
        "18-5",
        "18-7",
        "18-8",
        "18-9",
        "19-1",
        "19-10",
        "19-11",
        "19-12",
        "19-13",
        "19-14",
        "19-15",
        "19-19",
        "19-2",
        "19-20",
        "19-3",
        "19-4",
        "19-6",
        "19-7",
        "19-8",
        "19-9",
        "2-1",
        "2-13",
        "2-15",
        "2-3",
        "2-4",
        "2-5",
        "2-6",
        "2-7",
        "2-8",
        "20-1",
        "20-12",
        "20-14",
        "20-15",
        "20-16",
        "20-18",
        "20-19",
        "20-20",
        "20-3",
        "20-4",
        "20-5",
        "20-7",
        "20-8",
        "3-1",
        "3-13",
        "3-18",
        "3-2",
        "3-8",
        "4-1",
        "4-10",
        "4-11",
        "5-1",
        "5-5",
        "6-1",
        "6-15",
        "6-6",
        "7-10",
        "7-11",
        "7-12",
        "7-13",
        "7-14",
        "7-7",
        "7-8",
        "7-9",
        "8-1",
        "8-13",
        "8-14",
        "8-18",
        "8-20",
        "8-3",
        "8-8",
        "9-1",
        "9-7"
       ],
       "num_examples_per_domain_per_label": -1,
       "pickle_path": "/mnt/wd500GB/CSC500/csc500-main/datasets/wisig.node3-19.stratified_ds.2022A.pkl",
       "source_or_target_dataset": "target",
       "x_transforms": [
        "unit_mag"
       ]
      },
      {
       "domain_prefix": "O_",
       "domains": [
        32,
        38,
        8,
        44,
        14,
        50,
        20,
        26
       ],
       "episode_transforms": [],
       "labels": [
        "3123D52",
        "3123D65",
        "3123D79",
        "3123D80",
        "3123D54",
        "3123D70",
        "3123D7B",
        "3123D89",
        "3123D58",
        "3123D76",
        "3123D7D",
        "3123EFE",
        "3123D64",
        "3123D78",
        "3123D7E",
        "3124E4A"
       ],
       "num_examples_per_domain_per_label": 2000,
       "pickle_path": "/mnt/wd500GB/CSC500/csc500-main/datasets/oracle.Run1_framed_2000Examples_stratified_ds.2022A.pkl",
       "source_or_target_dataset": "source",
       "x_transforms": [
        "unit_mag"
       ]
      }
     ],
     "device": "cuda",
     "experiment_name": "tl_2v2:oracle.run1.framed -> cores+wisig",
     "lr": 0.0001,
     "n_epoch": 50,
     "n_query": 2,
     "n_shot": 3,
     "n_way": 16,
     "patience": 3,
     "seed": 420,
     "test_k_factor": 2,
     "torch_default_dtype": "torch.float32",
     "train_k_factor": 3,
     "val_k_factor": 2,
     "x_net": [
      {
       "class": "nnReshape",
       "kargs": {
        "shape": [
         -1,
         1,
         2,
         256
        ]
       }
      },
      {
       "class": "Conv2d",
       "kargs": {
        "bias": false,
        "in_channels": 1,
        "kernel_size": [
         1,
         7
        ],
        "out_channels": 256,
        "padding": [
         0,
         3
        ]
       }
      },
      {
       "class": "ReLU",
       "kargs": {
        "inplace": true
       }
      },
      {
       "class": "BatchNorm2d",
       "kargs": {
        "num_features": 256
       }
      },
      {
       "class": "Conv2d",
       "kargs": {
        "bias": true,
        "in_channels": 256,
        "kernel_size": [
         2,
         7
        ],
        "out_channels": 80,
        "padding": [
         0,
         3
        ]
       }
      },
      {
       "class": "ReLU",
       "kargs": {
        "inplace": true
       }
      },
      {
       "class": "BatchNorm2d",
       "kargs": {
        "num_features": 80
       }
      },
      {
       "class": "Flatten",
       "kargs": {}
      },
      {
       "class": "Linear",
       "kargs": {
        "in_features": 20480,
        "out_features": 256
       }
      },
      {
       "class": "ReLU",
       "kargs": {
        "inplace": true
       }
      },
      {
       "class": "BatchNorm1d",
       "kargs": {
        "num_features": 256
       }
      },
      {
       "class": "Linear",
       "kargs": {
        "in_features": 256,
        "out_features": 256
       }
      }
     ]
    }
   },
   "start_time": "2022-03-19T21:02:52.499513",
   "version": "2.3.4"
  }
 },
 "nbformat": 4,
 "nbformat_minor": 5
}