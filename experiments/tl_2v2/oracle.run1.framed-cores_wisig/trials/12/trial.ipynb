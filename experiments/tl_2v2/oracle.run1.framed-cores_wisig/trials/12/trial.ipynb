{
 "cells": [
  {
   "cell_type": "markdown",
   "id": "9fea5f46",
   "metadata": {
    "papermill": {
     "duration": 0.018433,
     "end_time": "2022-03-20T00:53:39.972316",
     "exception": false,
     "start_time": "2022-03-20T00:53:39.953883",
     "status": "completed"
    },
    "tags": []
   },
   "source": [
    "# Transfer Learning Template"
   ]
  },
  {
   "cell_type": "code",
   "execution_count": 1,
   "id": "0902182a",
   "metadata": {
    "execution": {
     "iopub.execute_input": "2022-03-20T00:53:40.012661Z",
     "iopub.status.busy": "2022-03-20T00:53:40.012159Z",
     "iopub.status.idle": "2022-03-20T00:53:41.019942Z",
     "shell.execute_reply": "2022-03-20T00:53:41.019657Z"
    },
    "papermill": {
     "duration": 1.034651,
     "end_time": "2022-03-20T00:53:41.020009",
     "exception": false,
     "start_time": "2022-03-20T00:53:39.985358",
     "status": "completed"
    },
    "tags": []
   },
   "outputs": [],
   "source": [
    "%load_ext autoreload\n",
    "%autoreload 2\n",
    "%matplotlib inline\n",
    "\n",
    "    \n",
    "import os, json, sys, time, random\n",
    "import numpy as np\n",
    "import torch\n",
    "from torch.optim import Adam\n",
    "from  easydict import EasyDict\n",
    "import matplotlib.pyplot as plt\n",
    "\n",
    "from steves_models.steves_ptn import Steves_Prototypical_Network\n",
    "\n",
    "from steves_utils.lazy_iterable_wrapper import Lazy_Iterable_Wrapper\n",
    "from steves_utils.iterable_aggregator import Iterable_Aggregator\n",
    "from steves_utils.ptn_train_eval_test_jig import  PTN_Train_Eval_Test_Jig\n",
    "from steves_utils.torch_sequential_builder import build_sequential\n",
    "from steves_utils.torch_utils import get_dataset_metrics, ptn_confusion_by_domain_over_dataloader\n",
    "from steves_utils.utils_v2 import (per_domain_accuracy_from_confusion, get_datasets_base_path)\n",
    "from steves_utils.PTN.utils import independent_accuracy_assesment\n",
    "\n",
    "from torch.utils.data import DataLoader\n",
    "\n",
    "from steves_utils.stratified_dataset.episodic_accessor import Episodic_Accessor_Factory\n",
    "\n",
    "from steves_utils.ptn_do_report import (\n",
    "    get_loss_curve,\n",
    "    get_results_table,\n",
    "    get_parameters_table,\n",
    "    get_domain_accuracies,\n",
    ")\n",
    "\n",
    "from steves_utils.transforms import get_chained_transform"
   ]
  },
  {
   "cell_type": "markdown",
   "id": "41c840b4",
   "metadata": {
    "papermill": {
     "duration": 0.012688,
     "end_time": "2022-03-20T00:53:41.049737",
     "exception": false,
     "start_time": "2022-03-20T00:53:41.037049",
     "status": "completed"
    },
    "tags": []
   },
   "source": [
    "# Allowed Parameters\n",
    "These are allowed parameters, not defaults\n",
    "Each of these values need to be present in the injected parameters (the notebook will raise an exception if they are not present)\n",
    "\n",
    "Papermill uses the cell tag \"parameters\" to inject the real parameters below this cell.\n",
    "Enable tags to see what I mean"
   ]
  },
  {
   "cell_type": "code",
   "execution_count": 2,
   "id": "fd44eb83",
   "metadata": {
    "execution": {
     "iopub.execute_input": "2022-03-20T00:53:41.078379Z",
     "iopub.status.busy": "2022-03-20T00:53:41.078122Z",
     "iopub.status.idle": "2022-03-20T00:53:41.093369Z",
     "shell.execute_reply": "2022-03-20T00:53:41.093004Z"
    },
    "papermill": {
     "duration": 0.030875,
     "end_time": "2022-03-20T00:53:41.093444",
     "exception": false,
     "start_time": "2022-03-20T00:53:41.062569",
     "status": "completed"
    },
    "tags": []
   },
   "outputs": [],
   "source": [
    "required_parameters = {\n",
    "    \"experiment_name\",\n",
    "    \"lr\",\n",
    "    \"device\",\n",
    "    \"seed\",\n",
    "    \"dataset_seed\",\n",
    "    \"n_shot\",\n",
    "    \"n_query\",\n",
    "    \"n_way\",\n",
    "    \"train_k_factor\",\n",
    "    \"val_k_factor\",\n",
    "    \"test_k_factor\",\n",
    "    \"n_epoch\",\n",
    "    \"patience\",\n",
    "    \"criteria_for_best\",\n",
    "    \"x_net\",\n",
    "    \"datasets\",\n",
    "    \"torch_default_dtype\",\n",
    "    \"NUM_LOGS_PER_EPOCH\",\n",
    "    \"BEST_MODEL_PATH\",\n",
    "    \"x_shape\",\n",
    "}"
   ]
  },
  {
   "cell_type": "code",
   "execution_count": 3,
   "id": "fa3f0049",
   "metadata": {
    "execution": {
     "iopub.execute_input": "2022-03-20T00:53:41.136596Z",
     "iopub.status.busy": "2022-03-20T00:53:41.136176Z",
     "iopub.status.idle": "2022-03-20T00:53:41.149069Z",
     "shell.execute_reply": "2022-03-20T00:53:41.148650Z"
    },
    "papermill": {
     "duration": 0.035662,
     "end_time": "2022-03-20T00:53:41.149168",
     "exception": false,
     "start_time": "2022-03-20T00:53:41.113506",
     "status": "completed"
    },
    "tags": [
     "parameters"
    ]
   },
   "outputs": [],
   "source": [
    "from steves_utils.CORES.utils import (\n",
    "    ALL_NODES,\n",
    "    ALL_NODES_MINIMUM_1000_EXAMPLES,\n",
    "    ALL_DAYS\n",
    ")\n",
    "\n",
    "from steves_utils.ORACLE.utils_v2 import (\n",
    "    ALL_DISTANCES_FEET_NARROWED,\n",
    "    ALL_RUNS,\n",
    "    ALL_SERIAL_NUMBERS,\n",
    ")\n",
    "\n",
    "standalone_parameters = {}\n",
    "standalone_parameters[\"experiment_name\"] = \"STANDALONE PTN\"\n",
    "standalone_parameters[\"lr\"] = 0.001\n",
    "standalone_parameters[\"device\"] = \"cuda\"\n",
    "\n",
    "standalone_parameters[\"seed\"] = 1337\n",
    "standalone_parameters[\"dataset_seed\"] = 1337\n",
    "\n",
    "standalone_parameters[\"n_way\"] = 8\n",
    "standalone_parameters[\"n_shot\"] = 3\n",
    "standalone_parameters[\"n_query\"]  = 2\n",
    "standalone_parameters[\"train_k_factor\"] = 1\n",
    "standalone_parameters[\"val_k_factor\"] = 2\n",
    "standalone_parameters[\"test_k_factor\"] = 2\n",
    "\n",
    "\n",
    "standalone_parameters[\"n_epoch\"] = 50\n",
    "\n",
    "standalone_parameters[\"patience\"] = 10\n",
    "standalone_parameters[\"criteria_for_best\"] = \"source_loss\"\n",
    "\n",
    "standalone_parameters[\"datasets\"] = [\n",
    "    {\n",
    "        \"labels\": ALL_SERIAL_NUMBERS,\n",
    "        \"domains\": ALL_DISTANCES_FEET_NARROWED,\n",
    "        \"num_examples_per_domain_per_label\": 100,\n",
    "        \"pickle_path\": os.path.join(get_datasets_base_path(), \"oracle.Run1_framed_2000Examples_stratified_ds.2022A.pkl\"),\n",
    "        \"source_or_target_dataset\": \"source\",\n",
    "        \"x_transforms\": [\"unit_mag\", \"minus_two\"],\n",
    "        \"episode_transforms\": [],\n",
    "        \"domain_prefix\": \"ORACLE_\"\n",
    "    },\n",
    "    {\n",
    "        \"labels\": ALL_NODES,\n",
    "        \"domains\": ALL_DAYS,\n",
    "        \"num_examples_per_domain_per_label\": 100,\n",
    "        \"pickle_path\": os.path.join(get_datasets_base_path(), \"cores.stratified_ds.2022A.pkl\"),\n",
    "        \"source_or_target_dataset\": \"target\",\n",
    "        \"x_transforms\": [\"unit_power\", \"times_zero\"],\n",
    "        \"episode_transforms\": [],\n",
    "        \"domain_prefix\": \"CORES_\"\n",
    "    }   \n",
    "]\n",
    "\n",
    "standalone_parameters[\"torch_default_dtype\"] = \"torch.float32\" \n",
    "\n",
    "\n",
    "\n",
    "standalone_parameters[\"x_net\"] =     [\n",
    "    {\"class\": \"nnReshape\", \"kargs\": {\"shape\":[-1, 1, 2, 256]}},\n",
    "    {\"class\": \"Conv2d\", \"kargs\": { \"in_channels\":1, \"out_channels\":256, \"kernel_size\":(1,7), \"bias\":False, \"padding\":(0,3), },},\n",
    "    {\"class\": \"ReLU\", \"kargs\": {\"inplace\": True}},\n",
    "    {\"class\": \"BatchNorm2d\", \"kargs\": {\"num_features\":256}},\n",
    "\n",
    "    {\"class\": \"Conv2d\", \"kargs\": { \"in_channels\":256, \"out_channels\":80, \"kernel_size\":(2,7), \"bias\":True, \"padding\":(0,3), },},\n",
    "    {\"class\": \"ReLU\", \"kargs\": {\"inplace\": True}},\n",
    "    {\"class\": \"BatchNorm2d\", \"kargs\": {\"num_features\":80}},\n",
    "    {\"class\": \"Flatten\", \"kargs\": {}},\n",
    "\n",
    "    {\"class\": \"Linear\", \"kargs\": {\"in_features\": 80*256, \"out_features\": 256}}, # 80 units per IQ pair\n",
    "    {\"class\": \"ReLU\", \"kargs\": {\"inplace\": True}},\n",
    "    {\"class\": \"BatchNorm1d\", \"kargs\": {\"num_features\":256}},\n",
    "\n",
    "    {\"class\": \"Linear\", \"kargs\": {\"in_features\": 256, \"out_features\": 256}},\n",
    "]\n",
    "\n",
    "# Parameters relevant to results\n",
    "# These parameters will basically never need to change\n",
    "standalone_parameters[\"NUM_LOGS_PER_EPOCH\"] = 10\n",
    "standalone_parameters[\"BEST_MODEL_PATH\"] = \"./best_model.pth\"\n",
    "\n",
    "\n",
    "\n",
    "\n"
   ]
  },
  {
   "cell_type": "code",
   "execution_count": 4,
   "id": "e8b6191a",
   "metadata": {
    "execution": {
     "iopub.execute_input": "2022-03-20T00:53:41.194249Z",
     "iopub.status.busy": "2022-03-20T00:53:41.193919Z",
     "iopub.status.idle": "2022-03-20T00:53:41.207187Z",
     "shell.execute_reply": "2022-03-20T00:53:41.207671Z"
    },
    "papermill": {
     "duration": 0.040263,
     "end_time": "2022-03-20T00:53:41.207792",
     "exception": false,
     "start_time": "2022-03-20T00:53:41.167529",
     "status": "completed"
    },
    "tags": [
     "injected-parameters"
    ]
   },
   "outputs": [],
   "source": [
    "# Parameters\n",
    "parameters = {\n",
    "    \"experiment_name\": \"tl_2v2:oracle.run1.framed -> cores+wisig\",\n",
    "    \"device\": \"cuda\",\n",
    "    \"lr\": 0.0001,\n",
    "    \"n_shot\": 3,\n",
    "    \"n_query\": 2,\n",
    "    \"train_k_factor\": 3,\n",
    "    \"val_k_factor\": 2,\n",
    "    \"test_k_factor\": 2,\n",
    "    \"torch_default_dtype\": \"torch.float32\",\n",
    "    \"n_epoch\": 50,\n",
    "    \"patience\": 3,\n",
    "    \"criteria_for_best\": \"target_accuracy\",\n",
    "    \"x_net\": [\n",
    "        {\"class\": \"nnReshape\", \"kargs\": {\"shape\": [-1, 1, 2, 256]}},\n",
    "        {\n",
    "            \"class\": \"Conv2d\",\n",
    "            \"kargs\": {\n",
    "                \"in_channels\": 1,\n",
    "                \"out_channels\": 256,\n",
    "                \"kernel_size\": [1, 7],\n",
    "                \"bias\": False,\n",
    "                \"padding\": [0, 3],\n",
    "            },\n",
    "        },\n",
    "        {\"class\": \"ReLU\", \"kargs\": {\"inplace\": True}},\n",
    "        {\"class\": \"BatchNorm2d\", \"kargs\": {\"num_features\": 256}},\n",
    "        {\n",
    "            \"class\": \"Conv2d\",\n",
    "            \"kargs\": {\n",
    "                \"in_channels\": 256,\n",
    "                \"out_channels\": 80,\n",
    "                \"kernel_size\": [2, 7],\n",
    "                \"bias\": True,\n",
    "                \"padding\": [0, 3],\n",
    "            },\n",
    "        },\n",
    "        {\"class\": \"ReLU\", \"kargs\": {\"inplace\": True}},\n",
    "        {\"class\": \"BatchNorm2d\", \"kargs\": {\"num_features\": 80}},\n",
    "        {\"class\": \"Flatten\", \"kargs\": {}},\n",
    "        {\"class\": \"Linear\", \"kargs\": {\"in_features\": 20480, \"out_features\": 256}},\n",
    "        {\"class\": \"ReLU\", \"kargs\": {\"inplace\": True}},\n",
    "        {\"class\": \"BatchNorm1d\", \"kargs\": {\"num_features\": 256}},\n",
    "        {\"class\": \"Linear\", \"kargs\": {\"in_features\": 256, \"out_features\": 256}},\n",
    "    ],\n",
    "    \"NUM_LOGS_PER_EPOCH\": 10,\n",
    "    \"BEST_MODEL_PATH\": \"./best_model.pth\",\n",
    "    \"n_way\": 16,\n",
    "    \"datasets\": [\n",
    "        {\n",
    "            \"labels\": [\n",
    "                \"1-10.\",\n",
    "                \"1-11.\",\n",
    "                \"1-15.\",\n",
    "                \"1-16.\",\n",
    "                \"1-17.\",\n",
    "                \"1-18.\",\n",
    "                \"1-19.\",\n",
    "                \"10-4.\",\n",
    "                \"10-7.\",\n",
    "                \"11-1.\",\n",
    "                \"11-14.\",\n",
    "                \"11-17.\",\n",
    "                \"11-20.\",\n",
    "                \"11-7.\",\n",
    "                \"13-20.\",\n",
    "                \"13-8.\",\n",
    "                \"14-10.\",\n",
    "                \"14-11.\",\n",
    "                \"14-14.\",\n",
    "                \"14-7.\",\n",
    "                \"15-1.\",\n",
    "                \"15-20.\",\n",
    "                \"16-1.\",\n",
    "                \"16-16.\",\n",
    "                \"17-10.\",\n",
    "                \"17-11.\",\n",
    "                \"17-2.\",\n",
    "                \"19-1.\",\n",
    "                \"19-16.\",\n",
    "                \"19-19.\",\n",
    "                \"19-20.\",\n",
    "                \"19-3.\",\n",
    "                \"2-10.\",\n",
    "                \"2-11.\",\n",
    "                \"2-17.\",\n",
    "                \"2-18.\",\n",
    "                \"2-20.\",\n",
    "                \"2-3.\",\n",
    "                \"2-4.\",\n",
    "                \"2-5.\",\n",
    "                \"2-6.\",\n",
    "                \"2-7.\",\n",
    "                \"2-8.\",\n",
    "                \"3-13.\",\n",
    "                \"3-18.\",\n",
    "                \"3-3.\",\n",
    "                \"4-1.\",\n",
    "                \"4-10.\",\n",
    "                \"4-11.\",\n",
    "                \"4-19.\",\n",
    "                \"5-5.\",\n",
    "                \"6-15.\",\n",
    "                \"7-10.\",\n",
    "                \"7-14.\",\n",
    "                \"8-18.\",\n",
    "                \"8-20.\",\n",
    "                \"8-3.\",\n",
    "                \"8-8.\",\n",
    "            ],\n",
    "            \"domains\": [1, 2, 3, 4, 5],\n",
    "            \"num_examples_per_domain_per_label\": -1,\n",
    "            \"pickle_path\": \"/mnt/wd500GB/CSC500/csc500-main/datasets/cores.stratified_ds.2022A.pkl\",\n",
    "            \"source_or_target_dataset\": \"target\",\n",
    "            \"x_transforms\": [\"unit_power\"],\n",
    "            \"episode_transforms\": [],\n",
    "            \"domain_prefix\": \"C_\",\n",
    "        },\n",
    "        {\n",
    "            \"labels\": [\n",
    "                \"1-10\",\n",
    "                \"1-12\",\n",
    "                \"1-14\",\n",
    "                \"1-16\",\n",
    "                \"1-18\",\n",
    "                \"1-19\",\n",
    "                \"1-8\",\n",
    "                \"10-11\",\n",
    "                \"10-17\",\n",
    "                \"10-4\",\n",
    "                \"10-7\",\n",
    "                \"11-1\",\n",
    "                \"11-10\",\n",
    "                \"11-19\",\n",
    "                \"11-20\",\n",
    "                \"11-4\",\n",
    "                \"11-7\",\n",
    "                \"12-19\",\n",
    "                \"12-20\",\n",
    "                \"12-7\",\n",
    "                \"13-14\",\n",
    "                \"13-18\",\n",
    "                \"13-19\",\n",
    "                \"13-20\",\n",
    "                \"13-3\",\n",
    "                \"13-7\",\n",
    "                \"14-10\",\n",
    "                \"14-11\",\n",
    "                \"14-12\",\n",
    "                \"14-13\",\n",
    "                \"14-14\",\n",
    "                \"14-19\",\n",
    "                \"14-20\",\n",
    "                \"14-7\",\n",
    "                \"14-8\",\n",
    "                \"14-9\",\n",
    "                \"15-1\",\n",
    "                \"15-19\",\n",
    "                \"15-6\",\n",
    "                \"16-1\",\n",
    "                \"16-16\",\n",
    "                \"16-19\",\n",
    "                \"16-20\",\n",
    "                \"17-10\",\n",
    "                \"17-11\",\n",
    "                \"18-1\",\n",
    "                \"18-10\",\n",
    "                \"18-11\",\n",
    "                \"18-12\",\n",
    "                \"18-13\",\n",
    "                \"18-14\",\n",
    "                \"18-15\",\n",
    "                \"18-16\",\n",
    "                \"18-17\",\n",
    "                \"18-19\",\n",
    "                \"18-2\",\n",
    "                \"18-20\",\n",
    "                \"18-4\",\n",
    "                \"18-5\",\n",
    "                \"18-7\",\n",
    "                \"18-8\",\n",
    "                \"18-9\",\n",
    "                \"19-1\",\n",
    "                \"19-10\",\n",
    "                \"19-11\",\n",
    "                \"19-12\",\n",
    "                \"19-13\",\n",
    "                \"19-14\",\n",
    "                \"19-15\",\n",
    "                \"19-19\",\n",
    "                \"19-2\",\n",
    "                \"19-20\",\n",
    "                \"19-3\",\n",
    "                \"19-4\",\n",
    "                \"19-6\",\n",
    "                \"19-7\",\n",
    "                \"19-8\",\n",
    "                \"19-9\",\n",
    "                \"2-1\",\n",
    "                \"2-13\",\n",
    "                \"2-15\",\n",
    "                \"2-3\",\n",
    "                \"2-4\",\n",
    "                \"2-5\",\n",
    "                \"2-6\",\n",
    "                \"2-7\",\n",
    "                \"2-8\",\n",
    "                \"20-1\",\n",
    "                \"20-12\",\n",
    "                \"20-14\",\n",
    "                \"20-15\",\n",
    "                \"20-16\",\n",
    "                \"20-18\",\n",
    "                \"20-19\",\n",
    "                \"20-20\",\n",
    "                \"20-3\",\n",
    "                \"20-4\",\n",
    "                \"20-5\",\n",
    "                \"20-7\",\n",
    "                \"20-8\",\n",
    "                \"3-1\",\n",
    "                \"3-13\",\n",
    "                \"3-18\",\n",
    "                \"3-2\",\n",
    "                \"3-8\",\n",
    "                \"4-1\",\n",
    "                \"4-10\",\n",
    "                \"4-11\",\n",
    "                \"5-1\",\n",
    "                \"5-5\",\n",
    "                \"6-1\",\n",
    "                \"6-15\",\n",
    "                \"6-6\",\n",
    "                \"7-10\",\n",
    "                \"7-11\",\n",
    "                \"7-12\",\n",
    "                \"7-13\",\n",
    "                \"7-14\",\n",
    "                \"7-7\",\n",
    "                \"7-8\",\n",
    "                \"7-9\",\n",
    "                \"8-1\",\n",
    "                \"8-13\",\n",
    "                \"8-14\",\n",
    "                \"8-18\",\n",
    "                \"8-20\",\n",
    "                \"8-3\",\n",
    "                \"8-8\",\n",
    "                \"9-1\",\n",
    "                \"9-7\",\n",
    "            ],\n",
    "            \"domains\": [1, 2, 3, 4],\n",
    "            \"num_examples_per_domain_per_label\": -1,\n",
    "            \"pickle_path\": \"/mnt/wd500GB/CSC500/csc500-main/datasets/wisig.node3-19.stratified_ds.2022A.pkl\",\n",
    "            \"source_or_target_dataset\": \"target\",\n",
    "            \"x_transforms\": [\"unit_power\"],\n",
    "            \"episode_transforms\": [],\n",
    "            \"domain_prefix\": \"W_\",\n",
    "        },\n",
    "        {\n",
    "            \"labels\": [\n",
    "                \"3123D52\",\n",
    "                \"3123D65\",\n",
    "                \"3123D79\",\n",
    "                \"3123D80\",\n",
    "                \"3123D54\",\n",
    "                \"3123D70\",\n",
    "                \"3123D7B\",\n",
    "                \"3123D89\",\n",
    "                \"3123D58\",\n",
    "                \"3123D76\",\n",
    "                \"3123D7D\",\n",
    "                \"3123EFE\",\n",
    "                \"3123D64\",\n",
    "                \"3123D78\",\n",
    "                \"3123D7E\",\n",
    "                \"3124E4A\",\n",
    "            ],\n",
    "            \"domains\": [32, 38, 8, 44, 14, 50, 20, 26],\n",
    "            \"num_examples_per_domain_per_label\": 2000,\n",
    "            \"pickle_path\": \"/mnt/wd500GB/CSC500/csc500-main/datasets/oracle.Run1_framed_2000Examples_stratified_ds.2022A.pkl\",\n",
    "            \"source_or_target_dataset\": \"source\",\n",
    "            \"x_transforms\": [\"unit_power\"],\n",
    "            \"episode_transforms\": [],\n",
    "            \"domain_prefix\": \"O_\",\n",
    "        },\n",
    "    ],\n",
    "    \"seed\": 500,\n",
    "    \"dataset_seed\": 500,\n",
    "}\n"
   ]
  },
  {
   "cell_type": "code",
   "execution_count": 5,
   "id": "8fa1cc33",
   "metadata": {
    "execution": {
     "iopub.execute_input": "2022-03-20T00:53:41.243277Z",
     "iopub.status.busy": "2022-03-20T00:53:41.242896Z",
     "iopub.status.idle": "2022-03-20T00:53:41.259345Z",
     "shell.execute_reply": "2022-03-20T00:53:41.258885Z"
    },
    "papermill": {
     "duration": 0.032787,
     "end_time": "2022-03-20T00:53:41.259444",
     "exception": false,
     "start_time": "2022-03-20T00:53:41.226657",
     "status": "completed"
    },
    "tags": []
   },
   "outputs": [],
   "source": [
    "# Set this to True if you want to run this template directly\n",
    "STANDALONE = False\n",
    "if STANDALONE:\n",
    "    print(\"parameters not injected, running with standalone_parameters\")\n",
    "    parameters = standalone_parameters\n",
    "\n",
    "if not 'parameters' in locals() and not 'parameters' in globals():\n",
    "    raise Exception(\"Parameter injection failed\")\n",
    "\n",
    "#Use an easy dict for all the parameters\n",
    "p = EasyDict(parameters)\n",
    "\n",
    "if \"x_shape\" not in p:\n",
    "    p.x_shape = [2,256] # Default to this if we dont supply x_shape\n",
    "\n",
    "\n",
    "supplied_keys = set(p.keys())\n",
    "\n",
    "if  supplied_keys != required_parameters:\n",
    "    print(\"Parameters are incorrect\")\n",
    "    if len(supplied_keys - required_parameters)>0: print(\"Shouldn't have:\", str(supplied_keys - required_parameters))\n",
    "    if len(required_parameters - supplied_keys)>0: print(\"Need to have:\", str(required_parameters - supplied_keys))\n",
    "    raise RuntimeError(\"Parameters are incorrect\")"
   ]
  },
  {
   "cell_type": "code",
   "execution_count": 6,
   "id": "3a028d58",
   "metadata": {
    "execution": {
     "iopub.execute_input": "2022-03-20T00:53:41.294037Z",
     "iopub.status.busy": "2022-03-20T00:53:41.293588Z",
     "iopub.status.idle": "2022-03-20T00:53:41.308087Z",
     "shell.execute_reply": "2022-03-20T00:53:41.307605Z"
    },
    "papermill": {
     "duration": 0.029627,
     "end_time": "2022-03-20T00:53:41.308185",
     "exception": false,
     "start_time": "2022-03-20T00:53:41.278558",
     "status": "completed"
    },
    "tags": []
   },
   "outputs": [],
   "source": [
    "###################################\n",
    "# Set the RNGs and make it all deterministic\n",
    "###################################\n",
    "np.random.seed(p.seed)\n",
    "random.seed(p.seed)\n",
    "torch.manual_seed(p.seed)\n",
    "\n",
    "torch.use_deterministic_algorithms(True) "
   ]
  },
  {
   "cell_type": "code",
   "execution_count": 7,
   "id": "b691acf6",
   "metadata": {
    "execution": {
     "iopub.execute_input": "2022-03-20T00:53:41.342261Z",
     "iopub.status.busy": "2022-03-20T00:53:41.342010Z",
     "iopub.status.idle": "2022-03-20T00:53:41.358672Z",
     "shell.execute_reply": "2022-03-20T00:53:41.357999Z"
    },
    "papermill": {
     "duration": 0.03184,
     "end_time": "2022-03-20T00:53:41.358830",
     "exception": false,
     "start_time": "2022-03-20T00:53:41.326990",
     "status": "completed"
    },
    "tags": []
   },
   "outputs": [],
   "source": [
    "###########################################\n",
    "# The stratified datasets honor this\n",
    "###########################################\n",
    "torch.set_default_dtype(eval(p.torch_default_dtype))"
   ]
  },
  {
   "cell_type": "code",
   "execution_count": 8,
   "id": "b5fba671",
   "metadata": {
    "execution": {
     "iopub.execute_input": "2022-03-20T00:53:41.395715Z",
     "iopub.status.busy": "2022-03-20T00:53:41.395452Z",
     "iopub.status.idle": "2022-03-20T00:53:41.436474Z",
     "shell.execute_reply": "2022-03-20T00:53:41.436828Z"
    },
    "papermill": {
     "duration": 0.057417,
     "end_time": "2022-03-20T00:53:41.436933",
     "exception": false,
     "start_time": "2022-03-20T00:53:41.379516",
     "status": "completed"
    },
    "tags": []
   },
   "outputs": [],
   "source": [
    "###################################\n",
    "# Build the network(s)\n",
    "# Note: It's critical to do this AFTER setting the RNG\n",
    "###################################\n",
    "x_net = build_sequential(p.x_net)"
   ]
  },
  {
   "cell_type": "code",
   "execution_count": 9,
   "id": "5d7e61cc",
   "metadata": {
    "execution": {
     "iopub.execute_input": "2022-03-20T00:53:41.471059Z",
     "iopub.status.busy": "2022-03-20T00:53:41.470808Z",
     "iopub.status.idle": "2022-03-20T00:53:41.484400Z",
     "shell.execute_reply": "2022-03-20T00:53:41.483994Z"
    },
    "papermill": {
     "duration": 0.02889,
     "end_time": "2022-03-20T00:53:41.484498",
     "exception": false,
     "start_time": "2022-03-20T00:53:41.455608",
     "status": "completed"
    },
    "tags": []
   },
   "outputs": [],
   "source": [
    "start_time_secs = time.time()"
   ]
  },
  {
   "cell_type": "code",
   "execution_count": 10,
   "id": "c6b67dfd",
   "metadata": {
    "execution": {
     "iopub.execute_input": "2022-03-20T00:53:41.519646Z",
     "iopub.status.busy": "2022-03-20T00:53:41.519395Z",
     "iopub.status.idle": "2022-03-20T00:53:41.532840Z",
     "shell.execute_reply": "2022-03-20T00:53:41.533111Z"
    },
    "papermill": {
     "duration": 0.029589,
     "end_time": "2022-03-20T00:53:41.533195",
     "exception": false,
     "start_time": "2022-03-20T00:53:41.503606",
     "status": "completed"
    },
    "tags": []
   },
   "outputs": [],
   "source": [
    "p.domains_source = []\n",
    "p.domains_target = []\n",
    "\n",
    "\n",
    "train_original_source = []\n",
    "val_original_source   = []\n",
    "test_original_source  = []\n",
    "\n",
    "train_original_target = []\n",
    "val_original_target   = []\n",
    "test_original_target  = []"
   ]
  },
  {
   "cell_type": "code",
   "execution_count": 11,
   "id": "e3d9c3d3",
   "metadata": {
    "execution": {
     "iopub.execute_input": "2022-03-20T00:53:41.566158Z",
     "iopub.status.busy": "2022-03-20T00:53:41.565908Z",
     "iopub.status.idle": "2022-03-20T00:53:41.581227Z",
     "shell.execute_reply": "2022-03-20T00:53:41.581541Z"
    },
    "papermill": {
     "duration": 0.030251,
     "end_time": "2022-03-20T00:53:41.581644",
     "exception": false,
     "start_time": "2022-03-20T00:53:41.551393",
     "status": "completed"
    },
    "tags": []
   },
   "outputs": [],
   "source": [
    "# global_x_transform_func = lambda x: normalize(x.to(torch.get_default_dtype()), \"unit_power\") # unit_power, unit_mag\n",
    "# global_x_transform_func = lambda x: normalize(x, \"unit_power\") # unit_power, unit_mag"
   ]
  },
  {
   "cell_type": "code",
   "execution_count": 12,
   "id": "acb78fd2",
   "metadata": {
    "execution": {
     "iopub.execute_input": "2022-03-20T00:53:41.628366Z",
     "iopub.status.busy": "2022-03-20T00:53:41.628049Z",
     "iopub.status.idle": "2022-03-20T00:53:41.642617Z",
     "shell.execute_reply": "2022-03-20T00:53:41.643041Z"
    },
    "papermill": {
     "duration": 0.043356,
     "end_time": "2022-03-20T00:53:41.643173",
     "exception": false,
     "start_time": "2022-03-20T00:53:41.599817",
     "status": "completed"
    },
    "tags": []
   },
   "outputs": [],
   "source": [
    "def add_dataset(\n",
    "    labels,\n",
    "    domains,\n",
    "    pickle_path,\n",
    "    x_transforms,\n",
    "    episode_transforms,\n",
    "    domain_prefix,\n",
    "    num_examples_per_domain_per_label,\n",
    "    source_or_target_dataset:str,\n",
    "    iterator_seed=p.seed,\n",
    "    dataset_seed=p.dataset_seed,\n",
    "    n_shot=p.n_shot,\n",
    "    n_way=p.n_way,\n",
    "    n_query=p.n_query,\n",
    "    train_val_test_k_factors=(p.train_k_factor,p.val_k_factor,p.test_k_factor),\n",
    "):\n",
    "   \n",
    "    if x_transforms == []: x_transform = None\n",
    "    else: x_transform = get_chained_transform(x_transforms)\n",
    "    \n",
    "    if episode_transforms == []: episode_transform = None\n",
    "    else: raise Exception(\"episode_transforms not implemented\")\n",
    "    \n",
    "    episode_transform = lambda tup, _prefix=domain_prefix: (_prefix + str(tup[0]), tup[1])\n",
    "\n",
    "\n",
    "    eaf = Episodic_Accessor_Factory(\n",
    "        labels=labels,\n",
    "        domains=domains,\n",
    "        num_examples_per_domain_per_label=num_examples_per_domain_per_label,\n",
    "        iterator_seed=iterator_seed,\n",
    "        dataset_seed=dataset_seed,\n",
    "        n_shot=n_shot,\n",
    "        n_way=n_way,\n",
    "        n_query=n_query,\n",
    "        train_val_test_k_factors=train_val_test_k_factors,\n",
    "        pickle_path=pickle_path,\n",
    "        x_transform_func=x_transform,\n",
    "    )\n",
    "\n",
    "    train, val, test = eaf.get_train(), eaf.get_val(), eaf.get_test()\n",
    "    train = Lazy_Iterable_Wrapper(train, episode_transform)\n",
    "    val = Lazy_Iterable_Wrapper(val, episode_transform)\n",
    "    test = Lazy_Iterable_Wrapper(test, episode_transform)\n",
    "\n",
    "    if source_or_target_dataset==\"source\":\n",
    "        train_original_source.append(train)\n",
    "        val_original_source.append(val)\n",
    "        test_original_source.append(test)\n",
    "\n",
    "        p.domains_source.extend(\n",
    "            [domain_prefix + str(u) for u in domains]\n",
    "        )\n",
    "    elif source_or_target_dataset==\"target\":\n",
    "        train_original_target.append(train)\n",
    "        val_original_target.append(val)\n",
    "        test_original_target.append(test)\n",
    "        p.domains_target.extend(\n",
    "            [domain_prefix + str(u) for u in domains]\n",
    "        )\n",
    "    else:\n",
    "        raise Exception(f\"invalid source_or_target_dataset: {source_or_target_dataset}\")\n",
    "    "
   ]
  },
  {
   "cell_type": "code",
   "execution_count": 13,
   "id": "fe266617",
   "metadata": {
    "execution": {
     "iopub.execute_input": "2022-03-20T00:53:41.676206Z",
     "iopub.status.busy": "2022-03-20T00:53:41.675959Z",
     "iopub.status.idle": "2022-03-20T00:54:31.654519Z",
     "shell.execute_reply": "2022-03-20T00:54:31.654092Z"
    },
    "papermill": {
     "duration": 49.994078,
     "end_time": "2022-03-20T00:54:31.654632",
     "exception": false,
     "start_time": "2022-03-20T00:53:41.660554",
     "status": "completed"
    },
    "tags": []
   },
   "outputs": [],
   "source": [
    "for ds in p.datasets:\n",
    "    add_dataset(**ds)"
   ]
  },
  {
   "cell_type": "code",
   "execution_count": 14,
   "id": "b90d65ac",
   "metadata": {
    "execution": {
     "iopub.execute_input": "2022-03-20T00:54:31.695551Z",
     "iopub.status.busy": "2022-03-20T00:54:31.689722Z",
     "iopub.status.idle": "2022-03-20T00:54:31.707069Z",
     "shell.execute_reply": "2022-03-20T00:54:31.706654Z"
    },
    "papermill": {
     "duration": 0.034111,
     "end_time": "2022-03-20T00:54:31.707171",
     "exception": false,
     "start_time": "2022-03-20T00:54:31.673060",
     "status": "completed"
    },
    "tags": []
   },
   "outputs": [],
   "source": [
    "# from steves_utils.CORES.utils import (\n",
    "#     ALL_NODES,\n",
    "#     ALL_NODES_MINIMUM_1000_EXAMPLES,\n",
    "#     ALL_DAYS\n",
    "# )\n",
    "\n",
    "# add_dataset(\n",
    "#     labels=ALL_NODES,\n",
    "#     domains = ALL_DAYS,\n",
    "#     num_examples_per_domain_per_label=100,\n",
    "#     pickle_path=os.path.join(get_datasets_base_path(), \"cores.stratified_ds.2022A.pkl\"),\n",
    "#     source_or_target_dataset=\"target\",\n",
    "#     x_transform_func=global_x_transform_func,\n",
    "#     domain_modifier=lambda u: f\"cores_{u}\"\n",
    "# )"
   ]
  },
  {
   "cell_type": "code",
   "execution_count": 15,
   "id": "76db484d",
   "metadata": {
    "execution": {
     "iopub.execute_input": "2022-03-20T00:54:31.738653Z",
     "iopub.status.busy": "2022-03-20T00:54:31.738403Z",
     "iopub.status.idle": "2022-03-20T00:54:31.753902Z",
     "shell.execute_reply": "2022-03-20T00:54:31.753424Z"
    },
    "papermill": {
     "duration": 0.030976,
     "end_time": "2022-03-20T00:54:31.754004",
     "exception": false,
     "start_time": "2022-03-20T00:54:31.723028",
     "status": "completed"
    },
    "tags": []
   },
   "outputs": [],
   "source": [
    "# from steves_utils.ORACLE.utils_v2 import (\n",
    "#     ALL_DISTANCES_FEET,\n",
    "#     ALL_RUNS,\n",
    "#     ALL_SERIAL_NUMBERS,\n",
    "# )\n",
    "\n",
    "\n",
    "# add_dataset(\n",
    "#     labels=ALL_SERIAL_NUMBERS,\n",
    "#     domains = list(set(ALL_DISTANCES_FEET) - {2,62}),\n",
    "#     num_examples_per_domain_per_label=100,\n",
    "#     pickle_path=os.path.join(get_datasets_base_path(), \"oracle.Run2_framed_2000Examples_stratified_ds.2022A.pkl\"),\n",
    "#     source_or_target_dataset=\"source\",\n",
    "#     x_transform_func=global_x_transform_func,\n",
    "#     domain_modifier=lambda u: f\"oracle1_{u}\"\n",
    "# )\n"
   ]
  },
  {
   "cell_type": "code",
   "execution_count": 16,
   "id": "97dea9d2",
   "metadata": {
    "execution": {
     "iopub.execute_input": "2022-03-20T00:54:31.787778Z",
     "iopub.status.busy": "2022-03-20T00:54:31.787466Z",
     "iopub.status.idle": "2022-03-20T00:54:31.802458Z",
     "shell.execute_reply": "2022-03-20T00:54:31.801986Z"
    },
    "papermill": {
     "duration": 0.02997,
     "end_time": "2022-03-20T00:54:31.802560",
     "exception": false,
     "start_time": "2022-03-20T00:54:31.772590",
     "status": "completed"
    },
    "tags": []
   },
   "outputs": [],
   "source": [
    "# from steves_utils.ORACLE.utils_v2 import (\n",
    "#     ALL_DISTANCES_FEET,\n",
    "#     ALL_RUNS,\n",
    "#     ALL_SERIAL_NUMBERS,\n",
    "# )\n",
    "\n",
    "\n",
    "# add_dataset(\n",
    "#     labels=ALL_SERIAL_NUMBERS,\n",
    "#     domains = list(set(ALL_DISTANCES_FEET) - {2,62,56}),\n",
    "#     num_examples_per_domain_per_label=100,\n",
    "#     pickle_path=os.path.join(get_datasets_base_path(), \"oracle.Run2_framed_2000Examples_stratified_ds.2022A.pkl\"),\n",
    "#     source_or_target_dataset=\"source\",\n",
    "#     x_transform_func=global_x_transform_func,\n",
    "#     domain_modifier=lambda u: f\"oracle2_{u}\"\n",
    "# )"
   ]
  },
  {
   "cell_type": "code",
   "execution_count": 17,
   "id": "6f289866",
   "metadata": {
    "execution": {
     "iopub.execute_input": "2022-03-20T00:54:31.844693Z",
     "iopub.status.busy": "2022-03-20T00:54:31.839870Z",
     "iopub.status.idle": "2022-03-20T00:54:31.852787Z",
     "shell.execute_reply": "2022-03-20T00:54:31.852540Z"
    },
    "papermill": {
     "duration": 0.029932,
     "end_time": "2022-03-20T00:54:31.852853",
     "exception": false,
     "start_time": "2022-03-20T00:54:31.822921",
     "status": "completed"
    },
    "tags": []
   },
   "outputs": [],
   "source": [
    "# add_dataset(\n",
    "#     labels=list(range(19)),\n",
    "#     domains = [0,1,2],\n",
    "#     num_examples_per_domain_per_label=100,\n",
    "#     pickle_path=os.path.join(get_datasets_base_path(), \"metehan.stratified_ds.2022A.pkl\"),\n",
    "#     source_or_target_dataset=\"target\",\n",
    "#     x_transform_func=global_x_transform_func,\n",
    "#     domain_modifier=lambda u: f\"met_{u}\"\n",
    "# )"
   ]
  },
  {
   "cell_type": "code",
   "execution_count": 18,
   "id": "86a863c3",
   "metadata": {
    "execution": {
     "iopub.execute_input": "2022-03-20T00:54:31.887632Z",
     "iopub.status.busy": "2022-03-20T00:54:31.887367Z",
     "iopub.status.idle": "2022-03-20T00:54:31.901651Z",
     "shell.execute_reply": "2022-03-20T00:54:31.901218Z"
    },
    "papermill": {
     "duration": 0.03221,
     "end_time": "2022-03-20T00:54:31.901759",
     "exception": false,
     "start_time": "2022-03-20T00:54:31.869549",
     "status": "completed"
    },
    "tags": []
   },
   "outputs": [],
   "source": [
    "# # from steves_utils.wisig.utils import (\n",
    "# #     ALL_NODES_MINIMUM_100_EXAMPLES,\n",
    "# #     ALL_NODES_MINIMUM_500_EXAMPLES,\n",
    "# #     ALL_NODES_MINIMUM_1000_EXAMPLES,\n",
    "# #     ALL_DAYS\n",
    "# # )\n",
    "\n",
    "# import steves_utils.wisig.utils as wisig\n",
    "\n",
    "\n",
    "# add_dataset(\n",
    "#     labels=wisig.ALL_NODES_MINIMUM_100_EXAMPLES,\n",
    "#     domains = wisig.ALL_DAYS,\n",
    "#     num_examples_per_domain_per_label=100,\n",
    "#     pickle_path=os.path.join(get_datasets_base_path(), \"wisig.node3-19.stratified_ds.2022A.pkl\"),\n",
    "#     source_or_target_dataset=\"target\",\n",
    "#     x_transform_func=global_x_transform_func,\n",
    "#     domain_modifier=lambda u: f\"wisig_{u}\"\n",
    "# )"
   ]
  },
  {
   "cell_type": "code",
   "execution_count": 19,
   "id": "fd5442bc",
   "metadata": {
    "execution": {
     "iopub.execute_input": "2022-03-20T00:54:31.941327Z",
     "iopub.status.busy": "2022-03-20T00:54:31.939914Z",
     "iopub.status.idle": "2022-03-20T00:54:31.954608Z",
     "shell.execute_reply": "2022-03-20T00:54:31.954120Z"
    },
    "papermill": {
     "duration": 0.033664,
     "end_time": "2022-03-20T00:54:31.954712",
     "exception": false,
     "start_time": "2022-03-20T00:54:31.921048",
     "status": "completed"
    },
    "tags": []
   },
   "outputs": [],
   "source": [
    "###################################\n",
    "# Build the dataset\n",
    "###################################\n",
    "train_original_source = Iterable_Aggregator(train_original_source, p.seed)\n",
    "val_original_source = Iterable_Aggregator(val_original_source, p.seed)\n",
    "test_original_source = Iterable_Aggregator(test_original_source, p.seed)\n",
    "\n",
    "\n",
    "train_original_target = Iterable_Aggregator(train_original_target, p.seed)\n",
    "val_original_target = Iterable_Aggregator(val_original_target, p.seed)\n",
    "test_original_target = Iterable_Aggregator(test_original_target, p.seed)\n",
    "\n",
    "# For CNN We only use X and Y. And we only train on the source.\n",
    "# Properly form the data using a transform lambda and Lazy_Iterable_Wrapper. Finally wrap them in a dataloader\n",
    "\n",
    "transform_lambda = lambda ex: ex[1] # Original is (<domain>, <episode>) so we strip down to episode only\n",
    "\n",
    "train_processed_source = Lazy_Iterable_Wrapper(train_original_source, transform_lambda)\n",
    "val_processed_source   = Lazy_Iterable_Wrapper(val_original_source, transform_lambda)\n",
    "test_processed_source  = Lazy_Iterable_Wrapper(test_original_source, transform_lambda)\n",
    "\n",
    "train_processed_target = Lazy_Iterable_Wrapper(train_original_target, transform_lambda)\n",
    "val_processed_target   = Lazy_Iterable_Wrapper(val_original_target, transform_lambda)\n",
    "test_processed_target  = Lazy_Iterable_Wrapper(test_original_target, transform_lambda)\n",
    "\n",
    "datasets = EasyDict({\n",
    "    \"source\": {\n",
    "        \"original\": {\"train\":train_original_source, \"val\":val_original_source, \"test\":test_original_source},\n",
    "        \"processed\": {\"train\":train_processed_source, \"val\":val_processed_source, \"test\":test_processed_source}\n",
    "    },\n",
    "    \"target\": {\n",
    "        \"original\": {\"train\":train_original_target, \"val\":val_original_target, \"test\":test_original_target},\n",
    "        \"processed\": {\"train\":train_processed_target, \"val\":val_processed_target, \"test\":test_processed_target}\n",
    "    },\n",
    "})"
   ]
  },
  {
   "cell_type": "code",
   "execution_count": 20,
   "id": "5b3c01fc",
   "metadata": {
    "execution": {
     "iopub.execute_input": "2022-03-20T00:54:31.987440Z",
     "iopub.status.busy": "2022-03-20T00:54:31.987172Z",
     "iopub.status.idle": "2022-03-20T00:54:41.007826Z",
     "shell.execute_reply": "2022-03-20T00:54:41.007369Z"
    },
    "papermill": {
     "duration": 9.036484,
     "end_time": "2022-03-20T00:54:41.007951",
     "exception": false,
     "start_time": "2022-03-20T00:54:31.971467",
     "status": "completed"
    },
    "tags": []
   },
   "outputs": [
    {
     "name": "stdout",
     "output_type": "stream",
     "text": [
      "{'O_26', 'O_38', 'O_14', 'O_20', 'O_44', 'O_8', 'O_32', 'O_50'}\n"
     ]
    },
    {
     "name": "stdout",
     "output_type": "stream",
     "text": [
      "{'W_4', 'C_1', 'C_3', 'W_3', 'C_5', 'W_1', 'C_2', 'W_2', 'C_4'}\n"
     ]
    },
    {
     "name": "stdout",
     "output_type": "stream",
     "text": [
      "tensor([[[ 0.5241,  0.9130, -0.9299,  ..., -0.7101,  0.4903, -0.7777],\n",
      "         [-0.4058,  0.3719,  0.1183,  ..., -0.4058, -1.0989, -0.8961]],\n",
      "\n",
      "        [[ 0.1035,  1.1901, -0.4657,  ..., -0.9142,  0.3450, -0.9487],\n",
      "         [-0.6554,  0.0862,  0.5692,  ..., -0.1035, -1.0349, -0.5865]],\n",
      "\n",
      "        [[-0.9837,  0.4315,  1.3634,  ..., -0.4832,  0.1898,  1.2081],\n",
      "         [-0.2934, -0.2416,  0.0345,  ...,  1.1218,  1.0010,  0.1726]],\n",
      "\n",
      "        ...,\n",
      "\n",
      "        [[-0.3340,  0.2733,  0.3644,  ..., -0.4251, -1.3816, -0.9869],\n",
      "         [-0.2733, -1.0932,  0.5769,  ...,  0.9413, -0.5466,  0.3492]],\n",
      "\n",
      "        [[ 0.5510, -0.4765, -0.5808,  ...,  0.2681,  1.2956,  0.6255],\n",
      "         [ 0.8786,  0.8935, -1.0126,  ..., -0.7446,  0.4021, -0.9233]],\n",
      "\n",
      "        [[ 0.4354, -0.7207, -0.5405,  ...,  0.8558,  1.0360,  0.3754],\n",
      "         [ 1.0210,  0.7658, -1.1111,  ..., -0.4655,  0.4504, -1.1561]]])\n"
     ]
    }
   ],
   "source": [
    "from steves_utils.transforms import get_average_magnitude, get_average_power\n",
    "\n",
    "print(set([u for u,_ in val_original_source]))\n",
    "print(set([u for u,_ in val_original_target]))\n",
    "\n",
    "s_x, s_y, q_x, q_y, _ = next(iter(train_processed_source))\n",
    "print(s_x)\n",
    "\n",
    "# for ds in [\n",
    "#     train_processed_source,\n",
    "#     val_processed_source,\n",
    "#     test_processed_source,\n",
    "#     train_processed_target,\n",
    "#     val_processed_target,\n",
    "#     test_processed_target\n",
    "# ]:\n",
    "#     for s_x, s_y, q_x, q_y, _ in ds:\n",
    "#         for X in (s_x, q_x):\n",
    "#             for x in X:\n",
    "#                 assert np.isclose(get_average_magnitude(x.numpy()), 1.0)\n",
    "#                 assert np.isclose(get_average_power(x.numpy()), 1.0)\n",
    "                "
   ]
  },
  {
   "cell_type": "code",
   "execution_count": 21,
   "id": "bbdacba1",
   "metadata": {
    "execution": {
     "iopub.execute_input": "2022-03-20T00:54:41.048011Z",
     "iopub.status.busy": "2022-03-20T00:54:41.047749Z",
     "iopub.status.idle": "2022-03-20T00:54:41.112548Z",
     "shell.execute_reply": "2022-03-20T00:54:41.111998Z"
    },
    "papermill": {
     "duration": 0.082732,
     "end_time": "2022-03-20T00:54:41.112663",
     "exception": false,
     "start_time": "2022-03-20T00:54:41.029931",
     "status": "completed"
    },
    "tags": []
   },
   "outputs": [
    {
     "name": "stdout",
     "output_type": "stream",
     "text": [
      "(2, 256)\n"
     ]
    }
   ],
   "source": [
    "###################################\n",
    "# Build the model\n",
    "###################################\n",
    "# easfsl only wants a tuple for the shape\n",
    "model = Steves_Prototypical_Network(x_net, device=p.device, x_shape=tuple(p.x_shape))\n",
    "optimizer = Adam(params=model.parameters(), lr=p.lr)"
   ]
  },
  {
   "cell_type": "code",
   "execution_count": 22,
   "id": "22b39ac5",
   "metadata": {
    "execution": {
     "iopub.execute_input": "2022-03-20T00:54:41.149758Z",
     "iopub.status.busy": "2022-03-20T00:54:41.148748Z",
     "iopub.status.idle": "2022-03-20T01:17:04.766146Z",
     "shell.execute_reply": "2022-03-20T01:17:04.765916Z"
    },
    "papermill": {
     "duration": 1343.636511,
     "end_time": "2022-03-20T01:17:04.766207",
     "exception": false,
     "start_time": "2022-03-20T00:54:41.129696",
     "status": "completed"
    },
    "tags": []
   },
   "outputs": [
    {
     "name": "stdout",
     "output_type": "stream",
     "text": [
      "epoch: 1, [batch: 1 / 6720], examples_per_second: 45.8849, train_label_loss: 2.8758, \n"
     ]
    },
    {
     "name": "stdout",
     "output_type": "stream",
     "text": [
      "epoch: 1, [batch: 672 / 6720], examples_per_second: 3184.3910, train_label_loss: 1.7795, \n"
     ]
    },
    {
     "name": "stdout",
     "output_type": "stream",
     "text": [
      "epoch: 1, [batch: 1344 / 6720], examples_per_second: 3153.1259, train_label_loss: 0.7323, \n"
     ]
    },
    {
     "name": "stdout",
     "output_type": "stream",
     "text": [
      "epoch: 1, [batch: 2016 / 6720], examples_per_second: 3182.4356, train_label_loss: 0.7327, \n"
     ]
    },
    {
     "name": "stdout",
     "output_type": "stream",
     "text": [
      "epoch: 1, [batch: 2688 / 6720], examples_per_second: 3108.8722, train_label_loss: 0.5560, \n"
     ]
    },
    {
     "name": "stdout",
     "output_type": "stream",
     "text": [
      "epoch: 1, [batch: 3360 / 6720], examples_per_second: 3131.0110, train_label_loss: 0.4385, \n"
     ]
    },
    {
     "name": "stdout",
     "output_type": "stream",
     "text": [
      "epoch: 1, [batch: 4032 / 6720], examples_per_second: 3203.7412, train_label_loss: 0.6052, \n"
     ]
    },
    {
     "name": "stdout",
     "output_type": "stream",
     "text": [
      "epoch: 1, [batch: 4704 / 6720], examples_per_second: 3170.3209, train_label_loss: 0.3890, \n"
     ]
    },
    {
     "name": "stdout",
     "output_type": "stream",
     "text": [
      "epoch: 1, [batch: 5376 / 6720], examples_per_second: 3047.6685, train_label_loss: 0.6340, \n"
     ]
    },
    {
     "name": "stdout",
     "output_type": "stream",
     "text": [
      "epoch: 1, [batch: 6048 / 6720], examples_per_second: 3152.8215, train_label_loss: 0.6891, \n"
     ]
    },
    {
     "name": "stdout",
     "output_type": "stream",
     "text": [
      "=============================================================\n",
      "epoch: 1, source_val_acc_label: 0.7649, target_val_acc_label: 0.5187, source_val_label_loss: 0.7123, target_val_label_loss: 9.7898, \n",
      "=============================================================\n"
     ]
    },
    {
     "name": "stdout",
     "output_type": "stream",
     "text": [
      "New best\n"
     ]
    },
    {
     "name": "stdout",
     "output_type": "stream",
     "text": [
      "epoch: 2, [batch: 1 / 6720], examples_per_second: 3.9852, train_label_loss: 0.7586, \n"
     ]
    },
    {
     "name": "stdout",
     "output_type": "stream",
     "text": [
      "epoch: 2, [batch: 672 / 6720], examples_per_second: 3181.9628, train_label_loss: 0.8648, \n"
     ]
    },
    {
     "name": "stdout",
     "output_type": "stream",
     "text": [
      "epoch: 2, [batch: 1344 / 6720], examples_per_second: 3211.9399, train_label_loss: 0.4123, \n"
     ]
    },
    {
     "name": "stdout",
     "output_type": "stream",
     "text": [
      "epoch: 2, [batch: 2016 / 6720], examples_per_second: 3166.4079, train_label_loss: 0.7089, \n"
     ]
    },
    {
     "name": "stdout",
     "output_type": "stream",
     "text": [
      "epoch: 2, [batch: 2688 / 6720], examples_per_second: 3177.8580, train_label_loss: 0.5578, \n"
     ]
    },
    {
     "name": "stdout",
     "output_type": "stream",
     "text": [
      "epoch: 2, [batch: 3360 / 6720], examples_per_second: 3169.5723, train_label_loss: 0.2487, \n"
     ]
    },
    {
     "name": "stdout",
     "output_type": "stream",
     "text": [
      "epoch: 2, [batch: 4032 / 6720], examples_per_second: 3197.5942, train_label_loss: 0.5109, \n"
     ]
    },
    {
     "name": "stdout",
     "output_type": "stream",
     "text": [
      "epoch: 2, [batch: 4704 / 6720], examples_per_second: 3179.6137, train_label_loss: 0.4291, \n"
     ]
    },
    {
     "name": "stdout",
     "output_type": "stream",
     "text": [
      "epoch: 2, [batch: 5376 / 6720], examples_per_second: 3191.0816, train_label_loss: 0.8524, \n"
     ]
    },
    {
     "name": "stdout",
     "output_type": "stream",
     "text": [
      "epoch: 2, [batch: 6048 / 6720], examples_per_second: 3215.5172, train_label_loss: 0.1877, \n"
     ]
    },
    {
     "name": "stdout",
     "output_type": "stream",
     "text": [
      "=============================================================\n",
      "epoch: 2, source_val_acc_label: 0.8470, target_val_acc_label: 0.7005, source_val_label_loss: 0.4328, target_val_label_loss: 7.3086, \n",
      "=============================================================\n"
     ]
    },
    {
     "name": "stdout",
     "output_type": "stream",
     "text": [
      "New best\n"
     ]
    },
    {
     "name": "stdout",
     "output_type": "stream",
     "text": [
      "epoch: 3, [batch: 1 / 6720], examples_per_second: 3.9859, train_label_loss: 0.7467, \n"
     ]
    },
    {
     "name": "stdout",
     "output_type": "stream",
     "text": [
      "epoch: 3, [batch: 672 / 6720], examples_per_second: 3161.9433, train_label_loss: 0.3791, \n"
     ]
    },
    {
     "name": "stdout",
     "output_type": "stream",
     "text": [
      "epoch: 3, [batch: 1344 / 6720], examples_per_second: 3204.3184, train_label_loss: 0.1845, \n"
     ]
    },
    {
     "name": "stdout",
     "output_type": "stream",
     "text": [
      "epoch: 3, [batch: 2016 / 6720], examples_per_second: 3194.1559, train_label_loss: 0.1585, \n"
     ]
    },
    {
     "name": "stdout",
     "output_type": "stream",
     "text": [
      "epoch: 3, [batch: 2688 / 6720], examples_per_second: 3192.8788, train_label_loss: 0.4957, \n"
     ]
    },
    {
     "name": "stdout",
     "output_type": "stream",
     "text": [
      "epoch: 3, [batch: 3360 / 6720], examples_per_second: 3201.6378, train_label_loss: 0.3513, \n"
     ]
    },
    {
     "name": "stdout",
     "output_type": "stream",
     "text": [
      "epoch: 3, [batch: 4032 / 6720], examples_per_second: 3193.0311, train_label_loss: 0.4324, \n"
     ]
    },
    {
     "name": "stdout",
     "output_type": "stream",
     "text": [
      "epoch: 3, [batch: 4704 / 6720], examples_per_second: 3202.6692, train_label_loss: 0.5003, \n"
     ]
    },
    {
     "name": "stdout",
     "output_type": "stream",
     "text": [
      "epoch: 3, [batch: 5376 / 6720], examples_per_second: 3192.3827, train_label_loss: 0.4803, \n"
     ]
    },
    {
     "name": "stdout",
     "output_type": "stream",
     "text": [
      "epoch: 3, [batch: 6048 / 6720], examples_per_second: 3208.2277, train_label_loss: 0.4993, \n"
     ]
    },
    {
     "name": "stdout",
     "output_type": "stream",
     "text": [
      "=============================================================\n",
      "epoch: 3, source_val_acc_label: 0.8714, target_val_acc_label: 0.7058, source_val_label_loss: 0.3577, target_val_label_loss: 8.9457, \n",
      "=============================================================\n"
     ]
    },
    {
     "name": "stdout",
     "output_type": "stream",
     "text": [
      "New best\n"
     ]
    },
    {
     "name": "stdout",
     "output_type": "stream",
     "text": [
      "epoch: 4, [batch: 1 / 6720], examples_per_second: 3.9057, train_label_loss: 0.2843, \n"
     ]
    },
    {
     "name": "stdout",
     "output_type": "stream",
     "text": [
      "epoch: 4, [batch: 672 / 6720], examples_per_second: 3150.2640, train_label_loss: 0.2215, \n"
     ]
    },
    {
     "name": "stdout",
     "output_type": "stream",
     "text": [
      "epoch: 4, [batch: 1344 / 6720], examples_per_second: 3184.6220, train_label_loss: 0.4525, \n"
     ]
    },
    {
     "name": "stdout",
     "output_type": "stream",
     "text": [
      "epoch: 4, [batch: 2016 / 6720], examples_per_second: 3153.8691, train_label_loss: 0.1697, \n"
     ]
    },
    {
     "name": "stdout",
     "output_type": "stream",
     "text": [
      "epoch: 4, [batch: 2688 / 6720], examples_per_second: 3189.7545, train_label_loss: 0.2880, \n"
     ]
    },
    {
     "name": "stdout",
     "output_type": "stream",
     "text": [
      "epoch: 4, [batch: 3360 / 6720], examples_per_second: 3241.0707, train_label_loss: 0.4817, \n"
     ]
    },
    {
     "name": "stdout",
     "output_type": "stream",
     "text": [
      "epoch: 4, [batch: 4032 / 6720], examples_per_second: 3247.2603, train_label_loss: 0.2752, \n"
     ]
    },
    {
     "name": "stdout",
     "output_type": "stream",
     "text": [
      "epoch: 4, [batch: 4704 / 6720], examples_per_second: 3206.4975, train_label_loss: 0.8360, \n"
     ]
    },
    {
     "name": "stdout",
     "output_type": "stream",
     "text": [
      "epoch: 4, [batch: 5376 / 6720], examples_per_second: 3157.2921, train_label_loss: 0.4489, \n"
     ]
    },
    {
     "name": "stdout",
     "output_type": "stream",
     "text": [
      "epoch: 4, [batch: 6048 / 6720], examples_per_second: 3215.3300, train_label_loss: 0.3042, \n"
     ]
    },
    {
     "name": "stdout",
     "output_type": "stream",
     "text": [
      "=============================================================\n",
      "epoch: 4, source_val_acc_label: 0.8877, target_val_acc_label: 0.6806, source_val_label_loss: 0.3145, target_val_label_loss: 9.9788, \n",
      "=============================================================\n"
     ]
    },
    {
     "name": "stdout",
     "output_type": "stream",
     "text": [
      "epoch: 5, [batch: 1 / 6720], examples_per_second: 3.9467, train_label_loss: 0.3073, \n"
     ]
    },
    {
     "name": "stdout",
     "output_type": "stream",
     "text": [
      "epoch: 5, [batch: 672 / 6720], examples_per_second: 3147.4566, train_label_loss: 0.3317, \n"
     ]
    },
    {
     "name": "stdout",
     "output_type": "stream",
     "text": [
      "epoch: 5, [batch: 1344 / 6720], examples_per_second: 3209.9079, train_label_loss: 0.3207, \n"
     ]
    },
    {
     "name": "stdout",
     "output_type": "stream",
     "text": [
      "epoch: 5, [batch: 2016 / 6720], examples_per_second: 3226.9378, train_label_loss: 0.1062, \n"
     ]
    },
    {
     "name": "stdout",
     "output_type": "stream",
     "text": [
      "epoch: 5, [batch: 2688 / 6720], examples_per_second: 3243.3522, train_label_loss: 0.3106, \n"
     ]
    },
    {
     "name": "stdout",
     "output_type": "stream",
     "text": [
      "epoch: 5, [batch: 3360 / 6720], examples_per_second: 3229.8587, train_label_loss: 0.2148, \n"
     ]
    },
    {
     "name": "stdout",
     "output_type": "stream",
     "text": [
      "epoch: 5, [batch: 4032 / 6720], examples_per_second: 3229.1711, train_label_loss: 0.1016, \n"
     ]
    },
    {
     "name": "stdout",
     "output_type": "stream",
     "text": [
      "epoch: 5, [batch: 4704 / 6720], examples_per_second: 3225.5591, train_label_loss: 0.1668, \n"
     ]
    },
    {
     "name": "stdout",
     "output_type": "stream",
     "text": [
      "epoch: 5, [batch: 5376 / 6720], examples_per_second: 3238.5921, train_label_loss: 0.0844, \n"
     ]
    },
    {
     "name": "stdout",
     "output_type": "stream",
     "text": [
      "epoch: 5, [batch: 6048 / 6720], examples_per_second: 3225.3569, train_label_loss: 0.1958, \n"
     ]
    },
    {
     "name": "stdout",
     "output_type": "stream",
     "text": [
      "=============================================================\n",
      "epoch: 5, source_val_acc_label: 0.8846, target_val_acc_label: 0.6837, source_val_label_loss: 0.3199, target_val_label_loss: 10.3384, \n",
      "=============================================================\n"
     ]
    },
    {
     "name": "stdout",
     "output_type": "stream",
     "text": [
      "epoch: 6, [batch: 1 / 6720], examples_per_second: 4.0042, train_label_loss: 0.5358, \n"
     ]
    },
    {
     "name": "stdout",
     "output_type": "stream",
     "text": [
      "epoch: 6, [batch: 672 / 6720], examples_per_second: 3196.8415, train_label_loss: 0.2726, \n"
     ]
    },
    {
     "name": "stdout",
     "output_type": "stream",
     "text": [
      "epoch: 6, [batch: 1344 / 6720], examples_per_second: 3215.4167, train_label_loss: 0.2005, \n"
     ]
    },
    {
     "name": "stdout",
     "output_type": "stream",
     "text": [
      "epoch: 6, [batch: 2016 / 6720], examples_per_second: 3232.4697, train_label_loss: 0.3137, \n"
     ]
    },
    {
     "name": "stdout",
     "output_type": "stream",
     "text": [
      "epoch: 6, [batch: 2688 / 6720], examples_per_second: 3216.1372, train_label_loss: 0.2644, \n"
     ]
    },
    {
     "name": "stdout",
     "output_type": "stream",
     "text": [
      "epoch: 6, [batch: 3360 / 6720], examples_per_second: 3092.2028, train_label_loss: 0.1241, \n"
     ]
    },
    {
     "name": "stdout",
     "output_type": "stream",
     "text": [
      "epoch: 6, [batch: 4032 / 6720], examples_per_second: 3211.6456, train_label_loss: 0.2450, \n"
     ]
    },
    {
     "name": "stdout",
     "output_type": "stream",
     "text": [
      "epoch: 6, [batch: 4704 / 6720], examples_per_second: 3182.5633, train_label_loss: 0.3716, \n"
     ]
    },
    {
     "name": "stdout",
     "output_type": "stream",
     "text": [
      "epoch: 6, [batch: 5376 / 6720], examples_per_second: 3212.8127, train_label_loss: 0.0691, \n"
     ]
    },
    {
     "name": "stdout",
     "output_type": "stream",
     "text": [
      "epoch: 6, [batch: 6048 / 6720], examples_per_second: 3227.7080, train_label_loss: 0.6619, \n"
     ]
    },
    {
     "name": "stdout",
     "output_type": "stream",
     "text": [
      "=============================================================\n",
      "epoch: 6, source_val_acc_label: 0.8921, target_val_acc_label: 0.6446, source_val_label_loss: 0.3019, target_val_label_loss: 13.7418, \n",
      "=============================================================\n"
     ]
    },
    {
     "name": "stdout",
     "output_type": "stream",
     "text": [
      "epoch: 7, [batch: 1 / 6720], examples_per_second: 3.9923, train_label_loss: 0.2745, \n"
     ]
    },
    {
     "name": "stdout",
     "output_type": "stream",
     "text": [
      "epoch: 7, [batch: 672 / 6720], examples_per_second: 3177.7403, train_label_loss: 0.3597, \n"
     ]
    },
    {
     "name": "stdout",
     "output_type": "stream",
     "text": [
      "epoch: 7, [batch: 1344 / 6720], examples_per_second: 3235.8329, train_label_loss: 0.4097, \n"
     ]
    },
    {
     "name": "stdout",
     "output_type": "stream",
     "text": [
      "epoch: 7, [batch: 2016 / 6720], examples_per_second: 3210.9000, train_label_loss: 0.2586, \n"
     ]
    },
    {
     "name": "stdout",
     "output_type": "stream",
     "text": [
      "epoch: 7, [batch: 2688 / 6720], examples_per_second: 3193.2003, train_label_loss: 0.2151, \n"
     ]
    },
    {
     "name": "stdout",
     "output_type": "stream",
     "text": [
      "epoch: 7, [batch: 3360 / 6720], examples_per_second: 3209.8097, train_label_loss: 0.2300, \n"
     ]
    },
    {
     "name": "stdout",
     "output_type": "stream",
     "text": [
      "epoch: 7, [batch: 4032 / 6720], examples_per_second: 3187.1578, train_label_loss: 0.1798, \n"
     ]
    },
    {
     "name": "stdout",
     "output_type": "stream",
     "text": [
      "epoch: 7, [batch: 4704 / 6720], examples_per_second: 3166.4907, train_label_loss: 0.1935, \n"
     ]
    },
    {
     "name": "stdout",
     "output_type": "stream",
     "text": [
      "epoch: 7, [batch: 5376 / 6720], examples_per_second: 3147.6762, train_label_loss: 0.2182, \n"
     ]
    },
    {
     "name": "stdout",
     "output_type": "stream",
     "text": [
      "epoch: 7, [batch: 6048 / 6720], examples_per_second: 3219.2349, train_label_loss: 0.0907, \n"
     ]
    },
    {
     "name": "stdout",
     "output_type": "stream",
     "text": [
      "=============================================================\n",
      "epoch: 7, source_val_acc_label: 0.8947, target_val_acc_label: 0.6486, source_val_label_loss: 0.2916, target_val_label_loss: 16.6050, \n",
      "=============================================================\n"
     ]
    },
    {
     "name": "stdout",
     "output_type": "stream",
     "text": [
      "Patience (3) exhausted\n"
     ]
    }
   ],
   "source": [
    "###################################\n",
    "# train\n",
    "###################################\n",
    "jig = PTN_Train_Eval_Test_Jig(model, p.BEST_MODEL_PATH, p.device)\n",
    "\n",
    "jig.train(\n",
    "    train_iterable=datasets.source.processed.train,\n",
    "    source_val_iterable=datasets.source.processed.val,\n",
    "    target_val_iterable=datasets.target.processed.val,\n",
    "    num_epochs=p.n_epoch,\n",
    "    num_logs_per_epoch=p.NUM_LOGS_PER_EPOCH,\n",
    "    patience=p.patience,\n",
    "    optimizer=optimizer,\n",
    "    criteria_for_best=p.criteria_for_best,\n",
    ")"
   ]
  },
  {
   "cell_type": "code",
   "execution_count": 23,
   "id": "31e8fabf",
   "metadata": {
    "execution": {
     "iopub.execute_input": "2022-03-20T01:17:04.826627Z",
     "iopub.status.busy": "2022-03-20T01:17:04.826233Z",
     "iopub.status.idle": "2022-03-20T01:17:04.842445Z",
     "shell.execute_reply": "2022-03-20T01:17:04.842158Z"
    },
    "papermill": {
     "duration": 0.047842,
     "end_time": "2022-03-20T01:17:04.842512",
     "exception": false,
     "start_time": "2022-03-20T01:17:04.794670",
     "status": "completed"
    },
    "tags": []
   },
   "outputs": [],
   "source": [
    "total_experiment_time_secs = time.time() - start_time_secs"
   ]
  },
  {
   "cell_type": "code",
   "execution_count": 24,
   "id": "87b9595b",
   "metadata": {
    "execution": {
     "iopub.execute_input": "2022-03-20T01:17:04.909395Z",
     "iopub.status.busy": "2022-03-20T01:17:04.909110Z",
     "iopub.status.idle": "2022-03-20T01:19:35.742159Z",
     "shell.execute_reply": "2022-03-20T01:19:35.742575Z"
    },
    "papermill": {
     "duration": 150.868907,
     "end_time": "2022-03-20T01:19:35.742714",
     "exception": false,
     "start_time": "2022-03-20T01:17:04.873807",
     "status": "completed"
    },
    "tags": []
   },
   "outputs": [],
   "source": [
    "###################################\n",
    "# Evaluate the model\n",
    "###################################\n",
    "source_test_label_accuracy, source_test_label_loss = jig.test(datasets.source.processed.test)\n",
    "target_test_label_accuracy, target_test_label_loss = jig.test(datasets.target.processed.test)\n",
    "\n",
    "source_val_label_accuracy, source_val_label_loss = jig.test(datasets.source.processed.val)\n",
    "target_val_label_accuracy, target_val_label_loss = jig.test(datasets.target.processed.val)\n",
    "\n",
    "history = jig.get_history()\n",
    "\n",
    "total_epochs_trained = len(history[\"epoch_indices\"])\n",
    "\n",
    "val_dl = Iterable_Aggregator((datasets.source.original.val,datasets.target.original.val))\n",
    "\n",
    "confusion = ptn_confusion_by_domain_over_dataloader(model, p.device, val_dl)\n",
    "per_domain_accuracy = per_domain_accuracy_from_confusion(confusion)\n",
    "\n",
    "# Add a key to per_domain_accuracy for if it was a source domain\n",
    "for domain, accuracy in per_domain_accuracy.items():\n",
    "    per_domain_accuracy[domain] = {\n",
    "        \"accuracy\": accuracy,\n",
    "        \"source?\": domain in p.domains_source\n",
    "    }\n",
    "\n",
    "# Do an independent accuracy assesment JUST TO BE SURE!\n",
    "# _source_test_label_accuracy = independent_accuracy_assesment(model, datasets.source.processed.test, p.device)\n",
    "# _target_test_label_accuracy = independent_accuracy_assesment(model, datasets.target.processed.test, p.device)\n",
    "# _source_val_label_accuracy = independent_accuracy_assesment(model, datasets.source.processed.val, p.device)\n",
    "# _target_val_label_accuracy = independent_accuracy_assesment(model, datasets.target.processed.val, p.device)\n",
    "\n",
    "# assert(_source_test_label_accuracy == source_test_label_accuracy)\n",
    "# assert(_target_test_label_accuracy == target_test_label_accuracy)\n",
    "# assert(_source_val_label_accuracy == source_val_label_accuracy)\n",
    "# assert(_target_val_label_accuracy == target_val_label_accuracy)\n",
    "\n",
    "experiment = {\n",
    "    \"experiment_name\": p.experiment_name,\n",
    "    \"parameters\": dict(p),\n",
    "    \"results\": {\n",
    "        \"source_test_label_accuracy\": source_test_label_accuracy,\n",
    "        \"source_test_label_loss\": source_test_label_loss,\n",
    "        \"target_test_label_accuracy\": target_test_label_accuracy,\n",
    "        \"target_test_label_loss\": target_test_label_loss,\n",
    "        \"source_val_label_accuracy\": source_val_label_accuracy,\n",
    "        \"source_val_label_loss\": source_val_label_loss,\n",
    "        \"target_val_label_accuracy\": target_val_label_accuracy,\n",
    "        \"target_val_label_loss\": target_val_label_loss,\n",
    "        \"total_epochs_trained\": total_epochs_trained,\n",
    "        \"total_experiment_time_secs\": total_experiment_time_secs,\n",
    "        \"confusion\": confusion,\n",
    "        \"per_domain_accuracy\": per_domain_accuracy,\n",
    "    },\n",
    "    \"history\": history,\n",
    "    \"dataset_metrics\": get_dataset_metrics(datasets, \"ptn\"),\n",
    "}"
   ]
  },
  {
   "cell_type": "code",
   "execution_count": 25,
   "id": "54a21829",
   "metadata": {
    "execution": {
     "iopub.execute_input": "2022-03-20T01:19:35.806786Z",
     "iopub.status.busy": "2022-03-20T01:19:35.806512Z",
     "iopub.status.idle": "2022-03-20T01:19:35.948266Z",
     "shell.execute_reply": "2022-03-20T01:19:35.948618Z"
    },
    "papermill": {
     "duration": 0.174106,
     "end_time": "2022-03-20T01:19:35.948734",
     "exception": false,
     "start_time": "2022-03-20T01:19:35.774628",
     "status": "completed"
    },
    "tags": []
   },
   "outputs": [
    {
     "data": {
      "image/png": "[encoded data removed]",
      "text/plain": [
       "<Figure size 1080x504 with 1 Axes>"
      ]
     },
     "metadata": {
      "needs_background": "light"
     },
     "output_type": "display_data"
    }
   ],
   "source": [
    "ax = get_loss_curve(experiment)\n",
    "plt.show()"
   ]
  },
  {
   "cell_type": "code",
   "execution_count": 26,
   "id": "fd8a0f60",
   "metadata": {
    "execution": {
     "iopub.execute_input": "2022-03-20T01:19:36.020332Z",
     "iopub.status.busy": "2022-03-20T01:19:36.019737Z",
     "iopub.status.idle": "2022-03-20T01:19:36.173647Z",
     "shell.execute_reply": "2022-03-20T01:19:36.173372Z"
    },
    "papermill": {
     "duration": 0.18833,
     "end_time": "2022-03-20T01:19:36.173720",
     "exception": false,
     "start_time": "2022-03-20T01:19:35.985390",
     "status": "completed"
    },
    "tags": []
   },
   "outputs": [
    {
     "data": {
      "text/plain": [
       "<AxesSubplot:title={'center':'Results'}>"
      ]
     },
     "execution_count": 26,
     "metadata": {},
     "output_type": "execute_result"
    },
    {
     "data": {
      "image/png": "[encoded data removed]",
      "text/plain": [
       "<Figure size 1080x504 with 1 Axes>"
      ]
     },
     "metadata": {
      "needs_background": "light"
     },
     "output_type": "display_data"
    }
   ],
   "source": [
    "get_results_table(experiment)"
   ]
  },
  {
   "cell_type": "code",
   "execution_count": 27,
   "id": "cf8dc689",
   "metadata": {
    "execution": {
     "iopub.execute_input": "2022-03-20T01:19:36.246305Z",
     "iopub.status.busy": "2022-03-20T01:19:36.246027Z",
     "iopub.status.idle": "2022-03-20T01:19:36.418734Z",
     "shell.execute_reply": "2022-03-20T01:19:36.418300Z"
    },
    "papermill": {
     "duration": 0.207828,
     "end_time": "2022-03-20T01:19:36.418823",
     "exception": false,
     "start_time": "2022-03-20T01:19:36.210995",
     "status": "completed"
    },
    "tags": []
   },
   "outputs": [
    {
     "data": {
      "text/plain": [
       "<AxesSubplot:title={'center':'Per Domain Validation Accuracy'}, xlabel='domain'>"
      ]
     },
     "execution_count": 27,
     "metadata": {},
     "output_type": "execute_result"
    },
    {
     "data": {
      "image/png": "[encoded data removed]",
      "text/plain": [
       "<Figure size 1080x504 with 1 Axes>"
      ]
     },
     "metadata": {
      "needs_background": "light"
     },
     "output_type": "display_data"
    }
   ],
   "source": [
    "get_domain_accuracies(experiment)"
   ]
  },
  {
   "cell_type": "code",
   "execution_count": 28,
   "id": "a74ae082",
   "metadata": {
    "execution": {
     "iopub.execute_input": "2022-03-20T01:19:36.488703Z",
     "iopub.status.busy": "2022-03-20T01:19:36.488294Z",
     "iopub.status.idle": "2022-03-20T01:19:36.501246Z",
     "shell.execute_reply": "2022-03-20T01:19:36.501464Z"
    },
    "papermill": {
     "duration": 0.047581,
     "end_time": "2022-03-20T01:19:36.501546",
     "exception": false,
     "start_time": "2022-03-20T01:19:36.453965",
     "status": "completed"
    },
    "tags": []
   },
   "outputs": [
    {
     "name": "stdout",
     "output_type": "stream",
     "text": [
      "Source Test Label Accuracy: 0.8725911458333333 Target Test Label Accuracy: 0.7056071620893914\n",
      "Source Val Label Accuracy: 0.8714192708333334 Target Val Label Accuracy: 0.7057563082830499\n"
     ]
    }
   ],
   "source": [
    "print(\"Source Test Label Accuracy:\", experiment[\"results\"][\"source_test_label_accuracy\"], \"Target Test Label Accuracy:\", experiment[\"results\"][\"target_test_label_accuracy\"])\n",
    "print(\"Source Val Label Accuracy:\", experiment[\"results\"][\"source_val_label_accuracy\"], \"Target Val Label Accuracy:\", experiment[\"results\"][\"target_val_label_accuracy\"])"
   ]
  },
  {
   "cell_type": "code",
   "execution_count": 29,
   "id": "dacca602",
   "metadata": {
    "execution": {
     "iopub.execute_input": "2022-03-20T01:19:36.571296Z",
     "iopub.status.busy": "2022-03-20T01:19:36.570875Z",
     "iopub.status.idle": "2022-03-20T01:19:36.588706Z",
     "shell.execute_reply": "2022-03-20T01:19:36.588934Z"
    },
    "papermill": {
     "duration": 0.053015,
     "end_time": "2022-03-20T01:19:36.589019",
     "exception": false,
     "start_time": "2022-03-20T01:19:36.536004",
     "status": "completed"
    },
    "tags": [
     "experiment_json"
    ]
   },
   "outputs": [
    {
     "data": {
      "text/plain": [
       "'{\"experiment_name\": \"tl_2v2:oracle.run1.framed -> cores+wisig\", \"parameters\": {\"experiment_name\": \"tl_2v2:oracle.run1.framed -> cores+wisig\", \"device\": \"cuda\", \"lr\": 0.0001, \"n_shot\": 3, \"n_query\": 2, \"train_k_factor\": 3, \"val_k_factor\": 2, \"test_k_factor\": 2, \"torch_default_dtype\": \"torch.float32\", \"n_epoch\": 50, \"patience\": 3, \"criteria_for_best\": \"target_accuracy\", \"x_net\": [{\"class\": \"nnReshape\", \"kargs\": {\"shape\": [-1, 1, 2, 256]}}, {\"class\": \"Conv2d\", \"kargs\": {\"in_channels\": 1, \"out_channels\": 256, \"kernel_size\": [1, 7], \"bias\": false, \"padding\": [0, 3]}}, {\"class\": \"ReLU\", \"kargs\": {\"inplace\": true}}, {\"class\": \"BatchNorm2d\", \"kargs\": {\"num_features\": 256}}, {\"class\": \"Conv2d\", \"kargs\": {\"in_channels\": 256, \"out_channels\": 80, \"kernel_size\": [2, 7], \"bias\": true, \"padding\": [0, 3]}}, {\"class\": \"ReLU\", \"kargs\": {\"inplace\": true}}, {\"class\": \"BatchNorm2d\", \"kargs\": {\"num_features\": 80}}, {\"class\": \"Flatten\", \"kargs\": {}}, {\"class\": \"Linear\", \"kargs\": {\"in_features\": 20480, \"out_features\": 256}}, {\"class\": \"ReLU\", \"kargs\": {\"inplace\": true}}, {\"class\": \"BatchNorm1d\", \"kargs\": {\"num_features\": 256}}, {\"class\": \"Linear\", \"kargs\": {\"in_features\": 256, \"out_features\": 256}}], \"NUM_LOGS_PER_EPOCH\": 10, \"BEST_MODEL_PATH\": \"./best_model.pth\", \"n_way\": 16, \"datasets\": [{\"labels\": [\"1-10.\", \"1-11.\", \"1-15.\", \"1-16.\", \"1-17.\", \"1-18.\", \"1-19.\", \"10-4.\", \"10-7.\", \"11-1.\", \"11-14.\", \"11-17.\", \"11-20.\", \"11-7.\", \"13-20.\", \"13-8.\", \"14-10.\", \"14-11.\", \"14-14.\", \"14-7.\", \"15-1.\", \"15-20.\", \"16-1.\", \"16-16.\", \"17-10.\", \"17-11.\", \"17-2.\", \"19-1.\", \"19-16.\", \"19-19.\", \"19-20.\", \"19-3.\", \"2-10.\", \"2-11.\", \"2-17.\", \"2-18.\", \"2-20.\", \"2-3.\", \"2-4.\", \"2-5.\", \"2-6.\", \"2-7.\", \"2-8.\", \"3-13.\", \"3-18.\", \"3-3.\", \"4-1.\", \"4-10.\", \"4-11.\", \"4-19.\", \"5-5.\", \"6-15.\", \"7-10.\", \"7-14.\", \"8-18.\", \"8-20.\", \"8-3.\", \"8-8.\"], \"domains\": [1, 2, 3, 4, 5], \"num_examples_per_domain_per_label\": -1, \"pickle_path\": \"/mnt/wd500GB/CSC500/csc500-main/datasets/cores.stratified_ds.2022A.pkl\", \"source_or_target_dataset\": \"target\", \"x_transforms\": [\"unit_power\"], \"episode_transforms\": [], \"domain_prefix\": \"C_\"}, {\"labels\": [\"1-10\", \"1-12\", \"1-14\", \"1-16\", \"1-18\", \"1-19\", \"1-8\", \"10-11\", \"10-17\", \"10-4\", \"10-7\", \"11-1\", \"11-10\", \"11-19\", \"11-20\", \"11-4\", \"11-7\", \"12-19\", \"12-20\", \"12-7\", \"13-14\", \"13-18\", \"13-19\", \"13-20\", \"13-3\", \"13-7\", \"14-10\", \"14-11\", \"14-12\", \"14-13\", \"14-14\", \"14-19\", \"14-20\", \"14-7\", \"14-8\", \"14-9\", \"15-1\", \"15-19\", \"15-6\", \"16-1\", \"16-16\", \"16-19\", \"16-20\", \"17-10\", \"17-11\", \"18-1\", \"18-10\", \"18-11\", \"18-12\", \"18-13\", \"18-14\", \"18-15\", \"18-16\", \"18-17\", \"18-19\", \"18-2\", \"18-20\", \"18-4\", \"18-5\", \"18-7\", \"18-8\", \"18-9\", \"19-1\", \"19-10\", \"19-11\", \"19-12\", \"19-13\", \"19-14\", \"19-15\", \"19-19\", \"19-2\", \"19-20\", \"19-3\", \"19-4\", \"19-6\", \"19-7\", \"19-8\", \"19-9\", \"2-1\", \"2-13\", \"2-15\", \"2-3\", \"2-4\", \"2-5\", \"2-6\", \"2-7\", \"2-8\", \"20-1\", \"20-12\", \"20-14\", \"20-15\", \"20-16\", \"20-18\", \"20-19\", \"20-20\", \"20-3\", \"20-4\", \"20-5\", \"20-7\", \"20-8\", \"3-1\", \"3-13\", \"3-18\", \"3-2\", \"3-8\", \"4-1\", \"4-10\", \"4-11\", \"5-1\", \"5-5\", \"6-1\", \"6-15\", \"6-6\", \"7-10\", \"7-11\", \"7-12\", \"7-13\", \"7-14\", \"7-7\", \"7-8\", \"7-9\", \"8-1\", \"8-13\", \"8-14\", \"8-18\", \"8-20\", \"8-3\", \"8-8\", \"9-1\", \"9-7\"], \"domains\": [1, 2, 3, 4], \"num_examples_per_domain_per_label\": -1, \"pickle_path\": \"/mnt/wd500GB/CSC500/csc500-main/datasets/wisig.node3-19.stratified_ds.2022A.pkl\", \"source_or_target_dataset\": \"target\", \"x_transforms\": [\"unit_power\"], \"episode_transforms\": [], \"domain_prefix\": \"W_\"}, {\"labels\": [\"3123D52\", \"3123D65\", \"3123D79\", \"3123D80\", \"3123D54\", \"3123D70\", \"3123D7B\", \"3123D89\", \"3123D58\", \"3123D76\", \"3123D7D\", \"3123EFE\", \"3123D64\", \"3123D78\", \"3123D7E\", \"3124E4A\"], \"domains\": [32, 38, 8, 44, 14, 50, 20, 26], \"num_examples_per_domain_per_label\": 2000, \"pickle_path\": \"/mnt/wd500GB/CSC500/csc500-main/datasets/oracle.Run1_framed_2000Examples_stratified_ds.2022A.pkl\", \"source_or_target_dataset\": \"source\", \"x_transforms\": [\"unit_power\"], \"episode_transforms\": [], \"domain_prefix\": \"O_\"}], \"seed\": 500, \"dataset_seed\": 500, \"x_shape\": [2, 256], \"domains_source\": [\"O_32\", \"O_38\", \"O_8\", \"O_44\", \"O_14\", \"O_50\", \"O_20\", \"O_26\"], \"domains_target\": [\"C_1\", \"C_2\", \"C_3\", \"C_4\", \"C_5\", \"W_1\", \"W_2\", \"W_3\", \"W_4\"]}, \"results\": {\"source_test_label_accuracy\": 0.8725911458333333, \"source_test_label_loss\": 0.35412198305130005, \"target_test_label_accuracy\": 0.7056071620893914, \"target_test_label_loss\": 9.01798152923584, \"source_val_label_accuracy\": 0.8714192708333334, \"source_val_label_loss\": 0.3577137589454651, \"target_val_label_accuracy\": 0.7057563082830499, \"target_val_label_loss\": 8.94570541381836, \"total_epochs_trained\": 7, \"total_experiment_time_secs\": 1403.3577706813812, \"confusion\": {\"O_50\": {\"7\": {\"7\": 211, \"5\": 11, \"13\": 13, \"10\": 3, \"6\": 2}, \"10\": {\"10\": 228, \"7\": 1, \"8\": 2, \"13\": 6, \"0\": 3}, \"0\": {\"0\": 219, \"2\": 15, \"10\": 6}, \"11\": {\"11\": 231, \"15\": 5, \"9\": 4}, \"2\": {\"2\": 230, \"0\": 10}, \"14\": {\"14\": 240}, \"9\": {\"11\": 5, \"9\": 232, \"12\": 3}, \"13\": {\"5\": 10, \"13\": 216, \"6\": 8, \"7\": 4, \"0\": 1, \"10\": 1}, \"8\": {\"8\": 240}, \"15\": {\"15\": 219, \"1\": 10, \"4\": 10, \"6\": 1}, \"4\": {\"4\": 174, \"5\": 40, \"15\": 16, \"13\": 1, \"1\": 7, \"6\": 1, \"7\": 1}, \"5\": {\"4\": 24, \"5\": 171, \"7\": 18, \"1\": 9, \"13\": 17, \"6\": 1}, \"3\": {\"3\": 240}, \"1\": {\"1\": 190, \"4\": 10, \"5\": 5, \"15\": 29, \"13\": 3, \"6\": 3}, \"6\": {\"6\": 229, \"13\": 4, \"7\": 4, \"4\": 2, \"5\": 1}, \"12\": {\"12\": 234, \"11\": 5, \"9\": 1}}, \"O_14\": {\"14\": {\"14\": 219, \"2\": 20, \"13\": 1}, \"6\": {\"6\": 186, \"13\": 50, \"2\": 4}, \"5\": {\"1\": 10, \"5\": 195, \"4\": 24, \"2\": 10, \"13\": 1}, \"15\": {\"15\": 240}, \"11\": {\"11\": 231, \"9\": 9}, \"8\": {\"8\": 240}, \"12\": {\"12\": 240}, \"1\": {\"1\": 237, \"5\": 3}, \"2\": {\"2\": 159, \"14\": 44, \"13\": 6, \"5\": 20, \"6\": 6, \"3\": 4, \"4\": 1}, \"13\": {\"13\": 154, \"6\": 67, \"4\": 3, \"14\": 6, \"3\": 1, \"2\": 8, \"5\": 1}, \"3\": {\"3\": 237, \"2\": 3}, \"0\": {\"0\": 236, \"3\": 2, \"10\": 1, \"11\": 1}, \"9\": {\"9\": 240}, \"4\": {\"4\": 225, \"5\": 13, \"2\": 1, \"1\": 1}, \"7\": {\"7\": 240}, \"10\": {\"10\": 240}}, \"O_32\": {\"4\": {\"4\": 193, \"2\": 33, \"5\": 4, \"7\": 7, \"13\": 3}, \"14\": {\"11\": 28, \"14\": 178, \"7\": 7, \"0\": 22, \"8\": 2, \"5\": 2, \"3\": 1}, \"5\": {\"5\": 153, \"13\": 15, \"3\": 11, \"7\": 41, \"4\": 11, \"0\": 4, \"14\": 2, \"8\": 3}, \"10\": {\"10\": 240}, \"13\": {\"7\": 10, \"13\": 195, \"4\": 14, \"5\": 8, \"3\": 9, \"8\": 3, \"0\": 1}, \"9\": {\"9\": 240}, \"6\": {\"6\": 240}, \"3\": {\"3\": 238, \"11\": 1, \"13\": 1}, \"15\": {\"15\": 240}, \"7\": {\"7\": 196, \"5\": 23, \"4\": 10, \"14\": 5, \"0\": 1, \"13\": 4, \"11\": 1}, \"12\": {\"12\": 240}, \"8\": {\"8\": 213, \"13\": 4, \"0\": 14, \"14\": 2, \"3\": 2, \"5\": 5}, \"11\": {\"11\": 229, \"14\": 11}, \"2\": {\"2\": 197, \"4\": 41, \"7\": 2}, \"1\": {\"1\": 240}, \"0\": {\"0\": 216, \"8\": 14, \"13\": 3, \"14\": 5, \"7\": 1, \"4\": 1}}, \"O_44\": {\"8\": {\"0\": 74, \"8\": 159, \"5\": 4, \"15\": 3}, \"11\": {\"11\": 238, \"13\": 2}, \"14\": {\"14\": 183, \"4\": 51, \"5\": 1, \"15\": 5}, \"10\": {\"10\": 215, \"1\": 13, \"2\": 11, \"12\": 1}, \"3\": {\"3\": 234, \"1\": 6}, \"15\": {\"15\": 212, \"8\": 1, \"14\": 9, \"0\": 14, \"5\": 3, \"4\": 1}, \"2\": {\"2\": 214, \"7\": 16, \"10\": 8, \"3\": 1, \"1\": 1}, \"12\": {\"12\": 220, \"1\": 16, \"10\": 3, \"3\": 1}, \"4\": {\"14\": 69, \"4\": 171}, \"1\": {\"1\": 184, \"10\": 9, \"3\": 11, \"12\": 32, \"2\": 4}, \"0\": {\"0\": 169, \"15\": 5, \"8\": 63, \"5\": 3}, \"9\": {\"6\": 21, \"9\": 136, \"7\": 58, \"13\": 24, \"2\": 1}, \"5\": {\"5\": 206, \"0\": 15, \"14\": 7, \"8\": 5, \"15\": 7}, \"6\": {\"6\": 191, \"13\": 30, \"9\": 16, \"7\": 3}, \"7\": {\"7\": 174, \"9\": 41, \"6\": 2, \"2\": 22, \"1\": 1}, \"13\": {\"13\": 180, \"6\": 34, \"9\": 24, \"11\": 1, \"4\": 1}}, \"O_8\": {\"13\": {\"13\": 127, \"0\": 50, \"10\": 28, \"4\": 18, \"7\": 3, \"6\": 8, \"14\": 6}, \"3\": {\"3\": 240}, \"15\": {\"12\": 21, \"15\": 219}, \"4\": {\"4\": 201, \"13\": 24, \"6\": 8, \"14\": 7}, \"7\": {\"7\": 212, \"6\": 26, \"13\": 1, \"0\": 1}, \"2\": {\"2\": 226, \"3\": 4, \"7\": 9, \"15\": 1}, \"1\": {\"1\": 234, \"11\": 3, \"14\": 3}, \"0\": {\"0\": 219, \"13\": 16, \"6\": 2, \"4\": 2, \"7\": 1}, \"12\": {\"15\": 52, \"12\": 185, \"3\": 3}, \"6\": {\"6\": 198, \"7\": 30, \"4\": 7, \"13\": 4, \"0\": 1}, \"11\": {\"11\": 237, \"1\": 3}, \"9\": {\"9\": 240}, \"5\": {\"5\": 229, \"14\": 4, \"10\": 6, \"1\": 1}, \"10\": {\"10\": 224, \"14\": 4, \"13\": 8, \"4\": 4}, \"14\": {\"14\": 197, \"4\": 24, \"10\": 11, \"13\": 4, \"1\": 4}, \"8\": {\"8\": 239, \"15\": 1}}, \"O_20\": {\"6\": {\"6\": 237, \"14\": 3}, \"11\": {\"11\": 240}, \"5\": {\"5\": 206, \"0\": 14, \"15\": 15, \"12\": 3, \"1\": 1, \"4\": 1}, \"14\": {\"14\": 238, \"6\": 2}, \"2\": {\"2\": 196, \"3\": 9, \"12\": 8, \"9\": 15, \"7\": 7, \"13\": 4, \"1\": 1}, \"7\": {\"7\": 231, \"2\": 9}, \"3\": {\"3\": 173, \"12\": 33, \"2\": 11, \"4\": 5, \"9\": 15, \"1\": 2, \"7\": 1}, \"4\": {\"4\": 235, \"3\": 2, \"8\": 3}, \"9\": {\"9\": 194, \"2\": 25, \"3\": 16, \"12\": 4, \"1\": 1}, \"12\": {\"12\": 141, \"1\": 50, \"3\": 38, \"2\": 5, \"9\": 5, \"7\": 1}, \"0\": {\"0\": 200, \"5\": 30, \"15\": 10}, \"10\": {\"10\": 240}, \"8\": {\"8\": 236, \"4\": 4}, \"13\": {\"13\": 237, \"7\": 1, \"2\": 2}, \"1\": {\"1\": 193, \"12\": 33, \"15\": 11, \"5\": 2, \"3\": 1}, \"15\": {\"15\": 209, \"1\": 11, \"5\": 12, \"0\": 7, \"12\": 1}}, \"O_38\": {\"3\": {\"3\": 236, \"9\": 3, \"0\": 1}, \"8\": {\"5\": 45, \"8\": 164, \"0\": 16, \"7\": 11, \"15\": 2, \"13\": 1, \"10\": 1}, \"0\": {\"0\": 183, \"7\": 21, \"8\": 20, \"3\": 7, \"10\": 3, \"13\": 4, \"5\": 2}, \"2\": {\"2\": 219, \"14\": 13, \"13\": 7, \"15\": 1}, \"4\": {\"4\": 240}, \"7\": {\"7\": 221, \"5\": 9, \"8\": 5, \"0\": 5}, \"12\": {\"12\": 240}, \"6\": {\"6\": 238, \"5\": 1, \"9\": 1}, \"15\": {\"15\": 211, \"13\": 6, \"1\": 19, \"8\": 2, \"5\": 2}, \"11\": {\"11\": 237, \"14\": 1, \"4\": 1, \"3\": 1}, \"9\": {\"9\": 236, \"6\": 4}, \"14\": {\"14\": 239, \"2\": 1}, \"10\": {\"10\": 229, \"0\": 3, \"13\": 5, \"7\": 2, \"14\": 1}, \"5\": {\"8\": 46, \"5\": 139, \"7\": 32, \"6\": 7, \"9\": 9, \"0\": 1, \"15\": 6}, \"1\": {\"1\": 238, \"15\": 2}, \"13\": {\"13\": 217, \"8\": 1, \"2\": 7, \"10\": 9, \"0\": 2, \"15\": 4}}, \"O_26\": {\"5\": {\"5\": 214, \"2\": 12, \"13\": 12, \"3\": 1, \"9\": 1}, \"8\": {\"4\": 22, \"8\": 148, \"10\": 35, \"9\": 1, \"7\": 10, \"0\": 13, \"15\": 5, \"6\": 2, \"14\": 3, \"2\": 1}, \"4\": {\"14\": 54, \"0\": 18, \"4\": 140, \"8\": 13, \"1\": 2, \"10\": 8, \"7\": 5}, \"12\": {\"12\": 240}, \"6\": {\"6\": 226, \"9\": 5, \"15\": 2, \"0\": 1, \"10\": 6}, \"7\": {\"7\": 205, \"3\": 15, \"4\": 9, \"2\": 8, \"8\": 3}, \"10\": {\"10\": 118, \"0\": 68, \"14\": 23, \"15\": 1, \"6\": 5, \"8\": 21, \"4\": 3, \"9\": 1}, \"0\": {\"4\": 24, \"0\": 106, \"10\": 62, \"14\": 28, \"7\": 3, \"8\": 17}, \"15\": {\"15\": 168, \"9\": 59, \"6\": 4, \"8\": 5, \"5\": 1, \"13\": 2, \"2\": 1}, \"9\": {\"9\": 175, \"8\": 2, \"15\": 46, \"6\": 14, \"10\": 2, \"13\": 1}, \"11\": {\"11\": 240}, \"14\": {\"4\": 44, \"14\": 160, \"1\": 6, \"0\": 24, \"10\": 4, \"8\": 2}, \"2\": {\"2\": 121, \"3\": 81, \"5\": 18, \"15\": 7, \"8\": 3, \"7\": 7, \"13\": 3}, \"13\": {\"13\": 196, \"5\": 35, \"2\": 3, \"9\": 1, \"15\": 4, \"6\": 1}, \"3\": {\"3\": 206, \"2\": 30, \"7\": 4}, \"1\": {\"1\": 230, \"4\": 5, \"14\": 5}}, \"W_3\": {\"99\": {\"99\": 28, \"25\": 1, \"48\": 1, \"97\": 1, \"88\": 2, \"105\": 1, \"128\": 2}, \"8\": {\"49\": 2, \"8\": 49, \"101\": 1, \"95\": 1, \"10\": 4, \"7\": 13, \"124\": 4, \"4\": 2, \"108\": 5, \"127\": 9, \"12\": 8, \"0\": 4, \"111\": 6, \"72\": 1, \"35\": 1, \"128\": 2, \"30\": 2, \"105\": 1, \"71\": 1, \"5\": 3, \"3\": 2, \"98\": 3}, \"65\": {\"18\": 1, \"65\": 7, \"110\": 1, \"48\": 1, \"49\": 2}, \"117\": {\"117\": 96, \"18\": 4, \"39\": 6, \"126\": 1, \"113\": 3, \"26\": 1, \"118\": 1}, \"18\": {\"18\": 99, \"117\": 6, \"113\": 7, \"39\": 7, \"90\": 1, \"26\": 1, \"2\": 1, \"81\": 2}, \"39\": {\"18\": 10, \"39\": 58, \"21\": 4, \"23\": 1, \"121\": 1, \"2\": 2, \"126\": 5, \"117\": 14, \"118\": 3, \"113\": 6, \"109\": 2, \"67\": 1, \"16\": 1}, \"102\": {\"11\": 2, \"102\": 87, \"62\": 2, \"33\": 8, \"16\": 10, \"69\": 7, \"118\": 3, \"93\": 5}, \"76\": {\"39\": 1, \"76\": 13, \"109\": 1, \"33\": 1}, \"101\": {\"101\": 24, \"58\": 1, \"59\": 2, \"8\": 1, \"42\": 1, \"111\": 5, \"7\": 4, \"12\": 2, \"127\": 1, \"18\": 1, \"15\": 1, \"0\": 2, \"72\": 1, \"37\": 2, \"117\": 1, \"30\": 3}, \"57\": {\"57\": 20}, \"86\": {\"86\": 21, \"99\": 1, \"110\": 2, \"46\": 1, \"19\": 1, \"26\": 1, \"41\": 1}, \"11\": {\"11\": 36, \"23\": 1, \"84\": 5, \"14\": 5, \"69\": 7, \"26\": 3, \"62\": 13, \"33\": 13, \"90\": 3, \"43\": 3, \"109\": 9, \"87\": 2, \"102\": 6, \"16\": 3, \"93\": 7, \"40\": 2, \"114\": 1, \"107\": 2, \"88\": 4, \"96\": 1, \"118\": 2, \"113\": 2, \"39\": 1, \"124\": 1}, \"98\": {\"98\": 79, \"30\": 3, \"68\": 4, \"112\": 2, \"7\": 3, \"59\": 1, \"8\": 3, \"12\": 6, \"34\": 2, \"32\": 1, \"124\": 4, \"128\": 1, \"111\": 2, \"0\": 7, \"37\": 2, \"42\": 1, \"72\": 2, \"6\": 1, \"108\": 1, \"90\": 1, \"94\": 1, \"127\": 1}, \"42\": {\"49\": 3, \"101\": 1, \"24\": 1, \"15\": 1, \"108\": 1, \"71\": 1, \"5\": 1, \"42\": 6, \"106\": 2, \"97\": 1, \"60\": 1, \"19\": 1, \"73\": 1, \"46\": 1, \"83\": 1, \"111\": 1, \"0\": 1, \"95\": 1, \"4\": 1, \"10\": 1}, \"47\": {\"8\": 1, \"47\": 10, \"71\": 1}, \"49\": {\"42\": 1, \"99\": 1, \"35\": 2, \"19\": 2, \"49\": 6, \"105\": 2, \"4\": 1, \"87\": 1, \"41\": 1, \"29\": 1, \"114\": 1, \"0\": 2, \"68\": 1, \"71\": 1, \"110\": 1}, \"111\": {\"111\": 108, \"73\": 1, \"12\": 7, \"94\": 2, \"109\": 1, \"97\": 2, \"30\": 6, \"15\": 4, \"106\": 1}, \"36\": {\"36\": 57, \"51\": 1, \"24\": 2, \"94\": 4, \"0\": 5, \"106\": 6, \"30\": 3, \"15\": 6, \"111\": 11, \"71\": 1, \"12\": 2, \"98\": 1, \"127\": 3, \"125\": 5, \"52\": 1, \"27\": 7, \"3\": 1}, \"124\": {\"124\": 78, \"37\": 1, \"83\": 1, \"11\": 1, \"0\": 3, \"35\": 1, \"42\": 2, \"111\": 1, \"127\": 2, \"108\": 3, \"7\": 3, \"8\": 2, \"12\": 2, \"68\": 1, \"72\": 1, \"98\": 2, \"93\": 1, \"125\": 1}, \"122\": {\"93\": 3, \"129\": 3, \"74\": 1, \"122\": 23, \"61\": 1, \"1\": 2, \"114\": 2, \"87\": 1, \"90\": 4, \"109\": 1, \"18\": 1, \"44\": 1, \"107\": 2, \"40\": 1, \"9\": 1, \"55\": 2, \"34\": 1, \"115\": 1, \"84\": 4, \"62\": 1, \"126\": 2, \"5\": 1, \"26\": 1}, \"93\": {\"69\": 5, \"90\": 3, \"93\": 63, \"33\": 16, \"92\": 2, \"102\": 12, \"39\": 1, \"84\": 5, \"87\": 1, \"109\": 2, \"11\": 7, \"16\": 12, \"62\": 1, \"88\": 3, \"118\": 2, \"13\": 1, \"43\": 2, \"23\": 2, \"26\": 1, \"113\": 1}, \"89\": {\"89\": 18, \"69\": 3, \"70\": 1, \"102\": 2, \"26\": 1, \"116\": 1, \"93\": 2}, \"51\": {\"51\": 13, \"73\": 1, \"68\": 1, \"111\": 1}, \"73\": {\"73\": 31, \"36\": 1, \"42\": 1, \"15\": 2, \"0\": 2, \"30\": 2, \"21\": 1}, \"45\": {\"69\": 1, \"45\": 11, \"82\": 3, \"32\": 1}, \"5\": {\"124\": 5, \"5\": 71, \"18\": 2, \"19\": 2, \"127\": 1, \"71\": 7, \"4\": 7, \"108\": 2, \"113\": 2, \"7\": 1, \"1\": 1, \"3\": 4, \"126\": 1, \"49\": 1, \"42\": 1, \"9\": 1, \"104\": 1, \"114\": 1, \"98\": 1}, \"69\": {\"69\": 52, \"82\": 1, \"16\": 5, \"32\": 1, \"102\": 8, \"62\": 4, \"84\": 2, \"18\": 1, \"118\": 3, \"126\": 1, \"92\": 1, \"26\": 1, \"33\": 1, \"11\": 2, \"1\": 1}, \"26\": {\"26\": 102, \"121\": 1, \"67\": 2, \"2\": 1, \"39\": 4, \"43\": 1, \"102\": 2, \"69\": 1, \"118\": 5, \"117\": 3, \"113\": 6, \"120\": 1, \"116\": 1}, \"1\": {\"1\": 51, \"114\": 14, \"105\": 10, \"129\": 1, \"22\": 1, \"122\": 1, \"127\": 1, \"40\": 4, \"5\": 3, \"4\": 4, \"110\": 2, \"88\": 2, \"87\": 2, \"66\": 1, \"55\": 2, \"46\": 1, \"9\": 2, \"86\": 2, \"44\": 1, \"39\": 1, \"107\": 1, \"7\": 1}, \"92\": {\"92\": 23, \"93\": 1, \"33\": 1, \"16\": 1, \"2\": 1, \"11\": 3, \"100\": 1, \"64\": 1}, \"96\": {\"96\": 12, \"88\": 1, \"117\": 1, \"109\": 2, \"113\": 2, \"92\": 2}, \"85\": {\"85\": 25, \"127\": 1, \"124\": 1, \"98\": 1, \"71\": 1, \"72\": 1, \"47\": 1, \"46\": 1, \"42\": 1, \"34\": 1, \"3\": 2}, \"114\": {\"1\": 11, \"114\": 93, \"34\": 1, \"105\": 5, \"110\": 2, \"99\": 1, \"14\": 1, \"4\": 4, \"71\": 2, \"3\": 1, \"5\": 1, \"87\": 1, \"103\": 1, \"40\": 1, \"122\": 1}, \"50\": {\"90\": 1, \"50\": 8, \"110\": 1, \"74\": 2, \"115\": 2, \"70\": 1, \"40\": 1}, \"81\": {\"81\": 30, \"63\": 1, \"18\": 1}, \"2\": {\"2\": 18, \"28\": 1, \"92\": 1, \"96\": 2, \"39\": 3, \"117\": 3}, \"33\": {\"33\": 113, \"84\": 3, \"69\": 3, \"16\": 2, \"93\": 11, \"100\": 1, \"82\": 2, \"102\": 6, \"21\": 1, \"14\": 1, \"109\": 1, \"62\": 1, \"11\": 1}, \"31\": {\"33\": 2, \"90\": 1, \"31\": 14, \"80\": 1, \"65\": 1, \"84\": 1}, \"90\": {\"50\": 1, \"90\": 93, \"93\": 3, \"14\": 3, \"84\": 4, \"11\": 1, \"33\": 3, \"107\": 6, \"109\": 1, \"29\": 2, \"53\": 1}, \"17\": {\"91\": 2, \"11\": 2, \"43\": 3, \"17\": 3, \"113\": 1, \"105\": 1, \"93\": 2, \"108\": 1, \"110\": 1}, \"116\": {\"33\": 1, \"116\": 9, \"60\": 1, \"78\": 1, \"11\": 2, \"107\": 1, \"14\": 1, \"109\": 1, \"50\": 1, \"43\": 1, \"62\": 3, \"119\": 2, \"92\": 2, \"82\": 2}, \"91\": {\"91\": 16, \"68\": 1, \"19\": 2, \"70\": 2, \"7\": 1, \"31\": 1, \"30\": 1}, \"120\": {\"120\": 20}, \"128\": {\"74\": 2, \"91\": 1, \"128\": 12, \"103\": 1, \"87\": 1, \"22\": 1, \"5\": 1, \"40\": 1, \"3\": 1, \"110\": 2, \"55\": 4, \"28\": 1, \"95\": 1, \"8\": 1, \"10\": 2}, \"78\": {\"120\": 2, \"78\": 3, \"40\": 1, \"113\": 3, \"32\": 1, \"60\": 1, \"64\": 1, \"119\": 2, \"39\": 1, \"49\": 1}, \"58\": {\"58\": 12, \"30\": 2, \"68\": 2}, \"23\": {\"74\": 1, \"120\": 2, \"60\": 2, \"83\": 1, \"35\": 1, \"19\": 3, \"121\": 1, \"128\": 1, \"126\": 4, \"81\": 1, \"118\": 1, \"127\": 1, \"18\": 1, \"70\": 1, \"9\": 1, \"43\": 2, \"105\": 1, \"2\": 1, \"95\": 1, \"117\": 2, \"123\": 1, \"101\": 1, \"113\": 1}, \"15\": {\"97\": 1, \"15\": 45, \"6\": 2, \"24\": 2, \"106\": 7, \"123\": 1, \"7\": 1, \"124\": 2, \"125\": 3, \"58\": 2, \"83\": 3, \"98\": 2, \"94\": 7, \"27\": 1, \"0\": 1, \"111\": 6, \"12\": 5, \"71\": 1, \"36\": 4, \"72\": 1, \"30\": 1, \"73\": 2, \"52\": 1, \"101\": 2, \"21\": 1}, \"74\": {\"74\": 16}, \"34\": {\"9\": 1, \"97\": 3, \"20\": 1, \"59\": 1, \"34\": 6, \"27\": 1, \"6\": 4, \"73\": 1, \"60\": 1, \"106\": 2, \"122\": 1, \"74\": 1, \"22\": 1, \"117\": 1, \"15\": 1, \"111\": 1, \"110\": 2, \"90\": 1, \"129\": 1, \"94\": 1}, \"103\": {\"103\": 10, \"95\": 1, \"114\": 2, \"19\": 1, \"49\": 1, \"86\": 1}, \"106\": {\"106\": 63, \"27\": 9, \"73\": 2, \"15\": 5, \"125\": 1, \"30\": 3, \"36\": 8, \"97\": 2, \"34\": 1, \"6\": 1, \"111\": 3, \"108\": 2}, \"44\": {\"23\": 1, \"44\": 58, \"80\": 1, \"121\": 1, \"64\": 1, \"84\": 2, \"70\": 1, \"40\": 2, \"110\": 1, \"16\": 1, \"113\": 1, \"1\": 2}, \"9\": {\"9\": 23, \"105\": 1, \"101\": 1, \"1\": 2, \"127\": 1, \"93\": 1, \"86\": 2, \"55\": 1}, \"97\": {\"97\": 14, \"106\": 1, \"15\": 1, \"42\": 1, \"58\": 1, \"59\": 1, \"75\": 1}, \"123\": {\"123\": 11, \"106\": 1, \"92\": 1, \"117\": 2, \"83\": 1}, \"6\": {\"6\": 20, \"15\": 2, \"27\": 2, \"98\": 3, \"0\": 1, \"90\": 1, \"111\": 1, \"125\": 1, \"106\": 1}, \"68\": {\"68\": 16}, \"24\": {\"24\": 12, \"15\": 4, \"37\": 2, \"42\": 1, \"7\": 2, \"12\": 1, \"71\": 1, \"30\": 4, \"83\": 2, \"127\": 2, \"95\": 1, \"72\": 1, \"94\": 4, \"8\": 2, \"36\": 3, \"97\": 1, \"111\": 1, \"25\": 1, \"85\": 1, \"35\": 1, \"0\": 1}, \"21\": {\"23\": 1, \"21\": 31, \"39\": 4, \"11\": 1, \"41\": 1, \"81\": 1, \"109\": 2, \"126\": 1, \"43\": 2, \"31\": 1, \"118\": 1, \"15\": 1, \"18\": 1}, \"83\": {\"83\": 16, \"118\": 1, \"106\": 1, \"12\": 1, \"95\": 1, \"61\": 1, \"68\": 1, \"51\": 1, \"101\": 1}, \"60\": {\"60\": 10, \"87\": 2, \"48\": 1, \"38\": 2, \"32\": 1, \"115\": 1, \"44\": 1, \"1\": 1, \"114\": 1, \"34\": 1, \"74\": 1, \"20\": 1, \"28\": 1, \"9\": 1, \"122\": 1, \"57\": 1, \"105\": 1}, \"87\": {\"60\": 2, \"20\": 1, \"38\": 2, \"114\": 12, \"87\": 44, \"14\": 4, \"70\": 1, \"62\": 5, \"44\": 2, \"40\": 9, \"32\": 1, \"4\": 2, \"105\": 4, \"109\": 1, \"1\": 3, \"16\": 1, \"88\": 9, \"107\": 4, \"3\": 1, \"11\": 2, \"28\": 1, \"55\": 1, \"90\": 3, \"84\": 2, \"122\": 1, \"93\": 1, \"5\": 1}, \"30\": {\"6\": 4, \"68\": 1, \"42\": 1, \"108\": 2, \"30\": 18, \"18\": 1, \"73\": 4, \"3\": 2, \"117\": 1, \"94\": 5, \"7\": 6, \"127\": 2, \"27\": 1, \"98\": 1, \"111\": 8, \"8\": 7, \"15\": 6, \"106\": 1, \"85\": 1, \"17\": 1, \"12\": 2, \"91\": 1, \"110\": 1, \"113\": 1, \"125\": 2, \"71\": 3, \"10\": 1}, \"43\": {\"90\": 3, \"118\": 2, \"84\": 2, \"100\": 2, \"43\": 19, \"80\": 2, \"96\": 1, \"26\": 3, \"88\": 2, \"93\": 3, \"102\": 1, \"32\": 1, \"13\": 1, \"120\": 1, \"33\": 2, \"11\": 3, \"109\": 2, \"21\": 2, \"14\": 1, \"39\": 1, \"117\": 1, \"69\": 1}, \"115\": {\"115\": 12, \"84\": 1, \"88\": 1, \"48\": 1, \"90\": 1}, \"40\": {\"40\": 84, \"100\": 2, \"103\": 2, \"87\": 11, \"129\": 1, \"126\": 1, \"114\": 3, \"107\": 3, \"3\": 2, \"80\": 1, \"116\": 2, \"22\": 1, \"79\": 1, \"122\": 2, \"30\": 1, \"44\": 1, \"84\": 2}, \"112\": {\"112\": 8, \"47\": 1, \"83\": 1, \"98\": 1, \"68\": 3, \"12\": 1, \"97\": 1}, \"66\": {\"66\": 13, \"34\": 1, \"104\": 1, \"55\": 1}, \"110\": {\"3\": 4, \"110\": 25, \"112\": 1, \"88\": 1, \"55\": 1, \"129\": 1, \"34\": 1, \"28\": 2, \"19\": 3, \"105\": 4, \"114\": 7, \"5\": 1, \"70\": 2, \"90\": 4, \"86\": 1, \"73\": 1, \"89\": 1, \"4\": 10, \"10\": 3, \"87\": 1, \"128\": 1, \"8\": 2, \"74\": 2, \"48\": 1, \"103\": 1, \"43\": 1, \"122\": 2, \"14\": 1, \"40\": 5, \"71\": 1, \"111\": 1}, \"3\": {\"66\": 1, \"3\": 66, \"7\": 2, \"127\": 13, \"95\": 1, \"8\": 3, \"4\": 3, \"71\": 4, \"106\": 1, \"124\": 2, \"108\": 4, \"5\": 9, \"12\": 2, \"126\": 1, \"111\": 2}, \"20\": {\"79\": 2, \"100\": 2, \"20\": 7, \"60\": 1, \"87\": 1, \"62\": 1, \"88\": 1, \"40\": 1}, \"28\": {\"28\": 16}, \"84\": {\"40\": 2, \"84\": 58, \"74\": 1, \"33\": 7, \"14\": 6, \"29\": 4, \"126\": 2, \"100\": 1, \"116\": 1, \"109\": 3, \"93\": 2, \"69\": 3, \"90\": 4, \"107\": 6, \"87\": 3, \"62\": 2, \"114\": 1, \"82\": 1, \"16\": 1}, \"79\": {\"79\": 8, \"74\": 1, \"33\": 1, \"115\": 1, \"46\": 1}, \"118\": {\"43\": 3, \"118\": 33, \"16\": 7, \"23\": 1, \"117\": 2, \"102\": 7, \"84\": 2, \"64\": 2, \"33\": 1, \"109\": 8, \"69\": 2, \"11\": 3, \"26\": 9, \"93\": 5, \"12\": 1, \"113\": 4, \"39\": 2, \"13\": 1, \"96\": 1, \"119\": 1, \"120\": 1, \"67\": 1, \"21\": 1, \"62\": 1, \"126\": 1}, \"56\": {\"7\": 2, \"36\": 1, \"56\": 6, \"41\": 1, \"95\": 1, \"125\": 1}, \"48\": {\"48\": 2, \"26\": 1, \"100\": 2, \"80\": 1, \"77\": 1, \"128\": 1, \"43\": 2, \"86\": 1, \"93\": 1, \"60\": 1, \"79\": 1, \"102\": 2}, \"77\": {\"77\": 13, \"10\": 3}, \"14\": {\"14\": 63, \"43\": 2, \"62\": 7, \"69\": 2, \"116\": 1, \"33\": 1, \"102\": 1, \"11\": 1, \"16\": 1, \"93\": 1}, \"64\": {\"64\": 19, \"96\": 1}, \"67\": {\"67\": 15, \"122\": 1}, \"62\": {\"62\": 89, \"14\": 8, \"43\": 1, \"39\": 1, \"33\": 6, \"88\": 2, \"84\": 1, \"16\": 1, \"11\": 5, \"93\": 2, \"90\": 2, \"118\": 1, \"78\": 1, \"122\": 1, \"82\": 1, \"69\": 1, \"21\": 1}, \"75\": {\"75\": 12, \"106\": 1, \"97\": 1, \"15\": 1, \"36\": 1}, \"63\": {\"63\": 13, \"109\": 1, \"83\": 1, \"64\": 1}, \"7\": {\"7\": 84, \"95\": 2, \"91\": 3, \"71\": 2, \"8\": 6, \"10\": 2, \"127\": 5, \"108\": 2, \"30\": 1, \"3\": 2, \"111\": 1, \"0\": 1, \"12\": 1}, \"125\": {\"125\": 86, \"75\": 1, \"106\": 3, \"94\": 2, \"27\": 3, \"18\": 1, \"36\": 5, \"111\": 1, \"31\": 1, \"93\": 1}, \"37\": {\"37\": 16}, \"121\": {\"121\": 15, \"120\": 2, \"13\": 2, \"27\": 1, \"26\": 1, \"81\": 1, \"113\": 3, \"2\": 2, \"39\": 1, \"21\": 2, \"102\": 2}, \"16\": {\"16\": 65, \"33\": 2, \"92\": 1, \"93\": 7, \"11\": 4, \"102\": 8, \"118\": 5, \"109\": 4, \"84\": 1, \"113\": 1, \"96\": 1, \"14\": 1, \"117\": 1, \"62\": 2, \"18\": 1}, \"35\": {\"42\": 1, \"35\": 7, \"95\": 1, \"108\": 1, \"68\": 1, \"72\": 1}, \"32\": {\"93\": 2, \"32\": 17, \"70\": 2, \"102\": 1, \"62\": 3, \"10\": 1, \"28\": 1, \"45\": 1, \"16\": 1, \"110\": 2, \"69\": 1}, \"46\": {\"46\": 12, \"5\": 1, \"114\": 1, \"127\": 1, \"1\": 1}, \"70\": {\"19\": 1, \"70\": 8, \"128\": 2, \"115\": 2, \"127\": 8, \"85\": 1, \"66\": 1, \"87\": 3, \"108\": 4, \"41\": 2, \"4\": 5, \"98\": 2, \"11\": 2, \"0\": 1, \"14\": 3, \"33\": 1, \"113\": 1, \"42\": 1, \"67\": 1, \"71\": 2, \"57\": 1, \"122\": 1, \"68\": 1, \"114\": 1, \"62\": 2, \"3\": 1, \"7\": 2, \"81\": 1, \"88\": 4, \"8\": 1, \"5\": 2, \"90\": 2, \"109\": 1, \"10\": 1}, \"129\": {\"3\": 1, \"129\": 10, \"122\": 2, \"105\": 1, \"60\": 1, \"100\": 1, \"114\": 2, \"87\": 1, \"1\": 2, \"5\": 3, \"9\": 1, \"4\": 3, \"32\": 1, \"107\": 1, \"17\": 1, \"44\": 1}, \"95\": {\"95\": 28, \"64\": 1, \"4\": 1, \"0\": 2}, \"72\": {\"72\": 25, \"7\": 1, \"101\": 1, \"12\": 1}, \"19\": {\"84\": 1, \"95\": 2, \"17\": 1, \"40\": 3, \"19\": 9, \"49\": 2, \"91\": 1, \"29\": 1, \"128\": 1, \"127\": 5, \"4\": 1, \"7\": 1, \"34\": 1, \"8\": 1, \"71\": 2}, \"52\": {\"52\": 10, \"37\": 2, \"91\": 1, \"15\": 1, \"73\": 1, \"0\": 1}, \"100\": {\"100\": 10, \"20\": 1, \"39\": 1, \"29\": 2, \"79\": 1, \"40\": 1}, \"104\": {\"34\": 1, \"104\": 10, \"114\": 4, \"105\": 1}, \"59\": {\"59\": 11, \"58\": 1}, \"109\": {\"43\": 3, \"109\": 67, \"61\": 1, \"102\": 3, \"26\": 2, \"93\": 6, \"117\": 3, \"39\": 4, \"89\": 2, \"11\": 7, \"118\": 10, \"122\": 1, \"16\": 6, \"33\": 1, \"113\": 1, \"62\": 3, \"96\": 1, \"2\": 1, \"69\": 2, \"21\": 2}, \"88\": {\"88\": 15, \"52\": 1, \"11\": 1, \"78\": 1, \"26\": 1, \"110\": 4, \"13\": 1, \"60\": 2, \"12\": 1, \"120\": 2, \"121\": 2, \"114\": 4, \"3\": 1, \"109\": 15, \"113\": 3, \"4\": 5, \"107\": 1, \"1\": 3, \"118\": 4, \"127\": 4, \"87\": 4, \"10\": 5, \"93\": 2, \"8\": 3, \"108\": 1, \"5\": 3, \"86\": 1, \"117\": 3, \"99\": 1, \"49\": 1, \"81\": 1, \"70\": 2, \"21\": 1, \"90\": 1, \"7\": 1, \"39\": 2, \"105\": 1, \"40\": 2, \"0\": 1, \"126\": 1}, \"27\": {\"27\": 44, \"83\": 1, \"51\": 1, \"68\": 1, \"6\": 2, \"72\": 1, \"24\": 4, \"7\": 3, \"0\": 1, \"30\": 3, \"125\": 1, \"15\": 2, \"21\": 1, \"106\": 3, \"98\": 6, \"36\": 4, \"94\": 4, \"11\": 1, \"26\": 1, \"25\": 1, \"37\": 1, \"5\": 1, \"126\": 1, \"111\": 3, \"8\": 1, \"3\": 2}, \"113\": {\"88\": 2, \"113\": 69, \"26\": 9, \"33\": 2, \"117\": 12, \"109\": 6, \"93\": 3, \"18\": 7, \"118\": 1, \"11\": 2, \"39\": 3, \"120\": 1, \"89\": 1, \"126\": 2}, \"105\": {\"105\": 87, \"34\": 1, \"124\": 1, \"9\": 2, \"127\": 1, \"60\": 2, \"128\": 2, \"129\": 1, \"99\": 1, \"1\": 4, \"4\": 2, \"88\": 3, \"114\": 10, \"104\": 2, \"110\": 1, \"3\": 1, \"7\": 1, \"5\": 1, \"108\": 1}, \"71\": {\"71\": 44, \"105\": 1, \"41\": 2, \"5\": 5, \"125\": 3, \"12\": 1, \"111\": 1, \"47\": 1, \"49\": 1, \"103\": 1, \"0\": 1, \"127\": 1, \"98\": 1, \"3\": 2, \"85\": 1, \"126\": 1, \"40\": 1}, \"108\": {\"95\": 2, \"108\": 26, \"68\": 1, \"72\": 1, \"114\": 2, \"35\": 3, \"41\": 1, \"127\": 11, \"105\": 6, \"126\": 1, \"86\": 1, \"3\": 5, \"110\": 2, \"73\": 1, \"40\": 1, \"4\": 2, \"70\": 3, \"5\": 9, \"124\": 5, \"7\": 4, \"1\": 2, \"8\": 6, \"90\": 2, \"10\": 7, \"129\": 1, \"9\": 3, \"101\": 1, \"30\": 1, \"88\": 4, \"71\": 2, \"98\": 2, \"128\": 1, \"87\": 1, \"0\": 2, \"111\": 1, \"93\": 1}, \"41\": {\"41\": 15, \"24\": 1}, \"80\": {\"80\": 10, \"2\": 1, \"100\": 1, \"33\": 1, \"107\": 1, \"84\": 2}, \"13\": {\"80\": 1, \"13\": 4, \"92\": 1, \"84\": 2, \"33\": 1, \"89\": 3, \"62\": 2, \"88\": 1, \"16\": 1}, \"55\": {\"55\": 15, \"1\": 1}, \"0\": {\"0\": 33, \"7\": 6, \"51\": 5, \"8\": 11, \"39\": 1, \"111\": 20, \"6\": 2, \"5\": 1, \"94\": 1, \"124\": 3, \"36\": 2, \"98\": 3, \"10\": 4, \"127\": 4, \"4\": 1, \"30\": 1, \"15\": 2, \"101\": 1, \"12\": 1, \"19\": 1, \"108\": 3}, \"25\": {\"25\": 14, \"54\": 2}, \"53\": {\"112\": 2, \"53\": 14, \"110\": 1, \"55\": 1, \"114\": 2}, \"61\": {\"61\": 14, \"2\": 1, \"63\": 1}, \"38\": {\"38\": 15, \"87\": 1}, \"127\": {\"127\": 79, \"105\": 1, \"113\": 1, \"3\": 12, \"5\": 5, \"85\": 1, \"124\": 1, \"10\": 2, \"7\": 5, \"8\": 4, \"4\": 5, \"71\": 2, \"111\": 1, \"126\": 3, \"12\": 2, \"42\": 2, \"114\": 1, \"98\": 1}, \"4\": {\"71\": 2, \"108\": 1, \"5\": 7, \"4\": 65, \"114\": 3, \"122\": 1, \"127\": 4, \"110\": 1, \"8\": 1, \"105\": 3, \"124\": 1, \"85\": 1, \"18\": 1, \"1\": 2, \"113\": 1, \"117\": 1, \"3\": 1}, \"12\": {\"68\": 2, \"12\": 46, \"58\": 2, \"7\": 9, \"95\": 2, \"73\": 1, \"98\": 11, \"0\": 2, \"30\": 2, \"111\": 11, \"124\": 1, \"8\": 4, \"59\": 1, \"24\": 1, \"52\": 1, \"91\": 1, \"128\": 2, \"42\": 1, \"101\": 1, \"127\": 1, \"15\": 1, \"27\": 1}, \"126\": {\"18\": 8, \"126\": 85, \"21\": 4, \"39\": 8, \"81\": 4, \"117\": 2, \"113\": 4, \"109\": 1, \"88\": 1, \"13\": 2, \"121\": 3, \"15\": 1, \"26\": 1}, \"29\": {\"29\": 21, \"107\": 4, \"50\": 1, \"22\": 1, \"84\": 1, \"74\": 1, \"44\": 1, \"87\": 1, \"90\": 1}, \"107\": {\"107\": 99, \"122\": 1, \"84\": 8, \"88\": 2, \"40\": 7, \"87\": 4, \"14\": 1, \"114\": 1, \"8\": 1, \"33\": 1, \"29\": 2, \"20\": 1, \"50\": 1, \"32\": 1, \"44\": 1, \"129\": 1, \"62\": 2, \"110\": 1, \"121\": 1}, \"82\": {\"82\": 21, \"45\": 1, \"100\": 2, \"33\": 1, \"23\": 1, \"102\": 1, \"84\": 1}, \"94\": {\"94\": 43, \"30\": 3, \"15\": 11, \"106\": 5, \"0\": 2, \"125\": 6, \"36\": 9, \"72\": 1, \"101\": 1, \"27\": 2, \"18\": 1}, \"54\": {\"54\": 16}, \"10\": {\"98\": 1, \"90\": 2, \"22\": 1, \"101\": 1, \"10\": 54, \"122\": 2, \"95\": 2, \"3\": 4, \"7\": 6, \"110\": 2, \"8\": 13, \"14\": 1, \"128\": 1, \"127\": 5, \"105\": 2, \"88\": 4, \"26\": 1, \"4\": 3, \"87\": 4, \"0\": 1, \"108\": 5, \"91\": 2, \"77\": 1, \"32\": 1, \"9\": 1, \"107\": 2, \"30\": 1, \"44\": 1, \"12\": 1, \"5\": 1, \"62\": 1, \"1\": 1}, \"22\": {\"22\": 13, \"29\": 1, \"110\": 1, \"28\": 1}, \"119\": {\"119\": 15, \"116\": 1}}, \"W_2\": {\"73\": {\"107\": 3, \"73\": 10, \"115\": 2, \"1\": 1, \"129\": 2, \"70\": 2, \"96\": 1, \"108\": 1, \"33\": 1, \"86\": 1, \"71\": 2, \"110\": 2}, \"40\": {\"40\": 66, \"73\": 1, \"86\": 1, \"105\": 14, \"117\": 2, \"43\": 8, \"19\": 4, \"129\": 2, \"107\": 3, \"1\": 12, \"3\": 2, \"84\": 1, \"4\": 1, \"5\": 3, \"16\": 1, \"70\": 3, \"110\": 2, \"109\": 1, \"14\": 1, \"39\": 1, \"122\": 2, \"26\": 1}, \"99\": {\"2\": 2, \"99\": 19, \"90\": 1, \"21\": 1, \"26\": 4, \"87\": 1, \"88\": 2, \"121\": 2}, \"5\": {\"5\": 67, \"114\": 5, \"129\": 1, \"71\": 4, \"4\": 6, \"122\": 6, \"8\": 1, \"124\": 3, \"3\": 9, \"39\": 1, \"18\": 1, \"26\": 2, \"98\": 1, \"12\": 1, \"107\": 1, \"7\": 1, \"88\": 1, \"11\": 1}, \"108\": {\"41\": 2, \"91\": 2, \"108\": 38, \"52\": 1, \"111\": 8, \"103\": 2, \"77\": 1, \"127\": 6, \"60\": 1, \"29\": 1, \"12\": 5, \"7\": 8, \"94\": 1, \"30\": 5, \"110\": 1, \"27\": 1, \"122\": 9, \"98\": 9, \"8\": 6, \"114\": 3, \"5\": 3, \"0\": 4, \"11\": 1, \"15\": 1, \"101\": 2, \"128\": 1, \"73\": 1, \"4\": 2, \"24\": 3, \"106\": 2, \"3\": 2}, \"128\": {\"40\": 3, \"108\": 3, \"64\": 1, \"95\": 1, \"128\": 4, \"3\": 2, \"114\": 2, \"91\": 1, \"122\": 1, \"129\": 1, \"21\": 1, \"68\": 1, \"8\": 1, \"127\": 2}, \"89\": {\"89\": 25, \"64\": 2, \"92\": 2, \"16\": 1, \"31\": 1, \"100\": 1, \"81\": 1, \"48\": 1, \"82\": 1, \"84\": 1}, \"107\": {\"107\": 26, \"58\": 1, \"95\": 1, \"105\": 4, \"3\": 1, \"4\": 2, \"86\": 6, \"93\": 1, \"71\": 1, \"43\": 3, \"122\": 1, \"96\": 1, \"88\": 1, \"2\": 1, \"106\": 1, \"112\": 1, \"12\": 2, \"110\": 1, \"118\": 2, \"40\": 3, \"117\": 1, \"127\": 1, \"125\": 1, \"14\": 1}, \"2\": {\"2\": 25, \"113\": 1, \"117\": 2, \"96\": 2, \"97\": 1, \"121\": 1}, \"78\": {\"78\": 8, \"63\": 1, \"86\": 1, \"129\": 2, \"100\": 1, \"121\": 1, \"1\": 3, \"42\": 2, \"99\": 1, \"60\": 2, \"126\": 2, \"70\": 4, \"40\": 6, \"107\": 2, \"3\": 1, \"44\": 1, \"43\": 3, \"122\": 2, \"32\": 1, \"16\": 1, \"21\": 2, \"8\": 1}, \"85\": {\"73\": 3, \"85\": 19, \"47\": 1, \"107\": 2, \"71\": 3, \"110\": 1, \"19\": 1, \"3\": 1, \"5\": 1}, \"44\": {\"44\": 75, \"74\": 1, \"19\": 2, \"23\": 2, \"14\": 1, \"110\": 1, \"126\": 2, \"42\": 1, \"40\": 2, \"88\": 1, \"1\": 1, \"43\": 1, \"3\": 1, \"61\": 2, \"78\": 1, \"62\": 1, \"32\": 1, \"105\": 2, \"70\": 2}, \"58\": {\"58\": 15, \"15\": 2, \"97\": 1, \"6\": 2}, \"57\": {\"57\": 15, \"23\": 1, \"69\": 2, \"82\": 2}, \"41\": {\"41\": 14, \"13\": 1, \"52\": 1, \"91\": 1, \"79\": 1, \"7\": 1, \"108\": 1}, \"53\": {\"53\": 16}, \"14\": {\"43\": 3, \"60\": 1, \"90\": 1, \"14\": 20, \"67\": 1, \"69\": 1, \"50\": 1, \"34\": 1, \"78\": 1, \"62\": 8, \"21\": 2, \"96\": 1, \"32\": 1, \"64\": 1, \"8\": 1, \"99\": 1, \"118\": 2, \"18\": 1}, \"83\": {\"118\": 1, \"9\": 1, \"83\": 26, \"90\": 2, \"99\": 1, \"14\": 2, \"62\": 3, \"88\": 2, \"70\": 1, \"127\": 1}, \"119\": {\"119\": 19, \"44\": 1}, \"95\": {\"5\": 1, \"19\": 1, \"95\": 22, \"56\": 1, \"114\": 1, \"8\": 2, \"115\": 1, \"85\": 1, \"4\": 3, \"110\": 2, \"87\": 1}, \"28\": {\"28\": 15, \"47\": 1, \"97\": 1, \"1\": 1, \"85\": 2}, \"19\": {\"19\": 13, \"43\": 3, \"86\": 1, \"70\": 1, \"129\": 4, \"122\": 1, \"1\": 1, \"105\": 1, \"110\": 1, \"32\": 2}, \"69\": {\"14\": 3, \"69\": 101, \"31\": 1, \"82\": 5, \"16\": 4, \"26\": 5, \"102\": 6, \"117\": 2, \"93\": 2, \"39\": 1, \"109\": 1, \"18\": 1}, \"93\": {\"14\": 1, \"93\": 73, \"99\": 1, \"83\": 1, \"62\": 2, \"26\": 2, \"109\": 2, \"102\": 18, \"16\": 6, \"88\": 3, \"69\": 7, \"39\": 4, \"33\": 1, \"63\": 1, \"100\": 1, \"78\": 1, \"90\": 6, \"87\": 1, \"118\": 1, \"126\": 1, \"117\": 1}, \"9\": {\"9\": 31, \"106\": 1}, \"118\": {\"93\": 5, \"83\": 2, \"50\": 1, \"118\": 17, \"31\": 1, \"16\": 3, \"107\": 1, \"96\": 1, \"69\": 3, \"39\": 1, \"88\": 3, \"62\": 3, \"102\": 3, \"78\": 1, \"90\": 2, \"109\": 5, \"70\": 3, \"76\": 1, \"119\": 1, \"82\": 3, \"45\": 1, \"84\": 1, \"14\": 2, \"71\": 1, \"43\": 1, \"126\": 1, \"26\": 1}, \"43\": {\"119\": 1, \"19\": 1, \"43\": 26, \"90\": 6, \"40\": 5, \"124\": 1, \"81\": 1, \"126\": 6, \"86\": 2, \"1\": 13, \"71\": 2, \"32\": 2, \"122\": 2, \"5\": 3, \"88\": 5, \"2\": 1, \"15\": 2, \"44\": 5, \"3\": 3, \"16\": 1, \"70\": 5, \"33\": 1, \"87\": 3, \"23\": 1, \"109\": 2, \"105\": 2, \"107\": 3, \"83\": 1, \"10\": 2, \"62\": 2, \"36\": 1, \"118\": 2, \"7\": 2, \"98\": 1}, \"47\": {\"47\": 9, \"129\": 1, \"32\": 1, \"86\": 1}, \"125\": {\"125\": 119, \"9\": 2, \"15\": 3, \"36\": 9, \"51\": 1, \"27\": 3, \"24\": 2, \"106\": 2, \"101\": 2, \"18\": 1}, \"29\": {\"29\": 25, \"91\": 4, \"30\": 2, \"59\": 1}, \"122\": {\"122\": 41, \"86\": 1, \"95\": 1, \"71\": 3, \"55\": 1, \"112\": 2, \"32\": 1, \"4\": 3, \"41\": 1, \"43\": 2, \"10\": 3, \"0\": 5, \"110\": 2, \"12\": 1, \"114\": 10, \"44\": 2, \"7\": 6, \"3\": 3, \"62\": 4, \"105\": 5, \"107\": 1, \"24\": 1, \"5\": 4, \"124\": 4, \"8\": 5, \"1\": 4, \"11\": 1, \"30\": 3, \"70\": 6, \"108\": 3, \"39\": 1, \"38\": 1, \"58\": 1, \"126\": 2, \"117\": 1, \"93\": 1, \"87\": 1, \"90\": 1, \"18\": 1, \"98\": 1}, \"46\": {\"19\": 2, \"46\": 10, \"40\": 1, \"1\": 2, \"87\": 1}, \"86\": {\"86\": 21, \"107\": 2, \"105\": 2, \"85\": 1, \"129\": 2, \"42\": 1, \"19\": 2, \"4\": 1}, \"70\": {\"78\": 4, \"19\": 1, \"28\": 1, \"90\": 7, \"16\": 4, \"115\": 1, \"31\": 1, \"76\": 1, \"23\": 2, \"87\": 2, \"114\": 1, \"70\": 17, \"109\": 4, \"129\": 2, \"60\": 1, \"126\": 4, \"108\": 1, \"113\": 1, \"102\": 1, \"4\": 2, \"21\": 2, \"110\": 1, \"107\": 2, \"88\": 6, \"1\": 8, \"84\": 1, \"33\": 5, \"39\": 5, \"3\": 3, \"43\": 5, \"40\": 8, \"62\": 1, \"18\": 1, \"105\": 3, \"83\": 1, \"37\": 1, \"50\": 1, \"2\": 1, \"63\": 2, \"5\": 1, \"118\": 4, \"14\": 2, \"117\": 1, \"24\": 1}, \"51\": {\"54\": 2, \"51\": 8, \"21\": 1, \"94\": 1, \"24\": 1, \"25\": 2, \"27\": 1, \"111\": 2, \"58\": 1, \"16\": 1}, \"23\": {\"86\": 1, \"57\": 2, \"8\": 1, \"23\": 1, \"4\": 5, \"121\": 1, \"3\": 1, \"127\": 2, \"77\": 1, \"87\": 1, \"19\": 1, \"29\": 3, \"129\": 3, \"108\": 1, \"49\": 2, \"7\": 1, \"109\": 1, \"122\": 1, \"12\": 1, \"24\": 1, \"65\": 1, \"26\": 1, \"10\": 1, \"37\": 2, \"16\": 1, \"42\": 1, \"2\": 1, \"39\": 1, \"128\": 1, \"117\": 1, \"104\": 1, \"99\": 1}, \"121\": {\"21\": 1, \"57\": 2, \"121\": 20, \"113\": 1, \"23\": 1, \"120\": 2, \"99\": 2, \"117\": 2, \"65\": 1, \"2\": 1, \"39\": 1, \"88\": 2}, \"63\": {\"21\": 1, \"63\": 18, \"39\": 1}, \"102\": {\"46\": 2, \"102\": 96, \"48\": 1, \"93\": 6, \"84\": 3, \"33\": 6, \"16\": 2, \"39\": 1, \"82\": 1, \"83\": 1, \"69\": 2, \"90\": 1}, \"21\": {\"21\": 44, \"121\": 1, \"88\": 1, \"16\": 1, \"117\": 1}, \"55\": {\"70\": 1, \"121\": 1, \"55\": 8, \"33\": 1, \"80\": 1, \"14\": 1, \"119\": 1, \"116\": 1, \"62\": 1}, \"54\": {\"54\": 14, \"41\": 1, \"128\": 1, \"12\": 1, \"111\": 1, \"34\": 1, \"127\": 1}, \"6\": {\"6\": 27, \"15\": 1, \"75\": 3, \"106\": 1}, \"109\": {\"20\": 2, \"63\": 1, \"90\": 4, \"109\": 38, \"102\": 9, \"88\": 12, \"87\": 4, \"126\": 5, \"117\": 2, \"16\": 8, \"69\": 1, \"43\": 1, \"70\": 1, \"119\": 1, \"120\": 1, \"93\": 5, \"67\": 1, \"8\": 1, \"21\": 1, \"118\": 1, \"26\": 1}, \"64\": {\"109\": 1, \"64\": 11, \"87\": 1, \"47\": 1, \"62\": 1, \"14\": 1}, \"20\": {\"20\": 16}, \"98\": {\"54\": 2, \"98\": 69, \"34\": 1, \"49\": 1, \"121\": 1, \"12\": 6, \"24\": 1, \"124\": 1, \"106\": 1, \"111\": 6, \"127\": 9, \"30\": 6, \"0\": 3, \"88\": 1, \"108\": 5, \"26\": 1}, \"92\": {\"55\": 2, \"92\": 17, \"48\": 2, \"22\": 1, \"76\": 1, \"83\": 1, \"113\": 2, \"31\": 1, \"84\": 1}, \"35\": {\"35\": 3, \"128\": 1, \"123\": 2, \"111\": 1, \"91\": 2, \"5\": 1, \"53\": 1, \"25\": 1}, \"113\": {\"113\": 57, \"69\": 1, \"65\": 2, \"18\": 2, \"117\": 4, \"21\": 3, \"99\": 1, \"39\": 1, \"70\": 1}, \"71\": {\"122\": 4, \"71\": 52, \"24\": 1, \"114\": 7, \"129\": 1, \"49\": 2, \"121\": 1, \"95\": 1, \"4\": 6, \"52\": 1, \"16\": 1, \"5\": 4, \"110\": 1, \"7\": 6, \"11\": 2, \"3\": 1, \"117\": 1, \"34\": 1, \"104\": 1, \"124\": 1, \"109\": 2, \"105\": 1, \"106\": 1, \"12\": 1}, \"94\": {\"91\": 1, \"20\": 1, \"101\": 3, \"111\": 3, \"51\": 2, \"94\": 18, \"36\": 3, \"87\": 1, \"99\": 2, \"12\": 2, \"113\": 2, \"6\": 3, \"65\": 2, \"108\": 1, \"27\": 1, \"34\": 2, \"127\": 1, \"106\": 2, \"125\": 4, \"24\": 1, \"77\": 3, \"120\": 1, \"68\": 1, \"88\": 1, \"9\": 1, \"15\": 1, \"70\": 1}, \"52\": {\"91\": 4, \"52\": 13, \"37\": 1, \"103\": 1, \"26\": 1}, \"116\": {\"87\": 2, \"116\": 14, \"83\": 1, \"80\": 2, \"89\": 1, \"16\": 1, \"84\": 1, \"90\": 1, \"45\": 1, \"109\": 1, \"96\": 1, \"82\": 1, \"62\": 1}, \"87\": {\"64\": 1, \"116\": 1, \"80\": 1, \"87\": 15, \"33\": 16, \"17\": 1, \"82\": 1, \"113\": 1, \"83\": 1, \"16\": 2, \"67\": 1, \"42\": 1, \"84\": 11, \"109\": 8, \"18\": 3, \"117\": 2, \"3\": 4, \"43\": 1, \"1\": 3, \"40\": 3, \"62\": 4, \"88\": 6, \"76\": 1, \"19\": 1, \"37\": 1, \"55\": 4, \"127\": 1, \"70\": 2, \"61\": 1, \"8\": 1, \"2\": 1, \"89\": 1, \"119\": 1, \"39\": 1, \"118\": 2, \"78\": 1, \"93\": 2, \"126\": 3, \"44\": 1}, \"90\": {\"87\": 2, \"90\": 123, \"62\": 2, \"84\": 2, \"93\": 5, \"118\": 3, \"102\": 5, \"33\": 1, \"88\": 1, \"126\": 3, \"16\": 1}, \"91\": {\"122\": 1, \"91\": 19, \"29\": 1, \"103\": 2, \"98\": 1, \"127\": 1, \"12\": 1, \"52\": 1, \"25\": 1}, \"84\": {\"33\": 13, \"84\": 59, \"121\": 1, \"47\": 1, \"50\": 1, \"80\": 1, \"117\": 1, \"78\": 2, \"3\": 2, \"62\": 2, \"40\": 1, \"55\": 2, \"113\": 1, \"105\": 1, \"90\": 1, \"26\": 1, \"93\": 2}, \"24\": {\"55\": 1, \"122\": 5, \"36\": 5, \"111\": 5, \"8\": 1, \"24\": 12, \"4\": 1, \"51\": 1, \"25\": 2, \"65\": 1, \"129\": 2, \"109\": 3, \"7\": 3, \"10\": 1, \"125\": 8, \"27\": 1, \"15\": 10, \"16\": 1, \"107\": 2, \"114\": 1, \"43\": 5, \"0\": 4, \"101\": 6, \"106\": 6, \"39\": 1, \"108\": 2, \"3\": 2, \"97\": 1, \"103\": 1, \"70\": 1, \"9\": 1, \"105\": 4, \"11\": 2, \"18\": 1, \"94\": 1, \"127\": 2, \"71\": 1, \"117\": 2, \"88\": 1, \"40\": 1, \"124\": 1}, \"33\": {\"33\": 104, \"102\": 1, \"84\": 7, \"87\": 3, \"62\": 9, \"105\": 1, \"117\": 1, \"1\": 5, \"80\": 2, \"93\": 1}, \"81\": {\"81\": 16, \"16\": 1, \"72\": 1, \"18\": 2, \"69\": 2, \"97\": 1, \"121\": 1}, \"115\": {\"115\": 6, \"122\": 2, \"16\": 1, \"4\": 1, \"98\": 1, \"71\": 1}, \"77\": {\"77\": 12, \"59\": 2, \"29\": 1, \"97\": 1}, \"106\": {\"106\": 79, \"36\": 6, \"6\": 1, \"15\": 11, \"21\": 1, \"27\": 2, \"125\": 7, \"101\": 6, \"16\": 1, \"7\": 1, \"94\": 4, \"127\": 1}, \"42\": {\"70\": 1, \"42\": 2, \"114\": 2, \"30\": 2, \"59\": 3, \"34\": 1, \"81\": 1, \"7\": 1, \"29\": 1, \"109\": 1, \"24\": 1, \"32\": 1, \"120\": 1, \"1\": 2, \"23\": 1, \"0\": 1, \"117\": 1, \"49\": 1, \"127\": 1, \"62\": 1, \"43\": 2}, \"38\": {\"38\": 16}, \"36\": {\"36\": 54, \"121\": 1, \"15\": 7, \"27\": 9, \"98\": 1, \"39\": 1, \"101\": 10, \"2\": 1, \"111\": 4, \"127\": 1, \"117\": 2, \"24\": 5, \"26\": 1, \"106\": 3, \"30\": 1, \"125\": 8, \"113\": 1, \"9\": 2, \"0\": 1, \"88\": 1}, \"79\": {\"79\": 14, \"77\": 1, \"41\": 1}, \"60\": {\"70\": 1, \"116\": 1, \"60\": 10, \"87\": 1, \"73\": 1, \"107\": 4, \"78\": 2, \"43\": 2, \"89\": 1, \"44\": 1, \"38\": 2, \"23\": 1, \"126\": 1}, \"80\": {\"55\": 1, \"60\": 1, \"83\": 1, \"80\": 5, \"1\": 3, \"39\": 1, \"70\": 1, \"116\": 1, \"50\": 1, \"14\": 1}, \"32\": {\"62\": 2, \"122\": 1, \"32\": 23, \"14\": 2, \"105\": 4, \"44\": 1, \"19\": 1, \"23\": 1, \"126\": 1}, \"0\": {\"0\": 55, \"111\": 17, \"98\": 7, \"93\": 1, \"8\": 2, \"107\": 1, \"30\": 6, \"122\": 3, \"108\": 3, \"127\": 5, \"7\": 4, \"101\": 2, \"4\": 1, \"54\": 1, \"42\": 2, \"68\": 1, \"12\": 2, \"114\": 2, \"11\": 1}, \"127\": {\"127\": 88, \"24\": 1, \"34\": 1, \"114\": 2, \"98\": 6, \"0\": 3, \"18\": 1, \"30\": 4, \"11\": 1, \"111\": 6, \"112\": 2, \"103\": 1, \"75\": 1, \"54\": 1, \"79\": 2, \"12\": 3, \"122\": 1}, \"114\": {\"114\": 81, \"16\": 1, \"7\": 2, \"71\": 7, \"108\": 4, \"11\": 1, \"3\": 4, \"124\": 3, \"98\": 1, \"12\": 1, \"4\": 2, \"36\": 1, \"109\": 1, \"127\": 2, \"122\": 4, \"5\": 1}, \"62\": {\"62\": 111, \"64\": 1, \"90\": 4, \"21\": 1, \"83\": 2, \"26\": 1, \"118\": 1, \"33\": 6, \"87\": 1, \"70\": 2, \"43\": 1, \"126\": 1, \"116\": 1, \"55\": 1, \"40\": 2, \"14\": 1, \"93\": 2, \"88\": 1}, \"129\": {\"129\": 10, \"73\": 1, \"8\": 1, \"115\": 1, \"95\": 1, \"5\": 2, \"34\": 2, \"105\": 1, \"19\": 3, \"71\": 1, \"124\": 2, \"40\": 1, \"23\": 1, \"15\": 2, \"3\": 1, \"0\": 2}, \"56\": {\"56\": 10, \"4\": 1, \"107\": 1}, \"76\": {\"76\": 11, \"62\": 1, \"70\": 1, \"42\": 2, \"50\": 1}, \"72\": {\"72\": 18, \"89\": 1, \"90\": 1, \"70\": 1, \"21\": 1, \"57\": 1, \"9\": 1, \"81\": 2, \"87\": 1, \"16\": 1}, \"88\": {\"88\": 52, \"99\": 1, \"39\": 8, \"33\": 2, \"69\": 3, \"8\": 1, \"118\": 3, \"102\": 3, \"70\": 3, \"16\": 7, \"44\": 1, \"62\": 6, \"43\": 3, \"87\": 6, \"93\": 2, \"90\": 6, \"109\": 3, \"116\": 1, \"82\": 1, \"83\": 1, \"126\": 4, \"84\": 2, \"21\": 2, \"1\": 2, \"105\": 1}, \"68\": {\"68\": 8, \"12\": 1, \"11\": 2, \"33\": 1, \"97\": 2, \"50\": 1, \"0\": 1}, \"67\": {\"67\": 6, \"82\": 1, \"21\": 1, \"62\": 1, \"1\": 2, \"76\": 2, \"96\": 1, \"46\": 2}, \"100\": {\"60\": 1, \"100\": 8, \"82\": 2, \"80\": 1, \"16\": 1, \"23\": 2, \"93\": 1}, \"34\": {\"34\": 4, \"115\": 1, \"95\": 2, \"127\": 1, \"105\": 1, \"110\": 2, \"91\": 1, \"29\": 1, \"21\": 1, \"111\": 1, \"12\": 1, \"8\": 1, \"109\": 1, \"122\": 2, \"54\": 2, \"66\": 1, \"10\": 1, \"1\": 2, \"3\": 2, \"101\": 1, \"11\": 1, \"68\": 2}, \"16\": {\"16\": 79, \"39\": 9, \"109\": 1, \"23\": 2, \"126\": 2, \"102\": 1, \"87\": 4, \"69\": 9, \"88\": 3, \"90\": 3, \"70\": 1, \"93\": 4, \"81\": 1, \"13\": 2, \"72\": 1, \"118\": 2}, \"126\": {\"126\": 27, \"14\": 1, \"3\": 3, \"74\": 1, \"46\": 2, \"107\": 3, \"78\": 4, \"83\": 1, \"34\": 1, \"23\": 3, \"10\": 1, \"43\": 4, \"88\": 5, \"24\": 1, \"44\": 3, \"16\": 3, \"33\": 4, \"32\": 3, \"90\": 7, \"84\": 2, \"102\": 1, \"70\": 5, \"1\": 8, \"109\": 4, \"118\": 3, \"105\": 2, \"39\": 2, \"40\": 1, \"28\": 1, \"76\": 1, \"37\": 1, \"20\": 1, \"63\": 1, \"87\": 1, \"104\": 1, \"4\": 1, \"73\": 1, \"12\": 1, \"95\": 1, \"7\": 1, \"62\": 1, \"122\": 1, \"93\": 1}, \"4\": {\"4\": 48, \"110\": 1, \"5\": 8, \"124\": 2, \"107\": 5, \"120\": 1, \"14\": 1, \"85\": 1, \"3\": 4, \"71\": 3, \"117\": 1, \"114\": 2, \"94\": 1, \"122\": 1, \"0\": 1, \"19\": 1, \"104\": 1, \"12\": 1, \"86\": 1, \"41\": 1, \"11\": 1, \"95\": 1, \"8\": 1}, \"101\": {\"101\": 123, \"51\": 1, \"12\": 1, \"0\": 2, \"127\": 3, \"111\": 8, \"30\": 2, \"97\": 2, \"15\": 4}, \"104\": {\"4\": 3, \"95\": 1, \"105\": 1, \"112\": 1, \"74\": 1, \"104\": 9, \"115\": 1, \"73\": 1, \"27\": 1, \"39\": 1}, \"30\": {\"67\": 1, \"127\": 4, \"15\": 3, \"91\": 1, \"94\": 2, \"30\": 30, \"29\": 1, \"0\": 2, \"58\": 1, \"106\": 6, \"108\": 4, \"49\": 1, \"111\": 16, \"122\": 5, \"101\": 14, \"7\": 3, \"8\": 1, \"98\": 7, \"11\": 2, \"79\": 1, \"18\": 1, \"71\": 1, \"24\": 2, \"26\": 1}, \"8\": {\"95\": 3, \"8\": 79, \"71\": 2, \"40\": 2, \"77\": 1, \"122\": 11, \"4\": 3, \"11\": 3, \"10\": 3, \"24\": 2, \"43\": 1, \"5\": 1, \"114\": 1, \"108\": 2, \"110\": 2, \"93\": 1, \"104\": 2, \"68\": 1, \"86\": 2, \"117\": 1, \"36\": 1, \"105\": 3, \"44\": 1}, \"82\": {\"82\": 31, \"16\": 1, \"93\": 1, \"69\": 2, \"117\": 1}, \"26\": {\"26\": 87, \"96\": 1, \"87\": 3, \"48\": 2, \"113\": 2, \"72\": 3, \"69\": 8, \"82\": 1, \"39\": 3, \"18\": 17, \"118\": 1, \"16\": 1, \"117\": 4, \"21\": 1, \"126\": 1, \"109\": 1, \"121\": 1, \"88\": 1}, \"96\": {\"100\": 1, \"96\": 11, \"126\": 1, \"82\": 1, \"69\": 1, \"16\": 2, \"67\": 1, \"61\": 1, \"31\": 1}, \"3\": {\"3\": 58, \"35\": 1, \"5\": 15, \"124\": 3, \"128\": 1, \"4\": 4, \"42\": 1, \"129\": 3, \"71\": 4, \"105\": 2, \"122\": 7, \"70\": 2, \"114\": 7, \"110\": 2, \"40\": 2, \"11\": 3, \"7\": 4, \"0\": 4, \"8\": 2, \"30\": 3, \"107\": 1, \"19\": 1, \"59\": 2, \"46\": 1, \"2\": 1, \"24\": 1, \"88\": 1}, \"25\": {\"25\": 12, \"21\": 1, \"99\": 1, \"6\": 2}, \"13\": {\"13\": 7, \"21\": 1, \"69\": 3, \"125\": 1, \"82\": 1, \"24\": 2, \"113\": 1}, \"37\": {\"62\": 2, \"126\": 1, \"37\": 6, \"45\": 1, \"40\": 1, \"22\": 1, \"16\": 1, \"66\": 1, \"50\": 1, \"55\": 1}, \"49\": {\"49\": 6, \"113\": 1, \"111\": 1, \"4\": 3, \"7\": 1, \"11\": 1, \"26\": 1, \"127\": 4, \"12\": 1, \"5\": 1, \"72\": 1, \"39\": 1, \"124\": 1, \"98\": 1}, \"111\": {\"111\": 106, \"101\": 6, \"59\": 1, \"0\": 4, \"97\": 1, \"24\": 1, \"94\": 1, \"12\": 3, \"127\": 4, \"30\": 5, \"51\": 1, \"106\": 1, \"98\": 2}, \"105\": {\"105\": 98, \"128\": 1, \"42\": 1, \"43\": 7, \"32\": 2, \"40\": 8, \"124\": 1, \"1\": 5, \"3\": 3, \"70\": 1, \"122\": 1, \"113\": 1, \"126\": 1, \"111\": 1, \"30\": 1}, \"17\": {\"123\": 2, \"3\": 1, \"121\": 1, \"113\": 1, \"19\": 1, \"42\": 1, \"7\": 2, \"107\": 1, \"56\": 1, \"70\": 1, \"26\": 1, \"4\": 2, \"128\": 1}, \"65\": {\"65\": 17, \"113\": 2, \"117\": 1}, \"123\": {\"37\": 2, \"123\": 13, \"6\": 1}, \"74\": {\"37\": 1, \"35\": 1, \"113\": 1, \"74\": 9, \"81\": 1, \"10\": 1, \"126\": 1, \"8\": 1}, \"97\": {\"97\": 10, \"15\": 1, \"78\": 1, \"58\": 2, \"109\": 1, \"101\": 1, \"77\": 2, \"6\": 1, \"90\": 1}, \"112\": {\"112\": 9, \"24\": 1, \"12\": 1, \"95\": 1, \"122\": 2, \"94\": 1, \"42\": 1}, \"120\": {\"120\": 19, \"117\": 1}, \"50\": {\"14\": 4, \"50\": 8, \"39\": 1, \"80\": 1, \"125\": 1, \"55\": 1}, \"59\": {\"0\": 3, \"20\": 1, \"12\": 1, \"91\": 1, \"59\": 5, \"77\": 1, \"112\": 2, \"42\": 2}, \"10\": {\"83\": 1, \"53\": 2, \"61\": 2, \"10\": 28, \"23\": 1, \"104\": 1, \"105\": 2, \"81\": 1, \"70\": 2, \"60\": 2, \"122\": 3, \"14\": 1, \"113\": 1, \"59\": 2, \"39\": 1, \"32\": 1, \"107\": 1, \"4\": 1, \"78\": 1, \"43\": 1, \"12\": 1, \"8\": 2, \"87\": 2}, \"45\": {\"45\": 10, \"14\": 1, \"33\": 1, \"82\": 1, \"88\": 1, \"84\": 1, \"126\": 1}, \"12\": {\"112\": 2, \"12\": 30, \"111\": 10, \"35\": 1, \"77\": 1, \"98\": 3, \"21\": 1, \"108\": 3, \"24\": 5, \"0\": 3, \"49\": 1, \"16\": 1, \"127\": 9, \"114\": 3, \"117\": 1, \"52\": 1, \"101\": 1, \"59\": 1, \"30\": 2, \"41\": 2, \"4\": 2, \"7\": 3, \"71\": 1, \"94\": 1}, \"75\": {\"51\": 1, \"101\": 3, \"75\": 9, \"124\": 1, \"15\": 2}, \"48\": {\"48\": 17, \"14\": 1, \"102\": 1, \"82\": 1}, \"61\": {\"61\": 15, \"120\": 2, \"99\": 1, \"8\": 2}, \"124\": {\"124\": 85, \"5\": 8, \"129\": 1, \"4\": 5, \"3\": 5, \"108\": 3, \"114\": 6, \"7\": 4, \"0\": 1, \"122\": 2, \"11\": 1, \"49\": 1, \"71\": 1, \"16\": 1}, \"11\": {\"86\": 3, \"52\": 1, \"4\": 2, \"110\": 1, \"11\": 28, \"107\": 1, \"114\": 6, \"122\": 6, \"24\": 3, \"71\": 4, \"3\": 6, \"124\": 1, \"117\": 1, \"39\": 1, \"98\": 2, \"0\": 1, \"8\": 3, \"108\": 1, \"19\": 1, \"129\": 1, \"49\": 3, \"95\": 2, \"12\": 1, \"69\": 1}, \"103\": {\"103\": 14, \"69\": 1, \"109\": 1}, \"7\": {\"7\": 77, \"54\": 1, \"105\": 2, \"17\": 1, \"108\": 5, \"117\": 2, \"71\": 4, \"4\": 3, \"40\": 1, \"114\": 6, \"10\": 1, \"44\": 1, \"110\": 1, \"122\": 12, \"26\": 1, \"11\": 2, \"121\": 1, \"127\": 2, \"112\": 2, \"8\": 3, \"12\": 1, \"124\": 1, \"5\": 1, \"3\": 1}, \"18\": {\"18\": 98, \"117\": 7, \"109\": 1, \"26\": 12, \"2\": 1, \"69\": 1}, \"31\": {\"31\": 11, \"45\": 2, \"118\": 1, \"98\": 1, \"17\": 3, \"84\": 1, \"116\": 1}, \"15\": {\"6\": 5, \"36\": 5, \"15\": 45, \"25\": 2, \"125\": 7, \"51\": 2, \"24\": 3, \"0\": 2, \"101\": 18, \"117\": 2, \"106\": 9, \"30\": 6, \"111\": 3, \"27\": 1, \"75\": 1, \"9\": 1, \"127\": 4, \"94\": 2}, \"1\": {\"1\": 78, \"99\": 1, \"24\": 1, \"40\": 18, \"3\": 2, \"39\": 1, \"43\": 3, \"105\": 7, \"62\": 1, \"33\": 1, \"70\": 1, \"65\": 1, \"42\": 2, \"44\": 2, \"55\": 1, \"126\": 1, \"84\": 1}, \"66\": {\"66\": 16, \"124\": 1, \"90\": 1, \"23\": 1, \"5\": 1}, \"110\": {\"122\": 1, \"4\": 3, \"81\": 1, \"85\": 1, \"110\": 16, \"19\": 1, \"65\": 1, \"109\": 1, \"3\": 1, \"40\": 2, \"26\": 1, \"44\": 1, \"5\": 1, \"57\": 1, \"10\": 1, \"121\": 1, \"42\": 1, \"86\": 1, \"113\": 1, \"71\": 1, \"88\": 1, \"107\": 1}, \"27\": {\"27\": 25, \"79\": 1, \"15\": 3, \"30\": 2, \"36\": 5, \"117\": 3, \"69\": 1, \"24\": 2, \"2\": 1, \"101\": 3, \"106\": 4, \"94\": 2, \"127\": 3, \"125\": 4, \"51\": 1, \"6\": 1, \"9\": 1, \"121\": 1, \"111\": 1, \"108\": 1, \"10\": 1, \"113\": 2}, \"22\": {\"22\": 18, \"125\": 1, \"27\": 1}, \"117\": {\"117\": 105, \"113\": 7, \"18\": 4, \"69\": 1, \"109\": 1, \"65\": 1, \"121\": 1}, \"39\": {\"39\": 44, \"120\": 2, \"31\": 2, \"69\": 7, \"113\": 1, \"93\": 4, \"26\": 9, \"16\": 4, \"109\": 6, \"33\": 3, \"18\": 3, \"70\": 1, \"90\": 2, \"102\": 3, \"88\": 6, \"10\": 1, \"20\": 1, \"87\": 2, \"82\": 1, \"21\": 4, \"117\": 2}}, \"C_4\": {\"38\": {\"38\": 33, \"22\": 1, \"24\": 2, \"56\": 1, \"2\": 3}, \"3\": {\"3\": 64, \"20\": 4, \"34\": 1, \"48\": 19, \"36\": 4, \"23\": 2, \"42\": 1, \"8\": 6, \"4\": 1, \"6\": 1, \"53\": 9, \"54\": 3, \"50\": 2, \"25\": 3, \"52\": 1, \"18\": 2, \"47\": 1}, \"24\": {\"24\": 54, \"2\": 1, \"22\": 1}, \"49\": {\"49\": 20}, \"7\": {\"7\": 24}, \"17\": {\"17\": 72, \"9\": 2, \"50\": 2, \"27\": 3, \"30\": 1}, \"43\": {\"43\": 146, \"0\": 1, \"22\": 1}, \"30\": {\"17\": 3, \"30\": 39, \"21\": 2}, \"44\": {\"44\": 97, \"19\": 23, \"28\": 2, \"40\": 8, \"6\": 2}, \"23\": {\"23\": 143, \"18\": 1}, \"37\": {\"37\": 24}, \"4\": {\"4\": 124, \"50\": 1, \"9\": 6, \"6\": 1}, \"57\": {\"57\": 98, \"35\": 2}, \"16\": {\"16\": 88, \"32\": 1, \"35\": 2, \"47\": 2, \"46\": 1, \"5\": 1, \"56\": 1}, \"18\": {\"18\": 98, \"36\": 2, \"55\": 1, \"8\": 2, \"42\": 1, \"23\": 2, \"46\": 1, \"13\": 1}, \"20\": {\"20\": 118, \"30\": 1, \"6\": 2, \"53\": 2, \"4\": 1}, \"45\": {\"45\": 85, \"12\": 6, \"9\": 3, \"21\": 1, \"4\": 1}, \"15\": {\"15\": 123, \"11\": 5, \"10\": 1, \"0\": 1, \"56\": 1, \"22\": 1}, \"52\": {\"52\": 107, \"41\": 6, \"35\": 1, \"39\": 2}, \"19\": {\"19\": 119, \"40\": 8, \"44\": 12, \"33\": 1}, \"54\": {\"54\": 99, \"18\": 7, \"23\": 2}, \"56\": {\"56\": 114, \"22\": 8, \"10\": 7, \"38\": 1}, \"40\": {\"40\": 116, \"19\": 7, \"28\": 1, \"44\": 6, \"5\": 1, \"6\": 1, \"53\": 1, \"29\": 1}, \"28\": {\"28\": 26, \"25\": 1, \"26\": 2, \"40\": 1, \"33\": 2}, \"2\": {\"38\": 2, \"2\": 33, \"24\": 1}, \"9\": {\"17\": 6, \"9\": 95, \"50\": 5, \"30\": 3, \"44\": 1, \"4\": 4, \"51\": 1, \"21\": 2, \"20\": 1, \"27\": 2}, \"0\": {\"0\": 66, \"15\": 3, \"5\": 1, \"11\": 4, \"43\": 6}, \"36\": {\"36\": 89, \"8\": 2, \"29\": 1}, \"55\": {\"37\": 2, \"55\": 125, \"11\": 3}, \"35\": {\"35\": 39, \"5\": 1}, \"39\": {\"39\": 20}, \"31\": {\"31\": 28}, \"14\": {\"38\": 2, \"7\": 1, \"14\": 8, \"1\": 1, \"24\": 3, \"55\": 1}, \"12\": {\"12\": 90, \"21\": 1, \"45\": 1}, \"6\": {\"6\": 44, \"20\": 7, \"40\": 4, \"25\": 7, \"4\": 4, \"35\": 1, \"50\": 5, \"9\": 6, \"19\": 1, \"53\": 1, \"21\": 2, \"44\": 7, \"23\": 1, \"18\": 1, \"47\": 1, \"48\": 1, \"51\": 1, \"3\": 4, \"8\": 3, \"33\": 2, \"55\": 2, \"17\": 3, \"37\": 1, \"28\": 2, \"5\": 1}, \"26\": {\"26\": 22, \"3\": 1, \"6\": 1}, \"50\": {\"51\": 6, \"50\": 59, \"3\": 1, \"40\": 4, \"27\": 12, \"8\": 10, \"17\": 3, \"6\": 2, \"30\": 3, \"25\": 5, \"29\": 1, \"44\": 2, \"9\": 8, \"20\": 3, \"21\": 2, \"18\": 2, \"53\": 6, \"28\": 1, \"4\": 1, \"48\": 1}, \"21\": {\"21\": 121, \"9\": 1}, \"46\": {\"47\": 13, \"31\": 1, \"46\": 82, \"39\": 1, \"11\": 6, \"52\": 3, \"1\": 3, \"43\": 3, \"0\": 2, \"57\": 4, \"15\": 3, \"22\": 2, \"16\": 7, \"5\": 3, \"55\": 1, \"32\": 3, \"7\": 1, \"37\": 1, \"35\": 1}, \"51\": {\"51\": 136, \"20\": 3, \"44\": 1}, \"41\": {\"41\": 36}, \"34\": {\"34\": 23, \"42\": 1}, \"47\": {\"47\": 77, \"5\": 16, \"35\": 10, \"57\": 12, \"16\": 3, \"46\": 2}, \"5\": {\"57\": 6, \"5\": 61, \"29\": 2, \"15\": 2, \"41\": 1, \"16\": 5, \"35\": 5, \"47\": 14, \"46\": 5, \"18\": 1, \"52\": 3, \"49\": 1, \"42\": 1, \"23\": 1}, \"1\": {\"1\": 35, \"46\": 2, \"47\": 2, \"32\": 1}, \"48\": {\"48\": 117, \"3\": 4, \"36\": 5, \"54\": 1, \"53\": 2, \"8\": 3, \"6\": 1, \"44\": 1}, \"29\": {\"29\": 113, \"55\": 1, \"5\": 2, \"6\": 1, \"15\": 1}, \"22\": {\"22\": 105, \"56\": 7, \"24\": 3, \"10\": 8, \"2\": 1, \"38\": 1, \"43\": 3}, \"10\": {\"10\": 129, \"2\": 1, \"22\": 1, \"56\": 1}, \"32\": {\"32\": 22, \"49\": 2}, \"13\": {\"13\": 112}, \"42\": {\"42\": 32}, \"27\": {\"27\": 129, \"8\": 9}, \"8\": {\"8\": 113, \"27\": 26, \"50\": 1, \"17\": 1, \"3\": 1}, \"33\": {\"33\": 36}, \"25\": {\"25\": 72, \"33\": 1, \"53\": 9, \"27\": 6, \"50\": 5, \"34\": 1, \"6\": 3, \"3\": 10, \"48\": 4, \"17\": 6, \"8\": 7, \"40\": 3, \"28\": 1, \"20\": 1, \"4\": 1, \"9\": 2}, \"11\": {\"11\": 92, \"14\": 1, \"15\": 5, \"43\": 3, \"10\": 1, \"0\": 2}, \"53\": {\"8\": 3, \"27\": 3, \"53\": 95, \"50\": 3, \"48\": 1, \"44\": 1, \"19\": 1, \"17\": 2, \"3\": 3}}, \"W_1\": {\"60\": {\"48\": 1, \"105\": 1, \"96\": 2, \"34\": 2, \"14\": 1, \"8\": 1, \"80\": 1, \"90\": 1, \"109\": 1, \"60\": 2, \"104\": 1, \"26\": 1, \"13\": 1}, \"59\": {\"76\": 1, \"59\": 7, \"27\": 2, \"125\": 1, \"11\": 1}, \"107\": {\"4\": 2, \"107\": 95, \"70\": 3, \"72\": 1, \"5\": 6, \"34\": 1, \"0\": 3, \"24\": 1, \"88\": 2, \"98\": 1, \"16\": 1, \"29\": 1, \"9\": 2, \"12\": 1, \"108\": 2, \"126\": 1, \"93\": 1}, \"113\": {\"113\": 113, \"16\": 6, \"95\": 1, \"18\": 2, \"121\": 2}, \"6\": {\"6\": 10, \"24\": 1, \"13\": 1, \"97\": 1, \"27\": 4, \"56\": 1, \"15\": 3, \"71\": 2, \"94\": 1, \"112\": 1, \"95\": 1, \"103\": 1, \"69\": 1, \"52\": 1, \"88\": 2, \"127\": 1}, \"24\": {\"24\": 27, \"107\": 2, \"112\": 1, \"127\": 3, \"94\": 3, \"98\": 6, \"73\": 3, \"12\": 3, \"106\": 2, \"70\": 1, \"108\": 6, \"105\": 1, \"41\": 1, \"27\": 3, \"86\": 1, \"30\": 2, \"71\": 4, \"101\": 5, \"15\": 5, \"0\": 4, \"111\": 3, \"4\": 1, \"32\": 1, \"110\": 1, \"10\": 1, \"93\": 1, \"117\": 1}, \"50\": {\"50\": 11, \"102\": 2, \"118\": 1, \"110\": 1, \"116\": 1}, \"62\": {\"50\": 1, \"62\": 103, \"90\": 2, \"11\": 2, \"69\": 7, \"39\": 1, \"33\": 3, \"126\": 1}, \"48\": {\"48\": 12}, \"104\": {\"104\": 14, \"84\": 1, \"43\": 1}, \"105\": {\"105\": 47, \"40\": 7, \"114\": 3, \"87\": 3, \"8\": 3, \"4\": 2, \"1\": 3, \"84\": 5, \"126\": 2, \"65\": 1, \"73\": 1, \"128\": 1, \"108\": 1, \"129\": 1, \"5\": 1, \"7\": 2, \"15\": 1}, \"44\": {\"44\": 55, \"55\": 1, \"85\": 1, \"4\": 1, \"70\": 2, \"94\": 1, \"122\": 1, \"107\": 3, \"108\": 2, \"93\": 2, \"126\": 2, \"10\": 3, \"12\": 1, \"7\": 1}, \"49\": {\"107\": 2, \"49\": 9, \"6\": 1, \"103\": 1, \"56\": 1, \"46\": 1, \"77\": 1, \"37\": 2, \"52\": 1, \"101\": 1}, \"55\": {\"55\": 12}, \"4\": {\"107\": 7, \"32\": 2, \"4\": 70, \"0\": 2, \"86\": 3, \"108\": 3, \"70\": 1, \"105\": 2, \"93\": 4, \"28\": 2, \"128\": 1, \"5\": 1, \"40\": 2}, \"76\": {\"76\": 14, \"66\": 1, \"61\": 1}, \"85\": {\"85\": 25, \"0\": 3, \"92\": 2, \"101\": 1, \"93\": 1}, \"89\": {\"89\": 20, \"106\": 1, \"108\": 2, \"9\": 3, \"98\": 3, \"94\": 1, \"54\": 1, \"29\": 2, \"107\": 2, \"32\": 1}, \"74\": {\"74\": 16}, \"112\": {\"30\": 2, \"24\": 1, \"112\": 9, \"6\": 1, \"37\": 1, \"27\": 2}, \"79\": {\"79\": 11, \"9\": 1}, \"0\": {\"91\": 1, \"118\": 1, \"128\": 2, \"55\": 2, \"110\": 5, \"0\": 29, \"85\": 2, \"31\": 2, \"93\": 9, \"105\": 1, \"108\": 9, \"40\": 2, \"98\": 3, \"101\": 5, \"107\": 2, \"49\": 1, \"42\": 2, \"9\": 1, \"10\": 2, \"44\": 2, \"70\": 1}, \"91\": {\"91\": 19, \"32\": 1, \"85\": 1, \"88\": 1, \"106\": 1, \"105\": 1, \"101\": 2, \"75\": 1, \"30\": 1}, \"118\": {\"118\": 50, \"95\": 2, \"69\": 3, \"18\": 5, \"26\": 6, \"39\": 6, \"117\": 6, \"16\": 4, \"113\": 1, \"27\": 1}, \"80\": {\"84\": 1, \"80\": 11, \"90\": 1, \"60\": 1, \"77\": 2}, \"64\": {\"64\": 15, \"109\": 1}, \"97\": {\"112\": 4, \"32\": 2, \"6\": 3, \"127\": 1, \"97\": 1, \"52\": 1, \"30\": 1, \"92\": 1, \"71\": 3, \"106\": 2, \"9\": 1}, \"84\": {\"84\": 75, \"79\": 3, \"42\": 4, \"14\": 4, \"64\": 1, \"43\": 4, \"7\": 1, \"124\": 3, \"40\": 6, \"114\": 8, \"87\": 1, \"1\": 9, \"60\": 1, \"126\": 1, \"8\": 1, \"109\": 1, \"105\": 1}, \"38\": {\"38\": 13, \"107\": 1, \"61\": 1, \"42\": 1}, \"30\": {\"112\": 2, \"30\": 13, \"32\": 1, \"127\": 3, \"111\": 2, \"73\": 1, \"27\": 2, \"94\": 2, \"110\": 1, \"98\": 2, \"15\": 3, \"0\": 1, \"36\": 1, \"59\": 2, \"75\": 2, \"56\": 2, \"53\": 2, \"52\": 1, \"125\": 1, \"101\": 5, \"70\": 1, \"88\": 1, \"12\": 1}, \"32\": {\"32\": 14, \"30\": 1, \"16\": 1, \"68\": 1, \"106\": 2, \"110\": 4, \"86\": 1, \"92\": 1, \"98\": 3, \"24\": 1, \"89\": 1, \"113\": 2}, \"72\": {\"34\": 1, \"72\": 23, \"45\": 1, \"55\": 1, \"73\": 1, \"110\": 1, \"126\": 1, \"4\": 1, \"44\": 1, \"107\": 1}, \"33\": {\"33\": 110, \"65\": 1, \"102\": 8, \"96\": 1, \"62\": 5, \"69\": 1, \"90\": 1, \"11\": 3, \"20\": 1, \"129\": 1}, \"34\": {\"24\": 1, \"107\": 1, \"0\": 1, \"99\": 1, \"27\": 2, \"15\": 1, \"68\": 1, \"44\": 3, \"43\": 1, \"77\": 1, \"111\": 3, \"90\": 2, \"6\": 2, \"34\": 1, \"104\": 1, \"36\": 2, \"87\": 1, \"8\": 1, \"71\": 1, \"14\": 1, \"127\": 1, \"128\": 1, \"42\": 2}, \"28\": {\"107\": 2, \"28\": 15, \"128\": 2, \"64\": 1}, \"123\": {\"123\": 13, \"2\": 2, \"119\": 1}, \"2\": {\"33\": 3, \"2\": 8, \"102\": 2, \"14\": 1, \"16\": 1, \"3\": 1, \"45\": 1, \"118\": 2, \"117\": 1, \"95\": 3, \"18\": 1, \"121\": 1, \"13\": 1, \"113\": 1, \"82\": 1, \"116\": 2, \"11\": 2}, \"70\": {\"72\": 2, \"126\": 2, \"50\": 1, \"29\": 3, \"98\": 3, \"93\": 4, \"107\": 11, \"70\": 16, \"96\": 1, \"42\": 1, \"4\": 5, \"90\": 7, \"21\": 2, \"0\": 4, \"86\": 1, \"8\": 4, \"39\": 2, \"122\": 2, \"5\": 2, \"109\": 2, \"7\": 1, \"110\": 6, \"127\": 1, \"108\": 3, \"117\": 1, \"10\": 3, \"101\": 5, \"43\": 4, \"106\": 3, \"78\": 1, \"77\": 1, \"28\": 1, \"49\": 1, \"120\": 1, \"45\": 1, \"9\": 1, \"89\": 1, \"62\": 3, \"16\": 1, \"44\": 1, \"11\": 1, \"14\": 3, \"124\": 1, \"33\": 1, \"40\": 2, \"88\": 1}, \"127\": {\"127\": 70, \"88\": 5, \"15\": 1, \"92\": 2, \"49\": 1, \"78\": 1, \"30\": 1, \"103\": 1, \"24\": 5, \"12\": 2, \"71\": 2, \"98\": 3, \"111\": 8, \"106\": 2, \"94\": 2, \"68\": 2}, \"110\": {\"110\": 68, \"91\": 2, \"31\": 1, \"0\": 4, \"55\": 1, \"92\": 1, \"70\": 1, \"72\": 2, \"106\": 3, \"86\": 1, \"108\": 4, \"101\": 12, \"4\": 2, \"98\": 9, \"93\": 5, \"88\": 1, \"10\": 1, \"39\": 1, \"71\": 1, \"113\": 1, \"56\": 1, \"97\": 1, \"32\": 1, \"127\": 2, \"69\": 1, \"16\": 1}, \"126\": {\"128\": 1, \"126\": 36, \"64\": 1, \"129\": 1, \"78\": 1, \"80\": 1, \"44\": 2, \"1\": 6, \"114\": 5, \"77\": 2, \"28\": 1, \"8\": 8, \"87\": 8, \"109\": 4, \"19\": 1, \"90\": 5, \"21\": 1, \"70\": 3, \"105\": 2, \"107\": 8, \"108\": 1, \"4\": 1, \"14\": 4, \"43\": 10, \"98\": 2, \"5\": 4, \"120\": 1, \"72\": 1, \"93\": 4, \"7\": 4, \"122\": 1, \"124\": 1, \"40\": 3, \"10\": 1, \"106\": 1}, \"13\": {\"13\": 11, \"26\": 2, \"118\": 2, \"63\": 1}, \"15\": {\"15\": 38, \"127\": 2, \"111\": 6, \"27\": 10, \"98\": 2, \"94\": 7, \"101\": 3, \"71\": 5, \"106\": 3, \"88\": 4, \"36\": 6, \"125\": 8, \"24\": 2, \"97\": 1, \"92\": 1, \"51\": 1, \"110\": 2, \"6\": 1, \"12\": 1, \"30\": 1}, \"29\": {\"29\": 22, \"89\": 3, \"85\": 1, \"4\": 1, \"34\": 1}, \"18\": {\"13\": 2, \"18\": 91, \"26\": 4, \"39\": 4, \"118\": 5, \"69\": 1, \"117\": 5, \"16\": 2, \"2\": 2, \"63\": 1, \"95\": 1, \"62\": 2}, \"7\": {\"7\": 99, \"70\": 2, \"19\": 1, \"40\": 4, \"72\": 1, \"93\": 4, \"1\": 6, \"84\": 4, \"126\": 8, \"114\": 1, \"44\": 1, \"83\": 1, \"43\": 1, \"81\": 1, \"87\": 2, \"105\": 3, \"8\": 2, \"122\": 1}, \"56\": {\"6\": 2, \"56\": 8, \"111\": 2}, \"98\": {\"49\": 1, \"98\": 67, \"17\": 1, \"29\": 1, \"68\": 1, \"24\": 4, \"9\": 2, \"106\": 9, \"107\": 1, \"0\": 2, \"12\": 1, \"127\": 6, \"110\": 4, \"111\": 2, \"85\": 1, \"34\": 1, \"89\": 1, \"32\": 1, \"108\": 1, \"101\": 1}, \"99\": {\"99\": 9, \"80\": 2, \"50\": 1, \"84\": 1, \"42\": 3, \"96\": 1, \"1\": 1, \"81\": 1, \"38\": 1, \"2\": 2, \"43\": 1, \"33\": 1}, \"77\": {\"77\": 9, \"17\": 1, \"93\": 1, \"105\": 2, \"20\": 1, \"72\": 1, \"110\": 1}, \"103\": {\"15\": 1, \"103\": 13, \"27\": 1, \"111\": 1}, \"128\": {\"128\": 7, \"99\": 1, \"108\": 2, \"8\": 1, \"88\": 1, \"72\": 1, \"29\": 1, \"84\": 1, \"109\": 2, \"40\": 1, \"81\": 2, \"107\": 2, \"45\": 1, \"43\": 1}, \"3\": {\"3\": 62, \"81\": 1, \"25\": 1, \"96\": 1, \"84\": 3, \"122\": 3, \"102\": 2, \"125\": 1, \"88\": 1, \"43\": 2, \"33\": 2, \"82\": 1, \"14\": 4, \"94\": 1, \"109\": 1, \"36\": 1, \"39\": 1}, \"121\": {\"117\": 1, \"121\": 17, \"113\": 3, \"65\": 2, \"39\": 2, \"62\": 2, \"18\": 2, \"76\": 1, \"16\": 1, \"42\": 1}, \"42\": {\"42\": 4, \"99\": 1, \"74\": 1, \"69\": 2, \"85\": 1, \"61\": 2, \"86\": 1, \"33\": 1, \"102\": 4, \"7\": 1, \"82\": 2, \"129\": 2, \"108\": 1, \"124\": 1, \"107\": 1, \"116\": 2, \"109\": 1}, \"90\": {\"90\": 109, \"116\": 1, \"109\": 3, \"122\": 3, \"62\": 1, \"3\": 1, \"14\": 1, \"11\": 1}, \"37\": {\"37\": 13, \"88\": 1, \"58\": 2}, \"120\": {\"121\": 1, \"120\": 15, \"10\": 1, \"45\": 1, \"13\": 1, \"78\": 1}, \"117\": {\"117\": 82, \"39\": 8, \"95\": 1, \"26\": 7, \"18\": 4, \"16\": 11, \"118\": 5}, \"9\": {\"103\": 2, \"89\": 1, \"9\": 19, \"107\": 1, \"0\": 2, \"98\": 2, \"110\": 1, \"5\": 1, \"34\": 1, \"29\": 2}, \"108\": {\"108\": 27, \"46\": 1, \"23\": 1, \"107\": 7, \"106\": 5, \"44\": 1, \"70\": 4, \"126\": 2, \"1\": 1, \"43\": 3, \"87\": 2, \"4\": 5, \"9\": 1, \"98\": 6, \"8\": 2, \"89\": 2, \"101\": 12, \"114\": 1, \"10\": 2, \"0\": 6, \"93\": 5, \"40\": 2, \"5\": 9, \"12\": 1, \"110\": 4, \"7\": 2, \"90\": 2, \"47\": 1, \"73\": 1, \"30\": 1, \"49\": 1, \"125\": 1, \"72\": 1, \"86\": 1, \"85\": 1}, \"83\": {\"84\": 1, \"104\": 1, \"83\": 15, \"73\": 2, \"42\": 1, \"93\": 2, \"105\": 2, \"46\": 2, \"114\": 1, \"72\": 1}, \"14\": {\"14\": 78, \"43\": 4, \"8\": 1, \"121\": 1, \"122\": 5, \"84\": 1, \"109\": 4, \"38\": 1, \"42\": 1}, \"63\": {\"2\": 1, \"63\": 15}, \"11\": {\"11\": 59, \"14\": 3, \"100\": 1, \"102\": 10, \"122\": 2, \"1\": 2, \"26\": 2, \"109\": 4, \"39\": 3, \"69\": 3, \"62\": 5, \"105\": 1, \"90\": 6, \"33\": 6, \"74\": 1, \"66\": 1, \"67\": 2, \"13\": 1, \"2\": 1, \"120\": 1, \"3\": 2, \"16\": 1, \"43\": 1}, \"95\": {\"95\": 29, \"117\": 2, \"16\": 2, \"113\": 1, \"2\": 1, \"39\": 1}, \"26\": {\"26\": 100, \"18\": 5, \"118\": 5, \"39\": 2, \"36\": 1, \"117\": 4, \"69\": 3, \"51\": 1, \"16\": 5, \"78\": 1, \"63\": 1, \"87\": 1, \"11\": 1}, \"22\": {\"22\": 10, \"123\": 1, \"80\": 1, \"109\": 1, \"60\": 1, \"14\": 1, \"90\": 1}, \"102\": {\"102\": 84, \"11\": 2, \"67\": 2, \"33\": 13, \"100\": 1, \"62\": 10, \"69\": 6, \"129\": 2}, \"69\": {\"69\": 71, \"26\": 3, \"3\": 1, \"102\": 4, \"16\": 1, \"90\": 1, \"62\": 11, \"18\": 2, \"113\": 3, \"33\": 2, \"39\": 3, \"117\": 2, \"11\": 1, \"67\": 1}, \"1\": {\"1\": 73, \"83\": 2, \"7\": 5, \"84\": 11, \"105\": 3, \"40\": 4, \"114\": 18, \"87\": 3, \"124\": 4, \"43\": 1, \"70\": 1, \"129\": 1, \"35\": 1, \"19\": 1, \"8\": 1, \"14\": 1}, \"67\": {\"67\": 15, \"102\": 1}, \"57\": {\"57\": 12}, \"8\": {\"57\": 1, \"128\": 1, \"8\": 80, \"87\": 6, \"105\": 2, \"44\": 2, \"62\": 1, \"26\": 1, \"93\": 5, \"10\": 4, \"109\": 1, \"70\": 8, \"126\": 4, \"108\": 2, \"43\": 8, \"40\": 1, \"90\": 1, \"1\": 1, \"100\": 1, \"122\": 2, \"11\": 1, \"84\": 1}, \"109\": {\"129\": 1, \"109\": 44, \"78\": 1, \"38\": 1, \"82\": 2, \"120\": 1, \"84\": 10, \"61\": 1, \"73\": 1, \"39\": 8, \"116\": 1, \"19\": 4, \"117\": 1, \"11\": 2, \"21\": 6, \"93\": 1, \"1\": 1, \"3\": 2, \"14\": 4, \"126\": 2, \"122\": 7, \"7\": 2, \"43\": 3, \"8\": 1, \"16\": 2, \"80\": 1, \"113\": 1, \"20\": 1, \"95\": 1, \"81\": 1, \"87\": 1, \"33\": 1, \"90\": 4, \"69\": 1, \"62\": 1, \"26\": 1, \"18\": 1}, \"129\": {\"1\": 2, \"114\": 2, \"102\": 3, \"62\": 1, \"129\": 7, \"116\": 2, \"107\": 1, \"18\": 1, \"63\": 2, \"34\": 1, \"120\": 1, \"99\": 1, \"83\": 1, \"69\": 1, \"84\": 1, \"86\": 1}, \"111\": {\"111\": 88, \"112\": 2, \"24\": 5, \"53\": 1, \"71\": 4, \"30\": 2, \"12\": 3, \"127\": 3, \"88\": 6, \"106\": 1, \"15\": 3, \"94\": 1, \"27\": 1}, \"71\": {\"71\": 59, \"102\": 1, \"94\": 4, \"52\": 1, \"12\": 8, \"24\": 4, \"53\": 2, \"30\": 3, \"111\": 5, \"69\": 1, \"88\": 2, \"98\": 2, \"127\": 6, \"106\": 1, \"113\": 2, \"125\": 2, \"16\": 1, \"27\": 1, \"101\": 1, \"26\": 1, \"62\": 1}, \"47\": {\"47\": 9, \"107\": 2, \"29\": 1}, \"82\": {\"82\": 33, \"81\": 1, \"11\": 1, \"122\": 1}, \"27\": {\"71\": 5, \"27\": 36, \"30\": 2, \"88\": 5, \"127\": 5, \"12\": 10, \"24\": 4, \"106\": 1, \"94\": 4, \"125\": 2, \"111\": 5, \"15\": 5, \"36\": 5, \"49\": 1, \"103\": 1, \"6\": 1}, \"19\": {\"104\": 1, \"82\": 1, \"19\": 17, \"28\": 1, \"8\": 1, \"124\": 1, \"43\": 3, \"81\": 1, \"40\": 1, \"84\": 1}, \"122\": {\"63\": 1, \"66\": 1, \"122\": 32, \"82\": 2, \"1\": 2, \"28\": 1, \"11\": 1, \"14\": 15, \"117\": 1, \"84\": 6, \"90\": 3, \"43\": 8, \"109\": 8, \"114\": 1, \"8\": 1, \"81\": 2, \"129\": 1, \"38\": 1, \"33\": 1}, \"53\": {\"71\": 1, \"53\": 14, \"111\": 1, \"92\": 1, \"6\": 1, \"112\": 1, \"30\": 1}, \"87\": {\"104\": 1, \"66\": 1, \"1\": 3, \"87\": 27, \"4\": 4, \"79\": 1, \"10\": 3, \"114\": 6, \"107\": 3, \"8\": 5, \"122\": 3, \"72\": 1, \"93\": 2, \"28\": 2, \"124\": 4, \"43\": 6, \"94\": 1, \"90\": 1, \"126\": 5, \"105\": 3, \"14\": 5, \"40\": 8, \"84\": 3, \"7\": 2, \"74\": 1, \"37\": 1, \"73\": 2, \"44\": 1, \"83\": 1, \"71\": 1, \"108\": 1}, \"100\": {\"82\": 3, \"100\": 7, \"129\": 1, \"19\": 1, \"119\": 1, \"61\": 1, \"81\": 1, \"3\": 1}, \"66\": {\"66\": 12, \"116\": 2, \"11\": 2}, \"31\": {\"31\": 14, \"49\": 1, \"0\": 1}, \"58\": {\"58\": 9, \"97\": 2, \"92\": 1}, \"68\": {\"68\": 11, \"112\": 1, \"12\": 1, \"127\": 1, \"24\": 1, \"111\": 1}, \"88\": {\"112\": 2, \"88\": 19, \"97\": 1, \"27\": 7, \"108\": 1, \"6\": 1, \"86\": 2, \"125\": 15, \"110\": 8, \"36\": 9, \"16\": 1, \"101\": 10, \"106\": 9, \"107\": 2, \"15\": 5, \"94\": 2, \"12\": 1, \"98\": 2, \"113\": 1, \"85\": 1, \"127\": 6, \"0\": 3, \"4\": 1, \"68\": 1, \"30\": 1, \"111\": 3}, \"45\": {\"128\": 1, \"129\": 1, \"44\": 1, \"109\": 1, \"3\": 2, \"116\": 1, \"11\": 1, \"45\": 1, \"36\": 1, \"33\": 2}, \"114\": {\"114\": 84, \"105\": 2, \"83\": 1, \"115\": 1, \"40\": 9, \"124\": 9, \"1\": 13, \"4\": 1, \"84\": 6, \"43\": 1, \"71\": 1}, \"23\": {\"58\": 1, \"126\": 2, \"84\": 1, \"43\": 1, \"23\": 4, \"34\": 1, \"10\": 1, \"87\": 1, \"129\": 2, \"80\": 1, \"97\": 1, \"104\": 1, \"9\": 1, \"11\": 1, \"4\": 1, \"7\": 1, \"1\": 1, \"106\": 2}, \"65\": {\"92\": 1, \"26\": 1, \"43\": 1, \"16\": 1, \"60\": 2, \"74\": 1, \"51\": 1, \"63\": 1, \"61\": 1, \"18\": 1, \"118\": 1}, \"124\": {\"124\": 83, \"83\": 1, \"40\": 6, \"72\": 1, \"25\": 1, \"1\": 5, \"114\": 11, \"15\": 1, \"5\": 1, \"105\": 1, \"126\": 2, \"34\": 1, \"84\": 2, \"87\": 1, \"7\": 1}, \"10\": {\"10\": 36, \"57\": 1, \"85\": 3, \"97\": 1, \"93\": 9, \"28\": 1, \"4\": 5, \"90\": 4, \"126\": 3, \"8\": 8, \"94\": 1, \"108\": 7, \"109\": 1, \"15\": 1, \"44\": 2, \"0\": 7, \"87\": 4, \"39\": 2, \"71\": 1, \"11\": 1, \"7\": 1, \"98\": 1, \"110\": 6, \"60\": 1, \"70\": 2, \"43\": 6, \"101\": 2, \"72\": 1, \"117\": 1, \"14\": 1}, \"92\": {\"92\": 27, \"98\": 1}, \"40\": {\"40\": 87, \"17\": 1, \"87\": 3, \"84\": 1, \"73\": 1, \"107\": 3, \"114\": 8, \"72\": 1, \"124\": 8, \"4\": 1, \"105\": 9, \"26\": 1, \"1\": 10, \"126\": 2, \"34\": 1, \"83\": 1, \"5\": 1, \"70\": 1, \"16\": 1, \"43\": 1, \"93\": 1, \"8\": 1}, \"73\": {\"73\": 14, \"64\": 2, \"46\": 1, \"72\": 1, \"40\": 1, \"124\": 1}, \"94\": {\"94\": 25, \"92\": 1, \"27\": 10, \"36\": 5, \"24\": 5, \"52\": 1, \"106\": 1, \"30\": 4, \"15\": 11, \"71\": 6, \"12\": 4, \"88\": 3, \"111\": 4, \"125\": 4, \"59\": 1, \"98\": 2, \"127\": 3, \"107\": 1, \"118\": 1}, \"81\": {\"81\": 22, \"99\": 1, \"43\": 1, \"129\": 3, \"11\": 1}, \"101\": {\"88\": 2, \"101\": 83, \"85\": 2, \"0\": 3, \"118\": 1, \"110\": 11, \"70\": 1, \"91\": 1, \"32\": 1, \"30\": 1, \"93\": 3, \"90\": 1}, \"86\": {\"86\": 25, \"31\": 1, \"71\": 1, \"0\": 2, \"108\": 1, \"110\": 1, \"111\": 1, \"101\": 2, \"81\": 1, \"107\": 1}, \"78\": {\"109\": 3, \"96\": 1, \"126\": 4, \"23\": 1, \"90\": 1, \"87\": 1, \"81\": 1, \"40\": 2, \"20\": 1, \"83\": 1}, \"96\": {\"96\": 5, \"78\": 1, \"90\": 1, \"60\": 1, \"99\": 1, \"42\": 1, \"40\": 1, \"35\": 1, \"129\": 2, \"122\": 1, \"26\": 1, \"109\": 3, \"44\": 1}, \"5\": {\"5\": 52, \"107\": 12, \"89\": 3, \"43\": 1, \"109\": 1, \"110\": 2, \"126\": 1, \"118\": 1, \"0\": 3, \"77\": 1, \"4\": 4, \"29\": 1, \"9\": 1, \"93\": 2, \"86\": 1, \"39\": 1, \"98\": 1}, \"16\": {\"16\": 76, \"117\": 20, \"26\": 5, \"121\": 1, \"21\": 1, \"18\": 3, \"39\": 1, \"113\": 1}, \"35\": {\"1\": 1, \"35\": 9, \"43\": 2}, \"51\": {\"51\": 12, \"125\": 3, \"15\": 1}, \"46\": {\"46\": 4, \"129\": 1, \"23\": 1, \"27\": 1, \"6\": 1, \"124\": 1, \"83\": 1, \"126\": 1, \"71\": 1}, \"20\": {\"20\": 16}, \"116\": {\"102\": 5, \"116\": 19, \"10\": 1, \"119\": 1, \"21\": 1, \"45\": 1, \"62\": 1, \"100\": 1, \"114\": 1, \"15\": 1}, \"75\": {\"75\": 15, \"110\": 1}, \"43\": {\"84\": 12, \"80\": 1, \"14\": 9, \"87\": 6, \"109\": 4, \"61\": 3, \"105\": 4, \"43\": 37, \"1\": 11, \"90\": 7, \"21\": 1, \"10\": 1, \"40\": 4, \"26\": 1, \"126\": 4, \"70\": 2, \"122\": 2, \"7\": 6, \"114\": 5, \"17\": 1, \"19\": 1, \"39\": 1, \"128\": 1, \"99\": 2, \"44\": 1, \"117\": 1}, \"17\": {\"107\": 1, \"17\": 8, \"54\": 2, \"32\": 1, \"47\": 1, \"129\": 1, \"98\": 2}, \"12\": {\"12\": 53, \"110\": 1, \"6\": 1, \"106\": 4, \"24\": 8, \"52\": 3, \"98\": 4, \"88\": 3, \"111\": 8, \"71\": 7, \"26\": 1, \"27\": 1, \"0\": 1, \"15\": 3, \"89\": 1, \"30\": 1, \"127\": 1, \"94\": 2, \"101\": 1}, \"25\": {\"25\": 15, \"99\": 1}, \"54\": {\"54\": 10, \"40\": 1, \"9\": 1, \"89\": 1, \"92\": 1, \"129\": 1, \"72\": 1}, \"36\": {\"36\": 79, \"125\": 14, \"94\": 4, \"27\": 5, \"26\": 1, \"113\": 1, \"88\": 7, \"117\": 1}, \"52\": {\"52\": 17, \"98\": 1, \"112\": 2}, \"61\": {\"61\": 9, \"109\": 2, \"76\": 1}, \"106\": {\"106\": 89, \"12\": 1, \"30\": 2, \"98\": 10, \"111\": 5, \"107\": 1, \"110\": 2, \"101\": 1, \"88\": 3, \"97\": 2, \"89\": 1, \"24\": 1, \"71\": 1, \"127\": 1}, \"39\": {\"39\": 57, \"63\": 1, \"121\": 1, \"117\": 12, \"18\": 3, \"16\": 7, \"26\": 11, \"118\": 6, \"69\": 3, \"122\": 1, \"33\": 1, \"113\": 1}, \"119\": {\"119\": 15, \"42\": 1}, \"125\": {\"125\": 121, \"27\": 3, \"94\": 9, \"15\": 2, \"36\": 5, \"88\": 7, \"51\": 1}, \"93\": {\"128\": 2, \"93\": 37, \"29\": 1, \"86\": 2, \"0\": 6, \"44\": 6, \"106\": 5, \"108\": 9, \"10\": 6, \"5\": 12, \"105\": 1, \"4\": 3, \"70\": 9, \"110\": 4, \"107\": 9, \"101\": 3, \"7\": 2, \"8\": 10, \"40\": 2, \"43\": 6, \"98\": 3, \"17\": 2, \"87\": 2, \"91\": 1, \"89\": 1, \"121\": 1, \"126\": 1, \"124\": 1, \"62\": 1}, \"115\": {\"115\": 6, \"114\": 1, \"124\": 1, \"1\": 1, \"34\": 1, \"7\": 1, \"43\": 1}, \"21\": {\"69\": 1, \"21\": 10, \"96\": 1, \"2\": 1, \"70\": 2, \"87\": 1, \"113\": 2, \"39\": 2, \"105\": 1, \"94\": 1, \"118\": 1, \"108\": 1, \"90\": 2, \"18\": 2, \"13\": 3, \"92\": 1, \"95\": 1, \"17\": 1, \"14\": 1, \"109\": 3, \"121\": 1, \"7\": 1}, \"41\": {\"93\": 2, \"41\": 10, \"8\": 1, \"44\": 1, \"72\": 1, \"108\": 1}}, \"W_4\": {\"55\": {\"55\": 16}, \"9\": {\"59\": 1, \"10\": 1, \"9\": 15, \"106\": 2, \"68\": 2, \"34\": 1, \"53\": 1, \"15\": 1, \"6\": 2, \"24\": 2}, \"70\": {\"112\": 1, \"108\": 6, \"32\": 1, \"14\": 2, \"85\": 3, \"127\": 7, \"62\": 3, \"99\": 1, \"43\": 5, \"27\": 4, \"4\": 6, \"70\": 18, \"0\": 5, \"114\": 5, \"111\": 1, \"16\": 1, \"122\": 1, \"15\": 1, \"107\": 1, \"98\": 10, \"93\": 4, \"39\": 1, \"124\": 4, \"88\": 2, \"118\": 1, \"71\": 1, \"7\": 2, \"110\": 2, \"101\": 4, \"34\": 2, \"11\": 1, \"3\": 4, \"95\": 2, \"106\": 1, \"60\": 1, \"86\": 1, \"66\": 2, \"82\": 1, \"117\": 1, \"90\": 1, \"8\": 1, \"87\": 1}, \"112\": {\"112\": 10, \"29\": 2, \"98\": 2, \"42\": 2}, \"115\": {\"115\": 7, \"36\": 1, \"18\": 2, \"129\": 1, \"69\": 1, \"72\": 1, \"46\": 1, \"40\": 2}, \"56\": {\"56\": 9, \"43\": 1, \"0\": 1, \"86\": 1}, \"108\": {\"117\": 2, \"116\": 1, \"102\": 1, \"60\": 1, \"108\": 22, \"25\": 1, \"76\": 1, \"109\": 3, \"23\": 1, \"43\": 8, \"107\": 4, \"44\": 1, \"19\": 1, \"26\": 1, \"33\": 3, \"87\": 4, \"62\": 2, \"10\": 1, \"88\": 2, \"90\": 1, \"122\": 7, \"118\": 1, \"40\": 4, \"93\": 2, \"94\": 2, \"32\": 1, \"16\": 1, \"11\": 4, \"14\": 3, \"4\": 1, \"78\": 1, \"36\": 1, \"5\": 2, \"110\": 1}, \"117\": {\"117\": 94, \"39\": 6, \"88\": 1, \"81\": 2, \"113\": 7, \"26\": 4, \"90\": 1, \"93\": 1, \"109\": 1, \"16\": 4, \"126\": 1, \"18\": 2}, \"111\": {\"9\": 1, \"10\": 1, \"58\": 1, \"111\": 98, \"103\": 3, \"127\": 7, \"106\": 8, \"114\": 2, \"12\": 1, \"88\": 1, \"36\": 2, \"98\": 2, \"101\": 1, \"15\": 2, \"24\": 1, \"113\": 1}, \"71\": {\"112\": 1, \"71\": 64, \"63\": 1, \"114\": 6, \"124\": 1, \"60\": 1, \"4\": 3, \"86\": 1, \"107\": 1, \"12\": 1, \"127\": 2, \"7\": 5, \"3\": 4, \"129\": 2, \"9\": 1, \"82\": 1, \"87\": 1, \"49\": 1, \"36\": 1, \"105\": 1, \"126\": 4, \"1\": 1}, \"59\": {\"59\": 7, \"25\": 2, \"6\": 3}, \"10\": {\"59\": 2, \"37\": 2, \"25\": 1, \"9\": 2, \"24\": 5, \"100\": 1, \"111\": 1, \"6\": 4, \"10\": 29, \"0\": 9, \"30\": 3, \"70\": 3, \"15\": 10, \"88\": 4, \"36\": 7, \"12\": 2, \"105\": 2, \"7\": 5, \"27\": 2, \"94\": 3, \"5\": 1, \"106\": 2, \"87\": 2, \"43\": 1, \"101\": 1, \"125\": 8, \"34\": 1, \"40\": 2, \"109\": 1, \"110\": 1, \"14\": 2, \"42\": 2, \"4\": 1, \"126\": 1, \"108\": 1}, \"83\": {\"70\": 2, \"83\": 12, \"55\": 1, \"114\": 3, \"87\": 1, \"17\": 2, \"129\": 1, \"60\": 1, \"4\": 1, \"1\": 3, \"119\": 1}, \"116\": {\"116\": 15, \"66\": 1, \"11\": 1, \"69\": 2, \"14\": 2, \"76\": 1, \"44\": 1, \"89\": 1, \"107\": 1, \"64\": 1, \"102\": 1, \"5\": 1}, \"13\": {\"116\": 2, \"13\": 9, \"109\": 2, \"84\": 2, \"62\": 1}, \"4\": {\"55\": 1, \"56\": 1, \"0\": 2, \"4\": 65, \"49\": 1, \"98\": 4, \"95\": 3, \"71\": 3, \"27\": 2, \"7\": 1, \"124\": 4, \"101\": 3, \"114\": 5, \"88\": 1, \"3\": 1, \"70\": 3, \"10\": 1, \"8\": 2, \"126\": 1}, \"125\": {\"125\": 92, \"106\": 1, \"117\": 1, \"24\": 5, \"94\": 2, \"36\": 3, \"10\": 1, \"113\": 1}, \"102\": {\"14\": 1, \"31\": 2, \"90\": 2, \"102\": 93, \"69\": 8, \"38\": 1, \"44\": 4, \"73\": 2, \"84\": 3, \"110\": 1, \"122\": 1, \"16\": 1, \"116\": 1, \"107\": 2, \"1\": 1, \"26\": 1}, \"47\": {\"58\": 1, \"47\": 8, \"9\": 3}, \"28\": {\"28\": 17, \"64\": 1, \"32\": 1, \"60\": 1}, \"82\": {\"82\": 16, \"60\": 1, \"89\": 2, \"17\": 1, \"128\": 1, \"87\": 2, \"70\": 1, \"114\": 1, \"72\": 1, \"71\": 1, \"78\": 1, \"105\": 1, \"40\": 3}, \"60\": {\"108\": 1, \"17\": 1, \"19\": 4, \"122\": 1, \"60\": 9, \"7\": 1, \"110\": 2, \"3\": 1, \"99\": 2, \"116\": 1, \"62\": 1, \"100\": 1, \"32\": 1, \"129\": 1, \"71\": 1, \"124\": 1, \"101\": 1, \"66\": 1, \"86\": 1}, \"107\": {\"107\": 84, \"82\": 1, \"40\": 10, \"28\": 1, \"33\": 17, \"78\": 1, \"14\": 2, \"43\": 4, \"122\": 1, \"4\": 1, \"5\": 2, \"3\": 1, \"11\": 1, \"105\": 2, \"108\": 1, \"44\": 1, \"70\": 1, \"93\": 1, \"110\": 1, \"87\": 1}, \"75\": {\"75\": 14, \"36\": 1, \"97\": 1}, \"31\": {\"102\": 2, \"31\": 12, \"74\": 1, \"33\": 1}, \"92\": {\"92\": 20, \"69\": 3, \"118\": 1, \"99\": 1, \"102\": 2, \"45\": 1}, \"58\": {\"58\": 13, \"15\": 1, \"9\": 2}, \"113\": {\"92\": 1, \"113\": 64, \"2\": 1, \"126\": 6, \"78\": 1, \"18\": 4, \"117\": 22, \"16\": 5, \"26\": 4, \"81\": 3, \"39\": 8, \"109\": 1, \"69\": 3, \"84\": 1, \"67\": 1, \"121\": 1, \"108\": 1, \"0\": 1}, \"95\": {\"17\": 2, \"95\": 18, \"101\": 3, \"27\": 2, \"127\": 1, \"4\": 3, \"77\": 1, \"98\": 1, \"70\": 1}, \"14\": {\"14\": 88, \"126\": 1, \"66\": 1, \"40\": 2, \"43\": 4, \"110\": 4, \"16\": 1, \"93\": 1, \"72\": 1, \"88\": 2, \"44\": 2, \"108\": 2, \"109\": 1, \"117\": 1, \"62\": 1}, \"17\": {\"17\": 11, \"82\": 1, \"71\": 1, \"104\": 2, \"46\": 1, \"60\": 1, \"19\": 2, \"129\": 1}, \"104\": {\"104\": 9, \"17\": 1, \"40\": 1, \"100\": 1, \"105\": 2, \"119\": 1, \"107\": 1}, \"72\": {\"72\": 17, \"108\": 1, \"110\": 1, \"87\": 2, \"19\": 2, \"46\": 1, \"60\": 1, \"78\": 1, \"120\": 1, \"32\": 1, \"82\": 1, \"33\": 1, \"5\": 1, \"43\": 1}, \"69\": {\"69\": 88, \"102\": 10, \"117\": 1, \"45\": 1, \"96\": 1, \"66\": 2, \"44\": 1, \"122\": 2, \"90\": 8, \"118\": 3, \"109\": 3, \"38\": 2, \"84\": 1, \"18\": 1, \"62\": 1, \"33\": 1, \"14\": 1, \"3\": 1}, \"63\": {\"63\": 12, \"123\": 1, \"117\": 1, \"81\": 2}, \"12\": {\"12\": 57, \"51\": 1, \"30\": 1, \"106\": 7, \"111\": 8, \"15\": 6, \"98\": 4, \"8\": 2, \"127\": 3, \"125\": 1, \"105\": 1, \"118\": 1, \"24\": 2, \"64\": 1, \"88\": 1, \"10\": 2, \"0\": 1, \"62\": 1}, \"25\": {\"25\": 15, \"10\": 1}, \"67\": {\"63\": 1, \"43\": 1, \"13\": 1, \"67\": 4, \"44\": 2, \"40\": 1, \"74\": 1, \"3\": 2, \"113\": 1, \"16\": 1, \"33\": 1}, \"50\": {\"43\": 1, \"104\": 1, \"50\": 9, \"46\": 1, \"5\": 1, \"73\": 1, \"82\": 1, \"33\": 1}, \"43\": {\"108\": 4, \"104\": 1, \"79\": 2, \"43\": 24, \"61\": 1, \"88\": 4, \"46\": 1, \"40\": 12, \"100\": 1, \"19\": 1, \"117\": 1, \"122\": 4, \"93\": 5, \"33\": 7, \"107\": 10, \"69\": 1, \"90\": 1, \"110\": 4, \"3\": 1, \"70\": 2, \"5\": 4, \"105\": 2, \"109\": 1, \"11\": 2, \"87\": 4, \"71\": 1, \"78\": 1, \"28\": 1, \"32\": 1, \"129\": 1, \"26\": 1, \"99\": 2, \"62\": 4, \"83\": 2, \"38\": 1, \"1\": 2, \"118\": 1, \"114\": 1, \"124\": 1}, \"96\": {\"96\": 10, \"13\": 2, \"2\": 2, \"62\": 1, \"90\": 1, \"69\": 2, \"84\": 2}, \"128\": {\"17\": 1, \"72\": 2, \"128\": 13, \"115\": 1, \"82\": 1, \"100\": 1, \"27\": 1, \"120\": 1, \"89\": 1, \"105\": 1, \"86\": 1}, \"77\": {\"77\": 10, \"68\": 1, \"98\": 1}, \"54\": {\"54\": 16}, \"118\": {\"118\": 33, \"31\": 1, \"69\": 10, \"123\": 1, \"62\": 5, \"43\": 3, \"14\": 7, \"39\": 1, \"113\": 1, \"81\": 1, \"108\": 2, \"26\": 2, \"93\": 6, \"122\": 5, \"102\": 4, \"117\": 1, \"33\": 2, \"88\": 2, \"84\": 3, \"90\": 6, \"109\": 4, \"110\": 1, \"45\": 1, \"96\": 1, \"32\": 1, \"40\": 1, \"20\": 1, \"16\": 1, \"116\": 2, \"78\": 2, \"126\": 1}, \"30\": {\"30\": 14, \"8\": 5, \"111\": 1, \"29\": 4, \"109\": 1, \"10\": 10, \"53\": 1, \"95\": 1, \"15\": 7, \"91\": 1, \"4\": 2, \"106\": 4, \"88\": 1, \"36\": 1, \"101\": 4, \"12\": 4, \"94\": 1, \"27\": 4, \"0\": 3, \"55\": 1, \"9\": 1, \"70\": 1, \"103\": 1, \"7\": 1, \"125\": 1, \"39\": 1}, \"51\": {\"51\": 5, \"111\": 4, \"34\": 2, \"15\": 1, \"106\": 2, \"9\": 1, \"94\": 1}, \"122\": {\"118\": 6, \"31\": 1, \"122\": 20, \"102\": 7, \"93\": 6, \"90\": 2, \"110\": 6, \"62\": 1, \"0\": 2, \"14\": 4, \"107\": 2, \"66\": 1, \"69\": 2, \"108\": 2, \"44\": 6, \"87\": 1, \"39\": 1, \"33\": 3, \"71\": 1, \"11\": 1, \"88\": 1, \"43\": 3, \"15\": 1, \"109\": 2, \"16\": 1, \"18\": 1}, \"46\": {\"46\": 13, \"105\": 3, \"124\": 2, \"79\": 1, \"104\": 1}, \"79\": {\"79\": 8, \"12\": 1, \"115\": 1, \"82\": 1, \"107\": 2, \"33\": 1, \"89\": 1, \"17\": 1}, \"103\": {\"30\": 1, \"103\": 15}, \"74\": {\"43\": 1, \"74\": 9, \"76\": 1, \"40\": 2, \"22\": 1, \"28\": 1, \"5\": 1}, \"90\": {\"90\": 117, \"122\": 3, \"13\": 1, \"118\": 1, \"84\": 10, \"102\": 3, \"69\": 1, \"93\": 3, \"38\": 2, \"14\": 1, \"121\": 1, \"109\": 1, \"44\": 1, \"62\": 1}, \"8\": {\"8\": 85, \"55\": 1, \"127\": 9, \"12\": 1, \"117\": 1, \"91\": 2, \"101\": 15, \"0\": 3, \"27\": 4, \"124\": 1, \"114\": 1, \"30\": 1, \"87\": 2, \"98\": 2, \"70\": 1, \"24\": 1, \"41\": 1, \"53\": 2, \"86\": 1, \"26\": 1, \"4\": 1, \"39\": 1, \"15\": 2, \"88\": 2, \"7\": 1}, \"94\": {\"94\": 38, \"125\": 9, \"9\": 3, \"34\": 1, \"111\": 4, \"36\": 4, \"15\": 8, \"24\": 5, \"106\": 9, \"87\": 1, \"54\": 1, \"10\": 1, \"21\": 1, \"16\": 1, \"62\": 1, \"126\": 1}, \"7\": {\"72\": 1, \"7\": 55, \"34\": 1, \"127\": 1, \"89\": 1, \"70\": 3, \"0\": 1, \"43\": 2, \"4\": 6, \"71\": 5, \"105\": 4, \"36\": 1, \"114\": 5, \"124\": 3, \"3\": 6, \"18\": 1, \"126\": 1, \"11\": 2, \"88\": 1, \"129\": 1, \"87\": 1, \"17\": 1, \"128\": 1, \"55\": 1, \"112\": 1, \"86\": 1, \"27\": 3, \"49\": 1, \"101\": 2, \"108\": 1, \"98\": 3, \"8\": 1, \"40\": 2, \"1\": 1, \"93\": 1}, \"61\": {\"61\": 6, \"117\": 4, \"18\": 1, \"113\": 2, \"39\": 1, \"65\": 2}, \"26\": {\"26\": 72, \"109\": 1, \"39\": 5, \"18\": 12, \"63\": 2, \"67\": 1, \"117\": 6, \"108\": 2, \"113\": 6, \"126\": 8, \"123\": 1, \"35\": 1, \"81\": 2, \"84\": 1}, \"127\": {\"127\": 66, \"101\": 3, \"85\": 1, \"34\": 1, \"111\": 6, \"27\": 7, \"86\": 1, \"4\": 1, \"30\": 1, \"15\": 1, \"124\": 1, \"8\": 3, \"0\": 1, \"98\": 8, \"26\": 1, \"7\": 1, \"10\": 3, \"103\": 2}, \"23\": {\"7\": 1, \"23\": 2, \"21\": 1, \"62\": 1, \"88\": 1, \"26\": 2, \"65\": 2, \"123\": 1, \"16\": 1, \"122\": 1, \"55\": 2, \"85\": 1}, \"1\": {\"1\": 48, \"42\": 2, \"107\": 5, \"87\": 5, \"70\": 4, \"3\": 10, \"105\": 5, \"114\": 8, \"71\": 6, \"11\": 2, \"5\": 2, \"7\": 1, \"18\": 1, \"40\": 1, \"26\": 1, \"17\": 1, \"83\": 1, \"127\": 1, \"0\": 1, \"88\": 2, \"125\": 1}, \"93\": {\"43\": 10, \"28\": 1, \"122\": 4, \"93\": 41, \"99\": 1, \"44\": 8, \"33\": 10, \"108\": 3, \"96\": 2, \"107\": 8, \"109\": 4, \"5\": 3, \"14\": 5, \"126\": 1, \"110\": 6, \"87\": 2, \"88\": 6, \"11\": 2, \"102\": 2, \"118\": 3, \"20\": 1, \"16\": 2, \"83\": 1, \"90\": 2, \"40\": 1, \"84\": 1, \"70\": 1, \"1\": 2, \"69\": 1}, \"106\": {\"127\": 3, \"106\": 58, \"75\": 2, \"12\": 8, \"10\": 2, \"9\": 2, \"35\": 1, \"18\": 3, \"6\": 1, \"37\": 1, \"97\": 2, \"34\": 1, \"111\": 8, \"126\": 1, \"117\": 1, \"15\": 7, \"113\": 1, \"77\": 1, \"61\": 1, \"47\": 1, \"27\": 2, \"81\": 1, \"30\": 2, \"67\": 1, \"103\": 1, \"62\": 1, \"24\": 2, \"125\": 1}, \"110\": {\"28\": 2, \"110\": 17, \"5\": 6, \"72\": 1, \"62\": 4, \"99\": 1, \"109\": 6, \"44\": 3, \"78\": 1, \"89\": 1, \"14\": 9, \"16\": 2, \"40\": 2, \"107\": 10, \"93\": 13, \"33\": 21, \"124\": 1, \"90\": 1, \"18\": 1, \"88\": 5, \"87\": 1, \"116\": 1, \"118\": 3, \"108\": 1, \"43\": 3, \"122\": 1, \"1\": 1}, \"76\": {\"74\": 1, \"76\": 11, \"20\": 1, \"118\": 2, \"120\": 1}, \"36\": {\"36\": 56, \"75\": 1, \"24\": 10, \"106\": 1, \"111\": 7, \"6\": 1, \"15\": 8, \"10\": 7, \"94\": 3, \"127\": 4, \"70\": 1, \"125\": 5, \"58\": 1, \"30\": 7, \"54\": 1, \"59\": 1, \"12\": 4, \"124\": 1, \"109\": 1}, \"21\": {\"21\": 27, \"26\": 1, \"126\": 1, \"23\": 1, \"78\": 4, \"123\": 1, \"62\": 1, \"63\": 1, \"81\": 1, \"122\": 2}, \"37\": {\"37\": 12, \"70\": 4}, \"11\": {\"115\": 2, \"14\": 7, \"11\": 31, \"107\": 7, \"19\": 1, \"40\": 8, \"110\": 5, \"3\": 4, \"1\": 1, \"71\": 2, \"43\": 7, \"84\": 1, \"5\": 11, \"33\": 11, \"124\": 2, \"114\": 5, \"87\": 4, \"72\": 1, \"22\": 1, \"46\": 2, \"60\": 1, \"88\": 2, \"118\": 1, \"49\": 1, \"44\": 1, \"93\": 1}, \"109\": {\"109\": 63, \"108\": 6, \"22\": 2, \"88\": 5, \"118\": 9, \"96\": 1, \"84\": 7, \"69\": 2, \"16\": 3, \"43\": 1, \"90\": 7, \"126\": 2, \"11\": 1, \"99\": 2, \"122\": 2, \"113\": 2, \"14\": 1}, \"62\": {\"21\": 1, \"62\": 21, \"108\": 2, \"32\": 1, \"81\": 1, \"84\": 6, \"110\": 1, \"118\": 7, \"88\": 3, \"109\": 1, \"90\": 3, \"78\": 1, \"20\": 1, \"14\": 3, \"96\": 1, \"113\": 2, \"31\": 1, \"117\": 1, \"122\": 1, \"26\": 1, \"93\": 1}, \"89\": {\"89\": 22, \"83\": 1, \"48\": 1, \"105\": 1, \"73\": 1, \"7\": 2, \"5\": 1, \"107\": 1, \"40\": 2}, \"126\": {\"126\": 65, \"65\": 1, \"117\": 2, \"18\": 15, \"39\": 13, \"113\": 9, \"121\": 2, \"21\": 2, \"81\": 3, \"26\": 4, \"84\": 2, \"38\": 1, \"2\": 1, \"109\": 1, \"16\": 2, \"33\": 1}, \"101\": {\"101\": 60, \"95\": 1, \"27\": 6, \"98\": 10, \"129\": 1, \"8\": 18, \"70\": 5, \"113\": 1, \"127\": 5, \"126\": 1, \"7\": 3, \"12\": 1, \"88\": 2, \"0\": 4, \"87\": 2, \"119\": 1, \"106\": 1, \"85\": 1, \"117\": 1, \"10\": 1, \"26\": 2, \"24\": 1}, \"65\": {\"65\": 12}, \"19\": {\"19\": 4, \"60\": 1, \"102\": 4, \"114\": 1, \"72\": 1, \"69\": 1, \"1\": 2, \"83\": 2, \"44\": 1, \"91\": 1, \"7\": 1, \"17\": 2, \"14\": 1, \"45\": 1, \"86\": 1, \"40\": 1, \"3\": 1, \"105\": 2}, \"27\": {\"95\": 3, \"27\": 17, \"72\": 1, \"127\": 8, \"129\": 1, \"68\": 1, \"113\": 1, \"0\": 3, \"12\": 7, \"124\": 1, \"15\": 6, \"4\": 2, \"111\": 7, \"101\": 5, \"1\": 1, \"106\": 4, \"98\": 3, \"24\": 1, \"30\": 1, \"87\": 1, \"88\": 3, \"10\": 5, \"9\": 1, \"128\": 1, \"41\": 1, \"83\": 1, \"70\": 4, \"29\": 1, \"103\": 1, \"82\": 1, \"105\": 2, \"19\": 1, \"8\": 1, \"14\": 1, \"93\": 1, \"126\": 1}, \"5\": {\"5\": 95, \"23\": 1, \"104\": 1, \"105\": 3, \"100\": 1, \"107\": 5, \"11\": 5, \"108\": 1, \"70\": 2, \"93\": 2, \"88\": 1, \"109\": 2, \"43\": 1, \"40\": 2, \"33\": 5, \"73\": 1, \"49\": 3, \"3\": 1, \"110\": 1, \"99\": 1, \"118\": 1, \"87\": 1}, \"73\": {\"5\": 2, \"19\": 2, \"104\": 3, \"73\": 10, \"27\": 1, \"50\": 1, \"100\": 1, \"47\": 1, \"33\": 1, \"14\": 1, \"107\": 1}, \"6\": {\"6\": 18, \"30\": 1, \"111\": 1, \"94\": 1, \"9\": 1, \"58\": 1, \"24\": 1}, \"29\": {\"29\": 29, \"8\": 1, \"52\": 1, \"101\": 1}, \"114\": {\"114\": 81, \"100\": 1, \"7\": 6, \"129\": 3, \"71\": 7, \"3\": 12, \"4\": 4, \"1\": 4, \"124\": 6, \"17\": 2, \"113\": 1, \"105\": 1}, \"49\": {\"114\": 2, \"49\": 5, \"11\": 3, \"119\": 1, \"32\": 1, \"127\": 1, \"85\": 1, \"0\": 3, \"5\": 1, \"41\": 1, \"12\": 1, \"53\": 2, \"100\": 1, \"60\": 1, \"86\": 1, \"98\": 2, \"122\": 1, \"40\": 1, \"71\": 1, \"4\": 1, \"24\": 1}, \"16\": {\"16\": 94, \"63\": 2, \"121\": 1, \"84\": 2, \"39\": 1, \"113\": 1, \"109\": 3, \"117\": 4, \"102\": 3, \"2\": 2, \"13\": 1, \"118\": 1, \"26\": 1, \"88\": 1, \"126\": 1}, \"68\": {\"68\": 12, \"77\": 1, \"127\": 1, \"111\": 1, \"10\": 1}, \"98\": {\"98\": 72, \"58\": 1, \"112\": 2, \"10\": 1, \"18\": 1, \"70\": 3, \"27\": 6, \"108\": 1, \"127\": 11, \"8\": 1, \"93\": 1, \"88\": 1, \"41\": 2, \"53\": 2, \"68\": 1, \"85\": 2, \"124\": 2, \"15\": 2, \"3\": 1, \"101\": 5, \"111\": 2}, \"64\": {\"31\": 2, \"64\": 14}, \"121\": {\"16\": 1, \"121\": 13, \"48\": 1, \"57\": 2, \"113\": 5, \"109\": 3, \"39\": 3, \"117\": 3, \"110\": 1}, \"124\": {\"124\": 77, \"1\": 2, \"4\": 3, \"86\": 1, \"71\": 4, \"3\": 7, \"114\": 4, \"98\": 2, \"7\": 3, \"101\": 2, \"70\": 3, \"0\": 1, \"30\": 1, \"110\": 2, \"88\": 1, \"127\": 1}, \"97\": {\"94\": 2, \"4\": 2, \"36\": 2, \"97\": 5, \"0\": 2, \"86\": 1, \"125\": 1, \"9\": 1, \"17\": 1, \"119\": 1, \"75\": 2}, \"40\": {\"40\": 69, \"107\": 17, \"100\": 1, \"104\": 1, \"43\": 7, \"19\": 2, \"11\": 6, \"105\": 6, \"129\": 1, \"114\": 1, \"3\": 1, \"8\": 1, \"5\": 2, \"110\": 1, \"33\": 10, \"73\": 1, \"89\": 1, \"72\": 1, \"82\": 1, \"88\": 2, \"87\": 1, \"1\": 1, \"14\": 2}, \"119\": {\"119\": 16}, \"100\": {\"83\": 3, \"100\": 9, \"72\": 1, \"89\": 1, \"71\": 1, \"129\": 1, \"34\": 1, \"49\": 2, \"128\": 1}, \"87\": {\"88\": 5, \"114\": 4, \"124\": 5, \"46\": 1, \"42\": 1, \"99\": 3, \"19\": 2, \"60\": 1, \"87\": 24, \"71\": 4, \"108\": 4, \"4\": 2, \"14\": 1, \"105\": 7, \"5\": 3, \"93\": 2, \"40\": 5, \"98\": 1, \"43\": 3, \"1\": 2, \"11\": 5, \"118\": 1, \"110\": 5, \"3\": 8, \"107\": 2, \"70\": 6, \"33\": 1, \"7\": 4, \"50\": 2, \"89\": 1, \"115\": 1}, \"88\": {\"114\": 4, \"61\": 1, \"88\": 22, \"12\": 1, \"19\": 3, \"5\": 1, \"4\": 7, \"2\": 1, \"105\": 3, \"109\": 13, \"100\": 1, \"82\": 2, \"62\": 2, \"86\": 2, \"122\": 3, \"87\": 6, \"26\": 3, \"7\": 5, \"39\": 3, \"70\": 3, \"101\": 4, \"0\": 2, \"90\": 1, \"1\": 2, \"3\": 2, \"110\": 3, \"14\": 2, \"129\": 1, \"21\": 2, \"91\": 1, \"128\": 1, \"126\": 2, \"34\": 1, \"11\": 1, \"43\": 1, \"81\": 1, \"108\": 4, \"78\": 1, \"118\": 1, \"84\": 1, \"113\": 4, \"10\": 1, \"27\": 1, \"111\": 1, \"40\": 1}, \"52\": {\"29\": 3, \"91\": 1, \"47\": 1, \"52\": 8, \"1\": 2, \"41\": 1, \"120\": 1, \"85\": 1, \"0\": 2}, \"80\": {\"80\": 13, \"13\": 1, \"74\": 1, \"36\": 1}, \"105\": {\"46\": 3, \"124\": 1, \"101\": 3, \"105\": 46, \"5\": 3, \"88\": 2, \"89\": 2, \"40\": 10, \"87\": 4, \"98\": 2, \"1\": 2, \"26\": 1, \"110\": 1, \"8\": 1, \"70\": 2, \"11\": 3, \"71\": 2, \"3\": 2, \"114\": 2, \"129\": 1, \"39\": 1, \"117\": 1, \"7\": 2, \"126\": 2, \"108\": 1}, \"32\": {\"23\": 1, \"32\": 11, \"108\": 2, \"44\": 2, \"107\": 1, \"14\": 2, \"43\": 1, \"72\": 1, \"96\": 1, \"118\": 2, \"115\": 1, \"90\": 1, \"99\": 1, \"102\": 1}, \"35\": {\"18\": 1, \"35\": 10, \"26\": 1}, \"99\": {\"99\": 29, \"98\": 1, \"108\": 1, \"43\": 1, \"88\": 1, \"62\": 1, \"66\": 1, \"122\": 1, \"32\": 3, \"82\": 1}, \"18\": {\"18\": 97, \"81\": 2, \"123\": 2, \"26\": 7, \"121\": 1, \"117\": 8, \"39\": 1, \"113\": 1, \"16\": 1}, \"24\": {\"85\": 4, \"128\": 1, \"70\": 3, \"127\": 5, \"24\": 32, \"4\": 3, \"101\": 4, \"107\": 1, \"36\": 4, \"27\": 8, \"88\": 1, \"94\": 5, \"10\": 8, \"7\": 2, \"125\": 12, \"0\": 4, \"8\": 3, \"111\": 2, \"114\": 1, \"98\": 1, \"15\": 1, \"25\": 1, \"29\": 2, \"9\": 1, \"44\": 1, \"30\": 1, \"3\": 1}, \"85\": {\"85\": 25, \"26\": 1, \"70\": 2}, \"39\": {\"39\": 44, \"26\": 9, \"126\": 9, \"2\": 1, \"118\": 1, \"16\": 3, \"81\": 2, \"113\": 4, \"117\": 8, \"93\": 1, \"88\": 2, \"18\": 4, \"110\": 1, \"61\": 1, \"96\": 1, \"65\": 2, \"123\": 1, \"21\": 3, \"121\": 1, \"109\": 2}, \"123\": {\"123\": 12, \"35\": 1, \"113\": 1, \"39\": 1, \"126\": 1}, \"91\": {\"91\": 9, \"47\": 1, \"86\": 1, \"105\": 1, \"95\": 2, \"85\": 1, \"98\": 2, \"112\": 2, \"8\": 2, \"53\": 1, \"77\": 1, \"37\": 1}, \"78\": {\"16\": 2, \"19\": 2, \"78\": 2, \"72\": 3, \"26\": 3, \"53\": 1, \"21\": 3, \"100\": 1, \"109\": 3, \"98\": 1, \"105\": 1, \"43\": 1, \"122\": 1, \"96\": 1, \"39\": 1, \"123\": 1, \"95\": 1, \"15\": 1, \"113\": 1, \"82\": 1, \"40\": 1, \"88\": 2, \"14\": 1, \"107\": 1}, \"38\": {\"38\": 16}, \"15\": {\"111\": 8, \"15\": 48, \"24\": 5, \"12\": 8, \"9\": 3, \"94\": 6, \"27\": 2, \"30\": 2, \"10\": 5, \"126\": 1, \"98\": 2, \"18\": 1, \"127\": 5, \"36\": 2, \"125\": 6, \"8\": 2, \"58\": 2, \"51\": 2, \"7\": 2, \"106\": 9, \"29\": 1, \"6\": 2, \"26\": 1, \"39\": 1, \"70\": 2}, \"48\": {\"48\": 13, \"116\": 1, \"31\": 2}, \"45\": {\"38\": 2, \"45\": 11, \"92\": 3}, \"120\": {\"120\": 17, \"89\": 1, \"99\": 1, \"76\": 1}, \"44\": {\"102\": 4, \"44\": 41, \"80\": 1, \"107\": 3, \"93\": 5, \"22\": 1, \"110\": 3, \"5\": 1, \"40\": 2, \"117\": 1, \"122\": 2}, \"86\": {\"86\": 21, \"65\": 1, \"128\": 2, \"19\": 1, \"21\": 1, \"101\": 2}, \"20\": {\"20\": 9, \"62\": 1, \"96\": 1, \"14\": 3, \"83\": 1, \"102\": 1}, \"33\": {\"33\": 97, \"40\": 15, \"107\": 8, \"3\": 2, \"5\": 5, \"113\": 1, \"87\": 2, \"69\": 1, \"93\": 3, \"43\": 2, \"11\": 6, \"110\": 4, \"21\": 1, \"50\": 1, \"14\": 1, \"126\": 1}, \"129\": {\"34\": 2, \"107\": 1, \"73\": 2, \"85\": 2, \"22\": 2, \"71\": 1, \"5\": 2, \"98\": 1, \"0\": 1, \"110\": 1, \"70\": 1, \"14\": 1, \"86\": 1, \"19\": 1, \"108\": 1, \"129\": 3, \"80\": 2, \"43\": 1, \"33\": 1, \"20\": 1}, \"34\": {\"9\": 3, \"34\": 5, \"128\": 1, \"94\": 1, \"19\": 1, \"12\": 1, \"105\": 3, \"49\": 1, \"10\": 3, \"89\": 2, \"15\": 1, \"125\": 1, \"87\": 1, \"70\": 1, \"97\": 2, \"0\": 1, \"11\": 2, \"1\": 1, \"129\": 1}, \"81\": {\"81\": 29, \"117\": 2, \"113\": 1, \"39\": 1, \"126\": 1, \"18\": 1, \"21\": 1}, \"57\": {\"109\": 2, \"57\": 10, \"24\": 1, \"90\": 2, \"93\": 1}, \"0\": {\"44\": 1, \"4\": 5, \"0\": 39, \"10\": 1, \"83\": 1, \"70\": 9, \"41\": 2, \"7\": 7, \"8\": 7, \"87\": 5, \"27\": 2, \"127\": 2, \"101\": 7, \"98\": 6, \"26\": 1, \"111\": 1, \"16\": 1, \"59\": 1, \"37\": 2, \"86\": 1, \"43\": 1, \"72\": 1, \"63\": 1, \"42\": 2, \"103\": 2, \"114\": 2, \"49\": 2, \"24\": 1, \"1\": 1, \"105\": 2}, \"2\": {\"2\": 17, \"113\": 1, \"88\": 1, \"78\": 1, \"117\": 5, \"16\": 2, \"109\": 1}, \"42\": {\"103\": 2, \"119\": 1, \"34\": 1, \"127\": 1, \"106\": 1, \"40\": 2, \"107\": 1, \"42\": 5, \"87\": 1, \"82\": 2, \"5\": 2, \"4\": 2, \"27\": 1, \"128\": 1, \"29\": 1, \"1\": 1, \"71\": 2, \"98\": 1}, \"84\": {\"69\": 15, \"84\": 75, \"110\": 1, \"2\": 1, \"117\": 1, \"102\": 12, \"108\": 1, \"121\": 2, \"16\": 2, \"90\": 4, \"44\": 2, \"107\": 1, \"18\": 1, \"33\": 2, \"93\": 1, \"88\": 1, \"113\": 1, \"74\": 2, \"45\": 2, \"109\": 2, \"126\": 1, \"26\": 1, \"118\": 1}, \"3\": {\"3\": 67, \"19\": 1, \"11\": 3, \"83\": 1, \"114\": 12, \"21\": 1, \"71\": 6, \"1\": 3, \"43\": 1, \"87\": 4, \"126\": 1, \"70\": 4, \"5\": 2, \"124\": 4, \"7\": 2, \"49\": 2, \"23\": 1, \"39\": 1, \"105\": 1, \"18\": 1, \"122\": 1, \"98\": 1, \"33\": 1, \"40\": 1, \"4\": 1, \"24\": 1, \"93\": 1, \"90\": 1}, \"41\": {\"42\": 3, \"52\": 3, \"70\": 1, \"41\": 6, \"12\": 1, \"0\": 1, \"21\": 1}, \"53\": {\"53\": 12, \"27\": 1, \"113\": 1, \"52\": 1, \"55\": 1}, \"66\": {\"69\": 2, \"88\": 1, \"66\": 9, \"62\": 1, \"14\": 1, \"45\": 2}, \"22\": {\"120\": 1, \"33\": 1, \"32\": 1, \"22\": 6, \"14\": 2, \"88\": 3, \"43\": 1, \"60\": 1}}, \"C_2\": {\"32\": {\"32\": 28}, \"17\": {\"17\": 83, \"27\": 5, \"8\": 11, \"19\": 1, \"25\": 2, \"53\": 2}, \"38\": {\"38\": 19, \"43\": 1}, \"2\": {\"2\": 31, \"21\": 1}, \"43\": {\"43\": 142, \"38\": 1, \"56\": 1}, \"56\": {\"56\": 133, \"24\": 2, \"10\": 9}, \"37\": {\"37\": 36}, \"49\": {\"49\": 24}, \"0\": {\"0\": 42, \"15\": 3, \"16\": 1, \"1\": 1, \"28\": 1}, \"29\": {\"29\": 120, \"1\": 1, \"52\": 1, \"46\": 4, \"21\": 1, \"34\": 1}, \"35\": {\"35\": 32}, \"18\": {\"18\": 43, \"41\": 1, \"48\": 3, \"30\": 1}, \"25\": {\"32\": 2, \"25\": 65, \"33\": 1, \"9\": 16, \"17\": 7, \"27\": 7, \"50\": 13, \"4\": 2, \"6\": 6, \"19\": 1, \"8\": 5, \"40\": 2, \"36\": 4, \"34\": 2, \"3\": 1, \"53\": 1, \"20\": 1}, \"23\": {\"23\": 123, \"52\": 1}, \"15\": {\"15\": 127, \"28\": 2, \"47\": 5, \"16\": 4, \"5\": 4, \"7\": 2, \"0\": 1, \"1\": 1}, \"21\": {\"21\": 108, \"46\": 4, \"48\": 2, \"44\": 1, \"50\": 1, \"19\": 1, \"29\": 1, \"6\": 1, \"30\": 1}, \"51\": {\"51\": 124, \"20\": 3, \"21\": 1}, \"20\": {\"20\": 134, \"51\": 2, \"44\": 1, \"45\": 1}, \"7\": {\"7\": 34, \"16\": 1, \"15\": 1}, \"50\": {\"50\": 79, \"36\": 24, \"8\": 5, \"3\": 3, \"27\": 4, \"25\": 3, \"21\": 1, \"30\": 1, \"54\": 8, \"46\": 1, \"47\": 1, \"6\": 3, \"2\": 1, \"18\": 1, \"48\": 1}, \"31\": {\"31\": 28}, \"30\": {\"30\": 129, \"48\": 8, \"21\": 1, \"18\": 1, \"25\": 1}, \"19\": {\"19\": 145, \"42\": 1, \"44\": 6, \"29\": 1, \"21\": 2, \"46\": 1}, \"9\": {\"9\": 139, \"44\": 1, \"50\": 1, \"25\": 3}, \"52\": {\"23\": 3, \"52\": 112, \"1\": 1, \"46\": 1, \"57\": 5, \"16\": 2}, \"45\": {\"45\": 87, \"4\": 19, \"20\": 12, \"12\": 3, \"44\": 2, \"21\": 1, \"51\": 2, \"25\": 1, \"19\": 1}, \"8\": {\"8\": 121, \"27\": 16, \"17\": 4, \"53\": 8, \"36\": 5}, \"55\": {\"55\": 160}, \"12\": {\"12\": 83, \"20\": 5, \"45\": 3, \"26\": 1}, \"40\": {\"40\": 126, \"21\": 3, \"19\": 2, \"9\": 4, \"51\": 1, \"4\": 2, \"29\": 1, \"50\": 1}, \"28\": {\"28\": 25, \"5\": 2, \"15\": 1}, \"36\": {\"36\": 115, \"50\": 1}, \"39\": {\"39\": 25, \"37\": 1, \"16\": 2}, \"46\": {\"21\": 7, \"46\": 55, \"34\": 1, \"5\": 3, \"52\": 9, \"15\": 4, \"44\": 7, \"30\": 3, \"37\": 1, \"6\": 2, \"57\": 5, \"48\": 2, \"3\": 3, \"11\": 4, \"2\": 2, \"50\": 1, \"47\": 2, \"23\": 2, \"1\": 1, \"7\": 1, \"31\": 1, \"55\": 3, \"29\": 2, \"13\": 1}, \"14\": {\"56\": 1, \"37\": 4, \"14\": 12, \"55\": 2, \"31\": 1, \"10\": 1, \"13\": 1, \"43\": 1, \"7\": 1}, \"57\": {\"57\": 140, \"1\": 1, \"52\": 1}, \"34\": {\"34\": 24, \"46\": 1, \"41\": 1, \"25\": 2}, \"1\": {\"1\": 83, \"15\": 7, \"28\": 2, \"42\": 2, \"57\": 8, \"0\": 2, \"7\": 2, \"47\": 4, \"29\": 1, \"39\": 1}, \"53\": {\"53\": 117, \"27\": 3, \"17\": 6, \"36\": 6, \"8\": 3, \"25\": 1}, \"48\": {\"48\": 98, \"18\": 4, \"30\": 15, \"41\": 1, \"6\": 4, \"23\": 2, \"25\": 2, \"49\": 1, \"52\": 1, \"54\": 1, \"3\": 1}, \"3\": {\"3\": 48, \"52\": 3, \"41\": 1, \"2\": 3, \"50\": 6, \"18\": 1, \"36\": 3, \"9\": 4, \"46\": 4, \"8\": 1, \"30\": 3, \"48\": 1, \"54\": 1, \"57\": 1, \"25\": 5, \"6\": 4, \"32\": 1, \"19\": 2}, \"16\": {\"16\": 145, \"39\": 1, \"7\": 3, \"47\": 1, \"15\": 1, \"43\": 1}, \"6\": {\"53\": 5, \"48\": 5, \"6\": 56, \"27\": 2, \"49\": 1, \"3\": 3, \"17\": 3, \"54\": 5, \"50\": 16, \"36\": 8, \"29\": 1, \"9\": 2, \"25\": 3, \"57\": 1, \"8\": 9, \"41\": 1, \"42\": 1, \"18\": 1, \"19\": 1}, \"10\": {\"10\": 97, \"22\": 2, \"56\": 6, \"24\": 7}, \"13\": {\"13\": 110, \"22\": 4, \"56\": 1, \"10\": 1}, \"26\": {\"26\": 22, \"27\": 1, \"17\": 1}, \"24\": {\"24\": 88, \"22\": 2, \"10\": 5, \"13\": 1}, \"44\": {\"44\": 86, \"46\": 2, \"19\": 11, \"29\": 1}, \"27\": {\"27\": 145, \"8\": 4, \"17\": 1}, \"22\": {\"22\": 122, \"24\": 1, \"56\": 3, \"13\": 2}, \"33\": {\"33\": 28}, \"47\": {\"47\": 95, \"15\": 13, \"1\": 3, \"5\": 7}, \"5\": {\"5\": 105, \"7\": 2, \"13\": 1, \"47\": 4, \"15\": 2, \"28\": 4, \"55\": 1, \"11\": 1}, \"4\": {\"4\": 132, \"9\": 4, \"45\": 1, \"51\": 1}, \"41\": {\"41\": 19, \"49\": 1}, \"11\": {\"11\": 146, \"31\": 2, \"43\": 2}, \"54\": {\"54\": 108}, \"42\": {\"42\": 32, \"1\": 3, \"47\": 1}}, \"C_3\": {\"5\": {\"5\": 95, \"1\": 8, \"55\": 1, \"34\": 3, \"47\": 2, \"35\": 3, \"15\": 3, \"0\": 1}, \"32\": {\"32\": 24, \"8\": 2, \"17\": 2}, \"33\": {\"33\": 27, \"25\": 1}, \"49\": {\"49\": 20}, \"39\": {\"39\": 16}, \"11\": {\"11\": 141, \"14\": 1}, \"8\": {\"8\": 96, \"32\": 3, \"27\": 3, \"17\": 9, \"4\": 1, \"36\": 1, \"53\": 3}, \"26\": {\"26\": 19, \"37\": 2, \"23\": 1, \"52\": 1, \"41\": 1}, \"51\": {\"51\": 122}, \"4\": {\"4\": 145, \"51\": 1}, \"52\": {\"52\": 102, \"37\": 2, \"41\": 1, \"23\": 2, \"48\": 3, \"46\": 4, \"3\": 3, \"6\": 1}, \"47\": {\"5\": 15, \"0\": 1, \"47\": 60, \"35\": 1, \"55\": 1, \"11\": 2, \"15\": 4, \"13\": 1, \"14\": 1, \"34\": 2, \"16\": 1, \"1\": 3}, \"17\": {\"32\": 1, \"17\": 69, \"53\": 15, \"27\": 10, \"8\": 9, \"38\": 1, \"56\": 1, \"30\": 1, \"3\": 1}, \"53\": {\"53\": 130, \"17\": 2, \"8\": 2, \"36\": 2}, \"2\": {\"2\": 32}, \"12\": {\"12\": 81, \"51\": 4, \"38\": 1, \"53\": 1, \"45\": 1, \"4\": 3, \"20\": 1}, \"37\": {\"37\": 28}, \"9\": {\"9\": 142, \"48\": 1, \"3\": 2, \"30\": 1, \"46\": 1, \"25\": 1}, \"13\": {\"13\": 125, \"56\": 2, \"24\": 1}, \"54\": {\"54\": 97, \"36\": 2, \"20\": 1}, \"31\": {\"31\": 28}, \"34\": {\"34\": 30, \"1\": 1, \"42\": 1}, \"24\": {\"24\": 103, \"10\": 1}, \"7\": {\"7\": 31, \"22\": 1, \"43\": 1, \"11\": 2, \"14\": 1}, \"50\": {\"54\": 6, \"50\": 51, \"25\": 8, \"21\": 2, \"36\": 10, \"9\": 2, \"6\": 2, \"27\": 9, \"3\": 7, \"1\": 1, \"47\": 1, \"11\": 2, \"30\": 8, \"8\": 2, \"52\": 1, \"18\": 1, \"29\": 1, \"17\": 1, \"5\": 1, \"48\": 1, \"40\": 1}, \"46\": {\"37\": 3, \"46\": 59, \"6\": 7, \"34\": 1, \"52\": 6, \"18\": 2, \"57\": 4, \"48\": 5, \"55\": 2, \"47\": 3, \"29\": 3, \"22\": 1, \"1\": 3, \"3\": 10, \"15\": 2, \"5\": 2, \"9\": 2, \"30\": 2, \"50\": 1, \"26\": 1, \"41\": 2, \"14\": 1, \"20\": 1, \"21\": 1, \"25\": 1, \"11\": 2, \"19\": 1}, \"44\": {\"21\": 3, \"44\": 78, \"19\": 5, \"40\": 1, \"29\": 1}, \"40\": {\"40\": 97, \"9\": 2, \"21\": 4, \"19\": 13}, \"21\": {\"21\": 115, \"19\": 2, \"36\": 1, \"17\": 1, \"29\": 2, \"50\": 2, \"46\": 1, \"20\": 2, \"3\": 1, \"9\": 1}, \"45\": {\"45\": 46, \"4\": 3, \"12\": 5, \"40\": 1, \"21\": 2, \"51\": 3}, \"16\": {\"16\": 121, \"34\": 1, \"5\": 3, \"55\": 1}, \"14\": {\"14\": 18, \"24\": 5, \"10\": 2, \"31\": 4, \"55\": 3, \"7\": 1, \"56\": 2, \"22\": 2, \"49\": 1, \"13\": 1, \"11\": 1}, \"36\": {\"36\": 99, \"50\": 1}, \"56\": {\"56\": 99, \"10\": 7, \"24\": 3, \"14\": 1, \"22\": 2, \"13\": 2}, \"10\": {\"10\": 62, \"24\": 2}, \"18\": {\"18\": 83, \"48\": 1}, \"48\": {\"48\": 71, \"41\": 3, \"52\": 11, \"23\": 6, \"18\": 4, \"25\": 2, \"29\": 1, \"46\": 2, \"3\": 6, \"30\": 5, \"50\": 3, \"6\": 1, \"37\": 1}, \"38\": {\"38\": 25, \"53\": 2, \"44\": 1}, \"27\": {\"27\": 128, \"8\": 2}, \"42\": {\"28\": 1, \"42\": 23, \"34\": 1, \"5\": 2, \"47\": 1}, \"15\": {\"15\": 122, \"11\": 2, \"28\": 2, \"22\": 2, \"16\": 3, \"24\": 1, \"55\": 1, \"5\": 1}, \"1\": {\"1\": 80, \"34\": 1, \"5\": 7, \"57\": 4, \"15\": 3, \"16\": 1, \"0\": 2, \"47\": 2}, \"28\": {\"28\": 22, \"15\": 1, \"5\": 3, \"35\": 2}, \"43\": {\"43\": 136}, \"0\": {\"0\": 119, \"15\": 4, \"5\": 1}, \"57\": {\"57\": 124}, \"3\": {\"3\": 73, \"6\": 6, \"9\": 10, \"25\": 8, \"30\": 10, \"18\": 3, \"21\": 2, \"57\": 1, \"50\": 9, \"29\": 3, \"52\": 4, \"46\": 12, \"36\": 1, \"20\": 2, \"33\": 1, \"17\": 1, \"48\": 1, \"54\": 1}, \"29\": {\"29\": 119, \"40\": 1, \"6\": 1, \"46\": 1, \"9\": 2}, \"41\": {\"41\": 21, \"48\": 1, \"39\": 1, \"52\": 1, \"37\": 1, \"46\": 1, \"11\": 1, \"16\": 1}, \"25\": {\"4\": 3, \"27\": 15, \"25\": 61, \"33\": 3, \"30\": 17, \"29\": 3, \"17\": 4, \"36\": 2, \"50\": 8, \"40\": 4, \"6\": 4, \"9\": 14, \"54\": 1, \"53\": 3, \"21\": 2, \"20\": 1, \"8\": 1}, \"6\": {\"35\": 1, \"20\": 2, \"36\": 5, \"48\": 4, \"11\": 1, \"26\": 1, \"9\": 5, \"30\": 13, \"25\": 1, \"33\": 1, \"3\": 2, \"50\": 8, \"6\": 14, \"17\": 3, \"5\": 4, \"21\": 8, \"18\": 4, \"53\": 1, \"57\": 1, \"54\": 1, \"47\": 5, \"29\": 2, \"46\": 1}, \"35\": {\"35\": 28}, \"20\": {\"20\": 122, \"21\": 1, \"53\": 1, \"30\": 1, \"3\": 1}, \"23\": {\"23\": 134}, \"22\": {\"22\": 125, \"13\": 9, \"24\": 3, \"31\": 1, \"43\": 1, \"10\": 1}, \"19\": {\"19\": 103, \"44\": 1, \"40\": 10, \"46\": 1, \"3\": 1}, \"55\": {\"55\": 122, \"31\": 1, \"22\": 1}, \"30\": {\"33\": 1, \"30\": 107, \"6\": 1, \"53\": 2, \"18\": 4, \"50\": 3, \"25\": 2}}, \"C_1\": {\"24\": {\"39\": 1, \"24\": 81, \"10\": 12, \"27\": 3, \"22\": 8, \"52\": 2, \"11\": 1}, \"25\": {\"25\": 128, \"30\": 2, \"1\": 1, \"19\": 3, \"45\": 2, \"9\": 1, \"13\": 1, \"18\": 1, \"51\": 1}, \"45\": {\"25\": 3, \"45\": 136, \"42\": 4, \"1\": 1}, \"42\": {\"42\": 33, \"45\": 5, \"19\": 1, \"20\": 1}, \"2\": {\"2\": 34, \"48\": 2}, \"9\": {\"9\": 144, \"20\": 1, \"8\": 3, \"53\": 1, \"3\": 1}, \"21\": {\"21\": 115, \"11\": 1, \"49\": 1, \"0\": 2, \"15\": 5}, \"26\": {\"26\": 23, \"37\": 1}, \"49\": {\"49\": 30, \"15\": 1, \"0\": 1}, \"39\": {\"39\": 27, \"11\": 1}, \"46\": {\"46\": 100, \"2\": 1, \"41\": 3, \"50\": 10, \"4\": 12, \"6\": 1, \"40\": 1, \"48\": 6, \"51\": 2}, \"17\": {\"2\": 2, \"17\": 57, \"9\": 1, \"53\": 2, \"8\": 2}, \"19\": {\"19\": 139, \"57\": 4, \"42\": 1, \"1\": 5, \"56\": 7}, \"23\": {\"23\": 132}, \"1\": {\"1\": 97, \"20\": 2, \"57\": 1}, \"29\": {\"29\": 129, \"20\": 2, \"56\": 2, \"44\": 2, \"3\": 3, \"55\": 1, \"57\": 1}, \"56\": {\"56\": 113, \"57\": 29, \"19\": 5, \"20\": 1, \"29\": 2}, \"37\": {\"37\": 32}, \"33\": {\"33\": 30, \"34\": 2}, \"55\": {\"55\": 105, \"32\": 1, \"36\": 6, \"44\": 13, \"3\": 6, \"29\": 2, \"0\": 6, \"56\": 2, \"57\": 1}, \"30\": {\"30\": 120}, \"0\": {\"0\": 150, \"15\": 2}, \"36\": {\"36\": 62, \"44\": 1, \"54\": 1}, \"32\": {\"32\": 29, \"44\": 1, \"47\": 1, \"55\": 1}, \"31\": {\"31\": 26, \"10\": 1, \"52\": 1}, \"15\": {\"15\": 122, \"21\": 10, \"0\": 4, \"11\": 1, \"22\": 1}, \"12\": {\"12\": 105, \"20\": 10, \"19\": 1}, \"38\": {\"0\": 2, \"38\": 22}, \"40\": {\"40\": 135, \"51\": 6, \"19\": 1, \"46\": 1, \"20\": 3}, \"14\": {\"14\": 19, \"26\": 1, \"30\": 2, \"53\": 1, \"8\": 1}, \"13\": {\"13\": 149, \"51\": 1}, \"48\": {\"48\": 143, \"6\": 5}, \"34\": {\"34\": 24}, \"44\": {\"44\": 117, \"35\": 7, \"55\": 3, \"0\": 2, \"3\": 1}, \"5\": {\"5\": 127, \"2\": 3, \"6\": 3, \"53\": 8, \"17\": 3, \"45\": 2, \"48\": 2, \"42\": 1, \"25\": 1, \"13\": 1, \"9\": 1}, \"11\": {\"11\": 123, \"24\": 2, \"22\": 11, \"27\": 1, \"10\": 2, \"28\": 1}, \"7\": {\"7\": 28}, \"18\": {\"18\": 69, \"9\": 1, \"30\": 2}, \"52\": {\"52\": 105, \"24\": 9, \"31\": 1, \"11\": 3, \"28\": 1, \"10\": 5, \"27\": 5, \"22\": 2, \"43\": 1}, \"51\": {\"51\": 141, \"13\": 1}, \"41\": {\"41\": 24}, \"16\": {\"54\": 13, \"16\": 127}, \"22\": {\"22\": 102, \"24\": 13, \"39\": 2, \"52\": 3, \"11\": 5, \"31\": 1, \"10\": 4, \"27\": 2, \"21\": 2}, \"3\": {\"3\": 130, \"0\": 1, \"20\": 1, \"55\": 4, \"44\": 2, \"56\": 1, \"12\": 1}, \"54\": {\"54\": 90, \"16\": 14}, \"27\": {\"27\": 139, \"43\": 2, \"24\": 3}, \"20\": {\"20\": 139, \"7\": 1}, \"8\": {\"8\": 132, \"9\": 6}, \"50\": {\"50\": 144}, \"57\": {\"57\": 115, \"56\": 20, \"54\": 3, \"19\": 2}, \"4\": {\"4\": 124, \"50\": 2, \"46\": 6}, \"47\": {\"47\": 145, \"11\": 1}, \"10\": {\"24\": 11, \"10\": 68, \"27\": 8, \"22\": 4, \"31\": 2, \"52\": 3}, \"35\": {\"35\": 36}, \"53\": {\"53\": 117, \"9\": 8, \"17\": 1}, \"6\": {\"6\": 78, \"2\": 4, \"48\": 8, \"17\": 1, \"56\": 1, \"46\": 1, \"50\": 2, \"5\": 1}, \"43\": {\"43\": 138, \"27\": 2}, \"28\": {\"28\": 23, \"21\": 2, \"52\": 1, \"10\": 1, \"47\": 1}}, \"C_5\": {\"35\": {\"35\": 35, \"15\": 1}, \"57\": {\"57\": 130, \"52\": 2}, \"20\": {\"20\": 126, \"25\": 3, \"55\": 1, \"50\": 2, \"53\": 5, \"51\": 5, \"6\": 2}, \"12\": {\"12\": 85, \"45\": 4, \"38\": 2, \"4\": 1, \"51\": 1, \"7\": 1, \"6\": 1, \"30\": 1}, \"32\": {\"32\": 26, \"27\": 4, \"55\": 1, \"51\": 1}, \"25\": {\"25\": 96, \"1\": 6, \"20\": 3, \"53\": 2, \"50\": 4, \"55\": 3, \"8\": 2, \"27\": 15, \"4\": 2, \"19\": 2, \"9\": 1, \"51\": 1, \"21\": 1}, \"44\": {\"44\": 142, \"40\": 3, \"47\": 1, \"15\": 1, \"11\": 1}, \"31\": {\"31\": 36}, \"11\": {\"11\": 117, \"43\": 17, \"15\": 13, \"13\": 1, \"3\": 2}, \"47\": {\"47\": 92, \"16\": 2, \"3\": 2, \"36\": 2, \"46\": 1, \"37\": 1}, \"23\": {\"23\": 120, \"42\": 3, \"41\": 1}, \"43\": {\"43\": 123, \"11\": 16, \"15\": 5}, \"37\": {\"37\": 24}, \"5\": {\"5\": 119, \"40\": 7, \"19\": 1, \"44\": 1}, \"45\": {\"20\": 6, \"12\": 7, \"45\": 64, \"38\": 4, \"26\": 3, \"17\": 1, \"19\": 1, \"30\": 8, \"4\": 12, \"6\": 3, \"9\": 5, \"51\": 3, \"55\": 2, \"7\": 1, \"21\": 1, \"27\": 1, \"5\": 1, \"40\": 1}, \"7\": {\"7\": 27, \"40\": 1, \"45\": 2, \"27\": 1, \"6\": 1}, \"13\": {\"13\": 126, \"10\": 10}, \"49\": {\"49\": 34, \"3\": 2}, \"46\": {\"46\": 129, \"36\": 2, \"14\": 3, \"3\": 3, \"16\": 5, \"52\": 5, \"43\": 1}, \"16\": {\"46\": 1, \"16\": 126, \"3\": 4, \"36\": 3, \"24\": 1, \"40\": 1}, \"54\": {\"54\": 109, \"57\": 2, \"23\": 1}, \"19\": {\"19\": 150, \"5\": 1, \"55\": 1}, \"55\": {\"19\": 18, \"55\": 113, \"45\": 4, \"41\": 1, \"4\": 2, \"51\": 3, \"50\": 2, \"21\": 5, \"5\": 1, \"25\": 1}, \"30\": {\"30\": 117, \"17\": 9, \"6\": 2}, \"34\": {\"34\": 34, \"56\": 1, \"22\": 1}, \"50\": {\"55\": 6, \"50\": 48, \"53\": 8, \"1\": 16, \"25\": 9, \"8\": 6, \"27\": 3, \"51\": 1, \"21\": 7, \"20\": 7, \"18\": 3, \"19\": 2, \"30\": 1, \"9\": 6, \"46\": 1, \"33\": 2, \"48\": 3, \"5\": 2, \"23\": 2, \"32\": 1}, \"3\": {\"47\": 3, \"46\": 7, \"3\": 56, \"0\": 5, \"11\": 7, \"36\": 6, \"43\": 3, \"15\": 3, \"24\": 1, \"35\": 1, \"16\": 4, \"29\": 2, \"56\": 1, \"52\": 1}, \"10\": {\"13\": 6, \"10\": 62}, \"27\": {\"27\": 131, \"17\": 1, \"9\": 3, \"53\": 2, \"8\": 3, \"6\": 1, \"48\": 1}, \"33\": {\"33\": 32}, \"56\": {\"56\": 122, \"35\": 5, \"43\": 5, \"15\": 7, \"24\": 2, \"11\": 1}, \"9\": {\"9\": 119, \"27\": 5, \"51\": 3, \"17\": 6, \"20\": 2, \"6\": 3, \"5\": 1, \"19\": 1, \"25\": 2, \"8\": 1, \"26\": 1, \"30\": 4, \"4\": 1, \"45\": 1}, \"14\": {\"31\": 5, \"14\": 16, \"43\": 3, \"11\": 1, \"46\": 2, \"47\": 5, \"52\": 2, \"40\": 3, \"15\": 1, \"0\": 2, \"49\": 1, \"34\": 1, \"5\": 1, \"36\": 1}, \"4\": {\"4\": 85, \"55\": 2, \"51\": 4, \"9\": 3, \"45\": 6}, \"42\": {\"42\": 39, \"55\": 1}, \"24\": {\"24\": 79, \"35\": 1}, \"39\": {\"39\": 19, \"54\": 1}, \"52\": {\"52\": 117, \"28\": 1, \"40\": 1, \"46\": 6, \"16\": 1, \"57\": 3, \"29\": 1}, \"2\": {\"2\": 27, \"11\": 1}, \"28\": {\"28\": 32}, \"53\": {\"53\": 99, \"48\": 8, \"8\": 7, \"1\": 5, \"27\": 2, \"50\": 1}, \"17\": {\"26\": 5, \"17\": 97, \"27\": 4, \"30\": 5, \"6\": 4, \"8\": 1}, \"29\": {\"29\": 125, \"43\": 3, \"15\": 2, \"44\": 1, \"0\": 1}, \"38\": {\"38\": 32}, \"15\": {\"15\": 134, \"43\": 5, \"56\": 3, \"3\": 1, \"11\": 1}, \"26\": {\"26\": 17, \"30\": 2, \"17\": 1, \"48\": 2, \"6\": 2}, \"21\": {\"21\": 144}, \"41\": {\"41\": 25, \"1\": 2, \"5\": 1}, \"48\": {\"48\": 100, \"1\": 18, \"8\": 14, \"53\": 4}, \"22\": {\"22\": 28}, \"8\": {\"8\": 115, \"48\": 11, \"53\": 6, \"27\": 5, \"1\": 11}, \"18\": {\"41\": 2, \"18\": 62}, \"0\": {\"0\": 122}, \"1\": {\"1\": 118, \"8\": 9, \"48\": 10, \"53\": 1}, \"40\": {\"40\": 94, \"44\": 12, \"29\": 2, \"5\": 11, \"47\": 1, \"56\": 1, \"36\": 3}, \"6\": {\"7\": 1, \"6\": 46, \"30\": 12, \"1\": 1, \"51\": 4, \"26\": 6, \"44\": 1, \"55\": 3, \"20\": 10, \"45\": 8, \"17\": 10, \"8\": 5, \"25\": 2, \"53\": 2, \"27\": 3, \"9\": 8, \"50\": 2, \"3\": 1, \"48\": 2, \"21\": 1}, \"51\": {\"51\": 133, \"20\": 8, \"6\": 1}, \"36\": {\"36\": 83, \"37\": 1, \"47\": 2, \"16\": 3, \"46\": 1, \"3\": 2}}}, \"per_domain_accuracy\": {\"O_50\": {\"accuracy\": 0.9125, \"source?\": true}, \"O_14\": {\"accuracy\": 0.91640625, \"source?\": true}, \"O_32\": {\"accuracy\": 0.8979166666666667, \"source?\": true}, \"O_44\": {\"accuracy\": 0.8036458333333333, \"source?\": true}, \"O_8\": {\"accuracy\": 0.8924479166666667, \"source?\": true}, \"O_20\": {\"accuracy\": 0.8869791666666667, \"source?\": true}, \"O_38\": {\"accuracy\": 0.9080729166666667, \"source?\": true}, \"O_26\": {\"accuracy\": 0.7533854166666667, \"source?\": true}, \"W_3\": {\"accuracy\": 0.5841975982532751, \"source?\": false}, \"W_2\": {\"accuracy\": 0.5596354166666667, \"source?\": false}, \"C_4\": {\"accuracy\": 0.8498106060606061, \"source?\": false}, \"W_1\": {\"accuracy\": 0.5766684322033898, \"source?\": false}, \"W_4\": {\"accuracy\": 0.5163323045267489, \"source?\": false}, \"C_2\": {\"accuracy\": 0.8663974719101124, \"source?\": false}, \"C_3\": {\"accuracy\": 0.8500744047619048, \"source?\": false}, \"C_1\": {\"accuracy\": 0.9074324324324324, \"source?\": false}, \"C_5\": {\"accuracy\": 0.8481145251396648, \"source?\": false}}}, \"history\": {\"epoch_indices\": [1, 2, 3, 4, 5, 6, 7], \"train_label_loss\": [0.7943122924748985, 0.48794128468282344, 0.38821306520923304, 0.3328397085845825, 0.29441804093748075, 0.2653842189913987, 0.2468635969710054], \"source_val_label_loss\": [0.7122578620910645, 0.4327794909477234, 0.3577137589454651, 0.3144519627094269, 0.3199482560157776, 0.30189117789268494, 0.29158350825309753], \"target_val_label_loss\": [9.789785385131836, 7.308572769165039, 8.94570541381836, 9.97882080078125, 10.338433265686035, 13.741833686828613, 16.604990005493164], \"source_val_acc_label\": [0.7649088541666667, 0.84697265625, 0.8714192708333334, 0.8876953125, 0.8846028645833334, 0.8920572916666667, 0.8946940104166666], \"target_val_acc_label\": [0.5186505759736698, 0.7005108337904553, 0.7057563082830499, 0.6806431705979156, 0.6836601755348327, 0.6446276741634668, 0.6486389193636862]}, \"dataset_metrics\": {\"source\": {\"train\": {\"n_unique_x\": 179200, \"n_unique_y\": 16, \"n_batch/episode\": 6720}, \"val\": {\"n_unique_x\": 38400, \"n_unique_y\": 16, \"n_batch/episode\": 960}, \"test\": {\"n_unique_x\": 38400, \"n_unique_y\": 16, \"n_batch/episode\": 960}}, \"target\": {\"train\": {\"n_unique_x\": 364205, \"n_unique_y\": 130, \"n_batch/episode\": 13140}, \"val\": {\"n_unique_x\": 77236, \"n_unique_y\": 130, \"n_batch/episode\": 1823}, \"test\": {\"n_unique_x\": 78478, \"n_unique_y\": 130, \"n_batch/episode\": 1857}}}}'"
      ]
     },
     "execution_count": 29,
     "metadata": {},
     "output_type": "execute_result"
    }
   ],
   "source": [
    "json.dumps(experiment)"
   ]
  }
 ],
 "metadata": {
  "celltoolbar": "Tags",
  "kernelspec": {
   "display_name": "Python 3 (ipykernel)",
   "language": "python",
   "name": "python3"
  },
  "language_info": {
   "codemirror_mode": {
    "name": "ipython",
    "version": 3
   },
   "file_extension": ".py",
   "mimetype": "text/x-python",
   "name": "python",
   "nbconvert_exporter": "python",
   "pygments_lexer": "ipython3",
   "version": "3.8.10"
  },
  "papermill": {
   "default_parameters": {},
   "duration": 1559.082949,
   "end_time": "2022-03-20T01:19:38.436633",
   "environment_variables": {},
   "exception": null,
   "input_path": "/mnt/wd500GB/CSC500/csc500-main/csc500-notebooks/templates/tl_ptn_template.ipynb",
   "output_path": "trial.ipynb",
   "parameters": {
    "parameters": {
     "BEST_MODEL_PATH": "./best_model.pth",
     "NUM_LOGS_PER_EPOCH": 10,
     "criteria_for_best": "target_accuracy",
     "dataset_seed": 500,
     "datasets": [
      {
       "domain_prefix": "C_",
       "domains": [
        1,
        2,
        3,
        4,
        5
       ],
       "episode_transforms": [],
       "labels": [
        "1-10.",
        "1-11.",
        "1-15.",
        "1-16.",
        "1-17.",
        "1-18.",
        "1-19.",
        "10-4.",
        "10-7.",
        "11-1.",
        "11-14.",
        "11-17.",
        "11-20.",
        "11-7.",
        "13-20.",
        "13-8.",
        "14-10.",
        "14-11.",
        "14-14.",
        "14-7.",
        "15-1.",
        "15-20.",
        "16-1.",
        "16-16.",
        "17-10.",
        "17-11.",
        "17-2.",
        "19-1.",
        "19-16.",
        "19-19.",
        "19-20.",
        "19-3.",
        "2-10.",
        "2-11.",
        "2-17.",
        "2-18.",
        "2-20.",
        "2-3.",
        "2-4.",
        "2-5.",
        "2-6.",
        "2-7.",
        "2-8.",
        "3-13.",
        "3-18.",
        "3-3.",
        "4-1.",
        "4-10.",
        "4-11.",
        "4-19.",
        "5-5.",
        "6-15.",
        "7-10.",
        "7-14.",
        "8-18.",
        "8-20.",
        "8-3.",
        "8-8."
       ],
       "num_examples_per_domain_per_label": -1,
       "pickle_path": "/mnt/wd500GB/CSC500/csc500-main/datasets/cores.stratified_ds.2022A.pkl",
       "source_or_target_dataset": "target",
       "x_transforms": [
        "unit_power"
       ]
      },
      {
       "domain_prefix": "W_",
       "domains": [
        1,
        2,
        3,
        4
       ],
       "episode_transforms": [],
       "labels": [
        "1-10",
        "1-12",
        "1-14",
        "1-16",
        "1-18",
        "1-19",
        "1-8",
        "10-11",
        "10-17",
        "10-4",
        "10-7",
        "11-1",
        "11-10",
        "11-19",
        "11-20",
        "11-4",
        "11-7",
        "12-19",
        "12-20",
        "12-7",
        "13-14",
        "13-18",
        "13-19",
        "13-20",
        "13-3",
        "13-7",
        "14-10",
        "14-11",
        "14-12",
        "14-13",
        "14-14",
        "14-19",
        "14-20",
        "14-7",
        "14-8",
        "14-9",
        "15-1",
        "15-19",
        "15-6",
        "16-1",
        "16-16",
        "16-19",
        "16-20",
        "17-10",
        "17-11",
        "18-1",
        "18-10",
        "18-11",
        "18-12",
        "18-13",
        "18-14",
        "18-15",
        "18-16",
        "18-17",
        "18-19",
        "18-2",
        "18-20",
        "18-4",
        "18-5",
        "18-7",
        "18-8",
        "18-9",
        "19-1",
        "19-10",
        "19-11",
        "19-12",
        "19-13",
        "19-14",
        "19-15",
        "19-19",
        "19-2",
        "19-20",
        "19-3",
        "19-4",
        "19-6",
        "19-7",
        "19-8",
        "19-9",
        "2-1",
        "2-13",
        "2-15",
        "2-3",
        "2-4",
        "2-5",
        "2-6",
        "2-7",
        "2-8",
        "20-1",
        "20-12",
        "20-14",
        "20-15",
        "20-16",
        "20-18",
        "20-19",
        "20-20",
        "20-3",
        "20-4",
        "20-5",
        "20-7",
        "20-8",
        "3-1",
        "3-13",
        "3-18",
        "3-2",
        "3-8",
        "4-1",
        "4-10",
        "4-11",
        "5-1",
        "5-5",
        "6-1",
        "6-15",
        "6-6",
        "7-10",
        "7-11",
        "7-12",
        "7-13",
        "7-14",
        "7-7",
        "7-8",
        "7-9",
        "8-1",
        "8-13",
        "8-14",
        "8-18",
        "8-20",
        "8-3",
        "8-8",
        "9-1",
        "9-7"
       ],
       "num_examples_per_domain_per_label": -1,
       "pickle_path": "/mnt/wd500GB/CSC500/csc500-main/datasets/wisig.node3-19.stratified_ds.2022A.pkl",
       "source_or_target_dataset": "target",
       "x_transforms": [
        "unit_power"
       ]
      },
      {
       "domain_prefix": "O_",
       "domains": [
        32,
        38,
        8,
        44,
        14,
        50,
        20,
        26
       ],
       "episode_transforms": [],
       "labels": [
        "3123D52",
        "3123D65",
        "3123D79",
        "3123D80",
        "3123D54",
        "3123D70",
        "3123D7B",
        "3123D89",
        "3123D58",
        "3123D76",
        "3123D7D",
        "3123EFE",
        "3123D64",
        "3123D78",
        "3123D7E",
        "3124E4A"
       ],
       "num_examples_per_domain_per_label": 2000,
       "pickle_path": "/mnt/wd500GB/CSC500/csc500-main/datasets/oracle.Run1_framed_2000Examples_stratified_ds.2022A.pkl",
       "source_or_target_dataset": "source",
       "x_transforms": [
        "unit_power"
       ]
      }
     ],
     "device": "cuda",
     "experiment_name": "tl_2v2:oracle.run1.framed -> cores+wisig",
     "lr": 0.0001,
     "n_epoch": 50,
     "n_query": 2,
     "n_shot": 3,
     "n_way": 16,
     "patience": 3,
     "seed": 500,
     "test_k_factor": 2,
     "torch_default_dtype": "torch.float32",
     "train_k_factor": 3,
     "val_k_factor": 2,
     "x_net": [
      {
       "class": "nnReshape",
       "kargs": {
        "shape": [
         -1,
         1,
         2,
         256
        ]
       }
      },
      {
       "class": "Conv2d",
       "kargs": {
        "bias": false,
        "in_channels": 1,
        "kernel_size": [
         1,
         7
        ],
        "out_channels": 256,
        "padding": [
         0,
         3
        ]
       }
      },
      {
       "class": "ReLU",
       "kargs": {
        "inplace": true
       }
      },
      {
       "class": "BatchNorm2d",
       "kargs": {
        "num_features": 256
       }
      },
      {
       "class": "Conv2d",
       "kargs": {
        "bias": true,
        "in_channels": 256,
        "kernel_size": [
         2,
         7
        ],
        "out_channels": 80,
        "padding": [
         0,
         3
        ]
       }
      },
      {
       "class": "ReLU",
       "kargs": {
        "inplace": true
       }
      },
      {
       "class": "BatchNorm2d",
       "kargs": {
        "num_features": 80
       }
      },
      {
       "class": "Flatten",
       "kargs": {}
      },
      {
       "class": "Linear",
       "kargs": {
        "in_features": 20480,
        "out_features": 256
       }
      },
      {
       "class": "ReLU",
       "kargs": {
        "inplace": true
       }
      },
      {
       "class": "BatchNorm1d",
       "kargs": {
        "num_features": 256
       }
      },
      {
       "class": "Linear",
       "kargs": {
        "in_features": 256,
        "out_features": 256
       }
      }
     ]
    }
   },
   "start_time": "2022-03-20T00:53:39.353684",
   "version": "2.3.4"
  }
 },
 "nbformat": 4,
 "nbformat_minor": 5
}