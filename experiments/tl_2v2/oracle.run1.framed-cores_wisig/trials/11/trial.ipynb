{
 "cells": [
  {
   "cell_type": "markdown",
   "id": "9fea5f46",
   "metadata": {
    "papermill": {
     "duration": 0.016324,
     "end_time": "2022-03-20T00:34:42.125173",
     "exception": false,
     "start_time": "2022-03-20T00:34:42.108849",
     "status": "completed"
    },
    "tags": []
   },
   "source": [
    "# Transfer Learning Template"
   ]
  },
  {
   "cell_type": "code",
   "execution_count": 1,
   "id": "0902182a",
   "metadata": {
    "execution": {
     "iopub.execute_input": "2022-03-20T00:34:42.161646Z",
     "iopub.status.busy": "2022-03-20T00:34:42.161179Z",
     "iopub.status.idle": "2022-03-20T00:34:43.131797Z",
     "shell.execute_reply": "2022-03-20T00:34:43.132036Z"
    },
    "papermill": {
     "duration": 0.994335,
     "end_time": "2022-03-20T00:34:43.132158",
     "exception": false,
     "start_time": "2022-03-20T00:34:42.137823",
     "status": "completed"
    },
    "tags": []
   },
   "outputs": [],
   "source": [
    "%load_ext autoreload\n",
    "%autoreload 2\n",
    "%matplotlib inline\n",
    "\n",
    "    \n",
    "import os, json, sys, time, random\n",
    "import numpy as np\n",
    "import torch\n",
    "from torch.optim import Adam\n",
    "from  easydict import EasyDict\n",
    "import matplotlib.pyplot as plt\n",
    "\n",
    "from steves_models.steves_ptn import Steves_Prototypical_Network\n",
    "\n",
    "from steves_utils.lazy_iterable_wrapper import Lazy_Iterable_Wrapper\n",
    "from steves_utils.iterable_aggregator import Iterable_Aggregator\n",
    "from steves_utils.ptn_train_eval_test_jig import  PTN_Train_Eval_Test_Jig\n",
    "from steves_utils.torch_sequential_builder import build_sequential\n",
    "from steves_utils.torch_utils import get_dataset_metrics, ptn_confusion_by_domain_over_dataloader\n",
    "from steves_utils.utils_v2 import (per_domain_accuracy_from_confusion, get_datasets_base_path)\n",
    "from steves_utils.PTN.utils import independent_accuracy_assesment\n",
    "\n",
    "from torch.utils.data import DataLoader\n",
    "\n",
    "from steves_utils.stratified_dataset.episodic_accessor import Episodic_Accessor_Factory\n",
    "\n",
    "from steves_utils.ptn_do_report import (\n",
    "    get_loss_curve,\n",
    "    get_results_table,\n",
    "    get_parameters_table,\n",
    "    get_domain_accuracies,\n",
    ")\n",
    "\n",
    "from steves_utils.transforms import get_chained_transform"
   ]
  },
  {
   "cell_type": "markdown",
   "id": "41c840b4",
   "metadata": {
    "papermill": {
     "duration": 0.013209,
     "end_time": "2022-03-20T00:34:43.162004",
     "exception": false,
     "start_time": "2022-03-20T00:34:43.148795",
     "status": "completed"
    },
    "tags": []
   },
   "source": [
    "# Allowed Parameters\n",
    "These are allowed parameters, not defaults\n",
    "Each of these values need to be present in the injected parameters (the notebook will raise an exception if they are not present)\n",
    "\n",
    "Papermill uses the cell tag \"parameters\" to inject the real parameters below this cell.\n",
    "Enable tags to see what I mean"
   ]
  },
  {
   "cell_type": "code",
   "execution_count": 2,
   "id": "fd44eb83",
   "metadata": {
    "execution": {
     "iopub.execute_input": "2022-03-20T00:34:43.191220Z",
     "iopub.status.busy": "2022-03-20T00:34:43.190956Z",
     "iopub.status.idle": "2022-03-20T00:34:43.205612Z",
     "shell.execute_reply": "2022-03-20T00:34:43.205982Z"
    },
    "papermill": {
     "duration": 0.030823,
     "end_time": "2022-03-20T00:34:43.206093",
     "exception": false,
     "start_time": "2022-03-20T00:34:43.175270",
     "status": "completed"
    },
    "tags": []
   },
   "outputs": [],
   "source": [
    "required_parameters = {\n",
    "    \"experiment_name\",\n",
    "    \"lr\",\n",
    "    \"device\",\n",
    "    \"seed\",\n",
    "    \"dataset_seed\",\n",
    "    \"n_shot\",\n",
    "    \"n_query\",\n",
    "    \"n_way\",\n",
    "    \"train_k_factor\",\n",
    "    \"val_k_factor\",\n",
    "    \"test_k_factor\",\n",
    "    \"n_epoch\",\n",
    "    \"patience\",\n",
    "    \"criteria_for_best\",\n",
    "    \"x_net\",\n",
    "    \"datasets\",\n",
    "    \"torch_default_dtype\",\n",
    "    \"NUM_LOGS_PER_EPOCH\",\n",
    "    \"BEST_MODEL_PATH\",\n",
    "    \"x_shape\",\n",
    "}"
   ]
  },
  {
   "cell_type": "code",
   "execution_count": 3,
   "id": "fa3f0049",
   "metadata": {
    "execution": {
     "iopub.execute_input": "2022-03-20T00:34:43.244384Z",
     "iopub.status.busy": "2022-03-20T00:34:43.243992Z",
     "iopub.status.idle": "2022-03-20T00:34:43.256624Z",
     "shell.execute_reply": "2022-03-20T00:34:43.256983Z"
    },
    "papermill": {
     "duration": 0.035595,
     "end_time": "2022-03-20T00:34:43.257087",
     "exception": false,
     "start_time": "2022-03-20T00:34:43.221492",
     "status": "completed"
    },
    "tags": [
     "parameters"
    ]
   },
   "outputs": [],
   "source": [
    "from steves_utils.CORES.utils import (\n",
    "    ALL_NODES,\n",
    "    ALL_NODES_MINIMUM_1000_EXAMPLES,\n",
    "    ALL_DAYS\n",
    ")\n",
    "\n",
    "from steves_utils.ORACLE.utils_v2 import (\n",
    "    ALL_DISTANCES_FEET_NARROWED,\n",
    "    ALL_RUNS,\n",
    "    ALL_SERIAL_NUMBERS,\n",
    ")\n",
    "\n",
    "standalone_parameters = {}\n",
    "standalone_parameters[\"experiment_name\"] = \"STANDALONE PTN\"\n",
    "standalone_parameters[\"lr\"] = 0.001\n",
    "standalone_parameters[\"device\"] = \"cuda\"\n",
    "\n",
    "standalone_parameters[\"seed\"] = 1337\n",
    "standalone_parameters[\"dataset_seed\"] = 1337\n",
    "\n",
    "standalone_parameters[\"n_way\"] = 8\n",
    "standalone_parameters[\"n_shot\"] = 3\n",
    "standalone_parameters[\"n_query\"]  = 2\n",
    "standalone_parameters[\"train_k_factor\"] = 1\n",
    "standalone_parameters[\"val_k_factor\"] = 2\n",
    "standalone_parameters[\"test_k_factor\"] = 2\n",
    "\n",
    "\n",
    "standalone_parameters[\"n_epoch\"] = 50\n",
    "\n",
    "standalone_parameters[\"patience\"] = 10\n",
    "standalone_parameters[\"criteria_for_best\"] = \"source_loss\"\n",
    "\n",
    "standalone_parameters[\"datasets\"] = [\n",
    "    {\n",
    "        \"labels\": ALL_SERIAL_NUMBERS,\n",
    "        \"domains\": ALL_DISTANCES_FEET_NARROWED,\n",
    "        \"num_examples_per_domain_per_label\": 100,\n",
    "        \"pickle_path\": os.path.join(get_datasets_base_path(), \"oracle.Run1_framed_2000Examples_stratified_ds.2022A.pkl\"),\n",
    "        \"source_or_target_dataset\": \"source\",\n",
    "        \"x_transforms\": [\"unit_mag\", \"minus_two\"],\n",
    "        \"episode_transforms\": [],\n",
    "        \"domain_prefix\": \"ORACLE_\"\n",
    "    },\n",
    "    {\n",
    "        \"labels\": ALL_NODES,\n",
    "        \"domains\": ALL_DAYS,\n",
    "        \"num_examples_per_domain_per_label\": 100,\n",
    "        \"pickle_path\": os.path.join(get_datasets_base_path(), \"cores.stratified_ds.2022A.pkl\"),\n",
    "        \"source_or_target_dataset\": \"target\",\n",
    "        \"x_transforms\": [\"unit_power\", \"times_zero\"],\n",
    "        \"episode_transforms\": [],\n",
    "        \"domain_prefix\": \"CORES_\"\n",
    "    }   \n",
    "]\n",
    "\n",
    "standalone_parameters[\"torch_default_dtype\"] = \"torch.float32\" \n",
    "\n",
    "\n",
    "\n",
    "standalone_parameters[\"x_net\"] =     [\n",
    "    {\"class\": \"nnReshape\", \"kargs\": {\"shape\":[-1, 1, 2, 256]}},\n",
    "    {\"class\": \"Conv2d\", \"kargs\": { \"in_channels\":1, \"out_channels\":256, \"kernel_size\":(1,7), \"bias\":False, \"padding\":(0,3), },},\n",
    "    {\"class\": \"ReLU\", \"kargs\": {\"inplace\": True}},\n",
    "    {\"class\": \"BatchNorm2d\", \"kargs\": {\"num_features\":256}},\n",
    "\n",
    "    {\"class\": \"Conv2d\", \"kargs\": { \"in_channels\":256, \"out_channels\":80, \"kernel_size\":(2,7), \"bias\":True, \"padding\":(0,3), },},\n",
    "    {\"class\": \"ReLU\", \"kargs\": {\"inplace\": True}},\n",
    "    {\"class\": \"BatchNorm2d\", \"kargs\": {\"num_features\":80}},\n",
    "    {\"class\": \"Flatten\", \"kargs\": {}},\n",
    "\n",
    "    {\"class\": \"Linear\", \"kargs\": {\"in_features\": 80*256, \"out_features\": 256}}, # 80 units per IQ pair\n",
    "    {\"class\": \"ReLU\", \"kargs\": {\"inplace\": True}},\n",
    "    {\"class\": \"BatchNorm1d\", \"kargs\": {\"num_features\":256}},\n",
    "\n",
    "    {\"class\": \"Linear\", \"kargs\": {\"in_features\": 256, \"out_features\": 256}},\n",
    "]\n",
    "\n",
    "# Parameters relevant to results\n",
    "# These parameters will basically never need to change\n",
    "standalone_parameters[\"NUM_LOGS_PER_EPOCH\"] = 10\n",
    "standalone_parameters[\"BEST_MODEL_PATH\"] = \"./best_model.pth\"\n",
    "\n",
    "\n",
    "\n",
    "\n"
   ]
  },
  {
   "cell_type": "code",
   "execution_count": 4,
   "id": "115bcc33",
   "metadata": {
    "execution": {
     "iopub.execute_input": "2022-03-20T00:34:43.302461Z",
     "iopub.status.busy": "2022-03-20T00:34:43.301569Z",
     "iopub.status.idle": "2022-03-20T00:34:43.314782Z",
     "shell.execute_reply": "2022-03-20T00:34:43.314419Z"
    },
    "papermill": {
     "duration": 0.040138,
     "end_time": "2022-03-20T00:34:43.314867",
     "exception": false,
     "start_time": "2022-03-20T00:34:43.274729",
     "status": "completed"
    },
    "tags": [
     "injected-parameters"
    ]
   },
   "outputs": [],
   "source": [
    "# Parameters\n",
    "parameters = {\n",
    "    \"experiment_name\": \"tl_2v2:oracle.run1.framed -> cores+wisig\",\n",
    "    \"device\": \"cuda\",\n",
    "    \"lr\": 0.0001,\n",
    "    \"n_shot\": 3,\n",
    "    \"n_query\": 2,\n",
    "    \"train_k_factor\": 3,\n",
    "    \"val_k_factor\": 2,\n",
    "    \"test_k_factor\": 2,\n",
    "    \"torch_default_dtype\": \"torch.float32\",\n",
    "    \"n_epoch\": 50,\n",
    "    \"patience\": 3,\n",
    "    \"criteria_for_best\": \"target_accuracy\",\n",
    "    \"x_net\": [\n",
    "        {\"class\": \"nnReshape\", \"kargs\": {\"shape\": [-1, 1, 2, 256]}},\n",
    "        {\n",
    "            \"class\": \"Conv2d\",\n",
    "            \"kargs\": {\n",
    "                \"in_channels\": 1,\n",
    "                \"out_channels\": 256,\n",
    "                \"kernel_size\": [1, 7],\n",
    "                \"bias\": False,\n",
    "                \"padding\": [0, 3],\n",
    "            },\n",
    "        },\n",
    "        {\"class\": \"ReLU\", \"kargs\": {\"inplace\": True}},\n",
    "        {\"class\": \"BatchNorm2d\", \"kargs\": {\"num_features\": 256}},\n",
    "        {\n",
    "            \"class\": \"Conv2d\",\n",
    "            \"kargs\": {\n",
    "                \"in_channels\": 256,\n",
    "                \"out_channels\": 80,\n",
    "                \"kernel_size\": [2, 7],\n",
    "                \"bias\": True,\n",
    "                \"padding\": [0, 3],\n",
    "            },\n",
    "        },\n",
    "        {\"class\": \"ReLU\", \"kargs\": {\"inplace\": True}},\n",
    "        {\"class\": \"BatchNorm2d\", \"kargs\": {\"num_features\": 80}},\n",
    "        {\"class\": \"Flatten\", \"kargs\": {}},\n",
    "        {\"class\": \"Linear\", \"kargs\": {\"in_features\": 20480, \"out_features\": 256}},\n",
    "        {\"class\": \"ReLU\", \"kargs\": {\"inplace\": True}},\n",
    "        {\"class\": \"BatchNorm1d\", \"kargs\": {\"num_features\": 256}},\n",
    "        {\"class\": \"Linear\", \"kargs\": {\"in_features\": 256, \"out_features\": 256}},\n",
    "    ],\n",
    "    \"NUM_LOGS_PER_EPOCH\": 10,\n",
    "    \"BEST_MODEL_PATH\": \"./best_model.pth\",\n",
    "    \"n_way\": 16,\n",
    "    \"datasets\": [\n",
    "        {\n",
    "            \"labels\": [\n",
    "                \"1-10.\",\n",
    "                \"1-11.\",\n",
    "                \"1-15.\",\n",
    "                \"1-16.\",\n",
    "                \"1-17.\",\n",
    "                \"1-18.\",\n",
    "                \"1-19.\",\n",
    "                \"10-4.\",\n",
    "                \"10-7.\",\n",
    "                \"11-1.\",\n",
    "                \"11-14.\",\n",
    "                \"11-17.\",\n",
    "                \"11-20.\",\n",
    "                \"11-7.\",\n",
    "                \"13-20.\",\n",
    "                \"13-8.\",\n",
    "                \"14-10.\",\n",
    "                \"14-11.\",\n",
    "                \"14-14.\",\n",
    "                \"14-7.\",\n",
    "                \"15-1.\",\n",
    "                \"15-20.\",\n",
    "                \"16-1.\",\n",
    "                \"16-16.\",\n",
    "                \"17-10.\",\n",
    "                \"17-11.\",\n",
    "                \"17-2.\",\n",
    "                \"19-1.\",\n",
    "                \"19-16.\",\n",
    "                \"19-19.\",\n",
    "                \"19-20.\",\n",
    "                \"19-3.\",\n",
    "                \"2-10.\",\n",
    "                \"2-11.\",\n",
    "                \"2-17.\",\n",
    "                \"2-18.\",\n",
    "                \"2-20.\",\n",
    "                \"2-3.\",\n",
    "                \"2-4.\",\n",
    "                \"2-5.\",\n",
    "                \"2-6.\",\n",
    "                \"2-7.\",\n",
    "                \"2-8.\",\n",
    "                \"3-13.\",\n",
    "                \"3-18.\",\n",
    "                \"3-3.\",\n",
    "                \"4-1.\",\n",
    "                \"4-10.\",\n",
    "                \"4-11.\",\n",
    "                \"4-19.\",\n",
    "                \"5-5.\",\n",
    "                \"6-15.\",\n",
    "                \"7-10.\",\n",
    "                \"7-14.\",\n",
    "                \"8-18.\",\n",
    "                \"8-20.\",\n",
    "                \"8-3.\",\n",
    "                \"8-8.\",\n",
    "            ],\n",
    "            \"domains\": [1, 2, 3, 4, 5],\n",
    "            \"num_examples_per_domain_per_label\": -1,\n",
    "            \"pickle_path\": \"/mnt/wd500GB/CSC500/csc500-main/datasets/cores.stratified_ds.2022A.pkl\",\n",
    "            \"source_or_target_dataset\": \"target\",\n",
    "            \"x_transforms\": [],\n",
    "            \"episode_transforms\": [],\n",
    "            \"domain_prefix\": \"C_\",\n",
    "        },\n",
    "        {\n",
    "            \"labels\": [\n",
    "                \"1-10\",\n",
    "                \"1-12\",\n",
    "                \"1-14\",\n",
    "                \"1-16\",\n",
    "                \"1-18\",\n",
    "                \"1-19\",\n",
    "                \"1-8\",\n",
    "                \"10-11\",\n",
    "                \"10-17\",\n",
    "                \"10-4\",\n",
    "                \"10-7\",\n",
    "                \"11-1\",\n",
    "                \"11-10\",\n",
    "                \"11-19\",\n",
    "                \"11-20\",\n",
    "                \"11-4\",\n",
    "                \"11-7\",\n",
    "                \"12-19\",\n",
    "                \"12-20\",\n",
    "                \"12-7\",\n",
    "                \"13-14\",\n",
    "                \"13-18\",\n",
    "                \"13-19\",\n",
    "                \"13-20\",\n",
    "                \"13-3\",\n",
    "                \"13-7\",\n",
    "                \"14-10\",\n",
    "                \"14-11\",\n",
    "                \"14-12\",\n",
    "                \"14-13\",\n",
    "                \"14-14\",\n",
    "                \"14-19\",\n",
    "                \"14-20\",\n",
    "                \"14-7\",\n",
    "                \"14-8\",\n",
    "                \"14-9\",\n",
    "                \"15-1\",\n",
    "                \"15-19\",\n",
    "                \"15-6\",\n",
    "                \"16-1\",\n",
    "                \"16-16\",\n",
    "                \"16-19\",\n",
    "                \"16-20\",\n",
    "                \"17-10\",\n",
    "                \"17-11\",\n",
    "                \"18-1\",\n",
    "                \"18-10\",\n",
    "                \"18-11\",\n",
    "                \"18-12\",\n",
    "                \"18-13\",\n",
    "                \"18-14\",\n",
    "                \"18-15\",\n",
    "                \"18-16\",\n",
    "                \"18-17\",\n",
    "                \"18-19\",\n",
    "                \"18-2\",\n",
    "                \"18-20\",\n",
    "                \"18-4\",\n",
    "                \"18-5\",\n",
    "                \"18-7\",\n",
    "                \"18-8\",\n",
    "                \"18-9\",\n",
    "                \"19-1\",\n",
    "                \"19-10\",\n",
    "                \"19-11\",\n",
    "                \"19-12\",\n",
    "                \"19-13\",\n",
    "                \"19-14\",\n",
    "                \"19-15\",\n",
    "                \"19-19\",\n",
    "                \"19-2\",\n",
    "                \"19-20\",\n",
    "                \"19-3\",\n",
    "                \"19-4\",\n",
    "                \"19-6\",\n",
    "                \"19-7\",\n",
    "                \"19-8\",\n",
    "                \"19-9\",\n",
    "                \"2-1\",\n",
    "                \"2-13\",\n",
    "                \"2-15\",\n",
    "                \"2-3\",\n",
    "                \"2-4\",\n",
    "                \"2-5\",\n",
    "                \"2-6\",\n",
    "                \"2-7\",\n",
    "                \"2-8\",\n",
    "                \"20-1\",\n",
    "                \"20-12\",\n",
    "                \"20-14\",\n",
    "                \"20-15\",\n",
    "                \"20-16\",\n",
    "                \"20-18\",\n",
    "                \"20-19\",\n",
    "                \"20-20\",\n",
    "                \"20-3\",\n",
    "                \"20-4\",\n",
    "                \"20-5\",\n",
    "                \"20-7\",\n",
    "                \"20-8\",\n",
    "                \"3-1\",\n",
    "                \"3-13\",\n",
    "                \"3-18\",\n",
    "                \"3-2\",\n",
    "                \"3-8\",\n",
    "                \"4-1\",\n",
    "                \"4-10\",\n",
    "                \"4-11\",\n",
    "                \"5-1\",\n",
    "                \"5-5\",\n",
    "                \"6-1\",\n",
    "                \"6-15\",\n",
    "                \"6-6\",\n",
    "                \"7-10\",\n",
    "                \"7-11\",\n",
    "                \"7-12\",\n",
    "                \"7-13\",\n",
    "                \"7-14\",\n",
    "                \"7-7\",\n",
    "                \"7-8\",\n",
    "                \"7-9\",\n",
    "                \"8-1\",\n",
    "                \"8-13\",\n",
    "                \"8-14\",\n",
    "                \"8-18\",\n",
    "                \"8-20\",\n",
    "                \"8-3\",\n",
    "                \"8-8\",\n",
    "                \"9-1\",\n",
    "                \"9-7\",\n",
    "            ],\n",
    "            \"domains\": [1, 2, 3, 4],\n",
    "            \"num_examples_per_domain_per_label\": -1,\n",
    "            \"pickle_path\": \"/mnt/wd500GB/CSC500/csc500-main/datasets/wisig.node3-19.stratified_ds.2022A.pkl\",\n",
    "            \"source_or_target_dataset\": \"target\",\n",
    "            \"x_transforms\": [],\n",
    "            \"episode_transforms\": [],\n",
    "            \"domain_prefix\": \"W_\",\n",
    "        },\n",
    "        {\n",
    "            \"labels\": [\n",
    "                \"3123D52\",\n",
    "                \"3123D65\",\n",
    "                \"3123D79\",\n",
    "                \"3123D80\",\n",
    "                \"3123D54\",\n",
    "                \"3123D70\",\n",
    "                \"3123D7B\",\n",
    "                \"3123D89\",\n",
    "                \"3123D58\",\n",
    "                \"3123D76\",\n",
    "                \"3123D7D\",\n",
    "                \"3123EFE\",\n",
    "                \"3123D64\",\n",
    "                \"3123D78\",\n",
    "                \"3123D7E\",\n",
    "                \"3124E4A\",\n",
    "            ],\n",
    "            \"domains\": [32, 38, 8, 44, 14, 50, 20, 26],\n",
    "            \"num_examples_per_domain_per_label\": 2000,\n",
    "            \"pickle_path\": \"/mnt/wd500GB/CSC500/csc500-main/datasets/oracle.Run1_framed_2000Examples_stratified_ds.2022A.pkl\",\n",
    "            \"source_or_target_dataset\": \"source\",\n",
    "            \"x_transforms\": [],\n",
    "            \"episode_transforms\": [],\n",
    "            \"domain_prefix\": \"O_\",\n",
    "        },\n",
    "    ],\n",
    "    \"seed\": 7,\n",
    "    \"dataset_seed\": 7,\n",
    "}\n"
   ]
  },
  {
   "cell_type": "code",
   "execution_count": 5,
   "id": "8fa1cc33",
   "metadata": {
    "execution": {
     "iopub.execute_input": "2022-03-20T00:34:43.349553Z",
     "iopub.status.busy": "2022-03-20T00:34:43.349293Z",
     "iopub.status.idle": "2022-03-20T00:34:43.364415Z",
     "shell.execute_reply": "2022-03-20T00:34:43.364028Z"
    },
    "papermill": {
     "duration": 0.031922,
     "end_time": "2022-03-20T00:34:43.364507",
     "exception": false,
     "start_time": "2022-03-20T00:34:43.332585",
     "status": "completed"
    },
    "tags": []
   },
   "outputs": [],
   "source": [
    "# Set this to True if you want to run this template directly\n",
    "STANDALONE = False\n",
    "if STANDALONE:\n",
    "    print(\"parameters not injected, running with standalone_parameters\")\n",
    "    parameters = standalone_parameters\n",
    "\n",
    "if not 'parameters' in locals() and not 'parameters' in globals():\n",
    "    raise Exception(\"Parameter injection failed\")\n",
    "\n",
    "#Use an easy dict for all the parameters\n",
    "p = EasyDict(parameters)\n",
    "\n",
    "if \"x_shape\" not in p:\n",
    "    p.x_shape = [2,256] # Default to this if we dont supply x_shape\n",
    "\n",
    "\n",
    "supplied_keys = set(p.keys())\n",
    "\n",
    "if  supplied_keys != required_parameters:\n",
    "    print(\"Parameters are incorrect\")\n",
    "    if len(supplied_keys - required_parameters)>0: print(\"Shouldn't have:\", str(supplied_keys - required_parameters))\n",
    "    if len(required_parameters - supplied_keys)>0: print(\"Need to have:\", str(required_parameters - supplied_keys))\n",
    "    raise RuntimeError(\"Parameters are incorrect\")"
   ]
  },
  {
   "cell_type": "code",
   "execution_count": 6,
   "id": "3a028d58",
   "metadata": {
    "execution": {
     "iopub.execute_input": "2022-03-20T00:34:43.397562Z",
     "iopub.status.busy": "2022-03-20T00:34:43.397127Z",
     "iopub.status.idle": "2022-03-20T00:34:43.411703Z",
     "shell.execute_reply": "2022-03-20T00:34:43.411359Z"
    },
    "papermill": {
     "duration": 0.030858,
     "end_time": "2022-03-20T00:34:43.411818",
     "exception": false,
     "start_time": "2022-03-20T00:34:43.380960",
     "status": "completed"
    },
    "tags": []
   },
   "outputs": [],
   "source": [
    "###################################\n",
    "# Set the RNGs and make it all deterministic\n",
    "###################################\n",
    "np.random.seed(p.seed)\n",
    "random.seed(p.seed)\n",
    "torch.manual_seed(p.seed)\n",
    "\n",
    "torch.use_deterministic_algorithms(True) "
   ]
  },
  {
   "cell_type": "code",
   "execution_count": 7,
   "id": "b691acf6",
   "metadata": {
    "execution": {
     "iopub.execute_input": "2022-03-20T00:34:43.444812Z",
     "iopub.status.busy": "2022-03-20T00:34:43.444566Z",
     "iopub.status.idle": "2022-03-20T00:34:43.460738Z",
     "shell.execute_reply": "2022-03-20T00:34:43.460284Z"
    },
    "papermill": {
     "duration": 0.03141,
     "end_time": "2022-03-20T00:34:43.460850",
     "exception": false,
     "start_time": "2022-03-20T00:34:43.429440",
     "status": "completed"
    },
    "tags": []
   },
   "outputs": [],
   "source": [
    "###########################################\n",
    "# The stratified datasets honor this\n",
    "###########################################\n",
    "torch.set_default_dtype(eval(p.torch_default_dtype))"
   ]
  },
  {
   "cell_type": "code",
   "execution_count": 8,
   "id": "b5fba671",
   "metadata": {
    "execution": {
     "iopub.execute_input": "2022-03-20T00:34:43.494808Z",
     "iopub.status.busy": "2022-03-20T00:34:43.494559Z",
     "iopub.status.idle": "2022-03-20T00:34:43.536663Z",
     "shell.execute_reply": "2022-03-20T00:34:43.536226Z"
    },
    "papermill": {
     "duration": 0.057336,
     "end_time": "2022-03-20T00:34:43.536766",
     "exception": false,
     "start_time": "2022-03-20T00:34:43.479430",
     "status": "completed"
    },
    "tags": []
   },
   "outputs": [],
   "source": [
    "###################################\n",
    "# Build the network(s)\n",
    "# Note: It's critical to do this AFTER setting the RNG\n",
    "###################################\n",
    "x_net = build_sequential(p.x_net)"
   ]
  },
  {
   "cell_type": "code",
   "execution_count": 9,
   "id": "5d7e61cc",
   "metadata": {
    "execution": {
     "iopub.execute_input": "2022-03-20T00:34:43.571004Z",
     "iopub.status.busy": "2022-03-20T00:34:43.570757Z",
     "iopub.status.idle": "2022-03-20T00:34:43.585980Z",
     "shell.execute_reply": "2022-03-20T00:34:43.585535Z"
    },
    "papermill": {
     "duration": 0.030247,
     "end_time": "2022-03-20T00:34:43.586070",
     "exception": false,
     "start_time": "2022-03-20T00:34:43.555823",
     "status": "completed"
    },
    "tags": []
   },
   "outputs": [],
   "source": [
    "start_time_secs = time.time()"
   ]
  },
  {
   "cell_type": "code",
   "execution_count": 10,
   "id": "c6b67dfd",
   "metadata": {
    "execution": {
     "iopub.execute_input": "2022-03-20T00:34:43.619924Z",
     "iopub.status.busy": "2022-03-20T00:34:43.619677Z",
     "iopub.status.idle": "2022-03-20T00:34:43.635580Z",
     "shell.execute_reply": "2022-03-20T00:34:43.635129Z"
    },
    "papermill": {
     "duration": 0.031914,
     "end_time": "2022-03-20T00:34:43.635673",
     "exception": false,
     "start_time": "2022-03-20T00:34:43.603759",
     "status": "completed"
    },
    "tags": []
   },
   "outputs": [],
   "source": [
    "p.domains_source = []\n",
    "p.domains_target = []\n",
    "\n",
    "\n",
    "train_original_source = []\n",
    "val_original_source   = []\n",
    "test_original_source  = []\n",
    "\n",
    "train_original_target = []\n",
    "val_original_target   = []\n",
    "test_original_target  = []"
   ]
  },
  {
   "cell_type": "code",
   "execution_count": 11,
   "id": "e3d9c3d3",
   "metadata": {
    "execution": {
     "iopub.execute_input": "2022-03-20T00:34:43.667207Z",
     "iopub.status.busy": "2022-03-20T00:34:43.666963Z",
     "iopub.status.idle": "2022-03-20T00:34:43.681977Z",
     "shell.execute_reply": "2022-03-20T00:34:43.682318Z"
    },
    "papermill": {
     "duration": 0.029909,
     "end_time": "2022-03-20T00:34:43.682424",
     "exception": false,
     "start_time": "2022-03-20T00:34:43.652515",
     "status": "completed"
    },
    "tags": []
   },
   "outputs": [],
   "source": [
    "# global_x_transform_func = lambda x: normalize(x.to(torch.get_default_dtype()), \"unit_power\") # unit_power, unit_mag\n",
    "# global_x_transform_func = lambda x: normalize(x, \"unit_power\") # unit_power, unit_mag"
   ]
  },
  {
   "cell_type": "code",
   "execution_count": 12,
   "id": "acb78fd2",
   "metadata": {
    "execution": {
     "iopub.execute_input": "2022-03-20T00:34:43.720855Z",
     "iopub.status.busy": "2022-03-20T00:34:43.720596Z",
     "iopub.status.idle": "2022-03-20T00:34:43.734199Z",
     "shell.execute_reply": "2022-03-20T00:34:43.733812Z"
    },
    "papermill": {
     "duration": 0.034206,
     "end_time": "2022-03-20T00:34:43.734286",
     "exception": false,
     "start_time": "2022-03-20T00:34:43.700080",
     "status": "completed"
    },
    "tags": []
   },
   "outputs": [],
   "source": [
    "def add_dataset(\n",
    "    labels,\n",
    "    domains,\n",
    "    pickle_path,\n",
    "    x_transforms,\n",
    "    episode_transforms,\n",
    "    domain_prefix,\n",
    "    num_examples_per_domain_per_label,\n",
    "    source_or_target_dataset:str,\n",
    "    iterator_seed=p.seed,\n",
    "    dataset_seed=p.dataset_seed,\n",
    "    n_shot=p.n_shot,\n",
    "    n_way=p.n_way,\n",
    "    n_query=p.n_query,\n",
    "    train_val_test_k_factors=(p.train_k_factor,p.val_k_factor,p.test_k_factor),\n",
    "):\n",
    "   \n",
    "    if x_transforms == []: x_transform = None\n",
    "    else: x_transform = get_chained_transform(x_transforms)\n",
    "    \n",
    "    if episode_transforms == []: episode_transform = None\n",
    "    else: raise Exception(\"episode_transforms not implemented\")\n",
    "    \n",
    "    episode_transform = lambda tup, _prefix=domain_prefix: (_prefix + str(tup[0]), tup[1])\n",
    "\n",
    "\n",
    "    eaf = Episodic_Accessor_Factory(\n",
    "        labels=labels,\n",
    "        domains=domains,\n",
    "        num_examples_per_domain_per_label=num_examples_per_domain_per_label,\n",
    "        iterator_seed=iterator_seed,\n",
    "        dataset_seed=dataset_seed,\n",
    "        n_shot=n_shot,\n",
    "        n_way=n_way,\n",
    "        n_query=n_query,\n",
    "        train_val_test_k_factors=train_val_test_k_factors,\n",
    "        pickle_path=pickle_path,\n",
    "        x_transform_func=x_transform,\n",
    "    )\n",
    "\n",
    "    train, val, test = eaf.get_train(), eaf.get_val(), eaf.get_test()\n",
    "    train = Lazy_Iterable_Wrapper(train, episode_transform)\n",
    "    val = Lazy_Iterable_Wrapper(val, episode_transform)\n",
    "    test = Lazy_Iterable_Wrapper(test, episode_transform)\n",
    "\n",
    "    if source_or_target_dataset==\"source\":\n",
    "        train_original_source.append(train)\n",
    "        val_original_source.append(val)\n",
    "        test_original_source.append(test)\n",
    "\n",
    "        p.domains_source.extend(\n",
    "            [domain_prefix + str(u) for u in domains]\n",
    "        )\n",
    "    elif source_or_target_dataset==\"target\":\n",
    "        train_original_target.append(train)\n",
    "        val_original_target.append(val)\n",
    "        test_original_target.append(test)\n",
    "        p.domains_target.extend(\n",
    "            [domain_prefix + str(u) for u in domains]\n",
    "        )\n",
    "    else:\n",
    "        raise Exception(f\"invalid source_or_target_dataset: {source_or_target_dataset}\")\n",
    "    "
   ]
  },
  {
   "cell_type": "code",
   "execution_count": 13,
   "id": "fe266617",
   "metadata": {
    "execution": {
     "iopub.execute_input": "2022-03-20T00:34:43.769003Z",
     "iopub.status.busy": "2022-03-20T00:34:43.768752Z",
     "iopub.status.idle": "2022-03-20T00:34:47.195010Z",
     "shell.execute_reply": "2022-03-20T00:34:47.194562Z"
    },
    "papermill": {
     "duration": 3.442919,
     "end_time": "2022-03-20T00:34:47.195115",
     "exception": false,
     "start_time": "2022-03-20T00:34:43.752196",
     "status": "completed"
    },
    "tags": []
   },
   "outputs": [],
   "source": [
    "for ds in p.datasets:\n",
    "    add_dataset(**ds)"
   ]
  },
  {
   "cell_type": "code",
   "execution_count": 14,
   "id": "b90d65ac",
   "metadata": {
    "execution": {
     "iopub.execute_input": "2022-03-20T00:34:47.226008Z",
     "iopub.status.busy": "2022-03-20T00:34:47.225760Z",
     "iopub.status.idle": "2022-03-20T00:34:47.241047Z",
     "shell.execute_reply": "2022-03-20T00:34:47.241445Z"
    },
    "papermill": {
     "duration": 0.031073,
     "end_time": "2022-03-20T00:34:47.241569",
     "exception": false,
     "start_time": "2022-03-20T00:34:47.210496",
     "status": "completed"
    },
    "tags": []
   },
   "outputs": [],
   "source": [
    "# from steves_utils.CORES.utils import (\n",
    "#     ALL_NODES,\n",
    "#     ALL_NODES_MINIMUM_1000_EXAMPLES,\n",
    "#     ALL_DAYS\n",
    "# )\n",
    "\n",
    "# add_dataset(\n",
    "#     labels=ALL_NODES,\n",
    "#     domains = ALL_DAYS,\n",
    "#     num_examples_per_domain_per_label=100,\n",
    "#     pickle_path=os.path.join(get_datasets_base_path(), \"cores.stratified_ds.2022A.pkl\"),\n",
    "#     source_or_target_dataset=\"target\",\n",
    "#     x_transform_func=global_x_transform_func,\n",
    "#     domain_modifier=lambda u: f\"cores_{u}\"\n",
    "# )"
   ]
  },
  {
   "cell_type": "code",
   "execution_count": 15,
   "id": "76db484d",
   "metadata": {
    "execution": {
     "iopub.execute_input": "2022-03-20T00:34:47.276146Z",
     "iopub.status.busy": "2022-03-20T00:34:47.275868Z",
     "iopub.status.idle": "2022-03-20T00:34:47.289734Z",
     "shell.execute_reply": "2022-03-20T00:34:47.289265Z"
    },
    "papermill": {
     "duration": 0.029818,
     "end_time": "2022-03-20T00:34:47.289838",
     "exception": false,
     "start_time": "2022-03-20T00:34:47.260020",
     "status": "completed"
    },
    "tags": []
   },
   "outputs": [],
   "source": [
    "# from steves_utils.ORACLE.utils_v2 import (\n",
    "#     ALL_DISTANCES_FEET,\n",
    "#     ALL_RUNS,\n",
    "#     ALL_SERIAL_NUMBERS,\n",
    "# )\n",
    "\n",
    "\n",
    "# add_dataset(\n",
    "#     labels=ALL_SERIAL_NUMBERS,\n",
    "#     domains = list(set(ALL_DISTANCES_FEET) - {2,62}),\n",
    "#     num_examples_per_domain_per_label=100,\n",
    "#     pickle_path=os.path.join(get_datasets_base_path(), \"oracle.Run2_framed_2000Examples_stratified_ds.2022A.pkl\"),\n",
    "#     source_or_target_dataset=\"source\",\n",
    "#     x_transform_func=global_x_transform_func,\n",
    "#     domain_modifier=lambda u: f\"oracle1_{u}\"\n",
    "# )\n"
   ]
  },
  {
   "cell_type": "code",
   "execution_count": 16,
   "id": "97dea9d2",
   "metadata": {
    "execution": {
     "iopub.execute_input": "2022-03-20T00:34:47.324102Z",
     "iopub.status.busy": "2022-03-20T00:34:47.323858Z",
     "iopub.status.idle": "2022-03-20T00:34:47.338390Z",
     "shell.execute_reply": "2022-03-20T00:34:47.337949Z"
    },
    "papermill": {
     "duration": 0.029825,
     "end_time": "2022-03-20T00:34:47.338481",
     "exception": false,
     "start_time": "2022-03-20T00:34:47.308656",
     "status": "completed"
    },
    "tags": []
   },
   "outputs": [],
   "source": [
    "# from steves_utils.ORACLE.utils_v2 import (\n",
    "#     ALL_DISTANCES_FEET,\n",
    "#     ALL_RUNS,\n",
    "#     ALL_SERIAL_NUMBERS,\n",
    "# )\n",
    "\n",
    "\n",
    "# add_dataset(\n",
    "#     labels=ALL_SERIAL_NUMBERS,\n",
    "#     domains = list(set(ALL_DISTANCES_FEET) - {2,62,56}),\n",
    "#     num_examples_per_domain_per_label=100,\n",
    "#     pickle_path=os.path.join(get_datasets_base_path(), \"oracle.Run2_framed_2000Examples_stratified_ds.2022A.pkl\"),\n",
    "#     source_or_target_dataset=\"source\",\n",
    "#     x_transform_func=global_x_transform_func,\n",
    "#     domain_modifier=lambda u: f\"oracle2_{u}\"\n",
    "# )"
   ]
  },
  {
   "cell_type": "code",
   "execution_count": 17,
   "id": "6f289866",
   "metadata": {
    "execution": {
     "iopub.execute_input": "2022-03-20T00:34:47.375431Z",
     "iopub.status.busy": "2022-03-20T00:34:47.375156Z",
     "iopub.status.idle": "2022-03-20T00:34:47.389807Z",
     "shell.execute_reply": "2022-03-20T00:34:47.389561Z"
    },
    "papermill": {
     "duration": 0.031586,
     "end_time": "2022-03-20T00:34:47.389872",
     "exception": false,
     "start_time": "2022-03-20T00:34:47.358286",
     "status": "completed"
    },
    "tags": []
   },
   "outputs": [],
   "source": [
    "# add_dataset(\n",
    "#     labels=list(range(19)),\n",
    "#     domains = [0,1,2],\n",
    "#     num_examples_per_domain_per_label=100,\n",
    "#     pickle_path=os.path.join(get_datasets_base_path(), \"metehan.stratified_ds.2022A.pkl\"),\n",
    "#     source_or_target_dataset=\"target\",\n",
    "#     x_transform_func=global_x_transform_func,\n",
    "#     domain_modifier=lambda u: f\"met_{u}\"\n",
    "# )"
   ]
  },
  {
   "cell_type": "code",
   "execution_count": 18,
   "id": "86a863c3",
   "metadata": {
    "execution": {
     "iopub.execute_input": "2022-03-20T00:34:47.418833Z",
     "iopub.status.busy": "2022-03-20T00:34:47.418576Z",
     "iopub.status.idle": "2022-03-20T00:34:47.429548Z",
     "shell.execute_reply": "2022-03-20T00:34:47.429190Z"
    },
    "papermill": {
     "duration": 0.02604,
     "end_time": "2022-03-20T00:34:47.429622",
     "exception": false,
     "start_time": "2022-03-20T00:34:47.403582",
     "status": "completed"
    },
    "tags": []
   },
   "outputs": [],
   "source": [
    "# # from steves_utils.wisig.utils import (\n",
    "# #     ALL_NODES_MINIMUM_100_EXAMPLES,\n",
    "# #     ALL_NODES_MINIMUM_500_EXAMPLES,\n",
    "# #     ALL_NODES_MINIMUM_1000_EXAMPLES,\n",
    "# #     ALL_DAYS\n",
    "# # )\n",
    "\n",
    "# import steves_utils.wisig.utils as wisig\n",
    "\n",
    "\n",
    "# add_dataset(\n",
    "#     labels=wisig.ALL_NODES_MINIMUM_100_EXAMPLES,\n",
    "#     domains = wisig.ALL_DAYS,\n",
    "#     num_examples_per_domain_per_label=100,\n",
    "#     pickle_path=os.path.join(get_datasets_base_path(), \"wisig.node3-19.stratified_ds.2022A.pkl\"),\n",
    "#     source_or_target_dataset=\"target\",\n",
    "#     x_transform_func=global_x_transform_func,\n",
    "#     domain_modifier=lambda u: f\"wisig_{u}\"\n",
    "# )"
   ]
  },
  {
   "cell_type": "code",
   "execution_count": 19,
   "id": "fd5442bc",
   "metadata": {
    "execution": {
     "iopub.execute_input": "2022-03-20T00:34:47.466603Z",
     "iopub.status.busy": "2022-03-20T00:34:47.462857Z",
     "iopub.status.idle": "2022-03-20T00:34:47.478655Z",
     "shell.execute_reply": "2022-03-20T00:34:47.478218Z"
    },
    "papermill": {
     "duration": 0.030771,
     "end_time": "2022-03-20T00:34:47.478744",
     "exception": false,
     "start_time": "2022-03-20T00:34:47.447973",
     "status": "completed"
    },
    "tags": []
   },
   "outputs": [],
   "source": [
    "###################################\n",
    "# Build the dataset\n",
    "###################################\n",
    "train_original_source = Iterable_Aggregator(train_original_source, p.seed)\n",
    "val_original_source = Iterable_Aggregator(val_original_source, p.seed)\n",
    "test_original_source = Iterable_Aggregator(test_original_source, p.seed)\n",
    "\n",
    "\n",
    "train_original_target = Iterable_Aggregator(train_original_target, p.seed)\n",
    "val_original_target = Iterable_Aggregator(val_original_target, p.seed)\n",
    "test_original_target = Iterable_Aggregator(test_original_target, p.seed)\n",
    "\n",
    "# For CNN We only use X and Y. And we only train on the source.\n",
    "# Properly form the data using a transform lambda and Lazy_Iterable_Wrapper. Finally wrap them in a dataloader\n",
    "\n",
    "transform_lambda = lambda ex: ex[1] # Original is (<domain>, <episode>) so we strip down to episode only\n",
    "\n",
    "train_processed_source = Lazy_Iterable_Wrapper(train_original_source, transform_lambda)\n",
    "val_processed_source   = Lazy_Iterable_Wrapper(val_original_source, transform_lambda)\n",
    "test_processed_source  = Lazy_Iterable_Wrapper(test_original_source, transform_lambda)\n",
    "\n",
    "train_processed_target = Lazy_Iterable_Wrapper(train_original_target, transform_lambda)\n",
    "val_processed_target   = Lazy_Iterable_Wrapper(val_original_target, transform_lambda)\n",
    "test_processed_target  = Lazy_Iterable_Wrapper(test_original_target, transform_lambda)\n",
    "\n",
    "datasets = EasyDict({\n",
    "    \"source\": {\n",
    "        \"original\": {\"train\":train_original_source, \"val\":val_original_source, \"test\":test_original_source},\n",
    "        \"processed\": {\"train\":train_processed_source, \"val\":val_processed_source, \"test\":test_processed_source}\n",
    "    },\n",
    "    \"target\": {\n",
    "        \"original\": {\"train\":train_original_target, \"val\":val_original_target, \"test\":test_original_target},\n",
    "        \"processed\": {\"train\":train_processed_target, \"val\":val_processed_target, \"test\":test_processed_target}\n",
    "    },\n",
    "})"
   ]
  },
  {
   "cell_type": "code",
   "execution_count": 20,
   "id": "5b3c01fc",
   "metadata": {
    "execution": {
     "iopub.execute_input": "2022-03-20T00:34:47.513189Z",
     "iopub.status.busy": "2022-03-20T00:34:47.512944Z",
     "iopub.status.idle": "2022-03-20T00:34:56.508750Z",
     "shell.execute_reply": "2022-03-20T00:34:56.508272Z"
    },
    "papermill": {
     "duration": 9.012299,
     "end_time": "2022-03-20T00:34:56.508862",
     "exception": false,
     "start_time": "2022-03-20T00:34:47.496563",
     "status": "completed"
    },
    "tags": []
   },
   "outputs": [
    {
     "name": "stdout",
     "output_type": "stream",
     "text": [
      "{'O_26', 'O_50', 'O_8', 'O_20', 'O_14', 'O_32', 'O_44', 'O_38'}\n"
     ]
    },
    {
     "name": "stdout",
     "output_type": "stream",
     "text": [
      "{'C_5', 'C_1', 'W_2', 'W_3', 'W_4', 'C_4', 'C_2', 'W_1', 'C_3'}\n"
     ]
    },
    {
     "name": "stdout",
     "output_type": "stream",
     "text": [
      "tensor([[[ 3.1434e-03,  2.3804e-03, -3.1434e-03,  ..., -2.6246e-03,\n",
      "           3.0519e-05, -4.3031e-03],\n",
      "         [-1.9837e-03,  1.5564e-03,  3.2350e-03,  ..., -2.6856e-03,\n",
      "          -4.7609e-03, -1.2207e-04]],\n",
      "\n",
      "        [[ 1.5564e-03,  3.7233e-03, -2.5025e-03,  ..., -2.7161e-03,\n",
      "           3.1434e-03, -9.1556e-05],\n",
      "         [-1.3123e-03,  2.2279e-03,  1.1902e-03,  ..., -1.8006e-03,\n",
      "          -3.5096e-03, -3.3570e-03]],\n",
      "\n",
      "        [[-1.2207e-03, -2.4110e-03,  3.0519e-03,  ...,  2.5941e-03,\n",
      "          -3.8148e-03, -1.3123e-03],\n",
      "         [ 9.1556e-04, -3.2655e-03, -6.7141e-04,  ...,  2.7467e-03,\n",
      "           2.4720e-03,  2.8382e-03]],\n",
      "\n",
      "        ...,\n",
      "\n",
      "        [[-1.5564e-03, -3.5707e-03,  1.5259e-03,  ...,  3.5707e-03,\n",
      "           1.4954e-03,  3.9674e-03],\n",
      "         [ 3.6927e-03,  2.4415e-04, -4.2421e-03,  ...,  2.1363e-04,\n",
      "           4.4252e-03, -9.7659e-04]],\n",
      "\n",
      "        [[ 1.8921e-03,  3.0519e-05, -2.7161e-03,  ..., -2.7467e-04,\n",
      "           4.5778e-03,  2.7772e-03],\n",
      "         [ 0.0000e+00,  4.0895e-03, -1.5259e-03,  ..., -3.2350e-03,\n",
      "           5.4933e-04, -2.1363e-03]],\n",
      "\n",
      "        [[ 3.5707e-03,  1.8616e-03, -3.8453e-03,  ..., -2.5330e-03,\n",
      "           3.0519e-05, -5.1271e-03],\n",
      "         [-2.0142e-03,  1.9227e-03,  2.8687e-03,  ..., -3.1434e-03,\n",
      "          -4.4862e-03,  4.8830e-04]]])\n"
     ]
    }
   ],
   "source": [
    "from steves_utils.transforms import get_average_magnitude, get_average_power\n",
    "\n",
    "print(set([u for u,_ in val_original_source]))\n",
    "print(set([u for u,_ in val_original_target]))\n",
    "\n",
    "s_x, s_y, q_x, q_y, _ = next(iter(train_processed_source))\n",
    "print(s_x)\n",
    "\n",
    "# for ds in [\n",
    "#     train_processed_source,\n",
    "#     val_processed_source,\n",
    "#     test_processed_source,\n",
    "#     train_processed_target,\n",
    "#     val_processed_target,\n",
    "#     test_processed_target\n",
    "# ]:\n",
    "#     for s_x, s_y, q_x, q_y, _ in ds:\n",
    "#         for X in (s_x, q_x):\n",
    "#             for x in X:\n",
    "#                 assert np.isclose(get_average_magnitude(x.numpy()), 1.0)\n",
    "#                 assert np.isclose(get_average_power(x.numpy()), 1.0)\n",
    "                "
   ]
  },
  {
   "cell_type": "code",
   "execution_count": 21,
   "id": "bbdacba1",
   "metadata": {
    "execution": {
     "iopub.execute_input": "2022-03-20T00:34:56.553286Z",
     "iopub.status.busy": "2022-03-20T00:34:56.552928Z",
     "iopub.status.idle": "2022-03-20T00:34:56.605112Z",
     "shell.execute_reply": "2022-03-20T00:34:56.605490Z"
    },
    "papermill": {
     "duration": 0.077975,
     "end_time": "2022-03-20T00:34:56.605607",
     "exception": false,
     "start_time": "2022-03-20T00:34:56.527632",
     "status": "completed"
    },
    "tags": []
   },
   "outputs": [
    {
     "name": "stdout",
     "output_type": "stream",
     "text": [
      "(2, 256)\n"
     ]
    }
   ],
   "source": [
    "###################################\n",
    "# Build the model\n",
    "###################################\n",
    "# easfsl only wants a tuple for the shape\n",
    "model = Steves_Prototypical_Network(x_net, device=p.device, x_shape=tuple(p.x_shape))\n",
    "optimizer = Adam(params=model.parameters(), lr=p.lr)"
   ]
  },
  {
   "cell_type": "code",
   "execution_count": 22,
   "id": "22b39ac5",
   "metadata": {
    "execution": {
     "iopub.execute_input": "2022-03-20T00:34:56.643596Z",
     "iopub.status.busy": "2022-03-20T00:34:56.642121Z",
     "iopub.status.idle": "2022-03-20T00:51:07.345811Z",
     "shell.execute_reply": "2022-03-20T00:51:07.345562Z"
    },
    "papermill": {
     "duration": 970.721683,
     "end_time": "2022-03-20T00:51:07.345877",
     "exception": false,
     "start_time": "2022-03-20T00:34:56.624194",
     "status": "completed"
    },
    "tags": []
   },
   "outputs": [
    {
     "name": "stdout",
     "output_type": "stream",
     "text": [
      "epoch: 1, [batch: 1 / 6720], examples_per_second: 47.8920, train_label_loss: 2.9294, \n"
     ]
    },
    {
     "name": "stdout",
     "output_type": "stream",
     "text": [
      "epoch: 1, [batch: 672 / 6720], examples_per_second: 3165.5213, train_label_loss: 0.3968, \n"
     ]
    },
    {
     "name": "stdout",
     "output_type": "stream",
     "text": [
      "epoch: 1, [batch: 1344 / 6720], examples_per_second: 3154.1262, train_label_loss: 0.5190, \n"
     ]
    },
    {
     "name": "stdout",
     "output_type": "stream",
     "text": [
      "epoch: 1, [batch: 2016 / 6720], examples_per_second: 3042.1326, train_label_loss: 0.4425, \n"
     ]
    },
    {
     "name": "stdout",
     "output_type": "stream",
     "text": [
      "epoch: 1, [batch: 2688 / 6720], examples_per_second: 3069.1323, train_label_loss: 0.2941, \n"
     ]
    },
    {
     "name": "stdout",
     "output_type": "stream",
     "text": [
      "epoch: 1, [batch: 3360 / 6720], examples_per_second: 3118.2388, train_label_loss: 0.2080, \n"
     ]
    },
    {
     "name": "stdout",
     "output_type": "stream",
     "text": [
      "epoch: 1, [batch: 4032 / 6720], examples_per_second: 3137.6773, train_label_loss: 0.2838, \n"
     ]
    },
    {
     "name": "stdout",
     "output_type": "stream",
     "text": [
      "epoch: 1, [batch: 4704 / 6720], examples_per_second: 3148.2917, train_label_loss: 0.2680, \n"
     ]
    },
    {
     "name": "stdout",
     "output_type": "stream",
     "text": [
      "epoch: 1, [batch: 5376 / 6720], examples_per_second: 3202.4114, train_label_loss: 0.4560, \n"
     ]
    },
    {
     "name": "stdout",
     "output_type": "stream",
     "text": [
      "epoch: 1, [batch: 6048 / 6720], examples_per_second: 3195.7751, train_label_loss: 0.2395, \n"
     ]
    },
    {
     "name": "stdout",
     "output_type": "stream",
     "text": [
      "=============================================================\n",
      "epoch: 1, source_val_acc_label: 0.6309, target_val_acc_label: 0.8404, source_val_label_loss: 262.4241, target_val_label_loss: 10728.9639, \n",
      "=============================================================\n"
     ]
    },
    {
     "name": "stdout",
     "output_type": "stream",
     "text": [
      "New best\n"
     ]
    },
    {
     "name": "stdout",
     "output_type": "stream",
     "text": [
      "epoch: 2, [batch: 1 / 6720], examples_per_second: 3.9995, train_label_loss: 361.5936, \n"
     ]
    },
    {
     "name": "stdout",
     "output_type": "stream",
     "text": [
      "epoch: 2, [batch: 672 / 6720], examples_per_second: 3193.7187, train_label_loss: 9.7351, \n"
     ]
    },
    {
     "name": "stdout",
     "output_type": "stream",
     "text": [
      "epoch: 2, [batch: 1344 / 6720], examples_per_second: 3198.9678, train_label_loss: 0.1858, \n"
     ]
    },
    {
     "name": "stdout",
     "output_type": "stream",
     "text": [
      "epoch: 2, [batch: 2016 / 6720], examples_per_second: 3204.2337, train_label_loss: 0.4934, \n"
     ]
    },
    {
     "name": "stdout",
     "output_type": "stream",
     "text": [
      "epoch: 2, [batch: 2688 / 6720], examples_per_second: 3181.0995, train_label_loss: 0.3443, \n"
     ]
    },
    {
     "name": "stdout",
     "output_type": "stream",
     "text": [
      "epoch: 2, [batch: 3360 / 6720], examples_per_second: 3208.2264, train_label_loss: 1.9383, \n"
     ]
    },
    {
     "name": "stdout",
     "output_type": "stream",
     "text": [
      "epoch: 2, [batch: 4032 / 6720], examples_per_second: 3193.8360, train_label_loss: 2.4327, \n"
     ]
    },
    {
     "name": "stdout",
     "output_type": "stream",
     "text": [
      "epoch: 2, [batch: 4704 / 6720], examples_per_second: 3186.1584, train_label_loss: 0.5805, \n"
     ]
    },
    {
     "name": "stdout",
     "output_type": "stream",
     "text": [
      "epoch: 2, [batch: 5376 / 6720], examples_per_second: 3209.6980, train_label_loss: 0.2608, \n"
     ]
    },
    {
     "name": "stdout",
     "output_type": "stream",
     "text": [
      "epoch: 2, [batch: 6048 / 6720], examples_per_second: 3204.5714, train_label_loss: 0.1669, \n"
     ]
    },
    {
     "name": "stdout",
     "output_type": "stream",
     "text": [
      "=============================================================\n",
      "epoch: 2, source_val_acc_label: 0.8735, target_val_acc_label: 0.6657, source_val_label_loss: 0.4867, target_val_label_loss: 354.8897, \n",
      "=============================================================\n"
     ]
    },
    {
     "name": "stdout",
     "output_type": "stream",
     "text": [
      "epoch: 3, [batch: 1 / 6720], examples_per_second: 3.9871, train_label_loss: 0.0794, \n"
     ]
    },
    {
     "name": "stdout",
     "output_type": "stream",
     "text": [
      "epoch: 3, [batch: 672 / 6720], examples_per_second: 3183.0213, train_label_loss: 0.2840, \n"
     ]
    },
    {
     "name": "stdout",
     "output_type": "stream",
     "text": [
      "epoch: 3, [batch: 1344 / 6720], examples_per_second: 3175.4090, train_label_loss: 0.2077, \n"
     ]
    },
    {
     "name": "stdout",
     "output_type": "stream",
     "text": [
      "epoch: 3, [batch: 2016 / 6720], examples_per_second: 3179.3072, train_label_loss: 0.2418, \n"
     ]
    },
    {
     "name": "stdout",
     "output_type": "stream",
     "text": [
      "epoch: 3, [batch: 2688 / 6720], examples_per_second: 3123.8736, train_label_loss: 0.1599, \n"
     ]
    },
    {
     "name": "stdout",
     "output_type": "stream",
     "text": [
      "epoch: 3, [batch: 3360 / 6720], examples_per_second: 3194.8132, train_label_loss: 0.3585, \n"
     ]
    },
    {
     "name": "stdout",
     "output_type": "stream",
     "text": [
      "epoch: 3, [batch: 4032 / 6720], examples_per_second: 3172.4268, train_label_loss: 0.0363, \n"
     ]
    },
    {
     "name": "stdout",
     "output_type": "stream",
     "text": [
      "epoch: 3, [batch: 4704 / 6720], examples_per_second: 3164.3161, train_label_loss: 0.0816, \n"
     ]
    },
    {
     "name": "stdout",
     "output_type": "stream",
     "text": [
      "epoch: 3, [batch: 5376 / 6720], examples_per_second: 3205.9710, train_label_loss: 0.3772, \n"
     ]
    },
    {
     "name": "stdout",
     "output_type": "stream",
     "text": [
      "epoch: 3, [batch: 6048 / 6720], examples_per_second: 3188.5420, train_label_loss: 0.1759, \n"
     ]
    },
    {
     "name": "stdout",
     "output_type": "stream",
     "text": [
      "=============================================================\n",
      "epoch: 3, source_val_acc_label: 0.9188, target_val_acc_label: 0.5612, source_val_label_loss: 0.2447, target_val_label_loss: 1355.8322, \n",
      "=============================================================\n"
     ]
    },
    {
     "name": "stdout",
     "output_type": "stream",
     "text": [
      "epoch: 4, [batch: 1 / 6720], examples_per_second: 3.9504, train_label_loss: 0.4719, \n"
     ]
    },
    {
     "name": "stdout",
     "output_type": "stream",
     "text": [
      "epoch: 4, [batch: 672 / 6720], examples_per_second: 3191.3973, train_label_loss: 0.1737, \n"
     ]
    },
    {
     "name": "stdout",
     "output_type": "stream",
     "text": [
      "epoch: 4, [batch: 1344 / 6720], examples_per_second: 3216.2975, train_label_loss: 0.1730, \n"
     ]
    },
    {
     "name": "stdout",
     "output_type": "stream",
     "text": [
      "epoch: 4, [batch: 2016 / 6720], examples_per_second: 3186.3081, train_label_loss: 0.2368, \n"
     ]
    },
    {
     "name": "stdout",
     "output_type": "stream",
     "text": [
      "epoch: 4, [batch: 2688 / 6720], examples_per_second: 3204.9270, train_label_loss: 0.3630, \n"
     ]
    },
    {
     "name": "stdout",
     "output_type": "stream",
     "text": [
      "epoch: 4, [batch: 3360 / 6720], examples_per_second: 3201.6552, train_label_loss: 0.5049, \n"
     ]
    },
    {
     "name": "stdout",
     "output_type": "stream",
     "text": [
      "epoch: 4, [batch: 4032 / 6720], examples_per_second: 3185.5355, train_label_loss: 0.1365, \n"
     ]
    },
    {
     "name": "stdout",
     "output_type": "stream",
     "text": [
      "epoch: 4, [batch: 4704 / 6720], examples_per_second: 3157.2555, train_label_loss: 0.2262, \n"
     ]
    },
    {
     "name": "stdout",
     "output_type": "stream",
     "text": [
      "epoch: 4, [batch: 5376 / 6720], examples_per_second: 3174.0408, train_label_loss: 0.0473, \n"
     ]
    },
    {
     "name": "stdout",
     "output_type": "stream",
     "text": [
      "epoch: 4, [batch: 6048 / 6720], examples_per_second: 3182.4336, train_label_loss: 0.0694, \n"
     ]
    },
    {
     "name": "stdout",
     "output_type": "stream",
     "text": [
      "=============================================================\n",
      "epoch: 4, source_val_acc_label: 0.9244, target_val_acc_label: 0.6499, source_val_label_loss: 0.2162, target_val_label_loss: 1335.0840, \n",
      "=============================================================\n"
     ]
    },
    {
     "name": "stdout",
     "output_type": "stream",
     "text": [
      "epoch: 5, [batch: 1 / 6720], examples_per_second: 3.9078, train_label_loss: 0.2863, \n"
     ]
    },
    {
     "name": "stdout",
     "output_type": "stream",
     "text": [
      "epoch: 5, [batch: 672 / 6720], examples_per_second: 3208.7359, train_label_loss: 0.1445, \n"
     ]
    },
    {
     "name": "stdout",
     "output_type": "stream",
     "text": [
      "epoch: 5, [batch: 1344 / 6720], examples_per_second: 3222.5073, train_label_loss: 0.1637, \n"
     ]
    },
    {
     "name": "stdout",
     "output_type": "stream",
     "text": [
      "epoch: 5, [batch: 2016 / 6720], examples_per_second: 3214.1725, train_label_loss: 0.2542, \n"
     ]
    },
    {
     "name": "stdout",
     "output_type": "stream",
     "text": [
      "epoch: 5, [batch: 2688 / 6720], examples_per_second: 3200.9073, train_label_loss: 0.0385, \n"
     ]
    },
    {
     "name": "stdout",
     "output_type": "stream",
     "text": [
      "epoch: 5, [batch: 3360 / 6720], examples_per_second: 3083.5647, train_label_loss: 0.1652, \n"
     ]
    },
    {
     "name": "stdout",
     "output_type": "stream",
     "text": [
      "epoch: 5, [batch: 4032 / 6720], examples_per_second: 2848.3876, train_label_loss: 0.1931, \n"
     ]
    },
    {
     "name": "stdout",
     "output_type": "stream",
     "text": [
      "epoch: 5, [batch: 4704 / 6720], examples_per_second: 2846.7939, train_label_loss: 0.0939, \n"
     ]
    },
    {
     "name": "stdout",
     "output_type": "stream",
     "text": [
      "epoch: 5, [batch: 5376 / 6720], examples_per_second: 2980.1309, train_label_loss: 0.0220, \n"
     ]
    },
    {
     "name": "stdout",
     "output_type": "stream",
     "text": [
      "epoch: 5, [batch: 6048 / 6720], examples_per_second: 3073.3808, train_label_loss: 0.0958, \n"
     ]
    },
    {
     "name": "stdout",
     "output_type": "stream",
     "text": [
      "=============================================================\n",
      "epoch: 5, source_val_acc_label: 0.9417, target_val_acc_label: 0.5933, source_val_label_loss: 0.1784, target_val_label_loss: 1555.4194, \n",
      "=============================================================\n"
     ]
    },
    {
     "name": "stdout",
     "output_type": "stream",
     "text": [
      "Patience (3) exhausted\n"
     ]
    }
   ],
   "source": [
    "###################################\n",
    "# train\n",
    "###################################\n",
    "jig = PTN_Train_Eval_Test_Jig(model, p.BEST_MODEL_PATH, p.device)\n",
    "\n",
    "jig.train(\n",
    "    train_iterable=datasets.source.processed.train,\n",
    "    source_val_iterable=datasets.source.processed.val,\n",
    "    target_val_iterable=datasets.target.processed.val,\n",
    "    num_epochs=p.n_epoch,\n",
    "    num_logs_per_epoch=p.NUM_LOGS_PER_EPOCH,\n",
    "    patience=p.patience,\n",
    "    optimizer=optimizer,\n",
    "    criteria_for_best=p.criteria_for_best,\n",
    ")"
   ]
  },
  {
   "cell_type": "code",
   "execution_count": 23,
   "id": "31e8fabf",
   "metadata": {
    "execution": {
     "iopub.execute_input": "2022-03-20T00:51:07.400559Z",
     "iopub.status.busy": "2022-03-20T00:51:07.400145Z",
     "iopub.status.idle": "2022-03-20T00:51:07.416913Z",
     "shell.execute_reply": "2022-03-20T00:51:07.417146Z"
    },
    "papermill": {
     "duration": 0.045295,
     "end_time": "2022-03-20T00:51:07.417239",
     "exception": false,
     "start_time": "2022-03-20T00:51:07.371944",
     "status": "completed"
    },
    "tags": []
   },
   "outputs": [],
   "source": [
    "total_experiment_time_secs = time.time() - start_time_secs"
   ]
  },
  {
   "cell_type": "code",
   "execution_count": 24,
   "id": "87b9595b",
   "metadata": {
    "execution": {
     "iopub.execute_input": "2022-03-20T00:51:07.474731Z",
     "iopub.status.busy": "2022-03-20T00:51:07.474225Z",
     "iopub.status.idle": "2022-03-20T00:53:37.298663Z",
     "shell.execute_reply": "2022-03-20T00:53:37.298215Z"
    },
    "papermill": {
     "duration": 149.854374,
     "end_time": "2022-03-20T00:53:37.298783",
     "exception": false,
     "start_time": "2022-03-20T00:51:07.444409",
     "status": "completed"
    },
    "tags": []
   },
   "outputs": [],
   "source": [
    "###################################\n",
    "# Evaluate the model\n",
    "###################################\n",
    "source_test_label_accuracy, source_test_label_loss = jig.test(datasets.source.processed.test)\n",
    "target_test_label_accuracy, target_test_label_loss = jig.test(datasets.target.processed.test)\n",
    "\n",
    "source_val_label_accuracy, source_val_label_loss = jig.test(datasets.source.processed.val)\n",
    "target_val_label_accuracy, target_val_label_loss = jig.test(datasets.target.processed.val)\n",
    "\n",
    "history = jig.get_history()\n",
    "\n",
    "total_epochs_trained = len(history[\"epoch_indices\"])\n",
    "\n",
    "val_dl = Iterable_Aggregator((datasets.source.original.val,datasets.target.original.val))\n",
    "\n",
    "confusion = ptn_confusion_by_domain_over_dataloader(model, p.device, val_dl)\n",
    "per_domain_accuracy = per_domain_accuracy_from_confusion(confusion)\n",
    "\n",
    "# Add a key to per_domain_accuracy for if it was a source domain\n",
    "for domain, accuracy in per_domain_accuracy.items():\n",
    "    per_domain_accuracy[domain] = {\n",
    "        \"accuracy\": accuracy,\n",
    "        \"source?\": domain in p.domains_source\n",
    "    }\n",
    "\n",
    "# Do an independent accuracy assesment JUST TO BE SURE!\n",
    "# _source_test_label_accuracy = independent_accuracy_assesment(model, datasets.source.processed.test, p.device)\n",
    "# _target_test_label_accuracy = independent_accuracy_assesment(model, datasets.target.processed.test, p.device)\n",
    "# _source_val_label_accuracy = independent_accuracy_assesment(model, datasets.source.processed.val, p.device)\n",
    "# _target_val_label_accuracy = independent_accuracy_assesment(model, datasets.target.processed.val, p.device)\n",
    "\n",
    "# assert(_source_test_label_accuracy == source_test_label_accuracy)\n",
    "# assert(_target_test_label_accuracy == target_test_label_accuracy)\n",
    "# assert(_source_val_label_accuracy == source_val_label_accuracy)\n",
    "# assert(_target_val_label_accuracy == target_val_label_accuracy)\n",
    "\n",
    "experiment = {\n",
    "    \"experiment_name\": p.experiment_name,\n",
    "    \"parameters\": dict(p),\n",
    "    \"results\": {\n",
    "        \"source_test_label_accuracy\": source_test_label_accuracy,\n",
    "        \"source_test_label_loss\": source_test_label_loss,\n",
    "        \"target_test_label_accuracy\": target_test_label_accuracy,\n",
    "        \"target_test_label_loss\": target_test_label_loss,\n",
    "        \"source_val_label_accuracy\": source_val_label_accuracy,\n",
    "        \"source_val_label_loss\": source_val_label_loss,\n",
    "        \"target_val_label_accuracy\": target_val_label_accuracy,\n",
    "        \"target_val_label_loss\": target_val_label_loss,\n",
    "        \"total_epochs_trained\": total_epochs_trained,\n",
    "        \"total_experiment_time_secs\": total_experiment_time_secs,\n",
    "        \"confusion\": confusion,\n",
    "        \"per_domain_accuracy\": per_domain_accuracy,\n",
    "    },\n",
    "    \"history\": history,\n",
    "    \"dataset_metrics\": get_dataset_metrics(datasets, \"ptn\"),\n",
    "}"
   ]
  },
  {
   "cell_type": "code",
   "execution_count": 25,
   "id": "54a21829",
   "metadata": {
    "execution": {
     "iopub.execute_input": "2022-03-20T00:53:37.357906Z",
     "iopub.status.busy": "2022-03-20T00:53:37.357627Z",
     "iopub.status.idle": "2022-03-20T00:53:37.502273Z",
     "shell.execute_reply": "2022-03-20T00:53:37.501929Z"
    },
    "papermill": {
     "duration": 0.173403,
     "end_time": "2022-03-20T00:53:37.502363",
     "exception": false,
     "start_time": "2022-03-20T00:53:37.328960",
     "status": "completed"
    },
    "tags": []
   },
   "outputs": [
    {
     "data": {
      "image/png": "[encoded data removed]",
      "text/plain": [
       "<Figure size 1080x504 with 1 Axes>"
      ]
     },
     "metadata": {
      "needs_background": "light"
     },
     "output_type": "display_data"
    }
   ],
   "source": [
    "ax = get_loss_curve(experiment)\n",
    "plt.show()"
   ]
  },
  {
   "cell_type": "code",
   "execution_count": 26,
   "id": "fd8a0f60",
   "metadata": {
    "execution": {
     "iopub.execute_input": "2022-03-20T00:53:37.562286Z",
     "iopub.status.busy": "2022-03-20T00:53:37.562009Z",
     "iopub.status.idle": "2022-03-20T00:53:37.732336Z",
     "shell.execute_reply": "2022-03-20T00:53:37.732549Z"
    },
    "papermill": {
     "duration": 0.200097,
     "end_time": "2022-03-20T00:53:37.732637",
     "exception": false,
     "start_time": "2022-03-20T00:53:37.532540",
     "status": "completed"
    },
    "tags": []
   },
   "outputs": [
    {
     "data": {
      "text/plain": [
       "<AxesSubplot:title={'center':'Results'}>"
      ]
     },
     "execution_count": 26,
     "metadata": {},
     "output_type": "execute_result"
    },
    {
     "data": {
      "image/png": "[encoded data removed]",
      "text/plain": [
       "<Figure size 1080x504 with 1 Axes>"
      ]
     },
     "metadata": {
      "needs_background": "light"
     },
     "output_type": "display_data"
    }
   ],
   "source": [
    "get_results_table(experiment)"
   ]
  },
  {
   "cell_type": "code",
   "execution_count": 27,
   "id": "cf8dc689",
   "metadata": {
    "execution": {
     "iopub.execute_input": "2022-03-20T00:53:37.790674Z",
     "iopub.status.busy": "2022-03-20T00:53:37.790304Z",
     "iopub.status.idle": "2022-03-20T00:53:37.937626Z",
     "shell.execute_reply": "2022-03-20T00:53:37.937848Z"
    },
    "papermill": {
     "duration": 0.176932,
     "end_time": "2022-03-20T00:53:37.937932",
     "exception": false,
     "start_time": "2022-03-20T00:53:37.761000",
     "status": "completed"
    },
    "tags": []
   },
   "outputs": [
    {
     "data": {
      "text/plain": [
       "<AxesSubplot:title={'center':'Per Domain Validation Accuracy'}, xlabel='domain'>"
      ]
     },
     "execution_count": 27,
     "metadata": {},
     "output_type": "execute_result"
    },
    {
     "data": {
      "image/png": "[encoded data removed]",
      "text/plain": [
       "<Figure size 1080x504 with 1 Axes>"
      ]
     },
     "metadata": {
      "needs_background": "light"
     },
     "output_type": "display_data"
    }
   ],
   "source": [
    "get_domain_accuracies(experiment)"
   ]
  },
  {
   "cell_type": "code",
   "execution_count": 28,
   "id": "a74ae082",
   "metadata": {
    "execution": {
     "iopub.execute_input": "2022-03-20T00:53:37.996202Z",
     "iopub.status.busy": "2022-03-20T00:53:37.995943Z",
     "iopub.status.idle": "2022-03-20T00:53:38.013227Z",
     "shell.execute_reply": "2022-03-20T00:53:38.012746Z"
    },
    "papermill": {
     "duration": 0.047188,
     "end_time": "2022-03-20T00:53:38.013333",
     "exception": false,
     "start_time": "2022-03-20T00:53:37.966145",
     "status": "completed"
    },
    "tags": []
   },
   "outputs": [
    {
     "name": "stdout",
     "output_type": "stream",
     "text": [
      "Source Test Label Accuracy: 0.6316080729166667 Target Test Label Accuracy: 0.8433960355987055\n",
      "Source Val Label Accuracy: 0.6309244791666667 Target Val Label Accuracy: 0.8404397639956093\n"
     ]
    }
   ],
   "source": [
    "print(\"Source Test Label Accuracy:\", experiment[\"results\"][\"source_test_label_accuracy\"], \"Target Test Label Accuracy:\", experiment[\"results\"][\"target_test_label_accuracy\"])\n",
    "print(\"Source Val Label Accuracy:\", experiment[\"results\"][\"source_val_label_accuracy\"], \"Target Val Label Accuracy:\", experiment[\"results\"][\"target_val_label_accuracy\"])"
   ]
  },
  {
   "cell_type": "code",
   "execution_count": 29,
   "id": "dacca602",
   "metadata": {
    "execution": {
     "iopub.execute_input": "2022-03-20T00:53:38.078053Z",
     "iopub.status.busy": "2022-03-20T00:53:38.077621Z",
     "iopub.status.idle": "2022-03-20T00:53:38.096558Z",
     "shell.execute_reply": "2022-03-20T00:53:38.096878Z"
    },
    "papermill": {
     "duration": 0.049929,
     "end_time": "2022-03-20T00:53:38.096990",
     "exception": false,
     "start_time": "2022-03-20T00:53:38.047061",
     "status": "completed"
    },
    "tags": [
     "experiment_json"
    ]
   },
   "outputs": [
    {
     "data": {
      "text/plain": [
       "'{\"experiment_name\": \"tl_2v2:oracle.run1.framed -> cores+wisig\", \"parameters\": {\"experiment_name\": \"tl_2v2:oracle.run1.framed -> cores+wisig\", \"device\": \"cuda\", \"lr\": 0.0001, \"n_shot\": 3, \"n_query\": 2, \"train_k_factor\": 3, \"val_k_factor\": 2, \"test_k_factor\": 2, \"torch_default_dtype\": \"torch.float32\", \"n_epoch\": 50, \"patience\": 3, \"criteria_for_best\": \"target_accuracy\", \"x_net\": [{\"class\": \"nnReshape\", \"kargs\": {\"shape\": [-1, 1, 2, 256]}}, {\"class\": \"Conv2d\", \"kargs\": {\"in_channels\": 1, \"out_channels\": 256, \"kernel_size\": [1, 7], \"bias\": false, \"padding\": [0, 3]}}, {\"class\": \"ReLU\", \"kargs\": {\"inplace\": true}}, {\"class\": \"BatchNorm2d\", \"kargs\": {\"num_features\": 256}}, {\"class\": \"Conv2d\", \"kargs\": {\"in_channels\": 256, \"out_channels\": 80, \"kernel_size\": [2, 7], \"bias\": true, \"padding\": [0, 3]}}, {\"class\": \"ReLU\", \"kargs\": {\"inplace\": true}}, {\"class\": \"BatchNorm2d\", \"kargs\": {\"num_features\": 80}}, {\"class\": \"Flatten\", \"kargs\": {}}, {\"class\": \"Linear\", \"kargs\": {\"in_features\": 20480, \"out_features\": 256}}, {\"class\": \"ReLU\", \"kargs\": {\"inplace\": true}}, {\"class\": \"BatchNorm1d\", \"kargs\": {\"num_features\": 256}}, {\"class\": \"Linear\", \"kargs\": {\"in_features\": 256, \"out_features\": 256}}], \"NUM_LOGS_PER_EPOCH\": 10, \"BEST_MODEL_PATH\": \"./best_model.pth\", \"n_way\": 16, \"datasets\": [{\"labels\": [\"1-10.\", \"1-11.\", \"1-15.\", \"1-16.\", \"1-17.\", \"1-18.\", \"1-19.\", \"10-4.\", \"10-7.\", \"11-1.\", \"11-14.\", \"11-17.\", \"11-20.\", \"11-7.\", \"13-20.\", \"13-8.\", \"14-10.\", \"14-11.\", \"14-14.\", \"14-7.\", \"15-1.\", \"15-20.\", \"16-1.\", \"16-16.\", \"17-10.\", \"17-11.\", \"17-2.\", \"19-1.\", \"19-16.\", \"19-19.\", \"19-20.\", \"19-3.\", \"2-10.\", \"2-11.\", \"2-17.\", \"2-18.\", \"2-20.\", \"2-3.\", \"2-4.\", \"2-5.\", \"2-6.\", \"2-7.\", \"2-8.\", \"3-13.\", \"3-18.\", \"3-3.\", \"4-1.\", \"4-10.\", \"4-11.\", \"4-19.\", \"5-5.\", \"6-15.\", \"7-10.\", \"7-14.\", \"8-18.\", \"8-20.\", \"8-3.\", \"8-8.\"], \"domains\": [1, 2, 3, 4, 5], \"num_examples_per_domain_per_label\": -1, \"pickle_path\": \"/mnt/wd500GB/CSC500/csc500-main/datasets/cores.stratified_ds.2022A.pkl\", \"source_or_target_dataset\": \"target\", \"x_transforms\": [], \"episode_transforms\": [], \"domain_prefix\": \"C_\"}, {\"labels\": [\"1-10\", \"1-12\", \"1-14\", \"1-16\", \"1-18\", \"1-19\", \"1-8\", \"10-11\", \"10-17\", \"10-4\", \"10-7\", \"11-1\", \"11-10\", \"11-19\", \"11-20\", \"11-4\", \"11-7\", \"12-19\", \"12-20\", \"12-7\", \"13-14\", \"13-18\", \"13-19\", \"13-20\", \"13-3\", \"13-7\", \"14-10\", \"14-11\", \"14-12\", \"14-13\", \"14-14\", \"14-19\", \"14-20\", \"14-7\", \"14-8\", \"14-9\", \"15-1\", \"15-19\", \"15-6\", \"16-1\", \"16-16\", \"16-19\", \"16-20\", \"17-10\", \"17-11\", \"18-1\", \"18-10\", \"18-11\", \"18-12\", \"18-13\", \"18-14\", \"18-15\", \"18-16\", \"18-17\", \"18-19\", \"18-2\", \"18-20\", \"18-4\", \"18-5\", \"18-7\", \"18-8\", \"18-9\", \"19-1\", \"19-10\", \"19-11\", \"19-12\", \"19-13\", \"19-14\", \"19-15\", \"19-19\", \"19-2\", \"19-20\", \"19-3\", \"19-4\", \"19-6\", \"19-7\", \"19-8\", \"19-9\", \"2-1\", \"2-13\", \"2-15\", \"2-3\", \"2-4\", \"2-5\", \"2-6\", \"2-7\", \"2-8\", \"20-1\", \"20-12\", \"20-14\", \"20-15\", \"20-16\", \"20-18\", \"20-19\", \"20-20\", \"20-3\", \"20-4\", \"20-5\", \"20-7\", \"20-8\", \"3-1\", \"3-13\", \"3-18\", \"3-2\", \"3-8\", \"4-1\", \"4-10\", \"4-11\", \"5-1\", \"5-5\", \"6-1\", \"6-15\", \"6-6\", \"7-10\", \"7-11\", \"7-12\", \"7-13\", \"7-14\", \"7-7\", \"7-8\", \"7-9\", \"8-1\", \"8-13\", \"8-14\", \"8-18\", \"8-20\", \"8-3\", \"8-8\", \"9-1\", \"9-7\"], \"domains\": [1, 2, 3, 4], \"num_examples_per_domain_per_label\": -1, \"pickle_path\": \"/mnt/wd500GB/CSC500/csc500-main/datasets/wisig.node3-19.stratified_ds.2022A.pkl\", \"source_or_target_dataset\": \"target\", \"x_transforms\": [], \"episode_transforms\": [], \"domain_prefix\": \"W_\"}, {\"labels\": [\"3123D52\", \"3123D65\", \"3123D79\", \"3123D80\", \"3123D54\", \"3123D70\", \"3123D7B\", \"3123D89\", \"3123D58\", \"3123D76\", \"3123D7D\", \"3123EFE\", \"3123D64\", \"3123D78\", \"3123D7E\", \"3124E4A\"], \"domains\": [32, 38, 8, 44, 14, 50, 20, 26], \"num_examples_per_domain_per_label\": 2000, \"pickle_path\": \"/mnt/wd500GB/CSC500/csc500-main/datasets/oracle.Run1_framed_2000Examples_stratified_ds.2022A.pkl\", \"source_or_target_dataset\": \"source\", \"x_transforms\": [], \"episode_transforms\": [], \"domain_prefix\": \"O_\"}], \"seed\": 7, \"dataset_seed\": 7, \"x_shape\": [2, 256], \"domains_source\": [\"O_32\", \"O_38\", \"O_8\", \"O_44\", \"O_14\", \"O_50\", \"O_20\", \"O_26\"], \"domains_target\": [\"C_1\", \"C_2\", \"C_3\", \"C_4\", \"C_5\", \"W_1\", \"W_2\", \"W_3\", \"W_4\"]}, \"results\": {\"source_test_label_accuracy\": 0.6316080729166667, \"source_test_label_loss\": 262.416015625, \"target_test_label_accuracy\": 0.8433960355987055, \"target_test_label_loss\": 10441.953125, \"source_val_label_accuracy\": 0.6309244791666667, \"source_val_label_loss\": 262.42413330078125, \"target_val_label_accuracy\": 0.8404397639956093, \"target_val_label_loss\": 10728.96484375, \"total_epochs_trained\": 5, \"total_experiment_time_secs\": 983.8313076496124, \"confusion\": {\"O_26\": {\"0\": {\"15\": 19, \"10\": 39, \"2\": 16, \"5\": 14, \"1\": 11, \"9\": 10, \"14\": 38, \"0\": 47, \"12\": 6, \"8\": 14, \"7\": 5, \"6\": 20, \"13\": 1}, \"4\": {\"13\": 11, \"4\": 178, \"3\": 44, \"2\": 2, \"7\": 5}, \"14\": {\"6\": 26, \"15\": 29, \"14\": 65, \"1\": 33, \"5\": 15, \"10\": 41, \"8\": 4, \"0\": 23, \"9\": 2, \"12\": 1, \"7\": 1}, \"12\": {\"0\": 27, \"2\": 16, \"12\": 98, \"8\": 16, \"15\": 12, \"9\": 20, \"14\": 5, \"13\": 20, \"5\": 7, \"10\": 15, \"1\": 1, \"6\": 2, \"7\": 1}, \"8\": {\"3\": 14, \"9\": 33, \"0\": 17, \"2\": 47, \"7\": 38, \"12\": 13, \"8\": 48, \"15\": 4, \"13\": 16, \"1\": 1, \"10\": 6, \"14\": 1, \"6\": 2}, \"7\": {\"8\": 33, \"9\": 37, \"7\": 58, \"3\": 37, \"2\": 46, \"13\": 16, \"12\": 5, \"0\": 4, \"4\": 4}, \"13\": {\"12\": 3, \"13\": 76, \"3\": 54, \"9\": 22, \"7\": 25, \"2\": 18, \"4\": 26, \"0\": 3, \"8\": 13}, \"5\": {\"0\": 10, \"5\": 90, \"10\": 17, \"1\": 24, \"6\": 30, \"15\": 51, \"12\": 2, \"14\": 12, \"2\": 1, \"9\": 3}, \"15\": {\"5\": 46, \"15\": 68, \"6\": 51, \"1\": 15, \"10\": 25, \"14\": 19, \"0\": 11, \"12\": 2, \"8\": 2, \"2\": 1}, \"10\": {\"15\": 43, \"10\": 59, \"14\": 48, \"0\": 22, \"1\": 14, \"6\": 31, \"12\": 2, \"8\": 6, \"5\": 12, \"2\": 2, \"9\": 1}, \"3\": {\"3\": 96, \"7\": 36, \"2\": 18, \"9\": 14, \"4\": 32, \"13\": 32, \"8\": 12}, \"9\": {\"9\": 46, \"8\": 46, \"2\": 44, \"13\": 21, \"7\": 40, \"3\": 14, \"0\": 10, \"12\": 11, \"4\": 3, \"10\": 1, \"5\": 1, \"14\": 2, \"15\": 1}, \"6\": {\"0\": 8, \"6\": 136, \"1\": 22, \"15\": 26, \"10\": 21, \"5\": 17, \"14\": 8, \"12\": 1, \"7\": 1}, \"1\": {\"1\": 138, \"6\": 30, \"5\": 10, \"14\": 26, \"10\": 17, \"15\": 13, \"0\": 5, \"2\": 1}, \"11\": {\"11\": 175, \"6\": 44, \"1\": 8, \"10\": 7, \"15\": 2, \"14\": 2, \"0\": 1, \"5\": 1}, \"2\": {\"2\": 52, \"9\": 32, \"13\": 21, \"15\": 2, \"7\": 36, \"8\": 34, \"3\": 21, \"0\": 24, \"4\": 1, \"14\": 6, \"10\": 5, \"12\": 6}}, \"O_44\": {\"1\": {\"1\": 231, \"2\": 8, \"10\": 1}, \"11\": {\"11\": 237, \"13\": 2, \"12\": 1}, \"3\": {\"3\": 239, \"12\": 1}, \"6\": {\"13\": 34, \"6\": 202, \"9\": 4}, \"7\": {\"7\": 203, \"9\": 35, \"10\": 2}, \"5\": {\"5\": 220, \"8\": 3, \"14\": 9, \"15\": 7, \"4\": 1}, \"2\": {\"2\": 235, \"1\": 5}, \"15\": {\"15\": 220, \"8\": 7, \"5\": 7, \"14\": 5, \"0\": 1}, \"10\": {\"10\": 219, \"2\": 4, \"12\": 2, \"7\": 4, \"1\": 11}, \"13\": {\"13\": 174, \"6\": 61, \"9\": 5}, \"8\": {\"8\": 170, \"0\": 60, \"15\": 6, \"5\": 4}, \"4\": {\"4\": 152, \"14\": 87, \"5\": 1}, \"9\": {\"7\": 81, \"9\": 97, \"13\": 39, \"6\": 20, \"4\": 3}, \"14\": {\"14\": 189, \"4\": 36, \"5\": 9, \"15\": 6}, \"0\": {\"0\": 217, \"8\": 23}, \"12\": {\"12\": 185, \"3\": 52, \"10\": 3}}, \"O_50\": {\"15\": {\"15\": 235, \"6\": 4, \"5\": 1}, \"4\": {\"4\": 202, \"7\": 17, \"15\": 10, \"5\": 11}, \"6\": {\"6\": 226, \"5\": 8, \"15\": 6}, \"2\": {\"2\": 238, \"0\": 2}, \"5\": {\"5\": 130, \"4\": 9, \"6\": 61, \"7\": 23, \"13\": 10, \"15\": 7}, \"9\": {\"9\": 223, \"12\": 11, \"11\": 6}, \"8\": {\"8\": 239, \"10\": 1}, \"12\": {\"12\": 232, \"9\": 8}, \"10\": {\"10\": 240}, \"1\": {\"1\": 237, \"13\": 3}, \"0\": {\"0\": 235, \"2\": 4, \"10\": 1}, \"3\": {\"3\": 238, \"8\": 2}, \"13\": {\"13\": 240}, \"11\": {\"11\": 236, \"9\": 2, \"12\": 2}, \"7\": {\"7\": 236, \"4\": 2, \"5\": 2}, \"14\": {\"14\": 240}}, \"O_38\": {\"15\": {\"15\": 226, \"5\": 3, \"8\": 8, \"1\": 3}, \"11\": {\"11\": 239, \"3\": 1}, \"10\": {\"10\": 109, \"4\": 57, \"13\": 31, \"0\": 43}, \"14\": {\"14\": 230, \"2\": 10}, \"6\": {\"6\": 240}, \"4\": {\"4\": 240}, \"13\": {\"13\": 221, \"0\": 13, \"2\": 3, \"14\": 1, \"10\": 2}, \"3\": {\"3\": 235, \"11\": 5}, \"7\": {\"7\": 236, \"5\": 1, \"8\": 3}, \"8\": {\"5\": 74, \"8\": 146, \"7\": 16, \"15\": 4}, \"1\": {\"1\": 240}, \"5\": {\"5\": 108, \"15\": 10, \"8\": 93, \"7\": 21, \"9\": 7, \"2\": 1}, \"0\": {\"10\": 52, \"7\": 18, \"13\": 84, \"0\": 71, \"8\": 4, \"4\": 10, \"5\": 1}, \"2\": {\"2\": 233, \"14\": 7}, \"12\": {\"12\": 240}, \"9\": {\"9\": 236, \"5\": 4}}, \"O_20\": {\"10\": {\"10\": 152, \"6\": 47, \"4\": 36, \"7\": 1, \"12\": 3, \"14\": 1}, \"7\": {\"3\": 16, \"7\": 40, \"12\": 28, \"13\": 21, \"14\": 7, \"2\": 34, \"9\": 36, \"6\": 6, \"8\": 6, \"4\": 29, \"15\": 2, \"5\": 5, \"1\": 7, \"10\": 2, \"11\": 1}, \"4\": {\"10\": 17, \"7\": 26, \"6\": 36, \"12\": 28, \"4\": 63, \"13\": 9, \"8\": 11, \"9\": 16, \"2\": 16, \"3\": 7, \"14\": 9, \"5\": 1, \"1\": 1}, \"13\": {\"2\": 38, \"12\": 32, \"13\": 91, \"9\": 12, \"1\": 8, \"7\": 10, \"4\": 5, \"3\": 3, \"15\": 33, \"5\": 5, \"10\": 2, \"6\": 1}, \"1\": {\"1\": 54, \"2\": 9, \"9\": 21, \"12\": 14, \"5\": 38, \"8\": 16, \"0\": 7, \"15\": 33, \"3\": 23, \"4\": 1, \"13\": 18, \"7\": 5, \"11\": 1}, \"0\": {\"1\": 16, \"0\": 116, \"11\": 69, \"5\": 15, \"3\": 6, \"15\": 9, \"8\": 5, \"9\": 4}, \"12\": {\"2\": 35, \"7\": 36, \"1\": 18, \"12\": 31, \"5\": 15, \"13\": 29, \"9\": 34, \"15\": 18, \"6\": 4, \"4\": 9, \"3\": 8, \"8\": 2, \"10\": 1}, \"5\": {\"1\": 39, \"5\": 42, \"11\": 9, \"8\": 32, \"0\": 13, \"15\": 26, \"3\": 34, \"13\": 16, \"7\": 6, \"12\": 8, \"9\": 12, \"2\": 1, \"14\": 2}, \"6\": {\"10\": 22, \"14\": 32, \"12\": 7, \"6\": 93, \"7\": 17, \"4\": 36, \"9\": 6, \"8\": 10, \"2\": 11, \"3\": 3, \"13\": 2, \"1\": 1}, \"2\": {\"4\": 20, \"12\": 35, \"1\": 15, \"9\": 30, \"7\": 39, \"3\": 11, \"8\": 4, \"15\": 14, \"2\": 37, \"13\": 20, \"14\": 1, \"6\": 10, \"5\": 4}, \"8\": {\"11\": 23, \"8\": 89, \"7\": 13, \"3\": 38, \"5\": 9, \"1\": 6, \"12\": 4, \"9\": 10, \"0\": 5, \"14\": 29, \"13\": 1, \"4\": 6, \"2\": 4, \"6\": 2, \"15\": 1}, \"11\": {\"11\": 140, \"0\": 55, \"1\": 9, \"3\": 16, \"8\": 9, \"5\": 7, \"15\": 1, \"9\": 3}, \"9\": {\"9\": 45, \"1\": 25, \"8\": 16, \"13\": 21, \"7\": 24, \"4\": 12, \"3\": 27, \"6\": 7, \"5\": 11, \"2\": 17, \"12\": 17, \"14\": 12, \"15\": 5, \"11\": 1}, \"14\": {\"8\": 44, \"14\": 115, \"4\": 21, \"9\": 3, \"6\": 21, \"3\": 16, \"11\": 6, \"7\": 5, \"5\": 1, \"10\": 4, \"12\": 1, \"2\": 2, \"1\": 1}, \"15\": {\"5\": 31, \"2\": 8, \"13\": 52, \"1\": 34, \"15\": 58, \"12\": 26, \"3\": 6, \"7\": 6, \"9\": 15, \"4\": 1, \"0\": 2, \"11\": 1}, \"3\": {\"3\": 30, \"8\": 58, \"5\": 24, \"11\": 10, \"6\": 1, \"4\": 4, \"1\": 21, \"14\": 20, \"2\": 6, \"7\": 14, \"9\": 20, \"13\": 7, \"12\": 13, \"15\": 6, \"0\": 6}}, \"O_14\": {\"14\": {\"5\": 17, \"10\": 3, \"2\": 42, \"0\": 4, \"6\": 43, \"14\": 81, \"13\": 28, \"3\": 17, \"4\": 3, \"7\": 2}, \"0\": {\"0\": 80, \"8\": 54, \"3\": 56, \"6\": 6, \"14\": 15, \"10\": 12, \"7\": 1, \"13\": 9, \"5\": 4, \"4\": 2, \"2\": 1}, \"4\": {\"5\": 47, \"10\": 49, \"7\": 22, \"4\": 109, \"1\": 8, \"2\": 5}, \"11\": {\"11\": 225, \"1\": 14, \"9\": 1}, \"13\": {\"6\": 75, \"14\": 43, \"7\": 2, \"2\": 21, \"13\": 35, \"3\": 19, \"15\": 28, \"4\": 2, \"5\": 7, \"0\": 3, \"10\": 5}, \"9\": {\"9\": 216, \"12\": 9, \"10\": 6, \"1\": 4, \"8\": 5}, \"3\": {\"3\": 125, \"14\": 12, \"13\": 17, \"6\": 19, \"0\": 55, \"8\": 6, \"2\": 3, \"5\": 3}, \"6\": {\"6\": 96, \"13\": 68, \"14\": 33, \"0\": 3, \"2\": 14, \"5\": 2, \"3\": 22, \"4\": 1, \"15\": 1}, \"1\": {\"1\": 211, \"4\": 13, \"11\": 2, \"10\": 13, \"5\": 1}, \"5\": {\"13\": 1, \"10\": 17, \"7\": 77, \"4\": 31, \"3\": 7, \"5\": 70, \"2\": 24, \"14\": 10, \"0\": 3}, \"12\": {\"8\": 25, \"12\": 193, \"0\": 6, \"3\": 2, \"9\": 14}, \"10\": {\"4\": 56, \"10\": 137, \"1\": 19, \"5\": 21, \"9\": 3, \"2\": 3, \"7\": 1}, \"8\": {\"8\": 166, \"0\": 42, \"9\": 5, \"12\": 10, \"10\": 3, \"3\": 12, \"5\": 2}, \"7\": {\"4\": 14, \"7\": 141, \"5\": 44, \"2\": 23, \"14\": 8, \"3\": 9, \"6\": 1}, \"15\": {\"15\": 239, \"6\": 1}, \"2\": {\"3\": 13, \"5\": 32, \"7\": 26, \"6\": 17, \"4\": 30, \"14\": 28, \"2\": 64, \"13\": 15, \"0\": 5, \"10\": 9, \"1\": 1}}, \"O_32\": {\"11\": {\"3\": 88, \"11\": 120, \"13\": 30, \"4\": 2}, \"1\": {\"1\": 230, \"12\": 7, \"9\": 3}, \"2\": {\"2\": 223, \"4\": 17}, \"0\": {\"0\": 171, \"5\": 16, \"7\": 40, \"8\": 10, \"14\": 3}, \"3\": {\"3\": 75, \"13\": 115, \"11\": 33, \"14\": 8, \"8\": 2, \"4\": 6, \"15\": 1}, \"8\": {\"8\": 205, \"5\": 11, \"0\": 21, \"7\": 1, \"4\": 2}, \"12\": {\"12\": 239, \"10\": 1}, \"5\": {\"5\": 121, \"0\": 42, \"7\": 47, \"14\": 7, \"8\": 23}, \"15\": {\"15\": 240}, \"7\": {\"7\": 151, \"14\": 26, \"0\": 38, \"5\": 24, \"8\": 1}, \"4\": {\"4\": 227, \"2\": 13}, \"14\": {\"7\": 42, \"0\": 9, \"14\": 175, \"5\": 6, \"4\": 3, \"13\": 1, \"2\": 4}, \"10\": {\"10\": 166, \"12\": 44, \"6\": 30}, \"6\": {\"6\": 124, \"10\": 92, \"12\": 24}, \"13\": {\"13\": 144, \"8\": 1, \"4\": 68, \"3\": 18, \"11\": 6, \"14\": 3}, \"9\": {\"9\": 227, \"12\": 12, \"2\": 1}}, \"O_8\": {\"9\": {\"9\": 240}, \"11\": {\"1\": 34, \"14\": 28, \"11\": 39, \"8\": 5, \"7\": 15, \"4\": 28, \"6\": 29, \"5\": 8, \"10\": 38, \"13\": 16}, \"8\": {\"1\": 9, \"14\": 45, \"7\": 20, \"8\": 120, \"11\": 8, \"6\": 22, \"4\": 15, \"0\": 1}, \"4\": {\"13\": 3, \"6\": 51, \"4\": 54, \"14\": 51, \"8\": 19, \"11\": 18, \"7\": 26, \"10\": 1, \"1\": 15, \"5\": 1, \"0\": 1}, \"13\": {\"10\": 61, \"5\": 32, \"1\": 19, \"12\": 3, \"4\": 10, \"11\": 13, \"7\": 29, \"13\": 54, \"6\": 11, \"2\": 1, \"14\": 5, \"15\": 2}, \"14\": {\"0\": 10, \"4\": 63, \"14\": 114, \"6\": 15, \"11\": 14, \"7\": 6, \"8\": 10, \"1\": 6, \"10\": 2}, \"2\": {\"3\": 45, \"15\": 62, \"2\": 111, \"12\": 16, \"5\": 3, \"10\": 1, \"13\": 2}, \"3\": {\"3\": 194, \"2\": 33, \"15\": 10, \"12\": 3}, \"1\": {\"10\": 43, \"13\": 26, \"1\": 51, \"11\": 32, \"7\": 13, \"6\": 26, \"14\": 15, \"5\": 20, \"4\": 12, \"12\": 1, \"8\": 1}, \"0\": {\"0\": 233, \"14\": 3, \"4\": 1, \"8\": 3}, \"5\": {\"11\": 18, \"5\": 73, \"1\": 31, \"14\": 9, \"13\": 44, \"10\": 39, \"4\": 13, \"7\": 6, \"6\": 6, \"12\": 1}, \"15\": {\"15\": 120, \"12\": 45, \"2\": 62, \"5\": 2, \"13\": 3, \"3\": 8}, \"10\": {\"10\": 40, \"5\": 48, \"11\": 24, \"13\": 46, \"7\": 16, \"6\": 18, \"1\": 26, \"4\": 7, \"14\": 13, \"2\": 1, \"8\": 1}, \"12\": {\"12\": 110, \"15\": 95, \"2\": 22, \"13\": 4, \"3\": 4, \"10\": 2, \"1\": 2, \"7\": 1}, \"6\": {\"7\": 44, \"13\": 18, \"1\": 28, \"10\": 14, \"14\": 21, \"11\": 23, \"4\": 27, \"6\": 52, \"8\": 8, \"5\": 5}, \"7\": {\"7\": 58, \"4\": 21, \"11\": 18, \"6\": 47, \"13\": 42, \"5\": 2, \"1\": 20, \"14\": 12, \"10\": 13, \"8\": 6, \"0\": 1}}, \"W_4\": {\"71\": {\"71\": 84, \"40\": 4, \"95\": 1, \"127\": 5, \"105\": 1, \"3\": 2, \"1\": 1, \"49\": 1, \"89\": 1, \"24\": 1, \"72\": 2, \"84\": 1}, \"17\": {\"79\": 1, \"104\": 1, \"17\": 9, \"86\": 1, \"67\": 1, \"102\": 1, \"112\": 2, \"115\": 2, \"124\": 2}, \"105\": {\"105\": 64, \"84\": 1, \"88\": 3, \"72\": 1, \"14\": 5, \"109\": 1, \"7\": 2, \"71\": 5, \"4\": 1, \"39\": 4, \"69\": 3, \"76\": 2, \"126\": 1, \"73\": 1, \"127\": 3, \"107\": 1, \"87\": 1, \"40\": 1}, \"92\": {\"92\": 14, \"1\": 1, \"83\": 2, \"15\": 1, \"128\": 1, \"64\": 2, \"121\": 2, \"45\": 2, \"5\": 3}, \"100\": {\"100\": 11, \"40\": 1, \"85\": 1, \"89\": 5, \"5\": 1, \"84\": 1}, \"6\": {\"6\": 22, \"111\": 2}, \"36\": {\"27\": 4, \"36\": 108, \"30\": 3, \"94\": 4, \"43\": 3, \"70\": 1, \"87\": 1, \"109\": 1, \"10\": 1, \"88\": 1, \"0\": 1}, \"35\": {\"35\": 12}, \"63\": {\"63\": 14, \"17\": 1, \"67\": 1}, \"104\": {\"104\": 8, \"92\": 1, \"37\": 1, \"59\": 2, \"86\": 1, \"68\": 1, \"124\": 2}, \"114\": {\"114\": 95, \"1\": 7, \"49\": 2, \"70\": 1, \"84\": 2, \"107\": 6, \"3\": 7, \"53\": 1, \"44\": 1, \"89\": 1, \"24\": 1, \"10\": 1, \"5\": 2, \"39\": 1}, \"68\": {\"68\": 15, \"25\": 1}, \"109\": {\"109\": 90, \"126\": 1, \"43\": 1, \"108\": 11, \"10\": 1, \"70\": 7, \"24\": 1, \"39\": 4}, \"27\": {\"109\": 2, \"27\": 74, \"78\": 1, \"36\": 8, \"10\": 1, \"122\": 1, \"87\": 1, \"43\": 6, \"88\": 2, \"126\": 1, \"0\": 1, \"24\": 1, \"70\": 1}, \"79\": {\"79\": 16}, \"0\": {\"0\": 64, \"30\": 2, \"8\": 8, \"87\": 6, \"94\": 4, \"1\": 1, \"39\": 3, \"10\": 1, \"88\": 1, \"15\": 2, \"122\": 3, \"106\": 5, \"126\": 1, \"7\": 1, \"110\": 1, \"108\": 1, \"11\": 1, \"109\": 1}, \"28\": {\"28\": 14, \"64\": 1, \"102\": 1, \"67\": 1, \"22\": 1, \"74\": 1, \"6\": 1}, \"4\": {\"4\": 101, \"88\": 1, \"108\": 1, \"7\": 1}, \"106\": {\"106\": 65, \"21\": 1, \"51\": 1, \"12\": 16, \"101\": 2, \"69\": 1, \"93\": 2, \"7\": 8, \"10\": 1, \"72\": 2, \"108\": 1, \"114\": 1, \"88\": 1}, \"40\": {\"40\": 85, \"71\": 9, \"107\": 4, \"14\": 2, \"1\": 13, \"97\": 1, \"114\": 3, \"69\": 2, \"84\": 4, \"3\": 5, \"105\": 3, \"99\": 1, \"108\": 1, \"109\": 1}, \"127\": {\"127\": 95, \"36\": 1, \"105\": 4, \"43\": 1, \"40\": 1, \"72\": 2, \"107\": 1, \"7\": 1, \"71\": 2}, \"57\": {\"57\": 12, \"47\": 1, \"88\": 2, \"32\": 1}, \"60\": {\"60\": 16, \"93\": 2, \"12\": 1, \"7\": 4, \"62\": 3, \"118\": 1, \"11\": 1, \"84\": 2, \"110\": 1, \"16\": 1}, \"69\": {\"69\": 102, \"84\": 7, \"108\": 1, \"60\": 1, \"105\": 1, \"27\": 1, \"126\": 1, \"14\": 1, \"43\": 2, \"99\": 1, \"71\": 2, \"11\": 1, \"40\": 2, \"39\": 1}, \"84\": {\"69\": 13, \"84\": 89, \"21\": 1, \"99\": 4, \"70\": 1, \"26\": 2, \"40\": 1, \"121\": 1, \"105\": 4, \"5\": 1, \"3\": 2, \"14\": 8, \"18\": 1, \"88\": 1, \"114\": 1, \"43\": 2}, \"24\": {\"24\": 86, \"10\": 13, \"21\": 1, \"97\": 1, \"94\": 1, \"108\": 1, \"88\": 1, \"70\": 8, \"27\": 6, \"126\": 1, \"43\": 1}, \"94\": {\"24\": 1, \"94\": 63, \"15\": 10, \"8\": 2, \"36\": 3, \"0\": 6, \"30\": 1, \"109\": 1, \"88\": 1}, \"7\": {\"7\": 95, \"24\": 1, \"101\": 4, \"127\": 1, \"60\": 3, \"62\": 2, \"106\": 2, \"109\": 2, \"88\": 1, \"93\": 3, \"12\": 2, \"96\": 1, \"9\": 1, \"27\": 1, \"11\": 1}, \"96\": {\"94\": 1, \"69\": 1, \"16\": 1, \"8\": 3, \"96\": 4, \"59\": 1, \"85\": 1, \"11\": 1, \"113\": 1, \"26\": 1, \"105\": 2, \"82\": 1, \"126\": 1, \"2\": 1}, \"116\": {\"116\": 22, \"104\": 1, \"111\": 1, \"102\": 1, \"124\": 2, \"117\": 1}, \"47\": {\"47\": 5, \"24\": 1, \"73\": 2, \"58\": 2, \"90\": 1, \"70\": 1}, \"119\": {\"119\": 10, \"37\": 2, \"124\": 1, \"13\": 1, \"50\": 2}, \"74\": {\"32\": 3, \"74\": 9, \"5\": 2, \"113\": 1, \"128\": 1}, \"93\": {\"93\": 113, \"16\": 4, \"60\": 3, \"113\": 3, \"118\": 3, \"7\": 7, \"3\": 1, \"101\": 3, \"62\": 2, \"11\": 7, \"39\": 1, \"122\": 1, \"69\": 1, \"15\": 1, \"110\": 2}, \"2\": {\"2\": 26, \"63\": 2}, \"37\": {\"104\": 2, \"37\": 6, \"88\": 1, \"102\": 1, \"67\": 1, \"124\": 2, \"42\": 1, \"6\": 2}, \"15\": {\"15\": 94, \"8\": 14, \"30\": 2, \"94\": 7, \"10\": 2, \"0\": 5, \"87\": 3, \"70\": 1}, \"102\": {\"102\": 128, \"90\": 1, \"124\": 2, \"22\": 1, \"123\": 1, \"119\": 2, \"116\": 1}, \"87\": {\"87\": 89, \"108\": 1, \"8\": 2, \"122\": 6, \"43\": 1, \"0\": 6, \"30\": 3, \"94\": 2, \"118\": 5, \"126\": 2, \"7\": 1, \"15\": 3, \"39\": 1}, \"107\": {\"107\": 122, \"95\": 1, \"3\": 6, \"98\": 1, \"44\": 1, \"114\": 6, \"1\": 1, \"39\": 1, \"40\": 3, \"5\": 2}, \"61\": {\"61\": 10, \"109\": 1, \"49\": 1, \"31\": 1, \"21\": 1, \"81\": 1, \"44\": 1}, \"78\": {\"78\": 25, \"70\": 2, \"88\": 7, \"97\": 2}, \"9\": {\"9\": 13, \"53\": 2, \"3\": 1, \"72\": 1, \"127\": 1, \"40\": 2, \"96\": 1, \"85\": 2, \"95\": 1, \"46\": 1, \"105\": 1, \"89\": 1, \"98\": 1}, \"32\": {\"32\": 21, \"107\": 1, \"20\": 1, \"5\": 1, \"33\": 1, \"95\": 1, \"44\": 1, \"89\": 1}, \"14\": {\"14\": 91, \"26\": 3, \"31\": 1, \"71\": 1, \"84\": 2, \"40\": 1, \"93\": 1, \"105\": 2, \"69\": 2, \"1\": 1, \"7\": 2, \"72\": 1, \"16\": 2, \"3\": 1, \"127\": 1}, \"62\": {\"62\": 44, \"101\": 1, \"11\": 6, \"88\": 2, \"93\": 2, \"113\": 1, \"109\": 1, \"10\": 1, \"108\": 1, \"110\": 1}, \"1\": {\"37\": 1, \"105\": 3, \"1\": 49, \"49\": 3, \"114\": 6, \"71\": 9, \"40\": 16, \"3\": 8, \"90\": 1, \"107\": 4, \"24\": 1, \"70\": 1}, \"23\": {\"24\": 1, \"23\": 5, \"60\": 2, \"33\": 1, \"108\": 1, \"26\": 1, \"38\": 1, \"0\": 1, \"97\": 1, \"12\": 1, \"101\": 1}, \"95\": {\"95\": 17, \"34\": 1, \"71\": 1, \"82\": 1, \"52\": 4, \"85\": 1, \"11\": 1, \"32\": 1, \"9\": 3, \"24\": 1, \"54\": 1}, \"56\": {\"56\": 12}, \"91\": {\"91\": 10, \"29\": 4, \"31\": 1, \"45\": 1, \"64\": 2, \"112\": 2, \"68\": 2, \"73\": 2}, \"34\": {\"34\": 11, \"1\": 1, \"20\": 2, \"107\": 4, \"49\": 2, \"46\": 1, \"105\": 1, \"52\": 1, \"43\": 1, \"54\": 3, \"93\": 1, \"114\": 2, \"3\": 1, \"99\": 1}, \"25\": {\"25\": 11, \"58\": 2, \"120\": 1, \"75\": 1, \"100\": 1}, \"33\": {\"33\": 119, \"128\": 1, \"121\": 1, \"3\": 1, \"5\": 2}, \"16\": {\"16\": 98, \"69\": 2, \"84\": 3, \"70\": 1, \"7\": 1, \"93\": 12, \"11\": 4, \"117\": 1, \"88\": 1, \"90\": 1}, \"26\": {\"26\": 113, \"78\": 2, \"60\": 1, \"21\": 1, \"84\": 1, \"18\": 1, \"126\": 2, \"16\": 2, \"88\": 1, \"93\": 2}, \"5\": {\"5\": 105, \"8\": 1, \"100\": 1, \"76\": 1, \"1\": 2, \"32\": 2, \"18\": 4, \"10\": 2, \"107\": 5, \"33\": 4, \"39\": 1, \"114\": 1, \"108\": 1, \"24\": 1, \"84\": 1, \"88\": 1, \"69\": 1, \"40\": 1, \"109\": 1}, \"123\": {\"123\": 12, \"127\": 1, \"80\": 1, \"102\": 2}, \"8\": {\"8\": 88, \"15\": 5, \"110\": 3, \"84\": 1, \"7\": 1, \"0\": 10, \"11\": 4, \"94\": 2, \"87\": 2, \"62\": 1, \"43\": 1}, \"83\": {\"83\": 8, \"33\": 1, \"89\": 1, \"82\": 1, \"38\": 1, \"19\": 1, \"36\": 1, \"50\": 1, \"114\": 3, \"31\": 1, \"78\": 1, \"44\": 1, \"74\": 1, \"20\": 1, \"128\": 1, \"107\": 3, \"34\": 1}, \"125\": {\"125\": 128, \"111\": 2, \"124\": 3, \"59\": 1}, \"51\": {\"69\": 2, \"51\": 1, \"31\": 1, \"127\": 1, \"88\": 1, \"89\": 2, \"96\": 1, \"76\": 1, \"84\": 1, \"54\": 3, \"97\": 1, \"73\": 1}, \"22\": {\"22\": 10, \"90\": 2, \"79\": 1, \"112\": 2, \"121\": 1}, \"54\": {\"54\": 10, \"85\": 1, \"68\": 1, \"17\": 1, \"29\": 1, \"50\": 1, \"115\": 1}, \"66\": {\"17\": 1, \"74\": 1, \"66\": 8, \"82\": 1, \"50\": 1, \"63\": 2, \"41\": 1, \"64\": 1}, \"59\": {\"17\": 2, \"59\": 8, \"52\": 1, \"21\": 1}, \"111\": {\"17\": 1, \"111\": 118, \"129\": 1, \"6\": 1, \"125\": 3, \"124\": 2, \"10\": 1, \"88\": 1}, \"77\": {\"77\": 12}, \"103\": {\"77\": 2, \"103\": 12, \"56\": 2}, \"20\": {\"20\": 11, \"2\": 1, \"14\": 2, \"40\": 2}, \"124\": {\"124\": 101, \"22\": 1, \"129\": 1, \"42\": 3, \"111\": 7, \"90\": 1, \"102\": 1, \"17\": 2, \"125\": 1, \"98\": 2}, \"99\": {\"84\": 4, \"89\": 1, \"40\": 5, \"3\": 2, \"99\": 22, \"107\": 1, \"49\": 1, \"12\": 1, \"105\": 1, \"109\": 1, \"127\": 1}, \"120\": {\"109\": 1, \"120\": 11, \"100\": 1, \"17\": 1, \"112\": 2, \"31\": 1, \"6\": 1, \"21\": 1, \"98\": 1}, \"76\": {\"20\": 2, \"127\": 1, \"76\": 7, \"100\": 1, \"30\": 1, \"51\": 1, \"55\": 1, \"107\": 2}, \"110\": {\"110\": 67, \"8\": 7, \"11\": 15, \"126\": 2, \"113\": 2, \"70\": 2, \"118\": 8, \"122\": 3, \"87\": 1, \"39\": 3, \"27\": 1, \"0\": 1, \"93\": 3, \"7\": 1}, \"29\": {\"29\": 28, \"120\": 1, \"10\": 1, \"82\": 2}, \"118\": {\"118\": 75, \"11\": 3, \"8\": 2, \"122\": 13, \"105\": 3, \"109\": 2, \"110\": 4, \"87\": 3, \"126\": 1, \"21\": 1, \"78\": 1, \"93\": 1, \"7\": 1, \"0\": 1, \"88\": 1}, \"58\": {\"58\": 7, \"68\": 1, \"82\": 1, \"88\": 2, \"47\": 3, \"85\": 1, \"25\": 1}, \"13\": {\"13\": 9, \"65\": 1, \"123\": 1, \"111\": 1, \"104\": 1, \"79\": 2, \"48\": 1}, \"89\": {\"64\": 2, \"89\": 25, \"85\": 1, \"5\": 2, \"33\": 2}, \"31\": {\"64\": 1, \"83\": 1, \"31\": 5, \"73\": 1, \"33\": 2, \"109\": 1, \"38\": 1, \"120\": 2, \"90\": 2}, \"64\": {\"92\": 1, \"66\": 1, \"28\": 1, \"64\": 4, \"82\": 2, \"102\": 1, \"41\": 1, \"104\": 1, \"103\": 1, \"7\": 1, \"83\": 2}, \"65\": {\"65\": 11, \"63\": 1}, \"101\": {\"101\": 115, \"31\": 1, \"11\": 1, \"7\": 9, \"110\": 1, \"26\": 1, \"62\": 2, \"15\": 1, \"33\": 1}, \"126\": {\"126\": 105, \"109\": 6, \"70\": 1, \"93\": 1, \"39\": 4, \"110\": 1}, \"108\": {\"30\": 2, \"108\": 51, \"39\": 1, \"24\": 1, \"109\": 11, \"70\": 10, \"107\": 1, \"3\": 1, \"88\": 8, \"10\": 5, \"82\": 1}, \"45\": {\"74\": 1, \"45\": 10, \"121\": 1, \"103\": 1, \"67\": 1, \"120\": 1, \"82\": 1}, \"21\": {\"21\": 35, \"88\": 2, \"22\": 1, \"78\": 2}, \"30\": {\"30\": 61, \"8\": 1, \"0\": 1, \"39\": 1, \"94\": 1, \"43\": 3, \"87\": 1, \"36\": 4, \"70\": 1, \"88\": 1, \"15\": 1}, \"82\": {\"82\": 13, \"33\": 1, \"19\": 2, \"55\": 1, \"64\": 3, \"42\": 1, \"98\": 4, \"41\": 1, \"73\": 1, \"100\": 1, \"32\": 1, \"29\": 1, \"83\": 1, \"124\": 1}, \"85\": {\"95\": 2, \"85\": 19, \"33\": 1, \"82\": 1, \"9\": 2, \"103\": 1, \"53\": 2}, \"88\": {\"88\": 114, \"78\": 4, \"39\": 8, \"109\": 1, \"21\": 1, \"70\": 1, \"108\": 3}, \"41\": {\"41\": 11, \"98\": 2, \"88\": 1, \"55\": 1, \"29\": 1}, \"128\": {\"89\": 2, \"32\": 1, \"128\": 16, \"9\": 1, \"85\": 1, \"83\": 1, \"33\": 1, \"114\": 1}, \"39\": {\"39\": 80, \"88\": 2, \"109\": 7, \"126\": 3, \"33\": 2, \"108\": 4, \"10\": 2}, \"18\": {\"18\": 100, \"70\": 1, \"21\": 1, \"84\": 4, \"16\": 2, \"10\": 1, \"39\": 2, \"99\": 1, \"88\": 1, \"40\": 1, \"126\": 2, \"69\": 4}, \"113\": {\"113\": 105, \"26\": 5, \"62\": 1, \"39\": 4, \"110\": 1, \"11\": 4, \"126\": 4, \"118\": 1, \"70\": 1, \"93\": 1, \"24\": 1}, \"11\": {\"11\": 107, \"62\": 4, \"93\": 7, \"118\": 1, \"110\": 9, \"90\": 1, \"0\": 1, \"39\": 1, \"87\": 1, \"108\": 1, \"7\": 2, \"8\": 2, \"109\": 1}, \"43\": {\"43\": 93, \"27\": 8, \"70\": 3, \"110\": 1, \"108\": 1, \"109\": 2, \"87\": 1, \"40\": 1, \"126\": 2, \"15\": 2, \"0\": 1, \"10\": 2, \"30\": 1, \"39\": 1, \"36\": 1}, \"12\": {\"12\": 84, \"30\": 1, \"60\": 1, \"106\": 9, \"16\": 2, \"101\": 1, \"110\": 1, \"39\": 1}, \"122\": {\"122\": 53, \"87\": 13, \"110\": 2, \"24\": 1, \"0\": 2, \"109\": 2, \"118\": 4, \"88\": 2, \"126\": 2, \"93\": 1, \"11\": 1, \"39\": 1}, \"52\": {\"52\": 9, \"71\": 2, \"55\": 1, \"95\": 2, \"9\": 1, \"41\": 2, \"32\": 1, \"20\": 1, \"98\": 1}, \"44\": {\"44\": 50, \"114\": 2, \"5\": 2, \"3\": 2, \"33\": 1, \"107\": 1, \"40\": 1, \"32\": 1, \"31\": 1, \"28\": 1, \"20\": 1, \"82\": 1}, \"90\": {\"90\": 132, \"92\": 2}, \"112\": {\"82\": 1, \"112\": 5, \"64\": 1, \"25\": 1, \"120\": 1, \"33\": 2, \"56\": 1, \"55\": 1, \"22\": 1, \"31\": 1, \"29\": 1}, \"86\": {\"86\": 25, \"59\": 1, \"37\": 1, \"4\": 1}, \"3\": {\"3\": 66, \"78\": 1, \"114\": 15, \"40\": 7, \"1\": 6, \"107\": 11, \"84\": 4, \"43\": 2, \"49\": 1, \"105\": 1, \"18\": 2}, \"38\": {\"38\": 16}, \"121\": {\"121\": 26, \"44\": 3, \"90\": 1, \"83\": 2}, \"46\": {\"40\": 1, \"121\": 1, \"76\": 1, \"46\": 11, \"33\": 2, \"55\": 1, \"44\": 1, \"58\": 1, \"50\": 1}, \"70\": {\"108\": 4, \"70\": 85, \"24\": 10, \"109\": 6, \"27\": 1, \"10\": 14, \"117\": 1, \"97\": 1, \"43\": 1, \"90\": 1}, \"67\": {\"67\": 10, \"65\": 2, \"63\": 1, \"117\": 2, \"28\": 1}, \"53\": {\"53\": 11, \"107\": 2, \"85\": 3}, \"49\": {\"107\": 3, \"76\": 1, \"127\": 1, \"105\": 3, \"53\": 1, \"1\": 1, \"34\": 1, \"14\": 2, \"49\": 12, \"99\": 2, \"44\": 2, \"51\": 1, \"40\": 1, \"3\": 1}, \"42\": {\"42\": 14, \"13\": 1, \"129\": 3, \"124\": 2, \"98\": 1, \"50\": 1, \"102\": 1, \"91\": 1, \"37\": 1, \"116\": 1, \"2\": 1, \"111\": 1}, \"10\": {\"10\": 77, \"24\": 15, \"88\": 4, \"109\": 2, \"39\": 2, \"70\": 9, \"108\": 6, \"36\": 1, \"27\": 2}, \"50\": {\"42\": 3, \"50\": 7, \"92\": 1, \"29\": 1, \"25\": 1, \"104\": 2, \"123\": 1}, \"73\": {\"47\": 3, \"120\": 2, \"73\": 14, \"125\": 1, \"89\": 1, \"63\": 1, \"28\": 1, \"74\": 1}, \"115\": {\"37\": 2, \"89\": 1, \"115\": 5, \"4\": 3, \"64\": 2, \"83\": 1, \"48\": 1, \"102\": 1}, \"80\": {\"80\": 15, \"41\": 1}, \"19\": {\"31\": 1, \"83\": 1, \"19\": 19, \"55\": 1, \"89\": 1, \"26\": 1, \"28\": 2, \"82\": 1, \"113\": 1}, \"55\": {\"55\": 8, \"29\": 3, \"46\": 1, \"91\": 1, \"41\": 1, \"95\": 1, \"52\": 1}, \"72\": {\"105\": 3, \"72\": 13, \"7\": 2, \"30\": 1, \"26\": 1, \"40\": 2, \"71\": 2, \"1\": 1, \"93\": 1, \"127\": 2, \"14\": 2, \"114\": 1, \"69\": 1}, \"117\": {\"117\": 105, \"63\": 1, \"65\": 1, \"73\": 2, \"70\": 1, \"33\": 2, \"45\": 2, \"2\": 2}, \"81\": {\"81\": 30, \"89\": 1, \"70\": 1, \"61\": 1, \"21\": 1, \"18\": 2}, \"75\": {\"9\": 1, \"75\": 7, \"127\": 1, \"29\": 1, \"34\": 1, \"25\": 1, \"53\": 1, \"77\": 2, \"95\": 1}, \"98\": {\"98\": 110, \"52\": 1, \"41\": 1, \"82\": 4, \"124\": 1, \"58\": 1, \"88\": 1, \"33\": 1}, \"48\": {\"102\": 1, \"90\": 1, \"22\": 1, \"48\": 10, \"129\": 2, \"86\": 1}, \"129\": {\"129\": 20, \"42\": 3, \"48\": 2, \"124\": 1, \"67\": 2}, \"97\": {\"0\": 1, \"97\": 11, \"8\": 1, \"24\": 2, \"73\": 1, \"70\": 2, \"88\": 2}}, \"W_1\": {\"105\": {\"105\": 69, \"127\": 3, \"62\": 2, \"87\": 1, \"101\": 2, \"84\": 2, \"107\": 1, \"106\": 2, \"14\": 2}, \"100\": {\"100\": 6, \"74\": 1, \"19\": 1, \"38\": 2, \"128\": 2, \"90\": 1, \"20\": 1, \"81\": 1, \"40\": 1}, \"112\": {\"67\": 2, \"112\": 9, \"68\": 1, \"103\": 1, \"17\": 1, \"91\": 2}, \"123\": {\"123\": 14, \"13\": 1, \"2\": 1}, \"13\": {\"123\": 1, \"13\": 9, \"115\": 2, \"2\": 2, \"64\": 1, \"57\": 1}, \"81\": {\"81\": 15, \"105\": 3, \"74\": 1, \"34\": 1, \"114\": 1, \"99\": 1, \"3\": 1, \"33\": 3, \"101\": 2}, \"124\": {\"67\": 1, \"86\": 1, \"124\": 101, \"116\": 2, \"6\": 2, \"102\": 4, \"5\": 3, \"40\": 1, \"111\": 3, \"104\": 1, \"117\": 1}, \"122\": {\"122\": 67, \"43\": 12, \"97\": 1, \"87\": 2, \"8\": 3, \"27\": 1, \"126\": 1, \"118\": 1}, \"111\": {\"111\": 109, \"6\": 5, \"68\": 1, \"109\": 2, \"102\": 1, \"5\": 2}, \"93\": {\"93\": 124, \"122\": 4, \"97\": 1, \"126\": 6, \"8\": 5, \"21\": 1, \"108\": 1, \"27\": 4, \"11\": 3, \"43\": 6, \"87\": 1, \"94\": 1, \"88\": 1}, \"106\": {\"105\": 3, \"106\": 97, \"0\": 1, \"14\": 1, \"12\": 6, \"101\": 3, \"84\": 2, \"88\": 2, \"39\": 1, \"62\": 1, \"10\": 1}, \"113\": {\"113\": 113, \"18\": 4, \"109\": 1, \"16\": 4, \"118\": 2}, \"95\": {\"95\": 34, \"34\": 1, \"1\": 1}, \"87\": {\"93\": 4, \"122\": 6, \"87\": 76, \"39\": 1, \"16\": 1, \"8\": 11, \"126\": 1, \"43\": 5, \"1\": 1, \"94\": 1, \"18\": 1}, \"86\": {\"86\": 20, \"124\": 6, \"24\": 1, \"116\": 2, \"129\": 1, \"79\": 1, \"55\": 1, \"111\": 3, \"5\": 1}, \"67\": {\"67\": 16}, \"85\": {\"29\": 1, \"85\": 22, \"83\": 1, \"103\": 2, \"52\": 1, \"98\": 2, \"53\": 1, \"92\": 2}, \"82\": {\"82\": 29, \"45\": 1, \"90\": 3, \"25\": 1, \"83\": 2}, \"115\": {\"115\": 12}, \"7\": {\"7\": 120, \"69\": 2, \"84\": 18, \"118\": 1, \"106\": 1}, \"44\": {\"44\": 64, \"74\": 1, \"3\": 2, \"1\": 2, \"14\": 3, \"105\": 1, \"84\": 1, \"40\": 2}, \"65\": {\"28\": 2, \"65\": 9, \"104\": 1}, \"129\": {\"129\": 17, \"5\": 2, \"112\": 1, \"68\": 1, \"94\": 1, \"117\": 2, \"116\": 1, \"46\": 1, \"121\": 1, \"110\": 1}, \"42\": {\"65\": 1, \"28\": 1, \"56\": 1, \"41\": 1, \"57\": 2, \"25\": 2, \"42\": 16, \"73\": 1, \"83\": 1, \"54\": 1, \"129\": 1}, \"28\": {\"10\": 1, \"28\": 10, \"100\": 2, \"19\": 1, \"116\": 1, \"83\": 2, \"38\": 1, \"124\": 1, \"24\": 1}, \"0\": {\"0\": 69, \"39\": 1, \"110\": 9, \"36\": 1, \"8\": 1, \"15\": 1, \"24\": 1, \"94\": 1}, \"10\": {\"10\": 102, \"88\": 5, \"70\": 8, \"109\": 3, \"24\": 2}, \"76\": {\"44\": 1, \"76\": 8, \"3\": 1, \"126\": 1, \"40\": 1, \"99\": 1, \"72\": 2, \"18\": 1}, \"88\": {\"88\": 87, \"10\": 7, \"30\": 3, \"93\": 5, \"70\": 1, \"108\": 11, \"43\": 1, \"24\": 7, \"27\": 2, \"126\": 1, \"109\": 1}, \"29\": {\"29\": 25, \"128\": 1, \"34\": 2}, \"16\": {\"16\": 77, \"26\": 11, \"69\": 2, \"113\": 4, \"18\": 9, \"109\": 1, \"118\": 1, \"62\": 2, \"126\": 1}, \"41\": {\"41\": 10, \"67\": 2, \"57\": 1, \"6\": 1, \"98\": 2}, \"27\": {\"27\": 79, \"30\": 4, \"93\": 3, \"87\": 1, \"15\": 1, \"126\": 1, \"43\": 2, \"36\": 1}, \"33\": {\"33\": 114, \"114\": 3, \"1\": 1, \"121\": 1, \"54\": 1}, \"75\": {\"9\": 2, \"75\": 8, \"72\": 2, \"29\": 1, \"51\": 1, \"34\": 1, \"52\": 1}, \"48\": {\"48\": 11, \"115\": 1}, \"56\": {\"75\": 2, \"56\": 8, \"85\": 1, \"107\": 1}, \"9\": {\"9\": 23, \"114\": 2, \"127\": 1, \"89\": 1, \"34\": 1, \"44\": 2, \"10\": 1, \"40\": 1}, \"1\": {\"1\": 102, \"74\": 2, \"20\": 1, \"14\": 3, \"101\": 1, \"49\": 1, \"62\": 1, \"44\": 1, \"3\": 3, \"40\": 7, \"18\": 2, \"109\": 1, \"114\": 1}, \"39\": {\"39\": 92, \"108\": 1, \"43\": 1, \"11\": 6, \"109\": 3, \"126\": 1}, \"50\": {\"39\": 2, \"33\": 2, \"50\": 5, \"90\": 3, \"4\": 1, \"20\": 2, \"79\": 1}, \"99\": {\"33\": 3, \"99\": 15, \"89\": 1, \"90\": 1, \"39\": 1, \"9\": 1, \"44\": 1, \"20\": 1}, \"90\": {\"90\": 119, \"82\": 2, \"5\": 1}, \"45\": {\"45\": 7, \"129\": 2, \"37\": 1, \"64\": 1, \"39\": 1}, \"5\": {\"5\": 80, \"41\": 1, \"129\": 1, \"124\": 3, \"116\": 2, \"111\": 1}, \"128\": {\"53\": 2, \"19\": 3, \"95\": 1, \"98\": 1, \"128\": 10, \"99\": 1, \"82\": 1, \"29\": 1, \"73\": 1, \"89\": 1, \"100\": 1, \"92\": 1}, \"2\": {\"104\": 1, \"67\": 1, \"2\": 17, \"55\": 1, \"45\": 2, \"66\": 1, \"119\": 1, \"61\": 1, \"10\": 1, \"129\": 1, \"28\": 2, \"123\": 1, \"102\": 1, \"121\": 1}, \"53\": {\"53\": 9, \"56\": 2, \"89\": 2, \"114\": 2, \"32\": 2, \"128\": 2, \"52\": 1}, \"104\": {\"104\": 14, \"57\": 2}, \"32\": {\"32\": 31, \"56\": 1}, \"92\": {\"92\": 28}, \"78\": {\"78\": 12, \"108\": 2, \"10\": 1, \"39\": 1}, \"19\": {\"19\": 20, \"28\": 1, \"75\": 1, \"100\": 1, \"128\": 2, \"82\": 1, \"90\": 1, \"81\": 1}, \"120\": {\"120\": 13, \"93\": 1, \"42\": 2, \"128\": 2, \"28\": 1, \"19\": 1}, \"43\": {\"11\": 7, \"43\": 75, \"27\": 3, \"122\": 7, \"8\": 8, \"126\": 10, \"93\": 13, \"109\": 4, \"70\": 1}, \"74\": {\"74\": 10, \"9\": 2, \"14\": 1, \"73\": 1, \"100\": 1, \"89\": 1}, \"11\": {\"11\": 96, \"122\": 2, \"126\": 6, \"8\": 4, \"43\": 5, \"88\": 3, \"108\": 4, \"3\": 1, \"109\": 2, \"93\": 1, \"39\": 2, \"24\": 2, \"87\": 2}, \"26\": {\"26\": 112, \"16\": 5, \"18\": 7, \"69\": 4, \"70\": 2, \"60\": 1, \"21\": 1}, \"125\": {\"125\": 132}, \"64\": {\"67\": 1, \"64\": 12, \"59\": 1, \"45\": 2}, \"127\": {\"127\": 84, \"101\": 4, \"12\": 1, \"15\": 1, \"71\": 13, \"44\": 2, \"21\": 1, \"105\": 1, \"94\": 1}, \"83\": {\"83\": 5, \"52\": 1, \"90\": 1, \"49\": 1, \"98\": 3, \"30\": 1, \"73\": 1, \"42\": 2, \"82\": 3, \"3\": 1, \"29\": 1, \"33\": 1, \"103\": 1, \"95\": 1, \"77\": 2, \"28\": 1, \"91\": 2}, \"118\": {\"118\": 79, \"87\": 1, \"8\": 1, \"84\": 2, \"109\": 1}, \"103\": {\"85\": 3, \"103\": 8, \"29\": 1, \"68\": 1, \"83\": 2, \"128\": 1}, \"55\": {\"55\": 11, \"5\": 1}, \"110\": {\"110\": 113, \"0\": 8, \"106\": 1, \"7\": 2, \"12\": 1, \"23\": 1}, \"30\": {\"30\": 32, \"126\": 4, \"24\": 5, \"108\": 1, \"27\": 2, \"88\": 2, \"43\": 2, \"93\": 2, \"6\": 1, \"122\": 1}, \"51\": {\"51\": 14, \"47\": 1, \"92\": 1}, \"6\": {\"6\": 28, \"111\": 2, \"55\": 1, \"41\": 1}, \"96\": {\"60\": 1, \"105\": 1, \"122\": 2, \"30\": 2, \"108\": 2, \"96\": 8, \"47\": 1, \"18\": 1, \"69\": 1, \"94\": 1}, \"114\": {\"114\": 133, \"93\": 1, \"49\": 1, \"3\": 1, \"33\": 3, \"76\": 1, \"21\": 1, \"1\": 2, \"107\": 1}, \"69\": {\"69\": 86, \"26\": 10, \"62\": 5, \"16\": 3, \"109\": 1, \"84\": 2, \"113\": 1}, \"60\": {\"60\": 10, \"26\": 1, \"69\": 2, \"57\": 1, \"16\": 1, \"12\": 1}, \"94\": {\"94\": 70, \"122\": 1, \"15\": 2, \"12\": 2, \"36\": 7, \"27\": 3, \"110\": 1, \"0\": 1, \"8\": 2, \"109\": 1, \"87\": 1, \"93\": 1}, \"79\": {\"48\": 3, \"79\": 9}, \"126\": {\"126\": 85, \"122\": 6, \"97\": 2, \"12\": 1, \"108\": 2, \"8\": 3, \"11\": 7, \"43\": 11, \"93\": 9, \"24\": 1, \"39\": 5, \"30\": 1, \"88\": 1}, \"68\": {\"68\": 14, \"91\": 2}, \"72\": {\"75\": 3, \"72\": 16, \"74\": 1, \"1\": 1, \"81\": 1, \"71\": 1, \"101\": 4, \"49\": 1, \"114\": 2, \"34\": 1, \"105\": 1}, \"63\": {\"63\": 11, \"46\": 1, \"4\": 1, \"64\": 1, \"123\": 2}, \"22\": {\"64\": 2, \"22\": 10, \"2\": 2, \"96\": 1, \"5\": 1}, \"121\": {\"121\": 29, \"90\": 2, \"15\": 1}, \"71\": {\"71\": 76, \"72\": 1, \"70\": 1, \"101\": 8, \"127\": 10, \"12\": 1, \"40\": 3, \"24\": 1, \"10\": 1, \"75\": 1, \"105\": 2, \"62\": 1, \"90\": 1, \"109\": 1}, \"54\": {\"54\": 10, \"47\": 1, \"73\": 1, \"90\": 2, \"98\": 1, \"114\": 1}, \"102\": {\"102\": 116, \"109\": 1, \"117\": 1, \"129\": 2}, \"73\": {\"54\": 2, \"88\": 1, \"73\": 10, \"127\": 1, \"52\": 1, \"42\": 2, \"34\": 1, \"103\": 1, \"71\": 1}, \"38\": {\"38\": 15, \"19\": 1}, \"4\": {\"4\": 92, \"86\": 1, \"124\": 2, \"10\": 1, \"48\": 1, \"27\": 2, \"125\": 1}, \"52\": {\"52\": 15, \"53\": 2, \"73\": 1, \"28\": 1, \"85\": 1}, \"70\": {\"70\": 115, \"97\": 1, \"109\": 5, \"108\": 2, \"10\": 2, \"43\": 1, \"90\": 1, \"24\": 1}, \"91\": {\"91\": 20, \"42\": 1, \"53\": 1, \"98\": 1, \"41\": 1, \"73\": 1, \"77\": 1, \"54\": 2}, \"77\": {\"77\": 13, \"104\": 1, \"49\": 1, \"91\": 1}, \"20\": {\"20\": 13, \"114\": 2, \"74\": 1}, \"59\": {\"59\": 11, \"6\": 1}, \"40\": {\"40\": 73, \"1\": 5, \"97\": 1, \"69\": 1, \"34\": 1, \"7\": 5, \"9\": 4, \"101\": 11, \"109\": 2, \"71\": 2, \"105\": 2, \"12\": 6, \"14\": 7, \"3\": 1, \"44\": 5, \"127\": 5, \"108\": 2, \"35\": 2, \"106\": 1}, \"98\": {\"92\": 1, \"98\": 99, \"73\": 2, \"54\": 2, \"85\": 2, \"77\": 1, \"5\": 1}, \"46\": {\"55\": 1, \"46\": 8, \"25\": 1, \"111\": 1, \"59\": 1}, \"34\": {\"34\": 7, \"85\": 1, \"32\": 2, \"29\": 3, \"51\": 2, \"89\": 1, \"99\": 2, \"62\": 1, \"128\": 1, \"72\": 1, \"20\": 1, \"74\": 1, \"7\": 1, \"44\": 1, \"14\": 1, \"105\": 2, \"127\": 1, \"53\": 1, \"81\": 1, \"114\": 1}, \"24\": {\"24\": 60, \"10\": 5, \"126\": 4, \"88\": 12, \"11\": 2, \"108\": 7, \"30\": 1, \"122\": 1}, \"62\": {\"62\": 102, \"69\": 4, \"7\": 4, \"16\": 3, \"84\": 3, \"68\": 1, \"111\": 1, \"109\": 1, \"113\": 1}, \"14\": {\"14\": 80, \"31\": 1, \"1\": 1, \"40\": 4, \"105\": 1, \"44\": 8, \"62\": 1}, \"12\": {\"84\": 1, \"12\": 80, \"106\": 6, \"105\": 5, \"70\": 3, \"44\": 1, \"71\": 2, \"101\": 1, \"88\": 1, \"109\": 1, \"7\": 3}, \"84\": {\"84\": 92, \"62\": 4, \"35\": 2, \"9\": 1, \"23\": 1, \"7\": 22, \"69\": 1, \"12\": 2, \"18\": 1, \"105\": 3, \"8\": 1, \"109\": 1, \"106\": 2, \"70\": 1}, \"37\": {\"37\": 16}, \"97\": {\"27\": 3, \"97\": 11, \"94\": 1, \"93\": 2, \"11\": 2, \"24\": 1}, \"57\": {\"57\": 11, \"120\": 1}, \"49\": {\"49\": 15, \"32\": 1, \"72\": 2, \"14\": 1, \"73\": 1}, \"17\": {\"17\": 12, \"86\": 1, \"102\": 1, \"129\": 1, \"124\": 1}, \"109\": {\"109\": 94, \"70\": 9, \"126\": 1, \"10\": 2}, \"80\": {\"80\": 16}, \"66\": {\"120\": 2, \"66\": 11, \"45\": 1, \"82\": 1, \"28\": 1}, \"101\": {\"101\": 117, \"62\": 2, \"71\": 2, \"127\": 2, \"70\": 1}, \"89\": {\"89\": 23, \"25\": 1, \"90\": 1, \"32\": 1, \"128\": 3, \"114\": 1, \"107\": 1, \"57\": 1, \"47\": 2, \"42\": 1, \"83\": 1}, \"31\": {\"120\": 1, \"71\": 1, \"31\": 7, \"106\": 1, \"35\": 1, \"1\": 3, \"84\": 1, \"114\": 1}, \"21\": {\"21\": 34, \"78\": 2, \"68\": 1, \"39\": 2, \"98\": 1}, \"23\": {\"23\": 6, \"62\": 1, \"15\": 2, \"70\": 1, \"94\": 4, \"69\": 1, \"44\": 2, \"0\": 3, \"33\": 1, \"16\": 1, \"36\": 1, \"84\": 1}, \"25\": {\"38\": 1, \"25\": 7, \"42\": 3, \"117\": 2, \"82\": 1, \"128\": 1, \"30\": 1}, \"107\": {\"32\": 1, \"107\": 97, \"90\": 1, \"14\": 1, \"88\": 1, \"69\": 1, \"44\": 1, \"98\": 1, \"114\": 5, \"33\": 2, \"0\": 1}, \"3\": {\"71\": 2, \"3\": 73, \"1\": 7, \"110\": 1, \"10\": 1, \"0\": 1, \"125\": 1, \"33\": 2}, \"61\": {\"61\": 7, \"90\": 2, \"66\": 1, \"111\": 1, \"64\": 1}, \"117\": {\"117\": 125, \"88\": 1}, \"119\": {\"123\": 1, \"116\": 1, \"104\": 2, \"119\": 8, \"2\": 1, \"121\": 1, \"40\": 1, \"80\": 1}, \"58\": {\"58\": 12}, \"47\": {\"107\": 2, \"114\": 1, \"34\": 1, \"47\": 4, \"89\": 2, \"128\": 1, \"29\": 1}, \"116\": {\"116\": 28, \"22\": 1, \"117\": 2, \"82\": 1}, \"18\": {\"18\": 86, \"16\": 11, \"113\": 3, \"7\": 1, \"26\": 11, \"62\": 6, \"69\": 2, \"108\": 1, \"96\": 1, \"118\": 1, \"109\": 1}, \"36\": {\"36\": 101, \"109\": 1, \"87\": 1, \"110\": 5, \"0\": 5, \"94\": 3, \"15\": 2, \"70\": 1, \"97\": 2, \"10\": 1}, \"108\": {\"10\": 5, \"108\": 71, \"88\": 12, \"93\": 2, \"43\": 1, \"126\": 8, \"11\": 2, \"36\": 2, \"24\": 7, \"70\": 2}, \"15\": {\"94\": 3, \"0\": 3, \"15\": 79, \"36\": 13, \"110\": 2, \"8\": 2, \"87\": 1, \"88\": 1}, \"8\": {\"8\": 53, \"122\": 5, \"93\": 13, \"23\": 1, \"43\": 7, \"126\": 11, \"87\": 10, \"27\": 2, \"11\": 5, \"15\": 1, \"1\": 1, \"84\": 1, \"24\": 1, \"110\": 1, \"94\": 1, \"0\": 1}, \"35\": {\"35\": 10, \"7\": 2}}, \"C_5\": {\"26\": {\"26\": 16, \"42\": 1, \"53\": 2, \"38\": 1, \"19\": 2, \"55\": 2}, \"7\": {\"7\": 32}, \"56\": {\"56\": 136, \"0\": 4, \"52\": 1, \"46\": 1}, \"36\": {\"36\": 90, \"39\": 1, \"17\": 1}, \"47\": {\"47\": 79, \"57\": 19, \"52\": 2}, \"2\": {\"36\": 1, \"2\": 21, \"37\": 4, \"43\": 1, \"14\": 1}, \"15\": {\"15\": 137, \"16\": 11, \"11\": 4}, \"14\": {\"14\": 43, \"36\": 1}, \"27\": {\"27\": 143, \"8\": 2, \"48\": 1}, \"40\": {\"40\": 122, \"3\": 1, \"5\": 1}, \"49\": {\"49\": 36}, \"45\": {\"45\": 103, \"6\": 13, \"50\": 8}, \"46\": {\"46\": 133, \"56\": 1, \"40\": 1, \"0\": 1}, \"11\": {\"11\": 125, \"15\": 4, \"16\": 1}, \"30\": {\"30\": 105, \"9\": 7}, \"0\": {\"0\": 124}, \"10\": {\"10\": 67, \"24\": 1}, \"1\": {\"1\": 142, \"20\": 6}, \"42\": {\"42\": 37, \"28\": 1, \"23\": 1, \"34\": 1}, \"54\": {\"54\": 107, \"53\": 3, \"19\": 2}, \"55\": {\"55\": 139, \"23\": 4, \"19\": 2, \"53\": 1, \"34\": 2, \"42\": 1, \"26\": 1, \"54\": 2}, \"23\": {\"23\": 104, \"19\": 11, \"54\": 3, \"53\": 2, \"55\": 4}, \"25\": {\"25\": 152}, \"28\": {\"28\": 32}, \"32\": {\"32\": 31, \"39\": 1}, \"9\": {\"9\": 131, \"30\": 11}, \"39\": {\"39\": 20}, \"3\": {\"3\": 81, \"5\": 7, \"22\": 2, \"40\": 1, \"44\": 7, \"0\": 1, \"46\": 1}, \"29\": {\"29\": 118}, \"17\": {\"17\": 115, \"51\": 1}, \"35\": {\"34\": 2, \"35\": 26, \"43\": 2, \"2\": 2, \"36\": 2, \"39\": 1, \"37\": 1}, \"44\": {\"44\": 143, \"5\": 8, \"3\": 1}, \"5\": {\"5\": 114, \"44\": 14}, \"33\": {\"33\": 26, \"36\": 2, \"49\": 4}, \"34\": {\"49\": 2, \"34\": 31, \"23\": 2, \"33\": 1}, \"13\": {\"47\": 2, \"13\": 132, \"29\": 2, \"57\": 1, \"56\": 1}, \"41\": {\"41\": 14, \"14\": 1, \"37\": 1, \"33\": 3, \"35\": 1, \"49\": 3, \"8\": 2, \"34\": 1, \"48\": 1, \"36\": 1}, \"6\": {\"6\": 111, \"45\": 8, \"50\": 8, \"5\": 1}, \"51\": {\"51\": 136, \"33\": 1, \"27\": 1}, \"50\": {\"50\": 134, \"45\": 4, \"6\": 5, \"5\": 1}, \"37\": {\"2\": 3, \"39\": 1, \"37\": 13, \"13\": 1, \"36\": 1, \"43\": 1, \"41\": 2, \"8\": 1, \"29\": 1}, \"19\": {\"19\": 143, \"55\": 1}, \"57\": {\"57\": 120, \"47\": 9, \"52\": 3}, \"21\": {\"21\": 142, \"52\": 2}, \"24\": {\"24\": 80}, \"8\": {\"8\": 109, \"48\": 10, \"27\": 9, \"20\": 2}, \"12\": {\"12\": 86, \"4\": 5, \"45\": 3, \"6\": 2}, \"48\": {\"48\": 111, \"8\": 9, \"1\": 6, \"27\": 3, \"20\": 3}, \"43\": {\"43\": 145, \"2\": 1, \"41\": 1, \"53\": 1, \"37\": 1, \"24\": 1}, \"53\": {\"53\": 138, \"23\": 1, \"19\": 8, \"25\": 1}, \"38\": {\"38\": 17, \"7\": 6, \"51\": 2, \"55\": 1, \"32\": 2, \"17\": 4}, \"16\": {\"15\": 6, \"16\": 134, \"11\": 1, \"28\": 1}, \"22\": {\"22\": 26, \"3\": 1, \"40\": 1}, \"4\": {\"4\": 99, \"40\": 1}, \"18\": {\"18\": 64}, \"20\": {\"20\": 137, \"1\": 6, \"57\": 1}, \"52\": {\"52\": 132, \"21\": 8}, \"31\": {\"31\": 36}}, \"C_1\": {\"41\": {\"41\": 19, \"47\": 1, \"1\": 1, \"33\": 2, \"36\": 1}, \"40\": {\"40\": 108, \"6\": 2}, \"45\": {\"45\": 136, \"56\": 2}, \"51\": {\"51\": 145, \"41\": 2, \"55\": 1}, \"5\": {\"5\": 154}, \"30\": {\"30\": 117, \"13\": 3}, \"42\": {\"34\": 2, \"42\": 29, \"35\": 2, \"7\": 1, \"54\": 3, \"19\": 2, \"23\": 1}, \"46\": {\"46\": 103, \"45\": 3, \"6\": 9, \"50\": 14, \"56\": 1, \"5\": 4, \"40\": 2}, \"48\": {\"48\": 130, \"8\": 4}, \"53\": {\"53\": 133, \"26\": 2, \"19\": 9}, \"47\": {\"47\": 152}, \"49\": {\"49\": 23, \"43\": 7, \"39\": 2}, \"36\": {\"36\": 62, \"1\": 2}, \"32\": {\"49\": 1, \"32\": 30, \"43\": 1}, \"34\": {\"34\": 18, \"37\": 1, \"55\": 2, \"53\": 1, \"23\": 2}, \"29\": {\"29\": 138, \"12\": 1, \"57\": 1}, \"35\": {\"35\": 32, \"54\": 2, \"23\": 1, \"42\": 1}, \"3\": {\"3\": 126, \"45\": 2, \"56\": 6}, \"16\": {\"16\": 137, \"25\": 2, \"15\": 1}, \"26\": {\"26\": 16, \"54\": 3, \"19\": 5}, \"57\": {\"57\": 137, \"29\": 3, \"30\": 3, \"12\": 1}, \"44\": {\"44\": 128}, \"0\": {\"0\": 151, \"20\": 1}, \"4\": {\"4\": 132}, \"31\": {\"31\": 28}, \"11\": {\"11\": 140}, \"6\": {\"6\": 91, \"50\": 2, \"46\": 3}, \"54\": {\"54\": 103, \"23\": 1}, \"17\": {\"17\": 64}, \"20\": {\"20\": 123, \"0\": 1, \"12\": 4}, \"13\": {\"13\": 144, \"12\": 4, \"30\": 1, \"57\": 1}, \"33\": {\"33\": 32}, \"24\": {\"24\": 108}, \"52\": {\"52\": 97, \"21\": 21, \"22\": 4, \"27\": 8, \"57\": 1, \"47\": 1}, \"2\": {\"2\": 36}, \"19\": {\"19\": 147, \"34\": 1, \"26\": 2, \"53\": 4, \"23\": 1, \"25\": 1}, \"39\": {\"47\": 2, \"39\": 20, \"36\": 2, \"32\": 1, \"1\": 1, \"49\": 2}, \"8\": {\"8\": 140}, \"21\": {\"21\": 114, \"52\": 9, \"1\": 1}, \"10\": {\"10\": 88, \"15\": 7, \"16\": 1}, \"37\": {\"37\": 28, \"9\": 1, \"7\": 1, \"36\": 2}, \"25\": {\"25\": 137, \"16\": 3, \"11\": 2, \"18\": 2}, \"27\": {\"27\": 125, \"21\": 5}, \"23\": {\"23\": 131, \"34\": 1, \"19\": 1, \"24\": 1, \"54\": 2}, \"1\": {\"1\": 100}, \"50\": {\"50\": 152}, \"12\": {\"12\": 99, \"13\": 13, \"20\": 2, \"8\": 1, \"30\": 1}, \"18\": {\"18\": 72}, \"38\": {\"38\": 12, \"43\": 2, \"36\": 2, \"47\": 2, \"33\": 1, \"32\": 2, \"49\": 1, \"55\": 2}, \"14\": {\"14\": 22, \"29\": 2}, \"56\": {\"56\": 133, \"45\": 8, \"3\": 1}, \"55\": {\"55\": 154, \"51\": 2, \"49\": 1, \"33\": 2, \"43\": 1}, \"9\": {\"9\": 138}, \"15\": {\"15\": 140, \"10\": 6}, \"28\": {\"28\": 28}, \"7\": {\"7\": 27, \"51\": 1}, \"43\": {\"43\": 134, \"49\": 2}, \"22\": {\"22\": 124, \"21\": 1, \"12\": 2, \"52\": 2, \"0\": 6, \"20\": 1}}, \"W_2\": {\"3\": {\"3\": 90, \"40\": 7, \"106\": 2, \"7\": 1, \"71\": 11, \"84\": 2, \"1\": 9, \"127\": 3, \"39\": 3, \"14\": 1, \"69\": 1, \"109\": 1, \"70\": 1}, \"127\": {\"127\": 107, \"21\": 1, \"95\": 1, \"12\": 2, \"101\": 5, \"106\": 1, \"97\": 1, \"40\": 2}, \"58\": {\"58\": 19, \"52\": 1}, \"114\": {\"58\": 2, \"114\": 96, \"107\": 1, \"32\": 1, \"3\": 2, \"71\": 2, \"33\": 3, \"118\": 1, \"50\": 1, \"95\": 2, \"19\": 1}, \"111\": {\"111\": 131, \"124\": 6, \"102\": 1, \"125\": 1, \"15\": 1, \"5\": 3, \"109\": 1}, \"105\": {\"105\": 119, \"60\": 2, \"23\": 1, \"110\": 4, \"122\": 1, \"3\": 1, \"7\": 1, \"39\": 1, \"71\": 2}, \"118\": {\"21\": 1, \"118\": 55, \"30\": 1, \"122\": 3, \"24\": 2, \"11\": 4, \"0\": 1, \"10\": 1}, \"23\": {\"105\": 2, \"23\": 20, \"96\": 1, \"127\": 1, \"93\": 3, \"69\": 1, \"87\": 1, \"110\": 2, \"18\": 2, \"26\": 3, \"94\": 1, \"0\": 2, \"62\": 2, \"43\": 1, \"16\": 1, \"122\": 1}, \"21\": {\"21\": 48}, \"20\": {\"20\": 9, \"99\": 1, \"44\": 2, \"21\": 1, \"81\": 1, \"1\": 2}, \"75\": {\"58\": 1, \"75\": 9, \"98\": 1, \"9\": 2, \"2\": 1, \"114\": 1, \"49\": 1}, \"86\": {\"86\": 27, \"124\": 1, \"111\": 1, \"91\": 1, \"125\": 1, \"129\": 1}, \"60\": {\"60\": 17, \"105\": 1, \"14\": 1, \"62\": 3, \"88\": 1, \"40\": 1, \"93\": 1, \"8\": 2, \"11\": 1}, \"69\": {\"69\": 110, \"3\": 4, \"72\": 2, \"18\": 4, \"105\": 1, \"39\": 3, \"109\": 2, \"93\": 1, \"88\": 4, \"122\": 1, \"1\": 2, \"62\": 2, \"40\": 1, \"26\": 2, \"8\": 1}, \"99\": {\"99\": 20, \"120\": 2, \"72\": 1, \"78\": 1, \"89\": 6, \"85\": 1, \"3\": 1}, \"14\": {\"14\": 16, \"1\": 8, \"107\": 2, \"33\": 2, \"3\": 3, \"93\": 1, \"95\": 2, \"43\": 2, \"84\": 3, \"70\": 1, \"40\": 1, \"78\": 1, \"101\": 2, \"88\": 2, \"126\": 1, \"21\": 1}, \"25\": {\"25\": 12, \"29\": 2, \"89\": 1, \"41\": 1}, \"52\": {\"103\": 2, \"104\": 1, \"29\": 1, \"52\": 12, \"68\": 1, \"124\": 1, \"76\": 1, \"6\": 1}, \"47\": {\"47\": 6, \"44\": 2, \"25\": 1, \"38\": 1, \"78\": 1, \"100\": 1}, \"48\": {\"52\": 2, \"46\": 1, \"48\": 11, \"65\": 2, \"5\": 1, \"115\": 1, \"2\": 1, \"116\": 1}, \"27\": {\"27\": 51, \"78\": 1, \"88\": 1, \"24\": 1, \"70\": 1, \"39\": 1, \"8\": 1, \"101\": 1, \"10\": 1, \"11\": 1, \"21\": 1, \"30\": 1, \"108\": 1, \"15\": 1, \"36\": 1, \"109\": 1, \"126\": 1, \"94\": 1}, \"78\": {\"78\": 41, \"109\": 1, \"10\": 1, \"88\": 3, \"21\": 1, \"24\": 1}, \"8\": {\"8\": 77, \"11\": 11, \"15\": 1, \"19\": 1, \"94\": 1, \"7\": 1, \"0\": 2, \"122\": 19, \"30\": 2, \"106\": 1, \"27\": 1, \"108\": 1, \"36\": 4}, \"90\": {\"90\": 148, \"126\": 1, \"92\": 1, \"63\": 2, \"44\": 2, \"102\": 1, \"33\": 1, \"117\": 2, \"61\": 1, \"89\": 1}, \"103\": {\"103\": 10, \"25\": 1, \"68\": 2, \"41\": 1, \"77\": 1, \"42\": 1}, \"120\": {\"120\": 17, \"65\": 1, \"81\": 1, \"57\": 1}, \"96\": {\"96\": 11, \"93\": 3, \"62\": 2, \"14\": 1, \"107\": 1, \"60\": 1, \"40\": 1}, \"30\": {\"30\": 74, \"36\": 8, \"8\": 10, \"108\": 2, \"90\": 1, \"11\": 3, \"0\": 2, \"106\": 1, \"118\": 2, \"122\": 1}, \"33\": {\"33\": 145, \"84\": 1}, \"35\": {\"35\": 12}, \"108\": {\"108\": 94, \"43\": 7, \"27\": 4, \"94\": 1, \"30\": 3, \"36\": 4, \"122\": 3}, \"112\": {\"68\": 1, \"112\": 9, \"77\": 1, \"5\": 1, \"50\": 1, \"41\": 1, \"104\": 2}, \"40\": {\"71\": 3, \"40\": 67, \"61\": 2, \"74\": 1, \"3\": 17, \"62\": 7, \"21\": 1, \"1\": 4, \"88\": 2, \"95\": 5, \"84\": 2, \"39\": 2, \"127\": 5, \"69\": 3, \"18\": 1, \"7\": 6, \"114\": 1, \"70\": 2, \"14\": 1, \"107\": 2, \"35\": 1, \"106\": 1, \"30\": 1, \"12\": 1, \"109\": 1, \"43\": 1}, \"102\": {\"102\": 108, \"117\": 2, \"88\": 1, \"39\": 1, \"111\": 3, \"70\": 1}, \"56\": {\"56\": 11, \"128\": 1}, \"93\": {\"93\": 111, \"72\": 1, \"96\": 1, \"16\": 11, \"62\": 2, \"90\": 1, \"122\": 1, \"69\": 1, \"26\": 1, \"60\": 1, \"40\": 2, \"39\": 1, \"33\": 1, \"0\": 1}, \"68\": {\"68\": 12, \"42\": 1, \"90\": 1, \"88\": 1, \"52\": 1}, \"70\": {\"70\": 78, \"24\": 7, \"109\": 10, \"88\": 9, \"39\": 10, \"126\": 4, \"33\": 1, \"10\": 1, \"78\": 1, \"15\": 1, \"87\": 2}, \"7\": {\"7\": 106, \"60\": 1, \"106\": 2, \"105\": 5, \"62\": 4, \"109\": 1, \"16\": 1, \"12\": 4}, \"87\": {\"87\": 79, \"122\": 2, \"14\": 2, \"27\": 3, \"108\": 4, \"78\": 1, \"0\": 1, \"43\": 8, \"11\": 2, \"126\": 4, \"109\": 1, \"39\": 2, \"88\": 1, \"94\": 1, \"24\": 1}, \"54\": {\"112\": 1, \"54\": 15, \"128\": 2, \"34\": 2}, \"71\": {\"71\": 70, \"3\": 9, \"84\": 2, \"1\": 9, \"88\": 1, \"12\": 1, \"122\": 1, \"127\": 1, \"14\": 3, \"21\": 1, \"40\": 1, \"39\": 1}, \"80\": {\"80\": 15, \"102\": 1}, \"18\": {\"18\": 98, \"72\": 2, \"26\": 1, \"69\": 9, \"1\": 6, \"16\": 1, \"62\": 2, \"93\": 2, \"39\": 1}, \"101\": {\"101\": 108, \"14\": 1, \"78\": 1, \"106\": 4, \"40\": 2, \"1\": 2, \"3\": 2, \"127\": 2}, \"92\": {\"92\": 17, \"90\": 2, \"10\": 1, \"82\": 2, \"63\": 1, \"33\": 1, \"3\": 1, \"64\": 1, \"81\": 2}, \"32\": {\"32\": 24, \"76\": 1, \"61\": 1, \"1\": 3, \"114\": 1, \"33\": 2, \"74\": 1, \"107\": 2, \"124\": 1}, \"128\": {\"128\": 12, \"107\": 3, \"114\": 1, \"56\": 3, \"76\": 1, \"75\": 1, \"33\": 1, \"89\": 1, \"32\": 1}, \"6\": {\"6\": 32}, \"51\": {\"51\": 6, \"101\": 1, \"54\": 1, \"9\": 2, \"114\": 1, \"58\": 1, \"3\": 1, \"64\": 2, \"127\": 1, \"35\": 1, \"103\": 1, \"93\": 1, \"40\": 1}, \"85\": {\"22\": 1, \"85\": 14, \"46\": 1, \"77\": 1, \"64\": 1, \"28\": 1, \"105\": 1, \"119\": 1, \"82\": 1, \"5\": 1, \"92\": 1, \"50\": 3, \"45\": 2, \"52\": 1, \"73\": 1, \"98\": 1}, \"46\": {\"22\": 2, \"46\": 9, \"48\": 1, \"45\": 2, \"37\": 2}, \"22\": {\"22\": 13, \"67\": 1, \"53\": 2, \"104\": 1, \"80\": 1, \"42\": 1, \"85\": 1}, \"1\": {\"1\": 92, \"14\": 1, \"40\": 3, \"61\": 1, \"78\": 2, \"84\": 3, \"109\": 2, \"3\": 8, \"33\": 2, \"101\": 1, \"71\": 2, \"18\": 2, \"39\": 1, \"44\": 1, \"69\": 1}, \"37\": {\"112\": 2, \"37\": 10, \"64\": 1, \"123\": 1, \"5\": 1, \"100\": 1}, \"44\": {\"44\": 85, \"82\": 1, \"61\": 1, \"109\": 1, \"33\": 2, \"14\": 1, \"18\": 2, \"24\": 1, \"31\": 1, \"50\": 2, \"32\": 1, \"118\": 1, \"90\": 1}, \"24\": {\"24\": 83, \"78\": 1, \"10\": 3, \"70\": 7, \"39\": 5, \"126\": 5, \"88\": 2, \"21\": 1, \"109\": 4, \"27\": 1}, \"9\": {\"9\": 28, \"51\": 1, \"114\": 2, \"77\": 1}, \"116\": {\"37\": 2, \"116\": 15, \"42\": 2, \"65\": 3, \"102\": 1, \"109\": 1, \"66\": 1, \"67\": 2, \"63\": 1}, \"64\": {\"47\": 1, \"44\": 1, \"64\": 9, \"56\": 1, \"92\": 4}, \"129\": {\"37\": 2, \"129\": 21, \"5\": 5, \"124\": 4}, \"42\": {\"129\": 1, \"37\": 1, \"13\": 1, \"42\": 13, \"91\": 2, \"70\": 1, \"73\": 1, \"118\": 2, \"5\": 1, \"22\": 1, \"25\": 1, \"2\": 1, \"89\": 1, \"124\": 1}, \"117\": {\"117\": 113, \"90\": 3, \"102\": 3, \"43\": 1}, \"88\": {\"88\": 102, \"70\": 4, \"21\": 2, \"109\": 8, \"24\": 2, \"39\": 6}, \"31\": {\"83\": 2, \"31\": 15, \"76\": 1, \"61\": 2}, \"113\": {\"113\": 66, \"118\": 2, \"87\": 3, \"63\": 1}, \"38\": {\"38\": 15, \"89\": 1}, \"83\": {\"69\": 1, \"25\": 1, \"66\": 1, \"99\": 1, \"83\": 28, \"76\": 3, \"72\": 1, \"90\": 1, \"93\": 1, \"42\": 1, \"1\": 1}, \"49\": {\"49\": 14, \"32\": 4, \"107\": 1, \"44\": 1, \"127\": 1, \"128\": 1, \"39\": 1, \"66\": 1}, \"97\": {\"97\": 13, \"91\": 1, \"104\": 1, \"0\": 2, \"105\": 1, \"7\": 2}, \"76\": {\"76\": 10, \"83\": 2, \"56\": 1, \"64\": 1, \"1\": 1, \"128\": 1}, \"29\": {\"29\": 27, \"28\": 2, \"90\": 1, \"73\": 1, \"98\": 1}, \"61\": {\"49\": 2, \"82\": 2, \"83\": 1, \"61\": 9, \"89\": 1, \"44\": 1, \"1\": 1, \"5\": 1, \"124\": 1, \"107\": 1}, \"125\": {\"125\": 144, \"121\": 1, \"41\": 1, \"79\": 2}, \"126\": {\"39\": 4, \"126\": 85, \"78\": 2, \"36\": 1, \"87\": 6, \"10\": 4, \"70\": 7, \"109\": 3, \"43\": 3, \"88\": 2, \"0\": 1, \"15\": 1, \"27\": 1}, \"55\": {\"55\": 13, \"53\": 2, \"74\": 1}, \"0\": {\"97\": 1, \"15\": 6, \"0\": 84, \"39\": 1, \"122\": 1, \"62\": 2, \"7\": 6, \"109\": 1, \"23\": 3, \"21\": 1, \"44\": 1, \"12\": 1}, \"15\": {\"0\": 9, \"15\": 96, \"12\": 2, \"94\": 1, \"88\": 2, \"10\": 1, \"30\": 1, \"105\": 1, \"36\": 3, \"106\": 2, \"8\": 2}, \"26\": {\"26\": 110, \"62\": 3, \"109\": 3, \"18\": 2, \"10\": 1, \"8\": 1, \"93\": 11, \"60\": 1, \"70\": 1, \"69\": 1, \"78\": 1, \"16\": 3}, \"63\": {\"63\": 15, \"90\": 1, \"111\": 1, \"92\": 1, \"89\": 2}, \"57\": {\"90\": 3, \"57\": 14, \"89\": 1, \"73\": 1, \"120\": 1}, \"39\": {\"39\": 80, \"70\": 11, \"109\": 9, \"43\": 1, \"88\": 6, \"122\": 2, \"24\": 1, \"126\": 2}, \"62\": {\"62\": 97, \"110\": 1, \"12\": 2, \"88\": 2, \"93\": 6, \"26\": 1, \"105\": 4, \"84\": 4, \"40\": 1, \"16\": 6, \"7\": 2, \"1\": 1, \"3\": 1, \"39\": 1, \"69\": 1, \"71\": 3, \"11\": 1, \"60\": 1, \"18\": 1, \"14\": 1, \"106\": 2, \"108\": 1}, \"82\": {\"82\": 26, \"45\": 2, \"85\": 1, \"66\": 1, \"21\": 1, \"61\": 1, \"19\": 1, \"89\": 1, \"126\": 1, \"40\": 1}, \"11\": {\"11\": 54, \"8\": 10, \"122\": 3, \"24\": 1, \"43\": 1, \"30\": 3, \"118\": 1, \"108\": 1, \"105\": 1, \"36\": 3, \"87\": 1, \"39\": 1}, \"4\": {\"4\": 87, \"126\": 1}, \"41\": {\"129\": 1, \"41\": 9, \"103\": 1, \"124\": 1, \"67\": 2, \"85\": 1, \"115\": 1, \"104\": 1, \"59\": 1, \"112\": 1, \"5\": 1}, \"72\": {\"72\": 19, \"69\": 4, \"26\": 1, \"40\": 1, \"87\": 1, \"18\": 2}, \"16\": {\"16\": 87, \"88\": 1, \"93\": 17, \"69\": 2, \"12\": 1, \"26\": 3, \"62\": 5, \"18\": 1, \"39\": 1, \"78\": 1, \"113\": 1, \"43\": 1, \"105\": 1, \"0\": 2}, \"81\": {\"81\": 18, \"116\": 1, \"95\": 1, \"31\": 1, \"20\": 1, \"92\": 1, \"73\": 1}, \"67\": {\"123\": 3, \"28\": 1, \"102\": 2, \"67\": 6, \"42\": 1, \"22\": 1, \"52\": 1, \"31\": 1}, \"123\": {\"123\": 9, \"67\": 1, \"89\": 1, \"5\": 1, \"50\": 1, \"92\": 1, \"46\": 2}, \"66\": {\"66\": 8, \"85\": 1, \"46\": 1, \"64\": 2, \"28\": 1, \"86\": 1, \"98\": 2, \"90\": 2, \"100\": 1, \"89\": 1}, \"36\": {\"36\": 90, \"78\": 2, \"15\": 2, \"70\": 1, \"30\": 11, \"122\": 5, \"11\": 2, \"39\": 1, \"43\": 1, \"94\": 1, \"8\": 3, \"126\": 2, \"108\": 3, \"21\": 1, \"27\": 2, \"88\": 1}, \"115\": {\"115\": 9, \"79\": 2, \"21\": 1}, \"77\": {\"77\": 8, \"85\": 3, \"29\": 2, \"103\": 1, \"123\": 2}, \"119\": {\"48\": 2, \"119\": 14, \"91\": 1, \"116\": 1, \"117\": 1, \"45\": 1}, \"65\": {\"119\": 2, \"65\": 17, \"126\": 1}, \"34\": {\"114\": 2, \"98\": 2, \"34\": 22, \"107\": 4, \"61\": 2}, \"107\": {\"114\": 4, \"33\": 1, \"107\": 46, \"53\": 1, \"10\": 2, \"32\": 3, \"34\": 1, \"1\": 1, \"66\": 1, \"74\": 1, \"28\": 1, \"70\": 1, \"58\": 1}, \"13\": {\"13\": 15, \"117\": 1}, \"110\": {\"25\": 1, \"110\": 18, \"105\": 8, \"40\": 5, \"2\": 1, \"94\": 1, \"122\": 1, \"7\": 3, \"126\": 1, \"15\": 1}, \"106\": {\"106\": 91, \"0\": 2, \"101\": 5, \"7\": 6, \"15\": 2, \"88\": 1, \"102\": 1, \"127\": 3, \"40\": 1, \"110\": 1, \"39\": 2, \"84\": 1, \"71\": 1, \"12\": 1}, \"89\": {\"89\": 29, \"99\": 1, \"19\": 3, \"73\": 1, \"82\": 2}, \"94\": {\"0\": 5, \"8\": 6, \"94\": 37, \"122\": 3, \"11\": 1, \"87\": 1, \"21\": 2, \"88\": 2, \"15\": 4, \"90\": 1, \"39\": 1, \"126\": 1}, \"98\": {\"98\": 98, \"38\": 1, \"83\": 1, \"33\": 1, \"92\": 1, \"111\": 2, \"114\": 1, \"122\": 1, \"90\": 1, \"50\": 1, \"21\": 1, \"49\": 1, \"66\": 1, \"124\": 1}, \"91\": {\"91\": 20, \"103\": 1, \"50\": 1, \"98\": 1, \"104\": 2, \"73\": 1, \"68\": 1, \"117\": 1}, \"84\": {\"84\": 69, \"69\": 6, \"40\": 5, \"62\": 4, \"18\": 1, \"127\": 1, \"1\": 2, \"16\": 1, \"88\": 1, \"3\": 2}, \"73\": {\"59\": 1, \"91\": 1, \"73\": 20, \"128\": 1, \"54\": 1, \"29\": 1, \"85\": 2, \"82\": 1}, \"104\": {\"37\": 3, \"8\": 1, \"28\": 1, \"104\": 7, \"125\": 1, \"118\": 1, \"45\": 1, \"67\": 2, \"126\": 1, \"6\": 1, \"129\": 1}, \"59\": {\"59\": 12, \"41\": 1, \"124\": 1, \"6\": 2}, \"74\": {\"74\": 10, \"44\": 1, \"73\": 1, \"128\": 1, \"95\": 1, \"40\": 1, \"34\": 1}, \"28\": {\"28\": 17, \"87\": 1, \"89\": 2}, \"95\": {\"95\": 15, \"108\": 1, \"3\": 1, \"93\": 1, \"127\": 4, \"32\": 1, \"33\": 2, \"9\": 1, \"114\": 2, \"40\": 4, \"74\": 1, \"62\": 1, \"49\": 1, \"71\": 1}, \"2\": {\"81\": 2, \"102\": 1, \"82\": 1, \"2\": 20, \"53\": 1, \"13\": 1, \"50\": 1, \"99\": 1, \"46\": 1, \"117\": 1, \"90\": 2}, \"5\": {\"123\": 2, \"129\": 6, \"5\": 90, \"124\": 6, \"111\": 3, \"24\": 1, \"41\": 1, \"22\": 1, \"88\": 2}, \"50\": {\"38\": 1, \"123\": 1, \"64\": 2, \"70\": 1, \"50\": 6, \"85\": 1, \"75\": 1, \"44\": 1, \"55\": 1, \"22\": 1}, \"109\": {\"88\": 8, \"109\": 67, \"6\": 1, \"24\": 2, \"39\": 12, \"70\": 7, \"111\": 1, \"5\": 1, \"126\": 1}, \"10\": {\"10\": 49, \"12\": 1, \"88\": 2, \"126\": 2, \"70\": 1, \"109\": 2, \"21\": 1, \"105\": 1, \"24\": 1}, \"45\": {\"85\": 2, \"45\": 11, \"87\": 1, \"50\": 1, \"24\": 1}, \"121\": {\"121\": 30, \"92\": 2, \"112\": 1, \"100\": 1, \"120\": 1, \"73\": 1}, \"124\": {\"124\": 80, \"28\": 1, \"5\": 12, \"111\": 11, \"125\": 1, \"100\": 1, \"37\": 1, \"42\": 1, \"102\": 2}, \"53\": {\"105\": 1, \"55\": 3, \"107\": 2, \"3\": 1, \"110\": 1, \"53\": 5, \"128\": 1, \"67\": 1, \"126\": 1}, \"79\": {\"79\": 15, \"115\": 1}, \"43\": {\"43\": 81, \"87\": 5, \"118\": 3, \"30\": 1, \"126\": 1, \"122\": 7, \"109\": 1, \"108\": 7, \"8\": 3, \"11\": 1, \"27\": 1, \"39\": 1, \"101\": 1, \"24\": 1}, \"122\": {\"122\": 81, \"94\": 6, \"11\": 6, \"88\": 3, \"118\": 2, \"0\": 4, \"43\": 5, \"21\": 1, \"8\": 13, \"30\": 6, \"36\": 3, \"90\": 1, \"106\": 1, \"108\": 1, \"105\": 2, \"7\": 1, \"15\": 2}, \"100\": {\"100\": 5, \"82\": 1, \"1\": 3, \"44\": 1, \"90\": 1, \"40\": 1, \"99\": 2, \"47\": 1, \"66\": 1}, \"19\": {\"19\": 27, \"75\": 1}, \"12\": {\"12\": 62, \"15\": 3, \"7\": 9, \"110\": 1, \"106\": 4, \"88\": 2, \"0\": 1, \"127\": 2, \"109\": 1, \"105\": 2, \"70\": 1}, \"17\": {\"17\": 8, \"86\": 1, \"111\": 2, \"129\": 1, \"24\": 1, \"5\": 1, \"125\": 2}}, \"C_3\": {\"1\": {\"1\": 89, \"47\": 7, \"48\": 1, \"57\": 3}, \"9\": {\"9\": 107, \"48\": 13, \"27\": 3, \"29\": 1}, \"22\": {\"22\": 122, \"0\": 12, \"56\": 2}, \"43\": {\"43\": 126, \"49\": 4, \"24\": 6}, \"49\": {\"49\": 4, \"43\": 9, \"23\": 2, \"35\": 1, \"24\": 2, \"34\": 1, \"31\": 1}, \"50\": {\"50\": 116, \"21\": 4, \"44\": 3, \"46\": 10, \"3\": 4, \"5\": 1}, \"53\": {\"53\": 133, \"19\": 3}, \"10\": {\"10\": 64}, \"48\": {\"9\": 17, \"48\": 64, \"29\": 13, \"41\": 2, \"30\": 1, \"27\": 1, \"20\": 10, \"1\": 4, \"52\": 2, \"57\": 1, \"47\": 1}, \"8\": {\"8\": 98, \"27\": 24, \"29\": 1, \"4\": 10, \"20\": 2, \"9\": 3}, \"31\": {\"31\": 27, \"43\": 1}, \"56\": {\"22\": 6, \"56\": 127, \"0\": 1}, \"25\": {\"25\": 136, \"11\": 2, \"15\": 3, \"16\": 1}, \"28\": {\"28\": 27, \"16\": 1}, \"38\": {\"38\": 28}, \"5\": {\"5\": 114, \"44\": 1, \"46\": 1}, \"12\": {\"12\": 80, \"6\": 3, \"3\": 1, \"50\": 3, \"44\": 2, \"45\": 3}, \"6\": {\"6\": 77, \"3\": 7, \"45\": 2, \"50\": 1, \"44\": 1}, \"19\": {\"19\": 152}, \"26\": {\"26\": 24}, \"32\": {\"32\": 28}, \"33\": {\"33\": 27, \"27\": 1}, \"3\": {\"3\": 101, \"6\": 3, \"44\": 5, \"5\": 2, \"50\": 7}, \"51\": {\"51\": 121, \"38\": 4, \"36\": 2, \"2\": 1}, \"16\": {\"16\": 124, \"15\": 4, \"11\": 10}, \"46\": {\"46\": 100, \"21\": 17, \"3\": 3, \"50\": 10, \"5\": 5, \"22\": 1, \"0\": 1, \"12\": 1, \"30\": 2}, \"7\": {\"7\": 17, \"37\": 3, \"14\": 5, \"13\": 3, \"34\": 1, \"48\": 1, \"35\": 2, \"55\": 3, \"49\": 1}, \"47\": {\"47\": 88, \"1\": 2, \"52\": 2}, \"39\": {\"39\": 16}, \"40\": {\"40\": 135, \"50\": 1}, \"14\": {\"14\": 34, \"39\": 2, \"7\": 2, \"13\": 1, \"57\": 1}, \"37\": {\"37\": 27, \"14\": 1}, \"2\": {\"2\": 30, \"54\": 1, \"51\": 1}, \"21\": {\"21\": 106, \"46\": 9, \"50\": 2, \"44\": 1, \"12\": 1, \"3\": 1}, \"35\": {\"35\": 24, \"42\": 2, \"55\": 1, \"7\": 1}, \"54\": {\"54\": 90, \"19\": 5, \"53\": 5}, \"52\": {\"52\": 114, \"20\": 1, \"30\": 1}, \"29\": {\"29\": 97, \"48\": 9, \"9\": 5, \"52\": 1, \"57\": 4, \"1\": 2}, \"20\": {\"20\": 117, \"9\": 7, \"4\": 3, \"48\": 5}, \"18\": {\"18\": 84}, \"11\": {\"11\": 112, \"15\": 17, \"16\": 13}, \"0\": {\"0\": 120, \"22\": 4}, \"36\": {\"36\": 100}, \"17\": {\"17\": 108}, \"30\": {\"30\": 113, \"40\": 1}, \"42\": {\"42\": 23, \"23\": 1, \"34\": 2, \"17\": 2}, \"45\": {\"45\": 52, \"44\": 4, \"3\": 2, \"6\": 2}, \"4\": {\"4\": 148}, \"23\": {\"23\": 125, \"26\": 2, \"19\": 1, \"53\": 4, \"55\": 2}, \"13\": {\"13\": 127, \"14\": 1}, \"15\": {\"15\": 96, \"11\": 22, \"10\": 1, \"16\": 9}, \"57\": {\"57\": 117, \"29\": 1, \"1\": 5, \"47\": 1}, \"27\": {\"8\": 11, \"27\": 113, \"29\": 2, \"48\": 2, \"4\": 5, \"9\": 1}, \"44\": {\"44\": 86, \"50\": 2}, \"34\": {\"34\": 26, \"55\": 6}, \"41\": {\"41\": 20, \"47\": 2, \"48\": 3, \"20\": 1, \"52\": 2}, \"24\": {\"24\": 103, \"31\": 1}, \"55\": {\"55\": 103, \"37\": 5, \"35\": 1, \"43\": 5, \"34\": 4}}, \"C_4\": {\"52\": {\"52\": 114, \"47\": 2}, \"6\": {\"6\": 85, \"50\": 12, \"3\": 12, \"45\": 3}, \"14\": {\"14\": 12, \"52\": 1, \"33\": 1, \"13\": 1, \"38\": 1}, \"49\": {\"38\": 5, \"49\": 7, \"43\": 1, \"2\": 1, \"35\": 1, \"41\": 2, \"32\": 1, \"39\": 2}, \"0\": {\"0\": 79, \"56\": 1}, \"46\": {\"46\": 146, \"5\": 2, \"22\": 6, \"40\": 1, \"44\": 1}, \"41\": {\"43\": 2, \"39\": 1, \"41\": 27, \"55\": 2, \"37\": 2, \"49\": 2}, \"24\": {\"24\": 55, \"43\": 1}, \"25\": {\"25\": 151, \"18\": 1}, \"40\": {\"40\": 134, \"44\": 2, \"46\": 2}, \"38\": {\"38\": 29, \"49\": 1, \"2\": 1, \"37\": 4, \"13\": 3, \"39\": 1, \"14\": 1}, \"13\": {\"13\": 152}, \"9\": {\"9\": 88, \"4\": 3, \"8\": 10, \"48\": 7}, \"45\": {\"45\": 92, \"30\": 2, \"50\": 1, \"5\": 1}, \"43\": {\"43\": 143, \"41\": 1}, \"10\": {\"10\": 130}, \"15\": {\"15\": 92, \"11\": 17, \"16\": 15, \"42\": 1, \"18\": 1, \"53\": 1, \"10\": 1}, \"39\": {\"39\": 19, \"36\": 1}, \"4\": {\"4\": 128, \"9\": 1, \"48\": 2, \"8\": 1}, \"53\": {\"53\": 126, \"26\": 1, \"19\": 2, \"23\": 3}, \"1\": {\"1\": 38, \"56\": 1, \"57\": 1}, \"28\": {\"28\": 29, \"34\": 1, \"25\": 1, \"26\": 1}, \"54\": {\"54\": 107, \"32\": 1}, \"21\": {\"21\": 132}, \"7\": {\"41\": 2, \"7\": 9, \"32\": 1, \"43\": 1, \"2\": 1, \"49\": 1, \"35\": 6, \"38\": 1, \"33\": 2}, \"8\": {\"8\": 106, \"4\": 7, \"9\": 8, \"20\": 5, \"48\": 10}, \"42\": {\"42\": 27, \"19\": 1, \"23\": 2, \"49\": 1, \"53\": 1}, \"11\": {\"11\": 78, \"15\": 17, \"10\": 1, \"16\": 6, \"19\": 1, \"23\": 1}, \"33\": {\"33\": 34, \"36\": 1, \"14\": 1}, \"27\": {\"27\": 139, \"57\": 1, \"9\": 1, \"8\": 1}, \"19\": {\"19\": 142, \"23\": 2}, \"2\": {\"2\": 33, \"38\": 1, \"37\": 1, \"13\": 1}, \"3\": {\"3\": 100, \"50\": 9, \"5\": 4, \"6\": 7}, \"57\": {\"57\": 92, \"29\": 3, \"1\": 3, \"52\": 1, \"2\": 1}, \"20\": {\"20\": 102, \"4\": 5, \"8\": 1, \"29\": 1, \"40\": 1, \"9\": 1, \"48\": 1}, \"23\": {\"19\": 19, \"23\": 82, \"26\": 1, \"53\": 17, \"17\": 1, \"55\": 8}, \"22\": {\"22\": 117, \"0\": 2, \"46\": 9}, \"29\": {\"57\": 9, \"47\": 2, \"29\": 112, \"4\": 1}, \"36\": {\"51\": 12, \"36\": 77, \"55\": 3}, \"51\": {\"51\": 127, \"36\": 5}, \"31\": {\"31\": 24, \"43\": 2, \"41\": 1, \"54\": 1}, \"12\": {\"12\": 91, \"30\": 1}, \"56\": {\"0\": 6, \"56\": 132}, \"5\": {\"5\": 100, \"3\": 3, \"6\": 5}, \"35\": {\"36\": 3, \"14\": 2, \"7\": 3, \"35\": 17, \"43\": 5, \"51\": 3, \"1\": 1, \"41\": 1, \"37\": 1, \"42\": 1, \"33\": 2, \"55\": 1}, \"17\": {\"17\": 80}, \"32\": {\"32\": 14, \"33\": 1, \"24\": 4, \"2\": 1, \"35\": 1, \"49\": 1, \"55\": 2}, \"47\": {\"47\": 119, \"52\": 1}, \"18\": {\"18\": 105, \"11\": 1, \"13\": 1, \"16\": 1}, \"26\": {\"26\": 19, \"31\": 1, \"34\": 1, \"42\": 1, \"28\": 1, \"53\": 1}, \"50\": {\"50\": 87, \"6\": 13, \"3\": 20, \"45\": 1, \"5\": 1}, \"55\": {\"54\": 5, \"55\": 109, \"32\": 1, \"17\": 1, \"43\": 7, \"41\": 1}, \"34\": {\"26\": 1, \"34\": 15, \"28\": 4, \"25\": 2, \"23\": 2}, \"30\": {\"45\": 2, \"30\": 42}, \"37\": {\"37\": 16, \"49\": 2, \"57\": 1, \"38\": 3, \"1\": 1, \"13\": 1}, \"44\": {\"44\": 131, \"46\": 1}, \"48\": {\"48\": 87, \"8\": 6, \"9\": 16, \"4\": 7, \"52\": 1, \"20\": 1}, \"16\": {\"15\": 7, \"16\": 89}}, \"C_2\": {\"11\": {\"11\": 103, \"28\": 1, \"15\": 12, \"16\": 11, \"10\": 3}, \"21\": {\"21\": 117, \"40\": 2, \"50\": 1}, \"19\": {\"19\": 139, \"53\": 1}, \"20\": {\"20\": 110, \"9\": 7, \"8\": 5, \"48\": 4, \"29\": 1, \"40\": 1}, \"9\": {\"9\": 136, \"48\": 2, \"8\": 1, \"20\": 1}, \"10\": {\"10\": 112}, \"37\": {\"37\": 29, \"24\": 1, \"31\": 1, \"39\": 4, \"38\": 1}, \"32\": {\"32\": 28}, \"3\": {\"3\": 61, \"50\": 2, \"6\": 15, \"44\": 6, \"45\": 5, \"5\": 1, \"46\": 2}, \"39\": {\"37\": 5, \"38\": 2, \"39\": 13, \"41\": 2, \"7\": 1, \"2\": 1, \"32\": 2, \"42\": 2}, \"45\": {\"45\": 113, \"50\": 3, \"12\": 3, \"6\": 7, \"3\": 2}, \"50\": {\"50\": 124, \"3\": 2, \"46\": 5, \"44\": 4, \"6\": 1}, \"40\": {\"40\": 137, \"48\": 1, \"12\": 1, \"9\": 1}, \"46\": {\"46\": 90, \"3\": 6, \"30\": 1, \"40\": 1, \"44\": 11, \"5\": 5, \"21\": 4, \"6\": 5, \"50\": 5}, \"12\": {\"12\": 82, \"50\": 4, \"6\": 4, \"45\": 1, \"44\": 1}, \"13\": {\"13\": 116}, \"47\": {\"47\": 128, \"1\": 3, \"57\": 1}, \"15\": {\"15\": 113, \"11\": 5, \"16\": 24}, \"54\": {\"54\": 108}, \"48\": {\"48\": 128, \"20\": 5, \"8\": 1, \"1\": 2, \"29\": 5, \"9\": 7}, \"23\": {\"23\": 127, \"53\": 4, \"49\": 1, \"42\": 3, \"19\": 4, \"7\": 3}, \"29\": {\"48\": 4, \"29\": 117, \"1\": 4, \"36\": 1, \"57\": 1, \"13\": 1}, \"38\": {\"38\": 18, \"39\": 1, \"13\": 1}, \"53\": {\"53\": 133, \"26\": 1, \"19\": 2}, \"27\": {\"27\": 149, \"8\": 1}, \"43\": {\"43\": 131, \"24\": 11, \"11\": 1, \"55\": 1}, \"35\": {\"54\": 4, \"35\": 19, \"17\": 4, \"36\": 3, \"33\": 1, \"42\": 1}, \"0\": {\"0\": 48}, \"52\": {\"52\": 118, \"30\": 3, \"47\": 2, \"40\": 1}, \"8\": {\"8\": 92, \"9\": 16, \"27\": 5, \"48\": 5, \"4\": 3, \"20\": 7}, \"24\": {\"24\": 89, \"43\": 7}, \"18\": {\"18\": 48}, \"25\": {\"25\": 148}, \"57\": {\"57\": 126, \"1\": 4, \"48\": 2, \"47\": 3, \"29\": 1}, \"55\": {\"24\": 1, \"55\": 127, \"7\": 6}, \"36\": {\"36\": 112, \"35\": 2, \"17\": 1, \"55\": 1}, \"17\": {\"17\": 104}, \"2\": {\"2\": 32}, \"34\": {\"34\": 17, \"49\": 6, \"28\": 3, \"26\": 1, \"42\": 1}, \"1\": {\"1\": 92, \"9\": 1, \"47\": 8, \"57\": 10, \"48\": 1}, \"51\": {\"51\": 121, \"36\": 13, \"32\": 2}, \"31\": {\"31\": 28}, \"49\": {\"19\": 6, \"49\": 11, \"53\": 4, \"37\": 1, \"34\": 2}, \"14\": {\"13\": 2, \"14\": 22}, \"33\": {\"33\": 18, \"41\": 2, \"35\": 1, \"36\": 1, \"32\": 1, \"2\": 3, \"51\": 1, \"38\": 1}, \"41\": {\"41\": 16, \"2\": 1, \"9\": 1, \"48\": 1, \"52\": 1}, \"28\": {\"28\": 27, \"34\": 1}, \"5\": {\"5\": 117, \"44\": 1, \"3\": 1, \"46\": 1}, \"16\": {\"16\": 122, \"15\": 25, \"11\": 3}, \"4\": {\"4\": 128}, \"22\": {\"22\": 133, \"56\": 2, \"0\": 1}, \"6\": {\"6\": 108, \"3\": 6, \"45\": 3, \"50\": 1}, \"30\": {\"30\": 123, \"52\": 1}, \"26\": {\"26\": 16, \"54\": 2, \"49\": 1, \"23\": 1, \"53\": 4}, \"56\": {\"56\": 137, \"22\": 5}, \"42\": {\"42\": 31, \"54\": 2, \"23\": 1, \"7\": 2}, \"44\": {\"44\": 100}, \"7\": {\"23\": 1, \"7\": 23, \"55\": 3, \"53\": 2, \"39\": 4, \"19\": 3}}, \"W_3\": {\"38\": {\"38\": 13, \"107\": 1, \"17\": 1, \"51\": 1}, \"88\": {\"88\": 106, \"39\": 2, \"21\": 3, \"70\": 1}, \"104\": {\"124\": 1, \"22\": 1, \"115\": 1, \"104\": 6, \"129\": 2, \"42\": 2, \"91\": 1, \"25\": 1, \"5\": 1}, \"11\": {\"11\": 114, \"109\": 15, \"43\": 4, \"118\": 2, \"108\": 2, \"126\": 1, \"10\": 1, \"87\": 1}, \"103\": {\"103\": 5, \"58\": 1, \"22\": 1, \"124\": 2, \"121\": 1, \"55\": 1, \"115\": 1, \"5\": 1, \"42\": 1, \"52\": 2}, \"124\": {\"124\": 93, \"5\": 7, \"111\": 10, \"6\": 3, \"73\": 1, \"86\": 1, \"90\": 1}, \"3\": {\"3\": 85, \"1\": 7, \"14\": 3, \"43\": 1, \"105\": 10, \"40\": 3, \"71\": 3, \"24\": 1, \"10\": 1, \"114\": 1, \"11\": 1}, \"74\": {\"74\": 7, \"47\": 1, \"33\": 1, \"114\": 2, \"48\": 1, \"20\": 1, \"57\": 1, \"38\": 2}, \"126\": {\"126\": 110, \"109\": 2, \"39\": 6, \"10\": 1, \"122\": 1, \"11\": 2}, \"123\": {\"123\": 15, \"79\": 1}, \"51\": {\"51\": 12, \"103\": 1, \"101\": 1, \"12\": 1, \"1\": 1}, \"14\": {\"14\": 69, \"69\": 3, \"84\": 2, \"40\": 2, \"93\": 1, \"16\": 1, \"114\": 2}, \"16\": {\"16\": 89, \"62\": 10, \"93\": 7, \"84\": 4, \"11\": 2, \"113\": 1, \"109\": 2, \"126\": 1}, \"22\": {\"22\": 13, \"116\": 1, \"119\": 1, \"5\": 1}, \"109\": {\"109\": 108, \"11\": 8, \"43\": 1, \"108\": 1, \"39\": 3, \"10\": 1}, \"27\": {\"27\": 70, \"24\": 4, \"87\": 1, \"10\": 5, \"11\": 1, \"30\": 3, \"108\": 9, \"36\": 2, \"109\": 1}, \"75\": {\"75\": 8, \"72\": 2, \"9\": 1, \"78\": 1, \"99\": 1, \"95\": 2, \"25\": 1}, \"66\": {\"50\": 3, \"66\": 5, \"28\": 1, \"77\": 2, \"85\": 1, \"20\": 1, \"55\": 1, \"41\": 1, \"65\": 1}, \"48\": {\"115\": 2, \"86\": 2, \"48\": 7, \"112\": 1, \"125\": 1, \"102\": 1, \"116\": 2}, \"6\": {\"6\": 26, \"37\": 2, \"111\": 3, \"59\": 1}, \"10\": {\"10\": 100, \"24\": 3, \"70\": 2, \"11\": 1, \"27\": 3, \"109\": 2, \"88\": 1}, \"99\": {\"99\": 19, \"54\": 1, \"35\": 1, \"44\": 1, \"107\": 2, \"105\": 3, \"1\": 2, \"34\": 1, \"72\": 2, \"57\": 1, \"3\": 2, \"9\": 1}, \"50\": {\"50\": 7, \"55\": 1, \"29\": 1, \"90\": 1, \"116\": 1, \"66\": 3, \"76\": 1, \"82\": 1}, \"54\": {\"75\": 1, \"54\": 15}, \"55\": {\"54\": 3, \"55\": 10, \"103\": 1, \"66\": 1, \"128\": 1}, \"53\": {\"53\": 13, \"107\": 2, \"66\": 1, \"44\": 2, \"20\": 2}, \"72\": {\"72\": 16, \"3\": 2, \"38\": 2, \"105\": 2, \"101\": 1, \"34\": 1, \"35\": 1, \"99\": 1, \"17\": 1, \"75\": 1}, \"64\": {\"64\": 18, \"102\": 1, \"45\": 1}, \"115\": {\"126\": 1, \"104\": 1, \"115\": 6, \"80\": 1, \"112\": 1, \"45\": 1, \"48\": 2, \"119\": 1, \"129\": 2}, \"23\": {\"23\": 17, \"0\": 1, \"26\": 2, \"93\": 2, \"110\": 1, \"84\": 1, \"8\": 2, \"15\": 2, \"94\": 3, \"62\": 1}, \"32\": {\"57\": 4, \"32\": 22, \"128\": 1, \"107\": 1, \"1\": 1, \"20\": 1, \"38\": 1, \"33\": 1}, \"15\": {\"15\": 86, \"94\": 8, \"88\": 1, \"8\": 4, \"113\": 1, \"39\": 1, \"0\": 2, \"110\": 1}, \"43\": {\"43\": 46, \"109\": 2, \"118\": 4, \"21\": 3, \"122\": 1}, \"114\": {\"114\": 95, \"107\": 11, \"33\": 3, \"105\": 2, \"70\": 1, \"1\": 3, \"109\": 1, \"98\": 1, \"3\": 4, \"69\": 1, \"99\": 1, \"40\": 1}, \"121\": {\"64\": 2, \"121\": 24, \"89\": 1, \"90\": 2, \"120\": 1, \"92\": 1, \"82\": 1}, \"79\": {\"41\": 1, \"79\": 11}, \"81\": {\"81\": 28, \"14\": 1, \"92\": 1, \"61\": 1, \"69\": 1}, \"8\": {\"8\": 99, \"23\": 1, \"101\": 1, \"15\": 6, \"0\": 9, \"110\": 8, \"94\": 2, \"122\": 1, \"30\": 1}, \"13\": {\"79\": 2, \"115\": 1, \"13\": 9, \"129\": 2, \"102\": 1, \"113\": 1}, \"90\": {\"90\": 150, \"50\": 1, \"82\": 1, \"89\": 2, \"29\": 1, \"5\": 1}, \"41\": {\"121\": 1, \"90\": 1, \"41\": 8, \"5\": 1, \"112\": 1, \"42\": 3, \"66\": 1}, \"107\": {\"107\": 112, \"44\": 3, \"74\": 1, \"33\": 6, \"9\": 1, \"1\": 3, \"114\": 8, \"38\": 1, \"40\": 1}, \"57\": {\"32\": 8, \"76\": 1, \"42\": 1, \"57\": 7, \"73\": 1, \"50\": 1, \"5\": 1}, \"33\": {\"33\": 109, \"107\": 7, \"92\": 1, \"1\": 2, \"40\": 1}, \"35\": {\"35\": 12}, \"29\": {\"29\": 30, \"120\": 1, \"90\": 1}, \"70\": {\"70\": 67, \"10\": 1, \"88\": 3, \"39\": 1}, \"42\": {\"70\": 1, \"42\": 10, \"104\": 2, \"82\": 1, \"19\": 2, \"91\": 5, \"48\": 1, \"124\": 1, \"58\": 1, \"118\": 1, \"22\": 1, \"41\": 2}, \"93\": {\"93\": 86, \"113\": 7, \"110\": 1, \"16\": 11, \"7\": 1, \"126\": 1, \"62\": 11, \"84\": 1, \"87\": 1, \"60\": 1, \"122\": 1, \"40\": 1, \"8\": 2, \"26\": 1}, \"86\": {\"86\": 25, \"22\": 1, \"119\": 1, \"111\": 1}, \"28\": {\"28\": 12, \"34\": 2, \"31\": 2}, \"1\": {\"1\": 76, \"3\": 8, \"114\": 5, \"71\": 3, \"14\": 1, \"105\": 5, \"10\": 1, \"28\": 1, \"109\": 1, \"40\": 2, \"127\": 1, \"33\": 2, \"107\": 1, \"90\": 1}, \"125\": {\"125\": 118, \"44\": 1, \"114\": 1, \"90\": 1, \"4\": 1, \"111\": 2}, \"69\": {\"69\": 78, \"21\": 1, \"109\": 1, \"39\": 1, \"16\": 1, \"26\": 1, \"107\": 1}, \"97\": {\"97\": 14, \"122\": 1, \"0\": 2, \"49\": 1, \"41\": 1, \"15\": 1}, \"117\": {\"117\": 109, \"124\": 1, \"2\": 2}, \"68\": {\"68\": 15, \"111\": 1}, \"30\": {\"30\": 66, \"36\": 5, \"122\": 2, \"8\": 3, \"0\": 3, \"88\": 1, \"21\": 1, \"15\": 2, \"70\": 1}, \"111\": {\"68\": 2, \"111\": 124, \"124\": 5, \"6\": 1}, \"47\": {\"114\": 1, \"47\": 8, \"74\": 1, \"99\": 1, \"72\": 1}, \"102\": {\"102\": 122, \"90\": 1, \"117\": 1}, \"65\": {\"65\": 9, \"52\": 1, \"19\": 1, \"46\": 1}, \"113\": {\"113\": 106, \"87\": 3, \"118\": 3, \"90\": 1, \"126\": 3, \"110\": 2, \"73\": 1, \"109\": 1}, \"36\": {\"36\": 94, \"122\": 2, \"30\": 6, \"108\": 7, \"15\": 1, \"27\": 3, \"70\": 1}, \"119\": {\"117\": 1, \"125\": 1, \"119\": 8, \"79\": 1, \"102\": 1, \"80\": 1, \"22\": 2, \"116\": 1}, \"46\": {\"58\": 1, \"103\": 1, \"46\": 7, \"19\": 2, \"89\": 1, \"65\": 1, \"49\": 1, \"52\": 2}, \"49\": {\"49\": 9, \"101\": 2, \"16\": 2, \"12\": 2, \"7\": 1, \"0\": 1, \"125\": 1, \"40\": 1, \"38\": 1, \"68\": 1, \"14\": 1, \"84\": 2}, \"0\": {\"0\": 105, \"122\": 2, \"8\": 4, \"15\": 2, \"88\": 1, \"30\": 1, \"94\": 1}, \"58\": {\"58\": 10, \"85\": 1, \"98\": 2, \"13\": 1, \"52\": 1, \"72\": 1}, \"63\": {\"63\": 16}, \"94\": {\"0\": 5, \"94\": 66, \"101\": 2, \"110\": 1, \"15\": 7, \"97\": 2, \"106\": 1}, \"17\": {\"22\": 1, \"30\": 1, \"39\": 3, \"109\": 1, \"79\": 1, \"86\": 2, \"42\": 1, \"67\": 1, \"10\": 2, \"126\": 2, \"94\": 1}, \"9\": {\"38\": 2, \"9\": 24, \"114\": 2, \"107\": 1, \"85\": 1, \"83\": 2}, \"87\": {\"87\": 101, \"11\": 2, \"122\": 1, \"118\": 11, \"108\": 1, \"110\": 2, \"43\": 1, \"30\": 1}, \"59\": {\"59\": 11, \"51\": 1}, \"105\": {\"105\": 92, \"3\": 9, \"71\": 7, \"40\": 4, \"127\": 5, \"14\": 1, \"1\": 1, \"114\": 1}, \"80\": {\"80\": 15, \"10\": 1}, \"120\": {\"80\": 1, \"120\": 7, \"117\": 1, \"79\": 1, \"92\": 2, \"32\": 1, \"45\": 1, \"19\": 2, \"102\": 1, \"121\": 1, \"100\": 1, \"103\": 1}, \"18\": {\"33\": 4, \"18\": 118, \"69\": 6, \"113\": 1, \"128\": 1, \"39\": 1, \"90\": 1}, \"78\": {\"78\": 10, \"21\": 2, \"10\": 1, \"118\": 2, \"70\": 1}, \"25\": {\"25\": 11, \"83\": 2, \"72\": 1, \"98\": 1, \"85\": 1}, \"19\": {\"19\": 22, \"83\": 2, \"66\": 2, \"50\": 2, \"128\": 1, \"95\": 1, \"55\": 1, \"100\": 1}, \"122\": {\"122\": 42, \"39\": 2, \"87\": 8, \"43\": 2, \"110\": 1, \"118\": 4, \"11\": 1}, \"39\": {\"39\": 101, \"109\": 1, \"88\": 2, \"8\": 2, \"126\": 1, \"11\": 1}, \"76\": {\"105\": 1, \"76\": 3, \"82\": 1, \"53\": 2, \"33\": 2, \"44\": 4, \"32\": 1, \"66\": 1, \"1\": 1}, \"89\": {\"120\": 1, \"89\": 20, \"121\": 2, \"76\": 1, \"90\": 1, \"64\": 2, \"32\": 1}, \"129\": {\"129\": 24, \"5\": 4, \"116\": 1, \"42\": 1, \"115\": 1, \"124\": 1}, \"26\": {\"113\": 1, \"26\": 93, \"88\": 2, \"70\": 1, \"39\": 1, \"16\": 2}, \"85\": {\"85\": 27, \"56\": 1, \"46\": 2, \"112\": 1, \"65\": 1, \"5\": 1, \"9\": 1, \"90\": 2}, \"71\": {\"71\": 38, \"107\": 2, \"99\": 1, \"3\": 11, \"105\": 8, \"88\": 1, \"84\": 2, \"14\": 1, \"114\": 2, \"1\": 1, \"11\": 1}, \"77\": {\"77\": 14, \"85\": 1, \"42\": 1}, \"128\": {\"128\": 24, \"32\": 2, \"19\": 3, \"25\": 1, \"95\": 1, \"98\": 1}, \"2\": {\"2\": 22, \"120\": 1, \"90\": 2, \"67\": 1, \"117\": 2}, \"56\": {\"56\": 9, \"95\": 3}, \"24\": {\"24\": 35, \"10\": 2, \"108\": 1, \"30\": 1, \"27\": 8, \"109\": 1}, \"101\": {\"70\": 1, \"23\": 1, \"101\": 29, \"43\": 1, \"7\": 3, \"51\": 1, \"106\": 6, \"12\": 1, \"62\": 1, \"11\": 1, \"94\": 2, \"84\": 3, \"109\": 1, \"127\": 1}, \"52\": {\"52\": 11, \"56\": 1, \"95\": 1, \"112\": 1, \"83\": 1, \"46\": 1}, \"84\": {\"84\": 84, \"16\": 7, \"14\": 5, \"93\": 3, \"69\": 1, \"7\": 3, \"127\": 1, \"39\": 1, \"62\": 3}, \"7\": {\"7\": 98, \"101\": 2, \"62\": 1, \"12\": 7, \"118\": 1, \"109\": 1, \"87\": 1, \"84\": 1}, \"82\": {\"82\": 20, \"83\": 1, \"32\": 1, \"100\": 2, \"19\": 1, \"81\": 1, \"90\": 2}, \"60\": {\"60\": 19, \"110\": 1, \"62\": 2, \"16\": 2, \"118\": 1, \"8\": 1, \"93\": 2}, \"45\": {\"24\": 1, \"45\": 6, \"17\": 2, \"21\": 1, \"37\": 1, \"52\": 1, \"5\": 1, \"64\": 1, \"115\": 1, \"118\": 1}, \"40\": {\"114\": 5, \"40\": 85, \"84\": 6, \"105\": 3, \"14\": 2, \"3\": 6, \"69\": 1, \"30\": 1, \"101\": 1, \"107\": 2, \"12\": 1, \"33\": 1, \"93\": 1, \"47\": 1, \"113\": 2, \"71\": 1, \"1\": 3, \"16\": 1, \"127\": 1}, \"20\": {\"9\": 2, \"83\": 1, \"89\": 1, \"49\": 1, \"20\": 5, \"57\": 2, \"53\": 2, \"114\": 2}, \"4\": {\"4\": 95, \"111\": 1}, \"116\": {\"116\": 23, \"5\": 1, \"80\": 2, \"86\": 1, \"115\": 1}, \"61\": {\"61\": 16}, \"5\": {\"45\": 1, \"5\": 94, \"85\": 2, \"73\": 1, \"124\": 9, \"111\": 2, \"103\": 1, \"70\": 1, \"88\": 1}, \"106\": {\"106\": 86, \"127\": 2, \"96\": 1, \"88\": 1, \"7\": 4, \"101\": 2, \"84\": 1, \"12\": 3}, \"12\": {\"12\": 91, \"106\": 4, \"7\": 8, \"101\": 1}, \"62\": {\"62\": 102, \"60\": 3, \"16\": 5, \"93\": 6, \"8\": 1, \"11\": 1, \"110\": 1, \"39\": 1}, \"34\": {\"28\": 2, \"72\": 2, \"3\": 1, \"34\": 10, \"57\": 2, \"114\": 2, \"107\": 2, \"128\": 3, \"1\": 2, \"53\": 2, \"69\": 1, \"71\": 1, \"44\": 2}, \"91\": {\"55\": 1, \"91\": 13, \"65\": 1, \"42\": 1, \"95\": 1, \"50\": 2, \"104\": 1, \"46\": 1, \"19\": 2, \"90\": 1}, \"112\": {\"112\": 6, \"85\": 1, \"41\": 1, \"109\": 1, \"5\": 1, \"57\": 1, \"48\": 2, \"77\": 1, \"52\": 2}, \"92\": {\"92\": 28, \"82\": 2, \"120\": 1, \"28\": 1}, \"95\": {\"95\": 29, \"107\": 1, \"83\": 1, \"75\": 1}, \"96\": {\"126\": 1, \"96\": 16, \"113\": 2, \"16\": 1}, \"127\": {\"127\": 89, \"71\": 2, \"126\": 2, \"88\": 1, \"40\": 5, \"7\": 2, \"3\": 2, \"72\": 2, \"35\": 1, \"39\": 1, \"105\": 1}, \"67\": {\"67\": 13, \"116\": 2, \"36\": 1}, \"83\": {\"20\": 2, \"46\": 1, \"83\": 8, \"19\": 1, \"105\": 1, \"98\": 2, \"107\": 1, \"73\": 1, \"95\": 1, \"47\": 1, \"17\": 1, \"71\": 1, \"1\": 1, \"9\": 1, \"85\": 1}, \"21\": {\"78\": 2, \"21\": 42, \"106\": 1, \"111\": 1, \"101\": 1, \"88\": 1}, \"98\": {\"83\": 2, \"98\": 96, \"55\": 1, \"44\": 5, \"99\": 1, \"9\": 1, \"90\": 5, \"114\": 3, \"107\": 2, \"95\": 2, \"20\": 1, \"52\": 2, \"73\": 1, \"33\": 1, \"3\": 1}, \"108\": {\"36\": 7, \"108\": 108, \"122\": 2, \"27\": 6, \"10\": 1, \"39\": 1, \"11\": 3, \"43\": 1, \"24\": 1, \"30\": 1, \"88\": 1}, \"31\": {\"77\": 1, \"31\": 9, \"40\": 1, \"17\": 1, \"29\": 1, \"121\": 1, \"28\": 2, \"92\": 1, \"64\": 1, \"82\": 1, \"99\": 1}, \"118\": {\"118\": 91, \"110\": 2, \"43\": 2, \"87\": 2, \"113\": 1, \"122\": 1, \"126\": 1}, \"110\": {\"110\": 68, \"8\": 11, \"87\": 7, \"0\": 4, \"118\": 1, \"122\": 1}, \"73\": {\"19\": 1, \"73\": 29, \"85\": 2, \"128\": 2, \"33\": 1, \"34\": 1, \"42\": 3, \"95\": 1}, \"44\": {\"44\": 67, \"117\": 2, \"20\": 1, \"114\": 1, \"107\": 1}, \"37\": {\"37\": 9, \"52\": 1, \"111\": 3, \"64\": 1, \"68\": 1, \"66\": 1}, \"100\": {\"100\": 13, \"82\": 1, \"66\": 1, \"90\": 1}}}, \"per_domain_accuracy\": {\"O_26\": {\"accuracy\": 0.3723958333333333, \"source?\": true}, \"O_44\": {\"accuracy\": 0.8307291666666666, \"source?\": true}, \"O_50\": {\"accuracy\": 0.94453125, \"source?\": true}, \"O_38\": {\"accuracy\": 0.8463541666666666, \"source?\": true}, \"O_20\": {\"accuracy\": 0.31145833333333334, \"source?\": true}, \"O_14\": {\"accuracy\": 0.5697916666666667, \"source?\": true}, \"O_32\": {\"accuracy\": 0.7390625, \"source?\": true}, \"O_8\": {\"accuracy\": 0.43307291666666664, \"source?\": true}, \"W_4\": {\"accuracy\": 0.7456275720164609, \"source?\": false}, \"W_1\": {\"accuracy\": 0.7820444915254238, \"source?\": false}, \"C_5\": {\"accuracy\": 0.9287709497206704, \"source?\": false}, \"C_1\": {\"accuracy\": 0.9488790760869565, \"source?\": false}, \"W_2\": {\"accuracy\": 0.7528765690376569, \"source?\": false}, \"C_3\": {\"accuracy\": 0.8983455882352941, \"source?\": false}, \"C_4\": {\"accuracy\": 0.8977786144578314, \"source?\": false}, \"C_2\": {\"accuracy\": 0.908203125, \"source?\": false}, \"W_3\": {\"accuracy\": 0.7998089519650655, \"source?\": false}}}, \"history\": {\"epoch_indices\": [1, 2, 3, 4, 5], \"train_label_loss\": [0.3892669968995809, 3.926004660802305, 0.23406013224136715, 0.1912611964544686, 0.17293089433480333], \"source_val_label_loss\": [262.42413330078125, 0.4866836667060852, 0.24467705190181732, 0.21615499258041382, 0.17835082113742828], \"target_val_label_loss\": [10728.9638671875, 354.8897399902344, 1355.8321533203125, 1335.083984375, 1555.41943359375], \"source_val_acc_label\": [0.6309244791666667, 0.8734700520833333, 0.9188151041666667, 0.9244140625, 0.9417317708333334], \"target_val_acc_label\": [0.8404397639956093, 0.6656661635565313, 0.5611621844127332, 0.649869648737651, 0.5933040614709111]}, \"dataset_metrics\": {\"source\": {\"train\": {\"n_unique_x\": 179200, \"n_unique_y\": 16, \"n_batch/episode\": 6720}, \"val\": {\"n_unique_x\": 38400, \"n_unique_y\": 16, \"n_batch/episode\": 960}, \"test\": {\"n_unique_x\": 38400, \"n_unique_y\": 16, \"n_batch/episode\": 960}}, \"target\": {\"train\": {\"n_unique_x\": 364204, \"n_unique_y\": 130, \"n_batch/episode\": 13168}, \"val\": {\"n_unique_x\": 77221, \"n_unique_y\": 130, \"n_batch/episode\": 1822}, \"test\": {\"n_unique_x\": 78360, \"n_unique_y\": 130, \"n_batch/episode\": 1854}}}}'"
      ]
     },
     "execution_count": 29,
     "metadata": {},
     "output_type": "execute_result"
    }
   ],
   "source": [
    "json.dumps(experiment)"
   ]
  }
 ],
 "metadata": {
  "celltoolbar": "Tags",
  "kernelspec": {
   "display_name": "Python 3 (ipykernel)",
   "language": "python",
   "name": "python3"
  },
  "language_info": {
   "codemirror_mode": {
    "name": "ipython",
    "version": 3
   },
   "file_extension": ".py",
   "mimetype": "text/x-python",
   "name": "python",
   "nbconvert_exporter": "python",
   "pygments_lexer": "ipython3",
   "version": "3.8.10"
  },
  "papermill": {
   "default_parameters": {},
   "duration": 1137.669542,
   "end_time": "2022-03-20T00:53:39.240221",
   "environment_variables": {},
   "exception": null,
   "input_path": "/mnt/wd500GB/CSC500/csc500-main/csc500-notebooks/templates/tl_ptn_template.ipynb",
   "output_path": "trial.ipynb",
   "parameters": {
    "parameters": {
     "BEST_MODEL_PATH": "./best_model.pth",
     "NUM_LOGS_PER_EPOCH": 10,
     "criteria_for_best": "target_accuracy",
     "dataset_seed": 7,
     "datasets": [
      {
       "domain_prefix": "C_",
       "domains": [
        1,
        2,
        3,
        4,
        5
       ],
       "episode_transforms": [],
       "labels": [
        "1-10.",
        "1-11.",
        "1-15.",
        "1-16.",
        "1-17.",
        "1-18.",
        "1-19.",
        "10-4.",
        "10-7.",
        "11-1.",
        "11-14.",
        "11-17.",
        "11-20.",
        "11-7.",
        "13-20.",
        "13-8.",
        "14-10.",
        "14-11.",
        "14-14.",
        "14-7.",
        "15-1.",
        "15-20.",
        "16-1.",
        "16-16.",
        "17-10.",
        "17-11.",
        "17-2.",
        "19-1.",
        "19-16.",
        "19-19.",
        "19-20.",
        "19-3.",
        "2-10.",
        "2-11.",
        "2-17.",
        "2-18.",
        "2-20.",
        "2-3.",
        "2-4.",
        "2-5.",
        "2-6.",
        "2-7.",
        "2-8.",
        "3-13.",
        "3-18.",
        "3-3.",
        "4-1.",
        "4-10.",
        "4-11.",
        "4-19.",
        "5-5.",
        "6-15.",
        "7-10.",
        "7-14.",
        "8-18.",
        "8-20.",
        "8-3.",
        "8-8."
       ],
       "num_examples_per_domain_per_label": -1,
       "pickle_path": "/mnt/wd500GB/CSC500/csc500-main/datasets/cores.stratified_ds.2022A.pkl",
       "source_or_target_dataset": "target",
       "x_transforms": []
      },
      {
       "domain_prefix": "W_",
       "domains": [
        1,
        2,
        3,
        4
       ],
       "episode_transforms": [],
       "labels": [
        "1-10",
        "1-12",
        "1-14",
        "1-16",
        "1-18",
        "1-19",
        "1-8",
        "10-11",
        "10-17",
        "10-4",
        "10-7",
        "11-1",
        "11-10",
        "11-19",
        "11-20",
        "11-4",
        "11-7",
        "12-19",
        "12-20",
        "12-7",
        "13-14",
        "13-18",
        "13-19",
        "13-20",
        "13-3",
        "13-7",
        "14-10",
        "14-11",
        "14-12",
        "14-13",
        "14-14",
        "14-19",
        "14-20",
        "14-7",
        "14-8",
        "14-9",
        "15-1",
        "15-19",
        "15-6",
        "16-1",
        "16-16",
        "16-19",
        "16-20",
        "17-10",
        "17-11",
        "18-1",
        "18-10",
        "18-11",
        "18-12",
        "18-13",
        "18-14",
        "18-15",
        "18-16",
        "18-17",
        "18-19",
        "18-2",
        "18-20",
        "18-4",
        "18-5",
        "18-7",
        "18-8",
        "18-9",
        "19-1",
        "19-10",
        "19-11",
        "19-12",
        "19-13",
        "19-14",
        "19-15",
        "19-19",
        "19-2",
        "19-20",
        "19-3",
        "19-4",
        "19-6",
        "19-7",
        "19-8",
        "19-9",
        "2-1",
        "2-13",
        "2-15",
        "2-3",
        "2-4",
        "2-5",
        "2-6",
        "2-7",
        "2-8",
        "20-1",
        "20-12",
        "20-14",
        "20-15",
        "20-16",
        "20-18",
        "20-19",
        "20-20",
        "20-3",
        "20-4",
        "20-5",
        "20-7",
        "20-8",
        "3-1",
        "3-13",
        "3-18",
        "3-2",
        "3-8",
        "4-1",
        "4-10",
        "4-11",
        "5-1",
        "5-5",
        "6-1",
        "6-15",
        "6-6",
        "7-10",
        "7-11",
        "7-12",
        "7-13",
        "7-14",
        "7-7",
        "7-8",
        "7-9",
        "8-1",
        "8-13",
        "8-14",
        "8-18",
        "8-20",
        "8-3",
        "8-8",
        "9-1",
        "9-7"
       ],
       "num_examples_per_domain_per_label": -1,
       "pickle_path": "/mnt/wd500GB/CSC500/csc500-main/datasets/wisig.node3-19.stratified_ds.2022A.pkl",
       "source_or_target_dataset": "target",
       "x_transforms": []
      },
      {
       "domain_prefix": "O_",
       "domains": [
        32,
        38,
        8,
        44,
        14,
        50,
        20,
        26
       ],
       "episode_transforms": [],
       "labels": [
        "3123D52",
        "3123D65",
        "3123D79",
        "3123D80",
        "3123D54",
        "3123D70",
        "3123D7B",
        "3123D89",
        "3123D58",
        "3123D76",
        "3123D7D",
        "3123EFE",
        "3123D64",
        "3123D78",
        "3123D7E",
        "3124E4A"
       ],
       "num_examples_per_domain_per_label": 2000,
       "pickle_path": "/mnt/wd500GB/CSC500/csc500-main/datasets/oracle.Run1_framed_2000Examples_stratified_ds.2022A.pkl",
       "source_or_target_dataset": "source",
       "x_transforms": []
      }
     ],
     "device": "cuda",
     "experiment_name": "tl_2v2:oracle.run1.framed -> cores+wisig",
     "lr": 0.0001,
     "n_epoch": 50,
     "n_query": 2,
     "n_shot": 3,
     "n_way": 16,
     "patience": 3,
     "seed": 7,
     "test_k_factor": 2,
     "torch_default_dtype": "torch.float32",
     "train_k_factor": 3,
     "val_k_factor": 2,
     "x_net": [
      {
       "class": "nnReshape",
       "kargs": {
        "shape": [
         -1,
         1,
         2,
         256
        ]
       }
      },
      {
       "class": "Conv2d",
       "kargs": {
        "bias": false,
        "in_channels": 1,
        "kernel_size": [
         1,
         7
        ],
        "out_channels": 256,
        "padding": [
         0,
         3
        ]
       }
      },
      {
       "class": "ReLU",
       "kargs": {
        "inplace": true
       }
      },
      {
       "class": "BatchNorm2d",
       "kargs": {
        "num_features": 256
       }
      },
      {
       "class": "Conv2d",
       "kargs": {
        "bias": true,
        "in_channels": 256,
        "kernel_size": [
         2,
         7
        ],
        "out_channels": 80,
        "padding": [
         0,
         3
        ]
       }
      },
      {
       "class": "ReLU",
       "kargs": {
        "inplace": true
       }
      },
      {
       "class": "BatchNorm2d",
       "kargs": {
        "num_features": 80
       }
      },
      {
       "class": "Flatten",
       "kargs": {}
      },
      {
       "class": "Linear",
       "kargs": {
        "in_features": 20480,
        "out_features": 256
       }
      },
      {
       "class": "ReLU",
       "kargs": {
        "inplace": true
       }
      },
      {
       "class": "BatchNorm1d",
       "kargs": {
        "num_features": 256
       }
      },
      {
       "class": "Linear",
       "kargs": {
        "in_features": 256,
        "out_features": 256
       }
      }
     ]
    }
   },
   "start_time": "2022-03-20T00:34:41.570679",
   "version": "2.3.4"
  }
 },
 "nbformat": 4,
 "nbformat_minor": 5
}