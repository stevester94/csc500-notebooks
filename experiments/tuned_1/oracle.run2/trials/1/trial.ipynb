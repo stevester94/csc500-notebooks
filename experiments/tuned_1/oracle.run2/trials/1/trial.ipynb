{
 "cells": [
  {
   "cell_type": "markdown",
   "id": "9fea5f46",
   "metadata": {
    "papermill": {
     "duration": 0.013602,
     "end_time": "2022-03-05T20:09:50.287315",
     "exception": false,
     "start_time": "2022-03-05T20:09:50.273713",
     "status": "completed"
    },
    "tags": []
   },
   "source": [
    "# PTN Template\n",
    "This notebook serves as a template for single dataset PTN experiments  \n",
    "It can be run on its own by setting STANDALONE to True (do a find for \"STANDALONE\" to see where)  \n",
    "But it is intended to be executed as part of a *papermill.py script. See any of the   \n",
    "experimentes with a papermill script to get started with that workflow.  "
   ]
  },
  {
   "cell_type": "code",
   "execution_count": 1,
   "id": "0902182a",
   "metadata": {
    "execution": {
     "iopub.execute_input": "2022-03-05T20:09:50.314690Z",
     "iopub.status.busy": "2022-03-05T20:09:50.314281Z",
     "iopub.status.idle": "2022-03-05T20:09:51.076526Z",
     "shell.execute_reply": "2022-03-05T20:09:51.076047Z"
    },
    "papermill": {
     "duration": 0.780135,
     "end_time": "2022-03-05T20:09:51.076644",
     "exception": false,
     "start_time": "2022-03-05T20:09:50.296509",
     "status": "completed"
    },
    "tags": []
   },
   "outputs": [],
   "source": [
    "%load_ext autoreload\n",
    "%autoreload 2\n",
    "%matplotlib inline\n",
    "\n",
    "    \n",
    "import os, json, sys, time, random\n",
    "import numpy as np\n",
    "import torch\n",
    "from torch.optim import Adam\n",
    "from  easydict import EasyDict\n",
    "import matplotlib.pyplot as plt\n",
    "\n",
    "from steves_models.steves_ptn import Steves_Prototypical_Network\n",
    "\n",
    "from steves_utils.lazy_iterable_wrapper import Lazy_Iterable_Wrapper\n",
    "from steves_utils.iterable_aggregator import Iterable_Aggregator\n",
    "from steves_utils.ptn_train_eval_test_jig import  PTN_Train_Eval_Test_Jig\n",
    "from steves_utils.torch_sequential_builder import build_sequential\n",
    "from steves_utils.torch_utils import get_dataset_metrics, ptn_confusion_by_domain_over_dataloader\n",
    "from steves_utils.utils_v2 import (per_domain_accuracy_from_confusion, get_datasets_base_path)\n",
    "from steves_utils.PTN.utils import independent_accuracy_assesment\n",
    "\n",
    "from steves_utils.stratified_dataset.episodic_accessor import Episodic_Accessor_Factory\n",
    "\n",
    "from steves_utils.ptn_do_report import (\n",
    "    get_loss_curve,\n",
    "    get_results_table,\n",
    "    get_parameters_table,\n",
    "    get_domain_accuracies,\n",
    ")\n",
    "\n",
    "from steves_utils.transforms import get_chained_transform"
   ]
  },
  {
   "cell_type": "markdown",
   "id": "41c840b4",
   "metadata": {
    "papermill": {
     "duration": 0.009387,
     "end_time": "2022-03-05T20:09:51.100809",
     "exception": false,
     "start_time": "2022-03-05T20:09:51.091422",
     "status": "completed"
    },
    "tags": []
   },
   "source": [
    "# Required Parameters\n",
    "These are allowed parameters, not defaults\n",
    "Each of these values need to be present in the injected parameters (the notebook will raise an exception if they are not present)\n",
    "\n",
    "Papermill uses the cell tag \"parameters\" to inject the real parameters below this cell.\n",
    "Enable tags to see what I mean"
   ]
  },
  {
   "cell_type": "code",
   "execution_count": 2,
   "id": "fd44eb83",
   "metadata": {
    "execution": {
     "iopub.execute_input": "2022-03-05T20:09:51.123757Z",
     "iopub.status.busy": "2022-03-05T20:09:51.123491Z",
     "iopub.status.idle": "2022-03-05T20:09:51.137396Z",
     "shell.execute_reply": "2022-03-05T20:09:51.137042Z"
    },
    "papermill": {
     "duration": 0.02728,
     "end_time": "2022-03-05T20:09:51.137467",
     "exception": false,
     "start_time": "2022-03-05T20:09:51.110187",
     "status": "completed"
    },
    "tags": []
   },
   "outputs": [],
   "source": [
    "required_parameters = {\n",
    "    \"experiment_name\",\n",
    "    \"lr\",\n",
    "    \"device\",\n",
    "    \"seed\",\n",
    "    \"dataset_seed\",\n",
    "    \"labels_source\",\n",
    "    \"labels_target\",\n",
    "    \"domains_source\",\n",
    "    \"domains_target\",\n",
    "    \"num_examples_per_domain_per_label_source\",\n",
    "    \"num_examples_per_domain_per_label_target\",\n",
    "    \"n_shot\",\n",
    "    \"n_way\",\n",
    "    \"n_query\",\n",
    "    \"train_k_factor\",\n",
    "    \"val_k_factor\",\n",
    "    \"test_k_factor\",\n",
    "    \"n_epoch\",\n",
    "    \"patience\",\n",
    "    \"criteria_for_best\",\n",
    "    \"x_transforms_source\",\n",
    "    \"x_transforms_target\",\n",
    "    \"episode_transforms_source\",\n",
    "    \"episode_transforms_target\",\n",
    "    \"pickle_name\",\n",
    "    \"x_net\",\n",
    "    \"NUM_LOGS_PER_EPOCH\",\n",
    "    \"BEST_MODEL_PATH\",\n",
    "    \"torch_default_dtype\"\n",
    "}"
   ]
  },
  {
   "cell_type": "code",
   "execution_count": 3,
   "id": "fa3f0049",
   "metadata": {
    "execution": {
     "iopub.execute_input": "2022-03-05T20:09:51.174566Z",
     "iopub.status.busy": "2022-03-05T20:09:51.171768Z",
     "iopub.status.idle": "2022-03-05T20:09:51.186331Z",
     "shell.execute_reply": "2022-03-05T20:09:51.185894Z"
    },
    "papermill": {
     "duration": 0.034767,
     "end_time": "2022-03-05T20:09:51.186436",
     "exception": false,
     "start_time": "2022-03-05T20:09:51.151669",
     "status": "completed"
    },
    "tags": [
     "parameters"
    ]
   },
   "outputs": [],
   "source": [
    "\n",
    "\n",
    "standalone_parameters = {}\n",
    "standalone_parameters[\"experiment_name\"] = \"STANDALONE PTN\"\n",
    "standalone_parameters[\"lr\"] = 0.0001\n",
    "standalone_parameters[\"device\"] = \"cuda\"\n",
    "\n",
    "standalone_parameters[\"seed\"] = 1337\n",
    "standalone_parameters[\"dataset_seed\"] = 1337\n",
    "\n",
    "\n",
    "standalone_parameters[\"num_examples_per_domain_per_label_source\"]=100\n",
    "standalone_parameters[\"num_examples_per_domain_per_label_target\"]=100\n",
    "\n",
    "standalone_parameters[\"n_shot\"] = 3\n",
    "standalone_parameters[\"n_query\"]  = 2\n",
    "standalone_parameters[\"train_k_factor\"] = 1\n",
    "standalone_parameters[\"val_k_factor\"] = 2\n",
    "standalone_parameters[\"test_k_factor\"] = 2\n",
    "\n",
    "\n",
    "standalone_parameters[\"n_epoch\"] = 100\n",
    "\n",
    "standalone_parameters[\"patience\"] = 10\n",
    "standalone_parameters[\"criteria_for_best\"] = \"target_accuracy\"\n",
    "\n",
    "standalone_parameters[\"x_transforms_source\"] = [\"unit_power\"]\n",
    "standalone_parameters[\"x_transforms_target\"] = [\"unit_power\"]\n",
    "standalone_parameters[\"episode_transforms_source\"] = []\n",
    "standalone_parameters[\"episode_transforms_target\"] = []\n",
    "\n",
    "standalone_parameters[\"torch_default_dtype\"] = \"torch.float32\" \n",
    "\n",
    "\n",
    "\n",
    "standalone_parameters[\"x_net\"] =     [\n",
    "    {\"class\": \"nnReshape\", \"kargs\": {\"shape\":[-1, 1, 2, 256]}},\n",
    "    {\"class\": \"Conv2d\", \"kargs\": { \"in_channels\":1, \"out_channels\":256, \"kernel_size\":(1,7), \"bias\":False, \"padding\":(0,3), },},\n",
    "    {\"class\": \"ReLU\", \"kargs\": {\"inplace\": True}},\n",
    "    {\"class\": \"BatchNorm2d\", \"kargs\": {\"num_features\":256}},\n",
    "\n",
    "    {\"class\": \"Conv2d\", \"kargs\": { \"in_channels\":256, \"out_channels\":80, \"kernel_size\":(2,7), \"bias\":True, \"padding\":(0,3), },},\n",
    "    {\"class\": \"ReLU\", \"kargs\": {\"inplace\": True}},\n",
    "    {\"class\": \"BatchNorm2d\", \"kargs\": {\"num_features\":80}},\n",
    "    {\"class\": \"Flatten\", \"kargs\": {}},\n",
    "\n",
    "    {\"class\": \"Linear\", \"kargs\": {\"in_features\": 80*256, \"out_features\": 256}}, # 80 units per IQ pair\n",
    "    {\"class\": \"ReLU\", \"kargs\": {\"inplace\": True}},\n",
    "    {\"class\": \"BatchNorm1d\", \"kargs\": {\"num_features\":256}},\n",
    "\n",
    "    {\"class\": \"Linear\", \"kargs\": {\"in_features\": 256, \"out_features\": 256}},\n",
    "]\n",
    "\n",
    "# Parameters relevant to results\n",
    "# These parameters will basically never need to change\n",
    "standalone_parameters[\"NUM_LOGS_PER_EPOCH\"] = 10\n",
    "standalone_parameters[\"BEST_MODEL_PATH\"] = \"./best_model.pth\"\n",
    "\n",
    "# uncomment for CORES dataset\n",
    "from steves_utils.CORES.utils import (\n",
    "    ALL_NODES,\n",
    "    ALL_NODES_MINIMUM_1000_EXAMPLES,\n",
    "    ALL_DAYS\n",
    ")\n",
    "\n",
    "\n",
    "standalone_parameters[\"labels_source\"] = ALL_NODES\n",
    "standalone_parameters[\"labels_target\"] = ALL_NODES\n",
    "\n",
    "standalone_parameters[\"domains_source\"] = [1]\n",
    "standalone_parameters[\"domains_target\"] = [2,3,4,5]\n",
    "\n",
    "standalone_parameters[\"pickle_name\"] = \"cores.stratified_ds.2022A.pkl\"\n",
    "\n",
    "\n",
    "# Uncomment these for ORACLE dataset\n",
    "# from steves_utils.ORACLE.utils_v2 import (\n",
    "#     ALL_DISTANCES_FEET,\n",
    "#     ALL_RUNS,\n",
    "#     ALL_SERIAL_NUMBERS,\n",
    "# )\n",
    "# standalone_parameters[\"labels_source\"] = ALL_SERIAL_NUMBERS\n",
    "# standalone_parameters[\"labels_target\"] = ALL_SERIAL_NUMBERS\n",
    "# standalone_parameters[\"domains_source\"] = [8,20, 38,50]\n",
    "# standalone_parameters[\"domains_target\"] = [14, 26, 32, 44, 56]\n",
    "# standalone_parameters[\"pickle_name\"] = \"oracle.frame_indexed.stratified_ds.2022A.pkl\"\n",
    "# standalone_parameters[\"num_examples_per_domain_per_label_source\"]=1000\n",
    "# standalone_parameters[\"num_examples_per_domain_per_label_target\"]=1000\n",
    "\n",
    "# Uncomment these for Metahan dataset\n",
    "# standalone_parameters[\"labels_source\"] = list(range(19))\n",
    "# standalone_parameters[\"labels_target\"] = list(range(19))\n",
    "# standalone_parameters[\"domains_source\"] = [0]\n",
    "# standalone_parameters[\"domains_target\"] = [1]\n",
    "# standalone_parameters[\"pickle_name\"] = \"metehan.stratified_ds.2022A.pkl\"\n",
    "# standalone_parameters[\"n_way\"]  = len(standalone_parameters[\"labels_source\"])\n",
    "# standalone_parameters[\"num_examples_per_domain_per_label_source\"]=200\n",
    "# standalone_parameters[\"num_examples_per_domain_per_label_target\"]=100\n",
    "\n",
    "\n",
    "standalone_parameters[\"n_way\"]  = len(standalone_parameters[\"labels_source\"])"
   ]
  },
  {
   "cell_type": "code",
   "execution_count": 4,
   "id": "85feb16b",
   "metadata": {
    "execution": {
     "iopub.execute_input": "2022-03-05T20:09:51.218502Z",
     "iopub.status.busy": "2022-03-05T20:09:51.216863Z",
     "iopub.status.idle": "2022-03-05T20:09:51.230579Z",
     "shell.execute_reply": "2022-03-05T20:09:51.229977Z"
    },
    "papermill": {
     "duration": 0.030292,
     "end_time": "2022-03-05T20:09:51.230732",
     "exception": false,
     "start_time": "2022-03-05T20:09:51.200440",
     "status": "completed"
    },
    "tags": [
     "injected-parameters"
    ]
   },
   "outputs": [],
   "source": [
    "# Parameters\n",
    "parameters = {\n",
    "    \"experiment_name\": \"tuned_1_oracle.run2\",\n",
    "    \"device\": \"cuda\",\n",
    "    \"lr\": 0.001,\n",
    "    \"seed\": 1337,\n",
    "    \"dataset_seed\": 1337,\n",
    "    \"labels_source\": [\n",
    "        \"3123D52\",\n",
    "        \"3123D65\",\n",
    "        \"3123D79\",\n",
    "        \"3123D80\",\n",
    "        \"3123D54\",\n",
    "        \"3123D70\",\n",
    "        \"3123D7B\",\n",
    "        \"3123D89\",\n",
    "        \"3123D58\",\n",
    "        \"3123D76\",\n",
    "        \"3123D7D\",\n",
    "        \"3123EFE\",\n",
    "        \"3123D64\",\n",
    "        \"3123D78\",\n",
    "        \"3123D7E\",\n",
    "        \"3124E4A\",\n",
    "    ],\n",
    "    \"labels_target\": [\n",
    "        \"3123D52\",\n",
    "        \"3123D65\",\n",
    "        \"3123D79\",\n",
    "        \"3123D80\",\n",
    "        \"3123D54\",\n",
    "        \"3123D70\",\n",
    "        \"3123D7B\",\n",
    "        \"3123D89\",\n",
    "        \"3123D58\",\n",
    "        \"3123D76\",\n",
    "        \"3123D7D\",\n",
    "        \"3123EFE\",\n",
    "        \"3123D64\",\n",
    "        \"3123D78\",\n",
    "        \"3123D7E\",\n",
    "        \"3124E4A\",\n",
    "    ],\n",
    "    \"x_transforms_source\": [],\n",
    "    \"x_transforms_target\": [],\n",
    "    \"episode_transforms_source\": [],\n",
    "    \"episode_transforms_target\": [],\n",
    "    \"domains_source\": [8, 32, 50],\n",
    "    \"domains_target\": [14, 20, 26, 38, 44],\n",
    "    \"num_examples_per_domain_per_label_source\": 10000,\n",
    "    \"num_examples_per_domain_per_label_target\": 1000,\n",
    "    \"n_shot\": 3,\n",
    "    \"n_way\": 16,\n",
    "    \"n_query\": 2,\n",
    "    \"train_k_factor\": 3,\n",
    "    \"val_k_factor\": 2,\n",
    "    \"test_k_factor\": 2,\n",
    "    \"torch_default_dtype\": \"torch.float32\",\n",
    "    \"n_epoch\": 50,\n",
    "    \"patience\": 3,\n",
    "    \"criteria_for_best\": \"target_loss\",\n",
    "    \"x_net\": [\n",
    "        {\"class\": \"nnReshape\", \"kargs\": {\"shape\": [-1, 1, 2, 256]}},\n",
    "        {\n",
    "            \"class\": \"Conv2d\",\n",
    "            \"kargs\": {\n",
    "                \"in_channels\": 1,\n",
    "                \"out_channels\": 256,\n",
    "                \"kernel_size\": [1, 7],\n",
    "                \"bias\": False,\n",
    "                \"padding\": [0, 3],\n",
    "            },\n",
    "        },\n",
    "        {\"class\": \"ReLU\", \"kargs\": {\"inplace\": True}},\n",
    "        {\"class\": \"BatchNorm2d\", \"kargs\": {\"num_features\": 256}},\n",
    "        {\n",
    "            \"class\": \"Conv2d\",\n",
    "            \"kargs\": {\n",
    "                \"in_channels\": 256,\n",
    "                \"out_channels\": 80,\n",
    "                \"kernel_size\": [2, 7],\n",
    "                \"bias\": True,\n",
    "                \"padding\": [0, 3],\n",
    "            },\n",
    "        },\n",
    "        {\"class\": \"ReLU\", \"kargs\": {\"inplace\": True}},\n",
    "        {\"class\": \"BatchNorm2d\", \"kargs\": {\"num_features\": 80}},\n",
    "        {\"class\": \"Flatten\", \"kargs\": {}},\n",
    "        {\"class\": \"Linear\", \"kargs\": {\"in_features\": 20480, \"out_features\": 256}},\n",
    "        {\"class\": \"ReLU\", \"kargs\": {\"inplace\": True}},\n",
    "        {\"class\": \"BatchNorm1d\", \"kargs\": {\"num_features\": 256}},\n",
    "        {\"class\": \"Linear\", \"kargs\": {\"in_features\": 256, \"out_features\": 256}},\n",
    "    ],\n",
    "    \"NUM_LOGS_PER_EPOCH\": 10,\n",
    "    \"BEST_MODEL_PATH\": \"./best_model.pth\",\n",
    "    \"pickle_name\": \"oracle.Run2_10kExamples_stratified_ds.2022A.pkl\",\n",
    "}\n"
   ]
  },
  {
   "cell_type": "code",
   "execution_count": 5,
   "id": "8fa1cc33",
   "metadata": {
    "execution": {
     "iopub.execute_input": "2022-03-05T20:09:51.265192Z",
     "iopub.status.busy": "2022-03-05T20:09:51.263553Z",
     "iopub.status.idle": "2022-03-05T20:09:51.276258Z",
     "shell.execute_reply": "2022-03-05T20:09:51.275786Z"
    },
    "papermill": {
     "duration": 0.026055,
     "end_time": "2022-03-05T20:09:51.276366",
     "exception": false,
     "start_time": "2022-03-05T20:09:51.250311",
     "status": "completed"
    },
    "tags": []
   },
   "outputs": [],
   "source": [
    "# Set this to True if you want to run this template directly\n",
    "STANDALONE = False\n",
    "if STANDALONE:\n",
    "    print(\"parameters not injected, running with standalone_parameters\")\n",
    "    parameters = standalone_parameters\n",
    "\n",
    "if not 'parameters' in locals() and not 'parameters' in globals():\n",
    "    raise Exception(\"Parameter injection failed\")\n",
    "\n",
    "#Use an easy dict for all the parameters\n",
    "p = EasyDict(parameters)\n",
    "\n",
    "supplied_keys = set(p.keys())\n",
    "\n",
    "if  supplied_keys != required_parameters:\n",
    "    print(\"Parameters are incorrect\")\n",
    "    if len(supplied_keys - required_parameters)>0: print(\"Shouldn't have:\", str(supplied_keys - required_parameters))\n",
    "    if len(required_parameters - supplied_keys)>0: print(\"Need to have:\", str(required_parameters - supplied_keys))\n",
    "    raise RuntimeError(\"Parameters are incorrect\")\n",
    "\n"
   ]
  },
  {
   "cell_type": "code",
   "execution_count": 6,
   "id": "3a028d58",
   "metadata": {
    "execution": {
     "iopub.execute_input": "2022-03-05T20:09:51.304138Z",
     "iopub.status.busy": "2022-03-05T20:09:51.303882Z",
     "iopub.status.idle": "2022-03-05T20:09:51.315525Z",
     "shell.execute_reply": "2022-03-05T20:09:51.315170Z"
    },
    "papermill": {
     "duration": 0.023707,
     "end_time": "2022-03-05T20:09:51.315596",
     "exception": false,
     "start_time": "2022-03-05T20:09:51.291889",
     "status": "completed"
    },
    "tags": []
   },
   "outputs": [],
   "source": [
    "###################################\n",
    "# Set the RNGs and make it all deterministic\n",
    "###################################\n",
    "np.random.seed(p.seed)\n",
    "random.seed(p.seed)\n",
    "torch.manual_seed(p.seed)\n",
    "\n",
    "torch.use_deterministic_algorithms(True) "
   ]
  },
  {
   "cell_type": "code",
   "execution_count": 7,
   "id": "b691acf6",
   "metadata": {
    "execution": {
     "iopub.execute_input": "2022-03-05T20:09:51.349846Z",
     "iopub.status.busy": "2022-03-05T20:09:51.341399Z",
     "iopub.status.idle": "2022-03-05T20:09:51.357017Z",
     "shell.execute_reply": "2022-03-05T20:09:51.357550Z"
    },
    "papermill": {
     "duration": 0.028396,
     "end_time": "2022-03-05T20:09:51.357710",
     "exception": false,
     "start_time": "2022-03-05T20:09:51.329314",
     "status": "completed"
    },
    "tags": []
   },
   "outputs": [],
   "source": [
    "###########################################\n",
    "# The stratified datasets honor this\n",
    "###########################################\n",
    "torch.set_default_dtype(eval(p.torch_default_dtype))"
   ]
  },
  {
   "cell_type": "code",
   "execution_count": 8,
   "id": "b5fba671",
   "metadata": {
    "execution": {
     "iopub.execute_input": "2022-03-05T20:09:51.392642Z",
     "iopub.status.busy": "2022-03-05T20:09:51.391892Z",
     "iopub.status.idle": "2022-03-05T20:09:51.430871Z",
     "shell.execute_reply": "2022-03-05T20:09:51.431250Z"
    },
    "papermill": {
     "duration": 0.056615,
     "end_time": "2022-03-05T20:09:51.431364",
     "exception": false,
     "start_time": "2022-03-05T20:09:51.374749",
     "status": "completed"
    },
    "tags": []
   },
   "outputs": [],
   "source": [
    "###################################\n",
    "# Build the network(s)\n",
    "# Note: It's critical to do this AFTER setting the RNG\n",
    "# (This is due to the randomized initial weights)\n",
    "###################################\n",
    "x_net = build_sequential(p.x_net)"
   ]
  },
  {
   "cell_type": "code",
   "execution_count": 9,
   "id": "5d7e61cc",
   "metadata": {
    "execution": {
     "iopub.execute_input": "2022-03-05T20:09:51.457406Z",
     "iopub.status.busy": "2022-03-05T20:09:51.457154Z",
     "iopub.status.idle": "2022-03-05T20:09:51.469316Z",
     "shell.execute_reply": "2022-03-05T20:09:51.468920Z"
    },
    "papermill": {
     "duration": 0.024723,
     "end_time": "2022-03-05T20:09:51.469407",
     "exception": false,
     "start_time": "2022-03-05T20:09:51.444684",
     "status": "completed"
    },
    "tags": []
   },
   "outputs": [],
   "source": [
    "start_time_secs = time.time()"
   ]
  },
  {
   "cell_type": "code",
   "execution_count": 10,
   "id": "fd5442bc",
   "metadata": {
    "execution": {
     "iopub.execute_input": "2022-03-05T20:09:51.502217Z",
     "iopub.status.busy": "2022-03-05T20:09:51.494549Z",
     "iopub.status.idle": "2022-03-05T20:09:56.215264Z",
     "shell.execute_reply": "2022-03-05T20:09:56.214795Z"
    },
    "papermill": {
     "duration": 4.731881,
     "end_time": "2022-03-05T20:09:56.215374",
     "exception": false,
     "start_time": "2022-03-05T20:09:51.483493",
     "status": "completed"
    },
    "tags": []
   },
   "outputs": [],
   "source": [
    "###################################\n",
    "# Build the dataset\n",
    "###################################\n",
    "\n",
    "if p.x_transforms_source == []: x_transform_source = None\n",
    "else: x_transform_source = get_chained_transform(p.x_transforms_source) \n",
    "\n",
    "if p.x_transforms_target == []: x_transform_target = None\n",
    "else: x_transform_target = get_chained_transform(p.x_transforms_target)\n",
    "\n",
    "if p.episode_transforms_source == []: episode_transform_source = None\n",
    "else: raise Exception(\"episode_transform_source not implemented\")\n",
    "\n",
    "if p.episode_transforms_target == []: episode_transform_target = None\n",
    "else: raise Exception(\"episode_transform_target not implemented\")\n",
    "\n",
    "\n",
    "eaf_source = Episodic_Accessor_Factory(\n",
    "    labels=p.labels_source,\n",
    "    domains=p.domains_source,\n",
    "    num_examples_per_domain_per_label=p.num_examples_per_domain_per_label_source,\n",
    "    iterator_seed=p.seed,\n",
    "    dataset_seed=p.dataset_seed,\n",
    "    n_shot=p.n_shot,\n",
    "    n_way=p.n_way,\n",
    "    n_query=p.n_query,\n",
    "    train_val_test_k_factors=(p.train_k_factor,p.val_k_factor,p.test_k_factor),\n",
    "    pickle_path=os.path.join(get_datasets_base_path(), p.pickle_name),\n",
    "    x_transform_func=x_transform_source,\n",
    "    example_transform_func=episode_transform_source,\n",
    "    \n",
    ")\n",
    "train_original_source, val_original_source, test_original_source = eaf_source.get_train(), eaf_source.get_val(), eaf_source.get_test()\n",
    "\n",
    "\n",
    "eaf_target = Episodic_Accessor_Factory(\n",
    "    labels=p.labels_target,\n",
    "    domains=p.domains_target,\n",
    "    num_examples_per_domain_per_label=p.num_examples_per_domain_per_label_target,\n",
    "    iterator_seed=p.seed,\n",
    "    dataset_seed=p.dataset_seed,\n",
    "    n_shot=p.n_shot,\n",
    "    n_way=p.n_way,\n",
    "    n_query=p.n_query,\n",
    "    train_val_test_k_factors=(p.train_k_factor,p.val_k_factor,p.test_k_factor),\n",
    "    pickle_path=os.path.join(get_datasets_base_path(), p.pickle_name),\n",
    "    x_transform_func=x_transform_target,\n",
    "    example_transform_func=episode_transform_target,\n",
    ")\n",
    "train_original_target, val_original_target, test_original_target = eaf_target.get_train(), eaf_target.get_val(), eaf_target.get_test()\n",
    "\n",
    "\n",
    "transform_lambda = lambda ex: ex[1] # Original is (<domain>, <episode>) so we strip down to episode only\n",
    "\n",
    "train_processed_source = Lazy_Iterable_Wrapper(train_original_source, transform_lambda)\n",
    "val_processed_source   = Lazy_Iterable_Wrapper(val_original_source, transform_lambda)\n",
    "test_processed_source  = Lazy_Iterable_Wrapper(test_original_source, transform_lambda)\n",
    "\n",
    "train_processed_target = Lazy_Iterable_Wrapper(train_original_target, transform_lambda)\n",
    "val_processed_target   = Lazy_Iterable_Wrapper(val_original_target, transform_lambda)\n",
    "test_processed_target  = Lazy_Iterable_Wrapper(test_original_target, transform_lambda)\n",
    "\n",
    "datasets = EasyDict({\n",
    "    \"source\": {\n",
    "        \"original\": {\"train\":train_original_source, \"val\":val_original_source, \"test\":test_original_source},\n",
    "        \"processed\": {\"train\":train_processed_source, \"val\":val_processed_source, \"test\":test_processed_source}\n",
    "    },\n",
    "    \"target\": {\n",
    "        \"original\": {\"train\":train_original_target, \"val\":val_original_target, \"test\":test_original_target},\n",
    "        \"processed\": {\"train\":train_processed_target, \"val\":val_processed_target, \"test\":test_processed_target}\n",
    "    },\n",
    "})"
   ]
  },
  {
   "cell_type": "code",
   "execution_count": 11,
   "id": "296189d9",
   "metadata": {
    "execution": {
     "iopub.execute_input": "2022-03-05T20:09:56.247866Z",
     "iopub.status.busy": "2022-03-05T20:09:56.243197Z",
     "iopub.status.idle": "2022-03-05T20:09:57.965194Z",
     "shell.execute_reply": "2022-03-05T20:09:57.965504Z"
    },
    "papermill": {
     "duration": 1.736234,
     "end_time": "2022-03-05T20:09:57.965599",
     "exception": false,
     "start_time": "2022-03-05T20:09:56.229365",
     "status": "completed"
    },
    "tags": []
   },
   "outputs": [
    {
     "name": "stdout",
     "output_type": "stream",
     "text": [
      "Visually inspect these to see if they line up with expected values given the transforms\n",
      "x_transforms_source []\n",
      "x_transforms_target []\n",
      "Average magnitude, source: 0.0048365397\n",
      "Average power, source: 2.9325745e-05\n"
     ]
    },
    {
     "name": "stdout",
     "output_type": "stream",
     "text": [
      "Average magnitude, target: 0.0029128897\n",
      "Average power, target: 1.0910343e-05\n"
     ]
    }
   ],
   "source": [
    "# Some quick unit tests on the data\n",
    "from steves_utils.transforms import get_average_power, get_average_magnitude\n",
    "\n",
    "q_x, q_y, s_x, s_y, truth = next(iter(train_processed_source))\n",
    "\n",
    "assert q_x.dtype == eval(p.torch_default_dtype)\n",
    "assert s_x.dtype == eval(p.torch_default_dtype)\n",
    "\n",
    "print(\"Visually inspect these to see if they line up with expected values given the transforms\")\n",
    "print('x_transforms_source', p.x_transforms_source)\n",
    "print('x_transforms_target', p.x_transforms_target)\n",
    "print(\"Average magnitude, source:\", get_average_magnitude(q_x[0].numpy()))\n",
    "print(\"Average power, source:\", get_average_power(q_x[0].numpy()))\n",
    "\n",
    "q_x, q_y, s_x, s_y, truth = next(iter(train_processed_target))\n",
    "print(\"Average magnitude, target:\", get_average_magnitude(q_x[0].numpy()))\n",
    "print(\"Average power, target:\", get_average_power(q_x[0].numpy()))\n"
   ]
  },
  {
   "cell_type": "code",
   "execution_count": 12,
   "id": "bbdacba1",
   "metadata": {
    "execution": {
     "iopub.execute_input": "2022-03-05T20:09:57.992063Z",
     "iopub.status.busy": "2022-03-05T20:09:57.991739Z",
     "iopub.status.idle": "2022-03-05T20:09:58.054622Z",
     "shell.execute_reply": "2022-03-05T20:09:58.054171Z"
    },
    "papermill": {
     "duration": 0.078205,
     "end_time": "2022-03-05T20:09:58.054746",
     "exception": false,
     "start_time": "2022-03-05T20:09:57.976541",
     "status": "completed"
    },
    "tags": []
   },
   "outputs": [
    {
     "name": "stdout",
     "output_type": "stream",
     "text": [
      "(2, 256)\n"
     ]
    }
   ],
   "source": [
    "###################################\n",
    "# Build the model\n",
    "###################################\n",
    "model = Steves_Prototypical_Network(x_net, device=p.device, x_shape=(2,256))\n",
    "optimizer = Adam(params=model.parameters(), lr=p.lr)"
   ]
  },
  {
   "cell_type": "code",
   "execution_count": 13,
   "id": "22b39ac5",
   "metadata": {
    "execution": {
     "iopub.execute_input": "2022-03-05T20:09:58.084323Z",
     "iopub.status.busy": "2022-03-05T20:09:58.084042Z",
     "iopub.status.idle": "2022-03-05T20:54:48.036816Z",
     "shell.execute_reply": "2022-03-05T20:54:48.036578Z"
    },
    "papermill": {
     "duration": 2689.965917,
     "end_time": "2022-03-05T20:54:48.036877",
     "exception": false,
     "start_time": "2022-03-05T20:09:58.070960",
     "status": "completed"
    },
    "tags": []
   },
   "outputs": [
    {
     "name": "stdout",
     "output_type": "stream",
     "text": [
      "epoch: 1, [batch: 1 / 12600], examples_per_second: 26.7454, train_label_loss: 2.3644, \n"
     ]
    },
    {
     "name": "stdout",
     "output_type": "stream",
     "text": [
      "epoch: 1, [batch: 1260 / 12600], examples_per_second: 3205.9281, train_label_loss: 1.0459, \n"
     ]
    },
    {
     "name": "stdout",
     "output_type": "stream",
     "text": [
      "epoch: 1, [batch: 2520 / 12600], examples_per_second: 3194.4833, train_label_loss: 0.2424, \n"
     ]
    },
    {
     "name": "stdout",
     "output_type": "stream",
     "text": [
      "epoch: 1, [batch: 3780 / 12600], examples_per_second: 3196.0788, train_label_loss: 0.5832, \n"
     ]
    },
    {
     "name": "stdout",
     "output_type": "stream",
     "text": [
      "epoch: 1, [batch: 5040 / 12600], examples_per_second: 3190.8526, train_label_loss: 0.3231, \n"
     ]
    },
    {
     "name": "stdout",
     "output_type": "stream",
     "text": [
      "epoch: 1, [batch: 6300 / 12600], examples_per_second: 3206.8469, train_label_loss: 0.4998, \n"
     ]
    },
    {
     "name": "stdout",
     "output_type": "stream",
     "text": [
      "epoch: 1, [batch: 7560 / 12600], examples_per_second: 3159.4393, train_label_loss: 0.2310, \n"
     ]
    },
    {
     "name": "stdout",
     "output_type": "stream",
     "text": [
      "epoch: 1, [batch: 8820 / 12600], examples_per_second: 3166.0135, train_label_loss: 0.5400, \n"
     ]
    },
    {
     "name": "stdout",
     "output_type": "stream",
     "text": [
      "epoch: 1, [batch: 10080 / 12600], examples_per_second: 3205.7954, train_label_loss: 0.3618, \n"
     ]
    },
    {
     "name": "stdout",
     "output_type": "stream",
     "text": [
      "epoch: 1, [batch: 11340 / 12600], examples_per_second: 3192.3652, train_label_loss: 0.0941, \n"
     ]
    },
    {
     "name": "stdout",
     "output_type": "stream",
     "text": [
      "=============================================================\n",
      "epoch: 1, source_val_acc_label: 0.6549, target_val_acc_label: 0.5196, source_val_label_loss: 71.0693, target_val_label_loss: 96.1824, \n",
      "=============================================================\n"
     ]
    },
    {
     "name": "stdout",
     "output_type": "stream",
     "text": [
      "New best\n"
     ]
    },
    {
     "name": "stdout",
     "output_type": "stream",
     "text": [
      "epoch: 2, [batch: 1 / 12600], examples_per_second: 3.0523, train_label_loss: 0.4449, \n"
     ]
    },
    {
     "name": "stdout",
     "output_type": "stream",
     "text": [
      "epoch: 2, [batch: 1260 / 12600], examples_per_second: 3178.2568, train_label_loss: 0.6115, \n"
     ]
    },
    {
     "name": "stdout",
     "output_type": "stream",
     "text": [
      "epoch: 2, [batch: 2520 / 12600], examples_per_second: 3188.7382, train_label_loss: 0.3400, \n"
     ]
    },
    {
     "name": "stdout",
     "output_type": "stream",
     "text": [
      "epoch: 2, [batch: 3780 / 12600], examples_per_second: 3210.3192, train_label_loss: 0.5530, \n"
     ]
    },
    {
     "name": "stdout",
     "output_type": "stream",
     "text": [
      "epoch: 2, [batch: 5040 / 12600], examples_per_second: 3142.5776, train_label_loss: 0.4256, \n"
     ]
    },
    {
     "name": "stdout",
     "output_type": "stream",
     "text": [
      "epoch: 2, [batch: 6300 / 12600], examples_per_second: 3210.3115, train_label_loss: 0.4526, \n"
     ]
    },
    {
     "name": "stdout",
     "output_type": "stream",
     "text": [
      "epoch: 2, [batch: 7560 / 12600], examples_per_second: 3168.6835, train_label_loss: 0.4500, \n"
     ]
    },
    {
     "name": "stdout",
     "output_type": "stream",
     "text": [
      "epoch: 2, [batch: 8820 / 12600], examples_per_second: 3148.0444, train_label_loss: 0.2138, \n"
     ]
    },
    {
     "name": "stdout",
     "output_type": "stream",
     "text": [
      "epoch: 2, [batch: 10080 / 12600], examples_per_second: 3193.0293, train_label_loss: 0.3990, \n"
     ]
    },
    {
     "name": "stdout",
     "output_type": "stream",
     "text": [
      "epoch: 2, [batch: 11340 / 12600], examples_per_second: 3195.6139, train_label_loss: 0.1982, \n"
     ]
    },
    {
     "name": "stdout",
     "output_type": "stream",
     "text": [
      "=============================================================\n",
      "epoch: 2, source_val_acc_label: 0.8666, target_val_acc_label: 0.7447, source_val_label_loss: 0.3817, target_val_label_loss: 1.0213, \n",
      "=============================================================\n"
     ]
    },
    {
     "name": "stdout",
     "output_type": "stream",
     "text": [
      "New best\n"
     ]
    },
    {
     "name": "stdout",
     "output_type": "stream",
     "text": [
      "epoch: 3, [batch: 1 / 12600], examples_per_second: 3.0283, train_label_loss: 0.3916, \n"
     ]
    },
    {
     "name": "stdout",
     "output_type": "stream",
     "text": [
      "epoch: 3, [batch: 1260 / 12600], examples_per_second: 3190.2683, train_label_loss: 0.3805, \n"
     ]
    },
    {
     "name": "stdout",
     "output_type": "stream",
     "text": [
      "epoch: 3, [batch: 2520 / 12600], examples_per_second: 3180.2499, train_label_loss: 0.4497, \n"
     ]
    },
    {
     "name": "stdout",
     "output_type": "stream",
     "text": [
      "epoch: 3, [batch: 3780 / 12600], examples_per_second: 3192.1021, train_label_loss: 0.4435, \n"
     ]
    },
    {
     "name": "stdout",
     "output_type": "stream",
     "text": [
      "epoch: 3, [batch: 5040 / 12600], examples_per_second: 3157.9175, train_label_loss: 0.1504, \n"
     ]
    },
    {
     "name": "stdout",
     "output_type": "stream",
     "text": [
      "epoch: 3, [batch: 6300 / 12600], examples_per_second: 3186.3531, train_label_loss: 0.2530, \n"
     ]
    },
    {
     "name": "stdout",
     "output_type": "stream",
     "text": [
      "epoch: 3, [batch: 7560 / 12600], examples_per_second: 3169.6005, train_label_loss: 0.3823, \n"
     ]
    },
    {
     "name": "stdout",
     "output_type": "stream",
     "text": [
      "epoch: 3, [batch: 8820 / 12600], examples_per_second: 3176.3074, train_label_loss: 0.3231, \n"
     ]
    },
    {
     "name": "stdout",
     "output_type": "stream",
     "text": [
      "epoch: 3, [batch: 10080 / 12600], examples_per_second: 3212.2082, train_label_loss: 0.3502, \n"
     ]
    },
    {
     "name": "stdout",
     "output_type": "stream",
     "text": [
      "epoch: 3, [batch: 11340 / 12600], examples_per_second: 3225.5117, train_label_loss: 0.4376, \n"
     ]
    },
    {
     "name": "stdout",
     "output_type": "stream",
     "text": [
      "=============================================================\n",
      "epoch: 3, source_val_acc_label: 0.8820, target_val_acc_label: 0.7543, source_val_label_loss: 0.3547, target_val_label_loss: 0.9838, \n",
      "=============================================================\n"
     ]
    },
    {
     "name": "stdout",
     "output_type": "stream",
     "text": [
      "New best\n"
     ]
    },
    {
     "name": "stdout",
     "output_type": "stream",
     "text": [
      "epoch: 4, [batch: 1 / 12600], examples_per_second: 3.0881, train_label_loss: 0.1970, \n"
     ]
    },
    {
     "name": "stdout",
     "output_type": "stream",
     "text": [
      "epoch: 4, [batch: 1260 / 12600], examples_per_second: 3222.5296, train_label_loss: 0.2602, \n"
     ]
    },
    {
     "name": "stdout",
     "output_type": "stream",
     "text": [
      "epoch: 4, [batch: 2520 / 12600], examples_per_second: 3230.2994, train_label_loss: 0.4379, \n"
     ]
    },
    {
     "name": "stdout",
     "output_type": "stream",
     "text": [
      "epoch: 4, [batch: 3780 / 12600], examples_per_second: 3246.1891, train_label_loss: 0.6665, \n"
     ]
    },
    {
     "name": "stdout",
     "output_type": "stream",
     "text": [
      "epoch: 4, [batch: 5040 / 12600], examples_per_second: 3229.0866, train_label_loss: 0.4543, \n"
     ]
    },
    {
     "name": "stdout",
     "output_type": "stream",
     "text": [
      "epoch: 4, [batch: 6300 / 12600], examples_per_second: 3190.3035, train_label_loss: 0.2070, \n"
     ]
    },
    {
     "name": "stdout",
     "output_type": "stream",
     "text": [
      "epoch: 4, [batch: 7560 / 12600], examples_per_second: 3195.6178, train_label_loss: 0.1863, \n"
     ]
    },
    {
     "name": "stdout",
     "output_type": "stream",
     "text": [
      "epoch: 4, [batch: 8820 / 12600], examples_per_second: 3186.2439, train_label_loss: 0.4435, \n"
     ]
    },
    {
     "name": "stdout",
     "output_type": "stream",
     "text": [
      "epoch: 4, [batch: 10080 / 12600], examples_per_second: 3179.0421, train_label_loss: 0.2445, \n"
     ]
    },
    {
     "name": "stdout",
     "output_type": "stream",
     "text": [
      "epoch: 4, [batch: 11340 / 12600], examples_per_second: 3166.8388, train_label_loss: 0.5871, \n"
     ]
    },
    {
     "name": "stdout",
     "output_type": "stream",
     "text": [
      "=============================================================\n",
      "epoch: 4, source_val_acc_label: 0.8921, target_val_acc_label: 0.7721, source_val_label_loss: 0.3022, target_val_label_loss: 0.7477, \n",
      "=============================================================\n"
     ]
    },
    {
     "name": "stdout",
     "output_type": "stream",
     "text": [
      "New best\n"
     ]
    },
    {
     "name": "stdout",
     "output_type": "stream",
     "text": [
      "epoch: 5, [batch: 1 / 12600], examples_per_second: 3.0473, train_label_loss: 0.2497, \n"
     ]
    },
    {
     "name": "stdout",
     "output_type": "stream",
     "text": [
      "epoch: 5, [batch: 1260 / 12600], examples_per_second: 3145.9439, train_label_loss: 0.2422, \n"
     ]
    },
    {
     "name": "stdout",
     "output_type": "stream",
     "text": [
      "epoch: 5, [batch: 2520 / 12600], examples_per_second: 3188.3764, train_label_loss: 0.4498, \n"
     ]
    },
    {
     "name": "stdout",
     "output_type": "stream",
     "text": [
      "epoch: 5, [batch: 3780 / 12600], examples_per_second: 3176.4176, train_label_loss: 0.1938, \n"
     ]
    },
    {
     "name": "stdout",
     "output_type": "stream",
     "text": [
      "epoch: 5, [batch: 5040 / 12600], examples_per_second: 3155.1747, train_label_loss: 0.2208, \n"
     ]
    },
    {
     "name": "stdout",
     "output_type": "stream",
     "text": [
      "epoch: 5, [batch: 6300 / 12600], examples_per_second: 3216.2876, train_label_loss: 0.1065, \n"
     ]
    },
    {
     "name": "stdout",
     "output_type": "stream",
     "text": [
      "epoch: 5, [batch: 7560 / 12600], examples_per_second: 3168.5234, train_label_loss: 0.2407, \n"
     ]
    },
    {
     "name": "stdout",
     "output_type": "stream",
     "text": [
      "epoch: 5, [batch: 8820 / 12600], examples_per_second: 3213.0309, train_label_loss: 0.1955, \n"
     ]
    },
    {
     "name": "stdout",
     "output_type": "stream",
     "text": [
      "epoch: 5, [batch: 10080 / 12600], examples_per_second: 3239.6672, train_label_loss: 0.1007, \n"
     ]
    },
    {
     "name": "stdout",
     "output_type": "stream",
     "text": [
      "epoch: 5, [batch: 11340 / 12600], examples_per_second: 3202.9406, train_label_loss: 0.0775, \n"
     ]
    },
    {
     "name": "stdout",
     "output_type": "stream",
     "text": [
      "=============================================================\n",
      "epoch: 5, source_val_acc_label: 0.8996, target_val_acc_label: 0.7788, source_val_label_loss: 0.2742, target_val_label_loss: 0.7894, \n",
      "=============================================================\n"
     ]
    },
    {
     "name": "stdout",
     "output_type": "stream",
     "text": [
      "epoch: 6, [batch: 1 / 12600], examples_per_second: 3.0570, train_label_loss: 0.3103, \n"
     ]
    },
    {
     "name": "stdout",
     "output_type": "stream",
     "text": [
      "epoch: 6, [batch: 1260 / 12600], examples_per_second: 3168.7567, train_label_loss: 0.0398, \n"
     ]
    },
    {
     "name": "stdout",
     "output_type": "stream",
     "text": [
      "epoch: 6, [batch: 2520 / 12600], examples_per_second: 3161.7993, train_label_loss: 0.1012, \n"
     ]
    },
    {
     "name": "stdout",
     "output_type": "stream",
     "text": [
      "epoch: 6, [batch: 3780 / 12600], examples_per_second: 3151.2174, train_label_loss: 0.1969, \n"
     ]
    },
    {
     "name": "stdout",
     "output_type": "stream",
     "text": [
      "epoch: 6, [batch: 5040 / 12600], examples_per_second: 3184.7716, train_label_loss: 0.4315, \n"
     ]
    },
    {
     "name": "stdout",
     "output_type": "stream",
     "text": [
      "epoch: 6, [batch: 6300 / 12600], examples_per_second: 3189.3256, train_label_loss: 0.1061, \n"
     ]
    },
    {
     "name": "stdout",
     "output_type": "stream",
     "text": [
      "epoch: 6, [batch: 7560 / 12600], examples_per_second: 3191.8743, train_label_loss: 0.1115, \n"
     ]
    },
    {
     "name": "stdout",
     "output_type": "stream",
     "text": [
      "epoch: 6, [batch: 8820 / 12600], examples_per_second: 3185.1936, train_label_loss: 0.1243, \n"
     ]
    },
    {
     "name": "stdout",
     "output_type": "stream",
     "text": [
      "epoch: 6, [batch: 10080 / 12600], examples_per_second: 3137.5820, train_label_loss: 0.1015, \n"
     ]
    },
    {
     "name": "stdout",
     "output_type": "stream",
     "text": [
      "epoch: 6, [batch: 11340 / 12600], examples_per_second: 3183.5229, train_label_loss: 0.1612, \n"
     ]
    },
    {
     "name": "stdout",
     "output_type": "stream",
     "text": [
      "=============================================================\n",
      "epoch: 6, source_val_acc_label: 0.9057, target_val_acc_label: 0.7774, source_val_label_loss: 0.2789, target_val_label_loss: 0.8644, \n",
      "=============================================================\n"
     ]
    },
    {
     "name": "stdout",
     "output_type": "stream",
     "text": [
      "epoch: 7, [batch: 1 / 12600], examples_per_second: 3.0098, train_label_loss: 0.1991, \n"
     ]
    },
    {
     "name": "stdout",
     "output_type": "stream",
     "text": [
      "epoch: 7, [batch: 1260 / 12600], examples_per_second: 3181.4285, train_label_loss: 0.1385, \n"
     ]
    },
    {
     "name": "stdout",
     "output_type": "stream",
     "text": [
      "epoch: 7, [batch: 2520 / 12600], examples_per_second: 3236.8712, train_label_loss: 0.0352, \n"
     ]
    },
    {
     "name": "stdout",
     "output_type": "stream",
     "text": [
      "epoch: 7, [batch: 3780 / 12600], examples_per_second: 3238.5996, train_label_loss: 0.1995, \n"
     ]
    },
    {
     "name": "stdout",
     "output_type": "stream",
     "text": [
      "epoch: 7, [batch: 5040 / 12600], examples_per_second: 3230.8888, train_label_loss: 0.1214, \n"
     ]
    },
    {
     "name": "stdout",
     "output_type": "stream",
     "text": [
      "epoch: 7, [batch: 6300 / 12600], examples_per_second: 3239.0250, train_label_loss: 0.1391, \n"
     ]
    },
    {
     "name": "stdout",
     "output_type": "stream",
     "text": [
      "epoch: 7, [batch: 7560 / 12600], examples_per_second: 3246.0396, train_label_loss: 0.1333, \n"
     ]
    },
    {
     "name": "stdout",
     "output_type": "stream",
     "text": [
      "epoch: 7, [batch: 8820 / 12600], examples_per_second: 3232.9605, train_label_loss: 0.0564, \n"
     ]
    },
    {
     "name": "stdout",
     "output_type": "stream",
     "text": [
      "epoch: 7, [batch: 10080 / 12600], examples_per_second: 3236.1851, train_label_loss: 0.0434, \n"
     ]
    },
    {
     "name": "stdout",
     "output_type": "stream",
     "text": [
      "epoch: 7, [batch: 11340 / 12600], examples_per_second: 3240.4895, train_label_loss: 0.1389, \n"
     ]
    },
    {
     "name": "stdout",
     "output_type": "stream",
     "text": [
      "=============================================================\n",
      "epoch: 7, source_val_acc_label: 0.9098, target_val_acc_label: 0.7776, source_val_label_loss: 0.2683, target_val_label_loss: 0.8072, \n",
      "=============================================================\n"
     ]
    },
    {
     "name": "stdout",
     "output_type": "stream",
     "text": [
      "epoch: 8, [batch: 1 / 12600], examples_per_second: 3.1026, train_label_loss: 0.1608, \n"
     ]
    },
    {
     "name": "stdout",
     "output_type": "stream",
     "text": [
      "epoch: 8, [batch: 1260 / 12600], examples_per_second: 3221.9350, train_label_loss: 0.1897, \n"
     ]
    },
    {
     "name": "stdout",
     "output_type": "stream",
     "text": [
      "epoch: 8, [batch: 2520 / 12600], examples_per_second: 3246.0630, train_label_loss: 0.1950, \n"
     ]
    },
    {
     "name": "stdout",
     "output_type": "stream",
     "text": [
      "epoch: 8, [batch: 3780 / 12600], examples_per_second: 3254.7477, train_label_loss: 0.1094, \n"
     ]
    },
    {
     "name": "stdout",
     "output_type": "stream",
     "text": [
      "epoch: 8, [batch: 5040 / 12600], examples_per_second: 3237.9539, train_label_loss: 0.1323, \n"
     ]
    },
    {
     "name": "stdout",
     "output_type": "stream",
     "text": [
      "epoch: 8, [batch: 6300 / 12600], examples_per_second: 3212.2569, train_label_loss: 0.1392, \n"
     ]
    },
    {
     "name": "stdout",
     "output_type": "stream",
     "text": [
      "epoch: 8, [batch: 7560 / 12600], examples_per_second: 3157.5906, train_label_loss: 0.2582, \n"
     ]
    },
    {
     "name": "stdout",
     "output_type": "stream",
     "text": [
      "epoch: 8, [batch: 8820 / 12600], examples_per_second: 3175.4091, train_label_loss: 0.0999, \n"
     ]
    },
    {
     "name": "stdout",
     "output_type": "stream",
     "text": [
      "epoch: 8, [batch: 10080 / 12600], examples_per_second: 3172.2260, train_label_loss: 0.2532, \n"
     ]
    },
    {
     "name": "stdout",
     "output_type": "stream",
     "text": [
      "epoch: 8, [batch: 11340 / 12600], examples_per_second: 3192.6439, train_label_loss: 0.1306, \n"
     ]
    },
    {
     "name": "stdout",
     "output_type": "stream",
     "text": [
      "=============================================================\n",
      "epoch: 8, source_val_acc_label: 0.9025, target_val_acc_label: 0.7708, source_val_label_loss: 0.3049, target_val_label_loss: 0.9600, \n",
      "=============================================================\n"
     ]
    },
    {
     "name": "stdout",
     "output_type": "stream",
     "text": [
      "Patience (3) exhausted\n"
     ]
    }
   ],
   "source": [
    "###################################\n",
    "# train\n",
    "###################################\n",
    "jig = PTN_Train_Eval_Test_Jig(model, p.BEST_MODEL_PATH, p.device)\n",
    "\n",
    "jig.train(\n",
    "    train_iterable=datasets.source.processed.train,\n",
    "    source_val_iterable=datasets.source.processed.val,\n",
    "    target_val_iterable=datasets.target.processed.val,\n",
    "    num_epochs=p.n_epoch,\n",
    "    num_logs_per_epoch=p.NUM_LOGS_PER_EPOCH,\n",
    "    patience=p.patience,\n",
    "    optimizer=optimizer,\n",
    "    criteria_for_best=p.criteria_for_best,\n",
    ")"
   ]
  },
  {
   "cell_type": "code",
   "execution_count": 14,
   "id": "31e8fabf",
   "metadata": {
    "execution": {
     "iopub.execute_input": "2022-03-05T20:54:48.095444Z",
     "iopub.status.busy": "2022-03-05T20:54:48.094916Z",
     "iopub.status.idle": "2022-03-05T20:54:48.111496Z",
     "shell.execute_reply": "2022-03-05T20:54:48.111108Z"
    },
    "papermill": {
     "duration": 0.047624,
     "end_time": "2022-03-05T20:54:48.111596",
     "exception": false,
     "start_time": "2022-03-05T20:54:48.063972",
     "status": "completed"
    },
    "tags": []
   },
   "outputs": [],
   "source": [
    "total_experiment_time_secs = time.time() - start_time_secs"
   ]
  },
  {
   "cell_type": "code",
   "execution_count": 15,
   "id": "87b9595b",
   "metadata": {
    "execution": {
     "iopub.execute_input": "2022-03-05T20:54:48.178511Z",
     "iopub.status.busy": "2022-03-05T20:54:48.178220Z",
     "iopub.status.idle": "2022-03-05T20:56:39.368030Z",
     "shell.execute_reply": "2022-03-05T20:56:39.367567Z"
    },
    "papermill": {
     "duration": 111.223505,
     "end_time": "2022-03-05T20:56:39.368139",
     "exception": false,
     "start_time": "2022-03-05T20:54:48.144634",
     "status": "completed"
    },
    "tags": []
   },
   "outputs": [],
   "source": [
    "###################################\n",
    "# Evaluate the model\n",
    "###################################\n",
    "source_test_label_accuracy, source_test_label_loss = jig.test(datasets.source.processed.test)\n",
    "target_test_label_accuracy, target_test_label_loss = jig.test(datasets.target.processed.test)\n",
    "\n",
    "source_val_label_accuracy, source_val_label_loss = jig.test(datasets.source.processed.val)\n",
    "target_val_label_accuracy, target_val_label_loss = jig.test(datasets.target.processed.val)\n",
    "\n",
    "history = jig.get_history()\n",
    "\n",
    "total_epochs_trained = len(history[\"epoch_indices\"])\n",
    "\n",
    "val_dl = Iterable_Aggregator((datasets.source.original.val,datasets.target.original.val))\n",
    "\n",
    "confusion = ptn_confusion_by_domain_over_dataloader(model, p.device, val_dl)\n",
    "per_domain_accuracy = per_domain_accuracy_from_confusion(confusion)\n",
    "\n",
    "# Add a key to per_domain_accuracy for if it was a source domain\n",
    "for domain, accuracy in per_domain_accuracy.items():\n",
    "    per_domain_accuracy[domain] = {\n",
    "        \"accuracy\": accuracy,\n",
    "        \"source?\": domain in p.domains_source\n",
    "    }\n",
    "\n",
    "# Do an independent accuracy assesment JUST TO BE SURE!\n",
    "# _source_test_label_accuracy = independent_accuracy_assesment(model, datasets.source.processed.test, p.device)\n",
    "# _target_test_label_accuracy = independent_accuracy_assesment(model, datasets.target.processed.test, p.device)\n",
    "# _source_val_label_accuracy = independent_accuracy_assesment(model, datasets.source.processed.val, p.device)\n",
    "# _target_val_label_accuracy = independent_accuracy_assesment(model, datasets.target.processed.val, p.device)\n",
    "\n",
    "# assert(_source_test_label_accuracy == source_test_label_accuracy)\n",
    "# assert(_target_test_label_accuracy == target_test_label_accuracy)\n",
    "# assert(_source_val_label_accuracy == source_val_label_accuracy)\n",
    "# assert(_target_val_label_accuracy == target_val_label_accuracy)\n",
    "\n",
    "experiment = {\n",
    "    \"experiment_name\": p.experiment_name,\n",
    "    \"parameters\": dict(p),\n",
    "    \"results\": {\n",
    "        \"source_test_label_accuracy\": source_test_label_accuracy,\n",
    "        \"source_test_label_loss\": source_test_label_loss,\n",
    "        \"target_test_label_accuracy\": target_test_label_accuracy,\n",
    "        \"target_test_label_loss\": target_test_label_loss,\n",
    "        \"source_val_label_accuracy\": source_val_label_accuracy,\n",
    "        \"source_val_label_loss\": source_val_label_loss,\n",
    "        \"target_val_label_accuracy\": target_val_label_accuracy,\n",
    "        \"target_val_label_loss\": target_val_label_loss,\n",
    "        \"total_epochs_trained\": total_epochs_trained,\n",
    "        \"total_experiment_time_secs\": total_experiment_time_secs,\n",
    "        \"confusion\": confusion,\n",
    "        \"per_domain_accuracy\": per_domain_accuracy,\n",
    "    },\n",
    "    \"history\": history,\n",
    "    \"dataset_metrics\": get_dataset_metrics(datasets, \"ptn\"),\n",
    "}"
   ]
  },
  {
   "cell_type": "code",
   "execution_count": 16,
   "id": "54a21829",
   "metadata": {
    "execution": {
     "iopub.execute_input": "2022-03-05T20:56:39.430206Z",
     "iopub.status.busy": "2022-03-05T20:56:39.429899Z",
     "iopub.status.idle": "2022-03-05T20:56:39.601361Z",
     "shell.execute_reply": "2022-03-05T20:56:39.600776Z"
    },
    "papermill": {
     "duration": 0.200996,
     "end_time": "2022-03-05T20:56:39.601478",
     "exception": false,
     "start_time": "2022-03-05T20:56:39.400482",
     "status": "completed"
    },
    "tags": []
   },
   "outputs": [
    {
     "data": {
      "image/png": "[encoded data removed]",
      "text/plain": [
       "<Figure size 1080x504 with 1 Axes>"
      ]
     },
     "metadata": {
      "needs_background": "light"
     },
     "output_type": "display_data"
    }
   ],
   "source": [
    "ax = get_loss_curve(experiment)\n",
    "plt.show()"
   ]
  },
  {
   "cell_type": "code",
   "execution_count": 17,
   "id": "fd8a0f60",
   "metadata": {
    "execution": {
     "iopub.execute_input": "2022-03-05T20:56:39.664329Z",
     "iopub.status.busy": "2022-03-05T20:56:39.664069Z",
     "iopub.status.idle": "2022-03-05T20:56:39.841955Z",
     "shell.execute_reply": "2022-03-05T20:56:39.841512Z"
    },
    "papermill": {
     "duration": 0.208458,
     "end_time": "2022-03-05T20:56:39.842044",
     "exception": false,
     "start_time": "2022-03-05T20:56:39.633586",
     "status": "completed"
    },
    "tags": []
   },
   "outputs": [
    {
     "data": {
      "text/plain": [
       "<matplotlib.axes._subplots.AxesSubplot at 0x7f6a594d3130>"
      ]
     },
     "execution_count": 17,
     "metadata": {},
     "output_type": "execute_result"
    },
    {
     "data": {
      "image/png": "[encoded data removed]",
      "text/plain": [
       "<Figure size 1080x504 with 1 Axes>"
      ]
     },
     "metadata": {
      "needs_background": "light"
     },
     "output_type": "display_data"
    }
   ],
   "source": [
    "get_results_table(experiment)"
   ]
  },
  {
   "cell_type": "code",
   "execution_count": 18,
   "id": "cf8dc689",
   "metadata": {
    "execution": {
     "iopub.execute_input": "2022-03-05T20:56:39.909973Z",
     "iopub.status.busy": "2022-03-05T20:56:39.909697Z",
     "iopub.status.idle": "2022-03-05T20:56:40.082330Z",
     "shell.execute_reply": "2022-03-05T20:56:40.081856Z"
    },
    "papermill": {
     "duration": 0.206028,
     "end_time": "2022-03-05T20:56:40.082433",
     "exception": false,
     "start_time": "2022-03-05T20:56:39.876405",
     "status": "completed"
    },
    "tags": []
   },
   "outputs": [
    {
     "data": {
      "text/plain": [
       "<matplotlib.axes._subplots.AxesSubplot at 0x7f6adc2e40d0>"
      ]
     },
     "execution_count": 18,
     "metadata": {},
     "output_type": "execute_result"
    },
    {
     "data": {
      "image/png": "[encoded data removed]",
      "text/plain": [
       "<Figure size 1080x504 with 1 Axes>"
      ]
     },
     "metadata": {
      "needs_background": "light"
     },
     "output_type": "display_data"
    }
   ],
   "source": [
    "get_domain_accuracies(experiment)"
   ]
  },
  {
   "cell_type": "code",
   "execution_count": 19,
   "id": "a74ae082",
   "metadata": {
    "execution": {
     "iopub.execute_input": "2022-03-05T20:56:40.151964Z",
     "iopub.status.busy": "2022-03-05T20:56:40.151646Z",
     "iopub.status.idle": "2022-03-05T20:56:40.165140Z",
     "shell.execute_reply": "2022-03-05T20:56:40.164788Z"
    },
    "papermill": {
     "duration": 0.048131,
     "end_time": "2022-03-05T20:56:40.165227",
     "exception": false,
     "start_time": "2022-03-05T20:56:40.117096",
     "status": "completed"
    },
    "tags": []
   },
   "outputs": [
    {
     "name": "stdout",
     "output_type": "stream",
     "text": [
      "Source Test Label Accuracy: 0.8926388888888889 Target Test Label Accuracy: 0.76625\n",
      "Source Val Label Accuracy: 0.8920659722222222 Target Val Label Accuracy: 0.7720833333333333\n"
     ]
    }
   ],
   "source": [
    "print(\"Source Test Label Accuracy:\", experiment[\"results\"][\"source_test_label_accuracy\"], \"Target Test Label Accuracy:\", experiment[\"results\"][\"target_test_label_accuracy\"])\n",
    "print(\"Source Val Label Accuracy:\", experiment[\"results\"][\"source_val_label_accuracy\"], \"Target Val Label Accuracy:\", experiment[\"results\"][\"target_val_label_accuracy\"])"
   ]
  },
  {
   "cell_type": "code",
   "execution_count": 20,
   "id": "dacca602",
   "metadata": {
    "execution": {
     "iopub.execute_input": "2022-03-05T20:56:40.237329Z",
     "iopub.status.busy": "2022-03-05T20:56:40.229029Z",
     "iopub.status.idle": "2022-03-05T20:56:40.243471Z",
     "shell.execute_reply": "2022-03-05T20:56:40.242833Z"
    },
    "papermill": {
     "duration": 0.046272,
     "end_time": "2022-03-05T20:56:40.243584",
     "exception": false,
     "start_time": "2022-03-05T20:56:40.197312",
     "status": "completed"
    },
    "tags": [
     "experiment_json"
    ]
   },
   "outputs": [
    {
     "data": {
      "text/plain": [
       "'{\"experiment_name\": \"tuned_1_oracle.run2\", \"parameters\": {\"experiment_name\": \"tuned_1_oracle.run2\", \"device\": \"cuda\", \"lr\": 0.001, \"seed\": 1337, \"dataset_seed\": 1337, \"labels_source\": [\"3123D52\", \"3123D65\", \"3123D79\", \"3123D80\", \"3123D54\", \"3123D70\", \"3123D7B\", \"3123D89\", \"3123D58\", \"3123D76\", \"3123D7D\", \"3123EFE\", \"3123D64\", \"3123D78\", \"3123D7E\", \"3124E4A\"], \"labels_target\": [\"3123D52\", \"3123D65\", \"3123D79\", \"3123D80\", \"3123D54\", \"3123D70\", \"3123D7B\", \"3123D89\", \"3123D58\", \"3123D76\", \"3123D7D\", \"3123EFE\", \"3123D64\", \"3123D78\", \"3123D7E\", \"3124E4A\"], \"x_transforms_source\": [], \"x_transforms_target\": [], \"episode_transforms_source\": [], \"episode_transforms_target\": [], \"domains_source\": [8, 32, 50], \"domains_target\": [14, 20, 26, 38, 44], \"num_examples_per_domain_per_label_source\": 10000, \"num_examples_per_domain_per_label_target\": 1000, \"n_shot\": 3, \"n_way\": 16, \"n_query\": 2, \"train_k_factor\": 3, \"val_k_factor\": 2, \"test_k_factor\": 2, \"torch_default_dtype\": \"torch.float32\", \"n_epoch\": 50, \"patience\": 3, \"criteria_for_best\": \"target_loss\", \"x_net\": [{\"class\": \"nnReshape\", \"kargs\": {\"shape\": [-1, 1, 2, 256]}}, {\"class\": \"Conv2d\", \"kargs\": {\"in_channels\": 1, \"out_channels\": 256, \"kernel_size\": [1, 7], \"bias\": false, \"padding\": [0, 3]}}, {\"class\": \"ReLU\", \"kargs\": {\"inplace\": true}}, {\"class\": \"BatchNorm2d\", \"kargs\": {\"num_features\": 256}}, {\"class\": \"Conv2d\", \"kargs\": {\"in_channels\": 256, \"out_channels\": 80, \"kernel_size\": [2, 7], \"bias\": true, \"padding\": [0, 3]}}, {\"class\": \"ReLU\", \"kargs\": {\"inplace\": true}}, {\"class\": \"BatchNorm2d\", \"kargs\": {\"num_features\": 80}}, {\"class\": \"Flatten\", \"kargs\": {}}, {\"class\": \"Linear\", \"kargs\": {\"in_features\": 20480, \"out_features\": 256}}, {\"class\": \"ReLU\", \"kargs\": {\"inplace\": true}}, {\"class\": \"BatchNorm1d\", \"kargs\": {\"num_features\": 256}}, {\"class\": \"Linear\", \"kargs\": {\"in_features\": 256, \"out_features\": 256}}], \"NUM_LOGS_PER_EPOCH\": 10, \"BEST_MODEL_PATH\": \"./best_model.pth\", \"pickle_name\": \"oracle.Run2_10kExamples_stratified_ds.2022A.pkl\"}, \"results\": {\"source_test_label_accuracy\": 0.8926388888888889, \"source_test_label_loss\": 0.29719898104667664, \"target_test_label_accuracy\": 0.76625, \"target_test_label_loss\": 0.7977888584136963, \"source_val_label_accuracy\": 0.8920659722222222, \"source_val_label_loss\": 0.3021562099456787, \"target_val_label_accuracy\": 0.7720833333333333, \"target_val_label_loss\": 0.7477453351020813, \"total_epochs_trained\": 8, \"total_experiment_time_secs\": 2696.642284154892, \"confusion\": {\"8\": {\"15\": {\"15\": 1153, \"12\": 38, \"3\": 1, \"2\": 8}, \"3\": {\"3\": 1200}, \"6\": {\"6\": 1032, \"14\": 119, \"8\": 45, \"4\": 3, \"1\": 1}, \"1\": {\"1\": 999, \"14\": 9, \"10\": 72, \"13\": 51, \"5\": 54, \"4\": 14, \"6\": 1}, \"8\": {\"8\": 1087, \"11\": 52, \"6\": 58, \"7\": 1, \"4\": 2}, \"10\": {\"10\": 942, \"13\": 83, \"5\": 156, \"1\": 18, \"4\": 1}, \"9\": {\"9\": 1200}, \"13\": {\"13\": 1100, \"10\": 68, \"7\": 23, \"1\": 7, \"4\": 2}, \"12\": {\"12\": 1169, \"15\": 31}, \"5\": {\"10\": 201, \"1\": 50, \"5\": 948, \"13\": 1}, \"0\": {\"0\": 1200}, \"2\": {\"2\": 1193, \"7\": 1, \"15\": 2, \"12\": 3, \"13\": 1}, \"11\": {\"8\": 245, \"11\": 934, \"6\": 18, \"7\": 1, \"4\": 1, \"12\": 1}, \"14\": {\"14\": 1093, \"6\": 94, \"1\": 13}, \"7\": {\"7\": 1024, \"4\": 171, \"13\": 4, \"11\": 1}, \"4\": {\"4\": 989, \"7\": 183, \"1\": 10, \"6\": 15, \"8\": 1, \"14\": 1, \"10\": 1}}, \"50\": {\"3\": {\"3\": 1200}, \"15\": {\"15\": 1122, \"6\": 54, \"9\": 12, \"12\": 2, \"11\": 2, \"4\": 5, \"5\": 3}, \"8\": {\"8\": 1196, \"13\": 4}, \"4\": {\"4\": 887, \"5\": 248, \"6\": 9, \"7\": 45, \"15\": 11}, \"14\": {\"14\": 1199, \"2\": 1}, \"0\": {\"0\": 1059, \"2\": 98, \"10\": 43}, \"7\": {\"7\": 1059, \"4\": 93, \"5\": 48}, \"6\": {\"6\": 1064, \"15\": 80, \"5\": 50, \"4\": 6}, \"10\": {\"10\": 1135, \"0\": 42, \"13\": 23}, \"5\": {\"5\": 814, \"4\": 271, \"6\": 62, \"7\": 53}, \"2\": {\"2\": 1102, \"0\": 97, \"14\": 1}, \"12\": {\"9\": 28, \"12\": 1154, \"11\": 18}, \"9\": {\"9\": 1181, \"12\": 15, \"15\": 4}, \"1\": {\"1\": 1188, \"13\": 10, \"11\": 2}, \"11\": {\"11\": 1158, \"12\": 34, \"15\": 3, \"9\": 1, \"1\": 4}, \"13\": {\"13\": 1177, \"8\": 3, \"1\": 16, \"10\": 4}}, \"32\": {\"5\": {\"5\": 1078, \"15\": 36, \"2\": 44, \"14\": 19, \"7\": 17, \"8\": 5, \"0\": 1}, \"8\": {\"8\": 1032, \"7\": 63, \"0\": 99, \"2\": 4, \"15\": 2}, \"11\": {\"13\": 196, \"4\": 348, \"11\": 624, \"0\": 22, \"3\": 2, \"7\": 7, \"14\": 1}, \"1\": {\"1\": 1200}, \"10\": {\"10\": 1200}, \"15\": {\"15\": 1192, \"8\": 1, \"5\": 7}, \"3\": {\"3\": 1141, \"13\": 48, \"4\": 8, \"11\": 3}, \"7\": {\"7\": 976, \"8\": 59, \"0\": 95, \"2\": 64, \"4\": 4, \"5\": 2}, \"4\": {\"4\": 983, \"11\": 151, \"3\": 7, \"0\": 43, \"14\": 1, \"8\": 2, \"13\": 13}, \"14\": {\"14\": 838, \"2\": 353, \"5\": 4, \"0\": 3, \"7\": 2}, \"9\": {\"9\": 1200}, \"12\": {\"12\": 1200}, \"6\": {\"6\": 1200}, \"2\": {\"14\": 193, \"2\": 859, \"0\": 87, \"7\": 55, \"8\": 6}, \"0\": {\"8\": 110, \"0\": 734, \"4\": 48, \"14\": 25, \"7\": 140, \"2\": 143}, \"13\": {\"11\": 105, \"13\": 968, \"4\": 73, \"3\": 54}}, \"14\": {\"15\": {\"15\": 120}, \"3\": {\"3\": 110, \"14\": 6, \"2\": 2, \"6\": 1, \"7\": 1}, \"6\": {\"6\": 94, \"13\": 22, \"3\": 3, \"2\": 1}, \"1\": {\"1\": 120}, \"8\": {\"8\": 110, \"10\": 3, \"0\": 7}, \"10\": {\"0\": 28, \"10\": 89, \"14\": 2, \"5\": 1}, \"9\": {\"9\": 120}, \"13\": {\"13\": 88, \"6\": 32}, \"12\": {\"12\": 44, \"9\": 23, \"15\": 21, \"3\": 3, \"8\": 2, \"10\": 18, \"4\": 1, \"11\": 4, \"6\": 1, \"2\": 1, \"0\": 1, \"1\": 1}, \"5\": {\"14\": 21, \"5\": 92, \"2\": 7}, \"0\": {\"0\": 112, \"10\": 7, \"8\": 1}, \"2\": {\"2\": 53, \"5\": 29, \"14\": 32, \"3\": 3, \"6\": 1, \"7\": 2}, \"11\": {\"11\": 120}, \"14\": {\"14\": 72, \"2\": 28, \"5\": 18, \"3\": 2}, \"7\": {\"7\": 117, \"13\": 1, \"2\": 2}, \"4\": {\"4\": 118, \"0\": 2}}, \"20\": {\"3\": {\"2\": 21, \"4\": 15, \"5\": 15, \"7\": 11, \"3\": 35, \"9\": 12, \"15\": 11}, \"15\": {\"15\": 62, \"9\": 22, \"5\": 4, \"2\": 9, \"3\": 9, \"4\": 5, \"7\": 2, \"12\": 5, \"13\": 2}, \"8\": {\"8\": 90, \"14\": 24, \"0\": 3, \"11\": 3}, \"4\": {\"4\": 73, \"2\": 4, \"7\": 6, \"9\": 12, \"3\": 16, \"10\": 1, \"15\": 8}, \"14\": {\"8\": 32, \"14\": 88}, \"0\": {\"0\": 118, \"11\": 1, \"8\": 1}, \"7\": {\"7\": 92, \"10\": 6, \"4\": 4, \"3\": 16, \"9\": 1, \"6\": 1}, \"6\": {\"6\": 115, \"7\": 4, \"10\": 1}, \"10\": {\"10\": 92, \"12\": 4, \"7\": 13, \"6\": 9, \"4\": 2}, \"5\": {\"5\": 53, \"3\": 19, \"2\": 22, \"1\": 11, \"15\": 7, \"9\": 6, \"4\": 1, \"8\": 1}, \"2\": {\"3\": 12, \"2\": 39, \"5\": 31, \"1\": 3, \"9\": 19, \"15\": 9, \"4\": 7}, \"12\": {\"13\": 43, \"12\": 74, \"4\": 1, \"10\": 2}, \"9\": {\"2\": 25, \"9\": 27, \"3\": 13, \"15\": 27, \"4\": 11, \"7\": 1, \"5\": 15, \"1\": 1}, \"1\": {\"9\": 2, \"1\": 98, \"5\": 11, \"2\": 3, \"15\": 6}, \"11\": {\"11\": 108, \"8\": 12}, \"13\": {\"13\": 80, \"12\": 37, \"9\": 1, \"15\": 2}}, \"44\": {\"5\": {\"5\": 103, \"15\": 3, \"8\": 4, \"14\": 10}, \"8\": {\"8\": 97, \"5\": 6, \"0\": 16, \"15\": 1}, \"11\": {\"11\": 120}, \"1\": {\"1\": 115, \"2\": 5}, \"10\": {\"10\": 118, \"7\": 2}, \"15\": {\"15\": 101, \"5\": 8, \"4\": 1, \"8\": 7, \"0\": 2, \"14\": 1}, \"3\": {\"3\": 110, \"12\": 10}, \"7\": {\"7\": 84, \"9\": 36}, \"4\": {\"14\": 10, \"4\": 110}, \"14\": {\"14\": 100, \"4\": 17, \"15\": 1, \"5\": 2}, \"9\": {\"7\": 42, \"9\": 77, \"6\": 1}, \"12\": {\"12\": 105, \"3\": 15}, \"6\": {\"6\": 115, \"7\": 1, \"13\": 3, \"9\": 1}, \"2\": {\"2\": 108, \"1\": 12}, \"0\": {\"0\": 93, \"8\": 25, \"15\": 2}, \"13\": {\"13\": 118, \"4\": 2}}, \"38\": {\"14\": {\"2\": 41, \"14\": 66, \"4\": 6, \"7\": 6, \"5\": 1}, \"0\": {\"0\": 117, \"7\": 3}, \"13\": {\"3\": 26, \"10\": 15, \"13\": 79}, \"7\": {\"7\": 115, \"0\": 3, \"14\": 2}, \"9\": {\"9\": 119, \"8\": 1}, \"3\": {\"13\": 38, \"3\": 59, \"10\": 22, \"11\": 1}, \"11\": {\"11\": 120}, \"6\": {\"6\": 117, \"15\": 3}, \"8\": {\"8\": 108, \"5\": 12}, \"4\": {\"4\": 116, \"10\": 3, \"7\": 1}, \"5\": {\"5\": 68, \"7\": 1, \"8\": 43, \"12\": 7, \"9\": 1}, \"10\": {\"10\": 108, \"3\": 4, \"4\": 2, \"13\": 6}, \"1\": {\"1\": 113, \"15\": 7}, \"2\": {\"2\": 112, \"14\": 7, \"8\": 1}, \"15\": {\"15\": 81, \"6\": 9, \"1\": 29, \"5\": 1}, \"12\": {\"12\": 118, \"2\": 1, \"5\": 1}}, \"26\": {\"13\": {\"13\": 105, \"8\": 1, \"7\": 6, \"9\": 5, \"2\": 3}, \"2\": {\"2\": 59, \"15\": 4, \"7\": 13, \"8\": 23, \"9\": 18, \"3\": 3}, \"8\": {\"9\": 16, \"8\": 71, \"0\": 4, \"15\": 3, \"2\": 20, \"7\": 3, \"10\": 2, \"13\": 1}, \"9\": {\"9\": 63, \"2\": 15, \"13\": 7, \"7\": 7, \"3\": 1, \"8\": 27}, \"12\": {\"12\": 120}, \"4\": {\"4\": 119, \"3\": 1}, \"3\": {\"3\": 95, \"2\": 4, \"7\": 19, \"9\": 1, \"4\": 1}, \"15\": {\"15\": 91, \"0\": 9, \"2\": 12, \"8\": 6, \"9\": 1, \"14\": 1}, \"14\": {\"14\": 65, \"0\": 16, \"10\": 20, \"6\": 5, \"1\": 10, \"5\": 4}, \"10\": {\"0\": 22, \"6\": 11, \"14\": 24, \"1\": 6, \"15\": 12, \"8\": 9, \"10\": 33, \"9\": 2, \"2\": 1}, \"7\": {\"2\": 17, \"3\": 28, \"7\": 61, \"8\": 4, \"9\": 10}, \"11\": {\"11\": 120}, \"6\": {\"6\": 75, \"5\": 40, \"1\": 1, \"14\": 3, \"10\": 1}, \"1\": {\"1\": 108, \"5\": 2, \"10\": 1, \"6\": 3, \"14\": 6}, \"5\": {\"5\": 56, \"6\": 46, \"15\": 1, \"10\": 6, \"14\": 7, \"1\": 4}, \"0\": {\"0\": 58, \"10\": 24, \"14\": 23, \"15\": 12, \"8\": 2, \"2\": 1}}}, \"per_domain_accuracy\": {\"8\": {\"accuracy\": 0.8991145833333334, \"source?\": true}, \"50\": {\"accuracy\": 0.9216145833333333, \"source?\": true}, \"32\": {\"accuracy\": 0.85546875, \"source?\": true}, \"14\": {\"accuracy\": 0.8223958333333333, \"source?\": false}, \"20\": {\"accuracy\": 0.6479166666666667, \"source?\": false}, \"44\": {\"accuracy\": 0.871875, \"source?\": false}, \"38\": {\"accuracy\": 0.8416666666666667, \"source?\": false}, \"26\": {\"accuracy\": 0.6765625, \"source?\": false}}}, \"history\": {\"epoch_indices\": [1, 2, 3, 4, 5, 6, 7, 8], \"train_label_loss\": [0.491459087378508, 0.4827684944034332, 0.33797669144879494, 0.27568964027947496, 0.23538866539352707, 0.255639397179124, 0.19597222918180734, 0.1780253366409202], \"source_val_label_loss\": [71.06925201416016, 0.38167139887809753, 0.35468757152557373, 0.3021562099456787, 0.27423474192619324, 0.27888351678848267, 0.26830628514289856, 0.3048856258392334], \"target_val_label_loss\": [96.1823959350586, 1.0212597846984863, 0.9837865233421326, 0.7477453351020813, 0.7893614768981934, 0.864449679851532, 0.8072346448898315, 0.9599943161010742], \"source_val_acc_label\": [0.6548784722222222, 0.8665798611111111, 0.8820138888888889, 0.8920659722222222, 0.8995659722222222, 0.9057118055555555, 0.9097916666666667, 0.9024652777777777], \"target_val_acc_label\": [0.5195833333333333, 0.7446875, 0.7542708333333333, 0.7720833333333333, 0.77875, 0.7773958333333333, 0.7776041666666667, 0.7708333333333334]}, \"dataset_metrics\": {\"source\": {\"train\": {\"n_unique_x\": 336000, \"n_unique_y\": 16, \"n_batch/episode\": 12600}, \"val\": {\"n_unique_x\": 72000, \"n_unique_y\": 16, \"n_batch/episode\": 1800}, \"test\": {\"n_unique_x\": 72000, \"n_unique_y\": 16, \"n_batch/episode\": 1800}}, \"target\": {\"train\": {\"n_unique_x\": 56000, \"n_unique_y\": 16, \"n_batch/episode\": 2100}, \"val\": {\"n_unique_x\": 12000, \"n_unique_y\": 16, \"n_batch/episode\": 300}, \"test\": {\"n_unique_x\": 12000, \"n_unique_y\": 16, \"n_batch/episode\": 300}}}}'"
      ]
     },
     "execution_count": 20,
     "metadata": {},
     "output_type": "execute_result"
    }
   ],
   "source": [
    "json.dumps(experiment)"
   ]
  }
 ],
 "metadata": {
  "celltoolbar": "Tags",
  "kernelspec": {
   "display_name": "Python 3 (ipykernel)",
   "language": "python",
   "name": "python3"
  },
  "language_info": {
   "codemirror_mode": {
    "name": "ipython",
    "version": 3
   },
   "file_extension": ".py",
   "mimetype": "text/x-python",
   "name": "python",
   "nbconvert_exporter": "python",
   "pygments_lexer": "ipython3",
   "version": "3.8.10"
  },
  "papermill": {
   "default_parameters": {},
   "duration": 2811.48588,
   "end_time": "2022-03-05T20:56:41.086847",
   "environment_variables": {},
   "exception": null,
   "input_path": "/mnt/wd500GB/CSC500/csc500-main/csc500-notebooks/templates/ptn_template.ipynb",
   "output_path": "trial.ipynb",
   "parameters": {
    "parameters": {
     "BEST_MODEL_PATH": "./best_model.pth",
     "NUM_LOGS_PER_EPOCH": 10,
     "criteria_for_best": "target_loss",
     "dataset_seed": 1337,
     "device": "cuda",
     "domains_source": [
      8,
      32,
      50
     ],
     "domains_target": [
      14,
      20,
      26,
      38,
      44
     ],
     "episode_transforms_source": [],
     "episode_transforms_target": [],
     "experiment_name": "tuned_1_oracle.run2",
     "labels_source": [
      "3123D52",
      "3123D65",
      "3123D79",
      "3123D80",
      "3123D54",
      "3123D70",
      "3123D7B",
      "3123D89",
      "3123D58",
      "3123D76",
      "3123D7D",
      "3123EFE",
      "3123D64",
      "3123D78",
      "3123D7E",
      "3124E4A"
     ],
     "labels_target": [
      "3123D52",
      "3123D65",
      "3123D79",
      "3123D80",
      "3123D54",
      "3123D70",
      "3123D7B",
      "3123D89",
      "3123D58",
      "3123D76",
      "3123D7D",
      "3123EFE",
      "3123D64",
      "3123D78",
      "3123D7E",
      "3124E4A"
     ],
     "lr": 0.001,
     "n_epoch": 50,
     "n_query": 2,
     "n_shot": 3,
     "n_way": 16,
     "num_examples_per_domain_per_label_source": 10000,
     "num_examples_per_domain_per_label_target": 1000,
     "patience": 3,
     "pickle_name": "oracle.Run2_10kExamples_stratified_ds.2022A.pkl",
     "seed": 1337,
     "test_k_factor": 2,
     "torch_default_dtype": "torch.float32",
     "train_k_factor": 3,
     "val_k_factor": 2,
     "x_net": [
      {
       "class": "nnReshape",
       "kargs": {
        "shape": [
         -1,
         1,
         2,
         256
        ]
       }
      },
      {
       "class": "Conv2d",
       "kargs": {
        "bias": false,
        "in_channels": 1,
        "kernel_size": [
         1,
         7
        ],
        "out_channels": 256,
        "padding": [
         0,
         3
        ]
       }
      },
      {
       "class": "ReLU",
       "kargs": {
        "inplace": true
       }
      },
      {
       "class": "BatchNorm2d",
       "kargs": {
        "num_features": 256
       }
      },
      {
       "class": "Conv2d",
       "kargs": {
        "bias": true,
        "in_channels": 256,
        "kernel_size": [
         2,
         7
        ],
        "out_channels": 80,
        "padding": [
         0,
         3
        ]
       }
      },
      {
       "class": "ReLU",
       "kargs": {
        "inplace": true
       }
      },
      {
       "class": "BatchNorm2d",
       "kargs": {
        "num_features": 80
       }
      },
      {
       "class": "Flatten",
       "kargs": {}
      },
      {
       "class": "Linear",
       "kargs": {
        "in_features": 20480,
        "out_features": 256
       }
      },
      {
       "class": "ReLU",
       "kargs": {
        "inplace": true
       }
      },
      {
       "class": "BatchNorm1d",
       "kargs": {
        "num_features": 256
       }
      },
      {
       "class": "Linear",
       "kargs": {
        "in_features": 256,
        "out_features": 256
       }
      }
     ],
     "x_transforms_source": [],
     "x_transforms_target": []
    }
   },
   "start_time": "2022-03-05T20:09:49.600967",
   "version": "2.3.4"
  }
 },
 "nbformat": 4,
 "nbformat_minor": 5
}