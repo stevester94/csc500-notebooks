{
 "cells": [
  {
   "cell_type": "markdown",
   "id": "9fea5f46",
   "metadata": {
    "papermill": {
     "duration": 0.015943,
     "end_time": "2022-03-05T19:16:53.171701",
     "exception": false,
     "start_time": "2022-03-05T19:16:53.155758",
     "status": "completed"
    },
    "tags": []
   },
   "source": [
    "# PTN Template\n",
    "This notebook serves as a template for single dataset PTN experiments  \n",
    "It can be run on its own by setting STANDALONE to True (do a find for \"STANDALONE\" to see where)  \n",
    "But it is intended to be executed as part of a *papermill.py script. See any of the   \n",
    "experimentes with a papermill script to get started with that workflow.  "
   ]
  },
  {
   "cell_type": "code",
   "execution_count": 1,
   "id": "0902182a",
   "metadata": {
    "execution": {
     "iopub.execute_input": "2022-03-05T19:16:53.204758Z",
     "iopub.status.busy": "2022-03-05T19:16:53.203127Z",
     "iopub.status.idle": "2022-03-05T19:16:53.946839Z",
     "shell.execute_reply": "2022-03-05T19:16:53.946275Z"
    },
    "papermill": {
     "duration": 0.765639,
     "end_time": "2022-03-05T19:16:53.946964",
     "exception": false,
     "start_time": "2022-03-05T19:16:53.181325",
     "status": "completed"
    },
    "tags": []
   },
   "outputs": [],
   "source": [
    "%load_ext autoreload\n",
    "%autoreload 2\n",
    "%matplotlib inline\n",
    "\n",
    "    \n",
    "import os, json, sys, time, random\n",
    "import numpy as np\n",
    "import torch\n",
    "from torch.optim import Adam\n",
    "from  easydict import EasyDict\n",
    "import matplotlib.pyplot as plt\n",
    "\n",
    "from steves_models.steves_ptn import Steves_Prototypical_Network\n",
    "\n",
    "from steves_utils.lazy_iterable_wrapper import Lazy_Iterable_Wrapper\n",
    "from steves_utils.iterable_aggregator import Iterable_Aggregator\n",
    "from steves_utils.ptn_train_eval_test_jig import  PTN_Train_Eval_Test_Jig\n",
    "from steves_utils.torch_sequential_builder import build_sequential\n",
    "from steves_utils.torch_utils import get_dataset_metrics, ptn_confusion_by_domain_over_dataloader\n",
    "from steves_utils.utils_v2 import (per_domain_accuracy_from_confusion, get_datasets_base_path)\n",
    "from steves_utils.PTN.utils import independent_accuracy_assesment\n",
    "\n",
    "from steves_utils.stratified_dataset.episodic_accessor import Episodic_Accessor_Factory\n",
    "\n",
    "from steves_utils.ptn_do_report import (\n",
    "    get_loss_curve,\n",
    "    get_results_table,\n",
    "    get_parameters_table,\n",
    "    get_domain_accuracies,\n",
    ")\n",
    "\n",
    "from steves_utils.transforms import get_chained_transform"
   ]
  },
  {
   "cell_type": "markdown",
   "id": "41c840b4",
   "metadata": {
    "papermill": {
     "duration": 0.009298,
     "end_time": "2022-03-05T19:16:53.970613",
     "exception": false,
     "start_time": "2022-03-05T19:16:53.961315",
     "status": "completed"
    },
    "tags": []
   },
   "source": [
    "# Required Parameters\n",
    "These are allowed parameters, not defaults\n",
    "Each of these values need to be present in the injected parameters (the notebook will raise an exception if they are not present)\n",
    "\n",
    "Papermill uses the cell tag \"parameters\" to inject the real parameters below this cell.\n",
    "Enable tags to see what I mean"
   ]
  },
  {
   "cell_type": "code",
   "execution_count": 2,
   "id": "fd44eb83",
   "metadata": {
    "execution": {
     "iopub.execute_input": "2022-03-05T19:16:53.995866Z",
     "iopub.status.busy": "2022-03-05T19:16:53.993630Z",
     "iopub.status.idle": "2022-03-05T19:16:54.005510Z",
     "shell.execute_reply": "2022-03-05T19:16:54.005016Z"
    },
    "papermill": {
     "duration": 0.025369,
     "end_time": "2022-03-05T19:16:54.005613",
     "exception": false,
     "start_time": "2022-03-05T19:16:53.980244",
     "status": "completed"
    },
    "tags": []
   },
   "outputs": [],
   "source": [
    "required_parameters = {\n",
    "    \"experiment_name\",\n",
    "    \"lr\",\n",
    "    \"device\",\n",
    "    \"seed\",\n",
    "    \"dataset_seed\",\n",
    "    \"labels_source\",\n",
    "    \"labels_target\",\n",
    "    \"domains_source\",\n",
    "    \"domains_target\",\n",
    "    \"num_examples_per_domain_per_label_source\",\n",
    "    \"num_examples_per_domain_per_label_target\",\n",
    "    \"n_shot\",\n",
    "    \"n_way\",\n",
    "    \"n_query\",\n",
    "    \"train_k_factor\",\n",
    "    \"val_k_factor\",\n",
    "    \"test_k_factor\",\n",
    "    \"n_epoch\",\n",
    "    \"patience\",\n",
    "    \"criteria_for_best\",\n",
    "    \"x_transforms_source\",\n",
    "    \"x_transforms_target\",\n",
    "    \"episode_transforms_source\",\n",
    "    \"episode_transforms_target\",\n",
    "    \"pickle_name\",\n",
    "    \"x_net\",\n",
    "    \"NUM_LOGS_PER_EPOCH\",\n",
    "    \"BEST_MODEL_PATH\",\n",
    "    \"torch_default_dtype\"\n",
    "}"
   ]
  },
  {
   "cell_type": "code",
   "execution_count": 3,
   "id": "fa3f0049",
   "metadata": {
    "execution": {
     "iopub.execute_input": "2022-03-05T19:16:54.039406Z",
     "iopub.status.busy": "2022-03-05T19:16:54.038945Z",
     "iopub.status.idle": "2022-03-05T19:16:54.050204Z",
     "shell.execute_reply": "2022-03-05T19:16:54.049777Z"
    },
    "papermill": {
     "duration": 0.030767,
     "end_time": "2022-03-05T19:16:54.050310",
     "exception": false,
     "start_time": "2022-03-05T19:16:54.019543",
     "status": "completed"
    },
    "tags": [
     "parameters"
    ]
   },
   "outputs": [],
   "source": [
    "\n",
    "\n",
    "standalone_parameters = {}\n",
    "standalone_parameters[\"experiment_name\"] = \"STANDALONE PTN\"\n",
    "standalone_parameters[\"lr\"] = 0.0001\n",
    "standalone_parameters[\"device\"] = \"cuda\"\n",
    "\n",
    "standalone_parameters[\"seed\"] = 1337\n",
    "standalone_parameters[\"dataset_seed\"] = 1337\n",
    "\n",
    "\n",
    "standalone_parameters[\"num_examples_per_domain_per_label_source\"]=100\n",
    "standalone_parameters[\"num_examples_per_domain_per_label_target\"]=100\n",
    "\n",
    "standalone_parameters[\"n_shot\"] = 3\n",
    "standalone_parameters[\"n_query\"]  = 2\n",
    "standalone_parameters[\"train_k_factor\"] = 1\n",
    "standalone_parameters[\"val_k_factor\"] = 2\n",
    "standalone_parameters[\"test_k_factor\"] = 2\n",
    "\n",
    "\n",
    "standalone_parameters[\"n_epoch\"] = 100\n",
    "\n",
    "standalone_parameters[\"patience\"] = 10\n",
    "standalone_parameters[\"criteria_for_best\"] = \"target_accuracy\"\n",
    "\n",
    "standalone_parameters[\"x_transforms_source\"] = [\"unit_power\"]\n",
    "standalone_parameters[\"x_transforms_target\"] = [\"unit_power\"]\n",
    "standalone_parameters[\"episode_transforms_source\"] = []\n",
    "standalone_parameters[\"episode_transforms_target\"] = []\n",
    "\n",
    "standalone_parameters[\"torch_default_dtype\"] = \"torch.float32\" \n",
    "\n",
    "\n",
    "\n",
    "standalone_parameters[\"x_net\"] =     [\n",
    "    {\"class\": \"nnReshape\", \"kargs\": {\"shape\":[-1, 1, 2, 256]}},\n",
    "    {\"class\": \"Conv2d\", \"kargs\": { \"in_channels\":1, \"out_channels\":256, \"kernel_size\":(1,7), \"bias\":False, \"padding\":(0,3), },},\n",
    "    {\"class\": \"ReLU\", \"kargs\": {\"inplace\": True}},\n",
    "    {\"class\": \"BatchNorm2d\", \"kargs\": {\"num_features\":256}},\n",
    "\n",
    "    {\"class\": \"Conv2d\", \"kargs\": { \"in_channels\":256, \"out_channels\":80, \"kernel_size\":(2,7), \"bias\":True, \"padding\":(0,3), },},\n",
    "    {\"class\": \"ReLU\", \"kargs\": {\"inplace\": True}},\n",
    "    {\"class\": \"BatchNorm2d\", \"kargs\": {\"num_features\":80}},\n",
    "    {\"class\": \"Flatten\", \"kargs\": {}},\n",
    "\n",
    "    {\"class\": \"Linear\", \"kargs\": {\"in_features\": 80*256, \"out_features\": 256}}, # 80 units per IQ pair\n",
    "    {\"class\": \"ReLU\", \"kargs\": {\"inplace\": True}},\n",
    "    {\"class\": \"BatchNorm1d\", \"kargs\": {\"num_features\":256}},\n",
    "\n",
    "    {\"class\": \"Linear\", \"kargs\": {\"in_features\": 256, \"out_features\": 256}},\n",
    "]\n",
    "\n",
    "# Parameters relevant to results\n",
    "# These parameters will basically never need to change\n",
    "standalone_parameters[\"NUM_LOGS_PER_EPOCH\"] = 10\n",
    "standalone_parameters[\"BEST_MODEL_PATH\"] = \"./best_model.pth\"\n",
    "\n",
    "# uncomment for CORES dataset\n",
    "from steves_utils.CORES.utils import (\n",
    "    ALL_NODES,\n",
    "    ALL_NODES_MINIMUM_1000_EXAMPLES,\n",
    "    ALL_DAYS\n",
    ")\n",
    "\n",
    "\n",
    "standalone_parameters[\"labels_source\"] = ALL_NODES\n",
    "standalone_parameters[\"labels_target\"] = ALL_NODES\n",
    "\n",
    "standalone_parameters[\"domains_source\"] = [1]\n",
    "standalone_parameters[\"domains_target\"] = [2,3,4,5]\n",
    "\n",
    "standalone_parameters[\"pickle_name\"] = \"cores.stratified_ds.2022A.pkl\"\n",
    "\n",
    "\n",
    "# Uncomment these for ORACLE dataset\n",
    "# from steves_utils.ORACLE.utils_v2 import (\n",
    "#     ALL_DISTANCES_FEET,\n",
    "#     ALL_RUNS,\n",
    "#     ALL_SERIAL_NUMBERS,\n",
    "# )\n",
    "# standalone_parameters[\"labels_source\"] = ALL_SERIAL_NUMBERS\n",
    "# standalone_parameters[\"labels_target\"] = ALL_SERIAL_NUMBERS\n",
    "# standalone_parameters[\"domains_source\"] = [8,20, 38,50]\n",
    "# standalone_parameters[\"domains_target\"] = [14, 26, 32, 44, 56]\n",
    "# standalone_parameters[\"pickle_name\"] = \"oracle.frame_indexed.stratified_ds.2022A.pkl\"\n",
    "# standalone_parameters[\"num_examples_per_domain_per_label_source\"]=1000\n",
    "# standalone_parameters[\"num_examples_per_domain_per_label_target\"]=1000\n",
    "\n",
    "# Uncomment these for Metahan dataset\n",
    "# standalone_parameters[\"labels_source\"] = list(range(19))\n",
    "# standalone_parameters[\"labels_target\"] = list(range(19))\n",
    "# standalone_parameters[\"domains_source\"] = [0]\n",
    "# standalone_parameters[\"domains_target\"] = [1]\n",
    "# standalone_parameters[\"pickle_name\"] = \"metehan.stratified_ds.2022A.pkl\"\n",
    "# standalone_parameters[\"n_way\"]  = len(standalone_parameters[\"labels_source\"])\n",
    "# standalone_parameters[\"num_examples_per_domain_per_label_source\"]=200\n",
    "# standalone_parameters[\"num_examples_per_domain_per_label_target\"]=100\n",
    "\n",
    "\n",
    "standalone_parameters[\"n_way\"]  = len(standalone_parameters[\"labels_source\"])"
   ]
  },
  {
   "cell_type": "code",
   "execution_count": 4,
   "id": "c1e69cc5",
   "metadata": {
    "execution": {
     "iopub.execute_input": "2022-03-05T19:16:54.081751Z",
     "iopub.status.busy": "2022-03-05T19:16:54.080007Z",
     "iopub.status.idle": "2022-03-05T19:16:54.093617Z",
     "shell.execute_reply": "2022-03-05T19:16:54.093109Z"
    },
    "papermill": {
     "duration": 0.029549,
     "end_time": "2022-03-05T19:16:54.093720",
     "exception": false,
     "start_time": "2022-03-05T19:16:54.064171",
     "status": "completed"
    },
    "tags": [
     "injected-parameters"
    ]
   },
   "outputs": [],
   "source": [
    "# Parameters\n",
    "parameters = {\n",
    "    \"experiment_name\": \"tuned_1_oracle.run2\",\n",
    "    \"device\": \"cuda\",\n",
    "    \"lr\": 0.001,\n",
    "    \"seed\": 1337,\n",
    "    \"dataset_seed\": 1337,\n",
    "    \"labels_source\": [\n",
    "        \"3123D52\",\n",
    "        \"3123D65\",\n",
    "        \"3123D79\",\n",
    "        \"3123D80\",\n",
    "        \"3123D54\",\n",
    "        \"3123D70\",\n",
    "        \"3123D7B\",\n",
    "        \"3123D89\",\n",
    "        \"3123D58\",\n",
    "        \"3123D76\",\n",
    "        \"3123D7D\",\n",
    "        \"3123EFE\",\n",
    "        \"3123D64\",\n",
    "        \"3123D78\",\n",
    "        \"3123D7E\",\n",
    "        \"3124E4A\",\n",
    "    ],\n",
    "    \"labels_target\": [\n",
    "        \"3123D52\",\n",
    "        \"3123D65\",\n",
    "        \"3123D79\",\n",
    "        \"3123D80\",\n",
    "        \"3123D54\",\n",
    "        \"3123D70\",\n",
    "        \"3123D7B\",\n",
    "        \"3123D89\",\n",
    "        \"3123D58\",\n",
    "        \"3123D76\",\n",
    "        \"3123D7D\",\n",
    "        \"3123EFE\",\n",
    "        \"3123D64\",\n",
    "        \"3123D78\",\n",
    "        \"3123D7E\",\n",
    "        \"3124E4A\",\n",
    "    ],\n",
    "    \"x_transforms_source\": [\"unit_mag\"],\n",
    "    \"x_transforms_target\": [\"unit_mag\"],\n",
    "    \"episode_transforms_source\": [],\n",
    "    \"episode_transforms_target\": [],\n",
    "    \"domains_source\": [8, 32, 50],\n",
    "    \"domains_target\": [14, 20, 26, 38, 44],\n",
    "    \"num_examples_per_domain_per_label_source\": 10000,\n",
    "    \"num_examples_per_domain_per_label_target\": 1000,\n",
    "    \"n_shot\": 3,\n",
    "    \"n_way\": 16,\n",
    "    \"n_query\": 2,\n",
    "    \"train_k_factor\": 3,\n",
    "    \"val_k_factor\": 2,\n",
    "    \"test_k_factor\": 2,\n",
    "    \"torch_default_dtype\": \"torch.float32\",\n",
    "    \"n_epoch\": 50,\n",
    "    \"patience\": 3,\n",
    "    \"criteria_for_best\": \"target_loss\",\n",
    "    \"x_net\": [\n",
    "        {\"class\": \"nnReshape\", \"kargs\": {\"shape\": [-1, 1, 2, 256]}},\n",
    "        {\n",
    "            \"class\": \"Conv2d\",\n",
    "            \"kargs\": {\n",
    "                \"in_channels\": 1,\n",
    "                \"out_channels\": 256,\n",
    "                \"kernel_size\": [1, 7],\n",
    "                \"bias\": False,\n",
    "                \"padding\": [0, 3],\n",
    "            },\n",
    "        },\n",
    "        {\"class\": \"ReLU\", \"kargs\": {\"inplace\": True}},\n",
    "        {\"class\": \"BatchNorm2d\", \"kargs\": {\"num_features\": 256}},\n",
    "        {\n",
    "            \"class\": \"Conv2d\",\n",
    "            \"kargs\": {\n",
    "                \"in_channels\": 256,\n",
    "                \"out_channels\": 80,\n",
    "                \"kernel_size\": [2, 7],\n",
    "                \"bias\": True,\n",
    "                \"padding\": [0, 3],\n",
    "            },\n",
    "        },\n",
    "        {\"class\": \"ReLU\", \"kargs\": {\"inplace\": True}},\n",
    "        {\"class\": \"BatchNorm2d\", \"kargs\": {\"num_features\": 80}},\n",
    "        {\"class\": \"Flatten\", \"kargs\": {}},\n",
    "        {\"class\": \"Linear\", \"kargs\": {\"in_features\": 20480, \"out_features\": 256}},\n",
    "        {\"class\": \"ReLU\", \"kargs\": {\"inplace\": True}},\n",
    "        {\"class\": \"BatchNorm1d\", \"kargs\": {\"num_features\": 256}},\n",
    "        {\"class\": \"Linear\", \"kargs\": {\"in_features\": 256, \"out_features\": 256}},\n",
    "    ],\n",
    "    \"NUM_LOGS_PER_EPOCH\": 10,\n",
    "    \"BEST_MODEL_PATH\": \"./best_model.pth\",\n",
    "    \"pickle_name\": \"oracle.Run2_10kExamples_stratified_ds.2022A.pkl\",\n",
    "}\n"
   ]
  },
  {
   "cell_type": "code",
   "execution_count": 5,
   "id": "8fa1cc33",
   "metadata": {
    "execution": {
     "iopub.execute_input": "2022-03-05T19:16:54.119663Z",
     "iopub.status.busy": "2022-03-05T19:16:54.119260Z",
     "iopub.status.idle": "2022-03-05T19:16:54.129184Z",
     "shell.execute_reply": "2022-03-05T19:16:54.128908Z"
    },
    "papermill": {
     "duration": 0.021674,
     "end_time": "2022-03-05T19:16:54.129244",
     "exception": false,
     "start_time": "2022-03-05T19:16:54.107570",
     "status": "completed"
    },
    "tags": []
   },
   "outputs": [],
   "source": [
    "# Set this to True if you want to run this template directly\n",
    "STANDALONE = False\n",
    "if STANDALONE:\n",
    "    print(\"parameters not injected, running with standalone_parameters\")\n",
    "    parameters = standalone_parameters\n",
    "\n",
    "if not 'parameters' in locals() and not 'parameters' in globals():\n",
    "    raise Exception(\"Parameter injection failed\")\n",
    "\n",
    "#Use an easy dict for all the parameters\n",
    "p = EasyDict(parameters)\n",
    "\n",
    "supplied_keys = set(p.keys())\n",
    "\n",
    "if  supplied_keys != required_parameters:\n",
    "    print(\"Parameters are incorrect\")\n",
    "    if len(supplied_keys - required_parameters)>0: print(\"Shouldn't have:\", str(supplied_keys - required_parameters))\n",
    "    if len(required_parameters - supplied_keys)>0: print(\"Need to have:\", str(required_parameters - supplied_keys))\n",
    "    raise RuntimeError(\"Parameters are incorrect\")\n",
    "\n"
   ]
  },
  {
   "cell_type": "code",
   "execution_count": 6,
   "id": "3a028d58",
   "metadata": {
    "execution": {
     "iopub.execute_input": "2022-03-05T19:16:54.152448Z",
     "iopub.status.busy": "2022-03-05T19:16:54.152042Z",
     "iopub.status.idle": "2022-03-05T19:16:54.161918Z",
     "shell.execute_reply": "2022-03-05T19:16:54.161640Z"
    },
    "papermill": {
     "duration": 0.021094,
     "end_time": "2022-03-05T19:16:54.161978",
     "exception": false,
     "start_time": "2022-03-05T19:16:54.140884",
     "status": "completed"
    },
    "tags": []
   },
   "outputs": [],
   "source": [
    "###################################\n",
    "# Set the RNGs and make it all deterministic\n",
    "###################################\n",
    "np.random.seed(p.seed)\n",
    "random.seed(p.seed)\n",
    "torch.manual_seed(p.seed)\n",
    "\n",
    "torch.use_deterministic_algorithms(True) "
   ]
  },
  {
   "cell_type": "code",
   "execution_count": 7,
   "id": "b691acf6",
   "metadata": {
    "execution": {
     "iopub.execute_input": "2022-03-05T19:16:54.183575Z",
     "iopub.status.busy": "2022-03-05T19:16:54.183168Z",
     "iopub.status.idle": "2022-03-05T19:16:54.192628Z",
     "shell.execute_reply": "2022-03-05T19:16:54.192344Z"
    },
    "papermill": {
     "duration": 0.020889,
     "end_time": "2022-03-05T19:16:54.192688",
     "exception": false,
     "start_time": "2022-03-05T19:16:54.171799",
     "status": "completed"
    },
    "tags": []
   },
   "outputs": [],
   "source": [
    "###########################################\n",
    "# The stratified datasets honor this\n",
    "###########################################\n",
    "torch.set_default_dtype(eval(p.torch_default_dtype))"
   ]
  },
  {
   "cell_type": "code",
   "execution_count": 8,
   "id": "b5fba671",
   "metadata": {
    "execution": {
     "iopub.execute_input": "2022-03-05T19:16:54.215279Z",
     "iopub.status.busy": "2022-03-05T19:16:54.214881Z",
     "iopub.status.idle": "2022-03-05T19:16:54.249926Z",
     "shell.execute_reply": "2022-03-05T19:16:54.249658Z"
    },
    "papermill": {
     "duration": 0.045964,
     "end_time": "2022-03-05T19:16:54.249994",
     "exception": false,
     "start_time": "2022-03-05T19:16:54.204030",
     "status": "completed"
    },
    "tags": []
   },
   "outputs": [],
   "source": [
    "###################################\n",
    "# Build the network(s)\n",
    "# Note: It's critical to do this AFTER setting the RNG\n",
    "# (This is due to the randomized initial weights)\n",
    "###################################\n",
    "x_net = build_sequential(p.x_net)"
   ]
  },
  {
   "cell_type": "code",
   "execution_count": 9,
   "id": "5d7e61cc",
   "metadata": {
    "execution": {
     "iopub.execute_input": "2022-03-05T19:16:54.273351Z",
     "iopub.status.busy": "2022-03-05T19:16:54.272953Z",
     "iopub.status.idle": "2022-03-05T19:16:54.282353Z",
     "shell.execute_reply": "2022-03-05T19:16:54.282089Z"
    },
    "papermill": {
     "duration": 0.022482,
     "end_time": "2022-03-05T19:16:54.282413",
     "exception": false,
     "start_time": "2022-03-05T19:16:54.259931",
     "status": "completed"
    },
    "tags": []
   },
   "outputs": [],
   "source": [
    "start_time_secs = time.time()"
   ]
  },
  {
   "cell_type": "code",
   "execution_count": 10,
   "id": "fd5442bc",
   "metadata": {
    "execution": {
     "iopub.execute_input": "2022-03-05T19:16:54.308633Z",
     "iopub.status.busy": "2022-03-05T19:16:54.308201Z",
     "iopub.status.idle": "2022-03-05T19:17:29.711734Z",
     "shell.execute_reply": "2022-03-05T19:17:29.711211Z"
    },
    "papermill": {
     "duration": 35.418379,
     "end_time": "2022-03-05T19:17:29.711841",
     "exception": false,
     "start_time": "2022-03-05T19:16:54.293462",
     "status": "completed"
    },
    "tags": []
   },
   "outputs": [],
   "source": [
    "###################################\n",
    "# Build the dataset\n",
    "###################################\n",
    "\n",
    "if p.x_transforms_source == []: x_transform_source = None\n",
    "else: x_transform_source = get_chained_transform(p.x_transforms_source) \n",
    "\n",
    "if p.x_transforms_target == []: x_transform_target = None\n",
    "else: x_transform_target = get_chained_transform(p.x_transforms_target)\n",
    "\n",
    "if p.episode_transforms_source == []: episode_transform_source = None\n",
    "else: raise Exception(\"episode_transform_source not implemented\")\n",
    "\n",
    "if p.episode_transforms_target == []: episode_transform_target = None\n",
    "else: raise Exception(\"episode_transform_target not implemented\")\n",
    "\n",
    "\n",
    "eaf_source = Episodic_Accessor_Factory(\n",
    "    labels=p.labels_source,\n",
    "    domains=p.domains_source,\n",
    "    num_examples_per_domain_per_label=p.num_examples_per_domain_per_label_source,\n",
    "    iterator_seed=p.seed,\n",
    "    dataset_seed=p.dataset_seed,\n",
    "    n_shot=p.n_shot,\n",
    "    n_way=p.n_way,\n",
    "    n_query=p.n_query,\n",
    "    train_val_test_k_factors=(p.train_k_factor,p.val_k_factor,p.test_k_factor),\n",
    "    pickle_path=os.path.join(get_datasets_base_path(), p.pickle_name),\n",
    "    x_transform_func=x_transform_source,\n",
    "    example_transform_func=episode_transform_source,\n",
    "    \n",
    ")\n",
    "train_original_source, val_original_source, test_original_source = eaf_source.get_train(), eaf_source.get_val(), eaf_source.get_test()\n",
    "\n",
    "\n",
    "eaf_target = Episodic_Accessor_Factory(\n",
    "    labels=p.labels_target,\n",
    "    domains=p.domains_target,\n",
    "    num_examples_per_domain_per_label=p.num_examples_per_domain_per_label_target,\n",
    "    iterator_seed=p.seed,\n",
    "    dataset_seed=p.dataset_seed,\n",
    "    n_shot=p.n_shot,\n",
    "    n_way=p.n_way,\n",
    "    n_query=p.n_query,\n",
    "    train_val_test_k_factors=(p.train_k_factor,p.val_k_factor,p.test_k_factor),\n",
    "    pickle_path=os.path.join(get_datasets_base_path(), p.pickle_name),\n",
    "    x_transform_func=x_transform_target,\n",
    "    example_transform_func=episode_transform_target,\n",
    ")\n",
    "train_original_target, val_original_target, test_original_target = eaf_target.get_train(), eaf_target.get_val(), eaf_target.get_test()\n",
    "\n",
    "\n",
    "transform_lambda = lambda ex: ex[1] # Original is (<domain>, <episode>) so we strip down to episode only\n",
    "\n",
    "train_processed_source = Lazy_Iterable_Wrapper(train_original_source, transform_lambda)\n",
    "val_processed_source   = Lazy_Iterable_Wrapper(val_original_source, transform_lambda)\n",
    "test_processed_source  = Lazy_Iterable_Wrapper(test_original_source, transform_lambda)\n",
    "\n",
    "train_processed_target = Lazy_Iterable_Wrapper(train_original_target, transform_lambda)\n",
    "val_processed_target   = Lazy_Iterable_Wrapper(val_original_target, transform_lambda)\n",
    "test_processed_target  = Lazy_Iterable_Wrapper(test_original_target, transform_lambda)\n",
    "\n",
    "datasets = EasyDict({\n",
    "    \"source\": {\n",
    "        \"original\": {\"train\":train_original_source, \"val\":val_original_source, \"test\":test_original_source},\n",
    "        \"processed\": {\"train\":train_processed_source, \"val\":val_processed_source, \"test\":test_processed_source}\n",
    "    },\n",
    "    \"target\": {\n",
    "        \"original\": {\"train\":train_original_target, \"val\":val_original_target, \"test\":test_original_target},\n",
    "        \"processed\": {\"train\":train_processed_target, \"val\":val_processed_target, \"test\":test_processed_target}\n",
    "    },\n",
    "})"
   ]
  },
  {
   "cell_type": "code",
   "execution_count": 11,
   "id": "296189d9",
   "metadata": {
    "execution": {
     "iopub.execute_input": "2022-03-05T19:17:29.740148Z",
     "iopub.status.busy": "2022-03-05T19:17:29.739886Z",
     "iopub.status.idle": "2022-03-05T19:17:31.398720Z",
     "shell.execute_reply": "2022-03-05T19:17:31.398983Z"
    },
    "papermill": {
     "duration": 1.671773,
     "end_time": "2022-03-05T19:17:31.399062",
     "exception": false,
     "start_time": "2022-03-05T19:17:29.727289",
     "status": "completed"
    },
    "tags": []
   },
   "outputs": [
    {
     "name": "stdout",
     "output_type": "stream",
     "text": [
      "Visually inspect these to see if they line up with expected values given the transforms\n",
      "x_transforms_source ['unit_mag']\n",
      "x_transforms_target ['unit_mag']\n",
      "Average magnitude, source: 1.0\n",
      "Average power, source: 1.2536592\n"
     ]
    },
    {
     "name": "stdout",
     "output_type": "stream",
     "text": [
      "Average magnitude, target: 1.0\n",
      "Average power, target: 1.28585\n"
     ]
    }
   ],
   "source": [
    "# Some quick unit tests on the data\n",
    "from steves_utils.transforms import get_average_power, get_average_magnitude\n",
    "\n",
    "q_x, q_y, s_x, s_y, truth = next(iter(train_processed_source))\n",
    "\n",
    "assert q_x.dtype == eval(p.torch_default_dtype)\n",
    "assert s_x.dtype == eval(p.torch_default_dtype)\n",
    "\n",
    "print(\"Visually inspect these to see if they line up with expected values given the transforms\")\n",
    "print('x_transforms_source', p.x_transforms_source)\n",
    "print('x_transforms_target', p.x_transforms_target)\n",
    "print(\"Average magnitude, source:\", get_average_magnitude(q_x[0].numpy()))\n",
    "print(\"Average power, source:\", get_average_power(q_x[0].numpy()))\n",
    "\n",
    "q_x, q_y, s_x, s_y, truth = next(iter(train_processed_target))\n",
    "print(\"Average magnitude, target:\", get_average_magnitude(q_x[0].numpy()))\n",
    "print(\"Average power, target:\", get_average_power(q_x[0].numpy()))\n"
   ]
  },
  {
   "cell_type": "code",
   "execution_count": 12,
   "id": "bbdacba1",
   "metadata": {
    "execution": {
     "iopub.execute_input": "2022-03-05T19:17:31.425540Z",
     "iopub.status.busy": "2022-03-05T19:17:31.423254Z",
     "iopub.status.idle": "2022-03-05T19:17:31.481943Z",
     "shell.execute_reply": "2022-03-05T19:17:31.481695Z"
    },
    "papermill": {
     "duration": 0.072177,
     "end_time": "2022-03-05T19:17:31.482008",
     "exception": false,
     "start_time": "2022-03-05T19:17:31.409831",
     "status": "completed"
    },
    "tags": []
   },
   "outputs": [
    {
     "name": "stdout",
     "output_type": "stream",
     "text": [
      "(2, 256)\n"
     ]
    }
   ],
   "source": [
    "###################################\n",
    "# Build the model\n",
    "###################################\n",
    "model = Steves_Prototypical_Network(x_net, device=p.device, x_shape=(2,256))\n",
    "optimizer = Adam(params=model.parameters(), lr=p.lr)"
   ]
  },
  {
   "cell_type": "code",
   "execution_count": 13,
   "id": "22b39ac5",
   "metadata": {
    "execution": {
     "iopub.execute_input": "2022-03-05T19:17:31.511531Z",
     "iopub.status.busy": "2022-03-05T19:17:31.511087Z",
     "iopub.status.idle": "2022-03-05T20:07:58.250136Z",
     "shell.execute_reply": "2022-03-05T20:07:58.249904Z"
    },
    "papermill": {
     "duration": 3026.757156,
     "end_time": "2022-03-05T20:07:58.250197",
     "exception": false,
     "start_time": "2022-03-05T19:17:31.493041",
     "status": "completed"
    },
    "tags": []
   },
   "outputs": [
    {
     "name": "stdout",
     "output_type": "stream",
     "text": [
      "epoch: 1, [batch: 1 / 12600], examples_per_second: 25.8427, train_label_loss: 2.8267, \n"
     ]
    },
    {
     "name": "stdout",
     "output_type": "stream",
     "text": [
      "epoch: 1, [batch: 1260 / 12600], examples_per_second: 3206.7792, train_label_loss: 1.6172, \n"
     ]
    },
    {
     "name": "stdout",
     "output_type": "stream",
     "text": [
      "epoch: 1, [batch: 2520 / 12600], examples_per_second: 3208.0808, train_label_loss: 1.1171, \n"
     ]
    },
    {
     "name": "stdout",
     "output_type": "stream",
     "text": [
      "epoch: 1, [batch: 3780 / 12600], examples_per_second: 3204.4583, train_label_loss: 1.1271, \n"
     ]
    },
    {
     "name": "stdout",
     "output_type": "stream",
     "text": [
      "epoch: 1, [batch: 5040 / 12600], examples_per_second: 3207.9051, train_label_loss: 0.7520, \n"
     ]
    },
    {
     "name": "stdout",
     "output_type": "stream",
     "text": [
      "epoch: 1, [batch: 6300 / 12600], examples_per_second: 3220.6168, train_label_loss: 1.1147, \n"
     ]
    },
    {
     "name": "stdout",
     "output_type": "stream",
     "text": [
      "epoch: 1, [batch: 7560 / 12600], examples_per_second: 3213.5456, train_label_loss: 1.2172, \n"
     ]
    },
    {
     "name": "stdout",
     "output_type": "stream",
     "text": [
      "epoch: 1, [batch: 8820 / 12600], examples_per_second: 3205.8543, train_label_loss: 0.9635, \n"
     ]
    },
    {
     "name": "stdout",
     "output_type": "stream",
     "text": [
      "epoch: 1, [batch: 10080 / 12600], examples_per_second: 3201.4844, train_label_loss: 0.8938, \n"
     ]
    },
    {
     "name": "stdout",
     "output_type": "stream",
     "text": [
      "epoch: 1, [batch: 11340 / 12600], examples_per_second: 3215.1933, train_label_loss: 0.7977, \n"
     ]
    },
    {
     "name": "stdout",
     "output_type": "stream",
     "text": [
      "=============================================================\n",
      "epoch: 1, source_val_acc_label: 0.6413, target_val_acc_label: 0.5369, source_val_label_loss: 1.1241, target_val_label_loss: 1.3551, \n",
      "=============================================================\n"
     ]
    },
    {
     "name": "stdout",
     "output_type": "stream",
     "text": [
      "New best\n"
     ]
    },
    {
     "name": "stdout",
     "output_type": "stream",
     "text": [
      "epoch: 2, [batch: 1 / 12600], examples_per_second: 3.0729, train_label_loss: 1.0896, \n"
     ]
    },
    {
     "name": "stdout",
     "output_type": "stream",
     "text": [
      "epoch: 2, [batch: 1260 / 12600], examples_per_second: 3226.5736, train_label_loss: 0.8106, \n"
     ]
    },
    {
     "name": "stdout",
     "output_type": "stream",
     "text": [
      "epoch: 2, [batch: 2520 / 12600], examples_per_second: 3244.3947, train_label_loss: 1.0745, \n"
     ]
    },
    {
     "name": "stdout",
     "output_type": "stream",
     "text": [
      "epoch: 2, [batch: 3780 / 12600], examples_per_second: 3241.7409, train_label_loss: 1.0589, \n"
     ]
    },
    {
     "name": "stdout",
     "output_type": "stream",
     "text": [
      "epoch: 2, [batch: 5040 / 12600], examples_per_second: 3229.4654, train_label_loss: 0.9554, \n"
     ]
    },
    {
     "name": "stdout",
     "output_type": "stream",
     "text": [
      "epoch: 2, [batch: 6300 / 12600], examples_per_second: 3241.6395, train_label_loss: 0.8231, \n"
     ]
    },
    {
     "name": "stdout",
     "output_type": "stream",
     "text": [
      "epoch: 2, [batch: 7560 / 12600], examples_per_second: 3248.9753, train_label_loss: 0.7782, \n"
     ]
    },
    {
     "name": "stdout",
     "output_type": "stream",
     "text": [
      "epoch: 2, [batch: 8820 / 12600], examples_per_second: 3237.4031, train_label_loss: 0.6512, \n"
     ]
    },
    {
     "name": "stdout",
     "output_type": "stream",
     "text": [
      "epoch: 2, [batch: 10080 / 12600], examples_per_second: 3239.2645, train_label_loss: 0.4954, \n"
     ]
    },
    {
     "name": "stdout",
     "output_type": "stream",
     "text": [
      "epoch: 2, [batch: 11340 / 12600], examples_per_second: 3236.8892, train_label_loss: 0.4057, \n"
     ]
    },
    {
     "name": "stdout",
     "output_type": "stream",
     "text": [
      "=============================================================\n",
      "epoch: 2, source_val_acc_label: 0.6838, target_val_acc_label: 0.5679, source_val_label_loss: 0.8136, target_val_label_loss: 1.1859, \n",
      "=============================================================\n"
     ]
    },
    {
     "name": "stdout",
     "output_type": "stream",
     "text": [
      "New best\n"
     ]
    },
    {
     "name": "stdout",
     "output_type": "stream",
     "text": [
      "epoch: 3, [batch: 1 / 12600], examples_per_second: 3.0858, train_label_loss: 0.7645, \n"
     ]
    },
    {
     "name": "stdout",
     "output_type": "stream",
     "text": [
      "epoch: 3, [batch: 1260 / 12600], examples_per_second: 3071.8593, train_label_loss: 0.8111, \n"
     ]
    },
    {
     "name": "stdout",
     "output_type": "stream",
     "text": [
      "epoch: 3, [batch: 2520 / 12600], examples_per_second: 3185.7009, train_label_loss: 0.7279, \n"
     ]
    },
    {
     "name": "stdout",
     "output_type": "stream",
     "text": [
      "epoch: 3, [batch: 3780 / 12600], examples_per_second: 3176.8000, train_label_loss: 0.9250, \n"
     ]
    },
    {
     "name": "stdout",
     "output_type": "stream",
     "text": [
      "epoch: 3, [batch: 5040 / 12600], examples_per_second: 3215.0890, train_label_loss: 0.6517, \n"
     ]
    },
    {
     "name": "stdout",
     "output_type": "stream",
     "text": [
      "epoch: 3, [batch: 6300 / 12600], examples_per_second: 3172.0912, train_label_loss: 0.8838, \n"
     ]
    },
    {
     "name": "stdout",
     "output_type": "stream",
     "text": [
      "epoch: 3, [batch: 7560 / 12600], examples_per_second: 3188.9186, train_label_loss: 0.6768, \n"
     ]
    },
    {
     "name": "stdout",
     "output_type": "stream",
     "text": [
      "epoch: 3, [batch: 8820 / 12600], examples_per_second: 3161.2102, train_label_loss: 0.8061, \n"
     ]
    },
    {
     "name": "stdout",
     "output_type": "stream",
     "text": [
      "epoch: 3, [batch: 10080 / 12600], examples_per_second: 3195.7470, train_label_loss: 0.5558, \n"
     ]
    },
    {
     "name": "stdout",
     "output_type": "stream",
     "text": [
      "epoch: 3, [batch: 11340 / 12600], examples_per_second: 3190.7204, train_label_loss: 0.8459, \n"
     ]
    },
    {
     "name": "stdout",
     "output_type": "stream",
     "text": [
      "=============================================================\n",
      "epoch: 3, source_val_acc_label: 0.7118, target_val_acc_label: 0.5948, source_val_label_loss: 0.7754, target_val_label_loss: 1.2004, \n",
      "=============================================================\n"
     ]
    },
    {
     "name": "stdout",
     "output_type": "stream",
     "text": [
      "epoch: 4, [batch: 1 / 12600], examples_per_second: 3.0455, train_label_loss: 0.4127, \n"
     ]
    },
    {
     "name": "stdout",
     "output_type": "stream",
     "text": [
      "epoch: 4, [batch: 1260 / 12600], examples_per_second: 3164.1771, train_label_loss: 0.8050, \n"
     ]
    },
    {
     "name": "stdout",
     "output_type": "stream",
     "text": [
      "epoch: 4, [batch: 2520 / 12600], examples_per_second: 3193.9729, train_label_loss: 0.6794, \n"
     ]
    },
    {
     "name": "stdout",
     "output_type": "stream",
     "text": [
      "epoch: 4, [batch: 3780 / 12600], examples_per_second: 3233.4615, train_label_loss: 0.5426, \n"
     ]
    },
    {
     "name": "stdout",
     "output_type": "stream",
     "text": [
      "epoch: 4, [batch: 5040 / 12600], examples_per_second: 3208.9541, train_label_loss: 0.4601, \n"
     ]
    },
    {
     "name": "stdout",
     "output_type": "stream",
     "text": [
      "epoch: 4, [batch: 6300 / 12600], examples_per_second: 3226.9155, train_label_loss: 0.5657, \n"
     ]
    },
    {
     "name": "stdout",
     "output_type": "stream",
     "text": [
      "epoch: 4, [batch: 7560 / 12600], examples_per_second: 3216.6616, train_label_loss: 0.7367, \n"
     ]
    },
    {
     "name": "stdout",
     "output_type": "stream",
     "text": [
      "epoch: 4, [batch: 8820 / 12600], examples_per_second: 3155.9249, train_label_loss: 0.5401, \n"
     ]
    },
    {
     "name": "stdout",
     "output_type": "stream",
     "text": [
      "epoch: 4, [batch: 10080 / 12600], examples_per_second: 3084.2550, train_label_loss: 0.8276, \n"
     ]
    },
    {
     "name": "stdout",
     "output_type": "stream",
     "text": [
      "epoch: 4, [batch: 11340 / 12600], examples_per_second: 3091.1080, train_label_loss: 0.5035, \n"
     ]
    },
    {
     "name": "stdout",
     "output_type": "stream",
     "text": [
      "=============================================================\n",
      "epoch: 4, source_val_acc_label: 0.7257, target_val_acc_label: 0.5968, source_val_label_loss: 0.7449, target_val_label_loss: 1.1885, \n",
      "=============================================================\n"
     ]
    },
    {
     "name": "stdout",
     "output_type": "stream",
     "text": [
      "epoch: 5, [batch: 1 / 12600], examples_per_second: 3.0187, train_label_loss: 0.7076, \n"
     ]
    },
    {
     "name": "stdout",
     "output_type": "stream",
     "text": [
      "epoch: 5, [batch: 1260 / 12600], examples_per_second: 3220.3073, train_label_loss: 0.5832, \n"
     ]
    },
    {
     "name": "stdout",
     "output_type": "stream",
     "text": [
      "epoch: 5, [batch: 2520 / 12600], examples_per_second: 3196.6973, train_label_loss: 0.4902, \n"
     ]
    },
    {
     "name": "stdout",
     "output_type": "stream",
     "text": [
      "epoch: 5, [batch: 3780 / 12600], examples_per_second: 3203.4377, train_label_loss: 0.4477, \n"
     ]
    },
    {
     "name": "stdout",
     "output_type": "stream",
     "text": [
      "epoch: 5, [batch: 5040 / 12600], examples_per_second: 3148.4928, train_label_loss: 0.5371, \n"
     ]
    },
    {
     "name": "stdout",
     "output_type": "stream",
     "text": [
      "epoch: 5, [batch: 6300 / 12600], examples_per_second: 3184.3482, train_label_loss: 0.3414, \n"
     ]
    },
    {
     "name": "stdout",
     "output_type": "stream",
     "text": [
      "epoch: 5, [batch: 7560 / 12600], examples_per_second: 3229.3108, train_label_loss: 0.5796, \n"
     ]
    },
    {
     "name": "stdout",
     "output_type": "stream",
     "text": [
      "epoch: 5, [batch: 8820 / 12600], examples_per_second: 3224.8941, train_label_loss: 0.3271, \n"
     ]
    },
    {
     "name": "stdout",
     "output_type": "stream",
     "text": [
      "epoch: 5, [batch: 10080 / 12600], examples_per_second: 3235.5258, train_label_loss: 0.5579, \n"
     ]
    },
    {
     "name": "stdout",
     "output_type": "stream",
     "text": [
      "epoch: 5, [batch: 11340 / 12600], examples_per_second: 3217.5426, train_label_loss: 0.5727, \n"
     ]
    },
    {
     "name": "stdout",
     "output_type": "stream",
     "text": [
      "=============================================================\n",
      "epoch: 5, source_val_acc_label: 0.7268, target_val_acc_label: 0.6026, source_val_label_loss: 0.7412, target_val_label_loss: 1.1767, \n",
      "=============================================================\n"
     ]
    },
    {
     "name": "stdout",
     "output_type": "stream",
     "text": [
      "New best\n"
     ]
    },
    {
     "name": "stdout",
     "output_type": "stream",
     "text": [
      "epoch: 6, [batch: 1 / 12600], examples_per_second: 3.0699, train_label_loss: 0.5045, \n"
     ]
    },
    {
     "name": "stdout",
     "output_type": "stream",
     "text": [
      "epoch: 6, [batch: 1260 / 12600], examples_per_second: 3221.4774, train_label_loss: 0.4959, \n"
     ]
    },
    {
     "name": "stdout",
     "output_type": "stream",
     "text": [
      "epoch: 6, [batch: 2520 / 12600], examples_per_second: 3229.4975, train_label_loss: 0.5486, \n"
     ]
    },
    {
     "name": "stdout",
     "output_type": "stream",
     "text": [
      "epoch: 6, [batch: 3780 / 12600], examples_per_second: 3232.9441, train_label_loss: 0.5260, \n"
     ]
    },
    {
     "name": "stdout",
     "output_type": "stream",
     "text": [
      "epoch: 6, [batch: 5040 / 12600], examples_per_second: 3143.4444, train_label_loss: 0.3642, \n"
     ]
    },
    {
     "name": "stdout",
     "output_type": "stream",
     "text": [
      "epoch: 6, [batch: 6300 / 12600], examples_per_second: 3187.7475, train_label_loss: 0.1933, \n"
     ]
    },
    {
     "name": "stdout",
     "output_type": "stream",
     "text": [
      "epoch: 6, [batch: 7560 / 12600], examples_per_second: 3241.4692, train_label_loss: 0.4253, \n"
     ]
    },
    {
     "name": "stdout",
     "output_type": "stream",
     "text": [
      "epoch: 6, [batch: 8820 / 12600], examples_per_second: 3231.6378, train_label_loss: 0.3971, \n"
     ]
    },
    {
     "name": "stdout",
     "output_type": "stream",
     "text": [
      "epoch: 6, [batch: 10080 / 12600], examples_per_second: 3236.6497, train_label_loss: 0.2378, \n"
     ]
    },
    {
     "name": "stdout",
     "output_type": "stream",
     "text": [
      "epoch: 6, [batch: 11340 / 12600], examples_per_second: 3241.6606, train_label_loss: 0.1873, \n"
     ]
    },
    {
     "name": "stdout",
     "output_type": "stream",
     "text": [
      "=============================================================\n",
      "epoch: 6, source_val_acc_label: 0.7296, target_val_acc_label: 0.6092, source_val_label_loss: 0.7600, target_val_label_loss: 1.2248, \n",
      "=============================================================\n"
     ]
    },
    {
     "name": "stdout",
     "output_type": "stream",
     "text": [
      "epoch: 7, [batch: 1 / 12600], examples_per_second: 3.1015, train_label_loss: 0.4222, \n"
     ]
    },
    {
     "name": "stdout",
     "output_type": "stream",
     "text": [
      "epoch: 7, [batch: 1260 / 12600], examples_per_second: 3209.6732, train_label_loss: 0.3460, \n"
     ]
    },
    {
     "name": "stdout",
     "output_type": "stream",
     "text": [
      "epoch: 7, [batch: 2520 / 12600], examples_per_second: 3222.1069, train_label_loss: 0.4644, \n"
     ]
    },
    {
     "name": "stdout",
     "output_type": "stream",
     "text": [
      "epoch: 7, [batch: 3780 / 12600], examples_per_second: 3240.7752, train_label_loss: 0.4926, \n"
     ]
    },
    {
     "name": "stdout",
     "output_type": "stream",
     "text": [
      "epoch: 7, [batch: 5040 / 12600], examples_per_second: 3229.5271, train_label_loss: 0.4385, \n"
     ]
    },
    {
     "name": "stdout",
     "output_type": "stream",
     "text": [
      "epoch: 7, [batch: 6300 / 12600], examples_per_second: 3242.7162, train_label_loss: 0.2211, \n"
     ]
    },
    {
     "name": "stdout",
     "output_type": "stream",
     "text": [
      "epoch: 7, [batch: 7560 / 12600], examples_per_second: 3242.4662, train_label_loss: 0.2793, \n"
     ]
    },
    {
     "name": "stdout",
     "output_type": "stream",
     "text": [
      "epoch: 7, [batch: 8820 / 12600], examples_per_second: 3234.0859, train_label_loss: 1.5318, \n"
     ]
    },
    {
     "name": "stdout",
     "output_type": "stream",
     "text": [
      "epoch: 7, [batch: 10080 / 12600], examples_per_second: 3234.8074, train_label_loss: 0.4983, \n"
     ]
    },
    {
     "name": "stdout",
     "output_type": "stream",
     "text": [
      "epoch: 7, [batch: 11340 / 12600], examples_per_second: 3228.6858, train_label_loss: 0.2514, \n"
     ]
    },
    {
     "name": "stdout",
     "output_type": "stream",
     "text": [
      "=============================================================\n",
      "epoch: 7, source_val_acc_label: 0.7318, target_val_acc_label: 0.6108, source_val_label_loss: 0.7851, target_val_label_loss: 1.2517, \n",
      "=============================================================\n"
     ]
    },
    {
     "name": "stdout",
     "output_type": "stream",
     "text": [
      "epoch: 8, [batch: 1 / 12600], examples_per_second: 3.0251, train_label_loss: 0.2174, \n"
     ]
    },
    {
     "name": "stdout",
     "output_type": "stream",
     "text": [
      "epoch: 8, [batch: 1260 / 12600], examples_per_second: 3172.7392, train_label_loss: 0.5278, \n"
     ]
    },
    {
     "name": "stdout",
     "output_type": "stream",
     "text": [
      "epoch: 8, [batch: 2520 / 12600], examples_per_second: 3183.8480, train_label_loss: 0.2541, \n"
     ]
    },
    {
     "name": "stdout",
     "output_type": "stream",
     "text": [
      "epoch: 8, [batch: 3780 / 12600], examples_per_second: 3214.9085, train_label_loss: 0.3380, \n"
     ]
    },
    {
     "name": "stdout",
     "output_type": "stream",
     "text": [
      "epoch: 8, [batch: 5040 / 12600], examples_per_second: 3172.7171, train_label_loss: 0.6657, \n"
     ]
    },
    {
     "name": "stdout",
     "output_type": "stream",
     "text": [
      "epoch: 8, [batch: 6300 / 12600], examples_per_second: 3212.3623, train_label_loss: 0.5750, \n"
     ]
    },
    {
     "name": "stdout",
     "output_type": "stream",
     "text": [
      "epoch: 8, [batch: 7560 / 12600], examples_per_second: 3063.4433, train_label_loss: 0.5931, \n"
     ]
    },
    {
     "name": "stdout",
     "output_type": "stream",
     "text": [
      "epoch: 8, [batch: 8820 / 12600], examples_per_second: 3000.4555, train_label_loss: 0.4117, \n"
     ]
    },
    {
     "name": "stdout",
     "output_type": "stream",
     "text": [
      "epoch: 8, [batch: 10080 / 12600], examples_per_second: 2973.6668, train_label_loss: 0.3423, \n"
     ]
    },
    {
     "name": "stdout",
     "output_type": "stream",
     "text": [
      "epoch: 8, [batch: 11340 / 12600], examples_per_second: 3115.8962, train_label_loss: 0.2110, \n"
     ]
    },
    {
     "name": "stdout",
     "output_type": "stream",
     "text": [
      "=============================================================\n",
      "epoch: 8, source_val_acc_label: 0.7252, target_val_acc_label: 0.6090, source_val_label_loss: 0.8201, target_val_label_loss: 1.2816, \n",
      "=============================================================\n"
     ]
    },
    {
     "name": "stdout",
     "output_type": "stream",
     "text": [
      "epoch: 9, [batch: 1 / 12600], examples_per_second: 3.0130, train_label_loss: 0.3068, \n"
     ]
    },
    {
     "name": "stdout",
     "output_type": "stream",
     "text": [
      "epoch: 9, [batch: 1260 / 12600], examples_per_second: 3178.9987, train_label_loss: 0.4141, \n"
     ]
    },
    {
     "name": "stdout",
     "output_type": "stream",
     "text": [
      "epoch: 9, [batch: 2520 / 12600], examples_per_second: 3167.6167, train_label_loss: 0.5938, \n"
     ]
    },
    {
     "name": "stdout",
     "output_type": "stream",
     "text": [
      "epoch: 9, [batch: 3780 / 12600], examples_per_second: 3180.2709, train_label_loss: 0.4756, \n"
     ]
    },
    {
     "name": "stdout",
     "output_type": "stream",
     "text": [
      "epoch: 9, [batch: 5040 / 12600], examples_per_second: 3192.0751, train_label_loss: 0.3239, \n"
     ]
    },
    {
     "name": "stdout",
     "output_type": "stream",
     "text": [
      "epoch: 9, [batch: 6300 / 12600], examples_per_second: 3178.2539, train_label_loss: 0.3646, \n"
     ]
    },
    {
     "name": "stdout",
     "output_type": "stream",
     "text": [
      "epoch: 9, [batch: 7560 / 12600], examples_per_second: 3155.1226, train_label_loss: 0.3475, \n"
     ]
    },
    {
     "name": "stdout",
     "output_type": "stream",
     "text": [
      "epoch: 9, [batch: 8820 / 12600], examples_per_second: 3185.6634, train_label_loss: 0.2830, \n"
     ]
    },
    {
     "name": "stdout",
     "output_type": "stream",
     "text": [
      "epoch: 9, [batch: 10080 / 12600], examples_per_second: 3202.2791, train_label_loss: 0.2224, \n"
     ]
    },
    {
     "name": "stdout",
     "output_type": "stream",
     "text": [
      "epoch: 9, [batch: 11340 / 12600], examples_per_second: 3233.3284, train_label_loss: 0.3398, \n"
     ]
    },
    {
     "name": "stdout",
     "output_type": "stream",
     "text": [
      "=============================================================\n",
      "epoch: 9, source_val_acc_label: 0.6435, target_val_acc_label: 0.5251, source_val_label_loss: 0.9496, target_val_label_loss: 1.3424, \n",
      "=============================================================\n"
     ]
    },
    {
     "name": "stdout",
     "output_type": "stream",
     "text": [
      "Patience (3) exhausted\n"
     ]
    }
   ],
   "source": [
    "###################################\n",
    "# train\n",
    "###################################\n",
    "jig = PTN_Train_Eval_Test_Jig(model, p.BEST_MODEL_PATH, p.device)\n",
    "\n",
    "jig.train(\n",
    "    train_iterable=datasets.source.processed.train,\n",
    "    source_val_iterable=datasets.source.processed.val,\n",
    "    target_val_iterable=datasets.target.processed.val,\n",
    "    num_epochs=p.n_epoch,\n",
    "    num_logs_per_epoch=p.NUM_LOGS_PER_EPOCH,\n",
    "    patience=p.patience,\n",
    "    optimizer=optimizer,\n",
    "    criteria_for_best=p.criteria_for_best,\n",
    ")"
   ]
  },
  {
   "cell_type": "code",
   "execution_count": 14,
   "id": "31e8fabf",
   "metadata": {
    "execution": {
     "iopub.execute_input": "2022-03-05T20:07:58.310562Z",
     "iopub.status.busy": "2022-03-05T20:07:58.310307Z",
     "iopub.status.idle": "2022-03-05T20:07:58.325511Z",
     "shell.execute_reply": "2022-03-05T20:07:58.325006Z"
    },
    "papermill": {
     "duration": 0.046961,
     "end_time": "2022-03-05T20:07:58.325620",
     "exception": false,
     "start_time": "2022-03-05T20:07:58.278659",
     "status": "completed"
    },
    "tags": []
   },
   "outputs": [],
   "source": [
    "total_experiment_time_secs = time.time() - start_time_secs"
   ]
  },
  {
   "cell_type": "code",
   "execution_count": 15,
   "id": "87b9595b",
   "metadata": {
    "execution": {
     "iopub.execute_input": "2022-03-05T20:07:58.397179Z",
     "iopub.status.busy": "2022-03-05T20:07:58.396905Z",
     "iopub.status.idle": "2022-03-05T20:09:47.248240Z",
     "shell.execute_reply": "2022-03-05T20:09:47.248652Z"
    },
    "papermill": {
     "duration": 108.889654,
     "end_time": "2022-03-05T20:09:47.248783",
     "exception": false,
     "start_time": "2022-03-05T20:07:58.359129",
     "status": "completed"
    },
    "tags": []
   },
   "outputs": [],
   "source": [
    "###################################\n",
    "# Evaluate the model\n",
    "###################################\n",
    "source_test_label_accuracy, source_test_label_loss = jig.test(datasets.source.processed.test)\n",
    "target_test_label_accuracy, target_test_label_loss = jig.test(datasets.target.processed.test)\n",
    "\n",
    "source_val_label_accuracy, source_val_label_loss = jig.test(datasets.source.processed.val)\n",
    "target_val_label_accuracy, target_val_label_loss = jig.test(datasets.target.processed.val)\n",
    "\n",
    "history = jig.get_history()\n",
    "\n",
    "total_epochs_trained = len(history[\"epoch_indices\"])\n",
    "\n",
    "val_dl = Iterable_Aggregator((datasets.source.original.val,datasets.target.original.val))\n",
    "\n",
    "confusion = ptn_confusion_by_domain_over_dataloader(model, p.device, val_dl)\n",
    "per_domain_accuracy = per_domain_accuracy_from_confusion(confusion)\n",
    "\n",
    "# Add a key to per_domain_accuracy for if it was a source domain\n",
    "for domain, accuracy in per_domain_accuracy.items():\n",
    "    per_domain_accuracy[domain] = {\n",
    "        \"accuracy\": accuracy,\n",
    "        \"source?\": domain in p.domains_source\n",
    "    }\n",
    "\n",
    "# Do an independent accuracy assesment JUST TO BE SURE!\n",
    "# _source_test_label_accuracy = independent_accuracy_assesment(model, datasets.source.processed.test, p.device)\n",
    "# _target_test_label_accuracy = independent_accuracy_assesment(model, datasets.target.processed.test, p.device)\n",
    "# _source_val_label_accuracy = independent_accuracy_assesment(model, datasets.source.processed.val, p.device)\n",
    "# _target_val_label_accuracy = independent_accuracy_assesment(model, datasets.target.processed.val, p.device)\n",
    "\n",
    "# assert(_source_test_label_accuracy == source_test_label_accuracy)\n",
    "# assert(_target_test_label_accuracy == target_test_label_accuracy)\n",
    "# assert(_source_val_label_accuracy == source_val_label_accuracy)\n",
    "# assert(_target_val_label_accuracy == target_val_label_accuracy)\n",
    "\n",
    "experiment = {\n",
    "    \"experiment_name\": p.experiment_name,\n",
    "    \"parameters\": dict(p),\n",
    "    \"results\": {\n",
    "        \"source_test_label_accuracy\": source_test_label_accuracy,\n",
    "        \"source_test_label_loss\": source_test_label_loss,\n",
    "        \"target_test_label_accuracy\": target_test_label_accuracy,\n",
    "        \"target_test_label_loss\": target_test_label_loss,\n",
    "        \"source_val_label_accuracy\": source_val_label_accuracy,\n",
    "        \"source_val_label_loss\": source_val_label_loss,\n",
    "        \"target_val_label_accuracy\": target_val_label_accuracy,\n",
    "        \"target_val_label_loss\": target_val_label_loss,\n",
    "        \"total_epochs_trained\": total_epochs_trained,\n",
    "        \"total_experiment_time_secs\": total_experiment_time_secs,\n",
    "        \"confusion\": confusion,\n",
    "        \"per_domain_accuracy\": per_domain_accuracy,\n",
    "    },\n",
    "    \"history\": history,\n",
    "    \"dataset_metrics\": get_dataset_metrics(datasets, \"ptn\"),\n",
    "}"
   ]
  },
  {
   "cell_type": "code",
   "execution_count": 16,
   "id": "54a21829",
   "metadata": {
    "execution": {
     "iopub.execute_input": "2022-03-05T20:09:47.313866Z",
     "iopub.status.busy": "2022-03-05T20:09:47.313448Z",
     "iopub.status.idle": "2022-03-05T20:09:47.502189Z",
     "shell.execute_reply": "2022-03-05T20:09:47.502607Z"
    },
    "papermill": {
     "duration": 0.219826,
     "end_time": "2022-03-05T20:09:47.502766",
     "exception": false,
     "start_time": "2022-03-05T20:09:47.282940",
     "status": "completed"
    },
    "tags": []
   },
   "outputs": [
    {
     "data": {
      "image/png": "[encoded data removed]",
      "text/plain": [
       "<Figure size 1080x504 with 1 Axes>"
      ]
     },
     "metadata": {
      "needs_background": "light"
     },
     "output_type": "display_data"
    }
   ],
   "source": [
    "ax = get_loss_curve(experiment)\n",
    "plt.show()"
   ]
  },
  {
   "cell_type": "code",
   "execution_count": 17,
   "id": "fd8a0f60",
   "metadata": {
    "execution": {
     "iopub.execute_input": "2022-03-05T20:09:47.575348Z",
     "iopub.status.busy": "2022-03-05T20:09:47.568155Z",
     "iopub.status.idle": "2022-03-05T20:09:47.744899Z",
     "shell.execute_reply": "2022-03-05T20:09:47.745320Z"
    },
    "papermill": {
     "duration": 0.208831,
     "end_time": "2022-03-05T20:09:47.745453",
     "exception": false,
     "start_time": "2022-03-05T20:09:47.536622",
     "status": "completed"
    },
    "tags": []
   },
   "outputs": [
    {
     "data": {
      "text/plain": [
       "<matplotlib.axes._subplots.AxesSubplot at 0x7ff5006e3910>"
      ]
     },
     "execution_count": 17,
     "metadata": {},
     "output_type": "execute_result"
    },
    {
     "data": {
      "image/png": "[encoded data removed]",
      "text/plain": [
       "<Figure size 1080x504 with 1 Axes>"
      ]
     },
     "metadata": {
      "needs_background": "light"
     },
     "output_type": "display_data"
    }
   ],
   "source": [
    "get_results_table(experiment)"
   ]
  },
  {
   "cell_type": "code",
   "execution_count": 18,
   "id": "cf8dc689",
   "metadata": {
    "execution": {
     "iopub.execute_input": "2022-03-05T20:09:47.813322Z",
     "iopub.status.busy": "2022-03-05T20:09:47.812629Z",
     "iopub.status.idle": "2022-03-05T20:09:47.986466Z",
     "shell.execute_reply": "2022-03-05T20:09:47.985945Z"
    },
    "papermill": {
     "duration": 0.206941,
     "end_time": "2022-03-05T20:09:47.986576",
     "exception": false,
     "start_time": "2022-03-05T20:09:47.779635",
     "status": "completed"
    },
    "tags": []
   },
   "outputs": [
    {
     "data": {
      "text/plain": [
       "<matplotlib.axes._subplots.AxesSubplot at 0x7ff500717dc0>"
      ]
     },
     "execution_count": 18,
     "metadata": {},
     "output_type": "execute_result"
    },
    {
     "data": {
      "image/png": "[encoded data removed]",
      "text/plain": [
       "<Figure size 1080x504 with 1 Axes>"
      ]
     },
     "metadata": {
      "needs_background": "light"
     },
     "output_type": "display_data"
    }
   ],
   "source": [
    "get_domain_accuracies(experiment)"
   ]
  },
  {
   "cell_type": "code",
   "execution_count": 19,
   "id": "a74ae082",
   "metadata": {
    "execution": {
     "iopub.execute_input": "2022-03-05T20:09:48.059570Z",
     "iopub.status.busy": "2022-03-05T20:09:48.056979Z",
     "iopub.status.idle": "2022-03-05T20:09:48.071018Z",
     "shell.execute_reply": "2022-03-05T20:09:48.070504Z"
    },
    "papermill": {
     "duration": 0.048554,
     "end_time": "2022-03-05T20:09:48.071120",
     "exception": false,
     "start_time": "2022-03-05T20:09:48.022566",
     "status": "completed"
    },
    "tags": []
   },
   "outputs": [
    {
     "name": "stdout",
     "output_type": "stream",
     "text": [
      "Source Test Label Accuracy: 0.7261631944444444 Target Test Label Accuracy: 0.606875\n",
      "Source Val Label Accuracy: 0.7267534722222222 Target Val Label Accuracy: 0.6026041666666667\n"
     ]
    }
   ],
   "source": [
    "print(\"Source Test Label Accuracy:\", experiment[\"results\"][\"source_test_label_accuracy\"], \"Target Test Label Accuracy:\", experiment[\"results\"][\"target_test_label_accuracy\"])\n",
    "print(\"Source Val Label Accuracy:\", experiment[\"results\"][\"source_val_label_accuracy\"], \"Target Val Label Accuracy:\", experiment[\"results\"][\"target_val_label_accuracy\"])"
   ]
  },
  {
   "cell_type": "code",
   "execution_count": 20,
   "id": "dacca602",
   "metadata": {
    "execution": {
     "iopub.execute_input": "2022-03-05T20:09:48.141301Z",
     "iopub.status.busy": "2022-03-05T20:09:48.141048Z",
     "iopub.status.idle": "2022-03-05T20:09:48.156414Z",
     "shell.execute_reply": "2022-03-05T20:09:48.156834Z"
    },
    "papermill": {
     "duration": 0.049527,
     "end_time": "2022-03-05T20:09:48.156961",
     "exception": false,
     "start_time": "2022-03-05T20:09:48.107434",
     "status": "completed"
    },
    "tags": [
     "experiment_json"
    ]
   },
   "outputs": [
    {
     "data": {
      "text/plain": [
       "'{\"experiment_name\": \"tuned_1_oracle.run2\", \"parameters\": {\"experiment_name\": \"tuned_1_oracle.run2\", \"device\": \"cuda\", \"lr\": 0.001, \"seed\": 1337, \"dataset_seed\": 1337, \"labels_source\": [\"3123D52\", \"3123D65\", \"3123D79\", \"3123D80\", \"3123D54\", \"3123D70\", \"3123D7B\", \"3123D89\", \"3123D58\", \"3123D76\", \"3123D7D\", \"3123EFE\", \"3123D64\", \"3123D78\", \"3123D7E\", \"3124E4A\"], \"labels_target\": [\"3123D52\", \"3123D65\", \"3123D79\", \"3123D80\", \"3123D54\", \"3123D70\", \"3123D7B\", \"3123D89\", \"3123D58\", \"3123D76\", \"3123D7D\", \"3123EFE\", \"3123D64\", \"3123D78\", \"3123D7E\", \"3124E4A\"], \"x_transforms_source\": [\"unit_mag\"], \"x_transforms_target\": [\"unit_mag\"], \"episode_transforms_source\": [], \"episode_transforms_target\": [], \"domains_source\": [8, 32, 50], \"domains_target\": [14, 20, 26, 38, 44], \"num_examples_per_domain_per_label_source\": 10000, \"num_examples_per_domain_per_label_target\": 1000, \"n_shot\": 3, \"n_way\": 16, \"n_query\": 2, \"train_k_factor\": 3, \"val_k_factor\": 2, \"test_k_factor\": 2, \"torch_default_dtype\": \"torch.float32\", \"n_epoch\": 50, \"patience\": 3, \"criteria_for_best\": \"target_loss\", \"x_net\": [{\"class\": \"nnReshape\", \"kargs\": {\"shape\": [-1, 1, 2, 256]}}, {\"class\": \"Conv2d\", \"kargs\": {\"in_channels\": 1, \"out_channels\": 256, \"kernel_size\": [1, 7], \"bias\": false, \"padding\": [0, 3]}}, {\"class\": \"ReLU\", \"kargs\": {\"inplace\": true}}, {\"class\": \"BatchNorm2d\", \"kargs\": {\"num_features\": 256}}, {\"class\": \"Conv2d\", \"kargs\": {\"in_channels\": 256, \"out_channels\": 80, \"kernel_size\": [2, 7], \"bias\": true, \"padding\": [0, 3]}}, {\"class\": \"ReLU\", \"kargs\": {\"inplace\": true}}, {\"class\": \"BatchNorm2d\", \"kargs\": {\"num_features\": 80}}, {\"class\": \"Flatten\", \"kargs\": {}}, {\"class\": \"Linear\", \"kargs\": {\"in_features\": 20480, \"out_features\": 256}}, {\"class\": \"ReLU\", \"kargs\": {\"inplace\": true}}, {\"class\": \"BatchNorm1d\", \"kargs\": {\"num_features\": 256}}, {\"class\": \"Linear\", \"kargs\": {\"in_features\": 256, \"out_features\": 256}}], \"NUM_LOGS_PER_EPOCH\": 10, \"BEST_MODEL_PATH\": \"./best_model.pth\", \"pickle_name\": \"oracle.Run2_10kExamples_stratified_ds.2022A.pkl\"}, \"results\": {\"source_test_label_accuracy\": 0.7261631944444444, \"source_test_label_loss\": 0.7391990423202515, \"target_test_label_accuracy\": 0.606875, \"target_test_label_loss\": 1.192439079284668, \"source_val_label_accuracy\": 0.7267534722222222, \"source_val_label_loss\": 0.7412436604499817, \"target_val_label_accuracy\": 0.6026041666666667, \"target_val_label_loss\": 1.1767457723617554, \"total_epochs_trained\": 9, \"total_experiment_time_secs\": 3064.0426247119904, \"confusion\": {\"8\": {\"15\": {\"15\": 662, \"11\": 187, \"12\": 195, \"8\": 126, \"6\": 2, \"3\": 15, \"7\": 10, \"2\": 1, \"4\": 2}, \"3\": {\"3\": 1063, \"12\": 132, \"15\": 3, \"7\": 1, \"2\": 1}, \"6\": {\"4\": 325, \"6\": 547, \"7\": 218, \"14\": 68, \"2\": 17, \"8\": 14, \"13\": 8, \"0\": 3}, \"1\": {\"1\": 1007, \"13\": 127, \"5\": 49, \"10\": 16, \"14\": 1}, \"8\": {\"11\": 114, \"8\": 944, \"15\": 119, \"7\": 13, \"6\": 4, \"13\": 4, \"14\": 2}, \"10\": {\"10\": 795, \"14\": 51, \"0\": 149, \"13\": 62, \"5\": 130, \"1\": 13}, \"9\": {\"9\": 1199, \"5\": 1}, \"13\": {\"14\": 203, \"13\": 763, \"6\": 10, \"1\": 126, \"0\": 21, \"10\": 70, \"5\": 4, \"8\": 3}, \"12\": {\"12\": 912, \"3\": 129, \"15\": 122, \"11\": 37}, \"5\": {\"5\": 969, \"10\": 166, \"1\": 54, \"0\": 4, \"13\": 5, \"9\": 2}, \"0\": {\"0\": 763, \"14\": 231, \"10\": 171, \"4\": 9, \"13\": 16, \"6\": 6, \"5\": 4}, \"2\": {\"2\": 942, \"7\": 149, \"4\": 95, \"6\": 14}, \"11\": {\"8\": 283, \"15\": 204, \"11\": 610, \"12\": 98, \"6\": 2, \"7\": 2, \"13\": 1}, \"14\": {\"0\": 221, \"14\": 728, \"13\": 142, \"4\": 27, \"6\": 54, \"10\": 26, \"5\": 1, \"7\": 1}, \"7\": {\"4\": 272, \"6\": 232, \"7\": 536, \"2\": 141, \"8\": 10, \"15\": 7, \"14\": 2}, \"4\": {\"6\": 340, \"4\": 420, \"7\": 320, \"2\": 96, \"14\": 14, \"0\": 4, \"15\": 1, \"8\": 3, \"13\": 2}}, \"50\": {\"3\": {\"3\": 1153, \"8\": 47}, \"15\": {\"15\": 1046, \"11\": 53, \"1\": 73, \"14\": 3, \"6\": 24, \"4\": 1}, \"8\": {\"8\": 1178, \"3\": 22}, \"4\": {\"6\": 217, \"4\": 629, \"5\": 283, \"1\": 47, \"15\": 1, \"13\": 8, \"7\": 8, \"10\": 7}, \"14\": {\"14\": 1157, \"12\": 23, \"11\": 19, \"15\": 1}, \"0\": {\"2\": 114, \"0\": 1045, \"5\": 5, \"10\": 28, \"1\": 3, \"6\": 3, \"4\": 2}, \"7\": {\"7\": 506, \"13\": 451, \"10\": 107, \"5\": 128, \"4\": 8}, \"6\": {\"1\": 271, \"6\": 647, \"4\": 221, \"15\": 12, \"5\": 46, \"0\": 1, \"10\": 1, \"2\": 1}, \"10\": {\"10\": 860, \"13\": 161, \"0\": 23, \"7\": 77, \"5\": 78, \"4\": 1}, \"5\": {\"5\": 657, \"4\": 279, \"6\": 60, \"10\": 59, \"7\": 74, \"13\": 56, \"1\": 9, \"0\": 6}, \"2\": {\"2\": 1149, \"0\": 51}, \"12\": {\"9\": 60, \"12\": 1071, \"14\": 61, \"11\": 8}, \"9\": {\"9\": 1111, \"12\": 64, \"11\": 25}, \"1\": {\"1\": 865, \"15\": 64, \"6\": 234, \"4\": 29, \"14\": 3, \"5\": 2, \"2\": 2, \"0\": 1}, \"11\": {\"11\": 1091, \"12\": 17, \"9\": 27, \"14\": 40, \"15\": 25}, \"13\": {\"7\": 431, \"13\": 572, \"10\": 155, \"5\": 41, \"0\": 1}}, \"32\": {\"5\": {\"2\": 131, \"8\": 162, \"5\": 414, \"0\": 165, \"13\": 77, \"14\": 72, \"4\": 139, \"11\": 20, \"7\": 13, \"3\": 7}, \"8\": {\"8\": 892, \"13\": 68, \"4\": 61, \"5\": 73, \"0\": 66, \"3\": 30, \"7\": 2, \"11\": 4, \"15\": 4}, \"11\": {\"11\": 526, \"4\": 98, \"2\": 56, \"13\": 101, \"5\": 19, \"7\": 259, \"0\": 135, \"8\": 3, \"14\": 3}, \"1\": {\"1\": 1188, \"10\": 12}, \"10\": {\"10\": 1194, \"1\": 6}, \"15\": {\"15\": 1183, \"8\": 16, \"3\": 1}, \"3\": {\"3\": 1125, \"13\": 49, \"8\": 17, \"7\": 7, \"11\": 2}, \"7\": {\"13\": 170, \"7\": 674, \"11\": 237, \"4\": 83, \"2\": 10, \"5\": 4, \"0\": 18, \"3\": 4}, \"4\": {\"7\": 82, \"4\": 436, \"5\": 145, \"2\": 16, \"13\": 215, \"0\": 159, \"3\": 2, \"11\": 97, \"8\": 48}, \"14\": {\"14\": 1052, \"2\": 93, \"11\": 4, \"0\": 28, \"5\": 19, \"7\": 1, \"4\": 1, \"9\": 2}, \"9\": {\"9\": 1172, \"14\": 27, \"2\": 1}, \"12\": {\"12\": 1200}, \"6\": {\"6\": 1200}, \"2\": {\"2\": 888, \"5\": 82, \"14\": 89, \"0\": 42, \"4\": 35, \"11\": 41, \"7\": 21, \"13\": 2}, \"0\": {\"0\": 528, \"4\": 127, \"11\": 165, \"5\": 180, \"13\": 53, \"2\": 42, \"14\": 15, \"7\": 17, \"8\": 73}, \"13\": {\"7\": 147, \"13\": 592, \"5\": 20, \"4\": 215, \"11\": 75, \"0\": 43, \"8\": 84, \"3\": 24}}, \"14\": {\"15\": {\"15\": 117, \"7\": 3}, \"3\": {\"3\": 85, \"14\": 6, \"4\": 21, \"5\": 3, \"2\": 5}, \"6\": {\"14\": 15, \"6\": 68, \"13\": 29, \"2\": 8}, \"1\": {\"1\": 100, \"5\": 14, \"4\": 5, \"2\": 1}, \"8\": {\"8\": 119, \"9\": 1}, \"10\": {\"10\": 109, \"0\": 9, \"12\": 1, \"11\": 1}, \"9\": {\"9\": 120}, \"13\": {\"13\": 81, \"6\": 29, \"2\": 10}, \"12\": {\"12\": 59, \"11\": 35, \"9\": 12, \"0\": 6, \"10\": 7, \"8\": 1}, \"5\": {\"3\": 5, \"5\": 56, \"1\": 16, \"4\": 31, \"2\": 11, \"6\": 1}, \"0\": {\"0\": 112, \"10\": 7, \"14\": 1}, \"2\": {\"2\": 48, \"14\": 11, \"5\": 17, \"1\": 2, \"4\": 15, \"6\": 7, \"13\": 16, \"3\": 4}, \"11\": {\"11\": 111, \"9\": 2, \"10\": 3, \"12\": 4}, \"14\": {\"14\": 72, \"6\": 26, \"5\": 3, \"4\": 1, \"2\": 9, \"3\": 6, \"0\": 1, \"13\": 2}, \"7\": {\"7\": 116, \"15\": 3, \"1\": 1}, \"4\": {\"4\": 56, \"14\": 3, \"5\": 38, \"1\": 7, \"13\": 1, \"2\": 7, \"3\": 6, \"6\": 2}}, \"20\": {\"3\": {\"0\": 2, \"2\": 27, \"5\": 18, \"7\": 16, \"3\": 37, \"9\": 12, \"10\": 3, \"12\": 1, \"15\": 1, \"13\": 2, \"4\": 1}, \"15\": {\"15\": 32, \"2\": 7, \"13\": 32, \"0\": 13, \"1\": 5, \"12\": 10, \"9\": 15, \"5\": 4, \"3\": 2}, \"8\": {\"6\": 3, \"10\": 22, \"8\": 48, \"7\": 15, \"14\": 21, \"5\": 2, \"3\": 2, \"4\": 6, \"2\": 1}, \"4\": {\"4\": 104, \"0\": 3, \"12\": 3, \"8\": 2, \"14\": 1, \"3\": 7}, \"14\": {\"6\": 12, \"14\": 53, \"8\": 31, \"10\": 23, \"7\": 1}, \"0\": {\"0\": 49, \"1\": 22, \"15\": 8, \"12\": 13, \"9\": 3, \"4\": 13, \"5\": 8, \"3\": 2, \"13\": 1, \"2\": 1}, \"7\": {\"7\": 88, \"3\": 15, \"6\": 2, \"5\": 3, \"10\": 3, \"8\": 6, \"9\": 2, \"2\": 1}, \"6\": {\"6\": 104, \"14\": 9, \"8\": 5, \"10\": 1, \"7\": 1}, \"10\": {\"10\": 68, \"14\": 12, \"8\": 23, \"7\": 7, \"3\": 3, \"4\": 4, \"6\": 3}, \"5\": {\"5\": 26, \"4\": 12, \"9\": 5, \"15\": 10, \"3\": 24, \"1\": 5, \"2\": 16, \"12\": 8, \"0\": 10, \"7\": 4}, \"2\": {\"2\": 38, \"15\": 10, \"3\": 13, \"9\": 30, \"5\": 13, \"13\": 10, \"12\": 5, \"7\": 1}, \"12\": {\"0\": 15, \"1\": 22, \"15\": 15, \"12\": 30, \"5\": 10, \"3\": 1, \"13\": 3, \"9\": 13, \"2\": 5, \"4\": 6}, \"9\": {\"2\": 32, \"15\": 9, \"9\": 35, \"3\": 7, \"7\": 1, \"5\": 12, \"12\": 17, \"13\": 3, \"0\": 4}, \"1\": {\"1\": 48, \"12\": 28, \"9\": 5, \"4\": 1, \"15\": 9, \"0\": 23, \"13\": 5, \"2\": 1}, \"11\": {\"11\": 118, \"7\": 2}, \"13\": {\"13\": 72, \"15\": 28, \"9\": 8, \"0\": 2, \"5\": 1, \"2\": 6, \"1\": 2, \"12\": 1}}, \"44\": {\"5\": {\"5\": 106, \"14\": 12, \"8\": 2}, \"8\": {\"8\": 65, \"0\": 51, \"15\": 3, \"5\": 1}, \"11\": {\"11\": 110, \"7\": 3, \"6\": 7}, \"1\": {\"1\": 72, \"3\": 18, \"12\": 27, \"7\": 1, \"10\": 2}, \"10\": {\"10\": 115, \"12\": 5}, \"15\": {\"15\": 103, \"4\": 5, \"14\": 10, \"8\": 2}, \"3\": {\"3\": 91, \"1\": 21, \"12\": 8}, \"7\": {\"7\": 66, \"2\": 23, \"9\": 24, \"6\": 4, \"1\": 2, \"11\": 1}, \"4\": {\"4\": 105, \"14\": 10, \"5\": 1, \"15\": 2, \"13\": 2}, \"14\": {\"14\": 79, \"15\": 20, \"4\": 12, \"5\": 9}, \"9\": {\"2\": 41, \"7\": 33, \"9\": 42, \"1\": 1, \"6\": 3}, \"12\": {\"1\": 37, \"12\": 75, \"3\": 8}, \"6\": {\"6\": 107, \"11\": 7, \"9\": 2, \"13\": 4}, \"2\": {\"2\": 62, \"9\": 31, \"7\": 25, \"3\": 2}, \"0\": {\"0\": 61, \"8\": 58, \"14\": 1}, \"13\": {\"13\": 115, \"4\": 5}}, \"38\": {\"14\": {\"2\": 20, \"14\": 71, \"11\": 14, \"12\": 14, \"7\": 1}, \"0\": {\"0\": 91, \"3\": 21, \"10\": 6, \"13\": 1, \"6\": 1}, \"13\": {\"3\": 10, \"15\": 20, \"5\": 21, \"13\": 27, \"1\": 11, \"6\": 4, \"9\": 1, \"8\": 18, \"14\": 3, \"7\": 2, \"2\": 1, \"0\": 2}, \"7\": {\"10\": 29, \"7\": 60, \"5\": 7, \"8\": 15, \"15\": 2, \"3\": 5, \"13\": 2}, \"9\": {\"9\": 84, \"6\": 34, \"0\": 2}, \"3\": {\"7\": 12, \"8\": 9, \"13\": 9, \"0\": 30, \"15\": 11, \"3\": 24, \"6\": 9, \"10\": 6, \"5\": 4, \"9\": 5, \"1\": 1}, \"11\": {\"11\": 93, \"12\": 17, \"14\": 9, \"2\": 1}, \"6\": {\"6\": 80, \"9\": 39, \"3\": 1}, \"8\": {\"5\": 31, \"8\": 46, \"15\": 14, \"7\": 6, \"13\": 13, \"10\": 3, \"3\": 5, \"1\": 2}, \"4\": {\"4\": 114, \"12\": 6}, \"5\": {\"5\": 42, \"8\": 24, \"13\": 24, \"7\": 11, \"15\": 14, \"1\": 2, \"3\": 1, \"10\": 2}, \"10\": {\"8\": 6, \"7\": 45, \"10\": 58, \"0\": 3, \"5\": 5, \"3\": 3}, \"1\": {\"1\": 108, \"8\": 2, \"15\": 6, \"13\": 4}, \"2\": {\"2\": 110, \"14\": 10}, \"15\": {\"5\": 14, \"15\": 44, \"13\": 24, \"8\": 15, \"9\": 1, \"1\": 10, \"3\": 9, \"7\": 2, \"6\": 1}, \"12\": {\"12\": 112, \"14\": 2, \"11\": 2, \"4\": 4}}, \"26\": {\"13\": {\"9\": 15, \"13\": 74, \"5\": 24, \"7\": 1, \"6\": 6}, \"2\": {\"8\": 11, \"15\": 11, \"7\": 39, \"3\": 22, \"4\": 8, \"2\": 21, \"5\": 5, \"9\": 1, \"14\": 2}, \"8\": {\"10\": 3, \"7\": 12, \"8\": 55, \"9\": 10, \"4\": 5, \"14\": 7, \"2\": 14, \"6\": 3, \"0\": 4, \"5\": 2, \"1\": 4, \"13\": 1}, \"9\": {\"9\": 39, \"10\": 3, \"5\": 21, \"13\": 14, \"6\": 10, \"8\": 16, \"2\": 4, \"7\": 12, \"14\": 1}, \"12\": {\"12\": 119, \"11\": 1}, \"4\": {\"4\": 51, \"15\": 9, \"8\": 10, \"7\": 7, \"2\": 7, \"14\": 5, \"3\": 18, \"1\": 2, \"0\": 8, \"10\": 3}, \"3\": {\"15\": 38, \"3\": 58, \"2\": 15, \"7\": 3, \"4\": 5, \"0\": 1}, \"15\": {\"15\": 52, \"3\": 36, \"2\": 10, \"7\": 11, \"4\": 8, \"8\": 1, \"5\": 1, \"9\": 1}, \"14\": {\"14\": 33, \"1\": 26, \"10\": 18, \"8\": 13, \"0\": 19, \"4\": 8, \"9\": 1, \"2\": 2}, \"10\": {\"10\": 27, \"1\": 23, \"7\": 1, \"0\": 18, \"4\": 9, \"6\": 10, \"12\": 1, \"8\": 15, \"3\": 3, \"14\": 11, \"9\": 2}, \"7\": {\"8\": 14, \"2\": 31, \"10\": 1, \"7\": 33, \"4\": 12, \"15\": 11, \"5\": 5, \"3\": 10, \"9\": 2, \"0\": 1}, \"11\": {\"11\": 119, \"12\": 1}, \"6\": {\"6\": 81, \"9\": 14, \"13\": 9, \"5\": 7, \"8\": 5, \"10\": 3, \"0\": 1}, \"1\": {\"0\": 25, \"14\": 25, \"1\": 46, \"4\": 6, \"10\": 14, \"7\": 1, \"8\": 2, \"3\": 1}, \"5\": {\"5\": 32, \"13\": 28, \"6\": 16, \"9\": 14, \"7\": 14, \"8\": 6, \"1\": 2, \"2\": 5, \"3\": 2, \"15\": 1}, \"0\": {\"10\": 20, \"14\": 25, \"0\": 28, \"15\": 1, \"8\": 10, \"6\": 1, \"2\": 2, \"4\": 12, \"1\": 20, \"7\": 1}}}, \"per_domain_accuracy\": {\"8\": {\"accuracy\": 0.6697916666666667, \"source?\": true}, \"50\": {\"accuracy\": 0.7675520833333334, \"source?\": true}, \"32\": {\"accuracy\": 0.7429166666666667, \"source?\": true}, \"14\": {\"accuracy\": 0.7442708333333333, \"source?\": false}, \"20\": {\"accuracy\": 0.4947916666666667, \"source?\": false}, \"44\": {\"accuracy\": 0.715625, \"source?\": false}, \"38\": {\"accuracy\": 0.60625, \"source?\": false}, \"26\": {\"accuracy\": 0.45208333333333334, \"source?\": false}}}, \"history\": {\"epoch_indices\": [1, 2, 3, 4, 5, 6, 7, 8, 9], \"train_label_loss\": [1.1059892032851302, 0.8375226585543345, 0.6989658088520879, 0.6229818096029617, 0.5329315355254545, 0.4847954915996109, 0.4384059564237084, 0.3573079745688047, 0.3172903053480984], \"source_val_label_loss\": [1.1240792274475098, 0.8135519027709961, 0.7753535509109497, 0.7449297308921814, 0.7412436604499817, 0.7599637508392334, 0.7850771546363831, 0.8200777173042297, 0.9496045112609863], \"target_val_label_loss\": [1.3550812005996704, 1.1859409809112549, 1.2004131078720093, 1.1884714365005493, 1.1767457723617554, 1.2247687578201294, 1.251652717590332, 1.2816333770751953, 1.3423734903335571], \"source_val_acc_label\": [0.6413368055555555, 0.6838020833333334, 0.7117881944444444, 0.7256770833333334, 0.7267534722222222, 0.7296180555555556, 0.7318229166666667, 0.7251909722222222, 0.6434548611111112], \"target_val_acc_label\": [0.536875, 0.5679166666666666, 0.5947916666666667, 0.5967708333333334, 0.6026041666666667, 0.6091666666666666, 0.6108333333333333, 0.6089583333333334, 0.5251041666666667]}, \"dataset_metrics\": {\"source\": {\"train\": {\"n_unique_x\": 336000, \"n_unique_y\": 16, \"n_batch/episode\": 12600}, \"val\": {\"n_unique_x\": 72000, \"n_unique_y\": 16, \"n_batch/episode\": 1800}, \"test\": {\"n_unique_x\": 72000, \"n_unique_y\": 16, \"n_batch/episode\": 1800}}, \"target\": {\"train\": {\"n_unique_x\": 56000, \"n_unique_y\": 16, \"n_batch/episode\": 2100}, \"val\": {\"n_unique_x\": 12000, \"n_unique_y\": 16, \"n_batch/episode\": 300}, \"test\": {\"n_unique_x\": 12000, \"n_unique_y\": 16, \"n_batch/episode\": 300}}}}'"
      ]
     },
     "execution_count": 20,
     "metadata": {},
     "output_type": "execute_result"
    }
   ],
   "source": [
    "json.dumps(experiment)"
   ]
  }
 ],
 "metadata": {
  "celltoolbar": "Tags",
  "kernelspec": {
   "display_name": "Python 3 (ipykernel)",
   "language": "python",
   "name": "python3"
  },
  "language_info": {
   "codemirror_mode": {
    "name": "ipython",
    "version": 3
   },
   "file_extension": ".py",
   "mimetype": "text/x-python",
   "name": "python",
   "nbconvert_exporter": "python",
   "pygments_lexer": "ipython3",
   "version": "3.8.10"
  },
  "papermill": {
   "default_parameters": {},
   "duration": 3177.082799,
   "end_time": "2022-03-05T20:09:49.504754",
   "environment_variables": {},
   "exception": null,
   "input_path": "/mnt/wd500GB/CSC500/csc500-main/csc500-notebooks/templates/ptn_template.ipynb",
   "output_path": "trial.ipynb",
   "parameters": {
    "parameters": {
     "BEST_MODEL_PATH": "./best_model.pth",
     "NUM_LOGS_PER_EPOCH": 10,
     "criteria_for_best": "target_loss",
     "dataset_seed": 1337,
     "device": "cuda",
     "domains_source": [
      8,
      32,
      50
     ],
     "domains_target": [
      14,
      20,
      26,
      38,
      44
     ],
     "episode_transforms_source": [],
     "episode_transforms_target": [],
     "experiment_name": "tuned_1_oracle.run2",
     "labels_source": [
      "3123D52",
      "3123D65",
      "3123D79",
      "3123D80",
      "3123D54",
      "3123D70",
      "3123D7B",
      "3123D89",
      "3123D58",
      "3123D76",
      "3123D7D",
      "3123EFE",
      "3123D64",
      "3123D78",
      "3123D7E",
      "3124E4A"
     ],
     "labels_target": [
      "3123D52",
      "3123D65",
      "3123D79",
      "3123D80",
      "3123D54",
      "3123D70",
      "3123D7B",
      "3123D89",
      "3123D58",
      "3123D76",
      "3123D7D",
      "3123EFE",
      "3123D64",
      "3123D78",
      "3123D7E",
      "3124E4A"
     ],
     "lr": 0.001,
     "n_epoch": 50,
     "n_query": 2,
     "n_shot": 3,
     "n_way": 16,
     "num_examples_per_domain_per_label_source": 10000,
     "num_examples_per_domain_per_label_target": 1000,
     "patience": 3,
     "pickle_name": "oracle.Run2_10kExamples_stratified_ds.2022A.pkl",
     "seed": 1337,
     "test_k_factor": 2,
     "torch_default_dtype": "torch.float32",
     "train_k_factor": 3,
     "val_k_factor": 2,
     "x_net": [
      {
       "class": "nnReshape",
       "kargs": {
        "shape": [
         -1,
         1,
         2,
         256
        ]
       }
      },
      {
       "class": "Conv2d",
       "kargs": {
        "bias": false,
        "in_channels": 1,
        "kernel_size": [
         1,
         7
        ],
        "out_channels": 256,
        "padding": [
         0,
         3
        ]
       }
      },
      {
       "class": "ReLU",
       "kargs": {
        "inplace": true
       }
      },
      {
       "class": "BatchNorm2d",
       "kargs": {
        "num_features": 256
       }
      },
      {
       "class": "Conv2d",
       "kargs": {
        "bias": true,
        "in_channels": 256,
        "kernel_size": [
         2,
         7
        ],
        "out_channels": 80,
        "padding": [
         0,
         3
        ]
       }
      },
      {
       "class": "ReLU",
       "kargs": {
        "inplace": true
       }
      },
      {
       "class": "BatchNorm2d",
       "kargs": {
        "num_features": 80
       }
      },
      {
       "class": "Flatten",
       "kargs": {}
      },
      {
       "class": "Linear",
       "kargs": {
        "in_features": 20480,
        "out_features": 256
       }
      },
      {
       "class": "ReLU",
       "kargs": {
        "inplace": true
       }
      },
      {
       "class": "BatchNorm1d",
       "kargs": {
        "num_features": 256
       }
      },
      {
       "class": "Linear",
       "kargs": {
        "in_features": 256,
        "out_features": 256
       }
      }
     ],
     "x_transforms_source": [
      "unit_mag"
     ],
     "x_transforms_target": [
      "unit_mag"
     ]
    }
   },
   "start_time": "2022-03-05T19:16:52.421955",
   "version": "2.3.4"
  }
 },
 "nbformat": 4,
 "nbformat_minor": 5
}