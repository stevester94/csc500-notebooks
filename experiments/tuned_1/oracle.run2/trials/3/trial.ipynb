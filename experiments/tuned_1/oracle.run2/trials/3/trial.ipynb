{
 "cells": [
  {
   "cell_type": "markdown",
   "id": "9fea5f46",
   "metadata": {
    "papermill": {
     "duration": 0.013556,
     "end_time": "2022-03-05T21:26:59.492194",
     "exception": false,
     "start_time": "2022-03-05T21:26:59.478638",
     "status": "completed"
    },
    "tags": []
   },
   "source": [
    "# PTN Template\n",
    "This notebook serves as a template for single dataset PTN experiments  \n",
    "It can be run on its own by setting STANDALONE to True (do a find for \"STANDALONE\" to see where)  \n",
    "But it is intended to be executed as part of a *papermill.py script. See any of the   \n",
    "experimentes with a papermill script to get started with that workflow.  "
   ]
  },
  {
   "cell_type": "code",
   "execution_count": 1,
   "id": "0902182a",
   "metadata": {
    "execution": {
     "iopub.execute_input": "2022-03-05T21:26:59.527048Z",
     "iopub.status.busy": "2022-03-05T21:26:59.523310Z",
     "iopub.status.idle": "2022-03-05T21:27:00.380204Z",
     "shell.execute_reply": "2022-03-05T21:27:00.379727Z"
    },
    "papermill": {
     "duration": 0.878964,
     "end_time": "2022-03-05T21:27:00.380302",
     "exception": false,
     "start_time": "2022-03-05T21:26:59.501338",
     "status": "completed"
    },
    "tags": []
   },
   "outputs": [],
   "source": [
    "%load_ext autoreload\n",
    "%autoreload 2\n",
    "%matplotlib inline\n",
    "\n",
    "    \n",
    "import os, json, sys, time, random\n",
    "import numpy as np\n",
    "import torch\n",
    "from torch.optim import Adam\n",
    "from  easydict import EasyDict\n",
    "import matplotlib.pyplot as plt\n",
    "\n",
    "from steves_models.steves_ptn import Steves_Prototypical_Network\n",
    "\n",
    "from steves_utils.lazy_iterable_wrapper import Lazy_Iterable_Wrapper\n",
    "from steves_utils.iterable_aggregator import Iterable_Aggregator\n",
    "from steves_utils.ptn_train_eval_test_jig import  PTN_Train_Eval_Test_Jig\n",
    "from steves_utils.torch_sequential_builder import build_sequential\n",
    "from steves_utils.torch_utils import get_dataset_metrics, ptn_confusion_by_domain_over_dataloader\n",
    "from steves_utils.utils_v2 import (per_domain_accuracy_from_confusion, get_datasets_base_path)\n",
    "from steves_utils.PTN.utils import independent_accuracy_assesment\n",
    "\n",
    "from steves_utils.stratified_dataset.episodic_accessor import Episodic_Accessor_Factory\n",
    "\n",
    "from steves_utils.ptn_do_report import (\n",
    "    get_loss_curve,\n",
    "    get_results_table,\n",
    "    get_parameters_table,\n",
    "    get_domain_accuracies,\n",
    ")\n",
    "\n",
    "from steves_utils.transforms import get_chained_transform"
   ]
  },
  {
   "cell_type": "markdown",
   "id": "41c840b4",
   "metadata": {
    "papermill": {
     "duration": 0.009594,
     "end_time": "2022-03-05T21:27:00.403131",
     "exception": false,
     "start_time": "2022-03-05T21:27:00.393537",
     "status": "completed"
    },
    "tags": []
   },
   "source": [
    "# Required Parameters\n",
    "These are allowed parameters, not defaults\n",
    "Each of these values need to be present in the injected parameters (the notebook will raise an exception if they are not present)\n",
    "\n",
    "Papermill uses the cell tag \"parameters\" to inject the real parameters below this cell.\n",
    "Enable tags to see what I mean"
   ]
  },
  {
   "cell_type": "code",
   "execution_count": 2,
   "id": "fd44eb83",
   "metadata": {
    "execution": {
     "iopub.execute_input": "2022-03-05T21:27:00.429398Z",
     "iopub.status.busy": "2022-03-05T21:27:00.427520Z",
     "iopub.status.idle": "2022-03-05T21:27:00.440930Z",
     "shell.execute_reply": "2022-03-05T21:27:00.440538Z"
    },
    "papermill": {
     "duration": 0.027238,
     "end_time": "2022-03-05T21:27:00.441013",
     "exception": false,
     "start_time": "2022-03-05T21:27:00.413775",
     "status": "completed"
    },
    "tags": []
   },
   "outputs": [],
   "source": [
    "required_parameters = {\n",
    "    \"experiment_name\",\n",
    "    \"lr\",\n",
    "    \"device\",\n",
    "    \"seed\",\n",
    "    \"dataset_seed\",\n",
    "    \"labels_source\",\n",
    "    \"labels_target\",\n",
    "    \"domains_source\",\n",
    "    \"domains_target\",\n",
    "    \"num_examples_per_domain_per_label_source\",\n",
    "    \"num_examples_per_domain_per_label_target\",\n",
    "    \"n_shot\",\n",
    "    \"n_way\",\n",
    "    \"n_query\",\n",
    "    \"train_k_factor\",\n",
    "    \"val_k_factor\",\n",
    "    \"test_k_factor\",\n",
    "    \"n_epoch\",\n",
    "    \"patience\",\n",
    "    \"criteria_for_best\",\n",
    "    \"x_transforms_source\",\n",
    "    \"x_transforms_target\",\n",
    "    \"episode_transforms_source\",\n",
    "    \"episode_transforms_target\",\n",
    "    \"pickle_name\",\n",
    "    \"x_net\",\n",
    "    \"NUM_LOGS_PER_EPOCH\",\n",
    "    \"BEST_MODEL_PATH\",\n",
    "    \"torch_default_dtype\"\n",
    "}"
   ]
  },
  {
   "cell_type": "code",
   "execution_count": 3,
   "id": "fa3f0049",
   "metadata": {
    "execution": {
     "iopub.execute_input": "2022-03-05T21:27:00.473945Z",
     "iopub.status.busy": "2022-03-05T21:27:00.471561Z",
     "iopub.status.idle": "2022-03-05T21:27:00.485718Z",
     "shell.execute_reply": "2022-03-05T21:27:00.485286Z"
    },
    "papermill": {
     "duration": 0.031205,
     "end_time": "2022-03-05T21:27:00.485831",
     "exception": false,
     "start_time": "2022-03-05T21:27:00.454626",
     "status": "completed"
    },
    "tags": [
     "parameters"
    ]
   },
   "outputs": [],
   "source": [
    "\n",
    "\n",
    "standalone_parameters = {}\n",
    "standalone_parameters[\"experiment_name\"] = \"STANDALONE PTN\"\n",
    "standalone_parameters[\"lr\"] = 0.0001\n",
    "standalone_parameters[\"device\"] = \"cuda\"\n",
    "\n",
    "standalone_parameters[\"seed\"] = 1337\n",
    "standalone_parameters[\"dataset_seed\"] = 1337\n",
    "\n",
    "\n",
    "standalone_parameters[\"num_examples_per_domain_per_label_source\"]=100\n",
    "standalone_parameters[\"num_examples_per_domain_per_label_target\"]=100\n",
    "\n",
    "standalone_parameters[\"n_shot\"] = 3\n",
    "standalone_parameters[\"n_query\"]  = 2\n",
    "standalone_parameters[\"train_k_factor\"] = 1\n",
    "standalone_parameters[\"val_k_factor\"] = 2\n",
    "standalone_parameters[\"test_k_factor\"] = 2\n",
    "\n",
    "\n",
    "standalone_parameters[\"n_epoch\"] = 100\n",
    "\n",
    "standalone_parameters[\"patience\"] = 10\n",
    "standalone_parameters[\"criteria_for_best\"] = \"target_accuracy\"\n",
    "\n",
    "standalone_parameters[\"x_transforms_source\"] = [\"unit_power\"]\n",
    "standalone_parameters[\"x_transforms_target\"] = [\"unit_power\"]\n",
    "standalone_parameters[\"episode_transforms_source\"] = []\n",
    "standalone_parameters[\"episode_transforms_target\"] = []\n",
    "\n",
    "standalone_parameters[\"torch_default_dtype\"] = \"torch.float32\" \n",
    "\n",
    "\n",
    "\n",
    "standalone_parameters[\"x_net\"] =     [\n",
    "    {\"class\": \"nnReshape\", \"kargs\": {\"shape\":[-1, 1, 2, 256]}},\n",
    "    {\"class\": \"Conv2d\", \"kargs\": { \"in_channels\":1, \"out_channels\":256, \"kernel_size\":(1,7), \"bias\":False, \"padding\":(0,3), },},\n",
    "    {\"class\": \"ReLU\", \"kargs\": {\"inplace\": True}},\n",
    "    {\"class\": \"BatchNorm2d\", \"kargs\": {\"num_features\":256}},\n",
    "\n",
    "    {\"class\": \"Conv2d\", \"kargs\": { \"in_channels\":256, \"out_channels\":80, \"kernel_size\":(2,7), \"bias\":True, \"padding\":(0,3), },},\n",
    "    {\"class\": \"ReLU\", \"kargs\": {\"inplace\": True}},\n",
    "    {\"class\": \"BatchNorm2d\", \"kargs\": {\"num_features\":80}},\n",
    "    {\"class\": \"Flatten\", \"kargs\": {}},\n",
    "\n",
    "    {\"class\": \"Linear\", \"kargs\": {\"in_features\": 80*256, \"out_features\": 256}}, # 80 units per IQ pair\n",
    "    {\"class\": \"ReLU\", \"kargs\": {\"inplace\": True}},\n",
    "    {\"class\": \"BatchNorm1d\", \"kargs\": {\"num_features\":256}},\n",
    "\n",
    "    {\"class\": \"Linear\", \"kargs\": {\"in_features\": 256, \"out_features\": 256}},\n",
    "]\n",
    "\n",
    "# Parameters relevant to results\n",
    "# These parameters will basically never need to change\n",
    "standalone_parameters[\"NUM_LOGS_PER_EPOCH\"] = 10\n",
    "standalone_parameters[\"BEST_MODEL_PATH\"] = \"./best_model.pth\"\n",
    "\n",
    "# uncomment for CORES dataset\n",
    "from steves_utils.CORES.utils import (\n",
    "    ALL_NODES,\n",
    "    ALL_NODES_MINIMUM_1000_EXAMPLES,\n",
    "    ALL_DAYS\n",
    ")\n",
    "\n",
    "\n",
    "standalone_parameters[\"labels_source\"] = ALL_NODES\n",
    "standalone_parameters[\"labels_target\"] = ALL_NODES\n",
    "\n",
    "standalone_parameters[\"domains_source\"] = [1]\n",
    "standalone_parameters[\"domains_target\"] = [2,3,4,5]\n",
    "\n",
    "standalone_parameters[\"pickle_name\"] = \"cores.stratified_ds.2022A.pkl\"\n",
    "\n",
    "\n",
    "# Uncomment these for ORACLE dataset\n",
    "# from steves_utils.ORACLE.utils_v2 import (\n",
    "#     ALL_DISTANCES_FEET,\n",
    "#     ALL_RUNS,\n",
    "#     ALL_SERIAL_NUMBERS,\n",
    "# )\n",
    "# standalone_parameters[\"labels_source\"] = ALL_SERIAL_NUMBERS\n",
    "# standalone_parameters[\"labels_target\"] = ALL_SERIAL_NUMBERS\n",
    "# standalone_parameters[\"domains_source\"] = [8,20, 38,50]\n",
    "# standalone_parameters[\"domains_target\"] = [14, 26, 32, 44, 56]\n",
    "# standalone_parameters[\"pickle_name\"] = \"oracle.frame_indexed.stratified_ds.2022A.pkl\"\n",
    "# standalone_parameters[\"num_examples_per_domain_per_label_source\"]=1000\n",
    "# standalone_parameters[\"num_examples_per_domain_per_label_target\"]=1000\n",
    "\n",
    "# Uncomment these for Metahan dataset\n",
    "# standalone_parameters[\"labels_source\"] = list(range(19))\n",
    "# standalone_parameters[\"labels_target\"] = list(range(19))\n",
    "# standalone_parameters[\"domains_source\"] = [0]\n",
    "# standalone_parameters[\"domains_target\"] = [1]\n",
    "# standalone_parameters[\"pickle_name\"] = \"metehan.stratified_ds.2022A.pkl\"\n",
    "# standalone_parameters[\"n_way\"]  = len(standalone_parameters[\"labels_source\"])\n",
    "# standalone_parameters[\"num_examples_per_domain_per_label_source\"]=200\n",
    "# standalone_parameters[\"num_examples_per_domain_per_label_target\"]=100\n",
    "\n",
    "\n",
    "standalone_parameters[\"n_way\"]  = len(standalone_parameters[\"labels_source\"])"
   ]
  },
  {
   "cell_type": "code",
   "execution_count": 4,
   "id": "0c7bd5cd",
   "metadata": {
    "execution": {
     "iopub.execute_input": "2022-03-05T21:27:00.517512Z",
     "iopub.status.busy": "2022-03-05T21:27:00.512047Z",
     "iopub.status.idle": "2022-03-05T21:27:00.529871Z",
     "shell.execute_reply": "2022-03-05T21:27:00.529134Z"
    },
    "papermill": {
     "duration": 0.029021,
     "end_time": "2022-03-05T21:27:00.529988",
     "exception": false,
     "start_time": "2022-03-05T21:27:00.500967",
     "status": "completed"
    },
    "tags": [
     "injected-parameters"
    ]
   },
   "outputs": [],
   "source": [
    "# Parameters\n",
    "parameters = {\n",
    "    \"experiment_name\": \"tuned_1_oracle.run2\",\n",
    "    \"device\": \"cuda\",\n",
    "    \"lr\": 0.001,\n",
    "    \"seed\": 1337,\n",
    "    \"dataset_seed\": 1337,\n",
    "    \"labels_source\": [\n",
    "        \"3123D52\",\n",
    "        \"3123D65\",\n",
    "        \"3123D79\",\n",
    "        \"3123D80\",\n",
    "        \"3123D54\",\n",
    "        \"3123D70\",\n",
    "        \"3123D7B\",\n",
    "        \"3123D89\",\n",
    "        \"3123D58\",\n",
    "        \"3123D76\",\n",
    "        \"3123D7D\",\n",
    "        \"3123EFE\",\n",
    "        \"3123D64\",\n",
    "        \"3123D78\",\n",
    "        \"3123D7E\",\n",
    "        \"3124E4A\",\n",
    "    ],\n",
    "    \"labels_target\": [\n",
    "        \"3123D52\",\n",
    "        \"3123D65\",\n",
    "        \"3123D79\",\n",
    "        \"3123D80\",\n",
    "        \"3123D54\",\n",
    "        \"3123D70\",\n",
    "        \"3123D7B\",\n",
    "        \"3123D89\",\n",
    "        \"3123D58\",\n",
    "        \"3123D76\",\n",
    "        \"3123D7D\",\n",
    "        \"3123EFE\",\n",
    "        \"3123D64\",\n",
    "        \"3123D78\",\n",
    "        \"3123D7E\",\n",
    "        \"3124E4A\",\n",
    "    ],\n",
    "    \"x_transforms_source\": [\"unit_power\"],\n",
    "    \"x_transforms_target\": [\"unit_power\"],\n",
    "    \"episode_transforms_source\": [],\n",
    "    \"episode_transforms_target\": [],\n",
    "    \"domains_source\": [8, 32, 50],\n",
    "    \"domains_target\": [14, 20, 26, 38, 44],\n",
    "    \"num_examples_per_domain_per_label_source\": 10000,\n",
    "    \"num_examples_per_domain_per_label_target\": 1000,\n",
    "    \"n_shot\": 3,\n",
    "    \"n_way\": 16,\n",
    "    \"n_query\": 2,\n",
    "    \"train_k_factor\": 3,\n",
    "    \"val_k_factor\": 2,\n",
    "    \"test_k_factor\": 2,\n",
    "    \"torch_default_dtype\": \"torch.float32\",\n",
    "    \"n_epoch\": 50,\n",
    "    \"patience\": 3,\n",
    "    \"criteria_for_best\": \"target_loss\",\n",
    "    \"x_net\": [\n",
    "        {\"class\": \"nnReshape\", \"kargs\": {\"shape\": [-1, 1, 2, 256]}},\n",
    "        {\n",
    "            \"class\": \"Conv2d\",\n",
    "            \"kargs\": {\n",
    "                \"in_channels\": 1,\n",
    "                \"out_channels\": 256,\n",
    "                \"kernel_size\": [1, 7],\n",
    "                \"bias\": False,\n",
    "                \"padding\": [0, 3],\n",
    "            },\n",
    "        },\n",
    "        {\"class\": \"ReLU\", \"kargs\": {\"inplace\": True}},\n",
    "        {\"class\": \"BatchNorm2d\", \"kargs\": {\"num_features\": 256}},\n",
    "        {\n",
    "            \"class\": \"Conv2d\",\n",
    "            \"kargs\": {\n",
    "                \"in_channels\": 256,\n",
    "                \"out_channels\": 80,\n",
    "                \"kernel_size\": [2, 7],\n",
    "                \"bias\": True,\n",
    "                \"padding\": [0, 3],\n",
    "            },\n",
    "        },\n",
    "        {\"class\": \"ReLU\", \"kargs\": {\"inplace\": True}},\n",
    "        {\"class\": \"BatchNorm2d\", \"kargs\": {\"num_features\": 80}},\n",
    "        {\"class\": \"Flatten\", \"kargs\": {}},\n",
    "        {\"class\": \"Linear\", \"kargs\": {\"in_features\": 20480, \"out_features\": 256}},\n",
    "        {\"class\": \"ReLU\", \"kargs\": {\"inplace\": True}},\n",
    "        {\"class\": \"BatchNorm1d\", \"kargs\": {\"num_features\": 256}},\n",
    "        {\"class\": \"Linear\", \"kargs\": {\"in_features\": 256, \"out_features\": 256}},\n",
    "    ],\n",
    "    \"NUM_LOGS_PER_EPOCH\": 10,\n",
    "    \"BEST_MODEL_PATH\": \"./best_model.pth\",\n",
    "    \"pickle_name\": \"oracle.Run2_10kExamples_stratified_ds.2022A.pkl\",\n",
    "}\n"
   ]
  },
  {
   "cell_type": "code",
   "execution_count": 5,
   "id": "8fa1cc33",
   "metadata": {
    "execution": {
     "iopub.execute_input": "2022-03-05T21:27:00.557117Z",
     "iopub.status.busy": "2022-03-05T21:27:00.556859Z",
     "iopub.status.idle": "2022-03-05T21:27:00.567316Z",
     "shell.execute_reply": "2022-03-05T21:27:00.566943Z"
    },
    "papermill": {
     "duration": 0.023102,
     "end_time": "2022-03-05T21:27:00.567404",
     "exception": false,
     "start_time": "2022-03-05T21:27:00.544302",
     "status": "completed"
    },
    "tags": []
   },
   "outputs": [],
   "source": [
    "# Set this to True if you want to run this template directly\n",
    "STANDALONE = False\n",
    "if STANDALONE:\n",
    "    print(\"parameters not injected, running with standalone_parameters\")\n",
    "    parameters = standalone_parameters\n",
    "\n",
    "if not 'parameters' in locals() and not 'parameters' in globals():\n",
    "    raise Exception(\"Parameter injection failed\")\n",
    "\n",
    "#Use an easy dict for all the parameters\n",
    "p = EasyDict(parameters)\n",
    "\n",
    "supplied_keys = set(p.keys())\n",
    "\n",
    "if  supplied_keys != required_parameters:\n",
    "    print(\"Parameters are incorrect\")\n",
    "    if len(supplied_keys - required_parameters)>0: print(\"Shouldn't have:\", str(supplied_keys - required_parameters))\n",
    "    if len(required_parameters - supplied_keys)>0: print(\"Need to have:\", str(required_parameters - supplied_keys))\n",
    "    raise RuntimeError(\"Parameters are incorrect\")\n",
    "\n"
   ]
  },
  {
   "cell_type": "code",
   "execution_count": 6,
   "id": "3a028d58",
   "metadata": {
    "execution": {
     "iopub.execute_input": "2022-03-05T21:27:00.595961Z",
     "iopub.status.busy": "2022-03-05T21:27:00.595688Z",
     "iopub.status.idle": "2022-03-05T21:27:00.608461Z",
     "shell.execute_reply": "2022-03-05T21:27:00.607934Z"
    },
    "papermill": {
     "duration": 0.025531,
     "end_time": "2022-03-05T21:27:00.608576",
     "exception": false,
     "start_time": "2022-03-05T21:27:00.583045",
     "status": "completed"
    },
    "tags": []
   },
   "outputs": [],
   "source": [
    "###################################\n",
    "# Set the RNGs and make it all deterministic\n",
    "###################################\n",
    "np.random.seed(p.seed)\n",
    "random.seed(p.seed)\n",
    "torch.manual_seed(p.seed)\n",
    "\n",
    "torch.use_deterministic_algorithms(True) "
   ]
  },
  {
   "cell_type": "code",
   "execution_count": 7,
   "id": "b691acf6",
   "metadata": {
    "execution": {
     "iopub.execute_input": "2022-03-05T21:27:00.638422Z",
     "iopub.status.busy": "2022-03-05T21:27:00.637919Z",
     "iopub.status.idle": "2022-03-05T21:27:00.647042Z",
     "shell.execute_reply": "2022-03-05T21:27:00.646724Z"
    },
    "papermill": {
     "duration": 0.022762,
     "end_time": "2022-03-05T21:27:00.647122",
     "exception": false,
     "start_time": "2022-03-05T21:27:00.624360",
     "status": "completed"
    },
    "tags": []
   },
   "outputs": [],
   "source": [
    "###########################################\n",
    "# The stratified datasets honor this\n",
    "###########################################\n",
    "torch.set_default_dtype(eval(p.torch_default_dtype))"
   ]
  },
  {
   "cell_type": "code",
   "execution_count": 8,
   "id": "b5fba671",
   "metadata": {
    "execution": {
     "iopub.execute_input": "2022-03-05T21:27:00.676309Z",
     "iopub.status.busy": "2022-03-05T21:27:00.675629Z",
     "iopub.status.idle": "2022-03-05T21:27:00.717824Z",
     "shell.execute_reply": "2022-03-05T21:27:00.717344Z"
    },
    "papermill": {
     "duration": 0.055809,
     "end_time": "2022-03-05T21:27:00.717942",
     "exception": false,
     "start_time": "2022-03-05T21:27:00.662133",
     "status": "completed"
    },
    "tags": []
   },
   "outputs": [],
   "source": [
    "###################################\n",
    "# Build the network(s)\n",
    "# Note: It's critical to do this AFTER setting the RNG\n",
    "# (This is due to the randomized initial weights)\n",
    "###################################\n",
    "x_net = build_sequential(p.x_net)"
   ]
  },
  {
   "cell_type": "code",
   "execution_count": 9,
   "id": "5d7e61cc",
   "metadata": {
    "execution": {
     "iopub.execute_input": "2022-03-05T21:27:00.743873Z",
     "iopub.status.busy": "2022-03-05T21:27:00.743468Z",
     "iopub.status.idle": "2022-03-05T21:27:00.753216Z",
     "shell.execute_reply": "2022-03-05T21:27:00.752981Z"
    },
    "papermill": {
     "duration": 0.02279,
     "end_time": "2022-03-05T21:27:00.753279",
     "exception": false,
     "start_time": "2022-03-05T21:27:00.730489",
     "status": "completed"
    },
    "tags": []
   },
   "outputs": [],
   "source": [
    "start_time_secs = time.time()"
   ]
  },
  {
   "cell_type": "code",
   "execution_count": 10,
   "id": "fd5442bc",
   "metadata": {
    "execution": {
     "iopub.execute_input": "2022-03-05T21:27:00.780291Z",
     "iopub.status.busy": "2022-03-05T21:27:00.779671Z",
     "iopub.status.idle": "2022-03-05T21:27:44.343776Z",
     "shell.execute_reply": "2022-03-05T21:27:44.343309Z"
    },
    "papermill": {
     "duration": 43.58036,
     "end_time": "2022-03-05T21:27:44.343887",
     "exception": false,
     "start_time": "2022-03-05T21:27:00.763527",
     "status": "completed"
    },
    "tags": []
   },
   "outputs": [],
   "source": [
    "###################################\n",
    "# Build the dataset\n",
    "###################################\n",
    "\n",
    "if p.x_transforms_source == []: x_transform_source = None\n",
    "else: x_transform_source = get_chained_transform(p.x_transforms_source) \n",
    "\n",
    "if p.x_transforms_target == []: x_transform_target = None\n",
    "else: x_transform_target = get_chained_transform(p.x_transforms_target)\n",
    "\n",
    "if p.episode_transforms_source == []: episode_transform_source = None\n",
    "else: raise Exception(\"episode_transform_source not implemented\")\n",
    "\n",
    "if p.episode_transforms_target == []: episode_transform_target = None\n",
    "else: raise Exception(\"episode_transform_target not implemented\")\n",
    "\n",
    "\n",
    "eaf_source = Episodic_Accessor_Factory(\n",
    "    labels=p.labels_source,\n",
    "    domains=p.domains_source,\n",
    "    num_examples_per_domain_per_label=p.num_examples_per_domain_per_label_source,\n",
    "    iterator_seed=p.seed,\n",
    "    dataset_seed=p.dataset_seed,\n",
    "    n_shot=p.n_shot,\n",
    "    n_way=p.n_way,\n",
    "    n_query=p.n_query,\n",
    "    train_val_test_k_factors=(p.train_k_factor,p.val_k_factor,p.test_k_factor),\n",
    "    pickle_path=os.path.join(get_datasets_base_path(), p.pickle_name),\n",
    "    x_transform_func=x_transform_source,\n",
    "    example_transform_func=episode_transform_source,\n",
    "    \n",
    ")\n",
    "train_original_source, val_original_source, test_original_source = eaf_source.get_train(), eaf_source.get_val(), eaf_source.get_test()\n",
    "\n",
    "\n",
    "eaf_target = Episodic_Accessor_Factory(\n",
    "    labels=p.labels_target,\n",
    "    domains=p.domains_target,\n",
    "    num_examples_per_domain_per_label=p.num_examples_per_domain_per_label_target,\n",
    "    iterator_seed=p.seed,\n",
    "    dataset_seed=p.dataset_seed,\n",
    "    n_shot=p.n_shot,\n",
    "    n_way=p.n_way,\n",
    "    n_query=p.n_query,\n",
    "    train_val_test_k_factors=(p.train_k_factor,p.val_k_factor,p.test_k_factor),\n",
    "    pickle_path=os.path.join(get_datasets_base_path(), p.pickle_name),\n",
    "    x_transform_func=x_transform_target,\n",
    "    example_transform_func=episode_transform_target,\n",
    ")\n",
    "train_original_target, val_original_target, test_original_target = eaf_target.get_train(), eaf_target.get_val(), eaf_target.get_test()\n",
    "\n",
    "\n",
    "transform_lambda = lambda ex: ex[1] # Original is (<domain>, <episode>) so we strip down to episode only\n",
    "\n",
    "train_processed_source = Lazy_Iterable_Wrapper(train_original_source, transform_lambda)\n",
    "val_processed_source   = Lazy_Iterable_Wrapper(val_original_source, transform_lambda)\n",
    "test_processed_source  = Lazy_Iterable_Wrapper(test_original_source, transform_lambda)\n",
    "\n",
    "train_processed_target = Lazy_Iterable_Wrapper(train_original_target, transform_lambda)\n",
    "val_processed_target   = Lazy_Iterable_Wrapper(val_original_target, transform_lambda)\n",
    "test_processed_target  = Lazy_Iterable_Wrapper(test_original_target, transform_lambda)\n",
    "\n",
    "datasets = EasyDict({\n",
    "    \"source\": {\n",
    "        \"original\": {\"train\":train_original_source, \"val\":val_original_source, \"test\":test_original_source},\n",
    "        \"processed\": {\"train\":train_processed_source, \"val\":val_processed_source, \"test\":test_processed_source}\n",
    "    },\n",
    "    \"target\": {\n",
    "        \"original\": {\"train\":train_original_target, \"val\":val_original_target, \"test\":test_original_target},\n",
    "        \"processed\": {\"train\":train_processed_target, \"val\":val_processed_target, \"test\":test_processed_target}\n",
    "    },\n",
    "})"
   ]
  },
  {
   "cell_type": "code",
   "execution_count": 11,
   "id": "296189d9",
   "metadata": {
    "execution": {
     "iopub.execute_input": "2022-03-05T21:27:44.375765Z",
     "iopub.status.busy": "2022-03-05T21:27:44.375359Z",
     "iopub.status.idle": "2022-03-05T21:27:48.007776Z",
     "shell.execute_reply": "2022-03-05T21:27:48.008053Z"
    },
    "papermill": {
     "duration": 3.64829,
     "end_time": "2022-03-05T21:27:48.008140",
     "exception": false,
     "start_time": "2022-03-05T21:27:44.359850",
     "status": "completed"
    },
    "tags": []
   },
   "outputs": [
    {
     "name": "stdout",
     "output_type": "stream",
     "text": [
      "Visually inspect these to see if they line up with expected values given the transforms\n",
      "x_transforms_source ['unit_power']\n",
      "x_transforms_target ['unit_power']\n",
      "Average magnitude, source: 0.8931209\n",
      "Average power, source: 1.0\n"
     ]
    },
    {
     "name": "stdout",
     "output_type": "stream",
     "text": [
      "Average magnitude, target: 0.8818705\n",
      "Average power, target: 1.0\n"
     ]
    }
   ],
   "source": [
    "# Some quick unit tests on the data\n",
    "from steves_utils.transforms import get_average_power, get_average_magnitude\n",
    "\n",
    "q_x, q_y, s_x, s_y, truth = next(iter(train_processed_source))\n",
    "\n",
    "assert q_x.dtype == eval(p.torch_default_dtype)\n",
    "assert s_x.dtype == eval(p.torch_default_dtype)\n",
    "\n",
    "print(\"Visually inspect these to see if they line up with expected values given the transforms\")\n",
    "print('x_transforms_source', p.x_transforms_source)\n",
    "print('x_transforms_target', p.x_transforms_target)\n",
    "print(\"Average magnitude, source:\", get_average_magnitude(q_x[0].numpy()))\n",
    "print(\"Average power, source:\", get_average_power(q_x[0].numpy()))\n",
    "\n",
    "q_x, q_y, s_x, s_y, truth = next(iter(train_processed_target))\n",
    "print(\"Average magnitude, target:\", get_average_magnitude(q_x[0].numpy()))\n",
    "print(\"Average power, target:\", get_average_power(q_x[0].numpy()))\n"
   ]
  },
  {
   "cell_type": "code",
   "execution_count": 12,
   "id": "bbdacba1",
   "metadata": {
    "execution": {
     "iopub.execute_input": "2022-03-05T21:27:48.035833Z",
     "iopub.status.busy": "2022-03-05T21:27:48.035500Z",
     "iopub.status.idle": "2022-03-05T21:27:48.137494Z",
     "shell.execute_reply": "2022-03-05T21:27:48.137007Z"
    },
    "papermill": {
     "duration": 0.117262,
     "end_time": "2022-03-05T21:27:48.137606",
     "exception": false,
     "start_time": "2022-03-05T21:27:48.020344",
     "status": "completed"
    },
    "tags": []
   },
   "outputs": [
    {
     "name": "stdout",
     "output_type": "stream",
     "text": [
      "(2, 256)\n"
     ]
    }
   ],
   "source": [
    "###################################\n",
    "# Build the model\n",
    "###################################\n",
    "model = Steves_Prototypical_Network(x_net, device=p.device, x_shape=(2,256))\n",
    "optimizer = Adam(params=model.parameters(), lr=p.lr)"
   ]
  },
  {
   "cell_type": "code",
   "execution_count": 13,
   "id": "22b39ac5",
   "metadata": {
    "execution": {
     "iopub.execute_input": "2022-03-05T21:27:48.174766Z",
     "iopub.status.busy": "2022-03-05T21:27:48.174440Z",
     "iopub.status.idle": "2022-03-05T22:01:34.540500Z",
     "shell.execute_reply": "2022-03-05T22:01:34.540239Z"
    },
    "papermill": {
     "duration": 2026.387407,
     "end_time": "2022-03-05T22:01:34.540564",
     "exception": false,
     "start_time": "2022-03-05T21:27:48.153157",
     "status": "completed"
    },
    "tags": []
   },
   "outputs": [
    {
     "name": "stdout",
     "output_type": "stream",
     "text": [
      "epoch: 1, [batch: 1 / 12600], examples_per_second: 16.5078, train_label_loss: 2.8242, \n"
     ]
    },
    {
     "name": "stdout",
     "output_type": "stream",
     "text": [
      "epoch: 1, [batch: 1260 / 12600], examples_per_second: 3112.4268, train_label_loss: 1.5785, \n"
     ]
    },
    {
     "name": "stdout",
     "output_type": "stream",
     "text": [
      "epoch: 1, [batch: 2520 / 12600], examples_per_second: 3160.2995, train_label_loss: 0.8826, \n"
     ]
    },
    {
     "name": "stdout",
     "output_type": "stream",
     "text": [
      "epoch: 1, [batch: 3780 / 12600], examples_per_second: 3168.9070, train_label_loss: 1.0949, \n"
     ]
    },
    {
     "name": "stdout",
     "output_type": "stream",
     "text": [
      "epoch: 1, [batch: 5040 / 12600], examples_per_second: 3174.4629, train_label_loss: 0.8526, \n"
     ]
    },
    {
     "name": "stdout",
     "output_type": "stream",
     "text": [
      "epoch: 1, [batch: 6300 / 12600], examples_per_second: 3113.2058, train_label_loss: 0.9996, \n"
     ]
    },
    {
     "name": "stdout",
     "output_type": "stream",
     "text": [
      "epoch: 1, [batch: 7560 / 12600], examples_per_second: 3152.2094, train_label_loss: 1.0967, \n"
     ]
    },
    {
     "name": "stdout",
     "output_type": "stream",
     "text": [
      "epoch: 1, [batch: 8820 / 12600], examples_per_second: 3121.6861, train_label_loss: 0.9549, \n"
     ]
    },
    {
     "name": "stdout",
     "output_type": "stream",
     "text": [
      "epoch: 1, [batch: 10080 / 12600], examples_per_second: 3154.4584, train_label_loss: 0.7541, \n"
     ]
    },
    {
     "name": "stdout",
     "output_type": "stream",
     "text": [
      "epoch: 1, [batch: 11340 / 12600], examples_per_second: 3167.3179, train_label_loss: 0.7163, \n"
     ]
    },
    {
     "name": "stdout",
     "output_type": "stream",
     "text": [
      "=============================================================\n",
      "epoch: 1, source_val_acc_label: 0.6500, target_val_acc_label: 0.5311, source_val_label_loss: 0.9242, target_val_label_loss: 1.3495, \n",
      "=============================================================\n"
     ]
    },
    {
     "name": "stdout",
     "output_type": "stream",
     "text": [
      "New best\n"
     ]
    },
    {
     "name": "stdout",
     "output_type": "stream",
     "text": [
      "epoch: 2, [batch: 1 / 12600], examples_per_second: 3.0088, train_label_loss: 1.1376, \n"
     ]
    },
    {
     "name": "stdout",
     "output_type": "stream",
     "text": [
      "epoch: 2, [batch: 1260 / 12600], examples_per_second: 3116.5446, train_label_loss: 0.6677, \n"
     ]
    },
    {
     "name": "stdout",
     "output_type": "stream",
     "text": [
      "epoch: 2, [batch: 2520 / 12600], examples_per_second: 3126.5539, train_label_loss: 0.3937, \n"
     ]
    },
    {
     "name": "stdout",
     "output_type": "stream",
     "text": [
      "epoch: 2, [batch: 3780 / 12600], examples_per_second: 3152.8987, train_label_loss: 1.0701, \n"
     ]
    },
    {
     "name": "stdout",
     "output_type": "stream",
     "text": [
      "epoch: 2, [batch: 5040 / 12600], examples_per_second: 3165.1884, train_label_loss: 0.8833, \n"
     ]
    },
    {
     "name": "stdout",
     "output_type": "stream",
     "text": [
      "epoch: 2, [batch: 6300 / 12600], examples_per_second: 3164.6920, train_label_loss: 0.8482, \n"
     ]
    },
    {
     "name": "stdout",
     "output_type": "stream",
     "text": [
      "epoch: 2, [batch: 7560 / 12600], examples_per_second: 3149.5374, train_label_loss: 0.7768, \n"
     ]
    },
    {
     "name": "stdout",
     "output_type": "stream",
     "text": [
      "epoch: 2, [batch: 8820 / 12600], examples_per_second: 3211.7765, train_label_loss: 0.8246, \n"
     ]
    },
    {
     "name": "stdout",
     "output_type": "stream",
     "text": [
      "epoch: 2, [batch: 10080 / 12600], examples_per_second: 3123.2507, train_label_loss: 0.5898, \n"
     ]
    },
    {
     "name": "stdout",
     "output_type": "stream",
     "text": [
      "epoch: 2, [batch: 11340 / 12600], examples_per_second: 3114.4677, train_label_loss: 0.6200, \n"
     ]
    },
    {
     "name": "stdout",
     "output_type": "stream",
     "text": [
      "=============================================================\n",
      "epoch: 2, source_val_acc_label: 0.6847, target_val_acc_label: 0.5729, source_val_label_loss: 0.8055, target_val_label_loss: 1.1707, \n",
      "=============================================================\n"
     ]
    },
    {
     "name": "stdout",
     "output_type": "stream",
     "text": [
      "New best\n"
     ]
    },
    {
     "name": "stdout",
     "output_type": "stream",
     "text": [
      "epoch: 3, [batch: 1 / 12600], examples_per_second: 2.9431, train_label_loss: 0.8063, \n"
     ]
    },
    {
     "name": "stdout",
     "output_type": "stream",
     "text": [
      "epoch: 3, [batch: 1260 / 12600], examples_per_second: 3109.6527, train_label_loss: 0.9810, \n"
     ]
    },
    {
     "name": "stdout",
     "output_type": "stream",
     "text": [
      "epoch: 3, [batch: 2520 / 12600], examples_per_second: 3156.8213, train_label_loss: 0.8039, \n"
     ]
    },
    {
     "name": "stdout",
     "output_type": "stream",
     "text": [
      "epoch: 3, [batch: 3780 / 12600], examples_per_second: 3102.5038, train_label_loss: 0.8839, \n"
     ]
    },
    {
     "name": "stdout",
     "output_type": "stream",
     "text": [
      "epoch: 3, [batch: 5040 / 12600], examples_per_second: 3104.7738, train_label_loss: 0.7388, \n"
     ]
    },
    {
     "name": "stdout",
     "output_type": "stream",
     "text": [
      "epoch: 3, [batch: 6300 / 12600], examples_per_second: 3211.8152, train_label_loss: 0.6516, \n"
     ]
    },
    {
     "name": "stdout",
     "output_type": "stream",
     "text": [
      "epoch: 3, [batch: 7560 / 12600], examples_per_second: 3170.2192, train_label_loss: 0.8295, \n"
     ]
    },
    {
     "name": "stdout",
     "output_type": "stream",
     "text": [
      "epoch: 3, [batch: 8820 / 12600], examples_per_second: 3118.0252, train_label_loss: 0.7055, \n"
     ]
    },
    {
     "name": "stdout",
     "output_type": "stream",
     "text": [
      "epoch: 3, [batch: 10080 / 12600], examples_per_second: 3109.1990, train_label_loss: 0.5536, \n"
     ]
    },
    {
     "name": "stdout",
     "output_type": "stream",
     "text": [
      "epoch: 3, [batch: 11340 / 12600], examples_per_second: 3195.5777, train_label_loss: 0.8757, \n"
     ]
    },
    {
     "name": "stdout",
     "output_type": "stream",
     "text": [
      "=============================================================\n",
      "epoch: 3, source_val_acc_label: 0.7087, target_val_acc_label: 0.5978, source_val_label_loss: 0.7898, target_val_label_loss: 1.2171, \n",
      "=============================================================\n"
     ]
    },
    {
     "name": "stdout",
     "output_type": "stream",
     "text": [
      "epoch: 4, [batch: 1 / 12600], examples_per_second: 3.0715, train_label_loss: 0.2893, \n"
     ]
    },
    {
     "name": "stdout",
     "output_type": "stream",
     "text": [
      "epoch: 4, [batch: 1260 / 12600], examples_per_second: 3202.3958, train_label_loss: 0.6243, \n"
     ]
    },
    {
     "name": "stdout",
     "output_type": "stream",
     "text": [
      "epoch: 4, [batch: 2520 / 12600], examples_per_second: 3221.1493, train_label_loss: 0.5619, \n"
     ]
    },
    {
     "name": "stdout",
     "output_type": "stream",
     "text": [
      "epoch: 4, [batch: 3780 / 12600], examples_per_second: 3226.8301, train_label_loss: 0.5748, \n"
     ]
    },
    {
     "name": "stdout",
     "output_type": "stream",
     "text": [
      "epoch: 4, [batch: 5040 / 12600], examples_per_second: 3218.9719, train_label_loss: 0.4322, \n"
     ]
    },
    {
     "name": "stdout",
     "output_type": "stream",
     "text": [
      "epoch: 4, [batch: 6300 / 12600], examples_per_second: 3223.0205, train_label_loss: 0.3026, \n"
     ]
    },
    {
     "name": "stdout",
     "output_type": "stream",
     "text": [
      "epoch: 4, [batch: 7560 / 12600], examples_per_second: 3229.5872, train_label_loss: 0.7520, \n"
     ]
    },
    {
     "name": "stdout",
     "output_type": "stream",
     "text": [
      "epoch: 4, [batch: 8820 / 12600], examples_per_second: 3219.5200, train_label_loss: 0.4599, \n"
     ]
    },
    {
     "name": "stdout",
     "output_type": "stream",
     "text": [
      "epoch: 4, [batch: 10080 / 12600], examples_per_second: 3220.9085, train_label_loss: 0.5051, \n"
     ]
    },
    {
     "name": "stdout",
     "output_type": "stream",
     "text": [
      "epoch: 4, [batch: 11340 / 12600], examples_per_second: 3220.0519, train_label_loss: 0.5040, \n"
     ]
    },
    {
     "name": "stdout",
     "output_type": "stream",
     "text": [
      "=============================================================\n",
      "epoch: 4, source_val_acc_label: 0.7178, target_val_acc_label: 0.5983, source_val_label_loss: 0.7669, target_val_label_loss: 1.1890, \n",
      "=============================================================\n"
     ]
    },
    {
     "name": "stdout",
     "output_type": "stream",
     "text": [
      "epoch: 5, [batch: 1 / 12600], examples_per_second: 3.0870, train_label_loss: 0.3461, \n"
     ]
    },
    {
     "name": "stdout",
     "output_type": "stream",
     "text": [
      "epoch: 5, [batch: 1260 / 12600], examples_per_second: 3169.1804, train_label_loss: 0.5063, \n"
     ]
    },
    {
     "name": "stdout",
     "output_type": "stream",
     "text": [
      "epoch: 5, [batch: 2520 / 12600], examples_per_second: 3224.2720, train_label_loss: 0.3432, \n"
     ]
    },
    {
     "name": "stdout",
     "output_type": "stream",
     "text": [
      "epoch: 5, [batch: 3780 / 12600], examples_per_second: 3226.3981, train_label_loss: 0.3246, \n"
     ]
    },
    {
     "name": "stdout",
     "output_type": "stream",
     "text": [
      "epoch: 5, [batch: 5040 / 12600], examples_per_second: 3219.1158, train_label_loss: 0.3572, \n"
     ]
    },
    {
     "name": "stdout",
     "output_type": "stream",
     "text": [
      "epoch: 5, [batch: 6300 / 12600], examples_per_second: 3231.5873, train_label_loss: 0.2417, \n"
     ]
    },
    {
     "name": "stdout",
     "output_type": "stream",
     "text": [
      "epoch: 5, [batch: 7560 / 12600], examples_per_second: 3235.8732, train_label_loss: 0.4771, \n"
     ]
    },
    {
     "name": "stdout",
     "output_type": "stream",
     "text": [
      "epoch: 5, [batch: 8820 / 12600], examples_per_second: 3221.9720, train_label_loss: 0.2909, \n"
     ]
    },
    {
     "name": "stdout",
     "output_type": "stream",
     "text": [
      "epoch: 5, [batch: 10080 / 12600], examples_per_second: 3228.6653, train_label_loss: 0.4334, \n"
     ]
    },
    {
     "name": "stdout",
     "output_type": "stream",
     "text": [
      "epoch: 5, [batch: 11340 / 12600], examples_per_second: 3238.6556, train_label_loss: 0.6395, \n"
     ]
    },
    {
     "name": "stdout",
     "output_type": "stream",
     "text": [
      "=============================================================\n",
      "epoch: 5, source_val_acc_label: 0.7205, target_val_acc_label: 0.6018, source_val_label_loss: 0.7700, target_val_label_loss: 1.2138, \n",
      "=============================================================\n"
     ]
    },
    {
     "name": "stdout",
     "output_type": "stream",
     "text": [
      "epoch: 6, [batch: 1 / 12600], examples_per_second: 3.0787, train_label_loss: 0.2987, \n"
     ]
    },
    {
     "name": "stdout",
     "output_type": "stream",
     "text": [
      "epoch: 6, [batch: 1260 / 12600], examples_per_second: 3205.5331, train_label_loss: 0.3971, \n"
     ]
    },
    {
     "name": "stdout",
     "output_type": "stream",
     "text": [
      "epoch: 6, [batch: 2520 / 12600], examples_per_second: 3209.4091, train_label_loss: 0.3432, \n"
     ]
    },
    {
     "name": "stdout",
     "output_type": "stream",
     "text": [
      "epoch: 6, [batch: 3780 / 12600], examples_per_second: 3256.8039, train_label_loss: 0.1785, \n"
     ]
    },
    {
     "name": "stdout",
     "output_type": "stream",
     "text": [
      "epoch: 6, [batch: 5040 / 12600], examples_per_second: 3253.6456, train_label_loss: 0.4723, \n"
     ]
    },
    {
     "name": "stdout",
     "output_type": "stream",
     "text": [
      "epoch: 6, [batch: 6300 / 12600], examples_per_second: 3267.7803, train_label_loss: 0.1950, \n"
     ]
    },
    {
     "name": "stdout",
     "output_type": "stream",
     "text": [
      "epoch: 6, [batch: 7560 / 12600], examples_per_second: 3265.7201, train_label_loss: 0.4436, \n"
     ]
    },
    {
     "name": "stdout",
     "output_type": "stream",
     "text": [
      "epoch: 6, [batch: 8820 / 12600], examples_per_second: 3248.3051, train_label_loss: 0.5641, \n"
     ]
    },
    {
     "name": "stdout",
     "output_type": "stream",
     "text": [
      "epoch: 6, [batch: 10080 / 12600], examples_per_second: 3258.4287, train_label_loss: 0.3538, \n"
     ]
    },
    {
     "name": "stdout",
     "output_type": "stream",
     "text": [
      "epoch: 6, [batch: 11340 / 12600], examples_per_second: 3258.1362, train_label_loss: 0.2035, \n"
     ]
    },
    {
     "name": "stdout",
     "output_type": "stream",
     "text": [
      "=============================================================\n",
      "epoch: 6, source_val_acc_label: 0.7236, target_val_acc_label: 0.6057, source_val_label_loss: 0.8074, target_val_label_loss: 1.2490, \n",
      "=============================================================\n"
     ]
    },
    {
     "name": "stdout",
     "output_type": "stream",
     "text": [
      "Patience (3) exhausted\n"
     ]
    }
   ],
   "source": [
    "###################################\n",
    "# train\n",
    "###################################\n",
    "jig = PTN_Train_Eval_Test_Jig(model, p.BEST_MODEL_PATH, p.device)\n",
    "\n",
    "jig.train(\n",
    "    train_iterable=datasets.source.processed.train,\n",
    "    source_val_iterable=datasets.source.processed.val,\n",
    "    target_val_iterable=datasets.target.processed.val,\n",
    "    num_epochs=p.n_epoch,\n",
    "    num_logs_per_epoch=p.NUM_LOGS_PER_EPOCH,\n",
    "    patience=p.patience,\n",
    "    optimizer=optimizer,\n",
    "    criteria_for_best=p.criteria_for_best,\n",
    ")"
   ]
  },
  {
   "cell_type": "code",
   "execution_count": 14,
   "id": "31e8fabf",
   "metadata": {
    "execution": {
     "iopub.execute_input": "2022-03-05T22:01:34.597844Z",
     "iopub.status.busy": "2022-03-05T22:01:34.597348Z",
     "iopub.status.idle": "2022-03-05T22:01:34.614228Z",
     "shell.execute_reply": "2022-03-05T22:01:34.613732Z"
    },
    "papermill": {
     "duration": 0.043134,
     "end_time": "2022-03-05T22:01:34.614334",
     "exception": false,
     "start_time": "2022-03-05T22:01:34.571200",
     "status": "completed"
    },
    "tags": []
   },
   "outputs": [],
   "source": [
    "total_experiment_time_secs = time.time() - start_time_secs"
   ]
  },
  {
   "cell_type": "code",
   "execution_count": 15,
   "id": "87b9595b",
   "metadata": {
    "execution": {
     "iopub.execute_input": "2022-03-05T22:01:34.669678Z",
     "iopub.status.busy": "2022-03-05T22:01:34.668956Z",
     "iopub.status.idle": "2022-03-05T22:03:20.367634Z",
     "shell.execute_reply": "2022-03-05T22:03:20.367162Z"
    },
    "papermill": {
     "duration": 105.727977,
     "end_time": "2022-03-05T22:03:20.367758",
     "exception": false,
     "start_time": "2022-03-05T22:01:34.639781",
     "status": "completed"
    },
    "tags": []
   },
   "outputs": [],
   "source": [
    "###################################\n",
    "# Evaluate the model\n",
    "###################################\n",
    "source_test_label_accuracy, source_test_label_loss = jig.test(datasets.source.processed.test)\n",
    "target_test_label_accuracy, target_test_label_loss = jig.test(datasets.target.processed.test)\n",
    "\n",
    "source_val_label_accuracy, source_val_label_loss = jig.test(datasets.source.processed.val)\n",
    "target_val_label_accuracy, target_val_label_loss = jig.test(datasets.target.processed.val)\n",
    "\n",
    "history = jig.get_history()\n",
    "\n",
    "total_epochs_trained = len(history[\"epoch_indices\"])\n",
    "\n",
    "val_dl = Iterable_Aggregator((datasets.source.original.val,datasets.target.original.val))\n",
    "\n",
    "confusion = ptn_confusion_by_domain_over_dataloader(model, p.device, val_dl)\n",
    "per_domain_accuracy = per_domain_accuracy_from_confusion(confusion)\n",
    "\n",
    "# Add a key to per_domain_accuracy for if it was a source domain\n",
    "for domain, accuracy in per_domain_accuracy.items():\n",
    "    per_domain_accuracy[domain] = {\n",
    "        \"accuracy\": accuracy,\n",
    "        \"source?\": domain in p.domains_source\n",
    "    }\n",
    "\n",
    "# Do an independent accuracy assesment JUST TO BE SURE!\n",
    "# _source_test_label_accuracy = independent_accuracy_assesment(model, datasets.source.processed.test, p.device)\n",
    "# _target_test_label_accuracy = independent_accuracy_assesment(model, datasets.target.processed.test, p.device)\n",
    "# _source_val_label_accuracy = independent_accuracy_assesment(model, datasets.source.processed.val, p.device)\n",
    "# _target_val_label_accuracy = independent_accuracy_assesment(model, datasets.target.processed.val, p.device)\n",
    "\n",
    "# assert(_source_test_label_accuracy == source_test_label_accuracy)\n",
    "# assert(_target_test_label_accuracy == target_test_label_accuracy)\n",
    "# assert(_source_val_label_accuracy == source_val_label_accuracy)\n",
    "# assert(_target_val_label_accuracy == target_val_label_accuracy)\n",
    "\n",
    "experiment = {\n",
    "    \"experiment_name\": p.experiment_name,\n",
    "    \"parameters\": dict(p),\n",
    "    \"results\": {\n",
    "        \"source_test_label_accuracy\": source_test_label_accuracy,\n",
    "        \"source_test_label_loss\": source_test_label_loss,\n",
    "        \"target_test_label_accuracy\": target_test_label_accuracy,\n",
    "        \"target_test_label_loss\": target_test_label_loss,\n",
    "        \"source_val_label_accuracy\": source_val_label_accuracy,\n",
    "        \"source_val_label_loss\": source_val_label_loss,\n",
    "        \"target_val_label_accuracy\": target_val_label_accuracy,\n",
    "        \"target_val_label_loss\": target_val_label_loss,\n",
    "        \"total_epochs_trained\": total_epochs_trained,\n",
    "        \"total_experiment_time_secs\": total_experiment_time_secs,\n",
    "        \"confusion\": confusion,\n",
    "        \"per_domain_accuracy\": per_domain_accuracy,\n",
    "    },\n",
    "    \"history\": history,\n",
    "    \"dataset_metrics\": get_dataset_metrics(datasets, \"ptn\"),\n",
    "}"
   ]
  },
  {
   "cell_type": "code",
   "execution_count": 16,
   "id": "54a21829",
   "metadata": {
    "execution": {
     "iopub.execute_input": "2022-03-05T22:03:20.421543Z",
     "iopub.status.busy": "2022-03-05T22:03:20.421285Z",
     "iopub.status.idle": "2022-03-05T22:03:20.615256Z",
     "shell.execute_reply": "2022-03-05T22:03:20.615643Z"
    },
    "papermill": {
     "duration": 0.219605,
     "end_time": "2022-03-05T22:03:20.615777",
     "exception": false,
     "start_time": "2022-03-05T22:03:20.396172",
     "status": "completed"
    },
    "tags": []
   },
   "outputs": [
    {
     "data": {
      "image/png": "[encoded data removed]",
      "text/plain": [
       "<Figure size 1080x504 with 1 Axes>"
      ]
     },
     "metadata": {
      "needs_background": "light"
     },
     "output_type": "display_data"
    }
   ],
   "source": [
    "ax = get_loss_curve(experiment)\n",
    "plt.show()"
   ]
  },
  {
   "cell_type": "code",
   "execution_count": 17,
   "id": "fd8a0f60",
   "metadata": {
    "execution": {
     "iopub.execute_input": "2022-03-05T22:03:20.674863Z",
     "iopub.status.busy": "2022-03-05T22:03:20.670277Z",
     "iopub.status.idle": "2022-03-05T22:03:20.849276Z",
     "shell.execute_reply": "2022-03-05T22:03:20.849498Z"
    },
    "papermill": {
     "duration": 0.205994,
     "end_time": "2022-03-05T22:03:20.849578",
     "exception": false,
     "start_time": "2022-03-05T22:03:20.643584",
     "status": "completed"
    },
    "tags": []
   },
   "outputs": [
    {
     "data": {
      "text/plain": [
       "<matplotlib.axes._subplots.AxesSubplot at 0x7f72d22ad5e0>"
      ]
     },
     "execution_count": 17,
     "metadata": {},
     "output_type": "execute_result"
    },
    {
     "data": {
      "image/png": "[encoded data removed]",
      "text/plain": [
       "<Figure size 1080x504 with 1 Axes>"
      ]
     },
     "metadata": {
      "needs_background": "light"
     },
     "output_type": "display_data"
    }
   ],
   "source": [
    "get_results_table(experiment)"
   ]
  },
  {
   "cell_type": "code",
   "execution_count": 18,
   "id": "cf8dc689",
   "metadata": {
    "execution": {
     "iopub.execute_input": "2022-03-05T22:03:20.903171Z",
     "iopub.status.busy": "2022-03-05T22:03:20.902782Z",
     "iopub.status.idle": "2022-03-05T22:03:21.084598Z",
     "shell.execute_reply": "2022-03-05T22:03:21.084102Z"
    },
    "papermill": {
     "duration": 0.209061,
     "end_time": "2022-03-05T22:03:21.084706",
     "exception": false,
     "start_time": "2022-03-05T22:03:20.875645",
     "status": "completed"
    },
    "tags": []
   },
   "outputs": [
    {
     "data": {
      "text/plain": [
       "<matplotlib.axes._subplots.AxesSubplot at 0x7f72d22b6eb0>"
      ]
     },
     "execution_count": 18,
     "metadata": {},
     "output_type": "execute_result"
    },
    {
     "data": {
      "image/png": "[encoded data removed]",
      "text/plain": [
       "<Figure size 1080x504 with 1 Axes>"
      ]
     },
     "metadata": {
      "needs_background": "light"
     },
     "output_type": "display_data"
    }
   ],
   "source": [
    "get_domain_accuracies(experiment)"
   ]
  },
  {
   "cell_type": "code",
   "execution_count": 19,
   "id": "a74ae082",
   "metadata": {
    "execution": {
     "iopub.execute_input": "2022-03-05T22:03:21.143108Z",
     "iopub.status.busy": "2022-03-05T22:03:21.142591Z",
     "iopub.status.idle": "2022-03-05T22:03:21.152576Z",
     "shell.execute_reply": "2022-03-05T22:03:21.152097Z"
    },
    "papermill": {
     "duration": 0.038574,
     "end_time": "2022-03-05T22:03:21.152679",
     "exception": false,
     "start_time": "2022-03-05T22:03:21.114105",
     "status": "completed"
    },
    "tags": []
   },
   "outputs": [
    {
     "name": "stdout",
     "output_type": "stream",
     "text": [
      "Source Test Label Accuracy: 0.6868229166666666 Target Test Label Accuracy: 0.57875\n",
      "Source Val Label Accuracy: 0.6846527777777778 Target Val Label Accuracy: 0.5729166666666666\n"
     ]
    }
   ],
   "source": [
    "print(\"Source Test Label Accuracy:\", experiment[\"results\"][\"source_test_label_accuracy\"], \"Target Test Label Accuracy:\", experiment[\"results\"][\"target_test_label_accuracy\"])\n",
    "print(\"Source Val Label Accuracy:\", experiment[\"results\"][\"source_val_label_accuracy\"], \"Target Val Label Accuracy:\", experiment[\"results\"][\"target_val_label_accuracy\"])"
   ]
  },
  {
   "cell_type": "code",
   "execution_count": 20,
   "id": "dacca602",
   "metadata": {
    "execution": {
     "iopub.execute_input": "2022-03-05T22:03:21.213142Z",
     "iopub.status.busy": "2022-03-05T22:03:21.211849Z",
     "iopub.status.idle": "2022-03-05T22:03:21.227007Z",
     "shell.execute_reply": "2022-03-05T22:03:21.226572Z"
    },
    "papermill": {
     "duration": 0.044869,
     "end_time": "2022-03-05T22:03:21.227109",
     "exception": false,
     "start_time": "2022-03-05T22:03:21.182240",
     "status": "completed"
    },
    "tags": [
     "experiment_json"
    ]
   },
   "outputs": [
    {
     "data": {
      "text/plain": [
       "'{\"experiment_name\": \"tuned_1_oracle.run2\", \"parameters\": {\"experiment_name\": \"tuned_1_oracle.run2\", \"device\": \"cuda\", \"lr\": 0.001, \"seed\": 1337, \"dataset_seed\": 1337, \"labels_source\": [\"3123D52\", \"3123D65\", \"3123D79\", \"3123D80\", \"3123D54\", \"3123D70\", \"3123D7B\", \"3123D89\", \"3123D58\", \"3123D76\", \"3123D7D\", \"3123EFE\", \"3123D64\", \"3123D78\", \"3123D7E\", \"3124E4A\"], \"labels_target\": [\"3123D52\", \"3123D65\", \"3123D79\", \"3123D80\", \"3123D54\", \"3123D70\", \"3123D7B\", \"3123D89\", \"3123D58\", \"3123D76\", \"3123D7D\", \"3123EFE\", \"3123D64\", \"3123D78\", \"3123D7E\", \"3124E4A\"], \"x_transforms_source\": [\"unit_power\"], \"x_transforms_target\": [\"unit_power\"], \"episode_transforms_source\": [], \"episode_transforms_target\": [], \"domains_source\": [8, 32, 50], \"domains_target\": [14, 20, 26, 38, 44], \"num_examples_per_domain_per_label_source\": 10000, \"num_examples_per_domain_per_label_target\": 1000, \"n_shot\": 3, \"n_way\": 16, \"n_query\": 2, \"train_k_factor\": 3, \"val_k_factor\": 2, \"test_k_factor\": 2, \"torch_default_dtype\": \"torch.float32\", \"n_epoch\": 50, \"patience\": 3, \"criteria_for_best\": \"target_loss\", \"x_net\": [{\"class\": \"nnReshape\", \"kargs\": {\"shape\": [-1, 1, 2, 256]}}, {\"class\": \"Conv2d\", \"kargs\": {\"in_channels\": 1, \"out_channels\": 256, \"kernel_size\": [1, 7], \"bias\": false, \"padding\": [0, 3]}}, {\"class\": \"ReLU\", \"kargs\": {\"inplace\": true}}, {\"class\": \"BatchNorm2d\", \"kargs\": {\"num_features\": 256}}, {\"class\": \"Conv2d\", \"kargs\": {\"in_channels\": 256, \"out_channels\": 80, \"kernel_size\": [2, 7], \"bias\": true, \"padding\": [0, 3]}}, {\"class\": \"ReLU\", \"kargs\": {\"inplace\": true}}, {\"class\": \"BatchNorm2d\", \"kargs\": {\"num_features\": 80}}, {\"class\": \"Flatten\", \"kargs\": {}}, {\"class\": \"Linear\", \"kargs\": {\"in_features\": 20480, \"out_features\": 256}}, {\"class\": \"ReLU\", \"kargs\": {\"inplace\": true}}, {\"class\": \"BatchNorm1d\", \"kargs\": {\"num_features\": 256}}, {\"class\": \"Linear\", \"kargs\": {\"in_features\": 256, \"out_features\": 256}}], \"NUM_LOGS_PER_EPOCH\": 10, \"BEST_MODEL_PATH\": \"./best_model.pth\", \"pickle_name\": \"oracle.Run2_10kExamples_stratified_ds.2022A.pkl\"}, \"results\": {\"source_test_label_accuracy\": 0.6868229166666666, \"source_test_label_loss\": 0.7945674061775208, \"target_test_label_accuracy\": 0.57875, \"target_test_label_loss\": 1.1755564212799072, \"source_val_label_accuracy\": 0.6846527777777778, \"source_val_label_loss\": 0.805508553981781, \"target_val_label_accuracy\": 0.5729166666666666, \"target_val_label_loss\": 1.170697808265686, \"total_epochs_trained\": 6, \"total_experiment_time_secs\": 2073.860666036606, \"confusion\": {\"8\": {\"15\": {\"15\": 579, \"2\": 4, \"12\": 192, \"3\": 37, \"11\": 229, \"8\": 134, \"6\": 4, \"7\": 20, \"4\": 1}, \"3\": {\"12\": 228, \"3\": 946, \"15\": 23, \"11\": 1, \"2\": 2}, \"6\": {\"2\": 21, \"4\": 313, \"7\": 239, \"6\": 515, \"14\": 79, \"8\": 11, \"0\": 9, \"13\": 12, \"11\": 1}, \"1\": {\"1\": 993, \"13\": 111, \"14\": 4, \"5\": 58, \"10\": 29, \"0\": 5}, \"8\": {\"8\": 873, \"11\": 134, \"15\": 130, \"6\": 17, \"7\": 27, \"4\": 8, \"13\": 8, \"12\": 2, \"14\": 1}, \"10\": {\"10\": 669, \"5\": 171, \"0\": 183, \"13\": 89, \"1\": 24, \"14\": 64}, \"9\": {\"9\": 1200}, \"13\": {\"13\": 733, \"10\": 64, \"14\": 196, \"0\": 32, \"1\": 143, \"8\": 7, \"6\": 12, \"5\": 9, \"4\": 4}, \"12\": {\"12\": 768, \"3\": 230, \"15\": 143, \"11\": 59}, \"5\": {\"5\": 929, \"10\": 191, \"9\": 1, \"13\": 7, \"1\": 67, \"0\": 4, \"14\": 1}, \"0\": {\"10\": 193, \"0\": 691, \"14\": 266, \"4\": 9, \"13\": 27, \"6\": 9, \"7\": 1, \"5\": 3, \"1\": 1}, \"2\": {\"2\": 834, \"6\": 43, \"7\": 192, \"4\": 124, \"0\": 1, \"14\": 3, \"8\": 1, \"15\": 2}, \"11\": {\"8\": 287, \"12\": 137, \"11\": 518, \"15\": 246, \"3\": 6, \"7\": 2, \"4\": 1, \"6\": 3}, \"14\": {\"0\": 273, \"14\": 605, \"10\": 53, \"13\": 185, \"6\": 63, \"4\": 16, \"7\": 3, \"1\": 2}, \"7\": {\"2\": 159, \"7\": 481, \"6\": 218, \"4\": 301, \"8\": 27, \"0\": 1, \"15\": 11, \"14\": 1, \"11\": 1}, \"4\": {\"2\": 135, \"4\": 412, \"6\": 333, \"7\": 297, \"8\": 6, \"14\": 15, \"0\": 1, \"13\": 1}}, \"50\": {\"3\": {\"3\": 1134, \"8\": 66}, \"15\": {\"15\": 1042, \"11\": 56, \"1\": 85, \"6\": 12, \"14\": 5}, \"8\": {\"8\": 1162, \"3\": 36, \"7\": 1, \"10\": 1}, \"4\": {\"4\": 622, \"6\": 217, \"5\": 287, \"1\": 51, \"10\": 7, \"13\": 3, \"7\": 9, \"0\": 4}, \"14\": {\"12\": 29, \"14\": 1154, \"11\": 17}, \"0\": {\"0\": 1043, \"2\": 118, \"5\": 5, \"10\": 28, \"1\": 1, \"6\": 5}, \"7\": {\"7\": 437, \"13\": 500, \"10\": 137, \"5\": 115, \"4\": 11}, \"6\": {\"1\": 333, \"6\": 537, \"4\": 258, \"5\": 46, \"15\": 20, \"2\": 2, \"0\": 3, \"7\": 1}, \"10\": {\"10\": 822, \"13\": 176, \"5\": 72, \"7\": 88, \"0\": 38, \"6\": 1, \"4\": 3}, \"5\": {\"0\": 16, \"4\": 297, \"5\": 593, \"6\": 59, \"10\": 67, \"13\": 78, \"1\": 12, \"7\": 78}, \"2\": {\"2\": 1121, \"0\": 79}, \"12\": {\"12\": 1048, \"14\": 77, \"9\": 67, \"11\": 8}, \"9\": {\"9\": 1092, \"11\": 24, \"12\": 84}, \"1\": {\"1\": 767, \"6\": 316, \"4\": 45, \"15\": 68, \"2\": 1, \"5\": 2, \"14\": 1}, \"11\": {\"11\": 1078, \"9\": 30, \"15\": 45, \"14\": 34, \"12\": 13}, \"13\": {\"7\": 477, \"13\": 521, \"10\": 163, \"5\": 38, \"4\": 1}}, \"32\": {\"5\": {\"2\": 115, \"8\": 154, \"0\": 220, \"5\": 367, \"13\": 90, \"14\": 87, \"4\": 121, \"11\": 30, \"7\": 6, \"3\": 10}, \"8\": {\"8\": 849, \"4\": 59, \"0\": 46, \"5\": 108, \"13\": 106, \"3\": 23, \"11\": 4, \"15\": 4, \"7\": 1}, \"11\": {\"11\": 389, \"4\": 116, \"2\": 81, \"13\": 122, \"5\": 31, \"7\": 340, \"0\": 115, \"8\": 6}, \"1\": {\"1\": 1185, \"10\": 15}, \"10\": {\"10\": 1197, \"1\": 3}, \"15\": {\"15\": 1177, \"8\": 22, \"5\": 1}, \"3\": {\"3\": 1117, \"13\": 49, \"7\": 7, \"8\": 22, \"4\": 1, \"11\": 2, \"5\": 2}, \"7\": {\"4\": 48, \"13\": 167, \"11\": 341, \"7\": 602, \"5\": 7, \"0\": 23, \"2\": 8, \"8\": 2, \"3\": 2}, \"4\": {\"7\": 57, \"4\": 348, \"11\": 136, \"0\": 242, \"13\": 207, \"8\": 67, \"5\": 120, \"2\": 22, \"14\": 1}, \"14\": {\"14\": 929, \"2\": 211, \"0\": 17, \"11\": 4, \"5\": 33, \"4\": 3, \"9\": 3}, \"9\": {\"9\": 1170, \"14\": 27, \"12\": 2, \"2\": 1}, \"12\": {\"12\": 1200}, \"6\": {\"6\": 1200}, \"2\": {\"2\": 836, \"14\": 156, \"5\": 60, \"11\": 60, \"0\": 64, \"4\": 10, \"7\": 12, \"13\": 2}, \"0\": {\"0\": 410, \"7\": 29, \"13\": 60, \"5\": 222, \"4\": 214, \"11\": 127, \"14\": 12, \"8\": 59, \"2\": 67}, \"13\": {\"0\": 53, \"3\": 36, \"8\": 105, \"7\": 156, \"13\": 541, \"4\": 177, \"11\": 101, \"5\": 31}}, \"14\": {\"15\": {\"15\": 114, \"7\": 6}, \"3\": {\"3\": 86, \"14\": 8, \"5\": 5, \"4\": 19, \"1\": 1, \"2\": 1}, \"6\": {\"13\": 20, \"6\": 62, \"2\": 18, \"14\": 20}, \"1\": {\"1\": 101, \"5\": 11, \"4\": 8}, \"8\": {\"8\": 120}, \"10\": {\"10\": 105, \"0\": 13, \"12\": 1, \"11\": 1}, \"9\": {\"9\": 117, \"11\": 1, \"0\": 1, \"12\": 1}, \"13\": {\"13\": 74, \"6\": 37, \"2\": 8, \"15\": 1}, \"12\": {\"12\": 60, \"11\": 35, \"10\": 10, \"9\": 9, \"0\": 5, \"8\": 1}, \"5\": {\"3\": 7, \"5\": 33, \"4\": 46, \"1\": 22, \"6\": 1, \"2\": 11}, \"0\": {\"0\": 113, \"9\": 1, \"10\": 4, \"11\": 1, \"3\": 1}, \"2\": {\"14\": 12, \"3\": 6, \"2\": 43, \"13\": 13, \"7\": 1, \"4\": 15, \"1\": 1, \"5\": 23, \"6\": 5, \"15\": 1}, \"11\": {\"11\": 114, \"12\": 4, \"10\": 2}, \"14\": {\"14\": 64, \"6\": 33, \"5\": 2, \"13\": 4, \"2\": 8, \"3\": 4, \"4\": 3, \"0\": 2}, \"7\": {\"7\": 118, \"1\": 1, \"15\": 1}, \"4\": {\"5\": 37, \"4\": 46, \"6\": 1, \"3\": 17, \"1\": 9, \"2\": 8, \"14\": 2}}, \"20\": {\"3\": {\"13\": 4, \"3\": 35, \"5\": 15, \"8\": 5, \"2\": 23, \"7\": 12, \"9\": 14, \"10\": 3, \"0\": 2, \"12\": 4, \"14\": 1, \"4\": 1, \"15\": 1}, \"15\": {\"15\": 34, \"13\": 35, \"2\": 13, \"12\": 5, \"0\": 8, \"1\": 5, \"9\": 15, \"5\": 4, \"3\": 1}, \"8\": {\"14\": 18, \"8\": 48, \"10\": 21, \"6\": 2, \"7\": 18, \"2\": 1, \"4\": 9, \"5\": 1, \"3\": 2}, \"4\": {\"4\": 99, \"15\": 1, \"3\": 4, \"8\": 2, \"12\": 4, \"2\": 1, \"0\": 2, \"5\": 5, \"10\": 1, \"1\": 1}, \"14\": {\"6\": 17, \"14\": 45, \"10\": 37, \"8\": 18, \"7\": 3}, \"0\": {\"1\": 26, \"15\": 10, \"12\": 17, \"0\": 33, \"2\": 2, \"5\": 12, \"4\": 14, \"9\": 3, \"13\": 2, \"3\": 1}, \"7\": {\"3\": 17, \"7\": 70, \"8\": 17, \"2\": 4, \"10\": 5, \"6\": 4, \"5\": 2, \"11\": 1}, \"6\": {\"6\": 100, \"14\": 14, \"8\": 2, \"7\": 3, \"10\": 1}, \"10\": {\"10\": 56, \"14\": 24, \"8\": 29, \"7\": 6, \"4\": 3, \"6\": 2}, \"5\": {\"3\": 24, \"9\": 15, \"15\": 8, \"5\": 23, \"1\": 3, \"2\": 16, \"12\": 11, \"0\": 13, \"7\": 2, \"13\": 3, \"4\": 2}, \"2\": {\"15\": 12, \"3\": 20, \"9\": 27, \"5\": 15, \"2\": 23, \"13\": 7, \"12\": 9, \"0\": 3, \"1\": 1, \"4\": 1, \"7\": 2}, \"12\": {\"1\": 29, \"2\": 6, \"4\": 7, \"12\": 28, \"3\": 3, \"9\": 13, \"15\": 6, \"13\": 1, \"0\": 18, \"5\": 9}, \"9\": {\"15\": 10, \"2\": 25, \"9\": 28, \"5\": 13, \"3\": 12, \"12\": 10, \"7\": 1, \"0\": 9, \"4\": 2, \"1\": 3, \"13\": 5, \"8\": 1, \"10\": 1}, \"1\": {\"1\": 47, \"12\": 29, \"0\": 23, \"15\": 7, \"9\": 5, \"5\": 4, \"13\": 3, \"4\": 1, \"2\": 1}, \"11\": {\"11\": 119, \"7\": 1}, \"13\": {\"13\": 77, \"2\": 6, \"12\": 1, \"15\": 21, \"9\": 4, \"0\": 3, \"5\": 1, \"1\": 7}}, \"44\": {\"5\": {\"5\": 108, \"14\": 11, \"8\": 1}, \"8\": {\"0\": 48, \"8\": 71, \"15\": 1}, \"11\": {\"11\": 108, \"6\": 11, \"7\": 1}, \"1\": {\"12\": 38, \"1\": 70, \"3\": 10, \"10\": 2}, \"10\": {\"10\": 111, \"1\": 1, \"12\": 8}, \"15\": {\"15\": 99, \"4\": 1, \"14\": 16, \"0\": 1, \"8\": 2, \"5\": 1}, \"3\": {\"3\": 93, \"1\": 21, \"12\": 6}, \"7\": {\"7\": 56, \"9\": 22, \"2\": 36, \"1\": 1, \"6\": 4, \"3\": 1}, \"4\": {\"4\": 102, \"13\": 5, \"14\": 10, \"15\": 3}, \"14\": {\"15\": 22, \"14\": 70, \"4\": 13, \"5\": 14, \"8\": 1}, \"9\": {\"2\": 48, \"9\": 43, \"7\": 24, \"1\": 1, \"6\": 4}, \"12\": {\"12\": 72, \"1\": 36, \"3\": 11, \"10\": 1}, \"6\": {\"6\": 105, \"11\": 6, \"13\": 3, \"9\": 5, \"2\": 1}, \"2\": {\"2\": 55, \"7\": 36, \"9\": 29}, \"0\": {\"0\": 59, \"8\": 59, \"5\": 1, \"15\": 1}, \"13\": {\"13\": 111, \"6\": 1, \"4\": 8}}, \"38\": {\"14\": {\"2\": 28, \"14\": 67, \"11\": 6, \"12\": 18, \"5\": 1}, \"0\": {\"0\": 93, \"3\": 20, \"10\": 4, \"9\": 2, \"13\": 1}, \"13\": {\"3\": 12, \"8\": 17, \"5\": 22, \"13\": 23, \"1\": 12, \"15\": 22, \"14\": 4, \"10\": 2, \"2\": 3, \"7\": 2, \"6\": 1}, \"7\": {\"10\": 41, \"7\": 47, \"15\": 3, \"13\": 3, \"8\": 11, \"5\": 10, \"3\": 4, \"12\": 1}, \"9\": {\"6\": 38, \"9\": 78, \"0\": 2, \"3\": 2}, \"3\": {\"7\": 10, \"15\": 10, \"13\": 8, \"0\": 32, \"10\": 6, \"3\": 25, \"6\": 7, \"8\": 9, \"5\": 8, \"9\": 4, \"1\": 1}, \"11\": {\"11\": 92, \"12\": 14, \"2\": 3, \"4\": 1, \"14\": 10}, \"6\": {\"6\": 73, \"9\": 45, \"3\": 2}, \"8\": {\"5\": 30, \"15\": 26, \"13\": 21, \"8\": 29, \"7\": 6, \"3\": 5, \"10\": 3}, \"4\": {\"4\": 114, \"12\": 4, \"10\": 1, \"7\": 1}, \"5\": {\"7\": 13, \"8\": 22, \"5\": 29, \"13\": 27, \"10\": 8, \"15\": 17, \"3\": 2, \"1\": 2}, \"10\": {\"7\": 35, \"10\": 67, \"3\": 5, \"0\": 5, \"4\": 1, \"8\": 2, \"5\": 3, \"15\": 2}, \"1\": {\"1\": 108, \"15\": 5, \"13\": 6, \"8\": 1}, \"2\": {\"2\": 108, \"14\": 12}, \"15\": {\"15\": 43, \"13\": 27, \"8\": 14, \"5\": 13, \"3\": 7, \"1\": 12, \"6\": 2, \"7\": 1, \"0\": 1}, \"12\": {\"12\": 110, \"4\": 3, \"11\": 4, \"14\": 3}}, \"26\": {\"13\": {\"9\": 14, \"13\": 76, \"6\": 5, \"5\": 21, \"15\": 1, \"7\": 3}, \"2\": {\"2\": 28, \"7\": 34, \"3\": 13, \"15\": 11, \"4\": 15, \"8\": 12, \"9\": 3, \"10\": 1, \"5\": 3}, \"8\": {\"8\": 38, \"7\": 12, \"5\": 6, \"10\": 12, \"0\": 12, \"15\": 1, \"13\": 1, \"6\": 7, \"4\": 7, \"9\": 9, \"2\": 10, \"14\": 3, \"1\": 2}, \"9\": {\"5\": 19, \"8\": 19, \"9\": 36, \"13\": 15, \"6\": 8, \"7\": 11, \"2\": 3, \"1\": 1, \"10\": 2, \"3\": 2, \"14\": 2, \"0\": 2}, \"12\": {\"12\": 118, \"11\": 2}, \"4\": {\"0\": 15, \"7\": 9, \"4\": 64, \"10\": 4, \"8\": 5, \"2\": 9, \"14\": 6, \"3\": 5, \"15\": 3}, \"3\": {\"2\": 12, \"3\": 46, \"15\": 43, \"4\": 6, \"5\": 1, \"7\": 11, \"0\": 1}, \"15\": {\"15\": 52, \"2\": 14, \"7\": 11, \"3\": 36, \"8\": 2, \"4\": 5}, \"14\": {\"0\": 29, \"1\": 34, \"14\": 30, \"10\": 13, \"8\": 9, \"4\": 3, \"2\": 1, \"6\": 1}, \"10\": {\"0\": 16, \"10\": 23, \"8\": 7, \"2\": 5, \"4\": 11, \"1\": 23, \"14\": 14, \"6\": 14, \"7\": 4, \"9\": 1, \"3\": 1, \"5\": 1}, \"7\": {\"5\": 5, \"2\": 24, \"7\": 30, \"15\": 18, \"10\": 3, \"9\": 9, \"4\": 11, \"3\": 9, \"0\": 3, \"8\": 6, \"14\": 1, \"6\": 1}, \"11\": {\"11\": 118, \"12\": 2}, \"6\": {\"6\": 69, \"0\": 3, \"9\": 11, \"5\": 9, \"13\": 19, \"8\": 3, \"10\": 4, \"14\": 1, \"1\": 1}, \"1\": {\"14\": 35, \"0\": 9, \"1\": 49, \"10\": 20, \"8\": 3, \"4\": 2, \"2\": 1, \"6\": 1}, \"5\": {\"13\": 27, \"6\": 25, \"7\": 10, \"5\": 32, \"8\": 6, \"2\": 4, \"9\": 13, \"10\": 1, \"3\": 1, \"15\": 1}, \"0\": {\"14\": 21, \"1\": 24, \"8\": 10, \"2\": 4, \"4\": 21, \"0\": 17, \"10\": 16, \"9\": 2, \"7\": 3, \"6\": 1, \"5\": 1}}}, \"per_domain_accuracy\": {\"8\": {\"accuracy\": 0.6117708333333334, \"source?\": true}, \"50\": {\"accuracy\": 0.7381770833333333, \"source?\": true}, \"32\": {\"accuracy\": 0.7040104166666666, \"source?\": true}, \"14\": {\"accuracy\": 0.7135416666666666, \"source?\": false}, \"20\": {\"accuracy\": 0.4505208333333333, \"source?\": false}, \"44\": {\"accuracy\": 0.6942708333333333, \"source?\": false}, \"38\": {\"accuracy\": 0.5760416666666667, \"source?\": false}, \"26\": {\"accuracy\": 0.43020833333333336, \"source?\": false}}}, \"history\": {\"epoch_indices\": [1, 2, 3, 4, 5, 6], \"train_label_loss\": [1.0851442884973117, 0.7727835189633899, 0.6523091147550278, 0.5584779373520896, 0.4828529621826278, 0.41940898635823814], \"source_val_label_loss\": [0.9242273569107056, 0.805508553981781, 0.789811909198761, 0.7668640613555908, 0.7700327038764954, 0.8073705434799194], \"target_val_label_loss\": [1.349495768547058, 1.170697808265686, 1.2171046733856201, 1.1889898777008057, 1.213833212852478, 1.2489508390426636], \"source_val_acc_label\": [0.6500347222222222, 0.6846527777777778, 0.70875, 0.7177777777777777, 0.7204513888888889, 0.7235763888888889], \"target_val_acc_label\": [0.5311458333333333, 0.5729166666666666, 0.5978125, 0.5983333333333334, 0.6017708333333334, 0.6057291666666667]}, \"dataset_metrics\": {\"source\": {\"train\": {\"n_unique_x\": 336000, \"n_unique_y\": 16, \"n_batch/episode\": 12600}, \"val\": {\"n_unique_x\": 72000, \"n_unique_y\": 16, \"n_batch/episode\": 1800}, \"test\": {\"n_unique_x\": 72000, \"n_unique_y\": 16, \"n_batch/episode\": 1800}}, \"target\": {\"train\": {\"n_unique_x\": 56000, \"n_unique_y\": 16, \"n_batch/episode\": 2100}, \"val\": {\"n_unique_x\": 12000, \"n_unique_y\": 16, \"n_batch/episode\": 300}, \"test\": {\"n_unique_x\": 12000, \"n_unique_y\": 16, \"n_batch/episode\": 300}}}}'"
      ]
     },
     "execution_count": 20,
     "metadata": {},
     "output_type": "execute_result"
    }
   ],
   "source": [
    "json.dumps(experiment)"
   ]
  }
 ],
 "metadata": {
  "celltoolbar": "Tags",
  "kernelspec": {
   "display_name": "Python 3 (ipykernel)",
   "language": "python",
   "name": "python3"
  },
  "language_info": {
   "codemirror_mode": {
    "name": "ipython",
    "version": 3
   },
   "file_extension": ".py",
   "mimetype": "text/x-python",
   "name": "python",
   "nbconvert_exporter": "python",
   "pygments_lexer": "ipython3",
   "version": "3.8.10"
  },
  "papermill": {
   "default_parameters": {},
   "duration": 2184.062583,
   "end_time": "2022-03-05T22:03:22.769488",
   "environment_variables": {},
   "exception": null,
   "input_path": "/mnt/wd500GB/CSC500/csc500-main/csc500-notebooks/templates/ptn_template.ipynb",
   "output_path": "trial.ipynb",
   "parameters": {
    "parameters": {
     "BEST_MODEL_PATH": "./best_model.pth",
     "NUM_LOGS_PER_EPOCH": 10,
     "criteria_for_best": "target_loss",
     "dataset_seed": 1337,
     "device": "cuda",
     "domains_source": [
      8,
      32,
      50
     ],
     "domains_target": [
      14,
      20,
      26,
      38,
      44
     ],
     "episode_transforms_source": [],
     "episode_transforms_target": [],
     "experiment_name": "tuned_1_oracle.run2",
     "labels_source": [
      "3123D52",
      "3123D65",
      "3123D79",
      "3123D80",
      "3123D54",
      "3123D70",
      "3123D7B",
      "3123D89",
      "3123D58",
      "3123D76",
      "3123D7D",
      "3123EFE",
      "3123D64",
      "3123D78",
      "3123D7E",
      "3124E4A"
     ],
     "labels_target": [
      "3123D52",
      "3123D65",
      "3123D79",
      "3123D80",
      "3123D54",
      "3123D70",
      "3123D7B",
      "3123D89",
      "3123D58",
      "3123D76",
      "3123D7D",
      "3123EFE",
      "3123D64",
      "3123D78",
      "3123D7E",
      "3124E4A"
     ],
     "lr": 0.001,
     "n_epoch": 50,
     "n_query": 2,
     "n_shot": 3,
     "n_way": 16,
     "num_examples_per_domain_per_label_source": 10000,
     "num_examples_per_domain_per_label_target": 1000,
     "patience": 3,
     "pickle_name": "oracle.Run2_10kExamples_stratified_ds.2022A.pkl",
     "seed": 1337,
     "test_k_factor": 2,
     "torch_default_dtype": "torch.float32",
     "train_k_factor": 3,
     "val_k_factor": 2,
     "x_net": [
      {
       "class": "nnReshape",
       "kargs": {
        "shape": [
         -1,
         1,
         2,
         256
        ]
       }
      },
      {
       "class": "Conv2d",
       "kargs": {
        "bias": false,
        "in_channels": 1,
        "kernel_size": [
         1,
         7
        ],
        "out_channels": 256,
        "padding": [
         0,
         3
        ]
       }
      },
      {
       "class": "ReLU",
       "kargs": {
        "inplace": true
       }
      },
      {
       "class": "BatchNorm2d",
       "kargs": {
        "num_features": 256
       }
      },
      {
       "class": "Conv2d",
       "kargs": {
        "bias": true,
        "in_channels": 256,
        "kernel_size": [
         2,
         7
        ],
        "out_channels": 80,
        "padding": [
         0,
         3
        ]
       }
      },
      {
       "class": "ReLU",
       "kargs": {
        "inplace": true
       }
      },
      {
       "class": "BatchNorm2d",
       "kargs": {
        "num_features": 80
       }
      },
      {
       "class": "Flatten",
       "kargs": {}
      },
      {
       "class": "Linear",
       "kargs": {
        "in_features": 20480,
        "out_features": 256
       }
      },
      {
       "class": "ReLU",
       "kargs": {
        "inplace": true
       }
      },
      {
       "class": "BatchNorm1d",
       "kargs": {
        "num_features": 256
       }
      },
      {
       "class": "Linear",
       "kargs": {
        "in_features": 256,
        "out_features": 256
       }
      }
     ],
     "x_transforms_source": [
      "unit_power"
     ],
     "x_transforms_target": [
      "unit_power"
     ]
    }
   },
   "start_time": "2022-03-05T21:26:58.706905",
   "version": "2.3.4"
  }
 },
 "nbformat": 4,
 "nbformat_minor": 5
}