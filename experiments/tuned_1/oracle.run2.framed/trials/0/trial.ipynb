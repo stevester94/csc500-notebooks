{
 "cells": [
  {
   "cell_type": "markdown",
   "id": "9fea5f46",
   "metadata": {
    "papermill": {
     "duration": 0.014712,
     "end_time": "2022-03-06T01:21:09.942661",
     "exception": false,
     "start_time": "2022-03-06T01:21:09.927949",
     "status": "completed"
    },
    "tags": []
   },
   "source": [
    "# PTN Template\n",
    "This notebook serves as a template for single dataset PTN experiments  \n",
    "It can be run on its own by setting STANDALONE to True (do a find for \"STANDALONE\" to see where)  \n",
    "But it is intended to be executed as part of a *papermill.py script. See any of the   \n",
    "experimentes with a papermill script to get started with that workflow.  "
   ]
  },
  {
   "cell_type": "code",
   "execution_count": 1,
   "id": "0902182a",
   "metadata": {
    "execution": {
     "iopub.execute_input": "2022-03-06T01:21:09.970540Z",
     "iopub.status.busy": "2022-03-06T01:21:09.970242Z",
     "iopub.status.idle": "2022-03-06T01:21:10.728114Z",
     "shell.execute_reply": "2022-03-06T01:21:10.727606Z"
    },
    "papermill": {
     "duration": 0.776017,
     "end_time": "2022-03-06T01:21:10.728233",
     "exception": false,
     "start_time": "2022-03-06T01:21:09.952216",
     "status": "completed"
    },
    "tags": []
   },
   "outputs": [],
   "source": [
    "%load_ext autoreload\n",
    "%autoreload 2\n",
    "%matplotlib inline\n",
    "\n",
    "    \n",
    "import os, json, sys, time, random\n",
    "import numpy as np\n",
    "import torch\n",
    "from torch.optim import Adam\n",
    "from  easydict import EasyDict\n",
    "import matplotlib.pyplot as plt\n",
    "\n",
    "from steves_models.steves_ptn import Steves_Prototypical_Network\n",
    "\n",
    "from steves_utils.lazy_iterable_wrapper import Lazy_Iterable_Wrapper\n",
    "from steves_utils.iterable_aggregator import Iterable_Aggregator\n",
    "from steves_utils.ptn_train_eval_test_jig import  PTN_Train_Eval_Test_Jig\n",
    "from steves_utils.torch_sequential_builder import build_sequential\n",
    "from steves_utils.torch_utils import get_dataset_metrics, ptn_confusion_by_domain_over_dataloader\n",
    "from steves_utils.utils_v2 import (per_domain_accuracy_from_confusion, get_datasets_base_path)\n",
    "from steves_utils.PTN.utils import independent_accuracy_assesment\n",
    "\n",
    "from steves_utils.stratified_dataset.episodic_accessor import Episodic_Accessor_Factory\n",
    "\n",
    "from steves_utils.ptn_do_report import (\n",
    "    get_loss_curve,\n",
    "    get_results_table,\n",
    "    get_parameters_table,\n",
    "    get_domain_accuracies,\n",
    ")\n",
    "\n",
    "from steves_utils.transforms import get_chained_transform"
   ]
  },
  {
   "cell_type": "markdown",
   "id": "41c840b4",
   "metadata": {
    "papermill": {
     "duration": 0.009047,
     "end_time": "2022-03-06T01:21:10.750041",
     "exception": false,
     "start_time": "2022-03-06T01:21:10.740994",
     "status": "completed"
    },
    "tags": []
   },
   "source": [
    "# Required Parameters\n",
    "These are allowed parameters, not defaults\n",
    "Each of these values need to be present in the injected parameters (the notebook will raise an exception if they are not present)\n",
    "\n",
    "Papermill uses the cell tag \"parameters\" to inject the real parameters below this cell.\n",
    "Enable tags to see what I mean"
   ]
  },
  {
   "cell_type": "code",
   "execution_count": 2,
   "id": "fd44eb83",
   "metadata": {
    "execution": {
     "iopub.execute_input": "2022-03-06T01:21:10.771700Z",
     "iopub.status.busy": "2022-03-06T01:21:10.771430Z",
     "iopub.status.idle": "2022-03-06T01:21:10.784111Z",
     "shell.execute_reply": "2022-03-06T01:21:10.783664Z"
    },
    "papermill": {
     "duration": 0.025026,
     "end_time": "2022-03-06T01:21:10.784203",
     "exception": false,
     "start_time": "2022-03-06T01:21:10.759177",
     "status": "completed"
    },
    "tags": []
   },
   "outputs": [],
   "source": [
    "required_parameters = {\n",
    "    \"experiment_name\",\n",
    "    \"lr\",\n",
    "    \"device\",\n",
    "    \"seed\",\n",
    "    \"dataset_seed\",\n",
    "    \"labels_source\",\n",
    "    \"labels_target\",\n",
    "    \"domains_source\",\n",
    "    \"domains_target\",\n",
    "    \"num_examples_per_domain_per_label_source\",\n",
    "    \"num_examples_per_domain_per_label_target\",\n",
    "    \"n_shot\",\n",
    "    \"n_way\",\n",
    "    \"n_query\",\n",
    "    \"train_k_factor\",\n",
    "    \"val_k_factor\",\n",
    "    \"test_k_factor\",\n",
    "    \"n_epoch\",\n",
    "    \"patience\",\n",
    "    \"criteria_for_best\",\n",
    "    \"x_transforms_source\",\n",
    "    \"x_transforms_target\",\n",
    "    \"episode_transforms_source\",\n",
    "    \"episode_transforms_target\",\n",
    "    \"pickle_name\",\n",
    "    \"x_net\",\n",
    "    \"NUM_LOGS_PER_EPOCH\",\n",
    "    \"BEST_MODEL_PATH\",\n",
    "    \"torch_default_dtype\"\n",
    "}"
   ]
  },
  {
   "cell_type": "code",
   "execution_count": 3,
   "id": "fa3f0049",
   "metadata": {
    "execution": {
     "iopub.execute_input": "2022-03-06T01:21:10.815979Z",
     "iopub.status.busy": "2022-03-06T01:21:10.812709Z",
     "iopub.status.idle": "2022-03-06T01:21:10.826100Z",
     "shell.execute_reply": "2022-03-06T01:21:10.825654Z"
    },
    "papermill": {
     "duration": 0.028958,
     "end_time": "2022-03-06T01:21:10.826190",
     "exception": false,
     "start_time": "2022-03-06T01:21:10.797232",
     "status": "completed"
    },
    "tags": [
     "parameters"
    ]
   },
   "outputs": [],
   "source": [
    "\n",
    "\n",
    "standalone_parameters = {}\n",
    "standalone_parameters[\"experiment_name\"] = \"STANDALONE PTN\"\n",
    "standalone_parameters[\"lr\"] = 0.0001\n",
    "standalone_parameters[\"device\"] = \"cuda\"\n",
    "\n",
    "standalone_parameters[\"seed\"] = 1337\n",
    "standalone_parameters[\"dataset_seed\"] = 1337\n",
    "\n",
    "\n",
    "standalone_parameters[\"num_examples_per_domain_per_label_source\"]=100\n",
    "standalone_parameters[\"num_examples_per_domain_per_label_target\"]=100\n",
    "\n",
    "standalone_parameters[\"n_shot\"] = 3\n",
    "standalone_parameters[\"n_query\"]  = 2\n",
    "standalone_parameters[\"train_k_factor\"] = 1\n",
    "standalone_parameters[\"val_k_factor\"] = 2\n",
    "standalone_parameters[\"test_k_factor\"] = 2\n",
    "\n",
    "\n",
    "standalone_parameters[\"n_epoch\"] = 100\n",
    "\n",
    "standalone_parameters[\"patience\"] = 10\n",
    "standalone_parameters[\"criteria_for_best\"] = \"target_accuracy\"\n",
    "\n",
    "standalone_parameters[\"x_transforms_source\"] = [\"unit_power\"]\n",
    "standalone_parameters[\"x_transforms_target\"] = [\"unit_power\"]\n",
    "standalone_parameters[\"episode_transforms_source\"] = []\n",
    "standalone_parameters[\"episode_transforms_target\"] = []\n",
    "\n",
    "standalone_parameters[\"torch_default_dtype\"] = \"torch.float32\" \n",
    "\n",
    "\n",
    "\n",
    "standalone_parameters[\"x_net\"] =     [\n",
    "    {\"class\": \"nnReshape\", \"kargs\": {\"shape\":[-1, 1, 2, 256]}},\n",
    "    {\"class\": \"Conv2d\", \"kargs\": { \"in_channels\":1, \"out_channels\":256, \"kernel_size\":(1,7), \"bias\":False, \"padding\":(0,3), },},\n",
    "    {\"class\": \"ReLU\", \"kargs\": {\"inplace\": True}},\n",
    "    {\"class\": \"BatchNorm2d\", \"kargs\": {\"num_features\":256}},\n",
    "\n",
    "    {\"class\": \"Conv2d\", \"kargs\": { \"in_channels\":256, \"out_channels\":80, \"kernel_size\":(2,7), \"bias\":True, \"padding\":(0,3), },},\n",
    "    {\"class\": \"ReLU\", \"kargs\": {\"inplace\": True}},\n",
    "    {\"class\": \"BatchNorm2d\", \"kargs\": {\"num_features\":80}},\n",
    "    {\"class\": \"Flatten\", \"kargs\": {}},\n",
    "\n",
    "    {\"class\": \"Linear\", \"kargs\": {\"in_features\": 80*256, \"out_features\": 256}}, # 80 units per IQ pair\n",
    "    {\"class\": \"ReLU\", \"kargs\": {\"inplace\": True}},\n",
    "    {\"class\": \"BatchNorm1d\", \"kargs\": {\"num_features\":256}},\n",
    "\n",
    "    {\"class\": \"Linear\", \"kargs\": {\"in_features\": 256, \"out_features\": 256}},\n",
    "]\n",
    "\n",
    "# Parameters relevant to results\n",
    "# These parameters will basically never need to change\n",
    "standalone_parameters[\"NUM_LOGS_PER_EPOCH\"] = 10\n",
    "standalone_parameters[\"BEST_MODEL_PATH\"] = \"./best_model.pth\"\n",
    "\n",
    "# uncomment for CORES dataset\n",
    "from steves_utils.CORES.utils import (\n",
    "    ALL_NODES,\n",
    "    ALL_NODES_MINIMUM_1000_EXAMPLES,\n",
    "    ALL_DAYS\n",
    ")\n",
    "\n",
    "\n",
    "standalone_parameters[\"labels_source\"] = ALL_NODES\n",
    "standalone_parameters[\"labels_target\"] = ALL_NODES\n",
    "\n",
    "standalone_parameters[\"domains_source\"] = [1]\n",
    "standalone_parameters[\"domains_target\"] = [2,3,4,5]\n",
    "\n",
    "standalone_parameters[\"pickle_name\"] = \"cores.stratified_ds.2022A.pkl\"\n",
    "\n",
    "\n",
    "# Uncomment these for ORACLE dataset\n",
    "# from steves_utils.ORACLE.utils_v2 import (\n",
    "#     ALL_DISTANCES_FEET,\n",
    "#     ALL_RUNS,\n",
    "#     ALL_SERIAL_NUMBERS,\n",
    "# )\n",
    "# standalone_parameters[\"labels_source\"] = ALL_SERIAL_NUMBERS\n",
    "# standalone_parameters[\"labels_target\"] = ALL_SERIAL_NUMBERS\n",
    "# standalone_parameters[\"domains_source\"] = [8,20, 38,50]\n",
    "# standalone_parameters[\"domains_target\"] = [14, 26, 32, 44, 56]\n",
    "# standalone_parameters[\"pickle_name\"] = \"oracle.frame_indexed.stratified_ds.2022A.pkl\"\n",
    "# standalone_parameters[\"num_examples_per_domain_per_label_source\"]=1000\n",
    "# standalone_parameters[\"num_examples_per_domain_per_label_target\"]=1000\n",
    "\n",
    "# Uncomment these for Metahan dataset\n",
    "# standalone_parameters[\"labels_source\"] = list(range(19))\n",
    "# standalone_parameters[\"labels_target\"] = list(range(19))\n",
    "# standalone_parameters[\"domains_source\"] = [0]\n",
    "# standalone_parameters[\"domains_target\"] = [1]\n",
    "# standalone_parameters[\"pickle_name\"] = \"metehan.stratified_ds.2022A.pkl\"\n",
    "# standalone_parameters[\"n_way\"]  = len(standalone_parameters[\"labels_source\"])\n",
    "# standalone_parameters[\"num_examples_per_domain_per_label_source\"]=200\n",
    "# standalone_parameters[\"num_examples_per_domain_per_label_target\"]=100\n",
    "\n",
    "\n",
    "standalone_parameters[\"n_way\"]  = len(standalone_parameters[\"labels_source\"])"
   ]
  },
  {
   "cell_type": "code",
   "execution_count": 4,
   "id": "e0b2e5d2",
   "metadata": {
    "execution": {
     "iopub.execute_input": "2022-03-06T01:21:10.855659Z",
     "iopub.status.busy": "2022-03-06T01:21:10.850349Z",
     "iopub.status.idle": "2022-03-06T01:21:10.866182Z",
     "shell.execute_reply": "2022-03-06T01:21:10.865822Z"
    },
    "papermill": {
     "duration": 0.02665,
     "end_time": "2022-03-06T01:21:10.866254",
     "exception": false,
     "start_time": "2022-03-06T01:21:10.839604",
     "status": "completed"
    },
    "tags": [
     "injected-parameters"
    ]
   },
   "outputs": [],
   "source": [
    "# Parameters\n",
    "parameters = {\n",
    "    \"experiment_name\": \"tuned_1_oracle.run2.framed\",\n",
    "    \"device\": \"cuda\",\n",
    "    \"lr\": 0.001,\n",
    "    \"seed\": 1337,\n",
    "    \"dataset_seed\": 1337,\n",
    "    \"labels_source\": [\n",
    "        \"3123D52\",\n",
    "        \"3123D65\",\n",
    "        \"3123D79\",\n",
    "        \"3123D80\",\n",
    "        \"3123D54\",\n",
    "        \"3123D70\",\n",
    "        \"3123D7B\",\n",
    "        \"3123D89\",\n",
    "        \"3123D58\",\n",
    "        \"3123D76\",\n",
    "        \"3123D7D\",\n",
    "        \"3123EFE\",\n",
    "        \"3123D64\",\n",
    "        \"3123D78\",\n",
    "        \"3123D7E\",\n",
    "        \"3124E4A\",\n",
    "    ],\n",
    "    \"labels_target\": [\n",
    "        \"3123D52\",\n",
    "        \"3123D65\",\n",
    "        \"3123D79\",\n",
    "        \"3123D80\",\n",
    "        \"3123D54\",\n",
    "        \"3123D70\",\n",
    "        \"3123D7B\",\n",
    "        \"3123D89\",\n",
    "        \"3123D58\",\n",
    "        \"3123D76\",\n",
    "        \"3123D7D\",\n",
    "        \"3123EFE\",\n",
    "        \"3123D64\",\n",
    "        \"3123D78\",\n",
    "        \"3123D7E\",\n",
    "        \"3124E4A\",\n",
    "    ],\n",
    "    \"x_transforms_source\": [\"unit_mag\"],\n",
    "    \"x_transforms_target\": [\"unit_mag\"],\n",
    "    \"episode_transforms_source\": [],\n",
    "    \"episode_transforms_target\": [],\n",
    "    \"domains_source\": [8, 32, 50],\n",
    "    \"domains_target\": [14, 20, 26, 38, 44],\n",
    "    \"num_examples_per_domain_per_label_source\": 1300,\n",
    "    \"num_examples_per_domain_per_label_target\": 1300,\n",
    "    \"n_shot\": 3,\n",
    "    \"n_way\": 16,\n",
    "    \"n_query\": 2,\n",
    "    \"train_k_factor\": 3,\n",
    "    \"val_k_factor\": 2,\n",
    "    \"test_k_factor\": 2,\n",
    "    \"torch_default_dtype\": \"torch.float32\",\n",
    "    \"n_epoch\": 50,\n",
    "    \"patience\": 3,\n",
    "    \"criteria_for_best\": \"target_loss\",\n",
    "    \"x_net\": [\n",
    "        {\"class\": \"nnReshape\", \"kargs\": {\"shape\": [-1, 1, 2, 256]}},\n",
    "        {\n",
    "            \"class\": \"Conv2d\",\n",
    "            \"kargs\": {\n",
    "                \"in_channels\": 1,\n",
    "                \"out_channels\": 256,\n",
    "                \"kernel_size\": [1, 7],\n",
    "                \"bias\": False,\n",
    "                \"padding\": [0, 3],\n",
    "            },\n",
    "        },\n",
    "        {\"class\": \"ReLU\", \"kargs\": {\"inplace\": True}},\n",
    "        {\"class\": \"BatchNorm2d\", \"kargs\": {\"num_features\": 256}},\n",
    "        {\n",
    "            \"class\": \"Conv2d\",\n",
    "            \"kargs\": {\n",
    "                \"in_channels\": 256,\n",
    "                \"out_channels\": 80,\n",
    "                \"kernel_size\": [2, 7],\n",
    "                \"bias\": True,\n",
    "                \"padding\": [0, 3],\n",
    "            },\n",
    "        },\n",
    "        {\"class\": \"ReLU\", \"kargs\": {\"inplace\": True}},\n",
    "        {\"class\": \"BatchNorm2d\", \"kargs\": {\"num_features\": 80}},\n",
    "        {\"class\": \"Flatten\", \"kargs\": {}},\n",
    "        {\"class\": \"Linear\", \"kargs\": {\"in_features\": 20480, \"out_features\": 256}},\n",
    "        {\"class\": \"ReLU\", \"kargs\": {\"inplace\": True}},\n",
    "        {\"class\": \"BatchNorm1d\", \"kargs\": {\"num_features\": 256}},\n",
    "        {\"class\": \"Linear\", \"kargs\": {\"in_features\": 256, \"out_features\": 256}},\n",
    "    ],\n",
    "    \"NUM_LOGS_PER_EPOCH\": 10,\n",
    "    \"BEST_MODEL_PATH\": \"./best_model.pth\",\n",
    "    \"pickle_name\": \"oracle.Run2_framed_1300Examples_stratified_ds.2022A.pkl\",\n",
    "}\n"
   ]
  },
  {
   "cell_type": "code",
   "execution_count": 5,
   "id": "8fa1cc33",
   "metadata": {
    "execution": {
     "iopub.execute_input": "2022-03-06T01:21:10.905298Z",
     "iopub.status.busy": "2022-03-06T01:21:10.904761Z",
     "iopub.status.idle": "2022-03-06T01:21:10.906471Z",
     "shell.execute_reply": "2022-03-06T01:21:10.905995Z"
    },
    "papermill": {
     "duration": 0.025062,
     "end_time": "2022-03-06T01:21:10.906575",
     "exception": false,
     "start_time": "2022-03-06T01:21:10.881513",
     "status": "completed"
    },
    "tags": []
   },
   "outputs": [],
   "source": [
    "# Set this to True if you want to run this template directly\n",
    "STANDALONE = False\n",
    "if STANDALONE:\n",
    "    print(\"parameters not injected, running with standalone_parameters\")\n",
    "    parameters = standalone_parameters\n",
    "\n",
    "if not 'parameters' in locals() and not 'parameters' in globals():\n",
    "    raise Exception(\"Parameter injection failed\")\n",
    "\n",
    "#Use an easy dict for all the parameters\n",
    "p = EasyDict(parameters)\n",
    "\n",
    "supplied_keys = set(p.keys())\n",
    "\n",
    "if  supplied_keys != required_parameters:\n",
    "    print(\"Parameters are incorrect\")\n",
    "    if len(supplied_keys - required_parameters)>0: print(\"Shouldn't have:\", str(supplied_keys - required_parameters))\n",
    "    if len(required_parameters - supplied_keys)>0: print(\"Need to have:\", str(required_parameters - supplied_keys))\n",
    "    raise RuntimeError(\"Parameters are incorrect\")\n",
    "\n"
   ]
  },
  {
   "cell_type": "code",
   "execution_count": 6,
   "id": "3a028d58",
   "metadata": {
    "execution": {
     "iopub.execute_input": "2022-03-06T01:21:10.940313Z",
     "iopub.status.busy": "2022-03-06T01:21:10.940058Z",
     "iopub.status.idle": "2022-03-06T01:21:10.944944Z",
     "shell.execute_reply": "2022-03-06T01:21:10.944635Z"
    },
    "papermill": {
     "duration": 0.024806,
     "end_time": "2022-03-06T01:21:10.945019",
     "exception": false,
     "start_time": "2022-03-06T01:21:10.920213",
     "status": "completed"
    },
    "tags": []
   },
   "outputs": [],
   "source": [
    "###################################\n",
    "# Set the RNGs and make it all deterministic\n",
    "###################################\n",
    "np.random.seed(p.seed)\n",
    "random.seed(p.seed)\n",
    "torch.manual_seed(p.seed)\n",
    "\n",
    "torch.use_deterministic_algorithms(True) "
   ]
  },
  {
   "cell_type": "code",
   "execution_count": 7,
   "id": "b691acf6",
   "metadata": {
    "execution": {
     "iopub.execute_input": "2022-03-06T01:21:10.968341Z",
     "iopub.status.busy": "2022-03-06T01:21:10.967437Z",
     "iopub.status.idle": "2022-03-06T01:21:10.981237Z",
     "shell.execute_reply": "2022-03-06T01:21:10.980988Z"
    },
    "papermill": {
     "duration": 0.024408,
     "end_time": "2022-03-06T01:21:10.981287",
     "exception": false,
     "start_time": "2022-03-06T01:21:10.956879",
     "status": "completed"
    },
    "tags": []
   },
   "outputs": [],
   "source": [
    "###########################################\n",
    "# The stratified datasets honor this\n",
    "###########################################\n",
    "torch.set_default_dtype(eval(p.torch_default_dtype))"
   ]
  },
  {
   "cell_type": "code",
   "execution_count": 8,
   "id": "b5fba671",
   "metadata": {
    "execution": {
     "iopub.execute_input": "2022-03-06T01:21:11.004775Z",
     "iopub.status.busy": "2022-03-06T01:21:11.004467Z",
     "iopub.status.idle": "2022-03-06T01:21:11.044636Z",
     "shell.execute_reply": "2022-03-06T01:21:11.044192Z"
    },
    "papermill": {
     "duration": 0.051481,
     "end_time": "2022-03-06T01:21:11.044727",
     "exception": false,
     "start_time": "2022-03-06T01:21:10.993246",
     "status": "completed"
    },
    "tags": []
   },
   "outputs": [],
   "source": [
    "###################################\n",
    "# Build the network(s)\n",
    "# Note: It's critical to do this AFTER setting the RNG\n",
    "# (This is due to the randomized initial weights)\n",
    "###################################\n",
    "x_net = build_sequential(p.x_net)"
   ]
  },
  {
   "cell_type": "code",
   "execution_count": 9,
   "id": "5d7e61cc",
   "metadata": {
    "execution": {
     "iopub.execute_input": "2022-03-06T01:21:11.071282Z",
     "iopub.status.busy": "2022-03-06T01:21:11.070824Z",
     "iopub.status.idle": "2022-03-06T01:21:11.084145Z",
     "shell.execute_reply": "2022-03-06T01:21:11.083789Z"
    },
    "papermill": {
     "duration": 0.024832,
     "end_time": "2022-03-06T01:21:11.084216",
     "exception": false,
     "start_time": "2022-03-06T01:21:11.059384",
     "status": "completed"
    },
    "tags": []
   },
   "outputs": [],
   "source": [
    "start_time_secs = time.time()"
   ]
  },
  {
   "cell_type": "code",
   "execution_count": 10,
   "id": "fd5442bc",
   "metadata": {
    "execution": {
     "iopub.execute_input": "2022-03-06T01:21:11.116808Z",
     "iopub.status.busy": "2022-03-06T01:21:11.113217Z",
     "iopub.status.idle": "2022-03-06T01:21:22.239161Z",
     "shell.execute_reply": "2022-03-06T01:21:22.238643Z"
    },
    "papermill": {
     "duration": 11.142076,
     "end_time": "2022-03-06T01:21:22.239271",
     "exception": false,
     "start_time": "2022-03-06T01:21:11.097195",
     "status": "completed"
    },
    "tags": []
   },
   "outputs": [],
   "source": [
    "###################################\n",
    "# Build the dataset\n",
    "###################################\n",
    "\n",
    "if p.x_transforms_source == []: x_transform_source = None\n",
    "else: x_transform_source = get_chained_transform(p.x_transforms_source) \n",
    "\n",
    "if p.x_transforms_target == []: x_transform_target = None\n",
    "else: x_transform_target = get_chained_transform(p.x_transforms_target)\n",
    "\n",
    "if p.episode_transforms_source == []: episode_transform_source = None\n",
    "else: raise Exception(\"episode_transform_source not implemented\")\n",
    "\n",
    "if p.episode_transforms_target == []: episode_transform_target = None\n",
    "else: raise Exception(\"episode_transform_target not implemented\")\n",
    "\n",
    "\n",
    "eaf_source = Episodic_Accessor_Factory(\n",
    "    labels=p.labels_source,\n",
    "    domains=p.domains_source,\n",
    "    num_examples_per_domain_per_label=p.num_examples_per_domain_per_label_source,\n",
    "    iterator_seed=p.seed,\n",
    "    dataset_seed=p.dataset_seed,\n",
    "    n_shot=p.n_shot,\n",
    "    n_way=p.n_way,\n",
    "    n_query=p.n_query,\n",
    "    train_val_test_k_factors=(p.train_k_factor,p.val_k_factor,p.test_k_factor),\n",
    "    pickle_path=os.path.join(get_datasets_base_path(), p.pickle_name),\n",
    "    x_transform_func=x_transform_source,\n",
    "    example_transform_func=episode_transform_source,\n",
    "    \n",
    ")\n",
    "train_original_source, val_original_source, test_original_source = eaf_source.get_train(), eaf_source.get_val(), eaf_source.get_test()\n",
    "\n",
    "\n",
    "eaf_target = Episodic_Accessor_Factory(\n",
    "    labels=p.labels_target,\n",
    "    domains=p.domains_target,\n",
    "    num_examples_per_domain_per_label=p.num_examples_per_domain_per_label_target,\n",
    "    iterator_seed=p.seed,\n",
    "    dataset_seed=p.dataset_seed,\n",
    "    n_shot=p.n_shot,\n",
    "    n_way=p.n_way,\n",
    "    n_query=p.n_query,\n",
    "    train_val_test_k_factors=(p.train_k_factor,p.val_k_factor,p.test_k_factor),\n",
    "    pickle_path=os.path.join(get_datasets_base_path(), p.pickle_name),\n",
    "    x_transform_func=x_transform_target,\n",
    "    example_transform_func=episode_transform_target,\n",
    ")\n",
    "train_original_target, val_original_target, test_original_target = eaf_target.get_train(), eaf_target.get_val(), eaf_target.get_test()\n",
    "\n",
    "\n",
    "transform_lambda = lambda ex: ex[1] # Original is (<domain>, <episode>) so we strip down to episode only\n",
    "\n",
    "train_processed_source = Lazy_Iterable_Wrapper(train_original_source, transform_lambda)\n",
    "val_processed_source   = Lazy_Iterable_Wrapper(val_original_source, transform_lambda)\n",
    "test_processed_source  = Lazy_Iterable_Wrapper(test_original_source, transform_lambda)\n",
    "\n",
    "train_processed_target = Lazy_Iterable_Wrapper(train_original_target, transform_lambda)\n",
    "val_processed_target   = Lazy_Iterable_Wrapper(val_original_target, transform_lambda)\n",
    "test_processed_target  = Lazy_Iterable_Wrapper(test_original_target, transform_lambda)\n",
    "\n",
    "datasets = EasyDict({\n",
    "    \"source\": {\n",
    "        \"original\": {\"train\":train_original_source, \"val\":val_original_source, \"test\":test_original_source},\n",
    "        \"processed\": {\"train\":train_processed_source, \"val\":val_processed_source, \"test\":test_processed_source}\n",
    "    },\n",
    "    \"target\": {\n",
    "        \"original\": {\"train\":train_original_target, \"val\":val_original_target, \"test\":test_original_target},\n",
    "        \"processed\": {\"train\":train_processed_target, \"val\":val_processed_target, \"test\":test_processed_target}\n",
    "    },\n",
    "})"
   ]
  },
  {
   "cell_type": "code",
   "execution_count": 11,
   "id": "296189d9",
   "metadata": {
    "execution": {
     "iopub.execute_input": "2022-03-06T01:21:22.275806Z",
     "iopub.status.busy": "2022-03-06T01:21:22.275326Z",
     "iopub.status.idle": "2022-03-06T01:21:23.929290Z",
     "shell.execute_reply": "2022-03-06T01:21:23.928767Z"
    },
    "papermill": {
     "duration": 1.672681,
     "end_time": "2022-03-06T01:21:23.929398",
     "exception": false,
     "start_time": "2022-03-06T01:21:22.256717",
     "status": "completed"
    },
    "tags": []
   },
   "outputs": [
    {
     "name": "stdout",
     "output_type": "stream",
     "text": [
      "Visually inspect these to see if they line up with expected values given the transforms\n",
      "x_transforms_source ['unit_mag']\n",
      "x_transforms_target ['unit_mag']\n",
      "Average magnitude, source: 1.0\n",
      "Average power, source: 1.2592183\n"
     ]
    },
    {
     "name": "stdout",
     "output_type": "stream",
     "text": [
      "Average magnitude, target: 1.0\n",
      "Average power, target: 1.2369099\n"
     ]
    }
   ],
   "source": [
    "# Some quick unit tests on the data\n",
    "from steves_utils.transforms import get_average_power, get_average_magnitude\n",
    "\n",
    "q_x, q_y, s_x, s_y, truth = next(iter(train_processed_source))\n",
    "\n",
    "assert q_x.dtype == eval(p.torch_default_dtype)\n",
    "assert s_x.dtype == eval(p.torch_default_dtype)\n",
    "\n",
    "print(\"Visually inspect these to see if they line up with expected values given the transforms\")\n",
    "print('x_transforms_source', p.x_transforms_source)\n",
    "print('x_transforms_target', p.x_transforms_target)\n",
    "print(\"Average magnitude, source:\", get_average_magnitude(q_x[0].numpy()))\n",
    "print(\"Average power, source:\", get_average_power(q_x[0].numpy()))\n",
    "\n",
    "q_x, q_y, s_x, s_y, truth = next(iter(train_processed_target))\n",
    "print(\"Average magnitude, target:\", get_average_magnitude(q_x[0].numpy()))\n",
    "print(\"Average power, target:\", get_average_power(q_x[0].numpy()))\n"
   ]
  },
  {
   "cell_type": "code",
   "execution_count": 12,
   "id": "bbdacba1",
   "metadata": {
    "execution": {
     "iopub.execute_input": "2022-03-06T01:21:23.962850Z",
     "iopub.status.busy": "2022-03-06T01:21:23.962492Z",
     "iopub.status.idle": "2022-03-06T01:21:24.022005Z",
     "shell.execute_reply": "2022-03-06T01:21:24.021489Z"
    },
    "papermill": {
     "duration": 0.073431,
     "end_time": "2022-03-06T01:21:24.022115",
     "exception": false,
     "start_time": "2022-03-06T01:21:23.948684",
     "status": "completed"
    },
    "tags": []
   },
   "outputs": [
    {
     "name": "stdout",
     "output_type": "stream",
     "text": [
      "(2, 256)\n"
     ]
    }
   ],
   "source": [
    "###################################\n",
    "# Build the model\n",
    "###################################\n",
    "model = Steves_Prototypical_Network(x_net, device=p.device, x_shape=(2,256))\n",
    "optimizer = Adam(params=model.parameters(), lr=p.lr)"
   ]
  },
  {
   "cell_type": "code",
   "execution_count": 13,
   "id": "22b39ac5",
   "metadata": {
    "execution": {
     "iopub.execute_input": "2022-03-06T01:21:24.051266Z",
     "iopub.status.busy": "2022-03-06T01:21:24.050981Z",
     "iopub.status.idle": "2022-03-06T01:25:18.245020Z",
     "shell.execute_reply": "2022-03-06T01:25:18.245413Z"
    },
    "papermill": {
     "duration": 234.208893,
     "end_time": "2022-03-06T01:25:18.245539",
     "exception": false,
     "start_time": "2022-03-06T01:21:24.036646",
     "status": "completed"
    },
    "tags": []
   },
   "outputs": [
    {
     "name": "stdout",
     "output_type": "stream",
     "text": [
      "epoch: 1, [batch: 1 / 1629], examples_per_second: 177.9477, train_label_loss: 2.8129, \n"
     ]
    },
    {
     "name": "stdout",
     "output_type": "stream",
     "text": [
      "epoch: 1, [batch: 163 / 1629], examples_per_second: 3098.7765, train_label_loss: 2.7829, \n"
     ]
    },
    {
     "name": "stdout",
     "output_type": "stream",
     "text": [
      "epoch: 1, [batch: 326 / 1629], examples_per_second: 3117.8724, train_label_loss: 1.8171, \n"
     ]
    },
    {
     "name": "stdout",
     "output_type": "stream",
     "text": [
      "epoch: 1, [batch: 489 / 1629], examples_per_second: 3091.8237, train_label_loss: 1.3674, \n"
     ]
    },
    {
     "name": "stdout",
     "output_type": "stream",
     "text": [
      "epoch: 1, [batch: 652 / 1629], examples_per_second: 3096.2385, train_label_loss: 1.3112, \n"
     ]
    },
    {
     "name": "stdout",
     "output_type": "stream",
     "text": [
      "epoch: 1, [batch: 815 / 1629], examples_per_second: 3133.7241, train_label_loss: 1.4477, \n"
     ]
    },
    {
     "name": "stdout",
     "output_type": "stream",
     "text": [
      "epoch: 1, [batch: 977 / 1629], examples_per_second: 3129.8698, train_label_loss: 1.0911, \n"
     ]
    },
    {
     "name": "stdout",
     "output_type": "stream",
     "text": [
      "epoch: 1, [batch: 1140 / 1629], examples_per_second: 3134.5815, train_label_loss: 1.0445, \n"
     ]
    },
    {
     "name": "stdout",
     "output_type": "stream",
     "text": [
      "epoch: 1, [batch: 1303 / 1629], examples_per_second: 3153.8175, train_label_loss: 1.3169, \n"
     ]
    },
    {
     "name": "stdout",
     "output_type": "stream",
     "text": [
      "epoch: 1, [batch: 1466 / 1629], examples_per_second: 3150.4166, train_label_loss: 0.8069, \n"
     ]
    },
    {
     "name": "stdout",
     "output_type": "stream",
     "text": [
      "=============================================================\n",
      "epoch: 1, source_val_acc_label: 0.5593, target_val_acc_label: 0.2823, source_val_label_loss: 1.0184, target_val_label_loss: 2.1245, \n",
      "=============================================================\n"
     ]
    },
    {
     "name": "stdout",
     "output_type": "stream",
     "text": [
      "New best\n"
     ]
    },
    {
     "name": "stdout",
     "output_type": "stream",
     "text": [
      "epoch: 2, [batch: 1 / 1629], examples_per_second: 16.7479, train_label_loss: 1.0834, \n"
     ]
    },
    {
     "name": "stdout",
     "output_type": "stream",
     "text": [
      "epoch: 2, [batch: 163 / 1629], examples_per_second: 3167.9109, train_label_loss: 1.0037, \n"
     ]
    },
    {
     "name": "stdout",
     "output_type": "stream",
     "text": [
      "epoch: 2, [batch: 326 / 1629], examples_per_second: 3176.2968, train_label_loss: 0.6133, \n"
     ]
    },
    {
     "name": "stdout",
     "output_type": "stream",
     "text": [
      "epoch: 2, [batch: 489 / 1629], examples_per_second: 3176.7349, train_label_loss: 0.8946, \n"
     ]
    },
    {
     "name": "stdout",
     "output_type": "stream",
     "text": [
      "epoch: 2, [batch: 652 / 1629], examples_per_second: 3147.9893, train_label_loss: 0.7059, \n"
     ]
    },
    {
     "name": "stdout",
     "output_type": "stream",
     "text": [
      "epoch: 2, [batch: 815 / 1629], examples_per_second: 3158.6799, train_label_loss: 0.7691, \n"
     ]
    },
    {
     "name": "stdout",
     "output_type": "stream",
     "text": [
      "epoch: 2, [batch: 977 / 1629], examples_per_second: 3136.2369, train_label_loss: 0.3181, \n"
     ]
    },
    {
     "name": "stdout",
     "output_type": "stream",
     "text": [
      "epoch: 2, [batch: 1140 / 1629], examples_per_second: 3128.6937, train_label_loss: 0.6521, \n"
     ]
    },
    {
     "name": "stdout",
     "output_type": "stream",
     "text": [
      "epoch: 2, [batch: 1303 / 1629], examples_per_second: 3139.1810, train_label_loss: 0.7990, \n"
     ]
    },
    {
     "name": "stdout",
     "output_type": "stream",
     "text": [
      "epoch: 2, [batch: 1466 / 1629], examples_per_second: 3149.2625, train_label_loss: 0.6246, \n"
     ]
    },
    {
     "name": "stdout",
     "output_type": "stream",
     "text": [
      "=============================================================\n",
      "epoch: 2, source_val_acc_label: 0.8634, target_val_acc_label: 0.3827, source_val_label_loss: 0.3782, target_val_label_loss: 2.5414, \n",
      "=============================================================\n"
     ]
    },
    {
     "name": "stdout",
     "output_type": "stream",
     "text": [
      "epoch: 3, [batch: 1 / 1629], examples_per_second: 16.8393, train_label_loss: 0.6196, \n"
     ]
    },
    {
     "name": "stdout",
     "output_type": "stream",
     "text": [
      "epoch: 3, [batch: 163 / 1629], examples_per_second: 3131.2436, train_label_loss: 0.2226, \n"
     ]
    },
    {
     "name": "stdout",
     "output_type": "stream",
     "text": [
      "epoch: 3, [batch: 326 / 1629], examples_per_second: 3144.5469, train_label_loss: 0.2457, \n"
     ]
    },
    {
     "name": "stdout",
     "output_type": "stream",
     "text": [
      "epoch: 3, [batch: 489 / 1629], examples_per_second: 3139.9301, train_label_loss: 0.3056, \n"
     ]
    },
    {
     "name": "stdout",
     "output_type": "stream",
     "text": [
      "epoch: 3, [batch: 652 / 1629], examples_per_second: 3119.1057, train_label_loss: 0.3419, \n"
     ]
    },
    {
     "name": "stdout",
     "output_type": "stream",
     "text": [
      "epoch: 3, [batch: 815 / 1629], examples_per_second: 3147.1418, train_label_loss: 0.0373, \n"
     ]
    },
    {
     "name": "stdout",
     "output_type": "stream",
     "text": [
      "epoch: 3, [batch: 977 / 1629], examples_per_second: 3145.3356, train_label_loss: 0.1465, \n"
     ]
    },
    {
     "name": "stdout",
     "output_type": "stream",
     "text": [
      "epoch: 3, [batch: 1140 / 1629], examples_per_second: 3149.9967, train_label_loss: 0.2628, \n"
     ]
    },
    {
     "name": "stdout",
     "output_type": "stream",
     "text": [
      "epoch: 3, [batch: 1303 / 1629], examples_per_second: 3159.9070, train_label_loss: 0.0646, \n"
     ]
    },
    {
     "name": "stdout",
     "output_type": "stream",
     "text": [
      "epoch: 3, [batch: 1466 / 1629], examples_per_second: 3148.4453, train_label_loss: 0.0347, \n"
     ]
    },
    {
     "name": "stdout",
     "output_type": "stream",
     "text": [
      "=============================================================\n",
      "epoch: 3, source_val_acc_label: 0.9339, target_val_acc_label: 0.3993, source_val_label_loss: 0.1871, target_val_label_loss: 3.0402, \n",
      "=============================================================\n"
     ]
    },
    {
     "name": "stdout",
     "output_type": "stream",
     "text": [
      "epoch: 4, [batch: 1 / 1629], examples_per_second: 16.8792, train_label_loss: 0.0128, \n"
     ]
    },
    {
     "name": "stdout",
     "output_type": "stream",
     "text": [
      "epoch: 4, [batch: 163 / 1629], examples_per_second: 3147.4081, train_label_loss: 0.0097, \n"
     ]
    },
    {
     "name": "stdout",
     "output_type": "stream",
     "text": [
      "epoch: 4, [batch: 326 / 1629], examples_per_second: 3120.9573, train_label_loss: 0.0213, \n"
     ]
    },
    {
     "name": "stdout",
     "output_type": "stream",
     "text": [
      "epoch: 4, [batch: 489 / 1629], examples_per_second: 3120.3124, train_label_loss: 0.1111, \n"
     ]
    },
    {
     "name": "stdout",
     "output_type": "stream",
     "text": [
      "epoch: 4, [batch: 652 / 1629], examples_per_second: 3126.0816, train_label_loss: 0.1617, \n"
     ]
    },
    {
     "name": "stdout",
     "output_type": "stream",
     "text": [
      "epoch: 4, [batch: 815 / 1629], examples_per_second: 3144.4607, train_label_loss: 0.1404, \n"
     ]
    },
    {
     "name": "stdout",
     "output_type": "stream",
     "text": [
      "epoch: 4, [batch: 977 / 1629], examples_per_second: 3128.5831, train_label_loss: 0.0837, \n"
     ]
    },
    {
     "name": "stdout",
     "output_type": "stream",
     "text": [
      "epoch: 4, [batch: 1140 / 1629], examples_per_second: 3126.4873, train_label_loss: 0.0768, \n"
     ]
    },
    {
     "name": "stdout",
     "output_type": "stream",
     "text": [
      "epoch: 4, [batch: 1303 / 1629], examples_per_second: 3114.3315, train_label_loss: 0.2107, \n"
     ]
    },
    {
     "name": "stdout",
     "output_type": "stream",
     "text": [
      "epoch: 4, [batch: 1466 / 1629], examples_per_second: 3133.6742, train_label_loss: 0.0886, \n"
     ]
    },
    {
     "name": "stdout",
     "output_type": "stream",
     "text": [
      "=============================================================\n",
      "epoch: 4, source_val_acc_label: 0.9643, target_val_acc_label: 0.4005, source_val_label_loss: 0.1010, target_val_label_loss: 3.1770, \n",
      "=============================================================\n"
     ]
    },
    {
     "name": "stdout",
     "output_type": "stream",
     "text": [
      "epoch: 5, [batch: 1 / 1629], examples_per_second: 16.8845, train_label_loss: 0.0246, \n"
     ]
    },
    {
     "name": "stdout",
     "output_type": "stream",
     "text": [
      "epoch: 5, [batch: 163 / 1629], examples_per_second: 3145.3658, train_label_loss: 0.2309, \n"
     ]
    },
    {
     "name": "stdout",
     "output_type": "stream",
     "text": [
      "epoch: 5, [batch: 326 / 1629], examples_per_second: 3136.6838, train_label_loss: 0.1437, \n"
     ]
    },
    {
     "name": "stdout",
     "output_type": "stream",
     "text": [
      "epoch: 5, [batch: 489 / 1629], examples_per_second: 3156.9672, train_label_loss: 0.0305, \n"
     ]
    },
    {
     "name": "stdout",
     "output_type": "stream",
     "text": [
      "epoch: 5, [batch: 652 / 1629], examples_per_second: 3122.4771, train_label_loss: 0.1657, \n"
     ]
    },
    {
     "name": "stdout",
     "output_type": "stream",
     "text": [
      "epoch: 5, [batch: 815 / 1629], examples_per_second: 3152.1498, train_label_loss: 0.0104, \n"
     ]
    },
    {
     "name": "stdout",
     "output_type": "stream",
     "text": [
      "epoch: 5, [batch: 977 / 1629], examples_per_second: 3151.6441, train_label_loss: 0.0247, \n"
     ]
    },
    {
     "name": "stdout",
     "output_type": "stream",
     "text": [
      "epoch: 5, [batch: 1140 / 1629], examples_per_second: 3143.9352, train_label_loss: 0.2946, \n"
     ]
    },
    {
     "name": "stdout",
     "output_type": "stream",
     "text": [
      "epoch: 5, [batch: 1303 / 1629], examples_per_second: 3152.6086, train_label_loss: 0.0010, \n"
     ]
    },
    {
     "name": "stdout",
     "output_type": "stream",
     "text": [
      "epoch: 5, [batch: 1466 / 1629], examples_per_second: 3155.4482, train_label_loss: 0.0151, \n"
     ]
    },
    {
     "name": "stdout",
     "output_type": "stream",
     "text": [
      "=============================================================\n",
      "epoch: 5, source_val_acc_label: 0.9679, target_val_acc_label: 0.3998, source_val_label_loss: 0.0960, target_val_label_loss: 3.4543, \n",
      "=============================================================\n"
     ]
    },
    {
     "name": "stdout",
     "output_type": "stream",
     "text": [
      "Patience (3) exhausted\n"
     ]
    }
   ],
   "source": [
    "###################################\n",
    "# train\n",
    "###################################\n",
    "jig = PTN_Train_Eval_Test_Jig(model, p.BEST_MODEL_PATH, p.device)\n",
    "\n",
    "jig.train(\n",
    "    train_iterable=datasets.source.processed.train,\n",
    "    source_val_iterable=datasets.source.processed.val,\n",
    "    target_val_iterable=datasets.target.processed.val,\n",
    "    num_epochs=p.n_epoch,\n",
    "    num_logs_per_epoch=p.NUM_LOGS_PER_EPOCH,\n",
    "    patience=p.patience,\n",
    "    optimizer=optimizer,\n",
    "    criteria_for_best=p.criteria_for_best,\n",
    ")"
   ]
  },
  {
   "cell_type": "code",
   "execution_count": 14,
   "id": "31e8fabf",
   "metadata": {
    "execution": {
     "iopub.execute_input": "2022-03-06T01:25:18.293737Z",
     "iopub.status.busy": "2022-03-06T01:25:18.293477Z",
     "iopub.status.idle": "2022-03-06T01:25:18.309852Z",
     "shell.execute_reply": "2022-03-06T01:25:18.310212Z"
    },
    "papermill": {
     "duration": 0.040004,
     "end_time": "2022-03-06T01:25:18.310322",
     "exception": false,
     "start_time": "2022-03-06T01:25:18.270318",
     "status": "completed"
    },
    "tags": []
   },
   "outputs": [],
   "source": [
    "total_experiment_time_secs = time.time() - start_time_secs"
   ]
  },
  {
   "cell_type": "code",
   "execution_count": 15,
   "id": "87b9595b",
   "metadata": {
    "execution": {
     "iopub.execute_input": "2022-03-06T01:25:18.359283Z",
     "iopub.status.busy": "2022-03-06T01:25:18.358992Z",
     "iopub.status.idle": "2022-03-06T01:25:50.595526Z",
     "shell.execute_reply": "2022-03-06T01:25:50.595071Z"
    },
    "papermill": {
     "duration": 32.260763,
     "end_time": "2022-03-06T01:25:50.595637",
     "exception": false,
     "start_time": "2022-03-06T01:25:18.334874",
     "status": "completed"
    },
    "tags": []
   },
   "outputs": [],
   "source": [
    "###################################\n",
    "# Evaluate the model\n",
    "###################################\n",
    "source_test_label_accuracy, source_test_label_loss = jig.test(datasets.source.processed.test)\n",
    "target_test_label_accuracy, target_test_label_loss = jig.test(datasets.target.processed.test)\n",
    "\n",
    "source_val_label_accuracy, source_val_label_loss = jig.test(datasets.source.processed.val)\n",
    "target_val_label_accuracy, target_val_label_loss = jig.test(datasets.target.processed.val)\n",
    "\n",
    "history = jig.get_history()\n",
    "\n",
    "total_epochs_trained = len(history[\"epoch_indices\"])\n",
    "\n",
    "val_dl = Iterable_Aggregator((datasets.source.original.val,datasets.target.original.val))\n",
    "\n",
    "confusion = ptn_confusion_by_domain_over_dataloader(model, p.device, val_dl)\n",
    "per_domain_accuracy = per_domain_accuracy_from_confusion(confusion)\n",
    "\n",
    "# Add a key to per_domain_accuracy for if it was a source domain\n",
    "for domain, accuracy in per_domain_accuracy.items():\n",
    "    per_domain_accuracy[domain] = {\n",
    "        \"accuracy\": accuracy,\n",
    "        \"source?\": domain in p.domains_source\n",
    "    }\n",
    "\n",
    "# Do an independent accuracy assesment JUST TO BE SURE!\n",
    "# _source_test_label_accuracy = independent_accuracy_assesment(model, datasets.source.processed.test, p.device)\n",
    "# _target_test_label_accuracy = independent_accuracy_assesment(model, datasets.target.processed.test, p.device)\n",
    "# _source_val_label_accuracy = independent_accuracy_assesment(model, datasets.source.processed.val, p.device)\n",
    "# _target_val_label_accuracy = independent_accuracy_assesment(model, datasets.target.processed.val, p.device)\n",
    "\n",
    "# assert(_source_test_label_accuracy == source_test_label_accuracy)\n",
    "# assert(_target_test_label_accuracy == target_test_label_accuracy)\n",
    "# assert(_source_val_label_accuracy == source_val_label_accuracy)\n",
    "# assert(_target_val_label_accuracy == target_val_label_accuracy)\n",
    "\n",
    "experiment = {\n",
    "    \"experiment_name\": p.experiment_name,\n",
    "    \"parameters\": dict(p),\n",
    "    \"results\": {\n",
    "        \"source_test_label_accuracy\": source_test_label_accuracy,\n",
    "        \"source_test_label_loss\": source_test_label_loss,\n",
    "        \"target_test_label_accuracy\": target_test_label_accuracy,\n",
    "        \"target_test_label_loss\": target_test_label_loss,\n",
    "        \"source_val_label_accuracy\": source_val_label_accuracy,\n",
    "        \"source_val_label_loss\": source_val_label_loss,\n",
    "        \"target_val_label_accuracy\": target_val_label_accuracy,\n",
    "        \"target_val_label_loss\": target_val_label_loss,\n",
    "        \"total_epochs_trained\": total_epochs_trained,\n",
    "        \"total_experiment_time_secs\": total_experiment_time_secs,\n",
    "        \"confusion\": confusion,\n",
    "        \"per_domain_accuracy\": per_domain_accuracy,\n",
    "    },\n",
    "    \"history\": history,\n",
    "    \"dataset_metrics\": get_dataset_metrics(datasets, \"ptn\"),\n",
    "}"
   ]
  },
  {
   "cell_type": "code",
   "execution_count": 16,
   "id": "54a21829",
   "metadata": {
    "execution": {
     "iopub.execute_input": "2022-03-06T01:25:50.645868Z",
     "iopub.status.busy": "2022-03-06T01:25:50.645604Z",
     "iopub.status.idle": "2022-03-06T01:25:50.828617Z",
     "shell.execute_reply": "2022-03-06T01:25:50.829029Z"
    },
    "papermill": {
     "duration": 0.20687,
     "end_time": "2022-03-06T01:25:50.829160",
     "exception": false,
     "start_time": "2022-03-06T01:25:50.622290",
     "status": "completed"
    },
    "tags": []
   },
   "outputs": [
    {
     "data": {
      "image/png": "[encoded data removed]",
      "text/plain": [
       "<Figure size 1080x504 with 1 Axes>"
      ]
     },
     "metadata": {
      "needs_background": "light"
     },
     "output_type": "display_data"
    }
   ],
   "source": [
    "ax = get_loss_curve(experiment)\n",
    "plt.show()"
   ]
  },
  {
   "cell_type": "code",
   "execution_count": 17,
   "id": "fd8a0f60",
   "metadata": {
    "execution": {
     "iopub.execute_input": "2022-03-06T01:25:50.879773Z",
     "iopub.status.busy": "2022-03-06T01:25:50.879516Z",
     "iopub.status.idle": "2022-03-06T01:25:51.058088Z",
     "shell.execute_reply": "2022-03-06T01:25:51.058508Z"
    },
    "papermill": {
     "duration": 0.203022,
     "end_time": "2022-03-06T01:25:51.058639",
     "exception": false,
     "start_time": "2022-03-06T01:25:50.855617",
     "status": "completed"
    },
    "tags": []
   },
   "outputs": [
    {
     "data": {
      "text/plain": [
       "<matplotlib.axes._subplots.AxesSubplot at 0x7f7f146ba250>"
      ]
     },
     "execution_count": 17,
     "metadata": {},
     "output_type": "execute_result"
    },
    {
     "data": {
      "image/png": "[encoded data removed]",
      "text/plain": [
       "<Figure size 1080x504 with 1 Axes>"
      ]
     },
     "metadata": {
      "needs_background": "light"
     },
     "output_type": "display_data"
    }
   ],
   "source": [
    "get_results_table(experiment)"
   ]
  },
  {
   "cell_type": "code",
   "execution_count": 18,
   "id": "cf8dc689",
   "metadata": {
    "execution": {
     "iopub.execute_input": "2022-03-06T01:25:51.112455Z",
     "iopub.status.busy": "2022-03-06T01:25:51.110826Z",
     "iopub.status.idle": "2022-03-06T01:25:51.292122Z",
     "shell.execute_reply": "2022-03-06T01:25:51.292530Z"
    },
    "papermill": {
     "duration": 0.206857,
     "end_time": "2022-03-06T01:25:51.292662",
     "exception": false,
     "start_time": "2022-03-06T01:25:51.085805",
     "status": "completed"
    },
    "tags": []
   },
   "outputs": [
    {
     "data": {
      "text/plain": [
       "<matplotlib.axes._subplots.AxesSubplot at 0x7f7f148393a0>"
      ]
     },
     "execution_count": 18,
     "metadata": {},
     "output_type": "execute_result"
    },
    {
     "data": {
      "image/png": "[encoded data removed]",
      "text/plain": [
       "<Figure size 1080x504 with 1 Axes>"
      ]
     },
     "metadata": {
      "needs_background": "light"
     },
     "output_type": "display_data"
    }
   ],
   "source": [
    "get_domain_accuracies(experiment)"
   ]
  },
  {
   "cell_type": "code",
   "execution_count": 19,
   "id": "a74ae082",
   "metadata": {
    "execution": {
     "iopub.execute_input": "2022-03-06T01:25:51.349273Z",
     "iopub.status.busy": "2022-03-06T01:25:51.349002Z",
     "iopub.status.idle": "2022-03-06T01:25:51.363134Z",
     "shell.execute_reply": "2022-03-06T01:25:51.362643Z"
    },
    "papermill": {
     "duration": 0.040841,
     "end_time": "2022-03-06T01:25:51.363217",
     "exception": false,
     "start_time": "2022-03-06T01:25:51.322376",
     "status": "completed"
    },
    "tags": []
   },
   "outputs": [
    {
     "name": "stdout",
     "output_type": "stream",
     "text": [
      "Source Test Label Accuracy: 0.5563568376068376 Target Test Label Accuracy: 0.2841346153846154\n",
      "Source Val Label Accuracy: 0.5592948717948718 Target Val Label Accuracy: 0.28229166666666666\n"
     ]
    }
   ],
   "source": [
    "print(\"Source Test Label Accuracy:\", experiment[\"results\"][\"source_test_label_accuracy\"], \"Target Test Label Accuracy:\", experiment[\"results\"][\"target_test_label_accuracy\"])\n",
    "print(\"Source Val Label Accuracy:\", experiment[\"results\"][\"source_val_label_accuracy\"], \"Target Val Label Accuracy:\", experiment[\"results\"][\"target_val_label_accuracy\"])"
   ]
  },
  {
   "cell_type": "code",
   "execution_count": 20,
   "id": "dacca602",
   "metadata": {
    "execution": {
     "iopub.execute_input": "2022-03-06T01:25:51.423754Z",
     "iopub.status.busy": "2022-03-06T01:25:51.416916Z",
     "iopub.status.idle": "2022-03-06T01:25:51.429804Z",
     "shell.execute_reply": "2022-03-06T01:25:51.430107Z"
    },
    "papermill": {
     "duration": 0.038385,
     "end_time": "2022-03-06T01:25:51.430203",
     "exception": false,
     "start_time": "2022-03-06T01:25:51.391818",
     "status": "completed"
    },
    "tags": [
     "experiment_json"
    ]
   },
   "outputs": [
    {
     "data": {
      "text/plain": [
       "'{\"experiment_name\": \"tuned_1_oracle.run2.framed\", \"parameters\": {\"experiment_name\": \"tuned_1_oracle.run2.framed\", \"device\": \"cuda\", \"lr\": 0.001, \"seed\": 1337, \"dataset_seed\": 1337, \"labels_source\": [\"3123D52\", \"3123D65\", \"3123D79\", \"3123D80\", \"3123D54\", \"3123D70\", \"3123D7B\", \"3123D89\", \"3123D58\", \"3123D76\", \"3123D7D\", \"3123EFE\", \"3123D64\", \"3123D78\", \"3123D7E\", \"3124E4A\"], \"labels_target\": [\"3123D52\", \"3123D65\", \"3123D79\", \"3123D80\", \"3123D54\", \"3123D70\", \"3123D7B\", \"3123D89\", \"3123D58\", \"3123D76\", \"3123D7D\", \"3123EFE\", \"3123D64\", \"3123D78\", \"3123D7E\", \"3124E4A\"], \"x_transforms_source\": [\"unit_mag\"], \"x_transforms_target\": [\"unit_mag\"], \"episode_transforms_source\": [], \"episode_transforms_target\": [], \"domains_source\": [8, 32, 50], \"domains_target\": [14, 20, 26, 38, 44], \"num_examples_per_domain_per_label_source\": 1300, \"num_examples_per_domain_per_label_target\": 1300, \"n_shot\": 3, \"n_way\": 16, \"n_query\": 2, \"train_k_factor\": 3, \"val_k_factor\": 2, \"test_k_factor\": 2, \"torch_default_dtype\": \"torch.float32\", \"n_epoch\": 50, \"patience\": 3, \"criteria_for_best\": \"target_loss\", \"x_net\": [{\"class\": \"nnReshape\", \"kargs\": {\"shape\": [-1, 1, 2, 256]}}, {\"class\": \"Conv2d\", \"kargs\": {\"in_channels\": 1, \"out_channels\": 256, \"kernel_size\": [1, 7], \"bias\": false, \"padding\": [0, 3]}}, {\"class\": \"ReLU\", \"kargs\": {\"inplace\": true}}, {\"class\": \"BatchNorm2d\", \"kargs\": {\"num_features\": 256}}, {\"class\": \"Conv2d\", \"kargs\": {\"in_channels\": 256, \"out_channels\": 80, \"kernel_size\": [2, 7], \"bias\": true, \"padding\": [0, 3]}}, {\"class\": \"ReLU\", \"kargs\": {\"inplace\": true}}, {\"class\": \"BatchNorm2d\", \"kargs\": {\"num_features\": 80}}, {\"class\": \"Flatten\", \"kargs\": {}}, {\"class\": \"Linear\", \"kargs\": {\"in_features\": 20480, \"out_features\": 256}}, {\"class\": \"ReLU\", \"kargs\": {\"inplace\": true}}, {\"class\": \"BatchNorm1d\", \"kargs\": {\"num_features\": 256}}, {\"class\": \"Linear\", \"kargs\": {\"in_features\": 256, \"out_features\": 256}}], \"NUM_LOGS_PER_EPOCH\": 10, \"BEST_MODEL_PATH\": \"./best_model.pth\", \"pickle_name\": \"oracle.Run2_framed_1300Examples_stratified_ds.2022A.pkl\"}, \"results\": {\"source_test_label_accuracy\": 0.5563568376068376, \"source_test_label_loss\": 1.002801775932312, \"target_test_label_accuracy\": 0.2841346153846154, \"target_test_label_loss\": 2.1193299293518066, \"source_val_label_accuracy\": 0.5592948717948718, \"source_val_label_loss\": 1.0184458494186401, \"target_val_label_accuracy\": 0.28229166666666666, \"target_val_label_loss\": 2.1244587898254395, \"total_epochs_trained\": 5, \"total_experiment_time_secs\": 247.22539281845093, \"confusion\": {\"8\": {\"15\": {\"12\": 14, \"15\": 50, \"2\": 9, \"11\": 18, \"8\": 45, \"7\": 19, \"4\": 1}, \"3\": {\"3\": 146, \"11\": 6, \"12\": 4}, \"6\": {\"4\": 25, \"14\": 52, \"6\": 46, \"13\": 22, \"0\": 8, \"2\": 3}, \"1\": {\"1\": 66, \"10\": 60, \"5\": 10, \"13\": 6, \"0\": 14}, \"8\": {\"7\": 27, \"6\": 1, \"2\": 26, \"8\": 61, \"15\": 30, \"12\": 5, \"4\": 2, \"11\": 4}, \"10\": {\"1\": 63, \"5\": 10, \"10\": 66, \"13\": 7, \"0\": 10}, \"9\": {\"9\": 152, \"5\": 4}, \"13\": {\"14\": 19, \"0\": 62, \"13\": 44, \"6\": 15, \"1\": 11, \"4\": 1, \"10\": 4}, \"12\": {\"11\": 71, \"12\": 59, \"15\": 20, \"3\": 4, \"8\": 2}, \"5\": {\"5\": 125, \"9\": 15, \"10\": 12, \"1\": 4}, \"0\": {\"14\": 6, \"13\": 58, \"0\": 71, \"10\": 3, \"1\": 11, \"6\": 6, \"4\": 1}, \"2\": {\"4\": 28, \"6\": 2, \"2\": 61, \"8\": 19, \"7\": 36, \"14\": 7, \"15\": 3}, \"11\": {\"12\": 70, \"11\": 67, \"8\": 2, \"3\": 3, \"15\": 14}, \"14\": {\"14\": 44, \"4\": 41, \"13\": 16, \"6\": 41, \"0\": 8, \"2\": 5, \"8\": 1}, \"7\": {\"2\": 55, \"7\": 54, \"8\": 26, \"15\": 11, \"4\": 9, \"12\": 1}, \"4\": {\"4\": 66, \"2\": 26, \"14\": 29, \"6\": 28, \"7\": 6, \"8\": 1}}, \"50\": {\"3\": {\"3\": 152, \"8\": 4}, \"15\": {\"15\": 96, \"12\": 21, \"14\": 36, \"1\": 3}, \"8\": {\"8\": 145, \"3\": 7, \"13\": 4}, \"4\": {\"2\": 32, \"4\": 96, \"6\": 26, \"1\": 1, \"5\": 1}, \"14\": {\"14\": 79, \"15\": 47, \"12\": 2, \"1\": 27, \"6\": 1}, \"0\": {\"7\": 52, \"0\": 60, \"5\": 21, \"10\": 18, \"13\": 1, \"2\": 4}, \"7\": {\"0\": 57, \"10\": 10, \"7\": 69, \"5\": 14, \"13\": 3, \"2\": 3}, \"6\": {\"6\": 76, \"1\": 39, \"4\": 41}, \"10\": {\"10\": 96, \"7\": 21, \"13\": 30, \"0\": 9}, \"5\": {\"0\": 23, \"2\": 44, \"5\": 63, \"7\": 21, \"10\": 1, \"4\": 4}, \"2\": {\"2\": 96, \"4\": 18, \"5\": 40, \"0\": 2}, \"12\": {\"12\": 99, \"15\": 20, \"11\": 35, \"9\": 2}, \"9\": {\"11\": 15, \"9\": 139, \"12\": 2}, \"1\": {\"1\": 103, \"6\": 23, \"14\": 27, \"15\": 2, \"4\": 1}, \"11\": {\"11\": 86, \"9\": 17, \"12\": 50, \"15\": 3}, \"13\": {\"13\": 95, \"10\": 44, \"8\": 16, \"7\": 1}}, \"32\": {\"5\": {\"5\": 37, \"4\": 34, \"13\": 10, \"7\": 29, \"8\": 5, \"15\": 3, \"0\": 33, \"14\": 2, \"11\": 3}, \"8\": {\"7\": 34, \"5\": 15, \"8\": 38, \"13\": 37, \"15\": 19, \"3\": 2, \"0\": 9, \"4\": 2}, \"11\": {\"2\": 20, \"5\": 7, \"11\": 51, \"14\": 52, \"0\": 10, \"4\": 16}, \"1\": {\"1\": 156}, \"10\": {\"10\": 150, \"6\": 6}, \"15\": {\"15\": 61, \"3\": 28, \"13\": 37, \"8\": 17, \"7\": 10, \"5\": 2, \"4\": 1}, \"3\": {\"3\": 122, \"15\": 27, \"8\": 2, \"13\": 5}, \"7\": {\"5\": 24, \"13\": 28, \"8\": 28, \"4\": 11, \"7\": 49, \"15\": 7, \"0\": 9}, \"4\": {\"0\": 54, \"4\": 46, \"5\": 25, \"11\": 11, \"7\": 11, \"14\": 8, \"8\": 1}, \"14\": {\"11\": 60, \"14\": 68, \"2\": 18, \"4\": 6, \"0\": 4}, \"9\": {\"9\": 155, \"2\": 1}, \"12\": {\"12\": 152, \"6\": 4}, \"6\": {\"6\": 153, \"10\": 2, \"12\": 1}, \"2\": {\"2\": 115, \"14\": 22, \"11\": 17, \"9\": 2}, \"0\": {\"5\": 31, \"7\": 14, \"8\": 9, \"11\": 6, \"4\": 34, \"0\": 50, \"13\": 2, \"14\": 10}, \"13\": {\"8\": 23, \"5\": 11, \"7\": 32, \"15\": 28, \"13\": 57, \"0\": 3, \"3\": 2}}, \"14\": {\"15\": {\"2\": 13, \"13\": 28, \"15\": 65, \"7\": 50}, \"3\": {\"0\": 40, \"3\": 43, \"8\": 2, \"5\": 14, \"4\": 22, \"1\": 15, \"10\": 10, \"14\": 6, \"6\": 4}, \"6\": {\"6\": 68, \"5\": 9, \"2\": 17, \"14\": 24, \"1\": 25, \"13\": 3, \"4\": 6, \"15\": 1, \"7\": 3}, \"1\": {\"2\": 3, \"6\": 23, \"1\": 39, \"5\": 37, \"14\": 26, \"3\": 11, \"4\": 15, \"0\": 2}, \"8\": {\"10\": 41, \"8\": 71, \"12\": 20, \"0\": 16, \"11\": 4, \"9\": 4}, \"10\": {\"0\": 62, \"8\": 34, \"9\": 2, \"12\": 18, \"10\": 29, \"11\": 4, \"3\": 5, \"5\": 1, \"4\": 1}, \"9\": {\"11\": 58, \"9\": 66, \"12\": 31, \"10\": 1}, \"13\": {\"15\": 41, \"7\": 34, \"13\": 42, \"2\": 30, \"14\": 6, \"6\": 3}, \"12\": {\"12\": 60, \"9\": 32, \"11\": 43, \"10\": 11, \"8\": 9, \"0\": 1}, \"5\": {\"4\": 27, \"6\": 14, \"5\": 36, \"1\": 28, \"3\": 22, \"14\": 16, \"2\": 2, \"0\": 9, \"10\": 1, \"8\": 1}, \"0\": {\"0\": 61, \"8\": 30, \"5\": 6, \"10\": 26, \"3\": 26, \"4\": 2, \"6\": 1, \"1\": 1, \"14\": 1, \"12\": 2}, \"2\": {\"7\": 22, \"2\": 37, \"6\": 19, \"15\": 26, \"14\": 16, \"13\": 33, \"1\": 3}, \"11\": {\"11\": 60, \"9\": 54, \"12\": 39, \"10\": 2, \"8\": 1}, \"14\": {\"6\": 34, \"1\": 19, \"2\": 22, \"4\": 18, \"14\": 21, \"5\": 19, \"7\": 2, \"15\": 2, \"3\": 5, \"13\": 11, \"0\": 3}, \"7\": {\"7\": 41, \"2\": 23, \"15\": 53, \"13\": 30, \"6\": 7, \"14\": 2}, \"4\": {\"1\": 38, \"4\": 37, \"14\": 14, \"3\": 26, \"6\": 14, \"5\": 24, \"0\": 2, \"10\": 1}}, \"20\": {\"3\": {\"14\": 14, \"11\": 21, \"10\": 23, \"15\": 8, \"13\": 2, \"8\": 20, \"2\": 6, \"3\": 31, \"9\": 7, \"7\": 21, \"1\": 3}, \"15\": {\"15\": 25, \"9\": 16, \"13\": 14, \"12\": 14, \"2\": 25, \"11\": 7, \"4\": 13, \"1\": 14, \"8\": 1, \"5\": 8, \"7\": 6, \"0\": 3, \"3\": 8, \"10\": 2}, \"8\": {\"3\": 23, \"10\": 25, \"14\": 26, \"8\": 28, \"7\": 20, \"11\": 25, \"2\": 4, \"15\": 2, \"9\": 1, \"1\": 2}, \"4\": {\"15\": 14, \"12\": 22, \"0\": 19, \"13\": 18, \"1\": 12, \"4\": 18, \"5\": 22, \"2\": 17, \"9\": 11, \"11\": 2, \"3\": 1}, \"14\": {\"6\": 26, \"10\": 18, \"14\": 45, \"8\": 25, \"11\": 15, \"3\": 12, \"7\": 15}, \"0\": {\"2\": 10, \"9\": 8, \"0\": 30, \"12\": 10, \"4\": 14, \"13\": 9, \"8\": 3, \"5\": 34, \"15\": 15, \"1\": 18, \"11\": 2, \"3\": 1, \"7\": 2}, \"7\": {\"10\": 21, \"8\": 13, \"7\": 16, \"14\": 19, \"3\": 22, \"2\": 11, \"11\": 19, \"1\": 5, \"15\": 12, \"9\": 7, \"13\": 3, \"6\": 8}, \"6\": {\"6\": 108, \"14\": 37, \"10\": 4, \"8\": 2, \"11\": 2, \"3\": 2, \"7\": 1}, \"10\": {\"3\": 23, \"14\": 40, \"8\": 21, \"10\": 24, \"11\": 15, \"6\": 12, \"7\": 16, \"2\": 2, \"15\": 3}, \"5\": {\"1\": 14, \"5\": 51, \"0\": 27, \"12\": 22, \"9\": 3, \"7\": 1, \"4\": 18, \"13\": 12, \"15\": 6, \"2\": 2}, \"2\": {\"9\": 27, \"1\": 21, \"7\": 5, \"2\": 30, \"11\": 6, \"3\": 7, \"15\": 21, \"4\": 13, \"12\": 7, \"0\": 3, \"5\": 4, \"13\": 12}, \"12\": {\"12\": 29, \"15\": 10, \"4\": 30, \"13\": 20, \"9\": 11, \"1\": 17, \"2\": 9, \"5\": 15, \"0\": 15}, \"9\": {\"4\": 17, \"7\": 6, \"2\": 19, \"3\": 6, \"8\": 3, \"9\": 16, \"13\": 15, \"15\": 18, \"1\": 13, \"14\": 3, \"5\": 10, \"0\": 13, \"11\": 4, \"10\": 1, \"12\": 12}, \"1\": {\"12\": 17, \"15\": 22, \"0\": 13, \"13\": 9, \"7\": 3, \"4\": 17, \"5\": 21, \"9\": 13, \"1\": 13, \"3\": 7, \"2\": 20, \"11\": 1}, \"11\": {\"10\": 15, \"11\": 22, \"7\": 25, \"14\": 19, \"15\": 11, \"8\": 15, \"1\": 4, \"3\": 19, \"6\": 5, \"9\": 6, \"2\": 12, \"0\": 1, \"13\": 2}, \"13\": {\"13\": 19, \"2\": 21, \"5\": 12, \"1\": 19, \"12\": 18, \"9\": 16, \"11\": 2, \"0\": 13, \"15\": 19, \"4\": 14, \"3\": 3}}, \"44\": {\"5\": {\"5\": 61, \"15\": 12, \"0\": 16, \"8\": 66, \"14\": 1}, \"8\": {\"5\": 52, \"8\": 61, \"15\": 34, \"0\": 8, \"14\": 1}, \"11\": {\"6\": 15, \"11\": 15, \"1\": 26, \"7\": 21, \"9\": 10, \"3\": 24, \"2\": 7, \"10\": 20, \"12\": 18}, \"1\": {\"7\": 14, \"11\": 22, \"3\": 19, \"12\": 37, \"1\": 34, \"10\": 24, \"9\": 5, \"6\": 1}, \"10\": {\"10\": 76, \"11\": 11, \"12\": 34, \"1\": 20, \"3\": 10, \"7\": 3, \"9\": 2}, \"15\": {\"15\": 87, \"14\": 38, \"5\": 17, \"8\": 12, \"4\": 2}, \"3\": {\"1\": 27, \"9\": 14, \"7\": 26, \"3\": 39, \"11\": 15, \"12\": 16, \"10\": 6, \"2\": 5, \"6\": 8}, \"7\": {\"1\": 18, \"2\": 19, \"10\": 7, \"9\": 23, \"3\": 20, \"11\": 14, \"7\": 25, \"12\": 14, \"6\": 16}, \"4\": {\"14\": 37, \"13\": 41, \"4\": 74, \"15\": 4}, \"14\": {\"14\": 79, \"15\": 44, \"4\": 27, \"5\": 4, \"13\": 2}, \"9\": {\"13\": 12, \"6\": 23, \"9\": 18, \"7\": 26, \"2\": 35, \"3\": 15, \"11\": 13, \"12\": 8, \"1\": 6}, \"12\": {\"1\": 26, \"3\": 23, \"7\": 17, \"10\": 34, \"2\": 1, \"12\": 30, \"11\": 23, \"6\": 2}, \"6\": {\"1\": 4, \"6\": 39, \"3\": 9, \"2\": 41, \"11\": 10, \"9\": 33, \"7\": 16, \"10\": 1, \"12\": 3}, \"2\": {\"6\": 32, \"9\": 28, \"2\": 74, \"7\": 9, \"11\": 6, \"3\": 5, \"13\": 1, \"12\": 1}, \"0\": {\"0\": 146, \"8\": 4, \"5\": 6}, \"13\": {\"13\": 90, \"4\": 38, \"14\": 6, \"2\": 18, \"9\": 2, \"6\": 2}}, \"38\": {\"14\": {\"14\": 112, \"11\": 15, \"2\": 29}, \"0\": {\"0\": 129, \"9\": 13, \"3\": 14}, \"13\": {\"13\": 23, \"9\": 2, \"7\": 18, \"1\": 16, \"5\": 16, \"12\": 14, \"15\": 16, \"10\": 15, \"8\": 14, \"4\": 11, \"6\": 10, \"11\": 1}, \"7\": {\"6\": 28, \"15\": 9, \"5\": 7, \"10\": 20, \"13\": 12, \"4\": 17, \"8\": 25, \"7\": 18, \"9\": 3, \"1\": 7, \"12\": 6, \"3\": 4}, \"9\": {\"3\": 60, \"9\": 62, \"6\": 14, \"0\": 19, \"10\": 1}, \"3\": {\"0\": 16, \"3\": 49, \"9\": 60, \"6\": 18, \"10\": 4, \"7\": 4, \"4\": 3, \"8\": 1, \"13\": 1}, \"11\": {\"12\": 19, \"11\": 40, \"14\": 52, \"2\": 37, \"1\": 7, \"5\": 1}, \"6\": {\"9\": 19, \"3\": 14, \"6\": 65, \"7\": 9, \"10\": 18, \"8\": 16, \"13\": 7, \"4\": 5, \"15\": 3}, \"8\": {\"1\": 7, \"5\": 12, \"15\": 17, \"6\": 19, \"8\": 23, \"10\": 19, \"4\": 14, \"7\": 19, \"13\": 18, \"12\": 4, \"3\": 3, \"9\": 1}, \"4\": {\"15\": 21, \"4\": 23, \"6\": 10, \"13\": 20, \"5\": 13, \"10\": 17, \"1\": 12, \"8\": 15, \"7\": 23, \"12\": 2}, \"5\": {\"12\": 26, \"10\": 9, \"7\": 10, \"13\": 20, \"5\": 30, \"8\": 8, \"1\": 31, \"15\": 11, \"4\": 10, \"11\": 1}, \"10\": {\"5\": 8, \"9\": 2, \"6\": 28, \"4\": 17, \"1\": 13, \"3\": 4, \"8\": 16, \"15\": 21, \"7\": 18, \"10\": 15, \"13\": 12, \"12\": 2}, \"1\": {\"8\": 5, \"1\": 36, \"12\": 45, \"5\": 36, \"15\": 13, \"10\": 4, \"13\": 11, \"4\": 4, \"7\": 2}, \"2\": {\"11\": 52, \"2\": 70, \"14\": 28, \"12\": 5, \"5\": 1}, \"15\": {\"5\": 22, \"13\": 27, \"12\": 11, \"6\": 1, \"10\": 20, \"4\": 21, \"7\": 13, \"15\": 14, \"1\": 16, \"8\": 11}, \"12\": {\"1\": 46, \"12\": 58, \"5\": 32, \"13\": 6, \"11\": 5, \"15\": 5, \"7\": 1, \"8\": 1, \"2\": 1, \"4\": 1}}, \"26\": {\"13\": {\"6\": 25, \"9\": 18, \"3\": 13, \"1\": 14, \"13\": 25, \"10\": 26, \"14\": 13, \"2\": 5, \"5\": 9, \"0\": 4, \"7\": 3, \"15\": 1}, \"2\": {\"6\": 4, \"7\": 12, \"1\": 6, \"14\": 12, \"8\": 27, \"2\": 18, \"0\": 9, \"4\": 19, \"15\": 20, \"3\": 13, \"5\": 6, \"10\": 7, \"9\": 2, \"13\": 1}, \"8\": {\"15\": 27, \"4\": 31, \"5\": 11, \"8\": 20, \"2\": 16, \"0\": 14, \"14\": 7, \"7\": 25, \"3\": 3, \"1\": 2}, \"9\": {\"10\": 36, \"14\": 11, \"3\": 8, \"6\": 29, \"2\": 5, \"1\": 15, \"8\": 1, \"9\": 22, \"13\": 8, \"7\": 5, \"0\": 7, \"5\": 5, \"15\": 1, \"12\": 1, \"11\": 1, \"4\": 1}, \"12\": {\"12\": 111, \"11\": 43, \"6\": 1, \"10\": 1}, \"4\": {\"2\": 15, \"8\": 19, \"15\": 35, \"0\": 8, \"4\": 36, \"13\": 1, \"1\": 1, \"14\": 8, \"7\": 15, \"5\": 12, \"3\": 3, \"9\": 1, \"10\": 2}, \"3\": {\"5\": 21, \"1\": 15, \"14\": 17, \"9\": 7, \"4\": 5, \"8\": 11, \"6\": 11, \"13\": 13, \"10\": 11, \"0\": 13, \"3\": 10, \"2\": 9, \"15\": 5, \"7\": 8}, \"15\": {\"7\": 20, \"4\": 34, \"8\": 16, \"3\": 5, \"5\": 12, \"15\": 26, \"0\": 11, \"2\": 14, \"14\": 8, \"1\": 8, \"13\": 1, \"10\": 1}, \"14\": {\"13\": 19, \"6\": 11, \"1\": 16, \"3\": 9, \"9\": 9, \"2\": 12, \"14\": 17, \"10\": 6, \"0\": 9, \"5\": 19, \"15\": 8, \"4\": 13, \"7\": 4, \"8\": 4}, \"10\": {\"9\": 25, \"10\": 28, \"13\": 12, \"6\": 37, \"3\": 9, \"14\": 9, \"2\": 4, \"1\": 11, \"8\": 4, \"4\": 2, \"7\": 2, \"0\": 5, \"5\": 6, \"12\": 2}, \"7\": {\"4\": 30, \"7\": 23, \"15\": 24, \"8\": 20, \"9\": 6, \"1\": 4, \"6\": 5, \"2\": 10, \"0\": 8, \"14\": 3, \"3\": 4, \"5\": 10, \"10\": 4, \"13\": 5}, \"11\": {\"11\": 112, \"12\": 44}, \"6\": {\"9\": 32, \"10\": 36, \"1\": 8, \"2\": 4, \"14\": 5, \"6\": 32, \"3\": 9, \"12\": 1, \"13\": 20, \"5\": 2, \"7\": 3, \"0\": 3, \"15\": 1}, \"1\": {\"9\": 20, \"6\": 18, \"14\": 21, \"3\": 14, \"1\": 20, \"10\": 13, \"2\": 6, \"13\": 15, \"5\": 8, \"15\": 2, \"4\": 2, \"7\": 5, \"8\": 5, \"0\": 7}, \"5\": {\"1\": 8, \"6\": 5, \"14\": 26, \"8\": 14, \"9\": 9, \"7\": 10, \"10\": 2, \"15\": 7, \"2\": 19, \"0\": 11, \"3\": 9, \"5\": 12, \"13\": 11, \"4\": 13}, \"0\": {\"5\": 17, \"14\": 13, \"13\": 15, \"15\": 16, \"7\": 16, \"10\": 5, \"1\": 17, \"8\": 11, \"2\": 9, \"9\": 3, \"0\": 15, \"3\": 9, \"6\": 2, \"4\": 8}}}, \"per_domain_accuracy\": {\"8\": {\"accuracy\": 0.4719551282051282, \"source?\": true}, \"50\": {\"accuracy\": 0.6209935897435898, \"source?\": true}, \"32\": {\"accuracy\": 0.5849358974358975, \"source?\": true}, \"14\": {\"accuracy\": 0.3108974358974359, \"source?\": false}, \"20\": {\"accuracy\": 0.20232371794871795, \"source?\": false}, \"44\": {\"accuracy\": 0.3798076923076923, \"source?\": false}, \"38\": {\"accuracy\": 0.3072916666666667, \"source?\": false}, \"26\": {\"accuracy\": 0.2111378205128205, \"source?\": false}}}, \"history\": {\"epoch_indices\": [1, 2, 3, 4, 5], \"train_label_loss\": [1.4545851973685258, 0.6406385734073584, 0.1809427183110866, 0.10180981494766472, 0.07528734153444336], \"source_val_label_loss\": [1.0184458494186401, 0.37818068265914917, 0.18708649277687073, 0.10095687955617905, 0.09595741331577301], \"target_val_label_loss\": [2.1244587898254395, 2.5414164066314697, 3.040226697921753, 3.17702054977417, 3.454303503036499], \"source_val_acc_label\": [0.5592948717948718, 0.8633814102564102, 0.9338942307692307, 0.9643429487179487, 0.967948717948718], \"target_val_acc_label\": [0.28229166666666666, 0.38269230769230766, 0.3992788461538462, 0.40048076923076925, 0.3997596153846154]}, \"dataset_metrics\": {\"source\": {\"train\": {\"n_unique_x\": 43632, \"n_unique_y\": 16, \"n_batch/episode\": 1629}, \"val\": {\"n_unique_x\": 9360, \"n_unique_y\": 16, \"n_batch/episode\": 234}, \"test\": {\"n_unique_x\": 9408, \"n_unique_y\": 16, \"n_batch/episode\": 234}}, \"target\": {\"train\": {\"n_unique_x\": 72719, \"n_unique_y\": 16, \"n_batch/episode\": 2715}, \"val\": {\"n_unique_x\": 15600, \"n_unique_y\": 16, \"n_batch/episode\": 390}, \"test\": {\"n_unique_x\": 15680, \"n_unique_y\": 16, \"n_batch/episode\": 390}}}}'"
      ]
     },
     "execution_count": 20,
     "metadata": {},
     "output_type": "execute_result"
    }
   ],
   "source": [
    "json.dumps(experiment)"
   ]
  }
 ],
 "metadata": {
  "celltoolbar": "Tags",
  "kernelspec": {
   "display_name": "Python 3 (ipykernel)",
   "language": "python",
   "name": "python3"
  },
  "language_info": {
   "codemirror_mode": {
    "name": "ipython",
    "version": 3
   },
   "file_extension": ".py",
   "mimetype": "text/x-python",
   "name": "python",
   "nbconvert_exporter": "python",
   "pygments_lexer": "ipython3",
   "version": "3.8.10"
  },
  "papermill": {
   "default_parameters": {},
   "duration": 283.206514,
   "end_time": "2022-03-06T01:25:52.163995",
   "environment_variables": {},
   "exception": null,
   "input_path": "/mnt/wd500GB/CSC500/csc500-main/csc500-notebooks/templates/ptn_template.ipynb",
   "output_path": "trial.ipynb",
   "parameters": {
    "parameters": {
     "BEST_MODEL_PATH": "./best_model.pth",
     "NUM_LOGS_PER_EPOCH": 10,
     "criteria_for_best": "target_loss",
     "dataset_seed": 1337,
     "device": "cuda",
     "domains_source": [
      8,
      32,
      50
     ],
     "domains_target": [
      14,
      20,
      26,
      38,
      44
     ],
     "episode_transforms_source": [],
     "episode_transforms_target": [],
     "experiment_name": "tuned_1_oracle.run2.framed",
     "labels_source": [
      "3123D52",
      "3123D65",
      "3123D79",
      "3123D80",
      "3123D54",
      "3123D70",
      "3123D7B",
      "3123D89",
      "3123D58",
      "3123D76",
      "3123D7D",
      "3123EFE",
      "3123D64",
      "3123D78",
      "3123D7E",
      "3124E4A"
     ],
     "labels_target": [
      "3123D52",
      "3123D65",
      "3123D79",
      "3123D80",
      "3123D54",
      "3123D70",
      "3123D7B",
      "3123D89",
      "3123D58",
      "3123D76",
      "3123D7D",
      "3123EFE",
      "3123D64",
      "3123D78",
      "3123D7E",
      "3124E4A"
     ],
     "lr": 0.001,
     "n_epoch": 50,
     "n_query": 2,
     "n_shot": 3,
     "n_way": 16,
     "num_examples_per_domain_per_label_source": 1300,
     "num_examples_per_domain_per_label_target": 1300,
     "patience": 3,
     "pickle_name": "oracle.Run2_framed_1300Examples_stratified_ds.2022A.pkl",
     "seed": 1337,
     "test_k_factor": 2,
     "torch_default_dtype": "torch.float32",
     "train_k_factor": 3,
     "val_k_factor": 2,
     "x_net": [
      {
       "class": "nnReshape",
       "kargs": {
        "shape": [
         -1,
         1,
         2,
         256
        ]
       }
      },
      {
       "class": "Conv2d",
       "kargs": {
        "bias": false,
        "in_channels": 1,
        "kernel_size": [
         1,
         7
        ],
        "out_channels": 256,
        "padding": [
         0,
         3
        ]
       }
      },
      {
       "class": "ReLU",
       "kargs": {
        "inplace": true
       }
      },
      {
       "class": "BatchNorm2d",
       "kargs": {
        "num_features": 256
       }
      },
      {
       "class": "Conv2d",
       "kargs": {
        "bias": true,
        "in_channels": 256,
        "kernel_size": [
         2,
         7
        ],
        "out_channels": 80,
        "padding": [
         0,
         3
        ]
       }
      },
      {
       "class": "ReLU",
       "kargs": {
        "inplace": true
       }
      },
      {
       "class": "BatchNorm2d",
       "kargs": {
        "num_features": 80
       }
      },
      {
       "class": "Flatten",
       "kargs": {}
      },
      {
       "class": "Linear",
       "kargs": {
        "in_features": 20480,
        "out_features": 256
       }
      },
      {
       "class": "ReLU",
       "kargs": {
        "inplace": true
       }
      },
      {
       "class": "BatchNorm1d",
       "kargs": {
        "num_features": 256
       }
      },
      {
       "class": "Linear",
       "kargs": {
        "in_features": 256,
        "out_features": 256
       }
      }
     ],
     "x_transforms_source": [
      "unit_mag"
     ],
     "x_transforms_target": [
      "unit_mag"
     ]
    }
   },
   "start_time": "2022-03-06T01:21:08.957481",
   "version": "2.3.4"
  }
 },
 "nbformat": 4,
 "nbformat_minor": 5
}