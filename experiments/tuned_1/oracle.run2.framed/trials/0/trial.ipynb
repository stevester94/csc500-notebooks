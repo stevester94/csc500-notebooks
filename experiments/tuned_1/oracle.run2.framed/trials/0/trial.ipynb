{
 "cells": [
  {
   "cell_type": "markdown",
   "id": "9fea5f46",
   "metadata": {
    "papermill": {
     "duration": 0.014338,
     "end_time": "2022-03-06T03:23:02.124731",
     "exception": false,
     "start_time": "2022-03-06T03:23:02.110393",
     "status": "completed"
    },
    "tags": []
   },
   "source": [
    "# PTN Template\n",
    "This notebook serves as a template for single dataset PTN experiments  \n",
    "It can be run on its own by setting STANDALONE to True (do a find for \"STANDALONE\" to see where)  \n",
    "But it is intended to be executed as part of a *papermill.py script. See any of the   \n",
    "experimentes with a papermill script to get started with that workflow.  "
   ]
  },
  {
   "cell_type": "code",
   "execution_count": 1,
   "id": "0902182a",
   "metadata": {
    "execution": {
     "iopub.execute_input": "2022-03-06T03:23:02.164314Z",
     "iopub.status.busy": "2022-03-06T03:23:02.163929Z",
     "iopub.status.idle": "2022-03-06T03:23:03.055142Z",
     "shell.execute_reply": "2022-03-06T03:23:03.055477Z"
    },
    "papermill": {
     "duration": 0.917417,
     "end_time": "2022-03-06T03:23:03.055645",
     "exception": false,
     "start_time": "2022-03-06T03:23:02.138228",
     "status": "completed"
    },
    "tags": []
   },
   "outputs": [],
   "source": [
    "%load_ext autoreload\n",
    "%autoreload 2\n",
    "%matplotlib inline\n",
    "\n",
    "    \n",
    "import os, json, sys, time, random\n",
    "import numpy as np\n",
    "import torch\n",
    "from torch.optim import Adam\n",
    "from  easydict import EasyDict\n",
    "import matplotlib.pyplot as plt\n",
    "\n",
    "from steves_models.steves_ptn import Steves_Prototypical_Network\n",
    "\n",
    "from steves_utils.lazy_iterable_wrapper import Lazy_Iterable_Wrapper\n",
    "from steves_utils.iterable_aggregator import Iterable_Aggregator\n",
    "from steves_utils.ptn_train_eval_test_jig import  PTN_Train_Eval_Test_Jig\n",
    "from steves_utils.torch_sequential_builder import build_sequential\n",
    "from steves_utils.torch_utils import get_dataset_metrics, ptn_confusion_by_domain_over_dataloader\n",
    "from steves_utils.utils_v2 import (per_domain_accuracy_from_confusion, get_datasets_base_path)\n",
    "from steves_utils.PTN.utils import independent_accuracy_assesment\n",
    "\n",
    "from steves_utils.stratified_dataset.episodic_accessor import Episodic_Accessor_Factory\n",
    "\n",
    "from steves_utils.ptn_do_report import (\n",
    "    get_loss_curve,\n",
    "    get_results_table,\n",
    "    get_parameters_table,\n",
    "    get_domain_accuracies,\n",
    ")\n",
    "\n",
    "from steves_utils.transforms import get_chained_transform"
   ]
  },
  {
   "cell_type": "markdown",
   "id": "41c840b4",
   "metadata": {
    "papermill": {
     "duration": 0.014354,
     "end_time": "2022-03-06T03:23:03.085187",
     "exception": false,
     "start_time": "2022-03-06T03:23:03.070833",
     "status": "completed"
    },
    "tags": []
   },
   "source": [
    "# Required Parameters\n",
    "These are allowed parameters, not defaults\n",
    "Each of these values need to be present in the injected parameters (the notebook will raise an exception if they are not present)\n",
    "\n",
    "Papermill uses the cell tag \"parameters\" to inject the real parameters below this cell.\n",
    "Enable tags to see what I mean"
   ]
  },
  {
   "cell_type": "code",
   "execution_count": 2,
   "id": "fd44eb83",
   "metadata": {
    "execution": {
     "iopub.execute_input": "2022-03-06T03:23:03.116638Z",
     "iopub.status.busy": "2022-03-06T03:23:03.116343Z",
     "iopub.status.idle": "2022-03-06T03:23:03.129138Z",
     "shell.execute_reply": "2022-03-06T03:23:03.129490Z"
    },
    "papermill": {
     "duration": 0.03027,
     "end_time": "2022-03-06T03:23:03.129614",
     "exception": false,
     "start_time": "2022-03-06T03:23:03.099344",
     "status": "completed"
    },
    "tags": []
   },
   "outputs": [],
   "source": [
    "required_parameters = {\n",
    "    \"experiment_name\",\n",
    "    \"lr\",\n",
    "    \"device\",\n",
    "    \"seed\",\n",
    "    \"dataset_seed\",\n",
    "    \"labels_source\",\n",
    "    \"labels_target\",\n",
    "    \"domains_source\",\n",
    "    \"domains_target\",\n",
    "    \"num_examples_per_domain_per_label_source\",\n",
    "    \"num_examples_per_domain_per_label_target\",\n",
    "    \"n_shot\",\n",
    "    \"n_way\",\n",
    "    \"n_query\",\n",
    "    \"train_k_factor\",\n",
    "    \"val_k_factor\",\n",
    "    \"test_k_factor\",\n",
    "    \"n_epoch\",\n",
    "    \"patience\",\n",
    "    \"criteria_for_best\",\n",
    "    \"x_transforms_source\",\n",
    "    \"x_transforms_target\",\n",
    "    \"episode_transforms_source\",\n",
    "    \"episode_transforms_target\",\n",
    "    \"pickle_name\",\n",
    "    \"x_net\",\n",
    "    \"NUM_LOGS_PER_EPOCH\",\n",
    "    \"BEST_MODEL_PATH\",\n",
    "    \"torch_default_dtype\"\n",
    "}"
   ]
  },
  {
   "cell_type": "code",
   "execution_count": 3,
   "id": "fa3f0049",
   "metadata": {
    "execution": {
     "iopub.execute_input": "2022-03-06T03:23:03.161989Z",
     "iopub.status.busy": "2022-03-06T03:23:03.153792Z",
     "iopub.status.idle": "2022-03-06T03:23:03.173151Z",
     "shell.execute_reply": "2022-03-06T03:23:03.173502Z"
    },
    "papermill": {
     "duration": 0.031492,
     "end_time": "2022-03-06T03:23:03.173623",
     "exception": false,
     "start_time": "2022-03-06T03:23:03.142131",
     "status": "completed"
    },
    "tags": [
     "parameters"
    ]
   },
   "outputs": [],
   "source": [
    "\n",
    "\n",
    "standalone_parameters = {}\n",
    "standalone_parameters[\"experiment_name\"] = \"STANDALONE PTN\"\n",
    "standalone_parameters[\"lr\"] = 0.0001\n",
    "standalone_parameters[\"device\"] = \"cuda\"\n",
    "\n",
    "standalone_parameters[\"seed\"] = 1337\n",
    "standalone_parameters[\"dataset_seed\"] = 1337\n",
    "\n",
    "\n",
    "standalone_parameters[\"num_examples_per_domain_per_label_source\"]=100\n",
    "standalone_parameters[\"num_examples_per_domain_per_label_target\"]=100\n",
    "\n",
    "standalone_parameters[\"n_shot\"] = 3\n",
    "standalone_parameters[\"n_query\"]  = 2\n",
    "standalone_parameters[\"train_k_factor\"] = 1\n",
    "standalone_parameters[\"val_k_factor\"] = 2\n",
    "standalone_parameters[\"test_k_factor\"] = 2\n",
    "\n",
    "\n",
    "standalone_parameters[\"n_epoch\"] = 100\n",
    "\n",
    "standalone_parameters[\"patience\"] = 10\n",
    "standalone_parameters[\"criteria_for_best\"] = \"target_accuracy\"\n",
    "\n",
    "standalone_parameters[\"x_transforms_source\"] = [\"unit_power\"]\n",
    "standalone_parameters[\"x_transforms_target\"] = [\"unit_power\"]\n",
    "standalone_parameters[\"episode_transforms_source\"] = []\n",
    "standalone_parameters[\"episode_transforms_target\"] = []\n",
    "\n",
    "standalone_parameters[\"torch_default_dtype\"] = \"torch.float32\" \n",
    "\n",
    "\n",
    "\n",
    "standalone_parameters[\"x_net\"] =     [\n",
    "    {\"class\": \"nnReshape\", \"kargs\": {\"shape\":[-1, 1, 2, 256]}},\n",
    "    {\"class\": \"Conv2d\", \"kargs\": { \"in_channels\":1, \"out_channels\":256, \"kernel_size\":(1,7), \"bias\":False, \"padding\":(0,3), },},\n",
    "    {\"class\": \"ReLU\", \"kargs\": {\"inplace\": True}},\n",
    "    {\"class\": \"BatchNorm2d\", \"kargs\": {\"num_features\":256}},\n",
    "\n",
    "    {\"class\": \"Conv2d\", \"kargs\": { \"in_channels\":256, \"out_channels\":80, \"kernel_size\":(2,7), \"bias\":True, \"padding\":(0,3), },},\n",
    "    {\"class\": \"ReLU\", \"kargs\": {\"inplace\": True}},\n",
    "    {\"class\": \"BatchNorm2d\", \"kargs\": {\"num_features\":80}},\n",
    "    {\"class\": \"Flatten\", \"kargs\": {}},\n",
    "\n",
    "    {\"class\": \"Linear\", \"kargs\": {\"in_features\": 80*256, \"out_features\": 256}}, # 80 units per IQ pair\n",
    "    {\"class\": \"ReLU\", \"kargs\": {\"inplace\": True}},\n",
    "    {\"class\": \"BatchNorm1d\", \"kargs\": {\"num_features\":256}},\n",
    "\n",
    "    {\"class\": \"Linear\", \"kargs\": {\"in_features\": 256, \"out_features\": 256}},\n",
    "]\n",
    "\n",
    "# Parameters relevant to results\n",
    "# These parameters will basically never need to change\n",
    "standalone_parameters[\"NUM_LOGS_PER_EPOCH\"] = 10\n",
    "standalone_parameters[\"BEST_MODEL_PATH\"] = \"./best_model.pth\"\n",
    "\n",
    "# uncomment for CORES dataset\n",
    "from steves_utils.CORES.utils import (\n",
    "    ALL_NODES,\n",
    "    ALL_NODES_MINIMUM_1000_EXAMPLES,\n",
    "    ALL_DAYS\n",
    ")\n",
    "\n",
    "\n",
    "standalone_parameters[\"labels_source\"] = ALL_NODES\n",
    "standalone_parameters[\"labels_target\"] = ALL_NODES\n",
    "\n",
    "standalone_parameters[\"domains_source\"] = [1]\n",
    "standalone_parameters[\"domains_target\"] = [2,3,4,5]\n",
    "\n",
    "standalone_parameters[\"pickle_name\"] = \"cores.stratified_ds.2022A.pkl\"\n",
    "\n",
    "\n",
    "# Uncomment these for ORACLE dataset\n",
    "# from steves_utils.ORACLE.utils_v2 import (\n",
    "#     ALL_DISTANCES_FEET,\n",
    "#     ALL_RUNS,\n",
    "#     ALL_SERIAL_NUMBERS,\n",
    "# )\n",
    "# standalone_parameters[\"labels_source\"] = ALL_SERIAL_NUMBERS\n",
    "# standalone_parameters[\"labels_target\"] = ALL_SERIAL_NUMBERS\n",
    "# standalone_parameters[\"domains_source\"] = [8,20, 38,50]\n",
    "# standalone_parameters[\"domains_target\"] = [14, 26, 32, 44, 56]\n",
    "# standalone_parameters[\"pickle_name\"] = \"oracle.frame_indexed.stratified_ds.2022A.pkl\"\n",
    "# standalone_parameters[\"num_examples_per_domain_per_label_source\"]=1000\n",
    "# standalone_parameters[\"num_examples_per_domain_per_label_target\"]=1000\n",
    "\n",
    "# Uncomment these for Metahan dataset\n",
    "# standalone_parameters[\"labels_source\"] = list(range(19))\n",
    "# standalone_parameters[\"labels_target\"] = list(range(19))\n",
    "# standalone_parameters[\"domains_source\"] = [0]\n",
    "# standalone_parameters[\"domains_target\"] = [1]\n",
    "# standalone_parameters[\"pickle_name\"] = \"metehan.stratified_ds.2022A.pkl\"\n",
    "# standalone_parameters[\"n_way\"]  = len(standalone_parameters[\"labels_source\"])\n",
    "# standalone_parameters[\"num_examples_per_domain_per_label_source\"]=200\n",
    "# standalone_parameters[\"num_examples_per_domain_per_label_target\"]=100\n",
    "\n",
    "\n",
    "standalone_parameters[\"n_way\"]  = len(standalone_parameters[\"labels_source\"])"
   ]
  },
  {
   "cell_type": "code",
   "execution_count": 4,
   "id": "48e494a8",
   "metadata": {
    "execution": {
     "iopub.execute_input": "2022-03-06T03:23:03.204946Z",
     "iopub.status.busy": "2022-03-06T03:23:03.199616Z",
     "iopub.status.idle": "2022-03-06T03:23:03.218649Z",
     "shell.execute_reply": "2022-03-06T03:23:03.219122Z"
    },
    "papermill": {
     "duration": 0.031213,
     "end_time": "2022-03-06T03:23:03.219269",
     "exception": false,
     "start_time": "2022-03-06T03:23:03.188056",
     "status": "completed"
    },
    "tags": [
     "injected-parameters"
    ]
   },
   "outputs": [],
   "source": [
    "# Parameters\n",
    "parameters = {\n",
    "    \"experiment_name\": \"tuned_1_oracle.run2.framed\",\n",
    "    \"device\": \"cuda\",\n",
    "    \"lr\": 0.001,\n",
    "    \"seed\": 1337,\n",
    "    \"dataset_seed\": 1337,\n",
    "    \"labels_source\": [\n",
    "        \"3123D52\",\n",
    "        \"3123D65\",\n",
    "        \"3123D79\",\n",
    "        \"3123D80\",\n",
    "        \"3123D54\",\n",
    "        \"3123D70\",\n",
    "        \"3123D7B\",\n",
    "        \"3123D89\",\n",
    "        \"3123D58\",\n",
    "        \"3123D76\",\n",
    "        \"3123D7D\",\n",
    "        \"3123EFE\",\n",
    "        \"3123D64\",\n",
    "        \"3123D78\",\n",
    "        \"3123D7E\",\n",
    "        \"3124E4A\",\n",
    "    ],\n",
    "    \"labels_target\": [\n",
    "        \"3123D52\",\n",
    "        \"3123D65\",\n",
    "        \"3123D79\",\n",
    "        \"3123D80\",\n",
    "        \"3123D54\",\n",
    "        \"3123D70\",\n",
    "        \"3123D7B\",\n",
    "        \"3123D89\",\n",
    "        \"3123D58\",\n",
    "        \"3123D76\",\n",
    "        \"3123D7D\",\n",
    "        \"3123EFE\",\n",
    "        \"3123D64\",\n",
    "        \"3123D78\",\n",
    "        \"3123D7E\",\n",
    "        \"3124E4A\",\n",
    "    ],\n",
    "    \"x_transforms_source\": [\"unit_mag\"],\n",
    "    \"x_transforms_target\": [\"unit_mag\"],\n",
    "    \"episode_transforms_source\": [],\n",
    "    \"episode_transforms_target\": [],\n",
    "    \"domains_source\": [8, 32, 50],\n",
    "    \"domains_target\": [14, 20, 26, 38, 44],\n",
    "    \"num_examples_per_domain_per_label_source\": 2000,\n",
    "    \"num_examples_per_domain_per_label_target\": 2000,\n",
    "    \"n_shot\": 3,\n",
    "    \"n_way\": 16,\n",
    "    \"n_query\": 2,\n",
    "    \"train_k_factor\": 3,\n",
    "    \"val_k_factor\": 2,\n",
    "    \"test_k_factor\": 2,\n",
    "    \"torch_default_dtype\": \"torch.float32\",\n",
    "    \"n_epoch\": 50,\n",
    "    \"patience\": 3,\n",
    "    \"criteria_for_best\": \"target_loss\",\n",
    "    \"x_net\": [\n",
    "        {\"class\": \"nnReshape\", \"kargs\": {\"shape\": [-1, 1, 2, 256]}},\n",
    "        {\n",
    "            \"class\": \"Conv2d\",\n",
    "            \"kargs\": {\n",
    "                \"in_channels\": 1,\n",
    "                \"out_channels\": 256,\n",
    "                \"kernel_size\": [1, 7],\n",
    "                \"bias\": False,\n",
    "                \"padding\": [0, 3],\n",
    "            },\n",
    "        },\n",
    "        {\"class\": \"ReLU\", \"kargs\": {\"inplace\": True}},\n",
    "        {\"class\": \"BatchNorm2d\", \"kargs\": {\"num_features\": 256}},\n",
    "        {\n",
    "            \"class\": \"Conv2d\",\n",
    "            \"kargs\": {\n",
    "                \"in_channels\": 256,\n",
    "                \"out_channels\": 80,\n",
    "                \"kernel_size\": [2, 7],\n",
    "                \"bias\": True,\n",
    "                \"padding\": [0, 3],\n",
    "            },\n",
    "        },\n",
    "        {\"class\": \"ReLU\", \"kargs\": {\"inplace\": True}},\n",
    "        {\"class\": \"BatchNorm2d\", \"kargs\": {\"num_features\": 80}},\n",
    "        {\"class\": \"Flatten\", \"kargs\": {}},\n",
    "        {\"class\": \"Linear\", \"kargs\": {\"in_features\": 20480, \"out_features\": 256}},\n",
    "        {\"class\": \"ReLU\", \"kargs\": {\"inplace\": True}},\n",
    "        {\"class\": \"BatchNorm1d\", \"kargs\": {\"num_features\": 256}},\n",
    "        {\"class\": \"Linear\", \"kargs\": {\"in_features\": 256, \"out_features\": 256}},\n",
    "    ],\n",
    "    \"NUM_LOGS_PER_EPOCH\": 10,\n",
    "    \"BEST_MODEL_PATH\": \"./best_model.pth\",\n",
    "    \"pickle_name\": \"oracle.Run2_framed_2000Examples_stratified_ds.2022A.pkl\",\n",
    "}\n"
   ]
  },
  {
   "cell_type": "code",
   "execution_count": 5,
   "id": "8fa1cc33",
   "metadata": {
    "execution": {
     "iopub.execute_input": "2022-03-06T03:23:03.246806Z",
     "iopub.status.busy": "2022-03-06T03:23:03.246509Z",
     "iopub.status.idle": "2022-03-06T03:23:03.259134Z",
     "shell.execute_reply": "2022-03-06T03:23:03.259481Z"
    },
    "papermill": {
     "duration": 0.02613,
     "end_time": "2022-03-06T03:23:03.259595",
     "exception": false,
     "start_time": "2022-03-06T03:23:03.233465",
     "status": "completed"
    },
    "tags": []
   },
   "outputs": [],
   "source": [
    "# Set this to True if you want to run this template directly\n",
    "STANDALONE = False\n",
    "if STANDALONE:\n",
    "    print(\"parameters not injected, running with standalone_parameters\")\n",
    "    parameters = standalone_parameters\n",
    "\n",
    "if not 'parameters' in locals() and not 'parameters' in globals():\n",
    "    raise Exception(\"Parameter injection failed\")\n",
    "\n",
    "#Use an easy dict for all the parameters\n",
    "p = EasyDict(parameters)\n",
    "\n",
    "supplied_keys = set(p.keys())\n",
    "\n",
    "if  supplied_keys != required_parameters:\n",
    "    print(\"Parameters are incorrect\")\n",
    "    if len(supplied_keys - required_parameters)>0: print(\"Shouldn't have:\", str(supplied_keys - required_parameters))\n",
    "    if len(required_parameters - supplied_keys)>0: print(\"Need to have:\", str(required_parameters - supplied_keys))\n",
    "    raise RuntimeError(\"Parameters are incorrect\")\n",
    "\n"
   ]
  },
  {
   "cell_type": "code",
   "execution_count": 6,
   "id": "3a028d58",
   "metadata": {
    "execution": {
     "iopub.execute_input": "2022-03-06T03:23:03.286225Z",
     "iopub.status.busy": "2022-03-06T03:23:03.285091Z",
     "iopub.status.idle": "2022-03-06T03:23:03.299446Z",
     "shell.execute_reply": "2022-03-06T03:23:03.299090Z"
    },
    "papermill": {
     "duration": 0.025819,
     "end_time": "2022-03-06T03:23:03.299548",
     "exception": false,
     "start_time": "2022-03-06T03:23:03.273729",
     "status": "completed"
    },
    "tags": []
   },
   "outputs": [],
   "source": [
    "###################################\n",
    "# Set the RNGs and make it all deterministic\n",
    "###################################\n",
    "np.random.seed(p.seed)\n",
    "random.seed(p.seed)\n",
    "torch.manual_seed(p.seed)\n",
    "\n",
    "torch.use_deterministic_algorithms(True) "
   ]
  },
  {
   "cell_type": "code",
   "execution_count": 7,
   "id": "b691acf6",
   "metadata": {
    "execution": {
     "iopub.execute_input": "2022-03-06T03:23:03.327727Z",
     "iopub.status.busy": "2022-03-06T03:23:03.327447Z",
     "iopub.status.idle": "2022-03-06T03:23:03.341170Z",
     "shell.execute_reply": "2022-03-06T03:23:03.340834Z"
    },
    "papermill": {
     "duration": 0.026056,
     "end_time": "2022-03-06T03:23:03.341254",
     "exception": false,
     "start_time": "2022-03-06T03:23:03.315198",
     "status": "completed"
    },
    "tags": []
   },
   "outputs": [],
   "source": [
    "###########################################\n",
    "# The stratified datasets honor this\n",
    "###########################################\n",
    "torch.set_default_dtype(eval(p.torch_default_dtype))"
   ]
  },
  {
   "cell_type": "code",
   "execution_count": 8,
   "id": "b5fba671",
   "metadata": {
    "execution": {
     "iopub.execute_input": "2022-03-06T03:23:03.372910Z",
     "iopub.status.busy": "2022-03-06T03:23:03.372546Z",
     "iopub.status.idle": "2022-03-06T03:23:03.415708Z",
     "shell.execute_reply": "2022-03-06T03:23:03.416016Z"
    },
    "papermill": {
     "duration": 0.060259,
     "end_time": "2022-03-06T03:23:03.416121",
     "exception": false,
     "start_time": "2022-03-06T03:23:03.355862",
     "status": "completed"
    },
    "tags": []
   },
   "outputs": [],
   "source": [
    "###################################\n",
    "# Build the network(s)\n",
    "# Note: It's critical to do this AFTER setting the RNG\n",
    "# (This is due to the randomized initial weights)\n",
    "###################################\n",
    "x_net = build_sequential(p.x_net)"
   ]
  },
  {
   "cell_type": "code",
   "execution_count": 9,
   "id": "5d7e61cc",
   "metadata": {
    "execution": {
     "iopub.execute_input": "2022-03-06T03:23:03.448890Z",
     "iopub.status.busy": "2022-03-06T03:23:03.448524Z",
     "iopub.status.idle": "2022-03-06T03:23:03.461355Z",
     "shell.execute_reply": "2022-03-06T03:23:03.461639Z"
    },
    "papermill": {
     "duration": 0.030199,
     "end_time": "2022-03-06T03:23:03.461739",
     "exception": false,
     "start_time": "2022-03-06T03:23:03.431540",
     "status": "completed"
    },
    "tags": []
   },
   "outputs": [],
   "source": [
    "start_time_secs = time.time()"
   ]
  },
  {
   "cell_type": "code",
   "execution_count": 10,
   "id": "fd5442bc",
   "metadata": {
    "execution": {
     "iopub.execute_input": "2022-03-06T03:23:03.496534Z",
     "iopub.status.busy": "2022-03-06T03:23:03.490239Z",
     "iopub.status.idle": "2022-03-06T03:23:20.874186Z",
     "shell.execute_reply": "2022-03-06T03:23:20.873911Z"
    },
    "papermill": {
     "duration": 17.3975,
     "end_time": "2022-03-06T03:23:20.874254",
     "exception": false,
     "start_time": "2022-03-06T03:23:03.476754",
     "status": "completed"
    },
    "tags": []
   },
   "outputs": [],
   "source": [
    "###################################\n",
    "# Build the dataset\n",
    "###################################\n",
    "\n",
    "if p.x_transforms_source == []: x_transform_source = None\n",
    "else: x_transform_source = get_chained_transform(p.x_transforms_source) \n",
    "\n",
    "if p.x_transforms_target == []: x_transform_target = None\n",
    "else: x_transform_target = get_chained_transform(p.x_transforms_target)\n",
    "\n",
    "if p.episode_transforms_source == []: episode_transform_source = None\n",
    "else: raise Exception(\"episode_transform_source not implemented\")\n",
    "\n",
    "if p.episode_transforms_target == []: episode_transform_target = None\n",
    "else: raise Exception(\"episode_transform_target not implemented\")\n",
    "\n",
    "\n",
    "eaf_source = Episodic_Accessor_Factory(\n",
    "    labels=p.labels_source,\n",
    "    domains=p.domains_source,\n",
    "    num_examples_per_domain_per_label=p.num_examples_per_domain_per_label_source,\n",
    "    iterator_seed=p.seed,\n",
    "    dataset_seed=p.dataset_seed,\n",
    "    n_shot=p.n_shot,\n",
    "    n_way=p.n_way,\n",
    "    n_query=p.n_query,\n",
    "    train_val_test_k_factors=(p.train_k_factor,p.val_k_factor,p.test_k_factor),\n",
    "    pickle_path=os.path.join(get_datasets_base_path(), p.pickle_name),\n",
    "    x_transform_func=x_transform_source,\n",
    "    example_transform_func=episode_transform_source,\n",
    "    \n",
    ")\n",
    "train_original_source, val_original_source, test_original_source = eaf_source.get_train(), eaf_source.get_val(), eaf_source.get_test()\n",
    "\n",
    "\n",
    "eaf_target = Episodic_Accessor_Factory(\n",
    "    labels=p.labels_target,\n",
    "    domains=p.domains_target,\n",
    "    num_examples_per_domain_per_label=p.num_examples_per_domain_per_label_target,\n",
    "    iterator_seed=p.seed,\n",
    "    dataset_seed=p.dataset_seed,\n",
    "    n_shot=p.n_shot,\n",
    "    n_way=p.n_way,\n",
    "    n_query=p.n_query,\n",
    "    train_val_test_k_factors=(p.train_k_factor,p.val_k_factor,p.test_k_factor),\n",
    "    pickle_path=os.path.join(get_datasets_base_path(), p.pickle_name),\n",
    "    x_transform_func=x_transform_target,\n",
    "    example_transform_func=episode_transform_target,\n",
    ")\n",
    "train_original_target, val_original_target, test_original_target = eaf_target.get_train(), eaf_target.get_val(), eaf_target.get_test()\n",
    "\n",
    "\n",
    "transform_lambda = lambda ex: ex[1] # Original is (<domain>, <episode>) so we strip down to episode only\n",
    "\n",
    "train_processed_source = Lazy_Iterable_Wrapper(train_original_source, transform_lambda)\n",
    "val_processed_source   = Lazy_Iterable_Wrapper(val_original_source, transform_lambda)\n",
    "test_processed_source  = Lazy_Iterable_Wrapper(test_original_source, transform_lambda)\n",
    "\n",
    "train_processed_target = Lazy_Iterable_Wrapper(train_original_target, transform_lambda)\n",
    "val_processed_target   = Lazy_Iterable_Wrapper(val_original_target, transform_lambda)\n",
    "test_processed_target  = Lazy_Iterable_Wrapper(test_original_target, transform_lambda)\n",
    "\n",
    "datasets = EasyDict({\n",
    "    \"source\": {\n",
    "        \"original\": {\"train\":train_original_source, \"val\":val_original_source, \"test\":test_original_source},\n",
    "        \"processed\": {\"train\":train_processed_source, \"val\":val_processed_source, \"test\":test_processed_source}\n",
    "    },\n",
    "    \"target\": {\n",
    "        \"original\": {\"train\":train_original_target, \"val\":val_original_target, \"test\":test_original_target},\n",
    "        \"processed\": {\"train\":train_processed_target, \"val\":val_processed_target, \"test\":test_processed_target}\n",
    "    },\n",
    "})"
   ]
  },
  {
   "cell_type": "code",
   "execution_count": 11,
   "id": "296189d9",
   "metadata": {
    "execution": {
     "iopub.execute_input": "2022-03-06T03:23:20.904269Z",
     "iopub.status.busy": "2022-03-06T03:23:20.900572Z",
     "iopub.status.idle": "2022-03-06T03:23:25.004579Z",
     "shell.execute_reply": "2022-03-06T03:23:25.005141Z"
    },
    "papermill": {
     "duration": 4.119671,
     "end_time": "2022-03-06T03:23:25.005258",
     "exception": false,
     "start_time": "2022-03-06T03:23:20.885587",
     "status": "completed"
    },
    "tags": []
   },
   "outputs": [
    {
     "name": "stdout",
     "output_type": "stream",
     "text": [
      "Visually inspect these to see if they line up with expected values given the transforms\n",
      "x_transforms_source ['unit_mag']\n",
      "x_transforms_target ['unit_mag']\n",
      "Average magnitude, source: 1.0\n",
      "Average power, source: 1.0890527\n"
     ]
    },
    {
     "name": "stdout",
     "output_type": "stream",
     "text": [
      "Average magnitude, target: 1.0\n",
      "Average power, target: 1.0959702\n"
     ]
    }
   ],
   "source": [
    "# Some quick unit tests on the data\n",
    "from steves_utils.transforms import get_average_power, get_average_magnitude\n",
    "\n",
    "q_x, q_y, s_x, s_y, truth = next(iter(train_processed_source))\n",
    "\n",
    "assert q_x.dtype == eval(p.torch_default_dtype)\n",
    "assert s_x.dtype == eval(p.torch_default_dtype)\n",
    "\n",
    "print(\"Visually inspect these to see if they line up with expected values given the transforms\")\n",
    "print('x_transforms_source', p.x_transforms_source)\n",
    "print('x_transforms_target', p.x_transforms_target)\n",
    "print(\"Average magnitude, source:\", get_average_magnitude(q_x[0].numpy()))\n",
    "print(\"Average power, source:\", get_average_power(q_x[0].numpy()))\n",
    "\n",
    "q_x, q_y, s_x, s_y, truth = next(iter(train_processed_target))\n",
    "print(\"Average magnitude, target:\", get_average_magnitude(q_x[0].numpy()))\n",
    "print(\"Average power, target:\", get_average_power(q_x[0].numpy()))\n"
   ]
  },
  {
   "cell_type": "code",
   "execution_count": 12,
   "id": "bbdacba1",
   "metadata": {
    "execution": {
     "iopub.execute_input": "2022-03-06T03:23:25.045546Z",
     "iopub.status.busy": "2022-03-06T03:23:25.043318Z",
     "iopub.status.idle": "2022-03-06T03:23:25.106863Z",
     "shell.execute_reply": "2022-03-06T03:23:25.106526Z"
    },
    "papermill": {
     "duration": 0.084423,
     "end_time": "2022-03-06T03:23:25.106951",
     "exception": false,
     "start_time": "2022-03-06T03:23:25.022528",
     "status": "completed"
    },
    "tags": []
   },
   "outputs": [
    {
     "name": "stdout",
     "output_type": "stream",
     "text": [
      "(2, 256)\n"
     ]
    }
   ],
   "source": [
    "###################################\n",
    "# Build the model\n",
    "###################################\n",
    "model = Steves_Prototypical_Network(x_net, device=p.device, x_shape=(2,256))\n",
    "optimizer = Adam(params=model.parameters(), lr=p.lr)"
   ]
  },
  {
   "cell_type": "code",
   "execution_count": 13,
   "id": "22b39ac5",
   "metadata": {
    "execution": {
     "iopub.execute_input": "2022-03-06T03:23:25.137878Z",
     "iopub.status.busy": "2022-03-06T03:23:25.135860Z",
     "iopub.status.idle": "2022-03-06T04:26:07.372534Z",
     "shell.execute_reply": "2022-03-06T04:26:07.372961Z"
    },
    "papermill": {
     "duration": 3762.252718,
     "end_time": "2022-03-06T04:26:07.373095",
     "exception": false,
     "start_time": "2022-03-06T03:23:25.120377",
     "status": "completed"
    },
    "tags": []
   },
   "outputs": [
    {
     "name": "stdout",
     "output_type": "stream",
     "text": [
      "epoch: 1, [batch: 1 / 2520], examples_per_second: 99.0042, train_label_loss: 2.9483, \n"
     ]
    },
    {
     "name": "stdout",
     "output_type": "stream",
     "text": [
      "epoch: 1, [batch: 252 / 2520], examples_per_second: 468.5559, train_label_loss: 1.6160, \n"
     ]
    },
    {
     "name": "stdout",
     "output_type": "stream",
     "text": [
      "epoch: 1, [batch: 504 / 2520], examples_per_second: 474.4365, train_label_loss: 0.7386, \n"
     ]
    },
    {
     "name": "stdout",
     "output_type": "stream",
     "text": [
      "epoch: 1, [batch: 756 / 2520], examples_per_second: 453.9718, train_label_loss: 0.6259, \n"
     ]
    },
    {
     "name": "stdout",
     "output_type": "stream",
     "text": [
      "epoch: 1, [batch: 1008 / 2520], examples_per_second: 506.0868, train_label_loss: 0.6996, \n"
     ]
    },
    {
     "name": "stdout",
     "output_type": "stream",
     "text": [
      "epoch: 1, [batch: 1260 / 2520], examples_per_second: 504.1185, train_label_loss: 0.8050, \n"
     ]
    },
    {
     "name": "stdout",
     "output_type": "stream",
     "text": [
      "epoch: 1, [batch: 1512 / 2520], examples_per_second: 456.8827, train_label_loss: 0.4808, \n"
     ]
    },
    {
     "name": "stdout",
     "output_type": "stream",
     "text": [
      "epoch: 1, [batch: 1764 / 2520], examples_per_second: 464.9901, train_label_loss: 0.7276, \n"
     ]
    },
    {
     "name": "stdout",
     "output_type": "stream",
     "text": [
      "epoch: 1, [batch: 2016 / 2520], examples_per_second: 442.5426, train_label_loss: 0.5580, \n"
     ]
    },
    {
     "name": "stdout",
     "output_type": "stream",
     "text": [
      "epoch: 1, [batch: 2268 / 2520], examples_per_second: 456.8291, train_label_loss: 0.6746, \n"
     ]
    },
    {
     "name": "stdout",
     "output_type": "stream",
     "text": [
      "=============================================================\n",
      "epoch: 1, source_val_acc_label: 0.6793, target_val_acc_label: 0.5166, source_val_label_loss: 63.3311, target_val_label_loss: 178.6729, \n",
      "=============================================================\n"
     ]
    },
    {
     "name": "stdout",
     "output_type": "stream",
     "text": [
      "New best\n"
     ]
    },
    {
     "name": "stdout",
     "output_type": "stream",
     "text": [
      "epoch: 2, [batch: 1 / 2520], examples_per_second: 1.5533, train_label_loss: 7.6313, \n"
     ]
    },
    {
     "name": "stdout",
     "output_type": "stream",
     "text": [
      "epoch: 2, [batch: 252 / 2520], examples_per_second: 449.4846, train_label_loss: 0.7985, \n"
     ]
    },
    {
     "name": "stdout",
     "output_type": "stream",
     "text": [
      "epoch: 2, [batch: 504 / 2520], examples_per_second: 460.2889, train_label_loss: 0.9303, \n"
     ]
    },
    {
     "name": "stdout",
     "output_type": "stream",
     "text": [
      "epoch: 2, [batch: 756 / 2520], examples_per_second: 454.7097, train_label_loss: 1.0671, \n"
     ]
    },
    {
     "name": "stdout",
     "output_type": "stream",
     "text": [
      "epoch: 2, [batch: 1008 / 2520], examples_per_second: 474.2524, train_label_loss: 1.0077, \n"
     ]
    },
    {
     "name": "stdout",
     "output_type": "stream",
     "text": [
      "epoch: 2, [batch: 1260 / 2520], examples_per_second: 512.0052, train_label_loss: 0.6713, \n"
     ]
    },
    {
     "name": "stdout",
     "output_type": "stream",
     "text": [
      "epoch: 2, [batch: 1512 / 2520], examples_per_second: 454.4913, train_label_loss: 0.8104, \n"
     ]
    },
    {
     "name": "stdout",
     "output_type": "stream",
     "text": [
      "epoch: 2, [batch: 1764 / 2520], examples_per_second: 469.3714, train_label_loss: 0.7890, \n"
     ]
    },
    {
     "name": "stdout",
     "output_type": "stream",
     "text": [
      "epoch: 2, [batch: 2016 / 2520], examples_per_second: 468.8723, train_label_loss: 0.7398, \n"
     ]
    },
    {
     "name": "stdout",
     "output_type": "stream",
     "text": [
      "epoch: 2, [batch: 2268 / 2520], examples_per_second: 449.9278, train_label_loss: 0.9295, \n"
     ]
    },
    {
     "name": "stdout",
     "output_type": "stream",
     "text": [
      "=============================================================\n",
      "epoch: 2, source_val_acc_label: 0.6986, target_val_acc_label: 0.5880, source_val_label_loss: 0.7853, target_val_label_loss: 161.3528, \n",
      "=============================================================\n"
     ]
    },
    {
     "name": "stdout",
     "output_type": "stream",
     "text": [
      "New best\n"
     ]
    },
    {
     "name": "stdout",
     "output_type": "stream",
     "text": [
      "epoch: 3, [batch: 1 / 2520], examples_per_second: 1.5663, train_label_loss: 0.8008, \n"
     ]
    },
    {
     "name": "stdout",
     "output_type": "stream",
     "text": [
      "epoch: 3, [batch: 252 / 2520], examples_per_second: 458.7191, train_label_loss: 0.6318, \n"
     ]
    },
    {
     "name": "stdout",
     "output_type": "stream",
     "text": [
      "epoch: 3, [batch: 504 / 2520], examples_per_second: 447.6651, train_label_loss: 0.4297, \n"
     ]
    },
    {
     "name": "stdout",
     "output_type": "stream",
     "text": [
      "epoch: 3, [batch: 756 / 2520], examples_per_second: 466.8852, train_label_loss: 1.1133, \n"
     ]
    },
    {
     "name": "stdout",
     "output_type": "stream",
     "text": [
      "epoch: 3, [batch: 1008 / 2520], examples_per_second: 477.4614, train_label_loss: 0.9390, \n"
     ]
    },
    {
     "name": "stdout",
     "output_type": "stream",
     "text": [
      "epoch: 3, [batch: 1260 / 2520], examples_per_second: 549.2747, train_label_loss: 0.8239, \n"
     ]
    },
    {
     "name": "stdout",
     "output_type": "stream",
     "text": [
      "epoch: 3, [batch: 1512 / 2520], examples_per_second: 495.1746, train_label_loss: 0.5000, \n"
     ]
    },
    {
     "name": "stdout",
     "output_type": "stream",
     "text": [
      "epoch: 3, [batch: 1764 / 2520], examples_per_second: 445.2855, train_label_loss: 0.6863, \n"
     ]
    },
    {
     "name": "stdout",
     "output_type": "stream",
     "text": [
      "epoch: 3, [batch: 2016 / 2520], examples_per_second: 480.7723, train_label_loss: 0.8896, \n"
     ]
    },
    {
     "name": "stdout",
     "output_type": "stream",
     "text": [
      "epoch: 3, [batch: 2268 / 2520], examples_per_second: 484.6793, train_label_loss: 0.6522, \n"
     ]
    },
    {
     "name": "stdout",
     "output_type": "stream",
     "text": [
      "=============================================================\n",
      "epoch: 3, source_val_acc_label: 0.7359, target_val_acc_label: 0.6249, source_val_label_loss: 0.7064, target_val_label_loss: 1.9420, \n",
      "=============================================================\n"
     ]
    },
    {
     "name": "stdout",
     "output_type": "stream",
     "text": [
      "New best\n"
     ]
    },
    {
     "name": "stdout",
     "output_type": "stream",
     "text": [
      "epoch: 4, [batch: 1 / 2520], examples_per_second: 1.6995, train_label_loss: 0.6146, \n"
     ]
    },
    {
     "name": "stdout",
     "output_type": "stream",
     "text": [
      "epoch: 4, [batch: 252 / 2520], examples_per_second: 503.0499, train_label_loss: 0.8054, \n"
     ]
    },
    {
     "name": "stdout",
     "output_type": "stream",
     "text": [
      "epoch: 4, [batch: 504 / 2520], examples_per_second: 490.8072, train_label_loss: 0.5331, \n"
     ]
    },
    {
     "name": "stdout",
     "output_type": "stream",
     "text": [
      "epoch: 4, [batch: 756 / 2520], examples_per_second: 494.7333, train_label_loss: 0.9222, \n"
     ]
    },
    {
     "name": "stdout",
     "output_type": "stream",
     "text": [
      "epoch: 4, [batch: 1008 / 2520], examples_per_second: 500.5012, train_label_loss: 0.5953, \n"
     ]
    },
    {
     "name": "stdout",
     "output_type": "stream",
     "text": [
      "epoch: 4, [batch: 1260 / 2520], examples_per_second: 528.3979, train_label_loss: 0.7419, \n"
     ]
    },
    {
     "name": "stdout",
     "output_type": "stream",
     "text": [
      "epoch: 4, [batch: 1512 / 2520], examples_per_second: 555.8704, train_label_loss: 0.6087, \n"
     ]
    },
    {
     "name": "stdout",
     "output_type": "stream",
     "text": [
      "epoch: 4, [batch: 1764 / 2520], examples_per_second: 484.1692, train_label_loss: 0.5820, \n"
     ]
    },
    {
     "name": "stdout",
     "output_type": "stream",
     "text": [
      "epoch: 4, [batch: 2016 / 2520], examples_per_second: 496.2463, train_label_loss: 0.5503, \n"
     ]
    },
    {
     "name": "stdout",
     "output_type": "stream",
     "text": [
      "epoch: 4, [batch: 2268 / 2520], examples_per_second: 492.9336, train_label_loss: 0.5733, \n"
     ]
    },
    {
     "name": "stdout",
     "output_type": "stream",
     "text": [
      "=============================================================\n",
      "epoch: 4, source_val_acc_label: 0.7688, target_val_acc_label: 0.6555, source_val_label_loss: 0.6268, target_val_label_loss: 1.9074, \n",
      "=============================================================\n"
     ]
    },
    {
     "name": "stdout",
     "output_type": "stream",
     "text": [
      "New best\n"
     ]
    },
    {
     "name": "stdout",
     "output_type": "stream",
     "text": [
      "epoch: 5, [batch: 1 / 2520], examples_per_second: 1.6751, train_label_loss: 0.5736, \n"
     ]
    },
    {
     "name": "stdout",
     "output_type": "stream",
     "text": [
      "epoch: 5, [batch: 252 / 2520], examples_per_second: 498.4217, train_label_loss: 0.6696, \n"
     ]
    },
    {
     "name": "stdout",
     "output_type": "stream",
     "text": [
      "epoch: 5, [batch: 504 / 2520], examples_per_second: 502.2563, train_label_loss: 0.6199, \n"
     ]
    },
    {
     "name": "stdout",
     "output_type": "stream",
     "text": [
      "epoch: 5, [batch: 756 / 2520], examples_per_second: 485.8303, train_label_loss: 0.7311, \n"
     ]
    },
    {
     "name": "stdout",
     "output_type": "stream",
     "text": [
      "epoch: 5, [batch: 1008 / 2520], examples_per_second: 503.7573, train_label_loss: 0.5840, \n"
     ]
    },
    {
     "name": "stdout",
     "output_type": "stream",
     "text": [
      "epoch: 5, [batch: 1260 / 2520], examples_per_second: 516.3484, train_label_loss: 0.5699, \n"
     ]
    },
    {
     "name": "stdout",
     "output_type": "stream",
     "text": [
      "epoch: 5, [batch: 1512 / 2520], examples_per_second: 537.8649, train_label_loss: 0.6732, \n"
     ]
    },
    {
     "name": "stdout",
     "output_type": "stream",
     "text": [
      "epoch: 5, [batch: 1764 / 2520], examples_per_second: 512.1069, train_label_loss: 0.4495, \n"
     ]
    },
    {
     "name": "stdout",
     "output_type": "stream",
     "text": [
      "epoch: 5, [batch: 2016 / 2520], examples_per_second: 485.5791, train_label_loss: 0.4542, \n"
     ]
    },
    {
     "name": "stdout",
     "output_type": "stream",
     "text": [
      "epoch: 5, [batch: 2268 / 2520], examples_per_second: 512.0120, train_label_loss: 0.5097, \n"
     ]
    },
    {
     "name": "stdout",
     "output_type": "stream",
     "text": [
      "=============================================================\n",
      "epoch: 5, source_val_acc_label: 0.7637, target_val_acc_label: 0.6660, source_val_label_loss: 0.6303, target_val_label_loss: 1.9317, \n",
      "=============================================================\n"
     ]
    },
    {
     "name": "stdout",
     "output_type": "stream",
     "text": [
      "epoch: 6, [batch: 1 / 2520], examples_per_second: 1.7221, train_label_loss: 0.6160, \n"
     ]
    },
    {
     "name": "stdout",
     "output_type": "stream",
     "text": [
      "epoch: 6, [batch: 252 / 2520], examples_per_second: 515.5332, train_label_loss: 0.8112, \n"
     ]
    },
    {
     "name": "stdout",
     "output_type": "stream",
     "text": [
      "epoch: 6, [batch: 504 / 2520], examples_per_second: 503.0192, train_label_loss: 0.7022, \n"
     ]
    },
    {
     "name": "stdout",
     "output_type": "stream",
     "text": [
      "epoch: 6, [batch: 756 / 2520], examples_per_second: 514.7865, train_label_loss: 0.7366, \n"
     ]
    },
    {
     "name": "stdout",
     "output_type": "stream",
     "text": [
      "epoch: 6, [batch: 1008 / 2520], examples_per_second: 512.8271, train_label_loss: 0.7586, \n"
     ]
    },
    {
     "name": "stdout",
     "output_type": "stream",
     "text": [
      "epoch: 6, [batch: 1260 / 2520], examples_per_second: 525.6648, train_label_loss: 0.5346, \n"
     ]
    },
    {
     "name": "stdout",
     "output_type": "stream",
     "text": [
      "epoch: 6, [batch: 1512 / 2520], examples_per_second: 580.6273, train_label_loss: 0.6629, \n"
     ]
    },
    {
     "name": "stdout",
     "output_type": "stream",
     "text": [
      "epoch: 6, [batch: 1764 / 2520], examples_per_second: 483.6283, train_label_loss: 0.6138, \n"
     ]
    },
    {
     "name": "stdout",
     "output_type": "stream",
     "text": [
      "epoch: 6, [batch: 2016 / 2520], examples_per_second: 481.2153, train_label_loss: 0.5767, \n"
     ]
    },
    {
     "name": "stdout",
     "output_type": "stream",
     "text": [
      "epoch: 6, [batch: 2268 / 2520], examples_per_second: 467.5420, train_label_loss: 0.6040, \n"
     ]
    },
    {
     "name": "stdout",
     "output_type": "stream",
     "text": [
      "=============================================================\n",
      "epoch: 6, source_val_acc_label: 0.8062, target_val_acc_label: 0.6984, source_val_label_loss: 0.5342, target_val_label_loss: 3.1785, \n",
      "=============================================================\n"
     ]
    },
    {
     "name": "stdout",
     "output_type": "stream",
     "text": [
      "epoch: 7, [batch: 1 / 2520], examples_per_second: 1.6063, train_label_loss: 0.6584, \n"
     ]
    },
    {
     "name": "stdout",
     "output_type": "stream",
     "text": [
      "epoch: 7, [batch: 252 / 2520], examples_per_second: 514.1627, train_label_loss: 0.8893, \n"
     ]
    },
    {
     "name": "stdout",
     "output_type": "stream",
     "text": [
      "epoch: 7, [batch: 504 / 2520], examples_per_second: 475.3081, train_label_loss: 0.4348, \n"
     ]
    },
    {
     "name": "stdout",
     "output_type": "stream",
     "text": [
      "epoch: 7, [batch: 756 / 2520], examples_per_second: 465.0387, train_label_loss: 0.4937, \n"
     ]
    },
    {
     "name": "stdout",
     "output_type": "stream",
     "text": [
      "epoch: 7, [batch: 1008 / 2520], examples_per_second: 483.7330, train_label_loss: 0.6767, \n"
     ]
    },
    {
     "name": "stdout",
     "output_type": "stream",
     "text": [
      "epoch: 7, [batch: 1260 / 2520], examples_per_second: 469.4215, train_label_loss: 0.5352, \n"
     ]
    },
    {
     "name": "stdout",
     "output_type": "stream",
     "text": [
      "epoch: 7, [batch: 1512 / 2520], examples_per_second: 527.8722, train_label_loss: 0.3637, \n"
     ]
    },
    {
     "name": "stdout",
     "output_type": "stream",
     "text": [
      "epoch: 7, [batch: 1764 / 2520], examples_per_second: 498.7979, train_label_loss: 0.4273, \n"
     ]
    },
    {
     "name": "stdout",
     "output_type": "stream",
     "text": [
      "epoch: 7, [batch: 2016 / 2520], examples_per_second: 467.4247, train_label_loss: 0.2887, \n"
     ]
    },
    {
     "name": "stdout",
     "output_type": "stream",
     "text": [
      "epoch: 7, [batch: 2268 / 2520], examples_per_second: 479.1306, train_label_loss: 0.5547, \n"
     ]
    },
    {
     "name": "stdout",
     "output_type": "stream",
     "text": [
      "=============================================================\n",
      "epoch: 7, source_val_acc_label: 0.8126, target_val_acc_label: 0.7115, source_val_label_loss: 0.5183, target_val_label_loss: 2.0890, \n",
      "=============================================================\n"
     ]
    },
    {
     "name": "stdout",
     "output_type": "stream",
     "text": [
      "epoch: 8, [batch: 1 / 2520], examples_per_second: 1.5981, train_label_loss: 0.4710, \n"
     ]
    },
    {
     "name": "stdout",
     "output_type": "stream",
     "text": [
      "epoch: 8, [batch: 252 / 2520], examples_per_second: 506.5729, train_label_loss: 0.6544, \n"
     ]
    },
    {
     "name": "stdout",
     "output_type": "stream",
     "text": [
      "epoch: 8, [batch: 504 / 2520], examples_per_second: 483.8557, train_label_loss: 0.4523, \n"
     ]
    },
    {
     "name": "stdout",
     "output_type": "stream",
     "text": [
      "epoch: 8, [batch: 756 / 2520], examples_per_second: 475.9149, train_label_loss: 0.3143, \n"
     ]
    },
    {
     "name": "stdout",
     "output_type": "stream",
     "text": [
      "epoch: 8, [batch: 1008 / 2520], examples_per_second: 501.5290, train_label_loss: 0.3581, \n"
     ]
    },
    {
     "name": "stdout",
     "output_type": "stream",
     "text": [
      "epoch: 8, [batch: 1260 / 2520], examples_per_second: 485.3232, train_label_loss: 0.3432, \n"
     ]
    },
    {
     "name": "stdout",
     "output_type": "stream",
     "text": [
      "epoch: 8, [batch: 1512 / 2520], examples_per_second: 510.4463, train_label_loss: 0.4363, \n"
     ]
    },
    {
     "name": "stdout",
     "output_type": "stream",
     "text": [
      "epoch: 8, [batch: 1764 / 2520], examples_per_second: 521.3611, train_label_loss: 0.3031, \n"
     ]
    },
    {
     "name": "stdout",
     "output_type": "stream",
     "text": [
      "epoch: 8, [batch: 2016 / 2520], examples_per_second: 467.5663, train_label_loss: 0.2320, \n"
     ]
    },
    {
     "name": "stdout",
     "output_type": "stream",
     "text": [
      "epoch: 8, [batch: 2268 / 2520], examples_per_second: 482.2378, train_label_loss: 0.3402, \n"
     ]
    },
    {
     "name": "stdout",
     "output_type": "stream",
     "text": [
      "=============================================================\n",
      "epoch: 8, source_val_acc_label: 0.8157, target_val_acc_label: 0.7064, source_val_label_loss: 0.5082, target_val_label_loss: 6.1452, \n",
      "=============================================================\n"
     ]
    },
    {
     "name": "stdout",
     "output_type": "stream",
     "text": [
      "Patience (3) exhausted\n"
     ]
    }
   ],
   "source": [
    "###################################\n",
    "# train\n",
    "###################################\n",
    "jig = PTN_Train_Eval_Test_Jig(model, p.BEST_MODEL_PATH, p.device)\n",
    "\n",
    "jig.train(\n",
    "    train_iterable=datasets.source.processed.train,\n",
    "    source_val_iterable=datasets.source.processed.val,\n",
    "    target_val_iterable=datasets.target.processed.val,\n",
    "    num_epochs=p.n_epoch,\n",
    "    num_logs_per_epoch=p.NUM_LOGS_PER_EPOCH,\n",
    "    patience=p.patience,\n",
    "    optimizer=optimizer,\n",
    "    criteria_for_best=p.criteria_for_best,\n",
    ")"
   ]
  },
  {
   "cell_type": "code",
   "execution_count": 14,
   "id": "31e8fabf",
   "metadata": {
    "execution": {
     "iopub.execute_input": "2022-03-06T04:26:07.436983Z",
     "iopub.status.busy": "2022-03-06T04:26:07.436720Z",
     "iopub.status.idle": "2022-03-06T04:26:07.452833Z",
     "shell.execute_reply": "2022-03-06T04:26:07.452572Z"
    },
    "papermill": {
     "duration": 0.046197,
     "end_time": "2022-03-06T04:26:07.452899",
     "exception": false,
     "start_time": "2022-03-06T04:26:07.406702",
     "status": "completed"
    },
    "tags": []
   },
   "outputs": [],
   "source": [
    "total_experiment_time_secs = time.time() - start_time_secs"
   ]
  },
  {
   "cell_type": "code",
   "execution_count": 15,
   "id": "87b9595b",
   "metadata": {
    "execution": {
     "iopub.execute_input": "2022-03-06T04:26:07.517880Z",
     "iopub.status.busy": "2022-03-06T04:26:07.517536Z",
     "iopub.status.idle": "2022-03-06T04:30:14.884762Z",
     "shell.execute_reply": "2022-03-06T04:30:14.884363Z"
    },
    "papermill": {
     "duration": 247.401601,
     "end_time": "2022-03-06T04:30:14.884859",
     "exception": false,
     "start_time": "2022-03-06T04:26:07.483258",
     "status": "completed"
    },
    "tags": []
   },
   "outputs": [],
   "source": [
    "###################################\n",
    "# Evaluate the model\n",
    "###################################\n",
    "source_test_label_accuracy, source_test_label_loss = jig.test(datasets.source.processed.test)\n",
    "target_test_label_accuracy, target_test_label_loss = jig.test(datasets.target.processed.test)\n",
    "\n",
    "source_val_label_accuracy, source_val_label_loss = jig.test(datasets.source.processed.val)\n",
    "target_val_label_accuracy, target_val_label_loss = jig.test(datasets.target.processed.val)\n",
    "\n",
    "history = jig.get_history()\n",
    "\n",
    "total_epochs_trained = len(history[\"epoch_indices\"])\n",
    "\n",
    "val_dl = Iterable_Aggregator((datasets.source.original.val,datasets.target.original.val))\n",
    "\n",
    "confusion = ptn_confusion_by_domain_over_dataloader(model, p.device, val_dl)\n",
    "per_domain_accuracy = per_domain_accuracy_from_confusion(confusion)\n",
    "\n",
    "# Add a key to per_domain_accuracy for if it was a source domain\n",
    "for domain, accuracy in per_domain_accuracy.items():\n",
    "    per_domain_accuracy[domain] = {\n",
    "        \"accuracy\": accuracy,\n",
    "        \"source?\": domain in p.domains_source\n",
    "    }\n",
    "\n",
    "# Do an independent accuracy assesment JUST TO BE SURE!\n",
    "# _source_test_label_accuracy = independent_accuracy_assesment(model, datasets.source.processed.test, p.device)\n",
    "# _target_test_label_accuracy = independent_accuracy_assesment(model, datasets.target.processed.test, p.device)\n",
    "# _source_val_label_accuracy = independent_accuracy_assesment(model, datasets.source.processed.val, p.device)\n",
    "# _target_val_label_accuracy = independent_accuracy_assesment(model, datasets.target.processed.val, p.device)\n",
    "\n",
    "# assert(_source_test_label_accuracy == source_test_label_accuracy)\n",
    "# assert(_target_test_label_accuracy == target_test_label_accuracy)\n",
    "# assert(_source_val_label_accuracy == source_val_label_accuracy)\n",
    "# assert(_target_val_label_accuracy == target_val_label_accuracy)\n",
    "\n",
    "experiment = {\n",
    "    \"experiment_name\": p.experiment_name,\n",
    "    \"parameters\": dict(p),\n",
    "    \"results\": {\n",
    "        \"source_test_label_accuracy\": source_test_label_accuracy,\n",
    "        \"source_test_label_loss\": source_test_label_loss,\n",
    "        \"target_test_label_accuracy\": target_test_label_accuracy,\n",
    "        \"target_test_label_loss\": target_test_label_loss,\n",
    "        \"source_val_label_accuracy\": source_val_label_accuracy,\n",
    "        \"source_val_label_loss\": source_val_label_loss,\n",
    "        \"target_val_label_accuracy\": target_val_label_accuracy,\n",
    "        \"target_val_label_loss\": target_val_label_loss,\n",
    "        \"total_epochs_trained\": total_epochs_trained,\n",
    "        \"total_experiment_time_secs\": total_experiment_time_secs,\n",
    "        \"confusion\": confusion,\n",
    "        \"per_domain_accuracy\": per_domain_accuracy,\n",
    "    },\n",
    "    \"history\": history,\n",
    "    \"dataset_metrics\": get_dataset_metrics(datasets, \"ptn\"),\n",
    "}"
   ]
  },
  {
   "cell_type": "code",
   "execution_count": 16,
   "id": "54a21829",
   "metadata": {
    "execution": {
     "iopub.execute_input": "2022-03-06T04:30:14.952743Z",
     "iopub.status.busy": "2022-03-06T04:30:14.952463Z",
     "iopub.status.idle": "2022-03-06T04:30:15.143471Z",
     "shell.execute_reply": "2022-03-06T04:30:15.143707Z"
    },
    "papermill": {
     "duration": 0.222432,
     "end_time": "2022-03-06T04:30:15.143790",
     "exception": false,
     "start_time": "2022-03-06T04:30:14.921358",
     "status": "completed"
    },
    "tags": []
   },
   "outputs": [
    {
     "data": {
      "image/png": "[encoded data removed]",
      "text/plain": [
       "<Figure size 1080x504 with 1 Axes>"
      ]
     },
     "metadata": {
      "needs_background": "light"
     },
     "output_type": "display_data"
    }
   ],
   "source": [
    "ax = get_loss_curve(experiment)\n",
    "plt.show()"
   ]
  },
  {
   "cell_type": "code",
   "execution_count": 17,
   "id": "fd8a0f60",
   "metadata": {
    "execution": {
     "iopub.execute_input": "2022-03-06T04:30:15.209466Z",
     "iopub.status.busy": "2022-03-06T04:30:15.208357Z",
     "iopub.status.idle": "2022-03-06T04:30:15.414223Z",
     "shell.execute_reply": "2022-03-06T04:30:15.414526Z"
    },
    "papermill": {
     "duration": 0.236052,
     "end_time": "2022-03-06T04:30:15.414626",
     "exception": false,
     "start_time": "2022-03-06T04:30:15.178574",
     "status": "completed"
    },
    "tags": []
   },
   "outputs": [
    {
     "data": {
      "text/plain": [
       "<matplotlib.axes._subplots.AxesSubplot at 0x7f2dfe134c70>"
      ]
     },
     "execution_count": 17,
     "metadata": {},
     "output_type": "execute_result"
    },
    {
     "data": {
      "image/png": "[encoded data removed]",
      "text/plain": [
       "<Figure size 1080x504 with 1 Axes>"
      ]
     },
     "metadata": {
      "needs_background": "light"
     },
     "output_type": "display_data"
    }
   ],
   "source": [
    "get_results_table(experiment)"
   ]
  },
  {
   "cell_type": "code",
   "execution_count": 18,
   "id": "cf8dc689",
   "metadata": {
    "execution": {
     "iopub.execute_input": "2022-03-06T04:30:15.485160Z",
     "iopub.status.busy": "2022-03-06T04:30:15.484272Z",
     "iopub.status.idle": "2022-03-06T04:30:15.670150Z",
     "shell.execute_reply": "2022-03-06T04:30:15.669714Z"
    },
    "papermill": {
     "duration": 0.21791,
     "end_time": "2022-03-06T04:30:15.670261",
     "exception": false,
     "start_time": "2022-03-06T04:30:15.452351",
     "status": "completed"
    },
    "tags": []
   },
   "outputs": [
    {
     "data": {
      "text/plain": [
       "<matplotlib.axes._subplots.AxesSubplot at 0x7f2e0b0a1df0>"
      ]
     },
     "execution_count": 18,
     "metadata": {},
     "output_type": "execute_result"
    },
    {
     "data": {
      "image/png": "[encoded data removed]",
      "text/plain": [
       "<Figure size 1080x504 with 1 Axes>"
      ]
     },
     "metadata": {
      "needs_background": "light"
     },
     "output_type": "display_data"
    }
   ],
   "source": [
    "get_domain_accuracies(experiment)"
   ]
  },
  {
   "cell_type": "code",
   "execution_count": 19,
   "id": "a74ae082",
   "metadata": {
    "execution": {
     "iopub.execute_input": "2022-03-06T04:30:15.742696Z",
     "iopub.status.busy": "2022-03-06T04:30:15.742140Z",
     "iopub.status.idle": "2022-03-06T04:30:15.757481Z",
     "shell.execute_reply": "2022-03-06T04:30:15.757034Z"
    },
    "papermill": {
     "duration": 0.049577,
     "end_time": "2022-03-06T04:30:15.757589",
     "exception": false,
     "start_time": "2022-03-06T04:30:15.708012",
     "status": "completed"
    },
    "tags": []
   },
   "outputs": [
    {
     "name": "stdout",
     "output_type": "stream",
     "text": [
      "Source Test Label Accuracy: 0.7740451388888889 Target Test Label Accuracy: 0.6609895833333334\n",
      "Source Val Label Accuracy: 0.76875 Target Val Label Accuracy: 0.6555208333333333\n"
     ]
    }
   ],
   "source": [
    "print(\"Source Test Label Accuracy:\", experiment[\"results\"][\"source_test_label_accuracy\"], \"Target Test Label Accuracy:\", experiment[\"results\"][\"target_test_label_accuracy\"])\n",
    "print(\"Source Val Label Accuracy:\", experiment[\"results\"][\"source_val_label_accuracy\"], \"Target Val Label Accuracy:\", experiment[\"results\"][\"target_val_label_accuracy\"])"
   ]
  },
  {
   "cell_type": "code",
   "execution_count": 20,
   "id": "dacca602",
   "metadata": {
    "execution": {
     "iopub.execute_input": "2022-03-06T04:30:15.827754Z",
     "iopub.status.busy": "2022-03-06T04:30:15.827404Z",
     "iopub.status.idle": "2022-03-06T04:30:15.841145Z",
     "shell.execute_reply": "2022-03-06T04:30:15.840691Z"
    },
    "papermill": {
     "duration": 0.047689,
     "end_time": "2022-03-06T04:30:15.841239",
     "exception": false,
     "start_time": "2022-03-06T04:30:15.793550",
     "status": "completed"
    },
    "tags": [
     "experiment_json"
    ]
   },
   "outputs": [
    {
     "data": {
      "text/plain": [
       "'{\"experiment_name\": \"tuned_1_oracle.run2.framed\", \"parameters\": {\"experiment_name\": \"tuned_1_oracle.run2.framed\", \"device\": \"cuda\", \"lr\": 0.001, \"seed\": 1337, \"dataset_seed\": 1337, \"labels_source\": [\"3123D52\", \"3123D65\", \"3123D79\", \"3123D80\", \"3123D54\", \"3123D70\", \"3123D7B\", \"3123D89\", \"3123D58\", \"3123D76\", \"3123D7D\", \"3123EFE\", \"3123D64\", \"3123D78\", \"3123D7E\", \"3124E4A\"], \"labels_target\": [\"3123D52\", \"3123D65\", \"3123D79\", \"3123D80\", \"3123D54\", \"3123D70\", \"3123D7B\", \"3123D89\", \"3123D58\", \"3123D76\", \"3123D7D\", \"3123EFE\", \"3123D64\", \"3123D78\", \"3123D7E\", \"3124E4A\"], \"x_transforms_source\": [\"unit_mag\"], \"x_transforms_target\": [\"unit_mag\"], \"episode_transforms_source\": [], \"episode_transforms_target\": [], \"domains_source\": [8, 32, 50], \"domains_target\": [14, 20, 26, 38, 44], \"num_examples_per_domain_per_label_source\": 2000, \"num_examples_per_domain_per_label_target\": 2000, \"n_shot\": 3, \"n_way\": 16, \"n_query\": 2, \"train_k_factor\": 3, \"val_k_factor\": 2, \"test_k_factor\": 2, \"torch_default_dtype\": \"torch.float32\", \"n_epoch\": 50, \"patience\": 3, \"criteria_for_best\": \"target_loss\", \"x_net\": [{\"class\": \"nnReshape\", \"kargs\": {\"shape\": [-1, 1, 2, 256]}}, {\"class\": \"Conv2d\", \"kargs\": {\"in_channels\": 1, \"out_channels\": 256, \"kernel_size\": [1, 7], \"bias\": false, \"padding\": [0, 3]}}, {\"class\": \"ReLU\", \"kargs\": {\"inplace\": true}}, {\"class\": \"BatchNorm2d\", \"kargs\": {\"num_features\": 256}}, {\"class\": \"Conv2d\", \"kargs\": {\"in_channels\": 256, \"out_channels\": 80, \"kernel_size\": [2, 7], \"bias\": true, \"padding\": [0, 3]}}, {\"class\": \"ReLU\", \"kargs\": {\"inplace\": true}}, {\"class\": \"BatchNorm2d\", \"kargs\": {\"num_features\": 80}}, {\"class\": \"Flatten\", \"kargs\": {}}, {\"class\": \"Linear\", \"kargs\": {\"in_features\": 20480, \"out_features\": 256}}, {\"class\": \"ReLU\", \"kargs\": {\"inplace\": true}}, {\"class\": \"BatchNorm1d\", \"kargs\": {\"num_features\": 256}}, {\"class\": \"Linear\", \"kargs\": {\"in_features\": 256, \"out_features\": 256}}], \"NUM_LOGS_PER_EPOCH\": 10, \"BEST_MODEL_PATH\": \"./best_model.pth\", \"pickle_name\": \"oracle.Run2_framed_2000Examples_stratified_ds.2022A.pkl\"}, \"results\": {\"source_test_label_accuracy\": 0.7740451388888889, \"source_test_label_loss\": 0.6262026429176331, \"target_test_label_accuracy\": 0.6609895833333334, \"target_test_label_loss\": 1.396624207496643, \"source_val_label_accuracy\": 0.76875, \"source_val_label_loss\": 0.6267914175987244, \"target_val_label_accuracy\": 0.6555208333333333, \"target_val_label_loss\": 1.9074269533157349, \"total_epochs_trained\": 8, \"total_experiment_time_secs\": 3783.99090385437, \"confusion\": {\"8\": {\"15\": {\"15\": 151, \"12\": 19, \"8\": 21, \"11\": 48, \"7\": 1}, \"3\": {\"3\": 228, \"12\": 12}, \"6\": {\"6\": 152, \"4\": 55, \"7\": 33}, \"1\": {\"1\": 230, \"13\": 8, \"5\": 2}, \"8\": {\"8\": 215, \"15\": 7, \"11\": 18}, \"10\": {\"14\": 7, \"10\": 192, \"0\": 25, \"5\": 12, \"13\": 4}, \"9\": {\"9\": 240}, \"13\": {\"13\": 205, \"1\": 9, \"10\": 6, \"14\": 19, \"0\": 1}, \"12\": {\"12\": 211, \"3\": 12, \"15\": 13, \"11\": 4}, \"5\": {\"5\": 212, \"10\": 25, \"1\": 3}, \"0\": {\"14\": 36, \"0\": 189, \"10\": 14, \"13\": 1}, \"2\": {\"2\": 221, \"6\": 1, \"4\": 6, \"7\": 12}, \"11\": {\"15\": 43, \"12\": 25, \"11\": 115, \"8\": 57}, \"14\": {\"14\": 188, \"13\": 11, \"0\": 39, \"10\": 1, \"6\": 1}, \"7\": {\"7\": 125, \"6\": 30, \"4\": 79, \"2\": 6}, \"4\": {\"7\": 60, \"6\": 56, \"4\": 120, \"2\": 4}}, \"50\": {\"3\": {\"3\": 224, \"8\": 15, \"13\": 1}, \"15\": {\"15\": 222, \"1\": 6, \"6\": 3, \"11\": 9}, \"8\": {\"8\": 237, \"3\": 3}, \"4\": {\"5\": 63, \"4\": 133, \"6\": 37, \"7\": 3, \"1\": 2, \"10\": 2}, \"14\": {\"14\": 239, \"11\": 1}, \"0\": {\"0\": 224, \"2\": 14, \"10\": 2}, \"7\": {\"7\": 77, \"13\": 118, \"10\": 30, \"5\": 13, \"4\": 1, \"0\": 1}, \"6\": {\"1\": 60, \"6\": 139, \"4\": 35, \"5\": 5, \"15\": 1}, \"10\": {\"10\": 194, \"7\": 16, \"5\": 13, \"13\": 13, \"0\": 3, \"4\": 1}, \"5\": {\"5\": 112, \"10\": 22, \"4\": 75, \"7\": 17, \"13\": 8, \"6\": 5, \"0\": 1}, \"2\": {\"2\": 229, \"0\": 11}, \"12\": {\"12\": 225, \"9\": 7, \"14\": 6, \"11\": 2}, \"9\": {\"9\": 228, \"12\": 11, \"11\": 1}, \"1\": {\"1\": 175, \"15\": 10, \"6\": 51, \"5\": 1, \"4\": 3}, \"11\": {\"11\": 213, \"15\": 14, \"9\": 2, \"14\": 7, \"12\": 4}, \"13\": {\"7\": 76, \"13\": 130, \"10\": 28, \"5\": 5, \"4\": 1}}, \"32\": {\"5\": {\"0\": 39, \"4\": 32, \"8\": 37, \"2\": 19, \"5\": 77, \"13\": 21, \"14\": 12, \"11\": 2, \"3\": 1}, \"8\": {\"8\": 174, \"13\": 19, \"5\": 25, \"3\": 2, \"4\": 13, \"0\": 6, \"15\": 1}, \"11\": {\"13\": 11, \"2\": 16, \"11\": 119, \"0\": 21, \"7\": 58, \"4\": 13, \"5\": 2}, \"1\": {\"1\": 238, \"10\": 2}, \"10\": {\"10\": 240}, \"15\": {\"15\": 240}, \"3\": {\"3\": 234, \"13\": 5, \"7\": 1}, \"7\": {\"7\": 128, \"13\": 33, \"11\": 60, \"4\": 13, \"0\": 2, \"5\": 2, \"2\": 2}, \"4\": {\"4\": 74, \"11\": 28, \"13\": 47, \"5\": 35, \"0\": 46, \"8\": 4, \"7\": 5, \"2\": 1}, \"14\": {\"14\": 199, \"2\": 36, \"5\": 3, \"0\": 2}, \"9\": {\"9\": 228, \"14\": 12}, \"12\": {\"12\": 240}, \"6\": {\"6\": 240}, \"2\": {\"2\": 188, \"14\": 16, \"11\": 11, \"0\": 12, \"4\": 2, \"5\": 9, \"7\": 2}, \"0\": {\"0\": 113, \"11\": 25, \"5\": 42, \"4\": 39, \"13\": 8, \"2\": 6, \"8\": 3, \"14\": 3, \"7\": 1}, \"13\": {\"4\": 48, \"13\": 129, \"7\": 19, \"8\": 14, \"11\": 10, \"0\": 8, \"5\": 9, \"3\": 3}}, \"14\": {\"15\": {\"15\": 236, \"7\": 4}, \"3\": {\"3\": 220, \"4\": 10, \"2\": 1, \"14\": 3, \"5\": 5, \"0\": 1}, \"6\": {\"6\": 167, \"14\": 35, \"13\": 22, \"2\": 16}, \"1\": {\"1\": 227, \"4\": 4, \"5\": 9}, \"8\": {\"8\": 240}, \"10\": {\"10\": 194, \"0\": 38, \"11\": 7, \"12\": 1}, \"9\": {\"9\": 239, \"12\": 1}, \"13\": {\"13\": 168, \"6\": 56, \"2\": 16}, \"12\": {\"11\": 67, \"9\": 21, \"12\": 114, \"10\": 9, \"0\": 14, \"8\": 15}, \"5\": {\"4\": 73, \"5\": 124, \"3\": 14, \"2\": 19, \"1\": 10}, \"0\": {\"0\": 239, \"10\": 1}, \"2\": {\"14\": 31, \"4\": 21, \"13\": 33, \"2\": 109, \"5\": 27, \"6\": 8, \"3\": 11}, \"11\": {\"11\": 232, \"10\": 2, \"12\": 6}, \"14\": {\"14\": 165, \"4\": 3, \"6\": 42, \"2\": 19, \"13\": 3, \"5\": 3, \"3\": 4, \"0\": 1}, \"7\": {\"7\": 239, \"15\": 1}, \"4\": {\"5\": 65, \"4\": 154, \"2\": 10, \"3\": 7, \"1\": 4}}, \"20\": {\"3\": {\"12\": 7, \"3\": 100, \"2\": 28, \"7\": 29, \"5\": 57, \"9\": 15, \"8\": 1, \"0\": 1, \"15\": 1, \"4\": 1}, \"15\": {\"15\": 91, \"2\": 30, \"9\": 28, \"13\": 54, \"0\": 8, \"5\": 5, \"12\": 15, \"1\": 9}, \"8\": {\"14\": 17, \"8\": 163, \"3\": 2, \"7\": 15, \"10\": 34, \"6\": 5, \"4\": 4}, \"4\": {\"4\": 220, \"1\": 2, \"10\": 2, \"0\": 9, \"3\": 2, \"12\": 2, \"8\": 2, \"5\": 1}, \"14\": {\"10\": 24, \"6\": 15, \"14\": 181, \"8\": 19, \"7\": 1}, \"0\": {\"12\": 52, \"1\": 33, \"0\": 121, \"15\": 10, \"2\": 3, \"4\": 8, \"9\": 6, \"3\": 2, \"5\": 5}, \"7\": {\"7\": 214, \"2\": 1, \"8\": 11, \"5\": 4, \"3\": 9, \"10\": 1}, \"6\": {\"6\": 232, \"14\": 7, \"8\": 1}, \"10\": {\"10\": 168, \"8\": 48, \"14\": 16, \"3\": 2, \"4\": 3, \"6\": 2, \"7\": 1}, \"5\": {\"5\": 74, \"3\": 45, \"12\": 20, \"9\": 16, \"2\": 38, \"7\": 5, \"15\": 6, \"0\": 30, \"1\": 1, \"4\": 4, \"13\": 1}, \"2\": {\"15\": 20, \"2\": 72, \"3\": 38, \"12\": 9, \"9\": 54, \"13\": 10, \"5\": 36, \"0\": 1}, \"12\": {\"0\": 47, \"5\": 14, \"4\": 4, \"12\": 104, \"1\": 35, \"15\": 6, \"3\": 3, \"9\": 21, \"2\": 6}, \"9\": {\"9\": 84, \"15\": 30, \"2\": 57, \"3\": 21, \"12\": 16, \"5\": 17, \"1\": 3, \"13\": 9, \"0\": 3}, \"1\": {\"12\": 44, \"1\": 157, \"15\": 15, \"9\": 4, \"4\": 1, \"0\": 18, \"5\": 1}, \"11\": {\"11\": 240}, \"13\": {\"13\": 171, \"15\": 51, \"9\": 9, \"5\": 1, \"2\": 8}}, \"44\": {\"5\": {\"5\": 220, \"14\": 18, \"15\": 1, \"0\": 1}, \"8\": {\"8\": 123, \"0\": 111, \"5\": 3, \"15\": 3}, \"11\": {\"6\": 33, \"11\": 202, \"9\": 1, \"13\": 3, \"7\": 1}, \"1\": {\"12\": 83, \"1\": 132, \"3\": 23, \"10\": 2}, \"10\": {\"10\": 228, \"12\": 5, \"1\": 7}, \"15\": {\"15\": 212, \"8\": 7, \"14\": 12, \"4\": 9}, \"3\": {\"3\": 213, \"12\": 9, \"1\": 18}, \"7\": {\"7\": 119, \"9\": 58, \"2\": 61, \"1\": 2}, \"4\": {\"4\": 223, \"15\": 3, \"13\": 7, \"14\": 7}, \"14\": {\"14\": 196, \"15\": 19, \"5\": 12, \"4\": 12, \"8\": 1}, \"9\": {\"7\": 66, \"9\": 102, \"2\": 69, \"6\": 3}, \"12\": {\"12\": 162, \"1\": 69, \"3\": 9}, \"6\": {\"11\": 14, \"6\": 217, \"13\": 1, \"9\": 7, \"7\": 1}, \"2\": {\"2\": 121, \"7\": 48, \"9\": 71}, \"0\": {\"8\": 105, \"0\": 135}, \"13\": {\"13\": 229, \"4\": 6, \"6\": 4, \"14\": 1}}, \"38\": {\"14\": {\"14\": 133, \"12\": 21, \"2\": 54, \"11\": 23, \"10\": 1, \"7\": 5, \"5\": 1, \"13\": 2}, \"0\": {\"0\": 188, \"3\": 43, \"9\": 2, \"10\": 5, \"6\": 2}, \"13\": {\"1\": 33, \"5\": 22, \"8\": 30, \"13\": 56, \"3\": 19, \"15\": 55, \"7\": 13, \"2\": 4, \"10\": 1, \"0\": 2, \"6\": 3, \"14\": 2}, \"7\": {\"7\": 127, \"10\": 71, \"8\": 9, \"5\": 27, \"13\": 4, \"15\": 2}, \"9\": {\"9\": 156, \"6\": 82, \"0\": 1, \"3\": 1}, \"3\": {\"3\": 57, \"15\": 26, \"5\": 9, \"8\": 15, \"6\": 17, \"0\": 72, \"7\": 7, \"10\": 14, \"9\": 13, \"13\": 10}, \"11\": {\"1\": 4, \"14\": 45, \"11\": 141, \"9\": 3, \"4\": 10, \"12\": 26, \"0\": 5, \"6\": 1, \"2\": 5}, \"6\": {\"6\": 171, \"9\": 66, \"3\": 3}, \"8\": {\"15\": 44, \"13\": 28, \"8\": 69, \"5\": 71, \"10\": 6, \"3\": 2, \"7\": 19, \"1\": 1}, \"4\": {\"4\": 220, \"11\": 3, \"12\": 16, \"10\": 1}, \"5\": {\"5\": 84, \"8\": 72, \"15\": 30, \"13\": 23, \"10\": 7, \"7\": 23, \"3\": 1}, \"10\": {\"7\": 79, \"0\": 1, \"10\": 115, \"8\": 13, \"3\": 10, \"14\": 1, \"5\": 13, \"13\": 4, \"15\": 4}, \"1\": {\"1\": 224, \"13\": 12, \"15\": 4}, \"2\": {\"2\": 218, \"14\": 22}, \"15\": {\"13\": 56, \"15\": 98, \"5\": 20, \"1\": 10, \"8\": 40, \"3\": 14, \"7\": 2}, \"12\": {\"12\": 223, \"4\": 10, \"14\": 4, \"11\": 2, \"7\": 1}}, \"26\": {\"13\": {\"13\": 167, \"5\": 38, \"9\": 26, \"6\": 7, \"2\": 1, \"7\": 1}, \"2\": {\"3\": 20, \"7\": 65, \"2\": 81, \"4\": 17, \"10\": 2, \"9\": 12, \"0\": 3, \"5\": 9, \"15\": 17, \"8\": 14}, \"8\": {\"8\": 124, \"6\": 7, \"9\": 24, \"2\": 9, \"10\": 24, \"4\": 15, \"14\": 5, \"5\": 4, \"7\": 16, \"0\": 12}, \"9\": {\"6\": 26, \"9\": 110, \"5\": 38, \"7\": 7, \"2\": 14, \"8\": 25, \"13\": 20}, \"12\": {\"12\": 240}, \"4\": {\"4\": 142, \"7\": 11, \"0\": 21, \"8\": 16, \"2\": 16, \"3\": 12, \"15\": 9, \"10\": 9, \"14\": 4}, \"3\": {\"3\": 129, \"15\": 76, \"7\": 12, \"2\": 18, \"4\": 5}, \"15\": {\"15\": 115, \"7\": 12, \"3\": 85, \"2\": 19, \"4\": 8, \"0\": 1}, \"14\": {\"0\": 54, \"8\": 14, \"14\": 76, \"1\": 39, \"4\": 10, \"10\": 42, \"6\": 4, \"9\": 1}, \"10\": {\"0\": 25, \"10\": 58, \"8\": 32, \"7\": 1, \"4\": 21, \"6\": 21, \"1\": 34, \"14\": 44, \"12\": 1, \"5\": 1, \"15\": 1, \"9\": 1}, \"7\": {\"2\": 86, \"7\": 84, \"5\": 11, \"15\": 8, \"9\": 18, \"3\": 11, \"8\": 10, \"4\": 10, \"0\": 1, \"13\": 1}, \"11\": {\"11\": 240}, \"6\": {\"6\": 188, \"0\": 2, \"5\": 6, \"8\": 11, \"10\": 7, \"9\": 17, \"13\": 8, \"14\": 1}, \"1\": {\"1\": 133, \"14\": 53, \"10\": 24, \"0\": 26, \"4\": 1, \"6\": 3}, \"5\": {\"9\": 45, \"6\": 40, \"5\": 54, \"7\": 26, \"13\": 46, \"2\": 18, \"15\": 3, \"10\": 1, \"8\": 7}, \"0\": {\"14\": 65, \"7\": 1, \"0\": 72, \"8\": 24, \"4\": 28, \"10\": 27, \"1\": 21, \"2\": 2}}}, \"per_domain_accuracy\": {\"8\": {\"accuracy\": 0.7796875, \"source?\": true}, \"50\": {\"accuracy\": 0.7815104166666667, \"source?\": true}, \"32\": {\"accuracy\": 0.7450520833333333, \"source?\": true}, \"14\": {\"accuracy\": 0.7986979166666667, \"source?\": false}, \"20\": {\"accuracy\": 0.6229166666666667, \"source?\": false}, \"44\": {\"accuracy\": 0.7380208333333333, \"source?\": false}, \"38\": {\"accuracy\": 0.59375, \"source?\": false}, \"26\": {\"accuracy\": 0.52421875, \"source?\": false}}}, \"history\": {\"epoch_indices\": [1, 2, 3, 4, 5, 6, 7, 8], \"train_label_loss\": [0.8157094844454338, 3.502514072022741, 1.5480779666749258, 0.6422791331710797, 0.6058661515159266, 0.5652214463859323, 0.5204546114134173, 0.4741042701409213], \"source_val_label_loss\": [63.331092834472656, 0.7853055596351624, 0.7063535451889038, 0.6267914175987244, 0.630318820476532, 0.5341677069664001, 0.5183413028717041, 0.5082240104675293], \"target_val_label_loss\": [178.6729278564453, 161.352783203125, 1.942031741142273, 1.9074269533157349, 1.9317035675048828, 3.1784861087799072, 2.08902645111084, 6.145232200622559], \"source_val_acc_label\": [0.6793402777777777, 0.6986111111111111, 0.7359375, 0.76875, 0.7637152777777778, 0.8061631944444444, 0.8125868055555555, 0.8157118055555556], \"target_val_acc_label\": [0.5166145833333333, 0.5880208333333333, 0.6248958333333333, 0.6555208333333333, 0.6659895833333334, 0.6983854166666666, 0.7114583333333333, 0.70640625]}, \"dataset_metrics\": {\"source\": {\"train\": {\"n_unique_x\": 67200, \"n_unique_y\": 16, \"n_batch/episode\": 2520}, \"val\": {\"n_unique_x\": 14400, \"n_unique_y\": 16, \"n_batch/episode\": 360}, \"test\": {\"n_unique_x\": 14400, \"n_unique_y\": 16, \"n_batch/episode\": 360}}, \"target\": {\"train\": {\"n_unique_x\": 112000, \"n_unique_y\": 16, \"n_batch/episode\": 4200}, \"val\": {\"n_unique_x\": 24000, \"n_unique_y\": 16, \"n_batch/episode\": 600}, \"test\": {\"n_unique_x\": 24000, \"n_unique_y\": 16, \"n_batch/episode\": 600}}}}'"
      ]
     },
     "execution_count": 20,
     "metadata": {},
     "output_type": "execute_result"
    }
   ],
   "source": [
    "json.dumps(experiment)"
   ]
  }
 ],
 "metadata": {
  "celltoolbar": "Tags",
  "kernelspec": {
   "display_name": "Python 3 (ipykernel)",
   "language": "python",
   "name": "python3"
  },
  "language_info": {
   "codemirror_mode": {
    "name": "ipython",
    "version": 3
   },
   "file_extension": ".py",
   "mimetype": "text/x-python",
   "name": "python",
   "nbconvert_exporter": "python",
   "pygments_lexer": "ipython3",
   "version": "3.8.10"
  },
  "papermill": {
   "default_parameters": {},
   "duration": 4035.582031,
   "end_time": "2022-03-06T04:30:16.789403",
   "environment_variables": {},
   "exception": null,
   "input_path": "/mnt/wd500GB/CSC500/csc500-main/csc500-notebooks/templates/ptn_template.ipynb",
   "output_path": "trial.ipynb",
   "parameters": {
    "parameters": {
     "BEST_MODEL_PATH": "./best_model.pth",
     "NUM_LOGS_PER_EPOCH": 10,
     "criteria_for_best": "target_loss",
     "dataset_seed": 1337,
     "device": "cuda",
     "domains_source": [
      8,
      32,
      50
     ],
     "domains_target": [
      14,
      20,
      26,
      38,
      44
     ],
     "episode_transforms_source": [],
     "episode_transforms_target": [],
     "experiment_name": "tuned_1_oracle.run2.framed",
     "labels_source": [
      "3123D52",
      "3123D65",
      "3123D79",
      "3123D80",
      "3123D54",
      "3123D70",
      "3123D7B",
      "3123D89",
      "3123D58",
      "3123D76",
      "3123D7D",
      "3123EFE",
      "3123D64",
      "3123D78",
      "3123D7E",
      "3124E4A"
     ],
     "labels_target": [
      "3123D52",
      "3123D65",
      "3123D79",
      "3123D80",
      "3123D54",
      "3123D70",
      "3123D7B",
      "3123D89",
      "3123D58",
      "3123D76",
      "3123D7D",
      "3123EFE",
      "3123D64",
      "3123D78",
      "3123D7E",
      "3124E4A"
     ],
     "lr": 0.001,
     "n_epoch": 50,
     "n_query": 2,
     "n_shot": 3,
     "n_way": 16,
     "num_examples_per_domain_per_label_source": 2000,
     "num_examples_per_domain_per_label_target": 2000,
     "patience": 3,
     "pickle_name": "oracle.Run2_framed_2000Examples_stratified_ds.2022A.pkl",
     "seed": 1337,
     "test_k_factor": 2,
     "torch_default_dtype": "torch.float32",
     "train_k_factor": 3,
     "val_k_factor": 2,
     "x_net": [
      {
       "class": "nnReshape",
       "kargs": {
        "shape": [
         -1,
         1,
         2,
         256
        ]
       }
      },
      {
       "class": "Conv2d",
       "kargs": {
        "bias": false,
        "in_channels": 1,
        "kernel_size": [
         1,
         7
        ],
        "out_channels": 256,
        "padding": [
         0,
         3
        ]
       }
      },
      {
       "class": "ReLU",
       "kargs": {
        "inplace": true
       }
      },
      {
       "class": "BatchNorm2d",
       "kargs": {
        "num_features": 256
       }
      },
      {
       "class": "Conv2d",
       "kargs": {
        "bias": true,
        "in_channels": 256,
        "kernel_size": [
         2,
         7
        ],
        "out_channels": 80,
        "padding": [
         0,
         3
        ]
       }
      },
      {
       "class": "ReLU",
       "kargs": {
        "inplace": true
       }
      },
      {
       "class": "BatchNorm2d",
       "kargs": {
        "num_features": 80
       }
      },
      {
       "class": "Flatten",
       "kargs": {}
      },
      {
       "class": "Linear",
       "kargs": {
        "in_features": 20480,
        "out_features": 256
       }
      },
      {
       "class": "ReLU",
       "kargs": {
        "inplace": true
       }
      },
      {
       "class": "BatchNorm1d",
       "kargs": {
        "num_features": 256
       }
      },
      {
       "class": "Linear",
       "kargs": {
        "in_features": 256,
        "out_features": 256
       }
      }
     ],
     "x_transforms_source": [
      "unit_mag"
     ],
     "x_transforms_target": [
      "unit_mag"
     ]
    }
   },
   "start_time": "2022-03-06T03:23:01.207372",
   "version": "2.3.4"
  }
 },
 "nbformat": 4,
 "nbformat_minor": 5
}