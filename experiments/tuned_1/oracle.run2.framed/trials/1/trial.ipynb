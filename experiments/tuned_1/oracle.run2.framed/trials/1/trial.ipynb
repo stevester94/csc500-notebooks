{
 "cells": [
  {
   "cell_type": "markdown",
   "id": "9fea5f46",
   "metadata": {
    "papermill": {
     "duration": 0.013904,
     "end_time": "2022-03-06T01:25:52.992175",
     "exception": false,
     "start_time": "2022-03-06T01:25:52.978271",
     "status": "completed"
    },
    "tags": []
   },
   "source": [
    "# PTN Template\n",
    "This notebook serves as a template for single dataset PTN experiments  \n",
    "It can be run on its own by setting STANDALONE to True (do a find for \"STANDALONE\" to see where)  \n",
    "But it is intended to be executed as part of a *papermill.py script. See any of the   \n",
    "experimentes with a papermill script to get started with that workflow.  "
   ]
  },
  {
   "cell_type": "code",
   "execution_count": 1,
   "id": "0902182a",
   "metadata": {
    "execution": {
     "iopub.execute_input": "2022-03-06T01:25:53.019895Z",
     "iopub.status.busy": "2022-03-06T01:25:53.019621Z",
     "iopub.status.idle": "2022-03-06T01:25:53.788683Z",
     "shell.execute_reply": "2022-03-06T01:25:53.788179Z"
    },
    "papermill": {
     "duration": 0.78704,
     "end_time": "2022-03-06T01:25:53.788797",
     "exception": false,
     "start_time": "2022-03-06T01:25:53.001757",
     "status": "completed"
    },
    "tags": []
   },
   "outputs": [],
   "source": [
    "%load_ext autoreload\n",
    "%autoreload 2\n",
    "%matplotlib inline\n",
    "\n",
    "    \n",
    "import os, json, sys, time, random\n",
    "import numpy as np\n",
    "import torch\n",
    "from torch.optim import Adam\n",
    "from  easydict import EasyDict\n",
    "import matplotlib.pyplot as plt\n",
    "\n",
    "from steves_models.steves_ptn import Steves_Prototypical_Network\n",
    "\n",
    "from steves_utils.lazy_iterable_wrapper import Lazy_Iterable_Wrapper\n",
    "from steves_utils.iterable_aggregator import Iterable_Aggregator\n",
    "from steves_utils.ptn_train_eval_test_jig import  PTN_Train_Eval_Test_Jig\n",
    "from steves_utils.torch_sequential_builder import build_sequential\n",
    "from steves_utils.torch_utils import get_dataset_metrics, ptn_confusion_by_domain_over_dataloader\n",
    "from steves_utils.utils_v2 import (per_domain_accuracy_from_confusion, get_datasets_base_path)\n",
    "from steves_utils.PTN.utils import independent_accuracy_assesment\n",
    "\n",
    "from steves_utils.stratified_dataset.episodic_accessor import Episodic_Accessor_Factory\n",
    "\n",
    "from steves_utils.ptn_do_report import (\n",
    "    get_loss_curve,\n",
    "    get_results_table,\n",
    "    get_parameters_table,\n",
    "    get_domain_accuracies,\n",
    ")\n",
    "\n",
    "from steves_utils.transforms import get_chained_transform"
   ]
  },
  {
   "cell_type": "markdown",
   "id": "41c840b4",
   "metadata": {
    "papermill": {
     "duration": 0.009423,
     "end_time": "2022-03-06T01:25:53.811158",
     "exception": false,
     "start_time": "2022-03-06T01:25:53.801735",
     "status": "completed"
    },
    "tags": []
   },
   "source": [
    "# Required Parameters\n",
    "These are allowed parameters, not defaults\n",
    "Each of these values need to be present in the injected parameters (the notebook will raise an exception if they are not present)\n",
    "\n",
    "Papermill uses the cell tag \"parameters\" to inject the real parameters below this cell.\n",
    "Enable tags to see what I mean"
   ]
  },
  {
   "cell_type": "code",
   "execution_count": 2,
   "id": "fd44eb83",
   "metadata": {
    "execution": {
     "iopub.execute_input": "2022-03-06T01:25:53.833413Z",
     "iopub.status.busy": "2022-03-06T01:25:53.833147Z",
     "iopub.status.idle": "2022-03-06T01:25:53.844908Z",
     "shell.execute_reply": "2022-03-06T01:25:53.844648Z"
    },
    "papermill": {
     "duration": 0.024276,
     "end_time": "2022-03-06T01:25:53.844958",
     "exception": false,
     "start_time": "2022-03-06T01:25:53.820682",
     "status": "completed"
    },
    "tags": []
   },
   "outputs": [],
   "source": [
    "required_parameters = {\n",
    "    \"experiment_name\",\n",
    "    \"lr\",\n",
    "    \"device\",\n",
    "    \"seed\",\n",
    "    \"dataset_seed\",\n",
    "    \"labels_source\",\n",
    "    \"labels_target\",\n",
    "    \"domains_source\",\n",
    "    \"domains_target\",\n",
    "    \"num_examples_per_domain_per_label_source\",\n",
    "    \"num_examples_per_domain_per_label_target\",\n",
    "    \"n_shot\",\n",
    "    \"n_way\",\n",
    "    \"n_query\",\n",
    "    \"train_k_factor\",\n",
    "    \"val_k_factor\",\n",
    "    \"test_k_factor\",\n",
    "    \"n_epoch\",\n",
    "    \"patience\",\n",
    "    \"criteria_for_best\",\n",
    "    \"x_transforms_source\",\n",
    "    \"x_transforms_target\",\n",
    "    \"episode_transforms_source\",\n",
    "    \"episode_transforms_target\",\n",
    "    \"pickle_name\",\n",
    "    \"x_net\",\n",
    "    \"NUM_LOGS_PER_EPOCH\",\n",
    "    \"BEST_MODEL_PATH\",\n",
    "    \"torch_default_dtype\"\n",
    "}"
   ]
  },
  {
   "cell_type": "code",
   "execution_count": 3,
   "id": "fa3f0049",
   "metadata": {
    "execution": {
     "iopub.execute_input": "2022-03-06T01:25:53.876593Z",
     "iopub.status.busy": "2022-03-06T01:25:53.876066Z",
     "iopub.status.idle": "2022-03-06T01:25:53.886155Z",
     "shell.execute_reply": "2022-03-06T01:25:53.886534Z"
    },
    "papermill": {
     "duration": 0.029731,
     "end_time": "2022-03-06T01:25:53.886639",
     "exception": false,
     "start_time": "2022-03-06T01:25:53.856908",
     "status": "completed"
    },
    "tags": [
     "parameters"
    ]
   },
   "outputs": [],
   "source": [
    "\n",
    "\n",
    "standalone_parameters = {}\n",
    "standalone_parameters[\"experiment_name\"] = \"STANDALONE PTN\"\n",
    "standalone_parameters[\"lr\"] = 0.0001\n",
    "standalone_parameters[\"device\"] = \"cuda\"\n",
    "\n",
    "standalone_parameters[\"seed\"] = 1337\n",
    "standalone_parameters[\"dataset_seed\"] = 1337\n",
    "\n",
    "\n",
    "standalone_parameters[\"num_examples_per_domain_per_label_source\"]=100\n",
    "standalone_parameters[\"num_examples_per_domain_per_label_target\"]=100\n",
    "\n",
    "standalone_parameters[\"n_shot\"] = 3\n",
    "standalone_parameters[\"n_query\"]  = 2\n",
    "standalone_parameters[\"train_k_factor\"] = 1\n",
    "standalone_parameters[\"val_k_factor\"] = 2\n",
    "standalone_parameters[\"test_k_factor\"] = 2\n",
    "\n",
    "\n",
    "standalone_parameters[\"n_epoch\"] = 100\n",
    "\n",
    "standalone_parameters[\"patience\"] = 10\n",
    "standalone_parameters[\"criteria_for_best\"] = \"target_accuracy\"\n",
    "\n",
    "standalone_parameters[\"x_transforms_source\"] = [\"unit_power\"]\n",
    "standalone_parameters[\"x_transforms_target\"] = [\"unit_power\"]\n",
    "standalone_parameters[\"episode_transforms_source\"] = []\n",
    "standalone_parameters[\"episode_transforms_target\"] = []\n",
    "\n",
    "standalone_parameters[\"torch_default_dtype\"] = \"torch.float32\" \n",
    "\n",
    "\n",
    "\n",
    "standalone_parameters[\"x_net\"] =     [\n",
    "    {\"class\": \"nnReshape\", \"kargs\": {\"shape\":[-1, 1, 2, 256]}},\n",
    "    {\"class\": \"Conv2d\", \"kargs\": { \"in_channels\":1, \"out_channels\":256, \"kernel_size\":(1,7), \"bias\":False, \"padding\":(0,3), },},\n",
    "    {\"class\": \"ReLU\", \"kargs\": {\"inplace\": True}},\n",
    "    {\"class\": \"BatchNorm2d\", \"kargs\": {\"num_features\":256}},\n",
    "\n",
    "    {\"class\": \"Conv2d\", \"kargs\": { \"in_channels\":256, \"out_channels\":80, \"kernel_size\":(2,7), \"bias\":True, \"padding\":(0,3), },},\n",
    "    {\"class\": \"ReLU\", \"kargs\": {\"inplace\": True}},\n",
    "    {\"class\": \"BatchNorm2d\", \"kargs\": {\"num_features\":80}},\n",
    "    {\"class\": \"Flatten\", \"kargs\": {}},\n",
    "\n",
    "    {\"class\": \"Linear\", \"kargs\": {\"in_features\": 80*256, \"out_features\": 256}}, # 80 units per IQ pair\n",
    "    {\"class\": \"ReLU\", \"kargs\": {\"inplace\": True}},\n",
    "    {\"class\": \"BatchNorm1d\", \"kargs\": {\"num_features\":256}},\n",
    "\n",
    "    {\"class\": \"Linear\", \"kargs\": {\"in_features\": 256, \"out_features\": 256}},\n",
    "]\n",
    "\n",
    "# Parameters relevant to results\n",
    "# These parameters will basically never need to change\n",
    "standalone_parameters[\"NUM_LOGS_PER_EPOCH\"] = 10\n",
    "standalone_parameters[\"BEST_MODEL_PATH\"] = \"./best_model.pth\"\n",
    "\n",
    "# uncomment for CORES dataset\n",
    "from steves_utils.CORES.utils import (\n",
    "    ALL_NODES,\n",
    "    ALL_NODES_MINIMUM_1000_EXAMPLES,\n",
    "    ALL_DAYS\n",
    ")\n",
    "\n",
    "\n",
    "standalone_parameters[\"labels_source\"] = ALL_NODES\n",
    "standalone_parameters[\"labels_target\"] = ALL_NODES\n",
    "\n",
    "standalone_parameters[\"domains_source\"] = [1]\n",
    "standalone_parameters[\"domains_target\"] = [2,3,4,5]\n",
    "\n",
    "standalone_parameters[\"pickle_name\"] = \"cores.stratified_ds.2022A.pkl\"\n",
    "\n",
    "\n",
    "# Uncomment these for ORACLE dataset\n",
    "# from steves_utils.ORACLE.utils_v2 import (\n",
    "#     ALL_DISTANCES_FEET,\n",
    "#     ALL_RUNS,\n",
    "#     ALL_SERIAL_NUMBERS,\n",
    "# )\n",
    "# standalone_parameters[\"labels_source\"] = ALL_SERIAL_NUMBERS\n",
    "# standalone_parameters[\"labels_target\"] = ALL_SERIAL_NUMBERS\n",
    "# standalone_parameters[\"domains_source\"] = [8,20, 38,50]\n",
    "# standalone_parameters[\"domains_target\"] = [14, 26, 32, 44, 56]\n",
    "# standalone_parameters[\"pickle_name\"] = \"oracle.frame_indexed.stratified_ds.2022A.pkl\"\n",
    "# standalone_parameters[\"num_examples_per_domain_per_label_source\"]=1000\n",
    "# standalone_parameters[\"num_examples_per_domain_per_label_target\"]=1000\n",
    "\n",
    "# Uncomment these for Metahan dataset\n",
    "# standalone_parameters[\"labels_source\"] = list(range(19))\n",
    "# standalone_parameters[\"labels_target\"] = list(range(19))\n",
    "# standalone_parameters[\"domains_source\"] = [0]\n",
    "# standalone_parameters[\"domains_target\"] = [1]\n",
    "# standalone_parameters[\"pickle_name\"] = \"metehan.stratified_ds.2022A.pkl\"\n",
    "# standalone_parameters[\"n_way\"]  = len(standalone_parameters[\"labels_source\"])\n",
    "# standalone_parameters[\"num_examples_per_domain_per_label_source\"]=200\n",
    "# standalone_parameters[\"num_examples_per_domain_per_label_target\"]=100\n",
    "\n",
    "\n",
    "standalone_parameters[\"n_way\"]  = len(standalone_parameters[\"labels_source\"])"
   ]
  },
  {
   "cell_type": "code",
   "execution_count": 4,
   "id": "e844c4b2",
   "metadata": {
    "execution": {
     "iopub.execute_input": "2022-03-06T01:25:53.920283Z",
     "iopub.status.busy": "2022-03-06T01:25:53.918691Z",
     "iopub.status.idle": "2022-03-06T01:25:53.929109Z",
     "shell.execute_reply": "2022-03-06T01:25:53.928596Z"
    },
    "papermill": {
     "duration": 0.028401,
     "end_time": "2022-03-06T01:25:53.929210",
     "exception": false,
     "start_time": "2022-03-06T01:25:53.900809",
     "status": "completed"
    },
    "tags": [
     "injected-parameters"
    ]
   },
   "outputs": [],
   "source": [
    "# Parameters\n",
    "parameters = {\n",
    "    \"experiment_name\": \"tuned_1_oracle.run2.framed\",\n",
    "    \"device\": \"cuda\",\n",
    "    \"lr\": 0.001,\n",
    "    \"seed\": 1337,\n",
    "    \"dataset_seed\": 1337,\n",
    "    \"labels_source\": [\n",
    "        \"3123D52\",\n",
    "        \"3123D65\",\n",
    "        \"3123D79\",\n",
    "        \"3123D80\",\n",
    "        \"3123D54\",\n",
    "        \"3123D70\",\n",
    "        \"3123D7B\",\n",
    "        \"3123D89\",\n",
    "        \"3123D58\",\n",
    "        \"3123D76\",\n",
    "        \"3123D7D\",\n",
    "        \"3123EFE\",\n",
    "        \"3123D64\",\n",
    "        \"3123D78\",\n",
    "        \"3123D7E\",\n",
    "        \"3124E4A\",\n",
    "    ],\n",
    "    \"labels_target\": [\n",
    "        \"3123D52\",\n",
    "        \"3123D65\",\n",
    "        \"3123D79\",\n",
    "        \"3123D80\",\n",
    "        \"3123D54\",\n",
    "        \"3123D70\",\n",
    "        \"3123D7B\",\n",
    "        \"3123D89\",\n",
    "        \"3123D58\",\n",
    "        \"3123D76\",\n",
    "        \"3123D7D\",\n",
    "        \"3123EFE\",\n",
    "        \"3123D64\",\n",
    "        \"3123D78\",\n",
    "        \"3123D7E\",\n",
    "        \"3124E4A\",\n",
    "    ],\n",
    "    \"x_transforms_source\": [],\n",
    "    \"x_transforms_target\": [],\n",
    "    \"episode_transforms_source\": [],\n",
    "    \"episode_transforms_target\": [],\n",
    "    \"domains_source\": [8, 32, 50],\n",
    "    \"domains_target\": [14, 20, 26, 38, 44],\n",
    "    \"num_examples_per_domain_per_label_source\": 1300,\n",
    "    \"num_examples_per_domain_per_label_target\": 1300,\n",
    "    \"n_shot\": 3,\n",
    "    \"n_way\": 16,\n",
    "    \"n_query\": 2,\n",
    "    \"train_k_factor\": 3,\n",
    "    \"val_k_factor\": 2,\n",
    "    \"test_k_factor\": 2,\n",
    "    \"torch_default_dtype\": \"torch.float32\",\n",
    "    \"n_epoch\": 50,\n",
    "    \"patience\": 3,\n",
    "    \"criteria_for_best\": \"target_loss\",\n",
    "    \"x_net\": [\n",
    "        {\"class\": \"nnReshape\", \"kargs\": {\"shape\": [-1, 1, 2, 256]}},\n",
    "        {\n",
    "            \"class\": \"Conv2d\",\n",
    "            \"kargs\": {\n",
    "                \"in_channels\": 1,\n",
    "                \"out_channels\": 256,\n",
    "                \"kernel_size\": [1, 7],\n",
    "                \"bias\": False,\n",
    "                \"padding\": [0, 3],\n",
    "            },\n",
    "        },\n",
    "        {\"class\": \"ReLU\", \"kargs\": {\"inplace\": True}},\n",
    "        {\"class\": \"BatchNorm2d\", \"kargs\": {\"num_features\": 256}},\n",
    "        {\n",
    "            \"class\": \"Conv2d\",\n",
    "            \"kargs\": {\n",
    "                \"in_channels\": 256,\n",
    "                \"out_channels\": 80,\n",
    "                \"kernel_size\": [2, 7],\n",
    "                \"bias\": True,\n",
    "                \"padding\": [0, 3],\n",
    "            },\n",
    "        },\n",
    "        {\"class\": \"ReLU\", \"kargs\": {\"inplace\": True}},\n",
    "        {\"class\": \"BatchNorm2d\", \"kargs\": {\"num_features\": 80}},\n",
    "        {\"class\": \"Flatten\", \"kargs\": {}},\n",
    "        {\"class\": \"Linear\", \"kargs\": {\"in_features\": 20480, \"out_features\": 256}},\n",
    "        {\"class\": \"ReLU\", \"kargs\": {\"inplace\": True}},\n",
    "        {\"class\": \"BatchNorm1d\", \"kargs\": {\"num_features\": 256}},\n",
    "        {\"class\": \"Linear\", \"kargs\": {\"in_features\": 256, \"out_features\": 256}},\n",
    "    ],\n",
    "    \"NUM_LOGS_PER_EPOCH\": 10,\n",
    "    \"BEST_MODEL_PATH\": \"./best_model.pth\",\n",
    "    \"pickle_name\": \"oracle.Run2_framed_1300Examples_stratified_ds.2022A.pkl\",\n",
    "}\n"
   ]
  },
  {
   "cell_type": "code",
   "execution_count": 5,
   "id": "8fa1cc33",
   "metadata": {
    "execution": {
     "iopub.execute_input": "2022-03-06T01:25:53.957681Z",
     "iopub.status.busy": "2022-03-06T01:25:53.955084Z",
     "iopub.status.idle": "2022-03-06T01:25:53.969058Z",
     "shell.execute_reply": "2022-03-06T01:25:53.968837Z"
    },
    "papermill": {
     "duration": 0.024772,
     "end_time": "2022-03-06T01:25:53.969108",
     "exception": false,
     "start_time": "2022-03-06T01:25:53.944336",
     "status": "completed"
    },
    "tags": []
   },
   "outputs": [],
   "source": [
    "# Set this to True if you want to run this template directly\n",
    "STANDALONE = False\n",
    "if STANDALONE:\n",
    "    print(\"parameters not injected, running with standalone_parameters\")\n",
    "    parameters = standalone_parameters\n",
    "\n",
    "if not 'parameters' in locals() and not 'parameters' in globals():\n",
    "    raise Exception(\"Parameter injection failed\")\n",
    "\n",
    "#Use an easy dict for all the parameters\n",
    "p = EasyDict(parameters)\n",
    "\n",
    "supplied_keys = set(p.keys())\n",
    "\n",
    "if  supplied_keys != required_parameters:\n",
    "    print(\"Parameters are incorrect\")\n",
    "    if len(supplied_keys - required_parameters)>0: print(\"Shouldn't have:\", str(supplied_keys - required_parameters))\n",
    "    if len(required_parameters - supplied_keys)>0: print(\"Need to have:\", str(required_parameters - supplied_keys))\n",
    "    raise RuntimeError(\"Parameters are incorrect\")\n",
    "\n"
   ]
  },
  {
   "cell_type": "code",
   "execution_count": 6,
   "id": "3a028d58",
   "metadata": {
    "execution": {
     "iopub.execute_input": "2022-03-06T01:25:53.995037Z",
     "iopub.status.busy": "2022-03-06T01:25:53.994090Z",
     "iopub.status.idle": "2022-03-06T01:25:54.006534Z",
     "shell.execute_reply": "2022-03-06T01:25:54.006009Z"
    },
    "papermill": {
     "duration": 0.025446,
     "end_time": "2022-03-06T01:25:54.006637",
     "exception": false,
     "start_time": "2022-03-06T01:25:53.981191",
     "status": "completed"
    },
    "tags": []
   },
   "outputs": [],
   "source": [
    "###################################\n",
    "# Set the RNGs and make it all deterministic\n",
    "###################################\n",
    "np.random.seed(p.seed)\n",
    "random.seed(p.seed)\n",
    "torch.manual_seed(p.seed)\n",
    "\n",
    "torch.use_deterministic_algorithms(True) "
   ]
  },
  {
   "cell_type": "code",
   "execution_count": 7,
   "id": "b691acf6",
   "metadata": {
    "execution": {
     "iopub.execute_input": "2022-03-06T01:25:54.031801Z",
     "iopub.status.busy": "2022-03-06T01:25:54.031538Z",
     "iopub.status.idle": "2022-03-06T01:25:54.044329Z",
     "shell.execute_reply": "2022-03-06T01:25:54.043908Z"
    },
    "papermill": {
     "duration": 0.024746,
     "end_time": "2022-03-06T01:25:54.044424",
     "exception": false,
     "start_time": "2022-03-06T01:25:54.019678",
     "status": "completed"
    },
    "tags": []
   },
   "outputs": [],
   "source": [
    "###########################################\n",
    "# The stratified datasets honor this\n",
    "###########################################\n",
    "torch.set_default_dtype(eval(p.torch_default_dtype))"
   ]
  },
  {
   "cell_type": "code",
   "execution_count": 8,
   "id": "b5fba671",
   "metadata": {
    "execution": {
     "iopub.execute_input": "2022-03-06T01:25:54.070535Z",
     "iopub.status.busy": "2022-03-06T01:25:54.070204Z",
     "iopub.status.idle": "2022-03-06T01:25:54.108069Z",
     "shell.execute_reply": "2022-03-06T01:25:54.108301Z"
    },
    "papermill": {
     "duration": 0.049721,
     "end_time": "2022-03-06T01:25:54.108386",
     "exception": false,
     "start_time": "2022-03-06T01:25:54.058665",
     "status": "completed"
    },
    "tags": []
   },
   "outputs": [],
   "source": [
    "###################################\n",
    "# Build the network(s)\n",
    "# Note: It's critical to do this AFTER setting the RNG\n",
    "# (This is due to the randomized initial weights)\n",
    "###################################\n",
    "x_net = build_sequential(p.x_net)"
   ]
  },
  {
   "cell_type": "code",
   "execution_count": 9,
   "id": "5d7e61cc",
   "metadata": {
    "execution": {
     "iopub.execute_input": "2022-03-06T01:25:54.131148Z",
     "iopub.status.busy": "2022-03-06T01:25:54.130880Z",
     "iopub.status.idle": "2022-03-06T01:25:54.142101Z",
     "shell.execute_reply": "2022-03-06T01:25:54.141741Z"
    },
    "papermill": {
     "duration": 0.023646,
     "end_time": "2022-03-06T01:25:54.142173",
     "exception": false,
     "start_time": "2022-03-06T01:25:54.118527",
     "status": "completed"
    },
    "tags": []
   },
   "outputs": [],
   "source": [
    "start_time_secs = time.time()"
   ]
  },
  {
   "cell_type": "code",
   "execution_count": 10,
   "id": "fd5442bc",
   "metadata": {
    "execution": {
     "iopub.execute_input": "2022-03-06T01:25:54.175121Z",
     "iopub.status.busy": "2022-03-06T01:25:54.173392Z",
     "iopub.status.idle": "2022-03-06T01:25:55.072993Z",
     "shell.execute_reply": "2022-03-06T01:25:55.072560Z"
    },
    "papermill": {
     "duration": 0.917387,
     "end_time": "2022-03-06T01:25:55.073100",
     "exception": false,
     "start_time": "2022-03-06T01:25:54.155713",
     "status": "completed"
    },
    "tags": []
   },
   "outputs": [],
   "source": [
    "###################################\n",
    "# Build the dataset\n",
    "###################################\n",
    "\n",
    "if p.x_transforms_source == []: x_transform_source = None\n",
    "else: x_transform_source = get_chained_transform(p.x_transforms_source) \n",
    "\n",
    "if p.x_transforms_target == []: x_transform_target = None\n",
    "else: x_transform_target = get_chained_transform(p.x_transforms_target)\n",
    "\n",
    "if p.episode_transforms_source == []: episode_transform_source = None\n",
    "else: raise Exception(\"episode_transform_source not implemented\")\n",
    "\n",
    "if p.episode_transforms_target == []: episode_transform_target = None\n",
    "else: raise Exception(\"episode_transform_target not implemented\")\n",
    "\n",
    "\n",
    "eaf_source = Episodic_Accessor_Factory(\n",
    "    labels=p.labels_source,\n",
    "    domains=p.domains_source,\n",
    "    num_examples_per_domain_per_label=p.num_examples_per_domain_per_label_source,\n",
    "    iterator_seed=p.seed,\n",
    "    dataset_seed=p.dataset_seed,\n",
    "    n_shot=p.n_shot,\n",
    "    n_way=p.n_way,\n",
    "    n_query=p.n_query,\n",
    "    train_val_test_k_factors=(p.train_k_factor,p.val_k_factor,p.test_k_factor),\n",
    "    pickle_path=os.path.join(get_datasets_base_path(), p.pickle_name),\n",
    "    x_transform_func=x_transform_source,\n",
    "    example_transform_func=episode_transform_source,\n",
    "    \n",
    ")\n",
    "train_original_source, val_original_source, test_original_source = eaf_source.get_train(), eaf_source.get_val(), eaf_source.get_test()\n",
    "\n",
    "\n",
    "eaf_target = Episodic_Accessor_Factory(\n",
    "    labels=p.labels_target,\n",
    "    domains=p.domains_target,\n",
    "    num_examples_per_domain_per_label=p.num_examples_per_domain_per_label_target,\n",
    "    iterator_seed=p.seed,\n",
    "    dataset_seed=p.dataset_seed,\n",
    "    n_shot=p.n_shot,\n",
    "    n_way=p.n_way,\n",
    "    n_query=p.n_query,\n",
    "    train_val_test_k_factors=(p.train_k_factor,p.val_k_factor,p.test_k_factor),\n",
    "    pickle_path=os.path.join(get_datasets_base_path(), p.pickle_name),\n",
    "    x_transform_func=x_transform_target,\n",
    "    example_transform_func=episode_transform_target,\n",
    ")\n",
    "train_original_target, val_original_target, test_original_target = eaf_target.get_train(), eaf_target.get_val(), eaf_target.get_test()\n",
    "\n",
    "\n",
    "transform_lambda = lambda ex: ex[1] # Original is (<domain>, <episode>) so we strip down to episode only\n",
    "\n",
    "train_processed_source = Lazy_Iterable_Wrapper(train_original_source, transform_lambda)\n",
    "val_processed_source   = Lazy_Iterable_Wrapper(val_original_source, transform_lambda)\n",
    "test_processed_source  = Lazy_Iterable_Wrapper(test_original_source, transform_lambda)\n",
    "\n",
    "train_processed_target = Lazy_Iterable_Wrapper(train_original_target, transform_lambda)\n",
    "val_processed_target   = Lazy_Iterable_Wrapper(val_original_target, transform_lambda)\n",
    "test_processed_target  = Lazy_Iterable_Wrapper(test_original_target, transform_lambda)\n",
    "\n",
    "datasets = EasyDict({\n",
    "    \"source\": {\n",
    "        \"original\": {\"train\":train_original_source, \"val\":val_original_source, \"test\":test_original_source},\n",
    "        \"processed\": {\"train\":train_processed_source, \"val\":val_processed_source, \"test\":test_processed_source}\n",
    "    },\n",
    "    \"target\": {\n",
    "        \"original\": {\"train\":train_original_target, \"val\":val_original_target, \"test\":test_original_target},\n",
    "        \"processed\": {\"train\":train_processed_target, \"val\":val_processed_target, \"test\":test_processed_target}\n",
    "    },\n",
    "})"
   ]
  },
  {
   "cell_type": "code",
   "execution_count": 11,
   "id": "296189d9",
   "metadata": {
    "execution": {
     "iopub.execute_input": "2022-03-06T01:25:55.101589Z",
     "iopub.status.busy": "2022-03-06T01:25:55.101278Z",
     "iopub.status.idle": "2022-03-06T01:25:56.744056Z",
     "shell.execute_reply": "2022-03-06T01:25:56.744434Z"
    },
    "papermill": {
     "duration": 1.656965,
     "end_time": "2022-03-06T01:25:56.744545",
     "exception": false,
     "start_time": "2022-03-06T01:25:55.087580",
     "status": "completed"
    },
    "tags": []
   },
   "outputs": [
    {
     "name": "stdout",
     "output_type": "stream",
     "text": [
      "Visually inspect these to see if they line up with expected values given the transforms\n",
      "x_transforms_source []\n",
      "x_transforms_target []\n",
      "Average magnitude, source: 0.004569652\n",
      "Average power, source: 2.6294645e-05\n"
     ]
    },
    {
     "name": "stdout",
     "output_type": "stream",
     "text": [
      "Average magnitude, target: 0.003021535\n",
      "Average power, target: 1.1292583e-05\n"
     ]
    }
   ],
   "source": [
    "# Some quick unit tests on the data\n",
    "from steves_utils.transforms import get_average_power, get_average_magnitude\n",
    "\n",
    "q_x, q_y, s_x, s_y, truth = next(iter(train_processed_source))\n",
    "\n",
    "assert q_x.dtype == eval(p.torch_default_dtype)\n",
    "assert s_x.dtype == eval(p.torch_default_dtype)\n",
    "\n",
    "print(\"Visually inspect these to see if they line up with expected values given the transforms\")\n",
    "print('x_transforms_source', p.x_transforms_source)\n",
    "print('x_transforms_target', p.x_transforms_target)\n",
    "print(\"Average magnitude, source:\", get_average_magnitude(q_x[0].numpy()))\n",
    "print(\"Average power, source:\", get_average_power(q_x[0].numpy()))\n",
    "\n",
    "q_x, q_y, s_x, s_y, truth = next(iter(train_processed_target))\n",
    "print(\"Average magnitude, target:\", get_average_magnitude(q_x[0].numpy()))\n",
    "print(\"Average power, target:\", get_average_power(q_x[0].numpy()))\n"
   ]
  },
  {
   "cell_type": "code",
   "execution_count": 12,
   "id": "bbdacba1",
   "metadata": {
    "execution": {
     "iopub.execute_input": "2022-03-06T01:25:56.771995Z",
     "iopub.status.busy": "2022-03-06T01:25:56.771653Z",
     "iopub.status.idle": "2022-03-06T01:25:56.834222Z",
     "shell.execute_reply": "2022-03-06T01:25:56.833673Z"
    },
    "papermill": {
     "duration": 0.07696,
     "end_time": "2022-03-06T01:25:56.834338",
     "exception": false,
     "start_time": "2022-03-06T01:25:56.757378",
     "status": "completed"
    },
    "tags": []
   },
   "outputs": [
    {
     "name": "stdout",
     "output_type": "stream",
     "text": [
      "(2, 256)\n"
     ]
    }
   ],
   "source": [
    "###################################\n",
    "# Build the model\n",
    "###################################\n",
    "model = Steves_Prototypical_Network(x_net, device=p.device, x_shape=(2,256))\n",
    "optimizer = Adam(params=model.parameters(), lr=p.lr)"
   ]
  },
  {
   "cell_type": "code",
   "execution_count": 13,
   "id": "22b39ac5",
   "metadata": {
    "execution": {
     "iopub.execute_input": "2022-03-06T01:25:56.863656Z",
     "iopub.status.busy": "2022-03-06T01:25:56.861604Z",
     "iopub.status.idle": "2022-03-06T01:30:35.312988Z",
     "shell.execute_reply": "2022-03-06T01:30:35.312753Z"
    },
    "papermill": {
     "duration": 278.463585,
     "end_time": "2022-03-06T01:30:35.313049",
     "exception": false,
     "start_time": "2022-03-06T01:25:56.849464",
     "status": "completed"
    },
    "tags": []
   },
   "outputs": [
    {
     "name": "stdout",
     "output_type": "stream",
     "text": [
      "epoch: 1, [batch: 1 / 1629], examples_per_second: 185.2256, train_label_loss: 2.3621, \n"
     ]
    },
    {
     "name": "stdout",
     "output_type": "stream",
     "text": [
      "epoch: 1, [batch: 163 / 1629], examples_per_second: 3147.0799, train_label_loss: 0.7678, \n"
     ]
    },
    {
     "name": "stdout",
     "output_type": "stream",
     "text": [
      "epoch: 1, [batch: 326 / 1629], examples_per_second: 3145.7189, train_label_loss: 0.8155, \n"
     ]
    },
    {
     "name": "stdout",
     "output_type": "stream",
     "text": [
      "epoch: 1, [batch: 489 / 1629], examples_per_second: 3142.6164, train_label_loss: 0.7331, \n"
     ]
    },
    {
     "name": "stdout",
     "output_type": "stream",
     "text": [
      "epoch: 1, [batch: 652 / 1629], examples_per_second: 3142.2033, train_label_loss: 0.7986, \n"
     ]
    },
    {
     "name": "stdout",
     "output_type": "stream",
     "text": [
      "epoch: 1, [batch: 815 / 1629], examples_per_second: 3129.5853, train_label_loss: 0.5703, \n"
     ]
    },
    {
     "name": "stdout",
     "output_type": "stream",
     "text": [
      "epoch: 1, [batch: 977 / 1629], examples_per_second: 3135.3047, train_label_loss: 0.4088, \n"
     ]
    },
    {
     "name": "stdout",
     "output_type": "stream",
     "text": [
      "epoch: 1, [batch: 1140 / 1629], examples_per_second: 3123.9206, train_label_loss: 0.1817, \n"
     ]
    },
    {
     "name": "stdout",
     "output_type": "stream",
     "text": [
      "epoch: 1, [batch: 1303 / 1629], examples_per_second: 3153.5782, train_label_loss: 0.1538, \n"
     ]
    },
    {
     "name": "stdout",
     "output_type": "stream",
     "text": [
      "epoch: 1, [batch: 1466 / 1629], examples_per_second: 3143.8319, train_label_loss: 0.0399, \n"
     ]
    },
    {
     "name": "stdout",
     "output_type": "stream",
     "text": [
      "=============================================================\n",
      "epoch: 1, source_val_acc_label: 0.8540, target_val_acc_label: 0.5716, source_val_label_loss: 2.3818, target_val_label_loss: 5.1949, \n",
      "=============================================================\n"
     ]
    },
    {
     "name": "stdout",
     "output_type": "stream",
     "text": [
      "New best\n"
     ]
    },
    {
     "name": "stdout",
     "output_type": "stream",
     "text": [
      "epoch: 2, [batch: 1 / 1629], examples_per_second: 16.8335, train_label_loss: 4.5253, \n"
     ]
    },
    {
     "name": "stdout",
     "output_type": "stream",
     "text": [
      "epoch: 2, [batch: 163 / 1629], examples_per_second: 3192.4357, train_label_loss: 0.2683, \n"
     ]
    },
    {
     "name": "stdout",
     "output_type": "stream",
     "text": [
      "epoch: 2, [batch: 326 / 1629], examples_per_second: 3187.1563, train_label_loss: 0.1696, \n"
     ]
    },
    {
     "name": "stdout",
     "output_type": "stream",
     "text": [
      "epoch: 2, [batch: 489 / 1629], examples_per_second: 3202.4354, train_label_loss: 0.1725, \n"
     ]
    },
    {
     "name": "stdout",
     "output_type": "stream",
     "text": [
      "epoch: 2, [batch: 652 / 1629], examples_per_second: 3156.0494, train_label_loss: 0.0458, \n"
     ]
    },
    {
     "name": "stdout",
     "output_type": "stream",
     "text": [
      "epoch: 2, [batch: 815 / 1629], examples_per_second: 3181.8900, train_label_loss: 0.0452, \n"
     ]
    },
    {
     "name": "stdout",
     "output_type": "stream",
     "text": [
      "epoch: 2, [batch: 977 / 1629], examples_per_second: 3196.9126, train_label_loss: 0.1911, \n"
     ]
    },
    {
     "name": "stdout",
     "output_type": "stream",
     "text": [
      "epoch: 2, [batch: 1140 / 1629], examples_per_second: 3176.9770, train_label_loss: 0.1215, \n"
     ]
    },
    {
     "name": "stdout",
     "output_type": "stream",
     "text": [
      "epoch: 2, [batch: 1303 / 1629], examples_per_second: 3200.9298, train_label_loss: 0.0409, \n"
     ]
    },
    {
     "name": "stdout",
     "output_type": "stream",
     "text": [
      "epoch: 2, [batch: 1466 / 1629], examples_per_second: 3119.3535, train_label_loss: 0.1150, \n"
     ]
    },
    {
     "name": "stdout",
     "output_type": "stream",
     "text": [
      "=============================================================\n",
      "epoch: 2, source_val_acc_label: 0.9729, target_val_acc_label: 0.6330, source_val_label_loss: 0.0830, target_val_label_loss: 1.5762, \n",
      "=============================================================\n"
     ]
    },
    {
     "name": "stdout",
     "output_type": "stream",
     "text": [
      "New best\n"
     ]
    },
    {
     "name": "stdout",
     "output_type": "stream",
     "text": [
      "epoch: 3, [batch: 1 / 1629], examples_per_second: 16.8826, train_label_loss: 0.1110, \n"
     ]
    },
    {
     "name": "stdout",
     "output_type": "stream",
     "text": [
      "epoch: 3, [batch: 163 / 1629], examples_per_second: 3162.6798, train_label_loss: 0.0080, \n"
     ]
    },
    {
     "name": "stdout",
     "output_type": "stream",
     "text": [
      "epoch: 3, [batch: 326 / 1629], examples_per_second: 3161.9821, train_label_loss: 0.0101, \n"
     ]
    },
    {
     "name": "stdout",
     "output_type": "stream",
     "text": [
      "epoch: 3, [batch: 489 / 1629], examples_per_second: 3184.0210, train_label_loss: 0.0060, \n"
     ]
    },
    {
     "name": "stdout",
     "output_type": "stream",
     "text": [
      "epoch: 3, [batch: 652 / 1629], examples_per_second: 3171.5847, train_label_loss: 0.0113, \n"
     ]
    },
    {
     "name": "stdout",
     "output_type": "stream",
     "text": [
      "epoch: 3, [batch: 815 / 1629], examples_per_second: 3185.0731, train_label_loss: 0.0027, \n"
     ]
    },
    {
     "name": "stdout",
     "output_type": "stream",
     "text": [
      "epoch: 3, [batch: 977 / 1629], examples_per_second: 3193.0145, train_label_loss: 0.0112, \n"
     ]
    },
    {
     "name": "stdout",
     "output_type": "stream",
     "text": [
      "epoch: 3, [batch: 1140 / 1629], examples_per_second: 3178.6666, train_label_loss: 0.0421, \n"
     ]
    },
    {
     "name": "stdout",
     "output_type": "stream",
     "text": [
      "epoch: 3, [batch: 1303 / 1629], examples_per_second: 3166.8208, train_label_loss: 0.0606, \n"
     ]
    },
    {
     "name": "stdout",
     "output_type": "stream",
     "text": [
      "epoch: 3, [batch: 1466 / 1629], examples_per_second: 3178.2809, train_label_loss: 0.0077, \n"
     ]
    },
    {
     "name": "stdout",
     "output_type": "stream",
     "text": [
      "=============================================================\n",
      "epoch: 3, source_val_acc_label: 0.9801, target_val_acc_label: 0.6439, source_val_label_loss: 0.0580, target_val_label_loss: 1.6524, \n",
      "=============================================================\n"
     ]
    },
    {
     "name": "stdout",
     "output_type": "stream",
     "text": [
      "epoch: 4, [batch: 1 / 1629], examples_per_second: 16.9519, train_label_loss: 0.0187, \n"
     ]
    },
    {
     "name": "stdout",
     "output_type": "stream",
     "text": [
      "epoch: 4, [batch: 163 / 1629], examples_per_second: 3163.2380, train_label_loss: 0.0020, \n"
     ]
    },
    {
     "name": "stdout",
     "output_type": "stream",
     "text": [
      "epoch: 4, [batch: 326 / 1629], examples_per_second: 3183.6362, train_label_loss: 0.1321, \n"
     ]
    },
    {
     "name": "stdout",
     "output_type": "stream",
     "text": [
      "epoch: 4, [batch: 489 / 1629], examples_per_second: 3179.0639, train_label_loss: 0.0352, \n"
     ]
    },
    {
     "name": "stdout",
     "output_type": "stream",
     "text": [
      "epoch: 4, [batch: 652 / 1629], examples_per_second: 3170.6132, train_label_loss: 0.1523, \n"
     ]
    },
    {
     "name": "stdout",
     "output_type": "stream",
     "text": [
      "epoch: 4, [batch: 815 / 1629], examples_per_second: 3185.7545, train_label_loss: 0.0498, \n"
     ]
    },
    {
     "name": "stdout",
     "output_type": "stream",
     "text": [
      "epoch: 4, [batch: 977 / 1629], examples_per_second: 3189.6108, train_label_loss: 0.0018, \n"
     ]
    },
    {
     "name": "stdout",
     "output_type": "stream",
     "text": [
      "epoch: 4, [batch: 1140 / 1629], examples_per_second: 3189.8891, train_label_loss: 0.1291, \n"
     ]
    },
    {
     "name": "stdout",
     "output_type": "stream",
     "text": [
      "epoch: 4, [batch: 1303 / 1629], examples_per_second: 3192.8494, train_label_loss: 0.0203, \n"
     ]
    },
    {
     "name": "stdout",
     "output_type": "stream",
     "text": [
      "epoch: 4, [batch: 1466 / 1629], examples_per_second: 3190.0726, train_label_loss: 0.0001, \n"
     ]
    },
    {
     "name": "stdout",
     "output_type": "stream",
     "text": [
      "=============================================================\n",
      "epoch: 4, source_val_acc_label: 0.9889, target_val_acc_label: 0.6416, source_val_label_loss: 0.0403, target_val_label_loss: 1.7443, \n",
      "=============================================================\n"
     ]
    },
    {
     "name": "stdout",
     "output_type": "stream",
     "text": [
      "epoch: 5, [batch: 1 / 1629], examples_per_second: 16.9563, train_label_loss: 0.0589, \n"
     ]
    },
    {
     "name": "stdout",
     "output_type": "stream",
     "text": [
      "epoch: 5, [batch: 163 / 1629], examples_per_second: 3173.2451, train_label_loss: 0.0043, \n"
     ]
    },
    {
     "name": "stdout",
     "output_type": "stream",
     "text": [
      "epoch: 5, [batch: 326 / 1629], examples_per_second: 3196.9059, train_label_loss: 0.0006, \n"
     ]
    },
    {
     "name": "stdout",
     "output_type": "stream",
     "text": [
      "epoch: 5, [batch: 489 / 1629], examples_per_second: 3186.9772, train_label_loss: 0.0213, \n"
     ]
    },
    {
     "name": "stdout",
     "output_type": "stream",
     "text": [
      "epoch: 5, [batch: 652 / 1629], examples_per_second: 3177.0012, train_label_loss: 0.0008, \n"
     ]
    },
    {
     "name": "stdout",
     "output_type": "stream",
     "text": [
      "epoch: 5, [batch: 815 / 1629], examples_per_second: 3172.3823, train_label_loss: 0.0203, \n"
     ]
    },
    {
     "name": "stdout",
     "output_type": "stream",
     "text": [
      "epoch: 5, [batch: 977 / 1629], examples_per_second: 3178.0984, train_label_loss: 0.0009, \n"
     ]
    },
    {
     "name": "stdout",
     "output_type": "stream",
     "text": [
      "epoch: 5, [batch: 1140 / 1629], examples_per_second: 3163.1614, train_label_loss: 0.0441, \n"
     ]
    },
    {
     "name": "stdout",
     "output_type": "stream",
     "text": [
      "epoch: 5, [batch: 1303 / 1629], examples_per_second: 3157.8979, train_label_loss: 0.0036, \n"
     ]
    },
    {
     "name": "stdout",
     "output_type": "stream",
     "text": [
      "epoch: 5, [batch: 1466 / 1629], examples_per_second: 3167.9508, train_label_loss: 0.0004, \n"
     ]
    },
    {
     "name": "stdout",
     "output_type": "stream",
     "text": [
      "=============================================================\n",
      "epoch: 5, source_val_acc_label: 0.9899, target_val_acc_label: 0.6276, source_val_label_loss: 0.0335, target_val_label_loss: 2.0723, \n",
      "=============================================================\n"
     ]
    },
    {
     "name": "stdout",
     "output_type": "stream",
     "text": [
      "epoch: 6, [batch: 1 / 1629], examples_per_second: 17.0014, train_label_loss: 0.0010, \n"
     ]
    },
    {
     "name": "stdout",
     "output_type": "stream",
     "text": [
      "epoch: 6, [batch: 163 / 1629], examples_per_second: 3185.0772, train_label_loss: 0.0068, \n"
     ]
    },
    {
     "name": "stdout",
     "output_type": "stream",
     "text": [
      "epoch: 6, [batch: 326 / 1629], examples_per_second: 3177.0661, train_label_loss: 0.0000, \n"
     ]
    },
    {
     "name": "stdout",
     "output_type": "stream",
     "text": [
      "epoch: 6, [batch: 489 / 1629], examples_per_second: 3180.4736, train_label_loss: 0.0005, \n"
     ]
    },
    {
     "name": "stdout",
     "output_type": "stream",
     "text": [
      "epoch: 6, [batch: 652 / 1629], examples_per_second: 3168.1799, train_label_loss: 0.0024, \n"
     ]
    },
    {
     "name": "stdout",
     "output_type": "stream",
     "text": [
      "epoch: 6, [batch: 815 / 1629], examples_per_second: 3190.3441, train_label_loss: 0.0008, \n"
     ]
    },
    {
     "name": "stdout",
     "output_type": "stream",
     "text": [
      "epoch: 6, [batch: 977 / 1629], examples_per_second: 3181.6762, train_label_loss: 0.0017, \n"
     ]
    },
    {
     "name": "stdout",
     "output_type": "stream",
     "text": [
      "epoch: 6, [batch: 1140 / 1629], examples_per_second: 3155.1020, train_label_loss: 0.0001, \n"
     ]
    },
    {
     "name": "stdout",
     "output_type": "stream",
     "text": [
      "epoch: 6, [batch: 1303 / 1629], examples_per_second: 3185.3118, train_label_loss: 0.0010, \n"
     ]
    },
    {
     "name": "stdout",
     "output_type": "stream",
     "text": [
      "epoch: 6, [batch: 1466 / 1629], examples_per_second: 3176.3646, train_label_loss: 0.0254, \n"
     ]
    },
    {
     "name": "stdout",
     "output_type": "stream",
     "text": [
      "=============================================================\n",
      "epoch: 6, source_val_acc_label: 0.9794, target_val_acc_label: 0.6250, source_val_label_loss: 0.0934, target_val_label_loss: 2.3213, \n",
      "=============================================================\n"
     ]
    },
    {
     "name": "stdout",
     "output_type": "stream",
     "text": [
      "Patience (3) exhausted\n"
     ]
    }
   ],
   "source": [
    "###################################\n",
    "# train\n",
    "###################################\n",
    "jig = PTN_Train_Eval_Test_Jig(model, p.BEST_MODEL_PATH, p.device)\n",
    "\n",
    "jig.train(\n",
    "    train_iterable=datasets.source.processed.train,\n",
    "    source_val_iterable=datasets.source.processed.val,\n",
    "    target_val_iterable=datasets.target.processed.val,\n",
    "    num_epochs=p.n_epoch,\n",
    "    num_logs_per_epoch=p.NUM_LOGS_PER_EPOCH,\n",
    "    patience=p.patience,\n",
    "    optimizer=optimizer,\n",
    "    criteria_for_best=p.criteria_for_best,\n",
    ")"
   ]
  },
  {
   "cell_type": "code",
   "execution_count": 14,
   "id": "31e8fabf",
   "metadata": {
    "execution": {
     "iopub.execute_input": "2022-03-06T01:30:35.361866Z",
     "iopub.status.busy": "2022-03-06T01:30:35.361593Z",
     "iopub.status.idle": "2022-03-06T01:30:35.378605Z",
     "shell.execute_reply": "2022-03-06T01:30:35.378164Z"
    },
    "papermill": {
     "duration": 0.04302,
     "end_time": "2022-03-06T01:30:35.378743",
     "exception": false,
     "start_time": "2022-03-06T01:30:35.335723",
     "status": "completed"
    },
    "tags": []
   },
   "outputs": [],
   "source": [
    "total_experiment_time_secs = time.time() - start_time_secs"
   ]
  },
  {
   "cell_type": "code",
   "execution_count": 15,
   "id": "87b9595b",
   "metadata": {
    "execution": {
     "iopub.execute_input": "2022-03-06T01:30:35.436539Z",
     "iopub.status.busy": "2022-03-06T01:30:35.430184Z",
     "iopub.status.idle": "2022-03-06T01:31:07.766086Z",
     "shell.execute_reply": "2022-03-06T01:31:07.766318Z"
    },
    "papermill": {
     "duration": 32.359499,
     "end_time": "2022-03-06T01:31:07.766406",
     "exception": false,
     "start_time": "2022-03-06T01:30:35.406907",
     "status": "completed"
    },
    "tags": []
   },
   "outputs": [],
   "source": [
    "###################################\n",
    "# Evaluate the model\n",
    "###################################\n",
    "source_test_label_accuracy, source_test_label_loss = jig.test(datasets.source.processed.test)\n",
    "target_test_label_accuracy, target_test_label_loss = jig.test(datasets.target.processed.test)\n",
    "\n",
    "source_val_label_accuracy, source_val_label_loss = jig.test(datasets.source.processed.val)\n",
    "target_val_label_accuracy, target_val_label_loss = jig.test(datasets.target.processed.val)\n",
    "\n",
    "history = jig.get_history()\n",
    "\n",
    "total_epochs_trained = len(history[\"epoch_indices\"])\n",
    "\n",
    "val_dl = Iterable_Aggregator((datasets.source.original.val,datasets.target.original.val))\n",
    "\n",
    "confusion = ptn_confusion_by_domain_over_dataloader(model, p.device, val_dl)\n",
    "per_domain_accuracy = per_domain_accuracy_from_confusion(confusion)\n",
    "\n",
    "# Add a key to per_domain_accuracy for if it was a source domain\n",
    "for domain, accuracy in per_domain_accuracy.items():\n",
    "    per_domain_accuracy[domain] = {\n",
    "        \"accuracy\": accuracy,\n",
    "        \"source?\": domain in p.domains_source\n",
    "    }\n",
    "\n",
    "# Do an independent accuracy assesment JUST TO BE SURE!\n",
    "# _source_test_label_accuracy = independent_accuracy_assesment(model, datasets.source.processed.test, p.device)\n",
    "# _target_test_label_accuracy = independent_accuracy_assesment(model, datasets.target.processed.test, p.device)\n",
    "# _source_val_label_accuracy = independent_accuracy_assesment(model, datasets.source.processed.val, p.device)\n",
    "# _target_val_label_accuracy = independent_accuracy_assesment(model, datasets.target.processed.val, p.device)\n",
    "\n",
    "# assert(_source_test_label_accuracy == source_test_label_accuracy)\n",
    "# assert(_target_test_label_accuracy == target_test_label_accuracy)\n",
    "# assert(_source_val_label_accuracy == source_val_label_accuracy)\n",
    "# assert(_target_val_label_accuracy == target_val_label_accuracy)\n",
    "\n",
    "experiment = {\n",
    "    \"experiment_name\": p.experiment_name,\n",
    "    \"parameters\": dict(p),\n",
    "    \"results\": {\n",
    "        \"source_test_label_accuracy\": source_test_label_accuracy,\n",
    "        \"source_test_label_loss\": source_test_label_loss,\n",
    "        \"target_test_label_accuracy\": target_test_label_accuracy,\n",
    "        \"target_test_label_loss\": target_test_label_loss,\n",
    "        \"source_val_label_accuracy\": source_val_label_accuracy,\n",
    "        \"source_val_label_loss\": source_val_label_loss,\n",
    "        \"target_val_label_accuracy\": target_val_label_accuracy,\n",
    "        \"target_val_label_loss\": target_val_label_loss,\n",
    "        \"total_epochs_trained\": total_epochs_trained,\n",
    "        \"total_experiment_time_secs\": total_experiment_time_secs,\n",
    "        \"confusion\": confusion,\n",
    "        \"per_domain_accuracy\": per_domain_accuracy,\n",
    "    },\n",
    "    \"history\": history,\n",
    "    \"dataset_metrics\": get_dataset_metrics(datasets, \"ptn\"),\n",
    "}"
   ]
  },
  {
   "cell_type": "code",
   "execution_count": 16,
   "id": "54a21829",
   "metadata": {
    "execution": {
     "iopub.execute_input": "2022-03-06T01:31:07.818978Z",
     "iopub.status.busy": "2022-03-06T01:31:07.818614Z",
     "iopub.status.idle": "2022-03-06T01:31:07.996217Z",
     "shell.execute_reply": "2022-03-06T01:31:07.995814Z"
    },
    "papermill": {
     "duration": 0.203934,
     "end_time": "2022-03-06T01:31:07.996317",
     "exception": false,
     "start_time": "2022-03-06T01:31:07.792383",
     "status": "completed"
    },
    "tags": []
   },
   "outputs": [
    {
     "data": {
      "image/png": "[encoded data removed]",
      "text/plain": [
       "<Figure size 1080x504 with 1 Axes>"
      ]
     },
     "metadata": {
      "needs_background": "light"
     },
     "output_type": "display_data"
    }
   ],
   "source": [
    "ax = get_loss_curve(experiment)\n",
    "plt.show()"
   ]
  },
  {
   "cell_type": "code",
   "execution_count": 17,
   "id": "fd8a0f60",
   "metadata": {
    "execution": {
     "iopub.execute_input": "2022-03-06T01:31:08.051515Z",
     "iopub.status.busy": "2022-03-06T01:31:08.051251Z",
     "iopub.status.idle": "2022-03-06T01:31:08.231203Z",
     "shell.execute_reply": "2022-03-06T01:31:08.230855Z"
    },
    "papermill": {
     "duration": 0.205412,
     "end_time": "2022-03-06T01:31:08.231275",
     "exception": false,
     "start_time": "2022-03-06T01:31:08.025863",
     "status": "completed"
    },
    "tags": []
   },
   "outputs": [
    {
     "data": {
      "text/plain": [
       "<matplotlib.axes._subplots.AxesSubplot at 0x7f30cca0dca0>"
      ]
     },
     "execution_count": 17,
     "metadata": {},
     "output_type": "execute_result"
    },
    {
     "data": {
      "image/png": "[encoded data removed]",
      "text/plain": [
       "<Figure size 1080x504 with 1 Axes>"
      ]
     },
     "metadata": {
      "needs_background": "light"
     },
     "output_type": "display_data"
    }
   ],
   "source": [
    "get_results_table(experiment)"
   ]
  },
  {
   "cell_type": "code",
   "execution_count": 18,
   "id": "cf8dc689",
   "metadata": {
    "execution": {
     "iopub.execute_input": "2022-03-06T01:31:08.294890Z",
     "iopub.status.busy": "2022-03-06T01:31:08.294491Z",
     "iopub.status.idle": "2022-03-06T01:31:08.475530Z",
     "shell.execute_reply": "2022-03-06T01:31:08.475069Z"
    },
    "papermill": {
     "duration": 0.207775,
     "end_time": "2022-03-06T01:31:08.475626",
     "exception": false,
     "start_time": "2022-03-06T01:31:08.267851",
     "status": "completed"
    },
    "tags": []
   },
   "outputs": [
    {
     "data": {
      "text/plain": [
       "<matplotlib.axes._subplots.AxesSubplot at 0x7f30cc845df0>"
      ]
     },
     "execution_count": 18,
     "metadata": {},
     "output_type": "execute_result"
    },
    {
     "data": {
      "image/png": "[encoded data removed]",
      "text/plain": [
       "<Figure size 1080x504 with 1 Axes>"
      ]
     },
     "metadata": {
      "needs_background": "light"
     },
     "output_type": "display_data"
    }
   ],
   "source": [
    "get_domain_accuracies(experiment)"
   ]
  },
  {
   "cell_type": "code",
   "execution_count": 19,
   "id": "a74ae082",
   "metadata": {
    "execution": {
     "iopub.execute_input": "2022-03-06T01:31:08.533142Z",
     "iopub.status.busy": "2022-03-06T01:31:08.532881Z",
     "iopub.status.idle": "2022-03-06T01:31:08.546087Z",
     "shell.execute_reply": "2022-03-06T01:31:08.545758Z"
    },
    "papermill": {
     "duration": 0.041679,
     "end_time": "2022-03-06T01:31:08.546159",
     "exception": false,
     "start_time": "2022-03-06T01:31:08.504480",
     "status": "completed"
    },
    "tags": []
   },
   "outputs": [
    {
     "name": "stdout",
     "output_type": "stream",
     "text": [
      "Source Test Label Accuracy: 0.9771634615384616 Target Test Label Accuracy: 0.639102564102564\n",
      "Source Val Label Accuracy: 0.9728899572649573 Target Val Label Accuracy: 0.6330128205128205\n"
     ]
    }
   ],
   "source": [
    "print(\"Source Test Label Accuracy:\", experiment[\"results\"][\"source_test_label_accuracy\"], \"Target Test Label Accuracy:\", experiment[\"results\"][\"target_test_label_accuracy\"])\n",
    "print(\"Source Val Label Accuracy:\", experiment[\"results\"][\"source_val_label_accuracy\"], \"Target Val Label Accuracy:\", experiment[\"results\"][\"target_val_label_accuracy\"])"
   ]
  },
  {
   "cell_type": "code",
   "execution_count": 20,
   "id": "dacca602",
   "metadata": {
    "execution": {
     "iopub.execute_input": "2022-03-06T01:31:08.603083Z",
     "iopub.status.busy": "2022-03-06T01:31:08.602826Z",
     "iopub.status.idle": "2022-03-06T01:31:08.613223Z",
     "shell.execute_reply": "2022-03-06T01:31:08.612803Z"
    },
    "papermill": {
     "duration": 0.037631,
     "end_time": "2022-03-06T01:31:08.613315",
     "exception": false,
     "start_time": "2022-03-06T01:31:08.575684",
     "status": "completed"
    },
    "tags": [
     "experiment_json"
    ]
   },
   "outputs": [
    {
     "data": {
      "text/plain": [
       "'{\"experiment_name\": \"tuned_1_oracle.run2.framed\", \"parameters\": {\"experiment_name\": \"tuned_1_oracle.run2.framed\", \"device\": \"cuda\", \"lr\": 0.001, \"seed\": 1337, \"dataset_seed\": 1337, \"labels_source\": [\"3123D52\", \"3123D65\", \"3123D79\", \"3123D80\", \"3123D54\", \"3123D70\", \"3123D7B\", \"3123D89\", \"3123D58\", \"3123D76\", \"3123D7D\", \"3123EFE\", \"3123D64\", \"3123D78\", \"3123D7E\", \"3124E4A\"], \"labels_target\": [\"3123D52\", \"3123D65\", \"3123D79\", \"3123D80\", \"3123D54\", \"3123D70\", \"3123D7B\", \"3123D89\", \"3123D58\", \"3123D76\", \"3123D7D\", \"3123EFE\", \"3123D64\", \"3123D78\", \"3123D7E\", \"3124E4A\"], \"x_transforms_source\": [], \"x_transforms_target\": [], \"episode_transforms_source\": [], \"episode_transforms_target\": [], \"domains_source\": [8, 32, 50], \"domains_target\": [14, 20, 26, 38, 44], \"num_examples_per_domain_per_label_source\": 1300, \"num_examples_per_domain_per_label_target\": 1300, \"n_shot\": 3, \"n_way\": 16, \"n_query\": 2, \"train_k_factor\": 3, \"val_k_factor\": 2, \"test_k_factor\": 2, \"torch_default_dtype\": \"torch.float32\", \"n_epoch\": 50, \"patience\": 3, \"criteria_for_best\": \"target_loss\", \"x_net\": [{\"class\": \"nnReshape\", \"kargs\": {\"shape\": [-1, 1, 2, 256]}}, {\"class\": \"Conv2d\", \"kargs\": {\"in_channels\": 1, \"out_channels\": 256, \"kernel_size\": [1, 7], \"bias\": false, \"padding\": [0, 3]}}, {\"class\": \"ReLU\", \"kargs\": {\"inplace\": true}}, {\"class\": \"BatchNorm2d\", \"kargs\": {\"num_features\": 256}}, {\"class\": \"Conv2d\", \"kargs\": {\"in_channels\": 256, \"out_channels\": 80, \"kernel_size\": [2, 7], \"bias\": true, \"padding\": [0, 3]}}, {\"class\": \"ReLU\", \"kargs\": {\"inplace\": true}}, {\"class\": \"BatchNorm2d\", \"kargs\": {\"num_features\": 80}}, {\"class\": \"Flatten\", \"kargs\": {}}, {\"class\": \"Linear\", \"kargs\": {\"in_features\": 20480, \"out_features\": 256}}, {\"class\": \"ReLU\", \"kargs\": {\"inplace\": true}}, {\"class\": \"BatchNorm1d\", \"kargs\": {\"num_features\": 256}}, {\"class\": \"Linear\", \"kargs\": {\"in_features\": 256, \"out_features\": 256}}], \"NUM_LOGS_PER_EPOCH\": 10, \"BEST_MODEL_PATH\": \"./best_model.pth\", \"pickle_name\": \"oracle.Run2_framed_1300Examples_stratified_ds.2022A.pkl\"}, \"results\": {\"source_test_label_accuracy\": 0.9771634615384616, \"source_test_label_loss\": 0.07862034440040588, \"target_test_label_accuracy\": 0.639102564102564, \"target_test_label_loss\": 1.5363729000091553, \"source_val_label_accuracy\": 0.9728899572649573, \"source_val_label_loss\": 0.08300639688968658, \"target_val_label_accuracy\": 0.6330128205128205, \"target_val_label_loss\": 1.576215386390686, \"total_epochs_trained\": 6, \"total_experiment_time_secs\": 281.2361822128296, \"confusion\": {\"8\": {\"15\": {\"15\": 155, \"12\": 1}, \"3\": {\"3\": 156}, \"6\": {\"6\": 153, \"14\": 3}, \"1\": {\"1\": 138, \"10\": 12, \"4\": 6}, \"8\": {\"8\": 152, \"4\": 4}, \"10\": {\"10\": 139, \"1\": 14, \"5\": 3}, \"9\": {\"9\": 156}, \"13\": {\"13\": 144, \"5\": 7, \"7\": 5}, \"12\": {\"12\": 156}, \"5\": {\"5\": 146, \"10\": 9, \"13\": 1}, \"0\": {\"0\": 156}, \"2\": {\"2\": 154, \"12\": 2}, \"11\": {\"11\": 147, \"7\": 7, \"4\": 1, \"8\": 1}, \"14\": {\"14\": 147, \"6\": 7, \"8\": 2}, \"7\": {\"7\": 141, \"11\": 3, \"4\": 7, \"13\": 4, \"1\": 1}, \"4\": {\"4\": 141, \"8\": 1, \"11\": 6, \"1\": 6, \"7\": 2}}, \"50\": {\"3\": {\"3\": 156}, \"15\": {\"15\": 152, \"9\": 4}, \"8\": {\"8\": 156}, \"4\": {\"4\": 155, \"5\": 1}, \"14\": {\"14\": 153, \"2\": 3}, \"0\": {\"0\": 155, \"10\": 1}, \"7\": {\"7\": 151, \"4\": 4, \"5\": 1}, \"6\": {\"6\": 152, \"15\": 1, \"12\": 1, \"5\": 2}, \"10\": {\"10\": 155, \"0\": 1}, \"5\": {\"5\": 150, \"6\": 4, \"4\": 2}, \"2\": {\"2\": 154, \"0\": 2}, \"12\": {\"12\": 154, \"15\": 2}, \"9\": {\"9\": 149, \"15\": 7}, \"1\": {\"1\": 152, \"11\": 4}, \"11\": {\"11\": 155, \"12\": 1}, \"13\": {\"13\": 156}}, \"32\": {\"5\": {\"5\": 154, \"14\": 2}, \"8\": {\"8\": 152, \"7\": 4}, \"11\": {\"11\": 154, \"9\": 2}, \"1\": {\"1\": 156}, \"10\": {\"10\": 156}, \"15\": {\"15\": 154, \"5\": 2}, \"3\": {\"3\": 156}, \"7\": {\"7\": 155, \"0\": 1}, \"4\": {\"4\": 156}, \"14\": {\"14\": 150, \"5\": 4, \"0\": 2}, \"9\": {\"9\": 152, \"11\": 4}, \"12\": {\"12\": 154, \"10\": 1, \"9\": 1}, \"6\": {\"6\": 156}, \"2\": {\"2\": 151, \"0\": 5}, \"0\": {\"0\": 140, \"7\": 10, \"14\": 4, \"2\": 2}, \"13\": {\"13\": 153, \"11\": 3}}, \"14\": {\"15\": {\"15\": 156}, \"3\": {\"3\": 139, \"7\": 7, \"14\": 5, \"6\": 4, \"2\": 1}, \"6\": {\"6\": 144, \"13\": 12}, \"1\": {\"1\": 155, \"9\": 1}, \"8\": {\"10\": 22, \"8\": 124, \"0\": 8, \"5\": 2}, \"10\": {\"10\": 68, \"4\": 14, \"8\": 18, \"5\": 29, \"0\": 26, \"2\": 1}, \"9\": {\"9\": 151, \"1\": 4, \"0\": 1}, \"13\": {\"13\": 125, \"6\": 31}, \"12\": {\"12\": 146, \"11\": 10}, \"5\": {\"5\": 110, \"10\": 28, \"0\": 4, \"2\": 4, \"14\": 3, \"8\": 4, \"4\": 3}, \"0\": {\"10\": 23, \"0\": 93, \"4\": 29, \"8\": 8, \"9\": 1, \"5\": 2}, \"2\": {\"14\": 54, \"2\": 53, \"7\": 21, \"5\": 25, \"10\": 2, \"8\": 1}, \"11\": {\"11\": 142, \"12\": 14}, \"14\": {\"14\": 60, \"2\": 33, \"3\": 7, \"7\": 45, \"5\": 9, \"10\": 2}, \"7\": {\"7\": 75, \"2\": 25, \"14\": 42, \"3\": 12, \"6\": 2}, \"4\": {\"4\": 96, \"0\": 44, \"10\": 15, \"5\": 1}}, \"20\": {\"3\": {\"15\": 17, \"7\": 20, \"6\": 26, \"9\": 23, \"3\": 31, \"2\": 11, \"5\": 11, \"1\": 7, \"4\": 9, \"13\": 1}, \"15\": {\"7\": 12, \"9\": 14, \"4\": 29, \"5\": 6, \"10\": 1, \"13\": 8, \"15\": 60, \"3\": 12, \"6\": 3, \"2\": 8, \"1\": 2, \"12\": 1}, \"8\": {\"11\": 36, \"0\": 19, \"8\": 69, \"14\": 28, \"1\": 2, \"5\": 2}, \"4\": {\"4\": 43, \"3\": 13, \"7\": 23, \"9\": 10, \"2\": 6, \"15\": 34, \"6\": 8, \"5\": 3, \"10\": 7, \"12\": 2, \"13\": 7}, \"14\": {\"11\": 13, \"14\": 113, \"8\": 18, \"1\": 6, \"5\": 5, \"2\": 1}, \"0\": {\"0\": 108, \"11\": 27, \"8\": 20, \"14\": 1}, \"7\": {\"7\": 30, \"3\": 15, \"6\": 27, \"2\": 9, \"10\": 17, \"15\": 14, \"4\": 34, \"13\": 1, \"9\": 5, \"5\": 3, \"14\": 1}, \"6\": {\"7\": 28, \"3\": 26, \"6\": 67, \"15\": 5, \"10\": 9, \"4\": 10, \"9\": 7, \"5\": 4}, \"10\": {\"13\": 7, \"12\": 26, \"10\": 67, \"15\": 2, \"6\": 27, \"7\": 23, \"4\": 4}, \"5\": {\"7\": 6, \"11\": 4, \"9\": 25, \"2\": 11, \"1\": 42, \"3\": 11, \"4\": 3, \"5\": 32, \"14\": 2, \"15\": 12, \"13\": 1, \"6\": 5, \"8\": 2}, \"2\": {\"2\": 43, \"5\": 22, \"9\": 24, \"6\": 2, \"1\": 25, \"4\": 5, \"3\": 18, \"15\": 11, \"7\": 5, \"8\": 1}, \"12\": {\"13\": 36, \"15\": 7, \"12\": 80, \"10\": 27, \"4\": 4, \"7\": 2}, \"9\": {\"1\": 23, \"7\": 7, \"3\": 20, \"6\": 9, \"2\": 25, \"9\": 20, \"4\": 15, \"5\": 25, \"15\": 10, \"14\": 2}, \"1\": {\"9\": 16, \"5\": 28, \"1\": 66, \"11\": 17, \"2\": 17, \"3\": 6, \"15\": 2, \"14\": 2, \"8\": 1, \"7\": 1}, \"11\": {\"11\": 46, \"1\": 16, \"14\": 22, \"8\": 21, \"0\": 50, \"5\": 1}, \"13\": {\"13\": 70, \"15\": 8, \"12\": 41, \"10\": 14, \"6\": 1, \"4\": 18, \"7\": 4}}, \"44\": {\"5\": {\"5\": 105, \"14\": 31, \"8\": 20}, \"8\": {\"8\": 95, \"15\": 19, \"5\": 10, \"0\": 32}, \"11\": {\"11\": 156}, \"1\": {\"1\": 154, \"12\": 1, \"2\": 1}, \"10\": {\"10\": 132, \"6\": 24}, \"15\": {\"15\": 139, \"8\": 10, \"5\": 4, \"0\": 3}, \"3\": {\"12\": 65, \"3\": 91}, \"7\": {\"7\": 78, \"9\": 64, \"6\": 5, \"10\": 9}, \"4\": {\"4\": 106, \"14\": 46, \"5\": 3, \"9\": 1}, \"14\": {\"4\": 41, \"14\": 104, \"5\": 11}, \"9\": {\"9\": 113, \"7\": 42, \"14\": 1}, \"12\": {\"3\": 92, \"12\": 63, \"1\": 1}, \"6\": {\"6\": 108, \"10\": 41, \"13\": 7}, \"2\": {\"2\": 135, \"1\": 20, \"15\": 1}, \"0\": {\"8\": 16, \"0\": 132, \"15\": 8}, \"13\": {\"13\": 146, \"6\": 10}}, \"38\": {\"14\": {\"14\": 156}, \"0\": {\"0\": 133, \"8\": 1, \"7\": 22}, \"13\": {\"4\": 38, \"10\": 31, \"3\": 4, \"13\": 83}, \"7\": {\"7\": 133, \"0\": 10, \"8\": 9, \"2\": 4}, \"9\": {\"9\": 152, \"5\": 3, \"8\": 1}, \"3\": {\"3\": 153, \"13\": 3}, \"11\": {\"11\": 156}, \"6\": {\"6\": 144, \"1\": 12}, \"8\": {\"8\": 122, \"2\": 5, \"7\": 26, \"9\": 2, \"0\": 1}, \"4\": {\"13\": 39, \"4\": 69, \"10\": 48}, \"5\": {\"5\": 91, \"12\": 57, \"9\": 8}, \"10\": {\"13\": 39, \"4\": 54, \"10\": 63}, \"1\": {\"6\": 16, \"1\": 130, \"15\": 10}, \"2\": {\"2\": 143, \"8\": 10, \"7\": 2, \"12\": 1}, \"15\": {\"15\": 154, \"1\": 1, \"6\": 1}, \"12\": {\"5\": 64, \"12\": 86, \"8\": 4, \"9\": 2}}, \"26\": {\"13\": {\"13\": 51, \"8\": 12, \"3\": 54, \"9\": 34, \"4\": 2, \"2\": 1, \"7\": 2}, \"2\": {\"2\": 70, \"7\": 26, \"8\": 16, \"9\": 24, \"3\": 2, \"12\": 8, \"15\": 4, \"10\": 2, \"13\": 4}, \"8\": {\"15\": 21, \"8\": 54, \"7\": 42, \"2\": 11, \"3\": 14, \"13\": 12, \"9\": 2}, \"9\": {\"9\": 47, \"8\": 6, \"13\": 40, \"2\": 20, \"3\": 22, \"12\": 8, \"7\": 8, \"15\": 4, \"10\": 1}, \"12\": {\"12\": 134, \"2\": 3, \"11\": 1, \"9\": 11, \"13\": 1, \"10\": 6}, \"4\": {\"4\": 153, \"13\": 3}, \"3\": {\"9\": 30, \"8\": 12, \"3\": 52, \"13\": 44, \"2\": 6, \"7\": 10, \"15\": 2}, \"15\": {\"15\": 75, \"0\": 7, \"8\": 25, \"7\": 29, \"10\": 13, \"3\": 1, \"2\": 5, \"9\": 1}, \"14\": {\"14\": 89, \"6\": 11, \"5\": 35, \"1\": 8, \"0\": 13}, \"10\": {\"10\": 76, \"6\": 20, \"0\": 34, \"15\": 20, \"2\": 3, \"7\": 3}, \"7\": {\"15\": 27, \"7\": 35, \"2\": 26, \"8\": 31, \"3\": 7, \"9\": 18, \"12\": 2, \"10\": 7, \"13\": 3}, \"11\": {\"11\": 156}, \"6\": {\"5\": 40, \"6\": 62, \"0\": 22, \"14\": 15, \"10\": 8, \"1\": 8, \"11\": 1}, \"1\": {\"5\": 51, \"1\": 92, \"14\": 10, \"6\": 2, \"11\": 1}, \"5\": {\"5\": 66, \"14\": 21, \"1\": 42, \"6\": 23, \"0\": 4}, \"0\": {\"0\": 81, \"14\": 21, \"10\": 29, \"6\": 21, \"15\": 3, \"5\": 1}}}, \"per_domain_accuracy\": {\"8\": {\"accuracy\": 0.953926282051282, \"source?\": true}, \"50\": {\"accuracy\": 0.983573717948718, \"source?\": true}, \"32\": {\"accuracy\": 0.9811698717948718, \"source?\": true}, \"14\": {\"accuracy\": 0.7359775641025641, \"source?\": false}, \"20\": {\"accuracy\": 0.3786057692307692, \"source?\": false}, \"44\": {\"accuracy\": 0.7439903846153846, \"source?\": false}, \"38\": {\"accuracy\": 0.7884615384615384, \"source?\": false}, \"26\": {\"accuracy\": 0.5180288461538461, \"source?\": false}}}, \"history\": {\"epoch_indices\": [1, 2, 3, 4, 5, 6], \"train_label_loss\": [0.5347576036998125, 0.20451178792275218, 0.04749616075184978, 0.03356058076425117, 0.03439686797929468, 0.02529625805214574], \"source_val_label_loss\": [2.381800889968872, 0.08300639688968658, 0.05803699791431427, 0.04033004865050316, 0.033481329679489136, 0.09336946904659271], \"target_val_label_loss\": [5.194934844970703, 1.576215386390686, 1.6523849964141846, 1.74429190158844, 2.072272777557373, 2.321347951889038], \"source_val_acc_label\": [0.8540331196581197, 0.9728899572649573, 0.9801014957264957, 0.9889155982905983, 0.9898504273504274, 0.9794337606837606], \"target_val_acc_label\": [0.5716346153846154, 0.6330128205128205, 0.6439102564102565, 0.6415865384615385, 0.6275641025641026, 0.625]}, \"dataset_metrics\": {\"source\": {\"train\": {\"n_unique_x\": 43632, \"n_unique_y\": 16, \"n_batch/episode\": 1629}, \"val\": {\"n_unique_x\": 9360, \"n_unique_y\": 16, \"n_batch/episode\": 234}, \"test\": {\"n_unique_x\": 9408, \"n_unique_y\": 16, \"n_batch/episode\": 234}}, \"target\": {\"train\": {\"n_unique_x\": 72719, \"n_unique_y\": 16, \"n_batch/episode\": 2715}, \"val\": {\"n_unique_x\": 15600, \"n_unique_y\": 16, \"n_batch/episode\": 390}, \"test\": {\"n_unique_x\": 15680, \"n_unique_y\": 16, \"n_batch/episode\": 390}}}}'"
      ]
     },
     "execution_count": 20,
     "metadata": {},
     "output_type": "execute_result"
    }
   ],
   "source": [
    "json.dumps(experiment)"
   ]
  }
 ],
 "metadata": {
  "celltoolbar": "Tags",
  "kernelspec": {
   "display_name": "Python 3 (ipykernel)",
   "language": "python",
   "name": "python3"
  },
  "language_info": {
   "codemirror_mode": {
    "name": "ipython",
    "version": 3
   },
   "file_extension": ".py",
   "mimetype": "text/x-python",
   "name": "python",
   "nbconvert_exporter": "python",
   "pygments_lexer": "ipython3",
   "version": "3.8.10"
  },
  "papermill": {
   "default_parameters": {},
   "duration": 317.005257,
   "end_time": "2022-03-06T01:31:09.248466",
   "environment_variables": {},
   "exception": null,
   "input_path": "/mnt/wd500GB/CSC500/csc500-main/csc500-notebooks/templates/ptn_template.ipynb",
   "output_path": "trial.ipynb",
   "parameters": {
    "parameters": {
     "BEST_MODEL_PATH": "./best_model.pth",
     "NUM_LOGS_PER_EPOCH": 10,
     "criteria_for_best": "target_loss",
     "dataset_seed": 1337,
     "device": "cuda",
     "domains_source": [
      8,
      32,
      50
     ],
     "domains_target": [
      14,
      20,
      26,
      38,
      44
     ],
     "episode_transforms_source": [],
     "episode_transforms_target": [],
     "experiment_name": "tuned_1_oracle.run2.framed",
     "labels_source": [
      "3123D52",
      "3123D65",
      "3123D79",
      "3123D80",
      "3123D54",
      "3123D70",
      "3123D7B",
      "3123D89",
      "3123D58",
      "3123D76",
      "3123D7D",
      "3123EFE",
      "3123D64",
      "3123D78",
      "3123D7E",
      "3124E4A"
     ],
     "labels_target": [
      "3123D52",
      "3123D65",
      "3123D79",
      "3123D80",
      "3123D54",
      "3123D70",
      "3123D7B",
      "3123D89",
      "3123D58",
      "3123D76",
      "3123D7D",
      "3123EFE",
      "3123D64",
      "3123D78",
      "3123D7E",
      "3124E4A"
     ],
     "lr": 0.001,
     "n_epoch": 50,
     "n_query": 2,
     "n_shot": 3,
     "n_way": 16,
     "num_examples_per_domain_per_label_source": 1300,
     "num_examples_per_domain_per_label_target": 1300,
     "patience": 3,
     "pickle_name": "oracle.Run2_framed_1300Examples_stratified_ds.2022A.pkl",
     "seed": 1337,
     "test_k_factor": 2,
     "torch_default_dtype": "torch.float32",
     "train_k_factor": 3,
     "val_k_factor": 2,
     "x_net": [
      {
       "class": "nnReshape",
       "kargs": {
        "shape": [
         -1,
         1,
         2,
         256
        ]
       }
      },
      {
       "class": "Conv2d",
       "kargs": {
        "bias": false,
        "in_channels": 1,
        "kernel_size": [
         1,
         7
        ],
        "out_channels": 256,
        "padding": [
         0,
         3
        ]
       }
      },
      {
       "class": "ReLU",
       "kargs": {
        "inplace": true
       }
      },
      {
       "class": "BatchNorm2d",
       "kargs": {
        "num_features": 256
       }
      },
      {
       "class": "Conv2d",
       "kargs": {
        "bias": true,
        "in_channels": 256,
        "kernel_size": [
         2,
         7
        ],
        "out_channels": 80,
        "padding": [
         0,
         3
        ]
       }
      },
      {
       "class": "ReLU",
       "kargs": {
        "inplace": true
       }
      },
      {
       "class": "BatchNorm2d",
       "kargs": {
        "num_features": 80
       }
      },
      {
       "class": "Flatten",
       "kargs": {}
      },
      {
       "class": "Linear",
       "kargs": {
        "in_features": 20480,
        "out_features": 256
       }
      },
      {
       "class": "ReLU",
       "kargs": {
        "inplace": true
       }
      },
      {
       "class": "BatchNorm1d",
       "kargs": {
        "num_features": 256
       }
      },
      {
       "class": "Linear",
       "kargs": {
        "in_features": 256,
        "out_features": 256
       }
      }
     ],
     "x_transforms_source": [],
     "x_transforms_target": []
    }
   },
   "start_time": "2022-03-06T01:25:52.243209",
   "version": "2.3.4"
  }
 },
 "nbformat": 4,
 "nbformat_minor": 5
}