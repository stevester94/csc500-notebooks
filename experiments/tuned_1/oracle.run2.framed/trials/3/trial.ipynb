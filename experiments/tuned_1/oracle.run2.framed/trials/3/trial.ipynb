{
 "cells": [
  {
   "cell_type": "markdown",
   "id": "9fea5f46",
   "metadata": {
    "papermill": {
     "duration": 0.016352,
     "end_time": "2022-03-06T06:13:17.616004",
     "exception": false,
     "start_time": "2022-03-06T06:13:17.599652",
     "status": "completed"
    },
    "tags": []
   },
   "source": [
    "# PTN Template\n",
    "This notebook serves as a template for single dataset PTN experiments  \n",
    "It can be run on its own by setting STANDALONE to True (do a find for \"STANDALONE\" to see where)  \n",
    "But it is intended to be executed as part of a *papermill.py script. See any of the   \n",
    "experimentes with a papermill script to get started with that workflow.  "
   ]
  },
  {
   "cell_type": "code",
   "execution_count": 1,
   "id": "0902182a",
   "metadata": {
    "execution": {
     "iopub.execute_input": "2022-03-06T06:13:17.648739Z",
     "iopub.status.busy": "2022-03-06T06:13:17.648457Z",
     "iopub.status.idle": "2022-03-06T06:13:18.506078Z",
     "shell.execute_reply": "2022-03-06T06:13:18.505781Z"
    },
    "papermill": {
     "duration": 0.879152,
     "end_time": "2022-03-06T06:13:18.506148",
     "exception": false,
     "start_time": "2022-03-06T06:13:17.626996",
     "status": "completed"
    },
    "tags": []
   },
   "outputs": [],
   "source": [
    "%load_ext autoreload\n",
    "%autoreload 2\n",
    "%matplotlib inline\n",
    "\n",
    "    \n",
    "import os, json, sys, time, random\n",
    "import numpy as np\n",
    "import torch\n",
    "from torch.optim import Adam\n",
    "from  easydict import EasyDict\n",
    "import matplotlib.pyplot as plt\n",
    "\n",
    "from steves_models.steves_ptn import Steves_Prototypical_Network\n",
    "\n",
    "from steves_utils.lazy_iterable_wrapper import Lazy_Iterable_Wrapper\n",
    "from steves_utils.iterable_aggregator import Iterable_Aggregator\n",
    "from steves_utils.ptn_train_eval_test_jig import  PTN_Train_Eval_Test_Jig\n",
    "from steves_utils.torch_sequential_builder import build_sequential\n",
    "from steves_utils.torch_utils import get_dataset_metrics, ptn_confusion_by_domain_over_dataloader\n",
    "from steves_utils.utils_v2 import (per_domain_accuracy_from_confusion, get_datasets_base_path)\n",
    "from steves_utils.PTN.utils import independent_accuracy_assesment\n",
    "\n",
    "from steves_utils.stratified_dataset.episodic_accessor import Episodic_Accessor_Factory\n",
    "\n",
    "from steves_utils.ptn_do_report import (\n",
    "    get_loss_curve,\n",
    "    get_results_table,\n",
    "    get_parameters_table,\n",
    "    get_domain_accuracies,\n",
    ")\n",
    "\n",
    "from steves_utils.transforms import get_chained_transform"
   ]
  },
  {
   "cell_type": "markdown",
   "id": "41c840b4",
   "metadata": {
    "papermill": {
     "duration": 0.009791,
     "end_time": "2022-03-06T06:13:18.527992",
     "exception": false,
     "start_time": "2022-03-06T06:13:18.518201",
     "status": "completed"
    },
    "tags": []
   },
   "source": [
    "# Required Parameters\n",
    "These are allowed parameters, not defaults\n",
    "Each of these values need to be present in the injected parameters (the notebook will raise an exception if they are not present)\n",
    "\n",
    "Papermill uses the cell tag \"parameters\" to inject the real parameters below this cell.\n",
    "Enable tags to see what I mean"
   ]
  },
  {
   "cell_type": "code",
   "execution_count": 2,
   "id": "fd44eb83",
   "metadata": {
    "execution": {
     "iopub.execute_input": "2022-03-06T06:13:18.550618Z",
     "iopub.status.busy": "2022-03-06T06:13:18.550347Z",
     "iopub.status.idle": "2022-03-06T06:13:18.564674Z",
     "shell.execute_reply": "2022-03-06T06:13:18.564358Z"
    },
    "papermill": {
     "duration": 0.027302,
     "end_time": "2022-03-06T06:13:18.564744",
     "exception": false,
     "start_time": "2022-03-06T06:13:18.537442",
     "status": "completed"
    },
    "tags": []
   },
   "outputs": [],
   "source": [
    "required_parameters = {\n",
    "    \"experiment_name\",\n",
    "    \"lr\",\n",
    "    \"device\",\n",
    "    \"seed\",\n",
    "    \"dataset_seed\",\n",
    "    \"labels_source\",\n",
    "    \"labels_target\",\n",
    "    \"domains_source\",\n",
    "    \"domains_target\",\n",
    "    \"num_examples_per_domain_per_label_source\",\n",
    "    \"num_examples_per_domain_per_label_target\",\n",
    "    \"n_shot\",\n",
    "    \"n_way\",\n",
    "    \"n_query\",\n",
    "    \"train_k_factor\",\n",
    "    \"val_k_factor\",\n",
    "    \"test_k_factor\",\n",
    "    \"n_epoch\",\n",
    "    \"patience\",\n",
    "    \"criteria_for_best\",\n",
    "    \"x_transforms_source\",\n",
    "    \"x_transforms_target\",\n",
    "    \"episode_transforms_source\",\n",
    "    \"episode_transforms_target\",\n",
    "    \"pickle_name\",\n",
    "    \"x_net\",\n",
    "    \"NUM_LOGS_PER_EPOCH\",\n",
    "    \"BEST_MODEL_PATH\",\n",
    "    \"torch_default_dtype\"\n",
    "}"
   ]
  },
  {
   "cell_type": "code",
   "execution_count": 3,
   "id": "fa3f0049",
   "metadata": {
    "execution": {
     "iopub.execute_input": "2022-03-06T06:13:18.603540Z",
     "iopub.status.busy": "2022-03-06T06:13:18.594348Z",
     "iopub.status.idle": "2022-03-06T06:13:18.614643Z",
     "shell.execute_reply": "2022-03-06T06:13:18.614350Z"
    },
    "papermill": {
     "duration": 0.036014,
     "end_time": "2022-03-06T06:13:18.614719",
     "exception": false,
     "start_time": "2022-03-06T06:13:18.578705",
     "status": "completed"
    },
    "tags": [
     "parameters"
    ]
   },
   "outputs": [],
   "source": [
    "\n",
    "\n",
    "standalone_parameters = {}\n",
    "standalone_parameters[\"experiment_name\"] = \"STANDALONE PTN\"\n",
    "standalone_parameters[\"lr\"] = 0.0001\n",
    "standalone_parameters[\"device\"] = \"cuda\"\n",
    "\n",
    "standalone_parameters[\"seed\"] = 1337\n",
    "standalone_parameters[\"dataset_seed\"] = 1337\n",
    "\n",
    "\n",
    "standalone_parameters[\"num_examples_per_domain_per_label_source\"]=100\n",
    "standalone_parameters[\"num_examples_per_domain_per_label_target\"]=100\n",
    "\n",
    "standalone_parameters[\"n_shot\"] = 3\n",
    "standalone_parameters[\"n_query\"]  = 2\n",
    "standalone_parameters[\"train_k_factor\"] = 1\n",
    "standalone_parameters[\"val_k_factor\"] = 2\n",
    "standalone_parameters[\"test_k_factor\"] = 2\n",
    "\n",
    "\n",
    "standalone_parameters[\"n_epoch\"] = 100\n",
    "\n",
    "standalone_parameters[\"patience\"] = 10\n",
    "standalone_parameters[\"criteria_for_best\"] = \"target_accuracy\"\n",
    "\n",
    "standalone_parameters[\"x_transforms_source\"] = [\"unit_power\"]\n",
    "standalone_parameters[\"x_transforms_target\"] = [\"unit_power\"]\n",
    "standalone_parameters[\"episode_transforms_source\"] = []\n",
    "standalone_parameters[\"episode_transforms_target\"] = []\n",
    "\n",
    "standalone_parameters[\"torch_default_dtype\"] = \"torch.float32\" \n",
    "\n",
    "\n",
    "\n",
    "standalone_parameters[\"x_net\"] =     [\n",
    "    {\"class\": \"nnReshape\", \"kargs\": {\"shape\":[-1, 1, 2, 256]}},\n",
    "    {\"class\": \"Conv2d\", \"kargs\": { \"in_channels\":1, \"out_channels\":256, \"kernel_size\":(1,7), \"bias\":False, \"padding\":(0,3), },},\n",
    "    {\"class\": \"ReLU\", \"kargs\": {\"inplace\": True}},\n",
    "    {\"class\": \"BatchNorm2d\", \"kargs\": {\"num_features\":256}},\n",
    "\n",
    "    {\"class\": \"Conv2d\", \"kargs\": { \"in_channels\":256, \"out_channels\":80, \"kernel_size\":(2,7), \"bias\":True, \"padding\":(0,3), },},\n",
    "    {\"class\": \"ReLU\", \"kargs\": {\"inplace\": True}},\n",
    "    {\"class\": \"BatchNorm2d\", \"kargs\": {\"num_features\":80}},\n",
    "    {\"class\": \"Flatten\", \"kargs\": {}},\n",
    "\n",
    "    {\"class\": \"Linear\", \"kargs\": {\"in_features\": 80*256, \"out_features\": 256}}, # 80 units per IQ pair\n",
    "    {\"class\": \"ReLU\", \"kargs\": {\"inplace\": True}},\n",
    "    {\"class\": \"BatchNorm1d\", \"kargs\": {\"num_features\":256}},\n",
    "\n",
    "    {\"class\": \"Linear\", \"kargs\": {\"in_features\": 256, \"out_features\": 256}},\n",
    "]\n",
    "\n",
    "# Parameters relevant to results\n",
    "# These parameters will basically never need to change\n",
    "standalone_parameters[\"NUM_LOGS_PER_EPOCH\"] = 10\n",
    "standalone_parameters[\"BEST_MODEL_PATH\"] = \"./best_model.pth\"\n",
    "\n",
    "# uncomment for CORES dataset\n",
    "from steves_utils.CORES.utils import (\n",
    "    ALL_NODES,\n",
    "    ALL_NODES_MINIMUM_1000_EXAMPLES,\n",
    "    ALL_DAYS\n",
    ")\n",
    "\n",
    "\n",
    "standalone_parameters[\"labels_source\"] = ALL_NODES\n",
    "standalone_parameters[\"labels_target\"] = ALL_NODES\n",
    "\n",
    "standalone_parameters[\"domains_source\"] = [1]\n",
    "standalone_parameters[\"domains_target\"] = [2,3,4,5]\n",
    "\n",
    "standalone_parameters[\"pickle_name\"] = \"cores.stratified_ds.2022A.pkl\"\n",
    "\n",
    "\n",
    "# Uncomment these for ORACLE dataset\n",
    "# from steves_utils.ORACLE.utils_v2 import (\n",
    "#     ALL_DISTANCES_FEET,\n",
    "#     ALL_RUNS,\n",
    "#     ALL_SERIAL_NUMBERS,\n",
    "# )\n",
    "# standalone_parameters[\"labels_source\"] = ALL_SERIAL_NUMBERS\n",
    "# standalone_parameters[\"labels_target\"] = ALL_SERIAL_NUMBERS\n",
    "# standalone_parameters[\"domains_source\"] = [8,20, 38,50]\n",
    "# standalone_parameters[\"domains_target\"] = [14, 26, 32, 44, 56]\n",
    "# standalone_parameters[\"pickle_name\"] = \"oracle.frame_indexed.stratified_ds.2022A.pkl\"\n",
    "# standalone_parameters[\"num_examples_per_domain_per_label_source\"]=1000\n",
    "# standalone_parameters[\"num_examples_per_domain_per_label_target\"]=1000\n",
    "\n",
    "# Uncomment these for Metahan dataset\n",
    "# standalone_parameters[\"labels_source\"] = list(range(19))\n",
    "# standalone_parameters[\"labels_target\"] = list(range(19))\n",
    "# standalone_parameters[\"domains_source\"] = [0]\n",
    "# standalone_parameters[\"domains_target\"] = [1]\n",
    "# standalone_parameters[\"pickle_name\"] = \"metehan.stratified_ds.2022A.pkl\"\n",
    "# standalone_parameters[\"n_way\"]  = len(standalone_parameters[\"labels_source\"])\n",
    "# standalone_parameters[\"num_examples_per_domain_per_label_source\"]=200\n",
    "# standalone_parameters[\"num_examples_per_domain_per_label_target\"]=100\n",
    "\n",
    "\n",
    "standalone_parameters[\"n_way\"]  = len(standalone_parameters[\"labels_source\"])"
   ]
  },
  {
   "cell_type": "code",
   "execution_count": 4,
   "id": "1891d93b",
   "metadata": {
    "execution": {
     "iopub.execute_input": "2022-03-06T06:13:18.647778Z",
     "iopub.status.busy": "2022-03-06T06:13:18.647425Z",
     "iopub.status.idle": "2022-03-06T06:13:18.661683Z",
     "shell.execute_reply": "2022-03-06T06:13:18.662087Z"
    },
    "papermill": {
     "duration": 0.033203,
     "end_time": "2022-03-06T06:13:18.662203",
     "exception": false,
     "start_time": "2022-03-06T06:13:18.629000",
     "status": "completed"
    },
    "tags": [
     "injected-parameters"
    ]
   },
   "outputs": [],
   "source": [
    "# Parameters\n",
    "parameters = {\n",
    "    \"experiment_name\": \"tuned_1_oracle.run2.framed\",\n",
    "    \"device\": \"cuda\",\n",
    "    \"lr\": 0.001,\n",
    "    \"seed\": 1337,\n",
    "    \"dataset_seed\": 1337,\n",
    "    \"labels_source\": [\n",
    "        \"3123D52\",\n",
    "        \"3123D65\",\n",
    "        \"3123D79\",\n",
    "        \"3123D80\",\n",
    "        \"3123D54\",\n",
    "        \"3123D70\",\n",
    "        \"3123D7B\",\n",
    "        \"3123D89\",\n",
    "        \"3123D58\",\n",
    "        \"3123D76\",\n",
    "        \"3123D7D\",\n",
    "        \"3123EFE\",\n",
    "        \"3123D64\",\n",
    "        \"3123D78\",\n",
    "        \"3123D7E\",\n",
    "        \"3124E4A\",\n",
    "    ],\n",
    "    \"labels_target\": [\n",
    "        \"3123D52\",\n",
    "        \"3123D65\",\n",
    "        \"3123D79\",\n",
    "        \"3123D80\",\n",
    "        \"3123D54\",\n",
    "        \"3123D70\",\n",
    "        \"3123D7B\",\n",
    "        \"3123D89\",\n",
    "        \"3123D58\",\n",
    "        \"3123D76\",\n",
    "        \"3123D7D\",\n",
    "        \"3123EFE\",\n",
    "        \"3123D64\",\n",
    "        \"3123D78\",\n",
    "        \"3123D7E\",\n",
    "        \"3124E4A\",\n",
    "    ],\n",
    "    \"x_transforms_source\": [\"unit_power\"],\n",
    "    \"x_transforms_target\": [\"unit_power\"],\n",
    "    \"episode_transforms_source\": [],\n",
    "    \"episode_transforms_target\": [],\n",
    "    \"domains_source\": [8, 32, 50],\n",
    "    \"domains_target\": [14, 20, 26, 38, 44],\n",
    "    \"num_examples_per_domain_per_label_source\": 2000,\n",
    "    \"num_examples_per_domain_per_label_target\": 2000,\n",
    "    \"n_shot\": 3,\n",
    "    \"n_way\": 16,\n",
    "    \"n_query\": 2,\n",
    "    \"train_k_factor\": 3,\n",
    "    \"val_k_factor\": 2,\n",
    "    \"test_k_factor\": 2,\n",
    "    \"torch_default_dtype\": \"torch.float32\",\n",
    "    \"n_epoch\": 50,\n",
    "    \"patience\": 3,\n",
    "    \"criteria_for_best\": \"target_loss\",\n",
    "    \"x_net\": [\n",
    "        {\"class\": \"nnReshape\", \"kargs\": {\"shape\": [-1, 1, 2, 256]}},\n",
    "        {\n",
    "            \"class\": \"Conv2d\",\n",
    "            \"kargs\": {\n",
    "                \"in_channels\": 1,\n",
    "                \"out_channels\": 256,\n",
    "                \"kernel_size\": [1, 7],\n",
    "                \"bias\": False,\n",
    "                \"padding\": [0, 3],\n",
    "            },\n",
    "        },\n",
    "        {\"class\": \"ReLU\", \"kargs\": {\"inplace\": True}},\n",
    "        {\"class\": \"BatchNorm2d\", \"kargs\": {\"num_features\": 256}},\n",
    "        {\n",
    "            \"class\": \"Conv2d\",\n",
    "            \"kargs\": {\n",
    "                \"in_channels\": 256,\n",
    "                \"out_channels\": 80,\n",
    "                \"kernel_size\": [2, 7],\n",
    "                \"bias\": True,\n",
    "                \"padding\": [0, 3],\n",
    "            },\n",
    "        },\n",
    "        {\"class\": \"ReLU\", \"kargs\": {\"inplace\": True}},\n",
    "        {\"class\": \"BatchNorm2d\", \"kargs\": {\"num_features\": 80}},\n",
    "        {\"class\": \"Flatten\", \"kargs\": {}},\n",
    "        {\"class\": \"Linear\", \"kargs\": {\"in_features\": 20480, \"out_features\": 256}},\n",
    "        {\"class\": \"ReLU\", \"kargs\": {\"inplace\": True}},\n",
    "        {\"class\": \"BatchNorm1d\", \"kargs\": {\"num_features\": 256}},\n",
    "        {\"class\": \"Linear\", \"kargs\": {\"in_features\": 256, \"out_features\": 256}},\n",
    "    ],\n",
    "    \"NUM_LOGS_PER_EPOCH\": 10,\n",
    "    \"BEST_MODEL_PATH\": \"./best_model.pth\",\n",
    "    \"pickle_name\": \"oracle.Run2_framed_2000Examples_stratified_ds.2022A.pkl\",\n",
    "}\n"
   ]
  },
  {
   "cell_type": "code",
   "execution_count": 5,
   "id": "8fa1cc33",
   "metadata": {
    "execution": {
     "iopub.execute_input": "2022-03-06T06:13:18.688580Z",
     "iopub.status.busy": "2022-03-06T06:13:18.688319Z",
     "iopub.status.idle": "2022-03-06T06:13:18.701479Z",
     "shell.execute_reply": "2022-03-06T06:13:18.702051Z"
    },
    "papermill": {
     "duration": 0.026906,
     "end_time": "2022-03-06T06:13:18.702214",
     "exception": false,
     "start_time": "2022-03-06T06:13:18.675308",
     "status": "completed"
    },
    "tags": []
   },
   "outputs": [],
   "source": [
    "# Set this to True if you want to run this template directly\n",
    "STANDALONE = False\n",
    "if STANDALONE:\n",
    "    print(\"parameters not injected, running with standalone_parameters\")\n",
    "    parameters = standalone_parameters\n",
    "\n",
    "if not 'parameters' in locals() and not 'parameters' in globals():\n",
    "    raise Exception(\"Parameter injection failed\")\n",
    "\n",
    "#Use an easy dict for all the parameters\n",
    "p = EasyDict(parameters)\n",
    "\n",
    "supplied_keys = set(p.keys())\n",
    "\n",
    "if  supplied_keys != required_parameters:\n",
    "    print(\"Parameters are incorrect\")\n",
    "    if len(supplied_keys - required_parameters)>0: print(\"Shouldn't have:\", str(supplied_keys - required_parameters))\n",
    "    if len(required_parameters - supplied_keys)>0: print(\"Need to have:\", str(required_parameters - supplied_keys))\n",
    "    raise RuntimeError(\"Parameters are incorrect\")\n",
    "\n"
   ]
  },
  {
   "cell_type": "code",
   "execution_count": 6,
   "id": "3a028d58",
   "metadata": {
    "execution": {
     "iopub.execute_input": "2022-03-06T06:13:18.737432Z",
     "iopub.status.busy": "2022-03-06T06:13:18.737055Z",
     "iopub.status.idle": "2022-03-06T06:13:18.749929Z",
     "shell.execute_reply": "2022-03-06T06:13:18.749624Z"
    },
    "papermill": {
     "duration": 0.029153,
     "end_time": "2022-03-06T06:13:18.749998",
     "exception": false,
     "start_time": "2022-03-06T06:13:18.720845",
     "status": "completed"
    },
    "tags": []
   },
   "outputs": [],
   "source": [
    "###################################\n",
    "# Set the RNGs and make it all deterministic\n",
    "###################################\n",
    "np.random.seed(p.seed)\n",
    "random.seed(p.seed)\n",
    "torch.manual_seed(p.seed)\n",
    "\n",
    "torch.use_deterministic_algorithms(True) "
   ]
  },
  {
   "cell_type": "code",
   "execution_count": 7,
   "id": "b691acf6",
   "metadata": {
    "execution": {
     "iopub.execute_input": "2022-03-06T06:13:18.781362Z",
     "iopub.status.busy": "2022-03-06T06:13:18.780848Z",
     "iopub.status.idle": "2022-03-06T06:13:18.793255Z",
     "shell.execute_reply": "2022-03-06T06:13:18.792921Z"
    },
    "papermill": {
     "duration": 0.028881,
     "end_time": "2022-03-06T06:13:18.793331",
     "exception": false,
     "start_time": "2022-03-06T06:13:18.764450",
     "status": "completed"
    },
    "tags": []
   },
   "outputs": [],
   "source": [
    "###########################################\n",
    "# The stratified datasets honor this\n",
    "###########################################\n",
    "torch.set_default_dtype(eval(p.torch_default_dtype))"
   ]
  },
  {
   "cell_type": "code",
   "execution_count": 8,
   "id": "b5fba671",
   "metadata": {
    "execution": {
     "iopub.execute_input": "2022-03-06T06:13:18.817250Z",
     "iopub.status.busy": "2022-03-06T06:13:18.816987Z",
     "iopub.status.idle": "2022-03-06T06:13:18.858048Z",
     "shell.execute_reply": "2022-03-06T06:13:18.857726Z"
    },
    "papermill": {
     "duration": 0.05298,
     "end_time": "2022-03-06T06:13:18.858122",
     "exception": false,
     "start_time": "2022-03-06T06:13:18.805142",
     "status": "completed"
    },
    "tags": []
   },
   "outputs": [],
   "source": [
    "###################################\n",
    "# Build the network(s)\n",
    "# Note: It's critical to do this AFTER setting the RNG\n",
    "# (This is due to the randomized initial weights)\n",
    "###################################\n",
    "x_net = build_sequential(p.x_net)"
   ]
  },
  {
   "cell_type": "code",
   "execution_count": 9,
   "id": "5d7e61cc",
   "metadata": {
    "execution": {
     "iopub.execute_input": "2022-03-06T06:13:18.890678Z",
     "iopub.status.busy": "2022-03-06T06:13:18.890420Z",
     "iopub.status.idle": "2022-03-06T06:13:18.904313Z",
     "shell.execute_reply": "2022-03-06T06:13:18.903980Z"
    },
    "papermill": {
     "duration": 0.030086,
     "end_time": "2022-03-06T06:13:18.904388",
     "exception": false,
     "start_time": "2022-03-06T06:13:18.874302",
     "status": "completed"
    },
    "tags": []
   },
   "outputs": [],
   "source": [
    "start_time_secs = time.time()"
   ]
  },
  {
   "cell_type": "code",
   "execution_count": 10,
   "id": "fd5442bc",
   "metadata": {
    "execution": {
     "iopub.execute_input": "2022-03-06T06:13:18.936549Z",
     "iopub.status.busy": "2022-03-06T06:13:18.936269Z",
     "iopub.status.idle": "2022-03-06T06:13:36.318322Z",
     "shell.execute_reply": "2022-03-06T06:13:36.318662Z"
    },
    "papermill": {
     "duration": 17.399612,
     "end_time": "2022-03-06T06:13:36.318792",
     "exception": false,
     "start_time": "2022-03-06T06:13:18.919180",
     "status": "completed"
    },
    "tags": []
   },
   "outputs": [],
   "source": [
    "###################################\n",
    "# Build the dataset\n",
    "###################################\n",
    "\n",
    "if p.x_transforms_source == []: x_transform_source = None\n",
    "else: x_transform_source = get_chained_transform(p.x_transforms_source) \n",
    "\n",
    "if p.x_transforms_target == []: x_transform_target = None\n",
    "else: x_transform_target = get_chained_transform(p.x_transforms_target)\n",
    "\n",
    "if p.episode_transforms_source == []: episode_transform_source = None\n",
    "else: raise Exception(\"episode_transform_source not implemented\")\n",
    "\n",
    "if p.episode_transforms_target == []: episode_transform_target = None\n",
    "else: raise Exception(\"episode_transform_target not implemented\")\n",
    "\n",
    "\n",
    "eaf_source = Episodic_Accessor_Factory(\n",
    "    labels=p.labels_source,\n",
    "    domains=p.domains_source,\n",
    "    num_examples_per_domain_per_label=p.num_examples_per_domain_per_label_source,\n",
    "    iterator_seed=p.seed,\n",
    "    dataset_seed=p.dataset_seed,\n",
    "    n_shot=p.n_shot,\n",
    "    n_way=p.n_way,\n",
    "    n_query=p.n_query,\n",
    "    train_val_test_k_factors=(p.train_k_factor,p.val_k_factor,p.test_k_factor),\n",
    "    pickle_path=os.path.join(get_datasets_base_path(), p.pickle_name),\n",
    "    x_transform_func=x_transform_source,\n",
    "    example_transform_func=episode_transform_source,\n",
    "    \n",
    ")\n",
    "train_original_source, val_original_source, test_original_source = eaf_source.get_train(), eaf_source.get_val(), eaf_source.get_test()\n",
    "\n",
    "\n",
    "eaf_target = Episodic_Accessor_Factory(\n",
    "    labels=p.labels_target,\n",
    "    domains=p.domains_target,\n",
    "    num_examples_per_domain_per_label=p.num_examples_per_domain_per_label_target,\n",
    "    iterator_seed=p.seed,\n",
    "    dataset_seed=p.dataset_seed,\n",
    "    n_shot=p.n_shot,\n",
    "    n_way=p.n_way,\n",
    "    n_query=p.n_query,\n",
    "    train_val_test_k_factors=(p.train_k_factor,p.val_k_factor,p.test_k_factor),\n",
    "    pickle_path=os.path.join(get_datasets_base_path(), p.pickle_name),\n",
    "    x_transform_func=x_transform_target,\n",
    "    example_transform_func=episode_transform_target,\n",
    ")\n",
    "train_original_target, val_original_target, test_original_target = eaf_target.get_train(), eaf_target.get_val(), eaf_target.get_test()\n",
    "\n",
    "\n",
    "transform_lambda = lambda ex: ex[1] # Original is (<domain>, <episode>) so we strip down to episode only\n",
    "\n",
    "train_processed_source = Lazy_Iterable_Wrapper(train_original_source, transform_lambda)\n",
    "val_processed_source   = Lazy_Iterable_Wrapper(val_original_source, transform_lambda)\n",
    "test_processed_source  = Lazy_Iterable_Wrapper(test_original_source, transform_lambda)\n",
    "\n",
    "train_processed_target = Lazy_Iterable_Wrapper(train_original_target, transform_lambda)\n",
    "val_processed_target   = Lazy_Iterable_Wrapper(val_original_target, transform_lambda)\n",
    "test_processed_target  = Lazy_Iterable_Wrapper(test_original_target, transform_lambda)\n",
    "\n",
    "datasets = EasyDict({\n",
    "    \"source\": {\n",
    "        \"original\": {\"train\":train_original_source, \"val\":val_original_source, \"test\":test_original_source},\n",
    "        \"processed\": {\"train\":train_processed_source, \"val\":val_processed_source, \"test\":test_processed_source}\n",
    "    },\n",
    "    \"target\": {\n",
    "        \"original\": {\"train\":train_original_target, \"val\":val_original_target, \"test\":test_original_target},\n",
    "        \"processed\": {\"train\":train_processed_target, \"val\":val_processed_target, \"test\":test_processed_target}\n",
    "    },\n",
    "})"
   ]
  },
  {
   "cell_type": "code",
   "execution_count": 11,
   "id": "296189d9",
   "metadata": {
    "execution": {
     "iopub.execute_input": "2022-03-06T06:13:36.385130Z",
     "iopub.status.busy": "2022-03-06T06:13:36.384764Z",
     "iopub.status.idle": "2022-03-06T06:13:40.464599Z",
     "shell.execute_reply": "2022-03-06T06:13:40.465054Z"
    },
    "papermill": {
     "duration": 4.130245,
     "end_time": "2022-03-06T06:13:40.465199",
     "exception": false,
     "start_time": "2022-03-06T06:13:36.334954",
     "status": "completed"
    },
    "tags": []
   },
   "outputs": [
    {
     "name": "stdout",
     "output_type": "stream",
     "text": [
      "Visually inspect these to see if they line up with expected values given the transforms\n",
      "x_transforms_source ['unit_power']\n",
      "x_transforms_target ['unit_power']\n",
      "Average magnitude, source: 0.9582428\n",
      "Average power, source: 1.0\n"
     ]
    },
    {
     "name": "stdout",
     "output_type": "stream",
     "text": [
      "Average magnitude, target: 0.9552139\n",
      "Average power, target: 1.0\n"
     ]
    }
   ],
   "source": [
    "# Some quick unit tests on the data\n",
    "from steves_utils.transforms import get_average_power, get_average_magnitude\n",
    "\n",
    "q_x, q_y, s_x, s_y, truth = next(iter(train_processed_source))\n",
    "\n",
    "assert q_x.dtype == eval(p.torch_default_dtype)\n",
    "assert s_x.dtype == eval(p.torch_default_dtype)\n",
    "\n",
    "print(\"Visually inspect these to see if they line up with expected values given the transforms\")\n",
    "print('x_transforms_source', p.x_transforms_source)\n",
    "print('x_transforms_target', p.x_transforms_target)\n",
    "print(\"Average magnitude, source:\", get_average_magnitude(q_x[0].numpy()))\n",
    "print(\"Average power, source:\", get_average_power(q_x[0].numpy()))\n",
    "\n",
    "q_x, q_y, s_x, s_y, truth = next(iter(train_processed_target))\n",
    "print(\"Average magnitude, target:\", get_average_magnitude(q_x[0].numpy()))\n",
    "print(\"Average power, target:\", get_average_power(q_x[0].numpy()))\n"
   ]
  },
  {
   "cell_type": "code",
   "execution_count": 12,
   "id": "bbdacba1",
   "metadata": {
    "execution": {
     "iopub.execute_input": "2022-03-06T06:13:40.496893Z",
     "iopub.status.busy": "2022-03-06T06:13:40.496616Z",
     "iopub.status.idle": "2022-03-06T06:13:40.561917Z",
     "shell.execute_reply": "2022-03-06T06:13:40.561596Z"
    },
    "papermill": {
     "duration": 0.08094,
     "end_time": "2022-03-06T06:13:40.561996",
     "exception": false,
     "start_time": "2022-03-06T06:13:40.481056",
     "status": "completed"
    },
    "tags": []
   },
   "outputs": [
    {
     "name": "stdout",
     "output_type": "stream",
     "text": [
      "(2, 256)\n"
     ]
    }
   ],
   "source": [
    "###################################\n",
    "# Build the model\n",
    "###################################\n",
    "model = Steves_Prototypical_Network(x_net, device=p.device, x_shape=(2,256))\n",
    "optimizer = Adam(params=model.parameters(), lr=p.lr)"
   ]
  },
  {
   "cell_type": "code",
   "execution_count": 13,
   "id": "22b39ac5",
   "metadata": {
    "execution": {
     "iopub.execute_input": "2022-03-06T06:13:40.596733Z",
     "iopub.status.busy": "2022-03-06T06:13:40.596366Z",
     "iopub.status.idle": "2022-03-06T07:04:30.683009Z",
     "shell.execute_reply": "2022-03-06T07:04:30.682768Z"
    },
    "papermill": {
     "duration": 3050.104988,
     "end_time": "2022-03-06T07:04:30.683071",
     "exception": false,
     "start_time": "2022-03-06T06:13:40.578083",
     "status": "completed"
    },
    "tags": []
   },
   "outputs": [
    {
     "name": "stdout",
     "output_type": "stream",
     "text": [
      "epoch: 1, [batch: 1 / 2520], examples_per_second: 95.4354, train_label_loss: 2.9491, \n"
     ]
    },
    {
     "name": "stdout",
     "output_type": "stream",
     "text": [
      "epoch: 1, [batch: 252 / 2520], examples_per_second: 519.5661, train_label_loss: 1.8655, \n"
     ]
    },
    {
     "name": "stdout",
     "output_type": "stream",
     "text": [
      "epoch: 1, [batch: 504 / 2520], examples_per_second: 533.6072, train_label_loss: 1.3979, \n"
     ]
    },
    {
     "name": "stdout",
     "output_type": "stream",
     "text": [
      "epoch: 1, [batch: 756 / 2520], examples_per_second: 473.2675, train_label_loss: 0.5998, \n"
     ]
    },
    {
     "name": "stdout",
     "output_type": "stream",
     "text": [
      "epoch: 1, [batch: 1008 / 2520], examples_per_second: 496.1518, train_label_loss: 0.7172, \n"
     ]
    },
    {
     "name": "stdout",
     "output_type": "stream",
     "text": [
      "epoch: 1, [batch: 1260 / 2520], examples_per_second: 447.8527, train_label_loss: 0.7590, \n"
     ]
    },
    {
     "name": "stdout",
     "output_type": "stream",
     "text": [
      "epoch: 1, [batch: 1512 / 2520], examples_per_second: 467.5120, train_label_loss: 0.5318, \n"
     ]
    },
    {
     "name": "stdout",
     "output_type": "stream",
     "text": [
      "epoch: 1, [batch: 1764 / 2520], examples_per_second: 532.1296, train_label_loss: 0.6323, \n"
     ]
    },
    {
     "name": "stdout",
     "output_type": "stream",
     "text": [
      "epoch: 1, [batch: 2016 / 2520], examples_per_second: 506.3001, train_label_loss: 0.5624, \n"
     ]
    },
    {
     "name": "stdout",
     "output_type": "stream",
     "text": [
      "epoch: 1, [batch: 2268 / 2520], examples_per_second: 493.2548, train_label_loss: 0.7471, \n"
     ]
    },
    {
     "name": "stdout",
     "output_type": "stream",
     "text": [
      "=============================================================\n",
      "epoch: 1, source_val_acc_label: 0.7088, target_val_acc_label: 0.5408, source_val_label_loss: 42.8467, target_val_label_loss: 214.0450, \n",
      "=============================================================\n"
     ]
    },
    {
     "name": "stdout",
     "output_type": "stream",
     "text": [
      "New best\n"
     ]
    },
    {
     "name": "stdout",
     "output_type": "stream",
     "text": [
      "epoch: 2, [batch: 1 / 2520], examples_per_second: 1.5781, train_label_loss: 3.6115, \n"
     ]
    },
    {
     "name": "stdout",
     "output_type": "stream",
     "text": [
      "epoch: 2, [batch: 252 / 2520], examples_per_second: 496.1753, train_label_loss: 0.8097, \n"
     ]
    },
    {
     "name": "stdout",
     "output_type": "stream",
     "text": [
      "epoch: 2, [batch: 504 / 2520], examples_per_second: 534.7755, train_label_loss: 0.7367, \n"
     ]
    },
    {
     "name": "stdout",
     "output_type": "stream",
     "text": [
      "epoch: 2, [batch: 756 / 2520], examples_per_second: 507.2425, train_label_loss: 0.7925, \n"
     ]
    },
    {
     "name": "stdout",
     "output_type": "stream",
     "text": [
      "epoch: 2, [batch: 1008 / 2520], examples_per_second: 537.8682, train_label_loss: 0.7739, \n"
     ]
    },
    {
     "name": "stdout",
     "output_type": "stream",
     "text": [
      "epoch: 2, [batch: 1260 / 2520], examples_per_second: 559.4657, train_label_loss: 0.5571, \n"
     ]
    },
    {
     "name": "stdout",
     "output_type": "stream",
     "text": [
      "epoch: 2, [batch: 1512 / 2520], examples_per_second: 538.5719, train_label_loss: 0.9159, \n"
     ]
    },
    {
     "name": "stdout",
     "output_type": "stream",
     "text": [
      "epoch: 2, [batch: 1764 / 2520], examples_per_second: 619.4213, train_label_loss: 0.7514, \n"
     ]
    },
    {
     "name": "stdout",
     "output_type": "stream",
     "text": [
      "epoch: 2, [batch: 2016 / 2520], examples_per_second: 628.3969, train_label_loss: 0.6442, \n"
     ]
    },
    {
     "name": "stdout",
     "output_type": "stream",
     "text": [
      "epoch: 2, [batch: 2268 / 2520], examples_per_second: 824.1588, train_label_loss: 0.8037, \n"
     ]
    },
    {
     "name": "stdout",
     "output_type": "stream",
     "text": [
      "=============================================================\n",
      "epoch: 2, source_val_acc_label: 0.7230, target_val_acc_label: 0.6161, source_val_label_loss: 0.7280, target_val_label_loss: 129.7305, \n",
      "=============================================================\n"
     ]
    },
    {
     "name": "stdout",
     "output_type": "stream",
     "text": [
      "New best\n"
     ]
    },
    {
     "name": "stdout",
     "output_type": "stream",
     "text": [
      "epoch: 3, [batch: 1 / 2520], examples_per_second: 1.7304, train_label_loss: 0.7816, \n"
     ]
    },
    {
     "name": "stdout",
     "output_type": "stream",
     "text": [
      "epoch: 3, [batch: 252 / 2520], examples_per_second: 464.5320, train_label_loss: 0.6349, \n"
     ]
    },
    {
     "name": "stdout",
     "output_type": "stream",
     "text": [
      "epoch: 3, [batch: 504 / 2520], examples_per_second: 462.2550, train_label_loss: 0.3856, \n"
     ]
    },
    {
     "name": "stdout",
     "output_type": "stream",
     "text": [
      "epoch: 3, [batch: 756 / 2520], examples_per_second: 510.6132, train_label_loss: 0.8031, \n"
     ]
    },
    {
     "name": "stdout",
     "output_type": "stream",
     "text": [
      "epoch: 3, [batch: 1008 / 2520], examples_per_second: 556.1931, train_label_loss: 0.8397, \n"
     ]
    },
    {
     "name": "stdout",
     "output_type": "stream",
     "text": [
      "epoch: 3, [batch: 1260 / 2520], examples_per_second: 484.4717, train_label_loss: 0.7408, \n"
     ]
    },
    {
     "name": "stdout",
     "output_type": "stream",
     "text": [
      "epoch: 3, [batch: 1512 / 2520], examples_per_second: 500.9912, train_label_loss: 0.7738, \n"
     ]
    },
    {
     "name": "stdout",
     "output_type": "stream",
     "text": [
      "epoch: 3, [batch: 1764 / 2520], examples_per_second: 490.8643, train_label_loss: 0.7385, \n"
     ]
    },
    {
     "name": "stdout",
     "output_type": "stream",
     "text": [
      "epoch: 3, [batch: 2016 / 2520], examples_per_second: 488.8102, train_label_loss: 0.8626, \n"
     ]
    },
    {
     "name": "stdout",
     "output_type": "stream",
     "text": [
      "epoch: 3, [batch: 2268 / 2520], examples_per_second: 548.1042, train_label_loss: 0.6277, \n"
     ]
    },
    {
     "name": "stdout",
     "output_type": "stream",
     "text": [
      "=============================================================\n",
      "epoch: 3, source_val_acc_label: 0.7641, target_val_acc_label: 0.6485, source_val_label_loss: 0.6641, target_val_label_loss: 1.6054, \n",
      "=============================================================\n"
     ]
    },
    {
     "name": "stdout",
     "output_type": "stream",
     "text": [
      "New best\n"
     ]
    },
    {
     "name": "stdout",
     "output_type": "stream",
     "text": [
      "epoch: 4, [batch: 1 / 2520], examples_per_second: 1.6414, train_label_loss: 0.5331, \n"
     ]
    },
    {
     "name": "stdout",
     "output_type": "stream",
     "text": [
      "epoch: 4, [batch: 252 / 2520], examples_per_second: 484.8359, train_label_loss: 0.7882, \n"
     ]
    },
    {
     "name": "stdout",
     "output_type": "stream",
     "text": [
      "epoch: 4, [batch: 504 / 2520], examples_per_second: 508.4500, train_label_loss: 0.5237, \n"
     ]
    },
    {
     "name": "stdout",
     "output_type": "stream",
     "text": [
      "epoch: 4, [batch: 756 / 2520], examples_per_second: 508.6320, train_label_loss: 0.8546, \n"
     ]
    },
    {
     "name": "stdout",
     "output_type": "stream",
     "text": [
      "epoch: 4, [batch: 1008 / 2520], examples_per_second: 546.6353, train_label_loss: 0.5203, \n"
     ]
    },
    {
     "name": "stdout",
     "output_type": "stream",
     "text": [
      "epoch: 4, [batch: 1260 / 2520], examples_per_second: 513.1242, train_label_loss: 0.7259, \n"
     ]
    },
    {
     "name": "stdout",
     "output_type": "stream",
     "text": [
      "epoch: 4, [batch: 1512 / 2520], examples_per_second: 485.4670, train_label_loss: 0.6596, \n"
     ]
    },
    {
     "name": "stdout",
     "output_type": "stream",
     "text": [
      "epoch: 4, [batch: 1764 / 2520], examples_per_second: 508.2838, train_label_loss: 0.4603, \n"
     ]
    },
    {
     "name": "stdout",
     "output_type": "stream",
     "text": [
      "epoch: 4, [batch: 2016 / 2520], examples_per_second: 485.9855, train_label_loss: 0.5098, \n"
     ]
    },
    {
     "name": "stdout",
     "output_type": "stream",
     "text": [
      "epoch: 4, [batch: 2268 / 2520], examples_per_second: 527.6620, train_label_loss: 0.5656, \n"
     ]
    },
    {
     "name": "stdout",
     "output_type": "stream",
     "text": [
      "=============================================================\n",
      "epoch: 4, source_val_acc_label: 0.7766, target_val_acc_label: 0.6589, source_val_label_loss: 0.6270, target_val_label_loss: 1.6576, \n",
      "=============================================================\n"
     ]
    },
    {
     "name": "stdout",
     "output_type": "stream",
     "text": [
      "epoch: 5, [batch: 1 / 2520], examples_per_second: 1.6826, train_label_loss: 0.4141, \n"
     ]
    },
    {
     "name": "stdout",
     "output_type": "stream",
     "text": [
      "epoch: 5, [batch: 252 / 2520], examples_per_second: 494.8959, train_label_loss: 0.6669, \n"
     ]
    },
    {
     "name": "stdout",
     "output_type": "stream",
     "text": [
      "epoch: 5, [batch: 504 / 2520], examples_per_second: 520.8155, train_label_loss: 0.6254, \n"
     ]
    },
    {
     "name": "stdout",
     "output_type": "stream",
     "text": [
      "epoch: 5, [batch: 756 / 2520], examples_per_second: 546.9070, train_label_loss: 0.5560, \n"
     ]
    },
    {
     "name": "stdout",
     "output_type": "stream",
     "text": [
      "epoch: 5, [batch: 1008 / 2520], examples_per_second: 553.7602, train_label_loss: 0.6437, \n"
     ]
    },
    {
     "name": "stdout",
     "output_type": "stream",
     "text": [
      "epoch: 5, [batch: 1260 / 2520], examples_per_second: 537.6797, train_label_loss: 0.5946, \n"
     ]
    },
    {
     "name": "stdout",
     "output_type": "stream",
     "text": [
      "epoch: 5, [batch: 1512 / 2520], examples_per_second: 485.6399, train_label_loss: 0.6333, \n"
     ]
    },
    {
     "name": "stdout",
     "output_type": "stream",
     "text": [
      "epoch: 5, [batch: 1764 / 2520], examples_per_second: 491.7188, train_label_loss: 0.4381, \n"
     ]
    },
    {
     "name": "stdout",
     "output_type": "stream",
     "text": [
      "epoch: 5, [batch: 2016 / 2520], examples_per_second: 494.2640, train_label_loss: 0.4991, \n"
     ]
    },
    {
     "name": "stdout",
     "output_type": "stream",
     "text": [
      "epoch: 5, [batch: 2268 / 2520], examples_per_second: 498.5477, train_label_loss: 0.3798, \n"
     ]
    },
    {
     "name": "stdout",
     "output_type": "stream",
     "text": [
      "=============================================================\n",
      "epoch: 5, source_val_acc_label: 0.7819, target_val_acc_label: 0.6859, source_val_label_loss: 0.5942, target_val_label_loss: 1.6452, \n",
      "=============================================================\n"
     ]
    },
    {
     "name": "stdout",
     "output_type": "stream",
     "text": [
      "epoch: 6, [batch: 1 / 2520], examples_per_second: 1.7753, train_label_loss: 0.6037, \n"
     ]
    },
    {
     "name": "stdout",
     "output_type": "stream",
     "text": [
      "epoch: 6, [batch: 252 / 2520], examples_per_second: 510.5564, train_label_loss: 0.7784, \n"
     ]
    },
    {
     "name": "stdout",
     "output_type": "stream",
     "text": [
      "epoch: 6, [batch: 504 / 2520], examples_per_second: 539.3862, train_label_loss: 0.5100, \n"
     ]
    },
    {
     "name": "stdout",
     "output_type": "stream",
     "text": [
      "epoch: 6, [batch: 756 / 2520], examples_per_second: 543.0825, train_label_loss: 0.5406, \n"
     ]
    },
    {
     "name": "stdout",
     "output_type": "stream",
     "text": [
      "epoch: 6, [batch: 1008 / 2520], examples_per_second: 613.5003, train_label_loss: 0.5801, \n"
     ]
    },
    {
     "name": "stdout",
     "output_type": "stream",
     "text": [
      "epoch: 6, [batch: 1260 / 2520], examples_per_second: 605.4808, train_label_loss: 0.4405, \n"
     ]
    },
    {
     "name": "stdout",
     "output_type": "stream",
     "text": [
      "epoch: 6, [batch: 1512 / 2520], examples_per_second: 541.6492, train_label_loss: 0.5730, \n"
     ]
    },
    {
     "name": "stdout",
     "output_type": "stream",
     "text": [
      "epoch: 6, [batch: 1764 / 2520], examples_per_second: 539.1925, train_label_loss: 0.5288, \n"
     ]
    },
    {
     "name": "stdout",
     "output_type": "stream",
     "text": [
      "epoch: 6, [batch: 2016 / 2520], examples_per_second: 543.2258, train_label_loss: 0.5643, \n"
     ]
    },
    {
     "name": "stdout",
     "output_type": "stream",
     "text": [
      "epoch: 6, [batch: 2268 / 2520], examples_per_second: 546.4761, train_label_loss: 0.4993, \n"
     ]
    },
    {
     "name": "stdout",
     "output_type": "stream",
     "text": [
      "=============================================================\n",
      "epoch: 6, source_val_acc_label: 0.8264, target_val_acc_label: 0.7215, source_val_label_loss: 0.5002, target_val_label_loss: 2.2196, \n",
      "=============================================================\n"
     ]
    },
    {
     "name": "stdout",
     "output_type": "stream",
     "text": [
      "epoch: 7, [batch: 1 / 2520], examples_per_second: 1.9082, train_label_loss: 0.7066, \n"
     ]
    },
    {
     "name": "stdout",
     "output_type": "stream",
     "text": [
      "epoch: 7, [batch: 252 / 2520], examples_per_second: 541.2955, train_label_loss: 0.5581, \n"
     ]
    },
    {
     "name": "stdout",
     "output_type": "stream",
     "text": [
      "epoch: 7, [batch: 504 / 2520], examples_per_second: 543.7070, train_label_loss: 0.5574, \n"
     ]
    },
    {
     "name": "stdout",
     "output_type": "stream",
     "text": [
      "epoch: 7, [batch: 756 / 2520], examples_per_second: 543.4432, train_label_loss: 0.3091, \n"
     ]
    },
    {
     "name": "stdout",
     "output_type": "stream",
     "text": [
      "epoch: 7, [batch: 1008 / 2520], examples_per_second: 600.2247, train_label_loss: 0.6451, \n"
     ]
    },
    {
     "name": "stdout",
     "output_type": "stream",
     "text": [
      "epoch: 7, [batch: 1260 / 2520], examples_per_second: 624.2644, train_label_loss: 0.4981, \n"
     ]
    },
    {
     "name": "stdout",
     "output_type": "stream",
     "text": [
      "epoch: 7, [batch: 1512 / 2520], examples_per_second: 543.4662, train_label_loss: 0.3118, \n"
     ]
    },
    {
     "name": "stdout",
     "output_type": "stream",
     "text": [
      "epoch: 7, [batch: 1764 / 2520], examples_per_second: 546.3954, train_label_loss: 0.4278, \n"
     ]
    },
    {
     "name": "stdout",
     "output_type": "stream",
     "text": [
      "epoch: 7, [batch: 2016 / 2520], examples_per_second: 577.8489, train_label_loss: 0.3896, \n"
     ]
    },
    {
     "name": "stdout",
     "output_type": "stream",
     "text": [
      "epoch: 7, [batch: 2268 / 2520], examples_per_second: 579.7211, train_label_loss: 0.4032, \n"
     ]
    },
    {
     "name": "stdout",
     "output_type": "stream",
     "text": [
      "=============================================================\n",
      "epoch: 7, source_val_acc_label: 0.8281, target_val_acc_label: 0.7236, source_val_label_loss: 0.4709, target_val_label_loss: 2.5036, \n",
      "=============================================================\n"
     ]
    },
    {
     "name": "stdout",
     "output_type": "stream",
     "text": [
      "Patience (3) exhausted\n"
     ]
    }
   ],
   "source": [
    "###################################\n",
    "# train\n",
    "###################################\n",
    "jig = PTN_Train_Eval_Test_Jig(model, p.BEST_MODEL_PATH, p.device)\n",
    "\n",
    "jig.train(\n",
    "    train_iterable=datasets.source.processed.train,\n",
    "    source_val_iterable=datasets.source.processed.val,\n",
    "    target_val_iterable=datasets.target.processed.val,\n",
    "    num_epochs=p.n_epoch,\n",
    "    num_logs_per_epoch=p.NUM_LOGS_PER_EPOCH,\n",
    "    patience=p.patience,\n",
    "    optimizer=optimizer,\n",
    "    criteria_for_best=p.criteria_for_best,\n",
    ")"
   ]
  },
  {
   "cell_type": "code",
   "execution_count": 14,
   "id": "31e8fabf",
   "metadata": {
    "execution": {
     "iopub.execute_input": "2022-03-06T07:04:30.759011Z",
     "iopub.status.busy": "2022-03-06T07:04:30.758579Z",
     "iopub.status.idle": "2022-03-06T07:04:30.774634Z",
     "shell.execute_reply": "2022-03-06T07:04:30.774859Z"
    },
    "papermill": {
     "duration": 0.056394,
     "end_time": "2022-03-06T07:04:30.774929",
     "exception": false,
     "start_time": "2022-03-06T07:04:30.718535",
     "status": "completed"
    },
    "tags": []
   },
   "outputs": [],
   "source": [
    "total_experiment_time_secs = time.time() - start_time_secs"
   ]
  },
  {
   "cell_type": "code",
   "execution_count": 15,
   "id": "87b9595b",
   "metadata": {
    "execution": {
     "iopub.execute_input": "2022-03-06T07:04:30.836167Z",
     "iopub.status.busy": "2022-03-06T07:04:30.835768Z",
     "iopub.status.idle": "2022-03-06T07:08:08.086099Z",
     "shell.execute_reply": "2022-03-06T07:08:08.086519Z"
    },
    "papermill": {
     "duration": 217.286584,
     "end_time": "2022-03-06T07:08:08.086665",
     "exception": false,
     "start_time": "2022-03-06T07:04:30.800081",
     "status": "completed"
    },
    "tags": []
   },
   "outputs": [],
   "source": [
    "###################################\n",
    "# Evaluate the model\n",
    "###################################\n",
    "source_test_label_accuracy, source_test_label_loss = jig.test(datasets.source.processed.test)\n",
    "target_test_label_accuracy, target_test_label_loss = jig.test(datasets.target.processed.test)\n",
    "\n",
    "source_val_label_accuracy, source_val_label_loss = jig.test(datasets.source.processed.val)\n",
    "target_val_label_accuracy, target_val_label_loss = jig.test(datasets.target.processed.val)\n",
    "\n",
    "history = jig.get_history()\n",
    "\n",
    "total_epochs_trained = len(history[\"epoch_indices\"])\n",
    "\n",
    "val_dl = Iterable_Aggregator((datasets.source.original.val,datasets.target.original.val))\n",
    "\n",
    "confusion = ptn_confusion_by_domain_over_dataloader(model, p.device, val_dl)\n",
    "per_domain_accuracy = per_domain_accuracy_from_confusion(confusion)\n",
    "\n",
    "# Add a key to per_domain_accuracy for if it was a source domain\n",
    "for domain, accuracy in per_domain_accuracy.items():\n",
    "    per_domain_accuracy[domain] = {\n",
    "        \"accuracy\": accuracy,\n",
    "        \"source?\": domain in p.domains_source\n",
    "    }\n",
    "\n",
    "# Do an independent accuracy assesment JUST TO BE SURE!\n",
    "# _source_test_label_accuracy = independent_accuracy_assesment(model, datasets.source.processed.test, p.device)\n",
    "# _target_test_label_accuracy = independent_accuracy_assesment(model, datasets.target.processed.test, p.device)\n",
    "# _source_val_label_accuracy = independent_accuracy_assesment(model, datasets.source.processed.val, p.device)\n",
    "# _target_val_label_accuracy = independent_accuracy_assesment(model, datasets.target.processed.val, p.device)\n",
    "\n",
    "# assert(_source_test_label_accuracy == source_test_label_accuracy)\n",
    "# assert(_target_test_label_accuracy == target_test_label_accuracy)\n",
    "# assert(_source_val_label_accuracy == source_val_label_accuracy)\n",
    "# assert(_target_val_label_accuracy == target_val_label_accuracy)\n",
    "\n",
    "experiment = {\n",
    "    \"experiment_name\": p.experiment_name,\n",
    "    \"parameters\": dict(p),\n",
    "    \"results\": {\n",
    "        \"source_test_label_accuracy\": source_test_label_accuracy,\n",
    "        \"source_test_label_loss\": source_test_label_loss,\n",
    "        \"target_test_label_accuracy\": target_test_label_accuracy,\n",
    "        \"target_test_label_loss\": target_test_label_loss,\n",
    "        \"source_val_label_accuracy\": source_val_label_accuracy,\n",
    "        \"source_val_label_loss\": source_val_label_loss,\n",
    "        \"target_val_label_accuracy\": target_val_label_accuracy,\n",
    "        \"target_val_label_loss\": target_val_label_loss,\n",
    "        \"total_epochs_trained\": total_epochs_trained,\n",
    "        \"total_experiment_time_secs\": total_experiment_time_secs,\n",
    "        \"confusion\": confusion,\n",
    "        \"per_domain_accuracy\": per_domain_accuracy,\n",
    "    },\n",
    "    \"history\": history,\n",
    "    \"dataset_metrics\": get_dataset_metrics(datasets, \"ptn\"),\n",
    "}"
   ]
  },
  {
   "cell_type": "code",
   "execution_count": 16,
   "id": "54a21829",
   "metadata": {
    "execution": {
     "iopub.execute_input": "2022-03-06T07:08:08.144227Z",
     "iopub.status.busy": "2022-03-06T07:08:08.143964Z",
     "iopub.status.idle": "2022-03-06T07:08:08.324581Z",
     "shell.execute_reply": "2022-03-06T07:08:08.324999Z"
    },
    "papermill": {
     "duration": 0.20868,
     "end_time": "2022-03-06T07:08:08.325129",
     "exception": false,
     "start_time": "2022-03-06T07:08:08.116449",
     "status": "completed"
    },
    "tags": []
   },
   "outputs": [
    {
     "data": {
      "image/png": "[encoded data removed]",
      "text/plain": [
       "<Figure size 1080x504 with 1 Axes>"
      ]
     },
     "metadata": {
      "needs_background": "light"
     },
     "output_type": "display_data"
    }
   ],
   "source": [
    "ax = get_loss_curve(experiment)\n",
    "plt.show()"
   ]
  },
  {
   "cell_type": "code",
   "execution_count": 17,
   "id": "fd8a0f60",
   "metadata": {
    "execution": {
     "iopub.execute_input": "2022-03-06T07:08:08.383177Z",
     "iopub.status.busy": "2022-03-06T07:08:08.382880Z",
     "iopub.status.idle": "2022-03-06T07:08:08.599206Z",
     "shell.execute_reply": "2022-03-06T07:08:08.599537Z"
    },
    "papermill": {
     "duration": 0.245105,
     "end_time": "2022-03-06T07:08:08.599650",
     "exception": false,
     "start_time": "2022-03-06T07:08:08.354545",
     "status": "completed"
    },
    "tags": []
   },
   "outputs": [
    {
     "data": {
      "text/plain": [
       "<matplotlib.axes._subplots.AxesSubplot at 0x7fe30804f970>"
      ]
     },
     "execution_count": 17,
     "metadata": {},
     "output_type": "execute_result"
    },
    {
     "data": {
      "image/png": "[encoded data removed]",
      "text/plain": [
       "<Figure size 1080x504 with 1 Axes>"
      ]
     },
     "metadata": {
      "needs_background": "light"
     },
     "output_type": "display_data"
    }
   ],
   "source": [
    "get_results_table(experiment)"
   ]
  },
  {
   "cell_type": "code",
   "execution_count": 18,
   "id": "cf8dc689",
   "metadata": {
    "execution": {
     "iopub.execute_input": "2022-03-06T07:08:08.676637Z",
     "iopub.status.busy": "2022-03-06T07:08:08.676326Z",
     "iopub.status.idle": "2022-03-06T07:08:08.859863Z",
     "shell.execute_reply": "2022-03-06T07:08:08.859395Z"
    },
    "papermill": {
     "duration": 0.216445,
     "end_time": "2022-03-06T07:08:08.859974",
     "exception": false,
     "start_time": "2022-03-06T07:08:08.643529",
     "status": "completed"
    },
    "tags": []
   },
   "outputs": [
    {
     "data": {
      "text/plain": [
       "<matplotlib.axes._subplots.AxesSubplot at 0x7fe2ce77cee0>"
      ]
     },
     "execution_count": 18,
     "metadata": {},
     "output_type": "execute_result"
    },
    {
     "data": {
      "image/png": "[encoded data removed]",
      "text/plain": [
       "<Figure size 1080x504 with 1 Axes>"
      ]
     },
     "metadata": {
      "needs_background": "light"
     },
     "output_type": "display_data"
    }
   ],
   "source": [
    "get_domain_accuracies(experiment)"
   ]
  },
  {
   "cell_type": "code",
   "execution_count": 19,
   "id": "a74ae082",
   "metadata": {
    "execution": {
     "iopub.execute_input": "2022-03-06T07:08:08.938028Z",
     "iopub.status.busy": "2022-03-06T07:08:08.937756Z",
     "iopub.status.idle": "2022-03-06T07:08:08.950796Z",
     "shell.execute_reply": "2022-03-06T07:08:08.950557Z"
    },
    "papermill": {
     "duration": 0.046893,
     "end_time": "2022-03-06T07:08:08.950855",
     "exception": false,
     "start_time": "2022-03-06T07:08:08.903962",
     "status": "completed"
    },
    "tags": []
   },
   "outputs": [
    {
     "name": "stdout",
     "output_type": "stream",
     "text": [
      "Source Test Label Accuracy: 0.7639756944444445 Target Test Label Accuracy: 0.6530208333333334\n",
      "Source Val Label Accuracy: 0.7641493055555556 Target Val Label Accuracy: 0.6485416666666667\n"
     ]
    }
   ],
   "source": [
    "print(\"Source Test Label Accuracy:\", experiment[\"results\"][\"source_test_label_accuracy\"], \"Target Test Label Accuracy:\", experiment[\"results\"][\"target_test_label_accuracy\"])\n",
    "print(\"Source Val Label Accuracy:\", experiment[\"results\"][\"source_val_label_accuracy\"], \"Target Val Label Accuracy:\", experiment[\"results\"][\"target_val_label_accuracy\"])"
   ]
  },
  {
   "cell_type": "code",
   "execution_count": 20,
   "id": "dacca602",
   "metadata": {
    "execution": {
     "iopub.execute_input": "2022-03-06T07:08:09.010829Z",
     "iopub.status.busy": "2022-03-06T07:08:09.010556Z",
     "iopub.status.idle": "2022-03-06T07:08:09.024822Z",
     "shell.execute_reply": "2022-03-06T07:08:09.024398Z"
    },
    "papermill": {
     "duration": 0.045235,
     "end_time": "2022-03-06T07:08:09.024929",
     "exception": false,
     "start_time": "2022-03-06T07:08:08.979694",
     "status": "completed"
    },
    "tags": [
     "experiment_json"
    ]
   },
   "outputs": [
    {
     "data": {
      "text/plain": [
       "'{\"experiment_name\": \"tuned_1_oracle.run2.framed\", \"parameters\": {\"experiment_name\": \"tuned_1_oracle.run2.framed\", \"device\": \"cuda\", \"lr\": 0.001, \"seed\": 1337, \"dataset_seed\": 1337, \"labels_source\": [\"3123D52\", \"3123D65\", \"3123D79\", \"3123D80\", \"3123D54\", \"3123D70\", \"3123D7B\", \"3123D89\", \"3123D58\", \"3123D76\", \"3123D7D\", \"3123EFE\", \"3123D64\", \"3123D78\", \"3123D7E\", \"3124E4A\"], \"labels_target\": [\"3123D52\", \"3123D65\", \"3123D79\", \"3123D80\", \"3123D54\", \"3123D70\", \"3123D7B\", \"3123D89\", \"3123D58\", \"3123D76\", \"3123D7D\", \"3123EFE\", \"3123D64\", \"3123D78\", \"3123D7E\", \"3124E4A\"], \"x_transforms_source\": [\"unit_power\"], \"x_transforms_target\": [\"unit_power\"], \"episode_transforms_source\": [], \"episode_transforms_target\": [], \"domains_source\": [8, 32, 50], \"domains_target\": [14, 20, 26, 38, 44], \"num_examples_per_domain_per_label_source\": 2000, \"num_examples_per_domain_per_label_target\": 2000, \"n_shot\": 3, \"n_way\": 16, \"n_query\": 2, \"train_k_factor\": 3, \"val_k_factor\": 2, \"test_k_factor\": 2, \"torch_default_dtype\": \"torch.float32\", \"n_epoch\": 50, \"patience\": 3, \"criteria_for_best\": \"target_loss\", \"x_net\": [{\"class\": \"nnReshape\", \"kargs\": {\"shape\": [-1, 1, 2, 256]}}, {\"class\": \"Conv2d\", \"kargs\": {\"in_channels\": 1, \"out_channels\": 256, \"kernel_size\": [1, 7], \"bias\": false, \"padding\": [0, 3]}}, {\"class\": \"ReLU\", \"kargs\": {\"inplace\": true}}, {\"class\": \"BatchNorm2d\", \"kargs\": {\"num_features\": 256}}, {\"class\": \"Conv2d\", \"kargs\": {\"in_channels\": 256, \"out_channels\": 80, \"kernel_size\": [2, 7], \"bias\": true, \"padding\": [0, 3]}}, {\"class\": \"ReLU\", \"kargs\": {\"inplace\": true}}, {\"class\": \"BatchNorm2d\", \"kargs\": {\"num_features\": 80}}, {\"class\": \"Flatten\", \"kargs\": {}}, {\"class\": \"Linear\", \"kargs\": {\"in_features\": 20480, \"out_features\": 256}}, {\"class\": \"ReLU\", \"kargs\": {\"inplace\": true}}, {\"class\": \"BatchNorm1d\", \"kargs\": {\"num_features\": 256}}, {\"class\": \"Linear\", \"kargs\": {\"in_features\": 256, \"out_features\": 256}}], \"NUM_LOGS_PER_EPOCH\": 10, \"BEST_MODEL_PATH\": \"./best_model.pth\", \"pickle_name\": \"oracle.Run2_framed_2000Examples_stratified_ds.2022A.pkl\"}, \"results\": {\"source_test_label_accuracy\": 0.7639756944444445, \"source_test_label_loss\": 0.655015766620636, \"target_test_label_accuracy\": 0.6530208333333334, \"target_test_label_loss\": 1.3351802825927734, \"source_val_label_accuracy\": 0.7641493055555556, \"source_val_label_loss\": 0.6641411781311035, \"target_val_label_accuracy\": 0.6485416666666667, \"target_val_label_loss\": 1.6053884029388428, \"total_epochs_trained\": 7, \"total_experiment_time_secs\": 3071.8704540729523, \"confusion\": {\"8\": {\"15\": {\"11\": 48, \"12\": 20, \"15\": 148, \"8\": 22, \"4\": 1, \"6\": 1}, \"3\": {\"3\": 231, \"12\": 9}, \"6\": {\"6\": 145, \"4\": 64, \"14\": 1, \"7\": 30}, \"1\": {\"1\": 227, \"13\": 10, \"5\": 2, \"10\": 1}, \"8\": {\"8\": 213, \"11\": 26, \"15\": 1}, \"10\": {\"14\": 4, \"10\": 198, \"5\": 12, \"0\": 19, \"13\": 7}, \"9\": {\"9\": 240}, \"13\": {\"13\": 203, \"14\": 21, \"1\": 12, \"10\": 4}, \"12\": {\"12\": 207, \"3\": 12, \"15\": 16, \"11\": 5}, \"5\": {\"5\": 210, \"10\": 20, \"1\": 10}, \"0\": {\"14\": 36, \"0\": 187, \"10\": 17}, \"2\": {\"2\": 218, \"6\": 1, \"4\": 12, \"7\": 9}, \"11\": {\"12\": 27, \"15\": 36, \"11\": 119, \"8\": 58}, \"14\": {\"13\": 15, \"14\": 176, \"0\": 47, \"10\": 1, \"6\": 1}, \"7\": {\"7\": 133, \"4\": 59, \"6\": 32, \"2\": 15, \"8\": 1}, \"4\": {\"7\": 68, \"4\": 105, \"6\": 62, \"2\": 5}}, \"50\": {\"3\": {\"3\": 225, \"8\": 15}, \"15\": {\"15\": 216, \"1\": 7, \"11\": 13, \"14\": 2, \"6\": 2}, \"8\": {\"8\": 237, \"3\": 3}, \"4\": {\"5\": 62, \"0\": 1, \"4\": 125, \"6\": 38, \"7\": 4, \"1\": 7, \"13\": 1, \"10\": 2}, \"14\": {\"14\": 236, \"11\": 1, \"12\": 3}, \"0\": {\"0\": 225, \"2\": 12, \"10\": 3}, \"7\": {\"7\": 73, \"13\": 105, \"10\": 41, \"4\": 2, \"5\": 19}, \"6\": {\"1\": 71, \"6\": 129, \"4\": 36, \"5\": 4}, \"10\": {\"10\": 187, \"7\": 24, \"13\": 16, \"5\": 13}, \"5\": {\"5\": 117, \"4\": 65, \"7\": 22, \"10\": 20, \"6\": 5, \"13\": 9, \"0\": 1, \"2\": 1}, \"2\": {\"2\": 230, \"0\": 10}, \"12\": {\"12\": 224, \"9\": 10, \"14\": 6}, \"9\": {\"9\": 223, \"12\": 15, \"11\": 2}, \"1\": {\"1\": 171, \"6\": 55, \"5\": 1, \"15\": 9, \"4\": 4}, \"11\": {\"15\": 17, \"11\": 211, \"9\": 5, \"14\": 4, \"12\": 3}, \"13\": {\"13\": 136, \"10\": 33, \"7\": 68, \"5\": 3}}, \"32\": {\"5\": {\"0\": 44, \"5\": 72, \"4\": 32, \"8\": 32, \"2\": 20, \"13\": 24, \"14\": 10, \"11\": 4, \"3\": 2}, \"8\": {\"8\": 178, \"13\": 21, \"4\": 9, \"5\": 19, \"3\": 3, \"0\": 10}, \"11\": {\"13\": 11, \"2\": 21, \"11\": 100, \"5\": 7, \"7\": 58, \"0\": 22, \"4\": 20, \"14\": 1}, \"1\": {\"1\": 239, \"10\": 1}, \"10\": {\"10\": 240}, \"15\": {\"15\": 239, \"8\": 1}, \"3\": {\"3\": 233, \"13\": 6, \"4\": 1}, \"7\": {\"7\": 136, \"13\": 30, \"11\": 53, \"4\": 14, \"2\": 4, \"0\": 2, \"5\": 1}, \"4\": {\"4\": 98, \"11\": 22, \"0\": 30, \"13\": 46, \"7\": 4, \"8\": 4, \"5\": 36}, \"14\": {\"14\": 200, \"2\": 35, \"5\": 2, \"0\": 2, \"11\": 1}, \"9\": {\"9\": 230, \"14\": 10}, \"12\": {\"12\": 240}, \"6\": {\"6\": 240}, \"2\": {\"2\": 179, \"14\": 24, \"11\": 13, \"0\": 13, \"4\": 2, \"5\": 7, \"7\": 2}, \"0\": {\"5\": 54, \"11\": 22, \"4\": 43, \"0\": 103, \"7\": 4, \"13\": 2, \"2\": 7, \"14\": 3, \"8\": 2}, \"13\": {\"13\": 151, \"4\": 42, \"11\": 4, \"7\": 13, \"8\": 12, \"5\": 14, \"0\": 4}}, \"14\": {\"15\": {\"15\": 233, \"7\": 7}, \"3\": {\"3\": 214, \"4\": 15, \"14\": 5, \"5\": 4, \"2\": 1, \"0\": 1}, \"6\": {\"6\": 186, \"14\": 31, \"2\": 8, \"13\": 15}, \"1\": {\"1\": 232, \"5\": 8}, \"8\": {\"8\": 240}, \"10\": {\"10\": 201, \"0\": 33, \"11\": 6}, \"9\": {\"9\": 239, \"11\": 1}, \"13\": {\"13\": 191, \"6\": 42, \"2\": 6, \"14\": 1}, \"12\": {\"11\": 65, \"9\": 26, \"12\": 117, \"10\": 9, \"0\": 13, \"8\": 10}, \"5\": {\"5\": 120, \"4\": 79, \"1\": 15, \"2\": 19, \"3\": 6, \"14\": 1}, \"0\": {\"0\": 239, \"10\": 1}, \"2\": {\"14\": 33, \"5\": 26, \"13\": 31, \"4\": 27, \"2\": 104, \"6\": 9, \"15\": 1, \"3\": 9}, \"11\": {\"11\": 235, \"10\": 2, \"12\": 3}, \"14\": {\"14\": 163, \"5\": 4, \"6\": 51, \"4\": 2, \"2\": 14, \"3\": 4, \"0\": 2}, \"7\": {\"7\": 236, \"15\": 4}, \"4\": {\"4\": 156, \"5\": 58, \"2\": 9, \"3\": 13, \"14\": 1, \"1\": 3}}, \"20\": {\"3\": {\"5\": 44, \"3\": 111, \"9\": 15, \"7\": 27, \"2\": 31, \"10\": 1, \"12\": 5, \"8\": 3, \"0\": 2, \"4\": 1}, \"15\": {\"2\": 23, \"13\": 60, \"1\": 13, \"15\": 87, \"5\": 8, \"9\": 31, \"0\": 6, \"12\": 12}, \"8\": {\"8\": 143, \"3\": 5, \"7\": 28, \"14\": 22, \"10\": 34, \"6\": 5, \"4\": 3}, \"4\": {\"4\": 228, \"12\": 4, \"0\": 4, \"1\": 2, \"5\": 2}, \"14\": {\"10\": 43, \"14\": 157, \"8\": 18, \"6\": 22}, \"0\": {\"5\": 11, \"1\": 43, \"0\": 101, \"12\": 50, \"15\": 17, \"9\": 5, \"4\": 9, \"2\": 3, \"3\": 1}, \"7\": {\"7\": 196, \"3\": 17, \"8\": 23, \"5\": 2, \"9\": 1, \"2\": 1}, \"6\": {\"6\": 236, \"14\": 4}, \"10\": {\"10\": 176, \"8\": 42, \"14\": 19, \"4\": 2, \"3\": 1}, \"5\": {\"3\": 51, \"5\": 62, \"2\": 44, \"12\": 21, \"13\": 2, \"4\": 6, \"15\": 8, \"9\": 23, \"1\": 4, \"0\": 17, \"7\": 2}, \"2\": {\"5\": 52, \"9\": 55, \"12\": 9, \"3\": 25, \"2\": 79, \"15\": 7, \"0\": 4, \"4\": 1, \"13\": 8}, \"12\": {\"9\": 21, \"12\": 86, \"4\": 6, \"0\": 60, \"1\": 41, \"5\": 12, \"15\": 5, \"3\": 2, \"2\": 7}, \"9\": {\"2\": 69, \"5\": 26, \"15\": 21, \"3\": 14, \"9\": 75, \"13\": 6, \"12\": 17, \"0\": 7, \"1\": 5}, \"1\": {\"0\": 33, \"1\": 147, \"12\": 43, \"15\": 11, \"13\": 1, \"9\": 3, \"5\": 2}, \"11\": {\"11\": 240}, \"13\": {\"13\": 189, \"15\": 42, \"5\": 2, \"2\": 6, \"1\": 1}}, \"44\": {\"5\": {\"5\": 222, \"14\": 13, \"15\": 3, \"8\": 1, \"0\": 1}, \"8\": {\"8\": 133, \"0\": 103, \"5\": 3, \"15\": 1}, \"11\": {\"6\": 37, \"11\": 199, \"13\": 1, \"5\": 2, \"7\": 1}, \"1\": {\"1\": 123, \"12\": 86, \"3\": 31}, \"10\": {\"10\": 231, \"12\": 5, \"1\": 4}, \"15\": {\"15\": 203, \"8\": 8, \"14\": 19, \"4\": 10}, \"3\": {\"1\": 17, \"3\": 213, \"12\": 10}, \"7\": {\"7\": 131, \"2\": 58, \"9\": 50, \"1\": 1}, \"4\": {\"4\": 221, \"15\": 3, \"14\": 11, \"13\": 5}, \"14\": {\"14\": 189, \"15\": 24, \"5\": 17, \"4\": 10}, \"9\": {\"7\": 69, \"9\": 93, \"2\": 73, \"6\": 4, \"1\": 1}, \"12\": {\"12\": 159, \"1\": 71, \"3\": 10}, \"6\": {\"11\": 23, \"9\": 14, \"6\": 201, \"13\": 1, \"7\": 1}, \"2\": {\"2\": 109, \"7\": 56, \"9\": 75}, \"0\": {\"8\": 108, \"0\": 131, \"5\": 1}, \"13\": {\"13\": 226, \"6\": 6, \"4\": 7, \"14\": 1}}, \"38\": {\"14\": {\"14\": 119, \"12\": 22, \"2\": 61, \"11\": 33, \"10\": 1, \"5\": 1, \"13\": 2, \"7\": 1}, \"0\": {\"0\": 205, \"3\": 29, \"6\": 1, \"10\": 5}, \"13\": {\"1\": 58, \"5\": 19, \"13\": 58, \"3\": 21, \"15\": 45, \"8\": 24, \"7\": 4, \"2\": 3, \"14\": 3, \"10\": 2, \"6\": 3}, \"7\": {\"5\": 37, \"10\": 66, \"7\": 116, \"8\": 14, \"13\": 1, \"15\": 5, \"3\": 1}, \"9\": {\"9\": 175, \"6\": 65}, \"3\": {\"6\": 29, \"13\": 9, \"15\": 30, \"9\": 17, \"0\": 53, \"8\": 8, \"3\": 68, \"10\": 11, \"7\": 2, \"5\": 11, \"1\": 2}, \"11\": {\"11\": 121, \"14\": 70, \"4\": 2, \"10\": 4, \"7\": 3, \"2\": 11, \"0\": 12, \"12\": 17}, \"6\": {\"6\": 159, \"9\": 73, \"3\": 8}, \"8\": {\"13\": 19, \"3\": 1, \"7\": 15, \"5\": 77, \"15\": 50, \"8\": 70, \"10\": 6, \"1\": 2}, \"4\": {\"4\": 215, \"11\": 2, \"12\": 22, \"10\": 1}, \"5\": {\"5\": 87, \"8\": 64, \"15\": 35, \"13\": 19, \"7\": 20, \"10\": 12, \"3\": 3}, \"10\": {\"7\": 77, \"0\": 1, \"10\": 115, \"5\": 13, \"8\": 18, \"3\": 8, \"13\": 3, \"15\": 5}, \"1\": {\"1\": 219, \"13\": 17, \"15\": 4}, \"2\": {\"2\": 218, \"14\": 22}, \"15\": {\"13\": 56, \"5\": 31, \"15\": 80, \"8\": 39, \"3\": 18, \"10\": 3, \"1\": 11, \"7\": 2}, \"12\": {\"12\": 225, \"4\": 13, \"7\": 1, \"14\": 1}}, \"26\": {\"13\": {\"13\": 165, \"5\": 41, \"6\": 12, \"9\": 21, \"2\": 1}, \"2\": {\"2\": 81, \"7\": 83, \"3\": 13, \"4\": 17, \"10\": 2, \"8\": 13, \"15\": 15, \"9\": 8, \"0\": 3, \"5\": 5}, \"8\": {\"8\": 111, \"9\": 20, \"14\": 17, \"6\": 4, \"7\": 19, \"10\": 22, \"4\": 15, \"0\": 14, \"2\": 11, \"5\": 5, \"13\": 1, \"1\": 1}, \"9\": {\"8\": 20, \"5\": 45, \"9\": 108, \"6\": 18, \"7\": 14, \"13\": 20, \"14\": 1, \"2\": 13, \"10\": 1}, \"12\": {\"12\": 240}, \"4\": {\"8\": 15, \"4\": 153, \"0\": 23, \"15\": 4, \"3\": 15, \"2\": 6, \"14\": 7, \"7\": 9, \"10\": 8}, \"3\": {\"15\": 69, \"3\": 128, \"4\": 11, \"7\": 14, \"2\": 18}, \"15\": {\"3\": 93, \"15\": 115, \"4\": 6, \"2\": 15, \"7\": 10, \"0\": 1}, \"14\": {\"0\": 50, \"14\": 80, \"10\": 42, \"8\": 13, \"4\": 9, \"1\": 44, \"9\": 1, \"6\": 1}, \"10\": {\"0\": 26, \"10\": 62, \"7\": 4, \"6\": 22, \"14\": 40, \"12\": 2, \"4\": 22, \"1\": 36, \"8\": 22, \"9\": 3, \"15\": 1}, \"7\": {\"7\": 73, \"2\": 92, \"4\": 13, \"15\": 8, \"3\": 14, \"9\": 16, \"5\": 9, \"8\": 13, \"13\": 1, \"0\": 1}, \"11\": {\"11\": 240}, \"6\": {\"6\": 173, \"8\": 10, \"13\": 12, \"5\": 15, \"9\": 25, \"10\": 5}, \"1\": {\"1\": 137, \"0\": 33, \"14\": 44, \"10\": 24, \"4\": 2}, \"5\": {\"5\": 67, \"8\": 7, \"6\": 47, \"7\": 29, \"9\": 37, \"13\": 37, \"2\": 13, \"15\": 2, \"14\": 1}, \"0\": {\"0\": 66, \"14\": 53, \"4\": 40, \"1\": 24, \"8\": 26, \"10\": 27, \"2\": 4}}}, \"per_domain_accuracy\": {\"8\": {\"accuracy\": 0.7708333333333334, \"source?\": true}, \"50\": {\"accuracy\": 0.7721354166666666, \"source?\": true}, \"32\": {\"accuracy\": 0.7494791666666667, \"source?\": true}, \"14\": {\"accuracy\": 0.8088541666666667, \"source?\": false}, \"20\": {\"accuracy\": 0.60234375, \"source?\": false}, \"44\": {\"accuracy\": 0.725, \"source?\": false}, \"38\": {\"accuracy\": 0.5859375, \"source?\": false}, \"26\": {\"accuracy\": 0.5205729166666667, \"source?\": false}}}, \"history\": {\"epoch_indices\": [1, 2, 3, 4, 5, 6, 7], \"train_label_loss\": [0.835143806335945, 2.4005785557604025, 1.3584957271755214, 0.6179136140538114, 0.5701337553915523, 0.5232185725832269, 0.45848971459541527], \"source_val_label_loss\": [42.84672164916992, 0.7280111908912659, 0.6641411781311035, 0.6270332336425781, 0.594183623790741, 0.5001623630523682, 0.47091540694236755], \"target_val_label_loss\": [214.04498291015625, 129.73049926757812, 1.6053884029388428, 1.6575957536697388, 1.6451687812805176, 2.219607353210449, 2.5035862922668457], \"source_val_acc_label\": [0.7087673611111112, 0.7230034722222223, 0.7641493055555556, 0.7765625, 0.7818576388888889, 0.8263888888888888, 0.828125], \"target_val_acc_label\": [0.54078125, 0.61609375, 0.6485416666666667, 0.65890625, 0.6859375, 0.7215104166666667, 0.72359375]}, \"dataset_metrics\": {\"source\": {\"train\": {\"n_unique_x\": 67200, \"n_unique_y\": 16, \"n_batch/episode\": 2520}, \"val\": {\"n_unique_x\": 14400, \"n_unique_y\": 16, \"n_batch/episode\": 360}, \"test\": {\"n_unique_x\": 14400, \"n_unique_y\": 16, \"n_batch/episode\": 360}}, \"target\": {\"train\": {\"n_unique_x\": 112000, \"n_unique_y\": 16, \"n_batch/episode\": 4200}, \"val\": {\"n_unique_x\": 24000, \"n_unique_y\": 16, \"n_batch/episode\": 600}, \"test\": {\"n_unique_x\": 24000, \"n_unique_y\": 16, \"n_batch/episode\": 600}}}}'"
      ]
     },
     "execution_count": 20,
     "metadata": {},
     "output_type": "execute_result"
    }
   ],
   "source": [
    "json.dumps(experiment)"
   ]
  }
 ],
 "metadata": {
  "celltoolbar": "Tags",
  "kernelspec": {
   "display_name": "Python 3 (ipykernel)",
   "language": "python",
   "name": "python3"
  },
  "language_info": {
   "codemirror_mode": {
    "name": "ipython",
    "version": 3
   },
   "file_extension": ".py",
   "mimetype": "text/x-python",
   "name": "python",
   "nbconvert_exporter": "python",
   "pygments_lexer": "ipython3",
   "version": "3.8.10"
  },
  "papermill": {
   "default_parameters": {},
   "duration": 3293.276373,
   "end_time": "2022-03-06T07:08:10.071896",
   "environment_variables": {},
   "exception": null,
   "input_path": "/mnt/wd500GB/CSC500/csc500-main/csc500-notebooks/templates/ptn_template.ipynb",
   "output_path": "trial.ipynb",
   "parameters": {
    "parameters": {
     "BEST_MODEL_PATH": "./best_model.pth",
     "NUM_LOGS_PER_EPOCH": 10,
     "criteria_for_best": "target_loss",
     "dataset_seed": 1337,
     "device": "cuda",
     "domains_source": [
      8,
      32,
      50
     ],
     "domains_target": [
      14,
      20,
      26,
      38,
      44
     ],
     "episode_transforms_source": [],
     "episode_transforms_target": [],
     "experiment_name": "tuned_1_oracle.run2.framed",
     "labels_source": [
      "3123D52",
      "3123D65",
      "3123D79",
      "3123D80",
      "3123D54",
      "3123D70",
      "3123D7B",
      "3123D89",
      "3123D58",
      "3123D76",
      "3123D7D",
      "3123EFE",
      "3123D64",
      "3123D78",
      "3123D7E",
      "3124E4A"
     ],
     "labels_target": [
      "3123D52",
      "3123D65",
      "3123D79",
      "3123D80",
      "3123D54",
      "3123D70",
      "3123D7B",
      "3123D89",
      "3123D58",
      "3123D76",
      "3123D7D",
      "3123EFE",
      "3123D64",
      "3123D78",
      "3123D7E",
      "3124E4A"
     ],
     "lr": 0.001,
     "n_epoch": 50,
     "n_query": 2,
     "n_shot": 3,
     "n_way": 16,
     "num_examples_per_domain_per_label_source": 2000,
     "num_examples_per_domain_per_label_target": 2000,
     "patience": 3,
     "pickle_name": "oracle.Run2_framed_2000Examples_stratified_ds.2022A.pkl",
     "seed": 1337,
     "test_k_factor": 2,
     "torch_default_dtype": "torch.float32",
     "train_k_factor": 3,
     "val_k_factor": 2,
     "x_net": [
      {
       "class": "nnReshape",
       "kargs": {
        "shape": [
         -1,
         1,
         2,
         256
        ]
       }
      },
      {
       "class": "Conv2d",
       "kargs": {
        "bias": false,
        "in_channels": 1,
        "kernel_size": [
         1,
         7
        ],
        "out_channels": 256,
        "padding": [
         0,
         3
        ]
       }
      },
      {
       "class": "ReLU",
       "kargs": {
        "inplace": true
       }
      },
      {
       "class": "BatchNorm2d",
       "kargs": {
        "num_features": 256
       }
      },
      {
       "class": "Conv2d",
       "kargs": {
        "bias": true,
        "in_channels": 256,
        "kernel_size": [
         2,
         7
        ],
        "out_channels": 80,
        "padding": [
         0,
         3
        ]
       }
      },
      {
       "class": "ReLU",
       "kargs": {
        "inplace": true
       }
      },
      {
       "class": "BatchNorm2d",
       "kargs": {
        "num_features": 80
       }
      },
      {
       "class": "Flatten",
       "kargs": {}
      },
      {
       "class": "Linear",
       "kargs": {
        "in_features": 20480,
        "out_features": 256
       }
      },
      {
       "class": "ReLU",
       "kargs": {
        "inplace": true
       }
      },
      {
       "class": "BatchNorm1d",
       "kargs": {
        "num_features": 256
       }
      },
      {
       "class": "Linear",
       "kargs": {
        "in_features": 256,
        "out_features": 256
       }
      }
     ],
     "x_transforms_source": [
      "unit_power"
     ],
     "x_transforms_target": [
      "unit_power"
     ]
    }
   },
   "start_time": "2022-03-06T06:13:16.795523",
   "version": "2.3.4"
  }
 },
 "nbformat": 4,
 "nbformat_minor": 5
}