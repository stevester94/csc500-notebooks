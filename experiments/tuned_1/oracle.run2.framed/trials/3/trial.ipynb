{
 "cells": [
  {
   "cell_type": "markdown",
   "id": "9fea5f46",
   "metadata": {
    "papermill": {
     "duration": 0.013671,
     "end_time": "2022-03-06T01:35:43.444283",
     "exception": false,
     "start_time": "2022-03-06T01:35:43.430612",
     "status": "completed"
    },
    "tags": []
   },
   "source": [
    "# PTN Template\n",
    "This notebook serves as a template for single dataset PTN experiments  \n",
    "It can be run on its own by setting STANDALONE to True (do a find for \"STANDALONE\" to see where)  \n",
    "But it is intended to be executed as part of a *papermill.py script. See any of the   \n",
    "experimentes with a papermill script to get started with that workflow.  "
   ]
  },
  {
   "cell_type": "code",
   "execution_count": 1,
   "id": "0902182a",
   "metadata": {
    "execution": {
     "iopub.execute_input": "2022-03-06T01:35:43.477943Z",
     "iopub.status.busy": "2022-03-06T01:35:43.477666Z",
     "iopub.status.idle": "2022-03-06T01:35:44.240587Z",
     "shell.execute_reply": "2022-03-06T01:35:44.240047Z"
    },
    "papermill": {
     "duration": 0.786586,
     "end_time": "2022-03-06T01:35:44.240706",
     "exception": false,
     "start_time": "2022-03-06T01:35:43.454120",
     "status": "completed"
    },
    "tags": []
   },
   "outputs": [],
   "source": [
    "%load_ext autoreload\n",
    "%autoreload 2\n",
    "%matplotlib inline\n",
    "\n",
    "    \n",
    "import os, json, sys, time, random\n",
    "import numpy as np\n",
    "import torch\n",
    "from torch.optim import Adam\n",
    "from  easydict import EasyDict\n",
    "import matplotlib.pyplot as plt\n",
    "\n",
    "from steves_models.steves_ptn import Steves_Prototypical_Network\n",
    "\n",
    "from steves_utils.lazy_iterable_wrapper import Lazy_Iterable_Wrapper\n",
    "from steves_utils.iterable_aggregator import Iterable_Aggregator\n",
    "from steves_utils.ptn_train_eval_test_jig import  PTN_Train_Eval_Test_Jig\n",
    "from steves_utils.torch_sequential_builder import build_sequential\n",
    "from steves_utils.torch_utils import get_dataset_metrics, ptn_confusion_by_domain_over_dataloader\n",
    "from steves_utils.utils_v2 import (per_domain_accuracy_from_confusion, get_datasets_base_path)\n",
    "from steves_utils.PTN.utils import independent_accuracy_assesment\n",
    "\n",
    "from steves_utils.stratified_dataset.episodic_accessor import Episodic_Accessor_Factory\n",
    "\n",
    "from steves_utils.ptn_do_report import (\n",
    "    get_loss_curve,\n",
    "    get_results_table,\n",
    "    get_parameters_table,\n",
    "    get_domain_accuracies,\n",
    ")\n",
    "\n",
    "from steves_utils.transforms import get_chained_transform"
   ]
  },
  {
   "cell_type": "markdown",
   "id": "41c840b4",
   "metadata": {
    "papermill": {
     "duration": 0.009427,
     "end_time": "2022-03-06T01:35:44.263238",
     "exception": false,
     "start_time": "2022-03-06T01:35:44.253811",
     "status": "completed"
    },
    "tags": []
   },
   "source": [
    "# Required Parameters\n",
    "These are allowed parameters, not defaults\n",
    "Each of these values need to be present in the injected parameters (the notebook will raise an exception if they are not present)\n",
    "\n",
    "Papermill uses the cell tag \"parameters\" to inject the real parameters below this cell.\n",
    "Enable tags to see what I mean"
   ]
  },
  {
   "cell_type": "code",
   "execution_count": 2,
   "id": "fd44eb83",
   "metadata": {
    "execution": {
     "iopub.execute_input": "2022-03-06T01:35:44.286284Z",
     "iopub.status.busy": "2022-03-06T01:35:44.285978Z",
     "iopub.status.idle": "2022-03-06T01:35:44.299726Z",
     "shell.execute_reply": "2022-03-06T01:35:44.299228Z"
    },
    "papermill": {
     "duration": 0.027073,
     "end_time": "2022-03-06T01:35:44.299829",
     "exception": false,
     "start_time": "2022-03-06T01:35:44.272756",
     "status": "completed"
    },
    "tags": []
   },
   "outputs": [],
   "source": [
    "required_parameters = {\n",
    "    \"experiment_name\",\n",
    "    \"lr\",\n",
    "    \"device\",\n",
    "    \"seed\",\n",
    "    \"dataset_seed\",\n",
    "    \"labels_source\",\n",
    "    \"labels_target\",\n",
    "    \"domains_source\",\n",
    "    \"domains_target\",\n",
    "    \"num_examples_per_domain_per_label_source\",\n",
    "    \"num_examples_per_domain_per_label_target\",\n",
    "    \"n_shot\",\n",
    "    \"n_way\",\n",
    "    \"n_query\",\n",
    "    \"train_k_factor\",\n",
    "    \"val_k_factor\",\n",
    "    \"test_k_factor\",\n",
    "    \"n_epoch\",\n",
    "    \"patience\",\n",
    "    \"criteria_for_best\",\n",
    "    \"x_transforms_source\",\n",
    "    \"x_transforms_target\",\n",
    "    \"episode_transforms_source\",\n",
    "    \"episode_transforms_target\",\n",
    "    \"pickle_name\",\n",
    "    \"x_net\",\n",
    "    \"NUM_LOGS_PER_EPOCH\",\n",
    "    \"BEST_MODEL_PATH\",\n",
    "    \"torch_default_dtype\"\n",
    "}"
   ]
  },
  {
   "cell_type": "code",
   "execution_count": 3,
   "id": "fa3f0049",
   "metadata": {
    "execution": {
     "iopub.execute_input": "2022-03-06T01:35:44.332145Z",
     "iopub.status.busy": "2022-03-06T01:35:44.331585Z",
     "iopub.status.idle": "2022-03-06T01:35:44.343498Z",
     "shell.execute_reply": "2022-03-06T01:35:44.342973Z"
    },
    "papermill": {
     "duration": 0.030367,
     "end_time": "2022-03-06T01:35:44.343607",
     "exception": false,
     "start_time": "2022-03-06T01:35:44.313240",
     "status": "completed"
    },
    "tags": [
     "parameters"
    ]
   },
   "outputs": [],
   "source": [
    "\n",
    "\n",
    "standalone_parameters = {}\n",
    "standalone_parameters[\"experiment_name\"] = \"STANDALONE PTN\"\n",
    "standalone_parameters[\"lr\"] = 0.0001\n",
    "standalone_parameters[\"device\"] = \"cuda\"\n",
    "\n",
    "standalone_parameters[\"seed\"] = 1337\n",
    "standalone_parameters[\"dataset_seed\"] = 1337\n",
    "\n",
    "\n",
    "standalone_parameters[\"num_examples_per_domain_per_label_source\"]=100\n",
    "standalone_parameters[\"num_examples_per_domain_per_label_target\"]=100\n",
    "\n",
    "standalone_parameters[\"n_shot\"] = 3\n",
    "standalone_parameters[\"n_query\"]  = 2\n",
    "standalone_parameters[\"train_k_factor\"] = 1\n",
    "standalone_parameters[\"val_k_factor\"] = 2\n",
    "standalone_parameters[\"test_k_factor\"] = 2\n",
    "\n",
    "\n",
    "standalone_parameters[\"n_epoch\"] = 100\n",
    "\n",
    "standalone_parameters[\"patience\"] = 10\n",
    "standalone_parameters[\"criteria_for_best\"] = \"target_accuracy\"\n",
    "\n",
    "standalone_parameters[\"x_transforms_source\"] = [\"unit_power\"]\n",
    "standalone_parameters[\"x_transforms_target\"] = [\"unit_power\"]\n",
    "standalone_parameters[\"episode_transforms_source\"] = []\n",
    "standalone_parameters[\"episode_transforms_target\"] = []\n",
    "\n",
    "standalone_parameters[\"torch_default_dtype\"] = \"torch.float32\" \n",
    "\n",
    "\n",
    "\n",
    "standalone_parameters[\"x_net\"] =     [\n",
    "    {\"class\": \"nnReshape\", \"kargs\": {\"shape\":[-1, 1, 2, 256]}},\n",
    "    {\"class\": \"Conv2d\", \"kargs\": { \"in_channels\":1, \"out_channels\":256, \"kernel_size\":(1,7), \"bias\":False, \"padding\":(0,3), },},\n",
    "    {\"class\": \"ReLU\", \"kargs\": {\"inplace\": True}},\n",
    "    {\"class\": \"BatchNorm2d\", \"kargs\": {\"num_features\":256}},\n",
    "\n",
    "    {\"class\": \"Conv2d\", \"kargs\": { \"in_channels\":256, \"out_channels\":80, \"kernel_size\":(2,7), \"bias\":True, \"padding\":(0,3), },},\n",
    "    {\"class\": \"ReLU\", \"kargs\": {\"inplace\": True}},\n",
    "    {\"class\": \"BatchNorm2d\", \"kargs\": {\"num_features\":80}},\n",
    "    {\"class\": \"Flatten\", \"kargs\": {}},\n",
    "\n",
    "    {\"class\": \"Linear\", \"kargs\": {\"in_features\": 80*256, \"out_features\": 256}}, # 80 units per IQ pair\n",
    "    {\"class\": \"ReLU\", \"kargs\": {\"inplace\": True}},\n",
    "    {\"class\": \"BatchNorm1d\", \"kargs\": {\"num_features\":256}},\n",
    "\n",
    "    {\"class\": \"Linear\", \"kargs\": {\"in_features\": 256, \"out_features\": 256}},\n",
    "]\n",
    "\n",
    "# Parameters relevant to results\n",
    "# These parameters will basically never need to change\n",
    "standalone_parameters[\"NUM_LOGS_PER_EPOCH\"] = 10\n",
    "standalone_parameters[\"BEST_MODEL_PATH\"] = \"./best_model.pth\"\n",
    "\n",
    "# uncomment for CORES dataset\n",
    "from steves_utils.CORES.utils import (\n",
    "    ALL_NODES,\n",
    "    ALL_NODES_MINIMUM_1000_EXAMPLES,\n",
    "    ALL_DAYS\n",
    ")\n",
    "\n",
    "\n",
    "standalone_parameters[\"labels_source\"] = ALL_NODES\n",
    "standalone_parameters[\"labels_target\"] = ALL_NODES\n",
    "\n",
    "standalone_parameters[\"domains_source\"] = [1]\n",
    "standalone_parameters[\"domains_target\"] = [2,3,4,5]\n",
    "\n",
    "standalone_parameters[\"pickle_name\"] = \"cores.stratified_ds.2022A.pkl\"\n",
    "\n",
    "\n",
    "# Uncomment these for ORACLE dataset\n",
    "# from steves_utils.ORACLE.utils_v2 import (\n",
    "#     ALL_DISTANCES_FEET,\n",
    "#     ALL_RUNS,\n",
    "#     ALL_SERIAL_NUMBERS,\n",
    "# )\n",
    "# standalone_parameters[\"labels_source\"] = ALL_SERIAL_NUMBERS\n",
    "# standalone_parameters[\"labels_target\"] = ALL_SERIAL_NUMBERS\n",
    "# standalone_parameters[\"domains_source\"] = [8,20, 38,50]\n",
    "# standalone_parameters[\"domains_target\"] = [14, 26, 32, 44, 56]\n",
    "# standalone_parameters[\"pickle_name\"] = \"oracle.frame_indexed.stratified_ds.2022A.pkl\"\n",
    "# standalone_parameters[\"num_examples_per_domain_per_label_source\"]=1000\n",
    "# standalone_parameters[\"num_examples_per_domain_per_label_target\"]=1000\n",
    "\n",
    "# Uncomment these for Metahan dataset\n",
    "# standalone_parameters[\"labels_source\"] = list(range(19))\n",
    "# standalone_parameters[\"labels_target\"] = list(range(19))\n",
    "# standalone_parameters[\"domains_source\"] = [0]\n",
    "# standalone_parameters[\"domains_target\"] = [1]\n",
    "# standalone_parameters[\"pickle_name\"] = \"metehan.stratified_ds.2022A.pkl\"\n",
    "# standalone_parameters[\"n_way\"]  = len(standalone_parameters[\"labels_source\"])\n",
    "# standalone_parameters[\"num_examples_per_domain_per_label_source\"]=200\n",
    "# standalone_parameters[\"num_examples_per_domain_per_label_target\"]=100\n",
    "\n",
    "\n",
    "standalone_parameters[\"n_way\"]  = len(standalone_parameters[\"labels_source\"])"
   ]
  },
  {
   "cell_type": "code",
   "execution_count": 4,
   "id": "2bf34b50",
   "metadata": {
    "execution": {
     "iopub.execute_input": "2022-03-06T01:35:44.371280Z",
     "iopub.status.busy": "2022-03-06T01:35:44.370990Z",
     "iopub.status.idle": "2022-03-06T01:35:44.381313Z",
     "shell.execute_reply": "2022-03-06T01:35:44.380862Z"
    },
    "papermill": {
     "duration": 0.024395,
     "end_time": "2022-03-06T01:35:44.381418",
     "exception": false,
     "start_time": "2022-03-06T01:35:44.357023",
     "status": "completed"
    },
    "tags": [
     "injected-parameters"
    ]
   },
   "outputs": [],
   "source": [
    "# Parameters\n",
    "parameters = {\n",
    "    \"experiment_name\": \"tuned_1_oracle.run2.framed\",\n",
    "    \"device\": \"cuda\",\n",
    "    \"lr\": 0.001,\n",
    "    \"seed\": 1337,\n",
    "    \"dataset_seed\": 1337,\n",
    "    \"labels_source\": [\n",
    "        \"3123D52\",\n",
    "        \"3123D65\",\n",
    "        \"3123D79\",\n",
    "        \"3123D80\",\n",
    "        \"3123D54\",\n",
    "        \"3123D70\",\n",
    "        \"3123D7B\",\n",
    "        \"3123D89\",\n",
    "        \"3123D58\",\n",
    "        \"3123D76\",\n",
    "        \"3123D7D\",\n",
    "        \"3123EFE\",\n",
    "        \"3123D64\",\n",
    "        \"3123D78\",\n",
    "        \"3123D7E\",\n",
    "        \"3124E4A\",\n",
    "    ],\n",
    "    \"labels_target\": [\n",
    "        \"3123D52\",\n",
    "        \"3123D65\",\n",
    "        \"3123D79\",\n",
    "        \"3123D80\",\n",
    "        \"3123D54\",\n",
    "        \"3123D70\",\n",
    "        \"3123D7B\",\n",
    "        \"3123D89\",\n",
    "        \"3123D58\",\n",
    "        \"3123D76\",\n",
    "        \"3123D7D\",\n",
    "        \"3123EFE\",\n",
    "        \"3123D64\",\n",
    "        \"3123D78\",\n",
    "        \"3123D7E\",\n",
    "        \"3124E4A\",\n",
    "    ],\n",
    "    \"x_transforms_source\": [\"unit_power\"],\n",
    "    \"x_transforms_target\": [\"unit_power\"],\n",
    "    \"episode_transforms_source\": [],\n",
    "    \"episode_transforms_target\": [],\n",
    "    \"domains_source\": [8, 32, 50],\n",
    "    \"domains_target\": [14, 20, 26, 38, 44],\n",
    "    \"num_examples_per_domain_per_label_source\": 1300,\n",
    "    \"num_examples_per_domain_per_label_target\": 1300,\n",
    "    \"n_shot\": 3,\n",
    "    \"n_way\": 16,\n",
    "    \"n_query\": 2,\n",
    "    \"train_k_factor\": 3,\n",
    "    \"val_k_factor\": 2,\n",
    "    \"test_k_factor\": 2,\n",
    "    \"torch_default_dtype\": \"torch.float32\",\n",
    "    \"n_epoch\": 50,\n",
    "    \"patience\": 3,\n",
    "    \"criteria_for_best\": \"target_loss\",\n",
    "    \"x_net\": [\n",
    "        {\"class\": \"nnReshape\", \"kargs\": {\"shape\": [-1, 1, 2, 256]}},\n",
    "        {\n",
    "            \"class\": \"Conv2d\",\n",
    "            \"kargs\": {\n",
    "                \"in_channels\": 1,\n",
    "                \"out_channels\": 256,\n",
    "                \"kernel_size\": [1, 7],\n",
    "                \"bias\": False,\n",
    "                \"padding\": [0, 3],\n",
    "            },\n",
    "        },\n",
    "        {\"class\": \"ReLU\", \"kargs\": {\"inplace\": True}},\n",
    "        {\"class\": \"BatchNorm2d\", \"kargs\": {\"num_features\": 256}},\n",
    "        {\n",
    "            \"class\": \"Conv2d\",\n",
    "            \"kargs\": {\n",
    "                \"in_channels\": 256,\n",
    "                \"out_channels\": 80,\n",
    "                \"kernel_size\": [2, 7],\n",
    "                \"bias\": True,\n",
    "                \"padding\": [0, 3],\n",
    "            },\n",
    "        },\n",
    "        {\"class\": \"ReLU\", \"kargs\": {\"inplace\": True}},\n",
    "        {\"class\": \"BatchNorm2d\", \"kargs\": {\"num_features\": 80}},\n",
    "        {\"class\": \"Flatten\", \"kargs\": {}},\n",
    "        {\"class\": \"Linear\", \"kargs\": {\"in_features\": 20480, \"out_features\": 256}},\n",
    "        {\"class\": \"ReLU\", \"kargs\": {\"inplace\": True}},\n",
    "        {\"class\": \"BatchNorm1d\", \"kargs\": {\"num_features\": 256}},\n",
    "        {\"class\": \"Linear\", \"kargs\": {\"in_features\": 256, \"out_features\": 256}},\n",
    "    ],\n",
    "    \"NUM_LOGS_PER_EPOCH\": 10,\n",
    "    \"BEST_MODEL_PATH\": \"./best_model.pth\",\n",
    "    \"pickle_name\": \"oracle.Run2_framed_1300Examples_stratified_ds.2022A.pkl\",\n",
    "}\n"
   ]
  },
  {
   "cell_type": "code",
   "execution_count": 5,
   "id": "8fa1cc33",
   "metadata": {
    "execution": {
     "iopub.execute_input": "2022-03-06T01:35:44.415961Z",
     "iopub.status.busy": "2022-03-06T01:35:44.413758Z",
     "iopub.status.idle": "2022-03-06T01:35:44.421227Z",
     "shell.execute_reply": "2022-03-06T01:35:44.421625Z"
    },
    "papermill": {
     "duration": 0.025747,
     "end_time": "2022-03-06T01:35:44.421743",
     "exception": false,
     "start_time": "2022-03-06T01:35:44.395996",
     "status": "completed"
    },
    "tags": []
   },
   "outputs": [],
   "source": [
    "# Set this to True if you want to run this template directly\n",
    "STANDALONE = False\n",
    "if STANDALONE:\n",
    "    print(\"parameters not injected, running with standalone_parameters\")\n",
    "    parameters = standalone_parameters\n",
    "\n",
    "if not 'parameters' in locals() and not 'parameters' in globals():\n",
    "    raise Exception(\"Parameter injection failed\")\n",
    "\n",
    "#Use an easy dict for all the parameters\n",
    "p = EasyDict(parameters)\n",
    "\n",
    "supplied_keys = set(p.keys())\n",
    "\n",
    "if  supplied_keys != required_parameters:\n",
    "    print(\"Parameters are incorrect\")\n",
    "    if len(supplied_keys - required_parameters)>0: print(\"Shouldn't have:\", str(supplied_keys - required_parameters))\n",
    "    if len(required_parameters - supplied_keys)>0: print(\"Need to have:\", str(required_parameters - supplied_keys))\n",
    "    raise RuntimeError(\"Parameters are incorrect\")\n",
    "\n"
   ]
  },
  {
   "cell_type": "code",
   "execution_count": 6,
   "id": "3a028d58",
   "metadata": {
    "execution": {
     "iopub.execute_input": "2022-03-06T01:35:44.448310Z",
     "iopub.status.busy": "2022-03-06T01:35:44.448051Z",
     "iopub.status.idle": "2022-03-06T01:35:44.459606Z",
     "shell.execute_reply": "2022-03-06T01:35:44.459108Z"
    },
    "papermill": {
     "duration": 0.023273,
     "end_time": "2022-03-06T01:35:44.459710",
     "exception": false,
     "start_time": "2022-03-06T01:35:44.436437",
     "status": "completed"
    },
    "tags": []
   },
   "outputs": [],
   "source": [
    "###################################\n",
    "# Set the RNGs and make it all deterministic\n",
    "###################################\n",
    "np.random.seed(p.seed)\n",
    "random.seed(p.seed)\n",
    "torch.manual_seed(p.seed)\n",
    "\n",
    "torch.use_deterministic_algorithms(True) "
   ]
  },
  {
   "cell_type": "code",
   "execution_count": 7,
   "id": "b691acf6",
   "metadata": {
    "execution": {
     "iopub.execute_input": "2022-03-06T01:35:44.485398Z",
     "iopub.status.busy": "2022-03-06T01:35:44.484991Z",
     "iopub.status.idle": "2022-03-06T01:35:44.499187Z",
     "shell.execute_reply": "2022-03-06T01:35:44.498685Z"
    },
    "papermill": {
     "duration": 0.025888,
     "end_time": "2022-03-06T01:35:44.499286",
     "exception": false,
     "start_time": "2022-03-06T01:35:44.473398",
     "status": "completed"
    },
    "tags": []
   },
   "outputs": [],
   "source": [
    "###########################################\n",
    "# The stratified datasets honor this\n",
    "###########################################\n",
    "torch.set_default_dtype(eval(p.torch_default_dtype))"
   ]
  },
  {
   "cell_type": "code",
   "execution_count": 8,
   "id": "b5fba671",
   "metadata": {
    "execution": {
     "iopub.execute_input": "2022-03-06T01:35:44.524120Z",
     "iopub.status.busy": "2022-03-06T01:35:44.523560Z",
     "iopub.status.idle": "2022-03-06T01:35:44.562843Z",
     "shell.execute_reply": "2022-03-06T01:35:44.563242Z"
    },
    "papermill": {
     "duration": 0.05224,
     "end_time": "2022-03-06T01:35:44.563381",
     "exception": false,
     "start_time": "2022-03-06T01:35:44.511141",
     "status": "completed"
    },
    "tags": []
   },
   "outputs": [],
   "source": [
    "###################################\n",
    "# Build the network(s)\n",
    "# Note: It's critical to do this AFTER setting the RNG\n",
    "# (This is due to the randomized initial weights)\n",
    "###################################\n",
    "x_net = build_sequential(p.x_net)"
   ]
  },
  {
   "cell_type": "code",
   "execution_count": 9,
   "id": "5d7e61cc",
   "metadata": {
    "execution": {
     "iopub.execute_input": "2022-03-06T01:35:44.590167Z",
     "iopub.status.busy": "2022-03-06T01:35:44.589763Z",
     "iopub.status.idle": "2022-03-06T01:35:44.599286Z",
     "shell.execute_reply": "2022-03-06T01:35:44.599013Z"
    },
    "papermill": {
     "duration": 0.021492,
     "end_time": "2022-03-06T01:35:44.599345",
     "exception": false,
     "start_time": "2022-03-06T01:35:44.577853",
     "status": "completed"
    },
    "tags": []
   },
   "outputs": [],
   "source": [
    "start_time_secs = time.time()"
   ]
  },
  {
   "cell_type": "code",
   "execution_count": 10,
   "id": "fd5442bc",
   "metadata": {
    "execution": {
     "iopub.execute_input": "2022-03-06T01:35:44.624773Z",
     "iopub.status.busy": "2022-03-06T01:35:44.624334Z",
     "iopub.status.idle": "2022-03-06T01:35:55.395875Z",
     "shell.execute_reply": "2022-03-06T01:35:55.395430Z"
    },
    "papermill": {
     "duration": 10.786516,
     "end_time": "2022-03-06T01:35:55.395992",
     "exception": false,
     "start_time": "2022-03-06T01:35:44.609476",
     "status": "completed"
    },
    "tags": []
   },
   "outputs": [],
   "source": [
    "###################################\n",
    "# Build the dataset\n",
    "###################################\n",
    "\n",
    "if p.x_transforms_source == []: x_transform_source = None\n",
    "else: x_transform_source = get_chained_transform(p.x_transforms_source) \n",
    "\n",
    "if p.x_transforms_target == []: x_transform_target = None\n",
    "else: x_transform_target = get_chained_transform(p.x_transforms_target)\n",
    "\n",
    "if p.episode_transforms_source == []: episode_transform_source = None\n",
    "else: raise Exception(\"episode_transform_source not implemented\")\n",
    "\n",
    "if p.episode_transforms_target == []: episode_transform_target = None\n",
    "else: raise Exception(\"episode_transform_target not implemented\")\n",
    "\n",
    "\n",
    "eaf_source = Episodic_Accessor_Factory(\n",
    "    labels=p.labels_source,\n",
    "    domains=p.domains_source,\n",
    "    num_examples_per_domain_per_label=p.num_examples_per_domain_per_label_source,\n",
    "    iterator_seed=p.seed,\n",
    "    dataset_seed=p.dataset_seed,\n",
    "    n_shot=p.n_shot,\n",
    "    n_way=p.n_way,\n",
    "    n_query=p.n_query,\n",
    "    train_val_test_k_factors=(p.train_k_factor,p.val_k_factor,p.test_k_factor),\n",
    "    pickle_path=os.path.join(get_datasets_base_path(), p.pickle_name),\n",
    "    x_transform_func=x_transform_source,\n",
    "    example_transform_func=episode_transform_source,\n",
    "    \n",
    ")\n",
    "train_original_source, val_original_source, test_original_source = eaf_source.get_train(), eaf_source.get_val(), eaf_source.get_test()\n",
    "\n",
    "\n",
    "eaf_target = Episodic_Accessor_Factory(\n",
    "    labels=p.labels_target,\n",
    "    domains=p.domains_target,\n",
    "    num_examples_per_domain_per_label=p.num_examples_per_domain_per_label_target,\n",
    "    iterator_seed=p.seed,\n",
    "    dataset_seed=p.dataset_seed,\n",
    "    n_shot=p.n_shot,\n",
    "    n_way=p.n_way,\n",
    "    n_query=p.n_query,\n",
    "    train_val_test_k_factors=(p.train_k_factor,p.val_k_factor,p.test_k_factor),\n",
    "    pickle_path=os.path.join(get_datasets_base_path(), p.pickle_name),\n",
    "    x_transform_func=x_transform_target,\n",
    "    example_transform_func=episode_transform_target,\n",
    ")\n",
    "train_original_target, val_original_target, test_original_target = eaf_target.get_train(), eaf_target.get_val(), eaf_target.get_test()\n",
    "\n",
    "\n",
    "transform_lambda = lambda ex: ex[1] # Original is (<domain>, <episode>) so we strip down to episode only\n",
    "\n",
    "train_processed_source = Lazy_Iterable_Wrapper(train_original_source, transform_lambda)\n",
    "val_processed_source   = Lazy_Iterable_Wrapper(val_original_source, transform_lambda)\n",
    "test_processed_source  = Lazy_Iterable_Wrapper(test_original_source, transform_lambda)\n",
    "\n",
    "train_processed_target = Lazy_Iterable_Wrapper(train_original_target, transform_lambda)\n",
    "val_processed_target   = Lazy_Iterable_Wrapper(val_original_target, transform_lambda)\n",
    "test_processed_target  = Lazy_Iterable_Wrapper(test_original_target, transform_lambda)\n",
    "\n",
    "datasets = EasyDict({\n",
    "    \"source\": {\n",
    "        \"original\": {\"train\":train_original_source, \"val\":val_original_source, \"test\":test_original_source},\n",
    "        \"processed\": {\"train\":train_processed_source, \"val\":val_processed_source, \"test\":test_processed_source}\n",
    "    },\n",
    "    \"target\": {\n",
    "        \"original\": {\"train\":train_original_target, \"val\":val_original_target, \"test\":test_original_target},\n",
    "        \"processed\": {\"train\":train_processed_target, \"val\":val_processed_target, \"test\":test_processed_target}\n",
    "    },\n",
    "})"
   ]
  },
  {
   "cell_type": "code",
   "execution_count": 11,
   "id": "296189d9",
   "metadata": {
    "execution": {
     "iopub.execute_input": "2022-03-06T01:35:55.429466Z",
     "iopub.status.busy": "2022-03-06T01:35:55.424073Z",
     "iopub.status.idle": "2022-03-06T01:35:57.044649Z",
     "shell.execute_reply": "2022-03-06T01:35:57.045055Z"
    },
    "papermill": {
     "duration": 1.635443,
     "end_time": "2022-03-06T01:35:57.045180",
     "exception": false,
     "start_time": "2022-03-06T01:35:55.409737",
     "status": "completed"
    },
    "tags": []
   },
   "outputs": [
    {
     "name": "stdout",
     "output_type": "stream",
     "text": [
      "Visually inspect these to see if they line up with expected values given the transforms\n",
      "x_transforms_source ['unit_power']\n",
      "x_transforms_target ['unit_power']\n",
      "Average magnitude, source: 0.89114726\n",
      "Average power, source: 1.0\n"
     ]
    },
    {
     "name": "stdout",
     "output_type": "stream",
     "text": [
      "Average magnitude, target: 0.89914757\n",
      "Average power, target: 1.0\n"
     ]
    }
   ],
   "source": [
    "# Some quick unit tests on the data\n",
    "from steves_utils.transforms import get_average_power, get_average_magnitude\n",
    "\n",
    "q_x, q_y, s_x, s_y, truth = next(iter(train_processed_source))\n",
    "\n",
    "assert q_x.dtype == eval(p.torch_default_dtype)\n",
    "assert s_x.dtype == eval(p.torch_default_dtype)\n",
    "\n",
    "print(\"Visually inspect these to see if they line up with expected values given the transforms\")\n",
    "print('x_transforms_source', p.x_transforms_source)\n",
    "print('x_transforms_target', p.x_transforms_target)\n",
    "print(\"Average magnitude, source:\", get_average_magnitude(q_x[0].numpy()))\n",
    "print(\"Average power, source:\", get_average_power(q_x[0].numpy()))\n",
    "\n",
    "q_x, q_y, s_x, s_y, truth = next(iter(train_processed_target))\n",
    "print(\"Average magnitude, target:\", get_average_magnitude(q_x[0].numpy()))\n",
    "print(\"Average power, target:\", get_average_power(q_x[0].numpy()))\n"
   ]
  },
  {
   "cell_type": "code",
   "execution_count": 12,
   "id": "bbdacba1",
   "metadata": {
    "execution": {
     "iopub.execute_input": "2022-03-06T01:35:57.073961Z",
     "iopub.status.busy": "2022-03-06T01:35:57.073696Z",
     "iopub.status.idle": "2022-03-06T01:35:57.132112Z",
     "shell.execute_reply": "2022-03-06T01:35:57.132541Z"
    },
    "papermill": {
     "duration": 0.072727,
     "end_time": "2022-03-06T01:35:57.132672",
     "exception": false,
     "start_time": "2022-03-06T01:35:57.059945",
     "status": "completed"
    },
    "tags": []
   },
   "outputs": [
    {
     "name": "stdout",
     "output_type": "stream",
     "text": [
      "(2, 256)\n"
     ]
    }
   ],
   "source": [
    "###################################\n",
    "# Build the model\n",
    "###################################\n",
    "model = Steves_Prototypical_Network(x_net, device=p.device, x_shape=(2,256))\n",
    "optimizer = Adam(params=model.parameters(), lr=p.lr)"
   ]
  },
  {
   "cell_type": "code",
   "execution_count": 13,
   "id": "22b39ac5",
   "metadata": {
    "execution": {
     "iopub.execute_input": "2022-03-06T01:35:57.162960Z",
     "iopub.status.busy": "2022-03-06T01:35:57.162680Z",
     "iopub.status.idle": "2022-03-06T01:39:50.336189Z",
     "shell.execute_reply": "2022-03-06T01:39:50.335677Z"
    },
    "papermill": {
     "duration": 233.187501,
     "end_time": "2022-03-06T01:39:50.336299",
     "exception": false,
     "start_time": "2022-03-06T01:35:57.148798",
     "status": "completed"
    },
    "tags": []
   },
   "outputs": [
    {
     "name": "stdout",
     "output_type": "stream",
     "text": [
      "epoch: 1, [batch: 1 / 1629], examples_per_second: 187.0791, train_label_loss: 2.8164, \n"
     ]
    },
    {
     "name": "stdout",
     "output_type": "stream",
     "text": [
      "epoch: 1, [batch: 163 / 1629], examples_per_second: 3113.8797, train_label_loss: 2.6631, \n"
     ]
    },
    {
     "name": "stdout",
     "output_type": "stream",
     "text": [
      "epoch: 1, [batch: 326 / 1629], examples_per_second: 3156.6303, train_label_loss: 1.6563, \n"
     ]
    },
    {
     "name": "stdout",
     "output_type": "stream",
     "text": [
      "epoch: 1, [batch: 489 / 1629], examples_per_second: 3149.2067, train_label_loss: 1.1939, \n"
     ]
    },
    {
     "name": "stdout",
     "output_type": "stream",
     "text": [
      "epoch: 1, [batch: 652 / 1629], examples_per_second: 3123.2394, train_label_loss: 1.2758, \n"
     ]
    },
    {
     "name": "stdout",
     "output_type": "stream",
     "text": [
      "epoch: 1, [batch: 815 / 1629], examples_per_second: 3148.0357, train_label_loss: 1.6888, \n"
     ]
    },
    {
     "name": "stdout",
     "output_type": "stream",
     "text": [
      "epoch: 1, [batch: 977 / 1629], examples_per_second: 3129.0546, train_label_loss: 1.0124, \n"
     ]
    },
    {
     "name": "stdout",
     "output_type": "stream",
     "text": [
      "epoch: 1, [batch: 1140 / 1629], examples_per_second: 3142.9282, train_label_loss: 1.0676, \n"
     ]
    },
    {
     "name": "stdout",
     "output_type": "stream",
     "text": [
      "epoch: 1, [batch: 1303 / 1629], examples_per_second: 3136.4830, train_label_loss: 1.3044, \n"
     ]
    },
    {
     "name": "stdout",
     "output_type": "stream",
     "text": [
      "epoch: 1, [batch: 1466 / 1629], examples_per_second: 3144.2848, train_label_loss: 0.8661, \n"
     ]
    },
    {
     "name": "stdout",
     "output_type": "stream",
     "text": [
      "=============================================================\n",
      "epoch: 1, source_val_acc_label: 0.5654, target_val_acc_label: 0.2829, source_val_label_loss: 1.0027, target_val_label_loss: 2.1587, \n",
      "=============================================================\n"
     ]
    },
    {
     "name": "stdout",
     "output_type": "stream",
     "text": [
      "New best\n"
     ]
    },
    {
     "name": "stdout",
     "output_type": "stream",
     "text": [
      "epoch: 2, [batch: 1 / 1629], examples_per_second: 16.7899, train_label_loss: 1.4395, \n"
     ]
    },
    {
     "name": "stdout",
     "output_type": "stream",
     "text": [
      "epoch: 2, [batch: 163 / 1629], examples_per_second: 3136.3335, train_label_loss: 0.8362, \n"
     ]
    },
    {
     "name": "stdout",
     "output_type": "stream",
     "text": [
      "epoch: 2, [batch: 326 / 1629], examples_per_second: 3161.3583, train_label_loss: 0.7852, \n"
     ]
    },
    {
     "name": "stdout",
     "output_type": "stream",
     "text": [
      "epoch: 2, [batch: 489 / 1629], examples_per_second: 3154.3550, train_label_loss: 0.8505, \n"
     ]
    },
    {
     "name": "stdout",
     "output_type": "stream",
     "text": [
      "epoch: 2, [batch: 652 / 1629], examples_per_second: 3159.7425, train_label_loss: 0.8975, \n"
     ]
    },
    {
     "name": "stdout",
     "output_type": "stream",
     "text": [
      "epoch: 2, [batch: 815 / 1629], examples_per_second: 3169.1108, train_label_loss: 0.5018, \n"
     ]
    },
    {
     "name": "stdout",
     "output_type": "stream",
     "text": [
      "epoch: 2, [batch: 977 / 1629], examples_per_second: 3162.2681, train_label_loss: 0.4942, \n"
     ]
    },
    {
     "name": "stdout",
     "output_type": "stream",
     "text": [
      "epoch: 2, [batch: 1140 / 1629], examples_per_second: 3133.9242, train_label_loss: 0.8334, \n"
     ]
    },
    {
     "name": "stdout",
     "output_type": "stream",
     "text": [
      "epoch: 2, [batch: 1303 / 1629], examples_per_second: 3145.1344, train_label_loss: 0.8874, \n"
     ]
    },
    {
     "name": "stdout",
     "output_type": "stream",
     "text": [
      "epoch: 2, [batch: 1466 / 1629], examples_per_second: 3154.7600, train_label_loss: 0.5896, \n"
     ]
    },
    {
     "name": "stdout",
     "output_type": "stream",
     "text": [
      "=============================================================\n",
      "epoch: 2, source_val_acc_label: 0.7087, target_val_acc_label: 0.3159, source_val_label_loss: 0.6633, target_val_label_loss: 2.5677, \n",
      "=============================================================\n"
     ]
    },
    {
     "name": "stdout",
     "output_type": "stream",
     "text": [
      "epoch: 3, [batch: 1 / 1629], examples_per_second: 16.9388, train_label_loss: 0.6353, \n"
     ]
    },
    {
     "name": "stdout",
     "output_type": "stream",
     "text": [
      "epoch: 3, [batch: 163 / 1629], examples_per_second: 3147.4186, train_label_loss: 0.9383, \n"
     ]
    },
    {
     "name": "stdout",
     "output_type": "stream",
     "text": [
      "epoch: 3, [batch: 326 / 1629], examples_per_second: 3150.3288, train_label_loss: 0.1371, \n"
     ]
    },
    {
     "name": "stdout",
     "output_type": "stream",
     "text": [
      "epoch: 3, [batch: 489 / 1629], examples_per_second: 3171.6720, train_label_loss: 0.8304, \n"
     ]
    },
    {
     "name": "stdout",
     "output_type": "stream",
     "text": [
      "epoch: 3, [batch: 652 / 1629], examples_per_second: 3165.6951, train_label_loss: 0.4970, \n"
     ]
    },
    {
     "name": "stdout",
     "output_type": "stream",
     "text": [
      "epoch: 3, [batch: 815 / 1629], examples_per_second: 3158.1687, train_label_loss: 0.3595, \n"
     ]
    },
    {
     "name": "stdout",
     "output_type": "stream",
     "text": [
      "epoch: 3, [batch: 977 / 1629], examples_per_second: 3156.1962, train_label_loss: 0.2281, \n"
     ]
    },
    {
     "name": "stdout",
     "output_type": "stream",
     "text": [
      "epoch: 3, [batch: 1140 / 1629], examples_per_second: 3143.5361, train_label_loss: 0.1684, \n"
     ]
    },
    {
     "name": "stdout",
     "output_type": "stream",
     "text": [
      "epoch: 3, [batch: 1303 / 1629], examples_per_second: 3151.5192, train_label_loss: 0.1575, \n"
     ]
    },
    {
     "name": "stdout",
     "output_type": "stream",
     "text": [
      "epoch: 3, [batch: 1466 / 1629], examples_per_second: 3133.6292, train_label_loss: 0.0371, \n"
     ]
    },
    {
     "name": "stdout",
     "output_type": "stream",
     "text": [
      "=============================================================\n",
      "epoch: 3, source_val_acc_label: 0.8892, target_val_acc_label: 0.3851, source_val_label_loss: 0.2936, target_val_label_loss: 2.8108, \n",
      "=============================================================\n"
     ]
    },
    {
     "name": "stdout",
     "output_type": "stream",
     "text": [
      "epoch: 4, [batch: 1 / 1629], examples_per_second: 16.9366, train_label_loss: 0.1395, \n"
     ]
    },
    {
     "name": "stdout",
     "output_type": "stream",
     "text": [
      "epoch: 4, [batch: 163 / 1629], examples_per_second: 3142.3861, train_label_loss: 0.4427, \n"
     ]
    },
    {
     "name": "stdout",
     "output_type": "stream",
     "text": [
      "epoch: 4, [batch: 326 / 1629], examples_per_second: 3158.3512, train_label_loss: 0.0388, \n"
     ]
    },
    {
     "name": "stdout",
     "output_type": "stream",
     "text": [
      "epoch: 4, [batch: 489 / 1629], examples_per_second: 3167.7938, train_label_loss: 0.1671, \n"
     ]
    },
    {
     "name": "stdout",
     "output_type": "stream",
     "text": [
      "epoch: 4, [batch: 652 / 1629], examples_per_second: 3161.2622, train_label_loss: 0.1000, \n"
     ]
    },
    {
     "name": "stdout",
     "output_type": "stream",
     "text": [
      "epoch: 4, [batch: 815 / 1629], examples_per_second: 3169.3912, train_label_loss: 0.0101, \n"
     ]
    },
    {
     "name": "stdout",
     "output_type": "stream",
     "text": [
      "epoch: 4, [batch: 977 / 1629], examples_per_second: 3156.5923, train_label_loss: 0.4519, \n"
     ]
    },
    {
     "name": "stdout",
     "output_type": "stream",
     "text": [
      "epoch: 4, [batch: 1140 / 1629], examples_per_second: 3171.0352, train_label_loss: 0.1353, \n"
     ]
    },
    {
     "name": "stdout",
     "output_type": "stream",
     "text": [
      "epoch: 4, [batch: 1303 / 1629], examples_per_second: 3168.5741, train_label_loss: 0.0306, \n"
     ]
    },
    {
     "name": "stdout",
     "output_type": "stream",
     "text": [
      "epoch: 4, [batch: 1466 / 1629], examples_per_second: 3154.3823, train_label_loss: 0.1253, \n"
     ]
    },
    {
     "name": "stdout",
     "output_type": "stream",
     "text": [
      "=============================================================\n",
      "epoch: 4, source_val_acc_label: 0.9386, target_val_acc_label: 0.4099, source_val_label_loss: 0.1691, target_val_label_loss: 2.9061, \n",
      "=============================================================\n"
     ]
    },
    {
     "name": "stdout",
     "output_type": "stream",
     "text": [
      "epoch: 5, [batch: 1 / 1629], examples_per_second: 16.9034, train_label_loss: 0.1102, \n"
     ]
    },
    {
     "name": "stdout",
     "output_type": "stream",
     "text": [
      "epoch: 5, [batch: 163 / 1629], examples_per_second: 3149.0686, train_label_loss: 0.0253, \n"
     ]
    },
    {
     "name": "stdout",
     "output_type": "stream",
     "text": [
      "epoch: 5, [batch: 326 / 1629], examples_per_second: 3164.2931, train_label_loss: 0.0247, \n"
     ]
    },
    {
     "name": "stdout",
     "output_type": "stream",
     "text": [
      "epoch: 5, [batch: 489 / 1629], examples_per_second: 3169.5396, train_label_loss: 0.0111, \n"
     ]
    },
    {
     "name": "stdout",
     "output_type": "stream",
     "text": [
      "epoch: 5, [batch: 652 / 1629], examples_per_second: 3148.2508, train_label_loss: 0.0527, \n"
     ]
    },
    {
     "name": "stdout",
     "output_type": "stream",
     "text": [
      "epoch: 5, [batch: 815 / 1629], examples_per_second: 3168.5677, train_label_loss: 0.1867, \n"
     ]
    },
    {
     "name": "stdout",
     "output_type": "stream",
     "text": [
      "epoch: 5, [batch: 977 / 1629], examples_per_second: 3168.8921, train_label_loss: 0.1605, \n"
     ]
    },
    {
     "name": "stdout",
     "output_type": "stream",
     "text": [
      "epoch: 5, [batch: 1140 / 1629], examples_per_second: 3161.6564, train_label_loss: 0.2756, \n"
     ]
    },
    {
     "name": "stdout",
     "output_type": "stream",
     "text": [
      "epoch: 5, [batch: 1303 / 1629], examples_per_second: 3159.0539, train_label_loss: 0.0893, \n"
     ]
    },
    {
     "name": "stdout",
     "output_type": "stream",
     "text": [
      "epoch: 5, [batch: 1466 / 1629], examples_per_second: 3164.6747, train_label_loss: 0.0016, \n"
     ]
    },
    {
     "name": "stdout",
     "output_type": "stream",
     "text": [
      "=============================================================\n",
      "epoch: 5, source_val_acc_label: 0.9582, target_val_acc_label: 0.4076, source_val_label_loss: 0.1144, target_val_label_loss: 3.1118, \n",
      "=============================================================\n"
     ]
    },
    {
     "name": "stdout",
     "output_type": "stream",
     "text": [
      "Patience (3) exhausted\n"
     ]
    }
   ],
   "source": [
    "###################################\n",
    "# train\n",
    "###################################\n",
    "jig = PTN_Train_Eval_Test_Jig(model, p.BEST_MODEL_PATH, p.device)\n",
    "\n",
    "jig.train(\n",
    "    train_iterable=datasets.source.processed.train,\n",
    "    source_val_iterable=datasets.source.processed.val,\n",
    "    target_val_iterable=datasets.target.processed.val,\n",
    "    num_epochs=p.n_epoch,\n",
    "    num_logs_per_epoch=p.NUM_LOGS_PER_EPOCH,\n",
    "    patience=p.patience,\n",
    "    optimizer=optimizer,\n",
    "    criteria_for_best=p.criteria_for_best,\n",
    ")"
   ]
  },
  {
   "cell_type": "code",
   "execution_count": 14,
   "id": "31e8fabf",
   "metadata": {
    "execution": {
     "iopub.execute_input": "2022-03-06T01:39:50.381294Z",
     "iopub.status.busy": "2022-03-06T01:39:50.381040Z",
     "iopub.status.idle": "2022-03-06T01:39:50.396470Z",
     "shell.execute_reply": "2022-03-06T01:39:50.396046Z"
    },
    "papermill": {
     "duration": 0.03843,
     "end_time": "2022-03-06T01:39:50.396584",
     "exception": false,
     "start_time": "2022-03-06T01:39:50.358154",
     "status": "completed"
    },
    "tags": []
   },
   "outputs": [],
   "source": [
    "total_experiment_time_secs = time.time() - start_time_secs"
   ]
  },
  {
   "cell_type": "code",
   "execution_count": 15,
   "id": "87b9595b",
   "metadata": {
    "execution": {
     "iopub.execute_input": "2022-03-06T01:39:50.447727Z",
     "iopub.status.busy": "2022-03-06T01:39:50.447454Z",
     "iopub.status.idle": "2022-03-06T01:40:22.907814Z",
     "shell.execute_reply": "2022-03-06T01:40:22.907359Z"
    },
    "papermill": {
     "duration": 32.485237,
     "end_time": "2022-03-06T01:40:22.907923",
     "exception": false,
     "start_time": "2022-03-06T01:39:50.422686",
     "status": "completed"
    },
    "tags": []
   },
   "outputs": [],
   "source": [
    "###################################\n",
    "# Evaluate the model\n",
    "###################################\n",
    "source_test_label_accuracy, source_test_label_loss = jig.test(datasets.source.processed.test)\n",
    "target_test_label_accuracy, target_test_label_loss = jig.test(datasets.target.processed.test)\n",
    "\n",
    "source_val_label_accuracy, source_val_label_loss = jig.test(datasets.source.processed.val)\n",
    "target_val_label_accuracy, target_val_label_loss = jig.test(datasets.target.processed.val)\n",
    "\n",
    "history = jig.get_history()\n",
    "\n",
    "total_epochs_trained = len(history[\"epoch_indices\"])\n",
    "\n",
    "val_dl = Iterable_Aggregator((datasets.source.original.val,datasets.target.original.val))\n",
    "\n",
    "confusion = ptn_confusion_by_domain_over_dataloader(model, p.device, val_dl)\n",
    "per_domain_accuracy = per_domain_accuracy_from_confusion(confusion)\n",
    "\n",
    "# Add a key to per_domain_accuracy for if it was a source domain\n",
    "for domain, accuracy in per_domain_accuracy.items():\n",
    "    per_domain_accuracy[domain] = {\n",
    "        \"accuracy\": accuracy,\n",
    "        \"source?\": domain in p.domains_source\n",
    "    }\n",
    "\n",
    "# Do an independent accuracy assesment JUST TO BE SURE!\n",
    "# _source_test_label_accuracy = independent_accuracy_assesment(model, datasets.source.processed.test, p.device)\n",
    "# _target_test_label_accuracy = independent_accuracy_assesment(model, datasets.target.processed.test, p.device)\n",
    "# _source_val_label_accuracy = independent_accuracy_assesment(model, datasets.source.processed.val, p.device)\n",
    "# _target_val_label_accuracy = independent_accuracy_assesment(model, datasets.target.processed.val, p.device)\n",
    "\n",
    "# assert(_source_test_label_accuracy == source_test_label_accuracy)\n",
    "# assert(_target_test_label_accuracy == target_test_label_accuracy)\n",
    "# assert(_source_val_label_accuracy == source_val_label_accuracy)\n",
    "# assert(_target_val_label_accuracy == target_val_label_accuracy)\n",
    "\n",
    "experiment = {\n",
    "    \"experiment_name\": p.experiment_name,\n",
    "    \"parameters\": dict(p),\n",
    "    \"results\": {\n",
    "        \"source_test_label_accuracy\": source_test_label_accuracy,\n",
    "        \"source_test_label_loss\": source_test_label_loss,\n",
    "        \"target_test_label_accuracy\": target_test_label_accuracy,\n",
    "        \"target_test_label_loss\": target_test_label_loss,\n",
    "        \"source_val_label_accuracy\": source_val_label_accuracy,\n",
    "        \"source_val_label_loss\": source_val_label_loss,\n",
    "        \"target_val_label_accuracy\": target_val_label_accuracy,\n",
    "        \"target_val_label_loss\": target_val_label_loss,\n",
    "        \"total_epochs_trained\": total_epochs_trained,\n",
    "        \"total_experiment_time_secs\": total_experiment_time_secs,\n",
    "        \"confusion\": confusion,\n",
    "        \"per_domain_accuracy\": per_domain_accuracy,\n",
    "    },\n",
    "    \"history\": history,\n",
    "    \"dataset_metrics\": get_dataset_metrics(datasets, \"ptn\"),\n",
    "}"
   ]
  },
  {
   "cell_type": "code",
   "execution_count": 16,
   "id": "54a21829",
   "metadata": {
    "execution": {
     "iopub.execute_input": "2022-03-06T01:40:22.956552Z",
     "iopub.status.busy": "2022-03-06T01:40:22.956293Z",
     "iopub.status.idle": "2022-03-06T01:40:23.138985Z",
     "shell.execute_reply": "2022-03-06T01:40:23.139452Z"
    },
    "papermill": {
     "duration": 0.205921,
     "end_time": "2022-03-06T01:40:23.139594",
     "exception": false,
     "start_time": "2022-03-06T01:40:22.933673",
     "status": "completed"
    },
    "tags": []
   },
   "outputs": [
    {
     "data": {
      "image/png": "[encoded data removed]",
      "text/plain": [
       "<Figure size 1080x504 with 1 Axes>"
      ]
     },
     "metadata": {
      "needs_background": "light"
     },
     "output_type": "display_data"
    }
   ],
   "source": [
    "ax = get_loss_curve(experiment)\n",
    "plt.show()"
   ]
  },
  {
   "cell_type": "code",
   "execution_count": 17,
   "id": "fd8a0f60",
   "metadata": {
    "execution": {
     "iopub.execute_input": "2022-03-06T01:40:23.190490Z",
     "iopub.status.busy": "2022-03-06T01:40:23.189622Z",
     "iopub.status.idle": "2022-03-06T01:40:23.368916Z",
     "shell.execute_reply": "2022-03-06T01:40:23.369334Z"
    },
    "papermill": {
     "duration": 0.203446,
     "end_time": "2022-03-06T01:40:23.369464",
     "exception": false,
     "start_time": "2022-03-06T01:40:23.166018",
     "status": "completed"
    },
    "tags": []
   },
   "outputs": [
    {
     "data": {
      "text/plain": [
       "<matplotlib.axes._subplots.AxesSubplot at 0x7f73dc4e2820>"
      ]
     },
     "execution_count": 17,
     "metadata": {},
     "output_type": "execute_result"
    },
    {
     "data": {
      "image/png": "[encoded data removed]",
      "text/plain": [
       "<Figure size 1080x504 with 1 Axes>"
      ]
     },
     "metadata": {
      "needs_background": "light"
     },
     "output_type": "display_data"
    }
   ],
   "source": [
    "get_results_table(experiment)"
   ]
  },
  {
   "cell_type": "code",
   "execution_count": 18,
   "id": "cf8dc689",
   "metadata": {
    "execution": {
     "iopub.execute_input": "2022-03-06T01:40:23.424035Z",
     "iopub.status.busy": "2022-03-06T01:40:23.422995Z",
     "iopub.status.idle": "2022-03-06T01:40:23.597829Z",
     "shell.execute_reply": "2022-03-06T01:40:23.597377Z"
    },
    "papermill": {
     "duration": 0.199096,
     "end_time": "2022-03-06T01:40:23.597924",
     "exception": false,
     "start_time": "2022-03-06T01:40:23.398828",
     "status": "completed"
    },
    "tags": []
   },
   "outputs": [
    {
     "data": {
      "text/plain": [
       "<matplotlib.axes._subplots.AxesSubplot at 0x7f73dc5a2a90>"
      ]
     },
     "execution_count": 18,
     "metadata": {},
     "output_type": "execute_result"
    },
    {
     "data": {
      "image/png": "[encoded data removed]",
      "text/plain": [
       "<Figure size 1080x504 with 1 Axes>"
      ]
     },
     "metadata": {
      "needs_background": "light"
     },
     "output_type": "display_data"
    }
   ],
   "source": [
    "get_domain_accuracies(experiment)"
   ]
  },
  {
   "cell_type": "code",
   "execution_count": 19,
   "id": "a74ae082",
   "metadata": {
    "execution": {
     "iopub.execute_input": "2022-03-06T01:40:23.653536Z",
     "iopub.status.busy": "2022-03-06T01:40:23.653129Z",
     "iopub.status.idle": "2022-03-06T01:40:23.668299Z",
     "shell.execute_reply": "2022-03-06T01:40:23.667844Z"
    },
    "papermill": {
     "duration": 0.040861,
     "end_time": "2022-03-06T01:40:23.668392",
     "exception": false,
     "start_time": "2022-03-06T01:40:23.627531",
     "status": "completed"
    },
    "tags": []
   },
   "outputs": [
    {
     "name": "stdout",
     "output_type": "stream",
     "text": [
      "Source Test Label Accuracy: 0.5594284188034188 Target Test Label Accuracy: 0.2721955128205128\n",
      "Source Val Label Accuracy: 0.5654380341880342 Target Val Label Accuracy: 0.2829326923076923\n"
     ]
    }
   ],
   "source": [
    "print(\"Source Test Label Accuracy:\", experiment[\"results\"][\"source_test_label_accuracy\"], \"Target Test Label Accuracy:\", experiment[\"results\"][\"target_test_label_accuracy\"])\n",
    "print(\"Source Val Label Accuracy:\", experiment[\"results\"][\"source_val_label_accuracy\"], \"Target Val Label Accuracy:\", experiment[\"results\"][\"target_val_label_accuracy\"])"
   ]
  },
  {
   "cell_type": "code",
   "execution_count": 20,
   "id": "dacca602",
   "metadata": {
    "execution": {
     "iopub.execute_input": "2022-03-06T01:40:23.730543Z",
     "iopub.status.busy": "2022-03-06T01:40:23.722211Z",
     "iopub.status.idle": "2022-03-06T01:40:23.739128Z",
     "shell.execute_reply": "2022-03-06T01:40:23.739502Z"
    },
    "papermill": {
     "duration": 0.042648,
     "end_time": "2022-03-06T01:40:23.739608",
     "exception": false,
     "start_time": "2022-03-06T01:40:23.696960",
     "status": "completed"
    },
    "tags": [
     "experiment_json"
    ]
   },
   "outputs": [
    {
     "data": {
      "text/plain": [
       "'{\"experiment_name\": \"tuned_1_oracle.run2.framed\", \"parameters\": {\"experiment_name\": \"tuned_1_oracle.run2.framed\", \"device\": \"cuda\", \"lr\": 0.001, \"seed\": 1337, \"dataset_seed\": 1337, \"labels_source\": [\"3123D52\", \"3123D65\", \"3123D79\", \"3123D80\", \"3123D54\", \"3123D70\", \"3123D7B\", \"3123D89\", \"3123D58\", \"3123D76\", \"3123D7D\", \"3123EFE\", \"3123D64\", \"3123D78\", \"3123D7E\", \"3124E4A\"], \"labels_target\": [\"3123D52\", \"3123D65\", \"3123D79\", \"3123D80\", \"3123D54\", \"3123D70\", \"3123D7B\", \"3123D89\", \"3123D58\", \"3123D76\", \"3123D7D\", \"3123EFE\", \"3123D64\", \"3123D78\", \"3123D7E\", \"3124E4A\"], \"x_transforms_source\": [\"unit_power\"], \"x_transforms_target\": [\"unit_power\"], \"episode_transforms_source\": [], \"episode_transforms_target\": [], \"domains_source\": [8, 32, 50], \"domains_target\": [14, 20, 26, 38, 44], \"num_examples_per_domain_per_label_source\": 1300, \"num_examples_per_domain_per_label_target\": 1300, \"n_shot\": 3, \"n_way\": 16, \"n_query\": 2, \"train_k_factor\": 3, \"val_k_factor\": 2, \"test_k_factor\": 2, \"torch_default_dtype\": \"torch.float32\", \"n_epoch\": 50, \"patience\": 3, \"criteria_for_best\": \"target_loss\", \"x_net\": [{\"class\": \"nnReshape\", \"kargs\": {\"shape\": [-1, 1, 2, 256]}}, {\"class\": \"Conv2d\", \"kargs\": {\"in_channels\": 1, \"out_channels\": 256, \"kernel_size\": [1, 7], \"bias\": false, \"padding\": [0, 3]}}, {\"class\": \"ReLU\", \"kargs\": {\"inplace\": true}}, {\"class\": \"BatchNorm2d\", \"kargs\": {\"num_features\": 256}}, {\"class\": \"Conv2d\", \"kargs\": {\"in_channels\": 256, \"out_channels\": 80, \"kernel_size\": [2, 7], \"bias\": true, \"padding\": [0, 3]}}, {\"class\": \"ReLU\", \"kargs\": {\"inplace\": true}}, {\"class\": \"BatchNorm2d\", \"kargs\": {\"num_features\": 80}}, {\"class\": \"Flatten\", \"kargs\": {}}, {\"class\": \"Linear\", \"kargs\": {\"in_features\": 20480, \"out_features\": 256}}, {\"class\": \"ReLU\", \"kargs\": {\"inplace\": true}}, {\"class\": \"BatchNorm1d\", \"kargs\": {\"num_features\": 256}}, {\"class\": \"Linear\", \"kargs\": {\"in_features\": 256, \"out_features\": 256}}], \"NUM_LOGS_PER_EPOCH\": 10, \"BEST_MODEL_PATH\": \"./best_model.pth\", \"pickle_name\": \"oracle.Run2_framed_1300Examples_stratified_ds.2022A.pkl\"}, \"results\": {\"source_test_label_accuracy\": 0.5594284188034188, \"source_test_label_loss\": 1.0057494640350342, \"target_test_label_accuracy\": 0.2721955128205128, \"target_test_label_loss\": 2.1682589054107666, \"source_val_label_accuracy\": 0.5654380341880342, \"source_val_label_loss\": 1.0026527643203735, \"target_val_label_accuracy\": 0.2829326923076923, \"target_val_label_loss\": 2.158651828765869, \"total_epochs_trained\": 5, \"total_experiment_time_secs\": 245.79650783538818, \"confusion\": {\"8\": {\"15\": {\"11\": 41, \"15\": 61, \"8\": 27, \"2\": 12, \"12\": 6, \"7\": 9}, \"3\": {\"3\": 132, \"12\": 24}, \"6\": {\"14\": 52, \"6\": 61, \"13\": 12, \"0\": 7, \"4\": 22, \"7\": 1, \"2\": 1}, \"1\": {\"1\": 60, \"5\": 6, \"10\": 66, \"0\": 18, \"13\": 6}, \"8\": {\"15\": 29, \"8\": 57, \"7\": 29, \"2\": 27, \"11\": 5, \"4\": 9}, \"10\": {\"1\": 61, \"10\": 63, \"0\": 15, \"5\": 8, \"13\": 9}, \"9\": {\"9\": 149, \"5\": 7}, \"13\": {\"13\": 66, \"0\": 50, \"6\": 14, \"10\": 5, \"14\": 16, \"1\": 5}, \"12\": {\"12\": 98, \"11\": 34, \"15\": 4, \"3\": 19, \"8\": 1}, \"5\": {\"5\": 128, \"10\": 9, \"1\": 7, \"9\": 12}, \"0\": {\"0\": 72, \"10\": 8, \"1\": 10, \"13\": 60, \"6\": 3, \"14\": 3}, \"2\": {\"4\": 28, \"7\": 33, \"2\": 55, \"15\": 4, \"8\": 34, \"14\": 2}, \"11\": {\"11\": 87, \"12\": 26, \"15\": 35, \"8\": 7, \"7\": 1}, \"14\": {\"14\": 50, \"6\": 54, \"4\": 36, \"2\": 3, \"0\": 5, \"13\": 7, \"7\": 1}, \"7\": {\"7\": 44, \"15\": 12, \"2\": 50, \"8\": 33, \"4\": 15, \"6\": 1, \"14\": 1}, \"4\": {\"4\": 64, \"14\": 30, \"6\": 30, \"2\": 19, \"7\": 10, \"13\": 2, \"8\": 1}}, \"50\": {\"3\": {\"3\": 152, \"8\": 4}, \"15\": {\"14\": 59, \"1\": 22, \"15\": 73, \"12\": 2}, \"8\": {\"8\": 149, \"13\": 4, \"3\": 3}, \"4\": {\"6\": 37, \"4\": 67, \"2\": 49, \"0\": 2, \"5\": 1}, \"14\": {\"14\": 79, \"12\": 11, \"15\": 64, \"1\": 2}, \"0\": {\"5\": 48, \"7\": 47, \"2\": 6, \"0\": 49, \"10\": 6}, \"7\": {\"7\": 65, \"10\": 28, \"5\": 14, \"0\": 47, \"2\": 1, \"13\": 1}, \"6\": {\"6\": 98, \"4\": 24, \"1\": 26, \"2\": 8}, \"10\": {\"10\": 104, \"7\": 28, \"0\": 8, \"13\": 15, \"5\": 1}, \"5\": {\"5\": 78, \"2\": 15, \"0\": 47, \"4\": 5, \"7\": 10, \"10\": 1}, \"2\": {\"4\": 44, \"2\": 80, \"5\": 21, \"6\": 4, \"0\": 7}, \"12\": {\"12\": 103, \"14\": 13, \"11\": 40}, \"9\": {\"9\": 129, \"11\": 27}, \"1\": {\"15\": 22, \"1\": 116, \"6\": 16, \"14\": 2}, \"11\": {\"11\": 98, \"12\": 47, \"9\": 11}, \"13\": {\"10\": 29, \"13\": 116, \"7\": 1, \"8\": 10}}, \"32\": {\"5\": {\"5\": 37, \"4\": 34, \"0\": 27, \"7\": 30, \"8\": 4, \"13\": 16, \"15\": 3, \"11\": 4, \"14\": 1}, \"8\": {\"7\": 23, \"15\": 35, \"8\": 50, \"3\": 6, \"13\": 35, \"5\": 4, \"4\": 2, \"0\": 1}, \"11\": {\"14\": 53, \"11\": 42, \"4\": 15, \"5\": 8, \"0\": 23, \"2\": 13, \"7\": 2}, \"1\": {\"1\": 156}, \"10\": {\"10\": 153, \"6\": 3}, \"15\": {\"15\": 52, \"13\": 27, \"8\": 33, \"3\": 32, \"7\": 11, \"4\": 1}, \"3\": {\"3\": 115, \"15\": 35, \"13\": 1, \"8\": 4, \"7\": 1}, \"7\": {\"5\": 33, \"15\": 1, \"0\": 5, \"4\": 19, \"7\": 40, \"8\": 26, \"13\": 32}, \"4\": {\"4\": 48, \"0\": 47, \"5\": 22, \"11\": 13, \"7\": 14, \"13\": 6, \"14\": 5, \"8\": 1}, \"14\": {\"4\": 5, \"11\": 55, \"0\": 4, \"2\": 26, \"14\": 65, \"5\": 1}, \"9\": {\"9\": 150, \"2\": 6}, \"12\": {\"12\": 152, \"6\": 4}, \"6\": {\"6\": 152, \"10\": 3, \"12\": 1}, \"2\": {\"14\": 29, \"2\": 118, \"11\": 9}, \"0\": {\"4\": 40, \"11\": 12, \"5\": 30, \"0\": 50, \"14\": 9, \"7\": 14, \"8\": 1}, \"13\": {\"8\": 25, \"0\": 5, \"13\": 51, \"5\": 10, \"7\": 38, \"15\": 20, \"4\": 7}}, \"14\": {\"15\": {\"2\": 12, \"7\": 44, \"15\": 60, \"13\": 39, \"14\": 1}, \"3\": {\"0\": 44, \"3\": 54, \"4\": 27, \"5\": 11, \"1\": 10, \"10\": 5, \"14\": 3, \"6\": 2}, \"6\": {\"2\": 21, \"4\": 7, \"6\": 38, \"14\": 41, \"5\": 15, \"1\": 23, \"3\": 1, \"7\": 5, \"13\": 5}, \"1\": {\"6\": 27, \"5\": 40, \"14\": 13, \"1\": 26, \"4\": 32, \"7\": 1, \"2\": 3, \"3\": 13, \"0\": 1}, \"8\": {\"0\": 17, \"12\": 13, \"8\": 71, \"10\": 48, \"11\": 7}, \"10\": {\"0\": 46, \"3\": 10, \"10\": 41, \"8\": 40, \"12\": 15, \"11\": 4}, \"9\": {\"11\": 47, \"9\": 75, \"12\": 29, \"8\": 3, \"10\": 2}, \"13\": {\"15\": 45, \"13\": 45, \"7\": 38, \"2\": 24, \"14\": 2, \"6\": 2}, \"12\": {\"12\": 50, \"9\": 34, \"11\": 52, \"8\": 13, \"10\": 6, \"0\": 1}, \"5\": {\"4\": 43, \"14\": 14, \"5\": 26, \"2\": 3, \"3\": 18, \"0\": 6, \"6\": 22, \"1\": 23, \"10\": 1}, \"0\": {\"0\": 63, \"10\": 35, \"4\": 5, \"3\": 24, \"1\": 1, \"8\": 27, \"5\": 1}, \"2\": {\"2\": 34, \"7\": 27, \"6\": 23, \"15\": 16, \"13\": 31, \"14\": 18, \"5\": 5, \"1\": 1, \"4\": 1}, \"11\": {\"11\": 73, \"12\": 46, \"9\": 32, \"10\": 2, \"8\": 3}, \"14\": {\"1\": 23, \"14\": 22, \"6\": 32, \"3\": 5, \"5\": 15, \"7\": 14, \"2\": 19, \"4\": 14, \"13\": 11, \"15\": 1}, \"7\": {\"13\": 30, \"7\": 41, \"15\": 47, \"14\": 5, \"6\": 7, \"2\": 25, \"1\": 1}, \"4\": {\"14\": 10, \"3\": 30, \"1\": 34, \"5\": 29, \"0\": 6, \"4\": 39, \"6\": 8}}, \"20\": {\"3\": {\"3\": 19, \"10\": 16, \"11\": 26, \"14\": 16, \"8\": 21, \"7\": 17, \"1\": 4, \"9\": 19, \"6\": 3, \"15\": 5, \"2\": 6, \"4\": 2, \"0\": 1, \"5\": 1}, \"15\": {\"15\": 25, \"2\": 23, \"4\": 15, \"1\": 11, \"9\": 18, \"13\": 10, \"11\": 3, \"7\": 8, \"5\": 13, \"0\": 15, \"3\": 4, \"12\": 9, \"10\": 2}, \"8\": {\"2\": 6, \"3\": 20, \"8\": 22, \"7\": 25, \"9\": 15, \"10\": 17, \"11\": 27, \"1\": 2, \"14\": 16, \"15\": 2, \"4\": 1, \"6\": 2, \"13\": 1}, \"4\": {\"2\": 18, \"12\": 21, \"4\": 21, \"13\": 21, \"15\": 12, \"5\": 23, \"7\": 4, \"0\": 12, \"11\": 2, \"9\": 9, \"1\": 12, \"3\": 1}, \"14\": {\"6\": 20, \"11\": 25, \"3\": 22, \"10\": 26, \"14\": 20, \"15\": 1, \"8\": 17, \"2\": 2, \"9\": 9, \"7\": 14}, \"0\": {\"12\": 21, \"1\": 17, \"0\": 32, \"4\": 13, \"13\": 17, \"7\": 2, \"2\": 9, \"5\": 32, \"15\": 8, \"11\": 1, \"8\": 2, \"9\": 2}, \"7\": {\"7\": 26, \"3\": 19, \"1\": 3, \"9\": 26, \"10\": 16, \"8\": 14, \"6\": 4, \"14\": 13, \"15\": 5, \"2\": 9, \"11\": 16, \"4\": 4, \"0\": 1}, \"6\": {\"6\": 123, \"14\": 20, \"7\": 1, \"10\": 7, \"8\": 2, \"11\": 3}, \"10\": {\"10\": 36, \"11\": 15, \"3\": 13, \"14\": 35, \"15\": 1, \"8\": 28, \"6\": 16, \"7\": 10, \"2\": 1, \"9\": 1}, \"5\": {\"2\": 10, \"5\": 38, \"12\": 22, \"0\": 34, \"1\": 12, \"13\": 15, \"15\": 9, \"9\": 3, \"3\": 1, \"4\": 11, \"7\": 1}, \"2\": {\"15\": 30, \"1\": 18, \"9\": 14, \"7\": 7, \"2\": 34, \"12\": 7, \"3\": 5, \"13\": 11, \"4\": 16, \"5\": 7, \"0\": 4, \"10\": 2, \"8\": 1}, \"12\": {\"4\": 26, \"5\": 27, \"0\": 21, \"2\": 8, \"1\": 16, \"13\": 17, \"12\": 28, \"9\": 5, \"15\": 8}, \"9\": {\"12\": 9, \"7\": 11, \"11\": 8, \"8\": 9, \"14\": 2, \"15\": 29, \"4\": 10, \"13\": 4, \"10\": 5, \"1\": 13, \"3\": 7, \"9\": 18, \"2\": 21, \"5\": 5, \"0\": 5}, \"1\": {\"12\": 20, \"0\": 25, \"13\": 16, \"2\": 14, \"7\": 3, \"5\": 13, \"9\": 9, \"4\": 17, \"1\": 19, \"15\": 13, \"3\": 4, \"11\": 2, \"10\": 1}, \"11\": {\"10\": 19, \"11\": 22, \"3\": 21, \"15\": 13, \"9\": 12, \"14\": 15, \"7\": 17, \"6\": 3, \"8\": 23, \"2\": 6, \"0\": 1, \"4\": 2, \"5\": 1, \"12\": 1}, \"13\": {\"15\": 25, \"1\": 16, \"5\": 14, \"12\": 10, \"13\": 22, \"2\": 17, \"4\": 24, \"0\": 19, \"3\": 1, \"9\": 5, \"7\": 1, \"8\": 1, \"11\": 1}}, \"44\": {\"5\": {\"5\": 55, \"15\": 17, \"0\": 24, \"8\": 58, \"14\": 2}, \"8\": {\"5\": 46, \"8\": 71, \"15\": 26, \"0\": 9, \"14\": 4}, \"11\": {\"6\": 8, \"11\": 22, \"10\": 23, \"1\": 24, \"7\": 20, \"12\": 19, \"3\": 20, \"9\": 17, \"2\": 3}, \"1\": {\"9\": 7, \"6\": 5, \"3\": 25, \"1\": 36, \"12\": 25, \"11\": 24, \"7\": 16, \"10\": 15, \"2\": 3}, \"10\": {\"12\": 47, \"11\": 13, \"1\": 21, \"10\": 59, \"3\": 10, \"7\": 6}, \"15\": {\"15\": 99, \"8\": 13, \"14\": 35, \"5\": 8, \"4\": 1}, \"3\": {\"11\": 31, \"6\": 10, \"1\": 21, \"3\": 34, \"7\": 20, \"10\": 8, \"9\": 12, \"12\": 13, \"2\": 7}, \"7\": {\"11\": 18, \"3\": 32, \"12\": 7, \"7\": 29, \"1\": 23, \"6\": 14, \"9\": 17, \"2\": 10, \"10\": 6}, \"4\": {\"4\": 91, \"13\": 36, \"14\": 23, \"15\": 6}, \"14\": {\"14\": 93, \"15\": 35, \"8\": 1, \"5\": 2, \"4\": 23, \"13\": 2}, \"9\": {\"13\": 20, \"6\": 39, \"3\": 17, \"2\": 29, \"1\": 5, \"7\": 14, \"9\": 21, \"11\": 11}, \"12\": {\"12\": 42, \"7\": 10, \"3\": 19, \"1\": 28, \"11\": 18, \"10\": 36, \"9\": 2, \"6\": 1}, \"6\": {\"6\": 38, \"7\": 19, \"2\": 55, \"1\": 1, \"11\": 4, \"9\": 33, \"3\": 5, \"10\": 1}, \"2\": {\"6\": 35, \"9\": 28, \"2\": 55, \"7\": 14, \"11\": 13, \"12\": 3, \"3\": 5, \"13\": 1, \"1\": 1, \"10\": 1}, \"0\": {\"0\": 133, \"8\": 9, \"5\": 14}, \"13\": {\"6\": 6, \"13\": 92, \"4\": 41, \"2\": 9, \"14\": 2, \"9\": 6}}, \"38\": {\"14\": {\"14\": 124, \"11\": 15, \"2\": 17}, \"0\": {\"0\": 110, \"9\": 22, \"3\": 23, \"6\": 1}, \"13\": {\"13\": 16, \"6\": 13, \"1\": 27, \"8\": 15, \"4\": 12, \"12\": 9, \"5\": 17, \"7\": 16, \"15\": 20, \"10\": 7, \"11\": 3, \"9\": 1}, \"7\": {\"10\": 21, \"7\": 24, \"15\": 8, \"6\": 24, \"13\": 13, \"4\": 8, \"1\": 7, \"8\": 34, \"3\": 4, \"5\": 9, \"9\": 2, \"12\": 2}, \"9\": {\"3\": 47, \"0\": 35, \"9\": 64, \"6\": 10}, \"3\": {\"0\": 25, \"3\": 39, \"9\": 50, \"6\": 28, \"7\": 6, \"8\": 4, \"10\": 4}, \"11\": {\"12\": 29, \"2\": 33, \"11\": 41, \"14\": 48, \"1\": 1, \"13\": 1, \"5\": 3}, \"6\": {\"9\": 16, \"8\": 12, \"3\": 19, \"6\": 62, \"15\": 4, \"10\": 18, \"7\": 16, \"4\": 2, \"13\": 5, \"1\": 1, \"0\": 1}, \"8\": {\"13\": 12, \"1\": 18, \"7\": 18, \"10\": 17, \"8\": 14, \"6\": 41, \"15\": 13, \"4\": 12, \"3\": 3, \"5\": 5, \"9\": 2, \"12\": 1}, \"4\": {\"4\": 20, \"7\": 18, \"5\": 20, \"8\": 16, \"15\": 20, \"13\": 24, \"10\": 14, \"1\": 19, \"12\": 4, \"6\": 1}, \"5\": {\"12\": 24, \"13\": 22, \"15\": 14, \"1\": 31, \"5\": 29, \"10\": 5, \"8\": 9, \"4\": 14, \"7\": 6, \"11\": 2}, \"10\": {\"15\": 8, \"6\": 24, \"10\": 20, \"8\": 28, \"7\": 24, \"4\": 10, \"5\": 8, \"1\": 10, \"9\": 3, \"13\": 16, \"3\": 3, \"12\": 2}, \"1\": {\"15\": 19, \"13\": 21, \"5\": 30, \"8\": 9, \"1\": 27, \"4\": 11, \"12\": 23, \"6\": 4, \"7\": 3, \"11\": 2, \"10\": 7}, \"2\": {\"11\": 53, \"2\": 70, \"14\": 24, \"12\": 9}, \"15\": {\"1\": 32, \"15\": 26, \"7\": 9, \"13\": 30, \"10\": 15, \"8\": 12, \"5\": 13, \"4\": 11, \"12\": 7, \"11\": 1}, \"12\": {\"1\": 16, \"5\": 22, \"12\": 90, \"11\": 7, \"13\": 12, \"4\": 4, \"2\": 2, \"15\": 3}}, \"26\": {\"13\": {\"6\": 24, \"2\": 6, \"10\": 17, \"9\": 17, \"4\": 6, \"1\": 16, \"3\": 15, \"14\": 12, \"0\": 10, \"13\": 17, \"7\": 6, \"5\": 6, \"8\": 3, \"15\": 1}, \"2\": {\"7\": 19, \"13\": 9, \"14\": 9, \"3\": 13, \"4\": 21, \"2\": 18, \"1\": 4, \"8\": 14, \"5\": 15, \"0\": 13, \"15\": 19, \"10\": 2}, \"8\": {\"13\": 2, \"15\": 17, \"8\": 33, \"2\": 21, \"3\": 7, \"4\": 23, \"9\": 3, \"7\": 16, \"0\": 13, \"5\": 12, \"14\": 8, \"1\": 1}, \"9\": {\"10\": 31, \"3\": 16, \"6\": 25, \"13\": 17, \"7\": 11, \"1\": 12, \"0\": 6, \"14\": 8, \"5\": 9, \"9\": 13, \"12\": 1, \"2\": 5, \"8\": 1, \"4\": 1}, \"12\": {\"12\": 100, \"11\": 56}, \"4\": {\"1\": 4, \"14\": 4, \"8\": 27, \"4\": 30, \"15\": 29, \"5\": 8, \"13\": 4, \"2\": 15, \"7\": 12, \"3\": 9, \"9\": 3, \"0\": 11}, \"3\": {\"3\": 17, \"7\": 9, \"0\": 9, \"8\": 9, \"9\": 8, \"15\": 7, \"13\": 17, \"6\": 21, \"2\": 10, \"1\": 17, \"10\": 9, \"14\": 6, \"5\": 11, \"4\": 6}, \"15\": {\"7\": 19, \"15\": 50, \"14\": 6, \"2\": 20, \"4\": 21, \"5\": 9, \"0\": 7, \"8\": 13, \"1\": 3, \"9\": 1, \"3\": 5, \"13\": 1, \"10\": 1}, \"14\": {\"7\": 14, \"13\": 11, \"3\": 21, \"5\": 9, \"0\": 15, \"4\": 12, \"6\": 2, \"14\": 14, \"1\": 16, \"9\": 9, \"8\": 7, \"10\": 4, \"15\": 10, \"2\": 12}, \"10\": {\"9\": 22, \"10\": 22, \"13\": 14, \"4\": 3, \"6\": 39, \"8\": 6, \"2\": 5, \"1\": 7, \"14\": 5, \"12\": 5, \"3\": 8, \"11\": 1, \"0\": 10, \"7\": 2, \"5\": 3, \"15\": 4}, \"7\": {\"2\": 18, \"1\": 4, \"15\": 29, \"4\": 19, \"6\": 10, \"5\": 11, \"8\": 16, \"13\": 6, \"10\": 3, \"9\": 10, \"7\": 14, \"14\": 6, \"3\": 5, \"0\": 5}, \"11\": {\"11\": 98, \"12\": 58}, \"6\": {\"9\": 38, \"1\": 18, \"10\": 22, \"6\": 53, \"13\": 15, \"5\": 2, \"3\": 1, \"0\": 3, \"8\": 1, \"14\": 2, \"2\": 1}, \"1\": {\"7\": 9, \"6\": 22, \"3\": 10, \"13\": 23, \"1\": 14, \"2\": 12, \"5\": 12, \"9\": 16, \"0\": 12, \"10\": 12, \"14\": 10, \"8\": 3, \"4\": 1}, \"5\": {\"0\": 11, \"6\": 2, \"14\": 13, \"8\": 14, \"4\": 17, \"7\": 15, \"5\": 17, \"3\": 13, \"2\": 15, \"13\": 9, \"1\": 11, \"15\": 11, \"10\": 3, \"9\": 5}, \"0\": {\"8\": 14, \"6\": 7, \"3\": 17, \"15\": 6, \"13\": 10, \"7\": 17, \"5\": 16, \"2\": 13, \"0\": 12, \"1\": 11, \"4\": 12, \"9\": 8, \"10\": 4, \"14\": 9}}}, \"per_domain_accuracy\": {\"8\": {\"accuracy\": 0.499599358974359, \"source?\": true}, \"50\": {\"accuracy\": 0.6233974358974359, \"source?\": true}, \"32\": {\"accuracy\": 0.5733173076923077, \"source?\": true}, \"14\": {\"accuracy\": 0.3036858974358974, \"source?\": false}, \"20\": {\"accuracy\": 0.20232371794871795, \"source?\": false}, \"44\": {\"accuracy\": 0.3886217948717949, \"source?\": false}, \"38\": {\"accuracy\": 0.3108974358974359, \"source?\": false}, \"26\": {\"accuracy\": 0.2091346153846154, \"source?\": false}}}, \"history\": {\"epoch_indices\": [1, 2, 3, 4, 5], \"train_label_loss\": [1.4319177745967793, 0.7443298237173012, 0.4068082008988781, 0.14613853502982027, 0.092199449237045], \"source_val_label_loss\": [1.0026527643203735, 0.6632625460624695, 0.29361844062805176, 0.1691019982099533, 0.11435405910015106], \"target_val_label_loss\": [2.158651828765869, 2.5676958560943604, 2.8107974529266357, 2.9061295986175537, 3.1118483543395996], \"source_val_acc_label\": [0.5654380341880342, 0.7087339743589743, 0.8891559829059829, 0.9385683760683761, 0.9581997863247863], \"target_val_acc_label\": [0.2829326923076923, 0.3158653846153846, 0.38509615384615387, 0.4098557692307692, 0.4076121794871795]}, \"dataset_metrics\": {\"source\": {\"train\": {\"n_unique_x\": 43632, \"n_unique_y\": 16, \"n_batch/episode\": 1629}, \"val\": {\"n_unique_x\": 9360, \"n_unique_y\": 16, \"n_batch/episode\": 234}, \"test\": {\"n_unique_x\": 9408, \"n_unique_y\": 16, \"n_batch/episode\": 234}}, \"target\": {\"train\": {\"n_unique_x\": 72719, \"n_unique_y\": 16, \"n_batch/episode\": 2715}, \"val\": {\"n_unique_x\": 15600, \"n_unique_y\": 16, \"n_batch/episode\": 390}, \"test\": {\"n_unique_x\": 15680, \"n_unique_y\": 16, \"n_batch/episode\": 390}}}}'"
      ]
     },
     "execution_count": 20,
     "metadata": {},
     "output_type": "execute_result"
    }
   ],
   "source": [
    "json.dumps(experiment)"
   ]
  }
 ],
 "metadata": {
  "celltoolbar": "Tags",
  "kernelspec": {
   "display_name": "Python 3 (ipykernel)",
   "language": "python",
   "name": "python3"
  },
  "language_info": {
   "codemirror_mode": {
    "name": "ipython",
    "version": 3
   },
   "file_extension": ".py",
   "mimetype": "text/x-python",
   "name": "python",
   "nbconvert_exporter": "python",
   "pygments_lexer": "ipython3",
   "version": "3.8.10"
  },
  "papermill": {
   "default_parameters": {},
   "duration": 281.947186,
   "end_time": "2022-03-06T01:40:24.573907",
   "environment_variables": {},
   "exception": null,
   "input_path": "/mnt/wd500GB/CSC500/csc500-main/csc500-notebooks/templates/ptn_template.ipynb",
   "output_path": "trial.ipynb",
   "parameters": {
    "parameters": {
     "BEST_MODEL_PATH": "./best_model.pth",
     "NUM_LOGS_PER_EPOCH": 10,
     "criteria_for_best": "target_loss",
     "dataset_seed": 1337,
     "device": "cuda",
     "domains_source": [
      8,
      32,
      50
     ],
     "domains_target": [
      14,
      20,
      26,
      38,
      44
     ],
     "episode_transforms_source": [],
     "episode_transforms_target": [],
     "experiment_name": "tuned_1_oracle.run2.framed",
     "labels_source": [
      "3123D52",
      "3123D65",
      "3123D79",
      "3123D80",
      "3123D54",
      "3123D70",
      "3123D7B",
      "3123D89",
      "3123D58",
      "3123D76",
      "3123D7D",
      "3123EFE",
      "3123D64",
      "3123D78",
      "3123D7E",
      "3124E4A"
     ],
     "labels_target": [
      "3123D52",
      "3123D65",
      "3123D79",
      "3123D80",
      "3123D54",
      "3123D70",
      "3123D7B",
      "3123D89",
      "3123D58",
      "3123D76",
      "3123D7D",
      "3123EFE",
      "3123D64",
      "3123D78",
      "3123D7E",
      "3124E4A"
     ],
     "lr": 0.001,
     "n_epoch": 50,
     "n_query": 2,
     "n_shot": 3,
     "n_way": 16,
     "num_examples_per_domain_per_label_source": 1300,
     "num_examples_per_domain_per_label_target": 1300,
     "patience": 3,
     "pickle_name": "oracle.Run2_framed_1300Examples_stratified_ds.2022A.pkl",
     "seed": 1337,
     "test_k_factor": 2,
     "torch_default_dtype": "torch.float32",
     "train_k_factor": 3,
     "val_k_factor": 2,
     "x_net": [
      {
       "class": "nnReshape",
       "kargs": {
        "shape": [
         -1,
         1,
         2,
         256
        ]
       }
      },
      {
       "class": "Conv2d",
       "kargs": {
        "bias": false,
        "in_channels": 1,
        "kernel_size": [
         1,
         7
        ],
        "out_channels": 256,
        "padding": [
         0,
         3
        ]
       }
      },
      {
       "class": "ReLU",
       "kargs": {
        "inplace": true
       }
      },
      {
       "class": "BatchNorm2d",
       "kargs": {
        "num_features": 256
       }
      },
      {
       "class": "Conv2d",
       "kargs": {
        "bias": true,
        "in_channels": 256,
        "kernel_size": [
         2,
         7
        ],
        "out_channels": 80,
        "padding": [
         0,
         3
        ]
       }
      },
      {
       "class": "ReLU",
       "kargs": {
        "inplace": true
       }
      },
      {
       "class": "BatchNorm2d",
       "kargs": {
        "num_features": 80
       }
      },
      {
       "class": "Flatten",
       "kargs": {}
      },
      {
       "class": "Linear",
       "kargs": {
        "in_features": 20480,
        "out_features": 256
       }
      },
      {
       "class": "ReLU",
       "kargs": {
        "inplace": true
       }
      },
      {
       "class": "BatchNorm1d",
       "kargs": {
        "num_features": 256
       }
      },
      {
       "class": "Linear",
       "kargs": {
        "in_features": 256,
        "out_features": 256
       }
      }
     ],
     "x_transforms_source": [
      "unit_power"
     ],
     "x_transforms_target": [
      "unit_power"
     ]
    }
   },
   "start_time": "2022-03-06T01:35:42.626721",
   "version": "2.3.4"
  }
 },
 "nbformat": 4,
 "nbformat_minor": 5
}