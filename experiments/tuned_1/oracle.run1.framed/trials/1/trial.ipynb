{
 "cells": [
  {
   "cell_type": "markdown",
   "id": "9fea5f46",
   "metadata": {
    "papermill": {
     "duration": 0.016193,
     "end_time": "2022-03-06T01:06:36.971113",
     "exception": false,
     "start_time": "2022-03-06T01:06:36.954920",
     "status": "completed"
    },
    "tags": []
   },
   "source": [
    "# PTN Template\n",
    "This notebook serves as a template for single dataset PTN experiments  \n",
    "It can be run on its own by setting STANDALONE to True (do a find for \"STANDALONE\" to see where)  \n",
    "But it is intended to be executed as part of a *papermill.py script. See any of the   \n",
    "experimentes with a papermill script to get started with that workflow.  "
   ]
  },
  {
   "cell_type": "code",
   "execution_count": 1,
   "id": "0902182a",
   "metadata": {
    "execution": {
     "iopub.execute_input": "2022-03-06T01:06:37.005931Z",
     "iopub.status.busy": "2022-03-06T01:06:37.003639Z",
     "iopub.status.idle": "2022-03-06T01:06:37.798819Z",
     "shell.execute_reply": "2022-03-06T01:06:37.798471Z"
    },
    "papermill": {
     "duration": 0.816926,
     "end_time": "2022-03-06T01:06:37.798893",
     "exception": false,
     "start_time": "2022-03-06T01:06:36.981967",
     "status": "completed"
    },
    "tags": []
   },
   "outputs": [],
   "source": [
    "%load_ext autoreload\n",
    "%autoreload 2\n",
    "%matplotlib inline\n",
    "\n",
    "    \n",
    "import os, json, sys, time, random\n",
    "import numpy as np\n",
    "import torch\n",
    "from torch.optim import Adam\n",
    "from  easydict import EasyDict\n",
    "import matplotlib.pyplot as plt\n",
    "\n",
    "from steves_models.steves_ptn import Steves_Prototypical_Network\n",
    "\n",
    "from steves_utils.lazy_iterable_wrapper import Lazy_Iterable_Wrapper\n",
    "from steves_utils.iterable_aggregator import Iterable_Aggregator\n",
    "from steves_utils.ptn_train_eval_test_jig import  PTN_Train_Eval_Test_Jig\n",
    "from steves_utils.torch_sequential_builder import build_sequential\n",
    "from steves_utils.torch_utils import get_dataset_metrics, ptn_confusion_by_domain_over_dataloader\n",
    "from steves_utils.utils_v2 import (per_domain_accuracy_from_confusion, get_datasets_base_path)\n",
    "from steves_utils.PTN.utils import independent_accuracy_assesment\n",
    "\n",
    "from steves_utils.stratified_dataset.episodic_accessor import Episodic_Accessor_Factory\n",
    "\n",
    "from steves_utils.ptn_do_report import (\n",
    "    get_loss_curve,\n",
    "    get_results_table,\n",
    "    get_parameters_table,\n",
    "    get_domain_accuracies,\n",
    ")\n",
    "\n",
    "from steves_utils.transforms import get_chained_transform"
   ]
  },
  {
   "cell_type": "markdown",
   "id": "41c840b4",
   "metadata": {
    "papermill": {
     "duration": 0.009487,
     "end_time": "2022-03-06T01:06:37.818394",
     "exception": false,
     "start_time": "2022-03-06T01:06:37.808907",
     "status": "completed"
    },
    "tags": []
   },
   "source": [
    "# Required Parameters\n",
    "These are allowed parameters, not defaults\n",
    "Each of these values need to be present in the injected parameters (the notebook will raise an exception if they are not present)\n",
    "\n",
    "Papermill uses the cell tag \"parameters\" to inject the real parameters below this cell.\n",
    "Enable tags to see what I mean"
   ]
  },
  {
   "cell_type": "code",
   "execution_count": 2,
   "id": "fd44eb83",
   "metadata": {
    "execution": {
     "iopub.execute_input": "2022-03-06T01:06:37.840432Z",
     "iopub.status.busy": "2022-03-06T01:06:37.839911Z",
     "iopub.status.idle": "2022-03-06T01:06:37.849788Z",
     "shell.execute_reply": "2022-03-06T01:06:37.849354Z"
    },
    "papermill": {
     "duration": 0.02203,
     "end_time": "2022-03-06T01:06:37.849894",
     "exception": false,
     "start_time": "2022-03-06T01:06:37.827864",
     "status": "completed"
    },
    "tags": []
   },
   "outputs": [],
   "source": [
    "required_parameters = {\n",
    "    \"experiment_name\",\n",
    "    \"lr\",\n",
    "    \"device\",\n",
    "    \"seed\",\n",
    "    \"dataset_seed\",\n",
    "    \"labels_source\",\n",
    "    \"labels_target\",\n",
    "    \"domains_source\",\n",
    "    \"domains_target\",\n",
    "    \"num_examples_per_domain_per_label_source\",\n",
    "    \"num_examples_per_domain_per_label_target\",\n",
    "    \"n_shot\",\n",
    "    \"n_way\",\n",
    "    \"n_query\",\n",
    "    \"train_k_factor\",\n",
    "    \"val_k_factor\",\n",
    "    \"test_k_factor\",\n",
    "    \"n_epoch\",\n",
    "    \"patience\",\n",
    "    \"criteria_for_best\",\n",
    "    \"x_transforms_source\",\n",
    "    \"x_transforms_target\",\n",
    "    \"episode_transforms_source\",\n",
    "    \"episode_transforms_target\",\n",
    "    \"pickle_name\",\n",
    "    \"x_net\",\n",
    "    \"NUM_LOGS_PER_EPOCH\",\n",
    "    \"BEST_MODEL_PATH\",\n",
    "    \"torch_default_dtype\"\n",
    "}"
   ]
  },
  {
   "cell_type": "code",
   "execution_count": 3,
   "id": "fa3f0049",
   "metadata": {
    "execution": {
     "iopub.execute_input": "2022-03-06T01:06:37.881710Z",
     "iopub.status.busy": "2022-03-06T01:06:37.881298Z",
     "iopub.status.idle": "2022-03-06T01:06:37.892888Z",
     "shell.execute_reply": "2022-03-06T01:06:37.892392Z"
    },
    "papermill": {
     "duration": 0.02921,
     "end_time": "2022-03-06T01:06:37.892989",
     "exception": false,
     "start_time": "2022-03-06T01:06:37.863779",
     "status": "completed"
    },
    "tags": [
     "parameters"
    ]
   },
   "outputs": [],
   "source": [
    "\n",
    "\n",
    "standalone_parameters = {}\n",
    "standalone_parameters[\"experiment_name\"] = \"STANDALONE PTN\"\n",
    "standalone_parameters[\"lr\"] = 0.0001\n",
    "standalone_parameters[\"device\"] = \"cuda\"\n",
    "\n",
    "standalone_parameters[\"seed\"] = 1337\n",
    "standalone_parameters[\"dataset_seed\"] = 1337\n",
    "\n",
    "\n",
    "standalone_parameters[\"num_examples_per_domain_per_label_source\"]=100\n",
    "standalone_parameters[\"num_examples_per_domain_per_label_target\"]=100\n",
    "\n",
    "standalone_parameters[\"n_shot\"] = 3\n",
    "standalone_parameters[\"n_query\"]  = 2\n",
    "standalone_parameters[\"train_k_factor\"] = 1\n",
    "standalone_parameters[\"val_k_factor\"] = 2\n",
    "standalone_parameters[\"test_k_factor\"] = 2\n",
    "\n",
    "\n",
    "standalone_parameters[\"n_epoch\"] = 100\n",
    "\n",
    "standalone_parameters[\"patience\"] = 10\n",
    "standalone_parameters[\"criteria_for_best\"] = \"target_accuracy\"\n",
    "\n",
    "standalone_parameters[\"x_transforms_source\"] = [\"unit_power\"]\n",
    "standalone_parameters[\"x_transforms_target\"] = [\"unit_power\"]\n",
    "standalone_parameters[\"episode_transforms_source\"] = []\n",
    "standalone_parameters[\"episode_transforms_target\"] = []\n",
    "\n",
    "standalone_parameters[\"torch_default_dtype\"] = \"torch.float32\" \n",
    "\n",
    "\n",
    "\n",
    "standalone_parameters[\"x_net\"] =     [\n",
    "    {\"class\": \"nnReshape\", \"kargs\": {\"shape\":[-1, 1, 2, 256]}},\n",
    "    {\"class\": \"Conv2d\", \"kargs\": { \"in_channels\":1, \"out_channels\":256, \"kernel_size\":(1,7), \"bias\":False, \"padding\":(0,3), },},\n",
    "    {\"class\": \"ReLU\", \"kargs\": {\"inplace\": True}},\n",
    "    {\"class\": \"BatchNorm2d\", \"kargs\": {\"num_features\":256}},\n",
    "\n",
    "    {\"class\": \"Conv2d\", \"kargs\": { \"in_channels\":256, \"out_channels\":80, \"kernel_size\":(2,7), \"bias\":True, \"padding\":(0,3), },},\n",
    "    {\"class\": \"ReLU\", \"kargs\": {\"inplace\": True}},\n",
    "    {\"class\": \"BatchNorm2d\", \"kargs\": {\"num_features\":80}},\n",
    "    {\"class\": \"Flatten\", \"kargs\": {}},\n",
    "\n",
    "    {\"class\": \"Linear\", \"kargs\": {\"in_features\": 80*256, \"out_features\": 256}}, # 80 units per IQ pair\n",
    "    {\"class\": \"ReLU\", \"kargs\": {\"inplace\": True}},\n",
    "    {\"class\": \"BatchNorm1d\", \"kargs\": {\"num_features\":256}},\n",
    "\n",
    "    {\"class\": \"Linear\", \"kargs\": {\"in_features\": 256, \"out_features\": 256}},\n",
    "]\n",
    "\n",
    "# Parameters relevant to results\n",
    "# These parameters will basically never need to change\n",
    "standalone_parameters[\"NUM_LOGS_PER_EPOCH\"] = 10\n",
    "standalone_parameters[\"BEST_MODEL_PATH\"] = \"./best_model.pth\"\n",
    "\n",
    "# uncomment for CORES dataset\n",
    "from steves_utils.CORES.utils import (\n",
    "    ALL_NODES,\n",
    "    ALL_NODES_MINIMUM_1000_EXAMPLES,\n",
    "    ALL_DAYS\n",
    ")\n",
    "\n",
    "\n",
    "standalone_parameters[\"labels_source\"] = ALL_NODES\n",
    "standalone_parameters[\"labels_target\"] = ALL_NODES\n",
    "\n",
    "standalone_parameters[\"domains_source\"] = [1]\n",
    "standalone_parameters[\"domains_target\"] = [2,3,4,5]\n",
    "\n",
    "standalone_parameters[\"pickle_name\"] = \"cores.stratified_ds.2022A.pkl\"\n",
    "\n",
    "\n",
    "# Uncomment these for ORACLE dataset\n",
    "# from steves_utils.ORACLE.utils_v2 import (\n",
    "#     ALL_DISTANCES_FEET,\n",
    "#     ALL_RUNS,\n",
    "#     ALL_SERIAL_NUMBERS,\n",
    "# )\n",
    "# standalone_parameters[\"labels_source\"] = ALL_SERIAL_NUMBERS\n",
    "# standalone_parameters[\"labels_target\"] = ALL_SERIAL_NUMBERS\n",
    "# standalone_parameters[\"domains_source\"] = [8,20, 38,50]\n",
    "# standalone_parameters[\"domains_target\"] = [14, 26, 32, 44, 56]\n",
    "# standalone_parameters[\"pickle_name\"] = \"oracle.frame_indexed.stratified_ds.2022A.pkl\"\n",
    "# standalone_parameters[\"num_examples_per_domain_per_label_source\"]=1000\n",
    "# standalone_parameters[\"num_examples_per_domain_per_label_target\"]=1000\n",
    "\n",
    "# Uncomment these for Metahan dataset\n",
    "# standalone_parameters[\"labels_source\"] = list(range(19))\n",
    "# standalone_parameters[\"labels_target\"] = list(range(19))\n",
    "# standalone_parameters[\"domains_source\"] = [0]\n",
    "# standalone_parameters[\"domains_target\"] = [1]\n",
    "# standalone_parameters[\"pickle_name\"] = \"metehan.stratified_ds.2022A.pkl\"\n",
    "# standalone_parameters[\"n_way\"]  = len(standalone_parameters[\"labels_source\"])\n",
    "# standalone_parameters[\"num_examples_per_domain_per_label_source\"]=200\n",
    "# standalone_parameters[\"num_examples_per_domain_per_label_target\"]=100\n",
    "\n",
    "\n",
    "standalone_parameters[\"n_way\"]  = len(standalone_parameters[\"labels_source\"])"
   ]
  },
  {
   "cell_type": "code",
   "execution_count": 4,
   "id": "c257c7a8",
   "metadata": {
    "execution": {
     "iopub.execute_input": "2022-03-06T01:06:37.925368Z",
     "iopub.status.busy": "2022-03-06T01:06:37.924959Z",
     "iopub.status.idle": "2022-03-06T01:06:37.936068Z",
     "shell.execute_reply": "2022-03-06T01:06:37.935726Z"
    },
    "papermill": {
     "duration": 0.028844,
     "end_time": "2022-03-06T01:06:37.936168",
     "exception": false,
     "start_time": "2022-03-06T01:06:37.907324",
     "status": "completed"
    },
    "tags": [
     "injected-parameters"
    ]
   },
   "outputs": [],
   "source": [
    "# Parameters\n",
    "parameters = {\n",
    "    \"experiment_name\": \"tuned_1_oracle.run1.framed\",\n",
    "    \"device\": \"cuda\",\n",
    "    \"lr\": 0.001,\n",
    "    \"seed\": 1337,\n",
    "    \"dataset_seed\": 1337,\n",
    "    \"labels_source\": [\n",
    "        \"3123D52\",\n",
    "        \"3123D65\",\n",
    "        \"3123D79\",\n",
    "        \"3123D80\",\n",
    "        \"3123D54\",\n",
    "        \"3123D70\",\n",
    "        \"3123D7B\",\n",
    "        \"3123D89\",\n",
    "        \"3123D58\",\n",
    "        \"3123D76\",\n",
    "        \"3123D7D\",\n",
    "        \"3123EFE\",\n",
    "        \"3123D64\",\n",
    "        \"3123D78\",\n",
    "        \"3123D7E\",\n",
    "        \"3124E4A\",\n",
    "    ],\n",
    "    \"labels_target\": [\n",
    "        \"3123D52\",\n",
    "        \"3123D65\",\n",
    "        \"3123D79\",\n",
    "        \"3123D80\",\n",
    "        \"3123D54\",\n",
    "        \"3123D70\",\n",
    "        \"3123D7B\",\n",
    "        \"3123D89\",\n",
    "        \"3123D58\",\n",
    "        \"3123D76\",\n",
    "        \"3123D7D\",\n",
    "        \"3123EFE\",\n",
    "        \"3123D64\",\n",
    "        \"3123D78\",\n",
    "        \"3123D7E\",\n",
    "        \"3124E4A\",\n",
    "    ],\n",
    "    \"x_transforms_source\": [],\n",
    "    \"x_transforms_target\": [],\n",
    "    \"episode_transforms_source\": [],\n",
    "    \"episode_transforms_target\": [],\n",
    "    \"domains_source\": [8, 32, 50],\n",
    "    \"domains_target\": [14, 20, 26, 38, 44],\n",
    "    \"num_examples_per_domain_per_label_source\": 1300,\n",
    "    \"num_examples_per_domain_per_label_target\": 1300,\n",
    "    \"n_shot\": 3,\n",
    "    \"n_way\": 16,\n",
    "    \"n_query\": 2,\n",
    "    \"train_k_factor\": 3,\n",
    "    \"val_k_factor\": 2,\n",
    "    \"test_k_factor\": 2,\n",
    "    \"torch_default_dtype\": \"torch.float32\",\n",
    "    \"n_epoch\": 50,\n",
    "    \"patience\": 3,\n",
    "    \"criteria_for_best\": \"target_loss\",\n",
    "    \"x_net\": [\n",
    "        {\"class\": \"nnReshape\", \"kargs\": {\"shape\": [-1, 1, 2, 256]}},\n",
    "        {\n",
    "            \"class\": \"Conv2d\",\n",
    "            \"kargs\": {\n",
    "                \"in_channels\": 1,\n",
    "                \"out_channels\": 256,\n",
    "                \"kernel_size\": [1, 7],\n",
    "                \"bias\": False,\n",
    "                \"padding\": [0, 3],\n",
    "            },\n",
    "        },\n",
    "        {\"class\": \"ReLU\", \"kargs\": {\"inplace\": True}},\n",
    "        {\"class\": \"BatchNorm2d\", \"kargs\": {\"num_features\": 256}},\n",
    "        {\n",
    "            \"class\": \"Conv2d\",\n",
    "            \"kargs\": {\n",
    "                \"in_channels\": 256,\n",
    "                \"out_channels\": 80,\n",
    "                \"kernel_size\": [2, 7],\n",
    "                \"bias\": True,\n",
    "                \"padding\": [0, 3],\n",
    "            },\n",
    "        },\n",
    "        {\"class\": \"ReLU\", \"kargs\": {\"inplace\": True}},\n",
    "        {\"class\": \"BatchNorm2d\", \"kargs\": {\"num_features\": 80}},\n",
    "        {\"class\": \"Flatten\", \"kargs\": {}},\n",
    "        {\"class\": \"Linear\", \"kargs\": {\"in_features\": 20480, \"out_features\": 256}},\n",
    "        {\"class\": \"ReLU\", \"kargs\": {\"inplace\": True}},\n",
    "        {\"class\": \"BatchNorm1d\", \"kargs\": {\"num_features\": 256}},\n",
    "        {\"class\": \"Linear\", \"kargs\": {\"in_features\": 256, \"out_features\": 256}},\n",
    "    ],\n",
    "    \"NUM_LOGS_PER_EPOCH\": 10,\n",
    "    \"BEST_MODEL_PATH\": \"./best_model.pth\",\n",
    "    \"pickle_name\": \"oracle.Run1_framed_1300Examples_stratified_ds.2022A.pkl\",\n",
    "}\n"
   ]
  },
  {
   "cell_type": "code",
   "execution_count": 5,
   "id": "8fa1cc33",
   "metadata": {
    "execution": {
     "iopub.execute_input": "2022-03-06T01:06:37.966723Z",
     "iopub.status.busy": "2022-03-06T01:06:37.964199Z",
     "iopub.status.idle": "2022-03-06T01:06:37.977282Z",
     "shell.execute_reply": "2022-03-06T01:06:37.977570Z"
    },
    "papermill": {
     "duration": 0.026607,
     "end_time": "2022-03-06T01:06:37.977664",
     "exception": false,
     "start_time": "2022-03-06T01:06:37.951057",
     "status": "completed"
    },
    "tags": []
   },
   "outputs": [],
   "source": [
    "# Set this to True if you want to run this template directly\n",
    "STANDALONE = False\n",
    "if STANDALONE:\n",
    "    print(\"parameters not injected, running with standalone_parameters\")\n",
    "    parameters = standalone_parameters\n",
    "\n",
    "if not 'parameters' in locals() and not 'parameters' in globals():\n",
    "    raise Exception(\"Parameter injection failed\")\n",
    "\n",
    "#Use an easy dict for all the parameters\n",
    "p = EasyDict(parameters)\n",
    "\n",
    "supplied_keys = set(p.keys())\n",
    "\n",
    "if  supplied_keys != required_parameters:\n",
    "    print(\"Parameters are incorrect\")\n",
    "    if len(supplied_keys - required_parameters)>0: print(\"Shouldn't have:\", str(supplied_keys - required_parameters))\n",
    "    if len(required_parameters - supplied_keys)>0: print(\"Need to have:\", str(required_parameters - supplied_keys))\n",
    "    raise RuntimeError(\"Parameters are incorrect\")\n",
    "\n"
   ]
  },
  {
   "cell_type": "code",
   "execution_count": 6,
   "id": "3a028d58",
   "metadata": {
    "execution": {
     "iopub.execute_input": "2022-03-06T01:06:38.001805Z",
     "iopub.status.busy": "2022-03-06T01:06:38.001552Z",
     "iopub.status.idle": "2022-03-06T01:06:38.010816Z",
     "shell.execute_reply": "2022-03-06T01:06:38.011112Z"
    },
    "papermill": {
     "duration": 0.020588,
     "end_time": "2022-03-06T01:06:38.011206",
     "exception": false,
     "start_time": "2022-03-06T01:06:37.990618",
     "status": "completed"
    },
    "tags": []
   },
   "outputs": [],
   "source": [
    "###################################\n",
    "# Set the RNGs and make it all deterministic\n",
    "###################################\n",
    "np.random.seed(p.seed)\n",
    "random.seed(p.seed)\n",
    "torch.manual_seed(p.seed)\n",
    "\n",
    "torch.use_deterministic_algorithms(True) "
   ]
  },
  {
   "cell_type": "code",
   "execution_count": 7,
   "id": "b691acf6",
   "metadata": {
    "execution": {
     "iopub.execute_input": "2022-03-06T01:06:38.035688Z",
     "iopub.status.busy": "2022-03-06T01:06:38.035441Z",
     "iopub.status.idle": "2022-03-06T01:06:38.048400Z",
     "shell.execute_reply": "2022-03-06T01:06:38.047944Z"
    },
    "papermill": {
     "duration": 0.024686,
     "end_time": "2022-03-06T01:06:38.048507",
     "exception": false,
     "start_time": "2022-03-06T01:06:38.023821",
     "status": "completed"
    },
    "tags": []
   },
   "outputs": [],
   "source": [
    "###########################################\n",
    "# The stratified datasets honor this\n",
    "###########################################\n",
    "torch.set_default_dtype(eval(p.torch_default_dtype))"
   ]
  },
  {
   "cell_type": "code",
   "execution_count": 8,
   "id": "b5fba671",
   "metadata": {
    "execution": {
     "iopub.execute_input": "2022-03-06T01:06:38.075796Z",
     "iopub.status.busy": "2022-03-06T01:06:38.075535Z",
     "iopub.status.idle": "2022-03-06T01:06:38.112236Z",
     "shell.execute_reply": "2022-03-06T01:06:38.111770Z"
    },
    "papermill": {
     "duration": 0.048482,
     "end_time": "2022-03-06T01:06:38.112344",
     "exception": false,
     "start_time": "2022-03-06T01:06:38.063862",
     "status": "completed"
    },
    "tags": []
   },
   "outputs": [],
   "source": [
    "###################################\n",
    "# Build the network(s)\n",
    "# Note: It's critical to do this AFTER setting the RNG\n",
    "# (This is due to the randomized initial weights)\n",
    "###################################\n",
    "x_net = build_sequential(p.x_net)"
   ]
  },
  {
   "cell_type": "code",
   "execution_count": 9,
   "id": "5d7e61cc",
   "metadata": {
    "execution": {
     "iopub.execute_input": "2022-03-06T01:06:38.145058Z",
     "iopub.status.busy": "2022-03-06T01:06:38.144682Z",
     "iopub.status.idle": "2022-03-06T01:06:38.155091Z",
     "shell.execute_reply": "2022-03-06T01:06:38.154827Z"
    },
    "papermill": {
     "duration": 0.02772,
     "end_time": "2022-03-06T01:06:38.155149",
     "exception": false,
     "start_time": "2022-03-06T01:06:38.127429",
     "status": "completed"
    },
    "tags": []
   },
   "outputs": [],
   "source": [
    "start_time_secs = time.time()"
   ]
  },
  {
   "cell_type": "code",
   "execution_count": 10,
   "id": "fd5442bc",
   "metadata": {
    "execution": {
     "iopub.execute_input": "2022-03-06T01:06:38.187215Z",
     "iopub.status.busy": "2022-03-06T01:06:38.185678Z",
     "iopub.status.idle": "2022-03-06T01:06:39.085805Z",
     "shell.execute_reply": "2022-03-06T01:06:39.085342Z"
    },
    "papermill": {
     "duration": 0.917676,
     "end_time": "2022-03-06T01:06:39.085916",
     "exception": false,
     "start_time": "2022-03-06T01:06:38.168240",
     "status": "completed"
    },
    "tags": []
   },
   "outputs": [],
   "source": [
    "###################################\n",
    "# Build the dataset\n",
    "###################################\n",
    "\n",
    "if p.x_transforms_source == []: x_transform_source = None\n",
    "else: x_transform_source = get_chained_transform(p.x_transforms_source) \n",
    "\n",
    "if p.x_transforms_target == []: x_transform_target = None\n",
    "else: x_transform_target = get_chained_transform(p.x_transforms_target)\n",
    "\n",
    "if p.episode_transforms_source == []: episode_transform_source = None\n",
    "else: raise Exception(\"episode_transform_source not implemented\")\n",
    "\n",
    "if p.episode_transforms_target == []: episode_transform_target = None\n",
    "else: raise Exception(\"episode_transform_target not implemented\")\n",
    "\n",
    "\n",
    "eaf_source = Episodic_Accessor_Factory(\n",
    "    labels=p.labels_source,\n",
    "    domains=p.domains_source,\n",
    "    num_examples_per_domain_per_label=p.num_examples_per_domain_per_label_source,\n",
    "    iterator_seed=p.seed,\n",
    "    dataset_seed=p.dataset_seed,\n",
    "    n_shot=p.n_shot,\n",
    "    n_way=p.n_way,\n",
    "    n_query=p.n_query,\n",
    "    train_val_test_k_factors=(p.train_k_factor,p.val_k_factor,p.test_k_factor),\n",
    "    pickle_path=os.path.join(get_datasets_base_path(), p.pickle_name),\n",
    "    x_transform_func=x_transform_source,\n",
    "    example_transform_func=episode_transform_source,\n",
    "    \n",
    ")\n",
    "train_original_source, val_original_source, test_original_source = eaf_source.get_train(), eaf_source.get_val(), eaf_source.get_test()\n",
    "\n",
    "\n",
    "eaf_target = Episodic_Accessor_Factory(\n",
    "    labels=p.labels_target,\n",
    "    domains=p.domains_target,\n",
    "    num_examples_per_domain_per_label=p.num_examples_per_domain_per_label_target,\n",
    "    iterator_seed=p.seed,\n",
    "    dataset_seed=p.dataset_seed,\n",
    "    n_shot=p.n_shot,\n",
    "    n_way=p.n_way,\n",
    "    n_query=p.n_query,\n",
    "    train_val_test_k_factors=(p.train_k_factor,p.val_k_factor,p.test_k_factor),\n",
    "    pickle_path=os.path.join(get_datasets_base_path(), p.pickle_name),\n",
    "    x_transform_func=x_transform_target,\n",
    "    example_transform_func=episode_transform_target,\n",
    ")\n",
    "train_original_target, val_original_target, test_original_target = eaf_target.get_train(), eaf_target.get_val(), eaf_target.get_test()\n",
    "\n",
    "\n",
    "transform_lambda = lambda ex: ex[1] # Original is (<domain>, <episode>) so we strip down to episode only\n",
    "\n",
    "train_processed_source = Lazy_Iterable_Wrapper(train_original_source, transform_lambda)\n",
    "val_processed_source   = Lazy_Iterable_Wrapper(val_original_source, transform_lambda)\n",
    "test_processed_source  = Lazy_Iterable_Wrapper(test_original_source, transform_lambda)\n",
    "\n",
    "train_processed_target = Lazy_Iterable_Wrapper(train_original_target, transform_lambda)\n",
    "val_processed_target   = Lazy_Iterable_Wrapper(val_original_target, transform_lambda)\n",
    "test_processed_target  = Lazy_Iterable_Wrapper(test_original_target, transform_lambda)\n",
    "\n",
    "datasets = EasyDict({\n",
    "    \"source\": {\n",
    "        \"original\": {\"train\":train_original_source, \"val\":val_original_source, \"test\":test_original_source},\n",
    "        \"processed\": {\"train\":train_processed_source, \"val\":val_processed_source, \"test\":test_processed_source}\n",
    "    },\n",
    "    \"target\": {\n",
    "        \"original\": {\"train\":train_original_target, \"val\":val_original_target, \"test\":test_original_target},\n",
    "        \"processed\": {\"train\":train_processed_target, \"val\":val_processed_target, \"test\":test_processed_target}\n",
    "    },\n",
    "})"
   ]
  },
  {
   "cell_type": "code",
   "execution_count": 11,
   "id": "296189d9",
   "metadata": {
    "execution": {
     "iopub.execute_input": "2022-03-06T01:06:39.115148Z",
     "iopub.status.busy": "2022-03-06T01:06:39.114779Z",
     "iopub.status.idle": "2022-03-06T01:06:40.784793Z",
     "shell.execute_reply": "2022-03-06T01:06:40.785488Z"
    },
    "papermill": {
     "duration": 1.685096,
     "end_time": "2022-03-06T01:06:40.785691",
     "exception": false,
     "start_time": "2022-03-06T01:06:39.100595",
     "status": "completed"
    },
    "tags": []
   },
   "outputs": [
    {
     "name": "stdout",
     "output_type": "stream",
     "text": [
      "Visually inspect these to see if they line up with expected values given the transforms\n",
      "x_transforms_source []\n",
      "x_transforms_target []\n",
      "Average magnitude, source: 0.0048577324\n",
      "Average power, source: 2.8239614e-05\n"
     ]
    },
    {
     "name": "stdout",
     "output_type": "stream",
     "text": [
      "Average magnitude, target: 0.0028130894\n",
      "Average power, target: 1.0059727e-05\n"
     ]
    }
   ],
   "source": [
    "# Some quick unit tests on the data\n",
    "from steves_utils.transforms import get_average_power, get_average_magnitude\n",
    "\n",
    "q_x, q_y, s_x, s_y, truth = next(iter(train_processed_source))\n",
    "\n",
    "assert q_x.dtype == eval(p.torch_default_dtype)\n",
    "assert s_x.dtype == eval(p.torch_default_dtype)\n",
    "\n",
    "print(\"Visually inspect these to see if they line up with expected values given the transforms\")\n",
    "print('x_transforms_source', p.x_transforms_source)\n",
    "print('x_transforms_target', p.x_transforms_target)\n",
    "print(\"Average magnitude, source:\", get_average_magnitude(q_x[0].numpy()))\n",
    "print(\"Average power, source:\", get_average_power(q_x[0].numpy()))\n",
    "\n",
    "q_x, q_y, s_x, s_y, truth = next(iter(train_processed_target))\n",
    "print(\"Average magnitude, target:\", get_average_magnitude(q_x[0].numpy()))\n",
    "print(\"Average power, target:\", get_average_power(q_x[0].numpy()))\n"
   ]
  },
  {
   "cell_type": "code",
   "execution_count": 12,
   "id": "bbdacba1",
   "metadata": {
    "execution": {
     "iopub.execute_input": "2022-03-06T01:06:40.813746Z",
     "iopub.status.busy": "2022-03-06T01:06:40.813475Z",
     "iopub.status.idle": "2022-03-06T01:06:40.875311Z",
     "shell.execute_reply": "2022-03-06T01:06:40.875730Z"
    },
    "papermill": {
     "duration": 0.07551,
     "end_time": "2022-03-06T01:06:40.875861",
     "exception": false,
     "start_time": "2022-03-06T01:06:40.800351",
     "status": "completed"
    },
    "tags": []
   },
   "outputs": [
    {
     "name": "stdout",
     "output_type": "stream",
     "text": [
      "(2, 256)\n"
     ]
    }
   ],
   "source": [
    "###################################\n",
    "# Build the model\n",
    "###################################\n",
    "model = Steves_Prototypical_Network(x_net, device=p.device, x_shape=(2,256))\n",
    "optimizer = Adam(params=model.parameters(), lr=p.lr)"
   ]
  },
  {
   "cell_type": "code",
   "execution_count": 13,
   "id": "22b39ac5",
   "metadata": {
    "execution": {
     "iopub.execute_input": "2022-03-06T01:06:40.901544Z",
     "iopub.status.busy": "2022-03-06T01:06:40.901272Z",
     "iopub.status.idle": "2022-03-06T01:11:19.772308Z",
     "shell.execute_reply": "2022-03-06T01:11:19.771794Z"
    },
    "papermill": {
     "duration": 278.884333,
     "end_time": "2022-03-06T01:11:19.772415",
     "exception": false,
     "start_time": "2022-03-06T01:06:40.888082",
     "status": "completed"
    },
    "tags": []
   },
   "outputs": [
    {
     "name": "stdout",
     "output_type": "stream",
     "text": [
      "epoch: 1, [batch: 1 / 1629], examples_per_second: 181.1544, train_label_loss: 2.2037, \n"
     ]
    },
    {
     "name": "stdout",
     "output_type": "stream",
     "text": [
      "epoch: 1, [batch: 163 / 1629], examples_per_second: 3132.9406, train_label_loss: 0.7076, \n"
     ]
    },
    {
     "name": "stdout",
     "output_type": "stream",
     "text": [
      "epoch: 1, [batch: 326 / 1629], examples_per_second: 3163.0048, train_label_loss: 0.8578, \n"
     ]
    },
    {
     "name": "stdout",
     "output_type": "stream",
     "text": [
      "epoch: 1, [batch: 489 / 1629], examples_per_second: 3139.0392, train_label_loss: 0.8109, \n"
     ]
    },
    {
     "name": "stdout",
     "output_type": "stream",
     "text": [
      "epoch: 1, [batch: 652 / 1629], examples_per_second: 3133.4694, train_label_loss: 0.8496, \n"
     ]
    },
    {
     "name": "stdout",
     "output_type": "stream",
     "text": [
      "epoch: 1, [batch: 815 / 1629], examples_per_second: 3138.7234, train_label_loss: 0.2748, \n"
     ]
    },
    {
     "name": "stdout",
     "output_type": "stream",
     "text": [
      "epoch: 1, [batch: 977 / 1629], examples_per_second: 3139.0392, train_label_loss: 0.1671, \n"
     ]
    },
    {
     "name": "stdout",
     "output_type": "stream",
     "text": [
      "epoch: 1, [batch: 1140 / 1629], examples_per_second: 3131.1926, train_label_loss: 0.1574, \n"
     ]
    },
    {
     "name": "stdout",
     "output_type": "stream",
     "text": [
      "epoch: 1, [batch: 1303 / 1629], examples_per_second: 3140.0527, train_label_loss: 0.1089, \n"
     ]
    },
    {
     "name": "stdout",
     "output_type": "stream",
     "text": [
      "epoch: 1, [batch: 1466 / 1629], examples_per_second: 3146.1150, train_label_loss: 0.0339, \n"
     ]
    },
    {
     "name": "stdout",
     "output_type": "stream",
     "text": [
      "=============================================================\n",
      "epoch: 1, source_val_acc_label: 0.8790, target_val_acc_label: 0.5546, source_val_label_loss: 1.3797, target_val_label_loss: 3.8588, \n",
      "=============================================================\n"
     ]
    },
    {
     "name": "stdout",
     "output_type": "stream",
     "text": [
      "New best\n"
     ]
    },
    {
     "name": "stdout",
     "output_type": "stream",
     "text": [
      "epoch: 2, [batch: 1 / 1629], examples_per_second: 16.8964, train_label_loss: 7.5999, \n"
     ]
    },
    {
     "name": "stdout",
     "output_type": "stream",
     "text": [
      "epoch: 2, [batch: 163 / 1629], examples_per_second: 3202.6554, train_label_loss: 0.2229, \n"
     ]
    },
    {
     "name": "stdout",
     "output_type": "stream",
     "text": [
      "epoch: 2, [batch: 326 / 1629], examples_per_second: 3188.4253, train_label_loss: 0.1213, \n"
     ]
    },
    {
     "name": "stdout",
     "output_type": "stream",
     "text": [
      "epoch: 2, [batch: 489 / 1629], examples_per_second: 3177.8174, train_label_loss: 0.5173, \n"
     ]
    },
    {
     "name": "stdout",
     "output_type": "stream",
     "text": [
      "epoch: 2, [batch: 652 / 1629], examples_per_second: 3180.3582, train_label_loss: 0.1072, \n"
     ]
    },
    {
     "name": "stdout",
     "output_type": "stream",
     "text": [
      "epoch: 2, [batch: 815 / 1629], examples_per_second: 3175.7121, train_label_loss: 0.2476, \n"
     ]
    },
    {
     "name": "stdout",
     "output_type": "stream",
     "text": [
      "epoch: 2, [batch: 977 / 1629], examples_per_second: 3156.8605, train_label_loss: 0.0505, \n"
     ]
    },
    {
     "name": "stdout",
     "output_type": "stream",
     "text": [
      "epoch: 2, [batch: 1140 / 1629], examples_per_second: 3147.3142, train_label_loss: 0.2582, \n"
     ]
    },
    {
     "name": "stdout",
     "output_type": "stream",
     "text": [
      "epoch: 2, [batch: 1303 / 1629], examples_per_second: 3177.3009, train_label_loss: 0.1024, \n"
     ]
    },
    {
     "name": "stdout",
     "output_type": "stream",
     "text": [
      "epoch: 2, [batch: 1466 / 1629], examples_per_second: 3176.6927, train_label_loss: 0.0661, \n"
     ]
    },
    {
     "name": "stdout",
     "output_type": "stream",
     "text": [
      "=============================================================\n",
      "epoch: 2, source_val_acc_label: 0.9513, target_val_acc_label: 0.5880, source_val_label_loss: 0.1412, target_val_label_loss: 1.3970, \n",
      "=============================================================\n"
     ]
    },
    {
     "name": "stdout",
     "output_type": "stream",
     "text": [
      "New best\n"
     ]
    },
    {
     "name": "stdout",
     "output_type": "stream",
     "text": [
      "epoch: 3, [batch: 1 / 1629], examples_per_second: 16.8084, train_label_loss: 0.4701, \n"
     ]
    },
    {
     "name": "stdout",
     "output_type": "stream",
     "text": [
      "epoch: 3, [batch: 163 / 1629], examples_per_second: 3173.6979, train_label_loss: 0.3463, \n"
     ]
    },
    {
     "name": "stdout",
     "output_type": "stream",
     "text": [
      "epoch: 3, [batch: 326 / 1629], examples_per_second: 3159.8060, train_label_loss: 0.0335, \n"
     ]
    },
    {
     "name": "stdout",
     "output_type": "stream",
     "text": [
      "epoch: 3, [batch: 489 / 1629], examples_per_second: 3161.1632, train_label_loss: 0.0579, \n"
     ]
    },
    {
     "name": "stdout",
     "output_type": "stream",
     "text": [
      "epoch: 3, [batch: 652 / 1629], examples_per_second: 3159.4766, train_label_loss: 0.0797, \n"
     ]
    },
    {
     "name": "stdout",
     "output_type": "stream",
     "text": [
      "epoch: 3, [batch: 815 / 1629], examples_per_second: 3180.7568, train_label_loss: 0.0122, \n"
     ]
    },
    {
     "name": "stdout",
     "output_type": "stream",
     "text": [
      "epoch: 3, [batch: 977 / 1629], examples_per_second: 3190.7255, train_label_loss: 0.0090, \n"
     ]
    },
    {
     "name": "stdout",
     "output_type": "stream",
     "text": [
      "epoch: 3, [batch: 1140 / 1629], examples_per_second: 3161.3228, train_label_loss: 0.0083, \n"
     ]
    },
    {
     "name": "stdout",
     "output_type": "stream",
     "text": [
      "epoch: 3, [batch: 1303 / 1629], examples_per_second: 3180.4296, train_label_loss: 0.0062, \n"
     ]
    },
    {
     "name": "stdout",
     "output_type": "stream",
     "text": [
      "epoch: 3, [batch: 1466 / 1629], examples_per_second: 3167.3348, train_label_loss: 0.0278, \n"
     ]
    },
    {
     "name": "stdout",
     "output_type": "stream",
     "text": [
      "=============================================================\n",
      "epoch: 3, source_val_acc_label: 0.9790, target_val_acc_label: 0.6049, source_val_label_loss: 0.0615, target_val_label_loss: 1.6169, \n",
      "=============================================================\n"
     ]
    },
    {
     "name": "stdout",
     "output_type": "stream",
     "text": [
      "epoch: 4, [batch: 1 / 1629], examples_per_second: 16.9811, train_label_loss: 0.0070, \n"
     ]
    },
    {
     "name": "stdout",
     "output_type": "stream",
     "text": [
      "epoch: 4, [batch: 163 / 1629], examples_per_second: 3149.7507, train_label_loss: 0.0007, \n"
     ]
    },
    {
     "name": "stdout",
     "output_type": "stream",
     "text": [
      "epoch: 4, [batch: 326 / 1629], examples_per_second: 3163.8225, train_label_loss: 0.0005, \n"
     ]
    },
    {
     "name": "stdout",
     "output_type": "stream",
     "text": [
      "epoch: 4, [batch: 489 / 1629], examples_per_second: 3190.1351, train_label_loss: 0.0287, \n"
     ]
    },
    {
     "name": "stdout",
     "output_type": "stream",
     "text": [
      "epoch: 4, [batch: 652 / 1629], examples_per_second: 3153.5342, train_label_loss: 0.0359, \n"
     ]
    },
    {
     "name": "stdout",
     "output_type": "stream",
     "text": [
      "epoch: 4, [batch: 815 / 1629], examples_per_second: 3154.3788, train_label_loss: 0.0058, \n"
     ]
    },
    {
     "name": "stdout",
     "output_type": "stream",
     "text": [
      "epoch: 4, [batch: 977 / 1629], examples_per_second: 3164.8663, train_label_loss: 0.0409, \n"
     ]
    },
    {
     "name": "stdout",
     "output_type": "stream",
     "text": [
      "epoch: 4, [batch: 1140 / 1629], examples_per_second: 3151.2917, train_label_loss: 0.0066, \n"
     ]
    },
    {
     "name": "stdout",
     "output_type": "stream",
     "text": [
      "epoch: 4, [batch: 1303 / 1629], examples_per_second: 3168.2235, train_label_loss: 0.0125, \n"
     ]
    },
    {
     "name": "stdout",
     "output_type": "stream",
     "text": [
      "epoch: 4, [batch: 1466 / 1629], examples_per_second: 3188.3403, train_label_loss: 0.0007, \n"
     ]
    },
    {
     "name": "stdout",
     "output_type": "stream",
     "text": [
      "=============================================================\n",
      "epoch: 4, source_val_acc_label: 0.9896, target_val_acc_label: 0.6113, source_val_label_loss: 0.0329, target_val_label_loss: 1.8005, \n",
      "=============================================================\n"
     ]
    },
    {
     "name": "stdout",
     "output_type": "stream",
     "text": [
      "epoch: 5, [batch: 1 / 1629], examples_per_second: 16.9427, train_label_loss: 0.0531, \n"
     ]
    },
    {
     "name": "stdout",
     "output_type": "stream",
     "text": [
      "epoch: 5, [batch: 163 / 1629], examples_per_second: 3176.2730, train_label_loss: 0.0069, \n"
     ]
    },
    {
     "name": "stdout",
     "output_type": "stream",
     "text": [
      "epoch: 5, [batch: 326 / 1629], examples_per_second: 3180.5844, train_label_loss: 0.0213, \n"
     ]
    },
    {
     "name": "stdout",
     "output_type": "stream",
     "text": [
      "epoch: 5, [batch: 489 / 1629], examples_per_second: 3173.1189, train_label_loss: 0.0001, \n"
     ]
    },
    {
     "name": "stdout",
     "output_type": "stream",
     "text": [
      "epoch: 5, [batch: 652 / 1629], examples_per_second: 3181.1128, train_label_loss: 0.0005, \n"
     ]
    },
    {
     "name": "stdout",
     "output_type": "stream",
     "text": [
      "epoch: 5, [batch: 815 / 1629], examples_per_second: 3169.3664, train_label_loss: 0.0299, \n"
     ]
    },
    {
     "name": "stdout",
     "output_type": "stream",
     "text": [
      "epoch: 5, [batch: 977 / 1629], examples_per_second: 3162.7168, train_label_loss: 0.0634, \n"
     ]
    },
    {
     "name": "stdout",
     "output_type": "stream",
     "text": [
      "epoch: 5, [batch: 1140 / 1629], examples_per_second: 3162.8001, train_label_loss: 0.0101, \n"
     ]
    },
    {
     "name": "stdout",
     "output_type": "stream",
     "text": [
      "epoch: 5, [batch: 1303 / 1629], examples_per_second: 3172.4455, train_label_loss: 0.0002, \n"
     ]
    },
    {
     "name": "stdout",
     "output_type": "stream",
     "text": [
      "epoch: 5, [batch: 1466 / 1629], examples_per_second: 3189.5898, train_label_loss: 0.0055, \n"
     ]
    },
    {
     "name": "stdout",
     "output_type": "stream",
     "text": [
      "=============================================================\n",
      "epoch: 5, source_val_acc_label: 0.9925, target_val_acc_label: 0.6171, source_val_label_loss: 0.0313, target_val_label_loss: 2.1151, \n",
      "=============================================================\n"
     ]
    },
    {
     "name": "stdout",
     "output_type": "stream",
     "text": [
      "epoch: 6, [batch: 1 / 1629], examples_per_second: 17.0128, train_label_loss: 0.0479, \n"
     ]
    },
    {
     "name": "stdout",
     "output_type": "stream",
     "text": [
      "epoch: 6, [batch: 163 / 1629], examples_per_second: 3161.7678, train_label_loss: 0.0077, \n"
     ]
    },
    {
     "name": "stdout",
     "output_type": "stream",
     "text": [
      "epoch: 6, [batch: 326 / 1629], examples_per_second: 3179.9353, train_label_loss: 0.1066, \n"
     ]
    },
    {
     "name": "stdout",
     "output_type": "stream",
     "text": [
      "epoch: 6, [batch: 489 / 1629], examples_per_second: 3167.2941, train_label_loss: 0.1884, \n"
     ]
    },
    {
     "name": "stdout",
     "output_type": "stream",
     "text": [
      "epoch: 6, [batch: 652 / 1629], examples_per_second: 3161.3853, train_label_loss: 0.0663, \n"
     ]
    },
    {
     "name": "stdout",
     "output_type": "stream",
     "text": [
      "epoch: 6, [batch: 815 / 1629], examples_per_second: 3182.5025, train_label_loss: 0.0012, \n"
     ]
    },
    {
     "name": "stdout",
     "output_type": "stream",
     "text": [
      "epoch: 6, [batch: 977 / 1629], examples_per_second: 3169.3989, train_label_loss: 0.0043, \n"
     ]
    },
    {
     "name": "stdout",
     "output_type": "stream",
     "text": [
      "epoch: 6, [batch: 1140 / 1629], examples_per_second: 3168.6885, train_label_loss: 0.0014, \n"
     ]
    },
    {
     "name": "stdout",
     "output_type": "stream",
     "text": [
      "epoch: 6, [batch: 1303 / 1629], examples_per_second: 3170.3109, train_label_loss: 0.0079, \n"
     ]
    },
    {
     "name": "stdout",
     "output_type": "stream",
     "text": [
      "epoch: 6, [batch: 1466 / 1629], examples_per_second: 3162.9739, train_label_loss: 0.0000, \n"
     ]
    },
    {
     "name": "stdout",
     "output_type": "stream",
     "text": [
      "=============================================================\n",
      "epoch: 6, source_val_acc_label: 0.9923, target_val_acc_label: 0.6052, source_val_label_loss: 0.0248, target_val_label_loss: 2.2152, \n",
      "=============================================================\n"
     ]
    },
    {
     "name": "stdout",
     "output_type": "stream",
     "text": [
      "Patience (3) exhausted\n"
     ]
    }
   ],
   "source": [
    "###################################\n",
    "# train\n",
    "###################################\n",
    "jig = PTN_Train_Eval_Test_Jig(model, p.BEST_MODEL_PATH, p.device)\n",
    "\n",
    "jig.train(\n",
    "    train_iterable=datasets.source.processed.train,\n",
    "    source_val_iterable=datasets.source.processed.val,\n",
    "    target_val_iterable=datasets.target.processed.val,\n",
    "    num_epochs=p.n_epoch,\n",
    "    num_logs_per_epoch=p.NUM_LOGS_PER_EPOCH,\n",
    "    patience=p.patience,\n",
    "    optimizer=optimizer,\n",
    "    criteria_for_best=p.criteria_for_best,\n",
    ")"
   ]
  },
  {
   "cell_type": "code",
   "execution_count": 14,
   "id": "31e8fabf",
   "metadata": {
    "execution": {
     "iopub.execute_input": "2022-03-06T01:11:19.825154Z",
     "iopub.status.busy": "2022-03-06T01:11:19.824889Z",
     "iopub.status.idle": "2022-03-06T01:11:19.841883Z",
     "shell.execute_reply": "2022-03-06T01:11:19.841630Z"
    },
    "papermill": {
     "duration": 0.042001,
     "end_time": "2022-03-06T01:11:19.841949",
     "exception": false,
     "start_time": "2022-03-06T01:11:19.799948",
     "status": "completed"
    },
    "tags": []
   },
   "outputs": [],
   "source": [
    "total_experiment_time_secs = time.time() - start_time_secs"
   ]
  },
  {
   "cell_type": "code",
   "execution_count": 15,
   "id": "87b9595b",
   "metadata": {
    "execution": {
     "iopub.execute_input": "2022-03-06T01:11:19.892704Z",
     "iopub.status.busy": "2022-03-06T01:11:19.892254Z",
     "iopub.status.idle": "2022-03-06T01:11:52.729500Z",
     "shell.execute_reply": "2022-03-06T01:11:52.729067Z"
    },
    "papermill": {
     "duration": 32.864378,
     "end_time": "2022-03-06T01:11:52.729612",
     "exception": false,
     "start_time": "2022-03-06T01:11:19.865234",
     "status": "completed"
    },
    "tags": []
   },
   "outputs": [],
   "source": [
    "###################################\n",
    "# Evaluate the model\n",
    "###################################\n",
    "source_test_label_accuracy, source_test_label_loss = jig.test(datasets.source.processed.test)\n",
    "target_test_label_accuracy, target_test_label_loss = jig.test(datasets.target.processed.test)\n",
    "\n",
    "source_val_label_accuracy, source_val_label_loss = jig.test(datasets.source.processed.val)\n",
    "target_val_label_accuracy, target_val_label_loss = jig.test(datasets.target.processed.val)\n",
    "\n",
    "history = jig.get_history()\n",
    "\n",
    "total_epochs_trained = len(history[\"epoch_indices\"])\n",
    "\n",
    "val_dl = Iterable_Aggregator((datasets.source.original.val,datasets.target.original.val))\n",
    "\n",
    "confusion = ptn_confusion_by_domain_over_dataloader(model, p.device, val_dl)\n",
    "per_domain_accuracy = per_domain_accuracy_from_confusion(confusion)\n",
    "\n",
    "# Add a key to per_domain_accuracy for if it was a source domain\n",
    "for domain, accuracy in per_domain_accuracy.items():\n",
    "    per_domain_accuracy[domain] = {\n",
    "        \"accuracy\": accuracy,\n",
    "        \"source?\": domain in p.domains_source\n",
    "    }\n",
    "\n",
    "# Do an independent accuracy assesment JUST TO BE SURE!\n",
    "# _source_test_label_accuracy = independent_accuracy_assesment(model, datasets.source.processed.test, p.device)\n",
    "# _target_test_label_accuracy = independent_accuracy_assesment(model, datasets.target.processed.test, p.device)\n",
    "# _source_val_label_accuracy = independent_accuracy_assesment(model, datasets.source.processed.val, p.device)\n",
    "# _target_val_label_accuracy = independent_accuracy_assesment(model, datasets.target.processed.val, p.device)\n",
    "\n",
    "# assert(_source_test_label_accuracy == source_test_label_accuracy)\n",
    "# assert(_target_test_label_accuracy == target_test_label_accuracy)\n",
    "# assert(_source_val_label_accuracy == source_val_label_accuracy)\n",
    "# assert(_target_val_label_accuracy == target_val_label_accuracy)\n",
    "\n",
    "experiment = {\n",
    "    \"experiment_name\": p.experiment_name,\n",
    "    \"parameters\": dict(p),\n",
    "    \"results\": {\n",
    "        \"source_test_label_accuracy\": source_test_label_accuracy,\n",
    "        \"source_test_label_loss\": source_test_label_loss,\n",
    "        \"target_test_label_accuracy\": target_test_label_accuracy,\n",
    "        \"target_test_label_loss\": target_test_label_loss,\n",
    "        \"source_val_label_accuracy\": source_val_label_accuracy,\n",
    "        \"source_val_label_loss\": source_val_label_loss,\n",
    "        \"target_val_label_accuracy\": target_val_label_accuracy,\n",
    "        \"target_val_label_loss\": target_val_label_loss,\n",
    "        \"total_epochs_trained\": total_epochs_trained,\n",
    "        \"total_experiment_time_secs\": total_experiment_time_secs,\n",
    "        \"confusion\": confusion,\n",
    "        \"per_domain_accuracy\": per_domain_accuracy,\n",
    "    },\n",
    "    \"history\": history,\n",
    "    \"dataset_metrics\": get_dataset_metrics(datasets, \"ptn\"),\n",
    "}"
   ]
  },
  {
   "cell_type": "code",
   "execution_count": 16,
   "id": "54a21829",
   "metadata": {
    "execution": {
     "iopub.execute_input": "2022-03-06T01:11:52.797018Z",
     "iopub.status.busy": "2022-03-06T01:11:52.796609Z",
     "iopub.status.idle": "2022-03-06T01:11:52.974924Z",
     "shell.execute_reply": "2022-03-06T01:11:52.975152Z"
    },
    "papermill": {
     "duration": 0.202589,
     "end_time": "2022-03-06T01:11:52.975233",
     "exception": false,
     "start_time": "2022-03-06T01:11:52.772644",
     "status": "completed"
    },
    "tags": []
   },
   "outputs": [
    {
     "data": {
      "image/png": "[encoded data removed]",
      "text/plain": [
       "<Figure size 1080x504 with 1 Axes>"
      ]
     },
     "metadata": {
      "needs_background": "light"
     },
     "output_type": "display_data"
    }
   ],
   "source": [
    "ax = get_loss_curve(experiment)\n",
    "plt.show()"
   ]
  },
  {
   "cell_type": "code",
   "execution_count": 17,
   "id": "fd8a0f60",
   "metadata": {
    "execution": {
     "iopub.execute_input": "2022-03-06T01:11:53.025341Z",
     "iopub.status.busy": "2022-03-06T01:11:53.024933Z",
     "iopub.status.idle": "2022-03-06T01:11:53.204497Z",
     "shell.execute_reply": "2022-03-06T01:11:53.204187Z"
    },
    "papermill": {
     "duration": 0.20455,
     "end_time": "2022-03-06T01:11:53.204565",
     "exception": false,
     "start_time": "2022-03-06T01:11:53.000015",
     "status": "completed"
    },
    "tags": []
   },
   "outputs": [
    {
     "data": {
      "text/plain": [
       "<matplotlib.axes._subplots.AxesSubplot at 0x7f6cd0a8f4f0>"
      ]
     },
     "execution_count": 17,
     "metadata": {},
     "output_type": "execute_result"
    },
    {
     "data": {
      "image/png": "[encoded data removed]",
      "text/plain": [
       "<Figure size 1080x504 with 1 Axes>"
      ]
     },
     "metadata": {
      "needs_background": "light"
     },
     "output_type": "display_data"
    }
   ],
   "source": [
    "get_results_table(experiment)"
   ]
  },
  {
   "cell_type": "code",
   "execution_count": 18,
   "id": "cf8dc689",
   "metadata": {
    "execution": {
     "iopub.execute_input": "2022-03-06T01:11:53.260033Z",
     "iopub.status.busy": "2022-03-06T01:11:53.259615Z",
     "iopub.status.idle": "2022-03-06T01:11:53.431256Z",
     "shell.execute_reply": "2022-03-06T01:11:53.430965Z"
    },
    "papermill": {
     "duration": 0.198318,
     "end_time": "2022-03-06T01:11:53.431320",
     "exception": false,
     "start_time": "2022-03-06T01:11:53.233002",
     "status": "completed"
    },
    "tags": []
   },
   "outputs": [
    {
     "data": {
      "text/plain": [
       "<matplotlib.axes._subplots.AxesSubplot at 0x7f6cd06f21c0>"
      ]
     },
     "execution_count": 18,
     "metadata": {},
     "output_type": "execute_result"
    },
    {
     "data": {
      "image/png": "[encoded data removed]",
      "text/plain": [
       "<Figure size 1080x504 with 1 Axes>"
      ]
     },
     "metadata": {
      "needs_background": "light"
     },
     "output_type": "display_data"
    }
   ],
   "source": [
    "get_domain_accuracies(experiment)"
   ]
  },
  {
   "cell_type": "code",
   "execution_count": 19,
   "id": "a74ae082",
   "metadata": {
    "execution": {
     "iopub.execute_input": "2022-03-06T01:11:53.487834Z",
     "iopub.status.busy": "2022-03-06T01:11:53.487420Z",
     "iopub.status.idle": "2022-03-06T01:11:53.498105Z",
     "shell.execute_reply": "2022-03-06T01:11:53.498329Z"
    },
    "papermill": {
     "duration": 0.03841,
     "end_time": "2022-03-06T01:11:53.498405",
     "exception": false,
     "start_time": "2022-03-06T01:11:53.459995",
     "status": "completed"
    },
    "tags": []
   },
   "outputs": [
    {
     "name": "stdout",
     "output_type": "stream",
     "text": [
      "Source Test Label Accuracy: 0.9505876068376068 Target Test Label Accuracy: 0.5933493589743589\n",
      "Source Val Label Accuracy: 0.9512553418803419 Target Val Label Accuracy: 0.5879807692307693\n"
     ]
    }
   ],
   "source": [
    "print(\"Source Test Label Accuracy:\", experiment[\"results\"][\"source_test_label_accuracy\"], \"Target Test Label Accuracy:\", experiment[\"results\"][\"target_test_label_accuracy\"])\n",
    "print(\"Source Val Label Accuracy:\", experiment[\"results\"][\"source_val_label_accuracy\"], \"Target Val Label Accuracy:\", experiment[\"results\"][\"target_val_label_accuracy\"])"
   ]
  },
  {
   "cell_type": "code",
   "execution_count": 20,
   "id": "dacca602",
   "metadata": {
    "execution": {
     "iopub.execute_input": "2022-03-06T01:11:53.554136Z",
     "iopub.status.busy": "2022-03-06T01:11:53.553729Z",
     "iopub.status.idle": "2022-03-06T01:11:53.564973Z",
     "shell.execute_reply": "2022-03-06T01:11:53.565196Z"
    },
    "papermill": {
     "duration": 0.038761,
     "end_time": "2022-03-06T01:11:53.565270",
     "exception": false,
     "start_time": "2022-03-06T01:11:53.526509",
     "status": "completed"
    },
    "tags": [
     "experiment_json"
    ]
   },
   "outputs": [
    {
     "data": {
      "text/plain": [
       "'{\"experiment_name\": \"tuned_1_oracle.run1.framed\", \"parameters\": {\"experiment_name\": \"tuned_1_oracle.run1.framed\", \"device\": \"cuda\", \"lr\": 0.001, \"seed\": 1337, \"dataset_seed\": 1337, \"labels_source\": [\"3123D52\", \"3123D65\", \"3123D79\", \"3123D80\", \"3123D54\", \"3123D70\", \"3123D7B\", \"3123D89\", \"3123D58\", \"3123D76\", \"3123D7D\", \"3123EFE\", \"3123D64\", \"3123D78\", \"3123D7E\", \"3124E4A\"], \"labels_target\": [\"3123D52\", \"3123D65\", \"3123D79\", \"3123D80\", \"3123D54\", \"3123D70\", \"3123D7B\", \"3123D89\", \"3123D58\", \"3123D76\", \"3123D7D\", \"3123EFE\", \"3123D64\", \"3123D78\", \"3123D7E\", \"3124E4A\"], \"x_transforms_source\": [], \"x_transforms_target\": [], \"episode_transforms_source\": [], \"episode_transforms_target\": [], \"domains_source\": [8, 32, 50], \"domains_target\": [14, 20, 26, 38, 44], \"num_examples_per_domain_per_label_source\": 1300, \"num_examples_per_domain_per_label_target\": 1300, \"n_shot\": 3, \"n_way\": 16, \"n_query\": 2, \"train_k_factor\": 3, \"val_k_factor\": 2, \"test_k_factor\": 2, \"torch_default_dtype\": \"torch.float32\", \"n_epoch\": 50, \"patience\": 3, \"criteria_for_best\": \"target_loss\", \"x_net\": [{\"class\": \"nnReshape\", \"kargs\": {\"shape\": [-1, 1, 2, 256]}}, {\"class\": \"Conv2d\", \"kargs\": {\"in_channels\": 1, \"out_channels\": 256, \"kernel_size\": [1, 7], \"bias\": false, \"padding\": [0, 3]}}, {\"class\": \"ReLU\", \"kargs\": {\"inplace\": true}}, {\"class\": \"BatchNorm2d\", \"kargs\": {\"num_features\": 256}}, {\"class\": \"Conv2d\", \"kargs\": {\"in_channels\": 256, \"out_channels\": 80, \"kernel_size\": [2, 7], \"bias\": true, \"padding\": [0, 3]}}, {\"class\": \"ReLU\", \"kargs\": {\"inplace\": true}}, {\"class\": \"BatchNorm2d\", \"kargs\": {\"num_features\": 80}}, {\"class\": \"Flatten\", \"kargs\": {}}, {\"class\": \"Linear\", \"kargs\": {\"in_features\": 20480, \"out_features\": 256}}, {\"class\": \"ReLU\", \"kargs\": {\"inplace\": true}}, {\"class\": \"BatchNorm1d\", \"kargs\": {\"num_features\": 256}}, {\"class\": \"Linear\", \"kargs\": {\"in_features\": 256, \"out_features\": 256}}], \"NUM_LOGS_PER_EPOCH\": 10, \"BEST_MODEL_PATH\": \"./best_model.pth\", \"pickle_name\": \"oracle.Run1_framed_1300Examples_stratified_ds.2022A.pkl\"}, \"results\": {\"source_test_label_accuracy\": 0.9505876068376068, \"source_test_label_loss\": 0.1522480547428131, \"target_test_label_accuracy\": 0.5933493589743589, \"target_test_label_loss\": 1.3867690563201904, \"source_val_label_accuracy\": 0.9512553418803419, \"source_val_label_loss\": 0.14124245941638947, \"target_val_label_accuracy\": 0.5879807692307693, \"target_val_label_loss\": 1.3970240354537964, \"total_epochs_trained\": 6, \"total_experiment_time_secs\": 281.6863651275635, \"confusion\": {\"8\": {\"15\": {\"15\": 152, \"12\": 4}, \"3\": {\"3\": 156}, \"6\": {\"6\": 81, \"7\": 40, \"1\": 34, \"5\": 1}, \"1\": {\"1\": 107, \"7\": 2, \"11\": 16, \"6\": 31}, \"8\": {\"8\": 144, \"4\": 11, \"14\": 1}, \"10\": {\"13\": 9, \"10\": 131, \"5\": 16}, \"9\": {\"9\": 156}, \"13\": {\"13\": 152, \"10\": 4}, \"12\": {\"12\": 151, \"15\": 4, \"2\": 1}, \"5\": {\"5\": 138, \"10\": 13, \"7\": 4, \"6\": 1}, \"0\": {\"0\": 156}, \"2\": {\"2\": 141, \"12\": 15}, \"11\": {\"11\": 145, \"1\": 8, \"4\": 3}, \"14\": {\"14\": 156}, \"7\": {\"7\": 123, \"6\": 26, \"5\": 7}, \"4\": {\"4\": 146, \"11\": 5, \"8\": 5}}, \"50\": {\"3\": {\"3\": 155, \"5\": 1}, \"15\": {\"15\": 155, \"4\": 1}, \"8\": {\"8\": 155, \"13\": 1}, \"4\": {\"4\": 156}, \"14\": {\"14\": 154, \"2\": 2}, \"0\": {\"0\": 153, \"2\": 3}, \"7\": {\"7\": 156}, \"6\": {\"6\": 154, \"5\": 1, \"15\": 1}, \"10\": {\"10\": 154, \"0\": 2}, \"5\": {\"5\": 155, \"6\": 1}, \"2\": {\"2\": 154, \"0\": 2}, \"12\": {\"12\": 146, \"9\": 7, \"11\": 3}, \"9\": {\"9\": 148, \"12\": 8}, \"1\": {\"1\": 155, \"11\": 1}, \"11\": {\"11\": 151, \"12\": 3, \"9\": 2}, \"13\": {\"13\": 155, \"1\": 1}}, \"32\": {\"5\": {\"5\": 151, \"0\": 5}, \"8\": {\"8\": 138, \"0\": 10, \"7\": 8}, \"11\": {\"11\": 156}, \"1\": {\"1\": 156}, \"10\": {\"10\": 155, \"12\": 1}, \"15\": {\"15\": 156}, \"3\": {\"3\": 147, \"4\": 5, \"13\": 4}, \"7\": {\"7\": 149, \"8\": 3, \"14\": 4}, \"4\": {\"4\": 154, \"3\": 2}, \"14\": {\"14\": 152, \"7\": 4}, \"9\": {\"9\": 156}, \"12\": {\"12\": 156}, \"6\": {\"6\": 156}, \"2\": {\"2\": 154, \"4\": 2}, \"0\": {\"0\": 143, \"5\": 5, \"8\": 8}, \"13\": {\"13\": 153, \"4\": 1, \"3\": 2}}, \"14\": {\"15\": {\"15\": 156}, \"3\": {\"6\": 19, \"0\": 1, \"2\": 18, \"3\": 94, \"14\": 19, \"8\": 2, \"7\": 3}, \"6\": {\"7\": 23, \"3\": 28, \"14\": 39, \"6\": 31, \"8\": 14, \"0\": 17, \"2\": 3, \"5\": 1}, \"1\": {\"1\": 127, \"9\": 29}, \"8\": {\"0\": 30, \"8\": 49, \"5\": 34, \"7\": 14, \"14\": 20, \"6\": 4, \"12\": 4, \"3\": 1}, \"10\": {\"10\": 126, \"4\": 29, \"12\": 1}, \"9\": {\"9\": 118, \"1\": 36, \"10\": 2}, \"13\": {\"13\": 156}, \"12\": {\"12\": 120, \"5\": 17, \"4\": 9, \"8\": 5, \"0\": 4, \"10\": 1}, \"5\": {\"5\": 92, \"6\": 2, \"8\": 35, \"4\": 3, \"12\": 15, \"0\": 4, \"7\": 5}, \"0\": {\"0\": 71, \"6\": 9, \"7\": 4, \"14\": 19, \"8\": 36, \"5\": 11, \"3\": 3, \"12\": 3}, \"2\": {\"2\": 142, \"3\": 11, \"6\": 2, \"7\": 1}, \"11\": {\"11\": 156}, \"14\": {\"14\": 53, \"7\": 16, \"3\": 21, \"6\": 30, \"2\": 1, \"0\": 27, \"8\": 8}, \"7\": {\"7\": 69, \"14\": 19, \"8\": 24, \"5\": 5, \"6\": 26, \"0\": 9, \"3\": 4}, \"4\": {\"4\": 129, \"10\": 22, \"12\": 5}}, \"20\": {\"3\": {\"14\": 57, \"3\": 52, \"8\": 31, \"0\": 4, \"9\": 7, \"5\": 5}, \"15\": {\"10\": 6, \"13\": 35, \"12\": 25, \"4\": 27, \"2\": 17, \"15\": 42, \"6\": 2, \"7\": 2}, \"8\": {\"8\": 41, \"3\": 45, \"14\": 41, \"9\": 15, \"5\": 12, \"1\": 1, \"7\": 1}, \"4\": {\"2\": 15, \"12\": 32, \"15\": 29, \"13\": 40, \"4\": 27, \"1\": 3, \"7\": 4, \"6\": 3, \"10\": 3}, \"14\": {\"14\": 47, \"3\": 56, \"8\": 43, \"9\": 3, \"5\": 4, \"0\": 3}, \"0\": {\"0\": 114, \"11\": 32, \"14\": 4, \"3\": 6}, \"7\": {\"5\": 44, \"9\": 21, \"12\": 12, \"7\": 10, \"1\": 18, \"6\": 24, \"2\": 14, \"15\": 4, \"4\": 4, \"3\": 1, \"13\": 3, \"14\": 1}, \"6\": {\"9\": 18, \"7\": 26, \"4\": 6, \"5\": 20, \"6\": 48, \"15\": 4, \"1\": 13, \"12\": 8, \"2\": 8, \"13\": 5}, \"10\": {\"10\": 135, \"13\": 12, \"4\": 6, \"15\": 3}, \"5\": {\"6\": 6, \"5\": 33, \"7\": 23, \"9\": 42, \"1\": 27, \"8\": 13, \"3\": 4, \"14\": 4, \"2\": 2, \"4\": 1, \"12\": 1}, \"2\": {\"12\": 20, \"15\": 20, \"2\": 24, \"4\": 17, \"7\": 16, \"5\": 13, \"1\": 20, \"13\": 8, \"6\": 11, \"9\": 7}, \"12\": {\"7\": 10, \"1\": 6, \"13\": 19, \"5\": 1, \"15\": 30, \"12\": 37, \"4\": 25, \"2\": 19, \"6\": 9}, \"9\": {\"9\": 41, \"7\": 15, \"5\": 40, \"6\": 17, \"8\": 12, \"14\": 6, \"12\": 3, \"3\": 7, \"2\": 5, \"1\": 10}, \"1\": {\"1\": 55, \"9\": 11, \"5\": 29, \"7\": 21, \"2\": 17, \"6\": 9, \"8\": 2, \"12\": 9, \"4\": 2, \"15\": 1}, \"11\": {\"0\": 25, \"11\": 131}, \"13\": {\"4\": 33, \"13\": 74, \"15\": 32, \"2\": 3, \"10\": 6, \"12\": 8}}, \"44\": {\"5\": {\"14\": 48, \"5\": 92, \"15\": 14, \"4\": 2}, \"8\": {\"8\": 134, \"15\": 17, \"4\": 3, \"0\": 2}, \"11\": {\"11\": 156}, \"1\": {\"1\": 128, \"2\": 23, \"8\": 2, \"0\": 3}, \"10\": {\"10\": 127, \"7\": 24, \"9\": 3, \"2\": 2}, \"15\": {\"4\": 34, \"15\": 72, \"5\": 21, \"8\": 12, \"14\": 17}, \"3\": {\"3\": 119, \"12\": 37}, \"7\": {\"9\": 27, \"7\": 86, \"10\": 42, \"6\": 1}, \"4\": {\"4\": 108, \"15\": 31, \"14\": 13, \"5\": 2, \"8\": 1, \"7\": 1}, \"14\": {\"15\": 23, \"14\": 65, \"5\": 59, \"4\": 7, \"9\": 2}, \"9\": {\"9\": 121, \"7\": 30, \"10\": 2, \"6\": 3}, \"12\": {\"12\": 124, \"3\": 32}, \"6\": {\"13\": 52, \"6\": 102, \"9\": 2}, \"2\": {\"2\": 110, \"4\": 6, \"1\": 33, \"10\": 5, \"8\": 2}, \"0\": {\"0\": 153, \"8\": 3}, \"13\": {\"13\": 102, \"6\": 54}}, \"38\": {\"14\": {\"14\": 133, \"2\": 23}, \"0\": {\"0\": 142, \"4\": 14}, \"13\": {\"0\": 9, \"13\": 93, \"10\": 19, \"4\": 35}, \"7\": {\"7\": 139, \"9\": 13, \"2\": 2, \"8\": 1, \"14\": 1}, \"9\": {\"8\": 44, \"9\": 108, \"7\": 4}, \"3\": {\"3\": 156}, \"11\": {\"11\": 156}, \"6\": {\"6\": 153, \"1\": 3}, \"8\": {\"8\": 81, \"9\": 53, \"12\": 19, \"5\": 1, \"7\": 2}, \"4\": {\"4\": 104, \"13\": 40, \"0\": 9, \"10\": 2, \"14\": 1}, \"5\": {\"15\": 62, \"5\": 73, \"12\": 17, \"8\": 4}, \"10\": {\"10\": 139, \"13\": 17}, \"1\": {\"1\": 153, \"6\": 3}, \"2\": {\"2\": 127, \"14\": 27, \"7\": 2}, \"15\": {\"15\": 83, \"5\": 66, \"12\": 7}, \"12\": {\"12\": 132, \"8\": 10, \"15\": 6, \"5\": 7, \"9\": 1}}, \"26\": {\"13\": {\"13\": 94, \"3\": 56, \"4\": 3, \"7\": 2, \"2\": 1}, \"2\": {\"7\": 32, \"9\": 33, \"2\": 66, \"13\": 2, \"3\": 13, \"8\": 10}, \"8\": {\"9\": 40, \"7\": 25, \"12\": 13, \"2\": 37, \"8\": 26, \"3\": 11, \"1\": 1, \"0\": 2, \"13\": 1}, \"9\": {\"9\": 52, \"2\": 30, \"8\": 32, \"7\": 35, \"12\": 1, \"3\": 5, \"13\": 1}, \"12\": {\"12\": 105, \"9\": 12, \"3\": 5, \"2\": 3, \"8\": 22, \"13\": 2, \"7\": 6, \"0\": 1}, \"4\": {\"4\": 154, \"13\": 2}, \"3\": {\"3\": 65, \"13\": 52, \"2\": 25, \"8\": 6, \"4\": 3, \"7\": 3, \"12\": 2}, \"15\": {\"6\": 12, \"15\": 25, \"1\": 26, \"0\": 28, \"11\": 7, \"5\": 23, \"14\": 18, \"10\": 16, \"8\": 1}, \"14\": {\"15\": 28, \"1\": 21, \"10\": 37, \"6\": 7, \"0\": 25, \"5\": 11, \"14\": 22, \"11\": 2, \"9\": 1, \"8\": 1, \"12\": 1}, \"10\": {\"14\": 25, \"1\": 28, \"10\": 27, \"6\": 7, \"15\": 18, \"8\": 5, \"5\": 22, \"11\": 7, \"0\": 12, \"7\": 1, \"9\": 4}, \"7\": {\"13\": 8, \"9\": 43, \"2\": 35, \"7\": 44, \"8\": 14, \"3\": 11, \"12\": 1}, \"11\": {\"11\": 139, \"15\": 3, \"5\": 7, \"10\": 6, \"1\": 1}, \"6\": {\"11\": 4, \"15\": 24, \"1\": 29, \"0\": 9, \"5\": 36, \"6\": 39, \"10\": 10, \"14\": 5}, \"1\": {\"6\": 26, \"0\": 17, \"14\": 12, \"1\": 37, \"15\": 24, \"5\": 22, \"10\": 18}, \"5\": {\"10\": 21, \"5\": 31, \"1\": 31, \"6\": 26, \"0\": 11, \"14\": 6, \"15\": 17, \"11\": 13}, \"0\": {\"0\": 41, \"1\": 23, \"15\": 23, \"10\": 33, \"14\": 26, \"5\": 6, \"8\": 1, \"6\": 3}}}, \"per_domain_accuracy\": {\"8\": {\"accuracy\": 0.8954326923076923, \"source?\": true}, \"50\": {\"accuracy\": 0.9839743589743589, \"source?\": true}, \"32\": {\"accuracy\": 0.9743589743589743, \"source?\": true}, \"14\": {\"accuracy\": 0.6766826923076923, \"source?\": false}, \"20\": {\"accuracy\": 0.36498397435897434, \"source?\": false}, \"44\": {\"accuracy\": 0.7207532051282052, \"source?\": false}, \"38\": {\"accuracy\": 0.7900641025641025, \"source?\": false}, \"26\": {\"accuracy\": 0.3874198717948718, \"source?\": false}}}, \"history\": {\"epoch_indices\": [1, 2, 3, 4, 5, 6], \"train_label_loss\": [0.4755157495639015, 0.24089048716773898, 0.060881478587455164, 0.0406094348016021, 0.030908676534157783, 0.03264245030032977], \"source_val_label_loss\": [1.3797423839569092, 0.14124245941638947, 0.06152825802564621, 0.03290443867444992, 0.03125740587711334, 0.02475346438586712], \"target_val_label_loss\": [3.858802556991577, 1.3970240354537964, 1.6168705224990845, 1.800487995147705, 2.1150732040405273, 2.2151904106140137], \"source_val_acc_label\": [0.8790064102564102, 0.9512553418803419, 0.9790331196581197, 0.9895833333333334, 0.9925213675213675, 0.9922542735042735], \"target_val_acc_label\": [0.5546474358974359, 0.5879807692307693, 0.6048878205128205, 0.6112980769230769, 0.6170673076923077, 0.6052083333333333]}, \"dataset_metrics\": {\"source\": {\"train\": {\"n_unique_x\": 43632, \"n_unique_y\": 16, \"n_batch/episode\": 1629}, \"val\": {\"n_unique_x\": 9360, \"n_unique_y\": 16, \"n_batch/episode\": 234}, \"test\": {\"n_unique_x\": 9408, \"n_unique_y\": 16, \"n_batch/episode\": 234}}, \"target\": {\"train\": {\"n_unique_x\": 72719, \"n_unique_y\": 16, \"n_batch/episode\": 2715}, \"val\": {\"n_unique_x\": 15600, \"n_unique_y\": 16, \"n_batch/episode\": 390}, \"test\": {\"n_unique_x\": 15680, \"n_unique_y\": 16, \"n_batch/episode\": 390}}}}'"
      ]
     },
     "execution_count": 20,
     "metadata": {},
     "output_type": "execute_result"
    }
   ],
   "source": [
    "json.dumps(experiment)"
   ]
  }
 ],
 "metadata": {
  "celltoolbar": "Tags",
  "kernelspec": {
   "display_name": "Python 3 (ipykernel)",
   "language": "python",
   "name": "python3"
  },
  "language_info": {
   "codemirror_mode": {
    "name": "ipython",
    "version": 3
   },
   "file_extension": ".py",
   "mimetype": "text/x-python",
   "name": "python",
   "nbconvert_exporter": "python",
   "pygments_lexer": "ipython3",
   "version": "3.8.10"
  },
  "papermill": {
   "default_parameters": {},
   "duration": 318.001869,
   "end_time": "2022-03-06T01:11:54.199987",
   "environment_variables": {},
   "exception": null,
   "input_path": "/mnt/wd500GB/CSC500/csc500-main/csc500-notebooks/templates/ptn_template.ipynb",
   "output_path": "trial.ipynb",
   "parameters": {
    "parameters": {
     "BEST_MODEL_PATH": "./best_model.pth",
     "NUM_LOGS_PER_EPOCH": 10,
     "criteria_for_best": "target_loss",
     "dataset_seed": 1337,
     "device": "cuda",
     "domains_source": [
      8,
      32,
      50
     ],
     "domains_target": [
      14,
      20,
      26,
      38,
      44
     ],
     "episode_transforms_source": [],
     "episode_transforms_target": [],
     "experiment_name": "tuned_1_oracle.run1.framed",
     "labels_source": [
      "3123D52",
      "3123D65",
      "3123D79",
      "3123D80",
      "3123D54",
      "3123D70",
      "3123D7B",
      "3123D89",
      "3123D58",
      "3123D76",
      "3123D7D",
      "3123EFE",
      "3123D64",
      "3123D78",
      "3123D7E",
      "3124E4A"
     ],
     "labels_target": [
      "3123D52",
      "3123D65",
      "3123D79",
      "3123D80",
      "3123D54",
      "3123D70",
      "3123D7B",
      "3123D89",
      "3123D58",
      "3123D76",
      "3123D7D",
      "3123EFE",
      "3123D64",
      "3123D78",
      "3123D7E",
      "3124E4A"
     ],
     "lr": 0.001,
     "n_epoch": 50,
     "n_query": 2,
     "n_shot": 3,
     "n_way": 16,
     "num_examples_per_domain_per_label_source": 1300,
     "num_examples_per_domain_per_label_target": 1300,
     "patience": 3,
     "pickle_name": "oracle.Run1_framed_1300Examples_stratified_ds.2022A.pkl",
     "seed": 1337,
     "test_k_factor": 2,
     "torch_default_dtype": "torch.float32",
     "train_k_factor": 3,
     "val_k_factor": 2,
     "x_net": [
      {
       "class": "nnReshape",
       "kargs": {
        "shape": [
         -1,
         1,
         2,
         256
        ]
       }
      },
      {
       "class": "Conv2d",
       "kargs": {
        "bias": false,
        "in_channels": 1,
        "kernel_size": [
         1,
         7
        ],
        "out_channels": 256,
        "padding": [
         0,
         3
        ]
       }
      },
      {
       "class": "ReLU",
       "kargs": {
        "inplace": true
       }
      },
      {
       "class": "BatchNorm2d",
       "kargs": {
        "num_features": 256
       }
      },
      {
       "class": "Conv2d",
       "kargs": {
        "bias": true,
        "in_channels": 256,
        "kernel_size": [
         2,
         7
        ],
        "out_channels": 80,
        "padding": [
         0,
         3
        ]
       }
      },
      {
       "class": "ReLU",
       "kargs": {
        "inplace": true
       }
      },
      {
       "class": "BatchNorm2d",
       "kargs": {
        "num_features": 80
       }
      },
      {
       "class": "Flatten",
       "kargs": {}
      },
      {
       "class": "Linear",
       "kargs": {
        "in_features": 20480,
        "out_features": 256
       }
      },
      {
       "class": "ReLU",
       "kargs": {
        "inplace": true
       }
      },
      {
       "class": "BatchNorm1d",
       "kargs": {
        "num_features": 256
       }
      },
      {
       "class": "Linear",
       "kargs": {
        "in_features": 256,
        "out_features": 256
       }
      }
     ],
     "x_transforms_source": [],
     "x_transforms_target": []
    }
   },
   "start_time": "2022-03-06T01:06:36.198118",
   "version": "2.3.4"
  }
 },
 "nbformat": 4,
 "nbformat_minor": 5
}