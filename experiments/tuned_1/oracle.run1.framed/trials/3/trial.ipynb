{
 "cells": [
  {
   "cell_type": "markdown",
   "id": "9fea5f46",
   "metadata": {
    "papermill": {
     "duration": 0.01454,
     "end_time": "2022-03-06T02:51:18.968445",
     "exception": false,
     "start_time": "2022-03-06T02:51:18.953905",
     "status": "completed"
    },
    "tags": []
   },
   "source": [
    "# PTN Template\n",
    "This notebook serves as a template for single dataset PTN experiments  \n",
    "It can be run on its own by setting STANDALONE to True (do a find for \"STANDALONE\" to see where)  \n",
    "But it is intended to be executed as part of a *papermill.py script. See any of the   \n",
    "experimentes with a papermill script to get started with that workflow.  "
   ]
  },
  {
   "cell_type": "code",
   "execution_count": 1,
   "id": "0902182a",
   "metadata": {
    "execution": {
     "iopub.execute_input": "2022-03-06T02:51:19.002019Z",
     "iopub.status.busy": "2022-03-06T02:51:19.000137Z",
     "iopub.status.idle": "2022-03-06T02:51:19.790927Z",
     "shell.execute_reply": "2022-03-06T02:51:19.791301Z"
    },
    "papermill": {
     "duration": 0.812914,
     "end_time": "2022-03-06T02:51:19.791493",
     "exception": false,
     "start_time": "2022-03-06T02:51:18.978579",
     "status": "completed"
    },
    "tags": []
   },
   "outputs": [],
   "source": [
    "%load_ext autoreload\n",
    "%autoreload 2\n",
    "%matplotlib inline\n",
    "\n",
    "    \n",
    "import os, json, sys, time, random\n",
    "import numpy as np\n",
    "import torch\n",
    "from torch.optim import Adam\n",
    "from  easydict import EasyDict\n",
    "import matplotlib.pyplot as plt\n",
    "\n",
    "from steves_models.steves_ptn import Steves_Prototypical_Network\n",
    "\n",
    "from steves_utils.lazy_iterable_wrapper import Lazy_Iterable_Wrapper\n",
    "from steves_utils.iterable_aggregator import Iterable_Aggregator\n",
    "from steves_utils.ptn_train_eval_test_jig import  PTN_Train_Eval_Test_Jig\n",
    "from steves_utils.torch_sequential_builder import build_sequential\n",
    "from steves_utils.torch_utils import get_dataset_metrics, ptn_confusion_by_domain_over_dataloader\n",
    "from steves_utils.utils_v2 import (per_domain_accuracy_from_confusion, get_datasets_base_path)\n",
    "from steves_utils.PTN.utils import independent_accuracy_assesment\n",
    "\n",
    "from steves_utils.stratified_dataset.episodic_accessor import Episodic_Accessor_Factory\n",
    "\n",
    "from steves_utils.ptn_do_report import (\n",
    "    get_loss_curve,\n",
    "    get_results_table,\n",
    "    get_parameters_table,\n",
    "    get_domain_accuracies,\n",
    ")\n",
    "\n",
    "from steves_utils.transforms import get_chained_transform"
   ]
  },
  {
   "cell_type": "markdown",
   "id": "41c840b4",
   "metadata": {
    "papermill": {
     "duration": 0.009073,
     "end_time": "2022-03-06T02:51:19.816099",
     "exception": false,
     "start_time": "2022-03-06T02:51:19.807026",
     "status": "completed"
    },
    "tags": []
   },
   "source": [
    "# Required Parameters\n",
    "These are allowed parameters, not defaults\n",
    "Each of these values need to be present in the injected parameters (the notebook will raise an exception if they are not present)\n",
    "\n",
    "Papermill uses the cell tag \"parameters\" to inject the real parameters below this cell.\n",
    "Enable tags to see what I mean"
   ]
  },
  {
   "cell_type": "code",
   "execution_count": 2,
   "id": "fd44eb83",
   "metadata": {
    "execution": {
     "iopub.execute_input": "2022-03-06T02:51:19.837917Z",
     "iopub.status.busy": "2022-03-06T02:51:19.837606Z",
     "iopub.status.idle": "2022-03-06T02:51:19.848716Z",
     "shell.execute_reply": "2022-03-06T02:51:19.849092Z"
    },
    "papermill": {
     "duration": 0.023915,
     "end_time": "2022-03-06T02:51:19.849202",
     "exception": false,
     "start_time": "2022-03-06T02:51:19.825287",
     "status": "completed"
    },
    "tags": []
   },
   "outputs": [],
   "source": [
    "required_parameters = {\n",
    "    \"experiment_name\",\n",
    "    \"lr\",\n",
    "    \"device\",\n",
    "    \"seed\",\n",
    "    \"dataset_seed\",\n",
    "    \"labels_source\",\n",
    "    \"labels_target\",\n",
    "    \"domains_source\",\n",
    "    \"domains_target\",\n",
    "    \"num_examples_per_domain_per_label_source\",\n",
    "    \"num_examples_per_domain_per_label_target\",\n",
    "    \"n_shot\",\n",
    "    \"n_way\",\n",
    "    \"n_query\",\n",
    "    \"train_k_factor\",\n",
    "    \"val_k_factor\",\n",
    "    \"test_k_factor\",\n",
    "    \"n_epoch\",\n",
    "    \"patience\",\n",
    "    \"criteria_for_best\",\n",
    "    \"x_transforms_source\",\n",
    "    \"x_transforms_target\",\n",
    "    \"episode_transforms_source\",\n",
    "    \"episode_transforms_target\",\n",
    "    \"pickle_name\",\n",
    "    \"x_net\",\n",
    "    \"NUM_LOGS_PER_EPOCH\",\n",
    "    \"BEST_MODEL_PATH\",\n",
    "    \"torch_default_dtype\"\n",
    "}"
   ]
  },
  {
   "cell_type": "code",
   "execution_count": 3,
   "id": "fa3f0049",
   "metadata": {
    "execution": {
     "iopub.execute_input": "2022-03-06T02:51:19.882734Z",
     "iopub.status.busy": "2022-03-06T02:51:19.874194Z",
     "iopub.status.idle": "2022-03-06T02:51:19.894324Z",
     "shell.execute_reply": "2022-03-06T02:51:19.894771Z"
    },
    "papermill": {
     "duration": 0.031554,
     "end_time": "2022-03-06T02:51:19.894910",
     "exception": false,
     "start_time": "2022-03-06T02:51:19.863356",
     "status": "completed"
    },
    "tags": [
     "parameters"
    ]
   },
   "outputs": [],
   "source": [
    "\n",
    "\n",
    "standalone_parameters = {}\n",
    "standalone_parameters[\"experiment_name\"] = \"STANDALONE PTN\"\n",
    "standalone_parameters[\"lr\"] = 0.0001\n",
    "standalone_parameters[\"device\"] = \"cuda\"\n",
    "\n",
    "standalone_parameters[\"seed\"] = 1337\n",
    "standalone_parameters[\"dataset_seed\"] = 1337\n",
    "\n",
    "\n",
    "standalone_parameters[\"num_examples_per_domain_per_label_source\"]=100\n",
    "standalone_parameters[\"num_examples_per_domain_per_label_target\"]=100\n",
    "\n",
    "standalone_parameters[\"n_shot\"] = 3\n",
    "standalone_parameters[\"n_query\"]  = 2\n",
    "standalone_parameters[\"train_k_factor\"] = 1\n",
    "standalone_parameters[\"val_k_factor\"] = 2\n",
    "standalone_parameters[\"test_k_factor\"] = 2\n",
    "\n",
    "\n",
    "standalone_parameters[\"n_epoch\"] = 100\n",
    "\n",
    "standalone_parameters[\"patience\"] = 10\n",
    "standalone_parameters[\"criteria_for_best\"] = \"target_accuracy\"\n",
    "\n",
    "standalone_parameters[\"x_transforms_source\"] = [\"unit_power\"]\n",
    "standalone_parameters[\"x_transforms_target\"] = [\"unit_power\"]\n",
    "standalone_parameters[\"episode_transforms_source\"] = []\n",
    "standalone_parameters[\"episode_transforms_target\"] = []\n",
    "\n",
    "standalone_parameters[\"torch_default_dtype\"] = \"torch.float32\" \n",
    "\n",
    "\n",
    "\n",
    "standalone_parameters[\"x_net\"] =     [\n",
    "    {\"class\": \"nnReshape\", \"kargs\": {\"shape\":[-1, 1, 2, 256]}},\n",
    "    {\"class\": \"Conv2d\", \"kargs\": { \"in_channels\":1, \"out_channels\":256, \"kernel_size\":(1,7), \"bias\":False, \"padding\":(0,3), },},\n",
    "    {\"class\": \"ReLU\", \"kargs\": {\"inplace\": True}},\n",
    "    {\"class\": \"BatchNorm2d\", \"kargs\": {\"num_features\":256}},\n",
    "\n",
    "    {\"class\": \"Conv2d\", \"kargs\": { \"in_channels\":256, \"out_channels\":80, \"kernel_size\":(2,7), \"bias\":True, \"padding\":(0,3), },},\n",
    "    {\"class\": \"ReLU\", \"kargs\": {\"inplace\": True}},\n",
    "    {\"class\": \"BatchNorm2d\", \"kargs\": {\"num_features\":80}},\n",
    "    {\"class\": \"Flatten\", \"kargs\": {}},\n",
    "\n",
    "    {\"class\": \"Linear\", \"kargs\": {\"in_features\": 80*256, \"out_features\": 256}}, # 80 units per IQ pair\n",
    "    {\"class\": \"ReLU\", \"kargs\": {\"inplace\": True}},\n",
    "    {\"class\": \"BatchNorm1d\", \"kargs\": {\"num_features\":256}},\n",
    "\n",
    "    {\"class\": \"Linear\", \"kargs\": {\"in_features\": 256, \"out_features\": 256}},\n",
    "]\n",
    "\n",
    "# Parameters relevant to results\n",
    "# These parameters will basically never need to change\n",
    "standalone_parameters[\"NUM_LOGS_PER_EPOCH\"] = 10\n",
    "standalone_parameters[\"BEST_MODEL_PATH\"] = \"./best_model.pth\"\n",
    "\n",
    "# uncomment for CORES dataset\n",
    "from steves_utils.CORES.utils import (\n",
    "    ALL_NODES,\n",
    "    ALL_NODES_MINIMUM_1000_EXAMPLES,\n",
    "    ALL_DAYS\n",
    ")\n",
    "\n",
    "\n",
    "standalone_parameters[\"labels_source\"] = ALL_NODES\n",
    "standalone_parameters[\"labels_target\"] = ALL_NODES\n",
    "\n",
    "standalone_parameters[\"domains_source\"] = [1]\n",
    "standalone_parameters[\"domains_target\"] = [2,3,4,5]\n",
    "\n",
    "standalone_parameters[\"pickle_name\"] = \"cores.stratified_ds.2022A.pkl\"\n",
    "\n",
    "\n",
    "# Uncomment these for ORACLE dataset\n",
    "# from steves_utils.ORACLE.utils_v2 import (\n",
    "#     ALL_DISTANCES_FEET,\n",
    "#     ALL_RUNS,\n",
    "#     ALL_SERIAL_NUMBERS,\n",
    "# )\n",
    "# standalone_parameters[\"labels_source\"] = ALL_SERIAL_NUMBERS\n",
    "# standalone_parameters[\"labels_target\"] = ALL_SERIAL_NUMBERS\n",
    "# standalone_parameters[\"domains_source\"] = [8,20, 38,50]\n",
    "# standalone_parameters[\"domains_target\"] = [14, 26, 32, 44, 56]\n",
    "# standalone_parameters[\"pickle_name\"] = \"oracle.frame_indexed.stratified_ds.2022A.pkl\"\n",
    "# standalone_parameters[\"num_examples_per_domain_per_label_source\"]=1000\n",
    "# standalone_parameters[\"num_examples_per_domain_per_label_target\"]=1000\n",
    "\n",
    "# Uncomment these for Metahan dataset\n",
    "# standalone_parameters[\"labels_source\"] = list(range(19))\n",
    "# standalone_parameters[\"labels_target\"] = list(range(19))\n",
    "# standalone_parameters[\"domains_source\"] = [0]\n",
    "# standalone_parameters[\"domains_target\"] = [1]\n",
    "# standalone_parameters[\"pickle_name\"] = \"metehan.stratified_ds.2022A.pkl\"\n",
    "# standalone_parameters[\"n_way\"]  = len(standalone_parameters[\"labels_source\"])\n",
    "# standalone_parameters[\"num_examples_per_domain_per_label_source\"]=200\n",
    "# standalone_parameters[\"num_examples_per_domain_per_label_target\"]=100\n",
    "\n",
    "\n",
    "standalone_parameters[\"n_way\"]  = len(standalone_parameters[\"labels_source\"])"
   ]
  },
  {
   "cell_type": "code",
   "execution_count": 4,
   "id": "e9b8dd76",
   "metadata": {
    "execution": {
     "iopub.execute_input": "2022-03-06T02:51:19.933197Z",
     "iopub.status.busy": "2022-03-06T02:51:19.932901Z",
     "iopub.status.idle": "2022-03-06T02:51:19.945129Z",
     "shell.execute_reply": "2022-03-06T02:51:19.945422Z"
    },
    "papermill": {
     "duration": 0.033591,
     "end_time": "2022-03-06T02:51:19.945511",
     "exception": false,
     "start_time": "2022-03-06T02:51:19.911920",
     "status": "completed"
    },
    "tags": [
     "injected-parameters"
    ]
   },
   "outputs": [],
   "source": [
    "# Parameters\n",
    "parameters = {\n",
    "    \"experiment_name\": \"tuned_1_oracle.run1.framed\",\n",
    "    \"device\": \"cuda\",\n",
    "    \"lr\": 0.001,\n",
    "    \"seed\": 1337,\n",
    "    \"dataset_seed\": 1337,\n",
    "    \"labels_source\": [\n",
    "        \"3123D52\",\n",
    "        \"3123D65\",\n",
    "        \"3123D79\",\n",
    "        \"3123D80\",\n",
    "        \"3123D54\",\n",
    "        \"3123D70\",\n",
    "        \"3123D7B\",\n",
    "        \"3123D89\",\n",
    "        \"3123D58\",\n",
    "        \"3123D76\",\n",
    "        \"3123D7D\",\n",
    "        \"3123EFE\",\n",
    "        \"3123D64\",\n",
    "        \"3123D78\",\n",
    "        \"3123D7E\",\n",
    "        \"3124E4A\",\n",
    "    ],\n",
    "    \"labels_target\": [\n",
    "        \"3123D52\",\n",
    "        \"3123D65\",\n",
    "        \"3123D79\",\n",
    "        \"3123D80\",\n",
    "        \"3123D54\",\n",
    "        \"3123D70\",\n",
    "        \"3123D7B\",\n",
    "        \"3123D89\",\n",
    "        \"3123D58\",\n",
    "        \"3123D76\",\n",
    "        \"3123D7D\",\n",
    "        \"3123EFE\",\n",
    "        \"3123D64\",\n",
    "        \"3123D78\",\n",
    "        \"3123D7E\",\n",
    "        \"3124E4A\",\n",
    "    ],\n",
    "    \"x_transforms_source\": [\"unit_power\"],\n",
    "    \"x_transforms_target\": [\"unit_power\"],\n",
    "    \"episode_transforms_source\": [],\n",
    "    \"episode_transforms_target\": [],\n",
    "    \"domains_source\": [8, 32, 50],\n",
    "    \"domains_target\": [14, 20, 26, 38, 44],\n",
    "    \"num_examples_per_domain_per_label_source\": 2000,\n",
    "    \"num_examples_per_domain_per_label_target\": 2000,\n",
    "    \"n_shot\": 3,\n",
    "    \"n_way\": 16,\n",
    "    \"n_query\": 2,\n",
    "    \"train_k_factor\": 3,\n",
    "    \"val_k_factor\": 2,\n",
    "    \"test_k_factor\": 2,\n",
    "    \"torch_default_dtype\": \"torch.float32\",\n",
    "    \"n_epoch\": 50,\n",
    "    \"patience\": 3,\n",
    "    \"criteria_for_best\": \"target_loss\",\n",
    "    \"x_net\": [\n",
    "        {\"class\": \"nnReshape\", \"kargs\": {\"shape\": [-1, 1, 2, 256]}},\n",
    "        {\n",
    "            \"class\": \"Conv2d\",\n",
    "            \"kargs\": {\n",
    "                \"in_channels\": 1,\n",
    "                \"out_channels\": 256,\n",
    "                \"kernel_size\": [1, 7],\n",
    "                \"bias\": False,\n",
    "                \"padding\": [0, 3],\n",
    "            },\n",
    "        },\n",
    "        {\"class\": \"ReLU\", \"kargs\": {\"inplace\": True}},\n",
    "        {\"class\": \"BatchNorm2d\", \"kargs\": {\"num_features\": 256}},\n",
    "        {\n",
    "            \"class\": \"Conv2d\",\n",
    "            \"kargs\": {\n",
    "                \"in_channels\": 256,\n",
    "                \"out_channels\": 80,\n",
    "                \"kernel_size\": [2, 7],\n",
    "                \"bias\": True,\n",
    "                \"padding\": [0, 3],\n",
    "            },\n",
    "        },\n",
    "        {\"class\": \"ReLU\", \"kargs\": {\"inplace\": True}},\n",
    "        {\"class\": \"BatchNorm2d\", \"kargs\": {\"num_features\": 80}},\n",
    "        {\"class\": \"Flatten\", \"kargs\": {}},\n",
    "        {\"class\": \"Linear\", \"kargs\": {\"in_features\": 20480, \"out_features\": 256}},\n",
    "        {\"class\": \"ReLU\", \"kargs\": {\"inplace\": True}},\n",
    "        {\"class\": \"BatchNorm1d\", \"kargs\": {\"num_features\": 256}},\n",
    "        {\"class\": \"Linear\", \"kargs\": {\"in_features\": 256, \"out_features\": 256}},\n",
    "    ],\n",
    "    \"NUM_LOGS_PER_EPOCH\": 10,\n",
    "    \"BEST_MODEL_PATH\": \"./best_model.pth\",\n",
    "    \"pickle_name\": \"oracle.Run1_framed_2000Examples_stratified_ds.2022A.pkl\",\n",
    "}\n"
   ]
  },
  {
   "cell_type": "code",
   "execution_count": 5,
   "id": "8fa1cc33",
   "metadata": {
    "execution": {
     "iopub.execute_input": "2022-03-06T02:51:19.971615Z",
     "iopub.status.busy": "2022-03-06T02:51:19.971277Z",
     "iopub.status.idle": "2022-03-06T02:51:19.984322Z",
     "shell.execute_reply": "2022-03-06T02:51:19.984691Z"
    },
    "papermill": {
     "duration": 0.025853,
     "end_time": "2022-03-06T02:51:19.984796",
     "exception": false,
     "start_time": "2022-03-06T02:51:19.958943",
     "status": "completed"
    },
    "tags": []
   },
   "outputs": [],
   "source": [
    "# Set this to True if you want to run this template directly\n",
    "STANDALONE = False\n",
    "if STANDALONE:\n",
    "    print(\"parameters not injected, running with standalone_parameters\")\n",
    "    parameters = standalone_parameters\n",
    "\n",
    "if not 'parameters' in locals() and not 'parameters' in globals():\n",
    "    raise Exception(\"Parameter injection failed\")\n",
    "\n",
    "#Use an easy dict for all the parameters\n",
    "p = EasyDict(parameters)\n",
    "\n",
    "supplied_keys = set(p.keys())\n",
    "\n",
    "if  supplied_keys != required_parameters:\n",
    "    print(\"Parameters are incorrect\")\n",
    "    if len(supplied_keys - required_parameters)>0: print(\"Shouldn't have:\", str(supplied_keys - required_parameters))\n",
    "    if len(required_parameters - supplied_keys)>0: print(\"Need to have:\", str(required_parameters - supplied_keys))\n",
    "    raise RuntimeError(\"Parameters are incorrect\")\n",
    "\n"
   ]
  },
  {
   "cell_type": "code",
   "execution_count": 6,
   "id": "3a028d58",
   "metadata": {
    "execution": {
     "iopub.execute_input": "2022-03-06T02:51:20.008796Z",
     "iopub.status.busy": "2022-03-06T02:51:20.008544Z",
     "iopub.status.idle": "2022-03-06T02:51:20.020438Z",
     "shell.execute_reply": "2022-03-06T02:51:20.020670Z"
    },
    "papermill": {
     "duration": 0.023862,
     "end_time": "2022-03-06T02:51:20.020754",
     "exception": false,
     "start_time": "2022-03-06T02:51:19.996892",
     "status": "completed"
    },
    "tags": []
   },
   "outputs": [],
   "source": [
    "###################################\n",
    "# Set the RNGs and make it all deterministic\n",
    "###################################\n",
    "np.random.seed(p.seed)\n",
    "random.seed(p.seed)\n",
    "torch.manual_seed(p.seed)\n",
    "\n",
    "torch.use_deterministic_algorithms(True) "
   ]
  },
  {
   "cell_type": "code",
   "execution_count": 7,
   "id": "b691acf6",
   "metadata": {
    "execution": {
     "iopub.execute_input": "2022-03-06T02:51:20.046478Z",
     "iopub.status.busy": "2022-03-06T02:51:20.046224Z",
     "iopub.status.idle": "2022-03-06T02:51:20.057838Z",
     "shell.execute_reply": "2022-03-06T02:51:20.058114Z"
    },
    "papermill": {
     "duration": 0.023438,
     "end_time": "2022-03-06T02:51:20.058201",
     "exception": false,
     "start_time": "2022-03-06T02:51:20.034763",
     "status": "completed"
    },
    "tags": []
   },
   "outputs": [],
   "source": [
    "###########################################\n",
    "# The stratified datasets honor this\n",
    "###########################################\n",
    "torch.set_default_dtype(eval(p.torch_default_dtype))"
   ]
  },
  {
   "cell_type": "code",
   "execution_count": 8,
   "id": "b5fba671",
   "metadata": {
    "execution": {
     "iopub.execute_input": "2022-03-06T02:51:20.084489Z",
     "iopub.status.busy": "2022-03-06T02:51:20.084236Z",
     "iopub.status.idle": "2022-03-06T02:51:20.122037Z",
     "shell.execute_reply": "2022-03-06T02:51:20.122409Z"
    },
    "papermill": {
     "duration": 0.050777,
     "end_time": "2022-03-06T02:51:20.122517",
     "exception": false,
     "start_time": "2022-03-06T02:51:20.071740",
     "status": "completed"
    },
    "tags": []
   },
   "outputs": [],
   "source": [
    "###################################\n",
    "# Build the network(s)\n",
    "# Note: It's critical to do this AFTER setting the RNG\n",
    "# (This is due to the randomized initial weights)\n",
    "###################################\n",
    "x_net = build_sequential(p.x_net)"
   ]
  },
  {
   "cell_type": "code",
   "execution_count": 9,
   "id": "5d7e61cc",
   "metadata": {
    "execution": {
     "iopub.execute_input": "2022-03-06T02:51:20.148267Z",
     "iopub.status.busy": "2022-03-06T02:51:20.148016Z",
     "iopub.status.idle": "2022-03-06T02:51:20.161793Z",
     "shell.execute_reply": "2022-03-06T02:51:20.162067Z"
    },
    "papermill": {
     "duration": 0.025916,
     "end_time": "2022-03-06T02:51:20.162155",
     "exception": false,
     "start_time": "2022-03-06T02:51:20.136239",
     "status": "completed"
    },
    "tags": []
   },
   "outputs": [],
   "source": [
    "start_time_secs = time.time()"
   ]
  },
  {
   "cell_type": "code",
   "execution_count": 10,
   "id": "fd5442bc",
   "metadata": {
    "execution": {
     "iopub.execute_input": "2022-03-06T02:51:20.194380Z",
     "iopub.status.busy": "2022-03-06T02:51:20.194112Z",
     "iopub.status.idle": "2022-03-06T02:51:37.356266Z",
     "shell.execute_reply": "2022-03-06T02:51:37.355645Z"
    },
    "papermill": {
     "duration": 17.180313,
     "end_time": "2022-03-06T02:51:37.356364",
     "exception": false,
     "start_time": "2022-03-06T02:51:20.176051",
     "status": "completed"
    },
    "tags": []
   },
   "outputs": [],
   "source": [
    "###################################\n",
    "# Build the dataset\n",
    "###################################\n",
    "\n",
    "if p.x_transforms_source == []: x_transform_source = None\n",
    "else: x_transform_source = get_chained_transform(p.x_transforms_source) \n",
    "\n",
    "if p.x_transforms_target == []: x_transform_target = None\n",
    "else: x_transform_target = get_chained_transform(p.x_transforms_target)\n",
    "\n",
    "if p.episode_transforms_source == []: episode_transform_source = None\n",
    "else: raise Exception(\"episode_transform_source not implemented\")\n",
    "\n",
    "if p.episode_transforms_target == []: episode_transform_target = None\n",
    "else: raise Exception(\"episode_transform_target not implemented\")\n",
    "\n",
    "\n",
    "eaf_source = Episodic_Accessor_Factory(\n",
    "    labels=p.labels_source,\n",
    "    domains=p.domains_source,\n",
    "    num_examples_per_domain_per_label=p.num_examples_per_domain_per_label_source,\n",
    "    iterator_seed=p.seed,\n",
    "    dataset_seed=p.dataset_seed,\n",
    "    n_shot=p.n_shot,\n",
    "    n_way=p.n_way,\n",
    "    n_query=p.n_query,\n",
    "    train_val_test_k_factors=(p.train_k_factor,p.val_k_factor,p.test_k_factor),\n",
    "    pickle_path=os.path.join(get_datasets_base_path(), p.pickle_name),\n",
    "    x_transform_func=x_transform_source,\n",
    "    example_transform_func=episode_transform_source,\n",
    "    \n",
    ")\n",
    "train_original_source, val_original_source, test_original_source = eaf_source.get_train(), eaf_source.get_val(), eaf_source.get_test()\n",
    "\n",
    "\n",
    "eaf_target = Episodic_Accessor_Factory(\n",
    "    labels=p.labels_target,\n",
    "    domains=p.domains_target,\n",
    "    num_examples_per_domain_per_label=p.num_examples_per_domain_per_label_target,\n",
    "    iterator_seed=p.seed,\n",
    "    dataset_seed=p.dataset_seed,\n",
    "    n_shot=p.n_shot,\n",
    "    n_way=p.n_way,\n",
    "    n_query=p.n_query,\n",
    "    train_val_test_k_factors=(p.train_k_factor,p.val_k_factor,p.test_k_factor),\n",
    "    pickle_path=os.path.join(get_datasets_base_path(), p.pickle_name),\n",
    "    x_transform_func=x_transform_target,\n",
    "    example_transform_func=episode_transform_target,\n",
    ")\n",
    "train_original_target, val_original_target, test_original_target = eaf_target.get_train(), eaf_target.get_val(), eaf_target.get_test()\n",
    "\n",
    "\n",
    "transform_lambda = lambda ex: ex[1] # Original is (<domain>, <episode>) so we strip down to episode only\n",
    "\n",
    "train_processed_source = Lazy_Iterable_Wrapper(train_original_source, transform_lambda)\n",
    "val_processed_source   = Lazy_Iterable_Wrapper(val_original_source, transform_lambda)\n",
    "test_processed_source  = Lazy_Iterable_Wrapper(test_original_source, transform_lambda)\n",
    "\n",
    "train_processed_target = Lazy_Iterable_Wrapper(train_original_target, transform_lambda)\n",
    "val_processed_target   = Lazy_Iterable_Wrapper(val_original_target, transform_lambda)\n",
    "test_processed_target  = Lazy_Iterable_Wrapper(test_original_target, transform_lambda)\n",
    "\n",
    "datasets = EasyDict({\n",
    "    \"source\": {\n",
    "        \"original\": {\"train\":train_original_source, \"val\":val_original_source, \"test\":test_original_source},\n",
    "        \"processed\": {\"train\":train_processed_source, \"val\":val_processed_source, \"test\":test_processed_source}\n",
    "    },\n",
    "    \"target\": {\n",
    "        \"original\": {\"train\":train_original_target, \"val\":val_original_target, \"test\":test_original_target},\n",
    "        \"processed\": {\"train\":train_processed_target, \"val\":val_processed_target, \"test\":test_processed_target}\n",
    "    },\n",
    "})"
   ]
  },
  {
   "cell_type": "code",
   "execution_count": 11,
   "id": "296189d9",
   "metadata": {
    "execution": {
     "iopub.execute_input": "2022-03-06T02:51:37.393700Z",
     "iopub.status.busy": "2022-03-06T02:51:37.393277Z",
     "iopub.status.idle": "2022-03-06T02:51:39.097580Z",
     "shell.execute_reply": "2022-03-06T02:51:39.098028Z"
    },
    "papermill": {
     "duration": 1.724923,
     "end_time": "2022-03-06T02:51:39.098139",
     "exception": false,
     "start_time": "2022-03-06T02:51:37.373216",
     "status": "completed"
    },
    "tags": []
   },
   "outputs": [
    {
     "name": "stdout",
     "output_type": "stream",
     "text": [
      "Visually inspect these to see if they line up with expected values given the transforms\n",
      "x_transforms_source ['unit_power']\n",
      "x_transforms_target ['unit_power']\n",
      "Average magnitude, source: 0.97321665\n",
      "Average power, source: 1.0\n"
     ]
    },
    {
     "name": "stdout",
     "output_type": "stream",
     "text": [
      "Average magnitude, target: 0.96836233\n",
      "Average power, target: 1.0\n"
     ]
    }
   ],
   "source": [
    "# Some quick unit tests on the data\n",
    "from steves_utils.transforms import get_average_power, get_average_magnitude\n",
    "\n",
    "q_x, q_y, s_x, s_y, truth = next(iter(train_processed_source))\n",
    "\n",
    "assert q_x.dtype == eval(p.torch_default_dtype)\n",
    "assert s_x.dtype == eval(p.torch_default_dtype)\n",
    "\n",
    "print(\"Visually inspect these to see if they line up with expected values given the transforms\")\n",
    "print('x_transforms_source', p.x_transforms_source)\n",
    "print('x_transforms_target', p.x_transforms_target)\n",
    "print(\"Average magnitude, source:\", get_average_magnitude(q_x[0].numpy()))\n",
    "print(\"Average power, source:\", get_average_power(q_x[0].numpy()))\n",
    "\n",
    "q_x, q_y, s_x, s_y, truth = next(iter(train_processed_target))\n",
    "print(\"Average magnitude, target:\", get_average_magnitude(q_x[0].numpy()))\n",
    "print(\"Average power, target:\", get_average_power(q_x[0].numpy()))\n"
   ]
  },
  {
   "cell_type": "code",
   "execution_count": 12,
   "id": "bbdacba1",
   "metadata": {
    "execution": {
     "iopub.execute_input": "2022-03-06T02:51:39.128063Z",
     "iopub.status.busy": "2022-03-06T02:51:39.127657Z",
     "iopub.status.idle": "2022-03-06T02:51:39.183693Z",
     "shell.execute_reply": "2022-03-06T02:51:39.183901Z"
    },
    "papermill": {
     "duration": 0.070409,
     "end_time": "2022-03-06T02:51:39.183982",
     "exception": false,
     "start_time": "2022-03-06T02:51:39.113573",
     "status": "completed"
    },
    "tags": []
   },
   "outputs": [
    {
     "name": "stdout",
     "output_type": "stream",
     "text": [
      "(2, 256)\n"
     ]
    }
   ],
   "source": [
    "###################################\n",
    "# Build the model\n",
    "###################################\n",
    "model = Steves_Prototypical_Network(x_net, device=p.device, x_shape=(2,256))\n",
    "optimizer = Adam(params=model.parameters(), lr=p.lr)"
   ]
  },
  {
   "cell_type": "code",
   "execution_count": 13,
   "id": "22b39ac5",
   "metadata": {
    "execution": {
     "iopub.execute_input": "2022-03-06T02:51:39.209062Z",
     "iopub.status.busy": "2022-03-06T02:51:39.208596Z",
     "iopub.status.idle": "2022-03-06T03:04:35.263230Z",
     "shell.execute_reply": "2022-03-06T03:04:35.262990Z"
    },
    "papermill": {
     "duration": 776.067487,
     "end_time": "2022-03-06T03:04:35.263292",
     "exception": false,
     "start_time": "2022-03-06T02:51:39.195805",
     "status": "completed"
    },
    "tags": []
   },
   "outputs": [
    {
     "name": "stdout",
     "output_type": "stream",
     "text": [
      "epoch: 1, [batch: 1 / 2520], examples_per_second: 119.3789, train_label_loss: 2.8902, \n"
     ]
    },
    {
     "name": "stdout",
     "output_type": "stream",
     "text": [
      "epoch: 1, [batch: 252 / 2520], examples_per_second: 3127.9191, train_label_loss: 1.9940, \n"
     ]
    },
    {
     "name": "stdout",
     "output_type": "stream",
     "text": [
      "epoch: 1, [batch: 504 / 2520], examples_per_second: 3239.3067, train_label_loss: 1.7887, \n"
     ]
    },
    {
     "name": "stdout",
     "output_type": "stream",
     "text": [
      "epoch: 1, [batch: 756 / 2520], examples_per_second: 3242.4577, train_label_loss: 1.1583, \n"
     ]
    },
    {
     "name": "stdout",
     "output_type": "stream",
     "text": [
      "epoch: 1, [batch: 1008 / 2520], examples_per_second: 3239.8829, train_label_loss: 0.8115, \n"
     ]
    },
    {
     "name": "stdout",
     "output_type": "stream",
     "text": [
      "epoch: 1, [batch: 1260 / 2520], examples_per_second: 3162.7952, train_label_loss: 0.7287, \n"
     ]
    },
    {
     "name": "stdout",
     "output_type": "stream",
     "text": [
      "epoch: 1, [batch: 1512 / 2520], examples_per_second: 3201.7635, train_label_loss: 0.7814, \n"
     ]
    },
    {
     "name": "stdout",
     "output_type": "stream",
     "text": [
      "epoch: 1, [batch: 1764 / 2520], examples_per_second: 3226.4911, train_label_loss: 0.6845, \n"
     ]
    },
    {
     "name": "stdout",
     "output_type": "stream",
     "text": [
      "epoch: 1, [batch: 2016 / 2520], examples_per_second: 3258.3035, train_label_loss: 0.5743, \n"
     ]
    },
    {
     "name": "stdout",
     "output_type": "stream",
     "text": [
      "epoch: 1, [batch: 2268 / 2520], examples_per_second: 3279.0631, train_label_loss: 0.7016, \n"
     ]
    },
    {
     "name": "stdout",
     "output_type": "stream",
     "text": [
      "=============================================================\n",
      "epoch: 1, source_val_acc_label: 0.6484, target_val_acc_label: 0.5626, source_val_label_loss: 616.6111, target_val_label_loss: 351.7091, \n",
      "=============================================================\n"
     ]
    },
    {
     "name": "stdout",
     "output_type": "stream",
     "text": [
      "New best\n"
     ]
    },
    {
     "name": "stdout",
     "output_type": "stream",
     "text": [
      "epoch: 2, [batch: 1 / 2520], examples_per_second: 11.3795, train_label_loss: 0.9351, \n"
     ]
    },
    {
     "name": "stdout",
     "output_type": "stream",
     "text": [
      "epoch: 2, [batch: 252 / 2520], examples_per_second: 3132.1155, train_label_loss: 1.0432, \n"
     ]
    },
    {
     "name": "stdout",
     "output_type": "stream",
     "text": [
      "epoch: 2, [batch: 504 / 2520], examples_per_second: 3269.4368, train_label_loss: 0.6851, \n"
     ]
    },
    {
     "name": "stdout",
     "output_type": "stream",
     "text": [
      "epoch: 2, [batch: 756 / 2520], examples_per_second: 3279.1879, train_label_loss: 0.6526, \n"
     ]
    },
    {
     "name": "stdout",
     "output_type": "stream",
     "text": [
      "epoch: 2, [batch: 1008 / 2520], examples_per_second: 3255.4469, train_label_loss: 0.9687, \n"
     ]
    },
    {
     "name": "stdout",
     "output_type": "stream",
     "text": [
      "epoch: 2, [batch: 1260 / 2520], examples_per_second: 3214.1091, train_label_loss: 0.9807, \n"
     ]
    },
    {
     "name": "stdout",
     "output_type": "stream",
     "text": [
      "epoch: 2, [batch: 1512 / 2520], examples_per_second: 3275.5413, train_label_loss: 0.8423, \n"
     ]
    },
    {
     "name": "stdout",
     "output_type": "stream",
     "text": [
      "epoch: 2, [batch: 1764 / 2520], examples_per_second: 3245.2356, train_label_loss: 0.9437, \n"
     ]
    },
    {
     "name": "stdout",
     "output_type": "stream",
     "text": [
      "epoch: 2, [batch: 2016 / 2520], examples_per_second: 3276.4176, train_label_loss: 0.7170, \n"
     ]
    },
    {
     "name": "stdout",
     "output_type": "stream",
     "text": [
      "epoch: 2, [batch: 2268 / 2520], examples_per_second: 3275.8219, train_label_loss: 0.6831, \n"
     ]
    },
    {
     "name": "stdout",
     "output_type": "stream",
     "text": [
      "=============================================================\n",
      "epoch: 2, source_val_acc_label: 0.7100, target_val_acc_label: 0.6579, source_val_label_loss: 0.7880, target_val_label_loss: 4.2307, \n",
      "=============================================================\n"
     ]
    },
    {
     "name": "stdout",
     "output_type": "stream",
     "text": [
      "New best\n"
     ]
    },
    {
     "name": "stdout",
     "output_type": "stream",
     "text": [
      "epoch: 3, [batch: 1 / 2520], examples_per_second: 11.2548, train_label_loss: 0.8905, \n"
     ]
    },
    {
     "name": "stdout",
     "output_type": "stream",
     "text": [
      "epoch: 3, [batch: 252 / 2520], examples_per_second: 3264.1214, train_label_loss: 0.7393, \n"
     ]
    },
    {
     "name": "stdout",
     "output_type": "stream",
     "text": [
      "epoch: 3, [batch: 504 / 2520], examples_per_second: 3253.2162, train_label_loss: 0.5364, \n"
     ]
    },
    {
     "name": "stdout",
     "output_type": "stream",
     "text": [
      "epoch: 3, [batch: 756 / 2520], examples_per_second: 3275.4050, train_label_loss: 0.5581, \n"
     ]
    },
    {
     "name": "stdout",
     "output_type": "stream",
     "text": [
      "epoch: 3, [batch: 1008 / 2520], examples_per_second: 3255.2574, train_label_loss: 0.6758, \n"
     ]
    },
    {
     "name": "stdout",
     "output_type": "stream",
     "text": [
      "epoch: 3, [batch: 1260 / 2520], examples_per_second: 3278.5823, train_label_loss: 0.6974, \n"
     ]
    },
    {
     "name": "stdout",
     "output_type": "stream",
     "text": [
      "epoch: 3, [batch: 1512 / 2520], examples_per_second: 3275.7432, train_label_loss: 0.9580, \n"
     ]
    },
    {
     "name": "stdout",
     "output_type": "stream",
     "text": [
      "epoch: 3, [batch: 1764 / 2520], examples_per_second: 3257.4267, train_label_loss: 0.8519, \n"
     ]
    },
    {
     "name": "stdout",
     "output_type": "stream",
     "text": [
      "epoch: 3, [batch: 2016 / 2520], examples_per_second: 3284.7226, train_label_loss: 0.5616, \n"
     ]
    },
    {
     "name": "stdout",
     "output_type": "stream",
     "text": [
      "epoch: 3, [batch: 2268 / 2520], examples_per_second: 3278.3625, train_label_loss: 0.5393, \n"
     ]
    },
    {
     "name": "stdout",
     "output_type": "stream",
     "text": [
      "=============================================================\n",
      "epoch: 3, source_val_acc_label: 0.7399, target_val_acc_label: 0.6610, source_val_label_loss: 0.7455, target_val_label_loss: 3.8645, \n",
      "=============================================================\n"
     ]
    },
    {
     "name": "stdout",
     "output_type": "stream",
     "text": [
      "New best\n"
     ]
    },
    {
     "name": "stdout",
     "output_type": "stream",
     "text": [
      "epoch: 4, [batch: 1 / 2520], examples_per_second: 11.2708, train_label_loss: 0.7719, \n"
     ]
    },
    {
     "name": "stdout",
     "output_type": "stream",
     "text": [
      "epoch: 4, [batch: 252 / 2520], examples_per_second: 3238.4754, train_label_loss: 0.5664, \n"
     ]
    },
    {
     "name": "stdout",
     "output_type": "stream",
     "text": [
      "epoch: 4, [batch: 504 / 2520], examples_per_second: 3276.2459, train_label_loss: 0.6370, \n"
     ]
    },
    {
     "name": "stdout",
     "output_type": "stream",
     "text": [
      "epoch: 4, [batch: 756 / 2520], examples_per_second: 3261.0874, train_label_loss: 0.7682, \n"
     ]
    },
    {
     "name": "stdout",
     "output_type": "stream",
     "text": [
      "epoch: 4, [batch: 1008 / 2520], examples_per_second: 3260.9589, train_label_loss: 0.9581, \n"
     ]
    },
    {
     "name": "stdout",
     "output_type": "stream",
     "text": [
      "epoch: 4, [batch: 1260 / 2520], examples_per_second: 3264.5409, train_label_loss: 0.9189, \n"
     ]
    },
    {
     "name": "stdout",
     "output_type": "stream",
     "text": [
      "epoch: 4, [batch: 1512 / 2520], examples_per_second: 3265.2573, train_label_loss: 0.6862, \n"
     ]
    },
    {
     "name": "stdout",
     "output_type": "stream",
     "text": [
      "epoch: 4, [batch: 1764 / 2520], examples_per_second: 3262.3032, train_label_loss: 0.4778, \n"
     ]
    },
    {
     "name": "stdout",
     "output_type": "stream",
     "text": [
      "epoch: 4, [batch: 2016 / 2520], examples_per_second: 3279.3717, train_label_loss: 0.4889, \n"
     ]
    },
    {
     "name": "stdout",
     "output_type": "stream",
     "text": [
      "epoch: 4, [batch: 2268 / 2520], examples_per_second: 3266.6897, train_label_loss: 0.6931, \n"
     ]
    },
    {
     "name": "stdout",
     "output_type": "stream",
     "text": [
      "=============================================================\n",
      "epoch: 4, source_val_acc_label: 0.7522, target_val_acc_label: 0.6869, source_val_label_loss: 0.7152, target_val_label_loss: 5.8683, \n",
      "=============================================================\n"
     ]
    },
    {
     "name": "stdout",
     "output_type": "stream",
     "text": [
      "epoch: 5, [batch: 1 / 2520], examples_per_second: 11.3480, train_label_loss: 1.2532, \n"
     ]
    },
    {
     "name": "stdout",
     "output_type": "stream",
     "text": [
      "epoch: 5, [batch: 252 / 2520], examples_per_second: 3244.4960, train_label_loss: 1.0901, \n"
     ]
    },
    {
     "name": "stdout",
     "output_type": "stream",
     "text": [
      "epoch: 5, [batch: 504 / 2520], examples_per_second: 3271.8762, train_label_loss: 0.6454, \n"
     ]
    },
    {
     "name": "stdout",
     "output_type": "stream",
     "text": [
      "epoch: 5, [batch: 756 / 2520], examples_per_second: 3280.2295, train_label_loss: 0.5888, \n"
     ]
    },
    {
     "name": "stdout",
     "output_type": "stream",
     "text": [
      "epoch: 5, [batch: 1008 / 2520], examples_per_second: 3259.6359, train_label_loss: 0.5806, \n"
     ]
    },
    {
     "name": "stdout",
     "output_type": "stream",
     "text": [
      "epoch: 5, [batch: 1260 / 2520], examples_per_second: 3270.8221, train_label_loss: 0.7562, \n"
     ]
    },
    {
     "name": "stdout",
     "output_type": "stream",
     "text": [
      "epoch: 5, [batch: 1512 / 2520], examples_per_second: 3274.5476, train_label_loss: 0.8790, \n"
     ]
    },
    {
     "name": "stdout",
     "output_type": "stream",
     "text": [
      "epoch: 5, [batch: 1764 / 2520], examples_per_second: 3246.6960, train_label_loss: 0.5101, \n"
     ]
    },
    {
     "name": "stdout",
     "output_type": "stream",
     "text": [
      "epoch: 5, [batch: 2016 / 2520], examples_per_second: 3269.1932, train_label_loss: 0.4642, \n"
     ]
    },
    {
     "name": "stdout",
     "output_type": "stream",
     "text": [
      "epoch: 5, [batch: 2268 / 2520], examples_per_second: 3280.7341, train_label_loss: 0.5528, \n"
     ]
    },
    {
     "name": "stdout",
     "output_type": "stream",
     "text": [
      "=============================================================\n",
      "epoch: 5, source_val_acc_label: 0.7332, target_val_acc_label: 0.6741, source_val_label_loss: 0.7490, target_val_label_loss: 7.0612, \n",
      "=============================================================\n"
     ]
    },
    {
     "name": "stdout",
     "output_type": "stream",
     "text": [
      "epoch: 6, [batch: 1 / 2520], examples_per_second: 11.3223, train_label_loss: 1.2464, \n"
     ]
    },
    {
     "name": "stdout",
     "output_type": "stream",
     "text": [
      "epoch: 6, [batch: 252 / 2520], examples_per_second: 3243.5017, train_label_loss: 0.7733, \n"
     ]
    },
    {
     "name": "stdout",
     "output_type": "stream",
     "text": [
      "epoch: 6, [batch: 504 / 2520], examples_per_second: 3273.8559, train_label_loss: 0.7501, \n"
     ]
    },
    {
     "name": "stdout",
     "output_type": "stream",
     "text": [
      "epoch: 6, [batch: 756 / 2520], examples_per_second: 3265.3893, train_label_loss: 0.6363, \n"
     ]
    },
    {
     "name": "stdout",
     "output_type": "stream",
     "text": [
      "epoch: 6, [batch: 1008 / 2520], examples_per_second: 3267.1937, train_label_loss: 0.4796, \n"
     ]
    },
    {
     "name": "stdout",
     "output_type": "stream",
     "text": [
      "epoch: 6, [batch: 1260 / 2520], examples_per_second: 3268.3715, train_label_loss: 0.5001, \n"
     ]
    },
    {
     "name": "stdout",
     "output_type": "stream",
     "text": [
      "epoch: 6, [batch: 1512 / 2520], examples_per_second: 3232.8596, train_label_loss: 0.5849, \n"
     ]
    },
    {
     "name": "stdout",
     "output_type": "stream",
     "text": [
      "epoch: 6, [batch: 1764 / 2520], examples_per_second: 3261.7776, train_label_loss: 0.7518, \n"
     ]
    },
    {
     "name": "stdout",
     "output_type": "stream",
     "text": [
      "epoch: 6, [batch: 2016 / 2520], examples_per_second: 3269.5523, train_label_loss: 0.5874, \n"
     ]
    },
    {
     "name": "stdout",
     "output_type": "stream",
     "text": [
      "epoch: 6, [batch: 2268 / 2520], examples_per_second: 3190.9363, train_label_loss: 0.5866, \n"
     ]
    },
    {
     "name": "stdout",
     "output_type": "stream",
     "text": [
      "=============================================================\n",
      "epoch: 6, source_val_acc_label: 0.8152, target_val_acc_label: 0.7665, source_val_label_loss: 0.5367, target_val_label_loss: 4.5920, \n",
      "=============================================================\n"
     ]
    },
    {
     "name": "stdout",
     "output_type": "stream",
     "text": [
      "epoch: 7, [batch: 1 / 2520], examples_per_second: 11.2315, train_label_loss: 0.7979, \n"
     ]
    },
    {
     "name": "stdout",
     "output_type": "stream",
     "text": [
      "epoch: 7, [batch: 252 / 2520], examples_per_second: 3240.9621, train_label_loss: 0.4124, \n"
     ]
    },
    {
     "name": "stdout",
     "output_type": "stream",
     "text": [
      "epoch: 7, [batch: 504 / 2520], examples_per_second: 3259.8259, train_label_loss: 0.9502, \n"
     ]
    },
    {
     "name": "stdout",
     "output_type": "stream",
     "text": [
      "epoch: 7, [batch: 756 / 2520], examples_per_second: 3273.8329, train_label_loss: 0.6059, \n"
     ]
    },
    {
     "name": "stdout",
     "output_type": "stream",
     "text": [
      "epoch: 7, [batch: 1008 / 2520], examples_per_second: 3231.0949, train_label_loss: 0.2850, \n"
     ]
    },
    {
     "name": "stdout",
     "output_type": "stream",
     "text": [
      "epoch: 7, [batch: 1260 / 2520], examples_per_second: 3159.8443, train_label_loss: 0.5665, \n"
     ]
    },
    {
     "name": "stdout",
     "output_type": "stream",
     "text": [
      "epoch: 7, [batch: 1512 / 2520], examples_per_second: 3151.8476, train_label_loss: 0.2915, \n"
     ]
    },
    {
     "name": "stdout",
     "output_type": "stream",
     "text": [
      "epoch: 7, [batch: 1764 / 2520], examples_per_second: 3263.3707, train_label_loss: 0.5549, \n"
     ]
    },
    {
     "name": "stdout",
     "output_type": "stream",
     "text": [
      "epoch: 7, [batch: 2016 / 2520], examples_per_second: 3256.1347, train_label_loss: 0.7181, \n"
     ]
    },
    {
     "name": "stdout",
     "output_type": "stream",
     "text": [
      "epoch: 7, [batch: 2268 / 2520], examples_per_second: 3270.0886, train_label_loss: 0.6359, \n"
     ]
    },
    {
     "name": "stdout",
     "output_type": "stream",
     "text": [
      "=============================================================\n",
      "epoch: 7, source_val_acc_label: 0.8210, target_val_acc_label: 0.7546, source_val_label_loss: 0.5184, target_val_label_loss: 1.1019, \n",
      "=============================================================\n"
     ]
    },
    {
     "name": "stdout",
     "output_type": "stream",
     "text": [
      "New best\n"
     ]
    },
    {
     "name": "stdout",
     "output_type": "stream",
     "text": [
      "epoch: 8, [batch: 1 / 2520], examples_per_second: 10.8125, train_label_loss: 0.4177, \n"
     ]
    },
    {
     "name": "stdout",
     "output_type": "stream",
     "text": [
      "epoch: 8, [batch: 252 / 2520], examples_per_second: 3180.8977, train_label_loss: 0.4506, \n"
     ]
    },
    {
     "name": "stdout",
     "output_type": "stream",
     "text": [
      "epoch: 8, [batch: 504 / 2520], examples_per_second: 3258.2177, train_label_loss: 0.3583, \n"
     ]
    },
    {
     "name": "stdout",
     "output_type": "stream",
     "text": [
      "epoch: 8, [batch: 756 / 2520], examples_per_second: 3241.6163, train_label_loss: 0.3992, \n"
     ]
    },
    {
     "name": "stdout",
     "output_type": "stream",
     "text": [
      "epoch: 8, [batch: 1008 / 2520], examples_per_second: 3227.4764, train_label_loss: 0.2228, \n"
     ]
    },
    {
     "name": "stdout",
     "output_type": "stream",
     "text": [
      "epoch: 8, [batch: 1260 / 2520], examples_per_second: 3247.2779, train_label_loss: 0.4651, \n"
     ]
    },
    {
     "name": "stdout",
     "output_type": "stream",
     "text": [
      "epoch: 8, [batch: 1512 / 2520], examples_per_second: 3259.8063, train_label_loss: 0.3396, \n"
     ]
    },
    {
     "name": "stdout",
     "output_type": "stream",
     "text": [
      "epoch: 8, [batch: 1764 / 2520], examples_per_second: 3258.8887, train_label_loss: 0.4059, \n"
     ]
    },
    {
     "name": "stdout",
     "output_type": "stream",
     "text": [
      "epoch: 8, [batch: 2016 / 2520], examples_per_second: 3236.8156, train_label_loss: 0.3406, \n"
     ]
    },
    {
     "name": "stdout",
     "output_type": "stream",
     "text": [
      "epoch: 8, [batch: 2268 / 2520], examples_per_second: 3198.0882, train_label_loss: 0.3288, \n"
     ]
    },
    {
     "name": "stdout",
     "output_type": "stream",
     "text": [
      "=============================================================\n",
      "epoch: 8, source_val_acc_label: 0.8174, target_val_acc_label: 0.7586, source_val_label_loss: 0.5110, target_val_label_loss: 1.7886, \n",
      "=============================================================\n"
     ]
    },
    {
     "name": "stdout",
     "output_type": "stream",
     "text": [
      "epoch: 9, [batch: 1 / 2520], examples_per_second: 10.9313, train_label_loss: 0.3093, \n"
     ]
    },
    {
     "name": "stdout",
     "output_type": "stream",
     "text": [
      "epoch: 9, [batch: 252 / 2520], examples_per_second: 3208.7045, train_label_loss: 0.4232, \n"
     ]
    },
    {
     "name": "stdout",
     "output_type": "stream",
     "text": [
      "epoch: 9, [batch: 504 / 2520], examples_per_second: 3229.7607, train_label_loss: 0.4365, \n"
     ]
    },
    {
     "name": "stdout",
     "output_type": "stream",
     "text": [
      "epoch: 9, [batch: 756 / 2520], examples_per_second: 3210.6550, train_label_loss: 0.5996, \n"
     ]
    },
    {
     "name": "stdout",
     "output_type": "stream",
     "text": [
      "epoch: 9, [batch: 1008 / 2520], examples_per_second: 3110.9311, train_label_loss: 0.5093, \n"
     ]
    },
    {
     "name": "stdout",
     "output_type": "stream",
     "text": [
      "epoch: 9, [batch: 1260 / 2520], examples_per_second: 3113.7127, train_label_loss: 0.6252, \n"
     ]
    },
    {
     "name": "stdout",
     "output_type": "stream",
     "text": [
      "epoch: 9, [batch: 1512 / 2520], examples_per_second: 3213.8247, train_label_loss: 0.1745, \n"
     ]
    },
    {
     "name": "stdout",
     "output_type": "stream",
     "text": [
      "epoch: 9, [batch: 1764 / 2520], examples_per_second: 3217.0899, train_label_loss: 0.3268, \n"
     ]
    },
    {
     "name": "stdout",
     "output_type": "stream",
     "text": [
      "epoch: 9, [batch: 2016 / 2520], examples_per_second: 3223.4525, train_label_loss: 0.3394, \n"
     ]
    },
    {
     "name": "stdout",
     "output_type": "stream",
     "text": [
      "epoch: 9, [batch: 2268 / 2520], examples_per_second: 3153.9910, train_label_loss: 0.5181, \n"
     ]
    },
    {
     "name": "stdout",
     "output_type": "stream",
     "text": [
      "=============================================================\n",
      "epoch: 9, source_val_acc_label: 0.8218, target_val_acc_label: 0.7539, source_val_label_loss: 0.5088, target_val_label_loss: 2.6939, \n",
      "=============================================================\n"
     ]
    },
    {
     "name": "stdout",
     "output_type": "stream",
     "text": [
      "epoch: 10, [batch: 1 / 2520], examples_per_second: 10.7698, train_label_loss: 0.6201, \n"
     ]
    },
    {
     "name": "stdout",
     "output_type": "stream",
     "text": [
      "epoch: 10, [batch: 252 / 2520], examples_per_second: 3172.7813, train_label_loss: 0.4439, \n"
     ]
    },
    {
     "name": "stdout",
     "output_type": "stream",
     "text": [
      "epoch: 10, [batch: 504 / 2520], examples_per_second: 3190.2278, train_label_loss: 0.2143, \n"
     ]
    },
    {
     "name": "stdout",
     "output_type": "stream",
     "text": [
      "epoch: 10, [batch: 756 / 2520], examples_per_second: 3197.0579, train_label_loss: 0.4881, \n"
     ]
    },
    {
     "name": "stdout",
     "output_type": "stream",
     "text": [
      "epoch: 10, [batch: 1008 / 2520], examples_per_second: 3126.4778, train_label_loss: 0.2126, \n"
     ]
    },
    {
     "name": "stdout",
     "output_type": "stream",
     "text": [
      "epoch: 10, [batch: 1260 / 2520], examples_per_second: 3260.0574, train_label_loss: 0.3838, \n"
     ]
    },
    {
     "name": "stdout",
     "output_type": "stream",
     "text": [
      "epoch: 10, [batch: 1512 / 2520], examples_per_second: 3281.5606, train_label_loss: 0.4386, \n"
     ]
    },
    {
     "name": "stdout",
     "output_type": "stream",
     "text": [
      "epoch: 10, [batch: 1764 / 2520], examples_per_second: 3213.4523, train_label_loss: 0.3054, \n"
     ]
    },
    {
     "name": "stdout",
     "output_type": "stream",
     "text": [
      "epoch: 10, [batch: 2016 / 2520], examples_per_second: 3267.0418, train_label_loss: 0.4771, \n"
     ]
    },
    {
     "name": "stdout",
     "output_type": "stream",
     "text": [
      "epoch: 10, [batch: 2268 / 2520], examples_per_second: 3223.7202, train_label_loss: 0.3671, \n"
     ]
    },
    {
     "name": "stdout",
     "output_type": "stream",
     "text": [
      "=============================================================\n",
      "epoch: 10, source_val_acc_label: 0.8463, target_val_acc_label: 0.7841, source_val_label_loss: 0.4477, target_val_label_loss: 6.0781, \n",
      "=============================================================\n"
     ]
    },
    {
     "name": "stdout",
     "output_type": "stream",
     "text": [
      "epoch: 11, [batch: 1 / 2520], examples_per_second: 10.7582, train_label_loss: 0.1654, \n"
     ]
    },
    {
     "name": "stdout",
     "output_type": "stream",
     "text": [
      "epoch: 11, [batch: 252 / 2520], examples_per_second: 3063.9576, train_label_loss: 0.3795, \n"
     ]
    },
    {
     "name": "stdout",
     "output_type": "stream",
     "text": [
      "epoch: 11, [batch: 504 / 2520], examples_per_second: 3226.1074, train_label_loss: 0.5092, \n"
     ]
    },
    {
     "name": "stdout",
     "output_type": "stream",
     "text": [
      "epoch: 11, [batch: 756 / 2520], examples_per_second: 3208.0012, train_label_loss: 0.1168, \n"
     ]
    },
    {
     "name": "stdout",
     "output_type": "stream",
     "text": [
      "epoch: 11, [batch: 1008 / 2520], examples_per_second: 3151.0925, train_label_loss: 0.6946, \n"
     ]
    },
    {
     "name": "stdout",
     "output_type": "stream",
     "text": [
      "epoch: 11, [batch: 1260 / 2520], examples_per_second: 3083.3606, train_label_loss: 0.2901, \n"
     ]
    },
    {
     "name": "stdout",
     "output_type": "stream",
     "text": [
      "epoch: 11, [batch: 1512 / 2520], examples_per_second: 3133.2497, train_label_loss: 0.7258, \n"
     ]
    },
    {
     "name": "stdout",
     "output_type": "stream",
     "text": [
      "epoch: 11, [batch: 1764 / 2520], examples_per_second: 3157.8492, train_label_loss: 0.4473, \n"
     ]
    },
    {
     "name": "stdout",
     "output_type": "stream",
     "text": [
      "epoch: 11, [batch: 2016 / 2520], examples_per_second: 3176.7895, train_label_loss: 0.2753, \n"
     ]
    },
    {
     "name": "stdout",
     "output_type": "stream",
     "text": [
      "epoch: 11, [batch: 2268 / 2520], examples_per_second: 3247.0885, train_label_loss: 0.4019, \n"
     ]
    },
    {
     "name": "stdout",
     "output_type": "stream",
     "text": [
      "=============================================================\n",
      "epoch: 11, source_val_acc_label: 0.8665, target_val_acc_label: 0.8006, source_val_label_loss: 0.3928, target_val_label_loss: 1.4945, \n",
      "=============================================================\n"
     ]
    },
    {
     "name": "stdout",
     "output_type": "stream",
     "text": [
      "Patience (3) exhausted\n"
     ]
    }
   ],
   "source": [
    "###################################\n",
    "# train\n",
    "###################################\n",
    "jig = PTN_Train_Eval_Test_Jig(model, p.BEST_MODEL_PATH, p.device)\n",
    "\n",
    "jig.train(\n",
    "    train_iterable=datasets.source.processed.train,\n",
    "    source_val_iterable=datasets.source.processed.val,\n",
    "    target_val_iterable=datasets.target.processed.val,\n",
    "    num_epochs=p.n_epoch,\n",
    "    num_logs_per_epoch=p.NUM_LOGS_PER_EPOCH,\n",
    "    patience=p.patience,\n",
    "    optimizer=optimizer,\n",
    "    criteria_for_best=p.criteria_for_best,\n",
    ")"
   ]
  },
  {
   "cell_type": "code",
   "execution_count": 14,
   "id": "31e8fabf",
   "metadata": {
    "execution": {
     "iopub.execute_input": "2022-03-06T03:04:35.333990Z",
     "iopub.status.busy": "2022-03-06T03:04:35.333726Z",
     "iopub.status.idle": "2022-03-06T03:04:35.351439Z",
     "shell.execute_reply": "2022-03-06T03:04:35.351002Z"
    },
    "papermill": {
     "duration": 0.054445,
     "end_time": "2022-03-06T03:04:35.351540",
     "exception": false,
     "start_time": "2022-03-06T03:04:35.297095",
     "status": "completed"
    },
    "tags": []
   },
   "outputs": [],
   "source": [
    "total_experiment_time_secs = time.time() - start_time_secs"
   ]
  },
  {
   "cell_type": "code",
   "execution_count": 15,
   "id": "87b9595b",
   "metadata": {
    "execution": {
     "iopub.execute_input": "2022-03-06T03:04:35.426389Z",
     "iopub.status.busy": "2022-03-06T03:04:35.426111Z",
     "iopub.status.idle": "2022-03-06T03:05:26.460847Z",
     "shell.execute_reply": "2022-03-06T03:05:26.460363Z"
    },
    "papermill": {
     "duration": 51.073492,
     "end_time": "2022-03-06T03:05:26.460957",
     "exception": false,
     "start_time": "2022-03-06T03:04:35.387465",
     "status": "completed"
    },
    "tags": []
   },
   "outputs": [],
   "source": [
    "###################################\n",
    "# Evaluate the model\n",
    "###################################\n",
    "source_test_label_accuracy, source_test_label_loss = jig.test(datasets.source.processed.test)\n",
    "target_test_label_accuracy, target_test_label_loss = jig.test(datasets.target.processed.test)\n",
    "\n",
    "source_val_label_accuracy, source_val_label_loss = jig.test(datasets.source.processed.val)\n",
    "target_val_label_accuracy, target_val_label_loss = jig.test(datasets.target.processed.val)\n",
    "\n",
    "history = jig.get_history()\n",
    "\n",
    "total_epochs_trained = len(history[\"epoch_indices\"])\n",
    "\n",
    "val_dl = Iterable_Aggregator((datasets.source.original.val,datasets.target.original.val))\n",
    "\n",
    "confusion = ptn_confusion_by_domain_over_dataloader(model, p.device, val_dl)\n",
    "per_domain_accuracy = per_domain_accuracy_from_confusion(confusion)\n",
    "\n",
    "# Add a key to per_domain_accuracy for if it was a source domain\n",
    "for domain, accuracy in per_domain_accuracy.items():\n",
    "    per_domain_accuracy[domain] = {\n",
    "        \"accuracy\": accuracy,\n",
    "        \"source?\": domain in p.domains_source\n",
    "    }\n",
    "\n",
    "# Do an independent accuracy assesment JUST TO BE SURE!\n",
    "# _source_test_label_accuracy = independent_accuracy_assesment(model, datasets.source.processed.test, p.device)\n",
    "# _target_test_label_accuracy = independent_accuracy_assesment(model, datasets.target.processed.test, p.device)\n",
    "# _source_val_label_accuracy = independent_accuracy_assesment(model, datasets.source.processed.val, p.device)\n",
    "# _target_val_label_accuracy = independent_accuracy_assesment(model, datasets.target.processed.val, p.device)\n",
    "\n",
    "# assert(_source_test_label_accuracy == source_test_label_accuracy)\n",
    "# assert(_target_test_label_accuracy == target_test_label_accuracy)\n",
    "# assert(_source_val_label_accuracy == source_val_label_accuracy)\n",
    "# assert(_target_val_label_accuracy == target_val_label_accuracy)\n",
    "\n",
    "experiment = {\n",
    "    \"experiment_name\": p.experiment_name,\n",
    "    \"parameters\": dict(p),\n",
    "    \"results\": {\n",
    "        \"source_test_label_accuracy\": source_test_label_accuracy,\n",
    "        \"source_test_label_loss\": source_test_label_loss,\n",
    "        \"target_test_label_accuracy\": target_test_label_accuracy,\n",
    "        \"target_test_label_loss\": target_test_label_loss,\n",
    "        \"source_val_label_accuracy\": source_val_label_accuracy,\n",
    "        \"source_val_label_loss\": source_val_label_loss,\n",
    "        \"target_val_label_accuracy\": target_val_label_accuracy,\n",
    "        \"target_val_label_loss\": target_val_label_loss,\n",
    "        \"total_epochs_trained\": total_epochs_trained,\n",
    "        \"total_experiment_time_secs\": total_experiment_time_secs,\n",
    "        \"confusion\": confusion,\n",
    "        \"per_domain_accuracy\": per_domain_accuracy,\n",
    "    },\n",
    "    \"history\": history,\n",
    "    \"dataset_metrics\": get_dataset_metrics(datasets, \"ptn\"),\n",
    "}"
   ]
  },
  {
   "cell_type": "code",
   "execution_count": 16,
   "id": "54a21829",
   "metadata": {
    "execution": {
     "iopub.execute_input": "2022-03-06T03:05:26.535591Z",
     "iopub.status.busy": "2022-03-06T03:05:26.535307Z",
     "iopub.status.idle": "2022-03-06T03:05:26.707664Z",
     "shell.execute_reply": "2022-03-06T03:05:26.708076Z"
    },
    "papermill": {
     "duration": 0.208724,
     "end_time": "2022-03-06T03:05:26.708205",
     "exception": false,
     "start_time": "2022-03-06T03:05:26.499481",
     "status": "completed"
    },
    "tags": []
   },
   "outputs": [
    {
     "data": {
      "image/png": "[encoded data removed]",
      "text/plain": [
       "<Figure size 1080x504 with 1 Axes>"
      ]
     },
     "metadata": {
      "needs_background": "light"
     },
     "output_type": "display_data"
    }
   ],
   "source": [
    "ax = get_loss_curve(experiment)\n",
    "plt.show()"
   ]
  },
  {
   "cell_type": "code",
   "execution_count": 17,
   "id": "fd8a0f60",
   "metadata": {
    "execution": {
     "iopub.execute_input": "2022-03-06T03:05:26.783570Z",
     "iopub.status.busy": "2022-03-06T03:05:26.783309Z",
     "iopub.status.idle": "2022-03-06T03:05:26.961918Z",
     "shell.execute_reply": "2022-03-06T03:05:26.962134Z"
    },
    "papermill": {
     "duration": 0.214984,
     "end_time": "2022-03-06T03:05:26.962219",
     "exception": false,
     "start_time": "2022-03-06T03:05:26.747235",
     "status": "completed"
    },
    "tags": []
   },
   "outputs": [
    {
     "data": {
      "text/plain": [
       "<matplotlib.axes._subplots.AxesSubplot at 0x7f25480f2610>"
      ]
     },
     "execution_count": 17,
     "metadata": {},
     "output_type": "execute_result"
    },
    {
     "data": {
      "image/png": "[encoded data removed]",
      "text/plain": [
       "<Figure size 1080x504 with 1 Axes>"
      ]
     },
     "metadata": {
      "needs_background": "light"
     },
     "output_type": "display_data"
    }
   ],
   "source": [
    "get_results_table(experiment)"
   ]
  },
  {
   "cell_type": "code",
   "execution_count": 18,
   "id": "cf8dc689",
   "metadata": {
    "execution": {
     "iopub.execute_input": "2022-03-06T03:05:27.042948Z",
     "iopub.status.busy": "2022-03-06T03:05:27.042535Z",
     "iopub.status.idle": "2022-03-06T03:05:27.221263Z",
     "shell.execute_reply": "2022-03-06T03:05:27.221476Z"
    },
    "papermill": {
     "duration": 0.217686,
     "end_time": "2022-03-06T03:05:27.221561",
     "exception": false,
     "start_time": "2022-03-06T03:05:27.003875",
     "status": "completed"
    },
    "tags": []
   },
   "outputs": [
    {
     "data": {
      "text/plain": [
       "<matplotlib.axes._subplots.AxesSubplot at 0x7f250d64e2b0>"
      ]
     },
     "execution_count": 18,
     "metadata": {},
     "output_type": "execute_result"
    },
    {
     "data": {
      "image/png": "[encoded data removed]",
      "text/plain": [
       "<Figure size 1080x504 with 1 Axes>"
      ]
     },
     "metadata": {
      "needs_background": "light"
     },
     "output_type": "display_data"
    }
   ],
   "source": [
    "get_domain_accuracies(experiment)"
   ]
  },
  {
   "cell_type": "code",
   "execution_count": 19,
   "id": "a74ae082",
   "metadata": {
    "execution": {
     "iopub.execute_input": "2022-03-06T03:05:27.296350Z",
     "iopub.status.busy": "2022-03-06T03:05:27.296087Z",
     "iopub.status.idle": "2022-03-06T03:05:27.310030Z",
     "shell.execute_reply": "2022-03-06T03:05:27.309626Z"
    },
    "papermill": {
     "duration": 0.051884,
     "end_time": "2022-03-06T03:05:27.310138",
     "exception": false,
     "start_time": "2022-03-06T03:05:27.258254",
     "status": "completed"
    },
    "tags": []
   },
   "outputs": [
    {
     "name": "stdout",
     "output_type": "stream",
     "text": [
      "Source Test Label Accuracy: 0.8214409722222222 Target Test Label Accuracy: 0.7460416666666667\n",
      "Source Val Label Accuracy: 0.8210069444444444 Target Val Label Accuracy: 0.7546354166666667\n"
     ]
    }
   ],
   "source": [
    "print(\"Source Test Label Accuracy:\", experiment[\"results\"][\"source_test_label_accuracy\"], \"Target Test Label Accuracy:\", experiment[\"results\"][\"target_test_label_accuracy\"])\n",
    "print(\"Source Val Label Accuracy:\", experiment[\"results\"][\"source_val_label_accuracy\"], \"Target Val Label Accuracy:\", experiment[\"results\"][\"target_val_label_accuracy\"])"
   ]
  },
  {
   "cell_type": "code",
   "execution_count": 20,
   "id": "dacca602",
   "metadata": {
    "execution": {
     "iopub.execute_input": "2022-03-06T03:05:27.389264Z",
     "iopub.status.busy": "2022-03-06T03:05:27.389006Z",
     "iopub.status.idle": "2022-03-06T03:05:27.402568Z",
     "shell.execute_reply": "2022-03-06T03:05:27.402075Z"
    },
    "papermill": {
     "duration": 0.052046,
     "end_time": "2022-03-06T03:05:27.402670",
     "exception": false,
     "start_time": "2022-03-06T03:05:27.350624",
     "status": "completed"
    },
    "tags": [
     "experiment_json"
    ]
   },
   "outputs": [
    {
     "data": {
      "text/plain": [
       "'{\"experiment_name\": \"tuned_1_oracle.run1.framed\", \"parameters\": {\"experiment_name\": \"tuned_1_oracle.run1.framed\", \"device\": \"cuda\", \"lr\": 0.001, \"seed\": 1337, \"dataset_seed\": 1337, \"labels_source\": [\"3123D52\", \"3123D65\", \"3123D79\", \"3123D80\", \"3123D54\", \"3123D70\", \"3123D7B\", \"3123D89\", \"3123D58\", \"3123D76\", \"3123D7D\", \"3123EFE\", \"3123D64\", \"3123D78\", \"3123D7E\", \"3124E4A\"], \"labels_target\": [\"3123D52\", \"3123D65\", \"3123D79\", \"3123D80\", \"3123D54\", \"3123D70\", \"3123D7B\", \"3123D89\", \"3123D58\", \"3123D76\", \"3123D7D\", \"3123EFE\", \"3123D64\", \"3123D78\", \"3123D7E\", \"3124E4A\"], \"x_transforms_source\": [\"unit_power\"], \"x_transforms_target\": [\"unit_power\"], \"episode_transforms_source\": [], \"episode_transforms_target\": [], \"domains_source\": [8, 32, 50], \"domains_target\": [14, 20, 26, 38, 44], \"num_examples_per_domain_per_label_source\": 2000, \"num_examples_per_domain_per_label_target\": 2000, \"n_shot\": 3, \"n_way\": 16, \"n_query\": 2, \"train_k_factor\": 3, \"val_k_factor\": 2, \"test_k_factor\": 2, \"torch_default_dtype\": \"torch.float32\", \"n_epoch\": 50, \"patience\": 3, \"criteria_for_best\": \"target_loss\", \"x_net\": [{\"class\": \"nnReshape\", \"kargs\": {\"shape\": [-1, 1, 2, 256]}}, {\"class\": \"Conv2d\", \"kargs\": {\"in_channels\": 1, \"out_channels\": 256, \"kernel_size\": [1, 7], \"bias\": false, \"padding\": [0, 3]}}, {\"class\": \"ReLU\", \"kargs\": {\"inplace\": true}}, {\"class\": \"BatchNorm2d\", \"kargs\": {\"num_features\": 256}}, {\"class\": \"Conv2d\", \"kargs\": {\"in_channels\": 256, \"out_channels\": 80, \"kernel_size\": [2, 7], \"bias\": true, \"padding\": [0, 3]}}, {\"class\": \"ReLU\", \"kargs\": {\"inplace\": true}}, {\"class\": \"BatchNorm2d\", \"kargs\": {\"num_features\": 80}}, {\"class\": \"Flatten\", \"kargs\": {}}, {\"class\": \"Linear\", \"kargs\": {\"in_features\": 20480, \"out_features\": 256}}, {\"class\": \"ReLU\", \"kargs\": {\"inplace\": true}}, {\"class\": \"BatchNorm1d\", \"kargs\": {\"num_features\": 256}}, {\"class\": \"Linear\", \"kargs\": {\"in_features\": 256, \"out_features\": 256}}], \"NUM_LOGS_PER_EPOCH\": 10, \"BEST_MODEL_PATH\": \"./best_model.pth\", \"pickle_name\": \"oracle.Run1_framed_2000Examples_stratified_ds.2022A.pkl\"}, \"results\": {\"source_test_label_accuracy\": 0.8214409722222222, \"source_test_label_loss\": 0.5112864971160889, \"target_test_label_accuracy\": 0.7460416666666667, \"target_test_label_loss\": 1.0207651853561401, \"source_val_label_accuracy\": 0.8210069444444444, \"source_val_label_loss\": 0.5184445977210999, \"target_val_label_accuracy\": 0.7546354166666667, \"target_val_label_loss\": 1.1019313335418701, \"total_epochs_trained\": 11, \"total_experiment_time_secs\": 795.1889889240265, \"confusion\": {\"8\": {\"15\": {\"15\": 204, \"12\": 30, \"2\": 3, \"8\": 3}, \"3\": {\"3\": 232, \"2\": 4, \"12\": 4}, \"6\": {\"13\": 4, \"6\": 174, \"7\": 38, \"4\": 16, \"0\": 7, \"8\": 1}, \"1\": {\"1\": 235, \"11\": 4, \"14\": 1}, \"8\": {\"8\": 237, \"15\": 3}, \"10\": {\"14\": 29, \"10\": 198, \"13\": 12, \"4\": 1}, \"9\": {\"9\": 240}, \"13\": {\"0\": 65, \"14\": 7, \"13\": 99, \"10\": 22, \"4\": 38, \"6\": 8, \"7\": 1}, \"12\": {\"15\": 72, \"12\": 147, \"3\": 13, \"8\": 1, \"2\": 7}, \"5\": {\"5\": 226, \"1\": 6, \"10\": 7, \"14\": 1}, \"0\": {\"0\": 161, \"13\": 40, \"7\": 18, \"4\": 11, \"14\": 2, \"6\": 7, \"10\": 1}, \"2\": {\"2\": 224, \"12\": 5, \"15\": 5, \"3\": 3, \"7\": 3}, \"11\": {\"11\": 224, \"1\": 16}, \"14\": {\"14\": 178, \"4\": 16, \"1\": 12, \"10\": 30, \"13\": 4}, \"7\": {\"7\": 191, \"6\": 47, \"3\": 1, \"0\": 1}, \"4\": {\"13\": 39, \"4\": 173, \"0\": 6, \"6\": 14, \"14\": 8}}, \"50\": {\"3\": {\"3\": 236, \"8\": 4}, \"15\": {\"1\": 37, \"15\": 190, \"6\": 4, \"11\": 5, \"4\": 4}, \"8\": {\"8\": 237, \"10\": 3}, \"4\": {\"4\": 110, \"1\": 36, \"15\": 38, \"6\": 11, \"5\": 37, \"13\": 4, \"7\": 4}, \"14\": {\"14\": 240}, \"0\": {\"0\": 207, \"2\": 25, \"10\": 6, \"6\": 1, \"13\": 1}, \"7\": {\"7\": 150, \"10\": 14, \"13\": 59, \"5\": 16, \"6\": 1}, \"6\": {\"6\": 216, \"15\": 3, \"1\": 10, \"4\": 3, \"13\": 4, \"7\": 3, \"2\": 1}, \"10\": {\"10\": 226, \"0\": 10, \"13\": 1, \"7\": 3}, \"5\": {\"5\": 128, \"1\": 10, \"7\": 27, \"4\": 39, \"13\": 34, \"6\": 1, \"0\": 1}, \"2\": {\"2\": 232, \"0\": 8}, \"12\": {\"12\": 226, \"14\": 5, \"9\": 6, \"11\": 3}, \"9\": {\"9\": 229, \"12\": 8, \"11\": 3}, \"1\": {\"1\": 174, \"6\": 15, \"4\": 22, \"11\": 2, \"15\": 25, \"5\": 2}, \"11\": {\"11\": 231, \"12\": 2, \"15\": 2, \"9\": 4, \"14\": 1}, \"13\": {\"7\": 35, \"13\": 163, \"5\": 23, \"0\": 1, \"6\": 12, \"10\": 4, \"1\": 1, \"4\": 1}}, \"32\": {\"5\": {\"5\": 80, \"13\": 70, \"8\": 13, \"4\": 9, \"3\": 11, \"11\": 7, \"7\": 44, \"14\": 3, \"0\": 3}, \"8\": {\"8\": 197, \"0\": 14, \"5\": 9, \"13\": 16, \"7\": 2, \"3\": 1, \"14\": 1}, \"11\": {\"11\": 186, \"14\": 38, \"7\": 8, \"13\": 6, \"5\": 1, \"3\": 1}, \"1\": {\"1\": 236, \"10\": 4}, \"10\": {\"10\": 240}, \"15\": {\"15\": 240}, \"3\": {\"3\": 228, \"5\": 2, \"13\": 6, \"14\": 2, \"11\": 1, \"8\": 1}, \"7\": {\"4\": 29, \"7\": 145, \"13\": 16, \"14\": 8, \"5\": 29, \"2\": 2, \"11\": 7, \"0\": 2, \"8\": 2}, \"4\": {\"4\": 181, \"13\": 5, \"7\": 13, \"2\": 32, \"5\": 9}, \"14\": {\"14\": 133, \"11\": 71, \"7\": 8, \"0\": 20, \"3\": 1, \"8\": 5, \"5\": 1, \"13\": 1}, \"9\": {\"9\": 240}, \"12\": {\"12\": 240}, \"6\": {\"6\": 240}, \"2\": {\"2\": 204, \"4\": 35, \"7\": 1}, \"0\": {\"0\": 207, \"7\": 4, \"13\": 4, \"5\": 1, \"8\": 10, \"14\": 12, \"11\": 1, \"4\": 1}, \"13\": {\"5\": 66, \"13\": 123, \"3\": 16, \"8\": 7, \"4\": 7, \"7\": 16, \"0\": 2, \"11\": 1, \"14\": 2}}, \"14\": {\"15\": {\"15\": 240}, \"3\": {\"3\": 231, \"2\": 1, \"4\": 3, \"14\": 4, \"5\": 1}, \"6\": {\"13\": 72, \"6\": 158, \"2\": 8, \"14\": 2}, \"1\": {\"1\": 205, \"5\": 31, \"4\": 4}, \"8\": {\"8\": 240}, \"10\": {\"10\": 239, \"0\": 1}, \"9\": {\"9\": 237, \"10\": 1, \"12\": 2}, \"13\": {\"13\": 92, \"14\": 38, \"6\": 80, \"2\": 20, \"4\": 2, \"5\": 6, \"3\": 2}, \"12\": {\"12\": 240}, \"5\": {\"1\": 43, \"5\": 150, \"2\": 24, \"4\": 20, \"3\": 3}, \"0\": {\"0\": 234, \"10\": 5, \"3\": 1}, \"2\": {\"5\": 23, \"14\": 56, \"13\": 17, \"2\": 108, \"6\": 17, \"3\": 12, \"15\": 4, \"4\": 3}, \"11\": {\"11\": 232, \"9\": 8}, \"14\": {\"14\": 200, \"13\": 17, \"2\": 17, \"3\": 5, \"6\": 1}, \"7\": {\"7\": 240}, \"4\": {\"4\": 219, \"1\": 5, \"2\": 3, \"3\": 1, \"5\": 11, \"14\": 1}}, \"20\": {\"3\": {\"12\": 50, \"3\": 99, \"5\": 3, \"9\": 49, \"2\": 24, \"4\": 11, \"1\": 1, \"7\": 2, \"13\": 1}, \"15\": {\"13\": 4, \"15\": 163, \"5\": 40, \"0\": 21, \"1\": 12}, \"8\": {\"8\": 213, \"7\": 15, \"4\": 10, \"14\": 2}, \"4\": {\"4\": 209, \"3\": 8, \"8\": 13, \"7\": 4, \"5\": 1, \"12\": 4, \"9\": 1}, \"14\": {\"6\": 31, \"14\": 206, \"8\": 1, \"10\": 2}, \"0\": {\"0\": 130, \"5\": 77, \"15\": 28, \"8\": 1, \"13\": 2, \"2\": 1, \"7\": 1}, \"7\": {\"7\": 199, \"8\": 11, \"2\": 23, \"9\": 3, \"3\": 3, \"4\": 1}, \"6\": {\"14\": 29, \"6\": 211}, \"10\": {\"10\": 234, \"14\": 5, \"7\": 1}, \"5\": {\"1\": 9, \"5\": 142, \"0\": 59, \"15\": 23, \"12\": 6, \"13\": 1}, \"2\": {\"2\": 135, \"9\": 49, \"12\": 8, \"7\": 13, \"13\": 9, \"3\": 23, \"5\": 1, \"1\": 1, \"4\": 1}, \"12\": {\"1\": 41, \"12\": 139, \"5\": 6, \"15\": 3, \"3\": 33, \"2\": 8, \"9\": 8, \"7\": 1, \"13\": 1}, \"9\": {\"3\": 47, \"2\": 47, \"9\": 130, \"12\": 13, \"7\": 2, \"1\": 1}, \"1\": {\"1\": 163, \"12\": 55, \"5\": 9, \"15\": 12, \"9\": 1}, \"11\": {\"11\": 240}, \"13\": {\"13\": 222, \"2\": 11, \"12\": 3, \"5\": 3, \"7\": 1}}, \"44\": {\"5\": {\"5\": 192, \"0\": 26, \"14\": 5, \"15\": 12, \"8\": 4, \"4\": 1}, \"8\": {\"8\": 135, \"15\": 8, \"0\": 97}, \"11\": {\"11\": 238, \"13\": 2}, \"1\": {\"12\": 67, \"1\": 137, \"3\": 18, \"10\": 11, \"2\": 7}, \"10\": {\"10\": 171, \"12\": 25, \"1\": 18, \"2\": 26}, \"15\": {\"15\": 198, \"0\": 15, \"14\": 16, \"8\": 4, \"5\": 5, \"4\": 2}, \"3\": {\"3\": 230, \"1\": 7, \"12\": 3}, \"7\": {\"7\": 163, \"2\": 35, \"9\": 31, \"6\": 10, \"3\": 1}, \"4\": {\"14\": 62, \"4\": 175, \"13\": 2, \"15\": 1}, \"14\": {\"14\": 176, \"4\": 50, \"5\": 4, \"15\": 10}, \"9\": {\"7\": 41, \"6\": 17, \"9\": 157, \"13\": 24, \"2\": 1}, \"12\": {\"12\": 182, \"1\": 43, \"10\": 14, \"3\": 1}, \"6\": {\"13\": 28, \"9\": 20, \"6\": 179, \"7\": 13}, \"2\": {\"2\": 185, \"10\": 19, \"7\": 27, \"1\": 9}, \"0\": {\"0\": 158, \"8\": 58, \"15\": 10, \"5\": 14}, \"13\": {\"13\": 169, \"11\": 5, \"9\": 30, \"6\": 36}}, \"38\": {\"14\": {\"14\": 207, \"2\": 13, \"11\": 20}, \"0\": {\"0\": 128, \"8\": 56, \"7\": 32, \"5\": 9, \"3\": 14, \"6\": 1}, \"13\": {\"13\": 165, \"15\": 60, \"10\": 9, \"2\": 5, \"1\": 1}, \"7\": {\"7\": 211, \"8\": 4, \"0\": 10, \"5\": 15}, \"9\": {\"9\": 180, \"6\": 53, \"3\": 4, \"5\": 2, \"7\": 1}, \"3\": {\"3\": 223, \"5\": 2, \"0\": 3, \"9\": 8, \"7\": 3, \"6\": 1}, \"11\": {\"11\": 140, \"14\": 89, \"2\": 1, \"10\": 4, \"9\": 2, \"7\": 2, \"1\": 1, \"5\": 1}, \"6\": {\"6\": 215, \"9\": 23, \"5\": 2}, \"8\": {\"8\": 168, \"0\": 33, \"15\": 6, \"5\": 28, \"10\": 3, \"1\": 1, \"7\": 1}, \"4\": {\"4\": 232, \"12\": 8}, \"5\": {\"1\": 5, \"5\": 125, \"3\": 3, \"8\": 48, \"7\": 21, \"6\": 14, \"9\": 7, \"0\": 6, \"10\": 5, \"15\": 6}, \"10\": {\"13\": 8, \"10\": 217, \"7\": 1, \"2\": 2, \"8\": 5, \"11\": 1, \"14\": 1, \"0\": 1, \"15\": 3, \"5\": 1}, \"1\": {\"1\": 234, \"15\": 6}, \"2\": {\"2\": 221, \"14\": 14, \"13\": 5}, \"15\": {\"15\": 182, \"1\": 15, \"0\": 1, \"13\": 32, \"8\": 8, \"5\": 2}, \"12\": {\"12\": 239, \"4\": 1}}, \"26\": {\"13\": {\"5\": 38, \"13\": 175, \"15\": 13, \"6\": 4, \"9\": 2, \"3\": 2, \"2\": 5, \"7\": 1}, \"2\": {\"2\": 116, \"7\": 24, \"5\": 22, \"4\": 1, \"3\": 59, \"15\": 7, \"8\": 10, \"13\": 1}, \"8\": {\"8\": 108, \"5\": 6, \"10\": 39, \"0\": 27, \"15\": 12, \"14\": 7, \"9\": 4, \"4\": 24, \"7\": 9, \"6\": 1, \"1\": 1, \"2\": 2}, \"9\": {\"9\": 116, \"15\": 69, \"6\": 36, \"8\": 7, \"10\": 5, \"5\": 2, \"2\": 1, \"0\": 3, \"13\": 1}, \"12\": {\"12\": 240}, \"4\": {\"8\": 18, \"4\": 115, \"1\": 16, \"14\": 49, \"7\": 13, \"0\": 27, \"10\": 2}, \"3\": {\"3\": 168, \"7\": 25, \"2\": 47}, \"15\": {\"15\": 128, \"5\": 15, \"9\": 61, \"13\": 11, \"8\": 13, \"6\": 6, \"10\": 2, \"2\": 3, \"0\": 1}, \"14\": {\"14\": 112, \"4\": 53, \"10\": 12, \"0\": 36, \"8\": 11, \"1\": 11, \"7\": 5}, \"10\": {\"10\": 110, \"6\": 5, \"8\": 48, \"14\": 15, \"0\": 43, \"15\": 6, \"4\": 7, \"9\": 4, \"1\": 2}, \"7\": {\"2\": 35, \"7\": 147, \"4\": 19, \"3\": 16, \"14\": 2, \"1\": 6, \"8\": 9, \"15\": 1, \"0\": 3, \"5\": 1, \"10\": 1}, \"11\": {\"11\": 240}, \"6\": {\"6\": 213, \"9\": 19, \"10\": 6, \"15\": 2}, \"1\": {\"1\": 199, \"14\": 14, \"4\": 21, \"10\": 3, \"0\": 1, \"7\": 2}, \"5\": {\"13\": 29, \"5\": 186, \"8\": 7, \"15\": 11, \"2\": 7}, \"0\": {\"8\": 20, \"0\": 84, \"14\": 42, \"4\": 28, \"7\": 3, \"10\": 57, \"6\": 2, \"9\": 2, \"1\": 1, \"15\": 1}}}, \"per_domain_accuracy\": {\"8\": {\"accuracy\": 0.8184895833333333, \"source?\": true}, \"50\": {\"accuracy\": 0.83203125, \"source?\": true}, \"32\": {\"accuracy\": 0.8125, \"source?\": true}, \"14\": {\"accuracy\": 0.8502604166666666, \"source?\": false}, \"20\": {\"accuracy\": 0.73828125, \"source?\": false}, \"44\": {\"accuracy\": 0.7408854166666666, \"source?\": false}, \"38\": {\"accuracy\": 0.80390625, \"source?\": false}, \"26\": {\"accuracy\": 0.63984375, \"source?\": false}}}, \"history\": {\"epoch_indices\": [1, 2, 3, 4, 5, 6, 7, 8, 9, 10, 11], \"train_label_loss\": [1.0004884720794738, 3.2466447965020224, 0.7357543944957711, 0.6887825202137705, 0.6189343450679665, 0.5563731763186672, 0.5296584927757818, 0.46011826642271547, 0.42911720165450656, 0.3906116968996468, 0.3842662840172471], \"source_val_label_loss\": [616.611083984375, 0.7880246043205261, 0.7454861402511597, 0.7152156829833984, 0.7490050792694092, 0.5366823673248291, 0.5184445977210999, 0.5110437273979187, 0.5088464021682739, 0.4477408230304718, 0.39276453852653503], \"target_val_label_loss\": [351.7091064453125, 4.2306928634643555, 3.8644893169403076, 5.868343830108643, 7.061248779296875, 4.5919623374938965, 1.1019313335418701, 1.7886277437210083, 2.693920135498047, 6.078125, 1.4945472478866577], \"source_val_acc_label\": [0.6483506944444445, 0.7099826388888889, 0.7399305555555555, 0.7521701388888888, 0.7332465277777778, 0.8151909722222223, 0.8210069444444444, 0.8174479166666667, 0.8217881944444444, 0.8462673611111111, 0.8664930555555556], \"target_val_acc_label\": [0.5626041666666667, 0.6578645833333333, 0.6610416666666666, 0.6869270833333333, 0.6741145833333333, 0.7665104166666666, 0.7546354166666667, 0.75859375, 0.75390625, 0.7841145833333333, 0.8005729166666666]}, \"dataset_metrics\": {\"source\": {\"train\": {\"n_unique_x\": 67200, \"n_unique_y\": 16, \"n_batch/episode\": 2520}, \"val\": {\"n_unique_x\": 14400, \"n_unique_y\": 16, \"n_batch/episode\": 360}, \"test\": {\"n_unique_x\": 14400, \"n_unique_y\": 16, \"n_batch/episode\": 360}}, \"target\": {\"train\": {\"n_unique_x\": 112000, \"n_unique_y\": 16, \"n_batch/episode\": 4200}, \"val\": {\"n_unique_x\": 24000, \"n_unique_y\": 16, \"n_batch/episode\": 600}, \"test\": {\"n_unique_x\": 24000, \"n_unique_y\": 16, \"n_batch/episode\": 600}}}}'"
      ]
     },
     "execution_count": 20,
     "metadata": {},
     "output_type": "execute_result"
    }
   ],
   "source": [
    "json.dumps(experiment)"
   ]
  }
 ],
 "metadata": {
  "celltoolbar": "Tags",
  "kernelspec": {
   "display_name": "Python 3 (ipykernel)",
   "language": "python",
   "name": "python3"
  },
  "language_info": {
   "codemirror_mode": {
    "name": "ipython",
    "version": 3
   },
   "file_extension": ".py",
   "mimetype": "text/x-python",
   "name": "python",
   "nbconvert_exporter": "python",
   "pygments_lexer": "ipython3",
   "version": "3.8.10"
  },
  "papermill": {
   "default_parameters": {},
   "duration": 850.024446,
   "end_time": "2022-03-06T03:05:28.351745",
   "environment_variables": {},
   "exception": null,
   "input_path": "/mnt/wd500GB/CSC500/csc500-main/csc500-notebooks/templates/ptn_template.ipynb",
   "output_path": "trial.ipynb",
   "parameters": {
    "parameters": {
     "BEST_MODEL_PATH": "./best_model.pth",
     "NUM_LOGS_PER_EPOCH": 10,
     "criteria_for_best": "target_loss",
     "dataset_seed": 1337,
     "device": "cuda",
     "domains_source": [
      8,
      32,
      50
     ],
     "domains_target": [
      14,
      20,
      26,
      38,
      44
     ],
     "episode_transforms_source": [],
     "episode_transforms_target": [],
     "experiment_name": "tuned_1_oracle.run1.framed",
     "labels_source": [
      "3123D52",
      "3123D65",
      "3123D79",
      "3123D80",
      "3123D54",
      "3123D70",
      "3123D7B",
      "3123D89",
      "3123D58",
      "3123D76",
      "3123D7D",
      "3123EFE",
      "3123D64",
      "3123D78",
      "3123D7E",
      "3124E4A"
     ],
     "labels_target": [
      "3123D52",
      "3123D65",
      "3123D79",
      "3123D80",
      "3123D54",
      "3123D70",
      "3123D7B",
      "3123D89",
      "3123D58",
      "3123D76",
      "3123D7D",
      "3123EFE",
      "3123D64",
      "3123D78",
      "3123D7E",
      "3124E4A"
     ],
     "lr": 0.001,
     "n_epoch": 50,
     "n_query": 2,
     "n_shot": 3,
     "n_way": 16,
     "num_examples_per_domain_per_label_source": 2000,
     "num_examples_per_domain_per_label_target": 2000,
     "patience": 3,
     "pickle_name": "oracle.Run1_framed_2000Examples_stratified_ds.2022A.pkl",
     "seed": 1337,
     "test_k_factor": 2,
     "torch_default_dtype": "torch.float32",
     "train_k_factor": 3,
     "val_k_factor": 2,
     "x_net": [
      {
       "class": "nnReshape",
       "kargs": {
        "shape": [
         -1,
         1,
         2,
         256
        ]
       }
      },
      {
       "class": "Conv2d",
       "kargs": {
        "bias": false,
        "in_channels": 1,
        "kernel_size": [
         1,
         7
        ],
        "out_channels": 256,
        "padding": [
         0,
         3
        ]
       }
      },
      {
       "class": "ReLU",
       "kargs": {
        "inplace": true
       }
      },
      {
       "class": "BatchNorm2d",
       "kargs": {
        "num_features": 256
       }
      },
      {
       "class": "Conv2d",
       "kargs": {
        "bias": true,
        "in_channels": 256,
        "kernel_size": [
         2,
         7
        ],
        "out_channels": 80,
        "padding": [
         0,
         3
        ]
       }
      },
      {
       "class": "ReLU",
       "kargs": {
        "inplace": true
       }
      },
      {
       "class": "BatchNorm2d",
       "kargs": {
        "num_features": 80
       }
      },
      {
       "class": "Flatten",
       "kargs": {}
      },
      {
       "class": "Linear",
       "kargs": {
        "in_features": 20480,
        "out_features": 256
       }
      },
      {
       "class": "ReLU",
       "kargs": {
        "inplace": true
       }
      },
      {
       "class": "BatchNorm1d",
       "kargs": {
        "num_features": 256
       }
      },
      {
       "class": "Linear",
       "kargs": {
        "in_features": 256,
        "out_features": 256
       }
      }
     ],
     "x_transforms_source": [
      "unit_power"
     ],
     "x_transforms_target": [
      "unit_power"
     ]
    }
   },
   "start_time": "2022-03-06T02:51:18.327299",
   "version": "2.3.4"
  }
 },
 "nbformat": 4,
 "nbformat_minor": 5
}