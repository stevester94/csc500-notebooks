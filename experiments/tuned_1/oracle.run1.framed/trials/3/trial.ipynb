{
 "cells": [
  {
   "cell_type": "markdown",
   "id": "9fea5f46",
   "metadata": {
    "papermill": {
     "duration": 0.01299,
     "end_time": "2022-03-06T01:16:27.733601",
     "exception": false,
     "start_time": "2022-03-06T01:16:27.720611",
     "status": "completed"
    },
    "tags": []
   },
   "source": [
    "# PTN Template\n",
    "This notebook serves as a template for single dataset PTN experiments  \n",
    "It can be run on its own by setting STANDALONE to True (do a find for \"STANDALONE\" to see where)  \n",
    "But it is intended to be executed as part of a *papermill.py script. See any of the   \n",
    "experimentes with a papermill script to get started with that workflow.  "
   ]
  },
  {
   "cell_type": "code",
   "execution_count": 1,
   "id": "0902182a",
   "metadata": {
    "execution": {
     "iopub.execute_input": "2022-03-06T01:16:27.764367Z",
     "iopub.status.busy": "2022-03-06T01:16:27.764043Z",
     "iopub.status.idle": "2022-03-06T01:16:28.571753Z",
     "shell.execute_reply": "2022-03-06T01:16:28.571270Z"
    },
    "papermill": {
     "duration": 0.828891,
     "end_time": "2022-03-06T01:16:28.571867",
     "exception": false,
     "start_time": "2022-03-06T01:16:27.742976",
     "status": "completed"
    },
    "tags": []
   },
   "outputs": [],
   "source": [
    "%load_ext autoreload\n",
    "%autoreload 2\n",
    "%matplotlib inline\n",
    "\n",
    "    \n",
    "import os, json, sys, time, random\n",
    "import numpy as np\n",
    "import torch\n",
    "from torch.optim import Adam\n",
    "from  easydict import EasyDict\n",
    "import matplotlib.pyplot as plt\n",
    "\n",
    "from steves_models.steves_ptn import Steves_Prototypical_Network\n",
    "\n",
    "from steves_utils.lazy_iterable_wrapper import Lazy_Iterable_Wrapper\n",
    "from steves_utils.iterable_aggregator import Iterable_Aggregator\n",
    "from steves_utils.ptn_train_eval_test_jig import  PTN_Train_Eval_Test_Jig\n",
    "from steves_utils.torch_sequential_builder import build_sequential\n",
    "from steves_utils.torch_utils import get_dataset_metrics, ptn_confusion_by_domain_over_dataloader\n",
    "from steves_utils.utils_v2 import (per_domain_accuracy_from_confusion, get_datasets_base_path)\n",
    "from steves_utils.PTN.utils import independent_accuracy_assesment\n",
    "\n",
    "from steves_utils.stratified_dataset.episodic_accessor import Episodic_Accessor_Factory\n",
    "\n",
    "from steves_utils.ptn_do_report import (\n",
    "    get_loss_curve,\n",
    "    get_results_table,\n",
    "    get_parameters_table,\n",
    "    get_domain_accuracies,\n",
    ")\n",
    "\n",
    "from steves_utils.transforms import get_chained_transform"
   ]
  },
  {
   "cell_type": "markdown",
   "id": "41c840b4",
   "metadata": {
    "papermill": {
     "duration": 0.009293,
     "end_time": "2022-03-06T01:16:28.596319",
     "exception": false,
     "start_time": "2022-03-06T01:16:28.587026",
     "status": "completed"
    },
    "tags": []
   },
   "source": [
    "# Required Parameters\n",
    "These are allowed parameters, not defaults\n",
    "Each of these values need to be present in the injected parameters (the notebook will raise an exception if they are not present)\n",
    "\n",
    "Papermill uses the cell tag \"parameters\" to inject the real parameters below this cell.\n",
    "Enable tags to see what I mean"
   ]
  },
  {
   "cell_type": "code",
   "execution_count": 2,
   "id": "fd44eb83",
   "metadata": {
    "execution": {
     "iopub.execute_input": "2022-03-06T01:16:28.618965Z",
     "iopub.status.busy": "2022-03-06T01:16:28.618690Z",
     "iopub.status.idle": "2022-03-06T01:16:28.631483Z",
     "shell.execute_reply": "2022-03-06T01:16:28.631089Z"
    },
    "papermill": {
     "duration": 0.025875,
     "end_time": "2022-03-06T01:16:28.631572",
     "exception": false,
     "start_time": "2022-03-06T01:16:28.605697",
     "status": "completed"
    },
    "tags": []
   },
   "outputs": [],
   "source": [
    "required_parameters = {\n",
    "    \"experiment_name\",\n",
    "    \"lr\",\n",
    "    \"device\",\n",
    "    \"seed\",\n",
    "    \"dataset_seed\",\n",
    "    \"labels_source\",\n",
    "    \"labels_target\",\n",
    "    \"domains_source\",\n",
    "    \"domains_target\",\n",
    "    \"num_examples_per_domain_per_label_source\",\n",
    "    \"num_examples_per_domain_per_label_target\",\n",
    "    \"n_shot\",\n",
    "    \"n_way\",\n",
    "    \"n_query\",\n",
    "    \"train_k_factor\",\n",
    "    \"val_k_factor\",\n",
    "    \"test_k_factor\",\n",
    "    \"n_epoch\",\n",
    "    \"patience\",\n",
    "    \"criteria_for_best\",\n",
    "    \"x_transforms_source\",\n",
    "    \"x_transforms_target\",\n",
    "    \"episode_transforms_source\",\n",
    "    \"episode_transforms_target\",\n",
    "    \"pickle_name\",\n",
    "    \"x_net\",\n",
    "    \"NUM_LOGS_PER_EPOCH\",\n",
    "    \"BEST_MODEL_PATH\",\n",
    "    \"torch_default_dtype\"\n",
    "}"
   ]
  },
  {
   "cell_type": "code",
   "execution_count": 3,
   "id": "fa3f0049",
   "metadata": {
    "execution": {
     "iopub.execute_input": "2022-03-06T01:16:28.664667Z",
     "iopub.status.busy": "2022-03-06T01:16:28.664154Z",
     "iopub.status.idle": "2022-03-06T01:16:28.674235Z",
     "shell.execute_reply": "2022-03-06T01:16:28.673852Z"
    },
    "papermill": {
     "duration": 0.028533,
     "end_time": "2022-03-06T01:16:28.674322",
     "exception": false,
     "start_time": "2022-03-06T01:16:28.645789",
     "status": "completed"
    },
    "tags": [
     "parameters"
    ]
   },
   "outputs": [],
   "source": [
    "\n",
    "\n",
    "standalone_parameters = {}\n",
    "standalone_parameters[\"experiment_name\"] = \"STANDALONE PTN\"\n",
    "standalone_parameters[\"lr\"] = 0.0001\n",
    "standalone_parameters[\"device\"] = \"cuda\"\n",
    "\n",
    "standalone_parameters[\"seed\"] = 1337\n",
    "standalone_parameters[\"dataset_seed\"] = 1337\n",
    "\n",
    "\n",
    "standalone_parameters[\"num_examples_per_domain_per_label_source\"]=100\n",
    "standalone_parameters[\"num_examples_per_domain_per_label_target\"]=100\n",
    "\n",
    "standalone_parameters[\"n_shot\"] = 3\n",
    "standalone_parameters[\"n_query\"]  = 2\n",
    "standalone_parameters[\"train_k_factor\"] = 1\n",
    "standalone_parameters[\"val_k_factor\"] = 2\n",
    "standalone_parameters[\"test_k_factor\"] = 2\n",
    "\n",
    "\n",
    "standalone_parameters[\"n_epoch\"] = 100\n",
    "\n",
    "standalone_parameters[\"patience\"] = 10\n",
    "standalone_parameters[\"criteria_for_best\"] = \"target_accuracy\"\n",
    "\n",
    "standalone_parameters[\"x_transforms_source\"] = [\"unit_power\"]\n",
    "standalone_parameters[\"x_transforms_target\"] = [\"unit_power\"]\n",
    "standalone_parameters[\"episode_transforms_source\"] = []\n",
    "standalone_parameters[\"episode_transforms_target\"] = []\n",
    "\n",
    "standalone_parameters[\"torch_default_dtype\"] = \"torch.float32\" \n",
    "\n",
    "\n",
    "\n",
    "standalone_parameters[\"x_net\"] =     [\n",
    "    {\"class\": \"nnReshape\", \"kargs\": {\"shape\":[-1, 1, 2, 256]}},\n",
    "    {\"class\": \"Conv2d\", \"kargs\": { \"in_channels\":1, \"out_channels\":256, \"kernel_size\":(1,7), \"bias\":False, \"padding\":(0,3), },},\n",
    "    {\"class\": \"ReLU\", \"kargs\": {\"inplace\": True}},\n",
    "    {\"class\": \"BatchNorm2d\", \"kargs\": {\"num_features\":256}},\n",
    "\n",
    "    {\"class\": \"Conv2d\", \"kargs\": { \"in_channels\":256, \"out_channels\":80, \"kernel_size\":(2,7), \"bias\":True, \"padding\":(0,3), },},\n",
    "    {\"class\": \"ReLU\", \"kargs\": {\"inplace\": True}},\n",
    "    {\"class\": \"BatchNorm2d\", \"kargs\": {\"num_features\":80}},\n",
    "    {\"class\": \"Flatten\", \"kargs\": {}},\n",
    "\n",
    "    {\"class\": \"Linear\", \"kargs\": {\"in_features\": 80*256, \"out_features\": 256}}, # 80 units per IQ pair\n",
    "    {\"class\": \"ReLU\", \"kargs\": {\"inplace\": True}},\n",
    "    {\"class\": \"BatchNorm1d\", \"kargs\": {\"num_features\":256}},\n",
    "\n",
    "    {\"class\": \"Linear\", \"kargs\": {\"in_features\": 256, \"out_features\": 256}},\n",
    "]\n",
    "\n",
    "# Parameters relevant to results\n",
    "# These parameters will basically never need to change\n",
    "standalone_parameters[\"NUM_LOGS_PER_EPOCH\"] = 10\n",
    "standalone_parameters[\"BEST_MODEL_PATH\"] = \"./best_model.pth\"\n",
    "\n",
    "# uncomment for CORES dataset\n",
    "from steves_utils.CORES.utils import (\n",
    "    ALL_NODES,\n",
    "    ALL_NODES_MINIMUM_1000_EXAMPLES,\n",
    "    ALL_DAYS\n",
    ")\n",
    "\n",
    "\n",
    "standalone_parameters[\"labels_source\"] = ALL_NODES\n",
    "standalone_parameters[\"labels_target\"] = ALL_NODES\n",
    "\n",
    "standalone_parameters[\"domains_source\"] = [1]\n",
    "standalone_parameters[\"domains_target\"] = [2,3,4,5]\n",
    "\n",
    "standalone_parameters[\"pickle_name\"] = \"cores.stratified_ds.2022A.pkl\"\n",
    "\n",
    "\n",
    "# Uncomment these for ORACLE dataset\n",
    "# from steves_utils.ORACLE.utils_v2 import (\n",
    "#     ALL_DISTANCES_FEET,\n",
    "#     ALL_RUNS,\n",
    "#     ALL_SERIAL_NUMBERS,\n",
    "# )\n",
    "# standalone_parameters[\"labels_source\"] = ALL_SERIAL_NUMBERS\n",
    "# standalone_parameters[\"labels_target\"] = ALL_SERIAL_NUMBERS\n",
    "# standalone_parameters[\"domains_source\"] = [8,20, 38,50]\n",
    "# standalone_parameters[\"domains_target\"] = [14, 26, 32, 44, 56]\n",
    "# standalone_parameters[\"pickle_name\"] = \"oracle.frame_indexed.stratified_ds.2022A.pkl\"\n",
    "# standalone_parameters[\"num_examples_per_domain_per_label_source\"]=1000\n",
    "# standalone_parameters[\"num_examples_per_domain_per_label_target\"]=1000\n",
    "\n",
    "# Uncomment these for Metahan dataset\n",
    "# standalone_parameters[\"labels_source\"] = list(range(19))\n",
    "# standalone_parameters[\"labels_target\"] = list(range(19))\n",
    "# standalone_parameters[\"domains_source\"] = [0]\n",
    "# standalone_parameters[\"domains_target\"] = [1]\n",
    "# standalone_parameters[\"pickle_name\"] = \"metehan.stratified_ds.2022A.pkl\"\n",
    "# standalone_parameters[\"n_way\"]  = len(standalone_parameters[\"labels_source\"])\n",
    "# standalone_parameters[\"num_examples_per_domain_per_label_source\"]=200\n",
    "# standalone_parameters[\"num_examples_per_domain_per_label_target\"]=100\n",
    "\n",
    "\n",
    "standalone_parameters[\"n_way\"]  = len(standalone_parameters[\"labels_source\"])"
   ]
  },
  {
   "cell_type": "code",
   "execution_count": 4,
   "id": "b5402d7e",
   "metadata": {
    "execution": {
     "iopub.execute_input": "2022-03-06T01:16:28.704754Z",
     "iopub.status.busy": "2022-03-06T01:16:28.704353Z",
     "iopub.status.idle": "2022-03-06T01:16:28.715189Z",
     "shell.execute_reply": "2022-03-06T01:16:28.714826Z"
    },
    "papermill": {
     "duration": 0.027809,
     "end_time": "2022-03-06T01:16:28.715278",
     "exception": false,
     "start_time": "2022-03-06T01:16:28.687469",
     "status": "completed"
    },
    "tags": [
     "injected-parameters"
    ]
   },
   "outputs": [],
   "source": [
    "# Parameters\n",
    "parameters = {\n",
    "    \"experiment_name\": \"tuned_1_oracle.run1.framed\",\n",
    "    \"device\": \"cuda\",\n",
    "    \"lr\": 0.001,\n",
    "    \"seed\": 1337,\n",
    "    \"dataset_seed\": 1337,\n",
    "    \"labels_source\": [\n",
    "        \"3123D52\",\n",
    "        \"3123D65\",\n",
    "        \"3123D79\",\n",
    "        \"3123D80\",\n",
    "        \"3123D54\",\n",
    "        \"3123D70\",\n",
    "        \"3123D7B\",\n",
    "        \"3123D89\",\n",
    "        \"3123D58\",\n",
    "        \"3123D76\",\n",
    "        \"3123D7D\",\n",
    "        \"3123EFE\",\n",
    "        \"3123D64\",\n",
    "        \"3123D78\",\n",
    "        \"3123D7E\",\n",
    "        \"3124E4A\",\n",
    "    ],\n",
    "    \"labels_target\": [\n",
    "        \"3123D52\",\n",
    "        \"3123D65\",\n",
    "        \"3123D79\",\n",
    "        \"3123D80\",\n",
    "        \"3123D54\",\n",
    "        \"3123D70\",\n",
    "        \"3123D7B\",\n",
    "        \"3123D89\",\n",
    "        \"3123D58\",\n",
    "        \"3123D76\",\n",
    "        \"3123D7D\",\n",
    "        \"3123EFE\",\n",
    "        \"3123D64\",\n",
    "        \"3123D78\",\n",
    "        \"3123D7E\",\n",
    "        \"3124E4A\",\n",
    "    ],\n",
    "    \"x_transforms_source\": [\"unit_power\"],\n",
    "    \"x_transforms_target\": [\"unit_power\"],\n",
    "    \"episode_transforms_source\": [],\n",
    "    \"episode_transforms_target\": [],\n",
    "    \"domains_source\": [8, 32, 50],\n",
    "    \"domains_target\": [14, 20, 26, 38, 44],\n",
    "    \"num_examples_per_domain_per_label_source\": 1300,\n",
    "    \"num_examples_per_domain_per_label_target\": 1300,\n",
    "    \"n_shot\": 3,\n",
    "    \"n_way\": 16,\n",
    "    \"n_query\": 2,\n",
    "    \"train_k_factor\": 3,\n",
    "    \"val_k_factor\": 2,\n",
    "    \"test_k_factor\": 2,\n",
    "    \"torch_default_dtype\": \"torch.float32\",\n",
    "    \"n_epoch\": 50,\n",
    "    \"patience\": 3,\n",
    "    \"criteria_for_best\": \"target_loss\",\n",
    "    \"x_net\": [\n",
    "        {\"class\": \"nnReshape\", \"kargs\": {\"shape\": [-1, 1, 2, 256]}},\n",
    "        {\n",
    "            \"class\": \"Conv2d\",\n",
    "            \"kargs\": {\n",
    "                \"in_channels\": 1,\n",
    "                \"out_channels\": 256,\n",
    "                \"kernel_size\": [1, 7],\n",
    "                \"bias\": False,\n",
    "                \"padding\": [0, 3],\n",
    "            },\n",
    "        },\n",
    "        {\"class\": \"ReLU\", \"kargs\": {\"inplace\": True}},\n",
    "        {\"class\": \"BatchNorm2d\", \"kargs\": {\"num_features\": 256}},\n",
    "        {\n",
    "            \"class\": \"Conv2d\",\n",
    "            \"kargs\": {\n",
    "                \"in_channels\": 256,\n",
    "                \"out_channels\": 80,\n",
    "                \"kernel_size\": [2, 7],\n",
    "                \"bias\": True,\n",
    "                \"padding\": [0, 3],\n",
    "            },\n",
    "        },\n",
    "        {\"class\": \"ReLU\", \"kargs\": {\"inplace\": True}},\n",
    "        {\"class\": \"BatchNorm2d\", \"kargs\": {\"num_features\": 80}},\n",
    "        {\"class\": \"Flatten\", \"kargs\": {}},\n",
    "        {\"class\": \"Linear\", \"kargs\": {\"in_features\": 20480, \"out_features\": 256}},\n",
    "        {\"class\": \"ReLU\", \"kargs\": {\"inplace\": True}},\n",
    "        {\"class\": \"BatchNorm1d\", \"kargs\": {\"num_features\": 256}},\n",
    "        {\"class\": \"Linear\", \"kargs\": {\"in_features\": 256, \"out_features\": 256}},\n",
    "    ],\n",
    "    \"NUM_LOGS_PER_EPOCH\": 10,\n",
    "    \"BEST_MODEL_PATH\": \"./best_model.pth\",\n",
    "    \"pickle_name\": \"oracle.Run1_framed_1300Examples_stratified_ds.2022A.pkl\",\n",
    "}\n"
   ]
  },
  {
   "cell_type": "code",
   "execution_count": 5,
   "id": "8fa1cc33",
   "metadata": {
    "execution": {
     "iopub.execute_input": "2022-03-06T01:16:28.740584Z",
     "iopub.status.busy": "2022-03-06T01:16:28.740332Z",
     "iopub.status.idle": "2022-03-06T01:16:28.752442Z",
     "shell.execute_reply": "2022-03-06T01:16:28.752088Z"
    },
    "papermill": {
     "duration": 0.024504,
     "end_time": "2022-03-06T01:16:28.752512",
     "exception": false,
     "start_time": "2022-03-06T01:16:28.728008",
     "status": "completed"
    },
    "tags": []
   },
   "outputs": [],
   "source": [
    "# Set this to True if you want to run this template directly\n",
    "STANDALONE = False\n",
    "if STANDALONE:\n",
    "    print(\"parameters not injected, running with standalone_parameters\")\n",
    "    parameters = standalone_parameters\n",
    "\n",
    "if not 'parameters' in locals() and not 'parameters' in globals():\n",
    "    raise Exception(\"Parameter injection failed\")\n",
    "\n",
    "#Use an easy dict for all the parameters\n",
    "p = EasyDict(parameters)\n",
    "\n",
    "supplied_keys = set(p.keys())\n",
    "\n",
    "if  supplied_keys != required_parameters:\n",
    "    print(\"Parameters are incorrect\")\n",
    "    if len(supplied_keys - required_parameters)>0: print(\"Shouldn't have:\", str(supplied_keys - required_parameters))\n",
    "    if len(required_parameters - supplied_keys)>0: print(\"Need to have:\", str(required_parameters - supplied_keys))\n",
    "    raise RuntimeError(\"Parameters are incorrect\")\n",
    "\n"
   ]
  },
  {
   "cell_type": "code",
   "execution_count": 6,
   "id": "3a028d58",
   "metadata": {
    "execution": {
     "iopub.execute_input": "2022-03-06T01:16:28.778423Z",
     "iopub.status.busy": "2022-03-06T01:16:28.778059Z",
     "iopub.status.idle": "2022-03-06T01:16:28.792428Z",
     "shell.execute_reply": "2022-03-06T01:16:28.791912Z"
    },
    "papermill": {
     "duration": 0.026885,
     "end_time": "2022-03-06T01:16:28.792529",
     "exception": false,
     "start_time": "2022-03-06T01:16:28.765644",
     "status": "completed"
    },
    "tags": []
   },
   "outputs": [],
   "source": [
    "###################################\n",
    "# Set the RNGs and make it all deterministic\n",
    "###################################\n",
    "np.random.seed(p.seed)\n",
    "random.seed(p.seed)\n",
    "torch.manual_seed(p.seed)\n",
    "\n",
    "torch.use_deterministic_algorithms(True) "
   ]
  },
  {
   "cell_type": "code",
   "execution_count": 7,
   "id": "b691acf6",
   "metadata": {
    "execution": {
     "iopub.execute_input": "2022-03-06T01:16:28.821245Z",
     "iopub.status.busy": "2022-03-06T01:16:28.820099Z",
     "iopub.status.idle": "2022-03-06T01:16:28.833676Z",
     "shell.execute_reply": "2022-03-06T01:16:28.833415Z"
    },
    "papermill": {
     "duration": 0.026239,
     "end_time": "2022-03-06T01:16:28.833739",
     "exception": false,
     "start_time": "2022-03-06T01:16:28.807500",
     "status": "completed"
    },
    "tags": []
   },
   "outputs": [],
   "source": [
    "###########################################\n",
    "# The stratified datasets honor this\n",
    "###########################################\n",
    "torch.set_default_dtype(eval(p.torch_default_dtype))"
   ]
  },
  {
   "cell_type": "code",
   "execution_count": 8,
   "id": "b5fba671",
   "metadata": {
    "execution": {
     "iopub.execute_input": "2022-03-06T01:16:28.861973Z",
     "iopub.status.busy": "2022-03-06T01:16:28.861694Z",
     "iopub.status.idle": "2022-03-06T01:16:28.907620Z",
     "shell.execute_reply": "2022-03-06T01:16:28.907169Z"
    },
    "papermill": {
     "duration": 0.05986,
     "end_time": "2022-03-06T01:16:28.907729",
     "exception": false,
     "start_time": "2022-03-06T01:16:28.847869",
     "status": "completed"
    },
    "tags": []
   },
   "outputs": [],
   "source": [
    "###################################\n",
    "# Build the network(s)\n",
    "# Note: It's critical to do this AFTER setting the RNG\n",
    "# (This is due to the randomized initial weights)\n",
    "###################################\n",
    "x_net = build_sequential(p.x_net)"
   ]
  },
  {
   "cell_type": "code",
   "execution_count": 9,
   "id": "5d7e61cc",
   "metadata": {
    "execution": {
     "iopub.execute_input": "2022-03-06T01:16:28.933896Z",
     "iopub.status.busy": "2022-03-06T01:16:28.933631Z",
     "iopub.status.idle": "2022-03-06T01:16:28.946979Z",
     "shell.execute_reply": "2022-03-06T01:16:28.946627Z"
    },
    "papermill": {
     "duration": 0.024944,
     "end_time": "2022-03-06T01:16:28.947054",
     "exception": false,
     "start_time": "2022-03-06T01:16:28.922110",
     "status": "completed"
    },
    "tags": []
   },
   "outputs": [],
   "source": [
    "start_time_secs = time.time()"
   ]
  },
  {
   "cell_type": "code",
   "execution_count": 10,
   "id": "fd5442bc",
   "metadata": {
    "execution": {
     "iopub.execute_input": "2022-03-06T01:16:28.978397Z",
     "iopub.status.busy": "2022-03-06T01:16:28.978085Z",
     "iopub.status.idle": "2022-03-06T01:16:39.275561Z",
     "shell.execute_reply": "2022-03-06T01:16:39.275149Z"
    },
    "papermill": {
     "duration": 10.313079,
     "end_time": "2022-03-06T01:16:39.275666",
     "exception": false,
     "start_time": "2022-03-06T01:16:28.962587",
     "status": "completed"
    },
    "tags": []
   },
   "outputs": [],
   "source": [
    "###################################\n",
    "# Build the dataset\n",
    "###################################\n",
    "\n",
    "if p.x_transforms_source == []: x_transform_source = None\n",
    "else: x_transform_source = get_chained_transform(p.x_transforms_source) \n",
    "\n",
    "if p.x_transforms_target == []: x_transform_target = None\n",
    "else: x_transform_target = get_chained_transform(p.x_transforms_target)\n",
    "\n",
    "if p.episode_transforms_source == []: episode_transform_source = None\n",
    "else: raise Exception(\"episode_transform_source not implemented\")\n",
    "\n",
    "if p.episode_transforms_target == []: episode_transform_target = None\n",
    "else: raise Exception(\"episode_transform_target not implemented\")\n",
    "\n",
    "\n",
    "eaf_source = Episodic_Accessor_Factory(\n",
    "    labels=p.labels_source,\n",
    "    domains=p.domains_source,\n",
    "    num_examples_per_domain_per_label=p.num_examples_per_domain_per_label_source,\n",
    "    iterator_seed=p.seed,\n",
    "    dataset_seed=p.dataset_seed,\n",
    "    n_shot=p.n_shot,\n",
    "    n_way=p.n_way,\n",
    "    n_query=p.n_query,\n",
    "    train_val_test_k_factors=(p.train_k_factor,p.val_k_factor,p.test_k_factor),\n",
    "    pickle_path=os.path.join(get_datasets_base_path(), p.pickle_name),\n",
    "    x_transform_func=x_transform_source,\n",
    "    example_transform_func=episode_transform_source,\n",
    "    \n",
    ")\n",
    "train_original_source, val_original_source, test_original_source = eaf_source.get_train(), eaf_source.get_val(), eaf_source.get_test()\n",
    "\n",
    "\n",
    "eaf_target = Episodic_Accessor_Factory(\n",
    "    labels=p.labels_target,\n",
    "    domains=p.domains_target,\n",
    "    num_examples_per_domain_per_label=p.num_examples_per_domain_per_label_target,\n",
    "    iterator_seed=p.seed,\n",
    "    dataset_seed=p.dataset_seed,\n",
    "    n_shot=p.n_shot,\n",
    "    n_way=p.n_way,\n",
    "    n_query=p.n_query,\n",
    "    train_val_test_k_factors=(p.train_k_factor,p.val_k_factor,p.test_k_factor),\n",
    "    pickle_path=os.path.join(get_datasets_base_path(), p.pickle_name),\n",
    "    x_transform_func=x_transform_target,\n",
    "    example_transform_func=episode_transform_target,\n",
    ")\n",
    "train_original_target, val_original_target, test_original_target = eaf_target.get_train(), eaf_target.get_val(), eaf_target.get_test()\n",
    "\n",
    "\n",
    "transform_lambda = lambda ex: ex[1] # Original is (<domain>, <episode>) so we strip down to episode only\n",
    "\n",
    "train_processed_source = Lazy_Iterable_Wrapper(train_original_source, transform_lambda)\n",
    "val_processed_source   = Lazy_Iterable_Wrapper(val_original_source, transform_lambda)\n",
    "test_processed_source  = Lazy_Iterable_Wrapper(test_original_source, transform_lambda)\n",
    "\n",
    "train_processed_target = Lazy_Iterable_Wrapper(train_original_target, transform_lambda)\n",
    "val_processed_target   = Lazy_Iterable_Wrapper(val_original_target, transform_lambda)\n",
    "test_processed_target  = Lazy_Iterable_Wrapper(test_original_target, transform_lambda)\n",
    "\n",
    "datasets = EasyDict({\n",
    "    \"source\": {\n",
    "        \"original\": {\"train\":train_original_source, \"val\":val_original_source, \"test\":test_original_source},\n",
    "        \"processed\": {\"train\":train_processed_source, \"val\":val_processed_source, \"test\":test_processed_source}\n",
    "    },\n",
    "    \"target\": {\n",
    "        \"original\": {\"train\":train_original_target, \"val\":val_original_target, \"test\":test_original_target},\n",
    "        \"processed\": {\"train\":train_processed_target, \"val\":val_processed_target, \"test\":test_processed_target}\n",
    "    },\n",
    "})"
   ]
  },
  {
   "cell_type": "code",
   "execution_count": 11,
   "id": "296189d9",
   "metadata": {
    "execution": {
     "iopub.execute_input": "2022-03-06T01:16:39.303255Z",
     "iopub.status.busy": "2022-03-06T01:16:39.302990Z",
     "iopub.status.idle": "2022-03-06T01:16:41.003012Z",
     "shell.execute_reply": "2022-03-06T01:16:41.003449Z"
    },
    "papermill": {
     "duration": 1.713105,
     "end_time": "2022-03-06T01:16:41.003594",
     "exception": false,
     "start_time": "2022-03-06T01:16:39.290489",
     "status": "completed"
    },
    "tags": []
   },
   "outputs": [
    {
     "name": "stdout",
     "output_type": "stream",
     "text": [
      "Visually inspect these to see if they line up with expected values given the transforms\n",
      "x_transforms_source ['unit_power']\n",
      "x_transforms_target ['unit_power']\n",
      "Average magnitude, source: 0.91412205\n",
      "Average power, source: 1.0\n"
     ]
    },
    {
     "name": "stdout",
     "output_type": "stream",
     "text": [
      "Average magnitude, target: 0.88693225\n",
      "Average power, target: 1.0\n"
     ]
    }
   ],
   "source": [
    "# Some quick unit tests on the data\n",
    "from steves_utils.transforms import get_average_power, get_average_magnitude\n",
    "\n",
    "q_x, q_y, s_x, s_y, truth = next(iter(train_processed_source))\n",
    "\n",
    "assert q_x.dtype == eval(p.torch_default_dtype)\n",
    "assert s_x.dtype == eval(p.torch_default_dtype)\n",
    "\n",
    "print(\"Visually inspect these to see if they line up with expected values given the transforms\")\n",
    "print('x_transforms_source', p.x_transforms_source)\n",
    "print('x_transforms_target', p.x_transforms_target)\n",
    "print(\"Average magnitude, source:\", get_average_magnitude(q_x[0].numpy()))\n",
    "print(\"Average power, source:\", get_average_power(q_x[0].numpy()))\n",
    "\n",
    "q_x, q_y, s_x, s_y, truth = next(iter(train_processed_target))\n",
    "print(\"Average magnitude, target:\", get_average_magnitude(q_x[0].numpy()))\n",
    "print(\"Average power, target:\", get_average_power(q_x[0].numpy()))\n"
   ]
  },
  {
   "cell_type": "code",
   "execution_count": 12,
   "id": "bbdacba1",
   "metadata": {
    "execution": {
     "iopub.execute_input": "2022-03-06T01:16:41.036176Z",
     "iopub.status.busy": "2022-03-06T01:16:41.035912Z",
     "iopub.status.idle": "2022-03-06T01:16:41.094053Z",
     "shell.execute_reply": "2022-03-06T01:16:41.093831Z"
    },
    "papermill": {
     "duration": 0.07179,
     "end_time": "2022-03-06T01:16:41.094108",
     "exception": false,
     "start_time": "2022-03-06T01:16:41.022318",
     "status": "completed"
    },
    "tags": []
   },
   "outputs": [
    {
     "name": "stdout",
     "output_type": "stream",
     "text": [
      "(2, 256)\n"
     ]
    }
   ],
   "source": [
    "###################################\n",
    "# Build the model\n",
    "###################################\n",
    "model = Steves_Prototypical_Network(x_net, device=p.device, x_shape=(2,256))\n",
    "optimizer = Adam(params=model.parameters(), lr=p.lr)"
   ]
  },
  {
   "cell_type": "code",
   "execution_count": 13,
   "id": "22b39ac5",
   "metadata": {
    "execution": {
     "iopub.execute_input": "2022-03-06T01:16:41.118802Z",
     "iopub.status.busy": "2022-03-06T01:16:41.118495Z",
     "iopub.status.idle": "2022-03-06T01:20:34.161329Z",
     "shell.execute_reply": "2022-03-06T01:20:34.160819Z"
    },
    "papermill": {
     "duration": 233.056894,
     "end_time": "2022-03-06T01:20:34.161435",
     "exception": false,
     "start_time": "2022-03-06T01:16:41.104541",
     "status": "completed"
    },
    "tags": []
   },
   "outputs": [
    {
     "name": "stdout",
     "output_type": "stream",
     "text": [
      "epoch: 1, [batch: 1 / 1629], examples_per_second: 187.6228, train_label_loss: 2.7799, \n"
     ]
    },
    {
     "name": "stdout",
     "output_type": "stream",
     "text": [
      "epoch: 1, [batch: 163 / 1629], examples_per_second: 3111.0508, train_label_loss: 2.8321, \n"
     ]
    },
    {
     "name": "stdout",
     "output_type": "stream",
     "text": [
      "epoch: 1, [batch: 326 / 1629], examples_per_second: 3149.8413, train_label_loss: 1.8139, \n"
     ]
    },
    {
     "name": "stdout",
     "output_type": "stream",
     "text": [
      "epoch: 1, [batch: 489 / 1629], examples_per_second: 3135.9032, train_label_loss: 1.6335, \n"
     ]
    },
    {
     "name": "stdout",
     "output_type": "stream",
     "text": [
      "epoch: 1, [batch: 652 / 1629], examples_per_second: 3140.5778, train_label_loss: 1.2009, \n"
     ]
    },
    {
     "name": "stdout",
     "output_type": "stream",
     "text": [
      "epoch: 1, [batch: 815 / 1629], examples_per_second: 3134.7581, train_label_loss: 1.2832, \n"
     ]
    },
    {
     "name": "stdout",
     "output_type": "stream",
     "text": [
      "epoch: 1, [batch: 977 / 1629], examples_per_second: 3128.7079, train_label_loss: 0.7911, \n"
     ]
    },
    {
     "name": "stdout",
     "output_type": "stream",
     "text": [
      "epoch: 1, [batch: 1140 / 1629], examples_per_second: 3126.9509, train_label_loss: 0.7067, \n"
     ]
    },
    {
     "name": "stdout",
     "output_type": "stream",
     "text": [
      "epoch: 1, [batch: 1303 / 1629], examples_per_second: 3144.3900, train_label_loss: 0.7760, \n"
     ]
    },
    {
     "name": "stdout",
     "output_type": "stream",
     "text": [
      "epoch: 1, [batch: 1466 / 1629], examples_per_second: 3143.1654, train_label_loss: 0.5301, \n"
     ]
    },
    {
     "name": "stdout",
     "output_type": "stream",
     "text": [
      "=============================================================\n",
      "epoch: 1, source_val_acc_label: 0.7949, target_val_acc_label: 0.3774, source_val_label_loss: 0.5480, target_val_label_loss: 2.1917, \n",
      "=============================================================\n"
     ]
    },
    {
     "name": "stdout",
     "output_type": "stream",
     "text": [
      "New best\n"
     ]
    },
    {
     "name": "stdout",
     "output_type": "stream",
     "text": [
      "epoch: 2, [batch: 1 / 1629], examples_per_second: 16.8861, train_label_loss: 0.4900, \n"
     ]
    },
    {
     "name": "stdout",
     "output_type": "stream",
     "text": [
      "epoch: 2, [batch: 163 / 1629], examples_per_second: 3164.7924, train_label_loss: 0.2603, \n"
     ]
    },
    {
     "name": "stdout",
     "output_type": "stream",
     "text": [
      "epoch: 2, [batch: 326 / 1629], examples_per_second: 3175.9572, train_label_loss: 0.2097, \n"
     ]
    },
    {
     "name": "stdout",
     "output_type": "stream",
     "text": [
      "epoch: 2, [batch: 489 / 1629], examples_per_second: 3169.3739, train_label_loss: 0.3519, \n"
     ]
    },
    {
     "name": "stdout",
     "output_type": "stream",
     "text": [
      "epoch: 2, [batch: 652 / 1629], examples_per_second: 3140.9302, train_label_loss: 0.1291, \n"
     ]
    },
    {
     "name": "stdout",
     "output_type": "stream",
     "text": [
      "epoch: 2, [batch: 815 / 1629], examples_per_second: 3152.3173, train_label_loss: 0.1580, \n"
     ]
    },
    {
     "name": "stdout",
     "output_type": "stream",
     "text": [
      "epoch: 2, [batch: 977 / 1629], examples_per_second: 3177.8316, train_label_loss: 0.2899, \n"
     ]
    },
    {
     "name": "stdout",
     "output_type": "stream",
     "text": [
      "epoch: 2, [batch: 1140 / 1629], examples_per_second: 3159.7798, train_label_loss: 0.0571, \n"
     ]
    },
    {
     "name": "stdout",
     "output_type": "stream",
     "text": [
      "epoch: 2, [batch: 1303 / 1629], examples_per_second: 3174.0927, train_label_loss: 0.0399, \n"
     ]
    },
    {
     "name": "stdout",
     "output_type": "stream",
     "text": [
      "epoch: 2, [batch: 1466 / 1629], examples_per_second: 3164.1712, train_label_loss: 0.1878, \n"
     ]
    },
    {
     "name": "stdout",
     "output_type": "stream",
     "text": [
      "=============================================================\n",
      "epoch: 2, source_val_acc_label: 0.9245, target_val_acc_label: 0.4078, source_val_label_loss: 0.2190, target_val_label_loss: 2.9914, \n",
      "=============================================================\n"
     ]
    },
    {
     "name": "stdout",
     "output_type": "stream",
     "text": [
      "epoch: 3, [batch: 1 / 1629], examples_per_second: 16.9140, train_label_loss: 0.2395, \n"
     ]
    },
    {
     "name": "stdout",
     "output_type": "stream",
     "text": [
      "epoch: 3, [batch: 163 / 1629], examples_per_second: 3147.9779, train_label_loss: 0.0336, \n"
     ]
    },
    {
     "name": "stdout",
     "output_type": "stream",
     "text": [
      "epoch: 3, [batch: 326 / 1629], examples_per_second: 3168.9820, train_label_loss: 0.0420, \n"
     ]
    },
    {
     "name": "stdout",
     "output_type": "stream",
     "text": [
      "epoch: 3, [batch: 489 / 1629], examples_per_second: 3156.6778, train_label_loss: 0.0798, \n"
     ]
    },
    {
     "name": "stdout",
     "output_type": "stream",
     "text": [
      "epoch: 3, [batch: 652 / 1629], examples_per_second: 3151.7722, train_label_loss: 0.0176, \n"
     ]
    },
    {
     "name": "stdout",
     "output_type": "stream",
     "text": [
      "epoch: 3, [batch: 815 / 1629], examples_per_second: 3150.9070, train_label_loss: 0.0665, \n"
     ]
    },
    {
     "name": "stdout",
     "output_type": "stream",
     "text": [
      "epoch: 3, [batch: 977 / 1629], examples_per_second: 3166.0822, train_label_loss: 0.1842, \n"
     ]
    },
    {
     "name": "stdout",
     "output_type": "stream",
     "text": [
      "epoch: 3, [batch: 1140 / 1629], examples_per_second: 3149.0843, train_label_loss: 0.0813, \n"
     ]
    },
    {
     "name": "stdout",
     "output_type": "stream",
     "text": [
      "epoch: 3, [batch: 1303 / 1629], examples_per_second: 3160.3633, train_label_loss: 0.2241, \n"
     ]
    },
    {
     "name": "stdout",
     "output_type": "stream",
     "text": [
      "epoch: 3, [batch: 1466 / 1629], examples_per_second: 3161.6865, train_label_loss: 0.0128, \n"
     ]
    },
    {
     "name": "stdout",
     "output_type": "stream",
     "text": [
      "=============================================================\n",
      "epoch: 3, source_val_acc_label: 0.9497, target_val_acc_label: 0.4175, source_val_label_loss: 0.1536, target_val_label_loss: 3.3326, \n",
      "=============================================================\n"
     ]
    },
    {
     "name": "stdout",
     "output_type": "stream",
     "text": [
      "epoch: 4, [batch: 1 / 1629], examples_per_second: 16.9212, train_label_loss: 0.1287, \n"
     ]
    },
    {
     "name": "stdout",
     "output_type": "stream",
     "text": [
      "epoch: 4, [batch: 163 / 1629], examples_per_second: 3155.9593, train_label_loss: 0.0599, \n"
     ]
    },
    {
     "name": "stdout",
     "output_type": "stream",
     "text": [
      "epoch: 4, [batch: 326 / 1629], examples_per_second: 3168.9554, train_label_loss: 0.0626, \n"
     ]
    },
    {
     "name": "stdout",
     "output_type": "stream",
     "text": [
      "epoch: 4, [batch: 489 / 1629], examples_per_second: 3165.1468, train_label_loss: 0.0750, \n"
     ]
    },
    {
     "name": "stdout",
     "output_type": "stream",
     "text": [
      "epoch: 4, [batch: 652 / 1629], examples_per_second: 3161.0661, train_label_loss: 0.0603, \n"
     ]
    },
    {
     "name": "stdout",
     "output_type": "stream",
     "text": [
      "epoch: 4, [batch: 815 / 1629], examples_per_second: 3148.6508, train_label_loss: 0.2335, \n"
     ]
    },
    {
     "name": "stdout",
     "output_type": "stream",
     "text": [
      "epoch: 4, [batch: 977 / 1629], examples_per_second: 3169.4615, train_label_loss: 0.0052, \n"
     ]
    },
    {
     "name": "stdout",
     "output_type": "stream",
     "text": [
      "epoch: 4, [batch: 1140 / 1629], examples_per_second: 3157.1573, train_label_loss: 0.0985, \n"
     ]
    },
    {
     "name": "stdout",
     "output_type": "stream",
     "text": [
      "epoch: 4, [batch: 1303 / 1629], examples_per_second: 3173.1898, train_label_loss: 0.0813, \n"
     ]
    },
    {
     "name": "stdout",
     "output_type": "stream",
     "text": [
      "epoch: 4, [batch: 1466 / 1629], examples_per_second: 3144.4137, train_label_loss: 0.0363, \n"
     ]
    },
    {
     "name": "stdout",
     "output_type": "stream",
     "text": [
      "=============================================================\n",
      "epoch: 4, source_val_acc_label: 0.9597, target_val_acc_label: 0.4014, source_val_label_loss: 0.1228, target_val_label_loss: 3.5526, \n",
      "=============================================================\n"
     ]
    },
    {
     "name": "stdout",
     "output_type": "stream",
     "text": [
      "epoch: 5, [batch: 1 / 1629], examples_per_second: 16.8923, train_label_loss: 0.0094, \n"
     ]
    },
    {
     "name": "stdout",
     "output_type": "stream",
     "text": [
      "epoch: 5, [batch: 163 / 1629], examples_per_second: 3153.9871, train_label_loss: 0.0267, \n"
     ]
    },
    {
     "name": "stdout",
     "output_type": "stream",
     "text": [
      "epoch: 5, [batch: 326 / 1629], examples_per_second: 3161.5310, train_label_loss: 0.0174, \n"
     ]
    },
    {
     "name": "stdout",
     "output_type": "stream",
     "text": [
      "epoch: 5, [batch: 489 / 1629], examples_per_second: 3170.3447, train_label_loss: 0.3047, \n"
     ]
    },
    {
     "name": "stdout",
     "output_type": "stream",
     "text": [
      "epoch: 5, [batch: 652 / 1629], examples_per_second: 3169.5885, train_label_loss: 0.1524, \n"
     ]
    },
    {
     "name": "stdout",
     "output_type": "stream",
     "text": [
      "epoch: 5, [batch: 815 / 1629], examples_per_second: 3156.3968, train_label_loss: 0.0006, \n"
     ]
    },
    {
     "name": "stdout",
     "output_type": "stream",
     "text": [
      "epoch: 5, [batch: 977 / 1629], examples_per_second: 3169.9813, train_label_loss: 0.0123, \n"
     ]
    },
    {
     "name": "stdout",
     "output_type": "stream",
     "text": [
      "epoch: 5, [batch: 1140 / 1629], examples_per_second: 3162.7147, train_label_loss: 0.0027, \n"
     ]
    },
    {
     "name": "stdout",
     "output_type": "stream",
     "text": [
      "epoch: 5, [batch: 1303 / 1629], examples_per_second: 3158.6046, train_label_loss: 0.0009, \n"
     ]
    },
    {
     "name": "stdout",
     "output_type": "stream",
     "text": [
      "epoch: 5, [batch: 1466 / 1629], examples_per_second: 3151.6467, train_label_loss: 0.0160, \n"
     ]
    },
    {
     "name": "stdout",
     "output_type": "stream",
     "text": [
      "=============================================================\n",
      "epoch: 5, source_val_acc_label: 0.9627, target_val_acc_label: 0.4078, source_val_label_loss: 0.1155, target_val_label_loss: 3.9903, \n",
      "=============================================================\n"
     ]
    },
    {
     "name": "stdout",
     "output_type": "stream",
     "text": [
      "Patience (3) exhausted\n"
     ]
    }
   ],
   "source": [
    "###################################\n",
    "# train\n",
    "###################################\n",
    "jig = PTN_Train_Eval_Test_Jig(model, p.BEST_MODEL_PATH, p.device)\n",
    "\n",
    "jig.train(\n",
    "    train_iterable=datasets.source.processed.train,\n",
    "    source_val_iterable=datasets.source.processed.val,\n",
    "    target_val_iterable=datasets.target.processed.val,\n",
    "    num_epochs=p.n_epoch,\n",
    "    num_logs_per_epoch=p.NUM_LOGS_PER_EPOCH,\n",
    "    patience=p.patience,\n",
    "    optimizer=optimizer,\n",
    "    criteria_for_best=p.criteria_for_best,\n",
    ")"
   ]
  },
  {
   "cell_type": "code",
   "execution_count": 14,
   "id": "31e8fabf",
   "metadata": {
    "execution": {
     "iopub.execute_input": "2022-03-06T01:20:34.209682Z",
     "iopub.status.busy": "2022-03-06T01:20:34.209420Z",
     "iopub.status.idle": "2022-03-06T01:20:34.226054Z",
     "shell.execute_reply": "2022-03-06T01:20:34.226461Z"
    },
    "papermill": {
     "duration": 0.040101,
     "end_time": "2022-03-06T01:20:34.226594",
     "exception": false,
     "start_time": "2022-03-06T01:20:34.186493",
     "status": "completed"
    },
    "tags": []
   },
   "outputs": [],
   "source": [
    "total_experiment_time_secs = time.time() - start_time_secs"
   ]
  },
  {
   "cell_type": "code",
   "execution_count": 15,
   "id": "87b9595b",
   "metadata": {
    "execution": {
     "iopub.execute_input": "2022-03-06T01:20:34.277188Z",
     "iopub.status.busy": "2022-03-06T01:20:34.272729Z",
     "iopub.status.idle": "2022-03-06T01:21:06.891677Z",
     "shell.execute_reply": "2022-03-06T01:21:06.891911Z"
    },
    "papermill": {
     "duration": 32.640745,
     "end_time": "2022-03-06T01:21:06.891996",
     "exception": false,
     "start_time": "2022-03-06T01:20:34.251251",
     "status": "completed"
    },
    "tags": []
   },
   "outputs": [],
   "source": [
    "###################################\n",
    "# Evaluate the model\n",
    "###################################\n",
    "source_test_label_accuracy, source_test_label_loss = jig.test(datasets.source.processed.test)\n",
    "target_test_label_accuracy, target_test_label_loss = jig.test(datasets.target.processed.test)\n",
    "\n",
    "source_val_label_accuracy, source_val_label_loss = jig.test(datasets.source.processed.val)\n",
    "target_val_label_accuracy, target_val_label_loss = jig.test(datasets.target.processed.val)\n",
    "\n",
    "history = jig.get_history()\n",
    "\n",
    "total_epochs_trained = len(history[\"epoch_indices\"])\n",
    "\n",
    "val_dl = Iterable_Aggregator((datasets.source.original.val,datasets.target.original.val))\n",
    "\n",
    "confusion = ptn_confusion_by_domain_over_dataloader(model, p.device, val_dl)\n",
    "per_domain_accuracy = per_domain_accuracy_from_confusion(confusion)\n",
    "\n",
    "# Add a key to per_domain_accuracy for if it was a source domain\n",
    "for domain, accuracy in per_domain_accuracy.items():\n",
    "    per_domain_accuracy[domain] = {\n",
    "        \"accuracy\": accuracy,\n",
    "        \"source?\": domain in p.domains_source\n",
    "    }\n",
    "\n",
    "# Do an independent accuracy assesment JUST TO BE SURE!\n",
    "# _source_test_label_accuracy = independent_accuracy_assesment(model, datasets.source.processed.test, p.device)\n",
    "# _target_test_label_accuracy = independent_accuracy_assesment(model, datasets.target.processed.test, p.device)\n",
    "# _source_val_label_accuracy = independent_accuracy_assesment(model, datasets.source.processed.val, p.device)\n",
    "# _target_val_label_accuracy = independent_accuracy_assesment(model, datasets.target.processed.val, p.device)\n",
    "\n",
    "# assert(_source_test_label_accuracy == source_test_label_accuracy)\n",
    "# assert(_target_test_label_accuracy == target_test_label_accuracy)\n",
    "# assert(_source_val_label_accuracy == source_val_label_accuracy)\n",
    "# assert(_target_val_label_accuracy == target_val_label_accuracy)\n",
    "\n",
    "experiment = {\n",
    "    \"experiment_name\": p.experiment_name,\n",
    "    \"parameters\": dict(p),\n",
    "    \"results\": {\n",
    "        \"source_test_label_accuracy\": source_test_label_accuracy,\n",
    "        \"source_test_label_loss\": source_test_label_loss,\n",
    "        \"target_test_label_accuracy\": target_test_label_accuracy,\n",
    "        \"target_test_label_loss\": target_test_label_loss,\n",
    "        \"source_val_label_accuracy\": source_val_label_accuracy,\n",
    "        \"source_val_label_loss\": source_val_label_loss,\n",
    "        \"target_val_label_accuracy\": target_val_label_accuracy,\n",
    "        \"target_val_label_loss\": target_val_label_loss,\n",
    "        \"total_epochs_trained\": total_epochs_trained,\n",
    "        \"total_experiment_time_secs\": total_experiment_time_secs,\n",
    "        \"confusion\": confusion,\n",
    "        \"per_domain_accuracy\": per_domain_accuracy,\n",
    "    },\n",
    "    \"history\": history,\n",
    "    \"dataset_metrics\": get_dataset_metrics(datasets, \"ptn\"),\n",
    "}"
   ]
  },
  {
   "cell_type": "code",
   "execution_count": 16,
   "id": "54a21829",
   "metadata": {
    "execution": {
     "iopub.execute_input": "2022-03-06T01:21:06.940090Z",
     "iopub.status.busy": "2022-03-06T01:21:06.939819Z",
     "iopub.status.idle": "2022-03-06T01:21:07.122223Z",
     "shell.execute_reply": "2022-03-06T01:21:07.122648Z"
    },
    "papermill": {
     "duration": 0.209697,
     "end_time": "2022-03-06T01:21:07.122807",
     "exception": false,
     "start_time": "2022-03-06T01:21:06.913110",
     "status": "completed"
    },
    "tags": []
   },
   "outputs": [
    {
     "data": {
      "image/png": "[encoded data removed]",
      "text/plain": [
       "<Figure size 1080x504 with 1 Axes>"
      ]
     },
     "metadata": {
      "needs_background": "light"
     },
     "output_type": "display_data"
    }
   ],
   "source": [
    "ax = get_loss_curve(experiment)\n",
    "plt.show()"
   ]
  },
  {
   "cell_type": "code",
   "execution_count": 17,
   "id": "fd8a0f60",
   "metadata": {
    "execution": {
     "iopub.execute_input": "2022-03-06T01:21:07.174121Z",
     "iopub.status.busy": "2022-03-06T01:21:07.173860Z",
     "iopub.status.idle": "2022-03-06T01:21:07.353691Z",
     "shell.execute_reply": "2022-03-06T01:21:07.354112Z"
    },
    "papermill": {
     "duration": 0.203624,
     "end_time": "2022-03-06T01:21:07.354245",
     "exception": false,
     "start_time": "2022-03-06T01:21:07.150621",
     "status": "completed"
    },
    "tags": []
   },
   "outputs": [
    {
     "data": {
      "text/plain": [
       "<matplotlib.axes._subplots.AxesSubplot at 0x7f8d2c3c4b80>"
      ]
     },
     "execution_count": 17,
     "metadata": {},
     "output_type": "execute_result"
    },
    {
     "data": {
      "image/png": "[encoded data removed]",
      "text/plain": [
       "<Figure size 1080x504 with 1 Axes>"
      ]
     },
     "metadata": {
      "needs_background": "light"
     },
     "output_type": "display_data"
    }
   ],
   "source": [
    "get_results_table(experiment)"
   ]
  },
  {
   "cell_type": "code",
   "execution_count": 18,
   "id": "cf8dc689",
   "metadata": {
    "execution": {
     "iopub.execute_input": "2022-03-06T01:21:07.407017Z",
     "iopub.status.busy": "2022-03-06T01:21:07.406753Z",
     "iopub.status.idle": "2022-03-06T01:21:07.580584Z",
     "shell.execute_reply": "2022-03-06T01:21:07.581001Z"
    },
    "papermill": {
     "duration": 0.198988,
     "end_time": "2022-03-06T01:21:07.581131",
     "exception": false,
     "start_time": "2022-03-06T01:21:07.382143",
     "status": "completed"
    },
    "tags": []
   },
   "outputs": [
    {
     "data": {
      "text/plain": [
       "<matplotlib.axes._subplots.AxesSubplot at 0x7f8d2c4999a0>"
      ]
     },
     "execution_count": 18,
     "metadata": {},
     "output_type": "execute_result"
    },
    {
     "data": {
      "image/png": "[encoded data removed]",
      "text/plain": [
       "<Figure size 1080x504 with 1 Axes>"
      ]
     },
     "metadata": {
      "needs_background": "light"
     },
     "output_type": "display_data"
    }
   ],
   "source": [
    "get_domain_accuracies(experiment)"
   ]
  },
  {
   "cell_type": "code",
   "execution_count": 19,
   "id": "a74ae082",
   "metadata": {
    "execution": {
     "iopub.execute_input": "2022-03-06T01:21:07.636844Z",
     "iopub.status.busy": "2022-03-06T01:21:07.635778Z",
     "iopub.status.idle": "2022-03-06T01:21:07.651688Z",
     "shell.execute_reply": "2022-03-06T01:21:07.652091Z"
    },
    "papermill": {
     "duration": 0.041902,
     "end_time": "2022-03-06T01:21:07.652211",
     "exception": false,
     "start_time": "2022-03-06T01:21:07.610309",
     "status": "completed"
    },
    "tags": []
   },
   "outputs": [
    {
     "name": "stdout",
     "output_type": "stream",
     "text": [
      "Source Test Label Accuracy: 0.7943376068376068 Target Test Label Accuracy: 0.37948717948717947\n",
      "Source Val Label Accuracy: 0.7948717948717948 Target Val Label Accuracy: 0.37740384615384615\n"
     ]
    }
   ],
   "source": [
    "print(\"Source Test Label Accuracy:\", experiment[\"results\"][\"source_test_label_accuracy\"], \"Target Test Label Accuracy:\", experiment[\"results\"][\"target_test_label_accuracy\"])\n",
    "print(\"Source Val Label Accuracy:\", experiment[\"results\"][\"source_val_label_accuracy\"], \"Target Val Label Accuracy:\", experiment[\"results\"][\"target_val_label_accuracy\"])"
   ]
  },
  {
   "cell_type": "code",
   "execution_count": 20,
   "id": "dacca602",
   "metadata": {
    "execution": {
     "iopub.execute_input": "2022-03-06T01:21:07.705776Z",
     "iopub.status.busy": "2022-03-06T01:21:07.705513Z",
     "iopub.status.idle": "2022-03-06T01:21:07.720962Z",
     "shell.execute_reply": "2022-03-06T01:21:07.720547Z"
    },
    "papermill": {
     "duration": 0.040078,
     "end_time": "2022-03-06T01:21:07.721070",
     "exception": false,
     "start_time": "2022-03-06T01:21:07.680992",
     "status": "completed"
    },
    "tags": [
     "experiment_json"
    ]
   },
   "outputs": [
    {
     "data": {
      "text/plain": [
       "'{\"experiment_name\": \"tuned_1_oracle.run1.framed\", \"parameters\": {\"experiment_name\": \"tuned_1_oracle.run1.framed\", \"device\": \"cuda\", \"lr\": 0.001, \"seed\": 1337, \"dataset_seed\": 1337, \"labels_source\": [\"3123D52\", \"3123D65\", \"3123D79\", \"3123D80\", \"3123D54\", \"3123D70\", \"3123D7B\", \"3123D89\", \"3123D58\", \"3123D76\", \"3123D7D\", \"3123EFE\", \"3123D64\", \"3123D78\", \"3123D7E\", \"3124E4A\"], \"labels_target\": [\"3123D52\", \"3123D65\", \"3123D79\", \"3123D80\", \"3123D54\", \"3123D70\", \"3123D7B\", \"3123D89\", \"3123D58\", \"3123D76\", \"3123D7D\", \"3123EFE\", \"3123D64\", \"3123D78\", \"3123D7E\", \"3124E4A\"], \"x_transforms_source\": [\"unit_power\"], \"x_transforms_target\": [\"unit_power\"], \"episode_transforms_source\": [], \"episode_transforms_target\": [], \"domains_source\": [8, 32, 50], \"domains_target\": [14, 20, 26, 38, 44], \"num_examples_per_domain_per_label_source\": 1300, \"num_examples_per_domain_per_label_target\": 1300, \"n_shot\": 3, \"n_way\": 16, \"n_query\": 2, \"train_k_factor\": 3, \"val_k_factor\": 2, \"test_k_factor\": 2, \"torch_default_dtype\": \"torch.float32\", \"n_epoch\": 50, \"patience\": 3, \"criteria_for_best\": \"target_loss\", \"x_net\": [{\"class\": \"nnReshape\", \"kargs\": {\"shape\": [-1, 1, 2, 256]}}, {\"class\": \"Conv2d\", \"kargs\": {\"in_channels\": 1, \"out_channels\": 256, \"kernel_size\": [1, 7], \"bias\": false, \"padding\": [0, 3]}}, {\"class\": \"ReLU\", \"kargs\": {\"inplace\": true}}, {\"class\": \"BatchNorm2d\", \"kargs\": {\"num_features\": 256}}, {\"class\": \"Conv2d\", \"kargs\": {\"in_channels\": 256, \"out_channels\": 80, \"kernel_size\": [2, 7], \"bias\": true, \"padding\": [0, 3]}}, {\"class\": \"ReLU\", \"kargs\": {\"inplace\": true}}, {\"class\": \"BatchNorm2d\", \"kargs\": {\"num_features\": 80}}, {\"class\": \"Flatten\", \"kargs\": {}}, {\"class\": \"Linear\", \"kargs\": {\"in_features\": 20480, \"out_features\": 256}}, {\"class\": \"ReLU\", \"kargs\": {\"inplace\": true}}, {\"class\": \"BatchNorm1d\", \"kargs\": {\"num_features\": 256}}, {\"class\": \"Linear\", \"kargs\": {\"in_features\": 256, \"out_features\": 256}}], \"NUM_LOGS_PER_EPOCH\": 10, \"BEST_MODEL_PATH\": \"./best_model.pth\", \"pickle_name\": \"oracle.Run1_framed_1300Examples_stratified_ds.2022A.pkl\"}, \"results\": {\"source_test_label_accuracy\": 0.7943376068376068, \"source_test_label_loss\": 0.5387117862701416, \"target_test_label_accuracy\": 0.37948717948717947, \"target_test_label_loss\": 2.196709394454956, \"source_val_label_accuracy\": 0.7948717948717948, \"source_val_label_loss\": 0.5479997396469116, \"target_val_label_accuracy\": 0.37740384615384615, \"target_val_label_loss\": 2.191749334335327, \"total_epochs_trained\": 5, \"total_experiment_time_secs\": 245.27907466888428, \"confusion\": {\"8\": {\"15\": {\"15\": 122, \"8\": 14, \"12\": 8, \"7\": 3, \"6\": 5, \"3\": 4}, \"3\": {\"3\": 137, \"2\": 9, \"15\": 7, \"12\": 2, \"7\": 1}, \"6\": {\"6\": 90, \"0\": 20, \"8\": 16, \"4\": 21, \"13\": 1, \"15\": 6, \"14\": 1, \"7\": 1}, \"1\": {\"1\": 97, \"10\": 17, \"11\": 1, \"14\": 16, \"5\": 24, \"4\": 1}, \"8\": {\"8\": 119, \"4\": 1, \"6\": 20, \"15\": 15, \"7\": 1}, \"10\": {\"1\": 20, \"10\": 100, \"5\": 13, \"0\": 3, \"13\": 4, \"14\": 7, \"4\": 8, \"6\": 1}, \"9\": {\"9\": 153, \"5\": 3}, \"13\": {\"0\": 14, \"13\": 137, \"10\": 4, \"4\": 1}, \"12\": {\"12\": 142, \"15\": 4, \"3\": 10}, \"5\": {\"5\": 130, \"11\": 5, \"1\": 14, \"10\": 4, \"9\": 3}, \"0\": {\"0\": 82, \"13\": 23, \"6\": 18, \"7\": 6, \"4\": 22, \"10\": 3, \"14\": 2}, \"2\": {\"2\": 139, \"3\": 15, \"12\": 2}, \"11\": {\"5\": 4, \"11\": 145, \"1\": 6, \"9\": 1}, \"14\": {\"4\": 28, \"14\": 82, \"10\": 12, \"1\": 28, \"6\": 4, \"8\": 2}, \"7\": {\"7\": 133, \"6\": 8, \"8\": 2, \"0\": 11, \"3\": 1, \"15\": 1}, \"4\": {\"4\": 70, \"6\": 23, \"0\": 25, \"14\": 20, \"10\": 14, \"1\": 4}}, \"50\": {\"3\": {\"3\": 156}, \"15\": {\"15\": 149, \"1\": 6, \"9\": 1}, \"8\": {\"8\": 136, \"10\": 15, \"3\": 4, \"13\": 1}, \"4\": {\"4\": 131, \"15\": 2, \"6\": 12, \"5\": 7, \"1\": 2, \"7\": 2}, \"14\": {\"14\": 150, \"9\": 3, \"1\": 3}, \"0\": {\"5\": 17, \"0\": 132, \"10\": 6, \"2\": 1}, \"7\": {\"7\": 129, \"13\": 10, \"5\": 9, \"4\": 4, \"10\": 3, \"0\": 1}, \"6\": {\"6\": 127, \"4\": 16, \"2\": 3, \"5\": 4, \"1\": 6}, \"10\": {\"10\": 120, \"13\": 18, \"0\": 10, \"7\": 1, \"8\": 7}, \"5\": {\"5\": 119, \"6\": 11, \"0\": 11, \"2\": 7, \"7\": 3, \"4\": 5}, \"2\": {\"2\": 147, \"5\": 4, \"0\": 3, \"6\": 2}, \"12\": {\"12\": 152, \"11\": 4}, \"9\": {\"9\": 128, \"14\": 8, \"11\": 17, \"12\": 1, \"1\": 2}, \"1\": {\"1\": 129, \"4\": 3, \"6\": 11, \"9\": 2, \"15\": 5, \"14\": 6}, \"11\": {\"11\": 125, \"12\": 3, \"9\": 28}, \"13\": {\"13\": 116, \"10\": 32, \"7\": 8}}, \"32\": {\"5\": {\"5\": 98, \"0\": 25, \"2\": 16, \"4\": 14, \"7\": 3}, \"8\": {\"14\": 21, \"0\": 9, \"8\": 106, \"3\": 11, \"7\": 8, \"13\": 1}, \"11\": {\"11\": 126, \"14\": 9, \"13\": 19, \"3\": 2}, \"1\": {\"1\": 151, \"10\": 5}, \"10\": {\"10\": 154, \"6\": 2}, \"15\": {\"15\": 150, \"0\": 4, \"8\": 2}, \"3\": {\"3\": 121, \"14\": 7, \"8\": 19, \"11\": 8, \"13\": 1}, \"7\": {\"7\": 78, \"14\": 13, \"13\": 19, \"4\": 40, \"8\": 5, \"0\": 1}, \"4\": {\"4\": 92, \"7\": 42, \"13\": 5, \"14\": 1, \"5\": 13, \"0\": 2, \"8\": 1}, \"14\": {\"14\": 72, \"8\": 20, \"13\": 42, \"7\": 15, \"11\": 4, \"3\": 3}, \"9\": {\"9\": 155, \"2\": 1}, \"12\": {\"12\": 154, \"9\": 1, \"6\": 1}, \"6\": {\"6\": 148, \"10\": 7, \"12\": 1}, \"2\": {\"0\": 3, \"2\": 138, \"5\": 15}, \"0\": {\"0\": 108, \"5\": 15, \"15\": 1, \"4\": 12, \"8\": 13, \"14\": 1, \"7\": 6}, \"13\": {\"14\": 36, \"13\": 77, \"11\": 19, \"7\": 22, \"4\": 2}}, \"14\": {\"15\": {\"15\": 63, \"7\": 43, \"2\": 40, \"5\": 3, \"13\": 7}, \"3\": {\"3\": 49, \"8\": 15, \"11\": 42, \"4\": 10, \"10\": 16, \"6\": 4, \"14\": 9, \"5\": 2, \"0\": 7, \"1\": 2}, \"6\": {\"2\": 18, \"14\": 55, \"3\": 7, \"6\": 46, \"13\": 12, \"15\": 3, \"5\": 10, \"4\": 5}, \"1\": {\"1\": 66, \"4\": 40, \"6\": 4, \"8\": 1, \"5\": 27, \"14\": 2, \"7\": 4, \"13\": 9, \"2\": 1, \"10\": 1, \"15\": 1}, \"8\": {\"8\": 105, \"4\": 12, \"1\": 5, \"3\": 8, \"0\": 3, \"9\": 3, \"10\": 13, \"11\": 7}, \"10\": {\"8\": 20, \"11\": 22, \"9\": 13, \"10\": 45, \"0\": 40, \"3\": 16}, \"9\": {\"9\": 99, \"12\": 33, \"0\": 18, \"10\": 4, \"11\": 2}, \"13\": {\"7\": 24, \"4\": 13, \"5\": 26, \"14\": 8, \"1\": 13, \"6\": 15, \"13\": 28, \"15\": 7, \"2\": 22}, \"12\": {\"12\": 114, \"9\": 40, \"0\": 2}, \"5\": {\"7\": 12, \"13\": 48, \"1\": 21, \"5\": 34, \"6\": 18, \"2\": 2, \"14\": 7, \"4\": 13, \"15\": 1}, \"0\": {\"9\": 29, \"10\": 36, \"11\": 24, \"0\": 53, \"8\": 5, \"12\": 1, \"3\": 8}, \"2\": {\"2\": 50, \"15\": 48, \"13\": 12, \"7\": 28, \"6\": 2, \"5\": 11, \"4\": 4, \"14\": 1}, \"11\": {\"11\": 46, \"3\": 44, \"0\": 16, \"10\": 30, \"8\": 6, \"12\": 1, \"9\": 11, \"14\": 2}, \"14\": {\"6\": 54, \"5\": 7, \"14\": 74, \"3\": 6, \"13\": 10, \"11\": 4, \"4\": 1}, \"7\": {\"4\": 1, \"15\": 45, \"2\": 31, \"7\": 51, \"5\": 12, \"13\": 13, \"1\": 3}, \"4\": {\"4\": 73, \"1\": 52, \"13\": 3, \"6\": 4, \"5\": 8, \"14\": 6, \"8\": 4, \"3\": 5, \"11\": 1}}, \"20\": {\"3\": {\"13\": 11, \"7\": 12, \"4\": 11, \"9\": 19, \"0\": 9, \"3\": 13, \"2\": 10, \"12\": 13, \"1\": 8, \"5\": 11, \"15\": 12, \"10\": 12, \"8\": 8, \"14\": 5, \"6\": 2}, \"15\": {\"15\": 55, \"1\": 53, \"5\": 26, \"2\": 1, \"9\": 2, \"3\": 5, \"13\": 4, \"0\": 7, \"7\": 2, \"12\": 1}, \"8\": {\"14\": 15, \"13\": 4, \"8\": 45, \"7\": 20, \"15\": 1, \"6\": 27, \"5\": 2, \"4\": 1, \"2\": 7, \"10\": 15, \"3\": 5, \"0\": 3, \"11\": 6, \"12\": 3, \"9\": 2}, \"4\": {\"2\": 26, \"3\": 11, \"4\": 35, \"12\": 28, \"13\": 3, \"0\": 13, \"10\": 8, \"9\": 9, \"8\": 13, \"7\": 3, \"14\": 1, \"6\": 5, \"15\": 1}, \"14\": {\"8\": 12, \"14\": 79, \"11\": 4, \"12\": 2, \"6\": 31, \"10\": 14, \"3\": 5, \"7\": 3, \"9\": 1, \"13\": 2, \"0\": 1, \"5\": 1, \"2\": 1}, \"0\": {\"10\": 9, \"15\": 16, \"0\": 20, \"3\": 12, \"12\": 20, \"9\": 12, \"4\": 15, \"1\": 14, \"14\": 7, \"7\": 4, \"5\": 11, \"8\": 5, \"2\": 11}, \"7\": {\"10\": 10, \"13\": 29, \"6\": 6, \"1\": 5, \"7\": 27, \"11\": 7, \"8\": 23, \"5\": 12, \"0\": 3, \"12\": 4, \"4\": 1, \"3\": 9, \"9\": 6, \"15\": 5, \"2\": 7, \"14\": 2}, \"6\": {\"11\": 61, \"10\": 17, \"6\": 31, \"14\": 16, \"4\": 1, \"8\": 14, \"7\": 10, \"3\": 3, \"9\": 1, \"13\": 2}, \"10\": {\"14\": 22, \"7\": 10, \"12\": 3, \"8\": 28, \"10\": 27, \"2\": 9, \"6\": 12, \"4\": 15, \"9\": 4, \"3\": 7, \"13\": 4, \"11\": 11, \"0\": 4}, \"5\": {\"15\": 24, \"5\": 28, \"1\": 24, \"0\": 11, \"3\": 11, \"2\": 12, \"7\": 2, \"12\": 11, \"13\": 19, \"9\": 10, \"4\": 4}, \"2\": {\"12\": 21, \"2\": 18, \"8\": 11, \"0\": 10, \"14\": 6, \"3\": 14, \"5\": 6, \"10\": 8, \"1\": 12, \"7\": 13, \"4\": 10, \"9\": 10, \"15\": 7, \"6\": 4, \"13\": 5, \"11\": 1}, \"12\": {\"13\": 10, \"7\": 4, \"15\": 12, \"4\": 39, \"1\": 9, \"12\": 23, \"3\": 3, \"2\": 12, \"0\": 20, \"9\": 5, \"8\": 3, \"5\": 10, \"10\": 4, \"6\": 1, \"14\": 1}, \"9\": {\"13\": 20, \"2\": 11, \"4\": 13, \"0\": 14, \"12\": 12, \"1\": 7, \"7\": 14, \"3\": 14, \"9\": 7, \"5\": 11, \"8\": 18, \"10\": 7, \"15\": 7, \"6\": 1}, \"1\": {\"15\": 47, \"1\": 44, \"5\": 26, \"3\": 4, \"13\": 12, \"2\": 1, \"12\": 8, \"0\": 7, \"9\": 4, \"7\": 2, \"4\": 1}, \"11\": {\"6\": 26, \"11\": 106, \"8\": 9, \"10\": 3, \"7\": 8, \"14\": 1, \"9\": 1, \"13\": 1, \"1\": 1}, \"13\": {\"15\": 6, \"7\": 30, \"8\": 5, \"13\": 67, \"5\": 13, \"1\": 6, \"0\": 4, \"4\": 2, \"9\": 12, \"10\": 1, \"3\": 7, \"2\": 2, \"12\": 1}}, \"44\": {\"5\": {\"0\": 22, \"5\": 84, \"15\": 5, \"14\": 31, \"8\": 14}, \"8\": {\"8\": 98, \"0\": 47, \"5\": 9, \"15\": 2}, \"11\": {\"6\": 14, \"11\": 94, \"13\": 28, \"9\": 14, \"4\": 5, \"7\": 1}, \"1\": {\"1\": 37, \"2\": 29, \"10\": 24, \"12\": 14, \"6\": 6, \"3\": 31, \"9\": 3, \"7\": 12}, \"10\": {\"2\": 31, \"10\": 43, \"1\": 35, \"3\": 18, \"12\": 24, \"7\": 4, \"9\": 1}, \"15\": {\"15\": 134, \"14\": 7, \"4\": 1, \"0\": 11, \"5\": 1, \"8\": 2}, \"3\": {\"12\": 31, \"3\": 61, \"1\": 23, \"10\": 19, \"7\": 12, \"2\": 7, \"6\": 2, \"9\": 1}, \"7\": {\"7\": 46, \"2\": 19, \"9\": 25, \"6\": 44, \"1\": 6, \"3\": 8, \"10\": 4, \"12\": 2, \"11\": 1, \"13\": 1}, \"4\": {\"4\": 114, \"14\": 34, \"13\": 5, \"15\": 3}, \"14\": {\"4\": 46, \"15\": 26, \"14\": 55, \"5\": 28, \"0\": 1}, \"9\": {\"7\": 28, \"6\": 35, \"9\": 41, \"13\": 9, \"3\": 5, \"10\": 3, \"11\": 23, \"2\": 10, \"1\": 2}, \"12\": {\"12\": 92, \"3\": 23, \"10\": 19, \"1\": 17, \"7\": 1, \"2\": 4}, \"6\": {\"9\": 41, \"7\": 34, \"13\": 2, \"6\": 58, \"3\": 9, \"2\": 7, \"11\": 5}, \"2\": {\"3\": 12, \"7\": 19, \"2\": 48, \"1\": 19, \"10\": 34, \"6\": 9, \"12\": 9, \"9\": 6}, \"0\": {\"14\": 6, \"5\": 24, \"0\": 60, \"8\": 50, \"15\": 16}, \"13\": {\"13\": 62, \"11\": 49, \"4\": 11, \"7\": 4, \"9\": 21, \"6\": 7, \"3\": 1, \"14\": 1}}, \"38\": {\"14\": {\"11\": 46, \"13\": 3, \"2\": 35, \"14\": 67, \"10\": 5}, \"0\": {\"7\": 47, \"0\": 37, \"6\": 20, \"9\": 18, \"8\": 13, \"5\": 11, \"3\": 6, \"4\": 3, \"12\": 1}, \"13\": {\"15\": 29, \"13\": 92, \"14\": 9, \"2\": 21, \"10\": 2, \"11\": 1, \"8\": 2}, \"7\": {\"7\": 64, \"0\": 38, \"5\": 11, \"8\": 18, \"12\": 4, \"4\": 13, \"9\": 6, \"6\": 1, \"10\": 1}, \"9\": {\"0\": 10, \"8\": 22, \"7\": 10, \"5\": 31, \"6\": 34, \"9\": 41, \"15\": 6, \"1\": 2}, \"3\": {\"3\": 141, \"0\": 9, \"6\": 5, \"7\": 1}, \"11\": {\"14\": 67, \"2\": 15, \"10\": 24, \"11\": 49, \"13\": 1}, \"6\": {\"6\": 132, \"3\": 2, \"9\": 16, \"0\": 5, \"1\": 1}, \"8\": {\"5\": 39, \"12\": 9, \"7\": 20, \"9\": 25, \"0\": 13, \"8\": 42, \"10\": 3, \"15\": 4, \"4\": 1}, \"4\": {\"4\": 98, \"12\": 43, \"0\": 4, \"7\": 7, \"8\": 2, \"10\": 2}, \"5\": {\"0\": 11, \"1\": 21, \"9\": 18, \"5\": 25, \"15\": 29, \"8\": 24, \"7\": 20, \"12\": 2, \"13\": 6}, \"10\": {\"10\": 71, \"14\": 12, \"12\": 32, \"13\": 7, \"11\": 19, \"15\": 6, \"4\": 5, \"8\": 3, \"7\": 1}, \"1\": {\"1\": 135, \"15\": 8, \"9\": 3, \"5\": 6, \"13\": 4}, \"2\": {\"2\": 97, \"11\": 17, \"14\": 34, \"13\": 7, \"10\": 1}, \"15\": {\"1\": 34, \"13\": 26, \"15\": 50, \"5\": 23, \"14\": 4, \"9\": 6, \"10\": 3, \"12\": 1, \"11\": 2, \"2\": 3, \"7\": 1, \"8\": 3}, \"12\": {\"14\": 4, \"10\": 24, \"12\": 85, \"4\": 22, \"8\": 6, \"7\": 8, \"11\": 5, \"5\": 1, \"0\": 1}}, \"26\": {\"13\": {\"5\": 38, \"13\": 72, \"8\": 1, \"1\": 1, \"6\": 21, \"9\": 11, \"15\": 8, \"4\": 1, \"0\": 1, \"10\": 1, \"12\": 1}, \"2\": {\"7\": 23, \"15\": 12, \"2\": 55, \"3\": 33, \"1\": 6, \"5\": 7, \"9\": 11, \"8\": 8, \"4\": 1}, \"8\": {\"14\": 21, \"6\": 15, \"3\": 19, \"15\": 9, \"4\": 16, \"7\": 12, \"2\": 11, \"9\": 5, \"10\": 19, \"0\": 12, \"5\": 4, \"1\": 9, \"8\": 4}, \"9\": {\"15\": 16, \"10\": 5, \"9\": 40, \"5\": 34, \"13\": 12, \"7\": 6, \"3\": 6, \"2\": 10, \"0\": 4, \"8\": 6, \"4\": 10, \"1\": 5, \"6\": 2}, \"12\": {\"12\": 119, \"11\": 18, \"6\": 8, \"10\": 3, \"4\": 2, \"0\": 3, \"8\": 2, \"14\": 1}, \"4\": {\"14\": 24, \"0\": 11, \"1\": 17, \"2\": 5, \"13\": 20, \"15\": 5, \"3\": 6, \"7\": 9, \"8\": 9, \"10\": 14, \"6\": 15, \"12\": 3, \"5\": 3, \"4\": 12, \"9\": 3}, \"3\": {\"7\": 28, \"1\": 13, \"2\": 35, \"5\": 9, \"15\": 15, \"3\": 35, \"9\": 6, \"13\": 1, \"0\": 6, \"8\": 3, \"4\": 5}, \"15\": {\"14\": 5, \"3\": 11, \"15\": 19, \"5\": 10, \"7\": 14, \"10\": 20, \"8\": 8, \"2\": 13, \"0\": 11, \"1\": 6, \"9\": 20, \"12\": 2, \"6\": 9, \"4\": 6, \"13\": 2}, \"14\": {\"6\": 23, \"8\": 15, \"14\": 52, \"4\": 15, \"0\": 22, \"10\": 18, \"9\": 2, \"1\": 2, \"15\": 5, \"13\": 1, \"3\": 1}, \"10\": {\"6\": 20, \"15\": 15, \"10\": 18, \"13\": 6, \"8\": 17, \"14\": 24, \"0\": 20, \"9\": 3, \"4\": 14, \"1\": 8, \"3\": 4, \"7\": 4, \"12\": 1, \"2\": 1, \"5\": 1}, \"7\": {\"7\": 44, \"3\": 34, \"9\": 15, \"5\": 10, \"2\": 26, \"8\": 9, \"1\": 6, \"15\": 8, \"10\": 2, \"4\": 2}, \"11\": {\"11\": 128, \"12\": 28}, \"6\": {\"1\": 5, \"8\": 10, \"14\": 20, \"3\": 2, \"13\": 24, \"6\": 33, \"0\": 14, \"15\": 12, \"4\": 11, \"5\": 4, \"9\": 4, \"10\": 17}, \"1\": {\"4\": 13, \"6\": 5, \"1\": 37, \"15\": 17, \"10\": 9, \"0\": 20, \"8\": 13, \"14\": 13, \"9\": 4, \"7\": 12, \"2\": 1, \"3\": 10, \"13\": 2}, \"5\": {\"5\": 45, \"2\": 20, \"10\": 2, \"13\": 27, \"9\": 32, \"3\": 9, \"15\": 10, \"7\": 1, \"4\": 2, \"6\": 5, \"0\": 1, \"8\": 2}, \"0\": {\"0\": 23, \"13\": 4, \"9\": 4, \"1\": 30, \"6\": 12, \"4\": 17, \"10\": 16, \"8\": 13, \"12\": 4, \"14\": 13, \"3\": 4, \"7\": 4, \"15\": 11, \"2\": 1}}}, \"per_domain_accuracy\": {\"8\": {\"accuracy\": 0.7524038461538461, \"source?\": true}, \"50\": {\"accuracy\": 0.8597756410256411, \"source?\": true}, \"32\": {\"accuracy\": 0.7724358974358975, \"source?\": true}, \"14\": {\"accuracy\": 0.39903846153846156, \"source?\": false}, \"20\": {\"accuracy\": 0.250400641025641, \"source?\": false}, \"44\": {\"accuracy\": 0.4515224358974359, \"source?\": false}, \"38\": {\"accuracy\": 0.4911858974358974, \"source?\": false}, \"26\": {\"accuracy\": 0.2948717948717949, \"source?\": false}}}, \"history\": {\"epoch_indices\": [1, 2, 3, 4, 5], \"train_label_loss\": [1.3193655856607736, 0.2586650635376504, 0.10762503262059826, 0.08216880529002955, 0.061282756186486216], \"source_val_label_loss\": [0.5479997396469116, 0.2189847230911255, 0.15359069406986237, 0.12283656001091003, 0.11548397690057755], \"target_val_label_loss\": [2.191749334335327, 2.99137282371521, 3.332628011703491, 3.5525588989257812, 3.9903483390808105], \"source_val_acc_label\": [0.7948717948717948, 0.9245459401709402, 0.9496527777777778, 0.9596688034188035, 0.9627403846153846], \"target_val_acc_label\": [0.37740384615384615, 0.4077724358974359, 0.41746794871794873, 0.4014423076923077, 0.4077724358974359]}, \"dataset_metrics\": {\"source\": {\"train\": {\"n_unique_x\": 43632, \"n_unique_y\": 16, \"n_batch/episode\": 1629}, \"val\": {\"n_unique_x\": 9360, \"n_unique_y\": 16, \"n_batch/episode\": 234}, \"test\": {\"n_unique_x\": 9408, \"n_unique_y\": 16, \"n_batch/episode\": 234}}, \"target\": {\"train\": {\"n_unique_x\": 72719, \"n_unique_y\": 16, \"n_batch/episode\": 2715}, \"val\": {\"n_unique_x\": 15600, \"n_unique_y\": 16, \"n_batch/episode\": 390}, \"test\": {\"n_unique_x\": 15680, \"n_unique_y\": 16, \"n_batch/episode\": 390}}}}'"
      ]
     },
     "execution_count": 20,
     "metadata": {},
     "output_type": "execute_result"
    }
   ],
   "source": [
    "json.dumps(experiment)"
   ]
  }
 ],
 "metadata": {
  "celltoolbar": "Tags",
  "kernelspec": {
   "display_name": "Python 3 (ipykernel)",
   "language": "python",
   "name": "python3"
  },
  "language_info": {
   "codemirror_mode": {
    "name": "ipython",
    "version": 3
   },
   "file_extension": ".py",
   "mimetype": "text/x-python",
   "name": "python",
   "nbconvert_exporter": "python",
   "pygments_lexer": "ipython3",
   "version": "3.8.10"
  },
  "papermill": {
   "default_parameters": {},
   "duration": 281.47352,
   "end_time": "2022-03-06T01:21:08.555591",
   "environment_variables": {},
   "exception": null,
   "input_path": "/mnt/wd500GB/CSC500/csc500-main/csc500-notebooks/templates/ptn_template.ipynb",
   "output_path": "trial.ipynb",
   "parameters": {
    "parameters": {
     "BEST_MODEL_PATH": "./best_model.pth",
     "NUM_LOGS_PER_EPOCH": 10,
     "criteria_for_best": "target_loss",
     "dataset_seed": 1337,
     "device": "cuda",
     "domains_source": [
      8,
      32,
      50
     ],
     "domains_target": [
      14,
      20,
      26,
      38,
      44
     ],
     "episode_transforms_source": [],
     "episode_transforms_target": [],
     "experiment_name": "tuned_1_oracle.run1.framed",
     "labels_source": [
      "3123D52",
      "3123D65",
      "3123D79",
      "3123D80",
      "3123D54",
      "3123D70",
      "3123D7B",
      "3123D89",
      "3123D58",
      "3123D76",
      "3123D7D",
      "3123EFE",
      "3123D64",
      "3123D78",
      "3123D7E",
      "3124E4A"
     ],
     "labels_target": [
      "3123D52",
      "3123D65",
      "3123D79",
      "3123D80",
      "3123D54",
      "3123D70",
      "3123D7B",
      "3123D89",
      "3123D58",
      "3123D76",
      "3123D7D",
      "3123EFE",
      "3123D64",
      "3123D78",
      "3123D7E",
      "3124E4A"
     ],
     "lr": 0.001,
     "n_epoch": 50,
     "n_query": 2,
     "n_shot": 3,
     "n_way": 16,
     "num_examples_per_domain_per_label_source": 1300,
     "num_examples_per_domain_per_label_target": 1300,
     "patience": 3,
     "pickle_name": "oracle.Run1_framed_1300Examples_stratified_ds.2022A.pkl",
     "seed": 1337,
     "test_k_factor": 2,
     "torch_default_dtype": "torch.float32",
     "train_k_factor": 3,
     "val_k_factor": 2,
     "x_net": [
      {
       "class": "nnReshape",
       "kargs": {
        "shape": [
         -1,
         1,
         2,
         256
        ]
       }
      },
      {
       "class": "Conv2d",
       "kargs": {
        "bias": false,
        "in_channels": 1,
        "kernel_size": [
         1,
         7
        ],
        "out_channels": 256,
        "padding": [
         0,
         3
        ]
       }
      },
      {
       "class": "ReLU",
       "kargs": {
        "inplace": true
       }
      },
      {
       "class": "BatchNorm2d",
       "kargs": {
        "num_features": 256
       }
      },
      {
       "class": "Conv2d",
       "kargs": {
        "bias": true,
        "in_channels": 256,
        "kernel_size": [
         2,
         7
        ],
        "out_channels": 80,
        "padding": [
         0,
         3
        ]
       }
      },
      {
       "class": "ReLU",
       "kargs": {
        "inplace": true
       }
      },
      {
       "class": "BatchNorm2d",
       "kargs": {
        "num_features": 80
       }
      },
      {
       "class": "Flatten",
       "kargs": {}
      },
      {
       "class": "Linear",
       "kargs": {
        "in_features": 20480,
        "out_features": 256
       }
      },
      {
       "class": "ReLU",
       "kargs": {
        "inplace": true
       }
      },
      {
       "class": "BatchNorm1d",
       "kargs": {
        "num_features": 256
       }
      },
      {
       "class": "Linear",
       "kargs": {
        "in_features": 256,
        "out_features": 256
       }
      }
     ],
     "x_transforms_source": [
      "unit_power"
     ],
     "x_transforms_target": [
      "unit_power"
     ]
    }
   },
   "start_time": "2022-03-06T01:16:27.082071",
   "version": "2.3.4"
  }
 },
 "nbformat": 4,
 "nbformat_minor": 5
}