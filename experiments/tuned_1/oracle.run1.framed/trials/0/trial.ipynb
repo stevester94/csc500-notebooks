{
 "cells": [
  {
   "cell_type": "markdown",
   "id": "9fea5f46",
   "metadata": {
    "papermill": {
     "duration": 0.014422,
     "end_time": "2022-03-06T02:20:08.211853",
     "exception": false,
     "start_time": "2022-03-06T02:20:08.197431",
     "status": "completed"
    },
    "tags": []
   },
   "source": [
    "# PTN Template\n",
    "This notebook serves as a template for single dataset PTN experiments  \n",
    "It can be run on its own by setting STANDALONE to True (do a find for \"STANDALONE\" to see where)  \n",
    "But it is intended to be executed as part of a *papermill.py script. See any of the   \n",
    "experimentes with a papermill script to get started with that workflow.  "
   ]
  },
  {
   "cell_type": "code",
   "execution_count": 1,
   "id": "0902182a",
   "metadata": {
    "execution": {
     "iopub.execute_input": "2022-03-06T02:20:08.244088Z",
     "iopub.status.busy": "2022-03-06T02:20:08.243538Z",
     "iopub.status.idle": "2022-03-06T02:20:09.100617Z",
     "shell.execute_reply": "2022-03-06T02:20:09.101170Z"
    },
    "papermill": {
     "duration": 0.879986,
     "end_time": "2022-03-06T02:20:09.101443",
     "exception": false,
     "start_time": "2022-03-06T02:20:08.221457",
     "status": "completed"
    },
    "tags": []
   },
   "outputs": [],
   "source": [
    "%load_ext autoreload\n",
    "%autoreload 2\n",
    "%matplotlib inline\n",
    "\n",
    "    \n",
    "import os, json, sys, time, random\n",
    "import numpy as np\n",
    "import torch\n",
    "from torch.optim import Adam\n",
    "from  easydict import EasyDict\n",
    "import matplotlib.pyplot as plt\n",
    "\n",
    "from steves_models.steves_ptn import Steves_Prototypical_Network\n",
    "\n",
    "from steves_utils.lazy_iterable_wrapper import Lazy_Iterable_Wrapper\n",
    "from steves_utils.iterable_aggregator import Iterable_Aggregator\n",
    "from steves_utils.ptn_train_eval_test_jig import  PTN_Train_Eval_Test_Jig\n",
    "from steves_utils.torch_sequential_builder import build_sequential\n",
    "from steves_utils.torch_utils import get_dataset_metrics, ptn_confusion_by_domain_over_dataloader\n",
    "from steves_utils.utils_v2 import (per_domain_accuracy_from_confusion, get_datasets_base_path)\n",
    "from steves_utils.PTN.utils import independent_accuracy_assesment\n",
    "\n",
    "from steves_utils.stratified_dataset.episodic_accessor import Episodic_Accessor_Factory\n",
    "\n",
    "from steves_utils.ptn_do_report import (\n",
    "    get_loss_curve,\n",
    "    get_results_table,\n",
    "    get_parameters_table,\n",
    "    get_domain_accuracies,\n",
    ")\n",
    "\n",
    "from steves_utils.transforms import get_chained_transform"
   ]
  },
  {
   "cell_type": "markdown",
   "id": "41c840b4",
   "metadata": {
    "papermill": {
     "duration": 0.009066,
     "end_time": "2022-03-06T02:20:09.123117",
     "exception": false,
     "start_time": "2022-03-06T02:20:09.114051",
     "status": "completed"
    },
    "tags": []
   },
   "source": [
    "# Required Parameters\n",
    "These are allowed parameters, not defaults\n",
    "Each of these values need to be present in the injected parameters (the notebook will raise an exception if they are not present)\n",
    "\n",
    "Papermill uses the cell tag \"parameters\" to inject the real parameters below this cell.\n",
    "Enable tags to see what I mean"
   ]
  },
  {
   "cell_type": "code",
   "execution_count": 2,
   "id": "fd44eb83",
   "metadata": {
    "execution": {
     "iopub.execute_input": "2022-03-06T02:20:09.145258Z",
     "iopub.status.busy": "2022-03-06T02:20:09.144827Z",
     "iopub.status.idle": "2022-03-06T02:20:09.159024Z",
     "shell.execute_reply": "2022-03-06T02:20:09.158614Z"
    },
    "papermill": {
     "duration": 0.026869,
     "end_time": "2022-03-06T02:20:09.159121",
     "exception": false,
     "start_time": "2022-03-06T02:20:09.132252",
     "status": "completed"
    },
    "tags": []
   },
   "outputs": [],
   "source": [
    "required_parameters = {\n",
    "    \"experiment_name\",\n",
    "    \"lr\",\n",
    "    \"device\",\n",
    "    \"seed\",\n",
    "    \"dataset_seed\",\n",
    "    \"labels_source\",\n",
    "    \"labels_target\",\n",
    "    \"domains_source\",\n",
    "    \"domains_target\",\n",
    "    \"num_examples_per_domain_per_label_source\",\n",
    "    \"num_examples_per_domain_per_label_target\",\n",
    "    \"n_shot\",\n",
    "    \"n_way\",\n",
    "    \"n_query\",\n",
    "    \"train_k_factor\",\n",
    "    \"val_k_factor\",\n",
    "    \"test_k_factor\",\n",
    "    \"n_epoch\",\n",
    "    \"patience\",\n",
    "    \"criteria_for_best\",\n",
    "    \"x_transforms_source\",\n",
    "    \"x_transforms_target\",\n",
    "    \"episode_transforms_source\",\n",
    "    \"episode_transforms_target\",\n",
    "    \"pickle_name\",\n",
    "    \"x_net\",\n",
    "    \"NUM_LOGS_PER_EPOCH\",\n",
    "    \"BEST_MODEL_PATH\",\n",
    "    \"torch_default_dtype\"\n",
    "}"
   ]
  },
  {
   "cell_type": "code",
   "execution_count": 3,
   "id": "fa3f0049",
   "metadata": {
    "execution": {
     "iopub.execute_input": "2022-03-06T02:20:09.187016Z",
     "iopub.status.busy": "2022-03-06T02:20:09.186684Z",
     "iopub.status.idle": "2022-03-06T02:20:09.197147Z",
     "shell.execute_reply": "2022-03-06T02:20:09.196793Z"
    },
    "papermill": {
     "duration": 0.025423,
     "end_time": "2022-03-06T02:20:09.197218",
     "exception": false,
     "start_time": "2022-03-06T02:20:09.171795",
     "status": "completed"
    },
    "tags": [
     "parameters"
    ]
   },
   "outputs": [],
   "source": [
    "\n",
    "\n",
    "standalone_parameters = {}\n",
    "standalone_parameters[\"experiment_name\"] = \"STANDALONE PTN\"\n",
    "standalone_parameters[\"lr\"] = 0.0001\n",
    "standalone_parameters[\"device\"] = \"cuda\"\n",
    "\n",
    "standalone_parameters[\"seed\"] = 1337\n",
    "standalone_parameters[\"dataset_seed\"] = 1337\n",
    "\n",
    "\n",
    "standalone_parameters[\"num_examples_per_domain_per_label_source\"]=100\n",
    "standalone_parameters[\"num_examples_per_domain_per_label_target\"]=100\n",
    "\n",
    "standalone_parameters[\"n_shot\"] = 3\n",
    "standalone_parameters[\"n_query\"]  = 2\n",
    "standalone_parameters[\"train_k_factor\"] = 1\n",
    "standalone_parameters[\"val_k_factor\"] = 2\n",
    "standalone_parameters[\"test_k_factor\"] = 2\n",
    "\n",
    "\n",
    "standalone_parameters[\"n_epoch\"] = 100\n",
    "\n",
    "standalone_parameters[\"patience\"] = 10\n",
    "standalone_parameters[\"criteria_for_best\"] = \"target_accuracy\"\n",
    "\n",
    "standalone_parameters[\"x_transforms_source\"] = [\"unit_power\"]\n",
    "standalone_parameters[\"x_transforms_target\"] = [\"unit_power\"]\n",
    "standalone_parameters[\"episode_transforms_source\"] = []\n",
    "standalone_parameters[\"episode_transforms_target\"] = []\n",
    "\n",
    "standalone_parameters[\"torch_default_dtype\"] = \"torch.float32\" \n",
    "\n",
    "\n",
    "\n",
    "standalone_parameters[\"x_net\"] =     [\n",
    "    {\"class\": \"nnReshape\", \"kargs\": {\"shape\":[-1, 1, 2, 256]}},\n",
    "    {\"class\": \"Conv2d\", \"kargs\": { \"in_channels\":1, \"out_channels\":256, \"kernel_size\":(1,7), \"bias\":False, \"padding\":(0,3), },},\n",
    "    {\"class\": \"ReLU\", \"kargs\": {\"inplace\": True}},\n",
    "    {\"class\": \"BatchNorm2d\", \"kargs\": {\"num_features\":256}},\n",
    "\n",
    "    {\"class\": \"Conv2d\", \"kargs\": { \"in_channels\":256, \"out_channels\":80, \"kernel_size\":(2,7), \"bias\":True, \"padding\":(0,3), },},\n",
    "    {\"class\": \"ReLU\", \"kargs\": {\"inplace\": True}},\n",
    "    {\"class\": \"BatchNorm2d\", \"kargs\": {\"num_features\":80}},\n",
    "    {\"class\": \"Flatten\", \"kargs\": {}},\n",
    "\n",
    "    {\"class\": \"Linear\", \"kargs\": {\"in_features\": 80*256, \"out_features\": 256}}, # 80 units per IQ pair\n",
    "    {\"class\": \"ReLU\", \"kargs\": {\"inplace\": True}},\n",
    "    {\"class\": \"BatchNorm1d\", \"kargs\": {\"num_features\":256}},\n",
    "\n",
    "    {\"class\": \"Linear\", \"kargs\": {\"in_features\": 256, \"out_features\": 256}},\n",
    "]\n",
    "\n",
    "# Parameters relevant to results\n",
    "# These parameters will basically never need to change\n",
    "standalone_parameters[\"NUM_LOGS_PER_EPOCH\"] = 10\n",
    "standalone_parameters[\"BEST_MODEL_PATH\"] = \"./best_model.pth\"\n",
    "\n",
    "# uncomment for CORES dataset\n",
    "from steves_utils.CORES.utils import (\n",
    "    ALL_NODES,\n",
    "    ALL_NODES_MINIMUM_1000_EXAMPLES,\n",
    "    ALL_DAYS\n",
    ")\n",
    "\n",
    "\n",
    "standalone_parameters[\"labels_source\"] = ALL_NODES\n",
    "standalone_parameters[\"labels_target\"] = ALL_NODES\n",
    "\n",
    "standalone_parameters[\"domains_source\"] = [1]\n",
    "standalone_parameters[\"domains_target\"] = [2,3,4,5]\n",
    "\n",
    "standalone_parameters[\"pickle_name\"] = \"cores.stratified_ds.2022A.pkl\"\n",
    "\n",
    "\n",
    "# Uncomment these for ORACLE dataset\n",
    "# from steves_utils.ORACLE.utils_v2 import (\n",
    "#     ALL_DISTANCES_FEET,\n",
    "#     ALL_RUNS,\n",
    "#     ALL_SERIAL_NUMBERS,\n",
    "# )\n",
    "# standalone_parameters[\"labels_source\"] = ALL_SERIAL_NUMBERS\n",
    "# standalone_parameters[\"labels_target\"] = ALL_SERIAL_NUMBERS\n",
    "# standalone_parameters[\"domains_source\"] = [8,20, 38,50]\n",
    "# standalone_parameters[\"domains_target\"] = [14, 26, 32, 44, 56]\n",
    "# standalone_parameters[\"pickle_name\"] = \"oracle.frame_indexed.stratified_ds.2022A.pkl\"\n",
    "# standalone_parameters[\"num_examples_per_domain_per_label_source\"]=1000\n",
    "# standalone_parameters[\"num_examples_per_domain_per_label_target\"]=1000\n",
    "\n",
    "# Uncomment these for Metahan dataset\n",
    "# standalone_parameters[\"labels_source\"] = list(range(19))\n",
    "# standalone_parameters[\"labels_target\"] = list(range(19))\n",
    "# standalone_parameters[\"domains_source\"] = [0]\n",
    "# standalone_parameters[\"domains_target\"] = [1]\n",
    "# standalone_parameters[\"pickle_name\"] = \"metehan.stratified_ds.2022A.pkl\"\n",
    "# standalone_parameters[\"n_way\"]  = len(standalone_parameters[\"labels_source\"])\n",
    "# standalone_parameters[\"num_examples_per_domain_per_label_source\"]=200\n",
    "# standalone_parameters[\"num_examples_per_domain_per_label_target\"]=100\n",
    "\n",
    "\n",
    "standalone_parameters[\"n_way\"]  = len(standalone_parameters[\"labels_source\"])"
   ]
  },
  {
   "cell_type": "code",
   "execution_count": 4,
   "id": "3744cdfa",
   "metadata": {
    "execution": {
     "iopub.execute_input": "2022-03-06T02:20:09.224732Z",
     "iopub.status.busy": "2022-03-06T02:20:09.224445Z",
     "iopub.status.idle": "2022-03-06T02:20:09.234327Z",
     "shell.execute_reply": "2022-03-06T02:20:09.233925Z"
    },
    "papermill": {
     "duration": 0.024061,
     "end_time": "2022-03-06T02:20:09.234418",
     "exception": false,
     "start_time": "2022-03-06T02:20:09.210357",
     "status": "completed"
    },
    "tags": [
     "injected-parameters"
    ]
   },
   "outputs": [],
   "source": [
    "# Parameters\n",
    "parameters = {\n",
    "    \"experiment_name\": \"tuned_1_oracle.run1.framed\",\n",
    "    \"device\": \"cuda\",\n",
    "    \"lr\": 0.001,\n",
    "    \"seed\": 1337,\n",
    "    \"dataset_seed\": 1337,\n",
    "    \"labels_source\": [\n",
    "        \"3123D52\",\n",
    "        \"3123D65\",\n",
    "        \"3123D79\",\n",
    "        \"3123D80\",\n",
    "        \"3123D54\",\n",
    "        \"3123D70\",\n",
    "        \"3123D7B\",\n",
    "        \"3123D89\",\n",
    "        \"3123D58\",\n",
    "        \"3123D76\",\n",
    "        \"3123D7D\",\n",
    "        \"3123EFE\",\n",
    "        \"3123D64\",\n",
    "        \"3123D78\",\n",
    "        \"3123D7E\",\n",
    "        \"3124E4A\",\n",
    "    ],\n",
    "    \"labels_target\": [\n",
    "        \"3123D52\",\n",
    "        \"3123D65\",\n",
    "        \"3123D79\",\n",
    "        \"3123D80\",\n",
    "        \"3123D54\",\n",
    "        \"3123D70\",\n",
    "        \"3123D7B\",\n",
    "        \"3123D89\",\n",
    "        \"3123D58\",\n",
    "        \"3123D76\",\n",
    "        \"3123D7D\",\n",
    "        \"3123EFE\",\n",
    "        \"3123D64\",\n",
    "        \"3123D78\",\n",
    "        \"3123D7E\",\n",
    "        \"3124E4A\",\n",
    "    ],\n",
    "    \"x_transforms_source\": [\"unit_mag\"],\n",
    "    \"x_transforms_target\": [\"unit_mag\"],\n",
    "    \"episode_transforms_source\": [],\n",
    "    \"episode_transforms_target\": [],\n",
    "    \"domains_source\": [8, 32, 50],\n",
    "    \"domains_target\": [14, 20, 26, 38, 44],\n",
    "    \"num_examples_per_domain_per_label_source\": 2000,\n",
    "    \"num_examples_per_domain_per_label_target\": 2000,\n",
    "    \"n_shot\": 3,\n",
    "    \"n_way\": 16,\n",
    "    \"n_query\": 2,\n",
    "    \"train_k_factor\": 3,\n",
    "    \"val_k_factor\": 2,\n",
    "    \"test_k_factor\": 2,\n",
    "    \"torch_default_dtype\": \"torch.float32\",\n",
    "    \"n_epoch\": 50,\n",
    "    \"patience\": 3,\n",
    "    \"criteria_for_best\": \"target_loss\",\n",
    "    \"x_net\": [\n",
    "        {\"class\": \"nnReshape\", \"kargs\": {\"shape\": [-1, 1, 2, 256]}},\n",
    "        {\n",
    "            \"class\": \"Conv2d\",\n",
    "            \"kargs\": {\n",
    "                \"in_channels\": 1,\n",
    "                \"out_channels\": 256,\n",
    "                \"kernel_size\": [1, 7],\n",
    "                \"bias\": False,\n",
    "                \"padding\": [0, 3],\n",
    "            },\n",
    "        },\n",
    "        {\"class\": \"ReLU\", \"kargs\": {\"inplace\": True}},\n",
    "        {\"class\": \"BatchNorm2d\", \"kargs\": {\"num_features\": 256}},\n",
    "        {\n",
    "            \"class\": \"Conv2d\",\n",
    "            \"kargs\": {\n",
    "                \"in_channels\": 256,\n",
    "                \"out_channels\": 80,\n",
    "                \"kernel_size\": [2, 7],\n",
    "                \"bias\": True,\n",
    "                \"padding\": [0, 3],\n",
    "            },\n",
    "        },\n",
    "        {\"class\": \"ReLU\", \"kargs\": {\"inplace\": True}},\n",
    "        {\"class\": \"BatchNorm2d\", \"kargs\": {\"num_features\": 80}},\n",
    "        {\"class\": \"Flatten\", \"kargs\": {}},\n",
    "        {\"class\": \"Linear\", \"kargs\": {\"in_features\": 20480, \"out_features\": 256}},\n",
    "        {\"class\": \"ReLU\", \"kargs\": {\"inplace\": True}},\n",
    "        {\"class\": \"BatchNorm1d\", \"kargs\": {\"num_features\": 256}},\n",
    "        {\"class\": \"Linear\", \"kargs\": {\"in_features\": 256, \"out_features\": 256}},\n",
    "    ],\n",
    "    \"NUM_LOGS_PER_EPOCH\": 10,\n",
    "    \"BEST_MODEL_PATH\": \"./best_model.pth\",\n",
    "    \"pickle_name\": \"oracle.Run1_framed_2000Examples_stratified_ds.2022A.pkl\",\n",
    "}\n"
   ]
  },
  {
   "cell_type": "code",
   "execution_count": 5,
   "id": "8fa1cc33",
   "metadata": {
    "execution": {
     "iopub.execute_input": "2022-03-06T02:20:09.266363Z",
     "iopub.status.busy": "2022-03-06T02:20:09.265997Z",
     "iopub.status.idle": "2022-03-06T02:20:09.276249Z",
     "shell.execute_reply": "2022-03-06T02:20:09.275793Z"
    },
    "papermill": {
     "duration": 0.028586,
     "end_time": "2022-03-06T02:20:09.276340",
     "exception": false,
     "start_time": "2022-03-06T02:20:09.247754",
     "status": "completed"
    },
    "tags": []
   },
   "outputs": [],
   "source": [
    "# Set this to True if you want to run this template directly\n",
    "STANDALONE = False\n",
    "if STANDALONE:\n",
    "    print(\"parameters not injected, running with standalone_parameters\")\n",
    "    parameters = standalone_parameters\n",
    "\n",
    "if not 'parameters' in locals() and not 'parameters' in globals():\n",
    "    raise Exception(\"Parameter injection failed\")\n",
    "\n",
    "#Use an easy dict for all the parameters\n",
    "p = EasyDict(parameters)\n",
    "\n",
    "supplied_keys = set(p.keys())\n",
    "\n",
    "if  supplied_keys != required_parameters:\n",
    "    print(\"Parameters are incorrect\")\n",
    "    if len(supplied_keys - required_parameters)>0: print(\"Shouldn't have:\", str(supplied_keys - required_parameters))\n",
    "    if len(required_parameters - supplied_keys)>0: print(\"Need to have:\", str(required_parameters - supplied_keys))\n",
    "    raise RuntimeError(\"Parameters are incorrect\")\n",
    "\n"
   ]
  },
  {
   "cell_type": "code",
   "execution_count": 6,
   "id": "3a028d58",
   "metadata": {
    "execution": {
     "iopub.execute_input": "2022-03-06T02:20:09.299463Z",
     "iopub.status.busy": "2022-03-06T02:20:09.299209Z",
     "iopub.status.idle": "2022-03-06T02:20:09.309170Z",
     "shell.execute_reply": "2022-03-06T02:20:09.308756Z"
    },
    "papermill": {
     "duration": 0.02072,
     "end_time": "2022-03-06T02:20:09.309247",
     "exception": false,
     "start_time": "2022-03-06T02:20:09.288527",
     "status": "completed"
    },
    "tags": []
   },
   "outputs": [],
   "source": [
    "###################################\n",
    "# Set the RNGs and make it all deterministic\n",
    "###################################\n",
    "np.random.seed(p.seed)\n",
    "random.seed(p.seed)\n",
    "torch.manual_seed(p.seed)\n",
    "\n",
    "torch.use_deterministic_algorithms(True) "
   ]
  },
  {
   "cell_type": "code",
   "execution_count": 7,
   "id": "b691acf6",
   "metadata": {
    "execution": {
     "iopub.execute_input": "2022-03-06T02:20:09.334474Z",
     "iopub.status.busy": "2022-03-06T02:20:09.334211Z",
     "iopub.status.idle": "2022-03-06T02:20:09.342796Z",
     "shell.execute_reply": "2022-03-06T02:20:09.342496Z"
    },
    "papermill": {
     "duration": 0.019934,
     "end_time": "2022-03-06T02:20:09.342850",
     "exception": false,
     "start_time": "2022-03-06T02:20:09.322916",
     "status": "completed"
    },
    "tags": []
   },
   "outputs": [],
   "source": [
    "###########################################\n",
    "# The stratified datasets honor this\n",
    "###########################################\n",
    "torch.set_default_dtype(eval(p.torch_default_dtype))"
   ]
  },
  {
   "cell_type": "code",
   "execution_count": 8,
   "id": "b5fba671",
   "metadata": {
    "execution": {
     "iopub.execute_input": "2022-03-06T02:20:09.366832Z",
     "iopub.status.busy": "2022-03-06T02:20:09.366578Z",
     "iopub.status.idle": "2022-03-06T02:20:09.400528Z",
     "shell.execute_reply": "2022-03-06T02:20:09.400070Z"
    },
    "papermill": {
     "duration": 0.044783,
     "end_time": "2022-03-06T02:20:09.400619",
     "exception": false,
     "start_time": "2022-03-06T02:20:09.355836",
     "status": "completed"
    },
    "tags": []
   },
   "outputs": [],
   "source": [
    "###################################\n",
    "# Build the network(s)\n",
    "# Note: It's critical to do this AFTER setting the RNG\n",
    "# (This is due to the randomized initial weights)\n",
    "###################################\n",
    "x_net = build_sequential(p.x_net)"
   ]
  },
  {
   "cell_type": "code",
   "execution_count": 9,
   "id": "5d7e61cc",
   "metadata": {
    "execution": {
     "iopub.execute_input": "2022-03-06T02:20:09.426531Z",
     "iopub.status.busy": "2022-03-06T02:20:09.426282Z",
     "iopub.status.idle": "2022-03-06T02:20:09.435495Z",
     "shell.execute_reply": "2022-03-06T02:20:09.435141Z"
    },
    "papermill": {
     "duration": 0.020526,
     "end_time": "2022-03-06T02:20:09.435565",
     "exception": false,
     "start_time": "2022-03-06T02:20:09.415039",
     "status": "completed"
    },
    "tags": []
   },
   "outputs": [],
   "source": [
    "start_time_secs = time.time()"
   ]
  },
  {
   "cell_type": "code",
   "execution_count": 10,
   "id": "fd5442bc",
   "metadata": {
    "execution": {
     "iopub.execute_input": "2022-03-06T02:20:09.464641Z",
     "iopub.status.busy": "2022-03-06T02:20:09.464375Z",
     "iopub.status.idle": "2022-03-06T02:20:27.148823Z",
     "shell.execute_reply": "2022-03-06T02:20:27.148327Z"
    },
    "papermill": {
     "duration": 17.699522,
     "end_time": "2022-03-06T02:20:27.148942",
     "exception": false,
     "start_time": "2022-03-06T02:20:09.449420",
     "status": "completed"
    },
    "tags": []
   },
   "outputs": [],
   "source": [
    "###################################\n",
    "# Build the dataset\n",
    "###################################\n",
    "\n",
    "if p.x_transforms_source == []: x_transform_source = None\n",
    "else: x_transform_source = get_chained_transform(p.x_transforms_source) \n",
    "\n",
    "if p.x_transforms_target == []: x_transform_target = None\n",
    "else: x_transform_target = get_chained_transform(p.x_transforms_target)\n",
    "\n",
    "if p.episode_transforms_source == []: episode_transform_source = None\n",
    "else: raise Exception(\"episode_transform_source not implemented\")\n",
    "\n",
    "if p.episode_transforms_target == []: episode_transform_target = None\n",
    "else: raise Exception(\"episode_transform_target not implemented\")\n",
    "\n",
    "\n",
    "eaf_source = Episodic_Accessor_Factory(\n",
    "    labels=p.labels_source,\n",
    "    domains=p.domains_source,\n",
    "    num_examples_per_domain_per_label=p.num_examples_per_domain_per_label_source,\n",
    "    iterator_seed=p.seed,\n",
    "    dataset_seed=p.dataset_seed,\n",
    "    n_shot=p.n_shot,\n",
    "    n_way=p.n_way,\n",
    "    n_query=p.n_query,\n",
    "    train_val_test_k_factors=(p.train_k_factor,p.val_k_factor,p.test_k_factor),\n",
    "    pickle_path=os.path.join(get_datasets_base_path(), p.pickle_name),\n",
    "    x_transform_func=x_transform_source,\n",
    "    example_transform_func=episode_transform_source,\n",
    "    \n",
    ")\n",
    "train_original_source, val_original_source, test_original_source = eaf_source.get_train(), eaf_source.get_val(), eaf_source.get_test()\n",
    "\n",
    "\n",
    "eaf_target = Episodic_Accessor_Factory(\n",
    "    labels=p.labels_target,\n",
    "    domains=p.domains_target,\n",
    "    num_examples_per_domain_per_label=p.num_examples_per_domain_per_label_target,\n",
    "    iterator_seed=p.seed,\n",
    "    dataset_seed=p.dataset_seed,\n",
    "    n_shot=p.n_shot,\n",
    "    n_way=p.n_way,\n",
    "    n_query=p.n_query,\n",
    "    train_val_test_k_factors=(p.train_k_factor,p.val_k_factor,p.test_k_factor),\n",
    "    pickle_path=os.path.join(get_datasets_base_path(), p.pickle_name),\n",
    "    x_transform_func=x_transform_target,\n",
    "    example_transform_func=episode_transform_target,\n",
    ")\n",
    "train_original_target, val_original_target, test_original_target = eaf_target.get_train(), eaf_target.get_val(), eaf_target.get_test()\n",
    "\n",
    "\n",
    "transform_lambda = lambda ex: ex[1] # Original is (<domain>, <episode>) so we strip down to episode only\n",
    "\n",
    "train_processed_source = Lazy_Iterable_Wrapper(train_original_source, transform_lambda)\n",
    "val_processed_source   = Lazy_Iterable_Wrapper(val_original_source, transform_lambda)\n",
    "test_processed_source  = Lazy_Iterable_Wrapper(test_original_source, transform_lambda)\n",
    "\n",
    "train_processed_target = Lazy_Iterable_Wrapper(train_original_target, transform_lambda)\n",
    "val_processed_target   = Lazy_Iterable_Wrapper(val_original_target, transform_lambda)\n",
    "test_processed_target  = Lazy_Iterable_Wrapper(test_original_target, transform_lambda)\n",
    "\n",
    "datasets = EasyDict({\n",
    "    \"source\": {\n",
    "        \"original\": {\"train\":train_original_source, \"val\":val_original_source, \"test\":test_original_source},\n",
    "        \"processed\": {\"train\":train_processed_source, \"val\":val_processed_source, \"test\":test_processed_source}\n",
    "    },\n",
    "    \"target\": {\n",
    "        \"original\": {\"train\":train_original_target, \"val\":val_original_target, \"test\":test_original_target},\n",
    "        \"processed\": {\"train\":train_processed_target, \"val\":val_processed_target, \"test\":test_processed_target}\n",
    "    },\n",
    "})"
   ]
  },
  {
   "cell_type": "code",
   "execution_count": 11,
   "id": "296189d9",
   "metadata": {
    "execution": {
     "iopub.execute_input": "2022-03-06T02:20:27.178209Z",
     "iopub.status.busy": "2022-03-06T02:20:27.177871Z",
     "iopub.status.idle": "2022-03-06T02:20:28.898355Z",
     "shell.execute_reply": "2022-03-06T02:20:28.897903Z"
    },
    "papermill": {
     "duration": 1.734098,
     "end_time": "2022-03-06T02:20:28.898456",
     "exception": false,
     "start_time": "2022-03-06T02:20:27.164358",
     "status": "completed"
    },
    "tags": []
   },
   "outputs": [
    {
     "name": "stdout",
     "output_type": "stream",
     "text": [
      "Visually inspect these to see if they line up with expected values given the transforms\n",
      "x_transforms_source ['unit_mag']\n",
      "x_transforms_target ['unit_mag']\n",
      "Average magnitude, source: 1.0\n",
      "Average power, source: 1.0557983\n"
     ]
    },
    {
     "name": "stdout",
     "output_type": "stream",
     "text": [
      "Average magnitude, target: 1.0\n",
      "Average power, target: 1.0664101\n"
     ]
    }
   ],
   "source": [
    "# Some quick unit tests on the data\n",
    "from steves_utils.transforms import get_average_power, get_average_magnitude\n",
    "\n",
    "q_x, q_y, s_x, s_y, truth = next(iter(train_processed_source))\n",
    "\n",
    "assert q_x.dtype == eval(p.torch_default_dtype)\n",
    "assert s_x.dtype == eval(p.torch_default_dtype)\n",
    "\n",
    "print(\"Visually inspect these to see if they line up with expected values given the transforms\")\n",
    "print('x_transforms_source', p.x_transforms_source)\n",
    "print('x_transforms_target', p.x_transforms_target)\n",
    "print(\"Average magnitude, source:\", get_average_magnitude(q_x[0].numpy()))\n",
    "print(\"Average power, source:\", get_average_power(q_x[0].numpy()))\n",
    "\n",
    "q_x, q_y, s_x, s_y, truth = next(iter(train_processed_target))\n",
    "print(\"Average magnitude, target:\", get_average_magnitude(q_x[0].numpy()))\n",
    "print(\"Average power, target:\", get_average_power(q_x[0].numpy()))\n"
   ]
  },
  {
   "cell_type": "code",
   "execution_count": 12,
   "id": "bbdacba1",
   "metadata": {
    "execution": {
     "iopub.execute_input": "2022-03-06T02:20:28.929776Z",
     "iopub.status.busy": "2022-03-06T02:20:28.929456Z",
     "iopub.status.idle": "2022-03-06T02:20:28.996805Z",
     "shell.execute_reply": "2022-03-06T02:20:28.996548Z"
    },
    "papermill": {
     "duration": 0.08213,
     "end_time": "2022-03-06T02:20:28.996863",
     "exception": false,
     "start_time": "2022-03-06T02:20:28.914733",
     "status": "completed"
    },
    "tags": []
   },
   "outputs": [
    {
     "name": "stdout",
     "output_type": "stream",
     "text": [
      "(2, 256)\n"
     ]
    }
   ],
   "source": [
    "###################################\n",
    "# Build the model\n",
    "###################################\n",
    "model = Steves_Prototypical_Network(x_net, device=p.device, x_shape=(2,256))\n",
    "optimizer = Adam(params=model.parameters(), lr=p.lr)"
   ]
  },
  {
   "cell_type": "code",
   "execution_count": 13,
   "id": "22b39ac5",
   "metadata": {
    "execution": {
     "iopub.execute_input": "2022-03-06T02:20:29.022132Z",
     "iopub.status.busy": "2022-03-06T02:20:29.021878Z",
     "iopub.status.idle": "2022-03-06T02:27:29.323188Z",
     "shell.execute_reply": "2022-03-06T02:27:29.322923Z"
    },
    "papermill": {
     "duration": 420.3137,
     "end_time": "2022-03-06T02:27:29.323255",
     "exception": false,
     "start_time": "2022-03-06T02:20:29.009555",
     "status": "completed"
    },
    "tags": []
   },
   "outputs": [
    {
     "name": "stdout",
     "output_type": "stream",
     "text": [
      "epoch: 1, [batch: 1 / 2520], examples_per_second: 128.8317, train_label_loss: 2.8901, \n"
     ]
    },
    {
     "name": "stdout",
     "output_type": "stream",
     "text": [
      "epoch: 1, [batch: 252 / 2520], examples_per_second: 3263.0676, train_label_loss: 1.5748, \n"
     ]
    },
    {
     "name": "stdout",
     "output_type": "stream",
     "text": [
      "epoch: 1, [batch: 504 / 2520], examples_per_second: 3261.2401, train_label_loss: 1.1444, \n"
     ]
    },
    {
     "name": "stdout",
     "output_type": "stream",
     "text": [
      "epoch: 1, [batch: 756 / 2520], examples_per_second: 3246.0907, train_label_loss: 0.6783, \n"
     ]
    },
    {
     "name": "stdout",
     "output_type": "stream",
     "text": [
      "epoch: 1, [batch: 1008 / 2520], examples_per_second: 3264.7947, train_label_loss: 0.7253, \n"
     ]
    },
    {
     "name": "stdout",
     "output_type": "stream",
     "text": [
      "epoch: 1, [batch: 1260 / 2520], examples_per_second: 3264.4905, train_label_loss: 0.8519, \n"
     ]
    },
    {
     "name": "stdout",
     "output_type": "stream",
     "text": [
      "epoch: 1, [batch: 1512 / 2520], examples_per_second: 3120.4923, train_label_loss: 0.6310, \n"
     ]
    },
    {
     "name": "stdout",
     "output_type": "stream",
     "text": [
      "epoch: 1, [batch: 1764 / 2520], examples_per_second: 3128.7924, train_label_loss: 0.6187, \n"
     ]
    },
    {
     "name": "stdout",
     "output_type": "stream",
     "text": [
      "epoch: 1, [batch: 2016 / 2520], examples_per_second: 3197.0897, train_label_loss: 0.6459, \n"
     ]
    },
    {
     "name": "stdout",
     "output_type": "stream",
     "text": [
      "epoch: 1, [batch: 2268 / 2520], examples_per_second: 3208.8934, train_label_loss: 0.5489, \n"
     ]
    },
    {
     "name": "stdout",
     "output_type": "stream",
     "text": [
      "=============================================================\n",
      "epoch: 1, source_val_acc_label: 0.6664, target_val_acc_label: 0.5303, source_val_label_loss: 480.6220, target_val_label_loss: 359.0725, \n",
      "=============================================================\n"
     ]
    },
    {
     "name": "stdout",
     "output_type": "stream",
     "text": [
      "New best\n"
     ]
    },
    {
     "name": "stdout",
     "output_type": "stream",
     "text": [
      "epoch: 2, [batch: 1 / 2520], examples_per_second: 11.0165, train_label_loss: 23.9107, \n"
     ]
    },
    {
     "name": "stdout",
     "output_type": "stream",
     "text": [
      "epoch: 2, [batch: 252 / 2520], examples_per_second: 3244.0484, train_label_loss: 0.9575, \n"
     ]
    },
    {
     "name": "stdout",
     "output_type": "stream",
     "text": [
      "epoch: 2, [batch: 504 / 2520], examples_per_second: 3215.1111, train_label_loss: 0.7605, \n"
     ]
    },
    {
     "name": "stdout",
     "output_type": "stream",
     "text": [
      "epoch: 2, [batch: 756 / 2520], examples_per_second: 3079.0867, train_label_loss: 0.6278, \n"
     ]
    },
    {
     "name": "stdout",
     "output_type": "stream",
     "text": [
      "epoch: 2, [batch: 1008 / 2520], examples_per_second: 3231.9037, train_label_loss: 1.1018, \n"
     ]
    },
    {
     "name": "stdout",
     "output_type": "stream",
     "text": [
      "epoch: 2, [batch: 1260 / 2520], examples_per_second: 3228.7300, train_label_loss: 0.8651, \n"
     ]
    },
    {
     "name": "stdout",
     "output_type": "stream",
     "text": [
      "epoch: 2, [batch: 1512 / 2520], examples_per_second: 3219.0041, train_label_loss: 0.8137, \n"
     ]
    },
    {
     "name": "stdout",
     "output_type": "stream",
     "text": [
      "epoch: 2, [batch: 1764 / 2520], examples_per_second: 3208.8271, train_label_loss: 0.8579, \n"
     ]
    },
    {
     "name": "stdout",
     "output_type": "stream",
     "text": [
      "epoch: 2, [batch: 2016 / 2520], examples_per_second: 3196.4726, train_label_loss: 0.9604, \n"
     ]
    },
    {
     "name": "stdout",
     "output_type": "stream",
     "text": [
      "epoch: 2, [batch: 2268 / 2520], examples_per_second: 3306.9852, train_label_loss: 0.6042, \n"
     ]
    },
    {
     "name": "stdout",
     "output_type": "stream",
     "text": [
      "=============================================================\n",
      "epoch: 2, source_val_acc_label: 0.7267, target_val_acc_label: 0.6749, source_val_label_loss: 0.7440, target_val_label_loss: 5.5244, \n",
      "=============================================================\n"
     ]
    },
    {
     "name": "stdout",
     "output_type": "stream",
     "text": [
      "New best\n"
     ]
    },
    {
     "name": "stdout",
     "output_type": "stream",
     "text": [
      "epoch: 3, [batch: 1 / 2520], examples_per_second: 10.9461, train_label_loss: 0.8153, \n"
     ]
    },
    {
     "name": "stdout",
     "output_type": "stream",
     "text": [
      "epoch: 3, [batch: 252 / 2520], examples_per_second: 3188.5061, train_label_loss: 0.4727, \n"
     ]
    },
    {
     "name": "stdout",
     "output_type": "stream",
     "text": [
      "epoch: 3, [batch: 504 / 2520], examples_per_second: 3259.6744, train_label_loss: 0.5382, \n"
     ]
    },
    {
     "name": "stdout",
     "output_type": "stream",
     "text": [
      "epoch: 3, [batch: 756 / 2520], examples_per_second: 3235.0275, train_label_loss: 0.5085, \n"
     ]
    },
    {
     "name": "stdout",
     "output_type": "stream",
     "text": [
      "epoch: 3, [batch: 1008 / 2520], examples_per_second: 3213.0754, train_label_loss: 0.6417, \n"
     ]
    },
    {
     "name": "stdout",
     "output_type": "stream",
     "text": [
      "epoch: 3, [batch: 1260 / 2520], examples_per_second: 3265.2538, train_label_loss: 0.6620, \n"
     ]
    },
    {
     "name": "stdout",
     "output_type": "stream",
     "text": [
      "epoch: 3, [batch: 1512 / 2520], examples_per_second: 3298.6037, train_label_loss: 0.9098, \n"
     ]
    },
    {
     "name": "stdout",
     "output_type": "stream",
     "text": [
      "epoch: 3, [batch: 1764 / 2520], examples_per_second: 3282.0233, train_label_loss: 0.6444, \n"
     ]
    },
    {
     "name": "stdout",
     "output_type": "stream",
     "text": [
      "epoch: 3, [batch: 2016 / 2520], examples_per_second: 3234.8091, train_label_loss: 0.5643, \n"
     ]
    },
    {
     "name": "stdout",
     "output_type": "stream",
     "text": [
      "epoch: 3, [batch: 2268 / 2520], examples_per_second: 3242.8109, train_label_loss: 0.4645, \n"
     ]
    },
    {
     "name": "stdout",
     "output_type": "stream",
     "text": [
      "=============================================================\n",
      "epoch: 3, source_val_acc_label: 0.7680, target_val_acc_label: 0.7095, source_val_label_loss: 0.6565, target_val_label_loss: 6.1931, \n",
      "=============================================================\n"
     ]
    },
    {
     "name": "stdout",
     "output_type": "stream",
     "text": [
      "epoch: 4, [batch: 1 / 2520], examples_per_second: 11.2977, train_label_loss: 0.4565, \n"
     ]
    },
    {
     "name": "stdout",
     "output_type": "stream",
     "text": [
      "epoch: 4, [batch: 252 / 2520], examples_per_second: 3261.7189, train_label_loss: 0.5946, \n"
     ]
    },
    {
     "name": "stdout",
     "output_type": "stream",
     "text": [
      "epoch: 4, [batch: 504 / 2520], examples_per_second: 3266.9725, train_label_loss: 0.5805, \n"
     ]
    },
    {
     "name": "stdout",
     "output_type": "stream",
     "text": [
      "epoch: 4, [batch: 756 / 2520], examples_per_second: 3234.5653, train_label_loss: 0.5438, \n"
     ]
    },
    {
     "name": "stdout",
     "output_type": "stream",
     "text": [
      "epoch: 4, [batch: 1008 / 2520], examples_per_second: 3077.6334, train_label_loss: 1.0237, \n"
     ]
    },
    {
     "name": "stdout",
     "output_type": "stream",
     "text": [
      "epoch: 4, [batch: 1260 / 2520], examples_per_second: 3183.4676, train_label_loss: 0.6503, \n"
     ]
    },
    {
     "name": "stdout",
     "output_type": "stream",
     "text": [
      "epoch: 4, [batch: 1512 / 2520], examples_per_second: 3268.4280, train_label_loss: 0.4967, \n"
     ]
    },
    {
     "name": "stdout",
     "output_type": "stream",
     "text": [
      "epoch: 4, [batch: 1764 / 2520], examples_per_second: 3298.2951, train_label_loss: 0.6090, \n"
     ]
    },
    {
     "name": "stdout",
     "output_type": "stream",
     "text": [
      "epoch: 4, [batch: 2016 / 2520], examples_per_second: 3284.9606, train_label_loss: 0.3406, \n"
     ]
    },
    {
     "name": "stdout",
     "output_type": "stream",
     "text": [
      "epoch: 4, [batch: 2268 / 2520], examples_per_second: 3286.4479, train_label_loss: 0.6690, \n"
     ]
    },
    {
     "name": "stdout",
     "output_type": "stream",
     "text": [
      "=============================================================\n",
      "epoch: 4, source_val_acc_label: 0.8160, target_val_acc_label: 0.7510, source_val_label_loss: 0.5566, target_val_label_loss: 12.2707, \n",
      "=============================================================\n"
     ]
    },
    {
     "name": "stdout",
     "output_type": "stream",
     "text": [
      "epoch: 5, [batch: 1 / 2520], examples_per_second: 11.4080, train_label_loss: 1.0208, \n"
     ]
    },
    {
     "name": "stdout",
     "output_type": "stream",
     "text": [
      "epoch: 5, [batch: 252 / 2520], examples_per_second: 3258.1348, train_label_loss: 0.6567, \n"
     ]
    },
    {
     "name": "stdout",
     "output_type": "stream",
     "text": [
      "epoch: 5, [batch: 504 / 2520], examples_per_second: 3275.0520, train_label_loss: 0.4941, \n"
     ]
    },
    {
     "name": "stdout",
     "output_type": "stream",
     "text": [
      "epoch: 5, [batch: 756 / 2520], examples_per_second: 3291.8900, train_label_loss: 0.9028, \n"
     ]
    },
    {
     "name": "stdout",
     "output_type": "stream",
     "text": [
      "epoch: 5, [batch: 1008 / 2520], examples_per_second: 3277.0915, train_label_loss: 0.4304, \n"
     ]
    },
    {
     "name": "stdout",
     "output_type": "stream",
     "text": [
      "epoch: 5, [batch: 1260 / 2520], examples_per_second: 3300.8206, train_label_loss: 0.8520, \n"
     ]
    },
    {
     "name": "stdout",
     "output_type": "stream",
     "text": [
      "epoch: 5, [batch: 1512 / 2520], examples_per_second: 3303.4955, train_label_loss: 0.8395, \n"
     ]
    },
    {
     "name": "stdout",
     "output_type": "stream",
     "text": [
      "epoch: 5, [batch: 1764 / 2520], examples_per_second: 3303.7634, train_label_loss: 0.3970, \n"
     ]
    },
    {
     "name": "stdout",
     "output_type": "stream",
     "text": [
      "epoch: 5, [batch: 2016 / 2520], examples_per_second: 3309.4547, train_label_loss: 0.6809, \n"
     ]
    },
    {
     "name": "stdout",
     "output_type": "stream",
     "text": [
      "epoch: 5, [batch: 2268 / 2520], examples_per_second: 3307.7304, train_label_loss: 0.6127, \n"
     ]
    },
    {
     "name": "stdout",
     "output_type": "stream",
     "text": [
      "=============================================================\n",
      "epoch: 5, source_val_acc_label: 0.8050, target_val_acc_label: 0.7467, source_val_label_loss: 0.5586, target_val_label_loss: 21.0551, \n",
      "=============================================================\n"
     ]
    },
    {
     "name": "stdout",
     "output_type": "stream",
     "text": [
      "epoch: 6, [batch: 1 / 2520], examples_per_second: 11.4611, train_label_loss: 0.7012, \n"
     ]
    },
    {
     "name": "stdout",
     "output_type": "stream",
     "text": [
      "epoch: 6, [batch: 252 / 2520], examples_per_second: 3266.9023, train_label_loss: 0.4535, \n"
     ]
    },
    {
     "name": "stdout",
     "output_type": "stream",
     "text": [
      "epoch: 6, [batch: 504 / 2520], examples_per_second: 3265.4626, train_label_loss: 0.5058, \n"
     ]
    },
    {
     "name": "stdout",
     "output_type": "stream",
     "text": [
      "epoch: 6, [batch: 756 / 2520], examples_per_second: 3300.6128, train_label_loss: 0.4531, \n"
     ]
    },
    {
     "name": "stdout",
     "output_type": "stream",
     "text": [
      "epoch: 6, [batch: 1008 / 2520], examples_per_second: 3304.9679, train_label_loss: 0.3519, \n"
     ]
    },
    {
     "name": "stdout",
     "output_type": "stream",
     "text": [
      "epoch: 6, [batch: 1260 / 2520], examples_per_second: 3309.0214, train_label_loss: 0.3984, \n"
     ]
    },
    {
     "name": "stdout",
     "output_type": "stream",
     "text": [
      "epoch: 6, [batch: 1512 / 2520], examples_per_second: 3326.8529, train_label_loss: 0.4581, \n"
     ]
    },
    {
     "name": "stdout",
     "output_type": "stream",
     "text": [
      "epoch: 6, [batch: 1764 / 2520], examples_per_second: 3299.2736, train_label_loss: 0.6202, \n"
     ]
    },
    {
     "name": "stdout",
     "output_type": "stream",
     "text": [
      "epoch: 6, [batch: 2016 / 2520], examples_per_second: 3305.7610, train_label_loss: 0.4537, \n"
     ]
    },
    {
     "name": "stdout",
     "output_type": "stream",
     "text": [
      "epoch: 6, [batch: 2268 / 2520], examples_per_second: 3222.6565, train_label_loss: 0.5586, \n"
     ]
    },
    {
     "name": "stdout",
     "output_type": "stream",
     "text": [
      "=============================================================\n",
      "epoch: 6, source_val_acc_label: 0.8349, target_val_acc_label: 0.7738, source_val_label_loss: 0.4845, target_val_label_loss: 18.2246, \n",
      "=============================================================\n"
     ]
    },
    {
     "name": "stdout",
     "output_type": "stream",
     "text": [
      "Patience (3) exhausted\n"
     ]
    }
   ],
   "source": [
    "###################################\n",
    "# train\n",
    "###################################\n",
    "jig = PTN_Train_Eval_Test_Jig(model, p.BEST_MODEL_PATH, p.device)\n",
    "\n",
    "jig.train(\n",
    "    train_iterable=datasets.source.processed.train,\n",
    "    source_val_iterable=datasets.source.processed.val,\n",
    "    target_val_iterable=datasets.target.processed.val,\n",
    "    num_epochs=p.n_epoch,\n",
    "    num_logs_per_epoch=p.NUM_LOGS_PER_EPOCH,\n",
    "    patience=p.patience,\n",
    "    optimizer=optimizer,\n",
    "    criteria_for_best=p.criteria_for_best,\n",
    ")"
   ]
  },
  {
   "cell_type": "code",
   "execution_count": 14,
   "id": "31e8fabf",
   "metadata": {
    "execution": {
     "iopub.execute_input": "2022-03-06T02:27:29.372999Z",
     "iopub.status.busy": "2022-03-06T02:27:29.372500Z",
     "iopub.status.idle": "2022-03-06T02:27:29.387197Z",
     "shell.execute_reply": "2022-03-06T02:27:29.386860Z"
    },
    "papermill": {
     "duration": 0.041372,
     "end_time": "2022-03-06T02:27:29.387282",
     "exception": false,
     "start_time": "2022-03-06T02:27:29.345910",
     "status": "completed"
    },
    "tags": []
   },
   "outputs": [],
   "source": [
    "total_experiment_time_secs = time.time() - start_time_secs"
   ]
  },
  {
   "cell_type": "code",
   "execution_count": 15,
   "id": "87b9595b",
   "metadata": {
    "execution": {
     "iopub.execute_input": "2022-03-06T02:27:29.444822Z",
     "iopub.status.busy": "2022-03-06T02:27:29.444340Z",
     "iopub.status.idle": "2022-03-06T02:28:18.762864Z",
     "shell.execute_reply": "2022-03-06T02:28:18.763265Z"
    },
    "papermill": {
     "duration": 49.347578,
     "end_time": "2022-03-06T02:28:18.763393",
     "exception": false,
     "start_time": "2022-03-06T02:27:29.415815",
     "status": "completed"
    },
    "tags": []
   },
   "outputs": [],
   "source": [
    "###################################\n",
    "# Evaluate the model\n",
    "###################################\n",
    "source_test_label_accuracy, source_test_label_loss = jig.test(datasets.source.processed.test)\n",
    "target_test_label_accuracy, target_test_label_loss = jig.test(datasets.target.processed.test)\n",
    "\n",
    "source_val_label_accuracy, source_val_label_loss = jig.test(datasets.source.processed.val)\n",
    "target_val_label_accuracy, target_val_label_loss = jig.test(datasets.target.processed.val)\n",
    "\n",
    "history = jig.get_history()\n",
    "\n",
    "total_epochs_trained = len(history[\"epoch_indices\"])\n",
    "\n",
    "val_dl = Iterable_Aggregator((datasets.source.original.val,datasets.target.original.val))\n",
    "\n",
    "confusion = ptn_confusion_by_domain_over_dataloader(model, p.device, val_dl)\n",
    "per_domain_accuracy = per_domain_accuracy_from_confusion(confusion)\n",
    "\n",
    "# Add a key to per_domain_accuracy for if it was a source domain\n",
    "for domain, accuracy in per_domain_accuracy.items():\n",
    "    per_domain_accuracy[domain] = {\n",
    "        \"accuracy\": accuracy,\n",
    "        \"source?\": domain in p.domains_source\n",
    "    }\n",
    "\n",
    "# Do an independent accuracy assesment JUST TO BE SURE!\n",
    "# _source_test_label_accuracy = independent_accuracy_assesment(model, datasets.source.processed.test, p.device)\n",
    "# _target_test_label_accuracy = independent_accuracy_assesment(model, datasets.target.processed.test, p.device)\n",
    "# _source_val_label_accuracy = independent_accuracy_assesment(model, datasets.source.processed.val, p.device)\n",
    "# _target_val_label_accuracy = independent_accuracy_assesment(model, datasets.target.processed.val, p.device)\n",
    "\n",
    "# assert(_source_test_label_accuracy == source_test_label_accuracy)\n",
    "# assert(_target_test_label_accuracy == target_test_label_accuracy)\n",
    "# assert(_source_val_label_accuracy == source_val_label_accuracy)\n",
    "# assert(_target_val_label_accuracy == target_val_label_accuracy)\n",
    "\n",
    "experiment = {\n",
    "    \"experiment_name\": p.experiment_name,\n",
    "    \"parameters\": dict(p),\n",
    "    \"results\": {\n",
    "        \"source_test_label_accuracy\": source_test_label_accuracy,\n",
    "        \"source_test_label_loss\": source_test_label_loss,\n",
    "        \"target_test_label_accuracy\": target_test_label_accuracy,\n",
    "        \"target_test_label_loss\": target_test_label_loss,\n",
    "        \"source_val_label_accuracy\": source_val_label_accuracy,\n",
    "        \"source_val_label_loss\": source_val_label_loss,\n",
    "        \"target_val_label_accuracy\": target_val_label_accuracy,\n",
    "        \"target_val_label_loss\": target_val_label_loss,\n",
    "        \"total_epochs_trained\": total_epochs_trained,\n",
    "        \"total_experiment_time_secs\": total_experiment_time_secs,\n",
    "        \"confusion\": confusion,\n",
    "        \"per_domain_accuracy\": per_domain_accuracy,\n",
    "    },\n",
    "    \"history\": history,\n",
    "    \"dataset_metrics\": get_dataset_metrics(datasets, \"ptn\"),\n",
    "}"
   ]
  },
  {
   "cell_type": "code",
   "execution_count": 16,
   "id": "54a21829",
   "metadata": {
    "execution": {
     "iopub.execute_input": "2022-03-06T02:28:18.815209Z",
     "iopub.status.busy": "2022-03-06T02:28:18.814934Z",
     "iopub.status.idle": "2022-03-06T02:28:18.984516Z",
     "shell.execute_reply": "2022-03-06T02:28:18.984902Z"
    },
    "papermill": {
     "duration": 0.195567,
     "end_time": "2022-03-06T02:28:18.985024",
     "exception": false,
     "start_time": "2022-03-06T02:28:18.789457",
     "status": "completed"
    },
    "tags": []
   },
   "outputs": [
    {
     "data": {
      "image/png": "[encoded data removed]",
      "text/plain": [
       "<Figure size 1080x504 with 1 Axes>"
      ]
     },
     "metadata": {
      "needs_background": "light"
     },
     "output_type": "display_data"
    }
   ],
   "source": [
    "ax = get_loss_curve(experiment)\n",
    "plt.show()"
   ]
  },
  {
   "cell_type": "code",
   "execution_count": 17,
   "id": "fd8a0f60",
   "metadata": {
    "execution": {
     "iopub.execute_input": "2022-03-06T02:28:19.037932Z",
     "iopub.status.busy": "2022-03-06T02:28:19.037557Z",
     "iopub.status.idle": "2022-03-06T02:28:19.216291Z",
     "shell.execute_reply": "2022-03-06T02:28:19.216634Z"
    },
    "papermill": {
     "duration": 0.2051,
     "end_time": "2022-03-06T02:28:19.216740",
     "exception": false,
     "start_time": "2022-03-06T02:28:19.011640",
     "status": "completed"
    },
    "tags": []
   },
   "outputs": [
    {
     "data": {
      "text/plain": [
       "<matplotlib.axes._subplots.AxesSubplot at 0x7ff5fd12deb0>"
      ]
     },
     "execution_count": 17,
     "metadata": {},
     "output_type": "execute_result"
    },
    {
     "data": {
      "image/png": "[encoded data removed]",
      "text/plain": [
       "<Figure size 1080x504 with 1 Axes>"
      ]
     },
     "metadata": {
      "needs_background": "light"
     },
     "output_type": "display_data"
    }
   ],
   "source": [
    "get_results_table(experiment)"
   ]
  },
  {
   "cell_type": "code",
   "execution_count": 18,
   "id": "cf8dc689",
   "metadata": {
    "execution": {
     "iopub.execute_input": "2022-03-06T02:28:19.272917Z",
     "iopub.status.busy": "2022-03-06T02:28:19.272639Z",
     "iopub.status.idle": "2022-03-06T02:28:19.445858Z",
     "shell.execute_reply": "2022-03-06T02:28:19.445376Z"
    },
    "papermill": {
     "duration": 0.20075,
     "end_time": "2022-03-06T02:28:19.445956",
     "exception": false,
     "start_time": "2022-03-06T02:28:19.245206",
     "status": "completed"
    },
    "tags": []
   },
   "outputs": [
    {
     "data": {
      "text/plain": [
       "<matplotlib.axes._subplots.AxesSubplot at 0x7ff6a0a6b1c0>"
      ]
     },
     "execution_count": 18,
     "metadata": {},
     "output_type": "execute_result"
    },
    {
     "data": {
      "image/png": "[encoded data removed]",
      "text/plain": [
       "<Figure size 1080x504 with 1 Axes>"
      ]
     },
     "metadata": {
      "needs_background": "light"
     },
     "output_type": "display_data"
    }
   ],
   "source": [
    "get_domain_accuracies(experiment)"
   ]
  },
  {
   "cell_type": "code",
   "execution_count": 19,
   "id": "a74ae082",
   "metadata": {
    "execution": {
     "iopub.execute_input": "2022-03-06T02:28:19.505962Z",
     "iopub.status.busy": "2022-03-06T02:28:19.505671Z",
     "iopub.status.idle": "2022-03-06T02:28:19.521118Z",
     "shell.execute_reply": "2022-03-06T02:28:19.520645Z"
    },
    "papermill": {
     "duration": 0.045094,
     "end_time": "2022-03-06T02:28:19.521215",
     "exception": false,
     "start_time": "2022-03-06T02:28:19.476121",
     "status": "completed"
    },
    "tags": []
   },
   "outputs": [
    {
     "name": "stdout",
     "output_type": "stream",
     "text": [
      "Source Test Label Accuracy: 0.7324652777777778 Target Test Label Accuracy: 0.6769270833333333\n",
      "Source Val Label Accuracy: 0.7267361111111111 Target Val Label Accuracy: 0.6749479166666666\n"
     ]
    }
   ],
   "source": [
    "print(\"Source Test Label Accuracy:\", experiment[\"results\"][\"source_test_label_accuracy\"], \"Target Test Label Accuracy:\", experiment[\"results\"][\"target_test_label_accuracy\"])\n",
    "print(\"Source Val Label Accuracy:\", experiment[\"results\"][\"source_val_label_accuracy\"], \"Target Val Label Accuracy:\", experiment[\"results\"][\"target_val_label_accuracy\"])"
   ]
  },
  {
   "cell_type": "code",
   "execution_count": 20,
   "id": "dacca602",
   "metadata": {
    "execution": {
     "iopub.execute_input": "2022-03-06T02:28:19.580575Z",
     "iopub.status.busy": "2022-03-06T02:28:19.580064Z",
     "iopub.status.idle": "2022-03-06T02:28:19.590779Z",
     "shell.execute_reply": "2022-03-06T02:28:19.591224Z"
    },
    "papermill": {
     "duration": 0.040501,
     "end_time": "2022-03-06T02:28:19.591354",
     "exception": false,
     "start_time": "2022-03-06T02:28:19.550853",
     "status": "completed"
    },
    "tags": [
     "experiment_json"
    ]
   },
   "outputs": [
    {
     "data": {
      "text/plain": [
       "'{\"experiment_name\": \"tuned_1_oracle.run1.framed\", \"parameters\": {\"experiment_name\": \"tuned_1_oracle.run1.framed\", \"device\": \"cuda\", \"lr\": 0.001, \"seed\": 1337, \"dataset_seed\": 1337, \"labels_source\": [\"3123D52\", \"3123D65\", \"3123D79\", \"3123D80\", \"3123D54\", \"3123D70\", \"3123D7B\", \"3123D89\", \"3123D58\", \"3123D76\", \"3123D7D\", \"3123EFE\", \"3123D64\", \"3123D78\", \"3123D7E\", \"3124E4A\"], \"labels_target\": [\"3123D52\", \"3123D65\", \"3123D79\", \"3123D80\", \"3123D54\", \"3123D70\", \"3123D7B\", \"3123D89\", \"3123D58\", \"3123D76\", \"3123D7D\", \"3123EFE\", \"3123D64\", \"3123D78\", \"3123D7E\", \"3124E4A\"], \"x_transforms_source\": [\"unit_mag\"], \"x_transforms_target\": [\"unit_mag\"], \"episode_transforms_source\": [], \"episode_transforms_target\": [], \"domains_source\": [8, 32, 50], \"domains_target\": [14, 20, 26, 38, 44], \"num_examples_per_domain_per_label_source\": 2000, \"num_examples_per_domain_per_label_target\": 2000, \"n_shot\": 3, \"n_way\": 16, \"n_query\": 2, \"train_k_factor\": 3, \"val_k_factor\": 2, \"test_k_factor\": 2, \"torch_default_dtype\": \"torch.float32\", \"n_epoch\": 50, \"patience\": 3, \"criteria_for_best\": \"target_loss\", \"x_net\": [{\"class\": \"nnReshape\", \"kargs\": {\"shape\": [-1, 1, 2, 256]}}, {\"class\": \"Conv2d\", \"kargs\": {\"in_channels\": 1, \"out_channels\": 256, \"kernel_size\": [1, 7], \"bias\": false, \"padding\": [0, 3]}}, {\"class\": \"ReLU\", \"kargs\": {\"inplace\": true}}, {\"class\": \"BatchNorm2d\", \"kargs\": {\"num_features\": 256}}, {\"class\": \"Conv2d\", \"kargs\": {\"in_channels\": 256, \"out_channels\": 80, \"kernel_size\": [2, 7], \"bias\": true, \"padding\": [0, 3]}}, {\"class\": \"ReLU\", \"kargs\": {\"inplace\": true}}, {\"class\": \"BatchNorm2d\", \"kargs\": {\"num_features\": 80}}, {\"class\": \"Flatten\", \"kargs\": {}}, {\"class\": \"Linear\", \"kargs\": {\"in_features\": 20480, \"out_features\": 256}}, {\"class\": \"ReLU\", \"kargs\": {\"inplace\": true}}, {\"class\": \"BatchNorm1d\", \"kargs\": {\"num_features\": 256}}, {\"class\": \"Linear\", \"kargs\": {\"in_features\": 256, \"out_features\": 256}}], \"NUM_LOGS_PER_EPOCH\": 10, \"BEST_MODEL_PATH\": \"./best_model.pth\", \"pickle_name\": \"oracle.Run1_framed_2000Examples_stratified_ds.2022A.pkl\"}, \"results\": {\"source_test_label_accuracy\": 0.7324652777777778, \"source_test_label_loss\": 0.7499750852584839, \"target_test_label_accuracy\": 0.6769270833333333, \"target_test_label_loss\": 2.4856605529785156, \"source_val_label_accuracy\": 0.7267361111111111, \"source_val_label_loss\": 0.7439787983894348, \"target_val_label_accuracy\": 0.6749479166666666, \"target_val_label_loss\": 5.524407863616943, \"total_epochs_trained\": 6, \"total_experiment_time_secs\": 439.9516911506653, \"confusion\": {\"8\": {\"15\": {\"15\": 194, \"12\": 45, \"8\": 1}, \"3\": {\"3\": 200, \"2\": 29, \"12\": 11}, \"6\": {\"4\": 22, \"6\": 156, \"7\": 30, \"13\": 14, \"0\": 16, \"8\": 2}, \"1\": {\"11\": 70, \"1\": 158, \"10\": 2, \"5\": 8, \"14\": 2}, \"8\": {\"8\": 236, \"6\": 2, \"15\": 2}, \"10\": {\"14\": 64, \"10\": 162, \"4\": 4, \"13\": 10}, \"9\": {\"9\": 240}, \"13\": {\"4\": 35, \"10\": 18, \"13\": 93, \"14\": 9, \"0\": 65, \"7\": 3, \"6\": 17}, \"12\": {\"12\": 140, \"15\": 64, \"3\": 32, \"8\": 2, \"2\": 2}, \"5\": {\"5\": 212, \"11\": 6, \"10\": 9, \"1\": 11, \"14\": 2}, \"0\": {\"13\": 39, \"0\": 152, \"7\": 23, \"6\": 21, \"4\": 4, \"10\": 1}, \"2\": {\"2\": 190, \"15\": 6, \"7\": 11, \"3\": 32, \"12\": 1}, \"11\": {\"11\": 134, \"1\": 94, \"5\": 12}, \"14\": {\"10\": 76, \"14\": 121, \"4\": 32, \"1\": 2, \"13\": 8, \"11\": 1}, \"7\": {\"7\": 179, \"6\": 38, \"12\": 1, \"0\": 19, \"13\": 2, \"15\": 1}, \"4\": {\"4\": 138, \"14\": 13, \"13\": 59, \"0\": 5, \"6\": 23, \"10\": 2}}, \"50\": {\"3\": {\"3\": 236, \"8\": 4}, \"15\": {\"15\": 167, \"4\": 26, \"1\": 37, \"11\": 9, \"6\": 1}, \"8\": {\"8\": 234, \"10\": 6}, \"4\": {\"4\": 70, \"15\": 42, \"1\": 54, \"6\": 39, \"5\": 21, \"13\": 8, \"2\": 1, \"7\": 5}, \"14\": {\"14\": 239, \"11\": 1}, \"0\": {\"0\": 214, \"2\": 19, \"6\": 1, \"13\": 3, \"5\": 1, \"10\": 2}, \"7\": {\"5\": 22, \"7\": 134, \"10\": 16, \"13\": 67, \"4\": 1}, \"6\": {\"6\": 153, \"4\": 32, \"1\": 21, \"15\": 2, \"5\": 19, \"13\": 8, \"0\": 3, \"7\": 2}, \"10\": {\"8\": 7, \"10\": 216, \"7\": 10, \"0\": 6, \"13\": 1}, \"5\": {\"5\": 81, \"13\": 46, \"7\": 50, \"6\": 31, \"4\": 24, \"1\": 6, \"10\": 1, \"15\": 1}, \"2\": {\"2\": 235, \"0\": 5}, \"12\": {\"9\": 13, \"12\": 216, \"14\": 10, \"11\": 1}, \"9\": {\"9\": 199, \"11\": 18, \"12\": 23}, \"1\": {\"4\": 44, \"1\": 135, \"15\": 34, \"6\": 26, \"11\": 1}, \"11\": {\"11\": 217, \"9\": 12, \"12\": 3, \"14\": 7, \"15\": 1}, \"13\": {\"7\": 52, \"13\": 123, \"10\": 4, \"5\": 49, \"0\": 2, \"6\": 10}}, \"32\": {\"5\": {\"8\": 19, \"3\": 22, \"13\": 78, \"5\": 54, \"4\": 14, \"11\": 6, \"7\": 22, \"0\": 9, \"14\": 14, \"2\": 2}, \"8\": {\"8\": 181, \"5\": 17, \"13\": 32, \"0\": 8, \"4\": 1, \"3\": 1}, \"11\": {\"14\": 65, \"11\": 153, \"7\": 15, \"5\": 3, \"13\": 3, \"3\": 1}, \"1\": {\"1\": 236, \"10\": 4}, \"10\": {\"10\": 239, \"1\": 1}, \"15\": {\"15\": 237, \"3\": 3}, \"3\": {\"3\": 231, \"5\": 3, \"13\": 4, \"11\": 1, \"8\": 1}, \"7\": {\"2\": 9, \"14\": 31, \"7\": 119, \"5\": 20, \"13\": 16, \"4\": 28, \"0\": 5, \"11\": 12}, \"4\": {\"4\": 154, \"2\": 26, \"13\": 7, \"0\": 26, \"5\": 10, \"7\": 11, \"14\": 3, \"8\": 3}, \"14\": {\"7\": 60, \"11\": 80, \"14\": 62, \"4\": 8, \"13\": 9, \"5\": 11, \"8\": 1, \"2\": 3, \"0\": 3, \"3\": 3}, \"9\": {\"9\": 239, \"12\": 1}, \"12\": {\"12\": 240}, \"6\": {\"6\": 240}, \"2\": {\"2\": 202, \"0\": 9, \"4\": 28, \"7\": 1}, \"0\": {\"0\": 125, \"8\": 12, \"4\": 52, \"7\": 14, \"5\": 4, \"14\": 4, \"2\": 18, \"13\": 11}, \"13\": {\"13\": 86, \"8\": 37, \"5\": 61, \"3\": 13, \"7\": 20, \"4\": 9, \"14\": 4, \"0\": 8, \"11\": 2}}, \"14\": {\"15\": {\"15\": 215, \"7\": 25}, \"3\": {\"3\": 221, \"4\": 14, \"2\": 2, \"14\": 3}, \"6\": {\"13\": 91, \"6\": 115, \"14\": 23, \"2\": 11}, \"1\": {\"1\": 217, \"5\": 22, \"4\": 1}, \"8\": {\"8\": 240}, \"10\": {\"10\": 204, \"0\": 36}, \"9\": {\"9\": 238, \"3\": 1, \"11\": 1}, \"13\": {\"14\": 62, \"13\": 77, \"6\": 75, \"2\": 23, \"5\": 2, \"10\": 1}, \"12\": {\"12\": 239, \"9\": 1}, \"5\": {\"5\": 156, \"4\": 44, \"1\": 24, \"2\": 15, \"3\": 1}, \"0\": {\"0\": 181, \"10\": 56, \"3\": 3}, \"2\": {\"15\": 6, \"2\": 108, \"5\": 21, \"14\": 41, \"6\": 21, \"3\": 11, \"4\": 19, \"13\": 13}, \"11\": {\"11\": 201, \"10\": 16, \"9\": 16, \"0\": 7}, \"14\": {\"2\": 13, \"14\": 173, \"6\": 12, \"13\": 35, \"3\": 6, \"4\": 1}, \"7\": {\"7\": 228, \"15\": 12}, \"4\": {\"4\": 203, \"5\": 25, \"2\": 6, \"3\": 6}}, \"20\": {\"3\": {\"1\": 4, \"3\": 106, \"9\": 21, \"12\": 56, \"7\": 9, \"4\": 15, \"8\": 9, \"5\": 7, \"0\": 3, \"2\": 10}, \"15\": {\"1\": 51, \"0\": 32, \"12\": 11, \"15\": 135, \"5\": 11}, \"8\": {\"8\": 181, \"4\": 14, \"3\": 8, \"10\": 20, \"7\": 14, \"14\": 2, \"9\": 1}, \"4\": {\"8\": 26, \"4\": 194, \"12\": 2, \"3\": 15, \"10\": 3}, \"14\": {\"14\": 189, \"10\": 29, \"6\": 19, \"8\": 3}, \"0\": {\"0\": 71, \"12\": 27, \"15\": 36, \"5\": 65, \"1\": 29, \"3\": 11, \"4\": 1}, \"7\": {\"7\": 173, \"2\": 29, \"6\": 4, \"8\": 13, \"9\": 16, \"3\": 5}, \"6\": {\"6\": 228, \"14\": 11, \"7\": 1}, \"10\": {\"10\": 211, \"14\": 22, \"8\": 7}, \"5\": {\"0\": 73, \"5\": 73, \"12\": 23, \"1\": 45, \"15\": 19, \"3\": 5, \"4\": 1, \"9\": 1}, \"2\": {\"2\": 102, \"13\": 24, \"9\": 64, \"7\": 35, \"12\": 8, \"3\": 7}, \"12\": {\"12\": 111, \"1\": 37, \"4\": 2, \"3\": 36, \"5\": 31, \"0\": 9, \"15\": 3, \"13\": 2, \"2\": 2, \"9\": 6, \"7\": 1}, \"9\": {\"7\": 32, \"2\": 71, \"9\": 89, \"3\": 25, \"13\": 9, \"12\": 11, \"15\": 1, \"8\": 1, \"1\": 1}, \"1\": {\"0\": 24, \"5\": 49, \"1\": 77, \"3\": 1, \"12\": 33, \"15\": 56}, \"11\": {\"11\": 240}, \"13\": {\"13\": 220, \"9\": 2, \"2\": 18}}, \"44\": {\"5\": {\"5\": 202, \"15\": 6, \"0\": 24, \"14\": 5, \"8\": 3}, \"8\": {\"8\": 154, \"15\": 9, \"0\": 70, \"5\": 7}, \"11\": {\"11\": 197, \"13\": 37, \"6\": 6}, \"1\": {\"1\": 138, \"12\": 60, \"3\": 24, \"10\": 14, \"2\": 3, \"7\": 1}, \"10\": {\"10\": 182, \"12\": 20, \"2\": 26, \"1\": 12}, \"15\": {\"15\": 202, \"0\": 19, \"14\": 16, \"8\": 2, \"5\": 1}, \"3\": {\"3\": 225, \"1\": 15}, \"7\": {\"7\": 159, \"2\": 29, \"6\": 10, \"3\": 1, \"9\": 40, \"13\": 1}, \"4\": {\"14\": 69, \"4\": 169, \"9\": 1, \"13\": 1}, \"14\": {\"4\": 59, \"14\": 158, \"5\": 4, \"15\": 19}, \"9\": {\"7\": 49, \"9\": 146, \"6\": 18, \"13\": 23, \"2\": 3, \"3\": 1}, \"12\": {\"12\": 167, \"1\": 59, \"3\": 2, \"10\": 12}, \"6\": {\"13\": 21, \"9\": 14, \"6\": 186, \"7\": 10, \"11\": 7, \"2\": 2}, \"2\": {\"2\": 182, \"1\": 11, \"10\": 16, \"7\": 30, \"3\": 1}, \"0\": {\"8\": 68, \"0\": 149, \"15\": 10, \"5\": 13}, \"13\": {\"9\": 36, \"13\": 145, \"11\": 31, \"6\": 27, \"4\": 1}}, \"38\": {\"14\": {\"14\": 174, \"2\": 12, \"11\": 53, \"10\": 1}, \"0\": {\"7\": 62, \"5\": 36, \"0\": 70, \"15\": 1, \"8\": 58, \"3\": 10, \"6\": 1, \"10\": 2}, \"13\": {\"13\": 151, \"15\": 69, \"10\": 10, \"2\": 6, \"8\": 1, \"1\": 1, \"5\": 1, \"0\": 1}, \"7\": {\"7\": 188, \"0\": 38, \"5\": 5, \"8\": 9}, \"9\": {\"9\": 140, \"6\": 80, \"3\": 18, \"5\": 2}, \"3\": {\"3\": 208, \"9\": 21, \"6\": 3, \"0\": 4, \"1\": 1, \"5\": 2, \"7\": 1}, \"11\": {\"11\": 95, \"14\": 123, \"12\": 1, \"13\": 4, \"4\": 7, \"2\": 6, \"7\": 2, \"10\": 2}, \"6\": {\"6\": 181, \"5\": 5, \"9\": 54}, \"8\": {\"8\": 137, \"5\": 32, \"0\": 51, \"10\": 6, \"15\": 8, \"7\": 5, \"13\": 1}, \"4\": {\"4\": 221, \"12\": 18, \"11\": 1}, \"5\": {\"1\": 8, \"5\": 109, \"6\": 13, \"3\": 5, \"8\": 49, \"0\": 35, \"7\": 13, \"15\": 5, \"9\": 2, \"13\": 1}, \"10\": {\"13\": 9, \"7\": 3, \"10\": 192, \"14\": 3, \"12\": 7, \"11\": 2, \"8\": 14, \"2\": 2, \"15\": 7, \"0\": 1}, \"1\": {\"1\": 236, \"15\": 4}, \"2\": {\"2\": 216, \"13\": 6, \"14\": 15, \"11\": 2, \"10\": 1}, \"15\": {\"15\": 148, \"1\": 17, \"13\": 65, \"8\": 6, \"10\": 2, \"5\": 2}, \"12\": {\"12\": 219, \"11\": 5, \"4\": 9, \"10\": 7}}, \"26\": {\"13\": {\"5\": 55, \"13\": 163, \"15\": 13, \"2\": 3, \"9\": 3, \"6\": 2, \"3\": 1}, \"2\": {\"5\": 32, \"2\": 103, \"15\": 15, \"3\": 62, \"7\": 19, \"9\": 6, \"8\": 3}, \"8\": {\"7\": 11, \"9\": 26, \"14\": 8, \"8\": 95, \"0\": 22, \"10\": 35, \"15\": 16, \"4\": 20, \"6\": 4, \"2\": 2, \"5\": 1}, \"9\": {\"9\": 87, \"10\": 5, \"15\": 63, \"8\": 35, \"6\": 26, \"5\": 10, \"13\": 11, \"7\": 1, \"2\": 1, \"0\": 1}, \"12\": {\"12\": 238, \"11\": 2}, \"4\": {\"0\": 37, \"8\": 23, \"4\": 94, \"1\": 37, \"14\": 34, \"7\": 7, \"10\": 8}, \"3\": {\"3\": 161, \"2\": 57, \"7\": 22}, \"15\": {\"5\": 51, \"15\": 100, \"9\": 50, \"8\": 15, \"6\": 5, \"7\": 3, \"2\": 6, \"13\": 10}, \"14\": {\"1\": 56, \"10\": 18, \"14\": 73, \"0\": 41, \"4\": 45, \"8\": 4, \"7\": 2, \"13\": 1}, \"10\": {\"10\": 116, \"0\": 41, \"14\": 16, \"6\": 20, \"8\": 29, \"9\": 3, \"1\": 3, \"15\": 3, \"4\": 8, \"5\": 1}, \"7\": {\"7\": 148, \"8\": 12, \"2\": 24, \"3\": 26, \"4\": 22, \"1\": 3, \"9\": 1, \"0\": 2, \"15\": 1, \"5\": 1}, \"11\": {\"11\": 235, \"12\": 5}, \"6\": {\"6\": 185, \"10\": 23, \"9\": 23, \"8\": 5, \"15\": 1, \"13\": 3}, \"1\": {\"1\": 111, \"10\": 8, \"14\": 58, \"4\": 42, \"0\": 19, \"8\": 2}, \"5\": {\"13\": 34, \"5\": 124, \"15\": 50, \"9\": 11, \"2\": 16, \"8\": 3, \"7\": 2}, \"0\": {\"1\": 21, \"0\": 64, \"14\": 34, \"10\": 52, \"8\": 24, \"4\": 36, \"6\": 3, \"7\": 5, \"2\": 1}}}, \"per_domain_accuracy\": {\"8\": {\"accuracy\": 0.7044270833333334, \"source?\": true}, \"50\": {\"accuracy\": 0.7471354166666667, \"source?\": true}, \"32\": {\"accuracy\": 0.7286458333333333, \"source?\": true}, \"14\": {\"accuracy\": 0.7854166666666667, \"source?\": false}, \"20\": {\"accuracy\": 0.625, \"source?\": false}, \"44\": {\"accuracy\": 0.7190104166666667, \"source?\": false}, \"38\": {\"accuracy\": 0.69921875, \"source?\": false}, \"26\": {\"accuracy\": 0.54609375, \"source?\": false}}}, \"history\": {\"epoch_indices\": [1, 2, 3, 4, 5, 6], \"train_label_loss\": [0.8712978014633769, 2.817158261402732, 0.6681610508925385, 0.5752233835380702, 1.0717404126647918, 0.48716453232817236], \"source_val_label_loss\": [480.62200927734375, 0.7439787983894348, 0.656547486782074, 0.556577742099762, 0.5586386919021606, 0.4845297932624817], \"target_val_label_loss\": [359.072509765625, 5.524407863616943, 6.19310188293457, 12.270732879638672, 21.055112838745117, 18.22462272644043], \"source_val_acc_label\": [0.66640625, 0.7267361111111111, 0.76796875, 0.8159722222222222, 0.8050347222222223, 0.8348958333333333], \"target_val_acc_label\": [0.5303125, 0.6749479166666666, 0.7094791666666667, 0.7509895833333333, 0.74671875, 0.77375]}, \"dataset_metrics\": {\"source\": {\"train\": {\"n_unique_x\": 67200, \"n_unique_y\": 16, \"n_batch/episode\": 2520}, \"val\": {\"n_unique_x\": 14400, \"n_unique_y\": 16, \"n_batch/episode\": 360}, \"test\": {\"n_unique_x\": 14400, \"n_unique_y\": 16, \"n_batch/episode\": 360}}, \"target\": {\"train\": {\"n_unique_x\": 112000, \"n_unique_y\": 16, \"n_batch/episode\": 4200}, \"val\": {\"n_unique_x\": 24000, \"n_unique_y\": 16, \"n_batch/episode\": 600}, \"test\": {\"n_unique_x\": 24000, \"n_unique_y\": 16, \"n_batch/episode\": 600}}}}'"
      ]
     },
     "execution_count": 20,
     "metadata": {},
     "output_type": "execute_result"
    }
   ],
   "source": [
    "json.dumps(experiment)"
   ]
  }
 ],
 "metadata": {
  "celltoolbar": "Tags",
  "kernelspec": {
   "display_name": "Python 3 (ipykernel)",
   "language": "python",
   "name": "python3"
  },
  "language_info": {
   "codemirror_mode": {
    "name": "ipython",
    "version": 3
   },
   "file_extension": ".py",
   "mimetype": "text/x-python",
   "name": "python",
   "nbconvert_exporter": "python",
   "pygments_lexer": "ipython3",
   "version": "3.8.10"
  },
  "papermill": {
   "default_parameters": {},
   "duration": 493.20038,
   "end_time": "2022-03-06T02:28:20.526333",
   "environment_variables": {},
   "exception": null,
   "input_path": "/mnt/wd500GB/CSC500/csc500-main/csc500-notebooks/templates/ptn_template.ipynb",
   "output_path": "trial.ipynb",
   "parameters": {
    "parameters": {
     "BEST_MODEL_PATH": "./best_model.pth",
     "NUM_LOGS_PER_EPOCH": 10,
     "criteria_for_best": "target_loss",
     "dataset_seed": 1337,
     "device": "cuda",
     "domains_source": [
      8,
      32,
      50
     ],
     "domains_target": [
      14,
      20,
      26,
      38,
      44
     ],
     "episode_transforms_source": [],
     "episode_transforms_target": [],
     "experiment_name": "tuned_1_oracle.run1.framed",
     "labels_source": [
      "3123D52",
      "3123D65",
      "3123D79",
      "3123D80",
      "3123D54",
      "3123D70",
      "3123D7B",
      "3123D89",
      "3123D58",
      "3123D76",
      "3123D7D",
      "3123EFE",
      "3123D64",
      "3123D78",
      "3123D7E",
      "3124E4A"
     ],
     "labels_target": [
      "3123D52",
      "3123D65",
      "3123D79",
      "3123D80",
      "3123D54",
      "3123D70",
      "3123D7B",
      "3123D89",
      "3123D58",
      "3123D76",
      "3123D7D",
      "3123EFE",
      "3123D64",
      "3123D78",
      "3123D7E",
      "3124E4A"
     ],
     "lr": 0.001,
     "n_epoch": 50,
     "n_query": 2,
     "n_shot": 3,
     "n_way": 16,
     "num_examples_per_domain_per_label_source": 2000,
     "num_examples_per_domain_per_label_target": 2000,
     "patience": 3,
     "pickle_name": "oracle.Run1_framed_2000Examples_stratified_ds.2022A.pkl",
     "seed": 1337,
     "test_k_factor": 2,
     "torch_default_dtype": "torch.float32",
     "train_k_factor": 3,
     "val_k_factor": 2,
     "x_net": [
      {
       "class": "nnReshape",
       "kargs": {
        "shape": [
         -1,
         1,
         2,
         256
        ]
       }
      },
      {
       "class": "Conv2d",
       "kargs": {
        "bias": false,
        "in_channels": 1,
        "kernel_size": [
         1,
         7
        ],
        "out_channels": 256,
        "padding": [
         0,
         3
        ]
       }
      },
      {
       "class": "ReLU",
       "kargs": {
        "inplace": true
       }
      },
      {
       "class": "BatchNorm2d",
       "kargs": {
        "num_features": 256
       }
      },
      {
       "class": "Conv2d",
       "kargs": {
        "bias": true,
        "in_channels": 256,
        "kernel_size": [
         2,
         7
        ],
        "out_channels": 80,
        "padding": [
         0,
         3
        ]
       }
      },
      {
       "class": "ReLU",
       "kargs": {
        "inplace": true
       }
      },
      {
       "class": "BatchNorm2d",
       "kargs": {
        "num_features": 80
       }
      },
      {
       "class": "Flatten",
       "kargs": {}
      },
      {
       "class": "Linear",
       "kargs": {
        "in_features": 20480,
        "out_features": 256
       }
      },
      {
       "class": "ReLU",
       "kargs": {
        "inplace": true
       }
      },
      {
       "class": "BatchNorm1d",
       "kargs": {
        "num_features": 256
       }
      },
      {
       "class": "Linear",
       "kargs": {
        "in_features": 256,
        "out_features": 256
       }
      }
     ],
     "x_transforms_source": [
      "unit_mag"
     ],
     "x_transforms_target": [
      "unit_mag"
     ]
    }
   },
   "start_time": "2022-03-06T02:20:07.325953",
   "version": "2.3.4"
  }
 },
 "nbformat": 4,
 "nbformat_minor": 5
}