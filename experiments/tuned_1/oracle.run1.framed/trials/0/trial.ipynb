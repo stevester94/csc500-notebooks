{
 "cells": [
  {
   "cell_type": "markdown",
   "id": "9fea5f46",
   "metadata": {
    "papermill": {
     "duration": 0.010855,
     "end_time": "2022-03-06T01:01:55.488061",
     "exception": false,
     "start_time": "2022-03-06T01:01:55.477206",
     "status": "completed"
    },
    "tags": []
   },
   "source": [
    "# PTN Template\n",
    "This notebook serves as a template for single dataset PTN experiments  \n",
    "It can be run on its own by setting STANDALONE to True (do a find for \"STANDALONE\" to see where)  \n",
    "But it is intended to be executed as part of a *papermill.py script. See any of the   \n",
    "experimentes with a papermill script to get started with that workflow.  "
   ]
  },
  {
   "cell_type": "code",
   "execution_count": 1,
   "id": "0902182a",
   "metadata": {
    "execution": {
     "iopub.execute_input": "2022-03-06T01:01:55.520348Z",
     "iopub.status.busy": "2022-03-06T01:01:55.519787Z",
     "iopub.status.idle": "2022-03-06T01:01:56.274306Z",
     "shell.execute_reply": "2022-03-06T01:01:56.273780Z"
    },
    "papermill": {
     "duration": 0.77692,
     "end_time": "2022-03-06T01:01:56.274432",
     "exception": false,
     "start_time": "2022-03-06T01:01:55.497512",
     "status": "completed"
    },
    "tags": []
   },
   "outputs": [],
   "source": [
    "%load_ext autoreload\n",
    "%autoreload 2\n",
    "%matplotlib inline\n",
    "\n",
    "    \n",
    "import os, json, sys, time, random\n",
    "import numpy as np\n",
    "import torch\n",
    "from torch.optim import Adam\n",
    "from  easydict import EasyDict\n",
    "import matplotlib.pyplot as plt\n",
    "\n",
    "from steves_models.steves_ptn import Steves_Prototypical_Network\n",
    "\n",
    "from steves_utils.lazy_iterable_wrapper import Lazy_Iterable_Wrapper\n",
    "from steves_utils.iterable_aggregator import Iterable_Aggregator\n",
    "from steves_utils.ptn_train_eval_test_jig import  PTN_Train_Eval_Test_Jig\n",
    "from steves_utils.torch_sequential_builder import build_sequential\n",
    "from steves_utils.torch_utils import get_dataset_metrics, ptn_confusion_by_domain_over_dataloader\n",
    "from steves_utils.utils_v2 import (per_domain_accuracy_from_confusion, get_datasets_base_path)\n",
    "from steves_utils.PTN.utils import independent_accuracy_assesment\n",
    "\n",
    "from steves_utils.stratified_dataset.episodic_accessor import Episodic_Accessor_Factory\n",
    "\n",
    "from steves_utils.ptn_do_report import (\n",
    "    get_loss_curve,\n",
    "    get_results_table,\n",
    "    get_parameters_table,\n",
    "    get_domain_accuracies,\n",
    ")\n",
    "\n",
    "from steves_utils.transforms import get_chained_transform"
   ]
  },
  {
   "cell_type": "markdown",
   "id": "41c840b4",
   "metadata": {
    "papermill": {
     "duration": 0.00958,
     "end_time": "2022-03-06T01:01:56.299077",
     "exception": false,
     "start_time": "2022-03-06T01:01:56.289497",
     "status": "completed"
    },
    "tags": []
   },
   "source": [
    "# Required Parameters\n",
    "These are allowed parameters, not defaults\n",
    "Each of these values need to be present in the injected parameters (the notebook will raise an exception if they are not present)\n",
    "\n",
    "Papermill uses the cell tag \"parameters\" to inject the real parameters below this cell.\n",
    "Enable tags to see what I mean"
   ]
  },
  {
   "cell_type": "code",
   "execution_count": 2,
   "id": "fd44eb83",
   "metadata": {
    "execution": {
     "iopub.execute_input": "2022-03-06T01:01:56.320146Z",
     "iopub.status.busy": "2022-03-06T01:01:56.318665Z",
     "iopub.status.idle": "2022-03-06T01:01:56.334429Z",
     "shell.execute_reply": "2022-03-06T01:01:56.333653Z"
    },
    "papermill": {
     "duration": 0.026516,
     "end_time": "2022-03-06T01:01:56.334582",
     "exception": false,
     "start_time": "2022-03-06T01:01:56.308066",
     "status": "completed"
    },
    "tags": []
   },
   "outputs": [],
   "source": [
    "required_parameters = {\n",
    "    \"experiment_name\",\n",
    "    \"lr\",\n",
    "    \"device\",\n",
    "    \"seed\",\n",
    "    \"dataset_seed\",\n",
    "    \"labels_source\",\n",
    "    \"labels_target\",\n",
    "    \"domains_source\",\n",
    "    \"domains_target\",\n",
    "    \"num_examples_per_domain_per_label_source\",\n",
    "    \"num_examples_per_domain_per_label_target\",\n",
    "    \"n_shot\",\n",
    "    \"n_way\",\n",
    "    \"n_query\",\n",
    "    \"train_k_factor\",\n",
    "    \"val_k_factor\",\n",
    "    \"test_k_factor\",\n",
    "    \"n_epoch\",\n",
    "    \"patience\",\n",
    "    \"criteria_for_best\",\n",
    "    \"x_transforms_source\",\n",
    "    \"x_transforms_target\",\n",
    "    \"episode_transforms_source\",\n",
    "    \"episode_transforms_target\",\n",
    "    \"pickle_name\",\n",
    "    \"x_net\",\n",
    "    \"NUM_LOGS_PER_EPOCH\",\n",
    "    \"BEST_MODEL_PATH\",\n",
    "    \"torch_default_dtype\"\n",
    "}"
   ]
  },
  {
   "cell_type": "code",
   "execution_count": 3,
   "id": "fa3f0049",
   "metadata": {
    "execution": {
     "iopub.execute_input": "2022-03-06T01:01:56.369085Z",
     "iopub.status.busy": "2022-03-06T01:01:56.365216Z",
     "iopub.status.idle": "2022-03-06T01:01:56.379967Z",
     "shell.execute_reply": "2022-03-06T01:01:56.379566Z"
    },
    "papermill": {
     "duration": 0.030964,
     "end_time": "2022-03-06T01:01:56.380073",
     "exception": false,
     "start_time": "2022-03-06T01:01:56.349109",
     "status": "completed"
    },
    "tags": [
     "parameters"
    ]
   },
   "outputs": [],
   "source": [
    "\n",
    "\n",
    "standalone_parameters = {}\n",
    "standalone_parameters[\"experiment_name\"] = \"STANDALONE PTN\"\n",
    "standalone_parameters[\"lr\"] = 0.0001\n",
    "standalone_parameters[\"device\"] = \"cuda\"\n",
    "\n",
    "standalone_parameters[\"seed\"] = 1337\n",
    "standalone_parameters[\"dataset_seed\"] = 1337\n",
    "\n",
    "\n",
    "standalone_parameters[\"num_examples_per_domain_per_label_source\"]=100\n",
    "standalone_parameters[\"num_examples_per_domain_per_label_target\"]=100\n",
    "\n",
    "standalone_parameters[\"n_shot\"] = 3\n",
    "standalone_parameters[\"n_query\"]  = 2\n",
    "standalone_parameters[\"train_k_factor\"] = 1\n",
    "standalone_parameters[\"val_k_factor\"] = 2\n",
    "standalone_parameters[\"test_k_factor\"] = 2\n",
    "\n",
    "\n",
    "standalone_parameters[\"n_epoch\"] = 100\n",
    "\n",
    "standalone_parameters[\"patience\"] = 10\n",
    "standalone_parameters[\"criteria_for_best\"] = \"target_accuracy\"\n",
    "\n",
    "standalone_parameters[\"x_transforms_source\"] = [\"unit_power\"]\n",
    "standalone_parameters[\"x_transforms_target\"] = [\"unit_power\"]\n",
    "standalone_parameters[\"episode_transforms_source\"] = []\n",
    "standalone_parameters[\"episode_transforms_target\"] = []\n",
    "\n",
    "standalone_parameters[\"torch_default_dtype\"] = \"torch.float32\" \n",
    "\n",
    "\n",
    "\n",
    "standalone_parameters[\"x_net\"] =     [\n",
    "    {\"class\": \"nnReshape\", \"kargs\": {\"shape\":[-1, 1, 2, 256]}},\n",
    "    {\"class\": \"Conv2d\", \"kargs\": { \"in_channels\":1, \"out_channels\":256, \"kernel_size\":(1,7), \"bias\":False, \"padding\":(0,3), },},\n",
    "    {\"class\": \"ReLU\", \"kargs\": {\"inplace\": True}},\n",
    "    {\"class\": \"BatchNorm2d\", \"kargs\": {\"num_features\":256}},\n",
    "\n",
    "    {\"class\": \"Conv2d\", \"kargs\": { \"in_channels\":256, \"out_channels\":80, \"kernel_size\":(2,7), \"bias\":True, \"padding\":(0,3), },},\n",
    "    {\"class\": \"ReLU\", \"kargs\": {\"inplace\": True}},\n",
    "    {\"class\": \"BatchNorm2d\", \"kargs\": {\"num_features\":80}},\n",
    "    {\"class\": \"Flatten\", \"kargs\": {}},\n",
    "\n",
    "    {\"class\": \"Linear\", \"kargs\": {\"in_features\": 80*256, \"out_features\": 256}}, # 80 units per IQ pair\n",
    "    {\"class\": \"ReLU\", \"kargs\": {\"inplace\": True}},\n",
    "    {\"class\": \"BatchNorm1d\", \"kargs\": {\"num_features\":256}},\n",
    "\n",
    "    {\"class\": \"Linear\", \"kargs\": {\"in_features\": 256, \"out_features\": 256}},\n",
    "]\n",
    "\n",
    "# Parameters relevant to results\n",
    "# These parameters will basically never need to change\n",
    "standalone_parameters[\"NUM_LOGS_PER_EPOCH\"] = 10\n",
    "standalone_parameters[\"BEST_MODEL_PATH\"] = \"./best_model.pth\"\n",
    "\n",
    "# uncomment for CORES dataset\n",
    "from steves_utils.CORES.utils import (\n",
    "    ALL_NODES,\n",
    "    ALL_NODES_MINIMUM_1000_EXAMPLES,\n",
    "    ALL_DAYS\n",
    ")\n",
    "\n",
    "\n",
    "standalone_parameters[\"labels_source\"] = ALL_NODES\n",
    "standalone_parameters[\"labels_target\"] = ALL_NODES\n",
    "\n",
    "standalone_parameters[\"domains_source\"] = [1]\n",
    "standalone_parameters[\"domains_target\"] = [2,3,4,5]\n",
    "\n",
    "standalone_parameters[\"pickle_name\"] = \"cores.stratified_ds.2022A.pkl\"\n",
    "\n",
    "\n",
    "# Uncomment these for ORACLE dataset\n",
    "# from steves_utils.ORACLE.utils_v2 import (\n",
    "#     ALL_DISTANCES_FEET,\n",
    "#     ALL_RUNS,\n",
    "#     ALL_SERIAL_NUMBERS,\n",
    "# )\n",
    "# standalone_parameters[\"labels_source\"] = ALL_SERIAL_NUMBERS\n",
    "# standalone_parameters[\"labels_target\"] = ALL_SERIAL_NUMBERS\n",
    "# standalone_parameters[\"domains_source\"] = [8,20, 38,50]\n",
    "# standalone_parameters[\"domains_target\"] = [14, 26, 32, 44, 56]\n",
    "# standalone_parameters[\"pickle_name\"] = \"oracle.frame_indexed.stratified_ds.2022A.pkl\"\n",
    "# standalone_parameters[\"num_examples_per_domain_per_label_source\"]=1000\n",
    "# standalone_parameters[\"num_examples_per_domain_per_label_target\"]=1000\n",
    "\n",
    "# Uncomment these for Metahan dataset\n",
    "# standalone_parameters[\"labels_source\"] = list(range(19))\n",
    "# standalone_parameters[\"labels_target\"] = list(range(19))\n",
    "# standalone_parameters[\"domains_source\"] = [0]\n",
    "# standalone_parameters[\"domains_target\"] = [1]\n",
    "# standalone_parameters[\"pickle_name\"] = \"metehan.stratified_ds.2022A.pkl\"\n",
    "# standalone_parameters[\"n_way\"]  = len(standalone_parameters[\"labels_source\"])\n",
    "# standalone_parameters[\"num_examples_per_domain_per_label_source\"]=200\n",
    "# standalone_parameters[\"num_examples_per_domain_per_label_target\"]=100\n",
    "\n",
    "\n",
    "standalone_parameters[\"n_way\"]  = len(standalone_parameters[\"labels_source\"])"
   ]
  },
  {
   "cell_type": "code",
   "execution_count": 4,
   "id": "aaa87e08",
   "metadata": {
    "execution": {
     "iopub.execute_input": "2022-03-06T01:01:56.414888Z",
     "iopub.status.busy": "2022-03-06T01:01:56.414467Z",
     "iopub.status.idle": "2022-03-06T01:01:56.425418Z",
     "shell.execute_reply": "2022-03-06T01:01:56.424998Z"
    },
    "papermill": {
     "duration": 0.029151,
     "end_time": "2022-03-06T01:01:56.425525",
     "exception": false,
     "start_time": "2022-03-06T01:01:56.396374",
     "status": "completed"
    },
    "tags": [
     "injected-parameters"
    ]
   },
   "outputs": [],
   "source": [
    "# Parameters\n",
    "parameters = {\n",
    "    \"experiment_name\": \"tuned_1_oracle.run1.framed\",\n",
    "    \"device\": \"cuda\",\n",
    "    \"lr\": 0.001,\n",
    "    \"seed\": 1337,\n",
    "    \"dataset_seed\": 1337,\n",
    "    \"labels_source\": [\n",
    "        \"3123D52\",\n",
    "        \"3123D65\",\n",
    "        \"3123D79\",\n",
    "        \"3123D80\",\n",
    "        \"3123D54\",\n",
    "        \"3123D70\",\n",
    "        \"3123D7B\",\n",
    "        \"3123D89\",\n",
    "        \"3123D58\",\n",
    "        \"3123D76\",\n",
    "        \"3123D7D\",\n",
    "        \"3123EFE\",\n",
    "        \"3123D64\",\n",
    "        \"3123D78\",\n",
    "        \"3123D7E\",\n",
    "        \"3124E4A\",\n",
    "    ],\n",
    "    \"labels_target\": [\n",
    "        \"3123D52\",\n",
    "        \"3123D65\",\n",
    "        \"3123D79\",\n",
    "        \"3123D80\",\n",
    "        \"3123D54\",\n",
    "        \"3123D70\",\n",
    "        \"3123D7B\",\n",
    "        \"3123D89\",\n",
    "        \"3123D58\",\n",
    "        \"3123D76\",\n",
    "        \"3123D7D\",\n",
    "        \"3123EFE\",\n",
    "        \"3123D64\",\n",
    "        \"3123D78\",\n",
    "        \"3123D7E\",\n",
    "        \"3124E4A\",\n",
    "    ],\n",
    "    \"x_transforms_source\": [\"unit_mag\"],\n",
    "    \"x_transforms_target\": [\"unit_mag\"],\n",
    "    \"episode_transforms_source\": [],\n",
    "    \"episode_transforms_target\": [],\n",
    "    \"domains_source\": [8, 32, 50],\n",
    "    \"domains_target\": [14, 20, 26, 38, 44],\n",
    "    \"num_examples_per_domain_per_label_source\": 1300,\n",
    "    \"num_examples_per_domain_per_label_target\": 1300,\n",
    "    \"n_shot\": 3,\n",
    "    \"n_way\": 16,\n",
    "    \"n_query\": 2,\n",
    "    \"train_k_factor\": 3,\n",
    "    \"val_k_factor\": 2,\n",
    "    \"test_k_factor\": 2,\n",
    "    \"torch_default_dtype\": \"torch.float32\",\n",
    "    \"n_epoch\": 50,\n",
    "    \"patience\": 3,\n",
    "    \"criteria_for_best\": \"target_loss\",\n",
    "    \"x_net\": [\n",
    "        {\"class\": \"nnReshape\", \"kargs\": {\"shape\": [-1, 1, 2, 256]}},\n",
    "        {\n",
    "            \"class\": \"Conv2d\",\n",
    "            \"kargs\": {\n",
    "                \"in_channels\": 1,\n",
    "                \"out_channels\": 256,\n",
    "                \"kernel_size\": [1, 7],\n",
    "                \"bias\": False,\n",
    "                \"padding\": [0, 3],\n",
    "            },\n",
    "        },\n",
    "        {\"class\": \"ReLU\", \"kargs\": {\"inplace\": True}},\n",
    "        {\"class\": \"BatchNorm2d\", \"kargs\": {\"num_features\": 256}},\n",
    "        {\n",
    "            \"class\": \"Conv2d\",\n",
    "            \"kargs\": {\n",
    "                \"in_channels\": 256,\n",
    "                \"out_channels\": 80,\n",
    "                \"kernel_size\": [2, 7],\n",
    "                \"bias\": True,\n",
    "                \"padding\": [0, 3],\n",
    "            },\n",
    "        },\n",
    "        {\"class\": \"ReLU\", \"kargs\": {\"inplace\": True}},\n",
    "        {\"class\": \"BatchNorm2d\", \"kargs\": {\"num_features\": 80}},\n",
    "        {\"class\": \"Flatten\", \"kargs\": {}},\n",
    "        {\"class\": \"Linear\", \"kargs\": {\"in_features\": 20480, \"out_features\": 256}},\n",
    "        {\"class\": \"ReLU\", \"kargs\": {\"inplace\": True}},\n",
    "        {\"class\": \"BatchNorm1d\", \"kargs\": {\"num_features\": 256}},\n",
    "        {\"class\": \"Linear\", \"kargs\": {\"in_features\": 256, \"out_features\": 256}},\n",
    "    ],\n",
    "    \"NUM_LOGS_PER_EPOCH\": 10,\n",
    "    \"BEST_MODEL_PATH\": \"./best_model.pth\",\n",
    "    \"pickle_name\": \"oracle.Run1_framed_1300Examples_stratified_ds.2022A.pkl\",\n",
    "}\n"
   ]
  },
  {
   "cell_type": "code",
   "execution_count": 5,
   "id": "8fa1cc33",
   "metadata": {
    "execution": {
     "iopub.execute_input": "2022-03-06T01:01:56.452575Z",
     "iopub.status.busy": "2022-03-06T01:01:56.452319Z",
     "iopub.status.idle": "2022-03-06T01:01:56.464303Z",
     "shell.execute_reply": "2022-03-06T01:01:56.464665Z"
    },
    "papermill": {
     "duration": 0.025318,
     "end_time": "2022-03-06T01:01:56.464786",
     "exception": false,
     "start_time": "2022-03-06T01:01:56.439468",
     "status": "completed"
    },
    "tags": []
   },
   "outputs": [],
   "source": [
    "# Set this to True if you want to run this template directly\n",
    "STANDALONE = False\n",
    "if STANDALONE:\n",
    "    print(\"parameters not injected, running with standalone_parameters\")\n",
    "    parameters = standalone_parameters\n",
    "\n",
    "if not 'parameters' in locals() and not 'parameters' in globals():\n",
    "    raise Exception(\"Parameter injection failed\")\n",
    "\n",
    "#Use an easy dict for all the parameters\n",
    "p = EasyDict(parameters)\n",
    "\n",
    "supplied_keys = set(p.keys())\n",
    "\n",
    "if  supplied_keys != required_parameters:\n",
    "    print(\"Parameters are incorrect\")\n",
    "    if len(supplied_keys - required_parameters)>0: print(\"Shouldn't have:\", str(supplied_keys - required_parameters))\n",
    "    if len(required_parameters - supplied_keys)>0: print(\"Need to have:\", str(required_parameters - supplied_keys))\n",
    "    raise RuntimeError(\"Parameters are incorrect\")\n",
    "\n"
   ]
  },
  {
   "cell_type": "code",
   "execution_count": 6,
   "id": "3a028d58",
   "metadata": {
    "execution": {
     "iopub.execute_input": "2022-03-06T01:01:56.490939Z",
     "iopub.status.busy": "2022-03-06T01:01:56.490681Z",
     "iopub.status.idle": "2022-03-06T01:01:56.503133Z",
     "shell.execute_reply": "2022-03-06T01:01:56.503420Z"
    },
    "papermill": {
     "duration": 0.024402,
     "end_time": "2022-03-06T01:01:56.503515",
     "exception": false,
     "start_time": "2022-03-06T01:01:56.479113",
     "status": "completed"
    },
    "tags": []
   },
   "outputs": [],
   "source": [
    "###################################\n",
    "# Set the RNGs and make it all deterministic\n",
    "###################################\n",
    "np.random.seed(p.seed)\n",
    "random.seed(p.seed)\n",
    "torch.manual_seed(p.seed)\n",
    "\n",
    "torch.use_deterministic_algorithms(True) "
   ]
  },
  {
   "cell_type": "code",
   "execution_count": 7,
   "id": "b691acf6",
   "metadata": {
    "execution": {
     "iopub.execute_input": "2022-03-06T01:01:56.529846Z",
     "iopub.status.busy": "2022-03-06T01:01:56.529596Z",
     "iopub.status.idle": "2022-03-06T01:01:56.543392Z",
     "shell.execute_reply": "2022-03-06T01:01:56.542965Z"
    },
    "papermill": {
     "duration": 0.02568,
     "end_time": "2022-03-06T01:01:56.543493",
     "exception": false,
     "start_time": "2022-03-06T01:01:56.517813",
     "status": "completed"
    },
    "tags": []
   },
   "outputs": [],
   "source": [
    "###########################################\n",
    "# The stratified datasets honor this\n",
    "###########################################\n",
    "torch.set_default_dtype(eval(p.torch_default_dtype))"
   ]
  },
  {
   "cell_type": "code",
   "execution_count": 8,
   "id": "b5fba671",
   "metadata": {
    "execution": {
     "iopub.execute_input": "2022-03-06T01:01:56.566060Z",
     "iopub.status.busy": "2022-03-06T01:01:56.565806Z",
     "iopub.status.idle": "2022-03-06T01:01:56.601109Z",
     "shell.execute_reply": "2022-03-06T01:01:56.600580Z"
    },
    "papermill": {
     "duration": 0.046554,
     "end_time": "2022-03-06T01:01:56.601220",
     "exception": false,
     "start_time": "2022-03-06T01:01:56.554666",
     "status": "completed"
    },
    "tags": []
   },
   "outputs": [],
   "source": [
    "###################################\n",
    "# Build the network(s)\n",
    "# Note: It's critical to do this AFTER setting the RNG\n",
    "# (This is due to the randomized initial weights)\n",
    "###################################\n",
    "x_net = build_sequential(p.x_net)"
   ]
  },
  {
   "cell_type": "code",
   "execution_count": 9,
   "id": "5d7e61cc",
   "metadata": {
    "execution": {
     "iopub.execute_input": "2022-03-06T01:01:56.625554Z",
     "iopub.status.busy": "2022-03-06T01:01:56.625296Z",
     "iopub.status.idle": "2022-03-06T01:01:56.637664Z",
     "shell.execute_reply": "2022-03-06T01:01:56.638047Z"
    },
    "papermill": {
     "duration": 0.02414,
     "end_time": "2022-03-06T01:01:56.638168",
     "exception": false,
     "start_time": "2022-03-06T01:01:56.614028",
     "status": "completed"
    },
    "tags": []
   },
   "outputs": [],
   "source": [
    "start_time_secs = time.time()"
   ]
  },
  {
   "cell_type": "code",
   "execution_count": 10,
   "id": "fd5442bc",
   "metadata": {
    "execution": {
     "iopub.execute_input": "2022-03-06T01:01:56.669806Z",
     "iopub.status.busy": "2022-03-06T01:01:56.669403Z",
     "iopub.status.idle": "2022-03-06T01:02:07.006035Z",
     "shell.execute_reply": "2022-03-06T01:02:07.005488Z"
    },
    "papermill": {
     "duration": 10.353746,
     "end_time": "2022-03-06T01:02:07.006146",
     "exception": false,
     "start_time": "2022-03-06T01:01:56.652400",
     "status": "completed"
    },
    "tags": []
   },
   "outputs": [],
   "source": [
    "###################################\n",
    "# Build the dataset\n",
    "###################################\n",
    "\n",
    "if p.x_transforms_source == []: x_transform_source = None\n",
    "else: x_transform_source = get_chained_transform(p.x_transforms_source) \n",
    "\n",
    "if p.x_transforms_target == []: x_transform_target = None\n",
    "else: x_transform_target = get_chained_transform(p.x_transforms_target)\n",
    "\n",
    "if p.episode_transforms_source == []: episode_transform_source = None\n",
    "else: raise Exception(\"episode_transform_source not implemented\")\n",
    "\n",
    "if p.episode_transforms_target == []: episode_transform_target = None\n",
    "else: raise Exception(\"episode_transform_target not implemented\")\n",
    "\n",
    "\n",
    "eaf_source = Episodic_Accessor_Factory(\n",
    "    labels=p.labels_source,\n",
    "    domains=p.domains_source,\n",
    "    num_examples_per_domain_per_label=p.num_examples_per_domain_per_label_source,\n",
    "    iterator_seed=p.seed,\n",
    "    dataset_seed=p.dataset_seed,\n",
    "    n_shot=p.n_shot,\n",
    "    n_way=p.n_way,\n",
    "    n_query=p.n_query,\n",
    "    train_val_test_k_factors=(p.train_k_factor,p.val_k_factor,p.test_k_factor),\n",
    "    pickle_path=os.path.join(get_datasets_base_path(), p.pickle_name),\n",
    "    x_transform_func=x_transform_source,\n",
    "    example_transform_func=episode_transform_source,\n",
    "    \n",
    ")\n",
    "train_original_source, val_original_source, test_original_source = eaf_source.get_train(), eaf_source.get_val(), eaf_source.get_test()\n",
    "\n",
    "\n",
    "eaf_target = Episodic_Accessor_Factory(\n",
    "    labels=p.labels_target,\n",
    "    domains=p.domains_target,\n",
    "    num_examples_per_domain_per_label=p.num_examples_per_domain_per_label_target,\n",
    "    iterator_seed=p.seed,\n",
    "    dataset_seed=p.dataset_seed,\n",
    "    n_shot=p.n_shot,\n",
    "    n_way=p.n_way,\n",
    "    n_query=p.n_query,\n",
    "    train_val_test_k_factors=(p.train_k_factor,p.val_k_factor,p.test_k_factor),\n",
    "    pickle_path=os.path.join(get_datasets_base_path(), p.pickle_name),\n",
    "    x_transform_func=x_transform_target,\n",
    "    example_transform_func=episode_transform_target,\n",
    ")\n",
    "train_original_target, val_original_target, test_original_target = eaf_target.get_train(), eaf_target.get_val(), eaf_target.get_test()\n",
    "\n",
    "\n",
    "transform_lambda = lambda ex: ex[1] # Original is (<domain>, <episode>) so we strip down to episode only\n",
    "\n",
    "train_processed_source = Lazy_Iterable_Wrapper(train_original_source, transform_lambda)\n",
    "val_processed_source   = Lazy_Iterable_Wrapper(val_original_source, transform_lambda)\n",
    "test_processed_source  = Lazy_Iterable_Wrapper(test_original_source, transform_lambda)\n",
    "\n",
    "train_processed_target = Lazy_Iterable_Wrapper(train_original_target, transform_lambda)\n",
    "val_processed_target   = Lazy_Iterable_Wrapper(val_original_target, transform_lambda)\n",
    "test_processed_target  = Lazy_Iterable_Wrapper(test_original_target, transform_lambda)\n",
    "\n",
    "datasets = EasyDict({\n",
    "    \"source\": {\n",
    "        \"original\": {\"train\":train_original_source, \"val\":val_original_source, \"test\":test_original_source},\n",
    "        \"processed\": {\"train\":train_processed_source, \"val\":val_processed_source, \"test\":test_processed_source}\n",
    "    },\n",
    "    \"target\": {\n",
    "        \"original\": {\"train\":train_original_target, \"val\":val_original_target, \"test\":test_original_target},\n",
    "        \"processed\": {\"train\":train_processed_target, \"val\":val_processed_target, \"test\":test_processed_target}\n",
    "    },\n",
    "})"
   ]
  },
  {
   "cell_type": "code",
   "execution_count": 11,
   "id": "296189d9",
   "metadata": {
    "execution": {
     "iopub.execute_input": "2022-03-06T01:02:07.035105Z",
     "iopub.status.busy": "2022-03-06T01:02:07.034838Z",
     "iopub.status.idle": "2022-03-06T01:02:08.702438Z",
     "shell.execute_reply": "2022-03-06T01:02:08.702980Z"
    },
    "papermill": {
     "duration": 1.682491,
     "end_time": "2022-03-06T01:02:08.703122",
     "exception": false,
     "start_time": "2022-03-06T01:02:07.020631",
     "status": "completed"
    },
    "tags": []
   },
   "outputs": [
    {
     "name": "stdout",
     "output_type": "stream",
     "text": [
      "Visually inspect these to see if they line up with expected values given the transforms\n",
      "x_transforms_source ['unit_mag']\n",
      "x_transforms_target ['unit_mag']\n",
      "Average magnitude, source: 1.0\n",
      "Average power, source: 1.1967174\n"
     ]
    },
    {
     "name": "stdout",
     "output_type": "stream",
     "text": [
      "Average magnitude, target: 1.0\n",
      "Average power, target: 1.2712152\n"
     ]
    }
   ],
   "source": [
    "# Some quick unit tests on the data\n",
    "from steves_utils.transforms import get_average_power, get_average_magnitude\n",
    "\n",
    "q_x, q_y, s_x, s_y, truth = next(iter(train_processed_source))\n",
    "\n",
    "assert q_x.dtype == eval(p.torch_default_dtype)\n",
    "assert s_x.dtype == eval(p.torch_default_dtype)\n",
    "\n",
    "print(\"Visually inspect these to see if they line up with expected values given the transforms\")\n",
    "print('x_transforms_source', p.x_transforms_source)\n",
    "print('x_transforms_target', p.x_transforms_target)\n",
    "print(\"Average magnitude, source:\", get_average_magnitude(q_x[0].numpy()))\n",
    "print(\"Average power, source:\", get_average_power(q_x[0].numpy()))\n",
    "\n",
    "q_x, q_y, s_x, s_y, truth = next(iter(train_processed_target))\n",
    "print(\"Average magnitude, target:\", get_average_magnitude(q_x[0].numpy()))\n",
    "print(\"Average power, target:\", get_average_power(q_x[0].numpy()))\n"
   ]
  },
  {
   "cell_type": "code",
   "execution_count": 12,
   "id": "bbdacba1",
   "metadata": {
    "execution": {
     "iopub.execute_input": "2022-03-06T01:02:08.732097Z",
     "iopub.status.busy": "2022-03-06T01:02:08.731837Z",
     "iopub.status.idle": "2022-03-06T01:02:08.787678Z",
     "shell.execute_reply": "2022-03-06T01:02:08.787453Z"
    },
    "papermill": {
     "duration": 0.070222,
     "end_time": "2022-03-06T01:02:08.787741",
     "exception": false,
     "start_time": "2022-03-06T01:02:08.717519",
     "status": "completed"
    },
    "tags": []
   },
   "outputs": [
    {
     "name": "stdout",
     "output_type": "stream",
     "text": [
      "(2, 256)\n"
     ]
    }
   ],
   "source": [
    "###################################\n",
    "# Build the model\n",
    "###################################\n",
    "model = Steves_Prototypical_Network(x_net, device=p.device, x_shape=(2,256))\n",
    "optimizer = Adam(params=model.parameters(), lr=p.lr)"
   ]
  },
  {
   "cell_type": "code",
   "execution_count": 13,
   "id": "22b39ac5",
   "metadata": {
    "execution": {
     "iopub.execute_input": "2022-03-06T01:02:08.812324Z",
     "iopub.status.busy": "2022-03-06T01:02:08.812058Z",
     "iopub.status.idle": "2022-03-06T01:06:01.970665Z",
     "shell.execute_reply": "2022-03-06T01:06:01.970152Z"
    },
    "papermill": {
     "duration": 233.172568,
     "end_time": "2022-03-06T01:06:01.970787",
     "exception": false,
     "start_time": "2022-03-06T01:02:08.798219",
     "status": "completed"
    },
    "tags": []
   },
   "outputs": [
    {
     "name": "stdout",
     "output_type": "stream",
     "text": [
      "epoch: 1, [batch: 1 / 1629], examples_per_second: 182.6355, train_label_loss: 2.7765, \n"
     ]
    },
    {
     "name": "stdout",
     "output_type": "stream",
     "text": [
      "epoch: 1, [batch: 163 / 1629], examples_per_second: 3132.0651, train_label_loss: 2.8570, \n"
     ]
    },
    {
     "name": "stdout",
     "output_type": "stream",
     "text": [
      "epoch: 1, [batch: 326 / 1629], examples_per_second: 3117.9017, train_label_loss: 2.0033, \n"
     ]
    },
    {
     "name": "stdout",
     "output_type": "stream",
     "text": [
      "epoch: 1, [batch: 489 / 1629], examples_per_second: 3130.6997, train_label_loss: 1.4150, \n"
     ]
    },
    {
     "name": "stdout",
     "output_type": "stream",
     "text": [
      "epoch: 1, [batch: 652 / 1629], examples_per_second: 3121.6986, train_label_loss: 1.4579, \n"
     ]
    },
    {
     "name": "stdout",
     "output_type": "stream",
     "text": [
      "epoch: 1, [batch: 815 / 1629], examples_per_second: 3146.0321, train_label_loss: 1.2534, \n"
     ]
    },
    {
     "name": "stdout",
     "output_type": "stream",
     "text": [
      "epoch: 1, [batch: 977 / 1629], examples_per_second: 3150.5609, train_label_loss: 0.8934, \n"
     ]
    },
    {
     "name": "stdout",
     "output_type": "stream",
     "text": [
      "epoch: 1, [batch: 1140 / 1629], examples_per_second: 3132.7219, train_label_loss: 0.8441, \n"
     ]
    },
    {
     "name": "stdout",
     "output_type": "stream",
     "text": [
      "epoch: 1, [batch: 1303 / 1629], examples_per_second: 3145.1006, train_label_loss: 0.6826, \n"
     ]
    },
    {
     "name": "stdout",
     "output_type": "stream",
     "text": [
      "epoch: 1, [batch: 1466 / 1629], examples_per_second: 3128.9658, train_label_loss: 0.7686, \n"
     ]
    },
    {
     "name": "stdout",
     "output_type": "stream",
     "text": [
      "=============================================================\n",
      "epoch: 1, source_val_acc_label: 0.6882, target_val_acc_label: 0.3591, source_val_label_loss: 0.7825, target_val_label_loss: 2.1368, \n",
      "=============================================================\n"
     ]
    },
    {
     "name": "stdout",
     "output_type": "stream",
     "text": [
      "New best\n"
     ]
    },
    {
     "name": "stdout",
     "output_type": "stream",
     "text": [
      "epoch: 2, [batch: 1 / 1629], examples_per_second: 16.7565, train_label_loss: 0.8761, \n"
     ]
    },
    {
     "name": "stdout",
     "output_type": "stream",
     "text": [
      "epoch: 2, [batch: 163 / 1629], examples_per_second: 3166.6440, train_label_loss: 0.5201, \n"
     ]
    },
    {
     "name": "stdout",
     "output_type": "stream",
     "text": [
      "epoch: 2, [batch: 326 / 1629], examples_per_second: 3165.4205, train_label_loss: 0.4828, \n"
     ]
    },
    {
     "name": "stdout",
     "output_type": "stream",
     "text": [
      "epoch: 2, [batch: 489 / 1629], examples_per_second: 3170.6507, train_label_loss: 0.6771, \n"
     ]
    },
    {
     "name": "stdout",
     "output_type": "stream",
     "text": [
      "epoch: 2, [batch: 652 / 1629], examples_per_second: 3143.2349, train_label_loss: 0.3790, \n"
     ]
    },
    {
     "name": "stdout",
     "output_type": "stream",
     "text": [
      "epoch: 2, [batch: 815 / 1629], examples_per_second: 3170.1672, train_label_loss: 0.3378, \n"
     ]
    },
    {
     "name": "stdout",
     "output_type": "stream",
     "text": [
      "epoch: 2, [batch: 977 / 1629], examples_per_second: 3171.9735, train_label_loss: 0.6304, \n"
     ]
    },
    {
     "name": "stdout",
     "output_type": "stream",
     "text": [
      "epoch: 2, [batch: 1140 / 1629], examples_per_second: 3158.9018, train_label_loss: 0.0998, \n"
     ]
    },
    {
     "name": "stdout",
     "output_type": "stream",
     "text": [
      "epoch: 2, [batch: 1303 / 1629], examples_per_second: 3159.1897, train_label_loss: 0.2659, \n"
     ]
    },
    {
     "name": "stdout",
     "output_type": "stream",
     "text": [
      "epoch: 2, [batch: 1466 / 1629], examples_per_second: 3172.1148, train_label_loss: 0.2173, \n"
     ]
    },
    {
     "name": "stdout",
     "output_type": "stream",
     "text": [
      "=============================================================\n",
      "epoch: 2, source_val_acc_label: 0.9068, target_val_acc_label: 0.3982, source_val_label_loss: 0.2639, target_val_label_loss: 2.8939, \n",
      "=============================================================\n"
     ]
    },
    {
     "name": "stdout",
     "output_type": "stream",
     "text": [
      "epoch: 3, [batch: 1 / 1629], examples_per_second: 16.8861, train_label_loss: 0.5291, \n"
     ]
    },
    {
     "name": "stdout",
     "output_type": "stream",
     "text": [
      "epoch: 3, [batch: 163 / 1629], examples_per_second: 3155.2229, train_label_loss: 0.0619, \n"
     ]
    },
    {
     "name": "stdout",
     "output_type": "stream",
     "text": [
      "epoch: 3, [batch: 326 / 1629], examples_per_second: 3170.4316, train_label_loss: 0.0320, \n"
     ]
    },
    {
     "name": "stdout",
     "output_type": "stream",
     "text": [
      "epoch: 3, [batch: 489 / 1629], examples_per_second: 3182.6808, train_label_loss: 0.2445, \n"
     ]
    },
    {
     "name": "stdout",
     "output_type": "stream",
     "text": [
      "epoch: 3, [batch: 652 / 1629], examples_per_second: 3141.8091, train_label_loss: 0.0613, \n"
     ]
    },
    {
     "name": "stdout",
     "output_type": "stream",
     "text": [
      "epoch: 3, [batch: 815 / 1629], examples_per_second: 3166.4563, train_label_loss: 0.1252, \n"
     ]
    },
    {
     "name": "stdout",
     "output_type": "stream",
     "text": [
      "epoch: 3, [batch: 977 / 1629], examples_per_second: 3169.3531, train_label_loss: 0.1298, \n"
     ]
    },
    {
     "name": "stdout",
     "output_type": "stream",
     "text": [
      "epoch: 3, [batch: 1140 / 1629], examples_per_second: 3163.9193, train_label_loss: 0.0642, \n"
     ]
    },
    {
     "name": "stdout",
     "output_type": "stream",
     "text": [
      "epoch: 3, [batch: 1303 / 1629], examples_per_second: 3167.0245, train_label_loss: 0.1151, \n"
     ]
    },
    {
     "name": "stdout",
     "output_type": "stream",
     "text": [
      "epoch: 3, [batch: 1466 / 1629], examples_per_second: 3180.7368, train_label_loss: 0.1550, \n"
     ]
    },
    {
     "name": "stdout",
     "output_type": "stream",
     "text": [
      "=============================================================\n",
      "epoch: 3, source_val_acc_label: 0.9566, target_val_acc_label: 0.4057, source_val_label_loss: 0.1264, target_val_label_loss: 3.3789, \n",
      "=============================================================\n"
     ]
    },
    {
     "name": "stdout",
     "output_type": "stream",
     "text": [
      "epoch: 4, [batch: 1 / 1629], examples_per_second: 16.7610, train_label_loss: 0.0417, \n"
     ]
    },
    {
     "name": "stdout",
     "output_type": "stream",
     "text": [
      "epoch: 4, [batch: 163 / 1629], examples_per_second: 3143.4675, train_label_loss: 0.0864, \n"
     ]
    },
    {
     "name": "stdout",
     "output_type": "stream",
     "text": [
      "epoch: 4, [batch: 326 / 1629], examples_per_second: 3150.9370, train_label_loss: 0.1356, \n"
     ]
    },
    {
     "name": "stdout",
     "output_type": "stream",
     "text": [
      "epoch: 4, [batch: 489 / 1629], examples_per_second: 3165.8960, train_label_loss: 0.0106, \n"
     ]
    },
    {
     "name": "stdout",
     "output_type": "stream",
     "text": [
      "epoch: 4, [batch: 652 / 1629], examples_per_second: 3142.2782, train_label_loss: 0.1424, \n"
     ]
    },
    {
     "name": "stdout",
     "output_type": "stream",
     "text": [
      "epoch: 4, [batch: 815 / 1629], examples_per_second: 3183.5904, train_label_loss: 0.0213, \n"
     ]
    },
    {
     "name": "stdout",
     "output_type": "stream",
     "text": [
      "epoch: 4, [batch: 977 / 1629], examples_per_second: 3182.2171, train_label_loss: 0.0430, \n"
     ]
    },
    {
     "name": "stdout",
     "output_type": "stream",
     "text": [
      "epoch: 4, [batch: 1140 / 1629], examples_per_second: 3176.6550, train_label_loss: 0.2379, \n"
     ]
    },
    {
     "name": "stdout",
     "output_type": "stream",
     "text": [
      "epoch: 4, [batch: 1303 / 1629], examples_per_second: 3161.5246, train_label_loss: 0.0097, \n"
     ]
    },
    {
     "name": "stdout",
     "output_type": "stream",
     "text": [
      "epoch: 4, [batch: 1466 / 1629], examples_per_second: 3161.9186, train_label_loss: 0.0306, \n"
     ]
    },
    {
     "name": "stdout",
     "output_type": "stream",
     "text": [
      "=============================================================\n",
      "epoch: 4, source_val_acc_label: 0.9587, target_val_acc_label: 0.4046, source_val_label_loss: 0.1260, target_val_label_loss: 3.5783, \n",
      "=============================================================\n"
     ]
    },
    {
     "name": "stdout",
     "output_type": "stream",
     "text": [
      "epoch: 5, [batch: 1 / 1629], examples_per_second: 16.8490, train_label_loss: 0.1793, \n"
     ]
    },
    {
     "name": "stdout",
     "output_type": "stream",
     "text": [
      "epoch: 5, [batch: 163 / 1629], examples_per_second: 3173.1248, train_label_loss: 0.0215, \n"
     ]
    },
    {
     "name": "stdout",
     "output_type": "stream",
     "text": [
      "epoch: 5, [batch: 326 / 1629], examples_per_second: 3157.1968, train_label_loss: 0.0052, \n"
     ]
    },
    {
     "name": "stdout",
     "output_type": "stream",
     "text": [
      "epoch: 5, [batch: 489 / 1629], examples_per_second: 3154.1975, train_label_loss: 0.0011, \n"
     ]
    },
    {
     "name": "stdout",
     "output_type": "stream",
     "text": [
      "epoch: 5, [batch: 652 / 1629], examples_per_second: 3153.9436, train_label_loss: 0.0030, \n"
     ]
    },
    {
     "name": "stdout",
     "output_type": "stream",
     "text": [
      "epoch: 5, [batch: 815 / 1629], examples_per_second: 3167.8219, train_label_loss: 0.0191, \n"
     ]
    },
    {
     "name": "stdout",
     "output_type": "stream",
     "text": [
      "epoch: 5, [batch: 977 / 1629], examples_per_second: 3162.1143, train_label_loss: 0.0505, \n"
     ]
    },
    {
     "name": "stdout",
     "output_type": "stream",
     "text": [
      "epoch: 5, [batch: 1140 / 1629], examples_per_second: 3170.7525, train_label_loss: 0.0041, \n"
     ]
    },
    {
     "name": "stdout",
     "output_type": "stream",
     "text": [
      "epoch: 5, [batch: 1303 / 1629], examples_per_second: 3168.1378, train_label_loss: 0.0319, \n"
     ]
    },
    {
     "name": "stdout",
     "output_type": "stream",
     "text": [
      "epoch: 5, [batch: 1466 / 1629], examples_per_second: 3161.4659, train_label_loss: 0.0966, \n"
     ]
    },
    {
     "name": "stdout",
     "output_type": "stream",
     "text": [
      "=============================================================\n",
      "epoch: 5, source_val_acc_label: 0.9645, target_val_acc_label: 0.4152, source_val_label_loss: 0.1009, target_val_label_loss: 3.7089, \n",
      "=============================================================\n"
     ]
    },
    {
     "name": "stdout",
     "output_type": "stream",
     "text": [
      "Patience (3) exhausted\n"
     ]
    }
   ],
   "source": [
    "###################################\n",
    "# train\n",
    "###################################\n",
    "jig = PTN_Train_Eval_Test_Jig(model, p.BEST_MODEL_PATH, p.device)\n",
    "\n",
    "jig.train(\n",
    "    train_iterable=datasets.source.processed.train,\n",
    "    source_val_iterable=datasets.source.processed.val,\n",
    "    target_val_iterable=datasets.target.processed.val,\n",
    "    num_epochs=p.n_epoch,\n",
    "    num_logs_per_epoch=p.NUM_LOGS_PER_EPOCH,\n",
    "    patience=p.patience,\n",
    "    optimizer=optimizer,\n",
    "    criteria_for_best=p.criteria_for_best,\n",
    ")"
   ]
  },
  {
   "cell_type": "code",
   "execution_count": 14,
   "id": "31e8fabf",
   "metadata": {
    "execution": {
     "iopub.execute_input": "2022-03-06T01:06:02.021631Z",
     "iopub.status.busy": "2022-03-06T01:06:02.020507Z",
     "iopub.status.idle": "2022-03-06T01:06:02.036422Z",
     "shell.execute_reply": "2022-03-06T01:06:02.035943Z"
    },
    "papermill": {
     "duration": 0.040503,
     "end_time": "2022-03-06T01:06:02.036534",
     "exception": false,
     "start_time": "2022-03-06T01:06:01.996031",
     "status": "completed"
    },
    "tags": []
   },
   "outputs": [],
   "source": [
    "total_experiment_time_secs = time.time() - start_time_secs"
   ]
  },
  {
   "cell_type": "code",
   "execution_count": 15,
   "id": "87b9595b",
   "metadata": {
    "execution": {
     "iopub.execute_input": "2022-03-06T01:06:02.087385Z",
     "iopub.status.busy": "2022-03-06T01:06:02.087101Z",
     "iopub.status.idle": "2022-03-06T01:06:34.440821Z",
     "shell.execute_reply": "2022-03-06T01:06:34.441220Z"
    },
    "papermill": {
     "duration": 32.378663,
     "end_time": "2022-03-06T01:06:34.441346",
     "exception": false,
     "start_time": "2022-03-06T01:06:02.062683",
     "status": "completed"
    },
    "tags": []
   },
   "outputs": [],
   "source": [
    "###################################\n",
    "# Evaluate the model\n",
    "###################################\n",
    "source_test_label_accuracy, source_test_label_loss = jig.test(datasets.source.processed.test)\n",
    "target_test_label_accuracy, target_test_label_loss = jig.test(datasets.target.processed.test)\n",
    "\n",
    "source_val_label_accuracy, source_val_label_loss = jig.test(datasets.source.processed.val)\n",
    "target_val_label_accuracy, target_val_label_loss = jig.test(datasets.target.processed.val)\n",
    "\n",
    "history = jig.get_history()\n",
    "\n",
    "total_epochs_trained = len(history[\"epoch_indices\"])\n",
    "\n",
    "val_dl = Iterable_Aggregator((datasets.source.original.val,datasets.target.original.val))\n",
    "\n",
    "confusion = ptn_confusion_by_domain_over_dataloader(model, p.device, val_dl)\n",
    "per_domain_accuracy = per_domain_accuracy_from_confusion(confusion)\n",
    "\n",
    "# Add a key to per_domain_accuracy for if it was a source domain\n",
    "for domain, accuracy in per_domain_accuracy.items():\n",
    "    per_domain_accuracy[domain] = {\n",
    "        \"accuracy\": accuracy,\n",
    "        \"source?\": domain in p.domains_source\n",
    "    }\n",
    "\n",
    "# Do an independent accuracy assesment JUST TO BE SURE!\n",
    "# _source_test_label_accuracy = independent_accuracy_assesment(model, datasets.source.processed.test, p.device)\n",
    "# _target_test_label_accuracy = independent_accuracy_assesment(model, datasets.target.processed.test, p.device)\n",
    "# _source_val_label_accuracy = independent_accuracy_assesment(model, datasets.source.processed.val, p.device)\n",
    "# _target_val_label_accuracy = independent_accuracy_assesment(model, datasets.target.processed.val, p.device)\n",
    "\n",
    "# assert(_source_test_label_accuracy == source_test_label_accuracy)\n",
    "# assert(_target_test_label_accuracy == target_test_label_accuracy)\n",
    "# assert(_source_val_label_accuracy == source_val_label_accuracy)\n",
    "# assert(_target_val_label_accuracy == target_val_label_accuracy)\n",
    "\n",
    "experiment = {\n",
    "    \"experiment_name\": p.experiment_name,\n",
    "    \"parameters\": dict(p),\n",
    "    \"results\": {\n",
    "        \"source_test_label_accuracy\": source_test_label_accuracy,\n",
    "        \"source_test_label_loss\": source_test_label_loss,\n",
    "        \"target_test_label_accuracy\": target_test_label_accuracy,\n",
    "        \"target_test_label_loss\": target_test_label_loss,\n",
    "        \"source_val_label_accuracy\": source_val_label_accuracy,\n",
    "        \"source_val_label_loss\": source_val_label_loss,\n",
    "        \"target_val_label_accuracy\": target_val_label_accuracy,\n",
    "        \"target_val_label_loss\": target_val_label_loss,\n",
    "        \"total_epochs_trained\": total_epochs_trained,\n",
    "        \"total_experiment_time_secs\": total_experiment_time_secs,\n",
    "        \"confusion\": confusion,\n",
    "        \"per_domain_accuracy\": per_domain_accuracy,\n",
    "    },\n",
    "    \"history\": history,\n",
    "    \"dataset_metrics\": get_dataset_metrics(datasets, \"ptn\"),\n",
    "}"
   ]
  },
  {
   "cell_type": "code",
   "execution_count": 16,
   "id": "54a21829",
   "metadata": {
    "execution": {
     "iopub.execute_input": "2022-03-06T01:06:34.491277Z",
     "iopub.status.busy": "2022-03-06T01:06:34.491011Z",
     "iopub.status.idle": "2022-03-06T01:06:34.684504Z",
     "shell.execute_reply": "2022-03-06T01:06:34.684229Z"
    },
    "papermill": {
     "duration": 0.215773,
     "end_time": "2022-03-06T01:06:34.684566",
     "exception": false,
     "start_time": "2022-03-06T01:06:34.468793",
     "status": "completed"
    },
    "tags": []
   },
   "outputs": [
    {
     "data": {
      "image/png": "[encoded data removed]",
      "text/plain": [
       "<Figure size 1080x504 with 1 Axes>"
      ]
     },
     "metadata": {
      "needs_background": "light"
     },
     "output_type": "display_data"
    }
   ],
   "source": [
    "ax = get_loss_curve(experiment)\n",
    "plt.show()"
   ]
  },
  {
   "cell_type": "code",
   "execution_count": 17,
   "id": "fd8a0f60",
   "metadata": {
    "execution": {
     "iopub.execute_input": "2022-03-06T01:06:34.730369Z",
     "iopub.status.busy": "2022-03-06T01:06:34.730108Z",
     "iopub.status.idle": "2022-03-06T01:06:34.909555Z",
     "shell.execute_reply": "2022-03-06T01:06:34.909977Z"
    },
    "papermill": {
     "duration": 0.203907,
     "end_time": "2022-03-06T01:06:34.910108",
     "exception": false,
     "start_time": "2022-03-06T01:06:34.706201",
     "status": "completed"
    },
    "tags": []
   },
   "outputs": [
    {
     "data": {
      "text/plain": [
       "<matplotlib.axes._subplots.AxesSubplot at 0x7f281c70e580>"
      ]
     },
     "execution_count": 17,
     "metadata": {},
     "output_type": "execute_result"
    },
    {
     "data": {
      "image/png": "[encoded data removed]",
      "text/plain": [
       "<Figure size 1080x504 with 1 Axes>"
      ]
     },
     "metadata": {
      "needs_background": "light"
     },
     "output_type": "display_data"
    }
   ],
   "source": [
    "get_results_table(experiment)"
   ]
  },
  {
   "cell_type": "code",
   "execution_count": 18,
   "id": "cf8dc689",
   "metadata": {
    "execution": {
     "iopub.execute_input": "2022-03-06T01:06:34.963994Z",
     "iopub.status.busy": "2022-03-06T01:06:34.963721Z",
     "iopub.status.idle": "2022-03-06T01:06:35.141743Z",
     "shell.execute_reply": "2022-03-06T01:06:35.141294Z"
    },
    "papermill": {
     "duration": 0.202637,
     "end_time": "2022-03-06T01:06:35.141848",
     "exception": false,
     "start_time": "2022-03-06T01:06:34.939211",
     "status": "completed"
    },
    "tags": []
   },
   "outputs": [
    {
     "data": {
      "text/plain": [
       "<matplotlib.axes._subplots.AxesSubplot at 0x7f27fa460400>"
      ]
     },
     "execution_count": 18,
     "metadata": {},
     "output_type": "execute_result"
    },
    {
     "data": {
      "image/png": "[encoded data removed]",
      "text/plain": [
       "<Figure size 1080x504 with 1 Axes>"
      ]
     },
     "metadata": {
      "needs_background": "light"
     },
     "output_type": "display_data"
    }
   ],
   "source": [
    "get_domain_accuracies(experiment)"
   ]
  },
  {
   "cell_type": "code",
   "execution_count": 19,
   "id": "a74ae082",
   "metadata": {
    "execution": {
     "iopub.execute_input": "2022-03-06T01:06:35.196384Z",
     "iopub.status.busy": "2022-03-06T01:06:35.196109Z",
     "iopub.status.idle": "2022-03-06T01:06:35.211674Z",
     "shell.execute_reply": "2022-03-06T01:06:35.212066Z"
    },
    "papermill": {
     "duration": 0.041795,
     "end_time": "2022-03-06T01:06:35.212194",
     "exception": false,
     "start_time": "2022-03-06T01:06:35.170399",
     "status": "completed"
    },
    "tags": []
   },
   "outputs": [
    {
     "name": "stdout",
     "output_type": "stream",
     "text": [
      "Source Test Label Accuracy: 0.6887019230769231 Target Test Label Accuracy: 0.3592948717948718\n",
      "Source Val Label Accuracy: 0.6881677350427351 Target Val Label Accuracy: 0.3591346153846154\n"
     ]
    }
   ],
   "source": [
    "print(\"Source Test Label Accuracy:\", experiment[\"results\"][\"source_test_label_accuracy\"], \"Target Test Label Accuracy:\", experiment[\"results\"][\"target_test_label_accuracy\"])\n",
    "print(\"Source Val Label Accuracy:\", experiment[\"results\"][\"source_val_label_accuracy\"], \"Target Val Label Accuracy:\", experiment[\"results\"][\"target_val_label_accuracy\"])"
   ]
  },
  {
   "cell_type": "code",
   "execution_count": 20,
   "id": "dacca602",
   "metadata": {
    "execution": {
     "iopub.execute_input": "2022-03-06T01:06:35.267073Z",
     "iopub.status.busy": "2022-03-06T01:06:35.266801Z",
     "iopub.status.idle": "2022-03-06T01:06:35.280345Z",
     "shell.execute_reply": "2022-03-06T01:06:35.280763Z"
    },
    "papermill": {
     "duration": 0.039168,
     "end_time": "2022-03-06T01:06:35.280890",
     "exception": false,
     "start_time": "2022-03-06T01:06:35.241722",
     "status": "completed"
    },
    "tags": [
     "experiment_json"
    ]
   },
   "outputs": [
    {
     "data": {
      "text/plain": [
       "'{\"experiment_name\": \"tuned_1_oracle.run1.framed\", \"parameters\": {\"experiment_name\": \"tuned_1_oracle.run1.framed\", \"device\": \"cuda\", \"lr\": 0.001, \"seed\": 1337, \"dataset_seed\": 1337, \"labels_source\": [\"3123D52\", \"3123D65\", \"3123D79\", \"3123D80\", \"3123D54\", \"3123D70\", \"3123D7B\", \"3123D89\", \"3123D58\", \"3123D76\", \"3123D7D\", \"3123EFE\", \"3123D64\", \"3123D78\", \"3123D7E\", \"3124E4A\"], \"labels_target\": [\"3123D52\", \"3123D65\", \"3123D79\", \"3123D80\", \"3123D54\", \"3123D70\", \"3123D7B\", \"3123D89\", \"3123D58\", \"3123D76\", \"3123D7D\", \"3123EFE\", \"3123D64\", \"3123D78\", \"3123D7E\", \"3124E4A\"], \"x_transforms_source\": [\"unit_mag\"], \"x_transforms_target\": [\"unit_mag\"], \"episode_transforms_source\": [], \"episode_transforms_target\": [], \"domains_source\": [8, 32, 50], \"domains_target\": [14, 20, 26, 38, 44], \"num_examples_per_domain_per_label_source\": 1300, \"num_examples_per_domain_per_label_target\": 1300, \"n_shot\": 3, \"n_way\": 16, \"n_query\": 2, \"train_k_factor\": 3, \"val_k_factor\": 2, \"test_k_factor\": 2, \"torch_default_dtype\": \"torch.float32\", \"n_epoch\": 50, \"patience\": 3, \"criteria_for_best\": \"target_loss\", \"x_net\": [{\"class\": \"nnReshape\", \"kargs\": {\"shape\": [-1, 1, 2, 256]}}, {\"class\": \"Conv2d\", \"kargs\": {\"in_channels\": 1, \"out_channels\": 256, \"kernel_size\": [1, 7], \"bias\": false, \"padding\": [0, 3]}}, {\"class\": \"ReLU\", \"kargs\": {\"inplace\": true}}, {\"class\": \"BatchNorm2d\", \"kargs\": {\"num_features\": 256}}, {\"class\": \"Conv2d\", \"kargs\": {\"in_channels\": 256, \"out_channels\": 80, \"kernel_size\": [2, 7], \"bias\": true, \"padding\": [0, 3]}}, {\"class\": \"ReLU\", \"kargs\": {\"inplace\": true}}, {\"class\": \"BatchNorm2d\", \"kargs\": {\"num_features\": 80}}, {\"class\": \"Flatten\", \"kargs\": {}}, {\"class\": \"Linear\", \"kargs\": {\"in_features\": 20480, \"out_features\": 256}}, {\"class\": \"ReLU\", \"kargs\": {\"inplace\": true}}, {\"class\": \"BatchNorm1d\", \"kargs\": {\"num_features\": 256}}, {\"class\": \"Linear\", \"kargs\": {\"in_features\": 256, \"out_features\": 256}}], \"NUM_LOGS_PER_EPOCH\": 10, \"BEST_MODEL_PATH\": \"./best_model.pth\", \"pickle_name\": \"oracle.Run1_framed_1300Examples_stratified_ds.2022A.pkl\"}, \"results\": {\"source_test_label_accuracy\": 0.6887019230769231, \"source_test_label_loss\": 0.7834270000457764, \"target_test_label_accuracy\": 0.3592948717948718, \"target_test_label_loss\": 2.136462688446045, \"source_val_label_accuracy\": 0.6881677350427351, \"source_val_label_loss\": 0.7824742197990417, \"target_val_label_accuracy\": 0.3591346153846154, \"target_val_label_loss\": 2.136756420135498, \"total_epochs_trained\": 5, \"total_experiment_time_secs\": 245.39808225631714, \"confusion\": {\"8\": {\"15\": {\"3\": 19, \"15\": 107, \"7\": 11, \"8\": 18, \"12\": 1}, \"3\": {\"3\": 93, \"12\": 44, \"15\": 16, \"2\": 3}, \"6\": {\"6\": 77, \"8\": 18, \"0\": 23, \"4\": 26, \"7\": 9, \"13\": 3}, \"1\": {\"1\": 90, \"10\": 27, \"5\": 27, \"11\": 3, \"14\": 7, \"4\": 2}, \"8\": {\"15\": 21, \"7\": 11, \"8\": 96, \"6\": 27, \"0\": 1}, \"10\": {\"14\": 39, \"10\": 56, \"5\": 10, \"1\": 36, \"13\": 8, \"0\": 1, \"4\": 6}, \"9\": {\"9\": 153, \"11\": 3}, \"13\": {\"0\": 23, \"4\": 21, \"13\": 88, \"6\": 1, \"14\": 17, \"7\": 2, \"10\": 4}, \"12\": {\"12\": 92, \"3\": 51, \"15\": 3, \"2\": 10}, \"5\": {\"11\": 19, \"10\": 11, \"5\": 109, \"1\": 15, \"14\": 2}, \"0\": {\"4\": 31, \"13\": 28, \"0\": 61, \"6\": 13, \"14\": 12, \"10\": 5, \"7\": 5, \"8\": 1}, \"2\": {\"2\": 147, \"12\": 6, \"3\": 3}, \"11\": {\"11\": 134, \"5\": 15, \"1\": 2, \"9\": 4, \"10\": 1}, \"14\": {\"14\": 49, \"13\": 20, \"10\": 49, \"1\": 6, \"4\": 20, \"6\": 1, \"0\": 4, \"5\": 7}, \"7\": {\"7\": 123, \"15\": 10, \"8\": 7, \"4\": 1, \"6\": 6, \"0\": 7, \"13\": 2}, \"4\": {\"4\": 49, \"6\": 18, \"7\": 2, \"13\": 26, \"14\": 17, \"8\": 2, \"10\": 11, \"0\": 30, \"1\": 1}}, \"50\": {\"3\": {\"3\": 155, \"8\": 1}, \"15\": {\"15\": 132, \"9\": 2, \"1\": 22}, \"8\": {\"8\": 147, \"10\": 9}, \"4\": {\"6\": 57, \"4\": 81, \"1\": 12, \"5\": 4, \"2\": 2}, \"14\": {\"14\": 152, \"15\": 3, \"1\": 1}, \"0\": {\"7\": 20, \"0\": 110, \"5\": 15, \"2\": 6, \"10\": 4, \"13\": 1}, \"7\": {\"13\": 28, \"7\": 94, \"5\": 16, \"0\": 16, \"10\": 2}, \"6\": {\"6\": 89, \"4\": 52, \"2\": 11, \"1\": 2, \"5\": 2}, \"10\": {\"10\": 114, \"13\": 38, \"7\": 1, \"0\": 2, \"8\": 1}, \"5\": {\"5\": 112, \"7\": 18, \"6\": 4, \"4\": 3, \"2\": 12, \"0\": 7}, \"2\": {\"2\": 130, \"5\": 6, \"6\": 14, \"0\": 4, \"4\": 2}, \"12\": {\"12\": 144, \"11\": 9, \"9\": 3}, \"9\": {\"9\": 97, \"11\": 52, \"14\": 3, \"12\": 4}, \"1\": {\"1\": 118, \"15\": 14, \"4\": 11, \"14\": 8, \"6\": 5}, \"11\": {\"11\": 94, \"9\": 54, \"12\": 8}, \"13\": {\"13\": 105, \"10\": 32, \"7\": 18, \"5\": 1}}, \"32\": {\"5\": {\"5\": 90, \"7\": 3, \"2\": 10, \"0\": 43, \"4\": 9, \"15\": 1}, \"8\": {\"8\": 79, \"13\": 24, \"14\": 34, \"7\": 10, \"3\": 3, \"11\": 2, \"15\": 1, \"0\": 3}, \"11\": {\"14\": 20, \"11\": 104, \"3\": 9, \"13\": 22, \"8\": 1}, \"1\": {\"1\": 152, \"10\": 4}, \"10\": {\"10\": 151, \"6\": 1, \"1\": 4}, \"15\": {\"15\": 132, \"5\": 8, \"8\": 3, \"0\": 13}, \"3\": {\"14\": 29, \"3\": 95, \"8\": 12, \"11\": 17, \"13\": 3}, \"7\": {\"11\": 2, \"7\": 60, \"8\": 15, \"4\": 39, \"13\": 24, \"14\": 4, \"0\": 11, \"5\": 1}, \"4\": {\"4\": 88, \"7\": 38, \"0\": 15, \"2\": 1, \"5\": 11, \"13\": 2, \"8\": 1}, \"14\": {\"8\": 36, \"3\": 11, \"14\": 50, \"13\": 31, \"11\": 23, \"7\": 5}, \"9\": {\"9\": 156}, \"12\": {\"12\": 155, \"6\": 1}, \"6\": {\"6\": 155, \"12\": 1}, \"2\": {\"5\": 11, \"2\": 144, \"4\": 1}, \"0\": {\"7\": 22, \"5\": 31, \"0\": 66, \"8\": 15, \"13\": 5, \"4\": 11, \"15\": 6}, \"13\": {\"13\": 78, \"14\": 29, \"11\": 21, \"7\": 15, \"3\": 1, \"8\": 11, \"0\": 1}}, \"14\": {\"15\": {\"7\": 38, \"2\": 48, \"15\": 68, \"13\": 2}, \"3\": {\"5\": 1, \"3\": 70, \"4\": 16, \"8\": 38, \"11\": 11, \"10\": 6, \"0\": 8, \"14\": 4, \"9\": 1, \"1\": 1}, \"6\": {\"2\": 20, \"14\": 50, \"6\": 44, \"13\": 8, \"5\": 9, \"7\": 1, \"4\": 14, \"3\": 2, \"15\": 8}, \"1\": {\"13\": 16, \"1\": 70, \"5\": 24, \"4\": 35, \"3\": 2, \"14\": 4, \"6\": 4, \"7\": 1}, \"8\": {\"8\": 86, \"4\": 11, \"1\": 7, \"3\": 35, \"10\": 5, \"9\": 1, \"11\": 4, \"0\": 7}, \"10\": {\"8\": 12, \"11\": 43, \"3\": 22, \"9\": 12, \"0\": 30, \"10\": 37}, \"9\": {\"9\": 127, \"12\": 16, \"0\": 8, \"11\": 2, \"10\": 3}, \"13\": {\"2\": 9, \"13\": 62, \"5\": 26, \"6\": 4, \"7\": 20, \"1\": 17, \"15\": 5, \"14\": 7, \"4\": 6}, \"12\": {\"12\": 125, \"9\": 31}, \"5\": {\"13\": 36, \"6\": 13, \"4\": 25, \"1\": 25, \"2\": 3, \"7\": 6, \"5\": 37, \"14\": 11}, \"0\": {\"0\": 53, \"10\": 41, \"11\": 24, \"8\": 7, \"3\": 6, \"9\": 25}, \"2\": {\"2\": 56, \"15\": 49, \"7\": 31, \"5\": 4, \"13\": 14, \"6\": 2}, \"11\": {\"3\": 20, \"11\": 64, \"0\": 26, \"10\": 35, \"8\": 1, \"9\": 10}, \"14\": {\"6\": 51, \"5\": 8, \"14\": 70, \"3\": 3, \"4\": 11, \"13\": 7, \"1\": 3, \"11\": 2, \"2\": 1}, \"7\": {\"13\": 15, \"15\": 37, \"2\": 37, \"7\": 60, \"6\": 3, \"1\": 1, \"5\": 3}, \"4\": {\"4\": 61, \"1\": 44, \"13\": 6, \"5\": 22, \"14\": 10, \"3\": 5, \"6\": 4, \"8\": 4}}, \"20\": {\"3\": {\"4\": 11, \"3\": 12, \"2\": 17, \"1\": 9, \"9\": 14, \"13\": 10, \"12\": 16, \"15\": 10, \"5\": 16, \"8\": 8, \"10\": 12, \"7\": 8, \"0\": 12, \"6\": 1}, \"15\": {\"13\": 16, \"15\": 35, \"4\": 6, \"1\": 38, \"3\": 7, \"12\": 14, \"5\": 15, \"2\": 7, \"9\": 11, \"0\": 7}, \"8\": {\"11\": 3, \"6\": 13, \"10\": 45, \"14\": 19, \"8\": 35, \"3\": 9, \"7\": 18, \"9\": 2, \"2\": 5, \"13\": 2, \"12\": 1, \"4\": 2, \"0\": 2}, \"4\": {\"2\": 14, \"7\": 6, \"1\": 19, \"0\": 23, \"9\": 6, \"13\": 15, \"12\": 15, \"10\": 9, \"4\": 30, \"5\": 8, \"15\": 2, \"3\": 7, \"8\": 2}, \"14\": {\"8\": 17, \"14\": 64, \"11\": 8, \"10\": 21, \"6\": 39, \"7\": 5, \"4\": 1, \"13\": 1}, \"0\": {\"8\": 8, \"4\": 18, \"1\": 27, \"10\": 10, \"2\": 17, \"3\": 16, \"0\": 16, \"11\": 1, \"12\": 16, \"13\": 3, \"15\": 3, \"5\": 12, \"9\": 4, \"7\": 5}, \"7\": {\"10\": 15, \"7\": 32, \"11\": 15, \"5\": 8, \"6\": 11, \"9\": 13, \"13\": 11, \"4\": 5, \"8\": 19, \"0\": 5, \"3\": 8, \"2\": 7, \"14\": 4, \"15\": 2, \"12\": 1}, \"6\": {\"11\": 30, \"6\": 60, \"8\": 15, \"14\": 25, \"7\": 12, \"10\": 13, \"0\": 1}, \"10\": {\"11\": 6, \"3\": 10, \"10\": 33, \"8\": 23, \"6\": 16, \"7\": 24, \"14\": 17, \"5\": 4, \"2\": 3, \"4\": 4, \"9\": 5, \"1\": 1, \"0\": 8, \"12\": 2}, \"5\": {\"15\": 22, \"12\": 14, \"1\": 15, \"9\": 17, \"0\": 8, \"3\": 18, \"8\": 3, \"13\": 19, \"5\": 16, \"2\": 14, \"4\": 7, \"7\": 3}, \"2\": {\"12\": 25, \"2\": 15, \"7\": 8, \"10\": 11, \"0\": 10, \"15\": 9, \"14\": 2, \"5\": 14, \"3\": 10, \"1\": 16, \"13\": 6, \"8\": 8, \"9\": 11, \"4\": 8, \"6\": 3}, \"12\": {\"15\": 9, \"13\": 8, \"1\": 43, \"4\": 18, \"0\": 13, \"9\": 8, \"3\": 7, \"2\": 16, \"12\": 18, \"7\": 5, \"5\": 6, \"8\": 3, \"10\": 2}, \"9\": {\"13\": 24, \"2\": 15, \"1\": 13, \"9\": 17, \"5\": 9, \"3\": 17, \"4\": 9, \"0\": 14, \"12\": 8, \"8\": 7, \"14\": 3, \"15\": 3, \"7\": 13, \"6\": 2, \"10\": 2}, \"1\": {\"15\": 28, \"1\": 40, \"2\": 16, \"0\": 10, \"4\": 17, \"5\": 12, \"12\": 21, \"13\": 2, \"9\": 4, \"3\": 6}, \"11\": {\"6\": 31, \"11\": 107, \"7\": 5, \"14\": 6, \"13\": 2, \"8\": 4, \"10\": 1}, \"13\": {\"9\": 15, \"13\": 79, \"2\": 5, \"12\": 7, \"5\": 9, \"4\": 2, \"15\": 7, \"7\": 10, \"10\": 4, \"3\": 8, \"0\": 2, \"1\": 6, \"6\": 1, \"8\": 1}}, \"44\": {\"5\": {\"5\": 54, \"0\": 32, \"14\": 26, \"8\": 25, \"15\": 19}, \"8\": {\"0\": 46, \"15\": 6, \"8\": 89, \"5\": 15}, \"11\": {\"9\": 11, \"11\": 64, \"13\": 57, \"6\": 9, \"7\": 5, \"4\": 10}, \"1\": {\"7\": 12, \"3\": 31, \"10\": 27, \"2\": 16, \"12\": 19, \"1\": 46, \"9\": 1, \"6\": 4}, \"10\": {\"10\": 43, \"1\": 30, \"7\": 7, \"3\": 18, \"2\": 25, \"12\": 32, \"6\": 1}, \"15\": {\"14\": 28, \"15\": 104, \"8\": 2, \"4\": 3, \"5\": 9, \"0\": 10}, \"3\": {\"12\": 20, \"1\": 37, \"10\": 19, \"7\": 13, \"9\": 11, \"3\": 37, \"2\": 7, \"6\": 12}, \"7\": {\"9\": 23, \"6\": 31, \"7\": 39, \"3\": 17, \"1\": 7, \"2\": 23, \"10\": 9, \"12\": 6, \"11\": 1}, \"4\": {\"4\": 130, \"14\": 14, \"13\": 5, \"11\": 2, \"15\": 5}, \"14\": {\"4\": 33, \"14\": 59, \"15\": 29, \"5\": 18, \"0\": 9, \"8\": 7, \"11\": 1}, \"9\": {\"7\": 20, \"9\": 64, \"2\": 6, \"6\": 33, \"13\": 14, \"3\": 8, \"11\": 9, \"1\": 2}, \"12\": {\"10\": 44, \"12\": 46, \"1\": 37, \"3\": 15, \"2\": 13, \"7\": 1}, \"6\": {\"6\": 55, \"9\": 33, \"3\": 11, \"7\": 44, \"2\": 9, \"1\": 1, \"13\": 3}, \"2\": {\"1\": 10, \"7\": 24, \"10\": 21, \"3\": 17, \"2\": 54, \"12\": 13, \"9\": 4, \"6\": 13}, \"0\": {\"5\": 41, \"8\": 48, \"0\": 56, \"15\": 9, \"14\": 2}, \"13\": {\"11\": 42, \"4\": 32, \"14\": 1, \"9\": 19, \"13\": 46, \"6\": 10, \"7\": 6}}, \"38\": {\"14\": {\"2\": 38, \"14\": 52, \"11\": 60, \"13\": 4, \"10\": 2}, \"0\": {\"0\": 49, \"9\": 18, \"6\": 30, \"7\": 35, \"15\": 1, \"8\": 5, \"3\": 7, \"5\": 11}, \"13\": {\"13\": 95, \"1\": 6, \"15\": 12, \"10\": 21, \"2\": 11, \"14\": 5, \"5\": 1, \"11\": 2, \"12\": 3}, \"7\": {\"7\": 55, \"0\": 41, \"8\": 27, \"5\": 15, \"15\": 2, \"9\": 7, \"4\": 6, \"12\": 2, \"10\": 1}, \"9\": {\"0\": 16, \"8\": 8, \"9\": 51, \"5\": 30, \"6\": 39, \"15\": 3, \"1\": 5, \"7\": 4}, \"3\": {\"3\": 140, \"0\": 6, \"6\": 10}, \"11\": {\"14\": 57, \"2\": 29, \"11\": 55, \"10\": 9, \"13\": 6}, \"6\": {\"6\": 113, \"9\": 20, \"0\": 18, \"3\": 4, \"7\": 1}, \"8\": {\"12\": 10, \"4\": 2, \"7\": 25, \"5\": 38, \"8\": 51, \"15\": 10, \"0\": 5, \"9\": 9, \"10\": 4, \"1\": 1, \"13\": 1}, \"4\": {\"4\": 98, \"12\": 28, \"7\": 9, \"10\": 4, \"8\": 10, \"5\": 1, \"13\": 4, \"0\": 2}, \"5\": {\"7\": 26, \"1\": 22, \"9\": 15, \"5\": 31, \"8\": 26, \"15\": 23, \"0\": 12, \"4\": 1}, \"10\": {\"10\": 67, \"8\": 10, \"13\": 23, \"15\": 11, \"12\": 22, \"14\": 10, \"2\": 3, \"11\": 6, \"4\": 4}, \"1\": {\"1\": 106, \"15\": 38, \"5\": 7, \"8\": 1, \"9\": 3, \"13\": 1}, \"2\": {\"11\": 42, \"2\": 83, \"14\": 30, \"13\": 1}, \"15\": {\"1\": 57, \"13\": 19, \"5\": 14, \"14\": 2, \"8\": 16, \"15\": 32, \"12\": 3, \"10\": 2, \"11\": 2, \"9\": 6, \"2\": 2, \"7\": 1}, \"12\": {\"10\": 39, \"13\": 7, \"4\": 25, \"12\": 67, \"8\": 8, \"7\": 6, \"5\": 3, \"14\": 1}}, \"26\": {\"13\": {\"9\": 10, \"13\": 33, \"6\": 26, \"4\": 9, \"8\": 2, \"5\": 29, \"10\": 16, \"15\": 19, \"3\": 2, \"14\": 7, \"0\": 3}, \"2\": {\"3\": 41, \"2\": 54, \"7\": 14, \"1\": 6, \"8\": 14, \"5\": 12, \"9\": 5, \"14\": 2, \"4\": 6, \"15\": 2}, \"8\": {\"6\": 18, \"14\": 16, \"2\": 22, \"1\": 8, \"8\": 7, \"9\": 8, \"13\": 3, \"0\": 15, \"10\": 15, \"7\": 17, \"15\": 2, \"3\": 12, \"4\": 9, \"5\": 4}, \"9\": {\"4\": 8, \"8\": 11, \"15\": 14, \"6\": 10, \"5\": 28, \"13\": 6, \"7\": 3, \"14\": 5, \"9\": 27, \"10\": 12, \"0\": 11, \"3\": 6, \"1\": 9, \"2\": 6}, \"12\": {\"12\": 124, \"6\": 4, \"11\": 23, \"10\": 2, \"0\": 1, \"14\": 1, \"13\": 1}, \"4\": {\"6\": 11, \"8\": 11, \"1\": 3, \"14\": 18, \"2\": 11, \"13\": 21, \"5\": 12, \"4\": 11, \"7\": 7, \"10\": 9, \"15\": 11, \"3\": 11, \"0\": 14, \"9\": 6}, \"3\": {\"3\": 46, \"1\": 10, \"15\": 3, \"13\": 4, \"5\": 8, \"2\": 39, \"8\": 11, \"7\": 26, \"4\": 3, \"9\": 3, \"14\": 2, \"0\": 1}, \"15\": {\"13\": 24, \"15\": 14, \"1\": 5, \"7\": 7, \"5\": 16, \"3\": 9, \"4\": 18, \"9\": 16, \"6\": 17, \"8\": 9, \"14\": 6, \"10\": 11, \"0\": 2, \"2\": 2}, \"14\": {\"15\": 7, \"4\": 12, \"5\": 3, \"9\": 10, \"6\": 17, \"14\": 27, \"8\": 13, \"10\": 19, \"1\": 10, \"3\": 1, \"7\": 3, \"0\": 24, \"13\": 9, \"12\": 1}, \"10\": {\"15\": 12, \"14\": 25, \"6\": 16, \"10\": 19, \"12\": 7, \"9\": 13, \"13\": 16, \"0\": 19, \"5\": 7, \"4\": 10, \"1\": 5, \"8\": 7}, \"7\": {\"7\": 43, \"2\": 26, \"15\": 8, \"8\": 13, \"3\": 32, \"1\": 15, \"9\": 3, \"5\": 9, \"4\": 5, \"0\": 1, \"10\": 1}, \"11\": {\"12\": 41, \"11\": 115}, \"6\": {\"0\": 9, \"9\": 8, \"8\": 9, \"5\": 8, \"6\": 31, \"13\": 26, \"14\": 19, \"4\": 9, \"1\": 5, \"7\": 1, \"15\": 12, \"10\": 16, \"12\": 2, \"2\": 1}, \"1\": {\"4\": 12, \"0\": 17, \"8\": 13, \"15\": 10, \"10\": 7, \"9\": 12, \"1\": 30, \"14\": 15, \"2\": 5, \"7\": 17, \"5\": 5, \"3\": 6, \"6\": 6, \"13\": 1}, \"5\": {\"15\": 14, \"8\": 9, \"6\": 7, \"3\": 8, \"13\": 21, \"2\": 11, \"5\": 41, \"1\": 4, \"9\": 19, \"14\": 3, \"0\": 2, \"10\": 5, \"4\": 8, \"7\": 4}, \"0\": {\"0\": 30, \"14\": 30, \"1\": 19, \"7\": 8, \"6\": 10, \"10\": 8, \"4\": 8, \"12\": 8, \"13\": 4, \"15\": 2, \"5\": 3, \"9\": 6, \"8\": 16, \"3\": 2, \"2\": 1, \"11\": 1}}}, \"per_domain_accuracy\": {\"8\": {\"accuracy\": 0.6105769230769231, \"source?\": true}, \"50\": {\"accuracy\": 0.750801282051282, \"source?\": true}, \"32\": {\"accuracy\": 0.703125, \"source?\": true}, \"14\": {\"accuracy\": 0.43669871794871795, \"source?\": false}, \"20\": {\"accuracy\": 0.2439903846153846, \"source?\": false}, \"44\": {\"accuracy\": 0.39503205128205127, \"source?\": false}, \"38\": {\"accuracy\": 0.45873397435897434, \"source?\": false}, \"26\": {\"accuracy\": 0.26121794871794873, \"source?\": false}}}, \"history\": {\"epoch_indices\": [1, 2, 3, 4, 5], \"train_label_loss\": [1.402538674440466, 0.35994897422279554, 0.12139374120974201, 0.09051606956319232, 0.06955401162524577], \"source_val_label_loss\": [0.7824742197990417, 0.2638856768608093, 0.12642401456832886, 0.12595953047275543, 0.10085693746805191], \"target_val_label_loss\": [2.136756420135498, 2.893894672393799, 3.3789260387420654, 3.578277111053467, 3.7088968753814697], \"source_val_acc_label\": [0.6881677350427351, 0.906784188034188, 0.9565972222222222, 0.9587339743589743, 0.9644764957264957], \"target_val_acc_label\": [0.3591346153846154, 0.39823717948717946, 0.40568910256410257, 0.4046474358974359, 0.415224358974359]}, \"dataset_metrics\": {\"source\": {\"train\": {\"n_unique_x\": 43632, \"n_unique_y\": 16, \"n_batch/episode\": 1629}, \"val\": {\"n_unique_x\": 9360, \"n_unique_y\": 16, \"n_batch/episode\": 234}, \"test\": {\"n_unique_x\": 9408, \"n_unique_y\": 16, \"n_batch/episode\": 234}}, \"target\": {\"train\": {\"n_unique_x\": 72719, \"n_unique_y\": 16, \"n_batch/episode\": 2715}, \"val\": {\"n_unique_x\": 15600, \"n_unique_y\": 16, \"n_batch/episode\": 390}, \"test\": {\"n_unique_x\": 15680, \"n_unique_y\": 16, \"n_batch/episode\": 390}}}}'"
      ]
     },
     "execution_count": 20,
     "metadata": {},
     "output_type": "execute_result"
    }
   ],
   "source": [
    "json.dumps(experiment)"
   ]
  }
 ],
 "metadata": {
  "celltoolbar": "Tags",
  "kernelspec": {
   "display_name": "Python 3 (ipykernel)",
   "language": "python",
   "name": "python3"
  },
  "language_info": {
   "codemirror_mode": {
    "name": "ipython",
    "version": 3
   },
   "file_extension": ".py",
   "mimetype": "text/x-python",
   "name": "python",
   "nbconvert_exporter": "python",
   "pygments_lexer": "ipython3",
   "version": "3.8.10"
  },
  "papermill": {
   "default_parameters": {},
   "duration": 281.378846,
   "end_time": "2022-03-06T01:06:36.114317",
   "environment_variables": {},
   "exception": null,
   "input_path": "/mnt/wd500GB/CSC500/csc500-main/csc500-notebooks/templates/ptn_template.ipynb",
   "output_path": "trial.ipynb",
   "parameters": {
    "parameters": {
     "BEST_MODEL_PATH": "./best_model.pth",
     "NUM_LOGS_PER_EPOCH": 10,
     "criteria_for_best": "target_loss",
     "dataset_seed": 1337,
     "device": "cuda",
     "domains_source": [
      8,
      32,
      50
     ],
     "domains_target": [
      14,
      20,
      26,
      38,
      44
     ],
     "episode_transforms_source": [],
     "episode_transforms_target": [],
     "experiment_name": "tuned_1_oracle.run1.framed",
     "labels_source": [
      "3123D52",
      "3123D65",
      "3123D79",
      "3123D80",
      "3123D54",
      "3123D70",
      "3123D7B",
      "3123D89",
      "3123D58",
      "3123D76",
      "3123D7D",
      "3123EFE",
      "3123D64",
      "3123D78",
      "3123D7E",
      "3124E4A"
     ],
     "labels_target": [
      "3123D52",
      "3123D65",
      "3123D79",
      "3123D80",
      "3123D54",
      "3123D70",
      "3123D7B",
      "3123D89",
      "3123D58",
      "3123D76",
      "3123D7D",
      "3123EFE",
      "3123D64",
      "3123D78",
      "3123D7E",
      "3124E4A"
     ],
     "lr": 0.001,
     "n_epoch": 50,
     "n_query": 2,
     "n_shot": 3,
     "n_way": 16,
     "num_examples_per_domain_per_label_source": 1300,
     "num_examples_per_domain_per_label_target": 1300,
     "patience": 3,
     "pickle_name": "oracle.Run1_framed_1300Examples_stratified_ds.2022A.pkl",
     "seed": 1337,
     "test_k_factor": 2,
     "torch_default_dtype": "torch.float32",
     "train_k_factor": 3,
     "val_k_factor": 2,
     "x_net": [
      {
       "class": "nnReshape",
       "kargs": {
        "shape": [
         -1,
         1,
         2,
         256
        ]
       }
      },
      {
       "class": "Conv2d",
       "kargs": {
        "bias": false,
        "in_channels": 1,
        "kernel_size": [
         1,
         7
        ],
        "out_channels": 256,
        "padding": [
         0,
         3
        ]
       }
      },
      {
       "class": "ReLU",
       "kargs": {
        "inplace": true
       }
      },
      {
       "class": "BatchNorm2d",
       "kargs": {
        "num_features": 256
       }
      },
      {
       "class": "Conv2d",
       "kargs": {
        "bias": true,
        "in_channels": 256,
        "kernel_size": [
         2,
         7
        ],
        "out_channels": 80,
        "padding": [
         0,
         3
        ]
       }
      },
      {
       "class": "ReLU",
       "kargs": {
        "inplace": true
       }
      },
      {
       "class": "BatchNorm2d",
       "kargs": {
        "num_features": 80
       }
      },
      {
       "class": "Flatten",
       "kargs": {}
      },
      {
       "class": "Linear",
       "kargs": {
        "in_features": 20480,
        "out_features": 256
       }
      },
      {
       "class": "ReLU",
       "kargs": {
        "inplace": true
       }
      },
      {
       "class": "BatchNorm1d",
       "kargs": {
        "num_features": 256
       }
      },
      {
       "class": "Linear",
       "kargs": {
        "in_features": 256,
        "out_features": 256
       }
      }
     ],
     "x_transforms_source": [
      "unit_mag"
     ],
     "x_transforms_target": [
      "unit_mag"
     ]
    }
   },
   "start_time": "2022-03-06T01:01:54.735471",
   "version": "2.3.4"
  }
 },
 "nbformat": 4,
 "nbformat_minor": 5
}