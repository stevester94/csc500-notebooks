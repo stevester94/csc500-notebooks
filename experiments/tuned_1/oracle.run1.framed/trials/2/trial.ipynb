{
 "cells": [
  {
   "cell_type": "markdown",
   "id": "9fea5f46",
   "metadata": {
    "papermill": {
     "duration": 0.0154,
     "end_time": "2022-03-06T01:11:55.059194",
     "exception": false,
     "start_time": "2022-03-06T01:11:55.043794",
     "status": "completed"
    },
    "tags": []
   },
   "source": [
    "# PTN Template\n",
    "This notebook serves as a template for single dataset PTN experiments  \n",
    "It can be run on its own by setting STANDALONE to True (do a find for \"STANDALONE\" to see where)  \n",
    "But it is intended to be executed as part of a *papermill.py script. See any of the   \n",
    "experimentes with a papermill script to get started with that workflow.  "
   ]
  },
  {
   "cell_type": "code",
   "execution_count": 1,
   "id": "0902182a",
   "metadata": {
    "execution": {
     "iopub.execute_input": "2022-03-06T01:11:55.090609Z",
     "iopub.status.busy": "2022-03-06T01:11:55.084810Z",
     "iopub.status.idle": "2022-03-06T01:11:55.849650Z",
     "shell.execute_reply": "2022-03-06T01:11:55.849133Z"
    },
    "papermill": {
     "duration": 0.781142,
     "end_time": "2022-03-06T01:11:55.849771",
     "exception": false,
     "start_time": "2022-03-06T01:11:55.068629",
     "status": "completed"
    },
    "tags": []
   },
   "outputs": [],
   "source": [
    "%load_ext autoreload\n",
    "%autoreload 2\n",
    "%matplotlib inline\n",
    "\n",
    "    \n",
    "import os, json, sys, time, random\n",
    "import numpy as np\n",
    "import torch\n",
    "from torch.optim import Adam\n",
    "from  easydict import EasyDict\n",
    "import matplotlib.pyplot as plt\n",
    "\n",
    "from steves_models.steves_ptn import Steves_Prototypical_Network\n",
    "\n",
    "from steves_utils.lazy_iterable_wrapper import Lazy_Iterable_Wrapper\n",
    "from steves_utils.iterable_aggregator import Iterable_Aggregator\n",
    "from steves_utils.ptn_train_eval_test_jig import  PTN_Train_Eval_Test_Jig\n",
    "from steves_utils.torch_sequential_builder import build_sequential\n",
    "from steves_utils.torch_utils import get_dataset_metrics, ptn_confusion_by_domain_over_dataloader\n",
    "from steves_utils.utils_v2 import (per_domain_accuracy_from_confusion, get_datasets_base_path)\n",
    "from steves_utils.PTN.utils import independent_accuracy_assesment\n",
    "\n",
    "from steves_utils.stratified_dataset.episodic_accessor import Episodic_Accessor_Factory\n",
    "\n",
    "from steves_utils.ptn_do_report import (\n",
    "    get_loss_curve,\n",
    "    get_results_table,\n",
    "    get_parameters_table,\n",
    "    get_domain_accuracies,\n",
    ")\n",
    "\n",
    "from steves_utils.transforms import get_chained_transform"
   ]
  },
  {
   "cell_type": "markdown",
   "id": "41c840b4",
   "metadata": {
    "papermill": {
     "duration": 0.009198,
     "end_time": "2022-03-06T01:11:55.873495",
     "exception": false,
     "start_time": "2022-03-06T01:11:55.864297",
     "status": "completed"
    },
    "tags": []
   },
   "source": [
    "# Required Parameters\n",
    "These are allowed parameters, not defaults\n",
    "Each of these values need to be present in the injected parameters (the notebook will raise an exception if they are not present)\n",
    "\n",
    "Papermill uses the cell tag \"parameters\" to inject the real parameters below this cell.\n",
    "Enable tags to see what I mean"
   ]
  },
  {
   "cell_type": "code",
   "execution_count": 2,
   "id": "fd44eb83",
   "metadata": {
    "execution": {
     "iopub.execute_input": "2022-03-06T01:11:55.895530Z",
     "iopub.status.busy": "2022-03-06T01:11:55.895272Z",
     "iopub.status.idle": "2022-03-06T01:11:55.908866Z",
     "shell.execute_reply": "2022-03-06T01:11:55.908496Z"
    },
    "papermill": {
     "duration": 0.026203,
     "end_time": "2022-03-06T01:11:55.908943",
     "exception": false,
     "start_time": "2022-03-06T01:11:55.882740",
     "status": "completed"
    },
    "tags": []
   },
   "outputs": [],
   "source": [
    "required_parameters = {\n",
    "    \"experiment_name\",\n",
    "    \"lr\",\n",
    "    \"device\",\n",
    "    \"seed\",\n",
    "    \"dataset_seed\",\n",
    "    \"labels_source\",\n",
    "    \"labels_target\",\n",
    "    \"domains_source\",\n",
    "    \"domains_target\",\n",
    "    \"num_examples_per_domain_per_label_source\",\n",
    "    \"num_examples_per_domain_per_label_target\",\n",
    "    \"n_shot\",\n",
    "    \"n_way\",\n",
    "    \"n_query\",\n",
    "    \"train_k_factor\",\n",
    "    \"val_k_factor\",\n",
    "    \"test_k_factor\",\n",
    "    \"n_epoch\",\n",
    "    \"patience\",\n",
    "    \"criteria_for_best\",\n",
    "    \"x_transforms_source\",\n",
    "    \"x_transforms_target\",\n",
    "    \"episode_transforms_source\",\n",
    "    \"episode_transforms_target\",\n",
    "    \"pickle_name\",\n",
    "    \"x_net\",\n",
    "    \"NUM_LOGS_PER_EPOCH\",\n",
    "    \"BEST_MODEL_PATH\",\n",
    "    \"torch_default_dtype\"\n",
    "}"
   ]
  },
  {
   "cell_type": "code",
   "execution_count": 3,
   "id": "fa3f0049",
   "metadata": {
    "execution": {
     "iopub.execute_input": "2022-03-06T01:11:55.940953Z",
     "iopub.status.busy": "2022-03-06T01:11:55.938843Z",
     "iopub.status.idle": "2022-03-06T01:11:55.952439Z",
     "shell.execute_reply": "2022-03-06T01:11:55.951993Z"
    },
    "papermill": {
     "duration": 0.029679,
     "end_time": "2022-03-06T01:11:55.952541",
     "exception": false,
     "start_time": "2022-03-06T01:11:55.922862",
     "status": "completed"
    },
    "tags": [
     "parameters"
    ]
   },
   "outputs": [],
   "source": [
    "\n",
    "\n",
    "standalone_parameters = {}\n",
    "standalone_parameters[\"experiment_name\"] = \"STANDALONE PTN\"\n",
    "standalone_parameters[\"lr\"] = 0.0001\n",
    "standalone_parameters[\"device\"] = \"cuda\"\n",
    "\n",
    "standalone_parameters[\"seed\"] = 1337\n",
    "standalone_parameters[\"dataset_seed\"] = 1337\n",
    "\n",
    "\n",
    "standalone_parameters[\"num_examples_per_domain_per_label_source\"]=100\n",
    "standalone_parameters[\"num_examples_per_domain_per_label_target\"]=100\n",
    "\n",
    "standalone_parameters[\"n_shot\"] = 3\n",
    "standalone_parameters[\"n_query\"]  = 2\n",
    "standalone_parameters[\"train_k_factor\"] = 1\n",
    "standalone_parameters[\"val_k_factor\"] = 2\n",
    "standalone_parameters[\"test_k_factor\"] = 2\n",
    "\n",
    "\n",
    "standalone_parameters[\"n_epoch\"] = 100\n",
    "\n",
    "standalone_parameters[\"patience\"] = 10\n",
    "standalone_parameters[\"criteria_for_best\"] = \"target_accuracy\"\n",
    "\n",
    "standalone_parameters[\"x_transforms_source\"] = [\"unit_power\"]\n",
    "standalone_parameters[\"x_transforms_target\"] = [\"unit_power\"]\n",
    "standalone_parameters[\"episode_transforms_source\"] = []\n",
    "standalone_parameters[\"episode_transforms_target\"] = []\n",
    "\n",
    "standalone_parameters[\"torch_default_dtype\"] = \"torch.float32\" \n",
    "\n",
    "\n",
    "\n",
    "standalone_parameters[\"x_net\"] =     [\n",
    "    {\"class\": \"nnReshape\", \"kargs\": {\"shape\":[-1, 1, 2, 256]}},\n",
    "    {\"class\": \"Conv2d\", \"kargs\": { \"in_channels\":1, \"out_channels\":256, \"kernel_size\":(1,7), \"bias\":False, \"padding\":(0,3), },},\n",
    "    {\"class\": \"ReLU\", \"kargs\": {\"inplace\": True}},\n",
    "    {\"class\": \"BatchNorm2d\", \"kargs\": {\"num_features\":256}},\n",
    "\n",
    "    {\"class\": \"Conv2d\", \"kargs\": { \"in_channels\":256, \"out_channels\":80, \"kernel_size\":(2,7), \"bias\":True, \"padding\":(0,3), },},\n",
    "    {\"class\": \"ReLU\", \"kargs\": {\"inplace\": True}},\n",
    "    {\"class\": \"BatchNorm2d\", \"kargs\": {\"num_features\":80}},\n",
    "    {\"class\": \"Flatten\", \"kargs\": {}},\n",
    "\n",
    "    {\"class\": \"Linear\", \"kargs\": {\"in_features\": 80*256, \"out_features\": 256}}, # 80 units per IQ pair\n",
    "    {\"class\": \"ReLU\", \"kargs\": {\"inplace\": True}},\n",
    "    {\"class\": \"BatchNorm1d\", \"kargs\": {\"num_features\":256}},\n",
    "\n",
    "    {\"class\": \"Linear\", \"kargs\": {\"in_features\": 256, \"out_features\": 256}},\n",
    "]\n",
    "\n",
    "# Parameters relevant to results\n",
    "# These parameters will basically never need to change\n",
    "standalone_parameters[\"NUM_LOGS_PER_EPOCH\"] = 10\n",
    "standalone_parameters[\"BEST_MODEL_PATH\"] = \"./best_model.pth\"\n",
    "\n",
    "# uncomment for CORES dataset\n",
    "from steves_utils.CORES.utils import (\n",
    "    ALL_NODES,\n",
    "    ALL_NODES_MINIMUM_1000_EXAMPLES,\n",
    "    ALL_DAYS\n",
    ")\n",
    "\n",
    "\n",
    "standalone_parameters[\"labels_source\"] = ALL_NODES\n",
    "standalone_parameters[\"labels_target\"] = ALL_NODES\n",
    "\n",
    "standalone_parameters[\"domains_source\"] = [1]\n",
    "standalone_parameters[\"domains_target\"] = [2,3,4,5]\n",
    "\n",
    "standalone_parameters[\"pickle_name\"] = \"cores.stratified_ds.2022A.pkl\"\n",
    "\n",
    "\n",
    "# Uncomment these for ORACLE dataset\n",
    "# from steves_utils.ORACLE.utils_v2 import (\n",
    "#     ALL_DISTANCES_FEET,\n",
    "#     ALL_RUNS,\n",
    "#     ALL_SERIAL_NUMBERS,\n",
    "# )\n",
    "# standalone_parameters[\"labels_source\"] = ALL_SERIAL_NUMBERS\n",
    "# standalone_parameters[\"labels_target\"] = ALL_SERIAL_NUMBERS\n",
    "# standalone_parameters[\"domains_source\"] = [8,20, 38,50]\n",
    "# standalone_parameters[\"domains_target\"] = [14, 26, 32, 44, 56]\n",
    "# standalone_parameters[\"pickle_name\"] = \"oracle.frame_indexed.stratified_ds.2022A.pkl\"\n",
    "# standalone_parameters[\"num_examples_per_domain_per_label_source\"]=1000\n",
    "# standalone_parameters[\"num_examples_per_domain_per_label_target\"]=1000\n",
    "\n",
    "# Uncomment these for Metahan dataset\n",
    "# standalone_parameters[\"labels_source\"] = list(range(19))\n",
    "# standalone_parameters[\"labels_target\"] = list(range(19))\n",
    "# standalone_parameters[\"domains_source\"] = [0]\n",
    "# standalone_parameters[\"domains_target\"] = [1]\n",
    "# standalone_parameters[\"pickle_name\"] = \"metehan.stratified_ds.2022A.pkl\"\n",
    "# standalone_parameters[\"n_way\"]  = len(standalone_parameters[\"labels_source\"])\n",
    "# standalone_parameters[\"num_examples_per_domain_per_label_source\"]=200\n",
    "# standalone_parameters[\"num_examples_per_domain_per_label_target\"]=100\n",
    "\n",
    "\n",
    "standalone_parameters[\"n_way\"]  = len(standalone_parameters[\"labels_source\"])"
   ]
  },
  {
   "cell_type": "code",
   "execution_count": 4,
   "id": "1d85e6bf",
   "metadata": {
    "execution": {
     "iopub.execute_input": "2022-03-06T01:11:55.985367Z",
     "iopub.status.busy": "2022-03-06T01:11:55.984950Z",
     "iopub.status.idle": "2022-03-06T01:11:55.994862Z",
     "shell.execute_reply": "2022-03-06T01:11:55.994448Z"
    },
    "papermill": {
     "duration": 0.027836,
     "end_time": "2022-03-06T01:11:55.994963",
     "exception": false,
     "start_time": "2022-03-06T01:11:55.967127",
     "status": "completed"
    },
    "tags": [
     "injected-parameters"
    ]
   },
   "outputs": [],
   "source": [
    "# Parameters\n",
    "parameters = {\n",
    "    \"experiment_name\": \"tuned_1_oracle.run1.framed\",\n",
    "    \"device\": \"cuda\",\n",
    "    \"lr\": 0.001,\n",
    "    \"seed\": 1337,\n",
    "    \"dataset_seed\": 1337,\n",
    "    \"labels_source\": [\n",
    "        \"3123D52\",\n",
    "        \"3123D65\",\n",
    "        \"3123D79\",\n",
    "        \"3123D80\",\n",
    "        \"3123D54\",\n",
    "        \"3123D70\",\n",
    "        \"3123D7B\",\n",
    "        \"3123D89\",\n",
    "        \"3123D58\",\n",
    "        \"3123D76\",\n",
    "        \"3123D7D\",\n",
    "        \"3123EFE\",\n",
    "        \"3123D64\",\n",
    "        \"3123D78\",\n",
    "        \"3123D7E\",\n",
    "        \"3124E4A\",\n",
    "    ],\n",
    "    \"labels_target\": [\n",
    "        \"3123D52\",\n",
    "        \"3123D65\",\n",
    "        \"3123D79\",\n",
    "        \"3123D80\",\n",
    "        \"3123D54\",\n",
    "        \"3123D70\",\n",
    "        \"3123D7B\",\n",
    "        \"3123D89\",\n",
    "        \"3123D58\",\n",
    "        \"3123D76\",\n",
    "        \"3123D7D\",\n",
    "        \"3123EFE\",\n",
    "        \"3123D64\",\n",
    "        \"3123D78\",\n",
    "        \"3123D7E\",\n",
    "        \"3124E4A\",\n",
    "    ],\n",
    "    \"x_transforms_source\": [\"times_zero\"],\n",
    "    \"x_transforms_target\": [\"times_zero\"],\n",
    "    \"episode_transforms_source\": [],\n",
    "    \"episode_transforms_target\": [],\n",
    "    \"domains_source\": [8, 32, 50],\n",
    "    \"domains_target\": [14, 20, 26, 38, 44],\n",
    "    \"num_examples_per_domain_per_label_source\": 1300,\n",
    "    \"num_examples_per_domain_per_label_target\": 1300,\n",
    "    \"n_shot\": 3,\n",
    "    \"n_way\": 16,\n",
    "    \"n_query\": 2,\n",
    "    \"train_k_factor\": 3,\n",
    "    \"val_k_factor\": 2,\n",
    "    \"test_k_factor\": 2,\n",
    "    \"torch_default_dtype\": \"torch.float32\",\n",
    "    \"n_epoch\": 50,\n",
    "    \"patience\": 3,\n",
    "    \"criteria_for_best\": \"target_loss\",\n",
    "    \"x_net\": [\n",
    "        {\"class\": \"nnReshape\", \"kargs\": {\"shape\": [-1, 1, 2, 256]}},\n",
    "        {\n",
    "            \"class\": \"Conv2d\",\n",
    "            \"kargs\": {\n",
    "                \"in_channels\": 1,\n",
    "                \"out_channels\": 256,\n",
    "                \"kernel_size\": [1, 7],\n",
    "                \"bias\": False,\n",
    "                \"padding\": [0, 3],\n",
    "            },\n",
    "        },\n",
    "        {\"class\": \"ReLU\", \"kargs\": {\"inplace\": True}},\n",
    "        {\"class\": \"BatchNorm2d\", \"kargs\": {\"num_features\": 256}},\n",
    "        {\n",
    "            \"class\": \"Conv2d\",\n",
    "            \"kargs\": {\n",
    "                \"in_channels\": 256,\n",
    "                \"out_channels\": 80,\n",
    "                \"kernel_size\": [2, 7],\n",
    "                \"bias\": True,\n",
    "                \"padding\": [0, 3],\n",
    "            },\n",
    "        },\n",
    "        {\"class\": \"ReLU\", \"kargs\": {\"inplace\": True}},\n",
    "        {\"class\": \"BatchNorm2d\", \"kargs\": {\"num_features\": 80}},\n",
    "        {\"class\": \"Flatten\", \"kargs\": {}},\n",
    "        {\"class\": \"Linear\", \"kargs\": {\"in_features\": 20480, \"out_features\": 256}},\n",
    "        {\"class\": \"ReLU\", \"kargs\": {\"inplace\": True}},\n",
    "        {\"class\": \"BatchNorm1d\", \"kargs\": {\"num_features\": 256}},\n",
    "        {\"class\": \"Linear\", \"kargs\": {\"in_features\": 256, \"out_features\": 256}},\n",
    "    ],\n",
    "    \"NUM_LOGS_PER_EPOCH\": 10,\n",
    "    \"BEST_MODEL_PATH\": \"./best_model.pth\",\n",
    "    \"pickle_name\": \"oracle.Run1_framed_1300Examples_stratified_ds.2022A.pkl\",\n",
    "}\n"
   ]
  },
  {
   "cell_type": "code",
   "execution_count": 5,
   "id": "8fa1cc33",
   "metadata": {
    "execution": {
     "iopub.execute_input": "2022-03-06T01:11:56.022900Z",
     "iopub.status.busy": "2022-03-06T01:11:56.022387Z",
     "iopub.status.idle": "2022-03-06T01:11:56.033697Z",
     "shell.execute_reply": "2022-03-06T01:11:56.034090Z"
    },
    "papermill": {
     "duration": 0.026023,
     "end_time": "2022-03-06T01:11:56.034216",
     "exception": false,
     "start_time": "2022-03-06T01:11:56.008193",
     "status": "completed"
    },
    "tags": []
   },
   "outputs": [],
   "source": [
    "# Set this to True if you want to run this template directly\n",
    "STANDALONE = False\n",
    "if STANDALONE:\n",
    "    print(\"parameters not injected, running with standalone_parameters\")\n",
    "    parameters = standalone_parameters\n",
    "\n",
    "if not 'parameters' in locals() and not 'parameters' in globals():\n",
    "    raise Exception(\"Parameter injection failed\")\n",
    "\n",
    "#Use an easy dict for all the parameters\n",
    "p = EasyDict(parameters)\n",
    "\n",
    "supplied_keys = set(p.keys())\n",
    "\n",
    "if  supplied_keys != required_parameters:\n",
    "    print(\"Parameters are incorrect\")\n",
    "    if len(supplied_keys - required_parameters)>0: print(\"Shouldn't have:\", str(supplied_keys - required_parameters))\n",
    "    if len(required_parameters - supplied_keys)>0: print(\"Need to have:\", str(required_parameters - supplied_keys))\n",
    "    raise RuntimeError(\"Parameters are incorrect\")\n",
    "\n"
   ]
  },
  {
   "cell_type": "code",
   "execution_count": 6,
   "id": "3a028d58",
   "metadata": {
    "execution": {
     "iopub.execute_input": "2022-03-06T01:11:56.057976Z",
     "iopub.status.busy": "2022-03-06T01:11:56.057721Z",
     "iopub.status.idle": "2022-03-06T01:11:56.071224Z",
     "shell.execute_reply": "2022-03-06T01:11:56.071614Z"
    },
    "papermill": {
     "duration": 0.025719,
     "end_time": "2022-03-06T01:11:56.071731",
     "exception": false,
     "start_time": "2022-03-06T01:11:56.046012",
     "status": "completed"
    },
    "tags": []
   },
   "outputs": [],
   "source": [
    "###################################\n",
    "# Set the RNGs and make it all deterministic\n",
    "###################################\n",
    "np.random.seed(p.seed)\n",
    "random.seed(p.seed)\n",
    "torch.manual_seed(p.seed)\n",
    "\n",
    "torch.use_deterministic_algorithms(True) "
   ]
  },
  {
   "cell_type": "code",
   "execution_count": 7,
   "id": "b691acf6",
   "metadata": {
    "execution": {
     "iopub.execute_input": "2022-03-06T01:11:56.098179Z",
     "iopub.status.busy": "2022-03-06T01:11:56.097925Z",
     "iopub.status.idle": "2022-03-06T01:11:56.111562Z",
     "shell.execute_reply": "2022-03-06T01:11:56.111862Z"
    },
    "papermill": {
     "duration": 0.025335,
     "end_time": "2022-03-06T01:11:56.111953",
     "exception": false,
     "start_time": "2022-03-06T01:11:56.086618",
     "status": "completed"
    },
    "tags": []
   },
   "outputs": [],
   "source": [
    "###########################################\n",
    "# The stratified datasets honor this\n",
    "###########################################\n",
    "torch.set_default_dtype(eval(p.torch_default_dtype))"
   ]
  },
  {
   "cell_type": "code",
   "execution_count": 8,
   "id": "b5fba671",
   "metadata": {
    "execution": {
     "iopub.execute_input": "2022-03-06T01:11:56.136088Z",
     "iopub.status.busy": "2022-03-06T01:11:56.135589Z",
     "iopub.status.idle": "2022-03-06T01:11:56.174377Z",
     "shell.execute_reply": "2022-03-06T01:11:56.173905Z"
    },
    "papermill": {
     "duration": 0.04945,
     "end_time": "2022-03-06T01:11:56.174493",
     "exception": false,
     "start_time": "2022-03-06T01:11:56.125043",
     "status": "completed"
    },
    "tags": []
   },
   "outputs": [],
   "source": [
    "###################################\n",
    "# Build the network(s)\n",
    "# Note: It's critical to do this AFTER setting the RNG\n",
    "# (This is due to the randomized initial weights)\n",
    "###################################\n",
    "x_net = build_sequential(p.x_net)"
   ]
  },
  {
   "cell_type": "code",
   "execution_count": 9,
   "id": "5d7e61cc",
   "metadata": {
    "execution": {
     "iopub.execute_input": "2022-03-06T01:11:56.200896Z",
     "iopub.status.busy": "2022-03-06T01:11:56.200635Z",
     "iopub.status.idle": "2022-03-06T01:11:56.211893Z",
     "shell.execute_reply": "2022-03-06T01:11:56.212303Z"
    },
    "papermill": {
     "duration": 0.023455,
     "end_time": "2022-03-06T01:11:56.212426",
     "exception": false,
     "start_time": "2022-03-06T01:11:56.188971",
     "status": "completed"
    },
    "tags": []
   },
   "outputs": [],
   "source": [
    "start_time_secs = time.time()"
   ]
  },
  {
   "cell_type": "code",
   "execution_count": 10,
   "id": "fd5442bc",
   "metadata": {
    "execution": {
     "iopub.execute_input": "2022-03-06T01:11:56.245441Z",
     "iopub.status.busy": "2022-03-06T01:11:56.245053Z",
     "iopub.status.idle": "2022-03-06T01:11:58.168783Z",
     "shell.execute_reply": "2022-03-06T01:11:58.169223Z"
    },
    "papermill": {
     "duration": 1.941978,
     "end_time": "2022-03-06T01:11:58.169357",
     "exception": false,
     "start_time": "2022-03-06T01:11:56.227379",
     "status": "completed"
    },
    "tags": []
   },
   "outputs": [],
   "source": [
    "###################################\n",
    "# Build the dataset\n",
    "###################################\n",
    "\n",
    "if p.x_transforms_source == []: x_transform_source = None\n",
    "else: x_transform_source = get_chained_transform(p.x_transforms_source) \n",
    "\n",
    "if p.x_transforms_target == []: x_transform_target = None\n",
    "else: x_transform_target = get_chained_transform(p.x_transforms_target)\n",
    "\n",
    "if p.episode_transforms_source == []: episode_transform_source = None\n",
    "else: raise Exception(\"episode_transform_source not implemented\")\n",
    "\n",
    "if p.episode_transforms_target == []: episode_transform_target = None\n",
    "else: raise Exception(\"episode_transform_target not implemented\")\n",
    "\n",
    "\n",
    "eaf_source = Episodic_Accessor_Factory(\n",
    "    labels=p.labels_source,\n",
    "    domains=p.domains_source,\n",
    "    num_examples_per_domain_per_label=p.num_examples_per_domain_per_label_source,\n",
    "    iterator_seed=p.seed,\n",
    "    dataset_seed=p.dataset_seed,\n",
    "    n_shot=p.n_shot,\n",
    "    n_way=p.n_way,\n",
    "    n_query=p.n_query,\n",
    "    train_val_test_k_factors=(p.train_k_factor,p.val_k_factor,p.test_k_factor),\n",
    "    pickle_path=os.path.join(get_datasets_base_path(), p.pickle_name),\n",
    "    x_transform_func=x_transform_source,\n",
    "    example_transform_func=episode_transform_source,\n",
    "    \n",
    ")\n",
    "train_original_source, val_original_source, test_original_source = eaf_source.get_train(), eaf_source.get_val(), eaf_source.get_test()\n",
    "\n",
    "\n",
    "eaf_target = Episodic_Accessor_Factory(\n",
    "    labels=p.labels_target,\n",
    "    domains=p.domains_target,\n",
    "    num_examples_per_domain_per_label=p.num_examples_per_domain_per_label_target,\n",
    "    iterator_seed=p.seed,\n",
    "    dataset_seed=p.dataset_seed,\n",
    "    n_shot=p.n_shot,\n",
    "    n_way=p.n_way,\n",
    "    n_query=p.n_query,\n",
    "    train_val_test_k_factors=(p.train_k_factor,p.val_k_factor,p.test_k_factor),\n",
    "    pickle_path=os.path.join(get_datasets_base_path(), p.pickle_name),\n",
    "    x_transform_func=x_transform_target,\n",
    "    example_transform_func=episode_transform_target,\n",
    ")\n",
    "train_original_target, val_original_target, test_original_target = eaf_target.get_train(), eaf_target.get_val(), eaf_target.get_test()\n",
    "\n",
    "\n",
    "transform_lambda = lambda ex: ex[1] # Original is (<domain>, <episode>) so we strip down to episode only\n",
    "\n",
    "train_processed_source = Lazy_Iterable_Wrapper(train_original_source, transform_lambda)\n",
    "val_processed_source   = Lazy_Iterable_Wrapper(val_original_source, transform_lambda)\n",
    "test_processed_source  = Lazy_Iterable_Wrapper(test_original_source, transform_lambda)\n",
    "\n",
    "train_processed_target = Lazy_Iterable_Wrapper(train_original_target, transform_lambda)\n",
    "val_processed_target   = Lazy_Iterable_Wrapper(val_original_target, transform_lambda)\n",
    "test_processed_target  = Lazy_Iterable_Wrapper(test_original_target, transform_lambda)\n",
    "\n",
    "datasets = EasyDict({\n",
    "    \"source\": {\n",
    "        \"original\": {\"train\":train_original_source, \"val\":val_original_source, \"test\":test_original_source},\n",
    "        \"processed\": {\"train\":train_processed_source, \"val\":val_processed_source, \"test\":test_processed_source}\n",
    "    },\n",
    "    \"target\": {\n",
    "        \"original\": {\"train\":train_original_target, \"val\":val_original_target, \"test\":test_original_target},\n",
    "        \"processed\": {\"train\":train_processed_target, \"val\":val_processed_target, \"test\":test_processed_target}\n",
    "    },\n",
    "})"
   ]
  },
  {
   "cell_type": "code",
   "execution_count": 11,
   "id": "296189d9",
   "metadata": {
    "execution": {
     "iopub.execute_input": "2022-03-06T01:11:58.198981Z",
     "iopub.status.busy": "2022-03-06T01:11:58.198426Z",
     "iopub.status.idle": "2022-03-06T01:11:59.835612Z",
     "shell.execute_reply": "2022-03-06T01:11:59.836125Z"
    },
    "papermill": {
     "duration": 1.651767,
     "end_time": "2022-03-06T01:11:59.836262",
     "exception": false,
     "start_time": "2022-03-06T01:11:58.184495",
     "status": "completed"
    },
    "tags": []
   },
   "outputs": [
    {
     "name": "stdout",
     "output_type": "stream",
     "text": [
      "Visually inspect these to see if they line up with expected values given the transforms\n",
      "x_transforms_source ['times_zero']\n",
      "x_transforms_target ['times_zero']\n",
      "Average magnitude, source: 0.0\n",
      "Average power, source: 0.0\n"
     ]
    },
    {
     "name": "stdout",
     "output_type": "stream",
     "text": [
      "Average magnitude, target: 0.0\n",
      "Average power, target: 0.0\n"
     ]
    }
   ],
   "source": [
    "# Some quick unit tests on the data\n",
    "from steves_utils.transforms import get_average_power, get_average_magnitude\n",
    "\n",
    "q_x, q_y, s_x, s_y, truth = next(iter(train_processed_source))\n",
    "\n",
    "assert q_x.dtype == eval(p.torch_default_dtype)\n",
    "assert s_x.dtype == eval(p.torch_default_dtype)\n",
    "\n",
    "print(\"Visually inspect these to see if they line up with expected values given the transforms\")\n",
    "print('x_transforms_source', p.x_transforms_source)\n",
    "print('x_transforms_target', p.x_transforms_target)\n",
    "print(\"Average magnitude, source:\", get_average_magnitude(q_x[0].numpy()))\n",
    "print(\"Average power, source:\", get_average_power(q_x[0].numpy()))\n",
    "\n",
    "q_x, q_y, s_x, s_y, truth = next(iter(train_processed_target))\n",
    "print(\"Average magnitude, target:\", get_average_magnitude(q_x[0].numpy()))\n",
    "print(\"Average power, target:\", get_average_power(q_x[0].numpy()))\n"
   ]
  },
  {
   "cell_type": "code",
   "execution_count": 12,
   "id": "bbdacba1",
   "metadata": {
    "execution": {
     "iopub.execute_input": "2022-03-06T01:11:59.864121Z",
     "iopub.status.busy": "2022-03-06T01:11:59.863865Z",
     "iopub.status.idle": "2022-03-06T01:11:59.925944Z",
     "shell.execute_reply": "2022-03-06T01:11:59.926348Z"
    },
    "papermill": {
     "duration": 0.076165,
     "end_time": "2022-03-06T01:11:59.926476",
     "exception": false,
     "start_time": "2022-03-06T01:11:59.850311",
     "status": "completed"
    },
    "tags": []
   },
   "outputs": [
    {
     "name": "stdout",
     "output_type": "stream",
     "text": [
      "(2, 256)\n"
     ]
    }
   ],
   "source": [
    "###################################\n",
    "# Build the model\n",
    "###################################\n",
    "model = Steves_Prototypical_Network(x_net, device=p.device, x_shape=(2,256))\n",
    "optimizer = Adam(params=model.parameters(), lr=p.lr)"
   ]
  },
  {
   "cell_type": "code",
   "execution_count": 13,
   "id": "22b39ac5",
   "metadata": {
    "execution": {
     "iopub.execute_input": "2022-03-06T01:11:59.954048Z",
     "iopub.status.busy": "2022-03-06T01:11:59.953791Z",
     "iopub.status.idle": "2022-03-06T01:15:52.721767Z",
     "shell.execute_reply": "2022-03-06T01:15:52.722137Z"
    },
    "papermill": {
     "duration": 232.780891,
     "end_time": "2022-03-06T01:15:52.722264",
     "exception": false,
     "start_time": "2022-03-06T01:11:59.941373",
     "status": "completed"
    },
    "tags": []
   },
   "outputs": [
    {
     "name": "stdout",
     "output_type": "stream",
     "text": [
      "epoch: 1, [batch: 1 / 1629], examples_per_second: 182.7171, train_label_loss: 2.7726, \n"
     ]
    },
    {
     "name": "stdout",
     "output_type": "stream",
     "text": [
      "epoch: 1, [batch: 163 / 1629], examples_per_second: 3084.2724, train_label_loss: 2.7726, \n"
     ]
    },
    {
     "name": "stdout",
     "output_type": "stream",
     "text": [
      "epoch: 1, [batch: 326 / 1629], examples_per_second: 3126.3288, train_label_loss: 2.7726, \n"
     ]
    },
    {
     "name": "stdout",
     "output_type": "stream",
     "text": [
      "epoch: 1, [batch: 489 / 1629], examples_per_second: 3147.7748, train_label_loss: 2.7726, \n"
     ]
    },
    {
     "name": "stdout",
     "output_type": "stream",
     "text": [
      "epoch: 1, [batch: 652 / 1629], examples_per_second: 3136.3535, train_label_loss: 2.7726, \n"
     ]
    },
    {
     "name": "stdout",
     "output_type": "stream",
     "text": [
      "epoch: 1, [batch: 815 / 1629], examples_per_second: 3147.8058, train_label_loss: 2.7726, \n"
     ]
    },
    {
     "name": "stdout",
     "output_type": "stream",
     "text": [
      "epoch: 1, [batch: 977 / 1629], examples_per_second: 3142.4341, train_label_loss: 2.7726, \n"
     ]
    },
    {
     "name": "stdout",
     "output_type": "stream",
     "text": [
      "epoch: 1, [batch: 1140 / 1629], examples_per_second: 3129.8317, train_label_loss: 2.7726, \n"
     ]
    },
    {
     "name": "stdout",
     "output_type": "stream",
     "text": [
      "epoch: 1, [batch: 1303 / 1629], examples_per_second: 3157.8722, train_label_loss: 2.7726, \n"
     ]
    },
    {
     "name": "stdout",
     "output_type": "stream",
     "text": [
      "epoch: 1, [batch: 1466 / 1629], examples_per_second: 3156.0186, train_label_loss: 2.7726, \n"
     ]
    },
    {
     "name": "stdout",
     "output_type": "stream",
     "text": [
      "=============================================================\n",
      "epoch: 1, source_val_acc_label: 0.0625, target_val_acc_label: 0.0625, source_val_label_loss: 2.7726, target_val_label_loss: 2.7726, \n",
      "=============================================================\n"
     ]
    },
    {
     "name": "stdout",
     "output_type": "stream",
     "text": [
      "New best\n"
     ]
    },
    {
     "name": "stdout",
     "output_type": "stream",
     "text": [
      "epoch: 2, [batch: 1 / 1629], examples_per_second: 16.7172, train_label_loss: 2.7726, \n"
     ]
    },
    {
     "name": "stdout",
     "output_type": "stream",
     "text": [
      "epoch: 2, [batch: 163 / 1629], examples_per_second: 3143.0064, train_label_loss: 2.7726, \n"
     ]
    },
    {
     "name": "stdout",
     "output_type": "stream",
     "text": [
      "epoch: 2, [batch: 326 / 1629], examples_per_second: 3176.2547, train_label_loss: 2.7726, \n"
     ]
    },
    {
     "name": "stdout",
     "output_type": "stream",
     "text": [
      "epoch: 2, [batch: 489 / 1629], examples_per_second: 3181.2166, train_label_loss: 2.7726, \n"
     ]
    },
    {
     "name": "stdout",
     "output_type": "stream",
     "text": [
      "epoch: 2, [batch: 652 / 1629], examples_per_second: 3187.6115, train_label_loss: 2.7726, \n"
     ]
    },
    {
     "name": "stdout",
     "output_type": "stream",
     "text": [
      "epoch: 2, [batch: 815 / 1629], examples_per_second: 3178.2566, train_label_loss: 2.7726, \n"
     ]
    },
    {
     "name": "stdout",
     "output_type": "stream",
     "text": [
      "epoch: 2, [batch: 977 / 1629], examples_per_second: 3192.4645, train_label_loss: 2.7726, \n"
     ]
    },
    {
     "name": "stdout",
     "output_type": "stream",
     "text": [
      "epoch: 2, [batch: 1140 / 1629], examples_per_second: 3157.5008, train_label_loss: 2.7726, \n"
     ]
    },
    {
     "name": "stdout",
     "output_type": "stream",
     "text": [
      "epoch: 2, [batch: 1303 / 1629], examples_per_second: 3202.5032, train_label_loss: 2.7726, \n"
     ]
    },
    {
     "name": "stdout",
     "output_type": "stream",
     "text": [
      "epoch: 2, [batch: 1466 / 1629], examples_per_second: 3202.5747, train_label_loss: 2.7726, \n"
     ]
    },
    {
     "name": "stdout",
     "output_type": "stream",
     "text": [
      "=============================================================\n",
      "epoch: 2, source_val_acc_label: 0.0625, target_val_acc_label: 0.0625, source_val_label_loss: 2.7726, target_val_label_loss: 2.7726, \n",
      "=============================================================\n"
     ]
    },
    {
     "name": "stdout",
     "output_type": "stream",
     "text": [
      "epoch: 3, [batch: 1 / 1629], examples_per_second: 16.9336, train_label_loss: 2.7726, \n"
     ]
    },
    {
     "name": "stdout",
     "output_type": "stream",
     "text": [
      "epoch: 3, [batch: 163 / 1629], examples_per_second: 3123.2828, train_label_loss: 2.7726, \n"
     ]
    },
    {
     "name": "stdout",
     "output_type": "stream",
     "text": [
      "epoch: 3, [batch: 326 / 1629], examples_per_second: 3186.8127, train_label_loss: 2.7726, \n"
     ]
    },
    {
     "name": "stdout",
     "output_type": "stream",
     "text": [
      "epoch: 3, [batch: 489 / 1629], examples_per_second: 3178.9098, train_label_loss: 2.7726, \n"
     ]
    },
    {
     "name": "stdout",
     "output_type": "stream",
     "text": [
      "epoch: 3, [batch: 652 / 1629], examples_per_second: 3184.8766, train_label_loss: 2.7726, \n"
     ]
    },
    {
     "name": "stdout",
     "output_type": "stream",
     "text": [
      "epoch: 3, [batch: 815 / 1629], examples_per_second: 3161.8655, train_label_loss: 2.7726, \n"
     ]
    },
    {
     "name": "stdout",
     "output_type": "stream",
     "text": [
      "epoch: 3, [batch: 977 / 1629], examples_per_second: 3167.6303, train_label_loss: 2.7726, \n"
     ]
    },
    {
     "name": "stdout",
     "output_type": "stream",
     "text": [
      "epoch: 3, [batch: 1140 / 1629], examples_per_second: 3169.1587, train_label_loss: 2.7726, \n"
     ]
    },
    {
     "name": "stdout",
     "output_type": "stream",
     "text": [
      "epoch: 3, [batch: 1303 / 1629], examples_per_second: 3184.3676, train_label_loss: 2.7726, \n"
     ]
    },
    {
     "name": "stdout",
     "output_type": "stream",
     "text": [
      "epoch: 3, [batch: 1466 / 1629], examples_per_second: 3175.0044, train_label_loss: 2.7726, \n"
     ]
    },
    {
     "name": "stdout",
     "output_type": "stream",
     "text": [
      "=============================================================\n",
      "epoch: 3, source_val_acc_label: 0.0625, target_val_acc_label: 0.0625, source_val_label_loss: 2.7726, target_val_label_loss: 2.7726, \n",
      "=============================================================\n"
     ]
    },
    {
     "name": "stdout",
     "output_type": "stream",
     "text": [
      "epoch: 4, [batch: 1 / 1629], examples_per_second: 16.7923, train_label_loss: 2.7726, \n"
     ]
    },
    {
     "name": "stdout",
     "output_type": "stream",
     "text": [
      "epoch: 4, [batch: 163 / 1629], examples_per_second: 3132.7613, train_label_loss: 2.7726, \n"
     ]
    },
    {
     "name": "stdout",
     "output_type": "stream",
     "text": [
      "epoch: 4, [batch: 326 / 1629], examples_per_second: 3177.7907, train_label_loss: 2.7726, \n"
     ]
    },
    {
     "name": "stdout",
     "output_type": "stream",
     "text": [
      "epoch: 4, [batch: 489 / 1629], examples_per_second: 3157.3428, train_label_loss: 2.7726, \n"
     ]
    },
    {
     "name": "stdout",
     "output_type": "stream",
     "text": [
      "epoch: 4, [batch: 652 / 1629], examples_per_second: 3159.7460, train_label_loss: 2.7726, \n"
     ]
    },
    {
     "name": "stdout",
     "output_type": "stream",
     "text": [
      "epoch: 4, [batch: 815 / 1629], examples_per_second: 3157.6013, train_label_loss: 2.7726, \n"
     ]
    },
    {
     "name": "stdout",
     "output_type": "stream",
     "text": [
      "epoch: 4, [batch: 977 / 1629], examples_per_second: 3179.6797, train_label_loss: 2.7726, \n"
     ]
    },
    {
     "name": "stdout",
     "output_type": "stream",
     "text": [
      "epoch: 4, [batch: 1140 / 1629], examples_per_second: 3181.2969, train_label_loss: 2.7726, \n"
     ]
    },
    {
     "name": "stdout",
     "output_type": "stream",
     "text": [
      "epoch: 4, [batch: 1303 / 1629], examples_per_second: 3176.2901, train_label_loss: 2.7726, \n"
     ]
    },
    {
     "name": "stdout",
     "output_type": "stream",
     "text": [
      "epoch: 4, [batch: 1466 / 1629], examples_per_second: 3182.0285, train_label_loss: 2.7726, \n"
     ]
    },
    {
     "name": "stdout",
     "output_type": "stream",
     "text": [
      "=============================================================\n",
      "epoch: 4, source_val_acc_label: 0.0625, target_val_acc_label: 0.0625, source_val_label_loss: 2.7726, target_val_label_loss: 2.7726, \n",
      "=============================================================\n"
     ]
    },
    {
     "name": "stdout",
     "output_type": "stream",
     "text": [
      "epoch: 5, [batch: 1 / 1629], examples_per_second: 16.7745, train_label_loss: 2.7726, \n"
     ]
    },
    {
     "name": "stdout",
     "output_type": "stream",
     "text": [
      "epoch: 5, [batch: 163 / 1629], examples_per_second: 3120.7298, train_label_loss: 2.7726, \n"
     ]
    },
    {
     "name": "stdout",
     "output_type": "stream",
     "text": [
      "epoch: 5, [batch: 326 / 1629], examples_per_second: 3149.2877, train_label_loss: 2.7726, \n"
     ]
    },
    {
     "name": "stdout",
     "output_type": "stream",
     "text": [
      "epoch: 5, [batch: 489 / 1629], examples_per_second: 3166.9113, train_label_loss: 2.7726, \n"
     ]
    },
    {
     "name": "stdout",
     "output_type": "stream",
     "text": [
      "epoch: 5, [batch: 652 / 1629], examples_per_second: 3173.8755, train_label_loss: 2.7726, \n"
     ]
    },
    {
     "name": "stdout",
     "output_type": "stream",
     "text": [
      "epoch: 5, [batch: 815 / 1629], examples_per_second: 3184.1622, train_label_loss: 2.7726, \n"
     ]
    },
    {
     "name": "stdout",
     "output_type": "stream",
     "text": [
      "epoch: 5, [batch: 977 / 1629], examples_per_second: 3193.4045, train_label_loss: 2.7726, \n"
     ]
    },
    {
     "name": "stdout",
     "output_type": "stream",
     "text": [
      "epoch: 5, [batch: 1140 / 1629], examples_per_second: 3177.8581, train_label_loss: 2.7726, \n"
     ]
    },
    {
     "name": "stdout",
     "output_type": "stream",
     "text": [
      "epoch: 5, [batch: 1303 / 1629], examples_per_second: 3177.2356, train_label_loss: 2.7726, \n"
     ]
    },
    {
     "name": "stdout",
     "output_type": "stream",
     "text": [
      "epoch: 5, [batch: 1466 / 1629], examples_per_second: 3188.0853, train_label_loss: 2.7726, \n"
     ]
    },
    {
     "name": "stdout",
     "output_type": "stream",
     "text": [
      "=============================================================\n",
      "epoch: 5, source_val_acc_label: 0.0625, target_val_acc_label: 0.0625, source_val_label_loss: 2.7726, target_val_label_loss: 2.7726, \n",
      "=============================================================\n"
     ]
    },
    {
     "name": "stdout",
     "output_type": "stream",
     "text": [
      "Patience (3) exhausted\n"
     ]
    }
   ],
   "source": [
    "###################################\n",
    "# train\n",
    "###################################\n",
    "jig = PTN_Train_Eval_Test_Jig(model, p.BEST_MODEL_PATH, p.device)\n",
    "\n",
    "jig.train(\n",
    "    train_iterable=datasets.source.processed.train,\n",
    "    source_val_iterable=datasets.source.processed.val,\n",
    "    target_val_iterable=datasets.target.processed.val,\n",
    "    num_epochs=p.n_epoch,\n",
    "    num_logs_per_epoch=p.NUM_LOGS_PER_EPOCH,\n",
    "    patience=p.patience,\n",
    "    optimizer=optimizer,\n",
    "    criteria_for_best=p.criteria_for_best,\n",
    ")"
   ]
  },
  {
   "cell_type": "code",
   "execution_count": 14,
   "id": "31e8fabf",
   "metadata": {
    "execution": {
     "iopub.execute_input": "2022-03-06T01:15:52.769771Z",
     "iopub.status.busy": "2022-03-06T01:15:52.769510Z",
     "iopub.status.idle": "2022-03-06T01:15:52.785756Z",
     "shell.execute_reply": "2022-03-06T01:15:52.785384Z"
    },
    "papermill": {
     "duration": 0.039192,
     "end_time": "2022-03-06T01:15:52.785849",
     "exception": false,
     "start_time": "2022-03-06T01:15:52.746657",
     "status": "completed"
    },
    "tags": []
   },
   "outputs": [],
   "source": [
    "total_experiment_time_secs = time.time() - start_time_secs"
   ]
  },
  {
   "cell_type": "code",
   "execution_count": 15,
   "id": "87b9595b",
   "metadata": {
    "execution": {
     "iopub.execute_input": "2022-03-06T01:15:52.836031Z",
     "iopub.status.busy": "2022-03-06T01:15:52.835766Z",
     "iopub.status.idle": "2022-03-06T01:16:25.353979Z",
     "shell.execute_reply": "2022-03-06T01:16:25.353493Z"
    },
    "papermill": {
     "duration": 32.544045,
     "end_time": "2022-03-06T01:16:25.354101",
     "exception": false,
     "start_time": "2022-03-06T01:15:52.810056",
     "status": "completed"
    },
    "tags": []
   },
   "outputs": [],
   "source": [
    "###################################\n",
    "# Evaluate the model\n",
    "###################################\n",
    "source_test_label_accuracy, source_test_label_loss = jig.test(datasets.source.processed.test)\n",
    "target_test_label_accuracy, target_test_label_loss = jig.test(datasets.target.processed.test)\n",
    "\n",
    "source_val_label_accuracy, source_val_label_loss = jig.test(datasets.source.processed.val)\n",
    "target_val_label_accuracy, target_val_label_loss = jig.test(datasets.target.processed.val)\n",
    "\n",
    "history = jig.get_history()\n",
    "\n",
    "total_epochs_trained = len(history[\"epoch_indices\"])\n",
    "\n",
    "val_dl = Iterable_Aggregator((datasets.source.original.val,datasets.target.original.val))\n",
    "\n",
    "confusion = ptn_confusion_by_domain_over_dataloader(model, p.device, val_dl)\n",
    "per_domain_accuracy = per_domain_accuracy_from_confusion(confusion)\n",
    "\n",
    "# Add a key to per_domain_accuracy for if it was a source domain\n",
    "for domain, accuracy in per_domain_accuracy.items():\n",
    "    per_domain_accuracy[domain] = {\n",
    "        \"accuracy\": accuracy,\n",
    "        \"source?\": domain in p.domains_source\n",
    "    }\n",
    "\n",
    "# Do an independent accuracy assesment JUST TO BE SURE!\n",
    "# _source_test_label_accuracy = independent_accuracy_assesment(model, datasets.source.processed.test, p.device)\n",
    "# _target_test_label_accuracy = independent_accuracy_assesment(model, datasets.target.processed.test, p.device)\n",
    "# _source_val_label_accuracy = independent_accuracy_assesment(model, datasets.source.processed.val, p.device)\n",
    "# _target_val_label_accuracy = independent_accuracy_assesment(model, datasets.target.processed.val, p.device)\n",
    "\n",
    "# assert(_source_test_label_accuracy == source_test_label_accuracy)\n",
    "# assert(_target_test_label_accuracy == target_test_label_accuracy)\n",
    "# assert(_source_val_label_accuracy == source_val_label_accuracy)\n",
    "# assert(_target_val_label_accuracy == target_val_label_accuracy)\n",
    "\n",
    "experiment = {\n",
    "    \"experiment_name\": p.experiment_name,\n",
    "    \"parameters\": dict(p),\n",
    "    \"results\": {\n",
    "        \"source_test_label_accuracy\": source_test_label_accuracy,\n",
    "        \"source_test_label_loss\": source_test_label_loss,\n",
    "        \"target_test_label_accuracy\": target_test_label_accuracy,\n",
    "        \"target_test_label_loss\": target_test_label_loss,\n",
    "        \"source_val_label_accuracy\": source_val_label_accuracy,\n",
    "        \"source_val_label_loss\": source_val_label_loss,\n",
    "        \"target_val_label_accuracy\": target_val_label_accuracy,\n",
    "        \"target_val_label_loss\": target_val_label_loss,\n",
    "        \"total_epochs_trained\": total_epochs_trained,\n",
    "        \"total_experiment_time_secs\": total_experiment_time_secs,\n",
    "        \"confusion\": confusion,\n",
    "        \"per_domain_accuracy\": per_domain_accuracy,\n",
    "    },\n",
    "    \"history\": history,\n",
    "    \"dataset_metrics\": get_dataset_metrics(datasets, \"ptn\"),\n",
    "}"
   ]
  },
  {
   "cell_type": "code",
   "execution_count": 16,
   "id": "54a21829",
   "metadata": {
    "execution": {
     "iopub.execute_input": "2022-03-06T01:16:25.403460Z",
     "iopub.status.busy": "2022-03-06T01:16:25.402546Z",
     "iopub.status.idle": "2022-03-06T01:16:25.582611Z",
     "shell.execute_reply": "2022-03-06T01:16:25.582110Z"
    },
    "papermill": {
     "duration": 0.202522,
     "end_time": "2022-03-06T01:16:25.582727",
     "exception": false,
     "start_time": "2022-03-06T01:16:25.380205",
     "status": "completed"
    },
    "tags": []
   },
   "outputs": [
    {
     "data": {
      "image/png": "[encoded data removed]",
      "text/plain": [
       "<Figure size 1080x504 with 1 Axes>"
      ]
     },
     "metadata": {
      "needs_background": "light"
     },
     "output_type": "display_data"
    }
   ],
   "source": [
    "ax = get_loss_curve(experiment)\n",
    "plt.show()"
   ]
  },
  {
   "cell_type": "code",
   "execution_count": 17,
   "id": "fd8a0f60",
   "metadata": {
    "execution": {
     "iopub.execute_input": "2022-03-06T01:16:25.631382Z",
     "iopub.status.busy": "2022-03-06T01:16:25.631132Z",
     "iopub.status.idle": "2022-03-06T01:16:25.813926Z",
     "shell.execute_reply": "2022-03-06T01:16:25.814338Z"
    },
    "papermill": {
     "duration": 0.206615,
     "end_time": "2022-03-06T01:16:25.814470",
     "exception": false,
     "start_time": "2022-03-06T01:16:25.607855",
     "status": "completed"
    },
    "tags": []
   },
   "outputs": [
    {
     "data": {
      "text/plain": [
       "<matplotlib.axes._subplots.AxesSubplot at 0x7fb4645616a0>"
      ]
     },
     "execution_count": 17,
     "metadata": {},
     "output_type": "execute_result"
    },
    {
     "data": {
      "image/png": "[encoded data removed]",
      "text/plain": [
       "<Figure size 1080x504 with 1 Axes>"
      ]
     },
     "metadata": {
      "needs_background": "light"
     },
     "output_type": "display_data"
    }
   ],
   "source": [
    "get_results_table(experiment)"
   ]
  },
  {
   "cell_type": "code",
   "execution_count": 18,
   "id": "cf8dc689",
   "metadata": {
    "execution": {
     "iopub.execute_input": "2022-03-06T01:16:25.867813Z",
     "iopub.status.busy": "2022-03-06T01:16:25.867554Z",
     "iopub.status.idle": "2022-03-06T01:16:26.042601Z",
     "shell.execute_reply": "2022-03-06T01:16:26.042105Z"
    },
    "papermill": {
     "duration": 0.200221,
     "end_time": "2022-03-06T01:16:26.042734",
     "exception": false,
     "start_time": "2022-03-06T01:16:25.842513",
     "status": "completed"
    },
    "tags": []
   },
   "outputs": [
    {
     "data": {
      "text/plain": [
       "<matplotlib.axes._subplots.AxesSubplot at 0x7fb4646e22e0>"
      ]
     },
     "execution_count": 18,
     "metadata": {},
     "output_type": "execute_result"
    },
    {
     "data": {
      "image/png": "[encoded data removed]",
      "text/plain": [
       "<Figure size 1080x504 with 1 Axes>"
      ]
     },
     "metadata": {
      "needs_background": "light"
     },
     "output_type": "display_data"
    }
   ],
   "source": [
    "get_domain_accuracies(experiment)"
   ]
  },
  {
   "cell_type": "code",
   "execution_count": 19,
   "id": "a74ae082",
   "metadata": {
    "execution": {
     "iopub.execute_input": "2022-03-06T01:16:26.096422Z",
     "iopub.status.busy": "2022-03-06T01:16:26.095809Z",
     "iopub.status.idle": "2022-03-06T01:16:26.109849Z",
     "shell.execute_reply": "2022-03-06T01:16:26.109369Z"
    },
    "papermill": {
     "duration": 0.040008,
     "end_time": "2022-03-06T01:16:26.109949",
     "exception": false,
     "start_time": "2022-03-06T01:16:26.069941",
     "status": "completed"
    },
    "tags": []
   },
   "outputs": [
    {
     "name": "stdout",
     "output_type": "stream",
     "text": [
      "Source Test Label Accuracy: 0.0625 Target Test Label Accuracy: 0.0625\n",
      "Source Val Label Accuracy: 0.0625 Target Val Label Accuracy: 0.0625\n"
     ]
    }
   ],
   "source": [
    "print(\"Source Test Label Accuracy:\", experiment[\"results\"][\"source_test_label_accuracy\"], \"Target Test Label Accuracy:\", experiment[\"results\"][\"target_test_label_accuracy\"])\n",
    "print(\"Source Val Label Accuracy:\", experiment[\"results\"][\"source_val_label_accuracy\"], \"Target Val Label Accuracy:\", experiment[\"results\"][\"target_val_label_accuracy\"])"
   ]
  },
  {
   "cell_type": "code",
   "execution_count": 20,
   "id": "dacca602",
   "metadata": {
    "execution": {
     "iopub.execute_input": "2022-03-06T01:16:26.159542Z",
     "iopub.status.busy": "2022-03-06T01:16:26.159289Z",
     "iopub.status.idle": "2022-03-06T01:16:26.169402Z",
     "shell.execute_reply": "2022-03-06T01:16:26.169090Z"
    },
    "papermill": {
     "duration": 0.034395,
     "end_time": "2022-03-06T01:16:26.169482",
     "exception": false,
     "start_time": "2022-03-06T01:16:26.135087",
     "status": "completed"
    },
    "tags": [
     "experiment_json"
    ]
   },
   "outputs": [
    {
     "data": {
      "text/plain": [
       "'{\"experiment_name\": \"tuned_1_oracle.run1.framed\", \"parameters\": {\"experiment_name\": \"tuned_1_oracle.run1.framed\", \"device\": \"cuda\", \"lr\": 0.001, \"seed\": 1337, \"dataset_seed\": 1337, \"labels_source\": [\"3123D52\", \"3123D65\", \"3123D79\", \"3123D80\", \"3123D54\", \"3123D70\", \"3123D7B\", \"3123D89\", \"3123D58\", \"3123D76\", \"3123D7D\", \"3123EFE\", \"3123D64\", \"3123D78\", \"3123D7E\", \"3124E4A\"], \"labels_target\": [\"3123D52\", \"3123D65\", \"3123D79\", \"3123D80\", \"3123D54\", \"3123D70\", \"3123D7B\", \"3123D89\", \"3123D58\", \"3123D76\", \"3123D7D\", \"3123EFE\", \"3123D64\", \"3123D78\", \"3123D7E\", \"3124E4A\"], \"x_transforms_source\": [\"times_zero\"], \"x_transforms_target\": [\"times_zero\"], \"episode_transforms_source\": [], \"episode_transforms_target\": [], \"domains_source\": [8, 32, 50], \"domains_target\": [14, 20, 26, 38, 44], \"num_examples_per_domain_per_label_source\": 1300, \"num_examples_per_domain_per_label_target\": 1300, \"n_shot\": 3, \"n_way\": 16, \"n_query\": 2, \"train_k_factor\": 3, \"val_k_factor\": 2, \"test_k_factor\": 2, \"torch_default_dtype\": \"torch.float32\", \"n_epoch\": 50, \"patience\": 3, \"criteria_for_best\": \"target_loss\", \"x_net\": [{\"class\": \"nnReshape\", \"kargs\": {\"shape\": [-1, 1, 2, 256]}}, {\"class\": \"Conv2d\", \"kargs\": {\"in_channels\": 1, \"out_channels\": 256, \"kernel_size\": [1, 7], \"bias\": false, \"padding\": [0, 3]}}, {\"class\": \"ReLU\", \"kargs\": {\"inplace\": true}}, {\"class\": \"BatchNorm2d\", \"kargs\": {\"num_features\": 256}}, {\"class\": \"Conv2d\", \"kargs\": {\"in_channels\": 256, \"out_channels\": 80, \"kernel_size\": [2, 7], \"bias\": true, \"padding\": [0, 3]}}, {\"class\": \"ReLU\", \"kargs\": {\"inplace\": true}}, {\"class\": \"BatchNorm2d\", \"kargs\": {\"num_features\": 80}}, {\"class\": \"Flatten\", \"kargs\": {}}, {\"class\": \"Linear\", \"kargs\": {\"in_features\": 20480, \"out_features\": 256}}, {\"class\": \"ReLU\", \"kargs\": {\"inplace\": true}}, {\"class\": \"BatchNorm1d\", \"kargs\": {\"num_features\": 256}}, {\"class\": \"Linear\", \"kargs\": {\"in_features\": 256, \"out_features\": 256}}], \"NUM_LOGS_PER_EPOCH\": 10, \"BEST_MODEL_PATH\": \"./best_model.pth\", \"pickle_name\": \"oracle.Run1_framed_1300Examples_stratified_ds.2022A.pkl\"}, \"results\": {\"source_test_label_accuracy\": 0.0625, \"source_test_label_loss\": 2.7725846767425537, \"target_test_label_accuracy\": 0.0625, \"target_test_label_loss\": 2.7725839614868164, \"source_val_label_accuracy\": 0.0625, \"source_val_label_loss\": 2.7725846767425537, \"target_val_label_accuracy\": 0.0625, \"target_val_label_loss\": 2.7725839614868164, \"total_epochs_trained\": 5, \"total_experiment_time_secs\": 236.57358837127686, \"confusion\": {\"8\": {\"15\": {\"0\": 156}, \"3\": {\"0\": 156}, \"6\": {\"0\": 156}, \"1\": {\"0\": 156}, \"8\": {\"0\": 156}, \"10\": {\"0\": 156}, \"9\": {\"0\": 156}, \"13\": {\"0\": 156}, \"12\": {\"0\": 156}, \"5\": {\"0\": 156}, \"0\": {\"0\": 156}, \"2\": {\"0\": 156}, \"11\": {\"0\": 156}, \"14\": {\"0\": 156}, \"7\": {\"0\": 156}, \"4\": {\"0\": 156}}, \"50\": {\"3\": {\"0\": 156}, \"15\": {\"0\": 156}, \"8\": {\"0\": 156}, \"4\": {\"0\": 156}, \"14\": {\"0\": 156}, \"0\": {\"0\": 156}, \"7\": {\"0\": 156}, \"6\": {\"0\": 156}, \"10\": {\"0\": 156}, \"5\": {\"0\": 156}, \"2\": {\"0\": 156}, \"12\": {\"0\": 156}, \"9\": {\"0\": 156}, \"1\": {\"0\": 156}, \"11\": {\"0\": 156}, \"13\": {\"0\": 156}}, \"32\": {\"5\": {\"0\": 156}, \"8\": {\"0\": 156}, \"11\": {\"0\": 156}, \"1\": {\"0\": 156}, \"10\": {\"0\": 156}, \"15\": {\"0\": 156}, \"3\": {\"0\": 156}, \"7\": {\"0\": 156}, \"4\": {\"0\": 156}, \"14\": {\"0\": 156}, \"9\": {\"0\": 156}, \"12\": {\"0\": 156}, \"6\": {\"0\": 156}, \"2\": {\"0\": 156}, \"0\": {\"0\": 156}, \"13\": {\"0\": 156}}, \"14\": {\"15\": {\"0\": 156}, \"3\": {\"0\": 156}, \"6\": {\"0\": 156}, \"1\": {\"0\": 156}, \"8\": {\"0\": 156}, \"10\": {\"0\": 156}, \"9\": {\"0\": 156}, \"13\": {\"0\": 156}, \"12\": {\"0\": 156}, \"5\": {\"0\": 156}, \"0\": {\"0\": 156}, \"2\": {\"0\": 156}, \"11\": {\"0\": 156}, \"14\": {\"0\": 156}, \"7\": {\"0\": 156}, \"4\": {\"0\": 156}}, \"20\": {\"3\": {\"0\": 156}, \"15\": {\"0\": 156}, \"8\": {\"0\": 156}, \"4\": {\"0\": 156}, \"14\": {\"0\": 156}, \"0\": {\"0\": 156}, \"7\": {\"0\": 156}, \"6\": {\"0\": 156}, \"10\": {\"0\": 156}, \"5\": {\"0\": 156}, \"2\": {\"0\": 156}, \"12\": {\"0\": 156}, \"9\": {\"0\": 156}, \"1\": {\"0\": 156}, \"11\": {\"0\": 156}, \"13\": {\"0\": 156}}, \"44\": {\"5\": {\"0\": 156}, \"8\": {\"0\": 156}, \"11\": {\"0\": 156}, \"1\": {\"0\": 156}, \"10\": {\"0\": 156}, \"15\": {\"0\": 156}, \"3\": {\"0\": 156}, \"7\": {\"0\": 156}, \"4\": {\"0\": 156}, \"14\": {\"0\": 156}, \"9\": {\"0\": 156}, \"12\": {\"0\": 156}, \"6\": {\"0\": 156}, \"2\": {\"0\": 156}, \"0\": {\"0\": 156}, \"13\": {\"0\": 156}}, \"38\": {\"14\": {\"0\": 156}, \"0\": {\"0\": 156}, \"13\": {\"0\": 156}, \"7\": {\"0\": 156}, \"9\": {\"0\": 156}, \"3\": {\"0\": 156}, \"11\": {\"0\": 156}, \"6\": {\"0\": 156}, \"8\": {\"0\": 156}, \"4\": {\"0\": 156}, \"5\": {\"0\": 156}, \"10\": {\"0\": 156}, \"1\": {\"0\": 156}, \"2\": {\"0\": 156}, \"15\": {\"0\": 156}, \"12\": {\"0\": 156}}, \"26\": {\"13\": {\"0\": 156}, \"2\": {\"0\": 156}, \"8\": {\"0\": 156}, \"9\": {\"0\": 156}, \"12\": {\"0\": 156}, \"4\": {\"0\": 156}, \"3\": {\"0\": 156}, \"15\": {\"0\": 156}, \"14\": {\"0\": 156}, \"10\": {\"0\": 156}, \"7\": {\"0\": 156}, \"11\": {\"0\": 156}, \"6\": {\"0\": 156}, \"1\": {\"0\": 156}, \"5\": {\"0\": 156}, \"0\": {\"0\": 156}}}, \"per_domain_accuracy\": {\"8\": {\"accuracy\": 0.0625, \"source?\": true}, \"50\": {\"accuracy\": 0.0625, \"source?\": true}, \"32\": {\"accuracy\": 0.0625, \"source?\": true}, \"14\": {\"accuracy\": 0.0625, \"source?\": false}, \"20\": {\"accuracy\": 0.0625, \"source?\": false}, \"44\": {\"accuracy\": 0.0625, \"source?\": false}, \"38\": {\"accuracy\": 0.0625, \"source?\": false}, \"26\": {\"accuracy\": 0.0625, \"source?\": false}}}, \"history\": {\"epoch_indices\": [1, 2, 3, 4, 5], \"train_label_loss\": [2.772589921951294, 2.772589921951294, 2.772589921951294, 2.772589921951294, 2.772589921951294], \"source_val_label_loss\": [2.7725846767425537, 2.7725846767425537, 2.7725846767425537, 2.7725846767425537, 2.7725846767425537], \"target_val_label_loss\": [2.7725839614868164, 2.7725839614868164, 2.7725839614868164, 2.7725839614868164, 2.7725839614868164], \"source_val_acc_label\": [0.0625, 0.0625, 0.0625, 0.0625, 0.0625], \"target_val_acc_label\": [0.0625, 0.0625, 0.0625, 0.0625, 0.0625]}, \"dataset_metrics\": {\"source\": {\"train\": {\"n_unique_x\": 43632, \"n_unique_y\": 16, \"n_batch/episode\": 1629}, \"val\": {\"n_unique_x\": 9360, \"n_unique_y\": 16, \"n_batch/episode\": 234}, \"test\": {\"n_unique_x\": 9408, \"n_unique_y\": 16, \"n_batch/episode\": 234}}, \"target\": {\"train\": {\"n_unique_x\": 72719, \"n_unique_y\": 16, \"n_batch/episode\": 2715}, \"val\": {\"n_unique_x\": 15600, \"n_unique_y\": 16, \"n_batch/episode\": 390}, \"test\": {\"n_unique_x\": 15680, \"n_unique_y\": 16, \"n_batch/episode\": 390}}}}'"
      ]
     },
     "execution_count": 20,
     "metadata": {},
     "output_type": "execute_result"
    }
   ],
   "source": [
    "json.dumps(experiment)"
   ]
  }
 ],
 "metadata": {
  "celltoolbar": "Tags",
  "kernelspec": {
   "display_name": "Python 3 (ipykernel)",
   "language": "python",
   "name": "python3"
  },
  "language_info": {
   "codemirror_mode": {
    "name": "ipython",
    "version": 3
   },
   "file_extension": ".py",
   "mimetype": "text/x-python",
   "name": "python",
   "nbconvert_exporter": "python",
   "pygments_lexer": "ipython3",
   "version": "3.8.10"
  },
  "papermill": {
   "default_parameters": {},
   "duration": 272.72204,
   "end_time": "2022-03-06T01:16:27.004851",
   "environment_variables": {},
   "exception": null,
   "input_path": "/mnt/wd500GB/CSC500/csc500-main/csc500-notebooks/templates/ptn_template.ipynb",
   "output_path": "trial.ipynb",
   "parameters": {
    "parameters": {
     "BEST_MODEL_PATH": "./best_model.pth",
     "NUM_LOGS_PER_EPOCH": 10,
     "criteria_for_best": "target_loss",
     "dataset_seed": 1337,
     "device": "cuda",
     "domains_source": [
      8,
      32,
      50
     ],
     "domains_target": [
      14,
      20,
      26,
      38,
      44
     ],
     "episode_transforms_source": [],
     "episode_transforms_target": [],
     "experiment_name": "tuned_1_oracle.run1.framed",
     "labels_source": [
      "3123D52",
      "3123D65",
      "3123D79",
      "3123D80",
      "3123D54",
      "3123D70",
      "3123D7B",
      "3123D89",
      "3123D58",
      "3123D76",
      "3123D7D",
      "3123EFE",
      "3123D64",
      "3123D78",
      "3123D7E",
      "3124E4A"
     ],
     "labels_target": [
      "3123D52",
      "3123D65",
      "3123D79",
      "3123D80",
      "3123D54",
      "3123D70",
      "3123D7B",
      "3123D89",
      "3123D58",
      "3123D76",
      "3123D7D",
      "3123EFE",
      "3123D64",
      "3123D78",
      "3123D7E",
      "3124E4A"
     ],
     "lr": 0.001,
     "n_epoch": 50,
     "n_query": 2,
     "n_shot": 3,
     "n_way": 16,
     "num_examples_per_domain_per_label_source": 1300,
     "num_examples_per_domain_per_label_target": 1300,
     "patience": 3,
     "pickle_name": "oracle.Run1_framed_1300Examples_stratified_ds.2022A.pkl",
     "seed": 1337,
     "test_k_factor": 2,
     "torch_default_dtype": "torch.float32",
     "train_k_factor": 3,
     "val_k_factor": 2,
     "x_net": [
      {
       "class": "nnReshape",
       "kargs": {
        "shape": [
         -1,
         1,
         2,
         256
        ]
       }
      },
      {
       "class": "Conv2d",
       "kargs": {
        "bias": false,
        "in_channels": 1,
        "kernel_size": [
         1,
         7
        ],
        "out_channels": 256,
        "padding": [
         0,
         3
        ]
       }
      },
      {
       "class": "ReLU",
       "kargs": {
        "inplace": true
       }
      },
      {
       "class": "BatchNorm2d",
       "kargs": {
        "num_features": 256
       }
      },
      {
       "class": "Conv2d",
       "kargs": {
        "bias": true,
        "in_channels": 256,
        "kernel_size": [
         2,
         7
        ],
        "out_channels": 80,
        "padding": [
         0,
         3
        ]
       }
      },
      {
       "class": "ReLU",
       "kargs": {
        "inplace": true
       }
      },
      {
       "class": "BatchNorm2d",
       "kargs": {
        "num_features": 80
       }
      },
      {
       "class": "Flatten",
       "kargs": {}
      },
      {
       "class": "Linear",
       "kargs": {
        "in_features": 20480,
        "out_features": 256
       }
      },
      {
       "class": "ReLU",
       "kargs": {
        "inplace": true
       }
      },
      {
       "class": "BatchNorm1d",
       "kargs": {
        "num_features": 256
       }
      },
      {
       "class": "Linear",
       "kargs": {
        "in_features": 256,
        "out_features": 256
       }
      }
     ],
     "x_transforms_source": [
      "times_zero"
     ],
     "x_transforms_target": [
      "times_zero"
     ]
    }
   },
   "start_time": "2022-03-06T01:11:54.282811",
   "version": "2.3.4"
  }
 },
 "nbformat": 4,
 "nbformat_minor": 5
}