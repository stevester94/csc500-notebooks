{
 "cells": [
  {
   "cell_type": "markdown",
   "id": "9fea5f46",
   "metadata": {
    "papermill": {
     "duration": 0.014019,
     "end_time": "2022-03-06T00:54:22.576745",
     "exception": false,
     "start_time": "2022-03-06T00:54:22.562726",
     "status": "completed"
    },
    "tags": []
   },
   "source": [
    "# PTN Template\n",
    "This notebook serves as a template for single dataset PTN experiments  \n",
    "It can be run on its own by setting STANDALONE to True (do a find for \"STANDALONE\" to see where)  \n",
    "But it is intended to be executed as part of a *papermill.py script. See any of the   \n",
    "experimentes with a papermill script to get started with that workflow.  "
   ]
  },
  {
   "cell_type": "code",
   "execution_count": 1,
   "id": "0902182a",
   "metadata": {
    "execution": {
     "iopub.execute_input": "2022-03-06T00:54:22.611388Z",
     "iopub.status.busy": "2022-03-06T00:54:22.610830Z",
     "iopub.status.idle": "2022-03-06T00:54:23.426690Z",
     "shell.execute_reply": "2022-03-06T00:54:23.426170Z"
    },
    "papermill": {
     "duration": 0.84027,
     "end_time": "2022-03-06T00:54:23.426823",
     "exception": false,
     "start_time": "2022-03-06T00:54:22.586553",
     "status": "completed"
    },
    "tags": []
   },
   "outputs": [],
   "source": [
    "%load_ext autoreload\n",
    "%autoreload 2\n",
    "%matplotlib inline\n",
    "\n",
    "    \n",
    "import os, json, sys, time, random\n",
    "import numpy as np\n",
    "import torch\n",
    "from torch.optim import Adam\n",
    "from  easydict import EasyDict\n",
    "import matplotlib.pyplot as plt\n",
    "\n",
    "from steves_models.steves_ptn import Steves_Prototypical_Network\n",
    "\n",
    "from steves_utils.lazy_iterable_wrapper import Lazy_Iterable_Wrapper\n",
    "from steves_utils.iterable_aggregator import Iterable_Aggregator\n",
    "from steves_utils.ptn_train_eval_test_jig import  PTN_Train_Eval_Test_Jig\n",
    "from steves_utils.torch_sequential_builder import build_sequential\n",
    "from steves_utils.torch_utils import get_dataset_metrics, ptn_confusion_by_domain_over_dataloader\n",
    "from steves_utils.utils_v2 import (per_domain_accuracy_from_confusion, get_datasets_base_path)\n",
    "from steves_utils.PTN.utils import independent_accuracy_assesment\n",
    "\n",
    "from steves_utils.stratified_dataset.episodic_accessor import Episodic_Accessor_Factory\n",
    "\n",
    "from steves_utils.ptn_do_report import (\n",
    "    get_loss_curve,\n",
    "    get_results_table,\n",
    "    get_parameters_table,\n",
    "    get_domain_accuracies,\n",
    ")\n",
    "\n",
    "from steves_utils.transforms import get_chained_transform"
   ]
  },
  {
   "cell_type": "markdown",
   "id": "41c840b4",
   "metadata": {
    "papermill": {
     "duration": 0.009044,
     "end_time": "2022-03-06T00:54:23.449744",
     "exception": false,
     "start_time": "2022-03-06T00:54:23.440700",
     "status": "completed"
    },
    "tags": []
   },
   "source": [
    "# Required Parameters\n",
    "These are allowed parameters, not defaults\n",
    "Each of these values need to be present in the injected parameters (the notebook will raise an exception if they are not present)\n",
    "\n",
    "Papermill uses the cell tag \"parameters\" to inject the real parameters below this cell.\n",
    "Enable tags to see what I mean"
   ]
  },
  {
   "cell_type": "code",
   "execution_count": 2,
   "id": "fd44eb83",
   "metadata": {
    "execution": {
     "iopub.execute_input": "2022-03-06T00:54:23.471725Z",
     "iopub.status.busy": "2022-03-06T00:54:23.471430Z",
     "iopub.status.idle": "2022-03-06T00:54:23.483634Z",
     "shell.execute_reply": "2022-03-06T00:54:23.483232Z"
    },
    "papermill": {
     "duration": 0.024917,
     "end_time": "2022-03-06T00:54:23.483737",
     "exception": false,
     "start_time": "2022-03-06T00:54:23.458820",
     "status": "completed"
    },
    "tags": []
   },
   "outputs": [],
   "source": [
    "required_parameters = {\n",
    "    \"experiment_name\",\n",
    "    \"lr\",\n",
    "    \"device\",\n",
    "    \"seed\",\n",
    "    \"dataset_seed\",\n",
    "    \"labels_source\",\n",
    "    \"labels_target\",\n",
    "    \"domains_source\",\n",
    "    \"domains_target\",\n",
    "    \"num_examples_per_domain_per_label_source\",\n",
    "    \"num_examples_per_domain_per_label_target\",\n",
    "    \"n_shot\",\n",
    "    \"n_way\",\n",
    "    \"n_query\",\n",
    "    \"train_k_factor\",\n",
    "    \"val_k_factor\",\n",
    "    \"test_k_factor\",\n",
    "    \"n_epoch\",\n",
    "    \"patience\",\n",
    "    \"criteria_for_best\",\n",
    "    \"x_transforms_source\",\n",
    "    \"x_transforms_target\",\n",
    "    \"episode_transforms_source\",\n",
    "    \"episode_transforms_target\",\n",
    "    \"pickle_name\",\n",
    "    \"x_net\",\n",
    "    \"NUM_LOGS_PER_EPOCH\",\n",
    "    \"BEST_MODEL_PATH\",\n",
    "    \"torch_default_dtype\"\n",
    "}"
   ]
  },
  {
   "cell_type": "code",
   "execution_count": 3,
   "id": "fa3f0049",
   "metadata": {
    "execution": {
     "iopub.execute_input": "2022-03-06T00:54:23.512451Z",
     "iopub.status.busy": "2022-03-06T00:54:23.512032Z",
     "iopub.status.idle": "2022-03-06T00:54:23.523285Z",
     "shell.execute_reply": "2022-03-06T00:54:23.522877Z"
    },
    "papermill": {
     "duration": 0.02651,
     "end_time": "2022-03-06T00:54:23.523390",
     "exception": false,
     "start_time": "2022-03-06T00:54:23.496880",
     "status": "completed"
    },
    "tags": [
     "parameters"
    ]
   },
   "outputs": [],
   "source": [
    "\n",
    "\n",
    "standalone_parameters = {}\n",
    "standalone_parameters[\"experiment_name\"] = \"STANDALONE PTN\"\n",
    "standalone_parameters[\"lr\"] = 0.0001\n",
    "standalone_parameters[\"device\"] = \"cuda\"\n",
    "\n",
    "standalone_parameters[\"seed\"] = 1337\n",
    "standalone_parameters[\"dataset_seed\"] = 1337\n",
    "\n",
    "\n",
    "standalone_parameters[\"num_examples_per_domain_per_label_source\"]=100\n",
    "standalone_parameters[\"num_examples_per_domain_per_label_target\"]=100\n",
    "\n",
    "standalone_parameters[\"n_shot\"] = 3\n",
    "standalone_parameters[\"n_query\"]  = 2\n",
    "standalone_parameters[\"train_k_factor\"] = 1\n",
    "standalone_parameters[\"val_k_factor\"] = 2\n",
    "standalone_parameters[\"test_k_factor\"] = 2\n",
    "\n",
    "\n",
    "standalone_parameters[\"n_epoch\"] = 100\n",
    "\n",
    "standalone_parameters[\"patience\"] = 10\n",
    "standalone_parameters[\"criteria_for_best\"] = \"target_accuracy\"\n",
    "\n",
    "standalone_parameters[\"x_transforms_source\"] = [\"unit_power\"]\n",
    "standalone_parameters[\"x_transforms_target\"] = [\"unit_power\"]\n",
    "standalone_parameters[\"episode_transforms_source\"] = []\n",
    "standalone_parameters[\"episode_transforms_target\"] = []\n",
    "\n",
    "standalone_parameters[\"torch_default_dtype\"] = \"torch.float32\" \n",
    "\n",
    "\n",
    "\n",
    "standalone_parameters[\"x_net\"] =     [\n",
    "    {\"class\": \"nnReshape\", \"kargs\": {\"shape\":[-1, 1, 2, 256]}},\n",
    "    {\"class\": \"Conv2d\", \"kargs\": { \"in_channels\":1, \"out_channels\":256, \"kernel_size\":(1,7), \"bias\":False, \"padding\":(0,3), },},\n",
    "    {\"class\": \"ReLU\", \"kargs\": {\"inplace\": True}},\n",
    "    {\"class\": \"BatchNorm2d\", \"kargs\": {\"num_features\":256}},\n",
    "\n",
    "    {\"class\": \"Conv2d\", \"kargs\": { \"in_channels\":256, \"out_channels\":80, \"kernel_size\":(2,7), \"bias\":True, \"padding\":(0,3), },},\n",
    "    {\"class\": \"ReLU\", \"kargs\": {\"inplace\": True}},\n",
    "    {\"class\": \"BatchNorm2d\", \"kargs\": {\"num_features\":80}},\n",
    "    {\"class\": \"Flatten\", \"kargs\": {}},\n",
    "\n",
    "    {\"class\": \"Linear\", \"kargs\": {\"in_features\": 80*256, \"out_features\": 256}}, # 80 units per IQ pair\n",
    "    {\"class\": \"ReLU\", \"kargs\": {\"inplace\": True}},\n",
    "    {\"class\": \"BatchNorm1d\", \"kargs\": {\"num_features\":256}},\n",
    "\n",
    "    {\"class\": \"Linear\", \"kargs\": {\"in_features\": 256, \"out_features\": 256}},\n",
    "]\n",
    "\n",
    "# Parameters relevant to results\n",
    "# These parameters will basically never need to change\n",
    "standalone_parameters[\"NUM_LOGS_PER_EPOCH\"] = 10\n",
    "standalone_parameters[\"BEST_MODEL_PATH\"] = \"./best_model.pth\"\n",
    "\n",
    "# uncomment for CORES dataset\n",
    "from steves_utils.CORES.utils import (\n",
    "    ALL_NODES,\n",
    "    ALL_NODES_MINIMUM_1000_EXAMPLES,\n",
    "    ALL_DAYS\n",
    ")\n",
    "\n",
    "\n",
    "standalone_parameters[\"labels_source\"] = ALL_NODES\n",
    "standalone_parameters[\"labels_target\"] = ALL_NODES\n",
    "\n",
    "standalone_parameters[\"domains_source\"] = [1]\n",
    "standalone_parameters[\"domains_target\"] = [2,3,4,5]\n",
    "\n",
    "standalone_parameters[\"pickle_name\"] = \"cores.stratified_ds.2022A.pkl\"\n",
    "\n",
    "\n",
    "# Uncomment these for ORACLE dataset\n",
    "# from steves_utils.ORACLE.utils_v2 import (\n",
    "#     ALL_DISTANCES_FEET,\n",
    "#     ALL_RUNS,\n",
    "#     ALL_SERIAL_NUMBERS,\n",
    "# )\n",
    "# standalone_parameters[\"labels_source\"] = ALL_SERIAL_NUMBERS\n",
    "# standalone_parameters[\"labels_target\"] = ALL_SERIAL_NUMBERS\n",
    "# standalone_parameters[\"domains_source\"] = [8,20, 38,50]\n",
    "# standalone_parameters[\"domains_target\"] = [14, 26, 32, 44, 56]\n",
    "# standalone_parameters[\"pickle_name\"] = \"oracle.frame_indexed.stratified_ds.2022A.pkl\"\n",
    "# standalone_parameters[\"num_examples_per_domain_per_label_source\"]=1000\n",
    "# standalone_parameters[\"num_examples_per_domain_per_label_target\"]=1000\n",
    "\n",
    "# Uncomment these for Metahan dataset\n",
    "# standalone_parameters[\"labels_source\"] = list(range(19))\n",
    "# standalone_parameters[\"labels_target\"] = list(range(19))\n",
    "# standalone_parameters[\"domains_source\"] = [0]\n",
    "# standalone_parameters[\"domains_target\"] = [1]\n",
    "# standalone_parameters[\"pickle_name\"] = \"metehan.stratified_ds.2022A.pkl\"\n",
    "# standalone_parameters[\"n_way\"]  = len(standalone_parameters[\"labels_source\"])\n",
    "# standalone_parameters[\"num_examples_per_domain_per_label_source\"]=200\n",
    "# standalone_parameters[\"num_examples_per_domain_per_label_target\"]=100\n",
    "\n",
    "\n",
    "standalone_parameters[\"n_way\"]  = len(standalone_parameters[\"labels_source\"])"
   ]
  },
  {
   "cell_type": "code",
   "execution_count": 4,
   "id": "a5d36956",
   "metadata": {
    "execution": {
     "iopub.execute_input": "2022-03-06T00:54:23.558722Z",
     "iopub.status.busy": "2022-03-06T00:54:23.548290Z",
     "iopub.status.idle": "2022-03-06T00:54:23.570449Z",
     "shell.execute_reply": "2022-03-06T00:54:23.570010Z"
    },
    "papermill": {
     "duration": 0.033529,
     "end_time": "2022-03-06T00:54:23.570549",
     "exception": false,
     "start_time": "2022-03-06T00:54:23.537020",
     "status": "completed"
    },
    "tags": [
     "injected-parameters"
    ]
   },
   "outputs": [],
   "source": [
    "# Parameters\n",
    "parameters = {\n",
    "    \"experiment_name\": \"tuned_1_cores\",\n",
    "    \"device\": \"cuda\",\n",
    "    \"lr\": 0.001,\n",
    "    \"seed\": 1337,\n",
    "    \"dataset_seed\": 1337,\n",
    "    \"labels_source\": [\n",
    "        \"1-10.\",\n",
    "        \"1-11.\",\n",
    "        \"1-15.\",\n",
    "        \"1-16.\",\n",
    "        \"1-17.\",\n",
    "        \"1-18.\",\n",
    "        \"1-19.\",\n",
    "        \"10-4.\",\n",
    "        \"10-7.\",\n",
    "        \"11-1.\",\n",
    "        \"11-14.\",\n",
    "        \"11-17.\",\n",
    "        \"11-20.\",\n",
    "        \"11-7.\",\n",
    "        \"13-20.\",\n",
    "        \"13-8.\",\n",
    "        \"14-10.\",\n",
    "        \"14-11.\",\n",
    "        \"14-14.\",\n",
    "        \"14-7.\",\n",
    "        \"15-1.\",\n",
    "        \"15-20.\",\n",
    "        \"16-1.\",\n",
    "        \"16-16.\",\n",
    "        \"17-10.\",\n",
    "        \"17-11.\",\n",
    "        \"17-2.\",\n",
    "        \"19-1.\",\n",
    "        \"19-16.\",\n",
    "        \"19-19.\",\n",
    "        \"19-20.\",\n",
    "        \"19-3.\",\n",
    "        \"2-10.\",\n",
    "        \"2-11.\",\n",
    "        \"2-17.\",\n",
    "        \"2-18.\",\n",
    "        \"2-20.\",\n",
    "        \"2-3.\",\n",
    "        \"2-4.\",\n",
    "        \"2-5.\",\n",
    "        \"2-6.\",\n",
    "        \"2-7.\",\n",
    "        \"2-8.\",\n",
    "        \"3-13.\",\n",
    "        \"3-18.\",\n",
    "        \"3-3.\",\n",
    "        \"4-1.\",\n",
    "        \"4-10.\",\n",
    "        \"4-11.\",\n",
    "        \"4-19.\",\n",
    "        \"5-5.\",\n",
    "        \"6-15.\",\n",
    "        \"7-10.\",\n",
    "        \"7-14.\",\n",
    "        \"8-18.\",\n",
    "        \"8-20.\",\n",
    "        \"8-3.\",\n",
    "        \"8-8.\",\n",
    "    ],\n",
    "    \"labels_target\": [\n",
    "        \"1-10.\",\n",
    "        \"1-11.\",\n",
    "        \"1-15.\",\n",
    "        \"1-16.\",\n",
    "        \"1-17.\",\n",
    "        \"1-18.\",\n",
    "        \"1-19.\",\n",
    "        \"10-4.\",\n",
    "        \"10-7.\",\n",
    "        \"11-1.\",\n",
    "        \"11-14.\",\n",
    "        \"11-17.\",\n",
    "        \"11-20.\",\n",
    "        \"11-7.\",\n",
    "        \"13-20.\",\n",
    "        \"13-8.\",\n",
    "        \"14-10.\",\n",
    "        \"14-11.\",\n",
    "        \"14-14.\",\n",
    "        \"14-7.\",\n",
    "        \"15-1.\",\n",
    "        \"15-20.\",\n",
    "        \"16-1.\",\n",
    "        \"16-16.\",\n",
    "        \"17-10.\",\n",
    "        \"17-11.\",\n",
    "        \"17-2.\",\n",
    "        \"19-1.\",\n",
    "        \"19-16.\",\n",
    "        \"19-19.\",\n",
    "        \"19-20.\",\n",
    "        \"19-3.\",\n",
    "        \"2-10.\",\n",
    "        \"2-11.\",\n",
    "        \"2-17.\",\n",
    "        \"2-18.\",\n",
    "        \"2-20.\",\n",
    "        \"2-3.\",\n",
    "        \"2-4.\",\n",
    "        \"2-5.\",\n",
    "        \"2-6.\",\n",
    "        \"2-7.\",\n",
    "        \"2-8.\",\n",
    "        \"3-13.\",\n",
    "        \"3-18.\",\n",
    "        \"3-3.\",\n",
    "        \"4-1.\",\n",
    "        \"4-10.\",\n",
    "        \"4-11.\",\n",
    "        \"4-19.\",\n",
    "        \"5-5.\",\n",
    "        \"6-15.\",\n",
    "        \"7-10.\",\n",
    "        \"7-14.\",\n",
    "        \"8-18.\",\n",
    "        \"8-20.\",\n",
    "        \"8-3.\",\n",
    "        \"8-8.\",\n",
    "    ],\n",
    "    \"episode_transforms_source\": [],\n",
    "    \"episode_transforms_target\": [],\n",
    "    \"domains_source\": [1, 5],\n",
    "    \"domains_target\": [2, 3, 4],\n",
    "    \"num_examples_per_domain_per_label_source\": 100,\n",
    "    \"num_examples_per_domain_per_label_target\": 100,\n",
    "    \"n_shot\": 3,\n",
    "    \"n_way\": 58,\n",
    "    \"n_query\": 2,\n",
    "    \"train_k_factor\": 3,\n",
    "    \"val_k_factor\": 2,\n",
    "    \"test_k_factor\": 2,\n",
    "    \"torch_default_dtype\": \"torch.float32\",\n",
    "    \"n_epoch\": 50,\n",
    "    \"patience\": 3,\n",
    "    \"criteria_for_best\": \"target_loss\",\n",
    "    \"x_net\": [\n",
    "        {\"class\": \"nnReshape\", \"kargs\": {\"shape\": [-1, 1, 2, 256]}},\n",
    "        {\n",
    "            \"class\": \"Conv2d\",\n",
    "            \"kargs\": {\n",
    "                \"in_channels\": 1,\n",
    "                \"out_channels\": 256,\n",
    "                \"kernel_size\": [1, 7],\n",
    "                \"bias\": False,\n",
    "                \"padding\": [0, 3],\n",
    "            },\n",
    "        },\n",
    "        {\"class\": \"ReLU\", \"kargs\": {\"inplace\": True}},\n",
    "        {\"class\": \"BatchNorm2d\", \"kargs\": {\"num_features\": 256}},\n",
    "        {\n",
    "            \"class\": \"Conv2d\",\n",
    "            \"kargs\": {\n",
    "                \"in_channels\": 256,\n",
    "                \"out_channels\": 80,\n",
    "                \"kernel_size\": [2, 7],\n",
    "                \"bias\": True,\n",
    "                \"padding\": [0, 3],\n",
    "            },\n",
    "        },\n",
    "        {\"class\": \"ReLU\", \"kargs\": {\"inplace\": True}},\n",
    "        {\"class\": \"BatchNorm2d\", \"kargs\": {\"num_features\": 80}},\n",
    "        {\"class\": \"Flatten\", \"kargs\": {}},\n",
    "        {\"class\": \"Linear\", \"kargs\": {\"in_features\": 20480, \"out_features\": 256}},\n",
    "        {\"class\": \"ReLU\", \"kargs\": {\"inplace\": True}},\n",
    "        {\"class\": \"BatchNorm1d\", \"kargs\": {\"num_features\": 256}},\n",
    "        {\"class\": \"Linear\", \"kargs\": {\"in_features\": 256, \"out_features\": 256}},\n",
    "    ],\n",
    "    \"NUM_LOGS_PER_EPOCH\": 10,\n",
    "    \"BEST_MODEL_PATH\": \"./best_model.pth\",\n",
    "    \"pickle_name\": \"cores.stratified_ds.2022A.pkl\",\n",
    "    \"x_transforms_source\": [\"unit_power\"],\n",
    "    \"x_transforms_target\": [\"unit_power\"],\n",
    "}\n"
   ]
  },
  {
   "cell_type": "code",
   "execution_count": 5,
   "id": "8fa1cc33",
   "metadata": {
    "execution": {
     "iopub.execute_input": "2022-03-06T00:54:23.598087Z",
     "iopub.status.busy": "2022-03-06T00:54:23.597817Z",
     "iopub.status.idle": "2022-03-06T00:54:23.606924Z",
     "shell.execute_reply": "2022-03-06T00:54:23.607122Z"
    },
    "papermill": {
     "duration": 0.021623,
     "end_time": "2022-03-06T00:54:23.607193",
     "exception": false,
     "start_time": "2022-03-06T00:54:23.585570",
     "status": "completed"
    },
    "tags": []
   },
   "outputs": [],
   "source": [
    "# Set this to True if you want to run this template directly\n",
    "STANDALONE = False\n",
    "if STANDALONE:\n",
    "    print(\"parameters not injected, running with standalone_parameters\")\n",
    "    parameters = standalone_parameters\n",
    "\n",
    "if not 'parameters' in locals() and not 'parameters' in globals():\n",
    "    raise Exception(\"Parameter injection failed\")\n",
    "\n",
    "#Use an easy dict for all the parameters\n",
    "p = EasyDict(parameters)\n",
    "\n",
    "supplied_keys = set(p.keys())\n",
    "\n",
    "if  supplied_keys != required_parameters:\n",
    "    print(\"Parameters are incorrect\")\n",
    "    if len(supplied_keys - required_parameters)>0: print(\"Shouldn't have:\", str(supplied_keys - required_parameters))\n",
    "    if len(required_parameters - supplied_keys)>0: print(\"Need to have:\", str(required_parameters - supplied_keys))\n",
    "    raise RuntimeError(\"Parameters are incorrect\")\n",
    "\n"
   ]
  },
  {
   "cell_type": "code",
   "execution_count": 6,
   "id": "3a028d58",
   "metadata": {
    "execution": {
     "iopub.execute_input": "2022-03-06T00:54:23.628666Z",
     "iopub.status.busy": "2022-03-06T00:54:23.627515Z",
     "iopub.status.idle": "2022-03-06T00:54:23.640854Z",
     "shell.execute_reply": "2022-03-06T00:54:23.640621Z"
    },
    "papermill": {
     "duration": 0.024021,
     "end_time": "2022-03-06T00:54:23.640910",
     "exception": false,
     "start_time": "2022-03-06T00:54:23.616889",
     "status": "completed"
    },
    "tags": []
   },
   "outputs": [],
   "source": [
    "###################################\n",
    "# Set the RNGs and make it all deterministic\n",
    "###################################\n",
    "np.random.seed(p.seed)\n",
    "random.seed(p.seed)\n",
    "torch.manual_seed(p.seed)\n",
    "\n",
    "torch.use_deterministic_algorithms(True) "
   ]
  },
  {
   "cell_type": "code",
   "execution_count": 7,
   "id": "b691acf6",
   "metadata": {
    "execution": {
     "iopub.execute_input": "2022-03-06T00:54:23.666776Z",
     "iopub.status.busy": "2022-03-06T00:54:23.666497Z",
     "iopub.status.idle": "2022-03-06T00:54:23.680017Z",
     "shell.execute_reply": "2022-03-06T00:54:23.680370Z"
    },
    "papermill": {
     "duration": 0.026201,
     "end_time": "2022-03-06T00:54:23.680482",
     "exception": false,
     "start_time": "2022-03-06T00:54:23.654281",
     "status": "completed"
    },
    "tags": []
   },
   "outputs": [],
   "source": [
    "###########################################\n",
    "# The stratified datasets honor this\n",
    "###########################################\n",
    "torch.set_default_dtype(eval(p.torch_default_dtype))"
   ]
  },
  {
   "cell_type": "code",
   "execution_count": 8,
   "id": "b5fba671",
   "metadata": {
    "execution": {
     "iopub.execute_input": "2022-03-06T00:54:23.706316Z",
     "iopub.status.busy": "2022-03-06T00:54:23.706047Z",
     "iopub.status.idle": "2022-03-06T00:54:23.748151Z",
     "shell.execute_reply": "2022-03-06T00:54:23.748568Z"
    },
    "papermill": {
     "duration": 0.054909,
     "end_time": "2022-03-06T00:54:23.748703",
     "exception": false,
     "start_time": "2022-03-06T00:54:23.693794",
     "status": "completed"
    },
    "tags": []
   },
   "outputs": [],
   "source": [
    "###################################\n",
    "# Build the network(s)\n",
    "# Note: It's critical to do this AFTER setting the RNG\n",
    "# (This is due to the randomized initial weights)\n",
    "###################################\n",
    "x_net = build_sequential(p.x_net)"
   ]
  },
  {
   "cell_type": "code",
   "execution_count": 9,
   "id": "5d7e61cc",
   "metadata": {
    "execution": {
     "iopub.execute_input": "2022-03-06T00:54:23.775701Z",
     "iopub.status.busy": "2022-03-06T00:54:23.775449Z",
     "iopub.status.idle": "2022-03-06T00:54:23.784670Z",
     "shell.execute_reply": "2022-03-06T00:54:23.784443Z"
    },
    "papermill": {
     "duration": 0.020609,
     "end_time": "2022-03-06T00:54:23.784727",
     "exception": false,
     "start_time": "2022-03-06T00:54:23.764118",
     "status": "completed"
    },
    "tags": []
   },
   "outputs": [],
   "source": [
    "start_time_secs = time.time()"
   ]
  },
  {
   "cell_type": "code",
   "execution_count": 10,
   "id": "fd5442bc",
   "metadata": {
    "execution": {
     "iopub.execute_input": "2022-03-06T00:54:23.818620Z",
     "iopub.status.busy": "2022-03-06T00:54:23.811121Z",
     "iopub.status.idle": "2022-03-06T00:54:26.266126Z",
     "shell.execute_reply": "2022-03-06T00:54:26.265688Z"
    },
    "papermill": {
     "duration": 2.466555,
     "end_time": "2022-03-06T00:54:26.266238",
     "exception": false,
     "start_time": "2022-03-06T00:54:23.799683",
     "status": "completed"
    },
    "tags": []
   },
   "outputs": [],
   "source": [
    "###################################\n",
    "# Build the dataset\n",
    "###################################\n",
    "\n",
    "if p.x_transforms_source == []: x_transform_source = None\n",
    "else: x_transform_source = get_chained_transform(p.x_transforms_source) \n",
    "\n",
    "if p.x_transforms_target == []: x_transform_target = None\n",
    "else: x_transform_target = get_chained_transform(p.x_transforms_target)\n",
    "\n",
    "if p.episode_transforms_source == []: episode_transform_source = None\n",
    "else: raise Exception(\"episode_transform_source not implemented\")\n",
    "\n",
    "if p.episode_transforms_target == []: episode_transform_target = None\n",
    "else: raise Exception(\"episode_transform_target not implemented\")\n",
    "\n",
    "\n",
    "eaf_source = Episodic_Accessor_Factory(\n",
    "    labels=p.labels_source,\n",
    "    domains=p.domains_source,\n",
    "    num_examples_per_domain_per_label=p.num_examples_per_domain_per_label_source,\n",
    "    iterator_seed=p.seed,\n",
    "    dataset_seed=p.dataset_seed,\n",
    "    n_shot=p.n_shot,\n",
    "    n_way=p.n_way,\n",
    "    n_query=p.n_query,\n",
    "    train_val_test_k_factors=(p.train_k_factor,p.val_k_factor,p.test_k_factor),\n",
    "    pickle_path=os.path.join(get_datasets_base_path(), p.pickle_name),\n",
    "    x_transform_func=x_transform_source,\n",
    "    example_transform_func=episode_transform_source,\n",
    "    \n",
    ")\n",
    "train_original_source, val_original_source, test_original_source = eaf_source.get_train(), eaf_source.get_val(), eaf_source.get_test()\n",
    "\n",
    "\n",
    "eaf_target = Episodic_Accessor_Factory(\n",
    "    labels=p.labels_target,\n",
    "    domains=p.domains_target,\n",
    "    num_examples_per_domain_per_label=p.num_examples_per_domain_per_label_target,\n",
    "    iterator_seed=p.seed,\n",
    "    dataset_seed=p.dataset_seed,\n",
    "    n_shot=p.n_shot,\n",
    "    n_way=p.n_way,\n",
    "    n_query=p.n_query,\n",
    "    train_val_test_k_factors=(p.train_k_factor,p.val_k_factor,p.test_k_factor),\n",
    "    pickle_path=os.path.join(get_datasets_base_path(), p.pickle_name),\n",
    "    x_transform_func=x_transform_target,\n",
    "    example_transform_func=episode_transform_target,\n",
    ")\n",
    "train_original_target, val_original_target, test_original_target = eaf_target.get_train(), eaf_target.get_val(), eaf_target.get_test()\n",
    "\n",
    "\n",
    "transform_lambda = lambda ex: ex[1] # Original is (<domain>, <episode>) so we strip down to episode only\n",
    "\n",
    "train_processed_source = Lazy_Iterable_Wrapper(train_original_source, transform_lambda)\n",
    "val_processed_source   = Lazy_Iterable_Wrapper(val_original_source, transform_lambda)\n",
    "test_processed_source  = Lazy_Iterable_Wrapper(test_original_source, transform_lambda)\n",
    "\n",
    "train_processed_target = Lazy_Iterable_Wrapper(train_original_target, transform_lambda)\n",
    "val_processed_target   = Lazy_Iterable_Wrapper(val_original_target, transform_lambda)\n",
    "test_processed_target  = Lazy_Iterable_Wrapper(test_original_target, transform_lambda)\n",
    "\n",
    "datasets = EasyDict({\n",
    "    \"source\": {\n",
    "        \"original\": {\"train\":train_original_source, \"val\":val_original_source, \"test\":test_original_source},\n",
    "        \"processed\": {\"train\":train_processed_source, \"val\":val_processed_source, \"test\":test_processed_source}\n",
    "    },\n",
    "    \"target\": {\n",
    "        \"original\": {\"train\":train_original_target, \"val\":val_original_target, \"test\":test_original_target},\n",
    "        \"processed\": {\"train\":train_processed_target, \"val\":val_processed_target, \"test\":test_processed_target}\n",
    "    },\n",
    "})"
   ]
  },
  {
   "cell_type": "code",
   "execution_count": 11,
   "id": "296189d9",
   "metadata": {
    "execution": {
     "iopub.execute_input": "2022-03-06T00:54:26.295046Z",
     "iopub.status.busy": "2022-03-06T00:54:26.294781Z",
     "iopub.status.idle": "2022-03-06T00:54:27.925121Z",
     "shell.execute_reply": "2022-03-06T00:54:27.925706Z"
    },
    "papermill": {
     "duration": 1.645135,
     "end_time": "2022-03-06T00:54:27.925895",
     "exception": false,
     "start_time": "2022-03-06T00:54:26.280760",
     "status": "completed"
    },
    "tags": []
   },
   "outputs": [
    {
     "name": "stdout",
     "output_type": "stream",
     "text": [
      "Visually inspect these to see if they line up with expected values given the transforms\n",
      "x_transforms_source ['unit_power']\n",
      "x_transforms_target ['unit_power']\n",
      "Average magnitude, source: 0.94528425\n",
      "Average power, source: 1.0\n"
     ]
    },
    {
     "name": "stdout",
     "output_type": "stream",
     "text": [
      "Average magnitude, target: 0.92143863\n",
      "Average power, target: 1.0\n"
     ]
    }
   ],
   "source": [
    "# Some quick unit tests on the data\n",
    "from steves_utils.transforms import get_average_power, get_average_magnitude\n",
    "\n",
    "q_x, q_y, s_x, s_y, truth = next(iter(train_processed_source))\n",
    "\n",
    "assert q_x.dtype == eval(p.torch_default_dtype)\n",
    "assert s_x.dtype == eval(p.torch_default_dtype)\n",
    "\n",
    "print(\"Visually inspect these to see if they line up with expected values given the transforms\")\n",
    "print('x_transforms_source', p.x_transforms_source)\n",
    "print('x_transforms_target', p.x_transforms_target)\n",
    "print(\"Average magnitude, source:\", get_average_magnitude(q_x[0].numpy()))\n",
    "print(\"Average power, source:\", get_average_power(q_x[0].numpy()))\n",
    "\n",
    "q_x, q_y, s_x, s_y, truth = next(iter(train_processed_target))\n",
    "print(\"Average magnitude, target:\", get_average_magnitude(q_x[0].numpy()))\n",
    "print(\"Average power, target:\", get_average_power(q_x[0].numpy()))\n"
   ]
  },
  {
   "cell_type": "code",
   "execution_count": 12,
   "id": "bbdacba1",
   "metadata": {
    "execution": {
     "iopub.execute_input": "2022-03-06T00:54:27.960040Z",
     "iopub.status.busy": "2022-03-06T00:54:27.959776Z",
     "iopub.status.idle": "2022-03-06T00:54:28.018918Z",
     "shell.execute_reply": "2022-03-06T00:54:28.019326Z"
    },
    "papermill": {
     "duration": 0.075463,
     "end_time": "2022-03-06T00:54:28.019447",
     "exception": false,
     "start_time": "2022-03-06T00:54:27.943984",
     "status": "completed"
    },
    "tags": []
   },
   "outputs": [
    {
     "name": "stdout",
     "output_type": "stream",
     "text": [
      "(2, 256)\n"
     ]
    }
   ],
   "source": [
    "###################################\n",
    "# Build the model\n",
    "###################################\n",
    "model = Steves_Prototypical_Network(x_net, device=p.device, x_shape=(2,256))\n",
    "optimizer = Adam(params=model.parameters(), lr=p.lr)"
   ]
  },
  {
   "cell_type": "code",
   "execution_count": 13,
   "id": "22b39ac5",
   "metadata": {
    "execution": {
     "iopub.execute_input": "2022-03-06T00:54:28.047377Z",
     "iopub.status.busy": "2022-03-06T00:54:28.045522Z",
     "iopub.status.idle": "2022-03-06T00:55:11.820241Z",
     "shell.execute_reply": "2022-03-06T00:55:11.819762Z"
    },
    "papermill": {
     "duration": 43.786497,
     "end_time": "2022-03-06T00:55:11.820344",
     "exception": false,
     "start_time": "2022-03-06T00:54:28.033847",
     "status": "completed"
    },
    "tags": []
   },
   "outputs": [
    {
     "name": "stdout",
     "output_type": "stream",
     "text": [
      "epoch: 1, [batch: 1 / 84], examples_per_second: 1593.7110, train_label_loss: 3.8495, \n"
     ]
    },
    {
     "name": "stdout",
     "output_type": "stream",
     "text": [
      "epoch: 1, [batch: 9 / 84], examples_per_second: 3730.0052, train_label_loss: 1.7025, \n"
     ]
    },
    {
     "name": "stdout",
     "output_type": "stream",
     "text": [
      "epoch: 1, [batch: 17 / 84], examples_per_second: 3795.0293, train_label_loss: 0.7303, \n"
     ]
    },
    {
     "name": "stdout",
     "output_type": "stream",
     "text": [
      "epoch: 1, [batch: 25 / 84], examples_per_second: 3805.9510, train_label_loss: 0.2848, \n"
     ]
    },
    {
     "name": "stdout",
     "output_type": "stream",
     "text": [
      "epoch: 1, [batch: 34 / 84], examples_per_second: 3817.8974, train_label_loss: 0.2308, \n"
     ]
    },
    {
     "name": "stdout",
     "output_type": "stream",
     "text": [
      "epoch: 1, [batch: 42 / 84], examples_per_second: 3794.5424, train_label_loss: 0.0979, \n"
     ]
    },
    {
     "name": "stdout",
     "output_type": "stream",
     "text": [
      "epoch: 1, [batch: 50 / 84], examples_per_second: 3782.2933, train_label_loss: 0.1116, \n"
     ]
    },
    {
     "name": "stdout",
     "output_type": "stream",
     "text": [
      "epoch: 1, [batch: 59 / 84], examples_per_second: 3798.4673, train_label_loss: 0.0697, \n"
     ]
    },
    {
     "name": "stdout",
     "output_type": "stream",
     "text": [
      "epoch: 1, [batch: 67 / 84], examples_per_second: 3821.9475, train_label_loss: 0.0612, \n"
     ]
    },
    {
     "name": "stdout",
     "output_type": "stream",
     "text": [
      "epoch: 1, [batch: 75 / 84], examples_per_second: 3830.7961, train_label_loss: 0.0462, \n"
     ]
    },
    {
     "name": "stdout",
     "output_type": "stream",
     "text": [
      "=============================================================\n",
      "epoch: 1, source_val_acc_label: 0.9878, target_val_acc_label: 0.9583, source_val_label_loss: 0.0516, target_val_label_loss: 0.1608, \n",
      "=============================================================\n"
     ]
    },
    {
     "name": "stdout",
     "output_type": "stream",
     "text": [
      "New best\n"
     ]
    },
    {
     "name": "stdout",
     "output_type": "stream",
     "text": [
      "epoch: 2, [batch: 1 / 84], examples_per_second: 330.5305, train_label_loss: 0.0410, \n"
     ]
    },
    {
     "name": "stdout",
     "output_type": "stream",
     "text": [
      "epoch: 2, [batch: 9 / 84], examples_per_second: 3875.0531, train_label_loss: 0.0566, \n"
     ]
    },
    {
     "name": "stdout",
     "output_type": "stream",
     "text": [
      "epoch: 2, [batch: 17 / 84], examples_per_second: 3891.4689, train_label_loss: 0.0386, \n"
     ]
    },
    {
     "name": "stdout",
     "output_type": "stream",
     "text": [
      "epoch: 2, [batch: 25 / 84], examples_per_second: 3878.9318, train_label_loss: 0.0146, \n"
     ]
    },
    {
     "name": "stdout",
     "output_type": "stream",
     "text": [
      "epoch: 2, [batch: 34 / 84], examples_per_second: 3898.1048, train_label_loss: 0.0491, \n"
     ]
    },
    {
     "name": "stdout",
     "output_type": "stream",
     "text": [
      "epoch: 2, [batch: 42 / 84], examples_per_second: 3887.8648, train_label_loss: 0.0210, \n"
     ]
    },
    {
     "name": "stdout",
     "output_type": "stream",
     "text": [
      "epoch: 2, [batch: 50 / 84], examples_per_second: 3854.6511, train_label_loss: 0.0823, \n"
     ]
    },
    {
     "name": "stdout",
     "output_type": "stream",
     "text": [
      "epoch: 2, [batch: 59 / 84], examples_per_second: 3893.3814, train_label_loss: 0.0080, \n"
     ]
    },
    {
     "name": "stdout",
     "output_type": "stream",
     "text": [
      "epoch: 2, [batch: 67 / 84], examples_per_second: 3893.9137, train_label_loss: 0.0078, \n"
     ]
    },
    {
     "name": "stdout",
     "output_type": "stream",
     "text": [
      "epoch: 2, [batch: 75 / 84], examples_per_second: 3921.1044, train_label_loss: 0.0593, \n"
     ]
    },
    {
     "name": "stdout",
     "output_type": "stream",
     "text": [
      "=============================================================\n",
      "epoch: 2, source_val_acc_label: 0.9921, target_val_acc_label: 0.9670, source_val_label_loss: 0.0286, target_val_label_loss: 0.1248, \n",
      "=============================================================\n"
     ]
    },
    {
     "name": "stdout",
     "output_type": "stream",
     "text": [
      "New best\n"
     ]
    },
    {
     "name": "stdout",
     "output_type": "stream",
     "text": [
      "epoch: 3, [batch: 1 / 84], examples_per_second: 320.1932, train_label_loss: 0.0089, \n"
     ]
    },
    {
     "name": "stdout",
     "output_type": "stream",
     "text": [
      "epoch: 3, [batch: 9 / 84], examples_per_second: 3872.1819, train_label_loss: 0.0140, \n"
     ]
    },
    {
     "name": "stdout",
     "output_type": "stream",
     "text": [
      "epoch: 3, [batch: 17 / 84], examples_per_second: 3873.8004, train_label_loss: 0.0029, \n"
     ]
    },
    {
     "name": "stdout",
     "output_type": "stream",
     "text": [
      "epoch: 3, [batch: 25 / 84], examples_per_second: 3864.6755, train_label_loss: 0.0317, \n"
     ]
    },
    {
     "name": "stdout",
     "output_type": "stream",
     "text": [
      "epoch: 3, [batch: 34 / 84], examples_per_second: 3889.3354, train_label_loss: 0.1097, \n"
     ]
    },
    {
     "name": "stdout",
     "output_type": "stream",
     "text": [
      "epoch: 3, [batch: 42 / 84], examples_per_second: 3884.2365, train_label_loss: 0.0071, \n"
     ]
    },
    {
     "name": "stdout",
     "output_type": "stream",
     "text": [
      "epoch: 3, [batch: 50 / 84], examples_per_second: 3868.0491, train_label_loss: 0.0402, \n"
     ]
    },
    {
     "name": "stdout",
     "output_type": "stream",
     "text": [
      "epoch: 3, [batch: 59 / 84], examples_per_second: 3886.5379, train_label_loss: 0.0152, \n"
     ]
    },
    {
     "name": "stdout",
     "output_type": "stream",
     "text": [
      "epoch: 3, [batch: 67 / 84], examples_per_second: 3903.9259, train_label_loss: 0.0404, \n"
     ]
    },
    {
     "name": "stdout",
     "output_type": "stream",
     "text": [
      "epoch: 3, [batch: 75 / 84], examples_per_second: 3925.6507, train_label_loss: 0.0437, \n"
     ]
    },
    {
     "name": "stdout",
     "output_type": "stream",
     "text": [
      "=============================================================\n",
      "epoch: 3, source_val_acc_label: 0.9777, target_val_acc_label: 0.9535, source_val_label_loss: 0.0596, target_val_label_loss: 0.1701, \n",
      "=============================================================\n"
     ]
    },
    {
     "name": "stdout",
     "output_type": "stream",
     "text": [
      "epoch: 4, [batch: 1 / 84], examples_per_second: 334.0775, train_label_loss: 0.1069, \n"
     ]
    },
    {
     "name": "stdout",
     "output_type": "stream",
     "text": [
      "epoch: 4, [batch: 9 / 84], examples_per_second: 3894.2659, train_label_loss: 0.0032, \n"
     ]
    },
    {
     "name": "stdout",
     "output_type": "stream",
     "text": [
      "epoch: 4, [batch: 17 / 84], examples_per_second: 3909.1139, train_label_loss: 0.0237, \n"
     ]
    },
    {
     "name": "stdout",
     "output_type": "stream",
     "text": [
      "epoch: 4, [batch: 25 / 84], examples_per_second: 3899.7580, train_label_loss: 0.1077, \n"
     ]
    },
    {
     "name": "stdout",
     "output_type": "stream",
     "text": [
      "epoch: 4, [batch: 34 / 84], examples_per_second: 3911.1586, train_label_loss: 0.0110, \n"
     ]
    },
    {
     "name": "stdout",
     "output_type": "stream",
     "text": [
      "epoch: 4, [batch: 42 / 84], examples_per_second: 3911.5260, train_label_loss: 0.0082, \n"
     ]
    },
    {
     "name": "stdout",
     "output_type": "stream",
     "text": [
      "epoch: 4, [batch: 50 / 84], examples_per_second: 3900.6944, train_label_loss: 0.0727, \n"
     ]
    },
    {
     "name": "stdout",
     "output_type": "stream",
     "text": [
      "epoch: 4, [batch: 59 / 84], examples_per_second: 3914.5278, train_label_loss: 0.1089, \n"
     ]
    },
    {
     "name": "stdout",
     "output_type": "stream",
     "text": [
      "epoch: 4, [batch: 67 / 84], examples_per_second: 3914.1708, train_label_loss: 0.0626, \n"
     ]
    },
    {
     "name": "stdout",
     "output_type": "stream",
     "text": [
      "epoch: 4, [batch: 75 / 84], examples_per_second: 3932.0848, train_label_loss: 0.0050, \n"
     ]
    },
    {
     "name": "stdout",
     "output_type": "stream",
     "text": [
      "=============================================================\n",
      "epoch: 4, source_val_acc_label: 0.9907, target_val_acc_label: 0.9612, source_val_label_loss: 0.0449, target_val_label_loss: 0.2322, \n",
      "=============================================================\n"
     ]
    },
    {
     "name": "stdout",
     "output_type": "stream",
     "text": [
      "epoch: 5, [batch: 1 / 84], examples_per_second: 335.1699, train_label_loss: 0.0715, \n"
     ]
    },
    {
     "name": "stdout",
     "output_type": "stream",
     "text": [
      "epoch: 5, [batch: 9 / 84], examples_per_second: 3887.9161, train_label_loss: 0.0470, \n"
     ]
    },
    {
     "name": "stdout",
     "output_type": "stream",
     "text": [
      "epoch: 5, [batch: 17 / 84], examples_per_second: 3898.1067, train_label_loss: 0.0004, \n"
     ]
    },
    {
     "name": "stdout",
     "output_type": "stream",
     "text": [
      "epoch: 5, [batch: 25 / 84], examples_per_second: 3874.2909, train_label_loss: 0.0138, \n"
     ]
    },
    {
     "name": "stdout",
     "output_type": "stream",
     "text": [
      "epoch: 5, [batch: 34 / 84], examples_per_second: 3880.6233, train_label_loss: 0.0973, \n"
     ]
    },
    {
     "name": "stdout",
     "output_type": "stream",
     "text": [
      "epoch: 5, [batch: 42 / 84], examples_per_second: 3896.0606, train_label_loss: 0.0082, \n"
     ]
    },
    {
     "name": "stdout",
     "output_type": "stream",
     "text": [
      "epoch: 5, [batch: 50 / 84], examples_per_second: 3884.5807, train_label_loss: 0.0061, \n"
     ]
    },
    {
     "name": "stdout",
     "output_type": "stream",
     "text": [
      "epoch: 5, [batch: 59 / 84], examples_per_second: 3880.4087, train_label_loss: 0.0004, \n"
     ]
    },
    {
     "name": "stdout",
     "output_type": "stream",
     "text": [
      "epoch: 5, [batch: 67 / 84], examples_per_second: 3892.2549, train_label_loss: 0.1219, \n"
     ]
    },
    {
     "name": "stdout",
     "output_type": "stream",
     "text": [
      "epoch: 5, [batch: 75 / 84], examples_per_second: 3913.4357, train_label_loss: 0.0200, \n"
     ]
    },
    {
     "name": "stdout",
     "output_type": "stream",
     "text": [
      "=============================================================\n",
      "epoch: 5, source_val_acc_label: 0.9935, target_val_acc_label: 0.9670, source_val_label_loss: 0.0404, target_val_label_loss: 0.1731, \n",
      "=============================================================\n"
     ]
    },
    {
     "name": "stdout",
     "output_type": "stream",
     "text": [
      "epoch: 6, [batch: 1 / 84], examples_per_second: 331.9439, train_label_loss: 0.0006, \n"
     ]
    },
    {
     "name": "stdout",
     "output_type": "stream",
     "text": [
      "epoch: 6, [batch: 9 / 84], examples_per_second: 3876.1830, train_label_loss: 0.0446, \n"
     ]
    },
    {
     "name": "stdout",
     "output_type": "stream",
     "text": [
      "epoch: 6, [batch: 17 / 84], examples_per_second: 3872.8060, train_label_loss: 0.0503, \n"
     ]
    },
    {
     "name": "stdout",
     "output_type": "stream",
     "text": [
      "epoch: 6, [batch: 25 / 84], examples_per_second: 3868.8242, train_label_loss: 0.0003, \n"
     ]
    },
    {
     "name": "stdout",
     "output_type": "stream",
     "text": [
      "epoch: 6, [batch: 34 / 84], examples_per_second: 3888.6778, train_label_loss: 0.0006, \n"
     ]
    },
    {
     "name": "stdout",
     "output_type": "stream",
     "text": [
      "epoch: 6, [batch: 42 / 84], examples_per_second: 3895.5162, train_label_loss: 0.0014, \n"
     ]
    },
    {
     "name": "stdout",
     "output_type": "stream",
     "text": [
      "epoch: 6, [batch: 50 / 84], examples_per_second: 3865.7318, train_label_loss: 0.0004, \n"
     ]
    },
    {
     "name": "stdout",
     "output_type": "stream",
     "text": [
      "epoch: 6, [batch: 59 / 84], examples_per_second: 3891.5144, train_label_loss: 0.2676, \n"
     ]
    },
    {
     "name": "stdout",
     "output_type": "stream",
     "text": [
      "epoch: 6, [batch: 67 / 84], examples_per_second: 3882.1723, train_label_loss: 0.0575, \n"
     ]
    },
    {
     "name": "stdout",
     "output_type": "stream",
     "text": [
      "epoch: 6, [batch: 75 / 84], examples_per_second: 3892.2970, train_label_loss: 0.0155, \n"
     ]
    },
    {
     "name": "stdout",
     "output_type": "stream",
     "text": [
      "=============================================================\n",
      "epoch: 6, source_val_acc_label: 0.9878, target_val_acc_label: 0.9679, source_val_label_loss: 0.0809, target_val_label_loss: 0.2319, \n",
      "=============================================================\n"
     ]
    },
    {
     "name": "stdout",
     "output_type": "stream",
     "text": [
      "Patience (3) exhausted\n"
     ]
    }
   ],
   "source": [
    "###################################\n",
    "# train\n",
    "###################################\n",
    "jig = PTN_Train_Eval_Test_Jig(model, p.BEST_MODEL_PATH, p.device)\n",
    "\n",
    "jig.train(\n",
    "    train_iterable=datasets.source.processed.train,\n",
    "    source_val_iterable=datasets.source.processed.val,\n",
    "    target_val_iterable=datasets.target.processed.val,\n",
    "    num_epochs=p.n_epoch,\n",
    "    num_logs_per_epoch=p.NUM_LOGS_PER_EPOCH,\n",
    "    patience=p.patience,\n",
    "    optimizer=optimizer,\n",
    "    criteria_for_best=p.criteria_for_best,\n",
    ")"
   ]
  },
  {
   "cell_type": "code",
   "execution_count": 14,
   "id": "31e8fabf",
   "metadata": {
    "execution": {
     "iopub.execute_input": "2022-03-06T00:55:11.876350Z",
     "iopub.status.busy": "2022-03-06T00:55:11.876093Z",
     "iopub.status.idle": "2022-03-06T00:55:11.891354Z",
     "shell.execute_reply": "2022-03-06T00:55:11.891727Z"
    },
    "papermill": {
     "duration": 0.042505,
     "end_time": "2022-03-06T00:55:11.891833",
     "exception": false,
     "start_time": "2022-03-06T00:55:11.849328",
     "status": "completed"
    },
    "tags": []
   },
   "outputs": [],
   "source": [
    "total_experiment_time_secs = time.time() - start_time_secs"
   ]
  },
  {
   "cell_type": "code",
   "execution_count": 15,
   "id": "87b9595b",
   "metadata": {
    "execution": {
     "iopub.execute_input": "2022-03-06T00:55:11.947244Z",
     "iopub.status.busy": "2022-03-06T00:55:11.946975Z",
     "iopub.status.idle": "2022-03-06T00:55:16.476714Z",
     "shell.execute_reply": "2022-03-06T00:55:16.476455Z"
    },
    "papermill": {
     "duration": 4.557308,
     "end_time": "2022-03-06T00:55:16.476783",
     "exception": false,
     "start_time": "2022-03-06T00:55:11.919475",
     "status": "completed"
    },
    "tags": []
   },
   "outputs": [],
   "source": [
    "###################################\n",
    "# Evaluate the model\n",
    "###################################\n",
    "source_test_label_accuracy, source_test_label_loss = jig.test(datasets.source.processed.test)\n",
    "target_test_label_accuracy, target_test_label_loss = jig.test(datasets.target.processed.test)\n",
    "\n",
    "source_val_label_accuracy, source_val_label_loss = jig.test(datasets.source.processed.val)\n",
    "target_val_label_accuracy, target_val_label_loss = jig.test(datasets.target.processed.val)\n",
    "\n",
    "history = jig.get_history()\n",
    "\n",
    "total_epochs_trained = len(history[\"epoch_indices\"])\n",
    "\n",
    "val_dl = Iterable_Aggregator((datasets.source.original.val,datasets.target.original.val))\n",
    "\n",
    "confusion = ptn_confusion_by_domain_over_dataloader(model, p.device, val_dl)\n",
    "per_domain_accuracy = per_domain_accuracy_from_confusion(confusion)\n",
    "\n",
    "# Add a key to per_domain_accuracy for if it was a source domain\n",
    "for domain, accuracy in per_domain_accuracy.items():\n",
    "    per_domain_accuracy[domain] = {\n",
    "        \"accuracy\": accuracy,\n",
    "        \"source?\": domain in p.domains_source\n",
    "    }\n",
    "\n",
    "# Do an independent accuracy assesment JUST TO BE SURE!\n",
    "# _source_test_label_accuracy = independent_accuracy_assesment(model, datasets.source.processed.test, p.device)\n",
    "# _target_test_label_accuracy = independent_accuracy_assesment(model, datasets.target.processed.test, p.device)\n",
    "# _source_val_label_accuracy = independent_accuracy_assesment(model, datasets.source.processed.val, p.device)\n",
    "# _target_val_label_accuracy = independent_accuracy_assesment(model, datasets.target.processed.val, p.device)\n",
    "\n",
    "# assert(_source_test_label_accuracy == source_test_label_accuracy)\n",
    "# assert(_target_test_label_accuracy == target_test_label_accuracy)\n",
    "# assert(_source_val_label_accuracy == source_val_label_accuracy)\n",
    "# assert(_target_val_label_accuracy == target_val_label_accuracy)\n",
    "\n",
    "experiment = {\n",
    "    \"experiment_name\": p.experiment_name,\n",
    "    \"parameters\": dict(p),\n",
    "    \"results\": {\n",
    "        \"source_test_label_accuracy\": source_test_label_accuracy,\n",
    "        \"source_test_label_loss\": source_test_label_loss,\n",
    "        \"target_test_label_accuracy\": target_test_label_accuracy,\n",
    "        \"target_test_label_loss\": target_test_label_loss,\n",
    "        \"source_val_label_accuracy\": source_val_label_accuracy,\n",
    "        \"source_val_label_loss\": source_val_label_loss,\n",
    "        \"target_val_label_accuracy\": target_val_label_accuracy,\n",
    "        \"target_val_label_loss\": target_val_label_loss,\n",
    "        \"total_epochs_trained\": total_epochs_trained,\n",
    "        \"total_experiment_time_secs\": total_experiment_time_secs,\n",
    "        \"confusion\": confusion,\n",
    "        \"per_domain_accuracy\": per_domain_accuracy,\n",
    "    },\n",
    "    \"history\": history,\n",
    "    \"dataset_metrics\": get_dataset_metrics(datasets, \"ptn\"),\n",
    "}"
   ]
  },
  {
   "cell_type": "code",
   "execution_count": 16,
   "id": "54a21829",
   "metadata": {
    "execution": {
     "iopub.execute_input": "2022-03-06T00:55:16.527214Z",
     "iopub.status.busy": "2022-03-06T00:55:16.526961Z",
     "iopub.status.idle": "2022-03-06T00:55:16.713047Z",
     "shell.execute_reply": "2022-03-06T00:55:16.712595Z"
    },
    "papermill": {
     "duration": 0.21236,
     "end_time": "2022-03-06T00:55:16.713141",
     "exception": false,
     "start_time": "2022-03-06T00:55:16.500781",
     "status": "completed"
    },
    "tags": []
   },
   "outputs": [
    {
     "data": {
      "image/png": "[encoded data removed]",
      "text/plain": [
       "<Figure size 1080x504 with 1 Axes>"
      ]
     },
     "metadata": {
      "needs_background": "light"
     },
     "output_type": "display_data"
    }
   ],
   "source": [
    "ax = get_loss_curve(experiment)\n",
    "plt.show()"
   ]
  },
  {
   "cell_type": "code",
   "execution_count": 17,
   "id": "fd8a0f60",
   "metadata": {
    "execution": {
     "iopub.execute_input": "2022-03-06T00:55:16.767253Z",
     "iopub.status.busy": "2022-03-06T00:55:16.766940Z",
     "iopub.status.idle": "2022-03-06T00:55:16.941754Z",
     "shell.execute_reply": "2022-03-06T00:55:16.942066Z"
    },
    "papermill": {
     "duration": 0.200771,
     "end_time": "2022-03-06T00:55:16.942165",
     "exception": false,
     "start_time": "2022-03-06T00:55:16.741394",
     "status": "completed"
    },
    "tags": []
   },
   "outputs": [
    {
     "data": {
      "text/plain": [
       "<matplotlib.axes._subplots.AxesSubplot at 0x7fe4ec9d1b80>"
      ]
     },
     "execution_count": 17,
     "metadata": {},
     "output_type": "execute_result"
    },
    {
     "data": {
      "image/png": "[encoded data removed]",
      "text/plain": [
       "<Figure size 1080x504 with 1 Axes>"
      ]
     },
     "metadata": {
      "needs_background": "light"
     },
     "output_type": "display_data"
    }
   ],
   "source": [
    "get_results_table(experiment)"
   ]
  },
  {
   "cell_type": "code",
   "execution_count": 18,
   "id": "cf8dc689",
   "metadata": {
    "execution": {
     "iopub.execute_input": "2022-03-06T00:55:16.997942Z",
     "iopub.status.busy": "2022-03-06T00:55:16.997689Z",
     "iopub.status.idle": "2022-03-06T00:55:17.223438Z",
     "shell.execute_reply": "2022-03-06T00:55:17.223030Z"
    },
    "papermill": {
     "duration": 0.25311,
     "end_time": "2022-03-06T00:55:17.223535",
     "exception": false,
     "start_time": "2022-03-06T00:55:16.970425",
     "status": "completed"
    },
    "tags": []
   },
   "outputs": [
    {
     "data": {
      "text/plain": [
       "<matplotlib.axes._subplots.AxesSubplot at 0x7fe4ec698730>"
      ]
     },
     "execution_count": 18,
     "metadata": {},
     "output_type": "execute_result"
    },
    {
     "data": {
      "image/png": "[encoded data removed]",
      "text/plain": [
       "<Figure size 1080x504 with 1 Axes>"
      ]
     },
     "metadata": {
      "needs_background": "light"
     },
     "output_type": "display_data"
    }
   ],
   "source": [
    "get_domain_accuracies(experiment)"
   ]
  },
  {
   "cell_type": "code",
   "execution_count": 19,
   "id": "a74ae082",
   "metadata": {
    "execution": {
     "iopub.execute_input": "2022-03-06T00:55:17.281148Z",
     "iopub.status.busy": "2022-03-06T00:55:17.280891Z",
     "iopub.status.idle": "2022-03-06T00:55:17.294766Z",
     "shell.execute_reply": "2022-03-06T00:55:17.294971Z"
    },
    "papermill": {
     "duration": 0.042228,
     "end_time": "2022-03-06T00:55:17.295030",
     "exception": false,
     "start_time": "2022-03-06T00:55:17.252802",
     "status": "completed"
    },
    "tags": []
   },
   "outputs": [
    {
     "name": "stdout",
     "output_type": "stream",
     "text": [
      "Source Test Label Accuracy: 0.9870689655172413 Target Test Label Accuracy: 0.9650383141762452\n",
      "Source Val Label Accuracy: 0.9920977011494253 Target Val Label Accuracy: 0.9669540229885057\n"
     ]
    }
   ],
   "source": [
    "print(\"Source Test Label Accuracy:\", experiment[\"results\"][\"source_test_label_accuracy\"], \"Target Test Label Accuracy:\", experiment[\"results\"][\"target_test_label_accuracy\"])\n",
    "print(\"Source Val Label Accuracy:\", experiment[\"results\"][\"source_val_label_accuracy\"], \"Target Val Label Accuracy:\", experiment[\"results\"][\"target_val_label_accuracy\"])"
   ]
  },
  {
   "cell_type": "code",
   "execution_count": 20,
   "id": "dacca602",
   "metadata": {
    "execution": {
     "iopub.execute_input": "2022-03-06T00:55:17.354096Z",
     "iopub.status.busy": "2022-03-06T00:55:17.353846Z",
     "iopub.status.idle": "2022-03-06T00:55:17.366633Z",
     "shell.execute_reply": "2022-03-06T00:55:17.366384Z"
    },
    "papermill": {
     "duration": 0.040735,
     "end_time": "2022-03-06T00:55:17.366684",
     "exception": false,
     "start_time": "2022-03-06T00:55:17.325949",
     "status": "completed"
    },
    "tags": [
     "experiment_json"
    ]
   },
   "outputs": [
    {
     "data": {
      "text/plain": [
       "'{\"experiment_name\": \"tuned_1_cores\", \"parameters\": {\"experiment_name\": \"tuned_1_cores\", \"device\": \"cuda\", \"lr\": 0.001, \"seed\": 1337, \"dataset_seed\": 1337, \"labels_source\": [\"1-10.\", \"1-11.\", \"1-15.\", \"1-16.\", \"1-17.\", \"1-18.\", \"1-19.\", \"10-4.\", \"10-7.\", \"11-1.\", \"11-14.\", \"11-17.\", \"11-20.\", \"11-7.\", \"13-20.\", \"13-8.\", \"14-10.\", \"14-11.\", \"14-14.\", \"14-7.\", \"15-1.\", \"15-20.\", \"16-1.\", \"16-16.\", \"17-10.\", \"17-11.\", \"17-2.\", \"19-1.\", \"19-16.\", \"19-19.\", \"19-20.\", \"19-3.\", \"2-10.\", \"2-11.\", \"2-17.\", \"2-18.\", \"2-20.\", \"2-3.\", \"2-4.\", \"2-5.\", \"2-6.\", \"2-7.\", \"2-8.\", \"3-13.\", \"3-18.\", \"3-3.\", \"4-1.\", \"4-10.\", \"4-11.\", \"4-19.\", \"5-5.\", \"6-15.\", \"7-10.\", \"7-14.\", \"8-18.\", \"8-20.\", \"8-3.\", \"8-8.\"], \"labels_target\": [\"1-10.\", \"1-11.\", \"1-15.\", \"1-16.\", \"1-17.\", \"1-18.\", \"1-19.\", \"10-4.\", \"10-7.\", \"11-1.\", \"11-14.\", \"11-17.\", \"11-20.\", \"11-7.\", \"13-20.\", \"13-8.\", \"14-10.\", \"14-11.\", \"14-14.\", \"14-7.\", \"15-1.\", \"15-20.\", \"16-1.\", \"16-16.\", \"17-10.\", \"17-11.\", \"17-2.\", \"19-1.\", \"19-16.\", \"19-19.\", \"19-20.\", \"19-3.\", \"2-10.\", \"2-11.\", \"2-17.\", \"2-18.\", \"2-20.\", \"2-3.\", \"2-4.\", \"2-5.\", \"2-6.\", \"2-7.\", \"2-8.\", \"3-13.\", \"3-18.\", \"3-3.\", \"4-1.\", \"4-10.\", \"4-11.\", \"4-19.\", \"5-5.\", \"6-15.\", \"7-10.\", \"7-14.\", \"8-18.\", \"8-20.\", \"8-3.\", \"8-8.\"], \"episode_transforms_source\": [], \"episode_transforms_target\": [], \"domains_source\": [1, 5], \"domains_target\": [2, 3, 4], \"num_examples_per_domain_per_label_source\": 100, \"num_examples_per_domain_per_label_target\": 100, \"n_shot\": 3, \"n_way\": 58, \"n_query\": 2, \"train_k_factor\": 3, \"val_k_factor\": 2, \"test_k_factor\": 2, \"torch_default_dtype\": \"torch.float32\", \"n_epoch\": 50, \"patience\": 3, \"criteria_for_best\": \"target_loss\", \"x_net\": [{\"class\": \"nnReshape\", \"kargs\": {\"shape\": [-1, 1, 2, 256]}}, {\"class\": \"Conv2d\", \"kargs\": {\"in_channels\": 1, \"out_channels\": 256, \"kernel_size\": [1, 7], \"bias\": false, \"padding\": [0, 3]}}, {\"class\": \"ReLU\", \"kargs\": {\"inplace\": true}}, {\"class\": \"BatchNorm2d\", \"kargs\": {\"num_features\": 256}}, {\"class\": \"Conv2d\", \"kargs\": {\"in_channels\": 256, \"out_channels\": 80, \"kernel_size\": [2, 7], \"bias\": true, \"padding\": [0, 3]}}, {\"class\": \"ReLU\", \"kargs\": {\"inplace\": true}}, {\"class\": \"BatchNorm2d\", \"kargs\": {\"num_features\": 80}}, {\"class\": \"Flatten\", \"kargs\": {}}, {\"class\": \"Linear\", \"kargs\": {\"in_features\": 20480, \"out_features\": 256}}, {\"class\": \"ReLU\", \"kargs\": {\"inplace\": true}}, {\"class\": \"BatchNorm1d\", \"kargs\": {\"num_features\": 256}}, {\"class\": \"Linear\", \"kargs\": {\"in_features\": 256, \"out_features\": 256}}], \"NUM_LOGS_PER_EPOCH\": 10, \"BEST_MODEL_PATH\": \"./best_model.pth\", \"pickle_name\": \"cores.stratified_ds.2022A.pkl\", \"x_transforms_source\": [\"unit_power\"], \"x_transforms_target\": [\"unit_power\"]}, \"results\": {\"source_test_label_accuracy\": 0.9870689655172413, \"source_test_label_loss\": 0.045459844172000885, \"target_test_label_accuracy\": 0.9650383141762452, \"target_test_label_loss\": 0.10211694240570068, \"source_val_label_accuracy\": 0.9920977011494253, \"source_val_label_loss\": 0.028624152764678, \"target_val_label_accuracy\": 0.9669540229885057, \"target_val_label_loss\": 0.12481740117073059, \"total_epochs_trained\": 6, \"total_experiment_time_secs\": 48.10658836364746, \"confusion\": {\"5\": {\"1\": {\"1\": 12}, \"28\": {\"28\": 12}, \"21\": {\"21\": 12}, \"27\": {\"27\": 12}, \"20\": {\"20\": 12}, \"16\": {\"14\": 1, \"16\": 11}, \"48\": {\"48\": 12}, \"42\": {\"42\": 12}, \"45\": {\"45\": 11, \"6\": 1}, \"41\": {\"41\": 12}, \"13\": {\"13\": 10, \"10\": 2}, \"50\": {\"50\": 12}, \"32\": {\"32\": 12}, \"51\": {\"51\": 12}, \"30\": {\"30\": 12}, \"38\": {\"38\": 12}, \"7\": {\"7\": 12}, \"22\": {\"22\": 12}, \"37\": {\"37\": 12}, \"33\": {\"33\": 12}, \"6\": {\"6\": 10, \"9\": 1, \"45\": 1}, \"14\": {\"14\": 12}, \"40\": {\"40\": 12}, \"55\": {\"55\": 12}, \"2\": {\"2\": 12}, \"39\": {\"39\": 11, \"54\": 1}, \"56\": {\"56\": 12}, \"17\": {\"17\": 12}, \"10\": {\"10\": 12}, \"9\": {\"9\": 12}, \"31\": {\"31\": 12}, \"12\": {\"12\": 12}, \"25\": {\"25\": 12}, \"0\": {\"0\": 12}, \"47\": {\"47\": 12}, \"44\": {\"44\": 12}, \"23\": {\"23\": 12}, \"15\": {\"15\": 12}, \"8\": {\"8\": 12}, \"54\": {\"54\": 12}, \"52\": {\"52\": 12}, \"29\": {\"29\": 12}, \"5\": {\"5\": 12}, \"34\": {\"34\": 12}, \"35\": {\"35\": 12}, \"26\": {\"26\": 12}, \"57\": {\"57\": 12}, \"53\": {\"53\": 12}, \"36\": {\"36\": 12}, \"18\": {\"18\": 12}, \"49\": {\"49\": 12}, \"3\": {\"3\": 12}, \"4\": {\"4\": 12}, \"24\": {\"24\": 12}, \"11\": {\"11\": 12}, \"19\": {\"19\": 12}, \"43\": {\"43\": 12}, \"46\": {\"46\": 12}}, \"1\": {\"27\": {\"27\": 12}, \"50\": {\"50\": 11, \"48\": 1}, \"16\": {\"16\": 12}, \"12\": {\"12\": 12}, \"55\": {\"55\": 12}, \"39\": {\"39\": 12}, \"48\": {\"48\": 12}, \"33\": {\"33\": 12}, \"51\": {\"51\": 12}, \"9\": {\"9\": 12}, \"53\": {\"53\": 12}, \"46\": {\"46\": 12}, \"23\": {\"23\": 12}, \"22\": {\"22\": 11, \"24\": 1}, \"38\": {\"38\": 12}, \"14\": {\"14\": 12}, \"32\": {\"32\": 12}, \"19\": {\"19\": 12}, \"35\": {\"35\": 12}, \"57\": {\"57\": 12}, \"30\": {\"30\": 12}, \"56\": {\"56\": 12}, \"42\": {\"42\": 12}, \"0\": {\"0\": 11, \"38\": 1}, \"31\": {\"31\": 12}, \"52\": {\"52\": 12}, \"21\": {\"21\": 12}, \"17\": {\"17\": 12}, \"8\": {\"8\": 12}, \"4\": {\"4\": 12}, \"34\": {\"34\": 12}, \"5\": {\"5\": 12}, \"2\": {\"2\": 12}, \"45\": {\"45\": 12}, \"28\": {\"28\": 12}, \"10\": {\"10\": 12}, \"3\": {\"3\": 11, \"44\": 1}, \"41\": {\"41\": 12}, \"18\": {\"18\": 12}, \"24\": {\"24\": 12}, \"47\": {\"47\": 12}, \"6\": {\"6\": 12}, \"43\": {\"43\": 12}, \"26\": {\"26\": 12}, \"49\": {\"49\": 12}, \"54\": {\"54\": 12}, \"11\": {\"11\": 12}, \"15\": {\"15\": 12}, \"44\": {\"44\": 12}, \"20\": {\"20\": 12}, \"1\": {\"1\": 12}, \"36\": {\"36\": 12}, \"25\": {\"25\": 12}, \"7\": {\"7\": 12}, \"40\": {\"40\": 12}, \"13\": {\"13\": 12}, \"29\": {\"29\": 12}, \"37\": {\"37\": 12}}, \"3\": {\"1\": {\"1\": 12}, \"28\": {\"28\": 12}, \"21\": {\"21\": 11, \"3\": 1}, \"27\": {\"27\": 12}, \"20\": {\"20\": 12}, \"16\": {\"16\": 12}, \"48\": {\"48\": 12}, \"42\": {\"42\": 12}, \"45\": {\"2\": 2, \"45\": 9, \"38\": 1}, \"41\": {\"41\": 12}, \"13\": {\"13\": 11, \"10\": 1}, \"50\": {\"21\": 2, \"50\": 10}, \"32\": {\"32\": 12}, \"51\": {\"51\": 12}, \"30\": {\"30\": 12}, \"38\": {\"38\": 12}, \"7\": {\"7\": 12}, \"22\": {\"22\": 12}, \"37\": {\"37\": 12}, \"33\": {\"33\": 11, \"6\": 1}, \"6\": {\"6\": 11, \"48\": 1}, \"14\": {\"14\": 10, \"31\": 2}, \"40\": {\"40\": 12}, \"55\": {\"55\": 12}, \"2\": {\"2\": 12}, \"39\": {\"39\": 12}, \"56\": {\"56\": 12}, \"17\": {\"17\": 12}, \"10\": {\"10\": 11, \"13\": 1}, \"9\": {\"9\": 12}, \"31\": {\"31\": 12}, \"12\": {\"12\": 12}, \"25\": {\"25\": 12}, \"0\": {\"0\": 12}, \"47\": {\"47\": 12}, \"44\": {\"44\": 12}, \"23\": {\"23\": 12}, \"15\": {\"15\": 12}, \"8\": {\"8\": 12}, \"54\": {\"54\": 11, \"32\": 1}, \"52\": {\"52\": 12}, \"29\": {\"29\": 12}, \"5\": {\"5\": 11, \"1\": 1}, \"34\": {\"34\": 12}, \"35\": {\"35\": 12}, \"26\": {\"26\": 12}, \"57\": {\"57\": 12}, \"53\": {\"53\": 12}, \"36\": {\"36\": 11, \"30\": 1}, \"18\": {\"18\": 12}, \"49\": {\"49\": 12}, \"3\": {\"26\": 2, \"3\": 10}, \"4\": {\"4\": 12}, \"24\": {\"24\": 12}, \"11\": {\"11\": 12}, \"19\": {\"19\": 12}, \"43\": {\"43\": 12}, \"46\": {\"52\": 2, \"46\": 10}}, \"4\": {\"9\": {\"9\": 12}, \"4\": {\"4\": 12}, \"20\": {\"20\": 12}, \"26\": {\"26\": 12}, \"19\": {\"19\": 12}, \"35\": {\"35\": 12}, \"14\": {\"14\": 10, \"0\": 2}, \"10\": {\"10\": 12}, \"1\": {\"1\": 12}, \"3\": {\"3\": 11, \"6\": 1}, \"29\": {\"29\": 10, \"5\": 2}, \"47\": {\"5\": 1, \"47\": 11}, \"50\": {\"50\": 11, \"53\": 1}, \"51\": {\"51\": 12}, \"55\": {\"55\": 10, \"7\": 2}, \"27\": {\"27\": 12}, \"31\": {\"31\": 12}, \"30\": {\"30\": 11, \"21\": 1}, \"37\": {\"37\": 11, \"49\": 1}, \"36\": {\"36\": 12}, \"48\": {\"48\": 11, \"6\": 1}, \"46\": {\"46\": 8, \"1\": 2, \"32\": 2}, \"25\": {\"25\": 12}, \"53\": {\"53\": 12}, \"0\": {\"0\": 12}, \"8\": {\"8\": 12}, \"15\": {\"15\": 12}, \"22\": {\"22\": 12}, \"45\": {\"45\": 12}, \"43\": {\"43\": 12}, \"12\": {\"12\": 12}, \"24\": {\"24\": 12}, \"11\": {\"11\": 12}, \"44\": {\"44\": 12}, \"5\": {\"5\": 12}, \"6\": {\"3\": 2, \"6\": 8, \"52\": 1, \"48\": 1}, \"49\": {\"49\": 12}, \"2\": {\"2\": 12}, \"18\": {\"18\": 12}, \"54\": {\"54\": 12}, \"41\": {\"41\": 12}, \"38\": {\"38\": 12}, \"34\": {\"34\": 12}, \"21\": {\"21\": 12}, \"57\": {\"57\": 12}, \"33\": {\"33\": 12}, \"17\": {\"17\": 12}, \"40\": {\"40\": 12}, \"28\": {\"28\": 12}, \"16\": {\"16\": 12}, \"56\": {\"56\": 12}, \"39\": {\"39\": 12}, \"13\": {\"13\": 12}, \"23\": {\"23\": 12}, \"7\": {\"7\": 12}, \"52\": {\"52\": 12}, \"42\": {\"42\": 12}, \"32\": {\"32\": 11, \"1\": 1}}, \"2\": {\"28\": {\"28\": 10, \"37\": 2}, \"52\": {\"52\": 12}, \"34\": {\"34\": 12}, \"29\": {\"29\": 12}, \"17\": {\"17\": 12}, \"26\": {\"26\": 12}, \"9\": {\"9\": 12}, \"0\": {\"0\": 12}, \"25\": {\"25\": 12}, \"42\": {\"42\": 8, \"7\": 2, \"1\": 2}, \"11\": {\"11\": 12}, \"46\": {\"7\": 2, \"46\": 6, \"47\": 3, \"15\": 1}, \"33\": {\"33\": 12}, \"27\": {\"27\": 12}, \"47\": {\"47\": 12}, \"39\": {\"39\": 12}, \"5\": {\"5\": 12}, \"16\": {\"16\": 12}, \"23\": {\"23\": 12}, \"12\": {\"12\": 12}, \"7\": {\"7\": 12}, \"31\": {\"31\": 12}, \"21\": {\"21\": 10, \"3\": 2}, \"8\": {\"8\": 12}, \"13\": {\"13\": 10, \"10\": 2}, \"38\": {\"38\": 12}, \"30\": {\"30\": 12}, \"4\": {\"4\": 12}, \"53\": {\"53\": 12}, \"24\": {\"24\": 11, \"13\": 1}, \"14\": {\"14\": 10, \"31\": 2}, \"2\": {\"2\": 11, \"34\": 1}, \"44\": {\"44\": 12}, \"51\": {\"51\": 12}, \"40\": {\"40\": 12}, \"48\": {\"48\": 12}, \"6\": {\"6\": 12}, \"54\": {\"54\": 10, \"32\": 2}, \"22\": {\"22\": 12}, \"3\": {\"3\": 12}, \"15\": {\"15\": 12}, \"56\": {\"56\": 12}, \"57\": {\"57\": 12}, \"50\": {\"50\": 11, \"54\": 1}, \"37\": {\"37\": 12}, \"1\": {\"1\": 11, \"42\": 1}, \"55\": {\"55\": 12}, \"35\": {\"35\": 12}, \"36\": {\"32\": 2, \"36\": 10}, \"10\": {\"13\": 1, \"10\": 11}, \"45\": {\"45\": 11, \"12\": 1}, \"43\": {\"43\": 12}, \"19\": {\"19\": 12}, \"32\": {\"32\": 12}, \"18\": {\"18\": 12}, \"49\": {\"49\": 12}, \"20\": {\"20\": 11, \"51\": 1}, \"41\": {\"41\": 12}}}, \"per_domain_accuracy\": {\"5\": {\"accuracy\": 0.9899425287356322, \"source?\": true}, \"1\": {\"accuracy\": 0.9942528735632183, \"source?\": true}, \"3\": {\"accuracy\": 0.9727011494252874, \"source?\": false}, \"4\": {\"accuracy\": 0.9698275862068966, \"source?\": false}, \"2\": {\"accuracy\": 0.9583333333333334, \"source?\": false}}}, \"history\": {\"epoch_indices\": [1, 2, 3, 4, 5, 6], \"train_label_loss\": [0.5340103938998211, 0.028104760861467747, 0.03550946906935202, 0.045815108269120434, 0.0404197982626058, 0.02606863075537885], \"source_val_label_loss\": [0.05156807228922844, 0.028624152764678, 0.059553518891334534, 0.04486723989248276, 0.040394678711891174, 0.08087845146656036], \"target_val_label_loss\": [0.1607537716627121, 0.12481740117073059, 0.17006178200244904, 0.23221202194690704, 0.1730576902627945, 0.23187358677387238], \"source_val_acc_label\": [0.9877873563218391, 0.9920977011494253, 0.9777298850574713, 0.9906609195402298, 0.9935344827586207, 0.9877873563218391], \"target_val_acc_label\": [0.9583333333333334, 0.9669540229885057, 0.953544061302682, 0.9612068965517241, 0.9669540229885057, 0.967911877394636]}, \"dataset_metrics\": {\"source\": {\"train\": {\"n_unique_x\": 8120, \"n_unique_y\": 58, \"n_batch/episode\": 84}, \"val\": {\"n_unique_x\": 1740, \"n_unique_y\": 58, \"n_batch/episode\": 12}, \"test\": {\"n_unique_x\": 1740, \"n_unique_y\": 58, \"n_batch/episode\": 12}}, \"target\": {\"train\": {\"n_unique_x\": 12180, \"n_unique_y\": 58, \"n_batch/episode\": 126}, \"val\": {\"n_unique_x\": 2610, \"n_unique_y\": 58, \"n_batch/episode\": 18}, \"test\": {\"n_unique_x\": 2610, \"n_unique_y\": 58, \"n_batch/episode\": 18}}}}'"
      ]
     },
     "execution_count": 20,
     "metadata": {},
     "output_type": "execute_result"
    }
   ],
   "source": [
    "json.dumps(experiment)"
   ]
  }
 ],
 "metadata": {
  "celltoolbar": "Tags",
  "kernelspec": {
   "display_name": "Python 3 (ipykernel)",
   "language": "python",
   "name": "python3"
  },
  "language_info": {
   "codemirror_mode": {
    "name": "ipython",
    "version": 3
   },
   "file_extension": ".py",
   "mimetype": "text/x-python",
   "name": "python",
   "nbconvert_exporter": "python",
   "pygments_lexer": "ipython3",
   "version": "3.8.10"
  },
  "papermill": {
   "default_parameters": {},
   "duration": 56.078036,
   "end_time": "2022-03-06T00:55:17.903904",
   "environment_variables": {},
   "exception": null,
   "input_path": "/mnt/wd500GB/CSC500/csc500-main/csc500-notebooks/templates/ptn_template.ipynb",
   "output_path": "trial.ipynb",
   "parameters": {
    "parameters": {
     "BEST_MODEL_PATH": "./best_model.pth",
     "NUM_LOGS_PER_EPOCH": 10,
     "criteria_for_best": "target_loss",
     "dataset_seed": 1337,
     "device": "cuda",
     "domains_source": [
      1,
      5
     ],
     "domains_target": [
      2,
      3,
      4
     ],
     "episode_transforms_source": [],
     "episode_transforms_target": [],
     "experiment_name": "tuned_1_cores",
     "labels_source": [
      "1-10.",
      "1-11.",
      "1-15.",
      "1-16.",
      "1-17.",
      "1-18.",
      "1-19.",
      "10-4.",
      "10-7.",
      "11-1.",
      "11-14.",
      "11-17.",
      "11-20.",
      "11-7.",
      "13-20.",
      "13-8.",
      "14-10.",
      "14-11.",
      "14-14.",
      "14-7.",
      "15-1.",
      "15-20.",
      "16-1.",
      "16-16.",
      "17-10.",
      "17-11.",
      "17-2.",
      "19-1.",
      "19-16.",
      "19-19.",
      "19-20.",
      "19-3.",
      "2-10.",
      "2-11.",
      "2-17.",
      "2-18.",
      "2-20.",
      "2-3.",
      "2-4.",
      "2-5.",
      "2-6.",
      "2-7.",
      "2-8.",
      "3-13.",
      "3-18.",
      "3-3.",
      "4-1.",
      "4-10.",
      "4-11.",
      "4-19.",
      "5-5.",
      "6-15.",
      "7-10.",
      "7-14.",
      "8-18.",
      "8-20.",
      "8-3.",
      "8-8."
     ],
     "labels_target": [
      "1-10.",
      "1-11.",
      "1-15.",
      "1-16.",
      "1-17.",
      "1-18.",
      "1-19.",
      "10-4.",
      "10-7.",
      "11-1.",
      "11-14.",
      "11-17.",
      "11-20.",
      "11-7.",
      "13-20.",
      "13-8.",
      "14-10.",
      "14-11.",
      "14-14.",
      "14-7.",
      "15-1.",
      "15-20.",
      "16-1.",
      "16-16.",
      "17-10.",
      "17-11.",
      "17-2.",
      "19-1.",
      "19-16.",
      "19-19.",
      "19-20.",
      "19-3.",
      "2-10.",
      "2-11.",
      "2-17.",
      "2-18.",
      "2-20.",
      "2-3.",
      "2-4.",
      "2-5.",
      "2-6.",
      "2-7.",
      "2-8.",
      "3-13.",
      "3-18.",
      "3-3.",
      "4-1.",
      "4-10.",
      "4-11.",
      "4-19.",
      "5-5.",
      "6-15.",
      "7-10.",
      "7-14.",
      "8-18.",
      "8-20.",
      "8-3.",
      "8-8."
     ],
     "lr": 0.001,
     "n_epoch": 50,
     "n_query": 2,
     "n_shot": 3,
     "n_way": 58,
     "num_examples_per_domain_per_label_source": 100,
     "num_examples_per_domain_per_label_target": 100,
     "patience": 3,
     "pickle_name": "cores.stratified_ds.2022A.pkl",
     "seed": 1337,
     "test_k_factor": 2,
     "torch_default_dtype": "torch.float32",
     "train_k_factor": 3,
     "val_k_factor": 2,
     "x_net": [
      {
       "class": "nnReshape",
       "kargs": {
        "shape": [
         -1,
         1,
         2,
         256
        ]
       }
      },
      {
       "class": "Conv2d",
       "kargs": {
        "bias": false,
        "in_channels": 1,
        "kernel_size": [
         1,
         7
        ],
        "out_channels": 256,
        "padding": [
         0,
         3
        ]
       }
      },
      {
       "class": "ReLU",
       "kargs": {
        "inplace": true
       }
      },
      {
       "class": "BatchNorm2d",
       "kargs": {
        "num_features": 256
       }
      },
      {
       "class": "Conv2d",
       "kargs": {
        "bias": true,
        "in_channels": 256,
        "kernel_size": [
         2,
         7
        ],
        "out_channels": 80,
        "padding": [
         0,
         3
        ]
       }
      },
      {
       "class": "ReLU",
       "kargs": {
        "inplace": true
       }
      },
      {
       "class": "BatchNorm2d",
       "kargs": {
        "num_features": 80
       }
      },
      {
       "class": "Flatten",
       "kargs": {}
      },
      {
       "class": "Linear",
       "kargs": {
        "in_features": 20480,
        "out_features": 256
       }
      },
      {
       "class": "ReLU",
       "kargs": {
        "inplace": true
       }
      },
      {
       "class": "BatchNorm1d",
       "kargs": {
        "num_features": 256
       }
      },
      {
       "class": "Linear",
       "kargs": {
        "in_features": 256,
        "out_features": 256
       }
      }
     ],
     "x_transforms_source": [
      "unit_power"
     ],
     "x_transforms_target": [
      "unit_power"
     ]
    }
   },
   "start_time": "2022-03-06T00:54:21.825868",
   "version": "2.3.4"
  }
 },
 "nbformat": 4,
 "nbformat_minor": 5
}