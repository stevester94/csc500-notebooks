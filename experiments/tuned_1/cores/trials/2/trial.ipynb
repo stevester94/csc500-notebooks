{
 "cells": [
  {
   "cell_type": "markdown",
   "id": "9fea5f46",
   "metadata": {
    "papermill": {
     "duration": 0.016561,
     "end_time": "2022-03-06T00:53:35.031125",
     "exception": false,
     "start_time": "2022-03-06T00:53:35.014564",
     "status": "completed"
    },
    "tags": []
   },
   "source": [
    "# PTN Template\n",
    "This notebook serves as a template for single dataset PTN experiments  \n",
    "It can be run on its own by setting STANDALONE to True (do a find for \"STANDALONE\" to see where)  \n",
    "But it is intended to be executed as part of a *papermill.py script. See any of the   \n",
    "experimentes with a papermill script to get started with that workflow.  "
   ]
  },
  {
   "cell_type": "code",
   "execution_count": 1,
   "id": "0902182a",
   "metadata": {
    "execution": {
     "iopub.execute_input": "2022-03-06T00:53:35.072539Z",
     "iopub.status.busy": "2022-03-06T00:53:35.072255Z",
     "iopub.status.idle": "2022-03-06T00:53:35.861889Z",
     "shell.execute_reply": "2022-03-06T00:53:35.861388Z"
    },
    "papermill": {
     "duration": 0.81292,
     "end_time": "2022-03-06T00:53:35.862001",
     "exception": false,
     "start_time": "2022-03-06T00:53:35.049081",
     "status": "completed"
    },
    "tags": []
   },
   "outputs": [],
   "source": [
    "%load_ext autoreload\n",
    "%autoreload 2\n",
    "%matplotlib inline\n",
    "\n",
    "    \n",
    "import os, json, sys, time, random\n",
    "import numpy as np\n",
    "import torch\n",
    "from torch.optim import Adam\n",
    "from  easydict import EasyDict\n",
    "import matplotlib.pyplot as plt\n",
    "\n",
    "from steves_models.steves_ptn import Steves_Prototypical_Network\n",
    "\n",
    "from steves_utils.lazy_iterable_wrapper import Lazy_Iterable_Wrapper\n",
    "from steves_utils.iterable_aggregator import Iterable_Aggregator\n",
    "from steves_utils.ptn_train_eval_test_jig import  PTN_Train_Eval_Test_Jig\n",
    "from steves_utils.torch_sequential_builder import build_sequential\n",
    "from steves_utils.torch_utils import get_dataset_metrics, ptn_confusion_by_domain_over_dataloader\n",
    "from steves_utils.utils_v2 import (per_domain_accuracy_from_confusion, get_datasets_base_path)\n",
    "from steves_utils.PTN.utils import independent_accuracy_assesment\n",
    "\n",
    "from steves_utils.stratified_dataset.episodic_accessor import Episodic_Accessor_Factory\n",
    "\n",
    "from steves_utils.ptn_do_report import (\n",
    "    get_loss_curve,\n",
    "    get_results_table,\n",
    "    get_parameters_table,\n",
    "    get_domain_accuracies,\n",
    ")\n",
    "\n",
    "from steves_utils.transforms import get_chained_transform"
   ]
  },
  {
   "cell_type": "markdown",
   "id": "41c840b4",
   "metadata": {
    "papermill": {
     "duration": 0.009133,
     "end_time": "2022-03-06T00:53:35.886723",
     "exception": false,
     "start_time": "2022-03-06T00:53:35.877590",
     "status": "completed"
    },
    "tags": []
   },
   "source": [
    "# Required Parameters\n",
    "These are allowed parameters, not defaults\n",
    "Each of these values need to be present in the injected parameters (the notebook will raise an exception if they are not present)\n",
    "\n",
    "Papermill uses the cell tag \"parameters\" to inject the real parameters below this cell.\n",
    "Enable tags to see what I mean"
   ]
  },
  {
   "cell_type": "code",
   "execution_count": 2,
   "id": "fd44eb83",
   "metadata": {
    "execution": {
     "iopub.execute_input": "2022-03-06T00:53:35.907582Z",
     "iopub.status.busy": "2022-03-06T00:53:35.907317Z",
     "iopub.status.idle": "2022-03-06T00:53:35.916746Z",
     "shell.execute_reply": "2022-03-06T00:53:35.916354Z"
    },
    "papermill": {
     "duration": 0.021002,
     "end_time": "2022-03-06T00:53:35.916836",
     "exception": false,
     "start_time": "2022-03-06T00:53:35.895834",
     "status": "completed"
    },
    "tags": []
   },
   "outputs": [],
   "source": [
    "required_parameters = {\n",
    "    \"experiment_name\",\n",
    "    \"lr\",\n",
    "    \"device\",\n",
    "    \"seed\",\n",
    "    \"dataset_seed\",\n",
    "    \"labels_source\",\n",
    "    \"labels_target\",\n",
    "    \"domains_source\",\n",
    "    \"domains_target\",\n",
    "    \"num_examples_per_domain_per_label_source\",\n",
    "    \"num_examples_per_domain_per_label_target\",\n",
    "    \"n_shot\",\n",
    "    \"n_way\",\n",
    "    \"n_query\",\n",
    "    \"train_k_factor\",\n",
    "    \"val_k_factor\",\n",
    "    \"test_k_factor\",\n",
    "    \"n_epoch\",\n",
    "    \"patience\",\n",
    "    \"criteria_for_best\",\n",
    "    \"x_transforms_source\",\n",
    "    \"x_transforms_target\",\n",
    "    \"episode_transforms_source\",\n",
    "    \"episode_transforms_target\",\n",
    "    \"pickle_name\",\n",
    "    \"x_net\",\n",
    "    \"NUM_LOGS_PER_EPOCH\",\n",
    "    \"BEST_MODEL_PATH\",\n",
    "    \"torch_default_dtype\"\n",
    "}"
   ]
  },
  {
   "cell_type": "code",
   "execution_count": 3,
   "id": "fa3f0049",
   "metadata": {
    "execution": {
     "iopub.execute_input": "2022-03-06T00:53:35.946426Z",
     "iopub.status.busy": "2022-03-06T00:53:35.946117Z",
     "iopub.status.idle": "2022-03-06T00:53:35.956089Z",
     "shell.execute_reply": "2022-03-06T00:53:35.955738Z"
    },
    "papermill": {
     "duration": 0.02538,
     "end_time": "2022-03-06T00:53:35.956160",
     "exception": false,
     "start_time": "2022-03-06T00:53:35.930780",
     "status": "completed"
    },
    "tags": [
     "parameters"
    ]
   },
   "outputs": [],
   "source": [
    "\n",
    "\n",
    "standalone_parameters = {}\n",
    "standalone_parameters[\"experiment_name\"] = \"STANDALONE PTN\"\n",
    "standalone_parameters[\"lr\"] = 0.0001\n",
    "standalone_parameters[\"device\"] = \"cuda\"\n",
    "\n",
    "standalone_parameters[\"seed\"] = 1337\n",
    "standalone_parameters[\"dataset_seed\"] = 1337\n",
    "\n",
    "\n",
    "standalone_parameters[\"num_examples_per_domain_per_label_source\"]=100\n",
    "standalone_parameters[\"num_examples_per_domain_per_label_target\"]=100\n",
    "\n",
    "standalone_parameters[\"n_shot\"] = 3\n",
    "standalone_parameters[\"n_query\"]  = 2\n",
    "standalone_parameters[\"train_k_factor\"] = 1\n",
    "standalone_parameters[\"val_k_factor\"] = 2\n",
    "standalone_parameters[\"test_k_factor\"] = 2\n",
    "\n",
    "\n",
    "standalone_parameters[\"n_epoch\"] = 100\n",
    "\n",
    "standalone_parameters[\"patience\"] = 10\n",
    "standalone_parameters[\"criteria_for_best\"] = \"target_accuracy\"\n",
    "\n",
    "standalone_parameters[\"x_transforms_source\"] = [\"unit_power\"]\n",
    "standalone_parameters[\"x_transforms_target\"] = [\"unit_power\"]\n",
    "standalone_parameters[\"episode_transforms_source\"] = []\n",
    "standalone_parameters[\"episode_transforms_target\"] = []\n",
    "\n",
    "standalone_parameters[\"torch_default_dtype\"] = \"torch.float32\" \n",
    "\n",
    "\n",
    "\n",
    "standalone_parameters[\"x_net\"] =     [\n",
    "    {\"class\": \"nnReshape\", \"kargs\": {\"shape\":[-1, 1, 2, 256]}},\n",
    "    {\"class\": \"Conv2d\", \"kargs\": { \"in_channels\":1, \"out_channels\":256, \"kernel_size\":(1,7), \"bias\":False, \"padding\":(0,3), },},\n",
    "    {\"class\": \"ReLU\", \"kargs\": {\"inplace\": True}},\n",
    "    {\"class\": \"BatchNorm2d\", \"kargs\": {\"num_features\":256}},\n",
    "\n",
    "    {\"class\": \"Conv2d\", \"kargs\": { \"in_channels\":256, \"out_channels\":80, \"kernel_size\":(2,7), \"bias\":True, \"padding\":(0,3), },},\n",
    "    {\"class\": \"ReLU\", \"kargs\": {\"inplace\": True}},\n",
    "    {\"class\": \"BatchNorm2d\", \"kargs\": {\"num_features\":80}},\n",
    "    {\"class\": \"Flatten\", \"kargs\": {}},\n",
    "\n",
    "    {\"class\": \"Linear\", \"kargs\": {\"in_features\": 80*256, \"out_features\": 256}}, # 80 units per IQ pair\n",
    "    {\"class\": \"ReLU\", \"kargs\": {\"inplace\": True}},\n",
    "    {\"class\": \"BatchNorm1d\", \"kargs\": {\"num_features\":256}},\n",
    "\n",
    "    {\"class\": \"Linear\", \"kargs\": {\"in_features\": 256, \"out_features\": 256}},\n",
    "]\n",
    "\n",
    "# Parameters relevant to results\n",
    "# These parameters will basically never need to change\n",
    "standalone_parameters[\"NUM_LOGS_PER_EPOCH\"] = 10\n",
    "standalone_parameters[\"BEST_MODEL_PATH\"] = \"./best_model.pth\"\n",
    "\n",
    "# uncomment for CORES dataset\n",
    "from steves_utils.CORES.utils import (\n",
    "    ALL_NODES,\n",
    "    ALL_NODES_MINIMUM_1000_EXAMPLES,\n",
    "    ALL_DAYS\n",
    ")\n",
    "\n",
    "\n",
    "standalone_parameters[\"labels_source\"] = ALL_NODES\n",
    "standalone_parameters[\"labels_target\"] = ALL_NODES\n",
    "\n",
    "standalone_parameters[\"domains_source\"] = [1]\n",
    "standalone_parameters[\"domains_target\"] = [2,3,4,5]\n",
    "\n",
    "standalone_parameters[\"pickle_name\"] = \"cores.stratified_ds.2022A.pkl\"\n",
    "\n",
    "\n",
    "# Uncomment these for ORACLE dataset\n",
    "# from steves_utils.ORACLE.utils_v2 import (\n",
    "#     ALL_DISTANCES_FEET,\n",
    "#     ALL_RUNS,\n",
    "#     ALL_SERIAL_NUMBERS,\n",
    "# )\n",
    "# standalone_parameters[\"labels_source\"] = ALL_SERIAL_NUMBERS\n",
    "# standalone_parameters[\"labels_target\"] = ALL_SERIAL_NUMBERS\n",
    "# standalone_parameters[\"domains_source\"] = [8,20, 38,50]\n",
    "# standalone_parameters[\"domains_target\"] = [14, 26, 32, 44, 56]\n",
    "# standalone_parameters[\"pickle_name\"] = \"oracle.frame_indexed.stratified_ds.2022A.pkl\"\n",
    "# standalone_parameters[\"num_examples_per_domain_per_label_source\"]=1000\n",
    "# standalone_parameters[\"num_examples_per_domain_per_label_target\"]=1000\n",
    "\n",
    "# Uncomment these for Metahan dataset\n",
    "# standalone_parameters[\"labels_source\"] = list(range(19))\n",
    "# standalone_parameters[\"labels_target\"] = list(range(19))\n",
    "# standalone_parameters[\"domains_source\"] = [0]\n",
    "# standalone_parameters[\"domains_target\"] = [1]\n",
    "# standalone_parameters[\"pickle_name\"] = \"metehan.stratified_ds.2022A.pkl\"\n",
    "# standalone_parameters[\"n_way\"]  = len(standalone_parameters[\"labels_source\"])\n",
    "# standalone_parameters[\"num_examples_per_domain_per_label_source\"]=200\n",
    "# standalone_parameters[\"num_examples_per_domain_per_label_target\"]=100\n",
    "\n",
    "\n",
    "standalone_parameters[\"n_way\"]  = len(standalone_parameters[\"labels_source\"])"
   ]
  },
  {
   "cell_type": "code",
   "execution_count": 4,
   "id": "1f107ab7",
   "metadata": {
    "execution": {
     "iopub.execute_input": "2022-03-06T00:53:35.986156Z",
     "iopub.status.busy": "2022-03-06T00:53:35.985856Z",
     "iopub.status.idle": "2022-03-06T00:53:35.995209Z",
     "shell.execute_reply": "2022-03-06T00:53:35.995593Z"
    },
    "papermill": {
     "duration": 0.026324,
     "end_time": "2022-03-06T00:53:35.995696",
     "exception": false,
     "start_time": "2022-03-06T00:53:35.969372",
     "status": "completed"
    },
    "tags": [
     "injected-parameters"
    ]
   },
   "outputs": [],
   "source": [
    "# Parameters\n",
    "parameters = {\n",
    "    \"experiment_name\": \"tuned_1_cores\",\n",
    "    \"device\": \"cuda\",\n",
    "    \"lr\": 0.001,\n",
    "    \"seed\": 1337,\n",
    "    \"dataset_seed\": 1337,\n",
    "    \"labels_source\": [\n",
    "        \"1-10.\",\n",
    "        \"1-11.\",\n",
    "        \"1-15.\",\n",
    "        \"1-16.\",\n",
    "        \"1-17.\",\n",
    "        \"1-18.\",\n",
    "        \"1-19.\",\n",
    "        \"10-4.\",\n",
    "        \"10-7.\",\n",
    "        \"11-1.\",\n",
    "        \"11-14.\",\n",
    "        \"11-17.\",\n",
    "        \"11-20.\",\n",
    "        \"11-7.\",\n",
    "        \"13-20.\",\n",
    "        \"13-8.\",\n",
    "        \"14-10.\",\n",
    "        \"14-11.\",\n",
    "        \"14-14.\",\n",
    "        \"14-7.\",\n",
    "        \"15-1.\",\n",
    "        \"15-20.\",\n",
    "        \"16-1.\",\n",
    "        \"16-16.\",\n",
    "        \"17-10.\",\n",
    "        \"17-11.\",\n",
    "        \"17-2.\",\n",
    "        \"19-1.\",\n",
    "        \"19-16.\",\n",
    "        \"19-19.\",\n",
    "        \"19-20.\",\n",
    "        \"19-3.\",\n",
    "        \"2-10.\",\n",
    "        \"2-11.\",\n",
    "        \"2-17.\",\n",
    "        \"2-18.\",\n",
    "        \"2-20.\",\n",
    "        \"2-3.\",\n",
    "        \"2-4.\",\n",
    "        \"2-5.\",\n",
    "        \"2-6.\",\n",
    "        \"2-7.\",\n",
    "        \"2-8.\",\n",
    "        \"3-13.\",\n",
    "        \"3-18.\",\n",
    "        \"3-3.\",\n",
    "        \"4-1.\",\n",
    "        \"4-10.\",\n",
    "        \"4-11.\",\n",
    "        \"4-19.\",\n",
    "        \"5-5.\",\n",
    "        \"6-15.\",\n",
    "        \"7-10.\",\n",
    "        \"7-14.\",\n",
    "        \"8-18.\",\n",
    "        \"8-20.\",\n",
    "        \"8-3.\",\n",
    "        \"8-8.\",\n",
    "    ],\n",
    "    \"labels_target\": [\n",
    "        \"1-10.\",\n",
    "        \"1-11.\",\n",
    "        \"1-15.\",\n",
    "        \"1-16.\",\n",
    "        \"1-17.\",\n",
    "        \"1-18.\",\n",
    "        \"1-19.\",\n",
    "        \"10-4.\",\n",
    "        \"10-7.\",\n",
    "        \"11-1.\",\n",
    "        \"11-14.\",\n",
    "        \"11-17.\",\n",
    "        \"11-20.\",\n",
    "        \"11-7.\",\n",
    "        \"13-20.\",\n",
    "        \"13-8.\",\n",
    "        \"14-10.\",\n",
    "        \"14-11.\",\n",
    "        \"14-14.\",\n",
    "        \"14-7.\",\n",
    "        \"15-1.\",\n",
    "        \"15-20.\",\n",
    "        \"16-1.\",\n",
    "        \"16-16.\",\n",
    "        \"17-10.\",\n",
    "        \"17-11.\",\n",
    "        \"17-2.\",\n",
    "        \"19-1.\",\n",
    "        \"19-16.\",\n",
    "        \"19-19.\",\n",
    "        \"19-20.\",\n",
    "        \"19-3.\",\n",
    "        \"2-10.\",\n",
    "        \"2-11.\",\n",
    "        \"2-17.\",\n",
    "        \"2-18.\",\n",
    "        \"2-20.\",\n",
    "        \"2-3.\",\n",
    "        \"2-4.\",\n",
    "        \"2-5.\",\n",
    "        \"2-6.\",\n",
    "        \"2-7.\",\n",
    "        \"2-8.\",\n",
    "        \"3-13.\",\n",
    "        \"3-18.\",\n",
    "        \"3-3.\",\n",
    "        \"4-1.\",\n",
    "        \"4-10.\",\n",
    "        \"4-11.\",\n",
    "        \"4-19.\",\n",
    "        \"5-5.\",\n",
    "        \"6-15.\",\n",
    "        \"7-10.\",\n",
    "        \"7-14.\",\n",
    "        \"8-18.\",\n",
    "        \"8-20.\",\n",
    "        \"8-3.\",\n",
    "        \"8-8.\",\n",
    "    ],\n",
    "    \"episode_transforms_source\": [],\n",
    "    \"episode_transforms_target\": [],\n",
    "    \"domains_source\": [1, 5],\n",
    "    \"domains_target\": [2, 3, 4],\n",
    "    \"num_examples_per_domain_per_label_source\": 100,\n",
    "    \"num_examples_per_domain_per_label_target\": 100,\n",
    "    \"n_shot\": 3,\n",
    "    \"n_way\": 58,\n",
    "    \"n_query\": 2,\n",
    "    \"train_k_factor\": 3,\n",
    "    \"val_k_factor\": 2,\n",
    "    \"test_k_factor\": 2,\n",
    "    \"torch_default_dtype\": \"torch.float32\",\n",
    "    \"n_epoch\": 50,\n",
    "    \"patience\": 3,\n",
    "    \"criteria_for_best\": \"target_loss\",\n",
    "    \"x_net\": [\n",
    "        {\"class\": \"nnReshape\", \"kargs\": {\"shape\": [-1, 1, 2, 256]}},\n",
    "        {\n",
    "            \"class\": \"Conv2d\",\n",
    "            \"kargs\": {\n",
    "                \"in_channels\": 1,\n",
    "                \"out_channels\": 256,\n",
    "                \"kernel_size\": [1, 7],\n",
    "                \"bias\": False,\n",
    "                \"padding\": [0, 3],\n",
    "            },\n",
    "        },\n",
    "        {\"class\": \"ReLU\", \"kargs\": {\"inplace\": True}},\n",
    "        {\"class\": \"BatchNorm2d\", \"kargs\": {\"num_features\": 256}},\n",
    "        {\n",
    "            \"class\": \"Conv2d\",\n",
    "            \"kargs\": {\n",
    "                \"in_channels\": 256,\n",
    "                \"out_channels\": 80,\n",
    "                \"kernel_size\": [2, 7],\n",
    "                \"bias\": True,\n",
    "                \"padding\": [0, 3],\n",
    "            },\n",
    "        },\n",
    "        {\"class\": \"ReLU\", \"kargs\": {\"inplace\": True}},\n",
    "        {\"class\": \"BatchNorm2d\", \"kargs\": {\"num_features\": 80}},\n",
    "        {\"class\": \"Flatten\", \"kargs\": {}},\n",
    "        {\"class\": \"Linear\", \"kargs\": {\"in_features\": 20480, \"out_features\": 256}},\n",
    "        {\"class\": \"ReLU\", \"kargs\": {\"inplace\": True}},\n",
    "        {\"class\": \"BatchNorm1d\", \"kargs\": {\"num_features\": 256}},\n",
    "        {\"class\": \"Linear\", \"kargs\": {\"in_features\": 256, \"out_features\": 256}},\n",
    "    ],\n",
    "    \"NUM_LOGS_PER_EPOCH\": 10,\n",
    "    \"BEST_MODEL_PATH\": \"./best_model.pth\",\n",
    "    \"pickle_name\": \"cores.stratified_ds.2022A.pkl\",\n",
    "    \"x_transforms_source\": [\"times_zero\"],\n",
    "    \"x_transforms_target\": [\"times_zero\"],\n",
    "}\n"
   ]
  },
  {
   "cell_type": "code",
   "execution_count": 5,
   "id": "8fa1cc33",
   "metadata": {
    "execution": {
     "iopub.execute_input": "2022-03-06T00:53:36.022956Z",
     "iopub.status.busy": "2022-03-06T00:53:36.022656Z",
     "iopub.status.idle": "2022-03-06T00:53:36.030954Z",
     "shell.execute_reply": "2022-03-06T00:53:36.030651Z"
    },
    "papermill": {
     "duration": 0.021054,
     "end_time": "2022-03-06T00:53:36.031005",
     "exception": false,
     "start_time": "2022-03-06T00:53:36.009951",
     "status": "completed"
    },
    "tags": []
   },
   "outputs": [],
   "source": [
    "# Set this to True if you want to run this template directly\n",
    "STANDALONE = False\n",
    "if STANDALONE:\n",
    "    print(\"parameters not injected, running with standalone_parameters\")\n",
    "    parameters = standalone_parameters\n",
    "\n",
    "if not 'parameters' in locals() and not 'parameters' in globals():\n",
    "    raise Exception(\"Parameter injection failed\")\n",
    "\n",
    "#Use an easy dict for all the parameters\n",
    "p = EasyDict(parameters)\n",
    "\n",
    "supplied_keys = set(p.keys())\n",
    "\n",
    "if  supplied_keys != required_parameters:\n",
    "    print(\"Parameters are incorrect\")\n",
    "    if len(supplied_keys - required_parameters)>0: print(\"Shouldn't have:\", str(supplied_keys - required_parameters))\n",
    "    if len(required_parameters - supplied_keys)>0: print(\"Need to have:\", str(required_parameters - supplied_keys))\n",
    "    raise RuntimeError(\"Parameters are incorrect\")\n",
    "\n"
   ]
  },
  {
   "cell_type": "code",
   "execution_count": 6,
   "id": "3a028d58",
   "metadata": {
    "execution": {
     "iopub.execute_input": "2022-03-06T00:53:36.064699Z",
     "iopub.status.busy": "2022-03-06T00:53:36.064438Z",
     "iopub.status.idle": "2022-03-06T00:53:36.073081Z",
     "shell.execute_reply": "2022-03-06T00:53:36.072826Z"
    },
    "papermill": {
     "duration": 0.023734,
     "end_time": "2022-03-06T00:53:36.073133",
     "exception": false,
     "start_time": "2022-03-06T00:53:36.049399",
     "status": "completed"
    },
    "tags": []
   },
   "outputs": [],
   "source": [
    "###################################\n",
    "# Set the RNGs and make it all deterministic\n",
    "###################################\n",
    "np.random.seed(p.seed)\n",
    "random.seed(p.seed)\n",
    "torch.manual_seed(p.seed)\n",
    "\n",
    "torch.use_deterministic_algorithms(True) "
   ]
  },
  {
   "cell_type": "code",
   "execution_count": 7,
   "id": "b691acf6",
   "metadata": {
    "execution": {
     "iopub.execute_input": "2022-03-06T00:53:36.097658Z",
     "iopub.status.busy": "2022-03-06T00:53:36.097407Z",
     "iopub.status.idle": "2022-03-06T00:53:36.105647Z",
     "shell.execute_reply": "2022-03-06T00:53:36.105415Z"
    },
    "papermill": {
     "duration": 0.01972,
     "end_time": "2022-03-06T00:53:36.105697",
     "exception": false,
     "start_time": "2022-03-06T00:53:36.085977",
     "status": "completed"
    },
    "tags": []
   },
   "outputs": [],
   "source": [
    "###########################################\n",
    "# The stratified datasets honor this\n",
    "###########################################\n",
    "torch.set_default_dtype(eval(p.torch_default_dtype))"
   ]
  },
  {
   "cell_type": "code",
   "execution_count": 8,
   "id": "b5fba671",
   "metadata": {
    "execution": {
     "iopub.execute_input": "2022-03-06T00:53:36.129670Z",
     "iopub.status.busy": "2022-03-06T00:53:36.129411Z",
     "iopub.status.idle": "2022-03-06T00:53:36.166368Z",
     "shell.execute_reply": "2022-03-06T00:53:36.166610Z"
    },
    "papermill": {
     "duration": 0.048736,
     "end_time": "2022-03-06T00:53:36.166713",
     "exception": false,
     "start_time": "2022-03-06T00:53:36.117977",
     "status": "completed"
    },
    "tags": []
   },
   "outputs": [],
   "source": [
    "###################################\n",
    "# Build the network(s)\n",
    "# Note: It's critical to do this AFTER setting the RNG\n",
    "# (This is due to the randomized initial weights)\n",
    "###################################\n",
    "x_net = build_sequential(p.x_net)"
   ]
  },
  {
   "cell_type": "code",
   "execution_count": 9,
   "id": "5d7e61cc",
   "metadata": {
    "execution": {
     "iopub.execute_input": "2022-03-06T00:53:36.193672Z",
     "iopub.status.busy": "2022-03-06T00:53:36.193413Z",
     "iopub.status.idle": "2022-03-06T00:53:36.205880Z",
     "shell.execute_reply": "2022-03-06T00:53:36.205414Z"
    },
    "papermill": {
     "duration": 0.025567,
     "end_time": "2022-03-06T00:53:36.205980",
     "exception": false,
     "start_time": "2022-03-06T00:53:36.180413",
     "status": "completed"
    },
    "tags": []
   },
   "outputs": [],
   "source": [
    "start_time_secs = time.time()"
   ]
  },
  {
   "cell_type": "code",
   "execution_count": 10,
   "id": "fd5442bc",
   "metadata": {
    "execution": {
     "iopub.execute_input": "2022-03-06T00:53:36.238654Z",
     "iopub.status.busy": "2022-03-06T00:53:36.238388Z",
     "iopub.status.idle": "2022-03-06T00:53:37.160332Z",
     "shell.execute_reply": "2022-03-06T00:53:37.159873Z"
    },
    "papermill": {
     "duration": 0.93967,
     "end_time": "2022-03-06T00:53:37.160437",
     "exception": false,
     "start_time": "2022-03-06T00:53:36.220767",
     "status": "completed"
    },
    "tags": []
   },
   "outputs": [],
   "source": [
    "###################################\n",
    "# Build the dataset\n",
    "###################################\n",
    "\n",
    "if p.x_transforms_source == []: x_transform_source = None\n",
    "else: x_transform_source = get_chained_transform(p.x_transforms_source) \n",
    "\n",
    "if p.x_transforms_target == []: x_transform_target = None\n",
    "else: x_transform_target = get_chained_transform(p.x_transforms_target)\n",
    "\n",
    "if p.episode_transforms_source == []: episode_transform_source = None\n",
    "else: raise Exception(\"episode_transform_source not implemented\")\n",
    "\n",
    "if p.episode_transforms_target == []: episode_transform_target = None\n",
    "else: raise Exception(\"episode_transform_target not implemented\")\n",
    "\n",
    "\n",
    "eaf_source = Episodic_Accessor_Factory(\n",
    "    labels=p.labels_source,\n",
    "    domains=p.domains_source,\n",
    "    num_examples_per_domain_per_label=p.num_examples_per_domain_per_label_source,\n",
    "    iterator_seed=p.seed,\n",
    "    dataset_seed=p.dataset_seed,\n",
    "    n_shot=p.n_shot,\n",
    "    n_way=p.n_way,\n",
    "    n_query=p.n_query,\n",
    "    train_val_test_k_factors=(p.train_k_factor,p.val_k_factor,p.test_k_factor),\n",
    "    pickle_path=os.path.join(get_datasets_base_path(), p.pickle_name),\n",
    "    x_transform_func=x_transform_source,\n",
    "    example_transform_func=episode_transform_source,\n",
    "    \n",
    ")\n",
    "train_original_source, val_original_source, test_original_source = eaf_source.get_train(), eaf_source.get_val(), eaf_source.get_test()\n",
    "\n",
    "\n",
    "eaf_target = Episodic_Accessor_Factory(\n",
    "    labels=p.labels_target,\n",
    "    domains=p.domains_target,\n",
    "    num_examples_per_domain_per_label=p.num_examples_per_domain_per_label_target,\n",
    "    iterator_seed=p.seed,\n",
    "    dataset_seed=p.dataset_seed,\n",
    "    n_shot=p.n_shot,\n",
    "    n_way=p.n_way,\n",
    "    n_query=p.n_query,\n",
    "    train_val_test_k_factors=(p.train_k_factor,p.val_k_factor,p.test_k_factor),\n",
    "    pickle_path=os.path.join(get_datasets_base_path(), p.pickle_name),\n",
    "    x_transform_func=x_transform_target,\n",
    "    example_transform_func=episode_transform_target,\n",
    ")\n",
    "train_original_target, val_original_target, test_original_target = eaf_target.get_train(), eaf_target.get_val(), eaf_target.get_test()\n",
    "\n",
    "\n",
    "transform_lambda = lambda ex: ex[1] # Original is (<domain>, <episode>) so we strip down to episode only\n",
    "\n",
    "train_processed_source = Lazy_Iterable_Wrapper(train_original_source, transform_lambda)\n",
    "val_processed_source   = Lazy_Iterable_Wrapper(val_original_source, transform_lambda)\n",
    "test_processed_source  = Lazy_Iterable_Wrapper(test_original_source, transform_lambda)\n",
    "\n",
    "train_processed_target = Lazy_Iterable_Wrapper(train_original_target, transform_lambda)\n",
    "val_processed_target   = Lazy_Iterable_Wrapper(val_original_target, transform_lambda)\n",
    "test_processed_target  = Lazy_Iterable_Wrapper(test_original_target, transform_lambda)\n",
    "\n",
    "datasets = EasyDict({\n",
    "    \"source\": {\n",
    "        \"original\": {\"train\":train_original_source, \"val\":val_original_source, \"test\":test_original_source},\n",
    "        \"processed\": {\"train\":train_processed_source, \"val\":val_processed_source, \"test\":test_processed_source}\n",
    "    },\n",
    "    \"target\": {\n",
    "        \"original\": {\"train\":train_original_target, \"val\":val_original_target, \"test\":test_original_target},\n",
    "        \"processed\": {\"train\":train_processed_target, \"val\":val_processed_target, \"test\":test_processed_target}\n",
    "    },\n",
    "})"
   ]
  },
  {
   "cell_type": "code",
   "execution_count": 11,
   "id": "296189d9",
   "metadata": {
    "execution": {
     "iopub.execute_input": "2022-03-06T00:53:37.189398Z",
     "iopub.status.busy": "2022-03-06T00:53:37.189110Z",
     "iopub.status.idle": "2022-03-06T00:53:38.838982Z",
     "shell.execute_reply": "2022-03-06T00:53:38.839241Z"
    },
    "papermill": {
     "duration": 1.663883,
     "end_time": "2022-03-06T00:53:38.839322",
     "exception": false,
     "start_time": "2022-03-06T00:53:37.175439",
     "status": "completed"
    },
    "tags": []
   },
   "outputs": [
    {
     "name": "stdout",
     "output_type": "stream",
     "text": [
      "Visually inspect these to see if they line up with expected values given the transforms\n",
      "x_transforms_source ['times_zero']\n",
      "x_transforms_target ['times_zero']\n",
      "Average magnitude, source: 0.0\n",
      "Average power, source: 0.0\n"
     ]
    },
    {
     "name": "stdout",
     "output_type": "stream",
     "text": [
      "Average magnitude, target: 0.0\n",
      "Average power, target: 0.0\n"
     ]
    }
   ],
   "source": [
    "# Some quick unit tests on the data\n",
    "from steves_utils.transforms import get_average_power, get_average_magnitude\n",
    "\n",
    "q_x, q_y, s_x, s_y, truth = next(iter(train_processed_source))\n",
    "\n",
    "assert q_x.dtype == eval(p.torch_default_dtype)\n",
    "assert s_x.dtype == eval(p.torch_default_dtype)\n",
    "\n",
    "print(\"Visually inspect these to see if they line up with expected values given the transforms\")\n",
    "print('x_transforms_source', p.x_transforms_source)\n",
    "print('x_transforms_target', p.x_transforms_target)\n",
    "print(\"Average magnitude, source:\", get_average_magnitude(q_x[0].numpy()))\n",
    "print(\"Average power, source:\", get_average_power(q_x[0].numpy()))\n",
    "\n",
    "q_x, q_y, s_x, s_y, truth = next(iter(train_processed_target))\n",
    "print(\"Average magnitude, target:\", get_average_magnitude(q_x[0].numpy()))\n",
    "print(\"Average power, target:\", get_average_power(q_x[0].numpy()))\n"
   ]
  },
  {
   "cell_type": "code",
   "execution_count": 12,
   "id": "bbdacba1",
   "metadata": {
    "execution": {
     "iopub.execute_input": "2022-03-06T00:53:38.879232Z",
     "iopub.status.busy": "2022-03-06T00:53:38.878965Z",
     "iopub.status.idle": "2022-03-06T00:53:38.937250Z",
     "shell.execute_reply": "2022-03-06T00:53:38.937457Z"
    },
    "papermill": {
     "duration": 0.078264,
     "end_time": "2022-03-06T00:53:38.937529",
     "exception": false,
     "start_time": "2022-03-06T00:53:38.859265",
     "status": "completed"
    },
    "tags": []
   },
   "outputs": [
    {
     "name": "stdout",
     "output_type": "stream",
     "text": [
      "(2, 256)\n"
     ]
    }
   ],
   "source": [
    "###################################\n",
    "# Build the model\n",
    "###################################\n",
    "model = Steves_Prototypical_Network(x_net, device=p.device, x_shape=(2,256))\n",
    "optimizer = Adam(params=model.parameters(), lr=p.lr)"
   ]
  },
  {
   "cell_type": "code",
   "execution_count": 13,
   "id": "22b39ac5",
   "metadata": {
    "execution": {
     "iopub.execute_input": "2022-03-06T00:53:38.961907Z",
     "iopub.status.busy": "2022-03-06T00:53:38.960022Z",
     "iopub.status.idle": "2022-03-06T00:54:15.552443Z",
     "shell.execute_reply": "2022-03-06T00:54:15.552174Z"
    },
    "papermill": {
     "duration": 36.604312,
     "end_time": "2022-03-06T00:54:15.552506",
     "exception": false,
     "start_time": "2022-03-06T00:53:38.948194",
     "status": "completed"
    },
    "tags": []
   },
   "outputs": [
    {
     "name": "stdout",
     "output_type": "stream",
     "text": [
      "epoch: 1, [batch: 1 / 84], examples_per_second: 1553.2674, train_label_loss: 4.0604, \n"
     ]
    },
    {
     "name": "stdout",
     "output_type": "stream",
     "text": [
      "epoch: 1, [batch: 9 / 84], examples_per_second: 3692.9271, train_label_loss: 4.0604, \n"
     ]
    },
    {
     "name": "stdout",
     "output_type": "stream",
     "text": [
      "epoch: 1, [batch: 17 / 84], examples_per_second: 3814.7870, train_label_loss: 4.0604, \n"
     ]
    },
    {
     "name": "stdout",
     "output_type": "stream",
     "text": [
      "epoch: 1, [batch: 25 / 84], examples_per_second: 3788.5635, train_label_loss: 4.0604, \n"
     ]
    },
    {
     "name": "stdout",
     "output_type": "stream",
     "text": [
      "epoch: 1, [batch: 34 / 84], examples_per_second: 3810.5933, train_label_loss: 4.0604, \n"
     ]
    },
    {
     "name": "stdout",
     "output_type": "stream",
     "text": [
      "epoch: 1, [batch: 42 / 84], examples_per_second: 3822.3768, train_label_loss: 4.0604, \n"
     ]
    },
    {
     "name": "stdout",
     "output_type": "stream",
     "text": [
      "epoch: 1, [batch: 50 / 84], examples_per_second: 3813.0126, train_label_loss: 4.0604, \n"
     ]
    },
    {
     "name": "stdout",
     "output_type": "stream",
     "text": [
      "epoch: 1, [batch: 59 / 84], examples_per_second: 3773.5646, train_label_loss: 4.0604, \n"
     ]
    },
    {
     "name": "stdout",
     "output_type": "stream",
     "text": [
      "epoch: 1, [batch: 67 / 84], examples_per_second: 3816.9387, train_label_loss: 4.0604, \n"
     ]
    },
    {
     "name": "stdout",
     "output_type": "stream",
     "text": [
      "epoch: 1, [batch: 75 / 84], examples_per_second: 3834.0806, train_label_loss: 4.0604, \n"
     ]
    },
    {
     "name": "stdout",
     "output_type": "stream",
     "text": [
      "=============================================================\n",
      "epoch: 1, source_val_acc_label: 0.0172, target_val_acc_label: 0.0172, source_val_label_loss: 4.0604, target_val_label_loss: 4.0604, \n",
      "=============================================================\n"
     ]
    },
    {
     "name": "stdout",
     "output_type": "stream",
     "text": [
      "New best\n"
     ]
    },
    {
     "name": "stdout",
     "output_type": "stream",
     "text": [
      "epoch: 2, [batch: 1 / 84], examples_per_second: 324.5068, train_label_loss: 4.0604, \n"
     ]
    },
    {
     "name": "stdout",
     "output_type": "stream",
     "text": [
      "epoch: 2, [batch: 9 / 84], examples_per_second: 3833.5927, train_label_loss: 4.0604, \n"
     ]
    },
    {
     "name": "stdout",
     "output_type": "stream",
     "text": [
      "epoch: 2, [batch: 17 / 84], examples_per_second: 3860.5449, train_label_loss: 4.0604, \n"
     ]
    },
    {
     "name": "stdout",
     "output_type": "stream",
     "text": [
      "epoch: 2, [batch: 25 / 84], examples_per_second: 3862.0128, train_label_loss: 4.0604, \n"
     ]
    },
    {
     "name": "stdout",
     "output_type": "stream",
     "text": [
      "epoch: 2, [batch: 34 / 84], examples_per_second: 3889.4694, train_label_loss: 4.0604, \n"
     ]
    },
    {
     "name": "stdout",
     "output_type": "stream",
     "text": [
      "epoch: 2, [batch: 42 / 84], examples_per_second: 3866.0036, train_label_loss: 4.0604, \n"
     ]
    },
    {
     "name": "stdout",
     "output_type": "stream",
     "text": [
      "epoch: 2, [batch: 50 / 84], examples_per_second: 3871.9877, train_label_loss: 4.0604, \n"
     ]
    },
    {
     "name": "stdout",
     "output_type": "stream",
     "text": [
      "epoch: 2, [batch: 59 / 84], examples_per_second: 3889.5081, train_label_loss: 4.0604, \n"
     ]
    },
    {
     "name": "stdout",
     "output_type": "stream",
     "text": [
      "epoch: 2, [batch: 67 / 84], examples_per_second: 3885.0351, train_label_loss: 4.0604, \n"
     ]
    },
    {
     "name": "stdout",
     "output_type": "stream",
     "text": [
      "epoch: 2, [batch: 75 / 84], examples_per_second: 3914.7503, train_label_loss: 4.0604, \n"
     ]
    },
    {
     "name": "stdout",
     "output_type": "stream",
     "text": [
      "=============================================================\n",
      "epoch: 2, source_val_acc_label: 0.0172, target_val_acc_label: 0.0172, source_val_label_loss: 4.0604, target_val_label_loss: 4.0604, \n",
      "=============================================================\n"
     ]
    },
    {
     "name": "stdout",
     "output_type": "stream",
     "text": [
      "epoch: 3, [batch: 1 / 84], examples_per_second: 331.5996, train_label_loss: 4.0604, \n"
     ]
    },
    {
     "name": "stdout",
     "output_type": "stream",
     "text": [
      "epoch: 3, [batch: 9 / 84], examples_per_second: 3832.8648, train_label_loss: 4.0604, \n"
     ]
    },
    {
     "name": "stdout",
     "output_type": "stream",
     "text": [
      "epoch: 3, [batch: 17 / 84], examples_per_second: 3867.9568, train_label_loss: 4.0604, \n"
     ]
    },
    {
     "name": "stdout",
     "output_type": "stream",
     "text": [
      "epoch: 3, [batch: 25 / 84], examples_per_second: 3859.7701, train_label_loss: 4.0604, \n"
     ]
    },
    {
     "name": "stdout",
     "output_type": "stream",
     "text": [
      "epoch: 3, [batch: 34 / 84], examples_per_second: 3893.1890, train_label_loss: 4.0604, \n"
     ]
    },
    {
     "name": "stdout",
     "output_type": "stream",
     "text": [
      "epoch: 3, [batch: 42 / 84], examples_per_second: 3888.4303, train_label_loss: 4.0604, \n"
     ]
    },
    {
     "name": "stdout",
     "output_type": "stream",
     "text": [
      "epoch: 3, [batch: 50 / 84], examples_per_second: 3869.2749, train_label_loss: 4.0604, \n"
     ]
    },
    {
     "name": "stdout",
     "output_type": "stream",
     "text": [
      "epoch: 3, [batch: 59 / 84], examples_per_second: 3897.7967, train_label_loss: 4.0604, \n"
     ]
    },
    {
     "name": "stdout",
     "output_type": "stream",
     "text": [
      "epoch: 3, [batch: 67 / 84], examples_per_second: 3893.9885, train_label_loss: 4.0604, \n"
     ]
    },
    {
     "name": "stdout",
     "output_type": "stream",
     "text": [
      "epoch: 3, [batch: 75 / 84], examples_per_second: 3909.6181, train_label_loss: 4.0604, \n"
     ]
    },
    {
     "name": "stdout",
     "output_type": "stream",
     "text": [
      "=============================================================\n",
      "epoch: 3, source_val_acc_label: 0.0172, target_val_acc_label: 0.0172, source_val_label_loss: 4.0604, target_val_label_loss: 4.0604, \n",
      "=============================================================\n"
     ]
    },
    {
     "name": "stdout",
     "output_type": "stream",
     "text": [
      "epoch: 4, [batch: 1 / 84], examples_per_second: 333.9376, train_label_loss: 4.0604, \n"
     ]
    },
    {
     "name": "stdout",
     "output_type": "stream",
     "text": [
      "epoch: 4, [batch: 9 / 84], examples_per_second: 3846.8292, train_label_loss: 4.0604, \n"
     ]
    },
    {
     "name": "stdout",
     "output_type": "stream",
     "text": [
      "epoch: 4, [batch: 17 / 84], examples_per_second: 3877.1297, train_label_loss: 4.0604, \n"
     ]
    },
    {
     "name": "stdout",
     "output_type": "stream",
     "text": [
      "epoch: 4, [batch: 25 / 84], examples_per_second: 3872.2682, train_label_loss: 4.0604, \n"
     ]
    },
    {
     "name": "stdout",
     "output_type": "stream",
     "text": [
      "epoch: 4, [batch: 34 / 84], examples_per_second: 3891.9170, train_label_loss: 4.0604, \n"
     ]
    },
    {
     "name": "stdout",
     "output_type": "stream",
     "text": [
      "epoch: 4, [batch: 42 / 84], examples_per_second: 3889.0971, train_label_loss: 4.0604, \n"
     ]
    },
    {
     "name": "stdout",
     "output_type": "stream",
     "text": [
      "epoch: 4, [batch: 50 / 84], examples_per_second: 3882.7346, train_label_loss: 4.0604, \n"
     ]
    },
    {
     "name": "stdout",
     "output_type": "stream",
     "text": [
      "epoch: 4, [batch: 59 / 84], examples_per_second: 3892.5549, train_label_loss: 4.0604, \n"
     ]
    },
    {
     "name": "stdout",
     "output_type": "stream",
     "text": [
      "epoch: 4, [batch: 67 / 84], examples_per_second: 3899.7158, train_label_loss: 4.0604, \n"
     ]
    },
    {
     "name": "stdout",
     "output_type": "stream",
     "text": [
      "epoch: 4, [batch: 75 / 84], examples_per_second: 3913.4436, train_label_loss: 4.0604, \n"
     ]
    },
    {
     "name": "stdout",
     "output_type": "stream",
     "text": [
      "=============================================================\n",
      "epoch: 4, source_val_acc_label: 0.0172, target_val_acc_label: 0.0172, source_val_label_loss: 4.0604, target_val_label_loss: 4.0604, \n",
      "=============================================================\n"
     ]
    },
    {
     "name": "stdout",
     "output_type": "stream",
     "text": [
      "epoch: 5, [batch: 1 / 84], examples_per_second: 329.8462, train_label_loss: 4.0604, \n"
     ]
    },
    {
     "name": "stdout",
     "output_type": "stream",
     "text": [
      "epoch: 5, [batch: 9 / 84], examples_per_second: 3843.1510, train_label_loss: 4.0604, \n"
     ]
    },
    {
     "name": "stdout",
     "output_type": "stream",
     "text": [
      "epoch: 5, [batch: 17 / 84], examples_per_second: 3869.9243, train_label_loss: 4.0604, \n"
     ]
    },
    {
     "name": "stdout",
     "output_type": "stream",
     "text": [
      "epoch: 5, [batch: 25 / 84], examples_per_second: 3861.9744, train_label_loss: 4.0604, \n"
     ]
    },
    {
     "name": "stdout",
     "output_type": "stream",
     "text": [
      "epoch: 5, [batch: 34 / 84], examples_per_second: 3887.3480, train_label_loss: 4.0604, \n"
     ]
    },
    {
     "name": "stdout",
     "output_type": "stream",
     "text": [
      "epoch: 5, [batch: 42 / 84], examples_per_second: 3894.8146, train_label_loss: 4.0604, \n"
     ]
    },
    {
     "name": "stdout",
     "output_type": "stream",
     "text": [
      "epoch: 5, [batch: 50 / 84], examples_per_second: 3884.0178, train_label_loss: 4.0604, \n"
     ]
    },
    {
     "name": "stdout",
     "output_type": "stream",
     "text": [
      "epoch: 5, [batch: 59 / 84], examples_per_second: 3888.9333, train_label_loss: 4.0604, \n"
     ]
    },
    {
     "name": "stdout",
     "output_type": "stream",
     "text": [
      "epoch: 5, [batch: 67 / 84], examples_per_second: 3891.6961, train_label_loss: 4.0604, \n"
     ]
    },
    {
     "name": "stdout",
     "output_type": "stream",
     "text": [
      "epoch: 5, [batch: 75 / 84], examples_per_second: 3919.4792, train_label_loss: 4.0604, \n"
     ]
    },
    {
     "name": "stdout",
     "output_type": "stream",
     "text": [
      "=============================================================\n",
      "epoch: 5, source_val_acc_label: 0.0172, target_val_acc_label: 0.0172, source_val_label_loss: 4.0604, target_val_label_loss: 4.0604, \n",
      "=============================================================\n"
     ]
    },
    {
     "name": "stdout",
     "output_type": "stream",
     "text": [
      "Patience (3) exhausted\n"
     ]
    }
   ],
   "source": [
    "###################################\n",
    "# train\n",
    "###################################\n",
    "jig = PTN_Train_Eval_Test_Jig(model, p.BEST_MODEL_PATH, p.device)\n",
    "\n",
    "jig.train(\n",
    "    train_iterable=datasets.source.processed.train,\n",
    "    source_val_iterable=datasets.source.processed.val,\n",
    "    target_val_iterable=datasets.target.processed.val,\n",
    "    num_epochs=p.n_epoch,\n",
    "    num_logs_per_epoch=p.NUM_LOGS_PER_EPOCH,\n",
    "    patience=p.patience,\n",
    "    optimizer=optimizer,\n",
    "    criteria_for_best=p.criteria_for_best,\n",
    ")"
   ]
  },
  {
   "cell_type": "code",
   "execution_count": 14,
   "id": "31e8fabf",
   "metadata": {
    "execution": {
     "iopub.execute_input": "2022-03-06T00:54:15.596985Z",
     "iopub.status.busy": "2022-03-06T00:54:15.596723Z",
     "iopub.status.idle": "2022-03-06T00:54:15.608964Z",
     "shell.execute_reply": "2022-03-06T00:54:15.609353Z"
    },
    "papermill": {
     "duration": 0.036184,
     "end_time": "2022-03-06T00:54:15.609486",
     "exception": false,
     "start_time": "2022-03-06T00:54:15.573302",
     "status": "completed"
    },
    "tags": []
   },
   "outputs": [],
   "source": [
    "total_experiment_time_secs = time.time() - start_time_secs"
   ]
  },
  {
   "cell_type": "code",
   "execution_count": 15,
   "id": "87b9595b",
   "metadata": {
    "execution": {
     "iopub.execute_input": "2022-03-06T00:54:15.659645Z",
     "iopub.status.busy": "2022-03-06T00:54:15.659372Z",
     "iopub.status.idle": "2022-03-06T00:54:20.328969Z",
     "shell.execute_reply": "2022-03-06T00:54:20.328534Z"
    },
    "papermill": {
     "duration": 4.695765,
     "end_time": "2022-03-06T00:54:20.329075",
     "exception": false,
     "start_time": "2022-03-06T00:54:15.633310",
     "status": "completed"
    },
    "tags": []
   },
   "outputs": [],
   "source": [
    "###################################\n",
    "# Evaluate the model\n",
    "###################################\n",
    "source_test_label_accuracy, source_test_label_loss = jig.test(datasets.source.processed.test)\n",
    "target_test_label_accuracy, target_test_label_loss = jig.test(datasets.target.processed.test)\n",
    "\n",
    "source_val_label_accuracy, source_val_label_loss = jig.test(datasets.source.processed.val)\n",
    "target_val_label_accuracy, target_val_label_loss = jig.test(datasets.target.processed.val)\n",
    "\n",
    "history = jig.get_history()\n",
    "\n",
    "total_epochs_trained = len(history[\"epoch_indices\"])\n",
    "\n",
    "val_dl = Iterable_Aggregator((datasets.source.original.val,datasets.target.original.val))\n",
    "\n",
    "confusion = ptn_confusion_by_domain_over_dataloader(model, p.device, val_dl)\n",
    "per_domain_accuracy = per_domain_accuracy_from_confusion(confusion)\n",
    "\n",
    "# Add a key to per_domain_accuracy for if it was a source domain\n",
    "for domain, accuracy in per_domain_accuracy.items():\n",
    "    per_domain_accuracy[domain] = {\n",
    "        \"accuracy\": accuracy,\n",
    "        \"source?\": domain in p.domains_source\n",
    "    }\n",
    "\n",
    "# Do an independent accuracy assesment JUST TO BE SURE!\n",
    "# _source_test_label_accuracy = independent_accuracy_assesment(model, datasets.source.processed.test, p.device)\n",
    "# _target_test_label_accuracy = independent_accuracy_assesment(model, datasets.target.processed.test, p.device)\n",
    "# _source_val_label_accuracy = independent_accuracy_assesment(model, datasets.source.processed.val, p.device)\n",
    "# _target_val_label_accuracy = independent_accuracy_assesment(model, datasets.target.processed.val, p.device)\n",
    "\n",
    "# assert(_source_test_label_accuracy == source_test_label_accuracy)\n",
    "# assert(_target_test_label_accuracy == target_test_label_accuracy)\n",
    "# assert(_source_val_label_accuracy == source_val_label_accuracy)\n",
    "# assert(_target_val_label_accuracy == target_val_label_accuracy)\n",
    "\n",
    "experiment = {\n",
    "    \"experiment_name\": p.experiment_name,\n",
    "    \"parameters\": dict(p),\n",
    "    \"results\": {\n",
    "        \"source_test_label_accuracy\": source_test_label_accuracy,\n",
    "        \"source_test_label_loss\": source_test_label_loss,\n",
    "        \"target_test_label_accuracy\": target_test_label_accuracy,\n",
    "        \"target_test_label_loss\": target_test_label_loss,\n",
    "        \"source_val_label_accuracy\": source_val_label_accuracy,\n",
    "        \"source_val_label_loss\": source_val_label_loss,\n",
    "        \"target_val_label_accuracy\": target_val_label_accuracy,\n",
    "        \"target_val_label_loss\": target_val_label_loss,\n",
    "        \"total_epochs_trained\": total_epochs_trained,\n",
    "        \"total_experiment_time_secs\": total_experiment_time_secs,\n",
    "        \"confusion\": confusion,\n",
    "        \"per_domain_accuracy\": per_domain_accuracy,\n",
    "    },\n",
    "    \"history\": history,\n",
    "    \"dataset_metrics\": get_dataset_metrics(datasets, \"ptn\"),\n",
    "}"
   ]
  },
  {
   "cell_type": "code",
   "execution_count": 16,
   "id": "54a21829",
   "metadata": {
    "execution": {
     "iopub.execute_input": "2022-03-06T00:54:20.376830Z",
     "iopub.status.busy": "2022-03-06T00:54:20.375995Z",
     "iopub.status.idle": "2022-03-06T00:54:20.562534Z",
     "shell.execute_reply": "2022-03-06T00:54:20.562064Z"
    },
    "papermill": {
     "duration": 0.208817,
     "end_time": "2022-03-06T00:54:20.562633",
     "exception": false,
     "start_time": "2022-03-06T00:54:20.353816",
     "status": "completed"
    },
    "tags": []
   },
   "outputs": [
    {
     "data": {
      "image/png": "[encoded data removed]",
      "text/plain": [
       "<Figure size 1080x504 with 1 Axes>"
      ]
     },
     "metadata": {
      "needs_background": "light"
     },
     "output_type": "display_data"
    }
   ],
   "source": [
    "ax = get_loss_curve(experiment)\n",
    "plt.show()"
   ]
  },
  {
   "cell_type": "code",
   "execution_count": 17,
   "id": "fd8a0f60",
   "metadata": {
    "execution": {
     "iopub.execute_input": "2022-03-06T00:54:20.617401Z",
     "iopub.status.busy": "2022-03-06T00:54:20.613047Z",
     "iopub.status.idle": "2022-03-06T00:54:20.790933Z",
     "shell.execute_reply": "2022-03-06T00:54:20.791353Z"
    },
    "papermill": {
     "duration": 0.203153,
     "end_time": "2022-03-06T00:54:20.791483",
     "exception": false,
     "start_time": "2022-03-06T00:54:20.588330",
     "status": "completed"
    },
    "tags": []
   },
   "outputs": [
    {
     "data": {
      "text/plain": [
       "<matplotlib.axes._subplots.AxesSubplot at 0x7fcfbc54ba00>"
      ]
     },
     "execution_count": 17,
     "metadata": {},
     "output_type": "execute_result"
    },
    {
     "data": {
      "image/png": "[encoded data removed]",
      "text/plain": [
       "<Figure size 1080x504 with 1 Axes>"
      ]
     },
     "metadata": {
      "needs_background": "light"
     },
     "output_type": "display_data"
    }
   ],
   "source": [
    "get_results_table(experiment)"
   ]
  },
  {
   "cell_type": "code",
   "execution_count": 18,
   "id": "cf8dc689",
   "metadata": {
    "execution": {
     "iopub.execute_input": "2022-03-06T00:54:20.844170Z",
     "iopub.status.busy": "2022-03-06T00:54:20.843913Z",
     "iopub.status.idle": "2022-03-06T00:54:21.065610Z",
     "shell.execute_reply": "2022-03-06T00:54:21.065994Z"
    },
    "papermill": {
     "duration": 0.247279,
     "end_time": "2022-03-06T00:54:21.066119",
     "exception": false,
     "start_time": "2022-03-06T00:54:20.818840",
     "status": "completed"
    },
    "tags": []
   },
   "outputs": [
    {
     "data": {
      "text/plain": [
       "<matplotlib.axes._subplots.AxesSubplot at 0x7fcfbc1cec40>"
      ]
     },
     "execution_count": 18,
     "metadata": {},
     "output_type": "execute_result"
    },
    {
     "data": {
      "image/png": "[encoded data removed]",
      "text/plain": [
       "<Figure size 1080x504 with 1 Axes>"
      ]
     },
     "metadata": {
      "needs_background": "light"
     },
     "output_type": "display_data"
    }
   ],
   "source": [
    "get_domain_accuracies(experiment)"
   ]
  },
  {
   "cell_type": "code",
   "execution_count": 19,
   "id": "a74ae082",
   "metadata": {
    "execution": {
     "iopub.execute_input": "2022-03-06T00:54:21.121936Z",
     "iopub.status.busy": "2022-03-06T00:54:21.121670Z",
     "iopub.status.idle": "2022-03-06T00:54:21.135990Z",
     "shell.execute_reply": "2022-03-06T00:54:21.136402Z"
    },
    "papermill": {
     "duration": 0.040683,
     "end_time": "2022-03-06T00:54:21.136519",
     "exception": false,
     "start_time": "2022-03-06T00:54:21.095836",
     "status": "completed"
    },
    "tags": []
   },
   "outputs": [
    {
     "name": "stdout",
     "output_type": "stream",
     "text": [
      "Source Test Label Accuracy: 0.017241379310344827 Target Test Label Accuracy: 0.017241379310344827\n",
      "Source Val Label Accuracy: 0.017241379310344827 Target Val Label Accuracy: 0.017241379310344827\n"
     ]
    }
   ],
   "source": [
    "print(\"Source Test Label Accuracy:\", experiment[\"results\"][\"source_test_label_accuracy\"], \"Target Test Label Accuracy:\", experiment[\"results\"][\"target_test_label_accuracy\"])\n",
    "print(\"Source Val Label Accuracy:\", experiment[\"results\"][\"source_val_label_accuracy\"], \"Target Val Label Accuracy:\", experiment[\"results\"][\"target_val_label_accuracy\"])"
   ]
  },
  {
   "cell_type": "code",
   "execution_count": 20,
   "id": "dacca602",
   "metadata": {
    "execution": {
     "iopub.execute_input": "2022-03-06T00:54:21.196544Z",
     "iopub.status.busy": "2022-03-06T00:54:21.196283Z",
     "iopub.status.idle": "2022-03-06T00:54:21.204542Z",
     "shell.execute_reply": "2022-03-06T00:54:21.204023Z"
    },
    "papermill": {
     "duration": 0.038053,
     "end_time": "2022-03-06T00:54:21.204645",
     "exception": false,
     "start_time": "2022-03-06T00:54:21.166592",
     "status": "completed"
    },
    "tags": [
     "experiment_json"
    ]
   },
   "outputs": [
    {
     "data": {
      "text/plain": [
       "'{\"experiment_name\": \"tuned_1_cores\", \"parameters\": {\"experiment_name\": \"tuned_1_cores\", \"device\": \"cuda\", \"lr\": 0.001, \"seed\": 1337, \"dataset_seed\": 1337, \"labels_source\": [\"1-10.\", \"1-11.\", \"1-15.\", \"1-16.\", \"1-17.\", \"1-18.\", \"1-19.\", \"10-4.\", \"10-7.\", \"11-1.\", \"11-14.\", \"11-17.\", \"11-20.\", \"11-7.\", \"13-20.\", \"13-8.\", \"14-10.\", \"14-11.\", \"14-14.\", \"14-7.\", \"15-1.\", \"15-20.\", \"16-1.\", \"16-16.\", \"17-10.\", \"17-11.\", \"17-2.\", \"19-1.\", \"19-16.\", \"19-19.\", \"19-20.\", \"19-3.\", \"2-10.\", \"2-11.\", \"2-17.\", \"2-18.\", \"2-20.\", \"2-3.\", \"2-4.\", \"2-5.\", \"2-6.\", \"2-7.\", \"2-8.\", \"3-13.\", \"3-18.\", \"3-3.\", \"4-1.\", \"4-10.\", \"4-11.\", \"4-19.\", \"5-5.\", \"6-15.\", \"7-10.\", \"7-14.\", \"8-18.\", \"8-20.\", \"8-3.\", \"8-8.\"], \"labels_target\": [\"1-10.\", \"1-11.\", \"1-15.\", \"1-16.\", \"1-17.\", \"1-18.\", \"1-19.\", \"10-4.\", \"10-7.\", \"11-1.\", \"11-14.\", \"11-17.\", \"11-20.\", \"11-7.\", \"13-20.\", \"13-8.\", \"14-10.\", \"14-11.\", \"14-14.\", \"14-7.\", \"15-1.\", \"15-20.\", \"16-1.\", \"16-16.\", \"17-10.\", \"17-11.\", \"17-2.\", \"19-1.\", \"19-16.\", \"19-19.\", \"19-20.\", \"19-3.\", \"2-10.\", \"2-11.\", \"2-17.\", \"2-18.\", \"2-20.\", \"2-3.\", \"2-4.\", \"2-5.\", \"2-6.\", \"2-7.\", \"2-8.\", \"3-13.\", \"3-18.\", \"3-3.\", \"4-1.\", \"4-10.\", \"4-11.\", \"4-19.\", \"5-5.\", \"6-15.\", \"7-10.\", \"7-14.\", \"8-18.\", \"8-20.\", \"8-3.\", \"8-8.\"], \"episode_transforms_source\": [], \"episode_transforms_target\": [], \"domains_source\": [1, 5], \"domains_target\": [2, 3, 4], \"num_examples_per_domain_per_label_source\": 100, \"num_examples_per_domain_per_label_target\": 100, \"n_shot\": 3, \"n_way\": 58, \"n_query\": 2, \"train_k_factor\": 3, \"val_k_factor\": 2, \"test_k_factor\": 2, \"torch_default_dtype\": \"torch.float32\", \"n_epoch\": 50, \"patience\": 3, \"criteria_for_best\": \"target_loss\", \"x_net\": [{\"class\": \"nnReshape\", \"kargs\": {\"shape\": [-1, 1, 2, 256]}}, {\"class\": \"Conv2d\", \"kargs\": {\"in_channels\": 1, \"out_channels\": 256, \"kernel_size\": [1, 7], \"bias\": false, \"padding\": [0, 3]}}, {\"class\": \"ReLU\", \"kargs\": {\"inplace\": true}}, {\"class\": \"BatchNorm2d\", \"kargs\": {\"num_features\": 256}}, {\"class\": \"Conv2d\", \"kargs\": {\"in_channels\": 256, \"out_channels\": 80, \"kernel_size\": [2, 7], \"bias\": true, \"padding\": [0, 3]}}, {\"class\": \"ReLU\", \"kargs\": {\"inplace\": true}}, {\"class\": \"BatchNorm2d\", \"kargs\": {\"num_features\": 80}}, {\"class\": \"Flatten\", \"kargs\": {}}, {\"class\": \"Linear\", \"kargs\": {\"in_features\": 20480, \"out_features\": 256}}, {\"class\": \"ReLU\", \"kargs\": {\"inplace\": true}}, {\"class\": \"BatchNorm1d\", \"kargs\": {\"num_features\": 256}}, {\"class\": \"Linear\", \"kargs\": {\"in_features\": 256, \"out_features\": 256}}], \"NUM_LOGS_PER_EPOCH\": 10, \"BEST_MODEL_PATH\": \"./best_model.pth\", \"pickle_name\": \"cores.stratified_ds.2022A.pkl\", \"x_transforms_source\": [\"times_zero\"], \"x_transforms_target\": [\"times_zero\"]}, \"results\": {\"source_test_label_accuracy\": 0.017241379310344827, \"source_test_label_loss\": 4.060443878173828, \"target_test_label_accuracy\": 0.017241379310344827, \"target_test_label_loss\": 4.060442924499512, \"source_val_label_accuracy\": 0.017241379310344827, \"source_val_label_loss\": 4.060443878173828, \"target_val_label_accuracy\": 0.017241379310344827, \"target_val_label_loss\": 4.060442924499512, \"total_epochs_trained\": 5, \"total_experiment_time_secs\": 39.403512716293335, \"confusion\": {\"5\": {\"1\": {\"0\": 12}, \"28\": {\"0\": 12}, \"21\": {\"0\": 12}, \"27\": {\"0\": 12}, \"20\": {\"0\": 12}, \"16\": {\"0\": 12}, \"48\": {\"0\": 12}, \"42\": {\"0\": 12}, \"45\": {\"0\": 12}, \"41\": {\"0\": 12}, \"13\": {\"0\": 12}, \"50\": {\"0\": 12}, \"32\": {\"0\": 12}, \"51\": {\"0\": 12}, \"30\": {\"0\": 12}, \"38\": {\"0\": 12}, \"7\": {\"0\": 12}, \"22\": {\"0\": 12}, \"37\": {\"0\": 12}, \"33\": {\"0\": 12}, \"6\": {\"0\": 12}, \"14\": {\"0\": 12}, \"40\": {\"0\": 12}, \"55\": {\"0\": 12}, \"2\": {\"0\": 12}, \"39\": {\"0\": 12}, \"56\": {\"0\": 12}, \"17\": {\"0\": 12}, \"10\": {\"0\": 12}, \"9\": {\"0\": 12}, \"31\": {\"0\": 12}, \"12\": {\"0\": 12}, \"25\": {\"0\": 12}, \"0\": {\"0\": 12}, \"47\": {\"0\": 12}, \"44\": {\"0\": 12}, \"23\": {\"0\": 12}, \"15\": {\"0\": 12}, \"8\": {\"0\": 12}, \"54\": {\"0\": 12}, \"52\": {\"0\": 12}, \"29\": {\"0\": 12}, \"5\": {\"0\": 12}, \"34\": {\"0\": 12}, \"35\": {\"0\": 12}, \"26\": {\"0\": 12}, \"57\": {\"0\": 12}, \"53\": {\"0\": 12}, \"36\": {\"0\": 12}, \"18\": {\"0\": 12}, \"49\": {\"0\": 12}, \"3\": {\"0\": 12}, \"4\": {\"0\": 12}, \"24\": {\"0\": 12}, \"11\": {\"0\": 12}, \"19\": {\"0\": 12}, \"43\": {\"0\": 12}, \"46\": {\"0\": 12}}, \"1\": {\"27\": {\"0\": 12}, \"50\": {\"0\": 12}, \"16\": {\"0\": 12}, \"12\": {\"0\": 12}, \"55\": {\"0\": 12}, \"39\": {\"0\": 12}, \"48\": {\"0\": 12}, \"33\": {\"0\": 12}, \"51\": {\"0\": 12}, \"9\": {\"0\": 12}, \"53\": {\"0\": 12}, \"46\": {\"0\": 12}, \"23\": {\"0\": 12}, \"22\": {\"0\": 12}, \"38\": {\"0\": 12}, \"14\": {\"0\": 12}, \"32\": {\"0\": 12}, \"19\": {\"0\": 12}, \"35\": {\"0\": 12}, \"57\": {\"0\": 12}, \"30\": {\"0\": 12}, \"56\": {\"0\": 12}, \"42\": {\"0\": 12}, \"0\": {\"0\": 12}, \"31\": {\"0\": 12}, \"52\": {\"0\": 12}, \"21\": {\"0\": 12}, \"17\": {\"0\": 12}, \"8\": {\"0\": 12}, \"4\": {\"0\": 12}, \"34\": {\"0\": 12}, \"5\": {\"0\": 12}, \"2\": {\"0\": 12}, \"45\": {\"0\": 12}, \"28\": {\"0\": 12}, \"10\": {\"0\": 12}, \"3\": {\"0\": 12}, \"41\": {\"0\": 12}, \"18\": {\"0\": 12}, \"24\": {\"0\": 12}, \"47\": {\"0\": 12}, \"6\": {\"0\": 12}, \"43\": {\"0\": 12}, \"26\": {\"0\": 12}, \"49\": {\"0\": 12}, \"54\": {\"0\": 12}, \"11\": {\"0\": 12}, \"15\": {\"0\": 12}, \"44\": {\"0\": 12}, \"20\": {\"0\": 12}, \"1\": {\"0\": 12}, \"36\": {\"0\": 12}, \"25\": {\"0\": 12}, \"7\": {\"0\": 12}, \"40\": {\"0\": 12}, \"13\": {\"0\": 12}, \"29\": {\"0\": 12}, \"37\": {\"0\": 12}}, \"3\": {\"1\": {\"0\": 12}, \"28\": {\"0\": 12}, \"21\": {\"0\": 12}, \"27\": {\"0\": 12}, \"20\": {\"0\": 12}, \"16\": {\"0\": 12}, \"48\": {\"0\": 12}, \"42\": {\"0\": 12}, \"45\": {\"0\": 12}, \"41\": {\"0\": 12}, \"13\": {\"0\": 12}, \"50\": {\"0\": 12}, \"32\": {\"0\": 12}, \"51\": {\"0\": 12}, \"30\": {\"0\": 12}, \"38\": {\"0\": 12}, \"7\": {\"0\": 12}, \"22\": {\"0\": 12}, \"37\": {\"0\": 12}, \"33\": {\"0\": 12}, \"6\": {\"0\": 12}, \"14\": {\"0\": 12}, \"40\": {\"0\": 12}, \"55\": {\"0\": 12}, \"2\": {\"0\": 12}, \"39\": {\"0\": 12}, \"56\": {\"0\": 12}, \"17\": {\"0\": 12}, \"10\": {\"0\": 12}, \"9\": {\"0\": 12}, \"31\": {\"0\": 12}, \"12\": {\"0\": 12}, \"25\": {\"0\": 12}, \"0\": {\"0\": 12}, \"47\": {\"0\": 12}, \"44\": {\"0\": 12}, \"23\": {\"0\": 12}, \"15\": {\"0\": 12}, \"8\": {\"0\": 12}, \"54\": {\"0\": 12}, \"52\": {\"0\": 12}, \"29\": {\"0\": 12}, \"5\": {\"0\": 12}, \"34\": {\"0\": 12}, \"35\": {\"0\": 12}, \"26\": {\"0\": 12}, \"57\": {\"0\": 12}, \"53\": {\"0\": 12}, \"36\": {\"0\": 12}, \"18\": {\"0\": 12}, \"49\": {\"0\": 12}, \"3\": {\"0\": 12}, \"4\": {\"0\": 12}, \"24\": {\"0\": 12}, \"11\": {\"0\": 12}, \"19\": {\"0\": 12}, \"43\": {\"0\": 12}, \"46\": {\"0\": 12}}, \"4\": {\"9\": {\"0\": 12}, \"4\": {\"0\": 12}, \"20\": {\"0\": 12}, \"26\": {\"0\": 12}, \"19\": {\"0\": 12}, \"35\": {\"0\": 12}, \"14\": {\"0\": 12}, \"10\": {\"0\": 12}, \"1\": {\"0\": 12}, \"3\": {\"0\": 12}, \"29\": {\"0\": 12}, \"47\": {\"0\": 12}, \"50\": {\"0\": 12}, \"51\": {\"0\": 12}, \"55\": {\"0\": 12}, \"27\": {\"0\": 12}, \"31\": {\"0\": 12}, \"30\": {\"0\": 12}, \"37\": {\"0\": 12}, \"36\": {\"0\": 12}, \"48\": {\"0\": 12}, \"46\": {\"0\": 12}, \"25\": {\"0\": 12}, \"53\": {\"0\": 12}, \"0\": {\"0\": 12}, \"8\": {\"0\": 12}, \"15\": {\"0\": 12}, \"22\": {\"0\": 12}, \"45\": {\"0\": 12}, \"43\": {\"0\": 12}, \"12\": {\"0\": 12}, \"24\": {\"0\": 12}, \"11\": {\"0\": 12}, \"44\": {\"0\": 12}, \"5\": {\"0\": 12}, \"6\": {\"0\": 12}, \"49\": {\"0\": 12}, \"2\": {\"0\": 12}, \"18\": {\"0\": 12}, \"54\": {\"0\": 12}, \"41\": {\"0\": 12}, \"38\": {\"0\": 12}, \"34\": {\"0\": 12}, \"21\": {\"0\": 12}, \"57\": {\"0\": 12}, \"33\": {\"0\": 12}, \"17\": {\"0\": 12}, \"40\": {\"0\": 12}, \"28\": {\"0\": 12}, \"16\": {\"0\": 12}, \"56\": {\"0\": 12}, \"39\": {\"0\": 12}, \"13\": {\"0\": 12}, \"23\": {\"0\": 12}, \"7\": {\"0\": 12}, \"52\": {\"0\": 12}, \"42\": {\"0\": 12}, \"32\": {\"0\": 12}}, \"2\": {\"28\": {\"0\": 12}, \"52\": {\"0\": 12}, \"34\": {\"0\": 12}, \"29\": {\"0\": 12}, \"17\": {\"0\": 12}, \"26\": {\"0\": 12}, \"9\": {\"0\": 12}, \"0\": {\"0\": 12}, \"25\": {\"0\": 12}, \"42\": {\"0\": 12}, \"11\": {\"0\": 12}, \"46\": {\"0\": 12}, \"33\": {\"0\": 12}, \"27\": {\"0\": 12}, \"47\": {\"0\": 12}, \"39\": {\"0\": 12}, \"5\": {\"0\": 12}, \"16\": {\"0\": 12}, \"23\": {\"0\": 12}, \"12\": {\"0\": 12}, \"7\": {\"0\": 12}, \"31\": {\"0\": 12}, \"21\": {\"0\": 12}, \"8\": {\"0\": 12}, \"13\": {\"0\": 12}, \"38\": {\"0\": 12}, \"30\": {\"0\": 12}, \"4\": {\"0\": 12}, \"53\": {\"0\": 12}, \"24\": {\"0\": 12}, \"14\": {\"0\": 12}, \"2\": {\"0\": 12}, \"44\": {\"0\": 12}, \"51\": {\"0\": 12}, \"40\": {\"0\": 12}, \"48\": {\"0\": 12}, \"6\": {\"0\": 12}, \"54\": {\"0\": 12}, \"22\": {\"0\": 12}, \"3\": {\"0\": 12}, \"15\": {\"0\": 12}, \"56\": {\"0\": 12}, \"57\": {\"0\": 12}, \"50\": {\"0\": 12}, \"37\": {\"0\": 12}, \"1\": {\"0\": 12}, \"55\": {\"0\": 12}, \"35\": {\"0\": 12}, \"36\": {\"0\": 12}, \"10\": {\"0\": 12}, \"45\": {\"0\": 12}, \"43\": {\"0\": 12}, \"19\": {\"0\": 12}, \"32\": {\"0\": 12}, \"18\": {\"0\": 12}, \"49\": {\"0\": 12}, \"20\": {\"0\": 12}, \"41\": {\"0\": 12}}}, \"per_domain_accuracy\": {\"5\": {\"accuracy\": 0.017241379310344827, \"source?\": true}, \"1\": {\"accuracy\": 0.017241379310344827, \"source?\": true}, \"3\": {\"accuracy\": 0.017241379310344827, \"source?\": false}, \"4\": {\"accuracy\": 0.017241379310344827, \"source?\": false}, \"2\": {\"accuracy\": 0.017241379310344827, \"source?\": false}}}, \"history\": {\"epoch_indices\": [1, 2, 3, 4, 5], \"train_label_loss\": [4.06044340133667, 4.06044340133667, 4.06044340133667, 4.06044340133667, 4.06044340133667], \"source_val_label_loss\": [4.060443878173828, 4.060443878173828, 4.060443878173828, 4.060443878173828, 4.060443878173828], \"target_val_label_loss\": [4.060442924499512, 4.060442924499512, 4.060442924499512, 4.060442924499512, 4.060442924499512], \"source_val_acc_label\": [0.017241379310344827, 0.017241379310344827, 0.017241379310344827, 0.017241379310344827, 0.017241379310344827], \"target_val_acc_label\": [0.017241379310344827, 0.017241379310344827, 0.017241379310344827, 0.017241379310344827, 0.017241379310344827]}, \"dataset_metrics\": {\"source\": {\"train\": {\"n_unique_x\": 8120, \"n_unique_y\": 58, \"n_batch/episode\": 84}, \"val\": {\"n_unique_x\": 1740, \"n_unique_y\": 58, \"n_batch/episode\": 12}, \"test\": {\"n_unique_x\": 1740, \"n_unique_y\": 58, \"n_batch/episode\": 12}}, \"target\": {\"train\": {\"n_unique_x\": 12178, \"n_unique_y\": 58, \"n_batch/episode\": 126}, \"val\": {\"n_unique_x\": 2610, \"n_unique_y\": 58, \"n_batch/episode\": 18}, \"test\": {\"n_unique_x\": 2610, \"n_unique_y\": 58, \"n_batch/episode\": 18}}}}'"
      ]
     },
     "execution_count": 20,
     "metadata": {},
     "output_type": "execute_result"
    }
   ],
   "source": [
    "json.dumps(experiment)"
   ]
  }
 ],
 "metadata": {
  "celltoolbar": "Tags",
  "kernelspec": {
   "display_name": "Python 3 (ipykernel)",
   "language": "python",
   "name": "python3"
  },
  "language_info": {
   "codemirror_mode": {
    "name": "ipython",
    "version": 3
   },
   "file_extension": ".py",
   "mimetype": "text/x-python",
   "name": "python",
   "nbconvert_exporter": "python",
   "pygments_lexer": "ipython3",
   "version": "3.8.10"
  },
  "papermill": {
   "default_parameters": {},
   "duration": 47.251814,
   "end_time": "2022-03-06T00:54:21.736594",
   "environment_variables": {},
   "exception": null,
   "input_path": "/mnt/wd500GB/CSC500/csc500-main/csc500-notebooks/templates/ptn_template.ipynb",
   "output_path": "trial.ipynb",
   "parameters": {
    "parameters": {
     "BEST_MODEL_PATH": "./best_model.pth",
     "NUM_LOGS_PER_EPOCH": 10,
     "criteria_for_best": "target_loss",
     "dataset_seed": 1337,
     "device": "cuda",
     "domains_source": [
      1,
      5
     ],
     "domains_target": [
      2,
      3,
      4
     ],
     "episode_transforms_source": [],
     "episode_transforms_target": [],
     "experiment_name": "tuned_1_cores",
     "labels_source": [
      "1-10.",
      "1-11.",
      "1-15.",
      "1-16.",
      "1-17.",
      "1-18.",
      "1-19.",
      "10-4.",
      "10-7.",
      "11-1.",
      "11-14.",
      "11-17.",
      "11-20.",
      "11-7.",
      "13-20.",
      "13-8.",
      "14-10.",
      "14-11.",
      "14-14.",
      "14-7.",
      "15-1.",
      "15-20.",
      "16-1.",
      "16-16.",
      "17-10.",
      "17-11.",
      "17-2.",
      "19-1.",
      "19-16.",
      "19-19.",
      "19-20.",
      "19-3.",
      "2-10.",
      "2-11.",
      "2-17.",
      "2-18.",
      "2-20.",
      "2-3.",
      "2-4.",
      "2-5.",
      "2-6.",
      "2-7.",
      "2-8.",
      "3-13.",
      "3-18.",
      "3-3.",
      "4-1.",
      "4-10.",
      "4-11.",
      "4-19.",
      "5-5.",
      "6-15.",
      "7-10.",
      "7-14.",
      "8-18.",
      "8-20.",
      "8-3.",
      "8-8."
     ],
     "labels_target": [
      "1-10.",
      "1-11.",
      "1-15.",
      "1-16.",
      "1-17.",
      "1-18.",
      "1-19.",
      "10-4.",
      "10-7.",
      "11-1.",
      "11-14.",
      "11-17.",
      "11-20.",
      "11-7.",
      "13-20.",
      "13-8.",
      "14-10.",
      "14-11.",
      "14-14.",
      "14-7.",
      "15-1.",
      "15-20.",
      "16-1.",
      "16-16.",
      "17-10.",
      "17-11.",
      "17-2.",
      "19-1.",
      "19-16.",
      "19-19.",
      "19-20.",
      "19-3.",
      "2-10.",
      "2-11.",
      "2-17.",
      "2-18.",
      "2-20.",
      "2-3.",
      "2-4.",
      "2-5.",
      "2-6.",
      "2-7.",
      "2-8.",
      "3-13.",
      "3-18.",
      "3-3.",
      "4-1.",
      "4-10.",
      "4-11.",
      "4-19.",
      "5-5.",
      "6-15.",
      "7-10.",
      "7-14.",
      "8-18.",
      "8-20.",
      "8-3.",
      "8-8."
     ],
     "lr": 0.001,
     "n_epoch": 50,
     "n_query": 2,
     "n_shot": 3,
     "n_way": 58,
     "num_examples_per_domain_per_label_source": 100,
     "num_examples_per_domain_per_label_target": 100,
     "patience": 3,
     "pickle_name": "cores.stratified_ds.2022A.pkl",
     "seed": 1337,
     "test_k_factor": 2,
     "torch_default_dtype": "torch.float32",
     "train_k_factor": 3,
     "val_k_factor": 2,
     "x_net": [
      {
       "class": "nnReshape",
       "kargs": {
        "shape": [
         -1,
         1,
         2,
         256
        ]
       }
      },
      {
       "class": "Conv2d",
       "kargs": {
        "bias": false,
        "in_channels": 1,
        "kernel_size": [
         1,
         7
        ],
        "out_channels": 256,
        "padding": [
         0,
         3
        ]
       }
      },
      {
       "class": "ReLU",
       "kargs": {
        "inplace": true
       }
      },
      {
       "class": "BatchNorm2d",
       "kargs": {
        "num_features": 256
       }
      },
      {
       "class": "Conv2d",
       "kargs": {
        "bias": true,
        "in_channels": 256,
        "kernel_size": [
         2,
         7
        ],
        "out_channels": 80,
        "padding": [
         0,
         3
        ]
       }
      },
      {
       "class": "ReLU",
       "kargs": {
        "inplace": true
       }
      },
      {
       "class": "BatchNorm2d",
       "kargs": {
        "num_features": 80
       }
      },
      {
       "class": "Flatten",
       "kargs": {}
      },
      {
       "class": "Linear",
       "kargs": {
        "in_features": 20480,
        "out_features": 256
       }
      },
      {
       "class": "ReLU",
       "kargs": {
        "inplace": true
       }
      },
      {
       "class": "BatchNorm1d",
       "kargs": {
        "num_features": 256
       }
      },
      {
       "class": "Linear",
       "kargs": {
        "in_features": 256,
        "out_features": 256
       }
      }
     ],
     "x_transforms_source": [
      "times_zero"
     ],
     "x_transforms_target": [
      "times_zero"
     ]
    }
   },
   "start_time": "2022-03-06T00:53:34.484780",
   "version": "2.3.4"
  }
 },
 "nbformat": 4,
 "nbformat_minor": 5
}