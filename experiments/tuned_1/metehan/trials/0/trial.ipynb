{
 "cells": [
  {
   "cell_type": "markdown",
   "id": "9fea5f46",
   "metadata": {
    "papermill": {
     "duration": 0.015015,
     "end_time": "2022-03-06T17:29:01.426767",
     "exception": false,
     "start_time": "2022-03-06T17:29:01.411752",
     "status": "completed"
    },
    "tags": []
   },
   "source": [
    "# PTN Template\n",
    "This notebook serves as a template for single dataset PTN experiments  \n",
    "It can be run on its own by setting STANDALONE to True (do a find for \"STANDALONE\" to see where)  \n",
    "But it is intended to be executed as part of a *papermill.py script. See any of the   \n",
    "experimentes with a papermill script to get started with that workflow.  "
   ]
  },
  {
   "cell_type": "code",
   "execution_count": 1,
   "id": "0902182a",
   "metadata": {
    "execution": {
     "iopub.execute_input": "2022-03-06T17:29:01.455129Z",
     "iopub.status.busy": "2022-03-06T17:29:01.454838Z",
     "iopub.status.idle": "2022-03-06T17:29:02.262628Z",
     "shell.execute_reply": "2022-03-06T17:29:02.262212Z"
    },
    "papermill": {
     "duration": 0.826702,
     "end_time": "2022-03-06T17:29:02.262734",
     "exception": false,
     "start_time": "2022-03-06T17:29:01.436032",
     "status": "completed"
    },
    "tags": []
   },
   "outputs": [],
   "source": [
    "%load_ext autoreload\n",
    "%autoreload 2\n",
    "%matplotlib inline\n",
    "\n",
    "    \n",
    "import os, json, sys, time, random\n",
    "import numpy as np\n",
    "import torch\n",
    "from torch.optim import Adam\n",
    "from  easydict import EasyDict\n",
    "import matplotlib.pyplot as plt\n",
    "\n",
    "from steves_models.steves_ptn import Steves_Prototypical_Network\n",
    "\n",
    "from steves_utils.lazy_iterable_wrapper import Lazy_Iterable_Wrapper\n",
    "from steves_utils.iterable_aggregator import Iterable_Aggregator\n",
    "from steves_utils.ptn_train_eval_test_jig import  PTN_Train_Eval_Test_Jig\n",
    "from steves_utils.torch_sequential_builder import build_sequential\n",
    "from steves_utils.torch_utils import get_dataset_metrics, ptn_confusion_by_domain_over_dataloader\n",
    "from steves_utils.utils_v2 import (per_domain_accuracy_from_confusion, get_datasets_base_path)\n",
    "from steves_utils.PTN.utils import independent_accuracy_assesment\n",
    "\n",
    "from steves_utils.stratified_dataset.episodic_accessor import Episodic_Accessor_Factory\n",
    "\n",
    "from steves_utils.ptn_do_report import (\n",
    "    get_loss_curve,\n",
    "    get_results_table,\n",
    "    get_parameters_table,\n",
    "    get_domain_accuracies,\n",
    ")\n",
    "\n",
    "from steves_utils.transforms import get_chained_transform"
   ]
  },
  {
   "cell_type": "markdown",
   "id": "41c840b4",
   "metadata": {
    "papermill": {
     "duration": 0.009459,
     "end_time": "2022-03-06T17:29:02.285505",
     "exception": false,
     "start_time": "2022-03-06T17:29:02.276046",
     "status": "completed"
    },
    "tags": []
   },
   "source": [
    "# Required Parameters\n",
    "These are allowed parameters, not defaults\n",
    "Each of these values need to be present in the injected parameters (the notebook will raise an exception if they are not present)\n",
    "\n",
    "Papermill uses the cell tag \"parameters\" to inject the real parameters below this cell.\n",
    "Enable tags to see what I mean"
   ]
  },
  {
   "cell_type": "code",
   "execution_count": 2,
   "id": "fd44eb83",
   "metadata": {
    "execution": {
     "iopub.execute_input": "2022-03-06T17:29:02.309388Z",
     "iopub.status.busy": "2022-03-06T17:29:02.308985Z",
     "iopub.status.idle": "2022-03-06T17:29:02.319840Z",
     "shell.execute_reply": "2022-03-06T17:29:02.320248Z"
    },
    "papermill": {
     "duration": 0.023833,
     "end_time": "2022-03-06T17:29:02.320379",
     "exception": false,
     "start_time": "2022-03-06T17:29:02.296546",
     "status": "completed"
    },
    "tags": []
   },
   "outputs": [],
   "source": [
    "required_parameters = {\n",
    "    \"experiment_name\",\n",
    "    \"lr\",\n",
    "    \"device\",\n",
    "    \"seed\",\n",
    "    \"dataset_seed\",\n",
    "    \"labels_source\",\n",
    "    \"labels_target\",\n",
    "    \"domains_source\",\n",
    "    \"domains_target\",\n",
    "    \"num_examples_per_domain_per_label_source\",\n",
    "    \"num_examples_per_domain_per_label_target\",\n",
    "    \"n_shot\",\n",
    "    \"n_way\",\n",
    "    \"n_query\",\n",
    "    \"train_k_factor\",\n",
    "    \"val_k_factor\",\n",
    "    \"test_k_factor\",\n",
    "    \"n_epoch\",\n",
    "    \"patience\",\n",
    "    \"criteria_for_best\",\n",
    "    \"x_transforms_source\",\n",
    "    \"x_transforms_target\",\n",
    "    \"episode_transforms_source\",\n",
    "    \"episode_transforms_target\",\n",
    "    \"pickle_name\",\n",
    "    \"x_net\",\n",
    "    \"NUM_LOGS_PER_EPOCH\",\n",
    "    \"BEST_MODEL_PATH\",\n",
    "    \"torch_default_dtype\"\n",
    "}"
   ]
  },
  {
   "cell_type": "code",
   "execution_count": 3,
   "id": "fa3f0049",
   "metadata": {
    "execution": {
     "iopub.execute_input": "2022-03-06T17:29:02.354576Z",
     "iopub.status.busy": "2022-03-06T17:29:02.346190Z",
     "iopub.status.idle": "2022-03-06T17:29:02.366102Z",
     "shell.execute_reply": "2022-03-06T17:29:02.365626Z"
    },
    "papermill": {
     "duration": 0.0312,
     "end_time": "2022-03-06T17:29:02.366209",
     "exception": false,
     "start_time": "2022-03-06T17:29:02.335009",
     "status": "completed"
    },
    "tags": [
     "parameters"
    ]
   },
   "outputs": [],
   "source": [
    "\n",
    "\n",
    "standalone_parameters = {}\n",
    "standalone_parameters[\"experiment_name\"] = \"STANDALONE PTN\"\n",
    "standalone_parameters[\"lr\"] = 0.0001\n",
    "standalone_parameters[\"device\"] = \"cuda\"\n",
    "\n",
    "standalone_parameters[\"seed\"] = 1337\n",
    "standalone_parameters[\"dataset_seed\"] = 1337\n",
    "\n",
    "\n",
    "standalone_parameters[\"num_examples_per_domain_per_label_source\"]=100\n",
    "standalone_parameters[\"num_examples_per_domain_per_label_target\"]=100\n",
    "\n",
    "standalone_parameters[\"n_shot\"] = 3\n",
    "standalone_parameters[\"n_query\"]  = 2\n",
    "standalone_parameters[\"train_k_factor\"] = 1\n",
    "standalone_parameters[\"val_k_factor\"] = 2\n",
    "standalone_parameters[\"test_k_factor\"] = 2\n",
    "\n",
    "\n",
    "standalone_parameters[\"n_epoch\"] = 100\n",
    "\n",
    "standalone_parameters[\"patience\"] = 10\n",
    "standalone_parameters[\"criteria_for_best\"] = \"target_accuracy\"\n",
    "\n",
    "standalone_parameters[\"x_transforms_source\"] = [\"unit_power\"]\n",
    "standalone_parameters[\"x_transforms_target\"] = [\"unit_power\"]\n",
    "standalone_parameters[\"episode_transforms_source\"] = []\n",
    "standalone_parameters[\"episode_transforms_target\"] = []\n",
    "\n",
    "standalone_parameters[\"torch_default_dtype\"] = \"torch.float32\" \n",
    "\n",
    "\n",
    "\n",
    "standalone_parameters[\"x_net\"] =     [\n",
    "    {\"class\": \"nnReshape\", \"kargs\": {\"shape\":[-1, 1, 2, 256]}},\n",
    "    {\"class\": \"Conv2d\", \"kargs\": { \"in_channels\":1, \"out_channels\":256, \"kernel_size\":(1,7), \"bias\":False, \"padding\":(0,3), },},\n",
    "    {\"class\": \"ReLU\", \"kargs\": {\"inplace\": True}},\n",
    "    {\"class\": \"BatchNorm2d\", \"kargs\": {\"num_features\":256}},\n",
    "\n",
    "    {\"class\": \"Conv2d\", \"kargs\": { \"in_channels\":256, \"out_channels\":80, \"kernel_size\":(2,7), \"bias\":True, \"padding\":(0,3), },},\n",
    "    {\"class\": \"ReLU\", \"kargs\": {\"inplace\": True}},\n",
    "    {\"class\": \"BatchNorm2d\", \"kargs\": {\"num_features\":80}},\n",
    "    {\"class\": \"Flatten\", \"kargs\": {}},\n",
    "\n",
    "    {\"class\": \"Linear\", \"kargs\": {\"in_features\": 80*256, \"out_features\": 256}}, # 80 units per IQ pair\n",
    "    {\"class\": \"ReLU\", \"kargs\": {\"inplace\": True}},\n",
    "    {\"class\": \"BatchNorm1d\", \"kargs\": {\"num_features\":256}},\n",
    "\n",
    "    {\"class\": \"Linear\", \"kargs\": {\"in_features\": 256, \"out_features\": 256}},\n",
    "]\n",
    "\n",
    "# Parameters relevant to results\n",
    "# These parameters will basically never need to change\n",
    "standalone_parameters[\"NUM_LOGS_PER_EPOCH\"] = 10\n",
    "standalone_parameters[\"BEST_MODEL_PATH\"] = \"./best_model.pth\"\n",
    "\n",
    "# uncomment for CORES dataset\n",
    "from steves_utils.CORES.utils import (\n",
    "    ALL_NODES,\n",
    "    ALL_NODES_MINIMUM_1000_EXAMPLES,\n",
    "    ALL_DAYS\n",
    ")\n",
    "\n",
    "\n",
    "standalone_parameters[\"labels_source\"] = ALL_NODES\n",
    "standalone_parameters[\"labels_target\"] = ALL_NODES\n",
    "\n",
    "standalone_parameters[\"domains_source\"] = [1]\n",
    "standalone_parameters[\"domains_target\"] = [2,3,4,5]\n",
    "\n",
    "standalone_parameters[\"pickle_name\"] = \"cores.stratified_ds.2022A.pkl\"\n",
    "\n",
    "\n",
    "# Uncomment these for ORACLE dataset\n",
    "# from steves_utils.ORACLE.utils_v2 import (\n",
    "#     ALL_DISTANCES_FEET,\n",
    "#     ALL_RUNS,\n",
    "#     ALL_SERIAL_NUMBERS,\n",
    "# )\n",
    "# standalone_parameters[\"labels_source\"] = ALL_SERIAL_NUMBERS\n",
    "# standalone_parameters[\"labels_target\"] = ALL_SERIAL_NUMBERS\n",
    "# standalone_parameters[\"domains_source\"] = [8,20, 38,50]\n",
    "# standalone_parameters[\"domains_target\"] = [14, 26, 32, 44, 56]\n",
    "# standalone_parameters[\"pickle_name\"] = \"oracle.frame_indexed.stratified_ds.2022A.pkl\"\n",
    "# standalone_parameters[\"num_examples_per_domain_per_label_source\"]=1000\n",
    "# standalone_parameters[\"num_examples_per_domain_per_label_target\"]=1000\n",
    "\n",
    "# Uncomment these for Metahan dataset\n",
    "# standalone_parameters[\"labels_source\"] = list(range(19))\n",
    "# standalone_parameters[\"labels_target\"] = list(range(19))\n",
    "# standalone_parameters[\"domains_source\"] = [0]\n",
    "# standalone_parameters[\"domains_target\"] = [1]\n",
    "# standalone_parameters[\"pickle_name\"] = \"metehan.stratified_ds.2022A.pkl\"\n",
    "# standalone_parameters[\"n_way\"]  = len(standalone_parameters[\"labels_source\"])\n",
    "# standalone_parameters[\"num_examples_per_domain_per_label_source\"]=200\n",
    "# standalone_parameters[\"num_examples_per_domain_per_label_target\"]=100\n",
    "\n",
    "\n",
    "standalone_parameters[\"n_way\"]  = len(standalone_parameters[\"labels_source\"])"
   ]
  },
  {
   "cell_type": "code",
   "execution_count": 4,
   "id": "87498628",
   "metadata": {
    "execution": {
     "iopub.execute_input": "2022-03-06T17:29:02.396165Z",
     "iopub.status.busy": "2022-03-06T17:29:02.395769Z",
     "iopub.status.idle": "2022-03-06T17:29:02.406322Z",
     "shell.execute_reply": "2022-03-06T17:29:02.406629Z"
    },
    "papermill": {
     "duration": 0.026528,
     "end_time": "2022-03-06T17:29:02.406735",
     "exception": false,
     "start_time": "2022-03-06T17:29:02.380207",
     "status": "completed"
    },
    "tags": [
     "injected-parameters"
    ]
   },
   "outputs": [],
   "source": [
    "# Parameters\n",
    "parameters = {\n",
    "    \"experiment_name\": \"tuned_1_metehan\",\n",
    "    \"device\": \"cuda\",\n",
    "    \"lr\": 0.001,\n",
    "    \"seed\": 1337,\n",
    "    \"dataset_seed\": 1337,\n",
    "    \"labels_source\": [0, 1, 2, 3, 4, 5, 6, 7, 8, 9, 10, 11, 12, 13, 14, 15, 16, 17, 18],\n",
    "    \"labels_target\": [0, 1, 2, 3, 4, 5, 6, 7, 8, 9, 10, 11, 12, 13, 14, 15, 16, 17, 18],\n",
    "    \"x_transforms_source\": [\"unit_mag\"],\n",
    "    \"x_transforms_target\": [\"unit_mag\"],\n",
    "    \"episode_transforms_source\": [],\n",
    "    \"episode_transforms_target\": [],\n",
    "    \"domains_source\": [1],\n",
    "    \"domains_target\": [0, 2],\n",
    "    \"num_examples_per_domain_per_label_source\": 100,\n",
    "    \"num_examples_per_domain_per_label_target\": 100,\n",
    "    \"n_shot\": 3,\n",
    "    \"n_way\": 19,\n",
    "    \"n_query\": 2,\n",
    "    \"train_k_factor\": 3,\n",
    "    \"val_k_factor\": 2,\n",
    "    \"test_k_factor\": 2,\n",
    "    \"torch_default_dtype\": \"torch.float32\",\n",
    "    \"n_epoch\": 50,\n",
    "    \"patience\": 3,\n",
    "    \"criteria_for_best\": \"target_loss\",\n",
    "    \"x_net\": [\n",
    "        {\"class\": \"nnReshape\", \"kargs\": {\"shape\": [-1, 1, 2, 256]}},\n",
    "        {\n",
    "            \"class\": \"Conv2d\",\n",
    "            \"kargs\": {\n",
    "                \"in_channels\": 1,\n",
    "                \"out_channels\": 256,\n",
    "                \"kernel_size\": [1, 7],\n",
    "                \"bias\": False,\n",
    "                \"padding\": [0, 3],\n",
    "            },\n",
    "        },\n",
    "        {\"class\": \"ReLU\", \"kargs\": {\"inplace\": True}},\n",
    "        {\"class\": \"BatchNorm2d\", \"kargs\": {\"num_features\": 256}},\n",
    "        {\n",
    "            \"class\": \"Conv2d\",\n",
    "            \"kargs\": {\n",
    "                \"in_channels\": 256,\n",
    "                \"out_channels\": 80,\n",
    "                \"kernel_size\": [2, 7],\n",
    "                \"bias\": True,\n",
    "                \"padding\": [0, 3],\n",
    "            },\n",
    "        },\n",
    "        {\"class\": \"ReLU\", \"kargs\": {\"inplace\": True}},\n",
    "        {\"class\": \"BatchNorm2d\", \"kargs\": {\"num_features\": 80}},\n",
    "        {\"class\": \"Flatten\", \"kargs\": {}},\n",
    "        {\"class\": \"Linear\", \"kargs\": {\"in_features\": 20480, \"out_features\": 256}},\n",
    "        {\"class\": \"ReLU\", \"kargs\": {\"inplace\": True}},\n",
    "        {\"class\": \"BatchNorm1d\", \"kargs\": {\"num_features\": 256}},\n",
    "        {\"class\": \"Linear\", \"kargs\": {\"in_features\": 256, \"out_features\": 256}},\n",
    "    ],\n",
    "    \"NUM_LOGS_PER_EPOCH\": 10,\n",
    "    \"BEST_MODEL_PATH\": \"./best_model.pth\",\n",
    "    \"pickle_name\": \"metehan.stratified_ds.2022A.pkl\",\n",
    "}\n"
   ]
  },
  {
   "cell_type": "code",
   "execution_count": 5,
   "id": "8fa1cc33",
   "metadata": {
    "execution": {
     "iopub.execute_input": "2022-03-06T17:29:02.432416Z",
     "iopub.status.busy": "2022-03-06T17:29:02.432153Z",
     "iopub.status.idle": "2022-03-06T17:29:02.441562Z",
     "shell.execute_reply": "2022-03-06T17:29:02.441957Z"
    },
    "papermill": {
     "duration": 0.021632,
     "end_time": "2022-03-06T17:29:02.442076",
     "exception": false,
     "start_time": "2022-03-06T17:29:02.420444",
     "status": "completed"
    },
    "tags": []
   },
   "outputs": [],
   "source": [
    "# Set this to True if you want to run this template directly\n",
    "STANDALONE = False\n",
    "if STANDALONE:\n",
    "    print(\"parameters not injected, running with standalone_parameters\")\n",
    "    parameters = standalone_parameters\n",
    "\n",
    "if not 'parameters' in locals() and not 'parameters' in globals():\n",
    "    raise Exception(\"Parameter injection failed\")\n",
    "\n",
    "#Use an easy dict for all the parameters\n",
    "p = EasyDict(parameters)\n",
    "\n",
    "supplied_keys = set(p.keys())\n",
    "\n",
    "if  supplied_keys != required_parameters:\n",
    "    print(\"Parameters are incorrect\")\n",
    "    if len(supplied_keys - required_parameters)>0: print(\"Shouldn't have:\", str(supplied_keys - required_parameters))\n",
    "    if len(required_parameters - supplied_keys)>0: print(\"Need to have:\", str(required_parameters - supplied_keys))\n",
    "    raise RuntimeError(\"Parameters are incorrect\")\n",
    "\n"
   ]
  },
  {
   "cell_type": "code",
   "execution_count": 6,
   "id": "3a028d58",
   "metadata": {
    "execution": {
     "iopub.execute_input": "2022-03-06T17:29:02.465193Z",
     "iopub.status.busy": "2022-03-06T17:29:02.464936Z",
     "iopub.status.idle": "2022-03-06T17:29:02.473992Z",
     "shell.execute_reply": "2022-03-06T17:29:02.473733Z"
    },
    "papermill": {
     "duration": 0.020062,
     "end_time": "2022-03-06T17:29:02.474045",
     "exception": false,
     "start_time": "2022-03-06T17:29:02.453983",
     "status": "completed"
    },
    "tags": []
   },
   "outputs": [],
   "source": [
    "###################################\n",
    "# Set the RNGs and make it all deterministic\n",
    "###################################\n",
    "np.random.seed(p.seed)\n",
    "random.seed(p.seed)\n",
    "torch.manual_seed(p.seed)\n",
    "\n",
    "torch.use_deterministic_algorithms(True) "
   ]
  },
  {
   "cell_type": "code",
   "execution_count": 7,
   "id": "b691acf6",
   "metadata": {
    "execution": {
     "iopub.execute_input": "2022-03-06T17:29:02.500770Z",
     "iopub.status.busy": "2022-03-06T17:29:02.500507Z",
     "iopub.status.idle": "2022-03-06T17:29:02.512823Z",
     "shell.execute_reply": "2022-03-06T17:29:02.513226Z"
    },
    "papermill": {
     "duration": 0.026731,
     "end_time": "2022-03-06T17:29:02.513348",
     "exception": false,
     "start_time": "2022-03-06T17:29:02.486617",
     "status": "completed"
    },
    "tags": []
   },
   "outputs": [],
   "source": [
    "###########################################\n",
    "# The stratified datasets honor this\n",
    "###########################################\n",
    "torch.set_default_dtype(eval(p.torch_default_dtype))"
   ]
  },
  {
   "cell_type": "code",
   "execution_count": 8,
   "id": "b5fba671",
   "metadata": {
    "execution": {
     "iopub.execute_input": "2022-03-06T17:29:02.539240Z",
     "iopub.status.busy": "2022-03-06T17:29:02.538984Z",
     "iopub.status.idle": "2022-03-06T17:29:02.577384Z",
     "shell.execute_reply": "2022-03-06T17:29:02.577804Z"
    },
    "papermill": {
     "duration": 0.050278,
     "end_time": "2022-03-06T17:29:02.577936",
     "exception": false,
     "start_time": "2022-03-06T17:29:02.527658",
     "status": "completed"
    },
    "tags": []
   },
   "outputs": [],
   "source": [
    "###################################\n",
    "# Build the network(s)\n",
    "# Note: It's critical to do this AFTER setting the RNG\n",
    "# (This is due to the randomized initial weights)\n",
    "###################################\n",
    "x_net = build_sequential(p.x_net)"
   ]
  },
  {
   "cell_type": "code",
   "execution_count": 9,
   "id": "5d7e61cc",
   "metadata": {
    "execution": {
     "iopub.execute_input": "2022-03-06T17:29:02.629774Z",
     "iopub.status.busy": "2022-03-06T17:29:02.629518Z",
     "iopub.status.idle": "2022-03-06T17:29:02.641855Z",
     "shell.execute_reply": "2022-03-06T17:29:02.641473Z"
    },
    "papermill": {
     "duration": 0.02695,
     "end_time": "2022-03-06T17:29:02.641935",
     "exception": false,
     "start_time": "2022-03-06T17:29:02.614985",
     "status": "completed"
    },
    "tags": []
   },
   "outputs": [],
   "source": [
    "start_time_secs = time.time()"
   ]
  },
  {
   "cell_type": "code",
   "execution_count": 10,
   "id": "fd5442bc",
   "metadata": {
    "execution": {
     "iopub.execute_input": "2022-03-06T17:29:02.674305Z",
     "iopub.status.busy": "2022-03-06T17:29:02.674033Z",
     "iopub.status.idle": "2022-03-06T17:29:03.069758Z",
     "shell.execute_reply": "2022-03-06T17:29:03.069297Z"
    },
    "papermill": {
     "duration": 0.413431,
     "end_time": "2022-03-06T17:29:03.069865",
     "exception": false,
     "start_time": "2022-03-06T17:29:02.656434",
     "status": "completed"
    },
    "tags": []
   },
   "outputs": [],
   "source": [
    "###################################\n",
    "# Build the dataset\n",
    "###################################\n",
    "\n",
    "if p.x_transforms_source == []: x_transform_source = None\n",
    "else: x_transform_source = get_chained_transform(p.x_transforms_source) \n",
    "\n",
    "if p.x_transforms_target == []: x_transform_target = None\n",
    "else: x_transform_target = get_chained_transform(p.x_transforms_target)\n",
    "\n",
    "if p.episode_transforms_source == []: episode_transform_source = None\n",
    "else: raise Exception(\"episode_transform_source not implemented\")\n",
    "\n",
    "if p.episode_transforms_target == []: episode_transform_target = None\n",
    "else: raise Exception(\"episode_transform_target not implemented\")\n",
    "\n",
    "\n",
    "eaf_source = Episodic_Accessor_Factory(\n",
    "    labels=p.labels_source,\n",
    "    domains=p.domains_source,\n",
    "    num_examples_per_domain_per_label=p.num_examples_per_domain_per_label_source,\n",
    "    iterator_seed=p.seed,\n",
    "    dataset_seed=p.dataset_seed,\n",
    "    n_shot=p.n_shot,\n",
    "    n_way=p.n_way,\n",
    "    n_query=p.n_query,\n",
    "    train_val_test_k_factors=(p.train_k_factor,p.val_k_factor,p.test_k_factor),\n",
    "    pickle_path=os.path.join(get_datasets_base_path(), p.pickle_name),\n",
    "    x_transform_func=x_transform_source,\n",
    "    example_transform_func=episode_transform_source,\n",
    "    \n",
    ")\n",
    "train_original_source, val_original_source, test_original_source = eaf_source.get_train(), eaf_source.get_val(), eaf_source.get_test()\n",
    "\n",
    "\n",
    "eaf_target = Episodic_Accessor_Factory(\n",
    "    labels=p.labels_target,\n",
    "    domains=p.domains_target,\n",
    "    num_examples_per_domain_per_label=p.num_examples_per_domain_per_label_target,\n",
    "    iterator_seed=p.seed,\n",
    "    dataset_seed=p.dataset_seed,\n",
    "    n_shot=p.n_shot,\n",
    "    n_way=p.n_way,\n",
    "    n_query=p.n_query,\n",
    "    train_val_test_k_factors=(p.train_k_factor,p.val_k_factor,p.test_k_factor),\n",
    "    pickle_path=os.path.join(get_datasets_base_path(), p.pickle_name),\n",
    "    x_transform_func=x_transform_target,\n",
    "    example_transform_func=episode_transform_target,\n",
    ")\n",
    "train_original_target, val_original_target, test_original_target = eaf_target.get_train(), eaf_target.get_val(), eaf_target.get_test()\n",
    "\n",
    "\n",
    "transform_lambda = lambda ex: ex[1] # Original is (<domain>, <episode>) so we strip down to episode only\n",
    "\n",
    "train_processed_source = Lazy_Iterable_Wrapper(train_original_source, transform_lambda)\n",
    "val_processed_source   = Lazy_Iterable_Wrapper(val_original_source, transform_lambda)\n",
    "test_processed_source  = Lazy_Iterable_Wrapper(test_original_source, transform_lambda)\n",
    "\n",
    "train_processed_target = Lazy_Iterable_Wrapper(train_original_target, transform_lambda)\n",
    "val_processed_target   = Lazy_Iterable_Wrapper(val_original_target, transform_lambda)\n",
    "test_processed_target  = Lazy_Iterable_Wrapper(test_original_target, transform_lambda)\n",
    "\n",
    "datasets = EasyDict({\n",
    "    \"source\": {\n",
    "        \"original\": {\"train\":train_original_source, \"val\":val_original_source, \"test\":test_original_source},\n",
    "        \"processed\": {\"train\":train_processed_source, \"val\":val_processed_source, \"test\":test_processed_source}\n",
    "    },\n",
    "    \"target\": {\n",
    "        \"original\": {\"train\":train_original_target, \"val\":val_original_target, \"test\":test_original_target},\n",
    "        \"processed\": {\"train\":train_processed_target, \"val\":val_processed_target, \"test\":test_processed_target}\n",
    "    },\n",
    "})"
   ]
  },
  {
   "cell_type": "code",
   "execution_count": 11,
   "id": "296189d9",
   "metadata": {
    "execution": {
     "iopub.execute_input": "2022-03-06T17:29:03.098688Z",
     "iopub.status.busy": "2022-03-06T17:29:03.098423Z",
     "iopub.status.idle": "2022-03-06T17:29:05.285972Z",
     "shell.execute_reply": "2022-03-06T17:29:05.286285Z"
    },
    "papermill": {
     "duration": 2.201762,
     "end_time": "2022-03-06T17:29:05.286391",
     "exception": false,
     "start_time": "2022-03-06T17:29:03.084629",
     "status": "completed"
    },
    "tags": []
   },
   "outputs": [
    {
     "name": "stdout",
     "output_type": "stream",
     "text": [
      "Visually inspect these to see if they line up with expected values given the transforms\n",
      "x_transforms_source ['unit_mag']\n",
      "x_transforms_target ['unit_mag']\n",
      "Average magnitude, source: 1.0\n",
      "Average power, source: 1.063076\n"
     ]
    },
    {
     "name": "stdout",
     "output_type": "stream",
     "text": [
      "Average magnitude, target: 1.0\n",
      "Average power, target: 1.0743878\n"
     ]
    }
   ],
   "source": [
    "# Some quick unit tests on the data\n",
    "from steves_utils.transforms import get_average_power, get_average_magnitude\n",
    "\n",
    "q_x, q_y, s_x, s_y, truth = next(iter(train_processed_source))\n",
    "\n",
    "assert q_x.dtype == eval(p.torch_default_dtype)\n",
    "assert s_x.dtype == eval(p.torch_default_dtype)\n",
    "\n",
    "print(\"Visually inspect these to see if they line up with expected values given the transforms\")\n",
    "print('x_transforms_source', p.x_transforms_source)\n",
    "print('x_transforms_target', p.x_transforms_target)\n",
    "print(\"Average magnitude, source:\", get_average_magnitude(q_x[0].numpy()))\n",
    "print(\"Average power, source:\", get_average_power(q_x[0].numpy()))\n",
    "\n",
    "q_x, q_y, s_x, s_y, truth = next(iter(train_processed_target))\n",
    "print(\"Average magnitude, target:\", get_average_magnitude(q_x[0].numpy()))\n",
    "print(\"Average power, target:\", get_average_power(q_x[0].numpy()))\n"
   ]
  },
  {
   "cell_type": "code",
   "execution_count": 12,
   "id": "bbdacba1",
   "metadata": {
    "execution": {
     "iopub.execute_input": "2022-03-06T17:29:05.313680Z",
     "iopub.status.busy": "2022-03-06T17:29:05.313410Z",
     "iopub.status.idle": "2022-03-06T17:29:05.374026Z",
     "shell.execute_reply": "2022-03-06T17:29:05.374436Z"
    },
    "papermill": {
     "duration": 0.073817,
     "end_time": "2022-03-06T17:29:05.374567",
     "exception": false,
     "start_time": "2022-03-06T17:29:05.300750",
     "status": "completed"
    },
    "tags": []
   },
   "outputs": [
    {
     "name": "stdout",
     "output_type": "stream",
     "text": [
      "(2, 256)\n"
     ]
    }
   ],
   "source": [
    "###################################\n",
    "# Build the model\n",
    "###################################\n",
    "model = Steves_Prototypical_Network(x_net, device=p.device, x_shape=(2,256))\n",
    "optimizer = Adam(params=model.parameters(), lr=p.lr)"
   ]
  },
  {
   "cell_type": "code",
   "execution_count": 13,
   "id": "22b39ac5",
   "metadata": {
    "execution": {
     "iopub.execute_input": "2022-03-06T17:29:05.404259Z",
     "iopub.status.busy": "2022-03-06T17:29:05.403313Z",
     "iopub.status.idle": "2022-03-06T17:29:18.950505Z",
     "shell.execute_reply": "2022-03-06T17:29:18.949970Z"
    },
    "papermill": {
     "duration": 13.560807,
     "end_time": "2022-03-06T17:29:18.950613",
     "exception": false,
     "start_time": "2022-03-06T17:29:05.389806",
     "status": "completed"
    },
    "tags": []
   },
   "outputs": [
    {
     "name": "stdout",
     "output_type": "stream",
     "text": [
      "epoch: 1, [batch: 1 / 42], examples_per_second: 1113.9066, train_label_loss: 2.5376, \n"
     ]
    },
    {
     "name": "stdout",
     "output_type": "stream",
     "text": [
      "epoch: 1, [batch: 5 / 42], examples_per_second: 1802.8406, train_label_loss: 0.6050, \n"
     ]
    },
    {
     "name": "stdout",
     "output_type": "stream",
     "text": [
      "epoch: 1, [batch: 9 / 42], examples_per_second: 1799.4334, train_label_loss: 0.3855, \n"
     ]
    },
    {
     "name": "stdout",
     "output_type": "stream",
     "text": [
      "epoch: 1, [batch: 13 / 42], examples_per_second: 1701.4978, train_label_loss: 0.2413, \n"
     ]
    },
    {
     "name": "stdout",
     "output_type": "stream",
     "text": [
      "epoch: 1, [batch: 17 / 42], examples_per_second: 1782.2396, train_label_loss: 0.2243, \n"
     ]
    },
    {
     "name": "stdout",
     "output_type": "stream",
     "text": [
      "epoch: 1, [batch: 21 / 42], examples_per_second: 1837.0647, train_label_loss: 0.2562, \n"
     ]
    },
    {
     "name": "stdout",
     "output_type": "stream",
     "text": [
      "epoch: 1, [batch: 25 / 42], examples_per_second: 1821.9823, train_label_loss: 0.2184, \n"
     ]
    },
    {
     "name": "stdout",
     "output_type": "stream",
     "text": [
      "epoch: 1, [batch: 29 / 42], examples_per_second: 1808.8704, train_label_loss: 0.2495, \n"
     ]
    },
    {
     "name": "stdout",
     "output_type": "stream",
     "text": [
      "epoch: 1, [batch: 33 / 42], examples_per_second: 1813.7324, train_label_loss: 0.1843, \n"
     ]
    },
    {
     "name": "stdout",
     "output_type": "stream",
     "text": [
      "epoch: 1, [batch: 37 / 42], examples_per_second: 1808.1932, train_label_loss: 0.1291, \n"
     ]
    },
    {
     "name": "stdout",
     "output_type": "stream",
     "text": [
      "=============================================================\n",
      "epoch: 1, source_val_acc_label: 0.8772, target_val_acc_label: 0.8553, source_val_label_loss: 0.3880, target_val_label_loss: 0.3462, \n",
      "=============================================================\n"
     ]
    },
    {
     "name": "stdout",
     "output_type": "stream",
     "text": [
      "New best\n"
     ]
    },
    {
     "name": "stdout",
     "output_type": "stream",
     "text": [
      "epoch: 2, [batch: 1 / 42], examples_per_second: 227.6572, train_label_loss: 0.0752, \n"
     ]
    },
    {
     "name": "stdout",
     "output_type": "stream",
     "text": [
      "epoch: 2, [batch: 5 / 42], examples_per_second: 1811.7635, train_label_loss: 0.5460, \n"
     ]
    },
    {
     "name": "stdout",
     "output_type": "stream",
     "text": [
      "epoch: 2, [batch: 9 / 42], examples_per_second: 1821.5929, train_label_loss: 0.2243, \n"
     ]
    },
    {
     "name": "stdout",
     "output_type": "stream",
     "text": [
      "epoch: 2, [batch: 13 / 42], examples_per_second: 1829.2573, train_label_loss: 0.1896, \n"
     ]
    },
    {
     "name": "stdout",
     "output_type": "stream",
     "text": [
      "epoch: 2, [batch: 17 / 42], examples_per_second: 1826.7016, train_label_loss: 0.2336, \n"
     ]
    },
    {
     "name": "stdout",
     "output_type": "stream",
     "text": [
      "epoch: 2, [batch: 21 / 42], examples_per_second: 1812.2682, train_label_loss: 0.4664, \n"
     ]
    },
    {
     "name": "stdout",
     "output_type": "stream",
     "text": [
      "epoch: 2, [batch: 25 / 42], examples_per_second: 1809.1312, train_label_loss: 0.1046, \n"
     ]
    },
    {
     "name": "stdout",
     "output_type": "stream",
     "text": [
      "epoch: 2, [batch: 29 / 42], examples_per_second: 1832.0412, train_label_loss: 0.2718, \n"
     ]
    },
    {
     "name": "stdout",
     "output_type": "stream",
     "text": [
      "epoch: 2, [batch: 33 / 42], examples_per_second: 1826.6891, train_label_loss: 0.2944, \n"
     ]
    },
    {
     "name": "stdout",
     "output_type": "stream",
     "text": [
      "epoch: 2, [batch: 37 / 42], examples_per_second: 1824.4580, train_label_loss: 0.1837, \n"
     ]
    },
    {
     "name": "stdout",
     "output_type": "stream",
     "text": [
      "=============================================================\n",
      "epoch: 2, source_val_acc_label: 0.8553, target_val_acc_label: 0.8465, source_val_label_loss: 0.4920, target_val_label_loss: 0.4168, \n",
      "=============================================================\n"
     ]
    },
    {
     "name": "stdout",
     "output_type": "stream",
     "text": [
      "epoch: 3, [batch: 1 / 42], examples_per_second: 236.0345, train_label_loss: 0.0700, \n"
     ]
    },
    {
     "name": "stdout",
     "output_type": "stream",
     "text": [
      "epoch: 3, [batch: 5 / 42], examples_per_second: 1826.6828, train_label_loss: 0.2815, \n"
     ]
    },
    {
     "name": "stdout",
     "output_type": "stream",
     "text": [
      "epoch: 3, [batch: 9 / 42], examples_per_second: 1822.4657, train_label_loss: 0.0777, \n"
     ]
    },
    {
     "name": "stdout",
     "output_type": "stream",
     "text": [
      "epoch: 3, [batch: 13 / 42], examples_per_second: 1825.3376, train_label_loss: 0.1291, \n"
     ]
    },
    {
     "name": "stdout",
     "output_type": "stream",
     "text": [
      "epoch: 3, [batch: 17 / 42], examples_per_second: 1829.4735, train_label_loss: 0.2421, \n"
     ]
    },
    {
     "name": "stdout",
     "output_type": "stream",
     "text": [
      "epoch: 3, [batch: 21 / 42], examples_per_second: 1827.5855, train_label_loss: 0.1934, \n"
     ]
    },
    {
     "name": "stdout",
     "output_type": "stream",
     "text": [
      "epoch: 3, [batch: 25 / 42], examples_per_second: 1819.5944, train_label_loss: 0.2817, \n"
     ]
    },
    {
     "name": "stdout",
     "output_type": "stream",
     "text": [
      "epoch: 3, [batch: 29 / 42], examples_per_second: 1814.2176, train_label_loss: 0.2296, \n"
     ]
    },
    {
     "name": "stdout",
     "output_type": "stream",
     "text": [
      "epoch: 3, [batch: 33 / 42], examples_per_second: 1827.9062, train_label_loss: 0.1999, \n"
     ]
    },
    {
     "name": "stdout",
     "output_type": "stream",
     "text": [
      "epoch: 3, [batch: 37 / 42], examples_per_second: 1821.0435, train_label_loss: 0.2888, \n"
     ]
    },
    {
     "name": "stdout",
     "output_type": "stream",
     "text": [
      "=============================================================\n",
      "epoch: 3, source_val_acc_label: 0.8377, target_val_acc_label: 0.8311, source_val_label_loss: 0.5408, target_val_label_loss: 0.5274, \n",
      "=============================================================\n"
     ]
    },
    {
     "name": "stdout",
     "output_type": "stream",
     "text": [
      "epoch: 4, [batch: 1 / 42], examples_per_second: 240.3774, train_label_loss: 0.2254, \n"
     ]
    },
    {
     "name": "stdout",
     "output_type": "stream",
     "text": [
      "epoch: 4, [batch: 5 / 42], examples_per_second: 1727.3661, train_label_loss: 0.6423, \n"
     ]
    },
    {
     "name": "stdout",
     "output_type": "stream",
     "text": [
      "epoch: 4, [batch: 9 / 42], examples_per_second: 1782.6762, train_label_loss: 0.2367, \n"
     ]
    },
    {
     "name": "stdout",
     "output_type": "stream",
     "text": [
      "epoch: 4, [batch: 13 / 42], examples_per_second: 1731.2839, train_label_loss: 0.0808, \n"
     ]
    },
    {
     "name": "stdout",
     "output_type": "stream",
     "text": [
      "epoch: 4, [batch: 17 / 42], examples_per_second: 1713.2085, train_label_loss: 0.1616, \n"
     ]
    },
    {
     "name": "stdout",
     "output_type": "stream",
     "text": [
      "epoch: 4, [batch: 21 / 42], examples_per_second: 1810.6047, train_label_loss: 0.1516, \n"
     ]
    },
    {
     "name": "stdout",
     "output_type": "stream",
     "text": [
      "epoch: 4, [batch: 25 / 42], examples_per_second: 1819.0835, train_label_loss: 0.0859, \n"
     ]
    },
    {
     "name": "stdout",
     "output_type": "stream",
     "text": [
      "epoch: 4, [batch: 29 / 42], examples_per_second: 1822.5303, train_label_loss: 0.2796, \n"
     ]
    },
    {
     "name": "stdout",
     "output_type": "stream",
     "text": [
      "epoch: 4, [batch: 33 / 42], examples_per_second: 1824.4371, train_label_loss: 0.2282, \n"
     ]
    },
    {
     "name": "stdout",
     "output_type": "stream",
     "text": [
      "epoch: 4, [batch: 37 / 42], examples_per_second: 1823.2787, train_label_loss: 0.1662, \n"
     ]
    },
    {
     "name": "stdout",
     "output_type": "stream",
     "text": [
      "=============================================================\n",
      "epoch: 4, source_val_acc_label: 0.8333, target_val_acc_label: 0.8224, source_val_label_loss: 0.5907, target_val_label_loss: 0.5204, \n",
      "=============================================================\n"
     ]
    },
    {
     "name": "stdout",
     "output_type": "stream",
     "text": [
      "epoch: 5, [batch: 1 / 42], examples_per_second: 236.6828, train_label_loss: 0.3459, \n"
     ]
    },
    {
     "name": "stdout",
     "output_type": "stream",
     "text": [
      "epoch: 5, [batch: 5 / 42], examples_per_second: 1817.7661, train_label_loss: 0.1262, \n"
     ]
    },
    {
     "name": "stdout",
     "output_type": "stream",
     "text": [
      "epoch: 5, [batch: 9 / 42], examples_per_second: 1828.6444, train_label_loss: 0.0964, \n"
     ]
    },
    {
     "name": "stdout",
     "output_type": "stream",
     "text": [
      "epoch: 5, [batch: 13 / 42], examples_per_second: 1825.5383, train_label_loss: 0.0787, \n"
     ]
    },
    {
     "name": "stdout",
     "output_type": "stream",
     "text": [
      "epoch: 5, [batch: 17 / 42], examples_per_second: 1822.0886, train_label_loss: 0.0740, \n"
     ]
    },
    {
     "name": "stdout",
     "output_type": "stream",
     "text": [
      "epoch: 5, [batch: 21 / 42], examples_per_second: 1813.4043, train_label_loss: 0.0556, \n"
     ]
    },
    {
     "name": "stdout",
     "output_type": "stream",
     "text": [
      "epoch: 5, [batch: 25 / 42], examples_per_second: 1836.1843, train_label_loss: 0.0860, \n"
     ]
    },
    {
     "name": "stdout",
     "output_type": "stream",
     "text": [
      "epoch: 5, [batch: 29 / 42], examples_per_second: 1830.8101, train_label_loss: 0.1587, \n"
     ]
    },
    {
     "name": "stdout",
     "output_type": "stream",
     "text": [
      "epoch: 5, [batch: 33 / 42], examples_per_second: 1754.6240, train_label_loss: 0.2351, \n"
     ]
    },
    {
     "name": "stdout",
     "output_type": "stream",
     "text": [
      "epoch: 5, [batch: 37 / 42], examples_per_second: 1714.0486, train_label_loss: 0.2145, \n"
     ]
    },
    {
     "name": "stdout",
     "output_type": "stream",
     "text": [
      "=============================================================\n",
      "epoch: 5, source_val_acc_label: 0.8246, target_val_acc_label: 0.8333, source_val_label_loss: 0.5881, target_val_label_loss: 0.6090, \n",
      "=============================================================\n"
     ]
    },
    {
     "name": "stdout",
     "output_type": "stream",
     "text": [
      "Patience (3) exhausted\n"
     ]
    }
   ],
   "source": [
    "###################################\n",
    "# train\n",
    "###################################\n",
    "jig = PTN_Train_Eval_Test_Jig(model, p.BEST_MODEL_PATH, p.device)\n",
    "\n",
    "jig.train(\n",
    "    train_iterable=datasets.source.processed.train,\n",
    "    source_val_iterable=datasets.source.processed.val,\n",
    "    target_val_iterable=datasets.target.processed.val,\n",
    "    num_epochs=p.n_epoch,\n",
    "    num_logs_per_epoch=p.NUM_LOGS_PER_EPOCH,\n",
    "    patience=p.patience,\n",
    "    optimizer=optimizer,\n",
    "    criteria_for_best=p.criteria_for_best,\n",
    ")"
   ]
  },
  {
   "cell_type": "code",
   "execution_count": 14,
   "id": "31e8fabf",
   "metadata": {
    "execution": {
     "iopub.execute_input": "2022-03-06T17:29:18.999770Z",
     "iopub.status.busy": "2022-03-06T17:29:18.998772Z",
     "iopub.status.idle": "2022-03-06T17:29:19.015777Z",
     "shell.execute_reply": "2022-03-06T17:29:19.015524Z"
    },
    "papermill": {
     "duration": 0.039861,
     "end_time": "2022-03-06T17:29:19.015840",
     "exception": false,
     "start_time": "2022-03-06T17:29:18.975979",
     "status": "completed"
    },
    "tags": []
   },
   "outputs": [],
   "source": [
    "total_experiment_time_secs = time.time() - start_time_secs"
   ]
  },
  {
   "cell_type": "code",
   "execution_count": 15,
   "id": "87b9595b",
   "metadata": {
    "execution": {
     "iopub.execute_input": "2022-03-06T17:29:19.063849Z",
     "iopub.status.busy": "2022-03-06T17:29:19.063581Z",
     "iopub.status.idle": "2022-03-06T17:29:21.449062Z",
     "shell.execute_reply": "2022-03-06T17:29:21.449371Z"
    },
    "papermill": {
     "duration": 2.412733,
     "end_time": "2022-03-06T17:29:21.449475",
     "exception": false,
     "start_time": "2022-03-06T17:29:19.036742",
     "status": "completed"
    },
    "tags": []
   },
   "outputs": [],
   "source": [
    "###################################\n",
    "# Evaluate the model\n",
    "###################################\n",
    "source_test_label_accuracy, source_test_label_loss = jig.test(datasets.source.processed.test)\n",
    "target_test_label_accuracy, target_test_label_loss = jig.test(datasets.target.processed.test)\n",
    "\n",
    "source_val_label_accuracy, source_val_label_loss = jig.test(datasets.source.processed.val)\n",
    "target_val_label_accuracy, target_val_label_loss = jig.test(datasets.target.processed.val)\n",
    "\n",
    "history = jig.get_history()\n",
    "\n",
    "total_epochs_trained = len(history[\"epoch_indices\"])\n",
    "\n",
    "val_dl = Iterable_Aggregator((datasets.source.original.val,datasets.target.original.val))\n",
    "\n",
    "confusion = ptn_confusion_by_domain_over_dataloader(model, p.device, val_dl)\n",
    "per_domain_accuracy = per_domain_accuracy_from_confusion(confusion)\n",
    "\n",
    "# Add a key to per_domain_accuracy for if it was a source domain\n",
    "for domain, accuracy in per_domain_accuracy.items():\n",
    "    per_domain_accuracy[domain] = {\n",
    "        \"accuracy\": accuracy,\n",
    "        \"source?\": domain in p.domains_source\n",
    "    }\n",
    "\n",
    "# Do an independent accuracy assesment JUST TO BE SURE!\n",
    "# _source_test_label_accuracy = independent_accuracy_assesment(model, datasets.source.processed.test, p.device)\n",
    "# _target_test_label_accuracy = independent_accuracy_assesment(model, datasets.target.processed.test, p.device)\n",
    "# _source_val_label_accuracy = independent_accuracy_assesment(model, datasets.source.processed.val, p.device)\n",
    "# _target_val_label_accuracy = independent_accuracy_assesment(model, datasets.target.processed.val, p.device)\n",
    "\n",
    "# assert(_source_test_label_accuracy == source_test_label_accuracy)\n",
    "# assert(_target_test_label_accuracy == target_test_label_accuracy)\n",
    "# assert(_source_val_label_accuracy == source_val_label_accuracy)\n",
    "# assert(_target_val_label_accuracy == target_val_label_accuracy)\n",
    "\n",
    "experiment = {\n",
    "    \"experiment_name\": p.experiment_name,\n",
    "    \"parameters\": dict(p),\n",
    "    \"results\": {\n",
    "        \"source_test_label_accuracy\": source_test_label_accuracy,\n",
    "        \"source_test_label_loss\": source_test_label_loss,\n",
    "        \"target_test_label_accuracy\": target_test_label_accuracy,\n",
    "        \"target_test_label_loss\": target_test_label_loss,\n",
    "        \"source_val_label_accuracy\": source_val_label_accuracy,\n",
    "        \"source_val_label_loss\": source_val_label_loss,\n",
    "        \"target_val_label_accuracy\": target_val_label_accuracy,\n",
    "        \"target_val_label_loss\": target_val_label_loss,\n",
    "        \"total_epochs_trained\": total_epochs_trained,\n",
    "        \"total_experiment_time_secs\": total_experiment_time_secs,\n",
    "        \"confusion\": confusion,\n",
    "        \"per_domain_accuracy\": per_domain_accuracy,\n",
    "    },\n",
    "    \"history\": history,\n",
    "    \"dataset_metrics\": get_dataset_metrics(datasets, \"ptn\"),\n",
    "}"
   ]
  },
  {
   "cell_type": "code",
   "execution_count": 16,
   "id": "54a21829",
   "metadata": {
    "execution": {
     "iopub.execute_input": "2022-03-06T17:29:21.493705Z",
     "iopub.status.busy": "2022-03-06T17:29:21.493440Z",
     "iopub.status.idle": "2022-03-06T17:29:21.678965Z",
     "shell.execute_reply": "2022-03-06T17:29:21.679385Z"
    },
    "papermill": {
     "duration": 0.209259,
     "end_time": "2022-03-06T17:29:21.679517",
     "exception": false,
     "start_time": "2022-03-06T17:29:21.470258",
     "status": "completed"
    },
    "tags": []
   },
   "outputs": [
    {
     "data": {
      "image/png": "[encoded data removed]",
      "text/plain": [
       "<Figure size 1080x504 with 1 Axes>"
      ]
     },
     "metadata": {
      "needs_background": "light"
     },
     "output_type": "display_data"
    }
   ],
   "source": [
    "ax = get_loss_curve(experiment)\n",
    "plt.show()"
   ]
  },
  {
   "cell_type": "code",
   "execution_count": 17,
   "id": "fd8a0f60",
   "metadata": {
    "execution": {
     "iopub.execute_input": "2022-03-06T17:29:21.730061Z",
     "iopub.status.busy": "2022-03-06T17:29:21.729807Z",
     "iopub.status.idle": "2022-03-06T17:29:21.908705Z",
     "shell.execute_reply": "2022-03-06T17:29:21.909126Z"
    },
    "papermill": {
     "duration": 0.202469,
     "end_time": "2022-03-06T17:29:21.909257",
     "exception": false,
     "start_time": "2022-03-06T17:29:21.706788",
     "status": "completed"
    },
    "tags": []
   },
   "outputs": [
    {
     "data": {
      "text/plain": [
       "<matplotlib.axes._subplots.AxesSubplot at 0x7f7008d0bf70>"
      ]
     },
     "execution_count": 17,
     "metadata": {},
     "output_type": "execute_result"
    },
    {
     "data": {
      "image/png": "[encoded data removed]",
      "text/plain": [
       "<Figure size 1080x504 with 1 Axes>"
      ]
     },
     "metadata": {
      "needs_background": "light"
     },
     "output_type": "display_data"
    }
   ],
   "source": [
    "get_results_table(experiment)"
   ]
  },
  {
   "cell_type": "code",
   "execution_count": 18,
   "id": "cf8dc689",
   "metadata": {
    "execution": {
     "iopub.execute_input": "2022-03-06T17:29:21.961974Z",
     "iopub.status.busy": "2022-03-06T17:29:21.961345Z",
     "iopub.status.idle": "2022-03-06T17:29:22.125709Z",
     "shell.execute_reply": "2022-03-06T17:29:22.125268Z"
    },
    "papermill": {
     "duration": 0.190359,
     "end_time": "2022-03-06T17:29:22.125815",
     "exception": false,
     "start_time": "2022-03-06T17:29:21.935456",
     "status": "completed"
    },
    "tags": []
   },
   "outputs": [
    {
     "data": {
      "text/plain": [
       "<matplotlib.axes._subplots.AxesSubplot at 0x7f70089e7280>"
      ]
     },
     "execution_count": 18,
     "metadata": {},
     "output_type": "execute_result"
    },
    {
     "data": {
      "image/png": "[encoded data removed]",
      "text/plain": [
       "<Figure size 1080x504 with 1 Axes>"
      ]
     },
     "metadata": {
      "needs_background": "light"
     },
     "output_type": "display_data"
    }
   ],
   "source": [
    "get_domain_accuracies(experiment)"
   ]
  },
  {
   "cell_type": "code",
   "execution_count": 19,
   "id": "a74ae082",
   "metadata": {
    "execution": {
     "iopub.execute_input": "2022-03-06T17:29:22.181685Z",
     "iopub.status.busy": "2022-03-06T17:29:22.180672Z",
     "iopub.status.idle": "2022-03-06T17:29:22.196739Z",
     "shell.execute_reply": "2022-03-06T17:29:22.196412Z"
    },
    "papermill": {
     "duration": 0.041051,
     "end_time": "2022-03-06T17:29:22.196827",
     "exception": false,
     "start_time": "2022-03-06T17:29:22.155776",
     "status": "completed"
    },
    "tags": []
   },
   "outputs": [
    {
     "name": "stdout",
     "output_type": "stream",
     "text": [
      "Source Test Label Accuracy: 0.8552631578947368 Target Test Label Accuracy: 0.8442982456140351\n",
      "Source Val Label Accuracy: 0.8771929824561403 Target Val Label Accuracy: 0.8552631578947368\n"
     ]
    }
   ],
   "source": [
    "print(\"Source Test Label Accuracy:\", experiment[\"results\"][\"source_test_label_accuracy\"], \"Target Test Label Accuracy:\", experiment[\"results\"][\"target_test_label_accuracy\"])\n",
    "print(\"Source Val Label Accuracy:\", experiment[\"results\"][\"source_val_label_accuracy\"], \"Target Val Label Accuracy:\", experiment[\"results\"][\"target_val_label_accuracy\"])"
   ]
  },
  {
   "cell_type": "code",
   "execution_count": 20,
   "id": "dacca602",
   "metadata": {
    "execution": {
     "iopub.execute_input": "2022-03-06T17:29:22.250346Z",
     "iopub.status.busy": "2022-03-06T17:29:22.250088Z",
     "iopub.status.idle": "2022-03-06T17:29:22.263629Z",
     "shell.execute_reply": "2022-03-06T17:29:22.263289Z"
    },
    "papermill": {
     "duration": 0.038599,
     "end_time": "2022-03-06T17:29:22.263709",
     "exception": false,
     "start_time": "2022-03-06T17:29:22.225110",
     "status": "completed"
    },
    "tags": [
     "experiment_json"
    ]
   },
   "outputs": [
    {
     "data": {
      "text/plain": [
       "'{\"experiment_name\": \"tuned_1_metehan\", \"parameters\": {\"experiment_name\": \"tuned_1_metehan\", \"device\": \"cuda\", \"lr\": 0.001, \"seed\": 1337, \"dataset_seed\": 1337, \"labels_source\": [0, 1, 2, 3, 4, 5, 6, 7, 8, 9, 10, 11, 12, 13, 14, 15, 16, 17, 18], \"labels_target\": [0, 1, 2, 3, 4, 5, 6, 7, 8, 9, 10, 11, 12, 13, 14, 15, 16, 17, 18], \"x_transforms_source\": [\"unit_mag\"], \"x_transforms_target\": [\"unit_mag\"], \"episode_transforms_source\": [], \"episode_transforms_target\": [], \"domains_source\": [1], \"domains_target\": [0, 2], \"num_examples_per_domain_per_label_source\": 100, \"num_examples_per_domain_per_label_target\": 100, \"n_shot\": 3, \"n_way\": 19, \"n_query\": 2, \"train_k_factor\": 3, \"val_k_factor\": 2, \"test_k_factor\": 2, \"torch_default_dtype\": \"torch.float32\", \"n_epoch\": 50, \"patience\": 3, \"criteria_for_best\": \"target_loss\", \"x_net\": [{\"class\": \"nnReshape\", \"kargs\": {\"shape\": [-1, 1, 2, 256]}}, {\"class\": \"Conv2d\", \"kargs\": {\"in_channels\": 1, \"out_channels\": 256, \"kernel_size\": [1, 7], \"bias\": false, \"padding\": [0, 3]}}, {\"class\": \"ReLU\", \"kargs\": {\"inplace\": true}}, {\"class\": \"BatchNorm2d\", \"kargs\": {\"num_features\": 256}}, {\"class\": \"Conv2d\", \"kargs\": {\"in_channels\": 256, \"out_channels\": 80, \"kernel_size\": [2, 7], \"bias\": true, \"padding\": [0, 3]}}, {\"class\": \"ReLU\", \"kargs\": {\"inplace\": true}}, {\"class\": \"BatchNorm2d\", \"kargs\": {\"num_features\": 80}}, {\"class\": \"Flatten\", \"kargs\": {}}, {\"class\": \"Linear\", \"kargs\": {\"in_features\": 20480, \"out_features\": 256}}, {\"class\": \"ReLU\", \"kargs\": {\"inplace\": true}}, {\"class\": \"BatchNorm1d\", \"kargs\": {\"num_features\": 256}}, {\"class\": \"Linear\", \"kargs\": {\"in_features\": 256, \"out_features\": 256}}], \"NUM_LOGS_PER_EPOCH\": 10, \"BEST_MODEL_PATH\": \"./best_model.pth\", \"pickle_name\": \"metehan.stratified_ds.2022A.pkl\"}, \"results\": {\"source_test_label_accuracy\": 0.8552631578947368, \"source_test_label_loss\": 0.34511372447013855, \"target_test_label_accuracy\": 0.8442982456140351, \"target_test_label_loss\": 0.40190058946609497, \"source_val_label_accuracy\": 0.8771929824561403, \"source_val_label_loss\": 0.38796043395996094, \"target_val_label_accuracy\": 0.8552631578947368, \"target_val_label_loss\": 0.34618207812309265, \"total_epochs_trained\": 5, \"total_experiment_time_secs\": 16.37357187271118, \"confusion\": {\"1\": {\"8\": {\"8\": 12}, \"12\": {\"12\": 11, \"8\": 1}, \"14\": {\"14\": 10, \"6\": 2}, \"18\": {\"18\": 12}, \"6\": {\"6\": 7, \"4\": 4, \"14\": 1}, \"2\": {\"2\": 12}, \"5\": {\"5\": 10, \"18\": 2}, \"15\": {\"15\": 11, \"8\": 1}, \"13\": {\"13\": 12}, \"17\": {\"11\": 3, \"17\": 9}, \"1\": {\"1\": 12}, \"9\": {\"9\": 12}, \"11\": {\"11\": 11, \"17\": 1}, \"3\": {\"3\": 11, \"16\": 1}, \"7\": {\"7\": 6, \"0\": 6}, \"0\": {\"0\": 12}, \"4\": {\"6\": 4, \"4\": 7, \"14\": 1}, \"16\": {\"16\": 12}, \"10\": {\"5\": 1, \"10\": 11}}, \"2\": {\"9\": {\"9\": 12}, \"5\": {\"5\": 12}, \"15\": {\"15\": 12}, \"13\": {\"13\": 12}, \"11\": {\"11\": 9, \"16\": 1, \"17\": 2}, \"7\": {\"7\": 7, \"0\": 3, \"2\": 1, \"10\": 1}, \"2\": {\"2\": 11, \"7\": 1}, \"6\": {\"6\": 7, \"4\": 3, \"14\": 2}, \"16\": {\"16\": 10, \"11\": 2}, \"14\": {\"14\": 10, \"6\": 2}, \"18\": {\"18\": 11, \"5\": 1}, \"1\": {\"1\": 11, \"5\": 1}, \"10\": {\"5\": 1, \"10\": 11}, \"12\": {\"12\": 11, \"13\": 1}, \"3\": {\"3\": 12}, \"8\": {\"8\": 12}, \"0\": {\"7\": 4, \"2\": 2, \"0\": 6}, \"4\": {\"4\": 6, \"6\": 6}, \"17\": {\"17\": 9, \"11\": 3}}, \"0\": {\"16\": {\"16\": 12}, \"2\": {\"2\": 11, \"0\": 1}, \"4\": {\"4\": 11, \"6\": 1}, \"1\": {\"1\": 12}, \"17\": {\"17\": 11, \"11\": 1}, \"7\": {\"7\": 6, \"10\": 2, \"0\": 4}, \"8\": {\"8\": 10, \"12\": 1, \"15\": 1}, \"6\": {\"6\": 3, \"4\": 6, \"14\": 3}, \"14\": {\"14\": 11, \"6\": 1}, \"11\": {\"11\": 9, \"17\": 3}, \"10\": {\"10\": 12}, \"12\": {\"12\": 12}, \"0\": {\"0\": 8, \"7\": 4}, \"9\": {\"9\": 12}, \"13\": {\"13\": 12}, \"3\": {\"3\": 12}, \"18\": {\"18\": 11, \"5\": 1}, \"15\": {\"15\": 12}, \"5\": {\"5\": 12}}}, \"per_domain_accuracy\": {\"1\": {\"accuracy\": 0.8771929824561403, \"source?\": true}, \"2\": {\"accuracy\": 0.8377192982456141, \"source?\": false}, \"0\": {\"accuracy\": 0.8728070175438597, \"source?\": false}}}, \"history\": {\"epoch_indices\": [1, 2, 3, 4, 5], \"train_label_loss\": [0.4457451124631223, 0.25173320195504595, 0.27936486722457976, 0.2584990855483782, 0.16963345894501322], \"source_val_label_loss\": [0.38796043395996094, 0.4919643998146057, 0.5407919883728027, 0.5906658172607422, 0.5881456732749939], \"target_val_label_loss\": [0.34618207812309265, 0.41675466299057007, 0.5273687243461609, 0.5204342603683472, 0.6090188026428223], \"source_val_acc_label\": [0.8771929824561403, 0.8552631578947368, 0.8377192982456141, 0.8333333333333334, 0.8245614035087719], \"target_val_acc_label\": [0.8552631578947368, 0.8464912280701754, 0.831140350877193, 0.8223684210526315, 0.8333333333333334]}, \"dataset_metrics\": {\"source\": {\"train\": {\"n_unique_x\": 1330, \"n_unique_y\": 19, \"n_batch/episode\": 42}, \"val\": {\"n_unique_x\": 285, \"n_unique_y\": 19, \"n_batch/episode\": 6}, \"test\": {\"n_unique_x\": 285, \"n_unique_y\": 19, \"n_batch/episode\": 6}}, \"target\": {\"train\": {\"n_unique_x\": 2660, \"n_unique_y\": 19, \"n_batch/episode\": 84}, \"val\": {\"n_unique_x\": 570, \"n_unique_y\": 19, \"n_batch/episode\": 12}, \"test\": {\"n_unique_x\": 570, \"n_unique_y\": 19, \"n_batch/episode\": 12}}}}'"
      ]
     },
     "execution_count": 20,
     "metadata": {},
     "output_type": "execute_result"
    }
   ],
   "source": [
    "json.dumps(experiment)"
   ]
  }
 ],
 "metadata": {
  "celltoolbar": "Tags",
  "kernelspec": {
   "display_name": "Python 3 (ipykernel)",
   "language": "python",
   "name": "python3"
  },
  "language_info": {
   "codemirror_mode": {
    "name": "ipython",
    "version": 3
   },
   "file_extension": ".py",
   "mimetype": "text/x-python",
   "name": "python",
   "nbconvert_exporter": "python",
   "pygments_lexer": "ipython3",
   "version": "3.8.10"
  },
  "papermill": {
   "default_parameters": {},
   "duration": 22.312933,
   "end_time": "2022-03-06T17:29:22.793567",
   "environment_variables": {},
   "exception": null,
   "input_path": "/mnt/wd500GB/CSC500/csc500-main/csc500-notebooks/templates/ptn_template.ipynb",
   "output_path": "trial.ipynb",
   "parameters": {
    "parameters": {
     "BEST_MODEL_PATH": "./best_model.pth",
     "NUM_LOGS_PER_EPOCH": 10,
     "criteria_for_best": "target_loss",
     "dataset_seed": 1337,
     "device": "cuda",
     "domains_source": [
      1
     ],
     "domains_target": [
      0,
      2
     ],
     "episode_transforms_source": [],
     "episode_transforms_target": [],
     "experiment_name": "tuned_1_metehan",
     "labels_source": [
      0,
      1,
      2,
      3,
      4,
      5,
      6,
      7,
      8,
      9,
      10,
      11,
      12,
      13,
      14,
      15,
      16,
      17,
      18
     ],
     "labels_target": [
      0,
      1,
      2,
      3,
      4,
      5,
      6,
      7,
      8,
      9,
      10,
      11,
      12,
      13,
      14,
      15,
      16,
      17,
      18
     ],
     "lr": 0.001,
     "n_epoch": 50,
     "n_query": 2,
     "n_shot": 3,
     "n_way": 19,
     "num_examples_per_domain_per_label_source": 100,
     "num_examples_per_domain_per_label_target": 100,
     "patience": 3,
     "pickle_name": "metehan.stratified_ds.2022A.pkl",
     "seed": 1337,
     "test_k_factor": 2,
     "torch_default_dtype": "torch.float32",
     "train_k_factor": 3,
     "val_k_factor": 2,
     "x_net": [
      {
       "class": "nnReshape",
       "kargs": {
        "shape": [
         -1,
         1,
         2,
         256
        ]
       }
      },
      {
       "class": "Conv2d",
       "kargs": {
        "bias": false,
        "in_channels": 1,
        "kernel_size": [
         1,
         7
        ],
        "out_channels": 256,
        "padding": [
         0,
         3
        ]
       }
      },
      {
       "class": "ReLU",
       "kargs": {
        "inplace": true
       }
      },
      {
       "class": "BatchNorm2d",
       "kargs": {
        "num_features": 256
       }
      },
      {
       "class": "Conv2d",
       "kargs": {
        "bias": true,
        "in_channels": 256,
        "kernel_size": [
         2,
         7
        ],
        "out_channels": 80,
        "padding": [
         0,
         3
        ]
       }
      },
      {
       "class": "ReLU",
       "kargs": {
        "inplace": true
       }
      },
      {
       "class": "BatchNorm2d",
       "kargs": {
        "num_features": 80
       }
      },
      {
       "class": "Flatten",
       "kargs": {}
      },
      {
       "class": "Linear",
       "kargs": {
        "in_features": 20480,
        "out_features": 256
       }
      },
      {
       "class": "ReLU",
       "kargs": {
        "inplace": true
       }
      },
      {
       "class": "BatchNorm1d",
       "kargs": {
        "num_features": 256
       }
      },
      {
       "class": "Linear",
       "kargs": {
        "in_features": 256,
        "out_features": 256
       }
      }
     ],
     "x_transforms_source": [
      "unit_mag"
     ],
     "x_transforms_target": [
      "unit_mag"
     ]
    }
   },
   "start_time": "2022-03-06T17:29:00.480634",
   "version": "2.3.4"
  }
 },
 "nbformat": 4,
 "nbformat_minor": 5
}