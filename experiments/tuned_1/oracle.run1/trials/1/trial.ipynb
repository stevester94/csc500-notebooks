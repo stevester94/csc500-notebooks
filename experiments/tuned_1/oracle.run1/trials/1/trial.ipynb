{
 "cells": [
  {
   "cell_type": "markdown",
   "id": "9fea5f46",
   "metadata": {
    "papermill": {
     "duration": 0.014695,
     "end_time": "2022-03-05T22:52:44.715539",
     "exception": false,
     "start_time": "2022-03-05T22:52:44.700844",
     "status": "completed"
    },
    "tags": []
   },
   "source": [
    "# PTN Template\n",
    "This notebook serves as a template for single dataset PTN experiments  \n",
    "It can be run on its own by setting STANDALONE to True (do a find for \"STANDALONE\" to see where)  \n",
    "But it is intended to be executed as part of a *papermill.py script. See any of the   \n",
    "experimentes with a papermill script to get started with that workflow.  "
   ]
  },
  {
   "cell_type": "code",
   "execution_count": 1,
   "id": "0902182a",
   "metadata": {
    "execution": {
     "iopub.execute_input": "2022-03-05T22:52:44.747742Z",
     "iopub.status.busy": "2022-03-05T22:52:44.747282Z",
     "iopub.status.idle": "2022-03-05T22:52:45.560350Z",
     "shell.execute_reply": "2022-03-05T22:52:45.560061Z"
    },
    "papermill": {
     "duration": 0.834544,
     "end_time": "2022-03-05T22:52:45.560417",
     "exception": false,
     "start_time": "2022-03-05T22:52:44.725873",
     "status": "completed"
    },
    "tags": []
   },
   "outputs": [],
   "source": [
    "%load_ext autoreload\n",
    "%autoreload 2\n",
    "%matplotlib inline\n",
    "\n",
    "    \n",
    "import os, json, sys, time, random\n",
    "import numpy as np\n",
    "import torch\n",
    "from torch.optim import Adam\n",
    "from  easydict import EasyDict\n",
    "import matplotlib.pyplot as plt\n",
    "\n",
    "from steves_models.steves_ptn import Steves_Prototypical_Network\n",
    "\n",
    "from steves_utils.lazy_iterable_wrapper import Lazy_Iterable_Wrapper\n",
    "from steves_utils.iterable_aggregator import Iterable_Aggregator\n",
    "from steves_utils.ptn_train_eval_test_jig import  PTN_Train_Eval_Test_Jig\n",
    "from steves_utils.torch_sequential_builder import build_sequential\n",
    "from steves_utils.torch_utils import get_dataset_metrics, ptn_confusion_by_domain_over_dataloader\n",
    "from steves_utils.utils_v2 import (per_domain_accuracy_from_confusion, get_datasets_base_path)\n",
    "from steves_utils.PTN.utils import independent_accuracy_assesment\n",
    "\n",
    "from steves_utils.stratified_dataset.episodic_accessor import Episodic_Accessor_Factory\n",
    "\n",
    "from steves_utils.ptn_do_report import (\n",
    "    get_loss_curve,\n",
    "    get_results_table,\n",
    "    get_parameters_table,\n",
    "    get_domain_accuracies,\n",
    ")\n",
    "\n",
    "from steves_utils.transforms import get_chained_transform"
   ]
  },
  {
   "cell_type": "markdown",
   "id": "41c840b4",
   "metadata": {
    "papermill": {
     "duration": 0.010116,
     "end_time": "2022-03-05T22:52:45.580765",
     "exception": false,
     "start_time": "2022-03-05T22:52:45.570649",
     "status": "completed"
    },
    "tags": []
   },
   "source": [
    "# Required Parameters\n",
    "These are allowed parameters, not defaults\n",
    "Each of these values need to be present in the injected parameters (the notebook will raise an exception if they are not present)\n",
    "\n",
    "Papermill uses the cell tag \"parameters\" to inject the real parameters below this cell.\n",
    "Enable tags to see what I mean"
   ]
  },
  {
   "cell_type": "code",
   "execution_count": 2,
   "id": "fd44eb83",
   "metadata": {
    "execution": {
     "iopub.execute_input": "2022-03-05T22:52:45.605748Z",
     "iopub.status.busy": "2022-03-05T22:52:45.605342Z",
     "iopub.status.idle": "2022-03-05T22:52:45.618006Z",
     "shell.execute_reply": "2022-03-05T22:52:45.617625Z"
    },
    "papermill": {
     "duration": 0.026283,
     "end_time": "2022-03-05T22:52:45.618091",
     "exception": false,
     "start_time": "2022-03-05T22:52:45.591808",
     "status": "completed"
    },
    "tags": []
   },
   "outputs": [],
   "source": [
    "required_parameters = {\n",
    "    \"experiment_name\",\n",
    "    \"lr\",\n",
    "    \"device\",\n",
    "    \"seed\",\n",
    "    \"dataset_seed\",\n",
    "    \"labels_source\",\n",
    "    \"labels_target\",\n",
    "    \"domains_source\",\n",
    "    \"domains_target\",\n",
    "    \"num_examples_per_domain_per_label_source\",\n",
    "    \"num_examples_per_domain_per_label_target\",\n",
    "    \"n_shot\",\n",
    "    \"n_way\",\n",
    "    \"n_query\",\n",
    "    \"train_k_factor\",\n",
    "    \"val_k_factor\",\n",
    "    \"test_k_factor\",\n",
    "    \"n_epoch\",\n",
    "    \"patience\",\n",
    "    \"criteria_for_best\",\n",
    "    \"x_transforms_source\",\n",
    "    \"x_transforms_target\",\n",
    "    \"episode_transforms_source\",\n",
    "    \"episode_transforms_target\",\n",
    "    \"pickle_name\",\n",
    "    \"x_net\",\n",
    "    \"NUM_LOGS_PER_EPOCH\",\n",
    "    \"BEST_MODEL_PATH\",\n",
    "    \"torch_default_dtype\"\n",
    "}"
   ]
  },
  {
   "cell_type": "code",
   "execution_count": 3,
   "id": "fa3f0049",
   "metadata": {
    "execution": {
     "iopub.execute_input": "2022-03-05T22:52:45.649817Z",
     "iopub.status.busy": "2022-03-05T22:52:45.649224Z",
     "iopub.status.idle": "2022-03-05T22:52:45.660567Z",
     "shell.execute_reply": "2022-03-05T22:52:45.660128Z"
    },
    "papermill": {
     "duration": 0.031356,
     "end_time": "2022-03-05T22:52:45.660674",
     "exception": false,
     "start_time": "2022-03-05T22:52:45.629318",
     "status": "completed"
    },
    "tags": [
     "parameters"
    ]
   },
   "outputs": [],
   "source": [
    "\n",
    "\n",
    "standalone_parameters = {}\n",
    "standalone_parameters[\"experiment_name\"] = \"STANDALONE PTN\"\n",
    "standalone_parameters[\"lr\"] = 0.0001\n",
    "standalone_parameters[\"device\"] = \"cuda\"\n",
    "\n",
    "standalone_parameters[\"seed\"] = 1337\n",
    "standalone_parameters[\"dataset_seed\"] = 1337\n",
    "\n",
    "\n",
    "standalone_parameters[\"num_examples_per_domain_per_label_source\"]=100\n",
    "standalone_parameters[\"num_examples_per_domain_per_label_target\"]=100\n",
    "\n",
    "standalone_parameters[\"n_shot\"] = 3\n",
    "standalone_parameters[\"n_query\"]  = 2\n",
    "standalone_parameters[\"train_k_factor\"] = 1\n",
    "standalone_parameters[\"val_k_factor\"] = 2\n",
    "standalone_parameters[\"test_k_factor\"] = 2\n",
    "\n",
    "\n",
    "standalone_parameters[\"n_epoch\"] = 100\n",
    "\n",
    "standalone_parameters[\"patience\"] = 10\n",
    "standalone_parameters[\"criteria_for_best\"] = \"target_accuracy\"\n",
    "\n",
    "standalone_parameters[\"x_transforms_source\"] = [\"unit_power\"]\n",
    "standalone_parameters[\"x_transforms_target\"] = [\"unit_power\"]\n",
    "standalone_parameters[\"episode_transforms_source\"] = []\n",
    "standalone_parameters[\"episode_transforms_target\"] = []\n",
    "\n",
    "standalone_parameters[\"torch_default_dtype\"] = \"torch.float32\" \n",
    "\n",
    "\n",
    "\n",
    "standalone_parameters[\"x_net\"] =     [\n",
    "    {\"class\": \"nnReshape\", \"kargs\": {\"shape\":[-1, 1, 2, 256]}},\n",
    "    {\"class\": \"Conv2d\", \"kargs\": { \"in_channels\":1, \"out_channels\":256, \"kernel_size\":(1,7), \"bias\":False, \"padding\":(0,3), },},\n",
    "    {\"class\": \"ReLU\", \"kargs\": {\"inplace\": True}},\n",
    "    {\"class\": \"BatchNorm2d\", \"kargs\": {\"num_features\":256}},\n",
    "\n",
    "    {\"class\": \"Conv2d\", \"kargs\": { \"in_channels\":256, \"out_channels\":80, \"kernel_size\":(2,7), \"bias\":True, \"padding\":(0,3), },},\n",
    "    {\"class\": \"ReLU\", \"kargs\": {\"inplace\": True}},\n",
    "    {\"class\": \"BatchNorm2d\", \"kargs\": {\"num_features\":80}},\n",
    "    {\"class\": \"Flatten\", \"kargs\": {}},\n",
    "\n",
    "    {\"class\": \"Linear\", \"kargs\": {\"in_features\": 80*256, \"out_features\": 256}}, # 80 units per IQ pair\n",
    "    {\"class\": \"ReLU\", \"kargs\": {\"inplace\": True}},\n",
    "    {\"class\": \"BatchNorm1d\", \"kargs\": {\"num_features\":256}},\n",
    "\n",
    "    {\"class\": \"Linear\", \"kargs\": {\"in_features\": 256, \"out_features\": 256}},\n",
    "]\n",
    "\n",
    "# Parameters relevant to results\n",
    "# These parameters will basically never need to change\n",
    "standalone_parameters[\"NUM_LOGS_PER_EPOCH\"] = 10\n",
    "standalone_parameters[\"BEST_MODEL_PATH\"] = \"./best_model.pth\"\n",
    "\n",
    "# uncomment for CORES dataset\n",
    "from steves_utils.CORES.utils import (\n",
    "    ALL_NODES,\n",
    "    ALL_NODES_MINIMUM_1000_EXAMPLES,\n",
    "    ALL_DAYS\n",
    ")\n",
    "\n",
    "\n",
    "standalone_parameters[\"labels_source\"] = ALL_NODES\n",
    "standalone_parameters[\"labels_target\"] = ALL_NODES\n",
    "\n",
    "standalone_parameters[\"domains_source\"] = [1]\n",
    "standalone_parameters[\"domains_target\"] = [2,3,4,5]\n",
    "\n",
    "standalone_parameters[\"pickle_name\"] = \"cores.stratified_ds.2022A.pkl\"\n",
    "\n",
    "\n",
    "# Uncomment these for ORACLE dataset\n",
    "# from steves_utils.ORACLE.utils_v2 import (\n",
    "#     ALL_DISTANCES_FEET,\n",
    "#     ALL_RUNS,\n",
    "#     ALL_SERIAL_NUMBERS,\n",
    "# )\n",
    "# standalone_parameters[\"labels_source\"] = ALL_SERIAL_NUMBERS\n",
    "# standalone_parameters[\"labels_target\"] = ALL_SERIAL_NUMBERS\n",
    "# standalone_parameters[\"domains_source\"] = [8,20, 38,50]\n",
    "# standalone_parameters[\"domains_target\"] = [14, 26, 32, 44, 56]\n",
    "# standalone_parameters[\"pickle_name\"] = \"oracle.frame_indexed.stratified_ds.2022A.pkl\"\n",
    "# standalone_parameters[\"num_examples_per_domain_per_label_source\"]=1000\n",
    "# standalone_parameters[\"num_examples_per_domain_per_label_target\"]=1000\n",
    "\n",
    "# Uncomment these for Metahan dataset\n",
    "# standalone_parameters[\"labels_source\"] = list(range(19))\n",
    "# standalone_parameters[\"labels_target\"] = list(range(19))\n",
    "# standalone_parameters[\"domains_source\"] = [0]\n",
    "# standalone_parameters[\"domains_target\"] = [1]\n",
    "# standalone_parameters[\"pickle_name\"] = \"metehan.stratified_ds.2022A.pkl\"\n",
    "# standalone_parameters[\"n_way\"]  = len(standalone_parameters[\"labels_source\"])\n",
    "# standalone_parameters[\"num_examples_per_domain_per_label_source\"]=200\n",
    "# standalone_parameters[\"num_examples_per_domain_per_label_target\"]=100\n",
    "\n",
    "\n",
    "standalone_parameters[\"n_way\"]  = len(standalone_parameters[\"labels_source\"])"
   ]
  },
  {
   "cell_type": "code",
   "execution_count": 4,
   "id": "95362dd3",
   "metadata": {
    "execution": {
     "iopub.execute_input": "2022-03-05T22:52:45.693267Z",
     "iopub.status.busy": "2022-03-05T22:52:45.692971Z",
     "iopub.status.idle": "2022-03-05T22:52:45.703583Z",
     "shell.execute_reply": "2022-03-05T22:52:45.703137Z"
    },
    "papermill": {
     "duration": 0.028408,
     "end_time": "2022-03-05T22:52:45.703687",
     "exception": false,
     "start_time": "2022-03-05T22:52:45.675279",
     "status": "completed"
    },
    "tags": [
     "injected-parameters"
    ]
   },
   "outputs": [],
   "source": [
    "# Parameters\n",
    "parameters = {\n",
    "    \"experiment_name\": \"tuned_1_oracle.run1\",\n",
    "    \"device\": \"cuda\",\n",
    "    \"lr\": 0.001,\n",
    "    \"seed\": 1337,\n",
    "    \"dataset_seed\": 1337,\n",
    "    \"labels_source\": [\n",
    "        \"3123D52\",\n",
    "        \"3123D65\",\n",
    "        \"3123D79\",\n",
    "        \"3123D80\",\n",
    "        \"3123D54\",\n",
    "        \"3123D70\",\n",
    "        \"3123D7B\",\n",
    "        \"3123D89\",\n",
    "        \"3123D58\",\n",
    "        \"3123D76\",\n",
    "        \"3123D7D\",\n",
    "        \"3123EFE\",\n",
    "        \"3123D64\",\n",
    "        \"3123D78\",\n",
    "        \"3123D7E\",\n",
    "        \"3124E4A\",\n",
    "    ],\n",
    "    \"labels_target\": [\n",
    "        \"3123D52\",\n",
    "        \"3123D65\",\n",
    "        \"3123D79\",\n",
    "        \"3123D80\",\n",
    "        \"3123D54\",\n",
    "        \"3123D70\",\n",
    "        \"3123D7B\",\n",
    "        \"3123D89\",\n",
    "        \"3123D58\",\n",
    "        \"3123D76\",\n",
    "        \"3123D7D\",\n",
    "        \"3123EFE\",\n",
    "        \"3123D64\",\n",
    "        \"3123D78\",\n",
    "        \"3123D7E\",\n",
    "        \"3124E4A\",\n",
    "    ],\n",
    "    \"x_transforms_source\": [],\n",
    "    \"x_transforms_target\": [],\n",
    "    \"episode_transforms_source\": [],\n",
    "    \"episode_transforms_target\": [],\n",
    "    \"domains_source\": [8, 32, 50],\n",
    "    \"domains_target\": [14, 20, 26, 38, 44],\n",
    "    \"num_examples_per_domain_per_label_source\": 10000,\n",
    "    \"num_examples_per_domain_per_label_target\": 1000,\n",
    "    \"n_shot\": 3,\n",
    "    \"n_way\": 16,\n",
    "    \"n_query\": 2,\n",
    "    \"train_k_factor\": 3,\n",
    "    \"val_k_factor\": 2,\n",
    "    \"test_k_factor\": 2,\n",
    "    \"torch_default_dtype\": \"torch.float32\",\n",
    "    \"n_epoch\": 50,\n",
    "    \"patience\": 3,\n",
    "    \"criteria_for_best\": \"target_loss\",\n",
    "    \"x_net\": [\n",
    "        {\"class\": \"nnReshape\", \"kargs\": {\"shape\": [-1, 1, 2, 256]}},\n",
    "        {\n",
    "            \"class\": \"Conv2d\",\n",
    "            \"kargs\": {\n",
    "                \"in_channels\": 1,\n",
    "                \"out_channels\": 256,\n",
    "                \"kernel_size\": [1, 7],\n",
    "                \"bias\": False,\n",
    "                \"padding\": [0, 3],\n",
    "            },\n",
    "        },\n",
    "        {\"class\": \"ReLU\", \"kargs\": {\"inplace\": True}},\n",
    "        {\"class\": \"BatchNorm2d\", \"kargs\": {\"num_features\": 256}},\n",
    "        {\n",
    "            \"class\": \"Conv2d\",\n",
    "            \"kargs\": {\n",
    "                \"in_channels\": 256,\n",
    "                \"out_channels\": 80,\n",
    "                \"kernel_size\": [2, 7],\n",
    "                \"bias\": True,\n",
    "                \"padding\": [0, 3],\n",
    "            },\n",
    "        },\n",
    "        {\"class\": \"ReLU\", \"kargs\": {\"inplace\": True}},\n",
    "        {\"class\": \"BatchNorm2d\", \"kargs\": {\"num_features\": 80}},\n",
    "        {\"class\": \"Flatten\", \"kargs\": {}},\n",
    "        {\"class\": \"Linear\", \"kargs\": {\"in_features\": 20480, \"out_features\": 256}},\n",
    "        {\"class\": \"ReLU\", \"kargs\": {\"inplace\": True}},\n",
    "        {\"class\": \"BatchNorm1d\", \"kargs\": {\"num_features\": 256}},\n",
    "        {\"class\": \"Linear\", \"kargs\": {\"in_features\": 256, \"out_features\": 256}},\n",
    "    ],\n",
    "    \"NUM_LOGS_PER_EPOCH\": 10,\n",
    "    \"BEST_MODEL_PATH\": \"./best_model.pth\",\n",
    "    \"pickle_name\": \"oracle.Run1_10kExamples_stratified_ds.2022A.pkl\",\n",
    "}\n"
   ]
  },
  {
   "cell_type": "code",
   "execution_count": 5,
   "id": "8fa1cc33",
   "metadata": {
    "execution": {
     "iopub.execute_input": "2022-03-05T22:52:45.731550Z",
     "iopub.status.busy": "2022-03-05T22:52:45.731285Z",
     "iopub.status.idle": "2022-03-05T22:52:45.741475Z",
     "shell.execute_reply": "2022-03-05T22:52:45.741141Z"
    },
    "papermill": {
     "duration": 0.022656,
     "end_time": "2022-03-05T22:52:45.741556",
     "exception": false,
     "start_time": "2022-03-05T22:52:45.718900",
     "status": "completed"
    },
    "tags": []
   },
   "outputs": [],
   "source": [
    "# Set this to True if you want to run this template directly\n",
    "STANDALONE = False\n",
    "if STANDALONE:\n",
    "    print(\"parameters not injected, running with standalone_parameters\")\n",
    "    parameters = standalone_parameters\n",
    "\n",
    "if not 'parameters' in locals() and not 'parameters' in globals():\n",
    "    raise Exception(\"Parameter injection failed\")\n",
    "\n",
    "#Use an easy dict for all the parameters\n",
    "p = EasyDict(parameters)\n",
    "\n",
    "supplied_keys = set(p.keys())\n",
    "\n",
    "if  supplied_keys != required_parameters:\n",
    "    print(\"Parameters are incorrect\")\n",
    "    if len(supplied_keys - required_parameters)>0: print(\"Shouldn't have:\", str(supplied_keys - required_parameters))\n",
    "    if len(required_parameters - supplied_keys)>0: print(\"Need to have:\", str(required_parameters - supplied_keys))\n",
    "    raise RuntimeError(\"Parameters are incorrect\")\n",
    "\n"
   ]
  },
  {
   "cell_type": "code",
   "execution_count": 6,
   "id": "3a028d58",
   "metadata": {
    "execution": {
     "iopub.execute_input": "2022-03-05T22:52:45.767966Z",
     "iopub.status.busy": "2022-03-05T22:52:45.767709Z",
     "iopub.status.idle": "2022-03-05T22:52:45.780957Z",
     "shell.execute_reply": "2022-03-05T22:52:45.780536Z"
    },
    "papermill": {
     "duration": 0.025364,
     "end_time": "2022-03-05T22:52:45.781051",
     "exception": false,
     "start_time": "2022-03-05T22:52:45.755687",
     "status": "completed"
    },
    "tags": []
   },
   "outputs": [],
   "source": [
    "###################################\n",
    "# Set the RNGs and make it all deterministic\n",
    "###################################\n",
    "np.random.seed(p.seed)\n",
    "random.seed(p.seed)\n",
    "torch.manual_seed(p.seed)\n",
    "\n",
    "torch.use_deterministic_algorithms(True) "
   ]
  },
  {
   "cell_type": "code",
   "execution_count": 7,
   "id": "b691acf6",
   "metadata": {
    "execution": {
     "iopub.execute_input": "2022-03-05T22:52:45.809023Z",
     "iopub.status.busy": "2022-03-05T22:52:45.808768Z",
     "iopub.status.idle": "2022-03-05T22:52:45.820930Z",
     "shell.execute_reply": "2022-03-05T22:52:45.820446Z"
    },
    "papermill": {
     "duration": 0.025368,
     "end_time": "2022-03-05T22:52:45.821033",
     "exception": false,
     "start_time": "2022-03-05T22:52:45.795665",
     "status": "completed"
    },
    "tags": []
   },
   "outputs": [],
   "source": [
    "###########################################\n",
    "# The stratified datasets honor this\n",
    "###########################################\n",
    "torch.set_default_dtype(eval(p.torch_default_dtype))"
   ]
  },
  {
   "cell_type": "code",
   "execution_count": 8,
   "id": "b5fba671",
   "metadata": {
    "execution": {
     "iopub.execute_input": "2022-03-05T22:52:45.848569Z",
     "iopub.status.busy": "2022-03-05T22:52:45.848204Z",
     "iopub.status.idle": "2022-03-05T22:52:45.882983Z",
     "shell.execute_reply": "2022-03-05T22:52:45.882531Z"
    },
    "papermill": {
     "duration": 0.047544,
     "end_time": "2022-03-05T22:52:45.883087",
     "exception": false,
     "start_time": "2022-03-05T22:52:45.835543",
     "status": "completed"
    },
    "tags": []
   },
   "outputs": [],
   "source": [
    "###################################\n",
    "# Build the network(s)\n",
    "# Note: It's critical to do this AFTER setting the RNG\n",
    "# (This is due to the randomized initial weights)\n",
    "###################################\n",
    "x_net = build_sequential(p.x_net)"
   ]
  },
  {
   "cell_type": "code",
   "execution_count": 9,
   "id": "5d7e61cc",
   "metadata": {
    "execution": {
     "iopub.execute_input": "2022-03-05T22:52:45.910949Z",
     "iopub.status.busy": "2022-03-05T22:52:45.910683Z",
     "iopub.status.idle": "2022-03-05T22:52:45.923823Z",
     "shell.execute_reply": "2022-03-05T22:52:45.924197Z"
    },
    "papermill": {
     "duration": 0.025693,
     "end_time": "2022-03-05T22:52:45.924307",
     "exception": false,
     "start_time": "2022-03-05T22:52:45.898614",
     "status": "completed"
    },
    "tags": []
   },
   "outputs": [],
   "source": [
    "start_time_secs = time.time()"
   ]
  },
  {
   "cell_type": "code",
   "execution_count": 10,
   "id": "fd5442bc",
   "metadata": {
    "execution": {
     "iopub.execute_input": "2022-03-05T22:52:45.957428Z",
     "iopub.status.busy": "2022-03-05T22:52:45.957045Z",
     "iopub.status.idle": "2022-03-05T22:52:50.720046Z",
     "shell.execute_reply": "2022-03-05T22:52:50.719607Z"
    },
    "papermill": {
     "duration": 4.780653,
     "end_time": "2022-03-05T22:52:50.720151",
     "exception": false,
     "start_time": "2022-03-05T22:52:45.939498",
     "status": "completed"
    },
    "tags": []
   },
   "outputs": [],
   "source": [
    "###################################\n",
    "# Build the dataset\n",
    "###################################\n",
    "\n",
    "if p.x_transforms_source == []: x_transform_source = None\n",
    "else: x_transform_source = get_chained_transform(p.x_transforms_source) \n",
    "\n",
    "if p.x_transforms_target == []: x_transform_target = None\n",
    "else: x_transform_target = get_chained_transform(p.x_transforms_target)\n",
    "\n",
    "if p.episode_transforms_source == []: episode_transform_source = None\n",
    "else: raise Exception(\"episode_transform_source not implemented\")\n",
    "\n",
    "if p.episode_transforms_target == []: episode_transform_target = None\n",
    "else: raise Exception(\"episode_transform_target not implemented\")\n",
    "\n",
    "\n",
    "eaf_source = Episodic_Accessor_Factory(\n",
    "    labels=p.labels_source,\n",
    "    domains=p.domains_source,\n",
    "    num_examples_per_domain_per_label=p.num_examples_per_domain_per_label_source,\n",
    "    iterator_seed=p.seed,\n",
    "    dataset_seed=p.dataset_seed,\n",
    "    n_shot=p.n_shot,\n",
    "    n_way=p.n_way,\n",
    "    n_query=p.n_query,\n",
    "    train_val_test_k_factors=(p.train_k_factor,p.val_k_factor,p.test_k_factor),\n",
    "    pickle_path=os.path.join(get_datasets_base_path(), p.pickle_name),\n",
    "    x_transform_func=x_transform_source,\n",
    "    example_transform_func=episode_transform_source,\n",
    "    \n",
    ")\n",
    "train_original_source, val_original_source, test_original_source = eaf_source.get_train(), eaf_source.get_val(), eaf_source.get_test()\n",
    "\n",
    "\n",
    "eaf_target = Episodic_Accessor_Factory(\n",
    "    labels=p.labels_target,\n",
    "    domains=p.domains_target,\n",
    "    num_examples_per_domain_per_label=p.num_examples_per_domain_per_label_target,\n",
    "    iterator_seed=p.seed,\n",
    "    dataset_seed=p.dataset_seed,\n",
    "    n_shot=p.n_shot,\n",
    "    n_way=p.n_way,\n",
    "    n_query=p.n_query,\n",
    "    train_val_test_k_factors=(p.train_k_factor,p.val_k_factor,p.test_k_factor),\n",
    "    pickle_path=os.path.join(get_datasets_base_path(), p.pickle_name),\n",
    "    x_transform_func=x_transform_target,\n",
    "    example_transform_func=episode_transform_target,\n",
    ")\n",
    "train_original_target, val_original_target, test_original_target = eaf_target.get_train(), eaf_target.get_val(), eaf_target.get_test()\n",
    "\n",
    "\n",
    "transform_lambda = lambda ex: ex[1] # Original is (<domain>, <episode>) so we strip down to episode only\n",
    "\n",
    "train_processed_source = Lazy_Iterable_Wrapper(train_original_source, transform_lambda)\n",
    "val_processed_source   = Lazy_Iterable_Wrapper(val_original_source, transform_lambda)\n",
    "test_processed_source  = Lazy_Iterable_Wrapper(test_original_source, transform_lambda)\n",
    "\n",
    "train_processed_target = Lazy_Iterable_Wrapper(train_original_target, transform_lambda)\n",
    "val_processed_target   = Lazy_Iterable_Wrapper(val_original_target, transform_lambda)\n",
    "test_processed_target  = Lazy_Iterable_Wrapper(test_original_target, transform_lambda)\n",
    "\n",
    "datasets = EasyDict({\n",
    "    \"source\": {\n",
    "        \"original\": {\"train\":train_original_source, \"val\":val_original_source, \"test\":test_original_source},\n",
    "        \"processed\": {\"train\":train_processed_source, \"val\":val_processed_source, \"test\":test_processed_source}\n",
    "    },\n",
    "    \"target\": {\n",
    "        \"original\": {\"train\":train_original_target, \"val\":val_original_target, \"test\":test_original_target},\n",
    "        \"processed\": {\"train\":train_processed_target, \"val\":val_processed_target, \"test\":test_processed_target}\n",
    "    },\n",
    "})"
   ]
  },
  {
   "cell_type": "code",
   "execution_count": 11,
   "id": "296189d9",
   "metadata": {
    "execution": {
     "iopub.execute_input": "2022-03-05T22:52:50.746961Z",
     "iopub.status.busy": "2022-03-05T22:52:50.746647Z",
     "iopub.status.idle": "2022-03-05T22:52:52.541785Z",
     "shell.execute_reply": "2022-03-05T22:52:52.541396Z"
    },
    "papermill": {
     "duration": 1.808351,
     "end_time": "2022-03-05T22:52:52.541873",
     "exception": false,
     "start_time": "2022-03-05T22:52:50.733522",
     "status": "completed"
    },
    "tags": []
   },
   "outputs": [
    {
     "name": "stdout",
     "output_type": "stream",
     "text": [
      "Visually inspect these to see if they line up with expected values given the transforms\n",
      "x_transforms_source []\n",
      "x_transforms_target []\n",
      "Average magnitude, source: 0.0047276304\n",
      "Average power, source: 2.9415698e-05\n"
     ]
    },
    {
     "name": "stdout",
     "output_type": "stream",
     "text": [
      "Average magnitude, target: 0.0029651737\n",
      "Average power, target: 1.128662e-05\n"
     ]
    }
   ],
   "source": [
    "# Some quick unit tests on the data\n",
    "from steves_utils.transforms import get_average_power, get_average_magnitude\n",
    "\n",
    "q_x, q_y, s_x, s_y, truth = next(iter(train_processed_source))\n",
    "\n",
    "assert q_x.dtype == eval(p.torch_default_dtype)\n",
    "assert s_x.dtype == eval(p.torch_default_dtype)\n",
    "\n",
    "print(\"Visually inspect these to see if they line up with expected values given the transforms\")\n",
    "print('x_transforms_source', p.x_transforms_source)\n",
    "print('x_transforms_target', p.x_transforms_target)\n",
    "print(\"Average magnitude, source:\", get_average_magnitude(q_x[0].numpy()))\n",
    "print(\"Average power, source:\", get_average_power(q_x[0].numpy()))\n",
    "\n",
    "q_x, q_y, s_x, s_y, truth = next(iter(train_processed_target))\n",
    "print(\"Average magnitude, target:\", get_average_magnitude(q_x[0].numpy()))\n",
    "print(\"Average power, target:\", get_average_power(q_x[0].numpy()))\n"
   ]
  },
  {
   "cell_type": "code",
   "execution_count": 12,
   "id": "bbdacba1",
   "metadata": {
    "execution": {
     "iopub.execute_input": "2022-03-05T22:52:52.570162Z",
     "iopub.status.busy": "2022-03-05T22:52:52.569897Z",
     "iopub.status.idle": "2022-03-05T22:52:52.631185Z",
     "shell.execute_reply": "2022-03-05T22:52:52.631591Z"
    },
    "papermill": {
     "duration": 0.074927,
     "end_time": "2022-03-05T22:52:52.631717",
     "exception": false,
     "start_time": "2022-03-05T22:52:52.556790",
     "status": "completed"
    },
    "tags": []
   },
   "outputs": [
    {
     "name": "stdout",
     "output_type": "stream",
     "text": [
      "(2, 256)\n"
     ]
    }
   ],
   "source": [
    "###################################\n",
    "# Build the model\n",
    "###################################\n",
    "model = Steves_Prototypical_Network(x_net, device=p.device, x_shape=(2,256))\n",
    "optimizer = Adam(params=model.parameters(), lr=p.lr)"
   ]
  },
  {
   "cell_type": "code",
   "execution_count": 13,
   "id": "22b39ac5",
   "metadata": {
    "execution": {
     "iopub.execute_input": "2022-03-05T22:52:52.662421Z",
     "iopub.status.busy": "2022-03-05T22:52:52.662151Z",
     "iopub.status.idle": "2022-03-05T23:31:16.123601Z",
     "shell.execute_reply": "2022-03-05T23:31:16.123361Z"
    },
    "papermill": {
     "duration": 2303.475434,
     "end_time": "2022-03-05T23:31:16.123661",
     "exception": false,
     "start_time": "2022-03-05T22:52:52.648227",
     "status": "completed"
    },
    "tags": []
   },
   "outputs": [
    {
     "name": "stdout",
     "output_type": "stream",
     "text": [
      "epoch: 1, [batch: 1 / 12600], examples_per_second: 26.2913, train_label_loss: 2.2799, \n"
     ]
    },
    {
     "name": "stdout",
     "output_type": "stream",
     "text": [
      "epoch: 1, [batch: 1260 / 12600], examples_per_second: 3229.7834, train_label_loss: 1.0201, \n"
     ]
    },
    {
     "name": "stdout",
     "output_type": "stream",
     "text": [
      "epoch: 1, [batch: 2520 / 12600], examples_per_second: 3245.1115, train_label_loss: 0.4933, \n"
     ]
    },
    {
     "name": "stdout",
     "output_type": "stream",
     "text": [
      "epoch: 1, [batch: 3780 / 12600], examples_per_second: 3252.3117, train_label_loss: 0.8028, \n"
     ]
    },
    {
     "name": "stdout",
     "output_type": "stream",
     "text": [
      "epoch: 1, [batch: 5040 / 12600], examples_per_second: 3219.1970, train_label_loss: 0.4153, \n"
     ]
    },
    {
     "name": "stdout",
     "output_type": "stream",
     "text": [
      "epoch: 1, [batch: 6300 / 12600], examples_per_second: 3230.1910, train_label_loss: 0.8630, \n"
     ]
    },
    {
     "name": "stdout",
     "output_type": "stream",
     "text": [
      "epoch: 1, [batch: 7560 / 12600], examples_per_second: 3179.8658, train_label_loss: 0.6780, \n"
     ]
    },
    {
     "name": "stdout",
     "output_type": "stream",
     "text": [
      "epoch: 1, [batch: 8820 / 12600], examples_per_second: 3180.0689, train_label_loss: 0.3436, \n"
     ]
    },
    {
     "name": "stdout",
     "output_type": "stream",
     "text": [
      "epoch: 1, [batch: 10080 / 12600], examples_per_second: 3179.1617, train_label_loss: 0.5260, \n"
     ]
    },
    {
     "name": "stdout",
     "output_type": "stream",
     "text": [
      "epoch: 1, [batch: 11340 / 12600], examples_per_second: 3200.7985, train_label_loss: 0.3070, \n"
     ]
    },
    {
     "name": "stdout",
     "output_type": "stream",
     "text": [
      "=============================================================\n",
      "epoch: 1, source_val_acc_label: 0.7413, target_val_acc_label: 0.7036, source_val_label_loss: 0.9801, target_val_label_loss: 1.1247, \n",
      "=============================================================\n"
     ]
    },
    {
     "name": "stdout",
     "output_type": "stream",
     "text": [
      "New best\n"
     ]
    },
    {
     "name": "stdout",
     "output_type": "stream",
     "text": [
      "epoch: 2, [batch: 1 / 12600], examples_per_second: 3.0582, train_label_loss: 0.6809, \n"
     ]
    },
    {
     "name": "stdout",
     "output_type": "stream",
     "text": [
      "epoch: 2, [batch: 1260 / 12600], examples_per_second: 3264.0823, train_label_loss: 0.3801, \n"
     ]
    },
    {
     "name": "stdout",
     "output_type": "stream",
     "text": [
      "epoch: 2, [batch: 2520 / 12600], examples_per_second: 3258.4996, train_label_loss: 0.6028, \n"
     ]
    },
    {
     "name": "stdout",
     "output_type": "stream",
     "text": [
      "epoch: 2, [batch: 3780 / 12600], examples_per_second: 3272.4068, train_label_loss: 0.5483, \n"
     ]
    },
    {
     "name": "stdout",
     "output_type": "stream",
     "text": [
      "epoch: 2, [batch: 5040 / 12600], examples_per_second: 3224.6042, train_label_loss: 0.5773, \n"
     ]
    },
    {
     "name": "stdout",
     "output_type": "stream",
     "text": [
      "epoch: 2, [batch: 6300 / 12600], examples_per_second: 3267.4415, train_label_loss: 0.6077, \n"
     ]
    },
    {
     "name": "stdout",
     "output_type": "stream",
     "text": [
      "epoch: 2, [batch: 7560 / 12600], examples_per_second: 3266.5093, train_label_loss: 0.5021, \n"
     ]
    },
    {
     "name": "stdout",
     "output_type": "stream",
     "text": [
      "epoch: 2, [batch: 8820 / 12600], examples_per_second: 3229.0289, train_label_loss: 0.4731, \n"
     ]
    },
    {
     "name": "stdout",
     "output_type": "stream",
     "text": [
      "epoch: 2, [batch: 10080 / 12600], examples_per_second: 3224.9334, train_label_loss: 0.4510, \n"
     ]
    },
    {
     "name": "stdout",
     "output_type": "stream",
     "text": [
      "epoch: 2, [batch: 11340 / 12600], examples_per_second: 3221.1670, train_label_loss: 0.2448, \n"
     ]
    },
    {
     "name": "stdout",
     "output_type": "stream",
     "text": [
      "=============================================================\n",
      "epoch: 2, source_val_acc_label: 0.8467, target_val_acc_label: 0.7630, source_val_label_loss: 0.4317, target_val_label_loss: 0.7546, \n",
      "=============================================================\n"
     ]
    },
    {
     "name": "stdout",
     "output_type": "stream",
     "text": [
      "New best\n"
     ]
    },
    {
     "name": "stdout",
     "output_type": "stream",
     "text": [
      "epoch: 3, [batch: 1 / 12600], examples_per_second: 3.0598, train_label_loss: 0.4854, \n"
     ]
    },
    {
     "name": "stdout",
     "output_type": "stream",
     "text": [
      "epoch: 3, [batch: 1260 / 12600], examples_per_second: 3157.2963, train_label_loss: 0.7958, \n"
     ]
    },
    {
     "name": "stdout",
     "output_type": "stream",
     "text": [
      "epoch: 3, [batch: 2520 / 12600], examples_per_second: 3196.7125, train_label_loss: 0.5277, \n"
     ]
    },
    {
     "name": "stdout",
     "output_type": "stream",
     "text": [
      "epoch: 3, [batch: 3780 / 12600], examples_per_second: 3160.8541, train_label_loss: 0.4399, \n"
     ]
    },
    {
     "name": "stdout",
     "output_type": "stream",
     "text": [
      "epoch: 3, [batch: 5040 / 12600], examples_per_second: 3109.7080, train_label_loss: 0.5142, \n"
     ]
    },
    {
     "name": "stdout",
     "output_type": "stream",
     "text": [
      "epoch: 3, [batch: 6300 / 12600], examples_per_second: 3065.0604, train_label_loss: 0.3666, \n"
     ]
    },
    {
     "name": "stdout",
     "output_type": "stream",
     "text": [
      "epoch: 3, [batch: 7560 / 12600], examples_per_second: 3076.2194, train_label_loss: 0.3063, \n"
     ]
    },
    {
     "name": "stdout",
     "output_type": "stream",
     "text": [
      "epoch: 3, [batch: 8820 / 12600], examples_per_second: 3205.3685, train_label_loss: 0.4250, \n"
     ]
    },
    {
     "name": "stdout",
     "output_type": "stream",
     "text": [
      "epoch: 3, [batch: 10080 / 12600], examples_per_second: 3176.9793, train_label_loss: 0.4751, \n"
     ]
    },
    {
     "name": "stdout",
     "output_type": "stream",
     "text": [
      "epoch: 3, [batch: 11340 / 12600], examples_per_second: 3282.5843, train_label_loss: 0.2749, \n"
     ]
    },
    {
     "name": "stdout",
     "output_type": "stream",
     "text": [
      "=============================================================\n",
      "epoch: 3, source_val_acc_label: 0.8623, target_val_acc_label: 0.7705, source_val_label_loss: 0.3889, target_val_label_loss: 0.6924, \n",
      "=============================================================\n"
     ]
    },
    {
     "name": "stdout",
     "output_type": "stream",
     "text": [
      "New best\n"
     ]
    },
    {
     "name": "stdout",
     "output_type": "stream",
     "text": [
      "epoch: 4, [batch: 1 / 12600], examples_per_second: 3.1190, train_label_loss: 0.0882, \n"
     ]
    },
    {
     "name": "stdout",
     "output_type": "stream",
     "text": [
      "epoch: 4, [batch: 1260 / 12600], examples_per_second: 3285.7635, train_label_loss: 0.3443, \n"
     ]
    },
    {
     "name": "stdout",
     "output_type": "stream",
     "text": [
      "epoch: 4, [batch: 2520 / 12600], examples_per_second: 3294.1032, train_label_loss: 0.1784, \n"
     ]
    },
    {
     "name": "stdout",
     "output_type": "stream",
     "text": [
      "epoch: 4, [batch: 3780 / 12600], examples_per_second: 3301.4842, train_label_loss: 0.3189, \n"
     ]
    },
    {
     "name": "stdout",
     "output_type": "stream",
     "text": [
      "epoch: 4, [batch: 5040 / 12600], examples_per_second: 3285.7109, train_label_loss: 0.3573, \n"
     ]
    },
    {
     "name": "stdout",
     "output_type": "stream",
     "text": [
      "epoch: 4, [batch: 6300 / 12600], examples_per_second: 3285.6147, train_label_loss: 0.2640, \n"
     ]
    },
    {
     "name": "stdout",
     "output_type": "stream",
     "text": [
      "epoch: 4, [batch: 7560 / 12600], examples_per_second: 3289.1665, train_label_loss: 0.3880, \n"
     ]
    },
    {
     "name": "stdout",
     "output_type": "stream",
     "text": [
      "epoch: 4, [batch: 8820 / 12600], examples_per_second: 3283.6480, train_label_loss: 0.3154, \n"
     ]
    },
    {
     "name": "stdout",
     "output_type": "stream",
     "text": [
      "epoch: 4, [batch: 10080 / 12600], examples_per_second: 3283.5480, train_label_loss: 0.2501, \n"
     ]
    },
    {
     "name": "stdout",
     "output_type": "stream",
     "text": [
      "epoch: 4, [batch: 11340 / 12600], examples_per_second: 3273.4605, train_label_loss: 0.3897, \n"
     ]
    },
    {
     "name": "stdout",
     "output_type": "stream",
     "text": [
      "=============================================================\n",
      "epoch: 4, source_val_acc_label: 0.8655, target_val_acc_label: 0.7703, source_val_label_loss: 0.3760, target_val_label_loss: 0.7095, \n",
      "=============================================================\n"
     ]
    },
    {
     "name": "stdout",
     "output_type": "stream",
     "text": [
      "epoch: 5, [batch: 1 / 12600], examples_per_second: 3.1647, train_label_loss: 0.1061, \n"
     ]
    },
    {
     "name": "stdout",
     "output_type": "stream",
     "text": [
      "epoch: 5, [batch: 1260 / 12600], examples_per_second: 3303.8399, train_label_loss: 0.2522, \n"
     ]
    },
    {
     "name": "stdout",
     "output_type": "stream",
     "text": [
      "epoch: 5, [batch: 2520 / 12600], examples_per_second: 3325.5778, train_label_loss: 0.3781, \n"
     ]
    },
    {
     "name": "stdout",
     "output_type": "stream",
     "text": [
      "epoch: 5, [batch: 3780 / 12600], examples_per_second: 3329.2267, train_label_loss: 0.2345, \n"
     ]
    },
    {
     "name": "stdout",
     "output_type": "stream",
     "text": [
      "epoch: 5, [batch: 5040 / 12600], examples_per_second: 3318.1490, train_label_loss: 0.2035, \n"
     ]
    },
    {
     "name": "stdout",
     "output_type": "stream",
     "text": [
      "epoch: 5, [batch: 6300 / 12600], examples_per_second: 3321.8649, train_label_loss: 0.1185, \n"
     ]
    },
    {
     "name": "stdout",
     "output_type": "stream",
     "text": [
      "epoch: 5, [batch: 7560 / 12600], examples_per_second: 3313.6452, train_label_loss: 0.0877, \n"
     ]
    },
    {
     "name": "stdout",
     "output_type": "stream",
     "text": [
      "epoch: 5, [batch: 8820 / 12600], examples_per_second: 3307.2441, train_label_loss: 0.1786, \n"
     ]
    },
    {
     "name": "stdout",
     "output_type": "stream",
     "text": [
      "epoch: 5, [batch: 10080 / 12600], examples_per_second: 3316.6147, train_label_loss: 0.4936, \n"
     ]
    },
    {
     "name": "stdout",
     "output_type": "stream",
     "text": [
      "epoch: 5, [batch: 11340 / 12600], examples_per_second: 3325.5934, train_label_loss: 0.0981, \n"
     ]
    },
    {
     "name": "stdout",
     "output_type": "stream",
     "text": [
      "=============================================================\n",
      "epoch: 5, source_val_acc_label: 0.8746, target_val_acc_label: 0.7723, source_val_label_loss: 0.3563, target_val_label_loss: 0.7320, \n",
      "=============================================================\n"
     ]
    },
    {
     "name": "stdout",
     "output_type": "stream",
     "text": [
      "epoch: 6, [batch: 1 / 12600], examples_per_second: 3.1626, train_label_loss: 0.2916, \n"
     ]
    },
    {
     "name": "stdout",
     "output_type": "stream",
     "text": [
      "epoch: 6, [batch: 1260 / 12600], examples_per_second: 3314.0773, train_label_loss: 0.0909, \n"
     ]
    },
    {
     "name": "stdout",
     "output_type": "stream",
     "text": [
      "epoch: 6, [batch: 2520 / 12600], examples_per_second: 3325.6950, train_label_loss: 0.1710, \n"
     ]
    },
    {
     "name": "stdout",
     "output_type": "stream",
     "text": [
      "epoch: 6, [batch: 3780 / 12600], examples_per_second: 3337.6214, train_label_loss: 0.3118, \n"
     ]
    },
    {
     "name": "stdout",
     "output_type": "stream",
     "text": [
      "epoch: 6, [batch: 5040 / 12600], examples_per_second: 3317.0040, train_label_loss: 0.2271, \n"
     ]
    },
    {
     "name": "stdout",
     "output_type": "stream",
     "text": [
      "epoch: 6, [batch: 6300 / 12600], examples_per_second: 3324.1482, train_label_loss: 0.1087, \n"
     ]
    },
    {
     "name": "stdout",
     "output_type": "stream",
     "text": [
      "epoch: 6, [batch: 7560 / 12600], examples_per_second: 3322.4546, train_label_loss: 0.4637, \n"
     ]
    },
    {
     "name": "stdout",
     "output_type": "stream",
     "text": [
      "epoch: 6, [batch: 8820 / 12600], examples_per_second: 3313.6227, train_label_loss: 0.1282, \n"
     ]
    },
    {
     "name": "stdout",
     "output_type": "stream",
     "text": [
      "epoch: 6, [batch: 10080 / 12600], examples_per_second: 3319.4998, train_label_loss: 0.1768, \n"
     ]
    },
    {
     "name": "stdout",
     "output_type": "stream",
     "text": [
      "epoch: 6, [batch: 11340 / 12600], examples_per_second: 3323.2784, train_label_loss: 0.1643, \n"
     ]
    },
    {
     "name": "stdout",
     "output_type": "stream",
     "text": [
      "=============================================================\n",
      "epoch: 6, source_val_acc_label: 0.8803, target_val_acc_label: 0.7735, source_val_label_loss: 0.3484, target_val_label_loss: 0.7207, \n",
      "=============================================================\n"
     ]
    },
    {
     "name": "stdout",
     "output_type": "stream",
     "text": [
      "epoch: 7, [batch: 1 / 12600], examples_per_second: 3.1600, train_label_loss: 0.0996, \n"
     ]
    },
    {
     "name": "stdout",
     "output_type": "stream",
     "text": [
      "epoch: 7, [batch: 1260 / 12600], examples_per_second: 3311.3273, train_label_loss: 0.1052, \n"
     ]
    },
    {
     "name": "stdout",
     "output_type": "stream",
     "text": [
      "epoch: 7, [batch: 2520 / 12600], examples_per_second: 3297.3372, train_label_loss: 0.2145, \n"
     ]
    },
    {
     "name": "stdout",
     "output_type": "stream",
     "text": [
      "epoch: 7, [batch: 3780 / 12600], examples_per_second: 3314.8821, train_label_loss: 0.2688, \n"
     ]
    },
    {
     "name": "stdout",
     "output_type": "stream",
     "text": [
      "epoch: 7, [batch: 5040 / 12600], examples_per_second: 3314.4425, train_label_loss: 0.0687, \n"
     ]
    },
    {
     "name": "stdout",
     "output_type": "stream",
     "text": [
      "epoch: 7, [batch: 6300 / 12600], examples_per_second: 3327.9657, train_label_loss: 0.2274, \n"
     ]
    },
    {
     "name": "stdout",
     "output_type": "stream",
     "text": [
      "epoch: 7, [batch: 7560 / 12600], examples_per_second: 3322.3254, train_label_loss: 0.1832, \n"
     ]
    },
    {
     "name": "stdout",
     "output_type": "stream",
     "text": [
      "epoch: 7, [batch: 8820 / 12600], examples_per_second: 3308.3010, train_label_loss: 0.0663, \n"
     ]
    },
    {
     "name": "stdout",
     "output_type": "stream",
     "text": [
      "epoch: 7, [batch: 10080 / 12600], examples_per_second: 3314.9943, train_label_loss: 0.0717, \n"
     ]
    },
    {
     "name": "stdout",
     "output_type": "stream",
     "text": [
      "epoch: 7, [batch: 11340 / 12600], examples_per_second: 3321.9259, train_label_loss: 0.2521, \n"
     ]
    },
    {
     "name": "stdout",
     "output_type": "stream",
     "text": [
      "=============================================================\n",
      "epoch: 7, source_val_acc_label: 0.8759, target_val_acc_label: 0.7696, source_val_label_loss: 0.3639, target_val_label_loss: 0.7535, \n",
      "=============================================================\n"
     ]
    },
    {
     "name": "stdout",
     "output_type": "stream",
     "text": [
      "Patience (3) exhausted\n"
     ]
    }
   ],
   "source": [
    "###################################\n",
    "# train\n",
    "###################################\n",
    "jig = PTN_Train_Eval_Test_Jig(model, p.BEST_MODEL_PATH, p.device)\n",
    "\n",
    "jig.train(\n",
    "    train_iterable=datasets.source.processed.train,\n",
    "    source_val_iterable=datasets.source.processed.val,\n",
    "    target_val_iterable=datasets.target.processed.val,\n",
    "    num_epochs=p.n_epoch,\n",
    "    num_logs_per_epoch=p.NUM_LOGS_PER_EPOCH,\n",
    "    patience=p.patience,\n",
    "    optimizer=optimizer,\n",
    "    criteria_for_best=p.criteria_for_best,\n",
    ")"
   ]
  },
  {
   "cell_type": "code",
   "execution_count": 14,
   "id": "31e8fabf",
   "metadata": {
    "execution": {
     "iopub.execute_input": "2022-03-05T23:31:16.176515Z",
     "iopub.status.busy": "2022-03-05T23:31:16.176251Z",
     "iopub.status.idle": "2022-03-05T23:31:16.194146Z",
     "shell.execute_reply": "2022-03-05T23:31:16.193710Z"
    },
    "papermill": {
     "duration": 0.045812,
     "end_time": "2022-03-05T23:31:16.194253",
     "exception": false,
     "start_time": "2022-03-05T23:31:16.148441",
     "status": "completed"
    },
    "tags": []
   },
   "outputs": [],
   "source": [
    "total_experiment_time_secs = time.time() - start_time_secs"
   ]
  },
  {
   "cell_type": "code",
   "execution_count": 15,
   "id": "87b9595b",
   "metadata": {
    "execution": {
     "iopub.execute_input": "2022-03-05T23:31:16.253189Z",
     "iopub.status.busy": "2022-03-05T23:31:16.252891Z",
     "iopub.status.idle": "2022-03-05T23:33:01.227157Z",
     "shell.execute_reply": "2022-03-05T23:33:01.227537Z"
    },
    "papermill": {
     "duration": 105.00582,
     "end_time": "2022-03-05T23:33:01.227670",
     "exception": false,
     "start_time": "2022-03-05T23:31:16.221850",
     "status": "completed"
    },
    "tags": []
   },
   "outputs": [],
   "source": [
    "###################################\n",
    "# Evaluate the model\n",
    "###################################\n",
    "source_test_label_accuracy, source_test_label_loss = jig.test(datasets.source.processed.test)\n",
    "target_test_label_accuracy, target_test_label_loss = jig.test(datasets.target.processed.test)\n",
    "\n",
    "source_val_label_accuracy, source_val_label_loss = jig.test(datasets.source.processed.val)\n",
    "target_val_label_accuracy, target_val_label_loss = jig.test(datasets.target.processed.val)\n",
    "\n",
    "history = jig.get_history()\n",
    "\n",
    "total_epochs_trained = len(history[\"epoch_indices\"])\n",
    "\n",
    "val_dl = Iterable_Aggregator((datasets.source.original.val,datasets.target.original.val))\n",
    "\n",
    "confusion = ptn_confusion_by_domain_over_dataloader(model, p.device, val_dl)\n",
    "per_domain_accuracy = per_domain_accuracy_from_confusion(confusion)\n",
    "\n",
    "# Add a key to per_domain_accuracy for if it was a source domain\n",
    "for domain, accuracy in per_domain_accuracy.items():\n",
    "    per_domain_accuracy[domain] = {\n",
    "        \"accuracy\": accuracy,\n",
    "        \"source?\": domain in p.domains_source\n",
    "    }\n",
    "\n",
    "# Do an independent accuracy assesment JUST TO BE SURE!\n",
    "# _source_test_label_accuracy = independent_accuracy_assesment(model, datasets.source.processed.test, p.device)\n",
    "# _target_test_label_accuracy = independent_accuracy_assesment(model, datasets.target.processed.test, p.device)\n",
    "# _source_val_label_accuracy = independent_accuracy_assesment(model, datasets.source.processed.val, p.device)\n",
    "# _target_val_label_accuracy = independent_accuracy_assesment(model, datasets.target.processed.val, p.device)\n",
    "\n",
    "# assert(_source_test_label_accuracy == source_test_label_accuracy)\n",
    "# assert(_target_test_label_accuracy == target_test_label_accuracy)\n",
    "# assert(_source_val_label_accuracy == source_val_label_accuracy)\n",
    "# assert(_target_val_label_accuracy == target_val_label_accuracy)\n",
    "\n",
    "experiment = {\n",
    "    \"experiment_name\": p.experiment_name,\n",
    "    \"parameters\": dict(p),\n",
    "    \"results\": {\n",
    "        \"source_test_label_accuracy\": source_test_label_accuracy,\n",
    "        \"source_test_label_loss\": source_test_label_loss,\n",
    "        \"target_test_label_accuracy\": target_test_label_accuracy,\n",
    "        \"target_test_label_loss\": target_test_label_loss,\n",
    "        \"source_val_label_accuracy\": source_val_label_accuracy,\n",
    "        \"source_val_label_loss\": source_val_label_loss,\n",
    "        \"target_val_label_accuracy\": target_val_label_accuracy,\n",
    "        \"target_val_label_loss\": target_val_label_loss,\n",
    "        \"total_epochs_trained\": total_epochs_trained,\n",
    "        \"total_experiment_time_secs\": total_experiment_time_secs,\n",
    "        \"confusion\": confusion,\n",
    "        \"per_domain_accuracy\": per_domain_accuracy,\n",
    "    },\n",
    "    \"history\": history,\n",
    "    \"dataset_metrics\": get_dataset_metrics(datasets, \"ptn\"),\n",
    "}"
   ]
  },
  {
   "cell_type": "code",
   "execution_count": 16,
   "id": "54a21829",
   "metadata": {
    "execution": {
     "iopub.execute_input": "2022-03-05T23:33:01.283289Z",
     "iopub.status.busy": "2022-03-05T23:33:01.282175Z",
     "iopub.status.idle": "2022-03-05T23:33:01.463553Z",
     "shell.execute_reply": "2022-03-05T23:33:01.463958Z"
    },
    "papermill": {
     "duration": 0.208256,
     "end_time": "2022-03-05T23:33:01.464085",
     "exception": false,
     "start_time": "2022-03-05T23:33:01.255829",
     "status": "completed"
    },
    "tags": []
   },
   "outputs": [
    {
     "data": {
      "image/png": "[encoded data removed]",
      "text/plain": [
       "<Figure size 1080x504 with 1 Axes>"
      ]
     },
     "metadata": {
      "needs_background": "light"
     },
     "output_type": "display_data"
    }
   ],
   "source": [
    "ax = get_loss_curve(experiment)\n",
    "plt.show()"
   ]
  },
  {
   "cell_type": "code",
   "execution_count": 17,
   "id": "fd8a0f60",
   "metadata": {
    "execution": {
     "iopub.execute_input": "2022-03-05T23:33:01.522621Z",
     "iopub.status.busy": "2022-03-05T23:33:01.522363Z",
     "iopub.status.idle": "2022-03-05T23:33:01.701802Z",
     "shell.execute_reply": "2022-03-05T23:33:01.701524Z"
    },
    "papermill": {
     "duration": 0.208072,
     "end_time": "2022-03-05T23:33:01.701864",
     "exception": false,
     "start_time": "2022-03-05T23:33:01.493792",
     "status": "completed"
    },
    "tags": []
   },
   "outputs": [
    {
     "data": {
      "text/plain": [
       "<matplotlib.axes._subplots.AxesSubplot at 0x7f9bdaa168b0>"
      ]
     },
     "execution_count": 17,
     "metadata": {},
     "output_type": "execute_result"
    },
    {
     "data": {
      "image/png": "[encoded data removed]",
      "text/plain": [
       "<Figure size 1080x504 with 1 Axes>"
      ]
     },
     "metadata": {
      "needs_background": "light"
     },
     "output_type": "display_data"
    }
   ],
   "source": [
    "get_results_table(experiment)"
   ]
  },
  {
   "cell_type": "code",
   "execution_count": 18,
   "id": "cf8dc689",
   "metadata": {
    "execution": {
     "iopub.execute_input": "2022-03-05T23:33:01.762145Z",
     "iopub.status.busy": "2022-03-05T23:33:01.761603Z",
     "iopub.status.idle": "2022-03-05T23:33:01.940058Z",
     "shell.execute_reply": "2022-03-05T23:33:01.940475Z"
    },
    "papermill": {
     "duration": 0.208183,
     "end_time": "2022-03-05T23:33:01.940604",
     "exception": false,
     "start_time": "2022-03-05T23:33:01.732421",
     "status": "completed"
    },
    "tags": []
   },
   "outputs": [
    {
     "data": {
      "text/plain": [
       "<matplotlib.axes._subplots.AxesSubplot at 0x7f9bdaa0c550>"
      ]
     },
     "execution_count": 18,
     "metadata": {},
     "output_type": "execute_result"
    },
    {
     "data": {
      "image/png": "[encoded data removed]",
      "text/plain": [
       "<Figure size 1080x504 with 1 Axes>"
      ]
     },
     "metadata": {
      "needs_background": "light"
     },
     "output_type": "display_data"
    }
   ],
   "source": [
    "get_domain_accuracies(experiment)"
   ]
  },
  {
   "cell_type": "code",
   "execution_count": 19,
   "id": "a74ae082",
   "metadata": {
    "execution": {
     "iopub.execute_input": "2022-03-05T23:33:02.001997Z",
     "iopub.status.busy": "2022-03-05T23:33:02.001733Z",
     "iopub.status.idle": "2022-03-05T23:33:02.017427Z",
     "shell.execute_reply": "2022-03-05T23:33:02.017005Z"
    },
    "papermill": {
     "duration": 0.045796,
     "end_time": "2022-03-05T23:33:02.017536",
     "exception": false,
     "start_time": "2022-03-05T23:33:01.971740",
     "status": "completed"
    },
    "tags": []
   },
   "outputs": [
    {
     "name": "stdout",
     "output_type": "stream",
     "text": [
      "Source Test Label Accuracy: 0.8645138888888889 Target Test Label Accuracy: 0.7641666666666667\n",
      "Source Val Label Accuracy: 0.8623090277777777 Target Val Label Accuracy: 0.7705208333333333\n"
     ]
    }
   ],
   "source": [
    "print(\"Source Test Label Accuracy:\", experiment[\"results\"][\"source_test_label_accuracy\"], \"Target Test Label Accuracy:\", experiment[\"results\"][\"target_test_label_accuracy\"])\n",
    "print(\"Source Val Label Accuracy:\", experiment[\"results\"][\"source_val_label_accuracy\"], \"Target Val Label Accuracy:\", experiment[\"results\"][\"target_val_label_accuracy\"])"
   ]
  },
  {
   "cell_type": "code",
   "execution_count": 20,
   "id": "dacca602",
   "metadata": {
    "execution": {
     "iopub.execute_input": "2022-03-05T23:33:02.079614Z",
     "iopub.status.busy": "2022-03-05T23:33:02.079352Z",
     "iopub.status.idle": "2022-03-05T23:33:02.094138Z",
     "shell.execute_reply": "2022-03-05T23:33:02.094555Z"
    },
    "papermill": {
     "duration": 0.044694,
     "end_time": "2022-03-05T23:33:02.094684",
     "exception": false,
     "start_time": "2022-03-05T23:33:02.049990",
     "status": "completed"
    },
    "tags": [
     "experiment_json"
    ]
   },
   "outputs": [
    {
     "data": {
      "text/plain": [
       "'{\"experiment_name\": \"tuned_1_oracle.run1\", \"parameters\": {\"experiment_name\": \"tuned_1_oracle.run1\", \"device\": \"cuda\", \"lr\": 0.001, \"seed\": 1337, \"dataset_seed\": 1337, \"labels_source\": [\"3123D52\", \"3123D65\", \"3123D79\", \"3123D80\", \"3123D54\", \"3123D70\", \"3123D7B\", \"3123D89\", \"3123D58\", \"3123D76\", \"3123D7D\", \"3123EFE\", \"3123D64\", \"3123D78\", \"3123D7E\", \"3124E4A\"], \"labels_target\": [\"3123D52\", \"3123D65\", \"3123D79\", \"3123D80\", \"3123D54\", \"3123D70\", \"3123D7B\", \"3123D89\", \"3123D58\", \"3123D76\", \"3123D7D\", \"3123EFE\", \"3123D64\", \"3123D78\", \"3123D7E\", \"3124E4A\"], \"x_transforms_source\": [], \"x_transforms_target\": [], \"episode_transforms_source\": [], \"episode_transforms_target\": [], \"domains_source\": [8, 32, 50], \"domains_target\": [14, 20, 26, 38, 44], \"num_examples_per_domain_per_label_source\": 10000, \"num_examples_per_domain_per_label_target\": 1000, \"n_shot\": 3, \"n_way\": 16, \"n_query\": 2, \"train_k_factor\": 3, \"val_k_factor\": 2, \"test_k_factor\": 2, \"torch_default_dtype\": \"torch.float32\", \"n_epoch\": 50, \"patience\": 3, \"criteria_for_best\": \"target_loss\", \"x_net\": [{\"class\": \"nnReshape\", \"kargs\": {\"shape\": [-1, 1, 2, 256]}}, {\"class\": \"Conv2d\", \"kargs\": {\"in_channels\": 1, \"out_channels\": 256, \"kernel_size\": [1, 7], \"bias\": false, \"padding\": [0, 3]}}, {\"class\": \"ReLU\", \"kargs\": {\"inplace\": true}}, {\"class\": \"BatchNorm2d\", \"kargs\": {\"num_features\": 256}}, {\"class\": \"Conv2d\", \"kargs\": {\"in_channels\": 256, \"out_channels\": 80, \"kernel_size\": [2, 7], \"bias\": true, \"padding\": [0, 3]}}, {\"class\": \"ReLU\", \"kargs\": {\"inplace\": true}}, {\"class\": \"BatchNorm2d\", \"kargs\": {\"num_features\": 80}}, {\"class\": \"Flatten\", \"kargs\": {}}, {\"class\": \"Linear\", \"kargs\": {\"in_features\": 20480, \"out_features\": 256}}, {\"class\": \"ReLU\", \"kargs\": {\"inplace\": true}}, {\"class\": \"BatchNorm1d\", \"kargs\": {\"num_features\": 256}}, {\"class\": \"Linear\", \"kargs\": {\"in_features\": 256, \"out_features\": 256}}], \"NUM_LOGS_PER_EPOCH\": 10, \"BEST_MODEL_PATH\": \"./best_model.pth\", \"pickle_name\": \"oracle.Run1_10kExamples_stratified_ds.2022A.pkl\"}, \"results\": {\"source_test_label_accuracy\": 0.8645138888888889, \"source_test_label_loss\": 0.38063815236091614, \"target_test_label_accuracy\": 0.7641666666666667, \"target_test_label_loss\": 0.6900032162666321, \"source_val_label_accuracy\": 0.8623090277777777, \"source_val_label_loss\": 0.38887688517570496, \"target_val_label_accuracy\": 0.7705208333333333, \"target_val_label_loss\": 0.6923699378967285, \"total_epochs_trained\": 7, \"total_experiment_time_secs\": 2310.2699456214905, \"confusion\": {\"8\": {\"15\": {\"2\": 40, \"15\": 950, \"12\": 210}, \"3\": {\"3\": 1185, \"2\": 15}, \"6\": {\"6\": 968, \"7\": 172, \"8\": 4, \"13\": 27, \"4\": 13, \"1\": 5, \"10\": 11}, \"1\": {\"1\": 874, \"11\": 206, \"5\": 35, \"10\": 64, \"4\": 17, \"13\": 3, \"6\": 1}, \"8\": {\"8\": 1153, \"6\": 24, \"11\": 7, \"4\": 13, \"14\": 2, \"7\": 1}, \"10\": {\"10\": 920, \"13\": 126, \"1\": 77, \"5\": 62, \"4\": 7, \"11\": 2, \"6\": 6}, \"9\": {\"9\": 1200}, \"13\": {\"13\": 966, \"10\": 140, \"7\": 70, \"6\": 21, \"1\": 3}, \"12\": {\"12\": 851, \"15\": 339, \"2\": 10}, \"5\": {\"5\": 997, \"11\": 22, \"10\": 90, \"1\": 84, \"13\": 4, \"4\": 2, \"14\": 1}, \"0\": {\"0\": 1198, \"14\": 2}, \"2\": {\"2\": 930, \"12\": 87, \"3\": 119, \"15\": 64}, \"11\": {\"11\": 741, \"1\": 350, \"5\": 6, \"8\": 18, \"14\": 40, \"10\": 4, \"4\": 37, \"6\": 4}, \"14\": {\"14\": 1107, \"4\": 70, \"11\": 21, \"1\": 2}, \"7\": {\"7\": 1032, \"6\": 136, \"13\": 30, \"8\": 1, \"10\": 1}, \"4\": {\"4\": 1098, \"8\": 19, \"6\": 15, \"14\": 29, \"11\": 30, \"1\": 8, \"10\": 1}}, \"50\": {\"3\": {\"3\": 1200}, \"15\": {\"15\": 1107, \"11\": 22, \"6\": 61, \"5\": 2, \"9\": 4, \"4\": 4}, \"8\": {\"8\": 1193, \"10\": 7}, \"4\": {\"4\": 1019, \"7\": 98, \"5\": 45, \"6\": 19, \"15\": 19}, \"14\": {\"14\": 1199, \"2\": 1}, \"0\": {\"0\": 1073, \"2\": 112, \"10\": 15}, \"7\": {\"7\": 1108, \"4\": 32, \"5\": 60}, \"6\": {\"15\": 93, \"6\": 1017, \"5\": 90}, \"10\": {\"10\": 1174, \"0\": 17, \"8\": 9}, \"5\": {\"7\": 293, \"6\": 231, \"4\": 65, \"5\": 546, \"13\": 50, \"15\": 8, \"1\": 7}, \"2\": {\"2\": 1112, \"0\": 88}, \"12\": {\"12\": 1078, \"9\": 91, \"11\": 31}, \"9\": {\"9\": 1003, \"11\": 67, \"12\": 125, \"15\": 5}, \"1\": {\"1\": 1167, \"13\": 29, \"10\": 1, \"11\": 3}, \"11\": {\"11\": 1122, \"15\": 21, \"12\": 38, \"9\": 19}, \"13\": {\"13\": 1193, \"1\": 7}}, \"32\": {\"5\": {\"7\": 279, \"8\": 136, \"5\": 629, \"0\": 98, \"14\": 56, \"15\": 2}, \"8\": {\"8\": 840, \"14\": 50, \"0\": 135, \"5\": 95, \"7\": 41, \"4\": 23, \"2\": 7, \"13\": 1, \"15\": 7, \"3\": 1}, \"11\": {\"11\": 1186, \"13\": 12, \"3\": 2}, \"1\": {\"1\": 1200}, \"10\": {\"10\": 1200}, \"15\": {\"15\": 1186, \"8\": 12, \"5\": 2}, \"3\": {\"3\": 1132, \"13\": 65, \"4\": 2, \"11\": 1}, \"7\": {\"7\": 731, \"14\": 120, \"5\": 199, \"0\": 126, \"8\": 24}, \"4\": {\"4\": 1025, \"2\": 141, \"13\": 32, \"8\": 1, \"3\": 1}, \"14\": {\"0\": 47, \"14\": 691, \"4\": 26, \"2\": 45, \"7\": 240, \"5\": 84, \"8\": 67}, \"9\": {\"12\": 24, \"9\": 1175, \"2\": 1}, \"12\": {\"12\": 1200}, \"6\": {\"6\": 1200}, \"2\": {\"2\": 1062, \"4\": 134, \"14\": 3, \"0\": 1}, \"0\": {\"0\": 879, \"5\": 68, \"7\": 146, \"14\": 20, \"8\": 83, \"2\": 4}, \"13\": {\"13\": 852, \"4\": 141, \"3\": 159, \"11\": 48}}, \"14\": {\"15\": {\"15\": 120}, \"3\": {\"3\": 110, \"13\": 3, \"14\": 4, \"2\": 3}, \"6\": {\"6\": 79, \"14\": 12, \"13\": 21, \"3\": 6, \"2\": 2}, \"1\": {\"1\": 119, \"4\": 1}, \"8\": {\"8\": 119, \"0\": 1}, \"10\": {\"10\": 120}, \"9\": {\"9\": 120}, \"13\": {\"15\": 15, \"13\": 29, \"6\": 36, \"14\": 25, \"2\": 5, \"4\": 10}, \"12\": {\"12\": 120}, \"5\": {\"5\": 104, \"14\": 1, \"2\": 10, \"13\": 1, \"4\": 3, \"7\": 1}, \"0\": {\"4\": 3, \"0\": 97, \"8\": 4, \"3\": 12, \"14\": 1, \"10\": 3}, \"2\": {\"5\": 20, \"2\": 40, \"14\": 14, \"4\": 21, \"7\": 2, \"6\": 12, \"3\": 3, \"13\": 8}, \"11\": {\"11\": 120}, \"14\": {\"14\": 74, \"2\": 19, \"13\": 14, \"6\": 5, \"5\": 4, \"3\": 4}, \"7\": {\"7\": 118, \"2\": 1, \"5\": 1}, \"4\": {\"4\": 116, \"1\": 1, \"5\": 2, \"2\": 1}}, \"20\": {\"3\": {\"15\": 4, \"9\": 31, \"3\": 49, \"1\": 9, \"12\": 6, \"5\": 12, \"7\": 3, \"8\": 5, \"2\": 1}, \"15\": {\"1\": 20, \"12\": 16, \"15\": 67, \"5\": 7, \"9\": 4, \"2\": 2, \"3\": 1, \"13\": 3}, \"8\": {\"7\": 8, \"8\": 70, \"2\": 5, \"3\": 15, \"14\": 10, \"9\": 8, \"4\": 2, \"5\": 1, \"6\": 1}, \"4\": {\"4\": 107, \"12\": 6, \"7\": 2, \"6\": 1, \"9\": 1, \"10\": 2, \"2\": 1}, \"14\": {\"14\": 95, \"6\": 18, \"8\": 7}, \"0\": {\"0\": 106, \"5\": 11, \"3\": 2, \"1\": 1}, \"7\": {\"7\": 67, \"2\": 29, \"3\": 1, \"13\": 3, \"6\": 9, \"12\": 2, \"14\": 1, \"8\": 3, \"9\": 4, \"4\": 1}, \"6\": {\"6\": 101, \"14\": 11, \"7\": 4, \"10\": 3, \"4\": 1}, \"10\": {\"10\": 112, \"4\": 7, \"6\": 1}, \"5\": {\"3\": 5, \"5\": 51, \"12\": 3, \"9\": 6, \"1\": 39, \"15\": 15, \"2\": 1}, \"2\": {\"7\": 26, \"9\": 9, \"13\": 21, \"2\": 47, \"12\": 12, \"5\": 1, \"15\": 1, \"4\": 3}, \"12\": {\"2\": 12, \"15\": 16, \"9\": 6, \"12\": 60, \"1\": 7, \"13\": 4, \"4\": 11, \"3\": 3, \"5\": 1}, \"9\": {\"9\": 53, \"7\": 8, \"13\": 3, \"1\": 6, \"3\": 18, \"5\": 5, \"2\": 12, \"15\": 4, \"12\": 8, \"8\": 3}, \"1\": {\"1\": 39, \"9\": 7, \"5\": 32, \"15\": 26, \"12\": 4, \"3\": 11, \"0\": 1}, \"11\": {\"11\": 119, \"8\": 1}, \"13\": {\"9\": 6, \"13\": 70, \"2\": 28, \"12\": 12, \"7\": 4}}, \"44\": {\"5\": {\"5\": 108, \"15\": 10, \"14\": 1, \"8\": 1}, \"8\": {\"0\": 27, \"8\": 83, \"15\": 6, \"5\": 4}, \"11\": {\"11\": 120}, \"1\": {\"1\": 108, \"2\": 10, \"10\": 2}, \"10\": {\"10\": 109, \"2\": 4, \"7\": 7}, \"15\": {\"15\": 95, \"5\": 8, \"14\": 9, \"8\": 7, \"0\": 1}, \"3\": {\"3\": 112, \"12\": 8}, \"7\": {\"7\": 105, \"9\": 14, \"10\": 1}, \"4\": {\"4\": 65, \"15\": 2, \"14\": 51, \"9\": 1, \"6\": 1}, \"14\": {\"14\": 80, \"4\": 30, \"5\": 2, \"15\": 8}, \"9\": {\"6\": 16, \"7\": 40, \"13\": 16, \"9\": 44, \"2\": 3, \"4\": 1}, \"12\": {\"12\": 117, \"3\": 3}, \"6\": {\"6\": 109, \"13\": 6, \"9\": 5}, \"2\": {\"2\": 111, \"1\": 9}, \"0\": {\"0\": 106, \"8\": 14}, \"13\": {\"9\": 3, \"13\": 97, \"6\": 20}}, \"38\": {\"14\": {\"2\": 19, \"14\": 101}, \"0\": {\"10\": 18, \"0\": 78, \"7\": 17, \"3\": 2, \"4\": 2, \"13\": 2, \"8\": 1}, \"13\": {\"13\": 113, \"10\": 7}, \"7\": {\"7\": 118, \"9\": 1, \"8\": 1}, \"9\": {\"9\": 115, \"5\": 3, \"8\": 2}, \"3\": {\"3\": 120}, \"11\": {\"11\": 120}, \"6\": {\"6\": 120}, \"8\": {\"8\": 59, \"7\": 20, \"5\": 37, \"15\": 1, \"0\": 1, \"12\": 1, \"9\": 1}, \"4\": {\"4\": 119, \"10\": 1}, \"5\": {\"9\": 6, \"8\": 46, \"5\": 56, \"7\": 5, \"15\": 6, \"12\": 1}, \"10\": {\"10\": 115, \"0\": 1, \"13\": 3, \"4\": 1}, \"1\": {\"1\": 120}, \"2\": {\"14\": 17, \"2\": 103}, \"15\": {\"15\": 104, \"1\": 7, \"5\": 5, \"8\": 4}, \"12\": {\"12\": 120}}, \"26\": {\"13\": {\"13\": 99, \"7\": 3, \"2\": 5, \"9\": 10, \"8\": 2, \"4\": 1}, \"2\": {\"3\": 8, \"7\": 21, \"2\": 49, \"8\": 22, \"14\": 1, \"9\": 9, \"0\": 10}, \"8\": {\"9\": 23, \"7\": 27, \"8\": 63, \"2\": 4, \"0\": 2, \"13\": 1}, \"9\": {\"13\": 13, \"9\": 60, \"8\": 34, \"0\": 6, \"7\": 2, \"2\": 4, \"3\": 1}, \"12\": {\"12\": 120}, \"4\": {\"4\": 120}, \"3\": {\"3\": 101, \"7\": 15, \"4\": 1, \"2\": 1, \"8\": 2}, \"15\": {\"15\": 63, \"10\": 11, \"1\": 6, \"5\": 22, \"6\": 14, \"0\": 3, \"14\": 1}, \"14\": {\"14\": 70, \"10\": 28, \"15\": 6, \"5\": 2, \"1\": 3, \"0\": 10, \"6\": 1}, \"10\": {\"0\": 21, \"10\": 64, \"14\": 27, \"5\": 2, \"6\": 3, \"1\": 1, \"15\": 2}, \"7\": {\"7\": 71, \"3\": 12, \"2\": 22, \"8\": 11, \"9\": 4}, \"11\": {\"11\": 120}, \"6\": {\"6\": 81, \"14\": 1, \"5\": 8, \"10\": 10, \"15\": 13, \"1\": 6, \"0\": 1}, \"1\": {\"1\": 87, \"14\": 17, \"10\": 4, \"6\": 7, \"5\": 2, \"15\": 3}, \"5\": {\"5\": 84, \"15\": 25, \"6\": 9, \"1\": 2}, \"0\": {\"0\": 77, \"8\": 6, \"9\": 3, \"10\": 17, \"14\": 12, \"15\": 3, \"2\": 1, \"1\": 1}}}, \"per_domain_accuracy\": {\"8\": {\"accuracy\": 0.8421875, \"source?\": true}, \"50\": {\"accuracy\": 0.9016145833333333, \"source?\": true}, \"32\": {\"accuracy\": 0.843125, \"source?\": true}, \"14\": {\"accuracy\": 0.8359375, \"source?\": false}, \"20\": {\"accuracy\": 0.6317708333333333, \"source?\": false}, \"44\": {\"accuracy\": 0.8171875, \"source?\": false}, \"38\": {\"accuracy\": 0.8755208333333333, \"source?\": false}, \"26\": {\"accuracy\": 0.6921875, \"source?\": false}}}, \"history\": {\"epoch_indices\": [1, 2, 3, 4, 5, 6, 7], \"train_label_loss\": [0.6562741358708295, 0.46706214968942933, 0.3637266359090923, 0.31213543250299397, 0.27733966483985856, 0.25411539908661135, 0.23437342975170367], \"source_val_label_loss\": [0.9800846576690674, 0.43173858523368835, 0.38887688517570496, 0.3760434091091156, 0.3563230335712433, 0.3484277129173279, 0.36389291286468506], \"target_val_label_loss\": [1.124690294265747, 0.7546117901802063, 0.6923699378967285, 0.7094531059265137, 0.7319927215576172, 0.7207291722297668, 0.7535384297370911], \"source_val_acc_label\": [0.7413194444444444, 0.8467013888888889, 0.8623090277777777, 0.8654861111111111, 0.8746180555555556, 0.8802604166666667, 0.8758506944444444], \"target_val_acc_label\": [0.7036458333333333, 0.7630208333333334, 0.7705208333333333, 0.7703125, 0.7722916666666667, 0.7735416666666667, 0.7695833333333333]}, \"dataset_metrics\": {\"source\": {\"train\": {\"n_unique_x\": 336000, \"n_unique_y\": 16, \"n_batch/episode\": 12600}, \"val\": {\"n_unique_x\": 72000, \"n_unique_y\": 16, \"n_batch/episode\": 1800}, \"test\": {\"n_unique_x\": 72000, \"n_unique_y\": 16, \"n_batch/episode\": 1800}}, \"target\": {\"train\": {\"n_unique_x\": 56000, \"n_unique_y\": 16, \"n_batch/episode\": 2100}, \"val\": {\"n_unique_x\": 12000, \"n_unique_y\": 16, \"n_batch/episode\": 300}, \"test\": {\"n_unique_x\": 12000, \"n_unique_y\": 16, \"n_batch/episode\": 300}}}}'"
      ]
     },
     "execution_count": 20,
     "metadata": {},
     "output_type": "execute_result"
    }
   ],
   "source": [
    "json.dumps(experiment)"
   ]
  }
 ],
 "metadata": {
  "celltoolbar": "Tags",
  "kernelspec": {
   "display_name": "Python 3 (ipykernel)",
   "language": "python",
   "name": "python3"
  },
  "language_info": {
   "codemirror_mode": {
    "name": "ipython",
    "version": 3
   },
   "file_extension": ".py",
   "mimetype": "text/x-python",
   "name": "python",
   "nbconvert_exporter": "python",
   "pygments_lexer": "ipython3",
   "version": "3.8.10"
  },
  "papermill": {
   "default_parameters": {},
   "duration": 2419.091623,
   "end_time": "2022-03-05T23:33:03.038000",
   "environment_variables": {},
   "exception": null,
   "input_path": "/mnt/wd500GB/CSC500/csc500-main/csc500-notebooks/templates/ptn_template.ipynb",
   "output_path": "trial.ipynb",
   "parameters": {
    "parameters": {
     "BEST_MODEL_PATH": "./best_model.pth",
     "NUM_LOGS_PER_EPOCH": 10,
     "criteria_for_best": "target_loss",
     "dataset_seed": 1337,
     "device": "cuda",
     "domains_source": [
      8,
      32,
      50
     ],
     "domains_target": [
      14,
      20,
      26,
      38,
      44
     ],
     "episode_transforms_source": [],
     "episode_transforms_target": [],
     "experiment_name": "tuned_1_oracle.run1",
     "labels_source": [
      "3123D52",
      "3123D65",
      "3123D79",
      "3123D80",
      "3123D54",
      "3123D70",
      "3123D7B",
      "3123D89",
      "3123D58",
      "3123D76",
      "3123D7D",
      "3123EFE",
      "3123D64",
      "3123D78",
      "3123D7E",
      "3124E4A"
     ],
     "labels_target": [
      "3123D52",
      "3123D65",
      "3123D79",
      "3123D80",
      "3123D54",
      "3123D70",
      "3123D7B",
      "3123D89",
      "3123D58",
      "3123D76",
      "3123D7D",
      "3123EFE",
      "3123D64",
      "3123D78",
      "3123D7E",
      "3124E4A"
     ],
     "lr": 0.001,
     "n_epoch": 50,
     "n_query": 2,
     "n_shot": 3,
     "n_way": 16,
     "num_examples_per_domain_per_label_source": 10000,
     "num_examples_per_domain_per_label_target": 1000,
     "patience": 3,
     "pickle_name": "oracle.Run1_10kExamples_stratified_ds.2022A.pkl",
     "seed": 1337,
     "test_k_factor": 2,
     "torch_default_dtype": "torch.float32",
     "train_k_factor": 3,
     "val_k_factor": 2,
     "x_net": [
      {
       "class": "nnReshape",
       "kargs": {
        "shape": [
         -1,
         1,
         2,
         256
        ]
       }
      },
      {
       "class": "Conv2d",
       "kargs": {
        "bias": false,
        "in_channels": 1,
        "kernel_size": [
         1,
         7
        ],
        "out_channels": 256,
        "padding": [
         0,
         3
        ]
       }
      },
      {
       "class": "ReLU",
       "kargs": {
        "inplace": true
       }
      },
      {
       "class": "BatchNorm2d",
       "kargs": {
        "num_features": 256
       }
      },
      {
       "class": "Conv2d",
       "kargs": {
        "bias": true,
        "in_channels": 256,
        "kernel_size": [
         2,
         7
        ],
        "out_channels": 80,
        "padding": [
         0,
         3
        ]
       }
      },
      {
       "class": "ReLU",
       "kargs": {
        "inplace": true
       }
      },
      {
       "class": "BatchNorm2d",
       "kargs": {
        "num_features": 80
       }
      },
      {
       "class": "Flatten",
       "kargs": {}
      },
      {
       "class": "Linear",
       "kargs": {
        "in_features": 20480,
        "out_features": 256
       }
      },
      {
       "class": "ReLU",
       "kargs": {
        "inplace": true
       }
      },
      {
       "class": "BatchNorm1d",
       "kargs": {
        "num_features": 256
       }
      },
      {
       "class": "Linear",
       "kargs": {
        "in_features": 256,
        "out_features": 256
       }
      }
     ],
     "x_transforms_source": [],
     "x_transforms_target": []
    }
   },
   "start_time": "2022-03-05T22:52:43.946377",
   "version": "2.3.4"
  }
 },
 "nbformat": 4,
 "nbformat_minor": 5
}