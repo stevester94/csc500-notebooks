{
 "cells": [
  {
   "cell_type": "markdown",
   "id": "9fea5f46",
   "metadata": {
    "papermill": {
     "duration": 0.012654,
     "end_time": "2022-03-05T22:03:24.265208",
     "exception": false,
     "start_time": "2022-03-05T22:03:24.252554",
     "status": "completed"
    },
    "tags": []
   },
   "source": [
    "# PTN Template\n",
    "This notebook serves as a template for single dataset PTN experiments  \n",
    "It can be run on its own by setting STANDALONE to True (do a find for \"STANDALONE\" to see where)  \n",
    "But it is intended to be executed as part of a *papermill.py script. See any of the   \n",
    "experimentes with a papermill script to get started with that workflow.  "
   ]
  },
  {
   "cell_type": "code",
   "execution_count": 1,
   "id": "0902182a",
   "metadata": {
    "execution": {
     "iopub.execute_input": "2022-03-05T22:03:24.299482Z",
     "iopub.status.busy": "2022-03-05T22:03:24.299192Z",
     "iopub.status.idle": "2022-03-05T22:03:25.094216Z",
     "shell.execute_reply": "2022-03-05T22:03:25.093691Z"
    },
    "papermill": {
     "duration": 0.819994,
     "end_time": "2022-03-05T22:03:25.094340",
     "exception": false,
     "start_time": "2022-03-05T22:03:24.274346",
     "status": "completed"
    },
    "tags": []
   },
   "outputs": [],
   "source": [
    "%load_ext autoreload\n",
    "%autoreload 2\n",
    "%matplotlib inline\n",
    "\n",
    "    \n",
    "import os, json, sys, time, random\n",
    "import numpy as np\n",
    "import torch\n",
    "from torch.optim import Adam\n",
    "from  easydict import EasyDict\n",
    "import matplotlib.pyplot as plt\n",
    "\n",
    "from steves_models.steves_ptn import Steves_Prototypical_Network\n",
    "\n",
    "from steves_utils.lazy_iterable_wrapper import Lazy_Iterable_Wrapper\n",
    "from steves_utils.iterable_aggregator import Iterable_Aggregator\n",
    "from steves_utils.ptn_train_eval_test_jig import  PTN_Train_Eval_Test_Jig\n",
    "from steves_utils.torch_sequential_builder import build_sequential\n",
    "from steves_utils.torch_utils import get_dataset_metrics, ptn_confusion_by_domain_over_dataloader\n",
    "from steves_utils.utils_v2 import (per_domain_accuracy_from_confusion, get_datasets_base_path)\n",
    "from steves_utils.PTN.utils import independent_accuracy_assesment\n",
    "\n",
    "from steves_utils.stratified_dataset.episodic_accessor import Episodic_Accessor_Factory\n",
    "\n",
    "from steves_utils.ptn_do_report import (\n",
    "    get_loss_curve,\n",
    "    get_results_table,\n",
    "    get_parameters_table,\n",
    "    get_domain_accuracies,\n",
    ")\n",
    "\n",
    "from steves_utils.transforms import get_chained_transform"
   ]
  },
  {
   "cell_type": "markdown",
   "id": "41c840b4",
   "metadata": {
    "papermill": {
     "duration": 0.009359,
     "end_time": "2022-03-05T22:03:25.119834",
     "exception": false,
     "start_time": "2022-03-05T22:03:25.110475",
     "status": "completed"
    },
    "tags": []
   },
   "source": [
    "# Required Parameters\n",
    "These are allowed parameters, not defaults\n",
    "Each of these values need to be present in the injected parameters (the notebook will raise an exception if they are not present)\n",
    "\n",
    "Papermill uses the cell tag \"parameters\" to inject the real parameters below this cell.\n",
    "Enable tags to see what I mean"
   ]
  },
  {
   "cell_type": "code",
   "execution_count": 2,
   "id": "fd44eb83",
   "metadata": {
    "execution": {
     "iopub.execute_input": "2022-03-05T22:03:25.141658Z",
     "iopub.status.busy": "2022-03-05T22:03:25.139926Z",
     "iopub.status.idle": "2022-03-05T22:03:25.153154Z",
     "shell.execute_reply": "2022-03-05T22:03:25.152684Z"
    },
    "papermill": {
     "duration": 0.024075,
     "end_time": "2022-03-05T22:03:25.153249",
     "exception": false,
     "start_time": "2022-03-05T22:03:25.129174",
     "status": "completed"
    },
    "tags": []
   },
   "outputs": [],
   "source": [
    "required_parameters = {\n",
    "    \"experiment_name\",\n",
    "    \"lr\",\n",
    "    \"device\",\n",
    "    \"seed\",\n",
    "    \"dataset_seed\",\n",
    "    \"labels_source\",\n",
    "    \"labels_target\",\n",
    "    \"domains_source\",\n",
    "    \"domains_target\",\n",
    "    \"num_examples_per_domain_per_label_source\",\n",
    "    \"num_examples_per_domain_per_label_target\",\n",
    "    \"n_shot\",\n",
    "    \"n_way\",\n",
    "    \"n_query\",\n",
    "    \"train_k_factor\",\n",
    "    \"val_k_factor\",\n",
    "    \"test_k_factor\",\n",
    "    \"n_epoch\",\n",
    "    \"patience\",\n",
    "    \"criteria_for_best\",\n",
    "    \"x_transforms_source\",\n",
    "    \"x_transforms_target\",\n",
    "    \"episode_transforms_source\",\n",
    "    \"episode_transforms_target\",\n",
    "    \"pickle_name\",\n",
    "    \"x_net\",\n",
    "    \"NUM_LOGS_PER_EPOCH\",\n",
    "    \"BEST_MODEL_PATH\",\n",
    "    \"torch_default_dtype\"\n",
    "}"
   ]
  },
  {
   "cell_type": "code",
   "execution_count": 3,
   "id": "fa3f0049",
   "metadata": {
    "execution": {
     "iopub.execute_input": "2022-03-05T22:03:25.183449Z",
     "iopub.status.busy": "2022-03-05T22:03:25.183046Z",
     "iopub.status.idle": "2022-03-05T22:03:25.195221Z",
     "shell.execute_reply": "2022-03-05T22:03:25.194807Z"
    },
    "papermill": {
     "duration": 0.030897,
     "end_time": "2022-03-05T22:03:25.195310",
     "exception": false,
     "start_time": "2022-03-05T22:03:25.164413",
     "status": "completed"
    },
    "tags": [
     "parameters"
    ]
   },
   "outputs": [],
   "source": [
    "\n",
    "\n",
    "standalone_parameters = {}\n",
    "standalone_parameters[\"experiment_name\"] = \"STANDALONE PTN\"\n",
    "standalone_parameters[\"lr\"] = 0.0001\n",
    "standalone_parameters[\"device\"] = \"cuda\"\n",
    "\n",
    "standalone_parameters[\"seed\"] = 1337\n",
    "standalone_parameters[\"dataset_seed\"] = 1337\n",
    "\n",
    "\n",
    "standalone_parameters[\"num_examples_per_domain_per_label_source\"]=100\n",
    "standalone_parameters[\"num_examples_per_domain_per_label_target\"]=100\n",
    "\n",
    "standalone_parameters[\"n_shot\"] = 3\n",
    "standalone_parameters[\"n_query\"]  = 2\n",
    "standalone_parameters[\"train_k_factor\"] = 1\n",
    "standalone_parameters[\"val_k_factor\"] = 2\n",
    "standalone_parameters[\"test_k_factor\"] = 2\n",
    "\n",
    "\n",
    "standalone_parameters[\"n_epoch\"] = 100\n",
    "\n",
    "standalone_parameters[\"patience\"] = 10\n",
    "standalone_parameters[\"criteria_for_best\"] = \"target_accuracy\"\n",
    "\n",
    "standalone_parameters[\"x_transforms_source\"] = [\"unit_power\"]\n",
    "standalone_parameters[\"x_transforms_target\"] = [\"unit_power\"]\n",
    "standalone_parameters[\"episode_transforms_source\"] = []\n",
    "standalone_parameters[\"episode_transforms_target\"] = []\n",
    "\n",
    "standalone_parameters[\"torch_default_dtype\"] = \"torch.float32\" \n",
    "\n",
    "\n",
    "\n",
    "standalone_parameters[\"x_net\"] =     [\n",
    "    {\"class\": \"nnReshape\", \"kargs\": {\"shape\":[-1, 1, 2, 256]}},\n",
    "    {\"class\": \"Conv2d\", \"kargs\": { \"in_channels\":1, \"out_channels\":256, \"kernel_size\":(1,7), \"bias\":False, \"padding\":(0,3), },},\n",
    "    {\"class\": \"ReLU\", \"kargs\": {\"inplace\": True}},\n",
    "    {\"class\": \"BatchNorm2d\", \"kargs\": {\"num_features\":256}},\n",
    "\n",
    "    {\"class\": \"Conv2d\", \"kargs\": { \"in_channels\":256, \"out_channels\":80, \"kernel_size\":(2,7), \"bias\":True, \"padding\":(0,3), },},\n",
    "    {\"class\": \"ReLU\", \"kargs\": {\"inplace\": True}},\n",
    "    {\"class\": \"BatchNorm2d\", \"kargs\": {\"num_features\":80}},\n",
    "    {\"class\": \"Flatten\", \"kargs\": {}},\n",
    "\n",
    "    {\"class\": \"Linear\", \"kargs\": {\"in_features\": 80*256, \"out_features\": 256}}, # 80 units per IQ pair\n",
    "    {\"class\": \"ReLU\", \"kargs\": {\"inplace\": True}},\n",
    "    {\"class\": \"BatchNorm1d\", \"kargs\": {\"num_features\":256}},\n",
    "\n",
    "    {\"class\": \"Linear\", \"kargs\": {\"in_features\": 256, \"out_features\": 256}},\n",
    "]\n",
    "\n",
    "# Parameters relevant to results\n",
    "# These parameters will basically never need to change\n",
    "standalone_parameters[\"NUM_LOGS_PER_EPOCH\"] = 10\n",
    "standalone_parameters[\"BEST_MODEL_PATH\"] = \"./best_model.pth\"\n",
    "\n",
    "# uncomment for CORES dataset\n",
    "from steves_utils.CORES.utils import (\n",
    "    ALL_NODES,\n",
    "    ALL_NODES_MINIMUM_1000_EXAMPLES,\n",
    "    ALL_DAYS\n",
    ")\n",
    "\n",
    "\n",
    "standalone_parameters[\"labels_source\"] = ALL_NODES\n",
    "standalone_parameters[\"labels_target\"] = ALL_NODES\n",
    "\n",
    "standalone_parameters[\"domains_source\"] = [1]\n",
    "standalone_parameters[\"domains_target\"] = [2,3,4,5]\n",
    "\n",
    "standalone_parameters[\"pickle_name\"] = \"cores.stratified_ds.2022A.pkl\"\n",
    "\n",
    "\n",
    "# Uncomment these for ORACLE dataset\n",
    "# from steves_utils.ORACLE.utils_v2 import (\n",
    "#     ALL_DISTANCES_FEET,\n",
    "#     ALL_RUNS,\n",
    "#     ALL_SERIAL_NUMBERS,\n",
    "# )\n",
    "# standalone_parameters[\"labels_source\"] = ALL_SERIAL_NUMBERS\n",
    "# standalone_parameters[\"labels_target\"] = ALL_SERIAL_NUMBERS\n",
    "# standalone_parameters[\"domains_source\"] = [8,20, 38,50]\n",
    "# standalone_parameters[\"domains_target\"] = [14, 26, 32, 44, 56]\n",
    "# standalone_parameters[\"pickle_name\"] = \"oracle.frame_indexed.stratified_ds.2022A.pkl\"\n",
    "# standalone_parameters[\"num_examples_per_domain_per_label_source\"]=1000\n",
    "# standalone_parameters[\"num_examples_per_domain_per_label_target\"]=1000\n",
    "\n",
    "# Uncomment these for Metahan dataset\n",
    "# standalone_parameters[\"labels_source\"] = list(range(19))\n",
    "# standalone_parameters[\"labels_target\"] = list(range(19))\n",
    "# standalone_parameters[\"domains_source\"] = [0]\n",
    "# standalone_parameters[\"domains_target\"] = [1]\n",
    "# standalone_parameters[\"pickle_name\"] = \"metehan.stratified_ds.2022A.pkl\"\n",
    "# standalone_parameters[\"n_way\"]  = len(standalone_parameters[\"labels_source\"])\n",
    "# standalone_parameters[\"num_examples_per_domain_per_label_source\"]=200\n",
    "# standalone_parameters[\"num_examples_per_domain_per_label_target\"]=100\n",
    "\n",
    "\n",
    "standalone_parameters[\"n_way\"]  = len(standalone_parameters[\"labels_source\"])"
   ]
  },
  {
   "cell_type": "code",
   "execution_count": 4,
   "id": "f54b802a",
   "metadata": {
    "execution": {
     "iopub.execute_input": "2022-03-05T22:03:25.222401Z",
     "iopub.status.busy": "2022-03-05T22:03:25.222118Z",
     "iopub.status.idle": "2022-03-05T22:03:25.231540Z",
     "shell.execute_reply": "2022-03-05T22:03:25.231184Z"
    },
    "papermill": {
     "duration": 0.023416,
     "end_time": "2022-03-05T22:03:25.231610",
     "exception": false,
     "start_time": "2022-03-05T22:03:25.208194",
     "status": "completed"
    },
    "tags": [
     "injected-parameters"
    ]
   },
   "outputs": [],
   "source": [
    "# Parameters\n",
    "parameters = {\n",
    "    \"experiment_name\": \"tuned_1_oracle.run1\",\n",
    "    \"device\": \"cuda\",\n",
    "    \"lr\": 0.001,\n",
    "    \"seed\": 1337,\n",
    "    \"dataset_seed\": 1337,\n",
    "    \"labels_source\": [\n",
    "        \"3123D52\",\n",
    "        \"3123D65\",\n",
    "        \"3123D79\",\n",
    "        \"3123D80\",\n",
    "        \"3123D54\",\n",
    "        \"3123D70\",\n",
    "        \"3123D7B\",\n",
    "        \"3123D89\",\n",
    "        \"3123D58\",\n",
    "        \"3123D76\",\n",
    "        \"3123D7D\",\n",
    "        \"3123EFE\",\n",
    "        \"3123D64\",\n",
    "        \"3123D78\",\n",
    "        \"3123D7E\",\n",
    "        \"3124E4A\",\n",
    "    ],\n",
    "    \"labels_target\": [\n",
    "        \"3123D52\",\n",
    "        \"3123D65\",\n",
    "        \"3123D79\",\n",
    "        \"3123D80\",\n",
    "        \"3123D54\",\n",
    "        \"3123D70\",\n",
    "        \"3123D7B\",\n",
    "        \"3123D89\",\n",
    "        \"3123D58\",\n",
    "        \"3123D76\",\n",
    "        \"3123D7D\",\n",
    "        \"3123EFE\",\n",
    "        \"3123D64\",\n",
    "        \"3123D78\",\n",
    "        \"3123D7E\",\n",
    "        \"3124E4A\",\n",
    "    ],\n",
    "    \"x_transforms_source\": [\"unit_mag\"],\n",
    "    \"x_transforms_target\": [\"unit_mag\"],\n",
    "    \"episode_transforms_source\": [],\n",
    "    \"episode_transforms_target\": [],\n",
    "    \"domains_source\": [8, 32, 50],\n",
    "    \"domains_target\": [14, 20, 26, 38, 44],\n",
    "    \"num_examples_per_domain_per_label_source\": 10000,\n",
    "    \"num_examples_per_domain_per_label_target\": 1000,\n",
    "    \"n_shot\": 3,\n",
    "    \"n_way\": 16,\n",
    "    \"n_query\": 2,\n",
    "    \"train_k_factor\": 3,\n",
    "    \"val_k_factor\": 2,\n",
    "    \"test_k_factor\": 2,\n",
    "    \"torch_default_dtype\": \"torch.float32\",\n",
    "    \"n_epoch\": 50,\n",
    "    \"patience\": 3,\n",
    "    \"criteria_for_best\": \"target_loss\",\n",
    "    \"x_net\": [\n",
    "        {\"class\": \"nnReshape\", \"kargs\": {\"shape\": [-1, 1, 2, 256]}},\n",
    "        {\n",
    "            \"class\": \"Conv2d\",\n",
    "            \"kargs\": {\n",
    "                \"in_channels\": 1,\n",
    "                \"out_channels\": 256,\n",
    "                \"kernel_size\": [1, 7],\n",
    "                \"bias\": False,\n",
    "                \"padding\": [0, 3],\n",
    "            },\n",
    "        },\n",
    "        {\"class\": \"ReLU\", \"kargs\": {\"inplace\": True}},\n",
    "        {\"class\": \"BatchNorm2d\", \"kargs\": {\"num_features\": 256}},\n",
    "        {\n",
    "            \"class\": \"Conv2d\",\n",
    "            \"kargs\": {\n",
    "                \"in_channels\": 256,\n",
    "                \"out_channels\": 80,\n",
    "                \"kernel_size\": [2, 7],\n",
    "                \"bias\": True,\n",
    "                \"padding\": [0, 3],\n",
    "            },\n",
    "        },\n",
    "        {\"class\": \"ReLU\", \"kargs\": {\"inplace\": True}},\n",
    "        {\"class\": \"BatchNorm2d\", \"kargs\": {\"num_features\": 80}},\n",
    "        {\"class\": \"Flatten\", \"kargs\": {}},\n",
    "        {\"class\": \"Linear\", \"kargs\": {\"in_features\": 20480, \"out_features\": 256}},\n",
    "        {\"class\": \"ReLU\", \"kargs\": {\"inplace\": True}},\n",
    "        {\"class\": \"BatchNorm1d\", \"kargs\": {\"num_features\": 256}},\n",
    "        {\"class\": \"Linear\", \"kargs\": {\"in_features\": 256, \"out_features\": 256}},\n",
    "    ],\n",
    "    \"NUM_LOGS_PER_EPOCH\": 10,\n",
    "    \"BEST_MODEL_PATH\": \"./best_model.pth\",\n",
    "    \"pickle_name\": \"oracle.Run1_10kExamples_stratified_ds.2022A.pkl\",\n",
    "}\n"
   ]
  },
  {
   "cell_type": "code",
   "execution_count": 5,
   "id": "8fa1cc33",
   "metadata": {
    "execution": {
     "iopub.execute_input": "2022-03-05T22:03:25.257182Z",
     "iopub.status.busy": "2022-03-05T22:03:25.256929Z",
     "iopub.status.idle": "2022-03-05T22:03:25.268742Z",
     "shell.execute_reply": "2022-03-05T22:03:25.268292Z"
    },
    "papermill": {
     "duration": 0.024447,
     "end_time": "2022-03-05T22:03:25.268831",
     "exception": false,
     "start_time": "2022-03-05T22:03:25.244384",
     "status": "completed"
    },
    "tags": []
   },
   "outputs": [],
   "source": [
    "# Set this to True if you want to run this template directly\n",
    "STANDALONE = False\n",
    "if STANDALONE:\n",
    "    print(\"parameters not injected, running with standalone_parameters\")\n",
    "    parameters = standalone_parameters\n",
    "\n",
    "if not 'parameters' in locals() and not 'parameters' in globals():\n",
    "    raise Exception(\"Parameter injection failed\")\n",
    "\n",
    "#Use an easy dict for all the parameters\n",
    "p = EasyDict(parameters)\n",
    "\n",
    "supplied_keys = set(p.keys())\n",
    "\n",
    "if  supplied_keys != required_parameters:\n",
    "    print(\"Parameters are incorrect\")\n",
    "    if len(supplied_keys - required_parameters)>0: print(\"Shouldn't have:\", str(supplied_keys - required_parameters))\n",
    "    if len(required_parameters - supplied_keys)>0: print(\"Need to have:\", str(required_parameters - supplied_keys))\n",
    "    raise RuntimeError(\"Parameters are incorrect\")\n",
    "\n"
   ]
  },
  {
   "cell_type": "code",
   "execution_count": 6,
   "id": "3a028d58",
   "metadata": {
    "execution": {
     "iopub.execute_input": "2022-03-05T22:03:25.299476Z",
     "iopub.status.busy": "2022-03-05T22:03:25.299225Z",
     "iopub.status.idle": "2022-03-05T22:03:25.307223Z",
     "shell.execute_reply": "2022-03-05T22:03:25.307006Z"
    },
    "papermill": {
     "duration": 0.024616,
     "end_time": "2022-03-05T22:03:25.307273",
     "exception": false,
     "start_time": "2022-03-05T22:03:25.282657",
     "status": "completed"
    },
    "tags": []
   },
   "outputs": [],
   "source": [
    "###################################\n",
    "# Set the RNGs and make it all deterministic\n",
    "###################################\n",
    "np.random.seed(p.seed)\n",
    "random.seed(p.seed)\n",
    "torch.manual_seed(p.seed)\n",
    "\n",
    "torch.use_deterministic_algorithms(True) "
   ]
  },
  {
   "cell_type": "code",
   "execution_count": 7,
   "id": "b691acf6",
   "metadata": {
    "execution": {
     "iopub.execute_input": "2022-03-05T22:03:25.339053Z",
     "iopub.status.busy": "2022-03-05T22:03:25.335176Z",
     "iopub.status.idle": "2022-03-05T22:03:25.343704Z",
     "shell.execute_reply": "2022-03-05T22:03:25.343283Z"
    },
    "papermill": {
     "duration": 0.024726,
     "end_time": "2022-03-05T22:03:25.343797",
     "exception": false,
     "start_time": "2022-03-05T22:03:25.319071",
     "status": "completed"
    },
    "tags": []
   },
   "outputs": [],
   "source": [
    "###########################################\n",
    "# The stratified datasets honor this\n",
    "###########################################\n",
    "torch.set_default_dtype(eval(p.torch_default_dtype))"
   ]
  },
  {
   "cell_type": "code",
   "execution_count": 8,
   "id": "b5fba671",
   "metadata": {
    "execution": {
     "iopub.execute_input": "2022-03-05T22:03:25.372191Z",
     "iopub.status.busy": "2022-03-05T22:03:25.371941Z",
     "iopub.status.idle": "2022-03-05T22:03:25.403818Z",
     "shell.execute_reply": "2022-03-05T22:03:25.403425Z"
    },
    "papermill": {
     "duration": 0.048881,
     "end_time": "2022-03-05T22:03:25.403905",
     "exception": false,
     "start_time": "2022-03-05T22:03:25.355024",
     "status": "completed"
    },
    "tags": []
   },
   "outputs": [],
   "source": [
    "###################################\n",
    "# Build the network(s)\n",
    "# Note: It's critical to do this AFTER setting the RNG\n",
    "# (This is due to the randomized initial weights)\n",
    "###################################\n",
    "x_net = build_sequential(p.x_net)"
   ]
  },
  {
   "cell_type": "code",
   "execution_count": 9,
   "id": "5d7e61cc",
   "metadata": {
    "execution": {
     "iopub.execute_input": "2022-03-05T22:03:25.433569Z",
     "iopub.status.busy": "2022-03-05T22:03:25.433319Z",
     "iopub.status.idle": "2022-03-05T22:03:25.447100Z",
     "shell.execute_reply": "2022-03-05T22:03:25.446685Z"
    },
    "papermill": {
     "duration": 0.026369,
     "end_time": "2022-03-05T22:03:25.447190",
     "exception": false,
     "start_time": "2022-03-05T22:03:25.420821",
     "status": "completed"
    },
    "tags": []
   },
   "outputs": [],
   "source": [
    "start_time_secs = time.time()"
   ]
  },
  {
   "cell_type": "code",
   "execution_count": 10,
   "id": "fd5442bc",
   "metadata": {
    "execution": {
     "iopub.execute_input": "2022-03-05T22:03:25.477662Z",
     "iopub.status.busy": "2022-03-05T22:03:25.477387Z",
     "iopub.status.idle": "2022-03-05T22:04:10.103183Z",
     "shell.execute_reply": "2022-03-05T22:04:10.102736Z"
    },
    "papermill": {
     "duration": 44.640731,
     "end_time": "2022-03-05T22:04:10.103295",
     "exception": false,
     "start_time": "2022-03-05T22:03:25.462564",
     "status": "completed"
    },
    "tags": []
   },
   "outputs": [],
   "source": [
    "###################################\n",
    "# Build the dataset\n",
    "###################################\n",
    "\n",
    "if p.x_transforms_source == []: x_transform_source = None\n",
    "else: x_transform_source = get_chained_transform(p.x_transforms_source) \n",
    "\n",
    "if p.x_transforms_target == []: x_transform_target = None\n",
    "else: x_transform_target = get_chained_transform(p.x_transforms_target)\n",
    "\n",
    "if p.episode_transforms_source == []: episode_transform_source = None\n",
    "else: raise Exception(\"episode_transform_source not implemented\")\n",
    "\n",
    "if p.episode_transforms_target == []: episode_transform_target = None\n",
    "else: raise Exception(\"episode_transform_target not implemented\")\n",
    "\n",
    "\n",
    "eaf_source = Episodic_Accessor_Factory(\n",
    "    labels=p.labels_source,\n",
    "    domains=p.domains_source,\n",
    "    num_examples_per_domain_per_label=p.num_examples_per_domain_per_label_source,\n",
    "    iterator_seed=p.seed,\n",
    "    dataset_seed=p.dataset_seed,\n",
    "    n_shot=p.n_shot,\n",
    "    n_way=p.n_way,\n",
    "    n_query=p.n_query,\n",
    "    train_val_test_k_factors=(p.train_k_factor,p.val_k_factor,p.test_k_factor),\n",
    "    pickle_path=os.path.join(get_datasets_base_path(), p.pickle_name),\n",
    "    x_transform_func=x_transform_source,\n",
    "    example_transform_func=episode_transform_source,\n",
    "    \n",
    ")\n",
    "train_original_source, val_original_source, test_original_source = eaf_source.get_train(), eaf_source.get_val(), eaf_source.get_test()\n",
    "\n",
    "\n",
    "eaf_target = Episodic_Accessor_Factory(\n",
    "    labels=p.labels_target,\n",
    "    domains=p.domains_target,\n",
    "    num_examples_per_domain_per_label=p.num_examples_per_domain_per_label_target,\n",
    "    iterator_seed=p.seed,\n",
    "    dataset_seed=p.dataset_seed,\n",
    "    n_shot=p.n_shot,\n",
    "    n_way=p.n_way,\n",
    "    n_query=p.n_query,\n",
    "    train_val_test_k_factors=(p.train_k_factor,p.val_k_factor,p.test_k_factor),\n",
    "    pickle_path=os.path.join(get_datasets_base_path(), p.pickle_name),\n",
    "    x_transform_func=x_transform_target,\n",
    "    example_transform_func=episode_transform_target,\n",
    ")\n",
    "train_original_target, val_original_target, test_original_target = eaf_target.get_train(), eaf_target.get_val(), eaf_target.get_test()\n",
    "\n",
    "\n",
    "transform_lambda = lambda ex: ex[1] # Original is (<domain>, <episode>) so we strip down to episode only\n",
    "\n",
    "train_processed_source = Lazy_Iterable_Wrapper(train_original_source, transform_lambda)\n",
    "val_processed_source   = Lazy_Iterable_Wrapper(val_original_source, transform_lambda)\n",
    "test_processed_source  = Lazy_Iterable_Wrapper(test_original_source, transform_lambda)\n",
    "\n",
    "train_processed_target = Lazy_Iterable_Wrapper(train_original_target, transform_lambda)\n",
    "val_processed_target   = Lazy_Iterable_Wrapper(val_original_target, transform_lambda)\n",
    "test_processed_target  = Lazy_Iterable_Wrapper(test_original_target, transform_lambda)\n",
    "\n",
    "datasets = EasyDict({\n",
    "    \"source\": {\n",
    "        \"original\": {\"train\":train_original_source, \"val\":val_original_source, \"test\":test_original_source},\n",
    "        \"processed\": {\"train\":train_processed_source, \"val\":val_processed_source, \"test\":test_processed_source}\n",
    "    },\n",
    "    \"target\": {\n",
    "        \"original\": {\"train\":train_original_target, \"val\":val_original_target, \"test\":test_original_target},\n",
    "        \"processed\": {\"train\":train_processed_target, \"val\":val_processed_target, \"test\":test_processed_target}\n",
    "    },\n",
    "})"
   ]
  },
  {
   "cell_type": "code",
   "execution_count": 11,
   "id": "296189d9",
   "metadata": {
    "execution": {
     "iopub.execute_input": "2022-03-05T22:04:10.132608Z",
     "iopub.status.busy": "2022-03-05T22:04:10.131253Z",
     "iopub.status.idle": "2022-03-05T22:04:13.137676Z",
     "shell.execute_reply": "2022-03-05T22:04:13.138111Z"
    },
    "papermill": {
     "duration": 3.020751,
     "end_time": "2022-03-05T22:04:13.138215",
     "exception": false,
     "start_time": "2022-03-05T22:04:10.117464",
     "status": "completed"
    },
    "tags": []
   },
   "outputs": [
    {
     "name": "stdout",
     "output_type": "stream",
     "text": [
      "Visually inspect these to see if they line up with expected values given the transforms\n",
      "x_transforms_source ['unit_mag']\n",
      "x_transforms_target ['unit_mag']\n",
      "Average magnitude, source: 1.0\n",
      "Average power, source: 1.3161097\n"
     ]
    },
    {
     "name": "stdout",
     "output_type": "stream",
     "text": [
      "Average magnitude, target: 1.0\n",
      "Average power, target: 1.2837002\n"
     ]
    }
   ],
   "source": [
    "# Some quick unit tests on the data\n",
    "from steves_utils.transforms import get_average_power, get_average_magnitude\n",
    "\n",
    "q_x, q_y, s_x, s_y, truth = next(iter(train_processed_source))\n",
    "\n",
    "assert q_x.dtype == eval(p.torch_default_dtype)\n",
    "assert s_x.dtype == eval(p.torch_default_dtype)\n",
    "\n",
    "print(\"Visually inspect these to see if they line up with expected values given the transforms\")\n",
    "print('x_transforms_source', p.x_transforms_source)\n",
    "print('x_transforms_target', p.x_transforms_target)\n",
    "print(\"Average magnitude, source:\", get_average_magnitude(q_x[0].numpy()))\n",
    "print(\"Average power, source:\", get_average_power(q_x[0].numpy()))\n",
    "\n",
    "q_x, q_y, s_x, s_y, truth = next(iter(train_processed_target))\n",
    "print(\"Average magnitude, target:\", get_average_magnitude(q_x[0].numpy()))\n",
    "print(\"Average power, target:\", get_average_power(q_x[0].numpy()))\n"
   ]
  },
  {
   "cell_type": "code",
   "execution_count": 12,
   "id": "bbdacba1",
   "metadata": {
    "execution": {
     "iopub.execute_input": "2022-03-05T22:04:13.166041Z",
     "iopub.status.busy": "2022-03-05T22:04:13.165084Z",
     "iopub.status.idle": "2022-03-05T22:04:13.242251Z",
     "shell.execute_reply": "2022-03-05T22:04:13.242460Z"
    },
    "papermill": {
     "duration": 0.090564,
     "end_time": "2022-03-05T22:04:13.242523",
     "exception": false,
     "start_time": "2022-03-05T22:04:13.151959",
     "status": "completed"
    },
    "tags": []
   },
   "outputs": [
    {
     "name": "stdout",
     "output_type": "stream",
     "text": [
      "(2, 256)\n"
     ]
    }
   ],
   "source": [
    "###################################\n",
    "# Build the model\n",
    "###################################\n",
    "model = Steves_Prototypical_Network(x_net, device=p.device, x_shape=(2,256))\n",
    "optimizer = Adam(params=model.parameters(), lr=p.lr)"
   ]
  },
  {
   "cell_type": "code",
   "execution_count": 13,
   "id": "22b39ac5",
   "metadata": {
    "execution": {
     "iopub.execute_input": "2022-03-05T22:04:13.272083Z",
     "iopub.status.busy": "2022-03-05T22:04:13.264362Z",
     "iopub.status.idle": "2022-03-05T22:50:50.445529Z",
     "shell.execute_reply": "2022-03-05T22:50:50.445284Z"
    },
    "papermill": {
     "duration": 2797.192682,
     "end_time": "2022-03-05T22:50:50.445590",
     "exception": false,
     "start_time": "2022-03-05T22:04:13.252908",
     "status": "completed"
    },
    "tags": []
   },
   "outputs": [
    {
     "name": "stdout",
     "output_type": "stream",
     "text": [
      "epoch: 1, [batch: 1 / 12600], examples_per_second: 27.1442, train_label_loss: 2.7689, \n"
     ]
    },
    {
     "name": "stdout",
     "output_type": "stream",
     "text": [
      "epoch: 1, [batch: 1260 / 12600], examples_per_second: 3153.9154, train_label_loss: 1.6901, \n"
     ]
    },
    {
     "name": "stdout",
     "output_type": "stream",
     "text": [
      "epoch: 1, [batch: 2520 / 12600], examples_per_second: 3134.2746, train_label_loss: 1.3145, \n"
     ]
    },
    {
     "name": "stdout",
     "output_type": "stream",
     "text": [
      "epoch: 1, [batch: 3780 / 12600], examples_per_second: 3129.4981, train_label_loss: 1.1481, \n"
     ]
    },
    {
     "name": "stdout",
     "output_type": "stream",
     "text": [
      "epoch: 1, [batch: 5040 / 12600], examples_per_second: 3116.4955, train_label_loss: 0.8684, \n"
     ]
    },
    {
     "name": "stdout",
     "output_type": "stream",
     "text": [
      "epoch: 1, [batch: 6300 / 12600], examples_per_second: 3125.5818, train_label_loss: 1.1152, \n"
     ]
    },
    {
     "name": "stdout",
     "output_type": "stream",
     "text": [
      "epoch: 1, [batch: 7560 / 12600], examples_per_second: 3140.2565, train_label_loss: 1.1664, \n"
     ]
    },
    {
     "name": "stdout",
     "output_type": "stream",
     "text": [
      "epoch: 1, [batch: 8820 / 12600], examples_per_second: 3134.5308, train_label_loss: 0.8904, \n"
     ]
    },
    {
     "name": "stdout",
     "output_type": "stream",
     "text": [
      "epoch: 1, [batch: 10080 / 12600], examples_per_second: 3126.5726, train_label_loss: 1.0953, \n"
     ]
    },
    {
     "name": "stdout",
     "output_type": "stream",
     "text": [
      "epoch: 1, [batch: 11340 / 12600], examples_per_second: 3132.9325, train_label_loss: 0.7188, \n"
     ]
    },
    {
     "name": "stdout",
     "output_type": "stream",
     "text": [
      "=============================================================\n",
      "epoch: 1, source_val_acc_label: 0.5740, target_val_acc_label: 0.4990, source_val_label_loss: 24.7123, target_val_label_loss: 24.7097, \n",
      "=============================================================\n"
     ]
    },
    {
     "name": "stdout",
     "output_type": "stream",
     "text": [
      "New best\n"
     ]
    },
    {
     "name": "stdout",
     "output_type": "stream",
     "text": [
      "epoch: 2, [batch: 1 / 12600], examples_per_second: 3.0153, train_label_loss: 1.1132, \n"
     ]
    },
    {
     "name": "stdout",
     "output_type": "stream",
     "text": [
      "epoch: 2, [batch: 1260 / 12600], examples_per_second: 3154.6069, train_label_loss: 0.4749, \n"
     ]
    },
    {
     "name": "stdout",
     "output_type": "stream",
     "text": [
      "epoch: 2, [batch: 2520 / 12600], examples_per_second: 3153.6476, train_label_loss: 0.8557, \n"
     ]
    },
    {
     "name": "stdout",
     "output_type": "stream",
     "text": [
      "epoch: 2, [batch: 3780 / 12600], examples_per_second: 3158.4492, train_label_loss: 1.0929, \n"
     ]
    },
    {
     "name": "stdout",
     "output_type": "stream",
     "text": [
      "epoch: 2, [batch: 5040 / 12600], examples_per_second: 3145.1681, train_label_loss: 0.8035, \n"
     ]
    },
    {
     "name": "stdout",
     "output_type": "stream",
     "text": [
      "epoch: 2, [batch: 6300 / 12600], examples_per_second: 3163.8059, train_label_loss: 1.0493, \n"
     ]
    },
    {
     "name": "stdout",
     "output_type": "stream",
     "text": [
      "epoch: 2, [batch: 7560 / 12600], examples_per_second: 3158.6079, train_label_loss: 1.1283, \n"
     ]
    },
    {
     "name": "stdout",
     "output_type": "stream",
     "text": [
      "epoch: 2, [batch: 8820 / 12600], examples_per_second: 3109.2574, train_label_loss: 0.8446, \n"
     ]
    },
    {
     "name": "stdout",
     "output_type": "stream",
     "text": [
      "epoch: 2, [batch: 10080 / 12600], examples_per_second: 2996.8017, train_label_loss: 0.5986, \n"
     ]
    },
    {
     "name": "stdout",
     "output_type": "stream",
     "text": [
      "epoch: 2, [batch: 11340 / 12600], examples_per_second: 3023.6518, train_label_loss: 0.5780, \n"
     ]
    },
    {
     "name": "stdout",
     "output_type": "stream",
     "text": [
      "=============================================================\n",
      "epoch: 2, source_val_acc_label: 0.6539, target_val_acc_label: 0.5810, source_val_label_loss: 0.9194, target_val_label_loss: 1.1102, \n",
      "=============================================================\n"
     ]
    },
    {
     "name": "stdout",
     "output_type": "stream",
     "text": [
      "New best\n"
     ]
    },
    {
     "name": "stdout",
     "output_type": "stream",
     "text": [
      "epoch: 3, [batch: 1 / 12600], examples_per_second: 2.9099, train_label_loss: 0.9148, \n"
     ]
    },
    {
     "name": "stdout",
     "output_type": "stream",
     "text": [
      "epoch: 3, [batch: 1260 / 12600], examples_per_second: 3041.0579, train_label_loss: 1.0343, \n"
     ]
    },
    {
     "name": "stdout",
     "output_type": "stream",
     "text": [
      "epoch: 3, [batch: 2520 / 12600], examples_per_second: 3077.4992, train_label_loss: 0.9071, \n"
     ]
    },
    {
     "name": "stdout",
     "output_type": "stream",
     "text": [
      "epoch: 3, [batch: 3780 / 12600], examples_per_second: 3045.4604, train_label_loss: 0.8499, \n"
     ]
    },
    {
     "name": "stdout",
     "output_type": "stream",
     "text": [
      "epoch: 3, [batch: 5040 / 12600], examples_per_second: 3086.5488, train_label_loss: 1.0298, \n"
     ]
    },
    {
     "name": "stdout",
     "output_type": "stream",
     "text": [
      "epoch: 3, [batch: 6300 / 12600], examples_per_second: 3058.2941, train_label_loss: 0.8597, \n"
     ]
    },
    {
     "name": "stdout",
     "output_type": "stream",
     "text": [
      "epoch: 3, [batch: 7560 / 12600], examples_per_second: 3087.2740, train_label_loss: 0.8162, \n"
     ]
    },
    {
     "name": "stdout",
     "output_type": "stream",
     "text": [
      "epoch: 3, [batch: 8820 / 12600], examples_per_second: 3063.9993, train_label_loss: 0.7972, \n"
     ]
    },
    {
     "name": "stdout",
     "output_type": "stream",
     "text": [
      "epoch: 3, [batch: 10080 / 12600], examples_per_second: 3064.7411, train_label_loss: 0.8044, \n"
     ]
    },
    {
     "name": "stdout",
     "output_type": "stream",
     "text": [
      "epoch: 3, [batch: 11340 / 12600], examples_per_second: 3068.0671, train_label_loss: 0.7783, \n"
     ]
    },
    {
     "name": "stdout",
     "output_type": "stream",
     "text": [
      "=============================================================\n",
      "epoch: 3, source_val_acc_label: 0.6996, target_val_acc_label: 0.6140, source_val_label_loss: 0.8189, target_val_label_loss: 1.0105, \n",
      "=============================================================\n"
     ]
    },
    {
     "name": "stdout",
     "output_type": "stream",
     "text": [
      "New best\n"
     ]
    },
    {
     "name": "stdout",
     "output_type": "stream",
     "text": [
      "epoch: 4, [batch: 1 / 12600], examples_per_second: 2.9063, train_label_loss: 0.6111, \n"
     ]
    },
    {
     "name": "stdout",
     "output_type": "stream",
     "text": [
      "epoch: 4, [batch: 1260 / 12600], examples_per_second: 3045.9144, train_label_loss: 0.7161, \n"
     ]
    },
    {
     "name": "stdout",
     "output_type": "stream",
     "text": [
      "epoch: 4, [batch: 2520 / 12600], examples_per_second: 3047.8491, train_label_loss: 1.0176, \n"
     ]
    },
    {
     "name": "stdout",
     "output_type": "stream",
     "text": [
      "epoch: 4, [batch: 3780 / 12600], examples_per_second: 3044.0513, train_label_loss: 0.5867, \n"
     ]
    },
    {
     "name": "stdout",
     "output_type": "stream",
     "text": [
      "epoch: 4, [batch: 5040 / 12600], examples_per_second: 3053.8326, train_label_loss: 0.5993, \n"
     ]
    },
    {
     "name": "stdout",
     "output_type": "stream",
     "text": [
      "epoch: 4, [batch: 6300 / 12600], examples_per_second: 3077.1968, train_label_loss: 0.4680, \n"
     ]
    },
    {
     "name": "stdout",
     "output_type": "stream",
     "text": [
      "epoch: 4, [batch: 7560 / 12600], examples_per_second: 3051.5569, train_label_loss: 0.9111, \n"
     ]
    },
    {
     "name": "stdout",
     "output_type": "stream",
     "text": [
      "epoch: 4, [batch: 8820 / 12600], examples_per_second: 3049.8210, train_label_loss: 0.6046, \n"
     ]
    },
    {
     "name": "stdout",
     "output_type": "stream",
     "text": [
      "epoch: 4, [batch: 10080 / 12600], examples_per_second: 3010.7088, train_label_loss: 0.5249, \n"
     ]
    },
    {
     "name": "stdout",
     "output_type": "stream",
     "text": [
      "epoch: 4, [batch: 11340 / 12600], examples_per_second: 3066.8027, train_label_loss: 0.5259, \n"
     ]
    },
    {
     "name": "stdout",
     "output_type": "stream",
     "text": [
      "=============================================================\n",
      "epoch: 4, source_val_acc_label: 0.7091, target_val_acc_label: 0.6314, source_val_label_loss: 0.8014, target_val_label_loss: 0.9913, \n",
      "=============================================================\n"
     ]
    },
    {
     "name": "stdout",
     "output_type": "stream",
     "text": [
      "New best\n"
     ]
    },
    {
     "name": "stdout",
     "output_type": "stream",
     "text": [
      "epoch: 5, [batch: 1 / 12600], examples_per_second: 2.8915, train_label_loss: 0.6169, \n"
     ]
    },
    {
     "name": "stdout",
     "output_type": "stream",
     "text": [
      "epoch: 5, [batch: 1260 / 12600], examples_per_second: 3046.0370, train_label_loss: 0.5490, \n"
     ]
    },
    {
     "name": "stdout",
     "output_type": "stream",
     "text": [
      "epoch: 5, [batch: 2520 / 12600], examples_per_second: 3085.1725, train_label_loss: 0.7293, \n"
     ]
    },
    {
     "name": "stdout",
     "output_type": "stream",
     "text": [
      "epoch: 5, [batch: 3780 / 12600], examples_per_second: 2998.2465, train_label_loss: 0.5119, \n"
     ]
    },
    {
     "name": "stdout",
     "output_type": "stream",
     "text": [
      "epoch: 5, [batch: 5040 / 12600], examples_per_second: 3067.8556, train_label_loss: 0.5453, \n"
     ]
    },
    {
     "name": "stdout",
     "output_type": "stream",
     "text": [
      "epoch: 5, [batch: 6300 / 12600], examples_per_second: 2997.6164, train_label_loss: 0.6511, \n"
     ]
    },
    {
     "name": "stdout",
     "output_type": "stream",
     "text": [
      "epoch: 5, [batch: 7560 / 12600], examples_per_second: 3052.5683, train_label_loss: 0.7609, \n"
     ]
    },
    {
     "name": "stdout",
     "output_type": "stream",
     "text": [
      "epoch: 5, [batch: 8820 / 12600], examples_per_second: 3002.4309, train_label_loss: 0.4020, \n"
     ]
    },
    {
     "name": "stdout",
     "output_type": "stream",
     "text": [
      "epoch: 5, [batch: 10080 / 12600], examples_per_second: 3000.4599, train_label_loss: 0.8387, \n"
     ]
    },
    {
     "name": "stdout",
     "output_type": "stream",
     "text": [
      "epoch: 5, [batch: 11340 / 12600], examples_per_second: 3090.7134, train_label_loss: 0.8703, \n"
     ]
    },
    {
     "name": "stdout",
     "output_type": "stream",
     "text": [
      "=============================================================\n",
      "epoch: 5, source_val_acc_label: 0.7140, target_val_acc_label: 0.6259, source_val_label_loss: 0.7844, target_val_label_loss: 0.9963, \n",
      "=============================================================\n"
     ]
    },
    {
     "name": "stdout",
     "output_type": "stream",
     "text": [
      "epoch: 6, [batch: 1 / 12600], examples_per_second: 2.9368, train_label_loss: 0.6246, \n"
     ]
    },
    {
     "name": "stdout",
     "output_type": "stream",
     "text": [
      "epoch: 6, [batch: 1260 / 12600], examples_per_second: 3023.3742, train_label_loss: 0.7939, \n"
     ]
    },
    {
     "name": "stdout",
     "output_type": "stream",
     "text": [
      "epoch: 6, [batch: 2520 / 12600], examples_per_second: 2980.1071, train_label_loss: 0.6896, \n"
     ]
    },
    {
     "name": "stdout",
     "output_type": "stream",
     "text": [
      "epoch: 6, [batch: 3780 / 12600], examples_per_second: 3017.5939, train_label_loss: 0.3081, \n"
     ]
    },
    {
     "name": "stdout",
     "output_type": "stream",
     "text": [
      "epoch: 6, [batch: 5040 / 12600], examples_per_second: 3007.1572, train_label_loss: 0.5015, \n"
     ]
    },
    {
     "name": "stdout",
     "output_type": "stream",
     "text": [
      "epoch: 6, [batch: 6300 / 12600], examples_per_second: 3023.9815, train_label_loss: 0.2995, \n"
     ]
    },
    {
     "name": "stdout",
     "output_type": "stream",
     "text": [
      "epoch: 6, [batch: 7560 / 12600], examples_per_second: 3077.7740, train_label_loss: 0.4181, \n"
     ]
    },
    {
     "name": "stdout",
     "output_type": "stream",
     "text": [
      "epoch: 6, [batch: 8820 / 12600], examples_per_second: 3033.1557, train_label_loss: 0.7688, \n"
     ]
    },
    {
     "name": "stdout",
     "output_type": "stream",
     "text": [
      "epoch: 6, [batch: 10080 / 12600], examples_per_second: 3007.7026, train_label_loss: 0.6652, \n"
     ]
    },
    {
     "name": "stdout",
     "output_type": "stream",
     "text": [
      "epoch: 6, [batch: 11340 / 12600], examples_per_second: 3061.4428, train_label_loss: 0.3324, \n"
     ]
    },
    {
     "name": "stdout",
     "output_type": "stream",
     "text": [
      "=============================================================\n",
      "epoch: 6, source_val_acc_label: 0.7126, target_val_acc_label: 0.6344, source_val_label_loss: 0.8029, target_val_label_loss: 1.0219, \n",
      "=============================================================\n"
     ]
    },
    {
     "name": "stdout",
     "output_type": "stream",
     "text": [
      "epoch: 7, [batch: 1 / 12600], examples_per_second: 2.9741, train_label_loss: 0.4840, \n"
     ]
    },
    {
     "name": "stdout",
     "output_type": "stream",
     "text": [
      "epoch: 7, [batch: 1260 / 12600], examples_per_second: 3092.9587, train_label_loss: 0.4203, \n"
     ]
    },
    {
     "name": "stdout",
     "output_type": "stream",
     "text": [
      "epoch: 7, [batch: 2520 / 12600], examples_per_second: 3092.8836, train_label_loss: 0.4039, \n"
     ]
    },
    {
     "name": "stdout",
     "output_type": "stream",
     "text": [
      "epoch: 7, [batch: 3780 / 12600], examples_per_second: 3099.9776, train_label_loss: 0.3388, \n"
     ]
    },
    {
     "name": "stdout",
     "output_type": "stream",
     "text": [
      "epoch: 7, [batch: 5040 / 12600], examples_per_second: 3085.0089, train_label_loss: 0.6385, \n"
     ]
    },
    {
     "name": "stdout",
     "output_type": "stream",
     "text": [
      "epoch: 7, [batch: 6300 / 12600], examples_per_second: 3105.5910, train_label_loss: 0.4227, \n"
     ]
    },
    {
     "name": "stdout",
     "output_type": "stream",
     "text": [
      "epoch: 7, [batch: 7560 / 12600], examples_per_second: 3100.2371, train_label_loss: 0.2961, \n"
     ]
    },
    {
     "name": "stdout",
     "output_type": "stream",
     "text": [
      "epoch: 7, [batch: 8820 / 12600], examples_per_second: 3086.9750, train_label_loss: 0.5706, \n"
     ]
    },
    {
     "name": "stdout",
     "output_type": "stream",
     "text": [
      "epoch: 7, [batch: 10080 / 12600], examples_per_second: 3100.7348, train_label_loss: 0.4615, \n"
     ]
    },
    {
     "name": "stdout",
     "output_type": "stream",
     "text": [
      "epoch: 7, [batch: 11340 / 12600], examples_per_second: 3085.3248, train_label_loss: 0.3064, \n"
     ]
    },
    {
     "name": "stdout",
     "output_type": "stream",
     "text": [
      "=============================================================\n",
      "epoch: 7, source_val_acc_label: 0.6889, target_val_acc_label: 0.6146, source_val_label_loss: 0.8484, target_val_label_loss: 1.0357, \n",
      "=============================================================\n"
     ]
    },
    {
     "name": "stdout",
     "output_type": "stream",
     "text": [
      "epoch: 8, [batch: 1 / 12600], examples_per_second: 2.9470, train_label_loss: 0.2546, \n"
     ]
    },
    {
     "name": "stdout",
     "output_type": "stream",
     "text": [
      "epoch: 8, [batch: 1260 / 12600], examples_per_second: 3064.4778, train_label_loss: 0.3997, \n"
     ]
    },
    {
     "name": "stdout",
     "output_type": "stream",
     "text": [
      "epoch: 8, [batch: 2520 / 12600], examples_per_second: 3063.0411, train_label_loss: 0.4273, \n"
     ]
    },
    {
     "name": "stdout",
     "output_type": "stream",
     "text": [
      "epoch: 8, [batch: 3780 / 12600], examples_per_second: 3074.3542, train_label_loss: 0.2085, \n"
     ]
    },
    {
     "name": "stdout",
     "output_type": "stream",
     "text": [
      "epoch: 8, [batch: 5040 / 12600], examples_per_second: 3057.3142, train_label_loss: 0.1278, \n"
     ]
    },
    {
     "name": "stdout",
     "output_type": "stream",
     "text": [
      "epoch: 8, [batch: 6300 / 12600], examples_per_second: 3079.3211, train_label_loss: 0.2632, \n"
     ]
    },
    {
     "name": "stdout",
     "output_type": "stream",
     "text": [
      "epoch: 8, [batch: 7560 / 12600], examples_per_second: 3077.3120, train_label_loss: 0.4344, \n"
     ]
    },
    {
     "name": "stdout",
     "output_type": "stream",
     "text": [
      "epoch: 8, [batch: 8820 / 12600], examples_per_second: 3048.3574, train_label_loss: 0.3380, \n"
     ]
    },
    {
     "name": "stdout",
     "output_type": "stream",
     "text": [
      "epoch: 8, [batch: 10080 / 12600], examples_per_second: 3065.5506, train_label_loss: 0.3132, \n"
     ]
    },
    {
     "name": "stdout",
     "output_type": "stream",
     "text": [
      "epoch: 8, [batch: 11340 / 12600], examples_per_second: 3029.8754, train_label_loss: 0.3116, \n"
     ]
    },
    {
     "name": "stdout",
     "output_type": "stream",
     "text": [
      "=============================================================\n",
      "epoch: 8, source_val_acc_label: 0.6966, target_val_acc_label: 0.6118, source_val_label_loss: 0.8842, target_val_label_loss: 1.1258, \n",
      "=============================================================\n"
     ]
    },
    {
     "name": "stdout",
     "output_type": "stream",
     "text": [
      "Patience (3) exhausted\n"
     ]
    }
   ],
   "source": [
    "###################################\n",
    "# train\n",
    "###################################\n",
    "jig = PTN_Train_Eval_Test_Jig(model, p.BEST_MODEL_PATH, p.device)\n",
    "\n",
    "jig.train(\n",
    "    train_iterable=datasets.source.processed.train,\n",
    "    source_val_iterable=datasets.source.processed.val,\n",
    "    target_val_iterable=datasets.target.processed.val,\n",
    "    num_epochs=p.n_epoch,\n",
    "    num_logs_per_epoch=p.NUM_LOGS_PER_EPOCH,\n",
    "    patience=p.patience,\n",
    "    optimizer=optimizer,\n",
    "    criteria_for_best=p.criteria_for_best,\n",
    ")"
   ]
  },
  {
   "cell_type": "code",
   "execution_count": 14,
   "id": "31e8fabf",
   "metadata": {
    "execution": {
     "iopub.execute_input": "2022-03-05T22:50:50.502273Z",
     "iopub.status.busy": "2022-03-05T22:50:50.501867Z",
     "iopub.status.idle": "2022-03-05T22:50:50.514800Z",
     "shell.execute_reply": "2022-03-05T22:50:50.514491Z"
    },
    "papermill": {
     "duration": 0.042363,
     "end_time": "2022-03-05T22:50:50.514866",
     "exception": false,
     "start_time": "2022-03-05T22:50:50.472503",
     "status": "completed"
    },
    "tags": []
   },
   "outputs": [],
   "source": [
    "total_experiment_time_secs = time.time() - start_time_secs"
   ]
  },
  {
   "cell_type": "code",
   "execution_count": 15,
   "id": "87b9595b",
   "metadata": {
    "execution": {
     "iopub.execute_input": "2022-03-05T22:50:50.573977Z",
     "iopub.status.busy": "2022-03-05T22:50:50.573544Z",
     "iopub.status.idle": "2022-03-05T22:52:41.534448Z",
     "shell.execute_reply": "2022-03-05T22:52:41.534974Z"
    },
    "papermill": {
     "duration": 110.992117,
     "end_time": "2022-03-05T22:52:41.535112",
     "exception": false,
     "start_time": "2022-03-05T22:50:50.542995",
     "status": "completed"
    },
    "tags": []
   },
   "outputs": [],
   "source": [
    "###################################\n",
    "# Evaluate the model\n",
    "###################################\n",
    "source_test_label_accuracy, source_test_label_loss = jig.test(datasets.source.processed.test)\n",
    "target_test_label_accuracy, target_test_label_loss = jig.test(datasets.target.processed.test)\n",
    "\n",
    "source_val_label_accuracy, source_val_label_loss = jig.test(datasets.source.processed.val)\n",
    "target_val_label_accuracy, target_val_label_loss = jig.test(datasets.target.processed.val)\n",
    "\n",
    "history = jig.get_history()\n",
    "\n",
    "total_epochs_trained = len(history[\"epoch_indices\"])\n",
    "\n",
    "val_dl = Iterable_Aggregator((datasets.source.original.val,datasets.target.original.val))\n",
    "\n",
    "confusion = ptn_confusion_by_domain_over_dataloader(model, p.device, val_dl)\n",
    "per_domain_accuracy = per_domain_accuracy_from_confusion(confusion)\n",
    "\n",
    "# Add a key to per_domain_accuracy for if it was a source domain\n",
    "for domain, accuracy in per_domain_accuracy.items():\n",
    "    per_domain_accuracy[domain] = {\n",
    "        \"accuracy\": accuracy,\n",
    "        \"source?\": domain in p.domains_source\n",
    "    }\n",
    "\n",
    "# Do an independent accuracy assesment JUST TO BE SURE!\n",
    "# _source_test_label_accuracy = independent_accuracy_assesment(model, datasets.source.processed.test, p.device)\n",
    "# _target_test_label_accuracy = independent_accuracy_assesment(model, datasets.target.processed.test, p.device)\n",
    "# _source_val_label_accuracy = independent_accuracy_assesment(model, datasets.source.processed.val, p.device)\n",
    "# _target_val_label_accuracy = independent_accuracy_assesment(model, datasets.target.processed.val, p.device)\n",
    "\n",
    "# assert(_source_test_label_accuracy == source_test_label_accuracy)\n",
    "# assert(_target_test_label_accuracy == target_test_label_accuracy)\n",
    "# assert(_source_val_label_accuracy == source_val_label_accuracy)\n",
    "# assert(_target_val_label_accuracy == target_val_label_accuracy)\n",
    "\n",
    "experiment = {\n",
    "    \"experiment_name\": p.experiment_name,\n",
    "    \"parameters\": dict(p),\n",
    "    \"results\": {\n",
    "        \"source_test_label_accuracy\": source_test_label_accuracy,\n",
    "        \"source_test_label_loss\": source_test_label_loss,\n",
    "        \"target_test_label_accuracy\": target_test_label_accuracy,\n",
    "        \"target_test_label_loss\": target_test_label_loss,\n",
    "        \"source_val_label_accuracy\": source_val_label_accuracy,\n",
    "        \"source_val_label_loss\": source_val_label_loss,\n",
    "        \"target_val_label_accuracy\": target_val_label_accuracy,\n",
    "        \"target_val_label_loss\": target_val_label_loss,\n",
    "        \"total_epochs_trained\": total_epochs_trained,\n",
    "        \"total_experiment_time_secs\": total_experiment_time_secs,\n",
    "        \"confusion\": confusion,\n",
    "        \"per_domain_accuracy\": per_domain_accuracy,\n",
    "    },\n",
    "    \"history\": history,\n",
    "    \"dataset_metrics\": get_dataset_metrics(datasets, \"ptn\"),\n",
    "}"
   ]
  },
  {
   "cell_type": "code",
   "execution_count": 16,
   "id": "54a21829",
   "metadata": {
    "execution": {
     "iopub.execute_input": "2022-03-05T22:52:41.597710Z",
     "iopub.status.busy": "2022-03-05T22:52:41.597454Z",
     "iopub.status.idle": "2022-03-05T22:52:41.770834Z",
     "shell.execute_reply": "2022-03-05T22:52:41.771222Z"
    },
    "papermill": {
     "duration": 0.203089,
     "end_time": "2022-03-05T22:52:41.771347",
     "exception": false,
     "start_time": "2022-03-05T22:52:41.568258",
     "status": "completed"
    },
    "tags": []
   },
   "outputs": [
    {
     "data": {
      "image/png": "[encoded data removed]",
      "text/plain": [
       "<Figure size 1080x504 with 1 Axes>"
      ]
     },
     "metadata": {
      "needs_background": "light"
     },
     "output_type": "display_data"
    }
   ],
   "source": [
    "ax = get_loss_curve(experiment)\n",
    "plt.show()"
   ]
  },
  {
   "cell_type": "code",
   "execution_count": 17,
   "id": "fd8a0f60",
   "metadata": {
    "execution": {
     "iopub.execute_input": "2022-03-05T22:52:41.830520Z",
     "iopub.status.busy": "2022-03-05T22:52:41.830259Z",
     "iopub.status.idle": "2022-03-05T22:52:42.008506Z",
     "shell.execute_reply": "2022-03-05T22:52:42.008935Z"
    },
    "papermill": {
     "duration": 0.208454,
     "end_time": "2022-03-05T22:52:42.009065",
     "exception": false,
     "start_time": "2022-03-05T22:52:41.800611",
     "status": "completed"
    },
    "tags": []
   },
   "outputs": [
    {
     "data": {
      "text/plain": [
       "<matplotlib.axes._subplots.AxesSubplot at 0x7fd3a2bf6220>"
      ]
     },
     "execution_count": 17,
     "metadata": {},
     "output_type": "execute_result"
    },
    {
     "data": {
      "image/png": "[encoded data removed]",
      "text/plain": [
       "<Figure size 1080x504 with 1 Axes>"
      ]
     },
     "metadata": {
      "needs_background": "light"
     },
     "output_type": "display_data"
    }
   ],
   "source": [
    "get_results_table(experiment)"
   ]
  },
  {
   "cell_type": "code",
   "execution_count": 18,
   "id": "cf8dc689",
   "metadata": {
    "execution": {
     "iopub.execute_input": "2022-03-05T22:52:42.074845Z",
     "iopub.status.busy": "2022-03-05T22:52:42.074532Z",
     "iopub.status.idle": "2022-03-05T22:52:42.248082Z",
     "shell.execute_reply": "2022-03-05T22:52:42.248477Z"
    },
    "papermill": {
     "duration": 0.206883,
     "end_time": "2022-03-05T22:52:42.248603",
     "exception": false,
     "start_time": "2022-03-05T22:52:42.041720",
     "status": "completed"
    },
    "tags": []
   },
   "outputs": [
    {
     "data": {
      "text/plain": [
       "<matplotlib.axes._subplots.AxesSubplot at 0x7fd321f08280>"
      ]
     },
     "execution_count": 18,
     "metadata": {},
     "output_type": "execute_result"
    },
    {
     "data": {
      "image/png": "[encoded data removed]",
      "text/plain": [
       "<Figure size 1080x504 with 1 Axes>"
      ]
     },
     "metadata": {
      "needs_background": "light"
     },
     "output_type": "display_data"
    }
   ],
   "source": [
    "get_domain_accuracies(experiment)"
   ]
  },
  {
   "cell_type": "code",
   "execution_count": 19,
   "id": "a74ae082",
   "metadata": {
    "execution": {
     "iopub.execute_input": "2022-03-05T22:52:42.316760Z",
     "iopub.status.busy": "2022-03-05T22:52:42.316498Z",
     "iopub.status.idle": "2022-03-05T22:52:42.330993Z",
     "shell.execute_reply": "2022-03-05T22:52:42.330506Z"
    },
    "papermill": {
     "duration": 0.047562,
     "end_time": "2022-03-05T22:52:42.331091",
     "exception": false,
     "start_time": "2022-03-05T22:52:42.283529",
     "status": "completed"
    },
    "tags": []
   },
   "outputs": [
    {
     "name": "stdout",
     "output_type": "stream",
     "text": [
      "Source Test Label Accuracy: 0.7125347222222222 Target Test Label Accuracy: 0.6319791666666666\n",
      "Source Val Label Accuracy: 0.7090972222222223 Target Val Label Accuracy: 0.6313541666666667\n"
     ]
    }
   ],
   "source": [
    "print(\"Source Test Label Accuracy:\", experiment[\"results\"][\"source_test_label_accuracy\"], \"Target Test Label Accuracy:\", experiment[\"results\"][\"target_test_label_accuracy\"])\n",
    "print(\"Source Val Label Accuracy:\", experiment[\"results\"][\"source_val_label_accuracy\"], \"Target Val Label Accuracy:\", experiment[\"results\"][\"target_val_label_accuracy\"])"
   ]
  },
  {
   "cell_type": "code",
   "execution_count": 20,
   "id": "dacca602",
   "metadata": {
    "execution": {
     "iopub.execute_input": "2022-03-05T22:52:42.395999Z",
     "iopub.status.busy": "2022-03-05T22:52:42.395738Z",
     "iopub.status.idle": "2022-03-05T22:52:42.405020Z",
     "shell.execute_reply": "2022-03-05T22:52:42.405228Z"
    },
    "papermill": {
     "duration": 0.040777,
     "end_time": "2022-03-05T22:52:42.405290",
     "exception": false,
     "start_time": "2022-03-05T22:52:42.364513",
     "status": "completed"
    },
    "tags": [
     "experiment_json"
    ]
   },
   "outputs": [
    {
     "data": {
      "text/plain": [
       "'{\"experiment_name\": \"tuned_1_oracle.run1\", \"parameters\": {\"experiment_name\": \"tuned_1_oracle.run1\", \"device\": \"cuda\", \"lr\": 0.001, \"seed\": 1337, \"dataset_seed\": 1337, \"labels_source\": [\"3123D52\", \"3123D65\", \"3123D79\", \"3123D80\", \"3123D54\", \"3123D70\", \"3123D7B\", \"3123D89\", \"3123D58\", \"3123D76\", \"3123D7D\", \"3123EFE\", \"3123D64\", \"3123D78\", \"3123D7E\", \"3124E4A\"], \"labels_target\": [\"3123D52\", \"3123D65\", \"3123D79\", \"3123D80\", \"3123D54\", \"3123D70\", \"3123D7B\", \"3123D89\", \"3123D58\", \"3123D76\", \"3123D7D\", \"3123EFE\", \"3123D64\", \"3123D78\", \"3123D7E\", \"3124E4A\"], \"x_transforms_source\": [\"unit_mag\"], \"x_transforms_target\": [\"unit_mag\"], \"episode_transforms_source\": [], \"episode_transforms_target\": [], \"domains_source\": [8, 32, 50], \"domains_target\": [14, 20, 26, 38, 44], \"num_examples_per_domain_per_label_source\": 10000, \"num_examples_per_domain_per_label_target\": 1000, \"n_shot\": 3, \"n_way\": 16, \"n_query\": 2, \"train_k_factor\": 3, \"val_k_factor\": 2, \"test_k_factor\": 2, \"torch_default_dtype\": \"torch.float32\", \"n_epoch\": 50, \"patience\": 3, \"criteria_for_best\": \"target_loss\", \"x_net\": [{\"class\": \"nnReshape\", \"kargs\": {\"shape\": [-1, 1, 2, 256]}}, {\"class\": \"Conv2d\", \"kargs\": {\"in_channels\": 1, \"out_channels\": 256, \"kernel_size\": [1, 7], \"bias\": false, \"padding\": [0, 3]}}, {\"class\": \"ReLU\", \"kargs\": {\"inplace\": true}}, {\"class\": \"BatchNorm2d\", \"kargs\": {\"num_features\": 256}}, {\"class\": \"Conv2d\", \"kargs\": {\"in_channels\": 256, \"out_channels\": 80, \"kernel_size\": [2, 7], \"bias\": true, \"padding\": [0, 3]}}, {\"class\": \"ReLU\", \"kargs\": {\"inplace\": true}}, {\"class\": \"BatchNorm2d\", \"kargs\": {\"num_features\": 80}}, {\"class\": \"Flatten\", \"kargs\": {}}, {\"class\": \"Linear\", \"kargs\": {\"in_features\": 20480, \"out_features\": 256}}, {\"class\": \"ReLU\", \"kargs\": {\"inplace\": true}}, {\"class\": \"BatchNorm1d\", \"kargs\": {\"num_features\": 256}}, {\"class\": \"Linear\", \"kargs\": {\"in_features\": 256, \"out_features\": 256}}], \"NUM_LOGS_PER_EPOCH\": 10, \"BEST_MODEL_PATH\": \"./best_model.pth\", \"pickle_name\": \"oracle.Run1_10kExamples_stratified_ds.2022A.pkl\"}, \"results\": {\"source_test_label_accuracy\": 0.7125347222222222, \"source_test_label_loss\": 0.7887760996818542, \"target_test_label_accuracy\": 0.6319791666666666, \"target_test_label_loss\": 1.017648458480835, \"source_val_label_accuracy\": 0.7090972222222223, \"source_val_label_loss\": 0.8014165163040161, \"target_val_label_accuracy\": 0.6313541666666667, \"target_val_label_loss\": 0.9912516474723816, \"total_epochs_trained\": 8, \"total_experiment_time_secs\": 2845.068075656891, \"confusion\": {\"8\": {\"15\": {\"15\": 853, \"12\": 262, \"8\": 59, \"3\": 8, \"2\": 16, \"7\": 2}, \"3\": {\"3\": 929, \"2\": 174, \"12\": 90, \"15\": 7}, \"6\": {\"7\": 247, \"6\": 698, \"4\": 136, \"0\": 68, \"13\": 38, \"8\": 10, \"14\": 3}, \"1\": {\"11\": 298, \"1\": 815, \"10\": 12, \"14\": 52, \"5\": 23}, \"8\": {\"8\": 1133, \"15\": 55, \"6\": 7, \"12\": 3, \"7\": 1, \"4\": 1}, \"10\": {\"14\": 239, \"13\": 71, \"10\": 805, \"1\": 16, \"5\": 22, \"4\": 43, \"0\": 4}, \"9\": {\"9\": 1200}, \"13\": {\"13\": 380, \"14\": 123, \"4\": 196, \"0\": 317, \"10\": 114, \"6\": 55, \"7\": 11, \"1\": 2, \"5\": 2}, \"12\": {\"15\": 357, \"8\": 23, \"12\": 621, \"2\": 11, \"3\": 188}, \"5\": {\"5\": 1055, \"10\": 88, \"1\": 43, \"14\": 10, \"9\": 1, \"11\": 3}, \"0\": {\"0\": 677, \"7\": 79, \"6\": 87, \"10\": 11, \"13\": 273, \"4\": 69, \"14\": 4}, \"2\": {\"2\": 919, \"3\": 207, \"15\": 46, \"8\": 2, \"12\": 20, \"7\": 6}, \"11\": {\"11\": 694, \"1\": 437, \"5\": 23, \"8\": 11, \"4\": 5, \"14\": 23, \"10\": 6, \"6\": 1}, \"14\": {\"14\": 578, \"10\": 238, \"4\": 202, \"1\": 59, \"13\": 103, \"11\": 9, \"6\": 8, \"0\": 2, \"5\": 1}, \"7\": {\"7\": 845, \"6\": 288, \"0\": 56, \"13\": 4, \"8\": 5, \"15\": 1, \"2\": 1}, \"4\": {\"6\": 130, \"14\": 195, \"4\": 579, \"13\": 206, \"10\": 38, \"7\": 4, \"0\": 46, \"8\": 1, \"1\": 1}}, \"50\": {\"3\": {\"3\": 1168, \"8\": 32}, \"15\": {\"15\": 829, \"11\": 33, \"4\": 108, \"1\": 213, \"14\": 3, \"6\": 14}, \"8\": {\"8\": 1159, \"10\": 18, \"3\": 23}, \"4\": {\"1\": 221, \"15\": 210, \"7\": 25, \"4\": 457, \"5\": 100, \"6\": 157, \"13\": 30}, \"14\": {\"14\": 1158, \"11\": 17, \"12\": 25}, \"0\": {\"0\": 1025, \"2\": 110, \"10\": 54, \"13\": 10, \"5\": 1}, \"7\": {\"13\": 280, \"7\": 704, \"5\": 154, \"10\": 48, \"4\": 6, \"6\": 8}, \"6\": {\"1\": 104, \"6\": 785, \"13\": 83, \"4\": 146, \"5\": 67, \"7\": 2, \"15\": 12, \"0\": 1}, \"10\": {\"10\": 1103, \"13\": 21, \"0\": 39, \"8\": 12, \"5\": 6, \"7\": 19}, \"5\": {\"7\": 256, \"13\": 245, \"6\": 176, \"1\": 37, \"5\": 338, \"4\": 131, \"10\": 13, \"15\": 1, \"0\": 3}, \"2\": {\"2\": 1112, \"0\": 85, \"6\": 2, \"5\": 1}, \"12\": {\"12\": 1040, \"14\": 61, \"9\": 93, \"11\": 6}, \"9\": {\"11\": 151, \"9\": 919, \"12\": 124, \"14\": 6}, \"1\": {\"1\": 715, \"4\": 145, \"15\": 225, \"6\": 98, \"11\": 5, \"5\": 4, \"0\": 3, \"13\": 2, \"2\": 1, \"14\": 2}, \"11\": {\"11\": 1006, \"15\": 29, \"14\": 25, \"9\": 125, \"1\": 2, \"12\": 13}, \"13\": {\"13\": 649, \"5\": 236, \"6\": 67, \"7\": 216, \"4\": 16, \"10\": 15, \"0\": 1}}, \"32\": {\"5\": {\"7\": 133, \"8\": 107, \"3\": 52, \"5\": 325, \"11\": 23, \"4\": 142, \"14\": 27, \"13\": 317, \"2\": 9, \"0\": 65}, \"8\": {\"8\": 831, \"5\": 104, \"3\": 26, \"0\": 89, \"13\": 129, \"4\": 10, \"7\": 6, \"15\": 3, \"14\": 2}, \"11\": {\"11\": 853, \"14\": 240, \"7\": 40, \"13\": 28, \"3\": 22, \"5\": 17}, \"1\": {\"1\": 1189, \"10\": 11}, \"10\": {\"10\": 1197, \"1\": 3}, \"15\": {\"15\": 1190, \"8\": 8, \"3\": 2}, \"3\": {\"3\": 1048, \"13\": 60, \"11\": 35, \"5\": 20, \"8\": 31, \"14\": 6}, \"7\": {\"14\": 184, \"5\": 120, \"7\": 469, \"4\": 194, \"2\": 33, \"13\": 115, \"0\": 35, \"11\": 46, \"8\": 3, \"3\": 1}, \"4\": {\"5\": 87, \"4\": 603, \"2\": 201, \"0\": 109, \"7\": 164, \"13\": 29, \"14\": 3, \"8\": 4}, \"14\": {\"7\": 175, \"11\": 374, \"14\": 467, \"5\": 36, \"13\": 68, \"0\": 38, \"4\": 27, \"8\": 2, \"2\": 9, \"3\": 4}, \"9\": {\"9\": 1194, \"12\": 6}, \"12\": {\"12\": 1200}, \"6\": {\"6\": 1200}, \"2\": {\"2\": 937, \"7\": 19, \"4\": 191, \"0\": 47, \"5\": 2, \"14\": 3, \"13\": 1}, \"0\": {\"0\": 788, \"13\": 31, \"2\": 69, \"7\": 44, \"4\": 122, \"5\": 38, \"8\": 94, \"14\": 13, \"11\": 1}, \"13\": {\"13\": 405, \"8\": 90, \"0\": 46, \"11\": 34, \"5\": 320, \"14\": 54, \"7\": 110, \"3\": 81, \"4\": 60}}, \"14\": {\"15\": {\"15\": 114, \"7\": 6}, \"3\": {\"3\": 90, \"0\": 2, \"2\": 4, \"4\": 19, \"14\": 4, \"13\": 1}, \"6\": {\"13\": 41, \"6\": 68, \"14\": 8, \"5\": 1, \"2\": 2}, \"1\": {\"1\": 86, \"5\": 23, \"4\": 8, \"2\": 1, \"7\": 2}, \"8\": {\"8\": 120}, \"10\": {\"10\": 98, \"0\": 22}, \"9\": {\"9\": 119, \"11\": 1}, \"13\": {\"2\": 13, \"6\": 52, \"13\": 33, \"14\": 18, \"5\": 1, \"7\": 1, \"4\": 2}, \"12\": {\"12\": 120}, \"5\": {\"2\": 17, \"5\": 48, \"1\": 27, \"4\": 23, \"15\": 2, \"7\": 2, \"3\": 1}, \"0\": {\"0\": 90, \"10\": 25, \"11\": 3, \"3\": 1, \"8\": 1}, \"2\": {\"2\": 55, \"14\": 19, \"3\": 8, \"15\": 3, \"5\": 8, \"13\": 5, \"4\": 7, \"6\": 15}, \"11\": {\"0\": 8, \"11\": 107, \"9\": 4, \"10\": 1}, \"14\": {\"13\": 11, \"14\": 83, \"6\": 8, \"2\": 12, \"3\": 6}, \"7\": {\"15\": 8, \"5\": 1, \"7\": 110, \"1\": 1}, \"4\": {\"4\": 75, \"14\": 4, \"5\": 16, \"2\": 4, \"3\": 16, \"13\": 1, \"1\": 4}}, \"20\": {\"3\": {\"12\": 23, \"3\": 45, \"1\": 5, \"8\": 1, \"7\": 5, \"9\": 8, \"0\": 2, \"4\": 11, \"2\": 14, \"5\": 5, \"13\": 1}, \"15\": {\"15\": 77, \"1\": 23, \"5\": 9, \"0\": 10, \"12\": 1}, \"8\": {\"8\": 73, \"7\": 17, \"4\": 16, \"6\": 1, \"3\": 6, \"10\": 5, \"14\": 1, \"2\": 1}, \"4\": {\"4\": 88, \"3\": 6, \"8\": 21, \"10\": 3, \"0\": 1, \"12\": 1}, \"14\": {\"14\": 81, \"10\": 18, \"6\": 17, \"8\": 3, \"7\": 1}, \"0\": {\"4\": 4, \"5\": 26, \"0\": 63, \"1\": 6, \"3\": 4, \"15\": 8, \"12\": 9}, \"7\": {\"6\": 3, \"2\": 14, \"7\": 70, \"9\": 15, \"3\": 7, \"8\": 10, \"10\": 1}, \"6\": {\"14\": 19, \"6\": 96, \"8\": 2, \"7\": 2, \"10\": 1}, \"10\": {\"10\": 79, \"14\": 27, \"6\": 4, \"8\": 9, \"4\": 1}, \"5\": {\"5\": 39, \"12\": 17, \"0\": 28, \"1\": 16, \"15\": 13, \"2\": 1, \"3\": 4, \"13\": 1, \"4\": 1}, \"2\": {\"9\": 26, \"3\": 9, \"7\": 26, \"13\": 16, \"12\": 2, \"2\": 39, \"0\": 1, \"5\": 1}, \"12\": {\"15\": 4, \"5\": 22, \"9\": 9, \"1\": 17, \"3\": 22, \"12\": 32, \"7\": 1, \"4\": 2, \"0\": 5, \"2\": 6}, \"9\": {\"9\": 42, \"3\": 23, \"2\": 31, \"13\": 4, \"1\": 3, \"7\": 8, \"12\": 8, \"4\": 1}, \"1\": {\"5\": 30, \"15\": 26, \"0\": 9, \"12\": 18, \"1\": 33, \"3\": 3, \"13\": 1}, \"11\": {\"11\": 118, \"7\": 1, \"6\": 1}, \"13\": {\"9\": 7, \"13\": 99, \"2\": 11, \"15\": 1, \"1\": 1, \"12\": 1}}, \"44\": {\"5\": {\"0\": 13, \"5\": 103, \"15\": 2, \"14\": 2}, \"8\": {\"8\": 71, \"0\": 37, \"5\": 3, \"15\": 9}, \"11\": {\"11\": 109, \"13\": 6, \"6\": 5}, \"1\": {\"12\": 23, \"3\": 13, \"1\": 68, \"10\": 10, \"2\": 5, \"7\": 1}, \"10\": {\"1\": 9, \"10\": 77, \"12\": 19, \"2\": 14, \"3\": 1}, \"15\": {\"14\": 6, \"15\": 94, \"8\": 2, \"0\": 9, \"5\": 6, \"4\": 3}, \"3\": {\"3\": 101, \"1\": 16, \"7\": 1, \"2\": 1, \"12\": 1}, \"7\": {\"7\": 78, \"9\": 19, \"2\": 17, \"6\": 4, \"3\": 1, \"13\": 1}, \"4\": {\"14\": 33, \"4\": 87}, \"14\": {\"14\": 75, \"4\": 31, \"15\": 10, \"5\": 4}, \"9\": {\"7\": 27, \"9\": 65, \"6\": 11, \"13\": 16, \"2\": 1}, \"12\": {\"12\": 80, \"3\": 2, \"10\": 10, \"1\": 28}, \"6\": {\"6\": 87, \"13\": 17, \"9\": 13, \"11\": 3}, \"2\": {\"7\": 21, \"2\": 79, \"10\": 14, \"1\": 5, \"9\": 1}, \"0\": {\"0\": 65, \"15\": 7, \"8\": 33, \"5\": 15}, \"13\": {\"6\": 29, \"13\": 62, \"11\": 9, \"9\": 17, \"4\": 2, \"7\": 1}}, \"38\": {\"14\": {\"14\": 84, \"11\": 31, \"2\": 5}, \"0\": {\"8\": 35, \"7\": 28, \"3\": 10, \"0\": 31, \"5\": 10, \"10\": 3, \"9\": 1, \"4\": 1, \"15\": 1}, \"13\": {\"15\": 39, \"13\": 64, \"10\": 8, \"2\": 6, \"1\": 2, \"8\": 1}, \"7\": {\"0\": 22, \"7\": 94, \"5\": 2, \"3\": 1, \"8\": 1}, \"9\": {\"6\": 38, \"9\": 73, \"5\": 4, \"3\": 5}, \"3\": {\"3\": 107, \"6\": 1, \"7\": 5, \"9\": 2, \"0\": 3, \"5\": 2}, \"11\": {\"11\": 77, \"14\": 39, \"12\": 4}, \"6\": {\"6\": 91, \"9\": 27, \"5\": 2}, \"8\": {\"8\": 73, \"0\": 16, \"5\": 20, \"10\": 3, \"15\": 4, \"7\": 3, \"12\": 1}, \"4\": {\"4\": 111, \"12\": 9}, \"5\": {\"5\": 47, \"6\": 9, \"8\": 34, \"1\": 4, \"7\": 9, \"0\": 13, \"3\": 2, \"15\": 1, \"13\": 1}, \"10\": {\"13\": 4, \"10\": 98, \"12\": 10, \"8\": 6, \"0\": 1, \"7\": 1}, \"1\": {\"1\": 113, \"13\": 2, \"15\": 5}, \"2\": {\"2\": 109, \"14\": 9, \"13\": 2}, \"15\": {\"15\": 73, \"8\": 2, \"5\": 1, \"13\": 32, \"1\": 12}, \"12\": {\"12\": 113, \"4\": 4, \"10\": 3}}, \"26\": {\"13\": {\"13\": 84, \"9\": 5, \"2\": 1, \"5\": 15, \"6\": 5, \"15\": 10}, \"2\": {\"3\": 34, \"8\": 9, \"2\": 33, \"5\": 19, \"15\": 7, \"7\": 15, \"9\": 2, \"4\": 1}, \"8\": {\"15\": 6, \"8\": 36, \"10\": 8, \"6\": 6, \"9\": 10, \"14\": 4, \"2\": 4, \"7\": 12, \"0\": 17, \"4\": 15, \"3\": 1, \"5\": 1}, \"9\": {\"9\": 37, \"6\": 24, \"5\": 7, \"15\": 31, \"13\": 5, \"8\": 10, \"7\": 2, \"10\": 3, \"0\": 1}, \"12\": {\"12\": 119, \"11\": 1}, \"4\": {\"0\": 19, \"4\": 35, \"14\": 24, \"8\": 17, \"7\": 11, \"10\": 5, \"1\": 9}, \"3\": {\"3\": 68, \"2\": 27, \"7\": 23, \"4\": 2}, \"15\": {\"8\": 13, \"15\": 38, \"5\": 26, \"13\": 6, \"9\": 24, \"0\": 2, \"7\": 4, \"10\": 3, \"6\": 1, \"2\": 3}, \"14\": {\"14\": 27, \"8\": 8, \"10\": 12, \"1\": 30, \"4\": 20, \"0\": 22, \"7\": 1}, \"10\": {\"10\": 41, \"14\": 13, \"0\": 30, \"4\": 13, \"8\": 12, \"6\": 8, \"1\": 2, \"9\": 1}, \"7\": {\"3\": 24, \"7\": 54, \"4\": 15, \"8\": 10, \"2\": 10, \"14\": 4, \"1\": 2, \"10\": 1}, \"11\": {\"11\": 119, \"12\": 1}, \"6\": {\"6\": 80, \"8\": 3, \"15\": 3, \"10\": 12, \"0\": 2, \"9\": 19, \"13\": 1}, \"1\": {\"1\": 56, \"14\": 26, \"4\": 17, \"0\": 10, \"7\": 1, \"10\": 5, \"8\": 5}, \"5\": {\"13\": 18, \"2\": 11, \"5\": 54, \"9\": 13, \"15\": 21, \"6\": 1, \"7\": 1, \"8\": 1}, \"0\": {\"0\": 31, \"1\": 10, \"4\": 14, \"8\": 8, \"14\": 22, \"10\": 24, \"7\": 3, \"9\": 3, \"6\": 4, \"15\": 1}}}, \"per_domain_accuracy\": {\"8\": {\"accuracy\": 0.6656770833333333, \"source?\": true}, \"50\": {\"accuracy\": 0.7378645833333334, \"source?\": true}, \"32\": {\"accuracy\": 0.72375, \"source?\": true}, \"14\": {\"accuracy\": 0.7375, \"source?\": false}, \"20\": {\"accuracy\": 0.559375, \"source?\": false}, \"44\": {\"accuracy\": 0.6776041666666667, \"source?\": false}, \"38\": {\"accuracy\": 0.7072916666666667, \"source?\": false}, \"26\": {\"accuracy\": 0.475, \"source?\": false}}}, \"history\": {\"epoch_indices\": [1, 2, 3, 4, 5, 6, 7, 8], \"train_label_loss\": [1.1423197377579553, 0.8990675008131398, 0.7683100344808329, 0.6676229609489914, 0.5963225194208679, 0.530200932105737, 0.46105177493085936, 0.39813169274035665], \"source_val_label_loss\": [24.712305068969727, 0.9194499850273132, 0.8188591599464417, 0.8014165163040161, 0.7844173908233643, 0.802866518497467, 0.8484153151512146, 0.884187638759613], \"target_val_label_loss\": [24.709726333618164, 1.1102198362350464, 1.0105143785476685, 0.9912516474723816, 0.996253252029419, 1.0219194889068604, 1.0357078313827515, 1.1258212327957153], \"source_val_acc_label\": [0.5739930555555556, 0.6538888888888889, 0.6996006944444444, 0.7090972222222223, 0.7140104166666666, 0.7125694444444445, 0.6889236111111111, 0.6966145833333334], \"target_val_acc_label\": [0.49895833333333334, 0.5810416666666667, 0.6139583333333334, 0.6313541666666667, 0.6259375, 0.634375, 0.6145833333333334, 0.6117708333333334]}, \"dataset_metrics\": {\"source\": {\"train\": {\"n_unique_x\": 336000, \"n_unique_y\": 16, \"n_batch/episode\": 12600}, \"val\": {\"n_unique_x\": 72000, \"n_unique_y\": 16, \"n_batch/episode\": 1800}, \"test\": {\"n_unique_x\": 72000, \"n_unique_y\": 16, \"n_batch/episode\": 1800}}, \"target\": {\"train\": {\"n_unique_x\": 56000, \"n_unique_y\": 16, \"n_batch/episode\": 2100}, \"val\": {\"n_unique_x\": 12000, \"n_unique_y\": 16, \"n_batch/episode\": 300}, \"test\": {\"n_unique_x\": 12000, \"n_unique_y\": 16, \"n_batch/episode\": 300}}}}'"
      ]
     },
     "execution_count": 20,
     "metadata": {},
     "output_type": "execute_result"
    }
   ],
   "source": [
    "json.dumps(experiment)"
   ]
  }
 ],
 "metadata": {
  "celltoolbar": "Tags",
  "kernelspec": {
   "display_name": "Python 3 (ipykernel)",
   "language": "python",
   "name": "python3"
  },
  "language_info": {
   "codemirror_mode": {
    "name": "ipython",
    "version": 3
   },
   "file_extension": ".py",
   "mimetype": "text/x-python",
   "name": "python",
   "nbconvert_exporter": "python",
   "pygments_lexer": "ipython3",
   "version": "3.8.10"
  },
  "papermill": {
   "default_parameters": {},
   "duration": 2960.552396,
   "end_time": "2022-03-05T22:52:43.850301",
   "environment_variables": {},
   "exception": null,
   "input_path": "/mnt/wd500GB/CSC500/csc500-main/csc500-notebooks/templates/ptn_template.ipynb",
   "output_path": "trial.ipynb",
   "parameters": {
    "parameters": {
     "BEST_MODEL_PATH": "./best_model.pth",
     "NUM_LOGS_PER_EPOCH": 10,
     "criteria_for_best": "target_loss",
     "dataset_seed": 1337,
     "device": "cuda",
     "domains_source": [
      8,
      32,
      50
     ],
     "domains_target": [
      14,
      20,
      26,
      38,
      44
     ],
     "episode_transforms_source": [],
     "episode_transforms_target": [],
     "experiment_name": "tuned_1_oracle.run1",
     "labels_source": [
      "3123D52",
      "3123D65",
      "3123D79",
      "3123D80",
      "3123D54",
      "3123D70",
      "3123D7B",
      "3123D89",
      "3123D58",
      "3123D76",
      "3123D7D",
      "3123EFE",
      "3123D64",
      "3123D78",
      "3123D7E",
      "3124E4A"
     ],
     "labels_target": [
      "3123D52",
      "3123D65",
      "3123D79",
      "3123D80",
      "3123D54",
      "3123D70",
      "3123D7B",
      "3123D89",
      "3123D58",
      "3123D76",
      "3123D7D",
      "3123EFE",
      "3123D64",
      "3123D78",
      "3123D7E",
      "3124E4A"
     ],
     "lr": 0.001,
     "n_epoch": 50,
     "n_query": 2,
     "n_shot": 3,
     "n_way": 16,
     "num_examples_per_domain_per_label_source": 10000,
     "num_examples_per_domain_per_label_target": 1000,
     "patience": 3,
     "pickle_name": "oracle.Run1_10kExamples_stratified_ds.2022A.pkl",
     "seed": 1337,
     "test_k_factor": 2,
     "torch_default_dtype": "torch.float32",
     "train_k_factor": 3,
     "val_k_factor": 2,
     "x_net": [
      {
       "class": "nnReshape",
       "kargs": {
        "shape": [
         -1,
         1,
         2,
         256
        ]
       }
      },
      {
       "class": "Conv2d",
       "kargs": {
        "bias": false,
        "in_channels": 1,
        "kernel_size": [
         1,
         7
        ],
        "out_channels": 256,
        "padding": [
         0,
         3
        ]
       }
      },
      {
       "class": "ReLU",
       "kargs": {
        "inplace": true
       }
      },
      {
       "class": "BatchNorm2d",
       "kargs": {
        "num_features": 256
       }
      },
      {
       "class": "Conv2d",
       "kargs": {
        "bias": true,
        "in_channels": 256,
        "kernel_size": [
         2,
         7
        ],
        "out_channels": 80,
        "padding": [
         0,
         3
        ]
       }
      },
      {
       "class": "ReLU",
       "kargs": {
        "inplace": true
       }
      },
      {
       "class": "BatchNorm2d",
       "kargs": {
        "num_features": 80
       }
      },
      {
       "class": "Flatten",
       "kargs": {}
      },
      {
       "class": "Linear",
       "kargs": {
        "in_features": 20480,
        "out_features": 256
       }
      },
      {
       "class": "ReLU",
       "kargs": {
        "inplace": true
       }
      },
      {
       "class": "BatchNorm1d",
       "kargs": {
        "num_features": 256
       }
      },
      {
       "class": "Linear",
       "kargs": {
        "in_features": 256,
        "out_features": 256
       }
      }
     ],
     "x_transforms_source": [
      "unit_mag"
     ],
     "x_transforms_target": [
      "unit_mag"
     ]
    }
   },
   "start_time": "2022-03-05T22:03:23.297905",
   "version": "2.3.4"
  }
 },
 "nbformat": 4,
 "nbformat_minor": 5
}