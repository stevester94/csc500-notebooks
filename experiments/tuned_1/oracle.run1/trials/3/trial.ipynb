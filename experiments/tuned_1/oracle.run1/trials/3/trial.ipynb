{
 "cells": [
  {
   "cell_type": "markdown",
   "id": "9fea5f46",
   "metadata": {
    "papermill": {
     "duration": 0.009978,
     "end_time": "2022-03-06T00:03:31.439349",
     "exception": false,
     "start_time": "2022-03-06T00:03:31.429371",
     "status": "completed"
    },
    "tags": []
   },
   "source": [
    "# PTN Template\n",
    "This notebook serves as a template for single dataset PTN experiments  \n",
    "It can be run on its own by setting STANDALONE to True (do a find for \"STANDALONE\" to see where)  \n",
    "But it is intended to be executed as part of a *papermill.py script. See any of the   \n",
    "experimentes with a papermill script to get started with that workflow.  "
   ]
  },
  {
   "cell_type": "code",
   "execution_count": 1,
   "id": "0902182a",
   "metadata": {
    "execution": {
     "iopub.execute_input": "2022-03-06T00:03:31.475885Z",
     "iopub.status.busy": "2022-03-06T00:03:31.464418Z",
     "iopub.status.idle": "2022-03-06T00:03:32.276429Z",
     "shell.execute_reply": "2022-03-06T00:03:32.275932Z"
    },
    "papermill": {
     "duration": 0.824341,
     "end_time": "2022-03-06T00:03:32.276544",
     "exception": false,
     "start_time": "2022-03-06T00:03:31.452203",
     "status": "completed"
    },
    "tags": []
   },
   "outputs": [],
   "source": [
    "%load_ext autoreload\n",
    "%autoreload 2\n",
    "%matplotlib inline\n",
    "\n",
    "    \n",
    "import os, json, sys, time, random\n",
    "import numpy as np\n",
    "import torch\n",
    "from torch.optim import Adam\n",
    "from  easydict import EasyDict\n",
    "import matplotlib.pyplot as plt\n",
    "\n",
    "from steves_models.steves_ptn import Steves_Prototypical_Network\n",
    "\n",
    "from steves_utils.lazy_iterable_wrapper import Lazy_Iterable_Wrapper\n",
    "from steves_utils.iterable_aggregator import Iterable_Aggregator\n",
    "from steves_utils.ptn_train_eval_test_jig import  PTN_Train_Eval_Test_Jig\n",
    "from steves_utils.torch_sequential_builder import build_sequential\n",
    "from steves_utils.torch_utils import get_dataset_metrics, ptn_confusion_by_domain_over_dataloader\n",
    "from steves_utils.utils_v2 import (per_domain_accuracy_from_confusion, get_datasets_base_path)\n",
    "from steves_utils.PTN.utils import independent_accuracy_assesment\n",
    "\n",
    "from steves_utils.stratified_dataset.episodic_accessor import Episodic_Accessor_Factory\n",
    "\n",
    "from steves_utils.ptn_do_report import (\n",
    "    get_loss_curve,\n",
    "    get_results_table,\n",
    "    get_parameters_table,\n",
    "    get_domain_accuracies,\n",
    ")\n",
    "\n",
    "from steves_utils.transforms import get_chained_transform"
   ]
  },
  {
   "cell_type": "markdown",
   "id": "41c840b4",
   "metadata": {
    "papermill": {
     "duration": 0.009394,
     "end_time": "2022-03-06T00:03:32.300821",
     "exception": false,
     "start_time": "2022-03-06T00:03:32.291427",
     "status": "completed"
    },
    "tags": []
   },
   "source": [
    "# Required Parameters\n",
    "These are allowed parameters, not defaults\n",
    "Each of these values need to be present in the injected parameters (the notebook will raise an exception if they are not present)\n",
    "\n",
    "Papermill uses the cell tag \"parameters\" to inject the real parameters below this cell.\n",
    "Enable tags to see what I mean"
   ]
  },
  {
   "cell_type": "code",
   "execution_count": 2,
   "id": "fd44eb83",
   "metadata": {
    "execution": {
     "iopub.execute_input": "2022-03-06T00:03:32.322668Z",
     "iopub.status.busy": "2022-03-06T00:03:32.322403Z",
     "iopub.status.idle": "2022-03-06T00:03:32.336271Z",
     "shell.execute_reply": "2022-03-06T00:03:32.335845Z"
    },
    "papermill": {
     "duration": 0.026148,
     "end_time": "2022-03-06T00:03:32.336371",
     "exception": false,
     "start_time": "2022-03-06T00:03:32.310223",
     "status": "completed"
    },
    "tags": []
   },
   "outputs": [],
   "source": [
    "required_parameters = {\n",
    "    \"experiment_name\",\n",
    "    \"lr\",\n",
    "    \"device\",\n",
    "    \"seed\",\n",
    "    \"dataset_seed\",\n",
    "    \"labels_source\",\n",
    "    \"labels_target\",\n",
    "    \"domains_source\",\n",
    "    \"domains_target\",\n",
    "    \"num_examples_per_domain_per_label_source\",\n",
    "    \"num_examples_per_domain_per_label_target\",\n",
    "    \"n_shot\",\n",
    "    \"n_way\",\n",
    "    \"n_query\",\n",
    "    \"train_k_factor\",\n",
    "    \"val_k_factor\",\n",
    "    \"test_k_factor\",\n",
    "    \"n_epoch\",\n",
    "    \"patience\",\n",
    "    \"criteria_for_best\",\n",
    "    \"x_transforms_source\",\n",
    "    \"x_transforms_target\",\n",
    "    \"episode_transforms_source\",\n",
    "    \"episode_transforms_target\",\n",
    "    \"pickle_name\",\n",
    "    \"x_net\",\n",
    "    \"NUM_LOGS_PER_EPOCH\",\n",
    "    \"BEST_MODEL_PATH\",\n",
    "    \"torch_default_dtype\"\n",
    "}"
   ]
  },
  {
   "cell_type": "code",
   "execution_count": 3,
   "id": "fa3f0049",
   "metadata": {
    "execution": {
     "iopub.execute_input": "2022-03-06T00:03:32.367722Z",
     "iopub.status.busy": "2022-03-06T00:03:32.367317Z",
     "iopub.status.idle": "2022-03-06T00:03:32.377657Z",
     "shell.execute_reply": "2022-03-06T00:03:32.377202Z"
    },
    "papermill": {
     "duration": 0.029024,
     "end_time": "2022-03-06T00:03:32.377747",
     "exception": false,
     "start_time": "2022-03-06T00:03:32.348723",
     "status": "completed"
    },
    "tags": [
     "parameters"
    ]
   },
   "outputs": [],
   "source": [
    "\n",
    "\n",
    "standalone_parameters = {}\n",
    "standalone_parameters[\"experiment_name\"] = \"STANDALONE PTN\"\n",
    "standalone_parameters[\"lr\"] = 0.0001\n",
    "standalone_parameters[\"device\"] = \"cuda\"\n",
    "\n",
    "standalone_parameters[\"seed\"] = 1337\n",
    "standalone_parameters[\"dataset_seed\"] = 1337\n",
    "\n",
    "\n",
    "standalone_parameters[\"num_examples_per_domain_per_label_source\"]=100\n",
    "standalone_parameters[\"num_examples_per_domain_per_label_target\"]=100\n",
    "\n",
    "standalone_parameters[\"n_shot\"] = 3\n",
    "standalone_parameters[\"n_query\"]  = 2\n",
    "standalone_parameters[\"train_k_factor\"] = 1\n",
    "standalone_parameters[\"val_k_factor\"] = 2\n",
    "standalone_parameters[\"test_k_factor\"] = 2\n",
    "\n",
    "\n",
    "standalone_parameters[\"n_epoch\"] = 100\n",
    "\n",
    "standalone_parameters[\"patience\"] = 10\n",
    "standalone_parameters[\"criteria_for_best\"] = \"target_accuracy\"\n",
    "\n",
    "standalone_parameters[\"x_transforms_source\"] = [\"unit_power\"]\n",
    "standalone_parameters[\"x_transforms_target\"] = [\"unit_power\"]\n",
    "standalone_parameters[\"episode_transforms_source\"] = []\n",
    "standalone_parameters[\"episode_transforms_target\"] = []\n",
    "\n",
    "standalone_parameters[\"torch_default_dtype\"] = \"torch.float32\" \n",
    "\n",
    "\n",
    "\n",
    "standalone_parameters[\"x_net\"] =     [\n",
    "    {\"class\": \"nnReshape\", \"kargs\": {\"shape\":[-1, 1, 2, 256]}},\n",
    "    {\"class\": \"Conv2d\", \"kargs\": { \"in_channels\":1, \"out_channels\":256, \"kernel_size\":(1,7), \"bias\":False, \"padding\":(0,3), },},\n",
    "    {\"class\": \"ReLU\", \"kargs\": {\"inplace\": True}},\n",
    "    {\"class\": \"BatchNorm2d\", \"kargs\": {\"num_features\":256}},\n",
    "\n",
    "    {\"class\": \"Conv2d\", \"kargs\": { \"in_channels\":256, \"out_channels\":80, \"kernel_size\":(2,7), \"bias\":True, \"padding\":(0,3), },},\n",
    "    {\"class\": \"ReLU\", \"kargs\": {\"inplace\": True}},\n",
    "    {\"class\": \"BatchNorm2d\", \"kargs\": {\"num_features\":80}},\n",
    "    {\"class\": \"Flatten\", \"kargs\": {}},\n",
    "\n",
    "    {\"class\": \"Linear\", \"kargs\": {\"in_features\": 80*256, \"out_features\": 256}}, # 80 units per IQ pair\n",
    "    {\"class\": \"ReLU\", \"kargs\": {\"inplace\": True}},\n",
    "    {\"class\": \"BatchNorm1d\", \"kargs\": {\"num_features\":256}},\n",
    "\n",
    "    {\"class\": \"Linear\", \"kargs\": {\"in_features\": 256, \"out_features\": 256}},\n",
    "]\n",
    "\n",
    "# Parameters relevant to results\n",
    "# These parameters will basically never need to change\n",
    "standalone_parameters[\"NUM_LOGS_PER_EPOCH\"] = 10\n",
    "standalone_parameters[\"BEST_MODEL_PATH\"] = \"./best_model.pth\"\n",
    "\n",
    "# uncomment for CORES dataset\n",
    "from steves_utils.CORES.utils import (\n",
    "    ALL_NODES,\n",
    "    ALL_NODES_MINIMUM_1000_EXAMPLES,\n",
    "    ALL_DAYS\n",
    ")\n",
    "\n",
    "\n",
    "standalone_parameters[\"labels_source\"] = ALL_NODES\n",
    "standalone_parameters[\"labels_target\"] = ALL_NODES\n",
    "\n",
    "standalone_parameters[\"domains_source\"] = [1]\n",
    "standalone_parameters[\"domains_target\"] = [2,3,4,5]\n",
    "\n",
    "standalone_parameters[\"pickle_name\"] = \"cores.stratified_ds.2022A.pkl\"\n",
    "\n",
    "\n",
    "# Uncomment these for ORACLE dataset\n",
    "# from steves_utils.ORACLE.utils_v2 import (\n",
    "#     ALL_DISTANCES_FEET,\n",
    "#     ALL_RUNS,\n",
    "#     ALL_SERIAL_NUMBERS,\n",
    "# )\n",
    "# standalone_parameters[\"labels_source\"] = ALL_SERIAL_NUMBERS\n",
    "# standalone_parameters[\"labels_target\"] = ALL_SERIAL_NUMBERS\n",
    "# standalone_parameters[\"domains_source\"] = [8,20, 38,50]\n",
    "# standalone_parameters[\"domains_target\"] = [14, 26, 32, 44, 56]\n",
    "# standalone_parameters[\"pickle_name\"] = \"oracle.frame_indexed.stratified_ds.2022A.pkl\"\n",
    "# standalone_parameters[\"num_examples_per_domain_per_label_source\"]=1000\n",
    "# standalone_parameters[\"num_examples_per_domain_per_label_target\"]=1000\n",
    "\n",
    "# Uncomment these for Metahan dataset\n",
    "# standalone_parameters[\"labels_source\"] = list(range(19))\n",
    "# standalone_parameters[\"labels_target\"] = list(range(19))\n",
    "# standalone_parameters[\"domains_source\"] = [0]\n",
    "# standalone_parameters[\"domains_target\"] = [1]\n",
    "# standalone_parameters[\"pickle_name\"] = \"metehan.stratified_ds.2022A.pkl\"\n",
    "# standalone_parameters[\"n_way\"]  = len(standalone_parameters[\"labels_source\"])\n",
    "# standalone_parameters[\"num_examples_per_domain_per_label_source\"]=200\n",
    "# standalone_parameters[\"num_examples_per_domain_per_label_target\"]=100\n",
    "\n",
    "\n",
    "standalone_parameters[\"n_way\"]  = len(standalone_parameters[\"labels_source\"])"
   ]
  },
  {
   "cell_type": "code",
   "execution_count": 4,
   "id": "3c82f765",
   "metadata": {
    "execution": {
     "iopub.execute_input": "2022-03-06T00:03:32.406171Z",
     "iopub.status.busy": "2022-03-06T00:03:32.405892Z",
     "iopub.status.idle": "2022-03-06T00:03:32.415760Z",
     "shell.execute_reply": "2022-03-06T00:03:32.415408Z"
    },
    "papermill": {
     "duration": 0.024547,
     "end_time": "2022-03-06T00:03:32.415830",
     "exception": false,
     "start_time": "2022-03-06T00:03:32.391283",
     "status": "completed"
    },
    "tags": [
     "injected-parameters"
    ]
   },
   "outputs": [],
   "source": [
    "# Parameters\n",
    "parameters = {\n",
    "    \"experiment_name\": \"tuned_1_oracle.run1\",\n",
    "    \"device\": \"cuda\",\n",
    "    \"lr\": 0.001,\n",
    "    \"seed\": 1337,\n",
    "    \"dataset_seed\": 1337,\n",
    "    \"labels_source\": [\n",
    "        \"3123D52\",\n",
    "        \"3123D65\",\n",
    "        \"3123D79\",\n",
    "        \"3123D80\",\n",
    "        \"3123D54\",\n",
    "        \"3123D70\",\n",
    "        \"3123D7B\",\n",
    "        \"3123D89\",\n",
    "        \"3123D58\",\n",
    "        \"3123D76\",\n",
    "        \"3123D7D\",\n",
    "        \"3123EFE\",\n",
    "        \"3123D64\",\n",
    "        \"3123D78\",\n",
    "        \"3123D7E\",\n",
    "        \"3124E4A\",\n",
    "    ],\n",
    "    \"labels_target\": [\n",
    "        \"3123D52\",\n",
    "        \"3123D65\",\n",
    "        \"3123D79\",\n",
    "        \"3123D80\",\n",
    "        \"3123D54\",\n",
    "        \"3123D70\",\n",
    "        \"3123D7B\",\n",
    "        \"3123D89\",\n",
    "        \"3123D58\",\n",
    "        \"3123D76\",\n",
    "        \"3123D7D\",\n",
    "        \"3123EFE\",\n",
    "        \"3123D64\",\n",
    "        \"3123D78\",\n",
    "        \"3123D7E\",\n",
    "        \"3124E4A\",\n",
    "    ],\n",
    "    \"x_transforms_source\": [\"unit_power\"],\n",
    "    \"x_transforms_target\": [\"unit_power\"],\n",
    "    \"episode_transforms_source\": [],\n",
    "    \"episode_transforms_target\": [],\n",
    "    \"domains_source\": [8, 32, 50],\n",
    "    \"domains_target\": [14, 20, 26, 38, 44],\n",
    "    \"num_examples_per_domain_per_label_source\": 10000,\n",
    "    \"num_examples_per_domain_per_label_target\": 1000,\n",
    "    \"n_shot\": 3,\n",
    "    \"n_way\": 16,\n",
    "    \"n_query\": 2,\n",
    "    \"train_k_factor\": 3,\n",
    "    \"val_k_factor\": 2,\n",
    "    \"test_k_factor\": 2,\n",
    "    \"torch_default_dtype\": \"torch.float32\",\n",
    "    \"n_epoch\": 50,\n",
    "    \"patience\": 3,\n",
    "    \"criteria_for_best\": \"target_loss\",\n",
    "    \"x_net\": [\n",
    "        {\"class\": \"nnReshape\", \"kargs\": {\"shape\": [-1, 1, 2, 256]}},\n",
    "        {\n",
    "            \"class\": \"Conv2d\",\n",
    "            \"kargs\": {\n",
    "                \"in_channels\": 1,\n",
    "                \"out_channels\": 256,\n",
    "                \"kernel_size\": [1, 7],\n",
    "                \"bias\": False,\n",
    "                \"padding\": [0, 3],\n",
    "            },\n",
    "        },\n",
    "        {\"class\": \"ReLU\", \"kargs\": {\"inplace\": True}},\n",
    "        {\"class\": \"BatchNorm2d\", \"kargs\": {\"num_features\": 256}},\n",
    "        {\n",
    "            \"class\": \"Conv2d\",\n",
    "            \"kargs\": {\n",
    "                \"in_channels\": 256,\n",
    "                \"out_channels\": 80,\n",
    "                \"kernel_size\": [2, 7],\n",
    "                \"bias\": True,\n",
    "                \"padding\": [0, 3],\n",
    "            },\n",
    "        },\n",
    "        {\"class\": \"ReLU\", \"kargs\": {\"inplace\": True}},\n",
    "        {\"class\": \"BatchNorm2d\", \"kargs\": {\"num_features\": 80}},\n",
    "        {\"class\": \"Flatten\", \"kargs\": {}},\n",
    "        {\"class\": \"Linear\", \"kargs\": {\"in_features\": 20480, \"out_features\": 256}},\n",
    "        {\"class\": \"ReLU\", \"kargs\": {\"inplace\": True}},\n",
    "        {\"class\": \"BatchNorm1d\", \"kargs\": {\"num_features\": 256}},\n",
    "        {\"class\": \"Linear\", \"kargs\": {\"in_features\": 256, \"out_features\": 256}},\n",
    "    ],\n",
    "    \"NUM_LOGS_PER_EPOCH\": 10,\n",
    "    \"BEST_MODEL_PATH\": \"./best_model.pth\",\n",
    "    \"pickle_name\": \"oracle.Run1_10kExamples_stratified_ds.2022A.pkl\",\n",
    "}\n"
   ]
  },
  {
   "cell_type": "code",
   "execution_count": 5,
   "id": "8fa1cc33",
   "metadata": {
    "execution": {
     "iopub.execute_input": "2022-03-06T00:03:32.442769Z",
     "iopub.status.busy": "2022-03-06T00:03:32.442471Z",
     "iopub.status.idle": "2022-03-06T00:03:32.454366Z",
     "shell.execute_reply": "2022-03-06T00:03:32.453920Z"
    },
    "papermill": {
     "duration": 0.025231,
     "end_time": "2022-03-06T00:03:32.454455",
     "exception": false,
     "start_time": "2022-03-06T00:03:32.429224",
     "status": "completed"
    },
    "tags": []
   },
   "outputs": [],
   "source": [
    "# Set this to True if you want to run this template directly\n",
    "STANDALONE = False\n",
    "if STANDALONE:\n",
    "    print(\"parameters not injected, running with standalone_parameters\")\n",
    "    parameters = standalone_parameters\n",
    "\n",
    "if not 'parameters' in locals() and not 'parameters' in globals():\n",
    "    raise Exception(\"Parameter injection failed\")\n",
    "\n",
    "#Use an easy dict for all the parameters\n",
    "p = EasyDict(parameters)\n",
    "\n",
    "supplied_keys = set(p.keys())\n",
    "\n",
    "if  supplied_keys != required_parameters:\n",
    "    print(\"Parameters are incorrect\")\n",
    "    if len(supplied_keys - required_parameters)>0: print(\"Shouldn't have:\", str(supplied_keys - required_parameters))\n",
    "    if len(required_parameters - supplied_keys)>0: print(\"Need to have:\", str(required_parameters - supplied_keys))\n",
    "    raise RuntimeError(\"Parameters are incorrect\")\n",
    "\n"
   ]
  },
  {
   "cell_type": "code",
   "execution_count": 6,
   "id": "3a028d58",
   "metadata": {
    "execution": {
     "iopub.execute_input": "2022-03-06T00:03:32.476927Z",
     "iopub.status.busy": "2022-03-06T00:03:32.476680Z",
     "iopub.status.idle": "2022-03-06T00:03:32.485149Z",
     "shell.execute_reply": "2022-03-06T00:03:32.484935Z"
    },
    "papermill": {
     "duration": 0.01924,
     "end_time": "2022-03-06T00:03:32.485198",
     "exception": false,
     "start_time": "2022-03-06T00:03:32.465958",
     "status": "completed"
    },
    "tags": []
   },
   "outputs": [],
   "source": [
    "###################################\n",
    "# Set the RNGs and make it all deterministic\n",
    "###################################\n",
    "np.random.seed(p.seed)\n",
    "random.seed(p.seed)\n",
    "torch.manual_seed(p.seed)\n",
    "\n",
    "torch.use_deterministic_algorithms(True) "
   ]
  },
  {
   "cell_type": "code",
   "execution_count": 7,
   "id": "b691acf6",
   "metadata": {
    "execution": {
     "iopub.execute_input": "2022-03-06T00:03:32.505851Z",
     "iopub.status.busy": "2022-03-06T00:03:32.505606Z",
     "iopub.status.idle": "2022-03-06T00:03:32.518141Z",
     "shell.execute_reply": "2022-03-06T00:03:32.517790Z"
    },
    "papermill": {
     "duration": 0.023716,
     "end_time": "2022-03-06T00:03:32.518210",
     "exception": false,
     "start_time": "2022-03-06T00:03:32.494494",
     "status": "completed"
    },
    "tags": []
   },
   "outputs": [],
   "source": [
    "###########################################\n",
    "# The stratified datasets honor this\n",
    "###########################################\n",
    "torch.set_default_dtype(eval(p.torch_default_dtype))"
   ]
  },
  {
   "cell_type": "code",
   "execution_count": 8,
   "id": "b5fba671",
   "metadata": {
    "execution": {
     "iopub.execute_input": "2022-03-06T00:03:32.543399Z",
     "iopub.status.busy": "2022-03-06T00:03:32.543075Z",
     "iopub.status.idle": "2022-03-06T00:03:32.581944Z",
     "shell.execute_reply": "2022-03-06T00:03:32.581467Z"
    },
    "papermill": {
     "duration": 0.050275,
     "end_time": "2022-03-06T00:03:32.582052",
     "exception": false,
     "start_time": "2022-03-06T00:03:32.531777",
     "status": "completed"
    },
    "tags": []
   },
   "outputs": [],
   "source": [
    "###################################\n",
    "# Build the network(s)\n",
    "# Note: It's critical to do this AFTER setting the RNG\n",
    "# (This is due to the randomized initial weights)\n",
    "###################################\n",
    "x_net = build_sequential(p.x_net)"
   ]
  },
  {
   "cell_type": "code",
   "execution_count": 9,
   "id": "5d7e61cc",
   "metadata": {
    "execution": {
     "iopub.execute_input": "2022-03-06T00:03:32.609085Z",
     "iopub.status.busy": "2022-03-06T00:03:32.608835Z",
     "iopub.status.idle": "2022-03-06T00:03:32.622281Z",
     "shell.execute_reply": "2022-03-06T00:03:32.622030Z"
    },
    "papermill": {
     "duration": 0.025799,
     "end_time": "2022-03-06T00:03:32.622334",
     "exception": false,
     "start_time": "2022-03-06T00:03:32.596535",
     "status": "completed"
    },
    "tags": []
   },
   "outputs": [],
   "source": [
    "start_time_secs = time.time()"
   ]
  },
  {
   "cell_type": "code",
   "execution_count": 10,
   "id": "fd5442bc",
   "metadata": {
    "execution": {
     "iopub.execute_input": "2022-03-06T00:03:32.653450Z",
     "iopub.status.busy": "2022-03-06T00:03:32.652103Z",
     "iopub.status.idle": "2022-03-06T00:04:10.244396Z",
     "shell.execute_reply": "2022-03-06T00:04:10.243933Z"
    },
    "papermill": {
     "duration": 37.608495,
     "end_time": "2022-03-06T00:04:10.244507",
     "exception": false,
     "start_time": "2022-03-06T00:03:32.636012",
     "status": "completed"
    },
    "tags": []
   },
   "outputs": [],
   "source": [
    "###################################\n",
    "# Build the dataset\n",
    "###################################\n",
    "\n",
    "if p.x_transforms_source == []: x_transform_source = None\n",
    "else: x_transform_source = get_chained_transform(p.x_transforms_source) \n",
    "\n",
    "if p.x_transforms_target == []: x_transform_target = None\n",
    "else: x_transform_target = get_chained_transform(p.x_transforms_target)\n",
    "\n",
    "if p.episode_transforms_source == []: episode_transform_source = None\n",
    "else: raise Exception(\"episode_transform_source not implemented\")\n",
    "\n",
    "if p.episode_transforms_target == []: episode_transform_target = None\n",
    "else: raise Exception(\"episode_transform_target not implemented\")\n",
    "\n",
    "\n",
    "eaf_source = Episodic_Accessor_Factory(\n",
    "    labels=p.labels_source,\n",
    "    domains=p.domains_source,\n",
    "    num_examples_per_domain_per_label=p.num_examples_per_domain_per_label_source,\n",
    "    iterator_seed=p.seed,\n",
    "    dataset_seed=p.dataset_seed,\n",
    "    n_shot=p.n_shot,\n",
    "    n_way=p.n_way,\n",
    "    n_query=p.n_query,\n",
    "    train_val_test_k_factors=(p.train_k_factor,p.val_k_factor,p.test_k_factor),\n",
    "    pickle_path=os.path.join(get_datasets_base_path(), p.pickle_name),\n",
    "    x_transform_func=x_transform_source,\n",
    "    example_transform_func=episode_transform_source,\n",
    "    \n",
    ")\n",
    "train_original_source, val_original_source, test_original_source = eaf_source.get_train(), eaf_source.get_val(), eaf_source.get_test()\n",
    "\n",
    "\n",
    "eaf_target = Episodic_Accessor_Factory(\n",
    "    labels=p.labels_target,\n",
    "    domains=p.domains_target,\n",
    "    num_examples_per_domain_per_label=p.num_examples_per_domain_per_label_target,\n",
    "    iterator_seed=p.seed,\n",
    "    dataset_seed=p.dataset_seed,\n",
    "    n_shot=p.n_shot,\n",
    "    n_way=p.n_way,\n",
    "    n_query=p.n_query,\n",
    "    train_val_test_k_factors=(p.train_k_factor,p.val_k_factor,p.test_k_factor),\n",
    "    pickle_path=os.path.join(get_datasets_base_path(), p.pickle_name),\n",
    "    x_transform_func=x_transform_target,\n",
    "    example_transform_func=episode_transform_target,\n",
    ")\n",
    "train_original_target, val_original_target, test_original_target = eaf_target.get_train(), eaf_target.get_val(), eaf_target.get_test()\n",
    "\n",
    "\n",
    "transform_lambda = lambda ex: ex[1] # Original is (<domain>, <episode>) so we strip down to episode only\n",
    "\n",
    "train_processed_source = Lazy_Iterable_Wrapper(train_original_source, transform_lambda)\n",
    "val_processed_source   = Lazy_Iterable_Wrapper(val_original_source, transform_lambda)\n",
    "test_processed_source  = Lazy_Iterable_Wrapper(test_original_source, transform_lambda)\n",
    "\n",
    "train_processed_target = Lazy_Iterable_Wrapper(train_original_target, transform_lambda)\n",
    "val_processed_target   = Lazy_Iterable_Wrapper(val_original_target, transform_lambda)\n",
    "test_processed_target  = Lazy_Iterable_Wrapper(test_original_target, transform_lambda)\n",
    "\n",
    "datasets = EasyDict({\n",
    "    \"source\": {\n",
    "        \"original\": {\"train\":train_original_source, \"val\":val_original_source, \"test\":test_original_source},\n",
    "        \"processed\": {\"train\":train_processed_source, \"val\":val_processed_source, \"test\":test_processed_source}\n",
    "    },\n",
    "    \"target\": {\n",
    "        \"original\": {\"train\":train_original_target, \"val\":val_original_target, \"test\":test_original_target},\n",
    "        \"processed\": {\"train\":train_processed_target, \"val\":val_processed_target, \"test\":test_processed_target}\n",
    "    },\n",
    "})"
   ]
  },
  {
   "cell_type": "code",
   "execution_count": 11,
   "id": "296189d9",
   "metadata": {
    "execution": {
     "iopub.execute_input": "2022-03-06T00:04:10.273858Z",
     "iopub.status.busy": "2022-03-06T00:04:10.273598Z",
     "iopub.status.idle": "2022-03-06T00:04:12.025399Z",
     "shell.execute_reply": "2022-03-06T00:04:12.025749Z"
    },
    "papermill": {
     "duration": 1.764765,
     "end_time": "2022-03-06T00:04:12.025855",
     "exception": false,
     "start_time": "2022-03-06T00:04:10.261090",
     "status": "completed"
    },
    "tags": []
   },
   "outputs": [
    {
     "name": "stdout",
     "output_type": "stream",
     "text": [
      "Visually inspect these to see if they line up with expected values given the transforms\n",
      "x_transforms_source ['unit_power']\n",
      "x_transforms_target ['unit_power']\n",
      "Average magnitude, source: 0.8716737\n",
      "Average power, source: 1.0\n"
     ]
    },
    {
     "name": "stdout",
     "output_type": "stream",
     "text": [
      "Average magnitude, target: 0.88260865\n",
      "Average power, target: 0.99999994\n"
     ]
    }
   ],
   "source": [
    "# Some quick unit tests on the data\n",
    "from steves_utils.transforms import get_average_power, get_average_magnitude\n",
    "\n",
    "q_x, q_y, s_x, s_y, truth = next(iter(train_processed_source))\n",
    "\n",
    "assert q_x.dtype == eval(p.torch_default_dtype)\n",
    "assert s_x.dtype == eval(p.torch_default_dtype)\n",
    "\n",
    "print(\"Visually inspect these to see if they line up with expected values given the transforms\")\n",
    "print('x_transforms_source', p.x_transforms_source)\n",
    "print('x_transforms_target', p.x_transforms_target)\n",
    "print(\"Average magnitude, source:\", get_average_magnitude(q_x[0].numpy()))\n",
    "print(\"Average power, source:\", get_average_power(q_x[0].numpy()))\n",
    "\n",
    "q_x, q_y, s_x, s_y, truth = next(iter(train_processed_target))\n",
    "print(\"Average magnitude, target:\", get_average_magnitude(q_x[0].numpy()))\n",
    "print(\"Average power, target:\", get_average_power(q_x[0].numpy()))\n"
   ]
  },
  {
   "cell_type": "code",
   "execution_count": 12,
   "id": "bbdacba1",
   "metadata": {
    "execution": {
     "iopub.execute_input": "2022-03-06T00:04:12.054924Z",
     "iopub.status.busy": "2022-03-06T00:04:12.054650Z",
     "iopub.status.idle": "2022-03-06T00:04:12.113101Z",
     "shell.execute_reply": "2022-03-06T00:04:12.112855Z"
    },
    "papermill": {
     "duration": 0.072264,
     "end_time": "2022-03-06T00:04:12.113161",
     "exception": false,
     "start_time": "2022-03-06T00:04:12.040897",
     "status": "completed"
    },
    "tags": []
   },
   "outputs": [
    {
     "name": "stdout",
     "output_type": "stream",
     "text": [
      "(2, 256)\n"
     ]
    }
   ],
   "source": [
    "###################################\n",
    "# Build the model\n",
    "###################################\n",
    "model = Steves_Prototypical_Network(x_net, device=p.device, x_shape=(2,256))\n",
    "optimizer = Adam(params=model.parameters(), lr=p.lr)"
   ]
  },
  {
   "cell_type": "code",
   "execution_count": 13,
   "id": "22b39ac5",
   "metadata": {
    "execution": {
     "iopub.execute_input": "2022-03-06T00:04:12.145044Z",
     "iopub.status.busy": "2022-03-06T00:04:12.144761Z",
     "iopub.status.idle": "2022-03-06T00:49:46.252967Z",
     "shell.execute_reply": "2022-03-06T00:49:46.252729Z"
    },
    "papermill": {
     "duration": 2734.127079,
     "end_time": "2022-03-06T00:49:46.253025",
     "exception": false,
     "start_time": "2022-03-06T00:04:12.125946",
     "status": "completed"
    },
    "tags": []
   },
   "outputs": [
    {
     "name": "stdout",
     "output_type": "stream",
     "text": [
      "epoch: 1, [batch: 1 / 12600], examples_per_second: 26.2596, train_label_loss: 2.7716, \n"
     ]
    },
    {
     "name": "stdout",
     "output_type": "stream",
     "text": [
      "epoch: 1, [batch: 1260 / 12600], examples_per_second: 3130.2302, train_label_loss: 1.7616, \n"
     ]
    },
    {
     "name": "stdout",
     "output_type": "stream",
     "text": [
      "epoch: 1, [batch: 2520 / 12600], examples_per_second: 3131.1475, train_label_loss: 1.0741, \n"
     ]
    },
    {
     "name": "stdout",
     "output_type": "stream",
     "text": [
      "epoch: 1, [batch: 3780 / 12600], examples_per_second: 3114.4904, train_label_loss: 1.1657, \n"
     ]
    },
    {
     "name": "stdout",
     "output_type": "stream",
     "text": [
      "epoch: 1, [batch: 5040 / 12600], examples_per_second: 3108.4963, train_label_loss: 0.8048, \n"
     ]
    },
    {
     "name": "stdout",
     "output_type": "stream",
     "text": [
      "epoch: 1, [batch: 6300 / 12600], examples_per_second: 3113.2447, train_label_loss: 1.2110, \n"
     ]
    },
    {
     "name": "stdout",
     "output_type": "stream",
     "text": [
      "epoch: 1, [batch: 7560 / 12600], examples_per_second: 3124.1841, train_label_loss: 1.2459, \n"
     ]
    },
    {
     "name": "stdout",
     "output_type": "stream",
     "text": [
      "epoch: 1, [batch: 8820 / 12600], examples_per_second: 3115.6021, train_label_loss: 0.8117, \n"
     ]
    },
    {
     "name": "stdout",
     "output_type": "stream",
     "text": [
      "epoch: 1, [batch: 10080 / 12600], examples_per_second: 3113.5148, train_label_loss: 1.0492, \n"
     ]
    },
    {
     "name": "stdout",
     "output_type": "stream",
     "text": [
      "epoch: 1, [batch: 11340 / 12600], examples_per_second: 3118.9702, train_label_loss: 0.6308, \n"
     ]
    },
    {
     "name": "stdout",
     "output_type": "stream",
     "text": [
      "=============================================================\n",
      "epoch: 1, source_val_acc_label: 0.5855, target_val_acc_label: 0.5047, source_val_label_loss: 12.7916, target_val_label_loss: 13.2880, \n",
      "=============================================================\n"
     ]
    },
    {
     "name": "stdout",
     "output_type": "stream",
     "text": [
      "New best\n"
     ]
    },
    {
     "name": "stdout",
     "output_type": "stream",
     "text": [
      "epoch: 2, [batch: 1 / 12600], examples_per_second: 2.9944, train_label_loss: 0.8917, \n"
     ]
    },
    {
     "name": "stdout",
     "output_type": "stream",
     "text": [
      "epoch: 2, [batch: 1260 / 12600], examples_per_second: 3129.3158, train_label_loss: 0.6073, \n"
     ]
    },
    {
     "name": "stdout",
     "output_type": "stream",
     "text": [
      "epoch: 2, [batch: 2520 / 12600], examples_per_second: 3143.8064, train_label_loss: 0.9180, \n"
     ]
    },
    {
     "name": "stdout",
     "output_type": "stream",
     "text": [
      "epoch: 2, [batch: 3780 / 12600], examples_per_second: 3155.3674, train_label_loss: 0.9700, \n"
     ]
    },
    {
     "name": "stdout",
     "output_type": "stream",
     "text": [
      "epoch: 2, [batch: 5040 / 12600], examples_per_second: 3139.2313, train_label_loss: 0.8169, \n"
     ]
    },
    {
     "name": "stdout",
     "output_type": "stream",
     "text": [
      "epoch: 2, [batch: 6300 / 12600], examples_per_second: 3147.7727, train_label_loss: 0.8974, \n"
     ]
    },
    {
     "name": "stdout",
     "output_type": "stream",
     "text": [
      "epoch: 2, [batch: 7560 / 12600], examples_per_second: 3153.2837, train_label_loss: 1.2065, \n"
     ]
    },
    {
     "name": "stdout",
     "output_type": "stream",
     "text": [
      "epoch: 2, [batch: 8820 / 12600], examples_per_second: 3146.3881, train_label_loss: 0.7936, \n"
     ]
    },
    {
     "name": "stdout",
     "output_type": "stream",
     "text": [
      "epoch: 2, [batch: 10080 / 12600], examples_per_second: 3150.2336, train_label_loss: 0.5431, \n"
     ]
    },
    {
     "name": "stdout",
     "output_type": "stream",
     "text": [
      "epoch: 2, [batch: 11340 / 12600], examples_per_second: 3148.4627, train_label_loss: 0.7343, \n"
     ]
    },
    {
     "name": "stdout",
     "output_type": "stream",
     "text": [
      "=============================================================\n",
      "epoch: 2, source_val_acc_label: 0.6713, target_val_acc_label: 0.5954, source_val_label_loss: 0.8664, target_val_label_loss: 1.0704, \n",
      "=============================================================\n"
     ]
    },
    {
     "name": "stdout",
     "output_type": "stream",
     "text": [
      "New best\n"
     ]
    },
    {
     "name": "stdout",
     "output_type": "stream",
     "text": [
      "epoch: 3, [batch: 1 / 12600], examples_per_second: 3.0069, train_label_loss: 0.7635, \n"
     ]
    },
    {
     "name": "stdout",
     "output_type": "stream",
     "text": [
      "epoch: 3, [batch: 1260 / 12600], examples_per_second: 3139.6615, train_label_loss: 0.8675, \n"
     ]
    },
    {
     "name": "stdout",
     "output_type": "stream",
     "text": [
      "epoch: 3, [batch: 2520 / 12600], examples_per_second: 3152.2479, train_label_loss: 0.9003, \n"
     ]
    },
    {
     "name": "stdout",
     "output_type": "stream",
     "text": [
      "epoch: 3, [batch: 3780 / 12600], examples_per_second: 3149.9378, train_label_loss: 0.9473, \n"
     ]
    },
    {
     "name": "stdout",
     "output_type": "stream",
     "text": [
      "epoch: 3, [batch: 5040 / 12600], examples_per_second: 3141.8752, train_label_loss: 1.0712, \n"
     ]
    },
    {
     "name": "stdout",
     "output_type": "stream",
     "text": [
      "epoch: 3, [batch: 6300 / 12600], examples_per_second: 3150.6021, train_label_loss: 0.6730, \n"
     ]
    },
    {
     "name": "stdout",
     "output_type": "stream",
     "text": [
      "epoch: 3, [batch: 7560 / 12600], examples_per_second: 3156.0287, train_label_loss: 0.8703, \n"
     ]
    },
    {
     "name": "stdout",
     "output_type": "stream",
     "text": [
      "epoch: 3, [batch: 8820 / 12600], examples_per_second: 3138.5191, train_label_loss: 0.8688, \n"
     ]
    },
    {
     "name": "stdout",
     "output_type": "stream",
     "text": [
      "epoch: 3, [batch: 10080 / 12600], examples_per_second: 3149.2661, train_label_loss: 1.1325, \n"
     ]
    },
    {
     "name": "stdout",
     "output_type": "stream",
     "text": [
      "epoch: 3, [batch: 11340 / 12600], examples_per_second: 3150.6054, train_label_loss: 0.7208, \n"
     ]
    },
    {
     "name": "stdout",
     "output_type": "stream",
     "text": [
      "=============================================================\n",
      "epoch: 3, source_val_acc_label: 0.6982, target_val_acc_label: 0.6215, source_val_label_loss: 0.8433, target_val_label_loss: 1.0270, \n",
      "=============================================================\n"
     ]
    },
    {
     "name": "stdout",
     "output_type": "stream",
     "text": [
      "New best\n"
     ]
    },
    {
     "name": "stdout",
     "output_type": "stream",
     "text": [
      "epoch: 4, [batch: 1 / 12600], examples_per_second: 3.0162, train_label_loss: 0.5915, \n"
     ]
    },
    {
     "name": "stdout",
     "output_type": "stream",
     "text": [
      "epoch: 4, [batch: 1260 / 12600], examples_per_second: 3134.5097, train_label_loss: 0.8458, \n"
     ]
    },
    {
     "name": "stdout",
     "output_type": "stream",
     "text": [
      "epoch: 4, [batch: 2520 / 12600], examples_per_second: 3153.7324, train_label_loss: 0.8574, \n"
     ]
    },
    {
     "name": "stdout",
     "output_type": "stream",
     "text": [
      "epoch: 4, [batch: 3780 / 12600], examples_per_second: 3152.0245, train_label_loss: 0.7260, \n"
     ]
    },
    {
     "name": "stdout",
     "output_type": "stream",
     "text": [
      "epoch: 4, [batch: 5040 / 12600], examples_per_second: 3136.3760, train_label_loss: 0.5253, \n"
     ]
    },
    {
     "name": "stdout",
     "output_type": "stream",
     "text": [
      "epoch: 4, [batch: 6300 / 12600], examples_per_second: 3147.1110, train_label_loss: 0.5504, \n"
     ]
    },
    {
     "name": "stdout",
     "output_type": "stream",
     "text": [
      "epoch: 4, [batch: 7560 / 12600], examples_per_second: 3150.9738, train_label_loss: 0.8257, \n"
     ]
    },
    {
     "name": "stdout",
     "output_type": "stream",
     "text": [
      "epoch: 4, [batch: 8820 / 12600], examples_per_second: 3141.5525, train_label_loss: 0.5449, \n"
     ]
    },
    {
     "name": "stdout",
     "output_type": "stream",
     "text": [
      "epoch: 4, [batch: 10080 / 12600], examples_per_second: 3154.0492, train_label_loss: 0.6149, \n"
     ]
    },
    {
     "name": "stdout",
     "output_type": "stream",
     "text": [
      "epoch: 4, [batch: 11340 / 12600], examples_per_second: 3148.4892, train_label_loss: 0.3983, \n"
     ]
    },
    {
     "name": "stdout",
     "output_type": "stream",
     "text": [
      "=============================================================\n",
      "epoch: 4, source_val_acc_label: 0.7084, target_val_acc_label: 0.6384, source_val_label_loss: 0.8112, target_val_label_loss: 1.0177, \n",
      "=============================================================\n"
     ]
    },
    {
     "name": "stdout",
     "output_type": "stream",
     "text": [
      "New best\n"
     ]
    },
    {
     "name": "stdout",
     "output_type": "stream",
     "text": [
      "epoch: 5, [batch: 1 / 12600], examples_per_second: 3.0082, train_label_loss: 0.6883, \n"
     ]
    },
    {
     "name": "stdout",
     "output_type": "stream",
     "text": [
      "epoch: 5, [batch: 1260 / 12600], examples_per_second: 3126.3090, train_label_loss: 0.4007, \n"
     ]
    },
    {
     "name": "stdout",
     "output_type": "stream",
     "text": [
      "epoch: 5, [batch: 2520 / 12600], examples_per_second: 3145.5758, train_label_loss: 0.6326, \n"
     ]
    },
    {
     "name": "stdout",
     "output_type": "stream",
     "text": [
      "epoch: 5, [batch: 3780 / 12600], examples_per_second: 3147.0501, train_label_loss: 0.5310, \n"
     ]
    },
    {
     "name": "stdout",
     "output_type": "stream",
     "text": [
      "epoch: 5, [batch: 5040 / 12600], examples_per_second: 3136.6562, train_label_loss: 0.3509, \n"
     ]
    },
    {
     "name": "stdout",
     "output_type": "stream",
     "text": [
      "epoch: 5, [batch: 6300 / 12600], examples_per_second: 3147.1839, train_label_loss: 0.6430, \n"
     ]
    },
    {
     "name": "stdout",
     "output_type": "stream",
     "text": [
      "epoch: 5, [batch: 7560 / 12600], examples_per_second: 3152.5820, train_label_loss: 0.7411, \n"
     ]
    },
    {
     "name": "stdout",
     "output_type": "stream",
     "text": [
      "epoch: 5, [batch: 8820 / 12600], examples_per_second: 3139.8938, train_label_loss: 0.3286, \n"
     ]
    },
    {
     "name": "stdout",
     "output_type": "stream",
     "text": [
      "epoch: 5, [batch: 10080 / 12600], examples_per_second: 3142.2632, train_label_loss: 0.7914, \n"
     ]
    },
    {
     "name": "stdout",
     "output_type": "stream",
     "text": [
      "epoch: 5, [batch: 11340 / 12600], examples_per_second: 3148.1021, train_label_loss: 0.7281, \n"
     ]
    },
    {
     "name": "stdout",
     "output_type": "stream",
     "text": [
      "=============================================================\n",
      "epoch: 5, source_val_acc_label: 0.7087, target_val_acc_label: 0.6251, source_val_label_loss: 0.8014, target_val_label_loss: 1.0595, \n",
      "=============================================================\n"
     ]
    },
    {
     "name": "stdout",
     "output_type": "stream",
     "text": [
      "epoch: 6, [batch: 1 / 12600], examples_per_second: 3.0180, train_label_loss: 0.3674, \n"
     ]
    },
    {
     "name": "stdout",
     "output_type": "stream",
     "text": [
      "epoch: 6, [batch: 1260 / 12600], examples_per_second: 3146.3808, train_label_loss: 0.8017, \n"
     ]
    },
    {
     "name": "stdout",
     "output_type": "stream",
     "text": [
      "epoch: 6, [batch: 2520 / 12600], examples_per_second: 3141.9469, train_label_loss: 0.4805, \n"
     ]
    },
    {
     "name": "stdout",
     "output_type": "stream",
     "text": [
      "epoch: 6, [batch: 3780 / 12600], examples_per_second: 3149.7025, train_label_loss: 0.2075, \n"
     ]
    },
    {
     "name": "stdout",
     "output_type": "stream",
     "text": [
      "epoch: 6, [batch: 5040 / 12600], examples_per_second: 3130.4504, train_label_loss: 0.4508, \n"
     ]
    },
    {
     "name": "stdout",
     "output_type": "stream",
     "text": [
      "epoch: 6, [batch: 6300 / 12600], examples_per_second: 3149.6996, train_label_loss: 0.4419, \n"
     ]
    },
    {
     "name": "stdout",
     "output_type": "stream",
     "text": [
      "epoch: 6, [batch: 7560 / 12600], examples_per_second: 3145.5471, train_label_loss: 0.2764, \n"
     ]
    },
    {
     "name": "stdout",
     "output_type": "stream",
     "text": [
      "epoch: 6, [batch: 8820 / 12600], examples_per_second: 3145.1686, train_label_loss: 0.4917, \n"
     ]
    },
    {
     "name": "stdout",
     "output_type": "stream",
     "text": [
      "epoch: 6, [batch: 10080 / 12600], examples_per_second: 3147.3909, train_label_loss: 0.7476, \n"
     ]
    },
    {
     "name": "stdout",
     "output_type": "stream",
     "text": [
      "epoch: 6, [batch: 11340 / 12600], examples_per_second: 3152.3773, train_label_loss: 0.3001, \n"
     ]
    },
    {
     "name": "stdout",
     "output_type": "stream",
     "text": [
      "=============================================================\n",
      "epoch: 6, source_val_acc_label: 0.7072, target_val_acc_label: 0.6206, source_val_label_loss: 0.8295, target_val_label_loss: 1.0912, \n",
      "=============================================================\n"
     ]
    },
    {
     "name": "stdout",
     "output_type": "stream",
     "text": [
      "epoch: 7, [batch: 1 / 12600], examples_per_second: 3.0134, train_label_loss: 0.4403, \n"
     ]
    },
    {
     "name": "stdout",
     "output_type": "stream",
     "text": [
      "epoch: 7, [batch: 1260 / 12600], examples_per_second: 3140.1555, train_label_loss: 0.3214, \n"
     ]
    },
    {
     "name": "stdout",
     "output_type": "stream",
     "text": [
      "epoch: 7, [batch: 2520 / 12600], examples_per_second: 3147.3220, train_label_loss: 0.3115, \n"
     ]
    },
    {
     "name": "stdout",
     "output_type": "stream",
     "text": [
      "epoch: 7, [batch: 3780 / 12600], examples_per_second: 3150.4243, train_label_loss: 0.2570, \n"
     ]
    },
    {
     "name": "stdout",
     "output_type": "stream",
     "text": [
      "epoch: 7, [batch: 5040 / 12600], examples_per_second: 3133.3331, train_label_loss: 0.4983, \n"
     ]
    },
    {
     "name": "stdout",
     "output_type": "stream",
     "text": [
      "epoch: 7, [batch: 6300 / 12600], examples_per_second: 3143.7133, train_label_loss: 0.4118, \n"
     ]
    },
    {
     "name": "stdout",
     "output_type": "stream",
     "text": [
      "epoch: 7, [batch: 7560 / 12600], examples_per_second: 3150.4621, train_label_loss: 0.1579, \n"
     ]
    },
    {
     "name": "stdout",
     "output_type": "stream",
     "text": [
      "epoch: 7, [batch: 8820 / 12600], examples_per_second: 3146.2334, train_label_loss: 0.3291, \n"
     ]
    },
    {
     "name": "stdout",
     "output_type": "stream",
     "text": [
      "epoch: 7, [batch: 10080 / 12600], examples_per_second: 3142.5535, train_label_loss: 0.4574, \n"
     ]
    },
    {
     "name": "stdout",
     "output_type": "stream",
     "text": [
      "epoch: 7, [batch: 11340 / 12600], examples_per_second: 3147.0888, train_label_loss: 0.1189, \n"
     ]
    },
    {
     "name": "stdout",
     "output_type": "stream",
     "text": [
      "=============================================================\n",
      "epoch: 7, source_val_acc_label: 0.7120, target_val_acc_label: 0.6193, source_val_label_loss: 0.8990, target_val_label_loss: 1.1364, \n",
      "=============================================================\n"
     ]
    },
    {
     "name": "stdout",
     "output_type": "stream",
     "text": [
      "epoch: 8, [batch: 1 / 12600], examples_per_second: 3.0270, train_label_loss: 0.5718, \n"
     ]
    },
    {
     "name": "stdout",
     "output_type": "stream",
     "text": [
      "epoch: 8, [batch: 1260 / 12600], examples_per_second: 3142.2320, train_label_loss: 0.6327, \n"
     ]
    },
    {
     "name": "stdout",
     "output_type": "stream",
     "text": [
      "epoch: 8, [batch: 2520 / 12600], examples_per_second: 3149.5864, train_label_loss: 0.6349, \n"
     ]
    },
    {
     "name": "stdout",
     "output_type": "stream",
     "text": [
      "epoch: 8, [batch: 3780 / 12600], examples_per_second: 3155.3565, train_label_loss: 0.1473, \n"
     ]
    },
    {
     "name": "stdout",
     "output_type": "stream",
     "text": [
      "epoch: 8, [batch: 5040 / 12600], examples_per_second: 3141.7699, train_label_loss: 0.2418, \n"
     ]
    },
    {
     "name": "stdout",
     "output_type": "stream",
     "text": [
      "epoch: 8, [batch: 6300 / 12600], examples_per_second: 3147.7999, train_label_loss: 0.1830, \n"
     ]
    },
    {
     "name": "stdout",
     "output_type": "stream",
     "text": [
      "epoch: 8, [batch: 7560 / 12600], examples_per_second: 3140.9603, train_label_loss: 0.3764, \n"
     ]
    },
    {
     "name": "stdout",
     "output_type": "stream",
     "text": [
      "epoch: 8, [batch: 8820 / 12600], examples_per_second: 3139.9009, train_label_loss: 0.3502, \n"
     ]
    },
    {
     "name": "stdout",
     "output_type": "stream",
     "text": [
      "epoch: 8, [batch: 10080 / 12600], examples_per_second: 3150.8865, train_label_loss: 0.2404, \n"
     ]
    },
    {
     "name": "stdout",
     "output_type": "stream",
     "text": [
      "epoch: 8, [batch: 11340 / 12600], examples_per_second: 3157.0614, train_label_loss: 0.1877, \n"
     ]
    },
    {
     "name": "stdout",
     "output_type": "stream",
     "text": [
      "=============================================================\n",
      "epoch: 8, source_val_acc_label: 0.6871, target_val_acc_label: 0.5966, source_val_label_loss: 0.9273, target_val_label_loss: 1.2497, \n",
      "=============================================================\n"
     ]
    },
    {
     "name": "stdout",
     "output_type": "stream",
     "text": [
      "Patience (3) exhausted\n"
     ]
    }
   ],
   "source": [
    "###################################\n",
    "# train\n",
    "###################################\n",
    "jig = PTN_Train_Eval_Test_Jig(model, p.BEST_MODEL_PATH, p.device)\n",
    "\n",
    "jig.train(\n",
    "    train_iterable=datasets.source.processed.train,\n",
    "    source_val_iterable=datasets.source.processed.val,\n",
    "    target_val_iterable=datasets.target.processed.val,\n",
    "    num_epochs=p.n_epoch,\n",
    "    num_logs_per_epoch=p.NUM_LOGS_PER_EPOCH,\n",
    "    patience=p.patience,\n",
    "    optimizer=optimizer,\n",
    "    criteria_for_best=p.criteria_for_best,\n",
    ")"
   ]
  },
  {
   "cell_type": "code",
   "execution_count": 14,
   "id": "31e8fabf",
   "metadata": {
    "execution": {
     "iopub.execute_input": "2022-03-06T00:49:46.308291Z",
     "iopub.status.busy": "2022-03-06T00:49:46.307928Z",
     "iopub.status.idle": "2022-03-06T00:49:46.320440Z",
     "shell.execute_reply": "2022-03-06T00:49:46.320158Z"
    },
    "papermill": {
     "duration": 0.040849,
     "end_time": "2022-03-06T00:49:46.320504",
     "exception": false,
     "start_time": "2022-03-06T00:49:46.279655",
     "status": "completed"
    },
    "tags": []
   },
   "outputs": [],
   "source": [
    "total_experiment_time_secs = time.time() - start_time_secs"
   ]
  },
  {
   "cell_type": "code",
   "execution_count": 15,
   "id": "87b9595b",
   "metadata": {
    "execution": {
     "iopub.execute_input": "2022-03-06T00:49:46.377436Z",
     "iopub.status.busy": "2022-03-06T00:49:46.377011Z",
     "iopub.status.idle": "2022-03-06T00:51:34.186802Z",
     "shell.execute_reply": "2022-03-06T00:51:34.187041Z"
    },
    "papermill": {
     "duration": 107.840157,
     "end_time": "2022-03-06T00:51:34.187125",
     "exception": false,
     "start_time": "2022-03-06T00:49:46.346968",
     "status": "completed"
    },
    "tags": []
   },
   "outputs": [],
   "source": [
    "###################################\n",
    "# Evaluate the model\n",
    "###################################\n",
    "source_test_label_accuracy, source_test_label_loss = jig.test(datasets.source.processed.test)\n",
    "target_test_label_accuracy, target_test_label_loss = jig.test(datasets.target.processed.test)\n",
    "\n",
    "source_val_label_accuracy, source_val_label_loss = jig.test(datasets.source.processed.val)\n",
    "target_val_label_accuracy, target_val_label_loss = jig.test(datasets.target.processed.val)\n",
    "\n",
    "history = jig.get_history()\n",
    "\n",
    "total_epochs_trained = len(history[\"epoch_indices\"])\n",
    "\n",
    "val_dl = Iterable_Aggregator((datasets.source.original.val,datasets.target.original.val))\n",
    "\n",
    "confusion = ptn_confusion_by_domain_over_dataloader(model, p.device, val_dl)\n",
    "per_domain_accuracy = per_domain_accuracy_from_confusion(confusion)\n",
    "\n",
    "# Add a key to per_domain_accuracy for if it was a source domain\n",
    "for domain, accuracy in per_domain_accuracy.items():\n",
    "    per_domain_accuracy[domain] = {\n",
    "        \"accuracy\": accuracy,\n",
    "        \"source?\": domain in p.domains_source\n",
    "    }\n",
    "\n",
    "# Do an independent accuracy assesment JUST TO BE SURE!\n",
    "# _source_test_label_accuracy = independent_accuracy_assesment(model, datasets.source.processed.test, p.device)\n",
    "# _target_test_label_accuracy = independent_accuracy_assesment(model, datasets.target.processed.test, p.device)\n",
    "# _source_val_label_accuracy = independent_accuracy_assesment(model, datasets.source.processed.val, p.device)\n",
    "# _target_val_label_accuracy = independent_accuracy_assesment(model, datasets.target.processed.val, p.device)\n",
    "\n",
    "# assert(_source_test_label_accuracy == source_test_label_accuracy)\n",
    "# assert(_target_test_label_accuracy == target_test_label_accuracy)\n",
    "# assert(_source_val_label_accuracy == source_val_label_accuracy)\n",
    "# assert(_target_val_label_accuracy == target_val_label_accuracy)\n",
    "\n",
    "experiment = {\n",
    "    \"experiment_name\": p.experiment_name,\n",
    "    \"parameters\": dict(p),\n",
    "    \"results\": {\n",
    "        \"source_test_label_accuracy\": source_test_label_accuracy,\n",
    "        \"source_test_label_loss\": source_test_label_loss,\n",
    "        \"target_test_label_accuracy\": target_test_label_accuracy,\n",
    "        \"target_test_label_loss\": target_test_label_loss,\n",
    "        \"source_val_label_accuracy\": source_val_label_accuracy,\n",
    "        \"source_val_label_loss\": source_val_label_loss,\n",
    "        \"target_val_label_accuracy\": target_val_label_accuracy,\n",
    "        \"target_val_label_loss\": target_val_label_loss,\n",
    "        \"total_epochs_trained\": total_epochs_trained,\n",
    "        \"total_experiment_time_secs\": total_experiment_time_secs,\n",
    "        \"confusion\": confusion,\n",
    "        \"per_domain_accuracy\": per_domain_accuracy,\n",
    "    },\n",
    "    \"history\": history,\n",
    "    \"dataset_metrics\": get_dataset_metrics(datasets, \"ptn\"),\n",
    "}"
   ]
  },
  {
   "cell_type": "code",
   "execution_count": 16,
   "id": "54a21829",
   "metadata": {
    "execution": {
     "iopub.execute_input": "2022-03-06T00:51:34.247331Z",
     "iopub.status.busy": "2022-03-06T00:51:34.247061Z",
     "iopub.status.idle": "2022-03-06T00:51:34.422604Z",
     "shell.execute_reply": "2022-03-06T00:51:34.423063Z"
    },
    "papermill": {
     "duration": 0.20625,
     "end_time": "2022-03-06T00:51:34.423195",
     "exception": false,
     "start_time": "2022-03-06T00:51:34.216945",
     "status": "completed"
    },
    "tags": []
   },
   "outputs": [
    {
     "data": {
      "image/png": "[encoded data removed]",
      "text/plain": [
       "<Figure size 1080x504 with 1 Axes>"
      ]
     },
     "metadata": {
      "needs_background": "light"
     },
     "output_type": "display_data"
    }
   ],
   "source": [
    "ax = get_loss_curve(experiment)\n",
    "plt.show()"
   ]
  },
  {
   "cell_type": "code",
   "execution_count": 17,
   "id": "fd8a0f60",
   "metadata": {
    "execution": {
     "iopub.execute_input": "2022-03-06T00:51:34.484987Z",
     "iopub.status.busy": "2022-03-06T00:51:34.484736Z",
     "iopub.status.idle": "2022-03-06T00:51:34.663086Z",
     "shell.execute_reply": "2022-03-06T00:51:34.663397Z"
    },
    "papermill": {
     "duration": 0.208842,
     "end_time": "2022-03-06T00:51:34.663491",
     "exception": false,
     "start_time": "2022-03-06T00:51:34.454649",
     "status": "completed"
    },
    "tags": []
   },
   "outputs": [
    {
     "data": {
      "text/plain": [
       "<matplotlib.axes._subplots.AxesSubplot at 0x7f09e692ed30>"
      ]
     },
     "execution_count": 17,
     "metadata": {},
     "output_type": "execute_result"
    },
    {
     "data": {
      "image/png": "[encoded data removed]",
      "text/plain": [
       "<Figure size 1080x504 with 1 Axes>"
      ]
     },
     "metadata": {
      "needs_background": "light"
     },
     "output_type": "display_data"
    }
   ],
   "source": [
    "get_results_table(experiment)"
   ]
  },
  {
   "cell_type": "code",
   "execution_count": 18,
   "id": "cf8dc689",
   "metadata": {
    "execution": {
     "iopub.execute_input": "2022-03-06T00:51:34.727841Z",
     "iopub.status.busy": "2022-03-06T00:51:34.727587Z",
     "iopub.status.idle": "2022-03-06T00:51:34.903517Z",
     "shell.execute_reply": "2022-03-06T00:51:34.903890Z"
    },
    "papermill": {
     "duration": 0.207396,
     "end_time": "2022-03-06T00:51:34.904000",
     "exception": false,
     "start_time": "2022-03-06T00:51:34.696604",
     "status": "completed"
    },
    "tags": []
   },
   "outputs": [
    {
     "data": {
      "text/plain": [
       "<matplotlib.axes._subplots.AxesSubplot at 0x7f09e6a47250>"
      ]
     },
     "execution_count": 18,
     "metadata": {},
     "output_type": "execute_result"
    },
    {
     "data": {
      "image/png": "[encoded data removed]",
      "text/plain": [
       "<Figure size 1080x504 with 1 Axes>"
      ]
     },
     "metadata": {
      "needs_background": "light"
     },
     "output_type": "display_data"
    }
   ],
   "source": [
    "get_domain_accuracies(experiment)"
   ]
  },
  {
   "cell_type": "code",
   "execution_count": 19,
   "id": "a74ae082",
   "metadata": {
    "execution": {
     "iopub.execute_input": "2022-03-06T00:51:34.970165Z",
     "iopub.status.busy": "2022-03-06T00:51:34.969432Z",
     "iopub.status.idle": "2022-03-06T00:51:34.980820Z",
     "shell.execute_reply": "2022-03-06T00:51:34.981239Z"
    },
    "papermill": {
     "duration": 0.044081,
     "end_time": "2022-03-06T00:51:34.981368",
     "exception": false,
     "start_time": "2022-03-06T00:51:34.937287",
     "status": "completed"
    },
    "tags": []
   },
   "outputs": [
    {
     "name": "stdout",
     "output_type": "stream",
     "text": [
      "Source Test Label Accuracy: 0.7163541666666666 Target Test Label Accuracy: 0.6348958333333333\n",
      "Source Val Label Accuracy: 0.7084375 Target Val Label Accuracy: 0.6384375\n"
     ]
    }
   ],
   "source": [
    "print(\"Source Test Label Accuracy:\", experiment[\"results\"][\"source_test_label_accuracy\"], \"Target Test Label Accuracy:\", experiment[\"results\"][\"target_test_label_accuracy\"])\n",
    "print(\"Source Val Label Accuracy:\", experiment[\"results\"][\"source_val_label_accuracy\"], \"Target Val Label Accuracy:\", experiment[\"results\"][\"target_val_label_accuracy\"])"
   ]
  },
  {
   "cell_type": "code",
   "execution_count": 20,
   "id": "dacca602",
   "metadata": {
    "execution": {
     "iopub.execute_input": "2022-03-06T00:51:35.047727Z",
     "iopub.status.busy": "2022-03-06T00:51:35.047473Z",
     "iopub.status.idle": "2022-03-06T00:51:35.060859Z",
     "shell.execute_reply": "2022-03-06T00:51:35.060462Z"
    },
    "papermill": {
     "duration": 0.045299,
     "end_time": "2022-03-06T00:51:35.060951",
     "exception": false,
     "start_time": "2022-03-06T00:51:35.015652",
     "status": "completed"
    },
    "tags": [
     "experiment_json"
    ]
   },
   "outputs": [
    {
     "data": {
      "text/plain": [
       "'{\"experiment_name\": \"tuned_1_oracle.run1\", \"parameters\": {\"experiment_name\": \"tuned_1_oracle.run1\", \"device\": \"cuda\", \"lr\": 0.001, \"seed\": 1337, \"dataset_seed\": 1337, \"labels_source\": [\"3123D52\", \"3123D65\", \"3123D79\", \"3123D80\", \"3123D54\", \"3123D70\", \"3123D7B\", \"3123D89\", \"3123D58\", \"3123D76\", \"3123D7D\", \"3123EFE\", \"3123D64\", \"3123D78\", \"3123D7E\", \"3124E4A\"], \"labels_target\": [\"3123D52\", \"3123D65\", \"3123D79\", \"3123D80\", \"3123D54\", \"3123D70\", \"3123D7B\", \"3123D89\", \"3123D58\", \"3123D76\", \"3123D7D\", \"3123EFE\", \"3123D64\", \"3123D78\", \"3123D7E\", \"3124E4A\"], \"x_transforms_source\": [\"unit_power\"], \"x_transforms_target\": [\"unit_power\"], \"episode_transforms_source\": [], \"episode_transforms_target\": [], \"domains_source\": [8, 32, 50], \"domains_target\": [14, 20, 26, 38, 44], \"num_examples_per_domain_per_label_source\": 10000, \"num_examples_per_domain_per_label_target\": 1000, \"n_shot\": 3, \"n_way\": 16, \"n_query\": 2, \"train_k_factor\": 3, \"val_k_factor\": 2, \"test_k_factor\": 2, \"torch_default_dtype\": \"torch.float32\", \"n_epoch\": 50, \"patience\": 3, \"criteria_for_best\": \"target_loss\", \"x_net\": [{\"class\": \"nnReshape\", \"kargs\": {\"shape\": [-1, 1, 2, 256]}}, {\"class\": \"Conv2d\", \"kargs\": {\"in_channels\": 1, \"out_channels\": 256, \"kernel_size\": [1, 7], \"bias\": false, \"padding\": [0, 3]}}, {\"class\": \"ReLU\", \"kargs\": {\"inplace\": true}}, {\"class\": \"BatchNorm2d\", \"kargs\": {\"num_features\": 256}}, {\"class\": \"Conv2d\", \"kargs\": {\"in_channels\": 256, \"out_channels\": 80, \"kernel_size\": [2, 7], \"bias\": true, \"padding\": [0, 3]}}, {\"class\": \"ReLU\", \"kargs\": {\"inplace\": true}}, {\"class\": \"BatchNorm2d\", \"kargs\": {\"num_features\": 80}}, {\"class\": \"Flatten\", \"kargs\": {}}, {\"class\": \"Linear\", \"kargs\": {\"in_features\": 20480, \"out_features\": 256}}, {\"class\": \"ReLU\", \"kargs\": {\"inplace\": true}}, {\"class\": \"BatchNorm1d\", \"kargs\": {\"num_features\": 256}}, {\"class\": \"Linear\", \"kargs\": {\"in_features\": 256, \"out_features\": 256}}], \"NUM_LOGS_PER_EPOCH\": 10, \"BEST_MODEL_PATH\": \"./best_model.pth\", \"pickle_name\": \"oracle.Run1_10kExamples_stratified_ds.2022A.pkl\"}, \"results\": {\"source_test_label_accuracy\": 0.7163541666666666, \"source_test_label_loss\": 0.7939350008964539, \"target_test_label_accuracy\": 0.6348958333333333, \"target_test_label_loss\": 1.0288374423980713, \"source_val_label_accuracy\": 0.7084375, \"source_val_label_loss\": 0.8112403750419617, \"target_val_label_accuracy\": 0.6384375, \"target_val_label_loss\": 1.0176639556884766, \"total_epochs_trained\": 8, \"total_experiment_time_secs\": 2773.6979014873505, \"confusion\": {\"8\": {\"15\": {\"15\": 879, \"3\": 14, \"12\": 234, \"8\": 51, \"2\": 18, \"7\": 3, \"6\": 1}, \"3\": {\"3\": 930, \"2\": 178, \"12\": 87, \"15\": 5}, \"6\": {\"7\": 243, \"6\": 715, \"0\": 72, \"4\": 134, \"14\": 5, \"13\": 23, \"8\": 7, \"15\": 1}, \"1\": {\"11\": 350, \"1\": 764, \"14\": 48, \"5\": 25, \"10\": 13}, \"8\": {\"8\": 1138, \"15\": 43, \"7\": 6, \"6\": 9, \"12\": 4}, \"10\": {\"10\": 830, \"14\": 233, \"4\": 31, \"13\": 74, \"5\": 18, \"0\": 3, \"1\": 11}, \"9\": {\"9\": 1200}, \"13\": {\"10\": 109, \"13\": 429, \"6\": 46, \"4\": 187, \"0\": 307, \"14\": 108, \"7\": 9, \"1\": 4, \"5\": 1}, \"12\": {\"12\": 593, \"15\": 374, \"3\": 196, \"8\": 23, \"7\": 1, \"2\": 13}, \"5\": {\"5\": 1057, \"1\": 48, \"10\": 77, \"14\": 11, \"11\": 7}, \"0\": {\"13\": 289, \"7\": 83, \"0\": 692, \"6\": 74, \"10\": 6, \"4\": 52, \"14\": 4}, \"2\": {\"2\": 899, \"3\": 222, \"15\": 38, \"12\": 26, \"6\": 1, \"7\": 14}, \"11\": {\"11\": 716, \"1\": 433, \"8\": 13, \"5\": 20, \"10\": 3, \"14\": 14, \"4\": 1}, \"14\": {\"14\": 578, \"10\": 254, \"4\": 189, \"13\": 81, \"0\": 4, \"1\": 70, \"6\": 12, \"5\": 3, \"11\": 9}, \"7\": {\"7\": 824, \"6\": 289, \"0\": 66, \"13\": 9, \"4\": 4, \"8\": 7, \"2\": 1}, \"4\": {\"4\": 596, \"6\": 147, \"13\": 191, \"14\": 172, \"10\": 36, \"7\": 2, \"1\": 2, \"0\": 53, \"11\": 1}}, \"50\": {\"3\": {\"3\": 1177, \"8\": 23}, \"15\": {\"15\": 854, \"11\": 26, \"1\": 212, \"4\": 95, \"6\": 10, \"14\": 3}, \"8\": {\"8\": 1170, \"10\": 16, \"3\": 14}, \"4\": {\"1\": 229, \"4\": 437, \"7\": 28, \"6\": 195, \"13\": 25, \"5\": 94, \"15\": 192}, \"14\": {\"14\": 1158, \"12\": 26, \"11\": 15, \"9\": 1}, \"0\": {\"0\": 1028, \"2\": 108, \"13\": 7, \"10\": 55, \"5\": 2}, \"7\": {\"5\": 162, \"7\": 719, \"13\": 264, \"10\": 49, \"4\": 2, \"6\": 4}, \"6\": {\"1\": 114, \"13\": 68, \"6\": 765, \"4\": 160, \"5\": 76, \"15\": 13, \"7\": 3, \"0\": 1}, \"10\": {\"10\": 1091, \"5\": 3, \"7\": 26, \"13\": 23, \"0\": 44, \"8\": 13}, \"5\": {\"7\": 282, \"13\": 237, \"6\": 199, \"5\": 311, \"4\": 105, \"10\": 17, \"1\": 46, \"0\": 3}, \"2\": {\"2\": 1119, \"0\": 79, \"1\": 1, \"5\": 1}, \"12\": {\"12\": 1057, \"14\": 62, \"9\": 71, \"11\": 10}, \"9\": {\"11\": 154, \"9\": 901, \"12\": 138, \"14\": 7}, \"1\": {\"1\": 667, \"4\": 172, \"15\": 245, \"6\": 103, \"5\": 3, \"11\": 2, \"14\": 2, \"2\": 4, \"0\": 2}, \"11\": {\"11\": 1018, \"14\": 35, \"9\": 101, \"1\": 4, \"15\": 30, \"12\": 12}, \"13\": {\"13\": 603, \"5\": 253, \"6\": 70, \"7\": 232, \"10\": 22, \"4\": 8, \"0\": 11, \"1\": 1}}, \"32\": {\"5\": {\"7\": 144, \"8\": 128, \"13\": 326, \"3\": 52, \"4\": 144, \"11\": 25, \"5\": 299, \"0\": 46, \"14\": 24, \"2\": 12}, \"8\": {\"8\": 827, \"13\": 123, \"3\": 17, \"0\": 86, \"7\": 8, \"5\": 124, \"4\": 7, \"15\": 3, \"14\": 4, \"11\": 1}, \"11\": {\"11\": 820, \"14\": 250, \"13\": 36, \"7\": 55, \"3\": 23, \"5\": 14, \"8\": 2}, \"1\": {\"1\": 1196, \"10\": 4}, \"10\": {\"10\": 1199, \"1\": 1}, \"15\": {\"15\": 1188, \"8\": 9, \"3\": 3}, \"3\": {\"3\": 1066, \"11\": 35, \"13\": 52, \"5\": 21, \"8\": 17, \"7\": 3, \"14\": 6}, \"7\": {\"7\": 466, \"5\": 137, \"14\": 184, \"2\": 22, \"13\": 108, \"0\": 35, \"11\": 51, \"4\": 189, \"3\": 2, \"8\": 6}, \"4\": {\"2\": 174, \"8\": 12, \"4\": 625, \"0\": 119, \"7\": 151, \"5\": 86, \"14\": 8, \"11\": 1, \"13\": 24}, \"14\": {\"7\": 187, \"11\": 362, \"14\": 477, \"0\": 37, \"13\": 52, \"2\": 11, \"5\": 33, \"3\": 7, \"4\": 32, \"8\": 2}, \"9\": {\"9\": 1197, \"12\": 3}, \"12\": {\"12\": 1200}, \"6\": {\"6\": 1200}, \"2\": {\"2\": 946, \"4\": 194, \"0\": 35, \"7\": 20, \"14\": 4, \"5\": 1}, \"0\": {\"0\": 771, \"4\": 143, \"5\": 43, \"8\": 86, \"7\": 49, \"2\": 61, \"13\": 30, \"14\": 16, \"11\": 1}, \"13\": {\"13\": 414, \"0\": 26, \"11\": 34, \"5\": 333, \"4\": 61, \"8\": 94, \"14\": 42, \"7\": 125, \"3\": 71}}, \"14\": {\"15\": {\"15\": 115, \"7\": 5}, \"3\": {\"3\": 91, \"4\": 17, \"14\": 10, \"0\": 1, \"2\": 1}, \"6\": {\"13\": 36, \"14\": 8, \"6\": 74, \"2\": 2}, \"1\": {\"1\": 97, \"5\": 22, \"4\": 1}, \"8\": {\"8\": 120}, \"10\": {\"10\": 94, \"0\": 24, \"11\": 2}, \"9\": {\"9\": 119, \"12\": 1}, \"13\": {\"2\": 16, \"6\": 44, \"13\": 36, \"14\": 20, \"5\": 4}, \"12\": {\"12\": 120}, \"5\": {\"4\": 20, \"2\": 11, \"1\": 26, \"5\": 59, \"7\": 1, \"3\": 2, \"15\": 1}, \"0\": {\"0\": 95, \"10\": 23, \"11\": 1, \"3\": 1}, \"2\": {\"2\": 54, \"13\": 9, \"14\": 16, \"6\": 9, \"15\": 5, \"5\": 8, \"1\": 1, \"4\": 12, \"3\": 6}, \"11\": {\"11\": 107, \"0\": 3, \"10\": 4, \"9\": 6}, \"14\": {\"13\": 10, \"14\": 85, \"2\": 14, \"3\": 4, \"6\": 6, \"4\": 1}, \"7\": {\"15\": 6, \"7\": 113, \"1\": 1}, \"4\": {\"4\": 75, \"5\": 18, \"2\": 5, \"3\": 14, \"1\": 5, \"14\": 3}}, \"20\": {\"3\": {\"8\": 1, \"2\": 13, \"3\": 42, \"12\": 27, \"9\": 18, \"7\": 5, \"5\": 4, \"1\": 4, \"4\": 5, \"0\": 1}, \"15\": {\"15\": 74, \"12\": 4, \"1\": 17, \"9\": 1, \"5\": 11, \"0\": 10, \"13\": 3}, \"8\": {\"8\": 80, \"7\": 13, \"4\": 16, \"10\": 4, \"14\": 2, \"12\": 1, \"9\": 2, \"3\": 2}, \"4\": {\"4\": 91, \"3\": 9, \"8\": 13, \"0\": 1, \"12\": 3, \"10\": 2, \"7\": 1}, \"14\": {\"6\": 18, \"14\": 74, \"10\": 23, \"8\": 5}, \"0\": {\"4\": 3, \"0\": 64, \"5\": 18, \"15\": 10, \"1\": 11, \"12\": 8, \"3\": 5, \"9\": 1}, \"7\": {\"7\": 82, \"2\": 10, \"8\": 10, \"3\": 8, \"9\": 7, \"4\": 1, \"10\": 1, \"13\": 1}, \"6\": {\"6\": 103, \"14\": 15, \"7\": 2}, \"10\": {\"10\": 80, \"14\": 20, \"8\": 15, \"6\": 2, \"7\": 2, \"4\": 1}, \"5\": {\"15\": 13, \"0\": 29, \"5\": 34, \"9\": 1, \"1\": 23, \"12\": 15, \"3\": 4, \"4\": 1}, \"2\": {\"9\": 30, \"2\": 50, \"13\": 15, \"3\": 5, \"7\": 17, \"12\": 3}, \"12\": {\"12\": 35, \"0\": 7, \"1\": 17, \"5\": 19, \"9\": 11, \"3\": 24, \"4\": 2, \"2\": 4, \"13\": 1}, \"9\": {\"2\": 32, \"13\": 6, \"9\": 34, \"3\": 26, \"12\": 6, \"7\": 12, \"1\": 2, \"0\": 1, \"5\": 1}, \"1\": {\"1\": 37, \"15\": 16, \"3\": 2, \"0\": 15, \"2\": 1, \"5\": 26, \"12\": 15, \"4\": 2, \"9\": 4, \"13\": 2}, \"11\": {\"11\": 119, \"6\": 1}, \"13\": {\"9\": 2, \"13\": 102, \"2\": 11, \"15\": 2, \"1\": 2, \"12\": 1}}, \"44\": {\"5\": {\"5\": 107, \"0\": 11, \"15\": 1, \"14\": 1}, \"8\": {\"8\": 75, \"0\": 32, \"5\": 5, \"15\": 8}, \"11\": {\"11\": 104, \"13\": 11, \"6\": 5}, \"1\": {\"1\": 62, \"3\": 22, \"10\": 6, \"12\": 22, \"2\": 8}, \"10\": {\"1\": 12, \"10\": 79, \"2\": 11, \"12\": 18}, \"15\": {\"15\": 94, \"14\": 7, \"0\": 12, \"8\": 2, \"4\": 1, \"5\": 4}, \"3\": {\"3\": 101, \"1\": 12, \"2\": 5, \"7\": 1, \"12\": 1}, \"7\": {\"9\": 20, \"7\": 75, \"2\": 17, \"6\": 7, \"3\": 1}, \"4\": {\"4\": 84, \"14\": 36}, \"14\": {\"14\": 72, \"4\": 40, \"15\": 7, \"5\": 1}, \"9\": {\"9\": 64, \"7\": 28, \"6\": 12, \"13\": 15, \"2\": 1}, \"12\": {\"10\": 11, \"12\": 81, \"1\": 26, \"3\": 1, \"2\": 1}, \"6\": {\"6\": 87, \"9\": 13, \"13\": 15, \"7\": 4, \"11\": 1}, \"2\": {\"2\": 85, \"10\": 14, \"7\": 17, \"1\": 4}, \"0\": {\"0\": 66, \"8\": 36, \"15\": 6, \"5\": 12}, \"13\": {\"6\": 22, \"13\": 76, \"11\": 7, \"9\": 12, \"14\": 1, \"7\": 1, \"4\": 1}}, \"38\": {\"14\": {\"14\": 85, \"2\": 5, \"11\": 30}, \"0\": {\"8\": 35, \"7\": 21, \"3\": 9, \"0\": 33, \"10\": 5, \"5\": 14, \"6\": 2, \"12\": 1}, \"13\": {\"15\": 42, \"13\": 59, \"2\": 9, \"1\": 2, \"10\": 8}, \"7\": {\"7\": 86, \"0\": 27, \"9\": 2, \"5\": 2, \"3\": 1, \"8\": 2}, \"9\": {\"6\": 34, \"9\": 74, \"5\": 4, \"3\": 8}, \"3\": {\"3\": 101, \"9\": 6, \"5\": 3, \"6\": 2, \"7\": 5, \"0\": 3}, \"11\": {\"11\": 77, \"14\": 40, \"12\": 3}, \"6\": {\"6\": 88, \"9\": 32}, \"8\": {\"8\": 73, \"0\": 18, \"5\": 17, \"10\": 6, \"15\": 5, \"13\": 1}, \"4\": {\"4\": 113, \"12\": 7}, \"5\": {\"0\": 16, \"8\": 30, \"5\": 45, \"1\": 5, \"6\": 7, \"7\": 9, \"9\": 3, \"15\": 2, \"3\": 2, \"13\": 1}, \"10\": {\"13\": 3, \"10\": 100, \"11\": 2, \"12\": 10, \"8\": 4, \"14\": 1}, \"1\": {\"1\": 110, \"15\": 9, \"5\": 1}, \"2\": {\"2\": 111, \"13\": 3, \"14\": 4, \"11\": 2}, \"15\": {\"15\": 78, \"8\": 7, \"13\": 27, \"1\": 8}, \"12\": {\"4\": 5, \"12\": 113, \"10\": 2}}, \"26\": {\"13\": {\"13\": 76, \"5\": 21, \"9\": 6, \"15\": 12, \"6\": 3, \"2\": 2}, \"2\": {\"2\": 37, \"5\": 17, \"7\": 11, \"3\": 32, \"8\": 2, \"13\": 2, \"9\": 3, \"15\": 15, \"4\": 1}, \"8\": {\"8\": 46, \"10\": 14, \"4\": 13, \"9\": 12, \"6\": 7, \"15\": 7, \"7\": 12, \"0\": 5, \"3\": 1, \"5\": 2, \"14\": 1}, \"9\": {\"6\": 18, \"15\": 34, \"13\": 4, \"5\": 9, \"8\": 15, \"0\": 1, \"9\": 37, \"10\": 1, \"4\": 1}, \"12\": {\"12\": 120}, \"4\": {\"4\": 35, \"8\": 18, \"0\": 14, \"10\": 9, \"1\": 15, \"14\": 19, \"9\": 1, \"7\": 9}, \"3\": {\"3\": 60, \"2\": 34, \"7\": 22, \"1\": 1, \"14\": 1, \"15\": 1, \"4\": 1}, \"15\": {\"8\": 19, \"9\": 25, \"15\": 31, \"7\": 3, \"5\": 27, \"6\": 4, \"13\": 6, \"2\": 3, \"0\": 1, \"10\": 1}, \"14\": {\"4\": 20, \"8\": 6, \"1\": 27, \"14\": 31, \"0\": 19, \"10\": 15, \"7\": 2}, \"10\": {\"8\": 15, \"1\": 5, \"0\": 26, \"6\": 13, \"14\": 9, \"4\": 11, \"10\": 35, \"9\": 5, \"7\": 1}, \"7\": {\"3\": 20, \"7\": 58, \"4\": 13, \"8\": 3, \"2\": 12, \"9\": 1, \"5\": 2, \"14\": 4, \"1\": 4, \"0\": 2, \"15\": 1}, \"11\": {\"11\": 117, \"12\": 3}, \"6\": {\"6\": 78, \"8\": 4, \"0\": 3, \"9\": 20, \"15\": 4, \"10\": 7, \"1\": 1, \"5\": 2, \"13\": 1}, \"1\": {\"1\": 57, \"4\": 15, \"14\": 28, \"10\": 8, \"0\": 6, \"7\": 4, \"8\": 1, \"9\": 1}, \"5\": {\"13\": 24, \"15\": 17, \"5\": 62, \"2\": 5, \"8\": 2, \"6\": 1, \"9\": 8, \"7\": 1}, \"0\": {\"0\": 36, \"10\": 27, \"8\": 9, \"14\": 21, \"1\": 5, \"4\": 14, \"6\": 4, \"9\": 2, \"7\": 1, \"15\": 1}}}, \"per_domain_accuracy\": {\"8\": {\"accuracy\": 0.66875, \"source?\": true}, \"50\": {\"accuracy\": 0.7330729166666666, \"source?\": true}, \"32\": {\"accuracy\": 0.7234895833333334, \"source?\": true}, \"14\": {\"accuracy\": 0.7572916666666667, \"source?\": false}, \"20\": {\"accuracy\": 0.5734375, \"source?\": false}, \"44\": {\"accuracy\": 0.6833333333333333, \"source?\": false}, \"38\": {\"accuracy\": 0.7010416666666667, \"source?\": false}, \"26\": {\"accuracy\": 0.47708333333333336, \"source?\": false}}}, \"history\": {\"epoch_indices\": [1, 2, 3, 4, 5, 6, 7, 8], \"train_label_loss\": [1.1307704351038215, 0.897930949429671, 0.7373403738403604, 0.6514768499715461, 0.5577010736762295, 0.4859850028068537, 0.4424812613933214, 0.374990314221867], \"source_val_label_loss\": [12.791642189025879, 0.8663915991783142, 0.8433139324188232, 0.8112403750419617, 0.8013560771942139, 0.8295040726661682, 0.8989980816841125, 0.9273202419281006], \"target_val_label_loss\": [13.2880277633667, 1.0703901052474976, 1.0270086526870728, 1.0176639556884766, 1.0595148801803589, 1.0911916494369507, 1.1364233493804932, 1.2497299909591675], \"source_val_acc_label\": [0.5854861111111112, 0.6713194444444445, 0.6982291666666667, 0.7084375, 0.7087152777777778, 0.7071875, 0.7119618055555555, 0.6871180555555556], \"target_val_acc_label\": [0.5046875, 0.5954166666666667, 0.6214583333333333, 0.6384375, 0.6251041666666667, 0.620625, 0.6192708333333333, 0.5965625]}, \"dataset_metrics\": {\"source\": {\"train\": {\"n_unique_x\": 336000, \"n_unique_y\": 16, \"n_batch/episode\": 12600}, \"val\": {\"n_unique_x\": 72000, \"n_unique_y\": 16, \"n_batch/episode\": 1800}, \"test\": {\"n_unique_x\": 72000, \"n_unique_y\": 16, \"n_batch/episode\": 1800}}, \"target\": {\"train\": {\"n_unique_x\": 56000, \"n_unique_y\": 16, \"n_batch/episode\": 2100}, \"val\": {\"n_unique_x\": 12000, \"n_unique_y\": 16, \"n_batch/episode\": 300}, \"test\": {\"n_unique_x\": 12000, \"n_unique_y\": 16, \"n_batch/episode\": 300}}}}'"
      ]
     },
     "execution_count": 20,
     "metadata": {},
     "output_type": "execute_result"
    }
   ],
   "source": [
    "json.dumps(experiment)"
   ]
  }
 ],
 "metadata": {
  "celltoolbar": "Tags",
  "kernelspec": {
   "display_name": "Python 3 (ipykernel)",
   "language": "python",
   "name": "python3"
  },
  "language_info": {
   "codemirror_mode": {
    "name": "ipython",
    "version": 3
   },
   "file_extension": ".py",
   "mimetype": "text/x-python",
   "name": "python",
   "nbconvert_exporter": "python",
   "pygments_lexer": "ipython3",
   "version": "3.8.10"
  },
  "papermill": {
   "default_parameters": {},
   "duration": 2885.704718,
   "end_time": "2022-03-06T00:51:36.505501",
   "environment_variables": {},
   "exception": null,
   "input_path": "/mnt/wd500GB/CSC500/csc500-main/csc500-notebooks/templates/ptn_template.ipynb",
   "output_path": "trial.ipynb",
   "parameters": {
    "parameters": {
     "BEST_MODEL_PATH": "./best_model.pth",
     "NUM_LOGS_PER_EPOCH": 10,
     "criteria_for_best": "target_loss",
     "dataset_seed": 1337,
     "device": "cuda",
     "domains_source": [
      8,
      32,
      50
     ],
     "domains_target": [
      14,
      20,
      26,
      38,
      44
     ],
     "episode_transforms_source": [],
     "episode_transforms_target": [],
     "experiment_name": "tuned_1_oracle.run1",
     "labels_source": [
      "3123D52",
      "3123D65",
      "3123D79",
      "3123D80",
      "3123D54",
      "3123D70",
      "3123D7B",
      "3123D89",
      "3123D58",
      "3123D76",
      "3123D7D",
      "3123EFE",
      "3123D64",
      "3123D78",
      "3123D7E",
      "3124E4A"
     ],
     "labels_target": [
      "3123D52",
      "3123D65",
      "3123D79",
      "3123D80",
      "3123D54",
      "3123D70",
      "3123D7B",
      "3123D89",
      "3123D58",
      "3123D76",
      "3123D7D",
      "3123EFE",
      "3123D64",
      "3123D78",
      "3123D7E",
      "3124E4A"
     ],
     "lr": 0.001,
     "n_epoch": 50,
     "n_query": 2,
     "n_shot": 3,
     "n_way": 16,
     "num_examples_per_domain_per_label_source": 10000,
     "num_examples_per_domain_per_label_target": 1000,
     "patience": 3,
     "pickle_name": "oracle.Run1_10kExamples_stratified_ds.2022A.pkl",
     "seed": 1337,
     "test_k_factor": 2,
     "torch_default_dtype": "torch.float32",
     "train_k_factor": 3,
     "val_k_factor": 2,
     "x_net": [
      {
       "class": "nnReshape",
       "kargs": {
        "shape": [
         -1,
         1,
         2,
         256
        ]
       }
      },
      {
       "class": "Conv2d",
       "kargs": {
        "bias": false,
        "in_channels": 1,
        "kernel_size": [
         1,
         7
        ],
        "out_channels": 256,
        "padding": [
         0,
         3
        ]
       }
      },
      {
       "class": "ReLU",
       "kargs": {
        "inplace": true
       }
      },
      {
       "class": "BatchNorm2d",
       "kargs": {
        "num_features": 256
       }
      },
      {
       "class": "Conv2d",
       "kargs": {
        "bias": true,
        "in_channels": 256,
        "kernel_size": [
         2,
         7
        ],
        "out_channels": 80,
        "padding": [
         0,
         3
        ]
       }
      },
      {
       "class": "ReLU",
       "kargs": {
        "inplace": true
       }
      },
      {
       "class": "BatchNorm2d",
       "kargs": {
        "num_features": 80
       }
      },
      {
       "class": "Flatten",
       "kargs": {}
      },
      {
       "class": "Linear",
       "kargs": {
        "in_features": 20480,
        "out_features": 256
       }
      },
      {
       "class": "ReLU",
       "kargs": {
        "inplace": true
       }
      },
      {
       "class": "BatchNorm1d",
       "kargs": {
        "num_features": 256
       }
      },
      {
       "class": "Linear",
       "kargs": {
        "in_features": 256,
        "out_features": 256
       }
      }
     ],
     "x_transforms_source": [
      "unit_power"
     ],
     "x_transforms_target": [
      "unit_power"
     ]
    }
   },
   "start_time": "2022-03-06T00:03:30.800783",
   "version": "2.3.4"
  }
 },
 "nbformat": 4,
 "nbformat_minor": 5
}