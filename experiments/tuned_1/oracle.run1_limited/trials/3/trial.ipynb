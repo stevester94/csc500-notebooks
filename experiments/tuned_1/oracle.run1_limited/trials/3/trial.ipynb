{
 "cells": [
  {
   "cell_type": "markdown",
   "id": "9fea5f46",
   "metadata": {
    "papermill": {
     "duration": 0.015524,
     "end_time": "2022-03-06T18:26:07.038771",
     "exception": false,
     "start_time": "2022-03-06T18:26:07.023247",
     "status": "completed"
    },
    "tags": []
   },
   "source": [
    "# PTN Template\n",
    "This notebook serves as a template for single dataset PTN experiments  \n",
    "It can be run on its own by setting STANDALONE to True (do a find for \"STANDALONE\" to see where)  \n",
    "But it is intended to be executed as part of a *papermill.py script. See any of the   \n",
    "experimentes with a papermill script to get started with that workflow.  "
   ]
  },
  {
   "cell_type": "code",
   "execution_count": 1,
   "id": "0902182a",
   "metadata": {
    "execution": {
     "iopub.execute_input": "2022-03-06T18:26:07.073891Z",
     "iopub.status.busy": "2022-03-06T18:26:07.073386Z",
     "iopub.status.idle": "2022-03-06T18:26:07.824979Z",
     "shell.execute_reply": "2022-03-06T18:26:07.824350Z"
    },
    "papermill": {
     "duration": 0.775992,
     "end_time": "2022-03-06T18:26:07.825101",
     "exception": false,
     "start_time": "2022-03-06T18:26:07.049109",
     "status": "completed"
    },
    "tags": []
   },
   "outputs": [],
   "source": [
    "%load_ext autoreload\n",
    "%autoreload 2\n",
    "%matplotlib inline\n",
    "\n",
    "    \n",
    "import os, json, sys, time, random\n",
    "import numpy as np\n",
    "import torch\n",
    "from torch.optim import Adam\n",
    "from  easydict import EasyDict\n",
    "import matplotlib.pyplot as plt\n",
    "\n",
    "from steves_models.steves_ptn import Steves_Prototypical_Network\n",
    "\n",
    "from steves_utils.lazy_iterable_wrapper import Lazy_Iterable_Wrapper\n",
    "from steves_utils.iterable_aggregator import Iterable_Aggregator\n",
    "from steves_utils.ptn_train_eval_test_jig import  PTN_Train_Eval_Test_Jig\n",
    "from steves_utils.torch_sequential_builder import build_sequential\n",
    "from steves_utils.torch_utils import get_dataset_metrics, ptn_confusion_by_domain_over_dataloader\n",
    "from steves_utils.utils_v2 import (per_domain_accuracy_from_confusion, get_datasets_base_path)\n",
    "from steves_utils.PTN.utils import independent_accuracy_assesment\n",
    "\n",
    "from steves_utils.stratified_dataset.episodic_accessor import Episodic_Accessor_Factory\n",
    "\n",
    "from steves_utils.ptn_do_report import (\n",
    "    get_loss_curve,\n",
    "    get_results_table,\n",
    "    get_parameters_table,\n",
    "    get_domain_accuracies,\n",
    ")\n",
    "\n",
    "from steves_utils.transforms import get_chained_transform"
   ]
  },
  {
   "cell_type": "markdown",
   "id": "41c840b4",
   "metadata": {
    "papermill": {
     "duration": 0.010785,
     "end_time": "2022-03-06T18:26:07.848944",
     "exception": false,
     "start_time": "2022-03-06T18:26:07.838159",
     "status": "completed"
    },
    "tags": []
   },
   "source": [
    "# Required Parameters\n",
    "These are allowed parameters, not defaults\n",
    "Each of these values need to be present in the injected parameters (the notebook will raise an exception if they are not present)\n",
    "\n",
    "Papermill uses the cell tag \"parameters\" to inject the real parameters below this cell.\n",
    "Enable tags to see what I mean"
   ]
  },
  {
   "cell_type": "code",
   "execution_count": 2,
   "id": "fd44eb83",
   "metadata": {
    "execution": {
     "iopub.execute_input": "2022-03-06T18:26:07.870179Z",
     "iopub.status.busy": "2022-03-06T18:26:07.869767Z",
     "iopub.status.idle": "2022-03-06T18:26:07.879634Z",
     "shell.execute_reply": "2022-03-06T18:26:07.879382Z"
    },
    "papermill": {
     "duration": 0.021736,
     "end_time": "2022-03-06T18:26:07.879699",
     "exception": false,
     "start_time": "2022-03-06T18:26:07.857963",
     "status": "completed"
    },
    "tags": []
   },
   "outputs": [],
   "source": [
    "required_parameters = {\n",
    "    \"experiment_name\",\n",
    "    \"lr\",\n",
    "    \"device\",\n",
    "    \"seed\",\n",
    "    \"dataset_seed\",\n",
    "    \"labels_source\",\n",
    "    \"labels_target\",\n",
    "    \"domains_source\",\n",
    "    \"domains_target\",\n",
    "    \"num_examples_per_domain_per_label_source\",\n",
    "    \"num_examples_per_domain_per_label_target\",\n",
    "    \"n_shot\",\n",
    "    \"n_way\",\n",
    "    \"n_query\",\n",
    "    \"train_k_factor\",\n",
    "    \"val_k_factor\",\n",
    "    \"test_k_factor\",\n",
    "    \"n_epoch\",\n",
    "    \"patience\",\n",
    "    \"criteria_for_best\",\n",
    "    \"x_transforms_source\",\n",
    "    \"x_transforms_target\",\n",
    "    \"episode_transforms_source\",\n",
    "    \"episode_transforms_target\",\n",
    "    \"pickle_name\",\n",
    "    \"x_net\",\n",
    "    \"NUM_LOGS_PER_EPOCH\",\n",
    "    \"BEST_MODEL_PATH\",\n",
    "    \"torch_default_dtype\"\n",
    "}"
   ]
  },
  {
   "cell_type": "code",
   "execution_count": 3,
   "id": "fa3f0049",
   "metadata": {
    "execution": {
     "iopub.execute_input": "2022-03-06T18:26:07.905003Z",
     "iopub.status.busy": "2022-03-06T18:26:07.904549Z",
     "iopub.status.idle": "2022-03-06T18:26:07.915639Z",
     "shell.execute_reply": "2022-03-06T18:26:07.915363Z"
    },
    "papermill": {
     "duration": 0.026552,
     "end_time": "2022-03-06T18:26:07.915707",
     "exception": false,
     "start_time": "2022-03-06T18:26:07.889155",
     "status": "completed"
    },
    "tags": [
     "parameters"
    ]
   },
   "outputs": [],
   "source": [
    "\n",
    "\n",
    "standalone_parameters = {}\n",
    "standalone_parameters[\"experiment_name\"] = \"STANDALONE PTN\"\n",
    "standalone_parameters[\"lr\"] = 0.0001\n",
    "standalone_parameters[\"device\"] = \"cuda\"\n",
    "\n",
    "standalone_parameters[\"seed\"] = 1337\n",
    "standalone_parameters[\"dataset_seed\"] = 1337\n",
    "\n",
    "\n",
    "standalone_parameters[\"num_examples_per_domain_per_label_source\"]=100\n",
    "standalone_parameters[\"num_examples_per_domain_per_label_target\"]=100\n",
    "\n",
    "standalone_parameters[\"n_shot\"] = 3\n",
    "standalone_parameters[\"n_query\"]  = 2\n",
    "standalone_parameters[\"train_k_factor\"] = 1\n",
    "standalone_parameters[\"val_k_factor\"] = 2\n",
    "standalone_parameters[\"test_k_factor\"] = 2\n",
    "\n",
    "\n",
    "standalone_parameters[\"n_epoch\"] = 100\n",
    "\n",
    "standalone_parameters[\"patience\"] = 10\n",
    "standalone_parameters[\"criteria_for_best\"] = \"target_accuracy\"\n",
    "\n",
    "standalone_parameters[\"x_transforms_source\"] = [\"unit_power\"]\n",
    "standalone_parameters[\"x_transforms_target\"] = [\"unit_power\"]\n",
    "standalone_parameters[\"episode_transforms_source\"] = []\n",
    "standalone_parameters[\"episode_transforms_target\"] = []\n",
    "\n",
    "standalone_parameters[\"torch_default_dtype\"] = \"torch.float32\" \n",
    "\n",
    "\n",
    "\n",
    "standalone_parameters[\"x_net\"] =     [\n",
    "    {\"class\": \"nnReshape\", \"kargs\": {\"shape\":[-1, 1, 2, 256]}},\n",
    "    {\"class\": \"Conv2d\", \"kargs\": { \"in_channels\":1, \"out_channels\":256, \"kernel_size\":(1,7), \"bias\":False, \"padding\":(0,3), },},\n",
    "    {\"class\": \"ReLU\", \"kargs\": {\"inplace\": True}},\n",
    "    {\"class\": \"BatchNorm2d\", \"kargs\": {\"num_features\":256}},\n",
    "\n",
    "    {\"class\": \"Conv2d\", \"kargs\": { \"in_channels\":256, \"out_channels\":80, \"kernel_size\":(2,7), \"bias\":True, \"padding\":(0,3), },},\n",
    "    {\"class\": \"ReLU\", \"kargs\": {\"inplace\": True}},\n",
    "    {\"class\": \"BatchNorm2d\", \"kargs\": {\"num_features\":80}},\n",
    "    {\"class\": \"Flatten\", \"kargs\": {}},\n",
    "\n",
    "    {\"class\": \"Linear\", \"kargs\": {\"in_features\": 80*256, \"out_features\": 256}}, # 80 units per IQ pair\n",
    "    {\"class\": \"ReLU\", \"kargs\": {\"inplace\": True}},\n",
    "    {\"class\": \"BatchNorm1d\", \"kargs\": {\"num_features\":256}},\n",
    "\n",
    "    {\"class\": \"Linear\", \"kargs\": {\"in_features\": 256, \"out_features\": 256}},\n",
    "]\n",
    "\n",
    "# Parameters relevant to results\n",
    "# These parameters will basically never need to change\n",
    "standalone_parameters[\"NUM_LOGS_PER_EPOCH\"] = 10\n",
    "standalone_parameters[\"BEST_MODEL_PATH\"] = \"./best_model.pth\"\n",
    "\n",
    "# uncomment for CORES dataset\n",
    "from steves_utils.CORES.utils import (\n",
    "    ALL_NODES,\n",
    "    ALL_NODES_MINIMUM_1000_EXAMPLES,\n",
    "    ALL_DAYS\n",
    ")\n",
    "\n",
    "\n",
    "standalone_parameters[\"labels_source\"] = ALL_NODES\n",
    "standalone_parameters[\"labels_target\"] = ALL_NODES\n",
    "\n",
    "standalone_parameters[\"domains_source\"] = [1]\n",
    "standalone_parameters[\"domains_target\"] = [2,3,4,5]\n",
    "\n",
    "standalone_parameters[\"pickle_name\"] = \"cores.stratified_ds.2022A.pkl\"\n",
    "\n",
    "\n",
    "# Uncomment these for ORACLE dataset\n",
    "# from steves_utils.ORACLE.utils_v2 import (\n",
    "#     ALL_DISTANCES_FEET,\n",
    "#     ALL_RUNS,\n",
    "#     ALL_SERIAL_NUMBERS,\n",
    "# )\n",
    "# standalone_parameters[\"labels_source\"] = ALL_SERIAL_NUMBERS\n",
    "# standalone_parameters[\"labels_target\"] = ALL_SERIAL_NUMBERS\n",
    "# standalone_parameters[\"domains_source\"] = [8,20, 38,50]\n",
    "# standalone_parameters[\"domains_target\"] = [14, 26, 32, 44, 56]\n",
    "# standalone_parameters[\"pickle_name\"] = \"oracle.frame_indexed.stratified_ds.2022A.pkl\"\n",
    "# standalone_parameters[\"num_examples_per_domain_per_label_source\"]=1000\n",
    "# standalone_parameters[\"num_examples_per_domain_per_label_target\"]=1000\n",
    "\n",
    "# Uncomment these for Metahan dataset\n",
    "# standalone_parameters[\"labels_source\"] = list(range(19))\n",
    "# standalone_parameters[\"labels_target\"] = list(range(19))\n",
    "# standalone_parameters[\"domains_source\"] = [0]\n",
    "# standalone_parameters[\"domains_target\"] = [1]\n",
    "# standalone_parameters[\"pickle_name\"] = \"metehan.stratified_ds.2022A.pkl\"\n",
    "# standalone_parameters[\"n_way\"]  = len(standalone_parameters[\"labels_source\"])\n",
    "# standalone_parameters[\"num_examples_per_domain_per_label_source\"]=200\n",
    "# standalone_parameters[\"num_examples_per_domain_per_label_target\"]=100\n",
    "\n",
    "\n",
    "standalone_parameters[\"n_way\"]  = len(standalone_parameters[\"labels_source\"])"
   ]
  },
  {
   "cell_type": "code",
   "execution_count": 4,
   "id": "bb8da7ba",
   "metadata": {
    "execution": {
     "iopub.execute_input": "2022-03-06T18:26:07.940758Z",
     "iopub.status.busy": "2022-03-06T18:26:07.940316Z",
     "iopub.status.idle": "2022-03-06T18:26:07.951611Z",
     "shell.execute_reply": "2022-03-06T18:26:07.951848Z"
    },
    "papermill": {
     "duration": 0.02554,
     "end_time": "2022-03-06T18:26:07.951932",
     "exception": false,
     "start_time": "2022-03-06T18:26:07.926392",
     "status": "completed"
    },
    "tags": [
     "injected-parameters"
    ]
   },
   "outputs": [],
   "source": [
    "# Parameters\n",
    "parameters = {\n",
    "    \"experiment_name\": \"tuned_1_oracle.run1_limited\",\n",
    "    \"device\": \"cuda\",\n",
    "    \"lr\": 0.001,\n",
    "    \"seed\": 1337,\n",
    "    \"dataset_seed\": 1337,\n",
    "    \"labels_source\": [\n",
    "        \"3123D52\",\n",
    "        \"3123D65\",\n",
    "        \"3123D79\",\n",
    "        \"3123D80\",\n",
    "        \"3123D54\",\n",
    "        \"3123D70\",\n",
    "        \"3123D7B\",\n",
    "        \"3123D89\",\n",
    "        \"3123D58\",\n",
    "        \"3123D76\",\n",
    "        \"3123D7D\",\n",
    "        \"3123EFE\",\n",
    "        \"3123D64\",\n",
    "        \"3123D78\",\n",
    "        \"3123D7E\",\n",
    "        \"3124E4A\",\n",
    "    ],\n",
    "    \"labels_target\": [\n",
    "        \"3123D52\",\n",
    "        \"3123D65\",\n",
    "        \"3123D79\",\n",
    "        \"3123D80\",\n",
    "        \"3123D54\",\n",
    "        \"3123D70\",\n",
    "        \"3123D7B\",\n",
    "        \"3123D89\",\n",
    "        \"3123D58\",\n",
    "        \"3123D76\",\n",
    "        \"3123D7D\",\n",
    "        \"3123EFE\",\n",
    "        \"3123D64\",\n",
    "        \"3123D78\",\n",
    "        \"3123D7E\",\n",
    "        \"3124E4A\",\n",
    "    ],\n",
    "    \"x_transforms_source\": [\"unit_power\"],\n",
    "    \"x_transforms_target\": [\"unit_power\"],\n",
    "    \"episode_transforms_source\": [],\n",
    "    \"episode_transforms_target\": [],\n",
    "    \"domains_source\": [8, 32, 50],\n",
    "    \"domains_target\": [14, 20, 26, 38, 44],\n",
    "    \"num_examples_per_domain_per_label_source\": 2000,\n",
    "    \"num_examples_per_domain_per_label_target\": 1000,\n",
    "    \"n_shot\": 3,\n",
    "    \"n_way\": 16,\n",
    "    \"n_query\": 2,\n",
    "    \"train_k_factor\": 3,\n",
    "    \"val_k_factor\": 2,\n",
    "    \"test_k_factor\": 2,\n",
    "    \"torch_default_dtype\": \"torch.float32\",\n",
    "    \"n_epoch\": 50,\n",
    "    \"patience\": 3,\n",
    "    \"criteria_for_best\": \"target_loss\",\n",
    "    \"x_net\": [\n",
    "        {\"class\": \"nnReshape\", \"kargs\": {\"shape\": [-1, 1, 2, 256]}},\n",
    "        {\n",
    "            \"class\": \"Conv2d\",\n",
    "            \"kargs\": {\n",
    "                \"in_channels\": 1,\n",
    "                \"out_channels\": 256,\n",
    "                \"kernel_size\": [1, 7],\n",
    "                \"bias\": False,\n",
    "                \"padding\": [0, 3],\n",
    "            },\n",
    "        },\n",
    "        {\"class\": \"ReLU\", \"kargs\": {\"inplace\": True}},\n",
    "        {\"class\": \"BatchNorm2d\", \"kargs\": {\"num_features\": 256}},\n",
    "        {\n",
    "            \"class\": \"Conv2d\",\n",
    "            \"kargs\": {\n",
    "                \"in_channels\": 256,\n",
    "                \"out_channels\": 80,\n",
    "                \"kernel_size\": [2, 7],\n",
    "                \"bias\": True,\n",
    "                \"padding\": [0, 3],\n",
    "            },\n",
    "        },\n",
    "        {\"class\": \"ReLU\", \"kargs\": {\"inplace\": True}},\n",
    "        {\"class\": \"BatchNorm2d\", \"kargs\": {\"num_features\": 80}},\n",
    "        {\"class\": \"Flatten\", \"kargs\": {}},\n",
    "        {\"class\": \"Linear\", \"kargs\": {\"in_features\": 20480, \"out_features\": 256}},\n",
    "        {\"class\": \"ReLU\", \"kargs\": {\"inplace\": True}},\n",
    "        {\"class\": \"BatchNorm1d\", \"kargs\": {\"num_features\": 256}},\n",
    "        {\"class\": \"Linear\", \"kargs\": {\"in_features\": 256, \"out_features\": 256}},\n",
    "    ],\n",
    "    \"NUM_LOGS_PER_EPOCH\": 10,\n",
    "    \"BEST_MODEL_PATH\": \"./best_model.pth\",\n",
    "    \"pickle_name\": \"oracle.Run1_10kExamples_stratified_ds.2022A.pkl\",\n",
    "}\n"
   ]
  },
  {
   "cell_type": "code",
   "execution_count": 5,
   "id": "8fa1cc33",
   "metadata": {
    "execution": {
     "iopub.execute_input": "2022-03-06T18:26:07.974301Z",
     "iopub.status.busy": "2022-03-06T18:26:07.973900Z",
     "iopub.status.idle": "2022-03-06T18:26:07.984136Z",
     "shell.execute_reply": "2022-03-06T18:26:07.984363Z"
    },
    "papermill": {
     "duration": 0.022842,
     "end_time": "2022-03-06T18:26:07.984447",
     "exception": false,
     "start_time": "2022-03-06T18:26:07.961605",
     "status": "completed"
    },
    "tags": []
   },
   "outputs": [],
   "source": [
    "# Set this to True if you want to run this template directly\n",
    "STANDALONE = False\n",
    "if STANDALONE:\n",
    "    print(\"parameters not injected, running with standalone_parameters\")\n",
    "    parameters = standalone_parameters\n",
    "\n",
    "if not 'parameters' in locals() and not 'parameters' in globals():\n",
    "    raise Exception(\"Parameter injection failed\")\n",
    "\n",
    "#Use an easy dict for all the parameters\n",
    "p = EasyDict(parameters)\n",
    "\n",
    "supplied_keys = set(p.keys())\n",
    "\n",
    "if  supplied_keys != required_parameters:\n",
    "    print(\"Parameters are incorrect\")\n",
    "    if len(supplied_keys - required_parameters)>0: print(\"Shouldn't have:\", str(supplied_keys - required_parameters))\n",
    "    if len(required_parameters - supplied_keys)>0: print(\"Need to have:\", str(required_parameters - supplied_keys))\n",
    "    raise RuntimeError(\"Parameters are incorrect\")\n",
    "\n"
   ]
  },
  {
   "cell_type": "code",
   "execution_count": 6,
   "id": "3a028d58",
   "metadata": {
    "execution": {
     "iopub.execute_input": "2022-03-06T18:26:08.009478Z",
     "iopub.status.busy": "2022-03-06T18:26:08.009073Z",
     "iopub.status.idle": "2022-03-06T18:26:08.018784Z",
     "shell.execute_reply": "2022-03-06T18:26:08.018537Z"
    },
    "papermill": {
     "duration": 0.022168,
     "end_time": "2022-03-06T18:26:08.018849",
     "exception": false,
     "start_time": "2022-03-06T18:26:07.996681",
     "status": "completed"
    },
    "tags": []
   },
   "outputs": [],
   "source": [
    "###################################\n",
    "# Set the RNGs and make it all deterministic\n",
    "###################################\n",
    "np.random.seed(p.seed)\n",
    "random.seed(p.seed)\n",
    "torch.manual_seed(p.seed)\n",
    "\n",
    "torch.use_deterministic_algorithms(True) "
   ]
  },
  {
   "cell_type": "code",
   "execution_count": 7,
   "id": "b691acf6",
   "metadata": {
    "execution": {
     "iopub.execute_input": "2022-03-06T18:26:08.041564Z",
     "iopub.status.busy": "2022-03-06T18:26:08.041155Z",
     "iopub.status.idle": "2022-03-06T18:26:08.050533Z",
     "shell.execute_reply": "2022-03-06T18:26:08.050775Z"
    },
    "papermill": {
     "duration": 0.02162,
     "end_time": "2022-03-06T18:26:08.050855",
     "exception": false,
     "start_time": "2022-03-06T18:26:08.029235",
     "status": "completed"
    },
    "tags": []
   },
   "outputs": [],
   "source": [
    "###########################################\n",
    "# The stratified datasets honor this\n",
    "###########################################\n",
    "torch.set_default_dtype(eval(p.torch_default_dtype))"
   ]
  },
  {
   "cell_type": "code",
   "execution_count": 8,
   "id": "b5fba671",
   "metadata": {
    "execution": {
     "iopub.execute_input": "2022-03-06T18:26:08.073610Z",
     "iopub.status.busy": "2022-03-06T18:26:08.073204Z",
     "iopub.status.idle": "2022-03-06T18:26:08.111535Z",
     "shell.execute_reply": "2022-03-06T18:26:08.111761Z"
    },
    "papermill": {
     "duration": 0.049946,
     "end_time": "2022-03-06T18:26:08.111845",
     "exception": false,
     "start_time": "2022-03-06T18:26:08.061899",
     "status": "completed"
    },
    "tags": []
   },
   "outputs": [],
   "source": [
    "###################################\n",
    "# Build the network(s)\n",
    "# Note: It's critical to do this AFTER setting the RNG\n",
    "# (This is due to the randomized initial weights)\n",
    "###################################\n",
    "x_net = build_sequential(p.x_net)"
   ]
  },
  {
   "cell_type": "code",
   "execution_count": 9,
   "id": "5d7e61cc",
   "metadata": {
    "execution": {
     "iopub.execute_input": "2022-03-06T18:26:08.134680Z",
     "iopub.status.busy": "2022-03-06T18:26:08.134281Z",
     "iopub.status.idle": "2022-03-06T18:26:08.143493Z",
     "shell.execute_reply": "2022-03-06T18:26:08.143740Z"
    },
    "papermill": {
     "duration": 0.021802,
     "end_time": "2022-03-06T18:26:08.143815",
     "exception": false,
     "start_time": "2022-03-06T18:26:08.122013",
     "status": "completed"
    },
    "tags": []
   },
   "outputs": [],
   "source": [
    "start_time_secs = time.time()"
   ]
  },
  {
   "cell_type": "code",
   "execution_count": 10,
   "id": "fd5442bc",
   "metadata": {
    "execution": {
     "iopub.execute_input": "2022-03-06T18:26:08.172968Z",
     "iopub.status.busy": "2022-03-06T18:26:08.166064Z",
     "iopub.status.idle": "2022-03-06T18:26:23.332074Z",
     "shell.execute_reply": "2022-03-06T18:26:23.331782Z"
    },
    "papermill": {
     "duration": 15.178379,
     "end_time": "2022-03-06T18:26:23.332143",
     "exception": false,
     "start_time": "2022-03-06T18:26:08.153764",
     "status": "completed"
    },
    "tags": []
   },
   "outputs": [],
   "source": [
    "###################################\n",
    "# Build the dataset\n",
    "###################################\n",
    "\n",
    "if p.x_transforms_source == []: x_transform_source = None\n",
    "else: x_transform_source = get_chained_transform(p.x_transforms_source) \n",
    "\n",
    "if p.x_transforms_target == []: x_transform_target = None\n",
    "else: x_transform_target = get_chained_transform(p.x_transforms_target)\n",
    "\n",
    "if p.episode_transforms_source == []: episode_transform_source = None\n",
    "else: raise Exception(\"episode_transform_source not implemented\")\n",
    "\n",
    "if p.episode_transforms_target == []: episode_transform_target = None\n",
    "else: raise Exception(\"episode_transform_target not implemented\")\n",
    "\n",
    "\n",
    "eaf_source = Episodic_Accessor_Factory(\n",
    "    labels=p.labels_source,\n",
    "    domains=p.domains_source,\n",
    "    num_examples_per_domain_per_label=p.num_examples_per_domain_per_label_source,\n",
    "    iterator_seed=p.seed,\n",
    "    dataset_seed=p.dataset_seed,\n",
    "    n_shot=p.n_shot,\n",
    "    n_way=p.n_way,\n",
    "    n_query=p.n_query,\n",
    "    train_val_test_k_factors=(p.train_k_factor,p.val_k_factor,p.test_k_factor),\n",
    "    pickle_path=os.path.join(get_datasets_base_path(), p.pickle_name),\n",
    "    x_transform_func=x_transform_source,\n",
    "    example_transform_func=episode_transform_source,\n",
    "    \n",
    ")\n",
    "train_original_source, val_original_source, test_original_source = eaf_source.get_train(), eaf_source.get_val(), eaf_source.get_test()\n",
    "\n",
    "\n",
    "eaf_target = Episodic_Accessor_Factory(\n",
    "    labels=p.labels_target,\n",
    "    domains=p.domains_target,\n",
    "    num_examples_per_domain_per_label=p.num_examples_per_domain_per_label_target,\n",
    "    iterator_seed=p.seed,\n",
    "    dataset_seed=p.dataset_seed,\n",
    "    n_shot=p.n_shot,\n",
    "    n_way=p.n_way,\n",
    "    n_query=p.n_query,\n",
    "    train_val_test_k_factors=(p.train_k_factor,p.val_k_factor,p.test_k_factor),\n",
    "    pickle_path=os.path.join(get_datasets_base_path(), p.pickle_name),\n",
    "    x_transform_func=x_transform_target,\n",
    "    example_transform_func=episode_transform_target,\n",
    ")\n",
    "train_original_target, val_original_target, test_original_target = eaf_target.get_train(), eaf_target.get_val(), eaf_target.get_test()\n",
    "\n",
    "\n",
    "transform_lambda = lambda ex: ex[1] # Original is (<domain>, <episode>) so we strip down to episode only\n",
    "\n",
    "train_processed_source = Lazy_Iterable_Wrapper(train_original_source, transform_lambda)\n",
    "val_processed_source   = Lazy_Iterable_Wrapper(val_original_source, transform_lambda)\n",
    "test_processed_source  = Lazy_Iterable_Wrapper(test_original_source, transform_lambda)\n",
    "\n",
    "train_processed_target = Lazy_Iterable_Wrapper(train_original_target, transform_lambda)\n",
    "val_processed_target   = Lazy_Iterable_Wrapper(val_original_target, transform_lambda)\n",
    "test_processed_target  = Lazy_Iterable_Wrapper(test_original_target, transform_lambda)\n",
    "\n",
    "datasets = EasyDict({\n",
    "    \"source\": {\n",
    "        \"original\": {\"train\":train_original_source, \"val\":val_original_source, \"test\":test_original_source},\n",
    "        \"processed\": {\"train\":train_processed_source, \"val\":val_processed_source, \"test\":test_processed_source}\n",
    "    },\n",
    "    \"target\": {\n",
    "        \"original\": {\"train\":train_original_target, \"val\":val_original_target, \"test\":test_original_target},\n",
    "        \"processed\": {\"train\":train_processed_target, \"val\":val_processed_target, \"test\":test_processed_target}\n",
    "    },\n",
    "})"
   ]
  },
  {
   "cell_type": "code",
   "execution_count": 11,
   "id": "296189d9",
   "metadata": {
    "execution": {
     "iopub.execute_input": "2022-03-06T18:26:23.357852Z",
     "iopub.status.busy": "2022-03-06T18:26:23.357442Z",
     "iopub.status.idle": "2022-03-06T18:26:25.132775Z",
     "shell.execute_reply": "2022-03-06T18:26:25.133260Z"
    },
    "papermill": {
     "duration": 1.788437,
     "end_time": "2022-03-06T18:26:25.133405",
     "exception": false,
     "start_time": "2022-03-06T18:26:23.344968",
     "status": "completed"
    },
    "tags": []
   },
   "outputs": [
    {
     "name": "stdout",
     "output_type": "stream",
     "text": [
      "Visually inspect these to see if they line up with expected values given the transforms\n",
      "x_transforms_source ['unit_power']\n",
      "x_transforms_target ['unit_power']\n",
      "Average magnitude, source: 0.8852737\n",
      "Average power, source: 1.0\n"
     ]
    },
    {
     "name": "stdout",
     "output_type": "stream",
     "text": [
      "Average magnitude, target: 0.88260865\n",
      "Average power, target: 0.99999994\n"
     ]
    }
   ],
   "source": [
    "# Some quick unit tests on the data\n",
    "from steves_utils.transforms import get_average_power, get_average_magnitude\n",
    "\n",
    "q_x, q_y, s_x, s_y, truth = next(iter(train_processed_source))\n",
    "\n",
    "assert q_x.dtype == eval(p.torch_default_dtype)\n",
    "assert s_x.dtype == eval(p.torch_default_dtype)\n",
    "\n",
    "print(\"Visually inspect these to see if they line up with expected values given the transforms\")\n",
    "print('x_transforms_source', p.x_transforms_source)\n",
    "print('x_transforms_target', p.x_transforms_target)\n",
    "print(\"Average magnitude, source:\", get_average_magnitude(q_x[0].numpy()))\n",
    "print(\"Average power, source:\", get_average_power(q_x[0].numpy()))\n",
    "\n",
    "q_x, q_y, s_x, s_y, truth = next(iter(train_processed_target))\n",
    "print(\"Average magnitude, target:\", get_average_magnitude(q_x[0].numpy()))\n",
    "print(\"Average power, target:\", get_average_power(q_x[0].numpy()))\n"
   ]
  },
  {
   "cell_type": "code",
   "execution_count": 12,
   "id": "bbdacba1",
   "metadata": {
    "execution": {
     "iopub.execute_input": "2022-03-06T18:26:25.163954Z",
     "iopub.status.busy": "2022-03-06T18:26:25.163691Z",
     "iopub.status.idle": "2022-03-06T18:26:25.225081Z",
     "shell.execute_reply": "2022-03-06T18:26:25.225302Z"
    },
    "papermill": {
     "duration": 0.075484,
     "end_time": "2022-03-06T18:26:25.225383",
     "exception": false,
     "start_time": "2022-03-06T18:26:25.149899",
     "status": "completed"
    },
    "tags": []
   },
   "outputs": [
    {
     "name": "stdout",
     "output_type": "stream",
     "text": [
      "(2, 256)\n"
     ]
    }
   ],
   "source": [
    "###################################\n",
    "# Build the model\n",
    "###################################\n",
    "model = Steves_Prototypical_Network(x_net, device=p.device, x_shape=(2,256))\n",
    "optimizer = Adam(params=model.parameters(), lr=p.lr)"
   ]
  },
  {
   "cell_type": "code",
   "execution_count": 13,
   "id": "22b39ac5",
   "metadata": {
    "execution": {
     "iopub.execute_input": "2022-03-06T18:26:25.251602Z",
     "iopub.status.busy": "2022-03-06T18:26:25.251188Z",
     "iopub.status.idle": "2022-03-06T18:34:50.791286Z",
     "shell.execute_reply": "2022-03-06T18:34:50.791510Z"
    },
    "papermill": {
     "duration": 505.553692,
     "end_time": "2022-03-06T18:34:50.791594",
     "exception": false,
     "start_time": "2022-03-06T18:26:25.237902",
     "status": "completed"
    },
    "tags": []
   },
   "outputs": [
    {
     "name": "stdout",
     "output_type": "stream",
     "text": [
      "epoch: 1, [batch: 1 / 2520], examples_per_second: 117.0497, train_label_loss: 2.7838, \n"
     ]
    },
    {
     "name": "stdout",
     "output_type": "stream",
     "text": [
      "epoch: 1, [batch: 252 / 2520], examples_per_second: 3125.2769, train_label_loss: 2.4170, \n"
     ]
    },
    {
     "name": "stdout",
     "output_type": "stream",
     "text": [
      "epoch: 1, [batch: 504 / 2520], examples_per_second: 3116.9185, train_label_loss: 2.4307, \n"
     ]
    },
    {
     "name": "stdout",
     "output_type": "stream",
     "text": [
      "epoch: 1, [batch: 756 / 2520], examples_per_second: 3100.8557, train_label_loss: 1.3826, \n"
     ]
    },
    {
     "name": "stdout",
     "output_type": "stream",
     "text": [
      "epoch: 1, [batch: 1008 / 2520], examples_per_second: 3156.4971, train_label_loss: 1.4306, \n"
     ]
    },
    {
     "name": "stdout",
     "output_type": "stream",
     "text": [
      "epoch: 1, [batch: 1260 / 2520], examples_per_second: 3161.1838, train_label_loss: 1.6307, \n"
     ]
    },
    {
     "name": "stdout",
     "output_type": "stream",
     "text": [
      "epoch: 1, [batch: 1512 / 2520], examples_per_second: 3161.2394, train_label_loss: 1.2311, \n"
     ]
    },
    {
     "name": "stdout",
     "output_type": "stream",
     "text": [
      "epoch: 1, [batch: 1764 / 2520], examples_per_second: 3178.0155, train_label_loss: 1.2283, \n"
     ]
    },
    {
     "name": "stdout",
     "output_type": "stream",
     "text": [
      "epoch: 1, [batch: 2016 / 2520], examples_per_second: 3139.9166, train_label_loss: 1.2561, \n"
     ]
    },
    {
     "name": "stdout",
     "output_type": "stream",
     "text": [
      "epoch: 1, [batch: 2268 / 2520], examples_per_second: 3140.4923, train_label_loss: 0.9484, \n"
     ]
    },
    {
     "name": "stdout",
     "output_type": "stream",
     "text": [
      "=============================================================\n",
      "epoch: 1, source_val_acc_label: 0.4614, target_val_acc_label: 0.3458, source_val_label_loss: 1.4931, target_val_label_loss: 1.8626, \n",
      "=============================================================\n"
     ]
    },
    {
     "name": "stdout",
     "output_type": "stream",
     "text": [
      "New best\n"
     ]
    },
    {
     "name": "stdout",
     "output_type": "stream",
     "text": [
      "epoch: 2, [batch: 1 / 2520], examples_per_second: 12.8445, train_label_loss: 1.0401, \n"
     ]
    },
    {
     "name": "stdout",
     "output_type": "stream",
     "text": [
      "epoch: 2, [batch: 252 / 2520], examples_per_second: 3158.7877, train_label_loss: 0.9472, \n"
     ]
    },
    {
     "name": "stdout",
     "output_type": "stream",
     "text": [
      "epoch: 2, [batch: 504 / 2520], examples_per_second: 3169.8690, train_label_loss: 1.3289, \n"
     ]
    },
    {
     "name": "stdout",
     "output_type": "stream",
     "text": [
      "epoch: 2, [batch: 756 / 2520], examples_per_second: 3167.3221, train_label_loss: 1.0027, \n"
     ]
    },
    {
     "name": "stdout",
     "output_type": "stream",
     "text": [
      "epoch: 2, [batch: 1008 / 2520], examples_per_second: 3177.1813, train_label_loss: 1.1443, \n"
     ]
    },
    {
     "name": "stdout",
     "output_type": "stream",
     "text": [
      "epoch: 2, [batch: 1260 / 2520], examples_per_second: 3204.7556, train_label_loss: 1.4215, \n"
     ]
    },
    {
     "name": "stdout",
     "output_type": "stream",
     "text": [
      "epoch: 2, [batch: 1512 / 2520], examples_per_second: 3206.9603, train_label_loss: 1.2255, \n"
     ]
    },
    {
     "name": "stdout",
     "output_type": "stream",
     "text": [
      "epoch: 2, [batch: 1764 / 2520], examples_per_second: 3194.0367, train_label_loss: 1.3451, \n"
     ]
    },
    {
     "name": "stdout",
     "output_type": "stream",
     "text": [
      "epoch: 2, [batch: 2016 / 2520], examples_per_second: 3166.1912, train_label_loss: 1.6610, \n"
     ]
    },
    {
     "name": "stdout",
     "output_type": "stream",
     "text": [
      "epoch: 2, [batch: 2268 / 2520], examples_per_second: 3176.7649, train_label_loss: 1.0088, \n"
     ]
    },
    {
     "name": "stdout",
     "output_type": "stream",
     "text": [
      "=============================================================\n",
      "epoch: 2, source_val_acc_label: 0.5567, target_val_acc_label: 0.4688, source_val_label_loss: 1.1848, target_val_label_loss: 1.4153, \n",
      "=============================================================\n"
     ]
    },
    {
     "name": "stdout",
     "output_type": "stream",
     "text": [
      "New best\n"
     ]
    },
    {
     "name": "stdout",
     "output_type": "stream",
     "text": [
      "epoch: 3, [batch: 1 / 2520], examples_per_second: 12.4864, train_label_loss: 1.3027, \n"
     ]
    },
    {
     "name": "stdout",
     "output_type": "stream",
     "text": [
      "epoch: 3, [batch: 252 / 2520], examples_per_second: 3109.3762, train_label_loss: 0.8945, \n"
     ]
    },
    {
     "name": "stdout",
     "output_type": "stream",
     "text": [
      "epoch: 3, [batch: 504 / 2520], examples_per_second: 3066.5729, train_label_loss: 0.8283, \n"
     ]
    },
    {
     "name": "stdout",
     "output_type": "stream",
     "text": [
      "epoch: 3, [batch: 756 / 2520], examples_per_second: 3158.7237, train_label_loss: 1.1161, \n"
     ]
    },
    {
     "name": "stdout",
     "output_type": "stream",
     "text": [
      "epoch: 3, [batch: 1008 / 2520], examples_per_second: 3066.7412, train_label_loss: 1.0396, \n"
     ]
    },
    {
     "name": "stdout",
     "output_type": "stream",
     "text": [
      "epoch: 3, [batch: 1260 / 2520], examples_per_second: 3107.0617, train_label_loss: 1.1850, \n"
     ]
    },
    {
     "name": "stdout",
     "output_type": "stream",
     "text": [
      "epoch: 3, [batch: 1512 / 2520], examples_per_second: 3184.2099, train_label_loss: 1.1194, \n"
     ]
    },
    {
     "name": "stdout",
     "output_type": "stream",
     "text": [
      "epoch: 3, [batch: 1764 / 2520], examples_per_second: 3179.5236, train_label_loss: 0.9334, \n"
     ]
    },
    {
     "name": "stdout",
     "output_type": "stream",
     "text": [
      "epoch: 3, [batch: 2016 / 2520], examples_per_second: 3207.9173, train_label_loss: 0.8656, \n"
     ]
    },
    {
     "name": "stdout",
     "output_type": "stream",
     "text": [
      "epoch: 3, [batch: 2268 / 2520], examples_per_second: 3207.7003, train_label_loss: 0.7780, \n"
     ]
    },
    {
     "name": "stdout",
     "output_type": "stream",
     "text": [
      "=============================================================\n",
      "epoch: 3, source_val_acc_label: 0.5714, target_val_acc_label: 0.4898, source_val_label_loss: 1.1415, target_val_label_loss: 1.3500, \n",
      "=============================================================\n"
     ]
    },
    {
     "name": "stdout",
     "output_type": "stream",
     "text": [
      "New best\n"
     ]
    },
    {
     "name": "stdout",
     "output_type": "stream",
     "text": [
      "epoch: 4, [batch: 1 / 2520], examples_per_second: 12.7920, train_label_loss: 0.6178, \n"
     ]
    },
    {
     "name": "stdout",
     "output_type": "stream",
     "text": [
      "epoch: 4, [batch: 252 / 2520], examples_per_second: 3166.8233, train_label_loss: 0.9926, \n"
     ]
    },
    {
     "name": "stdout",
     "output_type": "stream",
     "text": [
      "epoch: 4, [batch: 504 / 2520], examples_per_second: 3160.3509, train_label_loss: 1.0289, \n"
     ]
    },
    {
     "name": "stdout",
     "output_type": "stream",
     "text": [
      "epoch: 4, [batch: 756 / 2520], examples_per_second: 3184.5620, train_label_loss: 0.5949, \n"
     ]
    },
    {
     "name": "stdout",
     "output_type": "stream",
     "text": [
      "epoch: 4, [batch: 1008 / 2520], examples_per_second: 3144.6436, train_label_loss: 0.4681, \n"
     ]
    },
    {
     "name": "stdout",
     "output_type": "stream",
     "text": [
      "epoch: 4, [batch: 1260 / 2520], examples_per_second: 3216.2647, train_label_loss: 1.0495, \n"
     ]
    },
    {
     "name": "stdout",
     "output_type": "stream",
     "text": [
      "epoch: 4, [batch: 1512 / 2520], examples_per_second: 3203.3424, train_label_loss: 1.0438, \n"
     ]
    },
    {
     "name": "stdout",
     "output_type": "stream",
     "text": [
      "epoch: 4, [batch: 1764 / 2520], examples_per_second: 3216.5958, train_label_loss: 0.4995, \n"
     ]
    },
    {
     "name": "stdout",
     "output_type": "stream",
     "text": [
      "epoch: 4, [batch: 2016 / 2520], examples_per_second: 3209.1369, train_label_loss: 0.6158, \n"
     ]
    },
    {
     "name": "stdout",
     "output_type": "stream",
     "text": [
      "epoch: 4, [batch: 2268 / 2520], examples_per_second: 3225.4916, train_label_loss: 1.1039, \n"
     ]
    },
    {
     "name": "stdout",
     "output_type": "stream",
     "text": [
      "=============================================================\n",
      "epoch: 4, source_val_acc_label: 0.5888, target_val_acc_label: 0.5071, source_val_label_loss: 1.2131, target_val_label_loss: 1.4419, \n",
      "=============================================================\n"
     ]
    },
    {
     "name": "stdout",
     "output_type": "stream",
     "text": [
      "epoch: 5, [batch: 1 / 2520], examples_per_second: 12.2682, train_label_loss: 0.3724, \n"
     ]
    },
    {
     "name": "stdout",
     "output_type": "stream",
     "text": [
      "epoch: 5, [batch: 252 / 2520], examples_per_second: 3027.9912, train_label_loss: 0.3542, \n"
     ]
    },
    {
     "name": "stdout",
     "output_type": "stream",
     "text": [
      "epoch: 5, [batch: 504 / 2520], examples_per_second: 3163.7681, train_label_loss: 0.2961, \n"
     ]
    },
    {
     "name": "stdout",
     "output_type": "stream",
     "text": [
      "epoch: 5, [batch: 756 / 2520], examples_per_second: 3094.2598, train_label_loss: 0.8100, \n"
     ]
    },
    {
     "name": "stdout",
     "output_type": "stream",
     "text": [
      "epoch: 5, [batch: 1008 / 2520], examples_per_second: 3108.9195, train_label_loss: 0.6300, \n"
     ]
    },
    {
     "name": "stdout",
     "output_type": "stream",
     "text": [
      "epoch: 5, [batch: 1260 / 2520], examples_per_second: 3042.8031, train_label_loss: 1.1130, \n"
     ]
    },
    {
     "name": "stdout",
     "output_type": "stream",
     "text": [
      "epoch: 5, [batch: 1512 / 2520], examples_per_second: 3152.6659, train_label_loss: 0.6600, \n"
     ]
    },
    {
     "name": "stdout",
     "output_type": "stream",
     "text": [
      "epoch: 5, [batch: 1764 / 2520], examples_per_second: 3131.0314, train_label_loss: 0.3165, \n"
     ]
    },
    {
     "name": "stdout",
     "output_type": "stream",
     "text": [
      "epoch: 5, [batch: 2016 / 2520], examples_per_second: 3144.0782, train_label_loss: 0.1614, \n"
     ]
    },
    {
     "name": "stdout",
     "output_type": "stream",
     "text": [
      "epoch: 5, [batch: 2268 / 2520], examples_per_second: 2922.4222, train_label_loss: 0.4795, \n"
     ]
    },
    {
     "name": "stdout",
     "output_type": "stream",
     "text": [
      "=============================================================\n",
      "epoch: 5, source_val_acc_label: 0.5954, target_val_acc_label: 0.5218, source_val_label_loss: 1.2735, target_val_label_loss: 1.4971, \n",
      "=============================================================\n"
     ]
    },
    {
     "name": "stdout",
     "output_type": "stream",
     "text": [
      "epoch: 6, [batch: 1 / 2520], examples_per_second: 7.5535, train_label_loss: 0.9685, \n"
     ]
    },
    {
     "name": "stdout",
     "output_type": "stream",
     "text": [
      "epoch: 6, [batch: 252 / 2520], examples_per_second: 2150.7673, train_label_loss: 0.7349, \n"
     ]
    },
    {
     "name": "stdout",
     "output_type": "stream",
     "text": [
      "epoch: 6, [batch: 504 / 2520], examples_per_second: 2381.0652, train_label_loss: 0.5706, \n"
     ]
    },
    {
     "name": "stdout",
     "output_type": "stream",
     "text": [
      "epoch: 6, [batch: 756 / 2520], examples_per_second: 3212.8260, train_label_loss: 0.9342, \n"
     ]
    },
    {
     "name": "stdout",
     "output_type": "stream",
     "text": [
      "epoch: 6, [batch: 1008 / 2520], examples_per_second: 3175.6853, train_label_loss: 0.6914, \n"
     ]
    },
    {
     "name": "stdout",
     "output_type": "stream",
     "text": [
      "epoch: 6, [batch: 1260 / 2520], examples_per_second: 3225.8307, train_label_loss: 0.5460, \n"
     ]
    },
    {
     "name": "stdout",
     "output_type": "stream",
     "text": [
      "epoch: 6, [batch: 1512 / 2520], examples_per_second: 3222.8713, train_label_loss: 0.5157, \n"
     ]
    },
    {
     "name": "stdout",
     "output_type": "stream",
     "text": [
      "epoch: 6, [batch: 1764 / 2520], examples_per_second: 3088.7148, train_label_loss: 0.6328, \n"
     ]
    },
    {
     "name": "stdout",
     "output_type": "stream",
     "text": [
      "epoch: 6, [batch: 2016 / 2520], examples_per_second: 3031.1990, train_label_loss: 0.5171, \n"
     ]
    },
    {
     "name": "stdout",
     "output_type": "stream",
     "text": [
      "epoch: 6, [batch: 2268 / 2520], examples_per_second: 3140.2006, train_label_loss: 0.2050, \n"
     ]
    },
    {
     "name": "stdout",
     "output_type": "stream",
     "text": [
      "=============================================================\n",
      "epoch: 6, source_val_acc_label: 0.5773, target_val_acc_label: 0.4866, source_val_label_loss: 1.4487, target_val_label_loss: 1.7589, \n",
      "=============================================================\n"
     ]
    },
    {
     "name": "stdout",
     "output_type": "stream",
     "text": [
      "epoch: 7, [batch: 1 / 2520], examples_per_second: 12.7984, train_label_loss: 0.6127, \n"
     ]
    },
    {
     "name": "stdout",
     "output_type": "stream",
     "text": [
      "epoch: 7, [batch: 252 / 2520], examples_per_second: 3145.0479, train_label_loss: 0.1896, \n"
     ]
    },
    {
     "name": "stdout",
     "output_type": "stream",
     "text": [
      "epoch: 7, [batch: 504 / 2520], examples_per_second: 3177.3903, train_label_loss: 0.1411, \n"
     ]
    },
    {
     "name": "stdout",
     "output_type": "stream",
     "text": [
      "epoch: 7, [batch: 756 / 2520], examples_per_second: 3195.3634, train_label_loss: 0.3446, \n"
     ]
    },
    {
     "name": "stdout",
     "output_type": "stream",
     "text": [
      "epoch: 7, [batch: 1008 / 2520], examples_per_second: 3152.2979, train_label_loss: 0.0715, \n"
     ]
    },
    {
     "name": "stdout",
     "output_type": "stream",
     "text": [
      "epoch: 7, [batch: 1260 / 2520], examples_per_second: 3034.0183, train_label_loss: 0.2181, \n"
     ]
    },
    {
     "name": "stdout",
     "output_type": "stream",
     "text": [
      "epoch: 7, [batch: 1512 / 2520], examples_per_second: 3145.0528, train_label_loss: 0.3943, \n"
     ]
    },
    {
     "name": "stdout",
     "output_type": "stream",
     "text": [
      "epoch: 7, [batch: 1764 / 2520], examples_per_second: 3154.5964, train_label_loss: 0.1713, \n"
     ]
    },
    {
     "name": "stdout",
     "output_type": "stream",
     "text": [
      "epoch: 7, [batch: 2016 / 2520], examples_per_second: 3147.8427, train_label_loss: 0.4362, \n"
     ]
    },
    {
     "name": "stdout",
     "output_type": "stream",
     "text": [
      "epoch: 7, [batch: 2268 / 2520], examples_per_second: 3189.2922, train_label_loss: 0.7932, \n"
     ]
    },
    {
     "name": "stdout",
     "output_type": "stream",
     "text": [
      "=============================================================\n",
      "epoch: 7, source_val_acc_label: 0.5832, target_val_acc_label: 0.4983, source_val_label_loss: 1.4676, target_val_label_loss: 1.7415, \n",
      "=============================================================\n"
     ]
    },
    {
     "name": "stdout",
     "output_type": "stream",
     "text": [
      "Patience (3) exhausted\n"
     ]
    }
   ],
   "source": [
    "###################################\n",
    "# train\n",
    "###################################\n",
    "jig = PTN_Train_Eval_Test_Jig(model, p.BEST_MODEL_PATH, p.device)\n",
    "\n",
    "jig.train(\n",
    "    train_iterable=datasets.source.processed.train,\n",
    "    source_val_iterable=datasets.source.processed.val,\n",
    "    target_val_iterable=datasets.target.processed.val,\n",
    "    num_epochs=p.n_epoch,\n",
    "    num_logs_per_epoch=p.NUM_LOGS_PER_EPOCH,\n",
    "    patience=p.patience,\n",
    "    optimizer=optimizer,\n",
    "    criteria_for_best=p.criteria_for_best,\n",
    ")"
   ]
  },
  {
   "cell_type": "code",
   "execution_count": 14,
   "id": "31e8fabf",
   "metadata": {
    "execution": {
     "iopub.execute_input": "2022-03-06T18:34:50.844905Z",
     "iopub.status.busy": "2022-03-06T18:34:50.844488Z",
     "iopub.status.idle": "2022-03-06T18:34:50.857803Z",
     "shell.execute_reply": "2022-03-06T18:34:50.857549Z"
    },
    "papermill": {
     "duration": 0.040833,
     "end_time": "2022-03-06T18:34:50.857869",
     "exception": false,
     "start_time": "2022-03-06T18:34:50.817036",
     "status": "completed"
    },
    "tags": []
   },
   "outputs": [],
   "source": [
    "total_experiment_time_secs = time.time() - start_time_secs"
   ]
  },
  {
   "cell_type": "code",
   "execution_count": 15,
   "id": "87b9595b",
   "metadata": {
    "execution": {
     "iopub.execute_input": "2022-03-06T18:34:50.913605Z",
     "iopub.status.busy": "2022-03-06T18:34:50.913164Z",
     "iopub.status.idle": "2022-03-06T18:35:27.762313Z",
     "shell.execute_reply": "2022-03-06T18:35:27.762053Z"
    },
    "papermill": {
     "duration": 36.878227,
     "end_time": "2022-03-06T18:35:27.762381",
     "exception": false,
     "start_time": "2022-03-06T18:34:50.884154",
     "status": "completed"
    },
    "tags": []
   },
   "outputs": [],
   "source": [
    "###################################\n",
    "# Evaluate the model\n",
    "###################################\n",
    "source_test_label_accuracy, source_test_label_loss = jig.test(datasets.source.processed.test)\n",
    "target_test_label_accuracy, target_test_label_loss = jig.test(datasets.target.processed.test)\n",
    "\n",
    "source_val_label_accuracy, source_val_label_loss = jig.test(datasets.source.processed.val)\n",
    "target_val_label_accuracy, target_val_label_loss = jig.test(datasets.target.processed.val)\n",
    "\n",
    "history = jig.get_history()\n",
    "\n",
    "total_epochs_trained = len(history[\"epoch_indices\"])\n",
    "\n",
    "val_dl = Iterable_Aggregator((datasets.source.original.val,datasets.target.original.val))\n",
    "\n",
    "confusion = ptn_confusion_by_domain_over_dataloader(model, p.device, val_dl)\n",
    "per_domain_accuracy = per_domain_accuracy_from_confusion(confusion)\n",
    "\n",
    "# Add a key to per_domain_accuracy for if it was a source domain\n",
    "for domain, accuracy in per_domain_accuracy.items():\n",
    "    per_domain_accuracy[domain] = {\n",
    "        \"accuracy\": accuracy,\n",
    "        \"source?\": domain in p.domains_source\n",
    "    }\n",
    "\n",
    "# Do an independent accuracy assesment JUST TO BE SURE!\n",
    "# _source_test_label_accuracy = independent_accuracy_assesment(model, datasets.source.processed.test, p.device)\n",
    "# _target_test_label_accuracy = independent_accuracy_assesment(model, datasets.target.processed.test, p.device)\n",
    "# _source_val_label_accuracy = independent_accuracy_assesment(model, datasets.source.processed.val, p.device)\n",
    "# _target_val_label_accuracy = independent_accuracy_assesment(model, datasets.target.processed.val, p.device)\n",
    "\n",
    "# assert(_source_test_label_accuracy == source_test_label_accuracy)\n",
    "# assert(_target_test_label_accuracy == target_test_label_accuracy)\n",
    "# assert(_source_val_label_accuracy == source_val_label_accuracy)\n",
    "# assert(_target_val_label_accuracy == target_val_label_accuracy)\n",
    "\n",
    "experiment = {\n",
    "    \"experiment_name\": p.experiment_name,\n",
    "    \"parameters\": dict(p),\n",
    "    \"results\": {\n",
    "        \"source_test_label_accuracy\": source_test_label_accuracy,\n",
    "        \"source_test_label_loss\": source_test_label_loss,\n",
    "        \"target_test_label_accuracy\": target_test_label_accuracy,\n",
    "        \"target_test_label_loss\": target_test_label_loss,\n",
    "        \"source_val_label_accuracy\": source_val_label_accuracy,\n",
    "        \"source_val_label_loss\": source_val_label_loss,\n",
    "        \"target_val_label_accuracy\": target_val_label_accuracy,\n",
    "        \"target_val_label_loss\": target_val_label_loss,\n",
    "        \"total_epochs_trained\": total_epochs_trained,\n",
    "        \"total_experiment_time_secs\": total_experiment_time_secs,\n",
    "        \"confusion\": confusion,\n",
    "        \"per_domain_accuracy\": per_domain_accuracy,\n",
    "    },\n",
    "    \"history\": history,\n",
    "    \"dataset_metrics\": get_dataset_metrics(datasets, \"ptn\"),\n",
    "}"
   ]
  },
  {
   "cell_type": "code",
   "execution_count": 16,
   "id": "54a21829",
   "metadata": {
    "execution": {
     "iopub.execute_input": "2022-03-06T18:35:27.828856Z",
     "iopub.status.busy": "2022-03-06T18:35:27.828439Z",
     "iopub.status.idle": "2022-03-06T18:35:28.025070Z",
     "shell.execute_reply": "2022-03-06T18:35:28.025297Z"
    },
    "papermill": {
     "duration": 0.226412,
     "end_time": "2022-03-06T18:35:28.025377",
     "exception": false,
     "start_time": "2022-03-06T18:35:27.798965",
     "status": "completed"
    },
    "tags": []
   },
   "outputs": [
    {
     "data": {
      "image/png": "[encoded data removed]",
      "text/plain": [
       "<Figure size 1080x504 with 1 Axes>"
      ]
     },
     "metadata": {
      "needs_background": "light"
     },
     "output_type": "display_data"
    }
   ],
   "source": [
    "ax = get_loss_curve(experiment)\n",
    "plt.show()"
   ]
  },
  {
   "cell_type": "code",
   "execution_count": 17,
   "id": "fd8a0f60",
   "metadata": {
    "execution": {
     "iopub.execute_input": "2022-03-06T18:35:28.099520Z",
     "iopub.status.busy": "2022-03-06T18:35:28.099149Z",
     "iopub.status.idle": "2022-03-06T18:35:28.283884Z",
     "shell.execute_reply": "2022-03-06T18:35:28.283471Z"
    },
    "papermill": {
     "duration": 0.223011,
     "end_time": "2022-03-06T18:35:28.283983",
     "exception": false,
     "start_time": "2022-03-06T18:35:28.060972",
     "status": "completed"
    },
    "tags": []
   },
   "outputs": [
    {
     "data": {
      "text/plain": [
       "<matplotlib.axes._subplots.AxesSubplot at 0x7fa462b636d0>"
      ]
     },
     "execution_count": 17,
     "metadata": {},
     "output_type": "execute_result"
    },
    {
     "data": {
      "image/png": "[encoded data removed]",
      "text/plain": [
       "<Figure size 1080x504 with 1 Axes>"
      ]
     },
     "metadata": {
      "needs_background": "light"
     },
     "output_type": "display_data"
    }
   ],
   "source": [
    "get_results_table(experiment)"
   ]
  },
  {
   "cell_type": "code",
   "execution_count": 18,
   "id": "cf8dc689",
   "metadata": {
    "execution": {
     "iopub.execute_input": "2022-03-06T18:35:28.373114Z",
     "iopub.status.busy": "2022-03-06T18:35:28.372729Z",
     "iopub.status.idle": "2022-03-06T18:35:28.560033Z",
     "shell.execute_reply": "2022-03-06T18:35:28.559750Z"
    },
    "papermill": {
     "duration": 0.234031,
     "end_time": "2022-03-06T18:35:28.560097",
     "exception": false,
     "start_time": "2022-03-06T18:35:28.326066",
     "status": "completed"
    },
    "tags": []
   },
   "outputs": [
    {
     "data": {
      "text/plain": [
       "<matplotlib.axes._subplots.AxesSubplot at 0x7fa4627ea8e0>"
      ]
     },
     "execution_count": 18,
     "metadata": {},
     "output_type": "execute_result"
    },
    {
     "data": {
      "image/png": "[encoded data removed]",
      "text/plain": [
       "<Figure size 1080x504 with 1 Axes>"
      ]
     },
     "metadata": {
      "needs_background": "light"
     },
     "output_type": "display_data"
    }
   ],
   "source": [
    "get_domain_accuracies(experiment)"
   ]
  },
  {
   "cell_type": "code",
   "execution_count": 19,
   "id": "a74ae082",
   "metadata": {
    "execution": {
     "iopub.execute_input": "2022-03-06T18:35:28.622960Z",
     "iopub.status.busy": "2022-03-06T18:35:28.622495Z",
     "iopub.status.idle": "2022-03-06T18:35:28.637516Z",
     "shell.execute_reply": "2022-03-06T18:35:28.637095Z"
    },
    "papermill": {
     "duration": 0.046677,
     "end_time": "2022-03-06T18:35:28.637627",
     "exception": false,
     "start_time": "2022-03-06T18:35:28.590950",
     "status": "completed"
    },
    "tags": []
   },
   "outputs": [
    {
     "name": "stdout",
     "output_type": "stream",
     "text": [
      "Source Test Label Accuracy: 0.5731770833333333 Target Test Label Accuracy: 0.4884375\n",
      "Source Val Label Accuracy: 0.5714409722222222 Target Val Label Accuracy: 0.4897916666666667\n"
     ]
    }
   ],
   "source": [
    "print(\"Source Test Label Accuracy:\", experiment[\"results\"][\"source_test_label_accuracy\"], \"Target Test Label Accuracy:\", experiment[\"results\"][\"target_test_label_accuracy\"])\n",
    "print(\"Source Val Label Accuracy:\", experiment[\"results\"][\"source_val_label_accuracy\"], \"Target Val Label Accuracy:\", experiment[\"results\"][\"target_val_label_accuracy\"])"
   ]
  },
  {
   "cell_type": "code",
   "execution_count": 20,
   "id": "dacca602",
   "metadata": {
    "execution": {
     "iopub.execute_input": "2022-03-06T18:35:28.700095Z",
     "iopub.status.busy": "2022-03-06T18:35:28.699834Z",
     "iopub.status.idle": "2022-03-06T18:35:28.714037Z",
     "shell.execute_reply": "2022-03-06T18:35:28.714449Z"
    },
    "papermill": {
     "duration": 0.045462,
     "end_time": "2022-03-06T18:35:28.714580",
     "exception": false,
     "start_time": "2022-03-06T18:35:28.669118",
     "status": "completed"
    },
    "tags": [
     "experiment_json"
    ]
   },
   "outputs": [
    {
     "data": {
      "text/plain": [
       "'{\"experiment_name\": \"tuned_1_oracle.run1_limited\", \"parameters\": {\"experiment_name\": \"tuned_1_oracle.run1_limited\", \"device\": \"cuda\", \"lr\": 0.001, \"seed\": 1337, \"dataset_seed\": 1337, \"labels_source\": [\"3123D52\", \"3123D65\", \"3123D79\", \"3123D80\", \"3123D54\", \"3123D70\", \"3123D7B\", \"3123D89\", \"3123D58\", \"3123D76\", \"3123D7D\", \"3123EFE\", \"3123D64\", \"3123D78\", \"3123D7E\", \"3124E4A\"], \"labels_target\": [\"3123D52\", \"3123D65\", \"3123D79\", \"3123D80\", \"3123D54\", \"3123D70\", \"3123D7B\", \"3123D89\", \"3123D58\", \"3123D76\", \"3123D7D\", \"3123EFE\", \"3123D64\", \"3123D78\", \"3123D7E\", \"3124E4A\"], \"x_transforms_source\": [\"unit_power\"], \"x_transforms_target\": [\"unit_power\"], \"episode_transforms_source\": [], \"episode_transforms_target\": [], \"domains_source\": [8, 32, 50], \"domains_target\": [14, 20, 26, 38, 44], \"num_examples_per_domain_per_label_source\": 2000, \"num_examples_per_domain_per_label_target\": 1000, \"n_shot\": 3, \"n_way\": 16, \"n_query\": 2, \"train_k_factor\": 3, \"val_k_factor\": 2, \"test_k_factor\": 2, \"torch_default_dtype\": \"torch.float32\", \"n_epoch\": 50, \"patience\": 3, \"criteria_for_best\": \"target_loss\", \"x_net\": [{\"class\": \"nnReshape\", \"kargs\": {\"shape\": [-1, 1, 2, 256]}}, {\"class\": \"Conv2d\", \"kargs\": {\"in_channels\": 1, \"out_channels\": 256, \"kernel_size\": [1, 7], \"bias\": false, \"padding\": [0, 3]}}, {\"class\": \"ReLU\", \"kargs\": {\"inplace\": true}}, {\"class\": \"BatchNorm2d\", \"kargs\": {\"num_features\": 256}}, {\"class\": \"Conv2d\", \"kargs\": {\"in_channels\": 256, \"out_channels\": 80, \"kernel_size\": [2, 7], \"bias\": true, \"padding\": [0, 3]}}, {\"class\": \"ReLU\", \"kargs\": {\"inplace\": true}}, {\"class\": \"BatchNorm2d\", \"kargs\": {\"num_features\": 80}}, {\"class\": \"Flatten\", \"kargs\": {}}, {\"class\": \"Linear\", \"kargs\": {\"in_features\": 20480, \"out_features\": 256}}, {\"class\": \"ReLU\", \"kargs\": {\"inplace\": true}}, {\"class\": \"BatchNorm1d\", \"kargs\": {\"num_features\": 256}}, {\"class\": \"Linear\", \"kargs\": {\"in_features\": 256, \"out_features\": 256}}], \"NUM_LOGS_PER_EPOCH\": 10, \"BEST_MODEL_PATH\": \"./best_model.pth\", \"pickle_name\": \"oracle.Run1_10kExamples_stratified_ds.2022A.pkl\"}, \"results\": {\"source_test_label_accuracy\": 0.5731770833333333, \"source_test_label_loss\": 1.1273051500320435, \"target_test_label_accuracy\": 0.4884375, \"target_test_label_loss\": 1.3578490018844604, \"source_val_label_accuracy\": 0.5714409722222222, \"source_val_label_loss\": 1.1415119171142578, \"target_val_label_accuracy\": 0.4897916666666667, \"target_val_label_loss\": 1.3500497341156006, \"total_epochs_trained\": 7, \"total_experiment_time_secs\": 522.7137777805328, \"confusion\": {\"8\": {\"15\": {\"12\": 66, \"15\": 95, \"2\": 17, \"3\": 14, \"8\": 37, \"7\": 8, \"6\": 3}, \"3\": {\"3\": 146, \"2\": 42, \"12\": 37, \"15\": 15}, \"6\": {\"7\": 41, \"6\": 87, \"4\": 22, \"0\": 38, \"13\": 18, \"8\": 20, \"14\": 8, \"10\": 4, \"11\": 2}, \"1\": {\"11\": 82, \"14\": 34, \"5\": 25, \"1\": 74, \"10\": 16, \"8\": 2, \"4\": 5, \"13\": 2}, \"8\": {\"8\": 165, \"15\": 18, \"6\": 26, \"7\": 23, \"4\": 5, \"12\": 1, \"13\": 1, \"2\": 1}, \"10\": {\"10\": 98, \"14\": 48, \"1\": 30, \"5\": 16, \"13\": 22, \"4\": 16, \"11\": 6, \"0\": 4}, \"9\": {\"9\": 240}, \"13\": {\"10\": 24, \"14\": 34, \"13\": 52, \"0\": 58, \"7\": 12, \"4\": 34, \"6\": 20, \"1\": 4, \"5\": 1, \"11\": 1}, \"12\": {\"12\": 86, \"15\": 67, \"2\": 15, \"3\": 57, \"7\": 1, \"8\": 14}, \"5\": {\"5\": 171, \"1\": 25, \"10\": 22, \"14\": 8, \"11\": 14}, \"0\": {\"0\": 81, \"6\": 31, \"13\": 38, \"4\": 33, \"14\": 8, \"7\": 33, \"10\": 10, \"1\": 1, \"8\": 4, \"15\": 1}, \"2\": {\"2\": 145, \"3\": 53, \"12\": 13, \"7\": 4, \"15\": 24, \"6\": 1}, \"11\": {\"5\": 29, \"1\": 70, \"11\": 103, \"8\": 4, \"10\": 8, \"14\": 12, \"6\": 2, \"13\": 3, \"0\": 1, \"4\": 8}, \"14\": {\"11\": 14, \"14\": 52, \"1\": 27, \"0\": 12, \"10\": 58, \"8\": 2, \"4\": 37, \"13\": 30, \"6\": 3, \"7\": 1, \"5\": 4}, \"7\": {\"6\": 65, \"0\": 29, \"7\": 107, \"2\": 5, \"13\": 5, \"14\": 1, \"8\": 18, \"4\": 5, \"15\": 5}, \"4\": {\"13\": 47, \"4\": 55, \"0\": 42, \"6\": 35, \"14\": 31, \"7\": 11, \"10\": 13, \"1\": 1, \"11\": 4, \"8\": 1}}, \"50\": {\"3\": {\"3\": 229, \"8\": 11}, \"15\": {\"15\": 150, \"1\": 46, \"6\": 4, \"4\": 29, \"14\": 2, \"11\": 9}, \"8\": {\"8\": 224, \"10\": 10, \"0\": 1, \"3\": 5}, \"4\": {\"13\": 11, \"1\": 49, \"15\": 31, \"4\": 75, \"6\": 37, \"5\": 29, \"11\": 1, \"7\": 7}, \"14\": {\"14\": 220, \"11\": 5, \"1\": 2, \"12\": 9, \"9\": 3, \"15\": 1}, \"0\": {\"13\": 10, \"0\": 160, \"2\": 37, \"6\": 4, \"10\": 28, \"5\": 1}, \"7\": {\"10\": 22, \"7\": 114, \"13\": 59, \"5\": 39, \"0\": 1, \"6\": 4, \"4\": 1}, \"6\": {\"4\": 38, \"6\": 118, \"13\": 23, \"1\": 31, \"5\": 23, \"15\": 2, \"0\": 5}, \"10\": {\"10\": 195, \"7\": 19, \"0\": 18, \"13\": 2, \"8\": 6}, \"5\": {\"5\": 60, \"6\": 42, \"4\": 18, \"7\": 65, \"1\": 8, \"13\": 38, \"0\": 3, \"10\": 3, \"2\": 1, \"15\": 2}, \"2\": {\"2\": 209, \"0\": 31}, \"12\": {\"12\": 196, \"9\": 20, \"11\": 8, \"14\": 16}, \"9\": {\"9\": 140, \"12\": 36, \"11\": 57, \"14\": 7}, \"1\": {\"4\": 39, \"1\": 96, \"15\": 61, \"6\": 37, \"5\": 1, \"0\": 1, \"14\": 3, \"2\": 2}, \"11\": {\"11\": 166, \"9\": 29, \"14\": 17, \"12\": 11, \"15\": 17}, \"13\": {\"13\": 99, \"7\": 53, \"5\": 53, \"0\": 6, \"1\": 1, \"10\": 5, \"6\": 18, \"4\": 5}}, \"32\": {\"5\": {\"4\": 21, \"0\": 29, \"5\": 45, \"13\": 38, \"8\": 27, \"14\": 18, \"11\": 20, \"7\": 28, \"2\": 3, \"3\": 11}, \"8\": {\"8\": 119, \"5\": 34, \"13\": 35, \"3\": 18, \"11\": 1, \"0\": 17, \"14\": 3, \"4\": 8, \"15\": 1, \"7\": 4}, \"11\": {\"11\": 133, \"3\": 13, \"14\": 45, \"13\": 18, \"7\": 27, \"5\": 3, \"8\": 1}, \"1\": {\"1\": 234, \"10\": 6}, \"10\": {\"10\": 235, \"1\": 3, \"6\": 2}, \"15\": {\"15\": 230, \"8\": 5, \"3\": 4, \"5\": 1}, \"3\": {\"3\": 191, \"13\": 17, \"11\": 15, \"5\": 7, \"15\": 2, \"8\": 4, \"14\": 4}, \"7\": {\"14\": 63, \"13\": 27, \"5\": 17, \"7\": 54, \"0\": 14, \"4\": 29, \"11\": 24, \"2\": 10, \"8\": 2}, \"4\": {\"4\": 52, \"0\": 59, \"2\": 53, \"5\": 18, \"7\": 23, \"14\": 13, \"13\": 9, \"8\": 12, \"11\": 1}, \"14\": {\"5\": 14, \"7\": 43, \"11\": 62, \"14\": 58, \"2\": 7, \"0\": 8, \"13\": 22, \"4\": 22, \"8\": 2, \"3\": 2}, \"9\": {\"9\": 238, \"12\": 2}, \"12\": {\"12\": 239, \"6\": 1}, \"6\": {\"6\": 240}, \"2\": {\"0\": 36, \"2\": 160, \"4\": 41, \"14\": 2, \"7\": 1}, \"0\": {\"13\": 5, \"14\": 6, \"8\": 17, \"4\": 50, \"5\": 10, \"0\": 96, \"2\": 44, \"7\": 12}, \"13\": {\"4\": 8, \"5\": 38, \"14\": 18, \"7\": 27, \"8\": 34, \"13\": 51, \"3\": 22, \"11\": 29, \"0\": 11, \"2\": 2}}, \"14\": {\"15\": {\"15\": 76, \"7\": 40, \"5\": 2, \"2\": 1, \"13\": 1}, \"3\": {\"3\": 77, \"14\": 9, \"4\": 18, \"0\": 2, \"10\": 1, \"5\": 5, \"1\": 2, \"2\": 3, \"8\": 2, \"13\": 1}, \"6\": {\"13\": 35, \"6\": 56, \"2\": 12, \"14\": 16, \"5\": 1}, \"1\": {\"1\": 72, \"5\": 30, \"7\": 3, \"2\": 3, \"4\": 11, \"3\": 1}, \"8\": {\"8\": 115, \"3\": 1, \"5\": 1, \"0\": 2, \"10\": 1}, \"10\": {\"10\": 70, \"0\": 32, \"11\": 16, \"14\": 1, \"3\": 1}, \"9\": {\"11\": 5, \"9\": 114, \"12\": 1}, \"13\": {\"2\": 18, \"6\": 37, \"13\": 30, \"14\": 23, \"15\": 5, \"5\": 3, \"4\": 1, \"3\": 3}, \"12\": {\"12\": 119, \"9\": 1}, \"5\": {\"4\": 18, \"5\": 39, \"1\": 43, \"2\": 11, \"13\": 2, \"3\": 4, \"14\": 2, \"7\": 1}, \"0\": {\"3\": 2, \"0\": 66, \"10\": 39, \"11\": 9, \"8\": 4}, \"2\": {\"2\": 37, \"6\": 17, \"13\": 14, \"14\": 19, \"4\": 6, \"3\": 9, \"15\": 4, \"5\": 12, \"7\": 1, \"1\": 1}, \"11\": {\"0\": 7, \"11\": 88, \"9\": 12, \"10\": 12, \"12\": 1}, \"14\": {\"4\": 8, \"13\": 23, \"2\": 14, \"14\": 47, \"3\": 16, \"6\": 11, \"0\": 1}, \"7\": {\"7\": 91, \"15\": 25, \"1\": 3, \"5\": 1}, \"4\": {\"4\": 48, \"1\": 14, \"3\": 25, \"5\": 17, \"2\": 9, \"14\": 4, \"13\": 1, \"6\": 2}}, \"20\": {\"3\": {\"3\": 25, \"2\": 15, \"7\": 7, \"1\": 7, \"9\": 21, \"13\": 3, \"0\": 6, \"4\": 16, \"12\": 10, \"8\": 9, \"5\": 1}, \"15\": {\"15\": 47, \"5\": 15, \"0\": 19, \"1\": 17, \"2\": 4, \"12\": 6, \"13\": 11, \"4\": 1}, \"8\": {\"8\": 29, \"4\": 18, \"3\": 5, \"10\": 34, \"2\": 5, \"9\": 3, \"7\": 14, \"12\": 2, \"14\": 8, \"6\": 2}, \"4\": {\"4\": 53, \"7\": 4, \"3\": 10, \"8\": 22, \"9\": 6, \"10\": 9, \"0\": 2, \"2\": 5, \"12\": 4, \"1\": 2, \"5\": 3}, \"14\": {\"14\": 55, \"6\": 26, \"10\": 26, \"8\": 8, \"7\": 4, \"4\": 1}, \"0\": {\"2\": 2, \"5\": 25, \"12\": 9, \"1\": 15, \"0\": 29, \"3\": 8, \"9\": 3, \"15\": 17, \"4\": 7, \"13\": 5}, \"7\": {\"6\": 9, \"7\": 49, \"2\": 14, \"8\": 13, \"10\": 4, \"13\": 4, \"9\": 11, \"12\": 2, \"3\": 9, \"4\": 4, \"14\": 1}, \"6\": {\"10\": 7, \"6\": 77, \"14\": 24, \"11\": 7, \"7\": 1, \"8\": 3, \"3\": 1}, \"10\": {\"10\": 43, \"8\": 30, \"14\": 23, \"7\": 6, \"4\": 12, \"6\": 5, \"3\": 1}, \"5\": {\"12\": 15, \"15\": 16, \"5\": 22, \"3\": 5, \"0\": 25, \"1\": 23, \"2\": 3, \"13\": 5, \"4\": 1, \"8\": 1, \"9\": 2, \"10\": 1, \"7\": 1}, \"2\": {\"8\": 2, \"12\": 6, \"13\": 19, \"3\": 14, \"7\": 21, \"2\": 24, \"9\": 16, \"5\": 4, \"14\": 1, \"1\": 4, \"4\": 7, \"15\": 1, \"10\": 1}, \"12\": {\"1\": 21, \"15\": 7, \"5\": 15, \"12\": 20, \"2\": 7, \"3\": 16, \"9\": 9, \"4\": 4, \"0\": 12, \"7\": 5, \"8\": 2, \"13\": 2}, \"9\": {\"13\": 10, \"12\": 7, \"7\": 11, \"2\": 22, \"9\": 19, \"3\": 27, \"15\": 3, \"1\": 5, \"5\": 5, \"4\": 5, \"0\": 1, \"14\": 1, \"8\": 4}, \"1\": {\"1\": 27, \"15\": 16, \"4\": 1, \"0\": 24, \"8\": 1, \"3\": 7, \"9\": 3, \"13\": 8, \"2\": 2, \"5\": 18, \"12\": 12, \"7\": 1}, \"11\": {\"11\": 111, \"7\": 3, \"6\": 6}, \"13\": {\"3\": 2, \"13\": 77, \"15\": 4, \"1\": 3, \"2\": 15, \"11\": 2, \"9\": 4, \"4\": 1, \"7\": 4, \"0\": 2, \"12\": 4, \"8\": 1, \"5\": 1}}, \"44\": {\"5\": {\"5\": 86, \"8\": 6, \"15\": 3, \"0\": 23, \"14\": 2}, \"8\": {\"8\": 67, \"0\": 43, \"5\": 6, \"15\": 4}, \"11\": {\"11\": 90, \"13\": 20, \"6\": 9, \"14\": 1}, \"1\": {\"3\": 23, \"12\": 12, \"1\": 50, \"10\": 21, \"2\": 11, \"7\": 3}, \"10\": {\"10\": 65, \"2\": 16, \"1\": 18, \"12\": 19, \"7\": 1, \"3\": 1}, \"15\": {\"15\": 95, \"8\": 2, \"5\": 2, \"14\": 4, \"0\": 15, \"4\": 2}, \"3\": {\"3\": 98, \"1\": 17, \"12\": 2, \"7\": 1, \"9\": 1, \"2\": 1}, \"7\": {\"2\": 28, \"9\": 24, \"7\": 58, \"1\": 1, \"6\": 8, \"10\": 1}, \"4\": {\"14\": 36, \"4\": 82, \"15\": 2}, \"14\": {\"14\": 62, \"4\": 36, \"15\": 17, \"5\": 5}, \"9\": {\"6\": 12, \"13\": 22, \"9\": 59, \"7\": 20, \"2\": 4, \"4\": 1, \"1\": 1, \"11\": 1}, \"12\": {\"10\": 17, \"12\": 65, \"1\": 35, \"3\": 2, \"2\": 1}, \"6\": {\"11\": 16, \"7\": 6, \"13\": 21, \"6\": 62, \"9\": 12, \"2\": 3}, \"2\": {\"2\": 53, \"10\": 19, \"7\": 31, \"1\": 8, \"3\": 7, \"12\": 1, \"9\": 1}, \"0\": {\"0\": 63, \"8\": 41, \"15\": 6, \"5\": 10}, \"13\": {\"7\": 2, \"13\": 67, \"11\": 13, \"6\": 21, \"9\": 16, \"4\": 1}}, \"38\": {\"14\": {\"2\": 20, \"14\": 55, \"11\": 42, \"10\": 3}, \"0\": {\"8\": 19, \"7\": 34, \"0\": 27, \"5\": 18, \"3\": 8, \"12\": 5, \"6\": 3, \"10\": 2, \"4\": 1, \"15\": 1, \"9\": 2}, \"13\": {\"15\": 44, \"13\": 53, \"2\": 7, \"1\": 3, \"10\": 10, \"8\": 2, \"14\": 1}, \"7\": {\"7\": 81, \"0\": 28, \"8\": 4, \"5\": 6, \"3\": 1}, \"9\": {\"6\": 51, \"9\": 55, \"8\": 2, \"3\": 9, \"5\": 3}, \"3\": {\"3\": 95, \"9\": 14, \"6\": 2, \"0\": 5, \"7\": 4}, \"11\": {\"11\": 65, \"14\": 49, \"10\": 2, \"2\": 4}, \"6\": {\"6\": 84, \"9\": 34, \"3\": 1, \"5\": 1}, \"8\": {\"8\": 55, \"5\": 37, \"10\": 5, \"0\": 16, \"15\": 3, \"13\": 1, \"7\": 3}, \"4\": {\"4\": 95, \"12\": 24, \"7\": 1}, \"5\": {\"5\": 29, \"6\": 12, \"1\": 5, \"15\": 6, \"8\": 34, \"7\": 10, \"3\": 2, \"0\": 18, \"9\": 3, \"10\": 1}, \"10\": {\"13\": 8, \"10\": 66, \"15\": 7, \"12\": 25, \"8\": 5, \"0\": 1, \"14\": 3, \"11\": 3, \"5\": 1, \"4\": 1}, \"1\": {\"1\": 105, \"15\": 12, \"13\": 2, \"8\": 1}, \"2\": {\"2\": 98, \"11\": 7, \"14\": 9, \"13\": 6}, \"15\": {\"15\": 52, \"8\": 7, \"1\": 17, \"13\": 37, \"10\": 3, \"2\": 1, \"5\": 3}, \"12\": {\"10\": 28, \"12\": 76, \"4\": 16}}, \"26\": {\"13\": {\"13\": 55, \"8\": 4, \"2\": 3, \"6\": 14, \"15\": 13, \"5\": 18, \"9\": 12, \"10\": 1}, \"2\": {\"2\": 31, \"7\": 15, \"3\": 38, \"8\": 4, \"15\": 9, \"10\": 2, \"5\": 8, \"9\": 6, \"4\": 4, \"13\": 2, \"6\": 1}, \"8\": {\"4\": 16, \"9\": 11, \"8\": 10, \"14\": 10, \"1\": 5, \"6\": 8, \"10\": 5, \"15\": 13, \"0\": 16, \"7\": 11, \"13\": 3, \"3\": 2, \"5\": 6, \"2\": 4}, \"9\": {\"6\": 18, \"9\": 24, \"15\": 15, \"2\": 1, \"8\": 8, \"13\": 12, \"14\": 3, \"5\": 13, \"4\": 5, \"10\": 10, \"0\": 6, \"3\": 1, \"7\": 3, \"1\": 1}, \"12\": {\"12\": 109, \"11\": 11}, \"4\": {\"8\": 6, \"4\": 21, \"3\": 5, \"14\": 21, \"5\": 1, \"2\": 4, \"7\": 12, \"10\": 9, \"15\": 5, \"0\": 15, \"9\": 3, \"1\": 16, \"6\": 2}, \"3\": {\"2\": 38, \"3\": 62, \"7\": 17, \"5\": 1, \"1\": 1, \"4\": 1}, \"15\": {\"6\": 15, \"5\": 23, \"9\": 23, \"15\": 20, \"14\": 2, \"8\": 7, \"13\": 11, \"2\": 6, \"0\": 4, \"4\": 3, \"10\": 2, \"7\": 3, \"3\": 1}, \"14\": {\"4\": 17, \"8\": 14, \"1\": 25, \"10\": 15, \"6\": 4, \"0\": 24, \"14\": 15, \"2\": 1, \"3\": 2, \"7\": 3}, \"10\": {\"6\": 21, \"14\": 13, \"8\": 17, \"0\": 21, \"15\": 4, \"9\": 5, \"10\": 20, \"1\": 9, \"7\": 1, \"4\": 6, \"2\": 1, \"13\": 1, \"5\": 1}, \"7\": {\"7\": 39, \"3\": 19, \"2\": 22, \"4\": 13, \"5\": 4, \"8\": 6, \"0\": 5, \"9\": 1, \"14\": 3, \"1\": 6, \"15\": 2}, \"11\": {\"11\": 97, \"12\": 22, \"6\": 1}, \"6\": {\"10\": 15, \"6\": 56, \"9\": 16, \"5\": 8, \"8\": 4, \"14\": 1, \"15\": 7, \"13\": 8, \"0\": 4, \"4\": 1}, \"1\": {\"4\": 13, \"1\": 34, \"14\": 27, \"10\": 11, \"7\": 7, \"0\": 14, \"6\": 2, \"8\": 9, \"2\": 2, \"3\": 1}, \"5\": {\"13\": 20, \"15\": 23, \"2\": 7, \"9\": 27, \"5\": 24, \"6\": 5, \"8\": 9, \"10\": 1, \"7\": 2, \"4\": 2}, \"0\": {\"8\": 11, \"14\": 17, \"7\": 3, \"4\": 14, \"0\": 20, \"10\": 15, \"1\": 18, \"9\": 10, \"15\": 5, \"5\": 1, \"6\": 6}}}, \"per_domain_accuracy\": {\"8\": {\"accuracy\": 0.45755208333333336, \"source?\": true}, \"50\": {\"accuracy\": 0.63828125, \"source?\": true}, \"32\": {\"accuracy\": 0.6184895833333334, \"source?\": true}, \"14\": {\"accuracy\": 0.5963541666666666, \"source?\": false}, \"20\": {\"accuracy\": 0.36822916666666666, \"source?\": false}, \"44\": {\"accuracy\": 0.584375, \"source?\": false}, \"38\": {\"accuracy\": 0.5682291666666667, \"source?\": false}, \"26\": {\"accuracy\": 0.33177083333333335, \"source?\": false}}}, \"history\": {\"epoch_indices\": [1, 2, 3, 4, 5, 6, 7], \"train_label_loss\": [1.678453975703035, 1.1379176783301528, 0.9303638269149122, 0.7545807578083542, 0.6043715175389061, 0.49383309162739253, 0.395115521817749], \"source_val_label_loss\": [1.4931491613388062, 1.1847994327545166, 1.1415119171142578, 1.213135004043579, 1.273504376411438, 1.44867742061615, 1.4675688743591309], \"target_val_label_loss\": [1.862583875656128, 1.415317177772522, 1.3500497341156006, 1.4418721199035645, 1.4971048831939697, 1.7588987350463867, 1.7414913177490234], \"source_val_acc_label\": [0.4613715277777778, 0.5566840277777778, 0.5714409722222222, 0.5888020833333333, 0.5953993055555555, 0.57734375, 0.5831597222222222], \"target_val_acc_label\": [0.3458333333333333, 0.46875, 0.4897916666666667, 0.5070833333333333, 0.5217708333333333, 0.4865625, 0.49833333333333335]}, \"dataset_metrics\": {\"source\": {\"train\": {\"n_unique_x\": 67200, \"n_unique_y\": 16, \"n_batch/episode\": 2520}, \"val\": {\"n_unique_x\": 14400, \"n_unique_y\": 16, \"n_batch/episode\": 360}, \"test\": {\"n_unique_x\": 14400, \"n_unique_y\": 16, \"n_batch/episode\": 360}}, \"target\": {\"train\": {\"n_unique_x\": 56000, \"n_unique_y\": 16, \"n_batch/episode\": 2100}, \"val\": {\"n_unique_x\": 12000, \"n_unique_y\": 16, \"n_batch/episode\": 300}, \"test\": {\"n_unique_x\": 12000, \"n_unique_y\": 16, \"n_batch/episode\": 300}}}}'"
      ]
     },
     "execution_count": 20,
     "metadata": {},
     "output_type": "execute_result"
    }
   ],
   "source": [
    "json.dumps(experiment)"
   ]
  }
 ],
 "metadata": {
  "celltoolbar": "Tags",
  "kernelspec": {
   "display_name": "Python 3 (ipykernel)",
   "language": "python",
   "name": "python3"
  },
  "language_info": {
   "codemirror_mode": {
    "name": "ipython",
    "version": 3
   },
   "file_extension": ".py",
   "mimetype": "text/x-python",
   "name": "python",
   "nbconvert_exporter": "python",
   "pygments_lexer": "ipython3",
   "version": "3.8.10"
  },
  "papermill": {
   "default_parameters": {},
   "duration": 563.306216,
   "end_time": "2022-03-06T18:35:29.661166",
   "environment_variables": {},
   "exception": null,
   "input_path": "/mnt/wd500GB/CSC500/csc500-main/csc500-notebooks/templates/ptn_template.ipynb",
   "output_path": "trial.ipynb",
   "parameters": {
    "parameters": {
     "BEST_MODEL_PATH": "./best_model.pth",
     "NUM_LOGS_PER_EPOCH": 10,
     "criteria_for_best": "target_loss",
     "dataset_seed": 1337,
     "device": "cuda",
     "domains_source": [
      8,
      32,
      50
     ],
     "domains_target": [
      14,
      20,
      26,
      38,
      44
     ],
     "episode_transforms_source": [],
     "episode_transforms_target": [],
     "experiment_name": "tuned_1_oracle.run1_limited",
     "labels_source": [
      "3123D52",
      "3123D65",
      "3123D79",
      "3123D80",
      "3123D54",
      "3123D70",
      "3123D7B",
      "3123D89",
      "3123D58",
      "3123D76",
      "3123D7D",
      "3123EFE",
      "3123D64",
      "3123D78",
      "3123D7E",
      "3124E4A"
     ],
     "labels_target": [
      "3123D52",
      "3123D65",
      "3123D79",
      "3123D80",
      "3123D54",
      "3123D70",
      "3123D7B",
      "3123D89",
      "3123D58",
      "3123D76",
      "3123D7D",
      "3123EFE",
      "3123D64",
      "3123D78",
      "3123D7E",
      "3124E4A"
     ],
     "lr": 0.001,
     "n_epoch": 50,
     "n_query": 2,
     "n_shot": 3,
     "n_way": 16,
     "num_examples_per_domain_per_label_source": 2000,
     "num_examples_per_domain_per_label_target": 1000,
     "patience": 3,
     "pickle_name": "oracle.Run1_10kExamples_stratified_ds.2022A.pkl",
     "seed": 1337,
     "test_k_factor": 2,
     "torch_default_dtype": "torch.float32",
     "train_k_factor": 3,
     "val_k_factor": 2,
     "x_net": [
      {
       "class": "nnReshape",
       "kargs": {
        "shape": [
         -1,
         1,
         2,
         256
        ]
       }
      },
      {
       "class": "Conv2d",
       "kargs": {
        "bias": false,
        "in_channels": 1,
        "kernel_size": [
         1,
         7
        ],
        "out_channels": 256,
        "padding": [
         0,
         3
        ]
       }
      },
      {
       "class": "ReLU",
       "kargs": {
        "inplace": true
       }
      },
      {
       "class": "BatchNorm2d",
       "kargs": {
        "num_features": 256
       }
      },
      {
       "class": "Conv2d",
       "kargs": {
        "bias": true,
        "in_channels": 256,
        "kernel_size": [
         2,
         7
        ],
        "out_channels": 80,
        "padding": [
         0,
         3
        ]
       }
      },
      {
       "class": "ReLU",
       "kargs": {
        "inplace": true
       }
      },
      {
       "class": "BatchNorm2d",
       "kargs": {
        "num_features": 80
       }
      },
      {
       "class": "Flatten",
       "kargs": {}
      },
      {
       "class": "Linear",
       "kargs": {
        "in_features": 20480,
        "out_features": 256
       }
      },
      {
       "class": "ReLU",
       "kargs": {
        "inplace": true
       }
      },
      {
       "class": "BatchNorm1d",
       "kargs": {
        "num_features": 256
       }
      },
      {
       "class": "Linear",
       "kargs": {
        "in_features": 256,
        "out_features": 256
       }
      }
     ],
     "x_transforms_source": [
      "unit_power"
     ],
     "x_transforms_target": [
      "unit_power"
     ]
    }
   },
   "start_time": "2022-03-06T18:26:06.354950",
   "version": "2.3.4"
  }
 },
 "nbformat": 4,
 "nbformat_minor": 5
}