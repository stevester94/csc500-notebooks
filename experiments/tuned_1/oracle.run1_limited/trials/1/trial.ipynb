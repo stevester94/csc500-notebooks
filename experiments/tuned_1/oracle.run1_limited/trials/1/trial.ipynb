{
 "cells": [
  {
   "cell_type": "markdown",
   "id": "9fea5f46",
   "metadata": {
    "papermill": {
     "duration": 0.013967,
     "end_time": "2022-03-06T18:08:54.250724",
     "exception": false,
     "start_time": "2022-03-06T18:08:54.236757",
     "status": "completed"
    },
    "tags": []
   },
   "source": [
    "# PTN Template\n",
    "This notebook serves as a template for single dataset PTN experiments  \n",
    "It can be run on its own by setting STANDALONE to True (do a find for \"STANDALONE\" to see where)  \n",
    "But it is intended to be executed as part of a *papermill.py script. See any of the   \n",
    "experimentes with a papermill script to get started with that workflow.  "
   ]
  },
  {
   "cell_type": "code",
   "execution_count": 1,
   "id": "0902182a",
   "metadata": {
    "execution": {
     "iopub.execute_input": "2022-03-06T18:08:54.278984Z",
     "iopub.status.busy": "2022-03-06T18:08:54.278542Z",
     "iopub.status.idle": "2022-03-06T18:08:55.118205Z",
     "shell.execute_reply": "2022-03-06T18:08:55.117849Z"
    },
    "papermill": {
     "duration": 0.858151,
     "end_time": "2022-03-06T18:08:55.118281",
     "exception": false,
     "start_time": "2022-03-06T18:08:54.260130",
     "status": "completed"
    },
    "tags": []
   },
   "outputs": [],
   "source": [
    "%load_ext autoreload\n",
    "%autoreload 2\n",
    "%matplotlib inline\n",
    "\n",
    "    \n",
    "import os, json, sys, time, random\n",
    "import numpy as np\n",
    "import torch\n",
    "from torch.optim import Adam\n",
    "from  easydict import EasyDict\n",
    "import matplotlib.pyplot as plt\n",
    "\n",
    "from steves_models.steves_ptn import Steves_Prototypical_Network\n",
    "\n",
    "from steves_utils.lazy_iterable_wrapper import Lazy_Iterable_Wrapper\n",
    "from steves_utils.iterable_aggregator import Iterable_Aggregator\n",
    "from steves_utils.ptn_train_eval_test_jig import  PTN_Train_Eval_Test_Jig\n",
    "from steves_utils.torch_sequential_builder import build_sequential\n",
    "from steves_utils.torch_utils import get_dataset_metrics, ptn_confusion_by_domain_over_dataloader\n",
    "from steves_utils.utils_v2 import (per_domain_accuracy_from_confusion, get_datasets_base_path)\n",
    "from steves_utils.PTN.utils import independent_accuracy_assesment\n",
    "\n",
    "from steves_utils.stratified_dataset.episodic_accessor import Episodic_Accessor_Factory\n",
    "\n",
    "from steves_utils.ptn_do_report import (\n",
    "    get_loss_curve,\n",
    "    get_results_table,\n",
    "    get_parameters_table,\n",
    "    get_domain_accuracies,\n",
    ")\n",
    "\n",
    "from steves_utils.transforms import get_chained_transform"
   ]
  },
  {
   "cell_type": "markdown",
   "id": "41c840b4",
   "metadata": {
    "papermill": {
     "duration": 0.009481,
     "end_time": "2022-03-06T18:08:55.137710",
     "exception": false,
     "start_time": "2022-03-06T18:08:55.128229",
     "status": "completed"
    },
    "tags": []
   },
   "source": [
    "# Required Parameters\n",
    "These are allowed parameters, not defaults\n",
    "Each of these values need to be present in the injected parameters (the notebook will raise an exception if they are not present)\n",
    "\n",
    "Papermill uses the cell tag \"parameters\" to inject the real parameters below this cell.\n",
    "Enable tags to see what I mean"
   ]
  },
  {
   "cell_type": "code",
   "execution_count": 2,
   "id": "fd44eb83",
   "metadata": {
    "execution": {
     "iopub.execute_input": "2022-03-06T18:08:55.159224Z",
     "iopub.status.busy": "2022-03-06T18:08:55.158793Z",
     "iopub.status.idle": "2022-03-06T18:08:55.168677Z",
     "shell.execute_reply": "2022-03-06T18:08:55.168980Z"
    },
    "papermill": {
     "duration": 0.021852,
     "end_time": "2022-03-06T18:08:55.169089",
     "exception": false,
     "start_time": "2022-03-06T18:08:55.147237",
     "status": "completed"
    },
    "tags": []
   },
   "outputs": [],
   "source": [
    "required_parameters = {\n",
    "    \"experiment_name\",\n",
    "    \"lr\",\n",
    "    \"device\",\n",
    "    \"seed\",\n",
    "    \"dataset_seed\",\n",
    "    \"labels_source\",\n",
    "    \"labels_target\",\n",
    "    \"domains_source\",\n",
    "    \"domains_target\",\n",
    "    \"num_examples_per_domain_per_label_source\",\n",
    "    \"num_examples_per_domain_per_label_target\",\n",
    "    \"n_shot\",\n",
    "    \"n_way\",\n",
    "    \"n_query\",\n",
    "    \"train_k_factor\",\n",
    "    \"val_k_factor\",\n",
    "    \"test_k_factor\",\n",
    "    \"n_epoch\",\n",
    "    \"patience\",\n",
    "    \"criteria_for_best\",\n",
    "    \"x_transforms_source\",\n",
    "    \"x_transforms_target\",\n",
    "    \"episode_transforms_source\",\n",
    "    \"episode_transforms_target\",\n",
    "    \"pickle_name\",\n",
    "    \"x_net\",\n",
    "    \"NUM_LOGS_PER_EPOCH\",\n",
    "    \"BEST_MODEL_PATH\",\n",
    "    \"torch_default_dtype\"\n",
    "}"
   ]
  },
  {
   "cell_type": "code",
   "execution_count": 3,
   "id": "fa3f0049",
   "metadata": {
    "execution": {
     "iopub.execute_input": "2022-03-06T18:08:55.195733Z",
     "iopub.status.busy": "2022-03-06T18:08:55.195231Z",
     "iopub.status.idle": "2022-03-06T18:08:55.208349Z",
     "shell.execute_reply": "2022-03-06T18:08:55.208060Z"
    },
    "papermill": {
     "duration": 0.028928,
     "end_time": "2022-03-06T18:08:55.208414",
     "exception": false,
     "start_time": "2022-03-06T18:08:55.179486",
     "status": "completed"
    },
    "tags": [
     "parameters"
    ]
   },
   "outputs": [],
   "source": [
    "\n",
    "\n",
    "standalone_parameters = {}\n",
    "standalone_parameters[\"experiment_name\"] = \"STANDALONE PTN\"\n",
    "standalone_parameters[\"lr\"] = 0.0001\n",
    "standalone_parameters[\"device\"] = \"cuda\"\n",
    "\n",
    "standalone_parameters[\"seed\"] = 1337\n",
    "standalone_parameters[\"dataset_seed\"] = 1337\n",
    "\n",
    "\n",
    "standalone_parameters[\"num_examples_per_domain_per_label_source\"]=100\n",
    "standalone_parameters[\"num_examples_per_domain_per_label_target\"]=100\n",
    "\n",
    "standalone_parameters[\"n_shot\"] = 3\n",
    "standalone_parameters[\"n_query\"]  = 2\n",
    "standalone_parameters[\"train_k_factor\"] = 1\n",
    "standalone_parameters[\"val_k_factor\"] = 2\n",
    "standalone_parameters[\"test_k_factor\"] = 2\n",
    "\n",
    "\n",
    "standalone_parameters[\"n_epoch\"] = 100\n",
    "\n",
    "standalone_parameters[\"patience\"] = 10\n",
    "standalone_parameters[\"criteria_for_best\"] = \"target_accuracy\"\n",
    "\n",
    "standalone_parameters[\"x_transforms_source\"] = [\"unit_power\"]\n",
    "standalone_parameters[\"x_transforms_target\"] = [\"unit_power\"]\n",
    "standalone_parameters[\"episode_transforms_source\"] = []\n",
    "standalone_parameters[\"episode_transforms_target\"] = []\n",
    "\n",
    "standalone_parameters[\"torch_default_dtype\"] = \"torch.float32\" \n",
    "\n",
    "\n",
    "\n",
    "standalone_parameters[\"x_net\"] =     [\n",
    "    {\"class\": \"nnReshape\", \"kargs\": {\"shape\":[-1, 1, 2, 256]}},\n",
    "    {\"class\": \"Conv2d\", \"kargs\": { \"in_channels\":1, \"out_channels\":256, \"kernel_size\":(1,7), \"bias\":False, \"padding\":(0,3), },},\n",
    "    {\"class\": \"ReLU\", \"kargs\": {\"inplace\": True}},\n",
    "    {\"class\": \"BatchNorm2d\", \"kargs\": {\"num_features\":256}},\n",
    "\n",
    "    {\"class\": \"Conv2d\", \"kargs\": { \"in_channels\":256, \"out_channels\":80, \"kernel_size\":(2,7), \"bias\":True, \"padding\":(0,3), },},\n",
    "    {\"class\": \"ReLU\", \"kargs\": {\"inplace\": True}},\n",
    "    {\"class\": \"BatchNorm2d\", \"kargs\": {\"num_features\":80}},\n",
    "    {\"class\": \"Flatten\", \"kargs\": {}},\n",
    "\n",
    "    {\"class\": \"Linear\", \"kargs\": {\"in_features\": 80*256, \"out_features\": 256}}, # 80 units per IQ pair\n",
    "    {\"class\": \"ReLU\", \"kargs\": {\"inplace\": True}},\n",
    "    {\"class\": \"BatchNorm1d\", \"kargs\": {\"num_features\":256}},\n",
    "\n",
    "    {\"class\": \"Linear\", \"kargs\": {\"in_features\": 256, \"out_features\": 256}},\n",
    "]\n",
    "\n",
    "# Parameters relevant to results\n",
    "# These parameters will basically never need to change\n",
    "standalone_parameters[\"NUM_LOGS_PER_EPOCH\"] = 10\n",
    "standalone_parameters[\"BEST_MODEL_PATH\"] = \"./best_model.pth\"\n",
    "\n",
    "# uncomment for CORES dataset\n",
    "from steves_utils.CORES.utils import (\n",
    "    ALL_NODES,\n",
    "    ALL_NODES_MINIMUM_1000_EXAMPLES,\n",
    "    ALL_DAYS\n",
    ")\n",
    "\n",
    "\n",
    "standalone_parameters[\"labels_source\"] = ALL_NODES\n",
    "standalone_parameters[\"labels_target\"] = ALL_NODES\n",
    "\n",
    "standalone_parameters[\"domains_source\"] = [1]\n",
    "standalone_parameters[\"domains_target\"] = [2,3,4,5]\n",
    "\n",
    "standalone_parameters[\"pickle_name\"] = \"cores.stratified_ds.2022A.pkl\"\n",
    "\n",
    "\n",
    "# Uncomment these for ORACLE dataset\n",
    "# from steves_utils.ORACLE.utils_v2 import (\n",
    "#     ALL_DISTANCES_FEET,\n",
    "#     ALL_RUNS,\n",
    "#     ALL_SERIAL_NUMBERS,\n",
    "# )\n",
    "# standalone_parameters[\"labels_source\"] = ALL_SERIAL_NUMBERS\n",
    "# standalone_parameters[\"labels_target\"] = ALL_SERIAL_NUMBERS\n",
    "# standalone_parameters[\"domains_source\"] = [8,20, 38,50]\n",
    "# standalone_parameters[\"domains_target\"] = [14, 26, 32, 44, 56]\n",
    "# standalone_parameters[\"pickle_name\"] = \"oracle.frame_indexed.stratified_ds.2022A.pkl\"\n",
    "# standalone_parameters[\"num_examples_per_domain_per_label_source\"]=1000\n",
    "# standalone_parameters[\"num_examples_per_domain_per_label_target\"]=1000\n",
    "\n",
    "# Uncomment these for Metahan dataset\n",
    "# standalone_parameters[\"labels_source\"] = list(range(19))\n",
    "# standalone_parameters[\"labels_target\"] = list(range(19))\n",
    "# standalone_parameters[\"domains_source\"] = [0]\n",
    "# standalone_parameters[\"domains_target\"] = [1]\n",
    "# standalone_parameters[\"pickle_name\"] = \"metehan.stratified_ds.2022A.pkl\"\n",
    "# standalone_parameters[\"n_way\"]  = len(standalone_parameters[\"labels_source\"])\n",
    "# standalone_parameters[\"num_examples_per_domain_per_label_source\"]=200\n",
    "# standalone_parameters[\"num_examples_per_domain_per_label_target\"]=100\n",
    "\n",
    "\n",
    "standalone_parameters[\"n_way\"]  = len(standalone_parameters[\"labels_source\"])"
   ]
  },
  {
   "cell_type": "code",
   "execution_count": 4,
   "id": "ab601b65",
   "metadata": {
    "execution": {
     "iopub.execute_input": "2022-03-06T18:08:55.233297Z",
     "iopub.status.busy": "2022-03-06T18:08:55.232839Z",
     "iopub.status.idle": "2022-03-06T18:08:55.243394Z",
     "shell.execute_reply": "2022-03-06T18:08:55.243158Z"
    },
    "papermill": {
     "duration": 0.025202,
     "end_time": "2022-03-06T18:08:55.243457",
     "exception": false,
     "start_time": "2022-03-06T18:08:55.218255",
     "status": "completed"
    },
    "tags": [
     "injected-parameters"
    ]
   },
   "outputs": [],
   "source": [
    "# Parameters\n",
    "parameters = {\n",
    "    \"experiment_name\": \"tuned_1_oracle.run1_limited\",\n",
    "    \"device\": \"cuda\",\n",
    "    \"lr\": 0.001,\n",
    "    \"seed\": 1337,\n",
    "    \"dataset_seed\": 1337,\n",
    "    \"labels_source\": [\n",
    "        \"3123D52\",\n",
    "        \"3123D65\",\n",
    "        \"3123D79\",\n",
    "        \"3123D80\",\n",
    "        \"3123D54\",\n",
    "        \"3123D70\",\n",
    "        \"3123D7B\",\n",
    "        \"3123D89\",\n",
    "        \"3123D58\",\n",
    "        \"3123D76\",\n",
    "        \"3123D7D\",\n",
    "        \"3123EFE\",\n",
    "        \"3123D64\",\n",
    "        \"3123D78\",\n",
    "        \"3123D7E\",\n",
    "        \"3124E4A\",\n",
    "    ],\n",
    "    \"labels_target\": [\n",
    "        \"3123D52\",\n",
    "        \"3123D65\",\n",
    "        \"3123D79\",\n",
    "        \"3123D80\",\n",
    "        \"3123D54\",\n",
    "        \"3123D70\",\n",
    "        \"3123D7B\",\n",
    "        \"3123D89\",\n",
    "        \"3123D58\",\n",
    "        \"3123D76\",\n",
    "        \"3123D7D\",\n",
    "        \"3123EFE\",\n",
    "        \"3123D64\",\n",
    "        \"3123D78\",\n",
    "        \"3123D7E\",\n",
    "        \"3124E4A\",\n",
    "    ],\n",
    "    \"x_transforms_source\": [],\n",
    "    \"x_transforms_target\": [],\n",
    "    \"episode_transforms_source\": [],\n",
    "    \"episode_transforms_target\": [],\n",
    "    \"domains_source\": [8, 32, 50],\n",
    "    \"domains_target\": [14, 20, 26, 38, 44],\n",
    "    \"num_examples_per_domain_per_label_source\": 2000,\n",
    "    \"num_examples_per_domain_per_label_target\": 1000,\n",
    "    \"n_shot\": 3,\n",
    "    \"n_way\": 16,\n",
    "    \"n_query\": 2,\n",
    "    \"train_k_factor\": 3,\n",
    "    \"val_k_factor\": 2,\n",
    "    \"test_k_factor\": 2,\n",
    "    \"torch_default_dtype\": \"torch.float32\",\n",
    "    \"n_epoch\": 50,\n",
    "    \"patience\": 3,\n",
    "    \"criteria_for_best\": \"target_loss\",\n",
    "    \"x_net\": [\n",
    "        {\"class\": \"nnReshape\", \"kargs\": {\"shape\": [-1, 1, 2, 256]}},\n",
    "        {\n",
    "            \"class\": \"Conv2d\",\n",
    "            \"kargs\": {\n",
    "                \"in_channels\": 1,\n",
    "                \"out_channels\": 256,\n",
    "                \"kernel_size\": [1, 7],\n",
    "                \"bias\": False,\n",
    "                \"padding\": [0, 3],\n",
    "            },\n",
    "        },\n",
    "        {\"class\": \"ReLU\", \"kargs\": {\"inplace\": True}},\n",
    "        {\"class\": \"BatchNorm2d\", \"kargs\": {\"num_features\": 256}},\n",
    "        {\n",
    "            \"class\": \"Conv2d\",\n",
    "            \"kargs\": {\n",
    "                \"in_channels\": 256,\n",
    "                \"out_channels\": 80,\n",
    "                \"kernel_size\": [2, 7],\n",
    "                \"bias\": True,\n",
    "                \"padding\": [0, 3],\n",
    "            },\n",
    "        },\n",
    "        {\"class\": \"ReLU\", \"kargs\": {\"inplace\": True}},\n",
    "        {\"class\": \"BatchNorm2d\", \"kargs\": {\"num_features\": 80}},\n",
    "        {\"class\": \"Flatten\", \"kargs\": {}},\n",
    "        {\"class\": \"Linear\", \"kargs\": {\"in_features\": 20480, \"out_features\": 256}},\n",
    "        {\"class\": \"ReLU\", \"kargs\": {\"inplace\": True}},\n",
    "        {\"class\": \"BatchNorm1d\", \"kargs\": {\"num_features\": 256}},\n",
    "        {\"class\": \"Linear\", \"kargs\": {\"in_features\": 256, \"out_features\": 256}},\n",
    "    ],\n",
    "    \"NUM_LOGS_PER_EPOCH\": 10,\n",
    "    \"BEST_MODEL_PATH\": \"./best_model.pth\",\n",
    "    \"pickle_name\": \"oracle.Run1_10kExamples_stratified_ds.2022A.pkl\",\n",
    "}\n"
   ]
  },
  {
   "cell_type": "code",
   "execution_count": 5,
   "id": "8fa1cc33",
   "metadata": {
    "execution": {
     "iopub.execute_input": "2022-03-06T18:08:55.268697Z",
     "iopub.status.busy": "2022-03-06T18:08:55.268276Z",
     "iopub.status.idle": "2022-03-06T18:08:55.278125Z",
     "shell.execute_reply": "2022-03-06T18:08:55.277836Z"
    },
    "papermill": {
     "duration": 0.022229,
     "end_time": "2022-03-06T18:08:55.278189",
     "exception": false,
     "start_time": "2022-03-06T18:08:55.255960",
     "status": "completed"
    },
    "tags": []
   },
   "outputs": [],
   "source": [
    "# Set this to True if you want to run this template directly\n",
    "STANDALONE = False\n",
    "if STANDALONE:\n",
    "    print(\"parameters not injected, running with standalone_parameters\")\n",
    "    parameters = standalone_parameters\n",
    "\n",
    "if not 'parameters' in locals() and not 'parameters' in globals():\n",
    "    raise Exception(\"Parameter injection failed\")\n",
    "\n",
    "#Use an easy dict for all the parameters\n",
    "p = EasyDict(parameters)\n",
    "\n",
    "supplied_keys = set(p.keys())\n",
    "\n",
    "if  supplied_keys != required_parameters:\n",
    "    print(\"Parameters are incorrect\")\n",
    "    if len(supplied_keys - required_parameters)>0: print(\"Shouldn't have:\", str(supplied_keys - required_parameters))\n",
    "    if len(required_parameters - supplied_keys)>0: print(\"Need to have:\", str(required_parameters - supplied_keys))\n",
    "    raise RuntimeError(\"Parameters are incorrect\")\n",
    "\n"
   ]
  },
  {
   "cell_type": "code",
   "execution_count": 6,
   "id": "3a028d58",
   "metadata": {
    "execution": {
     "iopub.execute_input": "2022-03-06T18:08:55.301468Z",
     "iopub.status.busy": "2022-03-06T18:08:55.301056Z",
     "iopub.status.idle": "2022-03-06T18:08:55.311493Z",
     "shell.execute_reply": "2022-03-06T18:08:55.311248Z"
    },
    "papermill": {
     "duration": 0.022117,
     "end_time": "2022-03-06T18:08:55.311556",
     "exception": false,
     "start_time": "2022-03-06T18:08:55.289439",
     "status": "completed"
    },
    "tags": []
   },
   "outputs": [],
   "source": [
    "###################################\n",
    "# Set the RNGs and make it all deterministic\n",
    "###################################\n",
    "np.random.seed(p.seed)\n",
    "random.seed(p.seed)\n",
    "torch.manual_seed(p.seed)\n",
    "\n",
    "torch.use_deterministic_algorithms(True) "
   ]
  },
  {
   "cell_type": "code",
   "execution_count": 7,
   "id": "b691acf6",
   "metadata": {
    "execution": {
     "iopub.execute_input": "2022-03-06T18:08:55.334245Z",
     "iopub.status.busy": "2022-03-06T18:08:55.333834Z",
     "iopub.status.idle": "2022-03-06T18:08:55.342908Z",
     "shell.execute_reply": "2022-03-06T18:08:55.343119Z"
    },
    "papermill": {
     "duration": 0.020935,
     "end_time": "2022-03-06T18:08:55.343195",
     "exception": false,
     "start_time": "2022-03-06T18:08:55.322260",
     "status": "completed"
    },
    "tags": []
   },
   "outputs": [],
   "source": [
    "###########################################\n",
    "# The stratified datasets honor this\n",
    "###########################################\n",
    "torch.set_default_dtype(eval(p.torch_default_dtype))"
   ]
  },
  {
   "cell_type": "code",
   "execution_count": 8,
   "id": "b5fba671",
   "metadata": {
    "execution": {
     "iopub.execute_input": "2022-03-06T18:08:55.366758Z",
     "iopub.status.busy": "2022-03-06T18:08:55.365746Z",
     "iopub.status.idle": "2022-03-06T18:08:55.403980Z",
     "shell.execute_reply": "2022-03-06T18:08:55.403582Z"
    },
    "papermill": {
     "duration": 0.049671,
     "end_time": "2022-03-06T18:08:55.404071",
     "exception": false,
     "start_time": "2022-03-06T18:08:55.354400",
     "status": "completed"
    },
    "tags": []
   },
   "outputs": [],
   "source": [
    "###################################\n",
    "# Build the network(s)\n",
    "# Note: It's critical to do this AFTER setting the RNG\n",
    "# (This is due to the randomized initial weights)\n",
    "###################################\n",
    "x_net = build_sequential(p.x_net)"
   ]
  },
  {
   "cell_type": "code",
   "execution_count": 9,
   "id": "5d7e61cc",
   "metadata": {
    "execution": {
     "iopub.execute_input": "2022-03-06T18:08:55.429702Z",
     "iopub.status.busy": "2022-03-06T18:08:55.429431Z",
     "iopub.status.idle": "2022-03-06T18:08:55.443457Z",
     "shell.execute_reply": "2022-03-06T18:08:55.443061Z"
    },
    "papermill": {
     "duration": 0.026438,
     "end_time": "2022-03-06T18:08:55.443548",
     "exception": false,
     "start_time": "2022-03-06T18:08:55.417110",
     "status": "completed"
    },
    "tags": []
   },
   "outputs": [],
   "source": [
    "start_time_secs = time.time()"
   ]
  },
  {
   "cell_type": "code",
   "execution_count": 10,
   "id": "fd5442bc",
   "metadata": {
    "execution": {
     "iopub.execute_input": "2022-03-06T18:08:55.475520Z",
     "iopub.status.busy": "2022-03-06T18:08:55.475052Z",
     "iopub.status.idle": "2022-03-06T18:09:00.177713Z",
     "shell.execute_reply": "2022-03-06T18:09:00.177292Z"
    },
    "papermill": {
     "duration": 4.721094,
     "end_time": "2022-03-06T18:09:00.177825",
     "exception": false,
     "start_time": "2022-03-06T18:08:55.456731",
     "status": "completed"
    },
    "tags": []
   },
   "outputs": [],
   "source": [
    "###################################\n",
    "# Build the dataset\n",
    "###################################\n",
    "\n",
    "if p.x_transforms_source == []: x_transform_source = None\n",
    "else: x_transform_source = get_chained_transform(p.x_transforms_source) \n",
    "\n",
    "if p.x_transforms_target == []: x_transform_target = None\n",
    "else: x_transform_target = get_chained_transform(p.x_transforms_target)\n",
    "\n",
    "if p.episode_transforms_source == []: episode_transform_source = None\n",
    "else: raise Exception(\"episode_transform_source not implemented\")\n",
    "\n",
    "if p.episode_transforms_target == []: episode_transform_target = None\n",
    "else: raise Exception(\"episode_transform_target not implemented\")\n",
    "\n",
    "\n",
    "eaf_source = Episodic_Accessor_Factory(\n",
    "    labels=p.labels_source,\n",
    "    domains=p.domains_source,\n",
    "    num_examples_per_domain_per_label=p.num_examples_per_domain_per_label_source,\n",
    "    iterator_seed=p.seed,\n",
    "    dataset_seed=p.dataset_seed,\n",
    "    n_shot=p.n_shot,\n",
    "    n_way=p.n_way,\n",
    "    n_query=p.n_query,\n",
    "    train_val_test_k_factors=(p.train_k_factor,p.val_k_factor,p.test_k_factor),\n",
    "    pickle_path=os.path.join(get_datasets_base_path(), p.pickle_name),\n",
    "    x_transform_func=x_transform_source,\n",
    "    example_transform_func=episode_transform_source,\n",
    "    \n",
    ")\n",
    "train_original_source, val_original_source, test_original_source = eaf_source.get_train(), eaf_source.get_val(), eaf_source.get_test()\n",
    "\n",
    "\n",
    "eaf_target = Episodic_Accessor_Factory(\n",
    "    labels=p.labels_target,\n",
    "    domains=p.domains_target,\n",
    "    num_examples_per_domain_per_label=p.num_examples_per_domain_per_label_target,\n",
    "    iterator_seed=p.seed,\n",
    "    dataset_seed=p.dataset_seed,\n",
    "    n_shot=p.n_shot,\n",
    "    n_way=p.n_way,\n",
    "    n_query=p.n_query,\n",
    "    train_val_test_k_factors=(p.train_k_factor,p.val_k_factor,p.test_k_factor),\n",
    "    pickle_path=os.path.join(get_datasets_base_path(), p.pickle_name),\n",
    "    x_transform_func=x_transform_target,\n",
    "    example_transform_func=episode_transform_target,\n",
    ")\n",
    "train_original_target, val_original_target, test_original_target = eaf_target.get_train(), eaf_target.get_val(), eaf_target.get_test()\n",
    "\n",
    "\n",
    "transform_lambda = lambda ex: ex[1] # Original is (<domain>, <episode>) so we strip down to episode only\n",
    "\n",
    "train_processed_source = Lazy_Iterable_Wrapper(train_original_source, transform_lambda)\n",
    "val_processed_source   = Lazy_Iterable_Wrapper(val_original_source, transform_lambda)\n",
    "test_processed_source  = Lazy_Iterable_Wrapper(test_original_source, transform_lambda)\n",
    "\n",
    "train_processed_target = Lazy_Iterable_Wrapper(train_original_target, transform_lambda)\n",
    "val_processed_target   = Lazy_Iterable_Wrapper(val_original_target, transform_lambda)\n",
    "test_processed_target  = Lazy_Iterable_Wrapper(test_original_target, transform_lambda)\n",
    "\n",
    "datasets = EasyDict({\n",
    "    \"source\": {\n",
    "        \"original\": {\"train\":train_original_source, \"val\":val_original_source, \"test\":test_original_source},\n",
    "        \"processed\": {\"train\":train_processed_source, \"val\":val_processed_source, \"test\":test_processed_source}\n",
    "    },\n",
    "    \"target\": {\n",
    "        \"original\": {\"train\":train_original_target, \"val\":val_original_target, \"test\":test_original_target},\n",
    "        \"processed\": {\"train\":train_processed_target, \"val\":val_processed_target, \"test\":test_processed_target}\n",
    "    },\n",
    "})"
   ]
  },
  {
   "cell_type": "code",
   "execution_count": 11,
   "id": "296189d9",
   "metadata": {
    "execution": {
     "iopub.execute_input": "2022-03-06T18:09:00.207339Z",
     "iopub.status.busy": "2022-03-06T18:09:00.206946Z",
     "iopub.status.idle": "2022-03-06T18:09:01.889701Z",
     "shell.execute_reply": "2022-03-06T18:09:01.889224Z"
    },
    "papermill": {
     "duration": 1.69772,
     "end_time": "2022-03-06T18:09:01.889824",
     "exception": false,
     "start_time": "2022-03-06T18:09:00.192104",
     "status": "completed"
    },
    "tags": []
   },
   "outputs": [
    {
     "name": "stdout",
     "output_type": "stream",
     "text": [
      "Visually inspect these to see if they line up with expected values given the transforms\n",
      "x_transforms_source []\n",
      "x_transforms_target []\n",
      "Average magnitude, source: 0.004711843\n",
      "Average power, source: 2.8328695e-05\n"
     ]
    },
    {
     "name": "stdout",
     "output_type": "stream",
     "text": [
      "Average magnitude, target: 0.0029651737\n",
      "Average power, target: 1.128662e-05\n"
     ]
    }
   ],
   "source": [
    "# Some quick unit tests on the data\n",
    "from steves_utils.transforms import get_average_power, get_average_magnitude\n",
    "\n",
    "q_x, q_y, s_x, s_y, truth = next(iter(train_processed_source))\n",
    "\n",
    "assert q_x.dtype == eval(p.torch_default_dtype)\n",
    "assert s_x.dtype == eval(p.torch_default_dtype)\n",
    "\n",
    "print(\"Visually inspect these to see if they line up with expected values given the transforms\")\n",
    "print('x_transforms_source', p.x_transforms_source)\n",
    "print('x_transforms_target', p.x_transforms_target)\n",
    "print(\"Average magnitude, source:\", get_average_magnitude(q_x[0].numpy()))\n",
    "print(\"Average power, source:\", get_average_power(q_x[0].numpy()))\n",
    "\n",
    "q_x, q_y, s_x, s_y, truth = next(iter(train_processed_target))\n",
    "print(\"Average magnitude, target:\", get_average_magnitude(q_x[0].numpy()))\n",
    "print(\"Average power, target:\", get_average_power(q_x[0].numpy()))\n"
   ]
  },
  {
   "cell_type": "code",
   "execution_count": 12,
   "id": "bbdacba1",
   "metadata": {
    "execution": {
     "iopub.execute_input": "2022-03-06T18:09:01.918996Z",
     "iopub.status.busy": "2022-03-06T18:09:01.918717Z",
     "iopub.status.idle": "2022-03-06T18:09:01.980486Z",
     "shell.execute_reply": "2022-03-06T18:09:01.980224Z"
    },
    "papermill": {
     "duration": 0.075611,
     "end_time": "2022-03-06T18:09:01.980544",
     "exception": false,
     "start_time": "2022-03-06T18:09:01.904933",
     "status": "completed"
    },
    "tags": []
   },
   "outputs": [
    {
     "name": "stdout",
     "output_type": "stream",
     "text": [
      "(2, 256)\n"
     ]
    }
   ],
   "source": [
    "###################################\n",
    "# Build the model\n",
    "###################################\n",
    "model = Steves_Prototypical_Network(x_net, device=p.device, x_shape=(2,256))\n",
    "optimizer = Adam(params=model.parameters(), lr=p.lr)"
   ]
  },
  {
   "cell_type": "code",
   "execution_count": 13,
   "id": "22b39ac5",
   "metadata": {
    "execution": {
     "iopub.execute_input": "2022-03-06T18:09:02.008363Z",
     "iopub.status.busy": "2022-03-06T18:09:02.007668Z",
     "iopub.status.idle": "2022-03-06T18:18:21.541791Z",
     "shell.execute_reply": "2022-03-06T18:18:21.541508Z"
    },
    "papermill": {
     "duration": 559.548054,
     "end_time": "2022-03-06T18:18:21.541857",
     "exception": false,
     "start_time": "2022-03-06T18:09:01.993803",
     "status": "completed"
    },
    "tags": []
   },
   "outputs": [
    {
     "name": "stdout",
     "output_type": "stream",
     "text": [
      "epoch: 1, [batch: 1 / 2520], examples_per_second: 127.9483, train_label_loss: 2.2095, \n"
     ]
    },
    {
     "name": "stdout",
     "output_type": "stream",
     "text": [
      "epoch: 1, [batch: 252 / 2520], examples_per_second: 3196.1729, train_label_loss: 1.6032, \n"
     ]
    },
    {
     "name": "stdout",
     "output_type": "stream",
     "text": [
      "epoch: 1, [batch: 504 / 2520], examples_per_second: 3188.7529, train_label_loss: 1.2475, \n"
     ]
    },
    {
     "name": "stdout",
     "output_type": "stream",
     "text": [
      "epoch: 1, [batch: 756 / 2520], examples_per_second: 3201.7919, train_label_loss: 1.3246, \n"
     ]
    },
    {
     "name": "stdout",
     "output_type": "stream",
     "text": [
      "epoch: 1, [batch: 1008 / 2520], examples_per_second: 3200.2617, train_label_loss: 0.9230, \n"
     ]
    },
    {
     "name": "stdout",
     "output_type": "stream",
     "text": [
      "epoch: 1, [batch: 1260 / 2520], examples_per_second: 3231.9531, train_label_loss: 0.3936, \n"
     ]
    },
    {
     "name": "stdout",
     "output_type": "stream",
     "text": [
      "epoch: 1, [batch: 1512 / 2520], examples_per_second: 3221.1426, train_label_loss: 0.8688, \n"
     ]
    },
    {
     "name": "stdout",
     "output_type": "stream",
     "text": [
      "epoch: 1, [batch: 1764 / 2520], examples_per_second: 3207.7048, train_label_loss: 0.6141, \n"
     ]
    },
    {
     "name": "stdout",
     "output_type": "stream",
     "text": [
      "epoch: 1, [batch: 2016 / 2520], examples_per_second: 3139.1636, train_label_loss: 0.6173, \n"
     ]
    },
    {
     "name": "stdout",
     "output_type": "stream",
     "text": [
      "epoch: 1, [batch: 2268 / 2520], examples_per_second: 3100.2959, train_label_loss: 0.3515, \n"
     ]
    },
    {
     "name": "stdout",
     "output_type": "stream",
     "text": [
      "=============================================================\n",
      "epoch: 1, source_val_acc_label: 0.6748, target_val_acc_label: 0.6149, source_val_label_loss: 1.2451, target_val_label_loss: 1.4132, \n",
      "=============================================================\n"
     ]
    },
    {
     "name": "stdout",
     "output_type": "stream",
     "text": [
      "New best\n"
     ]
    },
    {
     "name": "stdout",
     "output_type": "stream",
     "text": [
      "epoch: 2, [batch: 1 / 2520], examples_per_second: 12.4810, train_label_loss: 1.3842, \n"
     ]
    },
    {
     "name": "stdout",
     "output_type": "stream",
     "text": [
      "epoch: 2, [batch: 252 / 2520], examples_per_second: 3094.0844, train_label_loss: 0.6769, \n"
     ]
    },
    {
     "name": "stdout",
     "output_type": "stream",
     "text": [
      "epoch: 2, [batch: 504 / 2520], examples_per_second: 3158.8808, train_label_loss: 0.6164, \n"
     ]
    },
    {
     "name": "stdout",
     "output_type": "stream",
     "text": [
      "epoch: 2, [batch: 756 / 2520], examples_per_second: 3207.7259, train_label_loss: 0.6907, \n"
     ]
    },
    {
     "name": "stdout",
     "output_type": "stream",
     "text": [
      "epoch: 2, [batch: 1008 / 2520], examples_per_second: 3079.6379, train_label_loss: 0.9602, \n"
     ]
    },
    {
     "name": "stdout",
     "output_type": "stream",
     "text": [
      "epoch: 2, [batch: 1260 / 2520], examples_per_second: 3162.5778, train_label_loss: 0.9651, \n"
     ]
    },
    {
     "name": "stdout",
     "output_type": "stream",
     "text": [
      "epoch: 2, [batch: 1512 / 2520], examples_per_second: 3175.1048, train_label_loss: 0.6209, \n"
     ]
    },
    {
     "name": "stdout",
     "output_type": "stream",
     "text": [
      "epoch: 2, [batch: 1764 / 2520], examples_per_second: 3161.1870, train_label_loss: 0.5817, \n"
     ]
    },
    {
     "name": "stdout",
     "output_type": "stream",
     "text": [
      "epoch: 2, [batch: 2016 / 2520], examples_per_second: 3205.3303, train_label_loss: 0.8053, \n"
     ]
    },
    {
     "name": "stdout",
     "output_type": "stream",
     "text": [
      "epoch: 2, [batch: 2268 / 2520], examples_per_second: 3182.7888, train_label_loss: 0.8110, \n"
     ]
    },
    {
     "name": "stdout",
     "output_type": "stream",
     "text": [
      "=============================================================\n",
      "epoch: 2, source_val_acc_label: 0.7344, target_val_acc_label: 0.6344, source_val_label_loss: 0.6913, target_val_label_loss: 1.0417, \n",
      "=============================================================\n"
     ]
    },
    {
     "name": "stdout",
     "output_type": "stream",
     "text": [
      "New best\n"
     ]
    },
    {
     "name": "stdout",
     "output_type": "stream",
     "text": [
      "epoch: 3, [batch: 1 / 2520], examples_per_second: 12.8572, train_label_loss: 0.4542, \n"
     ]
    },
    {
     "name": "stdout",
     "output_type": "stream",
     "text": [
      "epoch: 3, [batch: 252 / 2520], examples_per_second: 3172.9517, train_label_loss: 0.7843, \n"
     ]
    },
    {
     "name": "stdout",
     "output_type": "stream",
     "text": [
      "epoch: 3, [batch: 504 / 2520], examples_per_second: 3209.1443, train_label_loss: 0.3553, \n"
     ]
    },
    {
     "name": "stdout",
     "output_type": "stream",
     "text": [
      "epoch: 3, [batch: 756 / 2520], examples_per_second: 3064.8099, train_label_loss: 0.7623, \n"
     ]
    },
    {
     "name": "stdout",
     "output_type": "stream",
     "text": [
      "epoch: 3, [batch: 1008 / 2520], examples_per_second: 3138.2720, train_label_loss: 0.6626, \n"
     ]
    },
    {
     "name": "stdout",
     "output_type": "stream",
     "text": [
      "epoch: 3, [batch: 1260 / 2520], examples_per_second: 3175.0643, train_label_loss: 0.9437, \n"
     ]
    },
    {
     "name": "stdout",
     "output_type": "stream",
     "text": [
      "epoch: 3, [batch: 1512 / 2520], examples_per_second: 3225.2913, train_label_loss: 0.5906, \n"
     ]
    },
    {
     "name": "stdout",
     "output_type": "stream",
     "text": [
      "epoch: 3, [batch: 1764 / 2520], examples_per_second: 3183.0620, train_label_loss: 0.6377, \n"
     ]
    },
    {
     "name": "stdout",
     "output_type": "stream",
     "text": [
      "epoch: 3, [batch: 2016 / 2520], examples_per_second: 3205.1203, train_label_loss: 0.7334, \n"
     ]
    },
    {
     "name": "stdout",
     "output_type": "stream",
     "text": [
      "epoch: 3, [batch: 2268 / 2520], examples_per_second: 3210.6610, train_label_loss: 0.5342, \n"
     ]
    },
    {
     "name": "stdout",
     "output_type": "stream",
     "text": [
      "=============================================================\n",
      "epoch: 3, source_val_acc_label: 0.7694, target_val_acc_label: 0.6648, source_val_label_loss: 0.6329, target_val_label_loss: 1.0091, \n",
      "=============================================================\n"
     ]
    },
    {
     "name": "stdout",
     "output_type": "stream",
     "text": [
      "New best\n"
     ]
    },
    {
     "name": "stdout",
     "output_type": "stream",
     "text": [
      "epoch: 4, [batch: 1 / 2520], examples_per_second: 12.8701, train_label_loss: 0.2957, \n"
     ]
    },
    {
     "name": "stdout",
     "output_type": "stream",
     "text": [
      "epoch: 4, [batch: 252 / 2520], examples_per_second: 3197.1647, train_label_loss: 0.4856, \n"
     ]
    },
    {
     "name": "stdout",
     "output_type": "stream",
     "text": [
      "epoch: 4, [batch: 504 / 2520], examples_per_second: 3176.0751, train_label_loss: 0.6466, \n"
     ]
    },
    {
     "name": "stdout",
     "output_type": "stream",
     "text": [
      "epoch: 4, [batch: 756 / 2520], examples_per_second: 3195.8170, train_label_loss: 0.4567, \n"
     ]
    },
    {
     "name": "stdout",
     "output_type": "stream",
     "text": [
      "epoch: 4, [batch: 1008 / 2520], examples_per_second: 3181.3787, train_label_loss: 0.5230, \n"
     ]
    },
    {
     "name": "stdout",
     "output_type": "stream",
     "text": [
      "epoch: 4, [batch: 1260 / 2520], examples_per_second: 3211.0676, train_label_loss: 0.5819, \n"
     ]
    },
    {
     "name": "stdout",
     "output_type": "stream",
     "text": [
      "epoch: 4, [batch: 1512 / 2520], examples_per_second: 3096.7212, train_label_loss: 0.3518, \n"
     ]
    },
    {
     "name": "stdout",
     "output_type": "stream",
     "text": [
      "epoch: 4, [batch: 1764 / 2520], examples_per_second: 3121.7211, train_label_loss: 0.2198, \n"
     ]
    },
    {
     "name": "stdout",
     "output_type": "stream",
     "text": [
      "epoch: 4, [batch: 2016 / 2520], examples_per_second: 3125.3676, train_label_loss: 0.2623, \n"
     ]
    },
    {
     "name": "stdout",
     "output_type": "stream",
     "text": [
      "epoch: 4, [batch: 2268 / 2520], examples_per_second: 3182.4093, train_label_loss: 0.3016, \n"
     ]
    },
    {
     "name": "stdout",
     "output_type": "stream",
     "text": [
      "=============================================================\n",
      "epoch: 4, source_val_acc_label: 0.7755, target_val_acc_label: 0.6754, source_val_label_loss: 0.6018, target_val_label_loss: 0.9574, \n",
      "=============================================================\n"
     ]
    },
    {
     "name": "stdout",
     "output_type": "stream",
     "text": [
      "New best\n"
     ]
    },
    {
     "name": "stdout",
     "output_type": "stream",
     "text": [
      "epoch: 5, [batch: 1 / 2520], examples_per_second: 12.6555, train_label_loss: 0.5165, \n"
     ]
    },
    {
     "name": "stdout",
     "output_type": "stream",
     "text": [
      "epoch: 5, [batch: 252 / 2520], examples_per_second: 3140.0322, train_label_loss: 0.2092, \n"
     ]
    },
    {
     "name": "stdout",
     "output_type": "stream",
     "text": [
      "epoch: 5, [batch: 504 / 2520], examples_per_second: 3162.3255, train_label_loss: 0.3897, \n"
     ]
    },
    {
     "name": "stdout",
     "output_type": "stream",
     "text": [
      "epoch: 5, [batch: 756 / 2520], examples_per_second: 3125.9651, train_label_loss: 0.6299, \n"
     ]
    },
    {
     "name": "stdout",
     "output_type": "stream",
     "text": [
      "epoch: 5, [batch: 1008 / 2520], examples_per_second: 3098.4012, train_label_loss: 0.1798, \n"
     ]
    },
    {
     "name": "stdout",
     "output_type": "stream",
     "text": [
      "epoch: 5, [batch: 1260 / 2520], examples_per_second: 3208.9349, train_label_loss: 0.1480, \n"
     ]
    },
    {
     "name": "stdout",
     "output_type": "stream",
     "text": [
      "epoch: 5, [batch: 1512 / 2520], examples_per_second: 3237.7397, train_label_loss: 0.2227, \n"
     ]
    },
    {
     "name": "stdout",
     "output_type": "stream",
     "text": [
      "epoch: 5, [batch: 1764 / 2520], examples_per_second: 3155.8394, train_label_loss: 0.5261, \n"
     ]
    },
    {
     "name": "stdout",
     "output_type": "stream",
     "text": [
      "epoch: 5, [batch: 2016 / 2520], examples_per_second: 3073.6307, train_label_loss: 0.1342, \n"
     ]
    },
    {
     "name": "stdout",
     "output_type": "stream",
     "text": [
      "epoch: 5, [batch: 2268 / 2520], examples_per_second: 3184.5843, train_label_loss: 0.5577, \n"
     ]
    },
    {
     "name": "stdout",
     "output_type": "stream",
     "text": [
      "=============================================================\n",
      "epoch: 5, source_val_acc_label: 0.7899, target_val_acc_label: 0.6956, source_val_label_loss: 0.6190, target_val_label_loss: 1.0130, \n",
      "=============================================================\n"
     ]
    },
    {
     "name": "stdout",
     "output_type": "stream",
     "text": [
      "epoch: 6, [batch: 1 / 2520], examples_per_second: 12.6631, train_label_loss: 0.2799, \n"
     ]
    },
    {
     "name": "stdout",
     "output_type": "stream",
     "text": [
      "epoch: 6, [batch: 252 / 2520], examples_per_second: 3119.6710, train_label_loss: 0.1313, \n"
     ]
    },
    {
     "name": "stdout",
     "output_type": "stream",
     "text": [
      "epoch: 6, [batch: 504 / 2520], examples_per_second: 3122.9952, train_label_loss: 0.3059, \n"
     ]
    },
    {
     "name": "stdout",
     "output_type": "stream",
     "text": [
      "epoch: 6, [batch: 756 / 2520], examples_per_second: 3087.0965, train_label_loss: 0.4272, \n"
     ]
    },
    {
     "name": "stdout",
     "output_type": "stream",
     "text": [
      "epoch: 6, [batch: 1008 / 2520], examples_per_second: 3072.5131, train_label_loss: 0.3277, \n"
     ]
    },
    {
     "name": "stdout",
     "output_type": "stream",
     "text": [
      "epoch: 6, [batch: 1260 / 2520], examples_per_second: 3086.9718, train_label_loss: 0.2655, \n"
     ]
    },
    {
     "name": "stdout",
     "output_type": "stream",
     "text": [
      "epoch: 6, [batch: 1512 / 2520], examples_per_second: 3179.2504, train_label_loss: 0.6107, \n"
     ]
    },
    {
     "name": "stdout",
     "output_type": "stream",
     "text": [
      "epoch: 6, [batch: 1764 / 2520], examples_per_second: 3118.0832, train_label_loss: 0.1358, \n"
     ]
    },
    {
     "name": "stdout",
     "output_type": "stream",
     "text": [
      "epoch: 6, [batch: 2016 / 2520], examples_per_second: 3047.9730, train_label_loss: 0.4007, \n"
     ]
    },
    {
     "name": "stdout",
     "output_type": "stream",
     "text": [
      "epoch: 6, [batch: 2268 / 2520], examples_per_second: 3106.4732, train_label_loss: 0.2424, \n"
     ]
    },
    {
     "name": "stdout",
     "output_type": "stream",
     "text": [
      "=============================================================\n",
      "epoch: 6, source_val_acc_label: 0.7801, target_val_acc_label: 0.6845, source_val_label_loss: 0.6645, target_val_label_loss: 1.0098, \n",
      "=============================================================\n"
     ]
    },
    {
     "name": "stdout",
     "output_type": "stream",
     "text": [
      "epoch: 7, [batch: 1 / 2520], examples_per_second: 12.6804, train_label_loss: 0.3624, \n"
     ]
    },
    {
     "name": "stdout",
     "output_type": "stream",
     "text": [
      "epoch: 7, [batch: 252 / 2520], examples_per_second: 3151.9733, train_label_loss: 0.1798, \n"
     ]
    },
    {
     "name": "stdout",
     "output_type": "stream",
     "text": [
      "epoch: 7, [batch: 504 / 2520], examples_per_second: 3052.1491, train_label_loss: 0.1645, \n"
     ]
    },
    {
     "name": "stdout",
     "output_type": "stream",
     "text": [
      "epoch: 7, [batch: 756 / 2520], examples_per_second: 3193.1961, train_label_loss: 0.4272, \n"
     ]
    },
    {
     "name": "stdout",
     "output_type": "stream",
     "text": [
      "epoch: 7, [batch: 1008 / 2520], examples_per_second: 3186.6213, train_label_loss: 0.1907, \n"
     ]
    },
    {
     "name": "stdout",
     "output_type": "stream",
     "text": [
      "epoch: 7, [batch: 1260 / 2520], examples_per_second: 3192.0035, train_label_loss: 0.2846, \n"
     ]
    },
    {
     "name": "stdout",
     "output_type": "stream",
     "text": [
      "epoch: 7, [batch: 1512 / 2520], examples_per_second: 3212.6465, train_label_loss: 0.2443, \n"
     ]
    },
    {
     "name": "stdout",
     "output_type": "stream",
     "text": [
      "epoch: 7, [batch: 1764 / 2520], examples_per_second: 3216.3424, train_label_loss: 0.2324, \n"
     ]
    },
    {
     "name": "stdout",
     "output_type": "stream",
     "text": [
      "epoch: 7, [batch: 2016 / 2520], examples_per_second: 3188.9518, train_label_loss: 0.2725, \n"
     ]
    },
    {
     "name": "stdout",
     "output_type": "stream",
     "text": [
      "epoch: 7, [batch: 2268 / 2520], examples_per_second: 3190.6079, train_label_loss: 0.0961, \n"
     ]
    },
    {
     "name": "stdout",
     "output_type": "stream",
     "text": [
      "=============================================================\n",
      "epoch: 7, source_val_acc_label: 0.7941, target_val_acc_label: 0.6904, source_val_label_loss: 0.6429, target_val_label_loss: 1.0296, \n",
      "=============================================================\n"
     ]
    },
    {
     "name": "stdout",
     "output_type": "stream",
     "text": [
      "epoch: 8, [batch: 1 / 2520], examples_per_second: 12.9732, train_label_loss: 0.3378, \n"
     ]
    },
    {
     "name": "stdout",
     "output_type": "stream",
     "text": [
      "epoch: 8, [batch: 252 / 2520], examples_per_second: 3189.8985, train_label_loss: 0.1625, \n"
     ]
    },
    {
     "name": "stdout",
     "output_type": "stream",
     "text": [
      "epoch: 8, [batch: 504 / 2520], examples_per_second: 3193.9143, train_label_loss: 0.4560, \n"
     ]
    },
    {
     "name": "stdout",
     "output_type": "stream",
     "text": [
      "epoch: 8, [batch: 756 / 2520], examples_per_second: 3192.3882, train_label_loss: 0.2398, \n"
     ]
    },
    {
     "name": "stdout",
     "output_type": "stream",
     "text": [
      "epoch: 8, [batch: 1008 / 2520], examples_per_second: 3190.2134, train_label_loss: 0.2117, \n"
     ]
    },
    {
     "name": "stdout",
     "output_type": "stream",
     "text": [
      "epoch: 8, [batch: 1260 / 2520], examples_per_second: 3113.5836, train_label_loss: 0.4012, \n"
     ]
    },
    {
     "name": "stdout",
     "output_type": "stream",
     "text": [
      "epoch: 8, [batch: 1512 / 2520], examples_per_second: 3087.8550, train_label_loss: 0.3661, \n"
     ]
    },
    {
     "name": "stdout",
     "output_type": "stream",
     "text": [
      "epoch: 8, [batch: 1764 / 2520], examples_per_second: 3175.2239, train_label_loss: 0.3146, \n"
     ]
    },
    {
     "name": "stdout",
     "output_type": "stream",
     "text": [
      "epoch: 8, [batch: 2016 / 2520], examples_per_second: 3154.1237, train_label_loss: 0.2020, \n"
     ]
    },
    {
     "name": "stdout",
     "output_type": "stream",
     "text": [
      "epoch: 8, [batch: 2268 / 2520], examples_per_second: 3050.7039, train_label_loss: 0.6458, \n"
     ]
    },
    {
     "name": "stdout",
     "output_type": "stream",
     "text": [
      "=============================================================\n",
      "epoch: 8, source_val_acc_label: 0.7868, target_val_acc_label: 0.6742, source_val_label_loss: 0.6849, target_val_label_loss: 1.0500, \n",
      "=============================================================\n"
     ]
    },
    {
     "name": "stdout",
     "output_type": "stream",
     "text": [
      "Patience (3) exhausted\n"
     ]
    }
   ],
   "source": [
    "###################################\n",
    "# train\n",
    "###################################\n",
    "jig = PTN_Train_Eval_Test_Jig(model, p.BEST_MODEL_PATH, p.device)\n",
    "\n",
    "jig.train(\n",
    "    train_iterable=datasets.source.processed.train,\n",
    "    source_val_iterable=datasets.source.processed.val,\n",
    "    target_val_iterable=datasets.target.processed.val,\n",
    "    num_epochs=p.n_epoch,\n",
    "    num_logs_per_epoch=p.NUM_LOGS_PER_EPOCH,\n",
    "    patience=p.patience,\n",
    "    optimizer=optimizer,\n",
    "    criteria_for_best=p.criteria_for_best,\n",
    ")"
   ]
  },
  {
   "cell_type": "code",
   "execution_count": 14,
   "id": "31e8fabf",
   "metadata": {
    "execution": {
     "iopub.execute_input": "2022-03-06T18:18:21.601949Z",
     "iopub.status.busy": "2022-03-06T18:18:21.601686Z",
     "iopub.status.idle": "2022-03-06T18:18:21.617301Z",
     "shell.execute_reply": "2022-03-06T18:18:21.617741Z"
    },
    "papermill": {
     "duration": 0.047912,
     "end_time": "2022-03-06T18:18:21.617858",
     "exception": false,
     "start_time": "2022-03-06T18:18:21.569946",
     "status": "completed"
    },
    "tags": []
   },
   "outputs": [],
   "source": [
    "total_experiment_time_secs = time.time() - start_time_secs"
   ]
  },
  {
   "cell_type": "code",
   "execution_count": 15,
   "id": "87b9595b",
   "metadata": {
    "execution": {
     "iopub.execute_input": "2022-03-06T18:18:21.683194Z",
     "iopub.status.busy": "2022-03-06T18:18:21.682896Z",
     "iopub.status.idle": "2022-03-06T18:18:57.316119Z",
     "shell.execute_reply": "2022-03-06T18:18:57.316529Z"
    },
    "papermill": {
     "duration": 35.666804,
     "end_time": "2022-03-06T18:18:57.316671",
     "exception": false,
     "start_time": "2022-03-06T18:18:21.649867",
     "status": "completed"
    },
    "tags": []
   },
   "outputs": [],
   "source": [
    "###################################\n",
    "# Evaluate the model\n",
    "###################################\n",
    "source_test_label_accuracy, source_test_label_loss = jig.test(datasets.source.processed.test)\n",
    "target_test_label_accuracy, target_test_label_loss = jig.test(datasets.target.processed.test)\n",
    "\n",
    "source_val_label_accuracy, source_val_label_loss = jig.test(datasets.source.processed.val)\n",
    "target_val_label_accuracy, target_val_label_loss = jig.test(datasets.target.processed.val)\n",
    "\n",
    "history = jig.get_history()\n",
    "\n",
    "total_epochs_trained = len(history[\"epoch_indices\"])\n",
    "\n",
    "val_dl = Iterable_Aggregator((datasets.source.original.val,datasets.target.original.val))\n",
    "\n",
    "confusion = ptn_confusion_by_domain_over_dataloader(model, p.device, val_dl)\n",
    "per_domain_accuracy = per_domain_accuracy_from_confusion(confusion)\n",
    "\n",
    "# Add a key to per_domain_accuracy for if it was a source domain\n",
    "for domain, accuracy in per_domain_accuracy.items():\n",
    "    per_domain_accuracy[domain] = {\n",
    "        \"accuracy\": accuracy,\n",
    "        \"source?\": domain in p.domains_source\n",
    "    }\n",
    "\n",
    "# Do an independent accuracy assesment JUST TO BE SURE!\n",
    "# _source_test_label_accuracy = independent_accuracy_assesment(model, datasets.source.processed.test, p.device)\n",
    "# _target_test_label_accuracy = independent_accuracy_assesment(model, datasets.target.processed.test, p.device)\n",
    "# _source_val_label_accuracy = independent_accuracy_assesment(model, datasets.source.processed.val, p.device)\n",
    "# _target_val_label_accuracy = independent_accuracy_assesment(model, datasets.target.processed.val, p.device)\n",
    "\n",
    "# assert(_source_test_label_accuracy == source_test_label_accuracy)\n",
    "# assert(_target_test_label_accuracy == target_test_label_accuracy)\n",
    "# assert(_source_val_label_accuracy == source_val_label_accuracy)\n",
    "# assert(_target_val_label_accuracy == target_val_label_accuracy)\n",
    "\n",
    "experiment = {\n",
    "    \"experiment_name\": p.experiment_name,\n",
    "    \"parameters\": dict(p),\n",
    "    \"results\": {\n",
    "        \"source_test_label_accuracy\": source_test_label_accuracy,\n",
    "        \"source_test_label_loss\": source_test_label_loss,\n",
    "        \"target_test_label_accuracy\": target_test_label_accuracy,\n",
    "        \"target_test_label_loss\": target_test_label_loss,\n",
    "        \"source_val_label_accuracy\": source_val_label_accuracy,\n",
    "        \"source_val_label_loss\": source_val_label_loss,\n",
    "        \"target_val_label_accuracy\": target_val_label_accuracy,\n",
    "        \"target_val_label_loss\": target_val_label_loss,\n",
    "        \"total_epochs_trained\": total_epochs_trained,\n",
    "        \"total_experiment_time_secs\": total_experiment_time_secs,\n",
    "        \"confusion\": confusion,\n",
    "        \"per_domain_accuracy\": per_domain_accuracy,\n",
    "    },\n",
    "    \"history\": history,\n",
    "    \"dataset_metrics\": get_dataset_metrics(datasets, \"ptn\"),\n",
    "}"
   ]
  },
  {
   "cell_type": "code",
   "execution_count": 16,
   "id": "54a21829",
   "metadata": {
    "execution": {
     "iopub.execute_input": "2022-03-06T18:18:57.379372Z",
     "iopub.status.busy": "2022-03-06T18:18:57.379109Z",
     "iopub.status.idle": "2022-03-06T18:18:57.575309Z",
     "shell.execute_reply": "2022-03-06T18:18:57.575702Z"
    },
    "papermill": {
     "duration": 0.225856,
     "end_time": "2022-03-06T18:18:57.575828",
     "exception": false,
     "start_time": "2022-03-06T18:18:57.349972",
     "status": "completed"
    },
    "tags": []
   },
   "outputs": [
    {
     "data": {
      "image/png": "[encoded data removed]",
      "text/plain": [
       "<Figure size 1080x504 with 1 Axes>"
      ]
     },
     "metadata": {
      "needs_background": "light"
     },
     "output_type": "display_data"
    }
   ],
   "source": [
    "ax = get_loss_curve(experiment)\n",
    "plt.show()"
   ]
  },
  {
   "cell_type": "code",
   "execution_count": 17,
   "id": "fd8a0f60",
   "metadata": {
    "execution": {
     "iopub.execute_input": "2022-03-06T18:18:57.647400Z",
     "iopub.status.busy": "2022-03-06T18:18:57.647136Z",
     "iopub.status.idle": "2022-03-06T18:18:57.826637Z",
     "shell.execute_reply": "2022-03-06T18:18:57.826956Z"
    },
    "papermill": {
     "duration": 0.219296,
     "end_time": "2022-03-06T18:18:57.827055",
     "exception": false,
     "start_time": "2022-03-06T18:18:57.607759",
     "status": "completed"
    },
    "tags": []
   },
   "outputs": [
    {
     "data": {
      "text/plain": [
       "<matplotlib.axes._subplots.AxesSubplot at 0x7f4981761af0>"
      ]
     },
     "execution_count": 17,
     "metadata": {},
     "output_type": "execute_result"
    },
    {
     "data": {
      "image/png": "[encoded data removed]",
      "text/plain": [
       "<Figure size 1080x504 with 1 Axes>"
      ]
     },
     "metadata": {
      "needs_background": "light"
     },
     "output_type": "display_data"
    }
   ],
   "source": [
    "get_results_table(experiment)"
   ]
  },
  {
   "cell_type": "code",
   "execution_count": 18,
   "id": "cf8dc689",
   "metadata": {
    "execution": {
     "iopub.execute_input": "2022-03-06T18:18:57.895738Z",
     "iopub.status.busy": "2022-03-06T18:18:57.895468Z",
     "iopub.status.idle": "2022-03-06T18:18:58.074409Z",
     "shell.execute_reply": "2022-03-06T18:18:58.073915Z"
    },
    "papermill": {
     "duration": 0.210696,
     "end_time": "2022-03-06T18:18:58.074520",
     "exception": false,
     "start_time": "2022-03-06T18:18:57.863824",
     "status": "completed"
    },
    "tags": []
   },
   "outputs": [
    {
     "data": {
      "text/plain": [
       "<matplotlib.axes._subplots.AxesSubplot at 0x7f4980b9c2b0>"
      ]
     },
     "execution_count": 18,
     "metadata": {},
     "output_type": "execute_result"
    },
    {
     "data": {
      "image/png": "[encoded data removed]",
      "text/plain": [
       "<Figure size 1080x504 with 1 Axes>"
      ]
     },
     "metadata": {
      "needs_background": "light"
     },
     "output_type": "display_data"
    }
   ],
   "source": [
    "get_domain_accuracies(experiment)"
   ]
  },
  {
   "cell_type": "code",
   "execution_count": 19,
   "id": "a74ae082",
   "metadata": {
    "execution": {
     "iopub.execute_input": "2022-03-06T18:18:58.142773Z",
     "iopub.status.busy": "2022-03-06T18:18:58.142484Z",
     "iopub.status.idle": "2022-03-06T18:18:58.157788Z",
     "shell.execute_reply": "2022-03-06T18:18:58.157294Z"
    },
    "papermill": {
     "duration": 0.0482,
     "end_time": "2022-03-06T18:18:58.157896",
     "exception": false,
     "start_time": "2022-03-06T18:18:58.109696",
     "status": "completed"
    },
    "tags": []
   },
   "outputs": [
    {
     "name": "stdout",
     "output_type": "stream",
     "text": [
      "Source Test Label Accuracy: 0.7817708333333333 Target Test Label Accuracy: 0.6657291666666667\n",
      "Source Val Label Accuracy: 0.7755208333333333 Target Val Label Accuracy: 0.6754166666666667\n"
     ]
    }
   ],
   "source": [
    "print(\"Source Test Label Accuracy:\", experiment[\"results\"][\"source_test_label_accuracy\"], \"Target Test Label Accuracy:\", experiment[\"results\"][\"target_test_label_accuracy\"])\n",
    "print(\"Source Val Label Accuracy:\", experiment[\"results\"][\"source_val_label_accuracy\"], \"Target Val Label Accuracy:\", experiment[\"results\"][\"target_val_label_accuracy\"])"
   ]
  },
  {
   "cell_type": "code",
   "execution_count": 20,
   "id": "dacca602",
   "metadata": {
    "execution": {
     "iopub.execute_input": "2022-03-06T18:18:58.226156Z",
     "iopub.status.busy": "2022-03-06T18:18:58.225890Z",
     "iopub.status.idle": "2022-03-06T18:18:58.241431Z",
     "shell.execute_reply": "2022-03-06T18:18:58.240914Z"
    },
    "papermill": {
     "duration": 0.048155,
     "end_time": "2022-03-06T18:18:58.241544",
     "exception": false,
     "start_time": "2022-03-06T18:18:58.193389",
     "status": "completed"
    },
    "tags": [
     "experiment_json"
    ]
   },
   "outputs": [
    {
     "data": {
      "text/plain": [
       "'{\"experiment_name\": \"tuned_1_oracle.run1_limited\", \"parameters\": {\"experiment_name\": \"tuned_1_oracle.run1_limited\", \"device\": \"cuda\", \"lr\": 0.001, \"seed\": 1337, \"dataset_seed\": 1337, \"labels_source\": [\"3123D52\", \"3123D65\", \"3123D79\", \"3123D80\", \"3123D54\", \"3123D70\", \"3123D7B\", \"3123D89\", \"3123D58\", \"3123D76\", \"3123D7D\", \"3123EFE\", \"3123D64\", \"3123D78\", \"3123D7E\", \"3124E4A\"], \"labels_target\": [\"3123D52\", \"3123D65\", \"3123D79\", \"3123D80\", \"3123D54\", \"3123D70\", \"3123D7B\", \"3123D89\", \"3123D58\", \"3123D76\", \"3123D7D\", \"3123EFE\", \"3123D64\", \"3123D78\", \"3123D7E\", \"3124E4A\"], \"x_transforms_source\": [], \"x_transforms_target\": [], \"episode_transforms_source\": [], \"episode_transforms_target\": [], \"domains_source\": [8, 32, 50], \"domains_target\": [14, 20, 26, 38, 44], \"num_examples_per_domain_per_label_source\": 2000, \"num_examples_per_domain_per_label_target\": 1000, \"n_shot\": 3, \"n_way\": 16, \"n_query\": 2, \"train_k_factor\": 3, \"val_k_factor\": 2, \"test_k_factor\": 2, \"torch_default_dtype\": \"torch.float32\", \"n_epoch\": 50, \"patience\": 3, \"criteria_for_best\": \"target_loss\", \"x_net\": [{\"class\": \"nnReshape\", \"kargs\": {\"shape\": [-1, 1, 2, 256]}}, {\"class\": \"Conv2d\", \"kargs\": {\"in_channels\": 1, \"out_channels\": 256, \"kernel_size\": [1, 7], \"bias\": false, \"padding\": [0, 3]}}, {\"class\": \"ReLU\", \"kargs\": {\"inplace\": true}}, {\"class\": \"BatchNorm2d\", \"kargs\": {\"num_features\": 256}}, {\"class\": \"Conv2d\", \"kargs\": {\"in_channels\": 256, \"out_channels\": 80, \"kernel_size\": [2, 7], \"bias\": true, \"padding\": [0, 3]}}, {\"class\": \"ReLU\", \"kargs\": {\"inplace\": true}}, {\"class\": \"BatchNorm2d\", \"kargs\": {\"num_features\": 80}}, {\"class\": \"Flatten\", \"kargs\": {}}, {\"class\": \"Linear\", \"kargs\": {\"in_features\": 20480, \"out_features\": 256}}, {\"class\": \"ReLU\", \"kargs\": {\"inplace\": true}}, {\"class\": \"BatchNorm1d\", \"kargs\": {\"num_features\": 256}}, {\"class\": \"Linear\", \"kargs\": {\"in_features\": 256, \"out_features\": 256}}], \"NUM_LOGS_PER_EPOCH\": 10, \"BEST_MODEL_PATH\": \"./best_model.pth\", \"pickle_name\": \"oracle.Run1_10kExamples_stratified_ds.2022A.pkl\"}, \"results\": {\"source_test_label_accuracy\": 0.7817708333333333, \"source_test_label_loss\": 0.5907340049743652, \"target_test_label_accuracy\": 0.6657291666666667, \"target_test_label_loss\": 0.9691967964172363, \"source_val_label_accuracy\": 0.7755208333333333, \"source_val_label_loss\": 0.6018155813217163, \"target_val_label_accuracy\": 0.6754166666666667, \"target_val_label_loss\": 0.9574165344238281, \"total_epochs_trained\": 8, \"total_experiment_time_secs\": 566.1746318340302, \"confusion\": {\"8\": {\"15\": {\"15\": 156, \"2\": 20, \"12\": 64}, \"3\": {\"3\": 234, \"2\": 6}, \"6\": {\"7\": 59, \"6\": 141, \"1\": 3, \"4\": 10, \"8\": 8, \"11\": 3, \"13\": 6, \"10\": 10}, \"1\": {\"1\": 105, \"5\": 16, \"11\": 60, \"10\": 43, \"4\": 6, \"13\": 6, \"6\": 4}, \"8\": {\"8\": 186, \"7\": 12, \"6\": 18, \"4\": 22, \"14\": 2}, \"10\": {\"10\": 111, \"6\": 5, \"1\": 44, \"13\": 44, \"11\": 13, \"5\": 22, \"7\": 1}, \"9\": {\"9\": 240}, \"13\": {\"13\": 153, \"10\": 44, \"7\": 27, \"6\": 11, \"1\": 3, \"5\": 2}, \"12\": {\"12\": 170, \"15\": 66, \"2\": 4}, \"5\": {\"5\": 170, \"11\": 13, \"1\": 31, \"10\": 26}, \"0\": {\"0\": 240}, \"2\": {\"2\": 178, \"3\": 25, \"15\": 21, \"12\": 16}, \"11\": {\"11\": 90, \"1\": 69, \"4\": 38, \"6\": 9, \"10\": 11, \"14\": 15, \"5\": 7, \"7\": 1}, \"14\": {\"14\": 191, \"4\": 26, \"11\": 21, \"8\": 2}, \"7\": {\"7\": 175, \"6\": 48, \"13\": 14, \"10\": 3}, \"4\": {\"4\": 164, \"8\": 21, \"7\": 1, \"6\": 11, \"1\": 7, \"14\": 10, \"11\": 25, \"10\": 1}}, \"50\": {\"3\": {\"3\": 240}, \"15\": {\"15\": 192, \"6\": 41, \"11\": 1, \"9\": 5, \"4\": 1}, \"8\": {\"8\": 230, \"10\": 8, \"13\": 2}, \"4\": {\"6\": 7, \"4\": 189, \"15\": 6, \"7\": 27, \"5\": 11}, \"14\": {\"14\": 240}, \"0\": {\"0\": 184, \"10\": 15, \"2\": 41}, \"7\": {\"4\": 18, \"7\": 206, \"5\": 16}, \"6\": {\"6\": 178, \"15\": 29, \"5\": 33}, \"10\": {\"10\": 213, \"0\": 16, \"8\": 10, \"13\": 1}, \"5\": {\"7\": 68, \"4\": 25, \"5\": 83, \"6\": 43, \"15\": 5, \"13\": 14, \"1\": 1, \"11\": 1}, \"2\": {\"0\": 34, \"2\": 204, \"14\": 2}, \"12\": {\"12\": 199, \"11\": 15, \"9\": 26}, \"9\": {\"11\": 20, \"9\": 174, \"12\": 44, \"15\": 2}, \"1\": {\"1\": 231, \"0\": 1, \"13\": 7, \"10\": 1}, \"11\": {\"11\": 200, \"15\": 13, \"12\": 19, \"9\": 7, \"6\": 1}, \"13\": {\"13\": 232, \"1\": 8}}, \"32\": {\"5\": {\"0\": 29, \"5\": 111, \"7\": 58, \"8\": 24, \"14\": 13, \"15\": 5}, \"8\": {\"8\": 154, \"14\": 23, \"5\": 21, \"0\": 20, \"7\": 14, \"15\": 3, \"2\": 2, \"4\": 2, \"3\": 1}, \"11\": {\"11\": 233, \"13\": 6, \"3\": 1}, \"1\": {\"1\": 240}, \"10\": {\"10\": 239, \"12\": 1}, \"15\": {\"15\": 225, \"8\": 5, \"0\": 1, \"5\": 9}, \"3\": {\"3\": 217, \"13\": 21, \"4\": 1, \"11\": 1}, \"7\": {\"5\": 36, \"8\": 20, \"7\": 106, \"14\": 42, \"0\": 36}, \"4\": {\"4\": 177, \"2\": 50, \"13\": 11, \"8\": 1, \"3\": 1}, \"14\": {\"8\": 24, \"7\": 51, \"14\": 127, \"2\": 12, \"4\": 2, \"5\": 13, \"0\": 11}, \"9\": {\"9\": 228, \"2\": 2, \"12\": 9, \"4\": 1}, \"12\": {\"12\": 240}, \"6\": {\"6\": 237, \"10\": 3}, \"2\": {\"4\": 50, \"2\": 187, \"8\": 3}, \"0\": {\"7\": 34, \"0\": 155, \"5\": 17, \"8\": 21, \"14\": 11, \"2\": 2}, \"13\": {\"13\": 159, \"4\": 33, \"3\": 30, \"11\": 17, \"2\": 1}}, \"14\": {\"15\": {\"15\": 120}, \"3\": {\"0\": 3, \"3\": 92, \"14\": 3, \"8\": 6, \"6\": 8, \"13\": 3, \"2\": 2, \"5\": 3}, \"6\": {\"3\": 11, \"6\": 74, \"13\": 21, \"7\": 5, \"5\": 2, \"14\": 3, \"2\": 4}, \"1\": {\"1\": 118, \"4\": 2}, \"8\": {\"0\": 23, \"8\": 84, \"14\": 1, \"3\": 12}, \"10\": {\"10\": 115, \"1\": 1, \"4\": 3, \"0\": 1}, \"9\": {\"9\": 120}, \"13\": {\"15\": 12, \"6\": 31, \"13\": 24, \"7\": 5, \"14\": 14, \"3\": 4, \"2\": 8, \"4\": 16, \"0\": 1, \"5\": 4, \"10\": 1}, \"12\": {\"12\": 120}, \"5\": {\"14\": 22, \"4\": 6, \"3\": 4, \"5\": 57, \"2\": 28, \"6\": 1, \"7\": 1, \"13\": 1}, \"0\": {\"10\": 3, \"0\": 54, \"3\": 14, \"14\": 10, \"8\": 32, \"5\": 2, \"4\": 5}, \"2\": {\"5\": 21, \"4\": 25, \"2\": 23, \"14\": 14, \"6\": 7, \"13\": 13, \"3\": 7, \"7\": 7, \"0\": 2, \"1\": 1}, \"11\": {\"11\": 120}, \"14\": {\"5\": 17, \"13\": 17, \"2\": 20, \"14\": 49, \"3\": 4, \"0\": 6, \"6\": 5, \"4\": 1, \"8\": 1}, \"7\": {\"7\": 101, \"6\": 10, \"5\": 3, \"2\": 5, \"13\": 1}, \"4\": {\"4\": 101, \"2\": 8, \"10\": 2, \"1\": 5, \"5\": 1, \"14\": 2, \"13\": 1}}, \"20\": {\"3\": {\"7\": 7, \"5\": 19, \"8\": 26, \"9\": 17, \"3\": 32, \"1\": 11, \"6\": 1, \"0\": 2, \"14\": 1, \"2\": 3, \"12\": 1}, \"15\": {\"15\": 54, \"9\": 6, \"1\": 23, \"13\": 5, \"3\": 2, \"12\": 19, \"2\": 4, \"7\": 3, \"5\": 2, \"4\": 2}, \"8\": {\"14\": 21, \"8\": 56, \"3\": 23, \"7\": 1, \"9\": 11, \"0\": 3, \"6\": 1, \"1\": 1, \"5\": 3}, \"4\": {\"10\": 16, \"4\": 55, \"2\": 10, \"12\": 11, \"6\": 2, \"13\": 17, \"7\": 4, \"15\": 3, \"1\": 1, \"9\": 1}, \"14\": {\"14\": 73, \"6\": 11, \"8\": 21, \"7\": 10, \"9\": 2, \"3\": 2, \"2\": 1}, \"0\": {\"0\": 108, \"8\": 3, \"3\": 5, \"5\": 3, \"1\": 1}, \"7\": {\"4\": 4, \"6\": 7, \"2\": 11, \"8\": 6, \"3\": 4, \"14\": 12, \"7\": 40, \"9\": 20, \"15\": 1, \"13\": 11, \"12\": 4}, \"6\": {\"6\": 77, \"14\": 15, \"12\": 1, \"7\": 15, \"9\": 2, \"8\": 3, \"4\": 3, \"2\": 3, \"10\": 1}, \"10\": {\"10\": 109, \"6\": 3, \"7\": 1, \"4\": 6, \"13\": 1}, \"5\": {\"12\": 2, \"1\": 35, \"5\": 47, \"3\": 16, \"8\": 5, \"9\": 5, \"7\": 1, \"2\": 1, \"15\": 7, \"0\": 1}, \"2\": {\"2\": 17, \"9\": 18, \"13\": 19, \"6\": 2, \"4\": 17, \"12\": 12, \"7\": 26, \"1\": 3, \"15\": 4, \"3\": 2}, \"12\": {\"15\": 21, \"12\": 34, \"4\": 21, \"9\": 4, \"2\": 14, \"7\": 5, \"13\": 15, \"1\": 5, \"10\": 1}, \"9\": {\"5\": 9, \"7\": 14, \"2\": 10, \"3\": 20, \"9\": 35, \"8\": 11, \"15\": 7, \"1\": 7, \"14\": 1, \"12\": 4, \"4\": 1, \"0\": 1}, \"1\": {\"5\": 38, \"1\": 30, \"9\": 12, \"15\": 15, \"3\": 14, \"12\": 5, \"7\": 3, \"0\": 1, \"8\": 1, \"4\": 1}, \"11\": {\"11\": 120}, \"13\": {\"2\": 27, \"13\": 42, \"12\": 19, \"4\": 21, \"7\": 3, \"6\": 1, \"10\": 1, \"15\": 4, \"1\": 1, \"9\": 1}}, \"44\": {\"5\": {\"5\": 93, \"4\": 1, \"14\": 8, \"15\": 15, \"8\": 3}, \"8\": {\"8\": 87, \"0\": 26, \"15\": 4, \"5\": 3}, \"11\": {\"11\": 120}, \"1\": {\"1\": 110, \"2\": 10}, \"10\": {\"10\": 105, \"2\": 4, \"7\": 10, \"9\": 1}, \"15\": {\"15\": 92, \"4\": 3, \"8\": 4, \"5\": 9, \"14\": 11, \"0\": 1}, \"3\": {\"3\": 104, \"12\": 16}, \"7\": {\"7\": 102, \"9\": 14, \"10\": 4}, \"4\": {\"4\": 65, \"15\": 8, \"14\": 47}, \"14\": {\"14\": 70, \"15\": 15, \"4\": 31, \"5\": 4}, \"9\": {\"6\": 18, \"7\": 33, \"9\": 45, \"13\": 14, \"2\": 8, \"4\": 2}, \"12\": {\"12\": 117, \"3\": 3}, \"6\": {\"6\": 95, \"9\": 9, \"13\": 15, \"7\": 1}, \"2\": {\"2\": 107, \"1\": 13}, \"0\": {\"0\": 93, \"15\": 1, \"8\": 25, \"5\": 1}, \"13\": {\"6\": 25, \"13\": 93, \"9\": 2}}, \"38\": {\"14\": {\"2\": 23, \"14\": 96, \"13\": 1}, \"0\": {\"10\": 17, \"0\": 65, \"7\": 16, \"3\": 7, \"13\": 10, \"4\": 4, \"8\": 1}, \"13\": {\"13\": 102, \"0\": 7, \"10\": 9, \"2\": 2}, \"7\": {\"7\": 114, \"9\": 2, \"0\": 2, \"8\": 2}, \"9\": {\"9\": 109, \"5\": 4, \"7\": 5, \"8\": 2}, \"3\": {\"3\": 120}, \"11\": {\"11\": 120}, \"6\": {\"6\": 118, \"1\": 2}, \"8\": {\"8\": 50, \"7\": 20, \"5\": 40, \"15\": 3, \"9\": 3, \"12\": 3, \"0\": 1}, \"4\": {\"4\": 120}, \"5\": {\"9\": 8, \"5\": 49, \"8\": 46, \"7\": 6, \"15\": 11}, \"10\": {\"10\": 102, \"0\": 8, \"13\": 8, \"4\": 2}, \"1\": {\"1\": 115, \"15\": 1, \"6\": 4}, \"2\": {\"2\": 102, \"14\": 17, \"13\": 1}, \"15\": {\"15\": 99, \"5\": 9, \"1\": 7, \"8\": 4, \"12\": 1}, \"12\": {\"12\": 117, \"5\": 2, \"8\": 1}}, \"26\": {\"13\": {\"4\": 5, \"2\": 6, \"13\": 71, \"3\": 5, \"9\": 23, \"8\": 7, \"0\": 1, \"7\": 2}, \"2\": {\"2\": 53, \"7\": 18, \"8\": 20, \"14\": 2, \"0\": 14, \"9\": 7, \"3\": 5, \"13\": 1}, \"8\": {\"9\": 27, \"2\": 16, \"7\": 17, \"13\": 5, \"8\": 50, \"3\": 2, \"0\": 3}, \"9\": {\"8\": 38, \"9\": 34, \"13\": 29, \"0\": 4, \"2\": 6, \"7\": 4, \"3\": 5}, \"12\": {\"12\": 120}, \"4\": {\"4\": 118, \"13\": 1, \"3\": 1}, \"3\": {\"3\": 87, \"2\": 3, \"7\": 25, \"13\": 3, \"4\": 1, \"9\": 1}, \"15\": {\"0\": 5, \"6\": 16, \"10\": 15, \"15\": 40, \"1\": 5, \"14\": 12, \"5\": 27}, \"14\": {\"15\": 15, \"0\": 15, \"14\": 51, \"10\": 29, \"6\": 2, \"1\": 7, \"5\": 1}, \"10\": {\"15\": 18, \"14\": 38, \"10\": 34, \"6\": 11, \"0\": 16, \"1\": 2, \"5\": 1}, \"7\": {\"3\": 27, \"7\": 46, \"8\": 15, \"13\": 3, \"2\": 24, \"9\": 5}, \"11\": {\"11\": 119, \"6\": 1}, \"6\": {\"6\": 72, \"1\": 4, \"14\": 4, \"15\": 15, \"10\": 13, \"5\": 11, \"0\": 1}, \"1\": {\"10\": 10, \"1\": 65, \"14\": 8, \"15\": 7, \"6\": 21, \"5\": 9}, \"5\": {\"15\": 30, \"5\": 64, \"10\": 2, \"6\": 17, \"1\": 7}, \"0\": {\"0\": 63, \"9\": 3, \"2\": 5, \"1\": 2, \"8\": 9, \"10\": 14, \"14\": 17, \"15\": 4, \"6\": 1, \"7\": 2}}}, \"per_domain_accuracy\": {\"8\": {\"accuracy\": 0.7041666666666667, \"source?\": true}, \"50\": {\"accuracy\": 0.83203125, \"source?\": true}, \"32\": {\"accuracy\": 0.7903645833333334, \"source?\": true}, \"14\": {\"accuracy\": 0.7145833333333333, \"source?\": false}, \"20\": {\"accuracy\": 0.48385416666666664, \"source?\": false}, \"44\": {\"accuracy\": 0.7802083333333333, \"source?\": false}, \"38\": {\"accuracy\": 0.8322916666666667, \"source?\": false}, \"26\": {\"accuracy\": 0.5661458333333333, \"source?\": false}}}, \"history\": {\"epoch_indices\": [1, 2, 3, 4, 5, 6, 7, 8], \"train_label_loss\": [0.9834594919981937, 0.7101728213684899, 0.5661590576053612, 0.4469816416176775, 0.3659555521985841, 0.3126999153001677, 0.2690296977536664, 0.2421490515534219], \"source_val_label_loss\": [1.245095133781433, 0.6913268566131592, 0.6329123377799988, 0.6018155813217163, 0.618964433670044, 0.664455235004425, 0.6429336071014404, 0.6849045157432556], \"target_val_label_loss\": [1.4132384061813354, 1.0417048931121826, 1.0091166496276855, 0.9574165344238281, 1.013029932975769, 1.0097904205322266, 1.0296447277069092, 1.0500296354293823], \"source_val_acc_label\": [0.6748263888888889, 0.734375, 0.7693576388888889, 0.7755208333333333, 0.7899305555555556, 0.7801215277777778, 0.7940972222222222, 0.7868055555555555], \"target_val_acc_label\": [0.6148958333333333, 0.634375, 0.6647916666666667, 0.6754166666666667, 0.695625, 0.6844791666666666, 0.6904166666666667, 0.6741666666666667]}, \"dataset_metrics\": {\"source\": {\"train\": {\"n_unique_x\": 67200, \"n_unique_y\": 16, \"n_batch/episode\": 2520}, \"val\": {\"n_unique_x\": 14400, \"n_unique_y\": 16, \"n_batch/episode\": 360}, \"test\": {\"n_unique_x\": 14400, \"n_unique_y\": 16, \"n_batch/episode\": 360}}, \"target\": {\"train\": {\"n_unique_x\": 56000, \"n_unique_y\": 16, \"n_batch/episode\": 2100}, \"val\": {\"n_unique_x\": 12000, \"n_unique_y\": 16, \"n_batch/episode\": 300}, \"test\": {\"n_unique_x\": 12000, \"n_unique_y\": 16, \"n_batch/episode\": 300}}}}'"
      ]
     },
     "execution_count": 20,
     "metadata": {},
     "output_type": "execute_result"
    }
   ],
   "source": [
    "json.dumps(experiment)"
   ]
  }
 ],
 "metadata": {
  "celltoolbar": "Tags",
  "kernelspec": {
   "display_name": "Python 3 (ipykernel)",
   "language": "python",
   "name": "python3"
  },
  "language_info": {
   "codemirror_mode": {
    "name": "ipython",
    "version": 3
   },
   "file_extension": ".py",
   "mimetype": "text/x-python",
   "name": "python",
   "nbconvert_exporter": "python",
   "pygments_lexer": "ipython3",
   "version": "3.8.10"
  },
  "papermill": {
   "default_parameters": {},
   "duration": 605.200138,
   "end_time": "2022-03-06T18:18:58.883753",
   "environment_variables": {},
   "exception": null,
   "input_path": "/mnt/wd500GB/CSC500/csc500-main/csc500-notebooks/templates/ptn_template.ipynb",
   "output_path": "trial.ipynb",
   "parameters": {
    "parameters": {
     "BEST_MODEL_PATH": "./best_model.pth",
     "NUM_LOGS_PER_EPOCH": 10,
     "criteria_for_best": "target_loss",
     "dataset_seed": 1337,
     "device": "cuda",
     "domains_source": [
      8,
      32,
      50
     ],
     "domains_target": [
      14,
      20,
      26,
      38,
      44
     ],
     "episode_transforms_source": [],
     "episode_transforms_target": [],
     "experiment_name": "tuned_1_oracle.run1_limited",
     "labels_source": [
      "3123D52",
      "3123D65",
      "3123D79",
      "3123D80",
      "3123D54",
      "3123D70",
      "3123D7B",
      "3123D89",
      "3123D58",
      "3123D76",
      "3123D7D",
      "3123EFE",
      "3123D64",
      "3123D78",
      "3123D7E",
      "3124E4A"
     ],
     "labels_target": [
      "3123D52",
      "3123D65",
      "3123D79",
      "3123D80",
      "3123D54",
      "3123D70",
      "3123D7B",
      "3123D89",
      "3123D58",
      "3123D76",
      "3123D7D",
      "3123EFE",
      "3123D64",
      "3123D78",
      "3123D7E",
      "3124E4A"
     ],
     "lr": 0.001,
     "n_epoch": 50,
     "n_query": 2,
     "n_shot": 3,
     "n_way": 16,
     "num_examples_per_domain_per_label_source": 2000,
     "num_examples_per_domain_per_label_target": 1000,
     "patience": 3,
     "pickle_name": "oracle.Run1_10kExamples_stratified_ds.2022A.pkl",
     "seed": 1337,
     "test_k_factor": 2,
     "torch_default_dtype": "torch.float32",
     "train_k_factor": 3,
     "val_k_factor": 2,
     "x_net": [
      {
       "class": "nnReshape",
       "kargs": {
        "shape": [
         -1,
         1,
         2,
         256
        ]
       }
      },
      {
       "class": "Conv2d",
       "kargs": {
        "bias": false,
        "in_channels": 1,
        "kernel_size": [
         1,
         7
        ],
        "out_channels": 256,
        "padding": [
         0,
         3
        ]
       }
      },
      {
       "class": "ReLU",
       "kargs": {
        "inplace": true
       }
      },
      {
       "class": "BatchNorm2d",
       "kargs": {
        "num_features": 256
       }
      },
      {
       "class": "Conv2d",
       "kargs": {
        "bias": true,
        "in_channels": 256,
        "kernel_size": [
         2,
         7
        ],
        "out_channels": 80,
        "padding": [
         0,
         3
        ]
       }
      },
      {
       "class": "ReLU",
       "kargs": {
        "inplace": true
       }
      },
      {
       "class": "BatchNorm2d",
       "kargs": {
        "num_features": 80
       }
      },
      {
       "class": "Flatten",
       "kargs": {}
      },
      {
       "class": "Linear",
       "kargs": {
        "in_features": 20480,
        "out_features": 256
       }
      },
      {
       "class": "ReLU",
       "kargs": {
        "inplace": true
       }
      },
      {
       "class": "BatchNorm1d",
       "kargs": {
        "num_features": 256
       }
      },
      {
       "class": "Linear",
       "kargs": {
        "in_features": 256,
        "out_features": 256
       }
      }
     ],
     "x_transforms_source": [],
     "x_transforms_target": []
    }
   },
   "start_time": "2022-03-06T18:08:53.683615",
   "version": "2.3.4"
  }
 },
 "nbformat": 4,
 "nbformat_minor": 5
}