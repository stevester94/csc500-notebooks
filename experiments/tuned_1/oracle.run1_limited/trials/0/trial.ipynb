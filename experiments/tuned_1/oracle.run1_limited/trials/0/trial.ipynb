{
 "cells": [
  {
   "cell_type": "markdown",
   "id": "9fea5f46",
   "metadata": {
    "papermill": {
     "duration": 0.013802,
     "end_time": "2022-03-06T17:59:41.352259",
     "exception": false,
     "start_time": "2022-03-06T17:59:41.338457",
     "status": "completed"
    },
    "tags": []
   },
   "source": [
    "# PTN Template\n",
    "This notebook serves as a template for single dataset PTN experiments  \n",
    "It can be run on its own by setting STANDALONE to True (do a find for \"STANDALONE\" to see where)  \n",
    "But it is intended to be executed as part of a *papermill.py script. See any of the   \n",
    "experimentes with a papermill script to get started with that workflow.  "
   ]
  },
  {
   "cell_type": "code",
   "execution_count": 1,
   "id": "0902182a",
   "metadata": {
    "execution": {
     "iopub.execute_input": "2022-03-06T17:59:41.384966Z",
     "iopub.status.busy": "2022-03-06T17:59:41.382747Z",
     "iopub.status.idle": "2022-03-06T17:59:42.115715Z",
     "shell.execute_reply": "2022-03-06T17:59:42.115362Z"
    },
    "papermill": {
     "duration": 0.754261,
     "end_time": "2022-03-06T17:59:42.115788",
     "exception": false,
     "start_time": "2022-03-06T17:59:41.361527",
     "status": "completed"
    },
    "tags": []
   },
   "outputs": [],
   "source": [
    "%load_ext autoreload\n",
    "%autoreload 2\n",
    "%matplotlib inline\n",
    "\n",
    "    \n",
    "import os, json, sys, time, random\n",
    "import numpy as np\n",
    "import torch\n",
    "from torch.optim import Adam\n",
    "from  easydict import EasyDict\n",
    "import matplotlib.pyplot as plt\n",
    "\n",
    "from steves_models.steves_ptn import Steves_Prototypical_Network\n",
    "\n",
    "from steves_utils.lazy_iterable_wrapper import Lazy_Iterable_Wrapper\n",
    "from steves_utils.iterable_aggregator import Iterable_Aggregator\n",
    "from steves_utils.ptn_train_eval_test_jig import  PTN_Train_Eval_Test_Jig\n",
    "from steves_utils.torch_sequential_builder import build_sequential\n",
    "from steves_utils.torch_utils import get_dataset_metrics, ptn_confusion_by_domain_over_dataloader\n",
    "from steves_utils.utils_v2 import (per_domain_accuracy_from_confusion, get_datasets_base_path)\n",
    "from steves_utils.PTN.utils import independent_accuracy_assesment\n",
    "\n",
    "from steves_utils.stratified_dataset.episodic_accessor import Episodic_Accessor_Factory\n",
    "\n",
    "from steves_utils.ptn_do_report import (\n",
    "    get_loss_curve,\n",
    "    get_results_table,\n",
    "    get_parameters_table,\n",
    "    get_domain_accuracies,\n",
    ")\n",
    "\n",
    "from steves_utils.transforms import get_chained_transform"
   ]
  },
  {
   "cell_type": "markdown",
   "id": "41c840b4",
   "metadata": {
    "papermill": {
     "duration": 0.009176,
     "end_time": "2022-03-06T17:59:42.136682",
     "exception": false,
     "start_time": "2022-03-06T17:59:42.127506",
     "status": "completed"
    },
    "tags": []
   },
   "source": [
    "# Required Parameters\n",
    "These are allowed parameters, not defaults\n",
    "Each of these values need to be present in the injected parameters (the notebook will raise an exception if they are not present)\n",
    "\n",
    "Papermill uses the cell tag \"parameters\" to inject the real parameters below this cell.\n",
    "Enable tags to see what I mean"
   ]
  },
  {
   "cell_type": "code",
   "execution_count": 2,
   "id": "fd44eb83",
   "metadata": {
    "execution": {
     "iopub.execute_input": "2022-03-06T17:59:42.158035Z",
     "iopub.status.busy": "2022-03-06T17:59:42.157603Z",
     "iopub.status.idle": "2022-03-06T17:59:42.167440Z",
     "shell.execute_reply": "2022-03-06T17:59:42.167164Z"
    },
    "papermill": {
     "duration": 0.021496,
     "end_time": "2022-03-06T17:59:42.167500",
     "exception": false,
     "start_time": "2022-03-06T17:59:42.146004",
     "status": "completed"
    },
    "tags": []
   },
   "outputs": [],
   "source": [
    "required_parameters = {\n",
    "    \"experiment_name\",\n",
    "    \"lr\",\n",
    "    \"device\",\n",
    "    \"seed\",\n",
    "    \"dataset_seed\",\n",
    "    \"labels_source\",\n",
    "    \"labels_target\",\n",
    "    \"domains_source\",\n",
    "    \"domains_target\",\n",
    "    \"num_examples_per_domain_per_label_source\",\n",
    "    \"num_examples_per_domain_per_label_target\",\n",
    "    \"n_shot\",\n",
    "    \"n_way\",\n",
    "    \"n_query\",\n",
    "    \"train_k_factor\",\n",
    "    \"val_k_factor\",\n",
    "    \"test_k_factor\",\n",
    "    \"n_epoch\",\n",
    "    \"patience\",\n",
    "    \"criteria_for_best\",\n",
    "    \"x_transforms_source\",\n",
    "    \"x_transforms_target\",\n",
    "    \"episode_transforms_source\",\n",
    "    \"episode_transforms_target\",\n",
    "    \"pickle_name\",\n",
    "    \"x_net\",\n",
    "    \"NUM_LOGS_PER_EPOCH\",\n",
    "    \"BEST_MODEL_PATH\",\n",
    "    \"torch_default_dtype\"\n",
    "}"
   ]
  },
  {
   "cell_type": "code",
   "execution_count": 3,
   "id": "fa3f0049",
   "metadata": {
    "execution": {
     "iopub.execute_input": "2022-03-06T17:59:42.192611Z",
     "iopub.status.busy": "2022-03-06T17:59:42.192145Z",
     "iopub.status.idle": "2022-03-06T17:59:42.203689Z",
     "shell.execute_reply": "2022-03-06T17:59:42.203413Z"
    },
    "papermill": {
     "duration": 0.026829,
     "end_time": "2022-03-06T17:59:42.203750",
     "exception": false,
     "start_time": "2022-03-06T17:59:42.176921",
     "status": "completed"
    },
    "tags": [
     "parameters"
    ]
   },
   "outputs": [],
   "source": [
    "\n",
    "\n",
    "standalone_parameters = {}\n",
    "standalone_parameters[\"experiment_name\"] = \"STANDALONE PTN\"\n",
    "standalone_parameters[\"lr\"] = 0.0001\n",
    "standalone_parameters[\"device\"] = \"cuda\"\n",
    "\n",
    "standalone_parameters[\"seed\"] = 1337\n",
    "standalone_parameters[\"dataset_seed\"] = 1337\n",
    "\n",
    "\n",
    "standalone_parameters[\"num_examples_per_domain_per_label_source\"]=100\n",
    "standalone_parameters[\"num_examples_per_domain_per_label_target\"]=100\n",
    "\n",
    "standalone_parameters[\"n_shot\"] = 3\n",
    "standalone_parameters[\"n_query\"]  = 2\n",
    "standalone_parameters[\"train_k_factor\"] = 1\n",
    "standalone_parameters[\"val_k_factor\"] = 2\n",
    "standalone_parameters[\"test_k_factor\"] = 2\n",
    "\n",
    "\n",
    "standalone_parameters[\"n_epoch\"] = 100\n",
    "\n",
    "standalone_parameters[\"patience\"] = 10\n",
    "standalone_parameters[\"criteria_for_best\"] = \"target_accuracy\"\n",
    "\n",
    "standalone_parameters[\"x_transforms_source\"] = [\"unit_power\"]\n",
    "standalone_parameters[\"x_transforms_target\"] = [\"unit_power\"]\n",
    "standalone_parameters[\"episode_transforms_source\"] = []\n",
    "standalone_parameters[\"episode_transforms_target\"] = []\n",
    "\n",
    "standalone_parameters[\"torch_default_dtype\"] = \"torch.float32\" \n",
    "\n",
    "\n",
    "\n",
    "standalone_parameters[\"x_net\"] =     [\n",
    "    {\"class\": \"nnReshape\", \"kargs\": {\"shape\":[-1, 1, 2, 256]}},\n",
    "    {\"class\": \"Conv2d\", \"kargs\": { \"in_channels\":1, \"out_channels\":256, \"kernel_size\":(1,7), \"bias\":False, \"padding\":(0,3), },},\n",
    "    {\"class\": \"ReLU\", \"kargs\": {\"inplace\": True}},\n",
    "    {\"class\": \"BatchNorm2d\", \"kargs\": {\"num_features\":256}},\n",
    "\n",
    "    {\"class\": \"Conv2d\", \"kargs\": { \"in_channels\":256, \"out_channels\":80, \"kernel_size\":(2,7), \"bias\":True, \"padding\":(0,3), },},\n",
    "    {\"class\": \"ReLU\", \"kargs\": {\"inplace\": True}},\n",
    "    {\"class\": \"BatchNorm2d\", \"kargs\": {\"num_features\":80}},\n",
    "    {\"class\": \"Flatten\", \"kargs\": {}},\n",
    "\n",
    "    {\"class\": \"Linear\", \"kargs\": {\"in_features\": 80*256, \"out_features\": 256}}, # 80 units per IQ pair\n",
    "    {\"class\": \"ReLU\", \"kargs\": {\"inplace\": True}},\n",
    "    {\"class\": \"BatchNorm1d\", \"kargs\": {\"num_features\":256}},\n",
    "\n",
    "    {\"class\": \"Linear\", \"kargs\": {\"in_features\": 256, \"out_features\": 256}},\n",
    "]\n",
    "\n",
    "# Parameters relevant to results\n",
    "# These parameters will basically never need to change\n",
    "standalone_parameters[\"NUM_LOGS_PER_EPOCH\"] = 10\n",
    "standalone_parameters[\"BEST_MODEL_PATH\"] = \"./best_model.pth\"\n",
    "\n",
    "# uncomment for CORES dataset\n",
    "from steves_utils.CORES.utils import (\n",
    "    ALL_NODES,\n",
    "    ALL_NODES_MINIMUM_1000_EXAMPLES,\n",
    "    ALL_DAYS\n",
    ")\n",
    "\n",
    "\n",
    "standalone_parameters[\"labels_source\"] = ALL_NODES\n",
    "standalone_parameters[\"labels_target\"] = ALL_NODES\n",
    "\n",
    "standalone_parameters[\"domains_source\"] = [1]\n",
    "standalone_parameters[\"domains_target\"] = [2,3,4,5]\n",
    "\n",
    "standalone_parameters[\"pickle_name\"] = \"cores.stratified_ds.2022A.pkl\"\n",
    "\n",
    "\n",
    "# Uncomment these for ORACLE dataset\n",
    "# from steves_utils.ORACLE.utils_v2 import (\n",
    "#     ALL_DISTANCES_FEET,\n",
    "#     ALL_RUNS,\n",
    "#     ALL_SERIAL_NUMBERS,\n",
    "# )\n",
    "# standalone_parameters[\"labels_source\"] = ALL_SERIAL_NUMBERS\n",
    "# standalone_parameters[\"labels_target\"] = ALL_SERIAL_NUMBERS\n",
    "# standalone_parameters[\"domains_source\"] = [8,20, 38,50]\n",
    "# standalone_parameters[\"domains_target\"] = [14, 26, 32, 44, 56]\n",
    "# standalone_parameters[\"pickle_name\"] = \"oracle.frame_indexed.stratified_ds.2022A.pkl\"\n",
    "# standalone_parameters[\"num_examples_per_domain_per_label_source\"]=1000\n",
    "# standalone_parameters[\"num_examples_per_domain_per_label_target\"]=1000\n",
    "\n",
    "# Uncomment these for Metahan dataset\n",
    "# standalone_parameters[\"labels_source\"] = list(range(19))\n",
    "# standalone_parameters[\"labels_target\"] = list(range(19))\n",
    "# standalone_parameters[\"domains_source\"] = [0]\n",
    "# standalone_parameters[\"domains_target\"] = [1]\n",
    "# standalone_parameters[\"pickle_name\"] = \"metehan.stratified_ds.2022A.pkl\"\n",
    "# standalone_parameters[\"n_way\"]  = len(standalone_parameters[\"labels_source\"])\n",
    "# standalone_parameters[\"num_examples_per_domain_per_label_source\"]=200\n",
    "# standalone_parameters[\"num_examples_per_domain_per_label_target\"]=100\n",
    "\n",
    "\n",
    "standalone_parameters[\"n_way\"]  = len(standalone_parameters[\"labels_source\"])"
   ]
  },
  {
   "cell_type": "code",
   "execution_count": 4,
   "id": "4678965c",
   "metadata": {
    "execution": {
     "iopub.execute_input": "2022-03-06T17:59:42.227735Z",
     "iopub.status.busy": "2022-03-06T17:59:42.227279Z",
     "iopub.status.idle": "2022-03-06T17:59:42.238136Z",
     "shell.execute_reply": "2022-03-06T17:59:42.237659Z"
    },
    "papermill": {
     "duration": 0.025087,
     "end_time": "2022-03-06T17:59:42.238241",
     "exception": false,
     "start_time": "2022-03-06T17:59:42.213154",
     "status": "completed"
    },
    "tags": [
     "injected-parameters"
    ]
   },
   "outputs": [],
   "source": [
    "# Parameters\n",
    "parameters = {\n",
    "    \"experiment_name\": \"tuned_1_oracle.run1_limited\",\n",
    "    \"device\": \"cuda\",\n",
    "    \"lr\": 0.001,\n",
    "    \"seed\": 1337,\n",
    "    \"dataset_seed\": 1337,\n",
    "    \"labels_source\": [\n",
    "        \"3123D52\",\n",
    "        \"3123D65\",\n",
    "        \"3123D79\",\n",
    "        \"3123D80\",\n",
    "        \"3123D54\",\n",
    "        \"3123D70\",\n",
    "        \"3123D7B\",\n",
    "        \"3123D89\",\n",
    "        \"3123D58\",\n",
    "        \"3123D76\",\n",
    "        \"3123D7D\",\n",
    "        \"3123EFE\",\n",
    "        \"3123D64\",\n",
    "        \"3123D78\",\n",
    "        \"3123D7E\",\n",
    "        \"3124E4A\",\n",
    "    ],\n",
    "    \"labels_target\": [\n",
    "        \"3123D52\",\n",
    "        \"3123D65\",\n",
    "        \"3123D79\",\n",
    "        \"3123D80\",\n",
    "        \"3123D54\",\n",
    "        \"3123D70\",\n",
    "        \"3123D7B\",\n",
    "        \"3123D89\",\n",
    "        \"3123D58\",\n",
    "        \"3123D76\",\n",
    "        \"3123D7D\",\n",
    "        \"3123EFE\",\n",
    "        \"3123D64\",\n",
    "        \"3123D78\",\n",
    "        \"3123D7E\",\n",
    "        \"3124E4A\",\n",
    "    ],\n",
    "    \"x_transforms_source\": [\"unit_mag\"],\n",
    "    \"x_transforms_target\": [\"unit_mag\"],\n",
    "    \"episode_transforms_source\": [],\n",
    "    \"episode_transforms_target\": [],\n",
    "    \"domains_source\": [8, 32, 50],\n",
    "    \"domains_target\": [14, 20, 26, 38, 44],\n",
    "    \"num_examples_per_domain_per_label_source\": 2000,\n",
    "    \"num_examples_per_domain_per_label_target\": 1000,\n",
    "    \"n_shot\": 3,\n",
    "    \"n_way\": 16,\n",
    "    \"n_query\": 2,\n",
    "    \"train_k_factor\": 3,\n",
    "    \"val_k_factor\": 2,\n",
    "    \"test_k_factor\": 2,\n",
    "    \"torch_default_dtype\": \"torch.float32\",\n",
    "    \"n_epoch\": 50,\n",
    "    \"patience\": 3,\n",
    "    \"criteria_for_best\": \"target_loss\",\n",
    "    \"x_net\": [\n",
    "        {\"class\": \"nnReshape\", \"kargs\": {\"shape\": [-1, 1, 2, 256]}},\n",
    "        {\n",
    "            \"class\": \"Conv2d\",\n",
    "            \"kargs\": {\n",
    "                \"in_channels\": 1,\n",
    "                \"out_channels\": 256,\n",
    "                \"kernel_size\": [1, 7],\n",
    "                \"bias\": False,\n",
    "                \"padding\": [0, 3],\n",
    "            },\n",
    "        },\n",
    "        {\"class\": \"ReLU\", \"kargs\": {\"inplace\": True}},\n",
    "        {\"class\": \"BatchNorm2d\", \"kargs\": {\"num_features\": 256}},\n",
    "        {\n",
    "            \"class\": \"Conv2d\",\n",
    "            \"kargs\": {\n",
    "                \"in_channels\": 256,\n",
    "                \"out_channels\": 80,\n",
    "                \"kernel_size\": [2, 7],\n",
    "                \"bias\": True,\n",
    "                \"padding\": [0, 3],\n",
    "            },\n",
    "        },\n",
    "        {\"class\": \"ReLU\", \"kargs\": {\"inplace\": True}},\n",
    "        {\"class\": \"BatchNorm2d\", \"kargs\": {\"num_features\": 80}},\n",
    "        {\"class\": \"Flatten\", \"kargs\": {}},\n",
    "        {\"class\": \"Linear\", \"kargs\": {\"in_features\": 20480, \"out_features\": 256}},\n",
    "        {\"class\": \"ReLU\", \"kargs\": {\"inplace\": True}},\n",
    "        {\"class\": \"BatchNorm1d\", \"kargs\": {\"num_features\": 256}},\n",
    "        {\"class\": \"Linear\", \"kargs\": {\"in_features\": 256, \"out_features\": 256}},\n",
    "    ],\n",
    "    \"NUM_LOGS_PER_EPOCH\": 10,\n",
    "    \"BEST_MODEL_PATH\": \"./best_model.pth\",\n",
    "    \"pickle_name\": \"oracle.Run1_10kExamples_stratified_ds.2022A.pkl\",\n",
    "}\n"
   ]
  },
  {
   "cell_type": "code",
   "execution_count": 5,
   "id": "8fa1cc33",
   "metadata": {
    "execution": {
     "iopub.execute_input": "2022-03-06T17:59:42.265264Z",
     "iopub.status.busy": "2022-03-06T17:59:42.264995Z",
     "iopub.status.idle": "2022-03-06T17:59:42.279716Z",
     "shell.execute_reply": "2022-03-06T17:59:42.279305Z"
    },
    "papermill": {
     "duration": 0.027553,
     "end_time": "2022-03-06T17:59:42.279819",
     "exception": false,
     "start_time": "2022-03-06T17:59:42.252266",
     "status": "completed"
    },
    "tags": []
   },
   "outputs": [],
   "source": [
    "# Set this to True if you want to run this template directly\n",
    "STANDALONE = False\n",
    "if STANDALONE:\n",
    "    print(\"parameters not injected, running with standalone_parameters\")\n",
    "    parameters = standalone_parameters\n",
    "\n",
    "if not 'parameters' in locals() and not 'parameters' in globals():\n",
    "    raise Exception(\"Parameter injection failed\")\n",
    "\n",
    "#Use an easy dict for all the parameters\n",
    "p = EasyDict(parameters)\n",
    "\n",
    "supplied_keys = set(p.keys())\n",
    "\n",
    "if  supplied_keys != required_parameters:\n",
    "    print(\"Parameters are incorrect\")\n",
    "    if len(supplied_keys - required_parameters)>0: print(\"Shouldn't have:\", str(supplied_keys - required_parameters))\n",
    "    if len(required_parameters - supplied_keys)>0: print(\"Need to have:\", str(required_parameters - supplied_keys))\n",
    "    raise RuntimeError(\"Parameters are incorrect\")\n",
    "\n"
   ]
  },
  {
   "cell_type": "code",
   "execution_count": 6,
   "id": "3a028d58",
   "metadata": {
    "execution": {
     "iopub.execute_input": "2022-03-06T17:59:42.306938Z",
     "iopub.status.busy": "2022-03-06T17:59:42.306087Z",
     "iopub.status.idle": "2022-03-06T17:59:42.320016Z",
     "shell.execute_reply": "2022-03-06T17:59:42.320425Z"
    },
    "papermill": {
     "duration": 0.025232,
     "end_time": "2022-03-06T17:59:42.320546",
     "exception": false,
     "start_time": "2022-03-06T17:59:42.295314",
     "status": "completed"
    },
    "tags": []
   },
   "outputs": [],
   "source": [
    "###################################\n",
    "# Set the RNGs and make it all deterministic\n",
    "###################################\n",
    "np.random.seed(p.seed)\n",
    "random.seed(p.seed)\n",
    "torch.manual_seed(p.seed)\n",
    "\n",
    "torch.use_deterministic_algorithms(True) "
   ]
  },
  {
   "cell_type": "code",
   "execution_count": 7,
   "id": "b691acf6",
   "metadata": {
    "execution": {
     "iopub.execute_input": "2022-03-06T17:59:42.346896Z",
     "iopub.status.busy": "2022-03-06T17:59:42.346365Z",
     "iopub.status.idle": "2022-03-06T17:59:42.359561Z",
     "shell.execute_reply": "2022-03-06T17:59:42.359868Z"
    },
    "papermill": {
     "duration": 0.024423,
     "end_time": "2022-03-06T17:59:42.359961",
     "exception": false,
     "start_time": "2022-03-06T17:59:42.335538",
     "status": "completed"
    },
    "tags": []
   },
   "outputs": [],
   "source": [
    "###########################################\n",
    "# The stratified datasets honor this\n",
    "###########################################\n",
    "torch.set_default_dtype(eval(p.torch_default_dtype))"
   ]
  },
  {
   "cell_type": "code",
   "execution_count": 8,
   "id": "b5fba671",
   "metadata": {
    "execution": {
     "iopub.execute_input": "2022-03-06T17:59:42.385723Z",
     "iopub.status.busy": "2022-03-06T17:59:42.385454Z",
     "iopub.status.idle": "2022-03-06T17:59:42.423993Z",
     "shell.execute_reply": "2022-03-06T17:59:42.424421Z"
    },
    "papermill": {
     "duration": 0.050658,
     "end_time": "2022-03-06T17:59:42.424556",
     "exception": false,
     "start_time": "2022-03-06T17:59:42.373898",
     "status": "completed"
    },
    "tags": []
   },
   "outputs": [],
   "source": [
    "###################################\n",
    "# Build the network(s)\n",
    "# Note: It's critical to do this AFTER setting the RNG\n",
    "# (This is due to the randomized initial weights)\n",
    "###################################\n",
    "x_net = build_sequential(p.x_net)"
   ]
  },
  {
   "cell_type": "code",
   "execution_count": 9,
   "id": "5d7e61cc",
   "metadata": {
    "execution": {
     "iopub.execute_input": "2022-03-06T17:59:42.453076Z",
     "iopub.status.busy": "2022-03-06T17:59:42.452397Z",
     "iopub.status.idle": "2022-03-06T17:59:42.465883Z",
     "shell.execute_reply": "2022-03-06T17:59:42.466188Z"
    },
    "papermill": {
     "duration": 0.024783,
     "end_time": "2022-03-06T17:59:42.466281",
     "exception": false,
     "start_time": "2022-03-06T17:59:42.441498",
     "status": "completed"
    },
    "tags": []
   },
   "outputs": [],
   "source": [
    "start_time_secs = time.time()"
   ]
  },
  {
   "cell_type": "code",
   "execution_count": 10,
   "id": "fd5442bc",
   "metadata": {
    "execution": {
     "iopub.execute_input": "2022-03-06T17:59:42.498923Z",
     "iopub.status.busy": "2022-03-06T17:59:42.491601Z",
     "iopub.status.idle": "2022-03-06T18:00:07.563742Z",
     "shell.execute_reply": "2022-03-06T18:00:07.563262Z"
    },
    "papermill": {
     "duration": 25.08327,
     "end_time": "2022-03-06T18:00:07.563850",
     "exception": false,
     "start_time": "2022-03-06T17:59:42.480580",
     "status": "completed"
    },
    "tags": []
   },
   "outputs": [],
   "source": [
    "###################################\n",
    "# Build the dataset\n",
    "###################################\n",
    "\n",
    "if p.x_transforms_source == []: x_transform_source = None\n",
    "else: x_transform_source = get_chained_transform(p.x_transforms_source) \n",
    "\n",
    "if p.x_transforms_target == []: x_transform_target = None\n",
    "else: x_transform_target = get_chained_transform(p.x_transforms_target)\n",
    "\n",
    "if p.episode_transforms_source == []: episode_transform_source = None\n",
    "else: raise Exception(\"episode_transform_source not implemented\")\n",
    "\n",
    "if p.episode_transforms_target == []: episode_transform_target = None\n",
    "else: raise Exception(\"episode_transform_target not implemented\")\n",
    "\n",
    "\n",
    "eaf_source = Episodic_Accessor_Factory(\n",
    "    labels=p.labels_source,\n",
    "    domains=p.domains_source,\n",
    "    num_examples_per_domain_per_label=p.num_examples_per_domain_per_label_source,\n",
    "    iterator_seed=p.seed,\n",
    "    dataset_seed=p.dataset_seed,\n",
    "    n_shot=p.n_shot,\n",
    "    n_way=p.n_way,\n",
    "    n_query=p.n_query,\n",
    "    train_val_test_k_factors=(p.train_k_factor,p.val_k_factor,p.test_k_factor),\n",
    "    pickle_path=os.path.join(get_datasets_base_path(), p.pickle_name),\n",
    "    x_transform_func=x_transform_source,\n",
    "    example_transform_func=episode_transform_source,\n",
    "    \n",
    ")\n",
    "train_original_source, val_original_source, test_original_source = eaf_source.get_train(), eaf_source.get_val(), eaf_source.get_test()\n",
    "\n",
    "\n",
    "eaf_target = Episodic_Accessor_Factory(\n",
    "    labels=p.labels_target,\n",
    "    domains=p.domains_target,\n",
    "    num_examples_per_domain_per_label=p.num_examples_per_domain_per_label_target,\n",
    "    iterator_seed=p.seed,\n",
    "    dataset_seed=p.dataset_seed,\n",
    "    n_shot=p.n_shot,\n",
    "    n_way=p.n_way,\n",
    "    n_query=p.n_query,\n",
    "    train_val_test_k_factors=(p.train_k_factor,p.val_k_factor,p.test_k_factor),\n",
    "    pickle_path=os.path.join(get_datasets_base_path(), p.pickle_name),\n",
    "    x_transform_func=x_transform_target,\n",
    "    example_transform_func=episode_transform_target,\n",
    ")\n",
    "train_original_target, val_original_target, test_original_target = eaf_target.get_train(), eaf_target.get_val(), eaf_target.get_test()\n",
    "\n",
    "\n",
    "transform_lambda = lambda ex: ex[1] # Original is (<domain>, <episode>) so we strip down to episode only\n",
    "\n",
    "train_processed_source = Lazy_Iterable_Wrapper(train_original_source, transform_lambda)\n",
    "val_processed_source   = Lazy_Iterable_Wrapper(val_original_source, transform_lambda)\n",
    "test_processed_source  = Lazy_Iterable_Wrapper(test_original_source, transform_lambda)\n",
    "\n",
    "train_processed_target = Lazy_Iterable_Wrapper(train_original_target, transform_lambda)\n",
    "val_processed_target   = Lazy_Iterable_Wrapper(val_original_target, transform_lambda)\n",
    "test_processed_target  = Lazy_Iterable_Wrapper(test_original_target, transform_lambda)\n",
    "\n",
    "datasets = EasyDict({\n",
    "    \"source\": {\n",
    "        \"original\": {\"train\":train_original_source, \"val\":val_original_source, \"test\":test_original_source},\n",
    "        \"processed\": {\"train\":train_processed_source, \"val\":val_processed_source, \"test\":test_processed_source}\n",
    "    },\n",
    "    \"target\": {\n",
    "        \"original\": {\"train\":train_original_target, \"val\":val_original_target, \"test\":test_original_target},\n",
    "        \"processed\": {\"train\":train_processed_target, \"val\":val_processed_target, \"test\":test_processed_target}\n",
    "    },\n",
    "})"
   ]
  },
  {
   "cell_type": "code",
   "execution_count": 11,
   "id": "296189d9",
   "metadata": {
    "execution": {
     "iopub.execute_input": "2022-03-06T18:00:07.592093Z",
     "iopub.status.busy": "2022-03-06T18:00:07.591820Z",
     "iopub.status.idle": "2022-03-06T18:00:09.220099Z",
     "shell.execute_reply": "2022-03-06T18:00:09.220642Z"
    },
    "papermill": {
     "duration": 1.641128,
     "end_time": "2022-03-06T18:00:09.220785",
     "exception": false,
     "start_time": "2022-03-06T18:00:07.579657",
     "status": "completed"
    },
    "tags": []
   },
   "outputs": [
    {
     "name": "stdout",
     "output_type": "stream",
     "text": [
      "Visually inspect these to see if they line up with expected values given the transforms\n",
      "x_transforms_source ['unit_mag']\n",
      "x_transforms_target ['unit_mag']\n",
      "Average magnitude, source: 1.0\n",
      "Average power, source: 1.2759831\n"
     ]
    },
    {
     "name": "stdout",
     "output_type": "stream",
     "text": [
      "Average magnitude, target: 1.0\n",
      "Average power, target: 1.2837002\n"
     ]
    }
   ],
   "source": [
    "# Some quick unit tests on the data\n",
    "from steves_utils.transforms import get_average_power, get_average_magnitude\n",
    "\n",
    "q_x, q_y, s_x, s_y, truth = next(iter(train_processed_source))\n",
    "\n",
    "assert q_x.dtype == eval(p.torch_default_dtype)\n",
    "assert s_x.dtype == eval(p.torch_default_dtype)\n",
    "\n",
    "print(\"Visually inspect these to see if they line up with expected values given the transforms\")\n",
    "print('x_transforms_source', p.x_transforms_source)\n",
    "print('x_transforms_target', p.x_transforms_target)\n",
    "print(\"Average magnitude, source:\", get_average_magnitude(q_x[0].numpy()))\n",
    "print(\"Average power, source:\", get_average_power(q_x[0].numpy()))\n",
    "\n",
    "q_x, q_y, s_x, s_y, truth = next(iter(train_processed_target))\n",
    "print(\"Average magnitude, target:\", get_average_magnitude(q_x[0].numpy()))\n",
    "print(\"Average power, target:\", get_average_power(q_x[0].numpy()))\n"
   ]
  },
  {
   "cell_type": "code",
   "execution_count": 12,
   "id": "bbdacba1",
   "metadata": {
    "execution": {
     "iopub.execute_input": "2022-03-06T18:00:09.252260Z",
     "iopub.status.busy": "2022-03-06T18:00:09.251979Z",
     "iopub.status.idle": "2022-03-06T18:00:09.312513Z",
     "shell.execute_reply": "2022-03-06T18:00:09.312243Z"
    },
    "papermill": {
     "duration": 0.076611,
     "end_time": "2022-03-06T18:00:09.312576",
     "exception": false,
     "start_time": "2022-03-06T18:00:09.235965",
     "status": "completed"
    },
    "tags": []
   },
   "outputs": [
    {
     "name": "stdout",
     "output_type": "stream",
     "text": [
      "(2, 256)\n"
     ]
    }
   ],
   "source": [
    "###################################\n",
    "# Build the model\n",
    "###################################\n",
    "model = Steves_Prototypical_Network(x_net, device=p.device, x_shape=(2,256))\n",
    "optimizer = Adam(params=model.parameters(), lr=p.lr)"
   ]
  },
  {
   "cell_type": "code",
   "execution_count": 13,
   "id": "22b39ac5",
   "metadata": {
    "execution": {
     "iopub.execute_input": "2022-03-06T18:00:09.341177Z",
     "iopub.status.busy": "2022-03-06T18:00:09.340894Z",
     "iopub.status.idle": "2022-03-06T18:08:17.093288Z",
     "shell.execute_reply": "2022-03-06T18:08:17.093044Z"
    },
    "papermill": {
     "duration": 487.76696,
     "end_time": "2022-03-06T18:08:17.093353",
     "exception": false,
     "start_time": "2022-03-06T18:00:09.326393",
     "status": "completed"
    },
    "tags": []
   },
   "outputs": [
    {
     "name": "stdout",
     "output_type": "stream",
     "text": [
      "epoch: 1, [batch: 1 / 2520], examples_per_second: 124.3954, train_label_loss: 2.7853, \n"
     ]
    },
    {
     "name": "stdout",
     "output_type": "stream",
     "text": [
      "epoch: 1, [batch: 252 / 2520], examples_per_second: 3145.5899, train_label_loss: 2.5907, \n"
     ]
    },
    {
     "name": "stdout",
     "output_type": "stream",
     "text": [
      "epoch: 1, [batch: 504 / 2520], examples_per_second: 3213.4608, train_label_loss: 1.9497, \n"
     ]
    },
    {
     "name": "stdout",
     "output_type": "stream",
     "text": [
      "epoch: 1, [batch: 756 / 2520], examples_per_second: 3126.5912, train_label_loss: 1.4360, \n"
     ]
    },
    {
     "name": "stdout",
     "output_type": "stream",
     "text": [
      "epoch: 1, [batch: 1008 / 2520], examples_per_second: 3163.2265, train_label_loss: 1.4419, \n"
     ]
    },
    {
     "name": "stdout",
     "output_type": "stream",
     "text": [
      "epoch: 1, [batch: 1260 / 2520], examples_per_second: 3091.0754, train_label_loss: 1.3425, \n"
     ]
    },
    {
     "name": "stdout",
     "output_type": "stream",
     "text": [
      "epoch: 1, [batch: 1512 / 2520], examples_per_second: 3055.4453, train_label_loss: 1.2644, \n"
     ]
    },
    {
     "name": "stdout",
     "output_type": "stream",
     "text": [
      "epoch: 1, [batch: 1764 / 2520], examples_per_second: 3085.2806, train_label_loss: 1.1010, \n"
     ]
    },
    {
     "name": "stdout",
     "output_type": "stream",
     "text": [
      "epoch: 1, [batch: 2016 / 2520], examples_per_second: 3092.2801, train_label_loss: 1.0200, \n"
     ]
    },
    {
     "name": "stdout",
     "output_type": "stream",
     "text": [
      "epoch: 1, [batch: 2268 / 2520], examples_per_second: 3013.7423, train_label_loss: 1.0823, \n"
     ]
    },
    {
     "name": "stdout",
     "output_type": "stream",
     "text": [
      "=============================================================\n",
      "epoch: 1, source_val_acc_label: 0.4964, target_val_acc_label: 0.4014, source_val_label_loss: 1.3994, target_val_label_loss: 1.6565, \n",
      "=============================================================\n"
     ]
    },
    {
     "name": "stdout",
     "output_type": "stream",
     "text": [
      "New best\n"
     ]
    },
    {
     "name": "stdout",
     "output_type": "stream",
     "text": [
      "epoch: 2, [batch: 1 / 2520], examples_per_second: 12.5963, train_label_loss: 0.9409, \n"
     ]
    },
    {
     "name": "stdout",
     "output_type": "stream",
     "text": [
      "epoch: 2, [batch: 252 / 2520], examples_per_second: 3085.6565, train_label_loss: 1.1424, \n"
     ]
    },
    {
     "name": "stdout",
     "output_type": "stream",
     "text": [
      "epoch: 2, [batch: 504 / 2520], examples_per_second: 3107.8482, train_label_loss: 1.1497, \n"
     ]
    },
    {
     "name": "stdout",
     "output_type": "stream",
     "text": [
      "epoch: 2, [batch: 756 / 2520], examples_per_second: 3066.5163, train_label_loss: 1.0410, \n"
     ]
    },
    {
     "name": "stdout",
     "output_type": "stream",
     "text": [
      "epoch: 2, [batch: 1008 / 2520], examples_per_second: 3175.7901, train_label_loss: 1.2743, \n"
     ]
    },
    {
     "name": "stdout",
     "output_type": "stream",
     "text": [
      "epoch: 2, [batch: 1260 / 2520], examples_per_second: 3199.6695, train_label_loss: 1.4691, \n"
     ]
    },
    {
     "name": "stdout",
     "output_type": "stream",
     "text": [
      "epoch: 2, [batch: 1512 / 2520], examples_per_second: 3223.2492, train_label_loss: 1.0821, \n"
     ]
    },
    {
     "name": "stdout",
     "output_type": "stream",
     "text": [
      "epoch: 2, [batch: 1764 / 2520], examples_per_second: 3223.3284, train_label_loss: 1.1001, \n"
     ]
    },
    {
     "name": "stdout",
     "output_type": "stream",
     "text": [
      "epoch: 2, [batch: 2016 / 2520], examples_per_second: 3206.9897, train_label_loss: 1.2891, \n"
     ]
    },
    {
     "name": "stdout",
     "output_type": "stream",
     "text": [
      "epoch: 2, [batch: 2268 / 2520], examples_per_second: 3213.3421, train_label_loss: 0.9291, \n"
     ]
    },
    {
     "name": "stdout",
     "output_type": "stream",
     "text": [
      "=============================================================\n",
      "epoch: 2, source_val_acc_label: 0.5656, target_val_acc_label: 0.4929, source_val_label_loss: 1.1492, target_val_label_loss: 1.3594, \n",
      "=============================================================\n"
     ]
    },
    {
     "name": "stdout",
     "output_type": "stream",
     "text": [
      "New best\n"
     ]
    },
    {
     "name": "stdout",
     "output_type": "stream",
     "text": [
      "epoch: 3, [batch: 1 / 2520], examples_per_second: 12.9275, train_label_loss: 1.3886, \n"
     ]
    },
    {
     "name": "stdout",
     "output_type": "stream",
     "text": [
      "epoch: 3, [batch: 252 / 2520], examples_per_second: 3120.7980, train_label_loss: 0.9657, \n"
     ]
    },
    {
     "name": "stdout",
     "output_type": "stream",
     "text": [
      "epoch: 3, [batch: 504 / 2520], examples_per_second: 3175.3184, train_label_loss: 0.9438, \n"
     ]
    },
    {
     "name": "stdout",
     "output_type": "stream",
     "text": [
      "epoch: 3, [batch: 756 / 2520], examples_per_second: 3215.7663, train_label_loss: 0.9577, \n"
     ]
    },
    {
     "name": "stdout",
     "output_type": "stream",
     "text": [
      "epoch: 3, [batch: 1008 / 2520], examples_per_second: 3194.3914, train_label_loss: 1.1004, \n"
     ]
    },
    {
     "name": "stdout",
     "output_type": "stream",
     "text": [
      "epoch: 3, [batch: 1260 / 2520], examples_per_second: 3181.0847, train_label_loss: 1.3072, \n"
     ]
    },
    {
     "name": "stdout",
     "output_type": "stream",
     "text": [
      "epoch: 3, [batch: 1512 / 2520], examples_per_second: 3193.6086, train_label_loss: 0.9008, \n"
     ]
    },
    {
     "name": "stdout",
     "output_type": "stream",
     "text": [
      "epoch: 3, [batch: 1764 / 2520], examples_per_second: 3132.6309, train_label_loss: 0.8997, \n"
     ]
    },
    {
     "name": "stdout",
     "output_type": "stream",
     "text": [
      "epoch: 3, [batch: 2016 / 2520], examples_per_second: 3092.6618, train_label_loss: 0.6971, \n"
     ]
    },
    {
     "name": "stdout",
     "output_type": "stream",
     "text": [
      "epoch: 3, [batch: 2268 / 2520], examples_per_second: 3151.5758, train_label_loss: 0.9151, \n"
     ]
    },
    {
     "name": "stdout",
     "output_type": "stream",
     "text": [
      "=============================================================\n",
      "epoch: 3, source_val_acc_label: 0.5793, target_val_acc_label: 0.5159, source_val_label_loss: 1.1343, target_val_label_loss: 1.2896, \n",
      "=============================================================\n"
     ]
    },
    {
     "name": "stdout",
     "output_type": "stream",
     "text": [
      "New best\n"
     ]
    },
    {
     "name": "stdout",
     "output_type": "stream",
     "text": [
      "epoch: 4, [batch: 1 / 2520], examples_per_second: 12.7664, train_label_loss: 0.7165, \n"
     ]
    },
    {
     "name": "stdout",
     "output_type": "stream",
     "text": [
      "epoch: 4, [batch: 252 / 2520], examples_per_second: 3198.6212, train_label_loss: 0.7994, \n"
     ]
    },
    {
     "name": "stdout",
     "output_type": "stream",
     "text": [
      "epoch: 4, [batch: 504 / 2520], examples_per_second: 3160.3913, train_label_loss: 1.2183, \n"
     ]
    },
    {
     "name": "stdout",
     "output_type": "stream",
     "text": [
      "epoch: 4, [batch: 756 / 2520], examples_per_second: 3195.2550, train_label_loss: 0.9891, \n"
     ]
    },
    {
     "name": "stdout",
     "output_type": "stream",
     "text": [
      "epoch: 4, [batch: 1008 / 2520], examples_per_second: 3126.1500, train_label_loss: 1.0292, \n"
     ]
    },
    {
     "name": "stdout",
     "output_type": "stream",
     "text": [
      "epoch: 4, [batch: 1260 / 2520], examples_per_second: 3187.4117, train_label_loss: 0.8669, \n"
     ]
    },
    {
     "name": "stdout",
     "output_type": "stream",
     "text": [
      "epoch: 4, [batch: 1512 / 2520], examples_per_second: 3062.8206, train_label_loss: 0.9744, \n"
     ]
    },
    {
     "name": "stdout",
     "output_type": "stream",
     "text": [
      "epoch: 4, [batch: 1764 / 2520], examples_per_second: 3099.3369, train_label_loss: 0.5269, \n"
     ]
    },
    {
     "name": "stdout",
     "output_type": "stream",
     "text": [
      "epoch: 4, [batch: 2016 / 2520], examples_per_second: 3070.3011, train_label_loss: 0.5687, \n"
     ]
    },
    {
     "name": "stdout",
     "output_type": "stream",
     "text": [
      "epoch: 4, [batch: 2268 / 2520], examples_per_second: 3180.9470, train_label_loss: 0.8724, \n"
     ]
    },
    {
     "name": "stdout",
     "output_type": "stream",
     "text": [
      "=============================================================\n",
      "epoch: 4, source_val_acc_label: 0.5956, target_val_acc_label: 0.5268, source_val_label_loss: 1.1757, target_val_label_loss: 1.3124, \n",
      "=============================================================\n"
     ]
    },
    {
     "name": "stdout",
     "output_type": "stream",
     "text": [
      "epoch: 5, [batch: 1 / 2520], examples_per_second: 12.6267, train_label_loss: 0.5176, \n"
     ]
    },
    {
     "name": "stdout",
     "output_type": "stream",
     "text": [
      "epoch: 5, [batch: 252 / 2520], examples_per_second: 3203.2411, train_label_loss: 0.3545, \n"
     ]
    },
    {
     "name": "stdout",
     "output_type": "stream",
     "text": [
      "epoch: 5, [batch: 504 / 2520], examples_per_second: 3219.3427, train_label_loss: 0.3950, \n"
     ]
    },
    {
     "name": "stdout",
     "output_type": "stream",
     "text": [
      "epoch: 5, [batch: 756 / 2520], examples_per_second: 3217.8788, train_label_loss: 0.6965, \n"
     ]
    },
    {
     "name": "stdout",
     "output_type": "stream",
     "text": [
      "epoch: 5, [batch: 1008 / 2520], examples_per_second: 3173.9293, train_label_loss: 0.5801, \n"
     ]
    },
    {
     "name": "stdout",
     "output_type": "stream",
     "text": [
      "epoch: 5, [batch: 1260 / 2520], examples_per_second: 3142.7473, train_label_loss: 0.5355, \n"
     ]
    },
    {
     "name": "stdout",
     "output_type": "stream",
     "text": [
      "epoch: 5, [batch: 1512 / 2520], examples_per_second: 3237.5695, train_label_loss: 0.5141, \n"
     ]
    },
    {
     "name": "stdout",
     "output_type": "stream",
     "text": [
      "epoch: 5, [batch: 1764 / 2520], examples_per_second: 3218.6568, train_label_loss: 0.5432, \n"
     ]
    },
    {
     "name": "stdout",
     "output_type": "stream",
     "text": [
      "epoch: 5, [batch: 2016 / 2520], examples_per_second: 3226.8641, train_label_loss: 0.2460, \n"
     ]
    },
    {
     "name": "stdout",
     "output_type": "stream",
     "text": [
      "epoch: 5, [batch: 2268 / 2520], examples_per_second: 3242.9822, train_label_loss: 0.7017, \n"
     ]
    },
    {
     "name": "stdout",
     "output_type": "stream",
     "text": [
      "=============================================================\n",
      "epoch: 5, source_val_acc_label: 0.5933, target_val_acc_label: 0.5186, source_val_label_loss: 1.1719, target_val_label_loss: 1.3329, \n",
      "=============================================================\n"
     ]
    },
    {
     "name": "stdout",
     "output_type": "stream",
     "text": [
      "epoch: 6, [batch: 1 / 2520], examples_per_second: 12.7807, train_label_loss: 0.6795, \n"
     ]
    },
    {
     "name": "stdout",
     "output_type": "stream",
     "text": [
      "epoch: 6, [batch: 252 / 2520], examples_per_second: 3187.9134, train_label_loss: 0.6981, \n"
     ]
    },
    {
     "name": "stdout",
     "output_type": "stream",
     "text": [
      "epoch: 6, [batch: 504 / 2520], examples_per_second: 3191.7519, train_label_loss: 0.4829, \n"
     ]
    },
    {
     "name": "stdout",
     "output_type": "stream",
     "text": [
      "epoch: 6, [batch: 756 / 2520], examples_per_second: 3197.0685, train_label_loss: 0.8975, \n"
     ]
    },
    {
     "name": "stdout",
     "output_type": "stream",
     "text": [
      "epoch: 6, [batch: 1008 / 2520], examples_per_second: 3216.1096, train_label_loss: 0.3225, \n"
     ]
    },
    {
     "name": "stdout",
     "output_type": "stream",
     "text": [
      "epoch: 6, [batch: 1260 / 2520], examples_per_second: 3229.8239, train_label_loss: 0.4359, \n"
     ]
    },
    {
     "name": "stdout",
     "output_type": "stream",
     "text": [
      "epoch: 6, [batch: 1512 / 2520], examples_per_second: 3244.4524, train_label_loss: 0.8387, \n"
     ]
    },
    {
     "name": "stdout",
     "output_type": "stream",
     "text": [
      "epoch: 6, [batch: 1764 / 2520], examples_per_second: 3222.2417, train_label_loss: 0.3788, \n"
     ]
    },
    {
     "name": "stdout",
     "output_type": "stream",
     "text": [
      "epoch: 6, [batch: 2016 / 2520], examples_per_second: 3237.8427, train_label_loss: 0.6062, \n"
     ]
    },
    {
     "name": "stdout",
     "output_type": "stream",
     "text": [
      "epoch: 6, [batch: 2268 / 2520], examples_per_second: 3237.4522, train_label_loss: 0.3360, \n"
     ]
    },
    {
     "name": "stdout",
     "output_type": "stream",
     "text": [
      "=============================================================\n",
      "epoch: 6, source_val_acc_label: 0.5949, target_val_acc_label: 0.5258, source_val_label_loss: 1.3034, target_val_label_loss: 1.4136, \n",
      "=============================================================\n"
     ]
    },
    {
     "name": "stdout",
     "output_type": "stream",
     "text": [
      "epoch: 7, [batch: 1 / 2520], examples_per_second: 13.0698, train_label_loss: 0.4098, \n"
     ]
    },
    {
     "name": "stdout",
     "output_type": "stream",
     "text": [
      "epoch: 7, [batch: 252 / 2520], examples_per_second: 3139.4315, train_label_loss: 0.3053, \n"
     ]
    },
    {
     "name": "stdout",
     "output_type": "stream",
     "text": [
      "epoch: 7, [batch: 504 / 2520], examples_per_second: 3031.7369, train_label_loss: 0.1949, \n"
     ]
    },
    {
     "name": "stdout",
     "output_type": "stream",
     "text": [
      "epoch: 7, [batch: 756 / 2520], examples_per_second: 3204.2021, train_label_loss: 0.4239, \n"
     ]
    },
    {
     "name": "stdout",
     "output_type": "stream",
     "text": [
      "epoch: 7, [batch: 1008 / 2520], examples_per_second: 3206.8111, train_label_loss: 0.1088, \n"
     ]
    },
    {
     "name": "stdout",
     "output_type": "stream",
     "text": [
      "epoch: 7, [batch: 1260 / 2520], examples_per_second: 3229.0721, train_label_loss: 0.1626, \n"
     ]
    },
    {
     "name": "stdout",
     "output_type": "stream",
     "text": [
      "epoch: 7, [batch: 1512 / 2520], examples_per_second: 3244.0699, train_label_loss: 0.4591, \n"
     ]
    },
    {
     "name": "stdout",
     "output_type": "stream",
     "text": [
      "epoch: 7, [batch: 1764 / 2520], examples_per_second: 3224.2040, train_label_loss: 0.3488, \n"
     ]
    },
    {
     "name": "stdout",
     "output_type": "stream",
     "text": [
      "epoch: 7, [batch: 2016 / 2520], examples_per_second: 3231.5619, train_label_loss: 0.2792, \n"
     ]
    },
    {
     "name": "stdout",
     "output_type": "stream",
     "text": [
      "epoch: 7, [batch: 2268 / 2520], examples_per_second: 3217.6193, train_label_loss: 0.6812, \n"
     ]
    },
    {
     "name": "stdout",
     "output_type": "stream",
     "text": [
      "=============================================================\n",
      "epoch: 7, source_val_acc_label: 0.5899, target_val_acc_label: 0.5292, source_val_label_loss: 1.4349, target_val_label_loss: 1.5122, \n",
      "=============================================================\n"
     ]
    },
    {
     "name": "stdout",
     "output_type": "stream",
     "text": [
      "Patience (3) exhausted\n"
     ]
    }
   ],
   "source": [
    "###################################\n",
    "# train\n",
    "###################################\n",
    "jig = PTN_Train_Eval_Test_Jig(model, p.BEST_MODEL_PATH, p.device)\n",
    "\n",
    "jig.train(\n",
    "    train_iterable=datasets.source.processed.train,\n",
    "    source_val_iterable=datasets.source.processed.val,\n",
    "    target_val_iterable=datasets.target.processed.val,\n",
    "    num_epochs=p.n_epoch,\n",
    "    num_logs_per_epoch=p.NUM_LOGS_PER_EPOCH,\n",
    "    patience=p.patience,\n",
    "    optimizer=optimizer,\n",
    "    criteria_for_best=p.criteria_for_best,\n",
    ")"
   ]
  },
  {
   "cell_type": "code",
   "execution_count": 14,
   "id": "31e8fabf",
   "metadata": {
    "execution": {
     "iopub.execute_input": "2022-03-06T18:08:17.147019Z",
     "iopub.status.busy": "2022-03-06T18:08:17.146748Z",
     "iopub.status.idle": "2022-03-06T18:08:17.164262Z",
     "shell.execute_reply": "2022-03-06T18:08:17.163812Z"
    },
    "papermill": {
     "duration": 0.045522,
     "end_time": "2022-03-06T18:08:17.164370",
     "exception": false,
     "start_time": "2022-03-06T18:08:17.118848",
     "status": "completed"
    },
    "tags": []
   },
   "outputs": [],
   "source": [
    "total_experiment_time_secs = time.time() - start_time_secs"
   ]
  },
  {
   "cell_type": "code",
   "execution_count": 15,
   "id": "87b9595b",
   "metadata": {
    "execution": {
     "iopub.execute_input": "2022-03-06T18:08:17.224956Z",
     "iopub.status.busy": "2022-03-06T18:08:17.224528Z",
     "iopub.status.idle": "2022-03-06T18:08:51.876000Z",
     "shell.execute_reply": "2022-03-06T18:08:51.876454Z"
    },
    "papermill": {
     "duration": 34.683717,
     "end_time": "2022-03-06T18:08:51.876593",
     "exception": false,
     "start_time": "2022-03-06T18:08:17.192876",
     "status": "completed"
    },
    "tags": []
   },
   "outputs": [],
   "source": [
    "###################################\n",
    "# Evaluate the model\n",
    "###################################\n",
    "source_test_label_accuracy, source_test_label_loss = jig.test(datasets.source.processed.test)\n",
    "target_test_label_accuracy, target_test_label_loss = jig.test(datasets.target.processed.test)\n",
    "\n",
    "source_val_label_accuracy, source_val_label_loss = jig.test(datasets.source.processed.val)\n",
    "target_val_label_accuracy, target_val_label_loss = jig.test(datasets.target.processed.val)\n",
    "\n",
    "history = jig.get_history()\n",
    "\n",
    "total_epochs_trained = len(history[\"epoch_indices\"])\n",
    "\n",
    "val_dl = Iterable_Aggregator((datasets.source.original.val,datasets.target.original.val))\n",
    "\n",
    "confusion = ptn_confusion_by_domain_over_dataloader(model, p.device, val_dl)\n",
    "per_domain_accuracy = per_domain_accuracy_from_confusion(confusion)\n",
    "\n",
    "# Add a key to per_domain_accuracy for if it was a source domain\n",
    "for domain, accuracy in per_domain_accuracy.items():\n",
    "    per_domain_accuracy[domain] = {\n",
    "        \"accuracy\": accuracy,\n",
    "        \"source?\": domain in p.domains_source\n",
    "    }\n",
    "\n",
    "# Do an independent accuracy assesment JUST TO BE SURE!\n",
    "# _source_test_label_accuracy = independent_accuracy_assesment(model, datasets.source.processed.test, p.device)\n",
    "# _target_test_label_accuracy = independent_accuracy_assesment(model, datasets.target.processed.test, p.device)\n",
    "# _source_val_label_accuracy = independent_accuracy_assesment(model, datasets.source.processed.val, p.device)\n",
    "# _target_val_label_accuracy = independent_accuracy_assesment(model, datasets.target.processed.val, p.device)\n",
    "\n",
    "# assert(_source_test_label_accuracy == source_test_label_accuracy)\n",
    "# assert(_target_test_label_accuracy == target_test_label_accuracy)\n",
    "# assert(_source_val_label_accuracy == source_val_label_accuracy)\n",
    "# assert(_target_val_label_accuracy == target_val_label_accuracy)\n",
    "\n",
    "experiment = {\n",
    "    \"experiment_name\": p.experiment_name,\n",
    "    \"parameters\": dict(p),\n",
    "    \"results\": {\n",
    "        \"source_test_label_accuracy\": source_test_label_accuracy,\n",
    "        \"source_test_label_loss\": source_test_label_loss,\n",
    "        \"target_test_label_accuracy\": target_test_label_accuracy,\n",
    "        \"target_test_label_loss\": target_test_label_loss,\n",
    "        \"source_val_label_accuracy\": source_val_label_accuracy,\n",
    "        \"source_val_label_loss\": source_val_label_loss,\n",
    "        \"target_val_label_accuracy\": target_val_label_accuracy,\n",
    "        \"target_val_label_loss\": target_val_label_loss,\n",
    "        \"total_epochs_trained\": total_epochs_trained,\n",
    "        \"total_experiment_time_secs\": total_experiment_time_secs,\n",
    "        \"confusion\": confusion,\n",
    "        \"per_domain_accuracy\": per_domain_accuracy,\n",
    "    },\n",
    "    \"history\": history,\n",
    "    \"dataset_metrics\": get_dataset_metrics(datasets, \"ptn\"),\n",
    "}"
   ]
  },
  {
   "cell_type": "code",
   "execution_count": 16,
   "id": "54a21829",
   "metadata": {
    "execution": {
     "iopub.execute_input": "2022-03-06T18:08:51.934627Z",
     "iopub.status.busy": "2022-03-06T18:08:51.933577Z",
     "iopub.status.idle": "2022-03-06T18:08:52.126688Z",
     "shell.execute_reply": "2022-03-06T18:08:52.127121Z"
    },
    "papermill": {
     "duration": 0.219954,
     "end_time": "2022-03-06T18:08:52.127248",
     "exception": false,
     "start_time": "2022-03-06T18:08:51.907294",
     "status": "completed"
    },
    "tags": []
   },
   "outputs": [
    {
     "data": {
      "image/png": "[encoded data removed]",
      "text/plain": [
       "<Figure size 1080x504 with 1 Axes>"
      ]
     },
     "metadata": {
      "needs_background": "light"
     },
     "output_type": "display_data"
    }
   ],
   "source": [
    "ax = get_loss_curve(experiment)\n",
    "plt.show()"
   ]
  },
  {
   "cell_type": "code",
   "execution_count": 17,
   "id": "fd8a0f60",
   "metadata": {
    "execution": {
     "iopub.execute_input": "2022-03-06T18:08:52.185887Z",
     "iopub.status.busy": "2022-03-06T18:08:52.185214Z",
     "iopub.status.idle": "2022-03-06T18:08:52.362022Z",
     "shell.execute_reply": "2022-03-06T18:08:52.362462Z"
    },
    "papermill": {
     "duration": 0.205687,
     "end_time": "2022-03-06T18:08:52.362591",
     "exception": false,
     "start_time": "2022-03-06T18:08:52.156904",
     "status": "completed"
    },
    "tags": []
   },
   "outputs": [
    {
     "data": {
      "text/plain": [
       "<matplotlib.axes._subplots.AxesSubplot at 0x7f8600b8a9a0>"
      ]
     },
     "execution_count": 17,
     "metadata": {},
     "output_type": "execute_result"
    },
    {
     "data": {
      "image/png": "[encoded data removed]",
      "text/plain": [
       "<Figure size 1080x504 with 1 Axes>"
      ]
     },
     "metadata": {
      "needs_background": "light"
     },
     "output_type": "display_data"
    }
   ],
   "source": [
    "get_results_table(experiment)"
   ]
  },
  {
   "cell_type": "code",
   "execution_count": 18,
   "id": "cf8dc689",
   "metadata": {
    "execution": {
     "iopub.execute_input": "2022-03-06T18:08:52.423820Z",
     "iopub.status.busy": "2022-03-06T18:08:52.423556Z",
     "iopub.status.idle": "2022-03-06T18:08:52.597610Z",
     "shell.execute_reply": "2022-03-06T18:08:52.597175Z"
    },
    "papermill": {
     "duration": 0.203381,
     "end_time": "2022-03-06T18:08:52.597710",
     "exception": false,
     "start_time": "2022-03-06T18:08:52.394329",
     "status": "completed"
    },
    "tags": []
   },
   "outputs": [
    {
     "data": {
      "text/plain": [
       "<matplotlib.axes._subplots.AxesSubplot at 0x7f860082cac0>"
      ]
     },
     "execution_count": 18,
     "metadata": {},
     "output_type": "execute_result"
    },
    {
     "data": {
      "image/png": "[encoded data removed]",
      "text/plain": [
       "<Figure size 1080x504 with 1 Axes>"
      ]
     },
     "metadata": {
      "needs_background": "light"
     },
     "output_type": "display_data"
    }
   ],
   "source": [
    "get_domain_accuracies(experiment)"
   ]
  },
  {
   "cell_type": "code",
   "execution_count": 19,
   "id": "a74ae082",
   "metadata": {
    "execution": {
     "iopub.execute_input": "2022-03-06T18:08:52.661570Z",
     "iopub.status.busy": "2022-03-06T18:08:52.661301Z",
     "iopub.status.idle": "2022-03-06T18:08:52.673950Z",
     "shell.execute_reply": "2022-03-06T18:08:52.673519Z"
    },
    "papermill": {
     "duration": 0.043622,
     "end_time": "2022-03-06T18:08:52.674044",
     "exception": false,
     "start_time": "2022-03-06T18:08:52.630422",
     "status": "completed"
    },
    "tags": []
   },
   "outputs": [
    {
     "name": "stdout",
     "output_type": "stream",
     "text": [
      "Source Test Label Accuracy: 0.5795138888888889 Target Test Label Accuracy: 0.5091666666666667\n",
      "Source Val Label Accuracy: 0.5792534722222222 Target Val Label Accuracy: 0.5159375\n"
     ]
    }
   ],
   "source": [
    "print(\"Source Test Label Accuracy:\", experiment[\"results\"][\"source_test_label_accuracy\"], \"Target Test Label Accuracy:\", experiment[\"results\"][\"target_test_label_accuracy\"])\n",
    "print(\"Source Val Label Accuracy:\", experiment[\"results\"][\"source_val_label_accuracy\"], \"Target Val Label Accuracy:\", experiment[\"results\"][\"target_val_label_accuracy\"])"
   ]
  },
  {
   "cell_type": "code",
   "execution_count": 20,
   "id": "dacca602",
   "metadata": {
    "execution": {
     "iopub.execute_input": "2022-03-06T18:08:52.745504Z",
     "iopub.status.busy": "2022-03-06T18:08:52.743453Z",
     "iopub.status.idle": "2022-03-06T18:08:52.751969Z",
     "shell.execute_reply": "2022-03-06T18:08:52.752384Z"
    },
    "papermill": {
     "duration": 0.046345,
     "end_time": "2022-03-06T18:08:52.752513",
     "exception": false,
     "start_time": "2022-03-06T18:08:52.706168",
     "status": "completed"
    },
    "tags": [
     "experiment_json"
    ]
   },
   "outputs": [
    {
     "data": {
      "text/plain": [
       "'{\"experiment_name\": \"tuned_1_oracle.run1_limited\", \"parameters\": {\"experiment_name\": \"tuned_1_oracle.run1_limited\", \"device\": \"cuda\", \"lr\": 0.001, \"seed\": 1337, \"dataset_seed\": 1337, \"labels_source\": [\"3123D52\", \"3123D65\", \"3123D79\", \"3123D80\", \"3123D54\", \"3123D70\", \"3123D7B\", \"3123D89\", \"3123D58\", \"3123D76\", \"3123D7D\", \"3123EFE\", \"3123D64\", \"3123D78\", \"3123D7E\", \"3124E4A\"], \"labels_target\": [\"3123D52\", \"3123D65\", \"3123D79\", \"3123D80\", \"3123D54\", \"3123D70\", \"3123D7B\", \"3123D89\", \"3123D58\", \"3123D76\", \"3123D7D\", \"3123EFE\", \"3123D64\", \"3123D78\", \"3123D7E\", \"3124E4A\"], \"x_transforms_source\": [\"unit_mag\"], \"x_transforms_target\": [\"unit_mag\"], \"episode_transforms_source\": [], \"episode_transforms_target\": [], \"domains_source\": [8, 32, 50], \"domains_target\": [14, 20, 26, 38, 44], \"num_examples_per_domain_per_label_source\": 2000, \"num_examples_per_domain_per_label_target\": 1000, \"n_shot\": 3, \"n_way\": 16, \"n_query\": 2, \"train_k_factor\": 3, \"val_k_factor\": 2, \"test_k_factor\": 2, \"torch_default_dtype\": \"torch.float32\", \"n_epoch\": 50, \"patience\": 3, \"criteria_for_best\": \"target_loss\", \"x_net\": [{\"class\": \"nnReshape\", \"kargs\": {\"shape\": [-1, 1, 2, 256]}}, {\"class\": \"Conv2d\", \"kargs\": {\"in_channels\": 1, \"out_channels\": 256, \"kernel_size\": [1, 7], \"bias\": false, \"padding\": [0, 3]}}, {\"class\": \"ReLU\", \"kargs\": {\"inplace\": true}}, {\"class\": \"BatchNorm2d\", \"kargs\": {\"num_features\": 256}}, {\"class\": \"Conv2d\", \"kargs\": {\"in_channels\": 256, \"out_channels\": 80, \"kernel_size\": [2, 7], \"bias\": true, \"padding\": [0, 3]}}, {\"class\": \"ReLU\", \"kargs\": {\"inplace\": true}}, {\"class\": \"BatchNorm2d\", \"kargs\": {\"num_features\": 80}}, {\"class\": \"Flatten\", \"kargs\": {}}, {\"class\": \"Linear\", \"kargs\": {\"in_features\": 20480, \"out_features\": 256}}, {\"class\": \"ReLU\", \"kargs\": {\"inplace\": true}}, {\"class\": \"BatchNorm1d\", \"kargs\": {\"num_features\": 256}}, {\"class\": \"Linear\", \"kargs\": {\"in_features\": 256, \"out_features\": 256}}], \"NUM_LOGS_PER_EPOCH\": 10, \"BEST_MODEL_PATH\": \"./best_model.pth\", \"pickle_name\": \"oracle.Run1_10kExamples_stratified_ds.2022A.pkl\"}, \"results\": {\"source_test_label_accuracy\": 0.5795138888888889, \"source_test_label_loss\": 1.1324712038040161, \"target_test_label_accuracy\": 0.5091666666666667, \"target_test_label_loss\": 1.3001736402511597, \"source_val_label_accuracy\": 0.5792534722222222, \"source_val_label_loss\": 1.1342883110046387, \"target_val_label_accuracy\": 0.5159375, \"target_val_label_loss\": 1.2895797491073608, \"total_epochs_trained\": 7, \"total_experiment_time_secs\": 514.6973793506622, \"confusion\": {\"8\": {\"15\": {\"15\": 129, \"12\": 53, \"2\": 13, \"3\": 12, \"8\": 25, \"6\": 2, \"7\": 6}, \"3\": {\"12\": 46, \"3\": 140, \"2\": 45, \"15\": 9}, \"6\": {\"6\": 85, \"2\": 1, \"7\": 58, \"0\": 24, \"14\": 8, \"8\": 19, \"13\": 16, \"4\": 25, \"10\": 2, \"1\": 1, \"11\": 1}, \"1\": {\"14\": 27, \"5\": 21, \"1\": 76, \"10\": 27, \"11\": 77, \"8\": 1, \"13\": 3, \"4\": 8}, \"8\": {\"8\": 183, \"15\": 19, \"7\": 13, \"6\": 20, \"1\": 1, \"4\": 3, \"11\": 1}, \"10\": {\"5\": 21, \"7\": 1, \"14\": 48, \"10\": 90, \"1\": 24, \"13\": 31, \"0\": 6, \"4\": 11, \"11\": 7, \"6\": 1}, \"9\": {\"9\": 240}, \"13\": {\"4\": 49, \"0\": 46, \"13\": 56, \"6\": 23, \"10\": 25, \"14\": 21, \"7\": 11, \"5\": 5, \"1\": 2, \"11\": 2}, \"12\": {\"12\": 95, \"15\": 67, \"3\": 59, \"8\": 10, \"2\": 9}, \"5\": {\"5\": 170, \"10\": 19, \"14\": 8, \"1\": 29, \"11\": 12, \"4\": 1, \"13\": 1}, \"0\": {\"6\": 38, \"4\": 34, \"13\": 46, \"0\": 63, \"10\": 10, \"14\": 13, \"7\": 32, \"1\": 1, \"11\": 1, \"8\": 2}, \"2\": {\"2\": 137, \"3\": 61, \"0\": 1, \"15\": 22, \"12\": 14, \"7\": 5}, \"11\": {\"5\": 21, \"11\": 91, \"14\": 19, \"10\": 12, \"8\": 3, \"6\": 6, \"1\": 68, \"13\": 3, \"4\": 17}, \"14\": {\"14\": 66, \"13\": 32, \"10\": 43, \"6\": 10, \"1\": 18, \"11\": 18, \"4\": 33, \"0\": 15, \"5\": 3, \"8\": 1, \"7\": 1}, \"7\": {\"6\": 62, \"15\": 7, \"0\": 25, \"7\": 116, \"4\": 7, \"8\": 13, \"2\": 5, \"13\": 4, \"12\": 1}, \"4\": {\"10\": 15, \"14\": 36, \"13\": 51, \"7\": 12, \"6\": 30, \"0\": 43, \"4\": 43, \"11\": 4, \"5\": 1, \"1\": 4, \"8\": 1}}, \"50\": {\"3\": {\"3\": 212, \"8\": 28}, \"15\": {\"15\": 141, \"1\": 53, \"4\": 28, \"14\": 1, \"11\": 15, \"6\": 2}, \"8\": {\"8\": 217, \"10\": 14, \"3\": 9}, \"4\": {\"5\": 27, \"4\": 83, \"15\": 32, \"6\": 41, \"1\": 45, \"13\": 6, \"7\": 6}, \"14\": {\"14\": 218, \"11\": 6, \"12\": 14, \"9\": 2}, \"0\": {\"2\": 41, \"13\": 10, \"5\": 4, \"0\": 157, \"10\": 24, \"6\": 2, \"7\": 2}, \"7\": {\"13\": 56, \"5\": 35, \"7\": 126, \"6\": 5, \"10\": 14, \"0\": 2, \"4\": 2}, \"6\": {\"6\": 108, \"4\": 52, \"13\": 17, \"1\": 36, \"15\": 3, \"5\": 22, \"2\": 1, \"0\": 1}, \"10\": {\"10\": 185, \"7\": 16, \"0\": 24, \"13\": 7, \"8\": 7, \"5\": 1}, \"5\": {\"7\": 56, \"5\": 51, \"6\": 46, \"4\": 20, \"13\": 54, \"8\": 1, \"10\": 4, \"1\": 6, \"0\": 1, \"15\": 1}, \"2\": {\"2\": 216, \"0\": 21, \"6\": 1, \"1\": 2}, \"12\": {\"12\": 196, \"14\": 18, \"9\": 24, \"11\": 2}, \"9\": {\"11\": 45, \"12\": 36, \"9\": 150, \"14\": 9}, \"1\": {\"6\": 36, \"1\": 104, \"15\": 50, \"4\": 44, \"5\": 2, \"13\": 1, \"14\": 2, \"11\": 1}, \"11\": {\"11\": 180, \"14\": 11, \"12\": 5, \"9\": 25, \"15\": 17, \"1\": 2}, \"13\": {\"13\": 104, \"7\": 42, \"5\": 52, \"6\": 25, \"0\": 8, \"10\": 3, \"1\": 1, \"4\": 5}}, \"32\": {\"5\": {\"7\": 29, \"4\": 19, \"5\": 37, \"13\": 46, \"11\": 15, \"14\": 19, \"8\": 33, \"0\": 24, \"2\": 5, \"3\": 13}, \"8\": {\"8\": 144, \"13\": 26, \"5\": 40, \"0\": 11, \"3\": 6, \"15\": 2, \"7\": 5, \"4\": 6}, \"11\": {\"14\": 44, \"3\": 8, \"5\": 5, \"11\": 146, \"13\": 16, \"7\": 20, \"4\": 1}, \"1\": {\"1\": 233, \"10\": 7}, \"10\": {\"10\": 231, \"6\": 3, \"1\": 6}, \"15\": {\"15\": 234, \"3\": 3, \"8\": 3}, \"3\": {\"3\": 198, \"15\": 1, \"11\": 8, \"5\": 8, \"13\": 18, \"8\": 4, \"14\": 3}, \"7\": {\"13\": 13, \"14\": 64, \"5\": 22, \"4\": 36, \"7\": 68, \"11\": 14, \"2\": 11, \"8\": 4, \"0\": 8}, \"4\": {\"7\": 28, \"13\": 5, \"0\": 58, \"2\": 50, \"4\": 64, \"8\": 7, \"5\": 17, \"14\": 11}, \"14\": {\"5\": 19, \"4\": 15, \"14\": 56, \"11\": 65, \"13\": 20, \"7\": 50, \"8\": 3, \"3\": 6, \"2\": 3, \"0\": 3}, \"9\": {\"9\": 236, \"12\": 4}, \"12\": {\"12\": 240}, \"6\": {\"6\": 239, \"12\": 1}, \"2\": {\"7\": 7, \"0\": 42, \"2\": 149, \"4\": 39, \"14\": 3}, \"0\": {\"0\": 101, \"7\": 11, \"4\": 43, \"8\": 19, \"5\": 18, \"2\": 39, \"13\": 7, \"14\": 2}, \"13\": {\"13\": 69, \"5\": 45, \"8\": 36, \"4\": 19, \"7\": 18, \"3\": 21, \"11\": 12, \"0\": 9, \"14\": 10, \"2\": 1}}, \"14\": {\"15\": {\"15\": 84, \"7\": 33, \"5\": 2, \"2\": 1}, \"3\": {\"3\": 74, \"6\": 1, \"0\": 8, \"4\": 22, \"14\": 6, \"2\": 3, \"1\": 2, \"5\": 2, \"8\": 2}, \"6\": {\"14\": 17, \"13\": 38, \"6\": 53, \"2\": 10, \"4\": 1, \"3\": 1}, \"1\": {\"1\": 79, \"5\": 28, \"7\": 6, \"4\": 6, \"2\": 1}, \"8\": {\"3\": 2, \"8\": 118}, \"10\": {\"10\": 67, \"0\": 41, \"13\": 1, \"3\": 2, \"11\": 8, \"14\": 1}, \"9\": {\"9\": 115, \"11\": 3, \"12\": 2}, \"13\": {\"15\": 2, \"2\": 14, \"13\": 38, \"6\": 37, \"14\": 22, \"5\": 2, \"3\": 3, \"4\": 1, \"10\": 1}, \"12\": {\"12\": 119, \"9\": 1}, \"5\": {\"2\": 7, \"5\": 41, \"1\": 40, \"4\": 22, \"15\": 2, \"3\": 4, \"14\": 2, \"6\": 1, \"7\": 1}, \"0\": {\"10\": 29, \"0\": 77, \"8\": 3, \"3\": 6, \"11\": 4, \"4\": 1}, \"2\": {\"2\": 40, \"13\": 17, \"3\": 12, \"4\": 7, \"5\": 14, \"14\": 16, \"15\": 1, \"6\": 13}, \"11\": {\"11\": 85, \"9\": 10, \"0\": 8, \"10\": 16, \"12\": 1}, \"14\": {\"2\": 14, \"14\": 60, \"6\": 14, \"13\": 17, \"5\": 1, \"3\": 10, \"4\": 4}, \"7\": {\"7\": 93, \"5\": 1, \"15\": 22, \"1\": 4}, \"4\": {\"4\": 45, \"5\": 25, \"3\": 26, \"14\": 4, \"2\": 10, \"1\": 9, \"13\": 1}}, \"20\": {\"3\": {\"4\": 16, \"8\": 9, \"9\": 11, \"2\": 11, \"13\": 2, \"12\": 24, \"5\": 10, \"3\": 25, \"15\": 1, \"7\": 6, \"1\": 5}, \"15\": {\"15\": 49, \"3\": 2, \"9\": 4, \"0\": 16, \"13\": 12, \"5\": 11, \"1\": 16, \"7\": 1, \"12\": 8, \"4\": 1}, \"8\": {\"8\": 26, \"4\": 18, \"10\": 31, \"9\": 3, \"2\": 3, \"7\": 14, \"6\": 7, \"3\": 6, \"14\": 8, \"12\": 4}, \"4\": {\"4\": 44, \"10\": 8, \"9\": 4, \"8\": 29, \"3\": 16, \"1\": 2, \"12\": 6, \"5\": 4, \"7\": 5, \"2\": 1, \"14\": 1}, \"14\": {\"10\": 31, \"6\": 24, \"14\": 52, \"8\": 9, \"7\": 3, \"4\": 1}, \"0\": {\"1\": 16, \"3\": 6, \"4\": 6, \"13\": 3, \"15\": 14, \"0\": 29, \"12\": 13, \"5\": 21, \"9\": 8, \"7\": 1, \"2\": 2, \"8\": 1}, \"7\": {\"7\": 46, \"8\": 17, \"13\": 5, \"9\": 14, \"4\": 2, \"2\": 15, \"6\": 5, \"10\": 4, \"14\": 4, \"11\": 4, \"3\": 4}, \"6\": {\"14\": 29, \"6\": 71, \"7\": 10, \"10\": 4, \"11\": 1, \"8\": 4, \"4\": 1}, \"10\": {\"8\": 23, \"10\": 40, \"14\": 39, \"4\": 14, \"6\": 2, \"7\": 1, \"3\": 1}, \"5\": {\"9\": 4, \"0\": 26, \"12\": 18, \"5\": 20, \"1\": 23, \"4\": 6, \"15\": 13, \"3\": 7, \"13\": 2, \"2\": 1}, \"2\": {\"8\": 5, \"9\": 24, \"13\": 16, \"4\": 6, \"3\": 11, \"12\": 6, \"7\": 16, \"2\": 31, \"0\": 2, \"14\": 1, \"11\": 1, \"5\": 1}, \"12\": {\"4\": 6, \"15\": 9, \"9\": 16, \"8\": 3, \"5\": 9, \"12\": 18, \"13\": 5, \"3\": 16, \"2\": 11, \"0\": 10, \"1\": 15, \"7\": 2}, \"9\": {\"12\": 9, \"2\": 24, \"9\": 23, \"8\": 6, \"15\": 1, \"7\": 12, \"13\": 6, \"0\": 5, \"5\": 5, \"3\": 20, \"1\": 4, \"4\": 5}, \"1\": {\"0\": 18, \"1\": 14, \"15\": 25, \"5\": 21, \"12\": 14, \"2\": 6, \"13\": 10, \"7\": 1, \"9\": 6, \"3\": 1, \"4\": 4}, \"11\": {\"11\": 111, \"7\": 3, \"6\": 5, \"13\": 1}, \"13\": {\"2\": 20, \"13\": 74, \"12\": 2, \"9\": 12, \"7\": 4, \"15\": 3, \"3\": 1, \"1\": 3, \"5\": 1}}, \"44\": {\"5\": {\"5\": 91, \"14\": 4, \"0\": 17, \"15\": 4, \"8\": 4}, \"8\": {\"8\": 69, \"0\": 42, \"15\": 5, \"5\": 4}, \"11\": {\"11\": 94, \"13\": 16, \"6\": 10}, \"1\": {\"3\": 17, \"12\": 27, \"1\": 55, \"10\": 15, \"2\": 4, \"7\": 2}, \"10\": {\"1\": 14, \"10\": 78, \"2\": 16, \"12\": 12}, \"15\": {\"15\": 88, \"4\": 5, \"8\": 1, \"5\": 3, \"0\": 14, \"14\": 9}, \"3\": {\"3\": 96, \"12\": 4, \"1\": 20}, \"7\": {\"2\": 26, \"9\": 22, \"7\": 60, \"6\": 8, \"13\": 4}, \"4\": {\"4\": 84, \"14\": 35, \"15\": 1}, \"14\": {\"4\": 50, \"15\": 18, \"14\": 47, \"5\": 5}, \"9\": {\"6\": 11, \"13\": 20, \"9\": 63, \"7\": 19, \"2\": 5, \"1\": 1, \"11\": 1}, \"12\": {\"1\": 26, \"12\": 83, \"3\": 5, \"10\": 6}, \"6\": {\"6\": 76, \"2\": 2, \"13\": 22, \"7\": 4, \"11\": 4, \"9\": 12}, \"2\": {\"7\": 31, \"1\": 10, \"2\": 64, \"3\": 2, \"10\": 13}, \"0\": {\"0\": 69, \"15\": 6, \"8\": 34, \"5\": 11}, \"13\": {\"6\": 22, \"13\": 67, \"11\": 15, \"9\": 16}}, \"38\": {\"14\": {\"14\": 64, \"11\": 32, \"2\": 18, \"13\": 3, \"10\": 3}, \"0\": {\"8\": 27, \"7\": 29, \"3\": 9, \"5\": 17, \"0\": 26, \"10\": 6, \"6\": 2, \"12\": 1, \"9\": 2, \"4\": 1}, \"13\": {\"1\": 2, \"13\": 66, \"15\": 37, \"2\": 5, \"10\": 8, \"8\": 2}, \"7\": {\"0\": 34, \"7\": 79, \"5\": 4, \"9\": 1, \"8\": 2}, \"9\": {\"6\": 40, \"9\": 61, \"8\": 1, \"3\": 12, \"5\": 4, \"0\": 1, \"1\": 1}, \"3\": {\"3\": 95, \"9\": 11, \"6\": 2, \"7\": 6, \"0\": 6}, \"11\": {\"11\": 73, \"14\": 38, \"2\": 4, \"12\": 3, \"10\": 2}, \"6\": {\"6\": 79, \"9\": 38, \"5\": 2, \"3\": 1}, \"8\": {\"10\": 4, \"8\": 63, \"7\": 5, \"5\": 28, \"0\": 15, \"15\": 5}, \"4\": {\"4\": 109, \"12\": 11}, \"5\": {\"5\": 37, \"6\": 8, \"1\": 4, \"8\": 41, \"7\": 8, \"0\": 15, \"15\": 3, \"9\": 2, \"10\": 1, \"13\": 1}, \"10\": {\"10\": 76, \"8\": 8, \"12\": 21, \"13\": 6, \"0\": 2, \"14\": 2, \"15\": 2, \"5\": 1, \"11\": 1, \"7\": 1}, \"1\": {\"1\": 104, \"5\": 4, \"6\": 1, \"8\": 1, \"15\": 10}, \"2\": {\"2\": 93, \"14\": 16, \"15\": 4, \"11\": 2, \"13\": 5}, \"15\": {\"13\": 35, \"15\": 64, \"8\": 8, \"1\": 10, \"10\": 1, \"5\": 2}, \"12\": {\"12\": 94, \"10\": 13, \"4\": 12, \"8\": 1}}, \"26\": {\"13\": {\"13\": 70, \"5\": 16, \"2\": 6, \"15\": 11, \"9\": 8, \"6\": 6, \"7\": 1, \"8\": 1, \"3\": 1}, \"2\": {\"3\": 29, \"2\": 40, \"8\": 4, \"5\": 10, \"9\": 6, \"10\": 2, \"7\": 14, \"15\": 11, \"4\": 4}, \"8\": {\"8\": 22, \"7\": 11, \"6\": 8, \"9\": 15, \"4\": 8, \"1\": 2, \"14\": 6, \"2\": 4, \"10\": 11, \"0\": 13, \"5\": 6, \"13\": 1, \"15\": 11, \"3\": 2}, \"9\": {\"9\": 23, \"6\": 18, \"13\": 10, \"15\": 16, \"8\": 6, \"5\": 22, \"7\": 4, \"14\": 3, \"0\": 9, \"10\": 7, \"4\": 1, \"2\": 1}, \"12\": {\"12\": 117, \"11\": 3}, \"4\": {\"0\": 13, \"4\": 26, \"1\": 15, \"8\": 14, \"14\": 18, \"7\": 15, \"9\": 1, \"10\": 8, \"15\": 3, \"3\": 5, \"5\": 1, \"2\": 1}, \"3\": {\"2\": 31, \"3\": 60, \"7\": 24, \"4\": 2, \"9\": 1, \"15\": 1, \"8\": 1}, \"15\": {\"8\": 14, \"9\": 22, \"6\": 16, \"15\": 19, \"5\": 27, \"13\": 10, \"3\": 3, \"7\": 2, \"10\": 2, \"4\": 1, \"2\": 3, \"0\": 1}, \"14\": {\"4\": 17, \"0\": 17, \"8\": 7, \"10\": 16, \"14\": 28, \"1\": 28, \"7\": 4, \"15\": 2, \"2\": 1}, \"10\": {\"6\": 19, \"1\": 13, \"0\": 19, \"10\": 24, \"8\": 8, \"14\": 17, \"4\": 10, \"15\": 7, \"7\": 2, \"9\": 1}, \"7\": {\"3\": 27, \"7\": 36, \"2\": 15, \"4\": 10, \"8\": 8, \"9\": 2, \"0\": 3, \"5\": 2, \"1\": 6, \"14\": 7, \"15\": 4}, \"11\": {\"11\": 103, \"12\": 16, \"6\": 1}, \"6\": {\"8\": 3, \"0\": 7, \"10\": 27, \"6\": 57, \"14\": 4, \"15\": 6, \"5\": 5, \"9\": 8, \"13\": 3}, \"1\": {\"1\": 43, \"14\": 24, \"4\": 21, \"0\": 10, \"8\": 6, \"10\": 10, \"7\": 2, \"9\": 1, \"3\": 2, \"6\": 1}, \"5\": {\"13\": 13, \"15\": 25, \"7\": 4, \"2\": 8, \"5\": 37, \"9\": 20, \"8\": 2, \"10\": 1, \"4\": 1, \"6\": 7, \"0\": 2}, \"0\": {\"8\": 14, \"14\": 20, \"15\": 4, \"4\": 11, \"9\": 5, \"3\": 2, \"1\": 16, \"0\": 20, \"10\": 13, \"6\": 6, \"7\": 6, \"13\": 1, \"2\": 2}}}, \"per_domain_accuracy\": {\"8\": {\"accuracy\": 0.4635416666666667, \"source?\": true}, \"50\": {\"accuracy\": 0.6375, \"source?\": true}, \"32\": {\"accuracy\": 0.63671875, \"source?\": true}, \"14\": {\"accuracy\": 0.61875, \"source?\": false}, \"20\": {\"accuracy\": 0.35052083333333334, \"source?\": false}, \"44\": {\"accuracy\": 0.6166666666666667, \"source?\": false}, \"38\": {\"accuracy\": 0.6161458333333333, \"source?\": false}, \"26\": {\"accuracy\": 0.3776041666666667, \"source?\": false}}}, \"history\": {\"epoch_indices\": [1, 2, 3, 4, 5, 6, 7], \"train_label_loss\": [1.615783120124113, 1.098194115029441, 0.8917941383662678, 0.7346534423648365, 0.5994181938912897, 0.49350083732593153, 0.40428938848476503], \"source_val_label_loss\": [1.3993693590164185, 1.1492480039596558, 1.1342883110046387, 1.1756763458251953, 1.1719037294387817, 1.3034112453460693, 1.4348692893981934], \"target_val_label_loss\": [1.6564522981643677, 1.3594428300857544, 1.2895797491073608, 1.3124258518218994, 1.3329484462738037, 1.4136172533035278, 1.5122270584106445], \"source_val_acc_label\": [0.49635416666666665, 0.565625, 0.5792534722222222, 0.5955729166666667, 0.5933159722222222, 0.5948784722222222, 0.5899305555555555], \"target_val_acc_label\": [0.4013541666666667, 0.49291666666666667, 0.5159375, 0.5267708333333333, 0.5186458333333334, 0.5258333333333334, 0.5291666666666667]}, \"dataset_metrics\": {\"source\": {\"train\": {\"n_unique_x\": 67200, \"n_unique_y\": 16, \"n_batch/episode\": 2520}, \"val\": {\"n_unique_x\": 14400, \"n_unique_y\": 16, \"n_batch/episode\": 360}, \"test\": {\"n_unique_x\": 14400, \"n_unique_y\": 16, \"n_batch/episode\": 360}}, \"target\": {\"train\": {\"n_unique_x\": 56000, \"n_unique_y\": 16, \"n_batch/episode\": 2100}, \"val\": {\"n_unique_x\": 12000, \"n_unique_y\": 16, \"n_batch/episode\": 300}, \"test\": {\"n_unique_x\": 12000, \"n_unique_y\": 16, \"n_batch/episode\": 300}}}}'"
      ]
     },
     "execution_count": 20,
     "metadata": {},
     "output_type": "execute_result"
    }
   ],
   "source": [
    "json.dumps(experiment)"
   ]
  }
 ],
 "metadata": {
  "celltoolbar": "Tags",
  "kernelspec": {
   "display_name": "Python 3 (ipykernel)",
   "language": "python",
   "name": "python3"
  },
  "language_info": {
   "codemirror_mode": {
    "name": "ipython",
    "version": 3
   },
   "file_extension": ".py",
   "mimetype": "text/x-python",
   "name": "python",
   "nbconvert_exporter": "python",
   "pygments_lexer": "ipython3",
   "version": "3.8.10"
  },
  "papermill": {
   "default_parameters": {},
   "duration": 552.994846,
   "end_time": "2022-03-06T18:08:53.591488",
   "environment_variables": {},
   "exception": null,
   "input_path": "/mnt/wd500GB/CSC500/csc500-main/csc500-notebooks/templates/ptn_template.ipynb",
   "output_path": "trial.ipynb",
   "parameters": {
    "parameters": {
     "BEST_MODEL_PATH": "./best_model.pth",
     "NUM_LOGS_PER_EPOCH": 10,
     "criteria_for_best": "target_loss",
     "dataset_seed": 1337,
     "device": "cuda",
     "domains_source": [
      8,
      32,
      50
     ],
     "domains_target": [
      14,
      20,
      26,
      38,
      44
     ],
     "episode_transforms_source": [],
     "episode_transforms_target": [],
     "experiment_name": "tuned_1_oracle.run1_limited",
     "labels_source": [
      "3123D52",
      "3123D65",
      "3123D79",
      "3123D80",
      "3123D54",
      "3123D70",
      "3123D7B",
      "3123D89",
      "3123D58",
      "3123D76",
      "3123D7D",
      "3123EFE",
      "3123D64",
      "3123D78",
      "3123D7E",
      "3124E4A"
     ],
     "labels_target": [
      "3123D52",
      "3123D65",
      "3123D79",
      "3123D80",
      "3123D54",
      "3123D70",
      "3123D7B",
      "3123D89",
      "3123D58",
      "3123D76",
      "3123D7D",
      "3123EFE",
      "3123D64",
      "3123D78",
      "3123D7E",
      "3124E4A"
     ],
     "lr": 0.001,
     "n_epoch": 50,
     "n_query": 2,
     "n_shot": 3,
     "n_way": 16,
     "num_examples_per_domain_per_label_source": 2000,
     "num_examples_per_domain_per_label_target": 1000,
     "patience": 3,
     "pickle_name": "oracle.Run1_10kExamples_stratified_ds.2022A.pkl",
     "seed": 1337,
     "test_k_factor": 2,
     "torch_default_dtype": "torch.float32",
     "train_k_factor": 3,
     "val_k_factor": 2,
     "x_net": [
      {
       "class": "nnReshape",
       "kargs": {
        "shape": [
         -1,
         1,
         2,
         256
        ]
       }
      },
      {
       "class": "Conv2d",
       "kargs": {
        "bias": false,
        "in_channels": 1,
        "kernel_size": [
         1,
         7
        ],
        "out_channels": 256,
        "padding": [
         0,
         3
        ]
       }
      },
      {
       "class": "ReLU",
       "kargs": {
        "inplace": true
       }
      },
      {
       "class": "BatchNorm2d",
       "kargs": {
        "num_features": 256
       }
      },
      {
       "class": "Conv2d",
       "kargs": {
        "bias": true,
        "in_channels": 256,
        "kernel_size": [
         2,
         7
        ],
        "out_channels": 80,
        "padding": [
         0,
         3
        ]
       }
      },
      {
       "class": "ReLU",
       "kargs": {
        "inplace": true
       }
      },
      {
       "class": "BatchNorm2d",
       "kargs": {
        "num_features": 80
       }
      },
      {
       "class": "Flatten",
       "kargs": {}
      },
      {
       "class": "Linear",
       "kargs": {
        "in_features": 20480,
        "out_features": 256
       }
      },
      {
       "class": "ReLU",
       "kargs": {
        "inplace": true
       }
      },
      {
       "class": "BatchNorm1d",
       "kargs": {
        "num_features": 256
       }
      },
      {
       "class": "Linear",
       "kargs": {
        "in_features": 256,
        "out_features": 256
       }
      }
     ],
     "x_transforms_source": [
      "unit_mag"
     ],
     "x_transforms_target": [
      "unit_mag"
     ]
    }
   },
   "start_time": "2022-03-06T17:59:40.596642",
   "version": "2.3.4"
  }
 },
 "nbformat": 4,
 "nbformat_minor": 5
}