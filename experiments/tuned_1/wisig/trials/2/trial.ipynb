{
 "cells": [
  {
   "cell_type": "markdown",
   "id": "9fea5f46",
   "metadata": {
    "papermill": {
     "duration": 0.015673,
     "end_time": "2022-03-06T00:59:28.611027",
     "exception": false,
     "start_time": "2022-03-06T00:59:28.595354",
     "status": "completed"
    },
    "tags": []
   },
   "source": [
    "# PTN Template\n",
    "This notebook serves as a template for single dataset PTN experiments  \n",
    "It can be run on its own by setting STANDALONE to True (do a find for \"STANDALONE\" to see where)  \n",
    "But it is intended to be executed as part of a *papermill.py script. See any of the   \n",
    "experimentes with a papermill script to get started with that workflow.  "
   ]
  },
  {
   "cell_type": "code",
   "execution_count": 1,
   "id": "0902182a",
   "metadata": {
    "execution": {
     "iopub.execute_input": "2022-03-06T00:59:28.639961Z",
     "iopub.status.busy": "2022-03-06T00:59:28.639649Z",
     "iopub.status.idle": "2022-03-06T00:59:29.461096Z",
     "shell.execute_reply": "2022-03-06T00:59:29.460680Z"
    },
    "papermill": {
     "duration": 0.840323,
     "end_time": "2022-03-06T00:59:29.461207",
     "exception": false,
     "start_time": "2022-03-06T00:59:28.620884",
     "status": "completed"
    },
    "tags": []
   },
   "outputs": [],
   "source": [
    "%load_ext autoreload\n",
    "%autoreload 2\n",
    "%matplotlib inline\n",
    "\n",
    "    \n",
    "import os, json, sys, time, random\n",
    "import numpy as np\n",
    "import torch\n",
    "from torch.optim import Adam\n",
    "from  easydict import EasyDict\n",
    "import matplotlib.pyplot as plt\n",
    "\n",
    "from steves_models.steves_ptn import Steves_Prototypical_Network\n",
    "\n",
    "from steves_utils.lazy_iterable_wrapper import Lazy_Iterable_Wrapper\n",
    "from steves_utils.iterable_aggregator import Iterable_Aggregator\n",
    "from steves_utils.ptn_train_eval_test_jig import  PTN_Train_Eval_Test_Jig\n",
    "from steves_utils.torch_sequential_builder import build_sequential\n",
    "from steves_utils.torch_utils import get_dataset_metrics, ptn_confusion_by_domain_over_dataloader\n",
    "from steves_utils.utils_v2 import (per_domain_accuracy_from_confusion, get_datasets_base_path)\n",
    "from steves_utils.PTN.utils import independent_accuracy_assesment\n",
    "\n",
    "from steves_utils.stratified_dataset.episodic_accessor import Episodic_Accessor_Factory\n",
    "\n",
    "from steves_utils.ptn_do_report import (\n",
    "    get_loss_curve,\n",
    "    get_results_table,\n",
    "    get_parameters_table,\n",
    "    get_domain_accuracies,\n",
    ")\n",
    "\n",
    "from steves_utils.transforms import get_chained_transform"
   ]
  },
  {
   "cell_type": "markdown",
   "id": "41c840b4",
   "metadata": {
    "papermill": {
     "duration": 0.009733,
     "end_time": "2022-03-06T00:59:29.484239",
     "exception": false,
     "start_time": "2022-03-06T00:59:29.474506",
     "status": "completed"
    },
    "tags": []
   },
   "source": [
    "# Required Parameters\n",
    "These are allowed parameters, not defaults\n",
    "Each of these values need to be present in the injected parameters (the notebook will raise an exception if they are not present)\n",
    "\n",
    "Papermill uses the cell tag \"parameters\" to inject the real parameters below this cell.\n",
    "Enable tags to see what I mean"
   ]
  },
  {
   "cell_type": "code",
   "execution_count": 2,
   "id": "fd44eb83",
   "metadata": {
    "execution": {
     "iopub.execute_input": "2022-03-06T00:59:29.507773Z",
     "iopub.status.busy": "2022-03-06T00:59:29.507495Z",
     "iopub.status.idle": "2022-03-06T00:59:29.520442Z",
     "shell.execute_reply": "2022-03-06T00:59:29.520844Z"
    },
    "papermill": {
     "duration": 0.027078,
     "end_time": "2022-03-06T00:59:29.520964",
     "exception": false,
     "start_time": "2022-03-06T00:59:29.493886",
     "status": "completed"
    },
    "tags": []
   },
   "outputs": [],
   "source": [
    "required_parameters = {\n",
    "    \"experiment_name\",\n",
    "    \"lr\",\n",
    "    \"device\",\n",
    "    \"seed\",\n",
    "    \"dataset_seed\",\n",
    "    \"labels_source\",\n",
    "    \"labels_target\",\n",
    "    \"domains_source\",\n",
    "    \"domains_target\",\n",
    "    \"num_examples_per_domain_per_label_source\",\n",
    "    \"num_examples_per_domain_per_label_target\",\n",
    "    \"n_shot\",\n",
    "    \"n_way\",\n",
    "    \"n_query\",\n",
    "    \"train_k_factor\",\n",
    "    \"val_k_factor\",\n",
    "    \"test_k_factor\",\n",
    "    \"n_epoch\",\n",
    "    \"patience\",\n",
    "    \"criteria_for_best\",\n",
    "    \"x_transforms_source\",\n",
    "    \"x_transforms_target\",\n",
    "    \"episode_transforms_source\",\n",
    "    \"episode_transforms_target\",\n",
    "    \"pickle_name\",\n",
    "    \"x_net\",\n",
    "    \"NUM_LOGS_PER_EPOCH\",\n",
    "    \"BEST_MODEL_PATH\",\n",
    "    \"torch_default_dtype\"\n",
    "}"
   ]
  },
  {
   "cell_type": "code",
   "execution_count": 3,
   "id": "fa3f0049",
   "metadata": {
    "execution": {
     "iopub.execute_input": "2022-03-06T00:59:29.556655Z",
     "iopub.status.busy": "2022-03-06T00:59:29.547248Z",
     "iopub.status.idle": "2022-03-06T00:59:29.567573Z",
     "shell.execute_reply": "2022-03-06T00:59:29.567135Z"
    },
    "papermill": {
     "duration": 0.031931,
     "end_time": "2022-03-06T00:59:29.567676",
     "exception": false,
     "start_time": "2022-03-06T00:59:29.535745",
     "status": "completed"
    },
    "tags": [
     "parameters"
    ]
   },
   "outputs": [],
   "source": [
    "\n",
    "\n",
    "standalone_parameters = {}\n",
    "standalone_parameters[\"experiment_name\"] = \"STANDALONE PTN\"\n",
    "standalone_parameters[\"lr\"] = 0.0001\n",
    "standalone_parameters[\"device\"] = \"cuda\"\n",
    "\n",
    "standalone_parameters[\"seed\"] = 1337\n",
    "standalone_parameters[\"dataset_seed\"] = 1337\n",
    "\n",
    "\n",
    "standalone_parameters[\"num_examples_per_domain_per_label_source\"]=100\n",
    "standalone_parameters[\"num_examples_per_domain_per_label_target\"]=100\n",
    "\n",
    "standalone_parameters[\"n_shot\"] = 3\n",
    "standalone_parameters[\"n_query\"]  = 2\n",
    "standalone_parameters[\"train_k_factor\"] = 1\n",
    "standalone_parameters[\"val_k_factor\"] = 2\n",
    "standalone_parameters[\"test_k_factor\"] = 2\n",
    "\n",
    "\n",
    "standalone_parameters[\"n_epoch\"] = 100\n",
    "\n",
    "standalone_parameters[\"patience\"] = 10\n",
    "standalone_parameters[\"criteria_for_best\"] = \"target_accuracy\"\n",
    "\n",
    "standalone_parameters[\"x_transforms_source\"] = [\"unit_power\"]\n",
    "standalone_parameters[\"x_transforms_target\"] = [\"unit_power\"]\n",
    "standalone_parameters[\"episode_transforms_source\"] = []\n",
    "standalone_parameters[\"episode_transforms_target\"] = []\n",
    "\n",
    "standalone_parameters[\"torch_default_dtype\"] = \"torch.float32\" \n",
    "\n",
    "\n",
    "\n",
    "standalone_parameters[\"x_net\"] =     [\n",
    "    {\"class\": \"nnReshape\", \"kargs\": {\"shape\":[-1, 1, 2, 256]}},\n",
    "    {\"class\": \"Conv2d\", \"kargs\": { \"in_channels\":1, \"out_channels\":256, \"kernel_size\":(1,7), \"bias\":False, \"padding\":(0,3), },},\n",
    "    {\"class\": \"ReLU\", \"kargs\": {\"inplace\": True}},\n",
    "    {\"class\": \"BatchNorm2d\", \"kargs\": {\"num_features\":256}},\n",
    "\n",
    "    {\"class\": \"Conv2d\", \"kargs\": { \"in_channels\":256, \"out_channels\":80, \"kernel_size\":(2,7), \"bias\":True, \"padding\":(0,3), },},\n",
    "    {\"class\": \"ReLU\", \"kargs\": {\"inplace\": True}},\n",
    "    {\"class\": \"BatchNorm2d\", \"kargs\": {\"num_features\":80}},\n",
    "    {\"class\": \"Flatten\", \"kargs\": {}},\n",
    "\n",
    "    {\"class\": \"Linear\", \"kargs\": {\"in_features\": 80*256, \"out_features\": 256}}, # 80 units per IQ pair\n",
    "    {\"class\": \"ReLU\", \"kargs\": {\"inplace\": True}},\n",
    "    {\"class\": \"BatchNorm1d\", \"kargs\": {\"num_features\":256}},\n",
    "\n",
    "    {\"class\": \"Linear\", \"kargs\": {\"in_features\": 256, \"out_features\": 256}},\n",
    "]\n",
    "\n",
    "# Parameters relevant to results\n",
    "# These parameters will basically never need to change\n",
    "standalone_parameters[\"NUM_LOGS_PER_EPOCH\"] = 10\n",
    "standalone_parameters[\"BEST_MODEL_PATH\"] = \"./best_model.pth\"\n",
    "\n",
    "# uncomment for CORES dataset\n",
    "from steves_utils.CORES.utils import (\n",
    "    ALL_NODES,\n",
    "    ALL_NODES_MINIMUM_1000_EXAMPLES,\n",
    "    ALL_DAYS\n",
    ")\n",
    "\n",
    "\n",
    "standalone_parameters[\"labels_source\"] = ALL_NODES\n",
    "standalone_parameters[\"labels_target\"] = ALL_NODES\n",
    "\n",
    "standalone_parameters[\"domains_source\"] = [1]\n",
    "standalone_parameters[\"domains_target\"] = [2,3,4,5]\n",
    "\n",
    "standalone_parameters[\"pickle_name\"] = \"cores.stratified_ds.2022A.pkl\"\n",
    "\n",
    "\n",
    "# Uncomment these for ORACLE dataset\n",
    "# from steves_utils.ORACLE.utils_v2 import (\n",
    "#     ALL_DISTANCES_FEET,\n",
    "#     ALL_RUNS,\n",
    "#     ALL_SERIAL_NUMBERS,\n",
    "# )\n",
    "# standalone_parameters[\"labels_source\"] = ALL_SERIAL_NUMBERS\n",
    "# standalone_parameters[\"labels_target\"] = ALL_SERIAL_NUMBERS\n",
    "# standalone_parameters[\"domains_source\"] = [8,20, 38,50]\n",
    "# standalone_parameters[\"domains_target\"] = [14, 26, 32, 44, 56]\n",
    "# standalone_parameters[\"pickle_name\"] = \"oracle.frame_indexed.stratified_ds.2022A.pkl\"\n",
    "# standalone_parameters[\"num_examples_per_domain_per_label_source\"]=1000\n",
    "# standalone_parameters[\"num_examples_per_domain_per_label_target\"]=1000\n",
    "\n",
    "# Uncomment these for Metahan dataset\n",
    "# standalone_parameters[\"labels_source\"] = list(range(19))\n",
    "# standalone_parameters[\"labels_target\"] = list(range(19))\n",
    "# standalone_parameters[\"domains_source\"] = [0]\n",
    "# standalone_parameters[\"domains_target\"] = [1]\n",
    "# standalone_parameters[\"pickle_name\"] = \"metehan.stratified_ds.2022A.pkl\"\n",
    "# standalone_parameters[\"n_way\"]  = len(standalone_parameters[\"labels_source\"])\n",
    "# standalone_parameters[\"num_examples_per_domain_per_label_source\"]=200\n",
    "# standalone_parameters[\"num_examples_per_domain_per_label_target\"]=100\n",
    "\n",
    "\n",
    "standalone_parameters[\"n_way\"]  = len(standalone_parameters[\"labels_source\"])"
   ]
  },
  {
   "cell_type": "code",
   "execution_count": 4,
   "id": "d4a520c9",
   "metadata": {
    "execution": {
     "iopub.execute_input": "2022-03-06T00:59:29.599991Z",
     "iopub.status.busy": "2022-03-06T00:59:29.596393Z",
     "iopub.status.idle": "2022-03-06T00:59:29.611893Z",
     "shell.execute_reply": "2022-03-06T00:59:29.612301Z"
    },
    "papermill": {
     "duration": 0.032505,
     "end_time": "2022-03-06T00:59:29.612429",
     "exception": false,
     "start_time": "2022-03-06T00:59:29.579924",
     "status": "completed"
    },
    "tags": [
     "injected-parameters"
    ]
   },
   "outputs": [],
   "source": [
    "# Parameters\n",
    "parameters = {\n",
    "    \"experiment_name\": \"tuned_1_wisig\",\n",
    "    \"device\": \"cuda\",\n",
    "    \"lr\": 0.001,\n",
    "    \"seed\": 1337,\n",
    "    \"dataset_seed\": 1337,\n",
    "    \"labels_source\": [\n",
    "        \"1-10\",\n",
    "        \"1-12\",\n",
    "        \"1-14\",\n",
    "        \"1-16\",\n",
    "        \"1-18\",\n",
    "        \"1-19\",\n",
    "        \"1-8\",\n",
    "        \"10-11\",\n",
    "        \"10-17\",\n",
    "        \"10-4\",\n",
    "        \"10-7\",\n",
    "        \"11-1\",\n",
    "        \"11-10\",\n",
    "        \"11-19\",\n",
    "        \"11-20\",\n",
    "        \"11-4\",\n",
    "        \"11-7\",\n",
    "        \"12-19\",\n",
    "        \"12-20\",\n",
    "        \"12-7\",\n",
    "        \"13-14\",\n",
    "        \"13-18\",\n",
    "        \"13-19\",\n",
    "        \"13-20\",\n",
    "        \"13-3\",\n",
    "        \"13-7\",\n",
    "        \"14-10\",\n",
    "        \"14-11\",\n",
    "        \"14-12\",\n",
    "        \"14-13\",\n",
    "        \"14-14\",\n",
    "        \"14-19\",\n",
    "        \"14-20\",\n",
    "        \"14-7\",\n",
    "        \"14-8\",\n",
    "        \"14-9\",\n",
    "        \"15-1\",\n",
    "        \"15-19\",\n",
    "        \"15-6\",\n",
    "        \"16-1\",\n",
    "        \"16-16\",\n",
    "        \"16-19\",\n",
    "        \"16-20\",\n",
    "        \"17-10\",\n",
    "        \"17-11\",\n",
    "        \"18-1\",\n",
    "        \"18-10\",\n",
    "        \"18-11\",\n",
    "        \"18-12\",\n",
    "        \"18-13\",\n",
    "        \"18-14\",\n",
    "        \"18-15\",\n",
    "        \"18-16\",\n",
    "        \"18-17\",\n",
    "        \"18-19\",\n",
    "        \"18-2\",\n",
    "        \"18-20\",\n",
    "        \"18-4\",\n",
    "        \"18-5\",\n",
    "        \"18-7\",\n",
    "        \"18-8\",\n",
    "        \"18-9\",\n",
    "        \"19-1\",\n",
    "        \"19-10\",\n",
    "        \"19-11\",\n",
    "        \"19-12\",\n",
    "        \"19-13\",\n",
    "        \"19-14\",\n",
    "        \"19-15\",\n",
    "        \"19-19\",\n",
    "        \"19-2\",\n",
    "        \"19-20\",\n",
    "        \"19-3\",\n",
    "        \"19-4\",\n",
    "        \"19-6\",\n",
    "        \"19-7\",\n",
    "        \"19-8\",\n",
    "        \"19-9\",\n",
    "        \"2-1\",\n",
    "        \"2-13\",\n",
    "        \"2-15\",\n",
    "        \"2-3\",\n",
    "        \"2-4\",\n",
    "        \"2-5\",\n",
    "        \"2-6\",\n",
    "        \"2-7\",\n",
    "        \"2-8\",\n",
    "        \"20-1\",\n",
    "        \"20-12\",\n",
    "        \"20-14\",\n",
    "        \"20-15\",\n",
    "        \"20-16\",\n",
    "        \"20-18\",\n",
    "        \"20-19\",\n",
    "        \"20-20\",\n",
    "        \"20-3\",\n",
    "        \"20-4\",\n",
    "        \"20-5\",\n",
    "        \"20-7\",\n",
    "        \"20-8\",\n",
    "        \"3-1\",\n",
    "        \"3-13\",\n",
    "        \"3-18\",\n",
    "        \"3-2\",\n",
    "        \"3-8\",\n",
    "        \"4-1\",\n",
    "        \"4-10\",\n",
    "        \"4-11\",\n",
    "        \"5-1\",\n",
    "        \"5-5\",\n",
    "        \"6-1\",\n",
    "        \"6-15\",\n",
    "        \"6-6\",\n",
    "        \"7-10\",\n",
    "        \"7-11\",\n",
    "        \"7-12\",\n",
    "        \"7-13\",\n",
    "        \"7-14\",\n",
    "        \"7-7\",\n",
    "        \"7-8\",\n",
    "        \"7-9\",\n",
    "        \"8-1\",\n",
    "        \"8-13\",\n",
    "        \"8-14\",\n",
    "        \"8-18\",\n",
    "        \"8-20\",\n",
    "        \"8-3\",\n",
    "        \"8-8\",\n",
    "        \"9-1\",\n",
    "        \"9-7\",\n",
    "    ],\n",
    "    \"labels_target\": [\n",
    "        \"1-10\",\n",
    "        \"1-12\",\n",
    "        \"1-14\",\n",
    "        \"1-16\",\n",
    "        \"1-18\",\n",
    "        \"1-19\",\n",
    "        \"1-8\",\n",
    "        \"10-11\",\n",
    "        \"10-17\",\n",
    "        \"10-4\",\n",
    "        \"10-7\",\n",
    "        \"11-1\",\n",
    "        \"11-10\",\n",
    "        \"11-19\",\n",
    "        \"11-20\",\n",
    "        \"11-4\",\n",
    "        \"11-7\",\n",
    "        \"12-19\",\n",
    "        \"12-20\",\n",
    "        \"12-7\",\n",
    "        \"13-14\",\n",
    "        \"13-18\",\n",
    "        \"13-19\",\n",
    "        \"13-20\",\n",
    "        \"13-3\",\n",
    "        \"13-7\",\n",
    "        \"14-10\",\n",
    "        \"14-11\",\n",
    "        \"14-12\",\n",
    "        \"14-13\",\n",
    "        \"14-14\",\n",
    "        \"14-19\",\n",
    "        \"14-20\",\n",
    "        \"14-7\",\n",
    "        \"14-8\",\n",
    "        \"14-9\",\n",
    "        \"15-1\",\n",
    "        \"15-19\",\n",
    "        \"15-6\",\n",
    "        \"16-1\",\n",
    "        \"16-16\",\n",
    "        \"16-19\",\n",
    "        \"16-20\",\n",
    "        \"17-10\",\n",
    "        \"17-11\",\n",
    "        \"18-1\",\n",
    "        \"18-10\",\n",
    "        \"18-11\",\n",
    "        \"18-12\",\n",
    "        \"18-13\",\n",
    "        \"18-14\",\n",
    "        \"18-15\",\n",
    "        \"18-16\",\n",
    "        \"18-17\",\n",
    "        \"18-19\",\n",
    "        \"18-2\",\n",
    "        \"18-20\",\n",
    "        \"18-4\",\n",
    "        \"18-5\",\n",
    "        \"18-7\",\n",
    "        \"18-8\",\n",
    "        \"18-9\",\n",
    "        \"19-1\",\n",
    "        \"19-10\",\n",
    "        \"19-11\",\n",
    "        \"19-12\",\n",
    "        \"19-13\",\n",
    "        \"19-14\",\n",
    "        \"19-15\",\n",
    "        \"19-19\",\n",
    "        \"19-2\",\n",
    "        \"19-20\",\n",
    "        \"19-3\",\n",
    "        \"19-4\",\n",
    "        \"19-6\",\n",
    "        \"19-7\",\n",
    "        \"19-8\",\n",
    "        \"19-9\",\n",
    "        \"2-1\",\n",
    "        \"2-13\",\n",
    "        \"2-15\",\n",
    "        \"2-3\",\n",
    "        \"2-4\",\n",
    "        \"2-5\",\n",
    "        \"2-6\",\n",
    "        \"2-7\",\n",
    "        \"2-8\",\n",
    "        \"20-1\",\n",
    "        \"20-12\",\n",
    "        \"20-14\",\n",
    "        \"20-15\",\n",
    "        \"20-16\",\n",
    "        \"20-18\",\n",
    "        \"20-19\",\n",
    "        \"20-20\",\n",
    "        \"20-3\",\n",
    "        \"20-4\",\n",
    "        \"20-5\",\n",
    "        \"20-7\",\n",
    "        \"20-8\",\n",
    "        \"3-1\",\n",
    "        \"3-13\",\n",
    "        \"3-18\",\n",
    "        \"3-2\",\n",
    "        \"3-8\",\n",
    "        \"4-1\",\n",
    "        \"4-10\",\n",
    "        \"4-11\",\n",
    "        \"5-1\",\n",
    "        \"5-5\",\n",
    "        \"6-1\",\n",
    "        \"6-15\",\n",
    "        \"6-6\",\n",
    "        \"7-10\",\n",
    "        \"7-11\",\n",
    "        \"7-12\",\n",
    "        \"7-13\",\n",
    "        \"7-14\",\n",
    "        \"7-7\",\n",
    "        \"7-8\",\n",
    "        \"7-9\",\n",
    "        \"8-1\",\n",
    "        \"8-13\",\n",
    "        \"8-14\",\n",
    "        \"8-18\",\n",
    "        \"8-20\",\n",
    "        \"8-3\",\n",
    "        \"8-8\",\n",
    "        \"9-1\",\n",
    "        \"9-7\",\n",
    "    ],\n",
    "    \"x_transforms_source\": [\"times_zero\"],\n",
    "    \"x_transforms_target\": [\"times_zero\"],\n",
    "    \"episode_transforms_source\": [],\n",
    "    \"episode_transforms_target\": [],\n",
    "    \"domains_source\": [3],\n",
    "    \"domains_target\": [1, 2, 4],\n",
    "    \"num_examples_per_domain_per_label_source\": 100,\n",
    "    \"num_examples_per_domain_per_label_target\": 100,\n",
    "    \"n_shot\": 3,\n",
    "    \"n_way\": 130,\n",
    "    \"n_query\": 2,\n",
    "    \"train_k_factor\": 3,\n",
    "    \"val_k_factor\": 2,\n",
    "    \"test_k_factor\": 2,\n",
    "    \"torch_default_dtype\": \"torch.float32\",\n",
    "    \"n_epoch\": 50,\n",
    "    \"patience\": 3,\n",
    "    \"criteria_for_best\": \"target_loss\",\n",
    "    \"x_net\": [\n",
    "        {\"class\": \"nnReshape\", \"kargs\": {\"shape\": [-1, 1, 2, 256]}},\n",
    "        {\n",
    "            \"class\": \"Conv2d\",\n",
    "            \"kargs\": {\n",
    "                \"in_channels\": 1,\n",
    "                \"out_channels\": 256,\n",
    "                \"kernel_size\": [1, 7],\n",
    "                \"bias\": False,\n",
    "                \"padding\": [0, 3],\n",
    "            },\n",
    "        },\n",
    "        {\"class\": \"ReLU\", \"kargs\": {\"inplace\": True}},\n",
    "        {\"class\": \"BatchNorm2d\", \"kargs\": {\"num_features\": 256}},\n",
    "        {\n",
    "            \"class\": \"Conv2d\",\n",
    "            \"kargs\": {\n",
    "                \"in_channels\": 256,\n",
    "                \"out_channels\": 80,\n",
    "                \"kernel_size\": [2, 7],\n",
    "                \"bias\": True,\n",
    "                \"padding\": [0, 3],\n",
    "            },\n",
    "        },\n",
    "        {\"class\": \"ReLU\", \"kargs\": {\"inplace\": True}},\n",
    "        {\"class\": \"BatchNorm2d\", \"kargs\": {\"num_features\": 80}},\n",
    "        {\"class\": \"Flatten\", \"kargs\": {}},\n",
    "        {\"class\": \"Linear\", \"kargs\": {\"in_features\": 20480, \"out_features\": 256}},\n",
    "        {\"class\": \"ReLU\", \"kargs\": {\"inplace\": True}},\n",
    "        {\"class\": \"BatchNorm1d\", \"kargs\": {\"num_features\": 256}},\n",
    "        {\"class\": \"Linear\", \"kargs\": {\"in_features\": 256, \"out_features\": 256}},\n",
    "    ],\n",
    "    \"NUM_LOGS_PER_EPOCH\": 10,\n",
    "    \"BEST_MODEL_PATH\": \"./best_model.pth\",\n",
    "    \"pickle_name\": \"wisig.node3-19.stratified_ds.2022A.pkl\",\n",
    "}\n"
   ]
  },
  {
   "cell_type": "code",
   "execution_count": 5,
   "id": "8fa1cc33",
   "metadata": {
    "execution": {
     "iopub.execute_input": "2022-03-06T00:59:29.638136Z",
     "iopub.status.busy": "2022-03-06T00:59:29.635637Z",
     "iopub.status.idle": "2022-03-06T00:59:29.652406Z",
     "shell.execute_reply": "2022-03-06T00:59:29.651980Z"
    },
    "papermill": {
     "duration": 0.028249,
     "end_time": "2022-03-06T00:59:29.652505",
     "exception": false,
     "start_time": "2022-03-06T00:59:29.624256",
     "status": "completed"
    },
    "tags": []
   },
   "outputs": [],
   "source": [
    "# Set this to True if you want to run this template directly\n",
    "STANDALONE = False\n",
    "if STANDALONE:\n",
    "    print(\"parameters not injected, running with standalone_parameters\")\n",
    "    parameters = standalone_parameters\n",
    "\n",
    "if not 'parameters' in locals() and not 'parameters' in globals():\n",
    "    raise Exception(\"Parameter injection failed\")\n",
    "\n",
    "#Use an easy dict for all the parameters\n",
    "p = EasyDict(parameters)\n",
    "\n",
    "supplied_keys = set(p.keys())\n",
    "\n",
    "if  supplied_keys != required_parameters:\n",
    "    print(\"Parameters are incorrect\")\n",
    "    if len(supplied_keys - required_parameters)>0: print(\"Shouldn't have:\", str(supplied_keys - required_parameters))\n",
    "    if len(required_parameters - supplied_keys)>0: print(\"Need to have:\", str(required_parameters - supplied_keys))\n",
    "    raise RuntimeError(\"Parameters are incorrect\")\n",
    "\n"
   ]
  },
  {
   "cell_type": "code",
   "execution_count": 6,
   "id": "3a028d58",
   "metadata": {
    "execution": {
     "iopub.execute_input": "2022-03-06T00:59:29.681528Z",
     "iopub.status.busy": "2022-03-06T00:59:29.680993Z",
     "iopub.status.idle": "2022-03-06T00:59:29.695427Z",
     "shell.execute_reply": "2022-03-06T00:59:29.695174Z"
    },
    "papermill": {
     "duration": 0.026986,
     "end_time": "2022-03-06T00:59:29.695492",
     "exception": false,
     "start_time": "2022-03-06T00:59:29.668506",
     "status": "completed"
    },
    "tags": []
   },
   "outputs": [],
   "source": [
    "###################################\n",
    "# Set the RNGs and make it all deterministic\n",
    "###################################\n",
    "np.random.seed(p.seed)\n",
    "random.seed(p.seed)\n",
    "torch.manual_seed(p.seed)\n",
    "\n",
    "torch.use_deterministic_algorithms(True) "
   ]
  },
  {
   "cell_type": "code",
   "execution_count": 7,
   "id": "b691acf6",
   "metadata": {
    "execution": {
     "iopub.execute_input": "2022-03-06T00:59:29.719032Z",
     "iopub.status.busy": "2022-03-06T00:59:29.718757Z",
     "iopub.status.idle": "2022-03-06T00:59:29.731898Z",
     "shell.execute_reply": "2022-03-06T00:59:29.732305Z"
    },
    "papermill": {
     "duration": 0.026657,
     "end_time": "2022-03-06T00:59:29.732436",
     "exception": false,
     "start_time": "2022-03-06T00:59:29.705779",
     "status": "completed"
    },
    "tags": []
   },
   "outputs": [],
   "source": [
    "###########################################\n",
    "# The stratified datasets honor this\n",
    "###########################################\n",
    "torch.set_default_dtype(eval(p.torch_default_dtype))"
   ]
  },
  {
   "cell_type": "code",
   "execution_count": 8,
   "id": "b5fba671",
   "metadata": {
    "execution": {
     "iopub.execute_input": "2022-03-06T00:59:29.759999Z",
     "iopub.status.busy": "2022-03-06T00:59:29.759726Z",
     "iopub.status.idle": "2022-03-06T00:59:29.823653Z",
     "shell.execute_reply": "2022-03-06T00:59:29.824047Z"
    },
    "papermill": {
     "duration": 0.076539,
     "end_time": "2022-03-06T00:59:29.824183",
     "exception": false,
     "start_time": "2022-03-06T00:59:29.747644",
     "status": "completed"
    },
    "tags": []
   },
   "outputs": [],
   "source": [
    "###################################\n",
    "# Build the network(s)\n",
    "# Note: It's critical to do this AFTER setting the RNG\n",
    "# (This is due to the randomized initial weights)\n",
    "###################################\n",
    "x_net = build_sequential(p.x_net)"
   ]
  },
  {
   "cell_type": "code",
   "execution_count": 9,
   "id": "5d7e61cc",
   "metadata": {
    "execution": {
     "iopub.execute_input": "2022-03-06T00:59:29.851978Z",
     "iopub.status.busy": "2022-03-06T00:59:29.851721Z",
     "iopub.status.idle": "2022-03-06T00:59:29.861686Z",
     "shell.execute_reply": "2022-03-06T00:59:29.861342Z"
    },
    "papermill": {
     "duration": 0.021638,
     "end_time": "2022-03-06T00:59:29.861772",
     "exception": false,
     "start_time": "2022-03-06T00:59:29.840134",
     "status": "completed"
    },
    "tags": []
   },
   "outputs": [],
   "source": [
    "start_time_secs = time.time()"
   ]
  },
  {
   "cell_type": "code",
   "execution_count": 10,
   "id": "fd5442bc",
   "metadata": {
    "execution": {
     "iopub.execute_input": "2022-03-06T00:59:29.894485Z",
     "iopub.status.busy": "2022-03-06T00:59:29.892251Z",
     "iopub.status.idle": "2022-03-06T00:59:31.067621Z",
     "shell.execute_reply": "2022-03-06T00:59:31.067095Z"
    },
    "papermill": {
     "duration": 1.192271,
     "end_time": "2022-03-06T00:59:31.067730",
     "exception": false,
     "start_time": "2022-03-06T00:59:29.875459",
     "status": "completed"
    },
    "tags": []
   },
   "outputs": [],
   "source": [
    "###################################\n",
    "# Build the dataset\n",
    "###################################\n",
    "\n",
    "if p.x_transforms_source == []: x_transform_source = None\n",
    "else: x_transform_source = get_chained_transform(p.x_transforms_source) \n",
    "\n",
    "if p.x_transforms_target == []: x_transform_target = None\n",
    "else: x_transform_target = get_chained_transform(p.x_transforms_target)\n",
    "\n",
    "if p.episode_transforms_source == []: episode_transform_source = None\n",
    "else: raise Exception(\"episode_transform_source not implemented\")\n",
    "\n",
    "if p.episode_transforms_target == []: episode_transform_target = None\n",
    "else: raise Exception(\"episode_transform_target not implemented\")\n",
    "\n",
    "\n",
    "eaf_source = Episodic_Accessor_Factory(\n",
    "    labels=p.labels_source,\n",
    "    domains=p.domains_source,\n",
    "    num_examples_per_domain_per_label=p.num_examples_per_domain_per_label_source,\n",
    "    iterator_seed=p.seed,\n",
    "    dataset_seed=p.dataset_seed,\n",
    "    n_shot=p.n_shot,\n",
    "    n_way=p.n_way,\n",
    "    n_query=p.n_query,\n",
    "    train_val_test_k_factors=(p.train_k_factor,p.val_k_factor,p.test_k_factor),\n",
    "    pickle_path=os.path.join(get_datasets_base_path(), p.pickle_name),\n",
    "    x_transform_func=x_transform_source,\n",
    "    example_transform_func=episode_transform_source,\n",
    "    \n",
    ")\n",
    "train_original_source, val_original_source, test_original_source = eaf_source.get_train(), eaf_source.get_val(), eaf_source.get_test()\n",
    "\n",
    "\n",
    "eaf_target = Episodic_Accessor_Factory(\n",
    "    labels=p.labels_target,\n",
    "    domains=p.domains_target,\n",
    "    num_examples_per_domain_per_label=p.num_examples_per_domain_per_label_target,\n",
    "    iterator_seed=p.seed,\n",
    "    dataset_seed=p.dataset_seed,\n",
    "    n_shot=p.n_shot,\n",
    "    n_way=p.n_way,\n",
    "    n_query=p.n_query,\n",
    "    train_val_test_k_factors=(p.train_k_factor,p.val_k_factor,p.test_k_factor),\n",
    "    pickle_path=os.path.join(get_datasets_base_path(), p.pickle_name),\n",
    "    x_transform_func=x_transform_target,\n",
    "    example_transform_func=episode_transform_target,\n",
    ")\n",
    "train_original_target, val_original_target, test_original_target = eaf_target.get_train(), eaf_target.get_val(), eaf_target.get_test()\n",
    "\n",
    "\n",
    "transform_lambda = lambda ex: ex[1] # Original is (<domain>, <episode>) so we strip down to episode only\n",
    "\n",
    "train_processed_source = Lazy_Iterable_Wrapper(train_original_source, transform_lambda)\n",
    "val_processed_source   = Lazy_Iterable_Wrapper(val_original_source, transform_lambda)\n",
    "test_processed_source  = Lazy_Iterable_Wrapper(test_original_source, transform_lambda)\n",
    "\n",
    "train_processed_target = Lazy_Iterable_Wrapper(train_original_target, transform_lambda)\n",
    "val_processed_target   = Lazy_Iterable_Wrapper(val_original_target, transform_lambda)\n",
    "test_processed_target  = Lazy_Iterable_Wrapper(test_original_target, transform_lambda)\n",
    "\n",
    "datasets = EasyDict({\n",
    "    \"source\": {\n",
    "        \"original\": {\"train\":train_original_source, \"val\":val_original_source, \"test\":test_original_source},\n",
    "        \"processed\": {\"train\":train_processed_source, \"val\":val_processed_source, \"test\":test_processed_source}\n",
    "    },\n",
    "    \"target\": {\n",
    "        \"original\": {\"train\":train_original_target, \"val\":val_original_target, \"test\":test_original_target},\n",
    "        \"processed\": {\"train\":train_processed_target, \"val\":val_processed_target, \"test\":test_processed_target}\n",
    "    },\n",
    "})"
   ]
  },
  {
   "cell_type": "code",
   "execution_count": 11,
   "id": "296189d9",
   "metadata": {
    "execution": {
     "iopub.execute_input": "2022-03-06T00:59:31.096674Z",
     "iopub.status.busy": "2022-03-06T00:59:31.096411Z",
     "iopub.status.idle": "2022-03-06T00:59:32.769844Z",
     "shell.execute_reply": "2022-03-06T00:59:32.770204Z"
    },
    "papermill": {
     "duration": 1.68646,
     "end_time": "2022-03-06T00:59:32.770316",
     "exception": false,
     "start_time": "2022-03-06T00:59:31.083856",
     "status": "completed"
    },
    "tags": []
   },
   "outputs": [
    {
     "name": "stdout",
     "output_type": "stream",
     "text": [
      "Visually inspect these to see if they line up with expected values given the transforms\n",
      "x_transforms_source ['times_zero']\n",
      "x_transforms_target ['times_zero']\n",
      "Average magnitude, source: 0.0\n",
      "Average power, source: 0.0\n"
     ]
    },
    {
     "name": "stdout",
     "output_type": "stream",
     "text": [
      "Average magnitude, target: 0.0\n",
      "Average power, target: 0.0\n"
     ]
    }
   ],
   "source": [
    "# Some quick unit tests on the data\n",
    "from steves_utils.transforms import get_average_power, get_average_magnitude\n",
    "\n",
    "q_x, q_y, s_x, s_y, truth = next(iter(train_processed_source))\n",
    "\n",
    "assert q_x.dtype == eval(p.torch_default_dtype)\n",
    "assert s_x.dtype == eval(p.torch_default_dtype)\n",
    "\n",
    "print(\"Visually inspect these to see if they line up with expected values given the transforms\")\n",
    "print('x_transforms_source', p.x_transforms_source)\n",
    "print('x_transforms_target', p.x_transforms_target)\n",
    "print(\"Average magnitude, source:\", get_average_magnitude(q_x[0].numpy()))\n",
    "print(\"Average power, source:\", get_average_power(q_x[0].numpy()))\n",
    "\n",
    "q_x, q_y, s_x, s_y, truth = next(iter(train_processed_target))\n",
    "print(\"Average magnitude, target:\", get_average_magnitude(q_x[0].numpy()))\n",
    "print(\"Average power, target:\", get_average_power(q_x[0].numpy()))\n"
   ]
  },
  {
   "cell_type": "code",
   "execution_count": 12,
   "id": "bbdacba1",
   "metadata": {
    "execution": {
     "iopub.execute_input": "2022-03-06T00:59:32.796667Z",
     "iopub.status.busy": "2022-03-06T00:59:32.796249Z",
     "iopub.status.idle": "2022-03-06T00:59:32.859636Z",
     "shell.execute_reply": "2022-03-06T00:59:32.860048Z"
    },
    "papermill": {
     "duration": 0.07752,
     "end_time": "2022-03-06T00:59:32.860180",
     "exception": false,
     "start_time": "2022-03-06T00:59:32.782660",
     "status": "completed"
    },
    "tags": []
   },
   "outputs": [
    {
     "name": "stdout",
     "output_type": "stream",
     "text": [
      "(2, 256)\n"
     ]
    }
   ],
   "source": [
    "###################################\n",
    "# Build the model\n",
    "###################################\n",
    "model = Steves_Prototypical_Network(x_net, device=p.device, x_shape=(2,256))\n",
    "optimizer = Adam(params=model.parameters(), lr=p.lr)"
   ]
  },
  {
   "cell_type": "code",
   "execution_count": 13,
   "id": "22b39ac5",
   "metadata": {
    "execution": {
     "iopub.execute_input": "2022-03-06T00:59:32.886766Z",
     "iopub.status.busy": "2022-03-06T00:59:32.886483Z",
     "iopub.status.idle": "2022-03-06T01:00:14.801840Z",
     "shell.execute_reply": "2022-03-06T01:00:14.802129Z"
    },
    "papermill": {
     "duration": 41.929327,
     "end_time": "2022-03-06T01:00:14.802233",
     "exception": false,
     "start_time": "2022-03-06T00:59:32.872906",
     "status": "completed"
    },
    "tags": []
   },
   "outputs": [
    {
     "name": "stdout",
     "output_type": "stream",
     "text": [
      "epoch: 1, [batch: 1 / 42], examples_per_second: 2185.2618, train_label_loss: 4.8675, \n"
     ]
    },
    {
     "name": "stdout",
     "output_type": "stream",
     "text": [
      "epoch: 1, [batch: 5 / 42], examples_per_second: 3841.3802, train_label_loss: 4.8675, \n"
     ]
    },
    {
     "name": "stdout",
     "output_type": "stream",
     "text": [
      "epoch: 1, [batch: 9 / 42], examples_per_second: 3868.9547, train_label_loss: 4.8675, \n"
     ]
    },
    {
     "name": "stdout",
     "output_type": "stream",
     "text": [
      "epoch: 1, [batch: 13 / 42], examples_per_second: 3863.7402, train_label_loss: 4.8675, \n"
     ]
    },
    {
     "name": "stdout",
     "output_type": "stream",
     "text": [
      "epoch: 1, [batch: 17 / 42], examples_per_second: 3920.5501, train_label_loss: 4.8675, \n"
     ]
    },
    {
     "name": "stdout",
     "output_type": "stream",
     "text": [
      "epoch: 1, [batch: 21 / 42], examples_per_second: 3890.9533, train_label_loss: 4.8675, \n"
     ]
    },
    {
     "name": "stdout",
     "output_type": "stream",
     "text": [
      "epoch: 1, [batch: 25 / 42], examples_per_second: 3903.5398, train_label_loss: 4.8675, \n"
     ]
    },
    {
     "name": "stdout",
     "output_type": "stream",
     "text": [
      "epoch: 1, [batch: 29 / 42], examples_per_second: 3917.9443, train_label_loss: 4.8675, \n"
     ]
    },
    {
     "name": "stdout",
     "output_type": "stream",
     "text": [
      "epoch: 1, [batch: 33 / 42], examples_per_second: 3962.9428, train_label_loss: 4.8675, \n"
     ]
    },
    {
     "name": "stdout",
     "output_type": "stream",
     "text": [
      "epoch: 1, [batch: 37 / 42], examples_per_second: 4005.3957, train_label_loss: 4.8675, \n"
     ]
    },
    {
     "name": "stdout",
     "output_type": "stream",
     "text": [
      "=============================================================\n",
      "epoch: 1, source_val_acc_label: 0.0077, target_val_acc_label: 0.0077, source_val_label_loss: 4.8675, target_val_label_loss: 4.8675, \n",
      "=============================================================\n"
     ]
    },
    {
     "name": "stdout",
     "output_type": "stream",
     "text": [
      "New best\n"
     ]
    },
    {
     "name": "stdout",
     "output_type": "stream",
     "text": [
      "epoch: 2, [batch: 1 / 42], examples_per_second: 517.5586, train_label_loss: 4.8675, \n"
     ]
    },
    {
     "name": "stdout",
     "output_type": "stream",
     "text": [
      "epoch: 2, [batch: 5 / 42], examples_per_second: 3901.7033, train_label_loss: 4.8675, \n"
     ]
    },
    {
     "name": "stdout",
     "output_type": "stream",
     "text": [
      "epoch: 2, [batch: 9 / 42], examples_per_second: 3955.9805, train_label_loss: 4.8675, \n"
     ]
    },
    {
     "name": "stdout",
     "output_type": "stream",
     "text": [
      "epoch: 2, [batch: 13 / 42], examples_per_second: 3958.5021, train_label_loss: 4.8675, \n"
     ]
    },
    {
     "name": "stdout",
     "output_type": "stream",
     "text": [
      "epoch: 2, [batch: 17 / 42], examples_per_second: 3997.6987, train_label_loss: 4.8675, \n"
     ]
    },
    {
     "name": "stdout",
     "output_type": "stream",
     "text": [
      "epoch: 2, [batch: 21 / 42], examples_per_second: 3992.5921, train_label_loss: 4.8675, \n"
     ]
    },
    {
     "name": "stdout",
     "output_type": "stream",
     "text": [
      "epoch: 2, [batch: 25 / 42], examples_per_second: 4004.1838, train_label_loss: 4.8675, \n"
     ]
    },
    {
     "name": "stdout",
     "output_type": "stream",
     "text": [
      "epoch: 2, [batch: 29 / 42], examples_per_second: 3996.8020, train_label_loss: 4.8675, \n"
     ]
    },
    {
     "name": "stdout",
     "output_type": "stream",
     "text": [
      "epoch: 2, [batch: 33 / 42], examples_per_second: 4050.1694, train_label_loss: 4.8675, \n"
     ]
    },
    {
     "name": "stdout",
     "output_type": "stream",
     "text": [
      "epoch: 2, [batch: 37 / 42], examples_per_second: 4084.3823, train_label_loss: 4.8675, \n"
     ]
    },
    {
     "name": "stdout",
     "output_type": "stream",
     "text": [
      "=============================================================\n",
      "epoch: 2, source_val_acc_label: 0.0077, target_val_acc_label: 0.0077, source_val_label_loss: 4.8675, target_val_label_loss: 4.8675, \n",
      "=============================================================\n"
     ]
    },
    {
     "name": "stdout",
     "output_type": "stream",
     "text": [
      "epoch: 3, [batch: 1 / 42], examples_per_second: 524.5620, train_label_loss: 4.8675, \n"
     ]
    },
    {
     "name": "stdout",
     "output_type": "stream",
     "text": [
      "epoch: 3, [batch: 5 / 42], examples_per_second: 3941.4608, train_label_loss: 4.8675, \n"
     ]
    },
    {
     "name": "stdout",
     "output_type": "stream",
     "text": [
      "epoch: 3, [batch: 9 / 42], examples_per_second: 3957.8168, train_label_loss: 4.8675, \n"
     ]
    },
    {
     "name": "stdout",
     "output_type": "stream",
     "text": [
      "epoch: 3, [batch: 13 / 42], examples_per_second: 3964.1212, train_label_loss: 4.8675, \n"
     ]
    },
    {
     "name": "stdout",
     "output_type": "stream",
     "text": [
      "epoch: 3, [batch: 17 / 42], examples_per_second: 3998.2601, train_label_loss: 4.8675, \n"
     ]
    },
    {
     "name": "stdout",
     "output_type": "stream",
     "text": [
      "epoch: 3, [batch: 21 / 42], examples_per_second: 3989.9422, train_label_loss: 4.8675, \n"
     ]
    },
    {
     "name": "stdout",
     "output_type": "stream",
     "text": [
      "epoch: 3, [batch: 25 / 42], examples_per_second: 4011.8984, train_label_loss: 4.8675, \n"
     ]
    },
    {
     "name": "stdout",
     "output_type": "stream",
     "text": [
      "epoch: 3, [batch: 29 / 42], examples_per_second: 4001.8019, train_label_loss: 4.8675, \n"
     ]
    },
    {
     "name": "stdout",
     "output_type": "stream",
     "text": [
      "epoch: 3, [batch: 33 / 42], examples_per_second: 4040.0323, train_label_loss: 4.8675, \n"
     ]
    },
    {
     "name": "stdout",
     "output_type": "stream",
     "text": [
      "epoch: 3, [batch: 37 / 42], examples_per_second: 4096.9541, train_label_loss: 4.8675, \n"
     ]
    },
    {
     "name": "stdout",
     "output_type": "stream",
     "text": [
      "=============================================================\n",
      "epoch: 3, source_val_acc_label: 0.0077, target_val_acc_label: 0.0077, source_val_label_loss: 4.8675, target_val_label_loss: 4.8675, \n",
      "=============================================================\n"
     ]
    },
    {
     "name": "stdout",
     "output_type": "stream",
     "text": [
      "epoch: 4, [batch: 1 / 42], examples_per_second: 524.3053, train_label_loss: 4.8675, \n"
     ]
    },
    {
     "name": "stdout",
     "output_type": "stream",
     "text": [
      "epoch: 4, [batch: 5 / 42], examples_per_second: 3937.8799, train_label_loss: 4.8675, \n"
     ]
    },
    {
     "name": "stdout",
     "output_type": "stream",
     "text": [
      "epoch: 4, [batch: 9 / 42], examples_per_second: 3939.3479, train_label_loss: 4.8675, \n"
     ]
    },
    {
     "name": "stdout",
     "output_type": "stream",
     "text": [
      "epoch: 4, [batch: 13 / 42], examples_per_second: 3944.3548, train_label_loss: 4.8675, \n"
     ]
    },
    {
     "name": "stdout",
     "output_type": "stream",
     "text": [
      "epoch: 4, [batch: 17 / 42], examples_per_second: 3996.6980, train_label_loss: 4.8675, \n"
     ]
    },
    {
     "name": "stdout",
     "output_type": "stream",
     "text": [
      "epoch: 4, [batch: 21 / 42], examples_per_second: 3978.5779, train_label_loss: 4.8675, \n"
     ]
    },
    {
     "name": "stdout",
     "output_type": "stream",
     "text": [
      "epoch: 4, [batch: 25 / 42], examples_per_second: 3996.9251, train_label_loss: 4.8675, \n"
     ]
    },
    {
     "name": "stdout",
     "output_type": "stream",
     "text": [
      "epoch: 4, [batch: 29 / 42], examples_per_second: 3996.8826, train_label_loss: 4.8675, \n"
     ]
    },
    {
     "name": "stdout",
     "output_type": "stream",
     "text": [
      "epoch: 4, [batch: 33 / 42], examples_per_second: 4037.7002, train_label_loss: 4.8675, \n"
     ]
    },
    {
     "name": "stdout",
     "output_type": "stream",
     "text": [
      "epoch: 4, [batch: 37 / 42], examples_per_second: 4084.9530, train_label_loss: 4.8675, \n"
     ]
    },
    {
     "name": "stdout",
     "output_type": "stream",
     "text": [
      "=============================================================\n",
      "epoch: 4, source_val_acc_label: 0.0077, target_val_acc_label: 0.0077, source_val_label_loss: 4.8675, target_val_label_loss: 4.8675, \n",
      "=============================================================\n"
     ]
    },
    {
     "name": "stdout",
     "output_type": "stream",
     "text": [
      "epoch: 5, [batch: 1 / 42], examples_per_second: 522.9467, train_label_loss: 4.8675, \n"
     ]
    },
    {
     "name": "stdout",
     "output_type": "stream",
     "text": [
      "epoch: 5, [batch: 5 / 42], examples_per_second: 3923.3937, train_label_loss: 4.8675, \n"
     ]
    },
    {
     "name": "stdout",
     "output_type": "stream",
     "text": [
      "epoch: 5, [batch: 9 / 42], examples_per_second: 3941.3184, train_label_loss: 4.8675, \n"
     ]
    },
    {
     "name": "stdout",
     "output_type": "stream",
     "text": [
      "epoch: 5, [batch: 13 / 42], examples_per_second: 3948.1791, train_label_loss: 4.8675, \n"
     ]
    },
    {
     "name": "stdout",
     "output_type": "stream",
     "text": [
      "epoch: 5, [batch: 17 / 42], examples_per_second: 3970.6871, train_label_loss: 4.8675, \n"
     ]
    },
    {
     "name": "stdout",
     "output_type": "stream",
     "text": [
      "epoch: 5, [batch: 21 / 42], examples_per_second: 3974.7756, train_label_loss: 4.8675, \n"
     ]
    },
    {
     "name": "stdout",
     "output_type": "stream",
     "text": [
      "epoch: 5, [batch: 25 / 42], examples_per_second: 3983.7287, train_label_loss: 4.8675, \n"
     ]
    },
    {
     "name": "stdout",
     "output_type": "stream",
     "text": [
      "epoch: 5, [batch: 29 / 42], examples_per_second: 3982.9037, train_label_loss: 4.8675, \n"
     ]
    },
    {
     "name": "stdout",
     "output_type": "stream",
     "text": [
      "epoch: 5, [batch: 33 / 42], examples_per_second: 4031.8037, train_label_loss: 4.8675, \n"
     ]
    },
    {
     "name": "stdout",
     "output_type": "stream",
     "text": [
      "epoch: 5, [batch: 37 / 42], examples_per_second: 4078.2831, train_label_loss: 4.8675, \n"
     ]
    },
    {
     "name": "stdout",
     "output_type": "stream",
     "text": [
      "=============================================================\n",
      "epoch: 5, source_val_acc_label: 0.0077, target_val_acc_label: 0.0077, source_val_label_loss: 4.8675, target_val_label_loss: 4.8675, \n",
      "=============================================================\n"
     ]
    },
    {
     "name": "stdout",
     "output_type": "stream",
     "text": [
      "Patience (3) exhausted\n"
     ]
    }
   ],
   "source": [
    "###################################\n",
    "# train\n",
    "###################################\n",
    "jig = PTN_Train_Eval_Test_Jig(model, p.BEST_MODEL_PATH, p.device)\n",
    "\n",
    "jig.train(\n",
    "    train_iterable=datasets.source.processed.train,\n",
    "    source_val_iterable=datasets.source.processed.val,\n",
    "    target_val_iterable=datasets.target.processed.val,\n",
    "    num_epochs=p.n_epoch,\n",
    "    num_logs_per_epoch=p.NUM_LOGS_PER_EPOCH,\n",
    "    patience=p.patience,\n",
    "    optimizer=optimizer,\n",
    "    criteria_for_best=p.criteria_for_best,\n",
    ")"
   ]
  },
  {
   "cell_type": "code",
   "execution_count": 14,
   "id": "31e8fabf",
   "metadata": {
    "execution": {
     "iopub.execute_input": "2022-03-06T01:00:14.851359Z",
     "iopub.status.busy": "2022-03-06T01:00:14.851094Z",
     "iopub.status.idle": "2022-03-06T01:00:14.866357Z",
     "shell.execute_reply": "2022-03-06T01:00:14.866739Z"
    },
    "papermill": {
     "duration": 0.039718,
     "end_time": "2022-03-06T01:00:14.866845",
     "exception": false,
     "start_time": "2022-03-06T01:00:14.827127",
     "status": "completed"
    },
    "tags": []
   },
   "outputs": [],
   "source": [
    "total_experiment_time_secs = time.time() - start_time_secs"
   ]
  },
  {
   "cell_type": "code",
   "execution_count": 15,
   "id": "87b9595b",
   "metadata": {
    "execution": {
     "iopub.execute_input": "2022-03-06T01:00:14.917079Z",
     "iopub.status.busy": "2022-03-06T01:00:14.916806Z",
     "iopub.status.idle": "2022-03-06T01:00:21.913040Z",
     "shell.execute_reply": "2022-03-06T01:00:21.913437Z"
    },
    "papermill": {
     "duration": 7.023836,
     "end_time": "2022-03-06T01:00:21.913576",
     "exception": false,
     "start_time": "2022-03-06T01:00:14.889740",
     "status": "completed"
    },
    "tags": []
   },
   "outputs": [],
   "source": [
    "###################################\n",
    "# Evaluate the model\n",
    "###################################\n",
    "source_test_label_accuracy, source_test_label_loss = jig.test(datasets.source.processed.test)\n",
    "target_test_label_accuracy, target_test_label_loss = jig.test(datasets.target.processed.test)\n",
    "\n",
    "source_val_label_accuracy, source_val_label_loss = jig.test(datasets.source.processed.val)\n",
    "target_val_label_accuracy, target_val_label_loss = jig.test(datasets.target.processed.val)\n",
    "\n",
    "history = jig.get_history()\n",
    "\n",
    "total_epochs_trained = len(history[\"epoch_indices\"])\n",
    "\n",
    "val_dl = Iterable_Aggregator((datasets.source.original.val,datasets.target.original.val))\n",
    "\n",
    "confusion = ptn_confusion_by_domain_over_dataloader(model, p.device, val_dl)\n",
    "per_domain_accuracy = per_domain_accuracy_from_confusion(confusion)\n",
    "\n",
    "# Add a key to per_domain_accuracy for if it was a source domain\n",
    "for domain, accuracy in per_domain_accuracy.items():\n",
    "    per_domain_accuracy[domain] = {\n",
    "        \"accuracy\": accuracy,\n",
    "        \"source?\": domain in p.domains_source\n",
    "    }\n",
    "\n",
    "# Do an independent accuracy assesment JUST TO BE SURE!\n",
    "# _source_test_label_accuracy = independent_accuracy_assesment(model, datasets.source.processed.test, p.device)\n",
    "# _target_test_label_accuracy = independent_accuracy_assesment(model, datasets.target.processed.test, p.device)\n",
    "# _source_val_label_accuracy = independent_accuracy_assesment(model, datasets.source.processed.val, p.device)\n",
    "# _target_val_label_accuracy = independent_accuracy_assesment(model, datasets.target.processed.val, p.device)\n",
    "\n",
    "# assert(_source_test_label_accuracy == source_test_label_accuracy)\n",
    "# assert(_target_test_label_accuracy == target_test_label_accuracy)\n",
    "# assert(_source_val_label_accuracy == source_val_label_accuracy)\n",
    "# assert(_target_val_label_accuracy == target_val_label_accuracy)\n",
    "\n",
    "experiment = {\n",
    "    \"experiment_name\": p.experiment_name,\n",
    "    \"parameters\": dict(p),\n",
    "    \"results\": {\n",
    "        \"source_test_label_accuracy\": source_test_label_accuracy,\n",
    "        \"source_test_label_loss\": source_test_label_loss,\n",
    "        \"target_test_label_accuracy\": target_test_label_accuracy,\n",
    "        \"target_test_label_loss\": target_test_label_loss,\n",
    "        \"source_val_label_accuracy\": source_val_label_accuracy,\n",
    "        \"source_val_label_loss\": source_val_label_loss,\n",
    "        \"target_val_label_accuracy\": target_val_label_accuracy,\n",
    "        \"target_val_label_loss\": target_val_label_loss,\n",
    "        \"total_epochs_trained\": total_epochs_trained,\n",
    "        \"total_experiment_time_secs\": total_experiment_time_secs,\n",
    "        \"confusion\": confusion,\n",
    "        \"per_domain_accuracy\": per_domain_accuracy,\n",
    "    },\n",
    "    \"history\": history,\n",
    "    \"dataset_metrics\": get_dataset_metrics(datasets, \"ptn\"),\n",
    "}"
   ]
  },
  {
   "cell_type": "code",
   "execution_count": 16,
   "id": "54a21829",
   "metadata": {
    "execution": {
     "iopub.execute_input": "2022-03-06T01:00:21.962930Z",
     "iopub.status.busy": "2022-03-06T01:00:21.962653Z",
     "iopub.status.idle": "2022-03-06T01:00:22.140693Z",
     "shell.execute_reply": "2022-03-06T01:00:22.140171Z"
    },
    "papermill": {
     "duration": 0.201547,
     "end_time": "2022-03-06T01:00:22.140804",
     "exception": false,
     "start_time": "2022-03-06T01:00:21.939257",
     "status": "completed"
    },
    "tags": []
   },
   "outputs": [
    {
     "data": {
      "image/png": "[encoded data removed]",
      "text/plain": [
       "<Figure size 1080x504 with 1 Axes>"
      ]
     },
     "metadata": {
      "needs_background": "light"
     },
     "output_type": "display_data"
    }
   ],
   "source": [
    "ax = get_loss_curve(experiment)\n",
    "plt.show()"
   ]
  },
  {
   "cell_type": "code",
   "execution_count": 17,
   "id": "fd8a0f60",
   "metadata": {
    "execution": {
     "iopub.execute_input": "2022-03-06T01:00:22.190042Z",
     "iopub.status.busy": "2022-03-06T01:00:22.189784Z",
     "iopub.status.idle": "2022-03-06T01:00:22.371023Z",
     "shell.execute_reply": "2022-03-06T01:00:22.371250Z"
    },
    "papermill": {
     "duration": 0.205743,
     "end_time": "2022-03-06T01:00:22.371331",
     "exception": false,
     "start_time": "2022-03-06T01:00:22.165588",
     "status": "completed"
    },
    "tags": []
   },
   "outputs": [
    {
     "data": {
      "text/plain": [
       "<matplotlib.axes._subplots.AxesSubplot at 0x7fd73e8428e0>"
      ]
     },
     "execution_count": 17,
     "metadata": {},
     "output_type": "execute_result"
    },
    {
     "data": {
      "image/png": "[encoded data removed]",
      "text/plain": [
       "<Figure size 1080x504 with 1 Axes>"
      ]
     },
     "metadata": {
      "needs_background": "light"
     },
     "output_type": "display_data"
    }
   ],
   "source": [
    "get_results_table(experiment)"
   ]
  },
  {
   "cell_type": "code",
   "execution_count": 18,
   "id": "cf8dc689",
   "metadata": {
    "execution": {
     "iopub.execute_input": "2022-03-06T01:00:22.419734Z",
     "iopub.status.busy": "2022-03-06T01:00:22.419448Z",
     "iopub.status.idle": "2022-03-06T01:00:22.590370Z",
     "shell.execute_reply": "2022-03-06T01:00:22.589866Z"
    },
    "papermill": {
     "duration": 0.195823,
     "end_time": "2022-03-06T01:00:22.590475",
     "exception": false,
     "start_time": "2022-03-06T01:00:22.394652",
     "status": "completed"
    },
    "tags": []
   },
   "outputs": [
    {
     "data": {
      "text/plain": [
       "<matplotlib.axes._subplots.AxesSubplot at 0x7fd73e95f5b0>"
      ]
     },
     "execution_count": 18,
     "metadata": {},
     "output_type": "execute_result"
    },
    {
     "data": {
      "image/png": "[encoded data removed]",
      "text/plain": [
       "<Figure size 1080x504 with 1 Axes>"
      ]
     },
     "metadata": {
      "needs_background": "light"
     },
     "output_type": "display_data"
    }
   ],
   "source": [
    "get_domain_accuracies(experiment)"
   ]
  },
  {
   "cell_type": "code",
   "execution_count": 19,
   "id": "a74ae082",
   "metadata": {
    "execution": {
     "iopub.execute_input": "2022-03-06T01:00:22.646340Z",
     "iopub.status.busy": "2022-03-06T01:00:22.646076Z",
     "iopub.status.idle": "2022-03-06T01:00:22.660872Z",
     "shell.execute_reply": "2022-03-06T01:00:22.660461Z"
    },
    "papermill": {
     "duration": 0.040606,
     "end_time": "2022-03-06T01:00:22.660966",
     "exception": false,
     "start_time": "2022-03-06T01:00:22.620360",
     "status": "completed"
    },
    "tags": []
   },
   "outputs": [
    {
     "name": "stdout",
     "output_type": "stream",
     "text": [
      "Source Test Label Accuracy: 0.007692307692307693 Target Test Label Accuracy: 0.007692307692307693\n",
      "Source Val Label Accuracy: 0.007692307692307693 Target Val Label Accuracy: 0.007692307692307693\n"
     ]
    }
   ],
   "source": [
    "print(\"Source Test Label Accuracy:\", experiment[\"results\"][\"source_test_label_accuracy\"], \"Target Test Label Accuracy:\", experiment[\"results\"][\"target_test_label_accuracy\"])\n",
    "print(\"Source Val Label Accuracy:\", experiment[\"results\"][\"source_val_label_accuracy\"], \"Target Val Label Accuracy:\", experiment[\"results\"][\"target_val_label_accuracy\"])"
   ]
  },
  {
   "cell_type": "code",
   "execution_count": 20,
   "id": "dacca602",
   "metadata": {
    "execution": {
     "iopub.execute_input": "2022-03-06T01:00:22.713912Z",
     "iopub.status.busy": "2022-03-06T01:00:22.713558Z",
     "iopub.status.idle": "2022-03-06T01:00:22.726629Z",
     "shell.execute_reply": "2022-03-06T01:00:22.726293Z"
    },
    "papermill": {
     "duration": 0.037876,
     "end_time": "2022-03-06T01:00:22.726722",
     "exception": false,
     "start_time": "2022-03-06T01:00:22.688846",
     "status": "completed"
    },
    "tags": [
     "experiment_json"
    ]
   },
   "outputs": [
    {
     "data": {
      "text/plain": [
       "'{\"experiment_name\": \"tuned_1_wisig\", \"parameters\": {\"experiment_name\": \"tuned_1_wisig\", \"device\": \"cuda\", \"lr\": 0.001, \"seed\": 1337, \"dataset_seed\": 1337, \"labels_source\": [\"1-10\", \"1-12\", \"1-14\", \"1-16\", \"1-18\", \"1-19\", \"1-8\", \"10-11\", \"10-17\", \"10-4\", \"10-7\", \"11-1\", \"11-10\", \"11-19\", \"11-20\", \"11-4\", \"11-7\", \"12-19\", \"12-20\", \"12-7\", \"13-14\", \"13-18\", \"13-19\", \"13-20\", \"13-3\", \"13-7\", \"14-10\", \"14-11\", \"14-12\", \"14-13\", \"14-14\", \"14-19\", \"14-20\", \"14-7\", \"14-8\", \"14-9\", \"15-1\", \"15-19\", \"15-6\", \"16-1\", \"16-16\", \"16-19\", \"16-20\", \"17-10\", \"17-11\", \"18-1\", \"18-10\", \"18-11\", \"18-12\", \"18-13\", \"18-14\", \"18-15\", \"18-16\", \"18-17\", \"18-19\", \"18-2\", \"18-20\", \"18-4\", \"18-5\", \"18-7\", \"18-8\", \"18-9\", \"19-1\", \"19-10\", \"19-11\", \"19-12\", \"19-13\", \"19-14\", \"19-15\", \"19-19\", \"19-2\", \"19-20\", \"19-3\", \"19-4\", \"19-6\", \"19-7\", \"19-8\", \"19-9\", \"2-1\", \"2-13\", \"2-15\", \"2-3\", \"2-4\", \"2-5\", \"2-6\", \"2-7\", \"2-8\", \"20-1\", \"20-12\", \"20-14\", \"20-15\", \"20-16\", \"20-18\", \"20-19\", \"20-20\", \"20-3\", \"20-4\", \"20-5\", \"20-7\", \"20-8\", \"3-1\", \"3-13\", \"3-18\", \"3-2\", \"3-8\", \"4-1\", \"4-10\", \"4-11\", \"5-1\", \"5-5\", \"6-1\", \"6-15\", \"6-6\", \"7-10\", \"7-11\", \"7-12\", \"7-13\", \"7-14\", \"7-7\", \"7-8\", \"7-9\", \"8-1\", \"8-13\", \"8-14\", \"8-18\", \"8-20\", \"8-3\", \"8-8\", \"9-1\", \"9-7\"], \"labels_target\": [\"1-10\", \"1-12\", \"1-14\", \"1-16\", \"1-18\", \"1-19\", \"1-8\", \"10-11\", \"10-17\", \"10-4\", \"10-7\", \"11-1\", \"11-10\", \"11-19\", \"11-20\", \"11-4\", \"11-7\", \"12-19\", \"12-20\", \"12-7\", \"13-14\", \"13-18\", \"13-19\", \"13-20\", \"13-3\", \"13-7\", \"14-10\", \"14-11\", \"14-12\", \"14-13\", \"14-14\", \"14-19\", \"14-20\", \"14-7\", \"14-8\", \"14-9\", \"15-1\", \"15-19\", \"15-6\", \"16-1\", \"16-16\", \"16-19\", \"16-20\", \"17-10\", \"17-11\", \"18-1\", \"18-10\", \"18-11\", \"18-12\", \"18-13\", \"18-14\", \"18-15\", \"18-16\", \"18-17\", \"18-19\", \"18-2\", \"18-20\", \"18-4\", \"18-5\", \"18-7\", \"18-8\", \"18-9\", \"19-1\", \"19-10\", \"19-11\", \"19-12\", \"19-13\", \"19-14\", \"19-15\", \"19-19\", \"19-2\", \"19-20\", \"19-3\", \"19-4\", \"19-6\", \"19-7\", \"19-8\", \"19-9\", \"2-1\", \"2-13\", \"2-15\", \"2-3\", \"2-4\", \"2-5\", \"2-6\", \"2-7\", \"2-8\", \"20-1\", \"20-12\", \"20-14\", \"20-15\", \"20-16\", \"20-18\", \"20-19\", \"20-20\", \"20-3\", \"20-4\", \"20-5\", \"20-7\", \"20-8\", \"3-1\", \"3-13\", \"3-18\", \"3-2\", \"3-8\", \"4-1\", \"4-10\", \"4-11\", \"5-1\", \"5-5\", \"6-1\", \"6-15\", \"6-6\", \"7-10\", \"7-11\", \"7-12\", \"7-13\", \"7-14\", \"7-7\", \"7-8\", \"7-9\", \"8-1\", \"8-13\", \"8-14\", \"8-18\", \"8-20\", \"8-3\", \"8-8\", \"9-1\", \"9-7\"], \"x_transforms_source\": [\"times_zero\"], \"x_transforms_target\": [\"times_zero\"], \"episode_transforms_source\": [], \"episode_transforms_target\": [], \"domains_source\": [3], \"domains_target\": [1, 2, 4], \"num_examples_per_domain_per_label_source\": 100, \"num_examples_per_domain_per_label_target\": 100, \"n_shot\": 3, \"n_way\": 130, \"n_query\": 2, \"train_k_factor\": 3, \"val_k_factor\": 2, \"test_k_factor\": 2, \"torch_default_dtype\": \"torch.float32\", \"n_epoch\": 50, \"patience\": 3, \"criteria_for_best\": \"target_loss\", \"x_net\": [{\"class\": \"nnReshape\", \"kargs\": {\"shape\": [-1, 1, 2, 256]}}, {\"class\": \"Conv2d\", \"kargs\": {\"in_channels\": 1, \"out_channels\": 256, \"kernel_size\": [1, 7], \"bias\": false, \"padding\": [0, 3]}}, {\"class\": \"ReLU\", \"kargs\": {\"inplace\": true}}, {\"class\": \"BatchNorm2d\", \"kargs\": {\"num_features\": 256}}, {\"class\": \"Conv2d\", \"kargs\": {\"in_channels\": 256, \"out_channels\": 80, \"kernel_size\": [2, 7], \"bias\": true, \"padding\": [0, 3]}}, {\"class\": \"ReLU\", \"kargs\": {\"inplace\": true}}, {\"class\": \"BatchNorm2d\", \"kargs\": {\"num_features\": 80}}, {\"class\": \"Flatten\", \"kargs\": {}}, {\"class\": \"Linear\", \"kargs\": {\"in_features\": 20480, \"out_features\": 256}}, {\"class\": \"ReLU\", \"kargs\": {\"inplace\": true}}, {\"class\": \"BatchNorm1d\", \"kargs\": {\"num_features\": 256}}, {\"class\": \"Linear\", \"kargs\": {\"in_features\": 256, \"out_features\": 256}}], \"NUM_LOGS_PER_EPOCH\": 10, \"BEST_MODEL_PATH\": \"./best_model.pth\", \"pickle_name\": \"wisig.node3-19.stratified_ds.2022A.pkl\"}, \"results\": {\"source_test_label_accuracy\": 0.007692307692307693, \"source_test_label_loss\": 4.867537021636963, \"target_test_label_accuracy\": 0.007692307692307693, \"target_test_label_loss\": 4.867537498474121, \"source_val_label_accuracy\": 0.007692307692307693, \"source_val_label_loss\": 4.867537021636963, \"target_val_label_accuracy\": 0.007692307692307693, \"target_val_label_loss\": 4.867537498474121, \"total_epochs_trained\": 5, \"total_experiment_time_secs\": 45.005099296569824, \"confusion\": {\"3\": {\"29\": {\"0\": 12}, \"123\": {\"0\": 12}, \"116\": {\"0\": 12}, \"25\": {\"0\": 12}, \"60\": {\"0\": 12}, \"88\": {\"0\": 12}, \"0\": {\"0\": 12}, \"77\": {\"0\": 12}, \"96\": {\"0\": 12}, \"3\": {\"0\": 12}, \"5\": {\"0\": 12}, \"89\": {\"0\": 12}, \"117\": {\"0\": 12}, \"78\": {\"0\": 12}, \"57\": {\"0\": 12}, \"90\": {\"0\": 12}, \"43\": {\"0\": 12}, \"50\": {\"0\": 12}, \"49\": {\"0\": 12}, \"61\": {\"0\": 12}, \"4\": {\"0\": 12}, \"67\": {\"0\": 12}, \"59\": {\"0\": 12}, \"118\": {\"0\": 12}, \"80\": {\"0\": 12}, \"75\": {\"0\": 12}, \"99\": {\"0\": 12}, \"111\": {\"0\": 12}, \"11\": {\"0\": 12}, \"76\": {\"0\": 12}, \"102\": {\"0\": 12}, \"44\": {\"0\": 12}, \"30\": {\"0\": 12}, \"6\": {\"0\": 12}, \"16\": {\"0\": 12}, \"79\": {\"0\": 12}, \"39\": {\"0\": 12}, \"101\": {\"0\": 12}, \"9\": {\"0\": 12}, \"109\": {\"0\": 12}, \"91\": {\"0\": 12}, \"129\": {\"0\": 12}, \"33\": {\"0\": 12}, \"113\": {\"0\": 12}, \"7\": {\"0\": 12}, \"82\": {\"0\": 12}, \"52\": {\"0\": 12}, \"93\": {\"0\": 12}, \"24\": {\"0\": 12}, \"26\": {\"0\": 12}, \"28\": {\"0\": 12}, \"85\": {\"0\": 12}, \"110\": {\"0\": 12}, \"119\": {\"0\": 12}, \"108\": {\"0\": 12}, \"53\": {\"0\": 12}, \"105\": {\"0\": 12}, \"103\": {\"0\": 12}, \"69\": {\"0\": 12}, \"23\": {\"0\": 12}, \"2\": {\"0\": 12}, \"66\": {\"0\": 12}, \"71\": {\"0\": 12}, \"122\": {\"0\": 12}, \"87\": {\"0\": 12}, \"8\": {\"0\": 12}, \"127\": {\"0\": 12}, \"40\": {\"0\": 12}, \"126\": {\"0\": 12}, \"12\": {\"0\": 12}, \"83\": {\"0\": 12}, \"81\": {\"0\": 12}, \"19\": {\"0\": 12}, \"125\": {\"0\": 12}, \"128\": {\"0\": 12}, \"22\": {\"0\": 12}, \"21\": {\"0\": 12}, \"42\": {\"0\": 12}, \"38\": {\"0\": 12}, \"72\": {\"0\": 12}, \"86\": {\"0\": 12}, \"1\": {\"0\": 12}, \"58\": {\"0\": 12}, \"46\": {\"0\": 12}, \"48\": {\"0\": 12}, \"34\": {\"0\": 12}, \"55\": {\"0\": 12}, \"94\": {\"0\": 12}, \"114\": {\"0\": 12}, \"97\": {\"0\": 12}, \"107\": {\"0\": 12}, \"68\": {\"0\": 12}, \"64\": {\"0\": 12}, \"13\": {\"0\": 12}, \"115\": {\"0\": 12}, \"62\": {\"0\": 12}, \"51\": {\"0\": 12}, \"98\": {\"0\": 12}, \"45\": {\"0\": 12}, \"74\": {\"0\": 12}, \"112\": {\"0\": 12}, \"41\": {\"0\": 12}, \"32\": {\"0\": 12}, \"104\": {\"0\": 12}, \"65\": {\"0\": 12}, \"54\": {\"0\": 12}, \"20\": {\"0\": 12}, \"124\": {\"0\": 12}, \"121\": {\"0\": 12}, \"106\": {\"0\": 12}, \"18\": {\"0\": 12}, \"17\": {\"0\": 12}, \"73\": {\"0\": 12}, \"70\": {\"0\": 12}, \"92\": {\"0\": 12}, \"15\": {\"0\": 12}, \"14\": {\"0\": 12}, \"84\": {\"0\": 12}, \"37\": {\"0\": 12}, \"120\": {\"0\": 12}, \"27\": {\"0\": 12}, \"35\": {\"0\": 12}, \"95\": {\"0\": 12}, \"31\": {\"0\": 12}, \"63\": {\"0\": 12}, \"47\": {\"0\": 12}, \"100\": {\"0\": 12}, \"56\": {\"0\": 12}, \"36\": {\"0\": 12}, \"10\": {\"0\": 12}}, \"2\": {\"117\": {\"0\": 12}, \"78\": {\"0\": 12}, \"88\": {\"0\": 12}, \"5\": {\"0\": 12}, \"89\": {\"0\": 12}, \"25\": {\"0\": 12}, \"61\": {\"0\": 12}, \"0\": {\"0\": 12}, \"103\": {\"0\": 12}, \"28\": {\"0\": 12}, \"3\": {\"0\": 12}, \"43\": {\"0\": 12}, \"30\": {\"0\": 12}, \"59\": {\"0\": 12}, \"79\": {\"0\": 12}, \"83\": {\"0\": 12}, \"115\": {\"0\": 12}, \"62\": {\"0\": 12}, \"26\": {\"0\": 12}, \"50\": {\"0\": 12}, \"40\": {\"0\": 12}, \"4\": {\"0\": 12}, \"68\": {\"0\": 12}, \"49\": {\"0\": 12}, \"51\": {\"0\": 12}, \"44\": {\"0\": 12}, \"76\": {\"0\": 12}, \"127\": {\"0\": 12}, \"97\": {\"0\": 12}, \"119\": {\"0\": 12}, \"77\": {\"0\": 12}, \"33\": {\"0\": 12}, \"99\": {\"0\": 12}, \"124\": {\"0\": 12}, \"6\": {\"0\": 12}, \"112\": {\"0\": 12}, \"53\": {\"0\": 12}, \"110\": {\"0\": 12}, \"11\": {\"0\": 12}, \"9\": {\"0\": 12}, \"20\": {\"0\": 12}, \"114\": {\"0\": 12}, \"10\": {\"0\": 12}, \"86\": {\"0\": 12}, \"118\": {\"0\": 12}, \"7\": {\"0\": 12}, \"92\": {\"0\": 12}, \"18\": {\"0\": 12}, \"94\": {\"0\": 12}, \"60\": {\"0\": 12}, \"81\": {\"0\": 12}, \"29\": {\"0\": 12}, \"109\": {\"0\": 12}, \"80\": {\"0\": 12}, \"120\": {\"0\": 12}, \"122\": {\"0\": 12}, \"106\": {\"0\": 12}, \"55\": {\"0\": 12}, \"104\": {\"0\": 12}, \"70\": {\"0\": 12}, \"24\": {\"0\": 12}, \"2\": {\"0\": 12}, \"67\": {\"0\": 12}, \"72\": {\"0\": 12}, \"91\": {\"0\": 12}, \"116\": {\"0\": 12}, \"8\": {\"0\": 12}, \"128\": {\"0\": 12}, \"41\": {\"0\": 12}, \"113\": {\"0\": 12}, \"12\": {\"0\": 12}, \"90\": {\"0\": 12}, \"82\": {\"0\": 12}, \"111\": {\"0\": 12}, \"85\": {\"0\": 12}, \"37\": {\"0\": 12}, \"23\": {\"0\": 12}, \"22\": {\"0\": 12}, \"102\": {\"0\": 12}, \"39\": {\"0\": 12}, \"101\": {\"0\": 12}, \"87\": {\"0\": 12}, \"1\": {\"0\": 12}, \"58\": {\"0\": 12}, \"47\": {\"0\": 12}, \"126\": {\"0\": 12}, \"34\": {\"0\": 12}, \"56\": {\"0\": 12}, \"95\": {\"0\": 12}, \"65\": {\"0\": 12}, \"98\": {\"0\": 12}, \"123\": {\"0\": 12}, \"69\": {\"0\": 12}, \"108\": {\"0\": 12}, \"13\": {\"0\": 12}, \"15\": {\"0\": 12}, \"125\": {\"0\": 12}, \"52\": {\"0\": 12}, \"46\": {\"0\": 12}, \"45\": {\"0\": 12}, \"75\": {\"0\": 12}, \"73\": {\"0\": 12}, \"42\": {\"0\": 12}, \"32\": {\"0\": 12}, \"105\": {\"0\": 12}, \"66\": {\"0\": 12}, \"54\": {\"0\": 12}, \"21\": {\"0\": 12}, \"64\": {\"0\": 12}, \"35\": {\"0\": 12}, \"107\": {\"0\": 12}, \"19\": {\"0\": 12}, \"17\": {\"0\": 12}, \"74\": {\"0\": 12}, \"71\": {\"0\": 12}, \"93\": {\"0\": 12}, \"16\": {\"0\": 12}, \"14\": {\"0\": 12}, \"84\": {\"0\": 12}, \"38\": {\"0\": 12}, \"121\": {\"0\": 12}, \"27\": {\"0\": 12}, \"129\": {\"0\": 12}, \"96\": {\"0\": 12}, \"31\": {\"0\": 12}, \"63\": {\"0\": 12}, \"48\": {\"0\": 12}, \"100\": {\"0\": 12}, \"57\": {\"0\": 12}, \"36\": {\"0\": 12}}, \"4\": {\"73\": {\"0\": 12}, \"29\": {\"0\": 12}, \"60\": {\"0\": 12}, \"50\": {\"0\": 12}, \"96\": {\"0\": 12}, \"64\": {\"0\": 12}, \"99\": {\"0\": 12}, \"0\": {\"0\": 12}, \"20\": {\"0\": 12}, \"51\": {\"0\": 12}, \"123\": {\"0\": 12}, \"83\": {\"0\": 12}, \"57\": {\"0\": 12}, \"33\": {\"0\": 12}, \"17\": {\"0\": 12}, \"62\": {\"0\": 12}, \"4\": {\"0\": 12}, \"18\": {\"0\": 12}, \"10\": {\"0\": 12}, \"102\": {\"0\": 12}, \"110\": {\"0\": 12}, \"68\": {\"0\": 12}, \"70\": {\"0\": 12}, \"86\": {\"0\": 12}, \"107\": {\"0\": 12}, \"21\": {\"0\": 12}, \"119\": {\"0\": 12}, \"85\": {\"0\": 12}, \"66\": {\"0\": 12}, \"124\": {\"0\": 12}, \"116\": {\"0\": 12}, \"71\": {\"0\": 12}, \"129\": {\"0\": 12}, \"105\": {\"0\": 12}, \"93\": {\"0\": 12}, \"48\": {\"0\": 12}, \"30\": {\"0\": 12}, \"36\": {\"0\": 12}, \"103\": {\"0\": 12}, \"67\": {\"0\": 12}, \"42\": {\"0\": 12}, \"100\": {\"0\": 12}, \"28\": {\"0\": 12}, \"23\": {\"0\": 12}, \"49\": {\"0\": 12}, \"38\": {\"0\": 12}, \"128\": {\"0\": 12}, \"118\": {\"0\": 12}, \"101\": {\"0\": 12}, \"79\": {\"0\": 12}, \"52\": {\"0\": 12}, \"6\": {\"0\": 12}, \"95\": {\"0\": 12}, \"54\": {\"0\": 12}, \"26\": {\"0\": 12}, \"69\": {\"0\": 12}, \"114\": {\"0\": 12}, \"97\": {\"0\": 12}, \"87\": {\"0\": 12}, \"1\": {\"0\": 12}, \"34\": {\"0\": 12}, \"19\": {\"0\": 12}, \"27\": {\"0\": 12}, \"5\": {\"0\": 12}, \"24\": {\"0\": 12}, \"126\": {\"0\": 12}, \"56\": {\"0\": 12}, \"59\": {\"0\": 12}, \"127\": {\"0\": 12}, \"44\": {\"0\": 12}, \"77\": {\"0\": 12}, \"80\": {\"0\": 12}, \"98\": {\"0\": 12}, \"122\": {\"0\": 12}, \"108\": {\"0\": 12}, \"61\": {\"0\": 12}, \"22\": {\"0\": 12}, \"63\": {\"0\": 12}, \"39\": {\"0\": 12}, \"25\": {\"0\": 12}, \"3\": {\"0\": 12}, \"78\": {\"0\": 12}, \"31\": {\"0\": 12}, \"35\": {\"0\": 12}, \"91\": {\"0\": 12}, \"37\": {\"0\": 12}, \"13\": {\"0\": 12}, \"53\": {\"0\": 12}, \"82\": {\"0\": 12}, \"92\": {\"0\": 12}, \"90\": {\"0\": 12}, \"8\": {\"0\": 12}, \"88\": {\"0\": 12}, \"16\": {\"0\": 12}, \"45\": {\"0\": 12}, \"89\": {\"0\": 12}, \"43\": {\"0\": 12}, \"65\": {\"0\": 12}, \"117\": {\"0\": 12}, \"40\": {\"0\": 12}, \"12\": {\"0\": 12}, \"7\": {\"0\": 12}, \"75\": {\"0\": 12}, \"41\": {\"0\": 12}, \"76\": {\"0\": 12}, \"9\": {\"0\": 12}, \"125\": {\"0\": 12}, \"120\": {\"0\": 12}, \"11\": {\"0\": 12}, \"115\": {\"0\": 12}, \"2\": {\"0\": 12}, \"113\": {\"0\": 12}, \"112\": {\"0\": 12}, \"94\": {\"0\": 12}, \"109\": {\"0\": 12}, \"74\": {\"0\": 12}, \"111\": {\"0\": 12}, \"55\": {\"0\": 12}, \"15\": {\"0\": 12}, \"14\": {\"0\": 12}, \"104\": {\"0\": 12}, \"47\": {\"0\": 12}, \"58\": {\"0\": 12}, \"106\": {\"0\": 12}, \"121\": {\"0\": 12}, \"81\": {\"0\": 12}, \"84\": {\"0\": 12}, \"32\": {\"0\": 12}, \"72\": {\"0\": 12}, \"46\": {\"0\": 12}}, \"1\": {\"49\": {\"0\": 12}, \"1\": {\"0\": 12}, \"119\": {\"0\": 12}, \"28\": {\"0\": 12}, \"20\": {\"0\": 12}, \"17\": {\"0\": 12}, \"103\": {\"0\": 12}, \"85\": {\"0\": 12}, \"87\": {\"0\": 12}, \"84\": {\"0\": 12}, \"34\": {\"0\": 12}, \"16\": {\"0\": 12}, \"6\": {\"0\": 12}, \"31\": {\"0\": 12}, \"92\": {\"0\": 12}, \"96\": {\"0\": 12}, \"64\": {\"0\": 12}, \"40\": {\"0\": 12}, \"69\": {\"0\": 12}, \"99\": {\"0\": 12}, \"3\": {\"0\": 12}, \"50\": {\"0\": 12}, \"21\": {\"0\": 12}, \"7\": {\"0\": 12}, \"0\": {\"0\": 12}, \"44\": {\"0\": 12}, \"19\": {\"0\": 12}, \"22\": {\"0\": 12}, \"32\": {\"0\": 12}, \"125\": {\"0\": 12}, \"82\": {\"0\": 12}, \"33\": {\"0\": 12}, \"45\": {\"0\": 12}, \"109\": {\"0\": 12}, \"105\": {\"0\": 12}, \"76\": {\"0\": 12}, \"59\": {\"0\": 12}, \"120\": {\"0\": 12}, \"41\": {\"0\": 12}, \"26\": {\"0\": 12}, \"42\": {\"0\": 12}, \"79\": {\"0\": 12}, \"97\": {\"0\": 12}, \"110\": {\"0\": 12}, \"128\": {\"0\": 12}, \"55\": {\"0\": 12}, \"23\": {\"0\": 12}, \"4\": {\"0\": 12}, \"14\": {\"0\": 12}, \"126\": {\"0\": 12}, \"111\": {\"0\": 12}, \"39\": {\"0\": 12}, \"35\": {\"0\": 12}, \"102\": {\"0\": 12}, \"113\": {\"0\": 12}, \"89\": {\"0\": 12}, \"46\": {\"0\": 12}, \"91\": {\"0\": 12}, \"83\": {\"0\": 12}, \"81\": {\"0\": 12}, \"88\": {\"0\": 12}, \"95\": {\"0\": 12}, \"53\": {\"0\": 12}, \"75\": {\"0\": 12}, \"122\": {\"0\": 12}, \"107\": {\"0\": 12}, \"104\": {\"0\": 12}, \"12\": {\"0\": 12}, \"112\": {\"0\": 12}, \"63\": {\"0\": 12}, \"30\": {\"0\": 12}, \"9\": {\"0\": 12}, \"78\": {\"0\": 12}, \"18\": {\"0\": 12}, \"116\": {\"0\": 12}, \"36\": {\"0\": 12}, \"100\": {\"0\": 12}, \"74\": {\"0\": 12}, \"61\": {\"0\": 12}, \"8\": {\"0\": 12}, \"70\": {\"0\": 12}, \"108\": {\"0\": 12}, \"77\": {\"0\": 12}, \"93\": {\"0\": 12}, \"37\": {\"0\": 12}, \"118\": {\"0\": 12}, \"80\": {\"0\": 12}, \"106\": {\"0\": 12}, \"58\": {\"0\": 12}, \"56\": {\"0\": 12}, \"86\": {\"0\": 12}, \"90\": {\"0\": 12}, \"123\": {\"0\": 12}, \"94\": {\"0\": 12}, \"52\": {\"0\": 12}, \"47\": {\"0\": 12}, \"117\": {\"0\": 12}, \"124\": {\"0\": 12}, \"71\": {\"0\": 12}, \"67\": {\"0\": 12}, \"15\": {\"0\": 12}, \"5\": {\"0\": 12}, \"24\": {\"0\": 12}, \"62\": {\"0\": 12}, \"13\": {\"0\": 12}, \"101\": {\"0\": 12}, \"51\": {\"0\": 12}, \"129\": {\"0\": 12}, \"65\": {\"0\": 12}, \"121\": {\"0\": 12}, \"43\": {\"0\": 12}, \"73\": {\"0\": 12}, \"68\": {\"0\": 12}, \"66\": {\"0\": 12}, \"60\": {\"0\": 12}, \"115\": {\"0\": 12}, \"38\": {\"0\": 12}, \"2\": {\"0\": 12}, \"127\": {\"0\": 12}, \"54\": {\"0\": 12}, \"72\": {\"0\": 12}, \"27\": {\"0\": 12}, \"57\": {\"0\": 12}, \"48\": {\"0\": 12}, \"114\": {\"0\": 12}, \"25\": {\"0\": 12}, \"11\": {\"0\": 12}, \"29\": {\"0\": 12}, \"98\": {\"0\": 12}, \"10\": {\"0\": 12}}}, \"per_domain_accuracy\": {\"3\": {\"accuracy\": 0.007692307692307693, \"source?\": true}, \"2\": {\"accuracy\": 0.007692307692307693, \"source?\": false}, \"4\": {\"accuracy\": 0.007692307692307693, \"source?\": false}, \"1\": {\"accuracy\": 0.007692307692307693, \"source?\": false}}}, \"history\": {\"epoch_indices\": [1, 2, 3, 4, 5], \"train_label_loss\": [4.867537021636963, 4.867537021636963, 4.867537021636963, 4.867537021636963, 4.867537021636963], \"source_val_label_loss\": [4.867537021636963, 4.867537021636963, 4.867537021636963, 4.867537021636963, 4.867537021636963], \"target_val_label_loss\": [4.867537498474121, 4.867537498474121, 4.867537498474121, 4.867537498474121, 4.867537498474121], \"source_val_acc_label\": [0.007692307692307693, 0.007692307692307693, 0.007692307692307693, 0.007692307692307693, 0.007692307692307693], \"target_val_acc_label\": [0.007692307692307693, 0.007692307692307693, 0.007692307692307693, 0.007692307692307693, 0.007692307692307693]}, \"dataset_metrics\": {\"source\": {\"train\": {\"n_unique_x\": 9100, \"n_unique_y\": 130, \"n_batch/episode\": 42}, \"val\": {\"n_unique_x\": 1950, \"n_unique_y\": 130, \"n_batch/episode\": 6}, \"test\": {\"n_unique_x\": 1950, \"n_unique_y\": 130, \"n_batch/episode\": 6}}, \"target\": {\"train\": {\"n_unique_x\": 27299, \"n_unique_y\": 130, \"n_batch/episode\": 126}, \"val\": {\"n_unique_x\": 5850, \"n_unique_y\": 130, \"n_batch/episode\": 18}, \"test\": {\"n_unique_x\": 5850, \"n_unique_y\": 130, \"n_batch/episode\": 18}}}}'"
      ]
     },
     "execution_count": 20,
     "metadata": {},
     "output_type": "execute_result"
    }
   ],
   "source": [
    "json.dumps(experiment)"
   ]
  }
 ],
 "metadata": {
  "celltoolbar": "Tags",
  "kernelspec": {
   "display_name": "Python 3 (ipykernel)",
   "language": "python",
   "name": "python3"
  },
  "language_info": {
   "codemirror_mode": {
    "name": "ipython",
    "version": 3
   },
   "file_extension": ".py",
   "mimetype": "text/x-python",
   "name": "python",
   "nbconvert_exporter": "python",
   "pygments_lexer": "ipython3",
   "version": "3.8.10"
  },
  "papermill": {
   "default_parameters": {},
   "duration": 55.333945,
   "end_time": "2022-03-06T01:00:23.360236",
   "environment_variables": {},
   "exception": null,
   "input_path": "/mnt/wd500GB/CSC500/csc500-main/csc500-notebooks/templates/ptn_template.ipynb",
   "output_path": "trial.ipynb",
   "parameters": {
    "parameters": {
     "BEST_MODEL_PATH": "./best_model.pth",
     "NUM_LOGS_PER_EPOCH": 10,
     "criteria_for_best": "target_loss",
     "dataset_seed": 1337,
     "device": "cuda",
     "domains_source": [
      3
     ],
     "domains_target": [
      1,
      2,
      4
     ],
     "episode_transforms_source": [],
     "episode_transforms_target": [],
     "experiment_name": "tuned_1_wisig",
     "labels_source": [
      "1-10",
      "1-12",
      "1-14",
      "1-16",
      "1-18",
      "1-19",
      "1-8",
      "10-11",
      "10-17",
      "10-4",
      "10-7",
      "11-1",
      "11-10",
      "11-19",
      "11-20",
      "11-4",
      "11-7",
      "12-19",
      "12-20",
      "12-7",
      "13-14",
      "13-18",
      "13-19",
      "13-20",
      "13-3",
      "13-7",
      "14-10",
      "14-11",
      "14-12",
      "14-13",
      "14-14",
      "14-19",
      "14-20",
      "14-7",
      "14-8",
      "14-9",
      "15-1",
      "15-19",
      "15-6",
      "16-1",
      "16-16",
      "16-19",
      "16-20",
      "17-10",
      "17-11",
      "18-1",
      "18-10",
      "18-11",
      "18-12",
      "18-13",
      "18-14",
      "18-15",
      "18-16",
      "18-17",
      "18-19",
      "18-2",
      "18-20",
      "18-4",
      "18-5",
      "18-7",
      "18-8",
      "18-9",
      "19-1",
      "19-10",
      "19-11",
      "19-12",
      "19-13",
      "19-14",
      "19-15",
      "19-19",
      "19-2",
      "19-20",
      "19-3",
      "19-4",
      "19-6",
      "19-7",
      "19-8",
      "19-9",
      "2-1",
      "2-13",
      "2-15",
      "2-3",
      "2-4",
      "2-5",
      "2-6",
      "2-7",
      "2-8",
      "20-1",
      "20-12",
      "20-14",
      "20-15",
      "20-16",
      "20-18",
      "20-19",
      "20-20",
      "20-3",
      "20-4",
      "20-5",
      "20-7",
      "20-8",
      "3-1",
      "3-13",
      "3-18",
      "3-2",
      "3-8",
      "4-1",
      "4-10",
      "4-11",
      "5-1",
      "5-5",
      "6-1",
      "6-15",
      "6-6",
      "7-10",
      "7-11",
      "7-12",
      "7-13",
      "7-14",
      "7-7",
      "7-8",
      "7-9",
      "8-1",
      "8-13",
      "8-14",
      "8-18",
      "8-20",
      "8-3",
      "8-8",
      "9-1",
      "9-7"
     ],
     "labels_target": [
      "1-10",
      "1-12",
      "1-14",
      "1-16",
      "1-18",
      "1-19",
      "1-8",
      "10-11",
      "10-17",
      "10-4",
      "10-7",
      "11-1",
      "11-10",
      "11-19",
      "11-20",
      "11-4",
      "11-7",
      "12-19",
      "12-20",
      "12-7",
      "13-14",
      "13-18",
      "13-19",
      "13-20",
      "13-3",
      "13-7",
      "14-10",
      "14-11",
      "14-12",
      "14-13",
      "14-14",
      "14-19",
      "14-20",
      "14-7",
      "14-8",
      "14-9",
      "15-1",
      "15-19",
      "15-6",
      "16-1",
      "16-16",
      "16-19",
      "16-20",
      "17-10",
      "17-11",
      "18-1",
      "18-10",
      "18-11",
      "18-12",
      "18-13",
      "18-14",
      "18-15",
      "18-16",
      "18-17",
      "18-19",
      "18-2",
      "18-20",
      "18-4",
      "18-5",
      "18-7",
      "18-8",
      "18-9",
      "19-1",
      "19-10",
      "19-11",
      "19-12",
      "19-13",
      "19-14",
      "19-15",
      "19-19",
      "19-2",
      "19-20",
      "19-3",
      "19-4",
      "19-6",
      "19-7",
      "19-8",
      "19-9",
      "2-1",
      "2-13",
      "2-15",
      "2-3",
      "2-4",
      "2-5",
      "2-6",
      "2-7",
      "2-8",
      "20-1",
      "20-12",
      "20-14",
      "20-15",
      "20-16",
      "20-18",
      "20-19",
      "20-20",
      "20-3",
      "20-4",
      "20-5",
      "20-7",
      "20-8",
      "3-1",
      "3-13",
      "3-18",
      "3-2",
      "3-8",
      "4-1",
      "4-10",
      "4-11",
      "5-1",
      "5-5",
      "6-1",
      "6-15",
      "6-6",
      "7-10",
      "7-11",
      "7-12",
      "7-13",
      "7-14",
      "7-7",
      "7-8",
      "7-9",
      "8-1",
      "8-13",
      "8-14",
      "8-18",
      "8-20",
      "8-3",
      "8-8",
      "9-1",
      "9-7"
     ],
     "lr": 0.001,
     "n_epoch": 50,
     "n_query": 2,
     "n_shot": 3,
     "n_way": 130,
     "num_examples_per_domain_per_label_source": 100,
     "num_examples_per_domain_per_label_target": 100,
     "patience": 3,
     "pickle_name": "wisig.node3-19.stratified_ds.2022A.pkl",
     "seed": 1337,
     "test_k_factor": 2,
     "torch_default_dtype": "torch.float32",
     "train_k_factor": 3,
     "val_k_factor": 2,
     "x_net": [
      {
       "class": "nnReshape",
       "kargs": {
        "shape": [
         -1,
         1,
         2,
         256
        ]
       }
      },
      {
       "class": "Conv2d",
       "kargs": {
        "bias": false,
        "in_channels": 1,
        "kernel_size": [
         1,
         7
        ],
        "out_channels": 256,
        "padding": [
         0,
         3
        ]
       }
      },
      {
       "class": "ReLU",
       "kargs": {
        "inplace": true
       }
      },
      {
       "class": "BatchNorm2d",
       "kargs": {
        "num_features": 256
       }
      },
      {
       "class": "Conv2d",
       "kargs": {
        "bias": true,
        "in_channels": 256,
        "kernel_size": [
         2,
         7
        ],
        "out_channels": 80,
        "padding": [
         0,
         3
        ]
       }
      },
      {
       "class": "ReLU",
       "kargs": {
        "inplace": true
       }
      },
      {
       "class": "BatchNorm2d",
       "kargs": {
        "num_features": 80
       }
      },
      {
       "class": "Flatten",
       "kargs": {}
      },
      {
       "class": "Linear",
       "kargs": {
        "in_features": 20480,
        "out_features": 256
       }
      },
      {
       "class": "ReLU",
       "kargs": {
        "inplace": true
       }
      },
      {
       "class": "BatchNorm1d",
       "kargs": {
        "num_features": 256
       }
      },
      {
       "class": "Linear",
       "kargs": {
        "in_features": 256,
        "out_features": 256
       }
      }
     ],
     "x_transforms_source": [
      "times_zero"
     ],
     "x_transforms_target": [
      "times_zero"
     ]
    }
   },
   "start_time": "2022-03-06T00:59:28.026291",
   "version": "2.3.4"
  }
 },
 "nbformat": 4,
 "nbformat_minor": 5
}