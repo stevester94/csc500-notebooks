{
 "cells": [
  {
   "cell_type": "markdown",
   "id": "9fea5f46",
   "metadata": {
    "papermill": {
     "duration": 0.015291,
     "end_time": "2022-03-06T00:57:11.255551",
     "exception": false,
     "start_time": "2022-03-06T00:57:11.240260",
     "status": "completed"
    },
    "tags": []
   },
   "source": [
    "# PTN Template\n",
    "This notebook serves as a template for single dataset PTN experiments  \n",
    "It can be run on its own by setting STANDALONE to True (do a find for \"STANDALONE\" to see where)  \n",
    "But it is intended to be executed as part of a *papermill.py script. See any of the   \n",
    "experimentes with a papermill script to get started with that workflow.  "
   ]
  },
  {
   "cell_type": "code",
   "execution_count": 1,
   "id": "0902182a",
   "metadata": {
    "execution": {
     "iopub.execute_input": "2022-03-06T00:57:11.284026Z",
     "iopub.status.busy": "2022-03-06T00:57:11.283751Z",
     "iopub.status.idle": "2022-03-06T00:57:12.104743Z",
     "shell.execute_reply": "2022-03-06T00:57:12.104220Z"
    },
    "papermill": {
     "duration": 0.839736,
     "end_time": "2022-03-06T00:57:12.104864",
     "exception": false,
     "start_time": "2022-03-06T00:57:11.265128",
     "status": "completed"
    },
    "tags": []
   },
   "outputs": [],
   "source": [
    "%load_ext autoreload\n",
    "%autoreload 2\n",
    "%matplotlib inline\n",
    "\n",
    "    \n",
    "import os, json, sys, time, random\n",
    "import numpy as np\n",
    "import torch\n",
    "from torch.optim import Adam\n",
    "from  easydict import EasyDict\n",
    "import matplotlib.pyplot as plt\n",
    "\n",
    "from steves_models.steves_ptn import Steves_Prototypical_Network\n",
    "\n",
    "from steves_utils.lazy_iterable_wrapper import Lazy_Iterable_Wrapper\n",
    "from steves_utils.iterable_aggregator import Iterable_Aggregator\n",
    "from steves_utils.ptn_train_eval_test_jig import  PTN_Train_Eval_Test_Jig\n",
    "from steves_utils.torch_sequential_builder import build_sequential\n",
    "from steves_utils.torch_utils import get_dataset_metrics, ptn_confusion_by_domain_over_dataloader\n",
    "from steves_utils.utils_v2 import (per_domain_accuracy_from_confusion, get_datasets_base_path)\n",
    "from steves_utils.PTN.utils import independent_accuracy_assesment\n",
    "\n",
    "from steves_utils.stratified_dataset.episodic_accessor import Episodic_Accessor_Factory\n",
    "\n",
    "from steves_utils.ptn_do_report import (\n",
    "    get_loss_curve,\n",
    "    get_results_table,\n",
    "    get_parameters_table,\n",
    "    get_domain_accuracies,\n",
    ")\n",
    "\n",
    "from steves_utils.transforms import get_chained_transform"
   ]
  },
  {
   "cell_type": "markdown",
   "id": "41c840b4",
   "metadata": {
    "papermill": {
     "duration": 0.009276,
     "end_time": "2022-03-06T00:57:12.128511",
     "exception": false,
     "start_time": "2022-03-06T00:57:12.119235",
     "status": "completed"
    },
    "tags": []
   },
   "source": [
    "# Required Parameters\n",
    "These are allowed parameters, not defaults\n",
    "Each of these values need to be present in the injected parameters (the notebook will raise an exception if they are not present)\n",
    "\n",
    "Papermill uses the cell tag \"parameters\" to inject the real parameters below this cell.\n",
    "Enable tags to see what I mean"
   ]
  },
  {
   "cell_type": "code",
   "execution_count": 2,
   "id": "fd44eb83",
   "metadata": {
    "execution": {
     "iopub.execute_input": "2022-03-06T00:57:12.151067Z",
     "iopub.status.busy": "2022-03-06T00:57:12.150760Z",
     "iopub.status.idle": "2022-03-06T00:57:12.164351Z",
     "shell.execute_reply": "2022-03-06T00:57:12.163923Z"
    },
    "papermill": {
     "duration": 0.026534,
     "end_time": "2022-03-06T00:57:12.164451",
     "exception": false,
     "start_time": "2022-03-06T00:57:12.137917",
     "status": "completed"
    },
    "tags": []
   },
   "outputs": [],
   "source": [
    "required_parameters = {\n",
    "    \"experiment_name\",\n",
    "    \"lr\",\n",
    "    \"device\",\n",
    "    \"seed\",\n",
    "    \"dataset_seed\",\n",
    "    \"labels_source\",\n",
    "    \"labels_target\",\n",
    "    \"domains_source\",\n",
    "    \"domains_target\",\n",
    "    \"num_examples_per_domain_per_label_source\",\n",
    "    \"num_examples_per_domain_per_label_target\",\n",
    "    \"n_shot\",\n",
    "    \"n_way\",\n",
    "    \"n_query\",\n",
    "    \"train_k_factor\",\n",
    "    \"val_k_factor\",\n",
    "    \"test_k_factor\",\n",
    "    \"n_epoch\",\n",
    "    \"patience\",\n",
    "    \"criteria_for_best\",\n",
    "    \"x_transforms_source\",\n",
    "    \"x_transforms_target\",\n",
    "    \"episode_transforms_source\",\n",
    "    \"episode_transforms_target\",\n",
    "    \"pickle_name\",\n",
    "    \"x_net\",\n",
    "    \"NUM_LOGS_PER_EPOCH\",\n",
    "    \"BEST_MODEL_PATH\",\n",
    "    \"torch_default_dtype\"\n",
    "}"
   ]
  },
  {
   "cell_type": "code",
   "execution_count": 3,
   "id": "fa3f0049",
   "metadata": {
    "execution": {
     "iopub.execute_input": "2022-03-06T00:57:12.199914Z",
     "iopub.status.busy": "2022-03-06T00:57:12.199234Z",
     "iopub.status.idle": "2022-03-06T00:57:12.210495Z",
     "shell.execute_reply": "2022-03-06T00:57:12.210001Z"
    },
    "papermill": {
     "duration": 0.032083,
     "end_time": "2022-03-06T00:57:12.210597",
     "exception": false,
     "start_time": "2022-03-06T00:57:12.178514",
     "status": "completed"
    },
    "tags": [
     "parameters"
    ]
   },
   "outputs": [],
   "source": [
    "\n",
    "\n",
    "standalone_parameters = {}\n",
    "standalone_parameters[\"experiment_name\"] = \"STANDALONE PTN\"\n",
    "standalone_parameters[\"lr\"] = 0.0001\n",
    "standalone_parameters[\"device\"] = \"cuda\"\n",
    "\n",
    "standalone_parameters[\"seed\"] = 1337\n",
    "standalone_parameters[\"dataset_seed\"] = 1337\n",
    "\n",
    "\n",
    "standalone_parameters[\"num_examples_per_domain_per_label_source\"]=100\n",
    "standalone_parameters[\"num_examples_per_domain_per_label_target\"]=100\n",
    "\n",
    "standalone_parameters[\"n_shot\"] = 3\n",
    "standalone_parameters[\"n_query\"]  = 2\n",
    "standalone_parameters[\"train_k_factor\"] = 1\n",
    "standalone_parameters[\"val_k_factor\"] = 2\n",
    "standalone_parameters[\"test_k_factor\"] = 2\n",
    "\n",
    "\n",
    "standalone_parameters[\"n_epoch\"] = 100\n",
    "\n",
    "standalone_parameters[\"patience\"] = 10\n",
    "standalone_parameters[\"criteria_for_best\"] = \"target_accuracy\"\n",
    "\n",
    "standalone_parameters[\"x_transforms_source\"] = [\"unit_power\"]\n",
    "standalone_parameters[\"x_transforms_target\"] = [\"unit_power\"]\n",
    "standalone_parameters[\"episode_transforms_source\"] = []\n",
    "standalone_parameters[\"episode_transforms_target\"] = []\n",
    "\n",
    "standalone_parameters[\"torch_default_dtype\"] = \"torch.float32\" \n",
    "\n",
    "\n",
    "\n",
    "standalone_parameters[\"x_net\"] =     [\n",
    "    {\"class\": \"nnReshape\", \"kargs\": {\"shape\":[-1, 1, 2, 256]}},\n",
    "    {\"class\": \"Conv2d\", \"kargs\": { \"in_channels\":1, \"out_channels\":256, \"kernel_size\":(1,7), \"bias\":False, \"padding\":(0,3), },},\n",
    "    {\"class\": \"ReLU\", \"kargs\": {\"inplace\": True}},\n",
    "    {\"class\": \"BatchNorm2d\", \"kargs\": {\"num_features\":256}},\n",
    "\n",
    "    {\"class\": \"Conv2d\", \"kargs\": { \"in_channels\":256, \"out_channels\":80, \"kernel_size\":(2,7), \"bias\":True, \"padding\":(0,3), },},\n",
    "    {\"class\": \"ReLU\", \"kargs\": {\"inplace\": True}},\n",
    "    {\"class\": \"BatchNorm2d\", \"kargs\": {\"num_features\":80}},\n",
    "    {\"class\": \"Flatten\", \"kargs\": {}},\n",
    "\n",
    "    {\"class\": \"Linear\", \"kargs\": {\"in_features\": 80*256, \"out_features\": 256}}, # 80 units per IQ pair\n",
    "    {\"class\": \"ReLU\", \"kargs\": {\"inplace\": True}},\n",
    "    {\"class\": \"BatchNorm1d\", \"kargs\": {\"num_features\":256}},\n",
    "\n",
    "    {\"class\": \"Linear\", \"kargs\": {\"in_features\": 256, \"out_features\": 256}},\n",
    "]\n",
    "\n",
    "# Parameters relevant to results\n",
    "# These parameters will basically never need to change\n",
    "standalone_parameters[\"NUM_LOGS_PER_EPOCH\"] = 10\n",
    "standalone_parameters[\"BEST_MODEL_PATH\"] = \"./best_model.pth\"\n",
    "\n",
    "# uncomment for CORES dataset\n",
    "from steves_utils.CORES.utils import (\n",
    "    ALL_NODES,\n",
    "    ALL_NODES_MINIMUM_1000_EXAMPLES,\n",
    "    ALL_DAYS\n",
    ")\n",
    "\n",
    "\n",
    "standalone_parameters[\"labels_source\"] = ALL_NODES\n",
    "standalone_parameters[\"labels_target\"] = ALL_NODES\n",
    "\n",
    "standalone_parameters[\"domains_source\"] = [1]\n",
    "standalone_parameters[\"domains_target\"] = [2,3,4,5]\n",
    "\n",
    "standalone_parameters[\"pickle_name\"] = \"cores.stratified_ds.2022A.pkl\"\n",
    "\n",
    "\n",
    "# Uncomment these for ORACLE dataset\n",
    "# from steves_utils.ORACLE.utils_v2 import (\n",
    "#     ALL_DISTANCES_FEET,\n",
    "#     ALL_RUNS,\n",
    "#     ALL_SERIAL_NUMBERS,\n",
    "# )\n",
    "# standalone_parameters[\"labels_source\"] = ALL_SERIAL_NUMBERS\n",
    "# standalone_parameters[\"labels_target\"] = ALL_SERIAL_NUMBERS\n",
    "# standalone_parameters[\"domains_source\"] = [8,20, 38,50]\n",
    "# standalone_parameters[\"domains_target\"] = [14, 26, 32, 44, 56]\n",
    "# standalone_parameters[\"pickle_name\"] = \"oracle.frame_indexed.stratified_ds.2022A.pkl\"\n",
    "# standalone_parameters[\"num_examples_per_domain_per_label_source\"]=1000\n",
    "# standalone_parameters[\"num_examples_per_domain_per_label_target\"]=1000\n",
    "\n",
    "# Uncomment these for Metahan dataset\n",
    "# standalone_parameters[\"labels_source\"] = list(range(19))\n",
    "# standalone_parameters[\"labels_target\"] = list(range(19))\n",
    "# standalone_parameters[\"domains_source\"] = [0]\n",
    "# standalone_parameters[\"domains_target\"] = [1]\n",
    "# standalone_parameters[\"pickle_name\"] = \"metehan.stratified_ds.2022A.pkl\"\n",
    "# standalone_parameters[\"n_way\"]  = len(standalone_parameters[\"labels_source\"])\n",
    "# standalone_parameters[\"num_examples_per_domain_per_label_source\"]=200\n",
    "# standalone_parameters[\"num_examples_per_domain_per_label_target\"]=100\n",
    "\n",
    "\n",
    "standalone_parameters[\"n_way\"]  = len(standalone_parameters[\"labels_source\"])"
   ]
  },
  {
   "cell_type": "code",
   "execution_count": 4,
   "id": "4088f808",
   "metadata": {
    "execution": {
     "iopub.execute_input": "2022-03-06T00:57:12.250021Z",
     "iopub.status.busy": "2022-03-06T00:57:12.247655Z",
     "iopub.status.idle": "2022-03-06T00:57:12.261979Z",
     "shell.execute_reply": "2022-03-06T00:57:12.261487Z"
    },
    "papermill": {
     "duration": 0.037659,
     "end_time": "2022-03-06T00:57:12.262081",
     "exception": false,
     "start_time": "2022-03-06T00:57:12.224422",
     "status": "completed"
    },
    "tags": [
     "injected-parameters"
    ]
   },
   "outputs": [],
   "source": [
    "# Parameters\n",
    "parameters = {\n",
    "    \"experiment_name\": \"tuned_1_wisig\",\n",
    "    \"device\": \"cuda\",\n",
    "    \"lr\": 0.001,\n",
    "    \"seed\": 1337,\n",
    "    \"dataset_seed\": 1337,\n",
    "    \"labels_source\": [\n",
    "        \"1-10\",\n",
    "        \"1-12\",\n",
    "        \"1-14\",\n",
    "        \"1-16\",\n",
    "        \"1-18\",\n",
    "        \"1-19\",\n",
    "        \"1-8\",\n",
    "        \"10-11\",\n",
    "        \"10-17\",\n",
    "        \"10-4\",\n",
    "        \"10-7\",\n",
    "        \"11-1\",\n",
    "        \"11-10\",\n",
    "        \"11-19\",\n",
    "        \"11-20\",\n",
    "        \"11-4\",\n",
    "        \"11-7\",\n",
    "        \"12-19\",\n",
    "        \"12-20\",\n",
    "        \"12-7\",\n",
    "        \"13-14\",\n",
    "        \"13-18\",\n",
    "        \"13-19\",\n",
    "        \"13-20\",\n",
    "        \"13-3\",\n",
    "        \"13-7\",\n",
    "        \"14-10\",\n",
    "        \"14-11\",\n",
    "        \"14-12\",\n",
    "        \"14-13\",\n",
    "        \"14-14\",\n",
    "        \"14-19\",\n",
    "        \"14-20\",\n",
    "        \"14-7\",\n",
    "        \"14-8\",\n",
    "        \"14-9\",\n",
    "        \"15-1\",\n",
    "        \"15-19\",\n",
    "        \"15-6\",\n",
    "        \"16-1\",\n",
    "        \"16-16\",\n",
    "        \"16-19\",\n",
    "        \"16-20\",\n",
    "        \"17-10\",\n",
    "        \"17-11\",\n",
    "        \"18-1\",\n",
    "        \"18-10\",\n",
    "        \"18-11\",\n",
    "        \"18-12\",\n",
    "        \"18-13\",\n",
    "        \"18-14\",\n",
    "        \"18-15\",\n",
    "        \"18-16\",\n",
    "        \"18-17\",\n",
    "        \"18-19\",\n",
    "        \"18-2\",\n",
    "        \"18-20\",\n",
    "        \"18-4\",\n",
    "        \"18-5\",\n",
    "        \"18-7\",\n",
    "        \"18-8\",\n",
    "        \"18-9\",\n",
    "        \"19-1\",\n",
    "        \"19-10\",\n",
    "        \"19-11\",\n",
    "        \"19-12\",\n",
    "        \"19-13\",\n",
    "        \"19-14\",\n",
    "        \"19-15\",\n",
    "        \"19-19\",\n",
    "        \"19-2\",\n",
    "        \"19-20\",\n",
    "        \"19-3\",\n",
    "        \"19-4\",\n",
    "        \"19-6\",\n",
    "        \"19-7\",\n",
    "        \"19-8\",\n",
    "        \"19-9\",\n",
    "        \"2-1\",\n",
    "        \"2-13\",\n",
    "        \"2-15\",\n",
    "        \"2-3\",\n",
    "        \"2-4\",\n",
    "        \"2-5\",\n",
    "        \"2-6\",\n",
    "        \"2-7\",\n",
    "        \"2-8\",\n",
    "        \"20-1\",\n",
    "        \"20-12\",\n",
    "        \"20-14\",\n",
    "        \"20-15\",\n",
    "        \"20-16\",\n",
    "        \"20-18\",\n",
    "        \"20-19\",\n",
    "        \"20-20\",\n",
    "        \"20-3\",\n",
    "        \"20-4\",\n",
    "        \"20-5\",\n",
    "        \"20-7\",\n",
    "        \"20-8\",\n",
    "        \"3-1\",\n",
    "        \"3-13\",\n",
    "        \"3-18\",\n",
    "        \"3-2\",\n",
    "        \"3-8\",\n",
    "        \"4-1\",\n",
    "        \"4-10\",\n",
    "        \"4-11\",\n",
    "        \"5-1\",\n",
    "        \"5-5\",\n",
    "        \"6-1\",\n",
    "        \"6-15\",\n",
    "        \"6-6\",\n",
    "        \"7-10\",\n",
    "        \"7-11\",\n",
    "        \"7-12\",\n",
    "        \"7-13\",\n",
    "        \"7-14\",\n",
    "        \"7-7\",\n",
    "        \"7-8\",\n",
    "        \"7-9\",\n",
    "        \"8-1\",\n",
    "        \"8-13\",\n",
    "        \"8-14\",\n",
    "        \"8-18\",\n",
    "        \"8-20\",\n",
    "        \"8-3\",\n",
    "        \"8-8\",\n",
    "        \"9-1\",\n",
    "        \"9-7\",\n",
    "    ],\n",
    "    \"labels_target\": [\n",
    "        \"1-10\",\n",
    "        \"1-12\",\n",
    "        \"1-14\",\n",
    "        \"1-16\",\n",
    "        \"1-18\",\n",
    "        \"1-19\",\n",
    "        \"1-8\",\n",
    "        \"10-11\",\n",
    "        \"10-17\",\n",
    "        \"10-4\",\n",
    "        \"10-7\",\n",
    "        \"11-1\",\n",
    "        \"11-10\",\n",
    "        \"11-19\",\n",
    "        \"11-20\",\n",
    "        \"11-4\",\n",
    "        \"11-7\",\n",
    "        \"12-19\",\n",
    "        \"12-20\",\n",
    "        \"12-7\",\n",
    "        \"13-14\",\n",
    "        \"13-18\",\n",
    "        \"13-19\",\n",
    "        \"13-20\",\n",
    "        \"13-3\",\n",
    "        \"13-7\",\n",
    "        \"14-10\",\n",
    "        \"14-11\",\n",
    "        \"14-12\",\n",
    "        \"14-13\",\n",
    "        \"14-14\",\n",
    "        \"14-19\",\n",
    "        \"14-20\",\n",
    "        \"14-7\",\n",
    "        \"14-8\",\n",
    "        \"14-9\",\n",
    "        \"15-1\",\n",
    "        \"15-19\",\n",
    "        \"15-6\",\n",
    "        \"16-1\",\n",
    "        \"16-16\",\n",
    "        \"16-19\",\n",
    "        \"16-20\",\n",
    "        \"17-10\",\n",
    "        \"17-11\",\n",
    "        \"18-1\",\n",
    "        \"18-10\",\n",
    "        \"18-11\",\n",
    "        \"18-12\",\n",
    "        \"18-13\",\n",
    "        \"18-14\",\n",
    "        \"18-15\",\n",
    "        \"18-16\",\n",
    "        \"18-17\",\n",
    "        \"18-19\",\n",
    "        \"18-2\",\n",
    "        \"18-20\",\n",
    "        \"18-4\",\n",
    "        \"18-5\",\n",
    "        \"18-7\",\n",
    "        \"18-8\",\n",
    "        \"18-9\",\n",
    "        \"19-1\",\n",
    "        \"19-10\",\n",
    "        \"19-11\",\n",
    "        \"19-12\",\n",
    "        \"19-13\",\n",
    "        \"19-14\",\n",
    "        \"19-15\",\n",
    "        \"19-19\",\n",
    "        \"19-2\",\n",
    "        \"19-20\",\n",
    "        \"19-3\",\n",
    "        \"19-4\",\n",
    "        \"19-6\",\n",
    "        \"19-7\",\n",
    "        \"19-8\",\n",
    "        \"19-9\",\n",
    "        \"2-1\",\n",
    "        \"2-13\",\n",
    "        \"2-15\",\n",
    "        \"2-3\",\n",
    "        \"2-4\",\n",
    "        \"2-5\",\n",
    "        \"2-6\",\n",
    "        \"2-7\",\n",
    "        \"2-8\",\n",
    "        \"20-1\",\n",
    "        \"20-12\",\n",
    "        \"20-14\",\n",
    "        \"20-15\",\n",
    "        \"20-16\",\n",
    "        \"20-18\",\n",
    "        \"20-19\",\n",
    "        \"20-20\",\n",
    "        \"20-3\",\n",
    "        \"20-4\",\n",
    "        \"20-5\",\n",
    "        \"20-7\",\n",
    "        \"20-8\",\n",
    "        \"3-1\",\n",
    "        \"3-13\",\n",
    "        \"3-18\",\n",
    "        \"3-2\",\n",
    "        \"3-8\",\n",
    "        \"4-1\",\n",
    "        \"4-10\",\n",
    "        \"4-11\",\n",
    "        \"5-1\",\n",
    "        \"5-5\",\n",
    "        \"6-1\",\n",
    "        \"6-15\",\n",
    "        \"6-6\",\n",
    "        \"7-10\",\n",
    "        \"7-11\",\n",
    "        \"7-12\",\n",
    "        \"7-13\",\n",
    "        \"7-14\",\n",
    "        \"7-7\",\n",
    "        \"7-8\",\n",
    "        \"7-9\",\n",
    "        \"8-1\",\n",
    "        \"8-13\",\n",
    "        \"8-14\",\n",
    "        \"8-18\",\n",
    "        \"8-20\",\n",
    "        \"8-3\",\n",
    "        \"8-8\",\n",
    "        \"9-1\",\n",
    "        \"9-7\",\n",
    "    ],\n",
    "    \"x_transforms_source\": [],\n",
    "    \"x_transforms_target\": [],\n",
    "    \"episode_transforms_source\": [],\n",
    "    \"episode_transforms_target\": [],\n",
    "    \"domains_source\": [3],\n",
    "    \"domains_target\": [1, 2, 4],\n",
    "    \"num_examples_per_domain_per_label_source\": 100,\n",
    "    \"num_examples_per_domain_per_label_target\": 100,\n",
    "    \"n_shot\": 3,\n",
    "    \"n_way\": 130,\n",
    "    \"n_query\": 2,\n",
    "    \"train_k_factor\": 3,\n",
    "    \"val_k_factor\": 2,\n",
    "    \"test_k_factor\": 2,\n",
    "    \"torch_default_dtype\": \"torch.float32\",\n",
    "    \"n_epoch\": 50,\n",
    "    \"patience\": 3,\n",
    "    \"criteria_for_best\": \"target_loss\",\n",
    "    \"x_net\": [\n",
    "        {\"class\": \"nnReshape\", \"kargs\": {\"shape\": [-1, 1, 2, 256]}},\n",
    "        {\n",
    "            \"class\": \"Conv2d\",\n",
    "            \"kargs\": {\n",
    "                \"in_channels\": 1,\n",
    "                \"out_channels\": 256,\n",
    "                \"kernel_size\": [1, 7],\n",
    "                \"bias\": False,\n",
    "                \"padding\": [0, 3],\n",
    "            },\n",
    "        },\n",
    "        {\"class\": \"ReLU\", \"kargs\": {\"inplace\": True}},\n",
    "        {\"class\": \"BatchNorm2d\", \"kargs\": {\"num_features\": 256}},\n",
    "        {\n",
    "            \"class\": \"Conv2d\",\n",
    "            \"kargs\": {\n",
    "                \"in_channels\": 256,\n",
    "                \"out_channels\": 80,\n",
    "                \"kernel_size\": [2, 7],\n",
    "                \"bias\": True,\n",
    "                \"padding\": [0, 3],\n",
    "            },\n",
    "        },\n",
    "        {\"class\": \"ReLU\", \"kargs\": {\"inplace\": True}},\n",
    "        {\"class\": \"BatchNorm2d\", \"kargs\": {\"num_features\": 80}},\n",
    "        {\"class\": \"Flatten\", \"kargs\": {}},\n",
    "        {\"class\": \"Linear\", \"kargs\": {\"in_features\": 20480, \"out_features\": 256}},\n",
    "        {\"class\": \"ReLU\", \"kargs\": {\"inplace\": True}},\n",
    "        {\"class\": \"BatchNorm1d\", \"kargs\": {\"num_features\": 256}},\n",
    "        {\"class\": \"Linear\", \"kargs\": {\"in_features\": 256, \"out_features\": 256}},\n",
    "    ],\n",
    "    \"NUM_LOGS_PER_EPOCH\": 10,\n",
    "    \"BEST_MODEL_PATH\": \"./best_model.pth\",\n",
    "    \"pickle_name\": \"wisig.node3-19.stratified_ds.2022A.pkl\",\n",
    "}\n"
   ]
  },
  {
   "cell_type": "code",
   "execution_count": 5,
   "id": "8fa1cc33",
   "metadata": {
    "execution": {
     "iopub.execute_input": "2022-03-06T00:57:12.292953Z",
     "iopub.status.busy": "2022-03-06T00:57:12.289209Z",
     "iopub.status.idle": "2022-03-06T00:57:12.300753Z",
     "shell.execute_reply": "2022-03-06T00:57:12.301053Z"
    },
    "papermill": {
     "duration": 0.024748,
     "end_time": "2022-03-06T00:57:12.301142",
     "exception": false,
     "start_time": "2022-03-06T00:57:12.276394",
     "status": "completed"
    },
    "tags": []
   },
   "outputs": [],
   "source": [
    "# Set this to True if you want to run this template directly\n",
    "STANDALONE = False\n",
    "if STANDALONE:\n",
    "    print(\"parameters not injected, running with standalone_parameters\")\n",
    "    parameters = standalone_parameters\n",
    "\n",
    "if not 'parameters' in locals() and not 'parameters' in globals():\n",
    "    raise Exception(\"Parameter injection failed\")\n",
    "\n",
    "#Use an easy dict for all the parameters\n",
    "p = EasyDict(parameters)\n",
    "\n",
    "supplied_keys = set(p.keys())\n",
    "\n",
    "if  supplied_keys != required_parameters:\n",
    "    print(\"Parameters are incorrect\")\n",
    "    if len(supplied_keys - required_parameters)>0: print(\"Shouldn't have:\", str(supplied_keys - required_parameters))\n",
    "    if len(required_parameters - supplied_keys)>0: print(\"Need to have:\", str(required_parameters - supplied_keys))\n",
    "    raise RuntimeError(\"Parameters are incorrect\")\n",
    "\n"
   ]
  },
  {
   "cell_type": "code",
   "execution_count": 6,
   "id": "3a028d58",
   "metadata": {
    "execution": {
     "iopub.execute_input": "2022-03-06T00:57:12.328379Z",
     "iopub.status.busy": "2022-03-06T00:57:12.328108Z",
     "iopub.status.idle": "2022-03-06T00:57:12.343528Z",
     "shell.execute_reply": "2022-03-06T00:57:12.343069Z"
    },
    "papermill": {
     "duration": 0.02757,
     "end_time": "2022-03-06T00:57:12.343645",
     "exception": false,
     "start_time": "2022-03-06T00:57:12.316075",
     "status": "completed"
    },
    "tags": []
   },
   "outputs": [],
   "source": [
    "###################################\n",
    "# Set the RNGs and make it all deterministic\n",
    "###################################\n",
    "np.random.seed(p.seed)\n",
    "random.seed(p.seed)\n",
    "torch.manual_seed(p.seed)\n",
    "\n",
    "torch.use_deterministic_algorithms(True) "
   ]
  },
  {
   "cell_type": "code",
   "execution_count": 7,
   "id": "b691acf6",
   "metadata": {
    "execution": {
     "iopub.execute_input": "2022-03-06T00:57:12.374948Z",
     "iopub.status.busy": "2022-03-06T00:57:12.374334Z",
     "iopub.status.idle": "2022-03-06T00:57:12.386950Z",
     "shell.execute_reply": "2022-03-06T00:57:12.387216Z"
    },
    "papermill": {
     "duration": 0.028034,
     "end_time": "2022-03-06T00:57:12.387317",
     "exception": false,
     "start_time": "2022-03-06T00:57:12.359283",
     "status": "completed"
    },
    "tags": []
   },
   "outputs": [],
   "source": [
    "###########################################\n",
    "# The stratified datasets honor this\n",
    "###########################################\n",
    "torch.set_default_dtype(eval(p.torch_default_dtype))"
   ]
  },
  {
   "cell_type": "code",
   "execution_count": 8,
   "id": "b5fba671",
   "metadata": {
    "execution": {
     "iopub.execute_input": "2022-03-06T00:57:12.413354Z",
     "iopub.status.busy": "2022-03-06T00:57:12.413089Z",
     "iopub.status.idle": "2022-03-06T00:57:12.452240Z",
     "shell.execute_reply": "2022-03-06T00:57:12.452612Z"
    },
    "papermill": {
     "duration": 0.052026,
     "end_time": "2022-03-06T00:57:12.452720",
     "exception": false,
     "start_time": "2022-03-06T00:57:12.400694",
     "status": "completed"
    },
    "tags": []
   },
   "outputs": [],
   "source": [
    "###################################\n",
    "# Build the network(s)\n",
    "# Note: It's critical to do this AFTER setting the RNG\n",
    "# (This is due to the randomized initial weights)\n",
    "###################################\n",
    "x_net = build_sequential(p.x_net)"
   ]
  },
  {
   "cell_type": "code",
   "execution_count": 9,
   "id": "5d7e61cc",
   "metadata": {
    "execution": {
     "iopub.execute_input": "2022-03-06T00:57:12.479566Z",
     "iopub.status.busy": "2022-03-06T00:57:12.479318Z",
     "iopub.status.idle": "2022-03-06T00:57:12.493451Z",
     "shell.execute_reply": "2022-03-06T00:57:12.493736Z"
    },
    "papermill": {
     "duration": 0.026348,
     "end_time": "2022-03-06T00:57:12.493852",
     "exception": false,
     "start_time": "2022-03-06T00:57:12.467504",
     "status": "completed"
    },
    "tags": []
   },
   "outputs": [],
   "source": [
    "start_time_secs = time.time()"
   ]
  },
  {
   "cell_type": "code",
   "execution_count": 10,
   "id": "fd5442bc",
   "metadata": {
    "execution": {
     "iopub.execute_input": "2022-03-06T00:57:12.527397Z",
     "iopub.status.busy": "2022-03-06T00:57:12.527017Z",
     "iopub.status.idle": "2022-03-06T00:57:13.378437Z",
     "shell.execute_reply": "2022-03-06T00:57:13.377944Z"
    },
    "papermill": {
     "duration": 0.869889,
     "end_time": "2022-03-06T00:57:13.378555",
     "exception": false,
     "start_time": "2022-03-06T00:57:12.508666",
     "status": "completed"
    },
    "tags": []
   },
   "outputs": [],
   "source": [
    "###################################\n",
    "# Build the dataset\n",
    "###################################\n",
    "\n",
    "if p.x_transforms_source == []: x_transform_source = None\n",
    "else: x_transform_source = get_chained_transform(p.x_transforms_source) \n",
    "\n",
    "if p.x_transforms_target == []: x_transform_target = None\n",
    "else: x_transform_target = get_chained_transform(p.x_transforms_target)\n",
    "\n",
    "if p.episode_transforms_source == []: episode_transform_source = None\n",
    "else: raise Exception(\"episode_transform_source not implemented\")\n",
    "\n",
    "if p.episode_transforms_target == []: episode_transform_target = None\n",
    "else: raise Exception(\"episode_transform_target not implemented\")\n",
    "\n",
    "\n",
    "eaf_source = Episodic_Accessor_Factory(\n",
    "    labels=p.labels_source,\n",
    "    domains=p.domains_source,\n",
    "    num_examples_per_domain_per_label=p.num_examples_per_domain_per_label_source,\n",
    "    iterator_seed=p.seed,\n",
    "    dataset_seed=p.dataset_seed,\n",
    "    n_shot=p.n_shot,\n",
    "    n_way=p.n_way,\n",
    "    n_query=p.n_query,\n",
    "    train_val_test_k_factors=(p.train_k_factor,p.val_k_factor,p.test_k_factor),\n",
    "    pickle_path=os.path.join(get_datasets_base_path(), p.pickle_name),\n",
    "    x_transform_func=x_transform_source,\n",
    "    example_transform_func=episode_transform_source,\n",
    "    \n",
    ")\n",
    "train_original_source, val_original_source, test_original_source = eaf_source.get_train(), eaf_source.get_val(), eaf_source.get_test()\n",
    "\n",
    "\n",
    "eaf_target = Episodic_Accessor_Factory(\n",
    "    labels=p.labels_target,\n",
    "    domains=p.domains_target,\n",
    "    num_examples_per_domain_per_label=p.num_examples_per_domain_per_label_target,\n",
    "    iterator_seed=p.seed,\n",
    "    dataset_seed=p.dataset_seed,\n",
    "    n_shot=p.n_shot,\n",
    "    n_way=p.n_way,\n",
    "    n_query=p.n_query,\n",
    "    train_val_test_k_factors=(p.train_k_factor,p.val_k_factor,p.test_k_factor),\n",
    "    pickle_path=os.path.join(get_datasets_base_path(), p.pickle_name),\n",
    "    x_transform_func=x_transform_target,\n",
    "    example_transform_func=episode_transform_target,\n",
    ")\n",
    "train_original_target, val_original_target, test_original_target = eaf_target.get_train(), eaf_target.get_val(), eaf_target.get_test()\n",
    "\n",
    "\n",
    "transform_lambda = lambda ex: ex[1] # Original is (<domain>, <episode>) so we strip down to episode only\n",
    "\n",
    "train_processed_source = Lazy_Iterable_Wrapper(train_original_source, transform_lambda)\n",
    "val_processed_source   = Lazy_Iterable_Wrapper(val_original_source, transform_lambda)\n",
    "test_processed_source  = Lazy_Iterable_Wrapper(test_original_source, transform_lambda)\n",
    "\n",
    "train_processed_target = Lazy_Iterable_Wrapper(train_original_target, transform_lambda)\n",
    "val_processed_target   = Lazy_Iterable_Wrapper(val_original_target, transform_lambda)\n",
    "test_processed_target  = Lazy_Iterable_Wrapper(test_original_target, transform_lambda)\n",
    "\n",
    "datasets = EasyDict({\n",
    "    \"source\": {\n",
    "        \"original\": {\"train\":train_original_source, \"val\":val_original_source, \"test\":test_original_source},\n",
    "        \"processed\": {\"train\":train_processed_source, \"val\":val_processed_source, \"test\":test_processed_source}\n",
    "    },\n",
    "    \"target\": {\n",
    "        \"original\": {\"train\":train_original_target, \"val\":val_original_target, \"test\":test_original_target},\n",
    "        \"processed\": {\"train\":train_processed_target, \"val\":val_processed_target, \"test\":test_processed_target}\n",
    "    },\n",
    "})"
   ]
  },
  {
   "cell_type": "code",
   "execution_count": 11,
   "id": "296189d9",
   "metadata": {
    "execution": {
     "iopub.execute_input": "2022-03-06T00:57:13.408183Z",
     "iopub.status.busy": "2022-03-06T00:57:13.407689Z",
     "iopub.status.idle": "2022-03-06T00:57:15.095828Z",
     "shell.execute_reply": "2022-03-06T00:57:15.096065Z"
    },
    "papermill": {
     "duration": 1.702775,
     "end_time": "2022-03-06T00:57:15.096152",
     "exception": false,
     "start_time": "2022-03-06T00:57:13.393377",
     "status": "completed"
    },
    "tags": []
   },
   "outputs": [
    {
     "name": "stdout",
     "output_type": "stream",
     "text": [
      "Visually inspect these to see if they line up with expected values given the transforms\n",
      "x_transforms_source []\n",
      "x_transforms_target []\n",
      "Average magnitude, source: 0.071997955\n",
      "Average power, source: 0.0063064974\n"
     ]
    },
    {
     "name": "stdout",
     "output_type": "stream",
     "text": [
      "Average magnitude, target: 0.0063583013\n",
      "Average power, target: 5.0454975e-05\n"
     ]
    }
   ],
   "source": [
    "# Some quick unit tests on the data\n",
    "from steves_utils.transforms import get_average_power, get_average_magnitude\n",
    "\n",
    "q_x, q_y, s_x, s_y, truth = next(iter(train_processed_source))\n",
    "\n",
    "assert q_x.dtype == eval(p.torch_default_dtype)\n",
    "assert s_x.dtype == eval(p.torch_default_dtype)\n",
    "\n",
    "print(\"Visually inspect these to see if they line up with expected values given the transforms\")\n",
    "print('x_transforms_source', p.x_transforms_source)\n",
    "print('x_transforms_target', p.x_transforms_target)\n",
    "print(\"Average magnitude, source:\", get_average_magnitude(q_x[0].numpy()))\n",
    "print(\"Average power, source:\", get_average_power(q_x[0].numpy()))\n",
    "\n",
    "q_x, q_y, s_x, s_y, truth = next(iter(train_processed_target))\n",
    "print(\"Average magnitude, target:\", get_average_magnitude(q_x[0].numpy()))\n",
    "print(\"Average power, target:\", get_average_power(q_x[0].numpy()))\n"
   ]
  },
  {
   "cell_type": "code",
   "execution_count": 12,
   "id": "bbdacba1",
   "metadata": {
    "execution": {
     "iopub.execute_input": "2022-03-06T00:57:15.126736Z",
     "iopub.status.busy": "2022-03-06T00:57:15.126396Z",
     "iopub.status.idle": "2022-03-06T00:57:15.191362Z",
     "shell.execute_reply": "2022-03-06T00:57:15.191782Z"
    },
    "papermill": {
     "duration": 0.081293,
     "end_time": "2022-03-06T00:57:15.191920",
     "exception": false,
     "start_time": "2022-03-06T00:57:15.110627",
     "status": "completed"
    },
    "tags": []
   },
   "outputs": [
    {
     "name": "stdout",
     "output_type": "stream",
     "text": [
      "(2, 256)\n"
     ]
    }
   ],
   "source": [
    "###################################\n",
    "# Build the model\n",
    "###################################\n",
    "model = Steves_Prototypical_Network(x_net, device=p.device, x_shape=(2,256))\n",
    "optimizer = Adam(params=model.parameters(), lr=p.lr)"
   ]
  },
  {
   "cell_type": "code",
   "execution_count": 13,
   "id": "22b39ac5",
   "metadata": {
    "execution": {
     "iopub.execute_input": "2022-03-06T00:57:15.221782Z",
     "iopub.status.busy": "2022-03-06T00:57:15.221518Z",
     "iopub.status.idle": "2022-03-06T00:59:19.296993Z",
     "shell.execute_reply": "2022-03-06T00:59:19.296657Z"
    },
    "papermill": {
     "duration": 124.088407,
     "end_time": "2022-03-06T00:59:19.297076",
     "exception": false,
     "start_time": "2022-03-06T00:57:15.208669",
     "status": "completed"
    },
    "tags": []
   },
   "outputs": [
    {
     "name": "stdout",
     "output_type": "stream",
     "text": [
      "epoch: 1, [batch: 1 / 42], examples_per_second: 2203.7811, train_label_loss: 3.6472, \n"
     ]
    },
    {
     "name": "stdout",
     "output_type": "stream",
     "text": [
      "epoch: 1, [batch: 5 / 42], examples_per_second: 3959.1589, train_label_loss: 2.9335, \n"
     ]
    },
    {
     "name": "stdout",
     "output_type": "stream",
     "text": [
      "epoch: 1, [batch: 9 / 42], examples_per_second: 3973.0133, train_label_loss: 1.8671, \n"
     ]
    },
    {
     "name": "stdout",
     "output_type": "stream",
     "text": [
      "epoch: 1, [batch: 13 / 42], examples_per_second: 3950.0453, train_label_loss: 1.7424, \n"
     ]
    },
    {
     "name": "stdout",
     "output_type": "stream",
     "text": [
      "epoch: 1, [batch: 17 / 42], examples_per_second: 3980.3974, train_label_loss: 0.9913, \n"
     ]
    },
    {
     "name": "stdout",
     "output_type": "stream",
     "text": [
      "epoch: 1, [batch: 21 / 42], examples_per_second: 3963.4902, train_label_loss: 1.1262, \n"
     ]
    },
    {
     "name": "stdout",
     "output_type": "stream",
     "text": [
      "epoch: 1, [batch: 25 / 42], examples_per_second: 3981.2519, train_label_loss: 0.9787, \n"
     ]
    },
    {
     "name": "stdout",
     "output_type": "stream",
     "text": [
      "epoch: 1, [batch: 29 / 42], examples_per_second: 3938.3634, train_label_loss: 0.8143, \n"
     ]
    },
    {
     "name": "stdout",
     "output_type": "stream",
     "text": [
      "epoch: 1, [batch: 33 / 42], examples_per_second: 4019.6472, train_label_loss: 0.8417, \n"
     ]
    },
    {
     "name": "stdout",
     "output_type": "stream",
     "text": [
      "epoch: 1, [batch: 37 / 42], examples_per_second: 4066.5654, train_label_loss: 0.8278, \n"
     ]
    },
    {
     "name": "stdout",
     "output_type": "stream",
     "text": [
      "=============================================================\n",
      "epoch: 1, source_val_acc_label: 0.8436, target_val_acc_label: 0.7902, source_val_label_loss: 0.8539, target_val_label_loss: 1.0881, \n",
      "=============================================================\n"
     ]
    },
    {
     "name": "stdout",
     "output_type": "stream",
     "text": [
      "New best\n"
     ]
    },
    {
     "name": "stdout",
     "output_type": "stream",
     "text": [
      "epoch: 2, [batch: 1 / 42], examples_per_second: 514.3678, train_label_loss: 0.7507, \n"
     ]
    },
    {
     "name": "stdout",
     "output_type": "stream",
     "text": [
      "epoch: 2, [batch: 5 / 42], examples_per_second: 4013.5359, train_label_loss: 0.8248, \n"
     ]
    },
    {
     "name": "stdout",
     "output_type": "stream",
     "text": [
      "epoch: 2, [batch: 9 / 42], examples_per_second: 4042.9380, train_label_loss: 0.6445, \n"
     ]
    },
    {
     "name": "stdout",
     "output_type": "stream",
     "text": [
      "epoch: 2, [batch: 13 / 42], examples_per_second: 4050.0099, train_label_loss: 0.6704, \n"
     ]
    },
    {
     "name": "stdout",
     "output_type": "stream",
     "text": [
      "epoch: 2, [batch: 17 / 42], examples_per_second: 4051.0209, train_label_loss: 0.5577, \n"
     ]
    },
    {
     "name": "stdout",
     "output_type": "stream",
     "text": [
      "epoch: 2, [batch: 21 / 42], examples_per_second: 4032.5685, train_label_loss: 0.7753, \n"
     ]
    },
    {
     "name": "stdout",
     "output_type": "stream",
     "text": [
      "epoch: 2, [batch: 25 / 42], examples_per_second: 4051.6681, train_label_loss: 0.5473, \n"
     ]
    },
    {
     "name": "stdout",
     "output_type": "stream",
     "text": [
      "epoch: 2, [batch: 29 / 42], examples_per_second: 4046.2502, train_label_loss: 0.4501, \n"
     ]
    },
    {
     "name": "stdout",
     "output_type": "stream",
     "text": [
      "epoch: 2, [batch: 33 / 42], examples_per_second: 4099.3027, train_label_loss: 0.6757, \n"
     ]
    },
    {
     "name": "stdout",
     "output_type": "stream",
     "text": [
      "epoch: 2, [batch: 37 / 42], examples_per_second: 4148.3988, train_label_loss: 0.5350, \n"
     ]
    },
    {
     "name": "stdout",
     "output_type": "stream",
     "text": [
      "=============================================================\n",
      "epoch: 2, source_val_acc_label: 0.8968, target_val_acc_label: 0.8368, source_val_label_loss: 0.5981, target_val_label_loss: 0.9008, \n",
      "=============================================================\n"
     ]
    },
    {
     "name": "stdout",
     "output_type": "stream",
     "text": [
      "New best\n"
     ]
    },
    {
     "name": "stdout",
     "output_type": "stream",
     "text": [
      "epoch: 3, [batch: 1 / 42], examples_per_second: 511.2400, train_label_loss: 0.5520, \n"
     ]
    },
    {
     "name": "stdout",
     "output_type": "stream",
     "text": [
      "epoch: 3, [batch: 5 / 42], examples_per_second: 4027.4543, train_label_loss: 0.5382, \n"
     ]
    },
    {
     "name": "stdout",
     "output_type": "stream",
     "text": [
      "epoch: 3, [batch: 9 / 42], examples_per_second: 4061.1150, train_label_loss: 0.4586, \n"
     ]
    },
    {
     "name": "stdout",
     "output_type": "stream",
     "text": [
      "epoch: 3, [batch: 13 / 42], examples_per_second: 4042.6412, train_label_loss: 0.5654, \n"
     ]
    },
    {
     "name": "stdout",
     "output_type": "stream",
     "text": [
      "epoch: 3, [batch: 17 / 42], examples_per_second: 4058.4973, train_label_loss: 0.3579, \n"
     ]
    },
    {
     "name": "stdout",
     "output_type": "stream",
     "text": [
      "epoch: 3, [batch: 21 / 42], examples_per_second: 4042.5108, train_label_loss: 0.4254, \n"
     ]
    },
    {
     "name": "stdout",
     "output_type": "stream",
     "text": [
      "epoch: 3, [batch: 25 / 42], examples_per_second: 4049.6670, train_label_loss: 0.4369, \n"
     ]
    },
    {
     "name": "stdout",
     "output_type": "stream",
     "text": [
      "epoch: 3, [batch: 29 / 42], examples_per_second: 4055.9327, train_label_loss: 0.3913, \n"
     ]
    },
    {
     "name": "stdout",
     "output_type": "stream",
     "text": [
      "epoch: 3, [batch: 33 / 42], examples_per_second: 4110.1565, train_label_loss: 0.2563, \n"
     ]
    },
    {
     "name": "stdout",
     "output_type": "stream",
     "text": [
      "epoch: 3, [batch: 37 / 42], examples_per_second: 4145.9400, train_label_loss: 0.2902, \n"
     ]
    },
    {
     "name": "stdout",
     "output_type": "stream",
     "text": [
      "=============================================================\n",
      "epoch: 3, source_val_acc_label: 0.9231, target_val_acc_label: 0.8588, source_val_label_loss: 0.4692, target_val_label_loss: 0.7920, \n",
      "=============================================================\n"
     ]
    },
    {
     "name": "stdout",
     "output_type": "stream",
     "text": [
      "New best\n"
     ]
    },
    {
     "name": "stdout",
     "output_type": "stream",
     "text": [
      "epoch: 4, [batch: 1 / 42], examples_per_second: 509.3698, train_label_loss: 0.2827, \n"
     ]
    },
    {
     "name": "stdout",
     "output_type": "stream",
     "text": [
      "epoch: 4, [batch: 5 / 42], examples_per_second: 3999.4713, train_label_loss: 0.3590, \n"
     ]
    },
    {
     "name": "stdout",
     "output_type": "stream",
     "text": [
      "epoch: 4, [batch: 9 / 42], examples_per_second: 4067.0294, train_label_loss: 0.3718, \n"
     ]
    },
    {
     "name": "stdout",
     "output_type": "stream",
     "text": [
      "epoch: 4, [batch: 13 / 42], examples_per_second: 4055.5194, train_label_loss: 0.4397, \n"
     ]
    },
    {
     "name": "stdout",
     "output_type": "stream",
     "text": [
      "epoch: 4, [batch: 17 / 42], examples_per_second: 4065.1722, train_label_loss: 0.3338, \n"
     ]
    },
    {
     "name": "stdout",
     "output_type": "stream",
     "text": [
      "epoch: 4, [batch: 21 / 42], examples_per_second: 4049.0084, train_label_loss: 0.4109, \n"
     ]
    },
    {
     "name": "stdout",
     "output_type": "stream",
     "text": [
      "epoch: 4, [batch: 25 / 42], examples_per_second: 4071.6594, train_label_loss: 0.4171, \n"
     ]
    },
    {
     "name": "stdout",
     "output_type": "stream",
     "text": [
      "epoch: 4, [batch: 29 / 42], examples_per_second: 4061.6202, train_label_loss: 0.5505, \n"
     ]
    },
    {
     "name": "stdout",
     "output_type": "stream",
     "text": [
      "epoch: 4, [batch: 33 / 42], examples_per_second: 4110.5252, train_label_loss: 0.2967, \n"
     ]
    },
    {
     "name": "stdout",
     "output_type": "stream",
     "text": [
      "epoch: 4, [batch: 37 / 42], examples_per_second: 4134.5925, train_label_loss: 0.2521, \n"
     ]
    },
    {
     "name": "stdout",
     "output_type": "stream",
     "text": [
      "=============================================================\n",
      "epoch: 4, source_val_acc_label: 0.9327, target_val_acc_label: 0.8500, source_val_label_loss: 0.4362, target_val_label_loss: 0.8182, \n",
      "=============================================================\n"
     ]
    },
    {
     "name": "stdout",
     "output_type": "stream",
     "text": [
      "epoch: 5, [batch: 1 / 42], examples_per_second: 528.7852, train_label_loss: 0.3572, \n"
     ]
    },
    {
     "name": "stdout",
     "output_type": "stream",
     "text": [
      "epoch: 5, [batch: 5 / 42], examples_per_second: 4010.1856, train_label_loss: 0.3735, \n"
     ]
    },
    {
     "name": "stdout",
     "output_type": "stream",
     "text": [
      "epoch: 5, [batch: 9 / 42], examples_per_second: 4048.5936, train_label_loss: 0.3717, \n"
     ]
    },
    {
     "name": "stdout",
     "output_type": "stream",
     "text": [
      "epoch: 5, [batch: 13 / 42], examples_per_second: 4060.4074, train_label_loss: 0.3577, \n"
     ]
    },
    {
     "name": "stdout",
     "output_type": "stream",
     "text": [
      "epoch: 5, [batch: 17 / 42], examples_per_second: 4055.7653, train_label_loss: 0.1846, \n"
     ]
    },
    {
     "name": "stdout",
     "output_type": "stream",
     "text": [
      "epoch: 5, [batch: 21 / 42], examples_per_second: 4038.4389, train_label_loss: 0.1658, \n"
     ]
    },
    {
     "name": "stdout",
     "output_type": "stream",
     "text": [
      "epoch: 5, [batch: 25 / 42], examples_per_second: 4062.2572, train_label_loss: 0.2259, \n"
     ]
    },
    {
     "name": "stdout",
     "output_type": "stream",
     "text": [
      "epoch: 5, [batch: 29 / 42], examples_per_second: 4056.1801, train_label_loss: 0.3251, \n"
     ]
    },
    {
     "name": "stdout",
     "output_type": "stream",
     "text": [
      "epoch: 5, [batch: 33 / 42], examples_per_second: 4106.1621, train_label_loss: 0.1693, \n"
     ]
    },
    {
     "name": "stdout",
     "output_type": "stream",
     "text": [
      "epoch: 5, [batch: 37 / 42], examples_per_second: 4144.3046, train_label_loss: 0.2764, \n"
     ]
    },
    {
     "name": "stdout",
     "output_type": "stream",
     "text": [
      "=============================================================\n",
      "epoch: 5, source_val_acc_label: 0.9397, target_val_acc_label: 0.8688, source_val_label_loss: 0.4002, target_val_label_loss: 0.7668, \n",
      "=============================================================\n"
     ]
    },
    {
     "name": "stdout",
     "output_type": "stream",
     "text": [
      "New best\n"
     ]
    },
    {
     "name": "stdout",
     "output_type": "stream",
     "text": [
      "epoch: 6, [batch: 1 / 42], examples_per_second: 509.0947, train_label_loss: 0.2760, \n"
     ]
    },
    {
     "name": "stdout",
     "output_type": "stream",
     "text": [
      "epoch: 6, [batch: 5 / 42], examples_per_second: 4032.5223, train_label_loss: 0.3084, \n"
     ]
    },
    {
     "name": "stdout",
     "output_type": "stream",
     "text": [
      "epoch: 6, [batch: 9 / 42], examples_per_second: 4056.5226, train_label_loss: 0.2831, \n"
     ]
    },
    {
     "name": "stdout",
     "output_type": "stream",
     "text": [
      "epoch: 6, [batch: 13 / 42], examples_per_second: 4049.8956, train_label_loss: 0.3063, \n"
     ]
    },
    {
     "name": "stdout",
     "output_type": "stream",
     "text": [
      "epoch: 6, [batch: 17 / 42], examples_per_second: 4053.1499, train_label_loss: 0.2760, \n"
     ]
    },
    {
     "name": "stdout",
     "output_type": "stream",
     "text": [
      "epoch: 6, [batch: 21 / 42], examples_per_second: 3894.6316, train_label_loss: 0.0934, \n"
     ]
    },
    {
     "name": "stdout",
     "output_type": "stream",
     "text": [
      "epoch: 6, [batch: 25 / 42], examples_per_second: 4058.3991, train_label_loss: 0.1632, \n"
     ]
    },
    {
     "name": "stdout",
     "output_type": "stream",
     "text": [
      "epoch: 6, [batch: 29 / 42], examples_per_second: 4058.7027, train_label_loss: 0.1770, \n"
     ]
    },
    {
     "name": "stdout",
     "output_type": "stream",
     "text": [
      "epoch: 6, [batch: 33 / 42], examples_per_second: 4106.9353, train_label_loss: 0.3224, \n"
     ]
    },
    {
     "name": "stdout",
     "output_type": "stream",
     "text": [
      "epoch: 6, [batch: 37 / 42], examples_per_second: 4144.2227, train_label_loss: 0.2334, \n"
     ]
    },
    {
     "name": "stdout",
     "output_type": "stream",
     "text": [
      "=============================================================\n",
      "epoch: 6, source_val_acc_label: 0.9385, target_val_acc_label: 0.8701, source_val_label_loss: 0.3720, target_val_label_loss: 0.7136, \n",
      "=============================================================\n"
     ]
    },
    {
     "name": "stdout",
     "output_type": "stream",
     "text": [
      "New best\n"
     ]
    },
    {
     "name": "stdout",
     "output_type": "stream",
     "text": [
      "epoch: 7, [batch: 1 / 42], examples_per_second: 511.1046, train_label_loss: 0.2042, \n"
     ]
    },
    {
     "name": "stdout",
     "output_type": "stream",
     "text": [
      "epoch: 7, [batch: 5 / 42], examples_per_second: 4033.7245, train_label_loss: 0.2937, \n"
     ]
    },
    {
     "name": "stdout",
     "output_type": "stream",
     "text": [
      "epoch: 7, [batch: 9 / 42], examples_per_second: 4043.7310, train_label_loss: 0.1217, \n"
     ]
    },
    {
     "name": "stdout",
     "output_type": "stream",
     "text": [
      "epoch: 7, [batch: 13 / 42], examples_per_second: 4059.5247, train_label_loss: 0.2351, \n"
     ]
    },
    {
     "name": "stdout",
     "output_type": "stream",
     "text": [
      "epoch: 7, [batch: 17 / 42], examples_per_second: 4067.4815, train_label_loss: 0.2970, \n"
     ]
    },
    {
     "name": "stdout",
     "output_type": "stream",
     "text": [
      "epoch: 7, [batch: 21 / 42], examples_per_second: 4044.8604, train_label_loss: 0.2191, \n"
     ]
    },
    {
     "name": "stdout",
     "output_type": "stream",
     "text": [
      "epoch: 7, [batch: 25 / 42], examples_per_second: 4057.2546, train_label_loss: 0.3698, \n"
     ]
    },
    {
     "name": "stdout",
     "output_type": "stream",
     "text": [
      "epoch: 7, [batch: 29 / 42], examples_per_second: 4052.2026, train_label_loss: 0.1550, \n"
     ]
    },
    {
     "name": "stdout",
     "output_type": "stream",
     "text": [
      "epoch: 7, [batch: 33 / 42], examples_per_second: 4107.6438, train_label_loss: 0.1926, \n"
     ]
    },
    {
     "name": "stdout",
     "output_type": "stream",
     "text": [
      "epoch: 7, [batch: 37 / 42], examples_per_second: 4147.5752, train_label_loss: 0.2200, \n"
     ]
    },
    {
     "name": "stdout",
     "output_type": "stream",
     "text": [
      "=============================================================\n",
      "epoch: 7, source_val_acc_label: 0.9391, target_val_acc_label: 0.8665, source_val_label_loss: 0.3455, target_val_label_loss: 0.7118, \n",
      "=============================================================\n"
     ]
    },
    {
     "name": "stdout",
     "output_type": "stream",
     "text": [
      "New best\n"
     ]
    },
    {
     "name": "stdout",
     "output_type": "stream",
     "text": [
      "epoch: 8, [batch: 1 / 42], examples_per_second: 511.1437, train_label_loss: 0.1593, \n"
     ]
    },
    {
     "name": "stdout",
     "output_type": "stream",
     "text": [
      "epoch: 8, [batch: 5 / 42], examples_per_second: 4034.8588, train_label_loss: 0.1348, \n"
     ]
    },
    {
     "name": "stdout",
     "output_type": "stream",
     "text": [
      "epoch: 8, [batch: 9 / 42], examples_per_second: 4062.8898, train_label_loss: 0.2522, \n"
     ]
    },
    {
     "name": "stdout",
     "output_type": "stream",
     "text": [
      "epoch: 8, [batch: 13 / 42], examples_per_second: 4049.1272, train_label_loss: 0.2641, \n"
     ]
    },
    {
     "name": "stdout",
     "output_type": "stream",
     "text": [
      "epoch: 8, [batch: 17 / 42], examples_per_second: 4044.6489, train_label_loss: 0.2823, \n"
     ]
    },
    {
     "name": "stdout",
     "output_type": "stream",
     "text": [
      "epoch: 8, [batch: 21 / 42], examples_per_second: 4040.9410, train_label_loss: 0.2390, \n"
     ]
    },
    {
     "name": "stdout",
     "output_type": "stream",
     "text": [
      "epoch: 8, [batch: 25 / 42], examples_per_second: 4046.2381, train_label_loss: 0.1938, \n"
     ]
    },
    {
     "name": "stdout",
     "output_type": "stream",
     "text": [
      "epoch: 8, [batch: 29 / 42], examples_per_second: 4054.9343, train_label_loss: 0.0676, \n"
     ]
    },
    {
     "name": "stdout",
     "output_type": "stream",
     "text": [
      "epoch: 8, [batch: 33 / 42], examples_per_second: 4100.8812, train_label_loss: 0.1371, \n"
     ]
    },
    {
     "name": "stdout",
     "output_type": "stream",
     "text": [
      "epoch: 8, [batch: 37 / 42], examples_per_second: 4129.5323, train_label_loss: 0.1048, \n"
     ]
    },
    {
     "name": "stdout",
     "output_type": "stream",
     "text": [
      "=============================================================\n",
      "epoch: 8, source_val_acc_label: 0.9526, target_val_acc_label: 0.8703, source_val_label_loss: 0.3302, target_val_label_loss: 0.7487, \n",
      "=============================================================\n"
     ]
    },
    {
     "name": "stdout",
     "output_type": "stream",
     "text": [
      "epoch: 9, [batch: 1 / 42], examples_per_second: 532.0934, train_label_loss: 0.2231, \n"
     ]
    },
    {
     "name": "stdout",
     "output_type": "stream",
     "text": [
      "epoch: 9, [batch: 5 / 42], examples_per_second: 4037.4641, train_label_loss: 0.1944, \n"
     ]
    },
    {
     "name": "stdout",
     "output_type": "stream",
     "text": [
      "epoch: 9, [batch: 9 / 42], examples_per_second: 4030.2198, train_label_loss: 0.1435, \n"
     ]
    },
    {
     "name": "stdout",
     "output_type": "stream",
     "text": [
      "epoch: 9, [batch: 13 / 42], examples_per_second: 4047.7460, train_label_loss: 0.0806, \n"
     ]
    },
    {
     "name": "stdout",
     "output_type": "stream",
     "text": [
      "epoch: 9, [batch: 17 / 42], examples_per_second: 4062.8278, train_label_loss: 0.2905, \n"
     ]
    },
    {
     "name": "stdout",
     "output_type": "stream",
     "text": [
      "epoch: 9, [batch: 21 / 42], examples_per_second: 4024.5188, train_label_loss: 0.0511, \n"
     ]
    },
    {
     "name": "stdout",
     "output_type": "stream",
     "text": [
      "epoch: 9, [batch: 25 / 42], examples_per_second: 4052.9978, train_label_loss: 0.2231, \n"
     ]
    },
    {
     "name": "stdout",
     "output_type": "stream",
     "text": [
      "epoch: 9, [batch: 29 / 42], examples_per_second: 4054.9645, train_label_loss: 0.1909, \n"
     ]
    },
    {
     "name": "stdout",
     "output_type": "stream",
     "text": [
      "epoch: 9, [batch: 33 / 42], examples_per_second: 4091.7828, train_label_loss: 0.1215, \n"
     ]
    },
    {
     "name": "stdout",
     "output_type": "stream",
     "text": [
      "epoch: 9, [batch: 37 / 42], examples_per_second: 4126.5118, train_label_loss: 0.2373, \n"
     ]
    },
    {
     "name": "stdout",
     "output_type": "stream",
     "text": [
      "=============================================================\n",
      "epoch: 9, source_val_acc_label: 0.9301, target_val_acc_label: 0.8603, source_val_label_loss: 0.3923, target_val_label_loss: 0.7587, \n",
      "=============================================================\n"
     ]
    },
    {
     "name": "stdout",
     "output_type": "stream",
     "text": [
      "epoch: 10, [batch: 1 / 42], examples_per_second: 529.5942, train_label_loss: 0.2653, \n"
     ]
    },
    {
     "name": "stdout",
     "output_type": "stream",
     "text": [
      "epoch: 10, [batch: 5 / 42], examples_per_second: 4030.1066, train_label_loss: 0.1658, \n"
     ]
    },
    {
     "name": "stdout",
     "output_type": "stream",
     "text": [
      "epoch: 10, [batch: 9 / 42], examples_per_second: 4050.0385, train_label_loss: 0.1765, \n"
     ]
    },
    {
     "name": "stdout",
     "output_type": "stream",
     "text": [
      "epoch: 10, [batch: 13 / 42], examples_per_second: 4058.4898, train_label_loss: 0.0886, \n"
     ]
    },
    {
     "name": "stdout",
     "output_type": "stream",
     "text": [
      "epoch: 10, [batch: 17 / 42], examples_per_second: 4053.1981, train_label_loss: 0.1701, \n"
     ]
    },
    {
     "name": "stdout",
     "output_type": "stream",
     "text": [
      "epoch: 10, [batch: 21 / 42], examples_per_second: 4029.1477, train_label_loss: 0.1981, \n"
     ]
    },
    {
     "name": "stdout",
     "output_type": "stream",
     "text": [
      "epoch: 10, [batch: 25 / 42], examples_per_second: 4058.7330, train_label_loss: 0.1484, \n"
     ]
    },
    {
     "name": "stdout",
     "output_type": "stream",
     "text": [
      "epoch: 10, [batch: 29 / 42], examples_per_second: 4043.0429, train_label_loss: 0.1196, \n"
     ]
    },
    {
     "name": "stdout",
     "output_type": "stream",
     "text": [
      "epoch: 10, [batch: 33 / 42], examples_per_second: 4096.3893, train_label_loss: 0.1354, \n"
     ]
    },
    {
     "name": "stdout",
     "output_type": "stream",
     "text": [
      "epoch: 10, [batch: 37 / 42], examples_per_second: 4149.1248, train_label_loss: 0.1833, \n"
     ]
    },
    {
     "name": "stdout",
     "output_type": "stream",
     "text": [
      "=============================================================\n",
      "epoch: 10, source_val_acc_label: 0.9481, target_val_acc_label: 0.8776, source_val_label_loss: 0.3143, target_val_label_loss: 0.7072, \n",
      "=============================================================\n"
     ]
    },
    {
     "name": "stdout",
     "output_type": "stream",
     "text": [
      "New best\n"
     ]
    },
    {
     "name": "stdout",
     "output_type": "stream",
     "text": [
      "epoch: 11, [batch: 1 / 42], examples_per_second: 514.3299, train_label_loss: 0.0631, \n"
     ]
    },
    {
     "name": "stdout",
     "output_type": "stream",
     "text": [
      "epoch: 11, [batch: 5 / 42], examples_per_second: 4020.9708, train_label_loss: 0.2485, \n"
     ]
    },
    {
     "name": "stdout",
     "output_type": "stream",
     "text": [
      "epoch: 11, [batch: 9 / 42], examples_per_second: 4067.0931, train_label_loss: 0.1491, \n"
     ]
    },
    {
     "name": "stdout",
     "output_type": "stream",
     "text": [
      "epoch: 11, [batch: 13 / 42], examples_per_second: 4061.6323, train_label_loss: 0.2036, \n"
     ]
    },
    {
     "name": "stdout",
     "output_type": "stream",
     "text": [
      "epoch: 11, [batch: 17 / 42], examples_per_second: 4052.9918, train_label_loss: 0.2336, \n"
     ]
    },
    {
     "name": "stdout",
     "output_type": "stream",
     "text": [
      "epoch: 11, [batch: 21 / 42], examples_per_second: 4005.8356, train_label_loss: 0.1752, \n"
     ]
    },
    {
     "name": "stdout",
     "output_type": "stream",
     "text": [
      "epoch: 11, [batch: 25 / 42], examples_per_second: 4044.6669, train_label_loss: 0.1261, \n"
     ]
    },
    {
     "name": "stdout",
     "output_type": "stream",
     "text": [
      "epoch: 11, [batch: 29 / 42], examples_per_second: 4058.4188, train_label_loss: 0.1390, \n"
     ]
    },
    {
     "name": "stdout",
     "output_type": "stream",
     "text": [
      "epoch: 11, [batch: 33 / 42], examples_per_second: 4082.4496, train_label_loss: 0.2258, \n"
     ]
    },
    {
     "name": "stdout",
     "output_type": "stream",
     "text": [
      "epoch: 11, [batch: 37 / 42], examples_per_second: 4148.5092, train_label_loss: 0.1870, \n"
     ]
    },
    {
     "name": "stdout",
     "output_type": "stream",
     "text": [
      "=============================================================\n",
      "epoch: 11, source_val_acc_label: 0.9397, target_val_acc_label: 0.8729, source_val_label_loss: 0.3465, target_val_label_loss: 0.6642, \n",
      "=============================================================\n"
     ]
    },
    {
     "name": "stdout",
     "output_type": "stream",
     "text": [
      "New best\n"
     ]
    },
    {
     "name": "stdout",
     "output_type": "stream",
     "text": [
      "epoch: 12, [batch: 1 / 42], examples_per_second: 513.8680, train_label_loss: 0.1818, \n"
     ]
    },
    {
     "name": "stdout",
     "output_type": "stream",
     "text": [
      "epoch: 12, [batch: 5 / 42], examples_per_second: 4032.7669, train_label_loss: 0.1071, \n"
     ]
    },
    {
     "name": "stdout",
     "output_type": "stream",
     "text": [
      "epoch: 12, [batch: 9 / 42], examples_per_second: 4064.7222, train_label_loss: 0.0858, \n"
     ]
    },
    {
     "name": "stdout",
     "output_type": "stream",
     "text": [
      "epoch: 12, [batch: 13 / 42], examples_per_second: 4055.2435, train_label_loss: 0.0589, \n"
     ]
    },
    {
     "name": "stdout",
     "output_type": "stream",
     "text": [
      "epoch: 12, [batch: 17 / 42], examples_per_second: 4039.0387, train_label_loss: 0.1215, \n"
     ]
    },
    {
     "name": "stdout",
     "output_type": "stream",
     "text": [
      "epoch: 12, [batch: 21 / 42], examples_per_second: 4048.6762, train_label_loss: 0.1303, \n"
     ]
    },
    {
     "name": "stdout",
     "output_type": "stream",
     "text": [
      "epoch: 12, [batch: 25 / 42], examples_per_second: 4063.2168, train_label_loss: 0.1186, \n"
     ]
    },
    {
     "name": "stdout",
     "output_type": "stream",
     "text": [
      "epoch: 12, [batch: 29 / 42], examples_per_second: 4048.8160, train_label_loss: 0.0993, \n"
     ]
    },
    {
     "name": "stdout",
     "output_type": "stream",
     "text": [
      "epoch: 12, [batch: 33 / 42], examples_per_second: 4106.7311, train_label_loss: 0.0958, \n"
     ]
    },
    {
     "name": "stdout",
     "output_type": "stream",
     "text": [
      "epoch: 12, [batch: 37 / 42], examples_per_second: 4143.4983, train_label_loss: 0.2437, \n"
     ]
    },
    {
     "name": "stdout",
     "output_type": "stream",
     "text": [
      "=============================================================\n",
      "epoch: 12, source_val_acc_label: 0.9429, target_val_acc_label: 0.8675, source_val_label_loss: 0.3512, target_val_label_loss: 0.7478, \n",
      "=============================================================\n"
     ]
    },
    {
     "name": "stdout",
     "output_type": "stream",
     "text": [
      "epoch: 13, [batch: 1 / 42], examples_per_second: 529.3298, train_label_loss: 0.2343, \n"
     ]
    },
    {
     "name": "stdout",
     "output_type": "stream",
     "text": [
      "epoch: 13, [batch: 5 / 42], examples_per_second: 4031.8231, train_label_loss: 0.0977, \n"
     ]
    },
    {
     "name": "stdout",
     "output_type": "stream",
     "text": [
      "epoch: 13, [batch: 9 / 42], examples_per_second: 4061.8366, train_label_loss: 0.3064, \n"
     ]
    },
    {
     "name": "stdout",
     "output_type": "stream",
     "text": [
      "epoch: 13, [batch: 13 / 42], examples_per_second: 4061.3117, train_label_loss: 0.0966, \n"
     ]
    },
    {
     "name": "stdout",
     "output_type": "stream",
     "text": [
      "epoch: 13, [batch: 17 / 42], examples_per_second: 4061.7579, train_label_loss: 0.1839, \n"
     ]
    },
    {
     "name": "stdout",
     "output_type": "stream",
     "text": [
      "epoch: 13, [batch: 21 / 42], examples_per_second: 4041.3543, train_label_loss: 0.1727, \n"
     ]
    },
    {
     "name": "stdout",
     "output_type": "stream",
     "text": [
      "epoch: 13, [batch: 25 / 42], examples_per_second: 4058.6302, train_label_loss: 0.0476, \n"
     ]
    },
    {
     "name": "stdout",
     "output_type": "stream",
     "text": [
      "epoch: 13, [batch: 29 / 42], examples_per_second: 4065.9998, train_label_loss: 0.1697, \n"
     ]
    },
    {
     "name": "stdout",
     "output_type": "stream",
     "text": [
      "epoch: 13, [batch: 33 / 42], examples_per_second: 4095.2986, train_label_loss: 0.1024, \n"
     ]
    },
    {
     "name": "stdout",
     "output_type": "stream",
     "text": [
      "epoch: 13, [batch: 37 / 42], examples_per_second: 4146.4382, train_label_loss: 0.1336, \n"
     ]
    },
    {
     "name": "stdout",
     "output_type": "stream",
     "text": [
      "=============================================================\n",
      "epoch: 13, source_val_acc_label: 0.9410, target_val_acc_label: 0.8712, source_val_label_loss: 0.3420, target_val_label_loss: 0.7389, \n",
      "=============================================================\n"
     ]
    },
    {
     "name": "stdout",
     "output_type": "stream",
     "text": [
      "epoch: 14, [batch: 1 / 42], examples_per_second: 525.6724, train_label_loss: 0.0991, \n"
     ]
    },
    {
     "name": "stdout",
     "output_type": "stream",
     "text": [
      "epoch: 14, [batch: 5 / 42], examples_per_second: 4043.4896, train_label_loss: 0.1421, \n"
     ]
    },
    {
     "name": "stdout",
     "output_type": "stream",
     "text": [
      "epoch: 14, [batch: 9 / 42], examples_per_second: 4056.0489, train_label_loss: 0.1646, \n"
     ]
    },
    {
     "name": "stdout",
     "output_type": "stream",
     "text": [
      "epoch: 14, [batch: 13 / 42], examples_per_second: 4060.4437, train_label_loss: 0.0704, \n"
     ]
    },
    {
     "name": "stdout",
     "output_type": "stream",
     "text": [
      "epoch: 14, [batch: 17 / 42], examples_per_second: 4069.4365, train_label_loss: 0.0466, \n"
     ]
    },
    {
     "name": "stdout",
     "output_type": "stream",
     "text": [
      "epoch: 14, [batch: 21 / 42], examples_per_second: 4036.4284, train_label_loss: 0.1546, \n"
     ]
    },
    {
     "name": "stdout",
     "output_type": "stream",
     "text": [
      "epoch: 14, [batch: 25 / 42], examples_per_second: 4057.1354, train_label_loss: 0.1425, \n"
     ]
    },
    {
     "name": "stdout",
     "output_type": "stream",
     "text": [
      "epoch: 14, [batch: 29 / 42], examples_per_second: 4063.4015, train_label_loss: 0.1693, \n"
     ]
    },
    {
     "name": "stdout",
     "output_type": "stream",
     "text": [
      "epoch: 14, [batch: 33 / 42], examples_per_second: 4097.4143, train_label_loss: 0.0244, \n"
     ]
    },
    {
     "name": "stdout",
     "output_type": "stream",
     "text": [
      "epoch: 14, [batch: 37 / 42], examples_per_second: 4145.0607, train_label_loss: 0.0891, \n"
     ]
    },
    {
     "name": "stdout",
     "output_type": "stream",
     "text": [
      "=============================================================\n",
      "epoch: 14, source_val_acc_label: 0.9449, target_val_acc_label: 0.8759, source_val_label_loss: 0.3304, target_val_label_loss: 0.6832, \n",
      "=============================================================\n"
     ]
    },
    {
     "name": "stdout",
     "output_type": "stream",
     "text": [
      "epoch: 15, [batch: 1 / 42], examples_per_second: 527.5746, train_label_loss: 0.1129, \n"
     ]
    },
    {
     "name": "stdout",
     "output_type": "stream",
     "text": [
      "epoch: 15, [batch: 5 / 42], examples_per_second: 4045.7398, train_label_loss: 0.1528, \n"
     ]
    },
    {
     "name": "stdout",
     "output_type": "stream",
     "text": [
      "epoch: 15, [batch: 9 / 42], examples_per_second: 4057.9249, train_label_loss: 0.0872, \n"
     ]
    },
    {
     "name": "stdout",
     "output_type": "stream",
     "text": [
      "epoch: 15, [batch: 13 / 42], examples_per_second: 4058.8493, train_label_loss: 0.0593, \n"
     ]
    },
    {
     "name": "stdout",
     "output_type": "stream",
     "text": [
      "epoch: 15, [batch: 17 / 42], examples_per_second: 4064.6283, train_label_loss: 0.0886, \n"
     ]
    },
    {
     "name": "stdout",
     "output_type": "stream",
     "text": [
      "epoch: 15, [batch: 21 / 42], examples_per_second: 4029.4976, train_label_loss: 0.1241, \n"
     ]
    },
    {
     "name": "stdout",
     "output_type": "stream",
     "text": [
      "epoch: 15, [batch: 25 / 42], examples_per_second: 4048.7018, train_label_loss: 0.0494, \n"
     ]
    },
    {
     "name": "stdout",
     "output_type": "stream",
     "text": [
      "epoch: 15, [batch: 29 / 42], examples_per_second: 4054.1505, train_label_loss: 0.1631, \n"
     ]
    },
    {
     "name": "stdout",
     "output_type": "stream",
     "text": [
      "epoch: 15, [batch: 33 / 42], examples_per_second: 4094.5267, train_label_loss: 0.0839, \n"
     ]
    },
    {
     "name": "stdout",
     "output_type": "stream",
     "text": [
      "epoch: 15, [batch: 37 / 42], examples_per_second: 4142.5036, train_label_loss: 0.0662, \n"
     ]
    },
    {
     "name": "stdout",
     "output_type": "stream",
     "text": [
      "=============================================================\n",
      "epoch: 15, source_val_acc_label: 0.9404, target_val_acc_label: 0.8690, source_val_label_loss: 0.3374, target_val_label_loss: 0.7103, \n",
      "=============================================================\n"
     ]
    },
    {
     "name": "stdout",
     "output_type": "stream",
     "text": [
      "Patience (3) exhausted\n"
     ]
    }
   ],
   "source": [
    "###################################\n",
    "# train\n",
    "###################################\n",
    "jig = PTN_Train_Eval_Test_Jig(model, p.BEST_MODEL_PATH, p.device)\n",
    "\n",
    "jig.train(\n",
    "    train_iterable=datasets.source.processed.train,\n",
    "    source_val_iterable=datasets.source.processed.val,\n",
    "    target_val_iterable=datasets.target.processed.val,\n",
    "    num_epochs=p.n_epoch,\n",
    "    num_logs_per_epoch=p.NUM_LOGS_PER_EPOCH,\n",
    "    patience=p.patience,\n",
    "    optimizer=optimizer,\n",
    "    criteria_for_best=p.criteria_for_best,\n",
    ")"
   ]
  },
  {
   "cell_type": "code",
   "execution_count": 14,
   "id": "31e8fabf",
   "metadata": {
    "execution": {
     "iopub.execute_input": "2022-03-06T00:59:19.385979Z",
     "iopub.status.busy": "2022-03-06T00:59:19.385718Z",
     "iopub.status.idle": "2022-03-06T00:59:19.402226Z",
     "shell.execute_reply": "2022-03-06T00:59:19.401848Z"
    },
    "papermill": {
     "duration": 0.06035,
     "end_time": "2022-03-06T00:59:19.402324",
     "exception": false,
     "start_time": "2022-03-06T00:59:19.341974",
     "status": "completed"
    },
    "tags": []
   },
   "outputs": [],
   "source": [
    "total_experiment_time_secs = time.time() - start_time_secs"
   ]
  },
  {
   "cell_type": "code",
   "execution_count": 15,
   "id": "87b9595b",
   "metadata": {
    "execution": {
     "iopub.execute_input": "2022-03-06T00:59:19.494558Z",
     "iopub.status.busy": "2022-03-06T00:59:19.494261Z",
     "iopub.status.idle": "2022-03-06T00:59:26.311314Z",
     "shell.execute_reply": "2022-03-06T00:59:26.311711Z"
    },
    "papermill": {
     "duration": 6.86395,
     "end_time": "2022-03-06T00:59:26.311840",
     "exception": false,
     "start_time": "2022-03-06T00:59:19.447890",
     "status": "completed"
    },
    "tags": []
   },
   "outputs": [],
   "source": [
    "###################################\n",
    "# Evaluate the model\n",
    "###################################\n",
    "source_test_label_accuracy, source_test_label_loss = jig.test(datasets.source.processed.test)\n",
    "target_test_label_accuracy, target_test_label_loss = jig.test(datasets.target.processed.test)\n",
    "\n",
    "source_val_label_accuracy, source_val_label_loss = jig.test(datasets.source.processed.val)\n",
    "target_val_label_accuracy, target_val_label_loss = jig.test(datasets.target.processed.val)\n",
    "\n",
    "history = jig.get_history()\n",
    "\n",
    "total_epochs_trained = len(history[\"epoch_indices\"])\n",
    "\n",
    "val_dl = Iterable_Aggregator((datasets.source.original.val,datasets.target.original.val))\n",
    "\n",
    "confusion = ptn_confusion_by_domain_over_dataloader(model, p.device, val_dl)\n",
    "per_domain_accuracy = per_domain_accuracy_from_confusion(confusion)\n",
    "\n",
    "# Add a key to per_domain_accuracy for if it was a source domain\n",
    "for domain, accuracy in per_domain_accuracy.items():\n",
    "    per_domain_accuracy[domain] = {\n",
    "        \"accuracy\": accuracy,\n",
    "        \"source?\": domain in p.domains_source\n",
    "    }\n",
    "\n",
    "# Do an independent accuracy assesment JUST TO BE SURE!\n",
    "# _source_test_label_accuracy = independent_accuracy_assesment(model, datasets.source.processed.test, p.device)\n",
    "# _target_test_label_accuracy = independent_accuracy_assesment(model, datasets.target.processed.test, p.device)\n",
    "# _source_val_label_accuracy = independent_accuracy_assesment(model, datasets.source.processed.val, p.device)\n",
    "# _target_val_label_accuracy = independent_accuracy_assesment(model, datasets.target.processed.val, p.device)\n",
    "\n",
    "# assert(_source_test_label_accuracy == source_test_label_accuracy)\n",
    "# assert(_target_test_label_accuracy == target_test_label_accuracy)\n",
    "# assert(_source_val_label_accuracy == source_val_label_accuracy)\n",
    "# assert(_target_val_label_accuracy == target_val_label_accuracy)\n",
    "\n",
    "experiment = {\n",
    "    \"experiment_name\": p.experiment_name,\n",
    "    \"parameters\": dict(p),\n",
    "    \"results\": {\n",
    "        \"source_test_label_accuracy\": source_test_label_accuracy,\n",
    "        \"source_test_label_loss\": source_test_label_loss,\n",
    "        \"target_test_label_accuracy\": target_test_label_accuracy,\n",
    "        \"target_test_label_loss\": target_test_label_loss,\n",
    "        \"source_val_label_accuracy\": source_val_label_accuracy,\n",
    "        \"source_val_label_loss\": source_val_label_loss,\n",
    "        \"target_val_label_accuracy\": target_val_label_accuracy,\n",
    "        \"target_val_label_loss\": target_val_label_loss,\n",
    "        \"total_epochs_trained\": total_epochs_trained,\n",
    "        \"total_experiment_time_secs\": total_experiment_time_secs,\n",
    "        \"confusion\": confusion,\n",
    "        \"per_domain_accuracy\": per_domain_accuracy,\n",
    "    },\n",
    "    \"history\": history,\n",
    "    \"dataset_metrics\": get_dataset_metrics(datasets, \"ptn\"),\n",
    "}"
   ]
  },
  {
   "cell_type": "code",
   "execution_count": 16,
   "id": "54a21829",
   "metadata": {
    "execution": {
     "iopub.execute_input": "2022-03-06T00:59:26.401316Z",
     "iopub.status.busy": "2022-03-06T00:59:26.401055Z",
     "iopub.status.idle": "2022-03-06T00:59:26.588780Z",
     "shell.execute_reply": "2022-03-06T00:59:26.589173Z"
    },
    "papermill": {
     "duration": 0.231373,
     "end_time": "2022-03-06T00:59:26.589298",
     "exception": false,
     "start_time": "2022-03-06T00:59:26.357925",
     "status": "completed"
    },
    "tags": []
   },
   "outputs": [
    {
     "data": {
      "image/png": "[encoded data removed]",
      "text/plain": [
       "<Figure size 1080x504 with 1 Axes>"
      ]
     },
     "metadata": {
      "needs_background": "light"
     },
     "output_type": "display_data"
    }
   ],
   "source": [
    "ax = get_loss_curve(experiment)\n",
    "plt.show()"
   ]
  },
  {
   "cell_type": "code",
   "execution_count": 17,
   "id": "fd8a0f60",
   "metadata": {
    "execution": {
     "iopub.execute_input": "2022-03-06T00:59:26.680368Z",
     "iopub.status.busy": "2022-03-06T00:59:26.680103Z",
     "iopub.status.idle": "2022-03-06T00:59:26.858018Z",
     "shell.execute_reply": "2022-03-06T00:59:26.858438Z"
    },
    "papermill": {
     "duration": 0.222405,
     "end_time": "2022-03-06T00:59:26.858571",
     "exception": false,
     "start_time": "2022-03-06T00:59:26.636166",
     "status": "completed"
    },
    "tags": []
   },
   "outputs": [
    {
     "data": {
      "text/plain": [
       "<matplotlib.axes._subplots.AxesSubplot at 0x7f89bc816f10>"
      ]
     },
     "execution_count": 17,
     "metadata": {},
     "output_type": "execute_result"
    },
    {
     "data": {
      "image/png": "[encoded data removed]",
      "text/plain": [
       "<Figure size 1080x504 with 1 Axes>"
      ]
     },
     "metadata": {
      "needs_background": "light"
     },
     "output_type": "display_data"
    }
   ],
   "source": [
    "get_results_table(experiment)"
   ]
  },
  {
   "cell_type": "code",
   "execution_count": 18,
   "id": "cf8dc689",
   "metadata": {
    "execution": {
     "iopub.execute_input": "2022-03-06T00:59:26.954763Z",
     "iopub.status.busy": "2022-03-06T00:59:26.954500Z",
     "iopub.status.idle": "2022-03-06T00:59:27.115196Z",
     "shell.execute_reply": "2022-03-06T00:59:27.114812Z"
    },
    "papermill": {
     "duration": 0.206036,
     "end_time": "2022-03-06T00:59:27.115295",
     "exception": false,
     "start_time": "2022-03-06T00:59:26.909259",
     "status": "completed"
    },
    "tags": []
   },
   "outputs": [
    {
     "data": {
      "text/plain": [
       "<matplotlib.axes._subplots.AxesSubplot at 0x7f89bc7bb5b0>"
      ]
     },
     "execution_count": 18,
     "metadata": {},
     "output_type": "execute_result"
    },
    {
     "data": {
      "image/png": "[encoded data removed]",
      "text/plain": [
       "<Figure size 1080x504 with 1 Axes>"
      ]
     },
     "metadata": {
      "needs_background": "light"
     },
     "output_type": "display_data"
    }
   ],
   "source": [
    "get_domain_accuracies(experiment)"
   ]
  },
  {
   "cell_type": "code",
   "execution_count": 19,
   "id": "a74ae082",
   "metadata": {
    "execution": {
     "iopub.execute_input": "2022-03-06T00:59:27.207940Z",
     "iopub.status.busy": "2022-03-06T00:59:27.207679Z",
     "iopub.status.idle": "2022-03-06T00:59:27.222103Z",
     "shell.execute_reply": "2022-03-06T00:59:27.221602Z"
    },
    "papermill": {
     "duration": 0.060088,
     "end_time": "2022-03-06T00:59:27.222216",
     "exception": false,
     "start_time": "2022-03-06T00:59:27.162128",
     "status": "completed"
    },
    "tags": []
   },
   "outputs": [
    {
     "name": "stdout",
     "output_type": "stream",
     "text": [
      "Source Test Label Accuracy: 0.9442307692307692 Target Test Label Accuracy: 0.867948717948718\n",
      "Source Val Label Accuracy: 0.9397435897435897 Target Val Label Accuracy: 0.8728632478632479\n"
     ]
    }
   ],
   "source": [
    "print(\"Source Test Label Accuracy:\", experiment[\"results\"][\"source_test_label_accuracy\"], \"Target Test Label Accuracy:\", experiment[\"results\"][\"target_test_label_accuracy\"])\n",
    "print(\"Source Val Label Accuracy:\", experiment[\"results\"][\"source_val_label_accuracy\"], \"Target Val Label Accuracy:\", experiment[\"results\"][\"target_val_label_accuracy\"])"
   ]
  },
  {
   "cell_type": "code",
   "execution_count": 20,
   "id": "dacca602",
   "metadata": {
    "execution": {
     "iopub.execute_input": "2022-03-06T00:59:27.318360Z",
     "iopub.status.busy": "2022-03-06T00:59:27.318086Z",
     "iopub.status.idle": "2022-03-06T00:59:27.332273Z",
     "shell.execute_reply": "2022-03-06T00:59:27.332670Z"
    },
    "papermill": {
     "duration": 0.061557,
     "end_time": "2022-03-06T00:59:27.332786",
     "exception": false,
     "start_time": "2022-03-06T00:59:27.271229",
     "status": "completed"
    },
    "tags": [
     "experiment_json"
    ]
   },
   "outputs": [
    {
     "data": {
      "text/plain": [
       "'{\"experiment_name\": \"tuned_1_wisig\", \"parameters\": {\"experiment_name\": \"tuned_1_wisig\", \"device\": \"cuda\", \"lr\": 0.001, \"seed\": 1337, \"dataset_seed\": 1337, \"labels_source\": [\"1-10\", \"1-12\", \"1-14\", \"1-16\", \"1-18\", \"1-19\", \"1-8\", \"10-11\", \"10-17\", \"10-4\", \"10-7\", \"11-1\", \"11-10\", \"11-19\", \"11-20\", \"11-4\", \"11-7\", \"12-19\", \"12-20\", \"12-7\", \"13-14\", \"13-18\", \"13-19\", \"13-20\", \"13-3\", \"13-7\", \"14-10\", \"14-11\", \"14-12\", \"14-13\", \"14-14\", \"14-19\", \"14-20\", \"14-7\", \"14-8\", \"14-9\", \"15-1\", \"15-19\", \"15-6\", \"16-1\", \"16-16\", \"16-19\", \"16-20\", \"17-10\", \"17-11\", \"18-1\", \"18-10\", \"18-11\", \"18-12\", \"18-13\", \"18-14\", \"18-15\", \"18-16\", \"18-17\", \"18-19\", \"18-2\", \"18-20\", \"18-4\", \"18-5\", \"18-7\", \"18-8\", \"18-9\", \"19-1\", \"19-10\", \"19-11\", \"19-12\", \"19-13\", \"19-14\", \"19-15\", \"19-19\", \"19-2\", \"19-20\", \"19-3\", \"19-4\", \"19-6\", \"19-7\", \"19-8\", \"19-9\", \"2-1\", \"2-13\", \"2-15\", \"2-3\", \"2-4\", \"2-5\", \"2-6\", \"2-7\", \"2-8\", \"20-1\", \"20-12\", \"20-14\", \"20-15\", \"20-16\", \"20-18\", \"20-19\", \"20-20\", \"20-3\", \"20-4\", \"20-5\", \"20-7\", \"20-8\", \"3-1\", \"3-13\", \"3-18\", \"3-2\", \"3-8\", \"4-1\", \"4-10\", \"4-11\", \"5-1\", \"5-5\", \"6-1\", \"6-15\", \"6-6\", \"7-10\", \"7-11\", \"7-12\", \"7-13\", \"7-14\", \"7-7\", \"7-8\", \"7-9\", \"8-1\", \"8-13\", \"8-14\", \"8-18\", \"8-20\", \"8-3\", \"8-8\", \"9-1\", \"9-7\"], \"labels_target\": [\"1-10\", \"1-12\", \"1-14\", \"1-16\", \"1-18\", \"1-19\", \"1-8\", \"10-11\", \"10-17\", \"10-4\", \"10-7\", \"11-1\", \"11-10\", \"11-19\", \"11-20\", \"11-4\", \"11-7\", \"12-19\", \"12-20\", \"12-7\", \"13-14\", \"13-18\", \"13-19\", \"13-20\", \"13-3\", \"13-7\", \"14-10\", \"14-11\", \"14-12\", \"14-13\", \"14-14\", \"14-19\", \"14-20\", \"14-7\", \"14-8\", \"14-9\", \"15-1\", \"15-19\", \"15-6\", \"16-1\", \"16-16\", \"16-19\", \"16-20\", \"17-10\", \"17-11\", \"18-1\", \"18-10\", \"18-11\", \"18-12\", \"18-13\", \"18-14\", \"18-15\", \"18-16\", \"18-17\", \"18-19\", \"18-2\", \"18-20\", \"18-4\", \"18-5\", \"18-7\", \"18-8\", \"18-9\", \"19-1\", \"19-10\", \"19-11\", \"19-12\", \"19-13\", \"19-14\", \"19-15\", \"19-19\", \"19-2\", \"19-20\", \"19-3\", \"19-4\", \"19-6\", \"19-7\", \"19-8\", \"19-9\", \"2-1\", \"2-13\", \"2-15\", \"2-3\", \"2-4\", \"2-5\", \"2-6\", \"2-7\", \"2-8\", \"20-1\", \"20-12\", \"20-14\", \"20-15\", \"20-16\", \"20-18\", \"20-19\", \"20-20\", \"20-3\", \"20-4\", \"20-5\", \"20-7\", \"20-8\", \"3-1\", \"3-13\", \"3-18\", \"3-2\", \"3-8\", \"4-1\", \"4-10\", \"4-11\", \"5-1\", \"5-5\", \"6-1\", \"6-15\", \"6-6\", \"7-10\", \"7-11\", \"7-12\", \"7-13\", \"7-14\", \"7-7\", \"7-8\", \"7-9\", \"8-1\", \"8-13\", \"8-14\", \"8-18\", \"8-20\", \"8-3\", \"8-8\", \"9-1\", \"9-7\"], \"x_transforms_source\": [], \"x_transforms_target\": [], \"episode_transforms_source\": [], \"episode_transforms_target\": [], \"domains_source\": [3], \"domains_target\": [1, 2, 4], \"num_examples_per_domain_per_label_source\": 100, \"num_examples_per_domain_per_label_target\": 100, \"n_shot\": 3, \"n_way\": 130, \"n_query\": 2, \"train_k_factor\": 3, \"val_k_factor\": 2, \"test_k_factor\": 2, \"torch_default_dtype\": \"torch.float32\", \"n_epoch\": 50, \"patience\": 3, \"criteria_for_best\": \"target_loss\", \"x_net\": [{\"class\": \"nnReshape\", \"kargs\": {\"shape\": [-1, 1, 2, 256]}}, {\"class\": \"Conv2d\", \"kargs\": {\"in_channels\": 1, \"out_channels\": 256, \"kernel_size\": [1, 7], \"bias\": false, \"padding\": [0, 3]}}, {\"class\": \"ReLU\", \"kargs\": {\"inplace\": true}}, {\"class\": \"BatchNorm2d\", \"kargs\": {\"num_features\": 256}}, {\"class\": \"Conv2d\", \"kargs\": {\"in_channels\": 256, \"out_channels\": 80, \"kernel_size\": [2, 7], \"bias\": true, \"padding\": [0, 3]}}, {\"class\": \"ReLU\", \"kargs\": {\"inplace\": true}}, {\"class\": \"BatchNorm2d\", \"kargs\": {\"num_features\": 80}}, {\"class\": \"Flatten\", \"kargs\": {}}, {\"class\": \"Linear\", \"kargs\": {\"in_features\": 20480, \"out_features\": 256}}, {\"class\": \"ReLU\", \"kargs\": {\"inplace\": true}}, {\"class\": \"BatchNorm1d\", \"kargs\": {\"num_features\": 256}}, {\"class\": \"Linear\", \"kargs\": {\"in_features\": 256, \"out_features\": 256}}], \"NUM_LOGS_PER_EPOCH\": 10, \"BEST_MODEL_PATH\": \"./best_model.pth\", \"pickle_name\": \"wisig.node3-19.stratified_ds.2022A.pkl\"}, \"results\": {\"source_test_label_accuracy\": 0.9442307692307692, \"source_test_label_loss\": 0.2892087399959564, \"target_test_label_accuracy\": 0.867948717948718, \"target_test_label_loss\": 0.6747967600822449, \"source_val_label_accuracy\": 0.9397435897435897, \"source_val_label_loss\": 0.34649866819381714, \"target_val_label_accuracy\": 0.8728632478632479, \"target_val_label_loss\": 0.6641861200332642, \"total_epochs_trained\": 15, \"total_experiment_time_secs\": 126.90820980072021, \"confusion\": {\"3\": {\"29\": {\"29\": 11, \"92\": 1}, \"123\": {\"123\": 12}, \"116\": {\"116\": 12}, \"25\": {\"25\": 12}, \"60\": {\"60\": 10, \"16\": 2}, \"88\": {\"88\": 11, \"70\": 1}, \"0\": {\"0\": 12}, \"77\": {\"77\": 11, \"111\": 1}, \"96\": {\"96\": 12}, \"3\": {\"3\": 11, \"78\": 1}, \"5\": {\"5\": 10, \"78\": 1, \"46\": 1}, \"89\": {\"89\": 12}, \"117\": {\"117\": 12}, \"78\": {\"78\": 7, \"21\": 5}, \"57\": {\"57\": 12}, \"90\": {\"90\": 12}, \"43\": {\"13\": 1, \"43\": 8, \"39\": 2, \"68\": 1}, \"50\": {\"50\": 12}, \"49\": {\"121\": 1, \"8\": 3, \"49\": 8}, \"61\": {\"61\": 12}, \"4\": {\"4\": 12}, \"67\": {\"67\": 12}, \"59\": {\"59\": 12}, \"118\": {\"118\": 12}, \"80\": {\"80\": 12}, \"75\": {\"75\": 12}, \"99\": {\"99\": 8, \"127\": 3, \"105\": 1}, \"111\": {\"111\": 11, \"126\": 1}, \"11\": {\"11\": 12}, \"76\": {\"76\": 11, \"92\": 1}, \"102\": {\"102\": 12}, \"44\": {\"44\": 12}, \"30\": {\"30\": 12}, \"6\": {\"6\": 11, \"121\": 1}, \"16\": {\"16\": 12}, \"79\": {\"79\": 12}, \"39\": {\"39\": 12}, \"101\": {\"101\": 12}, \"9\": {\"9\": 12}, \"109\": {\"109\": 9, \"88\": 1, \"118\": 2}, \"91\": {\"91\": 11, \"77\": 1}, \"129\": {\"129\": 12}, \"33\": {\"33\": 12}, \"113\": {\"113\": 12}, \"7\": {\"7\": 12}, \"82\": {\"82\": 11, \"116\": 1}, \"52\": {\"52\": 12}, \"93\": {\"93\": 12}, \"24\": {\"24\": 11, \"108\": 1}, \"26\": {\"26\": 12}, \"28\": {\"28\": 11, \"116\": 1}, \"85\": {\"85\": 12}, \"110\": {\"110\": 12}, \"119\": {\"119\": 12}, \"108\": {\"108\": 12}, \"53\": {\"53\": 12}, \"105\": {\"105\": 12}, \"103\": {\"103\": 11, \"91\": 1}, \"69\": {\"69\": 9, \"17\": 1, \"14\": 2}, \"23\": {\"23\": 10, \"60\": 2}, \"2\": {\"2\": 12}, \"66\": {\"66\": 12}, \"71\": {\"71\": 12}, \"122\": {\"122\": 12}, \"87\": {\"87\": 10, \"43\": 2}, \"8\": {\"8\": 12}, \"127\": {\"127\": 12}, \"40\": {\"40\": 12}, \"126\": {\"126\": 9, \"39\": 1, \"21\": 1, \"78\": 1}, \"12\": {\"12\": 12}, \"83\": {\"83\": 12}, \"81\": {\"81\": 10, \"73\": 2}, \"19\": {\"19\": 12}, \"125\": {\"125\": 12}, \"128\": {\"128\": 12}, \"22\": {\"22\": 12}, \"21\": {\"21\": 12}, \"42\": {\"42\": 12}, \"38\": {\"38\": 12}, \"72\": {\"72\": 12}, \"86\": {\"86\": 10, \"4\": 2}, \"1\": {\"1\": 12}, \"58\": {\"58\": 8, \"41\": 2, \"66\": 1, \"51\": 1}, \"46\": {\"46\": 12}, \"48\": {\"48\": 12}, \"34\": {\"34\": 11, \"56\": 1}, \"55\": {\"55\": 12}, \"94\": {\"94\": 11, \"97\": 1}, \"114\": {\"114\": 11, \"123\": 1}, \"97\": {\"97\": 12}, \"107\": {\"107\": 12}, \"68\": {\"68\": 12}, \"64\": {\"64\": 11, \"80\": 1}, \"13\": {\"13\": 6, \"21\": 2, \"122\": 1, \"87\": 1, \"17\": 1, \"78\": 1}, \"115\": {\"115\": 11, \"121\": 1}, \"62\": {\"62\": 12}, \"51\": {\"51\": 12}, \"98\": {\"98\": 12}, \"45\": {\"45\": 11, \"68\": 1}, \"74\": {\"74\": 11, \"42\": 1}, \"112\": {\"3\": 2, \"112\": 10}, \"41\": {\"41\": 12}, \"32\": {\"32\": 11, \"100\": 1}, \"104\": {\"104\": 12}, \"65\": {\"65\": 12}, \"54\": {\"54\": 11, \"42\": 1}, \"20\": {\"20\": 12}, \"124\": {\"124\": 10, \"17\": 2}, \"121\": {\"121\": 10, \"88\": 1, \"46\": 1}, \"106\": {\"106\": 12}, \"18\": {\"18\": 12}, \"17\": {\"17\": 8, \"13\": 1, \"78\": 2, \"115\": 1}, \"73\": {\"73\": 12}, \"70\": {\"70\": 11, \"88\": 1}, \"92\": {\"92\": 10, \"126\": 1, \"21\": 1}, \"15\": {\"15\": 11, \"97\": 1}, \"14\": {\"14\": 12}, \"84\": {\"84\": 12}, \"37\": {\"37\": 12}, \"120\": {\"120\": 12}, \"27\": {\"27\": 4, \"24\": 2, \"36\": 6}, \"35\": {\"35\": 11, \"75\": 1}, \"95\": {\"95\": 12}, \"31\": {\"31\": 12}, \"63\": {\"63\": 12}, \"47\": {\"47\": 12}, \"100\": {\"100\": 11, \"31\": 1}, \"56\": {\"56\": 12}, \"36\": {\"36\": 11, \"27\": 1}, \"10\": {\"10\": 12}}, \"2\": {\"117\": {\"117\": 12}, \"78\": {\"70\": 5, \"78\": 6, \"109\": 1}, \"88\": {\"88\": 11, \"21\": 1}, \"5\": {\"5\": 12}, \"89\": {\"89\": 12}, \"25\": {\"17\": 1, \"25\": 10, \"80\": 1}, \"61\": {\"61\": 9, \"13\": 1, \"126\": 1, \"88\": 1}, \"0\": {\"0\": 12}, \"103\": {\"103\": 9, \"79\": 3}, \"28\": {\"28\": 9, \"17\": 1, \"51\": 1, \"123\": 1}, \"3\": {\"3\": 11, \"88\": 1}, \"43\": {\"43\": 11, \"21\": 1}, \"30\": {\"30\": 12}, \"59\": {\"59\": 12}, \"79\": {\"79\": 12}, \"83\": {\"83\": 8, \"44\": 4}, \"115\": {\"115\": 12}, \"62\": {\"62\": 12}, \"26\": {\"26\": 12}, \"50\": {\"50\": 12}, \"40\": {\"40\": 12}, \"4\": {\"4\": 12}, \"68\": {\"68\": 12}, \"49\": {\"49\": 8, \"126\": 1, \"72\": 1, \"98\": 1, \"88\": 1}, \"51\": {\"51\": 6, \"21\": 1, \"103\": 2, \"75\": 3}, \"44\": {\"44\": 11, \"83\": 1}, \"76\": {\"76\": 12}, \"127\": {\"127\": 12}, \"97\": {\"97\": 6, \"0\": 3, \"15\": 2, \"106\": 1}, \"119\": {\"24\": 1, \"119\": 10, \"112\": 1}, \"77\": {\"77\": 11, \"91\": 1}, \"33\": {\"33\": 12}, \"99\": {\"99\": 12}, \"124\": {\"124\": 12}, \"6\": {\"6\": 12}, \"112\": {\"42\": 7, \"112\": 2, \"19\": 1, \"114\": 2}, \"53\": {\"53\": 10, \"24\": 1, \"21\": 1}, \"110\": {\"110\": 12}, \"11\": {\"11\": 11, \"108\": 1}, \"9\": {\"9\": 12}, \"20\": {\"20\": 12}, \"114\": {\"114\": 12}, \"10\": {\"10\": 10, \"43\": 2}, \"86\": {\"86\": 12}, \"118\": {\"118\": 10, \"43\": 1, \"10\": 1}, \"7\": {\"7\": 11, \"105\": 1}, \"92\": {\"89\": 4, \"76\": 1, \"92\": 5, \"21\": 1, \"59\": 1}, \"18\": {\"18\": 12}, \"94\": {\"94\": 10, \"126\": 1, \"88\": 1}, \"60\": {\"60\": 10, \"23\": 1, \"16\": 1}, \"81\": {\"81\": 12}, \"29\": {\"29\": 11, \"121\": 1}, \"109\": {\"109\": 8, \"21\": 1, \"70\": 1, \"39\": 2}, \"80\": {\"80\": 12}, \"120\": {\"120\": 12}, \"122\": {\"122\": 12}, \"106\": {\"106\": 12}, \"55\": {\"55\": 10, \"61\": 1, \"76\": 1}, \"104\": {\"104\": 12}, \"70\": {\"70\": 8, \"78\": 3, \"88\": 1}, \"24\": {\"24\": 10, \"70\": 1, \"108\": 1}, \"2\": {\"2\": 12}, \"67\": {\"89\": 1, \"67\": 6, \"80\": 3, \"121\": 1, \"74\": 1}, \"72\": {\"72\": 12}, \"91\": {\"91\": 10, \"103\": 1, \"111\": 1}, \"116\": {\"57\": 1, \"116\": 11}, \"8\": {\"8\": 11, \"121\": 1}, \"128\": {\"101\": 1, \"128\": 6, \"127\": 2, \"71\": 1, \"75\": 1, \"114\": 1}, \"41\": {\"41\": 10, \"115\": 1, \"88\": 1}, \"113\": {\"113\": 9, \"88\": 2, \"70\": 1}, \"12\": {\"12\": 9, \"23\": 2, \"24\": 1}, \"90\": {\"90\": 12}, \"82\": {\"82\": 10, \"45\": 2}, \"111\": {\"111\": 12}, \"85\": {\"85\": 11, \"73\": 1}, \"37\": {\"37\": 12}, \"23\": {\"122\": 2, \"23\": 8, \"93\": 1, \"8\": 1}, \"22\": {\"22\": 12}, \"102\": {\"102\": 12}, \"39\": {\"39\": 8, \"70\": 1, \"118\": 1, \"109\": 2}, \"101\": {\"101\": 12}, \"87\": {\"87\": 12}, \"1\": {\"1\": 12}, \"58\": {\"58\": 12}, \"47\": {\"47\": 10, \"77\": 2}, \"126\": {\"126\": 11, \"24\": 1}, \"34\": {\"34\": 12}, \"56\": {\"56\": 9, \"91\": 1, \"75\": 2}, \"95\": {\"95\": 9, \"40\": 2, \"88\": 1}, \"65\": {\"65\": 11, \"28\": 1}, \"98\": {\"98\": 11, \"49\": 1}, \"123\": {\"123\": 12}, \"69\": {\"69\": 11, \"31\": 1}, \"108\": {\"108\": 12}, \"13\": {\"13\": 12}, \"15\": {\"15\": 12}, \"125\": {\"125\": 12}, \"52\": {\"52\": 12}, \"46\": {\"46\": 12}, \"45\": {\"45\": 11, \"37\": 1}, \"75\": {\"75\": 11, \"126\": 1}, \"73\": {\"73\": 12}, \"42\": {\"42\": 11, \"24\": 1}, \"32\": {\"32\": 6, \"74\": 1, \"17\": 1, \"52\": 1, \"107\": 1, \"88\": 1, \"92\": 1}, \"105\": {\"105\": 12}, \"66\": {\"66\": 12}, \"54\": {\"54\": 12}, \"21\": {\"21\": 10, \"39\": 2}, \"64\": {\"64\": 12}, \"35\": {\"35\": 12}, \"107\": {\"107\": 12}, \"19\": {\"95\": 1, \"19\": 7, \"82\": 1, \"52\": 1, \"73\": 1, \"123\": 1}, \"17\": {\"17\": 8, \"80\": 2, \"21\": 2}, \"74\": {\"74\": 10, \"76\": 2}, \"71\": {\"21\": 1, \"71\": 7, \"3\": 4}, \"93\": {\"93\": 12}, \"16\": {\"93\": 1, \"21\": 1, \"16\": 10}, \"14\": {\"32\": 1, \"14\": 9, \"21\": 2}, \"84\": {\"21\": 1, \"84\": 11}, \"38\": {\"38\": 10, \"41\": 2}, \"121\": {\"121\": 10, \"88\": 1, \"61\": 1}, \"27\": {\"27\": 12}, \"129\": {\"129\": 12}, \"96\": {\"96\": 12}, \"31\": {\"31\": 11, \"62\": 1}, \"63\": {\"63\": 12}, \"48\": {\"48\": 12}, \"100\": {\"100\": 12}, \"57\": {\"57\": 9, \"28\": 1, \"52\": 1, \"126\": 1}, \"36\": {\"36\": 9, \"27\": 3}}, \"4\": {\"73\": {\"73\": 9, \"46\": 1, \"5\": 1, \"88\": 1}, \"29\": {\"29\": 12}, \"60\": {\"23\": 1, \"60\": 10, \"124\": 1}, \"50\": {\"50\": 10, \"54\": 2}, \"96\": {\"96\": 4, \"110\": 6, \"43\": 1, \"122\": 1}, \"64\": {\"64\": 12}, \"99\": {\"99\": 8, \"72\": 2, \"14\": 2}, \"0\": {\"0\": 12}, \"20\": {\"20\": 12}, \"51\": {\"79\": 1, \"98\": 3, \"75\": 1, \"58\": 1, \"34\": 1, \"126\": 1, \"51\": 1, \"25\": 1, \"78\": 1, \"9\": 1}, \"123\": {\"123\": 12}, \"83\": {\"83\": 11, \"88\": 1}, \"57\": {\"57\": 12}, \"33\": {\"33\": 8, \"1\": 3, \"19\": 1}, \"17\": {\"17\": 10, \"67\": 2}, \"62\": {\"62\": 11, \"88\": 1}, \"4\": {\"4\": 12}, \"18\": {\"18\": 12}, \"10\": {\"97\": 1, \"10\": 8, \"88\": 1, \"70\": 2}, \"102\": {\"102\": 12}, \"110\": {\"110\": 12}, \"68\": {\"68\": 12}, \"70\": {\"10\": 1, \"70\": 9, \"108\": 2}, \"86\": {\"86\": 12}, \"107\": {\"107\": 12}, \"21\": {\"39\": 2, \"21\": 8, \"60\": 1, \"78\": 1}, \"119\": {\"119\": 12}, \"85\": {\"85\": 10, \"19\": 1, \"63\": 1}, \"66\": {\"30\": 1, \"66\": 10, \"74\": 1}, \"124\": {\"124\": 10, \"13\": 2}, \"116\": {\"116\": 12}, \"71\": {\"71\": 10, \"88\": 2}, \"129\": {\"129\": 12}, \"105\": {\"105\": 10, \"127\": 1, \"21\": 1}, \"93\": {\"93\": 11, \"60\": 1}, \"48\": {\"48\": 12}, \"30\": {\"15\": 2, \"30\": 9, \"126\": 1}, \"36\": {\"36\": 12}, \"103\": {\"103\": 8, \"54\": 1, \"58\": 1, \"106\": 1, \"51\": 1}, \"67\": {\"67\": 2, \"27\": 1, \"17\": 4, \"63\": 1, \"123\": 1, \"108\": 1, \"80\": 1, \"32\": 1}, \"42\": {\"42\": 11, \"79\": 1}, \"100\": {\"20\": 1, \"19\": 1, \"100\": 8, \"53\": 2}, \"28\": {\"28\": 12}, \"23\": {\"93\": 1, \"88\": 1, \"108\": 1, \"78\": 1, \"0\": 1, \"60\": 2, \"51\": 1, \"15\": 1, \"8\": 3}, \"49\": {\"53\": 2, \"49\": 9, \"83\": 1}, \"38\": {\"38\": 12}, \"128\": {\"105\": 3, \"128\": 5, \"28\": 2, \"95\": 1, \"127\": 1}, \"118\": {\"118\": 12}, \"101\": {\"101\": 12}, \"79\": {\"79\": 11, \"42\": 1}, \"52\": {\"52\": 7, \"41\": 3, \"88\": 1, \"53\": 1}, \"6\": {\"6\": 12}, \"95\": {\"95\": 9, \"127\": 2, \"113\": 1}, \"54\": {\"54\": 12}, \"26\": {\"26\": 12}, \"69\": {\"69\": 12}, \"114\": {\"114\": 12}, \"97\": {\"97\": 6, \"27\": 1, \"10\": 1, \"36\": 1, \"24\": 3}, \"87\": {\"87\": 11, \"43\": 1}, \"1\": {\"1\": 9, \"57\": 2, \"71\": 1}, \"34\": {\"34\": 11, \"51\": 1}, \"19\": {\"19\": 11, \"100\": 1}, \"27\": {\"27\": 12}, \"5\": {\"5\": 12}, \"24\": {\"27\": 2, \"97\": 7, \"0\": 1, \"24\": 1, \"23\": 1}, \"126\": {\"126\": 12}, \"56\": {\"56\": 11, \"33\": 1}, \"59\": {\"59\": 11, \"13\": 1}, \"127\": {\"127\": 11, \"108\": 1}, \"44\": {\"44\": 12}, \"77\": {\"77\": 12}, \"80\": {\"80\": 12}, \"98\": {\"98\": 11, \"108\": 1}, \"122\": {\"88\": 1, \"122\": 7, \"87\": 2, \"43\": 2}, \"108\": {\"108\": 6, \"88\": 3, \"70\": 2, \"10\": 1}, \"61\": {\"61\": 10, \"23\": 1, \"108\": 1}, \"22\": {\"22\": 12}, \"63\": {\"82\": 1, \"63\": 10, \"67\": 1}, \"39\": {\"39\": 8, \"10\": 1, \"0\": 1, \"21\": 2}, \"25\": {\"25\": 12}, \"3\": {\"3\": 12}, \"78\": {\"78\": 4, \"39\": 2, \"108\": 1, \"21\": 3, \"88\": 1, \"40\": 1}, \"31\": {\"31\": 12}, \"35\": {\"61\": 1, \"35\": 11}, \"91\": {\"91\": 10, \"77\": 1, \"41\": 1}, \"37\": {\"37\": 11, \"97\": 1}, \"13\": {\"13\": 11, \"115\": 1}, \"53\": {\"53\": 10, \"100\": 1, \"46\": 1}, \"82\": {\"82\": 10, \"104\": 1, \"32\": 1}, \"92\": {\"92\": 11, \"22\": 1}, \"90\": {\"90\": 11, \"38\": 1}, \"8\": {\"8\": 10, \"15\": 1, \"88\": 1}, \"88\": {\"10\": 2, \"88\": 8, \"70\": 1, \"108\": 1}, \"16\": {\"118\": 1, \"16\": 11}, \"45\": {\"45\": 12}, \"89\": {\"89\": 12}, \"43\": {\"43\": 11, \"39\": 1}, \"65\": {\"65\": 12}, \"117\": {\"117\": 10, \"2\": 1, \"67\": 1}, \"40\": {\"40\": 12}, \"12\": {\"12\": 12}, \"7\": {\"7\": 11, \"0\": 1}, \"75\": {\"75\": 12}, \"41\": {\"41\": 12}, \"76\": {\"76\": 12}, \"9\": {\"9\": 10, \"112\": 1, \"83\": 1}, \"125\": {\"125\": 12}, \"120\": {\"120\": 12}, \"11\": {\"11\": 8, \"93\": 3, \"108\": 1}, \"115\": {\"129\": 1, \"86\": 3, \"13\": 2, \"24\": 2, \"115\": 4}, \"2\": {\"2\": 11, \"67\": 1}, \"113\": {\"113\": 10, \"21\": 1, \"39\": 1}, \"112\": {\"112\": 11, \"9\": 1}, \"94\": {\"94\": 7, \"15\": 5}, \"109\": {\"109\": 12}, \"74\": {\"74\": 11, \"57\": 1}, \"111\": {\"111\": 10, \"68\": 2}, \"55\": {\"55\": 10, \"95\": 2}, \"15\": {\"15\": 11, \"36\": 1}, \"14\": {\"14\": 10, \"40\": 2}, \"104\": {\"104\": 12}, \"47\": {\"47\": 12}, \"58\": {\"51\": 1, \"58\": 11}, \"106\": {\"12\": 4, \"106\": 6, \"88\": 2}, \"121\": {\"121\": 8, \"27\": 1, \"25\": 3}, \"81\": {\"81\": 10, \"18\": 2}, \"84\": {\"84\": 12}, \"32\": {\"107\": 1, \"32\": 10, \"120\": 1}, \"72\": {\"72\": 10, \"71\": 1, \"69\": 1}, \"46\": {\"46\": 11, \"129\": 1}}, \"1\": {\"49\": {\"53\": 2, \"49\": 7, \"101\": 1, \"9\": 1, \"128\": 1}, \"1\": {\"1\": 12}, \"119\": {\"119\": 12}, \"28\": {\"28\": 10, \"116\": 2}, \"20\": {\"20\": 12}, \"17\": {\"17\": 12}, \"103\": {\"103\": 10, \"45\": 2}, \"85\": {\"85\": 12}, \"87\": {\"8\": 1, \"93\": 4, \"87\": 7}, \"84\": {\"84\": 12}, \"34\": {\"56\": 1, \"34\": 9, \"89\": 1, \"98\": 1}, \"16\": {\"16\": 10, \"26\": 2}, \"6\": {\"6\": 12}, \"31\": {\"31\": 11, \"25\": 1}, \"92\": {\"92\": 12}, \"96\": {\"97\": 1, \"96\": 9, \"36\": 1, \"100\": 1}, \"64\": {\"64\": 12}, \"40\": {\"40\": 11, \"105\": 1}, \"69\": {\"69\": 12}, \"99\": {\"99\": 12}, \"3\": {\"125\": 1, \"3\": 9, \"44\": 2}, \"50\": {\"113\": 1, \"50\": 11}, \"21\": {\"21\": 9, \"70\": 2, \"4\": 1}, \"7\": {\"7\": 12}, \"0\": {\"0\": 12}, \"44\": {\"44\": 12}, \"19\": {\"19\": 11, \"128\": 1}, \"22\": {\"22\": 11, \"116\": 1}, \"32\": {\"32\": 12}, \"125\": {\"125\": 12}, \"82\": {\"82\": 12}, \"33\": {\"33\": 12}, \"45\": {\"45\": 4, \"25\": 1, \"124\": 4, \"80\": 2, \"64\": 1}, \"109\": {\"108\": 1, \"109\": 11}, \"105\": {\"105\": 7, \"74\": 1, \"40\": 4}, \"76\": {\"76\": 12}, \"59\": {\"59\": 9, \"95\": 1, \"6\": 2}, \"120\": {\"120\": 11, \"38\": 1}, \"41\": {\"41\": 12}, \"26\": {\"26\": 9, \"16\": 2, \"70\": 1}, \"42\": {\"99\": 1, \"42\": 6, \"104\": 1, \"83\": 4}, \"79\": {\"79\": 12}, \"97\": {\"27\": 5, \"97\": 6, \"24\": 1}, \"110\": {\"110\": 12}, \"128\": {\"128\": 7, \"5\": 3, \"49\": 1, \"72\": 1}, \"55\": {\"55\": 12}, \"23\": {\"23\": 4, \"93\": 1, \"87\": 3, \"18\": 1, \"110\": 2, \"8\": 1}, \"4\": {\"4\": 12}, \"14\": {\"14\": 12}, \"126\": {\"126\": 11, \"24\": 1}, \"111\": {\"111\": 12}, \"39\": {\"39\": 12}, \"35\": {\"35\": 12}, \"102\": {\"102\": 12}, \"113\": {\"113\": 12}, \"89\": {\"89\": 12}, \"46\": {\"124\": 7, \"59\": 1, \"88\": 2, \"46\": 1, \"45\": 1}, \"91\": {\"91\": 12}, \"83\": {\"28\": 1, \"83\": 7, \"42\": 2, \"63\": 1, \"6\": 1}, \"81\": {\"81\": 12}, \"88\": {\"108\": 1, \"88\": 9, \"24\": 2}, \"95\": {\"95\": 11, \"89\": 1}, \"53\": {\"53\": 12}, \"75\": {\"127\": 3, \"75\": 8, \"56\": 1}, \"122\": {\"43\": 4, \"122\": 8}, \"107\": {\"107\": 12}, \"104\": {\"104\": 11, \"25\": 1}, \"12\": {\"12\": 8, \"106\": 3, \"109\": 1}, \"112\": {\"112\": 8, \"111\": 4}, \"63\": {\"63\": 11, \"61\": 1}, \"30\": {\"30\": 12}, \"9\": {\"9\": 9, \"47\": 1, \"103\": 1, \"30\": 1}, \"78\": {\"78\": 7, \"21\": 3, \"39\": 2}, \"18\": {\"18\": 12}, \"116\": {\"116\": 9, \"28\": 2, \"66\": 1}, \"36\": {\"36\": 12}, \"100\": {\"100\": 12}, \"74\": {\"48\": 2, \"74\": 10}, \"61\": {\"61\": 12}, \"8\": {\"8\": 12}, \"70\": {\"70\": 11, \"21\": 1}, \"108\": {\"108\": 12}, \"77\": {\"77\": 12}, \"93\": {\"43\": 1, \"93\": 10, \"87\": 1}, \"37\": {\"37\": 10, \"58\": 1, \"63\": 1}, \"118\": {\"118\": 12}, \"80\": {\"67\": 1, \"80\": 11}, \"106\": {\"106\": 10, \"12\": 2}, \"58\": {\"58\": 12}, \"56\": {\"56\": 12}, \"86\": {\"86\": 9, \"115\": 3}, \"90\": {\"90\": 12}, \"123\": {\"123\": 11, \"63\": 1}, \"94\": {\"94\": 10, \"21\": 2}, \"52\": {\"52\": 12}, \"47\": {\"47\": 11, \"103\": 1}, \"117\": {\"117\": 12}, \"124\": {\"124\": 12}, \"71\": {\"71\": 12}, \"67\": {\"67\": 11, \"80\": 1}, \"15\": {\"15\": 11, \"27\": 1}, \"5\": {\"5\": 12}, \"24\": {\"24\": 10, \"88\": 2}, \"62\": {\"62\": 12}, \"13\": {\"13\": 12}, \"101\": {\"101\": 12}, \"51\": {\"127\": 1, \"51\": 11}, \"129\": {\"129\": 10, \"45\": 2}, \"65\": {\"57\": 2, \"61\": 1, \"28\": 3, \"65\": 6}, \"121\": {\"76\": 1, \"121\": 11}, \"43\": {\"43\": 11, \"122\": 1}, \"73\": {\"73\": 12}, \"68\": {\"68\": 12}, \"66\": {\"66\": 8, \"22\": 1, \"79\": 1, \"116\": 1, \"28\": 1}, \"60\": {\"60\": 8, \"94\": 2, \"23\": 2}, \"115\": {\"115\": 12}, \"38\": {\"38\": 12}, \"2\": {\"2\": 7, \"5\": 2, \"129\": 2, \"80\": 1}, \"127\": {\"127\": 12}, \"54\": {\"54\": 12}, \"72\": {\"72\": 12}, \"27\": {\"97\": 3, \"27\": 9}, \"57\": {\"57\": 12}, \"48\": {\"48\": 11, \"123\": 1}, \"114\": {\"114\": 12}, \"25\": {\"25\": 11, \"47\": 1}, \"11\": {\"11\": 12}, \"29\": {\"29\": 12}, \"98\": {\"98\": 12}, \"10\": {\"10\": 11, \"21\": 1}}}, \"per_domain_accuracy\": {\"3\": {\"accuracy\": 0.9397435897435897, \"source?\": true}, \"2\": {\"accuracy\": 0.8865384615384615, \"source?\": false}, \"4\": {\"accuracy\": 0.8474358974358974, \"source?\": false}, \"1\": {\"accuracy\": 0.8846153846153846, \"source?\": false}}}, \"history\": {\"epoch_indices\": [1, 2, 3, 4, 5, 6, 7, 8, 9, 10, 11, 12, 13, 14, 15], \"train_label_loss\": [1.569431096315384, 0.6486625245639256, 0.42307654590833754, 0.3367463807974543, 0.26415787637233734, 0.2677759950359662, 0.22759092066969192, 0.1939820379373573, 0.20336521257247245, 0.16416316532662936, 0.15821578078681514, 0.1490783743737709, 0.1439949439927226, 0.13651195492240645, 0.11114522415612425], \"source_val_label_loss\": [0.8539136648178101, 0.5980742573738098, 0.4691537618637085, 0.4361521601676941, 0.4001738429069519, 0.3720269799232483, 0.3454694151878357, 0.3302125334739685, 0.39226412773132324, 0.3142743706703186, 0.34649866819381714, 0.3512011468410492, 0.34200066328048706, 0.3303631544113159, 0.3373834788799286], \"target_val_label_loss\": [1.0880943536758423, 0.9007912874221802, 0.7919582724571228, 0.818166971206665, 0.766768753528595, 0.7136270999908447, 0.7117537260055542, 0.7487214207649231, 0.758675754070282, 0.7072436213493347, 0.6641861200332642, 0.7478006482124329, 0.7388857007026672, 0.6832160949707031, 0.7102994918823242], \"source_val_acc_label\": [0.8435897435897436, 0.8967948717948718, 0.9230769230769231, 0.9326923076923077, 0.9397435897435897, 0.9384615384615385, 0.9391025641025641, 0.9525641025641025, 0.9301282051282052, 0.948076923076923, 0.9397435897435897, 0.9429487179487179, 0.941025641025641, 0.9448717948717948, 0.9403846153846154], \"target_val_acc_label\": [0.7901709401709401, 0.8367521367521368, 0.8587606837606837, 0.85, 0.8688034188034188, 0.8700854700854701, 0.8664529914529915, 0.8702991452991453, 0.8602564102564103, 0.8775641025641026, 0.8728632478632479, 0.8675213675213675, 0.8711538461538462, 0.8758547008547009, 0.869017094017094]}, \"dataset_metrics\": {\"source\": {\"train\": {\"n_unique_x\": 9100, \"n_unique_y\": 130, \"n_batch/episode\": 42}, \"val\": {\"n_unique_x\": 1950, \"n_unique_y\": 130, \"n_batch/episode\": 6}, \"test\": {\"n_unique_x\": 1950, \"n_unique_y\": 130, \"n_batch/episode\": 6}}, \"target\": {\"train\": {\"n_unique_x\": 27300, \"n_unique_y\": 130, \"n_batch/episode\": 126}, \"val\": {\"n_unique_x\": 5850, \"n_unique_y\": 130, \"n_batch/episode\": 18}, \"test\": {\"n_unique_x\": 5850, \"n_unique_y\": 130, \"n_batch/episode\": 18}}}}'"
      ]
     },
     "execution_count": 20,
     "metadata": {},
     "output_type": "execute_result"
    }
   ],
   "source": [
    "json.dumps(experiment)"
   ]
  }
 ],
 "metadata": {
  "celltoolbar": "Tags",
  "kernelspec": {
   "display_name": "Python 3 (ipykernel)",
   "language": "python",
   "name": "python3"
  },
  "language_info": {
   "codemirror_mode": {
    "name": "ipython",
    "version": 3
   },
   "file_extension": ".py",
   "mimetype": "text/x-python",
   "name": "python",
   "nbconvert_exporter": "python",
   "pygments_lexer": "ipython3",
   "version": "3.8.10"
  },
  "papermill": {
   "default_parameters": {},
   "duration": 137.199019,
   "end_time": "2022-03-06T00:59:27.886393",
   "environment_variables": {},
   "exception": null,
   "input_path": "/mnt/wd500GB/CSC500/csc500-main/csc500-notebooks/templates/ptn_template.ipynb",
   "output_path": "trial.ipynb",
   "parameters": {
    "parameters": {
     "BEST_MODEL_PATH": "./best_model.pth",
     "NUM_LOGS_PER_EPOCH": 10,
     "criteria_for_best": "target_loss",
     "dataset_seed": 1337,
     "device": "cuda",
     "domains_source": [
      3
     ],
     "domains_target": [
      1,
      2,
      4
     ],
     "episode_transforms_source": [],
     "episode_transforms_target": [],
     "experiment_name": "tuned_1_wisig",
     "labels_source": [
      "1-10",
      "1-12",
      "1-14",
      "1-16",
      "1-18",
      "1-19",
      "1-8",
      "10-11",
      "10-17",
      "10-4",
      "10-7",
      "11-1",
      "11-10",
      "11-19",
      "11-20",
      "11-4",
      "11-7",
      "12-19",
      "12-20",
      "12-7",
      "13-14",
      "13-18",
      "13-19",
      "13-20",
      "13-3",
      "13-7",
      "14-10",
      "14-11",
      "14-12",
      "14-13",
      "14-14",
      "14-19",
      "14-20",
      "14-7",
      "14-8",
      "14-9",
      "15-1",
      "15-19",
      "15-6",
      "16-1",
      "16-16",
      "16-19",
      "16-20",
      "17-10",
      "17-11",
      "18-1",
      "18-10",
      "18-11",
      "18-12",
      "18-13",
      "18-14",
      "18-15",
      "18-16",
      "18-17",
      "18-19",
      "18-2",
      "18-20",
      "18-4",
      "18-5",
      "18-7",
      "18-8",
      "18-9",
      "19-1",
      "19-10",
      "19-11",
      "19-12",
      "19-13",
      "19-14",
      "19-15",
      "19-19",
      "19-2",
      "19-20",
      "19-3",
      "19-4",
      "19-6",
      "19-7",
      "19-8",
      "19-9",
      "2-1",
      "2-13",
      "2-15",
      "2-3",
      "2-4",
      "2-5",
      "2-6",
      "2-7",
      "2-8",
      "20-1",
      "20-12",
      "20-14",
      "20-15",
      "20-16",
      "20-18",
      "20-19",
      "20-20",
      "20-3",
      "20-4",
      "20-5",
      "20-7",
      "20-8",
      "3-1",
      "3-13",
      "3-18",
      "3-2",
      "3-8",
      "4-1",
      "4-10",
      "4-11",
      "5-1",
      "5-5",
      "6-1",
      "6-15",
      "6-6",
      "7-10",
      "7-11",
      "7-12",
      "7-13",
      "7-14",
      "7-7",
      "7-8",
      "7-9",
      "8-1",
      "8-13",
      "8-14",
      "8-18",
      "8-20",
      "8-3",
      "8-8",
      "9-1",
      "9-7"
     ],
     "labels_target": [
      "1-10",
      "1-12",
      "1-14",
      "1-16",
      "1-18",
      "1-19",
      "1-8",
      "10-11",
      "10-17",
      "10-4",
      "10-7",
      "11-1",
      "11-10",
      "11-19",
      "11-20",
      "11-4",
      "11-7",
      "12-19",
      "12-20",
      "12-7",
      "13-14",
      "13-18",
      "13-19",
      "13-20",
      "13-3",
      "13-7",
      "14-10",
      "14-11",
      "14-12",
      "14-13",
      "14-14",
      "14-19",
      "14-20",
      "14-7",
      "14-8",
      "14-9",
      "15-1",
      "15-19",
      "15-6",
      "16-1",
      "16-16",
      "16-19",
      "16-20",
      "17-10",
      "17-11",
      "18-1",
      "18-10",
      "18-11",
      "18-12",
      "18-13",
      "18-14",
      "18-15",
      "18-16",
      "18-17",
      "18-19",
      "18-2",
      "18-20",
      "18-4",
      "18-5",
      "18-7",
      "18-8",
      "18-9",
      "19-1",
      "19-10",
      "19-11",
      "19-12",
      "19-13",
      "19-14",
      "19-15",
      "19-19",
      "19-2",
      "19-20",
      "19-3",
      "19-4",
      "19-6",
      "19-7",
      "19-8",
      "19-9",
      "2-1",
      "2-13",
      "2-15",
      "2-3",
      "2-4",
      "2-5",
      "2-6",
      "2-7",
      "2-8",
      "20-1",
      "20-12",
      "20-14",
      "20-15",
      "20-16",
      "20-18",
      "20-19",
      "20-20",
      "20-3",
      "20-4",
      "20-5",
      "20-7",
      "20-8",
      "3-1",
      "3-13",
      "3-18",
      "3-2",
      "3-8",
      "4-1",
      "4-10",
      "4-11",
      "5-1",
      "5-5",
      "6-1",
      "6-15",
      "6-6",
      "7-10",
      "7-11",
      "7-12",
      "7-13",
      "7-14",
      "7-7",
      "7-8",
      "7-9",
      "8-1",
      "8-13",
      "8-14",
      "8-18",
      "8-20",
      "8-3",
      "8-8",
      "9-1",
      "9-7"
     ],
     "lr": 0.001,
     "n_epoch": 50,
     "n_query": 2,
     "n_shot": 3,
     "n_way": 130,
     "num_examples_per_domain_per_label_source": 100,
     "num_examples_per_domain_per_label_target": 100,
     "patience": 3,
     "pickle_name": "wisig.node3-19.stratified_ds.2022A.pkl",
     "seed": 1337,
     "test_k_factor": 2,
     "torch_default_dtype": "torch.float32",
     "train_k_factor": 3,
     "val_k_factor": 2,
     "x_net": [
      {
       "class": "nnReshape",
       "kargs": {
        "shape": [
         -1,
         1,
         2,
         256
        ]
       }
      },
      {
       "class": "Conv2d",
       "kargs": {
        "bias": false,
        "in_channels": 1,
        "kernel_size": [
         1,
         7
        ],
        "out_channels": 256,
        "padding": [
         0,
         3
        ]
       }
      },
      {
       "class": "ReLU",
       "kargs": {
        "inplace": true
       }
      },
      {
       "class": "BatchNorm2d",
       "kargs": {
        "num_features": 256
       }
      },
      {
       "class": "Conv2d",
       "kargs": {
        "bias": true,
        "in_channels": 256,
        "kernel_size": [
         2,
         7
        ],
        "out_channels": 80,
        "padding": [
         0,
         3
        ]
       }
      },
      {
       "class": "ReLU",
       "kargs": {
        "inplace": true
       }
      },
      {
       "class": "BatchNorm2d",
       "kargs": {
        "num_features": 80
       }
      },
      {
       "class": "Flatten",
       "kargs": {}
      },
      {
       "class": "Linear",
       "kargs": {
        "in_features": 20480,
        "out_features": 256
       }
      },
      {
       "class": "ReLU",
       "kargs": {
        "inplace": true
       }
      },
      {
       "class": "BatchNorm1d",
       "kargs": {
        "num_features": 256
       }
      },
      {
       "class": "Linear",
       "kargs": {
        "in_features": 256,
        "out_features": 256
       }
      }
     ],
     "x_transforms_source": [],
     "x_transforms_target": []
    }
   },
   "start_time": "2022-03-06T00:57:10.687374",
   "version": "2.3.4"
  }
 },
 "nbformat": 4,
 "nbformat_minor": 5
}