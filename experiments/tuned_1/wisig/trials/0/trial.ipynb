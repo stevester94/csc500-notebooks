{
 "cells": [
  {
   "cell_type": "markdown",
   "id": "9fea5f46",
   "metadata": {
    "papermill": {
     "duration": 0.019234,
     "end_time": "2022-03-06T00:55:22.441160",
     "exception": false,
     "start_time": "2022-03-06T00:55:22.421926",
     "status": "completed"
    },
    "tags": []
   },
   "source": [
    "# PTN Template\n",
    "This notebook serves as a template for single dataset PTN experiments  \n",
    "It can be run on its own by setting STANDALONE to True (do a find for \"STANDALONE\" to see where)  \n",
    "But it is intended to be executed as part of a *papermill.py script. See any of the   \n",
    "experimentes with a papermill script to get started with that workflow.  "
   ]
  },
  {
   "cell_type": "code",
   "execution_count": 1,
   "id": "0902182a",
   "metadata": {
    "execution": {
     "iopub.execute_input": "2022-03-06T00:55:22.474080Z",
     "iopub.status.busy": "2022-03-06T00:55:22.466838Z",
     "iopub.status.idle": "2022-03-06T00:55:23.229004Z",
     "shell.execute_reply": "2022-03-06T00:55:23.228468Z"
    },
    "papermill": {
     "duration": 0.778573,
     "end_time": "2022-03-06T00:55:23.229127",
     "exception": false,
     "start_time": "2022-03-06T00:55:22.450554",
     "status": "completed"
    },
    "tags": []
   },
   "outputs": [],
   "source": [
    "%load_ext autoreload\n",
    "%autoreload 2\n",
    "%matplotlib inline\n",
    "\n",
    "    \n",
    "import os, json, sys, time, random\n",
    "import numpy as np\n",
    "import torch\n",
    "from torch.optim import Adam\n",
    "from  easydict import EasyDict\n",
    "import matplotlib.pyplot as plt\n",
    "\n",
    "from steves_models.steves_ptn import Steves_Prototypical_Network\n",
    "\n",
    "from steves_utils.lazy_iterable_wrapper import Lazy_Iterable_Wrapper\n",
    "from steves_utils.iterable_aggregator import Iterable_Aggregator\n",
    "from steves_utils.ptn_train_eval_test_jig import  PTN_Train_Eval_Test_Jig\n",
    "from steves_utils.torch_sequential_builder import build_sequential\n",
    "from steves_utils.torch_utils import get_dataset_metrics, ptn_confusion_by_domain_over_dataloader\n",
    "from steves_utils.utils_v2 import (per_domain_accuracy_from_confusion, get_datasets_base_path)\n",
    "from steves_utils.PTN.utils import independent_accuracy_assesment\n",
    "\n",
    "from steves_utils.stratified_dataset.episodic_accessor import Episodic_Accessor_Factory\n",
    "\n",
    "from steves_utils.ptn_do_report import (\n",
    "    get_loss_curve,\n",
    "    get_results_table,\n",
    "    get_parameters_table,\n",
    "    get_domain_accuracies,\n",
    ")\n",
    "\n",
    "from steves_utils.transforms import get_chained_transform"
   ]
  },
  {
   "cell_type": "markdown",
   "id": "41c840b4",
   "metadata": {
    "papermill": {
     "duration": 0.009233,
     "end_time": "2022-03-06T00:55:23.253455",
     "exception": false,
     "start_time": "2022-03-06T00:55:23.244222",
     "status": "completed"
    },
    "tags": []
   },
   "source": [
    "# Required Parameters\n",
    "These are allowed parameters, not defaults\n",
    "Each of these values need to be present in the injected parameters (the notebook will raise an exception if they are not present)\n",
    "\n",
    "Papermill uses the cell tag \"parameters\" to inject the real parameters below this cell.\n",
    "Enable tags to see what I mean"
   ]
  },
  {
   "cell_type": "code",
   "execution_count": 2,
   "id": "fd44eb83",
   "metadata": {
    "execution": {
     "iopub.execute_input": "2022-03-06T00:55:23.276619Z",
     "iopub.status.busy": "2022-03-06T00:55:23.275224Z",
     "iopub.status.idle": "2022-03-06T00:55:23.286990Z",
     "shell.execute_reply": "2022-03-06T00:55:23.286610Z"
    },
    "papermill": {
     "duration": 0.024387,
     "end_time": "2022-03-06T00:55:23.287067",
     "exception": false,
     "start_time": "2022-03-06T00:55:23.262680",
     "status": "completed"
    },
    "tags": []
   },
   "outputs": [],
   "source": [
    "required_parameters = {\n",
    "    \"experiment_name\",\n",
    "    \"lr\",\n",
    "    \"device\",\n",
    "    \"seed\",\n",
    "    \"dataset_seed\",\n",
    "    \"labels_source\",\n",
    "    \"labels_target\",\n",
    "    \"domains_source\",\n",
    "    \"domains_target\",\n",
    "    \"num_examples_per_domain_per_label_source\",\n",
    "    \"num_examples_per_domain_per_label_target\",\n",
    "    \"n_shot\",\n",
    "    \"n_way\",\n",
    "    \"n_query\",\n",
    "    \"train_k_factor\",\n",
    "    \"val_k_factor\",\n",
    "    \"test_k_factor\",\n",
    "    \"n_epoch\",\n",
    "    \"patience\",\n",
    "    \"criteria_for_best\",\n",
    "    \"x_transforms_source\",\n",
    "    \"x_transforms_target\",\n",
    "    \"episode_transforms_source\",\n",
    "    \"episode_transforms_target\",\n",
    "    \"pickle_name\",\n",
    "    \"x_net\",\n",
    "    \"NUM_LOGS_PER_EPOCH\",\n",
    "    \"BEST_MODEL_PATH\",\n",
    "    \"torch_default_dtype\"\n",
    "}"
   ]
  },
  {
   "cell_type": "code",
   "execution_count": 3,
   "id": "fa3f0049",
   "metadata": {
    "execution": {
     "iopub.execute_input": "2022-03-06T00:55:23.318421Z",
     "iopub.status.busy": "2022-03-06T00:55:23.318073Z",
     "iopub.status.idle": "2022-03-06T00:55:23.329470Z",
     "shell.execute_reply": "2022-03-06T00:55:23.328975Z"
    },
    "papermill": {
     "duration": 0.027241,
     "end_time": "2022-03-06T00:55:23.329573",
     "exception": false,
     "start_time": "2022-03-06T00:55:23.302332",
     "status": "completed"
    },
    "tags": [
     "parameters"
    ]
   },
   "outputs": [],
   "source": [
    "\n",
    "\n",
    "standalone_parameters = {}\n",
    "standalone_parameters[\"experiment_name\"] = \"STANDALONE PTN\"\n",
    "standalone_parameters[\"lr\"] = 0.0001\n",
    "standalone_parameters[\"device\"] = \"cuda\"\n",
    "\n",
    "standalone_parameters[\"seed\"] = 1337\n",
    "standalone_parameters[\"dataset_seed\"] = 1337\n",
    "\n",
    "\n",
    "standalone_parameters[\"num_examples_per_domain_per_label_source\"]=100\n",
    "standalone_parameters[\"num_examples_per_domain_per_label_target\"]=100\n",
    "\n",
    "standalone_parameters[\"n_shot\"] = 3\n",
    "standalone_parameters[\"n_query\"]  = 2\n",
    "standalone_parameters[\"train_k_factor\"] = 1\n",
    "standalone_parameters[\"val_k_factor\"] = 2\n",
    "standalone_parameters[\"test_k_factor\"] = 2\n",
    "\n",
    "\n",
    "standalone_parameters[\"n_epoch\"] = 100\n",
    "\n",
    "standalone_parameters[\"patience\"] = 10\n",
    "standalone_parameters[\"criteria_for_best\"] = \"target_accuracy\"\n",
    "\n",
    "standalone_parameters[\"x_transforms_source\"] = [\"unit_power\"]\n",
    "standalone_parameters[\"x_transforms_target\"] = [\"unit_power\"]\n",
    "standalone_parameters[\"episode_transforms_source\"] = []\n",
    "standalone_parameters[\"episode_transforms_target\"] = []\n",
    "\n",
    "standalone_parameters[\"torch_default_dtype\"] = \"torch.float32\" \n",
    "\n",
    "\n",
    "\n",
    "standalone_parameters[\"x_net\"] =     [\n",
    "    {\"class\": \"nnReshape\", \"kargs\": {\"shape\":[-1, 1, 2, 256]}},\n",
    "    {\"class\": \"Conv2d\", \"kargs\": { \"in_channels\":1, \"out_channels\":256, \"kernel_size\":(1,7), \"bias\":False, \"padding\":(0,3), },},\n",
    "    {\"class\": \"ReLU\", \"kargs\": {\"inplace\": True}},\n",
    "    {\"class\": \"BatchNorm2d\", \"kargs\": {\"num_features\":256}},\n",
    "\n",
    "    {\"class\": \"Conv2d\", \"kargs\": { \"in_channels\":256, \"out_channels\":80, \"kernel_size\":(2,7), \"bias\":True, \"padding\":(0,3), },},\n",
    "    {\"class\": \"ReLU\", \"kargs\": {\"inplace\": True}},\n",
    "    {\"class\": \"BatchNorm2d\", \"kargs\": {\"num_features\":80}},\n",
    "    {\"class\": \"Flatten\", \"kargs\": {}},\n",
    "\n",
    "    {\"class\": \"Linear\", \"kargs\": {\"in_features\": 80*256, \"out_features\": 256}}, # 80 units per IQ pair\n",
    "    {\"class\": \"ReLU\", \"kargs\": {\"inplace\": True}},\n",
    "    {\"class\": \"BatchNorm1d\", \"kargs\": {\"num_features\":256}},\n",
    "\n",
    "    {\"class\": \"Linear\", \"kargs\": {\"in_features\": 256, \"out_features\": 256}},\n",
    "]\n",
    "\n",
    "# Parameters relevant to results\n",
    "# These parameters will basically never need to change\n",
    "standalone_parameters[\"NUM_LOGS_PER_EPOCH\"] = 10\n",
    "standalone_parameters[\"BEST_MODEL_PATH\"] = \"./best_model.pth\"\n",
    "\n",
    "# uncomment for CORES dataset\n",
    "from steves_utils.CORES.utils import (\n",
    "    ALL_NODES,\n",
    "    ALL_NODES_MINIMUM_1000_EXAMPLES,\n",
    "    ALL_DAYS\n",
    ")\n",
    "\n",
    "\n",
    "standalone_parameters[\"labels_source\"] = ALL_NODES\n",
    "standalone_parameters[\"labels_target\"] = ALL_NODES\n",
    "\n",
    "standalone_parameters[\"domains_source\"] = [1]\n",
    "standalone_parameters[\"domains_target\"] = [2,3,4,5]\n",
    "\n",
    "standalone_parameters[\"pickle_name\"] = \"cores.stratified_ds.2022A.pkl\"\n",
    "\n",
    "\n",
    "# Uncomment these for ORACLE dataset\n",
    "# from steves_utils.ORACLE.utils_v2 import (\n",
    "#     ALL_DISTANCES_FEET,\n",
    "#     ALL_RUNS,\n",
    "#     ALL_SERIAL_NUMBERS,\n",
    "# )\n",
    "# standalone_parameters[\"labels_source\"] = ALL_SERIAL_NUMBERS\n",
    "# standalone_parameters[\"labels_target\"] = ALL_SERIAL_NUMBERS\n",
    "# standalone_parameters[\"domains_source\"] = [8,20, 38,50]\n",
    "# standalone_parameters[\"domains_target\"] = [14, 26, 32, 44, 56]\n",
    "# standalone_parameters[\"pickle_name\"] = \"oracle.frame_indexed.stratified_ds.2022A.pkl\"\n",
    "# standalone_parameters[\"num_examples_per_domain_per_label_source\"]=1000\n",
    "# standalone_parameters[\"num_examples_per_domain_per_label_target\"]=1000\n",
    "\n",
    "# Uncomment these for Metahan dataset\n",
    "# standalone_parameters[\"labels_source\"] = list(range(19))\n",
    "# standalone_parameters[\"labels_target\"] = list(range(19))\n",
    "# standalone_parameters[\"domains_source\"] = [0]\n",
    "# standalone_parameters[\"domains_target\"] = [1]\n",
    "# standalone_parameters[\"pickle_name\"] = \"metehan.stratified_ds.2022A.pkl\"\n",
    "# standalone_parameters[\"n_way\"]  = len(standalone_parameters[\"labels_source\"])\n",
    "# standalone_parameters[\"num_examples_per_domain_per_label_source\"]=200\n",
    "# standalone_parameters[\"num_examples_per_domain_per_label_target\"]=100\n",
    "\n",
    "\n",
    "standalone_parameters[\"n_way\"]  = len(standalone_parameters[\"labels_source\"])"
   ]
  },
  {
   "cell_type": "code",
   "execution_count": 4,
   "id": "c3810861",
   "metadata": {
    "execution": {
     "iopub.execute_input": "2022-03-06T00:55:23.365685Z",
     "iopub.status.busy": "2022-03-06T00:55:23.365010Z",
     "iopub.status.idle": "2022-03-06T00:55:23.377544Z",
     "shell.execute_reply": "2022-03-06T00:55:23.377218Z"
    },
    "papermill": {
     "duration": 0.032725,
     "end_time": "2022-03-06T00:55:23.377622",
     "exception": false,
     "start_time": "2022-03-06T00:55:23.344897",
     "status": "completed"
    },
    "tags": [
     "injected-parameters"
    ]
   },
   "outputs": [],
   "source": [
    "# Parameters\n",
    "parameters = {\n",
    "    \"experiment_name\": \"tuned_1_wisig\",\n",
    "    \"device\": \"cuda\",\n",
    "    \"lr\": 0.001,\n",
    "    \"seed\": 1337,\n",
    "    \"dataset_seed\": 1337,\n",
    "    \"labels_source\": [\n",
    "        \"1-10\",\n",
    "        \"1-12\",\n",
    "        \"1-14\",\n",
    "        \"1-16\",\n",
    "        \"1-18\",\n",
    "        \"1-19\",\n",
    "        \"1-8\",\n",
    "        \"10-11\",\n",
    "        \"10-17\",\n",
    "        \"10-4\",\n",
    "        \"10-7\",\n",
    "        \"11-1\",\n",
    "        \"11-10\",\n",
    "        \"11-19\",\n",
    "        \"11-20\",\n",
    "        \"11-4\",\n",
    "        \"11-7\",\n",
    "        \"12-19\",\n",
    "        \"12-20\",\n",
    "        \"12-7\",\n",
    "        \"13-14\",\n",
    "        \"13-18\",\n",
    "        \"13-19\",\n",
    "        \"13-20\",\n",
    "        \"13-3\",\n",
    "        \"13-7\",\n",
    "        \"14-10\",\n",
    "        \"14-11\",\n",
    "        \"14-12\",\n",
    "        \"14-13\",\n",
    "        \"14-14\",\n",
    "        \"14-19\",\n",
    "        \"14-20\",\n",
    "        \"14-7\",\n",
    "        \"14-8\",\n",
    "        \"14-9\",\n",
    "        \"15-1\",\n",
    "        \"15-19\",\n",
    "        \"15-6\",\n",
    "        \"16-1\",\n",
    "        \"16-16\",\n",
    "        \"16-19\",\n",
    "        \"16-20\",\n",
    "        \"17-10\",\n",
    "        \"17-11\",\n",
    "        \"18-1\",\n",
    "        \"18-10\",\n",
    "        \"18-11\",\n",
    "        \"18-12\",\n",
    "        \"18-13\",\n",
    "        \"18-14\",\n",
    "        \"18-15\",\n",
    "        \"18-16\",\n",
    "        \"18-17\",\n",
    "        \"18-19\",\n",
    "        \"18-2\",\n",
    "        \"18-20\",\n",
    "        \"18-4\",\n",
    "        \"18-5\",\n",
    "        \"18-7\",\n",
    "        \"18-8\",\n",
    "        \"18-9\",\n",
    "        \"19-1\",\n",
    "        \"19-10\",\n",
    "        \"19-11\",\n",
    "        \"19-12\",\n",
    "        \"19-13\",\n",
    "        \"19-14\",\n",
    "        \"19-15\",\n",
    "        \"19-19\",\n",
    "        \"19-2\",\n",
    "        \"19-20\",\n",
    "        \"19-3\",\n",
    "        \"19-4\",\n",
    "        \"19-6\",\n",
    "        \"19-7\",\n",
    "        \"19-8\",\n",
    "        \"19-9\",\n",
    "        \"2-1\",\n",
    "        \"2-13\",\n",
    "        \"2-15\",\n",
    "        \"2-3\",\n",
    "        \"2-4\",\n",
    "        \"2-5\",\n",
    "        \"2-6\",\n",
    "        \"2-7\",\n",
    "        \"2-8\",\n",
    "        \"20-1\",\n",
    "        \"20-12\",\n",
    "        \"20-14\",\n",
    "        \"20-15\",\n",
    "        \"20-16\",\n",
    "        \"20-18\",\n",
    "        \"20-19\",\n",
    "        \"20-20\",\n",
    "        \"20-3\",\n",
    "        \"20-4\",\n",
    "        \"20-5\",\n",
    "        \"20-7\",\n",
    "        \"20-8\",\n",
    "        \"3-1\",\n",
    "        \"3-13\",\n",
    "        \"3-18\",\n",
    "        \"3-2\",\n",
    "        \"3-8\",\n",
    "        \"4-1\",\n",
    "        \"4-10\",\n",
    "        \"4-11\",\n",
    "        \"5-1\",\n",
    "        \"5-5\",\n",
    "        \"6-1\",\n",
    "        \"6-15\",\n",
    "        \"6-6\",\n",
    "        \"7-10\",\n",
    "        \"7-11\",\n",
    "        \"7-12\",\n",
    "        \"7-13\",\n",
    "        \"7-14\",\n",
    "        \"7-7\",\n",
    "        \"7-8\",\n",
    "        \"7-9\",\n",
    "        \"8-1\",\n",
    "        \"8-13\",\n",
    "        \"8-14\",\n",
    "        \"8-18\",\n",
    "        \"8-20\",\n",
    "        \"8-3\",\n",
    "        \"8-8\",\n",
    "        \"9-1\",\n",
    "        \"9-7\",\n",
    "    ],\n",
    "    \"labels_target\": [\n",
    "        \"1-10\",\n",
    "        \"1-12\",\n",
    "        \"1-14\",\n",
    "        \"1-16\",\n",
    "        \"1-18\",\n",
    "        \"1-19\",\n",
    "        \"1-8\",\n",
    "        \"10-11\",\n",
    "        \"10-17\",\n",
    "        \"10-4\",\n",
    "        \"10-7\",\n",
    "        \"11-1\",\n",
    "        \"11-10\",\n",
    "        \"11-19\",\n",
    "        \"11-20\",\n",
    "        \"11-4\",\n",
    "        \"11-7\",\n",
    "        \"12-19\",\n",
    "        \"12-20\",\n",
    "        \"12-7\",\n",
    "        \"13-14\",\n",
    "        \"13-18\",\n",
    "        \"13-19\",\n",
    "        \"13-20\",\n",
    "        \"13-3\",\n",
    "        \"13-7\",\n",
    "        \"14-10\",\n",
    "        \"14-11\",\n",
    "        \"14-12\",\n",
    "        \"14-13\",\n",
    "        \"14-14\",\n",
    "        \"14-19\",\n",
    "        \"14-20\",\n",
    "        \"14-7\",\n",
    "        \"14-8\",\n",
    "        \"14-9\",\n",
    "        \"15-1\",\n",
    "        \"15-19\",\n",
    "        \"15-6\",\n",
    "        \"16-1\",\n",
    "        \"16-16\",\n",
    "        \"16-19\",\n",
    "        \"16-20\",\n",
    "        \"17-10\",\n",
    "        \"17-11\",\n",
    "        \"18-1\",\n",
    "        \"18-10\",\n",
    "        \"18-11\",\n",
    "        \"18-12\",\n",
    "        \"18-13\",\n",
    "        \"18-14\",\n",
    "        \"18-15\",\n",
    "        \"18-16\",\n",
    "        \"18-17\",\n",
    "        \"18-19\",\n",
    "        \"18-2\",\n",
    "        \"18-20\",\n",
    "        \"18-4\",\n",
    "        \"18-5\",\n",
    "        \"18-7\",\n",
    "        \"18-8\",\n",
    "        \"18-9\",\n",
    "        \"19-1\",\n",
    "        \"19-10\",\n",
    "        \"19-11\",\n",
    "        \"19-12\",\n",
    "        \"19-13\",\n",
    "        \"19-14\",\n",
    "        \"19-15\",\n",
    "        \"19-19\",\n",
    "        \"19-2\",\n",
    "        \"19-20\",\n",
    "        \"19-3\",\n",
    "        \"19-4\",\n",
    "        \"19-6\",\n",
    "        \"19-7\",\n",
    "        \"19-8\",\n",
    "        \"19-9\",\n",
    "        \"2-1\",\n",
    "        \"2-13\",\n",
    "        \"2-15\",\n",
    "        \"2-3\",\n",
    "        \"2-4\",\n",
    "        \"2-5\",\n",
    "        \"2-6\",\n",
    "        \"2-7\",\n",
    "        \"2-8\",\n",
    "        \"20-1\",\n",
    "        \"20-12\",\n",
    "        \"20-14\",\n",
    "        \"20-15\",\n",
    "        \"20-16\",\n",
    "        \"20-18\",\n",
    "        \"20-19\",\n",
    "        \"20-20\",\n",
    "        \"20-3\",\n",
    "        \"20-4\",\n",
    "        \"20-5\",\n",
    "        \"20-7\",\n",
    "        \"20-8\",\n",
    "        \"3-1\",\n",
    "        \"3-13\",\n",
    "        \"3-18\",\n",
    "        \"3-2\",\n",
    "        \"3-8\",\n",
    "        \"4-1\",\n",
    "        \"4-10\",\n",
    "        \"4-11\",\n",
    "        \"5-1\",\n",
    "        \"5-5\",\n",
    "        \"6-1\",\n",
    "        \"6-15\",\n",
    "        \"6-6\",\n",
    "        \"7-10\",\n",
    "        \"7-11\",\n",
    "        \"7-12\",\n",
    "        \"7-13\",\n",
    "        \"7-14\",\n",
    "        \"7-7\",\n",
    "        \"7-8\",\n",
    "        \"7-9\",\n",
    "        \"8-1\",\n",
    "        \"8-13\",\n",
    "        \"8-14\",\n",
    "        \"8-18\",\n",
    "        \"8-20\",\n",
    "        \"8-3\",\n",
    "        \"8-8\",\n",
    "        \"9-1\",\n",
    "        \"9-7\",\n",
    "    ],\n",
    "    \"x_transforms_source\": [\"unit_mag\"],\n",
    "    \"x_transforms_target\": [\"unit_mag\"],\n",
    "    \"episode_transforms_source\": [],\n",
    "    \"episode_transforms_target\": [],\n",
    "    \"domains_source\": [3],\n",
    "    \"domains_target\": [1, 2, 4],\n",
    "    \"num_examples_per_domain_per_label_source\": 100,\n",
    "    \"num_examples_per_domain_per_label_target\": 100,\n",
    "    \"n_shot\": 3,\n",
    "    \"n_way\": 130,\n",
    "    \"n_query\": 2,\n",
    "    \"train_k_factor\": 3,\n",
    "    \"val_k_factor\": 2,\n",
    "    \"test_k_factor\": 2,\n",
    "    \"torch_default_dtype\": \"torch.float32\",\n",
    "    \"n_epoch\": 50,\n",
    "    \"patience\": 3,\n",
    "    \"criteria_for_best\": \"target_loss\",\n",
    "    \"x_net\": [\n",
    "        {\"class\": \"nnReshape\", \"kargs\": {\"shape\": [-1, 1, 2, 256]}},\n",
    "        {\n",
    "            \"class\": \"Conv2d\",\n",
    "            \"kargs\": {\n",
    "                \"in_channels\": 1,\n",
    "                \"out_channels\": 256,\n",
    "                \"kernel_size\": [1, 7],\n",
    "                \"bias\": False,\n",
    "                \"padding\": [0, 3],\n",
    "            },\n",
    "        },\n",
    "        {\"class\": \"ReLU\", \"kargs\": {\"inplace\": True}},\n",
    "        {\"class\": \"BatchNorm2d\", \"kargs\": {\"num_features\": 256}},\n",
    "        {\n",
    "            \"class\": \"Conv2d\",\n",
    "            \"kargs\": {\n",
    "                \"in_channels\": 256,\n",
    "                \"out_channels\": 80,\n",
    "                \"kernel_size\": [2, 7],\n",
    "                \"bias\": True,\n",
    "                \"padding\": [0, 3],\n",
    "            },\n",
    "        },\n",
    "        {\"class\": \"ReLU\", \"kargs\": {\"inplace\": True}},\n",
    "        {\"class\": \"BatchNorm2d\", \"kargs\": {\"num_features\": 80}},\n",
    "        {\"class\": \"Flatten\", \"kargs\": {}},\n",
    "        {\"class\": \"Linear\", \"kargs\": {\"in_features\": 20480, \"out_features\": 256}},\n",
    "        {\"class\": \"ReLU\", \"kargs\": {\"inplace\": True}},\n",
    "        {\"class\": \"BatchNorm1d\", \"kargs\": {\"num_features\": 256}},\n",
    "        {\"class\": \"Linear\", \"kargs\": {\"in_features\": 256, \"out_features\": 256}},\n",
    "    ],\n",
    "    \"NUM_LOGS_PER_EPOCH\": 10,\n",
    "    \"BEST_MODEL_PATH\": \"./best_model.pth\",\n",
    "    \"pickle_name\": \"wisig.node3-19.stratified_ds.2022A.pkl\",\n",
    "}\n"
   ]
  },
  {
   "cell_type": "code",
   "execution_count": 5,
   "id": "8fa1cc33",
   "metadata": {
    "execution": {
     "iopub.execute_input": "2022-03-06T00:55:23.407111Z",
     "iopub.status.busy": "2022-03-06T00:55:23.406367Z",
     "iopub.status.idle": "2022-03-06T00:55:23.418605Z",
     "shell.execute_reply": "2022-03-06T00:55:23.418178Z"
    },
    "papermill": {
     "duration": 0.026788,
     "end_time": "2022-03-06T00:55:23.418711",
     "exception": false,
     "start_time": "2022-03-06T00:55:23.391923",
     "status": "completed"
    },
    "tags": []
   },
   "outputs": [],
   "source": [
    "# Set this to True if you want to run this template directly\n",
    "STANDALONE = False\n",
    "if STANDALONE:\n",
    "    print(\"parameters not injected, running with standalone_parameters\")\n",
    "    parameters = standalone_parameters\n",
    "\n",
    "if not 'parameters' in locals() and not 'parameters' in globals():\n",
    "    raise Exception(\"Parameter injection failed\")\n",
    "\n",
    "#Use an easy dict for all the parameters\n",
    "p = EasyDict(parameters)\n",
    "\n",
    "supplied_keys = set(p.keys())\n",
    "\n",
    "if  supplied_keys != required_parameters:\n",
    "    print(\"Parameters are incorrect\")\n",
    "    if len(supplied_keys - required_parameters)>0: print(\"Shouldn't have:\", str(supplied_keys - required_parameters))\n",
    "    if len(required_parameters - supplied_keys)>0: print(\"Need to have:\", str(required_parameters - supplied_keys))\n",
    "    raise RuntimeError(\"Parameters are incorrect\")\n",
    "\n"
   ]
  },
  {
   "cell_type": "code",
   "execution_count": 6,
   "id": "3a028d58",
   "metadata": {
    "execution": {
     "iopub.execute_input": "2022-03-06T00:55:23.447562Z",
     "iopub.status.busy": "2022-03-06T00:55:23.442786Z",
     "iopub.status.idle": "2022-03-06T00:55:23.454352Z",
     "shell.execute_reply": "2022-03-06T00:55:23.454747Z"
    },
    "papermill": {
     "duration": 0.024129,
     "end_time": "2022-03-06T00:55:23.454865",
     "exception": false,
     "start_time": "2022-03-06T00:55:23.430736",
     "status": "completed"
    },
    "tags": []
   },
   "outputs": [],
   "source": [
    "###################################\n",
    "# Set the RNGs and make it all deterministic\n",
    "###################################\n",
    "np.random.seed(p.seed)\n",
    "random.seed(p.seed)\n",
    "torch.manual_seed(p.seed)\n",
    "\n",
    "torch.use_deterministic_algorithms(True) "
   ]
  },
  {
   "cell_type": "code",
   "execution_count": 7,
   "id": "b691acf6",
   "metadata": {
    "execution": {
     "iopub.execute_input": "2022-03-06T00:55:23.484561Z",
     "iopub.status.busy": "2022-03-06T00:55:23.480517Z",
     "iopub.status.idle": "2022-03-06T00:55:23.495112Z",
     "shell.execute_reply": "2022-03-06T00:55:23.494670Z"
    },
    "papermill": {
     "duration": 0.026313,
     "end_time": "2022-03-06T00:55:23.495211",
     "exception": false,
     "start_time": "2022-03-06T00:55:23.468898",
     "status": "completed"
    },
    "tags": []
   },
   "outputs": [],
   "source": [
    "###########################################\n",
    "# The stratified datasets honor this\n",
    "###########################################\n",
    "torch.set_default_dtype(eval(p.torch_default_dtype))"
   ]
  },
  {
   "cell_type": "code",
   "execution_count": 8,
   "id": "b5fba671",
   "metadata": {
    "execution": {
     "iopub.execute_input": "2022-03-06T00:55:23.518603Z",
     "iopub.status.busy": "2022-03-06T00:55:23.518351Z",
     "iopub.status.idle": "2022-03-06T00:55:23.556740Z",
     "shell.execute_reply": "2022-03-06T00:55:23.556220Z"
    },
    "papermill": {
     "duration": 0.049803,
     "end_time": "2022-03-06T00:55:23.556847",
     "exception": false,
     "start_time": "2022-03-06T00:55:23.507044",
     "status": "completed"
    },
    "tags": []
   },
   "outputs": [],
   "source": [
    "###################################\n",
    "# Build the network(s)\n",
    "# Note: It's critical to do this AFTER setting the RNG\n",
    "# (This is due to the randomized initial weights)\n",
    "###################################\n",
    "x_net = build_sequential(p.x_net)"
   ]
  },
  {
   "cell_type": "code",
   "execution_count": 9,
   "id": "5d7e61cc",
   "metadata": {
    "execution": {
     "iopub.execute_input": "2022-03-06T00:55:23.585365Z",
     "iopub.status.busy": "2022-03-06T00:55:23.585116Z",
     "iopub.status.idle": "2022-03-06T00:55:23.597348Z",
     "shell.execute_reply": "2022-03-06T00:55:23.597125Z"
    },
    "papermill": {
     "duration": 0.024157,
     "end_time": "2022-03-06T00:55:23.597404",
     "exception": false,
     "start_time": "2022-03-06T00:55:23.573247",
     "status": "completed"
    },
    "tags": []
   },
   "outputs": [],
   "source": [
    "start_time_secs = time.time()"
   ]
  },
  {
   "cell_type": "code",
   "execution_count": 10,
   "id": "fd5442bc",
   "metadata": {
    "execution": {
     "iopub.execute_input": "2022-03-06T00:55:23.631378Z",
     "iopub.status.busy": "2022-03-06T00:55:23.630993Z",
     "iopub.status.idle": "2022-03-06T00:55:29.058039Z",
     "shell.execute_reply": "2022-03-06T00:55:29.057575Z"
    },
    "papermill": {
     "duration": 5.446023,
     "end_time": "2022-03-06T00:55:29.058149",
     "exception": false,
     "start_time": "2022-03-06T00:55:23.612126",
     "status": "completed"
    },
    "tags": []
   },
   "outputs": [],
   "source": [
    "###################################\n",
    "# Build the dataset\n",
    "###################################\n",
    "\n",
    "if p.x_transforms_source == []: x_transform_source = None\n",
    "else: x_transform_source = get_chained_transform(p.x_transforms_source) \n",
    "\n",
    "if p.x_transforms_target == []: x_transform_target = None\n",
    "else: x_transform_target = get_chained_transform(p.x_transforms_target)\n",
    "\n",
    "if p.episode_transforms_source == []: episode_transform_source = None\n",
    "else: raise Exception(\"episode_transform_source not implemented\")\n",
    "\n",
    "if p.episode_transforms_target == []: episode_transform_target = None\n",
    "else: raise Exception(\"episode_transform_target not implemented\")\n",
    "\n",
    "\n",
    "eaf_source = Episodic_Accessor_Factory(\n",
    "    labels=p.labels_source,\n",
    "    domains=p.domains_source,\n",
    "    num_examples_per_domain_per_label=p.num_examples_per_domain_per_label_source,\n",
    "    iterator_seed=p.seed,\n",
    "    dataset_seed=p.dataset_seed,\n",
    "    n_shot=p.n_shot,\n",
    "    n_way=p.n_way,\n",
    "    n_query=p.n_query,\n",
    "    train_val_test_k_factors=(p.train_k_factor,p.val_k_factor,p.test_k_factor),\n",
    "    pickle_path=os.path.join(get_datasets_base_path(), p.pickle_name),\n",
    "    x_transform_func=x_transform_source,\n",
    "    example_transform_func=episode_transform_source,\n",
    "    \n",
    ")\n",
    "train_original_source, val_original_source, test_original_source = eaf_source.get_train(), eaf_source.get_val(), eaf_source.get_test()\n",
    "\n",
    "\n",
    "eaf_target = Episodic_Accessor_Factory(\n",
    "    labels=p.labels_target,\n",
    "    domains=p.domains_target,\n",
    "    num_examples_per_domain_per_label=p.num_examples_per_domain_per_label_target,\n",
    "    iterator_seed=p.seed,\n",
    "    dataset_seed=p.dataset_seed,\n",
    "    n_shot=p.n_shot,\n",
    "    n_way=p.n_way,\n",
    "    n_query=p.n_query,\n",
    "    train_val_test_k_factors=(p.train_k_factor,p.val_k_factor,p.test_k_factor),\n",
    "    pickle_path=os.path.join(get_datasets_base_path(), p.pickle_name),\n",
    "    x_transform_func=x_transform_target,\n",
    "    example_transform_func=episode_transform_target,\n",
    ")\n",
    "train_original_target, val_original_target, test_original_target = eaf_target.get_train(), eaf_target.get_val(), eaf_target.get_test()\n",
    "\n",
    "\n",
    "transform_lambda = lambda ex: ex[1] # Original is (<domain>, <episode>) so we strip down to episode only\n",
    "\n",
    "train_processed_source = Lazy_Iterable_Wrapper(train_original_source, transform_lambda)\n",
    "val_processed_source   = Lazy_Iterable_Wrapper(val_original_source, transform_lambda)\n",
    "test_processed_source  = Lazy_Iterable_Wrapper(test_original_source, transform_lambda)\n",
    "\n",
    "train_processed_target = Lazy_Iterable_Wrapper(train_original_target, transform_lambda)\n",
    "val_processed_target   = Lazy_Iterable_Wrapper(val_original_target, transform_lambda)\n",
    "test_processed_target  = Lazy_Iterable_Wrapper(test_original_target, transform_lambda)\n",
    "\n",
    "datasets = EasyDict({\n",
    "    \"source\": {\n",
    "        \"original\": {\"train\":train_original_source, \"val\":val_original_source, \"test\":test_original_source},\n",
    "        \"processed\": {\"train\":train_processed_source, \"val\":val_processed_source, \"test\":test_processed_source}\n",
    "    },\n",
    "    \"target\": {\n",
    "        \"original\": {\"train\":train_original_target, \"val\":val_original_target, \"test\":test_original_target},\n",
    "        \"processed\": {\"train\":train_processed_target, \"val\":val_processed_target, \"test\":test_processed_target}\n",
    "    },\n",
    "})"
   ]
  },
  {
   "cell_type": "code",
   "execution_count": 11,
   "id": "296189d9",
   "metadata": {
    "execution": {
     "iopub.execute_input": "2022-03-06T00:55:29.087621Z",
     "iopub.status.busy": "2022-03-06T00:55:29.086932Z",
     "iopub.status.idle": "2022-03-06T00:55:30.781710Z",
     "shell.execute_reply": "2022-03-06T00:55:30.781409Z"
    },
    "papermill": {
     "duration": 1.70904,
     "end_time": "2022-03-06T00:55:30.781773",
     "exception": false,
     "start_time": "2022-03-06T00:55:29.072733",
     "status": "completed"
    },
    "tags": []
   },
   "outputs": [
    {
     "name": "stdout",
     "output_type": "stream",
     "text": [
      "Visually inspect these to see if they line up with expected values given the transforms\n",
      "x_transforms_source ['unit_mag']\n",
      "x_transforms_target ['unit_mag']\n",
      "Average magnitude, source: 1.0\n",
      "Average power, source: 1.2166004\n"
     ]
    },
    {
     "name": "stdout",
     "output_type": "stream",
     "text": [
      "Average magnitude, target: 1.0\n",
      "Average power, target: 1.2480206\n"
     ]
    }
   ],
   "source": [
    "# Some quick unit tests on the data\n",
    "from steves_utils.transforms import get_average_power, get_average_magnitude\n",
    "\n",
    "q_x, q_y, s_x, s_y, truth = next(iter(train_processed_source))\n",
    "\n",
    "assert q_x.dtype == eval(p.torch_default_dtype)\n",
    "assert s_x.dtype == eval(p.torch_default_dtype)\n",
    "\n",
    "print(\"Visually inspect these to see if they line up with expected values given the transforms\")\n",
    "print('x_transforms_source', p.x_transforms_source)\n",
    "print('x_transforms_target', p.x_transforms_target)\n",
    "print(\"Average magnitude, source:\", get_average_magnitude(q_x[0].numpy()))\n",
    "print(\"Average power, source:\", get_average_power(q_x[0].numpy()))\n",
    "\n",
    "q_x, q_y, s_x, s_y, truth = next(iter(train_processed_target))\n",
    "print(\"Average magnitude, target:\", get_average_magnitude(q_x[0].numpy()))\n",
    "print(\"Average power, target:\", get_average_power(q_x[0].numpy()))\n"
   ]
  },
  {
   "cell_type": "code",
   "execution_count": 12,
   "id": "bbdacba1",
   "metadata": {
    "execution": {
     "iopub.execute_input": "2022-03-06T00:55:30.808900Z",
     "iopub.status.busy": "2022-03-06T00:55:30.808490Z",
     "iopub.status.idle": "2022-03-06T00:55:30.870809Z",
     "shell.execute_reply": "2022-03-06T00:55:30.871029Z"
    },
    "papermill": {
     "duration": 0.076027,
     "end_time": "2022-03-06T00:55:30.871108",
     "exception": false,
     "start_time": "2022-03-06T00:55:30.795081",
     "status": "completed"
    },
    "tags": []
   },
   "outputs": [
    {
     "name": "stdout",
     "output_type": "stream",
     "text": [
      "(2, 256)\n"
     ]
    }
   ],
   "source": [
    "###################################\n",
    "# Build the model\n",
    "###################################\n",
    "model = Steves_Prototypical_Network(x_net, device=p.device, x_shape=(2,256))\n",
    "optimizer = Adam(params=model.parameters(), lr=p.lr)"
   ]
  },
  {
   "cell_type": "code",
   "execution_count": 13,
   "id": "22b39ac5",
   "metadata": {
    "execution": {
     "iopub.execute_input": "2022-03-06T00:55:30.895036Z",
     "iopub.status.busy": "2022-03-06T00:55:30.894609Z",
     "iopub.status.idle": "2022-03-06T00:57:01.975777Z",
     "shell.execute_reply": "2022-03-06T00:57:01.975540Z"
    },
    "papermill": {
     "duration": 91.093901,
     "end_time": "2022-03-06T00:57:01.975836",
     "exception": false,
     "start_time": "2022-03-06T00:55:30.881935",
     "status": "completed"
    },
    "tags": []
   },
   "outputs": [
    {
     "name": "stdout",
     "output_type": "stream",
     "text": [
      "epoch: 1, [batch: 1 / 42], examples_per_second: 2256.4962, train_label_loss: 4.5127, \n"
     ]
    },
    {
     "name": "stdout",
     "output_type": "stream",
     "text": [
      "epoch: 1, [batch: 5 / 42], examples_per_second: 3953.6757, train_label_loss: 2.7258, \n"
     ]
    },
    {
     "name": "stdout",
     "output_type": "stream",
     "text": [
      "epoch: 1, [batch: 9 / 42], examples_per_second: 3970.4385, train_label_loss: 1.6909, \n"
     ]
    },
    {
     "name": "stdout",
     "output_type": "stream",
     "text": [
      "epoch: 1, [batch: 13 / 42], examples_per_second: 3973.2999, train_label_loss: 1.6573, \n"
     ]
    },
    {
     "name": "stdout",
     "output_type": "stream",
     "text": [
      "epoch: 1, [batch: 17 / 42], examples_per_second: 3943.3735, train_label_loss: 1.1495, \n"
     ]
    },
    {
     "name": "stdout",
     "output_type": "stream",
     "text": [
      "epoch: 1, [batch: 21 / 42], examples_per_second: 3925.6266, train_label_loss: 1.1915, \n"
     ]
    },
    {
     "name": "stdout",
     "output_type": "stream",
     "text": [
      "epoch: 1, [batch: 25 / 42], examples_per_second: 3964.2048, train_label_loss: 1.3031, \n"
     ]
    },
    {
     "name": "stdout",
     "output_type": "stream",
     "text": [
      "epoch: 1, [batch: 29 / 42], examples_per_second: 3956.6709, train_label_loss: 1.0496, \n"
     ]
    },
    {
     "name": "stdout",
     "output_type": "stream",
     "text": [
      "epoch: 1, [batch: 33 / 42], examples_per_second: 3976.9978, train_label_loss: 1.0051, \n"
     ]
    },
    {
     "name": "stdout",
     "output_type": "stream",
     "text": [
      "epoch: 1, [batch: 37 / 42], examples_per_second: 4052.2192, train_label_loss: 1.0662, \n"
     ]
    },
    {
     "name": "stdout",
     "output_type": "stream",
     "text": [
      "=============================================================\n",
      "epoch: 1, source_val_acc_label: 0.8269, target_val_acc_label: 0.7609, source_val_label_loss: 1.0061, target_val_label_loss: 1.2836, \n",
      "=============================================================\n"
     ]
    },
    {
     "name": "stdout",
     "output_type": "stream",
     "text": [
      "New best\n"
     ]
    },
    {
     "name": "stdout",
     "output_type": "stream",
     "text": [
      "epoch: 2, [batch: 1 / 42], examples_per_second: 519.6298, train_label_loss: 0.8479, \n"
     ]
    },
    {
     "name": "stdout",
     "output_type": "stream",
     "text": [
      "epoch: 2, [batch: 5 / 42], examples_per_second: 4033.5142, train_label_loss: 0.8919, \n"
     ]
    },
    {
     "name": "stdout",
     "output_type": "stream",
     "text": [
      "epoch: 2, [batch: 9 / 42], examples_per_second: 4049.7136, train_label_loss: 0.6162, \n"
     ]
    },
    {
     "name": "stdout",
     "output_type": "stream",
     "text": [
      "epoch: 2, [batch: 13 / 42], examples_per_second: 4022.5815, train_label_loss: 0.7495, \n"
     ]
    },
    {
     "name": "stdout",
     "output_type": "stream",
     "text": [
      "epoch: 2, [batch: 17 / 42], examples_per_second: 4040.3990, train_label_loss: 0.5690, \n"
     ]
    },
    {
     "name": "stdout",
     "output_type": "stream",
     "text": [
      "epoch: 2, [batch: 21 / 42], examples_per_second: 4034.1826, train_label_loss: 0.8035, \n"
     ]
    },
    {
     "name": "stdout",
     "output_type": "stream",
     "text": [
      "epoch: 2, [batch: 25 / 42], examples_per_second: 4045.5612, train_label_loss: 0.5491, \n"
     ]
    },
    {
     "name": "stdout",
     "output_type": "stream",
     "text": [
      "epoch: 2, [batch: 29 / 42], examples_per_second: 4040.1385, train_label_loss: 0.4838, \n"
     ]
    },
    {
     "name": "stdout",
     "output_type": "stream",
     "text": [
      "epoch: 2, [batch: 33 / 42], examples_per_second: 4100.7332, train_label_loss: 0.6321, \n"
     ]
    },
    {
     "name": "stdout",
     "output_type": "stream",
     "text": [
      "epoch: 2, [batch: 37 / 42], examples_per_second: 4142.4391, train_label_loss: 0.3640, \n"
     ]
    },
    {
     "name": "stdout",
     "output_type": "stream",
     "text": [
      "=============================================================\n",
      "epoch: 2, source_val_acc_label: 0.8891, target_val_acc_label: 0.8056, source_val_label_loss: 0.6042, target_val_label_loss: 1.0173, \n",
      "=============================================================\n"
     ]
    },
    {
     "name": "stdout",
     "output_type": "stream",
     "text": [
      "New best\n"
     ]
    },
    {
     "name": "stdout",
     "output_type": "stream",
     "text": [
      "epoch: 3, [batch: 1 / 42], examples_per_second: 514.6221, train_label_loss: 0.4129, \n"
     ]
    },
    {
     "name": "stdout",
     "output_type": "stream",
     "text": [
      "epoch: 3, [batch: 5 / 42], examples_per_second: 4033.6813, train_label_loss: 0.4305, \n"
     ]
    },
    {
     "name": "stdout",
     "output_type": "stream",
     "text": [
      "epoch: 3, [batch: 9 / 42], examples_per_second: 4057.4010, train_label_loss: 0.4284, \n"
     ]
    },
    {
     "name": "stdout",
     "output_type": "stream",
     "text": [
      "epoch: 3, [batch: 13 / 42], examples_per_second: 4062.9701, train_label_loss: 0.3620, \n"
     ]
    },
    {
     "name": "stdout",
     "output_type": "stream",
     "text": [
      "epoch: 3, [batch: 17 / 42], examples_per_second: 4045.7503, train_label_loss: 0.2748, \n"
     ]
    },
    {
     "name": "stdout",
     "output_type": "stream",
     "text": [
      "epoch: 3, [batch: 21 / 42], examples_per_second: 4040.6400, train_label_loss: 0.2207, \n"
     ]
    },
    {
     "name": "stdout",
     "output_type": "stream",
     "text": [
      "epoch: 3, [batch: 25 / 42], examples_per_second: 4060.5177, train_label_loss: 0.3479, \n"
     ]
    },
    {
     "name": "stdout",
     "output_type": "stream",
     "text": [
      "epoch: 3, [batch: 29 / 42], examples_per_second: 4056.8048, train_label_loss: 0.2265, \n"
     ]
    },
    {
     "name": "stdout",
     "output_type": "stream",
     "text": [
      "epoch: 3, [batch: 33 / 42], examples_per_second: 4101.9610, train_label_loss: 0.1930, \n"
     ]
    },
    {
     "name": "stdout",
     "output_type": "stream",
     "text": [
      "epoch: 3, [batch: 37 / 42], examples_per_second: 4138.2435, train_label_loss: 0.1933, \n"
     ]
    },
    {
     "name": "stdout",
     "output_type": "stream",
     "text": [
      "=============================================================\n",
      "epoch: 3, source_val_acc_label: 0.8981, target_val_acc_label: 0.8218, source_val_label_loss: 0.5457, target_val_label_loss: 0.9610, \n",
      "=============================================================\n"
     ]
    },
    {
     "name": "stdout",
     "output_type": "stream",
     "text": [
      "New best\n"
     ]
    },
    {
     "name": "stdout",
     "output_type": "stream",
     "text": [
      "epoch: 4, [batch: 1 / 42], examples_per_second: 510.6258, train_label_loss: 0.2067, \n"
     ]
    },
    {
     "name": "stdout",
     "output_type": "stream",
     "text": [
      "epoch: 4, [batch: 5 / 42], examples_per_second: 4039.5010, train_label_loss: 0.2751, \n"
     ]
    },
    {
     "name": "stdout",
     "output_type": "stream",
     "text": [
      "epoch: 4, [batch: 9 / 42], examples_per_second: 4049.0084, train_label_loss: 0.2895, \n"
     ]
    },
    {
     "name": "stdout",
     "output_type": "stream",
     "text": [
      "epoch: 4, [batch: 13 / 42], examples_per_second: 4051.9662, train_label_loss: 0.3244, \n"
     ]
    },
    {
     "name": "stdout",
     "output_type": "stream",
     "text": [
      "epoch: 4, [batch: 17 / 42], examples_per_second: 4063.0563, train_label_loss: 0.1962, \n"
     ]
    },
    {
     "name": "stdout",
     "output_type": "stream",
     "text": [
      "epoch: 4, [batch: 21 / 42], examples_per_second: 4034.3289, train_label_loss: 0.3627, \n"
     ]
    },
    {
     "name": "stdout",
     "output_type": "stream",
     "text": [
      "epoch: 4, [batch: 25 / 42], examples_per_second: 4047.1196, train_label_loss: 0.3153, \n"
     ]
    },
    {
     "name": "stdout",
     "output_type": "stream",
     "text": [
      "epoch: 4, [batch: 29 / 42], examples_per_second: 4054.2017, train_label_loss: 0.2795, \n"
     ]
    },
    {
     "name": "stdout",
     "output_type": "stream",
     "text": [
      "epoch: 4, [batch: 33 / 42], examples_per_second: 4090.6547, train_label_loss: 0.2623, \n"
     ]
    },
    {
     "name": "stdout",
     "output_type": "stream",
     "text": [
      "epoch: 4, [batch: 37 / 42], examples_per_second: 4149.6364, train_label_loss: 0.1749, \n"
     ]
    },
    {
     "name": "stdout",
     "output_type": "stream",
     "text": [
      "=============================================================\n",
      "epoch: 4, source_val_acc_label: 0.9000, target_val_acc_label: 0.8197, source_val_label_loss: 0.5159, target_val_label_loss: 0.9583, \n",
      "=============================================================\n"
     ]
    },
    {
     "name": "stdout",
     "output_type": "stream",
     "text": [
      "New best\n"
     ]
    },
    {
     "name": "stdout",
     "output_type": "stream",
     "text": [
      "epoch: 5, [batch: 1 / 42], examples_per_second: 511.5119, train_label_loss: 0.1130, \n"
     ]
    },
    {
     "name": "stdout",
     "output_type": "stream",
     "text": [
      "epoch: 5, [batch: 5 / 42], examples_per_second: 4033.3113, train_label_loss: 0.1851, \n"
     ]
    },
    {
     "name": "stdout",
     "output_type": "stream",
     "text": [
      "epoch: 5, [batch: 9 / 42], examples_per_second: 4050.5620, train_label_loss: 0.2231, \n"
     ]
    },
    {
     "name": "stdout",
     "output_type": "stream",
     "text": [
      "epoch: 5, [batch: 13 / 42], examples_per_second: 4059.7090, train_label_loss: 0.1678, \n"
     ]
    },
    {
     "name": "stdout",
     "output_type": "stream",
     "text": [
      "epoch: 5, [batch: 17 / 42], examples_per_second: 4063.9694, train_label_loss: 0.1572, \n"
     ]
    },
    {
     "name": "stdout",
     "output_type": "stream",
     "text": [
      "epoch: 5, [batch: 21 / 42], examples_per_second: 4029.5750, train_label_loss: 0.0947, \n"
     ]
    },
    {
     "name": "stdout",
     "output_type": "stream",
     "text": [
      "epoch: 5, [batch: 25 / 42], examples_per_second: 4060.0400, train_label_loss: 0.0948, \n"
     ]
    },
    {
     "name": "stdout",
     "output_type": "stream",
     "text": [
      "epoch: 5, [batch: 29 / 42], examples_per_second: 4070.8173, train_label_loss: 0.2452, \n"
     ]
    },
    {
     "name": "stdout",
     "output_type": "stream",
     "text": [
      "epoch: 5, [batch: 33 / 42], examples_per_second: 4101.7388, train_label_loss: 0.0928, \n"
     ]
    },
    {
     "name": "stdout",
     "output_type": "stream",
     "text": [
      "epoch: 5, [batch: 37 / 42], examples_per_second: 4139.7422, train_label_loss: 0.1317, \n"
     ]
    },
    {
     "name": "stdout",
     "output_type": "stream",
     "text": [
      "=============================================================\n",
      "epoch: 5, source_val_acc_label: 0.9051, target_val_acc_label: 0.8280, source_val_label_loss: 0.5273, target_val_label_loss: 0.9561, \n",
      "=============================================================\n"
     ]
    },
    {
     "name": "stdout",
     "output_type": "stream",
     "text": [
      "New best\n"
     ]
    },
    {
     "name": "stdout",
     "output_type": "stream",
     "text": [
      "epoch: 6, [batch: 1 / 42], examples_per_second: 511.0331, train_label_loss: 0.0792, \n"
     ]
    },
    {
     "name": "stdout",
     "output_type": "stream",
     "text": [
      "epoch: 6, [batch: 5 / 42], examples_per_second: 4023.1039, train_label_loss: 0.1367, \n"
     ]
    },
    {
     "name": "stdout",
     "output_type": "stream",
     "text": [
      "epoch: 6, [batch: 9 / 42], examples_per_second: 4051.4649, train_label_loss: 0.2232, \n"
     ]
    },
    {
     "name": "stdout",
     "output_type": "stream",
     "text": [
      "epoch: 6, [batch: 13 / 42], examples_per_second: 4054.0028, train_label_loss: 0.1829, \n"
     ]
    },
    {
     "name": "stdout",
     "output_type": "stream",
     "text": [
      "epoch: 6, [batch: 17 / 42], examples_per_second: 4040.8990, train_label_loss: 0.1017, \n"
     ]
    },
    {
     "name": "stdout",
     "output_type": "stream",
     "text": [
      "epoch: 6, [batch: 21 / 42], examples_per_second: 4025.2779, train_label_loss: 0.0639, \n"
     ]
    },
    {
     "name": "stdout",
     "output_type": "stream",
     "text": [
      "epoch: 6, [batch: 25 / 42], examples_per_second: 4043.4806, train_label_loss: 0.0852, \n"
     ]
    },
    {
     "name": "stdout",
     "output_type": "stream",
     "text": [
      "epoch: 6, [batch: 29 / 42], examples_per_second: 4044.0564, train_label_loss: 0.0913, \n"
     ]
    },
    {
     "name": "stdout",
     "output_type": "stream",
     "text": [
      "epoch: 6, [batch: 33 / 42], examples_per_second: 4085.4978, train_label_loss: 0.1731, \n"
     ]
    },
    {
     "name": "stdout",
     "output_type": "stream",
     "text": [
      "epoch: 6, [batch: 37 / 42], examples_per_second: 4139.6369, train_label_loss: 0.0857, \n"
     ]
    },
    {
     "name": "stdout",
     "output_type": "stream",
     "text": [
      "=============================================================\n",
      "epoch: 6, source_val_acc_label: 0.8987, target_val_acc_label: 0.8177, source_val_label_loss: 0.5414, target_val_label_loss: 1.0276, \n",
      "=============================================================\n"
     ]
    },
    {
     "name": "stdout",
     "output_type": "stream",
     "text": [
      "epoch: 7, [batch: 1 / 42], examples_per_second: 527.3221, train_label_loss: 0.0636, \n"
     ]
    },
    {
     "name": "stdout",
     "output_type": "stream",
     "text": [
      "epoch: 7, [batch: 5 / 42], examples_per_second: 4036.7840, train_label_loss: 0.0962, \n"
     ]
    },
    {
     "name": "stdout",
     "output_type": "stream",
     "text": [
      "epoch: 7, [batch: 9 / 42], examples_per_second: 4059.0155, train_label_loss: 0.0559, \n"
     ]
    },
    {
     "name": "stdout",
     "output_type": "stream",
     "text": [
      "epoch: 7, [batch: 13 / 42], examples_per_second: 4064.3405, train_label_loss: 0.0550, \n"
     ]
    },
    {
     "name": "stdout",
     "output_type": "stream",
     "text": [
      "epoch: 7, [batch: 17 / 42], examples_per_second: 3997.8277, train_label_loss: 0.1547, \n"
     ]
    },
    {
     "name": "stdout",
     "output_type": "stream",
     "text": [
      "epoch: 7, [batch: 21 / 42], examples_per_second: 4018.7451, train_label_loss: 0.0484, \n"
     ]
    },
    {
     "name": "stdout",
     "output_type": "stream",
     "text": [
      "epoch: 7, [batch: 25 / 42], examples_per_second: 4027.7295, train_label_loss: 0.0983, \n"
     ]
    },
    {
     "name": "stdout",
     "output_type": "stream",
     "text": [
      "epoch: 7, [batch: 29 / 42], examples_per_second: 4046.1180, train_label_loss: 0.0454, \n"
     ]
    },
    {
     "name": "stdout",
     "output_type": "stream",
     "text": [
      "epoch: 7, [batch: 33 / 42], examples_per_second: 4095.2632, train_label_loss: 0.0689, \n"
     ]
    },
    {
     "name": "stdout",
     "output_type": "stream",
     "text": [
      "epoch: 7, [batch: 37 / 42], examples_per_second: 4145.7572, train_label_loss: 0.0890, \n"
     ]
    },
    {
     "name": "stdout",
     "output_type": "stream",
     "text": [
      "=============================================================\n",
      "epoch: 7, source_val_acc_label: 0.9051, target_val_acc_label: 0.8331, source_val_label_loss: 0.5185, target_val_label_loss: 0.9551, \n",
      "=============================================================\n"
     ]
    },
    {
     "name": "stdout",
     "output_type": "stream",
     "text": [
      "New best\n"
     ]
    },
    {
     "name": "stdout",
     "output_type": "stream",
     "text": [
      "epoch: 8, [batch: 1 / 42], examples_per_second: 510.5566, train_label_loss: 0.0411, \n"
     ]
    },
    {
     "name": "stdout",
     "output_type": "stream",
     "text": [
      "epoch: 8, [batch: 5 / 42], examples_per_second: 3989.4328, train_label_loss: 0.0574, \n"
     ]
    },
    {
     "name": "stdout",
     "output_type": "stream",
     "text": [
      "epoch: 8, [batch: 9 / 42], examples_per_second: 4041.6508, train_label_loss: 0.0348, \n"
     ]
    },
    {
     "name": "stdout",
     "output_type": "stream",
     "text": [
      "epoch: 8, [batch: 13 / 42], examples_per_second: 4064.4980, train_label_loss: 0.0970, \n"
     ]
    },
    {
     "name": "stdout",
     "output_type": "stream",
     "text": [
      "epoch: 8, [batch: 17 / 42], examples_per_second: 4056.5377, train_label_loss: 0.0516, \n"
     ]
    },
    {
     "name": "stdout",
     "output_type": "stream",
     "text": [
      "epoch: 8, [batch: 21 / 42], examples_per_second: 4040.1565, train_label_loss: 0.1094, \n"
     ]
    },
    {
     "name": "stdout",
     "output_type": "stream",
     "text": [
      "epoch: 8, [batch: 25 / 42], examples_per_second: 4066.7276, train_label_loss: 0.0378, \n"
     ]
    },
    {
     "name": "stdout",
     "output_type": "stream",
     "text": [
      "epoch: 8, [batch: 29 / 42], examples_per_second: 4055.3023, train_label_loss: 0.0325, \n"
     ]
    },
    {
     "name": "stdout",
     "output_type": "stream",
     "text": [
      "epoch: 8, [batch: 33 / 42], examples_per_second: 4095.8739, train_label_loss: 0.0742, \n"
     ]
    },
    {
     "name": "stdout",
     "output_type": "stream",
     "text": [
      "epoch: 8, [batch: 37 / 42], examples_per_second: 4145.3837, train_label_loss: 0.0727, \n"
     ]
    },
    {
     "name": "stdout",
     "output_type": "stream",
     "text": [
      "=============================================================\n",
      "epoch: 8, source_val_acc_label: 0.9103, target_val_acc_label: 0.8297, source_val_label_loss: 0.5300, target_val_label_loss: 1.0492, \n",
      "=============================================================\n"
     ]
    },
    {
     "name": "stdout",
     "output_type": "stream",
     "text": [
      "epoch: 9, [batch: 1 / 42], examples_per_second: 530.4449, train_label_loss: 0.0313, \n"
     ]
    },
    {
     "name": "stdout",
     "output_type": "stream",
     "text": [
      "epoch: 9, [batch: 5 / 42], examples_per_second: 4026.1800, train_label_loss: 0.0287, \n"
     ]
    },
    {
     "name": "stdout",
     "output_type": "stream",
     "text": [
      "epoch: 9, [batch: 9 / 42], examples_per_second: 4061.7367, train_label_loss: 0.1069, \n"
     ]
    },
    {
     "name": "stdout",
     "output_type": "stream",
     "text": [
      "epoch: 9, [batch: 13 / 42], examples_per_second: 4054.3509, train_label_loss: 0.0143, \n"
     ]
    },
    {
     "name": "stdout",
     "output_type": "stream",
     "text": [
      "epoch: 9, [batch: 17 / 42], examples_per_second: 4017.4082, train_label_loss: 0.0376, \n"
     ]
    },
    {
     "name": "stdout",
     "output_type": "stream",
     "text": [
      "epoch: 9, [batch: 21 / 42], examples_per_second: 4034.1349, train_label_loss: 0.0161, \n"
     ]
    },
    {
     "name": "stdout",
     "output_type": "stream",
     "text": [
      "epoch: 9, [batch: 25 / 42], examples_per_second: 4046.1781, train_label_loss: 0.0616, \n"
     ]
    },
    {
     "name": "stdout",
     "output_type": "stream",
     "text": [
      "epoch: 9, [batch: 29 / 42], examples_per_second: 4047.3734, train_label_loss: 0.0854, \n"
     ]
    },
    {
     "name": "stdout",
     "output_type": "stream",
     "text": [
      "epoch: 9, [batch: 33 / 42], examples_per_second: 4098.8497, train_label_loss: 0.0844, \n"
     ]
    },
    {
     "name": "stdout",
     "output_type": "stream",
     "text": [
      "epoch: 9, [batch: 37 / 42], examples_per_second: 4131.7415, train_label_loss: 0.1441, \n"
     ]
    },
    {
     "name": "stdout",
     "output_type": "stream",
     "text": [
      "=============================================================\n",
      "epoch: 9, source_val_acc_label: 0.9032, target_val_acc_label: 0.8152, source_val_label_loss: 0.5597, target_val_label_loss: 1.0653, \n",
      "=============================================================\n"
     ]
    },
    {
     "name": "stdout",
     "output_type": "stream",
     "text": [
      "epoch: 10, [batch: 1 / 42], examples_per_second: 529.3554, train_label_loss: 0.1041, \n"
     ]
    },
    {
     "name": "stdout",
     "output_type": "stream",
     "text": [
      "epoch: 10, [batch: 5 / 42], examples_per_second: 4021.6573, train_label_loss: 0.0489, \n"
     ]
    },
    {
     "name": "stdout",
     "output_type": "stream",
     "text": [
      "epoch: 10, [batch: 9 / 42], examples_per_second: 4065.9665, train_label_loss: 0.0546, \n"
     ]
    },
    {
     "name": "stdout",
     "output_type": "stream",
     "text": [
      "epoch: 10, [batch: 13 / 42], examples_per_second: 4057.8736, train_label_loss: 0.0312, \n"
     ]
    },
    {
     "name": "stdout",
     "output_type": "stream",
     "text": [
      "epoch: 10, [batch: 17 / 42], examples_per_second: 4050.1227, train_label_loss: 0.0519, \n"
     ]
    },
    {
     "name": "stdout",
     "output_type": "stream",
     "text": [
      "epoch: 10, [batch: 21 / 42], examples_per_second: 4047.1481, train_label_loss: 0.1721, \n"
     ]
    },
    {
     "name": "stdout",
     "output_type": "stream",
     "text": [
      "epoch: 10, [batch: 25 / 42], examples_per_second: 4054.9147, train_label_loss: 0.0450, \n"
     ]
    },
    {
     "name": "stdout",
     "output_type": "stream",
     "text": [
      "epoch: 10, [batch: 29 / 42], examples_per_second: 4050.8193, train_label_loss: 0.0705, \n"
     ]
    },
    {
     "name": "stdout",
     "output_type": "stream",
     "text": [
      "epoch: 10, [batch: 33 / 42], examples_per_second: 4103.7377, train_label_loss: 0.0166, \n"
     ]
    },
    {
     "name": "stdout",
     "output_type": "stream",
     "text": [
      "epoch: 10, [batch: 37 / 42], examples_per_second: 4136.5812, train_label_loss: 0.0534, \n"
     ]
    },
    {
     "name": "stdout",
     "output_type": "stream",
     "text": [
      "=============================================================\n",
      "epoch: 10, source_val_acc_label: 0.9006, target_val_acc_label: 0.8278, source_val_label_loss: 0.5899, target_val_label_loss: 1.0943, \n",
      "=============================================================\n"
     ]
    },
    {
     "name": "stdout",
     "output_type": "stream",
     "text": [
      "epoch: 11, [batch: 1 / 42], examples_per_second: 528.6276, train_label_loss: 0.0194, \n"
     ]
    },
    {
     "name": "stdout",
     "output_type": "stream",
     "text": [
      "epoch: 11, [batch: 5 / 42], examples_per_second: 4023.1811, train_label_loss: 0.1251, \n"
     ]
    },
    {
     "name": "stdout",
     "output_type": "stream",
     "text": [
      "epoch: 11, [batch: 9 / 42], examples_per_second: 4043.2842, train_label_loss: 0.0732, \n"
     ]
    },
    {
     "name": "stdout",
     "output_type": "stream",
     "text": [
      "epoch: 11, [batch: 13 / 42], examples_per_second: 4033.0860, train_label_loss: 0.0770, \n"
     ]
    },
    {
     "name": "stdout",
     "output_type": "stream",
     "text": [
      "epoch: 11, [batch: 17 / 42], examples_per_second: 4040.3047, train_label_loss: 0.1081, \n"
     ]
    },
    {
     "name": "stdout",
     "output_type": "stream",
     "text": [
      "epoch: 11, [batch: 21 / 42], examples_per_second: 4025.6821, train_label_loss: 0.0608, \n"
     ]
    },
    {
     "name": "stdout",
     "output_type": "stream",
     "text": [
      "epoch: 11, [batch: 25 / 42], examples_per_second: 4040.3646, train_label_loss: 0.0232, \n"
     ]
    },
    {
     "name": "stdout",
     "output_type": "stream",
     "text": [
      "epoch: 11, [batch: 29 / 42], examples_per_second: 4040.2104, train_label_loss: 0.0962, \n"
     ]
    },
    {
     "name": "stdout",
     "output_type": "stream",
     "text": [
      "epoch: 11, [batch: 33 / 42], examples_per_second: 4089.3048, train_label_loss: 0.0294, \n"
     ]
    },
    {
     "name": "stdout",
     "output_type": "stream",
     "text": [
      "epoch: 11, [batch: 37 / 42], examples_per_second: 4130.4880, train_label_loss: 0.1103, \n"
     ]
    },
    {
     "name": "stdout",
     "output_type": "stream",
     "text": [
      "=============================================================\n",
      "epoch: 11, source_val_acc_label: 0.9083, target_val_acc_label: 0.8132, source_val_label_loss: 0.5911, target_val_label_loss: 1.2118, \n",
      "=============================================================\n"
     ]
    },
    {
     "name": "stdout",
     "output_type": "stream",
     "text": [
      "Patience (3) exhausted\n"
     ]
    }
   ],
   "source": [
    "###################################\n",
    "# train\n",
    "###################################\n",
    "jig = PTN_Train_Eval_Test_Jig(model, p.BEST_MODEL_PATH, p.device)\n",
    "\n",
    "jig.train(\n",
    "    train_iterable=datasets.source.processed.train,\n",
    "    source_val_iterable=datasets.source.processed.val,\n",
    "    target_val_iterable=datasets.target.processed.val,\n",
    "    num_epochs=p.n_epoch,\n",
    "    num_logs_per_epoch=p.NUM_LOGS_PER_EPOCH,\n",
    "    patience=p.patience,\n",
    "    optimizer=optimizer,\n",
    "    criteria_for_best=p.criteria_for_best,\n",
    ")"
   ]
  },
  {
   "cell_type": "code",
   "execution_count": 14,
   "id": "31e8fabf",
   "metadata": {
    "execution": {
     "iopub.execute_input": "2022-03-06T00:57:02.050843Z",
     "iopub.status.busy": "2022-03-06T00:57:02.044193Z",
     "iopub.status.idle": "2022-03-06T00:57:02.060722Z",
     "shell.execute_reply": "2022-03-06T00:57:02.060282Z"
    },
    "papermill": {
     "duration": 0.052414,
     "end_time": "2022-03-06T00:57:02.060828",
     "exception": false,
     "start_time": "2022-03-06T00:57:02.008414",
     "status": "completed"
    },
    "tags": []
   },
   "outputs": [],
   "source": [
    "total_experiment_time_secs = time.time() - start_time_secs"
   ]
  },
  {
   "cell_type": "code",
   "execution_count": 15,
   "id": "87b9595b",
   "metadata": {
    "execution": {
     "iopub.execute_input": "2022-03-06T00:57:02.138276Z",
     "iopub.status.busy": "2022-03-06T00:57:02.138004Z",
     "iopub.status.idle": "2022-03-06T00:57:08.971769Z",
     "shell.execute_reply": "2022-03-06T00:57:08.972165Z"
    },
    "papermill": {
     "duration": 6.873769,
     "end_time": "2022-03-06T00:57:08.972294",
     "exception": false,
     "start_time": "2022-03-06T00:57:02.098525",
     "status": "completed"
    },
    "tags": []
   },
   "outputs": [],
   "source": [
    "###################################\n",
    "# Evaluate the model\n",
    "###################################\n",
    "source_test_label_accuracy, source_test_label_loss = jig.test(datasets.source.processed.test)\n",
    "target_test_label_accuracy, target_test_label_loss = jig.test(datasets.target.processed.test)\n",
    "\n",
    "source_val_label_accuracy, source_val_label_loss = jig.test(datasets.source.processed.val)\n",
    "target_val_label_accuracy, target_val_label_loss = jig.test(datasets.target.processed.val)\n",
    "\n",
    "history = jig.get_history()\n",
    "\n",
    "total_epochs_trained = len(history[\"epoch_indices\"])\n",
    "\n",
    "val_dl = Iterable_Aggregator((datasets.source.original.val,datasets.target.original.val))\n",
    "\n",
    "confusion = ptn_confusion_by_domain_over_dataloader(model, p.device, val_dl)\n",
    "per_domain_accuracy = per_domain_accuracy_from_confusion(confusion)\n",
    "\n",
    "# Add a key to per_domain_accuracy for if it was a source domain\n",
    "for domain, accuracy in per_domain_accuracy.items():\n",
    "    per_domain_accuracy[domain] = {\n",
    "        \"accuracy\": accuracy,\n",
    "        \"source?\": domain in p.domains_source\n",
    "    }\n",
    "\n",
    "# Do an independent accuracy assesment JUST TO BE SURE!\n",
    "# _source_test_label_accuracy = independent_accuracy_assesment(model, datasets.source.processed.test, p.device)\n",
    "# _target_test_label_accuracy = independent_accuracy_assesment(model, datasets.target.processed.test, p.device)\n",
    "# _source_val_label_accuracy = independent_accuracy_assesment(model, datasets.source.processed.val, p.device)\n",
    "# _target_val_label_accuracy = independent_accuracy_assesment(model, datasets.target.processed.val, p.device)\n",
    "\n",
    "# assert(_source_test_label_accuracy == source_test_label_accuracy)\n",
    "# assert(_target_test_label_accuracy == target_test_label_accuracy)\n",
    "# assert(_source_val_label_accuracy == source_val_label_accuracy)\n",
    "# assert(_target_val_label_accuracy == target_val_label_accuracy)\n",
    "\n",
    "experiment = {\n",
    "    \"experiment_name\": p.experiment_name,\n",
    "    \"parameters\": dict(p),\n",
    "    \"results\": {\n",
    "        \"source_test_label_accuracy\": source_test_label_accuracy,\n",
    "        \"source_test_label_loss\": source_test_label_loss,\n",
    "        \"target_test_label_accuracy\": target_test_label_accuracy,\n",
    "        \"target_test_label_loss\": target_test_label_loss,\n",
    "        \"source_val_label_accuracy\": source_val_label_accuracy,\n",
    "        \"source_val_label_loss\": source_val_label_loss,\n",
    "        \"target_val_label_accuracy\": target_val_label_accuracy,\n",
    "        \"target_val_label_loss\": target_val_label_loss,\n",
    "        \"total_epochs_trained\": total_epochs_trained,\n",
    "        \"total_experiment_time_secs\": total_experiment_time_secs,\n",
    "        \"confusion\": confusion,\n",
    "        \"per_domain_accuracy\": per_domain_accuracy,\n",
    "    },\n",
    "    \"history\": history,\n",
    "    \"dataset_metrics\": get_dataset_metrics(datasets, \"ptn\"),\n",
    "}"
   ]
  },
  {
   "cell_type": "code",
   "execution_count": 16,
   "id": "54a21829",
   "metadata": {
    "execution": {
     "iopub.execute_input": "2022-03-06T00:57:09.044204Z",
     "iopub.status.busy": "2022-03-06T00:57:09.043949Z",
     "iopub.status.idle": "2022-03-06T00:57:09.224835Z",
     "shell.execute_reply": "2022-03-06T00:57:09.225252Z"
    },
    "papermill": {
     "duration": 0.215936,
     "end_time": "2022-03-06T00:57:09.225381",
     "exception": false,
     "start_time": "2022-03-06T00:57:09.009445",
     "status": "completed"
    },
    "tags": []
   },
   "outputs": [
    {
     "data": {
      "image/png": "[encoded data removed]",
      "text/plain": [
       "<Figure size 1080x504 with 1 Axes>"
      ]
     },
     "metadata": {
      "needs_background": "light"
     },
     "output_type": "display_data"
    }
   ],
   "source": [
    "ax = get_loss_curve(experiment)\n",
    "plt.show()"
   ]
  },
  {
   "cell_type": "code",
   "execution_count": 17,
   "id": "fd8a0f60",
   "metadata": {
    "execution": {
     "iopub.execute_input": "2022-03-06T00:57:09.300127Z",
     "iopub.status.busy": "2022-03-06T00:57:09.299513Z",
     "iopub.status.idle": "2022-03-06T00:57:09.480050Z",
     "shell.execute_reply": "2022-03-06T00:57:09.480468Z"
    },
    "papermill": {
     "duration": 0.216614,
     "end_time": "2022-03-06T00:57:09.480598",
     "exception": false,
     "start_time": "2022-03-06T00:57:09.263984",
     "status": "completed"
    },
    "tags": []
   },
   "outputs": [
    {
     "data": {
      "text/plain": [
       "<matplotlib.axes._subplots.AxesSubplot at 0x7f8094713a90>"
      ]
     },
     "execution_count": 17,
     "metadata": {},
     "output_type": "execute_result"
    },
    {
     "data": {
      "image/png": "[encoded data removed]",
      "text/plain": [
       "<Figure size 1080x504 with 1 Axes>"
      ]
     },
     "metadata": {
      "needs_background": "light"
     },
     "output_type": "display_data"
    }
   ],
   "source": [
    "get_results_table(experiment)"
   ]
  },
  {
   "cell_type": "code",
   "execution_count": 18,
   "id": "cf8dc689",
   "metadata": {
    "execution": {
     "iopub.execute_input": "2022-03-06T00:57:09.556176Z",
     "iopub.status.busy": "2022-03-06T00:57:09.555920Z",
     "iopub.status.idle": "2022-03-06T00:57:09.732247Z",
     "shell.execute_reply": "2022-03-06T00:57:09.731742Z"
    },
    "papermill": {
     "duration": 0.21305,
     "end_time": "2022-03-06T00:57:09.732355",
     "exception": false,
     "start_time": "2022-03-06T00:57:09.519305",
     "status": "completed"
    },
    "tags": []
   },
   "outputs": [
    {
     "data": {
      "text/plain": [
       "<matplotlib.axes._subplots.AxesSubplot at 0x7f8094708910>"
      ]
     },
     "execution_count": 18,
     "metadata": {},
     "output_type": "execute_result"
    },
    {
     "data": {
      "image/png": "[encoded data removed]",
      "text/plain": [
       "<Figure size 1080x504 with 1 Axes>"
      ]
     },
     "metadata": {
      "needs_background": "light"
     },
     "output_type": "display_data"
    }
   ],
   "source": [
    "get_domain_accuracies(experiment)"
   ]
  },
  {
   "cell_type": "code",
   "execution_count": 19,
   "id": "a74ae082",
   "metadata": {
    "execution": {
     "iopub.execute_input": "2022-03-06T00:57:09.810906Z",
     "iopub.status.busy": "2022-03-06T00:57:09.810319Z",
     "iopub.status.idle": "2022-03-06T00:57:09.825124Z",
     "shell.execute_reply": "2022-03-06T00:57:09.824633Z"
    },
    "papermill": {
     "duration": 0.053471,
     "end_time": "2022-03-06T00:57:09.825228",
     "exception": false,
     "start_time": "2022-03-06T00:57:09.771757",
     "status": "completed"
    },
    "tags": []
   },
   "outputs": [
    {
     "name": "stdout",
     "output_type": "stream",
     "text": [
      "Source Test Label Accuracy: 0.9282051282051282 Target Test Label Accuracy: 0.8331196581196582\n",
      "Source Val Label Accuracy: 0.9051282051282051 Target Val Label Accuracy: 0.8331196581196582\n"
     ]
    }
   ],
   "source": [
    "print(\"Source Test Label Accuracy:\", experiment[\"results\"][\"source_test_label_accuracy\"], \"Target Test Label Accuracy:\", experiment[\"results\"][\"target_test_label_accuracy\"])\n",
    "print(\"Source Val Label Accuracy:\", experiment[\"results\"][\"source_val_label_accuracy\"], \"Target Val Label Accuracy:\", experiment[\"results\"][\"target_val_label_accuracy\"])"
   ]
  },
  {
   "cell_type": "code",
   "execution_count": 20,
   "id": "dacca602",
   "metadata": {
    "execution": {
     "iopub.execute_input": "2022-03-06T00:57:09.903891Z",
     "iopub.status.busy": "2022-03-06T00:57:09.903637Z",
     "iopub.status.idle": "2022-03-06T00:57:09.919039Z",
     "shell.execute_reply": "2022-03-06T00:57:09.918529Z"
    },
    "papermill": {
     "duration": 0.053194,
     "end_time": "2022-03-06T00:57:09.919142",
     "exception": false,
     "start_time": "2022-03-06T00:57:09.865948",
     "status": "completed"
    },
    "tags": [
     "experiment_json"
    ]
   },
   "outputs": [
    {
     "data": {
      "text/plain": [
       "'{\"experiment_name\": \"tuned_1_wisig\", \"parameters\": {\"experiment_name\": \"tuned_1_wisig\", \"device\": \"cuda\", \"lr\": 0.001, \"seed\": 1337, \"dataset_seed\": 1337, \"labels_source\": [\"1-10\", \"1-12\", \"1-14\", \"1-16\", \"1-18\", \"1-19\", \"1-8\", \"10-11\", \"10-17\", \"10-4\", \"10-7\", \"11-1\", \"11-10\", \"11-19\", \"11-20\", \"11-4\", \"11-7\", \"12-19\", \"12-20\", \"12-7\", \"13-14\", \"13-18\", \"13-19\", \"13-20\", \"13-3\", \"13-7\", \"14-10\", \"14-11\", \"14-12\", \"14-13\", \"14-14\", \"14-19\", \"14-20\", \"14-7\", \"14-8\", \"14-9\", \"15-1\", \"15-19\", \"15-6\", \"16-1\", \"16-16\", \"16-19\", \"16-20\", \"17-10\", \"17-11\", \"18-1\", \"18-10\", \"18-11\", \"18-12\", \"18-13\", \"18-14\", \"18-15\", \"18-16\", \"18-17\", \"18-19\", \"18-2\", \"18-20\", \"18-4\", \"18-5\", \"18-7\", \"18-8\", \"18-9\", \"19-1\", \"19-10\", \"19-11\", \"19-12\", \"19-13\", \"19-14\", \"19-15\", \"19-19\", \"19-2\", \"19-20\", \"19-3\", \"19-4\", \"19-6\", \"19-7\", \"19-8\", \"19-9\", \"2-1\", \"2-13\", \"2-15\", \"2-3\", \"2-4\", \"2-5\", \"2-6\", \"2-7\", \"2-8\", \"20-1\", \"20-12\", \"20-14\", \"20-15\", \"20-16\", \"20-18\", \"20-19\", \"20-20\", \"20-3\", \"20-4\", \"20-5\", \"20-7\", \"20-8\", \"3-1\", \"3-13\", \"3-18\", \"3-2\", \"3-8\", \"4-1\", \"4-10\", \"4-11\", \"5-1\", \"5-5\", \"6-1\", \"6-15\", \"6-6\", \"7-10\", \"7-11\", \"7-12\", \"7-13\", \"7-14\", \"7-7\", \"7-8\", \"7-9\", \"8-1\", \"8-13\", \"8-14\", \"8-18\", \"8-20\", \"8-3\", \"8-8\", \"9-1\", \"9-7\"], \"labels_target\": [\"1-10\", \"1-12\", \"1-14\", \"1-16\", \"1-18\", \"1-19\", \"1-8\", \"10-11\", \"10-17\", \"10-4\", \"10-7\", \"11-1\", \"11-10\", \"11-19\", \"11-20\", \"11-4\", \"11-7\", \"12-19\", \"12-20\", \"12-7\", \"13-14\", \"13-18\", \"13-19\", \"13-20\", \"13-3\", \"13-7\", \"14-10\", \"14-11\", \"14-12\", \"14-13\", \"14-14\", \"14-19\", \"14-20\", \"14-7\", \"14-8\", \"14-9\", \"15-1\", \"15-19\", \"15-6\", \"16-1\", \"16-16\", \"16-19\", \"16-20\", \"17-10\", \"17-11\", \"18-1\", \"18-10\", \"18-11\", \"18-12\", \"18-13\", \"18-14\", \"18-15\", \"18-16\", \"18-17\", \"18-19\", \"18-2\", \"18-20\", \"18-4\", \"18-5\", \"18-7\", \"18-8\", \"18-9\", \"19-1\", \"19-10\", \"19-11\", \"19-12\", \"19-13\", \"19-14\", \"19-15\", \"19-19\", \"19-2\", \"19-20\", \"19-3\", \"19-4\", \"19-6\", \"19-7\", \"19-8\", \"19-9\", \"2-1\", \"2-13\", \"2-15\", \"2-3\", \"2-4\", \"2-5\", \"2-6\", \"2-7\", \"2-8\", \"20-1\", \"20-12\", \"20-14\", \"20-15\", \"20-16\", \"20-18\", \"20-19\", \"20-20\", \"20-3\", \"20-4\", \"20-5\", \"20-7\", \"20-8\", \"3-1\", \"3-13\", \"3-18\", \"3-2\", \"3-8\", \"4-1\", \"4-10\", \"4-11\", \"5-1\", \"5-5\", \"6-1\", \"6-15\", \"6-6\", \"7-10\", \"7-11\", \"7-12\", \"7-13\", \"7-14\", \"7-7\", \"7-8\", \"7-9\", \"8-1\", \"8-13\", \"8-14\", \"8-18\", \"8-20\", \"8-3\", \"8-8\", \"9-1\", \"9-7\"], \"x_transforms_source\": [\"unit_mag\"], \"x_transforms_target\": [\"unit_mag\"], \"episode_transforms_source\": [], \"episode_transforms_target\": [], \"domains_source\": [3], \"domains_target\": [1, 2, 4], \"num_examples_per_domain_per_label_source\": 100, \"num_examples_per_domain_per_label_target\": 100, \"n_shot\": 3, \"n_way\": 130, \"n_query\": 2, \"train_k_factor\": 3, \"val_k_factor\": 2, \"test_k_factor\": 2, \"torch_default_dtype\": \"torch.float32\", \"n_epoch\": 50, \"patience\": 3, \"criteria_for_best\": \"target_loss\", \"x_net\": [{\"class\": \"nnReshape\", \"kargs\": {\"shape\": [-1, 1, 2, 256]}}, {\"class\": \"Conv2d\", \"kargs\": {\"in_channels\": 1, \"out_channels\": 256, \"kernel_size\": [1, 7], \"bias\": false, \"padding\": [0, 3]}}, {\"class\": \"ReLU\", \"kargs\": {\"inplace\": true}}, {\"class\": \"BatchNorm2d\", \"kargs\": {\"num_features\": 256}}, {\"class\": \"Conv2d\", \"kargs\": {\"in_channels\": 256, \"out_channels\": 80, \"kernel_size\": [2, 7], \"bias\": true, \"padding\": [0, 3]}}, {\"class\": \"ReLU\", \"kargs\": {\"inplace\": true}}, {\"class\": \"BatchNorm2d\", \"kargs\": {\"num_features\": 80}}, {\"class\": \"Flatten\", \"kargs\": {}}, {\"class\": \"Linear\", \"kargs\": {\"in_features\": 20480, \"out_features\": 256}}, {\"class\": \"ReLU\", \"kargs\": {\"inplace\": true}}, {\"class\": \"BatchNorm1d\", \"kargs\": {\"num_features\": 256}}, {\"class\": \"Linear\", \"kargs\": {\"in_features\": 256, \"out_features\": 256}}], \"NUM_LOGS_PER_EPOCH\": 10, \"BEST_MODEL_PATH\": \"./best_model.pth\", \"pickle_name\": \"wisig.node3-19.stratified_ds.2022A.pkl\"}, \"results\": {\"source_test_label_accuracy\": 0.9282051282051282, \"source_test_label_loss\": 0.3828829228878021, \"target_test_label_accuracy\": 0.8331196581196582, \"target_test_label_loss\": 0.9838457107543945, \"source_val_label_accuracy\": 0.9051282051282051, \"source_val_label_loss\": 0.5184977054595947, \"target_val_label_accuracy\": 0.8331196581196582, \"target_val_label_loss\": 0.9551466107368469, \"total_epochs_trained\": 11, \"total_experiment_time_secs\": 98.46283674240112, \"confusion\": {\"3\": {\"29\": {\"29\": 11, \"30\": 1}, \"123\": {\"123\": 12}, \"116\": {\"116\": 12}, \"25\": {\"25\": 12}, \"60\": {\"60\": 8, \"11\": 1, \"70\": 2, \"47\": 1}, \"88\": {\"88\": 9, \"108\": 2, \"20\": 1}, \"0\": {\"0\": 12}, \"77\": {\"77\": 11, \"13\": 1}, \"96\": {\"96\": 12}, \"3\": {\"3\": 11, \"13\": 1}, \"5\": {\"5\": 11, \"78\": 1}, \"89\": {\"89\": 12}, \"117\": {\"117\": 12}, \"78\": {\"78\": 2, \"21\": 4, \"99\": 1, \"122\": 2, \"87\": 2, \"84\": 1}, \"57\": {\"57\": 12}, \"90\": {\"90\": 12}, \"43\": {\"121\": 1, \"43\": 7, \"113\": 2, \"78\": 1, \"13\": 1}, \"50\": {\"50\": 12}, \"49\": {\"6\": 1, \"49\": 6, \"112\": 5}, \"61\": {\"61\": 12}, \"4\": {\"4\": 12}, \"67\": {\"67\": 12}, \"59\": {\"59\": 12}, \"118\": {\"118\": 12}, \"80\": {\"80\": 8, \"29\": 1, \"64\": 1, \"31\": 2}, \"75\": {\"75\": 12}, \"99\": {\"99\": 9, \"34\": 1, \"37\": 2}, \"111\": {\"111\": 11, \"35\": 1}, \"11\": {\"11\": 12}, \"76\": {\"76\": 11, \"121\": 1}, \"102\": {\"102\": 12}, \"44\": {\"44\": 12}, \"30\": {\"30\": 12}, \"6\": {\"6\": 9, \"3\": 1, \"56\": 1, \"34\": 1}, \"16\": {\"16\": 11, \"11\": 1}, \"79\": {\"79\": 12}, \"39\": {\"39\": 12}, \"101\": {\"101\": 12}, \"9\": {\"9\": 12}, \"109\": {\"109\": 9, \"62\": 2, \"13\": 1}, \"91\": {\"91\": 12}, \"129\": {\"129\": 12}, \"33\": {\"33\": 12}, \"113\": {\"113\": 12}, \"7\": {\"7\": 12}, \"82\": {\"82\": 11, \"13\": 1}, \"52\": {\"52\": 12}, \"93\": {\"93\": 12}, \"24\": {\"24\": 8, \"27\": 2, \"97\": 1, \"8\": 1}, \"26\": {\"26\": 12}, \"28\": {\"28\": 12}, \"85\": {\"85\": 12}, \"110\": {\"110\": 11, \"70\": 1}, \"119\": {\"119\": 12}, \"108\": {\"108\": 9, \"85\": 1, \"70\": 1, \"112\": 1}, \"53\": {\"53\": 11, \"85\": 1}, \"105\": {\"105\": 11, \"4\": 1}, \"103\": {\"103\": 12}, \"69\": {\"69\": 11, \"45\": 1}, \"23\": {\"23\": 11, \"123\": 1}, \"2\": {\"2\": 12}, \"66\": {\"66\": 12}, \"71\": {\"71\": 12}, \"122\": {\"122\": 10, \"105\": 1, \"23\": 1}, \"87\": {\"87\": 11, \"33\": 1}, \"8\": {\"8\": 10, \"108\": 1, \"24\": 1}, \"127\": {\"127\": 12}, \"40\": {\"40\": 12}, \"126\": {\"126\": 7, \"81\": 1, \"18\": 1, \"69\": 1, \"39\": 1, \"17\": 1}, \"12\": {\"12\": 12}, \"83\": {\"83\": 12}, \"81\": {\"81\": 10, \"97\": 1, \"106\": 1}, \"19\": {\"19\": 12}, \"125\": {\"125\": 12}, \"128\": {\"128\": 12}, \"22\": {\"22\": 12}, \"21\": {\"21\": 9, \"43\": 2, \"113\": 1}, \"42\": {\"42\": 12}, \"38\": {\"38\": 12}, \"72\": {\"72\": 12}, \"86\": {\"86\": 12}, \"1\": {\"1\": 12}, \"58\": {\"58\": 12}, \"46\": {\"46\": 12}, \"48\": {\"48\": 12}, \"34\": {\"34\": 8, \"56\": 1, \"116\": 3}, \"55\": {\"55\": 12}, \"94\": {\"94\": 11, \"97\": 1}, \"114\": {\"114\": 11, \"97\": 1}, \"97\": {\"97\": 11, \"94\": 1}, \"107\": {\"107\": 12}, \"68\": {\"68\": 12}, \"64\": {\"64\": 11, \"80\": 1}, \"13\": {\"13\": 7, \"21\": 3, \"17\": 1, \"78\": 1}, \"115\": {\"115\": 11, \"97\": 1}, \"62\": {\"62\": 11, \"109\": 1}, \"51\": {\"51\": 12}, \"98\": {\"98\": 12}, \"45\": {\"45\": 9, \"115\": 2, \"17\": 1}, \"74\": {\"74\": 10, \"57\": 1, \"24\": 1}, \"112\": {\"17\": 1, \"112\": 10, \"13\": 1}, \"41\": {\"41\": 12}, \"32\": {\"32\": 9, \"45\": 2, \"11\": 1}, \"104\": {\"104\": 12}, \"65\": {\"65\": 12}, \"54\": {\"54\": 10, \"27\": 2}, \"20\": {\"20\": 10, \"88\": 2}, \"124\": {\"124\": 10, \"11\": 1, \"32\": 1}, \"121\": {\"121\": 10, \"70\": 1, \"49\": 1}, \"106\": {\"106\": 10, \"72\": 2}, \"18\": {\"18\": 12}, \"17\": {\"17\": 8, \"104\": 1, \"86\": 2, \"67\": 1}, \"73\": {\"73\": 12}, \"70\": {\"70\": 5, \"88\": 1, \"110\": 2, \"73\": 2, \"128\": 1, \"108\": 1}, \"92\": {\"92\": 10, \"101\": 2}, \"15\": {\"15\": 11, \"106\": 1}, \"14\": {\"14\": 12}, \"84\": {\"84\": 12}, \"37\": {\"37\": 12}, \"120\": {\"120\": 12}, \"27\": {\"36\": 7, \"27\": 4, \"24\": 1}, \"35\": {\"35\": 5, \"65\": 2, \"0\": 4, \"10\": 1}, \"95\": {\"95\": 12}, \"31\": {\"31\": 12}, \"63\": {\"63\": 12}, \"47\": {\"47\": 11, \"23\": 1}, \"100\": {\"100\": 11, \"60\": 1}, \"56\": {\"56\": 11, \"6\": 1}, \"36\": {\"36\": 9, \"24\": 1, \"27\": 2}, \"10\": {\"10\": 10, \"17\": 1, \"35\": 1}}, \"2\": {\"117\": {\"117\": 12}, \"78\": {\"78\": 8, \"107\": 2, \"70\": 1, \"43\": 1}, \"88\": {\"100\": 1, \"123\": 1, \"88\": 4, \"126\": 2, \"16\": 1, \"96\": 1, \"93\": 1, \"78\": 1}, \"5\": {\"5\": 12}, \"89\": {\"89\": 10, \"92\": 2}, \"25\": {\"19\": 2, \"25\": 10}, \"61\": {\"61\": 7, \"21\": 1, \"36\": 2, \"22\": 2}, \"0\": {\"0\": 11, \"101\": 1}, \"103\": {\"103\": 12}, \"28\": {\"28\": 5, \"45\": 1, \"34\": 3, \"61\": 1, \"37\": 2}, \"3\": {\"3\": 9, \"128\": 2, \"47\": 1}, \"43\": {\"84\": 1, \"43\": 5, \"17\": 1, \"70\": 2, \"78\": 3}, \"30\": {\"51\": 1, \"101\": 1, \"30\": 8, \"15\": 2}, \"59\": {\"59\": 11, \"23\": 1}, \"79\": {\"79\": 7, \"103\": 3, \"68\": 2}, \"83\": {\"83\": 12}, \"115\": {\"115\": 12}, \"62\": {\"62\": 12}, \"26\": {\"26\": 12}, \"50\": {\"50\": 8, \"55\": 4}, \"40\": {\"40\": 12}, \"4\": {\"4\": 12}, \"68\": {\"68\": 12}, \"49\": {\"49\": 6, \"11\": 3, \"45\": 1, \"112\": 1, \"47\": 1}, \"51\": {\"75\": 4, \"47\": 1, \"58\": 1, \"51\": 4, \"54\": 1, \"97\": 1}, \"44\": {\"44\": 12}, \"76\": {\"76\": 12}, \"127\": {\"127\": 12}, \"97\": {\"97\": 9, \"15\": 3}, \"119\": {\"119\": 12}, \"77\": {\"77\": 12}, \"33\": {\"33\": 12}, \"99\": {\"99\": 12}, \"124\": {\"124\": 12}, \"6\": {\"6\": 5, \"97\": 1, \"91\": 1, \"51\": 3, \"34\": 2}, \"112\": {\"112\": 5, \"53\": 1, \"42\": 2, \"126\": 2, \"41\": 1, \"128\": 1}, \"53\": {\"53\": 8, \"97\": 1, \"78\": 1, \"49\": 2}, \"110\": {\"110\": 8, \"122\": 4}, \"11\": {\"11\": 9, \"49\": 3}, \"9\": {\"9\": 12}, \"20\": {\"20\": 10, \"126\": 1, \"99\": 1}, \"114\": {\"114\": 12}, \"10\": {\"10\": 5, \"7\": 1, \"17\": 1, \"105\": 3, \"115\": 1, \"57\": 1}, \"86\": {\"86\": 12}, \"118\": {\"118\": 11, \"31\": 1}, \"7\": {\"7\": 12}, \"92\": {\"89\": 6, \"92\": 4, \"17\": 1, \"59\": 1}, \"18\": {\"18\": 12}, \"94\": {\"94\": 10, \"72\": 1, \"88\": 1}, \"60\": {\"60\": 7, \"116\": 1, \"85\": 1, \"53\": 1, \"70\": 2}, \"81\": {\"81\": 12}, \"29\": {\"29\": 11, \"121\": 1}, \"109\": {\"39\": 3, \"81\": 2, \"14\": 1, \"109\": 3, \"70\": 2, \"29\": 1}, \"80\": {\"80\": 12}, \"120\": {\"120\": 12}, \"122\": {\"122\": 8, \"110\": 4}, \"106\": {\"106\": 12}, \"55\": {\"55\": 10, \"92\": 2}, \"104\": {\"104\": 12}, \"70\": {\"70\": 3, \"78\": 3, \"33\": 5, \"43\": 1}, \"24\": {\"24\": 5, \"36\": 3, \"115\": 1, \"51\": 1, \"94\": 2}, \"2\": {\"2\": 12}, \"67\": {\"118\": 1, \"67\": 7, \"80\": 2, \"100\": 1, \"61\": 1}, \"72\": {\"72\": 12}, \"91\": {\"79\": 1, \"6\": 1, \"91\": 6, \"103\": 2, \"29\": 1, \"75\": 1}, \"116\": {\"43\": 1, \"116\": 7, \"57\": 2, \"87\": 1, \"60\": 1}, \"8\": {\"8\": 8, \"113\": 1, \"11\": 1, \"128\": 1, \"80\": 1}, \"128\": {\"30\": 1, \"128\": 3, \"97\": 2, \"110\": 2, \"59\": 1, \"8\": 1, \"3\": 1, \"114\": 1}, \"41\": {\"41\": 11, \"72\": 1}, \"113\": {\"113\": 9, \"30\": 1, \"17\": 1, \"14\": 1}, \"12\": {\"12\": 7, \"111\": 1, \"127\": 1, \"122\": 1, \"45\": 1, \"128\": 1}, \"90\": {\"90\": 12}, \"82\": {\"82\": 12}, \"111\": {\"111\": 12}, \"85\": {\"85\": 12}, \"37\": {\"37\": 12}, \"23\": {\"23\": 12}, \"22\": {\"22\": 11, \"61\": 1}, \"102\": {\"102\": 12}, \"39\": {\"39\": 7, \"109\": 2, \"18\": 2, \"21\": 1}, \"101\": {\"101\": 11, \"0\": 1}, \"87\": {\"87\": 8, \"123\": 1, \"112\": 1, \"23\": 1, \"78\": 1}, \"1\": {\"1\": 12}, \"58\": {\"58\": 12}, \"47\": {\"47\": 10, \"59\": 2}, \"126\": {\"126\": 8, \"100\": 1, \"16\": 1, \"112\": 1, \"47\": 1}, \"34\": {\"28\": 2, \"34\": 8, \"57\": 1, \"37\": 1}, \"56\": {\"78\": 1, \"56\": 9, \"30\": 1, \"15\": 1}, \"95\": {\"95\": 11, \"47\": 1}, \"65\": {\"65\": 11, \"74\": 1}, \"98\": {\"98\": 12}, \"123\": {\"123\": 12}, \"69\": {\"69\": 12}, \"108\": {\"108\": 11, \"24\": 1}, \"13\": {\"13\": 12}, \"15\": {\"15\": 11, \"97\": 1}, \"125\": {\"125\": 12}, \"52\": {\"52\": 12}, \"46\": {\"46\": 12}, \"45\": {\"45\": 12}, \"75\": {\"75\": 9, \"42\": 1, \"9\": 2}, \"73\": {\"73\": 12}, \"42\": {\"42\": 11, \"24\": 1}, \"32\": {\"32\": 6, \"104\": 2, \"28\": 1, \"8\": 1, \"107\": 1, \"72\": 1}, \"105\": {\"105\": 12}, \"66\": {\"66\": 12}, \"54\": {\"54\": 12}, \"21\": {\"78\": 2, \"7\": 2, \"21\": 7, \"109\": 1}, \"64\": {\"64\": 12}, \"35\": {\"65\": 3, \"35\": 9}, \"107\": {\"107\": 12}, \"19\": {\"95\": 1, \"19\": 8, \"82\": 3}, \"17\": {\"17\": 8, \"79\": 2, \"39\": 1, \"78\": 1}, \"74\": {\"74\": 11, \"104\": 1}, \"71\": {\"78\": 1, \"71\": 6, \"128\": 1, \"3\": 4}, \"93\": {\"93\": 10, \"16\": 2}, \"16\": {\"16\": 9, \"47\": 1, \"93\": 2}, \"14\": {\"14\": 10, \"115\": 1, \"13\": 1}, \"84\": {\"36\": 1, \"84\": 9, \"43\": 2}, \"38\": {\"38\": 12}, \"121\": {\"121\": 9, \"45\": 1, \"29\": 1, \"77\": 1}, \"27\": {\"36\": 6, \"27\": 6}, \"129\": {\"129\": 12}, \"96\": {\"96\": 11, \"60\": 1}, \"31\": {\"31\": 11, \"61\": 1}, \"63\": {\"63\": 12}, \"48\": {\"48\": 12}, \"100\": {\"100\": 12}, \"57\": {\"57\": 9, \"43\": 1, \"60\": 1, \"74\": 1}, \"36\": {\"36\": 9, \"27\": 1, \"24\": 2}}, \"4\": {\"73\": {\"73\": 11, \"23\": 1}, \"29\": {\"29\": 12}, \"60\": {\"60\": 9, \"53\": 1, \"74\": 2}, \"50\": {\"50\": 10, \"21\": 1, \"113\": 1}, \"96\": {\"96\": 10, \"39\": 2}, \"64\": {\"64\": 12}, \"99\": {\"50\": 1, \"78\": 3, \"110\": 1, \"99\": 6, \"122\": 1}, \"0\": {\"0\": 10, \"101\": 2}, \"20\": {\"20\": 12}, \"51\": {\"103\": 1, \"125\": 1, \"58\": 3, \"59\": 2, \"21\": 1, \"51\": 1, \"92\": 1, \"82\": 1, \"23\": 1}, \"123\": {\"123\": 12}, \"83\": {\"83\": 11, \"22\": 1}, \"57\": {\"57\": 12}, \"33\": {\"33\": 7, \"96\": 1, \"19\": 1, \"1\": 3}, \"17\": {\"17\": 12}, \"62\": {\"62\": 11, \"29\": 1}, \"4\": {\"4\": 9, \"95\": 3}, \"18\": {\"18\": 12}, \"10\": {\"30\": 1, \"10\": 6, \"15\": 4, \"72\": 1}, \"102\": {\"102\": 12}, \"110\": {\"110\": 9, \"99\": 2, \"122\": 1}, \"68\": {\"68\": 12}, \"70\": {\"13\": 1, \"73\": 1, \"108\": 2, \"70\": 5, \"5\": 2, \"53\": 1}, \"86\": {\"86\": 11, \"101\": 1}, \"107\": {\"107\": 12}, \"21\": {\"100\": 1, \"21\": 7, \"0\": 1, \"23\": 1, \"122\": 1, \"65\": 1}, \"119\": {\"119\": 12}, \"85\": {\"91\": 1, \"85\": 8, \"122\": 2, \"41\": 1}, \"66\": {\"74\": 1, \"66\": 8, \"38\": 2, \"90\": 1}, \"124\": {\"124\": 12}, \"116\": {\"116\": 8, \"89\": 2, \"74\": 2}, \"71\": {\"71\": 10, \"78\": 1, \"23\": 1}, \"129\": {\"129\": 12}, \"105\": {\"87\": 5, \"105\": 5, \"43\": 1, \"23\": 1}, \"93\": {\"93\": 11, \"23\": 1}, \"48\": {\"48\": 12}, \"30\": {\"30\": 9, \"77\": 1, \"6\": 1, \"10\": 1}, \"36\": {\"24\": 2, \"36\": 9, \"97\": 1}, \"103\": {\"103\": 10, \"21\": 1, \"113\": 1}, \"67\": {\"67\": 4, \"27\": 1, \"129\": 1, \"63\": 3, \"24\": 1, \"69\": 2}, \"42\": {\"42\": 11, \"9\": 1}, \"100\": {\"100\": 12}, \"28\": {\"28\": 12}, \"23\": {\"23\": 1, \"8\": 1, \"108\": 1, \"128\": 1, \"123\": 5, \"58\": 1, \"29\": 1, \"126\": 1}, \"49\": {\"53\": 4, \"49\": 8}, \"38\": {\"38\": 12}, \"128\": {\"99\": 1, \"7\": 3, \"128\": 6, \"74\": 2}, \"118\": {\"118\": 12}, \"101\": {\"0\": 2, \"101\": 10}, \"79\": {\"79\": 11, \"11\": 1}, \"52\": {\"52\": 10, \"13\": 1, \"111\": 1}, \"6\": {\"6\": 12}, \"95\": {\"95\": 10, \"33\": 1, \"127\": 1}, \"54\": {\"54\": 11, \"97\": 1}, \"26\": {\"26\": 12}, \"69\": {\"69\": 12}, \"114\": {\"114\": 12}, \"97\": {\"54\": 2, \"36\": 4, \"30\": 1, \"97\": 3, \"10\": 1, \"15\": 1}, \"87\": {\"87\": 6, \"99\": 1, \"43\": 2, \"78\": 1, \"105\": 2}, \"1\": {\"1\": 9, \"74\": 1, \"98\": 1, \"99\": 1}, \"34\": {\"34\": 9, \"56\": 1, \"6\": 1, \"47\": 1}, \"19\": {\"19\": 12}, \"27\": {\"27\": 7, \"9\": 3, \"93\": 1, \"24\": 1}, \"5\": {\"5\": 11, \"11\": 1}, \"24\": {\"24\": 2, \"36\": 6, \"8\": 1, \"32\": 1, \"97\": 2}, \"126\": {\"126\": 9, \"39\": 3}, \"56\": {\"56\": 9, \"57\": 2, \"19\": 1}, \"59\": {\"59\": 10, \"74\": 1, \"6\": 1}, \"127\": {\"127\": 9, \"68\": 1, \"4\": 1, \"108\": 1}, \"44\": {\"44\": 12}, \"77\": {\"77\": 11, \"34\": 1}, \"80\": {\"80\": 12}, \"98\": {\"98\": 12}, \"122\": {\"89\": 1, \"122\": 7, \"14\": 1, \"87\": 1, \"33\": 1, \"43\": 1}, \"108\": {\"108\": 5, \"13\": 2, \"73\": 2, \"88\": 3}, \"61\": {\"61\": 10, \"108\": 2}, \"22\": {\"22\": 12}, \"63\": {\"63\": 12}, \"39\": {\"126\": 2, \"32\": 1, \"39\": 3, \"27\": 1, \"113\": 2, \"81\": 3}, \"25\": {\"25\": 12}, \"3\": {\"3\": 11, \"71\": 1}, \"78\": {\"78\": 3, \"100\": 1, \"51\": 1, \"43\": 2, \"74\": 1, \"23\": 1, \"33\": 1, \"116\": 1, \"94\": 1}, \"31\": {\"31\": 12}, \"35\": {\"61\": 2, \"35\": 10}, \"91\": {\"91\": 11, \"34\": 1}, \"37\": {\"37\": 11, \"10\": 1}, \"13\": {\"13\": 12}, \"53\": {\"53\": 12}, \"82\": {\"82\": 9, \"104\": 1, \"118\": 2}, \"92\": {\"92\": 12}, \"90\": {\"90\": 12}, \"8\": {\"8\": 10, \"10\": 1, \"23\": 1}, \"88\": {\"88\": 5, \"70\": 2, \"108\": 1, \"19\": 1, \"5\": 1, \"60\": 1, \"14\": 1}, \"16\": {\"16\": 12}, \"45\": {\"45\": 12}, \"89\": {\"89\": 12}, \"43\": {\"43\": 8, \"105\": 1, \"72\": 2, \"78\": 1}, \"65\": {\"65\": 12}, \"117\": {\"117\": 10, \"96\": 2}, \"40\": {\"40\": 12}, \"12\": {\"12\": 11, \"68\": 1}, \"7\": {\"7\": 12}, \"75\": {\"75\": 12}, \"41\": {\"41\": 11, \"98\": 1}, \"76\": {\"76\": 12}, \"9\": {\"9\": 8, \"27\": 2, \"112\": 2}, \"125\": {\"125\": 12}, \"120\": {\"120\": 12}, \"11\": {\"11\": 6, \"88\": 1, \"46\": 2, \"129\": 1, \"60\": 1, \"13\": 1}, \"115\": {\"32\": 2, \"115\": 6, \"87\": 1, \"24\": 2, \"43\": 1}, \"2\": {\"2\": 10, \"26\": 2}, \"113\": {\"113\": 5, \"21\": 1, \"63\": 2, \"39\": 2, \"78\": 1, \"65\": 1}, \"112\": {\"112\": 12}, \"94\": {\"94\": 9, \"54\": 2, \"47\": 1}, \"109\": {\"109\": 12}, \"74\": {\"74\": 11, \"72\": 1}, \"111\": {\"111\": 12}, \"55\": {\"55\": 9, \"127\": 1, \"4\": 1, \"105\": 1}, \"15\": {\"15\": 11, \"97\": 1}, \"14\": {\"14\": 9, \"110\": 1, \"122\": 2}, \"104\": {\"104\": 12}, \"47\": {\"47\": 12}, \"58\": {\"58\": 12}, \"106\": {\"106\": 9, \"23\": 1, \"45\": 1, \"30\": 1}, \"121\": {\"121\": 9, \"48\": 1, \"65\": 2}, \"81\": {\"81\": 12}, \"84\": {\"84\": 12}, \"32\": {\"32\": 12}, \"72\": {\"72\": 10, \"99\": 1, \"109\": 1}, \"46\": {\"46\": 12}}, \"1\": {\"49\": {\"23\": 1, \"15\": 4, \"49\": 4, \"31\": 3}, \"1\": {\"1\": 12}, \"119\": {\"119\": 12}, \"28\": {\"28\": 12}, \"20\": {\"20\": 12}, \"17\": {\"17\": 12}, \"103\": {\"103\": 10, \"45\": 1, \"20\": 1}, \"85\": {\"85\": 12}, \"87\": {\"21\": 2, \"87\": 9, \"105\": 1}, \"84\": {\"84\": 9, \"21\": 1, \"33\": 2}, \"34\": {\"60\": 2, \"34\": 5, \"6\": 1, \"65\": 2, \"89\": 1, \"53\": 1}, \"16\": {\"16\": 12}, \"6\": {\"6\": 10, \"34\": 1, \"86\": 1}, \"31\": {\"31\": 12}, \"92\": {\"92\": 12}, \"96\": {\"96\": 7, \"126\": 5}, \"64\": {\"64\": 12}, \"40\": {\"40\": 10, \"105\": 2}, \"69\": {\"69\": 11, \"50\": 1}, \"99\": {\"99\": 12}, \"3\": {\"36\": 1, \"3\": 9, \"115\": 2}, \"50\": {\"70\": 1, \"50\": 11}, \"21\": {\"21\": 7, \"122\": 1, \"112\": 1, \"6\": 1, \"61\": 1, \"84\": 1}, \"7\": {\"7\": 12}, \"0\": {\"0\": 12}, \"44\": {\"44\": 12}, \"19\": {\"19\": 11, \"11\": 1}, \"22\": {\"22\": 11, \"7\": 1}, \"32\": {\"32\": 9, \"112\": 1, \"58\": 1, \"127\": 1}, \"125\": {\"125\": 12}, \"82\": {\"82\": 12}, \"33\": {\"33\": 12}, \"45\": {\"45\": 5, \"49\": 1, \"124\": 4, \"44\": 1, \"29\": 1}, \"109\": {\"20\": 1, \"126\": 2, \"109\": 6, \"2\": 1, \"129\": 1, \"45\": 1}, \"105\": {\"87\": 1, \"105\": 8, \"74\": 1, \"40\": 2}, \"76\": {\"76\": 11, \"50\": 1}, \"59\": {\"59\": 9, \"121\": 1, \"6\": 1, \"30\": 1}, \"120\": {\"120\": 12}, \"41\": {\"41\": 12}, \"26\": {\"26\": 11, \"12\": 1}, \"42\": {\"99\": 1, \"42\": 7, \"104\": 1, \"109\": 1, \"91\": 2}, \"79\": {\"79\": 12}, \"97\": {\"97\": 7, \"24\": 1, \"126\": 2, \"108\": 2}, \"110\": {\"110\": 12}, \"128\": {\"128\": 6, \"5\": 1, \"49\": 1, \"70\": 4}, \"55\": {\"55\": 12}, \"23\": {\"23\": 2, \"18\": 2, \"86\": 1, \"93\": 1, \"64\": 2, \"112\": 2, \"58\": 1, \"55\": 1}, \"4\": {\"4\": 7, \"55\": 2, \"107\": 3}, \"14\": {\"14\": 12}, \"126\": {\"108\": 3, \"126\": 5, \"96\": 3, \"47\": 1}, \"111\": {\"111\": 12}, \"39\": {\"39\": 11, \"35\": 1}, \"35\": {\"35\": 12}, \"102\": {\"102\": 12}, \"113\": {\"113\": 12}, \"89\": {\"89\": 12}, \"46\": {\"41\": 3, \"94\": 1, \"46\": 5, \"36\": 1, \"88\": 1, \"54\": 1}, \"91\": {\"91\": 11, \"112\": 1}, \"83\": {\"83\": 8, \"46\": 2, \"78\": 1, \"94\": 1}, \"81\": {\"81\": 12}, \"88\": {\"15\": 1, \"36\": 4, \"88\": 5, \"97\": 1, \"24\": 1}, \"95\": {\"95\": 10, \"116\": 2}, \"53\": {\"53\": 12}, \"75\": {\"75\": 11, \"112\": 1}, \"122\": {\"122\": 6, \"78\": 1, \"105\": 3, \"107\": 1, \"80\": 1}, \"107\": {\"107\": 12}, \"104\": {\"104\": 12}, \"12\": {\"12\": 9, \"97\": 1, \"71\": 1, \"111\": 1}, \"112\": {\"112\": 11, \"75\": 1}, \"63\": {\"63\": 12}, \"30\": {\"30\": 12}, \"9\": {\"9\": 9, \"47\": 1, \"103\": 1, \"78\": 1}, \"78\": {\"78\": 9, \"21\": 2, \"0\": 1}, \"18\": {\"18\": 12}, \"116\": {\"116\": 10, \"22\": 1, \"76\": 1}, \"36\": {\"36\": 10, \"88\": 2}, \"100\": {\"100\": 12}, \"74\": {\"93\": 1, \"74\": 10, \"21\": 1}, \"61\": {\"61\": 12}, \"8\": {\"8\": 11, \"60\": 1}, \"70\": {\"49\": 2, \"1\": 1, \"70\": 3, \"45\": 1, \"128\": 4, \"21\": 1}, \"108\": {\"108\": 10, \"47\": 1, \"97\": 1}, \"77\": {\"77\": 12}, \"93\": {\"107\": 4, \"93\": 6, \"55\": 1, \"77\": 1}, \"37\": {\"37\": 10, \"15\": 2}, \"118\": {\"118\": 12}, \"80\": {\"80\": 12}, \"106\": {\"106\": 10, \"68\": 2}, \"58\": {\"58\": 12}, \"56\": {\"56\": 11, \"112\": 1}, \"86\": {\"86\": 12}, \"90\": {\"90\": 12}, \"123\": {\"123\": 12}, \"94\": {\"94\": 9, \"46\": 2, \"6\": 1}, \"52\": {\"6\": 1, \"52\": 11}, \"47\": {\"47\": 12}, \"117\": {\"117\": 12}, \"124\": {\"124\": 12}, \"71\": {\"71\": 12}, \"67\": {\"67\": 12}, \"15\": {\"15\": 11, \"12\": 1}, \"5\": {\"5\": 12}, \"24\": {\"24\": 9, \"97\": 1, \"36\": 2}, \"62\": {\"62\": 12}, \"13\": {\"13\": 12}, \"101\": {\"101\": 11, \"128\": 1}, \"51\": {\"51\": 12}, \"129\": {\"129\": 9, \"82\": 2, \"1\": 1}, \"65\": {\"76\": 2, \"35\": 5, \"65\": 4, \"63\": 1}, \"121\": {\"121\": 12}, \"43\": {\"43\": 10, \"40\": 1, \"22\": 1}, \"73\": {\"73\": 12}, \"68\": {\"68\": 12}, \"66\": {\"66\": 11, \"74\": 1}, \"60\": {\"60\": 2, \"30\": 2, \"42\": 1, \"123\": 2, \"34\": 4, \"8\": 1}, \"115\": {\"115\": 12}, \"38\": {\"38\": 12}, \"2\": {\"2\": 6, \"114\": 2, \"3\": 1, \"19\": 1, \"109\": 1, \"11\": 1}, \"127\": {\"127\": 12}, \"54\": {\"54\": 12}, \"72\": {\"72\": 12}, \"27\": {\"88\": 1, \"27\": 8, \"94\": 2, \"108\": 1}, \"57\": {\"57\": 12}, \"48\": {\"48\": 11, \"123\": 1}, \"114\": {\"114\": 12}, \"25\": {\"25\": 11, \"100\": 1}, \"11\": {\"11\": 10, \"82\": 1, \"33\": 1}, \"29\": {\"29\": 12}, \"98\": {\"34\": 1, \"98\": 11}, \"10\": {\"10\": 9, \"92\": 1, \"88\": 1, \"70\": 1}}}, \"per_domain_accuracy\": {\"3\": {\"accuracy\": 0.9051282051282051, \"source?\": true}, \"2\": {\"accuracy\": 0.8217948717948718, \"source?\": false}, \"4\": {\"accuracy\": 0.8224358974358974, \"source?\": false}, \"1\": {\"accuracy\": 0.8551282051282051, \"source?\": false}}}, \"history\": {\"epoch_indices\": [1, 2, 3, 4, 5, 6, 7, 8, 9, 10, 11], \"train_label_loss\": [1.7366649551051003, 0.6304493915467035, 0.31428021902129766, 0.21932850245918548, 0.1504894844478085, 0.12599732256716206, 0.085915071180179, 0.06420297588088683, 0.07387843779066489, 0.07369939078177724, 0.06475597471442252], \"source_val_label_loss\": [1.006068229675293, 0.604239821434021, 0.5456891059875488, 0.5158637166023254, 0.5273362398147583, 0.5413649082183838, 0.5184977054595947, 0.5299584865570068, 0.5596573352813721, 0.5899360179901123, 0.5911026000976562], \"target_val_label_loss\": [1.2836129665374756, 1.017311453819275, 0.9609515070915222, 0.9582560658454895, 0.956070601940155, 1.0276250839233398, 0.9551466107368469, 1.0491701364517212, 1.0652753114700317, 1.0942898988723755, 1.2117679119110107], \"source_val_acc_label\": [0.8269230769230769, 0.889102564102564, 0.8980769230769231, 0.9, 0.9051282051282051, 0.8987179487179487, 0.9051282051282051, 0.9102564102564102, 0.9032051282051282, 0.9006410256410257, 0.9083333333333333], \"target_val_acc_label\": [0.7608974358974359, 0.8055555555555556, 0.8217948717948718, 0.8196581196581196, 0.8279914529914529, 0.8177350427350427, 0.8331196581196582, 0.8297008547008548, 0.8151709401709402, 0.8277777777777777, 0.8132478632478632]}, \"dataset_metrics\": {\"source\": {\"train\": {\"n_unique_x\": 9100, \"n_unique_y\": 130, \"n_batch/episode\": 42}, \"val\": {\"n_unique_x\": 1950, \"n_unique_y\": 130, \"n_batch/episode\": 6}, \"test\": {\"n_unique_x\": 1950, \"n_unique_y\": 130, \"n_batch/episode\": 6}}, \"target\": {\"train\": {\"n_unique_x\": 27300, \"n_unique_y\": 130, \"n_batch/episode\": 126}, \"val\": {\"n_unique_x\": 5850, \"n_unique_y\": 130, \"n_batch/episode\": 18}, \"test\": {\"n_unique_x\": 5850, \"n_unique_y\": 130, \"n_batch/episode\": 18}}}}'"
      ]
     },
     "execution_count": 20,
     "metadata": {},
     "output_type": "execute_result"
    }
   ],
   "source": [
    "json.dumps(experiment)"
   ]
  }
 ],
 "metadata": {
  "celltoolbar": "Tags",
  "kernelspec": {
   "display_name": "Python 3 (ipykernel)",
   "language": "python",
   "name": "python3"
  },
  "language_info": {
   "codemirror_mode": {
    "name": "ipython",
    "version": 3
   },
   "file_extension": ".py",
   "mimetype": "text/x-python",
   "name": "python",
   "nbconvert_exporter": "python",
   "pygments_lexer": "ipython3",
   "version": "3.8.10"
  },
  "papermill": {
   "default_parameters": {},
   "duration": 109.09423,
   "end_time": "2022-03-06T00:57:10.565454",
   "environment_variables": {},
   "exception": null,
   "input_path": "/mnt/wd500GB/CSC500/csc500-main/csc500-notebooks/templates/ptn_template.ipynb",
   "output_path": "trial.ipynb",
   "parameters": {
    "parameters": {
     "BEST_MODEL_PATH": "./best_model.pth",
     "NUM_LOGS_PER_EPOCH": 10,
     "criteria_for_best": "target_loss",
     "dataset_seed": 1337,
     "device": "cuda",
     "domains_source": [
      3
     ],
     "domains_target": [
      1,
      2,
      4
     ],
     "episode_transforms_source": [],
     "episode_transforms_target": [],
     "experiment_name": "tuned_1_wisig",
     "labels_source": [
      "1-10",
      "1-12",
      "1-14",
      "1-16",
      "1-18",
      "1-19",
      "1-8",
      "10-11",
      "10-17",
      "10-4",
      "10-7",
      "11-1",
      "11-10",
      "11-19",
      "11-20",
      "11-4",
      "11-7",
      "12-19",
      "12-20",
      "12-7",
      "13-14",
      "13-18",
      "13-19",
      "13-20",
      "13-3",
      "13-7",
      "14-10",
      "14-11",
      "14-12",
      "14-13",
      "14-14",
      "14-19",
      "14-20",
      "14-7",
      "14-8",
      "14-9",
      "15-1",
      "15-19",
      "15-6",
      "16-1",
      "16-16",
      "16-19",
      "16-20",
      "17-10",
      "17-11",
      "18-1",
      "18-10",
      "18-11",
      "18-12",
      "18-13",
      "18-14",
      "18-15",
      "18-16",
      "18-17",
      "18-19",
      "18-2",
      "18-20",
      "18-4",
      "18-5",
      "18-7",
      "18-8",
      "18-9",
      "19-1",
      "19-10",
      "19-11",
      "19-12",
      "19-13",
      "19-14",
      "19-15",
      "19-19",
      "19-2",
      "19-20",
      "19-3",
      "19-4",
      "19-6",
      "19-7",
      "19-8",
      "19-9",
      "2-1",
      "2-13",
      "2-15",
      "2-3",
      "2-4",
      "2-5",
      "2-6",
      "2-7",
      "2-8",
      "20-1",
      "20-12",
      "20-14",
      "20-15",
      "20-16",
      "20-18",
      "20-19",
      "20-20",
      "20-3",
      "20-4",
      "20-5",
      "20-7",
      "20-8",
      "3-1",
      "3-13",
      "3-18",
      "3-2",
      "3-8",
      "4-1",
      "4-10",
      "4-11",
      "5-1",
      "5-5",
      "6-1",
      "6-15",
      "6-6",
      "7-10",
      "7-11",
      "7-12",
      "7-13",
      "7-14",
      "7-7",
      "7-8",
      "7-9",
      "8-1",
      "8-13",
      "8-14",
      "8-18",
      "8-20",
      "8-3",
      "8-8",
      "9-1",
      "9-7"
     ],
     "labels_target": [
      "1-10",
      "1-12",
      "1-14",
      "1-16",
      "1-18",
      "1-19",
      "1-8",
      "10-11",
      "10-17",
      "10-4",
      "10-7",
      "11-1",
      "11-10",
      "11-19",
      "11-20",
      "11-4",
      "11-7",
      "12-19",
      "12-20",
      "12-7",
      "13-14",
      "13-18",
      "13-19",
      "13-20",
      "13-3",
      "13-7",
      "14-10",
      "14-11",
      "14-12",
      "14-13",
      "14-14",
      "14-19",
      "14-20",
      "14-7",
      "14-8",
      "14-9",
      "15-1",
      "15-19",
      "15-6",
      "16-1",
      "16-16",
      "16-19",
      "16-20",
      "17-10",
      "17-11",
      "18-1",
      "18-10",
      "18-11",
      "18-12",
      "18-13",
      "18-14",
      "18-15",
      "18-16",
      "18-17",
      "18-19",
      "18-2",
      "18-20",
      "18-4",
      "18-5",
      "18-7",
      "18-8",
      "18-9",
      "19-1",
      "19-10",
      "19-11",
      "19-12",
      "19-13",
      "19-14",
      "19-15",
      "19-19",
      "19-2",
      "19-20",
      "19-3",
      "19-4",
      "19-6",
      "19-7",
      "19-8",
      "19-9",
      "2-1",
      "2-13",
      "2-15",
      "2-3",
      "2-4",
      "2-5",
      "2-6",
      "2-7",
      "2-8",
      "20-1",
      "20-12",
      "20-14",
      "20-15",
      "20-16",
      "20-18",
      "20-19",
      "20-20",
      "20-3",
      "20-4",
      "20-5",
      "20-7",
      "20-8",
      "3-1",
      "3-13",
      "3-18",
      "3-2",
      "3-8",
      "4-1",
      "4-10",
      "4-11",
      "5-1",
      "5-5",
      "6-1",
      "6-15",
      "6-6",
      "7-10",
      "7-11",
      "7-12",
      "7-13",
      "7-14",
      "7-7",
      "7-8",
      "7-9",
      "8-1",
      "8-13",
      "8-14",
      "8-18",
      "8-20",
      "8-3",
      "8-8",
      "9-1",
      "9-7"
     ],
     "lr": 0.001,
     "n_epoch": 50,
     "n_query": 2,
     "n_shot": 3,
     "n_way": 130,
     "num_examples_per_domain_per_label_source": 100,
     "num_examples_per_domain_per_label_target": 100,
     "patience": 3,
     "pickle_name": "wisig.node3-19.stratified_ds.2022A.pkl",
     "seed": 1337,
     "test_k_factor": 2,
     "torch_default_dtype": "torch.float32",
     "train_k_factor": 3,
     "val_k_factor": 2,
     "x_net": [
      {
       "class": "nnReshape",
       "kargs": {
        "shape": [
         -1,
         1,
         2,
         256
        ]
       }
      },
      {
       "class": "Conv2d",
       "kargs": {
        "bias": false,
        "in_channels": 1,
        "kernel_size": [
         1,
         7
        ],
        "out_channels": 256,
        "padding": [
         0,
         3
        ]
       }
      },
      {
       "class": "ReLU",
       "kargs": {
        "inplace": true
       }
      },
      {
       "class": "BatchNorm2d",
       "kargs": {
        "num_features": 256
       }
      },
      {
       "class": "Conv2d",
       "kargs": {
        "bias": true,
        "in_channels": 256,
        "kernel_size": [
         2,
         7
        ],
        "out_channels": 80,
        "padding": [
         0,
         3
        ]
       }
      },
      {
       "class": "ReLU",
       "kargs": {
        "inplace": true
       }
      },
      {
       "class": "BatchNorm2d",
       "kargs": {
        "num_features": 80
       }
      },
      {
       "class": "Flatten",
       "kargs": {}
      },
      {
       "class": "Linear",
       "kargs": {
        "in_features": 20480,
        "out_features": 256
       }
      },
      {
       "class": "ReLU",
       "kargs": {
        "inplace": true
       }
      },
      {
       "class": "BatchNorm1d",
       "kargs": {
        "num_features": 256
       }
      },
      {
       "class": "Linear",
       "kargs": {
        "in_features": 256,
        "out_features": 256
       }
      }
     ],
     "x_transforms_source": [
      "unit_mag"
     ],
     "x_transforms_target": [
      "unit_mag"
     ]
    }
   },
   "start_time": "2022-03-06T00:55:21.471224",
   "version": "2.3.4"
  }
 },
 "nbformat": 4,
 "nbformat_minor": 5
}