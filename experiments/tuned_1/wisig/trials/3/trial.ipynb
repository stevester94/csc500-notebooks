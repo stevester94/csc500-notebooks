{
 "cells": [
  {
   "cell_type": "markdown",
   "id": "9fea5f46",
   "metadata": {
    "papermill": {
     "duration": 0.017466,
     "end_time": "2022-03-06T01:00:24.115717",
     "exception": false,
     "start_time": "2022-03-06T01:00:24.098251",
     "status": "completed"
    },
    "tags": []
   },
   "source": [
    "# PTN Template\n",
    "This notebook serves as a template for single dataset PTN experiments  \n",
    "It can be run on its own by setting STANDALONE to True (do a find for \"STANDALONE\" to see where)  \n",
    "But it is intended to be executed as part of a *papermill.py script. See any of the   \n",
    "experimentes with a papermill script to get started with that workflow.  "
   ]
  },
  {
   "cell_type": "code",
   "execution_count": 1,
   "id": "0902182a",
   "metadata": {
    "execution": {
     "iopub.execute_input": "2022-03-06T01:00:24.162875Z",
     "iopub.status.busy": "2022-03-06T01:00:24.155875Z",
     "iopub.status.idle": "2022-03-06T01:00:24.949054Z",
     "shell.execute_reply": "2022-03-06T01:00:24.948583Z"
    },
    "papermill": {
     "duration": 0.817294,
     "end_time": "2022-03-06T01:00:24.949169",
     "exception": false,
     "start_time": "2022-03-06T01:00:24.131875",
     "status": "completed"
    },
    "tags": []
   },
   "outputs": [],
   "source": [
    "%load_ext autoreload\n",
    "%autoreload 2\n",
    "%matplotlib inline\n",
    "\n",
    "    \n",
    "import os, json, sys, time, random\n",
    "import numpy as np\n",
    "import torch\n",
    "from torch.optim import Adam\n",
    "from  easydict import EasyDict\n",
    "import matplotlib.pyplot as plt\n",
    "\n",
    "from steves_models.steves_ptn import Steves_Prototypical_Network\n",
    "\n",
    "from steves_utils.lazy_iterable_wrapper import Lazy_Iterable_Wrapper\n",
    "from steves_utils.iterable_aggregator import Iterable_Aggregator\n",
    "from steves_utils.ptn_train_eval_test_jig import  PTN_Train_Eval_Test_Jig\n",
    "from steves_utils.torch_sequential_builder import build_sequential\n",
    "from steves_utils.torch_utils import get_dataset_metrics, ptn_confusion_by_domain_over_dataloader\n",
    "from steves_utils.utils_v2 import (per_domain_accuracy_from_confusion, get_datasets_base_path)\n",
    "from steves_utils.PTN.utils import independent_accuracy_assesment\n",
    "\n",
    "from steves_utils.stratified_dataset.episodic_accessor import Episodic_Accessor_Factory\n",
    "\n",
    "from steves_utils.ptn_do_report import (\n",
    "    get_loss_curve,\n",
    "    get_results_table,\n",
    "    get_parameters_table,\n",
    "    get_domain_accuracies,\n",
    ")\n",
    "\n",
    "from steves_utils.transforms import get_chained_transform"
   ]
  },
  {
   "cell_type": "markdown",
   "id": "41c840b4",
   "metadata": {
    "papermill": {
     "duration": 0.009669,
     "end_time": "2022-03-06T01:00:24.975598",
     "exception": false,
     "start_time": "2022-03-06T01:00:24.965929",
     "status": "completed"
    },
    "tags": []
   },
   "source": [
    "# Required Parameters\n",
    "These are allowed parameters, not defaults\n",
    "Each of these values need to be present in the injected parameters (the notebook will raise an exception if they are not present)\n",
    "\n",
    "Papermill uses the cell tag \"parameters\" to inject the real parameters below this cell.\n",
    "Enable tags to see what I mean"
   ]
  },
  {
   "cell_type": "code",
   "execution_count": 2,
   "id": "fd44eb83",
   "metadata": {
    "execution": {
     "iopub.execute_input": "2022-03-06T01:00:24.998802Z",
     "iopub.status.busy": "2022-03-06T01:00:24.996760Z",
     "iopub.status.idle": "2022-03-06T01:00:25.011141Z",
     "shell.execute_reply": "2022-03-06T01:00:25.010748Z"
    },
    "papermill": {
     "duration": 0.025946,
     "end_time": "2022-03-06T01:00:25.011231",
     "exception": false,
     "start_time": "2022-03-06T01:00:24.985285",
     "status": "completed"
    },
    "tags": []
   },
   "outputs": [],
   "source": [
    "required_parameters = {\n",
    "    \"experiment_name\",\n",
    "    \"lr\",\n",
    "    \"device\",\n",
    "    \"seed\",\n",
    "    \"dataset_seed\",\n",
    "    \"labels_source\",\n",
    "    \"labels_target\",\n",
    "    \"domains_source\",\n",
    "    \"domains_target\",\n",
    "    \"num_examples_per_domain_per_label_source\",\n",
    "    \"num_examples_per_domain_per_label_target\",\n",
    "    \"n_shot\",\n",
    "    \"n_way\",\n",
    "    \"n_query\",\n",
    "    \"train_k_factor\",\n",
    "    \"val_k_factor\",\n",
    "    \"test_k_factor\",\n",
    "    \"n_epoch\",\n",
    "    \"patience\",\n",
    "    \"criteria_for_best\",\n",
    "    \"x_transforms_source\",\n",
    "    \"x_transforms_target\",\n",
    "    \"episode_transforms_source\",\n",
    "    \"episode_transforms_target\",\n",
    "    \"pickle_name\",\n",
    "    \"x_net\",\n",
    "    \"NUM_LOGS_PER_EPOCH\",\n",
    "    \"BEST_MODEL_PATH\",\n",
    "    \"torch_default_dtype\"\n",
    "}"
   ]
  },
  {
   "cell_type": "code",
   "execution_count": 3,
   "id": "fa3f0049",
   "metadata": {
    "execution": {
     "iopub.execute_input": "2022-03-06T01:00:25.045174Z",
     "iopub.status.busy": "2022-03-06T01:00:25.044885Z",
     "iopub.status.idle": "2022-03-06T01:00:25.055061Z",
     "shell.execute_reply": "2022-03-06T01:00:25.055420Z"
    },
    "papermill": {
     "duration": 0.030899,
     "end_time": "2022-03-06T01:00:25.055527",
     "exception": false,
     "start_time": "2022-03-06T01:00:25.024628",
     "status": "completed"
    },
    "tags": [
     "parameters"
    ]
   },
   "outputs": [],
   "source": [
    "\n",
    "\n",
    "standalone_parameters = {}\n",
    "standalone_parameters[\"experiment_name\"] = \"STANDALONE PTN\"\n",
    "standalone_parameters[\"lr\"] = 0.0001\n",
    "standalone_parameters[\"device\"] = \"cuda\"\n",
    "\n",
    "standalone_parameters[\"seed\"] = 1337\n",
    "standalone_parameters[\"dataset_seed\"] = 1337\n",
    "\n",
    "\n",
    "standalone_parameters[\"num_examples_per_domain_per_label_source\"]=100\n",
    "standalone_parameters[\"num_examples_per_domain_per_label_target\"]=100\n",
    "\n",
    "standalone_parameters[\"n_shot\"] = 3\n",
    "standalone_parameters[\"n_query\"]  = 2\n",
    "standalone_parameters[\"train_k_factor\"] = 1\n",
    "standalone_parameters[\"val_k_factor\"] = 2\n",
    "standalone_parameters[\"test_k_factor\"] = 2\n",
    "\n",
    "\n",
    "standalone_parameters[\"n_epoch\"] = 100\n",
    "\n",
    "standalone_parameters[\"patience\"] = 10\n",
    "standalone_parameters[\"criteria_for_best\"] = \"target_accuracy\"\n",
    "\n",
    "standalone_parameters[\"x_transforms_source\"] = [\"unit_power\"]\n",
    "standalone_parameters[\"x_transforms_target\"] = [\"unit_power\"]\n",
    "standalone_parameters[\"episode_transforms_source\"] = []\n",
    "standalone_parameters[\"episode_transforms_target\"] = []\n",
    "\n",
    "standalone_parameters[\"torch_default_dtype\"] = \"torch.float32\" \n",
    "\n",
    "\n",
    "\n",
    "standalone_parameters[\"x_net\"] =     [\n",
    "    {\"class\": \"nnReshape\", \"kargs\": {\"shape\":[-1, 1, 2, 256]}},\n",
    "    {\"class\": \"Conv2d\", \"kargs\": { \"in_channels\":1, \"out_channels\":256, \"kernel_size\":(1,7), \"bias\":False, \"padding\":(0,3), },},\n",
    "    {\"class\": \"ReLU\", \"kargs\": {\"inplace\": True}},\n",
    "    {\"class\": \"BatchNorm2d\", \"kargs\": {\"num_features\":256}},\n",
    "\n",
    "    {\"class\": \"Conv2d\", \"kargs\": { \"in_channels\":256, \"out_channels\":80, \"kernel_size\":(2,7), \"bias\":True, \"padding\":(0,3), },},\n",
    "    {\"class\": \"ReLU\", \"kargs\": {\"inplace\": True}},\n",
    "    {\"class\": \"BatchNorm2d\", \"kargs\": {\"num_features\":80}},\n",
    "    {\"class\": \"Flatten\", \"kargs\": {}},\n",
    "\n",
    "    {\"class\": \"Linear\", \"kargs\": {\"in_features\": 80*256, \"out_features\": 256}}, # 80 units per IQ pair\n",
    "    {\"class\": \"ReLU\", \"kargs\": {\"inplace\": True}},\n",
    "    {\"class\": \"BatchNorm1d\", \"kargs\": {\"num_features\":256}},\n",
    "\n",
    "    {\"class\": \"Linear\", \"kargs\": {\"in_features\": 256, \"out_features\": 256}},\n",
    "]\n",
    "\n",
    "# Parameters relevant to results\n",
    "# These parameters will basically never need to change\n",
    "standalone_parameters[\"NUM_LOGS_PER_EPOCH\"] = 10\n",
    "standalone_parameters[\"BEST_MODEL_PATH\"] = \"./best_model.pth\"\n",
    "\n",
    "# uncomment for CORES dataset\n",
    "from steves_utils.CORES.utils import (\n",
    "    ALL_NODES,\n",
    "    ALL_NODES_MINIMUM_1000_EXAMPLES,\n",
    "    ALL_DAYS\n",
    ")\n",
    "\n",
    "\n",
    "standalone_parameters[\"labels_source\"] = ALL_NODES\n",
    "standalone_parameters[\"labels_target\"] = ALL_NODES\n",
    "\n",
    "standalone_parameters[\"domains_source\"] = [1]\n",
    "standalone_parameters[\"domains_target\"] = [2,3,4,5]\n",
    "\n",
    "standalone_parameters[\"pickle_name\"] = \"cores.stratified_ds.2022A.pkl\"\n",
    "\n",
    "\n",
    "# Uncomment these for ORACLE dataset\n",
    "# from steves_utils.ORACLE.utils_v2 import (\n",
    "#     ALL_DISTANCES_FEET,\n",
    "#     ALL_RUNS,\n",
    "#     ALL_SERIAL_NUMBERS,\n",
    "# )\n",
    "# standalone_parameters[\"labels_source\"] = ALL_SERIAL_NUMBERS\n",
    "# standalone_parameters[\"labels_target\"] = ALL_SERIAL_NUMBERS\n",
    "# standalone_parameters[\"domains_source\"] = [8,20, 38,50]\n",
    "# standalone_parameters[\"domains_target\"] = [14, 26, 32, 44, 56]\n",
    "# standalone_parameters[\"pickle_name\"] = \"oracle.frame_indexed.stratified_ds.2022A.pkl\"\n",
    "# standalone_parameters[\"num_examples_per_domain_per_label_source\"]=1000\n",
    "# standalone_parameters[\"num_examples_per_domain_per_label_target\"]=1000\n",
    "\n",
    "# Uncomment these for Metahan dataset\n",
    "# standalone_parameters[\"labels_source\"] = list(range(19))\n",
    "# standalone_parameters[\"labels_target\"] = list(range(19))\n",
    "# standalone_parameters[\"domains_source\"] = [0]\n",
    "# standalone_parameters[\"domains_target\"] = [1]\n",
    "# standalone_parameters[\"pickle_name\"] = \"metehan.stratified_ds.2022A.pkl\"\n",
    "# standalone_parameters[\"n_way\"]  = len(standalone_parameters[\"labels_source\"])\n",
    "# standalone_parameters[\"num_examples_per_domain_per_label_source\"]=200\n",
    "# standalone_parameters[\"num_examples_per_domain_per_label_target\"]=100\n",
    "\n",
    "\n",
    "standalone_parameters[\"n_way\"]  = len(standalone_parameters[\"labels_source\"])"
   ]
  },
  {
   "cell_type": "code",
   "execution_count": 4,
   "id": "2e9bed5b",
   "metadata": {
    "execution": {
     "iopub.execute_input": "2022-03-06T01:00:25.090321Z",
     "iopub.status.busy": "2022-03-06T01:00:25.088767Z",
     "iopub.status.idle": "2022-03-06T01:00:25.100407Z",
     "shell.execute_reply": "2022-03-06T01:00:25.100778Z"
    },
    "papermill": {
     "duration": 0.034087,
     "end_time": "2022-03-06T01:00:25.100882",
     "exception": false,
     "start_time": "2022-03-06T01:00:25.066795",
     "status": "completed"
    },
    "tags": [
     "injected-parameters"
    ]
   },
   "outputs": [],
   "source": [
    "# Parameters\n",
    "parameters = {\n",
    "    \"experiment_name\": \"tuned_1_wisig\",\n",
    "    \"device\": \"cuda\",\n",
    "    \"lr\": 0.001,\n",
    "    \"seed\": 1337,\n",
    "    \"dataset_seed\": 1337,\n",
    "    \"labels_source\": [\n",
    "        \"1-10\",\n",
    "        \"1-12\",\n",
    "        \"1-14\",\n",
    "        \"1-16\",\n",
    "        \"1-18\",\n",
    "        \"1-19\",\n",
    "        \"1-8\",\n",
    "        \"10-11\",\n",
    "        \"10-17\",\n",
    "        \"10-4\",\n",
    "        \"10-7\",\n",
    "        \"11-1\",\n",
    "        \"11-10\",\n",
    "        \"11-19\",\n",
    "        \"11-20\",\n",
    "        \"11-4\",\n",
    "        \"11-7\",\n",
    "        \"12-19\",\n",
    "        \"12-20\",\n",
    "        \"12-7\",\n",
    "        \"13-14\",\n",
    "        \"13-18\",\n",
    "        \"13-19\",\n",
    "        \"13-20\",\n",
    "        \"13-3\",\n",
    "        \"13-7\",\n",
    "        \"14-10\",\n",
    "        \"14-11\",\n",
    "        \"14-12\",\n",
    "        \"14-13\",\n",
    "        \"14-14\",\n",
    "        \"14-19\",\n",
    "        \"14-20\",\n",
    "        \"14-7\",\n",
    "        \"14-8\",\n",
    "        \"14-9\",\n",
    "        \"15-1\",\n",
    "        \"15-19\",\n",
    "        \"15-6\",\n",
    "        \"16-1\",\n",
    "        \"16-16\",\n",
    "        \"16-19\",\n",
    "        \"16-20\",\n",
    "        \"17-10\",\n",
    "        \"17-11\",\n",
    "        \"18-1\",\n",
    "        \"18-10\",\n",
    "        \"18-11\",\n",
    "        \"18-12\",\n",
    "        \"18-13\",\n",
    "        \"18-14\",\n",
    "        \"18-15\",\n",
    "        \"18-16\",\n",
    "        \"18-17\",\n",
    "        \"18-19\",\n",
    "        \"18-2\",\n",
    "        \"18-20\",\n",
    "        \"18-4\",\n",
    "        \"18-5\",\n",
    "        \"18-7\",\n",
    "        \"18-8\",\n",
    "        \"18-9\",\n",
    "        \"19-1\",\n",
    "        \"19-10\",\n",
    "        \"19-11\",\n",
    "        \"19-12\",\n",
    "        \"19-13\",\n",
    "        \"19-14\",\n",
    "        \"19-15\",\n",
    "        \"19-19\",\n",
    "        \"19-2\",\n",
    "        \"19-20\",\n",
    "        \"19-3\",\n",
    "        \"19-4\",\n",
    "        \"19-6\",\n",
    "        \"19-7\",\n",
    "        \"19-8\",\n",
    "        \"19-9\",\n",
    "        \"2-1\",\n",
    "        \"2-13\",\n",
    "        \"2-15\",\n",
    "        \"2-3\",\n",
    "        \"2-4\",\n",
    "        \"2-5\",\n",
    "        \"2-6\",\n",
    "        \"2-7\",\n",
    "        \"2-8\",\n",
    "        \"20-1\",\n",
    "        \"20-12\",\n",
    "        \"20-14\",\n",
    "        \"20-15\",\n",
    "        \"20-16\",\n",
    "        \"20-18\",\n",
    "        \"20-19\",\n",
    "        \"20-20\",\n",
    "        \"20-3\",\n",
    "        \"20-4\",\n",
    "        \"20-5\",\n",
    "        \"20-7\",\n",
    "        \"20-8\",\n",
    "        \"3-1\",\n",
    "        \"3-13\",\n",
    "        \"3-18\",\n",
    "        \"3-2\",\n",
    "        \"3-8\",\n",
    "        \"4-1\",\n",
    "        \"4-10\",\n",
    "        \"4-11\",\n",
    "        \"5-1\",\n",
    "        \"5-5\",\n",
    "        \"6-1\",\n",
    "        \"6-15\",\n",
    "        \"6-6\",\n",
    "        \"7-10\",\n",
    "        \"7-11\",\n",
    "        \"7-12\",\n",
    "        \"7-13\",\n",
    "        \"7-14\",\n",
    "        \"7-7\",\n",
    "        \"7-8\",\n",
    "        \"7-9\",\n",
    "        \"8-1\",\n",
    "        \"8-13\",\n",
    "        \"8-14\",\n",
    "        \"8-18\",\n",
    "        \"8-20\",\n",
    "        \"8-3\",\n",
    "        \"8-8\",\n",
    "        \"9-1\",\n",
    "        \"9-7\",\n",
    "    ],\n",
    "    \"labels_target\": [\n",
    "        \"1-10\",\n",
    "        \"1-12\",\n",
    "        \"1-14\",\n",
    "        \"1-16\",\n",
    "        \"1-18\",\n",
    "        \"1-19\",\n",
    "        \"1-8\",\n",
    "        \"10-11\",\n",
    "        \"10-17\",\n",
    "        \"10-4\",\n",
    "        \"10-7\",\n",
    "        \"11-1\",\n",
    "        \"11-10\",\n",
    "        \"11-19\",\n",
    "        \"11-20\",\n",
    "        \"11-4\",\n",
    "        \"11-7\",\n",
    "        \"12-19\",\n",
    "        \"12-20\",\n",
    "        \"12-7\",\n",
    "        \"13-14\",\n",
    "        \"13-18\",\n",
    "        \"13-19\",\n",
    "        \"13-20\",\n",
    "        \"13-3\",\n",
    "        \"13-7\",\n",
    "        \"14-10\",\n",
    "        \"14-11\",\n",
    "        \"14-12\",\n",
    "        \"14-13\",\n",
    "        \"14-14\",\n",
    "        \"14-19\",\n",
    "        \"14-20\",\n",
    "        \"14-7\",\n",
    "        \"14-8\",\n",
    "        \"14-9\",\n",
    "        \"15-1\",\n",
    "        \"15-19\",\n",
    "        \"15-6\",\n",
    "        \"16-1\",\n",
    "        \"16-16\",\n",
    "        \"16-19\",\n",
    "        \"16-20\",\n",
    "        \"17-10\",\n",
    "        \"17-11\",\n",
    "        \"18-1\",\n",
    "        \"18-10\",\n",
    "        \"18-11\",\n",
    "        \"18-12\",\n",
    "        \"18-13\",\n",
    "        \"18-14\",\n",
    "        \"18-15\",\n",
    "        \"18-16\",\n",
    "        \"18-17\",\n",
    "        \"18-19\",\n",
    "        \"18-2\",\n",
    "        \"18-20\",\n",
    "        \"18-4\",\n",
    "        \"18-5\",\n",
    "        \"18-7\",\n",
    "        \"18-8\",\n",
    "        \"18-9\",\n",
    "        \"19-1\",\n",
    "        \"19-10\",\n",
    "        \"19-11\",\n",
    "        \"19-12\",\n",
    "        \"19-13\",\n",
    "        \"19-14\",\n",
    "        \"19-15\",\n",
    "        \"19-19\",\n",
    "        \"19-2\",\n",
    "        \"19-20\",\n",
    "        \"19-3\",\n",
    "        \"19-4\",\n",
    "        \"19-6\",\n",
    "        \"19-7\",\n",
    "        \"19-8\",\n",
    "        \"19-9\",\n",
    "        \"2-1\",\n",
    "        \"2-13\",\n",
    "        \"2-15\",\n",
    "        \"2-3\",\n",
    "        \"2-4\",\n",
    "        \"2-5\",\n",
    "        \"2-6\",\n",
    "        \"2-7\",\n",
    "        \"2-8\",\n",
    "        \"20-1\",\n",
    "        \"20-12\",\n",
    "        \"20-14\",\n",
    "        \"20-15\",\n",
    "        \"20-16\",\n",
    "        \"20-18\",\n",
    "        \"20-19\",\n",
    "        \"20-20\",\n",
    "        \"20-3\",\n",
    "        \"20-4\",\n",
    "        \"20-5\",\n",
    "        \"20-7\",\n",
    "        \"20-8\",\n",
    "        \"3-1\",\n",
    "        \"3-13\",\n",
    "        \"3-18\",\n",
    "        \"3-2\",\n",
    "        \"3-8\",\n",
    "        \"4-1\",\n",
    "        \"4-10\",\n",
    "        \"4-11\",\n",
    "        \"5-1\",\n",
    "        \"5-5\",\n",
    "        \"6-1\",\n",
    "        \"6-15\",\n",
    "        \"6-6\",\n",
    "        \"7-10\",\n",
    "        \"7-11\",\n",
    "        \"7-12\",\n",
    "        \"7-13\",\n",
    "        \"7-14\",\n",
    "        \"7-7\",\n",
    "        \"7-8\",\n",
    "        \"7-9\",\n",
    "        \"8-1\",\n",
    "        \"8-13\",\n",
    "        \"8-14\",\n",
    "        \"8-18\",\n",
    "        \"8-20\",\n",
    "        \"8-3\",\n",
    "        \"8-8\",\n",
    "        \"9-1\",\n",
    "        \"9-7\",\n",
    "    ],\n",
    "    \"x_transforms_source\": [\"unit_power\"],\n",
    "    \"x_transforms_target\": [\"unit_power\"],\n",
    "    \"episode_transforms_source\": [],\n",
    "    \"episode_transforms_target\": [],\n",
    "    \"domains_source\": [3],\n",
    "    \"domains_target\": [1, 2, 4],\n",
    "    \"num_examples_per_domain_per_label_source\": 100,\n",
    "    \"num_examples_per_domain_per_label_target\": 100,\n",
    "    \"n_shot\": 3,\n",
    "    \"n_way\": 130,\n",
    "    \"n_query\": 2,\n",
    "    \"train_k_factor\": 3,\n",
    "    \"val_k_factor\": 2,\n",
    "    \"test_k_factor\": 2,\n",
    "    \"torch_default_dtype\": \"torch.float32\",\n",
    "    \"n_epoch\": 50,\n",
    "    \"patience\": 3,\n",
    "    \"criteria_for_best\": \"target_loss\",\n",
    "    \"x_net\": [\n",
    "        {\"class\": \"nnReshape\", \"kargs\": {\"shape\": [-1, 1, 2, 256]}},\n",
    "        {\n",
    "            \"class\": \"Conv2d\",\n",
    "            \"kargs\": {\n",
    "                \"in_channels\": 1,\n",
    "                \"out_channels\": 256,\n",
    "                \"kernel_size\": [1, 7],\n",
    "                \"bias\": False,\n",
    "                \"padding\": [0, 3],\n",
    "            },\n",
    "        },\n",
    "        {\"class\": \"ReLU\", \"kargs\": {\"inplace\": True}},\n",
    "        {\"class\": \"BatchNorm2d\", \"kargs\": {\"num_features\": 256}},\n",
    "        {\n",
    "            \"class\": \"Conv2d\",\n",
    "            \"kargs\": {\n",
    "                \"in_channels\": 256,\n",
    "                \"out_channels\": 80,\n",
    "                \"kernel_size\": [2, 7],\n",
    "                \"bias\": True,\n",
    "                \"padding\": [0, 3],\n",
    "            },\n",
    "        },\n",
    "        {\"class\": \"ReLU\", \"kargs\": {\"inplace\": True}},\n",
    "        {\"class\": \"BatchNorm2d\", \"kargs\": {\"num_features\": 80}},\n",
    "        {\"class\": \"Flatten\", \"kargs\": {}},\n",
    "        {\"class\": \"Linear\", \"kargs\": {\"in_features\": 20480, \"out_features\": 256}},\n",
    "        {\"class\": \"ReLU\", \"kargs\": {\"inplace\": True}},\n",
    "        {\"class\": \"BatchNorm1d\", \"kargs\": {\"num_features\": 256}},\n",
    "        {\"class\": \"Linear\", \"kargs\": {\"in_features\": 256, \"out_features\": 256}},\n",
    "    ],\n",
    "    \"NUM_LOGS_PER_EPOCH\": 10,\n",
    "    \"BEST_MODEL_PATH\": \"./best_model.pth\",\n",
    "    \"pickle_name\": \"wisig.node3-19.stratified_ds.2022A.pkl\",\n",
    "}\n"
   ]
  },
  {
   "cell_type": "code",
   "execution_count": 5,
   "id": "8fa1cc33",
   "metadata": {
    "execution": {
     "iopub.execute_input": "2022-03-06T01:00:25.128404Z",
     "iopub.status.busy": "2022-03-06T01:00:25.128147Z",
     "iopub.status.idle": "2022-03-06T01:00:25.140307Z",
     "shell.execute_reply": "2022-03-06T01:00:25.139922Z"
    },
    "papermill": {
     "duration": 0.025144,
     "end_time": "2022-03-06T01:00:25.140396",
     "exception": false,
     "start_time": "2022-03-06T01:00:25.115252",
     "status": "completed"
    },
    "tags": []
   },
   "outputs": [],
   "source": [
    "# Set this to True if you want to run this template directly\n",
    "STANDALONE = False\n",
    "if STANDALONE:\n",
    "    print(\"parameters not injected, running with standalone_parameters\")\n",
    "    parameters = standalone_parameters\n",
    "\n",
    "if not 'parameters' in locals() and not 'parameters' in globals():\n",
    "    raise Exception(\"Parameter injection failed\")\n",
    "\n",
    "#Use an easy dict for all the parameters\n",
    "p = EasyDict(parameters)\n",
    "\n",
    "supplied_keys = set(p.keys())\n",
    "\n",
    "if  supplied_keys != required_parameters:\n",
    "    print(\"Parameters are incorrect\")\n",
    "    if len(supplied_keys - required_parameters)>0: print(\"Shouldn't have:\", str(supplied_keys - required_parameters))\n",
    "    if len(required_parameters - supplied_keys)>0: print(\"Need to have:\", str(required_parameters - supplied_keys))\n",
    "    raise RuntimeError(\"Parameters are incorrect\")\n",
    "\n"
   ]
  },
  {
   "cell_type": "code",
   "execution_count": 6,
   "id": "3a028d58",
   "metadata": {
    "execution": {
     "iopub.execute_input": "2022-03-06T01:00:25.165595Z",
     "iopub.status.busy": "2022-03-06T01:00:25.165342Z",
     "iopub.status.idle": "2022-03-06T01:00:25.178013Z",
     "shell.execute_reply": "2022-03-06T01:00:25.177769Z"
    },
    "papermill": {
     "duration": 0.024919,
     "end_time": "2022-03-06T01:00:25.178061",
     "exception": false,
     "start_time": "2022-03-06T01:00:25.153142",
     "status": "completed"
    },
    "tags": []
   },
   "outputs": [],
   "source": [
    "###################################\n",
    "# Set the RNGs and make it all deterministic\n",
    "###################################\n",
    "np.random.seed(p.seed)\n",
    "random.seed(p.seed)\n",
    "torch.manual_seed(p.seed)\n",
    "\n",
    "torch.use_deterministic_algorithms(True) "
   ]
  },
  {
   "cell_type": "code",
   "execution_count": 7,
   "id": "b691acf6",
   "metadata": {
    "execution": {
     "iopub.execute_input": "2022-03-06T01:00:25.204212Z",
     "iopub.status.busy": "2022-03-06T01:00:25.203964Z",
     "iopub.status.idle": "2022-03-06T01:00:25.216896Z",
     "shell.execute_reply": "2022-03-06T01:00:25.216438Z"
    },
    "papermill": {
     "duration": 0.025053,
     "end_time": "2022-03-06T01:00:25.217005",
     "exception": false,
     "start_time": "2022-03-06T01:00:25.191952",
     "status": "completed"
    },
    "tags": []
   },
   "outputs": [],
   "source": [
    "###########################################\n",
    "# The stratified datasets honor this\n",
    "###########################################\n",
    "torch.set_default_dtype(eval(p.torch_default_dtype))"
   ]
  },
  {
   "cell_type": "code",
   "execution_count": 8,
   "id": "b5fba671",
   "metadata": {
    "execution": {
     "iopub.execute_input": "2022-03-06T01:00:25.243574Z",
     "iopub.status.busy": "2022-03-06T01:00:25.243313Z",
     "iopub.status.idle": "2022-03-06T01:00:25.283758Z",
     "shell.execute_reply": "2022-03-06T01:00:25.284142Z"
    },
    "papermill": {
     "duration": 0.054108,
     "end_time": "2022-03-06T01:00:25.284267",
     "exception": false,
     "start_time": "2022-03-06T01:00:25.230159",
     "status": "completed"
    },
    "tags": []
   },
   "outputs": [],
   "source": [
    "###################################\n",
    "# Build the network(s)\n",
    "# Note: It's critical to do this AFTER setting the RNG\n",
    "# (This is due to the randomized initial weights)\n",
    "###################################\n",
    "x_net = build_sequential(p.x_net)"
   ]
  },
  {
   "cell_type": "code",
   "execution_count": 9,
   "id": "5d7e61cc",
   "metadata": {
    "execution": {
     "iopub.execute_input": "2022-03-06T01:00:25.311482Z",
     "iopub.status.busy": "2022-03-06T01:00:25.311234Z",
     "iopub.status.idle": "2022-03-06T01:00:25.323582Z",
     "shell.execute_reply": "2022-03-06T01:00:25.323936Z"
    },
    "papermill": {
     "duration": 0.02455,
     "end_time": "2022-03-06T01:00:25.324041",
     "exception": false,
     "start_time": "2022-03-06T01:00:25.299491",
     "status": "completed"
    },
    "tags": []
   },
   "outputs": [],
   "source": [
    "start_time_secs = time.time()"
   ]
  },
  {
   "cell_type": "code",
   "execution_count": 10,
   "id": "fd5442bc",
   "metadata": {
    "execution": {
     "iopub.execute_input": "2022-03-06T01:00:25.357474Z",
     "iopub.status.busy": "2022-03-06T01:00:25.357091Z",
     "iopub.status.idle": "2022-03-06T01:00:29.193564Z",
     "shell.execute_reply": "2022-03-06T01:00:29.193075Z"
    },
    "papermill": {
     "duration": 3.854494,
     "end_time": "2022-03-06T01:00:29.193667",
     "exception": false,
     "start_time": "2022-03-06T01:00:25.339173",
     "status": "completed"
    },
    "tags": []
   },
   "outputs": [],
   "source": [
    "###################################\n",
    "# Build the dataset\n",
    "###################################\n",
    "\n",
    "if p.x_transforms_source == []: x_transform_source = None\n",
    "else: x_transform_source = get_chained_transform(p.x_transforms_source) \n",
    "\n",
    "if p.x_transforms_target == []: x_transform_target = None\n",
    "else: x_transform_target = get_chained_transform(p.x_transforms_target)\n",
    "\n",
    "if p.episode_transforms_source == []: episode_transform_source = None\n",
    "else: raise Exception(\"episode_transform_source not implemented\")\n",
    "\n",
    "if p.episode_transforms_target == []: episode_transform_target = None\n",
    "else: raise Exception(\"episode_transform_target not implemented\")\n",
    "\n",
    "\n",
    "eaf_source = Episodic_Accessor_Factory(\n",
    "    labels=p.labels_source,\n",
    "    domains=p.domains_source,\n",
    "    num_examples_per_domain_per_label=p.num_examples_per_domain_per_label_source,\n",
    "    iterator_seed=p.seed,\n",
    "    dataset_seed=p.dataset_seed,\n",
    "    n_shot=p.n_shot,\n",
    "    n_way=p.n_way,\n",
    "    n_query=p.n_query,\n",
    "    train_val_test_k_factors=(p.train_k_factor,p.val_k_factor,p.test_k_factor),\n",
    "    pickle_path=os.path.join(get_datasets_base_path(), p.pickle_name),\n",
    "    x_transform_func=x_transform_source,\n",
    "    example_transform_func=episode_transform_source,\n",
    "    \n",
    ")\n",
    "train_original_source, val_original_source, test_original_source = eaf_source.get_train(), eaf_source.get_val(), eaf_source.get_test()\n",
    "\n",
    "\n",
    "eaf_target = Episodic_Accessor_Factory(\n",
    "    labels=p.labels_target,\n",
    "    domains=p.domains_target,\n",
    "    num_examples_per_domain_per_label=p.num_examples_per_domain_per_label_target,\n",
    "    iterator_seed=p.seed,\n",
    "    dataset_seed=p.dataset_seed,\n",
    "    n_shot=p.n_shot,\n",
    "    n_way=p.n_way,\n",
    "    n_query=p.n_query,\n",
    "    train_val_test_k_factors=(p.train_k_factor,p.val_k_factor,p.test_k_factor),\n",
    "    pickle_path=os.path.join(get_datasets_base_path(), p.pickle_name),\n",
    "    x_transform_func=x_transform_target,\n",
    "    example_transform_func=episode_transform_target,\n",
    ")\n",
    "train_original_target, val_original_target, test_original_target = eaf_target.get_train(), eaf_target.get_val(), eaf_target.get_test()\n",
    "\n",
    "\n",
    "transform_lambda = lambda ex: ex[1] # Original is (<domain>, <episode>) so we strip down to episode only\n",
    "\n",
    "train_processed_source = Lazy_Iterable_Wrapper(train_original_source, transform_lambda)\n",
    "val_processed_source   = Lazy_Iterable_Wrapper(val_original_source, transform_lambda)\n",
    "test_processed_source  = Lazy_Iterable_Wrapper(test_original_source, transform_lambda)\n",
    "\n",
    "train_processed_target = Lazy_Iterable_Wrapper(train_original_target, transform_lambda)\n",
    "val_processed_target   = Lazy_Iterable_Wrapper(val_original_target, transform_lambda)\n",
    "test_processed_target  = Lazy_Iterable_Wrapper(test_original_target, transform_lambda)\n",
    "\n",
    "datasets = EasyDict({\n",
    "    \"source\": {\n",
    "        \"original\": {\"train\":train_original_source, \"val\":val_original_source, \"test\":test_original_source},\n",
    "        \"processed\": {\"train\":train_processed_source, \"val\":val_processed_source, \"test\":test_processed_source}\n",
    "    },\n",
    "    \"target\": {\n",
    "        \"original\": {\"train\":train_original_target, \"val\":val_original_target, \"test\":test_original_target},\n",
    "        \"processed\": {\"train\":train_processed_target, \"val\":val_processed_target, \"test\":test_processed_target}\n",
    "    },\n",
    "})"
   ]
  },
  {
   "cell_type": "code",
   "execution_count": 11,
   "id": "296189d9",
   "metadata": {
    "execution": {
     "iopub.execute_input": "2022-03-06T01:00:29.223379Z",
     "iopub.status.busy": "2022-03-06T01:00:29.223115Z",
     "iopub.status.idle": "2022-03-06T01:00:30.897220Z",
     "shell.execute_reply": "2022-03-06T01:00:30.897666Z"
    },
    "papermill": {
     "duration": 1.687423,
     "end_time": "2022-03-06T01:00:30.897807",
     "exception": false,
     "start_time": "2022-03-06T01:00:29.210384",
     "status": "completed"
    },
    "tags": []
   },
   "outputs": [
    {
     "name": "stdout",
     "output_type": "stream",
     "text": [
      "Visually inspect these to see if they line up with expected values given the transforms\n",
      "x_transforms_source ['unit_power']\n",
      "x_transforms_target ['unit_power']\n",
      "Average magnitude, source: 0.90662146\n",
      "Average power, source: 1.0\n"
     ]
    },
    {
     "name": "stdout",
     "output_type": "stream",
     "text": [
      "Average magnitude, target: 0.8951361\n",
      "Average power, target: 1.0\n"
     ]
    }
   ],
   "source": [
    "# Some quick unit tests on the data\n",
    "from steves_utils.transforms import get_average_power, get_average_magnitude\n",
    "\n",
    "q_x, q_y, s_x, s_y, truth = next(iter(train_processed_source))\n",
    "\n",
    "assert q_x.dtype == eval(p.torch_default_dtype)\n",
    "assert s_x.dtype == eval(p.torch_default_dtype)\n",
    "\n",
    "print(\"Visually inspect these to see if they line up with expected values given the transforms\")\n",
    "print('x_transforms_source', p.x_transforms_source)\n",
    "print('x_transforms_target', p.x_transforms_target)\n",
    "print(\"Average magnitude, source:\", get_average_magnitude(q_x[0].numpy()))\n",
    "print(\"Average power, source:\", get_average_power(q_x[0].numpy()))\n",
    "\n",
    "q_x, q_y, s_x, s_y, truth = next(iter(train_processed_target))\n",
    "print(\"Average magnitude, target:\", get_average_magnitude(q_x[0].numpy()))\n",
    "print(\"Average power, target:\", get_average_power(q_x[0].numpy()))\n"
   ]
  },
  {
   "cell_type": "code",
   "execution_count": 12,
   "id": "bbdacba1",
   "metadata": {
    "execution": {
     "iopub.execute_input": "2022-03-06T01:00:30.927659Z",
     "iopub.status.busy": "2022-03-06T01:00:30.927395Z",
     "iopub.status.idle": "2022-03-06T01:00:30.990790Z",
     "shell.execute_reply": "2022-03-06T01:00:30.991013Z"
    },
    "papermill": {
     "duration": 0.077705,
     "end_time": "2022-03-06T01:00:30.991091",
     "exception": false,
     "start_time": "2022-03-06T01:00:30.913386",
     "status": "completed"
    },
    "tags": []
   },
   "outputs": [
    {
     "name": "stdout",
     "output_type": "stream",
     "text": [
      "(2, 256)\n"
     ]
    }
   ],
   "source": [
    "###################################\n",
    "# Build the model\n",
    "###################################\n",
    "model = Steves_Prototypical_Network(x_net, device=p.device, x_shape=(2,256))\n",
    "optimizer = Adam(params=model.parameters(), lr=p.lr)"
   ]
  },
  {
   "cell_type": "code",
   "execution_count": 13,
   "id": "22b39ac5",
   "metadata": {
    "execution": {
     "iopub.execute_input": "2022-03-06T01:00:31.014883Z",
     "iopub.status.busy": "2022-03-06T01:00:31.014610Z",
     "iopub.status.idle": "2022-03-06T01:01:45.874301Z",
     "shell.execute_reply": "2022-03-06T01:01:45.874527Z"
    },
    "papermill": {
     "duration": 74.872553,
     "end_time": "2022-03-06T01:01:45.874608",
     "exception": false,
     "start_time": "2022-03-06T01:00:31.002055",
     "status": "completed"
    },
    "tags": []
   },
   "outputs": [
    {
     "name": "stdout",
     "output_type": "stream",
     "text": [
      "epoch: 1, [batch: 1 / 42], examples_per_second: 2230.4853, train_label_loss: 4.5383, \n"
     ]
    },
    {
     "name": "stdout",
     "output_type": "stream",
     "text": [
      "epoch: 1, [batch: 5 / 42], examples_per_second: 3900.8031, train_label_loss: 2.6704, \n"
     ]
    },
    {
     "name": "stdout",
     "output_type": "stream",
     "text": [
      "epoch: 1, [batch: 9 / 42], examples_per_second: 3937.5614, train_label_loss: 1.6665, \n"
     ]
    },
    {
     "name": "stdout",
     "output_type": "stream",
     "text": [
      "epoch: 1, [batch: 13 / 42], examples_per_second: 3955.4554, train_label_loss: 1.6765, \n"
     ]
    },
    {
     "name": "stdout",
     "output_type": "stream",
     "text": [
      "epoch: 1, [batch: 17 / 42], examples_per_second: 3950.8525, train_label_loss: 1.1781, \n"
     ]
    },
    {
     "name": "stdout",
     "output_type": "stream",
     "text": [
      "epoch: 1, [batch: 21 / 42], examples_per_second: 3945.7049, train_label_loss: 1.2196, \n"
     ]
    },
    {
     "name": "stdout",
     "output_type": "stream",
     "text": [
      "epoch: 1, [batch: 25 / 42], examples_per_second: 3952.3445, train_label_loss: 1.3154, \n"
     ]
    },
    {
     "name": "stdout",
     "output_type": "stream",
     "text": [
      "epoch: 1, [batch: 29 / 42], examples_per_second: 3964.2178, train_label_loss: 1.0826, \n"
     ]
    },
    {
     "name": "stdout",
     "output_type": "stream",
     "text": [
      "epoch: 1, [batch: 33 / 42], examples_per_second: 3980.2812, train_label_loss: 1.0200, \n"
     ]
    },
    {
     "name": "stdout",
     "output_type": "stream",
     "text": [
      "epoch: 1, [batch: 37 / 42], examples_per_second: 4043.8525, train_label_loss: 1.0710, \n"
     ]
    },
    {
     "name": "stdout",
     "output_type": "stream",
     "text": [
      "=============================================================\n",
      "epoch: 1, source_val_acc_label: 0.8346, target_val_acc_label: 0.7611, source_val_label_loss: 1.0055, target_val_label_loss: 1.2754, \n",
      "=============================================================\n"
     ]
    },
    {
     "name": "stdout",
     "output_type": "stream",
     "text": [
      "New best\n"
     ]
    },
    {
     "name": "stdout",
     "output_type": "stream",
     "text": [
      "epoch: 2, [batch: 1 / 42], examples_per_second: 517.1817, train_label_loss: 0.8322, \n"
     ]
    },
    {
     "name": "stdout",
     "output_type": "stream",
     "text": [
      "epoch: 2, [batch: 5 / 42], examples_per_second: 3979.4432, train_label_loss: 0.8736, \n"
     ]
    },
    {
     "name": "stdout",
     "output_type": "stream",
     "text": [
      "epoch: 2, [batch: 9 / 42], examples_per_second: 3984.5817, train_label_loss: 0.6227, \n"
     ]
    },
    {
     "name": "stdout",
     "output_type": "stream",
     "text": [
      "epoch: 2, [batch: 13 / 42], examples_per_second: 4018.6533, train_label_loss: 0.7269, \n"
     ]
    },
    {
     "name": "stdout",
     "output_type": "stream",
     "text": [
      "epoch: 2, [batch: 17 / 42], examples_per_second: 4028.2800, train_label_loss: 0.5417, \n"
     ]
    },
    {
     "name": "stdout",
     "output_type": "stream",
     "text": [
      "epoch: 2, [batch: 21 / 42], examples_per_second: 4005.8753, train_label_loss: 0.8228, \n"
     ]
    },
    {
     "name": "stdout",
     "output_type": "stream",
     "text": [
      "epoch: 2, [batch: 25 / 42], examples_per_second: 4025.8946, train_label_loss: 0.5269, \n"
     ]
    },
    {
     "name": "stdout",
     "output_type": "stream",
     "text": [
      "epoch: 2, [batch: 29 / 42], examples_per_second: 4030.3375, train_label_loss: 0.4830, \n"
     ]
    },
    {
     "name": "stdout",
     "output_type": "stream",
     "text": [
      "epoch: 2, [batch: 33 / 42], examples_per_second: 4080.7325, train_label_loss: 0.6496, \n"
     ]
    },
    {
     "name": "stdout",
     "output_type": "stream",
     "text": [
      "epoch: 2, [batch: 37 / 42], examples_per_second: 4114.7112, train_label_loss: 0.3741, \n"
     ]
    },
    {
     "name": "stdout",
     "output_type": "stream",
     "text": [
      "=============================================================\n",
      "epoch: 2, source_val_acc_label: 0.8712, target_val_acc_label: 0.7983, source_val_label_loss: 0.6449, target_val_label_loss: 1.0224, \n",
      "=============================================================\n"
     ]
    },
    {
     "name": "stdout",
     "output_type": "stream",
     "text": [
      "New best\n"
     ]
    },
    {
     "name": "stdout",
     "output_type": "stream",
     "text": [
      "epoch: 3, [batch: 1 / 42], examples_per_second: 511.3332, train_label_loss: 0.4590, \n"
     ]
    },
    {
     "name": "stdout",
     "output_type": "stream",
     "text": [
      "epoch: 3, [batch: 5 / 42], examples_per_second: 3980.0633, train_label_loss: 0.4180, \n"
     ]
    },
    {
     "name": "stdout",
     "output_type": "stream",
     "text": [
      "epoch: 3, [batch: 9 / 42], examples_per_second: 4021.4334, train_label_loss: 0.4692, \n"
     ]
    },
    {
     "name": "stdout",
     "output_type": "stream",
     "text": [
      "epoch: 3, [batch: 13 / 42], examples_per_second: 4040.9814, train_label_loss: 0.3943, \n"
     ]
    },
    {
     "name": "stdout",
     "output_type": "stream",
     "text": [
      "epoch: 3, [batch: 17 / 42], examples_per_second: 4028.8604, train_label_loss: 0.2672, \n"
     ]
    },
    {
     "name": "stdout",
     "output_type": "stream",
     "text": [
      "epoch: 3, [batch: 21 / 42], examples_per_second: 4013.5595, train_label_loss: 0.2359, \n"
     ]
    },
    {
     "name": "stdout",
     "output_type": "stream",
     "text": [
      "epoch: 3, [batch: 25 / 42], examples_per_second: 4030.8619, train_label_loss: 0.3972, \n"
     ]
    },
    {
     "name": "stdout",
     "output_type": "stream",
     "text": [
      "epoch: 3, [batch: 29 / 42], examples_per_second: 4029.1358, train_label_loss: 0.2369, \n"
     ]
    },
    {
     "name": "stdout",
     "output_type": "stream",
     "text": [
      "epoch: 3, [batch: 33 / 42], examples_per_second: 4069.5488, train_label_loss: 0.1905, \n"
     ]
    },
    {
     "name": "stdout",
     "output_type": "stream",
     "text": [
      "epoch: 3, [batch: 37 / 42], examples_per_second: 4116.1354, train_label_loss: 0.2061, \n"
     ]
    },
    {
     "name": "stdout",
     "output_type": "stream",
     "text": [
      "=============================================================\n",
      "epoch: 3, source_val_acc_label: 0.8885, target_val_acc_label: 0.8028, source_val_label_loss: 0.5859, target_val_label_loss: 0.9980, \n",
      "=============================================================\n"
     ]
    },
    {
     "name": "stdout",
     "output_type": "stream",
     "text": [
      "New best\n"
     ]
    },
    {
     "name": "stdout",
     "output_type": "stream",
     "text": [
      "epoch: 4, [batch: 1 / 42], examples_per_second: 505.4192, train_label_loss: 0.2115, \n"
     ]
    },
    {
     "name": "stdout",
     "output_type": "stream",
     "text": [
      "epoch: 4, [batch: 5 / 42], examples_per_second: 3978.9495, train_label_loss: 0.2713, \n"
     ]
    },
    {
     "name": "stdout",
     "output_type": "stream",
     "text": [
      "epoch: 4, [batch: 9 / 42], examples_per_second: 4035.5098, train_label_loss: 0.2959, \n"
     ]
    },
    {
     "name": "stdout",
     "output_type": "stream",
     "text": [
      "epoch: 4, [batch: 13 / 42], examples_per_second: 4023.9352, train_label_loss: 0.3396, \n"
     ]
    },
    {
     "name": "stdout",
     "output_type": "stream",
     "text": [
      "epoch: 4, [batch: 17 / 42], examples_per_second: 4033.3650, train_label_loss: 0.1966, \n"
     ]
    },
    {
     "name": "stdout",
     "output_type": "stream",
     "text": [
      "epoch: 4, [batch: 21 / 42], examples_per_second: 4017.3313, train_label_loss: 0.3391, \n"
     ]
    },
    {
     "name": "stdout",
     "output_type": "stream",
     "text": [
      "epoch: 4, [batch: 25 / 42], examples_per_second: 4024.1387, train_label_loss: 0.3175, \n"
     ]
    },
    {
     "name": "stdout",
     "output_type": "stream",
     "text": [
      "epoch: 4, [batch: 29 / 42], examples_per_second: 4044.7794, train_label_loss: 0.2757, \n"
     ]
    },
    {
     "name": "stdout",
     "output_type": "stream",
     "text": [
      "epoch: 4, [batch: 33 / 42], examples_per_second: 4063.3182, train_label_loss: 0.2245, \n"
     ]
    },
    {
     "name": "stdout",
     "output_type": "stream",
     "text": [
      "epoch: 4, [batch: 37 / 42], examples_per_second: 4122.4840, train_label_loss: 0.1744, \n"
     ]
    },
    {
     "name": "stdout",
     "output_type": "stream",
     "text": [
      "=============================================================\n",
      "epoch: 4, source_val_acc_label: 0.8974, target_val_acc_label: 0.8073, source_val_label_loss: 0.5488, target_val_label_loss: 0.9746, \n",
      "=============================================================\n"
     ]
    },
    {
     "name": "stdout",
     "output_type": "stream",
     "text": [
      "New best\n"
     ]
    },
    {
     "name": "stdout",
     "output_type": "stream",
     "text": [
      "epoch: 5, [batch: 1 / 42], examples_per_second: 512.2083, train_label_loss: 0.1591, \n"
     ]
    },
    {
     "name": "stdout",
     "output_type": "stream",
     "text": [
      "epoch: 5, [batch: 5 / 42], examples_per_second: 3998.4067, train_label_loss: 0.2040, \n"
     ]
    },
    {
     "name": "stdout",
     "output_type": "stream",
     "text": [
      "epoch: 5, [batch: 9 / 42], examples_per_second: 4044.0459, train_label_loss: 0.2204, \n"
     ]
    },
    {
     "name": "stdout",
     "output_type": "stream",
     "text": [
      "epoch: 5, [batch: 13 / 42], examples_per_second: 4050.3649, train_label_loss: 0.1556, \n"
     ]
    },
    {
     "name": "stdout",
     "output_type": "stream",
     "text": [
      "epoch: 5, [batch: 17 / 42], examples_per_second: 4042.5603, train_label_loss: 0.1362, \n"
     ]
    },
    {
     "name": "stdout",
     "output_type": "stream",
     "text": [
      "epoch: 5, [batch: 21 / 42], examples_per_second: 4038.0770, train_label_loss: 0.0816, \n"
     ]
    },
    {
     "name": "stdout",
     "output_type": "stream",
     "text": [
      "epoch: 5, [batch: 25 / 42], examples_per_second: 4004.6705, train_label_loss: 0.0862, \n"
     ]
    },
    {
     "name": "stdout",
     "output_type": "stream",
     "text": [
      "epoch: 5, [batch: 29 / 42], examples_per_second: 4058.4006, train_label_loss: 0.2905, \n"
     ]
    },
    {
     "name": "stdout",
     "output_type": "stream",
     "text": [
      "epoch: 5, [batch: 33 / 42], examples_per_second: 4062.1392, train_label_loss: 0.0696, \n"
     ]
    },
    {
     "name": "stdout",
     "output_type": "stream",
     "text": [
      "epoch: 5, [batch: 37 / 42], examples_per_second: 4122.3141, train_label_loss: 0.1439, \n"
     ]
    },
    {
     "name": "stdout",
     "output_type": "stream",
     "text": [
      "=============================================================\n",
      "epoch: 5, source_val_acc_label: 0.9032, target_val_acc_label: 0.8199, source_val_label_loss: 0.5467, target_val_label_loss: 0.9716, \n",
      "=============================================================\n"
     ]
    },
    {
     "name": "stdout",
     "output_type": "stream",
     "text": [
      "New best\n"
     ]
    },
    {
     "name": "stdout",
     "output_type": "stream",
     "text": [
      "epoch: 6, [batch: 1 / 42], examples_per_second: 514.9651, train_label_loss: 0.1054, \n"
     ]
    },
    {
     "name": "stdout",
     "output_type": "stream",
     "text": [
      "epoch: 6, [batch: 5 / 42], examples_per_second: 3987.2055, train_label_loss: 0.1563, \n"
     ]
    },
    {
     "name": "stdout",
     "output_type": "stream",
     "text": [
      "epoch: 6, [batch: 9 / 42], examples_per_second: 4030.5684, train_label_loss: 0.1511, \n"
     ]
    },
    {
     "name": "stdout",
     "output_type": "stream",
     "text": [
      "epoch: 6, [batch: 13 / 42], examples_per_second: 4024.1208, train_label_loss: 0.1625, \n"
     ]
    },
    {
     "name": "stdout",
     "output_type": "stream",
     "text": [
      "epoch: 6, [batch: 17 / 42], examples_per_second: 4040.1939, train_label_loss: 0.1522, \n"
     ]
    },
    {
     "name": "stdout",
     "output_type": "stream",
     "text": [
      "epoch: 6, [batch: 21 / 42], examples_per_second: 4006.3139, train_label_loss: 0.0480, \n"
     ]
    },
    {
     "name": "stdout",
     "output_type": "stream",
     "text": [
      "epoch: 6, [batch: 25 / 42], examples_per_second: 4039.6955, train_label_loss: 0.0597, \n"
     ]
    },
    {
     "name": "stdout",
     "output_type": "stream",
     "text": [
      "epoch: 6, [batch: 29 / 42], examples_per_second: 4033.8782, train_label_loss: 0.0902, \n"
     ]
    },
    {
     "name": "stdout",
     "output_type": "stream",
     "text": [
      "epoch: 6, [batch: 33 / 42], examples_per_second: 4073.9669, train_label_loss: 0.1343, \n"
     ]
    },
    {
     "name": "stdout",
     "output_type": "stream",
     "text": [
      "epoch: 6, [batch: 37 / 42], examples_per_second: 4126.4228, train_label_loss: 0.0751, \n"
     ]
    },
    {
     "name": "stdout",
     "output_type": "stream",
     "text": [
      "=============================================================\n",
      "epoch: 6, source_val_acc_label: 0.9083, target_val_acc_label: 0.8126, source_val_label_loss: 0.5548, target_val_label_loss: 1.0370, \n",
      "=============================================================\n"
     ]
    },
    {
     "name": "stdout",
     "output_type": "stream",
     "text": [
      "epoch: 7, [batch: 1 / 42], examples_per_second: 526.6601, train_label_loss: 0.0546, \n"
     ]
    },
    {
     "name": "stdout",
     "output_type": "stream",
     "text": [
      "epoch: 7, [batch: 5 / 42], examples_per_second: 3980.1941, train_label_loss: 0.1376, \n"
     ]
    },
    {
     "name": "stdout",
     "output_type": "stream",
     "text": [
      "epoch: 7, [batch: 9 / 42], examples_per_second: 3996.8211, train_label_loss: 0.0520, \n"
     ]
    },
    {
     "name": "stdout",
     "output_type": "stream",
     "text": [
      "epoch: 7, [batch: 13 / 42], examples_per_second: 4028.9348, train_label_loss: 0.0849, \n"
     ]
    },
    {
     "name": "stdout",
     "output_type": "stream",
     "text": [
      "epoch: 7, [batch: 17 / 42], examples_per_second: 4034.0095, train_label_loss: 0.1445, \n"
     ]
    },
    {
     "name": "stdout",
     "output_type": "stream",
     "text": [
      "epoch: 7, [batch: 21 / 42], examples_per_second: 4015.6345, train_label_loss: 0.0657, \n"
     ]
    },
    {
     "name": "stdout",
     "output_type": "stream",
     "text": [
      "epoch: 7, [batch: 25 / 42], examples_per_second: 4031.9692, train_label_loss: 0.2180, \n"
     ]
    },
    {
     "name": "stdout",
     "output_type": "stream",
     "text": [
      "epoch: 7, [batch: 29 / 42], examples_per_second: 4038.7335, train_label_loss: 0.0524, \n"
     ]
    },
    {
     "name": "stdout",
     "output_type": "stream",
     "text": [
      "epoch: 7, [batch: 33 / 42], examples_per_second: 4066.1984, train_label_loss: 0.0861, \n"
     ]
    },
    {
     "name": "stdout",
     "output_type": "stream",
     "text": [
      "epoch: 7, [batch: 37 / 42], examples_per_second: 4121.8482, train_label_loss: 0.0815, \n"
     ]
    },
    {
     "name": "stdout",
     "output_type": "stream",
     "text": [
      "=============================================================\n",
      "epoch: 7, source_val_acc_label: 0.9038, target_val_acc_label: 0.8259, source_val_label_loss: 0.5703, target_val_label_loss: 0.9865, \n",
      "=============================================================\n"
     ]
    },
    {
     "name": "stdout",
     "output_type": "stream",
     "text": [
      "epoch: 8, [batch: 1 / 42], examples_per_second: 525.2234, train_label_loss: 0.0524, \n"
     ]
    },
    {
     "name": "stdout",
     "output_type": "stream",
     "text": [
      "epoch: 8, [batch: 5 / 42], examples_per_second: 3982.1751, train_label_loss: 0.0760, \n"
     ]
    },
    {
     "name": "stdout",
     "output_type": "stream",
     "text": [
      "epoch: 8, [batch: 9 / 42], examples_per_second: 4031.4907, train_label_loss: 0.0407, \n"
     ]
    },
    {
     "name": "stdout",
     "output_type": "stream",
     "text": [
      "epoch: 8, [batch: 13 / 42], examples_per_second: 4042.8061, train_label_loss: 0.0830, \n"
     ]
    },
    {
     "name": "stdout",
     "output_type": "stream",
     "text": [
      "epoch: 8, [batch: 17 / 42], examples_per_second: 4031.2999, train_label_loss: 0.0442, \n"
     ]
    },
    {
     "name": "stdout",
     "output_type": "stream",
     "text": [
      "epoch: 8, [batch: 21 / 42], examples_per_second: 4001.1574, train_label_loss: 0.1505, \n"
     ]
    },
    {
     "name": "stdout",
     "output_type": "stream",
     "text": [
      "epoch: 8, [batch: 25 / 42], examples_per_second: 4034.2423, train_label_loss: 0.0496, \n"
     ]
    },
    {
     "name": "stdout",
     "output_type": "stream",
     "text": [
      "epoch: 8, [batch: 29 / 42], examples_per_second: 4038.1069, train_label_loss: 0.0295, \n"
     ]
    },
    {
     "name": "stdout",
     "output_type": "stream",
     "text": [
      "epoch: 8, [batch: 33 / 42], examples_per_second: 4095.7416, train_label_loss: 0.0633, \n"
     ]
    },
    {
     "name": "stdout",
     "output_type": "stream",
     "text": [
      "epoch: 8, [batch: 37 / 42], examples_per_second: 4138.4508, train_label_loss: 0.1059, \n"
     ]
    },
    {
     "name": "stdout",
     "output_type": "stream",
     "text": [
      "=============================================================\n",
      "epoch: 8, source_val_acc_label: 0.9064, target_val_acc_label: 0.8171, source_val_label_loss: 0.5773, target_val_label_loss: 1.0823, \n",
      "=============================================================\n"
     ]
    },
    {
     "name": "stdout",
     "output_type": "stream",
     "text": [
      "epoch: 9, [batch: 1 / 42], examples_per_second: 527.1646, train_label_loss: 0.0422, \n"
     ]
    },
    {
     "name": "stdout",
     "output_type": "stream",
     "text": [
      "epoch: 9, [batch: 5 / 42], examples_per_second: 3991.4274, train_label_loss: 0.0281, \n"
     ]
    },
    {
     "name": "stdout",
     "output_type": "stream",
     "text": [
      "epoch: 9, [batch: 9 / 42], examples_per_second: 4045.1500, train_label_loss: 0.1213, \n"
     ]
    },
    {
     "name": "stdout",
     "output_type": "stream",
     "text": [
      "epoch: 9, [batch: 13 / 42], examples_per_second: 4052.0159, train_label_loss: 0.0329, \n"
     ]
    },
    {
     "name": "stdout",
     "output_type": "stream",
     "text": [
      "epoch: 9, [batch: 17 / 42], examples_per_second: 4045.3976, train_label_loss: 0.0781, \n"
     ]
    },
    {
     "name": "stdout",
     "output_type": "stream",
     "text": [
      "epoch: 9, [batch: 21 / 42], examples_per_second: 4032.6341, train_label_loss: 0.0108, \n"
     ]
    },
    {
     "name": "stdout",
     "output_type": "stream",
     "text": [
      "epoch: 9, [batch: 25 / 42], examples_per_second: 4046.6585, train_label_loss: 0.0840, \n"
     ]
    },
    {
     "name": "stdout",
     "output_type": "stream",
     "text": [
      "epoch: 9, [batch: 29 / 42], examples_per_second: 4041.0638, train_label_loss: 0.0804, \n"
     ]
    },
    {
     "name": "stdout",
     "output_type": "stream",
     "text": [
      "epoch: 9, [batch: 33 / 42], examples_per_second: 4091.2655, train_label_loss: 0.0772, \n"
     ]
    },
    {
     "name": "stdout",
     "output_type": "stream",
     "text": [
      "epoch: 9, [batch: 37 / 42], examples_per_second: 4122.9999, train_label_loss: 0.1097, \n"
     ]
    },
    {
     "name": "stdout",
     "output_type": "stream",
     "text": [
      "=============================================================\n",
      "epoch: 9, source_val_acc_label: 0.9000, target_val_acc_label: 0.8109, source_val_label_loss: 0.5644, target_val_label_loss: 1.0535, \n",
      "=============================================================\n"
     ]
    },
    {
     "name": "stdout",
     "output_type": "stream",
     "text": [
      "Patience (3) exhausted\n"
     ]
    }
   ],
   "source": [
    "###################################\n",
    "# train\n",
    "###################################\n",
    "jig = PTN_Train_Eval_Test_Jig(model, p.BEST_MODEL_PATH, p.device)\n",
    "\n",
    "jig.train(\n",
    "    train_iterable=datasets.source.processed.train,\n",
    "    source_val_iterable=datasets.source.processed.val,\n",
    "    target_val_iterable=datasets.target.processed.val,\n",
    "    num_epochs=p.n_epoch,\n",
    "    num_logs_per_epoch=p.NUM_LOGS_PER_EPOCH,\n",
    "    patience=p.patience,\n",
    "    optimizer=optimizer,\n",
    "    criteria_for_best=p.criteria_for_best,\n",
    ")"
   ]
  },
  {
   "cell_type": "code",
   "execution_count": 14,
   "id": "31e8fabf",
   "metadata": {
    "execution": {
     "iopub.execute_input": "2022-03-06T01:01:45.934297Z",
     "iopub.status.busy": "2022-03-06T01:01:45.933893Z",
     "iopub.status.idle": "2022-03-06T01:01:45.946342Z",
     "shell.execute_reply": "2022-03-06T01:01:45.946051Z"
    },
    "papermill": {
     "duration": 0.043089,
     "end_time": "2022-03-06T01:01:45.946407",
     "exception": false,
     "start_time": "2022-03-06T01:01:45.903318",
     "status": "completed"
    },
    "tags": []
   },
   "outputs": [],
   "source": [
    "total_experiment_time_secs = time.time() - start_time_secs"
   ]
  },
  {
   "cell_type": "code",
   "execution_count": 15,
   "id": "87b9595b",
   "metadata": {
    "execution": {
     "iopub.execute_input": "2022-03-06T01:01:46.007270Z",
     "iopub.status.busy": "2022-03-06T01:01:46.006852Z",
     "iopub.status.idle": "2022-03-06T01:01:52.759271Z",
     "shell.execute_reply": "2022-03-06T01:01:52.758806Z"
    },
    "papermill": {
     "duration": 6.784438,
     "end_time": "2022-03-06T01:01:52.759380",
     "exception": false,
     "start_time": "2022-03-06T01:01:45.974942",
     "status": "completed"
    },
    "tags": []
   },
   "outputs": [],
   "source": [
    "###################################\n",
    "# Evaluate the model\n",
    "###################################\n",
    "source_test_label_accuracy, source_test_label_loss = jig.test(datasets.source.processed.test)\n",
    "target_test_label_accuracy, target_test_label_loss = jig.test(datasets.target.processed.test)\n",
    "\n",
    "source_val_label_accuracy, source_val_label_loss = jig.test(datasets.source.processed.val)\n",
    "target_val_label_accuracy, target_val_label_loss = jig.test(datasets.target.processed.val)\n",
    "\n",
    "history = jig.get_history()\n",
    "\n",
    "total_epochs_trained = len(history[\"epoch_indices\"])\n",
    "\n",
    "val_dl = Iterable_Aggregator((datasets.source.original.val,datasets.target.original.val))\n",
    "\n",
    "confusion = ptn_confusion_by_domain_over_dataloader(model, p.device, val_dl)\n",
    "per_domain_accuracy = per_domain_accuracy_from_confusion(confusion)\n",
    "\n",
    "# Add a key to per_domain_accuracy for if it was a source domain\n",
    "for domain, accuracy in per_domain_accuracy.items():\n",
    "    per_domain_accuracy[domain] = {\n",
    "        \"accuracy\": accuracy,\n",
    "        \"source?\": domain in p.domains_source\n",
    "    }\n",
    "\n",
    "# Do an independent accuracy assesment JUST TO BE SURE!\n",
    "# _source_test_label_accuracy = independent_accuracy_assesment(model, datasets.source.processed.test, p.device)\n",
    "# _target_test_label_accuracy = independent_accuracy_assesment(model, datasets.target.processed.test, p.device)\n",
    "# _source_val_label_accuracy = independent_accuracy_assesment(model, datasets.source.processed.val, p.device)\n",
    "# _target_val_label_accuracy = independent_accuracy_assesment(model, datasets.target.processed.val, p.device)\n",
    "\n",
    "# assert(_source_test_label_accuracy == source_test_label_accuracy)\n",
    "# assert(_target_test_label_accuracy == target_test_label_accuracy)\n",
    "# assert(_source_val_label_accuracy == source_val_label_accuracy)\n",
    "# assert(_target_val_label_accuracy == target_val_label_accuracy)\n",
    "\n",
    "experiment = {\n",
    "    \"experiment_name\": p.experiment_name,\n",
    "    \"parameters\": dict(p),\n",
    "    \"results\": {\n",
    "        \"source_test_label_accuracy\": source_test_label_accuracy,\n",
    "        \"source_test_label_loss\": source_test_label_loss,\n",
    "        \"target_test_label_accuracy\": target_test_label_accuracy,\n",
    "        \"target_test_label_loss\": target_test_label_loss,\n",
    "        \"source_val_label_accuracy\": source_val_label_accuracy,\n",
    "        \"source_val_label_loss\": source_val_label_loss,\n",
    "        \"target_val_label_accuracy\": target_val_label_accuracy,\n",
    "        \"target_val_label_loss\": target_val_label_loss,\n",
    "        \"total_epochs_trained\": total_epochs_trained,\n",
    "        \"total_experiment_time_secs\": total_experiment_time_secs,\n",
    "        \"confusion\": confusion,\n",
    "        \"per_domain_accuracy\": per_domain_accuracy,\n",
    "    },\n",
    "    \"history\": history,\n",
    "    \"dataset_metrics\": get_dataset_metrics(datasets, \"ptn\"),\n",
    "}"
   ]
  },
  {
   "cell_type": "code",
   "execution_count": 16,
   "id": "54a21829",
   "metadata": {
    "execution": {
     "iopub.execute_input": "2022-03-06T01:01:52.827013Z",
     "iopub.status.busy": "2022-03-06T01:01:52.825076Z",
     "iopub.status.idle": "2022-03-06T01:01:53.011033Z",
     "shell.execute_reply": "2022-03-06T01:01:53.011473Z"
    },
    "papermill": {
     "duration": 0.218228,
     "end_time": "2022-03-06T01:01:53.011606",
     "exception": false,
     "start_time": "2022-03-06T01:01:52.793378",
     "status": "completed"
    },
    "tags": []
   },
   "outputs": [
    {
     "data": {
      "image/png": "[encoded data removed]",
      "text/plain": [
       "<Figure size 1080x504 with 1 Axes>"
      ]
     },
     "metadata": {
      "needs_background": "light"
     },
     "output_type": "display_data"
    }
   ],
   "source": [
    "ax = get_loss_curve(experiment)\n",
    "plt.show()"
   ]
  },
  {
   "cell_type": "code",
   "execution_count": 17,
   "id": "fd8a0f60",
   "metadata": {
    "execution": {
     "iopub.execute_input": "2022-03-06T01:01:53.074899Z",
     "iopub.status.busy": "2022-03-06T01:01:53.074629Z",
     "iopub.status.idle": "2022-03-06T01:01:53.254896Z",
     "shell.execute_reply": "2022-03-06T01:01:53.255352Z"
    },
    "papermill": {
     "duration": 0.212409,
     "end_time": "2022-03-06T01:01:53.255487",
     "exception": false,
     "start_time": "2022-03-06T01:01:53.043078",
     "status": "completed"
    },
    "tags": []
   },
   "outputs": [
    {
     "data": {
      "text/plain": [
       "<matplotlib.axes._subplots.AxesSubplot at 0x7f8150e11d90>"
      ]
     },
     "execution_count": 17,
     "metadata": {},
     "output_type": "execute_result"
    },
    {
     "data": {
      "image/png": "[encoded data removed]",
      "text/plain": [
       "<Figure size 1080x504 with 1 Axes>"
      ]
     },
     "metadata": {
      "needs_background": "light"
     },
     "output_type": "display_data"
    }
   ],
   "source": [
    "get_results_table(experiment)"
   ]
  },
  {
   "cell_type": "code",
   "execution_count": 18,
   "id": "cf8dc689",
   "metadata": {
    "execution": {
     "iopub.execute_input": "2022-03-06T01:01:53.329686Z",
     "iopub.status.busy": "2022-03-06T01:01:53.329384Z",
     "iopub.status.idle": "2022-03-06T01:01:53.494087Z",
     "shell.execute_reply": "2022-03-06T01:01:53.493590Z"
    },
    "papermill": {
     "duration": 0.200161,
     "end_time": "2022-03-06T01:01:53.494192",
     "exception": false,
     "start_time": "2022-03-06T01:01:53.294031",
     "status": "completed"
    },
    "tags": []
   },
   "outputs": [
    {
     "data": {
      "text/plain": [
       "<matplotlib.axes._subplots.AxesSubplot at 0x7f8150a97100>"
      ]
     },
     "execution_count": 18,
     "metadata": {},
     "output_type": "execute_result"
    },
    {
     "data": {
      "image/png": "[encoded data removed]",
      "text/plain": [
       "<Figure size 1080x504 with 1 Axes>"
      ]
     },
     "metadata": {
      "needs_background": "light"
     },
     "output_type": "display_data"
    }
   ],
   "source": [
    "get_domain_accuracies(experiment)"
   ]
  },
  {
   "cell_type": "code",
   "execution_count": 19,
   "id": "a74ae082",
   "metadata": {
    "execution": {
     "iopub.execute_input": "2022-03-06T01:01:53.566132Z",
     "iopub.status.busy": "2022-03-06T01:01:53.565865Z",
     "iopub.status.idle": "2022-03-06T01:01:53.581124Z",
     "shell.execute_reply": "2022-03-06T01:01:53.580642Z"
    },
    "papermill": {
     "duration": 0.048687,
     "end_time": "2022-03-06T01:01:53.581225",
     "exception": false,
     "start_time": "2022-03-06T01:01:53.532538",
     "status": "completed"
    },
    "tags": []
   },
   "outputs": [
    {
     "name": "stdout",
     "output_type": "stream",
     "text": [
      "Source Test Label Accuracy: 0.9288461538461539 Target Test Label Accuracy: 0.825\n",
      "Source Val Label Accuracy: 0.9032051282051282 Target Val Label Accuracy: 0.8198717948717948\n"
     ]
    }
   ],
   "source": [
    "print(\"Source Test Label Accuracy:\", experiment[\"results\"][\"source_test_label_accuracy\"], \"Target Test Label Accuracy:\", experiment[\"results\"][\"target_test_label_accuracy\"])\n",
    "print(\"Source Val Label Accuracy:\", experiment[\"results\"][\"source_val_label_accuracy\"], \"Target Val Label Accuracy:\", experiment[\"results\"][\"target_val_label_accuracy\"])"
   ]
  },
  {
   "cell_type": "code",
   "execution_count": 20,
   "id": "dacca602",
   "metadata": {
    "execution": {
     "iopub.execute_input": "2022-03-06T01:01:53.652606Z",
     "iopub.status.busy": "2022-03-06T01:01:53.652321Z",
     "iopub.status.idle": "2022-03-06T01:01:53.666142Z",
     "shell.execute_reply": "2022-03-06T01:01:53.665761Z"
    },
    "papermill": {
     "duration": 0.048449,
     "end_time": "2022-03-06T01:01:53.666245",
     "exception": false,
     "start_time": "2022-03-06T01:01:53.617796",
     "status": "completed"
    },
    "tags": [
     "experiment_json"
    ]
   },
   "outputs": [
    {
     "data": {
      "text/plain": [
       "'{\"experiment_name\": \"tuned_1_wisig\", \"parameters\": {\"experiment_name\": \"tuned_1_wisig\", \"device\": \"cuda\", \"lr\": 0.001, \"seed\": 1337, \"dataset_seed\": 1337, \"labels_source\": [\"1-10\", \"1-12\", \"1-14\", \"1-16\", \"1-18\", \"1-19\", \"1-8\", \"10-11\", \"10-17\", \"10-4\", \"10-7\", \"11-1\", \"11-10\", \"11-19\", \"11-20\", \"11-4\", \"11-7\", \"12-19\", \"12-20\", \"12-7\", \"13-14\", \"13-18\", \"13-19\", \"13-20\", \"13-3\", \"13-7\", \"14-10\", \"14-11\", \"14-12\", \"14-13\", \"14-14\", \"14-19\", \"14-20\", \"14-7\", \"14-8\", \"14-9\", \"15-1\", \"15-19\", \"15-6\", \"16-1\", \"16-16\", \"16-19\", \"16-20\", \"17-10\", \"17-11\", \"18-1\", \"18-10\", \"18-11\", \"18-12\", \"18-13\", \"18-14\", \"18-15\", \"18-16\", \"18-17\", \"18-19\", \"18-2\", \"18-20\", \"18-4\", \"18-5\", \"18-7\", \"18-8\", \"18-9\", \"19-1\", \"19-10\", \"19-11\", \"19-12\", \"19-13\", \"19-14\", \"19-15\", \"19-19\", \"19-2\", \"19-20\", \"19-3\", \"19-4\", \"19-6\", \"19-7\", \"19-8\", \"19-9\", \"2-1\", \"2-13\", \"2-15\", \"2-3\", \"2-4\", \"2-5\", \"2-6\", \"2-7\", \"2-8\", \"20-1\", \"20-12\", \"20-14\", \"20-15\", \"20-16\", \"20-18\", \"20-19\", \"20-20\", \"20-3\", \"20-4\", \"20-5\", \"20-7\", \"20-8\", \"3-1\", \"3-13\", \"3-18\", \"3-2\", \"3-8\", \"4-1\", \"4-10\", \"4-11\", \"5-1\", \"5-5\", \"6-1\", \"6-15\", \"6-6\", \"7-10\", \"7-11\", \"7-12\", \"7-13\", \"7-14\", \"7-7\", \"7-8\", \"7-9\", \"8-1\", \"8-13\", \"8-14\", \"8-18\", \"8-20\", \"8-3\", \"8-8\", \"9-1\", \"9-7\"], \"labels_target\": [\"1-10\", \"1-12\", \"1-14\", \"1-16\", \"1-18\", \"1-19\", \"1-8\", \"10-11\", \"10-17\", \"10-4\", \"10-7\", \"11-1\", \"11-10\", \"11-19\", \"11-20\", \"11-4\", \"11-7\", \"12-19\", \"12-20\", \"12-7\", \"13-14\", \"13-18\", \"13-19\", \"13-20\", \"13-3\", \"13-7\", \"14-10\", \"14-11\", \"14-12\", \"14-13\", \"14-14\", \"14-19\", \"14-20\", \"14-7\", \"14-8\", \"14-9\", \"15-1\", \"15-19\", \"15-6\", \"16-1\", \"16-16\", \"16-19\", \"16-20\", \"17-10\", \"17-11\", \"18-1\", \"18-10\", \"18-11\", \"18-12\", \"18-13\", \"18-14\", \"18-15\", \"18-16\", \"18-17\", \"18-19\", \"18-2\", \"18-20\", \"18-4\", \"18-5\", \"18-7\", \"18-8\", \"18-9\", \"19-1\", \"19-10\", \"19-11\", \"19-12\", \"19-13\", \"19-14\", \"19-15\", \"19-19\", \"19-2\", \"19-20\", \"19-3\", \"19-4\", \"19-6\", \"19-7\", \"19-8\", \"19-9\", \"2-1\", \"2-13\", \"2-15\", \"2-3\", \"2-4\", \"2-5\", \"2-6\", \"2-7\", \"2-8\", \"20-1\", \"20-12\", \"20-14\", \"20-15\", \"20-16\", \"20-18\", \"20-19\", \"20-20\", \"20-3\", \"20-4\", \"20-5\", \"20-7\", \"20-8\", \"3-1\", \"3-13\", \"3-18\", \"3-2\", \"3-8\", \"4-1\", \"4-10\", \"4-11\", \"5-1\", \"5-5\", \"6-1\", \"6-15\", \"6-6\", \"7-10\", \"7-11\", \"7-12\", \"7-13\", \"7-14\", \"7-7\", \"7-8\", \"7-9\", \"8-1\", \"8-13\", \"8-14\", \"8-18\", \"8-20\", \"8-3\", \"8-8\", \"9-1\", \"9-7\"], \"x_transforms_source\": [\"unit_power\"], \"x_transforms_target\": [\"unit_power\"], \"episode_transforms_source\": [], \"episode_transforms_target\": [], \"domains_source\": [3], \"domains_target\": [1, 2, 4], \"num_examples_per_domain_per_label_source\": 100, \"num_examples_per_domain_per_label_target\": 100, \"n_shot\": 3, \"n_way\": 130, \"n_query\": 2, \"train_k_factor\": 3, \"val_k_factor\": 2, \"test_k_factor\": 2, \"torch_default_dtype\": \"torch.float32\", \"n_epoch\": 50, \"patience\": 3, \"criteria_for_best\": \"target_loss\", \"x_net\": [{\"class\": \"nnReshape\", \"kargs\": {\"shape\": [-1, 1, 2, 256]}}, {\"class\": \"Conv2d\", \"kargs\": {\"in_channels\": 1, \"out_channels\": 256, \"kernel_size\": [1, 7], \"bias\": false, \"padding\": [0, 3]}}, {\"class\": \"ReLU\", \"kargs\": {\"inplace\": true}}, {\"class\": \"BatchNorm2d\", \"kargs\": {\"num_features\": 256}}, {\"class\": \"Conv2d\", \"kargs\": {\"in_channels\": 256, \"out_channels\": 80, \"kernel_size\": [2, 7], \"bias\": true, \"padding\": [0, 3]}}, {\"class\": \"ReLU\", \"kargs\": {\"inplace\": true}}, {\"class\": \"BatchNorm2d\", \"kargs\": {\"num_features\": 80}}, {\"class\": \"Flatten\", \"kargs\": {}}, {\"class\": \"Linear\", \"kargs\": {\"in_features\": 20480, \"out_features\": 256}}, {\"class\": \"ReLU\", \"kargs\": {\"inplace\": true}}, {\"class\": \"BatchNorm1d\", \"kargs\": {\"num_features\": 256}}, {\"class\": \"Linear\", \"kargs\": {\"in_features\": 256, \"out_features\": 256}}], \"NUM_LOGS_PER_EPOCH\": 10, \"BEST_MODEL_PATH\": \"./best_model.pth\", \"pickle_name\": \"wisig.node3-19.stratified_ds.2022A.pkl\"}, \"results\": {\"source_test_label_accuracy\": 0.9288461538461539, \"source_test_label_loss\": 0.40589019656181335, \"target_test_label_accuracy\": 0.825, \"target_test_label_loss\": 0.9963156580924988, \"source_val_label_accuracy\": 0.9032051282051282, \"source_val_label_loss\": 0.5467249751091003, \"target_val_label_accuracy\": 0.8198717948717948, \"target_val_label_loss\": 0.9716023206710815, \"total_epochs_trained\": 9, \"total_experiment_time_secs\": 80.62211060523987, \"confusion\": {\"3\": {\"29\": {\"29\": 11, \"12\": 1}, \"123\": {\"123\": 12}, \"116\": {\"116\": 12}, \"25\": {\"25\": 12}, \"60\": {\"60\": 9, \"110\": 1, \"70\": 1, \"29\": 1}, \"88\": {\"88\": 8, \"108\": 1, \"53\": 2, \"42\": 1}, \"0\": {\"0\": 12}, \"77\": {\"77\": 11, \"17\": 1}, \"96\": {\"96\": 11, \"93\": 1}, \"3\": {\"3\": 11, \"70\": 1}, \"5\": {\"5\": 11, \"78\": 1}, \"89\": {\"89\": 12}, \"117\": {\"117\": 12}, \"78\": {\"78\": 2, \"21\": 3, \"116\": 1, \"122\": 1, \"5\": 1, \"87\": 2, \"68\": 1, \"84\": 1}, \"57\": {\"57\": 12}, \"90\": {\"90\": 10, \"44\": 2}, \"43\": {\"8\": 2, \"43\": 6, \"63\": 1, \"78\": 1, \"113\": 1, \"118\": 1}, \"50\": {\"50\": 12}, \"49\": {\"121\": 1, \"112\": 4, \"49\": 7}, \"61\": {\"61\": 12}, \"4\": {\"4\": 12}, \"67\": {\"67\": 12}, \"59\": {\"59\": 12}, \"118\": {\"118\": 12}, \"80\": {\"80\": 11, \"44\": 1}, \"75\": {\"75\": 12}, \"99\": {\"99\": 8, \"103\": 3, \"86\": 1}, \"111\": {\"111\": 10, \"30\": 1, \"126\": 1}, \"11\": {\"11\": 11, \"110\": 1}, \"76\": {\"76\": 11, \"70\": 1}, \"102\": {\"102\": 12}, \"44\": {\"44\": 12}, \"30\": {\"30\": 12}, \"6\": {\"6\": 8, \"3\": 1, \"34\": 3}, \"16\": {\"16\": 11, \"110\": 1}, \"79\": {\"79\": 12}, \"39\": {\"39\": 11, \"126\": 1}, \"101\": {\"101\": 12}, \"9\": {\"9\": 12}, \"109\": {\"109\": 9, \"62\": 2, \"13\": 1}, \"91\": {\"91\": 11, \"77\": 1}, \"129\": {\"129\": 12}, \"33\": {\"33\": 12}, \"113\": {\"113\": 12}, \"7\": {\"7\": 12}, \"82\": {\"82\": 12}, \"52\": {\"52\": 12}, \"93\": {\"93\": 12}, \"24\": {\"24\": 10, \"36\": 1, \"27\": 1}, \"26\": {\"26\": 12}, \"28\": {\"28\": 12}, \"85\": {\"85\": 12}, \"110\": {\"110\": 11, \"70\": 1}, \"119\": {\"119\": 12}, \"108\": {\"108\": 9, \"112\": 2, \"88\": 1}, \"53\": {\"53\": 12}, \"105\": {\"105\": 11, \"4\": 1}, \"103\": {\"103\": 12}, \"69\": {\"69\": 11, \"45\": 1}, \"23\": {\"23\": 11, \"128\": 1}, \"2\": {\"2\": 11, \"117\": 1}, \"66\": {\"66\": 12}, \"71\": {\"71\": 12}, \"122\": {\"122\": 10, \"105\": 1, \"128\": 1}, \"87\": {\"87\": 12}, \"8\": {\"8\": 11, \"97\": 1}, \"127\": {\"127\": 12}, \"40\": {\"40\": 12}, \"126\": {\"126\": 8, \"18\": 1, \"81\": 1, \"70\": 1, \"78\": 1}, \"12\": {\"12\": 12}, \"83\": {\"83\": 12}, \"81\": {\"81\": 10, \"85\": 2}, \"19\": {\"19\": 12}, \"125\": {\"125\": 12}, \"128\": {\"128\": 12}, \"22\": {\"22\": 12}, \"21\": {\"21\": 11, \"127\": 1}, \"42\": {\"42\": 12}, \"38\": {\"38\": 12}, \"72\": {\"72\": 12}, \"86\": {\"86\": 12}, \"1\": {\"1\": 12}, \"58\": {\"58\": 11, \"51\": 1}, \"46\": {\"46\": 12}, \"48\": {\"48\": 12}, \"34\": {\"34\": 6, \"6\": 1, \"60\": 1, \"19\": 1, \"116\": 2, \"28\": 1}, \"55\": {\"55\": 12}, \"94\": {\"94\": 11, \"97\": 1}, \"114\": {\"114\": 10, \"68\": 1, \"87\": 1}, \"97\": {\"97\": 11, \"54\": 1}, \"107\": {\"107\": 12}, \"68\": {\"68\": 12}, \"64\": {\"64\": 11, \"76\": 1}, \"13\": {\"49\": 1, \"17\": 1, \"13\": 3, \"97\": 1, \"21\": 2, \"92\": 1, \"82\": 1, \"78\": 1, \"11\": 1}, \"115\": {\"115\": 11, \"61\": 1}, \"62\": {\"62\": 12}, \"51\": {\"51\": 12}, \"98\": {\"98\": 11, \"29\": 1}, \"45\": {\"45\": 9, \"32\": 1, \"70\": 1, \"115\": 1}, \"74\": {\"74\": 11, \"24\": 1}, \"112\": {\"92\": 2, \"112\": 10}, \"41\": {\"41\": 12}, \"32\": {\"32\": 11, \"45\": 1}, \"104\": {\"104\": 12}, \"65\": {\"63\": 2, \"65\": 10}, \"54\": {\"54\": 11, \"27\": 1}, \"20\": {\"20\": 11, \"53\": 1}, \"124\": {\"124\": 10, \"11\": 1, \"115\": 1}, \"121\": {\"121\": 9, \"65\": 1, \"21\": 1, \"52\": 1}, \"106\": {\"106\": 12}, \"18\": {\"18\": 12}, \"17\": {\"17\": 8, \"68\": 1, \"60\": 1, \"78\": 1, \"29\": 1}, \"73\": {\"73\": 12}, \"70\": {\"70\": 6, \"108\": 2, \"5\": 2, \"21\": 1, \"110\": 1}, \"92\": {\"92\": 10, \"21\": 2}, \"15\": {\"15\": 11, \"97\": 1}, \"14\": {\"14\": 12}, \"84\": {\"84\": 12}, \"37\": {\"37\": 12}, \"120\": {\"120\": 12}, \"27\": {\"36\": 6, \"27\": 6}, \"35\": {\"35\": 5, \"65\": 3, \"0\": 1, \"56\": 3}, \"95\": {\"95\": 12}, \"31\": {\"31\": 12}, \"63\": {\"63\": 11, \"113\": 1}, \"47\": {\"47\": 11, \"70\": 1}, \"100\": {\"100\": 11, \"70\": 1}, \"56\": {\"56\": 11, \"6\": 1}, \"36\": {\"36\": 7, \"24\": 2, \"27\": 3}, \"10\": {\"10\": 9, \"4\": 2, \"35\": 1}}, \"2\": {\"117\": {\"117\": 12}, \"78\": {\"43\": 5, \"78\": 6, \"107\": 1}, \"88\": {\"100\": 2, \"47\": 1, \"88\": 5, \"93\": 2, \"16\": 2}, \"5\": {\"5\": 12}, \"89\": {\"89\": 11, \"92\": 1}, \"25\": {\"19\": 1, \"25\": 10, \"28\": 1}, \"61\": {\"61\": 8, \"39\": 1, \"27\": 2, \"22\": 1}, \"0\": {\"56\": 1, \"0\": 9, \"101\": 2}, \"103\": {\"103\": 12}, \"28\": {\"34\": 5, \"28\": 5, \"27\": 1, \"48\": 1}, \"3\": {\"3\": 9, \"128\": 2, \"24\": 1}, \"43\": {\"84\": 1, \"78\": 4, \"109\": 1, \"70\": 2, \"43\": 4}, \"30\": {\"101\": 4, \"30\": 8}, \"59\": {\"59\": 9, \"97\": 2, \"23\": 1}, \"79\": {\"79\": 8, \"103\": 4}, \"83\": {\"83\": 12}, \"115\": {\"115\": 12}, \"62\": {\"62\": 12}, \"26\": {\"26\": 12}, \"50\": {\"50\": 9, \"62\": 3}, \"40\": {\"40\": 12}, \"4\": {\"4\": 12}, \"68\": {\"68\": 12}, \"49\": {\"25\": 2, \"11\": 4, \"42\": 1, \"49\": 4, \"24\": 1}, \"51\": {\"75\": 3, \"74\": 1, \"58\": 2, \"51\": 4, \"6\": 1, \"54\": 1}, \"44\": {\"44\": 12}, \"76\": {\"76\": 12}, \"127\": {\"127\": 12}, \"97\": {\"97\": 9, \"15\": 2, \"59\": 1}, \"119\": {\"119\": 12}, \"77\": {\"77\": 12}, \"33\": {\"33\": 12}, \"99\": {\"99\": 12}, \"124\": {\"124\": 11, \"37\": 1}, \"6\": {\"6\": 7, \"91\": 1, \"9\": 2, \"51\": 2}, \"112\": {\"112\": 4, \"42\": 2, \"126\": 3, \"19\": 1, \"119\": 1, \"53\": 1}, \"53\": {\"53\": 8, \"58\": 1, \"21\": 1, \"11\": 2}, \"110\": {\"110\": 7, \"122\": 4, \"70\": 1}, \"11\": {\"11\": 8, \"49\": 3, \"98\": 1}, \"9\": {\"9\": 12}, \"20\": {\"20\": 11, \"126\": 1}, \"114\": {\"114\": 12}, \"10\": {\"10\": 7, \"7\": 2, \"22\": 1, \"62\": 1, \"105\": 1}, \"86\": {\"86\": 12}, \"118\": {\"118\": 8, \"31\": 4}, \"7\": {\"7\": 12}, \"92\": {\"89\": 7, \"92\": 3, \"21\": 1, \"121\": 1}, \"18\": {\"18\": 12}, \"94\": {\"94\": 10, \"72\": 1, \"67\": 1}, \"60\": {\"60\": 9, \"53\": 1, \"70\": 1, \"123\": 1}, \"81\": {\"81\": 11, \"117\": 1}, \"29\": {\"29\": 9, \"121\": 1, \"52\": 1, \"128\": 1}, \"109\": {\"39\": 4, \"109\": 7, \"29\": 1}, \"80\": {\"80\": 12}, \"120\": {\"120\": 12}, \"122\": {\"122\": 6, \"110\": 5, \"0\": 1}, \"106\": {\"106\": 12}, \"55\": {\"55\": 10, \"61\": 2}, \"104\": {\"104\": 12}, \"70\": {\"70\": 5, \"78\": 1, \"33\": 3, \"43\": 2, \"21\": 1}, \"24\": {\"24\": 4, \"36\": 3, \"27\": 3, \"84\": 1, \"51\": 1}, \"2\": {\"2\": 12}, \"67\": {\"69\": 1, \"67\": 9, \"85\": 1, \"82\": 1}, \"72\": {\"72\": 9, \"88\": 2, \"13\": 1}, \"91\": {\"79\": 2, \"6\": 3, \"91\": 4, \"103\": 3}, \"116\": {\"116\": 10, \"57\": 1, \"60\": 1}, \"8\": {\"8\": 9, \"113\": 1, \"122\": 1, \"19\": 1}, \"128\": {\"52\": 3, \"128\": 3, \"23\": 1, \"110\": 3, \"3\": 2}, \"41\": {\"116\": 1, \"41\": 10, \"72\": 1}, \"113\": {\"113\": 9, \"122\": 1, \"109\": 1, \"14\": 1}, \"12\": {\"12\": 7, \"127\": 2, \"122\": 1, \"24\": 1, \"128\": 1}, \"90\": {\"90\": 12}, \"82\": {\"82\": 12}, \"111\": {\"111\": 12}, \"85\": {\"85\": 11, \"73\": 1}, \"37\": {\"37\": 12}, \"23\": {\"23\": 8, \"65\": 2, \"77\": 1, \"83\": 1}, \"22\": {\"22\": 12}, \"102\": {\"102\": 12}, \"39\": {\"113\": 1, \"39\": 7, \"18\": 2, \"109\": 1, \"21\": 1}, \"101\": {\"0\": 1, \"101\": 11}, \"87\": {\"87\": 8, \"70\": 3, \"83\": 1}, \"1\": {\"1\": 12}, \"58\": {\"58\": 12}, \"47\": {\"47\": 8, \"59\": 1, \"34\": 1, \"96\": 2}, \"126\": {\"126\": 10, \"16\": 2}, \"34\": {\"34\": 10, \"28\": 1, \"41\": 1}, \"56\": {\"56\": 10, \"9\": 1, \"94\": 1}, \"95\": {\"95\": 9, \"40\": 2, \"112\": 1}, \"65\": {\"65\": 10, \"120\": 1, \"28\": 1}, \"98\": {\"98\": 12}, \"123\": {\"123\": 11, \"83\": 1}, \"69\": {\"69\": 10, \"31\": 2}, \"108\": {\"108\": 11, \"24\": 1}, \"13\": {\"13\": 11, \"96\": 1}, \"15\": {\"15\": 12}, \"125\": {\"125\": 12}, \"52\": {\"52\": 11, \"110\": 1}, \"46\": {\"46\": 12}, \"45\": {\"45\": 12}, \"75\": {\"75\": 9, \"42\": 1, \"29\": 2}, \"73\": {\"73\": 12}, \"42\": {\"42\": 11, \"24\": 1}, \"32\": {\"32\": 5, \"74\": 3, \"27\": 1, \"70\": 1, \"14\": 1, \"50\": 1}, \"105\": {\"105\": 12}, \"66\": {\"66\": 12}, \"54\": {\"54\": 12}, \"21\": {\"39\": 2, \"78\": 1, \"21\": 7, \"109\": 1, \"43\": 1}, \"64\": {\"64\": 12}, \"35\": {\"35\": 12}, \"107\": {\"107\": 12}, \"19\": {\"7\": 1, \"19\": 10, \"73\": 1}, \"17\": {\"17\": 10, \"21\": 2}, \"74\": {\"74\": 12}, \"71\": {\"39\": 1, \"71\": 7, \"114\": 1, \"3\": 3}, \"93\": {\"93\": 10, \"16\": 2}, \"16\": {\"16\": 10, \"126\": 1, \"93\": 1}, \"14\": {\"14\": 10, \"118\": 1, \"21\": 1}, \"84\": {\"126\": 1, \"84\": 9, \"43\": 2}, \"38\": {\"38\": 12}, \"121\": {\"121\": 10, \"72\": 1, \"96\": 1}, \"27\": {\"27\": 9, \"24\": 2, \"74\": 1}, \"129\": {\"129\": 12}, \"96\": {\"96\": 11, \"13\": 1}, \"31\": {\"31\": 10, \"61\": 1, \"109\": 1}, \"63\": {\"63\": 12}, \"48\": {\"48\": 12}, \"100\": {\"100\": 12}, \"57\": {\"65\": 1, \"57\": 10, \"24\": 1}, \"36\": {\"36\": 12}}, \"4\": {\"73\": {\"73\": 11, \"23\": 1}, \"29\": {\"29\": 12}, \"60\": {\"52\": 1, \"60\": 10, \"100\": 1}, \"50\": {\"50\": 10, \"11\": 2}, \"96\": {\"96\": 10, \"39\": 2}, \"64\": {\"64\": 12}, \"99\": {\"78\": 3, \"43\": 2, \"110\": 2, \"99\": 5}, \"0\": {\"0\": 9, \"101\": 3}, \"20\": {\"20\": 12}, \"51\": {\"11\": 1, \"125\": 4, \"58\": 3, \"21\": 1, \"51\": 1, \"82\": 1, \"115\": 1}, \"123\": {\"123\": 12}, \"83\": {\"83\": 10, \"79\": 1, \"27\": 1}, \"57\": {\"57\": 12}, \"33\": {\"33\": 6, \"117\": 1, \"19\": 1, \"43\": 1, \"102\": 1, \"1\": 2}, \"17\": {\"17\": 12}, \"62\": {\"62\": 11, \"10\": 1}, \"4\": {\"4\": 9, \"95\": 2, \"0\": 1}, \"18\": {\"18\": 12}, \"10\": {\"30\": 2, \"6\": 2, \"15\": 4, \"128\": 1, \"10\": 3}, \"102\": {\"102\": 12}, \"110\": {\"110\": 10, \"78\": 2}, \"68\": {\"68\": 12}, \"70\": {\"70\": 7, \"11\": 2, \"108\": 1, \"88\": 1, \"53\": 1}, \"86\": {\"86\": 12}, \"107\": {\"107\": 12}, \"21\": {\"113\": 4, \"21\": 7, \"13\": 1}, \"119\": {\"119\": 12}, \"85\": {\"85\": 7, \"19\": 1, \"41\": 3, \"43\": 1}, \"66\": {\"74\": 1, \"66\": 10, \"90\": 1}, \"124\": {\"124\": 9, \"28\": 3}, \"116\": {\"116\": 6, \"74\": 5, \"60\": 1}, \"71\": {\"71\": 10, \"19\": 1, \"23\": 1}, \"129\": {\"129\": 10, \"19\": 1, \"11\": 1}, \"105\": {\"87\": 5, \"105\": 5, \"43\": 1, \"23\": 1}, \"93\": {\"93\": 11, \"23\": 1}, \"48\": {\"48\": 12}, \"30\": {\"6\": 3, \"10\": 1, \"30\": 7, \"21\": 1}, \"36\": {\"97\": 1, \"24\": 3, \"36\": 8}, \"103\": {\"103\": 10, \"21\": 1, \"128\": 1}, \"67\": {\"67\": 4, \"27\": 2, \"129\": 1, \"113\": 3, \"14\": 2}, \"42\": {\"124\": 1, \"42\": 8, \"9\": 2, \"8\": 1}, \"100\": {\"99\": 1, \"100\": 11}, \"28\": {\"28\": 12}, \"23\": {\"113\": 1, \"27\": 1, \"108\": 1, \"78\": 1, \"58\": 4, \"29\": 1, \"123\": 3}, \"49\": {\"53\": 4, \"49\": 8}, \"38\": {\"38\": 12}, \"128\": {\"128\": 6, \"100\": 2, \"7\": 1, \"66\": 2, \"78\": 1}, \"118\": {\"118\": 12}, \"101\": {\"101\": 11, \"0\": 1}, \"79\": {\"79\": 11, \"83\": 1}, \"52\": {\"52\": 8, \"53\": 2, \"88\": 1, \"41\": 1}, \"6\": {\"59\": 4, \"6\": 6, \"77\": 1, \"41\": 1}, \"95\": {\"95\": 10, \"33\": 1, \"127\": 1}, \"54\": {\"54\": 12}, \"26\": {\"26\": 11, \"39\": 1}, \"69\": {\"69\": 12}, \"114\": {\"114\": 12}, \"97\": {\"54\": 3, \"24\": 3, \"10\": 2, \"36\": 2, \"97\": 2}, \"87\": {\"87\": 6, \"99\": 1, \"43\": 2, \"78\": 1, \"105\": 2}, \"1\": {\"1\": 7, \"33\": 2, \"74\": 1, \"72\": 1, \"60\": 1}, \"34\": {\"91\": 1, \"56\": 1, \"34\": 8, \"77\": 1, \"47\": 1}, \"19\": {\"19\": 11, \"100\": 1}, \"27\": {\"88\": 3, \"108\": 2, \"27\": 7}, \"5\": {\"5\": 12}, \"24\": {\"24\": 2, \"36\": 4, \"128\": 1, \"97\": 4, \"8\": 1}, \"126\": {\"126\": 12}, \"56\": {\"56\": 11, \"33\": 1}, \"59\": {\"59\": 10, \"82\": 1, \"6\": 1}, \"127\": {\"127\": 9, \"68\": 1, \"95\": 1, \"27\": 1}, \"44\": {\"44\": 12}, \"77\": {\"77\": 12}, \"80\": {\"80\": 10, \"49\": 2}, \"98\": {\"98\": 12}, \"122\": {\"8\": 1, \"122\": 6, \"14\": 3, \"33\": 1, \"43\": 1}, \"108\": {\"108\": 4, \"27\": 3, \"73\": 2, \"88\": 3}, \"61\": {\"61\": 10, \"11\": 1, \"27\": 1}, \"22\": {\"22\": 12}, \"63\": {\"63\": 11, \"113\": 1}, \"39\": {\"126\": 3, \"19\": 1, \"39\": 5, \"108\": 1, \"81\": 1, \"117\": 1}, \"25\": {\"25\": 11, \"59\": 1}, \"3\": {\"3\": 12}, \"78\": {\"78\": 3, \"21\": 3, \"24\": 1, \"122\": 1, \"74\": 1, \"23\": 1, \"33\": 1, \"60\": 1}, \"31\": {\"31\": 12}, \"35\": {\"61\": 3, \"35\": 8, \"26\": 1}, \"91\": {\"91\": 11, \"34\": 1}, \"37\": {\"37\": 11, \"121\": 1}, \"13\": {\"13\": 12}, \"53\": {\"53\": 12}, \"82\": {\"82\": 9, \"104\": 1, \"118\": 2}, \"92\": {\"92\": 12}, \"90\": {\"90\": 11, \"38\": 1}, \"8\": {\"10\": 1, \"8\": 9, \"23\": 2}, \"88\": {\"88\": 3, \"70\": 2, \"108\": 3, \"19\": 2, \"73\": 1, \"5\": 1}, \"16\": {\"16\": 11, \"18\": 1}, \"45\": {\"45\": 12}, \"89\": {\"89\": 12}, \"43\": {\"43\": 6, \"87\": 1, \"105\": 2, \"72\": 3}, \"65\": {\"65\": 12}, \"117\": {\"117\": 10, \"96\": 2}, \"40\": {\"40\": 12}, \"12\": {\"12\": 10, \"68\": 1, \"111\": 1}, \"7\": {\"7\": 11, \"89\": 1}, \"75\": {\"75\": 12}, \"41\": {\"52\": 2, \"98\": 1, \"41\": 9}, \"76\": {\"76\": 12}, \"9\": {\"9\": 11, \"27\": 1}, \"125\": {\"125\": 12}, \"120\": {\"120\": 12}, \"11\": {\"11\": 4, \"46\": 3, \"129\": 2, \"88\": 1, \"60\": 1, \"24\": 1}, \"115\": {\"67\": 1, \"72\": 1, \"57\": 1, \"115\": 5, \"24\": 1, \"36\": 1, \"32\": 1, \"87\": 1}, \"2\": {\"2\": 9, \"26\": 3}, \"113\": {\"113\": 8, \"21\": 1, \"126\": 1, \"19\": 1, \"65\": 1}, \"112\": {\"112\": 12}, \"94\": {\"54\": 2, \"94\": 8, \"15\": 2}, \"109\": {\"109\": 12}, \"74\": {\"74\": 11, \"55\": 1}, \"111\": {\"111\": 12}, \"55\": {\"55\": 12}, \"15\": {\"15\": 10, \"10\": 1, \"97\": 1}, \"14\": {\"14\": 9, \"122\": 3}, \"104\": {\"104\": 12}, \"47\": {\"47\": 12}, \"58\": {\"58\": 12}, \"106\": {\"106\": 7, \"12\": 2, \"23\": 1, \"27\": 1, \"10\": 1}, \"121\": {\"121\": 9, \"65\": 2, \"48\": 1}, \"81\": {\"81\": 11, \"39\": 1}, \"84\": {\"84\": 12}, \"32\": {\"32\": 10, \"120\": 1, \"14\": 1}, \"72\": {\"72\": 10, \"74\": 1, \"118\": 1}, \"46\": {\"46\": 12}}, \"1\": {\"49\": {\"23\": 2, \"44\": 2, \"70\": 1, \"31\": 2, \"15\": 2, \"49\": 3}, \"1\": {\"1\": 12}, \"119\": {\"119\": 12}, \"28\": {\"28\": 12}, \"20\": {\"20\": 12}, \"17\": {\"17\": 12}, \"103\": {\"103\": 10, \"19\": 1, \"45\": 1}, \"85\": {\"85\": 12}, \"87\": {\"93\": 1, \"84\": 2, \"87\": 7, \"105\": 1, \"78\": 1}, \"84\": {\"84\": 12}, \"34\": {\"60\": 3, \"34\": 4, \"86\": 2, \"46\": 1, \"83\": 2}, \"16\": {\"16\": 11, \"117\": 1}, \"6\": {\"52\": 1, \"6\": 8, \"34\": 1, \"86\": 1, \"53\": 1}, \"31\": {\"31\": 12}, \"92\": {\"92\": 12}, \"96\": {\"96\": 9, \"126\": 3}, \"64\": {\"64\": 12}, \"40\": {\"40\": 11, \"105\": 1}, \"69\": {\"69\": 11, \"50\": 1}, \"99\": {\"99\": 12}, \"3\": {\"103\": 1, \"3\": 9, \"115\": 2}, \"50\": {\"109\": 1, \"50\": 11}, \"21\": {\"21\": 4, \"84\": 2, \"112\": 1, \"83\": 1, \"56\": 1, \"11\": 1, \"39\": 1, \"128\": 1}, \"7\": {\"7\": 12}, \"0\": {\"0\": 12}, \"44\": {\"44\": 12}, \"19\": {\"19\": 11, \"70\": 1}, \"22\": {\"22\": 12}, \"32\": {\"32\": 9, \"93\": 1, \"110\": 1, \"127\": 1}, \"125\": {\"125\": 12}, \"82\": {\"82\": 12}, \"33\": {\"33\": 12}, \"45\": {\"45\": 5, \"44\": 2, \"124\": 4, \"9\": 1}, \"109\": {\"47\": 1, \"126\": 2, \"109\": 8, \"45\": 1}, \"105\": {\"87\": 1, \"105\": 7, \"74\": 1, \"40\": 3}, \"76\": {\"76\": 12}, \"59\": {\"30\": 3, \"121\": 1, \"59\": 7, \"53\": 1}, \"120\": {\"120\": 12}, \"41\": {\"41\": 12}, \"26\": {\"26\": 11, \"70\": 1}, \"42\": {\"64\": 1, \"42\": 8, \"45\": 1, \"109\": 1, \"60\": 1}, \"79\": {\"79\": 12}, \"97\": {\"108\": 3, \"24\": 2, \"36\": 2, \"97\": 4, \"88\": 1}, \"110\": {\"110\": 12}, \"128\": {\"128\": 6, \"3\": 2, \"70\": 4}, \"55\": {\"55\": 11, \"4\": 1}, \"23\": {\"23\": 2, \"58\": 2, \"44\": 3, \"56\": 2, \"75\": 1, \"32\": 1, \"123\": 1}, \"4\": {\"4\": 9, \"55\": 1, \"107\": 2}, \"14\": {\"14\": 12}, \"126\": {\"108\": 5, \"126\": 6, \"96\": 1}, \"111\": {\"111\": 12}, \"39\": {\"39\": 10, \"18\": 1, \"16\": 1}, \"35\": {\"35\": 12}, \"102\": {\"102\": 12}, \"113\": {\"113\": 12}, \"89\": {\"89\": 11, \"124\": 1}, \"46\": {\"46\": 6, \"94\": 1, \"89\": 2, \"36\": 2, \"124\": 1}, \"91\": {\"91\": 11, \"58\": 1}, \"83\": {\"83\": 8, \"34\": 1, \"46\": 1, \"70\": 1, \"6\": 1}, \"81\": {\"81\": 12}, \"88\": {\"36\": 5, \"88\": 4, \"27\": 2, \"97\": 1}, \"95\": {\"95\": 12}, \"53\": {\"53\": 12}, \"75\": {\"75\": 12}, \"122\": {\"122\": 7, \"78\": 4, \"61\": 1}, \"107\": {\"107\": 12}, \"104\": {\"104\": 12}, \"12\": {\"12\": 9, \"24\": 1, \"49\": 1, \"68\": 1}, \"112\": {\"112\": 12}, \"63\": {\"18\": 2, \"63\": 9, \"123\": 1}, \"30\": {\"30\": 10, \"71\": 1, \"94\": 1}, \"9\": {\"9\": 8, \"103\": 2, \"78\": 1, \"47\": 1}, \"78\": {\"78\": 7, \"70\": 1, \"21\": 2, \"105\": 1, \"61\": 1}, \"18\": {\"18\": 12}, \"116\": {\"116\": 10, \"22\": 1, \"61\": 1}, \"36\": {\"36\": 7, \"88\": 4, \"27\": 1}, \"100\": {\"100\": 12}, \"74\": {\"35\": 2, \"74\": 10}, \"61\": {\"61\": 8, \"21\": 1, \"65\": 2, \"116\": 1}, \"8\": {\"8\": 8, \"60\": 1, \"29\": 2, \"20\": 1}, \"70\": {\"70\": 6, \"73\": 1, \"21\": 2, \"128\": 3}, \"108\": {\"108\": 7, \"104\": 1, \"97\": 4}, \"77\": {\"77\": 12}, \"93\": {\"107\": 6, \"93\": 4, \"55\": 1, \"77\": 1}, \"37\": {\"37\": 10, \"15\": 2}, \"118\": {\"118\": 12}, \"80\": {\"80\": 12}, \"106\": {\"106\": 12}, \"58\": {\"58\": 12}, \"56\": {\"112\": 1, \"56\": 11}, \"86\": {\"86\": 12}, \"90\": {\"90\": 12}, \"123\": {\"123\": 12}, \"94\": {\"94\": 10, \"21\": 1, \"128\": 1}, \"52\": {\"30\": 2, \"52\": 9, \"71\": 1}, \"47\": {\"47\": 12}, \"117\": {\"117\": 12}, \"124\": {\"124\": 11, \"29\": 1}, \"71\": {\"71\": 11, \"53\": 1}, \"67\": {\"67\": 12}, \"15\": {\"15\": 10, \"27\": 1, \"111\": 1}, \"5\": {\"5\": 12}, \"24\": {\"24\": 9, \"108\": 1, \"97\": 1, \"126\": 1}, \"62\": {\"62\": 12}, \"13\": {\"13\": 12}, \"101\": {\"101\": 12}, \"51\": {\"51\": 12}, \"129\": {\"129\": 8, \"128\": 2, \"82\": 1, \"19\": 1}, \"65\": {\"76\": 2, \"63\": 6, \"65\": 3, \"35\": 1}, \"121\": {\"121\": 12}, \"43\": {\"43\": 11, \"35\": 1}, \"73\": {\"73\": 12}, \"68\": {\"68\": 12}, \"66\": {\"66\": 9, \"27\": 1, \"41\": 2}, \"60\": {\"60\": 3, \"30\": 2, \"42\": 1, \"123\": 2, \"34\": 2, \"83\": 2}, \"115\": {\"115\": 12}, \"38\": {\"38\": 12}, \"2\": {\"2\": 6, \"1\": 1, \"11\": 2, \"82\": 1, \"19\": 1, \"109\": 1}, \"127\": {\"127\": 12}, \"54\": {\"54\": 12}, \"72\": {\"72\": 12}, \"27\": {\"27\": 9, \"94\": 2, \"88\": 1}, \"57\": {\"57\": 12}, \"48\": {\"48\": 10, \"76\": 1, \"123\": 1}, \"114\": {\"114\": 12}, \"25\": {\"25\": 12}, \"11\": {\"82\": 4, \"11\": 7, \"84\": 1}, \"29\": {\"29\": 12}, \"98\": {\"34\": 1, \"98\": 11}, \"10\": {\"10\": 8, \"85\": 3, \"70\": 1}}}, \"per_domain_accuracy\": {\"3\": {\"accuracy\": 0.9032051282051282, \"source?\": true}, \"2\": {\"accuracy\": 0.8237179487179487, \"source?\": false}, \"4\": {\"accuracy\": 0.7974358974358975, \"source?\": false}, \"1\": {\"accuracy\": 0.8384615384615385, \"source?\": false}}}, \"history\": {\"epoch_indices\": [1, 2, 3, 4, 5, 6, 7, 8, 9], \"train_label_loss\": [1.7464914676688967, 0.6341577016171955, 0.3233316001437959, 0.22208586069090025, 0.15187146993620054, 0.12248942486587025, 0.0909712990036323, 0.07175365489508424, 0.0743978173649382], \"source_val_label_loss\": [1.005496859550476, 0.644933819770813, 0.585861325263977, 0.5487825870513916, 0.5467249751091003, 0.554818868637085, 0.570283830165863, 0.577314555644989, 0.5644048452377319], \"target_val_label_loss\": [1.275438904762268, 1.0223934650421143, 0.9980036616325378, 0.9745968580245972, 0.9716023206710815, 1.0370384454727173, 0.9865317940711975, 1.0822688341140747, 1.053486943244934], \"source_val_acc_label\": [0.8346153846153846, 0.8711538461538462, 0.8884615384615384, 0.8974358974358975, 0.9032051282051282, 0.9083333333333333, 0.9038461538461539, 0.9064102564102564, 0.9], \"target_val_acc_label\": [0.7611111111111111, 0.7982905982905983, 0.8027777777777778, 0.8072649572649573, 0.8198717948717948, 0.8126068376068376, 0.8258547008547008, 0.8170940170940171, 0.8108974358974359]}, \"dataset_metrics\": {\"source\": {\"train\": {\"n_unique_x\": 9100, \"n_unique_y\": 130, \"n_batch/episode\": 42}, \"val\": {\"n_unique_x\": 1950, \"n_unique_y\": 130, \"n_batch/episode\": 6}, \"test\": {\"n_unique_x\": 1950, \"n_unique_y\": 130, \"n_batch/episode\": 6}}, \"target\": {\"train\": {\"n_unique_x\": 27300, \"n_unique_y\": 130, \"n_batch/episode\": 126}, \"val\": {\"n_unique_x\": 5850, \"n_unique_y\": 130, \"n_batch/episode\": 18}, \"test\": {\"n_unique_x\": 5850, \"n_unique_y\": 130, \"n_batch/episode\": 18}}}}'"
      ]
     },
     "execution_count": 20,
     "metadata": {},
     "output_type": "execute_result"
    }
   ],
   "source": [
    "json.dumps(experiment)"
   ]
  }
 ],
 "metadata": {
  "celltoolbar": "Tags",
  "kernelspec": {
   "display_name": "Python 3 (ipykernel)",
   "language": "python",
   "name": "python3"
  },
  "language_info": {
   "codemirror_mode": {
    "name": "ipython",
    "version": 3
   },
   "file_extension": ".py",
   "mimetype": "text/x-python",
   "name": "python",
   "nbconvert_exporter": "python",
   "pygments_lexer": "ipython3",
   "version": "3.8.10"
  },
  "papermill": {
   "default_parameters": {},
   "duration": 90.82751,
   "end_time": "2022-03-06T01:01:54.310560",
   "environment_variables": {},
   "exception": null,
   "input_path": "/mnt/wd500GB/CSC500/csc500-main/csc500-notebooks/templates/ptn_template.ipynb",
   "output_path": "trial.ipynb",
   "parameters": {
    "parameters": {
     "BEST_MODEL_PATH": "./best_model.pth",
     "NUM_LOGS_PER_EPOCH": 10,
     "criteria_for_best": "target_loss",
     "dataset_seed": 1337,
     "device": "cuda",
     "domains_source": [
      3
     ],
     "domains_target": [
      1,
      2,
      4
     ],
     "episode_transforms_source": [],
     "episode_transforms_target": [],
     "experiment_name": "tuned_1_wisig",
     "labels_source": [
      "1-10",
      "1-12",
      "1-14",
      "1-16",
      "1-18",
      "1-19",
      "1-8",
      "10-11",
      "10-17",
      "10-4",
      "10-7",
      "11-1",
      "11-10",
      "11-19",
      "11-20",
      "11-4",
      "11-7",
      "12-19",
      "12-20",
      "12-7",
      "13-14",
      "13-18",
      "13-19",
      "13-20",
      "13-3",
      "13-7",
      "14-10",
      "14-11",
      "14-12",
      "14-13",
      "14-14",
      "14-19",
      "14-20",
      "14-7",
      "14-8",
      "14-9",
      "15-1",
      "15-19",
      "15-6",
      "16-1",
      "16-16",
      "16-19",
      "16-20",
      "17-10",
      "17-11",
      "18-1",
      "18-10",
      "18-11",
      "18-12",
      "18-13",
      "18-14",
      "18-15",
      "18-16",
      "18-17",
      "18-19",
      "18-2",
      "18-20",
      "18-4",
      "18-5",
      "18-7",
      "18-8",
      "18-9",
      "19-1",
      "19-10",
      "19-11",
      "19-12",
      "19-13",
      "19-14",
      "19-15",
      "19-19",
      "19-2",
      "19-20",
      "19-3",
      "19-4",
      "19-6",
      "19-7",
      "19-8",
      "19-9",
      "2-1",
      "2-13",
      "2-15",
      "2-3",
      "2-4",
      "2-5",
      "2-6",
      "2-7",
      "2-8",
      "20-1",
      "20-12",
      "20-14",
      "20-15",
      "20-16",
      "20-18",
      "20-19",
      "20-20",
      "20-3",
      "20-4",
      "20-5",
      "20-7",
      "20-8",
      "3-1",
      "3-13",
      "3-18",
      "3-2",
      "3-8",
      "4-1",
      "4-10",
      "4-11",
      "5-1",
      "5-5",
      "6-1",
      "6-15",
      "6-6",
      "7-10",
      "7-11",
      "7-12",
      "7-13",
      "7-14",
      "7-7",
      "7-8",
      "7-9",
      "8-1",
      "8-13",
      "8-14",
      "8-18",
      "8-20",
      "8-3",
      "8-8",
      "9-1",
      "9-7"
     ],
     "labels_target": [
      "1-10",
      "1-12",
      "1-14",
      "1-16",
      "1-18",
      "1-19",
      "1-8",
      "10-11",
      "10-17",
      "10-4",
      "10-7",
      "11-1",
      "11-10",
      "11-19",
      "11-20",
      "11-4",
      "11-7",
      "12-19",
      "12-20",
      "12-7",
      "13-14",
      "13-18",
      "13-19",
      "13-20",
      "13-3",
      "13-7",
      "14-10",
      "14-11",
      "14-12",
      "14-13",
      "14-14",
      "14-19",
      "14-20",
      "14-7",
      "14-8",
      "14-9",
      "15-1",
      "15-19",
      "15-6",
      "16-1",
      "16-16",
      "16-19",
      "16-20",
      "17-10",
      "17-11",
      "18-1",
      "18-10",
      "18-11",
      "18-12",
      "18-13",
      "18-14",
      "18-15",
      "18-16",
      "18-17",
      "18-19",
      "18-2",
      "18-20",
      "18-4",
      "18-5",
      "18-7",
      "18-8",
      "18-9",
      "19-1",
      "19-10",
      "19-11",
      "19-12",
      "19-13",
      "19-14",
      "19-15",
      "19-19",
      "19-2",
      "19-20",
      "19-3",
      "19-4",
      "19-6",
      "19-7",
      "19-8",
      "19-9",
      "2-1",
      "2-13",
      "2-15",
      "2-3",
      "2-4",
      "2-5",
      "2-6",
      "2-7",
      "2-8",
      "20-1",
      "20-12",
      "20-14",
      "20-15",
      "20-16",
      "20-18",
      "20-19",
      "20-20",
      "20-3",
      "20-4",
      "20-5",
      "20-7",
      "20-8",
      "3-1",
      "3-13",
      "3-18",
      "3-2",
      "3-8",
      "4-1",
      "4-10",
      "4-11",
      "5-1",
      "5-5",
      "6-1",
      "6-15",
      "6-6",
      "7-10",
      "7-11",
      "7-12",
      "7-13",
      "7-14",
      "7-7",
      "7-8",
      "7-9",
      "8-1",
      "8-13",
      "8-14",
      "8-18",
      "8-20",
      "8-3",
      "8-8",
      "9-1",
      "9-7"
     ],
     "lr": 0.001,
     "n_epoch": 50,
     "n_query": 2,
     "n_shot": 3,
     "n_way": 130,
     "num_examples_per_domain_per_label_source": 100,
     "num_examples_per_domain_per_label_target": 100,
     "patience": 3,
     "pickle_name": "wisig.node3-19.stratified_ds.2022A.pkl",
     "seed": 1337,
     "test_k_factor": 2,
     "torch_default_dtype": "torch.float32",
     "train_k_factor": 3,
     "val_k_factor": 2,
     "x_net": [
      {
       "class": "nnReshape",
       "kargs": {
        "shape": [
         -1,
         1,
         2,
         256
        ]
       }
      },
      {
       "class": "Conv2d",
       "kargs": {
        "bias": false,
        "in_channels": 1,
        "kernel_size": [
         1,
         7
        ],
        "out_channels": 256,
        "padding": [
         0,
         3
        ]
       }
      },
      {
       "class": "ReLU",
       "kargs": {
        "inplace": true
       }
      },
      {
       "class": "BatchNorm2d",
       "kargs": {
        "num_features": 256
       }
      },
      {
       "class": "Conv2d",
       "kargs": {
        "bias": true,
        "in_channels": 256,
        "kernel_size": [
         2,
         7
        ],
        "out_channels": 80,
        "padding": [
         0,
         3
        ]
       }
      },
      {
       "class": "ReLU",
       "kargs": {
        "inplace": true
       }
      },
      {
       "class": "BatchNorm2d",
       "kargs": {
        "num_features": 80
       }
      },
      {
       "class": "Flatten",
       "kargs": {}
      },
      {
       "class": "Linear",
       "kargs": {
        "in_features": 20480,
        "out_features": 256
       }
      },
      {
       "class": "ReLU",
       "kargs": {
        "inplace": true
       }
      },
      {
       "class": "BatchNorm1d",
       "kargs": {
        "num_features": 256
       }
      },
      {
       "class": "Linear",
       "kargs": {
        "in_features": 256,
        "out_features": 256
       }
      }
     ],
     "x_transforms_source": [
      "unit_power"
     ],
     "x_transforms_target": [
      "unit_power"
     ]
    }
   },
   "start_time": "2022-03-06T01:00:23.483050",
   "version": "2.3.4"
  }
 },
 "nbformat": 4,
 "nbformat_minor": 5
}