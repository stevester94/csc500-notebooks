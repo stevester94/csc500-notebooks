{
 "cells": [
  {
   "cell_type": "markdown",
   "id": "9fea5f46",
   "metadata": {
    "papermill": {
     "duration": 0.014831,
     "end_time": "2022-03-06T17:34:35.942727",
     "exception": false,
     "start_time": "2022-03-06T17:34:35.927896",
     "status": "completed"
    },
    "tags": []
   },
   "source": [
    "# PTN Template\n",
    "This notebook serves as a template for single dataset PTN experiments  \n",
    "It can be run on its own by setting STANDALONE to True (do a find for \"STANDALONE\" to see where)  \n",
    "But it is intended to be executed as part of a *papermill.py script. See any of the   \n",
    "experimentes with a papermill script to get started with that workflow.  "
   ]
  },
  {
   "cell_type": "code",
   "execution_count": 1,
   "id": "0902182a",
   "metadata": {
    "execution": {
     "iopub.execute_input": "2022-03-06T17:34:35.974940Z",
     "iopub.status.busy": "2022-03-06T17:34:35.973129Z",
     "iopub.status.idle": "2022-03-06T17:34:36.706897Z",
     "shell.execute_reply": "2022-03-06T17:34:36.706365Z"
    },
    "papermill": {
     "duration": 0.754917,
     "end_time": "2022-03-06T17:34:36.707007",
     "exception": false,
     "start_time": "2022-03-06T17:34:35.952090",
     "status": "completed"
    },
    "tags": []
   },
   "outputs": [],
   "source": [
    "%load_ext autoreload\n",
    "%autoreload 2\n",
    "%matplotlib inline\n",
    "\n",
    "    \n",
    "import os, json, sys, time, random\n",
    "import numpy as np\n",
    "import torch\n",
    "from torch.optim import Adam\n",
    "from  easydict import EasyDict\n",
    "import matplotlib.pyplot as plt\n",
    "\n",
    "from steves_models.steves_ptn import Steves_Prototypical_Network\n",
    "\n",
    "from steves_utils.lazy_iterable_wrapper import Lazy_Iterable_Wrapper\n",
    "from steves_utils.iterable_aggregator import Iterable_Aggregator\n",
    "from steves_utils.ptn_train_eval_test_jig import  PTN_Train_Eval_Test_Jig\n",
    "from steves_utils.torch_sequential_builder import build_sequential\n",
    "from steves_utils.torch_utils import get_dataset_metrics, ptn_confusion_by_domain_over_dataloader\n",
    "from steves_utils.utils_v2 import (per_domain_accuracy_from_confusion, get_datasets_base_path)\n",
    "from steves_utils.PTN.utils import independent_accuracy_assesment\n",
    "\n",
    "from steves_utils.stratified_dataset.episodic_accessor import Episodic_Accessor_Factory\n",
    "\n",
    "from steves_utils.ptn_do_report import (\n",
    "    get_loss_curve,\n",
    "    get_results_table,\n",
    "    get_parameters_table,\n",
    "    get_domain_accuracies,\n",
    ")\n",
    "\n",
    "from steves_utils.transforms import get_chained_transform"
   ]
  },
  {
   "cell_type": "markdown",
   "id": "41c840b4",
   "metadata": {
    "papermill": {
     "duration": 0.0097,
     "end_time": "2022-03-06T17:34:36.731101",
     "exception": false,
     "start_time": "2022-03-06T17:34:36.721401",
     "status": "completed"
    },
    "tags": []
   },
   "source": [
    "# Required Parameters\n",
    "These are allowed parameters, not defaults\n",
    "Each of these values need to be present in the injected parameters (the notebook will raise an exception if they are not present)\n",
    "\n",
    "Papermill uses the cell tag \"parameters\" to inject the real parameters below this cell.\n",
    "Enable tags to see what I mean"
   ]
  },
  {
   "cell_type": "code",
   "execution_count": 2,
   "id": "fd44eb83",
   "metadata": {
    "execution": {
     "iopub.execute_input": "2022-03-06T17:34:36.752372Z",
     "iopub.status.busy": "2022-03-06T17:34:36.752111Z",
     "iopub.status.idle": "2022-03-06T17:34:36.764699Z",
     "shell.execute_reply": "2022-03-06T17:34:36.764260Z"
    },
    "papermill": {
     "duration": 0.024659,
     "end_time": "2022-03-06T17:34:36.764787",
     "exception": false,
     "start_time": "2022-03-06T17:34:36.740128",
     "status": "completed"
    },
    "tags": []
   },
   "outputs": [],
   "source": [
    "required_parameters = {\n",
    "    \"experiment_name\",\n",
    "    \"lr\",\n",
    "    \"device\",\n",
    "    \"seed\",\n",
    "    \"dataset_seed\",\n",
    "    \"labels_source\",\n",
    "    \"labels_target\",\n",
    "    \"domains_source\",\n",
    "    \"domains_target\",\n",
    "    \"num_examples_per_domain_per_label_source\",\n",
    "    \"num_examples_per_domain_per_label_target\",\n",
    "    \"n_shot\",\n",
    "    \"n_way\",\n",
    "    \"n_query\",\n",
    "    \"train_k_factor\",\n",
    "    \"val_k_factor\",\n",
    "    \"test_k_factor\",\n",
    "    \"n_epoch\",\n",
    "    \"patience\",\n",
    "    \"criteria_for_best\",\n",
    "    \"x_transforms_source\",\n",
    "    \"x_transforms_target\",\n",
    "    \"episode_transforms_source\",\n",
    "    \"episode_transforms_target\",\n",
    "    \"pickle_name\",\n",
    "    \"x_net\",\n",
    "    \"NUM_LOGS_PER_EPOCH\",\n",
    "    \"BEST_MODEL_PATH\",\n",
    "    \"torch_default_dtype\"\n",
    "}"
   ]
  },
  {
   "cell_type": "code",
   "execution_count": 3,
   "id": "fa3f0049",
   "metadata": {
    "execution": {
     "iopub.execute_input": "2022-03-06T17:34:36.796950Z",
     "iopub.status.busy": "2022-03-06T17:34:36.796410Z",
     "iopub.status.idle": "2022-03-06T17:34:36.808266Z",
     "shell.execute_reply": "2022-03-06T17:34:36.807891Z"
    },
    "papermill": {
     "duration": 0.031382,
     "end_time": "2022-03-06T17:34:36.808356",
     "exception": false,
     "start_time": "2022-03-06T17:34:36.776974",
     "status": "completed"
    },
    "tags": [
     "parameters"
    ]
   },
   "outputs": [],
   "source": [
    "\n",
    "\n",
    "standalone_parameters = {}\n",
    "standalone_parameters[\"experiment_name\"] = \"STANDALONE PTN\"\n",
    "standalone_parameters[\"lr\"] = 0.0001\n",
    "standalone_parameters[\"device\"] = \"cuda\"\n",
    "\n",
    "standalone_parameters[\"seed\"] = 1337\n",
    "standalone_parameters[\"dataset_seed\"] = 1337\n",
    "\n",
    "\n",
    "standalone_parameters[\"num_examples_per_domain_per_label_source\"]=100\n",
    "standalone_parameters[\"num_examples_per_domain_per_label_target\"]=100\n",
    "\n",
    "standalone_parameters[\"n_shot\"] = 3\n",
    "standalone_parameters[\"n_query\"]  = 2\n",
    "standalone_parameters[\"train_k_factor\"] = 1\n",
    "standalone_parameters[\"val_k_factor\"] = 2\n",
    "standalone_parameters[\"test_k_factor\"] = 2\n",
    "\n",
    "\n",
    "standalone_parameters[\"n_epoch\"] = 100\n",
    "\n",
    "standalone_parameters[\"patience\"] = 10\n",
    "standalone_parameters[\"criteria_for_best\"] = \"target_accuracy\"\n",
    "\n",
    "standalone_parameters[\"x_transforms_source\"] = [\"unit_power\"]\n",
    "standalone_parameters[\"x_transforms_target\"] = [\"unit_power\"]\n",
    "standalone_parameters[\"episode_transforms_source\"] = []\n",
    "standalone_parameters[\"episode_transforms_target\"] = []\n",
    "\n",
    "standalone_parameters[\"torch_default_dtype\"] = \"torch.float32\" \n",
    "\n",
    "\n",
    "\n",
    "standalone_parameters[\"x_net\"] =     [\n",
    "    {\"class\": \"nnReshape\", \"kargs\": {\"shape\":[-1, 1, 2, 256]}},\n",
    "    {\"class\": \"Conv2d\", \"kargs\": { \"in_channels\":1, \"out_channels\":256, \"kernel_size\":(1,7), \"bias\":False, \"padding\":(0,3), },},\n",
    "    {\"class\": \"ReLU\", \"kargs\": {\"inplace\": True}},\n",
    "    {\"class\": \"BatchNorm2d\", \"kargs\": {\"num_features\":256}},\n",
    "\n",
    "    {\"class\": \"Conv2d\", \"kargs\": { \"in_channels\":256, \"out_channels\":80, \"kernel_size\":(2,7), \"bias\":True, \"padding\":(0,3), },},\n",
    "    {\"class\": \"ReLU\", \"kargs\": {\"inplace\": True}},\n",
    "    {\"class\": \"BatchNorm2d\", \"kargs\": {\"num_features\":80}},\n",
    "    {\"class\": \"Flatten\", \"kargs\": {}},\n",
    "\n",
    "    {\"class\": \"Linear\", \"kargs\": {\"in_features\": 80*256, \"out_features\": 256}}, # 80 units per IQ pair\n",
    "    {\"class\": \"ReLU\", \"kargs\": {\"inplace\": True}},\n",
    "    {\"class\": \"BatchNorm1d\", \"kargs\": {\"num_features\":256}},\n",
    "\n",
    "    {\"class\": \"Linear\", \"kargs\": {\"in_features\": 256, \"out_features\": 256}},\n",
    "]\n",
    "\n",
    "# Parameters relevant to results\n",
    "# These parameters will basically never need to change\n",
    "standalone_parameters[\"NUM_LOGS_PER_EPOCH\"] = 10\n",
    "standalone_parameters[\"BEST_MODEL_PATH\"] = \"./best_model.pth\"\n",
    "\n",
    "# uncomment for CORES dataset\n",
    "from steves_utils.CORES.utils import (\n",
    "    ALL_NODES,\n",
    "    ALL_NODES_MINIMUM_1000_EXAMPLES,\n",
    "    ALL_DAYS\n",
    ")\n",
    "\n",
    "\n",
    "standalone_parameters[\"labels_source\"] = ALL_NODES\n",
    "standalone_parameters[\"labels_target\"] = ALL_NODES\n",
    "\n",
    "standalone_parameters[\"domains_source\"] = [1]\n",
    "standalone_parameters[\"domains_target\"] = [2,3,4,5]\n",
    "\n",
    "standalone_parameters[\"pickle_name\"] = \"cores.stratified_ds.2022A.pkl\"\n",
    "\n",
    "\n",
    "# Uncomment these for ORACLE dataset\n",
    "# from steves_utils.ORACLE.utils_v2 import (\n",
    "#     ALL_DISTANCES_FEET,\n",
    "#     ALL_RUNS,\n",
    "#     ALL_SERIAL_NUMBERS,\n",
    "# )\n",
    "# standalone_parameters[\"labels_source\"] = ALL_SERIAL_NUMBERS\n",
    "# standalone_parameters[\"labels_target\"] = ALL_SERIAL_NUMBERS\n",
    "# standalone_parameters[\"domains_source\"] = [8,20, 38,50]\n",
    "# standalone_parameters[\"domains_target\"] = [14, 26, 32, 44, 56]\n",
    "# standalone_parameters[\"pickle_name\"] = \"oracle.frame_indexed.stratified_ds.2022A.pkl\"\n",
    "# standalone_parameters[\"num_examples_per_domain_per_label_source\"]=1000\n",
    "# standalone_parameters[\"num_examples_per_domain_per_label_target\"]=1000\n",
    "\n",
    "# Uncomment these for Metahan dataset\n",
    "# standalone_parameters[\"labels_source\"] = list(range(19))\n",
    "# standalone_parameters[\"labels_target\"] = list(range(19))\n",
    "# standalone_parameters[\"domains_source\"] = [0]\n",
    "# standalone_parameters[\"domains_target\"] = [1]\n",
    "# standalone_parameters[\"pickle_name\"] = \"metehan.stratified_ds.2022A.pkl\"\n",
    "# standalone_parameters[\"n_way\"]  = len(standalone_parameters[\"labels_source\"])\n",
    "# standalone_parameters[\"num_examples_per_domain_per_label_source\"]=200\n",
    "# standalone_parameters[\"num_examples_per_domain_per_label_target\"]=100\n",
    "\n",
    "\n",
    "standalone_parameters[\"n_way\"]  = len(standalone_parameters[\"labels_source\"])"
   ]
  },
  {
   "cell_type": "code",
   "execution_count": 4,
   "id": "1adce7c8",
   "metadata": {
    "execution": {
     "iopub.execute_input": "2022-03-06T17:34:36.840221Z",
     "iopub.status.busy": "2022-03-06T17:34:36.839546Z",
     "iopub.status.idle": "2022-03-06T17:34:36.850907Z",
     "shell.execute_reply": "2022-03-06T17:34:36.850519Z"
    },
    "papermill": {
     "duration": 0.028175,
     "end_time": "2022-03-06T17:34:36.850995",
     "exception": false,
     "start_time": "2022-03-06T17:34:36.822820",
     "status": "completed"
    },
    "tags": [
     "injected-parameters"
    ]
   },
   "outputs": [],
   "source": [
    "# Parameters\n",
    "parameters = {\n",
    "    \"experiment_name\": \"tuned_1_oracle.run2_limited\",\n",
    "    \"device\": \"cuda\",\n",
    "    \"lr\": 0.001,\n",
    "    \"seed\": 1337,\n",
    "    \"dataset_seed\": 1337,\n",
    "    \"labels_source\": [\n",
    "        \"3123D52\",\n",
    "        \"3123D65\",\n",
    "        \"3123D79\",\n",
    "        \"3123D80\",\n",
    "        \"3123D54\",\n",
    "        \"3123D70\",\n",
    "        \"3123D7B\",\n",
    "        \"3123D89\",\n",
    "        \"3123D58\",\n",
    "        \"3123D76\",\n",
    "        \"3123D7D\",\n",
    "        \"3123EFE\",\n",
    "        \"3123D64\",\n",
    "        \"3123D78\",\n",
    "        \"3123D7E\",\n",
    "        \"3124E4A\",\n",
    "    ],\n",
    "    \"labels_target\": [\n",
    "        \"3123D52\",\n",
    "        \"3123D65\",\n",
    "        \"3123D79\",\n",
    "        \"3123D80\",\n",
    "        \"3123D54\",\n",
    "        \"3123D70\",\n",
    "        \"3123D7B\",\n",
    "        \"3123D89\",\n",
    "        \"3123D58\",\n",
    "        \"3123D76\",\n",
    "        \"3123D7D\",\n",
    "        \"3123EFE\",\n",
    "        \"3123D64\",\n",
    "        \"3123D78\",\n",
    "        \"3123D7E\",\n",
    "        \"3124E4A\",\n",
    "    ],\n",
    "    \"x_transforms_source\": [],\n",
    "    \"x_transforms_target\": [],\n",
    "    \"episode_transforms_source\": [],\n",
    "    \"episode_transforms_target\": [],\n",
    "    \"domains_source\": [8, 32, 50],\n",
    "    \"domains_target\": [14, 20, 26, 38, 44],\n",
    "    \"num_examples_per_domain_per_label_source\": 2000,\n",
    "    \"num_examples_per_domain_per_label_target\": 1000,\n",
    "    \"n_shot\": 3,\n",
    "    \"n_way\": 16,\n",
    "    \"n_query\": 2,\n",
    "    \"train_k_factor\": 3,\n",
    "    \"val_k_factor\": 2,\n",
    "    \"test_k_factor\": 2,\n",
    "    \"torch_default_dtype\": \"torch.float32\",\n",
    "    \"n_epoch\": 50,\n",
    "    \"patience\": 3,\n",
    "    \"criteria_for_best\": \"target_loss\",\n",
    "    \"x_net\": [\n",
    "        {\"class\": \"nnReshape\", \"kargs\": {\"shape\": [-1, 1, 2, 256]}},\n",
    "        {\n",
    "            \"class\": \"Conv2d\",\n",
    "            \"kargs\": {\n",
    "                \"in_channels\": 1,\n",
    "                \"out_channels\": 256,\n",
    "                \"kernel_size\": [1, 7],\n",
    "                \"bias\": False,\n",
    "                \"padding\": [0, 3],\n",
    "            },\n",
    "        },\n",
    "        {\"class\": \"ReLU\", \"kargs\": {\"inplace\": True}},\n",
    "        {\"class\": \"BatchNorm2d\", \"kargs\": {\"num_features\": 256}},\n",
    "        {\n",
    "            \"class\": \"Conv2d\",\n",
    "            \"kargs\": {\n",
    "                \"in_channels\": 256,\n",
    "                \"out_channels\": 80,\n",
    "                \"kernel_size\": [2, 7],\n",
    "                \"bias\": True,\n",
    "                \"padding\": [0, 3],\n",
    "            },\n",
    "        },\n",
    "        {\"class\": \"ReLU\", \"kargs\": {\"inplace\": True}},\n",
    "        {\"class\": \"BatchNorm2d\", \"kargs\": {\"num_features\": 80}},\n",
    "        {\"class\": \"Flatten\", \"kargs\": {}},\n",
    "        {\"class\": \"Linear\", \"kargs\": {\"in_features\": 20480, \"out_features\": 256}},\n",
    "        {\"class\": \"ReLU\", \"kargs\": {\"inplace\": True}},\n",
    "        {\"class\": \"BatchNorm1d\", \"kargs\": {\"num_features\": 256}},\n",
    "        {\"class\": \"Linear\", \"kargs\": {\"in_features\": 256, \"out_features\": 256}},\n",
    "    ],\n",
    "    \"NUM_LOGS_PER_EPOCH\": 10,\n",
    "    \"BEST_MODEL_PATH\": \"./best_model.pth\",\n",
    "    \"pickle_name\": \"oracle.Run2_10kExamples_stratified_ds.2022A.pkl\",\n",
    "}\n"
   ]
  },
  {
   "cell_type": "code",
   "execution_count": 5,
   "id": "8fa1cc33",
   "metadata": {
    "execution": {
     "iopub.execute_input": "2022-03-06T17:34:36.877574Z",
     "iopub.status.busy": "2022-03-06T17:34:36.877318Z",
     "iopub.status.idle": "2022-03-06T17:34:36.889753Z",
     "shell.execute_reply": "2022-03-06T17:34:36.889459Z"
    },
    "papermill": {
     "duration": 0.025511,
     "end_time": "2022-03-06T17:34:36.889824",
     "exception": false,
     "start_time": "2022-03-06T17:34:36.864313",
     "status": "completed"
    },
    "tags": []
   },
   "outputs": [],
   "source": [
    "# Set this to True if you want to run this template directly\n",
    "STANDALONE = False\n",
    "if STANDALONE:\n",
    "    print(\"parameters not injected, running with standalone_parameters\")\n",
    "    parameters = standalone_parameters\n",
    "\n",
    "if not 'parameters' in locals() and not 'parameters' in globals():\n",
    "    raise Exception(\"Parameter injection failed\")\n",
    "\n",
    "#Use an easy dict for all the parameters\n",
    "p = EasyDict(parameters)\n",
    "\n",
    "supplied_keys = set(p.keys())\n",
    "\n",
    "if  supplied_keys != required_parameters:\n",
    "    print(\"Parameters are incorrect\")\n",
    "    if len(supplied_keys - required_parameters)>0: print(\"Shouldn't have:\", str(supplied_keys - required_parameters))\n",
    "    if len(required_parameters - supplied_keys)>0: print(\"Need to have:\", str(required_parameters - supplied_keys))\n",
    "    raise RuntimeError(\"Parameters are incorrect\")\n",
    "\n"
   ]
  },
  {
   "cell_type": "code",
   "execution_count": 6,
   "id": "3a028d58",
   "metadata": {
    "execution": {
     "iopub.execute_input": "2022-03-06T17:34:36.923696Z",
     "iopub.status.busy": "2022-03-06T17:34:36.916627Z",
     "iopub.status.idle": "2022-03-06T17:34:36.928819Z",
     "shell.execute_reply": "2022-03-06T17:34:36.928517Z"
    },
    "papermill": {
     "duration": 0.024508,
     "end_time": "2022-03-06T17:34:36.928891",
     "exception": false,
     "start_time": "2022-03-06T17:34:36.904383",
     "status": "completed"
    },
    "tags": []
   },
   "outputs": [],
   "source": [
    "###################################\n",
    "# Set the RNGs and make it all deterministic\n",
    "###################################\n",
    "np.random.seed(p.seed)\n",
    "random.seed(p.seed)\n",
    "torch.manual_seed(p.seed)\n",
    "\n",
    "torch.use_deterministic_algorithms(True) "
   ]
  },
  {
   "cell_type": "code",
   "execution_count": 7,
   "id": "b691acf6",
   "metadata": {
    "execution": {
     "iopub.execute_input": "2022-03-06T17:34:36.954679Z",
     "iopub.status.busy": "2022-03-06T17:34:36.954277Z",
     "iopub.status.idle": "2022-03-06T17:34:36.966733Z",
     "shell.execute_reply": "2022-03-06T17:34:36.966362Z"
    },
    "papermill": {
     "duration": 0.023701,
     "end_time": "2022-03-06T17:34:36.966803",
     "exception": false,
     "start_time": "2022-03-06T17:34:36.943102",
     "status": "completed"
    },
    "tags": []
   },
   "outputs": [],
   "source": [
    "###########################################\n",
    "# The stratified datasets honor this\n",
    "###########################################\n",
    "torch.set_default_dtype(eval(p.torch_default_dtype))"
   ]
  },
  {
   "cell_type": "code",
   "execution_count": 8,
   "id": "b5fba671",
   "metadata": {
    "execution": {
     "iopub.execute_input": "2022-03-06T17:34:36.993114Z",
     "iopub.status.busy": "2022-03-06T17:34:36.992865Z",
     "iopub.status.idle": "2022-03-06T17:34:37.029569Z",
     "shell.execute_reply": "2022-03-06T17:34:37.029120Z"
    },
    "papermill": {
     "duration": 0.047939,
     "end_time": "2022-03-06T17:34:37.029656",
     "exception": false,
     "start_time": "2022-03-06T17:34:36.981717",
     "status": "completed"
    },
    "tags": []
   },
   "outputs": [],
   "source": [
    "###################################\n",
    "# Build the network(s)\n",
    "# Note: It's critical to do this AFTER setting the RNG\n",
    "# (This is due to the randomized initial weights)\n",
    "###################################\n",
    "x_net = build_sequential(p.x_net)"
   ]
  },
  {
   "cell_type": "code",
   "execution_count": 9,
   "id": "5d7e61cc",
   "metadata": {
    "execution": {
     "iopub.execute_input": "2022-03-06T17:34:37.056464Z",
     "iopub.status.busy": "2022-03-06T17:34:37.056055Z",
     "iopub.status.idle": "2022-03-06T17:34:37.068525Z",
     "shell.execute_reply": "2022-03-06T17:34:37.068151Z"
    },
    "papermill": {
     "duration": 0.024865,
     "end_time": "2022-03-06T17:34:37.068614",
     "exception": false,
     "start_time": "2022-03-06T17:34:37.043749",
     "status": "completed"
    },
    "tags": []
   },
   "outputs": [],
   "source": [
    "start_time_secs = time.time()"
   ]
  },
  {
   "cell_type": "code",
   "execution_count": 10,
   "id": "fd5442bc",
   "metadata": {
    "execution": {
     "iopub.execute_input": "2022-03-06T17:34:37.100910Z",
     "iopub.status.busy": "2022-03-06T17:34:37.100530Z",
     "iopub.status.idle": "2022-03-06T17:34:40.590619Z",
     "shell.execute_reply": "2022-03-06T17:34:40.590125Z"
    },
    "papermill": {
     "duration": 3.507645,
     "end_time": "2022-03-06T17:34:40.590752",
     "exception": false,
     "start_time": "2022-03-06T17:34:37.083107",
     "status": "completed"
    },
    "tags": []
   },
   "outputs": [],
   "source": [
    "###################################\n",
    "# Build the dataset\n",
    "###################################\n",
    "\n",
    "if p.x_transforms_source == []: x_transform_source = None\n",
    "else: x_transform_source = get_chained_transform(p.x_transforms_source) \n",
    "\n",
    "if p.x_transforms_target == []: x_transform_target = None\n",
    "else: x_transform_target = get_chained_transform(p.x_transforms_target)\n",
    "\n",
    "if p.episode_transforms_source == []: episode_transform_source = None\n",
    "else: raise Exception(\"episode_transform_source not implemented\")\n",
    "\n",
    "if p.episode_transforms_target == []: episode_transform_target = None\n",
    "else: raise Exception(\"episode_transform_target not implemented\")\n",
    "\n",
    "\n",
    "eaf_source = Episodic_Accessor_Factory(\n",
    "    labels=p.labels_source,\n",
    "    domains=p.domains_source,\n",
    "    num_examples_per_domain_per_label=p.num_examples_per_domain_per_label_source,\n",
    "    iterator_seed=p.seed,\n",
    "    dataset_seed=p.dataset_seed,\n",
    "    n_shot=p.n_shot,\n",
    "    n_way=p.n_way,\n",
    "    n_query=p.n_query,\n",
    "    train_val_test_k_factors=(p.train_k_factor,p.val_k_factor,p.test_k_factor),\n",
    "    pickle_path=os.path.join(get_datasets_base_path(), p.pickle_name),\n",
    "    x_transform_func=x_transform_source,\n",
    "    example_transform_func=episode_transform_source,\n",
    "    \n",
    ")\n",
    "train_original_source, val_original_source, test_original_source = eaf_source.get_train(), eaf_source.get_val(), eaf_source.get_test()\n",
    "\n",
    "\n",
    "eaf_target = Episodic_Accessor_Factory(\n",
    "    labels=p.labels_target,\n",
    "    domains=p.domains_target,\n",
    "    num_examples_per_domain_per_label=p.num_examples_per_domain_per_label_target,\n",
    "    iterator_seed=p.seed,\n",
    "    dataset_seed=p.dataset_seed,\n",
    "    n_shot=p.n_shot,\n",
    "    n_way=p.n_way,\n",
    "    n_query=p.n_query,\n",
    "    train_val_test_k_factors=(p.train_k_factor,p.val_k_factor,p.test_k_factor),\n",
    "    pickle_path=os.path.join(get_datasets_base_path(), p.pickle_name),\n",
    "    x_transform_func=x_transform_target,\n",
    "    example_transform_func=episode_transform_target,\n",
    ")\n",
    "train_original_target, val_original_target, test_original_target = eaf_target.get_train(), eaf_target.get_val(), eaf_target.get_test()\n",
    "\n",
    "\n",
    "transform_lambda = lambda ex: ex[1] # Original is (<domain>, <episode>) so we strip down to episode only\n",
    "\n",
    "train_processed_source = Lazy_Iterable_Wrapper(train_original_source, transform_lambda)\n",
    "val_processed_source   = Lazy_Iterable_Wrapper(val_original_source, transform_lambda)\n",
    "test_processed_source  = Lazy_Iterable_Wrapper(test_original_source, transform_lambda)\n",
    "\n",
    "train_processed_target = Lazy_Iterable_Wrapper(train_original_target, transform_lambda)\n",
    "val_processed_target   = Lazy_Iterable_Wrapper(val_original_target, transform_lambda)\n",
    "test_processed_target  = Lazy_Iterable_Wrapper(test_original_target, transform_lambda)\n",
    "\n",
    "datasets = EasyDict({\n",
    "    \"source\": {\n",
    "        \"original\": {\"train\":train_original_source, \"val\":val_original_source, \"test\":test_original_source},\n",
    "        \"processed\": {\"train\":train_processed_source, \"val\":val_processed_source, \"test\":test_processed_source}\n",
    "    },\n",
    "    \"target\": {\n",
    "        \"original\": {\"train\":train_original_target, \"val\":val_original_target, \"test\":test_original_target},\n",
    "        \"processed\": {\"train\":train_processed_target, \"val\":val_processed_target, \"test\":test_processed_target}\n",
    "    },\n",
    "})"
   ]
  },
  {
   "cell_type": "code",
   "execution_count": 11,
   "id": "296189d9",
   "metadata": {
    "execution": {
     "iopub.execute_input": "2022-03-06T17:34:40.621602Z",
     "iopub.status.busy": "2022-03-06T17:34:40.621225Z",
     "iopub.status.idle": "2022-03-06T17:34:42.231555Z",
     "shell.execute_reply": "2022-03-06T17:34:42.231821Z"
    },
    "papermill": {
     "duration": 1.6251,
     "end_time": "2022-03-06T17:34:42.231899",
     "exception": false,
     "start_time": "2022-03-06T17:34:40.606799",
     "status": "completed"
    },
    "tags": []
   },
   "outputs": [
    {
     "name": "stdout",
     "output_type": "stream",
     "text": [
      "Visually inspect these to see if they line up with expected values given the transforms\n",
      "x_transforms_source []\n",
      "x_transforms_target []\n",
      "Average magnitude, source: 0.004607944\n",
      "Average power, source: 2.645937e-05\n"
     ]
    },
    {
     "name": "stdout",
     "output_type": "stream",
     "text": [
      "Average magnitude, target: 0.0029128897\n",
      "Average power, target: 1.0910343e-05\n"
     ]
    }
   ],
   "source": [
    "# Some quick unit tests on the data\n",
    "from steves_utils.transforms import get_average_power, get_average_magnitude\n",
    "\n",
    "q_x, q_y, s_x, s_y, truth = next(iter(train_processed_source))\n",
    "\n",
    "assert q_x.dtype == eval(p.torch_default_dtype)\n",
    "assert s_x.dtype == eval(p.torch_default_dtype)\n",
    "\n",
    "print(\"Visually inspect these to see if they line up with expected values given the transforms\")\n",
    "print('x_transforms_source', p.x_transforms_source)\n",
    "print('x_transforms_target', p.x_transforms_target)\n",
    "print(\"Average magnitude, source:\", get_average_magnitude(q_x[0].numpy()))\n",
    "print(\"Average power, source:\", get_average_power(q_x[0].numpy()))\n",
    "\n",
    "q_x, q_y, s_x, s_y, truth = next(iter(train_processed_target))\n",
    "print(\"Average magnitude, target:\", get_average_magnitude(q_x[0].numpy()))\n",
    "print(\"Average power, target:\", get_average_power(q_x[0].numpy()))\n"
   ]
  },
  {
   "cell_type": "code",
   "execution_count": 12,
   "id": "bbdacba1",
   "metadata": {
    "execution": {
     "iopub.execute_input": "2022-03-06T17:34:42.258555Z",
     "iopub.status.busy": "2022-03-06T17:34:42.258293Z",
     "iopub.status.idle": "2022-03-06T17:34:42.317112Z",
     "shell.execute_reply": "2022-03-06T17:34:42.316883Z"
    },
    "papermill": {
     "duration": 0.071962,
     "end_time": "2022-03-06T17:34:42.317171",
     "exception": false,
     "start_time": "2022-03-06T17:34:42.245209",
     "status": "completed"
    },
    "tags": []
   },
   "outputs": [
    {
     "name": "stdout",
     "output_type": "stream",
     "text": [
      "(2, 256)\n"
     ]
    }
   ],
   "source": [
    "###################################\n",
    "# Build the model\n",
    "###################################\n",
    "model = Steves_Prototypical_Network(x_net, device=p.device, x_shape=(2,256))\n",
    "optimizer = Adam(params=model.parameters(), lr=p.lr)"
   ]
  },
  {
   "cell_type": "code",
   "execution_count": 13,
   "id": "22b39ac5",
   "metadata": {
    "execution": {
     "iopub.execute_input": "2022-03-06T17:34:42.341561Z",
     "iopub.status.busy": "2022-03-06T17:34:42.341307Z",
     "iopub.status.idle": "2022-03-06T17:43:48.279294Z",
     "shell.execute_reply": "2022-03-06T17:43:48.279064Z"
    },
    "papermill": {
     "duration": 545.951415,
     "end_time": "2022-03-06T17:43:48.279353",
     "exception": false,
     "start_time": "2022-03-06T17:34:42.327938",
     "status": "completed"
    },
    "tags": []
   },
   "outputs": [
    {
     "name": "stdout",
     "output_type": "stream",
     "text": [
      "epoch: 1, [batch: 1 / 2520], examples_per_second: 129.6411, train_label_loss: 2.2999, \n"
     ]
    },
    {
     "name": "stdout",
     "output_type": "stream",
     "text": [
      "epoch: 1, [batch: 252 / 2520], examples_per_second: 3201.4545, train_label_loss: 1.3233, \n"
     ]
    },
    {
     "name": "stdout",
     "output_type": "stream",
     "text": [
      "epoch: 1, [batch: 504 / 2520], examples_per_second: 3210.8308, train_label_loss: 1.1227, \n"
     ]
    },
    {
     "name": "stdout",
     "output_type": "stream",
     "text": [
      "epoch: 1, [batch: 756 / 2520], examples_per_second: 3211.1402, train_label_loss: 1.2424, \n"
     ]
    },
    {
     "name": "stdout",
     "output_type": "stream",
     "text": [
      "epoch: 1, [batch: 1008 / 2520], examples_per_second: 3215.4569, train_label_loss: 1.2130, \n"
     ]
    },
    {
     "name": "stdout",
     "output_type": "stream",
     "text": [
      "epoch: 1, [batch: 1260 / 2520], examples_per_second: 3223.0940, train_label_loss: 1.0943, \n"
     ]
    },
    {
     "name": "stdout",
     "output_type": "stream",
     "text": [
      "epoch: 1, [batch: 1512 / 2520], examples_per_second: 3216.7941, train_label_loss: 0.8320, \n"
     ]
    },
    {
     "name": "stdout",
     "output_type": "stream",
     "text": [
      "epoch: 1, [batch: 1764 / 2520], examples_per_second: 3201.3512, train_label_loss: 1.0396, \n"
     ]
    },
    {
     "name": "stdout",
     "output_type": "stream",
     "text": [
      "epoch: 1, [batch: 2016 / 2520], examples_per_second: 3214.1134, train_label_loss: 0.7776, \n"
     ]
    },
    {
     "name": "stdout",
     "output_type": "stream",
     "text": [
      "epoch: 1, [batch: 2268 / 2520], examples_per_second: 3211.5576, train_label_loss: 0.3672, \n"
     ]
    },
    {
     "name": "stdout",
     "output_type": "stream",
     "text": [
      "=============================================================\n",
      "epoch: 1, source_val_acc_label: 0.6973, target_val_acc_label: 0.5620, source_val_label_loss: 1.1348, target_val_label_loss: 1.4068, \n",
      "=============================================================\n"
     ]
    },
    {
     "name": "stdout",
     "output_type": "stream",
     "text": [
      "New best\n"
     ]
    },
    {
     "name": "stdout",
     "output_type": "stream",
     "text": [
      "epoch: 2, [batch: 1 / 2520], examples_per_second: 13.1285, train_label_loss: 1.4227, \n"
     ]
    },
    {
     "name": "stdout",
     "output_type": "stream",
     "text": [
      "epoch: 2, [batch: 252 / 2520], examples_per_second: 3239.2292, train_label_loss: 0.6824, \n"
     ]
    },
    {
     "name": "stdout",
     "output_type": "stream",
     "text": [
      "epoch: 2, [batch: 504 / 2520], examples_per_second: 3241.0367, train_label_loss: 0.7359, \n"
     ]
    },
    {
     "name": "stdout",
     "output_type": "stream",
     "text": [
      "epoch: 2, [batch: 756 / 2520], examples_per_second: 3240.0955, train_label_loss: 0.6652, \n"
     ]
    },
    {
     "name": "stdout",
     "output_type": "stream",
     "text": [
      "epoch: 2, [batch: 1008 / 2520], examples_per_second: 3245.0644, train_label_loss: 0.3739, \n"
     ]
    },
    {
     "name": "stdout",
     "output_type": "stream",
     "text": [
      "epoch: 2, [batch: 1260 / 2520], examples_per_second: 3250.6427, train_label_loss: 0.6309, \n"
     ]
    },
    {
     "name": "stdout",
     "output_type": "stream",
     "text": [
      "epoch: 2, [batch: 1512 / 2520], examples_per_second: 3246.6207, train_label_loss: 0.7070, \n"
     ]
    },
    {
     "name": "stdout",
     "output_type": "stream",
     "text": [
      "epoch: 2, [batch: 1764 / 2520], examples_per_second: 3229.2097, train_label_loss: 0.3661, \n"
     ]
    },
    {
     "name": "stdout",
     "output_type": "stream",
     "text": [
      "epoch: 2, [batch: 2016 / 2520], examples_per_second: 3252.1888, train_label_loss: 0.7504, \n"
     ]
    },
    {
     "name": "stdout",
     "output_type": "stream",
     "text": [
      "epoch: 2, [batch: 2268 / 2520], examples_per_second: 3248.8108, train_label_loss: 0.5698, \n"
     ]
    },
    {
     "name": "stdout",
     "output_type": "stream",
     "text": [
      "=============================================================\n",
      "epoch: 2, source_val_acc_label: 0.8057, target_val_acc_label: 0.6502, source_val_label_loss: 0.5499, target_val_label_loss: 1.2600, \n",
      "=============================================================\n"
     ]
    },
    {
     "name": "stdout",
     "output_type": "stream",
     "text": [
      "New best\n"
     ]
    },
    {
     "name": "stdout",
     "output_type": "stream",
     "text": [
      "epoch: 3, [batch: 1 / 2520], examples_per_second: 13.1574, train_label_loss: 0.3773, \n"
     ]
    },
    {
     "name": "stdout",
     "output_type": "stream",
     "text": [
      "epoch: 3, [batch: 252 / 2520], examples_per_second: 3208.5681, train_label_loss: 0.4871, \n"
     ]
    },
    {
     "name": "stdout",
     "output_type": "stream",
     "text": [
      "epoch: 3, [batch: 504 / 2520], examples_per_second: 3241.2446, train_label_loss: 0.2694, \n"
     ]
    },
    {
     "name": "stdout",
     "output_type": "stream",
     "text": [
      "epoch: 3, [batch: 756 / 2520], examples_per_second: 3239.7875, train_label_loss: 0.4793, \n"
     ]
    },
    {
     "name": "stdout",
     "output_type": "stream",
     "text": [
      "epoch: 3, [batch: 1008 / 2520], examples_per_second: 3256.5612, train_label_loss: 0.6457, \n"
     ]
    },
    {
     "name": "stdout",
     "output_type": "stream",
     "text": [
      "epoch: 3, [batch: 1260 / 2520], examples_per_second: 3224.1343, train_label_loss: 0.4962, \n"
     ]
    },
    {
     "name": "stdout",
     "output_type": "stream",
     "text": [
      "epoch: 3, [batch: 1512 / 2520], examples_per_second: 3251.8779, train_label_loss: 0.2910, \n"
     ]
    },
    {
     "name": "stdout",
     "output_type": "stream",
     "text": [
      "epoch: 3, [batch: 1764 / 2520], examples_per_second: 3230.4856, train_label_loss: 0.4332, \n"
     ]
    },
    {
     "name": "stdout",
     "output_type": "stream",
     "text": [
      "epoch: 3, [batch: 2016 / 2520], examples_per_second: 3238.6550, train_label_loss: 0.4405, \n"
     ]
    },
    {
     "name": "stdout",
     "output_type": "stream",
     "text": [
      "epoch: 3, [batch: 2268 / 2520], examples_per_second: 3234.4330, train_label_loss: 0.4943, \n"
     ]
    },
    {
     "name": "stdout",
     "output_type": "stream",
     "text": [
      "=============================================================\n",
      "epoch: 3, source_val_acc_label: 0.8154, target_val_acc_label: 0.6719, source_val_label_loss: 0.5302, target_val_label_loss: 1.3020, \n",
      "=============================================================\n"
     ]
    },
    {
     "name": "stdout",
     "output_type": "stream",
     "text": [
      "epoch: 4, [batch: 1 / 2520], examples_per_second: 13.1681, train_label_loss: 0.6389, \n"
     ]
    },
    {
     "name": "stdout",
     "output_type": "stream",
     "text": [
      "epoch: 4, [batch: 252 / 2520], examples_per_second: 3244.2615, train_label_loss: 0.3484, \n"
     ]
    },
    {
     "name": "stdout",
     "output_type": "stream",
     "text": [
      "epoch: 4, [batch: 504 / 2520], examples_per_second: 3233.9580, train_label_loss: 0.5452, \n"
     ]
    },
    {
     "name": "stdout",
     "output_type": "stream",
     "text": [
      "epoch: 4, [batch: 756 / 2520], examples_per_second: 3238.9355, train_label_loss: 0.5095, \n"
     ]
    },
    {
     "name": "stdout",
     "output_type": "stream",
     "text": [
      "epoch: 4, [batch: 1008 / 2520], examples_per_second: 3218.2830, train_label_loss: 0.2458, \n"
     ]
    },
    {
     "name": "stdout",
     "output_type": "stream",
     "text": [
      "epoch: 4, [batch: 1260 / 2520], examples_per_second: 3242.3131, train_label_loss: 0.2378, \n"
     ]
    },
    {
     "name": "stdout",
     "output_type": "stream",
     "text": [
      "epoch: 4, [batch: 1512 / 2520], examples_per_second: 3235.7291, train_label_loss: 0.1871, \n"
     ]
    },
    {
     "name": "stdout",
     "output_type": "stream",
     "text": [
      "epoch: 4, [batch: 1764 / 2520], examples_per_second: 3221.7606, train_label_loss: 0.3551, \n"
     ]
    },
    {
     "name": "stdout",
     "output_type": "stream",
     "text": [
      "epoch: 4, [batch: 2016 / 2520], examples_per_second: 3234.5129, train_label_loss: 0.5699, \n"
     ]
    },
    {
     "name": "stdout",
     "output_type": "stream",
     "text": [
      "epoch: 4, [batch: 2268 / 2520], examples_per_second: 3242.2553, train_label_loss: 0.2993, \n"
     ]
    },
    {
     "name": "stdout",
     "output_type": "stream",
     "text": [
      "=============================================================\n",
      "epoch: 4, source_val_acc_label: 0.8251, target_val_acc_label: 0.6743, source_val_label_loss: 0.4829, target_val_label_loss: 1.0672, \n",
      "=============================================================\n"
     ]
    },
    {
     "name": "stdout",
     "output_type": "stream",
     "text": [
      "New best\n"
     ]
    },
    {
     "name": "stdout",
     "output_type": "stream",
     "text": [
      "epoch: 5, [batch: 1 / 2520], examples_per_second: 13.1185, train_label_loss: 0.3270, \n"
     ]
    },
    {
     "name": "stdout",
     "output_type": "stream",
     "text": [
      "epoch: 5, [batch: 252 / 2520], examples_per_second: 3233.2875, train_label_loss: 0.1439, \n"
     ]
    },
    {
     "name": "stdout",
     "output_type": "stream",
     "text": [
      "epoch: 5, [batch: 504 / 2520], examples_per_second: 3230.7870, train_label_loss: 0.4010, \n"
     ]
    },
    {
     "name": "stdout",
     "output_type": "stream",
     "text": [
      "epoch: 5, [batch: 756 / 2520], examples_per_second: 3254.1192, train_label_loss: 0.1801, \n"
     ]
    },
    {
     "name": "stdout",
     "output_type": "stream",
     "text": [
      "epoch: 5, [batch: 1008 / 2520], examples_per_second: 3236.6505, train_label_loss: 0.2658, \n"
     ]
    },
    {
     "name": "stdout",
     "output_type": "stream",
     "text": [
      "epoch: 5, [batch: 1260 / 2520], examples_per_second: 3247.5063, train_label_loss: 0.2910, \n"
     ]
    },
    {
     "name": "stdout",
     "output_type": "stream",
     "text": [
      "epoch: 5, [batch: 1512 / 2520], examples_per_second: 3251.8994, train_label_loss: 0.0705, \n"
     ]
    },
    {
     "name": "stdout",
     "output_type": "stream",
     "text": [
      "epoch: 5, [batch: 1764 / 2520], examples_per_second: 3238.7664, train_label_loss: 0.4491, \n"
     ]
    },
    {
     "name": "stdout",
     "output_type": "stream",
     "text": [
      "epoch: 5, [batch: 2016 / 2520], examples_per_second: 3244.0514, train_label_loss: 0.2694, \n"
     ]
    },
    {
     "name": "stdout",
     "output_type": "stream",
     "text": [
      "epoch: 5, [batch: 2268 / 2520], examples_per_second: 3248.9169, train_label_loss: 0.1975, \n"
     ]
    },
    {
     "name": "stdout",
     "output_type": "stream",
     "text": [
      "=============================================================\n",
      "epoch: 5, source_val_acc_label: 0.8272, target_val_acc_label: 0.6756, source_val_label_loss: 0.5026, target_val_label_loss: 1.1562, \n",
      "=============================================================\n"
     ]
    },
    {
     "name": "stdout",
     "output_type": "stream",
     "text": [
      "epoch: 6, [batch: 1 / 2520], examples_per_second: 13.2287, train_label_loss: 0.1030, \n"
     ]
    },
    {
     "name": "stdout",
     "output_type": "stream",
     "text": [
      "epoch: 6, [batch: 252 / 2520], examples_per_second: 3205.6858, train_label_loss: 0.0692, \n"
     ]
    },
    {
     "name": "stdout",
     "output_type": "stream",
     "text": [
      "epoch: 6, [batch: 504 / 2520], examples_per_second: 3195.3928, train_label_loss: 0.4981, \n"
     ]
    },
    {
     "name": "stdout",
     "output_type": "stream",
     "text": [
      "epoch: 6, [batch: 756 / 2520], examples_per_second: 3231.8915, train_label_loss: 0.0356, \n"
     ]
    },
    {
     "name": "stdout",
     "output_type": "stream",
     "text": [
      "epoch: 6, [batch: 1008 / 2520], examples_per_second: 3226.3367, train_label_loss: 0.1750, \n"
     ]
    },
    {
     "name": "stdout",
     "output_type": "stream",
     "text": [
      "epoch: 6, [batch: 1260 / 2520], examples_per_second: 3237.1473, train_label_loss: 0.0867, \n"
     ]
    },
    {
     "name": "stdout",
     "output_type": "stream",
     "text": [
      "epoch: 6, [batch: 1512 / 2520], examples_per_second: 3239.6248, train_label_loss: 0.4058, \n"
     ]
    },
    {
     "name": "stdout",
     "output_type": "stream",
     "text": [
      "epoch: 6, [batch: 1764 / 2520], examples_per_second: 3233.3677, train_label_loss: 0.1398, \n"
     ]
    },
    {
     "name": "stdout",
     "output_type": "stream",
     "text": [
      "epoch: 6, [batch: 2016 / 2520], examples_per_second: 3236.2789, train_label_loss: 0.2434, \n"
     ]
    },
    {
     "name": "stdout",
     "output_type": "stream",
     "text": [
      "epoch: 6, [batch: 2268 / 2520], examples_per_second: 3237.0919, train_label_loss: 0.4552, \n"
     ]
    },
    {
     "name": "stdout",
     "output_type": "stream",
     "text": [
      "=============================================================\n",
      "epoch: 6, source_val_acc_label: 0.8286, target_val_acc_label: 0.6736, source_val_label_loss: 0.4953, target_val_label_loss: 1.2042, \n",
      "=============================================================\n"
     ]
    },
    {
     "name": "stdout",
     "output_type": "stream",
     "text": [
      "epoch: 7, [batch: 1 / 2520], examples_per_second: 13.1930, train_label_loss: 0.1615, \n"
     ]
    },
    {
     "name": "stdout",
     "output_type": "stream",
     "text": [
      "epoch: 7, [batch: 252 / 2520], examples_per_second: 3245.3733, train_label_loss: 0.3928, \n"
     ]
    },
    {
     "name": "stdout",
     "output_type": "stream",
     "text": [
      "epoch: 7, [batch: 504 / 2520], examples_per_second: 3227.4992, train_label_loss: 0.2597, \n"
     ]
    },
    {
     "name": "stdout",
     "output_type": "stream",
     "text": [
      "epoch: 7, [batch: 756 / 2520], examples_per_second: 3234.6867, train_label_loss: 0.4302, \n"
     ]
    },
    {
     "name": "stdout",
     "output_type": "stream",
     "text": [
      "epoch: 7, [batch: 1008 / 2520], examples_per_second: 3225.8861, train_label_loss: 0.3369, \n"
     ]
    },
    {
     "name": "stdout",
     "output_type": "stream",
     "text": [
      "epoch: 7, [batch: 1260 / 2520], examples_per_second: 3213.7780, train_label_loss: 0.1757, \n"
     ]
    },
    {
     "name": "stdout",
     "output_type": "stream",
     "text": [
      "epoch: 7, [batch: 1512 / 2520], examples_per_second: 3238.1792, train_label_loss: 0.1472, \n"
     ]
    },
    {
     "name": "stdout",
     "output_type": "stream",
     "text": [
      "epoch: 7, [batch: 1764 / 2520], examples_per_second: 3236.1045, train_label_loss: 0.1129, \n"
     ]
    },
    {
     "name": "stdout",
     "output_type": "stream",
     "text": [
      "epoch: 7, [batch: 2016 / 2520], examples_per_second: 3245.4185, train_label_loss: 0.1350, \n"
     ]
    },
    {
     "name": "stdout",
     "output_type": "stream",
     "text": [
      "epoch: 7, [batch: 2268 / 2520], examples_per_second: 3235.7376, train_label_loss: 0.1053, \n"
     ]
    },
    {
     "name": "stdout",
     "output_type": "stream",
     "text": [
      "=============================================================\n",
      "epoch: 7, source_val_acc_label: 0.8379, target_val_acc_label: 0.6963, source_val_label_loss: 0.5210, target_val_label_loss: 1.3144, \n",
      "=============================================================\n"
     ]
    },
    {
     "name": "stdout",
     "output_type": "stream",
     "text": [
      "epoch: 8, [batch: 1 / 2520], examples_per_second: 13.1647, train_label_loss: 0.1596, \n"
     ]
    },
    {
     "name": "stdout",
     "output_type": "stream",
     "text": [
      "epoch: 8, [batch: 252 / 2520], examples_per_second: 3216.3169, train_label_loss: 0.1109, \n"
     ]
    },
    {
     "name": "stdout",
     "output_type": "stream",
     "text": [
      "epoch: 8, [batch: 504 / 2520], examples_per_second: 3241.7377, train_label_loss: 0.2164, \n"
     ]
    },
    {
     "name": "stdout",
     "output_type": "stream",
     "text": [
      "epoch: 8, [batch: 756 / 2520], examples_per_second: 3242.5511, train_label_loss: 0.0664, \n"
     ]
    },
    {
     "name": "stdout",
     "output_type": "stream",
     "text": [
      "epoch: 8, [batch: 1008 / 2520], examples_per_second: 3223.4642, train_label_loss: 0.1338, \n"
     ]
    },
    {
     "name": "stdout",
     "output_type": "stream",
     "text": [
      "epoch: 8, [batch: 1260 / 2520], examples_per_second: 3229.6637, train_label_loss: 0.3846, \n"
     ]
    },
    {
     "name": "stdout",
     "output_type": "stream",
     "text": [
      "epoch: 8, [batch: 1512 / 2520], examples_per_second: 3246.5742, train_label_loss: 0.4151, \n"
     ]
    },
    {
     "name": "stdout",
     "output_type": "stream",
     "text": [
      "epoch: 8, [batch: 1764 / 2520], examples_per_second: 3229.6493, train_label_loss: 0.1417, \n"
     ]
    },
    {
     "name": "stdout",
     "output_type": "stream",
     "text": [
      "epoch: 8, [batch: 2016 / 2520], examples_per_second: 3240.2987, train_label_loss: 0.1469, \n"
     ]
    },
    {
     "name": "stdout",
     "output_type": "stream",
     "text": [
      "epoch: 8, [batch: 2268 / 2520], examples_per_second: 3238.5819, train_label_loss: 0.4484, \n"
     ]
    },
    {
     "name": "stdout",
     "output_type": "stream",
     "text": [
      "=============================================================\n",
      "epoch: 8, source_val_acc_label: 0.8253, target_val_acc_label: 0.6867, source_val_label_loss: 0.5545, target_val_label_loss: 1.2317, \n",
      "=============================================================\n"
     ]
    },
    {
     "name": "stdout",
     "output_type": "stream",
     "text": [
      "Patience (3) exhausted\n"
     ]
    }
   ],
   "source": [
    "###################################\n",
    "# train\n",
    "###################################\n",
    "jig = PTN_Train_Eval_Test_Jig(model, p.BEST_MODEL_PATH, p.device)\n",
    "\n",
    "jig.train(\n",
    "    train_iterable=datasets.source.processed.train,\n",
    "    source_val_iterable=datasets.source.processed.val,\n",
    "    target_val_iterable=datasets.target.processed.val,\n",
    "    num_epochs=p.n_epoch,\n",
    "    num_logs_per_epoch=p.NUM_LOGS_PER_EPOCH,\n",
    "    patience=p.patience,\n",
    "    optimizer=optimizer,\n",
    "    criteria_for_best=p.criteria_for_best,\n",
    ")"
   ]
  },
  {
   "cell_type": "code",
   "execution_count": 14,
   "id": "31e8fabf",
   "metadata": {
    "execution": {
     "iopub.execute_input": "2022-03-06T17:43:48.333926Z",
     "iopub.status.busy": "2022-03-06T17:43:48.333681Z",
     "iopub.status.idle": "2022-03-06T17:43:48.349534Z",
     "shell.execute_reply": "2022-03-06T17:43:48.349914Z"
    },
    "papermill": {
     "duration": 0.044483,
     "end_time": "2022-03-06T17:43:48.350017",
     "exception": false,
     "start_time": "2022-03-06T17:43:48.305534",
     "status": "completed"
    },
    "tags": []
   },
   "outputs": [],
   "source": [
    "total_experiment_time_secs = time.time() - start_time_secs"
   ]
  },
  {
   "cell_type": "code",
   "execution_count": 15,
   "id": "87b9595b",
   "metadata": {
    "execution": {
     "iopub.execute_input": "2022-03-06T17:43:48.409597Z",
     "iopub.status.busy": "2022-03-06T17:43:48.407142Z",
     "iopub.status.idle": "2022-03-06T17:44:22.189736Z",
     "shell.execute_reply": "2022-03-06T17:44:22.189965Z"
    },
    "papermill": {
     "duration": 33.809776,
     "end_time": "2022-03-06T17:44:22.190046",
     "exception": false,
     "start_time": "2022-03-06T17:43:48.380270",
     "status": "completed"
    },
    "tags": []
   },
   "outputs": [],
   "source": [
    "###################################\n",
    "# Evaluate the model\n",
    "###################################\n",
    "source_test_label_accuracy, source_test_label_loss = jig.test(datasets.source.processed.test)\n",
    "target_test_label_accuracy, target_test_label_loss = jig.test(datasets.target.processed.test)\n",
    "\n",
    "source_val_label_accuracy, source_val_label_loss = jig.test(datasets.source.processed.val)\n",
    "target_val_label_accuracy, target_val_label_loss = jig.test(datasets.target.processed.val)\n",
    "\n",
    "history = jig.get_history()\n",
    "\n",
    "total_epochs_trained = len(history[\"epoch_indices\"])\n",
    "\n",
    "val_dl = Iterable_Aggregator((datasets.source.original.val,datasets.target.original.val))\n",
    "\n",
    "confusion = ptn_confusion_by_domain_over_dataloader(model, p.device, val_dl)\n",
    "per_domain_accuracy = per_domain_accuracy_from_confusion(confusion)\n",
    "\n",
    "# Add a key to per_domain_accuracy for if it was a source domain\n",
    "for domain, accuracy in per_domain_accuracy.items():\n",
    "    per_domain_accuracy[domain] = {\n",
    "        \"accuracy\": accuracy,\n",
    "        \"source?\": domain in p.domains_source\n",
    "    }\n",
    "\n",
    "# Do an independent accuracy assesment JUST TO BE SURE!\n",
    "# _source_test_label_accuracy = independent_accuracy_assesment(model, datasets.source.processed.test, p.device)\n",
    "# _target_test_label_accuracy = independent_accuracy_assesment(model, datasets.target.processed.test, p.device)\n",
    "# _source_val_label_accuracy = independent_accuracy_assesment(model, datasets.source.processed.val, p.device)\n",
    "# _target_val_label_accuracy = independent_accuracy_assesment(model, datasets.target.processed.val, p.device)\n",
    "\n",
    "# assert(_source_test_label_accuracy == source_test_label_accuracy)\n",
    "# assert(_target_test_label_accuracy == target_test_label_accuracy)\n",
    "# assert(_source_val_label_accuracy == source_val_label_accuracy)\n",
    "# assert(_target_val_label_accuracy == target_val_label_accuracy)\n",
    "\n",
    "experiment = {\n",
    "    \"experiment_name\": p.experiment_name,\n",
    "    \"parameters\": dict(p),\n",
    "    \"results\": {\n",
    "        \"source_test_label_accuracy\": source_test_label_accuracy,\n",
    "        \"source_test_label_loss\": source_test_label_loss,\n",
    "        \"target_test_label_accuracy\": target_test_label_accuracy,\n",
    "        \"target_test_label_loss\": target_test_label_loss,\n",
    "        \"source_val_label_accuracy\": source_val_label_accuracy,\n",
    "        \"source_val_label_loss\": source_val_label_loss,\n",
    "        \"target_val_label_accuracy\": target_val_label_accuracy,\n",
    "        \"target_val_label_loss\": target_val_label_loss,\n",
    "        \"total_epochs_trained\": total_epochs_trained,\n",
    "        \"total_experiment_time_secs\": total_experiment_time_secs,\n",
    "        \"confusion\": confusion,\n",
    "        \"per_domain_accuracy\": per_domain_accuracy,\n",
    "    },\n",
    "    \"history\": history,\n",
    "    \"dataset_metrics\": get_dataset_metrics(datasets, \"ptn\"),\n",
    "}"
   ]
  },
  {
   "cell_type": "code",
   "execution_count": 16,
   "id": "54a21829",
   "metadata": {
    "execution": {
     "iopub.execute_input": "2022-03-06T17:44:22.247553Z",
     "iopub.status.busy": "2022-03-06T17:44:22.247210Z",
     "iopub.status.idle": "2022-03-06T17:44:22.432265Z",
     "shell.execute_reply": "2022-03-06T17:44:22.432678Z"
    },
    "papermill": {
     "duration": 0.215007,
     "end_time": "2022-03-06T17:44:22.432807",
     "exception": false,
     "start_time": "2022-03-06T17:44:22.217800",
     "status": "completed"
    },
    "tags": []
   },
   "outputs": [
    {
     "data": {
      "image/png": "[encoded data removed]",
      "text/plain": [
       "<Figure size 1080x504 with 1 Axes>"
      ]
     },
     "metadata": {
      "needs_background": "light"
     },
     "output_type": "display_data"
    }
   ],
   "source": [
    "ax = get_loss_curve(experiment)\n",
    "plt.show()"
   ]
  },
  {
   "cell_type": "code",
   "execution_count": 17,
   "id": "fd8a0f60",
   "metadata": {
    "execution": {
     "iopub.execute_input": "2022-03-06T17:44:22.495974Z",
     "iopub.status.busy": "2022-03-06T17:44:22.495175Z",
     "iopub.status.idle": "2022-03-06T17:44:22.671952Z",
     "shell.execute_reply": "2022-03-06T17:44:22.672364Z"
    },
    "papermill": {
     "duration": 0.207125,
     "end_time": "2022-03-06T17:44:22.672492",
     "exception": false,
     "start_time": "2022-03-06T17:44:22.465367",
     "status": "completed"
    },
    "tags": []
   },
   "outputs": [
    {
     "data": {
      "text/plain": [
       "<matplotlib.axes._subplots.AxesSubplot at 0x7f7104542910>"
      ]
     },
     "execution_count": 17,
     "metadata": {},
     "output_type": "execute_result"
    },
    {
     "data": {
      "image/png": "[encoded data removed]",
      "text/plain": [
       "<Figure size 1080x504 with 1 Axes>"
      ]
     },
     "metadata": {
      "needs_background": "light"
     },
     "output_type": "display_data"
    }
   ],
   "source": [
    "get_results_table(experiment)"
   ]
  },
  {
   "cell_type": "code",
   "execution_count": 18,
   "id": "cf8dc689",
   "metadata": {
    "execution": {
     "iopub.execute_input": "2022-03-06T17:44:22.739316Z",
     "iopub.status.busy": "2022-03-06T17:44:22.738732Z",
     "iopub.status.idle": "2022-03-06T17:44:22.911991Z",
     "shell.execute_reply": "2022-03-06T17:44:22.912403Z"
    },
    "papermill": {
     "duration": 0.205109,
     "end_time": "2022-03-06T17:44:22.912529",
     "exception": false,
     "start_time": "2022-03-06T17:44:22.707420",
     "status": "completed"
    },
    "tags": []
   },
   "outputs": [
    {
     "data": {
      "text/plain": [
       "<matplotlib.axes._subplots.AxesSubplot at 0x7f71043830a0>"
      ]
     },
     "execution_count": 18,
     "metadata": {},
     "output_type": "execute_result"
    },
    {
     "data": {
      "image/png": "[encoded data removed]",
      "text/plain": [
       "<Figure size 1080x504 with 1 Axes>"
      ]
     },
     "metadata": {
      "needs_background": "light"
     },
     "output_type": "display_data"
    }
   ],
   "source": [
    "get_domain_accuracies(experiment)"
   ]
  },
  {
   "cell_type": "code",
   "execution_count": 19,
   "id": "a74ae082",
   "metadata": {
    "execution": {
     "iopub.execute_input": "2022-03-06T17:44:22.978921Z",
     "iopub.status.busy": "2022-03-06T17:44:22.978122Z",
     "iopub.status.idle": "2022-03-06T17:44:22.993144Z",
     "shell.execute_reply": "2022-03-06T17:44:22.992655Z"
    },
    "papermill": {
     "duration": 0.047694,
     "end_time": "2022-03-06T17:44:22.993243",
     "exception": false,
     "start_time": "2022-03-06T17:44:22.945549",
     "status": "completed"
    },
    "tags": []
   },
   "outputs": [
    {
     "name": "stdout",
     "output_type": "stream",
     "text": [
      "Source Test Label Accuracy: 0.82734375 Target Test Label Accuracy: 0.6746875\n",
      "Source Val Label Accuracy: 0.8250868055555556 Target Val Label Accuracy: 0.6742708333333334\n"
     ]
    }
   ],
   "source": [
    "print(\"Source Test Label Accuracy:\", experiment[\"results\"][\"source_test_label_accuracy\"], \"Target Test Label Accuracy:\", experiment[\"results\"][\"target_test_label_accuracy\"])\n",
    "print(\"Source Val Label Accuracy:\", experiment[\"results\"][\"source_val_label_accuracy\"], \"Target Val Label Accuracy:\", experiment[\"results\"][\"target_val_label_accuracy\"])"
   ]
  },
  {
   "cell_type": "code",
   "execution_count": 20,
   "id": "dacca602",
   "metadata": {
    "execution": {
     "iopub.execute_input": "2022-03-06T17:44:23.060811Z",
     "iopub.status.busy": "2022-03-06T17:44:23.060502Z",
     "iopub.status.idle": "2022-03-06T17:44:23.075906Z",
     "shell.execute_reply": "2022-03-06T17:44:23.076284Z"
    },
    "papermill": {
     "duration": 0.047736,
     "end_time": "2022-03-06T17:44:23.076406",
     "exception": false,
     "start_time": "2022-03-06T17:44:23.028670",
     "status": "completed"
    },
    "tags": [
     "experiment_json"
    ]
   },
   "outputs": [
    {
     "data": {
      "text/plain": [
       "'{\"experiment_name\": \"tuned_1_oracle.run2_limited\", \"parameters\": {\"experiment_name\": \"tuned_1_oracle.run2_limited\", \"device\": \"cuda\", \"lr\": 0.001, \"seed\": 1337, \"dataset_seed\": 1337, \"labels_source\": [\"3123D52\", \"3123D65\", \"3123D79\", \"3123D80\", \"3123D54\", \"3123D70\", \"3123D7B\", \"3123D89\", \"3123D58\", \"3123D76\", \"3123D7D\", \"3123EFE\", \"3123D64\", \"3123D78\", \"3123D7E\", \"3124E4A\"], \"labels_target\": [\"3123D52\", \"3123D65\", \"3123D79\", \"3123D80\", \"3123D54\", \"3123D70\", \"3123D7B\", \"3123D89\", \"3123D58\", \"3123D76\", \"3123D7D\", \"3123EFE\", \"3123D64\", \"3123D78\", \"3123D7E\", \"3124E4A\"], \"x_transforms_source\": [], \"x_transforms_target\": [], \"episode_transforms_source\": [], \"episode_transforms_target\": [], \"domains_source\": [8, 32, 50], \"domains_target\": [14, 20, 26, 38, 44], \"num_examples_per_domain_per_label_source\": 2000, \"num_examples_per_domain_per_label_target\": 1000, \"n_shot\": 3, \"n_way\": 16, \"n_query\": 2, \"train_k_factor\": 3, \"val_k_factor\": 2, \"test_k_factor\": 2, \"torch_default_dtype\": \"torch.float32\", \"n_epoch\": 50, \"patience\": 3, \"criteria_for_best\": \"target_loss\", \"x_net\": [{\"class\": \"nnReshape\", \"kargs\": {\"shape\": [-1, 1, 2, 256]}}, {\"class\": \"Conv2d\", \"kargs\": {\"in_channels\": 1, \"out_channels\": 256, \"kernel_size\": [1, 7], \"bias\": false, \"padding\": [0, 3]}}, {\"class\": \"ReLU\", \"kargs\": {\"inplace\": true}}, {\"class\": \"BatchNorm2d\", \"kargs\": {\"num_features\": 256}}, {\"class\": \"Conv2d\", \"kargs\": {\"in_channels\": 256, \"out_channels\": 80, \"kernel_size\": [2, 7], \"bias\": true, \"padding\": [0, 3]}}, {\"class\": \"ReLU\", \"kargs\": {\"inplace\": true}}, {\"class\": \"BatchNorm2d\", \"kargs\": {\"num_features\": 80}}, {\"class\": \"Flatten\", \"kargs\": {}}, {\"class\": \"Linear\", \"kargs\": {\"in_features\": 20480, \"out_features\": 256}}, {\"class\": \"ReLU\", \"kargs\": {\"inplace\": true}}, {\"class\": \"BatchNorm1d\", \"kargs\": {\"num_features\": 256}}, {\"class\": \"Linear\", \"kargs\": {\"in_features\": 256, \"out_features\": 256}}], \"NUM_LOGS_PER_EPOCH\": 10, \"BEST_MODEL_PATH\": \"./best_model.pth\", \"pickle_name\": \"oracle.Run2_10kExamples_stratified_ds.2022A.pkl\"}, \"results\": {\"source_test_label_accuracy\": 0.82734375, \"source_test_label_loss\": 0.4610615372657776, \"target_test_label_accuracy\": 0.6746875, \"target_test_label_loss\": 1.1478524208068848, \"source_val_label_accuracy\": 0.8250868055555556, \"source_val_label_loss\": 0.4829133450984955, \"target_val_label_accuracy\": 0.6742708333333334, \"target_val_label_loss\": 1.067152738571167, \"total_epochs_trained\": 8, \"total_experiment_time_secs\": 551.2815344333649, \"confusion\": {\"8\": {\"15\": {\"15\": 223, \"2\": 9, \"12\": 8}, \"3\": {\"3\": 240}, \"6\": {\"14\": 45, \"6\": 174, \"8\": 19, \"4\": 1, \"1\": 1}, \"1\": {\"10\": 20, \"1\": 164, \"5\": 22, \"4\": 23, \"7\": 2, \"13\": 8, \"14\": 1}, \"8\": {\"8\": 171, \"11\": 35, \"4\": 5, \"6\": 27, \"7\": 1, \"14\": 1}, \"10\": {\"13\": 23, \"10\": 172, \"5\": 37, \"1\": 7, \"7\": 1}, \"9\": {\"9\": 240}, \"13\": {\"13\": 201, \"10\": 26, \"7\": 9, \"1\": 2, \"4\": 2}, \"12\": {\"12\": 228, \"15\": 12}, \"5\": {\"5\": 134, \"10\": 74, \"1\": 29, \"13\": 3}, \"0\": {\"0\": 238, \"12\": 2}, \"2\": {\"2\": 232, \"13\": 2, \"15\": 5, \"12\": 1}, \"11\": {\"11\": 154, \"8\": 58, \"7\": 11, \"6\": 13, \"4\": 2, \"14\": 1, \"12\": 1}, \"14\": {\"6\": 42, \"14\": 193, \"1\": 5}, \"7\": {\"7\": 187, \"4\": 45, \"11\": 2, \"8\": 2, \"13\": 2, \"1\": 2}, \"4\": {\"4\": 157, \"1\": 17, \"7\": 61, \"8\": 1, \"6\": 3, \"13\": 1}}, \"50\": {\"3\": {\"3\": 240}, \"15\": {\"15\": 205, \"9\": 9, \"5\": 2, \"12\": 8, \"6\": 10, \"4\": 6}, \"8\": {\"8\": 239, \"13\": 1}, \"4\": {\"4\": 173, \"5\": 51, \"7\": 11, \"15\": 3, \"6\": 2}, \"14\": {\"14\": 240}, \"0\": {\"2\": 29, \"0\": 194, \"10\": 17}, \"7\": {\"7\": 215, \"4\": 17, \"5\": 8}, \"6\": {\"6\": 211, \"5\": 14, \"15\": 12, \"4\": 2, \"12\": 1}, \"10\": {\"10\": 230, \"0\": 8, \"13\": 2}, \"5\": {\"5\": 158, \"4\": 50, \"6\": 17, \"7\": 15}, \"2\": {\"2\": 215, \"14\": 5, \"0\": 20}, \"12\": {\"11\": 29, \"12\": 192, \"15\": 14, \"9\": 4, \"6\": 1}, \"9\": {\"9\": 233, \"15\": 5, \"12\": 2}, \"1\": {\"1\": 235, \"11\": 4, \"13\": 1}, \"11\": {\"12\": 40, \"11\": 198, \"1\": 2}, \"13\": {\"13\": 236, \"8\": 1, \"10\": 1, \"1\": 2}}, \"32\": {\"5\": {\"5\": 197, \"15\": 25, \"7\": 4, \"2\": 9, \"14\": 5}, \"8\": {\"0\": 20, \"8\": 178, \"7\": 41, \"15\": 1}, \"11\": {\"4\": 106, \"11\": 81, \"13\": 43, \"3\": 1, \"0\": 7, \"2\": 2}, \"1\": {\"1\": 240}, \"10\": {\"10\": 240}, \"15\": {\"15\": 230, \"5\": 10}, \"3\": {\"3\": 219, \"13\": 17, \"4\": 1, \"11\": 3}, \"7\": {\"0\": 34, \"7\": 122, \"8\": 55, \"14\": 3, \"2\": 20, \"15\": 4, \"11\": 1, \"5\": 1}, \"4\": {\"4\": 187, \"0\": 7, \"11\": 41, \"13\": 3, \"3\": 2}, \"14\": {\"14\": 137, \"2\": 88, \"7\": 8, \"0\": 7}, \"9\": {\"9\": 239, \"12\": 1}, \"12\": {\"12\": 240}, \"6\": {\"6\": 240}, \"2\": {\"2\": 123, \"14\": 82, \"0\": 15, \"7\": 19, \"8\": 1}, \"0\": {\"7\": 55, \"0\": 131, \"8\": 22, \"2\": 18, \"14\": 6, \"4\": 7, \"11\": 1}, \"13\": {\"13\": 179, \"11\": 38, \"3\": 13, \"4\": 10}}, \"14\": {\"15\": {\"15\": 120}, \"3\": {\"3\": 116, \"14\": 1, \"6\": 3}, \"6\": {\"6\": 88, \"13\": 29, \"3\": 2, \"7\": 1}, \"1\": {\"1\": 120}, \"8\": {\"8\": 89, \"10\": 21, \"0\": 10}, \"10\": {\"0\": 20, \"5\": 3, \"3\": 6, \"8\": 42, \"10\": 44, \"14\": 2, \"12\": 3}, \"9\": {\"9\": 117, \"12\": 3}, \"13\": {\"13\": 80, \"6\": 40}, \"12\": {\"12\": 36, \"9\": 18, \"10\": 7, \"15\": 25, \"3\": 14, \"8\": 14, \"4\": 1, \"11\": 4, \"1\": 1}, \"5\": {\"2\": 16, \"5\": 74, \"10\": 2, \"14\": 25, \"4\": 2, \"7\": 1}, \"0\": {\"0\": 92, \"10\": 9, \"8\": 13, \"4\": 3, \"9\": 3}, \"2\": {\"2\": 35, \"3\": 5, \"5\": 23, \"14\": 31, \"7\": 23, \"4\": 3}, \"11\": {\"11\": 120}, \"14\": {\"14\": 47, \"2\": 29, \"7\": 5, \"5\": 29, \"3\": 6, \"10\": 3, \"4\": 1}, \"7\": {\"7\": 110, \"14\": 3, \"2\": 6, \"3\": 1}, \"4\": {\"4\": 113, \"0\": 6, \"5\": 1}}, \"20\": {\"3\": {\"15\": 17, \"7\": 20, \"1\": 1, \"4\": 16, \"3\": 32, \"9\": 7, \"5\": 11, \"2\": 15, \"10\": 1}, \"15\": {\"2\": 14, \"15\": 41, \"13\": 7, \"9\": 19, \"4\": 18, \"3\": 6, \"12\": 4, \"1\": 8, \"5\": 3}, \"8\": {\"8\": 46, \"11\": 34, \"14\": 37, \"0\": 3}, \"4\": {\"4\": 31, \"2\": 8, \"15\": 9, \"7\": 12, \"13\": 3, \"3\": 26, \"9\": 22, \"5\": 6, \"12\": 1, \"1\": 1, \"10\": 1}, \"14\": {\"8\": 37, \"14\": 72, \"11\": 8, \"5\": 1, \"3\": 1, \"2\": 1}, \"0\": {\"0\": 103, \"11\": 11, \"14\": 1, \"8\": 5}, \"7\": {\"7\": 66, \"10\": 6, \"3\": 13, \"4\": 15, \"6\": 6, \"5\": 6, \"9\": 5, \"13\": 1, \"2\": 2}, \"6\": {\"6\": 108, \"10\": 8, \"7\": 4}, \"10\": {\"10\": 79, \"6\": 20, \"7\": 13, \"12\": 5, \"13\": 2, \"4\": 1}, \"5\": {\"4\": 7, \"1\": 21, \"5\": 40, \"3\": 7, \"9\": 16, \"2\": 21, \"15\": 5, \"7\": 2, \"13\": 1}, \"2\": {\"3\": 13, \"15\": 18, \"5\": 24, \"2\": 23, \"4\": 13, \"9\": 19, \"1\": 7, \"7\": 2, \"8\": 1}, \"12\": {\"12\": 65, \"13\": 49, \"10\": 1, \"4\": 2, \"15\": 2, \"9\": 1}, \"9\": {\"2\": 17, \"1\": 3, \"4\": 20, \"15\": 22, \"5\": 17, \"3\": 13, \"9\": 26, \"7\": 2}, \"1\": {\"1\": 91, \"9\": 4, \"0\": 2, \"5\": 11, \"2\": 7, \"15\": 5}, \"11\": {\"11\": 60, \"8\": 40, \"0\": 7, \"14\": 13}, \"13\": {\"13\": 60, \"12\": 53, \"15\": 6, \"10\": 1}}, \"44\": {\"5\": {\"5\": 83, \"14\": 8, \"15\": 16, \"8\": 13}, \"8\": {\"8\": 81, \"5\": 21, \"0\": 17, \"15\": 1}, \"11\": {\"11\": 120}, \"1\": {\"1\": 101, \"2\": 19}, \"10\": {\"10\": 114, \"7\": 4, \"6\": 2}, \"15\": {\"15\": 89, \"5\": 22, \"14\": 1, \"8\": 5, \"0\": 3}, \"3\": {\"3\": 106, \"12\": 14}, \"7\": {\"7\": 74, \"9\": 43, \"6\": 1, \"10\": 2}, \"4\": {\"14\": 22, \"4\": 97, \"9\": 1}, \"14\": {\"14\": 96, \"4\": 18, \"5\": 6}, \"9\": {\"9\": 81, \"7\": 35, \"6\": 4}, \"12\": {\"12\": 107, \"3\": 13}, \"6\": {\"6\": 115, \"13\": 4, \"9\": 1}, \"2\": {\"2\": 99, \"1\": 21}, \"0\": {\"0\": 98, \"8\": 18, \"15\": 3, \"5\": 1}, \"13\": {\"13\": 114, \"4\": 4, \"6\": 2}}, \"38\": {\"14\": {\"2\": 41, \"14\": 58, \"13\": 2, \"7\": 10, \"4\": 3, \"8\": 2, \"12\": 3, \"5\": 1}, \"0\": {\"0\": 106, \"7\": 14}, \"13\": {\"3\": 18, \"13\": 69, \"10\": 25, \"4\": 8}, \"7\": {\"7\": 112, \"0\": 8}, \"9\": {\"9\": 112, \"5\": 8}, \"3\": {\"13\": 37, \"4\": 17, \"10\": 26, \"3\": 37, \"11\": 3}, \"11\": {\"11\": 120}, \"6\": {\"6\": 112, \"15\": 8}, \"8\": {\"8\": 103, \"7\": 3, \"12\": 6, \"5\": 5, \"2\": 1, \"9\": 1, \"14\": 1}, \"4\": {\"10\": 17, \"4\": 84, \"3\": 13, \"13\": 3, \"7\": 3}, \"5\": {\"5\": 34, \"8\": 42, \"9\": 6, \"12\": 38}, \"10\": {\"4\": 25, \"3\": 26, \"10\": 60, \"13\": 9}, \"1\": {\"15\": 21, \"1\": 99}, \"2\": {\"2\": 110, \"14\": 9, \"12\": 1}, \"15\": {\"15\": 57, \"1\": 35, \"6\": 26, \"9\": 1, \"12\": 1}, \"12\": {\"12\": 87, \"5\": 28, \"9\": 2, \"8\": 1, \"14\": 2}}, \"26\": {\"13\": {\"13\": 91, \"9\": 13, \"7\": 15, \"8\": 1}, \"2\": {\"2\": 61, \"7\": 15, \"9\": 10, \"8\": 25, \"13\": 1, \"15\": 3, \"0\": 3, \"3\": 2}, \"8\": {\"9\": 23, \"7\": 3, \"8\": 52, \"0\": 3, \"2\": 27, \"15\": 9, \"13\": 2, \"10\": 1}, \"9\": {\"9\": 61, \"2\": 9, \"8\": 39, \"13\": 8, \"7\": 3}, \"12\": {\"12\": 120}, \"4\": {\"4\": 120}, \"3\": {\"3\": 97, \"7\": 22, \"2\": 1}, \"15\": {\"15\": 71, \"0\": 28, \"2\": 9, \"8\": 8, \"9\": 1, \"10\": 3}, \"14\": {\"10\": 19, \"14\": 61, \"15\": 4, \"5\": 7, \"0\": 17, \"1\": 7, \"6\": 5}, \"10\": {\"8\": 14, \"10\": 21, \"14\": 19, \"0\": 30, \"1\": 6, \"15\": 14, \"9\": 4, \"6\": 7, \"5\": 5}, \"7\": {\"2\": 21, \"7\": 58, \"3\": 27, \"13\": 8, \"9\": 2, \"8\": 4}, \"11\": {\"11\": 120}, \"6\": {\"6\": 72, \"1\": 4, \"5\": 37, \"14\": 6, \"10\": 1}, \"1\": {\"1\": 100, \"5\": 15, \"6\": 4, \"14\": 1}, \"5\": {\"10\": 9, \"5\": 37, \"6\": 46, \"1\": 18, \"14\": 9, \"0\": 1}, \"0\": {\"10\": 23, \"0\": 52, \"14\": 14, \"15\": 26, \"2\": 1, \"9\": 1, \"5\": 1, \"8\": 1, \"7\": 1}}}, \"per_domain_accuracy\": {\"8\": {\"accuracy\": 0.809375, \"source?\": true}, \"50\": {\"accuracy\": 0.8890625, \"source?\": true}, \"32\": {\"accuracy\": 0.7768229166666667, \"source?\": true}, \"14\": {\"accuracy\": 0.7296875, \"source?\": false}, \"20\": {\"accuracy\": 0.49114583333333334, \"source?\": false}, \"44\": {\"accuracy\": 0.8203125, \"source?\": false}, \"38\": {\"accuracy\": 0.7083333333333334, \"source?\": false}, \"26\": {\"accuracy\": 0.621875, \"source?\": false}}}, \"history\": {\"epoch_indices\": [1, 2, 3, 4, 5, 6, 7, 8], \"train_label_loss\": [1.0353113545489216, 0.5551535487293251, 0.41262137299728774, 0.346874267606449, 0.3076408245330972, 0.27081847992200875, 0.24715082502779773, 0.229860460825841], \"source_val_label_loss\": [1.1347708702087402, 0.5499284863471985, 0.5302338600158691, 0.4829133450984955, 0.5026289820671082, 0.49533721804618835, 0.5210360884666443, 0.5544878840446472], \"target_val_label_loss\": [1.4067773818969727, 1.2600016593933105, 1.3020468950271606, 1.067152738571167, 1.1561915874481201, 1.204245686531067, 1.3143633604049683, 1.2317148447036743], \"source_val_acc_label\": [0.6973090277777778, 0.8057291666666667, 0.8153645833333333, 0.8250868055555556, 0.8271701388888889, 0.8285590277777778, 0.8379340277777778, 0.8252604166666667], \"target_val_acc_label\": [0.5619791666666667, 0.6502083333333334, 0.671875, 0.6742708333333334, 0.675625, 0.6736458333333334, 0.69625, 0.6866666666666666]}, \"dataset_metrics\": {\"source\": {\"train\": {\"n_unique_x\": 67200, \"n_unique_y\": 16, \"n_batch/episode\": 2520}, \"val\": {\"n_unique_x\": 14400, \"n_unique_y\": 16, \"n_batch/episode\": 360}, \"test\": {\"n_unique_x\": 14400, \"n_unique_y\": 16, \"n_batch/episode\": 360}}, \"target\": {\"train\": {\"n_unique_x\": 56000, \"n_unique_y\": 16, \"n_batch/episode\": 2100}, \"val\": {\"n_unique_x\": 12000, \"n_unique_y\": 16, \"n_batch/episode\": 300}, \"test\": {\"n_unique_x\": 12000, \"n_unique_y\": 16, \"n_batch/episode\": 300}}}}'"
      ]
     },
     "execution_count": 20,
     "metadata": {},
     "output_type": "execute_result"
    }
   ],
   "source": [
    "json.dumps(experiment)"
   ]
  }
 ],
 "metadata": {
  "celltoolbar": "Tags",
  "kernelspec": {
   "display_name": "Python 3 (ipykernel)",
   "language": "python",
   "name": "python3"
  },
  "language_info": {
   "codemirror_mode": {
    "name": "ipython",
    "version": 3
   },
   "file_extension": ".py",
   "mimetype": "text/x-python",
   "name": "python",
   "nbconvert_exporter": "python",
   "pygments_lexer": "ipython3",
   "version": "3.8.10"
  },
  "papermill": {
   "default_parameters": {},
   "duration": 588.460097,
   "end_time": "2022-03-06T17:44:23.715067",
   "environment_variables": {},
   "exception": null,
   "input_path": "/mnt/wd500GB/CSC500/csc500-main/csc500-notebooks/templates/ptn_template.ipynb",
   "output_path": "trial.ipynb",
   "parameters": {
    "parameters": {
     "BEST_MODEL_PATH": "./best_model.pth",
     "NUM_LOGS_PER_EPOCH": 10,
     "criteria_for_best": "target_loss",
     "dataset_seed": 1337,
     "device": "cuda",
     "domains_source": [
      8,
      32,
      50
     ],
     "domains_target": [
      14,
      20,
      26,
      38,
      44
     ],
     "episode_transforms_source": [],
     "episode_transforms_target": [],
     "experiment_name": "tuned_1_oracle.run2_limited",
     "labels_source": [
      "3123D52",
      "3123D65",
      "3123D79",
      "3123D80",
      "3123D54",
      "3123D70",
      "3123D7B",
      "3123D89",
      "3123D58",
      "3123D76",
      "3123D7D",
      "3123EFE",
      "3123D64",
      "3123D78",
      "3123D7E",
      "3124E4A"
     ],
     "labels_target": [
      "3123D52",
      "3123D65",
      "3123D79",
      "3123D80",
      "3123D54",
      "3123D70",
      "3123D7B",
      "3123D89",
      "3123D58",
      "3123D76",
      "3123D7D",
      "3123EFE",
      "3123D64",
      "3123D78",
      "3123D7E",
      "3124E4A"
     ],
     "lr": 0.001,
     "n_epoch": 50,
     "n_query": 2,
     "n_shot": 3,
     "n_way": 16,
     "num_examples_per_domain_per_label_source": 2000,
     "num_examples_per_domain_per_label_target": 1000,
     "patience": 3,
     "pickle_name": "oracle.Run2_10kExamples_stratified_ds.2022A.pkl",
     "seed": 1337,
     "test_k_factor": 2,
     "torch_default_dtype": "torch.float32",
     "train_k_factor": 3,
     "val_k_factor": 2,
     "x_net": [
      {
       "class": "nnReshape",
       "kargs": {
        "shape": [
         -1,
         1,
         2,
         256
        ]
       }
      },
      {
       "class": "Conv2d",
       "kargs": {
        "bias": false,
        "in_channels": 1,
        "kernel_size": [
         1,
         7
        ],
        "out_channels": 256,
        "padding": [
         0,
         3
        ]
       }
      },
      {
       "class": "ReLU",
       "kargs": {
        "inplace": true
       }
      },
      {
       "class": "BatchNorm2d",
       "kargs": {
        "num_features": 256
       }
      },
      {
       "class": "Conv2d",
       "kargs": {
        "bias": true,
        "in_channels": 256,
        "kernel_size": [
         2,
         7
        ],
        "out_channels": 80,
        "padding": [
         0,
         3
        ]
       }
      },
      {
       "class": "ReLU",
       "kargs": {
        "inplace": true
       }
      },
      {
       "class": "BatchNorm2d",
       "kargs": {
        "num_features": 80
       }
      },
      {
       "class": "Flatten",
       "kargs": {}
      },
      {
       "class": "Linear",
       "kargs": {
        "in_features": 20480,
        "out_features": 256
       }
      },
      {
       "class": "ReLU",
       "kargs": {
        "inplace": true
       }
      },
      {
       "class": "BatchNorm1d",
       "kargs": {
        "num_features": 256
       }
      },
      {
       "class": "Linear",
       "kargs": {
        "in_features": 256,
        "out_features": 256
       }
      }
     ],
     "x_transforms_source": [],
     "x_transforms_target": []
    }
   },
   "start_time": "2022-03-06T17:34:35.254970",
   "version": "2.3.4"
  }
 },
 "nbformat": 4,
 "nbformat_minor": 5
}