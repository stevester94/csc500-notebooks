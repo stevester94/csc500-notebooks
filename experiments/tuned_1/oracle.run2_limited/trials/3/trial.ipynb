{
 "cells": [
  {
   "cell_type": "markdown",
   "id": "9fea5f46",
   "metadata": {
    "papermill": {
     "duration": 0.014511,
     "end_time": "2022-03-06T17:50:51.143537",
     "exception": false,
     "start_time": "2022-03-06T17:50:51.129026",
     "status": "completed"
    },
    "tags": []
   },
   "source": [
    "# PTN Template\n",
    "This notebook serves as a template for single dataset PTN experiments  \n",
    "It can be run on its own by setting STANDALONE to True (do a find for \"STANDALONE\" to see where)  \n",
    "But it is intended to be executed as part of a *papermill.py script. See any of the   \n",
    "experimentes with a papermill script to get started with that workflow.  "
   ]
  },
  {
   "cell_type": "code",
   "execution_count": 1,
   "id": "0902182a",
   "metadata": {
    "execution": {
     "iopub.execute_input": "2022-03-06T17:50:51.176656Z",
     "iopub.status.busy": "2022-03-06T17:50:51.174346Z",
     "iopub.status.idle": "2022-03-06T17:50:51.935191Z",
     "shell.execute_reply": "2022-03-06T17:50:51.934676Z"
    },
    "papermill": {
     "duration": 0.782507,
     "end_time": "2022-03-06T17:50:51.935303",
     "exception": false,
     "start_time": "2022-03-06T17:50:51.152796",
     "status": "completed"
    },
    "tags": []
   },
   "outputs": [],
   "source": [
    "%load_ext autoreload\n",
    "%autoreload 2\n",
    "%matplotlib inline\n",
    "\n",
    "    \n",
    "import os, json, sys, time, random\n",
    "import numpy as np\n",
    "import torch\n",
    "from torch.optim import Adam\n",
    "from  easydict import EasyDict\n",
    "import matplotlib.pyplot as plt\n",
    "\n",
    "from steves_models.steves_ptn import Steves_Prototypical_Network\n",
    "\n",
    "from steves_utils.lazy_iterable_wrapper import Lazy_Iterable_Wrapper\n",
    "from steves_utils.iterable_aggregator import Iterable_Aggregator\n",
    "from steves_utils.ptn_train_eval_test_jig import  PTN_Train_Eval_Test_Jig\n",
    "from steves_utils.torch_sequential_builder import build_sequential\n",
    "from steves_utils.torch_utils import get_dataset_metrics, ptn_confusion_by_domain_over_dataloader\n",
    "from steves_utils.utils_v2 import (per_domain_accuracy_from_confusion, get_datasets_base_path)\n",
    "from steves_utils.PTN.utils import independent_accuracy_assesment\n",
    "\n",
    "from steves_utils.stratified_dataset.episodic_accessor import Episodic_Accessor_Factory\n",
    "\n",
    "from steves_utils.ptn_do_report import (\n",
    "    get_loss_curve,\n",
    "    get_results_table,\n",
    "    get_parameters_table,\n",
    "    get_domain_accuracies,\n",
    ")\n",
    "\n",
    "from steves_utils.transforms import get_chained_transform"
   ]
  },
  {
   "cell_type": "markdown",
   "id": "41c840b4",
   "metadata": {
    "papermill": {
     "duration": 0.009667,
     "end_time": "2022-03-06T17:50:51.959314",
     "exception": false,
     "start_time": "2022-03-06T17:50:51.949647",
     "status": "completed"
    },
    "tags": []
   },
   "source": [
    "# Required Parameters\n",
    "These are allowed parameters, not defaults\n",
    "Each of these values need to be present in the injected parameters (the notebook will raise an exception if they are not present)\n",
    "\n",
    "Papermill uses the cell tag \"parameters\" to inject the real parameters below this cell.\n",
    "Enable tags to see what I mean"
   ]
  },
  {
   "cell_type": "code",
   "execution_count": 2,
   "id": "fd44eb83",
   "metadata": {
    "execution": {
     "iopub.execute_input": "2022-03-06T17:50:51.981368Z",
     "iopub.status.busy": "2022-03-06T17:50:51.981113Z",
     "iopub.status.idle": "2022-03-06T17:50:51.993048Z",
     "shell.execute_reply": "2022-03-06T17:50:51.992603Z"
    },
    "papermill": {
     "duration": 0.024676,
     "end_time": "2022-03-06T17:50:51.993138",
     "exception": false,
     "start_time": "2022-03-06T17:50:51.968462",
     "status": "completed"
    },
    "tags": []
   },
   "outputs": [],
   "source": [
    "required_parameters = {\n",
    "    \"experiment_name\",\n",
    "    \"lr\",\n",
    "    \"device\",\n",
    "    \"seed\",\n",
    "    \"dataset_seed\",\n",
    "    \"labels_source\",\n",
    "    \"labels_target\",\n",
    "    \"domains_source\",\n",
    "    \"domains_target\",\n",
    "    \"num_examples_per_domain_per_label_source\",\n",
    "    \"num_examples_per_domain_per_label_target\",\n",
    "    \"n_shot\",\n",
    "    \"n_way\",\n",
    "    \"n_query\",\n",
    "    \"train_k_factor\",\n",
    "    \"val_k_factor\",\n",
    "    \"test_k_factor\",\n",
    "    \"n_epoch\",\n",
    "    \"patience\",\n",
    "    \"criteria_for_best\",\n",
    "    \"x_transforms_source\",\n",
    "    \"x_transforms_target\",\n",
    "    \"episode_transforms_source\",\n",
    "    \"episode_transforms_target\",\n",
    "    \"pickle_name\",\n",
    "    \"x_net\",\n",
    "    \"NUM_LOGS_PER_EPOCH\",\n",
    "    \"BEST_MODEL_PATH\",\n",
    "    \"torch_default_dtype\"\n",
    "}"
   ]
  },
  {
   "cell_type": "code",
   "execution_count": 3,
   "id": "fa3f0049",
   "metadata": {
    "execution": {
     "iopub.execute_input": "2022-03-06T17:50:52.025523Z",
     "iopub.status.busy": "2022-03-06T17:50:52.025245Z",
     "iopub.status.idle": "2022-03-06T17:50:52.037641Z",
     "shell.execute_reply": "2022-03-06T17:50:52.037200Z"
    },
    "papermill": {
     "duration": 0.030855,
     "end_time": "2022-03-06T17:50:52.037731",
     "exception": false,
     "start_time": "2022-03-06T17:50:52.006876",
     "status": "completed"
    },
    "tags": [
     "parameters"
    ]
   },
   "outputs": [],
   "source": [
    "\n",
    "\n",
    "standalone_parameters = {}\n",
    "standalone_parameters[\"experiment_name\"] = \"STANDALONE PTN\"\n",
    "standalone_parameters[\"lr\"] = 0.0001\n",
    "standalone_parameters[\"device\"] = \"cuda\"\n",
    "\n",
    "standalone_parameters[\"seed\"] = 1337\n",
    "standalone_parameters[\"dataset_seed\"] = 1337\n",
    "\n",
    "\n",
    "standalone_parameters[\"num_examples_per_domain_per_label_source\"]=100\n",
    "standalone_parameters[\"num_examples_per_domain_per_label_target\"]=100\n",
    "\n",
    "standalone_parameters[\"n_shot\"] = 3\n",
    "standalone_parameters[\"n_query\"]  = 2\n",
    "standalone_parameters[\"train_k_factor\"] = 1\n",
    "standalone_parameters[\"val_k_factor\"] = 2\n",
    "standalone_parameters[\"test_k_factor\"] = 2\n",
    "\n",
    "\n",
    "standalone_parameters[\"n_epoch\"] = 100\n",
    "\n",
    "standalone_parameters[\"patience\"] = 10\n",
    "standalone_parameters[\"criteria_for_best\"] = \"target_accuracy\"\n",
    "\n",
    "standalone_parameters[\"x_transforms_source\"] = [\"unit_power\"]\n",
    "standalone_parameters[\"x_transforms_target\"] = [\"unit_power\"]\n",
    "standalone_parameters[\"episode_transforms_source\"] = []\n",
    "standalone_parameters[\"episode_transforms_target\"] = []\n",
    "\n",
    "standalone_parameters[\"torch_default_dtype\"] = \"torch.float32\" \n",
    "\n",
    "\n",
    "\n",
    "standalone_parameters[\"x_net\"] =     [\n",
    "    {\"class\": \"nnReshape\", \"kargs\": {\"shape\":[-1, 1, 2, 256]}},\n",
    "    {\"class\": \"Conv2d\", \"kargs\": { \"in_channels\":1, \"out_channels\":256, \"kernel_size\":(1,7), \"bias\":False, \"padding\":(0,3), },},\n",
    "    {\"class\": \"ReLU\", \"kargs\": {\"inplace\": True}},\n",
    "    {\"class\": \"BatchNorm2d\", \"kargs\": {\"num_features\":256}},\n",
    "\n",
    "    {\"class\": \"Conv2d\", \"kargs\": { \"in_channels\":256, \"out_channels\":80, \"kernel_size\":(2,7), \"bias\":True, \"padding\":(0,3), },},\n",
    "    {\"class\": \"ReLU\", \"kargs\": {\"inplace\": True}},\n",
    "    {\"class\": \"BatchNorm2d\", \"kargs\": {\"num_features\":80}},\n",
    "    {\"class\": \"Flatten\", \"kargs\": {}},\n",
    "\n",
    "    {\"class\": \"Linear\", \"kargs\": {\"in_features\": 80*256, \"out_features\": 256}}, # 80 units per IQ pair\n",
    "    {\"class\": \"ReLU\", \"kargs\": {\"inplace\": True}},\n",
    "    {\"class\": \"BatchNorm1d\", \"kargs\": {\"num_features\":256}},\n",
    "\n",
    "    {\"class\": \"Linear\", \"kargs\": {\"in_features\": 256, \"out_features\": 256}},\n",
    "]\n",
    "\n",
    "# Parameters relevant to results\n",
    "# These parameters will basically never need to change\n",
    "standalone_parameters[\"NUM_LOGS_PER_EPOCH\"] = 10\n",
    "standalone_parameters[\"BEST_MODEL_PATH\"] = \"./best_model.pth\"\n",
    "\n",
    "# uncomment for CORES dataset\n",
    "from steves_utils.CORES.utils import (\n",
    "    ALL_NODES,\n",
    "    ALL_NODES_MINIMUM_1000_EXAMPLES,\n",
    "    ALL_DAYS\n",
    ")\n",
    "\n",
    "\n",
    "standalone_parameters[\"labels_source\"] = ALL_NODES\n",
    "standalone_parameters[\"labels_target\"] = ALL_NODES\n",
    "\n",
    "standalone_parameters[\"domains_source\"] = [1]\n",
    "standalone_parameters[\"domains_target\"] = [2,3,4,5]\n",
    "\n",
    "standalone_parameters[\"pickle_name\"] = \"cores.stratified_ds.2022A.pkl\"\n",
    "\n",
    "\n",
    "# Uncomment these for ORACLE dataset\n",
    "# from steves_utils.ORACLE.utils_v2 import (\n",
    "#     ALL_DISTANCES_FEET,\n",
    "#     ALL_RUNS,\n",
    "#     ALL_SERIAL_NUMBERS,\n",
    "# )\n",
    "# standalone_parameters[\"labels_source\"] = ALL_SERIAL_NUMBERS\n",
    "# standalone_parameters[\"labels_target\"] = ALL_SERIAL_NUMBERS\n",
    "# standalone_parameters[\"domains_source\"] = [8,20, 38,50]\n",
    "# standalone_parameters[\"domains_target\"] = [14, 26, 32, 44, 56]\n",
    "# standalone_parameters[\"pickle_name\"] = \"oracle.frame_indexed.stratified_ds.2022A.pkl\"\n",
    "# standalone_parameters[\"num_examples_per_domain_per_label_source\"]=1000\n",
    "# standalone_parameters[\"num_examples_per_domain_per_label_target\"]=1000\n",
    "\n",
    "# Uncomment these for Metahan dataset\n",
    "# standalone_parameters[\"labels_source\"] = list(range(19))\n",
    "# standalone_parameters[\"labels_target\"] = list(range(19))\n",
    "# standalone_parameters[\"domains_source\"] = [0]\n",
    "# standalone_parameters[\"domains_target\"] = [1]\n",
    "# standalone_parameters[\"pickle_name\"] = \"metehan.stratified_ds.2022A.pkl\"\n",
    "# standalone_parameters[\"n_way\"]  = len(standalone_parameters[\"labels_source\"])\n",
    "# standalone_parameters[\"num_examples_per_domain_per_label_source\"]=200\n",
    "# standalone_parameters[\"num_examples_per_domain_per_label_target\"]=100\n",
    "\n",
    "\n",
    "standalone_parameters[\"n_way\"]  = len(standalone_parameters[\"labels_source\"])"
   ]
  },
  {
   "cell_type": "code",
   "execution_count": 4,
   "id": "5beb14ca",
   "metadata": {
    "execution": {
     "iopub.execute_input": "2022-03-06T17:50:52.067457Z",
     "iopub.status.busy": "2022-03-06T17:50:52.067183Z",
     "iopub.status.idle": "2022-03-06T17:50:52.079341Z",
     "shell.execute_reply": "2022-03-06T17:50:52.078967Z"
    },
    "papermill": {
     "duration": 0.026062,
     "end_time": "2022-03-06T17:50:52.079432",
     "exception": false,
     "start_time": "2022-03-06T17:50:52.053370",
     "status": "completed"
    },
    "tags": [
     "injected-parameters"
    ]
   },
   "outputs": [],
   "source": [
    "# Parameters\n",
    "parameters = {\n",
    "    \"experiment_name\": \"tuned_1_oracle.run2_limited\",\n",
    "    \"device\": \"cuda\",\n",
    "    \"lr\": 0.001,\n",
    "    \"seed\": 1337,\n",
    "    \"dataset_seed\": 1337,\n",
    "    \"labels_source\": [\n",
    "        \"3123D52\",\n",
    "        \"3123D65\",\n",
    "        \"3123D79\",\n",
    "        \"3123D80\",\n",
    "        \"3123D54\",\n",
    "        \"3123D70\",\n",
    "        \"3123D7B\",\n",
    "        \"3123D89\",\n",
    "        \"3123D58\",\n",
    "        \"3123D76\",\n",
    "        \"3123D7D\",\n",
    "        \"3123EFE\",\n",
    "        \"3123D64\",\n",
    "        \"3123D78\",\n",
    "        \"3123D7E\",\n",
    "        \"3124E4A\",\n",
    "    ],\n",
    "    \"labels_target\": [\n",
    "        \"3123D52\",\n",
    "        \"3123D65\",\n",
    "        \"3123D79\",\n",
    "        \"3123D80\",\n",
    "        \"3123D54\",\n",
    "        \"3123D70\",\n",
    "        \"3123D7B\",\n",
    "        \"3123D89\",\n",
    "        \"3123D58\",\n",
    "        \"3123D76\",\n",
    "        \"3123D7D\",\n",
    "        \"3123EFE\",\n",
    "        \"3123D64\",\n",
    "        \"3123D78\",\n",
    "        \"3123D7E\",\n",
    "        \"3124E4A\",\n",
    "    ],\n",
    "    \"x_transforms_source\": [\"unit_power\"],\n",
    "    \"x_transforms_target\": [\"unit_power\"],\n",
    "    \"episode_transforms_source\": [],\n",
    "    \"episode_transforms_target\": [],\n",
    "    \"domains_source\": [8, 32, 50],\n",
    "    \"domains_target\": [14, 20, 26, 38, 44],\n",
    "    \"num_examples_per_domain_per_label_source\": 2000,\n",
    "    \"num_examples_per_domain_per_label_target\": 1000,\n",
    "    \"n_shot\": 3,\n",
    "    \"n_way\": 16,\n",
    "    \"n_query\": 2,\n",
    "    \"train_k_factor\": 3,\n",
    "    \"val_k_factor\": 2,\n",
    "    \"test_k_factor\": 2,\n",
    "    \"torch_default_dtype\": \"torch.float32\",\n",
    "    \"n_epoch\": 50,\n",
    "    \"patience\": 3,\n",
    "    \"criteria_for_best\": \"target_loss\",\n",
    "    \"x_net\": [\n",
    "        {\"class\": \"nnReshape\", \"kargs\": {\"shape\": [-1, 1, 2, 256]}},\n",
    "        {\n",
    "            \"class\": \"Conv2d\",\n",
    "            \"kargs\": {\n",
    "                \"in_channels\": 1,\n",
    "                \"out_channels\": 256,\n",
    "                \"kernel_size\": [1, 7],\n",
    "                \"bias\": False,\n",
    "                \"padding\": [0, 3],\n",
    "            },\n",
    "        },\n",
    "        {\"class\": \"ReLU\", \"kargs\": {\"inplace\": True}},\n",
    "        {\"class\": \"BatchNorm2d\", \"kargs\": {\"num_features\": 256}},\n",
    "        {\n",
    "            \"class\": \"Conv2d\",\n",
    "            \"kargs\": {\n",
    "                \"in_channels\": 256,\n",
    "                \"out_channels\": 80,\n",
    "                \"kernel_size\": [2, 7],\n",
    "                \"bias\": True,\n",
    "                \"padding\": [0, 3],\n",
    "            },\n",
    "        },\n",
    "        {\"class\": \"ReLU\", \"kargs\": {\"inplace\": True}},\n",
    "        {\"class\": \"BatchNorm2d\", \"kargs\": {\"num_features\": 80}},\n",
    "        {\"class\": \"Flatten\", \"kargs\": {}},\n",
    "        {\"class\": \"Linear\", \"kargs\": {\"in_features\": 20480, \"out_features\": 256}},\n",
    "        {\"class\": \"ReLU\", \"kargs\": {\"inplace\": True}},\n",
    "        {\"class\": \"BatchNorm1d\", \"kargs\": {\"num_features\": 256}},\n",
    "        {\"class\": \"Linear\", \"kargs\": {\"in_features\": 256, \"out_features\": 256}},\n",
    "    ],\n",
    "    \"NUM_LOGS_PER_EPOCH\": 10,\n",
    "    \"BEST_MODEL_PATH\": \"./best_model.pth\",\n",
    "    \"pickle_name\": \"oracle.Run2_10kExamples_stratified_ds.2022A.pkl\",\n",
    "}\n"
   ]
  },
  {
   "cell_type": "code",
   "execution_count": 5,
   "id": "8fa1cc33",
   "metadata": {
    "execution": {
     "iopub.execute_input": "2022-03-06T17:50:52.106264Z",
     "iopub.status.busy": "2022-03-06T17:50:52.106012Z",
     "iopub.status.idle": "2022-03-06T17:50:52.114557Z",
     "shell.execute_reply": "2022-03-06T17:50:52.114860Z"
    },
    "papermill": {
     "duration": 0.020724,
     "end_time": "2022-03-06T17:50:52.114941",
     "exception": false,
     "start_time": "2022-03-06T17:50:52.094217",
     "status": "completed"
    },
    "tags": []
   },
   "outputs": [],
   "source": [
    "# Set this to True if you want to run this template directly\n",
    "STANDALONE = False\n",
    "if STANDALONE:\n",
    "    print(\"parameters not injected, running with standalone_parameters\")\n",
    "    parameters = standalone_parameters\n",
    "\n",
    "if not 'parameters' in locals() and not 'parameters' in globals():\n",
    "    raise Exception(\"Parameter injection failed\")\n",
    "\n",
    "#Use an easy dict for all the parameters\n",
    "p = EasyDict(parameters)\n",
    "\n",
    "supplied_keys = set(p.keys())\n",
    "\n",
    "if  supplied_keys != required_parameters:\n",
    "    print(\"Parameters are incorrect\")\n",
    "    if len(supplied_keys - required_parameters)>0: print(\"Shouldn't have:\", str(supplied_keys - required_parameters))\n",
    "    if len(required_parameters - supplied_keys)>0: print(\"Need to have:\", str(required_parameters - supplied_keys))\n",
    "    raise RuntimeError(\"Parameters are incorrect\")\n",
    "\n"
   ]
  },
  {
   "cell_type": "code",
   "execution_count": 6,
   "id": "3a028d58",
   "metadata": {
    "execution": {
     "iopub.execute_input": "2022-03-06T17:50:52.138650Z",
     "iopub.status.busy": "2022-03-06T17:50:52.138405Z",
     "iopub.status.idle": "2022-03-06T17:50:52.146906Z",
     "shell.execute_reply": "2022-03-06T17:50:52.146594Z"
    },
    "papermill": {
     "duration": 0.020004,
     "end_time": "2022-03-06T17:50:52.146978",
     "exception": false,
     "start_time": "2022-03-06T17:50:52.126974",
     "status": "completed"
    },
    "tags": []
   },
   "outputs": [],
   "source": [
    "###################################\n",
    "# Set the RNGs and make it all deterministic\n",
    "###################################\n",
    "np.random.seed(p.seed)\n",
    "random.seed(p.seed)\n",
    "torch.manual_seed(p.seed)\n",
    "\n",
    "torch.use_deterministic_algorithms(True) "
   ]
  },
  {
   "cell_type": "code",
   "execution_count": 7,
   "id": "b691acf6",
   "metadata": {
    "execution": {
     "iopub.execute_input": "2022-03-06T17:50:52.170888Z",
     "iopub.status.busy": "2022-03-06T17:50:52.170639Z",
     "iopub.status.idle": "2022-03-06T17:50:52.182547Z",
     "shell.execute_reply": "2022-03-06T17:50:52.182854Z"
    },
    "papermill": {
     "duration": 0.023852,
     "end_time": "2022-03-06T17:50:52.182935",
     "exception": false,
     "start_time": "2022-03-06T17:50:52.159083",
     "status": "completed"
    },
    "tags": []
   },
   "outputs": [],
   "source": [
    "###########################################\n",
    "# The stratified datasets honor this\n",
    "###########################################\n",
    "torch.set_default_dtype(eval(p.torch_default_dtype))"
   ]
  },
  {
   "cell_type": "code",
   "execution_count": 8,
   "id": "b5fba671",
   "metadata": {
    "execution": {
     "iopub.execute_input": "2022-03-06T17:50:52.208614Z",
     "iopub.status.busy": "2022-03-06T17:50:52.208368Z",
     "iopub.status.idle": "2022-03-06T17:50:52.242530Z",
     "shell.execute_reply": "2022-03-06T17:50:52.242089Z"
    },
    "papermill": {
     "duration": 0.046223,
     "end_time": "2022-03-06T17:50:52.242618",
     "exception": false,
     "start_time": "2022-03-06T17:50:52.196395",
     "status": "completed"
    },
    "tags": []
   },
   "outputs": [],
   "source": [
    "###################################\n",
    "# Build the network(s)\n",
    "# Note: It's critical to do this AFTER setting the RNG\n",
    "# (This is due to the randomized initial weights)\n",
    "###################################\n",
    "x_net = build_sequential(p.x_net)"
   ]
  },
  {
   "cell_type": "code",
   "execution_count": 9,
   "id": "5d7e61cc",
   "metadata": {
    "execution": {
     "iopub.execute_input": "2022-03-06T17:50:52.269589Z",
     "iopub.status.busy": "2022-03-06T17:50:52.269346Z",
     "iopub.status.idle": "2022-03-06T17:50:52.282367Z",
     "shell.execute_reply": "2022-03-06T17:50:52.282656Z"
    },
    "papermill": {
     "duration": 0.02498,
     "end_time": "2022-03-06T17:50:52.282754",
     "exception": false,
     "start_time": "2022-03-06T17:50:52.257774",
     "status": "completed"
    },
    "tags": []
   },
   "outputs": [],
   "source": [
    "start_time_secs = time.time()"
   ]
  },
  {
   "cell_type": "code",
   "execution_count": 10,
   "id": "fd5442bc",
   "metadata": {
    "execution": {
     "iopub.execute_input": "2022-03-06T17:50:52.315096Z",
     "iopub.status.busy": "2022-03-06T17:50:52.314792Z",
     "iopub.status.idle": "2022-03-06T17:51:05.771782Z",
     "shell.execute_reply": "2022-03-06T17:51:05.771338Z"
    },
    "papermill": {
     "duration": 13.473815,
     "end_time": "2022-03-06T17:51:05.771887",
     "exception": false,
     "start_time": "2022-03-06T17:50:52.298072",
     "status": "completed"
    },
    "tags": []
   },
   "outputs": [],
   "source": [
    "###################################\n",
    "# Build the dataset\n",
    "###################################\n",
    "\n",
    "if p.x_transforms_source == []: x_transform_source = None\n",
    "else: x_transform_source = get_chained_transform(p.x_transforms_source) \n",
    "\n",
    "if p.x_transforms_target == []: x_transform_target = None\n",
    "else: x_transform_target = get_chained_transform(p.x_transforms_target)\n",
    "\n",
    "if p.episode_transforms_source == []: episode_transform_source = None\n",
    "else: raise Exception(\"episode_transform_source not implemented\")\n",
    "\n",
    "if p.episode_transforms_target == []: episode_transform_target = None\n",
    "else: raise Exception(\"episode_transform_target not implemented\")\n",
    "\n",
    "\n",
    "eaf_source = Episodic_Accessor_Factory(\n",
    "    labels=p.labels_source,\n",
    "    domains=p.domains_source,\n",
    "    num_examples_per_domain_per_label=p.num_examples_per_domain_per_label_source,\n",
    "    iterator_seed=p.seed,\n",
    "    dataset_seed=p.dataset_seed,\n",
    "    n_shot=p.n_shot,\n",
    "    n_way=p.n_way,\n",
    "    n_query=p.n_query,\n",
    "    train_val_test_k_factors=(p.train_k_factor,p.val_k_factor,p.test_k_factor),\n",
    "    pickle_path=os.path.join(get_datasets_base_path(), p.pickle_name),\n",
    "    x_transform_func=x_transform_source,\n",
    "    example_transform_func=episode_transform_source,\n",
    "    \n",
    ")\n",
    "train_original_source, val_original_source, test_original_source = eaf_source.get_train(), eaf_source.get_val(), eaf_source.get_test()\n",
    "\n",
    "\n",
    "eaf_target = Episodic_Accessor_Factory(\n",
    "    labels=p.labels_target,\n",
    "    domains=p.domains_target,\n",
    "    num_examples_per_domain_per_label=p.num_examples_per_domain_per_label_target,\n",
    "    iterator_seed=p.seed,\n",
    "    dataset_seed=p.dataset_seed,\n",
    "    n_shot=p.n_shot,\n",
    "    n_way=p.n_way,\n",
    "    n_query=p.n_query,\n",
    "    train_val_test_k_factors=(p.train_k_factor,p.val_k_factor,p.test_k_factor),\n",
    "    pickle_path=os.path.join(get_datasets_base_path(), p.pickle_name),\n",
    "    x_transform_func=x_transform_target,\n",
    "    example_transform_func=episode_transform_target,\n",
    ")\n",
    "train_original_target, val_original_target, test_original_target = eaf_target.get_train(), eaf_target.get_val(), eaf_target.get_test()\n",
    "\n",
    "\n",
    "transform_lambda = lambda ex: ex[1] # Original is (<domain>, <episode>) so we strip down to episode only\n",
    "\n",
    "train_processed_source = Lazy_Iterable_Wrapper(train_original_source, transform_lambda)\n",
    "val_processed_source   = Lazy_Iterable_Wrapper(val_original_source, transform_lambda)\n",
    "test_processed_source  = Lazy_Iterable_Wrapper(test_original_source, transform_lambda)\n",
    "\n",
    "train_processed_target = Lazy_Iterable_Wrapper(train_original_target, transform_lambda)\n",
    "val_processed_target   = Lazy_Iterable_Wrapper(val_original_target, transform_lambda)\n",
    "test_processed_target  = Lazy_Iterable_Wrapper(test_original_target, transform_lambda)\n",
    "\n",
    "datasets = EasyDict({\n",
    "    \"source\": {\n",
    "        \"original\": {\"train\":train_original_source, \"val\":val_original_source, \"test\":test_original_source},\n",
    "        \"processed\": {\"train\":train_processed_source, \"val\":val_processed_source, \"test\":test_processed_source}\n",
    "    },\n",
    "    \"target\": {\n",
    "        \"original\": {\"train\":train_original_target, \"val\":val_original_target, \"test\":test_original_target},\n",
    "        \"processed\": {\"train\":train_processed_target, \"val\":val_processed_target, \"test\":test_processed_target}\n",
    "    },\n",
    "})"
   ]
  },
  {
   "cell_type": "code",
   "execution_count": 11,
   "id": "296189d9",
   "metadata": {
    "execution": {
     "iopub.execute_input": "2022-03-06T17:51:05.805472Z",
     "iopub.status.busy": "2022-03-06T17:51:05.802621Z",
     "iopub.status.idle": "2022-03-06T17:51:07.396103Z",
     "shell.execute_reply": "2022-03-06T17:51:07.396477Z"
    },
    "papermill": {
     "duration": 1.609481,
     "end_time": "2022-03-06T17:51:07.396582",
     "exception": false,
     "start_time": "2022-03-06T17:51:05.787101",
     "status": "completed"
    },
    "tags": []
   },
   "outputs": [
    {
     "name": "stdout",
     "output_type": "stream",
     "text": [
      "Visually inspect these to see if they line up with expected values given the transforms\n",
      "x_transforms_source ['unit_power']\n",
      "x_transforms_target ['unit_power']\n",
      "Average magnitude, source: 0.89581305\n",
      "Average power, source: 1.0\n"
     ]
    },
    {
     "name": "stdout",
     "output_type": "stream",
     "text": [
      "Average magnitude, target: 0.8818705\n",
      "Average power, target: 1.0\n"
     ]
    }
   ],
   "source": [
    "# Some quick unit tests on the data\n",
    "from steves_utils.transforms import get_average_power, get_average_magnitude\n",
    "\n",
    "q_x, q_y, s_x, s_y, truth = next(iter(train_processed_source))\n",
    "\n",
    "assert q_x.dtype == eval(p.torch_default_dtype)\n",
    "assert s_x.dtype == eval(p.torch_default_dtype)\n",
    "\n",
    "print(\"Visually inspect these to see if they line up with expected values given the transforms\")\n",
    "print('x_transforms_source', p.x_transforms_source)\n",
    "print('x_transforms_target', p.x_transforms_target)\n",
    "print(\"Average magnitude, source:\", get_average_magnitude(q_x[0].numpy()))\n",
    "print(\"Average power, source:\", get_average_power(q_x[0].numpy()))\n",
    "\n",
    "q_x, q_y, s_x, s_y, truth = next(iter(train_processed_target))\n",
    "print(\"Average magnitude, target:\", get_average_magnitude(q_x[0].numpy()))\n",
    "print(\"Average power, target:\", get_average_power(q_x[0].numpy()))\n"
   ]
  },
  {
   "cell_type": "code",
   "execution_count": 12,
   "id": "bbdacba1",
   "metadata": {
    "execution": {
     "iopub.execute_input": "2022-03-06T17:51:07.422650Z",
     "iopub.status.busy": "2022-03-06T17:51:07.422389Z",
     "iopub.status.idle": "2022-03-06T17:51:07.481071Z",
     "shell.execute_reply": "2022-03-06T17:51:07.481473Z"
    },
    "papermill": {
     "duration": 0.072071,
     "end_time": "2022-03-06T17:51:07.481590",
     "exception": false,
     "start_time": "2022-03-06T17:51:07.409519",
     "status": "completed"
    },
    "tags": []
   },
   "outputs": [
    {
     "name": "stdout",
     "output_type": "stream",
     "text": [
      "(2, 256)\n"
     ]
    }
   ],
   "source": [
    "###################################\n",
    "# Build the model\n",
    "###################################\n",
    "model = Steves_Prototypical_Network(x_net, device=p.device, x_shape=(2,256))\n",
    "optimizer = Adam(params=model.parameters(), lr=p.lr)"
   ]
  },
  {
   "cell_type": "code",
   "execution_count": 13,
   "id": "22b39ac5",
   "metadata": {
    "execution": {
     "iopub.execute_input": "2022-03-06T17:51:07.509148Z",
     "iopub.status.busy": "2022-03-06T17:51:07.508899Z",
     "iopub.status.idle": "2022-03-06T17:59:04.060587Z",
     "shell.execute_reply": "2022-03-06T17:59:04.060347Z"
    },
    "papermill": {
     "duration": 476.565607,
     "end_time": "2022-03-06T17:59:04.060648",
     "exception": false,
     "start_time": "2022-03-06T17:51:07.495041",
     "status": "completed"
    },
    "tags": []
   },
   "outputs": [
    {
     "name": "stdout",
     "output_type": "stream",
     "text": [
      "epoch: 1, [batch: 1 / 2520], examples_per_second: 130.1105, train_label_loss: 2.7842, \n"
     ]
    },
    {
     "name": "stdout",
     "output_type": "stream",
     "text": [
      "epoch: 1, [batch: 252 / 2520], examples_per_second: 3206.8480, train_label_loss: 2.6122, \n"
     ]
    },
    {
     "name": "stdout",
     "output_type": "stream",
     "text": [
      "epoch: 1, [batch: 504 / 2520], examples_per_second: 3228.6871, train_label_loss: 2.1736, \n"
     ]
    },
    {
     "name": "stdout",
     "output_type": "stream",
     "text": [
      "epoch: 1, [batch: 756 / 2520], examples_per_second: 3268.7482, train_label_loss: 1.4212, \n"
     ]
    },
    {
     "name": "stdout",
     "output_type": "stream",
     "text": [
      "epoch: 1, [batch: 1008 / 2520], examples_per_second: 3200.2568, train_label_loss: 1.4431, \n"
     ]
    },
    {
     "name": "stdout",
     "output_type": "stream",
     "text": [
      "epoch: 1, [batch: 1260 / 2520], examples_per_second: 3235.0057, train_label_loss: 1.5474, \n"
     ]
    },
    {
     "name": "stdout",
     "output_type": "stream",
     "text": [
      "epoch: 1, [batch: 1512 / 2520], examples_per_second: 3234.6616, train_label_loss: 1.3473, \n"
     ]
    },
    {
     "name": "stdout",
     "output_type": "stream",
     "text": [
      "epoch: 1, [batch: 1764 / 2520], examples_per_second: 3216.1085, train_label_loss: 1.0899, \n"
     ]
    },
    {
     "name": "stdout",
     "output_type": "stream",
     "text": [
      "epoch: 1, [batch: 2016 / 2520], examples_per_second: 3230.9259, train_label_loss: 0.9133, \n"
     ]
    },
    {
     "name": "stdout",
     "output_type": "stream",
     "text": [
      "epoch: 1, [batch: 2268 / 2520], examples_per_second: 3219.8086, train_label_loss: 1.1443, \n"
     ]
    },
    {
     "name": "stdout",
     "output_type": "stream",
     "text": [
      "=============================================================\n",
      "epoch: 1, source_val_acc_label: 0.4842, target_val_acc_label: 0.3796, source_val_label_loss: 1.3919, target_val_label_loss: 1.8363, \n",
      "=============================================================\n"
     ]
    },
    {
     "name": "stdout",
     "output_type": "stream",
     "text": [
      "New best\n"
     ]
    },
    {
     "name": "stdout",
     "output_type": "stream",
     "text": [
      "epoch: 2, [batch: 1 / 2520], examples_per_second: 13.1642, train_label_loss: 1.0208, \n"
     ]
    },
    {
     "name": "stdout",
     "output_type": "stream",
     "text": [
      "epoch: 2, [batch: 252 / 2520], examples_per_second: 3235.0917, train_label_loss: 1.1094, \n"
     ]
    },
    {
     "name": "stdout",
     "output_type": "stream",
     "text": [
      "epoch: 2, [batch: 504 / 2520], examples_per_second: 3251.8711, train_label_loss: 1.2510, \n"
     ]
    },
    {
     "name": "stdout",
     "output_type": "stream",
     "text": [
      "epoch: 2, [batch: 756 / 2520], examples_per_second: 3262.7133, train_label_loss: 1.0887, \n"
     ]
    },
    {
     "name": "stdout",
     "output_type": "stream",
     "text": [
      "epoch: 2, [batch: 1008 / 2520], examples_per_second: 3234.8233, train_label_loss: 1.2952, \n"
     ]
    },
    {
     "name": "stdout",
     "output_type": "stream",
     "text": [
      "epoch: 2, [batch: 1260 / 2520], examples_per_second: 3250.5409, train_label_loss: 1.4171, \n"
     ]
    },
    {
     "name": "stdout",
     "output_type": "stream",
     "text": [
      "epoch: 2, [batch: 1512 / 2520], examples_per_second: 3263.4056, train_label_loss: 0.9254, \n"
     ]
    },
    {
     "name": "stdout",
     "output_type": "stream",
     "text": [
      "epoch: 2, [batch: 1764 / 2520], examples_per_second: 3226.2534, train_label_loss: 1.4443, \n"
     ]
    },
    {
     "name": "stdout",
     "output_type": "stream",
     "text": [
      "epoch: 2, [batch: 2016 / 2520], examples_per_second: 3255.0195, train_label_loss: 1.3792, \n"
     ]
    },
    {
     "name": "stdout",
     "output_type": "stream",
     "text": [
      "epoch: 2, [batch: 2268 / 2520], examples_per_second: 3246.1678, train_label_loss: 0.9174, \n"
     ]
    },
    {
     "name": "stdout",
     "output_type": "stream",
     "text": [
      "=============================================================\n",
      "epoch: 2, source_val_acc_label: 0.5686, target_val_acc_label: 0.4682, source_val_label_loss: 1.0993, target_val_label_loss: 1.4659, \n",
      "=============================================================\n"
     ]
    },
    {
     "name": "stdout",
     "output_type": "stream",
     "text": [
      "New best\n"
     ]
    },
    {
     "name": "stdout",
     "output_type": "stream",
     "text": [
      "epoch: 3, [batch: 1 / 2520], examples_per_second: 13.1852, train_label_loss: 1.0614, \n"
     ]
    },
    {
     "name": "stdout",
     "output_type": "stream",
     "text": [
      "epoch: 3, [batch: 252 / 2520], examples_per_second: 3233.4614, train_label_loss: 0.7577, \n"
     ]
    },
    {
     "name": "stdout",
     "output_type": "stream",
     "text": [
      "epoch: 3, [batch: 504 / 2520], examples_per_second: 3248.5386, train_label_loss: 0.8513, \n"
     ]
    },
    {
     "name": "stdout",
     "output_type": "stream",
     "text": [
      "epoch: 3, [batch: 756 / 2520], examples_per_second: 3283.5510, train_label_loss: 1.2037, \n"
     ]
    },
    {
     "name": "stdout",
     "output_type": "stream",
     "text": [
      "epoch: 3, [batch: 1008 / 2520], examples_per_second: 3238.0551, train_label_loss: 0.8765, \n"
     ]
    },
    {
     "name": "stdout",
     "output_type": "stream",
     "text": [
      "epoch: 3, [batch: 1260 / 2520], examples_per_second: 3252.5970, train_label_loss: 1.1866, \n"
     ]
    },
    {
     "name": "stdout",
     "output_type": "stream",
     "text": [
      "epoch: 3, [batch: 1512 / 2520], examples_per_second: 3243.2688, train_label_loss: 0.4985, \n"
     ]
    },
    {
     "name": "stdout",
     "output_type": "stream",
     "text": [
      "epoch: 3, [batch: 1764 / 2520], examples_per_second: 3256.1005, train_label_loss: 0.6851, \n"
     ]
    },
    {
     "name": "stdout",
     "output_type": "stream",
     "text": [
      "epoch: 3, [batch: 2016 / 2520], examples_per_second: 3247.0501, train_label_loss: 0.9221, \n"
     ]
    },
    {
     "name": "stdout",
     "output_type": "stream",
     "text": [
      "epoch: 3, [batch: 2268 / 2520], examples_per_second: 3256.3419, train_label_loss: 0.5423, \n"
     ]
    },
    {
     "name": "stdout",
     "output_type": "stream",
     "text": [
      "=============================================================\n",
      "epoch: 3, source_val_acc_label: 0.5967, target_val_acc_label: 0.4838, source_val_label_loss: 1.0451, target_val_label_loss: 1.4087, \n",
      "=============================================================\n"
     ]
    },
    {
     "name": "stdout",
     "output_type": "stream",
     "text": [
      "New best\n"
     ]
    },
    {
     "name": "stdout",
     "output_type": "stream",
     "text": [
      "epoch: 4, [batch: 1 / 2520], examples_per_second: 13.1701, train_label_loss: 0.5436, \n"
     ]
    },
    {
     "name": "stdout",
     "output_type": "stream",
     "text": [
      "epoch: 4, [batch: 252 / 2520], examples_per_second: 3224.1047, train_label_loss: 0.9041, \n"
     ]
    },
    {
     "name": "stdout",
     "output_type": "stream",
     "text": [
      "epoch: 4, [batch: 504 / 2520], examples_per_second: 3245.2248, train_label_loss: 1.0404, \n"
     ]
    },
    {
     "name": "stdout",
     "output_type": "stream",
     "text": [
      "epoch: 4, [batch: 756 / 2520], examples_per_second: 3255.2257, train_label_loss: 0.7184, \n"
     ]
    },
    {
     "name": "stdout",
     "output_type": "stream",
     "text": [
      "epoch: 4, [batch: 1008 / 2520], examples_per_second: 3237.2812, train_label_loss: 0.5276, \n"
     ]
    },
    {
     "name": "stdout",
     "output_type": "stream",
     "text": [
      "epoch: 4, [batch: 1260 / 2520], examples_per_second: 3248.5288, train_label_loss: 1.2376, \n"
     ]
    },
    {
     "name": "stdout",
     "output_type": "stream",
     "text": [
      "epoch: 4, [batch: 1512 / 2520], examples_per_second: 3237.0676, train_label_loss: 1.1485, \n"
     ]
    },
    {
     "name": "stdout",
     "output_type": "stream",
     "text": [
      "epoch: 4, [batch: 1764 / 2520], examples_per_second: 3236.9850, train_label_loss: 0.5649, \n"
     ]
    },
    {
     "name": "stdout",
     "output_type": "stream",
     "text": [
      "epoch: 4, [batch: 2016 / 2520], examples_per_second: 3244.4115, train_label_loss: 0.4855, \n"
     ]
    },
    {
     "name": "stdout",
     "output_type": "stream",
     "text": [
      "epoch: 4, [batch: 2268 / 2520], examples_per_second: 3248.0331, train_label_loss: 1.0927, \n"
     ]
    },
    {
     "name": "stdout",
     "output_type": "stream",
     "text": [
      "=============================================================\n",
      "epoch: 4, source_val_acc_label: 0.6173, target_val_acc_label: 0.5073, source_val_label_loss: 1.0905, target_val_label_loss: 1.5171, \n",
      "=============================================================\n"
     ]
    },
    {
     "name": "stdout",
     "output_type": "stream",
     "text": [
      "epoch: 5, [batch: 1 / 2520], examples_per_second: 13.2615, train_label_loss: 0.5215, \n"
     ]
    },
    {
     "name": "stdout",
     "output_type": "stream",
     "text": [
      "epoch: 5, [batch: 252 / 2520], examples_per_second: 3199.7121, train_label_loss: 0.5898, \n"
     ]
    },
    {
     "name": "stdout",
     "output_type": "stream",
     "text": [
      "epoch: 5, [batch: 504 / 2520], examples_per_second: 3238.6578, train_label_loss: 0.5976, \n"
     ]
    },
    {
     "name": "stdout",
     "output_type": "stream",
     "text": [
      "epoch: 5, [batch: 756 / 2520], examples_per_second: 3211.2730, train_label_loss: 0.8473, \n"
     ]
    },
    {
     "name": "stdout",
     "output_type": "stream",
     "text": [
      "epoch: 5, [batch: 1008 / 2520], examples_per_second: 3242.1341, train_label_loss: 0.4095, \n"
     ]
    },
    {
     "name": "stdout",
     "output_type": "stream",
     "text": [
      "epoch: 5, [batch: 1260 / 2520], examples_per_second: 3240.4057, train_label_loss: 0.6436, \n"
     ]
    },
    {
     "name": "stdout",
     "output_type": "stream",
     "text": [
      "epoch: 5, [batch: 1512 / 2520], examples_per_second: 3262.7479, train_label_loss: 0.7173, \n"
     ]
    },
    {
     "name": "stdout",
     "output_type": "stream",
     "text": [
      "epoch: 5, [batch: 1764 / 2520], examples_per_second: 3245.5054, train_label_loss: 0.5538, \n"
     ]
    },
    {
     "name": "stdout",
     "output_type": "stream",
     "text": [
      "epoch: 5, [batch: 2016 / 2520], examples_per_second: 3259.5742, train_label_loss: 0.2943, \n"
     ]
    },
    {
     "name": "stdout",
     "output_type": "stream",
     "text": [
      "epoch: 5, [batch: 2268 / 2520], examples_per_second: 3256.6012, train_label_loss: 0.4275, \n"
     ]
    },
    {
     "name": "stdout",
     "output_type": "stream",
     "text": [
      "=============================================================\n",
      "epoch: 5, source_val_acc_label: 0.6244, target_val_acc_label: 0.5235, source_val_label_loss: 1.0832, target_val_label_loss: 1.5360, \n",
      "=============================================================\n"
     ]
    },
    {
     "name": "stdout",
     "output_type": "stream",
     "text": [
      "epoch: 6, [batch: 1 / 2520], examples_per_second: 13.2549, train_label_loss: 0.5570, \n"
     ]
    },
    {
     "name": "stdout",
     "output_type": "stream",
     "text": [
      "epoch: 6, [batch: 252 / 2520], examples_per_second: 3217.8489, train_label_loss: 0.6451, \n"
     ]
    },
    {
     "name": "stdout",
     "output_type": "stream",
     "text": [
      "epoch: 6, [batch: 504 / 2520], examples_per_second: 3207.6236, train_label_loss: 0.3147, \n"
     ]
    },
    {
     "name": "stdout",
     "output_type": "stream",
     "text": [
      "epoch: 6, [batch: 756 / 2520], examples_per_second: 3220.8894, train_label_loss: 1.0676, \n"
     ]
    },
    {
     "name": "stdout",
     "output_type": "stream",
     "text": [
      "epoch: 6, [batch: 1008 / 2520], examples_per_second: 3218.6627, train_label_loss: 0.5878, \n"
     ]
    },
    {
     "name": "stdout",
     "output_type": "stream",
     "text": [
      "epoch: 6, [batch: 1260 / 2520], examples_per_second: 3246.3239, train_label_loss: 0.6960, \n"
     ]
    },
    {
     "name": "stdout",
     "output_type": "stream",
     "text": [
      "epoch: 6, [batch: 1512 / 2520], examples_per_second: 3212.2354, train_label_loss: 0.4204, \n"
     ]
    },
    {
     "name": "stdout",
     "output_type": "stream",
     "text": [
      "epoch: 6, [batch: 1764 / 2520], examples_per_second: 3242.6549, train_label_loss: 0.4433, \n"
     ]
    },
    {
     "name": "stdout",
     "output_type": "stream",
     "text": [
      "epoch: 6, [batch: 2016 / 2520], examples_per_second: 3251.2616, train_label_loss: 0.8086, \n"
     ]
    },
    {
     "name": "stdout",
     "output_type": "stream",
     "text": [
      "epoch: 6, [batch: 2268 / 2520], examples_per_second: 3256.2008, train_label_loss: 0.5800, \n"
     ]
    },
    {
     "name": "stdout",
     "output_type": "stream",
     "text": [
      "=============================================================\n",
      "epoch: 6, source_val_acc_label: 0.6241, target_val_acc_label: 0.5186, source_val_label_loss: 1.2181, target_val_label_loss: 1.7342, \n",
      "=============================================================\n"
     ]
    },
    {
     "name": "stdout",
     "output_type": "stream",
     "text": [
      "epoch: 7, [batch: 1 / 2520], examples_per_second: 13.2955, train_label_loss: 0.5378, \n"
     ]
    },
    {
     "name": "stdout",
     "output_type": "stream",
     "text": [
      "epoch: 7, [batch: 252 / 2520], examples_per_second: 3228.8343, train_label_loss: 0.3461, \n"
     ]
    },
    {
     "name": "stdout",
     "output_type": "stream",
     "text": [
      "epoch: 7, [batch: 504 / 2520], examples_per_second: 3233.6033, train_label_loss: 0.2066, \n"
     ]
    },
    {
     "name": "stdout",
     "output_type": "stream",
     "text": [
      "epoch: 7, [batch: 756 / 2520], examples_per_second: 3248.4169, train_label_loss: 0.5208, \n"
     ]
    },
    {
     "name": "stdout",
     "output_type": "stream",
     "text": [
      "epoch: 7, [batch: 1008 / 2520], examples_per_second: 3224.4122, train_label_loss: 0.4811, \n"
     ]
    },
    {
     "name": "stdout",
     "output_type": "stream",
     "text": [
      "epoch: 7, [batch: 1260 / 2520], examples_per_second: 3251.6878, train_label_loss: 0.3724, \n"
     ]
    },
    {
     "name": "stdout",
     "output_type": "stream",
     "text": [
      "epoch: 7, [batch: 1512 / 2520], examples_per_second: 3249.9201, train_label_loss: 0.4378, \n"
     ]
    },
    {
     "name": "stdout",
     "output_type": "stream",
     "text": [
      "epoch: 7, [batch: 1764 / 2520], examples_per_second: 3238.1364, train_label_loss: 0.1560, \n"
     ]
    },
    {
     "name": "stdout",
     "output_type": "stream",
     "text": [
      "epoch: 7, [batch: 2016 / 2520], examples_per_second: 3248.6380, train_label_loss: 0.2296, \n"
     ]
    },
    {
     "name": "stdout",
     "output_type": "stream",
     "text": [
      "epoch: 7, [batch: 2268 / 2520], examples_per_second: 3244.7638, train_label_loss: 0.3994, \n"
     ]
    },
    {
     "name": "stdout",
     "output_type": "stream",
     "text": [
      "=============================================================\n",
      "epoch: 7, source_val_acc_label: 0.6151, target_val_acc_label: 0.5152, source_val_label_loss: 1.2819, target_val_label_loss: 1.7823, \n",
      "=============================================================\n"
     ]
    },
    {
     "name": "stdout",
     "output_type": "stream",
     "text": [
      "Patience (3) exhausted\n"
     ]
    }
   ],
   "source": [
    "###################################\n",
    "# train\n",
    "###################################\n",
    "jig = PTN_Train_Eval_Test_Jig(model, p.BEST_MODEL_PATH, p.device)\n",
    "\n",
    "jig.train(\n",
    "    train_iterable=datasets.source.processed.train,\n",
    "    source_val_iterable=datasets.source.processed.val,\n",
    "    target_val_iterable=datasets.target.processed.val,\n",
    "    num_epochs=p.n_epoch,\n",
    "    num_logs_per_epoch=p.NUM_LOGS_PER_EPOCH,\n",
    "    patience=p.patience,\n",
    "    optimizer=optimizer,\n",
    "    criteria_for_best=p.criteria_for_best,\n",
    ")"
   ]
  },
  {
   "cell_type": "code",
   "execution_count": 14,
   "id": "31e8fabf",
   "metadata": {
    "execution": {
     "iopub.execute_input": "2022-03-06T17:59:04.112187Z",
     "iopub.status.busy": "2022-03-06T17:59:04.111940Z",
     "iopub.status.idle": "2022-03-06T17:59:04.124282Z",
     "shell.execute_reply": "2022-03-06T17:59:04.123894Z"
    },
    "papermill": {
     "duration": 0.03901,
     "end_time": "2022-03-06T17:59:04.124371",
     "exception": false,
     "start_time": "2022-03-06T17:59:04.085361",
     "status": "completed"
    },
    "tags": []
   },
   "outputs": [],
   "source": [
    "total_experiment_time_secs = time.time() - start_time_secs"
   ]
  },
  {
   "cell_type": "code",
   "execution_count": 15,
   "id": "87b9595b",
   "metadata": {
    "execution": {
     "iopub.execute_input": "2022-03-06T17:59:04.184179Z",
     "iopub.status.busy": "2022-03-06T17:59:04.183804Z",
     "iopub.status.idle": "2022-03-06T17:59:38.119498Z",
     "shell.execute_reply": "2022-03-06T17:59:38.119036Z"
    },
    "papermill": {
     "duration": 33.965791,
     "end_time": "2022-03-06T17:59:38.119606",
     "exception": false,
     "start_time": "2022-03-06T17:59:04.153815",
     "status": "completed"
    },
    "tags": []
   },
   "outputs": [],
   "source": [
    "###################################\n",
    "# Evaluate the model\n",
    "###################################\n",
    "source_test_label_accuracy, source_test_label_loss = jig.test(datasets.source.processed.test)\n",
    "target_test_label_accuracy, target_test_label_loss = jig.test(datasets.target.processed.test)\n",
    "\n",
    "source_val_label_accuracy, source_val_label_loss = jig.test(datasets.source.processed.val)\n",
    "target_val_label_accuracy, target_val_label_loss = jig.test(datasets.target.processed.val)\n",
    "\n",
    "history = jig.get_history()\n",
    "\n",
    "total_epochs_trained = len(history[\"epoch_indices\"])\n",
    "\n",
    "val_dl = Iterable_Aggregator((datasets.source.original.val,datasets.target.original.val))\n",
    "\n",
    "confusion = ptn_confusion_by_domain_over_dataloader(model, p.device, val_dl)\n",
    "per_domain_accuracy = per_domain_accuracy_from_confusion(confusion)\n",
    "\n",
    "# Add a key to per_domain_accuracy for if it was a source domain\n",
    "for domain, accuracy in per_domain_accuracy.items():\n",
    "    per_domain_accuracy[domain] = {\n",
    "        \"accuracy\": accuracy,\n",
    "        \"source?\": domain in p.domains_source\n",
    "    }\n",
    "\n",
    "# Do an independent accuracy assesment JUST TO BE SURE!\n",
    "# _source_test_label_accuracy = independent_accuracy_assesment(model, datasets.source.processed.test, p.device)\n",
    "# _target_test_label_accuracy = independent_accuracy_assesment(model, datasets.target.processed.test, p.device)\n",
    "# _source_val_label_accuracy = independent_accuracy_assesment(model, datasets.source.processed.val, p.device)\n",
    "# _target_val_label_accuracy = independent_accuracy_assesment(model, datasets.target.processed.val, p.device)\n",
    "\n",
    "# assert(_source_test_label_accuracy == source_test_label_accuracy)\n",
    "# assert(_target_test_label_accuracy == target_test_label_accuracy)\n",
    "# assert(_source_val_label_accuracy == source_val_label_accuracy)\n",
    "# assert(_target_val_label_accuracy == target_val_label_accuracy)\n",
    "\n",
    "experiment = {\n",
    "    \"experiment_name\": p.experiment_name,\n",
    "    \"parameters\": dict(p),\n",
    "    \"results\": {\n",
    "        \"source_test_label_accuracy\": source_test_label_accuracy,\n",
    "        \"source_test_label_loss\": source_test_label_loss,\n",
    "        \"target_test_label_accuracy\": target_test_label_accuracy,\n",
    "        \"target_test_label_loss\": target_test_label_loss,\n",
    "        \"source_val_label_accuracy\": source_val_label_accuracy,\n",
    "        \"source_val_label_loss\": source_val_label_loss,\n",
    "        \"target_val_label_accuracy\": target_val_label_accuracy,\n",
    "        \"target_val_label_loss\": target_val_label_loss,\n",
    "        \"total_epochs_trained\": total_epochs_trained,\n",
    "        \"total_experiment_time_secs\": total_experiment_time_secs,\n",
    "        \"confusion\": confusion,\n",
    "        \"per_domain_accuracy\": per_domain_accuracy,\n",
    "    },\n",
    "    \"history\": history,\n",
    "    \"dataset_metrics\": get_dataset_metrics(datasets, \"ptn\"),\n",
    "}"
   ]
  },
  {
   "cell_type": "code",
   "execution_count": 16,
   "id": "54a21829",
   "metadata": {
    "execution": {
     "iopub.execute_input": "2022-03-06T17:59:38.175968Z",
     "iopub.status.busy": "2022-03-06T17:59:38.175714Z",
     "iopub.status.idle": "2022-03-06T17:59:38.369146Z",
     "shell.execute_reply": "2022-03-06T17:59:38.369556Z"
    },
    "papermill": {
     "duration": 0.221065,
     "end_time": "2022-03-06T17:59:38.369682",
     "exception": false,
     "start_time": "2022-03-06T17:59:38.148617",
     "status": "completed"
    },
    "tags": []
   },
   "outputs": [
    {
     "data": {
      "image/png": "[encoded data removed]",
      "text/plain": [
       "<Figure size 1080x504 with 1 Axes>"
      ]
     },
     "metadata": {
      "needs_background": "light"
     },
     "output_type": "display_data"
    }
   ],
   "source": [
    "ax = get_loss_curve(experiment)\n",
    "plt.show()"
   ]
  },
  {
   "cell_type": "code",
   "execution_count": 17,
   "id": "fd8a0f60",
   "metadata": {
    "execution": {
     "iopub.execute_input": "2022-03-06T17:59:38.429129Z",
     "iopub.status.busy": "2022-03-06T17:59:38.428378Z",
     "iopub.status.idle": "2022-03-06T17:59:38.608925Z",
     "shell.execute_reply": "2022-03-06T17:59:38.609147Z"
    },
    "papermill": {
     "duration": 0.20777,
     "end_time": "2022-03-06T17:59:38.609228",
     "exception": false,
     "start_time": "2022-03-06T17:59:38.401458",
     "status": "completed"
    },
    "tags": []
   },
   "outputs": [
    {
     "data": {
      "text/plain": [
       "<matplotlib.axes._subplots.AxesSubplot at 0x7f0ba8483ac0>"
      ]
     },
     "execution_count": 17,
     "metadata": {},
     "output_type": "execute_result"
    },
    {
     "data": {
      "image/png": "[encoded data removed]",
      "text/plain": [
       "<Figure size 1080x504 with 1 Axes>"
      ]
     },
     "metadata": {
      "needs_background": "light"
     },
     "output_type": "display_data"
    }
   ],
   "source": [
    "get_results_table(experiment)"
   ]
  },
  {
   "cell_type": "code",
   "execution_count": 18,
   "id": "cf8dc689",
   "metadata": {
    "execution": {
     "iopub.execute_input": "2022-03-06T17:59:38.667851Z",
     "iopub.status.busy": "2022-03-06T17:59:38.667444Z",
     "iopub.status.idle": "2022-03-06T17:59:38.843602Z",
     "shell.execute_reply": "2022-03-06T17:59:38.843323Z"
    },
    "papermill": {
     "duration": 0.205292,
     "end_time": "2022-03-06T17:59:38.843667",
     "exception": false,
     "start_time": "2022-03-06T17:59:38.638375",
     "status": "completed"
    },
    "tags": []
   },
   "outputs": [
    {
     "data": {
      "text/plain": [
       "<matplotlib.axes._subplots.AxesSubplot at 0x7f0ba854ef10>"
      ]
     },
     "execution_count": 18,
     "metadata": {},
     "output_type": "execute_result"
    },
    {
     "data": {
      "image/png": "[encoded data removed]",
      "text/plain": [
       "<Figure size 1080x504 with 1 Axes>"
      ]
     },
     "metadata": {
      "needs_background": "light"
     },
     "output_type": "display_data"
    }
   ],
   "source": [
    "get_domain_accuracies(experiment)"
   ]
  },
  {
   "cell_type": "code",
   "execution_count": 19,
   "id": "a74ae082",
   "metadata": {
    "execution": {
     "iopub.execute_input": "2022-03-06T17:59:38.904149Z",
     "iopub.status.busy": "2022-03-06T17:59:38.903741Z",
     "iopub.status.idle": "2022-03-06T17:59:38.914480Z",
     "shell.execute_reply": "2022-03-06T17:59:38.914716Z"
    },
    "papermill": {
     "duration": 0.042055,
     "end_time": "2022-03-06T17:59:38.914792",
     "exception": false,
     "start_time": "2022-03-06T17:59:38.872737",
     "status": "completed"
    },
    "tags": []
   },
   "outputs": [
    {
     "name": "stdout",
     "output_type": "stream",
     "text": [
      "Source Test Label Accuracy: 0.5947048611111111 Target Test Label Accuracy: 0.4945833333333333\n",
      "Source Val Label Accuracy: 0.5967013888888889 Target Val Label Accuracy: 0.48375\n"
     ]
    }
   ],
   "source": [
    "print(\"Source Test Label Accuracy:\", experiment[\"results\"][\"source_test_label_accuracy\"], \"Target Test Label Accuracy:\", experiment[\"results\"][\"target_test_label_accuracy\"])\n",
    "print(\"Source Val Label Accuracy:\", experiment[\"results\"][\"source_val_label_accuracy\"], \"Target Val Label Accuracy:\", experiment[\"results\"][\"target_val_label_accuracy\"])"
   ]
  },
  {
   "cell_type": "code",
   "execution_count": 20,
   "id": "dacca602",
   "metadata": {
    "execution": {
     "iopub.execute_input": "2022-03-06T17:59:38.974244Z",
     "iopub.status.busy": "2022-03-06T17:59:38.973844Z",
     "iopub.status.idle": "2022-03-06T17:59:38.985284Z",
     "shell.execute_reply": "2022-03-06T17:59:38.985490Z"
    },
    "papermill": {
     "duration": 0.041474,
     "end_time": "2022-03-06T17:59:38.985565",
     "exception": false,
     "start_time": "2022-03-06T17:59:38.944091",
     "status": "completed"
    },
    "tags": [
     "experiment_json"
    ]
   },
   "outputs": [
    {
     "data": {
      "text/plain": [
       "'{\"experiment_name\": \"tuned_1_oracle.run2_limited\", \"parameters\": {\"experiment_name\": \"tuned_1_oracle.run2_limited\", \"device\": \"cuda\", \"lr\": 0.001, \"seed\": 1337, \"dataset_seed\": 1337, \"labels_source\": [\"3123D52\", \"3123D65\", \"3123D79\", \"3123D80\", \"3123D54\", \"3123D70\", \"3123D7B\", \"3123D89\", \"3123D58\", \"3123D76\", \"3123D7D\", \"3123EFE\", \"3123D64\", \"3123D78\", \"3123D7E\", \"3124E4A\"], \"labels_target\": [\"3123D52\", \"3123D65\", \"3123D79\", \"3123D80\", \"3123D54\", \"3123D70\", \"3123D7B\", \"3123D89\", \"3123D58\", \"3123D76\", \"3123D7D\", \"3123EFE\", \"3123D64\", \"3123D78\", \"3123D7E\", \"3124E4A\"], \"x_transforms_source\": [\"unit_power\"], \"x_transforms_target\": [\"unit_power\"], \"episode_transforms_source\": [], \"episode_transforms_target\": [], \"domains_source\": [8, 32, 50], \"domains_target\": [14, 20, 26, 38, 44], \"num_examples_per_domain_per_label_source\": 2000, \"num_examples_per_domain_per_label_target\": 1000, \"n_shot\": 3, \"n_way\": 16, \"n_query\": 2, \"train_k_factor\": 3, \"val_k_factor\": 2, \"test_k_factor\": 2, \"torch_default_dtype\": \"torch.float32\", \"n_epoch\": 50, \"patience\": 3, \"criteria_for_best\": \"target_loss\", \"x_net\": [{\"class\": \"nnReshape\", \"kargs\": {\"shape\": [-1, 1, 2, 256]}}, {\"class\": \"Conv2d\", \"kargs\": {\"in_channels\": 1, \"out_channels\": 256, \"kernel_size\": [1, 7], \"bias\": false, \"padding\": [0, 3]}}, {\"class\": \"ReLU\", \"kargs\": {\"inplace\": true}}, {\"class\": \"BatchNorm2d\", \"kargs\": {\"num_features\": 256}}, {\"class\": \"Conv2d\", \"kargs\": {\"in_channels\": 256, \"out_channels\": 80, \"kernel_size\": [2, 7], \"bias\": true, \"padding\": [0, 3]}}, {\"class\": \"ReLU\", \"kargs\": {\"inplace\": true}}, {\"class\": \"BatchNorm2d\", \"kargs\": {\"num_features\": 80}}, {\"class\": \"Flatten\", \"kargs\": {}}, {\"class\": \"Linear\", \"kargs\": {\"in_features\": 20480, \"out_features\": 256}}, {\"class\": \"ReLU\", \"kargs\": {\"inplace\": true}}, {\"class\": \"BatchNorm1d\", \"kargs\": {\"num_features\": 256}}, {\"class\": \"Linear\", \"kargs\": {\"in_features\": 256, \"out_features\": 256}}], \"NUM_LOGS_PER_EPOCH\": 10, \"BEST_MODEL_PATH\": \"./best_model.pth\", \"pickle_name\": \"oracle.Run2_10kExamples_stratified_ds.2022A.pkl\"}, \"results\": {\"source_test_label_accuracy\": 0.5947048611111111, \"source_test_label_loss\": 1.0458264350891113, \"target_test_label_accuracy\": 0.4945833333333333, \"target_test_label_loss\": 1.3963911533355713, \"source_val_label_accuracy\": 0.5967013888888889, \"source_val_label_loss\": 1.0450832843780518, \"target_val_label_accuracy\": 0.48375, \"target_val_label_loss\": 1.4087003469467163, \"total_epochs_trained\": 7, \"total_experiment_time_secs\": 491.8412754535675, \"confusion\": {\"8\": {\"15\": {\"15\": 80, \"12\": 41, \"8\": 35, \"3\": 17, \"6\": 3, \"11\": 47, \"2\": 10, \"7\": 6, \"4\": 1}, \"3\": {\"3\": 157, \"12\": 70, \"11\": 2, \"15\": 9, \"8\": 1, \"2\": 1}, \"6\": {\"6\": 66, \"7\": 50, \"2\": 20, \"4\": 53, \"8\": 16, \"14\": 18, \"13\": 5, \"0\": 10, \"11\": 1, \"15\": 1}, \"1\": {\"1\": 137, \"13\": 40, \"14\": 8, \"5\": 39, \"10\": 16}, \"8\": {\"8\": 134, \"11\": 38, \"15\": 23, \"6\": 14, \"7\": 17, \"4\": 9, \"14\": 2, \"12\": 1, \"13\": 2}, \"10\": {\"5\": 37, \"10\": 89, \"0\": 49, \"1\": 21, \"13\": 24, \"14\": 20}, \"9\": {\"9\": 240}, \"13\": {\"5\": 6, \"13\": 93, \"14\": 49, \"10\": 24, \"1\": 36, \"6\": 7, \"0\": 15, \"4\": 8, \"8\": 2}, \"12\": {\"12\": 144, \"3\": 62, \"15\": 24, \"11\": 8, \"8\": 2}, \"5\": {\"1\": 27, \"5\": 155, \"10\": 42, \"0\": 9, \"13\": 5, \"14\": 2}, \"0\": {\"10\": 56, \"14\": 50, \"6\": 5, \"0\": 92, \"13\": 26, \"7\": 1, \"4\": 5, \"1\": 1, \"5\": 3, \"2\": 1}, \"2\": {\"7\": 48, \"2\": 138, \"4\": 25, \"3\": 1, \"6\": 17, \"15\": 3, \"0\": 2, \"8\": 5, \"12\": 1}, \"11\": {\"11\": 77, \"8\": 63, \"15\": 55, \"12\": 38, \"6\": 2, \"3\": 3, \"13\": 2}, \"14\": {\"13\": 37, \"14\": 89, \"8\": 1, \"4\": 8, \"10\": 11, \"1\": 14, \"0\": 55, \"6\": 19, \"2\": 1, \"7\": 4, \"5\": 1}, \"7\": {\"2\": 61, \"7\": 56, \"4\": 54, \"0\": 3, \"6\": 35, \"15\": 8, \"8\": 17, \"14\": 4, \"11\": 1, \"13\": 1}, \"4\": {\"6\": 57, \"4\": 62, \"8\": 13, \"2\": 40, \"7\": 49, \"0\": 6, \"14\": 9, \"15\": 2, \"10\": 1, \"11\": 1}}, \"50\": {\"3\": {\"3\": 224, \"8\": 16}, \"15\": {\"15\": 187, \"14\": 6, \"1\": 32, \"11\": 13, \"6\": 2}, \"8\": {\"8\": 231, \"3\": 9}, \"4\": {\"6\": 69, \"5\": 60, \"4\": 88, \"1\": 13, \"10\": 3, \"0\": 3, \"13\": 1, \"7\": 3}, \"14\": {\"14\": 222, \"11\": 5, \"12\": 9, \"15\": 4}, \"0\": {\"0\": 198, \"2\": 24, \"4\": 1, \"10\": 12, \"6\": 5}, \"7\": {\"7\": 79, \"6\": 3, \"13\": 88, \"10\": 44, \"5\": 23, \"4\": 2, \"0\": 1}, \"6\": {\"1\": 63, \"6\": 108, \"5\": 16, \"0\": 5, \"4\": 42, \"15\": 6}, \"10\": {\"10\": 134, \"7\": 41, \"13\": 39, \"0\": 13, \"5\": 11, \"4\": 2}, \"5\": {\"7\": 25, \"5\": 97, \"4\": 59, \"13\": 14, \"6\": 19, \"10\": 21, \"0\": 5}, \"2\": {\"2\": 206, \"0\": 31, \"6\": 2, \"1\": 1}, \"12\": {\"12\": 203, \"9\": 21, \"11\": 5, \"14\": 11}, \"9\": {\"9\": 213, \"12\": 20, \"11\": 7}, \"1\": {\"6\": 59, \"1\": 139, \"4\": 12, \"5\": 4, \"14\": 1, \"15\": 24, \"2\": 1}, \"11\": {\"11\": 201, \"15\": 18, \"14\": 11, \"9\": 8, \"12\": 2}, \"13\": {\"7\": 89, \"13\": 91, \"10\": 45, \"5\": 15}}, \"32\": {\"5\": {\"5\": 67, \"8\": 22, \"15\": 2, \"4\": 28, \"14\": 15, \"0\": 33, \"3\": 4, \"11\": 11, \"2\": 37, \"7\": 5, \"13\": 16}, \"8\": {\"5\": 19, \"0\": 19, \"8\": 115, \"4\": 29, \"13\": 38, \"3\": 8, \"11\": 7, \"15\": 3, \"7\": 2}, \"11\": {\"13\": 14, \"11\": 64, \"0\": 25, \"2\": 23, \"7\": 75, \"5\": 12, \"4\": 24, \"8\": 3}, \"1\": {\"1\": 233, \"10\": 7}, \"10\": {\"10\": 234, \"1\": 6}, \"15\": {\"15\": 218, \"8\": 16, \"4\": 1, \"5\": 4, \"0\": 1}, \"3\": {\"3\": 203, \"8\": 11, \"13\": 16, \"7\": 9, \"4\": 1}, \"7\": {\"11\": 68, \"7\": 100, \"13\": 32, \"4\": 14, \"2\": 7, \"3\": 2, \"0\": 10, \"8\": 5, \"5\": 2}, \"4\": {\"11\": 38, \"13\": 25, \"0\": 42, \"7\": 23, \"8\": 23, \"2\": 8, \"4\": 49, \"5\": 30, \"3\": 2}, \"14\": {\"14\": 180, \"2\": 46, \"5\": 11, \"4\": 1, \"0\": 2}, \"9\": {\"9\": 228, \"12\": 4, \"14\": 8}, \"12\": {\"12\": 240}, \"6\": {\"6\": 240}, \"2\": {\"7\": 4, \"2\": 134, \"14\": 53, \"0\": 13, \"11\": 11, \"5\": 20, \"13\": 1, \"4\": 4}, \"0\": {\"0\": 61, \"11\": 26, \"4\": 49, \"5\": 38, \"13\": 18, \"14\": 4, \"7\": 10, \"8\": 20, \"2\": 14}, \"13\": {\"13\": 78, \"4\": 46, \"3\": 15, \"11\": 22, \"0\": 19, \"8\": 22, \"5\": 3, \"7\": 35}}, \"14\": {\"15\": {\"15\": 101, \"7\": 17, \"13\": 1, \"2\": 1}, \"3\": {\"4\": 18, \"3\": 68, \"5\": 10, \"14\": 13, \"0\": 4, \"2\": 5, \"6\": 1, \"1\": 1}, \"6\": {\"14\": 16, \"4\": 7, \"6\": 45, \"3\": 4, \"2\": 21, \"13\": 26, \"5\": 1}, \"1\": {\"1\": 77, \"5\": 28, \"3\": 2, \"4\": 11, \"2\": 1, \"8\": 1}, \"8\": {\"8\": 119, \"9\": 1}, \"10\": {\"10\": 86, \"11\": 9, \"14\": 2, \"0\": 20, \"12\": 3}, \"9\": {\"9\": 108, \"11\": 8, \"10\": 2, \"12\": 2}, \"13\": {\"13\": 48, \"6\": 32, \"2\": 31, \"14\": 5, \"4\": 4}, \"12\": {\"12\": 57, \"11\": 36, \"9\": 12, \"10\": 10, \"0\": 4, \"8\": 1}, \"5\": {\"5\": 39, \"4\": 32, \"3\": 12, \"2\": 4, \"1\": 22, \"14\": 4, \"13\": 3, \"6\": 4}, \"0\": {\"0\": 96, \"10\": 14, \"3\": 3, \"9\": 5, \"14\": 2}, \"2\": {\"4\": 13, \"3\": 7, \"1\": 7, \"2\": 33, \"13\": 20, \"7\": 2, \"6\": 11, \"5\": 16, \"15\": 2, \"14\": 9}, \"11\": {\"11\": 107, \"9\": 4, \"12\": 6, \"10\": 3}, \"14\": {\"2\": 20, \"14\": 51, \"6\": 19, \"5\": 4, \"0\": 3, \"3\": 11, \"4\": 6, \"13\": 6}, \"7\": {\"1\": 3, \"7\": 94, \"15\": 23}, \"4\": {\"3\": 18, \"5\": 29, \"1\": 11, \"4\": 36, \"14\": 4, \"6\": 5, \"2\": 16, \"13\": 1}}, \"20\": {\"3\": {\"2\": 20, \"3\": 20, \"4\": 11, \"7\": 16, \"15\": 7, \"9\": 7, \"14\": 3, \"0\": 1, \"5\": 13, \"13\": 5, \"12\": 5, \"8\": 9, \"10\": 2, \"11\": 1}, \"15\": {\"13\": 23, \"0\": 7, \"9\": 12, \"15\": 19, \"12\": 11, \"2\": 12, \"5\": 12, \"3\": 3, \"4\": 4, \"1\": 14, \"7\": 2, \"8\": 1}, \"8\": {\"7\": 19, \"12\": 2, \"14\": 29, \"8\": 23, \"10\": 22, \"4\": 6, \"5\": 6, \"9\": 1, \"3\": 10, \"2\": 1, \"6\": 1}, \"4\": {\"4\": 59, \"12\": 8, \"9\": 8, \"10\": 3, \"5\": 13, \"0\": 12, \"15\": 3, \"3\": 4, \"14\": 1, \"8\": 2, \"2\": 3, \"1\": 3, \"7\": 1}, \"14\": {\"7\": 10, \"4\": 5, \"14\": 35, \"6\": 20, \"8\": 22, \"10\": 24, \"3\": 3, \"2\": 1}, \"0\": {\"12\": 19, \"1\": 26, \"4\": 10, \"2\": 4, \"15\": 9, \"5\": 7, \"9\": 7, \"13\": 5, \"0\": 32, \"3\": 1}, \"7\": {\"6\": 6, \"7\": 38, \"8\": 19, \"14\": 7, \"5\": 7, \"10\": 12, \"2\": 6, \"12\": 1, \"3\": 19, \"9\": 4, \"11\": 1}, \"6\": {\"6\": 86, \"7\": 6, \"14\": 19, \"10\": 8, \"8\": 1}, \"10\": {\"10\": 19, \"8\": 28, \"14\": 27, \"7\": 18, \"3\": 3, \"6\": 16, \"4\": 6, \"2\": 2, \"12\": 1}, \"5\": {\"12\": 18, \"2\": 14, \"5\": 16, \"7\": 8, \"1\": 5, \"0\": 9, \"15\": 5, \"4\": 14, \"9\": 12, \"3\": 10, \"13\": 8, \"8\": 1}, \"2\": {\"15\": 15, \"4\": 3, \"9\": 9, \"8\": 3, \"1\": 3, \"3\": 22, \"12\": 8, \"13\": 8, \"14\": 1, \"2\": 27, \"5\": 13, \"7\": 4, \"0\": 3, \"10\": 1}, \"12\": {\"9\": 11, \"3\": 3, \"15\": 7, \"13\": 13, \"12\": 14, \"4\": 8, \"1\": 21, \"2\": 10, \"5\": 13, \"0\": 20}, \"9\": {\"12\": 7, \"13\": 9, \"8\": 2, \"15\": 18, \"0\": 6, \"3\": 16, \"5\": 14, \"4\": 8, \"9\": 12, \"1\": 7, \"2\": 16, \"7\": 3, \"10\": 1, \"14\": 1}, \"1\": {\"1\": 28, \"12\": 16, \"4\": 6, \"0\": 34, \"2\": 4, \"5\": 5, \"15\": 15, \"9\": 4, \"13\": 7, \"3\": 1}, \"11\": {\"11\": 111, \"7\": 7, \"9\": 1, \"6\": 1}, \"13\": {\"13\": 43, \"2\": 9, \"3\": 2, \"0\": 5, \"1\": 8, \"9\": 14, \"15\": 20, \"5\": 6, \"12\": 10, \"7\": 2, \"4\": 1}}, \"44\": {\"5\": {\"5\": 100, \"14\": 16, \"8\": 2, \"0\": 1, \"15\": 1}, \"8\": {\"8\": 69, \"0\": 47, \"5\": 4}, \"11\": {\"6\": 18, \"11\": 97, \"9\": 1, \"7\": 3, \"2\": 1}, \"1\": {\"1\": 59, \"12\": 28, \"3\": 27, \"10\": 3, \"7\": 1, \"2\": 2}, \"10\": {\"10\": 103, \"12\": 11, \"7\": 1, \"1\": 5}, \"15\": {\"15\": 87, \"4\": 9, \"14\": 19, \"8\": 2, \"0\": 1, \"5\": 2}, \"3\": {\"3\": 91, \"12\": 10, \"1\": 19}, \"7\": {\"2\": 38, \"9\": 22, \"11\": 1, \"7\": 56, \"3\": 1, \"6\": 2}, \"4\": {\"14\": 13, \"4\": 99, \"13\": 3, \"15\": 5}, \"14\": {\"14\": 54, \"5\": 21, \"4\": 9, \"15\": 36}, \"9\": {\"2\": 33, \"7\": 33, \"1\": 2, \"9\": 46, \"6\": 5, \"11\": 1}, \"12\": {\"1\": 37, \"12\": 57, \"3\": 19, \"10\": 7}, \"6\": {\"6\": 80, \"11\": 24, \"13\": 6, \"7\": 2, \"9\": 8}, \"2\": {\"2\": 48, \"9\": 34, \"3\": 4, \"7\": 32, \"6\": 2}, \"0\": {\"0\": 60, \"8\": 57, \"5\": 2, \"15\": 1}, \"13\": {\"13\": 103, \"4\": 13, \"14\": 1, \"6\": 3}}, \"38\": {\"14\": {\"2\": 23, \"14\": 67, \"11\": 16, \"12\": 10, \"1\": 1, \"7\": 2, \"8\": 1}, \"0\": {\"0\": 89, \"3\": 22, \"9\": 1, \"15\": 1, \"10\": 3, \"7\": 3, \"13\": 1}, \"13\": {\"3\": 10, \"5\": 19, \"15\": 20, \"7\": 2, \"1\": 15, \"8\": 16, \"6\": 8, \"13\": 21, \"14\": 5, \"2\": 3, \"10\": 1}, \"7\": {\"7\": 44, \"10\": 31, \"13\": 5, \"8\": 11, \"3\": 9, \"0\": 1, \"15\": 5, \"12\": 1, \"4\": 1, \"5\": 12}, \"9\": {\"9\": 73, \"6\": 43, \"0\": 2, \"3\": 2}, \"3\": {\"8\": 10, \"15\": 16, \"13\": 9, \"0\": 26, \"7\": 7, \"3\": 25, \"6\": 8, \"10\": 9, \"9\": 6, \"1\": 1, \"5\": 3}, \"11\": {\"11\": 89, \"14\": 17, \"12\": 12, \"2\": 2}, \"6\": {\"6\": 69, \"9\": 41, \"3\": 6, \"0\": 3, \"1\": 1}, \"8\": {\"8\": 19, \"5\": 34, \"13\": 27, \"15\": 23, \"3\": 4, \"10\": 3, \"7\": 8, \"1\": 2}, \"4\": {\"4\": 109, \"12\": 9, \"7\": 2}, \"5\": {\"8\": 24, \"7\": 9, \"5\": 27, \"3\": 8, \"10\": 5, \"13\": 27, \"15\": 17, \"1\": 3}, \"10\": {\"8\": 5, \"3\": 4, \"7\": 43, \"5\": 4, \"0\": 7, \"10\": 44, \"4\": 4, \"15\": 5, \"13\": 4}, \"1\": {\"1\": 94, \"13\": 11, \"15\": 11, \"5\": 3, \"8\": 1}, \"2\": {\"2\": 106, \"14\": 13, \"11\": 1}, \"15\": {\"5\": 7, \"8\": 15, \"13\": 24, \"15\": 47, \"1\": 10, \"3\": 10, \"7\": 4, \"0\": 1, \"9\": 1, \"10\": 1}, \"12\": {\"12\": 96, \"4\": 10, \"14\": 13, \"11\": 1}}, \"26\": {\"13\": {\"8\": 5, \"13\": 57, \"6\": 7, \"9\": 26, \"5\": 20, \"10\": 1, \"15\": 1, \"7\": 1, \"2\": 2}, \"2\": {\"8\": 13, \"7\": 21, \"3\": 15, \"15\": 12, \"2\": 20, \"4\": 7, \"9\": 12, \"10\": 4, \"14\": 5, \"0\": 3, \"5\": 6, \"13\": 1, \"1\": 1}, \"8\": {\"5\": 11, \"7\": 3, \"1\": 7, \"9\": 19, \"2\": 12, \"4\": 7, \"10\": 9, \"8\": 20, \"0\": 11, \"14\": 12, \"13\": 2, \"6\": 7}, \"9\": {\"5\": 23, \"10\": 9, \"8\": 16, \"9\": 17, \"13\": 16, \"7\": 9, \"6\": 15, \"15\": 2, \"14\": 5, \"0\": 3, \"2\": 4, \"4\": 1}, \"12\": {\"12\": 116, \"11\": 4}, \"4\": {\"7\": 13, \"2\": 14, \"3\": 15, \"15\": 9, \"0\": 5, \"4\": 36, \"8\": 11, \"14\": 8, \"5\": 2, \"10\": 3, \"9\": 2, \"1\": 2}, \"3\": {\"2\": 12, \"15\": 35, \"3\": 50, \"7\": 9, \"4\": 13, \"8\": 1}, \"15\": {\"4\": 9, \"3\": 42, \"15\": 34, \"2\": 12, \"0\": 1, \"7\": 13, \"8\": 2, \"9\": 3, \"14\": 1, \"10\": 2, \"5\": 1}, \"14\": {\"14\": 25, \"1\": 27, \"10\": 14, \"0\": 24, \"4\": 9, \"8\": 12, \"6\": 3, \"7\": 3, \"2\": 2, \"5\": 1}, \"10\": {\"1\": 19, \"10\": 21, \"5\": 2, \"14\": 16, \"6\": 18, \"15\": 2, \"2\": 7, \"7\": 6, \"9\": 4, \"4\": 9, \"0\": 9, \"8\": 5, \"3\": 2}, \"7\": {\"2\": 29, \"5\": 6, \"7\": 21, \"4\": 9, \"0\": 6, \"13\": 2, \"10\": 2, \"8\": 3, \"9\": 5, \"15\": 17, \"3\": 16, \"14\": 2, \"6\": 1, \"1\": 1}, \"11\": {\"11\": 114, \"12\": 6}, \"6\": {\"6\": 66, \"13\": 17, \"10\": 7, \"9\": 8, \"5\": 10, \"14\": 4, \"8\": 4, \"1\": 3, \"0\": 1}, \"1\": {\"0\": 25, \"14\": 24, \"8\": 8, \"10\": 19, \"1\": 29, \"6\": 6, \"5\": 1, \"9\": 1, \"2\": 2, \"4\": 3, \"13\": 1, \"7\": 1}, \"5\": {\"2\": 8, \"5\": 15, \"6\": 27, \"13\": 22, \"8\": 9, \"9\": 14, \"7\": 13, \"15\": 2, \"0\": 1, \"4\": 2, \"3\": 2, \"14\": 2, \"10\": 3}, \"0\": {\"1\": 17, \"10\": 15, \"4\": 9, \"0\": 28, \"8\": 9, \"14\": 23, \"3\": 2, \"2\": 8, \"15\": 2, \"6\": 2, \"9\": 2, \"5\": 1, \"7\": 1, \"13\": 1}}}, \"per_domain_accuracy\": {\"8\": {\"accuracy\": 0.47109375, \"source?\": true}, \"50\": {\"accuracy\": 0.6825520833333333, \"source?\": true}, \"32\": {\"accuracy\": 0.6364583333333333, \"source?\": true}, \"14\": {\"accuracy\": 0.6067708333333334, \"source?\": false}, \"20\": {\"accuracy\": 0.303125, \"source?\": false}, \"44\": {\"accuracy\": 0.6296875, \"source?\": false}, \"38\": {\"accuracy\": 0.5307291666666667, \"source?\": false}, \"26\": {\"accuracy\": 0.3484375, \"source?\": false}}}, \"history\": {\"epoch_indices\": [1, 2, 3, 4, 5, 6, 7], \"train_label_loss\": [1.6269482443966563, 1.0832250996714547, 0.8729174415980067, 0.7135279978255904, 0.5763754558586885, 0.4671283401681909, 0.37464877727574536], \"source_val_label_loss\": [1.3918545246124268, 1.0992611646652222, 1.0450832843780518, 1.0905200242996216, 1.0831531286239624, 1.218096137046814, 1.2818820476531982], \"target_val_label_loss\": [1.836276650428772, 1.465853214263916, 1.4087003469467163, 1.5170944929122925, 1.5360442399978638, 1.7342209815979004, 1.7822604179382324], \"source_val_acc_label\": [0.48420138888888886, 0.5685763888888888, 0.5967013888888889, 0.6172743055555555, 0.6243923611111111, 0.6241319444444444, 0.6151041666666667], \"target_val_acc_label\": [0.37958333333333333, 0.46822916666666664, 0.48375, 0.5072916666666667, 0.5235416666666667, 0.5186458333333334, 0.5152083333333334]}, \"dataset_metrics\": {\"source\": {\"train\": {\"n_unique_x\": 67200, \"n_unique_y\": 16, \"n_batch/episode\": 2520}, \"val\": {\"n_unique_x\": 14400, \"n_unique_y\": 16, \"n_batch/episode\": 360}, \"test\": {\"n_unique_x\": 14400, \"n_unique_y\": 16, \"n_batch/episode\": 360}}, \"target\": {\"train\": {\"n_unique_x\": 56000, \"n_unique_y\": 16, \"n_batch/episode\": 2100}, \"val\": {\"n_unique_x\": 12000, \"n_unique_y\": 16, \"n_batch/episode\": 300}, \"test\": {\"n_unique_x\": 12000, \"n_unique_y\": 16, \"n_batch/episode\": 300}}}}'"
      ]
     },
     "execution_count": 20,
     "metadata": {},
     "output_type": "execute_result"
    }
   ],
   "source": [
    "json.dumps(experiment)"
   ]
  }
 ],
 "metadata": {
  "celltoolbar": "Tags",
  "kernelspec": {
   "display_name": "Python 3 (ipykernel)",
   "language": "python",
   "name": "python3"
  },
  "language_info": {
   "codemirror_mode": {
    "name": "ipython",
    "version": 3
   },
   "file_extension": ".py",
   "mimetype": "text/x-python",
   "name": "python",
   "nbconvert_exporter": "python",
   "pygments_lexer": "ipython3",
   "version": "3.8.10"
  },
  "papermill": {
   "default_parameters": {},
   "duration": 529.326717,
   "end_time": "2022-03-06T17:59:39.724403",
   "environment_variables": {},
   "exception": null,
   "input_path": "/mnt/wd500GB/CSC500/csc500-main/csc500-notebooks/templates/ptn_template.ipynb",
   "output_path": "trial.ipynb",
   "parameters": {
    "parameters": {
     "BEST_MODEL_PATH": "./best_model.pth",
     "NUM_LOGS_PER_EPOCH": 10,
     "criteria_for_best": "target_loss",
     "dataset_seed": 1337,
     "device": "cuda",
     "domains_source": [
      8,
      32,
      50
     ],
     "domains_target": [
      14,
      20,
      26,
      38,
      44
     ],
     "episode_transforms_source": [],
     "episode_transforms_target": [],
     "experiment_name": "tuned_1_oracle.run2_limited",
     "labels_source": [
      "3123D52",
      "3123D65",
      "3123D79",
      "3123D80",
      "3123D54",
      "3123D70",
      "3123D7B",
      "3123D89",
      "3123D58",
      "3123D76",
      "3123D7D",
      "3123EFE",
      "3123D64",
      "3123D78",
      "3123D7E",
      "3124E4A"
     ],
     "labels_target": [
      "3123D52",
      "3123D65",
      "3123D79",
      "3123D80",
      "3123D54",
      "3123D70",
      "3123D7B",
      "3123D89",
      "3123D58",
      "3123D76",
      "3123D7D",
      "3123EFE",
      "3123D64",
      "3123D78",
      "3123D7E",
      "3124E4A"
     ],
     "lr": 0.001,
     "n_epoch": 50,
     "n_query": 2,
     "n_shot": 3,
     "n_way": 16,
     "num_examples_per_domain_per_label_source": 2000,
     "num_examples_per_domain_per_label_target": 1000,
     "patience": 3,
     "pickle_name": "oracle.Run2_10kExamples_stratified_ds.2022A.pkl",
     "seed": 1337,
     "test_k_factor": 2,
     "torch_default_dtype": "torch.float32",
     "train_k_factor": 3,
     "val_k_factor": 2,
     "x_net": [
      {
       "class": "nnReshape",
       "kargs": {
        "shape": [
         -1,
         1,
         2,
         256
        ]
       }
      },
      {
       "class": "Conv2d",
       "kargs": {
        "bias": false,
        "in_channels": 1,
        "kernel_size": [
         1,
         7
        ],
        "out_channels": 256,
        "padding": [
         0,
         3
        ]
       }
      },
      {
       "class": "ReLU",
       "kargs": {
        "inplace": true
       }
      },
      {
       "class": "BatchNorm2d",
       "kargs": {
        "num_features": 256
       }
      },
      {
       "class": "Conv2d",
       "kargs": {
        "bias": true,
        "in_channels": 256,
        "kernel_size": [
         2,
         7
        ],
        "out_channels": 80,
        "padding": [
         0,
         3
        ]
       }
      },
      {
       "class": "ReLU",
       "kargs": {
        "inplace": true
       }
      },
      {
       "class": "BatchNorm2d",
       "kargs": {
        "num_features": 80
       }
      },
      {
       "class": "Flatten",
       "kargs": {}
      },
      {
       "class": "Linear",
       "kargs": {
        "in_features": 20480,
        "out_features": 256
       }
      },
      {
       "class": "ReLU",
       "kargs": {
        "inplace": true
       }
      },
      {
       "class": "BatchNorm1d",
       "kargs": {
        "num_features": 256
       }
      },
      {
       "class": "Linear",
       "kargs": {
        "in_features": 256,
        "out_features": 256
       }
      }
     ],
     "x_transforms_source": [
      "unit_power"
     ],
     "x_transforms_target": [
      "unit_power"
     ]
    }
   },
   "start_time": "2022-03-06T17:50:50.397686",
   "version": "2.3.4"
  }
 },
 "nbformat": 4,
 "nbformat_minor": 5
}