{
 "cells": [
  {
   "cell_type": "markdown",
   "id": "9fea5f46",
   "metadata": {
    "papermill": {
     "duration": 0.0135,
     "end_time": "2022-03-06T17:25:10.264802",
     "exception": false,
     "start_time": "2022-03-06T17:25:10.251302",
     "status": "completed"
    },
    "tags": []
   },
   "source": [
    "# PTN Template\n",
    "This notebook serves as a template for single dataset PTN experiments  \n",
    "It can be run on its own by setting STANDALONE to True (do a find for \"STANDALONE\" to see where)  \n",
    "But it is intended to be executed as part of a *papermill.py script. See any of the   \n",
    "experimentes with a papermill script to get started with that workflow.  "
   ]
  },
  {
   "cell_type": "code",
   "execution_count": 1,
   "id": "0902182a",
   "metadata": {
    "execution": {
     "iopub.execute_input": "2022-03-06T17:25:10.295138Z",
     "iopub.status.busy": "2022-03-06T17:25:10.289934Z",
     "iopub.status.idle": "2022-03-06T17:25:11.025850Z",
     "shell.execute_reply": "2022-03-06T17:25:11.025337Z"
    },
    "papermill": {
     "duration": 0.752095,
     "end_time": "2022-03-06T17:25:11.025974",
     "exception": false,
     "start_time": "2022-03-06T17:25:10.273879",
     "status": "completed"
    },
    "tags": []
   },
   "outputs": [],
   "source": [
    "%load_ext autoreload\n",
    "%autoreload 2\n",
    "%matplotlib inline\n",
    "\n",
    "    \n",
    "import os, json, sys, time, random\n",
    "import numpy as np\n",
    "import torch\n",
    "from torch.optim import Adam\n",
    "from  easydict import EasyDict\n",
    "import matplotlib.pyplot as plt\n",
    "\n",
    "from steves_models.steves_ptn import Steves_Prototypical_Network\n",
    "\n",
    "from steves_utils.lazy_iterable_wrapper import Lazy_Iterable_Wrapper\n",
    "from steves_utils.iterable_aggregator import Iterable_Aggregator\n",
    "from steves_utils.ptn_train_eval_test_jig import  PTN_Train_Eval_Test_Jig\n",
    "from steves_utils.torch_sequential_builder import build_sequential\n",
    "from steves_utils.torch_utils import get_dataset_metrics, ptn_confusion_by_domain_over_dataloader\n",
    "from steves_utils.utils_v2 import (per_domain_accuracy_from_confusion, get_datasets_base_path)\n",
    "from steves_utils.PTN.utils import independent_accuracy_assesment\n",
    "\n",
    "from steves_utils.stratified_dataset.episodic_accessor import Episodic_Accessor_Factory\n",
    "\n",
    "from steves_utils.ptn_do_report import (\n",
    "    get_loss_curve,\n",
    "    get_results_table,\n",
    "    get_parameters_table,\n",
    "    get_domain_accuracies,\n",
    ")\n",
    "\n",
    "from steves_utils.transforms import get_chained_transform"
   ]
  },
  {
   "cell_type": "markdown",
   "id": "41c840b4",
   "metadata": {
    "papermill": {
     "duration": 0.009079,
     "end_time": "2022-03-06T17:25:11.049398",
     "exception": false,
     "start_time": "2022-03-06T17:25:11.040319",
     "status": "completed"
    },
    "tags": []
   },
   "source": [
    "# Required Parameters\n",
    "These are allowed parameters, not defaults\n",
    "Each of these values need to be present in the injected parameters (the notebook will raise an exception if they are not present)\n",
    "\n",
    "Papermill uses the cell tag \"parameters\" to inject the real parameters below this cell.\n",
    "Enable tags to see what I mean"
   ]
  },
  {
   "cell_type": "code",
   "execution_count": 2,
   "id": "fd44eb83",
   "metadata": {
    "execution": {
     "iopub.execute_input": "2022-03-06T17:25:11.071107Z",
     "iopub.status.busy": "2022-03-06T17:25:11.070837Z",
     "iopub.status.idle": "2022-03-06T17:25:11.080158Z",
     "shell.execute_reply": "2022-03-06T17:25:11.080368Z"
    },
    "papermill": {
     "duration": 0.021484,
     "end_time": "2022-03-06T17:25:11.080444",
     "exception": false,
     "start_time": "2022-03-06T17:25:11.058960",
     "status": "completed"
    },
    "tags": []
   },
   "outputs": [],
   "source": [
    "required_parameters = {\n",
    "    \"experiment_name\",\n",
    "    \"lr\",\n",
    "    \"device\",\n",
    "    \"seed\",\n",
    "    \"dataset_seed\",\n",
    "    \"labels_source\",\n",
    "    \"labels_target\",\n",
    "    \"domains_source\",\n",
    "    \"domains_target\",\n",
    "    \"num_examples_per_domain_per_label_source\",\n",
    "    \"num_examples_per_domain_per_label_target\",\n",
    "    \"n_shot\",\n",
    "    \"n_way\",\n",
    "    \"n_query\",\n",
    "    \"train_k_factor\",\n",
    "    \"val_k_factor\",\n",
    "    \"test_k_factor\",\n",
    "    \"n_epoch\",\n",
    "    \"patience\",\n",
    "    \"criteria_for_best\",\n",
    "    \"x_transforms_source\",\n",
    "    \"x_transforms_target\",\n",
    "    \"episode_transforms_source\",\n",
    "    \"episode_transforms_target\",\n",
    "    \"pickle_name\",\n",
    "    \"x_net\",\n",
    "    \"NUM_LOGS_PER_EPOCH\",\n",
    "    \"BEST_MODEL_PATH\",\n",
    "    \"torch_default_dtype\"\n",
    "}"
   ]
  },
  {
   "cell_type": "code",
   "execution_count": 3,
   "id": "fa3f0049",
   "metadata": {
    "execution": {
     "iopub.execute_input": "2022-03-06T17:25:11.107821Z",
     "iopub.status.busy": "2022-03-06T17:25:11.107533Z",
     "iopub.status.idle": "2022-03-06T17:25:11.118562Z",
     "shell.execute_reply": "2022-03-06T17:25:11.119096Z"
    },
    "papermill": {
     "duration": 0.026635,
     "end_time": "2022-03-06T17:25:11.119268",
     "exception": false,
     "start_time": "2022-03-06T17:25:11.092633",
     "status": "completed"
    },
    "tags": [
     "parameters"
    ]
   },
   "outputs": [],
   "source": [
    "\n",
    "\n",
    "standalone_parameters = {}\n",
    "standalone_parameters[\"experiment_name\"] = \"STANDALONE PTN\"\n",
    "standalone_parameters[\"lr\"] = 0.0001\n",
    "standalone_parameters[\"device\"] = \"cuda\"\n",
    "\n",
    "standalone_parameters[\"seed\"] = 1337\n",
    "standalone_parameters[\"dataset_seed\"] = 1337\n",
    "\n",
    "\n",
    "standalone_parameters[\"num_examples_per_domain_per_label_source\"]=100\n",
    "standalone_parameters[\"num_examples_per_domain_per_label_target\"]=100\n",
    "\n",
    "standalone_parameters[\"n_shot\"] = 3\n",
    "standalone_parameters[\"n_query\"]  = 2\n",
    "standalone_parameters[\"train_k_factor\"] = 1\n",
    "standalone_parameters[\"val_k_factor\"] = 2\n",
    "standalone_parameters[\"test_k_factor\"] = 2\n",
    "\n",
    "\n",
    "standalone_parameters[\"n_epoch\"] = 100\n",
    "\n",
    "standalone_parameters[\"patience\"] = 10\n",
    "standalone_parameters[\"criteria_for_best\"] = \"target_accuracy\"\n",
    "\n",
    "standalone_parameters[\"x_transforms_source\"] = [\"unit_power\"]\n",
    "standalone_parameters[\"x_transforms_target\"] = [\"unit_power\"]\n",
    "standalone_parameters[\"episode_transforms_source\"] = []\n",
    "standalone_parameters[\"episode_transforms_target\"] = []\n",
    "\n",
    "standalone_parameters[\"torch_default_dtype\"] = \"torch.float32\" \n",
    "\n",
    "\n",
    "\n",
    "standalone_parameters[\"x_net\"] =     [\n",
    "    {\"class\": \"nnReshape\", \"kargs\": {\"shape\":[-1, 1, 2, 256]}},\n",
    "    {\"class\": \"Conv2d\", \"kargs\": { \"in_channels\":1, \"out_channels\":256, \"kernel_size\":(1,7), \"bias\":False, \"padding\":(0,3), },},\n",
    "    {\"class\": \"ReLU\", \"kargs\": {\"inplace\": True}},\n",
    "    {\"class\": \"BatchNorm2d\", \"kargs\": {\"num_features\":256}},\n",
    "\n",
    "    {\"class\": \"Conv2d\", \"kargs\": { \"in_channels\":256, \"out_channels\":80, \"kernel_size\":(2,7), \"bias\":True, \"padding\":(0,3), },},\n",
    "    {\"class\": \"ReLU\", \"kargs\": {\"inplace\": True}},\n",
    "    {\"class\": \"BatchNorm2d\", \"kargs\": {\"num_features\":80}},\n",
    "    {\"class\": \"Flatten\", \"kargs\": {}},\n",
    "\n",
    "    {\"class\": \"Linear\", \"kargs\": {\"in_features\": 80*256, \"out_features\": 256}}, # 80 units per IQ pair\n",
    "    {\"class\": \"ReLU\", \"kargs\": {\"inplace\": True}},\n",
    "    {\"class\": \"BatchNorm1d\", \"kargs\": {\"num_features\":256}},\n",
    "\n",
    "    {\"class\": \"Linear\", \"kargs\": {\"in_features\": 256, \"out_features\": 256}},\n",
    "]\n",
    "\n",
    "# Parameters relevant to results\n",
    "# These parameters will basically never need to change\n",
    "standalone_parameters[\"NUM_LOGS_PER_EPOCH\"] = 10\n",
    "standalone_parameters[\"BEST_MODEL_PATH\"] = \"./best_model.pth\"\n",
    "\n",
    "# uncomment for CORES dataset\n",
    "from steves_utils.CORES.utils import (\n",
    "    ALL_NODES,\n",
    "    ALL_NODES_MINIMUM_1000_EXAMPLES,\n",
    "    ALL_DAYS\n",
    ")\n",
    "\n",
    "\n",
    "standalone_parameters[\"labels_source\"] = ALL_NODES\n",
    "standalone_parameters[\"labels_target\"] = ALL_NODES\n",
    "\n",
    "standalone_parameters[\"domains_source\"] = [1]\n",
    "standalone_parameters[\"domains_target\"] = [2,3,4,5]\n",
    "\n",
    "standalone_parameters[\"pickle_name\"] = \"cores.stratified_ds.2022A.pkl\"\n",
    "\n",
    "\n",
    "# Uncomment these for ORACLE dataset\n",
    "# from steves_utils.ORACLE.utils_v2 import (\n",
    "#     ALL_DISTANCES_FEET,\n",
    "#     ALL_RUNS,\n",
    "#     ALL_SERIAL_NUMBERS,\n",
    "# )\n",
    "# standalone_parameters[\"labels_source\"] = ALL_SERIAL_NUMBERS\n",
    "# standalone_parameters[\"labels_target\"] = ALL_SERIAL_NUMBERS\n",
    "# standalone_parameters[\"domains_source\"] = [8,20, 38,50]\n",
    "# standalone_parameters[\"domains_target\"] = [14, 26, 32, 44, 56]\n",
    "# standalone_parameters[\"pickle_name\"] = \"oracle.frame_indexed.stratified_ds.2022A.pkl\"\n",
    "# standalone_parameters[\"num_examples_per_domain_per_label_source\"]=1000\n",
    "# standalone_parameters[\"num_examples_per_domain_per_label_target\"]=1000\n",
    "\n",
    "# Uncomment these for Metahan dataset\n",
    "# standalone_parameters[\"labels_source\"] = list(range(19))\n",
    "# standalone_parameters[\"labels_target\"] = list(range(19))\n",
    "# standalone_parameters[\"domains_source\"] = [0]\n",
    "# standalone_parameters[\"domains_target\"] = [1]\n",
    "# standalone_parameters[\"pickle_name\"] = \"metehan.stratified_ds.2022A.pkl\"\n",
    "# standalone_parameters[\"n_way\"]  = len(standalone_parameters[\"labels_source\"])\n",
    "# standalone_parameters[\"num_examples_per_domain_per_label_source\"]=200\n",
    "# standalone_parameters[\"num_examples_per_domain_per_label_target\"]=100\n",
    "\n",
    "\n",
    "standalone_parameters[\"n_way\"]  = len(standalone_parameters[\"labels_source\"])"
   ]
  },
  {
   "cell_type": "code",
   "execution_count": 4,
   "id": "02f31a59",
   "metadata": {
    "execution": {
     "iopub.execute_input": "2022-03-06T17:25:11.152816Z",
     "iopub.status.busy": "2022-03-06T17:25:11.152396Z",
     "iopub.status.idle": "2022-03-06T17:25:11.164012Z",
     "shell.execute_reply": "2022-03-06T17:25:11.164414Z"
    },
    "papermill": {
     "duration": 0.030167,
     "end_time": "2022-03-06T17:25:11.164541",
     "exception": false,
     "start_time": "2022-03-06T17:25:11.134374",
     "status": "completed"
    },
    "tags": [
     "injected-parameters"
    ]
   },
   "outputs": [],
   "source": [
    "# Parameters\n",
    "parameters = {\n",
    "    \"experiment_name\": \"tuned_1_oracle.run2_limited\",\n",
    "    \"device\": \"cuda\",\n",
    "    \"lr\": 0.001,\n",
    "    \"seed\": 1337,\n",
    "    \"dataset_seed\": 1337,\n",
    "    \"labels_source\": [\n",
    "        \"3123D52\",\n",
    "        \"3123D65\",\n",
    "        \"3123D79\",\n",
    "        \"3123D80\",\n",
    "        \"3123D54\",\n",
    "        \"3123D70\",\n",
    "        \"3123D7B\",\n",
    "        \"3123D89\",\n",
    "        \"3123D58\",\n",
    "        \"3123D76\",\n",
    "        \"3123D7D\",\n",
    "        \"3123EFE\",\n",
    "        \"3123D64\",\n",
    "        \"3123D78\",\n",
    "        \"3123D7E\",\n",
    "        \"3124E4A\",\n",
    "    ],\n",
    "    \"labels_target\": [\n",
    "        \"3123D52\",\n",
    "        \"3123D65\",\n",
    "        \"3123D79\",\n",
    "        \"3123D80\",\n",
    "        \"3123D54\",\n",
    "        \"3123D70\",\n",
    "        \"3123D7B\",\n",
    "        \"3123D89\",\n",
    "        \"3123D58\",\n",
    "        \"3123D76\",\n",
    "        \"3123D7D\",\n",
    "        \"3123EFE\",\n",
    "        \"3123D64\",\n",
    "        \"3123D78\",\n",
    "        \"3123D7E\",\n",
    "        \"3124E4A\",\n",
    "    ],\n",
    "    \"x_transforms_source\": [\"unit_mag\"],\n",
    "    \"x_transforms_target\": [\"unit_mag\"],\n",
    "    \"episode_transforms_source\": [],\n",
    "    \"episode_transforms_target\": [],\n",
    "    \"domains_source\": [8, 32, 50],\n",
    "    \"domains_target\": [14, 20, 26, 38, 44],\n",
    "    \"num_examples_per_domain_per_label_source\": 2000,\n",
    "    \"num_examples_per_domain_per_label_target\": 1000,\n",
    "    \"n_shot\": 3,\n",
    "    \"n_way\": 16,\n",
    "    \"n_query\": 2,\n",
    "    \"train_k_factor\": 3,\n",
    "    \"val_k_factor\": 2,\n",
    "    \"test_k_factor\": 2,\n",
    "    \"torch_default_dtype\": \"torch.float32\",\n",
    "    \"n_epoch\": 50,\n",
    "    \"patience\": 3,\n",
    "    \"criteria_for_best\": \"target_loss\",\n",
    "    \"x_net\": [\n",
    "        {\"class\": \"nnReshape\", \"kargs\": {\"shape\": [-1, 1, 2, 256]}},\n",
    "        {\n",
    "            \"class\": \"Conv2d\",\n",
    "            \"kargs\": {\n",
    "                \"in_channels\": 1,\n",
    "                \"out_channels\": 256,\n",
    "                \"kernel_size\": [1, 7],\n",
    "                \"bias\": False,\n",
    "                \"padding\": [0, 3],\n",
    "            },\n",
    "        },\n",
    "        {\"class\": \"ReLU\", \"kargs\": {\"inplace\": True}},\n",
    "        {\"class\": \"BatchNorm2d\", \"kargs\": {\"num_features\": 256}},\n",
    "        {\n",
    "            \"class\": \"Conv2d\",\n",
    "            \"kargs\": {\n",
    "                \"in_channels\": 256,\n",
    "                \"out_channels\": 80,\n",
    "                \"kernel_size\": [2, 7],\n",
    "                \"bias\": True,\n",
    "                \"padding\": [0, 3],\n",
    "            },\n",
    "        },\n",
    "        {\"class\": \"ReLU\", \"kargs\": {\"inplace\": True}},\n",
    "        {\"class\": \"BatchNorm2d\", \"kargs\": {\"num_features\": 80}},\n",
    "        {\"class\": \"Flatten\", \"kargs\": {}},\n",
    "        {\"class\": \"Linear\", \"kargs\": {\"in_features\": 20480, \"out_features\": 256}},\n",
    "        {\"class\": \"ReLU\", \"kargs\": {\"inplace\": True}},\n",
    "        {\"class\": \"BatchNorm1d\", \"kargs\": {\"num_features\": 256}},\n",
    "        {\"class\": \"Linear\", \"kargs\": {\"in_features\": 256, \"out_features\": 256}},\n",
    "    ],\n",
    "    \"NUM_LOGS_PER_EPOCH\": 10,\n",
    "    \"BEST_MODEL_PATH\": \"./best_model.pth\",\n",
    "    \"pickle_name\": \"oracle.Run2_10kExamples_stratified_ds.2022A.pkl\",\n",
    "}\n"
   ]
  },
  {
   "cell_type": "code",
   "execution_count": 5,
   "id": "8fa1cc33",
   "metadata": {
    "execution": {
     "iopub.execute_input": "2022-03-06T17:25:11.190332Z",
     "iopub.status.busy": "2022-03-06T17:25:11.190065Z",
     "iopub.status.idle": "2022-03-06T17:25:11.205112Z",
     "shell.execute_reply": "2022-03-06T17:25:11.205492Z"
    },
    "papermill": {
     "duration": 0.026299,
     "end_time": "2022-03-06T17:25:11.205620",
     "exception": false,
     "start_time": "2022-03-06T17:25:11.179321",
     "status": "completed"
    },
    "tags": []
   },
   "outputs": [],
   "source": [
    "# Set this to True if you want to run this template directly\n",
    "STANDALONE = False\n",
    "if STANDALONE:\n",
    "    print(\"parameters not injected, running with standalone_parameters\")\n",
    "    parameters = standalone_parameters\n",
    "\n",
    "if not 'parameters' in locals() and not 'parameters' in globals():\n",
    "    raise Exception(\"Parameter injection failed\")\n",
    "\n",
    "#Use an easy dict for all the parameters\n",
    "p = EasyDict(parameters)\n",
    "\n",
    "supplied_keys = set(p.keys())\n",
    "\n",
    "if  supplied_keys != required_parameters:\n",
    "    print(\"Parameters are incorrect\")\n",
    "    if len(supplied_keys - required_parameters)>0: print(\"Shouldn't have:\", str(supplied_keys - required_parameters))\n",
    "    if len(required_parameters - supplied_keys)>0: print(\"Need to have:\", str(required_parameters - supplied_keys))\n",
    "    raise RuntimeError(\"Parameters are incorrect\")\n",
    "\n"
   ]
  },
  {
   "cell_type": "code",
   "execution_count": 6,
   "id": "3a028d58",
   "metadata": {
    "execution": {
     "iopub.execute_input": "2022-03-06T17:25:11.231230Z",
     "iopub.status.busy": "2022-03-06T17:25:11.230949Z",
     "iopub.status.idle": "2022-03-06T17:25:11.240396Z",
     "shell.execute_reply": "2022-03-06T17:25:11.240787Z"
    },
    "papermill": {
     "duration": 0.020864,
     "end_time": "2022-03-06T17:25:11.240909",
     "exception": false,
     "start_time": "2022-03-06T17:25:11.220045",
     "status": "completed"
    },
    "tags": []
   },
   "outputs": [],
   "source": [
    "###################################\n",
    "# Set the RNGs and make it all deterministic\n",
    "###################################\n",
    "np.random.seed(p.seed)\n",
    "random.seed(p.seed)\n",
    "torch.manual_seed(p.seed)\n",
    "\n",
    "torch.use_deterministic_algorithms(True) "
   ]
  },
  {
   "cell_type": "code",
   "execution_count": 7,
   "id": "b691acf6",
   "metadata": {
    "execution": {
     "iopub.execute_input": "2022-03-06T17:25:11.265096Z",
     "iopub.status.busy": "2022-03-06T17:25:11.264845Z",
     "iopub.status.idle": "2022-03-06T17:25:11.278827Z",
     "shell.execute_reply": "2022-03-06T17:25:11.279038Z"
    },
    "papermill": {
     "duration": 0.02562,
     "end_time": "2022-03-06T17:25:11.279112",
     "exception": false,
     "start_time": "2022-03-06T17:25:11.253492",
     "status": "completed"
    },
    "tags": []
   },
   "outputs": [],
   "source": [
    "###########################################\n",
    "# The stratified datasets honor this\n",
    "###########################################\n",
    "torch.set_default_dtype(eval(p.torch_default_dtype))"
   ]
  },
  {
   "cell_type": "code",
   "execution_count": 8,
   "id": "b5fba671",
   "metadata": {
    "execution": {
     "iopub.execute_input": "2022-03-06T17:25:11.304007Z",
     "iopub.status.busy": "2022-03-06T17:25:11.303754Z",
     "iopub.status.idle": "2022-03-06T17:25:11.337905Z",
     "shell.execute_reply": "2022-03-06T17:25:11.338218Z"
    },
    "papermill": {
     "duration": 0.045618,
     "end_time": "2022-03-06T17:25:11.338323",
     "exception": false,
     "start_time": "2022-03-06T17:25:11.292705",
     "status": "completed"
    },
    "tags": []
   },
   "outputs": [],
   "source": [
    "###################################\n",
    "# Build the network(s)\n",
    "# Note: It's critical to do this AFTER setting the RNG\n",
    "# (This is due to the randomized initial weights)\n",
    "###################################\n",
    "x_net = build_sequential(p.x_net)"
   ]
  },
  {
   "cell_type": "code",
   "execution_count": 9,
   "id": "5d7e61cc",
   "metadata": {
    "execution": {
     "iopub.execute_input": "2022-03-06T17:25:11.362917Z",
     "iopub.status.busy": "2022-03-06T17:25:11.362190Z",
     "iopub.status.idle": "2022-03-06T17:25:11.373868Z",
     "shell.execute_reply": "2022-03-06T17:25:11.374081Z"
    },
    "papermill": {
     "duration": 0.02303,
     "end_time": "2022-03-06T17:25:11.374156",
     "exception": false,
     "start_time": "2022-03-06T17:25:11.351126",
     "status": "completed"
    },
    "tags": []
   },
   "outputs": [],
   "source": [
    "start_time_secs = time.time()"
   ]
  },
  {
   "cell_type": "code",
   "execution_count": 10,
   "id": "fd5442bc",
   "metadata": {
    "execution": {
     "iopub.execute_input": "2022-03-06T17:25:11.404759Z",
     "iopub.status.busy": "2022-03-06T17:25:11.397613Z",
     "iopub.status.idle": "2022-03-06T17:25:32.631874Z",
     "shell.execute_reply": "2022-03-06T17:25:32.632272Z"
    },
    "papermill": {
     "duration": 21.245581,
     "end_time": "2022-03-06T17:25:32.632408",
     "exception": false,
     "start_time": "2022-03-06T17:25:11.386827",
     "status": "completed"
    },
    "tags": []
   },
   "outputs": [],
   "source": [
    "###################################\n",
    "# Build the dataset\n",
    "###################################\n",
    "\n",
    "if p.x_transforms_source == []: x_transform_source = None\n",
    "else: x_transform_source = get_chained_transform(p.x_transforms_source) \n",
    "\n",
    "if p.x_transforms_target == []: x_transform_target = None\n",
    "else: x_transform_target = get_chained_transform(p.x_transforms_target)\n",
    "\n",
    "if p.episode_transforms_source == []: episode_transform_source = None\n",
    "else: raise Exception(\"episode_transform_source not implemented\")\n",
    "\n",
    "if p.episode_transforms_target == []: episode_transform_target = None\n",
    "else: raise Exception(\"episode_transform_target not implemented\")\n",
    "\n",
    "\n",
    "eaf_source = Episodic_Accessor_Factory(\n",
    "    labels=p.labels_source,\n",
    "    domains=p.domains_source,\n",
    "    num_examples_per_domain_per_label=p.num_examples_per_domain_per_label_source,\n",
    "    iterator_seed=p.seed,\n",
    "    dataset_seed=p.dataset_seed,\n",
    "    n_shot=p.n_shot,\n",
    "    n_way=p.n_way,\n",
    "    n_query=p.n_query,\n",
    "    train_val_test_k_factors=(p.train_k_factor,p.val_k_factor,p.test_k_factor),\n",
    "    pickle_path=os.path.join(get_datasets_base_path(), p.pickle_name),\n",
    "    x_transform_func=x_transform_source,\n",
    "    example_transform_func=episode_transform_source,\n",
    "    \n",
    ")\n",
    "train_original_source, val_original_source, test_original_source = eaf_source.get_train(), eaf_source.get_val(), eaf_source.get_test()\n",
    "\n",
    "\n",
    "eaf_target = Episodic_Accessor_Factory(\n",
    "    labels=p.labels_target,\n",
    "    domains=p.domains_target,\n",
    "    num_examples_per_domain_per_label=p.num_examples_per_domain_per_label_target,\n",
    "    iterator_seed=p.seed,\n",
    "    dataset_seed=p.dataset_seed,\n",
    "    n_shot=p.n_shot,\n",
    "    n_way=p.n_way,\n",
    "    n_query=p.n_query,\n",
    "    train_val_test_k_factors=(p.train_k_factor,p.val_k_factor,p.test_k_factor),\n",
    "    pickle_path=os.path.join(get_datasets_base_path(), p.pickle_name),\n",
    "    x_transform_func=x_transform_target,\n",
    "    example_transform_func=episode_transform_target,\n",
    ")\n",
    "train_original_target, val_original_target, test_original_target = eaf_target.get_train(), eaf_target.get_val(), eaf_target.get_test()\n",
    "\n",
    "\n",
    "transform_lambda = lambda ex: ex[1] # Original is (<domain>, <episode>) so we strip down to episode only\n",
    "\n",
    "train_processed_source = Lazy_Iterable_Wrapper(train_original_source, transform_lambda)\n",
    "val_processed_source   = Lazy_Iterable_Wrapper(val_original_source, transform_lambda)\n",
    "test_processed_source  = Lazy_Iterable_Wrapper(test_original_source, transform_lambda)\n",
    "\n",
    "train_processed_target = Lazy_Iterable_Wrapper(train_original_target, transform_lambda)\n",
    "val_processed_target   = Lazy_Iterable_Wrapper(val_original_target, transform_lambda)\n",
    "test_processed_target  = Lazy_Iterable_Wrapper(test_original_target, transform_lambda)\n",
    "\n",
    "datasets = EasyDict({\n",
    "    \"source\": {\n",
    "        \"original\": {\"train\":train_original_source, \"val\":val_original_source, \"test\":test_original_source},\n",
    "        \"processed\": {\"train\":train_processed_source, \"val\":val_processed_source, \"test\":test_processed_source}\n",
    "    },\n",
    "    \"target\": {\n",
    "        \"original\": {\"train\":train_original_target, \"val\":val_original_target, \"test\":test_original_target},\n",
    "        \"processed\": {\"train\":train_processed_target, \"val\":val_processed_target, \"test\":test_processed_target}\n",
    "    },\n",
    "})"
   ]
  },
  {
   "cell_type": "code",
   "execution_count": 11,
   "id": "296189d9",
   "metadata": {
    "execution": {
     "iopub.execute_input": "2022-03-06T17:25:32.663873Z",
     "iopub.status.busy": "2022-03-06T17:25:32.663619Z",
     "iopub.status.idle": "2022-03-06T17:25:34.219207Z",
     "shell.execute_reply": "2022-03-06T17:25:34.219684Z"
    },
    "papermill": {
     "duration": 1.569346,
     "end_time": "2022-03-06T17:25:34.219805",
     "exception": false,
     "start_time": "2022-03-06T17:25:32.650459",
     "status": "completed"
    },
    "tags": []
   },
   "outputs": [
    {
     "name": "stdout",
     "output_type": "stream",
     "text": [
      "Visually inspect these to see if they line up with expected values given the transforms\n",
      "x_transforms_source ['unit_mag']\n",
      "x_transforms_target ['unit_mag']\n",
      "Average magnitude, source: 1.0\n",
      "Average power, source: 1.2461352\n"
     ]
    },
    {
     "name": "stdout",
     "output_type": "stream",
     "text": [
      "Average magnitude, target: 1.0\n",
      "Average power, target: 1.28585\n"
     ]
    }
   ],
   "source": [
    "# Some quick unit tests on the data\n",
    "from steves_utils.transforms import get_average_power, get_average_magnitude\n",
    "\n",
    "q_x, q_y, s_x, s_y, truth = next(iter(train_processed_source))\n",
    "\n",
    "assert q_x.dtype == eval(p.torch_default_dtype)\n",
    "assert s_x.dtype == eval(p.torch_default_dtype)\n",
    "\n",
    "print(\"Visually inspect these to see if they line up with expected values given the transforms\")\n",
    "print('x_transforms_source', p.x_transforms_source)\n",
    "print('x_transforms_target', p.x_transforms_target)\n",
    "print(\"Average magnitude, source:\", get_average_magnitude(q_x[0].numpy()))\n",
    "print(\"Average power, source:\", get_average_power(q_x[0].numpy()))\n",
    "\n",
    "q_x, q_y, s_x, s_y, truth = next(iter(train_processed_target))\n",
    "print(\"Average magnitude, target:\", get_average_magnitude(q_x[0].numpy()))\n",
    "print(\"Average power, target:\", get_average_power(q_x[0].numpy()))\n"
   ]
  },
  {
   "cell_type": "code",
   "execution_count": 12,
   "id": "bbdacba1",
   "metadata": {
    "execution": {
     "iopub.execute_input": "2022-03-06T17:25:34.249080Z",
     "iopub.status.busy": "2022-03-06T17:25:34.247850Z",
     "iopub.status.idle": "2022-03-06T17:25:34.306352Z",
     "shell.execute_reply": "2022-03-06T17:25:34.306786Z"
    },
    "papermill": {
     "duration": 0.071488,
     "end_time": "2022-03-06T17:25:34.306913",
     "exception": false,
     "start_time": "2022-03-06T17:25:34.235425",
     "status": "completed"
    },
    "tags": []
   },
   "outputs": [
    {
     "name": "stdout",
     "output_type": "stream",
     "text": [
      "(2, 256)\n"
     ]
    }
   ],
   "source": [
    "###################################\n",
    "# Build the model\n",
    "###################################\n",
    "model = Steves_Prototypical_Network(x_net, device=p.device, x_shape=(2,256))\n",
    "optimizer = Adam(params=model.parameters(), lr=p.lr)"
   ]
  },
  {
   "cell_type": "code",
   "execution_count": 13,
   "id": "22b39ac5",
   "metadata": {
    "execution": {
     "iopub.execute_input": "2022-03-06T17:25:34.336340Z",
     "iopub.status.busy": "2022-03-06T17:25:34.336084Z",
     "iopub.status.idle": "2022-03-06T17:33:59.641397Z",
     "shell.execute_reply": "2022-03-06T17:33:59.641163Z"
    },
    "papermill": {
     "duration": 505.317854,
     "end_time": "2022-03-06T17:33:59.641457",
     "exception": false,
     "start_time": "2022-03-06T17:25:34.323603",
     "status": "completed"
    },
    "tags": []
   },
   "outputs": [
    {
     "name": "stdout",
     "output_type": "stream",
     "text": [
      "epoch: 1, [batch: 1 / 2520], examples_per_second: 128.2760, train_label_loss: 2.7842, \n"
     ]
    },
    {
     "name": "stdout",
     "output_type": "stream",
     "text": [
      "epoch: 1, [batch: 252 / 2520], examples_per_second: 3222.8824, train_label_loss: 2.7197, \n"
     ]
    },
    {
     "name": "stdout",
     "output_type": "stream",
     "text": [
      "epoch: 1, [batch: 504 / 2520], examples_per_second: 3243.7904, train_label_loss: 2.0178, \n"
     ]
    },
    {
     "name": "stdout",
     "output_type": "stream",
     "text": [
      "epoch: 1, [batch: 756 / 2520], examples_per_second: 3263.6197, train_label_loss: 1.5208, \n"
     ]
    },
    {
     "name": "stdout",
     "output_type": "stream",
     "text": [
      "epoch: 1, [batch: 1008 / 2520], examples_per_second: 3248.9255, train_label_loss: 1.2951, \n"
     ]
    },
    {
     "name": "stdout",
     "output_type": "stream",
     "text": [
      "epoch: 1, [batch: 1260 / 2520], examples_per_second: 3247.0430, train_label_loss: 1.2883, \n"
     ]
    },
    {
     "name": "stdout",
     "output_type": "stream",
     "text": [
      "epoch: 1, [batch: 1512 / 2520], examples_per_second: 3262.4271, train_label_loss: 1.3728, \n"
     ]
    },
    {
     "name": "stdout",
     "output_type": "stream",
     "text": [
      "epoch: 1, [batch: 1764 / 2520], examples_per_second: 3232.0264, train_label_loss: 1.1166, \n"
     ]
    },
    {
     "name": "stdout",
     "output_type": "stream",
     "text": [
      "epoch: 1, [batch: 2016 / 2520], examples_per_second: 3239.8688, train_label_loss: 1.1874, \n"
     ]
    },
    {
     "name": "stdout",
     "output_type": "stream",
     "text": [
      "epoch: 1, [batch: 2268 / 2520], examples_per_second: 3237.7072, train_label_loss: 1.1708, \n"
     ]
    },
    {
     "name": "stdout",
     "output_type": "stream",
     "text": [
      "=============================================================\n",
      "epoch: 1, source_val_acc_label: 0.4807, target_val_acc_label: 0.3692, source_val_label_loss: 1.4201, target_val_label_loss: 1.8749, \n",
      "=============================================================\n"
     ]
    },
    {
     "name": "stdout",
     "output_type": "stream",
     "text": [
      "New best\n"
     ]
    },
    {
     "name": "stdout",
     "output_type": "stream",
     "text": [
      "epoch: 2, [batch: 1 / 2520], examples_per_second: 13.2474, train_label_loss: 0.8912, \n"
     ]
    },
    {
     "name": "stdout",
     "output_type": "stream",
     "text": [
      "epoch: 2, [batch: 252 / 2520], examples_per_second: 3282.6450, train_label_loss: 1.1787, \n"
     ]
    },
    {
     "name": "stdout",
     "output_type": "stream",
     "text": [
      "epoch: 2, [batch: 504 / 2520], examples_per_second: 3253.4276, train_label_loss: 1.2863, \n"
     ]
    },
    {
     "name": "stdout",
     "output_type": "stream",
     "text": [
      "epoch: 2, [batch: 756 / 2520], examples_per_second: 3235.5546, train_label_loss: 1.5118, \n"
     ]
    },
    {
     "name": "stdout",
     "output_type": "stream",
     "text": [
      "epoch: 2, [batch: 1008 / 2520], examples_per_second: 3247.0119, train_label_loss: 1.3851, \n"
     ]
    },
    {
     "name": "stdout",
     "output_type": "stream",
     "text": [
      "epoch: 2, [batch: 1260 / 2520], examples_per_second: 3263.0897, train_label_loss: 1.5591, \n"
     ]
    },
    {
     "name": "stdout",
     "output_type": "stream",
     "text": [
      "epoch: 2, [batch: 1512 / 2520], examples_per_second: 3241.1720, train_label_loss: 1.1411, \n"
     ]
    },
    {
     "name": "stdout",
     "output_type": "stream",
     "text": [
      "epoch: 2, [batch: 1764 / 2520], examples_per_second: 3253.5016, train_label_loss: 1.2310, \n"
     ]
    },
    {
     "name": "stdout",
     "output_type": "stream",
     "text": [
      "epoch: 2, [batch: 2016 / 2520], examples_per_second: 3269.0137, train_label_loss: 1.5739, \n"
     ]
    },
    {
     "name": "stdout",
     "output_type": "stream",
     "text": [
      "epoch: 2, [batch: 2268 / 2520], examples_per_second: 3260.1444, train_label_loss: 0.9554, \n"
     ]
    },
    {
     "name": "stdout",
     "output_type": "stream",
     "text": [
      "=============================================================\n",
      "epoch: 2, source_val_acc_label: 0.5713, target_val_acc_label: 0.4807, source_val_label_loss: 1.1059, target_val_label_loss: 1.4725, \n",
      "=============================================================\n"
     ]
    },
    {
     "name": "stdout",
     "output_type": "stream",
     "text": [
      "New best\n"
     ]
    },
    {
     "name": "stdout",
     "output_type": "stream",
     "text": [
      "epoch: 3, [batch: 1 / 2520], examples_per_second: 13.1355, train_label_loss: 1.1093, \n"
     ]
    },
    {
     "name": "stdout",
     "output_type": "stream",
     "text": [
      "epoch: 3, [batch: 252 / 2520], examples_per_second: 3217.1867, train_label_loss: 0.6861, \n"
     ]
    },
    {
     "name": "stdout",
     "output_type": "stream",
     "text": [
      "epoch: 3, [batch: 504 / 2520], examples_per_second: 3239.4707, train_label_loss: 0.6422, \n"
     ]
    },
    {
     "name": "stdout",
     "output_type": "stream",
     "text": [
      "epoch: 3, [batch: 756 / 2520], examples_per_second: 3250.4082, train_label_loss: 1.2040, \n"
     ]
    },
    {
     "name": "stdout",
     "output_type": "stream",
     "text": [
      "epoch: 3, [batch: 1008 / 2520], examples_per_second: 3235.9389, train_label_loss: 0.8687, \n"
     ]
    },
    {
     "name": "stdout",
     "output_type": "stream",
     "text": [
      "epoch: 3, [batch: 1260 / 2520], examples_per_second: 3159.4553, train_label_loss: 1.2042, \n"
     ]
    },
    {
     "name": "stdout",
     "output_type": "stream",
     "text": [
      "epoch: 3, [batch: 1512 / 2520], examples_per_second: 3237.2618, train_label_loss: 0.8421, \n"
     ]
    },
    {
     "name": "stdout",
     "output_type": "stream",
     "text": [
      "epoch: 3, [batch: 1764 / 2520], examples_per_second: 3167.0741, train_label_loss: 0.6741, \n"
     ]
    },
    {
     "name": "stdout",
     "output_type": "stream",
     "text": [
      "epoch: 3, [batch: 2016 / 2520], examples_per_second: 3170.0790, train_label_loss: 0.8516, \n"
     ]
    },
    {
     "name": "stdout",
     "output_type": "stream",
     "text": [
      "epoch: 3, [batch: 2268 / 2520], examples_per_second: 3191.1123, train_label_loss: 0.5287, \n"
     ]
    },
    {
     "name": "stdout",
     "output_type": "stream",
     "text": [
      "=============================================================\n",
      "epoch: 3, source_val_acc_label: 0.5802, target_val_acc_label: 0.4875, source_val_label_loss: 1.0854, target_val_label_loss: 1.4406, \n",
      "=============================================================\n"
     ]
    },
    {
     "name": "stdout",
     "output_type": "stream",
     "text": [
      "New best\n"
     ]
    },
    {
     "name": "stdout",
     "output_type": "stream",
     "text": [
      "epoch: 4, [batch: 1 / 2520], examples_per_second: 13.0105, train_label_loss: 0.5900, \n"
     ]
    },
    {
     "name": "stdout",
     "output_type": "stream",
     "text": [
      "epoch: 4, [batch: 252 / 2520], examples_per_second: 2627.6637, train_label_loss: 0.8935, \n"
     ]
    },
    {
     "name": "stdout",
     "output_type": "stream",
     "text": [
      "epoch: 4, [batch: 504 / 2520], examples_per_second: 1752.1743, train_label_loss: 1.0817, \n"
     ]
    },
    {
     "name": "stdout",
     "output_type": "stream",
     "text": [
      "epoch: 4, [batch: 756 / 2520], examples_per_second: 3005.7283, train_label_loss: 0.7839, \n"
     ]
    },
    {
     "name": "stdout",
     "output_type": "stream",
     "text": [
      "epoch: 4, [batch: 1008 / 2520], examples_per_second: 1806.7833, train_label_loss: 0.6195, \n"
     ]
    },
    {
     "name": "stdout",
     "output_type": "stream",
     "text": [
      "epoch: 4, [batch: 1260 / 2520], examples_per_second: 2436.4669, train_label_loss: 0.9614, \n"
     ]
    },
    {
     "name": "stdout",
     "output_type": "stream",
     "text": [
      "epoch: 4, [batch: 1512 / 2520], examples_per_second: 2256.8304, train_label_loss: 1.0713, \n"
     ]
    },
    {
     "name": "stdout",
     "output_type": "stream",
     "text": [
      "epoch: 4, [batch: 1764 / 2520], examples_per_second: 1911.2865, train_label_loss: 0.6688, \n"
     ]
    },
    {
     "name": "stdout",
     "output_type": "stream",
     "text": [
      "epoch: 4, [batch: 2016 / 2520], examples_per_second: 3089.8498, train_label_loss: 0.8751, \n"
     ]
    },
    {
     "name": "stdout",
     "output_type": "stream",
     "text": [
      "epoch: 4, [batch: 2268 / 2520], examples_per_second: 1681.9588, train_label_loss: 0.9508, \n"
     ]
    },
    {
     "name": "stdout",
     "output_type": "stream",
     "text": [
      "=============================================================\n",
      "epoch: 4, source_val_acc_label: 0.6075, target_val_acc_label: 0.5034, source_val_label_loss: 1.1081, target_val_label_loss: 1.5405, \n",
      "=============================================================\n"
     ]
    },
    {
     "name": "stdout",
     "output_type": "stream",
     "text": [
      "epoch: 5, [batch: 1 / 2520], examples_per_second: 12.1982, train_label_loss: 0.6787, \n"
     ]
    },
    {
     "name": "stdout",
     "output_type": "stream",
     "text": [
      "epoch: 5, [batch: 252 / 2520], examples_per_second: 3198.3631, train_label_loss: 0.6909, \n"
     ]
    },
    {
     "name": "stdout",
     "output_type": "stream",
     "text": [
      "epoch: 5, [batch: 504 / 2520], examples_per_second: 3201.4737, train_label_loss: 0.4477, \n"
     ]
    },
    {
     "name": "stdout",
     "output_type": "stream",
     "text": [
      "epoch: 5, [batch: 756 / 2520], examples_per_second: 3241.4390, train_label_loss: 0.7968, \n"
     ]
    },
    {
     "name": "stdout",
     "output_type": "stream",
     "text": [
      "epoch: 5, [batch: 1008 / 2520], examples_per_second: 3247.0355, train_label_loss: 0.4386, \n"
     ]
    },
    {
     "name": "stdout",
     "output_type": "stream",
     "text": [
      "epoch: 5, [batch: 1260 / 2520], examples_per_second: 3233.4766, train_label_loss: 0.6778, \n"
     ]
    },
    {
     "name": "stdout",
     "output_type": "stream",
     "text": [
      "epoch: 5, [batch: 1512 / 2520], examples_per_second: 3249.7365, train_label_loss: 0.6645, \n"
     ]
    },
    {
     "name": "stdout",
     "output_type": "stream",
     "text": [
      "epoch: 5, [batch: 1764 / 2520], examples_per_second: 3221.1980, train_label_loss: 0.3973, \n"
     ]
    },
    {
     "name": "stdout",
     "output_type": "stream",
     "text": [
      "epoch: 5, [batch: 2016 / 2520], examples_per_second: 3242.2584, train_label_loss: 0.3447, \n"
     ]
    },
    {
     "name": "stdout",
     "output_type": "stream",
     "text": [
      "epoch: 5, [batch: 2268 / 2520], examples_per_second: 3236.9500, train_label_loss: 0.6865, \n"
     ]
    },
    {
     "name": "stdout",
     "output_type": "stream",
     "text": [
      "=============================================================\n",
      "epoch: 5, source_val_acc_label: 0.6113, target_val_acc_label: 0.5047, source_val_label_loss: 1.1327, target_val_label_loss: 1.5628, \n",
      "=============================================================\n"
     ]
    },
    {
     "name": "stdout",
     "output_type": "stream",
     "text": [
      "epoch: 6, [batch: 1 / 2520], examples_per_second: 13.2861, train_label_loss: 0.6360, \n"
     ]
    },
    {
     "name": "stdout",
     "output_type": "stream",
     "text": [
      "epoch: 6, [batch: 252 / 2520], examples_per_second: 3244.4464, train_label_loss: 0.4695, \n"
     ]
    },
    {
     "name": "stdout",
     "output_type": "stream",
     "text": [
      "epoch: 6, [batch: 504 / 2520], examples_per_second: 3242.3599, train_label_loss: 0.4385, \n"
     ]
    },
    {
     "name": "stdout",
     "output_type": "stream",
     "text": [
      "epoch: 6, [batch: 756 / 2520], examples_per_second: 3247.1217, train_label_loss: 0.7067, \n"
     ]
    },
    {
     "name": "stdout",
     "output_type": "stream",
     "text": [
      "epoch: 6, [batch: 1008 / 2520], examples_per_second: 3235.6186, train_label_loss: 0.7056, \n"
     ]
    },
    {
     "name": "stdout",
     "output_type": "stream",
     "text": [
      "epoch: 6, [batch: 1260 / 2520], examples_per_second: 3248.5306, train_label_loss: 0.8355, \n"
     ]
    },
    {
     "name": "stdout",
     "output_type": "stream",
     "text": [
      "epoch: 6, [batch: 1512 / 2520], examples_per_second: 3250.4274, train_label_loss: 0.6010, \n"
     ]
    },
    {
     "name": "stdout",
     "output_type": "stream",
     "text": [
      "epoch: 6, [batch: 1764 / 2520], examples_per_second: 3232.1274, train_label_loss: 0.4258, \n"
     ]
    },
    {
     "name": "stdout",
     "output_type": "stream",
     "text": [
      "epoch: 6, [batch: 2016 / 2520], examples_per_second: 3255.9110, train_label_loss: 0.4780, \n"
     ]
    },
    {
     "name": "stdout",
     "output_type": "stream",
     "text": [
      "epoch: 6, [batch: 2268 / 2520], examples_per_second: 3250.7861, train_label_loss: 0.5021, \n"
     ]
    },
    {
     "name": "stdout",
     "output_type": "stream",
     "text": [
      "=============================================================\n",
      "epoch: 6, source_val_acc_label: 0.6181, target_val_acc_label: 0.5104, source_val_label_loss: 1.2203, target_val_label_loss: 1.6898, \n",
      "=============================================================\n"
     ]
    },
    {
     "name": "stdout",
     "output_type": "stream",
     "text": [
      "epoch: 7, [batch: 1 / 2520], examples_per_second: 13.1728, train_label_loss: 0.4392, \n"
     ]
    },
    {
     "name": "stdout",
     "output_type": "stream",
     "text": [
      "epoch: 7, [batch: 252 / 2520], examples_per_second: 3217.4701, train_label_loss: 0.3842, \n"
     ]
    },
    {
     "name": "stdout",
     "output_type": "stream",
     "text": [
      "epoch: 7, [batch: 504 / 2520], examples_per_second: 3242.8628, train_label_loss: 0.2488, \n"
     ]
    },
    {
     "name": "stdout",
     "output_type": "stream",
     "text": [
      "epoch: 7, [batch: 756 / 2520], examples_per_second: 3245.0699, train_label_loss: 0.1022, \n"
     ]
    },
    {
     "name": "stdout",
     "output_type": "stream",
     "text": [
      "epoch: 7, [batch: 1008 / 2520], examples_per_second: 3239.8665, train_label_loss: 0.2904, \n"
     ]
    },
    {
     "name": "stdout",
     "output_type": "stream",
     "text": [
      "epoch: 7, [batch: 1260 / 2520], examples_per_second: 3256.8755, train_label_loss: 0.2505, \n"
     ]
    },
    {
     "name": "stdout",
     "output_type": "stream",
     "text": [
      "epoch: 7, [batch: 1512 / 2520], examples_per_second: 3253.0950, train_label_loss: 0.5590, \n"
     ]
    },
    {
     "name": "stdout",
     "output_type": "stream",
     "text": [
      "epoch: 7, [batch: 1764 / 2520], examples_per_second: 3245.6202, train_label_loss: 0.1402, \n"
     ]
    },
    {
     "name": "stdout",
     "output_type": "stream",
     "text": [
      "epoch: 7, [batch: 2016 / 2520], examples_per_second: 3250.0343, train_label_loss: 0.4608, \n"
     ]
    },
    {
     "name": "stdout",
     "output_type": "stream",
     "text": [
      "epoch: 7, [batch: 2268 / 2520], examples_per_second: 3241.3765, train_label_loss: 0.3529, \n"
     ]
    },
    {
     "name": "stdout",
     "output_type": "stream",
     "text": [
      "=============================================================\n",
      "epoch: 7, source_val_acc_label: 0.6165, target_val_acc_label: 0.5066, source_val_label_loss: 1.2856, target_val_label_loss: 1.7888, \n",
      "=============================================================\n"
     ]
    },
    {
     "name": "stdout",
     "output_type": "stream",
     "text": [
      "Patience (3) exhausted\n"
     ]
    }
   ],
   "source": [
    "###################################\n",
    "# train\n",
    "###################################\n",
    "jig = PTN_Train_Eval_Test_Jig(model, p.BEST_MODEL_PATH, p.device)\n",
    "\n",
    "jig.train(\n",
    "    train_iterable=datasets.source.processed.train,\n",
    "    source_val_iterable=datasets.source.processed.val,\n",
    "    target_val_iterable=datasets.target.processed.val,\n",
    "    num_epochs=p.n_epoch,\n",
    "    num_logs_per_epoch=p.NUM_LOGS_PER_EPOCH,\n",
    "    patience=p.patience,\n",
    "    optimizer=optimizer,\n",
    "    criteria_for_best=p.criteria_for_best,\n",
    ")"
   ]
  },
  {
   "cell_type": "code",
   "execution_count": 14,
   "id": "31e8fabf",
   "metadata": {
    "execution": {
     "iopub.execute_input": "2022-03-06T17:33:59.693727Z",
     "iopub.status.busy": "2022-03-06T17:33:59.693476Z",
     "iopub.status.idle": "2022-03-06T17:33:59.709208Z",
     "shell.execute_reply": "2022-03-06T17:33:59.708556Z"
    },
    "papermill": {
     "duration": 0.043394,
     "end_time": "2022-03-06T17:33:59.709307",
     "exception": false,
     "start_time": "2022-03-06T17:33:59.665913",
     "status": "completed"
    },
    "tags": []
   },
   "outputs": [],
   "source": [
    "total_experiment_time_secs = time.time() - start_time_secs"
   ]
  },
  {
   "cell_type": "code",
   "execution_count": 15,
   "id": "87b9595b",
   "metadata": {
    "execution": {
     "iopub.execute_input": "2022-03-06T17:33:59.768364Z",
     "iopub.status.busy": "2022-03-06T17:33:59.767985Z",
     "iopub.status.idle": "2022-03-06T17:34:33.554780Z",
     "shell.execute_reply": "2022-03-06T17:34:33.554240Z"
    },
    "papermill": {
     "duration": 33.816618,
     "end_time": "2022-03-06T17:34:33.554888",
     "exception": false,
     "start_time": "2022-03-06T17:33:59.738270",
     "status": "completed"
    },
    "tags": []
   },
   "outputs": [],
   "source": [
    "###################################\n",
    "# Evaluate the model\n",
    "###################################\n",
    "source_test_label_accuracy, source_test_label_loss = jig.test(datasets.source.processed.test)\n",
    "target_test_label_accuracy, target_test_label_loss = jig.test(datasets.target.processed.test)\n",
    "\n",
    "source_val_label_accuracy, source_val_label_loss = jig.test(datasets.source.processed.val)\n",
    "target_val_label_accuracy, target_val_label_loss = jig.test(datasets.target.processed.val)\n",
    "\n",
    "history = jig.get_history()\n",
    "\n",
    "total_epochs_trained = len(history[\"epoch_indices\"])\n",
    "\n",
    "val_dl = Iterable_Aggregator((datasets.source.original.val,datasets.target.original.val))\n",
    "\n",
    "confusion = ptn_confusion_by_domain_over_dataloader(model, p.device, val_dl)\n",
    "per_domain_accuracy = per_domain_accuracy_from_confusion(confusion)\n",
    "\n",
    "# Add a key to per_domain_accuracy for if it was a source domain\n",
    "for domain, accuracy in per_domain_accuracy.items():\n",
    "    per_domain_accuracy[domain] = {\n",
    "        \"accuracy\": accuracy,\n",
    "        \"source?\": domain in p.domains_source\n",
    "    }\n",
    "\n",
    "# Do an independent accuracy assesment JUST TO BE SURE!\n",
    "# _source_test_label_accuracy = independent_accuracy_assesment(model, datasets.source.processed.test, p.device)\n",
    "# _target_test_label_accuracy = independent_accuracy_assesment(model, datasets.target.processed.test, p.device)\n",
    "# _source_val_label_accuracy = independent_accuracy_assesment(model, datasets.source.processed.val, p.device)\n",
    "# _target_val_label_accuracy = independent_accuracy_assesment(model, datasets.target.processed.val, p.device)\n",
    "\n",
    "# assert(_source_test_label_accuracy == source_test_label_accuracy)\n",
    "# assert(_target_test_label_accuracy == target_test_label_accuracy)\n",
    "# assert(_source_val_label_accuracy == source_val_label_accuracy)\n",
    "# assert(_target_val_label_accuracy == target_val_label_accuracy)\n",
    "\n",
    "experiment = {\n",
    "    \"experiment_name\": p.experiment_name,\n",
    "    \"parameters\": dict(p),\n",
    "    \"results\": {\n",
    "        \"source_test_label_accuracy\": source_test_label_accuracy,\n",
    "        \"source_test_label_loss\": source_test_label_loss,\n",
    "        \"target_test_label_accuracy\": target_test_label_accuracy,\n",
    "        \"target_test_label_loss\": target_test_label_loss,\n",
    "        \"source_val_label_accuracy\": source_val_label_accuracy,\n",
    "        \"source_val_label_loss\": source_val_label_loss,\n",
    "        \"target_val_label_accuracy\": target_val_label_accuracy,\n",
    "        \"target_val_label_loss\": target_val_label_loss,\n",
    "        \"total_epochs_trained\": total_epochs_trained,\n",
    "        \"total_experiment_time_secs\": total_experiment_time_secs,\n",
    "        \"confusion\": confusion,\n",
    "        \"per_domain_accuracy\": per_domain_accuracy,\n",
    "    },\n",
    "    \"history\": history,\n",
    "    \"dataset_metrics\": get_dataset_metrics(datasets, \"ptn\"),\n",
    "}"
   ]
  },
  {
   "cell_type": "code",
   "execution_count": 16,
   "id": "54a21829",
   "metadata": {
    "execution": {
     "iopub.execute_input": "2022-03-06T17:34:33.613395Z",
     "iopub.status.busy": "2022-03-06T17:34:33.613140Z",
     "iopub.status.idle": "2022-03-06T17:34:33.802008Z",
     "shell.execute_reply": "2022-03-06T17:34:33.802420Z"
    },
    "papermill": {
     "duration": 0.216505,
     "end_time": "2022-03-06T17:34:33.802544",
     "exception": false,
     "start_time": "2022-03-06T17:34:33.586039",
     "status": "completed"
    },
    "tags": []
   },
   "outputs": [
    {
     "data": {
      "image/png": "[encoded data removed]",
      "text/plain": [
       "<Figure size 1080x504 with 1 Axes>"
      ]
     },
     "metadata": {
      "needs_background": "light"
     },
     "output_type": "display_data"
    }
   ],
   "source": [
    "ax = get_loss_curve(experiment)\n",
    "plt.show()"
   ]
  },
  {
   "cell_type": "code",
   "execution_count": 17,
   "id": "fd8a0f60",
   "metadata": {
    "execution": {
     "iopub.execute_input": "2022-03-06T17:34:33.861828Z",
     "iopub.status.busy": "2022-03-06T17:34:33.861576Z",
     "iopub.status.idle": "2022-03-06T17:34:34.043755Z",
     "shell.execute_reply": "2022-03-06T17:34:34.043984Z"
    },
    "papermill": {
     "duration": 0.210811,
     "end_time": "2022-03-06T17:34:34.044063",
     "exception": false,
     "start_time": "2022-03-06T17:34:33.833252",
     "status": "completed"
    },
    "tags": []
   },
   "outputs": [
    {
     "data": {
      "text/plain": [
       "<matplotlib.axes._subplots.AxesSubplot at 0x7f9c4c6caf70>"
      ]
     },
     "execution_count": 17,
     "metadata": {},
     "output_type": "execute_result"
    },
    {
     "data": {
      "image/png": "[encoded data removed]",
      "text/plain": [
       "<Figure size 1080x504 with 1 Axes>"
      ]
     },
     "metadata": {
      "needs_background": "light"
     },
     "output_type": "display_data"
    }
   ],
   "source": [
    "get_results_table(experiment)"
   ]
  },
  {
   "cell_type": "code",
   "execution_count": 18,
   "id": "cf8dc689",
   "metadata": {
    "execution": {
     "iopub.execute_input": "2022-03-06T17:34:34.103280Z",
     "iopub.status.busy": "2022-03-06T17:34:34.103027Z",
     "iopub.status.idle": "2022-03-06T17:34:34.275354Z",
     "shell.execute_reply": "2022-03-06T17:34:34.275765Z"
    },
    "papermill": {
     "duration": 0.203781,
     "end_time": "2022-03-06T17:34:34.275893",
     "exception": false,
     "start_time": "2022-03-06T17:34:34.072112",
     "status": "completed"
    },
    "tags": []
   },
   "outputs": [
    {
     "data": {
      "text/plain": [
       "<matplotlib.axes._subplots.AxesSubplot at 0x7f9c4c5fb640>"
      ]
     },
     "execution_count": 18,
     "metadata": {},
     "output_type": "execute_result"
    },
    {
     "data": {
      "image/png": "[encoded data removed]",
      "text/plain": [
       "<Figure size 1080x504 with 1 Axes>"
      ]
     },
     "metadata": {
      "needs_background": "light"
     },
     "output_type": "display_data"
    }
   ],
   "source": [
    "get_domain_accuracies(experiment)"
   ]
  },
  {
   "cell_type": "code",
   "execution_count": 19,
   "id": "a74ae082",
   "metadata": {
    "execution": {
     "iopub.execute_input": "2022-03-06T17:34:34.339743Z",
     "iopub.status.busy": "2022-03-06T17:34:34.338570Z",
     "iopub.status.idle": "2022-03-06T17:34:34.351404Z",
     "shell.execute_reply": "2022-03-06T17:34:34.350982Z"
    },
    "papermill": {
     "duration": 0.044819,
     "end_time": "2022-03-06T17:34:34.351501",
     "exception": false,
     "start_time": "2022-03-06T17:34:34.306682",
     "status": "completed"
    },
    "tags": []
   },
   "outputs": [
    {
     "name": "stdout",
     "output_type": "stream",
     "text": [
      "Source Test Label Accuracy: 0.5806423611111111 Target Test Label Accuracy: 0.4891666666666667\n",
      "Source Val Label Accuracy: 0.5802083333333333 Target Val Label Accuracy: 0.4875\n"
     ]
    }
   ],
   "source": [
    "print(\"Source Test Label Accuracy:\", experiment[\"results\"][\"source_test_label_accuracy\"], \"Target Test Label Accuracy:\", experiment[\"results\"][\"target_test_label_accuracy\"])\n",
    "print(\"Source Val Label Accuracy:\", experiment[\"results\"][\"source_val_label_accuracy\"], \"Target Val Label Accuracy:\", experiment[\"results\"][\"target_val_label_accuracy\"])"
   ]
  },
  {
   "cell_type": "code",
   "execution_count": 20,
   "id": "dacca602",
   "metadata": {
    "execution": {
     "iopub.execute_input": "2022-03-06T17:34:34.421458Z",
     "iopub.status.busy": "2022-03-06T17:34:34.412497Z",
     "iopub.status.idle": "2022-03-06T17:34:34.426778Z",
     "shell.execute_reply": "2022-03-06T17:34:34.427182Z"
    },
    "papermill": {
     "duration": 0.044383,
     "end_time": "2022-03-06T17:34:34.427288",
     "exception": false,
     "start_time": "2022-03-06T17:34:34.382905",
     "status": "completed"
    },
    "tags": [
     "experiment_json"
    ]
   },
   "outputs": [
    {
     "data": {
      "text/plain": [
       "'{\"experiment_name\": \"tuned_1_oracle.run2_limited\", \"parameters\": {\"experiment_name\": \"tuned_1_oracle.run2_limited\", \"device\": \"cuda\", \"lr\": 0.001, \"seed\": 1337, \"dataset_seed\": 1337, \"labels_source\": [\"3123D52\", \"3123D65\", \"3123D79\", \"3123D80\", \"3123D54\", \"3123D70\", \"3123D7B\", \"3123D89\", \"3123D58\", \"3123D76\", \"3123D7D\", \"3123EFE\", \"3123D64\", \"3123D78\", \"3123D7E\", \"3124E4A\"], \"labels_target\": [\"3123D52\", \"3123D65\", \"3123D79\", \"3123D80\", \"3123D54\", \"3123D70\", \"3123D7B\", \"3123D89\", \"3123D58\", \"3123D76\", \"3123D7D\", \"3123EFE\", \"3123D64\", \"3123D78\", \"3123D7E\", \"3124E4A\"], \"x_transforms_source\": [\"unit_mag\"], \"x_transforms_target\": [\"unit_mag\"], \"episode_transforms_source\": [], \"episode_transforms_target\": [], \"domains_source\": [8, 32, 50], \"domains_target\": [14, 20, 26, 38, 44], \"num_examples_per_domain_per_label_source\": 2000, \"num_examples_per_domain_per_label_target\": 1000, \"n_shot\": 3, \"n_way\": 16, \"n_query\": 2, \"train_k_factor\": 3, \"val_k_factor\": 2, \"test_k_factor\": 2, \"torch_default_dtype\": \"torch.float32\", \"n_epoch\": 50, \"patience\": 3, \"criteria_for_best\": \"target_loss\", \"x_net\": [{\"class\": \"nnReshape\", \"kargs\": {\"shape\": [-1, 1, 2, 256]}}, {\"class\": \"Conv2d\", \"kargs\": {\"in_channels\": 1, \"out_channels\": 256, \"kernel_size\": [1, 7], \"bias\": false, \"padding\": [0, 3]}}, {\"class\": \"ReLU\", \"kargs\": {\"inplace\": true}}, {\"class\": \"BatchNorm2d\", \"kargs\": {\"num_features\": 256}}, {\"class\": \"Conv2d\", \"kargs\": {\"in_channels\": 256, \"out_channels\": 80, \"kernel_size\": [2, 7], \"bias\": true, \"padding\": [0, 3]}}, {\"class\": \"ReLU\", \"kargs\": {\"inplace\": true}}, {\"class\": \"BatchNorm2d\", \"kargs\": {\"num_features\": 80}}, {\"class\": \"Flatten\", \"kargs\": {}}, {\"class\": \"Linear\", \"kargs\": {\"in_features\": 20480, \"out_features\": 256}}, {\"class\": \"ReLU\", \"kargs\": {\"inplace\": true}}, {\"class\": \"BatchNorm1d\", \"kargs\": {\"num_features\": 256}}, {\"class\": \"Linear\", \"kargs\": {\"in_features\": 256, \"out_features\": 256}}], \"NUM_LOGS_PER_EPOCH\": 10, \"BEST_MODEL_PATH\": \"./best_model.pth\", \"pickle_name\": \"oracle.Run2_10kExamples_stratified_ds.2022A.pkl\"}, \"results\": {\"source_test_label_accuracy\": 0.5806423611111111, \"source_test_label_loss\": 1.0824639797210693, \"target_test_label_accuracy\": 0.4891666666666667, \"target_test_label_loss\": 1.4397199153900146, \"source_val_label_accuracy\": 0.5802083333333333, \"source_val_label_loss\": 1.08538019657135, \"target_val_label_accuracy\": 0.4875, \"target_val_label_loss\": 1.4405601024627686, \"total_epochs_trained\": 7, \"total_experiment_time_secs\": 528.3334486484528, \"confusion\": {\"8\": {\"15\": {\"7\": 9, \"15\": 89, \"8\": 34, \"11\": 51, \"3\": 18, \"12\": 29, \"4\": 1, \"2\": 9}, \"3\": {\"15\": 11, \"12\": 59, \"3\": 165, \"11\": 4, \"2\": 1}, \"6\": {\"7\": 51, \"8\": 18, \"4\": 58, \"6\": 71, \"13\": 9, \"14\": 11, \"2\": 14, \"0\": 6, \"15\": 1, \"10\": 1}, \"1\": {\"5\": 40, \"1\": 112, \"13\": 52, \"10\": 23, \"14\": 10, \"0\": 3}, \"8\": {\"11\": 42, \"7\": 19, \"8\": 130, \"13\": 3, \"6\": 11, \"15\": 20, \"4\": 12, \"2\": 1, \"14\": 1, \"12\": 1}, \"10\": {\"10\": 71, \"1\": 21, \"0\": 57, \"13\": 23, \"14\": 25, \"5\": 43}, \"9\": {\"9\": 237, \"5\": 3}, \"13\": {\"10\": 34, \"14\": 53, \"13\": 72, \"1\": 39, \"0\": 34, \"5\": 3, \"6\": 4, \"8\": 1}, \"12\": {\"12\": 138, \"3\": 61, \"15\": 30, \"11\": 11}, \"5\": {\"5\": 144, \"1\": 29, \"14\": 3, \"10\": 48, \"9\": 6, \"0\": 6, \"13\": 4}, \"0\": {\"14\": 63, \"0\": 86, \"6\": 6, \"5\": 9, \"10\": 36, \"4\": 6, \"13\": 27, \"1\": 6, \"7\": 1}, \"2\": {\"7\": 47, \"2\": 143, \"4\": 26, \"8\": 3, \"6\": 13, \"15\": 5, \"11\": 1, \"3\": 2}, \"11\": {\"11\": 78, \"7\": 7, \"8\": 51, \"12\": 34, \"15\": 57, \"3\": 5, \"6\": 4, \"13\": 2, \"14\": 1, \"4\": 1}, \"14\": {\"14\": 71, \"0\": 70, \"13\": 42, \"6\": 18, \"1\": 13, \"10\": 16, \"4\": 7, \"7\": 2, \"5\": 1}, \"7\": {\"4\": 53, \"7\": 66, \"2\": 48, \"6\": 38, \"15\": 6, \"8\": 20, \"11\": 3, \"13\": 1, \"3\": 1, \"0\": 2, \"14\": 2}, \"4\": {\"4\": 58, \"6\": 53, \"2\": 38, \"8\": 7, \"14\": 13, \"7\": 61, \"0\": 5, \"15\": 1, \"13\": 3, \"11\": 1}}, \"50\": {\"3\": {\"3\": 213, \"8\": 27}, \"15\": {\"15\": 189, \"14\": 9, \"6\": 4, \"1\": 22, \"11\": 15, \"4\": 1}, \"8\": {\"8\": 221, \"3\": 18, \"10\": 1}, \"4\": {\"6\": 50, \"5\": 67, \"4\": 95, \"1\": 14, \"10\": 2, \"7\": 5, \"0\": 4, \"13\": 2, \"15\": 1}, \"14\": {\"14\": 231, \"11\": 2, \"12\": 7}, \"0\": {\"0\": 188, \"2\": 31, \"10\": 15, \"5\": 4, \"13\": 1, \"4\": 1}, \"7\": {\"7\": 82, \"13\": 84, \"5\": 27, \"10\": 42, \"4\": 3, \"6\": 1, \"0\": 1}, \"6\": {\"1\": 68, \"6\": 92, \"4\": 52, \"5\": 16, \"0\": 6, \"2\": 2, \"15\": 4}, \"10\": {\"10\": 120, \"7\": 38, \"5\": 13, \"0\": 22, \"13\": 43, \"4\": 4}, \"5\": {\"7\": 22, \"4\": 62, \"13\": 16, \"6\": 12, \"5\": 91, \"0\": 11, \"10\": 24, \"1\": 2}, \"2\": {\"0\": 34, \"2\": 205, \"4\": 1}, \"12\": {\"12\": 192, \"14\": 19, \"9\": 21, \"11\": 8}, \"9\": {\"9\": 201, \"12\": 34, \"11\": 5}, \"1\": {\"1\": 134, \"6\": 57, \"4\": 18, \"15\": 23, \"5\": 1, \"2\": 4, \"0\": 1, \"14\": 2}, \"11\": {\"11\": 189, \"15\": 19, \"14\": 16, \"9\": 13, \"12\": 3}, \"13\": {\"7\": 77, \"13\": 100, \"10\": 48, \"5\": 15}}, \"32\": {\"5\": {\"5\": 72, \"7\": 8, \"8\": 33, \"0\": 31, \"15\": 3, \"4\": 14, \"14\": 21, \"2\": 36, \"3\": 2, \"11\": 10, \"13\": 10}, \"8\": {\"5\": 24, \"8\": 109, \"4\": 24, \"13\": 34, \"3\": 16, \"0\": 19, \"15\": 10, \"7\": 3, \"11\": 1}, \"11\": {\"13\": 30, \"2\": 21, \"7\": 58, \"11\": 56, \"0\": 29, \"4\": 33, \"5\": 9, \"8\": 4}, \"1\": {\"1\": 232, \"10\": 8}, \"10\": {\"10\": 236, \"6\": 1, \"1\": 3}, \"15\": {\"15\": 228, \"4\": 1, \"8\": 10, \"5\": 1}, \"3\": {\"3\": 199, \"4\": 6, \"11\": 3, \"7\": 6, \"13\": 22, \"8\": 4}, \"7\": {\"13\": 39, \"7\": 88, \"3\": 4, \"11\": 62, \"4\": 28, \"2\": 6, \"8\": 2, \"0\": 8, \"5\": 3}, \"4\": {\"4\": 54, \"13\": 37, \"11\": 26, \"3\": 4, \"5\": 18, \"0\": 47, \"8\": 25, \"7\": 19, \"2\": 9, \"14\": 1}, \"14\": {\"14\": 171, \"5\": 14, \"2\": 44, \"0\": 7, \"8\": 1, \"9\": 2, \"4\": 1}, \"9\": {\"9\": 229, \"14\": 8, \"12\": 3}, \"12\": {\"12\": 240}, \"6\": {\"6\": 240}, \"2\": {\"7\": 4, \"14\": 52, \"13\": 2, \"2\": 124, \"5\": 14, \"11\": 16, \"0\": 22, \"4\": 6}, \"0\": {\"0\": 53, \"4\": 45, \"2\": 15, \"11\": 36, \"8\": 22, \"13\": 13, \"5\": 42, \"14\": 4, \"7\": 10}, \"13\": {\"7\": 45, \"0\": 21, \"3\": 12, \"8\": 13, \"13\": 79, \"11\": 25, \"4\": 37, \"5\": 7, \"2\": 1}}, \"14\": {\"15\": {\"7\": 21, \"15\": 94, \"13\": 1, \"5\": 2, \"2\": 2}, \"3\": {\"4\": 13, \"3\": 76, \"5\": 9, \"6\": 1, \"1\": 3, \"14\": 13, \"0\": 3, \"2\": 2}, \"6\": {\"13\": 29, \"2\": 10, \"14\": 24, \"6\": 40, \"5\": 7, \"4\": 7, \"3\": 3}, \"1\": {\"1\": 74, \"5\": 23, \"4\": 19, \"8\": 2, \"7\": 1, \"3\": 1}, \"8\": {\"8\": 117, \"9\": 1, \"0\": 2}, \"10\": {\"10\": 88, \"0\": 16, \"11\": 9, \"14\": 2, \"12\": 5}, \"9\": {\"9\": 102, \"11\": 6, \"12\": 10, \"0\": 1, \"10\": 1}, \"13\": {\"13\": 54, \"14\": 3, \"6\": 36, \"5\": 3, \"7\": 1, \"4\": 2, \"2\": 20, \"15\": 1}, \"12\": {\"12\": 59, \"11\": 31, \"9\": 15, \"10\": 10, \"0\": 3, \"14\": 1, \"8\": 1}, \"5\": {\"4\": 35, \"5\": 32, \"2\": 16, \"3\": 9, \"1\": 21, \"6\": 2, \"13\": 2, \"14\": 2, \"7\": 1}, \"0\": {\"0\": 96, \"3\": 2, \"9\": 3, \"14\": 1, \"10\": 14, \"12\": 2, \"11\": 2}, \"2\": {\"2\": 36, \"4\": 15, \"5\": 20, \"3\": 7, \"15\": 5, \"6\": 11, \"7\": 1, \"1\": 6, \"13\": 12, \"14\": 7}, \"11\": {\"11\": 106, \"10\": 4, \"9\": 3, \"12\": 7}, \"14\": {\"4\": 8, \"6\": 38, \"14\": 48, \"13\": 10, \"5\": 1, \"3\": 8, \"2\": 6, \"0\": 1}, \"7\": {\"7\": 98, \"15\": 19, \"1\": 2, \"5\": 1}, \"4\": {\"5\": 38, \"1\": 15, \"4\": 30, \"2\": 12, \"3\": 15, \"6\": 3, \"13\": 3, \"14\": 4}}, \"20\": {\"3\": {\"3\": 25, \"8\": 9, \"5\": 15, \"7\": 17, \"9\": 15, \"4\": 5, \"15\": 5, \"2\": 13, \"14\": 2, \"0\": 3, \"13\": 5, \"10\": 2, \"1\": 1, \"12\": 3}, \"15\": {\"15\": 23, \"13\": 27, \"3\": 2, \"1\": 13, \"5\": 7, \"12\": 13, \"9\": 9, \"4\": 3, \"0\": 9, \"2\": 13, \"7\": 1}, \"8\": {\"14\": 24, \"10\": 27, \"6\": 6, \"2\": 5, \"8\": 24, \"4\": 5, \"3\": 7, \"7\": 17, \"5\": 4, \"9\": 1}, \"4\": {\"4\": 59, \"1\": 7, \"2\": 4, \"8\": 5, \"3\": 3, \"12\": 12, \"0\": 12, \"5\": 10, \"14\": 2, \"9\": 3, \"10\": 3}, \"14\": {\"8\": 28, \"10\": 29, \"6\": 16, \"14\": 34, \"7\": 10, \"4\": 1, \"5\": 1, \"3\": 1}, \"0\": {\"1\": 32, \"5\": 8, \"12\": 22, \"4\": 13, \"15\": 11, \"9\": 7, \"13\": 6, \"0\": 20, \"2\": 1}, \"7\": {\"8\": 18, \"7\": 49, \"3\": 13, \"10\": 13, \"14\": 5, \"5\": 4, \"2\": 3, \"9\": 4, \"11\": 6, \"6\": 5}, \"6\": {\"6\": 91, \"14\": 13, \"7\": 3, \"10\": 6, \"8\": 2, \"11\": 5}, \"10\": {\"10\": 30, \"6\": 13, \"14\": 27, \"8\": 29, \"7\": 9, \"9\": 2, \"12\": 1, \"4\": 4, \"2\": 2, \"3\": 3}, \"5\": {\"2\": 14, \"3\": 14, \"4\": 13, \"12\": 12, \"9\": 17, \"0\": 9, \"10\": 1, \"15\": 8, \"7\": 3, \"13\": 6, \"5\": 12, \"1\": 9, \"8\": 2}, \"2\": {\"3\": 18, \"0\": 7, \"4\": 5, \"12\": 9, \"2\": 21, \"13\": 12, \"5\": 14, \"15\": 12, \"7\": 2, \"9\": 12, \"8\": 4, \"1\": 3, \"10\": 1}, \"12\": {\"1\": 24, \"5\": 9, \"13\": 11, \"4\": 9, \"0\": 20, \"15\": 7, \"12\": 18, \"2\": 8, \"3\": 4, \"9\": 9, \"10\": 1}, \"9\": {\"12\": 10, \"15\": 14, \"4\": 5, \"3\": 21, \"5\": 19, \"13\": 15, \"9\": 16, \"2\": 8, \"1\": 3, \"0\": 2, \"7\": 2, \"11\": 1, \"8\": 2, \"10\": 2}, \"1\": {\"1\": 38, \"15\": 11, \"12\": 20, \"0\": 25, \"13\": 7, \"4\": 8, \"9\": 4, \"8\": 1, \"5\": 5, \"14\": 1}, \"11\": {\"11\": 109, \"7\": 7, \"13\": 1, \"6\": 2, \"2\": 1}, \"13\": {\"13\": 43, \"15\": 27, \"3\": 6, \"5\": 3, \"0\": 6, \"12\": 6, \"1\": 8, \"2\": 9, \"7\": 1, \"9\": 10, \"11\": 1}}, \"44\": {\"5\": {\"5\": 95, \"8\": 4, \"14\": 16, \"0\": 4, \"15\": 1}, \"8\": {\"0\": 52, \"8\": 64, \"5\": 3, \"15\": 1}, \"11\": {\"11\": 92, \"6\": 24, \"9\": 3, \"7\": 1}, \"1\": {\"1\": 57, \"12\": 40, \"3\": 17, \"10\": 5, \"7\": 1}, \"10\": {\"10\": 105, \"12\": 10, \"1\": 3, \"7\": 2}, \"15\": {\"15\": 88, \"4\": 8, \"14\": 17, \"5\": 3, \"0\": 2, \"8\": 2}, \"3\": {\"3\": 89, \"1\": 15, \"12\": 15, \"10\": 1}, \"7\": {\"7\": 51, \"2\": 30, \"9\": 33, \"6\": 4, \"3\": 1, \"1\": 1}, \"4\": {\"14\": 16, \"4\": 94, \"13\": 2, \"9\": 1, \"15\": 7}, \"14\": {\"14\": 65, \"4\": 11, \"5\": 14, \"15\": 29, \"8\": 1}, \"9\": {\"2\": 33, \"7\": 37, \"1\": 1, \"9\": 41, \"6\": 5, \"3\": 1, \"13\": 1, \"11\": 1}, \"12\": {\"12\": 59, \"3\": 19, \"1\": 37, \"10\": 5}, \"6\": {\"6\": 87, \"11\": 18, \"9\": 7, \"7\": 2, \"13\": 5, \"2\": 1}, \"2\": {\"7\": 42, \"2\": 49, \"1\": 3, \"9\": 25, \"11\": 1}, \"0\": {\"0\": 53, \"8\": 64, \"5\": 1, \"14\": 1, \"15\": 1}, \"13\": {\"13\": 107, \"4\": 7, \"6\": 4, \"14\": 2}}, \"38\": {\"14\": {\"2\": 25, \"11\": 15, \"14\": 62, \"12\": 15, \"5\": 2, \"13\": 1}, \"0\": {\"0\": 81, \"3\": 27, \"9\": 4, \"15\": 1, \"10\": 4, \"6\": 1, \"13\": 2}, \"13\": {\"3\": 8, \"8\": 14, \"15\": 25, \"0\": 2, \"13\": 16, \"5\": 22, \"14\": 7, \"1\": 12, \"10\": 3, \"6\": 4, \"12\": 1, \"7\": 2, \"2\": 4}, \"7\": {\"7\": 42, \"10\": 32, \"8\": 13, \"5\": 15, \"13\": 6, \"12\": 2, \"15\": 4, \"4\": 1, \"3\": 5}, \"9\": {\"9\": 77, \"6\": 37, \"0\": 2, \"3\": 4}, \"3\": {\"7\": 4, \"5\": 6, \"13\": 9, \"6\": 14, \"0\": 19, \"15\": 10, \"10\": 9, \"3\": 32, \"9\": 8, \"1\": 2, \"8\": 7}, \"11\": {\"11\": 86, \"14\": 18, \"12\": 10, \"2\": 6}, \"6\": {\"6\": 68, \"9\": 42, \"3\": 6, \"0\": 3, \"15\": 1}, \"8\": {\"1\": 4, \"15\": 18, \"8\": 32, \"5\": 27, \"13\": 26, \"7\": 7, \"3\": 3, \"10\": 3}, \"4\": {\"4\": 110, \"10\": 2, \"12\": 7, \"7\": 1}, \"5\": {\"5\": 31, \"15\": 13, \"13\": 30, \"7\": 9, \"3\": 6, \"8\": 21, \"1\": 5, \"10\": 3, \"12\": 2}, \"10\": {\"8\": 6, \"0\": 5, \"7\": 37, \"3\": 8, \"10\": 50, \"5\": 7, \"4\": 6, \"12\": 1}, \"1\": {\"13\": 10, \"1\": 98, \"15\": 7, \"8\": 1, \"5\": 4}, \"2\": {\"2\": 102, \"14\": 17, \"11\": 1}, \"15\": {\"8\": 19, \"13\": 28, \"15\": 35, \"5\": 17, \"1\": 8, \"3\": 10, \"7\": 1, \"10\": 2}, \"12\": {\"12\": 103, \"14\": 6, \"11\": 3, \"4\": 8}}, \"26\": {\"13\": {\"5\": 26, \"13\": 50, \"9\": 23, \"2\": 2, \"6\": 12, \"10\": 2, \"7\": 3, \"8\": 1, \"0\": 1}, \"2\": {\"8\": 10, \"7\": 18, \"15\": 14, \"0\": 8, \"4\": 16, \"3\": 15, \"1\": 1, \"14\": 8, \"9\": 8, \"2\": 17, \"5\": 3, \"13\": 1, \"10\": 1}, \"8\": {\"9\": 17, \"8\": 25, \"5\": 6, \"7\": 8, \"13\": 3, \"10\": 8, \"0\": 14, \"15\": 3, \"4\": 13, \"14\": 8, \"2\": 6, \"6\": 7, \"1\": 2}, \"9\": {\"9\": 18, \"10\": 7, \"8\": 22, \"13\": 24, \"14\": 3, \"2\": 7, \"5\": 15, \"6\": 12, \"7\": 8, \"0\": 1, \"1\": 1, \"15\": 1, \"4\": 1}, \"12\": {\"12\": 113, \"11\": 7}, \"4\": {\"8\": 13, \"7\": 14, \"15\": 4, \"3\": 10, \"0\": 13, \"4\": 38, \"2\": 13, \"14\": 10, \"9\": 4, \"10\": 1}, \"3\": {\"15\": 34, \"2\": 15, \"3\": 49, \"7\": 11, \"4\": 8, \"8\": 1, \"5\": 2}, \"15\": {\"3\": 46, \"15\": 38, \"4\": 7, \"2\": 12, \"7\": 8, \"8\": 3, \"13\": 1, \"10\": 2, \"0\": 1, \"14\": 1, \"9\": 1}, \"14\": {\"0\": 27, \"14\": 31, \"10\": 17, \"1\": 21, \"8\": 7, \"9\": 2, \"13\": 1, \"2\": 3, \"4\": 4, \"7\": 4, \"6\": 1, \"5\": 2}, \"10\": {\"14\": 12, \"10\": 25, \"9\": 4, \"8\": 7, \"4\": 9, \"6\": 13, \"3\": 4, \"7\": 8, \"0\": 10, \"2\": 5, \"1\": 19, \"5\": 2, \"15\": 2}, \"7\": {\"2\": 24, \"7\": 25, \"9\": 7, \"8\": 13, \"3\": 17, \"4\": 7, \"0\": 3, \"5\": 3, \"15\": 15, \"13\": 1, \"6\": 1, \"14\": 1, \"10\": 2, \"1\": 1}, \"11\": {\"11\": 108, \"12\": 12}, \"6\": {\"10\": 12, \"6\": 61, \"13\": 13, \"1\": 2, \"9\": 8, \"8\": 5, \"5\": 16, \"14\": 2, \"0\": 1}, \"1\": {\"14\": 28, \"1\": 46, \"0\": 13, \"8\": 4, \"7\": 1, \"10\": 18, \"9\": 1, \"4\": 2, \"2\": 1, \"5\": 2, \"6\": 4}, \"5\": {\"9\": 13, \"5\": 28, \"6\": 26, \"13\": 23, \"2\": 7, \"10\": 6, \"8\": 6, \"7\": 6, \"0\": 2, \"14\": 1, \"15\": 1, \"4\": 1}, \"0\": {\"0\": 25, \"2\": 10, \"4\": 10, \"1\": 21, \"14\": 13, \"6\": 2, \"10\": 17, \"13\": 1, \"5\": 6, \"9\": 4, \"8\": 6, \"7\": 4, \"3\": 1}}}, \"per_domain_accuracy\": {\"8\": {\"accuracy\": 0.45078125, \"source?\": true}, \"50\": {\"accuracy\": 0.6622395833333333, \"source?\": true}, \"32\": {\"accuracy\": 0.6276041666666666, \"source?\": true}, \"14\": {\"accuracy\": 0.5989583333333334, \"source?\": false}, \"20\": {\"accuracy\": 0.31875, \"source?\": false}, \"44\": {\"accuracy\": 0.6229166666666667, \"source?\": false}, \"38\": {\"accuracy\": 0.5338541666666666, \"source?\": false}, \"26\": {\"accuracy\": 0.36302083333333335, \"source?\": false}}}, \"history\": {\"epoch_indices\": [1, 2, 3, 4, 5, 6, 7], \"train_label_loss\": [1.6341793726360987, 1.1068850126649652, 0.8788292744093471, 0.7135925007895345, 0.5751834005058285, 0.4569504055445866, 0.3613612435832028], \"source_val_label_loss\": [1.4200612306594849, 1.105931043624878, 1.08538019657135, 1.1080939769744873, 1.1327394247055054, 1.2202752828598022, 1.2856285572052002], \"target_val_label_loss\": [1.8749091625213623, 1.4725250005722046, 1.4405601024627686, 1.5404911041259766, 1.562766432762146, 1.689764380455017, 1.7887628078460693], \"source_val_acc_label\": [0.48072916666666665, 0.5712673611111111, 0.5802083333333333, 0.6074652777777778, 0.6112847222222222, 0.6181423611111111, 0.6164930555555556], \"target_val_acc_label\": [0.36916666666666664, 0.48072916666666665, 0.4875, 0.5034375, 0.5046875, 0.5104166666666666, 0.5065625]}, \"dataset_metrics\": {\"source\": {\"train\": {\"n_unique_x\": 67200, \"n_unique_y\": 16, \"n_batch/episode\": 2520}, \"val\": {\"n_unique_x\": 14400, \"n_unique_y\": 16, \"n_batch/episode\": 360}, \"test\": {\"n_unique_x\": 14400, \"n_unique_y\": 16, \"n_batch/episode\": 360}}, \"target\": {\"train\": {\"n_unique_x\": 56000, \"n_unique_y\": 16, \"n_batch/episode\": 2100}, \"val\": {\"n_unique_x\": 12000, \"n_unique_y\": 16, \"n_batch/episode\": 300}, \"test\": {\"n_unique_x\": 12000, \"n_unique_y\": 16, \"n_batch/episode\": 300}}}}'"
      ]
     },
     "execution_count": 20,
     "metadata": {},
     "output_type": "execute_result"
    }
   ],
   "source": [
    "json.dumps(experiment)"
   ]
  }
 ],
 "metadata": {
  "celltoolbar": "Tags",
  "kernelspec": {
   "display_name": "Python 3 (ipykernel)",
   "language": "python",
   "name": "python3"
  },
  "language_info": {
   "codemirror_mode": {
    "name": "ipython",
    "version": 3
   },
   "file_extension": ".py",
   "mimetype": "text/x-python",
   "name": "python",
   "nbconvert_exporter": "python",
   "pygments_lexer": "ipython3",
   "version": "3.8.10"
  },
  "papermill": {
   "default_parameters": {},
   "duration": 565.654899,
   "end_time": "2022-03-06T17:34:35.166431",
   "environment_variables": {},
   "exception": null,
   "input_path": "/mnt/wd500GB/CSC500/csc500-main/csc500-notebooks/templates/ptn_template.ipynb",
   "output_path": "trial.ipynb",
   "parameters": {
    "parameters": {
     "BEST_MODEL_PATH": "./best_model.pth",
     "NUM_LOGS_PER_EPOCH": 10,
     "criteria_for_best": "target_loss",
     "dataset_seed": 1337,
     "device": "cuda",
     "domains_source": [
      8,
      32,
      50
     ],
     "domains_target": [
      14,
      20,
      26,
      38,
      44
     ],
     "episode_transforms_source": [],
     "episode_transforms_target": [],
     "experiment_name": "tuned_1_oracle.run2_limited",
     "labels_source": [
      "3123D52",
      "3123D65",
      "3123D79",
      "3123D80",
      "3123D54",
      "3123D70",
      "3123D7B",
      "3123D89",
      "3123D58",
      "3123D76",
      "3123D7D",
      "3123EFE",
      "3123D64",
      "3123D78",
      "3123D7E",
      "3124E4A"
     ],
     "labels_target": [
      "3123D52",
      "3123D65",
      "3123D79",
      "3123D80",
      "3123D54",
      "3123D70",
      "3123D7B",
      "3123D89",
      "3123D58",
      "3123D76",
      "3123D7D",
      "3123EFE",
      "3123D64",
      "3123D78",
      "3123D7E",
      "3124E4A"
     ],
     "lr": 0.001,
     "n_epoch": 50,
     "n_query": 2,
     "n_shot": 3,
     "n_way": 16,
     "num_examples_per_domain_per_label_source": 2000,
     "num_examples_per_domain_per_label_target": 1000,
     "patience": 3,
     "pickle_name": "oracle.Run2_10kExamples_stratified_ds.2022A.pkl",
     "seed": 1337,
     "test_k_factor": 2,
     "torch_default_dtype": "torch.float32",
     "train_k_factor": 3,
     "val_k_factor": 2,
     "x_net": [
      {
       "class": "nnReshape",
       "kargs": {
        "shape": [
         -1,
         1,
         2,
         256
        ]
       }
      },
      {
       "class": "Conv2d",
       "kargs": {
        "bias": false,
        "in_channels": 1,
        "kernel_size": [
         1,
         7
        ],
        "out_channels": 256,
        "padding": [
         0,
         3
        ]
       }
      },
      {
       "class": "ReLU",
       "kargs": {
        "inplace": true
       }
      },
      {
       "class": "BatchNorm2d",
       "kargs": {
        "num_features": 256
       }
      },
      {
       "class": "Conv2d",
       "kargs": {
        "bias": true,
        "in_channels": 256,
        "kernel_size": [
         2,
         7
        ],
        "out_channels": 80,
        "padding": [
         0,
         3
        ]
       }
      },
      {
       "class": "ReLU",
       "kargs": {
        "inplace": true
       }
      },
      {
       "class": "BatchNorm2d",
       "kargs": {
        "num_features": 80
       }
      },
      {
       "class": "Flatten",
       "kargs": {}
      },
      {
       "class": "Linear",
       "kargs": {
        "in_features": 20480,
        "out_features": 256
       }
      },
      {
       "class": "ReLU",
       "kargs": {
        "inplace": true
       }
      },
      {
       "class": "BatchNorm1d",
       "kargs": {
        "num_features": 256
       }
      },
      {
       "class": "Linear",
       "kargs": {
        "in_features": 256,
        "out_features": 256
       }
      }
     ],
     "x_transforms_source": [
      "unit_mag"
     ],
     "x_transforms_target": [
      "unit_mag"
     ]
    }
   },
   "start_time": "2022-03-06T17:25:09.511532",
   "version": "2.3.4"
  }
 },
 "nbformat": 4,
 "nbformat_minor": 5
}