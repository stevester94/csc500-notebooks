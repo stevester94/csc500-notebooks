{
 "cells": [
  {
   "cell_type": "markdown",
   "id": "9fea5f46",
   "metadata": {
    "papermill": {
     "duration": 0.018485,
     "end_time": "2022-03-17T04:10:17.091063",
     "exception": false,
     "start_time": "2022-03-17T04:10:17.072578",
     "status": "completed"
    },
    "tags": []
   },
   "source": [
    "# Transfer Learning Template"
   ]
  },
  {
   "cell_type": "code",
   "execution_count": 1,
   "id": "0902182a",
   "metadata": {
    "execution": {
     "iopub.execute_input": "2022-03-17T04:10:17.131274Z",
     "iopub.status.busy": "2022-03-17T04:10:17.119208Z",
     "iopub.status.idle": "2022-03-17T04:10:18.024018Z",
     "shell.execute_reply": "2022-03-17T04:10:18.023717Z"
    },
    "papermill": {
     "duration": 0.920311,
     "end_time": "2022-03-17T04:10:18.024090",
     "exception": false,
     "start_time": "2022-03-17T04:10:17.103779",
     "status": "completed"
    },
    "tags": []
   },
   "outputs": [],
   "source": [
    "%load_ext autoreload\n",
    "%autoreload 2\n",
    "%matplotlib inline\n",
    "\n",
    "    \n",
    "import os, json, sys, time, random\n",
    "import numpy as np\n",
    "import torch\n",
    "from torch.optim import Adam\n",
    "from  easydict import EasyDict\n",
    "import matplotlib.pyplot as plt\n",
    "\n",
    "from steves_models.steves_ptn import Steves_Prototypical_Network\n",
    "\n",
    "from steves_utils.lazy_iterable_wrapper import Lazy_Iterable_Wrapper\n",
    "from steves_utils.iterable_aggregator import Iterable_Aggregator\n",
    "from steves_utils.ptn_train_eval_test_jig import  PTN_Train_Eval_Test_Jig\n",
    "from steves_utils.torch_sequential_builder import build_sequential\n",
    "from steves_utils.torch_utils import get_dataset_metrics, ptn_confusion_by_domain_over_dataloader\n",
    "from steves_utils.utils_v2 import (per_domain_accuracy_from_confusion, get_datasets_base_path)\n",
    "from steves_utils.PTN.utils import independent_accuracy_assesment\n",
    "\n",
    "from torch.utils.data import DataLoader\n",
    "\n",
    "from steves_utils.stratified_dataset.episodic_accessor import Episodic_Accessor_Factory\n",
    "\n",
    "from steves_utils.ptn_do_report import (\n",
    "    get_loss_curve,\n",
    "    get_results_table,\n",
    "    get_parameters_table,\n",
    "    get_domain_accuracies,\n",
    ")\n",
    "\n",
    "from steves_utils.transforms import get_chained_transform"
   ]
  },
  {
   "cell_type": "markdown",
   "id": "41c840b4",
   "metadata": {
    "papermill": {
     "duration": 0.013352,
     "end_time": "2022-03-17T04:10:18.051476",
     "exception": false,
     "start_time": "2022-03-17T04:10:18.038124",
     "status": "completed"
    },
    "tags": []
   },
   "source": [
    "# Allowed Parameters\n",
    "These are allowed parameters, not defaults\n",
    "Each of these values need to be present in the injected parameters (the notebook will raise an exception if they are not present)\n",
    "\n",
    "Papermill uses the cell tag \"parameters\" to inject the real parameters below this cell.\n",
    "Enable tags to see what I mean"
   ]
  },
  {
   "cell_type": "code",
   "execution_count": 2,
   "id": "fd44eb83",
   "metadata": {
    "execution": {
     "iopub.execute_input": "2022-03-17T04:10:18.080430Z",
     "iopub.status.busy": "2022-03-17T04:10:18.080164Z",
     "iopub.status.idle": "2022-03-17T04:10:18.090839Z",
     "shell.execute_reply": "2022-03-17T04:10:18.090585Z"
    },
    "papermill": {
     "duration": 0.02598,
     "end_time": "2022-03-17T04:10:18.090890",
     "exception": false,
     "start_time": "2022-03-17T04:10:18.064910",
     "status": "completed"
    },
    "tags": []
   },
   "outputs": [],
   "source": [
    "required_parameters = {\n",
    "    \"experiment_name\",\n",
    "    \"lr\",\n",
    "    \"device\",\n",
    "    \"seed\",\n",
    "    \"dataset_seed\",\n",
    "    \"n_shot\",\n",
    "    \"n_query\",\n",
    "    \"n_way\",\n",
    "    \"train_k_factor\",\n",
    "    \"val_k_factor\",\n",
    "    \"test_k_factor\",\n",
    "    \"n_epoch\",\n",
    "    \"patience\",\n",
    "    \"criteria_for_best\",\n",
    "    \"x_net\",\n",
    "    \"datasets\",\n",
    "    \"torch_default_dtype\",\n",
    "    \"NUM_LOGS_PER_EPOCH\",\n",
    "    \"BEST_MODEL_PATH\",\n",
    "}"
   ]
  },
  {
   "cell_type": "code",
   "execution_count": 3,
   "id": "fa3f0049",
   "metadata": {
    "execution": {
     "iopub.execute_input": "2022-03-17T04:10:18.124281Z",
     "iopub.status.busy": "2022-03-17T04:10:18.123997Z",
     "iopub.status.idle": "2022-03-17T04:10:18.136032Z",
     "shell.execute_reply": "2022-03-17T04:10:18.135810Z"
    },
    "papermill": {
     "duration": 0.0317,
     "end_time": "2022-03-17T04:10:18.136095",
     "exception": false,
     "start_time": "2022-03-17T04:10:18.104395",
     "status": "completed"
    },
    "tags": [
     "parameters"
    ]
   },
   "outputs": [],
   "source": [
    "from steves_utils.CORES.utils import (\n",
    "    ALL_NODES,\n",
    "    ALL_NODES_MINIMUM_1000_EXAMPLES,\n",
    "    ALL_DAYS\n",
    ")\n",
    "\n",
    "from steves_utils.ORACLE.utils_v2 import (\n",
    "    ALL_DISTANCES_FEET_NARROWED,\n",
    "    ALL_RUNS,\n",
    "    ALL_SERIAL_NUMBERS,\n",
    ")\n",
    "\n",
    "standalone_parameters = {}\n",
    "standalone_parameters[\"experiment_name\"] = \"STANDALONE PTN\"\n",
    "standalone_parameters[\"lr\"] = 0.001\n",
    "standalone_parameters[\"device\"] = \"cuda\"\n",
    "\n",
    "standalone_parameters[\"seed\"] = 1337\n",
    "standalone_parameters[\"dataset_seed\"] = 1337\n",
    "\n",
    "standalone_parameters[\"n_way\"] = 8\n",
    "standalone_parameters[\"n_shot\"] = 3\n",
    "standalone_parameters[\"n_query\"]  = 2\n",
    "standalone_parameters[\"train_k_factor\"] = 1\n",
    "standalone_parameters[\"val_k_factor\"] = 2\n",
    "standalone_parameters[\"test_k_factor\"] = 2\n",
    "\n",
    "\n",
    "standalone_parameters[\"n_epoch\"] = 50\n",
    "\n",
    "standalone_parameters[\"patience\"] = 10\n",
    "standalone_parameters[\"criteria_for_best\"] = \"source_loss\"\n",
    "\n",
    "standalone_parameters[\"datasets\"] = [\n",
    "    {\n",
    "        \"labels\": ALL_SERIAL_NUMBERS,\n",
    "        \"domains\": ALL_DISTANCES_FEET_NARROWED,\n",
    "        \"num_examples_per_domain_per_label\": 100,\n",
    "        \"pickle_path\": os.path.join(get_datasets_base_path(), \"oracle.Run1_framed_2000Examples_stratified_ds.2022A.pkl\"),\n",
    "        \"source_or_target_dataset\": \"source\",\n",
    "        \"x_transforms\": [\"unit_mag\", \"minus_two\"],\n",
    "        \"episode_transforms\": [],\n",
    "        \"domain_prefix\": \"ORACLE_\"\n",
    "    },\n",
    "    {\n",
    "        \"labels\": ALL_NODES,\n",
    "        \"domains\": ALL_DAYS,\n",
    "        \"num_examples_per_domain_per_label\": 100,\n",
    "        \"pickle_path\": os.path.join(get_datasets_base_path(), \"cores.stratified_ds.2022A.pkl\"),\n",
    "        \"source_or_target_dataset\": \"target\",\n",
    "        \"x_transforms\": [\"unit_power\", \"times_zero\"],\n",
    "        \"episode_transforms\": [],\n",
    "        \"domain_prefix\": \"CORES_\"\n",
    "    }   \n",
    "]\n",
    "\n",
    "standalone_parameters[\"torch_default_dtype\"] = \"torch.float32\" \n",
    "\n",
    "\n",
    "\n",
    "standalone_parameters[\"x_net\"] =     [\n",
    "    {\"class\": \"nnReshape\", \"kargs\": {\"shape\":[-1, 1, 2, 256]}},\n",
    "    {\"class\": \"Conv2d\", \"kargs\": { \"in_channels\":1, \"out_channels\":256, \"kernel_size\":(1,7), \"bias\":False, \"padding\":(0,3), },},\n",
    "    {\"class\": \"ReLU\", \"kargs\": {\"inplace\": True}},\n",
    "    {\"class\": \"BatchNorm2d\", \"kargs\": {\"num_features\":256}},\n",
    "\n",
    "    {\"class\": \"Conv2d\", \"kargs\": { \"in_channels\":256, \"out_channels\":80, \"kernel_size\":(2,7), \"bias\":True, \"padding\":(0,3), },},\n",
    "    {\"class\": \"ReLU\", \"kargs\": {\"inplace\": True}},\n",
    "    {\"class\": \"BatchNorm2d\", \"kargs\": {\"num_features\":80}},\n",
    "    {\"class\": \"Flatten\", \"kargs\": {}},\n",
    "\n",
    "    {\"class\": \"Linear\", \"kargs\": {\"in_features\": 80*256, \"out_features\": 256}}, # 80 units per IQ pair\n",
    "    {\"class\": \"ReLU\", \"kargs\": {\"inplace\": True}},\n",
    "    {\"class\": \"BatchNorm1d\", \"kargs\": {\"num_features\":256}},\n",
    "\n",
    "    {\"class\": \"Linear\", \"kargs\": {\"in_features\": 256, \"out_features\": 256}},\n",
    "]\n",
    "\n",
    "# Parameters relevant to results\n",
    "# These parameters will basically never need to change\n",
    "standalone_parameters[\"NUM_LOGS_PER_EPOCH\"] = 10\n",
    "standalone_parameters[\"BEST_MODEL_PATH\"] = \"./best_model.pth\"\n",
    "\n",
    "\n",
    "\n",
    "\n"
   ]
  },
  {
   "cell_type": "code",
   "execution_count": 4,
   "id": "c63fde8c",
   "metadata": {
    "execution": {
     "iopub.execute_input": "2022-03-17T04:10:18.178434Z",
     "iopub.status.busy": "2022-03-17T04:10:18.178083Z",
     "iopub.status.idle": "2022-03-17T04:10:18.191451Z",
     "shell.execute_reply": "2022-03-17T04:10:18.190941Z"
    },
    "papermill": {
     "duration": 0.0354,
     "end_time": "2022-03-17T04:10:18.191548",
     "exception": false,
     "start_time": "2022-03-17T04:10:18.156148",
     "status": "completed"
    },
    "tags": [
     "injected-parameters"
    ]
   },
   "outputs": [],
   "source": [
    "# Parameters\n",
    "parameters = {\n",
    "    \"experiment_name\": \"cores+wisig -> oracle.run2.framed\",\n",
    "    \"device\": \"cuda\",\n",
    "    \"lr\": 0.001,\n",
    "    \"seed\": 1337,\n",
    "    \"dataset_seed\": 1337,\n",
    "    \"n_shot\": 3,\n",
    "    \"n_query\": 2,\n",
    "    \"train_k_factor\": 3,\n",
    "    \"val_k_factor\": 2,\n",
    "    \"test_k_factor\": 2,\n",
    "    \"torch_default_dtype\": \"torch.float32\",\n",
    "    \"n_epoch\": 50,\n",
    "    \"patience\": 3,\n",
    "    \"criteria_for_best\": \"target_loss\",\n",
    "    \"x_net\": [\n",
    "        {\"class\": \"nnReshape\", \"kargs\": {\"shape\": [-1, 1, 2, 256]}},\n",
    "        {\n",
    "            \"class\": \"Conv2d\",\n",
    "            \"kargs\": {\n",
    "                \"in_channels\": 1,\n",
    "                \"out_channels\": 256,\n",
    "                \"kernel_size\": [1, 7],\n",
    "                \"bias\": False,\n",
    "                \"padding\": [0, 3],\n",
    "            },\n",
    "        },\n",
    "        {\"class\": \"ReLU\", \"kargs\": {\"inplace\": True}},\n",
    "        {\"class\": \"BatchNorm2d\", \"kargs\": {\"num_features\": 256}},\n",
    "        {\n",
    "            \"class\": \"Conv2d\",\n",
    "            \"kargs\": {\n",
    "                \"in_channels\": 256,\n",
    "                \"out_channels\": 80,\n",
    "                \"kernel_size\": [2, 7],\n",
    "                \"bias\": True,\n",
    "                \"padding\": [0, 3],\n",
    "            },\n",
    "        },\n",
    "        {\"class\": \"ReLU\", \"kargs\": {\"inplace\": True}},\n",
    "        {\"class\": \"BatchNorm2d\", \"kargs\": {\"num_features\": 80}},\n",
    "        {\"class\": \"Flatten\", \"kargs\": {}},\n",
    "        {\"class\": \"Linear\", \"kargs\": {\"in_features\": 20480, \"out_features\": 256}},\n",
    "        {\"class\": \"ReLU\", \"kargs\": {\"inplace\": True}},\n",
    "        {\"class\": \"BatchNorm1d\", \"kargs\": {\"num_features\": 256}},\n",
    "        {\"class\": \"Linear\", \"kargs\": {\"in_features\": 256, \"out_features\": 256}},\n",
    "    ],\n",
    "    \"NUM_LOGS_PER_EPOCH\": 10,\n",
    "    \"BEST_MODEL_PATH\": \"./best_model.pth\",\n",
    "    \"n_way\": 16,\n",
    "    \"datasets\": [\n",
    "        {\n",
    "            \"labels\": [\n",
    "                \"1-10.\",\n",
    "                \"1-11.\",\n",
    "                \"1-15.\",\n",
    "                \"1-16.\",\n",
    "                \"1-17.\",\n",
    "                \"1-18.\",\n",
    "                \"1-19.\",\n",
    "                \"10-4.\",\n",
    "                \"10-7.\",\n",
    "                \"11-1.\",\n",
    "                \"11-14.\",\n",
    "                \"11-17.\",\n",
    "                \"11-20.\",\n",
    "                \"11-7.\",\n",
    "                \"13-20.\",\n",
    "                \"13-8.\",\n",
    "                \"14-10.\",\n",
    "                \"14-11.\",\n",
    "                \"14-14.\",\n",
    "                \"14-7.\",\n",
    "                \"15-1.\",\n",
    "                \"15-20.\",\n",
    "                \"16-1.\",\n",
    "                \"16-16.\",\n",
    "                \"17-10.\",\n",
    "                \"17-11.\",\n",
    "                \"17-2.\",\n",
    "                \"19-1.\",\n",
    "                \"19-16.\",\n",
    "                \"19-19.\",\n",
    "                \"19-20.\",\n",
    "                \"19-3.\",\n",
    "                \"2-10.\",\n",
    "                \"2-11.\",\n",
    "                \"2-17.\",\n",
    "                \"2-18.\",\n",
    "                \"2-20.\",\n",
    "                \"2-3.\",\n",
    "                \"2-4.\",\n",
    "                \"2-5.\",\n",
    "                \"2-6.\",\n",
    "                \"2-7.\",\n",
    "                \"2-8.\",\n",
    "                \"3-13.\",\n",
    "                \"3-18.\",\n",
    "                \"3-3.\",\n",
    "                \"4-1.\",\n",
    "                \"4-10.\",\n",
    "                \"4-11.\",\n",
    "                \"4-19.\",\n",
    "                \"5-5.\",\n",
    "                \"6-15.\",\n",
    "                \"7-10.\",\n",
    "                \"7-14.\",\n",
    "                \"8-18.\",\n",
    "                \"8-20.\",\n",
    "                \"8-3.\",\n",
    "                \"8-8.\",\n",
    "            ],\n",
    "            \"domains\": [1, 2, 3, 4, 5],\n",
    "            \"num_examples_per_domain_per_label\": 100,\n",
    "            \"pickle_path\": \"/mnt/wd500GB/CSC500/csc500-main/datasets/cores.stratified_ds.2022A.pkl\",\n",
    "            \"source_or_target_dataset\": \"source\",\n",
    "            \"x_transforms\": [\"unit_power\"],\n",
    "            \"episode_transforms\": [],\n",
    "            \"domain_prefix\": \"C_A_\",\n",
    "        },\n",
    "        {\n",
    "            \"labels\": [\n",
    "                \"1-10\",\n",
    "                \"1-12\",\n",
    "                \"1-14\",\n",
    "                \"1-16\",\n",
    "                \"1-18\",\n",
    "                \"1-19\",\n",
    "                \"1-8\",\n",
    "                \"10-11\",\n",
    "                \"10-17\",\n",
    "                \"10-4\",\n",
    "                \"10-7\",\n",
    "                \"11-1\",\n",
    "                \"11-10\",\n",
    "                \"11-19\",\n",
    "                \"11-20\",\n",
    "                \"11-4\",\n",
    "                \"11-7\",\n",
    "                \"12-19\",\n",
    "                \"12-20\",\n",
    "                \"12-7\",\n",
    "                \"13-14\",\n",
    "                \"13-18\",\n",
    "                \"13-19\",\n",
    "                \"13-20\",\n",
    "                \"13-3\",\n",
    "                \"13-7\",\n",
    "                \"14-10\",\n",
    "                \"14-11\",\n",
    "                \"14-12\",\n",
    "                \"14-13\",\n",
    "                \"14-14\",\n",
    "                \"14-19\",\n",
    "                \"14-20\",\n",
    "                \"14-7\",\n",
    "                \"14-8\",\n",
    "                \"14-9\",\n",
    "                \"15-1\",\n",
    "                \"15-19\",\n",
    "                \"15-6\",\n",
    "                \"16-1\",\n",
    "                \"16-16\",\n",
    "                \"16-19\",\n",
    "                \"16-20\",\n",
    "                \"17-10\",\n",
    "                \"17-11\",\n",
    "                \"18-1\",\n",
    "                \"18-10\",\n",
    "                \"18-11\",\n",
    "                \"18-12\",\n",
    "                \"18-13\",\n",
    "                \"18-14\",\n",
    "                \"18-15\",\n",
    "                \"18-16\",\n",
    "                \"18-17\",\n",
    "                \"18-19\",\n",
    "                \"18-2\",\n",
    "                \"18-20\",\n",
    "                \"18-4\",\n",
    "                \"18-5\",\n",
    "                \"18-7\",\n",
    "                \"18-8\",\n",
    "                \"18-9\",\n",
    "                \"19-1\",\n",
    "                \"19-10\",\n",
    "                \"19-11\",\n",
    "                \"19-12\",\n",
    "                \"19-13\",\n",
    "                \"19-14\",\n",
    "                \"19-15\",\n",
    "                \"19-19\",\n",
    "                \"19-2\",\n",
    "                \"19-20\",\n",
    "                \"19-3\",\n",
    "                \"19-4\",\n",
    "                \"19-6\",\n",
    "                \"19-7\",\n",
    "                \"19-8\",\n",
    "                \"19-9\",\n",
    "                \"2-1\",\n",
    "                \"2-13\",\n",
    "                \"2-15\",\n",
    "                \"2-3\",\n",
    "                \"2-4\",\n",
    "                \"2-5\",\n",
    "                \"2-6\",\n",
    "                \"2-7\",\n",
    "                \"2-8\",\n",
    "                \"20-1\",\n",
    "                \"20-12\",\n",
    "                \"20-14\",\n",
    "                \"20-15\",\n",
    "                \"20-16\",\n",
    "                \"20-18\",\n",
    "                \"20-19\",\n",
    "                \"20-20\",\n",
    "                \"20-3\",\n",
    "                \"20-4\",\n",
    "                \"20-5\",\n",
    "                \"20-7\",\n",
    "                \"20-8\",\n",
    "                \"3-1\",\n",
    "                \"3-13\",\n",
    "                \"3-18\",\n",
    "                \"3-2\",\n",
    "                \"3-8\",\n",
    "                \"4-1\",\n",
    "                \"4-10\",\n",
    "                \"4-11\",\n",
    "                \"5-1\",\n",
    "                \"5-5\",\n",
    "                \"6-1\",\n",
    "                \"6-15\",\n",
    "                \"6-6\",\n",
    "                \"7-10\",\n",
    "                \"7-11\",\n",
    "                \"7-12\",\n",
    "                \"7-13\",\n",
    "                \"7-14\",\n",
    "                \"7-7\",\n",
    "                \"7-8\",\n",
    "                \"7-9\",\n",
    "                \"8-1\",\n",
    "                \"8-13\",\n",
    "                \"8-14\",\n",
    "                \"8-18\",\n",
    "                \"8-20\",\n",
    "                \"8-3\",\n",
    "                \"8-8\",\n",
    "                \"9-1\",\n",
    "                \"9-7\",\n",
    "            ],\n",
    "            \"domains\": [1, 2, 3, 4],\n",
    "            \"num_examples_per_domain_per_label\": 100,\n",
    "            \"pickle_path\": \"/mnt/wd500GB/CSC500/csc500-main/datasets/wisig.node3-19.stratified_ds.2022A.pkl\",\n",
    "            \"source_or_target_dataset\": \"source\",\n",
    "            \"x_transforms\": [\"unit_power\"],\n",
    "            \"episode_transforms\": [],\n",
    "            \"domain_prefix\": \"W_A_\",\n",
    "        },\n",
    "        {\n",
    "            \"labels\": [\n",
    "                \"3123D52\",\n",
    "                \"3123D65\",\n",
    "                \"3123D79\",\n",
    "                \"3123D80\",\n",
    "                \"3123D54\",\n",
    "                \"3123D70\",\n",
    "                \"3123D7B\",\n",
    "                \"3123D89\",\n",
    "                \"3123D58\",\n",
    "                \"3123D76\",\n",
    "                \"3123D7D\",\n",
    "                \"3123EFE\",\n",
    "                \"3123D64\",\n",
    "                \"3123D78\",\n",
    "                \"3123D7E\",\n",
    "                \"3124E4A\",\n",
    "            ],\n",
    "            \"domains\": [32, 38, 8, 44, 14, 50, 20, 26],\n",
    "            \"num_examples_per_domain_per_label\": 2000,\n",
    "            \"pickle_path\": \"/mnt/wd500GB/CSC500/csc500-main/datasets/oracle.Run2_framed_2000Examples_stratified_ds.2022A.pkl\",\n",
    "            \"source_or_target_dataset\": \"target\",\n",
    "            \"x_transforms\": [\"unit_power\"],\n",
    "            \"episode_transforms\": [],\n",
    "            \"domain_prefix\": \"ORACLE.run2_\",\n",
    "        },\n",
    "    ],\n",
    "}\n"
   ]
  },
  {
   "cell_type": "code",
   "execution_count": 5,
   "id": "8fa1cc33",
   "metadata": {
    "execution": {
     "iopub.execute_input": "2022-03-17T04:10:18.227171Z",
     "iopub.status.busy": "2022-03-17T04:10:18.226907Z",
     "iopub.status.idle": "2022-03-17T04:10:18.237422Z",
     "shell.execute_reply": "2022-03-17T04:10:18.237065Z"
    },
    "papermill": {
     "duration": 0.026756,
     "end_time": "2022-03-17T04:10:18.237493",
     "exception": false,
     "start_time": "2022-03-17T04:10:18.210737",
     "status": "completed"
    },
    "tags": []
   },
   "outputs": [],
   "source": [
    "# Set this to True if you want to run this template directly\n",
    "STANDALONE = False\n",
    "if STANDALONE:\n",
    "    print(\"parameters not injected, running with standalone_parameters\")\n",
    "    parameters = standalone_parameters\n",
    "\n",
    "if not 'parameters' in locals() and not 'parameters' in globals():\n",
    "    raise Exception(\"Parameter injection failed\")\n",
    "\n",
    "#Use an easy dict for all the parameters\n",
    "p = EasyDict(parameters)\n",
    "\n",
    "supplied_keys = set(p.keys())\n",
    "\n",
    "if  supplied_keys != required_parameters:\n",
    "    print(\"Parameters are incorrect\")\n",
    "    if len(supplied_keys - required_parameters)>0: print(\"Shouldn't have:\", str(supplied_keys - required_parameters))\n",
    "    if len(required_parameters - supplied_keys)>0: print(\"Need to have:\", str(required_parameters - supplied_keys))\n",
    "    raise RuntimeError(\"Parameters are incorrect\")\n",
    "\n"
   ]
  },
  {
   "cell_type": "code",
   "execution_count": 6,
   "id": "3a028d58",
   "metadata": {
    "execution": {
     "iopub.execute_input": "2022-03-17T04:10:18.279599Z",
     "iopub.status.busy": "2022-03-17T04:10:18.275940Z",
     "iopub.status.idle": "2022-03-17T04:10:18.283008Z",
     "shell.execute_reply": "2022-03-17T04:10:18.282789Z"
    },
    "papermill": {
     "duration": 0.027606,
     "end_time": "2022-03-17T04:10:18.283063",
     "exception": false,
     "start_time": "2022-03-17T04:10:18.255457",
     "status": "completed"
    },
    "tags": []
   },
   "outputs": [],
   "source": [
    "###################################\n",
    "# Set the RNGs and make it all deterministic\n",
    "###################################\n",
    "np.random.seed(p.seed)\n",
    "random.seed(p.seed)\n",
    "torch.manual_seed(p.seed)\n",
    "\n",
    "torch.use_deterministic_algorithms(True) "
   ]
  },
  {
   "cell_type": "code",
   "execution_count": 7,
   "id": "b691acf6",
   "metadata": {
    "execution": {
     "iopub.execute_input": "2022-03-17T04:10:18.312181Z",
     "iopub.status.busy": "2022-03-17T04:10:18.311929Z",
     "iopub.status.idle": "2022-03-17T04:10:18.321980Z",
     "shell.execute_reply": "2022-03-17T04:10:18.322281Z"
    },
    "papermill": {
     "duration": 0.025559,
     "end_time": "2022-03-17T04:10:18.322363",
     "exception": false,
     "start_time": "2022-03-17T04:10:18.296804",
     "status": "completed"
    },
    "tags": []
   },
   "outputs": [],
   "source": [
    "###########################################\n",
    "# The stratified datasets honor this\n",
    "###########################################\n",
    "torch.set_default_dtype(eval(p.torch_default_dtype))"
   ]
  },
  {
   "cell_type": "code",
   "execution_count": 8,
   "id": "b5fba671",
   "metadata": {
    "execution": {
     "iopub.execute_input": "2022-03-17T04:10:18.356122Z",
     "iopub.status.busy": "2022-03-17T04:10:18.355874Z",
     "iopub.status.idle": "2022-03-17T04:10:18.393913Z",
     "shell.execute_reply": "2022-03-17T04:10:18.393457Z"
    },
    "papermill": {
     "duration": 0.053736,
     "end_time": "2022-03-17T04:10:18.394002",
     "exception": false,
     "start_time": "2022-03-17T04:10:18.340266",
     "status": "completed"
    },
    "tags": []
   },
   "outputs": [],
   "source": [
    "###################################\n",
    "# Build the network(s)\n",
    "# Note: It's critical to do this AFTER setting the RNG\n",
    "###################################\n",
    "x_net = build_sequential(p.x_net)"
   ]
  },
  {
   "cell_type": "code",
   "execution_count": 9,
   "id": "5d7e61cc",
   "metadata": {
    "execution": {
     "iopub.execute_input": "2022-03-17T04:10:18.430466Z",
     "iopub.status.busy": "2022-03-17T04:10:18.430220Z",
     "iopub.status.idle": "2022-03-17T04:10:18.445768Z",
     "shell.execute_reply": "2022-03-17T04:10:18.445320Z"
    },
    "papermill": {
     "duration": 0.031562,
     "end_time": "2022-03-17T04:10:18.445857",
     "exception": false,
     "start_time": "2022-03-17T04:10:18.414295",
     "status": "completed"
    },
    "tags": []
   },
   "outputs": [],
   "source": [
    "start_time_secs = time.time()"
   ]
  },
  {
   "cell_type": "code",
   "execution_count": 10,
   "id": "c6b67dfd",
   "metadata": {
    "execution": {
     "iopub.execute_input": "2022-03-17T04:10:18.480489Z",
     "iopub.status.busy": "2022-03-17T04:10:18.480239Z",
     "iopub.status.idle": "2022-03-17T04:10:18.493655Z",
     "shell.execute_reply": "2022-03-17T04:10:18.494032Z"
    },
    "papermill": {
     "duration": 0.029714,
     "end_time": "2022-03-17T04:10:18.494135",
     "exception": false,
     "start_time": "2022-03-17T04:10:18.464421",
     "status": "completed"
    },
    "tags": []
   },
   "outputs": [],
   "source": [
    "p.domains_source = []\n",
    "p.domains_target = []\n",
    "\n",
    "\n",
    "train_original_source = []\n",
    "val_original_source   = []\n",
    "test_original_source  = []\n",
    "\n",
    "train_original_target = []\n",
    "val_original_target   = []\n",
    "test_original_target  = []"
   ]
  },
  {
   "cell_type": "code",
   "execution_count": 11,
   "id": "e3d9c3d3",
   "metadata": {
    "execution": {
     "iopub.execute_input": "2022-03-17T04:10:18.528307Z",
     "iopub.status.busy": "2022-03-17T04:10:18.527738Z",
     "iopub.status.idle": "2022-03-17T04:10:18.541469Z",
     "shell.execute_reply": "2022-03-17T04:10:18.541076Z"
    },
    "papermill": {
     "duration": 0.028872,
     "end_time": "2022-03-17T04:10:18.541559",
     "exception": false,
     "start_time": "2022-03-17T04:10:18.512687",
     "status": "completed"
    },
    "tags": []
   },
   "outputs": [],
   "source": [
    "# global_x_transform_func = lambda x: normalize(x.to(torch.get_default_dtype()), \"unit_power\") # unit_power, unit_mag\n",
    "# global_x_transform_func = lambda x: normalize(x, \"unit_power\") # unit_power, unit_mag"
   ]
  },
  {
   "cell_type": "code",
   "execution_count": 12,
   "id": "acb78fd2",
   "metadata": {
    "execution": {
     "iopub.execute_input": "2022-03-17T04:10:18.581355Z",
     "iopub.status.busy": "2022-03-17T04:10:18.580978Z",
     "iopub.status.idle": "2022-03-17T04:10:18.591913Z",
     "shell.execute_reply": "2022-03-17T04:10:18.591512Z"
    },
    "papermill": {
     "duration": 0.031851,
     "end_time": "2022-03-17T04:10:18.592001",
     "exception": false,
     "start_time": "2022-03-17T04:10:18.560150",
     "status": "completed"
    },
    "tags": []
   },
   "outputs": [],
   "source": [
    "def add_dataset(\n",
    "    labels,\n",
    "    domains,\n",
    "    pickle_path,\n",
    "    x_transforms,\n",
    "    episode_transforms,\n",
    "    domain_prefix,\n",
    "    num_examples_per_domain_per_label,\n",
    "    source_or_target_dataset:str,\n",
    "    iterator_seed=p.seed,\n",
    "    dataset_seed=p.dataset_seed,\n",
    "    n_shot=p.n_shot,\n",
    "    n_way=p.n_way,\n",
    "    n_query=p.n_query,\n",
    "    train_val_test_k_factors=(p.train_k_factor,p.val_k_factor,p.test_k_factor),\n",
    "):\n",
    "   \n",
    "    if x_transforms == []: x_transform = None\n",
    "    else: x_transform = get_chained_transform(x_transforms)\n",
    "    \n",
    "    if episode_transforms == []: episode_transform = None\n",
    "    else: raise Exception(\"episode_transforms not implemented\")\n",
    "    \n",
    "    episode_transform = lambda tup, _prefix=domain_prefix: (_prefix + str(tup[0]), tup[1])\n",
    "\n",
    "\n",
    "    eaf = Episodic_Accessor_Factory(\n",
    "        labels=labels,\n",
    "        domains=domains,\n",
    "        num_examples_per_domain_per_label=num_examples_per_domain_per_label,\n",
    "        iterator_seed=iterator_seed,\n",
    "        dataset_seed=dataset_seed,\n",
    "        n_shot=n_shot,\n",
    "        n_way=n_way,\n",
    "        n_query=n_query,\n",
    "        train_val_test_k_factors=train_val_test_k_factors,\n",
    "        pickle_path=pickle_path,\n",
    "        x_transform_func=x_transform,\n",
    "    )\n",
    "\n",
    "    train, val, test = eaf.get_train(), eaf.get_val(), eaf.get_test()\n",
    "    train = Lazy_Iterable_Wrapper(train, episode_transform)\n",
    "    val = Lazy_Iterable_Wrapper(val, episode_transform)\n",
    "    test = Lazy_Iterable_Wrapper(test, episode_transform)\n",
    "\n",
    "    if source_or_target_dataset==\"source\":\n",
    "        train_original_source.append(train)\n",
    "        val_original_source.append(val)\n",
    "        test_original_source.append(test)\n",
    "\n",
    "        p.domains_source.extend(\n",
    "            [domain_prefix + str(u) for u in domains]\n",
    "        )\n",
    "    elif source_or_target_dataset==\"target\":\n",
    "        train_original_target.append(train)\n",
    "        val_original_target.append(val)\n",
    "        test_original_target.append(test)\n",
    "        p.domains_target.extend(\n",
    "            [domain_prefix + str(u) for u in domains]\n",
    "        )\n",
    "    else:\n",
    "        raise Exception(f\"invalid source_or_target_dataset: {source_or_target_dataset}\")\n",
    "    "
   ]
  },
  {
   "cell_type": "code",
   "execution_count": 13,
   "id": "fe266617",
   "metadata": {
    "execution": {
     "iopub.execute_input": "2022-03-17T04:10:18.625680Z",
     "iopub.status.busy": "2022-03-17T04:10:18.625429Z",
     "iopub.status.idle": "2022-03-17T04:10:39.277826Z",
     "shell.execute_reply": "2022-03-17T04:10:39.277352Z"
    },
    "papermill": {
     "duration": 20.668519,
     "end_time": "2022-03-17T04:10:39.277920",
     "exception": false,
     "start_time": "2022-03-17T04:10:18.609401",
     "status": "completed"
    },
    "tags": []
   },
   "outputs": [],
   "source": [
    "for ds in p.datasets:\n",
    "    add_dataset(**ds)"
   ]
  },
  {
   "cell_type": "code",
   "execution_count": 14,
   "id": "b90d65ac",
   "metadata": {
    "execution": {
     "iopub.execute_input": "2022-03-17T04:10:39.310784Z",
     "iopub.status.busy": "2022-03-17T04:10:39.310520Z",
     "iopub.status.idle": "2022-03-17T04:10:39.325952Z",
     "shell.execute_reply": "2022-03-17T04:10:39.325556Z"
    },
    "papermill": {
     "duration": 0.030229,
     "end_time": "2022-03-17T04:10:39.326041",
     "exception": false,
     "start_time": "2022-03-17T04:10:39.295812",
     "status": "completed"
    },
    "tags": []
   },
   "outputs": [],
   "source": [
    "# from steves_utils.CORES.utils import (\n",
    "#     ALL_NODES,\n",
    "#     ALL_NODES_MINIMUM_1000_EXAMPLES,\n",
    "#     ALL_DAYS\n",
    "# )\n",
    "\n",
    "# add_dataset(\n",
    "#     labels=ALL_NODES,\n",
    "#     domains = ALL_DAYS,\n",
    "#     num_examples_per_domain_per_label=100,\n",
    "#     pickle_path=os.path.join(get_datasets_base_path(), \"cores.stratified_ds.2022A.pkl\"),\n",
    "#     source_or_target_dataset=\"target\",\n",
    "#     x_transform_func=global_x_transform_func,\n",
    "#     domain_modifier=lambda u: f\"cores_{u}\"\n",
    "# )"
   ]
  },
  {
   "cell_type": "code",
   "execution_count": 15,
   "id": "76db484d",
   "metadata": {
    "execution": {
     "iopub.execute_input": "2022-03-17T04:10:39.358875Z",
     "iopub.status.busy": "2022-03-17T04:10:39.358620Z",
     "iopub.status.idle": "2022-03-17T04:10:39.369096Z",
     "shell.execute_reply": "2022-03-17T04:10:39.368879Z"
    },
    "papermill": {
     "duration": 0.025308,
     "end_time": "2022-03-17T04:10:39.369144",
     "exception": false,
     "start_time": "2022-03-17T04:10:39.343836",
     "status": "completed"
    },
    "tags": []
   },
   "outputs": [],
   "source": [
    "# from steves_utils.ORACLE.utils_v2 import (\n",
    "#     ALL_DISTANCES_FEET,\n",
    "#     ALL_RUNS,\n",
    "#     ALL_SERIAL_NUMBERS,\n",
    "# )\n",
    "\n",
    "\n",
    "# add_dataset(\n",
    "#     labels=ALL_SERIAL_NUMBERS,\n",
    "#     domains = list(set(ALL_DISTANCES_FEET) - {2,62}),\n",
    "#     num_examples_per_domain_per_label=100,\n",
    "#     pickle_path=os.path.join(get_datasets_base_path(), \"oracle.Run2_framed_2000Examples_stratified_ds.2022A.pkl\"),\n",
    "#     source_or_target_dataset=\"source\",\n",
    "#     x_transform_func=global_x_transform_func,\n",
    "#     domain_modifier=lambda u: f\"oracle1_{u}\"\n",
    "# )\n"
   ]
  },
  {
   "cell_type": "code",
   "execution_count": 16,
   "id": "97dea9d2",
   "metadata": {
    "execution": {
     "iopub.execute_input": "2022-03-17T04:10:39.400699Z",
     "iopub.status.busy": "2022-03-17T04:10:39.400448Z",
     "iopub.status.idle": "2022-03-17T04:10:39.410303Z",
     "shell.execute_reply": "2022-03-17T04:10:39.410062Z"
    },
    "papermill": {
     "duration": 0.025369,
     "end_time": "2022-03-17T04:10:39.410358",
     "exception": false,
     "start_time": "2022-03-17T04:10:39.384989",
     "status": "completed"
    },
    "tags": []
   },
   "outputs": [],
   "source": [
    "# from steves_utils.ORACLE.utils_v2 import (\n",
    "#     ALL_DISTANCES_FEET,\n",
    "#     ALL_RUNS,\n",
    "#     ALL_SERIAL_NUMBERS,\n",
    "# )\n",
    "\n",
    "\n",
    "# add_dataset(\n",
    "#     labels=ALL_SERIAL_NUMBERS,\n",
    "#     domains = list(set(ALL_DISTANCES_FEET) - {2,62,56}),\n",
    "#     num_examples_per_domain_per_label=100,\n",
    "#     pickle_path=os.path.join(get_datasets_base_path(), \"oracle.Run2_framed_2000Examples_stratified_ds.2022A.pkl\"),\n",
    "#     source_or_target_dataset=\"source\",\n",
    "#     x_transform_func=global_x_transform_func,\n",
    "#     domain_modifier=lambda u: f\"oracle2_{u}\"\n",
    "# )"
   ]
  },
  {
   "cell_type": "code",
   "execution_count": 17,
   "id": "6f289866",
   "metadata": {
    "execution": {
     "iopub.execute_input": "2022-03-17T04:10:39.442219Z",
     "iopub.status.busy": "2022-03-17T04:10:39.441892Z",
     "iopub.status.idle": "2022-03-17T04:10:39.456151Z",
     "shell.execute_reply": "2022-03-17T04:10:39.455737Z"
    },
    "papermill": {
     "duration": 0.029523,
     "end_time": "2022-03-17T04:10:39.456240",
     "exception": false,
     "start_time": "2022-03-17T04:10:39.426717",
     "status": "completed"
    },
    "tags": []
   },
   "outputs": [],
   "source": [
    "# add_dataset(\n",
    "#     labels=list(range(19)),\n",
    "#     domains = [0,1,2],\n",
    "#     num_examples_per_domain_per_label=100,\n",
    "#     pickle_path=os.path.join(get_datasets_base_path(), \"metehan.stratified_ds.2022A.pkl\"),\n",
    "#     source_or_target_dataset=\"target\",\n",
    "#     x_transform_func=global_x_transform_func,\n",
    "#     domain_modifier=lambda u: f\"met_{u}\"\n",
    "# )"
   ]
  },
  {
   "cell_type": "code",
   "execution_count": 18,
   "id": "86a863c3",
   "metadata": {
    "execution": {
     "iopub.execute_input": "2022-03-17T04:10:39.490337Z",
     "iopub.status.busy": "2022-03-17T04:10:39.490084Z",
     "iopub.status.idle": "2022-03-17T04:10:39.500309Z",
     "shell.execute_reply": "2022-03-17T04:10:39.499949Z"
    },
    "papermill": {
     "duration": 0.025193,
     "end_time": "2022-03-17T04:10:39.500397",
     "exception": false,
     "start_time": "2022-03-17T04:10:39.475204",
     "status": "completed"
    },
    "tags": []
   },
   "outputs": [],
   "source": [
    "# # from steves_utils.wisig.utils import (\n",
    "# #     ALL_NODES_MINIMUM_100_EXAMPLES,\n",
    "# #     ALL_NODES_MINIMUM_500_EXAMPLES,\n",
    "# #     ALL_NODES_MINIMUM_1000_EXAMPLES,\n",
    "# #     ALL_DAYS\n",
    "# # )\n",
    "\n",
    "# import steves_utils.wisig.utils as wisig\n",
    "\n",
    "\n",
    "# add_dataset(\n",
    "#     labels=wisig.ALL_NODES_MINIMUM_100_EXAMPLES,\n",
    "#     domains = wisig.ALL_DAYS,\n",
    "#     num_examples_per_domain_per_label=100,\n",
    "#     pickle_path=os.path.join(get_datasets_base_path(), \"wisig.node3-19.stratified_ds.2022A.pkl\"),\n",
    "#     source_or_target_dataset=\"target\",\n",
    "#     x_transform_func=global_x_transform_func,\n",
    "#     domain_modifier=lambda u: f\"wisig_{u}\"\n",
    "# )"
   ]
  },
  {
   "cell_type": "code",
   "execution_count": 19,
   "id": "fd5442bc",
   "metadata": {
    "execution": {
     "iopub.execute_input": "2022-03-17T04:10:39.536213Z",
     "iopub.status.busy": "2022-03-17T04:10:39.535937Z",
     "iopub.status.idle": "2022-03-17T04:10:39.549398Z",
     "shell.execute_reply": "2022-03-17T04:10:39.548952Z"
    },
    "papermill": {
     "duration": 0.032122,
     "end_time": "2022-03-17T04:10:39.549485",
     "exception": false,
     "start_time": "2022-03-17T04:10:39.517363",
     "status": "completed"
    },
    "tags": []
   },
   "outputs": [],
   "source": [
    "###################################\n",
    "# Build the dataset\n",
    "###################################\n",
    "train_original_source = Iterable_Aggregator(train_original_source, p.seed)\n",
    "val_original_source = Iterable_Aggregator(val_original_source, p.seed)\n",
    "test_original_source = Iterable_Aggregator(test_original_source, p.seed)\n",
    "\n",
    "\n",
    "train_original_target = Iterable_Aggregator(train_original_target, p.seed)\n",
    "val_original_target = Iterable_Aggregator(val_original_target, p.seed)\n",
    "test_original_target = Iterable_Aggregator(test_original_target, p.seed)\n",
    "\n",
    "# For CNN We only use X and Y. And we only train on the source.\n",
    "# Properly form the data using a transform lambda and Lazy_Iterable_Wrapper. Finally wrap them in a dataloader\n",
    "\n",
    "transform_lambda = lambda ex: ex[1] # Original is (<domain>, <episode>) so we strip down to episode only\n",
    "\n",
    "train_processed_source = Lazy_Iterable_Wrapper(train_original_source, transform_lambda)\n",
    "val_processed_source   = Lazy_Iterable_Wrapper(val_original_source, transform_lambda)\n",
    "test_processed_source  = Lazy_Iterable_Wrapper(test_original_source, transform_lambda)\n",
    "\n",
    "train_processed_target = Lazy_Iterable_Wrapper(train_original_target, transform_lambda)\n",
    "val_processed_target   = Lazy_Iterable_Wrapper(val_original_target, transform_lambda)\n",
    "test_processed_target  = Lazy_Iterable_Wrapper(test_original_target, transform_lambda)\n",
    "\n",
    "datasets = EasyDict({\n",
    "    \"source\": {\n",
    "        \"original\": {\"train\":train_original_source, \"val\":val_original_source, \"test\":test_original_source},\n",
    "        \"processed\": {\"train\":train_processed_source, \"val\":val_processed_source, \"test\":test_processed_source}\n",
    "    },\n",
    "    \"target\": {\n",
    "        \"original\": {\"train\":train_original_target, \"val\":val_original_target, \"test\":test_original_target},\n",
    "        \"processed\": {\"train\":train_processed_target, \"val\":val_processed_target, \"test\":test_processed_target}\n",
    "    },\n",
    "})"
   ]
  },
  {
   "cell_type": "code",
   "execution_count": 20,
   "id": "5b3c01fc",
   "metadata": {
    "execution": {
     "iopub.execute_input": "2022-03-17T04:10:39.584075Z",
     "iopub.status.busy": "2022-03-17T04:10:39.583825Z",
     "iopub.status.idle": "2022-03-17T04:10:44.319594Z",
     "shell.execute_reply": "2022-03-17T04:10:44.320060Z"
    },
    "papermill": {
     "duration": 4.75201,
     "end_time": "2022-03-17T04:10:44.320203",
     "exception": false,
     "start_time": "2022-03-17T04:10:39.568193",
     "status": "completed"
    },
    "tags": []
   },
   "outputs": [
    {
     "name": "stdout",
     "output_type": "stream",
     "text": [
      "{'C_A_4', 'W_A_2', 'W_A_1', 'C_A_1', 'C_A_2', 'W_A_3', 'C_A_5', 'C_A_3', 'W_A_4'}\n"
     ]
    },
    {
     "name": "stdout",
     "output_type": "stream",
     "text": [
      "{'ORACLE.run2_38', 'ORACLE.run2_8', 'ORACLE.run2_14', 'ORACLE.run2_26', 'ORACLE.run2_32', 'ORACLE.run2_20', 'ORACLE.run2_50', 'ORACLE.run2_44'}\n"
     ]
    },
    {
     "name": "stdout",
     "output_type": "stream",
     "text": [
      "tensor([[[-1.1274, -0.5022, -0.0205,  ..., -1.0843,  0.0000,  0.6764],\n",
      "         [ 0.4469,  0.0041, -0.1189,  ..., -1.0003,  0.0000, -0.0102]],\n",
      "\n",
      "        [[-0.6446,  1.3212,  0.5265,  ..., -0.5645, -0.4904, -0.6566],\n",
      "         [-1.4673,  0.1001,  1.3272,  ...,  0.8328,  0.1221, -0.7207]],\n",
      "\n",
      "        [[-0.8172,  0.3120,  0.4650,  ...,  0.5032,  0.2697,  0.3160],\n",
      "         [-0.4227, -0.4549, -0.7428,  ...,  0.0060, -0.6844, -1.3164]],\n",
      "\n",
      "        ...,\n",
      "\n",
      "        [[ 0.5357, -0.6498, -0.2553,  ...,  0.0077,  0.0751,  0.5211],\n",
      "         [ 0.5162,  0.3158, -0.4167,  ...,  0.5364, -0.3298, -0.0348]],\n",
      "\n",
      "        [[-0.1846,  0.2182, -0.4022,  ..., -0.2592, -0.5694, -0.4150],\n",
      "         [-0.1370, -0.0980, -0.1571,  ...,  0.7272,  0.1887, -1.0784]],\n",
      "\n",
      "        [[ 0.1273,  0.6059, -0.8592,  ...,  0.8839,  0.1041, -0.1041],\n",
      "         [-0.7730,  0.2711,  0.4635,  ...,  0.0164,  0.1698, -0.3629]]])\n"
     ]
    }
   ],
   "source": [
    "from steves_utils.transforms import get_average_magnitude, get_average_power\n",
    "\n",
    "print(set([u for u,_ in val_original_source]))\n",
    "print(set([u for u,_ in val_original_target]))\n",
    "\n",
    "s_x, s_y, q_x, q_y, _ = next(iter(train_processed_source))\n",
    "print(s_x)\n",
    "\n",
    "# for ds in [\n",
    "#     train_processed_source,\n",
    "#     val_processed_source,\n",
    "#     test_processed_source,\n",
    "#     train_processed_target,\n",
    "#     val_processed_target,\n",
    "#     test_processed_target\n",
    "# ]:\n",
    "#     for s_x, s_y, q_x, q_y, _ in ds:\n",
    "#         for X in (s_x, q_x):\n",
    "#             for x in X:\n",
    "#                 assert np.isclose(get_average_magnitude(x.numpy()), 1.0)\n",
    "#                 assert np.isclose(get_average_power(x.numpy()), 1.0)\n",
    "                "
   ]
  },
  {
   "cell_type": "code",
   "execution_count": 21,
   "id": "bbdacba1",
   "metadata": {
    "execution": {
     "iopub.execute_input": "2022-03-17T04:10:44.364036Z",
     "iopub.status.busy": "2022-03-17T04:10:44.363777Z",
     "iopub.status.idle": "2022-03-17T04:10:44.423556Z",
     "shell.execute_reply": "2022-03-17T04:10:44.423933Z"
    },
    "papermill": {
     "duration": 0.078014,
     "end_time": "2022-03-17T04:10:44.424042",
     "exception": false,
     "start_time": "2022-03-17T04:10:44.346028",
     "status": "completed"
    },
    "tags": []
   },
   "outputs": [
    {
     "name": "stdout",
     "output_type": "stream",
     "text": [
      "(2, 256)\n"
     ]
    }
   ],
   "source": [
    "###################################\n",
    "# Build the model\n",
    "###################################\n",
    "model = Steves_Prototypical_Network(x_net, device=p.device, x_shape=(2,256))\n",
    "optimizer = Adam(params=model.parameters(), lr=p.lr)"
   ]
  },
  {
   "cell_type": "code",
   "execution_count": 22,
   "id": "22b39ac5",
   "metadata": {
    "execution": {
     "iopub.execute_input": "2022-03-17T04:10:44.462015Z",
     "iopub.status.busy": "2022-03-17T04:10:44.461756Z",
     "iopub.status.idle": "2022-03-17T04:16:53.142181Z",
     "shell.execute_reply": "2022-03-17T04:16:53.141760Z"
    },
    "papermill": {
     "duration": 368.698005,
     "end_time": "2022-03-17T04:16:53.142280",
     "exception": false,
     "start_time": "2022-03-17T04:10:44.444275",
     "status": "completed"
    },
    "tags": []
   },
   "outputs": [
    {
     "name": "stdout",
     "output_type": "stream",
     "text": [
      "epoch: 1, [batch: 1 / 2081], examples_per_second: 125.7318, train_label_loss: 2.9376, \n"
     ]
    },
    {
     "name": "stdout",
     "output_type": "stream",
     "text": [
      "epoch: 1, [batch: 209 / 2081], examples_per_second: 3206.1539, train_label_loss: 0.0794, \n"
     ]
    },
    {
     "name": "stdout",
     "output_type": "stream",
     "text": [
      "epoch: 1, [batch: 417 / 2081], examples_per_second: 3237.0273, train_label_loss: 0.6952, \n"
     ]
    },
    {
     "name": "stdout",
     "output_type": "stream",
     "text": [
      "epoch: 1, [batch: 625 / 2081], examples_per_second: 3228.8411, train_label_loss: 0.0459, \n"
     ]
    },
    {
     "name": "stdout",
     "output_type": "stream",
     "text": [
      "epoch: 1, [batch: 833 / 2081], examples_per_second: 3261.0752, train_label_loss: 0.6196, \n"
     ]
    },
    {
     "name": "stdout",
     "output_type": "stream",
     "text": [
      "epoch: 1, [batch: 1041 / 2081], examples_per_second: 3242.6049, train_label_loss: 0.0285, \n"
     ]
    },
    {
     "name": "stdout",
     "output_type": "stream",
     "text": [
      "epoch: 1, [batch: 1249 / 2081], examples_per_second: 3217.7370, train_label_loss: 0.4256, \n"
     ]
    },
    {
     "name": "stdout",
     "output_type": "stream",
     "text": [
      "epoch: 1, [batch: 1457 / 2081], examples_per_second: 3196.6651, train_label_loss: 0.2558, \n"
     ]
    },
    {
     "name": "stdout",
     "output_type": "stream",
     "text": [
      "epoch: 1, [batch: 1665 / 2081], examples_per_second: 3234.2263, train_label_loss: 0.0478, \n"
     ]
    },
    {
     "name": "stdout",
     "output_type": "stream",
     "text": [
      "epoch: 1, [batch: 1873 / 2081], examples_per_second: 3229.3446, train_label_loss: 0.1838, \n"
     ]
    },
    {
     "name": "stdout",
     "output_type": "stream",
     "text": [
      "=============================================================\n",
      "epoch: 1, source_val_acc_label: 0.9543, target_val_acc_label: 0.2105, source_val_label_loss: 0.1965, target_val_label_loss: 2.4426, \n",
      "=============================================================\n"
     ]
    },
    {
     "name": "stdout",
     "output_type": "stream",
     "text": [
      "New best\n"
     ]
    },
    {
     "name": "stdout",
     "output_type": "stream",
     "text": [
      "epoch: 2, [batch: 1 / 2079], examples_per_second: 10.4734, train_label_loss: 0.1391, \n"
     ]
    },
    {
     "name": "stdout",
     "output_type": "stream",
     "text": [
      "epoch: 2, [batch: 208 / 2079], examples_per_second: 3227.5598, train_label_loss: 0.2673, \n"
     ]
    },
    {
     "name": "stdout",
     "output_type": "stream",
     "text": [
      "epoch: 2, [batch: 416 / 2079], examples_per_second: 3254.2852, train_label_loss: 0.0242, \n"
     ]
    },
    {
     "name": "stdout",
     "output_type": "stream",
     "text": [
      "epoch: 2, [batch: 624 / 2079], examples_per_second: 3277.7894, train_label_loss: 0.2123, \n"
     ]
    },
    {
     "name": "stdout",
     "output_type": "stream",
     "text": [
      "epoch: 2, [batch: 832 / 2079], examples_per_second: 3251.1478, train_label_loss: 0.1614, \n"
     ]
    },
    {
     "name": "stdout",
     "output_type": "stream",
     "text": [
      "epoch: 2, [batch: 1040 / 2079], examples_per_second: 3248.3625, train_label_loss: 0.3569, \n"
     ]
    },
    {
     "name": "stdout",
     "output_type": "stream",
     "text": [
      "epoch: 2, [batch: 1247 / 2079], examples_per_second: 3264.9830, train_label_loss: 0.0320, \n"
     ]
    },
    {
     "name": "stdout",
     "output_type": "stream",
     "text": [
      "epoch: 2, [batch: 1455 / 2079], examples_per_second: 3232.0977, train_label_loss: 0.1067, \n"
     ]
    },
    {
     "name": "stdout",
     "output_type": "stream",
     "text": [
      "epoch: 2, [batch: 1663 / 2079], examples_per_second: 3248.2252, train_label_loss: 0.0168, \n"
     ]
    },
    {
     "name": "stdout",
     "output_type": "stream",
     "text": [
      "epoch: 2, [batch: 1871 / 2079], examples_per_second: 3252.4924, train_label_loss: 0.0394, \n"
     ]
    },
    {
     "name": "stdout",
     "output_type": "stream",
     "text": [
      "=============================================================\n",
      "epoch: 2, source_val_acc_label: 0.9658, target_val_acc_label: 0.2051, source_val_label_loss: 0.1640, target_val_label_loss: 2.4296, \n",
      "=============================================================\n"
     ]
    },
    {
     "name": "stdout",
     "output_type": "stream",
     "text": [
      "New best\n"
     ]
    },
    {
     "name": "stdout",
     "output_type": "stream",
     "text": [
      "epoch: 3, [batch: 1 / 2082], examples_per_second: 10.4873, train_label_loss: 0.4786, \n"
     ]
    },
    {
     "name": "stdout",
     "output_type": "stream",
     "text": [
      "epoch: 3, [batch: 209 / 2082], examples_per_second: 3225.9531, train_label_loss: 0.4529, \n"
     ]
    },
    {
     "name": "stdout",
     "output_type": "stream",
     "text": [
      "epoch: 3, [batch: 417 / 2082], examples_per_second: 3258.9886, train_label_loss: 0.4450, \n"
     ]
    },
    {
     "name": "stdout",
     "output_type": "stream",
     "text": [
      "epoch: 3, [batch: 625 / 2082], examples_per_second: 3254.4289, train_label_loss: 0.5288, \n"
     ]
    },
    {
     "name": "stdout",
     "output_type": "stream",
     "text": [
      "epoch: 3, [batch: 833 / 2082], examples_per_second: 3266.6002, train_label_loss: 0.2881, \n"
     ]
    },
    {
     "name": "stdout",
     "output_type": "stream",
     "text": [
      "epoch: 3, [batch: 1041 / 2082], examples_per_second: 3235.7208, train_label_loss: 0.0065, \n"
     ]
    },
    {
     "name": "stdout",
     "output_type": "stream",
     "text": [
      "epoch: 3, [batch: 1249 / 2082], examples_per_second: 3248.7534, train_label_loss: 0.0010, \n"
     ]
    },
    {
     "name": "stdout",
     "output_type": "stream",
     "text": [
      "epoch: 3, [batch: 1457 / 2082], examples_per_second: 3227.2612, train_label_loss: 0.0102, \n"
     ]
    },
    {
     "name": "stdout",
     "output_type": "stream",
     "text": [
      "epoch: 3, [batch: 1665 / 2082], examples_per_second: 3256.6349, train_label_loss: 0.0571, \n"
     ]
    },
    {
     "name": "stdout",
     "output_type": "stream",
     "text": [
      "epoch: 3, [batch: 1873 / 2082], examples_per_second: 3242.9769, train_label_loss: 0.0486, \n"
     ]
    },
    {
     "name": "stdout",
     "output_type": "stream",
     "text": [
      "=============================================================\n",
      "epoch: 3, source_val_acc_label: 0.9716, target_val_acc_label: 0.1867, source_val_label_loss: 0.1283, target_val_label_loss: 2.4697, \n",
      "=============================================================\n"
     ]
    },
    {
     "name": "stdout",
     "output_type": "stream",
     "text": [
      "epoch: 4, [batch: 1 / 2080], examples_per_second: 10.5799, train_label_loss: 0.1790, \n"
     ]
    },
    {
     "name": "stdout",
     "output_type": "stream",
     "text": [
      "epoch: 4, [batch: 208 / 2080], examples_per_second: 3224.6522, train_label_loss: 0.1084, \n"
     ]
    },
    {
     "name": "stdout",
     "output_type": "stream",
     "text": [
      "epoch: 4, [batch: 416 / 2080], examples_per_second: 3243.7078, train_label_loss: 0.0240, \n"
     ]
    },
    {
     "name": "stdout",
     "output_type": "stream",
     "text": [
      "epoch: 4, [batch: 624 / 2080], examples_per_second: 3244.3041, train_label_loss: 0.0031, \n"
     ]
    },
    {
     "name": "stdout",
     "output_type": "stream",
     "text": [
      "epoch: 4, [batch: 832 / 2080], examples_per_second: 3255.0390, train_label_loss: 0.0584, \n"
     ]
    },
    {
     "name": "stdout",
     "output_type": "stream",
     "text": [
      "epoch: 4, [batch: 1040 / 2080], examples_per_second: 3235.9170, train_label_loss: 0.0772, \n"
     ]
    },
    {
     "name": "stdout",
     "output_type": "stream",
     "text": [
      "epoch: 4, [batch: 1248 / 2080], examples_per_second: 3245.2106, train_label_loss: 0.0038, \n"
     ]
    },
    {
     "name": "stdout",
     "output_type": "stream",
     "text": [
      "epoch: 4, [batch: 1456 / 2080], examples_per_second: 3219.0794, train_label_loss: 0.0754, \n"
     ]
    },
    {
     "name": "stdout",
     "output_type": "stream",
     "text": [
      "epoch: 4, [batch: 1664 / 2080], examples_per_second: 3252.6196, train_label_loss: 0.0069, \n"
     ]
    },
    {
     "name": "stdout",
     "output_type": "stream",
     "text": [
      "epoch: 4, [batch: 1872 / 2080], examples_per_second: 3249.8047, train_label_loss: 0.3306, \n"
     ]
    },
    {
     "name": "stdout",
     "output_type": "stream",
     "text": [
      "=============================================================\n",
      "epoch: 4, source_val_acc_label: 0.9725, target_val_acc_label: 0.1797, source_val_label_loss: 0.1307, target_val_label_loss: 2.6131, \n",
      "=============================================================\n"
     ]
    },
    {
     "name": "stdout",
     "output_type": "stream",
     "text": [
      "epoch: 5, [batch: 1 / 2079], examples_per_second: 10.5563, train_label_loss: 0.0106, \n"
     ]
    },
    {
     "name": "stdout",
     "output_type": "stream",
     "text": [
      "epoch: 5, [batch: 208 / 2079], examples_per_second: 3215.0435, train_label_loss: 0.2561, \n"
     ]
    },
    {
     "name": "stdout",
     "output_type": "stream",
     "text": [
      "epoch: 5, [batch: 416 / 2079], examples_per_second: 3234.6332, train_label_loss: 0.1299, \n"
     ]
    },
    {
     "name": "stdout",
     "output_type": "stream",
     "text": [
      "epoch: 5, [batch: 624 / 2079], examples_per_second: 3217.5811, train_label_loss: 0.0051, \n"
     ]
    },
    {
     "name": "stdout",
     "output_type": "stream",
     "text": [
      "epoch: 5, [batch: 832 / 2079], examples_per_second: 3226.0575, train_label_loss: 0.0013, \n"
     ]
    },
    {
     "name": "stdout",
     "output_type": "stream",
     "text": [
      "epoch: 5, [batch: 1040 / 2079], examples_per_second: 3260.7848, train_label_loss: 0.4105, \n"
     ]
    },
    {
     "name": "stdout",
     "output_type": "stream",
     "text": [
      "epoch: 5, [batch: 1247 / 2079], examples_per_second: 3244.3252, train_label_loss: 0.0849, \n"
     ]
    },
    {
     "name": "stdout",
     "output_type": "stream",
     "text": [
      "epoch: 5, [batch: 1455 / 2079], examples_per_second: 3226.1361, train_label_loss: 0.3152, \n"
     ]
    },
    {
     "name": "stdout",
     "output_type": "stream",
     "text": [
      "epoch: 5, [batch: 1663 / 2079], examples_per_second: 3234.8193, train_label_loss: 0.1293, \n"
     ]
    },
    {
     "name": "stdout",
     "output_type": "stream",
     "text": [
      "epoch: 5, [batch: 1871 / 2079], examples_per_second: 3246.0970, train_label_loss: 0.1924, \n"
     ]
    },
    {
     "name": "stdout",
     "output_type": "stream",
     "text": [
      "=============================================================\n",
      "epoch: 5, source_val_acc_label: 0.9724, target_val_acc_label: 0.1678, source_val_label_loss: 0.1290, target_val_label_loss: 2.9998, \n",
      "=============================================================\n"
     ]
    },
    {
     "name": "stdout",
     "output_type": "stream",
     "text": [
      "epoch: 6, [batch: 1 / 2081], examples_per_second: 10.5603, train_label_loss: 0.0954, \n"
     ]
    },
    {
     "name": "stdout",
     "output_type": "stream",
     "text": [
      "epoch: 6, [batch: 209 / 2081], examples_per_second: 3235.7341, train_label_loss: 0.0009, \n"
     ]
    },
    {
     "name": "stdout",
     "output_type": "stream",
     "text": [
      "epoch: 6, [batch: 417 / 2081], examples_per_second: 3238.2794, train_label_loss: 0.0058, \n"
     ]
    },
    {
     "name": "stdout",
     "output_type": "stream",
     "text": [
      "epoch: 6, [batch: 625 / 2081], examples_per_second: 3244.4696, train_label_loss: 0.0048, \n"
     ]
    },
    {
     "name": "stdout",
     "output_type": "stream",
     "text": [
      "epoch: 6, [batch: 833 / 2081], examples_per_second: 3246.8420, train_label_loss: 0.0019, \n"
     ]
    },
    {
     "name": "stdout",
     "output_type": "stream",
     "text": [
      "epoch: 6, [batch: 1041 / 2081], examples_per_second: 3218.2145, train_label_loss: 0.0714, \n"
     ]
    },
    {
     "name": "stdout",
     "output_type": "stream",
     "text": [
      "epoch: 6, [batch: 1249 / 2081], examples_per_second: 3238.5382, train_label_loss: 0.0501, \n"
     ]
    },
    {
     "name": "stdout",
     "output_type": "stream",
     "text": [
      "epoch: 6, [batch: 1457 / 2081], examples_per_second: 3238.8403, train_label_loss: 0.0003, \n"
     ]
    },
    {
     "name": "stdout",
     "output_type": "stream",
     "text": [
      "epoch: 6, [batch: 1665 / 2081], examples_per_second: 3201.3461, train_label_loss: 0.0067, \n"
     ]
    },
    {
     "name": "stdout",
     "output_type": "stream",
     "text": [
      "epoch: 6, [batch: 1873 / 2081], examples_per_second: 3212.3825, train_label_loss: 0.0036, \n"
     ]
    },
    {
     "name": "stdout",
     "output_type": "stream",
     "text": [
      "=============================================================\n",
      "epoch: 6, source_val_acc_label: 0.9758, target_val_acc_label: 0.1715, source_val_label_loss: 0.1275, target_val_label_loss: 2.8314, \n",
      "=============================================================\n"
     ]
    },
    {
     "name": "stdout",
     "output_type": "stream",
     "text": [
      "Patience (3) exhausted\n"
     ]
    }
   ],
   "source": [
    "###################################\n",
    "# train\n",
    "###################################\n",
    "jig = PTN_Train_Eval_Test_Jig(model, p.BEST_MODEL_PATH, p.device)\n",
    "\n",
    "jig.train(\n",
    "    train_iterable=datasets.source.processed.train,\n",
    "    source_val_iterable=datasets.source.processed.val,\n",
    "    target_val_iterable=datasets.target.processed.val,\n",
    "    num_epochs=p.n_epoch,\n",
    "    num_logs_per_epoch=p.NUM_LOGS_PER_EPOCH,\n",
    "    patience=p.patience,\n",
    "    optimizer=optimizer,\n",
    "    criteria_for_best=p.criteria_for_best,\n",
    ")"
   ]
  },
  {
   "cell_type": "code",
   "execution_count": 23,
   "id": "31e8fabf",
   "metadata": {
    "execution": {
     "iopub.execute_input": "2022-03-17T04:16:53.203327Z",
     "iopub.status.busy": "2022-03-17T04:16:53.203066Z",
     "iopub.status.idle": "2022-03-17T04:16:53.222320Z",
     "shell.execute_reply": "2022-03-17T04:16:53.221925Z"
    },
    "papermill": {
     "duration": 0.048721,
     "end_time": "2022-03-17T04:16:53.222410",
     "exception": false,
     "start_time": "2022-03-17T04:16:53.173689",
     "status": "completed"
    },
    "tags": []
   },
   "outputs": [],
   "source": [
    "total_experiment_time_secs = time.time() - start_time_secs"
   ]
  },
  {
   "cell_type": "code",
   "execution_count": 24,
   "id": "87b9595b",
   "metadata": {
    "execution": {
     "iopub.execute_input": "2022-03-17T04:16:53.285707Z",
     "iopub.status.busy": "2022-03-17T04:16:53.285437Z",
     "iopub.status.idle": "2022-03-17T04:17:57.345496Z",
     "shell.execute_reply": "2022-03-17T04:17:57.345928Z"
    },
    "papermill": {
     "duration": 64.092454,
     "end_time": "2022-03-17T04:17:57.346063",
     "exception": false,
     "start_time": "2022-03-17T04:16:53.253609",
     "status": "completed"
    },
    "tags": []
   },
   "outputs": [],
   "source": [
    "###################################\n",
    "# Evaluate the model\n",
    "###################################\n",
    "source_test_label_accuracy, source_test_label_loss = jig.test(datasets.source.processed.test)\n",
    "target_test_label_accuracy, target_test_label_loss = jig.test(datasets.target.processed.test)\n",
    "\n",
    "source_val_label_accuracy, source_val_label_loss = jig.test(datasets.source.processed.val)\n",
    "target_val_label_accuracy, target_val_label_loss = jig.test(datasets.target.processed.val)\n",
    "\n",
    "history = jig.get_history()\n",
    "\n",
    "total_epochs_trained = len(history[\"epoch_indices\"])\n",
    "\n",
    "val_dl = Iterable_Aggregator((datasets.source.original.val,datasets.target.original.val))\n",
    "\n",
    "confusion = ptn_confusion_by_domain_over_dataloader(model, p.device, val_dl)\n",
    "per_domain_accuracy = per_domain_accuracy_from_confusion(confusion)\n",
    "\n",
    "# Add a key to per_domain_accuracy for if it was a source domain\n",
    "for domain, accuracy in per_domain_accuracy.items():\n",
    "    per_domain_accuracy[domain] = {\n",
    "        \"accuracy\": accuracy,\n",
    "        \"source?\": domain in p.domains_source\n",
    "    }\n",
    "\n",
    "# Do an independent accuracy assesment JUST TO BE SURE!\n",
    "# _source_test_label_accuracy = independent_accuracy_assesment(model, datasets.source.processed.test, p.device)\n",
    "# _target_test_label_accuracy = independent_accuracy_assesment(model, datasets.target.processed.test, p.device)\n",
    "# _source_val_label_accuracy = independent_accuracy_assesment(model, datasets.source.processed.val, p.device)\n",
    "# _target_val_label_accuracy = independent_accuracy_assesment(model, datasets.target.processed.val, p.device)\n",
    "\n",
    "# assert(_source_test_label_accuracy == source_test_label_accuracy)\n",
    "# assert(_target_test_label_accuracy == target_test_label_accuracy)\n",
    "# assert(_source_val_label_accuracy == source_val_label_accuracy)\n",
    "# assert(_target_val_label_accuracy == target_val_label_accuracy)\n",
    "\n",
    "experiment = {\n",
    "    \"experiment_name\": p.experiment_name,\n",
    "    \"parameters\": dict(p),\n",
    "    \"results\": {\n",
    "        \"source_test_label_accuracy\": source_test_label_accuracy,\n",
    "        \"source_test_label_loss\": source_test_label_loss,\n",
    "        \"target_test_label_accuracy\": target_test_label_accuracy,\n",
    "        \"target_test_label_loss\": target_test_label_loss,\n",
    "        \"source_val_label_accuracy\": source_val_label_accuracy,\n",
    "        \"source_val_label_loss\": source_val_label_loss,\n",
    "        \"target_val_label_accuracy\": target_val_label_accuracy,\n",
    "        \"target_val_label_loss\": target_val_label_loss,\n",
    "        \"total_epochs_trained\": total_epochs_trained,\n",
    "        \"total_experiment_time_secs\": total_experiment_time_secs,\n",
    "        \"confusion\": confusion,\n",
    "        \"per_domain_accuracy\": per_domain_accuracy,\n",
    "    },\n",
    "    \"history\": history,\n",
    "    \"dataset_metrics\": get_dataset_metrics(datasets, \"ptn\"),\n",
    "}"
   ]
  },
  {
   "cell_type": "code",
   "execution_count": 25,
   "id": "54a21829",
   "metadata": {
    "execution": {
     "iopub.execute_input": "2022-03-17T04:17:57.409930Z",
     "iopub.status.busy": "2022-03-17T04:17:57.408947Z",
     "iopub.status.idle": "2022-03-17T04:17:57.532964Z",
     "shell.execute_reply": "2022-03-17T04:17:57.533367Z"
    },
    "papermill": {
     "duration": 0.154494,
     "end_time": "2022-03-17T04:17:57.533499",
     "exception": false,
     "start_time": "2022-03-17T04:17:57.379005",
     "status": "completed"
    },
    "tags": []
   },
   "outputs": [
    {
     "data": {
      "image/png": "[encoded data removed]",
      "text/plain": [
       "<Figure size 1080x504 with 1 Axes>"
      ]
     },
     "metadata": {
      "needs_background": "light"
     },
     "output_type": "display_data"
    }
   ],
   "source": [
    "ax = get_loss_curve(experiment)\n",
    "plt.show()"
   ]
  },
  {
   "cell_type": "code",
   "execution_count": 26,
   "id": "fd8a0f60",
   "metadata": {
    "execution": {
     "iopub.execute_input": "2022-03-17T04:17:57.595563Z",
     "iopub.status.busy": "2022-03-17T04:17:57.595303Z",
     "iopub.status.idle": "2022-03-17T04:17:57.736076Z",
     "shell.execute_reply": "2022-03-17T04:17:57.736301Z"
    },
    "papermill": {
     "duration": 0.171467,
     "end_time": "2022-03-17T04:17:57.736381",
     "exception": false,
     "start_time": "2022-03-17T04:17:57.564914",
     "status": "completed"
    },
    "tags": []
   },
   "outputs": [
    {
     "data": {
      "text/plain": [
       "<AxesSubplot:title={'center':'Results'}>"
      ]
     },
     "execution_count": 26,
     "metadata": {},
     "output_type": "execute_result"
    },
    {
     "data": {
      "image/png": "[encoded data removed]",
      "text/plain": [
       "<Figure size 1080x504 with 1 Axes>"
      ]
     },
     "metadata": {
      "needs_background": "light"
     },
     "output_type": "display_data"
    }
   ],
   "source": [
    "get_results_table(experiment)"
   ]
  },
  {
   "cell_type": "code",
   "execution_count": 27,
   "id": "cf8dc689",
   "metadata": {
    "execution": {
     "iopub.execute_input": "2022-03-17T04:17:57.797952Z",
     "iopub.status.busy": "2022-03-17T04:17:57.797680Z",
     "iopub.status.idle": "2022-03-17T04:17:57.956265Z",
     "shell.execute_reply": "2022-03-17T04:17:57.956679Z"
    },
    "papermill": {
     "duration": 0.190179,
     "end_time": "2022-03-17T04:17:57.956808",
     "exception": false,
     "start_time": "2022-03-17T04:17:57.766629",
     "status": "completed"
    },
    "tags": []
   },
   "outputs": [
    {
     "data": {
      "text/plain": [
       "<AxesSubplot:title={'center':'Per Domain Validation Accuracy'}, xlabel='domain'>"
      ]
     },
     "execution_count": 27,
     "metadata": {},
     "output_type": "execute_result"
    },
    {
     "data": {
      "image/png": "[encoded data removed]",
      "text/plain": [
       "<Figure size 1080x504 with 1 Axes>"
      ]
     },
     "metadata": {
      "needs_background": "light"
     },
     "output_type": "display_data"
    }
   ],
   "source": [
    "get_domain_accuracies(experiment)"
   ]
  },
  {
   "cell_type": "code",
   "execution_count": 28,
   "id": "a74ae082",
   "metadata": {
    "execution": {
     "iopub.execute_input": "2022-03-17T04:17:58.023329Z",
     "iopub.status.busy": "2022-03-17T04:17:58.023058Z",
     "iopub.status.idle": "2022-03-17T04:17:58.039563Z",
     "shell.execute_reply": "2022-03-17T04:17:58.039329Z"
    },
    "papermill": {
     "duration": 0.048841,
     "end_time": "2022-03-17T04:17:58.039619",
     "exception": false,
     "start_time": "2022-03-17T04:17:57.990778",
     "status": "completed"
    },
    "tags": []
   },
   "outputs": [
    {
     "name": "stdout",
     "output_type": "stream",
     "text": [
      "Source Test Label Accuracy: 0.962007705479452 Target Test Label Accuracy: 0.20270182291666666\n",
      "Source Val Label Accuracy: 0.9657534246575342 Target Val Label Accuracy: 0.205078125\n"
     ]
    }
   ],
   "source": [
    "print(\"Source Test Label Accuracy:\", experiment[\"results\"][\"source_test_label_accuracy\"], \"Target Test Label Accuracy:\", experiment[\"results\"][\"target_test_label_accuracy\"])\n",
    "print(\"Source Val Label Accuracy:\", experiment[\"results\"][\"source_val_label_accuracy\"], \"Target Val Label Accuracy:\", experiment[\"results\"][\"target_val_label_accuracy\"])"
   ]
  },
  {
   "cell_type": "code",
   "execution_count": 29,
   "id": "dacca602",
   "metadata": {
    "execution": {
     "iopub.execute_input": "2022-03-17T04:17:58.102375Z",
     "iopub.status.busy": "2022-03-17T04:17:58.101866Z",
     "iopub.status.idle": "2022-03-17T04:17:58.120152Z",
     "shell.execute_reply": "2022-03-17T04:17:58.120556Z"
    },
    "papermill": {
     "duration": 0.050306,
     "end_time": "2022-03-17T04:17:58.120682",
     "exception": false,
     "start_time": "2022-03-17T04:17:58.070376",
     "status": "completed"
    },
    "tags": [
     "experiment_json"
    ]
   },
   "outputs": [
    {
     "data": {
      "text/plain": [
       "'{\"experiment_name\": \"cores+wisig -> oracle.run2.framed\", \"parameters\": {\"experiment_name\": \"cores+wisig -> oracle.run2.framed\", \"device\": \"cuda\", \"lr\": 0.001, \"seed\": 1337, \"dataset_seed\": 1337, \"n_shot\": 3, \"n_query\": 2, \"train_k_factor\": 3, \"val_k_factor\": 2, \"test_k_factor\": 2, \"torch_default_dtype\": \"torch.float32\", \"n_epoch\": 50, \"patience\": 3, \"criteria_for_best\": \"target_loss\", \"x_net\": [{\"class\": \"nnReshape\", \"kargs\": {\"shape\": [-1, 1, 2, 256]}}, {\"class\": \"Conv2d\", \"kargs\": {\"in_channels\": 1, \"out_channels\": 256, \"kernel_size\": [1, 7], \"bias\": false, \"padding\": [0, 3]}}, {\"class\": \"ReLU\", \"kargs\": {\"inplace\": true}}, {\"class\": \"BatchNorm2d\", \"kargs\": {\"num_features\": 256}}, {\"class\": \"Conv2d\", \"kargs\": {\"in_channels\": 256, \"out_channels\": 80, \"kernel_size\": [2, 7], \"bias\": true, \"padding\": [0, 3]}}, {\"class\": \"ReLU\", \"kargs\": {\"inplace\": true}}, {\"class\": \"BatchNorm2d\", \"kargs\": {\"num_features\": 80}}, {\"class\": \"Flatten\", \"kargs\": {}}, {\"class\": \"Linear\", \"kargs\": {\"in_features\": 20480, \"out_features\": 256}}, {\"class\": \"ReLU\", \"kargs\": {\"inplace\": true}}, {\"class\": \"BatchNorm1d\", \"kargs\": {\"num_features\": 256}}, {\"class\": \"Linear\", \"kargs\": {\"in_features\": 256, \"out_features\": 256}}], \"NUM_LOGS_PER_EPOCH\": 10, \"BEST_MODEL_PATH\": \"./best_model.pth\", \"n_way\": 16, \"datasets\": [{\"labels\": [\"1-10.\", \"1-11.\", \"1-15.\", \"1-16.\", \"1-17.\", \"1-18.\", \"1-19.\", \"10-4.\", \"10-7.\", \"11-1.\", \"11-14.\", \"11-17.\", \"11-20.\", \"11-7.\", \"13-20.\", \"13-8.\", \"14-10.\", \"14-11.\", \"14-14.\", \"14-7.\", \"15-1.\", \"15-20.\", \"16-1.\", \"16-16.\", \"17-10.\", \"17-11.\", \"17-2.\", \"19-1.\", \"19-16.\", \"19-19.\", \"19-20.\", \"19-3.\", \"2-10.\", \"2-11.\", \"2-17.\", \"2-18.\", \"2-20.\", \"2-3.\", \"2-4.\", \"2-5.\", \"2-6.\", \"2-7.\", \"2-8.\", \"3-13.\", \"3-18.\", \"3-3.\", \"4-1.\", \"4-10.\", \"4-11.\", \"4-19.\", \"5-5.\", \"6-15.\", \"7-10.\", \"7-14.\", \"8-18.\", \"8-20.\", \"8-3.\", \"8-8.\"], \"domains\": [1, 2, 3, 4, 5], \"num_examples_per_domain_per_label\": 100, \"pickle_path\": \"/mnt/wd500GB/CSC500/csc500-main/datasets/cores.stratified_ds.2022A.pkl\", \"source_or_target_dataset\": \"source\", \"x_transforms\": [\"unit_power\"], \"episode_transforms\": [], \"domain_prefix\": \"C_A_\"}, {\"labels\": [\"1-10\", \"1-12\", \"1-14\", \"1-16\", \"1-18\", \"1-19\", \"1-8\", \"10-11\", \"10-17\", \"10-4\", \"10-7\", \"11-1\", \"11-10\", \"11-19\", \"11-20\", \"11-4\", \"11-7\", \"12-19\", \"12-20\", \"12-7\", \"13-14\", \"13-18\", \"13-19\", \"13-20\", \"13-3\", \"13-7\", \"14-10\", \"14-11\", \"14-12\", \"14-13\", \"14-14\", \"14-19\", \"14-20\", \"14-7\", \"14-8\", \"14-9\", \"15-1\", \"15-19\", \"15-6\", \"16-1\", \"16-16\", \"16-19\", \"16-20\", \"17-10\", \"17-11\", \"18-1\", \"18-10\", \"18-11\", \"18-12\", \"18-13\", \"18-14\", \"18-15\", \"18-16\", \"18-17\", \"18-19\", \"18-2\", \"18-20\", \"18-4\", \"18-5\", \"18-7\", \"18-8\", \"18-9\", \"19-1\", \"19-10\", \"19-11\", \"19-12\", \"19-13\", \"19-14\", \"19-15\", \"19-19\", \"19-2\", \"19-20\", \"19-3\", \"19-4\", \"19-6\", \"19-7\", \"19-8\", \"19-9\", \"2-1\", \"2-13\", \"2-15\", \"2-3\", \"2-4\", \"2-5\", \"2-6\", \"2-7\", \"2-8\", \"20-1\", \"20-12\", \"20-14\", \"20-15\", \"20-16\", \"20-18\", \"20-19\", \"20-20\", \"20-3\", \"20-4\", \"20-5\", \"20-7\", \"20-8\", \"3-1\", \"3-13\", \"3-18\", \"3-2\", \"3-8\", \"4-1\", \"4-10\", \"4-11\", \"5-1\", \"5-5\", \"6-1\", \"6-15\", \"6-6\", \"7-10\", \"7-11\", \"7-12\", \"7-13\", \"7-14\", \"7-7\", \"7-8\", \"7-9\", \"8-1\", \"8-13\", \"8-14\", \"8-18\", \"8-20\", \"8-3\", \"8-8\", \"9-1\", \"9-7\"], \"domains\": [1, 2, 3, 4], \"num_examples_per_domain_per_label\": 100, \"pickle_path\": \"/mnt/wd500GB/CSC500/csc500-main/datasets/wisig.node3-19.stratified_ds.2022A.pkl\", \"source_or_target_dataset\": \"source\", \"x_transforms\": [\"unit_power\"], \"episode_transforms\": [], \"domain_prefix\": \"W_A_\"}, {\"labels\": [\"3123D52\", \"3123D65\", \"3123D79\", \"3123D80\", \"3123D54\", \"3123D70\", \"3123D7B\", \"3123D89\", \"3123D58\", \"3123D76\", \"3123D7D\", \"3123EFE\", \"3123D64\", \"3123D78\", \"3123D7E\", \"3124E4A\"], \"domains\": [32, 38, 8, 44, 14, 50, 20, 26], \"num_examples_per_domain_per_label\": 2000, \"pickle_path\": \"/mnt/wd500GB/CSC500/csc500-main/datasets/oracle.Run2_framed_2000Examples_stratified_ds.2022A.pkl\", \"source_or_target_dataset\": \"target\", \"x_transforms\": [\"unit_power\"], \"episode_transforms\": [], \"domain_prefix\": \"ORACLE.run2_\"}], \"domains_source\": [\"C_A_1\", \"C_A_2\", \"C_A_3\", \"C_A_4\", \"C_A_5\", \"W_A_1\", \"W_A_2\", \"W_A_3\", \"W_A_4\"], \"domains_target\": [\"ORACLE.run2_32\", \"ORACLE.run2_38\", \"ORACLE.run2_8\", \"ORACLE.run2_44\", \"ORACLE.run2_14\", \"ORACLE.run2_50\", \"ORACLE.run2_20\", \"ORACLE.run2_26\"]}, \"results\": {\"source_test_label_accuracy\": 0.962007705479452, \"source_test_label_loss\": 0.17204265296459198, \"target_test_label_accuracy\": 0.20270182291666666, \"target_test_label_loss\": 2.4286372661590576, \"source_val_label_accuracy\": 0.9657534246575342, \"source_val_label_loss\": 0.16400477290153503, \"target_val_label_accuracy\": 0.205078125, \"target_val_label_loss\": 2.4295594692230225, \"total_epochs_trained\": 6, \"total_experiment_time_secs\": 394.77647066116333, \"confusion\": {\"C_A_3\": {\"43\": {\"43\": 12}, \"9\": {\"9\": 12}, \"6\": {\"6\": 10}, \"3\": {\"3\": 12}, \"16\": {\"16\": 12}, \"51\": {\"51\": 12}, \"31\": {\"31\": 12}, \"46\": {\"46\": 8, \"38\": 2}, \"19\": {\"19\": 8}, \"8\": {\"8\": 12}, \"18\": {\"18\": 12}, \"37\": {\"37\": 12}, \"24\": {\"24\": 12}, \"10\": {\"10\": 12}, \"44\": {\"44\": 10}, \"14\": {\"14\": 8, \"3\": 1, \"31\": 3}, \"38\": {\"38\": 10}, \"53\": {\"53\": 12}, \"20\": {\"20\": 12}, \"32\": {\"32\": 12}, \"36\": {\"36\": 10}, \"33\": {\"33\": 12}, \"56\": {\"56\": 12}, \"23\": {\"23\": 12}, \"54\": {\"54\": 10}, \"34\": {\"34\": 12}, \"13\": {\"13\": 12}, \"2\": {\"2\": 11, \"45\": 1}, \"55\": {\"55\": 10}, \"21\": {\"21\": 10}, \"49\": {\"49\": 10}, \"25\": {\"25\": 12}, \"5\": {\"5\": 12}, \"50\": {\"50\": 8}, \"40\": {\"40\": 12}, \"57\": {\"57\": 8}, \"22\": {\"22\": 10}, \"1\": {\"1\": 10}, \"17\": {\"17\": 12}, \"41\": {\"41\": 12}, \"4\": {\"4\": 9, \"27\": 1}, \"7\": {\"7\": 10}, \"26\": {\"26\": 10}, \"29\": {\"29\": 12}, \"52\": {\"52\": 12}, \"15\": {\"15\": 12}, \"35\": {\"35\": 12}, \"42\": {\"42\": 12}, \"30\": {\"30\": 10}, \"27\": {\"27\": 8}, \"45\": {\"45\": 10}, \"0\": {\"0\": 12}, \"28\": {\"28\": 12}, \"47\": {\"47\": 12}, \"11\": {\"11\": 10}, \"39\": {\"39\": 10}, \"48\": {\"48\": 12}, \"12\": {\"12\": 8}}, \"C_A_4\": {\"35\": {\"35\": 10}, \"25\": {\"25\": 12}, \"24\": {\"24\": 10}, \"48\": {\"48\": 12}, \"51\": {\"51\": 12}, \"13\": {\"13\": 12}, \"14\": {\"14\": 8}, \"32\": {\"32\": 12}, \"30\": {\"30\": 12}, \"34\": {\"34\": 10}, \"9\": {\"9\": 12}, \"1\": {\"1\": 12}, \"0\": {\"0\": 12}, \"38\": {\"38\": 12}, \"22\": {\"22\": 8}, \"40\": {\"40\": 12}, \"39\": {\"39\": 12}, \"46\": {\"46\": 12}, \"36\": {\"36\": 12}, \"50\": {\"50\": 12}, \"49\": {\"49\": 12}, \"17\": {\"17\": 12}, \"45\": {\"45\": 12}, \"6\": {\"6\": 12}, \"8\": {\"8\": 12}, \"5\": {\"5\": 10}, \"33\": {\"33\": 12}, \"31\": {\"31\": 12}, \"37\": {\"37\": 10}, \"47\": {\"47\": 8}, \"15\": {\"15\": 9, \"11\": 1}, \"7\": {\"7\": 12}, \"20\": {\"20\": 12}, \"4\": {\"4\": 12}, \"54\": {\"54\": 12}, \"44\": {\"44\": 12}, \"3\": {\"3\": 11, \"50\": 1}, \"11\": {\"11\": 10}, \"27\": {\"27\": 10}, \"19\": {\"19\": 12}, \"55\": {\"55\": 12}, \"16\": {\"16\": 12}, \"2\": {\"2\": 10}, \"52\": {\"52\": 10}, \"42\": {\"42\": 10}, \"26\": {\"26\": 12}, \"10\": {\"10\": 12}, \"53\": {\"53\": 10}, \"28\": {\"28\": 12}, \"21\": {\"21\": 10}, \"57\": {\"57\": 10}, \"23\": {\"23\": 8}, \"43\": {\"43\": 10}, \"12\": {\"12\": 12}, \"41\": {\"41\": 12}, \"56\": {\"56\": 8}, \"18\": {\"18\": 10}, \"29\": {\"29\": 8}}, \"C_A_5\": {\"47\": {\"47\": 9, \"1\": 1}, \"53\": {\"53\": 12}, \"29\": {\"29\": 12}, \"52\": {\"52\": 12}, \"55\": {\"55\": 12}, \"17\": {\"17\": 12}, \"42\": {\"42\": 12}, \"33\": {\"33\": 10}, \"11\": {\"11\": 11, \"15\": 1}, \"19\": {\"19\": 8}, \"1\": {\"1\": 11, \"48\": 1}, \"44\": {\"44\": 12}, \"49\": {\"49\": 12}, \"4\": {\"4\": 12}, \"6\": {\"6\": 12}, \"39\": {\"39\": 12}, \"13\": {\"13\": 12}, \"5\": {\"5\": 10}, \"16\": {\"16\": 10}, \"25\": {\"25\": 12}, \"45\": {\"45\": 12}, \"7\": {\"7\": 10}, \"22\": {\"22\": 12}, \"40\": {\"40\": 12}, \"38\": {\"38\": 12}, \"35\": {\"35\": 8}, \"56\": {\"56\": 12}, \"50\": {\"50\": 9, \"20\": 1}, \"0\": {\"0\": 12}, \"10\": {\"10\": 12}, \"27\": {\"27\": 12}, \"20\": {\"20\": 10}, \"36\": {\"36\": 8}, \"34\": {\"34\": 12}, \"30\": {\"30\": 12}, \"2\": {\"2\": 10}, \"15\": {\"15\": 10, \"11\": 2}, \"18\": {\"18\": 12}, \"32\": {\"32\": 12}, \"31\": {\"31\": 12}, \"57\": {\"57\": 12}, \"48\": {\"48\": 8}, \"28\": {\"28\": 10}, \"14\": {\"14\": 8, \"31\": 1, \"37\": 3}, \"3\": {\"3\": 12}, \"8\": {\"8\": 12}, \"9\": {\"9\": 12}, \"21\": {\"21\": 10}, \"41\": {\"41\": 12}, \"24\": {\"24\": 12}, \"46\": {\"46\": 10}, \"43\": {\"43\": 10}, \"54\": {\"54\": 10}, \"23\": {\"23\": 10}, \"37\": {\"37\": 10}, \"12\": {\"12\": 10}, \"26\": {\"26\": 10}, \"51\": {\"51\": 6}}, \"W_A_3\": {\"109\": {\"109\": 12}, \"127\": {\"127\": 12}, \"14\": {\"14\": 12}, \"7\": {\"7\": 12}, \"129\": {\"129\": 12}, \"57\": {\"57\": 12}, \"84\": {\"84\": 10, \"62\": 1, \"0\": 1}, \"114\": {\"114\": 12}, \"44\": {\"44\": 11, \"80\": 1}, \"21\": {\"21\": 12}, \"46\": {\"46\": 12}, \"100\": {\"100\": 12}, \"63\": {\"63\": 9, \"114\": 1, \"47\": 1, \"60\": 1}, \"24\": {\"24\": 6, \"21\": 1, \"54\": 2, \"36\": 2, \"118\": 1}, \"107\": {\"107\": 12}, \"35\": {\"7\": 1, \"35\": 8, \"95\": 1}, \"81\": {\"81\": 12}, \"64\": {\"64\": 12}, \"59\": {\"124\": 1, \"59\": 11}, \"33\": {\"33\": 12}, \"34\": {\"34\": 12}, \"36\": {\"36\": 12}, \"79\": {\"79\": 12}, \"80\": {\"80\": 11, \"110\": 1}, \"77\": {\"77\": 12}, \"22\": {\"22\": 12}, \"124\": {\"124\": 12}, \"2\": {\"2\": 12}, \"87\": {\"87\": 11, \"16\": 1}, \"105\": {\"105\": 12}, \"95\": {\"95\": 12}, \"43\": {\"43\": 12}, \"56\": {\"56\": 10}, \"18\": {\"18\": 12}, \"85\": {\"85\": 12}, \"113\": {\"113\": 12}, \"97\": {\"97\": 12}, \"86\": {\"86\": 12}, \"128\": {\"86\": 1, \"128\": 10, \"44\": 1}, \"123\": {\"123\": 12}, \"8\": {\"8\": 11, \"59\": 1}, \"110\": {\"110\": 12}, \"126\": {\"18\": 1, \"126\": 11}, \"101\": {\"101\": 12}, \"115\": {\"115\": 12}, \"49\": {\"49\": 11, \"42\": 1}, \"45\": {\"45\": 12}, \"78\": {\"78\": 11, \"13\": 1}, \"65\": {\"65\": 10}, \"54\": {\"54\": 12}, \"31\": {\"31\": 10}, \"42\": {\"42\": 11, \"101\": 1}, \"68\": {\"68\": 12}, \"15\": {\"15\": 12}, \"69\": {\"69\": 12}, \"17\": {\"102\": 1, \"17\": 7, \"104\": 1, \"18\": 1}, \"73\": {\"73\": 12}, \"121\": {\"121\": 12}, \"102\": {\"102\": 12}, \"48\": {\"48\": 7, \"37\": 1, \"78\": 2, \"22\": 1, \"21\": 1}, \"23\": {\"23\": 10, \"51\": 1, \"71\": 1}, \"108\": {\"108\": 12}, \"53\": {\"53\": 12}, \"94\": {\"94\": 10}, \"41\": {\"41\": 12}, \"58\": {\"58\": 12}, \"29\": {\"29\": 12}, \"116\": {\"116\": 12}, \"60\": {\"60\": 12}, \"104\": {\"104\": 12}, \"106\": {\"106\": 12}, \"66\": {\"66\": 12}, \"47\": {\"47\": 12}, \"40\": {\"40\": 12}, \"82\": {\"82\": 12}, \"13\": {\"13\": 8, \"113\": 3, \"120\": 1}, \"19\": {\"19\": 11, \"29\": 1}, \"72\": {\"72\": 12}, \"9\": {\"9\": 12}, \"67\": {\"67\": 12}, \"11\": {\"11\": 12}, \"125\": {\"125\": 12}, \"76\": {\"76\": 8}, \"83\": {\"83\": 12}, \"74\": {\"74\": 11, \"24\": 1}, \"20\": {\"20\": 12}, \"119\": {\"119\": 12}, \"1\": {\"1\": 12}, \"16\": {\"16\": 12}, \"25\": {\"25\": 11, \"37\": 1}, \"90\": {\"90\": 8}, \"39\": {\"39\": 12}, \"28\": {\"28\": 12}, \"55\": {\"55\": 12}, \"117\": {\"117\": 12}, \"112\": {\"112\": 12}, \"38\": {\"38\": 12}, \"37\": {\"37\": 12}, \"120\": {\"120\": 12}, \"122\": {\"122\": 12}, \"50\": {\"50\": 12}, \"10\": {\"10\": 12}, \"5\": {\"5\": 12}, \"51\": {\"51\": 12}, \"3\": {\"3\": 10, \"70\": 1, \"122\": 1}, \"98\": {\"98\": 11, \"60\": 1}, \"70\": {\"70\": 9, \"49\": 1, \"110\": 1, \"88\": 1}, \"96\": {\"96\": 12}, \"12\": {\"12\": 12}, \"99\": {\"99\": 12}, \"52\": {\"52\": 12}, \"71\": {\"71\": 10, \"82\": 1, \"61\": 1}, \"89\": {\"89\": 12}, \"0\": {\"0\": 12}, \"4\": {\"4\": 9, \"118\": 2, \"101\": 1}, \"93\": {\"93\": 12}, \"6\": {\"6\": 10}, \"75\": {\"75\": 12}, \"62\": {\"62\": 12}, \"103\": {\"103\": 12}, \"30\": {\"30\": 12}, \"91\": {\"91\": 11, \"90\": 1}, \"27\": {\"27\": 12}, \"26\": {\"26\": 12}, \"61\": {\"61\": 12}, \"118\": {\"118\": 12}, \"92\": {\"92\": 12}, \"111\": {\"111\": 12}, \"32\": {\"32\": 12}, \"88\": {\"85\": 1, \"88\": 7, \"20\": 2}}, \"C_A_1\": {\"46\": {\"46\": 12}, \"16\": {\"16\": 12}, \"26\": {\"26\": 12}, \"10\": {\"10\": 12}, \"9\": {\"9\": 10}, \"28\": {\"28\": 12}, \"51\": {\"51\": 12}, \"1\": {\"1\": 12}, \"55\": {\"55\": 12}, \"27\": {\"27\": 10}, \"22\": {\"22\": 11, \"24\": 1}, \"52\": {\"52\": 12}, \"3\": {\"3\": 12}, \"33\": {\"33\": 8}, \"47\": {\"47\": 12}, \"42\": {\"42\": 12}, \"12\": {\"12\": 4}, \"23\": {\"23\": 12}, \"49\": {\"49\": 10}, \"7\": {\"7\": 12}, \"4\": {\"4\": 12}, \"50\": {\"50\": 12}, \"19\": {\"19\": 12}, \"11\": {\"11\": 12}, \"31\": {\"31\": 10}, \"41\": {\"41\": 12}, \"56\": {\"56\": 10}, \"0\": {\"0\": 12}, \"57\": {\"57\": 12}, \"53\": {\"53\": 12}, \"43\": {\"43\": 12}, \"37\": {\"37\": 12}, \"2\": {\"2\": 8}, \"6\": {\"6\": 12}, \"18\": {\"18\": 12}, \"38\": {\"38\": 12}, \"15\": {\"15\": 12}, \"36\": {\"36\": 12}, \"39\": {\"39\": 8}, \"44\": {\"44\": 12}, \"8\": {\"8\": 12}, \"17\": {\"17\": 10}, \"5\": {\"5\": 12}, \"13\": {\"13\": 10}, \"40\": {\"40\": 10}, \"29\": {\"29\": 12}, \"48\": {\"48\": 12}, \"32\": {\"32\": 12}, \"30\": {\"30\": 12}, \"35\": {\"35\": 12}, \"25\": {\"25\": 12}, \"14\": {\"14\": 10, \"30\": 2}, \"54\": {\"54\": 10}, \"20\": {\"20\": 8}, \"21\": {\"21\": 10}, \"45\": {\"45\": 8}, \"24\": {\"24\": 7, \"22\": 1}, \"34\": {\"34\": 8}}, \"W_A_4\": {\"28\": {\"28\": 12}, \"4\": {\"4\": 12}, \"72\": {\"72\": 12}, \"111\": {\"111\": 12}, \"108\": {\"108\": 11, \"73\": 1}, \"43\": {\"43\": 10}, \"96\": {\"96\": 12}, \"89\": {\"89\": 12}, \"31\": {\"31\": 12}, \"45\": {\"45\": 12}, \"2\": {\"2\": 11, \"63\": 1}, \"114\": {\"114\": 12}, \"11\": {\"11\": 12}, \"12\": {\"12\": 12}, \"14\": {\"14\": 12}, \"90\": {\"90\": 12}, \"10\": {\"10\": 10, \"36\": 1, \"94\": 1}, \"63\": {\"123\": 1, \"63\": 10, \"101\": 1}, \"85\": {\"85\": 11, \"12\": 1}, \"64\": {\"64\": 12}, \"82\": {\"82\": 10, \"89\": 1, \"63\": 1}, \"58\": {\"58\": 12}, \"3\": {\"3\": 12}, \"54\": {\"54\": 12}, \"121\": {\"121\": 11, \"48\": 1}, \"42\": {\"42\": 12}, \"98\": {\"98\": 12}, \"123\": {\"123\": 12}, \"91\": {\"91\": 11, \"42\": 1}, \"66\": {\"66\": 12}, \"102\": {\"102\": 12}, \"122\": {\"122\": 11, \"43\": 1}, \"1\": {\"1\": 12}, \"15\": {\"15\": 12}, \"97\": {\"15\": 2, \"97\": 9, \"101\": 1}, \"75\": {\"75\": 12}, \"95\": {\"95\": 12}, \"57\": {\"57\": 12}, \"68\": {\"68\": 12}, \"125\": {\"125\": 12}, \"62\": {\"62\": 10}, \"27\": {\"27\": 9, \"10\": 1, \"88\": 1, \"100\": 1}, \"120\": {\"120\": 11, \"103\": 1}, \"26\": {\"26\": 12}, \"55\": {\"55\": 12}, \"71\": {\"71\": 11, \"14\": 1}, \"22\": {\"22\": 12}, \"99\": {\"99\": 10, \"51\": 1, \"43\": 1}, \"84\": {\"84\": 10, \"103\": 1, \"0\": 1}, \"37\": {\"37\": 12}, \"83\": {\"83\": 12}, \"46\": {\"46\": 12}, \"35\": {\"35\": 12}, \"13\": {\"13\": 12}, \"53\": {\"53\": 10, \"88\": 1, \"0\": 1}, \"127\": {\"127\": 12}, \"69\": {\"97\": 1, \"69\": 10, \"77\": 1}, \"48\": {\"48\": 9, \"74\": 2, \"88\": 1}, \"16\": {\"16\": 12}, \"0\": {\"0\": 12}, \"8\": {\"8\": 10, \"53\": 1, \"100\": 1}, \"9\": {\"9\": 12}, \"115\": {\"115\": 11, \"128\": 1}, \"70\": {\"53\": 2, \"70\": 7, \"78\": 1, \"100\": 1, \"8\": 1}, \"119\": {\"119\": 12}, \"59\": {\"59\": 12}, \"52\": {\"52\": 12}, \"60\": {\"60\": 6, \"99\": 2, \"19\": 2, \"119\": 1, \"88\": 1}, \"44\": {\"44\": 11, \"90\": 1}, \"51\": {\"51\": 5, \"95\": 1, \"48\": 1, \"111\": 1, \"47\": 1, \"70\": 1, \"100\": 1, \"94\": 1}, \"6\": {\"59\": 2, \"6\": 9, \"34\": 1}, \"73\": {\"73\": 12}, \"78\": {\"50\": 1, \"78\": 9, \"87\": 1, \"33\": 1}, \"92\": {\"92\": 12}, \"20\": {\"20\": 11, \"5\": 1}, \"17\": {\"17\": 12}, \"74\": {\"74\": 12}, \"19\": {\"19\": 12}, \"50\": {\"50\": 12}, \"34\": {\"34\": 10, \"119\": 1, \"59\": 1}, \"104\": {\"104\": 8}, \"33\": {\"33\": 9, \"102\": 1, \"105\": 1, \"100\": 1}, \"5\": {\"5\": 12}, \"7\": {\"7\": 11, \"0\": 1}, \"29\": {\"29\": 12}, \"25\": {\"25\": 12}, \"124\": {\"124\": 12}, \"117\": {\"117\": 10, \"59\": 1, \"12\": 1}, \"88\": {\"88\": 10, \"14\": 1, \"71\": 1}, \"61\": {\"61\": 11, \"96\": 1}, \"86\": {\"86\": 12}, \"116\": {\"116\": 12}, \"24\": {\"24\": 10, \"36\": 2}, \"128\": {\"128\": 10, \"2\": 1, \"20\": 1}, \"101\": {\"101\": 12}, \"65\": {\"65\": 9, \"23\": 1}, \"36\": {\"24\": 3, \"36\": 9}, \"21\": {\"21\": 11, \"113\": 1}, \"106\": {\"106\": 12}, \"118\": {\"118\": 10, \"103\": 1, \"88\": 1}, \"113\": {\"113\": 10, \"123\": 1, \"39\": 1}, \"40\": {\"40\": 12}, \"93\": {\"93\": 7, \"110\": 1}, \"94\": {\"94\": 10, \"36\": 2}, \"103\": {\"103\": 8, \"49\": 3, \"5\": 1}, \"110\": {\"110\": 12}, \"56\": {\"56\": 12}, \"39\": {\"39\": 12}, \"109\": {\"31\": 1, \"109\": 10, \"118\": 1}, \"67\": {\"67\": 11, \"27\": 1}, \"129\": {\"129\": 12}, \"30\": {\"30\": 11, \"111\": 1}, \"126\": {\"126\": 9, \"23\": 1, \"65\": 1, \"108\": 1}, \"87\": {\"100\": 1, \"87\": 11}, \"112\": {\"112\": 12}, \"100\": {\"100\": 12}, \"79\": {\"79\": 10}, \"81\": {\"81\": 11, \"12\": 1}, \"76\": {\"76\": 10}, \"47\": {\"47\": 11, \"100\": 1}, \"77\": {\"77\": 12}, \"23\": {\"23\": 6, \"93\": 1, \"5\": 1, \"110\": 1, \"120\": 1, \"53\": 1, \"78\": 1}, \"18\": {\"18\": 12}, \"49\": {\"49\": 12}, \"41\": {\"41\": 11, \"47\": 1}, \"32\": {\"32\": 12}, \"107\": {\"107\": 10}, \"80\": {\"80\": 11, \"18\": 1}, \"105\": {\"105\": 7, \"87\": 2, \"16\": 1}, \"38\": {\"38\": 10}}, \"W_A_1\": {\"108\": {\"108\": 10}, \"40\": {\"40\": 12}, \"68\": {\"68\": 12}, \"23\": {\"23\": 10, \"86\": 1, \"60\": 1}, \"26\": {\"108\": 1, \"26\": 11}, \"64\": {\"64\": 12}, \"22\": {\"22\": 12}, \"3\": {\"3\": 11, \"23\": 1}, \"4\": {\"4\": 11, \"26\": 1}, \"70\": {\"70\": 12}, \"57\": {\"57\": 12}, \"79\": {\"79\": 12}, \"9\": {\"9\": 12}, \"89\": {\"89\": 12}, \"110\": {\"110\": 12}, \"102\": {\"102\": 12}, \"31\": {\"31\": 12}, \"58\": {\"58\": 12}, \"47\": {\"47\": 12}, \"24\": {\"24\": 11, \"88\": 1}, \"19\": {\"19\": 12}, \"11\": {\"11\": 12}, \"52\": {\"52\": 12}, \"17\": {\"17\": 12}, \"25\": {\"25\": 12}, \"69\": {\"69\": 12}, \"96\": {\"96\": 12}, \"109\": {\"109\": 12}, \"115\": {\"115\": 12}, \"83\": {\"83\": 11, \"94\": 1}, \"84\": {\"84\": 12}, \"119\": {\"119\": 10}, \"122\": {\"122\": 10}, \"99\": {\"99\": 12}, \"1\": {\"1\": 12}, \"74\": {\"74\": 10, \"65\": 1, \"34\": 1}, \"85\": {\"85\": 12}, \"127\": {\"127\": 12}, \"111\": {\"111\": 12}, \"53\": {\"53\": 12}, \"88\": {\"88\": 10, \"36\": 2}, \"65\": {\"65\": 7, \"60\": 1, \"95\": 1, \"83\": 1}, \"7\": {\"7\": 12}, \"16\": {\"16\": 11, \"95\": 1}, \"128\": {\"128\": 11, \"84\": 1}, \"34\": {\"34\": 10, \"28\": 1, \"71\": 1}, \"129\": {\"129\": 12}, \"43\": {\"43\": 12}, \"92\": {\"92\": 12}, \"28\": {\"28\": 12}, \"27\": {\"27\": 12}, \"114\": {\"114\": 12}, \"73\": {\"73\": 12}, \"0\": {\"0\": 12}, \"104\": {\"104\": 12}, \"118\": {\"118\": 12}, \"41\": {\"41\": 12}, \"49\": {\"49\": 11, \"72\": 1}, \"14\": {\"14\": 12}, \"46\": {\"14\": 1, \"46\": 7, \"97\": 1, \"12\": 2, \"83\": 1}, \"33\": {\"33\": 12}, \"76\": {\"76\": 12}, \"125\": {\"125\": 12}, \"86\": {\"86\": 10}, \"66\": {\"66\": 10, \"61\": 1, \"96\": 1}, \"5\": {\"5\": 12}, \"117\": {\"117\": 12}, \"75\": {\"75\": 12}, \"61\": {\"61\": 12}, \"50\": {\"50\": 11, \"60\": 1}, \"67\": {\"67\": 10}, \"18\": {\"18\": 12}, \"98\": {\"98\": 12}, \"55\": {\"55\": 10}, \"32\": {\"32\": 12}, \"120\": {\"120\": 12}, \"97\": {\"97\": 11, \"24\": 1}, \"126\": {\"126\": 12}, \"45\": {\"104\": 1, \"45\": 7, \"124\": 2, \"6\": 2}, \"78\": {\"78\": 8, \"43\": 2}, \"100\": {\"100\": 12}, \"107\": {\"107\": 12}, \"93\": {\"93\": 12}, \"77\": {\"77\": 12}, \"63\": {\"63\": 12}, \"112\": {\"112\": 12}, \"113\": {\"113\": 12}, \"103\": {\"103\": 10}, \"71\": {\"71\": 12}, \"30\": {\"30\": 12}, \"90\": {\"90\": 12}, \"37\": {\"103\": 1, \"37\": 11}, \"60\": {\"60\": 10, \"63\": 1, \"70\": 1}, \"15\": {\"15\": 10, \"111\": 1, \"27\": 1}, \"39\": {\"39\": 12}, \"72\": {\"72\": 12}, \"54\": {\"54\": 12}, \"35\": {\"35\": 12}, \"2\": {\"2\": 12}, \"94\": {\"94\": 11, \"60\": 1}, \"42\": {\"42\": 11, \"109\": 1}, \"81\": {\"81\": 12}, \"8\": {\"8\": 12}, \"87\": {\"87\": 12}, \"6\": {\"6\": 12}, \"36\": {\"36\": 9, \"88\": 1, \"24\": 2}, \"91\": {\"91\": 11, \"42\": 1}, \"56\": {\"56\": 12}, \"80\": {\"80\": 11, \"18\": 1}, \"124\": {\"124\": 10}, \"44\": {\"44\": 12}, \"13\": {\"13\": 12}, \"10\": {\"10\": 10, \"21\": 1, \"13\": 1}, \"59\": {\"59\": 10, \"123\": 2}, \"95\": {\"95\": 12}, \"105\": {\"105\": 11, \"66\": 1}, \"101\": {\"101\": 12}, \"20\": {\"20\": 12}, \"48\": {\"48\": 11, \"123\": 1}, \"106\": {\"106\": 12}, \"51\": {\"51\": 12}, \"21\": {\"21\": 10, \"84\": 1, \"70\": 1}, \"123\": {\"123\": 12}, \"121\": {\"121\": 11, \"116\": 1}, \"38\": {\"38\": 12}, \"62\": {\"62\": 12}, \"29\": {\"29\": 12}, \"82\": {\"82\": 12}, \"116\": {\"116\": 12}, \"12\": {\"12\": 8}}, \"W_A_2\": {\"91\": {\"91\": 12}, \"12\": {\"12\": 10, \"97\": 1, \"9\": 1}, \"101\": {\"101\": 10}, \"121\": {\"121\": 11, \"72\": 1}, \"118\": {\"118\": 12}, \"10\": {\"10\": 12}, \"117\": {\"117\": 12}, \"110\": {\"110\": 11, \"101\": 1}, \"97\": {\"97\": 8, \"88\": 1, \"106\": 2, \"2\": 1}, \"28\": {\"106\": 1, \"28\": 7, \"41\": 1, \"42\": 1, \"119\": 1, \"96\": 1}, \"88\": {\"88\": 12}, \"17\": {\"17\": 11, \"106\": 1}, \"126\": {\"126\": 12}, \"33\": {\"33\": 12}, \"86\": {\"86\": 12}, \"106\": {\"106\": 12}, \"54\": {\"54\": 12}, \"125\": {\"125\": 12}, \"83\": {\"83\": 12}, \"98\": {\"98\": 12}, \"11\": {\"11\": 11, \"2\": 1}, \"32\": {\"32\": 12}, \"42\": {\"42\": 12}, \"103\": {\"103\": 12}, \"87\": {\"87\": 11, \"23\": 1}, \"61\": {\"106\": 1, \"61\": 10, \"81\": 1}, \"13\": {\"13\": 12}, \"4\": {\"4\": 12}, \"15\": {\"15\": 10}, \"120\": {\"120\": 12}, \"80\": {\"80\": 12}, \"72\": {\"72\": 10}, \"64\": {\"64\": 12}, \"81\": {\"81\": 12}, \"102\": {\"102\": 12}, \"76\": {\"76\": 12}, \"49\": {\"49\": 8, \"126\": 1, \"106\": 1}, \"129\": {\"129\": 11, \"73\": 1}, \"89\": {\"89\": 12}, \"52\": {\"52\": 12}, \"35\": {\"35\": 12}, \"53\": {\"53\": 12}, \"112\": {\"9\": 1, \"112\": 8, \"3\": 1, \"126\": 1, \"25\": 1}, \"105\": {\"105\": 12}, \"100\": {\"100\": 12}, \"9\": {\"9\": 12}, \"82\": {\"82\": 12}, \"51\": {\"51\": 11, \"77\": 1}, \"21\": {\"21\": 12}, \"92\": {\"92\": 11, \"117\": 1}, \"69\": {\"69\": 12}, \"77\": {\"77\": 12}, \"50\": {\"50\": 11, \"13\": 1}, \"36\": {\"36\": 12}, \"16\": {\"16\": 10, \"24\": 1, \"9\": 1}, \"8\": {\"18\": 1, \"8\": 10, \"120\": 1}, \"127\": {\"127\": 12}, \"46\": {\"46\": 10}, \"84\": {\"84\": 12}, \"18\": {\"18\": 12}, \"123\": {\"123\": 9, \"19\": 1}, \"56\": {\"56\": 11, \"15\": 1}, \"26\": {\"26\": 12}, \"14\": {\"111\": 1, \"14\": 9, \"43\": 1, \"2\": 1}, \"109\": {\"109\": 12}, \"66\": {\"66\": 12}, \"24\": {\"24\": 10, \"36\": 1, \"28\": 1}, \"71\": {\"109\": 1, \"71\": 11}, \"65\": {\"65\": 10, \"20\": 1, \"47\": 1}, \"75\": {\"75\": 11, \"106\": 1}, \"111\": {\"111\": 12}, \"30\": {\"30\": 11, \"42\": 1}, \"85\": {\"85\": 12}, \"113\": {\"113\": 9, \"21\": 1}, \"45\": {\"45\": 12}, \"29\": {\"29\": 11, \"21\": 1}, \"20\": {\"20\": 12}, \"25\": {\"25\": 12}, \"0\": {\"0\": 10, \"101\": 2}, \"68\": {\"68\": 12}, \"119\": {\"119\": 12}, \"90\": {\"90\": 12}, \"38\": {\"38\": 12}, \"99\": {\"99\": 12}, \"1\": {\"1\": 12}, \"67\": {\"67\": 10, \"51\": 1, \"20\": 1}, \"63\": {\"63\": 12}, \"34\": {\"34\": 12}, \"108\": {\"108\": 12}, \"40\": {\"40\": 12}, \"47\": {\"47\": 11, \"51\": 1}, \"37\": {\"37\": 12}, \"78\": {\"78\": 12}, \"96\": {\"96\": 12}, \"43\": {\"43\": 10, \"21\": 1, \"70\": 1}, \"5\": {\"5\": 10}, \"124\": {\"124\": 12}, \"44\": {\"44\": 12}, \"41\": {\"41\": 11, \"47\": 1}, \"116\": {\"116\": 12}, \"19\": {\"19\": 12}, \"115\": {\"115\": 12}, \"95\": {\"95\": 11, \"126\": 1}, \"3\": {\"3\": 10}, \"59\": {\"59\": 11, \"51\": 1}, \"55\": {\"55\": 12}, \"70\": {\"70\": 12}, \"6\": {\"6\": 10, \"49\": 2}, \"2\": {\"2\": 12}, \"48\": {\"48\": 12}, \"23\": {\"23\": 8, \"19\": 1, \"129\": 1, \"68\": 1, \"70\": 1}, \"7\": {\"7\": 12}, \"122\": {\"122\": 12}, \"57\": {\"57\": 10, \"42\": 1, \"59\": 1}, \"39\": {\"39\": 9, \"108\": 1}, \"79\": {\"79\": 12}, \"27\": {\"27\": 10}, \"74\": {\"74\": 9, \"45\": 1, \"114\": 1, \"51\": 1}, \"73\": {\"73\": 12}, \"62\": {\"62\": 12}, \"107\": {\"107\": 12}, \"128\": {\"128\": 12}, \"60\": {\"60\": 11, \"19\": 1}, \"114\": {\"114\": 12}, \"22\": {\"22\": 12}, \"93\": {\"93\": 12}, \"94\": {\"94\": 11, \"12\": 1}, \"31\": {\"31\": 10}, \"104\": {\"104\": 12}, \"58\": {\"58\": 11, \"59\": 1}}, \"C_A_2\": {\"14\": {\"14\": 11, \"31\": 1}, \"22\": {\"22\": 12}, \"9\": {\"9\": 12}, \"47\": {\"47\": 12}, \"13\": {\"13\": 12}, \"8\": {\"8\": 12}, \"7\": {\"7\": 12}, \"49\": {\"49\": 12}, \"20\": {\"20\": 12}, \"16\": {\"16\": 12}, \"34\": {\"34\": 12}, \"56\": {\"56\": 12}, \"38\": {\"38\": 10}, \"4\": {\"4\": 12}, \"43\": {\"43\": 10}, \"26\": {\"26\": 10}, \"35\": {\"35\": 12}, \"31\": {\"31\": 12}, \"1\": {\"1\": 12}, \"39\": {\"39\": 12}, \"5\": {\"5\": 12}, \"24\": {\"24\": 12}, \"54\": {\"54\": 10}, \"23\": {\"23\": 12}, \"51\": {\"51\": 12}, \"27\": {\"27\": 10}, \"15\": {\"15\": 12}, \"0\": {\"0\": 12}, \"19\": {\"19\": 10}, \"18\": {\"18\": 8}, \"30\": {\"30\": 12}, \"55\": {\"55\": 10}, \"57\": {\"57\": 12}, \"2\": {\"2\": 12}, \"12\": {\"12\": 8}, \"41\": {\"41\": 12}, \"42\": {\"42\": 12}, \"48\": {\"48\": 12}, \"37\": {\"37\": 12}, \"6\": {\"6\": 10}, \"11\": {\"11\": 10}, \"45\": {\"45\": 8}, \"21\": {\"21\": 12}, \"46\": {\"46\": 10}, \"25\": {\"25\": 12}, \"36\": {\"36\": 10}, \"53\": {\"53\": 12}, \"28\": {\"28\": 12}, \"40\": {\"40\": 10}, \"33\": {\"33\": 10}, \"44\": {\"44\": 10}, \"3\": {\"3\": 12}, \"17\": {\"17\": 12}, \"32\": {\"32\": 10}, \"10\": {\"10\": 10}, \"52\": {\"52\": 10}, \"50\": {\"50\": 8}, \"29\": {\"29\": 6}}, \"ORACLE.run2_14\": {\"15\": {\"4\": 22, \"7\": 26, \"14\": 10, \"6\": 20, \"15\": 62, \"5\": 19, \"13\": 22, \"2\": 21, \"10\": 6, \"1\": 20, \"0\": 4, \"3\": 8}, \"3\": {\"3\": 19, \"0\": 26, \"4\": 31, \"12\": 2, \"5\": 21, \"1\": 28, \"7\": 19, \"14\": 18, \"11\": 6, \"8\": 4, \"2\": 16, \"10\": 12, \"13\": 13, \"6\": 10, \"15\": 9, \"9\": 6}, \"6\": {\"13\": 37, \"0\": 11, \"10\": 25, \"6\": 48, \"15\": 24, \"14\": 37, \"7\": 2, \"3\": 8, \"5\": 11, \"4\": 4, \"2\": 29, \"12\": 1, \"1\": 3}, \"1\": {\"1\": 46, \"6\": 4, \"15\": 18, \"4\": 32, \"8\": 7, \"10\": 4, \"2\": 11, \"11\": 10, \"5\": 25, \"7\": 34, \"13\": 6, \"3\": 18, \"9\": 8, \"12\": 4, \"14\": 6, \"0\": 7}, \"8\": {\"8\": 102, \"11\": 14, \"9\": 45, \"4\": 13, \"5\": 7, \"1\": 16, \"3\": 6, \"7\": 14, \"12\": 15, \"10\": 2, \"0\": 4, \"14\": 1, \"2\": 1}, \"10\": {\"10\": 43, \"2\": 26, \"14\": 33, \"6\": 15, \"11\": 19, \"1\": 8, \"3\": 18, \"7\": 5, \"4\": 13, \"0\": 20, \"5\": 13, \"9\": 3, \"13\": 13, \"15\": 5, \"12\": 6}, \"9\": {\"9\": 72, \"11\": 41, \"8\": 37, \"12\": 39, \"1\": 11, \"0\": 9, \"10\": 6, \"3\": 7, \"5\": 4, \"7\": 4, \"4\": 9, \"6\": 1}, \"13\": {\"13\": 56, \"15\": 17, \"14\": 23, \"5\": 18, \"6\": 41, \"2\": 32, \"10\": 8, \"3\": 13, \"0\": 12, \"4\": 9, \"7\": 8, \"1\": 2, \"11\": 1}, \"12\": {\"12\": 68, \"9\": 63, \"10\": 13, \"14\": 5, \"8\": 33, \"2\": 3, \"11\": 29, \"0\": 12, \"5\": 3, \"1\": 1, \"13\": 4, \"6\": 1, \"3\": 3, \"4\": 2}, \"5\": {\"8\": 2, \"2\": 17, \"3\": 25, \"1\": 23, \"5\": 34, \"4\": 19, \"0\": 12, \"7\": 31, \"15\": 12, \"9\": 6, \"11\": 5, \"13\": 14, \"10\": 13, \"14\": 16, \"6\": 10, \"12\": 1}, \"0\": {\"12\": 18, \"4\": 12, \"0\": 33, \"14\": 25, \"5\": 17, \"3\": 23, \"10\": 24, \"11\": 23, \"1\": 9, \"13\": 12, \"2\": 12, \"7\": 11, \"6\": 5, \"9\": 11, \"15\": 5}, \"2\": {\"4\": 18, \"13\": 30, \"14\": 26, \"10\": 17, \"6\": 39, \"3\": 16, \"2\": 26, \"15\": 15, \"5\": 19, \"0\": 19, \"7\": 7, \"1\": 7, \"11\": 1}, \"11\": {\"9\": 38, \"11\": 68, \"0\": 27, \"7\": 7, \"3\": 14, \"12\": 28, \"2\": 2, \"1\": 7, \"10\": 19, \"4\": 14, \"8\": 4, \"5\": 9, \"14\": 3}, \"14\": {\"2\": 25, \"13\": 28, \"10\": 21, \"6\": 40, \"3\": 8, \"15\": 18, \"14\": 38, \"7\": 1, \"5\": 18, \"1\": 5, \"0\": 25, \"11\": 3, \"4\": 7, \"12\": 1, \"9\": 2}, \"7\": {\"4\": 31, \"1\": 38, \"5\": 26, \"0\": 7, \"2\": 7, \"15\": 32, \"7\": 45, \"13\": 9, \"3\": 23, \"6\": 5, \"10\": 6, \"8\": 3, \"9\": 2, \"14\": 4, \"11\": 2}, \"4\": {\"0\": 14, \"3\": 22, \"5\": 24, \"1\": 39, \"10\": 11, \"2\": 10, \"4\": 35, \"11\": 6, \"13\": 11, \"6\": 8, \"15\": 20, \"9\": 2, \"12\": 1, \"14\": 13, \"7\": 24}}, \"ORACLE.run2_20\": {\"3\": {\"5\": 19, \"2\": 23, \"11\": 11, \"12\": 19, \"15\": 18, \"3\": 26, \"9\": 19, \"7\": 14, \"6\": 6, \"0\": 19, \"8\": 13, \"1\": 16, \"10\": 9, \"4\": 12, \"14\": 5, \"13\": 11}, \"15\": {\"7\": 18, \"9\": 22, \"8\": 4, \"5\": 17, \"0\": 27, \"15\": 25, \"13\": 18, \"11\": 23, \"3\": 19, \"2\": 17, \"14\": 4, \"12\": 11, \"1\": 22, \"4\": 11, \"10\": 1, \"6\": 1}, \"8\": {\"0\": 14, \"12\": 7, \"10\": 21, \"8\": 28, \"9\": 8, \"14\": 27, \"2\": 12, \"4\": 30, \"5\": 21, \"6\": 22, \"3\": 15, \"7\": 23, \"1\": 8, \"15\": 3, \"11\": 1}, \"4\": {\"5\": 24, \"10\": 27, \"2\": 8, \"14\": 19, \"12\": 11, \"8\": 16, \"6\": 10, \"15\": 14, \"3\": 16, \"7\": 25, \"1\": 9, \"11\": 4, \"0\": 18, \"9\": 13, \"4\": 20, \"13\": 6}, \"14\": {\"6\": 40, \"10\": 34, \"8\": 24, \"9\": 4, \"7\": 19, \"14\": 41, \"4\": 37, \"5\": 12, \"3\": 13, \"0\": 5, \"1\": 3, \"2\": 4, \"13\": 1, \"12\": 2, \"15\": 1}, \"0\": {\"13\": 23, \"0\": 30, \"15\": 15, \"12\": 25, \"9\": 20, \"3\": 14, \"2\": 18, \"5\": 20, \"1\": 23, \"7\": 10, \"4\": 13, \"6\": 7, \"8\": 13, \"14\": 4, \"10\": 3, \"11\": 2}, \"7\": {\"10\": 16, \"2\": 21, \"12\": 15, \"8\": 15, \"11\": 11, \"9\": 18, \"5\": 16, \"14\": 8, \"0\": 11, \"7\": 23, \"6\": 8, \"3\": 22, \"4\": 23, \"13\": 4, \"15\": 14, \"1\": 15}, \"6\": {\"0\": 3, \"10\": 38, \"6\": 53, \"14\": 48, \"7\": 11, \"8\": 31, \"4\": 17, \"3\": 10, \"2\": 4, \"9\": 4, \"1\": 4, \"15\": 2, \"5\": 11, \"12\": 2, \"11\": 2}, \"10\": {\"10\": 50, \"0\": 6, \"1\": 7, \"4\": 32, \"14\": 29, \"6\": 32, \"8\": 23, \"5\": 13, \"3\": 14, \"9\": 6, \"7\": 18, \"12\": 2, \"15\": 2, \"2\": 4, \"13\": 2}, \"5\": {\"7\": 16, \"2\": 18, \"13\": 14, \"10\": 8, \"3\": 22, \"12\": 14, \"8\": 8, \"0\": 31, \"15\": 19, \"6\": 9, \"1\": 24, \"11\": 10, \"5\": 12, \"4\": 20, \"9\": 7, \"14\": 8}, \"2\": {\"15\": 26, \"11\": 12, \"14\": 5, \"12\": 19, \"6\": 4, \"1\": 21, \"2\": 33, \"8\": 6, \"4\": 11, \"9\": 25, \"3\": 18, \"0\": 18, \"10\": 5, \"13\": 17, \"5\": 14, \"7\": 6}, \"12\": {\"2\": 17, \"10\": 3, \"12\": 20, \"13\": 13, \"3\": 17, \"8\": 9, \"9\": 22, \"7\": 15, \"15\": 25, \"4\": 16, \"0\": 26, \"1\": 19, \"5\": 13, \"6\": 8, \"14\": 3, \"11\": 14}, \"9\": {\"2\": 25, \"15\": 22, \"9\": 30, \"12\": 16, \"3\": 22, \"14\": 6, \"0\": 28, \"8\": 7, \"11\": 13, \"13\": 17, \"4\": 8, \"7\": 14, \"5\": 15, \"1\": 13, \"6\": 3, \"10\": 1}, \"1\": {\"12\": 19, \"2\": 30, \"13\": 26, \"15\": 16, \"3\": 14, \"5\": 14, \"9\": 26, \"8\": 14, \"1\": 25, \"11\": 11, \"14\": 2, \"0\": 24, \"4\": 7, \"7\": 8, \"10\": 3, \"6\": 1}, \"11\": {\"2\": 33, \"9\": 22, \"13\": 31, \"11\": 48, \"3\": 10, \"15\": 26, \"8\": 1, \"0\": 24, \"6\": 2, \"1\": 7, \"12\": 13, \"5\": 11, \"14\": 3, \"7\": 6, \"4\": 3}, \"13\": {\"11\": 24, \"15\": 31, \"9\": 17, \"13\": 27, \"2\": 21, \"0\": 17, \"5\": 17, \"3\": 19, \"1\": 29, \"8\": 7, \"4\": 7, \"12\": 13, \"10\": 2, \"7\": 9}}, \"ORACLE.run2_38\": {\"5\": {\"0\": 24, \"15\": 42, \"12\": 5, \"6\": 8, \"1\": 11, \"8\": 30, \"2\": 17, \"7\": 13, \"10\": 17, \"3\": 14, \"5\": 28, \"14\": 12, \"13\": 13, \"11\": 4, \"9\": 2}, \"8\": {\"5\": 33, \"3\": 18, \"0\": 15, \"1\": 14, \"9\": 13, \"15\": 24, \"6\": 13, \"8\": 31, \"2\": 13, \"10\": 14, \"13\": 18, \"7\": 16, \"12\": 3, \"14\": 12, \"11\": 3}, \"11\": {\"14\": 52, \"12\": 48, \"11\": 73, \"4\": 23, \"7\": 14, \"8\": 1, \"2\": 9, \"10\": 10, \"3\": 1, \"5\": 4, \"0\": 4, \"13\": 1}, \"1\": {\"1\": 68, \"15\": 18, \"13\": 37, \"9\": 28, \"8\": 14, \"2\": 16, \"5\": 6, \"6\": 37, \"3\": 11, \"7\": 1, \"14\": 4}, \"10\": {\"10\": 43, \"14\": 19, \"7\": 34, \"5\": 24, \"0\": 49, \"2\": 4, \"4\": 10, \"15\": 9, \"12\": 10, \"8\": 10, \"3\": 14, \"6\": 3, \"11\": 9, \"13\": 1, \"9\": 1}, \"15\": {\"15\": 45, \"9\": 13, \"5\": 27, \"1\": 24, \"2\": 13, \"14\": 10, \"7\": 13, \"3\": 23, \"13\": 21, \"6\": 13, \"8\": 14, \"0\": 15, \"10\": 7, \"11\": 2}, \"3\": {\"8\": 23, \"0\": 29, \"5\": 22, \"13\": 8, \"15\": 28, \"9\": 31, \"2\": 3, \"6\": 20, \"3\": 29, \"1\": 10, \"7\": 14, \"10\": 13, \"4\": 1, \"12\": 5, \"14\": 4}, \"7\": {\"10\": 43, \"7\": 48, \"12\": 3, \"14\": 13, \"0\": 29, \"8\": 22, \"5\": 35, \"3\": 11, \"2\": 3, \"11\": 12, \"13\": 3, \"15\": 9, \"6\": 1, \"9\": 5, \"4\": 3}, \"4\": {\"4\": 126, \"12\": 59, \"11\": 19, \"0\": 5, \"7\": 13, \"10\": 11, \"3\": 1, \"14\": 6}, \"14\": {\"13\": 9, \"5\": 18, \"11\": 30, \"10\": 19, \"14\": 62, \"2\": 30, \"0\": 3, \"4\": 5, \"7\": 21, \"1\": 1, \"3\": 6, \"15\": 8, \"12\": 14, \"8\": 12, \"9\": 2}, \"9\": {\"9\": 58, \"15\": 18, \"6\": 52, \"13\": 22, \"5\": 12, \"3\": 24, \"1\": 23, \"14\": 2, \"8\": 17, \"10\": 2, \"0\": 6, \"2\": 3, \"7\": 1}, \"12\": {\"4\": 42, \"12\": 112, \"11\": 35, \"5\": 4, \"14\": 19, \"15\": 1, \"7\": 6, \"0\": 4, \"8\": 2, \"10\": 14, \"2\": 1}, \"6\": {\"3\": 22, \"6\": 40, \"1\": 43, \"13\": 25, \"15\": 24, \"9\": 40, \"8\": 14, \"10\": 5, \"5\": 17, \"2\": 6, \"0\": 2, \"7\": 1, \"14\": 1}, \"2\": {\"13\": 17, \"14\": 43, \"15\": 24, \"8\": 24, \"2\": 74, \"1\": 13, \"3\": 7, \"7\": 6, \"6\": 4, \"5\": 20, \"11\": 5, \"10\": 3}, \"0\": {\"8\": 26, \"0\": 46, \"10\": 45, \"2\": 2, \"15\": 16, \"11\": 1, \"3\": 30, \"5\": 21, \"14\": 5, \"7\": 31, \"6\": 7, \"9\": 2, \"13\": 5, \"12\": 3}, \"13\": {\"15\": 18, \"8\": 19, \"3\": 27, \"1\": 42, \"13\": 29, \"2\": 27, \"9\": 24, \"7\": 5, \"6\": 19, \"14\": 6, \"5\": 18, \"10\": 1, \"0\": 5}}, \"ORACLE.run2_8\": {\"9\": {\"9\": 117, \"5\": 24, \"2\": 15, \"0\": 32, \"6\": 4, \"7\": 2, \"14\": 17, \"13\": 3, \"10\": 20, \"4\": 4, \"1\": 2}, \"10\": {\"4\": 21, \"7\": 18, \"2\": 16, \"14\": 32, \"0\": 25, \"5\": 20, \"10\": 21, \"6\": 22, \"3\": 10, \"15\": 6, \"13\": 22, \"8\": 5, \"1\": 16, \"11\": 4, \"9\": 2}, \"13\": {\"13\": 21, \"10\": 19, \"1\": 14, \"14\": 23, \"6\": 27, \"3\": 17, \"7\": 10, \"8\": 9, \"5\": 26, \"15\": 4, \"2\": 15, \"4\": 23, \"0\": 20, \"11\": 9, \"12\": 3}, \"0\": {\"4\": 18, \"5\": 20, \"0\": 31, \"6\": 18, \"14\": 31, \"10\": 24, \"2\": 31, \"13\": 17, \"3\": 7, \"9\": 10, \"7\": 19, \"1\": 11, \"8\": 2, \"15\": 1}, \"1\": {\"4\": 11, \"8\": 13, \"12\": 12, \"14\": 23, \"1\": 33, \"13\": 23, \"10\": 19, \"15\": 15, \"2\": 6, \"7\": 19, \"3\": 9, \"5\": 18, \"0\": 9, \"6\": 14, \"11\": 16}, \"15\": {\"8\": 31, \"3\": 27, \"11\": 31, \"6\": 12, \"15\": 39, \"12\": 26, \"7\": 11, \"13\": 17, \"1\": 23, \"14\": 7, \"4\": 5, \"2\": 2, \"5\": 4, \"10\": 3, \"0\": 2}, \"5\": {\"4\": 25, \"5\": 38, \"7\": 22, \"14\": 29, \"9\": 5, \"13\": 22, \"1\": 17, \"10\": 26, \"0\": 15, \"2\": 14, \"3\": 4, \"6\": 13, \"8\": 4, \"11\": 3, \"15\": 3}, \"3\": {\"7\": 20, \"13\": 11, \"6\": 20, \"12\": 33, \"1\": 6, \"8\": 19, \"3\": 33, \"4\": 19, \"11\": 15, \"15\": 19, \"14\": 11, \"2\": 19, \"10\": 7, \"5\": 4, \"0\": 4}, \"6\": {\"6\": 24, \"2\": 27, \"7\": 31, \"14\": 18, \"10\": 14, \"1\": 12, \"13\": 22, \"5\": 16, \"4\": 20, \"3\": 11, \"12\": 11, \"0\": 15, \"8\": 10, \"15\": 6, \"11\": 3}, \"11\": {\"15\": 40, \"13\": 14, \"8\": 40, \"11\": 40, \"10\": 4, \"3\": 17, \"12\": 42, \"6\": 5, \"1\": 19, \"7\": 10, \"14\": 2, \"2\": 1, \"5\": 2, \"0\": 1, \"4\": 3}, \"8\": {\"7\": 10, \"8\": 33, \"11\": 27, \"12\": 32, \"15\": 29, \"6\": 10, \"5\": 9, \"3\": 27, \"13\": 11, \"14\": 9, \"1\": 23, \"2\": 7, \"10\": 2, \"4\": 7, \"0\": 4}, \"4\": {\"10\": 18, \"7\": 23, \"11\": 9, \"9\": 2, \"0\": 29, \"3\": 15, \"14\": 23, \"4\": 22, \"6\": 19, \"2\": 21, \"15\": 3, \"1\": 12, \"13\": 23, \"8\": 9, \"12\": 5, \"5\": 7}, \"12\": {\"13\": 19, \"7\": 9, \"14\": 6, \"3\": 33, \"15\": 41, \"8\": 42, \"10\": 2, \"11\": 35, \"5\": 3, \"12\": 34, \"4\": 6, \"2\": 2, \"1\": 6, \"0\": 1, \"6\": 1}, \"14\": {\"13\": 22, \"10\": 23, \"2\": 17, \"1\": 19, \"0\": 18, \"6\": 22, \"3\": 10, \"14\": 17, \"4\": 28, \"7\": 15, \"5\": 32, \"15\": 3, \"9\": 6, \"8\": 6, \"11\": 2}, \"2\": {\"7\": 22, \"6\": 18, \"10\": 14, \"9\": 3, \"2\": 31, \"4\": 32, \"3\": 17, \"0\": 33, \"1\": 5, \"14\": 24, \"11\": 3, \"5\": 17, \"12\": 1, \"13\": 14, \"8\": 3, \"15\": 3}, \"7\": {\"13\": 28, \"5\": 14, \"6\": 15, \"7\": 24, \"14\": 32, \"12\": 9, \"1\": 11, \"10\": 10, \"0\": 17, \"2\": 19, \"8\": 14, \"3\": 16, \"9\": 1, \"4\": 16, \"11\": 10, \"15\": 4}}, \"ORACLE.run2_50\": {\"7\": {\"13\": 36, \"6\": 34, \"10\": 29, \"15\": 11, \"7\": 26, \"5\": 24, \"11\": 2, \"4\": 23, \"1\": 24, \"0\": 8, \"3\": 13, \"8\": 8, \"9\": 1, \"14\": 1}, \"3\": {\"1\": 2, \"3\": 102, \"13\": 21, \"8\": 50, \"5\": 6, \"7\": 20, \"4\": 9, \"10\": 19, \"6\": 3, \"0\": 7, \"2\": 1}, \"8\": {\"8\": 90, \"10\": 18, \"3\": 51, \"2\": 18, \"0\": 32, \"4\": 3, \"7\": 10, \"1\": 1, \"5\": 7, \"13\": 8, \"14\": 2}, \"2\": {\"0\": 54, \"14\": 29, \"2\": 82, \"12\": 22, \"8\": 26, \"10\": 11, \"1\": 7, \"7\": 4, \"3\": 1, \"11\": 2, \"5\": 1, \"9\": 1}, \"14\": {\"14\": 42, \"0\": 30, \"12\": 46, \"4\": 10, \"2\": 18, \"6\": 10, \"10\": 11, \"9\": 25, \"5\": 10, \"11\": 12, \"1\": 10, \"15\": 4, \"7\": 7, \"13\": 4, \"8\": 1}, \"4\": {\"10\": 23, \"6\": 29, \"4\": 28, \"5\": 27, \"7\": 19, \"15\": 32, \"11\": 12, \"13\": 33, \"9\": 5, \"3\": 8, \"0\": 4, \"8\": 2, \"1\": 14, \"12\": 1, \"14\": 3}, \"6\": {\"1\": 27, \"10\": 18, \"6\": 36, \"13\": 26, \"5\": 30, \"4\": 32, \"7\": 18, \"15\": 18, \"11\": 10, \"9\": 5, \"0\": 7, \"2\": 2, \"12\": 5, \"14\": 5, \"8\": 1}, \"15\": {\"1\": 17, \"11\": 31, \"4\": 34, \"15\": 39, \"12\": 3, \"6\": 24, \"7\": 13, \"13\": 20, \"5\": 23, \"10\": 5, \"9\": 19, \"8\": 1, \"14\": 7, \"0\": 2, \"3\": 2}, \"10\": {\"0\": 18, \"1\": 15, \"10\": 27, \"15\": 5, \"6\": 24, \"7\": 30, \"3\": 20, \"14\": 7, \"12\": 1, \"5\": 21, \"8\": 23, \"13\": 27, \"4\": 9, \"2\": 9, \"11\": 3, \"9\": 1}, \"11\": {\"4\": 18, \"1\": 19, \"11\": 64, \"9\": 50, \"12\": 14, \"13\": 5, \"14\": 11, \"5\": 12, \"15\": 29, \"7\": 2, \"6\": 9, \"0\": 2, \"10\": 4, \"2\": 1}, \"13\": {\"15\": 14, \"1\": 19, \"5\": 33, \"6\": 27, \"7\": 33, \"4\": 9, \"13\": 39, \"0\": 6, \"3\": 18, \"10\": 22, \"8\": 12, \"14\": 5, \"11\": 1, \"9\": 1, \"2\": 1}, \"9\": {\"12\": 26, \"14\": 28, \"11\": 55, \"9\": 69, \"4\": 10, \"1\": 12, \"15\": 24, \"5\": 3, \"10\": 2, \"0\": 3, \"6\": 2, \"2\": 5, \"13\": 1}, \"0\": {\"10\": 22, \"0\": 54, \"8\": 36, \"4\": 4, \"12\": 14, \"14\": 21, \"11\": 1, \"7\": 8, \"3\": 11, \"1\": 8, \"6\": 5, \"2\": 43, \"9\": 1, \"5\": 4, \"13\": 7, \"15\": 1}, \"1\": {\"10\": 9, \"4\": 29, \"5\": 19, \"15\": 24, \"1\": 40, \"11\": 20, \"14\": 9, \"12\": 10, \"13\": 17, \"6\": 27, \"7\": 12, \"9\": 16, \"0\": 5, \"3\": 1, \"8\": 1, \"2\": 1}, \"12\": {\"14\": 60, \"9\": 34, \"12\": 62, \"0\": 15, \"2\": 19, \"1\": 3, \"4\": 6, \"15\": 8, \"11\": 20, \"5\": 4, \"10\": 5, \"13\": 3, \"8\": 1}, \"5\": {\"1\": 19, \"5\": 29, \"3\": 11, \"4\": 28, \"14\": 9, \"7\": 24, \"15\": 21, \"6\": 26, \"11\": 8, \"13\": 27, \"10\": 14, \"0\": 6, \"2\": 1, \"9\": 7, \"8\": 6, \"12\": 4}}, \"ORACLE.run2_32\": {\"8\": {\"7\": 10, \"15\": 24, \"5\": 26, \"8\": 42, \"3\": 36, \"13\": 38, \"4\": 22, \"11\": 11, \"0\": 21, \"2\": 8, \"14\": 2}, \"14\": {\"4\": 20, \"11\": 30, \"14\": 40, \"5\": 15, \"7\": 33, \"0\": 20, \"9\": 27, \"2\": 38, \"13\": 9, \"12\": 5, \"8\": 3}, \"2\": {\"11\": 24, \"3\": 5, \"5\": 21, \"13\": 9, \"14\": 50, \"4\": 18, \"12\": 5, \"7\": 21, \"2\": 37, \"9\": 23, \"0\": 24, \"8\": 3}, \"0\": {\"8\": 19, \"13\": 30, \"14\": 19, \"7\": 27, \"5\": 25, \"4\": 34, \"11\": 32, \"2\": 18, \"3\": 8, \"0\": 25, \"15\": 1, \"9\": 2}, \"1\": {\"1\": 131, \"10\": 74, \"12\": 20, \"9\": 1, \"6\": 14}, \"10\": {\"12\": 57, \"10\": 117, \"1\": 58, \"9\": 6, \"7\": 1, \"6\": 1}, \"11\": {\"11\": 47, \"0\": 33, \"5\": 15, \"13\": 14, \"7\": 40, \"14\": 30, \"2\": 24, \"4\": 15, \"15\": 1, \"9\": 10, \"8\": 11}, \"5\": {\"7\": 18, \"8\": 28, \"13\": 23, \"14\": 18, \"5\": 24, \"11\": 21, \"4\": 27, \"0\": 31, \"2\": 24, \"3\": 11, \"12\": 2, \"15\": 5, \"9\": 8}, \"15\": {\"7\": 1, \"15\": 119, \"13\": 11, \"5\": 6, \"8\": 31, \"3\": 64, \"0\": 5, \"4\": 3}, \"3\": {\"7\": 6, \"15\": 44, \"4\": 20, \"8\": 52, \"13\": 32, \"3\": 59, \"0\": 9, \"11\": 2, \"5\": 15, \"2\": 1}, \"12\": {\"9\": 45, \"2\": 14, \"10\": 60, \"12\": 83, \"6\": 12, \"14\": 6, \"4\": 2, \"7\": 2, \"1\": 12, \"5\": 3, \"11\": 1}, \"7\": {\"0\": 22, \"4\": 22, \"7\": 36, \"5\": 30, \"14\": 26, \"13\": 18, \"11\": 24, \"2\": 37, \"8\": 16, \"15\": 2, \"9\": 6, \"3\": 1}, \"13\": {\"7\": 18, \"0\": 21, \"5\": 21, \"4\": 37, \"11\": 11, \"14\": 4, \"8\": 35, \"3\": 36, \"15\": 8, \"9\": 2, \"13\": 38, \"2\": 8, \"12\": 1}, \"6\": {\"6\": 154, \"14\": 2, \"12\": 19, \"1\": 31, \"9\": 23, \"10\": 11}, \"4\": {\"8\": 32, \"13\": 35, \"7\": 22, \"2\": 16, \"9\": 8, \"11\": 15, \"4\": 31, \"0\": 24, \"3\": 15, \"14\": 8, \"5\": 26, \"15\": 6, \"12\": 2}, \"9\": {\"12\": 42, \"6\": 15, \"5\": 9, \"7\": 13, \"9\": 76, \"4\": 9, \"2\": 23, \"0\": 8, \"14\": 27, \"10\": 7, \"13\": 4, \"11\": 7}}, \"ORACLE.run2_26\": {\"4\": {\"7\": 10, \"0\": 26, \"3\": 21, \"2\": 8, \"4\": 25, \"15\": 29, \"9\": 11, \"1\": 18, \"8\": 18, \"6\": 8, \"14\": 27, \"12\": 2, \"10\": 28, \"13\": 4, \"5\": 5}, \"12\": {\"12\": 84, \"2\": 12, \"6\": 35, \"11\": 26, \"14\": 4, \"5\": 19, \"15\": 3, \"13\": 9, \"9\": 30, \"8\": 4, \"3\": 2, \"7\": 6, \"10\": 2, \"0\": 2, \"1\": 1, \"4\": 1}, \"10\": {\"10\": 25, \"0\": 28, \"8\": 20, \"15\": 26, \"14\": 26, \"4\": 21, \"3\": 14, \"13\": 4, \"1\": 23, \"7\": 17, \"9\": 4, \"12\": 8, \"6\": 11, \"2\": 11, \"5\": 2}, \"0\": {\"6\": 14, \"2\": 11, \"4\": 20, \"15\": 20, \"8\": 21, \"10\": 32, \"1\": 25, \"14\": 29, \"7\": 13, \"9\": 6, \"0\": 32, \"3\": 14, \"13\": 1, \"5\": 2}, \"13\": {\"15\": 12, \"8\": 14, \"2\": 15, \"3\": 22, \"13\": 39, \"5\": 34, \"9\": 17, \"6\": 24, \"7\": 17, \"11\": 18, \"12\": 13, \"14\": 2, \"0\": 2, \"4\": 6, \"10\": 3, \"1\": 2}, \"9\": {\"7\": 16, \"9\": 32, \"3\": 19, \"4\": 6, \"12\": 9, \"11\": 11, \"13\": 28, \"5\": 20, \"15\": 15, \"6\": 18, \"10\": 9, \"8\": 12, \"2\": 16, \"1\": 18, \"14\": 5, \"0\": 6}, \"3\": {\"7\": 22, \"0\": 13, \"4\": 19, \"3\": 25, \"10\": 15, \"2\": 26, \"6\": 14, \"13\": 17, \"15\": 17, \"8\": 17, \"14\": 8, \"5\": 12, \"9\": 13, \"1\": 22}, \"2\": {\"2\": 21, \"15\": 19, \"6\": 14, \"8\": 17, \"4\": 22, \"9\": 17, \"11\": 1, \"10\": 9, \"13\": 12, \"1\": 12, \"5\": 23, \"14\": 9, \"3\": 29, \"0\": 12, \"7\": 20, \"12\": 3}, \"5\": {\"9\": 25, \"6\": 22, \"14\": 6, \"15\": 12, \"13\": 33, \"5\": 35, \"2\": 22, \"3\": 15, \"7\": 16, \"11\": 11, \"8\": 15, \"12\": 13, \"0\": 4, \"10\": 3, \"1\": 4, \"4\": 4}, \"14\": {\"0\": 28, \"6\": 10, \"1\": 26, \"2\": 13, \"3\": 14, \"10\": 31, \"15\": 27, \"4\": 19, \"9\": 5, \"14\": 29, \"8\": 13, \"13\": 4, \"7\": 19, \"12\": 2}, \"8\": {\"0\": 22, \"7\": 21, \"3\": 28, \"8\": 23, \"4\": 18, \"14\": 22, \"9\": 11, \"15\": 22, \"1\": 10, \"2\": 15, \"10\": 21, \"5\": 8, \"6\": 13, \"13\": 4, \"12\": 2}, \"7\": {\"9\": 13, \"15\": 20, \"3\": 30, \"8\": 30, \"4\": 13, \"13\": 14, \"6\": 19, \"7\": 15, \"14\": 14, \"1\": 12, \"10\": 16, \"0\": 16, \"2\": 18, \"5\": 10}, \"6\": {\"8\": 17, \"15\": 20, \"7\": 24, \"2\": 22, \"6\": 18, \"10\": 9, \"4\": 9, \"9\": 25, \"5\": 16, \"1\": 14, \"3\": 15, \"11\": 5, \"12\": 17, \"0\": 6, \"13\": 13, \"14\": 10}, \"11\": {\"11\": 137, \"5\": 15, \"12\": 37, \"13\": 19, \"2\": 5, \"3\": 3, \"6\": 11, \"9\": 9, \"10\": 2, \"7\": 1, \"8\": 1}, \"15\": {\"14\": 24, \"1\": 20, \"3\": 18, \"15\": 21, \"9\": 12, \"6\": 15, \"7\": 26, \"4\": 18, \"0\": 16, \"2\": 18, \"10\": 13, \"5\": 10, \"12\": 4, \"8\": 18, \"13\": 7}, \"1\": {\"10\": 34, \"7\": 19, \"3\": 14, \"4\": 12, \"9\": 14, \"1\": 18, \"5\": 7, \"14\": 32, \"15\": 25, \"6\": 8, \"2\": 13, \"8\": 18, \"0\": 21, \"12\": 3, \"13\": 2}}, \"ORACLE.run2_44\": {\"12\": {\"3\": 46, \"10\": 10, \"7\": 18, \"1\": 55, \"12\": 67, \"2\": 21, \"13\": 5, \"9\": 16, \"4\": 1, \"6\": 1}, \"7\": {\"3\": 9, \"7\": 45, \"1\": 18, \"6\": 30, \"9\": 43, \"10\": 14, \"13\": 22, \"2\": 37, \"14\": 1, \"12\": 16, \"11\": 4, \"4\": 1}, \"5\": {\"5\": 67, \"15\": 33, \"8\": 15, \"4\": 36, \"14\": 56, \"0\": 14, \"13\": 10, \"9\": 2, \"3\": 3, \"2\": 3, \"7\": 1}, \"15\": {\"15\": 71, \"8\": 35, \"13\": 1, \"14\": 42, \"5\": 31, \"0\": 33, \"4\": 20, \"12\": 2, \"3\": 2, \"2\": 1, \"1\": 2}, \"8\": {\"5\": 20, \"15\": 56, \"0\": 75, \"8\": 73, \"14\": 13, \"4\": 3}, \"2\": {\"1\": 24, \"7\": 30, \"13\": 28, \"2\": 43, \"6\": 14, \"9\": 45, \"12\": 24, \"5\": 3, \"3\": 18, \"10\": 3, \"4\": 8}, \"13\": {\"9\": 37, \"7\": 35, \"13\": 54, \"10\": 2, \"4\": 15, \"6\": 35, \"5\": 6, \"2\": 29, \"12\": 5, \"14\": 12, \"3\": 3, \"1\": 5, \"0\": 1, \"11\": 1}, \"4\": {\"4\": 60, \"2\": 9, \"13\": 17, \"15\": 29, \"3\": 26, \"6\": 2, \"14\": 39, \"5\": 29, \"12\": 5, \"1\": 9, \"8\": 2, \"9\": 9, \"7\": 3, \"0\": 1}, \"0\": {\"5\": 19, \"0\": 88, \"15\": 45, \"14\": 15, \"8\": 70, \"4\": 3}, \"6\": {\"7\": 34, \"6\": 86, \"13\": 26, \"11\": 21, \"10\": 16, \"9\": 23, \"2\": 21, \"1\": 6, \"12\": 4, \"3\": 3}, \"9\": {\"9\": 40, \"10\": 15, \"6\": 20, \"13\": 34, \"7\": 37, \"2\": 45, \"12\": 13, \"3\": 11, \"5\": 1, \"1\": 16, \"14\": 1, \"11\": 3, \"4\": 4}, \"11\": {\"10\": 51, \"6\": 39, \"11\": 111, \"7\": 16, \"9\": 7, \"2\": 4, \"13\": 5, \"12\": 6, \"1\": 1}, \"10\": {\"6\": 22, \"12\": 9, \"10\": 102, \"7\": 26, \"9\": 14, \"11\": 38, \"2\": 10, \"1\": 17, \"3\": 2}, \"14\": {\"15\": 42, \"14\": 43, \"2\": 3, \"5\": 63, \"4\": 44, \"0\": 3, \"8\": 30, \"13\": 5, \"3\": 6, \"1\": 1}, \"1\": {\"10\": 11, \"3\": 36, \"4\": 3, \"12\": 54, \"7\": 24, \"9\": 24, \"1\": 53, \"2\": 26, \"13\": 6, \"14\": 1, \"6\": 1, \"11\": 1}, \"3\": {\"3\": 74, \"12\": 65, \"15\": 2, \"7\": 8, \"1\": 31, \"2\": 19, \"5\": 2, \"13\": 8, \"9\": 17, \"4\": 10, \"10\": 2, \"14\": 2}}}, \"per_domain_accuracy\": {\"C_A_3\": {\"accuracy\": 0.9875, \"source?\": true}, \"C_A_4\": {\"accuracy\": 0.996875, \"source?\": true}, \"C_A_5\": {\"accuracy\": 0.984375, \"source?\": true}, \"W_A_3\": {\"accuracy\": 0.9635416666666666, \"source?\": true}, \"C_A_1\": {\"accuracy\": 0.99375, \"source?\": true}, \"W_A_4\": {\"accuracy\": 0.9270833333333334, \"source?\": true}, \"W_A_1\": {\"accuracy\": 0.9635416666666666, \"source?\": true}, \"W_A_2\": {\"accuracy\": 0.9537760416666666, \"source?\": true}, \"C_A_2\": {\"accuracy\": 0.9984375, \"source?\": true}, \"ORACLE.run2_14\": {\"accuracy\": 0.20703125, \"source?\": false}, \"ORACLE.run2_20\": {\"accuracy\": 0.12786458333333334, \"source?\": false}, \"ORACLE.run2_38\": {\"accuracy\": 0.2375, \"source?\": false}, \"ORACLE.run2_8\": {\"accuracy\": 0.1453125, \"source?\": false}, \"ORACLE.run2_50\": {\"accuracy\": 0.21588541666666666, \"source?\": false}, \"ORACLE.run2_32\": {\"accuracy\": 0.27578125, \"source?\": false}, \"ORACLE.run2_26\": {\"accuracy\": 0.15078125, \"source?\": false}, \"ORACLE.run2_44\": {\"accuracy\": 0.28046875, \"source?\": false}}}, \"history\": {\"epoch_indices\": [1, 2, 3, 4, 5, 6], \"train_label_loss\": [0.28582569311298195, 0.15489278116563923, 0.11597898656600679, 0.0929684197899143, 0.07763965115585748, 0.06416403891498655], \"source_val_label_loss\": [0.1965259164571762, 0.16400475800037384, 0.12827567756175995, 0.13070432841777802, 0.12902846932411194, 0.12746335566043854], \"target_val_label_loss\": [2.4425978660583496, 2.4295594692230225, 2.4697351455688477, 2.6131348609924316, 2.9998397827148438, 2.8313674926757812], \"source_val_acc_label\": [0.9543022260273972, 0.9657534246575342, 0.9716395547945206, 0.9724957191780822, 0.972388698630137, 0.9758133561643836], \"target_val_acc_label\": [0.21051432291666666, 0.205078125, 0.18668619791666666, 0.1796875, 0.16780598958333334, 0.17145182291666666]}, \"dataset_metrics\": {\"source\": {\"train\": {\"n_unique_x\": 56695, \"n_unique_y\": 130, \"n_batch/episode\": 2075}, \"val\": {\"n_unique_x\": 12132, \"n_unique_y\": 130, \"n_batch/episode\": 292}, \"test\": {\"n_unique_x\": 12132, \"n_unique_y\": 130, \"n_batch/episode\": 292}}, \"target\": {\"train\": {\"n_unique_x\": 179200, \"n_unique_y\": 16, \"n_batch/episode\": 6720}, \"val\": {\"n_unique_x\": 38400, \"n_unique_y\": 16, \"n_batch/episode\": 960}, \"test\": {\"n_unique_x\": 38400, \"n_unique_y\": 16, \"n_batch/episode\": 960}}}}'"
      ]
     },
     "execution_count": 29,
     "metadata": {},
     "output_type": "execute_result"
    }
   ],
   "source": [
    "json.dumps(experiment)"
   ]
  }
 ],
 "metadata": {
  "celltoolbar": "Tags",
  "kernelspec": {
   "display_name": "Python 3 (ipykernel)",
   "language": "python",
   "name": "python3"
  },
  "language_info": {
   "codemirror_mode": {
    "name": "ipython",
    "version": 3
   },
   "file_extension": ".py",
   "mimetype": "text/x-python",
   "name": "python",
   "nbconvert_exporter": "python",
   "pygments_lexer": "ipython3",
   "version": "3.8.10"
  },
  "papermill": {
   "default_parameters": {},
   "duration": 462.831226,
   "end_time": "2022-03-17T04:17:59.162951",
   "environment_variables": {},
   "exception": null,
   "input_path": "/mnt/wd500GB/CSC500/csc500-main/csc500-notebooks/templates/tl_ptn_template.ipynb",
   "output_path": "trial.ipynb",
   "parameters": {
    "parameters": {
     "BEST_MODEL_PATH": "./best_model.pth",
     "NUM_LOGS_PER_EPOCH": 10,
     "criteria_for_best": "target_loss",
     "dataset_seed": 1337,
     "datasets": [
      {
       "domain_prefix": "C_A_",
       "domains": [
        1,
        2,
        3,
        4,
        5
       ],
       "episode_transforms": [],
       "labels": [
        "1-10.",
        "1-11.",
        "1-15.",
        "1-16.",
        "1-17.",
        "1-18.",
        "1-19.",
        "10-4.",
        "10-7.",
        "11-1.",
        "11-14.",
        "11-17.",
        "11-20.",
        "11-7.",
        "13-20.",
        "13-8.",
        "14-10.",
        "14-11.",
        "14-14.",
        "14-7.",
        "15-1.",
        "15-20.",
        "16-1.",
        "16-16.",
        "17-10.",
        "17-11.",
        "17-2.",
        "19-1.",
        "19-16.",
        "19-19.",
        "19-20.",
        "19-3.",
        "2-10.",
        "2-11.",
        "2-17.",
        "2-18.",
        "2-20.",
        "2-3.",
        "2-4.",
        "2-5.",
        "2-6.",
        "2-7.",
        "2-8.",
        "3-13.",
        "3-18.",
        "3-3.",
        "4-1.",
        "4-10.",
        "4-11.",
        "4-19.",
        "5-5.",
        "6-15.",
        "7-10.",
        "7-14.",
        "8-18.",
        "8-20.",
        "8-3.",
        "8-8."
       ],
       "num_examples_per_domain_per_label": 100,
       "pickle_path": "/mnt/wd500GB/CSC500/csc500-main/datasets/cores.stratified_ds.2022A.pkl",
       "source_or_target_dataset": "source",
       "x_transforms": [
        "unit_power"
       ]
      },
      {
       "domain_prefix": "W_A_",
       "domains": [
        1,
        2,
        3,
        4
       ],
       "episode_transforms": [],
       "labels": [
        "1-10",
        "1-12",
        "1-14",
        "1-16",
        "1-18",
        "1-19",
        "1-8",
        "10-11",
        "10-17",
        "10-4",
        "10-7",
        "11-1",
        "11-10",
        "11-19",
        "11-20",
        "11-4",
        "11-7",
        "12-19",
        "12-20",
        "12-7",
        "13-14",
        "13-18",
        "13-19",
        "13-20",
        "13-3",
        "13-7",
        "14-10",
        "14-11",
        "14-12",
        "14-13",
        "14-14",
        "14-19",
        "14-20",
        "14-7",
        "14-8",
        "14-9",
        "15-1",
        "15-19",
        "15-6",
        "16-1",
        "16-16",
        "16-19",
        "16-20",
        "17-10",
        "17-11",
        "18-1",
        "18-10",
        "18-11",
        "18-12",
        "18-13",
        "18-14",
        "18-15",
        "18-16",
        "18-17",
        "18-19",
        "18-2",
        "18-20",
        "18-4",
        "18-5",
        "18-7",
        "18-8",
        "18-9",
        "19-1",
        "19-10",
        "19-11",
        "19-12",
        "19-13",
        "19-14",
        "19-15",
        "19-19",
        "19-2",
        "19-20",
        "19-3",
        "19-4",
        "19-6",
        "19-7",
        "19-8",
        "19-9",
        "2-1",
        "2-13",
        "2-15",
        "2-3",
        "2-4",
        "2-5",
        "2-6",
        "2-7",
        "2-8",
        "20-1",
        "20-12",
        "20-14",
        "20-15",
        "20-16",
        "20-18",
        "20-19",
        "20-20",
        "20-3",
        "20-4",
        "20-5",
        "20-7",
        "20-8",
        "3-1",
        "3-13",
        "3-18",
        "3-2",
        "3-8",
        "4-1",
        "4-10",
        "4-11",
        "5-1",
        "5-5",
        "6-1",
        "6-15",
        "6-6",
        "7-10",
        "7-11",
        "7-12",
        "7-13",
        "7-14",
        "7-7",
        "7-8",
        "7-9",
        "8-1",
        "8-13",
        "8-14",
        "8-18",
        "8-20",
        "8-3",
        "8-8",
        "9-1",
        "9-7"
       ],
       "num_examples_per_domain_per_label": 100,
       "pickle_path": "/mnt/wd500GB/CSC500/csc500-main/datasets/wisig.node3-19.stratified_ds.2022A.pkl",
       "source_or_target_dataset": "source",
       "x_transforms": [
        "unit_power"
       ]
      },
      {
       "domain_prefix": "ORACLE.run2_",
       "domains": [
        32,
        38,
        8,
        44,
        14,
        50,
        20,
        26
       ],
       "episode_transforms": [],
       "labels": [
        "3123D52",
        "3123D65",
        "3123D79",
        "3123D80",
        "3123D54",
        "3123D70",
        "3123D7B",
        "3123D89",
        "3123D58",
        "3123D76",
        "3123D7D",
        "3123EFE",
        "3123D64",
        "3123D78",
        "3123D7E",
        "3124E4A"
       ],
       "num_examples_per_domain_per_label": 2000,
       "pickle_path": "/mnt/wd500GB/CSC500/csc500-main/datasets/oracle.Run2_framed_2000Examples_stratified_ds.2022A.pkl",
       "source_or_target_dataset": "target",
       "x_transforms": [
        "unit_power"
       ]
      }
     ],
     "device": "cuda",
     "experiment_name": "cores+wisig -> oracle.run2.framed",
     "lr": 0.001,
     "n_epoch": 50,
     "n_query": 2,
     "n_shot": 3,
     "n_way": 16,
     "patience": 3,
     "seed": 1337,
     "test_k_factor": 2,
     "torch_default_dtype": "torch.float32",
     "train_k_factor": 3,
     "val_k_factor": 2,
     "x_net": [
      {
       "class": "nnReshape",
       "kargs": {
        "shape": [
         -1,
         1,
         2,
         256
        ]
       }
      },
      {
       "class": "Conv2d",
       "kargs": {
        "bias": false,
        "in_channels": 1,
        "kernel_size": [
         1,
         7
        ],
        "out_channels": 256,
        "padding": [
         0,
         3
        ]
       }
      },
      {
       "class": "ReLU",
       "kargs": {
        "inplace": true
       }
      },
      {
       "class": "BatchNorm2d",
       "kargs": {
        "num_features": 256
       }
      },
      {
       "class": "Conv2d",
       "kargs": {
        "bias": true,
        "in_channels": 256,
        "kernel_size": [
         2,
         7
        ],
        "out_channels": 80,
        "padding": [
         0,
         3
        ]
       }
      },
      {
       "class": "ReLU",
       "kargs": {
        "inplace": true
       }
      },
      {
       "class": "BatchNorm2d",
       "kargs": {
        "num_features": 80
       }
      },
      {
       "class": "Flatten",
       "kargs": {}
      },
      {
       "class": "Linear",
       "kargs": {
        "in_features": 20480,
        "out_features": 256
       }
      },
      {
       "class": "ReLU",
       "kargs": {
        "inplace": true
       }
      },
      {
       "class": "BatchNorm1d",
       "kargs": {
        "num_features": 256
       }
      },
      {
       "class": "Linear",
       "kargs": {
        "in_features": 256,
        "out_features": 256
       }
      }
     ]
    }
   },
   "start_time": "2022-03-17T04:10:16.331725",
   "version": "2.3.4"
  }
 },
 "nbformat": 4,
 "nbformat_minor": 5
}