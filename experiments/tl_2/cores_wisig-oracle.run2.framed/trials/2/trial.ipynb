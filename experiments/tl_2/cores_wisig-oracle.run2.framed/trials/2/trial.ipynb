{
 "cells": [
  {
   "cell_type": "markdown",
   "id": "9fea5f46",
   "metadata": {
    "papermill": {
     "duration": 0.04081,
     "end_time": "2022-03-17T04:26:44.303955",
     "exception": false,
     "start_time": "2022-03-17T04:26:44.263145",
     "status": "completed"
    },
    "tags": []
   },
   "source": [
    "# Transfer Learning Template"
   ]
  },
  {
   "cell_type": "code",
   "execution_count": 1,
   "id": "0902182a",
   "metadata": {
    "execution": {
     "iopub.execute_input": "2022-03-17T04:26:44.343342Z",
     "iopub.status.busy": "2022-03-17T04:26:44.341369Z",
     "iopub.status.idle": "2022-03-17T04:26:45.245143Z",
     "shell.execute_reply": "2022-03-17T04:26:45.244886Z"
    },
    "papermill": {
     "duration": 0.928575,
     "end_time": "2022-03-17T04:26:45.245202",
     "exception": false,
     "start_time": "2022-03-17T04:26:44.316627",
     "status": "completed"
    },
    "tags": []
   },
   "outputs": [],
   "source": [
    "%load_ext autoreload\n",
    "%autoreload 2\n",
    "%matplotlib inline\n",
    "\n",
    "    \n",
    "import os, json, sys, time, random\n",
    "import numpy as np\n",
    "import torch\n",
    "from torch.optim import Adam\n",
    "from  easydict import EasyDict\n",
    "import matplotlib.pyplot as plt\n",
    "\n",
    "from steves_models.steves_ptn import Steves_Prototypical_Network\n",
    "\n",
    "from steves_utils.lazy_iterable_wrapper import Lazy_Iterable_Wrapper\n",
    "from steves_utils.iterable_aggregator import Iterable_Aggregator\n",
    "from steves_utils.ptn_train_eval_test_jig import  PTN_Train_Eval_Test_Jig\n",
    "from steves_utils.torch_sequential_builder import build_sequential\n",
    "from steves_utils.torch_utils import get_dataset_metrics, ptn_confusion_by_domain_over_dataloader\n",
    "from steves_utils.utils_v2 import (per_domain_accuracy_from_confusion, get_datasets_base_path)\n",
    "from steves_utils.PTN.utils import independent_accuracy_assesment\n",
    "\n",
    "from torch.utils.data import DataLoader\n",
    "\n",
    "from steves_utils.stratified_dataset.episodic_accessor import Episodic_Accessor_Factory\n",
    "\n",
    "from steves_utils.ptn_do_report import (\n",
    "    get_loss_curve,\n",
    "    get_results_table,\n",
    "    get_parameters_table,\n",
    "    get_domain_accuracies,\n",
    ")\n",
    "\n",
    "from steves_utils.transforms import get_chained_transform"
   ]
  },
  {
   "cell_type": "markdown",
   "id": "41c840b4",
   "metadata": {
    "papermill": {
     "duration": 0.013722,
     "end_time": "2022-03-17T04:26:45.272862",
     "exception": false,
     "start_time": "2022-03-17T04:26:45.259140",
     "status": "completed"
    },
    "tags": []
   },
   "source": [
    "# Allowed Parameters\n",
    "These are allowed parameters, not defaults\n",
    "Each of these values need to be present in the injected parameters (the notebook will raise an exception if they are not present)\n",
    "\n",
    "Papermill uses the cell tag \"parameters\" to inject the real parameters below this cell.\n",
    "Enable tags to see what I mean"
   ]
  },
  {
   "cell_type": "code",
   "execution_count": 2,
   "id": "fd44eb83",
   "metadata": {
    "execution": {
     "iopub.execute_input": "2022-03-17T04:26:45.303006Z",
     "iopub.status.busy": "2022-03-17T04:26:45.302671Z",
     "iopub.status.idle": "2022-03-17T04:26:45.318528Z",
     "shell.execute_reply": "2022-03-17T04:26:45.318061Z"
    },
    "papermill": {
     "duration": 0.032032,
     "end_time": "2022-03-17T04:26:45.318621",
     "exception": false,
     "start_time": "2022-03-17T04:26:45.286589",
     "status": "completed"
    },
    "tags": []
   },
   "outputs": [],
   "source": [
    "required_parameters = {\n",
    "    \"experiment_name\",\n",
    "    \"lr\",\n",
    "    \"device\",\n",
    "    \"seed\",\n",
    "    \"dataset_seed\",\n",
    "    \"n_shot\",\n",
    "    \"n_query\",\n",
    "    \"n_way\",\n",
    "    \"train_k_factor\",\n",
    "    \"val_k_factor\",\n",
    "    \"test_k_factor\",\n",
    "    \"n_epoch\",\n",
    "    \"patience\",\n",
    "    \"criteria_for_best\",\n",
    "    \"x_net\",\n",
    "    \"datasets\",\n",
    "    \"torch_default_dtype\",\n",
    "    \"NUM_LOGS_PER_EPOCH\",\n",
    "    \"BEST_MODEL_PATH\",\n",
    "}"
   ]
  },
  {
   "cell_type": "code",
   "execution_count": 3,
   "id": "fa3f0049",
   "metadata": {
    "execution": {
     "iopub.execute_input": "2022-03-17T04:26:45.359357Z",
     "iopub.status.busy": "2022-03-17T04:26:45.350078Z",
     "iopub.status.idle": "2022-03-17T04:26:45.370864Z",
     "shell.execute_reply": "2022-03-17T04:26:45.370464Z"
    },
    "papermill": {
     "duration": 0.035016,
     "end_time": "2022-03-17T04:26:45.370953",
     "exception": false,
     "start_time": "2022-03-17T04:26:45.335937",
     "status": "completed"
    },
    "tags": [
     "parameters"
    ]
   },
   "outputs": [],
   "source": [
    "from steves_utils.CORES.utils import (\n",
    "    ALL_NODES,\n",
    "    ALL_NODES_MINIMUM_1000_EXAMPLES,\n",
    "    ALL_DAYS\n",
    ")\n",
    "\n",
    "from steves_utils.ORACLE.utils_v2 import (\n",
    "    ALL_DISTANCES_FEET_NARROWED,\n",
    "    ALL_RUNS,\n",
    "    ALL_SERIAL_NUMBERS,\n",
    ")\n",
    "\n",
    "standalone_parameters = {}\n",
    "standalone_parameters[\"experiment_name\"] = \"STANDALONE PTN\"\n",
    "standalone_parameters[\"lr\"] = 0.001\n",
    "standalone_parameters[\"device\"] = \"cuda\"\n",
    "\n",
    "standalone_parameters[\"seed\"] = 1337\n",
    "standalone_parameters[\"dataset_seed\"] = 1337\n",
    "\n",
    "standalone_parameters[\"n_way\"] = 8\n",
    "standalone_parameters[\"n_shot\"] = 3\n",
    "standalone_parameters[\"n_query\"]  = 2\n",
    "standalone_parameters[\"train_k_factor\"] = 1\n",
    "standalone_parameters[\"val_k_factor\"] = 2\n",
    "standalone_parameters[\"test_k_factor\"] = 2\n",
    "\n",
    "\n",
    "standalone_parameters[\"n_epoch\"] = 50\n",
    "\n",
    "standalone_parameters[\"patience\"] = 10\n",
    "standalone_parameters[\"criteria_for_best\"] = \"source_loss\"\n",
    "\n",
    "standalone_parameters[\"datasets\"] = [\n",
    "    {\n",
    "        \"labels\": ALL_SERIAL_NUMBERS,\n",
    "        \"domains\": ALL_DISTANCES_FEET_NARROWED,\n",
    "        \"num_examples_per_domain_per_label\": 100,\n",
    "        \"pickle_path\": os.path.join(get_datasets_base_path(), \"oracle.Run1_framed_2000Examples_stratified_ds.2022A.pkl\"),\n",
    "        \"source_or_target_dataset\": \"source\",\n",
    "        \"x_transforms\": [\"unit_mag\", \"minus_two\"],\n",
    "        \"episode_transforms\": [],\n",
    "        \"domain_prefix\": \"ORACLE_\"\n",
    "    },\n",
    "    {\n",
    "        \"labels\": ALL_NODES,\n",
    "        \"domains\": ALL_DAYS,\n",
    "        \"num_examples_per_domain_per_label\": 100,\n",
    "        \"pickle_path\": os.path.join(get_datasets_base_path(), \"cores.stratified_ds.2022A.pkl\"),\n",
    "        \"source_or_target_dataset\": \"target\",\n",
    "        \"x_transforms\": [\"unit_power\", \"times_zero\"],\n",
    "        \"episode_transforms\": [],\n",
    "        \"domain_prefix\": \"CORES_\"\n",
    "    }   \n",
    "]\n",
    "\n",
    "standalone_parameters[\"torch_default_dtype\"] = \"torch.float32\" \n",
    "\n",
    "\n",
    "\n",
    "standalone_parameters[\"x_net\"] =     [\n",
    "    {\"class\": \"nnReshape\", \"kargs\": {\"shape\":[-1, 1, 2, 256]}},\n",
    "    {\"class\": \"Conv2d\", \"kargs\": { \"in_channels\":1, \"out_channels\":256, \"kernel_size\":(1,7), \"bias\":False, \"padding\":(0,3), },},\n",
    "    {\"class\": \"ReLU\", \"kargs\": {\"inplace\": True}},\n",
    "    {\"class\": \"BatchNorm2d\", \"kargs\": {\"num_features\":256}},\n",
    "\n",
    "    {\"class\": \"Conv2d\", \"kargs\": { \"in_channels\":256, \"out_channels\":80, \"kernel_size\":(2,7), \"bias\":True, \"padding\":(0,3), },},\n",
    "    {\"class\": \"ReLU\", \"kargs\": {\"inplace\": True}},\n",
    "    {\"class\": \"BatchNorm2d\", \"kargs\": {\"num_features\":80}},\n",
    "    {\"class\": \"Flatten\", \"kargs\": {}},\n",
    "\n",
    "    {\"class\": \"Linear\", \"kargs\": {\"in_features\": 80*256, \"out_features\": 256}}, # 80 units per IQ pair\n",
    "    {\"class\": \"ReLU\", \"kargs\": {\"inplace\": True}},\n",
    "    {\"class\": \"BatchNorm1d\", \"kargs\": {\"num_features\":256}},\n",
    "\n",
    "    {\"class\": \"Linear\", \"kargs\": {\"in_features\": 256, \"out_features\": 256}},\n",
    "]\n",
    "\n",
    "# Parameters relevant to results\n",
    "# These parameters will basically never need to change\n",
    "standalone_parameters[\"NUM_LOGS_PER_EPOCH\"] = 10\n",
    "standalone_parameters[\"BEST_MODEL_PATH\"] = \"./best_model.pth\"\n",
    "\n",
    "\n",
    "\n",
    "\n"
   ]
  },
  {
   "cell_type": "code",
   "execution_count": 4,
   "id": "b759811e",
   "metadata": {
    "execution": {
     "iopub.execute_input": "2022-03-17T04:26:45.414140Z",
     "iopub.status.busy": "2022-03-17T04:26:45.408001Z",
     "iopub.status.idle": "2022-03-17T04:26:45.427202Z",
     "shell.execute_reply": "2022-03-17T04:26:45.426787Z"
    },
    "papermill": {
     "duration": 0.039149,
     "end_time": "2022-03-17T04:26:45.427305",
     "exception": false,
     "start_time": "2022-03-17T04:26:45.388156",
     "status": "completed"
    },
    "tags": [
     "injected-parameters"
    ]
   },
   "outputs": [],
   "source": [
    "# Parameters\n",
    "parameters = {\n",
    "    \"experiment_name\": \"cores+wisig -> oracle.run2.framed\",\n",
    "    \"device\": \"cuda\",\n",
    "    \"lr\": 0.001,\n",
    "    \"seed\": 1337,\n",
    "    \"dataset_seed\": 1337,\n",
    "    \"n_shot\": 3,\n",
    "    \"n_query\": 2,\n",
    "    \"train_k_factor\": 3,\n",
    "    \"val_k_factor\": 2,\n",
    "    \"test_k_factor\": 2,\n",
    "    \"torch_default_dtype\": \"torch.float32\",\n",
    "    \"n_epoch\": 50,\n",
    "    \"patience\": 3,\n",
    "    \"criteria_for_best\": \"target_loss\",\n",
    "    \"x_net\": [\n",
    "        {\"class\": \"nnReshape\", \"kargs\": {\"shape\": [-1, 1, 2, 256]}},\n",
    "        {\n",
    "            \"class\": \"Conv2d\",\n",
    "            \"kargs\": {\n",
    "                \"in_channels\": 1,\n",
    "                \"out_channels\": 256,\n",
    "                \"kernel_size\": [1, 7],\n",
    "                \"bias\": False,\n",
    "                \"padding\": [0, 3],\n",
    "            },\n",
    "        },\n",
    "        {\"class\": \"ReLU\", \"kargs\": {\"inplace\": True}},\n",
    "        {\"class\": \"BatchNorm2d\", \"kargs\": {\"num_features\": 256}},\n",
    "        {\n",
    "            \"class\": \"Conv2d\",\n",
    "            \"kargs\": {\n",
    "                \"in_channels\": 256,\n",
    "                \"out_channels\": 80,\n",
    "                \"kernel_size\": [2, 7],\n",
    "                \"bias\": True,\n",
    "                \"padding\": [0, 3],\n",
    "            },\n",
    "        },\n",
    "        {\"class\": \"ReLU\", \"kargs\": {\"inplace\": True}},\n",
    "        {\"class\": \"BatchNorm2d\", \"kargs\": {\"num_features\": 80}},\n",
    "        {\"class\": \"Flatten\", \"kargs\": {}},\n",
    "        {\"class\": \"Linear\", \"kargs\": {\"in_features\": 20480, \"out_features\": 256}},\n",
    "        {\"class\": \"ReLU\", \"kargs\": {\"inplace\": True}},\n",
    "        {\"class\": \"BatchNorm1d\", \"kargs\": {\"num_features\": 256}},\n",
    "        {\"class\": \"Linear\", \"kargs\": {\"in_features\": 256, \"out_features\": 256}},\n",
    "    ],\n",
    "    \"NUM_LOGS_PER_EPOCH\": 10,\n",
    "    \"BEST_MODEL_PATH\": \"./best_model.pth\",\n",
    "    \"n_way\": 16,\n",
    "    \"datasets\": [\n",
    "        {\n",
    "            \"labels\": [\n",
    "                \"1-10.\",\n",
    "                \"1-11.\",\n",
    "                \"1-15.\",\n",
    "                \"1-16.\",\n",
    "                \"1-17.\",\n",
    "                \"1-18.\",\n",
    "                \"1-19.\",\n",
    "                \"10-4.\",\n",
    "                \"10-7.\",\n",
    "                \"11-1.\",\n",
    "                \"11-14.\",\n",
    "                \"11-17.\",\n",
    "                \"11-20.\",\n",
    "                \"11-7.\",\n",
    "                \"13-20.\",\n",
    "                \"13-8.\",\n",
    "                \"14-10.\",\n",
    "                \"14-11.\",\n",
    "                \"14-14.\",\n",
    "                \"14-7.\",\n",
    "                \"15-1.\",\n",
    "                \"15-20.\",\n",
    "                \"16-1.\",\n",
    "                \"16-16.\",\n",
    "                \"17-10.\",\n",
    "                \"17-11.\",\n",
    "                \"17-2.\",\n",
    "                \"19-1.\",\n",
    "                \"19-16.\",\n",
    "                \"19-19.\",\n",
    "                \"19-20.\",\n",
    "                \"19-3.\",\n",
    "                \"2-10.\",\n",
    "                \"2-11.\",\n",
    "                \"2-17.\",\n",
    "                \"2-18.\",\n",
    "                \"2-20.\",\n",
    "                \"2-3.\",\n",
    "                \"2-4.\",\n",
    "                \"2-5.\",\n",
    "                \"2-6.\",\n",
    "                \"2-7.\",\n",
    "                \"2-8.\",\n",
    "                \"3-13.\",\n",
    "                \"3-18.\",\n",
    "                \"3-3.\",\n",
    "                \"4-1.\",\n",
    "                \"4-10.\",\n",
    "                \"4-11.\",\n",
    "                \"4-19.\",\n",
    "                \"5-5.\",\n",
    "                \"6-15.\",\n",
    "                \"7-10.\",\n",
    "                \"7-14.\",\n",
    "                \"8-18.\",\n",
    "                \"8-20.\",\n",
    "                \"8-3.\",\n",
    "                \"8-8.\",\n",
    "            ],\n",
    "            \"domains\": [1, 2, 3, 4, 5],\n",
    "            \"num_examples_per_domain_per_label\": 100,\n",
    "            \"pickle_path\": \"/mnt/wd500GB/CSC500/csc500-main/datasets/cores.stratified_ds.2022A.pkl\",\n",
    "            \"source_or_target_dataset\": \"source\",\n",
    "            \"x_transforms\": [],\n",
    "            \"episode_transforms\": [],\n",
    "            \"domain_prefix\": \"C_A_\",\n",
    "        },\n",
    "        {\n",
    "            \"labels\": [\n",
    "                \"1-10\",\n",
    "                \"1-12\",\n",
    "                \"1-14\",\n",
    "                \"1-16\",\n",
    "                \"1-18\",\n",
    "                \"1-19\",\n",
    "                \"1-8\",\n",
    "                \"10-11\",\n",
    "                \"10-17\",\n",
    "                \"10-4\",\n",
    "                \"10-7\",\n",
    "                \"11-1\",\n",
    "                \"11-10\",\n",
    "                \"11-19\",\n",
    "                \"11-20\",\n",
    "                \"11-4\",\n",
    "                \"11-7\",\n",
    "                \"12-19\",\n",
    "                \"12-20\",\n",
    "                \"12-7\",\n",
    "                \"13-14\",\n",
    "                \"13-18\",\n",
    "                \"13-19\",\n",
    "                \"13-20\",\n",
    "                \"13-3\",\n",
    "                \"13-7\",\n",
    "                \"14-10\",\n",
    "                \"14-11\",\n",
    "                \"14-12\",\n",
    "                \"14-13\",\n",
    "                \"14-14\",\n",
    "                \"14-19\",\n",
    "                \"14-20\",\n",
    "                \"14-7\",\n",
    "                \"14-8\",\n",
    "                \"14-9\",\n",
    "                \"15-1\",\n",
    "                \"15-19\",\n",
    "                \"15-6\",\n",
    "                \"16-1\",\n",
    "                \"16-16\",\n",
    "                \"16-19\",\n",
    "                \"16-20\",\n",
    "                \"17-10\",\n",
    "                \"17-11\",\n",
    "                \"18-1\",\n",
    "                \"18-10\",\n",
    "                \"18-11\",\n",
    "                \"18-12\",\n",
    "                \"18-13\",\n",
    "                \"18-14\",\n",
    "                \"18-15\",\n",
    "                \"18-16\",\n",
    "                \"18-17\",\n",
    "                \"18-19\",\n",
    "                \"18-2\",\n",
    "                \"18-20\",\n",
    "                \"18-4\",\n",
    "                \"18-5\",\n",
    "                \"18-7\",\n",
    "                \"18-8\",\n",
    "                \"18-9\",\n",
    "                \"19-1\",\n",
    "                \"19-10\",\n",
    "                \"19-11\",\n",
    "                \"19-12\",\n",
    "                \"19-13\",\n",
    "                \"19-14\",\n",
    "                \"19-15\",\n",
    "                \"19-19\",\n",
    "                \"19-2\",\n",
    "                \"19-20\",\n",
    "                \"19-3\",\n",
    "                \"19-4\",\n",
    "                \"19-6\",\n",
    "                \"19-7\",\n",
    "                \"19-8\",\n",
    "                \"19-9\",\n",
    "                \"2-1\",\n",
    "                \"2-13\",\n",
    "                \"2-15\",\n",
    "                \"2-3\",\n",
    "                \"2-4\",\n",
    "                \"2-5\",\n",
    "                \"2-6\",\n",
    "                \"2-7\",\n",
    "                \"2-8\",\n",
    "                \"20-1\",\n",
    "                \"20-12\",\n",
    "                \"20-14\",\n",
    "                \"20-15\",\n",
    "                \"20-16\",\n",
    "                \"20-18\",\n",
    "                \"20-19\",\n",
    "                \"20-20\",\n",
    "                \"20-3\",\n",
    "                \"20-4\",\n",
    "                \"20-5\",\n",
    "                \"20-7\",\n",
    "                \"20-8\",\n",
    "                \"3-1\",\n",
    "                \"3-13\",\n",
    "                \"3-18\",\n",
    "                \"3-2\",\n",
    "                \"3-8\",\n",
    "                \"4-1\",\n",
    "                \"4-10\",\n",
    "                \"4-11\",\n",
    "                \"5-1\",\n",
    "                \"5-5\",\n",
    "                \"6-1\",\n",
    "                \"6-15\",\n",
    "                \"6-6\",\n",
    "                \"7-10\",\n",
    "                \"7-11\",\n",
    "                \"7-12\",\n",
    "                \"7-13\",\n",
    "                \"7-14\",\n",
    "                \"7-7\",\n",
    "                \"7-8\",\n",
    "                \"7-9\",\n",
    "                \"8-1\",\n",
    "                \"8-13\",\n",
    "                \"8-14\",\n",
    "                \"8-18\",\n",
    "                \"8-20\",\n",
    "                \"8-3\",\n",
    "                \"8-8\",\n",
    "                \"9-1\",\n",
    "                \"9-7\",\n",
    "            ],\n",
    "            \"domains\": [1, 2, 3, 4],\n",
    "            \"num_examples_per_domain_per_label\": 100,\n",
    "            \"pickle_path\": \"/mnt/wd500GB/CSC500/csc500-main/datasets/wisig.node3-19.stratified_ds.2022A.pkl\",\n",
    "            \"source_or_target_dataset\": \"source\",\n",
    "            \"x_transforms\": [],\n",
    "            \"episode_transforms\": [],\n",
    "            \"domain_prefix\": \"W_A_\",\n",
    "        },\n",
    "        {\n",
    "            \"labels\": [\n",
    "                \"3123D52\",\n",
    "                \"3123D65\",\n",
    "                \"3123D79\",\n",
    "                \"3123D80\",\n",
    "                \"3123D54\",\n",
    "                \"3123D70\",\n",
    "                \"3123D7B\",\n",
    "                \"3123D89\",\n",
    "                \"3123D58\",\n",
    "                \"3123D76\",\n",
    "                \"3123D7D\",\n",
    "                \"3123EFE\",\n",
    "                \"3123D64\",\n",
    "                \"3123D78\",\n",
    "                \"3123D7E\",\n",
    "                \"3124E4A\",\n",
    "            ],\n",
    "            \"domains\": [32, 38, 8, 44, 14, 50, 20, 26],\n",
    "            \"num_examples_per_domain_per_label\": 2000,\n",
    "            \"pickle_path\": \"/mnt/wd500GB/CSC500/csc500-main/datasets/oracle.Run2_framed_2000Examples_stratified_ds.2022A.pkl\",\n",
    "            \"source_or_target_dataset\": \"target\",\n",
    "            \"x_transforms\": [],\n",
    "            \"episode_transforms\": [],\n",
    "            \"domain_prefix\": \"ORACLE.run2_\",\n",
    "        },\n",
    "    ],\n",
    "}\n"
   ]
  },
  {
   "cell_type": "code",
   "execution_count": 5,
   "id": "8fa1cc33",
   "metadata": {
    "execution": {
     "iopub.execute_input": "2022-03-17T04:26:45.469407Z",
     "iopub.status.busy": "2022-03-17T04:26:45.461279Z",
     "iopub.status.idle": "2022-03-17T04:26:45.474601Z",
     "shell.execute_reply": "2022-03-17T04:26:45.474276Z"
    },
    "papermill": {
     "duration": 0.030682,
     "end_time": "2022-03-17T04:26:45.474674",
     "exception": false,
     "start_time": "2022-03-17T04:26:45.443992",
     "status": "completed"
    },
    "tags": []
   },
   "outputs": [],
   "source": [
    "# Set this to True if you want to run this template directly\n",
    "STANDALONE = False\n",
    "if STANDALONE:\n",
    "    print(\"parameters not injected, running with standalone_parameters\")\n",
    "    parameters = standalone_parameters\n",
    "\n",
    "if not 'parameters' in locals() and not 'parameters' in globals():\n",
    "    raise Exception(\"Parameter injection failed\")\n",
    "\n",
    "#Use an easy dict for all the parameters\n",
    "p = EasyDict(parameters)\n",
    "\n",
    "supplied_keys = set(p.keys())\n",
    "\n",
    "if  supplied_keys != required_parameters:\n",
    "    print(\"Parameters are incorrect\")\n",
    "    if len(supplied_keys - required_parameters)>0: print(\"Shouldn't have:\", str(supplied_keys - required_parameters))\n",
    "    if len(required_parameters - supplied_keys)>0: print(\"Need to have:\", str(required_parameters - supplied_keys))\n",
    "    raise RuntimeError(\"Parameters are incorrect\")\n",
    "\n"
   ]
  },
  {
   "cell_type": "code",
   "execution_count": 6,
   "id": "3a028d58",
   "metadata": {
    "execution": {
     "iopub.execute_input": "2022-03-17T04:26:45.507490Z",
     "iopub.status.busy": "2022-03-17T04:26:45.506984Z",
     "iopub.status.idle": "2022-03-17T04:26:45.521279Z",
     "shell.execute_reply": "2022-03-17T04:26:45.520847Z"
    },
    "papermill": {
     "duration": 0.029551,
     "end_time": "2022-03-17T04:26:45.521370",
     "exception": false,
     "start_time": "2022-03-17T04:26:45.491819",
     "status": "completed"
    },
    "tags": []
   },
   "outputs": [],
   "source": [
    "###################################\n",
    "# Set the RNGs and make it all deterministic\n",
    "###################################\n",
    "np.random.seed(p.seed)\n",
    "random.seed(p.seed)\n",
    "torch.manual_seed(p.seed)\n",
    "\n",
    "torch.use_deterministic_algorithms(True) "
   ]
  },
  {
   "cell_type": "code",
   "execution_count": 7,
   "id": "b691acf6",
   "metadata": {
    "execution": {
     "iopub.execute_input": "2022-03-17T04:26:45.555654Z",
     "iopub.status.busy": "2022-03-17T04:26:45.552518Z",
     "iopub.status.idle": "2022-03-17T04:26:45.566400Z",
     "shell.execute_reply": "2022-03-17T04:26:45.565951Z"
    },
    "papermill": {
     "duration": 0.029098,
     "end_time": "2022-03-17T04:26:45.566505",
     "exception": false,
     "start_time": "2022-03-17T04:26:45.537407",
     "status": "completed"
    },
    "tags": []
   },
   "outputs": [],
   "source": [
    "###########################################\n",
    "# The stratified datasets honor this\n",
    "###########################################\n",
    "torch.set_default_dtype(eval(p.torch_default_dtype))"
   ]
  },
  {
   "cell_type": "code",
   "execution_count": 8,
   "id": "b5fba671",
   "metadata": {
    "execution": {
     "iopub.execute_input": "2022-03-17T04:26:45.603509Z",
     "iopub.status.busy": "2022-03-17T04:26:45.599679Z",
     "iopub.status.idle": "2022-03-17T04:26:45.639785Z",
     "shell.execute_reply": "2022-03-17T04:26:45.639382Z"
    },
    "papermill": {
     "duration": 0.055468,
     "end_time": "2022-03-17T04:26:45.639875",
     "exception": false,
     "start_time": "2022-03-17T04:26:45.584407",
     "status": "completed"
    },
    "tags": []
   },
   "outputs": [],
   "source": [
    "###################################\n",
    "# Build the network(s)\n",
    "# Note: It's critical to do this AFTER setting the RNG\n",
    "###################################\n",
    "x_net = build_sequential(p.x_net)"
   ]
  },
  {
   "cell_type": "code",
   "execution_count": 9,
   "id": "5d7e61cc",
   "metadata": {
    "execution": {
     "iopub.execute_input": "2022-03-17T04:26:45.672301Z",
     "iopub.status.busy": "2022-03-17T04:26:45.672014Z",
     "iopub.status.idle": "2022-03-17T04:26:45.685607Z",
     "shell.execute_reply": "2022-03-17T04:26:45.685141Z"
    },
    "papermill": {
     "duration": 0.02887,
     "end_time": "2022-03-17T04:26:45.685699",
     "exception": false,
     "start_time": "2022-03-17T04:26:45.656829",
     "status": "completed"
    },
    "tags": []
   },
   "outputs": [],
   "source": [
    "start_time_secs = time.time()"
   ]
  },
  {
   "cell_type": "code",
   "execution_count": 10,
   "id": "c6b67dfd",
   "metadata": {
    "execution": {
     "iopub.execute_input": "2022-03-17T04:26:45.729027Z",
     "iopub.status.busy": "2022-03-17T04:26:45.719799Z",
     "iopub.status.idle": "2022-03-17T04:26:45.732863Z",
     "shell.execute_reply": "2022-03-17T04:26:45.732559Z"
    },
    "papermill": {
     "duration": 0.03005,
     "end_time": "2022-03-17T04:26:45.732937",
     "exception": false,
     "start_time": "2022-03-17T04:26:45.702887",
     "status": "completed"
    },
    "tags": []
   },
   "outputs": [],
   "source": [
    "p.domains_source = []\n",
    "p.domains_target = []\n",
    "\n",
    "\n",
    "train_original_source = []\n",
    "val_original_source   = []\n",
    "test_original_source  = []\n",
    "\n",
    "train_original_target = []\n",
    "val_original_target   = []\n",
    "test_original_target  = []"
   ]
  },
  {
   "cell_type": "code",
   "execution_count": 11,
   "id": "e3d9c3d3",
   "metadata": {
    "execution": {
     "iopub.execute_input": "2022-03-17T04:26:45.778118Z",
     "iopub.status.busy": "2022-03-17T04:26:45.777751Z",
     "iopub.status.idle": "2022-03-17T04:26:45.779322Z",
     "shell.execute_reply": "2022-03-17T04:26:45.778940Z"
    },
    "papermill": {
     "duration": 0.029763,
     "end_time": "2022-03-17T04:26:45.779395",
     "exception": false,
     "start_time": "2022-03-17T04:26:45.749632",
     "status": "completed"
    },
    "tags": []
   },
   "outputs": [],
   "source": [
    "# global_x_transform_func = lambda x: normalize(x.to(torch.get_default_dtype()), \"unit_power\") # unit_power, unit_mag\n",
    "# global_x_transform_func = lambda x: normalize(x, \"unit_power\") # unit_power, unit_mag"
   ]
  },
  {
   "cell_type": "code",
   "execution_count": 12,
   "id": "acb78fd2",
   "metadata": {
    "execution": {
     "iopub.execute_input": "2022-03-17T04:26:45.819931Z",
     "iopub.status.busy": "2022-03-17T04:26:45.815682Z",
     "iopub.status.idle": "2022-03-17T04:26:45.827598Z",
     "shell.execute_reply": "2022-03-17T04:26:45.827274Z"
    },
    "papermill": {
     "duration": 0.032103,
     "end_time": "2022-03-17T04:26:45.827670",
     "exception": false,
     "start_time": "2022-03-17T04:26:45.795567",
     "status": "completed"
    },
    "tags": []
   },
   "outputs": [],
   "source": [
    "def add_dataset(\n",
    "    labels,\n",
    "    domains,\n",
    "    pickle_path,\n",
    "    x_transforms,\n",
    "    episode_transforms,\n",
    "    domain_prefix,\n",
    "    num_examples_per_domain_per_label,\n",
    "    source_or_target_dataset:str,\n",
    "    iterator_seed=p.seed,\n",
    "    dataset_seed=p.dataset_seed,\n",
    "    n_shot=p.n_shot,\n",
    "    n_way=p.n_way,\n",
    "    n_query=p.n_query,\n",
    "    train_val_test_k_factors=(p.train_k_factor,p.val_k_factor,p.test_k_factor),\n",
    "):\n",
    "   \n",
    "    if x_transforms == []: x_transform = None\n",
    "    else: x_transform = get_chained_transform(x_transforms)\n",
    "    \n",
    "    if episode_transforms == []: episode_transform = None\n",
    "    else: raise Exception(\"episode_transforms not implemented\")\n",
    "    \n",
    "    episode_transform = lambda tup, _prefix=domain_prefix: (_prefix + str(tup[0]), tup[1])\n",
    "\n",
    "\n",
    "    eaf = Episodic_Accessor_Factory(\n",
    "        labels=labels,\n",
    "        domains=domains,\n",
    "        num_examples_per_domain_per_label=num_examples_per_domain_per_label,\n",
    "        iterator_seed=iterator_seed,\n",
    "        dataset_seed=dataset_seed,\n",
    "        n_shot=n_shot,\n",
    "        n_way=n_way,\n",
    "        n_query=n_query,\n",
    "        train_val_test_k_factors=train_val_test_k_factors,\n",
    "        pickle_path=pickle_path,\n",
    "        x_transform_func=x_transform,\n",
    "    )\n",
    "\n",
    "    train, val, test = eaf.get_train(), eaf.get_val(), eaf.get_test()\n",
    "    train = Lazy_Iterable_Wrapper(train, episode_transform)\n",
    "    val = Lazy_Iterable_Wrapper(val, episode_transform)\n",
    "    test = Lazy_Iterable_Wrapper(test, episode_transform)\n",
    "\n",
    "    if source_or_target_dataset==\"source\":\n",
    "        train_original_source.append(train)\n",
    "        val_original_source.append(val)\n",
    "        test_original_source.append(test)\n",
    "\n",
    "        p.domains_source.extend(\n",
    "            [domain_prefix + str(u) for u in domains]\n",
    "        )\n",
    "    elif source_or_target_dataset==\"target\":\n",
    "        train_original_target.append(train)\n",
    "        val_original_target.append(val)\n",
    "        test_original_target.append(test)\n",
    "        p.domains_target.extend(\n",
    "            [domain_prefix + str(u) for u in domains]\n",
    "        )\n",
    "    else:\n",
    "        raise Exception(f\"invalid source_or_target_dataset: {source_or_target_dataset}\")\n",
    "    "
   ]
  },
  {
   "cell_type": "code",
   "execution_count": 13,
   "id": "fe266617",
   "metadata": {
    "execution": {
     "iopub.execute_input": "2022-03-17T04:26:45.863686Z",
     "iopub.status.busy": "2022-03-17T04:26:45.859997Z",
     "iopub.status.idle": "2022-03-17T04:26:47.650521Z",
     "shell.execute_reply": "2022-03-17T04:26:47.650047Z"
    },
    "papermill": {
     "duration": 1.805898,
     "end_time": "2022-03-17T04:26:47.650614",
     "exception": false,
     "start_time": "2022-03-17T04:26:45.844716",
     "status": "completed"
    },
    "tags": []
   },
   "outputs": [],
   "source": [
    "for ds in p.datasets:\n",
    "    add_dataset(**ds)"
   ]
  },
  {
   "cell_type": "code",
   "execution_count": 14,
   "id": "b90d65ac",
   "metadata": {
    "execution": {
     "iopub.execute_input": "2022-03-17T04:26:47.684293Z",
     "iopub.status.busy": "2022-03-17T04:26:47.683244Z",
     "iopub.status.idle": "2022-03-17T04:26:47.699860Z",
     "shell.execute_reply": "2022-03-17T04:26:47.700186Z"
    },
    "papermill": {
     "duration": 0.031931,
     "end_time": "2022-03-17T04:26:47.700296",
     "exception": false,
     "start_time": "2022-03-17T04:26:47.668365",
     "status": "completed"
    },
    "tags": []
   },
   "outputs": [],
   "source": [
    "# from steves_utils.CORES.utils import (\n",
    "#     ALL_NODES,\n",
    "#     ALL_NODES_MINIMUM_1000_EXAMPLES,\n",
    "#     ALL_DAYS\n",
    "# )\n",
    "\n",
    "# add_dataset(\n",
    "#     labels=ALL_NODES,\n",
    "#     domains = ALL_DAYS,\n",
    "#     num_examples_per_domain_per_label=100,\n",
    "#     pickle_path=os.path.join(get_datasets_base_path(), \"cores.stratified_ds.2022A.pkl\"),\n",
    "#     source_or_target_dataset=\"target\",\n",
    "#     x_transform_func=global_x_transform_func,\n",
    "#     domain_modifier=lambda u: f\"cores_{u}\"\n",
    "# )"
   ]
  },
  {
   "cell_type": "code",
   "execution_count": 15,
   "id": "76db484d",
   "metadata": {
    "execution": {
     "iopub.execute_input": "2022-03-17T04:26:47.740736Z",
     "iopub.status.busy": "2022-03-17T04:26:47.737776Z",
     "iopub.status.idle": "2022-03-17T04:26:47.750766Z",
     "shell.execute_reply": "2022-03-17T04:26:47.750370Z"
    },
    "papermill": {
     "duration": 0.028995,
     "end_time": "2022-03-17T04:26:47.750865",
     "exception": false,
     "start_time": "2022-03-17T04:26:47.721870",
     "status": "completed"
    },
    "tags": []
   },
   "outputs": [],
   "source": [
    "# from steves_utils.ORACLE.utils_v2 import (\n",
    "#     ALL_DISTANCES_FEET,\n",
    "#     ALL_RUNS,\n",
    "#     ALL_SERIAL_NUMBERS,\n",
    "# )\n",
    "\n",
    "\n",
    "# add_dataset(\n",
    "#     labels=ALL_SERIAL_NUMBERS,\n",
    "#     domains = list(set(ALL_DISTANCES_FEET) - {2,62}),\n",
    "#     num_examples_per_domain_per_label=100,\n",
    "#     pickle_path=os.path.join(get_datasets_base_path(), \"oracle.Run2_framed_2000Examples_stratified_ds.2022A.pkl\"),\n",
    "#     source_or_target_dataset=\"source\",\n",
    "#     x_transform_func=global_x_transform_func,\n",
    "#     domain_modifier=lambda u: f\"oracle1_{u}\"\n",
    "# )\n"
   ]
  },
  {
   "cell_type": "code",
   "execution_count": 16,
   "id": "97dea9d2",
   "metadata": {
    "execution": {
     "iopub.execute_input": "2022-03-17T04:26:47.784851Z",
     "iopub.status.busy": "2022-03-17T04:26:47.784064Z",
     "iopub.status.idle": "2022-03-17T04:26:47.800182Z",
     "shell.execute_reply": "2022-03-17T04:26:47.799786Z"
    },
    "papermill": {
     "duration": 0.031071,
     "end_time": "2022-03-17T04:26:47.800279",
     "exception": false,
     "start_time": "2022-03-17T04:26:47.769208",
     "status": "completed"
    },
    "tags": []
   },
   "outputs": [],
   "source": [
    "# from steves_utils.ORACLE.utils_v2 import (\n",
    "#     ALL_DISTANCES_FEET,\n",
    "#     ALL_RUNS,\n",
    "#     ALL_SERIAL_NUMBERS,\n",
    "# )\n",
    "\n",
    "\n",
    "# add_dataset(\n",
    "#     labels=ALL_SERIAL_NUMBERS,\n",
    "#     domains = list(set(ALL_DISTANCES_FEET) - {2,62,56}),\n",
    "#     num_examples_per_domain_per_label=100,\n",
    "#     pickle_path=os.path.join(get_datasets_base_path(), \"oracle.Run2_framed_2000Examples_stratified_ds.2022A.pkl\"),\n",
    "#     source_or_target_dataset=\"source\",\n",
    "#     x_transform_func=global_x_transform_func,\n",
    "#     domain_modifier=lambda u: f\"oracle2_{u}\"\n",
    "# )"
   ]
  },
  {
   "cell_type": "code",
   "execution_count": 17,
   "id": "6f289866",
   "metadata": {
    "execution": {
     "iopub.execute_input": "2022-03-17T04:26:47.835594Z",
     "iopub.status.busy": "2022-03-17T04:26:47.834743Z",
     "iopub.status.idle": "2022-03-17T04:26:47.849035Z",
     "shell.execute_reply": "2022-03-17T04:26:47.849421Z"
    },
    "papermill": {
     "duration": 0.029869,
     "end_time": "2022-03-17T04:26:47.849538",
     "exception": false,
     "start_time": "2022-03-17T04:26:47.819669",
     "status": "completed"
    },
    "tags": []
   },
   "outputs": [],
   "source": [
    "# add_dataset(\n",
    "#     labels=list(range(19)),\n",
    "#     domains = [0,1,2],\n",
    "#     num_examples_per_domain_per_label=100,\n",
    "#     pickle_path=os.path.join(get_datasets_base_path(), \"metehan.stratified_ds.2022A.pkl\"),\n",
    "#     source_or_target_dataset=\"target\",\n",
    "#     x_transform_func=global_x_transform_func,\n",
    "#     domain_modifier=lambda u: f\"met_{u}\"\n",
    "# )"
   ]
  },
  {
   "cell_type": "code",
   "execution_count": 18,
   "id": "86a863c3",
   "metadata": {
    "execution": {
     "iopub.execute_input": "2022-03-17T04:26:47.885402Z",
     "iopub.status.busy": "2022-03-17T04:26:47.884915Z",
     "iopub.status.idle": "2022-03-17T04:26:47.896214Z",
     "shell.execute_reply": "2022-03-17T04:26:47.896515Z"
    },
    "papermill": {
     "duration": 0.028192,
     "end_time": "2022-03-17T04:26:47.896600",
     "exception": false,
     "start_time": "2022-03-17T04:26:47.868408",
     "status": "completed"
    },
    "tags": []
   },
   "outputs": [],
   "source": [
    "# # from steves_utils.wisig.utils import (\n",
    "# #     ALL_NODES_MINIMUM_100_EXAMPLES,\n",
    "# #     ALL_NODES_MINIMUM_500_EXAMPLES,\n",
    "# #     ALL_NODES_MINIMUM_1000_EXAMPLES,\n",
    "# #     ALL_DAYS\n",
    "# # )\n",
    "\n",
    "# import steves_utils.wisig.utils as wisig\n",
    "\n",
    "\n",
    "# add_dataset(\n",
    "#     labels=wisig.ALL_NODES_MINIMUM_100_EXAMPLES,\n",
    "#     domains = wisig.ALL_DAYS,\n",
    "#     num_examples_per_domain_per_label=100,\n",
    "#     pickle_path=os.path.join(get_datasets_base_path(), \"wisig.node3-19.stratified_ds.2022A.pkl\"),\n",
    "#     source_or_target_dataset=\"target\",\n",
    "#     x_transform_func=global_x_transform_func,\n",
    "#     domain_modifier=lambda u: f\"wisig_{u}\"\n",
    "# )"
   ]
  },
  {
   "cell_type": "code",
   "execution_count": 19,
   "id": "fd5442bc",
   "metadata": {
    "execution": {
     "iopub.execute_input": "2022-03-17T04:26:47.934314Z",
     "iopub.status.busy": "2022-03-17T04:26:47.934057Z",
     "iopub.status.idle": "2022-03-17T04:26:47.945743Z",
     "shell.execute_reply": "2022-03-17T04:26:47.945352Z"
    },
    "papermill": {
     "duration": 0.029201,
     "end_time": "2022-03-17T04:26:47.945832",
     "exception": false,
     "start_time": "2022-03-17T04:26:47.916631",
     "status": "completed"
    },
    "tags": []
   },
   "outputs": [],
   "source": [
    "###################################\n",
    "# Build the dataset\n",
    "###################################\n",
    "train_original_source = Iterable_Aggregator(train_original_source, p.seed)\n",
    "val_original_source = Iterable_Aggregator(val_original_source, p.seed)\n",
    "test_original_source = Iterable_Aggregator(test_original_source, p.seed)\n",
    "\n",
    "\n",
    "train_original_target = Iterable_Aggregator(train_original_target, p.seed)\n",
    "val_original_target = Iterable_Aggregator(val_original_target, p.seed)\n",
    "test_original_target = Iterable_Aggregator(test_original_target, p.seed)\n",
    "\n",
    "# For CNN We only use X and Y. And we only train on the source.\n",
    "# Properly form the data using a transform lambda and Lazy_Iterable_Wrapper. Finally wrap them in a dataloader\n",
    "\n",
    "transform_lambda = lambda ex: ex[1] # Original is (<domain>, <episode>) so we strip down to episode only\n",
    "\n",
    "train_processed_source = Lazy_Iterable_Wrapper(train_original_source, transform_lambda)\n",
    "val_processed_source   = Lazy_Iterable_Wrapper(val_original_source, transform_lambda)\n",
    "test_processed_source  = Lazy_Iterable_Wrapper(test_original_source, transform_lambda)\n",
    "\n",
    "train_processed_target = Lazy_Iterable_Wrapper(train_original_target, transform_lambda)\n",
    "val_processed_target   = Lazy_Iterable_Wrapper(val_original_target, transform_lambda)\n",
    "test_processed_target  = Lazy_Iterable_Wrapper(test_original_target, transform_lambda)\n",
    "\n",
    "datasets = EasyDict({\n",
    "    \"source\": {\n",
    "        \"original\": {\"train\":train_original_source, \"val\":val_original_source, \"test\":test_original_source},\n",
    "        \"processed\": {\"train\":train_processed_source, \"val\":val_processed_source, \"test\":test_processed_source}\n",
    "    },\n",
    "    \"target\": {\n",
    "        \"original\": {\"train\":train_original_target, \"val\":val_original_target, \"test\":test_original_target},\n",
    "        \"processed\": {\"train\":train_processed_target, \"val\":val_processed_target, \"test\":test_processed_target}\n",
    "    },\n",
    "})"
   ]
  },
  {
   "cell_type": "code",
   "execution_count": 20,
   "id": "5b3c01fc",
   "metadata": {
    "execution": {
     "iopub.execute_input": "2022-03-17T04:26:47.989315Z",
     "iopub.status.busy": "2022-03-17T04:26:47.979949Z",
     "iopub.status.idle": "2022-03-17T04:26:52.775087Z",
     "shell.execute_reply": "2022-03-17T04:26:52.775536Z"
    },
    "papermill": {
     "duration": 4.81104,
     "end_time": "2022-03-17T04:26:52.775647",
     "exception": false,
     "start_time": "2022-03-17T04:26:47.964607",
     "status": "completed"
    },
    "tags": []
   },
   "outputs": [
    {
     "name": "stdout",
     "output_type": "stream",
     "text": [
      "{'C_A_2', 'C_A_1', 'C_A_3', 'W_A_4', 'C_A_5', 'W_A_1', 'W_A_3', 'W_A_2', 'C_A_4'}\n"
     ]
    },
    {
     "name": "stdout",
     "output_type": "stream",
     "text": [
      "{'ORACLE.run2_32', 'ORACLE.run2_8', 'ORACLE.run2_20', 'ORACLE.run2_50', 'ORACLE.run2_26', 'ORACLE.run2_44', 'ORACLE.run2_14', 'ORACLE.run2_38'}\n"
     ]
    },
    {
     "name": "stdout",
     "output_type": "stream",
     "text": [
      "tensor([[[-1.6785e-02, -7.4770e-03, -3.0519e-04,  ..., -1.6144e-02,\n",
      "           0.0000e+00,  1.0071e-02],\n",
      "         [ 6.6530e-03,  6.1037e-05, -1.7701e-03,  ..., -1.4893e-02,\n",
      "           0.0000e+00, -1.5259e-04]],\n",
      "\n",
      "        [[-9.8270e-03,  2.0142e-02,  8.0264e-03,  ..., -8.6062e-03,\n",
      "          -7.4770e-03, -1.0010e-02],\n",
      "         [-2.2370e-02,  1.5259e-03,  2.0234e-02,  ...,  1.2696e-02,\n",
      "           1.8616e-03, -1.0987e-02]],\n",
      "\n",
      "        [[-1.2391e-02,  4.7304e-03,  7.0498e-03,  ...,  7.6296e-03,\n",
      "           4.0895e-03,  4.7914e-03],\n",
      "         [-6.4089e-03, -6.8972e-03, -1.1261e-02,  ...,  9.1556e-05,\n",
      "          -1.0376e-02, -1.9959e-02]],\n",
      "\n",
      "        ...,\n",
      "\n",
      "        [[ 2.3499e-02, -2.8504e-02, -1.1200e-02,  ...,  3.3570e-04,\n",
      "           3.2960e-03,  2.2858e-02],\n",
      "         [ 2.2645e-02,  1.3855e-02, -1.8281e-02,  ...,  2.3530e-02,\n",
      "          -1.4466e-02, -1.5259e-03]],\n",
      "\n",
      "        [[-8.3926e-03,  9.9185e-03, -1.8281e-02,  ..., -1.1780e-02,\n",
      "          -2.5880e-02, -1.8860e-02],\n",
      "         [-6.2258e-03, -4.4557e-03, -7.1413e-03,  ...,  3.3052e-02,\n",
      "           8.5757e-03, -4.9013e-02]],\n",
      "\n",
      "        [[ 5.6764e-03,  2.7009e-02, -3.8301e-02,  ...,  3.9399e-02,\n",
      "           4.6388e-03, -4.6388e-03],\n",
      "         [-3.4455e-02,  1.2085e-02,  2.0661e-02,  ...,  7.3244e-04,\n",
      "           7.5686e-03, -1.6175e-02]]])\n"
     ]
    }
   ],
   "source": [
    "from steves_utils.transforms import get_average_magnitude, get_average_power\n",
    "\n",
    "print(set([u for u,_ in val_original_source]))\n",
    "print(set([u for u,_ in val_original_target]))\n",
    "\n",
    "s_x, s_y, q_x, q_y, _ = next(iter(train_processed_source))\n",
    "print(s_x)\n",
    "\n",
    "# for ds in [\n",
    "#     train_processed_source,\n",
    "#     val_processed_source,\n",
    "#     test_processed_source,\n",
    "#     train_processed_target,\n",
    "#     val_processed_target,\n",
    "#     test_processed_target\n",
    "# ]:\n",
    "#     for s_x, s_y, q_x, q_y, _ in ds:\n",
    "#         for X in (s_x, q_x):\n",
    "#             for x in X:\n",
    "#                 assert np.isclose(get_average_magnitude(x.numpy()), 1.0)\n",
    "#                 assert np.isclose(get_average_power(x.numpy()), 1.0)\n",
    "                "
   ]
  },
  {
   "cell_type": "code",
   "execution_count": 21,
   "id": "bbdacba1",
   "metadata": {
    "execution": {
     "iopub.execute_input": "2022-03-17T04:26:52.821434Z",
     "iopub.status.busy": "2022-03-17T04:26:52.821174Z",
     "iopub.status.idle": "2022-03-17T04:26:52.880885Z",
     "shell.execute_reply": "2022-03-17T04:26:52.880437Z"
    },
    "papermill": {
     "duration": 0.081366,
     "end_time": "2022-03-17T04:26:52.880977",
     "exception": false,
     "start_time": "2022-03-17T04:26:52.799611",
     "status": "completed"
    },
    "tags": []
   },
   "outputs": [
    {
     "name": "stdout",
     "output_type": "stream",
     "text": [
      "(2, 256)\n"
     ]
    }
   ],
   "source": [
    "###################################\n",
    "# Build the model\n",
    "###################################\n",
    "model = Steves_Prototypical_Network(x_net, device=p.device, x_shape=(2,256))\n",
    "optimizer = Adam(params=model.parameters(), lr=p.lr)"
   ]
  },
  {
   "cell_type": "code",
   "execution_count": 22,
   "id": "22b39ac5",
   "metadata": {
    "execution": {
     "iopub.execute_input": "2022-03-17T04:26:52.923002Z",
     "iopub.status.busy": "2022-03-17T04:26:52.916821Z",
     "iopub.status.idle": "2022-03-17T04:42:13.252093Z",
     "shell.execute_reply": "2022-03-17T04:42:13.251620Z"
    },
    "papermill": {
     "duration": 920.353525,
     "end_time": "2022-03-17T04:42:13.252193",
     "exception": false,
     "start_time": "2022-03-17T04:26:52.898668",
     "status": "completed"
    },
    "tags": []
   },
   "outputs": [
    {
     "name": "stdout",
     "output_type": "stream",
     "text": [
      "epoch: 1, [batch: 1 / 2081], examples_per_second: 126.7765, train_label_loss: 1.7534, \n"
     ]
    },
    {
     "name": "stdout",
     "output_type": "stream",
     "text": [
      "epoch: 1, [batch: 209 / 2081], examples_per_second: 3191.9090, train_label_loss: 0.1747, \n"
     ]
    },
    {
     "name": "stdout",
     "output_type": "stream",
     "text": [
      "epoch: 1, [batch: 417 / 2081], examples_per_second: 3228.4809, train_label_loss: 0.6892, \n"
     ]
    },
    {
     "name": "stdout",
     "output_type": "stream",
     "text": [
      "epoch: 1, [batch: 625 / 2081], examples_per_second: 3219.9041, train_label_loss: 0.0127, \n"
     ]
    },
    {
     "name": "stdout",
     "output_type": "stream",
     "text": [
      "epoch: 1, [batch: 833 / 2081], examples_per_second: 3220.8095, train_label_loss: 0.6293, \n"
     ]
    },
    {
     "name": "stdout",
     "output_type": "stream",
     "text": [
      "epoch: 1, [batch: 1041 / 2081], examples_per_second: 3219.3818, train_label_loss: 0.0360, \n"
     ]
    },
    {
     "name": "stdout",
     "output_type": "stream",
     "text": [
      "epoch: 1, [batch: 1249 / 2081], examples_per_second: 3226.5783, train_label_loss: 0.4844, \n"
     ]
    },
    {
     "name": "stdout",
     "output_type": "stream",
     "text": [
      "epoch: 1, [batch: 1457 / 2081], examples_per_second: 3221.6377, train_label_loss: 0.4102, \n"
     ]
    },
    {
     "name": "stdout",
     "output_type": "stream",
     "text": [
      "epoch: 1, [batch: 1665 / 2081], examples_per_second: 3210.7692, train_label_loss: 0.0631, \n"
     ]
    },
    {
     "name": "stdout",
     "output_type": "stream",
     "text": [
      "epoch: 1, [batch: 1873 / 2081], examples_per_second: 3213.1267, train_label_loss: 0.5529, \n"
     ]
    },
    {
     "name": "stdout",
     "output_type": "stream",
     "text": [
      "=============================================================\n",
      "epoch: 1, source_val_acc_label: 0.9600, target_val_acc_label: 0.4842, source_val_label_loss: 0.2221, target_val_label_loss: 2.6016, \n",
      "=============================================================\n"
     ]
    },
    {
     "name": "stdout",
     "output_type": "stream",
     "text": [
      "New best\n"
     ]
    },
    {
     "name": "stdout",
     "output_type": "stream",
     "text": [
      "epoch: 2, [batch: 1 / 2079], examples_per_second: 10.5863, train_label_loss: 0.1291, \n"
     ]
    },
    {
     "name": "stdout",
     "output_type": "stream",
     "text": [
      "epoch: 2, [batch: 208 / 2079], examples_per_second: 3253.0269, train_label_loss: 0.3617, \n"
     ]
    },
    {
     "name": "stdout",
     "output_type": "stream",
     "text": [
      "epoch: 2, [batch: 416 / 2079], examples_per_second: 3237.9793, train_label_loss: 0.0211, \n"
     ]
    },
    {
     "name": "stdout",
     "output_type": "stream",
     "text": [
      "epoch: 2, [batch: 624 / 2079], examples_per_second: 3230.5770, train_label_loss: 0.1764, \n"
     ]
    },
    {
     "name": "stdout",
     "output_type": "stream",
     "text": [
      "epoch: 2, [batch: 832 / 2079], examples_per_second: 3247.0261, train_label_loss: 0.0210, \n"
     ]
    },
    {
     "name": "stdout",
     "output_type": "stream",
     "text": [
      "epoch: 2, [batch: 1040 / 2079], examples_per_second: 3233.2551, train_label_loss: 0.2028, \n"
     ]
    },
    {
     "name": "stdout",
     "output_type": "stream",
     "text": [
      "epoch: 2, [batch: 1247 / 2079], examples_per_second: 3235.2775, train_label_loss: 0.0025, \n"
     ]
    },
    {
     "name": "stdout",
     "output_type": "stream",
     "text": [
      "epoch: 2, [batch: 1455 / 2079], examples_per_second: 3255.7379, train_label_loss: 0.1074, \n"
     ]
    },
    {
     "name": "stdout",
     "output_type": "stream",
     "text": [
      "epoch: 2, [batch: 1663 / 2079], examples_per_second: 3250.3158, train_label_loss: 0.0375, \n"
     ]
    },
    {
     "name": "stdout",
     "output_type": "stream",
     "text": [
      "epoch: 2, [batch: 1871 / 2079], examples_per_second: 3252.4045, train_label_loss: 0.0281, \n"
     ]
    },
    {
     "name": "stdout",
     "output_type": "stream",
     "text": [
      "=============================================================\n",
      "epoch: 2, source_val_acc_label: 0.9713, target_val_acc_label: 0.4233, source_val_label_loss: 0.1444, target_val_label_loss: 2.4047, \n",
      "=============================================================\n"
     ]
    },
    {
     "name": "stdout",
     "output_type": "stream",
     "text": [
      "New best\n"
     ]
    },
    {
     "name": "stdout",
     "output_type": "stream",
     "text": [
      "epoch: 3, [batch: 1 / 2082], examples_per_second: 10.5284, train_label_loss: 0.4284, \n"
     ]
    },
    {
     "name": "stdout",
     "output_type": "stream",
     "text": [
      "epoch: 3, [batch: 209 / 2082], examples_per_second: 3229.2230, train_label_loss: 0.6311, \n"
     ]
    },
    {
     "name": "stdout",
     "output_type": "stream",
     "text": [
      "epoch: 3, [batch: 417 / 2082], examples_per_second: 3244.2498, train_label_loss: 0.3149, \n"
     ]
    },
    {
     "name": "stdout",
     "output_type": "stream",
     "text": [
      "epoch: 3, [batch: 625 / 2082], examples_per_second: 3233.1928, train_label_loss: 0.3699, \n"
     ]
    },
    {
     "name": "stdout",
     "output_type": "stream",
     "text": [
      "epoch: 3, [batch: 833 / 2082], examples_per_second: 3248.9243, train_label_loss: 0.4118, \n"
     ]
    },
    {
     "name": "stdout",
     "output_type": "stream",
     "text": [
      "epoch: 3, [batch: 1041 / 2082], examples_per_second: 3219.2367, train_label_loss: 0.0336, \n"
     ]
    },
    {
     "name": "stdout",
     "output_type": "stream",
     "text": [
      "epoch: 3, [batch: 1249 / 2082], examples_per_second: 3237.2085, train_label_loss: 0.0291, \n"
     ]
    },
    {
     "name": "stdout",
     "output_type": "stream",
     "text": [
      "epoch: 3, [batch: 1457 / 2082], examples_per_second: 3192.6279, train_label_loss: 0.0367, \n"
     ]
    },
    {
     "name": "stdout",
     "output_type": "stream",
     "text": [
      "epoch: 3, [batch: 1665 / 2082], examples_per_second: 3187.7374, train_label_loss: 0.0211, \n"
     ]
    },
    {
     "name": "stdout",
     "output_type": "stream",
     "text": [
      "epoch: 3, [batch: 1873 / 2082], examples_per_second: 3216.3572, train_label_loss: 0.0574, \n"
     ]
    },
    {
     "name": "stdout",
     "output_type": "stream",
     "text": [
      "=============================================================\n",
      "epoch: 3, source_val_acc_label: 0.9755, target_val_acc_label: 0.4175, source_val_label_loss: 0.1145, target_val_label_loss: 2.3727, \n",
      "=============================================================\n"
     ]
    },
    {
     "name": "stdout",
     "output_type": "stream",
     "text": [
      "New best\n"
     ]
    },
    {
     "name": "stdout",
     "output_type": "stream",
     "text": [
      "epoch: 4, [batch: 1 / 2080], examples_per_second: 10.5373, train_label_loss: 0.3079, \n"
     ]
    },
    {
     "name": "stdout",
     "output_type": "stream",
     "text": [
      "epoch: 4, [batch: 208 / 2080], examples_per_second: 3236.3494, train_label_loss: 0.2625, \n"
     ]
    },
    {
     "name": "stdout",
     "output_type": "stream",
     "text": [
      "epoch: 4, [batch: 416 / 2080], examples_per_second: 3248.9418, train_label_loss: 0.0169, \n"
     ]
    },
    {
     "name": "stdout",
     "output_type": "stream",
     "text": [
      "epoch: 4, [batch: 624 / 2080], examples_per_second: 3254.0199, train_label_loss: 0.0046, \n"
     ]
    },
    {
     "name": "stdout",
     "output_type": "stream",
     "text": [
      "epoch: 4, [batch: 832 / 2080], examples_per_second: 3239.7335, train_label_loss: 0.1207, \n"
     ]
    },
    {
     "name": "stdout",
     "output_type": "stream",
     "text": [
      "epoch: 4, [batch: 1040 / 2080], examples_per_second: 3250.0135, train_label_loss: 0.1374, \n"
     ]
    },
    {
     "name": "stdout",
     "output_type": "stream",
     "text": [
      "epoch: 4, [batch: 1248 / 2080], examples_per_second: 3243.3849, train_label_loss: 0.0098, \n"
     ]
    },
    {
     "name": "stdout",
     "output_type": "stream",
     "text": [
      "epoch: 4, [batch: 1456 / 2080], examples_per_second: 3228.4870, train_label_loss: 0.1467, \n"
     ]
    },
    {
     "name": "stdout",
     "output_type": "stream",
     "text": [
      "epoch: 4, [batch: 1664 / 2080], examples_per_second: 3237.5392, train_label_loss: 0.0121, \n"
     ]
    },
    {
     "name": "stdout",
     "output_type": "stream",
     "text": [
      "epoch: 4, [batch: 1872 / 2080], examples_per_second: 3249.5295, train_label_loss: 0.2166, \n"
     ]
    },
    {
     "name": "stdout",
     "output_type": "stream",
     "text": [
      "=============================================================\n",
      "epoch: 4, source_val_acc_label: 0.9760, target_val_acc_label: 0.4765, source_val_label_loss: 0.1251, target_val_label_loss: 2.2924, \n",
      "=============================================================\n"
     ]
    },
    {
     "name": "stdout",
     "output_type": "stream",
     "text": [
      "New best\n"
     ]
    },
    {
     "name": "stdout",
     "output_type": "stream",
     "text": [
      "epoch: 5, [batch: 1 / 2079], examples_per_second: 10.5568, train_label_loss: 0.0194, \n"
     ]
    },
    {
     "name": "stdout",
     "output_type": "stream",
     "text": [
      "epoch: 5, [batch: 208 / 2079], examples_per_second: 3223.6690, train_label_loss: 0.1350, \n"
     ]
    },
    {
     "name": "stdout",
     "output_type": "stream",
     "text": [
      "epoch: 5, [batch: 416 / 2079], examples_per_second: 3234.2621, train_label_loss: 0.1538, \n"
     ]
    },
    {
     "name": "stdout",
     "output_type": "stream",
     "text": [
      "epoch: 5, [batch: 624 / 2079], examples_per_second: 3235.6642, train_label_loss: 0.0165, \n"
     ]
    },
    {
     "name": "stdout",
     "output_type": "stream",
     "text": [
      "epoch: 5, [batch: 832 / 2079], examples_per_second: 3253.7246, train_label_loss: 0.0016, \n"
     ]
    },
    {
     "name": "stdout",
     "output_type": "stream",
     "text": [
      "epoch: 5, [batch: 1040 / 2079], examples_per_second: 3234.2718, train_label_loss: 0.3597, \n"
     ]
    },
    {
     "name": "stdout",
     "output_type": "stream",
     "text": [
      "epoch: 5, [batch: 1247 / 2079], examples_per_second: 3236.0572, train_label_loss: 0.0573, \n"
     ]
    },
    {
     "name": "stdout",
     "output_type": "stream",
     "text": [
      "epoch: 5, [batch: 1455 / 2079], examples_per_second: 3218.5204, train_label_loss: 0.2884, \n"
     ]
    },
    {
     "name": "stdout",
     "output_type": "stream",
     "text": [
      "epoch: 5, [batch: 1663 / 2079], examples_per_second: 3244.8539, train_label_loss: 0.0354, \n"
     ]
    },
    {
     "name": "stdout",
     "output_type": "stream",
     "text": [
      "epoch: 5, [batch: 1871 / 2079], examples_per_second: 3263.7520, train_label_loss: 0.2912, \n"
     ]
    },
    {
     "name": "stdout",
     "output_type": "stream",
     "text": [
      "=============================================================\n",
      "epoch: 5, source_val_acc_label: 0.9777, target_val_acc_label: 0.4093, source_val_label_loss: 0.1127, target_val_label_loss: 2.3380, \n",
      "=============================================================\n"
     ]
    },
    {
     "name": "stdout",
     "output_type": "stream",
     "text": [
      "epoch: 6, [batch: 1 / 2081], examples_per_second: 10.6057, train_label_loss: 0.3770, \n"
     ]
    },
    {
     "name": "stdout",
     "output_type": "stream",
     "text": [
      "epoch: 6, [batch: 209 / 2081], examples_per_second: 3230.5998, train_label_loss: 0.0025, \n"
     ]
    },
    {
     "name": "stdout",
     "output_type": "stream",
     "text": [
      "epoch: 6, [batch: 417 / 2081], examples_per_second: 3245.8011, train_label_loss: 0.0294, \n"
     ]
    },
    {
     "name": "stdout",
     "output_type": "stream",
     "text": [
      "epoch: 6, [batch: 625 / 2081], examples_per_second: 3233.8187, train_label_loss: 0.0086, \n"
     ]
    },
    {
     "name": "stdout",
     "output_type": "stream",
     "text": [
      "epoch: 6, [batch: 833 / 2081], examples_per_second: 3251.0666, train_label_loss: 0.0167, \n"
     ]
    },
    {
     "name": "stdout",
     "output_type": "stream",
     "text": [
      "epoch: 6, [batch: 1041 / 2081], examples_per_second: 3248.5908, train_label_loss: 0.2558, \n"
     ]
    },
    {
     "name": "stdout",
     "output_type": "stream",
     "text": [
      "epoch: 6, [batch: 1249 / 2081], examples_per_second: 3259.8162, train_label_loss: 0.0198, \n"
     ]
    },
    {
     "name": "stdout",
     "output_type": "stream",
     "text": [
      "epoch: 6, [batch: 1457 / 2081], examples_per_second: 3246.0573, train_label_loss: 0.0008, \n"
     ]
    },
    {
     "name": "stdout",
     "output_type": "stream",
     "text": [
      "epoch: 6, [batch: 1665 / 2081], examples_per_second: 3208.6461, train_label_loss: 0.0290, \n"
     ]
    },
    {
     "name": "stdout",
     "output_type": "stream",
     "text": [
      "epoch: 6, [batch: 1873 / 2081], examples_per_second: 3228.0486, train_label_loss: 0.0211, \n"
     ]
    },
    {
     "name": "stdout",
     "output_type": "stream",
     "text": [
      "=============================================================\n",
      "epoch: 6, source_val_acc_label: 0.9799, target_val_acc_label: 0.3325, source_val_label_loss: 0.1029, target_val_label_loss: 2.3117, \n",
      "=============================================================\n"
     ]
    },
    {
     "name": "stdout",
     "output_type": "stream",
     "text": [
      "epoch: 7, [batch: 1 / 2075], examples_per_second: 10.6172, train_label_loss: 0.0020, \n"
     ]
    },
    {
     "name": "stdout",
     "output_type": "stream",
     "text": [
      "epoch: 7, [batch: 208 / 2075], examples_per_second: 3246.4424, train_label_loss: 0.0003, \n"
     ]
    },
    {
     "name": "stdout",
     "output_type": "stream",
     "text": [
      "epoch: 7, [batch: 415 / 2075], examples_per_second: 3236.3383, train_label_loss: 0.0009, \n"
     ]
    },
    {
     "name": "stdout",
     "output_type": "stream",
     "text": [
      "epoch: 7, [batch: 623 / 2075], examples_per_second: 3229.1868, train_label_loss: 0.1258, \n"
     ]
    },
    {
     "name": "stdout",
     "output_type": "stream",
     "text": [
      "epoch: 7, [batch: 830 / 2075], examples_per_second: 3242.1542, train_label_loss: 0.0402, \n"
     ]
    },
    {
     "name": "stdout",
     "output_type": "stream",
     "text": [
      "epoch: 7, [batch: 1038 / 2075], examples_per_second: 3236.4309, train_label_loss: 0.0103, \n"
     ]
    },
    {
     "name": "stdout",
     "output_type": "stream",
     "text": [
      "epoch: 7, [batch: 1245 / 2075], examples_per_second: 3228.0096, train_label_loss: 0.0008, \n"
     ]
    },
    {
     "name": "stdout",
     "output_type": "stream",
     "text": [
      "epoch: 7, [batch: 1452 / 2075], examples_per_second: 3210.5283, train_label_loss: 0.1951, \n"
     ]
    },
    {
     "name": "stdout",
     "output_type": "stream",
     "text": [
      "epoch: 7, [batch: 1660 / 2075], examples_per_second: 3236.9651, train_label_loss: 0.1678, \n"
     ]
    },
    {
     "name": "stdout",
     "output_type": "stream",
     "text": [
      "epoch: 7, [batch: 1867 / 2075], examples_per_second: 3237.9739, train_label_loss: 0.0393, \n"
     ]
    },
    {
     "name": "stdout",
     "output_type": "stream",
     "text": [
      "=============================================================\n",
      "epoch: 7, source_val_acc_label: 0.9799, target_val_acc_label: 0.3558, source_val_label_loss: 0.1045, target_val_label_loss: 2.1974, \n",
      "=============================================================\n"
     ]
    },
    {
     "name": "stdout",
     "output_type": "stream",
     "text": [
      "New best\n"
     ]
    },
    {
     "name": "stdout",
     "output_type": "stream",
     "text": [
      "epoch: 8, [batch: 1 / 2082], examples_per_second: 10.5263, train_label_loss: 0.0619, \n"
     ]
    },
    {
     "name": "stdout",
     "output_type": "stream",
     "text": [
      "epoch: 8, [batch: 209 / 2082], examples_per_second: 3215.9633, train_label_loss: 0.0137, \n"
     ]
    },
    {
     "name": "stdout",
     "output_type": "stream",
     "text": [
      "epoch: 8, [batch: 417 / 2082], examples_per_second: 3263.6481, train_label_loss: 0.0775, \n"
     ]
    },
    {
     "name": "stdout",
     "output_type": "stream",
     "text": [
      "epoch: 8, [batch: 625 / 2082], examples_per_second: 3243.4027, train_label_loss: 0.2976, \n"
     ]
    },
    {
     "name": "stdout",
     "output_type": "stream",
     "text": [
      "epoch: 8, [batch: 833 / 2082], examples_per_second: 3251.9082, train_label_loss: 0.0004, \n"
     ]
    },
    {
     "name": "stdout",
     "output_type": "stream",
     "text": [
      "epoch: 8, [batch: 1041 / 2082], examples_per_second: 3257.1496, train_label_loss: 0.0007, \n"
     ]
    },
    {
     "name": "stdout",
     "output_type": "stream",
     "text": [
      "epoch: 8, [batch: 1249 / 2082], examples_per_second: 3265.4702, train_label_loss: 0.0155, \n"
     ]
    },
    {
     "name": "stdout",
     "output_type": "stream",
     "text": [
      "epoch: 8, [batch: 1457 / 2082], examples_per_second: 3244.6591, train_label_loss: 0.0061, \n"
     ]
    },
    {
     "name": "stdout",
     "output_type": "stream",
     "text": [
      "epoch: 8, [batch: 1665 / 2082], examples_per_second: 3190.4391, train_label_loss: 0.0532, \n"
     ]
    },
    {
     "name": "stdout",
     "output_type": "stream",
     "text": [
      "epoch: 8, [batch: 1873 / 2082], examples_per_second: 3241.0129, train_label_loss: 0.1281, \n"
     ]
    },
    {
     "name": "stdout",
     "output_type": "stream",
     "text": [
      "=============================================================\n",
      "epoch: 8, source_val_acc_label: 0.9786, target_val_acc_label: 0.3212, source_val_label_loss: 0.1096, target_val_label_loss: 2.2390, \n",
      "=============================================================\n"
     ]
    },
    {
     "name": "stdout",
     "output_type": "stream",
     "text": [
      "epoch: 9, [batch: 1 / 2079], examples_per_second: 10.5596, train_label_loss: 0.0034, \n"
     ]
    },
    {
     "name": "stdout",
     "output_type": "stream",
     "text": [
      "epoch: 9, [batch: 208 / 2079], examples_per_second: 3219.3936, train_label_loss: 0.0018, \n"
     ]
    },
    {
     "name": "stdout",
     "output_type": "stream",
     "text": [
      "epoch: 9, [batch: 416 / 2079], examples_per_second: 3241.7958, train_label_loss: 0.0029, \n"
     ]
    },
    {
     "name": "stdout",
     "output_type": "stream",
     "text": [
      "epoch: 9, [batch: 624 / 2079], examples_per_second: 3235.0776, train_label_loss: 0.0166, \n"
     ]
    },
    {
     "name": "stdout",
     "output_type": "stream",
     "text": [
      "epoch: 9, [batch: 832 / 2079], examples_per_second: 3240.9027, train_label_loss: 0.0619, \n"
     ]
    },
    {
     "name": "stdout",
     "output_type": "stream",
     "text": [
      "epoch: 9, [batch: 1040 / 2079], examples_per_second: 3227.1743, train_label_loss: 0.0151, \n"
     ]
    },
    {
     "name": "stdout",
     "output_type": "stream",
     "text": [
      "epoch: 9, [batch: 1247 / 2079], examples_per_second: 3250.9422, train_label_loss: 0.0020, \n"
     ]
    },
    {
     "name": "stdout",
     "output_type": "stream",
     "text": [
      "epoch: 9, [batch: 1455 / 2079], examples_per_second: 3247.3838, train_label_loss: 0.0920, \n"
     ]
    },
    {
     "name": "stdout",
     "output_type": "stream",
     "text": [
      "epoch: 9, [batch: 1663 / 2079], examples_per_second: 3214.4457, train_label_loss: 0.1676, \n"
     ]
    },
    {
     "name": "stdout",
     "output_type": "stream",
     "text": [
      "epoch: 9, [batch: 1871 / 2079], examples_per_second: 3256.7347, train_label_loss: 0.0575, \n"
     ]
    },
    {
     "name": "stdout",
     "output_type": "stream",
     "text": [
      "=============================================================\n",
      "epoch: 9, source_val_acc_label: 0.9791, target_val_acc_label: 0.2998, source_val_label_loss: 0.1105, target_val_label_loss: 2.2627, \n",
      "=============================================================\n"
     ]
    },
    {
     "name": "stdout",
     "output_type": "stream",
     "text": [
      "epoch: 10, [batch: 1 / 2078], examples_per_second: 10.5820, train_label_loss: 0.0250, \n"
     ]
    },
    {
     "name": "stdout",
     "output_type": "stream",
     "text": [
      "epoch: 10, [batch: 208 / 2078], examples_per_second: 3228.5630, train_label_loss: 0.0021, \n"
     ]
    },
    {
     "name": "stdout",
     "output_type": "stream",
     "text": [
      "epoch: 10, [batch: 416 / 2078], examples_per_second: 3218.0553, train_label_loss: 0.0460, \n"
     ]
    },
    {
     "name": "stdout",
     "output_type": "stream",
     "text": [
      "epoch: 10, [batch: 624 / 2078], examples_per_second: 3224.6229, train_label_loss: 0.0279, \n"
     ]
    },
    {
     "name": "stdout",
     "output_type": "stream",
     "text": [
      "epoch: 10, [batch: 831 / 2078], examples_per_second: 3238.9016, train_label_loss: 0.1393, \n"
     ]
    },
    {
     "name": "stdout",
     "output_type": "stream",
     "text": [
      "epoch: 10, [batch: 1039 / 2078], examples_per_second: 3242.6548, train_label_loss: 0.0001, \n"
     ]
    },
    {
     "name": "stdout",
     "output_type": "stream",
     "text": [
      "epoch: 10, [batch: 1247 / 2078], examples_per_second: 3249.7233, train_label_loss: 0.2338, \n"
     ]
    },
    {
     "name": "stdout",
     "output_type": "stream",
     "text": [
      "epoch: 10, [batch: 1454 / 2078], examples_per_second: 3246.1547, train_label_loss: 0.1972, \n"
     ]
    },
    {
     "name": "stdout",
     "output_type": "stream",
     "text": [
      "epoch: 10, [batch: 1662 / 2078], examples_per_second: 3196.7389, train_label_loss: 0.1018, \n"
     ]
    },
    {
     "name": "stdout",
     "output_type": "stream",
     "text": [
      "epoch: 10, [batch: 1870 / 2078], examples_per_second: 3233.6979, train_label_loss: 0.2647, \n"
     ]
    },
    {
     "name": "stdout",
     "output_type": "stream",
     "text": [
      "=============================================================\n",
      "epoch: 10, source_val_acc_label: 0.9786, target_val_acc_label: 0.2934, source_val_label_loss: 0.1069, target_val_label_loss: 2.1955, \n",
      "=============================================================\n"
     ]
    },
    {
     "name": "stdout",
     "output_type": "stream",
     "text": [
      "New best\n"
     ]
    },
    {
     "name": "stdout",
     "output_type": "stream",
     "text": [
      "epoch: 11, [batch: 1 / 2075], examples_per_second: 10.5681, train_label_loss: 0.0047, \n"
     ]
    },
    {
     "name": "stdout",
     "output_type": "stream",
     "text": [
      "epoch: 11, [batch: 208 / 2075], examples_per_second: 3227.6667, train_label_loss: 0.0024, \n"
     ]
    },
    {
     "name": "stdout",
     "output_type": "stream",
     "text": [
      "epoch: 11, [batch: 415 / 2075], examples_per_second: 3233.1923, train_label_loss: 0.0933, \n"
     ]
    },
    {
     "name": "stdout",
     "output_type": "stream",
     "text": [
      "epoch: 11, [batch: 623 / 2075], examples_per_second: 3247.6483, train_label_loss: 0.0118, \n"
     ]
    },
    {
     "name": "stdout",
     "output_type": "stream",
     "text": [
      "epoch: 11, [batch: 830 / 2075], examples_per_second: 3240.6293, train_label_loss: 0.3082, \n"
     ]
    },
    {
     "name": "stdout",
     "output_type": "stream",
     "text": [
      "epoch: 11, [batch: 1038 / 2075], examples_per_second: 3220.2678, train_label_loss: 0.0070, \n"
     ]
    },
    {
     "name": "stdout",
     "output_type": "stream",
     "text": [
      "epoch: 11, [batch: 1245 / 2075], examples_per_second: 3233.1148, train_label_loss: 0.1242, \n"
     ]
    },
    {
     "name": "stdout",
     "output_type": "stream",
     "text": [
      "epoch: 11, [batch: 1452 / 2075], examples_per_second: 3238.6705, train_label_loss: 0.0276, \n"
     ]
    },
    {
     "name": "stdout",
     "output_type": "stream",
     "text": [
      "epoch: 11, [batch: 1660 / 2075], examples_per_second: 3210.4454, train_label_loss: 0.0265, \n"
     ]
    },
    {
     "name": "stdout",
     "output_type": "stream",
     "text": [
      "epoch: 11, [batch: 1867 / 2075], examples_per_second: 3240.3171, train_label_loss: 0.0081, \n"
     ]
    },
    {
     "name": "stdout",
     "output_type": "stream",
     "text": [
      "=============================================================\n",
      "epoch: 11, source_val_acc_label: 0.9785, target_val_acc_label: 0.3229, source_val_label_loss: 0.0973, target_val_label_loss: 2.0876, \n",
      "=============================================================\n"
     ]
    },
    {
     "name": "stdout",
     "output_type": "stream",
     "text": [
      "New best\n"
     ]
    },
    {
     "name": "stdout",
     "output_type": "stream",
     "text": [
      "epoch: 12, [batch: 1 / 2081], examples_per_second: 10.5491, train_label_loss: 0.0013, \n"
     ]
    },
    {
     "name": "stdout",
     "output_type": "stream",
     "text": [
      "epoch: 12, [batch: 209 / 2081], examples_per_second: 3226.2001, train_label_loss: 0.0004, \n"
     ]
    },
    {
     "name": "stdout",
     "output_type": "stream",
     "text": [
      "epoch: 12, [batch: 417 / 2081], examples_per_second: 3237.3117, train_label_loss: 0.0015, \n"
     ]
    },
    {
     "name": "stdout",
     "output_type": "stream",
     "text": [
      "epoch: 12, [batch: 625 / 2081], examples_per_second: 3239.0450, train_label_loss: 0.0019, \n"
     ]
    },
    {
     "name": "stdout",
     "output_type": "stream",
     "text": [
      "epoch: 12, [batch: 833 / 2081], examples_per_second: 3258.0832, train_label_loss: 0.0005, \n"
     ]
    },
    {
     "name": "stdout",
     "output_type": "stream",
     "text": [
      "epoch: 12, [batch: 1041 / 2081], examples_per_second: 3228.7959, train_label_loss: 0.0091, \n"
     ]
    },
    {
     "name": "stdout",
     "output_type": "stream",
     "text": [
      "epoch: 12, [batch: 1249 / 2081], examples_per_second: 3244.3783, train_label_loss: 0.0076, \n"
     ]
    },
    {
     "name": "stdout",
     "output_type": "stream",
     "text": [
      "epoch: 12, [batch: 1457 / 2081], examples_per_second: 3254.2877, train_label_loss: 0.0658, \n"
     ]
    },
    {
     "name": "stdout",
     "output_type": "stream",
     "text": [
      "epoch: 12, [batch: 1665 / 2081], examples_per_second: 3204.2527, train_label_loss: 0.0031, \n"
     ]
    },
    {
     "name": "stdout",
     "output_type": "stream",
     "text": [
      "epoch: 12, [batch: 1873 / 2081], examples_per_second: 3219.9892, train_label_loss: 0.1008, \n"
     ]
    },
    {
     "name": "stdout",
     "output_type": "stream",
     "text": [
      "=============================================================\n",
      "epoch: 12, source_val_acc_label: 0.9795, target_val_acc_label: 0.2875, source_val_label_loss: 0.1056, target_val_label_loss: 2.1483, \n",
      "=============================================================\n"
     ]
    },
    {
     "name": "stdout",
     "output_type": "stream",
     "text": [
      "epoch: 13, [batch: 1 / 2081], examples_per_second: 10.6408, train_label_loss: 0.0027, \n"
     ]
    },
    {
     "name": "stdout",
     "output_type": "stream",
     "text": [
      "epoch: 13, [batch: 209 / 2081], examples_per_second: 3220.2717, train_label_loss: 0.1433, \n"
     ]
    },
    {
     "name": "stdout",
     "output_type": "stream",
     "text": [
      "epoch: 13, [batch: 417 / 2081], examples_per_second: 3249.3478, train_label_loss: 0.6676, \n"
     ]
    },
    {
     "name": "stdout",
     "output_type": "stream",
     "text": [
      "epoch: 13, [batch: 625 / 2081], examples_per_second: 3242.4847, train_label_loss: 0.0192, \n"
     ]
    },
    {
     "name": "stdout",
     "output_type": "stream",
     "text": [
      "epoch: 13, [batch: 833 / 2081], examples_per_second: 3240.3318, train_label_loss: 0.0013, \n"
     ]
    },
    {
     "name": "stdout",
     "output_type": "stream",
     "text": [
      "epoch: 13, [batch: 1041 / 2081], examples_per_second: 3246.8485, train_label_loss: 0.0000, \n"
     ]
    },
    {
     "name": "stdout",
     "output_type": "stream",
     "text": [
      "epoch: 13, [batch: 1249 / 2081], examples_per_second: 3240.6094, train_label_loss: 0.1511, \n"
     ]
    },
    {
     "name": "stdout",
     "output_type": "stream",
     "text": [
      "epoch: 13, [batch: 1457 / 2081], examples_per_second: 3248.1554, train_label_loss: 0.0061, \n"
     ]
    },
    {
     "name": "stdout",
     "output_type": "stream",
     "text": [
      "epoch: 13, [batch: 1665 / 2081], examples_per_second: 3212.1816, train_label_loss: 0.0173, \n"
     ]
    },
    {
     "name": "stdout",
     "output_type": "stream",
     "text": [
      "epoch: 13, [batch: 1873 / 2081], examples_per_second: 3239.0507, train_label_loss: 0.1934, \n"
     ]
    },
    {
     "name": "stdout",
     "output_type": "stream",
     "text": [
      "=============================================================\n",
      "epoch: 13, source_val_acc_label: 0.9787, target_val_acc_label: 0.2517, source_val_label_loss: 0.1104, target_val_label_loss: 2.2997, \n",
      "=============================================================\n"
     ]
    },
    {
     "name": "stdout",
     "output_type": "stream",
     "text": [
      "epoch: 14, [batch: 1 / 2076], examples_per_second: 10.6872, train_label_loss: 0.0757, \n"
     ]
    },
    {
     "name": "stdout",
     "output_type": "stream",
     "text": [
      "epoch: 14, [batch: 208 / 2076], examples_per_second: 3240.3886, train_label_loss: 0.0033, \n"
     ]
    },
    {
     "name": "stdout",
     "output_type": "stream",
     "text": [
      "epoch: 14, [batch: 416 / 2076], examples_per_second: 3227.9774, train_label_loss: 0.0057, \n"
     ]
    },
    {
     "name": "stdout",
     "output_type": "stream",
     "text": [
      "epoch: 14, [batch: 623 / 2076], examples_per_second: 3246.8936, train_label_loss: 0.0339, \n"
     ]
    },
    {
     "name": "stdout",
     "output_type": "stream",
     "text": [
      "epoch: 14, [batch: 831 / 2076], examples_per_second: 3258.7238, train_label_loss: 0.0040, \n"
     ]
    },
    {
     "name": "stdout",
     "output_type": "stream",
     "text": [
      "epoch: 14, [batch: 1038 / 2076], examples_per_second: 3225.0236, train_label_loss: 0.0046, \n"
     ]
    },
    {
     "name": "stdout",
     "output_type": "stream",
     "text": [
      "epoch: 14, [batch: 1246 / 2076], examples_per_second: 3231.8167, train_label_loss: 0.0005, \n"
     ]
    },
    {
     "name": "stdout",
     "output_type": "stream",
     "text": [
      "epoch: 14, [batch: 1453 / 2076], examples_per_second: 3242.8099, train_label_loss: 0.0027, \n"
     ]
    },
    {
     "name": "stdout",
     "output_type": "stream",
     "text": [
      "epoch: 14, [batch: 1661 / 2076], examples_per_second: 3217.6739, train_label_loss: 0.0014, \n"
     ]
    },
    {
     "name": "stdout",
     "output_type": "stream",
     "text": [
      "epoch: 14, [batch: 1868 / 2076], examples_per_second: 3238.9478, train_label_loss: 0.0188, \n"
     ]
    },
    {
     "name": "stdout",
     "output_type": "stream",
     "text": [
      "=============================================================\n",
      "epoch: 14, source_val_acc_label: 0.9793, target_val_acc_label: 0.2455, source_val_label_loss: 0.1145, target_val_label_loss: 2.3589, \n",
      "=============================================================\n"
     ]
    },
    {
     "name": "stdout",
     "output_type": "stream",
     "text": [
      "epoch: 15, [batch: 1 / 2079], examples_per_second: 10.6377, train_label_loss: 0.0011, \n"
     ]
    },
    {
     "name": "stdout",
     "output_type": "stream",
     "text": [
      "epoch: 15, [batch: 208 / 2079], examples_per_second: 3246.9578, train_label_loss: 0.1038, \n"
     ]
    },
    {
     "name": "stdout",
     "output_type": "stream",
     "text": [
      "epoch: 15, [batch: 416 / 2079], examples_per_second: 3253.6457, train_label_loss: 0.0001, \n"
     ]
    },
    {
     "name": "stdout",
     "output_type": "stream",
     "text": [
      "epoch: 15, [batch: 624 / 2079], examples_per_second: 3257.0048, train_label_loss: 0.0015, \n"
     ]
    },
    {
     "name": "stdout",
     "output_type": "stream",
     "text": [
      "epoch: 15, [batch: 832 / 2079], examples_per_second: 3255.5521, train_label_loss: 0.0009, \n"
     ]
    },
    {
     "name": "stdout",
     "output_type": "stream",
     "text": [
      "epoch: 15, [batch: 1040 / 2079], examples_per_second: 3264.8175, train_label_loss: 0.1027, \n"
     ]
    },
    {
     "name": "stdout",
     "output_type": "stream",
     "text": [
      "epoch: 15, [batch: 1247 / 2079], examples_per_second: 3262.4993, train_label_loss: 0.0038, \n"
     ]
    },
    {
     "name": "stdout",
     "output_type": "stream",
     "text": [
      "epoch: 15, [batch: 1455 / 2079], examples_per_second: 3212.0259, train_label_loss: 0.0387, \n"
     ]
    },
    {
     "name": "stdout",
     "output_type": "stream",
     "text": [
      "epoch: 15, [batch: 1663 / 2079], examples_per_second: 3245.6218, train_label_loss: 0.0025, \n"
     ]
    },
    {
     "name": "stdout",
     "output_type": "stream",
     "text": [
      "epoch: 15, [batch: 1871 / 2079], examples_per_second: 3234.6068, train_label_loss: 0.0345, \n"
     ]
    },
    {
     "name": "stdout",
     "output_type": "stream",
     "text": [
      "=============================================================\n",
      "epoch: 15, source_val_acc_label: 0.9782, target_val_acc_label: 0.2569, source_val_label_loss: 0.1230, target_val_label_loss: 2.2488, \n",
      "=============================================================\n"
     ]
    },
    {
     "name": "stdout",
     "output_type": "stream",
     "text": [
      "Patience (3) exhausted\n"
     ]
    }
   ],
   "source": [
    "###################################\n",
    "# train\n",
    "###################################\n",
    "jig = PTN_Train_Eval_Test_Jig(model, p.BEST_MODEL_PATH, p.device)\n",
    "\n",
    "jig.train(\n",
    "    train_iterable=datasets.source.processed.train,\n",
    "    source_val_iterable=datasets.source.processed.val,\n",
    "    target_val_iterable=datasets.target.processed.val,\n",
    "    num_epochs=p.n_epoch,\n",
    "    num_logs_per_epoch=p.NUM_LOGS_PER_EPOCH,\n",
    "    patience=p.patience,\n",
    "    optimizer=optimizer,\n",
    "    criteria_for_best=p.criteria_for_best,\n",
    ")"
   ]
  },
  {
   "cell_type": "code",
   "execution_count": 23,
   "id": "31e8fabf",
   "metadata": {
    "execution": {
     "iopub.execute_input": "2022-03-17T04:42:13.346757Z",
     "iopub.status.busy": "2022-03-17T04:42:13.345485Z",
     "iopub.status.idle": "2022-03-17T04:42:13.364701Z",
     "shell.execute_reply": "2022-03-17T04:42:13.364175Z"
    },
    "papermill": {
     "duration": 0.06475,
     "end_time": "2022-03-17T04:42:13.364811",
     "exception": false,
     "start_time": "2022-03-17T04:42:13.300061",
     "status": "completed"
    },
    "tags": []
   },
   "outputs": [],
   "source": [
    "total_experiment_time_secs = time.time() - start_time_secs"
   ]
  },
  {
   "cell_type": "code",
   "execution_count": 24,
   "id": "87b9595b",
   "metadata": {
    "execution": {
     "iopub.execute_input": "2022-03-17T04:42:13.462161Z",
     "iopub.status.busy": "2022-03-17T04:42:13.461850Z",
     "iopub.status.idle": "2022-03-17T04:43:17.664947Z",
     "shell.execute_reply": "2022-03-17T04:43:17.665375Z"
    },
    "papermill": {
     "duration": 64.250167,
     "end_time": "2022-03-17T04:43:17.665515",
     "exception": false,
     "start_time": "2022-03-17T04:42:13.415348",
     "status": "completed"
    },
    "tags": []
   },
   "outputs": [],
   "source": [
    "###################################\n",
    "# Evaluate the model\n",
    "###################################\n",
    "source_test_label_accuracy, source_test_label_loss = jig.test(datasets.source.processed.test)\n",
    "target_test_label_accuracy, target_test_label_loss = jig.test(datasets.target.processed.test)\n",
    "\n",
    "source_val_label_accuracy, source_val_label_loss = jig.test(datasets.source.processed.val)\n",
    "target_val_label_accuracy, target_val_label_loss = jig.test(datasets.target.processed.val)\n",
    "\n",
    "history = jig.get_history()\n",
    "\n",
    "total_epochs_trained = len(history[\"epoch_indices\"])\n",
    "\n",
    "val_dl = Iterable_Aggregator((datasets.source.original.val,datasets.target.original.val))\n",
    "\n",
    "confusion = ptn_confusion_by_domain_over_dataloader(model, p.device, val_dl)\n",
    "per_domain_accuracy = per_domain_accuracy_from_confusion(confusion)\n",
    "\n",
    "# Add a key to per_domain_accuracy for if it was a source domain\n",
    "for domain, accuracy in per_domain_accuracy.items():\n",
    "    per_domain_accuracy[domain] = {\n",
    "        \"accuracy\": accuracy,\n",
    "        \"source?\": domain in p.domains_source\n",
    "    }\n",
    "\n",
    "# Do an independent accuracy assesment JUST TO BE SURE!\n",
    "# _source_test_label_accuracy = independent_accuracy_assesment(model, datasets.source.processed.test, p.device)\n",
    "# _target_test_label_accuracy = independent_accuracy_assesment(model, datasets.target.processed.test, p.device)\n",
    "# _source_val_label_accuracy = independent_accuracy_assesment(model, datasets.source.processed.val, p.device)\n",
    "# _target_val_label_accuracy = independent_accuracy_assesment(model, datasets.target.processed.val, p.device)\n",
    "\n",
    "# assert(_source_test_label_accuracy == source_test_label_accuracy)\n",
    "# assert(_target_test_label_accuracy == target_test_label_accuracy)\n",
    "# assert(_source_val_label_accuracy == source_val_label_accuracy)\n",
    "# assert(_target_val_label_accuracy == target_val_label_accuracy)\n",
    "\n",
    "experiment = {\n",
    "    \"experiment_name\": p.experiment_name,\n",
    "    \"parameters\": dict(p),\n",
    "    \"results\": {\n",
    "        \"source_test_label_accuracy\": source_test_label_accuracy,\n",
    "        \"source_test_label_loss\": source_test_label_loss,\n",
    "        \"target_test_label_accuracy\": target_test_label_accuracy,\n",
    "        \"target_test_label_loss\": target_test_label_loss,\n",
    "        \"source_val_label_accuracy\": source_val_label_accuracy,\n",
    "        \"source_val_label_loss\": source_val_label_loss,\n",
    "        \"target_val_label_accuracy\": target_val_label_accuracy,\n",
    "        \"target_val_label_loss\": target_val_label_loss,\n",
    "        \"total_epochs_trained\": total_epochs_trained,\n",
    "        \"total_experiment_time_secs\": total_experiment_time_secs,\n",
    "        \"confusion\": confusion,\n",
    "        \"per_domain_accuracy\": per_domain_accuracy,\n",
    "    },\n",
    "    \"history\": history,\n",
    "    \"dataset_metrics\": get_dataset_metrics(datasets, \"ptn\"),\n",
    "}"
   ]
  },
  {
   "cell_type": "code",
   "execution_count": 25,
   "id": "54a21829",
   "metadata": {
    "execution": {
     "iopub.execute_input": "2022-03-17T04:43:17.763088Z",
     "iopub.status.busy": "2022-03-17T04:43:17.762831Z",
     "iopub.status.idle": "2022-03-17T04:43:17.884749Z",
     "shell.execute_reply": "2022-03-17T04:43:17.884283Z"
    },
    "papermill": {
     "duration": 0.170476,
     "end_time": "2022-03-17T04:43:17.884842",
     "exception": false,
     "start_time": "2022-03-17T04:43:17.714366",
     "status": "completed"
    },
    "tags": []
   },
   "outputs": [
    {
     "data": {
      "image/png": "[encoded data removed]",
      "text/plain": [
       "<Figure size 1080x504 with 1 Axes>"
      ]
     },
     "metadata": {
      "needs_background": "light"
     },
     "output_type": "display_data"
    }
   ],
   "source": [
    "ax = get_loss_curve(experiment)\n",
    "plt.show()"
   ]
  },
  {
   "cell_type": "code",
   "execution_count": 26,
   "id": "fd8a0f60",
   "metadata": {
    "execution": {
     "iopub.execute_input": "2022-03-17T04:43:17.986606Z",
     "iopub.status.busy": "2022-03-17T04:43:17.986352Z",
     "iopub.status.idle": "2022-03-17T04:43:18.128538Z",
     "shell.execute_reply": "2022-03-17T04:43:18.128823Z"
    },
    "papermill": {
     "duration": 0.191112,
     "end_time": "2022-03-17T04:43:18.128913",
     "exception": false,
     "start_time": "2022-03-17T04:43:17.937801",
     "status": "completed"
    },
    "tags": []
   },
   "outputs": [
    {
     "data": {
      "text/plain": [
       "<AxesSubplot:title={'center':'Results'}>"
      ]
     },
     "execution_count": 26,
     "metadata": {},
     "output_type": "execute_result"
    },
    {
     "data": {
      "image/png": "[encoded data removed]",
      "text/plain": [
       "<Figure size 1080x504 with 1 Axes>"
      ]
     },
     "metadata": {
      "needs_background": "light"
     },
     "output_type": "display_data"
    }
   ],
   "source": [
    "get_results_table(experiment)"
   ]
  },
  {
   "cell_type": "code",
   "execution_count": 27,
   "id": "cf8dc689",
   "metadata": {
    "execution": {
     "iopub.execute_input": "2022-03-17T04:43:18.238114Z",
     "iopub.status.busy": "2022-03-17T04:43:18.234010Z",
     "iopub.status.idle": "2022-03-17T04:43:18.393215Z",
     "shell.execute_reply": "2022-03-17T04:43:18.392729Z"
    },
    "papermill": {
     "duration": 0.209626,
     "end_time": "2022-03-17T04:43:18.393320",
     "exception": false,
     "start_time": "2022-03-17T04:43:18.183694",
     "status": "completed"
    },
    "tags": []
   },
   "outputs": [
    {
     "data": {
      "text/plain": [
       "<AxesSubplot:title={'center':'Per Domain Validation Accuracy'}, xlabel='domain'>"
      ]
     },
     "execution_count": 27,
     "metadata": {},
     "output_type": "execute_result"
    },
    {
     "data": {
      "image/png": "[encoded data removed]",
      "text/plain": [
       "<Figure size 1080x504 with 1 Axes>"
      ]
     },
     "metadata": {
      "needs_background": "light"
     },
     "output_type": "display_data"
    }
   ],
   "source": [
    "get_domain_accuracies(experiment)"
   ]
  },
  {
   "cell_type": "code",
   "execution_count": 28,
   "id": "a74ae082",
   "metadata": {
    "execution": {
     "iopub.execute_input": "2022-03-17T04:43:18.499355Z",
     "iopub.status.busy": "2022-03-17T04:43:18.499035Z",
     "iopub.status.idle": "2022-03-17T04:43:18.516063Z",
     "shell.execute_reply": "2022-03-17T04:43:18.515695Z"
    },
    "papermill": {
     "duration": 0.068862,
     "end_time": "2022-03-17T04:43:18.516141",
     "exception": false,
     "start_time": "2022-03-17T04:43:18.447279",
     "status": "completed"
    },
    "tags": []
   },
   "outputs": [
    {
     "name": "stdout",
     "output_type": "stream",
     "text": [
      "Source Test Label Accuracy: 0.9773116438356164 Target Test Label Accuracy: 0.32574869791666666\n",
      "Source Val Label Accuracy: 0.9784888698630136 Target Val Label Accuracy: 0.3228515625\n"
     ]
    }
   ],
   "source": [
    "print(\"Source Test Label Accuracy:\", experiment[\"results\"][\"source_test_label_accuracy\"], \"Target Test Label Accuracy:\", experiment[\"results\"][\"target_test_label_accuracy\"])\n",
    "print(\"Source Val Label Accuracy:\", experiment[\"results\"][\"source_val_label_accuracy\"], \"Target Val Label Accuracy:\", experiment[\"results\"][\"target_val_label_accuracy\"])"
   ]
  },
  {
   "cell_type": "code",
   "execution_count": 29,
   "id": "dacca602",
   "metadata": {
    "execution": {
     "iopub.execute_input": "2022-03-17T04:43:18.621036Z",
     "iopub.status.busy": "2022-03-17T04:43:18.620709Z",
     "iopub.status.idle": "2022-03-17T04:43:18.638113Z",
     "shell.execute_reply": "2022-03-17T04:43:18.638507Z"
    },
    "papermill": {
     "duration": 0.068878,
     "end_time": "2022-03-17T04:43:18.638631",
     "exception": false,
     "start_time": "2022-03-17T04:43:18.569753",
     "status": "completed"
    },
    "tags": [
     "experiment_json"
    ]
   },
   "outputs": [
    {
     "data": {
      "text/plain": [
       "'{\"experiment_name\": \"cores+wisig -> oracle.run2.framed\", \"parameters\": {\"experiment_name\": \"cores+wisig -> oracle.run2.framed\", \"device\": \"cuda\", \"lr\": 0.001, \"seed\": 1337, \"dataset_seed\": 1337, \"n_shot\": 3, \"n_query\": 2, \"train_k_factor\": 3, \"val_k_factor\": 2, \"test_k_factor\": 2, \"torch_default_dtype\": \"torch.float32\", \"n_epoch\": 50, \"patience\": 3, \"criteria_for_best\": \"target_loss\", \"x_net\": [{\"class\": \"nnReshape\", \"kargs\": {\"shape\": [-1, 1, 2, 256]}}, {\"class\": \"Conv2d\", \"kargs\": {\"in_channels\": 1, \"out_channels\": 256, \"kernel_size\": [1, 7], \"bias\": false, \"padding\": [0, 3]}}, {\"class\": \"ReLU\", \"kargs\": {\"inplace\": true}}, {\"class\": \"BatchNorm2d\", \"kargs\": {\"num_features\": 256}}, {\"class\": \"Conv2d\", \"kargs\": {\"in_channels\": 256, \"out_channels\": 80, \"kernel_size\": [2, 7], \"bias\": true, \"padding\": [0, 3]}}, {\"class\": \"ReLU\", \"kargs\": {\"inplace\": true}}, {\"class\": \"BatchNorm2d\", \"kargs\": {\"num_features\": 80}}, {\"class\": \"Flatten\", \"kargs\": {}}, {\"class\": \"Linear\", \"kargs\": {\"in_features\": 20480, \"out_features\": 256}}, {\"class\": \"ReLU\", \"kargs\": {\"inplace\": true}}, {\"class\": \"BatchNorm1d\", \"kargs\": {\"num_features\": 256}}, {\"class\": \"Linear\", \"kargs\": {\"in_features\": 256, \"out_features\": 256}}], \"NUM_LOGS_PER_EPOCH\": 10, \"BEST_MODEL_PATH\": \"./best_model.pth\", \"n_way\": 16, \"datasets\": [{\"labels\": [\"1-10.\", \"1-11.\", \"1-15.\", \"1-16.\", \"1-17.\", \"1-18.\", \"1-19.\", \"10-4.\", \"10-7.\", \"11-1.\", \"11-14.\", \"11-17.\", \"11-20.\", \"11-7.\", \"13-20.\", \"13-8.\", \"14-10.\", \"14-11.\", \"14-14.\", \"14-7.\", \"15-1.\", \"15-20.\", \"16-1.\", \"16-16.\", \"17-10.\", \"17-11.\", \"17-2.\", \"19-1.\", \"19-16.\", \"19-19.\", \"19-20.\", \"19-3.\", \"2-10.\", \"2-11.\", \"2-17.\", \"2-18.\", \"2-20.\", \"2-3.\", \"2-4.\", \"2-5.\", \"2-6.\", \"2-7.\", \"2-8.\", \"3-13.\", \"3-18.\", \"3-3.\", \"4-1.\", \"4-10.\", \"4-11.\", \"4-19.\", \"5-5.\", \"6-15.\", \"7-10.\", \"7-14.\", \"8-18.\", \"8-20.\", \"8-3.\", \"8-8.\"], \"domains\": [1, 2, 3, 4, 5], \"num_examples_per_domain_per_label\": 100, \"pickle_path\": \"/mnt/wd500GB/CSC500/csc500-main/datasets/cores.stratified_ds.2022A.pkl\", \"source_or_target_dataset\": \"source\", \"x_transforms\": [], \"episode_transforms\": [], \"domain_prefix\": \"C_A_\"}, {\"labels\": [\"1-10\", \"1-12\", \"1-14\", \"1-16\", \"1-18\", \"1-19\", \"1-8\", \"10-11\", \"10-17\", \"10-4\", \"10-7\", \"11-1\", \"11-10\", \"11-19\", \"11-20\", \"11-4\", \"11-7\", \"12-19\", \"12-20\", \"12-7\", \"13-14\", \"13-18\", \"13-19\", \"13-20\", \"13-3\", \"13-7\", \"14-10\", \"14-11\", \"14-12\", \"14-13\", \"14-14\", \"14-19\", \"14-20\", \"14-7\", \"14-8\", \"14-9\", \"15-1\", \"15-19\", \"15-6\", \"16-1\", \"16-16\", \"16-19\", \"16-20\", \"17-10\", \"17-11\", \"18-1\", \"18-10\", \"18-11\", \"18-12\", \"18-13\", \"18-14\", \"18-15\", \"18-16\", \"18-17\", \"18-19\", \"18-2\", \"18-20\", \"18-4\", \"18-5\", \"18-7\", \"18-8\", \"18-9\", \"19-1\", \"19-10\", \"19-11\", \"19-12\", \"19-13\", \"19-14\", \"19-15\", \"19-19\", \"19-2\", \"19-20\", \"19-3\", \"19-4\", \"19-6\", \"19-7\", \"19-8\", \"19-9\", \"2-1\", \"2-13\", \"2-15\", \"2-3\", \"2-4\", \"2-5\", \"2-6\", \"2-7\", \"2-8\", \"20-1\", \"20-12\", \"20-14\", \"20-15\", \"20-16\", \"20-18\", \"20-19\", \"20-20\", \"20-3\", \"20-4\", \"20-5\", \"20-7\", \"20-8\", \"3-1\", \"3-13\", \"3-18\", \"3-2\", \"3-8\", \"4-1\", \"4-10\", \"4-11\", \"5-1\", \"5-5\", \"6-1\", \"6-15\", \"6-6\", \"7-10\", \"7-11\", \"7-12\", \"7-13\", \"7-14\", \"7-7\", \"7-8\", \"7-9\", \"8-1\", \"8-13\", \"8-14\", \"8-18\", \"8-20\", \"8-3\", \"8-8\", \"9-1\", \"9-7\"], \"domains\": [1, 2, 3, 4], \"num_examples_per_domain_per_label\": 100, \"pickle_path\": \"/mnt/wd500GB/CSC500/csc500-main/datasets/wisig.node3-19.stratified_ds.2022A.pkl\", \"source_or_target_dataset\": \"source\", \"x_transforms\": [], \"episode_transforms\": [], \"domain_prefix\": \"W_A_\"}, {\"labels\": [\"3123D52\", \"3123D65\", \"3123D79\", \"3123D80\", \"3123D54\", \"3123D70\", \"3123D7B\", \"3123D89\", \"3123D58\", \"3123D76\", \"3123D7D\", \"3123EFE\", \"3123D64\", \"3123D78\", \"3123D7E\", \"3124E4A\"], \"domains\": [32, 38, 8, 44, 14, 50, 20, 26], \"num_examples_per_domain_per_label\": 2000, \"pickle_path\": \"/mnt/wd500GB/CSC500/csc500-main/datasets/oracle.Run2_framed_2000Examples_stratified_ds.2022A.pkl\", \"source_or_target_dataset\": \"target\", \"x_transforms\": [], \"episode_transforms\": [], \"domain_prefix\": \"ORACLE.run2_\"}], \"domains_source\": [\"C_A_1\", \"C_A_2\", \"C_A_3\", \"C_A_4\", \"C_A_5\", \"W_A_1\", \"W_A_2\", \"W_A_3\", \"W_A_4\"], \"domains_target\": [\"ORACLE.run2_32\", \"ORACLE.run2_38\", \"ORACLE.run2_8\", \"ORACLE.run2_44\", \"ORACLE.run2_14\", \"ORACLE.run2_50\", \"ORACLE.run2_20\", \"ORACLE.run2_26\"]}, \"results\": {\"source_test_label_accuracy\": 0.9773116438356164, \"source_test_label_loss\": 0.10382238030433655, \"target_test_label_accuracy\": 0.32574869791666666, \"target_test_label_loss\": 2.0811524391174316, \"source_val_label_accuracy\": 0.9784888698630136, \"source_val_label_loss\": 0.09726189076900482, \"target_val_label_accuracy\": 0.3228515625, \"target_val_label_loss\": 2.0876195430755615, \"total_epochs_trained\": 15, \"total_experiment_time_secs\": 927.6785287857056, \"confusion\": {\"W_A_3\": {\"109\": {\"109\": 12}, \"127\": {\"127\": 12}, \"14\": {\"14\": 12}, \"7\": {\"7\": 12}, \"129\": {\"129\": 12}, \"57\": {\"57\": 12}, \"84\": {\"84\": 11, \"30\": 1}, \"114\": {\"114\": 12}, \"44\": {\"44\": 12}, \"21\": {\"21\": 12}, \"46\": {\"46\": 12}, \"100\": {\"100\": 12}, \"63\": {\"63\": 8, \"46\": 1, \"47\": 1, \"59\": 1, \"60\": 1}, \"24\": {\"24\": 9, \"21\": 1, \"118\": 1, \"27\": 1}, \"107\": {\"107\": 12}, \"35\": {\"109\": 1, \"35\": 8, \"95\": 1}, \"81\": {\"81\": 12}, \"64\": {\"64\": 11, \"92\": 1}, \"59\": {\"77\": 1, \"59\": 11}, \"33\": {\"33\": 12}, \"34\": {\"34\": 12}, \"36\": {\"36\": 12}, \"79\": {\"79\": 12}, \"80\": {\"80\": 11, \"10\": 1}, \"77\": {\"77\": 12}, \"22\": {\"22\": 12}, \"124\": {\"124\": 12}, \"2\": {\"2\": 12}, \"87\": {\"87\": 11, \"24\": 1}, \"105\": {\"105\": 12}, \"95\": {\"95\": 12}, \"43\": {\"43\": 12}, \"56\": {\"56\": 10}, \"18\": {\"18\": 12}, \"85\": {\"85\": 12}, \"113\": {\"113\": 12}, \"97\": {\"97\": 12}, \"86\": {\"86\": 12}, \"128\": {\"128\": 12}, \"123\": {\"123\": 12}, \"8\": {\"8\": 12}, \"110\": {\"110\": 12}, \"126\": {\"113\": 1, \"43\": 1, \"126\": 10}, \"101\": {\"101\": 12}, \"115\": {\"115\": 12}, \"49\": {\"49\": 12}, \"45\": {\"45\": 12}, \"78\": {\"78\": 11, \"13\": 1}, \"65\": {\"65\": 9, \"24\": 1}, \"54\": {\"54\": 12}, \"31\": {\"31\": 10}, \"42\": {\"42\": 11, \"78\": 1}, \"68\": {\"68\": 12}, \"15\": {\"15\": 12}, \"69\": {\"69\": 12}, \"17\": {\"17\": 9, \"87\": 1}, \"73\": {\"73\": 12}, \"121\": {\"121\": 12}, \"102\": {\"102\": 12}, \"48\": {\"48\": 12}, \"23\": {\"23\": 11, \"8\": 1}, \"108\": {\"108\": 12}, \"53\": {\"53\": 12}, \"94\": {\"94\": 10}, \"41\": {\"41\": 12}, \"58\": {\"58\": 12}, \"29\": {\"29\": 12}, \"116\": {\"116\": 11, \"92\": 1}, \"60\": {\"60\": 12}, \"104\": {\"104\": 12}, \"106\": {\"106\": 12}, \"66\": {\"66\": 12}, \"47\": {\"47\": 12}, \"40\": {\"40\": 12}, \"82\": {\"82\": 11, \"86\": 1}, \"13\": {\"13\": 10, \"87\": 1, \"100\": 1}, \"19\": {\"19\": 12}, \"72\": {\"72\": 12}, \"9\": {\"9\": 12}, \"67\": {\"67\": 12}, \"11\": {\"11\": 12}, \"125\": {\"125\": 12}, \"76\": {\"76\": 8}, \"83\": {\"83\": 12}, \"74\": {\"74\": 11, \"129\": 1}, \"20\": {\"20\": 12}, \"119\": {\"119\": 12}, \"1\": {\"1\": 12}, \"16\": {\"16\": 12}, \"25\": {\"25\": 11, \"37\": 1}, \"90\": {\"90\": 8}, \"39\": {\"39\": 12}, \"28\": {\"28\": 12}, \"55\": {\"55\": 12}, \"117\": {\"117\": 11, \"14\": 1}, \"112\": {\"112\": 12}, \"38\": {\"38\": 11, \"41\": 1}, \"37\": {\"37\": 12}, \"120\": {\"120\": 11, \"65\": 1}, \"122\": {\"122\": 11, \"87\": 1}, \"50\": {\"50\": 12}, \"10\": {\"10\": 12}, \"5\": {\"5\": 12}, \"51\": {\"51\": 12}, \"3\": {\"3\": 11, \"70\": 1}, \"98\": {\"98\": 11, \"81\": 1}, \"70\": {\"70\": 12}, \"96\": {\"96\": 12}, \"12\": {\"12\": 12}, \"99\": {\"99\": 12}, \"52\": {\"52\": 12}, \"71\": {\"71\": 11, \"52\": 1}, \"89\": {\"89\": 12}, \"0\": {\"0\": 12}, \"4\": {\"4\": 9, \"10\": 1, \"24\": 1, \"2\": 1}, \"93\": {\"93\": 12}, \"6\": {\"6\": 10}, \"75\": {\"75\": 12}, \"62\": {\"62\": 12}, \"103\": {\"103\": 12}, \"30\": {\"30\": 12}, \"91\": {\"91\": 12}, \"27\": {\"27\": 12}, \"26\": {\"26\": 12}, \"61\": {\"61\": 12}, \"118\": {\"118\": 12}, \"92\": {\"92\": 12}, \"111\": {\"111\": 12}, \"32\": {\"32\": 12}, \"88\": {\"88\": 10}}, \"C_A_3\": {\"43\": {\"43\": 12}, \"9\": {\"9\": 12}, \"6\": {\"6\": 10}, \"3\": {\"3\": 12}, \"16\": {\"16\": 12}, \"51\": {\"51\": 12}, \"31\": {\"31\": 12}, \"46\": {\"46\": 10}, \"19\": {\"19\": 8}, \"8\": {\"8\": 12}, \"18\": {\"18\": 12}, \"37\": {\"37\": 12}, \"24\": {\"24\": 12}, \"10\": {\"10\": 12}, \"44\": {\"44\": 10}, \"14\": {\"14\": 12}, \"38\": {\"38\": 10}, \"53\": {\"53\": 12}, \"20\": {\"20\": 12}, \"32\": {\"32\": 12}, \"36\": {\"36\": 10}, \"33\": {\"33\": 12}, \"56\": {\"56\": 12}, \"23\": {\"23\": 12}, \"54\": {\"54\": 10}, \"34\": {\"34\": 12}, \"13\": {\"13\": 12}, \"2\": {\"2\": 12}, \"55\": {\"55\": 10}, \"21\": {\"21\": 10}, \"49\": {\"49\": 10}, \"25\": {\"25\": 12}, \"5\": {\"5\": 12}, \"50\": {\"50\": 7, \"3\": 1}, \"40\": {\"40\": 12}, \"57\": {\"57\": 8}, \"22\": {\"22\": 10}, \"1\": {\"1\": 10}, \"17\": {\"17\": 12}, \"41\": {\"41\": 12}, \"4\": {\"4\": 10}, \"7\": {\"7\": 10}, \"26\": {\"26\": 10}, \"29\": {\"29\": 12}, \"52\": {\"52\": 12}, \"15\": {\"15\": 12}, \"35\": {\"35\": 12}, \"42\": {\"42\": 12}, \"30\": {\"30\": 10}, \"27\": {\"27\": 8}, \"45\": {\"45\": 10}, \"0\": {\"0\": 12}, \"28\": {\"28\": 12}, \"47\": {\"47\": 12}, \"11\": {\"11\": 10}, \"39\": {\"39\": 10}, \"48\": {\"48\": 12}, \"12\": {\"12\": 8}}, \"C_A_4\": {\"35\": {\"35\": 10}, \"25\": {\"25\": 12}, \"24\": {\"24\": 10}, \"48\": {\"48\": 12}, \"51\": {\"51\": 12}, \"13\": {\"13\": 12}, \"14\": {\"14\": 8}, \"32\": {\"32\": 12}, \"30\": {\"30\": 10, \"21\": 2}, \"34\": {\"34\": 10}, \"9\": {\"9\": 12}, \"1\": {\"1\": 12}, \"0\": {\"0\": 12}, \"38\": {\"38\": 12}, \"22\": {\"22\": 8}, \"40\": {\"40\": 12}, \"39\": {\"39\": 12}, \"46\": {\"46\": 12}, \"36\": {\"36\": 12}, \"50\": {\"50\": 10, \"6\": 1, \"3\": 1}, \"49\": {\"49\": 12}, \"17\": {\"17\": 12}, \"45\": {\"45\": 12}, \"6\": {\"6\": 12}, \"8\": {\"8\": 12}, \"5\": {\"5\": 10}, \"33\": {\"33\": 12}, \"31\": {\"31\": 12}, \"37\": {\"37\": 10}, \"47\": {\"47\": 8}, \"15\": {\"15\": 10}, \"7\": {\"7\": 12}, \"20\": {\"20\": 12}, \"4\": {\"4\": 12}, \"54\": {\"54\": 12}, \"44\": {\"44\": 12}, \"3\": {\"3\": 12}, \"11\": {\"11\": 10}, \"27\": {\"27\": 10}, \"19\": {\"19\": 12}, \"55\": {\"55\": 12}, \"16\": {\"16\": 12}, \"2\": {\"2\": 10}, \"52\": {\"52\": 10}, \"42\": {\"42\": 9, \"41\": 1}, \"26\": {\"26\": 12}, \"10\": {\"10\": 12}, \"53\": {\"53\": 10}, \"28\": {\"28\": 12}, \"21\": {\"21\": 10}, \"57\": {\"57\": 10}, \"23\": {\"23\": 8}, \"43\": {\"43\": 10}, \"12\": {\"12\": 12}, \"41\": {\"41\": 12}, \"56\": {\"56\": 8}, \"18\": {\"18\": 10}, \"29\": {\"29\": 8}}, \"C_A_5\": {\"47\": {\"47\": 10}, \"53\": {\"53\": 12}, \"29\": {\"29\": 12}, \"52\": {\"52\": 12}, \"55\": {\"55\": 12}, \"17\": {\"17\": 12}, \"42\": {\"42\": 12}, \"33\": {\"33\": 10}, \"11\": {\"11\": 12}, \"19\": {\"19\": 8}, \"1\": {\"1\": 12}, \"44\": {\"44\": 12}, \"49\": {\"49\": 12}, \"4\": {\"4\": 12}, \"6\": {\"6\": 12}, \"39\": {\"39\": 12}, \"13\": {\"13\": 12}, \"5\": {\"5\": 10}, \"16\": {\"16\": 10}, \"25\": {\"25\": 12}, \"45\": {\"45\": 12}, \"7\": {\"7\": 10}, \"22\": {\"22\": 12}, \"40\": {\"40\": 12}, \"38\": {\"38\": 12}, \"35\": {\"35\": 8}, \"56\": {\"56\": 12}, \"50\": {\"50\": 8, \"6\": 2}, \"0\": {\"0\": 12}, \"10\": {\"10\": 12}, \"27\": {\"27\": 12}, \"20\": {\"20\": 10}, \"36\": {\"36\": 8}, \"34\": {\"34\": 12}, \"30\": {\"30\": 12}, \"2\": {\"2\": 10}, \"15\": {\"15\": 12}, \"18\": {\"18\": 12}, \"32\": {\"32\": 12}, \"31\": {\"31\": 12}, \"57\": {\"57\": 12}, \"48\": {\"48\": 8}, \"28\": {\"28\": 10}, \"14\": {\"14\": 12}, \"3\": {\"3\": 12}, \"8\": {\"8\": 12}, \"9\": {\"9\": 12}, \"21\": {\"21\": 10}, \"41\": {\"41\": 12}, \"24\": {\"24\": 12}, \"46\": {\"46\": 10}, \"43\": {\"43\": 10}, \"54\": {\"54\": 10}, \"23\": {\"23\": 10}, \"37\": {\"37\": 10}, \"12\": {\"12\": 10}, \"26\": {\"26\": 10}, \"51\": {\"51\": 6}}, \"C_A_1\": {\"46\": {\"46\": 12}, \"16\": {\"16\": 12}, \"26\": {\"26\": 12}, \"10\": {\"10\": 12}, \"9\": {\"9\": 10}, \"28\": {\"28\": 12}, \"51\": {\"51\": 12}, \"1\": {\"1\": 12}, \"55\": {\"55\": 12}, \"27\": {\"27\": 10}, \"22\": {\"22\": 12}, \"52\": {\"52\": 12}, \"3\": {\"3\": 12}, \"33\": {\"33\": 8}, \"47\": {\"47\": 12}, \"42\": {\"42\": 12}, \"12\": {\"12\": 4}, \"23\": {\"23\": 12}, \"49\": {\"49\": 10}, \"7\": {\"7\": 12}, \"4\": {\"4\": 12}, \"50\": {\"50\": 12}, \"19\": {\"19\": 12}, \"11\": {\"11\": 12}, \"31\": {\"31\": 10}, \"41\": {\"41\": 12}, \"56\": {\"56\": 10}, \"0\": {\"0\": 12}, \"57\": {\"57\": 12}, \"53\": {\"53\": 12}, \"43\": {\"43\": 12}, \"37\": {\"37\": 12}, \"2\": {\"2\": 8}, \"6\": {\"6\": 12}, \"18\": {\"18\": 12}, \"38\": {\"38\": 12}, \"15\": {\"15\": 12}, \"36\": {\"36\": 12}, \"39\": {\"39\": 8}, \"44\": {\"44\": 12}, \"8\": {\"8\": 12}, \"17\": {\"17\": 10}, \"5\": {\"5\": 12}, \"13\": {\"13\": 10}, \"40\": {\"40\": 10}, \"29\": {\"29\": 12}, \"48\": {\"48\": 12}, \"32\": {\"32\": 12}, \"30\": {\"30\": 12}, \"35\": {\"35\": 12}, \"25\": {\"25\": 12}, \"14\": {\"14\": 11, \"30\": 1}, \"54\": {\"54\": 10}, \"20\": {\"20\": 8}, \"21\": {\"21\": 10}, \"45\": {\"45\": 8}, \"24\": {\"24\": 8}, \"34\": {\"34\": 8}}, \"W_A_4\": {\"28\": {\"28\": 12}, \"4\": {\"4\": 12}, \"72\": {\"72\": 12}, \"111\": {\"111\": 12}, \"108\": {\"108\": 12}, \"43\": {\"43\": 10}, \"96\": {\"96\": 12}, \"89\": {\"89\": 12}, \"31\": {\"31\": 12}, \"45\": {\"45\": 12}, \"2\": {\"2\": 12}, \"114\": {\"114\": 12}, \"11\": {\"11\": 12}, \"12\": {\"12\": 12}, \"14\": {\"14\": 12}, \"90\": {\"90\": 12}, \"10\": {\"10\": 11, \"24\": 1}, \"63\": {\"64\": 1, \"63\": 10, \"80\": 1}, \"85\": {\"85\": 11, \"4\": 1}, \"64\": {\"64\": 12}, \"82\": {\"82\": 10, \"115\": 1, \"63\": 1}, \"58\": {\"58\": 12}, \"3\": {\"3\": 12}, \"54\": {\"54\": 12}, \"121\": {\"121\": 11, \"99\": 1}, \"42\": {\"42\": 12}, \"98\": {\"98\": 12}, \"123\": {\"123\": 12}, \"91\": {\"91\": 11, \"82\": 1}, \"66\": {\"66\": 12}, \"102\": {\"102\": 12}, \"122\": {\"122\": 10, \"110\": 1, \"70\": 1}, \"1\": {\"1\": 12}, \"15\": {\"15\": 12}, \"97\": {\"97\": 11, \"91\": 1}, \"75\": {\"75\": 12}, \"95\": {\"95\": 12}, \"57\": {\"57\": 12}, \"68\": {\"68\": 12}, \"125\": {\"125\": 12}, \"62\": {\"62\": 10}, \"27\": {\"27\": 10, \"21\": 1, \"3\": 1}, \"120\": {\"120\": 11, \"103\": 1}, \"26\": {\"26\": 12}, \"55\": {\"55\": 12}, \"71\": {\"71\": 11, \"72\": 1}, \"22\": {\"22\": 12}, \"99\": {\"99\": 11, \"51\": 1}, \"84\": {\"84\": 10, \"103\": 1, \"43\": 1}, \"37\": {\"37\": 12}, \"83\": {\"83\": 12}, \"46\": {\"46\": 12}, \"35\": {\"35\": 12}, \"13\": {\"13\": 12}, \"53\": {\"53\": 10, \"3\": 1, \"21\": 1}, \"127\": {\"127\": 12}, \"69\": {\"53\": 1, \"69\": 10, \"92\": 1}, \"48\": {\"48\": 7, \"74\": 2, \"20\": 2, \"35\": 1}, \"16\": {\"16\": 12}, \"0\": {\"0\": 11, \"23\": 1}, \"8\": {\"8\": 10, \"115\": 1, \"100\": 1}, \"9\": {\"9\": 12}, \"115\": {\"115\": 12}, \"70\": {\"70\": 11, \"9\": 1}, \"119\": {\"119\": 12}, \"59\": {\"59\": 12}, \"52\": {\"52\": 12}, \"60\": {\"60\": 12}, \"44\": {\"44\": 11, \"38\": 1}, \"51\": {\"51\": 10, \"53\": 1, \"100\": 1}, \"6\": {\"6\": 12}, \"73\": {\"73\": 12}, \"78\": {\"78\": 11, \"21\": 1}, \"92\": {\"92\": 12}, \"20\": {\"20\": 11, \"80\": 1}, \"17\": {\"17\": 12}, \"74\": {\"74\": 12}, \"19\": {\"19\": 12}, \"50\": {\"50\": 12}, \"34\": {\"34\": 10, \"110\": 1, \"60\": 1}, \"104\": {\"104\": 8}, \"33\": {\"33\": 11, \"51\": 1}, \"5\": {\"5\": 12}, \"7\": {\"7\": 11, \"0\": 1}, \"29\": {\"29\": 12}, \"25\": {\"25\": 12}, \"124\": {\"124\": 12}, \"117\": {\"117\": 10, \"59\": 1, \"61\": 1}, \"88\": {\"88\": 10, \"71\": 2}, \"61\": {\"61\": 11, \"3\": 1}, \"86\": {\"86\": 12}, \"116\": {\"116\": 12}, \"24\": {\"24\": 11, \"36\": 1}, \"128\": {\"128\": 10, \"21\": 1, \"103\": 1}, \"101\": {\"101\": 12}, \"65\": {\"65\": 9, \"37\": 1}, \"36\": {\"36\": 12}, \"21\": {\"21\": 10, \"51\": 1, \"78\": 1}, \"106\": {\"106\": 12}, \"118\": {\"118\": 10, \"88\": 1, \"57\": 1}, \"113\": {\"113\": 10, \"17\": 1, \"3\": 1}, \"40\": {\"40\": 12}, \"93\": {\"93\": 7, \"110\": 1}, \"94\": {\"94\": 10, \"36\": 2}, \"103\": {\"103\": 7, \"77\": 2, \"5\": 1, \"87\": 1, \"120\": 1}, \"110\": {\"110\": 12}, \"56\": {\"56\": 12}, \"39\": {\"39\": 12}, \"109\": {\"109\": 12}, \"67\": {\"67\": 11, \"115\": 1}, \"129\": {\"129\": 12}, \"30\": {\"30\": 12}, \"126\": {\"126\": 10, \"23\": 1, \"108\": 1}, \"87\": {\"21\": 1, \"87\": 11}, \"112\": {\"112\": 12}, \"100\": {\"100\": 12}, \"79\": {\"79\": 10}, \"81\": {\"81\": 11, \"86\": 1}, \"76\": {\"76\": 10}, \"47\": {\"47\": 11, \"21\": 1}, \"77\": {\"77\": 12}, \"23\": {\"103\": 1, \"23\": 9, \"106\": 1, \"21\": 1}, \"18\": {\"18\": 12}, \"49\": {\"49\": 12}, \"41\": {\"41\": 10, \"110\": 1, \"17\": 1}, \"32\": {\"32\": 12}, \"107\": {\"107\": 10}, \"80\": {\"80\": 11, \"32\": 1}, \"105\": {\"105\": 9, \"3\": 1}, \"38\": {\"38\": 10}}, \"W_A_1\": {\"108\": {\"108\": 10}, \"40\": {\"40\": 12}, \"68\": {\"68\": 12}, \"23\": {\"23\": 11, \"12\": 1}, \"26\": {\"70\": 1, \"26\": 11}, \"64\": {\"64\": 12}, \"22\": {\"22\": 12}, \"3\": {\"3\": 12}, \"4\": {\"4\": 11, \"78\": 1}, \"70\": {\"70\": 12}, \"57\": {\"57\": 12}, \"79\": {\"79\": 12}, \"9\": {\"9\": 12}, \"89\": {\"89\": 12}, \"110\": {\"110\": 12}, \"102\": {\"102\": 12}, \"31\": {\"31\": 12}, \"58\": {\"58\": 12}, \"47\": {\"47\": 12}, \"24\": {\"24\": 12}, \"19\": {\"19\": 12}, \"11\": {\"11\": 12}, \"52\": {\"52\": 12}, \"17\": {\"17\": 12}, \"25\": {\"25\": 12}, \"69\": {\"69\": 12}, \"96\": {\"96\": 12}, \"109\": {\"109\": 12}, \"115\": {\"115\": 12}, \"83\": {\"83\": 11, \"13\": 1}, \"84\": {\"84\": 12}, \"119\": {\"119\": 10}, \"122\": {\"122\": 10}, \"99\": {\"99\": 12}, \"1\": {\"1\": 12}, \"74\": {\"74\": 10, \"65\": 1, \"48\": 1}, \"85\": {\"85\": 12}, \"127\": {\"127\": 12}, \"111\": {\"111\": 12}, \"53\": {\"53\": 12}, \"88\": {\"88\": 12}, \"65\": {\"65\": 8, \"103\": 2}, \"7\": {\"7\": 12}, \"16\": {\"16\": 11, \"10\": 1}, \"128\": {\"128\": 12}, \"34\": {\"34\": 12}, \"129\": {\"129\": 12}, \"43\": {\"43\": 12}, \"92\": {\"92\": 12}, \"28\": {\"28\": 12}, \"27\": {\"27\": 12}, \"114\": {\"114\": 12}, \"73\": {\"73\": 12}, \"0\": {\"0\": 12}, \"104\": {\"104\": 12}, \"118\": {\"118\": 12}, \"41\": {\"41\": 12}, \"49\": {\"49\": 12}, \"14\": {\"14\": 12}, \"46\": {\"22\": 1, \"46\": 10, \"55\": 1}, \"33\": {\"33\": 12}, \"76\": {\"76\": 12}, \"125\": {\"125\": 12}, \"86\": {\"86\": 10}, \"66\": {\"66\": 11, \"44\": 1}, \"5\": {\"5\": 12}, \"117\": {\"117\": 12}, \"75\": {\"75\": 12}, \"61\": {\"61\": 12}, \"50\": {\"50\": 11, \"12\": 1}, \"67\": {\"67\": 10}, \"18\": {\"18\": 12}, \"98\": {\"98\": 12}, \"55\": {\"55\": 10}, \"32\": {\"32\": 12}, \"120\": {\"120\": 12}, \"97\": {\"97\": 12}, \"126\": {\"126\": 12}, \"45\": {\"45\": 12}, \"78\": {\"78\": 9, \"7\": 1}, \"100\": {\"100\": 12}, \"107\": {\"107\": 12}, \"93\": {\"93\": 12}, \"77\": {\"77\": 12}, \"63\": {\"63\": 12}, \"112\": {\"112\": 12}, \"113\": {\"113\": 12}, \"103\": {\"103\": 10}, \"71\": {\"71\": 12}, \"30\": {\"30\": 12}, \"90\": {\"90\": 12}, \"37\": {\"103\": 1, \"37\": 11}, \"60\": {\"60\": 11, \"117\": 1}, \"15\": {\"15\": 12}, \"39\": {\"39\": 12}, \"72\": {\"72\": 12}, \"54\": {\"54\": 12}, \"35\": {\"35\": 12}, \"2\": {\"2\": 12}, \"94\": {\"94\": 11, \"60\": 1}, \"42\": {\"42\": 12}, \"81\": {\"81\": 12}, \"8\": {\"8\": 12}, \"87\": {\"87\": 12}, \"6\": {\"6\": 12}, \"36\": {\"36\": 12}, \"91\": {\"91\": 12}, \"56\": {\"56\": 12}, \"80\": {\"80\": 11, \"23\": 1}, \"124\": {\"124\": 10}, \"44\": {\"44\": 12}, \"13\": {\"13\": 12}, \"10\": {\"10\": 10, \"78\": 1, \"95\": 1}, \"59\": {\"59\": 12}, \"95\": {\"95\": 12}, \"105\": {\"105\": 11, \"15\": 1}, \"101\": {\"101\": 12}, \"20\": {\"20\": 12}, \"48\": {\"48\": 11, \"123\": 1}, \"106\": {\"106\": 12}, \"51\": {\"51\": 12}, \"21\": {\"21\": 12}, \"123\": {\"123\": 12}, \"121\": {\"121\": 12}, \"38\": {\"38\": 12}, \"62\": {\"62\": 12}, \"29\": {\"29\": 12}, \"82\": {\"82\": 12}, \"116\": {\"116\": 12}, \"12\": {\"12\": 8}}, \"C_A_2\": {\"14\": {\"14\": 12}, \"22\": {\"22\": 12}, \"9\": {\"9\": 12}, \"47\": {\"47\": 12}, \"13\": {\"13\": 12}, \"8\": {\"8\": 12}, \"7\": {\"7\": 12}, \"49\": {\"49\": 12}, \"20\": {\"20\": 12}, \"16\": {\"16\": 12}, \"34\": {\"34\": 12}, \"56\": {\"56\": 11, \"22\": 1}, \"38\": {\"38\": 10}, \"4\": {\"4\": 12}, \"43\": {\"43\": 10}, \"26\": {\"26\": 10}, \"35\": {\"35\": 12}, \"31\": {\"31\": 12}, \"1\": {\"1\": 12}, \"39\": {\"39\": 12}, \"5\": {\"5\": 12}, \"24\": {\"24\": 12}, \"54\": {\"54\": 10}, \"23\": {\"23\": 12}, \"51\": {\"51\": 12}, \"27\": {\"27\": 10}, \"15\": {\"15\": 12}, \"0\": {\"0\": 12}, \"19\": {\"19\": 10}, \"18\": {\"18\": 8}, \"30\": {\"30\": 12}, \"55\": {\"55\": 10}, \"57\": {\"57\": 12}, \"2\": {\"2\": 12}, \"12\": {\"12\": 8}, \"41\": {\"41\": 12}, \"42\": {\"42\": 12}, \"48\": {\"48\": 12}, \"37\": {\"37\": 12}, \"6\": {\"6\": 10}, \"11\": {\"11\": 10}, \"45\": {\"45\": 8}, \"21\": {\"21\": 12}, \"46\": {\"46\": 10}, \"25\": {\"25\": 12}, \"36\": {\"36\": 10}, \"53\": {\"53\": 12}, \"28\": {\"28\": 12}, \"40\": {\"40\": 10}, \"33\": {\"33\": 10}, \"44\": {\"44\": 10}, \"3\": {\"3\": 12}, \"17\": {\"17\": 12}, \"32\": {\"32\": 10}, \"10\": {\"10\": 10}, \"52\": {\"52\": 10}, \"50\": {\"50\": 8}, \"29\": {\"29\": 6}}, \"W_A_2\": {\"91\": {\"91\": 12}, \"12\": {\"12\": 9, \"97\": 1, \"4\": 1, \"0\": 1}, \"101\": {\"101\": 10}, \"121\": {\"121\": 11, \"53\": 1}, \"118\": {\"118\": 12}, \"10\": {\"10\": 12}, \"117\": {\"117\": 12}, \"110\": {\"110\": 11, \"97\": 1}, \"97\": {\"97\": 9, \"17\": 1, \"15\": 1, \"28\": 1}, \"28\": {\"17\": 1, \"28\": 9, \"22\": 1, \"112\": 1}, \"88\": {\"88\": 12}, \"17\": {\"17\": 12}, \"126\": {\"126\": 12}, \"33\": {\"33\": 12}, \"86\": {\"86\": 12}, \"106\": {\"106\": 12}, \"54\": {\"54\": 12}, \"125\": {\"125\": 12}, \"83\": {\"83\": 12}, \"98\": {\"98\": 12}, \"11\": {\"11\": 11, \"1\": 1}, \"32\": {\"32\": 12}, \"42\": {\"42\": 12}, \"103\": {\"103\": 12}, \"87\": {\"87\": 12}, \"61\": {\"4\": 1, \"61\": 10, \"17\": 1}, \"13\": {\"13\": 12}, \"4\": {\"4\": 12}, \"15\": {\"15\": 10}, \"120\": {\"120\": 12}, \"80\": {\"80\": 12}, \"72\": {\"72\": 10}, \"64\": {\"64\": 12}, \"81\": {\"81\": 12}, \"102\": {\"102\": 12}, \"76\": {\"76\": 12}, \"49\": {\"49\": 9, \"21\": 1}, \"129\": {\"129\": 12}, \"89\": {\"89\": 12}, \"52\": {\"52\": 12}, \"35\": {\"35\": 12}, \"53\": {\"53\": 10, \"37\": 1, \"57\": 1}, \"112\": {\"112\": 12}, \"105\": {\"105\": 12}, \"100\": {\"100\": 12}, \"9\": {\"9\": 12}, \"82\": {\"82\": 12}, \"51\": {\"51\": 12}, \"21\": {\"21\": 11, \"78\": 1}, \"92\": {\"92\": 11, \"84\": 1}, \"69\": {\"69\": 12}, \"77\": {\"77\": 12}, \"50\": {\"50\": 11, \"46\": 1}, \"36\": {\"36\": 12}, \"16\": {\"16\": 10, \"11\": 1, \"114\": 1}, \"8\": {\"18\": 1, \"8\": 10, \"17\": 1}, \"127\": {\"127\": 12}, \"46\": {\"46\": 10}, \"84\": {\"84\": 12}, \"18\": {\"18\": 12}, \"123\": {\"123\": 10}, \"56\": {\"56\": 12}, \"26\": {\"26\": 12}, \"14\": {\"26\": 1, \"14\": 9, \"43\": 1, \"71\": 1}, \"109\": {\"109\": 9, \"108\": 1, \"78\": 2}, \"66\": {\"66\": 12}, \"24\": {\"24\": 11, \"11\": 1}, \"71\": {\"65\": 1, \"71\": 11}, \"65\": {\"65\": 10, \"92\": 1, \"74\": 1}, \"75\": {\"75\": 11, \"21\": 1}, \"111\": {\"111\": 12}, \"30\": {\"30\": 11, \"59\": 1}, \"85\": {\"85\": 12}, \"113\": {\"113\": 9, \"21\": 1}, \"45\": {\"45\": 12}, \"29\": {\"29\": 11, \"25\": 1}, \"20\": {\"20\": 10, \"47\": 1, \"49\": 1}, \"25\": {\"25\": 12}, \"0\": {\"0\": 12}, \"68\": {\"68\": 12}, \"119\": {\"119\": 12}, \"90\": {\"90\": 12}, \"38\": {\"38\": 12}, \"99\": {\"99\": 12}, \"1\": {\"1\": 12}, \"67\": {\"67\": 9, \"56\": 1, \"104\": 1, \"75\": 1}, \"63\": {\"63\": 12}, \"34\": {\"34\": 12}, \"108\": {\"108\": 12}, \"40\": {\"40\": 12}, \"47\": {\"47\": 11, \"51\": 1}, \"37\": {\"37\": 12}, \"78\": {\"78\": 12}, \"96\": {\"96\": 12}, \"43\": {\"43\": 11, \"21\": 1}, \"5\": {\"5\": 10}, \"124\": {\"124\": 12}, \"44\": {\"44\": 12}, \"41\": {\"41\": 11, \"17\": 1}, \"116\": {\"116\": 12}, \"19\": {\"19\": 12}, \"115\": {\"115\": 11, \"22\": 1}, \"95\": {\"95\": 11, \"71\": 1}, \"3\": {\"3\": 10}, \"59\": {\"59\": 12}, \"55\": {\"55\": 11, \"115\": 1}, \"70\": {\"70\": 12}, \"6\": {\"6\": 12}, \"2\": {\"2\": 12}, \"48\": {\"48\": 12}, \"23\": {\"23\": 12}, \"7\": {\"7\": 12}, \"122\": {\"122\": 12}, \"57\": {\"57\": 10, \"108\": 1, \"71\": 1}, \"39\": {\"39\": 9, \"53\": 1}, \"79\": {\"79\": 12}, \"27\": {\"27\": 10}, \"74\": {\"74\": 9, \"17\": 1, \"86\": 1, \"121\": 1}, \"73\": {\"73\": 12}, \"62\": {\"62\": 12}, \"107\": {\"107\": 12}, \"128\": {\"128\": 12}, \"60\": {\"60\": 12}, \"114\": {\"114\": 12}, \"22\": {\"22\": 12}, \"93\": {\"93\": 12}, \"94\": {\"94\": 11, \"68\": 1}, \"31\": {\"31\": 10}, \"104\": {\"104\": 12}, \"58\": {\"58\": 12}}, \"ORACLE.run2_14\": {\"15\": {\"15\": 228, \"12\": 12}, \"3\": {\"3\": 66, \"6\": 38, \"12\": 9, \"13\": 29, \"2\": 14, \"7\": 56, \"5\": 12, \"14\": 15, \"10\": 1}, \"6\": {\"13\": 85, \"3\": 41, \"6\": 73, \"7\": 29, \"5\": 1, \"14\": 4, \"12\": 4, \"2\": 3}, \"1\": {\"1\": 176, \"12\": 3, \"9\": 56, \"0\": 3, \"4\": 2}, \"8\": {\"2\": 23, \"10\": 12, \"8\": 100, \"5\": 37, \"4\": 26, \"12\": 8, \"14\": 15, \"0\": 15, \"3\": 2, \"7\": 2}, \"10\": {\"10\": 39, \"9\": 8, \"0\": 32, \"5\": 26, \"3\": 9, \"6\": 8, \"2\": 28, \"14\": 26, \"8\": 10, \"4\": 40, \"7\": 5, \"12\": 7, \"13\": 2}, \"9\": {\"0\": 36, \"10\": 12, \"9\": 109, \"1\": 46, \"4\": 30, \"5\": 2, \"12\": 5}, \"13\": {\"13\": 114, \"3\": 22, \"6\": 79, \"7\": 14, \"12\": 10, \"2\": 1}, \"12\": {\"15\": 59, \"6\": 16, \"13\": 15, \"4\": 11, \"5\": 10, \"8\": 9, \"0\": 12, \"7\": 13, \"11\": 5, \"2\": 7, \"1\": 10, \"12\": 25, \"14\": 7, \"9\": 18, \"10\": 12, \"3\": 11}, \"5\": {\"12\": 8, \"2\": 39, \"5\": 64, \"10\": 25, \"8\": 24, \"14\": 56, \"4\": 7, \"7\": 6, \"3\": 8, \"0\": 3}, \"0\": {\"0\": 75, \"10\": 49, \"4\": 58, \"8\": 10, \"9\": 23, \"14\": 12, \"5\": 4, \"12\": 6, \"2\": 2, \"1\": 1}, \"2\": {\"3\": 38, \"13\": 2, \"14\": 44, \"0\": 4, \"2\": 36, \"5\": 42, \"6\": 5, \"10\": 21, \"7\": 19, \"8\": 19, \"12\": 3, \"4\": 7}, \"11\": {\"11\": 240}, \"14\": {\"6\": 3, \"10\": 23, \"14\": 61, \"5\": 54, \"2\": 52, \"3\": 17, \"4\": 7, \"8\": 9, \"7\": 6, \"0\": 1, \"12\": 6, \"13\": 1}, \"7\": {\"7\": 64, \"13\": 9, \"3\": 75, \"2\": 18, \"6\": 35, \"5\": 9, \"12\": 10, \"8\": 3, \"14\": 16, \"10\": 1}, \"4\": {\"8\": 16, \"9\": 28, \"4\": 70, \"10\": 32, \"5\": 10, \"0\": 65, \"14\": 9, \"2\": 5, \"12\": 5}}, \"ORACLE.run2_20\": {\"3\": {\"3\": 34, \"2\": 27, \"9\": 26, \"15\": 18, \"4\": 28, \"7\": 29, \"5\": 20, \"13\": 14, \"12\": 8, \"6\": 13, \"14\": 3, \"10\": 8, \"1\": 12}, \"15\": {\"15\": 35, \"4\": 20, \"13\": 14, \"9\": 29, \"7\": 32, \"6\": 9, \"2\": 26, \"3\": 30, \"10\": 2, \"5\": 16, \"12\": 10, \"1\": 14, \"14\": 3}, \"8\": {\"0\": 55, \"14\": 63, \"8\": 59, \"11\": 29, \"1\": 17, \"9\": 4, \"3\": 4, \"2\": 3, \"5\": 6}, \"4\": {\"5\": 15, \"10\": 13, \"4\": 37, \"9\": 23, \"12\": 14, \"6\": 26, \"15\": 20, \"3\": 23, \"7\": 33, \"2\": 11, \"1\": 8, \"14\": 4, \"13\": 13}, \"14\": {\"2\": 11, \"0\": 39, \"8\": 56, \"14\": 64, \"1\": 29, \"5\": 20, \"3\": 2, \"11\": 12, \"15\": 2, \"9\": 3, \"7\": 1, \"4\": 1}, \"0\": {\"1\": 10, \"0\": 74, \"11\": 56, \"8\": 50, \"9\": 1, \"14\": 39, \"2\": 3, \"5\": 7}, \"7\": {\"5\": 15, \"15\": 27, \"12\": 19, \"4\": 26, \"9\": 29, \"2\": 20, \"7\": 27, \"10\": 6, \"3\": 34, \"13\": 10, \"6\": 18, \"1\": 7, \"14\": 2}, \"6\": {\"4\": 34, \"10\": 30, \"6\": 37, \"9\": 15, \"12\": 26, \"13\": 21, \"3\": 25, \"7\": 22, \"2\": 10, \"15\": 13, \"5\": 3, \"1\": 2, \"14\": 2}, \"10\": {\"10\": 76, \"12\": 41, \"13\": 28, \"2\": 2, \"6\": 34, \"3\": 15, \"15\": 7, \"7\": 15, \"4\": 17, \"9\": 5}, \"5\": {\"4\": 13, \"15\": 27, \"3\": 29, \"9\": 28, \"2\": 27, \"6\": 3, \"14\": 18, \"5\": 33, \"8\": 10, \"1\": 34, \"7\": 11, \"12\": 2, \"11\": 2, \"13\": 2, \"0\": 1}, \"2\": {\"15\": 29, \"4\": 21, \"9\": 30, \"3\": 39, \"6\": 5, \"2\": 30, \"1\": 23, \"14\": 8, \"5\": 27, \"7\": 18, \"8\": 3, \"13\": 4, \"10\": 1, \"12\": 2}, \"12\": {\"6\": 19, \"10\": 39, \"12\": 54, \"13\": 49, \"9\": 5, \"4\": 25, \"2\": 6, \"7\": 17, \"15\": 15, \"3\": 11}, \"9\": {\"2\": 32, \"15\": 27, \"3\": 30, \"6\": 9, \"12\": 6, \"13\": 11, \"1\": 18, \"10\": 1, \"7\": 23, \"9\": 35, \"5\": 23, \"4\": 21, \"14\": 2, \"8\": 2}, \"1\": {\"5\": 31, \"2\": 34, \"3\": 25, \"7\": 10, \"9\": 21, \"8\": 20, \"1\": 52, \"0\": 7, \"14\": 11, \"4\": 6, \"15\": 21, \"11\": 1, \"10\": 1}, \"11\": {\"14\": 19, \"11\": 92, \"8\": 33, \"0\": 84, \"1\": 10, \"5\": 1, \"2\": 1}, \"13\": {\"13\": 64, \"15\": 20, \"7\": 19, \"4\": 16, \"12\": 45, \"5\": 5, \"10\": 34, \"2\": 4, \"6\": 18, \"3\": 13, \"9\": 2}}, \"ORACLE.run2_38\": {\"5\": {\"12\": 39, \"0\": 3, \"2\": 48, \"14\": 19, \"8\": 36, \"9\": 24, \"15\": 3, \"5\": 60, \"7\": 5, \"1\": 3}, \"8\": {\"9\": 28, \"0\": 17, \"2\": 53, \"7\": 23, \"14\": 35, \"5\": 23, \"8\": 54, \"4\": 1, \"12\": 6}, \"11\": {\"11\": 234, \"3\": 5, \"13\": 1}, \"1\": {\"1\": 110, \"15\": 69, \"6\": 49, \"5\": 4, \"12\": 6, \"9\": 1, \"2\": 1}, \"10\": {\"10\": 118, \"3\": 41, \"4\": 28, \"13\": 48, \"7\": 3, \"0\": 2}, \"15\": {\"15\": 79, \"1\": 77, \"6\": 70, \"12\": 7, \"9\": 1, \"5\": 6}, \"3\": {\"13\": 70, \"3\": 99, \"10\": 53, \"11\": 13, \"4\": 5}, \"7\": {\"14\": 59, \"2\": 10, \"7\": 68, \"0\": 61, \"8\": 24, \"4\": 14, \"5\": 1, \"9\": 3}, \"4\": {\"0\": 20, \"4\": 123, \"7\": 30, \"10\": 37, \"3\": 5, \"13\": 5, \"14\": 17, \"8\": 3}, \"14\": {\"0\": 36, \"14\": 43, \"7\": 37, \"4\": 14, \"5\": 20, \"2\": 26, \"8\": 39, \"12\": 12, \"9\": 9, \"10\": 4}, \"9\": {\"9\": 90, \"8\": 55, \"2\": 45, \"0\": 4, \"14\": 11, \"5\": 32, \"7\": 3}, \"12\": {\"12\": 110, \"2\": 32, \"5\": 45, \"14\": 19, \"8\": 20, \"9\": 10, \"15\": 3, \"1\": 1}, \"6\": {\"15\": 68, \"1\": 58, \"6\": 114}, \"2\": {\"5\": 39, \"0\": 15, \"14\": 38, \"2\": 46, \"8\": 54, \"12\": 11, \"9\": 27, \"7\": 10}, \"0\": {\"0\": 58, \"4\": 16, \"7\": 69, \"14\": 37, \"8\": 35, \"5\": 3, \"9\": 9, \"2\": 12, \"10\": 1}, \"13\": {\"3\": 100, \"13\": 91, \"10\": 47, \"11\": 1, \"4\": 1}}, \"ORACLE.run2_8\": {\"9\": {\"9\": 183, \"3\": 33, \"2\": 9, \"15\": 14, \"12\": 1}, \"10\": {\"5\": 61, \"13\": 59, \"10\": 60, \"7\": 33, \"4\": 15, \"11\": 1, \"1\": 11}, \"13\": {\"13\": 92, \"10\": 70, \"5\": 30, \"7\": 30, \"1\": 5, \"4\": 6, \"11\": 2, \"2\": 1, \"12\": 4}, \"0\": {\"0\": 236, \"14\": 3, \"6\": 1}, \"1\": {\"4\": 42, \"1\": 46, \"8\": 21, \"13\": 9, \"7\": 42, \"5\": 25, \"11\": 22, \"6\": 11, \"10\": 7, \"14\": 15}, \"15\": {\"2\": 54, \"12\": 42, \"15\": 131, \"9\": 10, \"3\": 3}, \"5\": {\"5\": 60, \"7\": 46, \"4\": 26, \"10\": 46, \"13\": 31, \"1\": 20, \"11\": 6, \"14\": 3, \"6\": 1, \"2\": 1}, \"3\": {\"3\": 200, \"9\": 40}, \"6\": {\"14\": 62, \"8\": 61, \"6\": 70, \"1\": 10, \"11\": 26, \"4\": 10, \"7\": 1}, \"11\": {\"4\": 12, \"14\": 25, \"13\": 17, \"11\": 23, \"8\": 53, \"6\": 37, \"10\": 16, \"5\": 17, \"1\": 13, \"7\": 25, \"12\": 2}, \"8\": {\"8\": 63, \"11\": 40, \"6\": 61, \"14\": 45, \"5\": 2, \"1\": 21, \"7\": 1, \"4\": 7}, \"4\": {\"10\": 9, \"7\": 36, \"6\": 11, \"4\": 73, \"11\": 33, \"5\": 13, \"1\": 41, \"13\": 6, \"14\": 10, \"8\": 8}, \"12\": {\"12\": 102, \"2\": 82, \"15\": 54, \"13\": 1, \"10\": 1}, \"14\": {\"14\": 73, \"11\": 17, \"6\": 81, \"1\": 17, \"4\": 14, \"8\": 37, \"5\": 1}, \"2\": {\"12\": 72, \"2\": 109, \"15\": 55, \"9\": 2, \"13\": 2}, \"7\": {\"13\": 29, \"1\": 38, \"4\": 35, \"7\": 56, \"11\": 14, \"5\": 41, \"10\": 25, \"6\": 1, \"14\": 1}}, \"ORACLE.run2_50\": {\"7\": {\"3\": 8, \"5\": 39, \"9\": 38, \"15\": 19, \"7\": 62, \"4\": 62, \"6\": 10, \"12\": 2}, \"3\": {\"6\": 43, \"12\": 22, \"3\": 49, \"11\": 14, \"15\": 39, \"5\": 31, \"9\": 17, \"7\": 11, \"4\": 14}, \"8\": {\"1\": 87, \"8\": 70, \"13\": 54, \"10\": 14, \"11\": 13, \"0\": 1, \"6\": 1}, \"2\": {\"2\": 96, \"0\": 56, \"14\": 69, \"1\": 1, \"10\": 18}, \"14\": {\"0\": 45, \"14\": 96, \"2\": 86, \"10\": 13}, \"4\": {\"4\": 60, \"5\": 39, \"7\": 48, \"15\": 31, \"9\": 32, \"6\": 16, \"3\": 11, \"12\": 3}, \"6\": {\"5\": 25, \"3\": 49, \"15\": 39, \"12\": 29, \"11\": 12, \"9\": 18, \"6\": 44, \"4\": 16, \"7\": 7, \"1\": 1}, \"15\": {\"9\": 35, \"6\": 32, \"4\": 33, \"3\": 29, \"12\": 12, \"15\": 38, \"7\": 15, \"5\": 44, \"11\": 2}, \"10\": {\"10\": 79, \"8\": 27, \"2\": 21, \"13\": 18, \"0\": 57, \"1\": 13, \"14\": 25}, \"11\": {\"12\": 21, \"1\": 33, \"11\": 72, \"3\": 39, \"6\": 33, \"13\": 20, \"8\": 11, \"5\": 5, \"15\": 6}, \"13\": {\"8\": 58, \"13\": 66, \"1\": 66, \"10\": 17, \"3\": 4, \"11\": 28, \"12\": 1}, \"9\": {\"9\": 47, \"5\": 36, \"3\": 11, \"12\": 24, \"15\": 34, \"4\": 40, \"6\": 19, \"7\": 28, \"11\": 1}, \"0\": {\"10\": 61, \"0\": 72, \"2\": 49, \"14\": 50, \"8\": 6, \"1\": 2}, \"1\": {\"8\": 55, \"11\": 29, \"1\": 73, \"13\": 71, \"10\": 9, \"3\": 3}, \"12\": {\"12\": 55, \"6\": 44, \"3\": 31, \"5\": 19, \"15\": 32, \"9\": 37, \"7\": 4, \"4\": 5, \"11\": 13}, \"5\": {\"6\": 34, \"3\": 26, \"7\": 30, \"4\": 38, \"12\": 8, \"5\": 39, \"9\": 31, \"15\": 33, \"11\": 1}}, \"ORACLE.run2_32\": {\"8\": {\"8\": 51, \"0\": 49, \"2\": 28, \"7\": 33, \"14\": 44, \"4\": 11, \"3\": 2, \"15\": 17, \"1\": 1, \"11\": 4}, \"14\": {\"14\": 44, \"0\": 42, \"4\": 19, \"1\": 4, \"8\": 40, \"2\": 37, \"7\": 39, \"15\": 7, \"11\": 4, \"5\": 3, \"3\": 1}, \"2\": {\"7\": 50, \"8\": 36, \"2\": 60, \"0\": 36, \"14\": 48, \"5\": 2, \"4\": 3, \"3\": 1, \"15\": 3, \"11\": 1}, \"0\": {\"14\": 37, \"0\": 52, \"2\": 33, \"1\": 3, \"7\": 31, \"8\": 37, \"11\": 8, \"4\": 34, \"3\": 1, \"15\": 4}, \"1\": {\"9\": 27, \"4\": 37, \"13\": 27, \"1\": 70, \"3\": 39, \"0\": 8, \"11\": 25, \"14\": 4, \"8\": 1, \"2\": 2}, \"10\": {\"6\": 20, \"12\": 93, \"10\": 122, \"9\": 3, \"13\": 2}, \"11\": {\"4\": 43, \"9\": 27, \"8\": 6, \"11\": 51, \"3\": 27, \"13\": 34, \"0\": 15, \"14\": 10, \"7\": 1, \"1\": 19, \"10\": 1, \"12\": 5, \"2\": 1}, \"5\": {\"5\": 149, \"14\": 5, \"15\": 58, \"7\": 16, \"2\": 10, \"0\": 2}, \"15\": {\"15\": 118, \"2\": 12, \"8\": 15, \"7\": 31, \"14\": 11, \"5\": 45, \"0\": 8}, \"3\": {\"3\": 67, \"13\": 37, \"11\": 37, \"1\": 33, \"9\": 17, \"4\": 42, \"8\": 2, \"0\": 4, \"14\": 1}, \"12\": {\"13\": 11, \"9\": 22, \"12\": 126, \"10\": 74, \"1\": 1, \"11\": 4, \"6\": 2}, \"7\": {\"8\": 33, \"2\": 59, \"15\": 12, \"7\": 69, \"14\": 34, \"0\": 23, \"5\": 9, \"4\": 1}, \"13\": {\"1\": 29, \"4\": 17, \"13\": 66, \"11\": 27, \"9\": 69, \"3\": 26, \"12\": 6}, \"6\": {\"6\": 203, \"10\": 34, \"12\": 3}, \"4\": {\"14\": 10, \"11\": 44, \"4\": 63, \"9\": 10, \"1\": 31, \"13\": 12, \"3\": 35, \"2\": 6, \"0\": 18, \"8\": 10, \"7\": 1}, \"9\": {\"1\": 37, \"13\": 58, \"11\": 32, \"12\": 13, \"9\": 74, \"3\": 19, \"4\": 7}}, \"ORACLE.run2_26\": {\"4\": {\"7\": 22, \"4\": 155, \"3\": 38, \"12\": 1, \"8\": 3, \"13\": 20, \"2\": 1}, \"12\": {\"8\": 35, \"13\": 31, \"3\": 15, \"7\": 26, \"12\": 41, \"9\": 25, \"2\": 30, \"0\": 9, \"15\": 12, \"14\": 6, \"10\": 9, \"6\": 1}, \"10\": {\"10\": 31, \"0\": 32, \"15\": 28, \"8\": 21, \"6\": 20, \"14\": 28, \"3\": 2, \"5\": 19, \"12\": 8, \"9\": 14, \"1\": 8, \"7\": 2, \"2\": 16, \"11\": 7, \"13\": 4}, \"0\": {\"15\": 37, \"8\": 24, \"14\": 20, \"6\": 13, \"10\": 36, \"9\": 17, \"7\": 1, \"0\": 43, \"2\": 8, \"11\": 11, \"1\": 4, \"5\": 8, \"12\": 13, \"3\": 1, \"13\": 4}, \"13\": {\"7\": 27, \"4\": 1, \"3\": 33, \"9\": 27, \"12\": 41, \"15\": 5, \"8\": 26, \"2\": 26, \"13\": 43, \"10\": 7, \"0\": 4}, \"9\": {\"12\": 25, \"15\": 15, \"14\": 6, \"3\": 17, \"13\": 25, \"2\": 41, \"8\": 29, \"9\": 30, \"10\": 15, \"7\": 19, \"0\": 18}, \"3\": {\"7\": 54, \"8\": 11, \"3\": 58, \"13\": 38, \"12\": 22, \"10\": 2, \"9\": 18, \"0\": 2, \"2\": 25, \"4\": 10}, \"2\": {\"2\": 42, \"15\": 12, \"8\": 37, \"13\": 17, \"10\": 18, \"12\": 36, \"9\": 24, \"3\": 15, \"0\": 23, \"7\": 13, \"14\": 2, \"11\": 1}, \"5\": {\"6\": 51, \"11\": 42, \"15\": 10, \"14\": 30, \"5\": 44, \"0\": 10, \"8\": 3, \"1\": 37, \"10\": 10, \"12\": 2, \"2\": 1}, \"14\": {\"0\": 26, \"6\": 23, \"14\": 43, \"15\": 25, \"10\": 35, \"5\": 29, \"11\": 21, \"1\": 22, \"9\": 7, \"12\": 4, \"2\": 2, \"8\": 3}, \"8\": {\"8\": 32, \"12\": 34, \"15\": 24, \"14\": 9, \"3\": 14, \"9\": 27, \"2\": 30, \"0\": 19, \"13\": 16, \"10\": 17, \"7\": 17, \"11\": 1}, \"7\": {\"2\": 27, \"13\": 34, \"7\": 40, \"8\": 34, \"12\": 45, \"3\": 35, \"9\": 15, \"4\": 3, \"10\": 3, \"15\": 4}, \"6\": {\"1\": 44, \"11\": 45, \"10\": 17, \"0\": 10, \"15\": 10, \"5\": 41, \"6\": 38, \"14\": 32, \"8\": 2, \"12\": 1}, \"11\": {\"6\": 51, \"15\": 13, \"5\": 40, \"1\": 18, \"14\": 22, \"11\": 65, \"2\": 1, \"10\": 15, \"8\": 3, \"0\": 9, \"9\": 1, \"12\": 2}, \"15\": {\"14\": 27, \"8\": 24, \"13\": 7, \"15\": 35, \"10\": 28, \"6\": 6, \"11\": 9, \"0\": 33, \"1\": 5, \"9\": 21, \"2\": 18, \"12\": 18, \"5\": 4, \"7\": 5}, \"1\": {\"1\": 59, \"14\": 36, \"5\": 54, \"10\": 10, \"6\": 46, \"11\": 29, \"0\": 6}}, \"ORACLE.run2_44\": {\"12\": {\"12\": 110, \"3\": 111, \"1\": 12, \"2\": 7}, \"7\": {\"6\": 23, \"4\": 32, \"9\": 61, \"10\": 19, \"7\": 64, \"14\": 35, \"5\": 2, \"13\": 3, \"8\": 1}, \"5\": {\"15\": 42, \"5\": 42, \"8\": 44, \"1\": 17, \"2\": 18, \"0\": 30, \"14\": 22, \"9\": 10, \"7\": 5, \"10\": 1, \"4\": 9}, \"15\": {\"15\": 57, \"3\": 2, \"8\": 43, \"2\": 14, \"0\": 50, \"5\": 33, \"1\": 28, \"9\": 2, \"14\": 5, \"7\": 3, \"4\": 2, \"12\": 1}, \"8\": {\"4\": 13, \"8\": 50, \"0\": 53, \"15\": 51, \"5\": 34, \"9\": 2, \"1\": 9, \"14\": 15, \"7\": 2, \"2\": 10, \"3\": 1}, \"2\": {\"1\": 54, \"5\": 31, \"2\": 80, \"8\": 14, \"0\": 28, \"12\": 2, \"3\": 5, \"15\": 24, \"14\": 2}, \"13\": {\"10\": 58, \"4\": 6, \"13\": 87, \"7\": 16, \"6\": 60, \"9\": 8, \"11\": 4, \"14\": 1}, \"4\": {\"9\": 46, \"8\": 20, \"5\": 8, \"13\": 4, \"14\": 45, \"7\": 35, \"10\": 10, \"15\": 5, \"4\": 54, \"6\": 13}, \"0\": {\"5\": 32, \"0\": 58, \"2\": 23, \"8\": 49, \"15\": 39, \"1\": 30, \"9\": 2, \"3\": 2, \"14\": 3, \"4\": 2}, \"6\": {\"13\": 44, \"6\": 82, \"9\": 13, \"4\": 10, \"10\": 53, \"7\": 33, \"14\": 5}, \"9\": {\"9\": 59, \"14\": 50, \"7\": 44, \"10\": 16, \"6\": 19, \"5\": 5, \"4\": 36, \"8\": 5, \"0\": 3, \"13\": 2, \"15\": 1}, \"11\": {\"11\": 240}, \"10\": {\"10\": 67, \"6\": 50, \"13\": 62, \"7\": 24, \"14\": 8, \"9\": 14, \"15\": 1, \"4\": 13, \"5\": 1}, \"14\": {\"6\": 5, \"8\": 20, \"9\": 29, \"15\": 12, \"14\": 56, \"4\": 53, \"7\": 29, \"5\": 16, \"13\": 5, \"1\": 1, \"10\": 7, \"0\": 6, \"2\": 1}, \"1\": {\"1\": 88, \"0\": 29, \"5\": 12, \"2\": 58, \"3\": 8, \"15\": 24, \"8\": 19, \"12\": 2}, \"3\": {\"3\": 105, \"12\": 107, \"1\": 15, \"15\": 1, \"2\": 10, \"0\": 2}}}, \"per_domain_accuracy\": {\"W_A_3\": {\"accuracy\": 0.9759114583333334, \"source?\": true}, \"C_A_3\": {\"accuracy\": 0.9984375, \"source?\": true}, \"C_A_4\": {\"accuracy\": 0.9921875, \"source?\": true}, \"C_A_5\": {\"accuracy\": 0.996875, \"source?\": true}, \"C_A_1\": {\"accuracy\": 0.9984375, \"source?\": true}, \"W_A_4\": {\"accuracy\": 0.9505208333333334, \"source?\": true}, \"W_A_1\": {\"accuracy\": 0.9856770833333334, \"source?\": true}, \"C_A_2\": {\"accuracy\": 0.9984375, \"source?\": true}, \"W_A_2\": {\"accuracy\": 0.9635416666666666, \"source?\": true}, \"ORACLE.run2_14\": {\"accuracy\": 0.4010416666666667, \"source?\": false}, \"ORACLE.run2_20\": {\"accuracy\": 0.20911458333333333, \"source?\": false}, \"ORACLE.run2_38\": {\"accuracy\": 0.38984375, \"source?\": false}, \"ORACLE.run2_8\": {\"accuracy\": 0.41067708333333336, \"source?\": false}, \"ORACLE.run2_50\": {\"accuracy\": 0.26510416666666664, \"source?\": false}, \"ORACLE.run2_32\": {\"accuracy\": 0.3606770833333333, \"source?\": false}, \"ORACLE.run2_26\": {\"accuracy\": 0.20807291666666666, \"source?\": false}, \"ORACLE.run2_44\": {\"accuracy\": 0.33828125, \"source?\": false}}}, \"history\": {\"epoch_indices\": [1, 2, 3, 4, 5, 6, 7, 8, 9, 10, 11, 12, 13, 14, 15], \"train_label_loss\": [0.26764691569220883, 0.16478200553560374, 0.12942146070585694, 0.10840452931198133, 0.09893248519111852, 0.08850453522407223, 0.07956636469450734, 0.07176162145345422, 0.06560778043185626, 0.060640017183231754, 0.05352726942488691, 0.046917317306847846, 0.04103983768738854, 0.03484357332655874, 0.032431116193124415], \"source_val_label_loss\": [0.2221117466688156, 0.14436759054660797, 0.11454053223133087, 0.12508974969387054, 0.1127278059720993, 0.10291402041912079, 0.10454416275024414, 0.10957765579223633, 0.11046236753463745, 0.10689020156860352, 0.09726189076900482, 0.10555538535118103, 0.11040081083774567, 0.11445741355419159, 0.12297545373439789], \"target_val_label_loss\": [2.6015512943267822, 2.404672861099243, 2.3726766109466553, 2.2924036979675293, 2.337980031967163, 2.311683416366577, 2.1974072456359863, 2.2389512062072754, 2.2627456188201904, 2.1954739093780518, 2.0876195430755615, 2.1483407020568848, 2.299694538116455, 2.3589413166046143, 2.248824119567871], \"source_val_acc_label\": [0.9599743150684932, 0.971318493150685, 0.975492294520548, 0.976027397260274, 0.9777397260273972, 0.9798801369863014, 0.9798801369863014, 0.978595890410959, 0.979130993150685, 0.978595890410959, 0.9784888698630136, 0.9794520547945206, 0.9787029109589042, 0.9793450342465754, 0.978167808219178], \"target_val_acc_label\": [0.4842447916666667, 0.42333984375, 0.41751302083333336, 0.47646484375, 0.40927734375, 0.33245442708333334, 0.3558268229166667, 0.32122395833333334, 0.29977213541666664, 0.293359375, 0.3228515625, 0.28753255208333334, 0.25169270833333335, 0.2455078125, 0.25693359375]}, \"dataset_metrics\": {\"source\": {\"train\": {\"n_unique_x\": 56700, \"n_unique_y\": 130, \"n_batch/episode\": 2082}, \"val\": {\"n_unique_x\": 12132, \"n_unique_y\": 130, \"n_batch/episode\": 292}, \"test\": {\"n_unique_x\": 12132, \"n_unique_y\": 130, \"n_batch/episode\": 292}}, \"target\": {\"train\": {\"n_unique_x\": 179200, \"n_unique_y\": 16, \"n_batch/episode\": 6720}, \"val\": {\"n_unique_x\": 38400, \"n_unique_y\": 16, \"n_batch/episode\": 960}, \"test\": {\"n_unique_x\": 38400, \"n_unique_y\": 16, \"n_batch/episode\": 960}}}}'"
      ]
     },
     "execution_count": 29,
     "metadata": {},
     "output_type": "execute_result"
    }
   ],
   "source": [
    "json.dumps(experiment)"
   ]
  }
 ],
 "metadata": {
  "celltoolbar": "Tags",
  "kernelspec": {
   "display_name": "Python 3 (ipykernel)",
   "language": "python",
   "name": "python3"
  },
  "language_info": {
   "codemirror_mode": {
    "name": "ipython",
    "version": 3
   },
   "file_extension": ".py",
   "mimetype": "text/x-python",
   "name": "python",
   "nbconvert_exporter": "python",
   "pygments_lexer": "ipython3",
   "version": "3.8.10"
  },
  "papermill": {
   "default_parameters": {},
   "duration": 995.731736,
   "end_time": "2022-03-17T04:43:19.399809",
   "environment_variables": {},
   "exception": null,
   "input_path": "/mnt/wd500GB/CSC500/csc500-main/csc500-notebooks/templates/tl_ptn_template.ipynb",
   "output_path": "trial.ipynb",
   "parameters": {
    "parameters": {
     "BEST_MODEL_PATH": "./best_model.pth",
     "NUM_LOGS_PER_EPOCH": 10,
     "criteria_for_best": "target_loss",
     "dataset_seed": 1337,
     "datasets": [
      {
       "domain_prefix": "C_A_",
       "domains": [
        1,
        2,
        3,
        4,
        5
       ],
       "episode_transforms": [],
       "labels": [
        "1-10.",
        "1-11.",
        "1-15.",
        "1-16.",
        "1-17.",
        "1-18.",
        "1-19.",
        "10-4.",
        "10-7.",
        "11-1.",
        "11-14.",
        "11-17.",
        "11-20.",
        "11-7.",
        "13-20.",
        "13-8.",
        "14-10.",
        "14-11.",
        "14-14.",
        "14-7.",
        "15-1.",
        "15-20.",
        "16-1.",
        "16-16.",
        "17-10.",
        "17-11.",
        "17-2.",
        "19-1.",
        "19-16.",
        "19-19.",
        "19-20.",
        "19-3.",
        "2-10.",
        "2-11.",
        "2-17.",
        "2-18.",
        "2-20.",
        "2-3.",
        "2-4.",
        "2-5.",
        "2-6.",
        "2-7.",
        "2-8.",
        "3-13.",
        "3-18.",
        "3-3.",
        "4-1.",
        "4-10.",
        "4-11.",
        "4-19.",
        "5-5.",
        "6-15.",
        "7-10.",
        "7-14.",
        "8-18.",
        "8-20.",
        "8-3.",
        "8-8."
       ],
       "num_examples_per_domain_per_label": 100,
       "pickle_path": "/mnt/wd500GB/CSC500/csc500-main/datasets/cores.stratified_ds.2022A.pkl",
       "source_or_target_dataset": "source",
       "x_transforms": []
      },
      {
       "domain_prefix": "W_A_",
       "domains": [
        1,
        2,
        3,
        4
       ],
       "episode_transforms": [],
       "labels": [
        "1-10",
        "1-12",
        "1-14",
        "1-16",
        "1-18",
        "1-19",
        "1-8",
        "10-11",
        "10-17",
        "10-4",
        "10-7",
        "11-1",
        "11-10",
        "11-19",
        "11-20",
        "11-4",
        "11-7",
        "12-19",
        "12-20",
        "12-7",
        "13-14",
        "13-18",
        "13-19",
        "13-20",
        "13-3",
        "13-7",
        "14-10",
        "14-11",
        "14-12",
        "14-13",
        "14-14",
        "14-19",
        "14-20",
        "14-7",
        "14-8",
        "14-9",
        "15-1",
        "15-19",
        "15-6",
        "16-1",
        "16-16",
        "16-19",
        "16-20",
        "17-10",
        "17-11",
        "18-1",
        "18-10",
        "18-11",
        "18-12",
        "18-13",
        "18-14",
        "18-15",
        "18-16",
        "18-17",
        "18-19",
        "18-2",
        "18-20",
        "18-4",
        "18-5",
        "18-7",
        "18-8",
        "18-9",
        "19-1",
        "19-10",
        "19-11",
        "19-12",
        "19-13",
        "19-14",
        "19-15",
        "19-19",
        "19-2",
        "19-20",
        "19-3",
        "19-4",
        "19-6",
        "19-7",
        "19-8",
        "19-9",
        "2-1",
        "2-13",
        "2-15",
        "2-3",
        "2-4",
        "2-5",
        "2-6",
        "2-7",
        "2-8",
        "20-1",
        "20-12",
        "20-14",
        "20-15",
        "20-16",
        "20-18",
        "20-19",
        "20-20",
        "20-3",
        "20-4",
        "20-5",
        "20-7",
        "20-8",
        "3-1",
        "3-13",
        "3-18",
        "3-2",
        "3-8",
        "4-1",
        "4-10",
        "4-11",
        "5-1",
        "5-5",
        "6-1",
        "6-15",
        "6-6",
        "7-10",
        "7-11",
        "7-12",
        "7-13",
        "7-14",
        "7-7",
        "7-8",
        "7-9",
        "8-1",
        "8-13",
        "8-14",
        "8-18",
        "8-20",
        "8-3",
        "8-8",
        "9-1",
        "9-7"
       ],
       "num_examples_per_domain_per_label": 100,
       "pickle_path": "/mnt/wd500GB/CSC500/csc500-main/datasets/wisig.node3-19.stratified_ds.2022A.pkl",
       "source_or_target_dataset": "source",
       "x_transforms": []
      },
      {
       "domain_prefix": "ORACLE.run2_",
       "domains": [
        32,
        38,
        8,
        44,
        14,
        50,
        20,
        26
       ],
       "episode_transforms": [],
       "labels": [
        "3123D52",
        "3123D65",
        "3123D79",
        "3123D80",
        "3123D54",
        "3123D70",
        "3123D7B",
        "3123D89",
        "3123D58",
        "3123D76",
        "3123D7D",
        "3123EFE",
        "3123D64",
        "3123D78",
        "3123D7E",
        "3124E4A"
       ],
       "num_examples_per_domain_per_label": 2000,
       "pickle_path": "/mnt/wd500GB/CSC500/csc500-main/datasets/oracle.Run2_framed_2000Examples_stratified_ds.2022A.pkl",
       "source_or_target_dataset": "target",
       "x_transforms": []
      }
     ],
     "device": "cuda",
     "experiment_name": "cores+wisig -> oracle.run2.framed",
     "lr": 0.001,
     "n_epoch": 50,
     "n_query": 2,
     "n_shot": 3,
     "n_way": 16,
     "patience": 3,
     "seed": 1337,
     "test_k_factor": 2,
     "torch_default_dtype": "torch.float32",
     "train_k_factor": 3,
     "val_k_factor": 2,
     "x_net": [
      {
       "class": "nnReshape",
       "kargs": {
        "shape": [
         -1,
         1,
         2,
         256
        ]
       }
      },
      {
       "class": "Conv2d",
       "kargs": {
        "bias": false,
        "in_channels": 1,
        "kernel_size": [
         1,
         7
        ],
        "out_channels": 256,
        "padding": [
         0,
         3
        ]
       }
      },
      {
       "class": "ReLU",
       "kargs": {
        "inplace": true
       }
      },
      {
       "class": "BatchNorm2d",
       "kargs": {
        "num_features": 256
       }
      },
      {
       "class": "Conv2d",
       "kargs": {
        "bias": true,
        "in_channels": 256,
        "kernel_size": [
         2,
         7
        ],
        "out_channels": 80,
        "padding": [
         0,
         3
        ]
       }
      },
      {
       "class": "ReLU",
       "kargs": {
        "inplace": true
       }
      },
      {
       "class": "BatchNorm2d",
       "kargs": {
        "num_features": 80
       }
      },
      {
       "class": "Flatten",
       "kargs": {}
      },
      {
       "class": "Linear",
       "kargs": {
        "in_features": 20480,
        "out_features": 256
       }
      },
      {
       "class": "ReLU",
       "kargs": {
        "inplace": true
       }
      },
      {
       "class": "BatchNorm1d",
       "kargs": {
        "num_features": 256
       }
      },
      {
       "class": "Linear",
       "kargs": {
        "in_features": 256,
        "out_features": 256
       }
      }
     ]
    }
   },
   "start_time": "2022-03-17T04:26:43.668073",
   "version": "2.3.4"
  }
 },
 "nbformat": 4,
 "nbformat_minor": 5
}