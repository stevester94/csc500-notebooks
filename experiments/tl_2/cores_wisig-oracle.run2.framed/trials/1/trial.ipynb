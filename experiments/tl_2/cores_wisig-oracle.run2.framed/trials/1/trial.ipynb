{
 "cells": [
  {
   "cell_type": "markdown",
   "id": "9fea5f46",
   "metadata": {
    "papermill": {
     "duration": 0.017796,
     "end_time": "2022-03-17T04:17:59.856560",
     "exception": false,
     "start_time": "2022-03-17T04:17:59.838764",
     "status": "completed"
    },
    "tags": []
   },
   "source": [
    "# Transfer Learning Template"
   ]
  },
  {
   "cell_type": "code",
   "execution_count": 1,
   "id": "0902182a",
   "metadata": {
    "execution": {
     "iopub.execute_input": "2022-03-17T04:17:59.895719Z",
     "iopub.status.busy": "2022-03-17T04:17:59.895422Z",
     "iopub.status.idle": "2022-03-17T04:18:00.794026Z",
     "shell.execute_reply": "2022-03-17T04:18:00.793724Z"
    },
    "papermill": {
     "duration": 0.924671,
     "end_time": "2022-03-17T04:18:00.794101",
     "exception": false,
     "start_time": "2022-03-17T04:17:59.869430",
     "status": "completed"
    },
    "tags": []
   },
   "outputs": [],
   "source": [
    "%load_ext autoreload\n",
    "%autoreload 2\n",
    "%matplotlib inline\n",
    "\n",
    "    \n",
    "import os, json, sys, time, random\n",
    "import numpy as np\n",
    "import torch\n",
    "from torch.optim import Adam\n",
    "from  easydict import EasyDict\n",
    "import matplotlib.pyplot as plt\n",
    "\n",
    "from steves_models.steves_ptn import Steves_Prototypical_Network\n",
    "\n",
    "from steves_utils.lazy_iterable_wrapper import Lazy_Iterable_Wrapper\n",
    "from steves_utils.iterable_aggregator import Iterable_Aggregator\n",
    "from steves_utils.ptn_train_eval_test_jig import  PTN_Train_Eval_Test_Jig\n",
    "from steves_utils.torch_sequential_builder import build_sequential\n",
    "from steves_utils.torch_utils import get_dataset_metrics, ptn_confusion_by_domain_over_dataloader\n",
    "from steves_utils.utils_v2 import (per_domain_accuracy_from_confusion, get_datasets_base_path)\n",
    "from steves_utils.PTN.utils import independent_accuracy_assesment\n",
    "\n",
    "from torch.utils.data import DataLoader\n",
    "\n",
    "from steves_utils.stratified_dataset.episodic_accessor import Episodic_Accessor_Factory\n",
    "\n",
    "from steves_utils.ptn_do_report import (\n",
    "    get_loss_curve,\n",
    "    get_results_table,\n",
    "    get_parameters_table,\n",
    "    get_domain_accuracies,\n",
    ")\n",
    "\n",
    "from steves_utils.transforms import get_chained_transform"
   ]
  },
  {
   "cell_type": "markdown",
   "id": "41c840b4",
   "metadata": {
    "papermill": {
     "duration": 0.013354,
     "end_time": "2022-03-17T04:18:00.821481",
     "exception": false,
     "start_time": "2022-03-17T04:18:00.808127",
     "status": "completed"
    },
    "tags": []
   },
   "source": [
    "# Allowed Parameters\n",
    "These are allowed parameters, not defaults\n",
    "Each of these values need to be present in the injected parameters (the notebook will raise an exception if they are not present)\n",
    "\n",
    "Papermill uses the cell tag \"parameters\" to inject the real parameters below this cell.\n",
    "Enable tags to see what I mean"
   ]
  },
  {
   "cell_type": "code",
   "execution_count": 2,
   "id": "fd44eb83",
   "metadata": {
    "execution": {
     "iopub.execute_input": "2022-03-17T04:18:00.850882Z",
     "iopub.status.busy": "2022-03-17T04:18:00.850451Z",
     "iopub.status.idle": "2022-03-17T04:18:00.862894Z",
     "shell.execute_reply": "2022-03-17T04:18:00.862642Z"
    },
    "papermill": {
     "duration": 0.027974,
     "end_time": "2022-03-17T04:18:00.862954",
     "exception": false,
     "start_time": "2022-03-17T04:18:00.834980",
     "status": "completed"
    },
    "tags": []
   },
   "outputs": [],
   "source": [
    "required_parameters = {\n",
    "    \"experiment_name\",\n",
    "    \"lr\",\n",
    "    \"device\",\n",
    "    \"seed\",\n",
    "    \"dataset_seed\",\n",
    "    \"n_shot\",\n",
    "    \"n_query\",\n",
    "    \"n_way\",\n",
    "    \"train_k_factor\",\n",
    "    \"val_k_factor\",\n",
    "    \"test_k_factor\",\n",
    "    \"n_epoch\",\n",
    "    \"patience\",\n",
    "    \"criteria_for_best\",\n",
    "    \"x_net\",\n",
    "    \"datasets\",\n",
    "    \"torch_default_dtype\",\n",
    "    \"NUM_LOGS_PER_EPOCH\",\n",
    "    \"BEST_MODEL_PATH\",\n",
    "}"
   ]
  },
  {
   "cell_type": "code",
   "execution_count": 3,
   "id": "fa3f0049",
   "metadata": {
    "execution": {
     "iopub.execute_input": "2022-03-17T04:18:00.899066Z",
     "iopub.status.busy": "2022-03-17T04:18:00.898603Z",
     "iopub.status.idle": "2022-03-17T04:18:00.911282Z",
     "shell.execute_reply": "2022-03-17T04:18:00.910984Z"
    },
    "papermill": {
     "duration": 0.032741,
     "end_time": "2022-03-17T04:18:00.911345",
     "exception": false,
     "start_time": "2022-03-17T04:18:00.878604",
     "status": "completed"
    },
    "tags": [
     "parameters"
    ]
   },
   "outputs": [],
   "source": [
    "from steves_utils.CORES.utils import (\n",
    "    ALL_NODES,\n",
    "    ALL_NODES_MINIMUM_1000_EXAMPLES,\n",
    "    ALL_DAYS\n",
    ")\n",
    "\n",
    "from steves_utils.ORACLE.utils_v2 import (\n",
    "    ALL_DISTANCES_FEET_NARROWED,\n",
    "    ALL_RUNS,\n",
    "    ALL_SERIAL_NUMBERS,\n",
    ")\n",
    "\n",
    "standalone_parameters = {}\n",
    "standalone_parameters[\"experiment_name\"] = \"STANDALONE PTN\"\n",
    "standalone_parameters[\"lr\"] = 0.001\n",
    "standalone_parameters[\"device\"] = \"cuda\"\n",
    "\n",
    "standalone_parameters[\"seed\"] = 1337\n",
    "standalone_parameters[\"dataset_seed\"] = 1337\n",
    "\n",
    "standalone_parameters[\"n_way\"] = 8\n",
    "standalone_parameters[\"n_shot\"] = 3\n",
    "standalone_parameters[\"n_query\"]  = 2\n",
    "standalone_parameters[\"train_k_factor\"] = 1\n",
    "standalone_parameters[\"val_k_factor\"] = 2\n",
    "standalone_parameters[\"test_k_factor\"] = 2\n",
    "\n",
    "\n",
    "standalone_parameters[\"n_epoch\"] = 50\n",
    "\n",
    "standalone_parameters[\"patience\"] = 10\n",
    "standalone_parameters[\"criteria_for_best\"] = \"source_loss\"\n",
    "\n",
    "standalone_parameters[\"datasets\"] = [\n",
    "    {\n",
    "        \"labels\": ALL_SERIAL_NUMBERS,\n",
    "        \"domains\": ALL_DISTANCES_FEET_NARROWED,\n",
    "        \"num_examples_per_domain_per_label\": 100,\n",
    "        \"pickle_path\": os.path.join(get_datasets_base_path(), \"oracle.Run1_framed_2000Examples_stratified_ds.2022A.pkl\"),\n",
    "        \"source_or_target_dataset\": \"source\",\n",
    "        \"x_transforms\": [\"unit_mag\", \"minus_two\"],\n",
    "        \"episode_transforms\": [],\n",
    "        \"domain_prefix\": \"ORACLE_\"\n",
    "    },\n",
    "    {\n",
    "        \"labels\": ALL_NODES,\n",
    "        \"domains\": ALL_DAYS,\n",
    "        \"num_examples_per_domain_per_label\": 100,\n",
    "        \"pickle_path\": os.path.join(get_datasets_base_path(), \"cores.stratified_ds.2022A.pkl\"),\n",
    "        \"source_or_target_dataset\": \"target\",\n",
    "        \"x_transforms\": [\"unit_power\", \"times_zero\"],\n",
    "        \"episode_transforms\": [],\n",
    "        \"domain_prefix\": \"CORES_\"\n",
    "    }   \n",
    "]\n",
    "\n",
    "standalone_parameters[\"torch_default_dtype\"] = \"torch.float32\" \n",
    "\n",
    "\n",
    "\n",
    "standalone_parameters[\"x_net\"] =     [\n",
    "    {\"class\": \"nnReshape\", \"kargs\": {\"shape\":[-1, 1, 2, 256]}},\n",
    "    {\"class\": \"Conv2d\", \"kargs\": { \"in_channels\":1, \"out_channels\":256, \"kernel_size\":(1,7), \"bias\":False, \"padding\":(0,3), },},\n",
    "    {\"class\": \"ReLU\", \"kargs\": {\"inplace\": True}},\n",
    "    {\"class\": \"BatchNorm2d\", \"kargs\": {\"num_features\":256}},\n",
    "\n",
    "    {\"class\": \"Conv2d\", \"kargs\": { \"in_channels\":256, \"out_channels\":80, \"kernel_size\":(2,7), \"bias\":True, \"padding\":(0,3), },},\n",
    "    {\"class\": \"ReLU\", \"kargs\": {\"inplace\": True}},\n",
    "    {\"class\": \"BatchNorm2d\", \"kargs\": {\"num_features\":80}},\n",
    "    {\"class\": \"Flatten\", \"kargs\": {}},\n",
    "\n",
    "    {\"class\": \"Linear\", \"kargs\": {\"in_features\": 80*256, \"out_features\": 256}}, # 80 units per IQ pair\n",
    "    {\"class\": \"ReLU\", \"kargs\": {\"inplace\": True}},\n",
    "    {\"class\": \"BatchNorm1d\", \"kargs\": {\"num_features\":256}},\n",
    "\n",
    "    {\"class\": \"Linear\", \"kargs\": {\"in_features\": 256, \"out_features\": 256}},\n",
    "]\n",
    "\n",
    "# Parameters relevant to results\n",
    "# These parameters will basically never need to change\n",
    "standalone_parameters[\"NUM_LOGS_PER_EPOCH\"] = 10\n",
    "standalone_parameters[\"BEST_MODEL_PATH\"] = \"./best_model.pth\"\n",
    "\n",
    "\n",
    "\n",
    "\n"
   ]
  },
  {
   "cell_type": "code",
   "execution_count": 4,
   "id": "9f6b0a64",
   "metadata": {
    "execution": {
     "iopub.execute_input": "2022-03-17T04:18:00.947357Z",
     "iopub.status.busy": "2022-03-17T04:18:00.946682Z",
     "iopub.status.idle": "2022-03-17T04:18:00.961000Z",
     "shell.execute_reply": "2022-03-17T04:18:00.960525Z"
    },
    "papermill": {
     "duration": 0.036261,
     "end_time": "2022-03-17T04:18:00.961105",
     "exception": false,
     "start_time": "2022-03-17T04:18:00.924844",
     "status": "completed"
    },
    "tags": [
     "injected-parameters"
    ]
   },
   "outputs": [],
   "source": [
    "# Parameters\n",
    "parameters = {\n",
    "    \"experiment_name\": \"cores+wisig -> oracle.run2.framed\",\n",
    "    \"device\": \"cuda\",\n",
    "    \"lr\": 0.001,\n",
    "    \"seed\": 1337,\n",
    "    \"dataset_seed\": 1337,\n",
    "    \"n_shot\": 3,\n",
    "    \"n_query\": 2,\n",
    "    \"train_k_factor\": 3,\n",
    "    \"val_k_factor\": 2,\n",
    "    \"test_k_factor\": 2,\n",
    "    \"torch_default_dtype\": \"torch.float32\",\n",
    "    \"n_epoch\": 50,\n",
    "    \"patience\": 3,\n",
    "    \"criteria_for_best\": \"target_loss\",\n",
    "    \"x_net\": [\n",
    "        {\"class\": \"nnReshape\", \"kargs\": {\"shape\": [-1, 1, 2, 256]}},\n",
    "        {\n",
    "            \"class\": \"Conv2d\",\n",
    "            \"kargs\": {\n",
    "                \"in_channels\": 1,\n",
    "                \"out_channels\": 256,\n",
    "                \"kernel_size\": [1, 7],\n",
    "                \"bias\": False,\n",
    "                \"padding\": [0, 3],\n",
    "            },\n",
    "        },\n",
    "        {\"class\": \"ReLU\", \"kargs\": {\"inplace\": True}},\n",
    "        {\"class\": \"BatchNorm2d\", \"kargs\": {\"num_features\": 256}},\n",
    "        {\n",
    "            \"class\": \"Conv2d\",\n",
    "            \"kargs\": {\n",
    "                \"in_channels\": 256,\n",
    "                \"out_channels\": 80,\n",
    "                \"kernel_size\": [2, 7],\n",
    "                \"bias\": True,\n",
    "                \"padding\": [0, 3],\n",
    "            },\n",
    "        },\n",
    "        {\"class\": \"ReLU\", \"kargs\": {\"inplace\": True}},\n",
    "        {\"class\": \"BatchNorm2d\", \"kargs\": {\"num_features\": 80}},\n",
    "        {\"class\": \"Flatten\", \"kargs\": {}},\n",
    "        {\"class\": \"Linear\", \"kargs\": {\"in_features\": 20480, \"out_features\": 256}},\n",
    "        {\"class\": \"ReLU\", \"kargs\": {\"inplace\": True}},\n",
    "        {\"class\": \"BatchNorm1d\", \"kargs\": {\"num_features\": 256}},\n",
    "        {\"class\": \"Linear\", \"kargs\": {\"in_features\": 256, \"out_features\": 256}},\n",
    "    ],\n",
    "    \"NUM_LOGS_PER_EPOCH\": 10,\n",
    "    \"BEST_MODEL_PATH\": \"./best_model.pth\",\n",
    "    \"n_way\": 16,\n",
    "    \"datasets\": [\n",
    "        {\n",
    "            \"labels\": [\n",
    "                \"1-10.\",\n",
    "                \"1-11.\",\n",
    "                \"1-15.\",\n",
    "                \"1-16.\",\n",
    "                \"1-17.\",\n",
    "                \"1-18.\",\n",
    "                \"1-19.\",\n",
    "                \"10-4.\",\n",
    "                \"10-7.\",\n",
    "                \"11-1.\",\n",
    "                \"11-14.\",\n",
    "                \"11-17.\",\n",
    "                \"11-20.\",\n",
    "                \"11-7.\",\n",
    "                \"13-20.\",\n",
    "                \"13-8.\",\n",
    "                \"14-10.\",\n",
    "                \"14-11.\",\n",
    "                \"14-14.\",\n",
    "                \"14-7.\",\n",
    "                \"15-1.\",\n",
    "                \"15-20.\",\n",
    "                \"16-1.\",\n",
    "                \"16-16.\",\n",
    "                \"17-10.\",\n",
    "                \"17-11.\",\n",
    "                \"17-2.\",\n",
    "                \"19-1.\",\n",
    "                \"19-16.\",\n",
    "                \"19-19.\",\n",
    "                \"19-20.\",\n",
    "                \"19-3.\",\n",
    "                \"2-10.\",\n",
    "                \"2-11.\",\n",
    "                \"2-17.\",\n",
    "                \"2-18.\",\n",
    "                \"2-20.\",\n",
    "                \"2-3.\",\n",
    "                \"2-4.\",\n",
    "                \"2-5.\",\n",
    "                \"2-6.\",\n",
    "                \"2-7.\",\n",
    "                \"2-8.\",\n",
    "                \"3-13.\",\n",
    "                \"3-18.\",\n",
    "                \"3-3.\",\n",
    "                \"4-1.\",\n",
    "                \"4-10.\",\n",
    "                \"4-11.\",\n",
    "                \"4-19.\",\n",
    "                \"5-5.\",\n",
    "                \"6-15.\",\n",
    "                \"7-10.\",\n",
    "                \"7-14.\",\n",
    "                \"8-18.\",\n",
    "                \"8-20.\",\n",
    "                \"8-3.\",\n",
    "                \"8-8.\",\n",
    "            ],\n",
    "            \"domains\": [1, 2, 3, 4, 5],\n",
    "            \"num_examples_per_domain_per_label\": 100,\n",
    "            \"pickle_path\": \"/mnt/wd500GB/CSC500/csc500-main/datasets/cores.stratified_ds.2022A.pkl\",\n",
    "            \"source_or_target_dataset\": \"source\",\n",
    "            \"x_transforms\": [\"unit_mag\"],\n",
    "            \"episode_transforms\": [],\n",
    "            \"domain_prefix\": \"C_A_\",\n",
    "        },\n",
    "        {\n",
    "            \"labels\": [\n",
    "                \"1-10\",\n",
    "                \"1-12\",\n",
    "                \"1-14\",\n",
    "                \"1-16\",\n",
    "                \"1-18\",\n",
    "                \"1-19\",\n",
    "                \"1-8\",\n",
    "                \"10-11\",\n",
    "                \"10-17\",\n",
    "                \"10-4\",\n",
    "                \"10-7\",\n",
    "                \"11-1\",\n",
    "                \"11-10\",\n",
    "                \"11-19\",\n",
    "                \"11-20\",\n",
    "                \"11-4\",\n",
    "                \"11-7\",\n",
    "                \"12-19\",\n",
    "                \"12-20\",\n",
    "                \"12-7\",\n",
    "                \"13-14\",\n",
    "                \"13-18\",\n",
    "                \"13-19\",\n",
    "                \"13-20\",\n",
    "                \"13-3\",\n",
    "                \"13-7\",\n",
    "                \"14-10\",\n",
    "                \"14-11\",\n",
    "                \"14-12\",\n",
    "                \"14-13\",\n",
    "                \"14-14\",\n",
    "                \"14-19\",\n",
    "                \"14-20\",\n",
    "                \"14-7\",\n",
    "                \"14-8\",\n",
    "                \"14-9\",\n",
    "                \"15-1\",\n",
    "                \"15-19\",\n",
    "                \"15-6\",\n",
    "                \"16-1\",\n",
    "                \"16-16\",\n",
    "                \"16-19\",\n",
    "                \"16-20\",\n",
    "                \"17-10\",\n",
    "                \"17-11\",\n",
    "                \"18-1\",\n",
    "                \"18-10\",\n",
    "                \"18-11\",\n",
    "                \"18-12\",\n",
    "                \"18-13\",\n",
    "                \"18-14\",\n",
    "                \"18-15\",\n",
    "                \"18-16\",\n",
    "                \"18-17\",\n",
    "                \"18-19\",\n",
    "                \"18-2\",\n",
    "                \"18-20\",\n",
    "                \"18-4\",\n",
    "                \"18-5\",\n",
    "                \"18-7\",\n",
    "                \"18-8\",\n",
    "                \"18-9\",\n",
    "                \"19-1\",\n",
    "                \"19-10\",\n",
    "                \"19-11\",\n",
    "                \"19-12\",\n",
    "                \"19-13\",\n",
    "                \"19-14\",\n",
    "                \"19-15\",\n",
    "                \"19-19\",\n",
    "                \"19-2\",\n",
    "                \"19-20\",\n",
    "                \"19-3\",\n",
    "                \"19-4\",\n",
    "                \"19-6\",\n",
    "                \"19-7\",\n",
    "                \"19-8\",\n",
    "                \"19-9\",\n",
    "                \"2-1\",\n",
    "                \"2-13\",\n",
    "                \"2-15\",\n",
    "                \"2-3\",\n",
    "                \"2-4\",\n",
    "                \"2-5\",\n",
    "                \"2-6\",\n",
    "                \"2-7\",\n",
    "                \"2-8\",\n",
    "                \"20-1\",\n",
    "                \"20-12\",\n",
    "                \"20-14\",\n",
    "                \"20-15\",\n",
    "                \"20-16\",\n",
    "                \"20-18\",\n",
    "                \"20-19\",\n",
    "                \"20-20\",\n",
    "                \"20-3\",\n",
    "                \"20-4\",\n",
    "                \"20-5\",\n",
    "                \"20-7\",\n",
    "                \"20-8\",\n",
    "                \"3-1\",\n",
    "                \"3-13\",\n",
    "                \"3-18\",\n",
    "                \"3-2\",\n",
    "                \"3-8\",\n",
    "                \"4-1\",\n",
    "                \"4-10\",\n",
    "                \"4-11\",\n",
    "                \"5-1\",\n",
    "                \"5-5\",\n",
    "                \"6-1\",\n",
    "                \"6-15\",\n",
    "                \"6-6\",\n",
    "                \"7-10\",\n",
    "                \"7-11\",\n",
    "                \"7-12\",\n",
    "                \"7-13\",\n",
    "                \"7-14\",\n",
    "                \"7-7\",\n",
    "                \"7-8\",\n",
    "                \"7-9\",\n",
    "                \"8-1\",\n",
    "                \"8-13\",\n",
    "                \"8-14\",\n",
    "                \"8-18\",\n",
    "                \"8-20\",\n",
    "                \"8-3\",\n",
    "                \"8-8\",\n",
    "                \"9-1\",\n",
    "                \"9-7\",\n",
    "            ],\n",
    "            \"domains\": [1, 2, 3, 4],\n",
    "            \"num_examples_per_domain_per_label\": 100,\n",
    "            \"pickle_path\": \"/mnt/wd500GB/CSC500/csc500-main/datasets/wisig.node3-19.stratified_ds.2022A.pkl\",\n",
    "            \"source_or_target_dataset\": \"source\",\n",
    "            \"x_transforms\": [\"unit_mag\"],\n",
    "            \"episode_transforms\": [],\n",
    "            \"domain_prefix\": \"W_A_\",\n",
    "        },\n",
    "        {\n",
    "            \"labels\": [\n",
    "                \"3123D52\",\n",
    "                \"3123D65\",\n",
    "                \"3123D79\",\n",
    "                \"3123D80\",\n",
    "                \"3123D54\",\n",
    "                \"3123D70\",\n",
    "                \"3123D7B\",\n",
    "                \"3123D89\",\n",
    "                \"3123D58\",\n",
    "                \"3123D76\",\n",
    "                \"3123D7D\",\n",
    "                \"3123EFE\",\n",
    "                \"3123D64\",\n",
    "                \"3123D78\",\n",
    "                \"3123D7E\",\n",
    "                \"3124E4A\",\n",
    "            ],\n",
    "            \"domains\": [32, 38, 8, 44, 14, 50, 20, 26],\n",
    "            \"num_examples_per_domain_per_label\": 2000,\n",
    "            \"pickle_path\": \"/mnt/wd500GB/CSC500/csc500-main/datasets/oracle.Run2_framed_2000Examples_stratified_ds.2022A.pkl\",\n",
    "            \"source_or_target_dataset\": \"target\",\n",
    "            \"x_transforms\": [\"unit_mag\"],\n",
    "            \"episode_transforms\": [],\n",
    "            \"domain_prefix\": \"ORACLE.run2_\",\n",
    "        },\n",
    "    ],\n",
    "}\n"
   ]
  },
  {
   "cell_type": "code",
   "execution_count": 5,
   "id": "8fa1cc33",
   "metadata": {
    "execution": {
     "iopub.execute_input": "2022-03-17T04:18:00.993904Z",
     "iopub.status.busy": "2022-03-17T04:18:00.993642Z",
     "iopub.status.idle": "2022-03-17T04:18:01.005443Z",
     "shell.execute_reply": "2022-03-17T04:18:01.004953Z"
    },
    "papermill": {
     "duration": 0.027981,
     "end_time": "2022-03-17T04:18:01.005541",
     "exception": false,
     "start_time": "2022-03-17T04:18:00.977560",
     "status": "completed"
    },
    "tags": []
   },
   "outputs": [],
   "source": [
    "# Set this to True if you want to run this template directly\n",
    "STANDALONE = False\n",
    "if STANDALONE:\n",
    "    print(\"parameters not injected, running with standalone_parameters\")\n",
    "    parameters = standalone_parameters\n",
    "\n",
    "if not 'parameters' in locals() and not 'parameters' in globals():\n",
    "    raise Exception(\"Parameter injection failed\")\n",
    "\n",
    "#Use an easy dict for all the parameters\n",
    "p = EasyDict(parameters)\n",
    "\n",
    "supplied_keys = set(p.keys())\n",
    "\n",
    "if  supplied_keys != required_parameters:\n",
    "    print(\"Parameters are incorrect\")\n",
    "    if len(supplied_keys - required_parameters)>0: print(\"Shouldn't have:\", str(supplied_keys - required_parameters))\n",
    "    if len(required_parameters - supplied_keys)>0: print(\"Need to have:\", str(required_parameters - supplied_keys))\n",
    "    raise RuntimeError(\"Parameters are incorrect\")\n",
    "\n"
   ]
  },
  {
   "cell_type": "code",
   "execution_count": 6,
   "id": "3a028d58",
   "metadata": {
    "execution": {
     "iopub.execute_input": "2022-03-17T04:18:01.040210Z",
     "iopub.status.busy": "2022-03-17T04:18:01.039951Z",
     "iopub.status.idle": "2022-03-17T04:18:01.054846Z",
     "shell.execute_reply": "2022-03-17T04:18:01.054362Z"
    },
    "papermill": {
     "duration": 0.031288,
     "end_time": "2022-03-17T04:18:01.054945",
     "exception": false,
     "start_time": "2022-03-17T04:18:01.023657",
     "status": "completed"
    },
    "tags": []
   },
   "outputs": [],
   "source": [
    "###################################\n",
    "# Set the RNGs and make it all deterministic\n",
    "###################################\n",
    "np.random.seed(p.seed)\n",
    "random.seed(p.seed)\n",
    "torch.manual_seed(p.seed)\n",
    "\n",
    "torch.use_deterministic_algorithms(True) "
   ]
  },
  {
   "cell_type": "code",
   "execution_count": 7,
   "id": "b691acf6",
   "metadata": {
    "execution": {
     "iopub.execute_input": "2022-03-17T04:18:01.088119Z",
     "iopub.status.busy": "2022-03-17T04:18:01.087832Z",
     "iopub.status.idle": "2022-03-17T04:18:01.102151Z",
     "shell.execute_reply": "2022-03-17T04:18:01.101730Z"
    },
    "papermill": {
     "duration": 0.029282,
     "end_time": "2022-03-17T04:18:01.102253",
     "exception": false,
     "start_time": "2022-03-17T04:18:01.072971",
     "status": "completed"
    },
    "tags": []
   },
   "outputs": [],
   "source": [
    "###########################################\n",
    "# The stratified datasets honor this\n",
    "###########################################\n",
    "torch.set_default_dtype(eval(p.torch_default_dtype))"
   ]
  },
  {
   "cell_type": "code",
   "execution_count": 8,
   "id": "b5fba671",
   "metadata": {
    "execution": {
     "iopub.execute_input": "2022-03-17T04:18:01.144784Z",
     "iopub.status.busy": "2022-03-17T04:18:01.135963Z",
     "iopub.status.idle": "2022-03-17T04:18:01.176455Z",
     "shell.execute_reply": "2022-03-17T04:18:01.175934Z"
    },
    "papermill": {
     "duration": 0.055929,
     "end_time": "2022-03-17T04:18:01.176562",
     "exception": false,
     "start_time": "2022-03-17T04:18:01.120633",
     "status": "completed"
    },
    "tags": []
   },
   "outputs": [],
   "source": [
    "###################################\n",
    "# Build the network(s)\n",
    "# Note: It's critical to do this AFTER setting the RNG\n",
    "###################################\n",
    "x_net = build_sequential(p.x_net)"
   ]
  },
  {
   "cell_type": "code",
   "execution_count": 9,
   "id": "5d7e61cc",
   "metadata": {
    "execution": {
     "iopub.execute_input": "2022-03-17T04:18:01.215546Z",
     "iopub.status.busy": "2022-03-17T04:18:01.215279Z",
     "iopub.status.idle": "2022-03-17T04:18:01.226910Z",
     "shell.execute_reply": "2022-03-17T04:18:01.226592Z"
    },
    "papermill": {
     "duration": 0.030412,
     "end_time": "2022-03-17T04:18:01.226985",
     "exception": false,
     "start_time": "2022-03-17T04:18:01.196573",
     "status": "completed"
    },
    "tags": []
   },
   "outputs": [],
   "source": [
    "start_time_secs = time.time()"
   ]
  },
  {
   "cell_type": "code",
   "execution_count": 10,
   "id": "c6b67dfd",
   "metadata": {
    "execution": {
     "iopub.execute_input": "2022-03-17T04:18:01.260820Z",
     "iopub.status.busy": "2022-03-17T04:18:01.260566Z",
     "iopub.status.idle": "2022-03-17T04:18:01.271538Z",
     "shell.execute_reply": "2022-03-17T04:18:01.271272Z"
    },
    "papermill": {
     "duration": 0.026231,
     "end_time": "2022-03-17T04:18:01.271594",
     "exception": false,
     "start_time": "2022-03-17T04:18:01.245363",
     "status": "completed"
    },
    "tags": []
   },
   "outputs": [],
   "source": [
    "p.domains_source = []\n",
    "p.domains_target = []\n",
    "\n",
    "\n",
    "train_original_source = []\n",
    "val_original_source   = []\n",
    "test_original_source  = []\n",
    "\n",
    "train_original_target = []\n",
    "val_original_target   = []\n",
    "test_original_target  = []"
   ]
  },
  {
   "cell_type": "code",
   "execution_count": 11,
   "id": "e3d9c3d3",
   "metadata": {
    "execution": {
     "iopub.execute_input": "2022-03-17T04:18:01.310682Z",
     "iopub.status.busy": "2022-03-17T04:18:01.306483Z",
     "iopub.status.idle": "2022-03-17T04:18:01.322509Z",
     "shell.execute_reply": "2022-03-17T04:18:01.322033Z"
    },
    "papermill": {
     "duration": 0.031737,
     "end_time": "2022-03-17T04:18:01.322608",
     "exception": false,
     "start_time": "2022-03-17T04:18:01.290871",
     "status": "completed"
    },
    "tags": []
   },
   "outputs": [],
   "source": [
    "# global_x_transform_func = lambda x: normalize(x.to(torch.get_default_dtype()), \"unit_power\") # unit_power, unit_mag\n",
    "# global_x_transform_func = lambda x: normalize(x, \"unit_power\") # unit_power, unit_mag"
   ]
  },
  {
   "cell_type": "code",
   "execution_count": 12,
   "id": "acb78fd2",
   "metadata": {
    "execution": {
     "iopub.execute_input": "2022-03-17T04:18:01.365271Z",
     "iopub.status.busy": "2022-03-17T04:18:01.364757Z",
     "iopub.status.idle": "2022-03-17T04:18:01.374275Z",
     "shell.execute_reply": "2022-03-17T04:18:01.373855Z"
    },
    "papermill": {
     "duration": 0.033505,
     "end_time": "2022-03-17T04:18:01.374374",
     "exception": false,
     "start_time": "2022-03-17T04:18:01.340869",
     "status": "completed"
    },
    "tags": []
   },
   "outputs": [],
   "source": [
    "def add_dataset(\n",
    "    labels,\n",
    "    domains,\n",
    "    pickle_path,\n",
    "    x_transforms,\n",
    "    episode_transforms,\n",
    "    domain_prefix,\n",
    "    num_examples_per_domain_per_label,\n",
    "    source_or_target_dataset:str,\n",
    "    iterator_seed=p.seed,\n",
    "    dataset_seed=p.dataset_seed,\n",
    "    n_shot=p.n_shot,\n",
    "    n_way=p.n_way,\n",
    "    n_query=p.n_query,\n",
    "    train_val_test_k_factors=(p.train_k_factor,p.val_k_factor,p.test_k_factor),\n",
    "):\n",
    "   \n",
    "    if x_transforms == []: x_transform = None\n",
    "    else: x_transform = get_chained_transform(x_transforms)\n",
    "    \n",
    "    if episode_transforms == []: episode_transform = None\n",
    "    else: raise Exception(\"episode_transforms not implemented\")\n",
    "    \n",
    "    episode_transform = lambda tup, _prefix=domain_prefix: (_prefix + str(tup[0]), tup[1])\n",
    "\n",
    "\n",
    "    eaf = Episodic_Accessor_Factory(\n",
    "        labels=labels,\n",
    "        domains=domains,\n",
    "        num_examples_per_domain_per_label=num_examples_per_domain_per_label,\n",
    "        iterator_seed=iterator_seed,\n",
    "        dataset_seed=dataset_seed,\n",
    "        n_shot=n_shot,\n",
    "        n_way=n_way,\n",
    "        n_query=n_query,\n",
    "        train_val_test_k_factors=train_val_test_k_factors,\n",
    "        pickle_path=pickle_path,\n",
    "        x_transform_func=x_transform,\n",
    "    )\n",
    "\n",
    "    train, val, test = eaf.get_train(), eaf.get_val(), eaf.get_test()\n",
    "    train = Lazy_Iterable_Wrapper(train, episode_transform)\n",
    "    val = Lazy_Iterable_Wrapper(val, episode_transform)\n",
    "    test = Lazy_Iterable_Wrapper(test, episode_transform)\n",
    "\n",
    "    if source_or_target_dataset==\"source\":\n",
    "        train_original_source.append(train)\n",
    "        val_original_source.append(val)\n",
    "        test_original_source.append(test)\n",
    "\n",
    "        p.domains_source.extend(\n",
    "            [domain_prefix + str(u) for u in domains]\n",
    "        )\n",
    "    elif source_or_target_dataset==\"target\":\n",
    "        train_original_target.append(train)\n",
    "        val_original_target.append(val)\n",
    "        test_original_target.append(test)\n",
    "        p.domains_target.extend(\n",
    "            [domain_prefix + str(u) for u in domains]\n",
    "        )\n",
    "    else:\n",
    "        raise Exception(f\"invalid source_or_target_dataset: {source_or_target_dataset}\")\n",
    "    "
   ]
  },
  {
   "cell_type": "code",
   "execution_count": 13,
   "id": "fe266617",
   "metadata": {
    "execution": {
     "iopub.execute_input": "2022-03-17T04:18:01.408737Z",
     "iopub.status.busy": "2022-03-17T04:18:01.408385Z",
     "iopub.status.idle": "2022-03-17T04:18:22.649574Z",
     "shell.execute_reply": "2022-03-17T04:18:22.649126Z"
    },
    "papermill": {
     "duration": 21.256884,
     "end_time": "2022-03-17T04:18:22.649687",
     "exception": false,
     "start_time": "2022-03-17T04:18:01.392803",
     "status": "completed"
    },
    "tags": []
   },
   "outputs": [],
   "source": [
    "for ds in p.datasets:\n",
    "    add_dataset(**ds)"
   ]
  },
  {
   "cell_type": "code",
   "execution_count": 14,
   "id": "b90d65ac",
   "metadata": {
    "execution": {
     "iopub.execute_input": "2022-03-17T04:18:22.686993Z",
     "iopub.status.busy": "2022-03-17T04:18:22.686726Z",
     "iopub.status.idle": "2022-03-17T04:18:22.702560Z",
     "shell.execute_reply": "2022-03-17T04:18:22.702186Z"
    },
    "papermill": {
     "duration": 0.032232,
     "end_time": "2022-03-17T04:18:22.702636",
     "exception": false,
     "start_time": "2022-03-17T04:18:22.670404",
     "status": "completed"
    },
    "tags": []
   },
   "outputs": [],
   "source": [
    "# from steves_utils.CORES.utils import (\n",
    "#     ALL_NODES,\n",
    "#     ALL_NODES_MINIMUM_1000_EXAMPLES,\n",
    "#     ALL_DAYS\n",
    "# )\n",
    "\n",
    "# add_dataset(\n",
    "#     labels=ALL_NODES,\n",
    "#     domains = ALL_DAYS,\n",
    "#     num_examples_per_domain_per_label=100,\n",
    "#     pickle_path=os.path.join(get_datasets_base_path(), \"cores.stratified_ds.2022A.pkl\"),\n",
    "#     source_or_target_dataset=\"target\",\n",
    "#     x_transform_func=global_x_transform_func,\n",
    "#     domain_modifier=lambda u: f\"cores_{u}\"\n",
    "# )"
   ]
  },
  {
   "cell_type": "code",
   "execution_count": 15,
   "id": "76db484d",
   "metadata": {
    "execution": {
     "iopub.execute_input": "2022-03-17T04:18:22.738535Z",
     "iopub.status.busy": "2022-03-17T04:18:22.736559Z",
     "iopub.status.idle": "2022-03-17T04:18:22.751945Z",
     "shell.execute_reply": "2022-03-17T04:18:22.751534Z"
    },
    "papermill": {
     "duration": 0.031309,
     "end_time": "2022-03-17T04:18:22.752050",
     "exception": false,
     "start_time": "2022-03-17T04:18:22.720741",
     "status": "completed"
    },
    "tags": []
   },
   "outputs": [],
   "source": [
    "# from steves_utils.ORACLE.utils_v2 import (\n",
    "#     ALL_DISTANCES_FEET,\n",
    "#     ALL_RUNS,\n",
    "#     ALL_SERIAL_NUMBERS,\n",
    "# )\n",
    "\n",
    "\n",
    "# add_dataset(\n",
    "#     labels=ALL_SERIAL_NUMBERS,\n",
    "#     domains = list(set(ALL_DISTANCES_FEET) - {2,62}),\n",
    "#     num_examples_per_domain_per_label=100,\n",
    "#     pickle_path=os.path.join(get_datasets_base_path(), \"oracle.Run2_framed_2000Examples_stratified_ds.2022A.pkl\"),\n",
    "#     source_or_target_dataset=\"source\",\n",
    "#     x_transform_func=global_x_transform_func,\n",
    "#     domain_modifier=lambda u: f\"oracle1_{u}\"\n",
    "# )\n"
   ]
  },
  {
   "cell_type": "code",
   "execution_count": 16,
   "id": "97dea9d2",
   "metadata": {
    "execution": {
     "iopub.execute_input": "2022-03-17T04:18:22.789255Z",
     "iopub.status.busy": "2022-03-17T04:18:22.785565Z",
     "iopub.status.idle": "2022-03-17T04:18:22.801734Z",
     "shell.execute_reply": "2022-03-17T04:18:22.802115Z"
    },
    "papermill": {
     "duration": 0.03256,
     "end_time": "2022-03-17T04:18:22.802235",
     "exception": false,
     "start_time": "2022-03-17T04:18:22.769675",
     "status": "completed"
    },
    "tags": []
   },
   "outputs": [],
   "source": [
    "# from steves_utils.ORACLE.utils_v2 import (\n",
    "#     ALL_DISTANCES_FEET,\n",
    "#     ALL_RUNS,\n",
    "#     ALL_SERIAL_NUMBERS,\n",
    "# )\n",
    "\n",
    "\n",
    "# add_dataset(\n",
    "#     labels=ALL_SERIAL_NUMBERS,\n",
    "#     domains = list(set(ALL_DISTANCES_FEET) - {2,62,56}),\n",
    "#     num_examples_per_domain_per_label=100,\n",
    "#     pickle_path=os.path.join(get_datasets_base_path(), \"oracle.Run2_framed_2000Examples_stratified_ds.2022A.pkl\"),\n",
    "#     source_or_target_dataset=\"source\",\n",
    "#     x_transform_func=global_x_transform_func,\n",
    "#     domain_modifier=lambda u: f\"oracle2_{u}\"\n",
    "# )"
   ]
  },
  {
   "cell_type": "code",
   "execution_count": 17,
   "id": "6f289866",
   "metadata": {
    "execution": {
     "iopub.execute_input": "2022-03-17T04:18:22.837238Z",
     "iopub.status.busy": "2022-03-17T04:18:22.836805Z",
     "iopub.status.idle": "2022-03-17T04:18:22.853261Z",
     "shell.execute_reply": "2022-03-17T04:18:22.852782Z"
    },
    "papermill": {
     "duration": 0.032215,
     "end_time": "2022-03-17T04:18:22.853359",
     "exception": false,
     "start_time": "2022-03-17T04:18:22.821144",
     "status": "completed"
    },
    "tags": []
   },
   "outputs": [],
   "source": [
    "# add_dataset(\n",
    "#     labels=list(range(19)),\n",
    "#     domains = [0,1,2],\n",
    "#     num_examples_per_domain_per_label=100,\n",
    "#     pickle_path=os.path.join(get_datasets_base_path(), \"metehan.stratified_ds.2022A.pkl\"),\n",
    "#     source_or_target_dataset=\"target\",\n",
    "#     x_transform_func=global_x_transform_func,\n",
    "#     domain_modifier=lambda u: f\"met_{u}\"\n",
    "# )"
   ]
  },
  {
   "cell_type": "code",
   "execution_count": 18,
   "id": "86a863c3",
   "metadata": {
    "execution": {
     "iopub.execute_input": "2022-03-17T04:18:22.897969Z",
     "iopub.status.busy": "2022-03-17T04:18:22.889118Z",
     "iopub.status.idle": "2022-03-17T04:18:22.904874Z",
     "shell.execute_reply": "2022-03-17T04:18:22.904388Z"
    },
    "papermill": {
     "duration": 0.031925,
     "end_time": "2022-03-17T04:18:22.904972",
     "exception": false,
     "start_time": "2022-03-17T04:18:22.873047",
     "status": "completed"
    },
    "tags": []
   },
   "outputs": [],
   "source": [
    "# # from steves_utils.wisig.utils import (\n",
    "# #     ALL_NODES_MINIMUM_100_EXAMPLES,\n",
    "# #     ALL_NODES_MINIMUM_500_EXAMPLES,\n",
    "# #     ALL_NODES_MINIMUM_1000_EXAMPLES,\n",
    "# #     ALL_DAYS\n",
    "# # )\n",
    "\n",
    "# import steves_utils.wisig.utils as wisig\n",
    "\n",
    "\n",
    "# add_dataset(\n",
    "#     labels=wisig.ALL_NODES_MINIMUM_100_EXAMPLES,\n",
    "#     domains = wisig.ALL_DAYS,\n",
    "#     num_examples_per_domain_per_label=100,\n",
    "#     pickle_path=os.path.join(get_datasets_base_path(), \"wisig.node3-19.stratified_ds.2022A.pkl\"),\n",
    "#     source_or_target_dataset=\"target\",\n",
    "#     x_transform_func=global_x_transform_func,\n",
    "#     domain_modifier=lambda u: f\"wisig_{u}\"\n",
    "# )"
   ]
  },
  {
   "cell_type": "code",
   "execution_count": 19,
   "id": "fd5442bc",
   "metadata": {
    "execution": {
     "iopub.execute_input": "2022-03-17T04:18:22.949916Z",
     "iopub.status.busy": "2022-03-17T04:18:22.949394Z",
     "iopub.status.idle": "2022-03-17T04:18:22.958569Z",
     "shell.execute_reply": "2022-03-17T04:18:22.958076Z"
    },
    "papermill": {
     "duration": 0.034152,
     "end_time": "2022-03-17T04:18:22.958668",
     "exception": false,
     "start_time": "2022-03-17T04:18:22.924516",
     "status": "completed"
    },
    "tags": []
   },
   "outputs": [],
   "source": [
    "###################################\n",
    "# Build the dataset\n",
    "###################################\n",
    "train_original_source = Iterable_Aggregator(train_original_source, p.seed)\n",
    "val_original_source = Iterable_Aggregator(val_original_source, p.seed)\n",
    "test_original_source = Iterable_Aggregator(test_original_source, p.seed)\n",
    "\n",
    "\n",
    "train_original_target = Iterable_Aggregator(train_original_target, p.seed)\n",
    "val_original_target = Iterable_Aggregator(val_original_target, p.seed)\n",
    "test_original_target = Iterable_Aggregator(test_original_target, p.seed)\n",
    "\n",
    "# For CNN We only use X and Y. And we only train on the source.\n",
    "# Properly form the data using a transform lambda and Lazy_Iterable_Wrapper. Finally wrap them in a dataloader\n",
    "\n",
    "transform_lambda = lambda ex: ex[1] # Original is (<domain>, <episode>) so we strip down to episode only\n",
    "\n",
    "train_processed_source = Lazy_Iterable_Wrapper(train_original_source, transform_lambda)\n",
    "val_processed_source   = Lazy_Iterable_Wrapper(val_original_source, transform_lambda)\n",
    "test_processed_source  = Lazy_Iterable_Wrapper(test_original_source, transform_lambda)\n",
    "\n",
    "train_processed_target = Lazy_Iterable_Wrapper(train_original_target, transform_lambda)\n",
    "val_processed_target   = Lazy_Iterable_Wrapper(val_original_target, transform_lambda)\n",
    "test_processed_target  = Lazy_Iterable_Wrapper(test_original_target, transform_lambda)\n",
    "\n",
    "datasets = EasyDict({\n",
    "    \"source\": {\n",
    "        \"original\": {\"train\":train_original_source, \"val\":val_original_source, \"test\":test_original_source},\n",
    "        \"processed\": {\"train\":train_processed_source, \"val\":val_processed_source, \"test\":test_processed_source}\n",
    "    },\n",
    "    \"target\": {\n",
    "        \"original\": {\"train\":train_original_target, \"val\":val_original_target, \"test\":test_original_target},\n",
    "        \"processed\": {\"train\":train_processed_target, \"val\":val_processed_target, \"test\":test_processed_target}\n",
    "    },\n",
    "})"
   ]
  },
  {
   "cell_type": "code",
   "execution_count": 20,
   "id": "5b3c01fc",
   "metadata": {
    "execution": {
     "iopub.execute_input": "2022-03-17T04:18:23.000065Z",
     "iopub.status.busy": "2022-03-17T04:18:22.995032Z",
     "iopub.status.idle": "2022-03-17T04:18:27.738171Z",
     "shell.execute_reply": "2022-03-17T04:18:27.738674Z"
    },
    "papermill": {
     "duration": 4.761231,
     "end_time": "2022-03-17T04:18:27.738813",
     "exception": false,
     "start_time": "2022-03-17T04:18:22.977582",
     "status": "completed"
    },
    "tags": []
   },
   "outputs": [
    {
     "name": "stdout",
     "output_type": "stream",
     "text": [
      "{'W_A_4', 'W_A_2', 'W_A_1', 'C_A_3', 'C_A_5', 'C_A_2', 'C_A_4', 'C_A_1', 'W_A_3'}\n"
     ]
    },
    {
     "name": "stdout",
     "output_type": "stream",
     "text": [
      "{'ORACLE.run2_38', 'ORACLE.run2_32', 'ORACLE.run2_8', 'ORACLE.run2_26', 'ORACLE.run2_14', 'ORACLE.run2_50', 'ORACLE.run2_44', 'ORACLE.run2_20'}\n"
     ]
    },
    {
     "name": "stdout",
     "output_type": "stream",
     "text": [
      "tensor([[[-1.2417, -0.5531, -0.0226,  ..., -1.1943,  0.0000,  0.7450],\n",
      "         [ 0.4922,  0.0045, -0.1309,  ..., -1.1017,  0.0000, -0.0113]],\n",
      "\n",
      "        [[-0.7227,  1.4813,  0.5903,  ..., -0.6329, -0.5499, -0.7361],\n",
      "         [-1.6451,  0.1122,  1.4880,  ...,  0.9336,  0.1369, -0.8080]],\n",
      "\n",
      "        [[-0.9096,  0.3472,  0.5175,  ...,  0.5601,  0.3002,  0.3517],\n",
      "         [-0.4705, -0.5063, -0.8267,  ...,  0.0067, -0.7617, -1.4652]],\n",
      "\n",
      "        ...,\n",
      "\n",
      "        [[ 0.5750, -0.6974, -0.2740,  ...,  0.0082,  0.0806,  0.5593],\n",
      "         [ 0.5541,  0.3390, -0.4473,  ...,  0.5757, -0.3539, -0.0373]],\n",
      "\n",
      "        [[-0.1992,  0.2354, -0.4338,  ..., -0.2796, -0.6142, -0.4476],\n",
      "         [-0.1478, -0.1057, -0.1695,  ...,  0.7844,  0.2035, -1.1632]],\n",
      "\n",
      "        [[ 0.1379,  0.6563, -0.9306,  ...,  0.9573,  0.1127, -0.1127],\n",
      "         [-0.8372,  0.2936,  0.5020,  ...,  0.0178,  0.1839, -0.3930]]])\n"
     ]
    }
   ],
   "source": [
    "from steves_utils.transforms import get_average_magnitude, get_average_power\n",
    "\n",
    "print(set([u for u,_ in val_original_source]))\n",
    "print(set([u for u,_ in val_original_target]))\n",
    "\n",
    "s_x, s_y, q_x, q_y, _ = next(iter(train_processed_source))\n",
    "print(s_x)\n",
    "\n",
    "# for ds in [\n",
    "#     train_processed_source,\n",
    "#     val_processed_source,\n",
    "#     test_processed_source,\n",
    "#     train_processed_target,\n",
    "#     val_processed_target,\n",
    "#     test_processed_target\n",
    "# ]:\n",
    "#     for s_x, s_y, q_x, q_y, _ in ds:\n",
    "#         for X in (s_x, q_x):\n",
    "#             for x in X:\n",
    "#                 assert np.isclose(get_average_magnitude(x.numpy()), 1.0)\n",
    "#                 assert np.isclose(get_average_power(x.numpy()), 1.0)\n",
    "                "
   ]
  },
  {
   "cell_type": "code",
   "execution_count": 21,
   "id": "bbdacba1",
   "metadata": {
    "execution": {
     "iopub.execute_input": "2022-03-17T04:18:27.783074Z",
     "iopub.status.busy": "2022-03-17T04:18:27.782800Z",
     "iopub.status.idle": "2022-03-17T04:18:27.841866Z",
     "shell.execute_reply": "2022-03-17T04:18:27.841406Z"
    },
    "papermill": {
     "duration": 0.077539,
     "end_time": "2022-03-17T04:18:27.841959",
     "exception": false,
     "start_time": "2022-03-17T04:18:27.764420",
     "status": "completed"
    },
    "tags": []
   },
   "outputs": [
    {
     "name": "stdout",
     "output_type": "stream",
     "text": [
      "(2, 256)\n"
     ]
    }
   ],
   "source": [
    "###################################\n",
    "# Build the model\n",
    "###################################\n",
    "model = Steves_Prototypical_Network(x_net, device=p.device, x_shape=(2,256))\n",
    "optimizer = Adam(params=model.parameters(), lr=p.lr)"
   ]
  },
  {
   "cell_type": "code",
   "execution_count": 22,
   "id": "22b39ac5",
   "metadata": {
    "execution": {
     "iopub.execute_input": "2022-03-17T04:18:27.880723Z",
     "iopub.status.busy": "2022-03-17T04:18:27.880401Z",
     "iopub.status.idle": "2022-03-17T04:25:37.376736Z",
     "shell.execute_reply": "2022-03-17T04:25:37.377108Z"
    },
    "papermill": {
     "duration": 429.514373,
     "end_time": "2022-03-17T04:25:37.377231",
     "exception": false,
     "start_time": "2022-03-17T04:18:27.862858",
     "status": "completed"
    },
    "tags": []
   },
   "outputs": [
    {
     "name": "stdout",
     "output_type": "stream",
     "text": [
      "epoch: 1, [batch: 1 / 2081], examples_per_second: 128.2052, train_label_loss: 2.9273, \n"
     ]
    },
    {
     "name": "stdout",
     "output_type": "stream",
     "text": [
      "epoch: 1, [batch: 209 / 2081], examples_per_second: 3213.2831, train_label_loss: 0.0533, \n"
     ]
    },
    {
     "name": "stdout",
     "output_type": "stream",
     "text": [
      "epoch: 1, [batch: 417 / 2081], examples_per_second: 3233.6252, train_label_loss: 0.7230, \n"
     ]
    },
    {
     "name": "stdout",
     "output_type": "stream",
     "text": [
      "epoch: 1, [batch: 625 / 2081], examples_per_second: 3241.1894, train_label_loss: 0.0347, \n"
     ]
    },
    {
     "name": "stdout",
     "output_type": "stream",
     "text": [
      "epoch: 1, [batch: 833 / 2081], examples_per_second: 3244.1731, train_label_loss: 0.5963, \n"
     ]
    },
    {
     "name": "stdout",
     "output_type": "stream",
     "text": [
      "epoch: 1, [batch: 1041 / 2081], examples_per_second: 3216.4942, train_label_loss: 0.0219, \n"
     ]
    },
    {
     "name": "stdout",
     "output_type": "stream",
     "text": [
      "epoch: 1, [batch: 1249 / 2081], examples_per_second: 3230.0419, train_label_loss: 0.4171, \n"
     ]
    },
    {
     "name": "stdout",
     "output_type": "stream",
     "text": [
      "epoch: 1, [batch: 1457 / 2081], examples_per_second: 3214.3177, train_label_loss: 0.2009, \n"
     ]
    },
    {
     "name": "stdout",
     "output_type": "stream",
     "text": [
      "epoch: 1, [batch: 1665 / 2081], examples_per_second: 3207.9031, train_label_loss: 0.0388, \n"
     ]
    },
    {
     "name": "stdout",
     "output_type": "stream",
     "text": [
      "epoch: 1, [batch: 1873 / 2081], examples_per_second: 3212.5159, train_label_loss: 0.1325, \n"
     ]
    },
    {
     "name": "stdout",
     "output_type": "stream",
     "text": [
      "=============================================================\n",
      "epoch: 1, source_val_acc_label: 0.9542, target_val_acc_label: 0.1823, source_val_label_loss: 0.1908, target_val_label_loss: 2.5348, \n",
      "=============================================================\n"
     ]
    },
    {
     "name": "stdout",
     "output_type": "stream",
     "text": [
      "New best\n"
     ]
    },
    {
     "name": "stdout",
     "output_type": "stream",
     "text": [
      "epoch: 2, [batch: 1 / 2079], examples_per_second: 10.5467, train_label_loss: 0.0451, \n"
     ]
    },
    {
     "name": "stdout",
     "output_type": "stream",
     "text": [
      "epoch: 2, [batch: 208 / 2079], examples_per_second: 3244.3783, train_label_loss: 0.3382, \n"
     ]
    },
    {
     "name": "stdout",
     "output_type": "stream",
     "text": [
      "epoch: 2, [batch: 416 / 2079], examples_per_second: 3240.8336, train_label_loss: 0.0159, \n"
     ]
    },
    {
     "name": "stdout",
     "output_type": "stream",
     "text": [
      "epoch: 2, [batch: 624 / 2079], examples_per_second: 3245.0982, train_label_loss: 0.0742, \n"
     ]
    },
    {
     "name": "stdout",
     "output_type": "stream",
     "text": [
      "epoch: 2, [batch: 832 / 2079], examples_per_second: 3240.4392, train_label_loss: 0.1538, \n"
     ]
    },
    {
     "name": "stdout",
     "output_type": "stream",
     "text": [
      "epoch: 2, [batch: 1040 / 2079], examples_per_second: 3207.5599, train_label_loss: 0.3429, \n"
     ]
    },
    {
     "name": "stdout",
     "output_type": "stream",
     "text": [
      "epoch: 2, [batch: 1247 / 2079], examples_per_second: 3251.2093, train_label_loss: 0.0059, \n"
     ]
    },
    {
     "name": "stdout",
     "output_type": "stream",
     "text": [
      "epoch: 2, [batch: 1455 / 2079], examples_per_second: 3199.6118, train_label_loss: 0.1392, \n"
     ]
    },
    {
     "name": "stdout",
     "output_type": "stream",
     "text": [
      "epoch: 2, [batch: 1663 / 2079], examples_per_second: 3258.4817, train_label_loss: 0.0243, \n"
     ]
    },
    {
     "name": "stdout",
     "output_type": "stream",
     "text": [
      "epoch: 2, [batch: 1871 / 2079], examples_per_second: 3274.1438, train_label_loss: 0.0272, \n"
     ]
    },
    {
     "name": "stdout",
     "output_type": "stream",
     "text": [
      "=============================================================\n",
      "epoch: 2, source_val_acc_label: 0.9663, target_val_acc_label: 0.2188, source_val_label_loss: 0.1590, target_val_label_loss: 2.4218, \n",
      "=============================================================\n"
     ]
    },
    {
     "name": "stdout",
     "output_type": "stream",
     "text": [
      "New best\n"
     ]
    },
    {
     "name": "stdout",
     "output_type": "stream",
     "text": [
      "epoch: 3, [batch: 1 / 2082], examples_per_second: 10.5534, train_label_loss: 0.3335, \n"
     ]
    },
    {
     "name": "stdout",
     "output_type": "stream",
     "text": [
      "epoch: 3, [batch: 209 / 2082], examples_per_second: 3224.0680, train_label_loss: 0.3816, \n"
     ]
    },
    {
     "name": "stdout",
     "output_type": "stream",
     "text": [
      "epoch: 3, [batch: 417 / 2082], examples_per_second: 3235.9512, train_label_loss: 0.4771, \n"
     ]
    },
    {
     "name": "stdout",
     "output_type": "stream",
     "text": [
      "epoch: 3, [batch: 625 / 2082], examples_per_second: 3232.6825, train_label_loss: 0.3908, \n"
     ]
    },
    {
     "name": "stdout",
     "output_type": "stream",
     "text": [
      "epoch: 3, [batch: 833 / 2082], examples_per_second: 3244.4341, train_label_loss: 0.3268, \n"
     ]
    },
    {
     "name": "stdout",
     "output_type": "stream",
     "text": [
      "epoch: 3, [batch: 1041 / 2082], examples_per_second: 3245.7294, train_label_loss: 0.0136, \n"
     ]
    },
    {
     "name": "stdout",
     "output_type": "stream",
     "text": [
      "epoch: 3, [batch: 1249 / 2082], examples_per_second: 3237.4266, train_label_loss: 0.0035, \n"
     ]
    },
    {
     "name": "stdout",
     "output_type": "stream",
     "text": [
      "epoch: 3, [batch: 1457 / 2082], examples_per_second: 3209.8785, train_label_loss: 0.0623, \n"
     ]
    },
    {
     "name": "stdout",
     "output_type": "stream",
     "text": [
      "epoch: 3, [batch: 1665 / 2082], examples_per_second: 3225.7287, train_label_loss: 0.0899, \n"
     ]
    },
    {
     "name": "stdout",
     "output_type": "stream",
     "text": [
      "epoch: 3, [batch: 1873 / 2082], examples_per_second: 3239.1995, train_label_loss: 0.1089, \n"
     ]
    },
    {
     "name": "stdout",
     "output_type": "stream",
     "text": [
      "=============================================================\n",
      "epoch: 3, source_val_acc_label: 0.9731, target_val_acc_label: 0.2076, source_val_label_loss: 0.1246, target_val_label_loss: 2.3975, \n",
      "=============================================================\n"
     ]
    },
    {
     "name": "stdout",
     "output_type": "stream",
     "text": [
      "New best\n"
     ]
    },
    {
     "name": "stdout",
     "output_type": "stream",
     "text": [
      "epoch: 4, [batch: 1 / 2080], examples_per_second: 10.4295, train_label_loss: 0.1394, \n"
     ]
    },
    {
     "name": "stdout",
     "output_type": "stream",
     "text": [
      "epoch: 4, [batch: 208 / 2080], examples_per_second: 3240.3355, train_label_loss: 0.0388, \n"
     ]
    },
    {
     "name": "stdout",
     "output_type": "stream",
     "text": [
      "epoch: 4, [batch: 416 / 2080], examples_per_second: 3247.7452, train_label_loss: 0.0381, \n"
     ]
    },
    {
     "name": "stdout",
     "output_type": "stream",
     "text": [
      "epoch: 4, [batch: 624 / 2080], examples_per_second: 3244.5671, train_label_loss: 0.0097, \n"
     ]
    },
    {
     "name": "stdout",
     "output_type": "stream",
     "text": [
      "epoch: 4, [batch: 832 / 2080], examples_per_second: 3254.1114, train_label_loss: 0.0536, \n"
     ]
    },
    {
     "name": "stdout",
     "output_type": "stream",
     "text": [
      "epoch: 4, [batch: 1040 / 2080], examples_per_second: 3257.7242, train_label_loss: 0.0138, \n"
     ]
    },
    {
     "name": "stdout",
     "output_type": "stream",
     "text": [
      "epoch: 4, [batch: 1248 / 2080], examples_per_second: 3249.0008, train_label_loss: 0.0048, \n"
     ]
    },
    {
     "name": "stdout",
     "output_type": "stream",
     "text": [
      "epoch: 4, [batch: 1456 / 2080], examples_per_second: 3256.3942, train_label_loss: 0.0514, \n"
     ]
    },
    {
     "name": "stdout",
     "output_type": "stream",
     "text": [
      "epoch: 4, [batch: 1664 / 2080], examples_per_second: 3248.7411, train_label_loss: 0.0089, \n"
     ]
    },
    {
     "name": "stdout",
     "output_type": "stream",
     "text": [
      "epoch: 4, [batch: 1872 / 2080], examples_per_second: 3257.9430, train_label_loss: 0.3644, \n"
     ]
    },
    {
     "name": "stdout",
     "output_type": "stream",
     "text": [
      "=============================================================\n",
      "epoch: 4, source_val_acc_label: 0.9738, target_val_acc_label: 0.2075, source_val_label_loss: 0.1274, target_val_label_loss: 2.4003, \n",
      "=============================================================\n"
     ]
    },
    {
     "name": "stdout",
     "output_type": "stream",
     "text": [
      "epoch: 5, [batch: 1 / 2079], examples_per_second: 10.6059, train_label_loss: 0.0021, \n"
     ]
    },
    {
     "name": "stdout",
     "output_type": "stream",
     "text": [
      "epoch: 5, [batch: 208 / 2079], examples_per_second: 3215.3045, train_label_loss: 0.1925, \n"
     ]
    },
    {
     "name": "stdout",
     "output_type": "stream",
     "text": [
      "epoch: 5, [batch: 416 / 2079], examples_per_second: 3241.8124, train_label_loss: 0.1026, \n"
     ]
    },
    {
     "name": "stdout",
     "output_type": "stream",
     "text": [
      "epoch: 5, [batch: 624 / 2079], examples_per_second: 3241.9399, train_label_loss: 0.0046, \n"
     ]
    },
    {
     "name": "stdout",
     "output_type": "stream",
     "text": [
      "epoch: 5, [batch: 832 / 2079], examples_per_second: 3240.3989, train_label_loss: 0.0027, \n"
     ]
    },
    {
     "name": "stdout",
     "output_type": "stream",
     "text": [
      "epoch: 5, [batch: 1040 / 2079], examples_per_second: 3243.1481, train_label_loss: 0.3345, \n"
     ]
    },
    {
     "name": "stdout",
     "output_type": "stream",
     "text": [
      "epoch: 5, [batch: 1247 / 2079], examples_per_second: 3241.3894, train_label_loss: 0.2527, \n"
     ]
    },
    {
     "name": "stdout",
     "output_type": "stream",
     "text": [
      "epoch: 5, [batch: 1455 / 2079], examples_per_second: 3215.9165, train_label_loss: 0.4167, \n"
     ]
    },
    {
     "name": "stdout",
     "output_type": "stream",
     "text": [
      "epoch: 5, [batch: 1663 / 2079], examples_per_second: 3270.2643, train_label_loss: 0.0578, \n"
     ]
    },
    {
     "name": "stdout",
     "output_type": "stream",
     "text": [
      "epoch: 5, [batch: 1871 / 2079], examples_per_second: 3255.9260, train_label_loss: 0.2941, \n"
     ]
    },
    {
     "name": "stdout",
     "output_type": "stream",
     "text": [
      "=============================================================\n",
      "epoch: 5, source_val_acc_label: 0.9732, target_val_acc_label: 0.1954, source_val_label_loss: 0.1321, target_val_label_loss: 2.5637, \n",
      "=============================================================\n"
     ]
    },
    {
     "name": "stdout",
     "output_type": "stream",
     "text": [
      "epoch: 6, [batch: 1 / 2081], examples_per_second: 10.5872, train_label_loss: 0.0831, \n"
     ]
    },
    {
     "name": "stdout",
     "output_type": "stream",
     "text": [
      "epoch: 6, [batch: 209 / 2081], examples_per_second: 3249.1160, train_label_loss: 0.0004, \n"
     ]
    },
    {
     "name": "stdout",
     "output_type": "stream",
     "text": [
      "epoch: 6, [batch: 417 / 2081], examples_per_second: 3231.6369, train_label_loss: 0.0346, \n"
     ]
    },
    {
     "name": "stdout",
     "output_type": "stream",
     "text": [
      "epoch: 6, [batch: 625 / 2081], examples_per_second: 3238.5956, train_label_loss: 0.0051, \n"
     ]
    },
    {
     "name": "stdout",
     "output_type": "stream",
     "text": [
      "epoch: 6, [batch: 833 / 2081], examples_per_second: 3256.2284, train_label_loss: 0.0010, \n"
     ]
    },
    {
     "name": "stdout",
     "output_type": "stream",
     "text": [
      "epoch: 6, [batch: 1041 / 2081], examples_per_second: 3254.5837, train_label_loss: 0.1442, \n"
     ]
    },
    {
     "name": "stdout",
     "output_type": "stream",
     "text": [
      "epoch: 6, [batch: 1249 / 2081], examples_per_second: 3254.2932, train_label_loss: 0.0093, \n"
     ]
    },
    {
     "name": "stdout",
     "output_type": "stream",
     "text": [
      "epoch: 6, [batch: 1457 / 2081], examples_per_second: 3244.0915, train_label_loss: 0.0007, \n"
     ]
    },
    {
     "name": "stdout",
     "output_type": "stream",
     "text": [
      "epoch: 6, [batch: 1665 / 2081], examples_per_second: 3218.7460, train_label_loss: 0.0168, \n"
     ]
    },
    {
     "name": "stdout",
     "output_type": "stream",
     "text": [
      "epoch: 6, [batch: 1873 / 2081], examples_per_second: 3278.6797, train_label_loss: 0.0113, \n"
     ]
    },
    {
     "name": "stdout",
     "output_type": "stream",
     "text": [
      "=============================================================\n",
      "epoch: 6, source_val_acc_label: 0.9759, target_val_acc_label: 0.1679, source_val_label_loss: 0.1220, target_val_label_loss: 2.7557, \n",
      "=============================================================\n"
     ]
    },
    {
     "name": "stdout",
     "output_type": "stream",
     "text": [
      "epoch: 7, [batch: 1 / 2075], examples_per_second: 10.6237, train_label_loss: 0.0004, \n"
     ]
    },
    {
     "name": "stdout",
     "output_type": "stream",
     "text": [
      "epoch: 7, [batch: 208 / 2075], examples_per_second: 3240.7478, train_label_loss: 0.0069, \n"
     ]
    },
    {
     "name": "stdout",
     "output_type": "stream",
     "text": [
      "epoch: 7, [batch: 415 / 2075], examples_per_second: 3246.8743, train_label_loss: 0.0011, \n"
     ]
    },
    {
     "name": "stdout",
     "output_type": "stream",
     "text": [
      "epoch: 7, [batch: 623 / 2075], examples_per_second: 3263.6577, train_label_loss: 0.0831, \n"
     ]
    },
    {
     "name": "stdout",
     "output_type": "stream",
     "text": [
      "epoch: 7, [batch: 830 / 2075], examples_per_second: 3256.8073, train_label_loss: 0.0059, \n"
     ]
    },
    {
     "name": "stdout",
     "output_type": "stream",
     "text": [
      "epoch: 7, [batch: 1038 / 2075], examples_per_second: 3233.9316, train_label_loss: 0.0055, \n"
     ]
    },
    {
     "name": "stdout",
     "output_type": "stream",
     "text": [
      "epoch: 7, [batch: 1245 / 2075], examples_per_second: 3237.5705, train_label_loss: 0.0004, \n"
     ]
    },
    {
     "name": "stdout",
     "output_type": "stream",
     "text": [
      "epoch: 7, [batch: 1452 / 2075], examples_per_second: 3205.1593, train_label_loss: 0.0388, \n"
     ]
    },
    {
     "name": "stdout",
     "output_type": "stream",
     "text": [
      "epoch: 7, [batch: 1660 / 2075], examples_per_second: 3233.9140, train_label_loss: 0.1004, \n"
     ]
    },
    {
     "name": "stdout",
     "output_type": "stream",
     "text": [
      "epoch: 7, [batch: 1867 / 2075], examples_per_second: 3239.0118, train_label_loss: 0.0175, \n"
     ]
    },
    {
     "name": "stdout",
     "output_type": "stream",
     "text": [
      "=============================================================\n",
      "epoch: 7, source_val_acc_label: 0.9758, target_val_acc_label: 0.1712, source_val_label_loss: 0.1251, target_val_label_loss: 2.7667, \n",
      "=============================================================\n"
     ]
    },
    {
     "name": "stdout",
     "output_type": "stream",
     "text": [
      "Patience (3) exhausted\n"
     ]
    }
   ],
   "source": [
    "###################################\n",
    "# train\n",
    "###################################\n",
    "jig = PTN_Train_Eval_Test_Jig(model, p.BEST_MODEL_PATH, p.device)\n",
    "\n",
    "jig.train(\n",
    "    train_iterable=datasets.source.processed.train,\n",
    "    source_val_iterable=datasets.source.processed.val,\n",
    "    target_val_iterable=datasets.target.processed.val,\n",
    "    num_epochs=p.n_epoch,\n",
    "    num_logs_per_epoch=p.NUM_LOGS_PER_EPOCH,\n",
    "    patience=p.patience,\n",
    "    optimizer=optimizer,\n",
    "    criteria_for_best=p.criteria_for_best,\n",
    ")"
   ]
  },
  {
   "cell_type": "code",
   "execution_count": 23,
   "id": "31e8fabf",
   "metadata": {
    "execution": {
     "iopub.execute_input": "2022-03-17T04:25:37.443725Z",
     "iopub.status.busy": "2022-03-17T04:25:37.443457Z",
     "iopub.status.idle": "2022-03-17T04:25:37.462437Z",
     "shell.execute_reply": "2022-03-17T04:25:37.461972Z"
    },
    "papermill": {
     "duration": 0.050076,
     "end_time": "2022-03-17T04:25:37.462531",
     "exception": false,
     "start_time": "2022-03-17T04:25:37.412455",
     "status": "completed"
    },
    "tags": []
   },
   "outputs": [],
   "source": [
    "total_experiment_time_secs = time.time() - start_time_secs"
   ]
  },
  {
   "cell_type": "code",
   "execution_count": 24,
   "id": "87b9595b",
   "metadata": {
    "execution": {
     "iopub.execute_input": "2022-03-17T04:25:37.530324Z",
     "iopub.status.busy": "2022-03-17T04:25:37.530029Z",
     "iopub.status.idle": "2022-03-17T04:26:41.704787Z",
     "shell.execute_reply": "2022-03-17T04:26:41.705222Z"
    },
    "papermill": {
     "duration": 64.20934,
     "end_time": "2022-03-17T04:26:41.705365",
     "exception": false,
     "start_time": "2022-03-17T04:25:37.496025",
     "status": "completed"
    },
    "tags": []
   },
   "outputs": [],
   "source": [
    "###################################\n",
    "# Evaluate the model\n",
    "###################################\n",
    "source_test_label_accuracy, source_test_label_loss = jig.test(datasets.source.processed.test)\n",
    "target_test_label_accuracy, target_test_label_loss = jig.test(datasets.target.processed.test)\n",
    "\n",
    "source_val_label_accuracy, source_val_label_loss = jig.test(datasets.source.processed.val)\n",
    "target_val_label_accuracy, target_val_label_loss = jig.test(datasets.target.processed.val)\n",
    "\n",
    "history = jig.get_history()\n",
    "\n",
    "total_epochs_trained = len(history[\"epoch_indices\"])\n",
    "\n",
    "val_dl = Iterable_Aggregator((datasets.source.original.val,datasets.target.original.val))\n",
    "\n",
    "confusion = ptn_confusion_by_domain_over_dataloader(model, p.device, val_dl)\n",
    "per_domain_accuracy = per_domain_accuracy_from_confusion(confusion)\n",
    "\n",
    "# Add a key to per_domain_accuracy for if it was a source domain\n",
    "for domain, accuracy in per_domain_accuracy.items():\n",
    "    per_domain_accuracy[domain] = {\n",
    "        \"accuracy\": accuracy,\n",
    "        \"source?\": domain in p.domains_source\n",
    "    }\n",
    "\n",
    "# Do an independent accuracy assesment JUST TO BE SURE!\n",
    "# _source_test_label_accuracy = independent_accuracy_assesment(model, datasets.source.processed.test, p.device)\n",
    "# _target_test_label_accuracy = independent_accuracy_assesment(model, datasets.target.processed.test, p.device)\n",
    "# _source_val_label_accuracy = independent_accuracy_assesment(model, datasets.source.processed.val, p.device)\n",
    "# _target_val_label_accuracy = independent_accuracy_assesment(model, datasets.target.processed.val, p.device)\n",
    "\n",
    "# assert(_source_test_label_accuracy == source_test_label_accuracy)\n",
    "# assert(_target_test_label_accuracy == target_test_label_accuracy)\n",
    "# assert(_source_val_label_accuracy == source_val_label_accuracy)\n",
    "# assert(_target_val_label_accuracy == target_val_label_accuracy)\n",
    "\n",
    "experiment = {\n",
    "    \"experiment_name\": p.experiment_name,\n",
    "    \"parameters\": dict(p),\n",
    "    \"results\": {\n",
    "        \"source_test_label_accuracy\": source_test_label_accuracy,\n",
    "        \"source_test_label_loss\": source_test_label_loss,\n",
    "        \"target_test_label_accuracy\": target_test_label_accuracy,\n",
    "        \"target_test_label_loss\": target_test_label_loss,\n",
    "        \"source_val_label_accuracy\": source_val_label_accuracy,\n",
    "        \"source_val_label_loss\": source_val_label_loss,\n",
    "        \"target_val_label_accuracy\": target_val_label_accuracy,\n",
    "        \"target_val_label_loss\": target_val_label_loss,\n",
    "        \"total_epochs_trained\": total_epochs_trained,\n",
    "        \"total_experiment_time_secs\": total_experiment_time_secs,\n",
    "        \"confusion\": confusion,\n",
    "        \"per_domain_accuracy\": per_domain_accuracy,\n",
    "    },\n",
    "    \"history\": history,\n",
    "    \"dataset_metrics\": get_dataset_metrics(datasets, \"ptn\"),\n",
    "}"
   ]
  },
  {
   "cell_type": "code",
   "execution_count": 25,
   "id": "54a21829",
   "metadata": {
    "execution": {
     "iopub.execute_input": "2022-03-17T04:26:41.768348Z",
     "iopub.status.busy": "2022-03-17T04:26:41.768094Z",
     "iopub.status.idle": "2022-03-17T04:26:41.892416Z",
     "shell.execute_reply": "2022-03-17T04:26:41.891981Z"
    },
    "papermill": {
     "duration": 0.154911,
     "end_time": "2022-03-17T04:26:41.892520",
     "exception": false,
     "start_time": "2022-03-17T04:26:41.737609",
     "status": "completed"
    },
    "tags": []
   },
   "outputs": [
    {
     "data": {
      "image/png": "[encoded data removed]",
      "text/plain": [
       "<Figure size 1080x504 with 1 Axes>"
      ]
     },
     "metadata": {
      "needs_background": "light"
     },
     "output_type": "display_data"
    }
   ],
   "source": [
    "ax = get_loss_curve(experiment)\n",
    "plt.show()"
   ]
  },
  {
   "cell_type": "code",
   "execution_count": 26,
   "id": "fd8a0f60",
   "metadata": {
    "execution": {
     "iopub.execute_input": "2022-03-17T04:26:41.959292Z",
     "iopub.status.busy": "2022-03-17T04:26:41.959012Z",
     "iopub.status.idle": "2022-03-17T04:26:42.101440Z",
     "shell.execute_reply": "2022-03-17T04:26:42.101664Z"
    },
    "papermill": {
     "duration": 0.174059,
     "end_time": "2022-03-17T04:26:42.101741",
     "exception": false,
     "start_time": "2022-03-17T04:26:41.927682",
     "status": "completed"
    },
    "tags": []
   },
   "outputs": [
    {
     "data": {
      "text/plain": [
       "<AxesSubplot:title={'center':'Results'}>"
      ]
     },
     "execution_count": 26,
     "metadata": {},
     "output_type": "execute_result"
    },
    {
     "data": {
      "image/png": "[encoded data removed]",
      "text/plain": [
       "<Figure size 1080x504 with 1 Axes>"
      ]
     },
     "metadata": {
      "needs_background": "light"
     },
     "output_type": "display_data"
    }
   ],
   "source": [
    "get_results_table(experiment)"
   ]
  },
  {
   "cell_type": "code",
   "execution_count": 27,
   "id": "cf8dc689",
   "metadata": {
    "execution": {
     "iopub.execute_input": "2022-03-17T04:26:42.169682Z",
     "iopub.status.busy": "2022-03-17T04:26:42.168863Z",
     "iopub.status.idle": "2022-03-17T04:26:42.329172Z",
     "shell.execute_reply": "2022-03-17T04:26:42.329588Z"
    },
    "papermill": {
     "duration": 0.195282,
     "end_time": "2022-03-17T04:26:42.329717",
     "exception": false,
     "start_time": "2022-03-17T04:26:42.134435",
     "status": "completed"
    },
    "tags": []
   },
   "outputs": [
    {
     "data": {
      "text/plain": [
       "<AxesSubplot:title={'center':'Per Domain Validation Accuracy'}, xlabel='domain'>"
      ]
     },
     "execution_count": 27,
     "metadata": {},
     "output_type": "execute_result"
    },
    {
     "data": {
      "image/png": "[encoded data removed]",
      "text/plain": [
       "<Figure size 1080x504 with 1 Axes>"
      ]
     },
     "metadata": {
      "needs_background": "light"
     },
     "output_type": "display_data"
    }
   ],
   "source": [
    "get_domain_accuracies(experiment)"
   ]
  },
  {
   "cell_type": "code",
   "execution_count": 28,
   "id": "a74ae082",
   "metadata": {
    "execution": {
     "iopub.execute_input": "2022-03-17T04:26:42.401483Z",
     "iopub.status.busy": "2022-03-17T04:26:42.400946Z",
     "iopub.status.idle": "2022-03-17T04:26:42.413857Z",
     "shell.execute_reply": "2022-03-17T04:26:42.413344Z"
    },
    "papermill": {
     "duration": 0.047032,
     "end_time": "2022-03-17T04:26:42.413959",
     "exception": false,
     "start_time": "2022-03-17T04:26:42.366927",
     "status": "completed"
    },
    "tags": []
   },
   "outputs": [
    {
     "name": "stdout",
     "output_type": "stream",
     "text": [
      "Source Test Label Accuracy: 0.9677868150684932 Target Test Label Accuracy: 0.20481770833333332\n",
      "Source Val Label Accuracy: 0.9731378424657534 Target Val Label Accuracy: 0.20755208333333333\n"
     ]
    }
   ],
   "source": [
    "print(\"Source Test Label Accuracy:\", experiment[\"results\"][\"source_test_label_accuracy\"], \"Target Test Label Accuracy:\", experiment[\"results\"][\"target_test_label_accuracy\"])\n",
    "print(\"Source Val Label Accuracy:\", experiment[\"results\"][\"source_val_label_accuracy\"], \"Target Val Label Accuracy:\", experiment[\"results\"][\"target_val_label_accuracy\"])"
   ]
  },
  {
   "cell_type": "code",
   "execution_count": 29,
   "id": "dacca602",
   "metadata": {
    "execution": {
     "iopub.execute_input": "2022-03-17T04:26:42.483383Z",
     "iopub.status.busy": "2022-03-17T04:26:42.483097Z",
     "iopub.status.idle": "2022-03-17T04:26:42.501138Z",
     "shell.execute_reply": "2022-03-17T04:26:42.501544Z"
    },
    "papermill": {
     "duration": 0.052178,
     "end_time": "2022-03-17T04:26:42.501667",
     "exception": false,
     "start_time": "2022-03-17T04:26:42.449489",
     "status": "completed"
    },
    "tags": [
     "experiment_json"
    ]
   },
   "outputs": [
    {
     "data": {
      "text/plain": [
       "'{\"experiment_name\": \"cores+wisig -> oracle.run2.framed\", \"parameters\": {\"experiment_name\": \"cores+wisig -> oracle.run2.framed\", \"device\": \"cuda\", \"lr\": 0.001, \"seed\": 1337, \"dataset_seed\": 1337, \"n_shot\": 3, \"n_query\": 2, \"train_k_factor\": 3, \"val_k_factor\": 2, \"test_k_factor\": 2, \"torch_default_dtype\": \"torch.float32\", \"n_epoch\": 50, \"patience\": 3, \"criteria_for_best\": \"target_loss\", \"x_net\": [{\"class\": \"nnReshape\", \"kargs\": {\"shape\": [-1, 1, 2, 256]}}, {\"class\": \"Conv2d\", \"kargs\": {\"in_channels\": 1, \"out_channels\": 256, \"kernel_size\": [1, 7], \"bias\": false, \"padding\": [0, 3]}}, {\"class\": \"ReLU\", \"kargs\": {\"inplace\": true}}, {\"class\": \"BatchNorm2d\", \"kargs\": {\"num_features\": 256}}, {\"class\": \"Conv2d\", \"kargs\": {\"in_channels\": 256, \"out_channels\": 80, \"kernel_size\": [2, 7], \"bias\": true, \"padding\": [0, 3]}}, {\"class\": \"ReLU\", \"kargs\": {\"inplace\": true}}, {\"class\": \"BatchNorm2d\", \"kargs\": {\"num_features\": 80}}, {\"class\": \"Flatten\", \"kargs\": {}}, {\"class\": \"Linear\", \"kargs\": {\"in_features\": 20480, \"out_features\": 256}}, {\"class\": \"ReLU\", \"kargs\": {\"inplace\": true}}, {\"class\": \"BatchNorm1d\", \"kargs\": {\"num_features\": 256}}, {\"class\": \"Linear\", \"kargs\": {\"in_features\": 256, \"out_features\": 256}}], \"NUM_LOGS_PER_EPOCH\": 10, \"BEST_MODEL_PATH\": \"./best_model.pth\", \"n_way\": 16, \"datasets\": [{\"labels\": [\"1-10.\", \"1-11.\", \"1-15.\", \"1-16.\", \"1-17.\", \"1-18.\", \"1-19.\", \"10-4.\", \"10-7.\", \"11-1.\", \"11-14.\", \"11-17.\", \"11-20.\", \"11-7.\", \"13-20.\", \"13-8.\", \"14-10.\", \"14-11.\", \"14-14.\", \"14-7.\", \"15-1.\", \"15-20.\", \"16-1.\", \"16-16.\", \"17-10.\", \"17-11.\", \"17-2.\", \"19-1.\", \"19-16.\", \"19-19.\", \"19-20.\", \"19-3.\", \"2-10.\", \"2-11.\", \"2-17.\", \"2-18.\", \"2-20.\", \"2-3.\", \"2-4.\", \"2-5.\", \"2-6.\", \"2-7.\", \"2-8.\", \"3-13.\", \"3-18.\", \"3-3.\", \"4-1.\", \"4-10.\", \"4-11.\", \"4-19.\", \"5-5.\", \"6-15.\", \"7-10.\", \"7-14.\", \"8-18.\", \"8-20.\", \"8-3.\", \"8-8.\"], \"domains\": [1, 2, 3, 4, 5], \"num_examples_per_domain_per_label\": 100, \"pickle_path\": \"/mnt/wd500GB/CSC500/csc500-main/datasets/cores.stratified_ds.2022A.pkl\", \"source_or_target_dataset\": \"source\", \"x_transforms\": [\"unit_mag\"], \"episode_transforms\": [], \"domain_prefix\": \"C_A_\"}, {\"labels\": [\"1-10\", \"1-12\", \"1-14\", \"1-16\", \"1-18\", \"1-19\", \"1-8\", \"10-11\", \"10-17\", \"10-4\", \"10-7\", \"11-1\", \"11-10\", \"11-19\", \"11-20\", \"11-4\", \"11-7\", \"12-19\", \"12-20\", \"12-7\", \"13-14\", \"13-18\", \"13-19\", \"13-20\", \"13-3\", \"13-7\", \"14-10\", \"14-11\", \"14-12\", \"14-13\", \"14-14\", \"14-19\", \"14-20\", \"14-7\", \"14-8\", \"14-9\", \"15-1\", \"15-19\", \"15-6\", \"16-1\", \"16-16\", \"16-19\", \"16-20\", \"17-10\", \"17-11\", \"18-1\", \"18-10\", \"18-11\", \"18-12\", \"18-13\", \"18-14\", \"18-15\", \"18-16\", \"18-17\", \"18-19\", \"18-2\", \"18-20\", \"18-4\", \"18-5\", \"18-7\", \"18-8\", \"18-9\", \"19-1\", \"19-10\", \"19-11\", \"19-12\", \"19-13\", \"19-14\", \"19-15\", \"19-19\", \"19-2\", \"19-20\", \"19-3\", \"19-4\", \"19-6\", \"19-7\", \"19-8\", \"19-9\", \"2-1\", \"2-13\", \"2-15\", \"2-3\", \"2-4\", \"2-5\", \"2-6\", \"2-7\", \"2-8\", \"20-1\", \"20-12\", \"20-14\", \"20-15\", \"20-16\", \"20-18\", \"20-19\", \"20-20\", \"20-3\", \"20-4\", \"20-5\", \"20-7\", \"20-8\", \"3-1\", \"3-13\", \"3-18\", \"3-2\", \"3-8\", \"4-1\", \"4-10\", \"4-11\", \"5-1\", \"5-5\", \"6-1\", \"6-15\", \"6-6\", \"7-10\", \"7-11\", \"7-12\", \"7-13\", \"7-14\", \"7-7\", \"7-8\", \"7-9\", \"8-1\", \"8-13\", \"8-14\", \"8-18\", \"8-20\", \"8-3\", \"8-8\", \"9-1\", \"9-7\"], \"domains\": [1, 2, 3, 4], \"num_examples_per_domain_per_label\": 100, \"pickle_path\": \"/mnt/wd500GB/CSC500/csc500-main/datasets/wisig.node3-19.stratified_ds.2022A.pkl\", \"source_or_target_dataset\": \"source\", \"x_transforms\": [\"unit_mag\"], \"episode_transforms\": [], \"domain_prefix\": \"W_A_\"}, {\"labels\": [\"3123D52\", \"3123D65\", \"3123D79\", \"3123D80\", \"3123D54\", \"3123D70\", \"3123D7B\", \"3123D89\", \"3123D58\", \"3123D76\", \"3123D7D\", \"3123EFE\", \"3123D64\", \"3123D78\", \"3123D7E\", \"3124E4A\"], \"domains\": [32, 38, 8, 44, 14, 50, 20, 26], \"num_examples_per_domain_per_label\": 2000, \"pickle_path\": \"/mnt/wd500GB/CSC500/csc500-main/datasets/oracle.Run2_framed_2000Examples_stratified_ds.2022A.pkl\", \"source_or_target_dataset\": \"target\", \"x_transforms\": [\"unit_mag\"], \"episode_transforms\": [], \"domain_prefix\": \"ORACLE.run2_\"}], \"domains_source\": [\"C_A_1\", \"C_A_2\", \"C_A_3\", \"C_A_4\", \"C_A_5\", \"W_A_1\", \"W_A_2\", \"W_A_3\", \"W_A_4\"], \"domains_target\": [\"ORACLE.run2_32\", \"ORACLE.run2_38\", \"ORACLE.run2_8\", \"ORACLE.run2_44\", \"ORACLE.run2_14\", \"ORACLE.run2_50\", \"ORACLE.run2_20\", \"ORACLE.run2_26\"]}, \"results\": {\"source_test_label_accuracy\": 0.9677868150684932, \"source_test_label_loss\": 0.15028414130210876, \"target_test_label_accuracy\": 0.20481770833333332, \"target_test_label_loss\": 2.401232957839966, \"source_val_label_accuracy\": 0.9731378424657534, \"source_val_label_loss\": 0.12459176033735275, \"target_val_label_accuracy\": 0.20755208333333333, \"target_val_label_loss\": 2.397510051727295, \"total_epochs_trained\": 7, \"total_experiment_time_secs\": 456.2351701259613, \"confusion\": {\"C_A_3\": {\"43\": {\"43\": 12}, \"9\": {\"9\": 12}, \"6\": {\"6\": 10}, \"3\": {\"3\": 12}, \"16\": {\"16\": 12}, \"51\": {\"51\": 12}, \"31\": {\"31\": 12}, \"46\": {\"46\": 10}, \"19\": {\"19\": 8}, \"8\": {\"8\": 12}, \"18\": {\"18\": 12}, \"37\": {\"37\": 12}, \"24\": {\"24\": 12}, \"10\": {\"10\": 12}, \"44\": {\"44\": 10}, \"14\": {\"14\": 8, \"31\": 4}, \"38\": {\"38\": 10}, \"53\": {\"53\": 12}, \"20\": {\"20\": 12}, \"32\": {\"32\": 12}, \"36\": {\"36\": 10}, \"33\": {\"33\": 12}, \"56\": {\"56\": 12}, \"23\": {\"23\": 12}, \"54\": {\"54\": 10}, \"34\": {\"34\": 12}, \"13\": {\"13\": 12}, \"2\": {\"2\": 12}, \"55\": {\"55\": 10}, \"21\": {\"21\": 10}, \"49\": {\"49\": 10}, \"25\": {\"25\": 12}, \"5\": {\"5\": 12}, \"50\": {\"50\": 8}, \"40\": {\"40\": 11, \"44\": 1}, \"57\": {\"57\": 8}, \"22\": {\"22\": 10}, \"1\": {\"1\": 10}, \"17\": {\"17\": 12}, \"41\": {\"41\": 12}, \"4\": {\"4\": 10}, \"7\": {\"7\": 10}, \"26\": {\"26\": 10}, \"29\": {\"29\": 12}, \"52\": {\"52\": 12}, \"15\": {\"15\": 12}, \"35\": {\"35\": 12}, \"42\": {\"42\": 12}, \"30\": {\"30\": 10}, \"27\": {\"27\": 8}, \"45\": {\"45\": 10}, \"0\": {\"0\": 12}, \"28\": {\"28\": 12}, \"47\": {\"47\": 12}, \"11\": {\"11\": 10}, \"39\": {\"39\": 10}, \"48\": {\"48\": 12}, \"12\": {\"12\": 8}}, \"C_A_4\": {\"35\": {\"35\": 10}, \"25\": {\"25\": 12}, \"24\": {\"24\": 10}, \"48\": {\"48\": 12}, \"51\": {\"51\": 12}, \"13\": {\"13\": 12}, \"14\": {\"14\": 8}, \"32\": {\"32\": 12}, \"30\": {\"30\": 12}, \"34\": {\"34\": 10}, \"9\": {\"9\": 12}, \"1\": {\"1\": 12}, \"0\": {\"0\": 12}, \"38\": {\"38\": 12}, \"22\": {\"22\": 8}, \"40\": {\"40\": 12}, \"39\": {\"39\": 12}, \"46\": {\"46\": 11, \"3\": 1}, \"36\": {\"36\": 12}, \"50\": {\"50\": 12}, \"49\": {\"49\": 12}, \"17\": {\"17\": 12}, \"45\": {\"45\": 12}, \"6\": {\"6\": 12}, \"8\": {\"8\": 12}, \"5\": {\"5\": 9, \"7\": 1}, \"33\": {\"33\": 12}, \"31\": {\"31\": 12}, \"37\": {\"37\": 10}, \"47\": {\"47\": 8}, \"15\": {\"15\": 10}, \"7\": {\"7\": 12}, \"20\": {\"20\": 12}, \"4\": {\"4\": 12}, \"54\": {\"54\": 12}, \"44\": {\"44\": 12}, \"3\": {\"3\": 12}, \"11\": {\"11\": 10}, \"27\": {\"27\": 10}, \"19\": {\"19\": 12}, \"55\": {\"55\": 12}, \"16\": {\"16\": 12}, \"2\": {\"2\": 10}, \"52\": {\"52\": 10}, \"42\": {\"42\": 10}, \"26\": {\"26\": 12}, \"10\": {\"10\": 12}, \"53\": {\"53\": 10}, \"28\": {\"28\": 12}, \"21\": {\"21\": 10}, \"57\": {\"57\": 10}, \"23\": {\"23\": 8}, \"43\": {\"43\": 10}, \"12\": {\"12\": 12}, \"41\": {\"41\": 12}, \"56\": {\"56\": 8}, \"18\": {\"18\": 10}, \"29\": {\"29\": 8}}, \"W_A_3\": {\"109\": {\"109\": 12}, \"127\": {\"127\": 12}, \"14\": {\"14\": 12}, \"7\": {\"7\": 12}, \"129\": {\"129\": 12}, \"57\": {\"57\": 12}, \"84\": {\"84\": 12}, \"114\": {\"114\": 12}, \"44\": {\"44\": 12}, \"21\": {\"21\": 12}, \"46\": {\"46\": 12}, \"100\": {\"100\": 12}, \"63\": {\"63\": 8, \"21\": 2, \"92\": 1, \"84\": 1}, \"24\": {\"24\": 9, \"21\": 1, \"118\": 1, \"36\": 1}, \"107\": {\"107\": 12}, \"35\": {\"109\": 1, \"35\": 8, \"95\": 1}, \"81\": {\"81\": 12}, \"64\": {\"64\": 12}, \"59\": {\"124\": 1, \"59\": 11}, \"33\": {\"33\": 12}, \"34\": {\"34\": 12}, \"36\": {\"36\": 12}, \"79\": {\"79\": 12}, \"80\": {\"80\": 11, \"5\": 1}, \"77\": {\"77\": 12}, \"22\": {\"22\": 12}, \"124\": {\"124\": 12}, \"2\": {\"2\": 12}, \"87\": {\"87\": 12}, \"105\": {\"105\": 12}, \"95\": {\"95\": 12}, \"43\": {\"43\": 12}, \"56\": {\"56\": 10}, \"18\": {\"18\": 12}, \"85\": {\"85\": 12}, \"113\": {\"113\": 12}, \"97\": {\"97\": 12}, \"86\": {\"86\": 12}, \"128\": {\"86\": 2, \"128\": 10}, \"123\": {\"123\": 12}, \"8\": {\"8\": 12}, \"110\": {\"110\": 12}, \"126\": {\"126\": 12}, \"101\": {\"101\": 12}, \"115\": {\"115\": 12}, \"49\": {\"49\": 12}, \"45\": {\"45\": 12}, \"78\": {\"78\": 9, \"40\": 1, \"13\": 1, \"82\": 1}, \"65\": {\"65\": 8, \"35\": 1, \"66\": 1}, \"54\": {\"54\": 12}, \"31\": {\"31\": 10}, \"42\": {\"42\": 11, \"78\": 1}, \"68\": {\"68\": 12}, \"15\": {\"15\": 12}, \"69\": {\"69\": 12}, \"17\": {\"17\": 9, \"104\": 1}, \"73\": {\"73\": 12}, \"121\": {\"121\": 12}, \"102\": {\"102\": 12}, \"48\": {\"48\": 10, \"56\": 1, \"22\": 1}, \"23\": {\"23\": 11, \"59\": 1}, \"108\": {\"108\": 11, \"53\": 1}, \"53\": {\"53\": 12}, \"94\": {\"94\": 10}, \"41\": {\"41\": 12}, \"58\": {\"58\": 12}, \"29\": {\"29\": 12}, \"116\": {\"116\": 10, \"92\": 1, \"11\": 1}, \"60\": {\"60\": 12}, \"104\": {\"104\": 12}, \"106\": {\"106\": 11, \"30\": 1}, \"66\": {\"66\": 12}, \"47\": {\"47\": 12}, \"40\": {\"40\": 12}, \"82\": {\"82\": 12}, \"13\": {\"78\": 2, \"55\": 1, \"13\": 7, \"40\": 1, \"11\": 1}, \"19\": {\"19\": 12}, \"72\": {\"72\": 12}, \"9\": {\"9\": 12}, \"67\": {\"67\": 12}, \"11\": {\"11\": 12}, \"125\": {\"125\": 12}, \"76\": {\"76\": 8}, \"83\": {\"83\": 12}, \"74\": {\"74\": 11, \"24\": 1}, \"20\": {\"20\": 12}, \"119\": {\"119\": 12}, \"1\": {\"1\": 12}, \"16\": {\"16\": 12}, \"25\": {\"25\": 11, \"108\": 1}, \"90\": {\"90\": 8}, \"39\": {\"39\": 12}, \"28\": {\"28\": 12}, \"55\": {\"55\": 12}, \"117\": {\"117\": 12}, \"112\": {\"112\": 12}, \"38\": {\"38\": 12}, \"37\": {\"37\": 12}, \"120\": {\"120\": 12}, \"122\": {\"122\": 10, \"105\": 1, \"111\": 1}, \"50\": {\"50\": 12}, \"10\": {\"10\": 12}, \"5\": {\"5\": 12}, \"51\": {\"51\": 12}, \"3\": {\"3\": 10, \"70\": 1, \"12\": 1}, \"98\": {\"98\": 11, \"60\": 1}, \"70\": {\"70\": 11, \"110\": 1}, \"96\": {\"96\": 12}, \"12\": {\"12\": 12}, \"99\": {\"99\": 12}, \"52\": {\"52\": 12}, \"71\": {\"71\": 10, \"61\": 1, \"3\": 1}, \"89\": {\"89\": 12}, \"0\": {\"0\": 12}, \"4\": {\"4\": 9, \"118\": 2, \"71\": 1}, \"93\": {\"93\": 12}, \"6\": {\"6\": 10}, \"75\": {\"75\": 12}, \"62\": {\"62\": 12}, \"103\": {\"103\": 12}, \"30\": {\"30\": 12}, \"91\": {\"91\": 11, \"103\": 1}, \"27\": {\"27\": 12}, \"26\": {\"26\": 12}, \"61\": {\"61\": 12}, \"118\": {\"118\": 11, \"13\": 1}, \"92\": {\"92\": 12}, \"111\": {\"111\": 12}, \"32\": {\"32\": 11, \"89\": 1}, \"88\": {\"88\": 10}}, \"C_A_5\": {\"47\": {\"47\": 9, \"1\": 1}, \"53\": {\"53\": 12}, \"29\": {\"29\": 12}, \"52\": {\"52\": 12}, \"55\": {\"55\": 12}, \"17\": {\"17\": 12}, \"42\": {\"42\": 12}, \"33\": {\"33\": 10}, \"11\": {\"11\": 12}, \"19\": {\"19\": 8}, \"1\": {\"1\": 12}, \"44\": {\"44\": 12}, \"49\": {\"49\": 12}, \"4\": {\"4\": 12}, \"6\": {\"6\": 12}, \"39\": {\"39\": 12}, \"13\": {\"13\": 12}, \"5\": {\"5\": 10}, \"16\": {\"16\": 10}, \"25\": {\"25\": 12}, \"45\": {\"45\": 12}, \"7\": {\"7\": 10}, \"22\": {\"22\": 12}, \"40\": {\"40\": 11, \"28\": 1}, \"38\": {\"38\": 12}, \"35\": {\"35\": 8}, \"56\": {\"56\": 12}, \"50\": {\"50\": 10}, \"0\": {\"0\": 12}, \"10\": {\"10\": 12}, \"27\": {\"27\": 12}, \"20\": {\"20\": 10}, \"36\": {\"36\": 8}, \"34\": {\"34\": 12}, \"30\": {\"30\": 12}, \"2\": {\"2\": 10}, \"15\": {\"15\": 12}, \"18\": {\"18\": 12}, \"32\": {\"32\": 12}, \"31\": {\"31\": 12}, \"57\": {\"57\": 12}, \"48\": {\"48\": 8}, \"28\": {\"28\": 10}, \"14\": {\"14\": 10, \"31\": 2}, \"3\": {\"3\": 12}, \"8\": {\"8\": 12}, \"9\": {\"9\": 12}, \"21\": {\"21\": 10}, \"41\": {\"41\": 12}, \"24\": {\"24\": 12}, \"46\": {\"46\": 10}, \"43\": {\"43\": 10}, \"54\": {\"54\": 10}, \"23\": {\"23\": 10}, \"37\": {\"37\": 10}, \"12\": {\"12\": 10}, \"26\": {\"26\": 10}, \"51\": {\"51\": 6}}, \"C_A_1\": {\"46\": {\"46\": 12}, \"16\": {\"16\": 12}, \"26\": {\"26\": 12}, \"10\": {\"10\": 12}, \"9\": {\"9\": 10}, \"28\": {\"28\": 12}, \"51\": {\"51\": 12}, \"1\": {\"1\": 12}, \"55\": {\"55\": 12}, \"27\": {\"27\": 10}, \"22\": {\"22\": 12}, \"52\": {\"52\": 12}, \"3\": {\"3\": 12}, \"33\": {\"33\": 8}, \"47\": {\"47\": 12}, \"42\": {\"42\": 12}, \"12\": {\"12\": 4}, \"23\": {\"23\": 12}, \"49\": {\"49\": 10}, \"7\": {\"7\": 12}, \"4\": {\"4\": 12}, \"50\": {\"50\": 12}, \"19\": {\"19\": 12}, \"11\": {\"11\": 12}, \"31\": {\"31\": 10}, \"41\": {\"41\": 12}, \"56\": {\"56\": 10}, \"0\": {\"0\": 12}, \"57\": {\"57\": 12}, \"53\": {\"53\": 12}, \"43\": {\"43\": 12}, \"37\": {\"37\": 12}, \"2\": {\"2\": 8}, \"6\": {\"6\": 12}, \"18\": {\"18\": 12}, \"38\": {\"38\": 12}, \"15\": {\"15\": 12}, \"36\": {\"36\": 12}, \"39\": {\"39\": 8}, \"44\": {\"44\": 12}, \"8\": {\"8\": 12}, \"17\": {\"17\": 10}, \"5\": {\"5\": 12}, \"13\": {\"13\": 10}, \"40\": {\"40\": 10}, \"29\": {\"29\": 12}, \"48\": {\"48\": 12}, \"32\": {\"32\": 12}, \"30\": {\"30\": 12}, \"35\": {\"35\": 12}, \"25\": {\"25\": 12}, \"14\": {\"14\": 10, \"48\": 1, \"41\": 1}, \"54\": {\"54\": 10}, \"20\": {\"20\": 8}, \"21\": {\"21\": 10}, \"45\": {\"45\": 8}, \"24\": {\"24\": 8}, \"34\": {\"34\": 8}}, \"W_A_4\": {\"28\": {\"28\": 12}, \"4\": {\"4\": 12}, \"72\": {\"72\": 12}, \"111\": {\"111\": 12}, \"108\": {\"108\": 12}, \"43\": {\"43\": 10}, \"96\": {\"96\": 12}, \"89\": {\"89\": 12}, \"31\": {\"31\": 12}, \"45\": {\"45\": 12}, \"2\": {\"2\": 12}, \"114\": {\"114\": 12}, \"11\": {\"11\": 12}, \"12\": {\"12\": 12}, \"14\": {\"14\": 12}, \"90\": {\"90\": 12}, \"10\": {\"10\": 9, \"24\": 1, \"27\": 1, \"94\": 1}, \"63\": {\"12\": 1, \"63\": 10, \"80\": 1}, \"85\": {\"85\": 11, \"63\": 1}, \"64\": {\"64\": 12}, \"82\": {\"82\": 10, \"127\": 1, \"70\": 1}, \"58\": {\"58\": 12}, \"3\": {\"3\": 12}, \"54\": {\"54\": 12}, \"121\": {\"121\": 12}, \"42\": {\"42\": 12}, \"98\": {\"98\": 12}, \"123\": {\"123\": 11, \"113\": 1}, \"91\": {\"91\": 11, \"121\": 1}, \"66\": {\"66\": 12}, \"102\": {\"102\": 12}, \"122\": {\"122\": 12}, \"1\": {\"1\": 12}, \"15\": {\"15\": 12}, \"97\": {\"15\": 1, \"97\": 10, \"12\": 1}, \"75\": {\"75\": 12}, \"95\": {\"95\": 12}, \"57\": {\"57\": 12}, \"68\": {\"68\": 12}, \"125\": {\"125\": 12}, \"62\": {\"62\": 10}, \"27\": {\"27\": 10, \"78\": 1, \"80\": 1}, \"120\": {\"120\": 11, \"23\": 1}, \"26\": {\"26\": 12}, \"55\": {\"55\": 12}, \"71\": {\"71\": 11, \"117\": 1}, \"22\": {\"22\": 12}, \"99\": {\"99\": 11, \"57\": 1}, \"84\": {\"84\": 10, \"103\": 1, \"43\": 1}, \"37\": {\"37\": 12}, \"83\": {\"83\": 12}, \"46\": {\"46\": 12}, \"35\": {\"35\": 12}, \"13\": {\"13\": 12}, \"53\": {\"53\": 10, \"86\": 1, \"65\": 1}, \"127\": {\"127\": 12}, \"69\": {\"57\": 1, \"69\": 10, \"125\": 1}, \"48\": {\"48\": 11, \"34\": 1}, \"16\": {\"16\": 12}, \"0\": {\"0\": 11, \"4\": 1}, \"8\": {\"8\": 10, \"127\": 1, \"100\": 1}, \"9\": {\"9\": 12}, \"115\": {\"115\": 10, \"87\": 1, \"128\": 1}, \"70\": {\"70\": 11, \"50\": 1}, \"119\": {\"119\": 12}, \"59\": {\"59\": 12}, \"52\": {\"52\": 12}, \"60\": {\"60\": 9, \"99\": 1, \"110\": 2}, \"44\": {\"44\": 12}, \"51\": {\"51\": 12}, \"6\": {\"6\": 12}, \"73\": {\"73\": 12}, \"78\": {\"78\": 11, \"87\": 1}, \"92\": {\"92\": 12}, \"20\": {\"20\": 11, \"23\": 1}, \"17\": {\"17\": 12}, \"74\": {\"74\": 12}, \"19\": {\"19\": 12}, \"50\": {\"50\": 12}, \"34\": {\"34\": 10, \"78\": 1, \"65\": 1}, \"104\": {\"104\": 8}, \"33\": {\"33\": 9, \"71\": 1, \"105\": 1, \"51\": 1}, \"5\": {\"5\": 12}, \"7\": {\"7\": 11, \"69\": 1}, \"29\": {\"29\": 12}, \"25\": {\"25\": 12}, \"124\": {\"124\": 12}, \"117\": {\"117\": 10, \"59\": 1, \"12\": 1}, \"88\": {\"88\": 10, \"122\": 1, \"71\": 1}, \"61\": {\"61\": 11, \"3\": 1}, \"86\": {\"86\": 12}, \"116\": {\"116\": 12}, \"24\": {\"36\": 3, \"24\": 9}, \"128\": {\"128\": 10, \"28\": 1, \"78\": 1}, \"101\": {\"101\": 12}, \"65\": {\"65\": 9, \"23\": 1}, \"36\": {\"36\": 11, \"24\": 1}, \"21\": {\"21\": 10, \"50\": 1, \"99\": 1}, \"106\": {\"106\": 12}, \"118\": {\"118\": 10, \"71\": 1, \"57\": 1}, \"113\": {\"113\": 11, \"51\": 1}, \"40\": {\"40\": 12}, \"93\": {\"93\": 7, \"110\": 1}, \"94\": {\"94\": 10, \"36\": 1, \"59\": 1}, \"103\": {\"103\": 7, \"6\": 2, \"5\": 1, \"87\": 1, \"22\": 1}, \"110\": {\"110\": 12}, \"56\": {\"56\": 12}, \"39\": {\"39\": 12}, \"109\": {\"109\": 12}, \"67\": {\"67\": 11, \"71\": 1}, \"129\": {\"129\": 12}, \"30\": {\"30\": 12}, \"126\": {\"126\": 10, \"109\": 1, \"50\": 1}, \"87\": {\"51\": 1, \"87\": 11}, \"112\": {\"112\": 12}, \"100\": {\"100\": 12}, \"79\": {\"79\": 10}, \"81\": {\"81\": 11, \"17\": 1}, \"76\": {\"76\": 10}, \"47\": {\"47\": 11, \"100\": 1}, \"77\": {\"77\": 12}, \"23\": {\"103\": 1, \"23\": 6, \"49\": 1, \"41\": 1, \"9\": 1, \"69\": 1, \"78\": 1}, \"18\": {\"18\": 12}, \"49\": {\"49\": 12}, \"41\": {\"41\": 10, \"47\": 1, \"86\": 1}, \"32\": {\"32\": 11, \"92\": 1}, \"107\": {\"107\": 10}, \"80\": {\"80\": 11, \"126\": 1}, \"105\": {\"105\": 8, \"87\": 1, \"113\": 1}, \"38\": {\"38\": 10}}, \"W_A_1\": {\"108\": {\"108\": 10}, \"40\": {\"40\": 12}, \"68\": {\"68\": 12}, \"23\": {\"23\": 11, \"12\": 1}, \"26\": {\"70\": 1, \"26\": 11}, \"64\": {\"64\": 12}, \"22\": {\"22\": 12}, \"3\": {\"3\": 12}, \"4\": {\"4\": 11, \"50\": 1}, \"70\": {\"70\": 12}, \"57\": {\"57\": 12}, \"79\": {\"79\": 12}, \"9\": {\"9\": 12}, \"89\": {\"89\": 12}, \"110\": {\"110\": 12}, \"102\": {\"102\": 12}, \"31\": {\"31\": 12}, \"58\": {\"58\": 12}, \"47\": {\"47\": 12}, \"24\": {\"24\": 11, \"36\": 1}, \"19\": {\"19\": 12}, \"11\": {\"11\": 12}, \"52\": {\"52\": 12}, \"17\": {\"17\": 12}, \"25\": {\"25\": 12}, \"69\": {\"69\": 12}, \"96\": {\"96\": 12}, \"109\": {\"109\": 12}, \"115\": {\"115\": 12}, \"83\": {\"83\": 12}, \"84\": {\"84\": 12}, \"119\": {\"119\": 10}, \"122\": {\"122\": 10}, \"99\": {\"99\": 12}, \"1\": {\"1\": 12}, \"74\": {\"74\": 10, \"127\": 1, \"68\": 1}, \"85\": {\"85\": 12}, \"127\": {\"127\": 12}, \"111\": {\"111\": 12}, \"53\": {\"53\": 12}, \"88\": {\"88\": 10, \"36\": 2}, \"65\": {\"65\": 8, \"60\": 1, \"119\": 1}, \"7\": {\"7\": 12}, \"16\": {\"16\": 11, \"122\": 1}, \"128\": {\"128\": 12}, \"34\": {\"34\": 11, \"68\": 1}, \"129\": {\"129\": 12}, \"43\": {\"43\": 12}, \"92\": {\"92\": 12}, \"28\": {\"28\": 12}, \"27\": {\"27\": 12}, \"114\": {\"114\": 12}, \"73\": {\"73\": 12}, \"0\": {\"0\": 12}, \"104\": {\"104\": 12}, \"118\": {\"118\": 12}, \"41\": {\"41\": 12}, \"49\": {\"49\": 11, \"97\": 1}, \"14\": {\"14\": 12}, \"46\": {\"22\": 1, \"46\": 9, \"45\": 1, \"125\": 1}, \"33\": {\"33\": 12}, \"76\": {\"76\": 12}, \"125\": {\"125\": 12}, \"86\": {\"86\": 10}, \"66\": {\"66\": 11, \"115\": 1}, \"5\": {\"5\": 12}, \"117\": {\"117\": 12}, \"75\": {\"75\": 12}, \"61\": {\"61\": 12}, \"50\": {\"50\": 11, \"23\": 1}, \"67\": {\"67\": 10}, \"18\": {\"18\": 12}, \"98\": {\"98\": 12}, \"55\": {\"55\": 10}, \"32\": {\"32\": 12}, \"120\": {\"120\": 12}, \"97\": {\"97\": 12}, \"126\": {\"126\": 12}, \"45\": {\"73\": 1, \"45\": 10, \"61\": 1}, \"78\": {\"78\": 7, \"43\": 2, \"45\": 1}, \"100\": {\"100\": 12}, \"107\": {\"107\": 12}, \"93\": {\"93\": 12}, \"77\": {\"77\": 12}, \"63\": {\"63\": 12}, \"112\": {\"112\": 12}, \"113\": {\"113\": 12}, \"103\": {\"103\": 10}, \"71\": {\"71\": 12}, \"30\": {\"30\": 12}, \"90\": {\"90\": 12}, \"37\": {\"103\": 1, \"37\": 11}, \"60\": {\"60\": 9, \"86\": 1, \"63\": 1, \"49\": 1}, \"15\": {\"15\": 10, \"111\": 2}, \"39\": {\"39\": 12}, \"72\": {\"72\": 12}, \"54\": {\"54\": 12}, \"35\": {\"35\": 12}, \"2\": {\"2\": 12}, \"94\": {\"94\": 11, \"106\": 1}, \"42\": {\"42\": 10, \"100\": 1, \"109\": 1}, \"81\": {\"81\": 12}, \"8\": {\"8\": 12}, \"87\": {\"87\": 12}, \"6\": {\"6\": 12}, \"36\": {\"36\": 11, \"88\": 1}, \"91\": {\"91\": 12}, \"56\": {\"56\": 12}, \"80\": {\"80\": 12}, \"124\": {\"124\": 10}, \"44\": {\"44\": 12}, \"13\": {\"13\": 12}, \"10\": {\"10\": 10, \"78\": 1, \"43\": 1}, \"59\": {\"59\": 12}, \"95\": {\"95\": 12}, \"105\": {\"105\": 11, \"66\": 1}, \"101\": {\"101\": 12}, \"20\": {\"20\": 12}, \"48\": {\"48\": 10, \"28\": 1, \"123\": 1}, \"106\": {\"111\": 1, \"106\": 11}, \"51\": {\"51\": 12}, \"21\": {\"21\": 8, \"84\": 2, \"23\": 1, \"106\": 1}, \"123\": {\"123\": 12}, \"121\": {\"121\": 12}, \"38\": {\"38\": 12}, \"62\": {\"62\": 12}, \"29\": {\"29\": 12}, \"82\": {\"82\": 12}, \"116\": {\"116\": 12}, \"12\": {\"12\": 8}}, \"W_A_2\": {\"91\": {\"91\": 12}, \"12\": {\"12\": 10, \"67\": 1, \"8\": 1}, \"101\": {\"101\": 10}, \"121\": {\"121\": 11, \"72\": 1}, \"118\": {\"118\": 12}, \"10\": {\"10\": 12}, \"117\": {\"117\": 11, \"121\": 1}, \"110\": {\"110\": 11, \"101\": 1}, \"97\": {\"97\": 10, \"17\": 1, \"119\": 1}, \"28\": {\"17\": 1, \"28\": 9, \"22\": 1, \"60\": 1}, \"88\": {\"88\": 12}, \"17\": {\"17\": 11, \"91\": 1}, \"126\": {\"88\": 1, \"126\": 11}, \"33\": {\"33\": 12}, \"86\": {\"86\": 12}, \"106\": {\"106\": 12}, \"54\": {\"54\": 12}, \"125\": {\"125\": 12}, \"83\": {\"83\": 12}, \"98\": {\"98\": 12}, \"11\": {\"11\": 10, \"49\": 1, \"71\": 1}, \"32\": {\"32\": 12}, \"42\": {\"42\": 12}, \"103\": {\"103\": 12}, \"87\": {\"87\": 12}, \"61\": {\"61\": 11, \"65\": 1}, \"13\": {\"13\": 12}, \"4\": {\"4\": 12}, \"15\": {\"15\": 10}, \"120\": {\"120\": 12}, \"80\": {\"80\": 12}, \"72\": {\"72\": 10}, \"64\": {\"64\": 12}, \"81\": {\"81\": 12}, \"102\": {\"102\": 12}, \"76\": {\"76\": 12}, \"49\": {\"49\": 9, \"67\": 1}, \"129\": {\"129\": 12}, \"89\": {\"89\": 12}, \"52\": {\"52\": 12}, \"35\": {\"35\": 12}, \"53\": {\"53\": 10, \"79\": 1, \"58\": 1}, \"112\": {\"112\": 12}, \"105\": {\"105\": 12}, \"100\": {\"100\": 12}, \"9\": {\"9\": 12}, \"82\": {\"82\": 12}, \"51\": {\"51\": 11, \"77\": 1}, \"21\": {\"21\": 12}, \"92\": {\"92\": 11, \"84\": 1}, \"69\": {\"69\": 12}, \"77\": {\"77\": 12}, \"50\": {\"50\": 11, \"88\": 1}, \"36\": {\"36\": 11, \"24\": 1}, \"16\": {\"16\": 10, \"28\": 1, \"114\": 1}, \"8\": {\"18\": 1, \"8\": 10, \"120\": 1}, \"127\": {\"127\": 12}, \"46\": {\"46\": 10}, \"84\": {\"84\": 12}, \"18\": {\"18\": 12}, \"123\": {\"123\": 10}, \"56\": {\"56\": 11, \"15\": 1}, \"26\": {\"26\": 12}, \"14\": {\"65\": 1, \"14\": 7, \"107\": 2, \"43\": 1, \"71\": 1}, \"109\": {\"109\": 12}, \"66\": {\"66\": 12}, \"24\": {\"24\": 11, \"43\": 1}, \"71\": {\"65\": 1, \"71\": 11}, \"65\": {\"65\": 11, \"51\": 1}, \"75\": {\"75\": 11, \"67\": 1}, \"111\": {\"111\": 12}, \"30\": {\"30\": 10, \"127\": 1, \"42\": 1}, \"85\": {\"85\": 12}, \"113\": {\"113\": 9, \"118\": 1}, \"45\": {\"45\": 12}, \"29\": {\"29\": 11, \"95\": 1}, \"20\": {\"20\": 12}, \"25\": {\"25\": 12}, \"0\": {\"0\": 12}, \"68\": {\"68\": 12}, \"119\": {\"119\": 12}, \"90\": {\"90\": 12}, \"38\": {\"38\": 12}, \"99\": {\"99\": 12}, \"1\": {\"1\": 12}, \"67\": {\"67\": 10, \"109\": 1, \"106\": 1}, \"63\": {\"63\": 12}, \"34\": {\"34\": 12}, \"108\": {\"108\": 12}, \"40\": {\"40\": 12}, \"47\": {\"47\": 11, \"59\": 1}, \"37\": {\"37\": 12}, \"78\": {\"78\": 12}, \"96\": {\"96\": 12}, \"43\": {\"43\": 11, \"21\": 1}, \"5\": {\"5\": 10}, \"124\": {\"124\": 12}, \"44\": {\"44\": 12}, \"41\": {\"41\": 11, \"121\": 1}, \"116\": {\"116\": 12}, \"19\": {\"19\": 11, \"82\": 1}, \"115\": {\"115\": 12}, \"95\": {\"95\": 11, \"105\": 1}, \"3\": {\"3\": 10}, \"59\": {\"59\": 12}, \"55\": {\"55\": 12}, \"70\": {\"70\": 12}, \"6\": {\"6\": 12}, \"2\": {\"2\": 12}, \"48\": {\"48\": 12}, \"23\": {\"23\": 9, \"19\": 1, \"73\": 1, \"70\": 1}, \"7\": {\"7\": 12}, \"122\": {\"122\": 10, \"127\": 1, \"111\": 1}, \"57\": {\"57\": 10, \"42\": 1, \"59\": 1}, \"39\": {\"39\": 8, \"18\": 1, \"53\": 1}, \"79\": {\"79\": 12}, \"27\": {\"27\": 10}, \"74\": {\"74\": 9, \"79\": 1, \"120\": 1, \"65\": 1}, \"73\": {\"73\": 12}, \"62\": {\"62\": 12}, \"107\": {\"107\": 12}, \"128\": {\"128\": 11, \"5\": 1}, \"60\": {\"60\": 11, \"83\": 1}, \"114\": {\"114\": 12}, \"22\": {\"22\": 12}, \"93\": {\"93\": 12}, \"94\": {\"94\": 11, \"12\": 1}, \"31\": {\"31\": 10}, \"104\": {\"104\": 12}, \"58\": {\"58\": 12}}, \"C_A_2\": {\"14\": {\"14\": 12}, \"22\": {\"22\": 12}, \"9\": {\"9\": 12}, \"47\": {\"47\": 12}, \"13\": {\"13\": 12}, \"8\": {\"8\": 12}, \"7\": {\"7\": 12}, \"49\": {\"49\": 12}, \"20\": {\"20\": 12}, \"16\": {\"16\": 12}, \"34\": {\"34\": 12}, \"56\": {\"56\": 12}, \"38\": {\"38\": 10}, \"4\": {\"4\": 12}, \"43\": {\"43\": 10}, \"26\": {\"26\": 10}, \"35\": {\"35\": 12}, \"31\": {\"31\": 12}, \"1\": {\"1\": 12}, \"39\": {\"39\": 12}, \"5\": {\"5\": 12}, \"24\": {\"24\": 12}, \"54\": {\"54\": 10}, \"23\": {\"23\": 12}, \"51\": {\"51\": 12}, \"27\": {\"27\": 10}, \"15\": {\"15\": 12}, \"0\": {\"0\": 12}, \"19\": {\"19\": 10}, \"18\": {\"18\": 8}, \"30\": {\"30\": 12}, \"55\": {\"55\": 10}, \"57\": {\"57\": 12}, \"2\": {\"2\": 12}, \"12\": {\"12\": 8}, \"41\": {\"41\": 12}, \"42\": {\"42\": 12}, \"48\": {\"48\": 12}, \"37\": {\"37\": 12}, \"6\": {\"6\": 9, \"46\": 1}, \"11\": {\"11\": 10}, \"45\": {\"45\": 8}, \"21\": {\"21\": 12}, \"46\": {\"46\": 10}, \"25\": {\"25\": 12}, \"36\": {\"36\": 10}, \"53\": {\"53\": 12}, \"28\": {\"28\": 12}, \"40\": {\"40\": 10}, \"33\": {\"33\": 10}, \"44\": {\"44\": 10}, \"3\": {\"3\": 12}, \"17\": {\"17\": 12}, \"32\": {\"32\": 10}, \"10\": {\"10\": 10}, \"52\": {\"52\": 10}, \"50\": {\"50\": 8}, \"29\": {\"29\": 6}}, \"ORACLE.run2_14\": {\"15\": {\"15\": 71, \"4\": 18, \"6\": 19, \"5\": 11, \"7\": 34, \"13\": 38, \"2\": 22, \"3\": 5, \"1\": 10, \"14\": 12}, \"3\": {\"3\": 22, \"0\": 21, \"4\": 34, \"7\": 14, \"1\": 26, \"5\": 27, \"13\": 12, \"6\": 16, \"2\": 12, \"11\": 5, \"10\": 16, \"14\": 15, \"15\": 4, \"9\": 9, \"8\": 7}, \"6\": {\"1\": 9, \"0\": 9, \"3\": 13, \"2\": 28, \"13\": 35, \"14\": 30, \"5\": 25, \"4\": 12, \"6\": 34, \"15\": 20, \"7\": 11, \"10\": 13, \"12\": 1}, \"1\": {\"1\": 40, \"0\": 16, \"6\": 13, \"4\": 41, \"7\": 18, \"2\": 16, \"9\": 5, \"5\": 25, \"8\": 13, \"3\": 22, \"15\": 5, \"13\": 8, \"14\": 10, \"10\": 7, \"12\": 1}, \"8\": {\"0\": 12, \"1\": 16, \"11\": 16, \"9\": 43, \"4\": 16, \"3\": 19, \"8\": 86, \"12\": 14, \"5\": 5, \"2\": 1, \"10\": 6, \"7\": 6}, \"10\": {\"10\": 39, \"2\": 14, \"0\": 29, \"5\": 19, \"6\": 11, \"11\": 28, \"1\": 11, \"12\": 11, \"3\": 21, \"14\": 19, \"4\": 18, \"9\": 11, \"13\": 5, \"8\": 4}, \"9\": {\"0\": 9, \"11\": 50, \"8\": 40, \"9\": 67, \"12\": 31, \"14\": 2, \"10\": 10, \"3\": 9, \"1\": 7, \"5\": 7, \"2\": 2, \"13\": 1, \"7\": 1, \"6\": 1, \"4\": 3}, \"13\": {\"13\": 51, \"15\": 34, \"4\": 17, \"5\": 18, \"6\": 32, \"1\": 7, \"2\": 26, \"14\": 25, \"3\": 11, \"0\": 7, \"7\": 11, \"10\": 1}, \"12\": {\"8\": 21, \"9\": 62, \"11\": 37, \"14\": 3, \"12\": 71, \"10\": 25, \"0\": 11, \"3\": 4, \"4\": 3, \"6\": 1, \"5\": 2}, \"5\": {\"0\": 14, \"7\": 13, \"9\": 8, \"3\": 22, \"6\": 23, \"1\": 33, \"5\": 29, \"4\": 18, \"10\": 10, \"14\": 25, \"15\": 8, \"2\": 15, \"11\": 4, \"8\": 4, \"13\": 14}, \"0\": {\"12\": 17, \"4\": 16, \"13\": 4, \"6\": 11, \"5\": 13, \"11\": 25, \"1\": 20, \"9\": 11, \"3\": 25, \"14\": 18, \"7\": 5, \"2\": 8, \"0\": 35, \"10\": 25, \"8\": 7}, \"2\": {\"4\": 28, \"1\": 12, \"3\": 17, \"6\": 23, \"5\": 25, \"2\": 25, \"15\": 13, \"14\": 19, \"7\": 18, \"13\": 35, \"0\": 11, \"10\": 13, \"9\": 1}, \"11\": {\"0\": 25, \"11\": 69, \"2\": 3, \"12\": 29, \"9\": 40, \"8\": 10, \"3\": 12, \"4\": 7, \"5\": 8, \"10\": 33, \"1\": 2, \"14\": 2}, \"14\": {\"7\": 5, \"13\": 30, \"0\": 19, \"5\": 27, \"14\": 35, \"6\": 28, \"2\": 22, \"4\": 18, \"1\": 14, \"3\": 13, \"15\": 15, \"10\": 10, \"12\": 1, \"11\": 2, \"9\": 1}, \"7\": {\"15\": 40, \"13\": 16, \"7\": 45, \"3\": 15, \"2\": 11, \"5\": 29, \"1\": 28, \"4\": 20, \"6\": 17, \"0\": 2, \"14\": 14, \"8\": 2, \"9\": 1}, \"4\": {\"1\": 35, \"6\": 14, \"5\": 31, \"8\": 6, \"14\": 18, \"10\": 6, \"13\": 15, \"4\": 29, \"11\": 3, \"3\": 17, \"0\": 20, \"9\": 7, \"2\": 14, \"7\": 14, \"15\": 11}}, \"ORACLE.run2_20\": {\"3\": {\"2\": 28, \"11\": 8, \"12\": 15, \"15\": 13, \"3\": 21, \"14\": 11, \"0\": 19, \"13\": 16, \"8\": 11, \"6\": 7, \"5\": 11, \"1\": 11, \"9\": 22, \"10\": 18, \"7\": 15, \"4\": 14}, \"15\": {\"3\": 19, \"4\": 17, \"11\": 10, \"0\": 22, \"13\": 25, \"9\": 15, \"1\": 21, \"5\": 12, \"2\": 24, \"15\": 28, \"12\": 22, \"7\": 11, \"14\": 3, \"8\": 4, \"10\": 3, \"6\": 4}, \"8\": {\"12\": 12, \"9\": 9, \"0\": 10, \"4\": 20, \"3\": 17, \"15\": 13, \"8\": 25, \"7\": 23, \"2\": 12, \"11\": 11, \"13\": 7, \"6\": 19, \"5\": 11, \"10\": 23, \"14\": 23, \"1\": 5}, \"4\": {\"2\": 12, \"10\": 25, \"0\": 17, \"12\": 22, \"8\": 14, \"6\": 12, \"15\": 14, \"9\": 10, \"3\": 17, \"5\": 21, \"1\": 15, \"13\": 12, \"7\": 15, \"4\": 18, \"14\": 10, \"11\": 6}, \"14\": {\"14\": 39, \"4\": 19, \"6\": 35, \"8\": 22, \"9\": 13, \"10\": 26, \"2\": 10, \"7\": 26, \"1\": 3, \"0\": 5, \"12\": 4, \"3\": 18, \"15\": 4, \"13\": 3, \"5\": 11, \"11\": 2}, \"0\": {\"12\": 20, \"7\": 14, \"9\": 23, \"0\": 22, \"1\": 27, \"13\": 21, \"3\": 18, \"10\": 7, \"8\": 9, \"15\": 17, \"5\": 13, \"14\": 8, \"2\": 18, \"11\": 9, \"6\": 5, \"4\": 9}, \"7\": {\"10\": 22, \"2\": 16, \"15\": 13, \"8\": 19, \"9\": 15, \"11\": 9, \"5\": 14, \"4\": 14, \"7\": 19, \"12\": 12, \"13\": 8, \"6\": 20, \"0\": 10, \"3\": 23, \"1\": 14, \"14\": 12}, \"6\": {\"10\": 35, \"11\": 10, \"6\": 51, \"14\": 39, \"7\": 13, \"12\": 5, \"8\": 27, \"3\": 14, \"5\": 11, \"15\": 6, \"4\": 10, \"2\": 12, \"9\": 2, \"13\": 2, \"1\": 1, \"0\": 2}, \"10\": {\"10\": 48, \"6\": 21, \"7\": 27, \"3\": 20, \"15\": 6, \"8\": 25, \"0\": 9, \"4\": 19, \"14\": 21, \"1\": 5, \"5\": 15, \"9\": 7, \"12\": 5, \"2\": 7, \"13\": 3, \"11\": 2}, \"5\": {\"3\": 16, \"2\": 21, \"12\": 17, \"1\": 19, \"4\": 20, \"15\": 14, \"0\": 17, \"13\": 23, \"11\": 17, \"8\": 10, \"5\": 12, \"7\": 8, \"14\": 11, \"9\": 16, \"10\": 11, \"6\": 8}, \"2\": {\"2\": 28, \"15\": 20, \"10\": 10, \"4\": 16, \"6\": 5, \"7\": 10, \"5\": 13, \"8\": 9, \"13\": 19, \"3\": 24, \"12\": 21, \"14\": 5, \"0\": 12, \"1\": 16, \"9\": 20, \"11\": 12}, \"12\": {\"2\": 14, \"10\": 8, \"4\": 15, \"13\": 21, \"8\": 11, \"11\": 11, \"12\": 21, \"7\": 14, \"0\": 27, \"1\": 23, \"15\": 29, \"6\": 4, \"9\": 15, \"3\": 11, \"5\": 15, \"14\": 1}, \"9\": {\"9\": 30, \"2\": 28, \"15\": 16, \"6\": 2, \"12\": 20, \"1\": 15, \"14\": 10, \"0\": 17, \"13\": 23, \"11\": 11, \"4\": 16, \"5\": 11, \"7\": 7, \"8\": 11, \"10\": 6, \"3\": 17}, \"1\": {\"5\": 14, \"2\": 25, \"12\": 17, \"15\": 20, \"0\": 23, \"13\": 37, \"8\": 9, \"1\": 26, \"4\": 10, \"3\": 15, \"11\": 10, \"10\": 4, \"9\": 17, \"7\": 7, \"6\": 2, \"14\": 4}, \"11\": {\"2\": 31, \"15\": 27, \"13\": 27, \"11\": 35, \"3\": 14, \"6\": 11, \"0\": 17, \"8\": 11, \"12\": 14, \"5\": 14, \"9\": 9, \"7\": 10, \"10\": 4, \"4\": 3, \"14\": 5, \"1\": 8}, \"13\": {\"4\": 6, \"15\": 30, \"9\": 19, \"13\": 30, \"1\": 22, \"11\": 22, \"12\": 18, \"0\": 13, \"5\": 12, \"3\": 17, \"7\": 13, \"2\": 24, \"10\": 5, \"8\": 7, \"6\": 2}}, \"ORACLE.run2_38\": {\"5\": {\"7\": 20, \"15\": 36, \"14\": 13, \"5\": 27, \"1\": 16, \"8\": 32, \"12\": 6, \"10\": 22, \"4\": 1, \"13\": 12, \"9\": 7, \"0\": 9, \"6\": 11, \"3\": 14, \"2\": 14}, \"8\": {\"1\": 11, \"7\": 20, \"6\": 14, \"15\": 34, \"8\": 30, \"3\": 18, \"10\": 21, \"5\": 33, \"13\": 20, \"9\": 15, \"2\": 10, \"14\": 6, \"0\": 8}, \"11\": {\"11\": 96, \"2\": 18, \"5\": 4, \"14\": 61, \"12\": 26, \"4\": 22, \"3\": 1, \"7\": 3, \"10\": 5, \"13\": 1, \"0\": 1, \"8\": 1, \"15\": 1}, \"1\": {\"1\": 74, \"15\": 31, \"5\": 13, \"13\": 27, \"9\": 23, \"8\": 20, \"10\": 2, \"6\": 25, \"2\": 12, \"3\": 8, \"7\": 3, \"0\": 1, \"14\": 1}, \"10\": {\"13\": 13, \"10\": 40, \"0\": 31, \"8\": 16, \"5\": 28, \"14\": 9, \"4\": 11, \"12\": 16, \"7\": 39, \"9\": 4, \"6\": 1, \"3\": 20, \"15\": 8, \"1\": 1, \"2\": 1, \"11\": 2}, \"15\": {\"8\": 25, \"5\": 33, \"14\": 9, \"1\": 33, \"7\": 8, \"15\": 29, \"12\": 1, \"6\": 17, \"3\": 21, \"9\": 8, \"10\": 10, \"13\": 27, \"2\": 8, \"0\": 11}, \"3\": {\"10\": 12, \"3\": 35, \"0\": 33, \"5\": 23, \"13\": 24, \"1\": 12, \"15\": 13, \"6\": 22, \"8\": 15, \"9\": 27, \"12\": 2, \"14\": 3, \"7\": 17, \"2\": 1, \"4\": 1}, \"7\": {\"13\": 10, \"8\": 23, \"10\": 43, \"4\": 7, \"7\": 35, \"15\": 19, \"14\": 13, \"5\": 31, \"12\": 11, \"2\": 5, \"0\": 15, \"9\": 7, \"6\": 4, \"3\": 12, \"1\": 3, \"11\": 2}, \"4\": {\"4\": 133, \"14\": 5, \"12\": 59, \"10\": 16, \"0\": 3, \"11\": 11, \"7\": 10, \"5\": 1, \"8\": 1, \"3\": 1}, \"14\": {\"14\": 67, \"5\": 18, \"10\": 11, \"12\": 19, \"2\": 48, \"11\": 30, \"13\": 7, \"8\": 9, \"3\": 2, \"7\": 12, \"4\": 3, \"15\": 10, \"1\": 3, \"6\": 1}, \"9\": {\"9\": 51, \"13\": 18, \"6\": 53, \"3\": 32, \"8\": 21, \"5\": 18, \"15\": 16, \"14\": 1, \"1\": 12, \"7\": 6, \"0\": 8, \"10\": 4}, \"12\": {\"12\": 89, \"11\": 20, \"10\": 31, \"4\": 38, \"14\": 20, \"5\": 11, \"7\": 15, \"15\": 2, \"3\": 3, \"2\": 4, \"0\": 4, \"8\": 3}, \"6\": {\"8\": 17, \"9\": 43, \"3\": 27, \"6\": 47, \"1\": 28, \"0\": 11, \"5\": 17, \"15\": 27, \"13\": 16, \"10\": 3, \"7\": 3, \"2\": 1}, \"2\": {\"2\": 91, \"14\": 40, \"15\": 20, \"1\": 24, \"5\": 11, \"13\": 17, \"11\": 7, \"10\": 3, \"7\": 5, \"8\": 18, \"6\": 1, \"12\": 2, \"9\": 1}, \"0\": {\"9\": 21, \"0\": 48, \"8\": 19, \"15\": 9, \"3\": 47, \"10\": 34, \"6\": 16, \"13\": 6, \"4\": 2, \"7\": 26, \"5\": 10, \"12\": 1, \"1\": 1}, \"13\": {\"9\": 19, \"8\": 24, \"1\": 42, \"13\": 27, \"10\": 7, \"6\": 27, \"3\": 13, \"2\": 13, \"15\": 21, \"7\": 10, \"5\": 26, \"0\": 7, \"14\": 4}}, \"ORACLE.run2_8\": {\"9\": {\"5\": 30, \"9\": 124, \"0\": 26, \"7\": 7, \"13\": 5, \"1\": 5, \"10\": 19, \"14\": 10, \"6\": 4, \"4\": 8, \"2\": 2}, \"10\": {\"1\": 24, \"7\": 14, \"2\": 10, \"9\": 11, \"0\": 20, \"5\": 24, \"14\": 30, \"6\": 24, \"10\": 26, \"13\": 22, \"4\": 21, \"8\": 5, \"11\": 3, \"3\": 3, \"15\": 3}, \"13\": {\"14\": 26, \"10\": 16, \"1\": 26, \"15\": 13, \"6\": 16, \"4\": 18, \"9\": 1, \"5\": 24, \"8\": 15, \"13\": 29, \"11\": 7, \"3\": 10, \"2\": 9, \"7\": 10, \"0\": 17, \"12\": 3}, \"0\": {\"4\": 15, \"0\": 30, \"5\": 22, \"14\": 25, \"11\": 3, \"2\": 18, \"6\": 24, \"9\": 11, \"13\": 22, \"1\": 16, \"8\": 4, \"10\": 22, \"7\": 21, \"12\": 2, \"15\": 3, \"3\": 2}, \"1\": {\"4\": 17, \"8\": 14, \"5\": 31, \"13\": 17, \"14\": 21, \"2\": 4, \"10\": 27, \"12\": 7, \"7\": 21, \"3\": 6, \"1\": 31, \"0\": 6, \"6\": 18, \"15\": 6, \"11\": 13, \"9\": 1}, \"15\": {\"8\": 27, \"6\": 12, \"11\": 33, \"15\": 37, \"3\": 27, \"12\": 31, \"7\": 20, \"2\": 8, \"1\": 6, \"4\": 8, \"0\": 2, \"5\": 3, \"14\": 10, \"13\": 12, \"10\": 4}, \"5\": {\"4\": 20, \"5\": 31, \"7\": 19, \"14\": 25, \"13\": 25, \"1\": 37, \"9\": 13, \"10\": 26, \"0\": 17, \"6\": 8, \"11\": 4, \"8\": 4, \"15\": 3, \"2\": 8}, \"3\": {\"7\": 17, \"11\": 25, \"12\": 35, \"14\": 10, \"8\": 17, \"3\": 39, \"4\": 16, \"15\": 37, \"13\": 8, \"6\": 13, \"2\": 20, \"10\": 2, \"1\": 1}, \"6\": {\"12\": 11, \"10\": 20, \"2\": 20, \"8\": 10, \"14\": 19, \"13\": 17, \"11\": 11, \"1\": 17, \"15\": 14, \"7\": 23, \"0\": 22, \"3\": 5, \"4\": 19, \"5\": 7, \"6\": 23, \"9\": 2}, \"11\": {\"0\": 8, \"7\": 16, \"8\": 34, \"11\": 35, \"4\": 2, \"3\": 34, \"12\": 34, \"14\": 7, \"15\": 39, \"2\": 5, \"6\": 9, \"13\": 7, \"1\": 7, \"5\": 1, \"10\": 2}, \"8\": {\"12\": 30, \"8\": 25, \"11\": 23, \"6\": 12, \"5\": 4, \"7\": 11, \"15\": 26, \"13\": 20, \"14\": 5, \"4\": 14, \"0\": 5, \"1\": 21, \"10\": 4, \"3\": 28, \"2\": 12}, \"4\": {\"0\": 13, \"7\": 26, \"2\": 22, \"14\": 18, \"3\": 16, \"6\": 15, \"4\": 32, \"5\": 7, \"8\": 18, \"10\": 19, \"1\": 15, \"15\": 6, \"13\": 17, \"12\": 8, \"11\": 7, \"9\": 1}, \"12\": {\"3\": 40, \"7\": 17, \"15\": 34, \"11\": 35, \"6\": 8, \"8\": 34, \"14\": 8, \"0\": 3, \"4\": 6, \"12\": 38, \"13\": 6, \"2\": 7, \"1\": 3, \"10\": 1}, \"14\": {\"14\": 27, \"5\": 25, \"11\": 4, \"1\": 23, \"6\": 21, \"0\": 16, \"2\": 17, \"13\": 27, \"4\": 13, \"7\": 15, \"15\": 7, \"9\": 3, \"10\": 18, \"12\": 7, \"8\": 11, \"3\": 6}, \"2\": {\"7\": 28, \"1\": 11, \"14\": 28, \"6\": 18, \"4\": 26, \"3\": 9, \"12\": 11, \"2\": 25, \"0\": 12, \"5\": 7, \"10\": 12, \"15\": 9, \"8\": 20, \"13\": 19, \"11\": 4, \"9\": 1}, \"7\": {\"14\": 28, \"5\": 9, \"13\": 21, \"7\": 24, \"6\": 18, \"8\": 16, \"0\": 18, \"15\": 18, \"12\": 9, \"1\": 14, \"10\": 9, \"2\": 22, \"3\": 7, \"4\": 20, \"11\": 7}}, \"ORACLE.run2_50\": {\"7\": {\"4\": 25, \"1\": 16, \"6\": 23, \"10\": 35, \"3\": 8, \"5\": 29, \"8\": 11, \"7\": 33, \"13\": 40, \"0\": 12, \"15\": 5, \"2\": 2, \"14\": 1}, \"3\": {\"3\": 128, \"8\": 72, \"13\": 13, \"7\": 15, \"10\": 8, \"5\": 1, \"0\": 2, \"4\": 1}, \"8\": {\"8\": 104, \"3\": 63, \"13\": 10, \"10\": 25, \"7\": 8, \"2\": 4, \"0\": 21, \"1\": 1, \"5\": 3, \"4\": 1}, \"2\": {\"5\": 4, \"2\": 79, \"6\": 9, \"14\": 23, \"12\": 9, \"0\": 65, \"10\": 21, \"1\": 10, \"8\": 6, \"13\": 5, \"4\": 4, \"7\": 3, \"15\": 1, \"9\": 1}, \"14\": {\"14\": 51, \"9\": 25, \"12\": 55, \"13\": 1, \"0\": 11, \"5\": 6, \"10\": 5, \"4\": 7, \"2\": 16, \"1\": 14, \"11\": 21, \"6\": 8, \"15\": 18, \"7\": 2}, \"4\": {\"7\": 32, \"6\": 35, \"4\": 32, \"0\": 6, \"13\": 27, \"15\": 19, \"1\": 21, \"14\": 4, \"12\": 2, \"10\": 16, \"11\": 7, \"9\": 3, \"5\": 31, \"8\": 2, \"2\": 3}, \"6\": {\"6\": 39, \"15\": 30, \"0\": 9, \"10\": 12, \"5\": 24, \"11\": 15, \"4\": 29, \"14\": 9, \"12\": 6, \"1\": 35, \"13\": 15, \"7\": 12, \"9\": 3, \"2\": 1, \"8\": 1}, \"15\": {\"15\": 49, \"11\": 42, \"4\": 19, \"1\": 24, \"12\": 15, \"6\": 31, \"14\": 19, \"9\": 25, \"0\": 3, \"7\": 3, \"5\": 7, \"13\": 2, \"10\": 1}, \"10\": {\"7\": 39, \"5\": 28, \"10\": 44, \"13\": 34, \"3\": 4, \"2\": 13, \"15\": 1, \"8\": 14, \"0\": 29, \"11\": 2, \"1\": 14, \"4\": 9, \"6\": 5, \"14\": 4}, \"11\": {\"15\": 43, \"1\": 15, \"4\": 12, \"9\": 50, \"11\": 61, \"12\": 25, \"14\": 15, \"13\": 1, \"6\": 14, \"5\": 2, \"7\": 1, \"0\": 1}, \"13\": {\"7\": 48, \"13\": 51, \"3\": 11, \"8\": 16, \"5\": 29, \"10\": 32, \"1\": 16, \"4\": 13, \"0\": 7, \"6\": 13, \"15\": 2, \"11\": 1, \"2\": 1}, \"9\": {\"15\": 23, \"9\": 75, \"6\": 5, \"12\": 40, \"11\": 57, \"14\": 28, \"4\": 2, \"1\": 6, \"5\": 2, \"2\": 2}, \"0\": {\"2\": 48, \"0\": 57, \"4\": 5, \"14\": 11, \"8\": 17, \"7\": 15, \"13\": 10, \"6\": 7, \"5\": 15, \"10\": 38, \"12\": 5, \"15\": 1, \"1\": 9, \"11\": 1, \"9\": 1}, \"1\": {\"7\": 10, \"4\": 25, \"6\": 30, \"15\": 16, \"0\": 13, \"11\": 21, \"12\": 10, \"1\": 37, \"5\": 24, \"14\": 19, \"13\": 11, \"9\": 9, \"10\": 8, \"2\": 6, \"8\": 1}, \"12\": {\"14\": 61, \"1\": 9, \"12\": 72, \"9\": 43, \"15\": 7, \"6\": 2, \"11\": 26, \"0\": 5, \"2\": 6, \"5\": 5, \"10\": 1, \"4\": 2, \"7\": 1}, \"5\": {\"6\": 29, \"5\": 33, \"3\": 4, \"4\": 28, \"14\": 4, \"7\": 14, \"13\": 34, \"0\": 9, \"10\": 22, \"15\": 13, \"1\": 28, \"2\": 9, \"8\": 4, \"9\": 2, \"11\": 6, \"12\": 1}}, \"ORACLE.run2_32\": {\"8\": {\"7\": 24, \"15\": 34, \"5\": 29, \"13\": 28, \"11\": 13, \"8\": 29, \"0\": 24, \"14\": 2, \"3\": 21, \"4\": 32, \"2\": 4}, \"14\": {\"0\": 22, \"11\": 18, \"7\": 17, \"14\": 55, \"9\": 25, \"4\": 22, \"12\": 3, \"2\": 51, \"5\": 13, \"13\": 10, \"8\": 3, \"15\": 1}, \"2\": {\"7\": 33, \"0\": 22, \"11\": 24, \"13\": 10, \"14\": 41, \"5\": 18, \"8\": 7, \"4\": 21, \"2\": 49, \"9\": 12, \"3\": 2, \"12\": 1}, \"0\": {\"14\": 17, \"3\": 5, \"5\": 22, \"13\": 24, \"4\": 36, \"0\": 34, \"7\": 30, \"2\": 24, \"11\": 24, \"15\": 6, \"8\": 16, \"9\": 2}, \"1\": {\"10\": 86, \"1\": 147, \"6\": 7}, \"10\": {\"12\": 25, \"10\": 133, \"6\": 16, \"1\": 66}, \"11\": {\"11\": 25, \"14\": 32, \"5\": 15, \"2\": 29, \"8\": 13, \"0\": 32, \"7\": 35, \"15\": 5, \"4\": 28, \"13\": 19, \"9\": 2, \"3\": 5}, \"5\": {\"3\": 13, \"8\": 21, \"7\": 20, \"5\": 26, \"14\": 11, \"0\": 33, \"4\": 34, \"11\": 23, \"13\": 27, \"2\": 19, \"15\": 11, \"9\": 2}, \"15\": {\"7\": 4, \"8\": 38, \"3\": 45, \"15\": 90, \"4\": 19, \"11\": 2, \"13\": 28, \"5\": 8, \"0\": 6}, \"3\": {\"7\": 11, \"3\": 67, \"4\": 26, \"8\": 46, \"13\": 31, \"15\": 30, \"5\": 13, \"11\": 8, \"0\": 4, \"2\": 3, \"14\": 1}, \"12\": {\"12\": 123, \"9\": 62, \"14\": 3, \"6\": 24, \"10\": 26, \"5\": 2}, \"7\": {\"14\": 12, \"11\": 29, \"5\": 32, \"7\": 38, \"2\": 25, \"13\": 20, \"12\": 1, \"0\": 28, \"3\": 6, \"4\": 25, \"8\": 20, \"9\": 1, \"15\": 3}, \"13\": {\"7\": 13, \"11\": 13, \"5\": 29, \"4\": 39, \"8\": 31, \"14\": 6, \"0\": 17, \"15\": 12, \"13\": 42, \"3\": 21, \"2\": 16, \"9\": 1}, \"6\": {\"6\": 149, \"9\": 9, \"12\": 52, \"1\": 11, \"10\": 19}, \"4\": {\"7\": 31, \"5\": 26, \"13\": 31, \"8\": 18, \"4\": 38, \"3\": 11, \"0\": 27, \"11\": 19, \"14\": 9, \"2\": 23, \"15\": 6, \"9\": 1}, \"9\": {\"9\": 112, \"6\": 12, \"12\": 48, \"14\": 30, \"2\": 18, \"11\": 6, \"5\": 3, \"7\": 3, \"0\": 3, \"13\": 2, \"4\": 2, \"8\": 1}}, \"ORACLE.run2_26\": {\"4\": {\"14\": 24, \"15\": 21, \"0\": 20, \"3\": 28, \"9\": 7, \"4\": 23, \"1\": 28, \"13\": 7, \"2\": 15, \"10\": 19, \"7\": 16, \"6\": 9, \"5\": 10, \"8\": 13}, \"12\": {\"12\": 85, \"6\": 30, \"13\": 18, \"11\": 40, \"7\": 7, \"10\": 6, \"5\": 13, \"0\": 5, \"9\": 14, \"8\": 8, \"1\": 3, \"3\": 2, \"15\": 4, \"14\": 3, \"2\": 1, \"4\": 1}, \"10\": {\"10\": 22, \"4\": 15, \"7\": 18, \"15\": 20, \"2\": 18, \"14\": 19, \"6\": 18, \"5\": 8, \"1\": 20, \"3\": 18, \"9\": 9, \"0\": 25, \"12\": 6, \"13\": 6, \"8\": 18}, \"0\": {\"6\": 15, \"2\": 13, \"4\": 20, \"10\": 24, \"8\": 21, \"14\": 26, \"1\": 25, \"3\": 19, \"7\": 22, \"0\": 22, \"12\": 3, \"5\": 4, \"15\": 12, \"13\": 8, \"9\": 6}, \"13\": {\"14\": 11, \"2\": 16, \"11\": 6, \"3\": 17, \"4\": 6, \"5\": 29, \"15\": 11, \"12\": 23, \"0\": 8, \"1\": 7, \"8\": 13, \"13\": 25, \"7\": 16, \"9\": 23, \"6\": 23, \"10\": 6}, \"9\": {\"3\": 17, \"6\": 21, \"4\": 12, \"13\": 28, \"12\": 4, \"14\": 8, \"9\": 23, \"7\": 19, \"15\": 8, \"2\": 14, \"1\": 13, \"5\": 23, \"10\": 16, \"8\": 15, \"11\": 5, \"0\": 14}, \"3\": {\"7\": 22, \"1\": 19, \"4\": 18, \"3\": 25, \"0\": 17, \"14\": 16, \"6\": 8, \"8\": 21, \"15\": 17, \"10\": 17, \"2\": 25, \"9\": 10, \"13\": 10, \"5\": 14, \"12\": 1}, \"2\": {\"2\": 17, \"9\": 12, \"6\": 13, \"15\": 22, \"8\": 20, \"13\": 19, \"14\": 16, \"5\": 20, \"7\": 17, \"12\": 3, \"3\": 17, \"1\": 13, \"0\": 15, \"10\": 16, \"4\": 20}, \"5\": {\"14\": 13, \"6\": 25, \"13\": 32, \"15\": 9, \"3\": 16, \"2\": 18, \"8\": 22, \"5\": 29, \"9\": 20, \"10\": 11, \"7\": 13, \"0\": 10, \"11\": 5, \"1\": 4, \"12\": 10, \"4\": 3}, \"14\": {\"0\": 22, \"6\": 13, \"4\": 22, \"2\": 21, \"3\": 19, \"10\": 21, \"15\": 15, \"9\": 7, \"1\": 26, \"13\": 8, \"14\": 20, \"12\": 4, \"7\": 22, \"5\": 11, \"8\": 9}, \"8\": {\"0\": 19, \"14\": 17, \"3\": 22, \"7\": 16, \"15\": 21, \"6\": 20, \"8\": 25, \"4\": 14, \"5\": 8, \"2\": 20, \"13\": 13, \"9\": 7, \"10\": 17, \"1\": 17, \"12\": 4}, \"7\": {\"9\": 16, \"15\": 20, \"3\": 28, \"8\": 23, \"2\": 18, \"6\": 20, \"10\": 14, \"13\": 13, \"7\": 14, \"1\": 12, \"5\": 12, \"0\": 11, \"4\": 20, \"14\": 17, \"12\": 2}, \"6\": {\"8\": 15, \"14\": 12, \"15\": 13, \"7\": 19, \"9\": 32, \"6\": 21, \"12\": 19, \"13\": 19, \"5\": 25, \"0\": 7, \"2\": 17, \"3\": 9, \"4\": 7, \"1\": 13, \"10\": 11, \"11\": 1}, \"11\": {\"11\": 130, \"12\": 68, \"8\": 3, \"13\": 12, \"6\": 14, \"9\": 3, \"5\": 7, \"14\": 2, \"10\": 1}, \"15\": {\"3\": 23, \"1\": 14, \"14\": 19, \"15\": 18, \"4\": 10, \"0\": 23, \"8\": 21, \"7\": 30, \"9\": 19, \"6\": 11, \"10\": 12, \"5\": 12, \"2\": 18, \"13\": 10}, \"1\": {\"3\": 14, \"7\": 18, \"10\": 29, \"4\": 17, \"14\": 22, \"1\": 26, \"8\": 17, \"5\": 7, \"13\": 8, \"0\": 23, \"6\": 8, \"2\": 17, \"9\": 10, \"15\": 20, \"12\": 4}}, \"ORACLE.run2_44\": {\"12\": {\"3\": 29, \"10\": 22, \"9\": 28, \"1\": 50, \"12\": 60, \"7\": 20, \"2\": 23, \"6\": 3, \"13\": 1, \"11\": 4}, \"7\": {\"9\": 37, \"6\": 29, \"7\": 38, \"3\": 14, \"1\": 27, \"11\": 13, \"10\": 9, \"2\": 40, \"4\": 5, \"13\": 8, \"12\": 19, \"5\": 1}, \"5\": {\"5\": 62, \"4\": 27, \"8\": 28, \"14\": 57, \"15\": 43, \"0\": 14, \"13\": 7, \"6\": 1, \"2\": 1}, \"15\": {\"15\": 72, \"5\": 39, \"8\": 25, \"14\": 43, \"0\": 24, \"4\": 30, \"13\": 5, \"2\": 1, \"9\": 1}, \"8\": {\"5\": 31, \"8\": 83, \"0\": 74, \"14\": 13, \"15\": 36, \"4\": 3}, \"2\": {\"13\": 15, \"1\": 31, \"7\": 28, \"2\": 40, \"9\": 34, \"6\": 20, \"3\": 30, \"11\": 6, \"10\": 4, \"12\": 25, \"4\": 6, \"15\": 1}, \"13\": {\"13\": 57, \"1\": 8, \"4\": 35, \"2\": 29, \"6\": 20, \"9\": 31, \"3\": 12, \"7\": 13, \"12\": 3, \"5\": 7, \"14\": 19, \"11\": 3, \"15\": 2, \"0\": 1}, \"4\": {\"15\": 34, \"13\": 20, \"8\": 7, \"4\": 63, \"14\": 49, \"9\": 10, \"3\": 19, \"2\": 7, \"5\": 20, \"12\": 2, \"6\": 2, \"0\": 2, \"1\": 3, \"11\": 1, \"7\": 1}, \"0\": {\"5\": 26, \"0\": 75, \"8\": 84, \"14\": 17, \"15\": 35, \"4\": 3}, \"6\": {\"7\": 40, \"12\": 7, \"13\": 16, \"9\": 30, \"6\": 62, \"10\": 8, \"2\": 25, \"11\": 35, \"1\": 12, \"4\": 3, \"14\": 1, \"3\": 1}, \"9\": {\"9\": 40, \"7\": 37, \"11\": 6, \"10\": 5, \"2\": 47, \"6\": 21, \"12\": 17, \"1\": 17, \"3\": 18, \"13\": 26, \"4\": 6}, \"11\": {\"11\": 118, \"6\": 34, \"10\": 34, \"7\": 19, \"9\": 14, \"2\": 8, \"1\": 6, \"12\": 3, \"13\": 4}, \"10\": {\"6\": 12, \"10\": 115, \"11\": 34, \"12\": 26, \"3\": 4, \"2\": 3, \"7\": 21, \"9\": 12, \"1\": 13}, \"14\": {\"15\": 50, \"13\": 7, \"14\": 50, \"4\": 33, \"5\": 46, \"0\": 19, \"8\": 29, \"3\": 4, \"2\": 2}, \"1\": {\"10\": 16, \"7\": 20, \"12\": 42, \"3\": 33, \"1\": 55, \"2\": 30, \"9\": 28, \"11\": 5, \"4\": 3, \"6\": 7, \"13\": 1}, \"3\": {\"1\": 37, \"3\": 63, \"7\": 9, \"6\": 2, \"12\": 41, \"2\": 33, \"9\": 33, \"4\": 10, \"10\": 3, \"13\": 4, \"5\": 1, \"14\": 2, \"11\": 1, \"15\": 1}}}, \"per_domain_accuracy\": {\"C_A_3\": {\"accuracy\": 0.9921875, \"source?\": true}, \"C_A_4\": {\"accuracy\": 0.996875, \"source?\": true}, \"W_A_3\": {\"accuracy\": 0.96875, \"source?\": true}, \"C_A_5\": {\"accuracy\": 0.99375, \"source?\": true}, \"C_A_1\": {\"accuracy\": 0.996875, \"source?\": true}, \"W_A_4\": {\"accuracy\": 0.9453125, \"source?\": true}, \"W_A_1\": {\"accuracy\": 0.9720052083333334, \"source?\": true}, \"W_A_2\": {\"accuracy\": 0.9596354166666666, \"source?\": true}, \"C_A_2\": {\"accuracy\": 0.9984375, \"source?\": true}, \"ORACLE.run2_14\": {\"accuracy\": 0.19479166666666667, \"source?\": false}, \"ORACLE.run2_20\": {\"accuracy\": 0.11796875, \"source?\": false}, \"ORACLE.run2_38\": {\"accuracy\": 0.23932291666666666, \"source?\": false}, \"ORACLE.run2_8\": {\"accuracy\": 0.15, \"source?\": false}, \"ORACLE.run2_50\": {\"accuracy\": 0.24609375, \"source?\": false}, \"ORACLE.run2_32\": {\"accuracy\": 0.30130208333333336, \"source?\": false}, \"ORACLE.run2_26\": {\"accuracy\": 0.13671875, \"source?\": false}, \"ORACLE.run2_44\": {\"accuracy\": 0.27421875, \"source?\": false}}}, \"history\": {\"epoch_indices\": [1, 2, 3, 4, 5, 6, 7], \"train_label_loss\": [0.2819814379839708, 0.15448715934329324, 0.11618689554091918, 0.09278165270763845, 0.0779072051635383, 0.06394902285044851, 0.05162335793040256], \"source_val_label_loss\": [0.19079473614692688, 0.15901906788349152, 0.12459176033735275, 0.12736979126930237, 0.13211745023727417, 0.12203595042228699, 0.12510661780834198], \"target_val_label_loss\": [2.5347516536712646, 2.421776294708252, 2.397510051727295, 2.4003238677978516, 2.5636725425720215, 2.7556707859039307, 2.76670503616333], \"source_val_acc_label\": [0.954195205479452, 0.9662885273972602, 0.9731378424657534, 0.9737799657534246, 0.9732448630136986, 0.9759203767123288, 0.9758133561643836], \"target_val_acc_label\": [0.18225911458333333, 0.21884765625, 0.20755208333333333, 0.20748697916666667, 0.19537760416666666, 0.16787109375, 0.17122395833333334]}, \"dataset_metrics\": {\"source\": {\"train\": {\"n_unique_x\": 56700, \"n_unique_y\": 130, \"n_batch/episode\": 2082}, \"val\": {\"n_unique_x\": 12132, \"n_unique_y\": 130, \"n_batch/episode\": 292}, \"test\": {\"n_unique_x\": 12132, \"n_unique_y\": 130, \"n_batch/episode\": 292}}, \"target\": {\"train\": {\"n_unique_x\": 179200, \"n_unique_y\": 16, \"n_batch/episode\": 6720}, \"val\": {\"n_unique_x\": 38400, \"n_unique_y\": 16, \"n_batch/episode\": 960}, \"test\": {\"n_unique_x\": 38400, \"n_unique_y\": 16, \"n_batch/episode\": 960}}}}'"
      ]
     },
     "execution_count": 29,
     "metadata": {},
     "output_type": "execute_result"
    }
   ],
   "source": [
    "json.dumps(experiment)"
   ]
  }
 ],
 "metadata": {
  "celltoolbar": "Tags",
  "kernelspec": {
   "display_name": "Python 3 (ipykernel)",
   "language": "python",
   "name": "python3"
  },
  "language_info": {
   "codemirror_mode": {
    "name": "ipython",
    "version": 3
   },
   "file_extension": ".py",
   "mimetype": "text/x-python",
   "name": "python",
   "nbconvert_exporter": "python",
   "pygments_lexer": "ipython3",
   "version": "3.8.10"
  },
  "papermill": {
   "default_parameters": {},
   "duration": 524.265666,
   "end_time": "2022-03-17T04:26:43.547314",
   "environment_variables": {},
   "exception": null,
   "input_path": "/mnt/wd500GB/CSC500/csc500-main/csc500-notebooks/templates/tl_ptn_template.ipynb",
   "output_path": "trial.ipynb",
   "parameters": {
    "parameters": {
     "BEST_MODEL_PATH": "./best_model.pth",
     "NUM_LOGS_PER_EPOCH": 10,
     "criteria_for_best": "target_loss",
     "dataset_seed": 1337,
     "datasets": [
      {
       "domain_prefix": "C_A_",
       "domains": [
        1,
        2,
        3,
        4,
        5
       ],
       "episode_transforms": [],
       "labels": [
        "1-10.",
        "1-11.",
        "1-15.",
        "1-16.",
        "1-17.",
        "1-18.",
        "1-19.",
        "10-4.",
        "10-7.",
        "11-1.",
        "11-14.",
        "11-17.",
        "11-20.",
        "11-7.",
        "13-20.",
        "13-8.",
        "14-10.",
        "14-11.",
        "14-14.",
        "14-7.",
        "15-1.",
        "15-20.",
        "16-1.",
        "16-16.",
        "17-10.",
        "17-11.",
        "17-2.",
        "19-1.",
        "19-16.",
        "19-19.",
        "19-20.",
        "19-3.",
        "2-10.",
        "2-11.",
        "2-17.",
        "2-18.",
        "2-20.",
        "2-3.",
        "2-4.",
        "2-5.",
        "2-6.",
        "2-7.",
        "2-8.",
        "3-13.",
        "3-18.",
        "3-3.",
        "4-1.",
        "4-10.",
        "4-11.",
        "4-19.",
        "5-5.",
        "6-15.",
        "7-10.",
        "7-14.",
        "8-18.",
        "8-20.",
        "8-3.",
        "8-8."
       ],
       "num_examples_per_domain_per_label": 100,
       "pickle_path": "/mnt/wd500GB/CSC500/csc500-main/datasets/cores.stratified_ds.2022A.pkl",
       "source_or_target_dataset": "source",
       "x_transforms": [
        "unit_mag"
       ]
      },
      {
       "domain_prefix": "W_A_",
       "domains": [
        1,
        2,
        3,
        4
       ],
       "episode_transforms": [],
       "labels": [
        "1-10",
        "1-12",
        "1-14",
        "1-16",
        "1-18",
        "1-19",
        "1-8",
        "10-11",
        "10-17",
        "10-4",
        "10-7",
        "11-1",
        "11-10",
        "11-19",
        "11-20",
        "11-4",
        "11-7",
        "12-19",
        "12-20",
        "12-7",
        "13-14",
        "13-18",
        "13-19",
        "13-20",
        "13-3",
        "13-7",
        "14-10",
        "14-11",
        "14-12",
        "14-13",
        "14-14",
        "14-19",
        "14-20",
        "14-7",
        "14-8",
        "14-9",
        "15-1",
        "15-19",
        "15-6",
        "16-1",
        "16-16",
        "16-19",
        "16-20",
        "17-10",
        "17-11",
        "18-1",
        "18-10",
        "18-11",
        "18-12",
        "18-13",
        "18-14",
        "18-15",
        "18-16",
        "18-17",
        "18-19",
        "18-2",
        "18-20",
        "18-4",
        "18-5",
        "18-7",
        "18-8",
        "18-9",
        "19-1",
        "19-10",
        "19-11",
        "19-12",
        "19-13",
        "19-14",
        "19-15",
        "19-19",
        "19-2",
        "19-20",
        "19-3",
        "19-4",
        "19-6",
        "19-7",
        "19-8",
        "19-9",
        "2-1",
        "2-13",
        "2-15",
        "2-3",
        "2-4",
        "2-5",
        "2-6",
        "2-7",
        "2-8",
        "20-1",
        "20-12",
        "20-14",
        "20-15",
        "20-16",
        "20-18",
        "20-19",
        "20-20",
        "20-3",
        "20-4",
        "20-5",
        "20-7",
        "20-8",
        "3-1",
        "3-13",
        "3-18",
        "3-2",
        "3-8",
        "4-1",
        "4-10",
        "4-11",
        "5-1",
        "5-5",
        "6-1",
        "6-15",
        "6-6",
        "7-10",
        "7-11",
        "7-12",
        "7-13",
        "7-14",
        "7-7",
        "7-8",
        "7-9",
        "8-1",
        "8-13",
        "8-14",
        "8-18",
        "8-20",
        "8-3",
        "8-8",
        "9-1",
        "9-7"
       ],
       "num_examples_per_domain_per_label": 100,
       "pickle_path": "/mnt/wd500GB/CSC500/csc500-main/datasets/wisig.node3-19.stratified_ds.2022A.pkl",
       "source_or_target_dataset": "source",
       "x_transforms": [
        "unit_mag"
       ]
      },
      {
       "domain_prefix": "ORACLE.run2_",
       "domains": [
        32,
        38,
        8,
        44,
        14,
        50,
        20,
        26
       ],
       "episode_transforms": [],
       "labels": [
        "3123D52",
        "3123D65",
        "3123D79",
        "3123D80",
        "3123D54",
        "3123D70",
        "3123D7B",
        "3123D89",
        "3123D58",
        "3123D76",
        "3123D7D",
        "3123EFE",
        "3123D64",
        "3123D78",
        "3123D7E",
        "3124E4A"
       ],
       "num_examples_per_domain_per_label": 2000,
       "pickle_path": "/mnt/wd500GB/CSC500/csc500-main/datasets/oracle.Run2_framed_2000Examples_stratified_ds.2022A.pkl",
       "source_or_target_dataset": "target",
       "x_transforms": [
        "unit_mag"
       ]
      }
     ],
     "device": "cuda",
     "experiment_name": "cores+wisig -> oracle.run2.framed",
     "lr": 0.001,
     "n_epoch": 50,
     "n_query": 2,
     "n_shot": 3,
     "n_way": 16,
     "patience": 3,
     "seed": 1337,
     "test_k_factor": 2,
     "torch_default_dtype": "torch.float32",
     "train_k_factor": 3,
     "val_k_factor": 2,
     "x_net": [
      {
       "class": "nnReshape",
       "kargs": {
        "shape": [
         -1,
         1,
         2,
         256
        ]
       }
      },
      {
       "class": "Conv2d",
       "kargs": {
        "bias": false,
        "in_channels": 1,
        "kernel_size": [
         1,
         7
        ],
        "out_channels": 256,
        "padding": [
         0,
         3
        ]
       }
      },
      {
       "class": "ReLU",
       "kargs": {
        "inplace": true
       }
      },
      {
       "class": "BatchNorm2d",
       "kargs": {
        "num_features": 256
       }
      },
      {
       "class": "Conv2d",
       "kargs": {
        "bias": true,
        "in_channels": 256,
        "kernel_size": [
         2,
         7
        ],
        "out_channels": 80,
        "padding": [
         0,
         3
        ]
       }
      },
      {
       "class": "ReLU",
       "kargs": {
        "inplace": true
       }
      },
      {
       "class": "BatchNorm2d",
       "kargs": {
        "num_features": 80
       }
      },
      {
       "class": "Flatten",
       "kargs": {}
      },
      {
       "class": "Linear",
       "kargs": {
        "in_features": 20480,
        "out_features": 256
       }
      },
      {
       "class": "ReLU",
       "kargs": {
        "inplace": true
       }
      },
      {
       "class": "BatchNorm1d",
       "kargs": {
        "num_features": 256
       }
      },
      {
       "class": "Linear",
       "kargs": {
        "in_features": 256,
        "out_features": 256
       }
      }
     ]
    }
   },
   "start_time": "2022-03-17T04:17:59.281648",
   "version": "2.3.4"
  }
 },
 "nbformat": 4,
 "nbformat_minor": 5
}