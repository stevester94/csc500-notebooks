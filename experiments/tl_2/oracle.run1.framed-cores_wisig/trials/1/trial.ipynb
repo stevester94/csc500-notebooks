{
 "cells": [
  {
   "cell_type": "markdown",
   "id": "9fea5f46",
   "metadata": {
    "papermill": {
     "duration": 0.017346,
     "end_time": "2022-03-17T02:14:25.248118",
     "exception": false,
     "start_time": "2022-03-17T02:14:25.230772",
     "status": "completed"
    },
    "tags": []
   },
   "source": [
    "# Transfer Learning Template"
   ]
  },
  {
   "cell_type": "code",
   "execution_count": 1,
   "id": "0902182a",
   "metadata": {
    "execution": {
     "iopub.execute_input": "2022-03-17T02:14:25.286339Z",
     "iopub.status.busy": "2022-03-17T02:14:25.285934Z",
     "iopub.status.idle": "2022-03-17T02:14:26.197088Z",
     "shell.execute_reply": "2022-03-17T02:14:26.196574Z"
    },
    "papermill": {
     "duration": 0.936147,
     "end_time": "2022-03-17T02:14:26.197208",
     "exception": false,
     "start_time": "2022-03-17T02:14:25.261061",
     "status": "completed"
    },
    "tags": []
   },
   "outputs": [],
   "source": [
    "%load_ext autoreload\n",
    "%autoreload 2\n",
    "%matplotlib inline\n",
    "\n",
    "    \n",
    "import os, json, sys, time, random\n",
    "import numpy as np\n",
    "import torch\n",
    "from torch.optim import Adam\n",
    "from  easydict import EasyDict\n",
    "import matplotlib.pyplot as plt\n",
    "\n",
    "from steves_models.steves_ptn import Steves_Prototypical_Network\n",
    "\n",
    "from steves_utils.lazy_iterable_wrapper import Lazy_Iterable_Wrapper\n",
    "from steves_utils.iterable_aggregator import Iterable_Aggregator\n",
    "from steves_utils.ptn_train_eval_test_jig import  PTN_Train_Eval_Test_Jig\n",
    "from steves_utils.torch_sequential_builder import build_sequential\n",
    "from steves_utils.torch_utils import get_dataset_metrics, ptn_confusion_by_domain_over_dataloader\n",
    "from steves_utils.utils_v2 import (per_domain_accuracy_from_confusion, get_datasets_base_path)\n",
    "from steves_utils.PTN.utils import independent_accuracy_assesment\n",
    "\n",
    "from torch.utils.data import DataLoader\n",
    "\n",
    "from steves_utils.stratified_dataset.episodic_accessor import Episodic_Accessor_Factory\n",
    "\n",
    "from steves_utils.ptn_do_report import (\n",
    "    get_loss_curve,\n",
    "    get_results_table,\n",
    "    get_parameters_table,\n",
    "    get_domain_accuracies,\n",
    ")\n",
    "\n",
    "from steves_utils.transforms import get_chained_transform"
   ]
  },
  {
   "cell_type": "markdown",
   "id": "41c840b4",
   "metadata": {
    "papermill": {
     "duration": 0.013204,
     "end_time": "2022-03-17T02:14:26.231140",
     "exception": false,
     "start_time": "2022-03-17T02:14:26.217936",
     "status": "completed"
    },
    "tags": []
   },
   "source": [
    "# Allowed Parameters\n",
    "These are allowed parameters, not defaults\n",
    "Each of these values need to be present in the injected parameters (the notebook will raise an exception if they are not present)\n",
    "\n",
    "Papermill uses the cell tag \"parameters\" to inject the real parameters below this cell.\n",
    "Enable tags to see what I mean"
   ]
  },
  {
   "cell_type": "code",
   "execution_count": 2,
   "id": "fd44eb83",
   "metadata": {
    "execution": {
     "iopub.execute_input": "2022-03-17T02:14:26.260226Z",
     "iopub.status.busy": "2022-03-17T02:14:26.259951Z",
     "iopub.status.idle": "2022-03-17T02:14:26.274328Z",
     "shell.execute_reply": "2022-03-17T02:14:26.273878Z"
    },
    "papermill": {
     "duration": 0.030233,
     "end_time": "2022-03-17T02:14:26.274417",
     "exception": false,
     "start_time": "2022-03-17T02:14:26.244184",
     "status": "completed"
    },
    "tags": []
   },
   "outputs": [],
   "source": [
    "required_parameters = {\n",
    "    \"experiment_name\",\n",
    "    \"lr\",\n",
    "    \"device\",\n",
    "    \"seed\",\n",
    "    \"dataset_seed\",\n",
    "    \"n_shot\",\n",
    "    \"n_query\",\n",
    "    \"n_way\",\n",
    "    \"train_k_factor\",\n",
    "    \"val_k_factor\",\n",
    "    \"test_k_factor\",\n",
    "    \"n_epoch\",\n",
    "    \"patience\",\n",
    "    \"criteria_for_best\",\n",
    "    \"x_net\",\n",
    "    \"datasets\",\n",
    "    \"torch_default_dtype\",\n",
    "    \"NUM_LOGS_PER_EPOCH\",\n",
    "    \"BEST_MODEL_PATH\",\n",
    "}"
   ]
  },
  {
   "cell_type": "code",
   "execution_count": 3,
   "id": "fa3f0049",
   "metadata": {
    "execution": {
     "iopub.execute_input": "2022-03-17T02:14:26.313283Z",
     "iopub.status.busy": "2022-03-17T02:14:26.313004Z",
     "iopub.status.idle": "2022-03-17T02:14:26.326285Z",
     "shell.execute_reply": "2022-03-17T02:14:26.325889Z"
    },
    "papermill": {
     "duration": 0.034795,
     "end_time": "2022-03-17T02:14:26.326375",
     "exception": false,
     "start_time": "2022-03-17T02:14:26.291580",
     "status": "completed"
    },
    "tags": [
     "parameters"
    ]
   },
   "outputs": [],
   "source": [
    "from steves_utils.CORES.utils import (\n",
    "    ALL_NODES,\n",
    "    ALL_NODES_MINIMUM_1000_EXAMPLES,\n",
    "    ALL_DAYS\n",
    ")\n",
    "\n",
    "from steves_utils.ORACLE.utils_v2 import (\n",
    "    ALL_DISTANCES_FEET_NARROWED,\n",
    "    ALL_RUNS,\n",
    "    ALL_SERIAL_NUMBERS,\n",
    ")\n",
    "\n",
    "standalone_parameters = {}\n",
    "standalone_parameters[\"experiment_name\"] = \"STANDALONE PTN\"\n",
    "standalone_parameters[\"lr\"] = 0.001\n",
    "standalone_parameters[\"device\"] = \"cuda\"\n",
    "\n",
    "standalone_parameters[\"seed\"] = 1337\n",
    "standalone_parameters[\"dataset_seed\"] = 1337\n",
    "\n",
    "standalone_parameters[\"n_way\"] = 8\n",
    "standalone_parameters[\"n_shot\"] = 3\n",
    "standalone_parameters[\"n_query\"]  = 2\n",
    "standalone_parameters[\"train_k_factor\"] = 1\n",
    "standalone_parameters[\"val_k_factor\"] = 2\n",
    "standalone_parameters[\"test_k_factor\"] = 2\n",
    "\n",
    "\n",
    "standalone_parameters[\"n_epoch\"] = 50\n",
    "\n",
    "standalone_parameters[\"patience\"] = 10\n",
    "standalone_parameters[\"criteria_for_best\"] = \"source_loss\"\n",
    "\n",
    "standalone_parameters[\"datasets\"] = [\n",
    "    {\n",
    "        \"labels\": ALL_SERIAL_NUMBERS,\n",
    "        \"domains\": ALL_DISTANCES_FEET_NARROWED,\n",
    "        \"num_examples_per_domain_per_label\": 100,\n",
    "        \"pickle_path\": os.path.join(get_datasets_base_path(), \"oracle.Run1_framed_2000Examples_stratified_ds.2022A.pkl\"),\n",
    "        \"source_or_target_dataset\": \"source\",\n",
    "        \"x_transforms\": [\"unit_mag\", \"minus_two\"],\n",
    "        \"episode_transforms\": [],\n",
    "        \"domain_prefix\": \"ORACLE_\"\n",
    "    },\n",
    "    {\n",
    "        \"labels\": ALL_NODES,\n",
    "        \"domains\": ALL_DAYS,\n",
    "        \"num_examples_per_domain_per_label\": 100,\n",
    "        \"pickle_path\": os.path.join(get_datasets_base_path(), \"cores.stratified_ds.2022A.pkl\"),\n",
    "        \"source_or_target_dataset\": \"target\",\n",
    "        \"x_transforms\": [\"unit_power\", \"times_zero\"],\n",
    "        \"episode_transforms\": [],\n",
    "        \"domain_prefix\": \"CORES_\"\n",
    "    }   \n",
    "]\n",
    "\n",
    "standalone_parameters[\"torch_default_dtype\"] = \"torch.float32\" \n",
    "\n",
    "\n",
    "\n",
    "standalone_parameters[\"x_net\"] =     [\n",
    "    {\"class\": \"nnReshape\", \"kargs\": {\"shape\":[-1, 1, 2, 256]}},\n",
    "    {\"class\": \"Conv2d\", \"kargs\": { \"in_channels\":1, \"out_channels\":256, \"kernel_size\":(1,7), \"bias\":False, \"padding\":(0,3), },},\n",
    "    {\"class\": \"ReLU\", \"kargs\": {\"inplace\": True}},\n",
    "    {\"class\": \"BatchNorm2d\", \"kargs\": {\"num_features\":256}},\n",
    "\n",
    "    {\"class\": \"Conv2d\", \"kargs\": { \"in_channels\":256, \"out_channels\":80, \"kernel_size\":(2,7), \"bias\":True, \"padding\":(0,3), },},\n",
    "    {\"class\": \"ReLU\", \"kargs\": {\"inplace\": True}},\n",
    "    {\"class\": \"BatchNorm2d\", \"kargs\": {\"num_features\":80}},\n",
    "    {\"class\": \"Flatten\", \"kargs\": {}},\n",
    "\n",
    "    {\"class\": \"Linear\", \"kargs\": {\"in_features\": 80*256, \"out_features\": 256}}, # 80 units per IQ pair\n",
    "    {\"class\": \"ReLU\", \"kargs\": {\"inplace\": True}},\n",
    "    {\"class\": \"BatchNorm1d\", \"kargs\": {\"num_features\":256}},\n",
    "\n",
    "    {\"class\": \"Linear\", \"kargs\": {\"in_features\": 256, \"out_features\": 256}},\n",
    "]\n",
    "\n",
    "# Parameters relevant to results\n",
    "# These parameters will basically never need to change\n",
    "standalone_parameters[\"NUM_LOGS_PER_EPOCH\"] = 10\n",
    "standalone_parameters[\"BEST_MODEL_PATH\"] = \"./best_model.pth\"\n",
    "\n",
    "\n",
    "\n",
    "\n"
   ]
  },
  {
   "cell_type": "code",
   "execution_count": 4,
   "id": "162b80e1",
   "metadata": {
    "execution": {
     "iopub.execute_input": "2022-03-17T02:14:26.369124Z",
     "iopub.status.busy": "2022-03-17T02:14:26.368653Z",
     "iopub.status.idle": "2022-03-17T02:14:26.383436Z",
     "shell.execute_reply": "2022-03-17T02:14:26.382985Z"
    },
    "papermill": {
     "duration": 0.039908,
     "end_time": "2022-03-17T02:14:26.383530",
     "exception": false,
     "start_time": "2022-03-17T02:14:26.343622",
     "status": "completed"
    },
    "tags": [
     "injected-parameters"
    ]
   },
   "outputs": [],
   "source": [
    "# Parameters\n",
    "parameters = {\n",
    "    \"experiment_name\": \"oracle.run1.framed -> cores+wisig\",\n",
    "    \"device\": \"cuda\",\n",
    "    \"lr\": 0.001,\n",
    "    \"seed\": 1337,\n",
    "    \"dataset_seed\": 1337,\n",
    "    \"n_shot\": 3,\n",
    "    \"n_query\": 2,\n",
    "    \"train_k_factor\": 3,\n",
    "    \"val_k_factor\": 2,\n",
    "    \"test_k_factor\": 2,\n",
    "    \"torch_default_dtype\": \"torch.float32\",\n",
    "    \"n_epoch\": 50,\n",
    "    \"patience\": 3,\n",
    "    \"criteria_for_best\": \"target_loss\",\n",
    "    \"x_net\": [\n",
    "        {\"class\": \"nnReshape\", \"kargs\": {\"shape\": [-1, 1, 2, 256]}},\n",
    "        {\n",
    "            \"class\": \"Conv2d\",\n",
    "            \"kargs\": {\n",
    "                \"in_channels\": 1,\n",
    "                \"out_channels\": 256,\n",
    "                \"kernel_size\": [1, 7],\n",
    "                \"bias\": False,\n",
    "                \"padding\": [0, 3],\n",
    "            },\n",
    "        },\n",
    "        {\"class\": \"ReLU\", \"kargs\": {\"inplace\": True}},\n",
    "        {\"class\": \"BatchNorm2d\", \"kargs\": {\"num_features\": 256}},\n",
    "        {\n",
    "            \"class\": \"Conv2d\",\n",
    "            \"kargs\": {\n",
    "                \"in_channels\": 256,\n",
    "                \"out_channels\": 80,\n",
    "                \"kernel_size\": [2, 7],\n",
    "                \"bias\": True,\n",
    "                \"padding\": [0, 3],\n",
    "            },\n",
    "        },\n",
    "        {\"class\": \"ReLU\", \"kargs\": {\"inplace\": True}},\n",
    "        {\"class\": \"BatchNorm2d\", \"kargs\": {\"num_features\": 80}},\n",
    "        {\"class\": \"Flatten\", \"kargs\": {}},\n",
    "        {\"class\": \"Linear\", \"kargs\": {\"in_features\": 20480, \"out_features\": 256}},\n",
    "        {\"class\": \"ReLU\", \"kargs\": {\"inplace\": True}},\n",
    "        {\"class\": \"BatchNorm1d\", \"kargs\": {\"num_features\": 256}},\n",
    "        {\"class\": \"Linear\", \"kargs\": {\"in_features\": 256, \"out_features\": 256}},\n",
    "    ],\n",
    "    \"NUM_LOGS_PER_EPOCH\": 10,\n",
    "    \"BEST_MODEL_PATH\": \"./best_model.pth\",\n",
    "    \"n_way\": 16,\n",
    "    \"datasets\": [\n",
    "        {\n",
    "            \"labels\": [\n",
    "                \"1-10.\",\n",
    "                \"1-11.\",\n",
    "                \"1-15.\",\n",
    "                \"1-16.\",\n",
    "                \"1-17.\",\n",
    "                \"1-18.\",\n",
    "                \"1-19.\",\n",
    "                \"10-4.\",\n",
    "                \"10-7.\",\n",
    "                \"11-1.\",\n",
    "                \"11-14.\",\n",
    "                \"11-17.\",\n",
    "                \"11-20.\",\n",
    "                \"11-7.\",\n",
    "                \"13-20.\",\n",
    "                \"13-8.\",\n",
    "                \"14-10.\",\n",
    "                \"14-11.\",\n",
    "                \"14-14.\",\n",
    "                \"14-7.\",\n",
    "                \"15-1.\",\n",
    "                \"15-20.\",\n",
    "                \"16-1.\",\n",
    "                \"16-16.\",\n",
    "                \"17-10.\",\n",
    "                \"17-11.\",\n",
    "                \"17-2.\",\n",
    "                \"19-1.\",\n",
    "                \"19-16.\",\n",
    "                \"19-19.\",\n",
    "                \"19-20.\",\n",
    "                \"19-3.\",\n",
    "                \"2-10.\",\n",
    "                \"2-11.\",\n",
    "                \"2-17.\",\n",
    "                \"2-18.\",\n",
    "                \"2-20.\",\n",
    "                \"2-3.\",\n",
    "                \"2-4.\",\n",
    "                \"2-5.\",\n",
    "                \"2-6.\",\n",
    "                \"2-7.\",\n",
    "                \"2-8.\",\n",
    "                \"3-13.\",\n",
    "                \"3-18.\",\n",
    "                \"3-3.\",\n",
    "                \"4-1.\",\n",
    "                \"4-10.\",\n",
    "                \"4-11.\",\n",
    "                \"4-19.\",\n",
    "                \"5-5.\",\n",
    "                \"6-15.\",\n",
    "                \"7-10.\",\n",
    "                \"7-14.\",\n",
    "                \"8-18.\",\n",
    "                \"8-20.\",\n",
    "                \"8-3.\",\n",
    "                \"8-8.\",\n",
    "            ],\n",
    "            \"domains\": [1, 2, 3, 4, 5],\n",
    "            \"num_examples_per_domain_per_label\": 100,\n",
    "            \"pickle_path\": \"/mnt/wd500GB/CSC500/csc500-main/datasets/cores.stratified_ds.2022A.pkl\",\n",
    "            \"source_or_target_dataset\": \"target\",\n",
    "            \"x_transforms\": [\"unit_mag\"],\n",
    "            \"episode_transforms\": [],\n",
    "            \"domain_prefix\": \"C_A_\",\n",
    "        },\n",
    "        {\n",
    "            \"labels\": [\n",
    "                \"1-10\",\n",
    "                \"1-12\",\n",
    "                \"1-14\",\n",
    "                \"1-16\",\n",
    "                \"1-18\",\n",
    "                \"1-19\",\n",
    "                \"1-8\",\n",
    "                \"10-11\",\n",
    "                \"10-17\",\n",
    "                \"10-4\",\n",
    "                \"10-7\",\n",
    "                \"11-1\",\n",
    "                \"11-10\",\n",
    "                \"11-19\",\n",
    "                \"11-20\",\n",
    "                \"11-4\",\n",
    "                \"11-7\",\n",
    "                \"12-19\",\n",
    "                \"12-20\",\n",
    "                \"12-7\",\n",
    "                \"13-14\",\n",
    "                \"13-18\",\n",
    "                \"13-19\",\n",
    "                \"13-20\",\n",
    "                \"13-3\",\n",
    "                \"13-7\",\n",
    "                \"14-10\",\n",
    "                \"14-11\",\n",
    "                \"14-12\",\n",
    "                \"14-13\",\n",
    "                \"14-14\",\n",
    "                \"14-19\",\n",
    "                \"14-20\",\n",
    "                \"14-7\",\n",
    "                \"14-8\",\n",
    "                \"14-9\",\n",
    "                \"15-1\",\n",
    "                \"15-19\",\n",
    "                \"15-6\",\n",
    "                \"16-1\",\n",
    "                \"16-16\",\n",
    "                \"16-19\",\n",
    "                \"16-20\",\n",
    "                \"17-10\",\n",
    "                \"17-11\",\n",
    "                \"18-1\",\n",
    "                \"18-10\",\n",
    "                \"18-11\",\n",
    "                \"18-12\",\n",
    "                \"18-13\",\n",
    "                \"18-14\",\n",
    "                \"18-15\",\n",
    "                \"18-16\",\n",
    "                \"18-17\",\n",
    "                \"18-19\",\n",
    "                \"18-2\",\n",
    "                \"18-20\",\n",
    "                \"18-4\",\n",
    "                \"18-5\",\n",
    "                \"18-7\",\n",
    "                \"18-8\",\n",
    "                \"18-9\",\n",
    "                \"19-1\",\n",
    "                \"19-10\",\n",
    "                \"19-11\",\n",
    "                \"19-12\",\n",
    "                \"19-13\",\n",
    "                \"19-14\",\n",
    "                \"19-15\",\n",
    "                \"19-19\",\n",
    "                \"19-2\",\n",
    "                \"19-20\",\n",
    "                \"19-3\",\n",
    "                \"19-4\",\n",
    "                \"19-6\",\n",
    "                \"19-7\",\n",
    "                \"19-8\",\n",
    "                \"19-9\",\n",
    "                \"2-1\",\n",
    "                \"2-13\",\n",
    "                \"2-15\",\n",
    "                \"2-3\",\n",
    "                \"2-4\",\n",
    "                \"2-5\",\n",
    "                \"2-6\",\n",
    "                \"2-7\",\n",
    "                \"2-8\",\n",
    "                \"20-1\",\n",
    "                \"20-12\",\n",
    "                \"20-14\",\n",
    "                \"20-15\",\n",
    "                \"20-16\",\n",
    "                \"20-18\",\n",
    "                \"20-19\",\n",
    "                \"20-20\",\n",
    "                \"20-3\",\n",
    "                \"20-4\",\n",
    "                \"20-5\",\n",
    "                \"20-7\",\n",
    "                \"20-8\",\n",
    "                \"3-1\",\n",
    "                \"3-13\",\n",
    "                \"3-18\",\n",
    "                \"3-2\",\n",
    "                \"3-8\",\n",
    "                \"4-1\",\n",
    "                \"4-10\",\n",
    "                \"4-11\",\n",
    "                \"5-1\",\n",
    "                \"5-5\",\n",
    "                \"6-1\",\n",
    "                \"6-15\",\n",
    "                \"6-6\",\n",
    "                \"7-10\",\n",
    "                \"7-11\",\n",
    "                \"7-12\",\n",
    "                \"7-13\",\n",
    "                \"7-14\",\n",
    "                \"7-7\",\n",
    "                \"7-8\",\n",
    "                \"7-9\",\n",
    "                \"8-1\",\n",
    "                \"8-13\",\n",
    "                \"8-14\",\n",
    "                \"8-18\",\n",
    "                \"8-20\",\n",
    "                \"8-3\",\n",
    "                \"8-8\",\n",
    "                \"9-1\",\n",
    "                \"9-7\",\n",
    "            ],\n",
    "            \"domains\": [1, 2, 3, 4],\n",
    "            \"num_examples_per_domain_per_label\": 100,\n",
    "            \"pickle_path\": \"/mnt/wd500GB/CSC500/csc500-main/datasets/wisig.node3-19.stratified_ds.2022A.pkl\",\n",
    "            \"source_or_target_dataset\": \"target\",\n",
    "            \"x_transforms\": [\"unit_mag\"],\n",
    "            \"episode_transforms\": [],\n",
    "            \"domain_prefix\": \"W_A_\",\n",
    "        },\n",
    "        {\n",
    "            \"labels\": [\n",
    "                \"3123D52\",\n",
    "                \"3123D65\",\n",
    "                \"3123D79\",\n",
    "                \"3123D80\",\n",
    "                \"3123D54\",\n",
    "                \"3123D70\",\n",
    "                \"3123D7B\",\n",
    "                \"3123D89\",\n",
    "                \"3123D58\",\n",
    "                \"3123D76\",\n",
    "                \"3123D7D\",\n",
    "                \"3123EFE\",\n",
    "                \"3123D64\",\n",
    "                \"3123D78\",\n",
    "                \"3123D7E\",\n",
    "                \"3124E4A\",\n",
    "            ],\n",
    "            \"domains\": [32, 38, 8, 44, 14, 50, 20, 26],\n",
    "            \"num_examples_per_domain_per_label\": 2000,\n",
    "            \"pickle_path\": \"/mnt/wd500GB/CSC500/csc500-main/datasets/oracle.Run1_framed_2000Examples_stratified_ds.2022A.pkl\",\n",
    "            \"source_or_target_dataset\": \"source\",\n",
    "            \"x_transforms\": [\"unit_mag\"],\n",
    "            \"episode_transforms\": [],\n",
    "            \"domain_prefix\": \"ORACLE.run1_\",\n",
    "        },\n",
    "    ],\n",
    "}\n"
   ]
  },
  {
   "cell_type": "code",
   "execution_count": 5,
   "id": "8fa1cc33",
   "metadata": {
    "execution": {
     "iopub.execute_input": "2022-03-17T02:14:26.416561Z",
     "iopub.status.busy": "2022-03-17T02:14:26.416074Z",
     "iopub.status.idle": "2022-03-17T02:14:26.429493Z",
     "shell.execute_reply": "2022-03-17T02:14:26.429782Z"
    },
    "papermill": {
     "duration": 0.029608,
     "end_time": "2022-03-17T02:14:26.429864",
     "exception": false,
     "start_time": "2022-03-17T02:14:26.400256",
     "status": "completed"
    },
    "tags": []
   },
   "outputs": [],
   "source": [
    "# Set this to True if you want to run this template directly\n",
    "STANDALONE = False\n",
    "if STANDALONE:\n",
    "    print(\"parameters not injected, running with standalone_parameters\")\n",
    "    parameters = standalone_parameters\n",
    "\n",
    "if not 'parameters' in locals() and not 'parameters' in globals():\n",
    "    raise Exception(\"Parameter injection failed\")\n",
    "\n",
    "#Use an easy dict for all the parameters\n",
    "p = EasyDict(parameters)\n",
    "\n",
    "supplied_keys = set(p.keys())\n",
    "\n",
    "if  supplied_keys != required_parameters:\n",
    "    print(\"Parameters are incorrect\")\n",
    "    if len(supplied_keys - required_parameters)>0: print(\"Shouldn't have:\", str(supplied_keys - required_parameters))\n",
    "    if len(required_parameters - supplied_keys)>0: print(\"Need to have:\", str(required_parameters - supplied_keys))\n",
    "    raise RuntimeError(\"Parameters are incorrect\")\n",
    "\n"
   ]
  },
  {
   "cell_type": "code",
   "execution_count": 6,
   "id": "3a028d58",
   "metadata": {
    "execution": {
     "iopub.execute_input": "2022-03-17T02:14:26.462526Z",
     "iopub.status.busy": "2022-03-17T02:14:26.462270Z",
     "iopub.status.idle": "2022-03-17T02:14:26.475736Z",
     "shell.execute_reply": "2022-03-17T02:14:26.475516Z"
    },
    "papermill": {
     "duration": 0.028663,
     "end_time": "2022-03-17T02:14:26.475785",
     "exception": false,
     "start_time": "2022-03-17T02:14:26.447122",
     "status": "completed"
    },
    "tags": []
   },
   "outputs": [],
   "source": [
    "###################################\n",
    "# Set the RNGs and make it all deterministic\n",
    "###################################\n",
    "np.random.seed(p.seed)\n",
    "random.seed(p.seed)\n",
    "torch.manual_seed(p.seed)\n",
    "\n",
    "torch.use_deterministic_algorithms(True) "
   ]
  },
  {
   "cell_type": "code",
   "execution_count": 7,
   "id": "b691acf6",
   "metadata": {
    "execution": {
     "iopub.execute_input": "2022-03-17T02:14:26.509923Z",
     "iopub.status.busy": "2022-03-17T02:14:26.509666Z",
     "iopub.status.idle": "2022-03-17T02:14:26.522761Z",
     "shell.execute_reply": "2022-03-17T02:14:26.523048Z"
    },
    "papermill": {
     "duration": 0.028739,
     "end_time": "2022-03-17T02:14:26.523131",
     "exception": false,
     "start_time": "2022-03-17T02:14:26.494392",
     "status": "completed"
    },
    "tags": []
   },
   "outputs": [],
   "source": [
    "###########################################\n",
    "# The stratified datasets honor this\n",
    "###########################################\n",
    "torch.set_default_dtype(eval(p.torch_default_dtype))"
   ]
  },
  {
   "cell_type": "code",
   "execution_count": 8,
   "id": "b5fba671",
   "metadata": {
    "execution": {
     "iopub.execute_input": "2022-03-17T02:14:26.557133Z",
     "iopub.status.busy": "2022-03-17T02:14:26.556873Z",
     "iopub.status.idle": "2022-03-17T02:14:26.595048Z",
     "shell.execute_reply": "2022-03-17T02:14:26.595427Z"
    },
    "papermill": {
     "duration": 0.053604,
     "end_time": "2022-03-17T02:14:26.595535",
     "exception": false,
     "start_time": "2022-03-17T02:14:26.541931",
     "status": "completed"
    },
    "tags": []
   },
   "outputs": [],
   "source": [
    "###################################\n",
    "# Build the network(s)\n",
    "# Note: It's critical to do this AFTER setting the RNG\n",
    "###################################\n",
    "x_net = build_sequential(p.x_net)"
   ]
  },
  {
   "cell_type": "code",
   "execution_count": 9,
   "id": "5d7e61cc",
   "metadata": {
    "execution": {
     "iopub.execute_input": "2022-03-17T02:14:26.630309Z",
     "iopub.status.busy": "2022-03-17T02:14:26.630061Z",
     "iopub.status.idle": "2022-03-17T02:14:26.644502Z",
     "shell.execute_reply": "2022-03-17T02:14:26.644045Z"
    },
    "papermill": {
     "duration": 0.029894,
     "end_time": "2022-03-17T02:14:26.644592",
     "exception": false,
     "start_time": "2022-03-17T02:14:26.614698",
     "status": "completed"
    },
    "tags": []
   },
   "outputs": [],
   "source": [
    "start_time_secs = time.time()"
   ]
  },
  {
   "cell_type": "code",
   "execution_count": 10,
   "id": "c6b67dfd",
   "metadata": {
    "execution": {
     "iopub.execute_input": "2022-03-17T02:14:26.677103Z",
     "iopub.status.busy": "2022-03-17T02:14:26.676854Z",
     "iopub.status.idle": "2022-03-17T02:14:26.691080Z",
     "shell.execute_reply": "2022-03-17T02:14:26.690615Z"
    },
    "papermill": {
     "duration": 0.029857,
     "end_time": "2022-03-17T02:14:26.691171",
     "exception": false,
     "start_time": "2022-03-17T02:14:26.661314",
     "status": "completed"
    },
    "tags": []
   },
   "outputs": [],
   "source": [
    "p.domains_source = []\n",
    "p.domains_target = []\n",
    "\n",
    "\n",
    "train_original_source = []\n",
    "val_original_source   = []\n",
    "test_original_source  = []\n",
    "\n",
    "train_original_target = []\n",
    "val_original_target   = []\n",
    "test_original_target  = []"
   ]
  },
  {
   "cell_type": "code",
   "execution_count": 11,
   "id": "e3d9c3d3",
   "metadata": {
    "execution": {
     "iopub.execute_input": "2022-03-17T02:14:26.725572Z",
     "iopub.status.busy": "2022-03-17T02:14:26.725312Z",
     "iopub.status.idle": "2022-03-17T02:14:26.740415Z",
     "shell.execute_reply": "2022-03-17T02:14:26.739960Z"
    },
    "papermill": {
     "duration": 0.029976,
     "end_time": "2022-03-17T02:14:26.740512",
     "exception": false,
     "start_time": "2022-03-17T02:14:26.710536",
     "status": "completed"
    },
    "tags": []
   },
   "outputs": [],
   "source": [
    "# global_x_transform_func = lambda x: normalize(x.to(torch.get_default_dtype()), \"unit_power\") # unit_power, unit_mag\n",
    "# global_x_transform_func = lambda x: normalize(x, \"unit_power\") # unit_power, unit_mag"
   ]
  },
  {
   "cell_type": "code",
   "execution_count": 12,
   "id": "acb78fd2",
   "metadata": {
    "execution": {
     "iopub.execute_input": "2022-03-17T02:14:26.778787Z",
     "iopub.status.busy": "2022-03-17T02:14:26.778526Z",
     "iopub.status.idle": "2022-03-17T02:14:26.791616Z",
     "shell.execute_reply": "2022-03-17T02:14:26.791203Z"
    },
    "papermill": {
     "duration": 0.032209,
     "end_time": "2022-03-17T02:14:26.791704",
     "exception": false,
     "start_time": "2022-03-17T02:14:26.759495",
     "status": "completed"
    },
    "tags": []
   },
   "outputs": [],
   "source": [
    "def add_dataset(\n",
    "    labels,\n",
    "    domains,\n",
    "    pickle_path,\n",
    "    x_transforms,\n",
    "    episode_transforms,\n",
    "    domain_prefix,\n",
    "    num_examples_per_domain_per_label,\n",
    "    source_or_target_dataset:str,\n",
    "    iterator_seed=p.seed,\n",
    "    dataset_seed=p.dataset_seed,\n",
    "    n_shot=p.n_shot,\n",
    "    n_way=p.n_way,\n",
    "    n_query=p.n_query,\n",
    "    train_val_test_k_factors=(p.train_k_factor,p.val_k_factor,p.test_k_factor),\n",
    "):\n",
    "   \n",
    "    if x_transforms == []: x_transform = None\n",
    "    else: x_transform = get_chained_transform(x_transforms)\n",
    "    \n",
    "    if episode_transforms == []: episode_transform = None\n",
    "    else: raise Exception(\"episode_transforms not implemented\")\n",
    "    \n",
    "    episode_transform = lambda tup, _prefix=domain_prefix: (_prefix + str(tup[0]), tup[1])\n",
    "\n",
    "\n",
    "    eaf = Episodic_Accessor_Factory(\n",
    "        labels=labels,\n",
    "        domains=domains,\n",
    "        num_examples_per_domain_per_label=num_examples_per_domain_per_label,\n",
    "        iterator_seed=iterator_seed,\n",
    "        dataset_seed=dataset_seed,\n",
    "        n_shot=n_shot,\n",
    "        n_way=n_way,\n",
    "        n_query=n_query,\n",
    "        train_val_test_k_factors=train_val_test_k_factors,\n",
    "        pickle_path=pickle_path,\n",
    "        x_transform_func=x_transform,\n",
    "    )\n",
    "\n",
    "    train, val, test = eaf.get_train(), eaf.get_val(), eaf.get_test()\n",
    "    train = Lazy_Iterable_Wrapper(train, episode_transform)\n",
    "    val = Lazy_Iterable_Wrapper(val, episode_transform)\n",
    "    test = Lazy_Iterable_Wrapper(test, episode_transform)\n",
    "\n",
    "    if source_or_target_dataset==\"source\":\n",
    "        train_original_source.append(train)\n",
    "        val_original_source.append(val)\n",
    "        test_original_source.append(test)\n",
    "\n",
    "        p.domains_source.extend(\n",
    "            [domain_prefix + str(u) for u in domains]\n",
    "        )\n",
    "    elif source_or_target_dataset==\"target\":\n",
    "        train_original_target.append(train)\n",
    "        val_original_target.append(val)\n",
    "        test_original_target.append(test)\n",
    "        p.domains_target.extend(\n",
    "            [domain_prefix + str(u) for u in domains]\n",
    "        )\n",
    "    else:\n",
    "        raise Exception(f\"invalid source_or_target_dataset: {source_or_target_dataset}\")\n",
    "    "
   ]
  },
  {
   "cell_type": "code",
   "execution_count": 13,
   "id": "fe266617",
   "metadata": {
    "execution": {
     "iopub.execute_input": "2022-03-17T02:14:26.825745Z",
     "iopub.status.busy": "2022-03-17T02:14:26.825499Z",
     "iopub.status.idle": "2022-03-17T02:14:47.681443Z",
     "shell.execute_reply": "2022-03-17T02:14:47.680948Z"
    },
    "papermill": {
     "duration": 20.871082,
     "end_time": "2022-03-17T02:14:47.681543",
     "exception": false,
     "start_time": "2022-03-17T02:14:26.810461",
     "status": "completed"
    },
    "tags": []
   },
   "outputs": [],
   "source": [
    "for ds in p.datasets:\n",
    "    add_dataset(**ds)"
   ]
  },
  {
   "cell_type": "code",
   "execution_count": 14,
   "id": "b90d65ac",
   "metadata": {
    "execution": {
     "iopub.execute_input": "2022-03-17T02:14:47.716537Z",
     "iopub.status.busy": "2022-03-17T02:14:47.716033Z",
     "iopub.status.idle": "2022-03-17T02:14:47.729709Z",
     "shell.execute_reply": "2022-03-17T02:14:47.729279Z"
    },
    "papermill": {
     "duration": 0.029611,
     "end_time": "2022-03-17T02:14:47.729799",
     "exception": false,
     "start_time": "2022-03-17T02:14:47.700188",
     "status": "completed"
    },
    "tags": []
   },
   "outputs": [],
   "source": [
    "# from steves_utils.CORES.utils import (\n",
    "#     ALL_NODES,\n",
    "#     ALL_NODES_MINIMUM_1000_EXAMPLES,\n",
    "#     ALL_DAYS\n",
    "# )\n",
    "\n",
    "# add_dataset(\n",
    "#     labels=ALL_NODES,\n",
    "#     domains = ALL_DAYS,\n",
    "#     num_examples_per_domain_per_label=100,\n",
    "#     pickle_path=os.path.join(get_datasets_base_path(), \"cores.stratified_ds.2022A.pkl\"),\n",
    "#     source_or_target_dataset=\"target\",\n",
    "#     x_transform_func=global_x_transform_func,\n",
    "#     domain_modifier=lambda u: f\"cores_{u}\"\n",
    "# )"
   ]
  },
  {
   "cell_type": "code",
   "execution_count": 15,
   "id": "76db484d",
   "metadata": {
    "execution": {
     "iopub.execute_input": "2022-03-17T02:14:47.763908Z",
     "iopub.status.busy": "2022-03-17T02:14:47.763648Z",
     "iopub.status.idle": "2022-03-17T02:14:47.779679Z",
     "shell.execute_reply": "2022-03-17T02:14:47.779258Z"
    },
    "papermill": {
     "duration": 0.0319,
     "end_time": "2022-03-17T02:14:47.779771",
     "exception": false,
     "start_time": "2022-03-17T02:14:47.747871",
     "status": "completed"
    },
    "tags": []
   },
   "outputs": [],
   "source": [
    "# from steves_utils.ORACLE.utils_v2 import (\n",
    "#     ALL_DISTANCES_FEET,\n",
    "#     ALL_RUNS,\n",
    "#     ALL_SERIAL_NUMBERS,\n",
    "# )\n",
    "\n",
    "\n",
    "# add_dataset(\n",
    "#     labels=ALL_SERIAL_NUMBERS,\n",
    "#     domains = list(set(ALL_DISTANCES_FEET) - {2,62}),\n",
    "#     num_examples_per_domain_per_label=100,\n",
    "#     pickle_path=os.path.join(get_datasets_base_path(), \"oracle.Run2_framed_2000Examples_stratified_ds.2022A.pkl\"),\n",
    "#     source_or_target_dataset=\"source\",\n",
    "#     x_transform_func=global_x_transform_func,\n",
    "#     domain_modifier=lambda u: f\"oracle1_{u}\"\n",
    "# )\n"
   ]
  },
  {
   "cell_type": "code",
   "execution_count": 16,
   "id": "97dea9d2",
   "metadata": {
    "execution": {
     "iopub.execute_input": "2022-03-17T02:14:47.813230Z",
     "iopub.status.busy": "2022-03-17T02:14:47.812503Z",
     "iopub.status.idle": "2022-03-17T02:14:47.825598Z",
     "shell.execute_reply": "2022-03-17T02:14:47.825144Z"
    },
    "papermill": {
     "duration": 0.028452,
     "end_time": "2022-03-17T02:14:47.825687",
     "exception": false,
     "start_time": "2022-03-17T02:14:47.797235",
     "status": "completed"
    },
    "tags": []
   },
   "outputs": [],
   "source": [
    "# from steves_utils.ORACLE.utils_v2 import (\n",
    "#     ALL_DISTANCES_FEET,\n",
    "#     ALL_RUNS,\n",
    "#     ALL_SERIAL_NUMBERS,\n",
    "# )\n",
    "\n",
    "\n",
    "# add_dataset(\n",
    "#     labels=ALL_SERIAL_NUMBERS,\n",
    "#     domains = list(set(ALL_DISTANCES_FEET) - {2,62,56}),\n",
    "#     num_examples_per_domain_per_label=100,\n",
    "#     pickle_path=os.path.join(get_datasets_base_path(), \"oracle.Run2_framed_2000Examples_stratified_ds.2022A.pkl\"),\n",
    "#     source_or_target_dataset=\"source\",\n",
    "#     x_transform_func=global_x_transform_func,\n",
    "#     domain_modifier=lambda u: f\"oracle2_{u}\"\n",
    "# )"
   ]
  },
  {
   "cell_type": "code",
   "execution_count": 17,
   "id": "6f289866",
   "metadata": {
    "execution": {
     "iopub.execute_input": "2022-03-17T02:14:47.867883Z",
     "iopub.status.busy": "2022-03-17T02:14:47.867625Z",
     "iopub.status.idle": "2022-03-17T02:14:47.873112Z",
     "shell.execute_reply": "2022-03-17T02:14:47.872727Z"
    },
    "papermill": {
     "duration": 0.028925,
     "end_time": "2022-03-17T02:14:47.873201",
     "exception": false,
     "start_time": "2022-03-17T02:14:47.844276",
     "status": "completed"
    },
    "tags": []
   },
   "outputs": [],
   "source": [
    "# add_dataset(\n",
    "#     labels=list(range(19)),\n",
    "#     domains = [0,1,2],\n",
    "#     num_examples_per_domain_per_label=100,\n",
    "#     pickle_path=os.path.join(get_datasets_base_path(), \"metehan.stratified_ds.2022A.pkl\"),\n",
    "#     source_or_target_dataset=\"target\",\n",
    "#     x_transform_func=global_x_transform_func,\n",
    "#     domain_modifier=lambda u: f\"met_{u}\"\n",
    "# )"
   ]
  },
  {
   "cell_type": "code",
   "execution_count": 18,
   "id": "86a863c3",
   "metadata": {
    "execution": {
     "iopub.execute_input": "2022-03-17T02:14:47.905876Z",
     "iopub.status.busy": "2022-03-17T02:14:47.905612Z",
     "iopub.status.idle": "2022-03-17T02:14:47.916361Z",
     "shell.execute_reply": "2022-03-17T02:14:47.916069Z"
    },
    "papermill": {
     "duration": 0.026333,
     "end_time": "2022-03-17T02:14:47.916448",
     "exception": false,
     "start_time": "2022-03-17T02:14:47.890115",
     "status": "completed"
    },
    "tags": []
   },
   "outputs": [],
   "source": [
    "# # from steves_utils.wisig.utils import (\n",
    "# #     ALL_NODES_MINIMUM_100_EXAMPLES,\n",
    "# #     ALL_NODES_MINIMUM_500_EXAMPLES,\n",
    "# #     ALL_NODES_MINIMUM_1000_EXAMPLES,\n",
    "# #     ALL_DAYS\n",
    "# # )\n",
    "\n",
    "# import steves_utils.wisig.utils as wisig\n",
    "\n",
    "\n",
    "# add_dataset(\n",
    "#     labels=wisig.ALL_NODES_MINIMUM_100_EXAMPLES,\n",
    "#     domains = wisig.ALL_DAYS,\n",
    "#     num_examples_per_domain_per_label=100,\n",
    "#     pickle_path=os.path.join(get_datasets_base_path(), \"wisig.node3-19.stratified_ds.2022A.pkl\"),\n",
    "#     source_or_target_dataset=\"target\",\n",
    "#     x_transform_func=global_x_transform_func,\n",
    "#     domain_modifier=lambda u: f\"wisig_{u}\"\n",
    "# )"
   ]
  },
  {
   "cell_type": "code",
   "execution_count": 19,
   "id": "fd5442bc",
   "metadata": {
    "execution": {
     "iopub.execute_input": "2022-03-17T02:14:47.951431Z",
     "iopub.status.busy": "2022-03-17T02:14:47.951083Z",
     "iopub.status.idle": "2022-03-17T02:14:47.962882Z",
     "shell.execute_reply": "2022-03-17T02:14:47.962528Z"
    },
    "papermill": {
     "duration": 0.02884,
     "end_time": "2022-03-17T02:14:47.962953",
     "exception": false,
     "start_time": "2022-03-17T02:14:47.934113",
     "status": "completed"
    },
    "tags": []
   },
   "outputs": [],
   "source": [
    "###################################\n",
    "# Build the dataset\n",
    "###################################\n",
    "train_original_source = Iterable_Aggregator(train_original_source, p.seed)\n",
    "val_original_source = Iterable_Aggregator(val_original_source, p.seed)\n",
    "test_original_source = Iterable_Aggregator(test_original_source, p.seed)\n",
    "\n",
    "\n",
    "train_original_target = Iterable_Aggregator(train_original_target, p.seed)\n",
    "val_original_target = Iterable_Aggregator(val_original_target, p.seed)\n",
    "test_original_target = Iterable_Aggregator(test_original_target, p.seed)\n",
    "\n",
    "# For CNN We only use X and Y. And we only train on the source.\n",
    "# Properly form the data using a transform lambda and Lazy_Iterable_Wrapper. Finally wrap them in a dataloader\n",
    "\n",
    "transform_lambda = lambda ex: ex[1] # Original is (<domain>, <episode>) so we strip down to episode only\n",
    "\n",
    "train_processed_source = Lazy_Iterable_Wrapper(train_original_source, transform_lambda)\n",
    "val_processed_source   = Lazy_Iterable_Wrapper(val_original_source, transform_lambda)\n",
    "test_processed_source  = Lazy_Iterable_Wrapper(test_original_source, transform_lambda)\n",
    "\n",
    "train_processed_target = Lazy_Iterable_Wrapper(train_original_target, transform_lambda)\n",
    "val_processed_target   = Lazy_Iterable_Wrapper(val_original_target, transform_lambda)\n",
    "test_processed_target  = Lazy_Iterable_Wrapper(test_original_target, transform_lambda)\n",
    "\n",
    "datasets = EasyDict({\n",
    "    \"source\": {\n",
    "        \"original\": {\"train\":train_original_source, \"val\":val_original_source, \"test\":test_original_source},\n",
    "        \"processed\": {\"train\":train_processed_source, \"val\":val_processed_source, \"test\":test_processed_source}\n",
    "    },\n",
    "    \"target\": {\n",
    "        \"original\": {\"train\":train_original_target, \"val\":val_original_target, \"test\":test_original_target},\n",
    "        \"processed\": {\"train\":train_processed_target, \"val\":val_processed_target, \"test\":test_processed_target}\n",
    "    },\n",
    "})"
   ]
  },
  {
   "cell_type": "code",
   "execution_count": 20,
   "id": "5b3c01fc",
   "metadata": {
    "execution": {
     "iopub.execute_input": "2022-03-17T02:14:48.000246Z",
     "iopub.status.busy": "2022-03-17T02:14:47.999691Z",
     "iopub.status.idle": "2022-03-17T02:14:52.906215Z",
     "shell.execute_reply": "2022-03-17T02:14:52.905946Z"
    },
    "papermill": {
     "duration": 4.923191,
     "end_time": "2022-03-17T02:14:52.906280",
     "exception": false,
     "start_time": "2022-03-17T02:14:47.983089",
     "status": "completed"
    },
    "tags": []
   },
   "outputs": [
    {
     "name": "stdout",
     "output_type": "stream",
     "text": [
      "{'ORACLE.run1_38', 'ORACLE.run1_44', 'ORACLE.run1_32', 'ORACLE.run1_26', 'ORACLE.run1_20', 'ORACLE.run1_8', 'ORACLE.run1_50', 'ORACLE.run1_14'}\n"
     ]
    },
    {
     "name": "stdout",
     "output_type": "stream",
     "text": [
      "{'W_A_2', 'C_A_3', 'W_A_1', 'C_A_2', 'C_A_4', 'W_A_4', 'C_A_1', 'C_A_5', 'W_A_3'}\n"
     ]
    },
    {
     "name": "stdout",
     "output_type": "stream",
     "text": [
      "tensor([[[-0.0955,  1.1942, -0.1146,  ..., -0.9840, -0.2675, -0.5732],\n",
      "         [-0.6592, -0.3057,  1.0891,  ...,  0.2484, -1.4617, -0.4872]],\n",
      "\n",
      "        [[-0.4662,  0.7090,  0.5730,  ..., -1.3014, -1.2237, -0.1165],\n",
      "         [-1.1752, -0.3302,  1.1558,  ...,  0.4273, -0.1554,  1.2626]],\n",
      "\n",
      "        [[ 0.6763, -0.3671, -0.7922,  ...,  0.8212,  1.4202,  0.3381],\n",
      "         [ 0.8598,  0.7053, -0.9178,  ..., -0.7826,  0.4831, -1.1980]],\n",
      "\n",
      "        ...,\n",
      "\n",
      "        [[ 1.0255, -0.2498, -1.2227,  ...,  0.6639,  1.0255, -0.6771],\n",
      "         [ 0.5785,  0.7428, -0.3878,  ..., -1.0123, -0.6376, -1.1701]],\n",
      "\n",
      "        [[ 0.0260, -1.0137,  0.2924,  ...,  0.9227,  0.4808,  1.0981],\n",
      "         [ 0.8122,  0.4354, -1.1631,  ..., -0.1235,  1.2996, -0.2339]],\n",
      "\n",
      "        [[ 0.4980,  0.3408, -0.7471,  ..., -0.4718,  1.2779,  1.0616],\n",
      "         [-0.4260,  1.1468, -0.0328,  ..., -1.1141, -0.0590, -0.2556]]])\n"
     ]
    }
   ],
   "source": [
    "from steves_utils.transforms import get_average_magnitude, get_average_power\n",
    "\n",
    "print(set([u for u,_ in val_original_source]))\n",
    "print(set([u for u,_ in val_original_target]))\n",
    "\n",
    "s_x, s_y, q_x, q_y, _ = next(iter(train_processed_source))\n",
    "print(s_x)\n",
    "\n",
    "# for ds in [\n",
    "#     train_processed_source,\n",
    "#     val_processed_source,\n",
    "#     test_processed_source,\n",
    "#     train_processed_target,\n",
    "#     val_processed_target,\n",
    "#     test_processed_target\n",
    "# ]:\n",
    "#     for s_x, s_y, q_x, q_y, _ in ds:\n",
    "#         for X in (s_x, q_x):\n",
    "#             for x in X:\n",
    "#                 assert np.isclose(get_average_magnitude(x.numpy()), 1.0)\n",
    "#                 assert np.isclose(get_average_power(x.numpy()), 1.0)\n",
    "                "
   ]
  },
  {
   "cell_type": "code",
   "execution_count": 21,
   "id": "bbdacba1",
   "metadata": {
    "execution": {
     "iopub.execute_input": "2022-03-17T02:14:52.948792Z",
     "iopub.status.busy": "2022-03-17T02:14:52.948393Z",
     "iopub.status.idle": "2022-03-17T02:14:53.004803Z",
     "shell.execute_reply": "2022-03-17T02:14:53.004411Z"
    },
    "papermill": {
     "duration": 0.074494,
     "end_time": "2022-03-17T02:14:53.004885",
     "exception": false,
     "start_time": "2022-03-17T02:14:52.930391",
     "status": "completed"
    },
    "tags": []
   },
   "outputs": [
    {
     "name": "stdout",
     "output_type": "stream",
     "text": [
      "(2, 256)\n"
     ]
    }
   ],
   "source": [
    "###################################\n",
    "# Build the model\n",
    "###################################\n",
    "model = Steves_Prototypical_Network(x_net, device=p.device, x_shape=(2,256))\n",
    "optimizer = Adam(params=model.parameters(), lr=p.lr)"
   ]
  },
  {
   "cell_type": "code",
   "execution_count": 22,
   "id": "22b39ac5",
   "metadata": {
    "execution": {
     "iopub.execute_input": "2022-03-17T02:14:53.046216Z",
     "iopub.status.busy": "2022-03-17T02:14:53.045811Z",
     "iopub.status.idle": "2022-03-17T02:32:41.164992Z",
     "shell.execute_reply": "2022-03-17T02:32:41.164759Z"
    },
    "papermill": {
     "duration": 1068.141346,
     "end_time": "2022-03-17T02:32:41.165049",
     "exception": false,
     "start_time": "2022-03-17T02:14:53.023703",
     "status": "completed"
    },
    "tags": []
   },
   "outputs": [
    {
     "name": "stdout",
     "output_type": "stream",
     "text": [
      "epoch: 1, [batch: 1 / 6720], examples_per_second: 49.5057, train_label_loss: 3.1940, \n"
     ]
    },
    {
     "name": "stdout",
     "output_type": "stream",
     "text": [
      "epoch: 1, [batch: 672 / 6720], examples_per_second: 3280.7509, train_label_loss: 0.7595, \n"
     ]
    },
    {
     "name": "stdout",
     "output_type": "stream",
     "text": [
      "epoch: 1, [batch: 1344 / 6720], examples_per_second: 3282.9371, train_label_loss: 0.6479, \n"
     ]
    },
    {
     "name": "stdout",
     "output_type": "stream",
     "text": [
      "epoch: 1, [batch: 2016 / 6720], examples_per_second: 3255.0090, train_label_loss: 0.7276, \n"
     ]
    },
    {
     "name": "stdout",
     "output_type": "stream",
     "text": [
      "epoch: 1, [batch: 2688 / 6720], examples_per_second: 3265.5830, train_label_loss: 0.7377, \n"
     ]
    },
    {
     "name": "stdout",
     "output_type": "stream",
     "text": [
      "epoch: 1, [batch: 3360 / 6720], examples_per_second: 3245.1135, train_label_loss: 0.9656, \n"
     ]
    },
    {
     "name": "stdout",
     "output_type": "stream",
     "text": [
      "epoch: 1, [batch: 4032 / 6720], examples_per_second: 3276.0058, train_label_loss: 0.6357, \n"
     ]
    },
    {
     "name": "stdout",
     "output_type": "stream",
     "text": [
      "epoch: 1, [batch: 4704 / 6720], examples_per_second: 3268.2119, train_label_loss: 0.3283, \n"
     ]
    },
    {
     "name": "stdout",
     "output_type": "stream",
     "text": [
      "epoch: 1, [batch: 5376 / 6720], examples_per_second: 3274.9789, train_label_loss: 0.7300, \n"
     ]
    },
    {
     "name": "stdout",
     "output_type": "stream",
     "text": [
      "epoch: 1, [batch: 6048 / 6720], examples_per_second: 3283.9956, train_label_loss: 0.4020, \n"
     ]
    },
    {
     "name": "stdout",
     "output_type": "stream",
     "text": [
      "=============================================================\n",
      "epoch: 1, source_val_acc_label: 0.6489, target_val_acc_label: 0.6945, source_val_label_loss: 127.5527, target_val_label_loss: 6822.5322, \n",
      "=============================================================\n"
     ]
    },
    {
     "name": "stdout",
     "output_type": "stream",
     "text": [
      "New best\n"
     ]
    },
    {
     "name": "stdout",
     "output_type": "stream",
     "text": [
      "epoch: 2, [batch: 1 / 6720], examples_per_second: 5.6452, train_label_loss: 201.8808, \n"
     ]
    },
    {
     "name": "stdout",
     "output_type": "stream",
     "text": [
      "epoch: 2, [batch: 672 / 6720], examples_per_second: 3275.1218, train_label_loss: 0.4124, \n"
     ]
    },
    {
     "name": "stdout",
     "output_type": "stream",
     "text": [
      "epoch: 2, [batch: 1344 / 6720], examples_per_second: 3288.0270, train_label_loss: 0.4244, \n"
     ]
    },
    {
     "name": "stdout",
     "output_type": "stream",
     "text": [
      "epoch: 2, [batch: 2016 / 6720], examples_per_second: 3311.1735, train_label_loss: 1.0519, \n"
     ]
    },
    {
     "name": "stdout",
     "output_type": "stream",
     "text": [
      "epoch: 2, [batch: 2688 / 6720], examples_per_second: 3302.2367, train_label_loss: 0.8705, \n"
     ]
    },
    {
     "name": "stdout",
     "output_type": "stream",
     "text": [
      "epoch: 2, [batch: 3360 / 6720], examples_per_second: 3312.4033, train_label_loss: 0.6117, \n"
     ]
    },
    {
     "name": "stdout",
     "output_type": "stream",
     "text": [
      "epoch: 2, [batch: 4032 / 6720], examples_per_second: 3318.1450, train_label_loss: 1.0392, \n"
     ]
    },
    {
     "name": "stdout",
     "output_type": "stream",
     "text": [
      "epoch: 2, [batch: 4704 / 6720], examples_per_second: 3311.1199, train_label_loss: 0.7004, \n"
     ]
    },
    {
     "name": "stdout",
     "output_type": "stream",
     "text": [
      "epoch: 2, [batch: 5376 / 6720], examples_per_second: 3314.3403, train_label_loss: 0.7219, \n"
     ]
    },
    {
     "name": "stdout",
     "output_type": "stream",
     "text": [
      "epoch: 2, [batch: 6048 / 6720], examples_per_second: 3199.2473, train_label_loss: 0.4552, \n"
     ]
    },
    {
     "name": "stdout",
     "output_type": "stream",
     "text": [
      "=============================================================\n",
      "epoch: 2, source_val_acc_label: 0.7895, target_val_acc_label: 0.6414, source_val_label_loss: 0.5901, target_val_label_loss: 51.5859, \n",
      "=============================================================\n"
     ]
    },
    {
     "name": "stdout",
     "output_type": "stream",
     "text": [
      "New best\n"
     ]
    },
    {
     "name": "stdout",
     "output_type": "stream",
     "text": [
      "epoch: 3, [batch: 1 / 6720], examples_per_second: 5.5571, train_label_loss: 0.6743, \n"
     ]
    },
    {
     "name": "stdout",
     "output_type": "stream",
     "text": [
      "epoch: 3, [batch: 672 / 6720], examples_per_second: 3191.6396, train_label_loss: 0.2307, \n"
     ]
    },
    {
     "name": "stdout",
     "output_type": "stream",
     "text": [
      "epoch: 3, [batch: 1344 / 6720], examples_per_second: 3219.5833, train_label_loss: 0.4301, \n"
     ]
    },
    {
     "name": "stdout",
     "output_type": "stream",
     "text": [
      "epoch: 3, [batch: 2016 / 6720], examples_per_second: 3201.1237, train_label_loss: 0.2493, \n"
     ]
    },
    {
     "name": "stdout",
     "output_type": "stream",
     "text": [
      "epoch: 3, [batch: 2688 / 6720], examples_per_second: 3212.7144, train_label_loss: 0.4234, \n"
     ]
    },
    {
     "name": "stdout",
     "output_type": "stream",
     "text": [
      "epoch: 3, [batch: 3360 / 6720], examples_per_second: 3241.2267, train_label_loss: 1.0962, \n"
     ]
    },
    {
     "name": "stdout",
     "output_type": "stream",
     "text": [
      "epoch: 3, [batch: 4032 / 6720], examples_per_second: 3244.7148, train_label_loss: 0.6854, \n"
     ]
    },
    {
     "name": "stdout",
     "output_type": "stream",
     "text": [
      "epoch: 3, [batch: 4704 / 6720], examples_per_second: 3214.1027, train_label_loss: 0.3057, \n"
     ]
    },
    {
     "name": "stdout",
     "output_type": "stream",
     "text": [
      "epoch: 3, [batch: 5376 / 6720], examples_per_second: 3182.1553, train_label_loss: 0.4147, \n"
     ]
    },
    {
     "name": "stdout",
     "output_type": "stream",
     "text": [
      "epoch: 3, [batch: 6048 / 6720], examples_per_second: 3190.6913, train_label_loss: 0.2714, \n"
     ]
    },
    {
     "name": "stdout",
     "output_type": "stream",
     "text": [
      "=============================================================\n",
      "epoch: 3, source_val_acc_label: 0.7914, target_val_acc_label: 0.5730, source_val_label_loss: 0.5690, target_val_label_loss: 441.2729, \n",
      "=============================================================\n"
     ]
    },
    {
     "name": "stdout",
     "output_type": "stream",
     "text": [
      "epoch: 4, [batch: 1 / 6720], examples_per_second: 5.4805, train_label_loss: 0.7120, \n"
     ]
    },
    {
     "name": "stdout",
     "output_type": "stream",
     "text": [
      "epoch: 4, [batch: 672 / 6720], examples_per_second: 3159.4747, train_label_loss: 0.2509, \n"
     ]
    },
    {
     "name": "stdout",
     "output_type": "stream",
     "text": [
      "epoch: 4, [batch: 1344 / 6720], examples_per_second: 3281.0510, train_label_loss: 0.9016, \n"
     ]
    },
    {
     "name": "stdout",
     "output_type": "stream",
     "text": [
      "epoch: 4, [batch: 2016 / 6720], examples_per_second: 3238.7445, train_label_loss: 0.6925, \n"
     ]
    },
    {
     "name": "stdout",
     "output_type": "stream",
     "text": [
      "epoch: 4, [batch: 2688 / 6720], examples_per_second: 3197.6869, train_label_loss: 0.5961, \n"
     ]
    },
    {
     "name": "stdout",
     "output_type": "stream",
     "text": [
      "epoch: 4, [batch: 3360 / 6720], examples_per_second: 3262.0185, train_label_loss: 0.3619, \n"
     ]
    },
    {
     "name": "stdout",
     "output_type": "stream",
     "text": [
      "epoch: 4, [batch: 4032 / 6720], examples_per_second: 3121.6819, train_label_loss: 0.7646, \n"
     ]
    },
    {
     "name": "stdout",
     "output_type": "stream",
     "text": [
      "epoch: 4, [batch: 4704 / 6720], examples_per_second: 3196.1190, train_label_loss: 0.7010, \n"
     ]
    },
    {
     "name": "stdout",
     "output_type": "stream",
     "text": [
      "epoch: 4, [batch: 5376 / 6720], examples_per_second: 3181.0539, train_label_loss: 0.2870, \n"
     ]
    },
    {
     "name": "stdout",
     "output_type": "stream",
     "text": [
      "epoch: 4, [batch: 6048 / 6720], examples_per_second: 3281.9210, train_label_loss: 0.4783, \n"
     ]
    },
    {
     "name": "stdout",
     "output_type": "stream",
     "text": [
      "=============================================================\n",
      "epoch: 4, source_val_acc_label: 0.8106, target_val_acc_label: 0.5523, source_val_label_loss: 0.5301, target_val_label_loss: 1180.1682, \n",
      "=============================================================\n"
     ]
    },
    {
     "name": "stdout",
     "output_type": "stream",
     "text": [
      "epoch: 5, [batch: 1 / 6720], examples_per_second: 5.5940, train_label_loss: 0.0425, \n"
     ]
    },
    {
     "name": "stdout",
     "output_type": "stream",
     "text": [
      "epoch: 5, [batch: 672 / 6720], examples_per_second: 3219.8700, train_label_loss: 0.2238, \n"
     ]
    },
    {
     "name": "stdout",
     "output_type": "stream",
     "text": [
      "epoch: 5, [batch: 1344 / 6720], examples_per_second: 3187.9735, train_label_loss: 0.7803, \n"
     ]
    },
    {
     "name": "stdout",
     "output_type": "stream",
     "text": [
      "epoch: 5, [batch: 2016 / 6720], examples_per_second: 3263.1845, train_label_loss: 0.6266, \n"
     ]
    },
    {
     "name": "stdout",
     "output_type": "stream",
     "text": [
      "epoch: 5, [batch: 2688 / 6720], examples_per_second: 3225.1823, train_label_loss: 0.4149, \n"
     ]
    },
    {
     "name": "stdout",
     "output_type": "stream",
     "text": [
      "epoch: 5, [batch: 3360 / 6720], examples_per_second: 3262.0309, train_label_loss: 0.1465, \n"
     ]
    },
    {
     "name": "stdout",
     "output_type": "stream",
     "text": [
      "epoch: 5, [batch: 4032 / 6720], examples_per_second: 3207.8180, train_label_loss: 0.3885, \n"
     ]
    },
    {
     "name": "stdout",
     "output_type": "stream",
     "text": [
      "epoch: 5, [batch: 4704 / 6720], examples_per_second: 3150.7846, train_label_loss: 0.1949, \n"
     ]
    },
    {
     "name": "stdout",
     "output_type": "stream",
     "text": [
      "epoch: 5, [batch: 5376 / 6720], examples_per_second: 3231.7617, train_label_loss: 0.4660, \n"
     ]
    },
    {
     "name": "stdout",
     "output_type": "stream",
     "text": [
      "epoch: 5, [batch: 6048 / 6720], examples_per_second: 3234.7193, train_label_loss: 0.2987, \n"
     ]
    },
    {
     "name": "stdout",
     "output_type": "stream",
     "text": [
      "=============================================================\n",
      "epoch: 5, source_val_acc_label: 0.8448, target_val_acc_label: 0.5399, source_val_label_loss: 0.4374, target_val_label_loss: 1903.1946, \n",
      "=============================================================\n"
     ]
    },
    {
     "name": "stdout",
     "output_type": "stream",
     "text": [
      "epoch: 6, [batch: 1 / 6720], examples_per_second: 5.5383, train_label_loss: 0.3347, \n"
     ]
    },
    {
     "name": "stdout",
     "output_type": "stream",
     "text": [
      "epoch: 6, [batch: 672 / 6720], examples_per_second: 3194.6233, train_label_loss: 0.5949, \n"
     ]
    },
    {
     "name": "stdout",
     "output_type": "stream",
     "text": [
      "epoch: 6, [batch: 1344 / 6720], examples_per_second: 3193.0021, train_label_loss: 0.5708, \n"
     ]
    },
    {
     "name": "stdout",
     "output_type": "stream",
     "text": [
      "epoch: 6, [batch: 2016 / 6720], examples_per_second: 3154.6613, train_label_loss: 0.2185, \n"
     ]
    },
    {
     "name": "stdout",
     "output_type": "stream",
     "text": [
      "epoch: 6, [batch: 2688 / 6720], examples_per_second: 3240.4883, train_label_loss: 0.2342, \n"
     ]
    },
    {
     "name": "stdout",
     "output_type": "stream",
     "text": [
      "epoch: 6, [batch: 3360 / 6720], examples_per_second: 3237.8154, train_label_loss: 0.1509, \n"
     ]
    },
    {
     "name": "stdout",
     "output_type": "stream",
     "text": [
      "epoch: 6, [batch: 4032 / 6720], examples_per_second: 3223.6933, train_label_loss: 0.4639, \n"
     ]
    },
    {
     "name": "stdout",
     "output_type": "stream",
     "text": [
      "epoch: 6, [batch: 4704 / 6720], examples_per_second: 3279.2142, train_label_loss: 0.4304, \n"
     ]
    },
    {
     "name": "stdout",
     "output_type": "stream",
     "text": [
      "epoch: 6, [batch: 5376 / 6720], examples_per_second: 3307.1594, train_label_loss: 0.3393, \n"
     ]
    },
    {
     "name": "stdout",
     "output_type": "stream",
     "text": [
      "epoch: 6, [batch: 6048 / 6720], examples_per_second: 3288.4829, train_label_loss: 0.1737, \n"
     ]
    },
    {
     "name": "stdout",
     "output_type": "stream",
     "text": [
      "=============================================================\n",
      "epoch: 6, source_val_acc_label: 0.7875, target_val_acc_label: 0.5067, source_val_label_loss: 0.5950, target_val_label_loss: 1634.4115, \n",
      "=============================================================\n"
     ]
    },
    {
     "name": "stdout",
     "output_type": "stream",
     "text": [
      "Patience (3) exhausted\n"
     ]
    }
   ],
   "source": [
    "###################################\n",
    "# train\n",
    "###################################\n",
    "jig = PTN_Train_Eval_Test_Jig(model, p.BEST_MODEL_PATH, p.device)\n",
    "\n",
    "jig.train(\n",
    "    train_iterable=datasets.source.processed.train,\n",
    "    source_val_iterable=datasets.source.processed.val,\n",
    "    target_val_iterable=datasets.target.processed.val,\n",
    "    num_epochs=p.n_epoch,\n",
    "    num_logs_per_epoch=p.NUM_LOGS_PER_EPOCH,\n",
    "    patience=p.patience,\n",
    "    optimizer=optimizer,\n",
    "    criteria_for_best=p.criteria_for_best,\n",
    ")"
   ]
  },
  {
   "cell_type": "code",
   "execution_count": 23,
   "id": "31e8fabf",
   "metadata": {
    "execution": {
     "iopub.execute_input": "2022-03-17T02:32:41.222823Z",
     "iopub.status.busy": "2022-03-17T02:32:41.222566Z",
     "iopub.status.idle": "2022-03-17T02:32:41.242636Z",
     "shell.execute_reply": "2022-03-17T02:32:41.242189Z"
    },
    "papermill": {
     "duration": 0.050441,
     "end_time": "2022-03-17T02:32:41.242743",
     "exception": false,
     "start_time": "2022-03-17T02:32:41.192302",
     "status": "completed"
    },
    "tags": []
   },
   "outputs": [],
   "source": [
    "total_experiment_time_secs = time.time() - start_time_secs"
   ]
  },
  {
   "cell_type": "code",
   "execution_count": 24,
   "id": "87b9595b",
   "metadata": {
    "execution": {
     "iopub.execute_input": "2022-03-17T02:32:41.310405Z",
     "iopub.status.busy": "2022-03-17T02:32:41.309836Z",
     "iopub.status.idle": "2022-03-17T02:33:47.329831Z",
     "shell.execute_reply": "2022-03-17T02:33:47.330264Z"
    },
    "papermill": {
     "duration": 66.054611,
     "end_time": "2022-03-17T02:33:47.330401",
     "exception": false,
     "start_time": "2022-03-17T02:32:41.275790",
     "status": "completed"
    },
    "tags": []
   },
   "outputs": [],
   "source": [
    "###################################\n",
    "# Evaluate the model\n",
    "###################################\n",
    "source_test_label_accuracy, source_test_label_loss = jig.test(datasets.source.processed.test)\n",
    "target_test_label_accuracy, target_test_label_loss = jig.test(datasets.target.processed.test)\n",
    "\n",
    "source_val_label_accuracy, source_val_label_loss = jig.test(datasets.source.processed.val)\n",
    "target_val_label_accuracy, target_val_label_loss = jig.test(datasets.target.processed.val)\n",
    "\n",
    "history = jig.get_history()\n",
    "\n",
    "total_epochs_trained = len(history[\"epoch_indices\"])\n",
    "\n",
    "val_dl = Iterable_Aggregator((datasets.source.original.val,datasets.target.original.val))\n",
    "\n",
    "confusion = ptn_confusion_by_domain_over_dataloader(model, p.device, val_dl)\n",
    "per_domain_accuracy = per_domain_accuracy_from_confusion(confusion)\n",
    "\n",
    "# Add a key to per_domain_accuracy for if it was a source domain\n",
    "for domain, accuracy in per_domain_accuracy.items():\n",
    "    per_domain_accuracy[domain] = {\n",
    "        \"accuracy\": accuracy,\n",
    "        \"source?\": domain in p.domains_source\n",
    "    }\n",
    "\n",
    "# Do an independent accuracy assesment JUST TO BE SURE!\n",
    "# _source_test_label_accuracy = independent_accuracy_assesment(model, datasets.source.processed.test, p.device)\n",
    "# _target_test_label_accuracy = independent_accuracy_assesment(model, datasets.target.processed.test, p.device)\n",
    "# _source_val_label_accuracy = independent_accuracy_assesment(model, datasets.source.processed.val, p.device)\n",
    "# _target_val_label_accuracy = independent_accuracy_assesment(model, datasets.target.processed.val, p.device)\n",
    "\n",
    "# assert(_source_test_label_accuracy == source_test_label_accuracy)\n",
    "# assert(_target_test_label_accuracy == target_test_label_accuracy)\n",
    "# assert(_source_val_label_accuracy == source_val_label_accuracy)\n",
    "# assert(_target_val_label_accuracy == target_val_label_accuracy)\n",
    "\n",
    "experiment = {\n",
    "    \"experiment_name\": p.experiment_name,\n",
    "    \"parameters\": dict(p),\n",
    "    \"results\": {\n",
    "        \"source_test_label_accuracy\": source_test_label_accuracy,\n",
    "        \"source_test_label_loss\": source_test_label_loss,\n",
    "        \"target_test_label_accuracy\": target_test_label_accuracy,\n",
    "        \"target_test_label_loss\": target_test_label_loss,\n",
    "        \"source_val_label_accuracy\": source_val_label_accuracy,\n",
    "        \"source_val_label_loss\": source_val_label_loss,\n",
    "        \"target_val_label_accuracy\": target_val_label_accuracy,\n",
    "        \"target_val_label_loss\": target_val_label_loss,\n",
    "        \"total_epochs_trained\": total_epochs_trained,\n",
    "        \"total_experiment_time_secs\": total_experiment_time_secs,\n",
    "        \"confusion\": confusion,\n",
    "        \"per_domain_accuracy\": per_domain_accuracy,\n",
    "    },\n",
    "    \"history\": history,\n",
    "    \"dataset_metrics\": get_dataset_metrics(datasets, \"ptn\"),\n",
    "}"
   ]
  },
  {
   "cell_type": "code",
   "execution_count": 25,
   "id": "54a21829",
   "metadata": {
    "execution": {
     "iopub.execute_input": "2022-03-17T02:33:47.392840Z",
     "iopub.status.busy": "2022-03-17T02:33:47.392581Z",
     "iopub.status.idle": "2022-03-17T02:33:47.518347Z",
     "shell.execute_reply": "2022-03-17T02:33:47.518730Z"
    },
    "papermill": {
     "duration": 0.156071,
     "end_time": "2022-03-17T02:33:47.518855",
     "exception": false,
     "start_time": "2022-03-17T02:33:47.362784",
     "status": "completed"
    },
    "tags": []
   },
   "outputs": [
    {
     "data": {
      "image/png": "[encoded data removed]",
      "text/plain": [
       "<Figure size 1080x504 with 1 Axes>"
      ]
     },
     "metadata": {
      "needs_background": "light"
     },
     "output_type": "display_data"
    }
   ],
   "source": [
    "ax = get_loss_curve(experiment)\n",
    "plt.show()"
   ]
  },
  {
   "cell_type": "code",
   "execution_count": 26,
   "id": "fd8a0f60",
   "metadata": {
    "execution": {
     "iopub.execute_input": "2022-03-17T02:33:47.579991Z",
     "iopub.status.busy": "2022-03-17T02:33:47.579734Z",
     "iopub.status.idle": "2022-03-17T02:33:47.723854Z",
     "shell.execute_reply": "2022-03-17T02:33:47.724075Z"
    },
    "papermill": {
     "duration": 0.174507,
     "end_time": "2022-03-17T02:33:47.724152",
     "exception": false,
     "start_time": "2022-03-17T02:33:47.549645",
     "status": "completed"
    },
    "tags": []
   },
   "outputs": [
    {
     "data": {
      "text/plain": [
       "<AxesSubplot:title={'center':'Results'}>"
      ]
     },
     "execution_count": 26,
     "metadata": {},
     "output_type": "execute_result"
    },
    {
     "data": {
      "image/png": "[encoded data removed]",
      "text/plain": [
       "<Figure size 1080x504 with 1 Axes>"
      ]
     },
     "metadata": {
      "needs_background": "light"
     },
     "output_type": "display_data"
    }
   ],
   "source": [
    "get_results_table(experiment)"
   ]
  },
  {
   "cell_type": "code",
   "execution_count": 27,
   "id": "cf8dc689",
   "metadata": {
    "execution": {
     "iopub.execute_input": "2022-03-17T02:33:47.786386Z",
     "iopub.status.busy": "2022-03-17T02:33:47.786027Z",
     "iopub.status.idle": "2022-03-17T02:33:47.946270Z",
     "shell.execute_reply": "2022-03-17T02:33:47.945803Z"
    },
    "papermill": {
     "duration": 0.192203,
     "end_time": "2022-03-17T02:33:47.946369",
     "exception": false,
     "start_time": "2022-03-17T02:33:47.754166",
     "status": "completed"
    },
    "tags": []
   },
   "outputs": [
    {
     "data": {
      "text/plain": [
       "<AxesSubplot:title={'center':'Per Domain Validation Accuracy'}, xlabel='domain'>"
      ]
     },
     "execution_count": 27,
     "metadata": {},
     "output_type": "execute_result"
    },
    {
     "data": {
      "image/png": "[encoded data removed]",
      "text/plain": [
       "<Figure size 1080x504 with 1 Axes>"
      ]
     },
     "metadata": {
      "needs_background": "light"
     },
     "output_type": "display_data"
    }
   ],
   "source": [
    "get_domain_accuracies(experiment)"
   ]
  },
  {
   "cell_type": "code",
   "execution_count": 28,
   "id": "a74ae082",
   "metadata": {
    "execution": {
     "iopub.execute_input": "2022-03-17T02:33:48.014711Z",
     "iopub.status.busy": "2022-03-17T02:33:48.014448Z",
     "iopub.status.idle": "2022-03-17T02:33:48.027116Z",
     "shell.execute_reply": "2022-03-17T02:33:48.026664Z"
    },
    "papermill": {
     "duration": 0.045869,
     "end_time": "2022-03-17T02:33:48.027209",
     "exception": false,
     "start_time": "2022-03-17T02:33:47.981340",
     "status": "completed"
    },
    "tags": []
   },
   "outputs": [
    {
     "name": "stdout",
     "output_type": "stream",
     "text": [
      "Source Test Label Accuracy: 0.7936197916666666 Target Test Label Accuracy: 0.6289597602739726\n",
      "Source Val Label Accuracy: 0.789453125 Target Val Label Accuracy: 0.6413741438356164\n"
     ]
    }
   ],
   "source": [
    "print(\"Source Test Label Accuracy:\", experiment[\"results\"][\"source_test_label_accuracy\"], \"Target Test Label Accuracy:\", experiment[\"results\"][\"target_test_label_accuracy\"])\n",
    "print(\"Source Val Label Accuracy:\", experiment[\"results\"][\"source_val_label_accuracy\"], \"Target Val Label Accuracy:\", experiment[\"results\"][\"target_val_label_accuracy\"])"
   ]
  },
  {
   "cell_type": "code",
   "execution_count": 29,
   "id": "dacca602",
   "metadata": {
    "execution": {
     "iopub.execute_input": "2022-03-17T02:33:48.091458Z",
     "iopub.status.busy": "2022-03-17T02:33:48.091189Z",
     "iopub.status.idle": "2022-03-17T02:33:48.107974Z",
     "shell.execute_reply": "2022-03-17T02:33:48.108267Z"
    },
    "papermill": {
     "duration": 0.049155,
     "end_time": "2022-03-17T02:33:48.108353",
     "exception": false,
     "start_time": "2022-03-17T02:33:48.059198",
     "status": "completed"
    },
    "tags": [
     "experiment_json"
    ]
   },
   "outputs": [
    {
     "data": {
      "text/plain": [
       "'{\"experiment_name\": \"oracle.run1.framed -> cores+wisig\", \"parameters\": {\"experiment_name\": \"oracle.run1.framed -> cores+wisig\", \"device\": \"cuda\", \"lr\": 0.001, \"seed\": 1337, \"dataset_seed\": 1337, \"n_shot\": 3, \"n_query\": 2, \"train_k_factor\": 3, \"val_k_factor\": 2, \"test_k_factor\": 2, \"torch_default_dtype\": \"torch.float32\", \"n_epoch\": 50, \"patience\": 3, \"criteria_for_best\": \"target_loss\", \"x_net\": [{\"class\": \"nnReshape\", \"kargs\": {\"shape\": [-1, 1, 2, 256]}}, {\"class\": \"Conv2d\", \"kargs\": {\"in_channels\": 1, \"out_channels\": 256, \"kernel_size\": [1, 7], \"bias\": false, \"padding\": [0, 3]}}, {\"class\": \"ReLU\", \"kargs\": {\"inplace\": true}}, {\"class\": \"BatchNorm2d\", \"kargs\": {\"num_features\": 256}}, {\"class\": \"Conv2d\", \"kargs\": {\"in_channels\": 256, \"out_channels\": 80, \"kernel_size\": [2, 7], \"bias\": true, \"padding\": [0, 3]}}, {\"class\": \"ReLU\", \"kargs\": {\"inplace\": true}}, {\"class\": \"BatchNorm2d\", \"kargs\": {\"num_features\": 80}}, {\"class\": \"Flatten\", \"kargs\": {}}, {\"class\": \"Linear\", \"kargs\": {\"in_features\": 20480, \"out_features\": 256}}, {\"class\": \"ReLU\", \"kargs\": {\"inplace\": true}}, {\"class\": \"BatchNorm1d\", \"kargs\": {\"num_features\": 256}}, {\"class\": \"Linear\", \"kargs\": {\"in_features\": 256, \"out_features\": 256}}], \"NUM_LOGS_PER_EPOCH\": 10, \"BEST_MODEL_PATH\": \"./best_model.pth\", \"n_way\": 16, \"datasets\": [{\"labels\": [\"1-10.\", \"1-11.\", \"1-15.\", \"1-16.\", \"1-17.\", \"1-18.\", \"1-19.\", \"10-4.\", \"10-7.\", \"11-1.\", \"11-14.\", \"11-17.\", \"11-20.\", \"11-7.\", \"13-20.\", \"13-8.\", \"14-10.\", \"14-11.\", \"14-14.\", \"14-7.\", \"15-1.\", \"15-20.\", \"16-1.\", \"16-16.\", \"17-10.\", \"17-11.\", \"17-2.\", \"19-1.\", \"19-16.\", \"19-19.\", \"19-20.\", \"19-3.\", \"2-10.\", \"2-11.\", \"2-17.\", \"2-18.\", \"2-20.\", \"2-3.\", \"2-4.\", \"2-5.\", \"2-6.\", \"2-7.\", \"2-8.\", \"3-13.\", \"3-18.\", \"3-3.\", \"4-1.\", \"4-10.\", \"4-11.\", \"4-19.\", \"5-5.\", \"6-15.\", \"7-10.\", \"7-14.\", \"8-18.\", \"8-20.\", \"8-3.\", \"8-8.\"], \"domains\": [1, 2, 3, 4, 5], \"num_examples_per_domain_per_label\": 100, \"pickle_path\": \"/mnt/wd500GB/CSC500/csc500-main/datasets/cores.stratified_ds.2022A.pkl\", \"source_or_target_dataset\": \"target\", \"x_transforms\": [\"unit_mag\"], \"episode_transforms\": [], \"domain_prefix\": \"C_A_\"}, {\"labels\": [\"1-10\", \"1-12\", \"1-14\", \"1-16\", \"1-18\", \"1-19\", \"1-8\", \"10-11\", \"10-17\", \"10-4\", \"10-7\", \"11-1\", \"11-10\", \"11-19\", \"11-20\", \"11-4\", \"11-7\", \"12-19\", \"12-20\", \"12-7\", \"13-14\", \"13-18\", \"13-19\", \"13-20\", \"13-3\", \"13-7\", \"14-10\", \"14-11\", \"14-12\", \"14-13\", \"14-14\", \"14-19\", \"14-20\", \"14-7\", \"14-8\", \"14-9\", \"15-1\", \"15-19\", \"15-6\", \"16-1\", \"16-16\", \"16-19\", \"16-20\", \"17-10\", \"17-11\", \"18-1\", \"18-10\", \"18-11\", \"18-12\", \"18-13\", \"18-14\", \"18-15\", \"18-16\", \"18-17\", \"18-19\", \"18-2\", \"18-20\", \"18-4\", \"18-5\", \"18-7\", \"18-8\", \"18-9\", \"19-1\", \"19-10\", \"19-11\", \"19-12\", \"19-13\", \"19-14\", \"19-15\", \"19-19\", \"19-2\", \"19-20\", \"19-3\", \"19-4\", \"19-6\", \"19-7\", \"19-8\", \"19-9\", \"2-1\", \"2-13\", \"2-15\", \"2-3\", \"2-4\", \"2-5\", \"2-6\", \"2-7\", \"2-8\", \"20-1\", \"20-12\", \"20-14\", \"20-15\", \"20-16\", \"20-18\", \"20-19\", \"20-20\", \"20-3\", \"20-4\", \"20-5\", \"20-7\", \"20-8\", \"3-1\", \"3-13\", \"3-18\", \"3-2\", \"3-8\", \"4-1\", \"4-10\", \"4-11\", \"5-1\", \"5-5\", \"6-1\", \"6-15\", \"6-6\", \"7-10\", \"7-11\", \"7-12\", \"7-13\", \"7-14\", \"7-7\", \"7-8\", \"7-9\", \"8-1\", \"8-13\", \"8-14\", \"8-18\", \"8-20\", \"8-3\", \"8-8\", \"9-1\", \"9-7\"], \"domains\": [1, 2, 3, 4], \"num_examples_per_domain_per_label\": 100, \"pickle_path\": \"/mnt/wd500GB/CSC500/csc500-main/datasets/wisig.node3-19.stratified_ds.2022A.pkl\", \"source_or_target_dataset\": \"target\", \"x_transforms\": [\"unit_mag\"], \"episode_transforms\": [], \"domain_prefix\": \"W_A_\"}, {\"labels\": [\"3123D52\", \"3123D65\", \"3123D79\", \"3123D80\", \"3123D54\", \"3123D70\", \"3123D7B\", \"3123D89\", \"3123D58\", \"3123D76\", \"3123D7D\", \"3123EFE\", \"3123D64\", \"3123D78\", \"3123D7E\", \"3124E4A\"], \"domains\": [32, 38, 8, 44, 14, 50, 20, 26], \"num_examples_per_domain_per_label\": 2000, \"pickle_path\": \"/mnt/wd500GB/CSC500/csc500-main/datasets/oracle.Run1_framed_2000Examples_stratified_ds.2022A.pkl\", \"source_or_target_dataset\": \"source\", \"x_transforms\": [\"unit_mag\"], \"episode_transforms\": [], \"domain_prefix\": \"ORACLE.run1_\"}], \"domains_source\": [\"ORACLE.run1_32\", \"ORACLE.run1_38\", \"ORACLE.run1_8\", \"ORACLE.run1_44\", \"ORACLE.run1_14\", \"ORACLE.run1_50\", \"ORACLE.run1_20\", \"ORACLE.run1_26\"], \"domains_target\": [\"C_A_1\", \"C_A_2\", \"C_A_3\", \"C_A_4\", \"C_A_5\", \"W_A_1\", \"W_A_2\", \"W_A_3\", \"W_A_4\"]}, \"results\": {\"source_test_label_accuracy\": 0.7936197916666666, \"source_test_label_loss\": 0.5886701345443726, \"target_test_label_accuracy\": 0.6289597602739726, \"target_test_label_loss\": 88.23196411132812, \"source_val_label_accuracy\": 0.789453125, \"source_val_label_loss\": 0.5901463627815247, \"target_val_label_accuracy\": 0.6413741438356164, \"target_val_label_loss\": 51.585933685302734, \"total_epochs_trained\": 6, \"total_experiment_time_secs\": 1094.5974564552307, \"confusion\": {\"ORACLE.run1_14\": {\"15\": {\"15\": 240}, \"3\": {\"3\": 231, \"2\": 3, \"14\": 2, \"5\": 1, \"4\": 3}, \"6\": {\"6\": 167, \"13\": 70, \"2\": 2, \"14\": 1}, \"1\": {\"1\": 223, \"5\": 16, \"4\": 1}, \"8\": {\"8\": 240}, \"10\": {\"10\": 239, \"0\": 1}, \"9\": {\"9\": 240}, \"13\": {\"14\": 44, \"13\": 104, \"5\": 5, \"6\": 68, \"2\": 19}, \"12\": {\"12\": 240}, \"5\": {\"5\": 172, \"4\": 30, \"3\": 7, \"2\": 6, \"1\": 25}, \"0\": {\"0\": 236, \"3\": 4}, \"2\": {\"2\": 118, \"6\": 15, \"3\": 14, \"5\": 36, \"14\": 42, \"13\": 11, \"15\": 2, \"4\": 2}, \"11\": {\"11\": 234, \"9\": 5, \"0\": 1}, \"14\": {\"14\": 204, \"2\": 16, \"13\": 12, \"3\": 5, \"6\": 3}, \"7\": {\"7\": 240}, \"4\": {\"4\": 222, \"5\": 16, \"3\": 2}}, \"ORACLE.run1_20\": {\"3\": {\"12\": 45, \"3\": 130, \"4\": 8, \"9\": 42, \"2\": 11, \"1\": 1, \"7\": 3}, \"15\": {\"5\": 26, \"15\": 156, \"0\": 29, \"12\": 5, \"1\": 18, \"13\": 5, \"2\": 1}, \"8\": {\"8\": 221, \"4\": 11, \"7\": 8}, \"4\": {\"4\": 213, \"12\": 2, \"3\": 12, \"8\": 11, \"10\": 1, \"5\": 1}, \"14\": {\"6\": 16, \"14\": 220, \"10\": 2, \"8\": 2}, \"0\": {\"5\": 60, \"15\": 15, \"0\": 163, \"8\": 1, \"13\": 1}, \"7\": {\"7\": 207, \"8\": 6, \"9\": 8, \"2\": 19}, \"6\": {\"6\": 229, \"14\": 11}, \"10\": {\"10\": 236, \"14\": 4}, \"5\": {\"5\": 161, \"0\": 45, \"1\": 19, \"15\": 9, \"12\": 6}, \"2\": {\"2\": 141, \"9\": 63, \"13\": 6, \"3\": 8, \"7\": 15, \"1\": 2, \"12\": 5}, \"12\": {\"12\": 136, \"3\": 34, \"9\": 7, \"1\": 42, \"2\": 10, \"15\": 2, \"5\": 9}, \"9\": {\"9\": 159, \"2\": 46, \"3\": 23, \"7\": 1, \"12\": 11}, \"1\": {\"1\": 152, \"12\": 52, \"5\": 25, \"15\": 10, \"3\": 1}, \"11\": {\"11\": 240}, \"13\": {\"13\": 236, \"2\": 4}}, \"ORACLE.run1_38\": {\"5\": {\"8\": 43, \"5\": 126, \"7\": 24, \"0\": 5, \"15\": 13, \"1\": 2, \"6\": 21, \"9\": 3, \"3\": 1, \"13\": 1, \"10\": 1}, \"8\": {\"8\": 178, \"0\": 23, \"7\": 6, \"10\": 8, \"5\": 18, \"15\": 7}, \"11\": {\"11\": 176, \"14\": 58, \"4\": 3, \"0\": 1, \"10\": 2}, \"1\": {\"1\": 233, \"15\": 6, \"5\": 1}, \"10\": {\"10\": 206, \"8\": 11, \"7\": 2, \"13\": 11, \"5\": 2, \"15\": 3, \"14\": 2, \"2\": 1, \"11\": 2}, \"15\": {\"13\": 59, \"15\": 166, \"8\": 1, \"1\": 12, \"10\": 1, \"5\": 1}, \"3\": {\"3\": 223, \"9\": 8, \"0\": 2, \"6\": 4, \"7\": 3}, \"7\": {\"7\": 214, \"8\": 8, \"0\": 11, \"5\": 7}, \"4\": {\"4\": 237, \"12\": 3}, \"14\": {\"14\": 213, \"2\": 14, \"11\": 13}, \"9\": {\"9\": 169, \"6\": 69, \"3\": 1, \"5\": 1}, \"12\": {\"12\": 239, \"4\": 1}, \"6\": {\"6\": 207, \"9\": 32, \"5\": 1}, \"2\": {\"2\": 224, \"13\": 6, \"14\": 9, \"15\": 1}, \"0\": {\"8\": 78, \"0\": 109, \"7\": 23, \"3\": 15, \"13\": 3, \"15\": 1, \"12\": 1, \"6\": 2, \"5\": 6, \"1\": 1, \"10\": 1}, \"13\": {\"13\": 160, \"15\": 58, \"10\": 8, \"2\": 6, \"8\": 5, \"1\": 2, \"5\": 1}}, \"ORACLE.run1_8\": {\"9\": {\"9\": 240}, \"10\": {\"10\": 184, \"13\": 15, \"14\": 38, \"4\": 3}, \"13\": {\"13\": 94, \"14\": 19, \"0\": 53, \"6\": 6, \"4\": 48, \"10\": 20}, \"0\": {\"13\": 53, \"0\": 162, \"7\": 9, \"4\": 10, \"14\": 3, \"6\": 3}, \"1\": {\"1\": 219, \"10\": 1, \"11\": 17, \"14\": 2, \"5\": 1}, \"15\": {\"15\": 199, \"12\": 35, \"8\": 6}, \"5\": {\"5\": 219, \"10\": 11, \"1\": 8, \"14\": 2}, \"3\": {\"3\": 235, \"12\": 4, \"2\": 1}, \"6\": {\"6\": 172, \"0\": 2, \"7\": 46, \"4\": 14, \"13\": 6}, \"11\": {\"11\": 224, \"1\": 14, \"5\": 2}, \"8\": {\"8\": 232, \"15\": 8}, \"4\": {\"4\": 166, \"13\": 38, \"14\": 23, \"6\": 10, \"10\": 2, \"0\": 1}, \"12\": {\"12\": 141, \"15\": 72, \"8\": 6, \"3\": 18, \"2\": 3}, \"14\": {\"14\": 145, \"10\": 46, \"4\": 27, \"1\": 12, \"13\": 7, \"11\": 3}, \"2\": {\"15\": 5, \"2\": 217, \"3\": 12, \"7\": 5, \"12\": 1}, \"7\": {\"7\": 190, \"6\": 47, \"0\": 3}}, \"ORACLE.run1_50\": {\"7\": {\"7\": 177, \"13\": 47, \"5\": 4, \"10\": 12}, \"3\": {\"3\": 239, \"8\": 1}, \"8\": {\"8\": 237, \"3\": 1, \"10\": 2}, \"2\": {\"2\": 223, \"0\": 17}, \"14\": {\"14\": 239, \"12\": 1}, \"4\": {\"15\": 25, \"1\": 45, \"4\": 131, \"5\": 29, \"6\": 3, \"13\": 6, \"7\": 1}, \"6\": {\"6\": 222, \"13\": 9, \"4\": 2, \"15\": 1, \"1\": 5, \"5\": 1}, \"15\": {\"1\": 34, \"15\": 178, \"4\": 24, \"11\": 4}, \"10\": {\"10\": 232, \"0\": 4, \"8\": 2, \"13\": 2}, \"11\": {\"11\": 229, \"9\": 4, \"15\": 2, \"12\": 5}, \"13\": {\"13\": 172, \"7\": 36, \"5\": 16, \"6\": 12, \"10\": 3, \"0\": 1}, \"9\": {\"9\": 219, \"11\": 16, \"12\": 5}, \"0\": {\"2\": 15, \"10\": 10, \"0\": 215}, \"1\": {\"4\": 32, \"1\": 156, \"15\": 37, \"6\": 8, \"5\": 4, \"2\": 2, \"0\": 1}, \"12\": {\"12\": 235, \"14\": 1, \"9\": 4}, \"5\": {\"5\": 132, \"4\": 38, \"7\": 18, \"13\": 30, \"1\": 20, \"6\": 2}}, \"ORACLE.run1_32\": {\"8\": {\"8\": 215, \"13\": 9, \"0\": 13, \"3\": 2, \"5\": 1}, \"14\": {\"14\": 120, \"11\": 81, \"7\": 17, \"13\": 1, \"0\": 15, \"5\": 3, \"3\": 2, \"8\": 1}, \"2\": {\"2\": 206, \"4\": 32, \"7\": 2}, \"0\": {\"0\": 207, \"13\": 5, \"14\": 8, \"8\": 19, \"5\": 1}, \"1\": {\"1\": 238, \"10\": 2}, \"10\": {\"10\": 240}, \"11\": {\"11\": 170, \"14\": 60, \"5\": 3, \"7\": 6, \"3\": 1}, \"5\": {\"5\": 93, \"11\": 8, \"7\": 34, \"13\": 63, \"3\": 11, \"4\": 23, \"0\": 1, \"8\": 4, \"2\": 1, \"14\": 2}, \"15\": {\"15\": 240}, \"3\": {\"3\": 234, \"11\": 2, \"13\": 3, \"5\": 1}, \"12\": {\"12\": 240}, \"7\": {\"5\": 21, \"7\": 166, \"4\": 31, \"13\": 13, \"0\": 4, \"14\": 3, \"8\": 1, \"11\": 1}, \"13\": {\"13\": 120, \"5\": 65, \"7\": 25, \"3\": 9, \"11\": 2, \"14\": 2, \"4\": 9, \"8\": 7, \"0\": 1}, \"6\": {\"6\": 240}, \"4\": {\"4\": 186, \"2\": 31, \"7\": 17, \"5\": 6}, \"9\": {\"9\": 240}}, \"ORACLE.run1_26\": {\"4\": {\"14\": 53, \"4\": 131, \"0\": 20, \"1\": 9, \"10\": 5, \"8\": 14, \"7\": 8}, \"12\": {\"12\": 240}, \"10\": {\"0\": 66, \"10\": 109, \"15\": 1, \"8\": 41, \"14\": 13, \"4\": 2, \"6\": 5, \"9\": 3}, \"0\": {\"0\": 91, \"10\": 58, \"8\": 30, \"4\": 27, \"14\": 26, \"6\": 3, \"7\": 3, \"2\": 1, \"9\": 1}, \"13\": {\"13\": 157, \"5\": 49, \"15\": 22, \"2\": 3, \"9\": 9}, \"9\": {\"5\": 2, \"9\": 146, \"15\": 70, \"6\": 19, \"13\": 1, \"10\": 1, \"0\": 1}, \"3\": {\"3\": 174, \"2\": 47, \"8\": 1, \"7\": 18}, \"2\": {\"2\": 100, \"7\": 38, \"5\": 28, \"3\": 65, \"8\": 3, \"9\": 1, \"15\": 4, \"4\": 1}, \"5\": {\"2\": 8, \"5\": 188, \"15\": 14, \"13\": 19, \"8\": 5, \"7\": 3, \"9\": 2, \"3\": 1}, \"14\": {\"4\": 79, \"1\": 14, \"14\": 99, \"10\": 13, \"0\": 22, \"8\": 12, \"6\": 1}, \"8\": {\"8\": 124, \"7\": 21, \"0\": 22, \"9\": 3, \"10\": 37, \"4\": 19, \"5\": 3, \"14\": 2, \"15\": 7, \"2\": 2}, \"7\": {\"7\": 168, \"2\": 27, \"3\": 18, \"8\": 14, \"4\": 9, \"0\": 4}, \"6\": {\"6\": 207, \"8\": 1, \"0\": 1, \"9\": 23, \"15\": 6, \"10\": 2}, \"11\": {\"11\": 240}, \"15\": {\"15\": 136, \"9\": 66, \"5\": 10, \"13\": 9, \"8\": 10, \"2\": 2, \"0\": 3, \"10\": 2, \"6\": 2}, \"1\": {\"1\": 203, \"14\": 23, \"4\": 14}}, \"ORACLE.run1_44\": {\"12\": {\"12\": 188, \"1\": 39, \"10\": 13}, \"7\": {\"9\": 34, \"2\": 35, \"7\": 167, \"6\": 3, \"13\": 1}, \"5\": {\"5\": 206, \"14\": 8, \"0\": 14, \"15\": 8, \"8\": 4}, \"15\": {\"15\": 207, \"14\": 12, \"5\": 5, \"0\": 9, \"8\": 7}, \"8\": {\"0\": 85, \"8\": 148, \"5\": 2, \"15\": 5}, \"2\": {\"2\": 191, \"7\": 31, \"10\": 7, \"1\": 9, \"3\": 1, \"12\": 1}, \"13\": {\"13\": 157, \"9\": 37, \"6\": 41, \"7\": 2, \"4\": 1, \"11\": 2}, \"4\": {\"4\": 176, \"14\": 64}, \"0\": {\"0\": 153, \"8\": 69, \"5\": 13, \"15\": 5}, \"6\": {\"9\": 22, \"6\": 189, \"13\": 27, \"7\": 2}, \"9\": {\"13\": 32, \"9\": 154, \"7\": 38, \"6\": 15, \"2\": 1}, \"11\": {\"11\": 231, \"13\": 7, \"6\": 2}, \"10\": {\"1\": 11, \"10\": 189, \"12\": 28, \"2\": 12}, \"14\": {\"4\": 79, \"14\": 147, \"15\": 11, \"5\": 3}, \"1\": {\"3\": 17, \"1\": 145, \"10\": 10, \"12\": 59, \"2\": 9}, \"3\": {\"3\": 231, \"1\": 8, \"2\": 1}}, \"C_A_3\": {\"43\": {\"37\": 1, \"43\": 9, \"10\": 2}, \"9\": {\"9\": 11, \"46\": 1}, \"6\": {\"6\": 4, \"33\": 3, \"20\": 1, \"8\": 1, \"48\": 1}, \"3\": {\"3\": 8, \"9\": 1, \"52\": 1, \"33\": 1, \"30\": 1}, \"16\": {\"16\": 10, \"11\": 1, \"23\": 1}, \"51\": {\"51\": 11, \"20\": 1}, \"31\": {\"31\": 11, \"0\": 1}, \"46\": {\"46\": 6, \"33\": 1, \"36\": 1, \"50\": 2}, \"19\": {\"19\": 8}, \"8\": {\"8\": 7, \"6\": 1, \"53\": 3, \"20\": 1}, \"18\": {\"3\": 1, \"18\": 9, \"29\": 1, \"30\": 1}, \"37\": {\"37\": 12}, \"24\": {\"24\": 11, \"14\": 1}, \"10\": {\"31\": 1, \"43\": 2, \"10\": 9}, \"44\": {\"44\": 8, \"54\": 1, \"40\": 1}, \"14\": {\"24\": 1, \"14\": 3, \"22\": 1, \"56\": 1, \"57\": 2, \"5\": 2, \"13\": 2}, \"38\": {\"38\": 10}, \"53\": {\"53\": 6, \"6\": 2, \"32\": 2, \"27\": 1, \"8\": 1}, \"20\": {\"20\": 11, \"21\": 1}, \"32\": {\"32\": 11, \"53\": 1}, \"36\": {\"36\": 9, \"50\": 1}, \"33\": {\"33\": 8, \"30\": 2, \"41\": 1, \"48\": 1}, \"56\": {\"56\": 6, \"24\": 1, \"28\": 4, \"43\": 1}, \"23\": {\"23\": 8, \"57\": 1, \"5\": 1, \"47\": 2}, \"54\": {\"54\": 6, \"32\": 2, \"42\": 1, \"19\": 1}, \"34\": {\"34\": 10, \"1\": 2}, \"13\": {\"13\": 12}, \"2\": {\"2\": 12}, \"55\": {\"25\": 1, \"55\": 8, \"42\": 1}, \"21\": {\"21\": 9, \"17\": 1}, \"49\": {\"49\": 10}, \"25\": {\"46\": 2, \"25\": 4, \"41\": 1, \"33\": 1, \"30\": 2, \"48\": 2}, \"5\": {\"57\": 1, \"5\": 6, \"14\": 1, \"22\": 1, \"39\": 2, \"29\": 1}, \"50\": {\"50\": 6, \"54\": 1, \"6\": 1}, \"40\": {\"40\": 8, \"25\": 1, \"33\": 1, \"32\": 1, \"36\": 1}, \"57\": {\"57\": 5, \"15\": 1, \"23\": 1, \"39\": 1}, \"22\": {\"14\": 2, \"22\": 8}, \"1\": {\"1\": 8, \"5\": 1, \"34\": 1}, \"17\": {\"17\": 10, \"53\": 1, \"51\": 1}, \"41\": {\"41\": 5, \"33\": 1, \"48\": 3, \"9\": 1, \"30\": 1, \"25\": 1}, \"4\": {\"4\": 10}, \"7\": {\"7\": 8, \"15\": 1, \"1\": 1}, \"26\": {\"26\": 10}, \"29\": {\"29\": 12}, \"52\": {\"3\": 1, \"52\": 8, \"48\": 1, \"30\": 2}, \"15\": {\"15\": 9, \"7\": 1, \"11\": 2}, \"35\": {\"14\": 1, \"35\": 11}, \"42\": {\"42\": 7, \"9\": 2, \"41\": 2, \"19\": 1}, \"30\": {\"30\": 8, \"33\": 1, \"48\": 1}, \"27\": {\"27\": 7, \"33\": 1}, \"45\": {\"45\": 8, \"38\": 2}, \"0\": {\"0\": 10, \"28\": 1, \"31\": 1}, \"28\": {\"28\": 12}, \"47\": {\"47\": 9, \"26\": 2, \"16\": 1}, \"11\": {\"26\": 1, \"11\": 7, \"18\": 1, \"16\": 1}, \"39\": {\"39\": 10}, \"48\": {\"41\": 1, \"48\": 7, \"42\": 1, \"30\": 1, \"33\": 2}, \"12\": {\"12\": 8}}, \"C_A_4\": {\"35\": {\"35\": 10}, \"25\": {\"48\": 1, \"25\": 7, \"40\": 1, \"55\": 1, \"44\": 2}, \"24\": {\"0\": 1, \"13\": 1, \"24\": 8}, \"48\": {\"48\": 9, \"26\": 1, \"3\": 1, \"34\": 1}, \"51\": {\"51\": 7, \"6\": 1, \"8\": 1, \"21\": 2, \"20\": 1}, \"13\": {\"13\": 12}, \"14\": {\"14\": 3, \"24\": 1, \"35\": 1, \"13\": 1, \"2\": 2}, \"32\": {\"32\": 8, \"46\": 2, \"15\": 1, \"1\": 1}, \"30\": {\"51\": 1, \"30\": 8, \"21\": 3}, \"34\": {\"25\": 1, \"34\": 9}, \"9\": {\"9\": 11, \"30\": 1}, \"1\": {\"1\": 5, \"22\": 1, \"57\": 3, \"16\": 3}, \"0\": {\"0\": 12}, \"38\": {\"38\": 12}, \"22\": {\"14\": 1, \"1\": 1, \"22\": 4, \"49\": 1, \"46\": 1}, \"40\": {\"40\": 11, \"25\": 1}, \"39\": {\"39\": 9, \"5\": 1, \"11\": 1, \"54\": 1}, \"46\": {\"46\": 6, \"39\": 2, \"54\": 1, \"49\": 1, \"22\": 2}, \"36\": {\"36\": 12}, \"50\": {\"50\": 8, \"8\": 1, \"6\": 1, \"20\": 2}, \"49\": {\"49\": 11, \"56\": 1}, \"17\": {\"17\": 11, \"50\": 1}, \"45\": {\"50\": 3, \"45\": 5, \"46\": 1, \"6\": 1, \"21\": 2}, \"6\": {\"6\": 2, \"8\": 1, \"9\": 1, \"51\": 1, \"4\": 1, \"19\": 1, \"53\": 1, \"20\": 2, \"27\": 1, \"44\": 1}, \"8\": {\"8\": 10, \"20\": 1, \"6\": 1}, \"5\": {\"39\": 2, \"54\": 1, \"5\": 6, \"36\": 1}, \"33\": {\"33\": 8, \"54\": 1, \"27\": 1, \"5\": 2}, \"31\": {\"31\": 12}, \"37\": {\"37\": 10}, \"47\": {\"47\": 8}, \"15\": {\"15\": 7, \"54\": 1, \"47\": 2}, \"7\": {\"7\": 9, \"32\": 1, \"1\": 1, \"16\": 1}, \"20\": {\"20\": 11, \"50\": 1}, \"4\": {\"19\": 2, \"4\": 8, \"9\": 1, \"44\": 1}, \"54\": {\"54\": 9, \"47\": 1, \"18\": 1, \"33\": 1}, \"44\": {\"44\": 7, \"19\": 1, \"26\": 1, \"28\": 1, \"8\": 1, \"9\": 1}, \"3\": {\"3\": 8, \"26\": 1, \"44\": 1, \"48\": 2}, \"11\": {\"39\": 1, \"11\": 6, \"42\": 1, \"54\": 1, \"37\": 1}, \"27\": {\"27\": 6, \"4\": 1, \"48\": 1, \"50\": 1, \"17\": 1}, \"19\": {\"44\": 2, \"19\": 9, \"26\": 1}, \"55\": {\"55\": 8, \"19\": 1, \"3\": 1, \"4\": 1, \"25\": 1}, \"16\": {\"16\": 12}, \"2\": {\"2\": 10}, \"52\": {\"52\": 2, \"33\": 1, \"23\": 2, \"5\": 3, \"42\": 1, \"11\": 1}, \"42\": {\"16\": 1, \"42\": 8, \"5\": 1}, \"26\": {\"26\": 11, \"4\": 1}, \"10\": {\"7\": 1, \"10\": 5, \"41\": 3, \"43\": 2, \"16\": 1}, \"53\": {\"51\": 1, \"53\": 7, \"44\": 1, \"25\": 1}, \"28\": {\"28\": 10, \"48\": 1, \"4\": 1}, \"21\": {\"21\": 8, \"50\": 2}, \"57\": {\"46\": 1, \"57\": 7, \"49\": 1, \"1\": 1}, \"23\": {\"52\": 2, \"18\": 2, \"29\": 1, \"39\": 1, \"23\": 2}, \"43\": {\"43\": 9, \"10\": 1}, \"12\": {\"12\": 8, \"27\": 2, \"45\": 1, \"7\": 1}, \"41\": {\"43\": 2, \"41\": 9, \"46\": 1}, \"56\": {\"10\": 2, \"41\": 2, \"1\": 1, \"56\": 3}, \"18\": {\"18\": 7, \"28\": 1, \"29\": 1, \"25\": 1}, \"29\": {\"18\": 1, \"23\": 1, \"29\": 3, \"47\": 2, \"54\": 1}}, \"C_A_5\": {\"47\": {\"47\": 4, \"33\": 1, \"52\": 4, \"16\": 1}, \"53\": {\"53\": 10, \"1\": 1, \"27\": 1}, \"29\": {\"29\": 8, \"57\": 1, \"46\": 1, \"41\": 2}, \"52\": {\"52\": 8, \"47\": 1, \"16\": 1, \"39\": 2}, \"55\": {\"4\": 1, \"55\": 8, \"45\": 1, \"6\": 2}, \"17\": {\"17\": 9, \"30\": 2, \"55\": 1}, \"42\": {\"42\": 11, \"28\": 1}, \"33\": {\"33\": 9, \"40\": 1}, \"11\": {\"11\": 8, \"39\": 3, \"23\": 1}, \"19\": {\"19\": 8}, \"1\": {\"53\": 1, \"1\": 8, \"8\": 3}, \"44\": {\"44\": 11, \"33\": 1}, \"49\": {\"47\": 1, \"49\": 9, \"39\": 1, \"52\": 1}, \"4\": {\"4\": 11, \"30\": 1}, \"6\": {\"6\": 2, \"17\": 1, \"7\": 1, \"9\": 1, \"4\": 1, \"55\": 1, \"30\": 1, \"20\": 2, \"45\": 1, \"26\": 1}, \"39\": {\"39\": 8, \"11\": 3, \"40\": 1}, \"13\": {\"13\": 12}, \"5\": {\"5\": 6, \"25\": 2, \"50\": 2}, \"16\": {\"22\": 1, \"16\": 4, \"57\": 1, \"15\": 2, \"46\": 1, \"43\": 1}, \"25\": {\"25\": 6, \"18\": 4, \"50\": 1, \"5\": 1}, \"45\": {\"4\": 2, \"45\": 3, \"17\": 1, \"30\": 4, \"48\": 1, \"9\": 1}, \"7\": {\"7\": 10}, \"22\": {\"22\": 8, \"15\": 1, \"34\": 1, \"40\": 1, \"29\": 1}, \"40\": {\"40\": 8, \"33\": 1, \"44\": 1, \"41\": 1, \"29\": 1}, \"38\": {\"38\": 11, \"7\": 1}, \"35\": {\"35\": 8}, \"56\": {\"56\": 11, \"31\": 1}, \"50\": {\"50\": 4, \"1\": 1, \"5\": 2, \"19\": 1, \"21\": 1, \"25\": 1}, \"0\": {\"0\": 12}, \"10\": {\"10\": 9, \"56\": 1, \"31\": 1, \"13\": 1}, \"27\": {\"27\": 10, \"8\": 1, \"32\": 1}, \"20\": {\"20\": 9, \"51\": 1}, \"36\": {\"36\": 6, \"10\": 1, \"14\": 1}, \"34\": {\"34\": 12}, \"30\": {\"30\": 11, \"45\": 1}, \"2\": {\"2\": 4, \"22\": 1, \"3\": 1, \"39\": 2, \"47\": 1, \"16\": 1}, \"15\": {\"29\": 1, \"15\": 9, \"43\": 2}, \"18\": {\"18\": 8, \"23\": 1, \"33\": 2, \"50\": 1}, \"32\": {\"32\": 12}, \"31\": {\"31\": 11, \"37\": 1}, \"57\": {\"57\": 8, \"15\": 2, \"14\": 2}, \"48\": {\"48\": 8}, \"28\": {\"28\": 8, \"42\": 2}, \"14\": {\"28\": 2, \"14\": 4, \"41\": 3, \"39\": 1, \"49\": 1, \"46\": 1}, \"3\": {\"14\": 1, \"16\": 1, \"3\": 7, \"49\": 1, \"57\": 1, \"41\": 1}, \"8\": {\"8\": 6, \"25\": 1, \"20\": 2, \"1\": 3}, \"9\": {\"9\": 6, \"48\": 1, \"32\": 5}, \"21\": {\"50\": 2, \"21\": 8}, \"41\": {\"41\": 11, \"33\": 1}, \"24\": {\"24\": 11, \"0\": 1}, \"46\": {\"46\": 7, \"14\": 2, \"42\": 1}, \"43\": {\"43\": 10}, \"54\": {\"54\": 7, \"40\": 1, \"2\": 1, \"33\": 1}, \"23\": {\"23\": 8, \"18\": 1, \"49\": 1}, \"37\": {\"37\": 10}, \"12\": {\"12\": 9, \"38\": 1}, \"26\": {\"26\": 9, \"6\": 1}, \"51\": {\"51\": 6}}, \"W_A_3\": {\"109\": {\"84\": 1, \"109\": 7, \"89\": 1, \"20\": 1, \"82\": 1, \"48\": 1}, \"127\": {\"57\": 1, \"127\": 11}, \"14\": {\"14\": 7, \"49\": 1, \"115\": 2, \"88\": 1, \"20\": 1}, \"7\": {\"7\": 12}, \"129\": {\"129\": 7, \"20\": 1, \"49\": 1, \"108\": 1, \"42\": 1, \"82\": 1}, \"57\": {\"57\": 12}, \"84\": {\"44\": 3, \"84\": 4, \"29\": 1, \"7\": 1, \"34\": 1, \"49\": 1, \"53\": 1}, \"114\": {\"129\": 1, \"114\": 5, \"49\": 1, \"70\": 1, \"40\": 1, \"85\": 1, \"1\": 2}, \"44\": {\"44\": 8, \"109\": 1, \"102\": 1, \"29\": 1, \"80\": 1}, \"21\": {\"109\": 2, \"21\": 4, \"97\": 1, \"2\": 1, \"33\": 2, \"62\": 2}, \"46\": {\"46\": 8, \"5\": 2, \"85\": 1, \"28\": 1}, \"100\": {\"100\": 6, \"107\": 2, \"53\": 2, \"49\": 1, \"62\": 1}, \"63\": {\"63\": 5, \"7\": 1, \"119\": 1, \"27\": 1, \"13\": 2, \"2\": 1, \"75\": 1}, \"24\": {\"24\": 3, \"21\": 1, \"94\": 1, \"101\": 1, \"106\": 2, \"15\": 1, \"41\": 1, \"66\": 2}, \"107\": {\"14\": 2, \"45\": 1, \"107\": 9}, \"35\": {\"84\": 1, \"35\": 3, \"111\": 1, \"65\": 1, \"72\": 2, \"37\": 1, \"114\": 1}, \"81\": {\"2\": 1, \"81\": 9, \"119\": 1, \"109\": 1}, \"64\": {\"64\": 11, \"26\": 1}, \"59\": {\"36\": 1, \"77\": 1, \"59\": 5, \"30\": 1, \"73\": 1, \"111\": 2, \"0\": 1}, \"33\": {\"80\": 3, \"33\": 5, \"79\": 1, \"69\": 1, \"116\": 2}, \"34\": {\"34\": 3, \"77\": 1, \"15\": 1, \"60\": 2, \"68\": 2, \"58\": 1, \"6\": 2}, \"36\": {\"36\": 6, \"106\": 2, \"58\": 2, \"52\": 1, \"25\": 1}, \"79\": {\"79\": 7, \"45\": 1, \"20\": 2, \"100\": 2}, \"80\": {\"80\": 11, \"31\": 1}, \"77\": {\"77\": 11, \"91\": 1}, \"22\": {\"22\": 7, \"87\": 1, \"46\": 1, \"5\": 1, \"104\": 2}, \"124\": {\"57\": 3, \"124\": 8, \"12\": 1}, \"2\": {\"2\": 12}, \"87\": {\"87\": 7, \"18\": 1, \"49\": 1, \"90\": 1, \"107\": 1, \"1\": 1}, \"105\": {\"105\": 10, \"74\": 1, \"19\": 1}, \"95\": {\"126\": 1, \"95\": 9, \"35\": 2}, \"43\": {\"43\": 6, \"79\": 1, \"92\": 1, \"102\": 2, \"80\": 1, \"11\": 1}, \"56\": {\"56\": 6, \"104\": 1, \"9\": 1, \"98\": 2}, \"18\": {\"18\": 7, \"121\": 1, \"67\": 1, \"93\": 1, \"63\": 2}, \"85\": {\"46\": 1, \"85\": 9, \"114\": 1, \"88\": 1}, \"113\": {\"21\": 2, \"13\": 2, \"96\": 4, \"113\": 2, \"11\": 2}, \"97\": {\"97\": 10, \"94\": 2}, \"86\": {\"86\": 10, \"71\": 1, \"74\": 1}, \"128\": {\"110\": 2, \"128\": 2, \"122\": 1, \"103\": 1, \"124\": 1, \"1\": 1, \"70\": 1, \"4\": 1, \"32\": 1, \"28\": 1}, \"123\": {\"126\": 1, \"21\": 1, \"121\": 2, \"123\": 3, \"81\": 1, \"26\": 1, \"117\": 1, \"7\": 1, \"63\": 1}, \"8\": {\"8\": 9, \"52\": 1, \"12\": 1, \"42\": 1}, \"110\": {\"110\": 9, \"71\": 1, \"85\": 1, \"122\": 1}, \"126\": {\"123\": 1, \"43\": 1, \"117\": 2, \"126\": 3, \"121\": 2, \"67\": 1, \"23\": 1, \"21\": 1}, \"101\": {\"101\": 10, \"59\": 1, \"106\": 1}, \"115\": {\"49\": 2, \"115\": 7, \"1\": 1, \"14\": 2}, \"49\": {\"84\": 1, \"44\": 1, \"73\": 1, \"17\": 1, \"34\": 2, \"57\": 1, \"12\": 1, \"49\": 2, \"48\": 1, \"91\": 1}, \"45\": {\"45\": 12}, \"78\": {\"78\": 3, \"43\": 1, \"116\": 1, \"121\": 1, \"13\": 1, \"40\": 1, \"50\": 2, \"76\": 2}, \"65\": {\"65\": 3, \"10\": 2, \"35\": 2, \"125\": 2, \"109\": 1}, \"54\": {\"97\": 2, \"54\": 6, \"25\": 2, \"112\": 1, \"75\": 1}, \"31\": {\"31\": 7, \"78\": 1, \"102\": 1, \"90\": 1}, \"42\": {\"114\": 1, \"68\": 1, \"24\": 1, \"36\": 1, \"10\": 1, \"3\": 1, \"30\": 1, \"42\": 1, \"73\": 1, \"103\": 1, \"97\": 1, \"94\": 1}, \"68\": {\"68\": 8, \"125\": 1, \"34\": 1, \"91\": 1, \"35\": 1}, \"15\": {\"15\": 10, \"58\": 2}, \"69\": {\"69\": 10, \"116\": 2}, \"17\": {\"121\": 1, \"34\": 1, \"11\": 1, \"9\": 1, \"73\": 1, \"106\": 1, \"52\": 2, \"116\": 1, \"12\": 1}, \"73\": {\"73\": 10, \"77\": 1, \"124\": 1}, \"121\": {\"121\": 12}, \"102\": {\"102\": 12}, \"48\": {\"121\": 2, \"64\": 2, \"73\": 1, \"95\": 1, \"48\": 1, \"77\": 2, \"65\": 1, \"33\": 1, \"27\": 1}, \"23\": {\"121\": 2, \"55\": 2, \"124\": 1, \"63\": 1, \"91\": 1, \"9\": 1, \"23\": 1, \"67\": 1, \"25\": 2}, \"108\": {\"108\": 7, \"42\": 2, \"86\": 1, \"105\": 1, \"122\": 1}, \"53\": {\"53\": 8, \"48\": 1, \"60\": 1, \"76\": 1, \"11\": 1}, \"94\": {\"15\": 2, \"101\": 1, \"54\": 1, \"94\": 4, \"97\": 2}, \"41\": {\"41\": 9, \"98\": 1, \"8\": 1, \"57\": 1}, \"58\": {\"58\": 12}, \"29\": {\"29\": 8, \"84\": 1, \"78\": 1, \"82\": 1, \"44\": 1}, \"116\": {\"116\": 6, \"82\": 1, \"44\": 2, \"69\": 1, \"33\": 1, \"31\": 1}, \"60\": {\"78\": 2, \"60\": 3, \"16\": 1, \"53\": 1, \"122\": 1, \"28\": 1, \"32\": 1, \"62\": 1, \"107\": 1}, \"104\": {\"104\": 8, \"9\": 3, \"56\": 1}, \"106\": {\"106\": 9, \"91\": 1, \"101\": 2}, \"66\": {\"47\": 1, \"66\": 9, \"83\": 1, \"124\": 1}, \"47\": {\"66\": 1, \"47\": 7, \"127\": 1, \"83\": 2, \"98\": 1}, \"40\": {\"40\": 6, \"60\": 1, \"129\": 2, \"62\": 1, \"50\": 2}, \"82\": {\"82\": 9, \"29\": 1, \"103\": 1, \"48\": 1}, \"13\": {\"11\": 3, \"127\": 1, \"13\": 2, \"90\": 1, \"79\": 1, \"26\": 1, \"105\": 1, \"100\": 1, \"113\": 1}, \"19\": {\"9\": 1, \"19\": 1, \"115\": 3, \"105\": 1, \"107\": 1, \"28\": 2, \"86\": 1, \"49\": 1, \"8\": 1}, \"72\": {\"72\": 5, \"125\": 1, \"30\": 1, \"91\": 1, \"68\": 1, \"35\": 3}, \"9\": {\"9\": 10, \"12\": 1, \"127\": 1}, \"67\": {\"11\": 2, \"67\": 9, \"117\": 1}, \"11\": {\"11\": 9, \"102\": 1, \"82\": 1, \"88\": 1}, \"125\": {\"125\": 9, \"101\": 1, \"75\": 1, \"73\": 1}, \"76\": {\"78\": 1, \"76\": 5, \"100\": 1, \"53\": 1}, \"83\": {\"83\": 12}, \"74\": {\"74\": 9, \"54\": 1, \"127\": 2}, \"20\": {\"20\": 11, \"79\": 1}, \"119\": {\"102\": 1, \"119\": 6, \"117\": 1, \"92\": 2, \"64\": 2}, \"1\": {\"129\": 2, \"28\": 1, \"1\": 7, \"107\": 1, \"114\": 1}, \"16\": {\"16\": 11, \"100\": 1}, \"25\": {\"25\": 9, \"37\": 1, \"101\": 1, \"59\": 1}, \"90\": {\"90\": 4, \"31\": 1, \"20\": 1, \"17\": 2}, \"39\": {\"2\": 2, \"67\": 4, \"26\": 2, \"39\": 3, \"21\": 1}, \"28\": {\"28\": 8, \"103\": 2, \"50\": 2}, \"55\": {\"55\": 9, \"127\": 3}, \"117\": {\"117\": 7, \"4\": 1, \"124\": 1, \"2\": 2, \"33\": 1}, \"112\": {\"112\": 6, \"99\": 2, \"128\": 1, \"19\": 2, \"55\": 1}, \"38\": {\"38\": 3, \"112\": 1, \"74\": 1, \"105\": 3, \"22\": 1, \"19\": 1, \"55\": 1, \"4\": 1}, \"37\": {\"25\": 2, \"37\": 8, \"51\": 2}, \"120\": {\"120\": 8, \"80\": 2, \"13\": 1, \"102\": 1}, \"122\": {\"50\": 1, \"110\": 3, \"122\": 1, \"99\": 1, \"71\": 2, \"5\": 2, \"108\": 2}, \"50\": {\"50\": 6, \"122\": 1, \"114\": 1, \"65\": 2, \"28\": 2}, \"10\": {\"51\": 2, \"10\": 5, \"95\": 1, \"111\": 1, \"58\": 2, \"104\": 1}, \"5\": {\"5\": 6, \"110\": 2, \"85\": 2, \"112\": 1, \"3\": 1}, \"51\": {\"51\": 10, \"101\": 1, \"35\": 1}, \"3\": {\"98\": 1, \"95\": 1, \"3\": 7, \"4\": 1, \"51\": 1, \"5\": 1}, \"98\": {\"34\": 2, \"98\": 8, \"47\": 1, \"60\": 1}, \"70\": {\"60\": 1, \"22\": 1, \"109\": 2, \"47\": 1, \"70\": 1, \"107\": 1, \"128\": 1, \"76\": 2, \"74\": 1, \"14\": 1}, \"96\": {\"96\": 8, \"61\": 2, \"119\": 1, \"113\": 1}, \"12\": {\"12\": 8, \"52\": 1, \"9\": 1, \"57\": 1, \"124\": 1}, \"99\": {\"128\": 2, \"99\": 7, \"86\": 2, \"42\": 1}, \"52\": {\"12\": 2, \"52\": 8, \"66\": 1, \"98\": 1}, \"71\": {\"71\": 4, \"58\": 1, \"103\": 1, \"96\": 1, \"66\": 1, \"104\": 1, \"38\": 1, \"3\": 2}, \"89\": {\"89\": 10, \"93\": 1, \"31\": 1}, \"0\": {\"0\": 9, \"68\": 1, \"15\": 2}, \"4\": {\"70\": 1, \"4\": 6, \"47\": 1, \"99\": 1, \"10\": 1, \"15\": 1, \"23\": 1}, \"93\": {\"93\": 11, \"92\": 1}, \"6\": {\"27\": 2, \"6\": 4, \"37\": 2, \"58\": 1, \"34\": 1}, \"75\": {\"6\": 1, \"75\": 9, \"51\": 1, \"73\": 1}, \"62\": {\"62\": 11, \"103\": 1}, \"103\": {\"103\": 9, \"19\": 1, \"88\": 1, \"5\": 1}, \"30\": {\"91\": 3, \"27\": 1, \"36\": 1, \"59\": 1, \"30\": 4, \"77\": 1, \"97\": 1}, \"91\": {\"30\": 1, \"9\": 1, \"111\": 2, \"19\": 1, \"91\": 5, \"77\": 2}, \"27\": {\"30\": 2, \"27\": 3, \"97\": 1, \"111\": 1, \"6\": 2, \"24\": 1, \"83\": 1, \"72\": 1}, \"26\": {\"26\": 11, \"118\": 1}, \"61\": {\"119\": 1, \"61\": 7, \"102\": 2, \"121\": 1, \"23\": 1}, \"118\": {\"120\": 3, \"93\": 1, \"118\": 5, \"64\": 1, \"92\": 2}, \"92\": {\"93\": 2, \"89\": 1, \"92\": 5, \"116\": 1, \"102\": 1, \"120\": 2}, \"111\": {\"111\": 11, \"10\": 1}, \"32\": {\"32\": 4, \"84\": 1, \"3\": 1, \"88\": 2, \"4\": 2, \"46\": 1, \"29\": 1}, \"88\": {\"85\": 1, \"88\": 3, \"118\": 1, \"93\": 2, \"67\": 1, \"109\": 2}}, \"C_A_1\": {\"46\": {\"46\": 9, \"50\": 2, \"48\": 1}, \"16\": {\"16\": 8, \"26\": 2, \"28\": 2}, \"26\": {\"3\": 2, \"26\": 10}, \"10\": {\"10\": 5, \"33\": 2, \"0\": 3, \"22\": 1, \"24\": 1}, \"9\": {\"9\": 10}, \"28\": {\"28\": 7, \"47\": 1, \"36\": 1, \"37\": 1, \"11\": 1, \"54\": 1}, \"51\": {\"51\": 9, \"8\": 1, \"41\": 1, \"40\": 1}, \"1\": {\"1\": 6, \"42\": 1, \"56\": 2, \"57\": 3}, \"55\": {\"55\": 10, \"16\": 1, \"3\": 1}, \"27\": {\"27\": 9, \"43\": 1}, \"22\": {\"22\": 9, \"21\": 1, \"23\": 1, \"34\": 1}, \"52\": {\"47\": 1, \"52\": 8, \"15\": 1, \"28\": 2}, \"3\": {\"3\": 9, \"26\": 1, \"16\": 2}, \"33\": {\"33\": 8}, \"47\": {\"47\": 9, \"11\": 1, \"16\": 2}, \"42\": {\"42\": 10, \"57\": 2}, \"12\": {\"12\": 4}, \"23\": {\"49\": 2, \"23\": 8, \"10\": 1, \"15\": 1}, \"49\": {\"49\": 9, \"39\": 1}, \"7\": {\"7\": 11, \"40\": 1}, \"4\": {\"4\": 11, \"50\": 1}, \"50\": {\"50\": 10, \"46\": 2}, \"19\": {\"19\": 7, \"57\": 1, \"25\": 1, \"14\": 1, \"1\": 1, \"29\": 1}, \"11\": {\"28\": 1, \"11\": 7, \"36\": 2, \"54\": 2}, \"31\": {\"31\": 10}, \"41\": {\"41\": 9, \"51\": 3}, \"56\": {\"56\": 3, \"42\": 1, \"19\": 1, \"1\": 2, \"18\": 1, \"45\": 2}, \"0\": {\"0\": 12}, \"57\": {\"42\": 1, \"56\": 1, \"18\": 2, \"1\": 2, \"25\": 1, \"57\": 5}, \"53\": {\"53\": 9, \"8\": 2, \"51\": 1}, \"43\": {\"43\": 12}, \"37\": {\"37\": 12}, \"2\": {\"46\": 1, \"2\": 7}, \"6\": {\"6\": 6, \"2\": 1, \"17\": 1, \"5\": 1, \"48\": 3}, \"18\": {\"18\": 7, \"29\": 1, \"25\": 1, \"1\": 3}, \"38\": {\"38\": 11, \"52\": 1}, \"15\": {\"15\": 7, \"11\": 2, \"36\": 1, \"38\": 1, \"0\": 1}, \"36\": {\"36\": 10, \"11\": 2}, \"39\": {\"39\": 8}, \"44\": {\"44\": 10, \"32\": 1, \"37\": 1}, \"8\": {\"8\": 9, \"53\": 2, \"14\": 1}, \"17\": {\"17\": 10}, \"5\": {\"5\": 12}, \"13\": {\"13\": 10}, \"40\": {\"17\": 1, \"40\": 9}, \"29\": {\"29\": 8, \"25\": 1, \"19\": 1, \"42\": 1, \"9\": 1}, \"48\": {\"48\": 8, \"6\": 2, \"46\": 1, \"2\": 1}, \"32\": {\"32\": 5, \"35\": 3, \"44\": 3, \"36\": 1}, \"30\": {\"29\": 2, \"30\": 6, \"14\": 2, \"19\": 2}, \"35\": {\"35\": 11, \"32\": 1}, \"25\": {\"25\": 7, \"18\": 2, \"29\": 1, \"19\": 1, \"57\": 1}, \"14\": {\"14\": 4, \"53\": 1, \"51\": 2, \"41\": 2, \"8\": 2, \"30\": 1}, \"54\": {\"54\": 10}, \"20\": {\"20\": 8}, \"21\": {\"21\": 10}, \"45\": {\"45\": 7, \"25\": 1}, \"24\": {\"21\": 2, \"24\": 4, \"22\": 2}, \"34\": {\"34\": 7, \"24\": 1}}, \"W_A_4\": {\"28\": {\"28\": 8, \"1\": 1, \"14\": 1, \"83\": 1, \"122\": 1}, \"4\": {\"4\": 8, \"98\": 2, \"82\": 1, \"41\": 1}, \"72\": {\"31\": 2, \"122\": 1, \"72\": 6, \"49\": 1, \"46\": 1, \"110\": 1}, \"111\": {\"111\": 8, \"12\": 3, \"86\": 1}, \"108\": {\"45\": 2, \"122\": 2, \"108\": 5, \"64\": 1, \"109\": 2}, \"43\": {\"43\": 6, \"72\": 1, \"107\": 1, \"118\": 1, \"99\": 1}, \"96\": {\"90\": 2, \"96\": 7, \"38\": 1, \"11\": 1, \"84\": 1}, \"89\": {\"89\": 7, \"4\": 1, \"82\": 1, \"85\": 2, \"49\": 1}, \"31\": {\"72\": 2, \"31\": 9, \"50\": 1}, \"45\": {\"43\": 2, \"45\": 10}, \"2\": {\"2\": 11, \"80\": 1}, \"114\": {\"14\": 1, \"114\": 6, \"40\": 2, \"19\": 1, \"1\": 2}, \"11\": {\"45\": 1, \"90\": 1, \"11\": 4, \"88\": 1, \"57\": 1, \"84\": 1, \"102\": 2, \"109\": 1}, \"12\": {\"111\": 2, \"12\": 5, \"91\": 3, \"101\": 1, \"29\": 1}, \"14\": {\"14\": 8, \"28\": 1, \"3\": 1, \"100\": 1, \"129\": 1}, \"90\": {\"90\": 8, \"84\": 2, \"66\": 1, \"44\": 1}, \"10\": {\"85\": 1, \"58\": 2, \"52\": 1, \"24\": 1, \"10\": 4, \"27\": 1, \"104\": 2}, \"63\": {\"85\": 1, \"63\": 4, \"35\": 2, \"16\": 2, \"70\": 1, \"21\": 2}, \"85\": {\"85\": 7, \"0\": 1, \"17\": 1, \"76\": 1, \"111\": 1, \"89\": 1}, \"64\": {\"64\": 10, \"19\": 1, \"98\": 1}, \"82\": {\"82\": 9, \"48\": 1, \"2\": 1, \"85\": 1}, \"58\": {\"58\": 12}, \"3\": {\"64\": 1, \"3\": 9, \"129\": 1, \"100\": 1}, \"54\": {\"54\": 7, \"15\": 3, \"10\": 1, \"24\": 1}, \"121\": {\"121\": 8, \"67\": 2, \"2\": 2}, \"42\": {\"91\": 2, \"37\": 1, \"98\": 1, \"0\": 2, \"8\": 1, \"72\": 1, \"53\": 1, \"106\": 1, \"28\": 1, \"120\": 1}, \"98\": {\"98\": 4, \"4\": 1, \"17\": 2, \"124\": 2, \"27\": 1, \"41\": 2}, \"123\": {\"123\": 9, \"16\": 1, \"121\": 1, \"24\": 1}, \"91\": {\"12\": 3, \"58\": 1, \"91\": 4, \"37\": 1, \"101\": 2, \"9\": 1}, \"66\": {\"66\": 8, \"102\": 1, \"90\": 1, \"44\": 2}, \"102\": {\"102\": 10, \"74\": 2}, \"122\": {\"122\": 5, \"118\": 2, \"92\": 2, \"72\": 1, \"51\": 1, \"99\": 1}, \"1\": {\"1\": 6, \"3\": 1, \"114\": 3, \"87\": 1, \"40\": 1}, \"15\": {\"15\": 10, \"9\": 1, \"25\": 1}, \"97\": {\"68\": 1, \"125\": 1, \"15\": 2, \"9\": 1, \"97\": 4, \"115\": 1, \"52\": 1, \"8\": 1}, \"75\": {\"75\": 8, \"29\": 1, \"58\": 2, \"8\": 1}, \"95\": {\"68\": 2, \"95\": 7, \"85\": 1, \"86\": 1, \"8\": 1}, \"57\": {\"102\": 2, \"57\": 8, \"109\": 2}, \"68\": {\"68\": 5, \"125\": 1, \"53\": 1, \"91\": 1, \"37\": 1, \"103\": 2, \"77\": 1}, \"125\": {\"125\": 8, \"68\": 1, \"101\": 2, \"47\": 1}, \"62\": {\"62\": 8, \"1\": 1, \"105\": 1}, \"27\": {\"120\": 3, \"37\": 2, \"21\": 1, \"27\": 3, \"12\": 1, \"124\": 1, \"113\": 1}, \"120\": {\"120\": 8, \"27\": 1, \"23\": 1, \"42\": 1, \"41\": 1}, \"26\": {\"63\": 2, \"26\": 3, \"117\": 1, \"35\": 1, \"65\": 2, \"113\": 2, \"11\": 1}, \"55\": {\"55\": 10, \"37\": 1, \"12\": 1}, \"71\": {\"22\": 2, \"71\": 4, \"14\": 1, \"35\": 1, \"124\": 2, \"42\": 2}, \"22\": {\"22\": 11, \"1\": 1}, \"99\": {\"99\": 8, \"28\": 2, \"21\": 1, \"107\": 1}, \"84\": {\"84\": 5, \"18\": 1, \"90\": 1, \"67\": 2, \"92\": 1, \"25\": 1, \"96\": 1}, \"37\": {\"37\": 9, \"53\": 3}, \"83\": {\"83\": 4, \"19\": 1, \"45\": 1, \"118\": 1, \"110\": 1, \"115\": 1, \"79\": 2, \"73\": 1}, \"46\": {\"46\": 8, \"119\": 1, \"40\": 2, \"28\": 1}, \"35\": {\"35\": 8, \"117\": 1, \"78\": 1, \"65\": 2}, \"13\": {\"13\": 12}, \"53\": {\"53\": 8, \"117\": 2, \"86\": 1, \"8\": 1}, \"127\": {\"0\": 2, \"68\": 1, \"127\": 6, \"111\": 1, \"51\": 2}, \"69\": {\"48\": 1, \"69\": 10, \"35\": 1}, \"48\": {\"48\": 5, \"44\": 2, \"121\": 2, \"2\": 2, \"59\": 1}, \"16\": {\"16\": 11, \"44\": 1}, \"0\": {\"0\": 4, \"56\": 2, \"77\": 2, \"55\": 1, \"129\": 1, \"86\": 2}, \"8\": {\"53\": 1, \"48\": 1, \"8\": 7, \"101\": 1, \"37\": 1, \"61\": 1}, \"9\": {\"9\": 8, \"34\": 2, \"77\": 2}, \"115\": {\"115\": 6, \"119\": 2, \"83\": 1, \"105\": 1, \"72\": 1, \"64\": 1}, \"70\": {\"120\": 1, \"115\": 1, \"69\": 1, \"19\": 1, \"76\": 1, \"70\": 4, \"95\": 1, \"42\": 1, \"43\": 1}, \"119\": {\"119\": 11, \"0\": 1}, \"59\": {\"59\": 7, \"52\": 2, \"27\": 2, \"15\": 1}, \"52\": {\"53\": 2, \"52\": 9, \"127\": 1}, \"60\": {\"120\": 1, \"60\": 3, \"128\": 1, \"66\": 1, \"99\": 1, \"19\": 2, \"89\": 2, \"118\": 1}, \"44\": {\"44\": 9, \"67\": 1, \"16\": 1, \"48\": 1}, \"51\": {\"6\": 2, \"44\": 1, \"111\": 2, \"47\": 1, \"101\": 1, \"91\": 1, \"25\": 1, \"68\": 2, \"51\": 1}, \"6\": {\"15\": 1, \"51\": 1, \"6\": 7, \"58\": 2, \"10\": 1}, \"73\": {\"45\": 1, \"50\": 1, \"73\": 9, \"129\": 1}, \"78\": {\"50\": 1, \"92\": 1, \"128\": 2, \"115\": 1, \"110\": 1, \"114\": 1, \"32\": 1, \"0\": 1, \"87\": 1, \"70\": 1, \"118\": 1}, \"92\": {\"92\": 8, \"67\": 2, \"100\": 1, \"66\": 1}, \"20\": {\"20\": 7, \"92\": 1, \"80\": 1, \"90\": 2, \"5\": 1}, \"17\": {\"17\": 7, \"98\": 1, \"85\": 2, \"41\": 1, \"89\": 1}, \"74\": {\"74\": 9, \"92\": 2, \"67\": 1}, \"19\": {\"17\": 1, \"20\": 1, \"93\": 2, \"122\": 1, \"8\": 1, \"87\": 2, \"96\": 1, \"79\": 1, \"112\": 1, \"90\": 1}, \"50\": {\"69\": 1, \"50\": 6, \"118\": 2, \"31\": 1, \"45\": 2}, \"34\": {\"98\": 1, \"17\": 1, \"29\": 4, \"6\": 2, \"30\": 1, \"89\": 1, \"10\": 1, \"34\": 1}, \"104\": {\"104\": 7, \"70\": 1}, \"33\": {\"33\": 4, \"5\": 1, \"118\": 2, \"109\": 1, \"66\": 1, \"60\": 1, \"84\": 1, \"69\": 1}, \"5\": {\"5\": 5, \"116\": 2, \"20\": 1, \"79\": 1, \"108\": 1, \"74\": 1, \"73\": 1}, \"7\": {\"7\": 9, \"105\": 1, \"128\": 1, \"123\": 1}, \"29\": {\"29\": 12}, \"25\": {\"25\": 12}, \"124\": {\"42\": 1, \"124\": 7, \"89\": 1, \"1\": 1, \"128\": 1, \"112\": 1}, \"117\": {\"35\": 3, \"117\": 7, \"26\": 1, \"23\": 1}, \"88\": {\"35\": 3, \"1\": 1, \"90\": 1, \"29\": 1, \"18\": 1, \"16\": 1, \"89\": 2, \"88\": 1, \"113\": 1}, \"61\": {\"117\": 3, \"61\": 3, \"65\": 4, \"26\": 1, \"13\": 1}, \"86\": {\"86\": 9, \"41\": 1, \"17\": 2}, \"116\": {\"116\": 7, \"38\": 1, \"5\": 1, \"79\": 1, \"57\": 1, \"122\": 1}, \"24\": {\"24\": 8, \"30\": 1, \"6\": 2, \"111\": 1}, \"128\": {\"128\": 7, \"21\": 1, \"100\": 1, \"49\": 1, \"40\": 1, \"55\": 1}, \"101\": {\"101\": 10, \"125\": 1, \"29\": 1}, \"65\": {\"61\": 2, \"65\": 6, \"49\": 1, \"57\": 1}, \"36\": {\"24\": 1, \"101\": 2, \"36\": 5, \"34\": 1, \"48\": 2, \"53\": 1}, \"21\": {\"21\": 5, \"61\": 1, \"113\": 2, \"25\": 1, \"57\": 1, \"65\": 2}, \"106\": {\"106\": 10, \"77\": 1, \"8\": 1}, \"118\": {\"64\": 1, \"118\": 5, \"35\": 1, \"83\": 1, \"79\": 2, \"110\": 1, \"65\": 1}, \"113\": {\"117\": 2, \"44\": 1, \"126\": 1, \"113\": 6, \"81\": 1, \"16\": 1}, \"40\": {\"1\": 2, \"40\": 7, \"46\": 2, \"87\": 1}, \"93\": {\"93\": 7, \"48\": 1}, \"94\": {\"94\": 4, \"29\": 1, \"59\": 1, \"36\": 1, \"6\": 4, \"58\": 1}, \"103\": {\"8\": 2, \"77\": 2, \"103\": 4, \"121\": 1, \"65\": 1, \"106\": 1, \"24\": 1}, \"110\": {\"118\": 1, \"122\": 1, \"110\": 5, \"109\": 1, \"108\": 1, \"72\": 2, \"60\": 1}, \"56\": {\"56\": 9, \"17\": 2, \"41\": 1}, \"39\": {\"2\": 3, \"67\": 1, \"78\": 1, \"80\": 1, \"39\": 1, \"21\": 1, \"84\": 2, \"113\": 2}, \"109\": {\"109\": 5, \"66\": 1, \"93\": 2, \"20\": 1, \"116\": 1, \"88\": 1, \"60\": 1}, \"67\": {\"92\": 2, \"67\": 3, \"110\": 1, \"78\": 1, \"19\": 1, \"21\": 1, \"88\": 1, \"16\": 1, \"83\": 1}, \"129\": {\"73\": 1, \"17\": 1, \"49\": 3, \"129\": 2, \"20\": 1, \"120\": 1, \"42\": 1, \"109\": 1, \"50\": 1}, \"30\": {\"30\": 8, \"9\": 1, \"54\": 2, \"15\": 1}, \"126\": {\"113\": 3, \"126\": 3, \"5\": 1, \"61\": 1, \"121\": 1, \"74\": 2, \"108\": 1}, \"87\": {\"113\": 1, \"87\": 5, \"119\": 1, \"107\": 1, \"71\": 1, \"19\": 1, \"0\": 1, \"1\": 1}, \"112\": {\"76\": 1, \"112\": 10, \"49\": 1}, \"100\": {\"112\": 2, \"100\": 6, \"129\": 2, \"32\": 2}, \"79\": {\"79\": 9, \"118\": 1}, \"81\": {\"21\": 1, \"113\": 1, \"121\": 1, \"81\": 6, \"78\": 1, \"67\": 1, \"117\": 1}, \"76\": {\"112\": 1, \"76\": 2, \"87\": 2, \"32\": 1, \"1\": 2, \"14\": 1, \"129\": 1}, \"47\": {\"47\": 9, \"100\": 1, \"27\": 2}, \"77\": {\"77\": 9, \"106\": 3}, \"23\": {\"18\": 1, \"77\": 4, \"125\": 1, \"123\": 1, \"106\": 1, \"81\": 1, \"0\": 1, \"117\": 1, \"37\": 1}, \"18\": {\"18\": 12}, \"49\": {\"84\": 2, \"125\": 2, \"102\": 2, \"77\": 1, \"90\": 1, \"49\": 1, \"37\": 1, \"53\": 2}, \"41\": {\"86\": 2, \"41\": 8, \"112\": 1, \"4\": 1}, \"32\": {\"87\": 2, \"115\": 1, \"32\": 4, \"76\": 1, \"45\": 1, \"114\": 1, \"129\": 2}, \"107\": {\"105\": 1, \"107\": 5, \"87\": 2, \"62\": 1, \"100\": 1}, \"80\": {\"80\": 11, \"121\": 1}, \"105\": {\"105\": 6, \"87\": 2, \"123\": 1, \"129\": 1}, \"38\": {\"38\": 9, \"44\": 1}}, \"W_A_1\": {\"108\": {\"70\": 2, \"108\": 4, \"107\": 1, \"114\": 1, \"98\": 1, \"54\": 1}, \"40\": {\"89\": 1, \"40\": 4, \"86\": 1, \"5\": 3, \"87\": 1, \"105\": 2}, \"68\": {\"68\": 6, \"53\": 4, \"0\": 1, \"101\": 1}, \"23\": {\"110\": 1, \"102\": 1, \"65\": 1, \"53\": 1, \"125\": 1, \"33\": 1, \"56\": 1, \"69\": 1, \"22\": 2, \"6\": 1, \"127\": 1}, \"26\": {\"40\": 1, \"26\": 8, \"95\": 1, \"100\": 2}, \"64\": {\"22\": 1, \"64\": 9, \"129\": 1, \"62\": 1}, \"22\": {\"22\": 7, \"129\": 1, \"19\": 2, \"42\": 1, \"79\": 1}, \"3\": {\"102\": 2, \"3\": 5, \"109\": 1, \"66\": 2, \"116\": 2}, \"4\": {\"40\": 1, \"89\": 1, \"4\": 8, \"31\": 1, \"48\": 1}, \"70\": {\"70\": 3, \"9\": 1, \"77\": 1, \"60\": 1, \"54\": 1, \"80\": 1, \"23\": 1, \"45\": 1, \"29\": 2}, \"57\": {\"57\": 11, \"9\": 1}, \"79\": {\"23\": 2, \"79\": 5, \"120\": 2, \"114\": 2, \"22\": 1}, \"9\": {\"89\": 1, \"9\": 5, \"34\": 1, \"17\": 1, \"47\": 1, \"128\": 1, \"83\": 1, \"24\": 1}, \"89\": {\"9\": 1, \"57\": 1, \"74\": 1, \"89\": 7, \"24\": 1, \"107\": 1}, \"110\": {\"110\": 11, \"101\": 1}, \"102\": {\"102\": 9, \"116\": 1, \"69\": 2}, \"31\": {\"17\": 1, \"31\": 11}, \"58\": {\"58\": 12}, \"47\": {\"57\": 1, \"47\": 9, \"106\": 1, \"49\": 1}, \"24\": {\"24\": 7, \"52\": 2, \"88\": 1, \"103\": 2}, \"19\": {\"19\": 11, \"73\": 1}, \"11\": {\"11\": 12}, \"52\": {\"52\": 11, \"27\": 1}, \"17\": {\"17\": 9, \"34\": 2, \"31\": 1}, \"25\": {\"25\": 9, \"11\": 1, \"1\": 1, \"82\": 1}, \"69\": {\"69\": 9, \"60\": 1, \"102\": 2}, \"96\": {\"96\": 12}, \"109\": {\"96\": 1, \"11\": 1, \"67\": 1, \"3\": 1, \"50\": 2, \"25\": 2, \"82\": 2, \"46\": 1, \"99\": 1}, \"115\": {\"115\": 11, \"96\": 1}, \"83\": {\"83\": 4, \"44\": 1, \"5\": 1, \"75\": 1, \"4\": 2, \"31\": 1, \"86\": 1, \"103\": 1}, \"84\": {\"84\": 11, \"12\": 1}, \"119\": {\"16\": 2, \"117\": 2, \"18\": 2, \"119\": 1, \"11\": 1, \"65\": 2}, \"122\": {\"122\": 6, \"84\": 1, \"76\": 1, \"120\": 1, \"59\": 1}, \"99\": {\"99\": 7, \"65\": 3, \"11\": 1, \"82\": 1}, \"1\": {\"1\": 9, \"81\": 1, \"46\": 1, \"62\": 1}, \"74\": {\"74\": 10, \"53\": 1, \"0\": 1}, \"85\": {\"85\": 10, \"112\": 2}, \"127\": {\"111\": 2, \"127\": 10}, \"111\": {\"53\": 1, \"111\": 9, \"110\": 1, \"127\": 1}, \"53\": {\"53\": 10, \"0\": 1, \"56\": 1}, \"88\": {\"88\": 7, \"94\": 1, \"36\": 1, \"101\": 2, \"98\": 1}, \"65\": {\"16\": 2, \"100\": 2, \"64\": 1, \"118\": 1, \"95\": 2, \"65\": 1, \"104\": 1}, \"7\": {\"7\": 9, \"1\": 1, \"80\": 1, \"65\": 1}, \"16\": {\"16\": 9, \"10\": 1, \"100\": 2}, \"128\": {\"17\": 1, \"104\": 1, \"61\": 3, \"105\": 1, \"79\": 2, \"1\": 2, \"128\": 1, \"126\": 1}, \"34\": {\"68\": 2, \"28\": 1, \"98\": 1, \"34\": 4, \"122\": 1, \"80\": 1, \"77\": 1, \"89\": 1}, \"129\": {\"118\": 1, \"128\": 1, \"33\": 2, \"86\": 2, \"61\": 2, \"54\": 1, \"126\": 1, \"129\": 1, \"117\": 1}, \"43\": {\"43\": 8, \"54\": 1, \"38\": 1, \"28\": 1, \"78\": 1}, \"92\": {\"92\": 11, \"125\": 1}, \"28\": {\"28\": 11, \"43\": 1}, \"27\": {\"27\": 8, \"101\": 1, \"30\": 2, \"52\": 1}, \"114\": {\"114\": 9, \"73\": 1, \"42\": 1, \"76\": 1}, \"73\": {\"114\": 1, \"129\": 1, \"73\": 8, \"126\": 1, \"76\": 1}, \"0\": {\"0\": 7, \"53\": 1, \"51\": 2, \"112\": 1, \"91\": 1}, \"104\": {\"104\": 10, \"73\": 1, \"46\": 1}, \"118\": {\"118\": 10, \"39\": 2}, \"41\": {\"41\": 8, \"55\": 1, \"93\": 1, \"17\": 2}, \"49\": {\"5\": 1, \"86\": 1, \"35\": 2, \"80\": 1, \"32\": 1, \"105\": 1, \"46\": 1, \"84\": 1, \"88\": 1, \"52\": 1, \"54\": 1}, \"14\": {\"14\": 9, \"59\": 1, \"54\": 1, \"103\": 1}, \"46\": {\"33\": 1, \"104\": 1, \"76\": 1, \"31\": 1, \"46\": 2, \"51\": 1, \"12\": 1, \"73\": 2, \"1\": 1, \"62\": 1}, \"33\": {\"33\": 12}, \"76\": {\"76\": 8, \"14\": 1, \"122\": 2, \"44\": 1}, \"125\": {\"125\": 4, \"51\": 4, \"75\": 2, \"0\": 1, \"91\": 1}, \"86\": {\"89\": 1, \"86\": 6, \"70\": 1, \"31\": 1, \"83\": 1}, \"66\": {\"66\": 8, \"61\": 2, \"33\": 1, \"51\": 1}, \"5\": {\"5\": 7, \"40\": 2, \"105\": 1, \"38\": 1, \"19\": 1}, \"117\": {\"117\": 12}, \"75\": {\"75\": 11, \"91\": 1}, \"61\": {\"61\": 11, \"109\": 1}, \"50\": {\"109\": 3, \"50\": 4, \"81\": 1, \"20\": 1, \"30\": 1, \"23\": 1, \"90\": 1}, \"67\": {\"109\": 1, \"67\": 7, \"82\": 2}, \"18\": {\"18\": 7, \"3\": 1, \"119\": 1, \"95\": 1, \"100\": 2}, \"98\": {\"98\": 8, \"47\": 2, \"35\": 2}, \"55\": {\"55\": 9, \"93\": 1}, \"32\": {\"32\": 10, \"75\": 2}, \"120\": {\"120\": 6, \"104\": 1, \"126\": 1, \"79\": 2, \"38\": 1, \"12\": 1}, \"97\": {\"97\": 7, \"32\": 1, \"49\": 1, \"88\": 1, \"125\": 1, \"91\": 1}, \"126\": {\"120\": 2, \"126\": 4, \"122\": 1, \"84\": 1, \"129\": 1, \"19\": 1, \"62\": 1, \"73\": 1}, \"45\": {\"76\": 1, \"109\": 1, \"45\": 3, \"122\": 1, \"20\": 2, \"67\": 1, \"80\": 1, \"79\": 2}, \"78\": {\"76\": 2, \"43\": 3, \"80\": 1, \"113\": 1, \"79\": 2, \"78\": 1}, \"100\": {\"100\": 12}, \"107\": {\"77\": 1, \"107\": 7, \"17\": 2, \"49\": 1, \"89\": 1}, \"93\": {\"107\": 3, \"93\": 2, \"48\": 1, \"89\": 2, \"49\": 2, \"55\": 2}, \"77\": {\"34\": 1, \"70\": 1, \"103\": 1, \"77\": 6, \"47\": 1, \"40\": 1, \"86\": 1}, \"63\": {\"100\": 2, \"63\": 6, \"39\": 2, \"69\": 2}, \"112\": {\"112\": 9, \"6\": 1, \"0\": 2}, \"113\": {\"113\": 8, \"121\": 1, \"26\": 2, \"46\": 1}, \"103\": {\"103\": 4, \"47\": 2, \"24\": 3, \"98\": 1}, \"71\": {\"71\": 6, \"110\": 1, \"112\": 1, \"127\": 2, \"0\": 2}, \"30\": {\"30\": 6, \"15\": 1, \"59\": 1, \"52\": 1, \"6\": 1, \"94\": 1, \"71\": 1}, \"90\": {\"90\": 8, \"82\": 1, \"66\": 2, \"99\": 1}, \"37\": {\"92\": 1, \"37\": 8, \"112\": 1, \"110\": 1, \"15\": 1}, \"60\": {\"118\": 1, \"103\": 1, \"117\": 2, \"35\": 1, \"60\": 2, \"70\": 1, \"74\": 1, \"100\": 1, \"4\": 1, \"106\": 1}, \"15\": {\"15\": 8, \"30\": 1, \"6\": 1, \"0\": 1, \"36\": 1}, \"39\": {\"39\": 7, \"2\": 1, \"69\": 1, \"95\": 1, \"16\": 2}, \"72\": {\"72\": 4, \"49\": 2, \"97\": 1, \"47\": 2, \"9\": 1, \"60\": 1, \"70\": 1}, \"54\": {\"86\": 1, \"54\": 7, \"38\": 1, \"107\": 1, \"14\": 2}, \"35\": {\"35\": 7, \"72\": 1, \"91\": 1, \"106\": 1, \"17\": 1, \"4\": 1}, \"2\": {\"96\": 1, \"2\": 8, \"121\": 2, \"26\": 1}, \"94\": {\"94\": 8, \"91\": 2, \"6\": 1, \"30\": 1}, \"42\": {\"25\": 3, \"87\": 2, \"100\": 2, \"105\": 1, \"69\": 1, \"28\": 1, \"42\": 1, \"34\": 1}, \"81\": {\"81\": 7, \"46\": 2, \"64\": 1, \"60\": 1, \"1\": 1}, \"8\": {\"9\": 1, \"8\": 11}, \"87\": {\"74\": 1, \"87\": 6, \"80\": 1, \"38\": 2, \"14\": 1, \"129\": 1}, \"6\": {\"6\": 2, \"53\": 3, \"32\": 2, \"127\": 2, \"75\": 1, \"93\": 1, \"30\": 1}, \"36\": {\"32\": 2, \"36\": 4, \"94\": 2, \"80\": 1, \"88\": 1, \"37\": 1, \"83\": 1}, \"91\": {\"56\": 3, \"32\": 1, \"111\": 1, \"91\": 4, \"75\": 1, \"12\": 1, \"125\": 1}, \"56\": {\"56\": 12}, \"80\": {\"80\": 8, \"128\": 3, \"56\": 1}, \"124\": {\"124\": 5, \"44\": 2, \"42\": 1, \"14\": 1, \"122\": 1}, \"44\": {\"44\": 11, \"42\": 1}, \"13\": {\"18\": 2, \"13\": 6, \"26\": 1, \"95\": 2, \"109\": 1}, \"10\": {\"56\": 3, \"88\": 2, \"110\": 2, \"121\": 1, \"127\": 1, \"10\": 2, \"58\": 1}, \"59\": {\"58\": 3, \"59\": 6, \"30\": 1, \"2\": 1, \"25\": 1}, \"95\": {\"95\": 10, \"117\": 1, \"13\": 1}, \"105\": {\"105\": 7, \"42\": 1, \"66\": 1, \"40\": 1, \"49\": 1, \"54\": 1}, \"101\": {\"101\": 12}, \"20\": {\"20\": 10, \"81\": 1, \"25\": 1}, \"48\": {\"28\": 2, \"48\": 8, \"123\": 1, \"4\": 1}, \"106\": {\"106\": 8, \"72\": 1, \"47\": 2, \"57\": 1}, \"51\": {\"51\": 5, \"75\": 3, \"125\": 2, \"0\": 1, \"56\": 1}, \"21\": {\"84\": 1, \"28\": 1, \"95\": 1, \"38\": 1, \"0\": 1, \"69\": 1, \"58\": 1, \"18\": 1, \"126\": 1, \"21\": 1, \"74\": 1, \"101\": 1}, \"123\": {\"48\": 1, \"16\": 1, \"123\": 9, \"13\": 1}, \"121\": {\"61\": 2, \"26\": 1, \"121\": 4, \"18\": 2, \"116\": 1, \"95\": 1, \"13\": 1}, \"38\": {\"124\": 1, \"38\": 9, \"70\": 2}, \"62\": {\"62\": 11, \"67\": 1}, \"29\": {\"29\": 12}, \"82\": {\"102\": 1, \"82\": 7, \"90\": 2, \"67\": 2}, \"116\": {\"102\": 1, \"116\": 10, \"11\": 1}, \"12\": {\"51\": 2, \"91\": 4, \"127\": 2}}, \"W_A_2\": {\"91\": {\"12\": 2, \"91\": 1, \"101\": 1, \"0\": 1, \"41\": 1, \"106\": 2, \"34\": 1, \"77\": 1, \"128\": 2}, \"12\": {\"86\": 1, \"12\": 6, \"24\": 2, \"99\": 1, \"17\": 1, \"41\": 1}, \"101\": {\"101\": 9, \"0\": 1}, \"121\": {\"121\": 3, \"81\": 3, \"23\": 2, \"45\": 1, \"84\": 1, \"72\": 2}, \"118\": {\"88\": 1, \"118\": 4, \"61\": 2, \"95\": 1, \"84\": 1, \"46\": 3}, \"10\": {\"110\": 2, \"12\": 1, \"54\": 3, \"10\": 2, \"34\": 1, \"68\": 1, \"23\": 2}, \"117\": {\"117\": 8, \"23\": 2, \"2\": 1, \"90\": 1}, \"110\": {\"110\": 9, \"117\": 1, \"22\": 1, \"37\": 1}, \"97\": {\"97\": 7, \"126\": 1, \"103\": 1, \"77\": 1, \"30\": 1, \"63\": 1}, \"28\": {\"121\": 1, \"28\": 3, \"40\": 1, \"63\": 1, \"5\": 1, \"76\": 1, \"110\": 1, \"14\": 1, \"55\": 1, \"10\": 1}, \"88\": {\"121\": 1, \"88\": 2, \"13\": 2, \"109\": 2, \"89\": 2, \"61\": 1, \"118\": 2}, \"17\": {\"86\": 1, \"110\": 1, \"54\": 2, \"56\": 2, \"102\": 1, \"91\": 1, \"17\": 2, \"41\": 2}, \"126\": {\"88\": 1, \"118\": 1, \"67\": 1, \"126\": 4, \"46\": 3, \"82\": 1, \"44\": 1}, \"33\": {\"118\": 1, \"33\": 10, \"60\": 1}, \"86\": {\"12\": 1, \"86\": 10, \"34\": 1}, \"106\": {\"97\": 2, \"106\": 8, \"103\": 1, \"30\": 1}, \"54\": {\"54\": 11, \"111\": 1}, \"125\": {\"15\": 1, \"125\": 6, \"97\": 1, \"109\": 1, \"51\": 1, \"77\": 1, \"36\": 1}, \"83\": {\"83\": 11, \"118\": 1}, \"98\": {\"98\": 5, \"4\": 1, \"49\": 1, \"91\": 2, \"12\": 1, \"10\": 2}, \"11\": {\"11\": 3, \"124\": 3, \"32\": 1, \"114\": 1, \"108\": 1, \"117\": 1, \"22\": 1, \"105\": 1}, \"32\": {\"11\": 1, \"32\": 3, \"41\": 2, \"5\": 1, \"19\": 1, \"114\": 2, \"123\": 2}, \"42\": {\"87\": 1, \"54\": 1, \"44\": 4, \"63\": 1, \"67\": 1, \"42\": 1, \"82\": 1, \"80\": 1, \"59\": 1}, \"103\": {\"103\": 12}, \"87\": {\"83\": 2, \"84\": 1, \"88\": 1, \"87\": 5, \"23\": 1, \"100\": 1, \"90\": 1}, \"61\": {\"13\": 1, \"11\": 2, \"61\": 7, \"121\": 1, \"22\": 1}, \"13\": {\"13\": 9, \"57\": 2, \"72\": 1}, \"4\": {\"4\": 11, \"32\": 1}, \"15\": {\"15\": 7, \"97\": 1, \"77\": 1, \"106\": 1}, \"120\": {\"120\": 11, \"26\": 1}, \"80\": {\"76\": 1, \"80\": 11}, \"72\": {\"72\": 6, \"102\": 1, \"96\": 1, \"92\": 1, \"100\": 1}, \"64\": {\"64\": 6, \"112\": 1, \"51\": 1, \"47\": 2, \"85\": 1, \"107\": 1}, \"81\": {\"120\": 1, \"81\": 10, \"48\": 1}, \"102\": {\"102\": 12}, \"76\": {\"129\": 1, \"76\": 6, \"14\": 1, \"50\": 1, \"85\": 1, \"64\": 1, \"73\": 1}, \"49\": {\"110\": 1, \"129\": 1, \"107\": 1, \"68\": 2, \"75\": 1, \"108\": 1, \"53\": 1, \"61\": 1, \"21\": 1}, \"129\": {\"110\": 4, \"107\": 2, \"129\": 1, \"85\": 1, \"112\": 2, \"61\": 2}, \"89\": {\"89\": 8, \"116\": 1, \"31\": 1, \"82\": 1, \"119\": 1}, \"52\": {\"52\": 12}, \"35\": {\"35\": 8, \"74\": 2, \"24\": 2}, \"53\": {\"53\": 2, \"110\": 2, \"128\": 1, \"79\": 1, \"114\": 2, \"49\": 1, \"105\": 1, \"108\": 1, \"58\": 1}, \"112\": {\"112\": 4, \"19\": 1, \"43\": 1, \"32\": 1, \"129\": 1, \"37\": 3, \"107\": 1}, \"105\": {\"105\": 9, \"122\": 1, \"115\": 2}, \"100\": {\"100\": 11, \"69\": 1}, \"9\": {\"9\": 7, \"58\": 3, \"97\": 2}, \"82\": {\"100\": 1, \"82\": 8, \"126\": 1, \"89\": 2}, \"51\": {\"77\": 4, \"51\": 3, \"127\": 1, \"30\": 2, \"74\": 2}, \"21\": {\"92\": 2, \"21\": 7, \"20\": 1, \"100\": 2}, \"92\": {\"82\": 2, \"118\": 2, \"59\": 1, \"32\": 1, \"92\": 3, \"117\": 1, \"33\": 2}, \"69\": {\"69\": 11, \"67\": 1}, \"77\": {\"77\": 10, \"97\": 1, \"30\": 1}, \"50\": {\"50\": 7, \"46\": 1, \"107\": 1, \"123\": 1, \"112\": 2}, \"36\": {\"103\": 2, \"75\": 1, \"24\": 1, \"36\": 3, \"0\": 2, \"79\": 2, \"101\": 1}, \"16\": {\"16\": 9, \"88\": 1, \"20\": 1, \"26\": 1}, \"8\": {\"13\": 1, \"8\": 9, \"24\": 1, \"120\": 1}, \"127\": {\"127\": 12}, \"46\": {\"82\": 1, \"46\": 8, \"118\": 1}, \"84\": {\"46\": 2, \"84\": 5, \"83\": 2, \"95\": 1, \"92\": 2}, \"18\": {\"18\": 4, \"13\": 1, \"65\": 2, \"2\": 2, \"48\": 3}, \"123\": {\"123\": 8, \"50\": 2}, \"56\": {\"66\": 1, \"56\": 7, \"115\": 1, \"108\": 1, \"122\": 1, \"15\": 1}, \"26\": {\"65\": 2, \"26\": 8, \"81\": 2}, \"14\": {\"75\": 1, \"14\": 5, \"94\": 2, \"129\": 2, \"43\": 1, \"58\": 1}, \"109\": {\"87\": 1, \"88\": 1, \"67\": 1, \"119\": 1, \"102\": 2, \"109\": 3, \"120\": 1, \"100\": 2}, \"66\": {\"66\": 8, \"107\": 1, \"114\": 1, \"49\": 1, \"53\": 1}, \"24\": {\"66\": 2, \"25\": 1, \"110\": 1, \"124\": 3, \"106\": 1, \"97\": 1, \"122\": 1, \"11\": 2}, \"71\": {\"24\": 1, \"71\": 2, \"112\": 2, \"105\": 3, \"40\": 3, \"11\": 1}, \"65\": {\"65\": 8, \"75\": 1, \"26\": 1, \"121\": 1, \"74\": 1}, \"75\": {\"75\": 8, \"77\": 2, \"6\": 1, \"21\": 1}, \"111\": {\"56\": 1, \"111\": 8, \"91\": 1, \"127\": 1, \"35\": 1}, \"30\": {\"30\": 5, \"127\": 2, \"77\": 2, \"106\": 1, \"97\": 1, \"57\": 1}, \"85\": {\"85\": 8, \"1\": 1, \"17\": 2, \"64\": 1}, \"113\": {\"113\": 8, \"118\": 1, \"103\": 1}, \"45\": {\"45\": 8, \"70\": 1, \"1\": 1, \"85\": 1, \"92\": 1}, \"29\": {\"29\": 8, \"59\": 3, \"21\": 1}, \"20\": {\"20\": 12}, \"25\": {\"25\": 8, \"106\": 4}, \"0\": {\"0\": 10, \"91\": 1, \"36\": 1}, \"68\": {\"68\": 12}, \"119\": {\"119\": 9, \"116\": 2, \"33\": 1}, \"90\": {\"90\": 5, \"119\": 3, \"102\": 3, \"87\": 1}, \"38\": {\"38\": 11, \"60\": 1}, \"99\": {\"81\": 1, \"1\": 1, \"99\": 5, \"26\": 1, \"121\": 2, \"96\": 1, \"53\": 1}, \"1\": {\"1\": 10, \"70\": 2}, \"67\": {\"1\": 3, \"67\": 6, \"109\": 1, \"44\": 1, \"29\": 1}, \"63\": {\"63\": 11, \"32\": 1}, \"34\": {\"34\": 10, \"86\": 1, \"42\": 1}, \"108\": {\"108\": 7, \"56\": 1, \"129\": 1, \"123\": 2, \"128\": 1}, \"40\": {\"40\": 4, \"4\": 1, \"5\": 1, \"61\": 1, \"55\": 1, \"128\": 1, \"11\": 1, \"123\": 2}, \"47\": {\"43\": 2, \"127\": 1, \"47\": 7, \"129\": 2}, \"37\": {\"37\": 11, \"71\": 1}, \"78\": {\"20\": 1, \"90\": 1, \"3\": 1, \"78\": 1, \"40\": 1, \"93\": 1, \"62\": 1, \"102\": 1, \"122\": 1, \"100\": 1, \"26\": 1, \"5\": 1}, \"96\": {\"102\": 1, \"90\": 1, \"96\": 8, \"109\": 1, \"116\": 1}, \"43\": {\"78\": 1, \"101\": 1, \"43\": 4, \"64\": 1, \"75\": 1, \"62\": 1, \"19\": 1, \"63\": 1, \"73\": 1}, \"5\": {\"5\": 8, \"114\": 1, \"123\": 1}, \"124\": {\"124\": 10, \"95\": 1, \"122\": 1}, \"44\": {\"44\": 9, \"63\": 1, \"126\": 1, \"80\": 1}, \"41\": {\"25\": 2, \"41\": 8, \"54\": 1, \"121\": 1}, \"116\": {\"13\": 1, \"116\": 2, \"16\": 2, \"119\": 4, \"109\": 1, \"60\": 2}, \"19\": {\"64\": 1, \"15\": 1, \"19\": 5, \"123\": 1, \"47\": 1, \"63\": 1, \"60\": 1, \"85\": 1}, \"115\": {\"78\": 2, \"22\": 2, \"129\": 2, \"115\": 2, \"110\": 1, \"11\": 1, \"105\": 2}, \"95\": {\"95\": 7, \"81\": 1, \"35\": 2, \"10\": 2}, \"3\": {\"78\": 2, \"22\": 2, \"3\": 4, \"107\": 1, \"112\": 1}, \"59\": {\"127\": 2, \"128\": 1, \"59\": 5, \"12\": 1, \"29\": 1, \"91\": 2}, \"55\": {\"19\": 2, \"55\": 5, \"38\": 1, \"84\": 1, \"47\": 2, \"3\": 1}, \"70\": {\"55\": 2, \"48\": 1, \"17\": 1, \"1\": 1, \"89\": 1, \"60\": 1, \"109\": 1, \"19\": 1, \"70\": 1, \"108\": 2}, \"6\": {\"6\": 4, \"30\": 3, \"25\": 2, \"68\": 1, \"77\": 2}, \"2\": {\"2\": 11, \"81\": 1}, \"48\": {\"48\": 10, \"81\": 1, \"57\": 1}, \"23\": {\"23\": 3, \"41\": 1, \"35\": 1, \"39\": 1, \"68\": 1, \"65\": 1, \"52\": 1, \"26\": 2, \"10\": 1}, \"7\": {\"7\": 12}, \"122\": {\"122\": 6, \"114\": 1, \"124\": 1, \"95\": 1, \"107\": 1, \"32\": 1, \"123\": 1}, \"57\": {\"57\": 9, \"72\": 1, \"13\": 1, \"48\": 1}, \"39\": {\"100\": 1, \"39\": 4, \"48\": 3, \"13\": 2}, \"79\": {\"79\": 8, \"56\": 2, \"101\": 2}, \"27\": {\"27\": 8, \"58\": 1, \"15\": 1}, \"74\": {\"74\": 9, \"56\": 2, \"26\": 1}, \"73\": {\"73\": 11, \"14\": 1}, \"62\": {\"62\": 12}, \"107\": {\"107\": 8, \"114\": 1, \"112\": 2, \"122\": 1}, \"128\": {\"5\": 1, \"62\": 1, \"9\": 1, \"59\": 1, \"94\": 1, \"14\": 2, \"40\": 1, \"80\": 1, \"128\": 1, \"33\": 1, \"108\": 1}, \"60\": {\"40\": 2, \"62\": 1, \"83\": 1, \"74\": 1, \"60\": 3, \"95\": 1, \"38\": 2, \"123\": 1}, \"114\": {\"114\": 9, \"107\": 1, \"4\": 1, \"22\": 1}, \"22\": {\"22\": 11, \"50\": 1}, \"93\": {\"93\": 10, \"72\": 1, \"109\": 1}, \"94\": {\"94\": 8, \"59\": 1, \"9\": 1, \"97\": 1, \"20\": 1}, \"31\": {\"70\": 1, \"89\": 1, \"31\": 5, \"84\": 2, \"46\": 1}, \"104\": {\"104\": 11, \"128\": 1}, \"58\": {\"58\": 12}}, \"C_A_2\": {\"14\": {\"47\": 1, \"56\": 1, \"24\": 2, \"14\": 3, \"57\": 1, \"28\": 2, \"0\": 1, \"10\": 1}, \"22\": {\"22\": 7, \"14\": 2, \"5\": 2, \"0\": 1}, \"9\": {\"8\": 3, \"9\": 7, \"40\": 1, \"6\": 1}, \"47\": {\"47\": 10, \"23\": 1, \"57\": 1}, \"13\": {\"14\": 1, \"13\": 10, \"5\": 1}, \"8\": {\"8\": 7, \"27\": 1, \"17\": 1, \"53\": 2, \"6\": 1}, \"7\": {\"49\": 2, \"7\": 9, \"33\": 1}, \"49\": {\"49\": 12}, \"20\": {\"20\": 12}, \"16\": {\"13\": 1, \"38\": 1, \"16\": 7, \"5\": 1, \"23\": 1, \"31\": 1}, \"34\": {\"34\": 8, \"42\": 3, \"41\": 1}, \"56\": {\"56\": 10, \"22\": 1, \"10\": 1}, \"38\": {\"38\": 7, \"13\": 1, \"14\": 1, \"16\": 1}, \"4\": {\"4\": 11, \"35\": 1}, \"43\": {\"43\": 8, \"56\": 1, \"37\": 1}, \"26\": {\"26\": 10}, \"35\": {\"35\": 10, \"4\": 2}, \"31\": {\"31\": 11, \"14\": 1}, \"1\": {\"1\": 8, \"42\": 1, \"15\": 2, \"7\": 1}, \"39\": {\"39\": 9, \"0\": 2, \"37\": 1}, \"5\": {\"38\": 1, \"22\": 2, \"5\": 5, \"23\": 2, \"57\": 1, \"39\": 1}, \"24\": {\"24\": 12}, \"54\": {\"27\": 1, \"51\": 1, \"32\": 1, \"54\": 6, \"44\": 1}, \"23\": {\"13\": 1, \"15\": 1, \"23\": 6, \"47\": 3, \"49\": 1}, \"51\": {\"51\": 12}, \"27\": {\"27\": 7, \"8\": 2, \"9\": 1}, \"15\": {\"15\": 11, \"11\": 1}, \"0\": {\"0\": 8, \"39\": 1, \"10\": 1, \"14\": 1, \"28\": 1}, \"19\": {\"19\": 7, \"40\": 2, \"6\": 1}, \"18\": {\"18\": 5, \"30\": 2, \"46\": 1}, \"30\": {\"2\": 1, \"30\": 8, \"33\": 1, \"18\": 2}, \"55\": {\"34\": 2, \"3\": 1, \"55\": 6, \"46\": 1}, \"57\": {\"16\": 2, \"57\": 8, \"14\": 1, \"5\": 1}, \"2\": {\"30\": 2, \"2\": 6, \"42\": 1, \"49\": 1, \"18\": 1, \"46\": 1}, \"12\": {\"12\": 8}, \"41\": {\"41\": 9, \"42\": 2, \"48\": 1}, \"42\": {\"41\": 2, \"42\": 7, \"7\": 1, \"30\": 2}, \"48\": {\"48\": 10, \"3\": 1, \"41\": 1}, \"37\": {\"37\": 12}, \"6\": {\"9\": 1, \"6\": 7, \"32\": 1, \"50\": 1}, \"11\": {\"11\": 8, \"15\": 2}, \"45\": {\"45\": 7, \"12\": 1}, \"21\": {\"21\": 10, \"19\": 1, \"53\": 1}, \"46\": {\"46\": 4, \"6\": 1, \"3\": 2, \"25\": 2, \"55\": 1}, \"25\": {\"25\": 6, \"36\": 2, \"50\": 1, \"18\": 1, \"3\": 1, \"7\": 1}, \"36\": {\"36\": 10}, \"53\": {\"53\": 9, \"32\": 1, \"8\": 1, \"27\": 1}, \"28\": {\"28\": 8, \"5\": 1, \"13\": 1, \"22\": 2}, \"40\": {\"40\": 7, \"44\": 1, \"8\": 1, \"9\": 1}, \"33\": {\"33\": 10}, \"44\": {\"44\": 10}, \"3\": {\"3\": 3, \"48\": 2, \"30\": 2, \"36\": 1, \"46\": 1, \"7\": 1, \"25\": 1, \"44\": 1}, \"17\": {\"17\": 11, \"27\": 1}, \"32\": {\"32\": 7, \"54\": 2, \"17\": 1}, \"10\": {\"10\": 6, \"0\": 1, \"39\": 1, \"56\": 1, \"14\": 1}, \"52\": {\"52\": 5, \"7\": 1, \"29\": 2, \"33\": 1, \"30\": 1}, \"50\": {\"6\": 1, \"50\": 6, \"8\": 1}, \"29\": {\"29\": 5, \"44\": 1}}}, \"per_domain_accuracy\": {\"ORACLE.run1_14\": {\"accuracy\": 0.8723958333333334, \"source?\": true}, \"ORACLE.run1_20\": {\"accuracy\": 0.78125, \"source?\": true}, \"ORACLE.run1_38\": {\"accuracy\": 0.8020833333333334, \"source?\": true}, \"ORACLE.run1_8\": {\"accuracy\": 0.79140625, \"source?\": true}, \"ORACLE.run1_50\": {\"accuracy\": 0.8427083333333333, \"source?\": true}, \"ORACLE.run1_32\": {\"accuracy\": 0.8216145833333334, \"source?\": true}, \"ORACLE.run1_26\": {\"accuracy\": 0.6544270833333333, \"source?\": true}, \"ORACLE.run1_44\": {\"accuracy\": 0.7497395833333333, \"source?\": true}, \"C_A_3\": {\"accuracy\": 0.771875, \"source?\": false}, \"C_A_4\": {\"accuracy\": 0.7234375, \"source?\": false}, \"C_A_5\": {\"accuracy\": 0.7484375, \"source?\": false}, \"W_A_3\": {\"accuracy\": 0.5891927083333334, \"source?\": false}, \"C_A_1\": {\"accuracy\": 0.759375, \"source?\": false}, \"W_A_4\": {\"accuracy\": 0.560546875, \"source?\": false}, \"W_A_1\": {\"accuracy\": 0.6061197916666666, \"source?\": false}, \"W_A_2\": {\"accuracy\": 0.58984375, \"source?\": false}, \"C_A_2\": {\"accuracy\": 0.73125, \"source?\": false}}}, \"history\": {\"epoch_indices\": [1, 2, 3, 4, 5, 6], \"train_label_loss\": [0.7598073564868952, 2.5535469138096754, 0.5154303020803214, 0.4461200323005739, 0.40119435120293584, 0.37403398560958784], \"source_val_label_loss\": [127.55265045166016, 0.5901463627815247, 0.568980872631073, 0.530089795589447, 0.43739446997642517, 0.5950042009353638], \"target_val_label_loss\": [6822.5322265625, 51.5859260559082, 441.27294921875, 1180.168212890625, 1903.194580078125, 1634.4114990234375], \"source_val_acc_label\": [0.64892578125, 0.789453125, 0.7913736979166667, 0.8105794270833333, 0.84482421875, 0.7875325520833333], \"target_val_acc_label\": [0.6944563356164384, 0.6413741438356164, 0.5729880136986302, 0.5523330479452054, 0.5399186643835616, 0.506742294520548]}, \"dataset_metrics\": {\"source\": {\"train\": {\"n_unique_x\": 179200, \"n_unique_y\": 16, \"n_batch/episode\": 6720}, \"val\": {\"n_unique_x\": 38400, \"n_unique_y\": 16, \"n_batch/episode\": 960}, \"test\": {\"n_unique_x\": 38400, \"n_unique_y\": 16, \"n_batch/episode\": 960}}, \"target\": {\"train\": {\"n_unique_x\": 56700, \"n_unique_y\": 130, \"n_batch/episode\": 2080}, \"val\": {\"n_unique_x\": 12132, \"n_unique_y\": 130, \"n_batch/episode\": 292}, \"test\": {\"n_unique_x\": 12132, \"n_unique_y\": 130, \"n_batch/episode\": 292}}}}'"
      ]
     },
     "execution_count": 29,
     "metadata": {},
     "output_type": "execute_result"
    }
   ],
   "source": [
    "json.dumps(experiment)"
   ]
  }
 ],
 "metadata": {
  "celltoolbar": "Tags",
  "kernelspec": {
   "display_name": "Python 3 (ipykernel)",
   "language": "python",
   "name": "python3"
  },
  "language_info": {
   "codemirror_mode": {
    "name": "ipython",
    "version": 3
   },
   "file_extension": ".py",
   "mimetype": "text/x-python",
   "name": "python",
   "nbconvert_exporter": "python",
   "pygments_lexer": "ipython3",
   "version": "3.8.10"
  },
  "papermill": {
   "default_parameters": {},
   "duration": 1164.677097,
   "end_time": "2022-03-17T02:33:49.151218",
   "environment_variables": {},
   "exception": null,
   "input_path": "/mnt/wd500GB/CSC500/csc500-main/csc500-notebooks/templates/tl_ptn_template.ipynb",
   "output_path": "trial.ipynb",
   "parameters": {
    "parameters": {
     "BEST_MODEL_PATH": "./best_model.pth",
     "NUM_LOGS_PER_EPOCH": 10,
     "criteria_for_best": "target_loss",
     "dataset_seed": 1337,
     "datasets": [
      {
       "domain_prefix": "C_A_",
       "domains": [
        1,
        2,
        3,
        4,
        5
       ],
       "episode_transforms": [],
       "labels": [
        "1-10.",
        "1-11.",
        "1-15.",
        "1-16.",
        "1-17.",
        "1-18.",
        "1-19.",
        "10-4.",
        "10-7.",
        "11-1.",
        "11-14.",
        "11-17.",
        "11-20.",
        "11-7.",
        "13-20.",
        "13-8.",
        "14-10.",
        "14-11.",
        "14-14.",
        "14-7.",
        "15-1.",
        "15-20.",
        "16-1.",
        "16-16.",
        "17-10.",
        "17-11.",
        "17-2.",
        "19-1.",
        "19-16.",
        "19-19.",
        "19-20.",
        "19-3.",
        "2-10.",
        "2-11.",
        "2-17.",
        "2-18.",
        "2-20.",
        "2-3.",
        "2-4.",
        "2-5.",
        "2-6.",
        "2-7.",
        "2-8.",
        "3-13.",
        "3-18.",
        "3-3.",
        "4-1.",
        "4-10.",
        "4-11.",
        "4-19.",
        "5-5.",
        "6-15.",
        "7-10.",
        "7-14.",
        "8-18.",
        "8-20.",
        "8-3.",
        "8-8."
       ],
       "num_examples_per_domain_per_label": 100,
       "pickle_path": "/mnt/wd500GB/CSC500/csc500-main/datasets/cores.stratified_ds.2022A.pkl",
       "source_or_target_dataset": "target",
       "x_transforms": [
        "unit_mag"
       ]
      },
      {
       "domain_prefix": "W_A_",
       "domains": [
        1,
        2,
        3,
        4
       ],
       "episode_transforms": [],
       "labels": [
        "1-10",
        "1-12",
        "1-14",
        "1-16",
        "1-18",
        "1-19",
        "1-8",
        "10-11",
        "10-17",
        "10-4",
        "10-7",
        "11-1",
        "11-10",
        "11-19",
        "11-20",
        "11-4",
        "11-7",
        "12-19",
        "12-20",
        "12-7",
        "13-14",
        "13-18",
        "13-19",
        "13-20",
        "13-3",
        "13-7",
        "14-10",
        "14-11",
        "14-12",
        "14-13",
        "14-14",
        "14-19",
        "14-20",
        "14-7",
        "14-8",
        "14-9",
        "15-1",
        "15-19",
        "15-6",
        "16-1",
        "16-16",
        "16-19",
        "16-20",
        "17-10",
        "17-11",
        "18-1",
        "18-10",
        "18-11",
        "18-12",
        "18-13",
        "18-14",
        "18-15",
        "18-16",
        "18-17",
        "18-19",
        "18-2",
        "18-20",
        "18-4",
        "18-5",
        "18-7",
        "18-8",
        "18-9",
        "19-1",
        "19-10",
        "19-11",
        "19-12",
        "19-13",
        "19-14",
        "19-15",
        "19-19",
        "19-2",
        "19-20",
        "19-3",
        "19-4",
        "19-6",
        "19-7",
        "19-8",
        "19-9",
        "2-1",
        "2-13",
        "2-15",
        "2-3",
        "2-4",
        "2-5",
        "2-6",
        "2-7",
        "2-8",
        "20-1",
        "20-12",
        "20-14",
        "20-15",
        "20-16",
        "20-18",
        "20-19",
        "20-20",
        "20-3",
        "20-4",
        "20-5",
        "20-7",
        "20-8",
        "3-1",
        "3-13",
        "3-18",
        "3-2",
        "3-8",
        "4-1",
        "4-10",
        "4-11",
        "5-1",
        "5-5",
        "6-1",
        "6-15",
        "6-6",
        "7-10",
        "7-11",
        "7-12",
        "7-13",
        "7-14",
        "7-7",
        "7-8",
        "7-9",
        "8-1",
        "8-13",
        "8-14",
        "8-18",
        "8-20",
        "8-3",
        "8-8",
        "9-1",
        "9-7"
       ],
       "num_examples_per_domain_per_label": 100,
       "pickle_path": "/mnt/wd500GB/CSC500/csc500-main/datasets/wisig.node3-19.stratified_ds.2022A.pkl",
       "source_or_target_dataset": "target",
       "x_transforms": [
        "unit_mag"
       ]
      },
      {
       "domain_prefix": "ORACLE.run1_",
       "domains": [
        32,
        38,
        8,
        44,
        14,
        50,
        20,
        26
       ],
       "episode_transforms": [],
       "labels": [
        "3123D52",
        "3123D65",
        "3123D79",
        "3123D80",
        "3123D54",
        "3123D70",
        "3123D7B",
        "3123D89",
        "3123D58",
        "3123D76",
        "3123D7D",
        "3123EFE",
        "3123D64",
        "3123D78",
        "3123D7E",
        "3124E4A"
       ],
       "num_examples_per_domain_per_label": 2000,
       "pickle_path": "/mnt/wd500GB/CSC500/csc500-main/datasets/oracle.Run1_framed_2000Examples_stratified_ds.2022A.pkl",
       "source_or_target_dataset": "source",
       "x_transforms": [
        "unit_mag"
       ]
      }
     ],
     "device": "cuda",
     "experiment_name": "oracle.run1.framed -> cores+wisig",
     "lr": 0.001,
     "n_epoch": 50,
     "n_query": 2,
     "n_shot": 3,
     "n_way": 16,
     "patience": 3,
     "seed": 1337,
     "test_k_factor": 2,
     "torch_default_dtype": "torch.float32",
     "train_k_factor": 3,
     "val_k_factor": 2,
     "x_net": [
      {
       "class": "nnReshape",
       "kargs": {
        "shape": [
         -1,
         1,
         2,
         256
        ]
       }
      },
      {
       "class": "Conv2d",
       "kargs": {
        "bias": false,
        "in_channels": 1,
        "kernel_size": [
         1,
         7
        ],
        "out_channels": 256,
        "padding": [
         0,
         3
        ]
       }
      },
      {
       "class": "ReLU",
       "kargs": {
        "inplace": true
       }
      },
      {
       "class": "BatchNorm2d",
       "kargs": {
        "num_features": 256
       }
      },
      {
       "class": "Conv2d",
       "kargs": {
        "bias": true,
        "in_channels": 256,
        "kernel_size": [
         2,
         7
        ],
        "out_channels": 80,
        "padding": [
         0,
         3
        ]
       }
      },
      {
       "class": "ReLU",
       "kargs": {
        "inplace": true
       }
      },
      {
       "class": "BatchNorm2d",
       "kargs": {
        "num_features": 80
       }
      },
      {
       "class": "Flatten",
       "kargs": {}
      },
      {
       "class": "Linear",
       "kargs": {
        "in_features": 20480,
        "out_features": 256
       }
      },
      {
       "class": "ReLU",
       "kargs": {
        "inplace": true
       }
      },
      {
       "class": "BatchNorm1d",
       "kargs": {
        "num_features": 256
       }
      },
      {
       "class": "Linear",
       "kargs": {
        "in_features": 256,
        "out_features": 256
       }
      }
     ]
    }
   },
   "start_time": "2022-03-17T02:14:24.474121",
   "version": "2.3.4"
  }
 },
 "nbformat": 4,
 "nbformat_minor": 5
}