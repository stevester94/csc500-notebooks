{
 "cells": [
  {
   "cell_type": "markdown",
   "id": "9fea5f46",
   "metadata": {
    "papermill": {
     "duration": 0.019783,
     "end_time": "2022-03-17T02:33:49.886047",
     "exception": false,
     "start_time": "2022-03-17T02:33:49.866264",
     "status": "completed"
    },
    "tags": []
   },
   "source": [
    "# Transfer Learning Template"
   ]
  },
  {
   "cell_type": "code",
   "execution_count": 1,
   "id": "0902182a",
   "metadata": {
    "execution": {
     "iopub.execute_input": "2022-03-17T02:33:49.927309Z",
     "iopub.status.busy": "2022-03-17T02:33:49.926701Z",
     "iopub.status.idle": "2022-03-17T02:33:50.988432Z",
     "shell.execute_reply": "2022-03-17T02:33:50.988038Z"
    },
    "papermill": {
     "duration": 1.087426,
     "end_time": "2022-03-17T02:33:50.988505",
     "exception": false,
     "start_time": "2022-03-17T02:33:49.901079",
     "status": "completed"
    },
    "tags": []
   },
   "outputs": [],
   "source": [
    "%load_ext autoreload\n",
    "%autoreload 2\n",
    "%matplotlib inline\n",
    "\n",
    "    \n",
    "import os, json, sys, time, random\n",
    "import numpy as np\n",
    "import torch\n",
    "from torch.optim import Adam\n",
    "from  easydict import EasyDict\n",
    "import matplotlib.pyplot as plt\n",
    "\n",
    "from steves_models.steves_ptn import Steves_Prototypical_Network\n",
    "\n",
    "from steves_utils.lazy_iterable_wrapper import Lazy_Iterable_Wrapper\n",
    "from steves_utils.iterable_aggregator import Iterable_Aggregator\n",
    "from steves_utils.ptn_train_eval_test_jig import  PTN_Train_Eval_Test_Jig\n",
    "from steves_utils.torch_sequential_builder import build_sequential\n",
    "from steves_utils.torch_utils import get_dataset_metrics, ptn_confusion_by_domain_over_dataloader\n",
    "from steves_utils.utils_v2 import (per_domain_accuracy_from_confusion, get_datasets_base_path)\n",
    "from steves_utils.PTN.utils import independent_accuracy_assesment\n",
    "\n",
    "from torch.utils.data import DataLoader\n",
    "\n",
    "from steves_utils.stratified_dataset.episodic_accessor import Episodic_Accessor_Factory\n",
    "\n",
    "from steves_utils.ptn_do_report import (\n",
    "    get_loss_curve,\n",
    "    get_results_table,\n",
    "    get_parameters_table,\n",
    "    get_domain_accuracies,\n",
    ")\n",
    "\n",
    "from steves_utils.transforms import get_chained_transform"
   ]
  },
  {
   "cell_type": "markdown",
   "id": "41c840b4",
   "metadata": {
    "papermill": {
     "duration": 0.014671,
     "end_time": "2022-03-17T02:33:51.019586",
     "exception": false,
     "start_time": "2022-03-17T02:33:51.004915",
     "status": "completed"
    },
    "tags": []
   },
   "source": [
    "# Allowed Parameters\n",
    "These are allowed parameters, not defaults\n",
    "Each of these values need to be present in the injected parameters (the notebook will raise an exception if they are not present)\n",
    "\n",
    "Papermill uses the cell tag \"parameters\" to inject the real parameters below this cell.\n",
    "Enable tags to see what I mean"
   ]
  },
  {
   "cell_type": "code",
   "execution_count": 2,
   "id": "fd44eb83",
   "metadata": {
    "execution": {
     "iopub.execute_input": "2022-03-17T02:33:51.051141Z",
     "iopub.status.busy": "2022-03-17T02:33:51.050707Z",
     "iopub.status.idle": "2022-03-17T02:33:51.062627Z",
     "shell.execute_reply": "2022-03-17T02:33:51.062867Z"
    },
    "papermill": {
     "duration": 0.027908,
     "end_time": "2022-03-17T02:33:51.062951",
     "exception": false,
     "start_time": "2022-03-17T02:33:51.035043",
     "status": "completed"
    },
    "tags": []
   },
   "outputs": [],
   "source": [
    "required_parameters = {\n",
    "    \"experiment_name\",\n",
    "    \"lr\",\n",
    "    \"device\",\n",
    "    \"seed\",\n",
    "    \"dataset_seed\",\n",
    "    \"n_shot\",\n",
    "    \"n_query\",\n",
    "    \"n_way\",\n",
    "    \"train_k_factor\",\n",
    "    \"val_k_factor\",\n",
    "    \"test_k_factor\",\n",
    "    \"n_epoch\",\n",
    "    \"patience\",\n",
    "    \"criteria_for_best\",\n",
    "    \"x_net\",\n",
    "    \"datasets\",\n",
    "    \"torch_default_dtype\",\n",
    "    \"NUM_LOGS_PER_EPOCH\",\n",
    "    \"BEST_MODEL_PATH\",\n",
    "}"
   ]
  },
  {
   "cell_type": "code",
   "execution_count": 3,
   "id": "fa3f0049",
   "metadata": {
    "execution": {
     "iopub.execute_input": "2022-03-17T02:33:51.098113Z",
     "iopub.status.busy": "2022-03-17T02:33:51.097792Z",
     "iopub.status.idle": "2022-03-17T02:33:51.114324Z",
     "shell.execute_reply": "2022-03-17T02:33:51.114661Z"
    },
    "papermill": {
     "duration": 0.037068,
     "end_time": "2022-03-17T02:33:51.114773",
     "exception": false,
     "start_time": "2022-03-17T02:33:51.077705",
     "status": "completed"
    },
    "tags": [
     "parameters"
    ]
   },
   "outputs": [],
   "source": [
    "from steves_utils.CORES.utils import (\n",
    "    ALL_NODES,\n",
    "    ALL_NODES_MINIMUM_1000_EXAMPLES,\n",
    "    ALL_DAYS\n",
    ")\n",
    "\n",
    "from steves_utils.ORACLE.utils_v2 import (\n",
    "    ALL_DISTANCES_FEET_NARROWED,\n",
    "    ALL_RUNS,\n",
    "    ALL_SERIAL_NUMBERS,\n",
    ")\n",
    "\n",
    "standalone_parameters = {}\n",
    "standalone_parameters[\"experiment_name\"] = \"STANDALONE PTN\"\n",
    "standalone_parameters[\"lr\"] = 0.001\n",
    "standalone_parameters[\"device\"] = \"cuda\"\n",
    "\n",
    "standalone_parameters[\"seed\"] = 1337\n",
    "standalone_parameters[\"dataset_seed\"] = 1337\n",
    "\n",
    "standalone_parameters[\"n_way\"] = 8\n",
    "standalone_parameters[\"n_shot\"] = 3\n",
    "standalone_parameters[\"n_query\"]  = 2\n",
    "standalone_parameters[\"train_k_factor\"] = 1\n",
    "standalone_parameters[\"val_k_factor\"] = 2\n",
    "standalone_parameters[\"test_k_factor\"] = 2\n",
    "\n",
    "\n",
    "standalone_parameters[\"n_epoch\"] = 50\n",
    "\n",
    "standalone_parameters[\"patience\"] = 10\n",
    "standalone_parameters[\"criteria_for_best\"] = \"source_loss\"\n",
    "\n",
    "standalone_parameters[\"datasets\"] = [\n",
    "    {\n",
    "        \"labels\": ALL_SERIAL_NUMBERS,\n",
    "        \"domains\": ALL_DISTANCES_FEET_NARROWED,\n",
    "        \"num_examples_per_domain_per_label\": 100,\n",
    "        \"pickle_path\": os.path.join(get_datasets_base_path(), \"oracle.Run1_framed_2000Examples_stratified_ds.2022A.pkl\"),\n",
    "        \"source_or_target_dataset\": \"source\",\n",
    "        \"x_transforms\": [\"unit_mag\", \"minus_two\"],\n",
    "        \"episode_transforms\": [],\n",
    "        \"domain_prefix\": \"ORACLE_\"\n",
    "    },\n",
    "    {\n",
    "        \"labels\": ALL_NODES,\n",
    "        \"domains\": ALL_DAYS,\n",
    "        \"num_examples_per_domain_per_label\": 100,\n",
    "        \"pickle_path\": os.path.join(get_datasets_base_path(), \"cores.stratified_ds.2022A.pkl\"),\n",
    "        \"source_or_target_dataset\": \"target\",\n",
    "        \"x_transforms\": [\"unit_power\", \"times_zero\"],\n",
    "        \"episode_transforms\": [],\n",
    "        \"domain_prefix\": \"CORES_\"\n",
    "    }   \n",
    "]\n",
    "\n",
    "standalone_parameters[\"torch_default_dtype\"] = \"torch.float32\" \n",
    "\n",
    "\n",
    "\n",
    "standalone_parameters[\"x_net\"] =     [\n",
    "    {\"class\": \"nnReshape\", \"kargs\": {\"shape\":[-1, 1, 2, 256]}},\n",
    "    {\"class\": \"Conv2d\", \"kargs\": { \"in_channels\":1, \"out_channels\":256, \"kernel_size\":(1,7), \"bias\":False, \"padding\":(0,3), },},\n",
    "    {\"class\": \"ReLU\", \"kargs\": {\"inplace\": True}},\n",
    "    {\"class\": \"BatchNorm2d\", \"kargs\": {\"num_features\":256}},\n",
    "\n",
    "    {\"class\": \"Conv2d\", \"kargs\": { \"in_channels\":256, \"out_channels\":80, \"kernel_size\":(2,7), \"bias\":True, \"padding\":(0,3), },},\n",
    "    {\"class\": \"ReLU\", \"kargs\": {\"inplace\": True}},\n",
    "    {\"class\": \"BatchNorm2d\", \"kargs\": {\"num_features\":80}},\n",
    "    {\"class\": \"Flatten\", \"kargs\": {}},\n",
    "\n",
    "    {\"class\": \"Linear\", \"kargs\": {\"in_features\": 80*256, \"out_features\": 256}}, # 80 units per IQ pair\n",
    "    {\"class\": \"ReLU\", \"kargs\": {\"inplace\": True}},\n",
    "    {\"class\": \"BatchNorm1d\", \"kargs\": {\"num_features\":256}},\n",
    "\n",
    "    {\"class\": \"Linear\", \"kargs\": {\"in_features\": 256, \"out_features\": 256}},\n",
    "]\n",
    "\n",
    "# Parameters relevant to results\n",
    "# These parameters will basically never need to change\n",
    "standalone_parameters[\"NUM_LOGS_PER_EPOCH\"] = 10\n",
    "standalone_parameters[\"BEST_MODEL_PATH\"] = \"./best_model.pth\"\n",
    "\n",
    "\n",
    "\n",
    "\n"
   ]
  },
  {
   "cell_type": "code",
   "execution_count": 4,
   "id": "f0310a00",
   "metadata": {
    "execution": {
     "iopub.execute_input": "2022-03-17T02:33:51.159272Z",
     "iopub.status.busy": "2022-03-17T02:33:51.148304Z",
     "iopub.status.idle": "2022-03-17T02:33:51.179168Z",
     "shell.execute_reply": "2022-03-17T02:33:51.179646Z"
    },
    "papermill": {
     "duration": 0.047121,
     "end_time": "2022-03-17T02:33:51.179794",
     "exception": false,
     "start_time": "2022-03-17T02:33:51.132673",
     "status": "completed"
    },
    "tags": [
     "injected-parameters"
    ]
   },
   "outputs": [],
   "source": [
    "# Parameters\n",
    "parameters = {\n",
    "    \"experiment_name\": \"oracle.run1.framed -> cores+wisig\",\n",
    "    \"device\": \"cuda\",\n",
    "    \"lr\": 0.001,\n",
    "    \"seed\": 1337,\n",
    "    \"dataset_seed\": 1337,\n",
    "    \"n_shot\": 3,\n",
    "    \"n_query\": 2,\n",
    "    \"train_k_factor\": 3,\n",
    "    \"val_k_factor\": 2,\n",
    "    \"test_k_factor\": 2,\n",
    "    \"torch_default_dtype\": \"torch.float32\",\n",
    "    \"n_epoch\": 50,\n",
    "    \"patience\": 3,\n",
    "    \"criteria_for_best\": \"target_loss\",\n",
    "    \"x_net\": [\n",
    "        {\"class\": \"nnReshape\", \"kargs\": {\"shape\": [-1, 1, 2, 256]}},\n",
    "        {\n",
    "            \"class\": \"Conv2d\",\n",
    "            \"kargs\": {\n",
    "                \"in_channels\": 1,\n",
    "                \"out_channels\": 256,\n",
    "                \"kernel_size\": [1, 7],\n",
    "                \"bias\": False,\n",
    "                \"padding\": [0, 3],\n",
    "            },\n",
    "        },\n",
    "        {\"class\": \"ReLU\", \"kargs\": {\"inplace\": True}},\n",
    "        {\"class\": \"BatchNorm2d\", \"kargs\": {\"num_features\": 256}},\n",
    "        {\n",
    "            \"class\": \"Conv2d\",\n",
    "            \"kargs\": {\n",
    "                \"in_channels\": 256,\n",
    "                \"out_channels\": 80,\n",
    "                \"kernel_size\": [2, 7],\n",
    "                \"bias\": True,\n",
    "                \"padding\": [0, 3],\n",
    "            },\n",
    "        },\n",
    "        {\"class\": \"ReLU\", \"kargs\": {\"inplace\": True}},\n",
    "        {\"class\": \"BatchNorm2d\", \"kargs\": {\"num_features\": 80}},\n",
    "        {\"class\": \"Flatten\", \"kargs\": {}},\n",
    "        {\"class\": \"Linear\", \"kargs\": {\"in_features\": 20480, \"out_features\": 256}},\n",
    "        {\"class\": \"ReLU\", \"kargs\": {\"inplace\": True}},\n",
    "        {\"class\": \"BatchNorm1d\", \"kargs\": {\"num_features\": 256}},\n",
    "        {\"class\": \"Linear\", \"kargs\": {\"in_features\": 256, \"out_features\": 256}},\n",
    "    ],\n",
    "    \"NUM_LOGS_PER_EPOCH\": 10,\n",
    "    \"BEST_MODEL_PATH\": \"./best_model.pth\",\n",
    "    \"n_way\": 16,\n",
    "    \"datasets\": [\n",
    "        {\n",
    "            \"labels\": [\n",
    "                \"1-10.\",\n",
    "                \"1-11.\",\n",
    "                \"1-15.\",\n",
    "                \"1-16.\",\n",
    "                \"1-17.\",\n",
    "                \"1-18.\",\n",
    "                \"1-19.\",\n",
    "                \"10-4.\",\n",
    "                \"10-7.\",\n",
    "                \"11-1.\",\n",
    "                \"11-14.\",\n",
    "                \"11-17.\",\n",
    "                \"11-20.\",\n",
    "                \"11-7.\",\n",
    "                \"13-20.\",\n",
    "                \"13-8.\",\n",
    "                \"14-10.\",\n",
    "                \"14-11.\",\n",
    "                \"14-14.\",\n",
    "                \"14-7.\",\n",
    "                \"15-1.\",\n",
    "                \"15-20.\",\n",
    "                \"16-1.\",\n",
    "                \"16-16.\",\n",
    "                \"17-10.\",\n",
    "                \"17-11.\",\n",
    "                \"17-2.\",\n",
    "                \"19-1.\",\n",
    "                \"19-16.\",\n",
    "                \"19-19.\",\n",
    "                \"19-20.\",\n",
    "                \"19-3.\",\n",
    "                \"2-10.\",\n",
    "                \"2-11.\",\n",
    "                \"2-17.\",\n",
    "                \"2-18.\",\n",
    "                \"2-20.\",\n",
    "                \"2-3.\",\n",
    "                \"2-4.\",\n",
    "                \"2-5.\",\n",
    "                \"2-6.\",\n",
    "                \"2-7.\",\n",
    "                \"2-8.\",\n",
    "                \"3-13.\",\n",
    "                \"3-18.\",\n",
    "                \"3-3.\",\n",
    "                \"4-1.\",\n",
    "                \"4-10.\",\n",
    "                \"4-11.\",\n",
    "                \"4-19.\",\n",
    "                \"5-5.\",\n",
    "                \"6-15.\",\n",
    "                \"7-10.\",\n",
    "                \"7-14.\",\n",
    "                \"8-18.\",\n",
    "                \"8-20.\",\n",
    "                \"8-3.\",\n",
    "                \"8-8.\",\n",
    "            ],\n",
    "            \"domains\": [1, 2, 3, 4, 5],\n",
    "            \"num_examples_per_domain_per_label\": 100,\n",
    "            \"pickle_path\": \"/mnt/wd500GB/CSC500/csc500-main/datasets/cores.stratified_ds.2022A.pkl\",\n",
    "            \"source_or_target_dataset\": \"target\",\n",
    "            \"x_transforms\": [],\n",
    "            \"episode_transforms\": [],\n",
    "            \"domain_prefix\": \"C_A_\",\n",
    "        },\n",
    "        {\n",
    "            \"labels\": [\n",
    "                \"1-10\",\n",
    "                \"1-12\",\n",
    "                \"1-14\",\n",
    "                \"1-16\",\n",
    "                \"1-18\",\n",
    "                \"1-19\",\n",
    "                \"1-8\",\n",
    "                \"10-11\",\n",
    "                \"10-17\",\n",
    "                \"10-4\",\n",
    "                \"10-7\",\n",
    "                \"11-1\",\n",
    "                \"11-10\",\n",
    "                \"11-19\",\n",
    "                \"11-20\",\n",
    "                \"11-4\",\n",
    "                \"11-7\",\n",
    "                \"12-19\",\n",
    "                \"12-20\",\n",
    "                \"12-7\",\n",
    "                \"13-14\",\n",
    "                \"13-18\",\n",
    "                \"13-19\",\n",
    "                \"13-20\",\n",
    "                \"13-3\",\n",
    "                \"13-7\",\n",
    "                \"14-10\",\n",
    "                \"14-11\",\n",
    "                \"14-12\",\n",
    "                \"14-13\",\n",
    "                \"14-14\",\n",
    "                \"14-19\",\n",
    "                \"14-20\",\n",
    "                \"14-7\",\n",
    "                \"14-8\",\n",
    "                \"14-9\",\n",
    "                \"15-1\",\n",
    "                \"15-19\",\n",
    "                \"15-6\",\n",
    "                \"16-1\",\n",
    "                \"16-16\",\n",
    "                \"16-19\",\n",
    "                \"16-20\",\n",
    "                \"17-10\",\n",
    "                \"17-11\",\n",
    "                \"18-1\",\n",
    "                \"18-10\",\n",
    "                \"18-11\",\n",
    "                \"18-12\",\n",
    "                \"18-13\",\n",
    "                \"18-14\",\n",
    "                \"18-15\",\n",
    "                \"18-16\",\n",
    "                \"18-17\",\n",
    "                \"18-19\",\n",
    "                \"18-2\",\n",
    "                \"18-20\",\n",
    "                \"18-4\",\n",
    "                \"18-5\",\n",
    "                \"18-7\",\n",
    "                \"18-8\",\n",
    "                \"18-9\",\n",
    "                \"19-1\",\n",
    "                \"19-10\",\n",
    "                \"19-11\",\n",
    "                \"19-12\",\n",
    "                \"19-13\",\n",
    "                \"19-14\",\n",
    "                \"19-15\",\n",
    "                \"19-19\",\n",
    "                \"19-2\",\n",
    "                \"19-20\",\n",
    "                \"19-3\",\n",
    "                \"19-4\",\n",
    "                \"19-6\",\n",
    "                \"19-7\",\n",
    "                \"19-8\",\n",
    "                \"19-9\",\n",
    "                \"2-1\",\n",
    "                \"2-13\",\n",
    "                \"2-15\",\n",
    "                \"2-3\",\n",
    "                \"2-4\",\n",
    "                \"2-5\",\n",
    "                \"2-6\",\n",
    "                \"2-7\",\n",
    "                \"2-8\",\n",
    "                \"20-1\",\n",
    "                \"20-12\",\n",
    "                \"20-14\",\n",
    "                \"20-15\",\n",
    "                \"20-16\",\n",
    "                \"20-18\",\n",
    "                \"20-19\",\n",
    "                \"20-20\",\n",
    "                \"20-3\",\n",
    "                \"20-4\",\n",
    "                \"20-5\",\n",
    "                \"20-7\",\n",
    "                \"20-8\",\n",
    "                \"3-1\",\n",
    "                \"3-13\",\n",
    "                \"3-18\",\n",
    "                \"3-2\",\n",
    "                \"3-8\",\n",
    "                \"4-1\",\n",
    "                \"4-10\",\n",
    "                \"4-11\",\n",
    "                \"5-1\",\n",
    "                \"5-5\",\n",
    "                \"6-1\",\n",
    "                \"6-15\",\n",
    "                \"6-6\",\n",
    "                \"7-10\",\n",
    "                \"7-11\",\n",
    "                \"7-12\",\n",
    "                \"7-13\",\n",
    "                \"7-14\",\n",
    "                \"7-7\",\n",
    "                \"7-8\",\n",
    "                \"7-9\",\n",
    "                \"8-1\",\n",
    "                \"8-13\",\n",
    "                \"8-14\",\n",
    "                \"8-18\",\n",
    "                \"8-20\",\n",
    "                \"8-3\",\n",
    "                \"8-8\",\n",
    "                \"9-1\",\n",
    "                \"9-7\",\n",
    "            ],\n",
    "            \"domains\": [1, 2, 3, 4],\n",
    "            \"num_examples_per_domain_per_label\": 100,\n",
    "            \"pickle_path\": \"/mnt/wd500GB/CSC500/csc500-main/datasets/wisig.node3-19.stratified_ds.2022A.pkl\",\n",
    "            \"source_or_target_dataset\": \"target\",\n",
    "            \"x_transforms\": [],\n",
    "            \"episode_transforms\": [],\n",
    "            \"domain_prefix\": \"W_A_\",\n",
    "        },\n",
    "        {\n",
    "            \"labels\": [\n",
    "                \"3123D52\",\n",
    "                \"3123D65\",\n",
    "                \"3123D79\",\n",
    "                \"3123D80\",\n",
    "                \"3123D54\",\n",
    "                \"3123D70\",\n",
    "                \"3123D7B\",\n",
    "                \"3123D89\",\n",
    "                \"3123D58\",\n",
    "                \"3123D76\",\n",
    "                \"3123D7D\",\n",
    "                \"3123EFE\",\n",
    "                \"3123D64\",\n",
    "                \"3123D78\",\n",
    "                \"3123D7E\",\n",
    "                \"3124E4A\",\n",
    "            ],\n",
    "            \"domains\": [32, 38, 8, 44, 14, 50, 20, 26],\n",
    "            \"num_examples_per_domain_per_label\": 2000,\n",
    "            \"pickle_path\": \"/mnt/wd500GB/CSC500/csc500-main/datasets/oracle.Run1_framed_2000Examples_stratified_ds.2022A.pkl\",\n",
    "            \"source_or_target_dataset\": \"source\",\n",
    "            \"x_transforms\": [],\n",
    "            \"episode_transforms\": [],\n",
    "            \"domain_prefix\": \"ORACLE.run1_\",\n",
    "        },\n",
    "    ],\n",
    "}\n"
   ]
  },
  {
   "cell_type": "code",
   "execution_count": 5,
   "id": "8fa1cc33",
   "metadata": {
    "execution": {
     "iopub.execute_input": "2022-03-17T02:33:51.216903Z",
     "iopub.status.busy": "2022-03-17T02:33:51.216607Z",
     "iopub.status.idle": "2022-03-17T02:33:51.230870Z",
     "shell.execute_reply": "2022-03-17T02:33:51.231335Z"
    },
    "papermill": {
     "duration": 0.033975,
     "end_time": "2022-03-17T02:33:51.231475",
     "exception": false,
     "start_time": "2022-03-17T02:33:51.197500",
     "status": "completed"
    },
    "tags": []
   },
   "outputs": [],
   "source": [
    "# Set this to True if you want to run this template directly\n",
    "STANDALONE = False\n",
    "if STANDALONE:\n",
    "    print(\"parameters not injected, running with standalone_parameters\")\n",
    "    parameters = standalone_parameters\n",
    "\n",
    "if not 'parameters' in locals() and not 'parameters' in globals():\n",
    "    raise Exception(\"Parameter injection failed\")\n",
    "\n",
    "#Use an easy dict for all the parameters\n",
    "p = EasyDict(parameters)\n",
    "\n",
    "supplied_keys = set(p.keys())\n",
    "\n",
    "if  supplied_keys != required_parameters:\n",
    "    print(\"Parameters are incorrect\")\n",
    "    if len(supplied_keys - required_parameters)>0: print(\"Shouldn't have:\", str(supplied_keys - required_parameters))\n",
    "    if len(required_parameters - supplied_keys)>0: print(\"Need to have:\", str(required_parameters - supplied_keys))\n",
    "    raise RuntimeError(\"Parameters are incorrect\")\n",
    "\n"
   ]
  },
  {
   "cell_type": "code",
   "execution_count": 6,
   "id": "3a028d58",
   "metadata": {
    "execution": {
     "iopub.execute_input": "2022-03-17T02:33:51.265663Z",
     "iopub.status.busy": "2022-03-17T02:33:51.265391Z",
     "iopub.status.idle": "2022-03-17T02:33:51.281704Z",
     "shell.execute_reply": "2022-03-17T02:33:51.282121Z"
    },
    "papermill": {
     "duration": 0.032719,
     "end_time": "2022-03-17T02:33:51.282256",
     "exception": false,
     "start_time": "2022-03-17T02:33:51.249537",
     "status": "completed"
    },
    "tags": []
   },
   "outputs": [],
   "source": [
    "###################################\n",
    "# Set the RNGs and make it all deterministic\n",
    "###################################\n",
    "np.random.seed(p.seed)\n",
    "random.seed(p.seed)\n",
    "torch.manual_seed(p.seed)\n",
    "\n",
    "torch.use_deterministic_algorithms(True) "
   ]
  },
  {
   "cell_type": "code",
   "execution_count": 7,
   "id": "b691acf6",
   "metadata": {
    "execution": {
     "iopub.execute_input": "2022-03-17T02:33:51.318660Z",
     "iopub.status.busy": "2022-03-17T02:33:51.318098Z",
     "iopub.status.idle": "2022-03-17T02:33:51.332980Z",
     "shell.execute_reply": "2022-03-17T02:33:51.332516Z"
    },
    "papermill": {
     "duration": 0.032301,
     "end_time": "2022-03-17T02:33:51.333084",
     "exception": false,
     "start_time": "2022-03-17T02:33:51.300783",
     "status": "completed"
    },
    "tags": []
   },
   "outputs": [],
   "source": [
    "###########################################\n",
    "# The stratified datasets honor this\n",
    "###########################################\n",
    "torch.set_default_dtype(eval(p.torch_default_dtype))"
   ]
  },
  {
   "cell_type": "code",
   "execution_count": 8,
   "id": "b5fba671",
   "metadata": {
    "execution": {
     "iopub.execute_input": "2022-03-17T02:33:51.366391Z",
     "iopub.status.busy": "2022-03-17T02:33:51.365863Z",
     "iopub.status.idle": "2022-03-17T02:33:51.406176Z",
     "shell.execute_reply": "2022-03-17T02:33:51.405692Z"
    },
    "papermill": {
     "duration": 0.056281,
     "end_time": "2022-03-17T02:33:51.406289",
     "exception": false,
     "start_time": "2022-03-17T02:33:51.350008",
     "status": "completed"
    },
    "tags": []
   },
   "outputs": [],
   "source": [
    "###################################\n",
    "# Build the network(s)\n",
    "# Note: It's critical to do this AFTER setting the RNG\n",
    "###################################\n",
    "x_net = build_sequential(p.x_net)"
   ]
  },
  {
   "cell_type": "code",
   "execution_count": 9,
   "id": "5d7e61cc",
   "metadata": {
    "execution": {
     "iopub.execute_input": "2022-03-17T02:33:51.442286Z",
     "iopub.status.busy": "2022-03-17T02:33:51.441567Z",
     "iopub.status.idle": "2022-03-17T02:33:51.458905Z",
     "shell.execute_reply": "2022-03-17T02:33:51.458439Z"
    },
    "papermill": {
     "duration": 0.033715,
     "end_time": "2022-03-17T02:33:51.459018",
     "exception": false,
     "start_time": "2022-03-17T02:33:51.425303",
     "status": "completed"
    },
    "tags": []
   },
   "outputs": [],
   "source": [
    "start_time_secs = time.time()"
   ]
  },
  {
   "cell_type": "code",
   "execution_count": 10,
   "id": "c6b67dfd",
   "metadata": {
    "execution": {
     "iopub.execute_input": "2022-03-17T02:33:51.495006Z",
     "iopub.status.busy": "2022-03-17T02:33:51.494737Z",
     "iopub.status.idle": "2022-03-17T02:33:51.508770Z",
     "shell.execute_reply": "2022-03-17T02:33:51.509185Z"
    },
    "papermill": {
     "duration": 0.031818,
     "end_time": "2022-03-17T02:33:51.509331",
     "exception": false,
     "start_time": "2022-03-17T02:33:51.477513",
     "status": "completed"
    },
    "tags": []
   },
   "outputs": [],
   "source": [
    "p.domains_source = []\n",
    "p.domains_target = []\n",
    "\n",
    "\n",
    "train_original_source = []\n",
    "val_original_source   = []\n",
    "test_original_source  = []\n",
    "\n",
    "train_original_target = []\n",
    "val_original_target   = []\n",
    "test_original_target  = []"
   ]
  },
  {
   "cell_type": "code",
   "execution_count": 11,
   "id": "e3d9c3d3",
   "metadata": {
    "execution": {
     "iopub.execute_input": "2022-03-17T02:33:51.541307Z",
     "iopub.status.busy": "2022-03-17T02:33:51.541034Z",
     "iopub.status.idle": "2022-03-17T02:33:51.556397Z",
     "shell.execute_reply": "2022-03-17T02:33:51.556829Z"
    },
    "papermill": {
     "duration": 0.032034,
     "end_time": "2022-03-17T02:33:51.556970",
     "exception": false,
     "start_time": "2022-03-17T02:33:51.524936",
     "status": "completed"
    },
    "tags": []
   },
   "outputs": [],
   "source": [
    "# global_x_transform_func = lambda x: normalize(x.to(torch.get_default_dtype()), \"unit_power\") # unit_power, unit_mag\n",
    "# global_x_transform_func = lambda x: normalize(x, \"unit_power\") # unit_power, unit_mag"
   ]
  },
  {
   "cell_type": "code",
   "execution_count": 12,
   "id": "acb78fd2",
   "metadata": {
    "execution": {
     "iopub.execute_input": "2022-03-17T02:33:51.591928Z",
     "iopub.status.busy": "2022-03-17T02:33:51.591646Z",
     "iopub.status.idle": "2022-03-17T02:33:51.608595Z",
     "shell.execute_reply": "2022-03-17T02:33:51.609012Z"
    },
    "papermill": {
     "duration": 0.036249,
     "end_time": "2022-03-17T02:33:51.609145",
     "exception": false,
     "start_time": "2022-03-17T02:33:51.572896",
     "status": "completed"
    },
    "tags": []
   },
   "outputs": [],
   "source": [
    "def add_dataset(\n",
    "    labels,\n",
    "    domains,\n",
    "    pickle_path,\n",
    "    x_transforms,\n",
    "    episode_transforms,\n",
    "    domain_prefix,\n",
    "    num_examples_per_domain_per_label,\n",
    "    source_or_target_dataset:str,\n",
    "    iterator_seed=p.seed,\n",
    "    dataset_seed=p.dataset_seed,\n",
    "    n_shot=p.n_shot,\n",
    "    n_way=p.n_way,\n",
    "    n_query=p.n_query,\n",
    "    train_val_test_k_factors=(p.train_k_factor,p.val_k_factor,p.test_k_factor),\n",
    "):\n",
    "   \n",
    "    if x_transforms == []: x_transform = None\n",
    "    else: x_transform = get_chained_transform(x_transforms)\n",
    "    \n",
    "    if episode_transforms == []: episode_transform = None\n",
    "    else: raise Exception(\"episode_transforms not implemented\")\n",
    "    \n",
    "    episode_transform = lambda tup, _prefix=domain_prefix: (_prefix + str(tup[0]), tup[1])\n",
    "\n",
    "\n",
    "    eaf = Episodic_Accessor_Factory(\n",
    "        labels=labels,\n",
    "        domains=domains,\n",
    "        num_examples_per_domain_per_label=num_examples_per_domain_per_label,\n",
    "        iterator_seed=iterator_seed,\n",
    "        dataset_seed=dataset_seed,\n",
    "        n_shot=n_shot,\n",
    "        n_way=n_way,\n",
    "        n_query=n_query,\n",
    "        train_val_test_k_factors=train_val_test_k_factors,\n",
    "        pickle_path=pickle_path,\n",
    "        x_transform_func=x_transform,\n",
    "    )\n",
    "\n",
    "    train, val, test = eaf.get_train(), eaf.get_val(), eaf.get_test()\n",
    "    train = Lazy_Iterable_Wrapper(train, episode_transform)\n",
    "    val = Lazy_Iterable_Wrapper(val, episode_transform)\n",
    "    test = Lazy_Iterable_Wrapper(test, episode_transform)\n",
    "\n",
    "    if source_or_target_dataset==\"source\":\n",
    "        train_original_source.append(train)\n",
    "        val_original_source.append(val)\n",
    "        test_original_source.append(test)\n",
    "\n",
    "        p.domains_source.extend(\n",
    "            [domain_prefix + str(u) for u in domains]\n",
    "        )\n",
    "    elif source_or_target_dataset==\"target\":\n",
    "        train_original_target.append(train)\n",
    "        val_original_target.append(val)\n",
    "        test_original_target.append(test)\n",
    "        p.domains_target.extend(\n",
    "            [domain_prefix + str(u) for u in domains]\n",
    "        )\n",
    "    else:\n",
    "        raise Exception(f\"invalid source_or_target_dataset: {source_or_target_dataset}\")\n",
    "    "
   ]
  },
  {
   "cell_type": "code",
   "execution_count": 13,
   "id": "fe266617",
   "metadata": {
    "execution": {
     "iopub.execute_input": "2022-03-17T02:33:51.643569Z",
     "iopub.status.busy": "2022-03-17T02:33:51.643306Z",
     "iopub.status.idle": "2022-03-17T02:33:53.447648Z",
     "shell.execute_reply": "2022-03-17T02:33:53.447209Z"
    },
    "papermill": {
     "duration": 1.819428,
     "end_time": "2022-03-17T02:33:53.447752",
     "exception": false,
     "start_time": "2022-03-17T02:33:51.628324",
     "status": "completed"
    },
    "tags": []
   },
   "outputs": [],
   "source": [
    "for ds in p.datasets:\n",
    "    add_dataset(**ds)"
   ]
  },
  {
   "cell_type": "code",
   "execution_count": 14,
   "id": "b90d65ac",
   "metadata": {
    "execution": {
     "iopub.execute_input": "2022-03-17T02:33:53.480979Z",
     "iopub.status.busy": "2022-03-17T02:33:53.480720Z",
     "iopub.status.idle": "2022-03-17T02:33:53.492497Z",
     "shell.execute_reply": "2022-03-17T02:33:53.492106Z"
    },
    "papermill": {
     "duration": 0.027275,
     "end_time": "2022-03-17T02:33:53.492585",
     "exception": false,
     "start_time": "2022-03-17T02:33:53.465310",
     "status": "completed"
    },
    "tags": []
   },
   "outputs": [],
   "source": [
    "# from steves_utils.CORES.utils import (\n",
    "#     ALL_NODES,\n",
    "#     ALL_NODES_MINIMUM_1000_EXAMPLES,\n",
    "#     ALL_DAYS\n",
    "# )\n",
    "\n",
    "# add_dataset(\n",
    "#     labels=ALL_NODES,\n",
    "#     domains = ALL_DAYS,\n",
    "#     num_examples_per_domain_per_label=100,\n",
    "#     pickle_path=os.path.join(get_datasets_base_path(), \"cores.stratified_ds.2022A.pkl\"),\n",
    "#     source_or_target_dataset=\"target\",\n",
    "#     x_transform_func=global_x_transform_func,\n",
    "#     domain_modifier=lambda u: f\"cores_{u}\"\n",
    "# )"
   ]
  },
  {
   "cell_type": "code",
   "execution_count": 15,
   "id": "76db484d",
   "metadata": {
    "execution": {
     "iopub.execute_input": "2022-03-17T02:33:53.527682Z",
     "iopub.status.busy": "2022-03-17T02:33:53.527259Z",
     "iopub.status.idle": "2022-03-17T02:33:53.541081Z",
     "shell.execute_reply": "2022-03-17T02:33:53.541433Z"
    },
    "papermill": {
     "duration": 0.029949,
     "end_time": "2022-03-17T02:33:53.541543",
     "exception": false,
     "start_time": "2022-03-17T02:33:53.511594",
     "status": "completed"
    },
    "tags": []
   },
   "outputs": [],
   "source": [
    "# from steves_utils.ORACLE.utils_v2 import (\n",
    "#     ALL_DISTANCES_FEET,\n",
    "#     ALL_RUNS,\n",
    "#     ALL_SERIAL_NUMBERS,\n",
    "# )\n",
    "\n",
    "\n",
    "# add_dataset(\n",
    "#     labels=ALL_SERIAL_NUMBERS,\n",
    "#     domains = list(set(ALL_DISTANCES_FEET) - {2,62}),\n",
    "#     num_examples_per_domain_per_label=100,\n",
    "#     pickle_path=os.path.join(get_datasets_base_path(), \"oracle.Run2_framed_2000Examples_stratified_ds.2022A.pkl\"),\n",
    "#     source_or_target_dataset=\"source\",\n",
    "#     x_transform_func=global_x_transform_func,\n",
    "#     domain_modifier=lambda u: f\"oracle1_{u}\"\n",
    "# )\n"
   ]
  },
  {
   "cell_type": "code",
   "execution_count": 16,
   "id": "97dea9d2",
   "metadata": {
    "execution": {
     "iopub.execute_input": "2022-03-17T02:33:53.576292Z",
     "iopub.status.busy": "2022-03-17T02:33:53.576039Z",
     "iopub.status.idle": "2022-03-17T02:33:53.590464Z",
     "shell.execute_reply": "2022-03-17T02:33:53.590018Z"
    },
    "papermill": {
     "duration": 0.030508,
     "end_time": "2022-03-17T02:33:53.590551",
     "exception": false,
     "start_time": "2022-03-17T02:33:53.560043",
     "status": "completed"
    },
    "tags": []
   },
   "outputs": [],
   "source": [
    "# from steves_utils.ORACLE.utils_v2 import (\n",
    "#     ALL_DISTANCES_FEET,\n",
    "#     ALL_RUNS,\n",
    "#     ALL_SERIAL_NUMBERS,\n",
    "# )\n",
    "\n",
    "\n",
    "# add_dataset(\n",
    "#     labels=ALL_SERIAL_NUMBERS,\n",
    "#     domains = list(set(ALL_DISTANCES_FEET) - {2,62,56}),\n",
    "#     num_examples_per_domain_per_label=100,\n",
    "#     pickle_path=os.path.join(get_datasets_base_path(), \"oracle.Run2_framed_2000Examples_stratified_ds.2022A.pkl\"),\n",
    "#     source_or_target_dataset=\"source\",\n",
    "#     x_transform_func=global_x_transform_func,\n",
    "#     domain_modifier=lambda u: f\"oracle2_{u}\"\n",
    "# )"
   ]
  },
  {
   "cell_type": "code",
   "execution_count": 17,
   "id": "6f289866",
   "metadata": {
    "execution": {
     "iopub.execute_input": "2022-03-17T02:33:53.624982Z",
     "iopub.status.busy": "2022-03-17T02:33:53.624732Z",
     "iopub.status.idle": "2022-03-17T02:33:53.640195Z",
     "shell.execute_reply": "2022-03-17T02:33:53.639808Z"
    },
    "papermill": {
     "duration": 0.031578,
     "end_time": "2022-03-17T02:33:53.640284",
     "exception": false,
     "start_time": "2022-03-17T02:33:53.608706",
     "status": "completed"
    },
    "tags": []
   },
   "outputs": [],
   "source": [
    "# add_dataset(\n",
    "#     labels=list(range(19)),\n",
    "#     domains = [0,1,2],\n",
    "#     num_examples_per_domain_per_label=100,\n",
    "#     pickle_path=os.path.join(get_datasets_base_path(), \"metehan.stratified_ds.2022A.pkl\"),\n",
    "#     source_or_target_dataset=\"target\",\n",
    "#     x_transform_func=global_x_transform_func,\n",
    "#     domain_modifier=lambda u: f\"met_{u}\"\n",
    "# )"
   ]
  },
  {
   "cell_type": "code",
   "execution_count": 18,
   "id": "86a863c3",
   "metadata": {
    "execution": {
     "iopub.execute_input": "2022-03-17T02:33:53.674884Z",
     "iopub.status.busy": "2022-03-17T02:33:53.674632Z",
     "iopub.status.idle": "2022-03-17T02:33:53.690029Z",
     "shell.execute_reply": "2022-03-17T02:33:53.689639Z"
    },
    "papermill": {
     "duration": 0.031673,
     "end_time": "2022-03-17T02:33:53.690119",
     "exception": false,
     "start_time": "2022-03-17T02:33:53.658446",
     "status": "completed"
    },
    "tags": []
   },
   "outputs": [],
   "source": [
    "# # from steves_utils.wisig.utils import (\n",
    "# #     ALL_NODES_MINIMUM_100_EXAMPLES,\n",
    "# #     ALL_NODES_MINIMUM_500_EXAMPLES,\n",
    "# #     ALL_NODES_MINIMUM_1000_EXAMPLES,\n",
    "# #     ALL_DAYS\n",
    "# # )\n",
    "\n",
    "# import steves_utils.wisig.utils as wisig\n",
    "\n",
    "\n",
    "# add_dataset(\n",
    "#     labels=wisig.ALL_NODES_MINIMUM_100_EXAMPLES,\n",
    "#     domains = wisig.ALL_DAYS,\n",
    "#     num_examples_per_domain_per_label=100,\n",
    "#     pickle_path=os.path.join(get_datasets_base_path(), \"wisig.node3-19.stratified_ds.2022A.pkl\"),\n",
    "#     source_or_target_dataset=\"target\",\n",
    "#     x_transform_func=global_x_transform_func,\n",
    "#     domain_modifier=lambda u: f\"wisig_{u}\"\n",
    "# )"
   ]
  },
  {
   "cell_type": "code",
   "execution_count": 19,
   "id": "fd5442bc",
   "metadata": {
    "execution": {
     "iopub.execute_input": "2022-03-17T02:33:53.727646Z",
     "iopub.status.busy": "2022-03-17T02:33:53.727381Z",
     "iopub.status.idle": "2022-03-17T02:33:53.742074Z",
     "shell.execute_reply": "2022-03-17T02:33:53.741688Z"
    },
    "papermill": {
     "duration": 0.033348,
     "end_time": "2022-03-17T02:33:53.742162",
     "exception": false,
     "start_time": "2022-03-17T02:33:53.708814",
     "status": "completed"
    },
    "tags": []
   },
   "outputs": [],
   "source": [
    "###################################\n",
    "# Build the dataset\n",
    "###################################\n",
    "train_original_source = Iterable_Aggregator(train_original_source, p.seed)\n",
    "val_original_source = Iterable_Aggregator(val_original_source, p.seed)\n",
    "test_original_source = Iterable_Aggregator(test_original_source, p.seed)\n",
    "\n",
    "\n",
    "train_original_target = Iterable_Aggregator(train_original_target, p.seed)\n",
    "val_original_target = Iterable_Aggregator(val_original_target, p.seed)\n",
    "test_original_target = Iterable_Aggregator(test_original_target, p.seed)\n",
    "\n",
    "# For CNN We only use X and Y. And we only train on the source.\n",
    "# Properly form the data using a transform lambda and Lazy_Iterable_Wrapper. Finally wrap them in a dataloader\n",
    "\n",
    "transform_lambda = lambda ex: ex[1] # Original is (<domain>, <episode>) so we strip down to episode only\n",
    "\n",
    "train_processed_source = Lazy_Iterable_Wrapper(train_original_source, transform_lambda)\n",
    "val_processed_source   = Lazy_Iterable_Wrapper(val_original_source, transform_lambda)\n",
    "test_processed_source  = Lazy_Iterable_Wrapper(test_original_source, transform_lambda)\n",
    "\n",
    "train_processed_target = Lazy_Iterable_Wrapper(train_original_target, transform_lambda)\n",
    "val_processed_target   = Lazy_Iterable_Wrapper(val_original_target, transform_lambda)\n",
    "test_processed_target  = Lazy_Iterable_Wrapper(test_original_target, transform_lambda)\n",
    "\n",
    "datasets = EasyDict({\n",
    "    \"source\": {\n",
    "        \"original\": {\"train\":train_original_source, \"val\":val_original_source, \"test\":test_original_source},\n",
    "        \"processed\": {\"train\":train_processed_source, \"val\":val_processed_source, \"test\":test_processed_source}\n",
    "    },\n",
    "    \"target\": {\n",
    "        \"original\": {\"train\":train_original_target, \"val\":val_original_target, \"test\":test_original_target},\n",
    "        \"processed\": {\"train\":train_processed_target, \"val\":val_processed_target, \"test\":test_processed_target}\n",
    "    },\n",
    "})"
   ]
  },
  {
   "cell_type": "code",
   "execution_count": 20,
   "id": "5b3c01fc",
   "metadata": {
    "execution": {
     "iopub.execute_input": "2022-03-17T02:33:53.777380Z",
     "iopub.status.busy": "2022-03-17T02:33:53.777123Z",
     "iopub.status.idle": "2022-03-17T02:33:58.671397Z",
     "shell.execute_reply": "2022-03-17T02:33:58.671895Z"
    },
    "papermill": {
     "duration": 4.91152,
     "end_time": "2022-03-17T02:33:58.672050",
     "exception": false,
     "start_time": "2022-03-17T02:33:53.760530",
     "status": "completed"
    },
    "tags": []
   },
   "outputs": [
    {
     "name": "stdout",
     "output_type": "stream",
     "text": [
      "{'ORACLE.run1_38', 'ORACLE.run1_14', 'ORACLE.run1_20', 'ORACLE.run1_32', 'ORACLE.run1_8', 'ORACLE.run1_50', 'ORACLE.run1_44', 'ORACLE.run1_26'}\n"
     ]
    },
    {
     "name": "stdout",
     "output_type": "stream",
     "text": [
      "{'C_A_1', 'C_A_3', 'W_A_2', 'C_A_2', 'W_A_3', 'C_A_5', 'W_A_4', 'C_A_4', 'W_A_1'}\n"
     ]
    },
    {
     "name": "stdout",
     "output_type": "stream",
     "text": [
      "tensor([[[-0.0003,  0.0038, -0.0004,  ..., -0.0031, -0.0009, -0.0018],\n",
      "         [-0.0021, -0.0010,  0.0035,  ...,  0.0008, -0.0047, -0.0016]],\n",
      "\n",
      "        [[-0.0015,  0.0022,  0.0018,  ..., -0.0041, -0.0038, -0.0004],\n",
      "         [-0.0037, -0.0010,  0.0036,  ...,  0.0013, -0.0005,  0.0040]],\n",
      "\n",
      "        [[ 0.0021, -0.0012, -0.0025,  ...,  0.0026,  0.0045,  0.0011],\n",
      "         [ 0.0027,  0.0022, -0.0029,  ..., -0.0025,  0.0015, -0.0038]],\n",
      "\n",
      "        ...,\n",
      "\n",
      "        [[ 0.0048, -0.0012, -0.0057,  ...,  0.0031,  0.0048, -0.0031],\n",
      "         [ 0.0027,  0.0034, -0.0018,  ..., -0.0047, -0.0030, -0.0054]],\n",
      "\n",
      "        [[ 0.0001, -0.0048,  0.0014,  ...,  0.0043,  0.0023,  0.0052],\n",
      "         [ 0.0038,  0.0020, -0.0055,  ..., -0.0006,  0.0061, -0.0011]],\n",
      "\n",
      "        [[ 0.0023,  0.0016, -0.0035,  ..., -0.0022,  0.0060,  0.0049],\n",
      "         [-0.0020,  0.0053, -0.0002,  ..., -0.0052, -0.0003, -0.0012]]])\n"
     ]
    }
   ],
   "source": [
    "from steves_utils.transforms import get_average_magnitude, get_average_power\n",
    "\n",
    "print(set([u for u,_ in val_original_source]))\n",
    "print(set([u for u,_ in val_original_target]))\n",
    "\n",
    "s_x, s_y, q_x, q_y, _ = next(iter(train_processed_source))\n",
    "print(s_x)\n",
    "\n",
    "# for ds in [\n",
    "#     train_processed_source,\n",
    "#     val_processed_source,\n",
    "#     test_processed_source,\n",
    "#     train_processed_target,\n",
    "#     val_processed_target,\n",
    "#     test_processed_target\n",
    "# ]:\n",
    "#     for s_x, s_y, q_x, q_y, _ in ds:\n",
    "#         for X in (s_x, q_x):\n",
    "#             for x in X:\n",
    "#                 assert np.isclose(get_average_magnitude(x.numpy()), 1.0)\n",
    "#                 assert np.isclose(get_average_power(x.numpy()), 1.0)\n",
    "                "
   ]
  },
  {
   "cell_type": "code",
   "execution_count": 21,
   "id": "bbdacba1",
   "metadata": {
    "execution": {
     "iopub.execute_input": "2022-03-17T02:33:58.712913Z",
     "iopub.status.busy": "2022-03-17T02:33:58.712649Z",
     "iopub.status.idle": "2022-03-17T02:33:58.772232Z",
     "shell.execute_reply": "2022-03-17T02:33:58.771737Z"
    },
    "papermill": {
     "duration": 0.078041,
     "end_time": "2022-03-17T02:33:58.772343",
     "exception": false,
     "start_time": "2022-03-17T02:33:58.694302",
     "status": "completed"
    },
    "tags": []
   },
   "outputs": [
    {
     "name": "stdout",
     "output_type": "stream",
     "text": [
      "(2, 256)\n"
     ]
    }
   ],
   "source": [
    "###################################\n",
    "# Build the model\n",
    "###################################\n",
    "model = Steves_Prototypical_Network(x_net, device=p.device, x_shape=(2,256))\n",
    "optimizer = Adam(params=model.parameters(), lr=p.lr)"
   ]
  },
  {
   "cell_type": "code",
   "execution_count": 22,
   "id": "22b39ac5",
   "metadata": {
    "execution": {
     "iopub.execute_input": "2022-03-17T02:33:58.811924Z",
     "iopub.status.busy": "2022-03-17T02:33:58.811669Z",
     "iopub.status.idle": "2022-03-17T02:55:24.323390Z",
     "shell.execute_reply": "2022-03-17T02:55:24.323144Z"
    },
    "papermill": {
     "duration": 1285.530127,
     "end_time": "2022-03-17T02:55:24.323448",
     "exception": false,
     "start_time": "2022-03-17T02:33:58.793321",
     "status": "completed"
    },
    "tags": []
   },
   "outputs": [
    {
     "name": "stdout",
     "output_type": "stream",
     "text": [
      "epoch: 1, [batch: 1 / 6720], examples_per_second: 49.4954, train_label_loss: 2.9036, \n"
     ]
    },
    {
     "name": "stdout",
     "output_type": "stream",
     "text": [
      "epoch: 1, [batch: 672 / 6720], examples_per_second: 3165.4210, train_label_loss: 0.7323, \n"
     ]
    },
    {
     "name": "stdout",
     "output_type": "stream",
     "text": [
      "epoch: 1, [batch: 1344 / 6720], examples_per_second: 3186.3060, train_label_loss: 0.4318, \n"
     ]
    },
    {
     "name": "stdout",
     "output_type": "stream",
     "text": [
      "epoch: 1, [batch: 2016 / 6720], examples_per_second: 3154.6005, train_label_loss: 0.2551, \n"
     ]
    },
    {
     "name": "stdout",
     "output_type": "stream",
     "text": [
      "epoch: 1, [batch: 2688 / 6720], examples_per_second: 3139.7578, train_label_loss: 0.3922, \n"
     ]
    },
    {
     "name": "stdout",
     "output_type": "stream",
     "text": [
      "epoch: 1, [batch: 3360 / 6720], examples_per_second: 3132.6704, train_label_loss: 0.3585, \n"
     ]
    },
    {
     "name": "stdout",
     "output_type": "stream",
     "text": [
      "epoch: 1, [batch: 4032 / 6720], examples_per_second: 3127.5244, train_label_loss: 0.2464, \n"
     ]
    },
    {
     "name": "stdout",
     "output_type": "stream",
     "text": [
      "epoch: 1, [batch: 4704 / 6720], examples_per_second: 3185.5879, train_label_loss: 0.3962, \n"
     ]
    },
    {
     "name": "stdout",
     "output_type": "stream",
     "text": [
      "epoch: 1, [batch: 5376 / 6720], examples_per_second: 3229.6181, train_label_loss: 0.1497, \n"
     ]
    },
    {
     "name": "stdout",
     "output_type": "stream",
     "text": [
      "epoch: 1, [batch: 6048 / 6720], examples_per_second: 3248.0973, train_label_loss: 0.1391, \n"
     ]
    },
    {
     "name": "stdout",
     "output_type": "stream",
     "text": [
      "=============================================================\n",
      "epoch: 1, source_val_acc_label: 0.5473, target_val_acc_label: 0.7391, source_val_label_loss: 85.3082, target_val_label_loss: 455391.8125, \n",
      "=============================================================\n"
     ]
    },
    {
     "name": "stdout",
     "output_type": "stream",
     "text": [
      "New best\n"
     ]
    },
    {
     "name": "stdout",
     "output_type": "stream",
     "text": [
      "epoch: 2, [batch: 1 / 6720], examples_per_second: 5.6468, train_label_loss: 49.0334, \n"
     ]
    },
    {
     "name": "stdout",
     "output_type": "stream",
     "text": [
      "epoch: 2, [batch: 672 / 6720], examples_per_second: 3256.5279, train_label_loss: 2.3259, \n"
     ]
    },
    {
     "name": "stdout",
     "output_type": "stream",
     "text": [
      "epoch: 2, [batch: 1344 / 6720], examples_per_second: 3229.9824, train_label_loss: 1.0061, \n"
     ]
    },
    {
     "name": "stdout",
     "output_type": "stream",
     "text": [
      "epoch: 2, [batch: 2016 / 6720], examples_per_second: 3246.3077, train_label_loss: 1.0318, \n"
     ]
    },
    {
     "name": "stdout",
     "output_type": "stream",
     "text": [
      "epoch: 2, [batch: 2688 / 6720], examples_per_second: 3151.3954, train_label_loss: 0.6974, \n"
     ]
    },
    {
     "name": "stdout",
     "output_type": "stream",
     "text": [
      "epoch: 2, [batch: 3360 / 6720], examples_per_second: 3187.8640, train_label_loss: 1.0066, \n"
     ]
    },
    {
     "name": "stdout",
     "output_type": "stream",
     "text": [
      "epoch: 2, [batch: 4032 / 6720], examples_per_second: 3186.7902, train_label_loss: 0.4542, \n"
     ]
    },
    {
     "name": "stdout",
     "output_type": "stream",
     "text": [
      "epoch: 2, [batch: 4704 / 6720], examples_per_second: 3175.8894, train_label_loss: 0.2407, \n"
     ]
    },
    {
     "name": "stdout",
     "output_type": "stream",
     "text": [
      "epoch: 2, [batch: 5376 / 6720], examples_per_second: 3231.9425, train_label_loss: 0.5777, \n"
     ]
    },
    {
     "name": "stdout",
     "output_type": "stream",
     "text": [
      "epoch: 2, [batch: 6048 / 6720], examples_per_second: 3166.5806, train_label_loss: 0.5140, \n"
     ]
    },
    {
     "name": "stdout",
     "output_type": "stream",
     "text": [
      "=============================================================\n",
      "epoch: 2, source_val_acc_label: 0.8851, target_val_acc_label: 0.7240, source_val_label_loss: 0.3451, target_val_label_loss: 57041.3281, \n",
      "=============================================================\n"
     ]
    },
    {
     "name": "stdout",
     "output_type": "stream",
     "text": [
      "New best\n"
     ]
    },
    {
     "name": "stdout",
     "output_type": "stream",
     "text": [
      "epoch: 3, [batch: 1 / 6720], examples_per_second: 5.4314, train_label_loss: 0.3481, \n"
     ]
    },
    {
     "name": "stdout",
     "output_type": "stream",
     "text": [
      "epoch: 3, [batch: 672 / 6720], examples_per_second: 3174.5750, train_label_loss: 0.5552, \n"
     ]
    },
    {
     "name": "stdout",
     "output_type": "stream",
     "text": [
      "epoch: 3, [batch: 1344 / 6720], examples_per_second: 3236.8522, train_label_loss: 0.1172, \n"
     ]
    },
    {
     "name": "stdout",
     "output_type": "stream",
     "text": [
      "epoch: 3, [batch: 2016 / 6720], examples_per_second: 3203.3486, train_label_loss: 0.2831, \n"
     ]
    },
    {
     "name": "stdout",
     "output_type": "stream",
     "text": [
      "epoch: 3, [batch: 2688 / 6720], examples_per_second: 3213.5662, train_label_loss: 0.4091, \n"
     ]
    },
    {
     "name": "stdout",
     "output_type": "stream",
     "text": [
      "epoch: 3, [batch: 3360 / 6720], examples_per_second: 3169.4991, train_label_loss: 0.4117, \n"
     ]
    },
    {
     "name": "stdout",
     "output_type": "stream",
     "text": [
      "epoch: 3, [batch: 4032 / 6720], examples_per_second: 3118.1719, train_label_loss: 0.1932, \n"
     ]
    },
    {
     "name": "stdout",
     "output_type": "stream",
     "text": [
      "epoch: 3, [batch: 4704 / 6720], examples_per_second: 3152.5246, train_label_loss: 0.4123, \n"
     ]
    },
    {
     "name": "stdout",
     "output_type": "stream",
     "text": [
      "epoch: 3, [batch: 5376 / 6720], examples_per_second: 3227.7327, train_label_loss: 0.0664, \n"
     ]
    },
    {
     "name": "stdout",
     "output_type": "stream",
     "text": [
      "epoch: 3, [batch: 6048 / 6720], examples_per_second: 3239.9401, train_label_loss: 0.0841, \n"
     ]
    },
    {
     "name": "stdout",
     "output_type": "stream",
     "text": [
      "=============================================================\n",
      "epoch: 3, source_val_acc_label: 0.8903, target_val_acc_label: 0.7361, source_val_label_loss: 0.3148, target_val_label_loss: 39696.5664, \n",
      "=============================================================\n"
     ]
    },
    {
     "name": "stdout",
     "output_type": "stream",
     "text": [
      "New best\n"
     ]
    },
    {
     "name": "stdout",
     "output_type": "stream",
     "text": [
      "epoch: 4, [batch: 1 / 6720], examples_per_second: 5.5321, train_label_loss: 0.2665, \n"
     ]
    },
    {
     "name": "stdout",
     "output_type": "stream",
     "text": [
      "epoch: 4, [batch: 672 / 6720], examples_per_second: 3262.4110, train_label_loss: 0.1387, \n"
     ]
    },
    {
     "name": "stdout",
     "output_type": "stream",
     "text": [
      "epoch: 4, [batch: 1344 / 6720], examples_per_second: 3201.2153, train_label_loss: 0.3524, \n"
     ]
    },
    {
     "name": "stdout",
     "output_type": "stream",
     "text": [
      "epoch: 4, [batch: 2016 / 6720], examples_per_second: 3152.6394, train_label_loss: 0.1446, \n"
     ]
    },
    {
     "name": "stdout",
     "output_type": "stream",
     "text": [
      "epoch: 4, [batch: 2688 / 6720], examples_per_second: 2165.5329, train_label_loss: 0.3389, \n"
     ]
    },
    {
     "name": "stdout",
     "output_type": "stream",
     "text": [
      "epoch: 4, [batch: 3360 / 6720], examples_per_second: 2143.5848, train_label_loss: 0.2533, \n"
     ]
    },
    {
     "name": "stdout",
     "output_type": "stream",
     "text": [
      "epoch: 4, [batch: 4032 / 6720], examples_per_second: 2229.2289, train_label_loss: 0.2881, \n"
     ]
    },
    {
     "name": "stdout",
     "output_type": "stream",
     "text": [
      "epoch: 4, [batch: 4704 / 6720], examples_per_second: 3066.5940, train_label_loss: 0.3383, \n"
     ]
    },
    {
     "name": "stdout",
     "output_type": "stream",
     "text": [
      "epoch: 4, [batch: 5376 / 6720], examples_per_second: 3184.3770, train_label_loss: 0.0744, \n"
     ]
    },
    {
     "name": "stdout",
     "output_type": "stream",
     "text": [
      "epoch: 4, [batch: 6048 / 6720], examples_per_second: 3283.1224, train_label_loss: 0.1449, \n"
     ]
    },
    {
     "name": "stdout",
     "output_type": "stream",
     "text": [
      "=============================================================\n",
      "epoch: 4, source_val_acc_label: 0.9203, target_val_acc_label: 0.7293, source_val_label_loss: 0.2239, target_val_label_loss: 49266.6328, \n",
      "=============================================================\n"
     ]
    },
    {
     "name": "stdout",
     "output_type": "stream",
     "text": [
      "epoch: 5, [batch: 1 / 6720], examples_per_second: 5.5634, train_label_loss: 0.1233, \n"
     ]
    },
    {
     "name": "stdout",
     "output_type": "stream",
     "text": [
      "epoch: 5, [batch: 672 / 6720], examples_per_second: 3235.4078, train_label_loss: 0.0876, \n"
     ]
    },
    {
     "name": "stdout",
     "output_type": "stream",
     "text": [
      "epoch: 5, [batch: 1344 / 6720], examples_per_second: 3218.2717, train_label_loss: 0.4509, \n"
     ]
    },
    {
     "name": "stdout",
     "output_type": "stream",
     "text": [
      "epoch: 5, [batch: 2016 / 6720], examples_per_second: 3220.6810, train_label_loss: 0.3824, \n"
     ]
    },
    {
     "name": "stdout",
     "output_type": "stream",
     "text": [
      "epoch: 5, [batch: 2688 / 6720], examples_per_second: 3133.1260, train_label_loss: 0.0589, \n"
     ]
    },
    {
     "name": "stdout",
     "output_type": "stream",
     "text": [
      "epoch: 5, [batch: 3360 / 6720], examples_per_second: 3109.9406, train_label_loss: 0.2320, \n"
     ]
    },
    {
     "name": "stdout",
     "output_type": "stream",
     "text": [
      "epoch: 5, [batch: 4032 / 6720], examples_per_second: 3107.9472, train_label_loss: 0.2683, \n"
     ]
    },
    {
     "name": "stdout",
     "output_type": "stream",
     "text": [
      "epoch: 5, [batch: 4704 / 6720], examples_per_second: 3249.0665, train_label_loss: 0.1049, \n"
     ]
    },
    {
     "name": "stdout",
     "output_type": "stream",
     "text": [
      "epoch: 5, [batch: 5376 / 6720], examples_per_second: 3288.9999, train_label_loss: 0.1002, \n"
     ]
    },
    {
     "name": "stdout",
     "output_type": "stream",
     "text": [
      "epoch: 5, [batch: 6048 / 6720], examples_per_second: 3218.3077, train_label_loss: 0.3327, \n"
     ]
    },
    {
     "name": "stdout",
     "output_type": "stream",
     "text": [
      "=============================================================\n",
      "epoch: 5, source_val_acc_label: 0.9241, target_val_acc_label: 0.7463, source_val_label_loss: 0.2170, target_val_label_loss: 55447.2422, \n",
      "=============================================================\n"
     ]
    },
    {
     "name": "stdout",
     "output_type": "stream",
     "text": [
      "epoch: 6, [batch: 1 / 6720], examples_per_second: 5.4364, train_label_loss: 0.2125, \n"
     ]
    },
    {
     "name": "stdout",
     "output_type": "stream",
     "text": [
      "epoch: 6, [batch: 672 / 6720], examples_per_second: 3240.8955, train_label_loss: 0.2247, \n"
     ]
    },
    {
     "name": "stdout",
     "output_type": "stream",
     "text": [
      "epoch: 6, [batch: 1344 / 6720], examples_per_second: 3283.5365, train_label_loss: 0.0887, \n"
     ]
    },
    {
     "name": "stdout",
     "output_type": "stream",
     "text": [
      "epoch: 6, [batch: 2016 / 6720], examples_per_second: 3276.7561, train_label_loss: 0.1243, \n"
     ]
    },
    {
     "name": "stdout",
     "output_type": "stream",
     "text": [
      "epoch: 6, [batch: 2688 / 6720], examples_per_second: 3265.7695, train_label_loss: 0.1869, \n"
     ]
    },
    {
     "name": "stdout",
     "output_type": "stream",
     "text": [
      "epoch: 6, [batch: 3360 / 6720], examples_per_second: 3288.1158, train_label_loss: 0.0842, \n"
     ]
    },
    {
     "name": "stdout",
     "output_type": "stream",
     "text": [
      "epoch: 6, [batch: 4032 / 6720], examples_per_second: 3258.7567, train_label_loss: 0.1155, \n"
     ]
    },
    {
     "name": "stdout",
     "output_type": "stream",
     "text": [
      "epoch: 6, [batch: 4704 / 6720], examples_per_second: 3191.4858, train_label_loss: 0.5024, \n"
     ]
    },
    {
     "name": "stdout",
     "output_type": "stream",
     "text": [
      "epoch: 6, [batch: 5376 / 6720], examples_per_second: 3252.9418, train_label_loss: 0.3425, \n"
     ]
    },
    {
     "name": "stdout",
     "output_type": "stream",
     "text": [
      "epoch: 6, [batch: 6048 / 6720], examples_per_second: 3191.4113, train_label_loss: 0.0813, \n"
     ]
    },
    {
     "name": "stdout",
     "output_type": "stream",
     "text": [
      "=============================================================\n",
      "epoch: 6, source_val_acc_label: 0.9326, target_val_acc_label: 0.7417, source_val_label_loss: 0.1953, target_val_label_loss: 67878.9375, \n",
      "=============================================================\n"
     ]
    },
    {
     "name": "stdout",
     "output_type": "stream",
     "text": [
      "epoch: 7, [batch: 1 / 6720], examples_per_second: 5.5108, train_label_loss: 0.0205, \n"
     ]
    },
    {
     "name": "stdout",
     "output_type": "stream",
     "text": [
      "epoch: 7, [batch: 672 / 6720], examples_per_second: 3217.4602, train_label_loss: 0.2238, \n"
     ]
    },
    {
     "name": "stdout",
     "output_type": "stream",
     "text": [
      "epoch: 7, [batch: 1344 / 6720], examples_per_second: 3165.9523, train_label_loss: 0.0225, \n"
     ]
    },
    {
     "name": "stdout",
     "output_type": "stream",
     "text": [
      "epoch: 7, [batch: 2016 / 6720], examples_per_second: 3178.8698, train_label_loss: 0.0727, \n"
     ]
    },
    {
     "name": "stdout",
     "output_type": "stream",
     "text": [
      "epoch: 7, [batch: 2688 / 6720], examples_per_second: 3169.1263, train_label_loss: 0.3174, \n"
     ]
    },
    {
     "name": "stdout",
     "output_type": "stream",
     "text": [
      "epoch: 7, [batch: 3360 / 6720], examples_per_second: 3281.9086, train_label_loss: 0.4550, \n"
     ]
    },
    {
     "name": "stdout",
     "output_type": "stream",
     "text": [
      "epoch: 7, [batch: 4032 / 6720], examples_per_second: 3179.2274, train_label_loss: 0.2542, \n"
     ]
    },
    {
     "name": "stdout",
     "output_type": "stream",
     "text": [
      "epoch: 7, [batch: 4704 / 6720], examples_per_second: 3150.9878, train_label_loss: 0.2887, \n"
     ]
    },
    {
     "name": "stdout",
     "output_type": "stream",
     "text": [
      "epoch: 7, [batch: 5376 / 6720], examples_per_second: 3029.6274, train_label_loss: 0.2277, \n"
     ]
    },
    {
     "name": "stdout",
     "output_type": "stream",
     "text": [
      "epoch: 7, [batch: 6048 / 6720], examples_per_second: 3203.5814, train_label_loss: 0.2001, \n"
     ]
    },
    {
     "name": "stdout",
     "output_type": "stream",
     "text": [
      "=============================================================\n",
      "epoch: 7, source_val_acc_label: 0.9167, target_val_acc_label: 0.7514, source_val_label_loss: 0.2562, target_val_label_loss: 80428.1875, \n",
      "=============================================================\n"
     ]
    },
    {
     "name": "stdout",
     "output_type": "stream",
     "text": [
      "Patience (3) exhausted\n"
     ]
    }
   ],
   "source": [
    "###################################\n",
    "# train\n",
    "###################################\n",
    "jig = PTN_Train_Eval_Test_Jig(model, p.BEST_MODEL_PATH, p.device)\n",
    "\n",
    "jig.train(\n",
    "    train_iterable=datasets.source.processed.train,\n",
    "    source_val_iterable=datasets.source.processed.val,\n",
    "    target_val_iterable=datasets.target.processed.val,\n",
    "    num_epochs=p.n_epoch,\n",
    "    num_logs_per_epoch=p.NUM_LOGS_PER_EPOCH,\n",
    "    patience=p.patience,\n",
    "    optimizer=optimizer,\n",
    "    criteria_for_best=p.criteria_for_best,\n",
    ")"
   ]
  },
  {
   "cell_type": "code",
   "execution_count": 23,
   "id": "31e8fabf",
   "metadata": {
    "execution": {
     "iopub.execute_input": "2022-03-17T02:55:24.386508Z",
     "iopub.status.busy": "2022-03-17T02:55:24.386245Z",
     "iopub.status.idle": "2022-03-17T02:55:24.405761Z",
     "shell.execute_reply": "2022-03-17T02:55:24.405281Z"
    },
    "papermill": {
     "duration": 0.052439,
     "end_time": "2022-03-17T02:55:24.405854",
     "exception": false,
     "start_time": "2022-03-17T02:55:24.353415",
     "status": "completed"
    },
    "tags": []
   },
   "outputs": [],
   "source": [
    "total_experiment_time_secs = time.time() - start_time_secs"
   ]
  },
  {
   "cell_type": "code",
   "execution_count": 24,
   "id": "87b9595b",
   "metadata": {
    "execution": {
     "iopub.execute_input": "2022-03-17T02:55:24.476336Z",
     "iopub.status.busy": "2022-03-17T02:55:24.476039Z",
     "iopub.status.idle": "2022-03-17T02:56:30.958172Z",
     "shell.execute_reply": "2022-03-17T02:56:30.957766Z"
    },
    "papermill": {
     "duration": 66.518178,
     "end_time": "2022-03-17T02:56:30.958281",
     "exception": false,
     "start_time": "2022-03-17T02:55:24.440103",
     "status": "completed"
    },
    "tags": []
   },
   "outputs": [],
   "source": [
    "###################################\n",
    "# Evaluate the model\n",
    "###################################\n",
    "source_test_label_accuracy, source_test_label_loss = jig.test(datasets.source.processed.test)\n",
    "target_test_label_accuracy, target_test_label_loss = jig.test(datasets.target.processed.test)\n",
    "\n",
    "source_val_label_accuracy, source_val_label_loss = jig.test(datasets.source.processed.val)\n",
    "target_val_label_accuracy, target_val_label_loss = jig.test(datasets.target.processed.val)\n",
    "\n",
    "history = jig.get_history()\n",
    "\n",
    "total_epochs_trained = len(history[\"epoch_indices\"])\n",
    "\n",
    "val_dl = Iterable_Aggregator((datasets.source.original.val,datasets.target.original.val))\n",
    "\n",
    "confusion = ptn_confusion_by_domain_over_dataloader(model, p.device, val_dl)\n",
    "per_domain_accuracy = per_domain_accuracy_from_confusion(confusion)\n",
    "\n",
    "# Add a key to per_domain_accuracy for if it was a source domain\n",
    "for domain, accuracy in per_domain_accuracy.items():\n",
    "    per_domain_accuracy[domain] = {\n",
    "        \"accuracy\": accuracy,\n",
    "        \"source?\": domain in p.domains_source\n",
    "    }\n",
    "\n",
    "# Do an independent accuracy assesment JUST TO BE SURE!\n",
    "# _source_test_label_accuracy = independent_accuracy_assesment(model, datasets.source.processed.test, p.device)\n",
    "# _target_test_label_accuracy = independent_accuracy_assesment(model, datasets.target.processed.test, p.device)\n",
    "# _source_val_label_accuracy = independent_accuracy_assesment(model, datasets.source.processed.val, p.device)\n",
    "# _target_val_label_accuracy = independent_accuracy_assesment(model, datasets.target.processed.val, p.device)\n",
    "\n",
    "# assert(_source_test_label_accuracy == source_test_label_accuracy)\n",
    "# assert(_target_test_label_accuracy == target_test_label_accuracy)\n",
    "# assert(_source_val_label_accuracy == source_val_label_accuracy)\n",
    "# assert(_target_val_label_accuracy == target_val_label_accuracy)\n",
    "\n",
    "experiment = {\n",
    "    \"experiment_name\": p.experiment_name,\n",
    "    \"parameters\": dict(p),\n",
    "    \"results\": {\n",
    "        \"source_test_label_accuracy\": source_test_label_accuracy,\n",
    "        \"source_test_label_loss\": source_test_label_loss,\n",
    "        \"target_test_label_accuracy\": target_test_label_accuracy,\n",
    "        \"target_test_label_loss\": target_test_label_loss,\n",
    "        \"source_val_label_accuracy\": source_val_label_accuracy,\n",
    "        \"source_val_label_loss\": source_val_label_loss,\n",
    "        \"target_val_label_accuracy\": target_val_label_accuracy,\n",
    "        \"target_val_label_loss\": target_val_label_loss,\n",
    "        \"total_epochs_trained\": total_epochs_trained,\n",
    "        \"total_experiment_time_secs\": total_experiment_time_secs,\n",
    "        \"confusion\": confusion,\n",
    "        \"per_domain_accuracy\": per_domain_accuracy,\n",
    "    },\n",
    "    \"history\": history,\n",
    "    \"dataset_metrics\": get_dataset_metrics(datasets, \"ptn\"),\n",
    "}"
   ]
  },
  {
   "cell_type": "code",
   "execution_count": 25,
   "id": "54a21829",
   "metadata": {
    "execution": {
     "iopub.execute_input": "2022-03-17T02:56:31.024642Z",
     "iopub.status.busy": "2022-03-17T02:56:31.024387Z",
     "iopub.status.idle": "2022-03-17T02:56:31.147462Z",
     "shell.execute_reply": "2022-03-17T02:56:31.147034Z"
    },
    "papermill": {
     "duration": 0.155129,
     "end_time": "2022-03-17T02:56:31.147570",
     "exception": false,
     "start_time": "2022-03-17T02:56:30.992441",
     "status": "completed"
    },
    "tags": []
   },
   "outputs": [
    {
     "data": {
      "image/png": "[encoded data removed]",
      "text/plain": [
       "<Figure size 1080x504 with 1 Axes>"
      ]
     },
     "metadata": {
      "needs_background": "light"
     },
     "output_type": "display_data"
    }
   ],
   "source": [
    "ax = get_loss_curve(experiment)\n",
    "plt.show()"
   ]
  },
  {
   "cell_type": "code",
   "execution_count": 26,
   "id": "fd8a0f60",
   "metadata": {
    "execution": {
     "iopub.execute_input": "2022-03-17T02:56:31.214466Z",
     "iopub.status.busy": "2022-03-17T02:56:31.213361Z",
     "iopub.status.idle": "2022-03-17T02:56:31.359447Z",
     "shell.execute_reply": "2022-03-17T02:56:31.359762Z"
    },
    "papermill": {
     "duration": 0.177702,
     "end_time": "2022-03-17T02:56:31.359868",
     "exception": false,
     "start_time": "2022-03-17T02:56:31.182166",
     "status": "completed"
    },
    "tags": []
   },
   "outputs": [
    {
     "data": {
      "text/plain": [
       "<AxesSubplot:title={'center':'Results'}>"
      ]
     },
     "execution_count": 26,
     "metadata": {},
     "output_type": "execute_result"
    },
    {
     "data": {
      "image/png": "[encoded data removed]",
      "text/plain": [
       "<Figure size 1080x504 with 1 Axes>"
      ]
     },
     "metadata": {
      "needs_background": "light"
     },
     "output_type": "display_data"
    }
   ],
   "source": [
    "get_results_table(experiment)"
   ]
  },
  {
   "cell_type": "code",
   "execution_count": 27,
   "id": "cf8dc689",
   "metadata": {
    "execution": {
     "iopub.execute_input": "2022-03-17T02:56:31.430319Z",
     "iopub.status.busy": "2022-03-17T02:56:31.430065Z",
     "iopub.status.idle": "2022-03-17T02:56:31.592069Z",
     "shell.execute_reply": "2022-03-17T02:56:31.591579Z"
    },
    "papermill": {
     "duration": 0.197312,
     "end_time": "2022-03-17T02:56:31.592173",
     "exception": false,
     "start_time": "2022-03-17T02:56:31.394861",
     "status": "completed"
    },
    "tags": []
   },
   "outputs": [
    {
     "data": {
      "text/plain": [
       "<AxesSubplot:title={'center':'Per Domain Validation Accuracy'}, xlabel='domain'>"
      ]
     },
     "execution_count": 27,
     "metadata": {},
     "output_type": "execute_result"
    },
    {
     "data": {
      "image/png": "[encoded data removed]",
      "text/plain": [
       "<Figure size 1080x504 with 1 Axes>"
      ]
     },
     "metadata": {
      "needs_background": "light"
     },
     "output_type": "display_data"
    }
   ],
   "source": [
    "get_domain_accuracies(experiment)"
   ]
  },
  {
   "cell_type": "code",
   "execution_count": 28,
   "id": "a74ae082",
   "metadata": {
    "execution": {
     "iopub.execute_input": "2022-03-17T02:56:31.667842Z",
     "iopub.status.busy": "2022-03-17T02:56:31.664135Z",
     "iopub.status.idle": "2022-03-17T02:56:31.678384Z",
     "shell.execute_reply": "2022-03-17T02:56:31.677963Z"
    },
    "papermill": {
     "duration": 0.050239,
     "end_time": "2022-03-17T02:56:31.678483",
     "exception": false,
     "start_time": "2022-03-17T02:56:31.628244",
     "status": "completed"
    },
    "tags": []
   },
   "outputs": [
    {
     "name": "stdout",
     "output_type": "stream",
     "text": [
      "Source Test Label Accuracy: 0.8913736979166667 Target Test Label Accuracy: 0.7358732876712328\n",
      "Source Val Label Accuracy: 0.89033203125 Target Val Label Accuracy: 0.7360873287671232\n"
     ]
    }
   ],
   "source": [
    "print(\"Source Test Label Accuracy:\", experiment[\"results\"][\"source_test_label_accuracy\"], \"Target Test Label Accuracy:\", experiment[\"results\"][\"target_test_label_accuracy\"])\n",
    "print(\"Source Val Label Accuracy:\", experiment[\"results\"][\"source_val_label_accuracy\"], \"Target Val Label Accuracy:\", experiment[\"results\"][\"target_val_label_accuracy\"])"
   ]
  },
  {
   "cell_type": "code",
   "execution_count": 29,
   "id": "dacca602",
   "metadata": {
    "execution": {
     "iopub.execute_input": "2022-03-17T02:56:31.750099Z",
     "iopub.status.busy": "2022-03-17T02:56:31.749847Z",
     "iopub.status.idle": "2022-03-17T02:56:31.769371Z",
     "shell.execute_reply": "2022-03-17T02:56:31.769765Z"
    },
    "papermill": {
     "duration": 0.054276,
     "end_time": "2022-03-17T02:56:31.769890",
     "exception": false,
     "start_time": "2022-03-17T02:56:31.715614",
     "status": "completed"
    },
    "tags": [
     "experiment_json"
    ]
   },
   "outputs": [
    {
     "data": {
      "text/plain": [
       "'{\"experiment_name\": \"oracle.run1.framed -> cores+wisig\", \"parameters\": {\"experiment_name\": \"oracle.run1.framed -> cores+wisig\", \"device\": \"cuda\", \"lr\": 0.001, \"seed\": 1337, \"dataset_seed\": 1337, \"n_shot\": 3, \"n_query\": 2, \"train_k_factor\": 3, \"val_k_factor\": 2, \"test_k_factor\": 2, \"torch_default_dtype\": \"torch.float32\", \"n_epoch\": 50, \"patience\": 3, \"criteria_for_best\": \"target_loss\", \"x_net\": [{\"class\": \"nnReshape\", \"kargs\": {\"shape\": [-1, 1, 2, 256]}}, {\"class\": \"Conv2d\", \"kargs\": {\"in_channels\": 1, \"out_channels\": 256, \"kernel_size\": [1, 7], \"bias\": false, \"padding\": [0, 3]}}, {\"class\": \"ReLU\", \"kargs\": {\"inplace\": true}}, {\"class\": \"BatchNorm2d\", \"kargs\": {\"num_features\": 256}}, {\"class\": \"Conv2d\", \"kargs\": {\"in_channels\": 256, \"out_channels\": 80, \"kernel_size\": [2, 7], \"bias\": true, \"padding\": [0, 3]}}, {\"class\": \"ReLU\", \"kargs\": {\"inplace\": true}}, {\"class\": \"BatchNorm2d\", \"kargs\": {\"num_features\": 80}}, {\"class\": \"Flatten\", \"kargs\": {}}, {\"class\": \"Linear\", \"kargs\": {\"in_features\": 20480, \"out_features\": 256}}, {\"class\": \"ReLU\", \"kargs\": {\"inplace\": true}}, {\"class\": \"BatchNorm1d\", \"kargs\": {\"num_features\": 256}}, {\"class\": \"Linear\", \"kargs\": {\"in_features\": 256, \"out_features\": 256}}], \"NUM_LOGS_PER_EPOCH\": 10, \"BEST_MODEL_PATH\": \"./best_model.pth\", \"n_way\": 16, \"datasets\": [{\"labels\": [\"1-10.\", \"1-11.\", \"1-15.\", \"1-16.\", \"1-17.\", \"1-18.\", \"1-19.\", \"10-4.\", \"10-7.\", \"11-1.\", \"11-14.\", \"11-17.\", \"11-20.\", \"11-7.\", \"13-20.\", \"13-8.\", \"14-10.\", \"14-11.\", \"14-14.\", \"14-7.\", \"15-1.\", \"15-20.\", \"16-1.\", \"16-16.\", \"17-10.\", \"17-11.\", \"17-2.\", \"19-1.\", \"19-16.\", \"19-19.\", \"19-20.\", \"19-3.\", \"2-10.\", \"2-11.\", \"2-17.\", \"2-18.\", \"2-20.\", \"2-3.\", \"2-4.\", \"2-5.\", \"2-6.\", \"2-7.\", \"2-8.\", \"3-13.\", \"3-18.\", \"3-3.\", \"4-1.\", \"4-10.\", \"4-11.\", \"4-19.\", \"5-5.\", \"6-15.\", \"7-10.\", \"7-14.\", \"8-18.\", \"8-20.\", \"8-3.\", \"8-8.\"], \"domains\": [1, 2, 3, 4, 5], \"num_examples_per_domain_per_label\": 100, \"pickle_path\": \"/mnt/wd500GB/CSC500/csc500-main/datasets/cores.stratified_ds.2022A.pkl\", \"source_or_target_dataset\": \"target\", \"x_transforms\": [], \"episode_transforms\": [], \"domain_prefix\": \"C_A_\"}, {\"labels\": [\"1-10\", \"1-12\", \"1-14\", \"1-16\", \"1-18\", \"1-19\", \"1-8\", \"10-11\", \"10-17\", \"10-4\", \"10-7\", \"11-1\", \"11-10\", \"11-19\", \"11-20\", \"11-4\", \"11-7\", \"12-19\", \"12-20\", \"12-7\", \"13-14\", \"13-18\", \"13-19\", \"13-20\", \"13-3\", \"13-7\", \"14-10\", \"14-11\", \"14-12\", \"14-13\", \"14-14\", \"14-19\", \"14-20\", \"14-7\", \"14-8\", \"14-9\", \"15-1\", \"15-19\", \"15-6\", \"16-1\", \"16-16\", \"16-19\", \"16-20\", \"17-10\", \"17-11\", \"18-1\", \"18-10\", \"18-11\", \"18-12\", \"18-13\", \"18-14\", \"18-15\", \"18-16\", \"18-17\", \"18-19\", \"18-2\", \"18-20\", \"18-4\", \"18-5\", \"18-7\", \"18-8\", \"18-9\", \"19-1\", \"19-10\", \"19-11\", \"19-12\", \"19-13\", \"19-14\", \"19-15\", \"19-19\", \"19-2\", \"19-20\", \"19-3\", \"19-4\", \"19-6\", \"19-7\", \"19-8\", \"19-9\", \"2-1\", \"2-13\", \"2-15\", \"2-3\", \"2-4\", \"2-5\", \"2-6\", \"2-7\", \"2-8\", \"20-1\", \"20-12\", \"20-14\", \"20-15\", \"20-16\", \"20-18\", \"20-19\", \"20-20\", \"20-3\", \"20-4\", \"20-5\", \"20-7\", \"20-8\", \"3-1\", \"3-13\", \"3-18\", \"3-2\", \"3-8\", \"4-1\", \"4-10\", \"4-11\", \"5-1\", \"5-5\", \"6-1\", \"6-15\", \"6-6\", \"7-10\", \"7-11\", \"7-12\", \"7-13\", \"7-14\", \"7-7\", \"7-8\", \"7-9\", \"8-1\", \"8-13\", \"8-14\", \"8-18\", \"8-20\", \"8-3\", \"8-8\", \"9-1\", \"9-7\"], \"domains\": [1, 2, 3, 4], \"num_examples_per_domain_per_label\": 100, \"pickle_path\": \"/mnt/wd500GB/CSC500/csc500-main/datasets/wisig.node3-19.stratified_ds.2022A.pkl\", \"source_or_target_dataset\": \"target\", \"x_transforms\": [], \"episode_transforms\": [], \"domain_prefix\": \"W_A_\"}, {\"labels\": [\"3123D52\", \"3123D65\", \"3123D79\", \"3123D80\", \"3123D54\", \"3123D70\", \"3123D7B\", \"3123D89\", \"3123D58\", \"3123D76\", \"3123D7D\", \"3123EFE\", \"3123D64\", \"3123D78\", \"3123D7E\", \"3124E4A\"], \"domains\": [32, 38, 8, 44, 14, 50, 20, 26], \"num_examples_per_domain_per_label\": 2000, \"pickle_path\": \"/mnt/wd500GB/CSC500/csc500-main/datasets/oracle.Run1_framed_2000Examples_stratified_ds.2022A.pkl\", \"source_or_target_dataset\": \"source\", \"x_transforms\": [], \"episode_transforms\": [], \"domain_prefix\": \"ORACLE.run1_\"}], \"domains_source\": [\"ORACLE.run1_32\", \"ORACLE.run1_38\", \"ORACLE.run1_8\", \"ORACLE.run1_44\", \"ORACLE.run1_14\", \"ORACLE.run1_50\", \"ORACLE.run1_20\", \"ORACLE.run1_26\"], \"domains_target\": [\"C_A_1\", \"C_A_2\", \"C_A_3\", \"C_A_4\", \"C_A_5\", \"W_A_1\", \"W_A_2\", \"W_A_3\", \"W_A_4\"]}, \"results\": {\"source_test_label_accuracy\": 0.8913736979166667, \"source_test_label_loss\": 0.3165307343006134, \"target_test_label_accuracy\": 0.7358732876712328, \"target_test_label_loss\": 42163.37109375, \"source_val_label_accuracy\": 0.89033203125, \"source_val_label_loss\": 0.31475213170051575, \"target_val_label_accuracy\": 0.7360873287671232, \"target_val_label_loss\": 39696.5703125, \"total_epochs_trained\": 7, \"total_experiment_time_secs\": 1292.94691157341, \"confusion\": {\"ORACLE.run1_14\": {\"15\": {\"15\": 240}, \"3\": {\"3\": 240}, \"6\": {\"6\": 174, \"13\": 61, \"14\": 5}, \"1\": {\"1\": 240}, \"8\": {\"8\": 240}, \"10\": {\"10\": 240}, \"9\": {\"9\": 240}, \"13\": {\"14\": 68, \"13\": 61, \"6\": 91, \"15\": 16, \"2\": 4}, \"12\": {\"12\": 240}, \"5\": {\"5\": 193, \"4\": 40, \"2\": 5, \"3\": 2}, \"0\": {\"0\": 233, \"3\": 6, \"10\": 1}, \"2\": {\"2\": 147, \"6\": 10, \"5\": 29, \"4\": 7, \"14\": 36, \"13\": 8, \"3\": 3}, \"11\": {\"11\": 240}, \"14\": {\"14\": 205, \"6\": 7, \"2\": 9, \"13\": 18, \"3\": 1}, \"7\": {\"7\": 240}, \"4\": {\"4\": 223, \"5\": 16, \"2\": 1}}, \"ORACLE.run1_20\": {\"3\": {\"3\": 186, \"1\": 10, \"9\": 35, \"0\": 1, \"5\": 3, \"8\": 4, \"2\": 1}, \"15\": {\"12\": 8, \"15\": 203, \"1\": 23, \"5\": 3, \"13\": 3}, \"8\": {\"8\": 233, \"3\": 5, \"14\": 2}, \"4\": {\"4\": 240}, \"14\": {\"8\": 2, \"14\": 236, \"6\": 2}, \"0\": {\"0\": 232, \"3\": 1, \"5\": 6, \"8\": 1}, \"7\": {\"2\": 32, \"7\": 196, \"9\": 9, \"3\": 1, \"12\": 2}, \"6\": {\"6\": 239, \"14\": 1}, \"10\": {\"10\": 240}, \"5\": {\"1\": 30, \"5\": 202, \"3\": 8}, \"2\": {\"2\": 158, \"7\": 26, \"12\": 25, \"9\": 28, \"13\": 2, \"15\": 1}, \"12\": {\"12\": 199, \"1\": 5, \"9\": 8, \"15\": 5, \"4\": 1, \"2\": 22}, \"9\": {\"9\": 171, \"2\": 24, \"1\": 4, \"3\": 32, \"7\": 5, \"12\": 4}, \"1\": {\"1\": 186, \"5\": 38, \"9\": 6, \"15\": 7, \"3\": 1, \"12\": 2}, \"11\": {\"11\": 240}, \"13\": {\"13\": 233, \"2\": 6, \"15\": 1}}, \"ORACLE.run1_38\": {\"5\": {\"8\": 68, \"5\": 149, \"7\": 13, \"9\": 7, \"0\": 1, \"13\": 1, \"15\": 1}, \"8\": {\"5\": 57, \"8\": 169, \"0\": 3, \"7\": 7, \"15\": 4}, \"11\": {\"11\": 236, \"0\": 1, \"3\": 3}, \"1\": {\"1\": 240}, \"10\": {\"10\": 224, \"11\": 1, \"13\": 12, \"0\": 3}, \"15\": {\"15\": 234, \"1\": 3, \"5\": 3}, \"3\": {\"3\": 240}, \"7\": {\"7\": 235, \"0\": 2, \"5\": 3}, \"4\": {\"4\": 240}, \"14\": {\"14\": 224, \"2\": 16}, \"9\": {\"9\": 237, \"5\": 3}, \"12\": {\"12\": 240}, \"6\": {\"6\": 240}, \"2\": {\"2\": 230, \"14\": 9, \"13\": 1}, \"0\": {\"0\": 185, \"8\": 4, \"7\": 13, \"10\": 16, \"3\": 10, \"11\": 2, \"13\": 8, \"5\": 2}, \"13\": {\"13\": 229, \"10\": 7, \"0\": 2, \"2\": 2}}, \"ORACLE.run1_8\": {\"9\": {\"9\": 240}, \"10\": {\"10\": 213, \"13\": 24, \"4\": 3}, \"13\": {\"13\": 206, \"10\": 27, \"6\": 5, \"7\": 2}, \"0\": {\"0\": 240}, \"1\": {\"1\": 228, \"10\": 1, \"5\": 3, \"11\": 8}, \"15\": {\"15\": 219, \"12\": 21}, \"5\": {\"5\": 210, \"1\": 16, \"10\": 12, \"4\": 1, \"13\": 1}, \"3\": {\"3\": 240}, \"6\": {\"6\": 210, \"7\": 27, \"4\": 2, \"13\": 1}, \"11\": {\"11\": 212, \"1\": 23, \"14\": 5}, \"8\": {\"8\": 240}, \"4\": {\"4\": 234, \"6\": 2, \"10\": 1, \"14\": 3}, \"12\": {\"12\": 178, \"15\": 62}, \"14\": {\"14\": 224, \"4\": 13, \"1\": 2, \"11\": 1}, \"2\": {\"3\": 21, \"2\": 215, \"15\": 2, \"12\": 2}, \"7\": {\"7\": 207, \"6\": 33}}, \"ORACLE.run1_50\": {\"7\": {\"5\": 7, \"7\": 233}, \"3\": {\"3\": 240}, \"8\": {\"8\": 238, \"10\": 2}, \"2\": {\"2\": 222, \"0\": 18}, \"14\": {\"14\": 240}, \"4\": {\"4\": 208, \"5\": 16, \"7\": 9, \"6\": 3, \"15\": 4}, \"6\": {\"6\": 214, \"15\": 4, \"5\": 22}, \"15\": {\"15\": 225, \"6\": 8, \"11\": 4, \"4\": 2, \"5\": 1}, \"10\": {\"10\": 231, \"0\": 3, \"8\": 6}, \"11\": {\"11\": 227, \"15\": 2, \"12\": 4, \"9\": 7}, \"13\": {\"13\": 240}, \"9\": {\"11\": 16, \"9\": 218, \"12\": 6}, \"0\": {\"0\": 221, \"10\": 4, \"2\": 15}, \"1\": {\"1\": 239, \"13\": 1}, \"12\": {\"12\": 233, \"9\": 7}, \"5\": {\"5\": 142, \"4\": 16, \"7\": 43, \"6\": 24, \"1\": 6, \"13\": 4, \"15\": 5}}, \"ORACLE.run1_32\": {\"8\": {\"8\": 213, \"0\": 21, \"14\": 2, \"5\": 4}, \"14\": {\"14\": 194, \"7\": 18, \"0\": 22, \"4\": 2, \"8\": 1, \"5\": 3}, \"2\": {\"2\": 206, \"4\": 34}, \"0\": {\"0\": 216, \"7\": 7, \"8\": 12, \"14\": 5}, \"1\": {\"1\": 240}, \"10\": {\"10\": 240}, \"11\": {\"11\": 240}, \"5\": {\"7\": 56, \"5\": 167, \"8\": 11, \"0\": 5, \"14\": 1}, \"15\": {\"15\": 240}, \"3\": {\"3\": 230, \"13\": 10}, \"12\": {\"12\": 240}, \"7\": {\"7\": 183, \"14\": 7, \"5\": 40, \"0\": 9, \"2\": 1}, \"13\": {\"13\": 197, \"4\": 18, \"3\": 25}, \"6\": {\"6\": 240}, \"4\": {\"2\": 39, \"4\": 200, \"13\": 1}, \"9\": {\"9\": 240}}, \"ORACLE.run1_26\": {\"4\": {\"4\": 240}, \"12\": {\"12\": 240}, \"10\": {\"14\": 28, \"10\": 167, \"6\": 3, \"0\": 40, \"1\": 1, \"15\": 1}, \"0\": {\"0\": 163, \"14\": 30, \"10\": 45, \"2\": 1, \"8\": 1}, \"13\": {\"2\": 14, \"13\": 221, \"9\": 5}, \"9\": {\"9\": 209, \"13\": 5, \"8\": 23, \"2\": 3}, \"3\": {\"3\": 217, \"2\": 5, \"7\": 18}, \"2\": {\"2\": 178, \"3\": 22, \"7\": 33, \"9\": 4, \"8\": 1, \"13\": 1, \"0\": 1}, \"5\": {\"5\": 222, \"15\": 18}, \"14\": {\"14\": 163, \"10\": 35, \"1\": 11, \"0\": 30, \"6\": 1}, \"8\": {\"7\": 40, \"8\": 180, \"9\": 18, \"0\": 1, \"2\": 1}, \"7\": {\"8\": 24, \"7\": 181, \"3\": 9, \"2\": 24, \"9\": 2}, \"6\": {\"6\": 220, \"15\": 16, \"10\": 4}, \"11\": {\"11\": 240}, \"15\": {\"15\": 195, \"5\": 24, \"0\": 2, \"6\": 14, \"10\": 5}, \"1\": {\"1\": 210, \"14\": 25, \"0\": 2, \"10\": 3}}, \"ORACLE.run1_44\": {\"12\": {\"12\": 234, \"3\": 6}, \"7\": {\"7\": 209, \"9\": 30, \"10\": 1}, \"5\": {\"5\": 219, \"14\": 6, \"15\": 13, \"0\": 1, \"4\": 1}, \"15\": {\"15\": 215, \"14\": 9, \"5\": 3, \"8\": 10, \"0\": 2, \"4\": 1}, \"8\": {\"0\": 82, \"8\": 151, \"15\": 6, \"5\": 1}, \"2\": {\"2\": 230, \"1\": 8, \"10\": 2}, \"13\": {\"6\": 54, \"13\": 173, \"9\": 12, \"11\": 1}, \"4\": {\"4\": 162, \"14\": 77, \"5\": 1}, \"0\": {\"0\": 211, \"8\": 29}, \"6\": {\"9\": 18, \"6\": 195, \"13\": 27}, \"9\": {\"9\": 122, \"7\": 69, \"6\": 19, \"13\": 27, \"4\": 3}, \"11\": {\"11\": 239, \"13\": 1}, \"10\": {\"10\": 213, \"1\": 9, \"2\": 12, \"7\": 6}, \"14\": {\"4\": 82, \"14\": 147, \"5\": 8, \"15\": 3}, \"1\": {\"1\": 233, \"2\": 7}, \"3\": {\"3\": 237, \"12\": 3}}, \"C_A_3\": {\"43\": {\"37\": 1, \"43\": 8, \"55\": 1, \"24\": 1, \"34\": 1}, \"9\": {\"9\": 10, \"41\": 2}, \"6\": {\"3\": 3, \"6\": 6, \"50\": 1}, \"3\": {\"46\": 1, \"6\": 2, \"3\": 9}, \"16\": {\"16\": 12}, \"51\": {\"51\": 10, \"34\": 1, \"42\": 1}, \"31\": {\"31\": 10, \"49\": 1, \"7\": 1}, \"46\": {\"46\": 6, \"44\": 2, \"50\": 2}, \"19\": {\"19\": 8}, \"8\": {\"9\": 1, \"8\": 10, \"48\": 1}, \"18\": {\"18\": 12}, \"37\": {\"14\": 3, \"37\": 2, \"57\": 2, \"39\": 1, \"35\": 2, \"13\": 2}, \"24\": {\"24\": 10, \"43\": 2}, \"10\": {\"10\": 12}, \"44\": {\"44\": 10}, \"14\": {\"14\": 2, \"9\": 1, \"56\": 1, \"35\": 2, \"33\": 2, \"13\": 2, \"39\": 2}, \"38\": {\"38\": 9, \"34\": 1}, \"53\": {\"53\": 12}, \"20\": {\"20\": 12}, \"32\": {\"32\": 11, \"37\": 1}, \"36\": {\"36\": 10}, \"33\": {\"33\": 11, \"41\": 1}, \"56\": {\"56\": 12}, \"23\": {\"23\": 10, \"51\": 1, \"17\": 1}, \"54\": {\"54\": 10}, \"34\": {\"38\": 2, \"2\": 2, \"42\": 3, \"34\": 3, \"55\": 1, \"37\": 1}, \"13\": {\"13\": 10, \"14\": 2}, \"2\": {\"34\": 2, \"2\": 9, \"26\": 1}, \"55\": {\"43\": 1, \"34\": 3, \"7\": 2, \"55\": 3, \"2\": 1}, \"21\": {\"21\": 8, \"45\": 1, \"44\": 1}, \"49\": {\"49\": 4, \"13\": 2, \"14\": 1, \"7\": 2, \"35\": 1}, \"25\": {\"25\": 10, \"16\": 2}, \"5\": {\"5\": 12}, \"50\": {\"50\": 8}, \"40\": {\"40\": 11, \"44\": 1}, \"57\": {\"57\": 5, \"29\": 1, \"33\": 1, \"1\": 1}, \"22\": {\"22\": 10}, \"1\": {\"1\": 10}, \"17\": {\"17\": 12}, \"41\": {\"1\": 2, \"41\": 6, \"48\": 2, \"29\": 1, \"27\": 1}, \"4\": {\"4\": 7, \"41\": 1, \"8\": 1, \"9\": 1}, \"7\": {\"7\": 3, \"42\": 1, \"13\": 2, \"1\": 1, \"34\": 1, \"35\": 1, \"22\": 1}, \"26\": {\"26\": 10}, \"29\": {\"57\": 1, \"29\": 10, \"41\": 1}, \"52\": {\"52\": 12}, \"15\": {\"15\": 11, \"11\": 1}, \"35\": {\"35\": 8, \"33\": 2, \"29\": 2}, \"42\": {\"23\": 1, \"42\": 10, \"34\": 1}, \"30\": {\"30\": 10}, \"27\": {\"27\": 8}, \"45\": {\"45\": 9, \"21\": 1}, \"0\": {\"0\": 12}, \"28\": {\"28\": 12}, \"47\": {\"47\": 12}, \"11\": {\"11\": 10}, \"39\": {\"39\": 9, \"35\": 1}, \"48\": {\"48\": 6, \"4\": 3, \"47\": 1, \"8\": 2}, \"12\": {\"12\": 8}}, \"C_A_4\": {\"35\": {\"14\": 1, \"35\": 6, \"39\": 2, \"27\": 1}, \"25\": {\"25\": 12}, \"24\": {\"24\": 9, \"43\": 1}, \"48\": {\"9\": 7, \"4\": 1, \"48\": 4}, \"51\": {\"51\": 11, \"54\": 1}, \"13\": {\"13\": 11, \"37\": 1}, \"14\": {\"14\": 3, \"0\": 1, \"39\": 1, \"35\": 2, \"2\": 1}, \"32\": {\"32\": 4, \"17\": 3, \"35\": 2, \"7\": 2, \"27\": 1}, \"30\": {\"30\": 11, \"21\": 1}, \"34\": {\"34\": 4, \"32\": 2, \"19\": 2, \"42\": 1, \"26\": 1}, \"9\": {\"9\": 7, \"48\": 3, \"8\": 2}, \"1\": {\"1\": 9, \"47\": 3}, \"0\": {\"0\": 12}, \"38\": {\"13\": 4, \"38\": 4, \"39\": 2, \"29\": 1, \"27\": 1}, \"22\": {\"0\": 1, \"40\": 1, \"22\": 5, \"46\": 1}, \"40\": {\"40\": 12}, \"39\": {\"39\": 12}, \"46\": {\"46\": 10, \"44\": 1, \"5\": 1}, \"36\": {\"36\": 10, \"32\": 1, \"7\": 1}, \"50\": {\"50\": 8, \"6\": 3, \"3\": 1}, \"49\": {\"14\": 2, \"57\": 1, \"49\": 3, \"7\": 2, \"4\": 2, \"29\": 1, \"2\": 1}, \"17\": {\"17\": 12}, \"45\": {\"30\": 2, \"45\": 7, \"21\": 3}, \"6\": {\"6\": 9, \"50\": 3}, \"8\": {\"8\": 8, \"9\": 3, \"4\": 1}, \"5\": {\"5\": 10}, \"33\": {\"33\": 12}, \"31\": {\"31\": 9, \"23\": 2, \"19\": 1}, \"37\": {\"13\": 2, \"37\": 7, \"57\": 1}, \"47\": {\"47\": 5, \"1\": 3}, \"15\": {\"15\": 9, \"16\": 1}, \"7\": {\"35\": 1, \"7\": 2, \"51\": 2, \"13\": 3, \"49\": 1, \"36\": 1, \"2\": 2}, \"20\": {\"20\": 12}, \"4\": {\"4\": 11, \"9\": 1}, \"54\": {\"54\": 12}, \"44\": {\"44\": 12}, \"3\": {\"3\": 11, \"50\": 1}, \"11\": {\"11\": 6, \"10\": 1, \"16\": 1, \"15\": 2}, \"27\": {\"27\": 7, \"29\": 1, \"39\": 2}, \"19\": {\"19\": 10, \"55\": 1, \"31\": 1}, \"55\": {\"55\": 6, \"42\": 4, \"54\": 2}, \"16\": {\"16\": 12}, \"2\": {\"2\": 10}, \"52\": {\"52\": 10}, \"42\": {\"42\": 7, \"54\": 1, \"55\": 2}, \"26\": {\"26\": 10, \"28\": 1, \"55\": 1}, \"10\": {\"10\": 9, \"16\": 1, \"15\": 2}, \"53\": {\"28\": 1, \"53\": 7, \"26\": 2}, \"28\": {\"28\": 11, \"25\": 1}, \"21\": {\"21\": 10}, \"57\": {\"57\": 9, \"47\": 1}, \"23\": {\"23\": 8}, \"43\": {\"41\": 2, \"43\": 6, \"24\": 1, \"36\": 1}, \"12\": {\"12\": 11, \"45\": 1}, \"41\": {\"41\": 11, \"33\": 1}, \"56\": {\"56\": 8}, \"18\": {\"18\": 10}, \"29\": {\"29\": 8}}, \"W_A_3\": {\"109\": {\"109\": 12}, \"127\": {\"127\": 11, \"10\": 1}, \"14\": {\"84\": 4, \"14\": 6, \"93\": 2}, \"7\": {\"7\": 5, \"51\": 1, \"8\": 2, \"0\": 1, \"27\": 2, \"97\": 1}, \"129\": {\"129\": 12}, \"57\": {\"14\": 1, \"107\": 1, \"105\": 2, \"77\": 1, \"57\": 2, \"19\": 1, \"32\": 1, \"74\": 2, \"31\": 1}, \"84\": {\"84\": 9, \"93\": 1, \"0\": 1, \"30\": 1}, \"114\": {\"84\": 1, \"114\": 6, \"49\": 1, \"105\": 1, \"16\": 1, \"1\": 1, \"47\": 1}, \"44\": {\"107\": 1, \"44\": 9, \"32\": 2}, \"21\": {\"21\": 12}, \"46\": {\"46\": 11, \"91\": 1}, \"100\": {\"46\": 2, \"19\": 2, \"28\": 3, \"76\": 1, \"65\": 1, \"100\": 2, \"128\": 1}, \"63\": {\"63\": 8, \"35\": 1, \"6\": 1, \"89\": 1, \"75\": 1}, \"24\": {\"24\": 8, \"21\": 1, \"36\": 1, \"43\": 1, \"70\": 1}, \"107\": {\"107\": 9, \"84\": 1, \"33\": 1, \"1\": 1}, \"35\": {\"7\": 1, \"35\": 5, \"127\": 1, \"71\": 1, \"113\": 1, \"47\": 1}, \"81\": {\"81\": 9, \"64\": 1, \"61\": 2}, \"64\": {\"64\": 11, \"102\": 1}, \"59\": {\"109\": 1, \"59\": 11}, \"33\": {\"33\": 12}, \"34\": {\"34\": 6, \"41\": 1, \"20\": 2, \"99\": 1, \"75\": 1, \"18\": 1}, \"36\": {\"36\": 10, \"122\": 2}, \"79\": {\"79\": 8, \"80\": 1, \"115\": 1, \"120\": 1, \"102\": 1}, \"80\": {\"80\": 11, \"10\": 1}, \"77\": {\"77\": 9, \"66\": 1, \"100\": 1, \"42\": 1}, \"22\": {\"2\": 1, \"22\": 4, \"98\": 1, \"42\": 1, \"45\": 1, \"5\": 1, \"28\": 2, \"82\": 1}, \"124\": {\"77\": 1, \"124\": 10, \"85\": 1}, \"2\": {\"2\": 8, \"117\": 2, \"115\": 1, \"67\": 1}, \"87\": {\"87\": 7, \"36\": 1, \"11\": 1, \"122\": 2, \"70\": 1}, \"105\": {\"105\": 11, \"40\": 1}, \"95\": {\"97\": 1, \"56\": 1, \"34\": 1, \"15\": 1, \"95\": 7, \"65\": 1}, \"43\": {\"43\": 10, \"39\": 1, \"11\": 1}, \"56\": {\"56\": 9, \"99\": 1}, \"18\": {\"18\": 12}, \"85\": {\"46\": 2, \"85\": 4, \"98\": 1, \"41\": 1, \"50\": 1, \"5\": 1, \"73\": 1, \"66\": 1}, \"113\": {\"8\": 1, \"113\": 6, \"110\": 1, \"122\": 1, \"96\": 1, \"43\": 1, \"27\": 1}, \"97\": {\"110\": 1, \"97\": 7, \"7\": 1, \"27\": 1, \"8\": 1, \"21\": 1}, \"86\": {\"86\": 12}, \"128\": {\"56\": 2, \"128\": 5, \"53\": 1, \"61\": 1, \"19\": 1, \"107\": 1, \"32\": 1}, \"123\": {\"123\": 9, \"116\": 1, \"17\": 2}, \"8\": {\"8\": 5, \"110\": 1, \"126\": 2, \"0\": 2, \"87\": 2}, \"110\": {\"110\": 6, \"43\": 1, \"122\": 2, \"0\": 1, \"30\": 1, \"27\": 1}, \"126\": {\"8\": 1, \"43\": 1, \"108\": 2, \"110\": 2, \"118\": 2, \"122\": 2, \"39\": 1, \"36\": 1}, \"101\": {\"101\": 8, \"78\": 1, \"97\": 1, \"7\": 1, \"51\": 1}, \"115\": {\"45\": 2, \"115\": 8, \"103\": 1, \"29\": 1}, \"49\": {\"84\": 2, \"87\": 1, \"49\": 5, \"15\": 2, \"12\": 1, \"0\": 1}, \"45\": {\"45\": 9, \"82\": 1, \"115\": 1, \"103\": 1}, \"78\": {\"78\": 10, \"88\": 2}, \"65\": {\"65\": 4, \"47\": 2, \"100\": 2, \"55\": 1, \"81\": 1}, \"54\": {\"54\": 11, \"75\": 1}, \"31\": {\"31\": 6, \"57\": 1, \"127\": 1, \"89\": 1, \"76\": 1}, \"42\": {\"45\": 1, \"42\": 2, \"73\": 2, \"98\": 1, \"48\": 1, \"41\": 1, \"129\": 1, \"85\": 1, \"5\": 1, \"78\": 1}, \"68\": {\"68\": 12}, \"15\": {\"15\": 8, \"78\": 1, \"118\": 1, \"0\": 1, \"108\": 1}, \"69\": {\"69\": 11, \"1\": 1}, \"17\": {\"102\": 1, \"17\": 4, \"68\": 1, \"11\": 1, \"5\": 2, \"59\": 1}, \"73\": {\"73\": 6, \"41\": 1, \"112\": 1, \"104\": 1, \"85\": 1, \"124\": 1, \"25\": 1}, \"121\": {\"121\": 10, \"82\": 1, \"92\": 1}, \"102\": {\"102\": 12}, \"48\": {\"102\": 1, \"48\": 4, \"117\": 1, \"104\": 2, \"42\": 1, \"77\": 1, \"67\": 1, \"112\": 1}, \"23\": {\"23\": 3, \"21\": 1, \"43\": 1, \"122\": 1, \"15\": 1, \"87\": 1, \"14\": 2, \"8\": 2}, \"108\": {\"108\": 10, \"24\": 1, \"122\": 1}, \"53\": {\"53\": 5, \"74\": 1, \"28\": 1, \"71\": 1, \"33\": 1, \"9\": 1, \"107\": 2}, \"94\": {\"94\": 5, \"108\": 1, \"24\": 1, \"101\": 3}, \"41\": {\"73\": 1, \"41\": 8, \"112\": 2, \"91\": 1}, \"58\": {\"66\": 1, \"58\": 7, \"72\": 1, \"95\": 1, \"25\": 2}, \"29\": {\"29\": 10, \"121\": 1, \"81\": 1}, \"116\": {\"116\": 7, \"29\": 1, \"103\": 1, \"92\": 1, \"89\": 1, \"90\": 1}, \"60\": {\"78\": 2, \"16\": 1, \"10\": 1, \"113\": 1, \"122\": 1, \"43\": 1, \"60\": 4, \"12\": 1}, \"104\": {\"104\": 8, \"73\": 1, \"91\": 1, \"58\": 1, \"46\": 1}, \"106\": {\"106\": 8, \"101\": 1, \"35\": 1, \"51\": 2}, \"66\": {\"47\": 1, \"66\": 7, \"52\": 1, \"20\": 2, \"65\": 1}, \"47\": {\"47\": 7, \"99\": 2, \"35\": 1, \"3\": 1, \"56\": 1}, \"40\": {\"40\": 7, \"76\": 1, \"94\": 1, \"16\": 1, \"71\": 2}, \"82\": {\"121\": 1, \"82\": 8, \"36\": 1, \"29\": 1, \"89\": 1}, \"13\": {\"17\": 2, \"10\": 1, \"13\": 4, \"79\": 2, \"123\": 1, \"109\": 1, \"62\": 1}, \"19\": {\"19\": 10, \"128\": 1, \"55\": 1}, \"72\": {\"72\": 8, \"75\": 1, \"95\": 2, \"35\": 1}, \"9\": {\"9\": 8, \"72\": 1, \"99\": 1, \"51\": 1, \"77\": 1}, \"67\": {\"67\": 10, \"123\": 1, \"64\": 1}, \"11\": {\"11\": 12}, \"125\": {\"125\": 11, \"6\": 1}, \"76\": {\"76\": 8}, \"83\": {\"66\": 1, \"83\": 7, \"71\": 1, \"114\": 1, \"47\": 2}, \"74\": {\"74\": 9, \"54\": 1, \"31\": 1, \"53\": 1}, \"20\": {\"20\": 5, \"40\": 1, \"62\": 1, \"26\": 1, \"105\": 1, \"32\": 2, \"93\": 1}, \"119\": {\"119\": 7, \"115\": 1, \"129\": 2, \"48\": 1, \"82\": 1}, \"1\": {\"1\": 10, \"12\": 1, \"97\": 1}, \"16\": {\"16\": 11, \"0\": 1}, \"25\": {\"25\": 9, \"120\": 1, \"85\": 1, \"58\": 1}, \"90\": {\"28\": 1, \"90\": 5, \"50\": 1, \"116\": 1}, \"39\": {\"39\": 10, \"21\": 2}, \"28\": {\"33\": 1, \"28\": 4, \"74\": 1, \"53\": 1, \"100\": 2, \"20\": 2, \"44\": 1}, \"55\": {\"55\": 7, \"31\": 1, \"9\": 1, \"112\": 2, \"46\": 1}, \"117\": {\"117\": 8, \"92\": 1, \"14\": 1, \"2\": 2}, \"112\": {\"112\": 6, \"124\": 1, \"103\": 3, \"41\": 1, \"48\": 1}, \"38\": {\"38\": 6, \"105\": 4, \"127\": 2}, \"37\": {\"25\": 3, \"104\": 1, \"37\": 7, \"75\": 1}, \"120\": {\"48\": 1, \"120\": 5, \"31\": 1, \"5\": 1, \"65\": 1, \"85\": 1, \"92\": 2}, \"122\": {\"122\": 10, \"108\": 2}, \"50\": {\"50\": 10, \"100\": 1, \"83\": 1}, \"10\": {\"10\": 9, \"11\": 1, \"24\": 1, \"88\": 1}, \"5\": {\"5\": 11, \"103\": 1}, \"51\": {\"51\": 7, \"72\": 1, \"30\": 1, \"106\": 1, \"15\": 1, \"12\": 1}, \"3\": {\"20\": 1, \"70\": 1, \"1\": 1, \"12\": 1, \"3\": 6, \"47\": 1, \"108\": 1}, \"98\": {\"98\": 7, \"95\": 1, \"91\": 1, \"83\": 1, \"56\": 1, \"34\": 1}, \"70\": {\"70\": 10, \"109\": 2}, \"96\": {\"113\": 2, \"60\": 1, \"96\": 8, \"16\": 1}, \"12\": {\"12\": 7, \"113\": 1, \"8\": 1, \"108\": 1, \"51\": 1, \"0\": 1}, \"99\": {\"99\": 9, \"38\": 1, \"47\": 2}, \"52\": {\"52\": 7, \"46\": 1, \"83\": 2, \"47\": 1, \"98\": 1}, \"71\": {\"71\": 7, \"36\": 1, \"92\": 1, \"40\": 1, \"3\": 2}, \"89\": {\"89\": 10, \"92\": 1, \"76\": 1}, \"0\": {\"126\": 1, \"0\": 9, \"8\": 1, \"15\": 1}, \"4\": {\"4\": 6, \"119\": 2, \"88\": 1, \"43\": 1, \"79\": 1, \"8\": 1}, \"93\": {\"93\": 11, \"8\": 1}, \"6\": {\"6\": 7, \"125\": 1, \"37\": 2}, \"75\": {\"75\": 10, \"38\": 1, \"54\": 1}, \"62\": {\"62\": 10, \"118\": 1, \"10\": 1}, \"103\": {\"103\": 9, \"100\": 2, \"73\": 1}, \"30\": {\"30\": 10, \"27\": 1, \"36\": 1}, \"91\": {\"91\": 5, \"103\": 1, \"41\": 4, \"19\": 1, \"85\": 1}, \"27\": {\"30\": 2, \"27\": 6, \"70\": 1, \"24\": 2, \"11\": 1}, \"26\": {\"26\": 11, \"62\": 1}, \"61\": {\"61\": 11, \"81\": 1}, \"118\": {\"118\": 6, \"122\": 1, \"10\": 1, \"109\": 2, \"87\": 1, \"43\": 1}, \"92\": {\"92\": 12}, \"111\": {\"111\": 9, \"41\": 1, \"6\": 1, \"59\": 1}, \"32\": {\"32\": 10, \"28\": 1, \"20\": 1}, \"88\": {\"70\": 1, \"88\": 9}}, \"C_A_5\": {\"47\": {\"47\": 10}, \"53\": {\"53\": 12}, \"29\": {\"29\": 12}, \"52\": {\"52\": 11, \"57\": 1}, \"55\": {\"19\": 2, \"55\": 10}, \"17\": {\"17\": 12}, \"42\": {\"42\": 12}, \"33\": {\"33\": 8, \"32\": 2}, \"11\": {\"11\": 12}, \"19\": {\"19\": 8}, \"1\": {\"1\": 12}, \"44\": {\"44\": 11, \"40\": 1}, \"49\": {\"49\": 12}, \"4\": {\"4\": 12}, \"6\": {\"6\": 10, \"45\": 1, \"50\": 1}, \"39\": {\"39\": 11, \"27\": 1}, \"13\": {\"13\": 11, \"37\": 1}, \"5\": {\"5\": 10}, \"16\": {\"16\": 9, \"11\": 1}, \"25\": {\"25\": 12}, \"45\": {\"45\": 11, \"6\": 1}, \"7\": {\"7\": 9, \"49\": 1}, \"22\": {\"22\": 10, \"56\": 1, \"8\": 1}, \"40\": {\"40\": 10, \"5\": 1, \"44\": 1}, \"38\": {\"38\": 5, \"55\": 1, \"34\": 2, \"49\": 1, \"23\": 1, \"32\": 2}, \"35\": {\"13\": 1, \"35\": 4, \"14\": 1, \"29\": 1, \"36\": 1}, \"56\": {\"56\": 12}, \"50\": {\"50\": 10}, \"0\": {\"0\": 12}, \"10\": {\"10\": 12}, \"27\": {\"39\": 2, \"27\": 10}, \"20\": {\"20\": 9, \"30\": 1}, \"36\": {\"36\": 6, \"14\": 2}, \"34\": {\"34\": 12}, \"30\": {\"30\": 12}, \"2\": {\"2\": 5, \"29\": 1, \"13\": 1, \"43\": 2, \"36\": 1}, \"15\": {\"15\": 12}, \"18\": {\"18\": 12}, \"32\": {\"32\": 9, \"33\": 1, \"31\": 1, \"51\": 1}, \"31\": {\"31\": 7, \"49\": 1, \"23\": 1, \"42\": 1, \"54\": 2}, \"57\": {\"57\": 12}, \"48\": {\"1\": 1, \"48\": 5, \"8\": 2}, \"28\": {\"28\": 10}, \"14\": {\"14\": 9, \"8\": 1, \"29\": 2}, \"3\": {\"3\": 12}, \"8\": {\"8\": 12}, \"9\": {\"9\": 12}, \"21\": {\"21\": 10}, \"41\": {\"41\": 4, \"32\": 3, \"9\": 1, \"39\": 1, \"8\": 2, \"13\": 1}, \"24\": {\"24\": 10, \"54\": 1, \"49\": 1}, \"46\": {\"40\": 1, \"46\": 9}, \"43\": {\"29\": 2, \"43\": 5, \"13\": 1, \"14\": 1, \"36\": 1}, \"54\": {\"54\": 9, \"31\": 1}, \"23\": {\"23\": 10}, \"37\": {\"37\": 4, \"14\": 3, \"13\": 2, \"8\": 1}, \"12\": {\"12\": 10}, \"26\": {\"26\": 9, \"55\": 1}, \"51\": {\"51\": 6}}, \"C_A_1\": {\"46\": {\"46\": 9, \"6\": 3}, \"16\": {\"16\": 12}, \"26\": {\"26\": 12}, \"10\": {\"10\": 11, \"28\": 1}, \"9\": {\"9\": 8, \"1\": 1, \"2\": 1}, \"28\": {\"10\": 2, \"28\": 9, \"16\": 1}, \"51\": {\"42\": 1, \"51\": 8, \"37\": 1, \"7\": 1, \"41\": 1}, \"1\": {\"1\": 10, \"36\": 2}, \"55\": {\"33\": 4, \"55\": 3, \"37\": 1, \"32\": 1, \"49\": 1, \"47\": 1, \"38\": 1}, \"27\": {\"27\": 10}, \"22\": {\"22\": 10, \"57\": 1, \"0\": 1}, \"52\": {\"52\": 12}, \"3\": {\"3\": 12}, \"33\": {\"33\": 8}, \"47\": {\"47\": 12}, \"42\": {\"42\": 12}, \"12\": {\"12\": 4}, \"23\": {\"19\": 1, \"23\": 11}, \"49\": {\"49\": 10}, \"7\": {\"7\": 12}, \"4\": {\"4\": 12}, \"50\": {\"50\": 12}, \"19\": {\"19\": 10, \"26\": 2}, \"11\": {\"11\": 12}, \"31\": {\"31\": 10}, \"41\": {\"41\": 9, \"14\": 1, \"8\": 1, \"51\": 1}, \"56\": {\"56\": 10}, \"0\": {\"0\": 10, \"22\": 2}, \"57\": {\"57\": 12}, \"53\": {\"53\": 12}, \"43\": {\"47\": 2, \"43\": 6, \"24\": 1, \"49\": 3}, \"37\": {\"37\": 10, \"36\": 2}, \"2\": {\"2\": 7, \"8\": 1}, \"6\": {\"6\": 11, \"46\": 1}, \"18\": {\"18\": 12}, \"38\": {\"47\": 2, \"38\": 7, \"32\": 1, \"33\": 2}, \"15\": {\"15\": 12}, \"36\": {\"36\": 12}, \"39\": {\"47\": 1, \"39\": 3, \"38\": 2, \"49\": 1, \"33\": 1}, \"44\": {\"44\": 11, \"3\": 1}, \"8\": {\"8\": 12}, \"17\": {\"17\": 10}, \"5\": {\"5\": 12}, \"13\": {\"13\": 10}, \"40\": {\"40\": 10}, \"29\": {\"29\": 11, \"57\": 1}, \"48\": {\"48\": 10, \"57\": 2}, \"32\": {\"32\": 12}, \"30\": {\"30\": 12}, \"35\": {\"35\": 10, \"31\": 1, \"7\": 1}, \"25\": {\"25\": 12}, \"14\": {\"14\": 10, \"30\": 1, \"4\": 1}, \"54\": {\"54\": 9, \"17\": 1}, \"20\": {\"20\": 8}, \"21\": {\"21\": 10}, \"45\": {\"45\": 8}, \"24\": {\"41\": 2, \"24\": 6}, \"34\": {\"17\": 3, \"34\": 5}}, \"W_A_4\": {\"28\": {\"28\": 5, \"31\": 1, \"61\": 2, \"128\": 1, \"83\": 1, \"46\": 1, \"92\": 1}, \"4\": {\"4\": 11, \"86\": 1}, \"72\": {\"96\": 2, \"97\": 1, \"72\": 5, \"49\": 1, \"23\": 2, \"36\": 1}, \"111\": {\"111\": 11, \"48\": 1}, \"108\": {\"108\": 12}, \"43\": {\"43\": 7, \"7\": 1, \"15\": 1, \"122\": 1}, \"96\": {\"14\": 1, \"43\": 2, \"88\": 2, \"96\": 5, \"62\": 1, \"97\": 1}, \"89\": {\"89\": 7, \"16\": 1, \"1\": 1, \"85\": 1, \"60\": 1, \"53\": 1}, \"31\": {\"31\": 6, \"28\": 1, \"19\": 1, \"3\": 1, \"120\": 2, \"73\": 1}, \"45\": {\"45\": 10, \"19\": 1, \"50\": 1}, \"2\": {\"2\": 11, \"70\": 1}, \"114\": {\"114\": 10, \"3\": 1, \"32\": 1}, \"11\": {\"43\": 2, \"11\": 3, \"10\": 3, \"88\": 2, \"122\": 1, \"94\": 1}, \"12\": {\"12\": 9, \"27\": 1, \"101\": 1, \"108\": 1}, \"14\": {\"96\": 2, \"99\": 1, \"14\": 6, \"7\": 2, \"93\": 1}, \"90\": {\"90\": 11, \"45\": 1}, \"10\": {\"10\": 8, \"27\": 1, \"78\": 1, \"108\": 2}, \"63\": {\"98\": 1, \"63\": 10, \"42\": 1}, \"85\": {\"3\": 1, \"10\": 1, \"85\": 5, \"95\": 1, \"34\": 1, \"58\": 1, \"89\": 2}, \"64\": {\"64\": 7, \"98\": 2, \"19\": 1, \"61\": 1, \"41\": 1}, \"82\": {\"98\": 2, \"82\": 7, \"57\": 1, \"2\": 1, \"112\": 1}, \"58\": {\"58\": 12}, \"3\": {\"3\": 8, \"96\": 1, \"44\": 1, \"114\": 1, \"49\": 1}, \"54\": {\"54\": 11, \"124\": 1}, \"121\": {\"121\": 8, \"81\": 2, \"98\": 1, \"20\": 1}, \"42\": {\"91\": 1, \"98\": 1, \"37\": 1, \"124\": 1, \"42\": 5, \"56\": 1, \"82\": 1, \"116\": 1}, \"98\": {\"98\": 7, \"91\": 1, \"103\": 2, \"75\": 1, \"41\": 1}, \"123\": {\"123\": 11, \"22\": 1}, \"91\": {\"91\": 5, \"37\": 1, \"120\": 1, \"98\": 2, \"103\": 1, \"128\": 1, \"58\": 1}, \"66\": {\"66\": 7, \"42\": 1, \"90\": 2, \"38\": 1, \"57\": 1}, \"102\": {\"102\": 12}, \"122\": {\"108\": 2, \"122\": 7, \"24\": 2, \"39\": 1}, \"1\": {\"1\": 9, \"3\": 1, \"40\": 2}, \"15\": {\"62\": 1, \"15\": 6, \"0\": 3, \"70\": 1, \"97\": 1}, \"97\": {\"108\": 2, \"97\": 7, \"8\": 1, \"98\": 1, \"122\": 1}, \"75\": {\"75\": 10, \"25\": 2}, \"95\": {\"95\": 6, \"97\": 1, \"53\": 3, \"34\": 1, \"106\": 1}, \"57\": {\"66\": 2, \"57\": 9, \"20\": 1}, \"68\": {\"68\": 8, \"37\": 1, \"103\": 2, \"56\": 1}, \"125\": {\"125\": 11, \"86\": 1}, \"62\": {\"122\": 1, \"62\": 7, \"87\": 1, \"110\": 1}, \"27\": {\"27\": 10, \"21\": 1, \"126\": 1}, \"120\": {\"120\": 9, \"91\": 1, \"103\": 1, \"49\": 1}, \"26\": {\"84\": 2, \"26\": 6, \"93\": 2, \"14\": 1, \"87\": 1}, \"55\": {\"91\": 1, \"55\": 9, \"9\": 2}, \"71\": {\"84\": 1, \"71\": 6, \"16\": 1, \"94\": 1, \"88\": 1, \"3\": 1, \"72\": 1}, \"22\": {\"22\": 11, \"92\": 1}, \"99\": {\"84\": 2, \"99\": 5, \"60\": 1, \"21\": 1, \"107\": 1, \"1\": 1, \"76\": 1}, \"84\": {\"84\": 10, \"103\": 1, \"43\": 1}, \"37\": {\"37\": 8, \"124\": 3, \"55\": 1}, \"83\": {\"46\": 1, \"99\": 1, \"114\": 3, \"83\": 1, \"19\": 1, \"5\": 4, \"28\": 1}, \"46\": {\"83\": 1, \"46\": 5, \"44\": 1, \"120\": 1, \"86\": 1, \"73\": 1, \"28\": 1, \"119\": 1}, \"35\": {\"35\": 10, \"84\": 1, \"69\": 1}, \"13\": {\"13\": 12}, \"53\": {\"127\": 2, \"51\": 2, \"88\": 1, \"53\": 4, \"21\": 1, \"23\": 1, \"107\": 1}, \"127\": {\"127\": 10, \"101\": 1, \"15\": 1}, \"69\": {\"43\": 1, \"69\": 10, \"78\": 1}, \"48\": {\"48\": 4, \"129\": 1, \"50\": 1, \"123\": 2, \"67\": 1, \"2\": 1, \"66\": 1, \"85\": 1}, \"16\": {\"16\": 12}, \"0\": {\"8\": 3, \"0\": 6, \"24\": 1, \"30\": 1, \"87\": 1}, \"8\": {\"8\": 9, \"43\": 1, \"0\": 1, \"122\": 1}, \"9\": {\"9\": 4, \"98\": 1, \"34\": 1, \"128\": 1, \"114\": 2, \"106\": 1, \"95\": 1, \"91\": 1}, \"115\": {\"57\": 1, \"48\": 1, \"119\": 1, \"115\": 6, \"67\": 1, \"2\": 1, \"128\": 1}, \"70\": {\"70\": 9, \"63\": 1, \"8\": 2}, \"119\": {\"119\": 9, \"104\": 1, \"129\": 2}, \"59\": {\"59\": 9, \"6\": 2, \"25\": 1}, \"52\": {\"51\": 2, \"99\": 1, \"52\": 8, \"128\": 1}, \"60\": {\"70\": 1, \"60\": 5, \"101\": 1, \"62\": 1, \"30\": 1, \"10\": 2, \"11\": 1}, \"44\": {\"44\": 9, \"74\": 2, \"38\": 1}, \"51\": {\"51\": 6, \"70\": 1, \"100\": 1, \"9\": 1, \"56\": 1, \"68\": 1, \"94\": 1}, \"6\": {\"6\": 10, \"68\": 1, \"59\": 1}, \"73\": {\"50\": 1, \"73\": 8, \"33\": 1, \"41\": 1, \"31\": 1}, \"78\": {\"78\": 10, \"88\": 2}, \"92\": {\"92\": 9, \"44\": 1, \"46\": 1, \"32\": 1}, \"20\": {\"20\": 6, \"34\": 1, \"126\": 1, \"84\": 2, \"3\": 1, \"99\": 1}, \"17\": {\"17\": 10, \"104\": 1, \"86\": 1}, \"74\": {\"74\": 9, \"92\": 1, \"44\": 1, \"89\": 1}, \"19\": {\"45\": 1, \"92\": 1, \"19\": 5, \"83\": 2, \"64\": 2, \"31\": 1}, \"50\": {\"50\": 7, \"48\": 1, \"73\": 1, \"112\": 1, \"129\": 2}, \"34\": {\"69\": 1, \"70\": 1, \"34\": 6, \"6\": 1, \"55\": 1, \"84\": 1, \"59\": 1}, \"104\": {\"104\": 5, \"45\": 1, \"42\": 1, \"17\": 1}, \"33\": {\"33\": 7, \"71\": 1, \"31\": 2, \"105\": 1, \"39\": 1}, \"5\": {\"5\": 8, \"18\": 2, \"83\": 2}, \"7\": {\"7\": 8, \"93\": 1, \"43\": 1, \"0\": 2}, \"29\": {\"91\": 2, \"29\": 7, \"103\": 2, \"47\": 1}, \"25\": {\"25\": 9, \"29\": 1, \"58\": 1, \"75\": 1}, \"124\": {\"42\": 1, \"37\": 2, \"124\": 8, \"112\": 1}, \"117\": {\"116\": 1, \"117\": 9, \"88\": 1, \"108\": 1}, \"88\": {\"88\": 10, \"78\": 2}, \"61\": {\"61\": 8, \"88\": 1, \"32\": 1, \"81\": 2}, \"86\": {\"86\": 11, \"6\": 1}, \"116\": {\"116\": 3, \"129\": 3, \"112\": 2, \"63\": 1, \"57\": 1, \"117\": 1, \"64\": 1}, \"24\": {\"24\": 10, \"0\": 1, \"21\": 1}, \"128\": {\"28\": 1, \"52\": 1, \"33\": 1, \"21\": 1, \"100\": 1, \"128\": 3, \"83\": 1, \"46\": 1, \"82\": 1, \"9\": 1}, \"101\": {\"36\": 2, \"101\": 6, \"30\": 1, \"94\": 1, \"27\": 2}, \"65\": {\"65\": 9, \"73\": 1}, \"36\": {\"36\": 7, \"24\": 2, \"30\": 1, \"8\": 2}, \"21\": {\"21\": 12}, \"106\": {\"10\": 2, \"106\": 9, \"110\": 1}, \"118\": {\"27\": 2, \"88\": 2, \"122\": 1, \"30\": 1, \"118\": 3, \"10\": 3}, \"113\": {\"97\": 2, \"113\": 5, \"24\": 2, \"30\": 1, \"118\": 1, \"60\": 1}, \"40\": {\"1\": 2, \"40\": 9, \"84\": 1}, \"93\": {\"93\": 7, \"23\": 1}, \"94\": {\"94\": 6, \"8\": 1, \"36\": 3, \"24\": 1, \"10\": 1}, \"103\": {\"103\": 5, \"77\": 3, \"108\": 1, \"87\": 1, \"29\": 1, \"54\": 1}, \"110\": {\"122\": 1, \"110\": 7, \"87\": 1, \"62\": 1, \"109\": 1, \"10\": 1}, \"56\": {\"31\": 1, \"56\": 8, \"100\": 3}, \"39\": {\"39\": 12}, \"109\": {\"39\": 1, \"109\": 5, \"126\": 2, \"88\": 2, \"78\": 2}, \"67\": {\"67\": 6, \"115\": 1, \"19\": 1, \"2\": 1, \"88\": 1, \"63\": 1, \"73\": 1}, \"129\": {\"73\": 1, \"51\": 1, \"129\": 5, \"68\": 1, \"123\": 1, \"42\": 1, \"50\": 2}, \"30\": {\"24\": 4, \"30\": 7, \"36\": 1}, \"126\": {\"24\": 4, \"126\": 7, \"109\": 1}, \"87\": {\"21\": 1, \"87\": 11}, \"112\": {\"112\": 10, \"128\": 1, \"41\": 1}, \"100\": {\"100\": 7, \"99\": 1, \"107\": 2, \"3\": 1, \"46\": 1}, \"79\": {\"79\": 10}, \"81\": {\"81\": 10, \"121\": 1, \"108\": 1}, \"76\": {\"76\": 8, \"69\": 1, \"14\": 1}, \"47\": {\"47\": 11, \"21\": 1}, \"77\": {\"77\": 10, \"103\": 2}, \"23\": {\"103\": 1, \"24\": 1, \"108\": 1, \"109\": 2, \"126\": 1, \"110\": 2, \"0\": 3, \"21\": 1}, \"18\": {\"18\": 12}, \"49\": {\"85\": 1, \"49\": 3, \"7\": 3, \"18\": 1, \"23\": 1, \"78\": 1, \"127\": 2}, \"41\": {\"41\": 4, \"125\": 1, \"129\": 1, \"77\": 1, \"112\": 1, \"4\": 1, \"55\": 1, \"42\": 1, \"98\": 1}, \"32\": {\"32\": 7, \"76\": 1, \"5\": 1, \"107\": 1, \"46\": 1, \"114\": 1}, \"107\": {\"107\": 7, \"32\": 1, \"84\": 2}, \"80\": {\"80\": 11, \"116\": 1}, \"105\": {\"105\": 7, \"32\": 2, \"24\": 1}, \"38\": {\"38\": 6, \"32\": 1, \"61\": 2, \"83\": 1}}, \"W_A_1\": {\"108\": {\"108\": 9, \"43\": 1}, \"40\": {\"40\": 10, \"69\": 1, \"105\": 1}, \"68\": {\"3\": 1, \"68\": 11}, \"23\": {\"110\": 1, \"26\": 1, \"74\": 1, \"88\": 1, \"23\": 3, \"76\": 1, \"10\": 1, \"113\": 1, \"27\": 2}, \"26\": {\"70\": 1, \"26\": 11}, \"64\": {\"102\": 1, \"64\": 10, \"129\": 1}, \"22\": {\"22\": 7, \"64\": 1, \"117\": 1, \"57\": 2, \"45\": 1}, \"3\": {\"26\": 2, \"3\": 8, \"38\": 2}, \"4\": {\"4\": 11, \"78\": 1}, \"70\": {\"70\": 11, \"78\": 1}, \"57\": {\"57\": 11, \"64\": 1}, \"79\": {\"79\": 12}, \"9\": {\"9\": 8, \"89\": 1, \"34\": 1, \"47\": 1, \"12\": 1}, \"89\": {\"89\": 7, \"3\": 1, \"53\": 2, \"34\": 1, \"32\": 1}, \"110\": {\"110\": 7, \"94\": 2, \"36\": 2, \"97\": 1}, \"102\": {\"102\": 11, \"129\": 1}, \"31\": {\"31\": 9, \"84\": 1, \"113\": 1, \"24\": 1}, \"58\": {\"52\": 2, \"58\": 9, \"103\": 1}, \"47\": {\"83\": 1, \"47\": 4, \"75\": 2, \"54\": 2, \"9\": 1, \"50\": 2}, \"24\": {\"24\": 10, \"93\": 1, \"88\": 1}, \"19\": {\"19\": 11, \"73\": 1}, \"11\": {\"11\": 11, \"43\": 1}, \"52\": {\"52\": 12}, \"17\": {\"68\": 3, \"17\": 7, \"111\": 2}, \"25\": {\"83\": 1, \"25\": 9, \"42\": 2}, \"69\": {\"69\": 9, \"60\": 1, \"113\": 2}, \"96\": {\"11\": 1, \"24\": 1, \"96\": 4, \"60\": 1, \"16\": 1, \"97\": 1, \"108\": 1, \"15\": 1, \"43\": 1}, \"109\": {\"109\": 12}, \"115\": {\"115\": 11, \"4\": 1}, \"83\": {\"83\": 4, \"31\": 2, \"42\": 1, \"1\": 1, \"4\": 1, \"104\": 1, \"9\": 1, \"103\": 1}, \"84\": {\"84\": 10, \"96\": 1, \"30\": 1}, \"119\": {\"119\": 8, \"2\": 2}, \"122\": {\"122\": 6, \"93\": 2, \"87\": 2}, \"99\": {\"74\": 1, \"99\": 9, \"12\": 1, \"14\": 1}, \"1\": {\"1\": 11, \"20\": 1}, \"74\": {\"1\": 1, \"65\": 1, \"74\": 6, \"81\": 1, \"129\": 1, \"23\": 1, \"14\": 1}, \"85\": {\"85\": 9, \"53\": 1, \"29\": 2}, \"127\": {\"127\": 11, \"15\": 1}, \"111\": {\"111\": 12}, \"53\": {\"53\": 6, \"85\": 2, \"34\": 1, \"49\": 1, \"75\": 1, \"98\": 1}, \"88\": {\"88\": 7, \"97\": 2, \"108\": 2, \"10\": 1}, \"65\": {\"65\": 6, \"90\": 1, \"129\": 1, \"102\": 1, \"103\": 1}, \"7\": {\"7\": 8, \"105\": 1, \"69\": 1, \"106\": 1, \"60\": 1}, \"16\": {\"16\": 9, \"10\": 1, \"18\": 2}, \"128\": {\"53\": 1, \"28\": 2, \"66\": 1, \"128\": 2, \"95\": 1, \"42\": 2, \"19\": 1, \"100\": 1, \"61\": 1}, \"34\": {\"34\": 2, \"118\": 1, \"98\": 1, \"50\": 1, \"113\": 2, \"44\": 1, \"81\": 1, \"110\": 1, \"107\": 1, \"69\": 1}, \"129\": {\"129\": 10, \"46\": 1, \"117\": 1}, \"43\": {\"43\": 10, \"126\": 2}, \"92\": {\"92\": 12}, \"28\": {\"28\": 6, \"129\": 1, \"99\": 2, \"42\": 1, \"116\": 1, \"3\": 1}, \"27\": {\"43\": 1, \"0\": 1, \"27\": 5, \"39\": 1, \"30\": 3, \"15\": 1}, \"114\": {\"114\": 10, \"74\": 1, \"33\": 1}, \"73\": {\"41\": 1, \"73\": 7, \"45\": 2, \"46\": 1, \"57\": 1}, \"0\": {\"0\": 6, \"94\": 2, \"27\": 1, \"43\": 2, \"36\": 1}, \"104\": {\"129\": 1, \"104\": 10, \"22\": 1}, \"118\": {\"118\": 9, \"0\": 1, \"87\": 1, \"105\": 1}, \"41\": {\"41\": 9, \"57\": 1, \"58\": 1, \"104\": 1}, \"49\": {\"49\": 4, \"89\": 1, \"72\": 3, \"105\": 1, \"1\": 1, \"107\": 1, \"19\": 1}, \"14\": {\"14\": 11, \"62\": 1}, \"46\": {\"66\": 2, \"46\": 5, \"126\": 1, \"125\": 1, \"17\": 1, \"22\": 1, \"57\": 1}, \"33\": {\"33\": 12}, \"76\": {\"76\": 11, \"23\": 1}, \"125\": {\"125\": 12}, \"86\": {\"5\": 1, \"86\": 5, \"2\": 1, \"41\": 1, \"83\": 1, \"124\": 1}, \"66\": {\"22\": 1, \"66\": 5, \"64\": 2, \"61\": 2, \"82\": 1, \"51\": 1}, \"5\": {\"5\": 12}, \"117\": {\"117\": 12}, \"75\": {\"75\": 5, \"51\": 1, \"72\": 3, \"56\": 1, \"53\": 1, \"31\": 1}, \"61\": {\"61\": 7, \"73\": 1, \"121\": 2, \"64\": 1, \"57\": 1}, \"50\": {\"50\": 6, \"20\": 1, \"81\": 1, \"30\": 1, \"90\": 1, \"74\": 1, \"73\": 1}, \"67\": {\"67\": 7, \"117\": 1, \"82\": 1, \"13\": 1}, \"18\": {\"18\": 12}, \"98\": {\"98\": 9, \"103\": 2, \"54\": 1}, \"55\": {\"55\": 10}, \"32\": {\"32\": 5, \"85\": 1, \"49\": 2, \"89\": 1, \"29\": 1, \"75\": 2}, \"120\": {\"120\": 11, \"38\": 1}, \"97\": {\"97\": 12}, \"126\": {\"126\": 12}, \"45\": {\"104\": 1, \"46\": 1, \"45\": 7, \"5\": 1, \"117\": 1, \"2\": 1}, \"78\": {\"70\": 3, \"78\": 5, \"21\": 1, \"108\": 1}, \"100\": {\"100\": 10, \"114\": 1, \"19\": 1}, \"107\": {\"107\": 12}, \"93\": {\"93\": 5, \"8\": 2, \"24\": 3, \"39\": 2}, \"77\": {\"77\": 11, \"91\": 1}, \"63\": {\"63\": 8, \"115\": 1, \"119\": 1, \"102\": 2}, \"112\": {\"112\": 9, \"77\": 1, \"111\": 1, \"125\": 1}, \"113\": {\"113\": 7, \"69\": 2, \"30\": 2, \"62\": 1}, \"103\": {\"103\": 7, \"77\": 1, \"41\": 1, \"98\": 1}, \"71\": {\"71\": 8, \"101\": 1, \"127\": 2, \"0\": 1}, \"30\": {\"30\": 8, \"27\": 1, \"24\": 1, \"43\": 2}, \"90\": {\"90\": 9, \"103\": 1, \"28\": 1, \"99\": 1}, \"37\": {\"85\": 1, \"37\": 10, \"112\": 1}, \"60\": {\"69\": 1, \"30\": 4, \"96\": 1, \"35\": 1, \"60\": 3, \"94\": 1, \"23\": 1}, \"15\": {\"30\": 2, \"15\": 6, \"94\": 1, \"36\": 1, \"27\": 2}, \"39\": {\"39\": 12}, \"72\": {\"72\": 7, \"49\": 1, \"75\": 2, \"9\": 1, \"94\": 1}, \"54\": {\"41\": 2, \"82\": 1, \"107\": 1, \"54\": 4, \"45\": 1, \"53\": 1, \"47\": 2}, \"35\": {\"35\": 8, \"97\": 2, \"21\": 1, \"15\": 1}, \"2\": {\"117\": 1, \"119\": 1, \"2\": 9, \"116\": 1}, \"94\": {\"15\": 1, \"0\": 1, \"88\": 1, \"36\": 1, \"43\": 2, \"60\": 2, \"11\": 1, \"94\": 1, \"109\": 1, \"30\": 1}, \"42\": {\"25\": 4, \"42\": 4, \"19\": 1, \"100\": 1, \"45\": 1, \"128\": 1}, \"81\": {\"81\": 7, \"44\": 1, \"12\": 2, \"50\": 1, \"82\": 1}, \"8\": {\"87\": 1, \"8\": 11}, \"87\": {\"8\": 2, \"87\": 10}, \"6\": {\"6\": 7, \"42\": 1, \"124\": 1, \"41\": 1, \"98\": 1, \"37\": 1}, \"36\": {\"97\": 2, \"110\": 3, \"36\": 4, \"106\": 2, \"94\": 1}, \"91\": {\"91\": 7, \"32\": 1, \"47\": 1, \"85\": 2, \"128\": 1}, \"56\": {\"56\": 11, \"51\": 1}, \"80\": {\"80\": 8, \"79\": 2, \"56\": 1, \"45\": 1}, \"124\": {\"124\": 5, \"41\": 1, \"5\": 2, \"86\": 1, \"104\": 1}, \"44\": {\"44\": 10, \"26\": 2}, \"13\": {\"119\": 1, \"13\": 7, \"102\": 2, \"57\": 1, \"65\": 1}, \"10\": {\"10\": 8, \"126\": 1, \"88\": 1, \"21\": 1, \"70\": 1}, \"59\": {\"59\": 10, \"82\": 2}, \"95\": {\"95\": 9, \"18\": 1, \"120\": 1, \"50\": 1}, \"105\": {\"105\": 9, \"112\": 1, \"16\": 1, \"15\": 1}, \"101\": {\"101\": 12}, \"20\": {\"20\": 11, \"114\": 1}, \"48\": {\"48\": 9, \"79\": 2, \"123\": 1}, \"106\": {\"106\": 11, \"36\": 1}, \"51\": {\"51\": 11, \"56\": 1}, \"21\": {\"21\": 11, \"70\": 1}, \"123\": {\"123\": 9, \"67\": 1, \"13\": 1, \"115\": 1}, \"121\": {\"61\": 2, \"121\": 8, \"116\": 2}, \"38\": {\"38\": 9, \"33\": 1, \"81\": 1, \"89\": 1}, \"62\": {\"62\": 10, \"94\": 1, \"113\": 1}, \"29\": {\"29\": 11, \"85\": 1}, \"82\": {\"82\": 12}, \"116\": {\"116\": 8, \"121\": 1, \"2\": 1, \"86\": 1, \"65\": 1}, \"12\": {\"12\": 5, \"127\": 1, \"101\": 2}}, \"W_A_2\": {\"91\": {\"17\": 1, \"86\": 1, \"111\": 1, \"98\": 1, \"91\": 1, \"124\": 2, \"29\": 2, \"77\": 1, \"53\": 1, \"42\": 1}, \"12\": {\"12\": 9, \"109\": 1, \"7\": 1, \"110\": 1}, \"101\": {\"101\": 9, \"43\": 1}, \"121\": {\"121\": 7, \"110\": 1, \"120\": 1, \"99\": 1, \"81\": 1, \"92\": 1}, \"118\": {\"110\": 1, \"118\": 7, \"24\": 1, \"10\": 1, \"122\": 2}, \"10\": {\"126\": 2, \"10\": 9, \"24\": 1}, \"117\": {\"117\": 11, \"121\": 1}, \"110\": {\"110\": 8, \"91\": 1, \"30\": 1, \"43\": 2}, \"97\": {\"110\": 1, \"121\": 1, \"15\": 2, \"97\": 5, \"30\": 1, \"63\": 1, \"43\": 1}, \"28\": {\"88\": 1, \"28\": 5, \"41\": 1, \"103\": 2, \"50\": 1, \"112\": 1, \"25\": 1}, \"88\": {\"88\": 11, \"109\": 1}, \"17\": {\"86\": 2, \"17\": 4, \"115\": 1, \"129\": 1, \"78\": 1, \"91\": 1, \"59\": 2}, \"126\": {\"126\": 9, \"70\": 1, \"87\": 2}, \"33\": {\"33\": 12}, \"86\": {\"86\": 11, \"5\": 1}, \"106\": {\"106\": 10, \"35\": 2}, \"54\": {\"54\": 8, \"51\": 1, \"75\": 1, \"56\": 2}, \"125\": {\"125\": 11, \"79\": 1}, \"83\": {\"83\": 7, \"57\": 1, \"61\": 1, \"71\": 1, \"18\": 2}, \"98\": {\"54\": 2, \"98\": 5, \"53\": 1, \"91\": 2, \"77\": 1, \"68\": 1}, \"11\": {\"11\": 7, \"8\": 3, \"78\": 1, \"105\": 1}, \"32\": {\"32\": 5, \"3\": 3, \"34\": 1, \"47\": 1, \"114\": 2}, \"42\": {\"42\": 5, \"5\": 1, \"117\": 2, \"129\": 2, \"48\": 2}, \"103\": {\"103\": 9, \"52\": 1, \"111\": 2}, \"87\": {\"118\": 2, \"87\": 10}, \"61\": {\"87\": 1, \"83\": 1, \"61\": 4, \"1\": 2, \"53\": 1, \"47\": 1, \"81\": 1, \"20\": 1}, \"13\": {\"13\": 11, \"48\": 1}, \"4\": {\"4\": 11, \"80\": 1}, \"15\": {\"15\": 5, \"11\": 1, \"8\": 1, \"43\": 1, \"118\": 1, \"27\": 1}, \"120\": {\"120\": 9, \"116\": 1, \"99\": 1, \"57\": 1}, \"80\": {\"80\": 11, \"102\": 1}, \"72\": {\"72\": 10}, \"64\": {\"64\": 7, \"100\": 1, \"112\": 1, \"61\": 1, \"89\": 1, \"107\": 1}, \"81\": {\"120\": 1, \"89\": 1, \"69\": 1, \"81\": 6, \"123\": 1, \"99\": 1, \"121\": 1}, \"102\": {\"102\": 12}, \"76\": {\"49\": 1, \"76\": 8, \"66\": 1, \"1\": 1, \"31\": 1}, \"49\": {\"53\": 1, \"76\": 1, \"114\": 3, \"49\": 1, \"101\": 1, \"66\": 1, \"55\": 1, \"21\": 1}, \"129\": {\"129\": 12}, \"89\": {\"89\": 11, \"44\": 1}, \"52\": {\"52\": 8, \"58\": 2, \"103\": 1, \"56\": 1}, \"35\": {\"35\": 9, \"101\": 2, \"106\": 1}, \"53\": {\"53\": 8, \"128\": 2, \"122\": 1, \"87\": 1}, \"112\": {\"64\": 1, \"112\": 5, \"77\": 1, \"91\": 1, \"42\": 1, \"37\": 2, \"85\": 1}, \"105\": {\"105\": 8, \"122\": 2, \"11\": 1, \"30\": 1}, \"100\": {\"112\": 1, \"82\": 1, \"100\": 9, \"84\": 1}, \"9\": {\"9\": 11, \"58\": 1}, \"82\": {\"82\": 11, \"73\": 1}, \"51\": {\"51\": 6, \"9\": 2, \"59\": 1, \"127\": 2, \"47\": 1}, \"21\": {\"21\": 12}, \"92\": {\"100\": 1, \"64\": 1, \"18\": 2, \"32\": 1, \"92\": 5, \"114\": 1, \"84\": 1}, \"69\": {\"69\": 9, \"0\": 1, \"1\": 1, \"18\": 1}, \"77\": {\"17\": 1, \"51\": 2, \"77\": 6, \"91\": 1, \"29\": 2}, \"50\": {\"82\": 1, \"123\": 2, \"73\": 2, \"128\": 1, \"50\": 4, \"38\": 1, \"42\": 1}, \"36\": {\"8\": 2, \"36\": 3, \"24\": 1, \"126\": 1, \"0\": 2, \"12\": 1, \"110\": 1, \"78\": 1}, \"16\": {\"16\": 7, \"8\": 1, \"24\": 1, \"62\": 2, \"78\": 1}, \"8\": {\"84\": 1, \"8\": 9, \"108\": 1, \"96\": 1}, \"127\": {\"127\": 12}, \"46\": {\"46\": 8, \"90\": 2}, \"84\": {\"84\": 11, \"62\": 1}, \"18\": {\"18\": 12}, \"123\": {\"123\": 7, \"82\": 1, \"67\": 1, \"90\": 1}, \"56\": {\"76\": 3, \"33\": 1, \"56\": 4, \"1\": 1, \"106\": 1, \"107\": 1, \"73\": 1}, \"26\": {\"26\": 12}, \"14\": {\"109\": 1, \"14\": 8, \"3\": 1, \"43\": 1, \"11\": 1}, \"109\": {\"109\": 7, \"88\": 1, \"108\": 2, \"78\": 2}, \"66\": {\"66\": 5, \"55\": 2, \"34\": 1, \"47\": 1, \"22\": 1, \"64\": 2}, \"24\": {\"88\": 2, \"24\": 8, \"10\": 1, \"78\": 1}, \"71\": {\"33\": 1, \"71\": 5, \"95\": 1, \"40\": 3, \"62\": 1, \"84\": 1}, \"65\": {\"65\": 10, \"25\": 1, \"59\": 1}, \"75\": {\"75\": 9, \"54\": 1, \"114\": 1, \"21\": 1}, \"111\": {\"111\": 12}, \"30\": {\"118\": 1, \"30\": 8, \"126\": 2, \"122\": 1}, \"85\": {\"45\": 1, \"85\": 6, \"68\": 1, \"67\": 1, \"129\": 1, \"59\": 1, \"37\": 1}, \"113\": {\"113\": 7, \"62\": 2, \"21\": 1}, \"45\": {\"45\": 8, \"2\": 2, \"85\": 1, \"37\": 1}, \"29\": {\"29\": 8, \"98\": 1, \"77\": 1, \"55\": 1, \"25\": 1}, \"20\": {\"18\": 1, \"20\": 6, \"44\": 2, \"89\": 1, \"1\": 1, \"61\": 1}, \"25\": {\"25\": 8, \"103\": 1, \"28\": 1, \"29\": 2}, \"0\": {\"0\": 8, \"126\": 1, \"12\": 1, \"36\": 1, \"105\": 1}, \"68\": {\"68\": 10, \"58\": 2}, \"119\": {\"67\": 2, \"119\": 5, \"116\": 1, \"48\": 2, \"2\": 2}, \"90\": {\"99\": 1, \"90\": 7, \"37\": 1, \"45\": 2, \"123\": 1}, \"38\": {\"38\": 9, \"83\": 1, \"37\": 1, \"99\": 1}, \"99\": {\"99\": 9, \"63\": 1, \"38\": 1, \"33\": 1}, \"1\": {\"1\": 10, \"61\": 1, \"14\": 1}, \"67\": {\"119\": 1, \"90\": 1, \"67\": 6, \"125\": 1, \"5\": 1, \"19\": 1, \"29\": 1}, \"63\": {\"63\": 11, \"57\": 1}, \"34\": {\"51\": 1, \"34\": 6, \"32\": 1, \"128\": 1, \"77\": 1, \"14\": 1, \"35\": 1}, \"108\": {\"108\": 9, \"43\": 2, \"87\": 1}, \"40\": {\"40\": 8, \"7\": 1, \"16\": 1, \"61\": 1, \"71\": 1}, \"47\": {\"98\": 1, \"47\": 7, \"59\": 1, \"22\": 1, \"61\": 1, \"1\": 1}, \"37\": {\"37\": 9, \"91\": 1, \"73\": 1, \"85\": 1}, \"78\": {\"21\": 3, \"78\": 9}, \"96\": {\"96\": 7, \"23\": 2, \"72\": 2, \"60\": 1}, \"43\": {\"43\": 10, \"21\": 1, \"108\": 1}, \"5\": {\"5\": 9, \"73\": 1}, \"124\": {\"124\": 10, \"68\": 1, \"41\": 1}, \"44\": {\"44\": 12}, \"41\": {\"42\": 1, \"124\": 2, \"41\": 7, \"8\": 1, \"59\": 1}, \"116\": {\"116\": 11, \"2\": 1}, \"19\": {\"19\": 8, \"64\": 2, \"42\": 1, \"47\": 1}, \"115\": {\"115\": 10, \"124\": 1, \"86\": 1}, \"95\": {\"3\": 2, \"95\": 5, \"70\": 1, \"7\": 1, \"1\": 1, \"16\": 1, \"40\": 1}, \"3\": {\"32\": 2, \"95\": 2, \"23\": 1, \"3\": 5}, \"59\": {\"86\": 2, \"59\": 4, \"104\": 1, \"50\": 2, \"119\": 1, \"91\": 2}, \"55\": {\"55\": 9, \"37\": 1, \"84\": 1, \"90\": 1}, \"70\": {\"70\": 11, \"109\": 1}, \"6\": {\"6\": 12}, \"2\": {\"46\": 1, \"2\": 9, \"77\": 1, \"119\": 1}, \"48\": {\"48\": 8, \"2\": 1, \"119\": 2, \"42\": 1}, \"23\": {\"84\": 1, \"122\": 2, \"27\": 1, \"23\": 4, \"69\": 1, \"126\": 1, \"26\": 1, \"87\": 1}, \"7\": {\"122\": 3, \"7\": 7, \"12\": 2}, \"122\": {\"122\": 12}, \"57\": {\"57\": 8, \"108\": 1, \"83\": 1, \"30\": 1, \"92\": 1}, \"39\": {\"39\": 8, \"70\": 2}, \"79\": {\"79\": 11, \"86\": 1}, \"27\": {\"39\": 2, \"27\": 5, \"94\": 1, \"11\": 1, \"122\": 1}, \"74\": {\"74\": 4, \"70\": 1, \"1\": 1, \"14\": 1, \"128\": 1, \"62\": 1, \"78\": 1, \"8\": 1, \"61\": 1}, \"73\": {\"50\": 1, \"73\": 8, \"128\": 1, \"107\": 2}, \"62\": {\"62\": 10, \"113\": 2}, \"107\": {\"107\": 10, \"61\": 1, \"3\": 1}, \"128\": {\"128\": 5, \"53\": 1, \"58\": 1, \"31\": 1, \"1\": 1, \"71\": 1, \"33\": 2}, \"60\": {\"122\": 3, \"93\": 1, \"108\": 1, \"60\": 3, \"70\": 1, \"10\": 2, \"27\": 1}, \"114\": {\"114\": 9, \"53\": 1, \"1\": 1, \"107\": 1}, \"22\": {\"68\": 1, \"55\": 1, \"66\": 3, \"22\": 5, \"50\": 1, \"83\": 1}, \"93\": {\"93\": 11, \"108\": 1}, \"94\": {\"94\": 5, \"27\": 1, \"8\": 2, \"97\": 1, \"7\": 1, \"88\": 2}, \"31\": {\"72\": 2, \"31\": 7, \"84\": 1}, \"104\": {\"111\": 1, \"104\": 8, \"29\": 1, \"41\": 1, \"67\": 1}, \"58\": {\"58\": 8, \"9\": 3, \"86\": 1}}, \"C_A_2\": {\"14\": {\"56\": 2, \"14\": 7, \"41\": 2, \"47\": 1}, \"22\": {\"22\": 12}, \"9\": {\"9\": 10, \"27\": 1, \"8\": 1}, \"47\": {\"47\": 11, \"57\": 1}, \"13\": {\"56\": 1, \"13\": 9, \"14\": 2}, \"8\": {\"9\": 1, \"8\": 10, \"48\": 1}, \"7\": {\"7\": 7, \"49\": 1, \"54\": 1, \"39\": 1, \"17\": 2}, \"49\": {\"49\": 8, \"42\": 1, \"32\": 1, \"39\": 1, \"23\": 1}, \"20\": {\"20\": 12}, \"16\": {\"16\": 12}, \"34\": {\"34\": 8, \"19\": 2, \"26\": 1, \"28\": 1}, \"56\": {\"56\": 9, \"22\": 1, \"2\": 2}, \"38\": {\"56\": 2, \"38\": 5, \"13\": 1, \"27\": 1, \"29\": 1}, \"4\": {\"4\": 9, \"9\": 1, \"48\": 2}, \"43\": {\"43\": 6, \"13\": 1, \"24\": 3}, \"26\": {\"49\": 1, \"26\": 6, \"53\": 3}, \"35\": {\"35\": 3, \"51\": 1, \"36\": 1, \"23\": 2, \"42\": 1, \"27\": 2, \"32\": 2}, \"31\": {\"31\": 10, \"45\": 1, \"32\": 1}, \"1\": {\"1\": 10, \"47\": 1, \"9\": 1}, \"39\": {\"39\": 12}, \"5\": {\"5\": 12}, \"24\": {\"24\": 12}, \"54\": {\"54\": 9, \"23\": 1}, \"23\": {\"23\": 11, \"17\": 1}, \"51\": {\"51\": 11, \"55\": 1}, \"27\": {\"27\": 10}, \"15\": {\"15\": 9, \"11\": 2, \"16\": 1}, \"0\": {\"0\": 12}, \"19\": {\"19\": 7, \"49\": 3}, \"18\": {\"18\": 8}, \"30\": {\"30\": 12}, \"55\": {\"55\": 8, \"51\": 1, \"35\": 1}, \"57\": {\"57\": 12}, \"2\": {\"2\": 12}, \"12\": {\"12\": 8}, \"41\": {\"41\": 5, \"47\": 1, \"9\": 1, \"57\": 1, \"33\": 1, \"2\": 3}, \"42\": {\"42\": 7, \"34\": 2, \"49\": 1, \"17\": 1, \"23\": 1}, \"48\": {\"48\": 7, \"1\": 2, \"4\": 3}, \"37\": {\"37\": 8, \"41\": 2, \"57\": 1, \"13\": 1}, \"6\": {\"6\": 10}, \"11\": {\"11\": 10}, \"45\": {\"45\": 7, \"21\": 1}, \"21\": {\"21\": 12}, \"46\": {\"46\": 6, \"5\": 1, \"50\": 1, \"3\": 2}, \"25\": {\"25\": 11, \"53\": 1}, \"36\": {\"36\": 10}, \"53\": {\"53\": 12}, \"28\": {\"28\": 12}, \"40\": {\"30\": 3, \"40\": 7}, \"33\": {\"41\": 1, \"1\": 1, \"33\": 6, \"4\": 1, \"29\": 1}, \"44\": {\"44\": 10}, \"3\": {\"3\": 12}, \"17\": {\"17\": 12}, \"32\": {\"32\": 7, \"36\": 1, \"33\": 2}, \"10\": {\"10\": 10}, \"52\": {\"52\": 10}, \"50\": {\"6\": 1, \"50\": 7}, \"29\": {\"29\": 5, \"33\": 1}}}, \"per_domain_accuracy\": {\"ORACLE.run1_14\": {\"accuracy\": 0.884375, \"source?\": true}, \"ORACLE.run1_20\": {\"accuracy\": 0.8838541666666667, \"source?\": true}, \"ORACLE.run1_38\": {\"accuracy\": 0.925, \"source?\": true}, \"ORACLE.run1_8\": {\"accuracy\": 0.915625, \"source?\": true}, \"ORACLE.run1_50\": {\"accuracy\": 0.9299479166666667, \"source?\": true}, \"ORACLE.run1_32\": {\"accuracy\": 0.9078125, \"source?\": true}, \"ORACLE.run1_26\": {\"accuracy\": 0.8453125, \"source?\": true}, \"ORACLE.run1_44\": {\"accuracy\": 0.8307291666666666, \"source?\": true}, \"C_A_3\": {\"accuracy\": 0.815625, \"source?\": false}, \"C_A_4\": {\"accuracy\": 0.7828125, \"source?\": false}, \"W_A_3\": {\"accuracy\": 0.6744791666666666, \"source?\": false}, \"C_A_5\": {\"accuracy\": 0.88125, \"source?\": false}, \"C_A_1\": {\"accuracy\": 0.89375, \"source?\": false}, \"W_A_4\": {\"accuracy\": 0.6569010416666666, \"source?\": false}, \"W_A_1\": {\"accuracy\": 0.7161458333333334, \"source?\": false}, \"W_A_2\": {\"accuracy\": 0.6783854166666666, \"source?\": false}, \"C_A_2\": {\"accuracy\": 0.83125, \"source?\": false}}}, \"history\": {\"epoch_indices\": [1, 2, 3, 4, 5, 6, 7], \"train_label_loss\": [0.408206903190668, 5.9128350406454135, 0.3388526524917411, 0.2275951389129096, 0.21081888628319748, 0.2003178404450106, 0.1972128999009978], \"source_val_label_loss\": [85.30823516845703, 0.3450942039489746, 0.31475213170051575, 0.22386865317821503, 0.21700221300125122, 0.1953027993440628, 0.2561652958393097], \"target_val_label_loss\": [455391.8125, 57041.328125, 39696.56640625, 49266.6328125, 55447.2421875, 67878.9375, 80428.1875], \"source_val_acc_label\": [0.5473307291666667, 0.88505859375, 0.89033203125, 0.9203125, 0.9240559895833333, 0.9326497395833333, 0.9167317708333333], \"target_val_acc_label\": [0.739083904109589, 0.723994006849315, 0.7360873287671232, 0.7293450342465754, 0.7462542808219178, 0.741652397260274, 0.7513912671232876]}, \"dataset_metrics\": {\"source\": {\"train\": {\"n_unique_x\": 179200, \"n_unique_y\": 16, \"n_batch/episode\": 6720}, \"val\": {\"n_unique_x\": 38400, \"n_unique_y\": 16, \"n_batch/episode\": 960}, \"test\": {\"n_unique_x\": 38400, \"n_unique_y\": 16, \"n_batch/episode\": 960}}, \"target\": {\"train\": {\"n_unique_x\": 56700, \"n_unique_y\": 130, \"n_batch/episode\": 2080}, \"val\": {\"n_unique_x\": 12132, \"n_unique_y\": 130, \"n_batch/episode\": 292}, \"test\": {\"n_unique_x\": 12132, \"n_unique_y\": 130, \"n_batch/episode\": 292}}}}'"
      ]
     },
     "execution_count": 29,
     "metadata": {},
     "output_type": "execute_result"
    }
   ],
   "source": [
    "json.dumps(experiment)"
   ]
  }
 ],
 "metadata": {
  "celltoolbar": "Tags",
  "kernelspec": {
   "display_name": "Python 3 (ipykernel)",
   "language": "python",
   "name": "python3"
  },
  "language_info": {
   "codemirror_mode": {
    "name": "ipython",
    "version": 3
   },
   "file_extension": ".py",
   "mimetype": "text/x-python",
   "name": "python",
   "nbconvert_exporter": "python",
   "pygments_lexer": "ipython3",
   "version": "3.8.10"
  },
  "papermill": {
   "default_parameters": {},
   "duration": 1363.245077,
   "end_time": "2022-03-17T02:56:32.514288",
   "environment_variables": {},
   "exception": null,
   "input_path": "/mnt/wd500GB/CSC500/csc500-main/csc500-notebooks/templates/tl_ptn_template.ipynb",
   "output_path": "trial.ipynb",
   "parameters": {
    "parameters": {
     "BEST_MODEL_PATH": "./best_model.pth",
     "NUM_LOGS_PER_EPOCH": 10,
     "criteria_for_best": "target_loss",
     "dataset_seed": 1337,
     "datasets": [
      {
       "domain_prefix": "C_A_",
       "domains": [
        1,
        2,
        3,
        4,
        5
       ],
       "episode_transforms": [],
       "labels": [
        "1-10.",
        "1-11.",
        "1-15.",
        "1-16.",
        "1-17.",
        "1-18.",
        "1-19.",
        "10-4.",
        "10-7.",
        "11-1.",
        "11-14.",
        "11-17.",
        "11-20.",
        "11-7.",
        "13-20.",
        "13-8.",
        "14-10.",
        "14-11.",
        "14-14.",
        "14-7.",
        "15-1.",
        "15-20.",
        "16-1.",
        "16-16.",
        "17-10.",
        "17-11.",
        "17-2.",
        "19-1.",
        "19-16.",
        "19-19.",
        "19-20.",
        "19-3.",
        "2-10.",
        "2-11.",
        "2-17.",
        "2-18.",
        "2-20.",
        "2-3.",
        "2-4.",
        "2-5.",
        "2-6.",
        "2-7.",
        "2-8.",
        "3-13.",
        "3-18.",
        "3-3.",
        "4-1.",
        "4-10.",
        "4-11.",
        "4-19.",
        "5-5.",
        "6-15.",
        "7-10.",
        "7-14.",
        "8-18.",
        "8-20.",
        "8-3.",
        "8-8."
       ],
       "num_examples_per_domain_per_label": 100,
       "pickle_path": "/mnt/wd500GB/CSC500/csc500-main/datasets/cores.stratified_ds.2022A.pkl",
       "source_or_target_dataset": "target",
       "x_transforms": []
      },
      {
       "domain_prefix": "W_A_",
       "domains": [
        1,
        2,
        3,
        4
       ],
       "episode_transforms": [],
       "labels": [
        "1-10",
        "1-12",
        "1-14",
        "1-16",
        "1-18",
        "1-19",
        "1-8",
        "10-11",
        "10-17",
        "10-4",
        "10-7",
        "11-1",
        "11-10",
        "11-19",
        "11-20",
        "11-4",
        "11-7",
        "12-19",
        "12-20",
        "12-7",
        "13-14",
        "13-18",
        "13-19",
        "13-20",
        "13-3",
        "13-7",
        "14-10",
        "14-11",
        "14-12",
        "14-13",
        "14-14",
        "14-19",
        "14-20",
        "14-7",
        "14-8",
        "14-9",
        "15-1",
        "15-19",
        "15-6",
        "16-1",
        "16-16",
        "16-19",
        "16-20",
        "17-10",
        "17-11",
        "18-1",
        "18-10",
        "18-11",
        "18-12",
        "18-13",
        "18-14",
        "18-15",
        "18-16",
        "18-17",
        "18-19",
        "18-2",
        "18-20",
        "18-4",
        "18-5",
        "18-7",
        "18-8",
        "18-9",
        "19-1",
        "19-10",
        "19-11",
        "19-12",
        "19-13",
        "19-14",
        "19-15",
        "19-19",
        "19-2",
        "19-20",
        "19-3",
        "19-4",
        "19-6",
        "19-7",
        "19-8",
        "19-9",
        "2-1",
        "2-13",
        "2-15",
        "2-3",
        "2-4",
        "2-5",
        "2-6",
        "2-7",
        "2-8",
        "20-1",
        "20-12",
        "20-14",
        "20-15",
        "20-16",
        "20-18",
        "20-19",
        "20-20",
        "20-3",
        "20-4",
        "20-5",
        "20-7",
        "20-8",
        "3-1",
        "3-13",
        "3-18",
        "3-2",
        "3-8",
        "4-1",
        "4-10",
        "4-11",
        "5-1",
        "5-5",
        "6-1",
        "6-15",
        "6-6",
        "7-10",
        "7-11",
        "7-12",
        "7-13",
        "7-14",
        "7-7",
        "7-8",
        "7-9",
        "8-1",
        "8-13",
        "8-14",
        "8-18",
        "8-20",
        "8-3",
        "8-8",
        "9-1",
        "9-7"
       ],
       "num_examples_per_domain_per_label": 100,
       "pickle_path": "/mnt/wd500GB/CSC500/csc500-main/datasets/wisig.node3-19.stratified_ds.2022A.pkl",
       "source_or_target_dataset": "target",
       "x_transforms": []
      },
      {
       "domain_prefix": "ORACLE.run1_",
       "domains": [
        32,
        38,
        8,
        44,
        14,
        50,
        20,
        26
       ],
       "episode_transforms": [],
       "labels": [
        "3123D52",
        "3123D65",
        "3123D79",
        "3123D80",
        "3123D54",
        "3123D70",
        "3123D7B",
        "3123D89",
        "3123D58",
        "3123D76",
        "3123D7D",
        "3123EFE",
        "3123D64",
        "3123D78",
        "3123D7E",
        "3124E4A"
       ],
       "num_examples_per_domain_per_label": 2000,
       "pickle_path": "/mnt/wd500GB/CSC500/csc500-main/datasets/oracle.Run1_framed_2000Examples_stratified_ds.2022A.pkl",
       "source_or_target_dataset": "source",
       "x_transforms": []
      }
     ],
     "device": "cuda",
     "experiment_name": "oracle.run1.framed -> cores+wisig",
     "lr": 0.001,
     "n_epoch": 50,
     "n_query": 2,
     "n_shot": 3,
     "n_way": 16,
     "patience": 3,
     "seed": 1337,
     "test_k_factor": 2,
     "torch_default_dtype": "torch.float32",
     "train_k_factor": 3,
     "val_k_factor": 2,
     "x_net": [
      {
       "class": "nnReshape",
       "kargs": {
        "shape": [
         -1,
         1,
         2,
         256
        ]
       }
      },
      {
       "class": "Conv2d",
       "kargs": {
        "bias": false,
        "in_channels": 1,
        "kernel_size": [
         1,
         7
        ],
        "out_channels": 256,
        "padding": [
         0,
         3
        ]
       }
      },
      {
       "class": "ReLU",
       "kargs": {
        "inplace": true
       }
      },
      {
       "class": "BatchNorm2d",
       "kargs": {
        "num_features": 256
       }
      },
      {
       "class": "Conv2d",
       "kargs": {
        "bias": true,
        "in_channels": 256,
        "kernel_size": [
         2,
         7
        ],
        "out_channels": 80,
        "padding": [
         0,
         3
        ]
       }
      },
      {
       "class": "ReLU",
       "kargs": {
        "inplace": true
       }
      },
      {
       "class": "BatchNorm2d",
       "kargs": {
        "num_features": 80
       }
      },
      {
       "class": "Flatten",
       "kargs": {}
      },
      {
       "class": "Linear",
       "kargs": {
        "in_features": 20480,
        "out_features": 256
       }
      },
      {
       "class": "ReLU",
       "kargs": {
        "inplace": true
       }
      },
      {
       "class": "BatchNorm1d",
       "kargs": {
        "num_features": 256
       }
      },
      {
       "class": "Linear",
       "kargs": {
        "in_features": 256,
        "out_features": 256
       }
      }
     ]
    }
   },
   "start_time": "2022-03-17T02:33:49.269211",
   "version": "2.3.4"
  }
 },
 "nbformat": 4,
 "nbformat_minor": 5
}