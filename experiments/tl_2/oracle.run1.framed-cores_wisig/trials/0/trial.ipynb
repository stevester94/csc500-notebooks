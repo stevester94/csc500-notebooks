{
 "cells": [
  {
   "cell_type": "markdown",
   "id": "9fea5f46",
   "metadata": {
    "papermill": {
     "duration": 0.018346,
     "end_time": "2022-03-17T01:46:36.420413",
     "exception": false,
     "start_time": "2022-03-17T01:46:36.402067",
     "status": "completed"
    },
    "tags": []
   },
   "source": [
    "# Transfer Learning Template"
   ]
  },
  {
   "cell_type": "code",
   "execution_count": 1,
   "id": "0902182a",
   "metadata": {
    "execution": {
     "iopub.execute_input": "2022-03-17T01:46:36.458219Z",
     "iopub.status.busy": "2022-03-17T01:46:36.457949Z",
     "iopub.status.idle": "2022-03-17T01:46:38.070983Z",
     "shell.execute_reply": "2022-03-17T01:46:38.070457Z"
    },
    "papermill": {
     "duration": 1.637923,
     "end_time": "2022-03-17T01:46:38.071096",
     "exception": false,
     "start_time": "2022-03-17T01:46:36.433173",
     "status": "completed"
    },
    "tags": []
   },
   "outputs": [],
   "source": [
    "%load_ext autoreload\n",
    "%autoreload 2\n",
    "%matplotlib inline\n",
    "\n",
    "    \n",
    "import os, json, sys, time, random\n",
    "import numpy as np\n",
    "import torch\n",
    "from torch.optim import Adam\n",
    "from  easydict import EasyDict\n",
    "import matplotlib.pyplot as plt\n",
    "\n",
    "from steves_models.steves_ptn import Steves_Prototypical_Network\n",
    "\n",
    "from steves_utils.lazy_iterable_wrapper import Lazy_Iterable_Wrapper\n",
    "from steves_utils.iterable_aggregator import Iterable_Aggregator\n",
    "from steves_utils.ptn_train_eval_test_jig import  PTN_Train_Eval_Test_Jig\n",
    "from steves_utils.torch_sequential_builder import build_sequential\n",
    "from steves_utils.torch_utils import get_dataset_metrics, ptn_confusion_by_domain_over_dataloader\n",
    "from steves_utils.utils_v2 import (per_domain_accuracy_from_confusion, get_datasets_base_path)\n",
    "from steves_utils.PTN.utils import independent_accuracy_assesment\n",
    "\n",
    "from torch.utils.data import DataLoader\n",
    "\n",
    "from steves_utils.stratified_dataset.episodic_accessor import Episodic_Accessor_Factory\n",
    "\n",
    "from steves_utils.ptn_do_report import (\n",
    "    get_loss_curve,\n",
    "    get_results_table,\n",
    "    get_parameters_table,\n",
    "    get_domain_accuracies,\n",
    ")\n",
    "\n",
    "from steves_utils.transforms import get_chained_transform"
   ]
  },
  {
   "cell_type": "markdown",
   "id": "41c840b4",
   "metadata": {
    "papermill": {
     "duration": 0.012683,
     "end_time": "2022-03-17T01:46:38.101421",
     "exception": false,
     "start_time": "2022-03-17T01:46:38.088738",
     "status": "completed"
    },
    "tags": []
   },
   "source": [
    "# Allowed Parameters\n",
    "These are allowed parameters, not defaults\n",
    "Each of these values need to be present in the injected parameters (the notebook will raise an exception if they are not present)\n",
    "\n",
    "Papermill uses the cell tag \"parameters\" to inject the real parameters below this cell.\n",
    "Enable tags to see what I mean"
   ]
  },
  {
   "cell_type": "code",
   "execution_count": 2,
   "id": "fd44eb83",
   "metadata": {
    "execution": {
     "iopub.execute_input": "2022-03-17T01:46:38.131982Z",
     "iopub.status.busy": "2022-03-17T01:46:38.131629Z",
     "iopub.status.idle": "2022-03-17T01:46:38.145896Z",
     "shell.execute_reply": "2022-03-17T01:46:38.146384Z"
    },
    "papermill": {
     "duration": 0.032616,
     "end_time": "2022-03-17T01:46:38.146532",
     "exception": false,
     "start_time": "2022-03-17T01:46:38.113916",
     "status": "completed"
    },
    "tags": []
   },
   "outputs": [],
   "source": [
    "required_parameters = {\n",
    "    \"experiment_name\",\n",
    "    \"lr\",\n",
    "    \"device\",\n",
    "    \"seed\",\n",
    "    \"dataset_seed\",\n",
    "    \"n_shot\",\n",
    "    \"n_query\",\n",
    "    \"n_way\",\n",
    "    \"train_k_factor\",\n",
    "    \"val_k_factor\",\n",
    "    \"test_k_factor\",\n",
    "    \"n_epoch\",\n",
    "    \"patience\",\n",
    "    \"criteria_for_best\",\n",
    "    \"x_net\",\n",
    "    \"datasets\",\n",
    "    \"torch_default_dtype\",\n",
    "    \"NUM_LOGS_PER_EPOCH\",\n",
    "    \"BEST_MODEL_PATH\",\n",
    "}"
   ]
  },
  {
   "cell_type": "code",
   "execution_count": 3,
   "id": "fa3f0049",
   "metadata": {
    "execution": {
     "iopub.execute_input": "2022-03-17T01:46:38.187475Z",
     "iopub.status.busy": "2022-03-17T01:46:38.187167Z",
     "iopub.status.idle": "2022-03-17T01:46:38.200244Z",
     "shell.execute_reply": "2022-03-17T01:46:38.199819Z"
    },
    "papermill": {
     "duration": 0.036095,
     "end_time": "2022-03-17T01:46:38.200334",
     "exception": false,
     "start_time": "2022-03-17T01:46:38.164239",
     "status": "completed"
    },
    "tags": [
     "parameters"
    ]
   },
   "outputs": [],
   "source": [
    "from steves_utils.CORES.utils import (\n",
    "    ALL_NODES,\n",
    "    ALL_NODES_MINIMUM_1000_EXAMPLES,\n",
    "    ALL_DAYS\n",
    ")\n",
    "\n",
    "from steves_utils.ORACLE.utils_v2 import (\n",
    "    ALL_DISTANCES_FEET_NARROWED,\n",
    "    ALL_RUNS,\n",
    "    ALL_SERIAL_NUMBERS,\n",
    ")\n",
    "\n",
    "standalone_parameters = {}\n",
    "standalone_parameters[\"experiment_name\"] = \"STANDALONE PTN\"\n",
    "standalone_parameters[\"lr\"] = 0.001\n",
    "standalone_parameters[\"device\"] = \"cuda\"\n",
    "\n",
    "standalone_parameters[\"seed\"] = 1337\n",
    "standalone_parameters[\"dataset_seed\"] = 1337\n",
    "\n",
    "standalone_parameters[\"n_way\"] = 8\n",
    "standalone_parameters[\"n_shot\"] = 3\n",
    "standalone_parameters[\"n_query\"]  = 2\n",
    "standalone_parameters[\"train_k_factor\"] = 1\n",
    "standalone_parameters[\"val_k_factor\"] = 2\n",
    "standalone_parameters[\"test_k_factor\"] = 2\n",
    "\n",
    "\n",
    "standalone_parameters[\"n_epoch\"] = 50\n",
    "\n",
    "standalone_parameters[\"patience\"] = 10\n",
    "standalone_parameters[\"criteria_for_best\"] = \"source_loss\"\n",
    "\n",
    "standalone_parameters[\"datasets\"] = [\n",
    "    {\n",
    "        \"labels\": ALL_SERIAL_NUMBERS,\n",
    "        \"domains\": ALL_DISTANCES_FEET_NARROWED,\n",
    "        \"num_examples_per_domain_per_label\": 100,\n",
    "        \"pickle_path\": os.path.join(get_datasets_base_path(), \"oracle.Run1_framed_2000Examples_stratified_ds.2022A.pkl\"),\n",
    "        \"source_or_target_dataset\": \"source\",\n",
    "        \"x_transforms\": [\"unit_mag\", \"minus_two\"],\n",
    "        \"episode_transforms\": [],\n",
    "        \"domain_prefix\": \"ORACLE_\"\n",
    "    },\n",
    "    {\n",
    "        \"labels\": ALL_NODES,\n",
    "        \"domains\": ALL_DAYS,\n",
    "        \"num_examples_per_domain_per_label\": 100,\n",
    "        \"pickle_path\": os.path.join(get_datasets_base_path(), \"cores.stratified_ds.2022A.pkl\"),\n",
    "        \"source_or_target_dataset\": \"target\",\n",
    "        \"x_transforms\": [\"unit_power\", \"times_zero\"],\n",
    "        \"episode_transforms\": [],\n",
    "        \"domain_prefix\": \"CORES_\"\n",
    "    }   \n",
    "]\n",
    "\n",
    "standalone_parameters[\"torch_default_dtype\"] = \"torch.float32\" \n",
    "\n",
    "\n",
    "\n",
    "standalone_parameters[\"x_net\"] =     [\n",
    "    {\"class\": \"nnReshape\", \"kargs\": {\"shape\":[-1, 1, 2, 256]}},\n",
    "    {\"class\": \"Conv2d\", \"kargs\": { \"in_channels\":1, \"out_channels\":256, \"kernel_size\":(1,7), \"bias\":False, \"padding\":(0,3), },},\n",
    "    {\"class\": \"ReLU\", \"kargs\": {\"inplace\": True}},\n",
    "    {\"class\": \"BatchNorm2d\", \"kargs\": {\"num_features\":256}},\n",
    "\n",
    "    {\"class\": \"Conv2d\", \"kargs\": { \"in_channels\":256, \"out_channels\":80, \"kernel_size\":(2,7), \"bias\":True, \"padding\":(0,3), },},\n",
    "    {\"class\": \"ReLU\", \"kargs\": {\"inplace\": True}},\n",
    "    {\"class\": \"BatchNorm2d\", \"kargs\": {\"num_features\":80}},\n",
    "    {\"class\": \"Flatten\", \"kargs\": {}},\n",
    "\n",
    "    {\"class\": \"Linear\", \"kargs\": {\"in_features\": 80*256, \"out_features\": 256}}, # 80 units per IQ pair\n",
    "    {\"class\": \"ReLU\", \"kargs\": {\"inplace\": True}},\n",
    "    {\"class\": \"BatchNorm1d\", \"kargs\": {\"num_features\":256}},\n",
    "\n",
    "    {\"class\": \"Linear\", \"kargs\": {\"in_features\": 256, \"out_features\": 256}},\n",
    "]\n",
    "\n",
    "# Parameters relevant to results\n",
    "# These parameters will basically never need to change\n",
    "standalone_parameters[\"NUM_LOGS_PER_EPOCH\"] = 10\n",
    "standalone_parameters[\"BEST_MODEL_PATH\"] = \"./best_model.pth\"\n",
    "\n",
    "\n",
    "\n",
    "\n"
   ]
  },
  {
   "cell_type": "code",
   "execution_count": 4,
   "id": "ecd9fc12",
   "metadata": {
    "execution": {
     "iopub.execute_input": "2022-03-17T01:46:38.246408Z",
     "iopub.status.busy": "2022-03-17T01:46:38.245906Z",
     "iopub.status.idle": "2022-03-17T01:46:38.259061Z",
     "shell.execute_reply": "2022-03-17T01:46:38.258654Z"
    },
    "papermill": {
     "duration": 0.040387,
     "end_time": "2022-03-17T01:46:38.259159",
     "exception": false,
     "start_time": "2022-03-17T01:46:38.218772",
     "status": "completed"
    },
    "tags": [
     "injected-parameters"
    ]
   },
   "outputs": [],
   "source": [
    "# Parameters\n",
    "parameters = {\n",
    "    \"experiment_name\": \"oracle.run1.framed -> cores+wisig\",\n",
    "    \"device\": \"cuda\",\n",
    "    \"lr\": 0.001,\n",
    "    \"seed\": 1337,\n",
    "    \"dataset_seed\": 1337,\n",
    "    \"n_shot\": 3,\n",
    "    \"n_query\": 2,\n",
    "    \"train_k_factor\": 3,\n",
    "    \"val_k_factor\": 2,\n",
    "    \"test_k_factor\": 2,\n",
    "    \"torch_default_dtype\": \"torch.float32\",\n",
    "    \"n_epoch\": 50,\n",
    "    \"patience\": 3,\n",
    "    \"criteria_for_best\": \"target_loss\",\n",
    "    \"x_net\": [\n",
    "        {\"class\": \"nnReshape\", \"kargs\": {\"shape\": [-1, 1, 2, 256]}},\n",
    "        {\n",
    "            \"class\": \"Conv2d\",\n",
    "            \"kargs\": {\n",
    "                \"in_channels\": 1,\n",
    "                \"out_channels\": 256,\n",
    "                \"kernel_size\": [1, 7],\n",
    "                \"bias\": False,\n",
    "                \"padding\": [0, 3],\n",
    "            },\n",
    "        },\n",
    "        {\"class\": \"ReLU\", \"kargs\": {\"inplace\": True}},\n",
    "        {\"class\": \"BatchNorm2d\", \"kargs\": {\"num_features\": 256}},\n",
    "        {\n",
    "            \"class\": \"Conv2d\",\n",
    "            \"kargs\": {\n",
    "                \"in_channels\": 256,\n",
    "                \"out_channels\": 80,\n",
    "                \"kernel_size\": [2, 7],\n",
    "                \"bias\": True,\n",
    "                \"padding\": [0, 3],\n",
    "            },\n",
    "        },\n",
    "        {\"class\": \"ReLU\", \"kargs\": {\"inplace\": True}},\n",
    "        {\"class\": \"BatchNorm2d\", \"kargs\": {\"num_features\": 80}},\n",
    "        {\"class\": \"Flatten\", \"kargs\": {}},\n",
    "        {\"class\": \"Linear\", \"kargs\": {\"in_features\": 20480, \"out_features\": 256}},\n",
    "        {\"class\": \"ReLU\", \"kargs\": {\"inplace\": True}},\n",
    "        {\"class\": \"BatchNorm1d\", \"kargs\": {\"num_features\": 256}},\n",
    "        {\"class\": \"Linear\", \"kargs\": {\"in_features\": 256, \"out_features\": 256}},\n",
    "    ],\n",
    "    \"NUM_LOGS_PER_EPOCH\": 10,\n",
    "    \"BEST_MODEL_PATH\": \"./best_model.pth\",\n",
    "    \"n_way\": 16,\n",
    "    \"datasets\": [\n",
    "        {\n",
    "            \"labels\": [\n",
    "                \"1-10.\",\n",
    "                \"1-11.\",\n",
    "                \"1-15.\",\n",
    "                \"1-16.\",\n",
    "                \"1-17.\",\n",
    "                \"1-18.\",\n",
    "                \"1-19.\",\n",
    "                \"10-4.\",\n",
    "                \"10-7.\",\n",
    "                \"11-1.\",\n",
    "                \"11-14.\",\n",
    "                \"11-17.\",\n",
    "                \"11-20.\",\n",
    "                \"11-7.\",\n",
    "                \"13-20.\",\n",
    "                \"13-8.\",\n",
    "                \"14-10.\",\n",
    "                \"14-11.\",\n",
    "                \"14-14.\",\n",
    "                \"14-7.\",\n",
    "                \"15-1.\",\n",
    "                \"15-20.\",\n",
    "                \"16-1.\",\n",
    "                \"16-16.\",\n",
    "                \"17-10.\",\n",
    "                \"17-11.\",\n",
    "                \"17-2.\",\n",
    "                \"19-1.\",\n",
    "                \"19-16.\",\n",
    "                \"19-19.\",\n",
    "                \"19-20.\",\n",
    "                \"19-3.\",\n",
    "                \"2-10.\",\n",
    "                \"2-11.\",\n",
    "                \"2-17.\",\n",
    "                \"2-18.\",\n",
    "                \"2-20.\",\n",
    "                \"2-3.\",\n",
    "                \"2-4.\",\n",
    "                \"2-5.\",\n",
    "                \"2-6.\",\n",
    "                \"2-7.\",\n",
    "                \"2-8.\",\n",
    "                \"3-13.\",\n",
    "                \"3-18.\",\n",
    "                \"3-3.\",\n",
    "                \"4-1.\",\n",
    "                \"4-10.\",\n",
    "                \"4-11.\",\n",
    "                \"4-19.\",\n",
    "                \"5-5.\",\n",
    "                \"6-15.\",\n",
    "                \"7-10.\",\n",
    "                \"7-14.\",\n",
    "                \"8-18.\",\n",
    "                \"8-20.\",\n",
    "                \"8-3.\",\n",
    "                \"8-8.\",\n",
    "            ],\n",
    "            \"domains\": [1, 2, 3, 4, 5],\n",
    "            \"num_examples_per_domain_per_label\": 100,\n",
    "            \"pickle_path\": \"/mnt/wd500GB/CSC500/csc500-main/datasets/cores.stratified_ds.2022A.pkl\",\n",
    "            \"source_or_target_dataset\": \"target\",\n",
    "            \"x_transforms\": [\"unit_power\"],\n",
    "            \"episode_transforms\": [],\n",
    "            \"domain_prefix\": \"C_A_\",\n",
    "        },\n",
    "        {\n",
    "            \"labels\": [\n",
    "                \"1-10\",\n",
    "                \"1-12\",\n",
    "                \"1-14\",\n",
    "                \"1-16\",\n",
    "                \"1-18\",\n",
    "                \"1-19\",\n",
    "                \"1-8\",\n",
    "                \"10-11\",\n",
    "                \"10-17\",\n",
    "                \"10-4\",\n",
    "                \"10-7\",\n",
    "                \"11-1\",\n",
    "                \"11-10\",\n",
    "                \"11-19\",\n",
    "                \"11-20\",\n",
    "                \"11-4\",\n",
    "                \"11-7\",\n",
    "                \"12-19\",\n",
    "                \"12-20\",\n",
    "                \"12-7\",\n",
    "                \"13-14\",\n",
    "                \"13-18\",\n",
    "                \"13-19\",\n",
    "                \"13-20\",\n",
    "                \"13-3\",\n",
    "                \"13-7\",\n",
    "                \"14-10\",\n",
    "                \"14-11\",\n",
    "                \"14-12\",\n",
    "                \"14-13\",\n",
    "                \"14-14\",\n",
    "                \"14-19\",\n",
    "                \"14-20\",\n",
    "                \"14-7\",\n",
    "                \"14-8\",\n",
    "                \"14-9\",\n",
    "                \"15-1\",\n",
    "                \"15-19\",\n",
    "                \"15-6\",\n",
    "                \"16-1\",\n",
    "                \"16-16\",\n",
    "                \"16-19\",\n",
    "                \"16-20\",\n",
    "                \"17-10\",\n",
    "                \"17-11\",\n",
    "                \"18-1\",\n",
    "                \"18-10\",\n",
    "                \"18-11\",\n",
    "                \"18-12\",\n",
    "                \"18-13\",\n",
    "                \"18-14\",\n",
    "                \"18-15\",\n",
    "                \"18-16\",\n",
    "                \"18-17\",\n",
    "                \"18-19\",\n",
    "                \"18-2\",\n",
    "                \"18-20\",\n",
    "                \"18-4\",\n",
    "                \"18-5\",\n",
    "                \"18-7\",\n",
    "                \"18-8\",\n",
    "                \"18-9\",\n",
    "                \"19-1\",\n",
    "                \"19-10\",\n",
    "                \"19-11\",\n",
    "                \"19-12\",\n",
    "                \"19-13\",\n",
    "                \"19-14\",\n",
    "                \"19-15\",\n",
    "                \"19-19\",\n",
    "                \"19-2\",\n",
    "                \"19-20\",\n",
    "                \"19-3\",\n",
    "                \"19-4\",\n",
    "                \"19-6\",\n",
    "                \"19-7\",\n",
    "                \"19-8\",\n",
    "                \"19-9\",\n",
    "                \"2-1\",\n",
    "                \"2-13\",\n",
    "                \"2-15\",\n",
    "                \"2-3\",\n",
    "                \"2-4\",\n",
    "                \"2-5\",\n",
    "                \"2-6\",\n",
    "                \"2-7\",\n",
    "                \"2-8\",\n",
    "                \"20-1\",\n",
    "                \"20-12\",\n",
    "                \"20-14\",\n",
    "                \"20-15\",\n",
    "                \"20-16\",\n",
    "                \"20-18\",\n",
    "                \"20-19\",\n",
    "                \"20-20\",\n",
    "                \"20-3\",\n",
    "                \"20-4\",\n",
    "                \"20-5\",\n",
    "                \"20-7\",\n",
    "                \"20-8\",\n",
    "                \"3-1\",\n",
    "                \"3-13\",\n",
    "                \"3-18\",\n",
    "                \"3-2\",\n",
    "                \"3-8\",\n",
    "                \"4-1\",\n",
    "                \"4-10\",\n",
    "                \"4-11\",\n",
    "                \"5-1\",\n",
    "                \"5-5\",\n",
    "                \"6-1\",\n",
    "                \"6-15\",\n",
    "                \"6-6\",\n",
    "                \"7-10\",\n",
    "                \"7-11\",\n",
    "                \"7-12\",\n",
    "                \"7-13\",\n",
    "                \"7-14\",\n",
    "                \"7-7\",\n",
    "                \"7-8\",\n",
    "                \"7-9\",\n",
    "                \"8-1\",\n",
    "                \"8-13\",\n",
    "                \"8-14\",\n",
    "                \"8-18\",\n",
    "                \"8-20\",\n",
    "                \"8-3\",\n",
    "                \"8-8\",\n",
    "                \"9-1\",\n",
    "                \"9-7\",\n",
    "            ],\n",
    "            \"domains\": [1, 2, 3, 4],\n",
    "            \"num_examples_per_domain_per_label\": 100,\n",
    "            \"pickle_path\": \"/mnt/wd500GB/CSC500/csc500-main/datasets/wisig.node3-19.stratified_ds.2022A.pkl\",\n",
    "            \"source_or_target_dataset\": \"target\",\n",
    "            \"x_transforms\": [\"unit_power\"],\n",
    "            \"episode_transforms\": [],\n",
    "            \"domain_prefix\": \"W_A_\",\n",
    "        },\n",
    "        {\n",
    "            \"labels\": [\n",
    "                \"3123D52\",\n",
    "                \"3123D65\",\n",
    "                \"3123D79\",\n",
    "                \"3123D80\",\n",
    "                \"3123D54\",\n",
    "                \"3123D70\",\n",
    "                \"3123D7B\",\n",
    "                \"3123D89\",\n",
    "                \"3123D58\",\n",
    "                \"3123D76\",\n",
    "                \"3123D7D\",\n",
    "                \"3123EFE\",\n",
    "                \"3123D64\",\n",
    "                \"3123D78\",\n",
    "                \"3123D7E\",\n",
    "                \"3124E4A\",\n",
    "            ],\n",
    "            \"domains\": [32, 38, 8, 44, 14, 50, 20, 26],\n",
    "            \"num_examples_per_domain_per_label\": 2000,\n",
    "            \"pickle_path\": \"/mnt/wd500GB/CSC500/csc500-main/datasets/oracle.Run1_framed_2000Examples_stratified_ds.2022A.pkl\",\n",
    "            \"source_or_target_dataset\": \"source\",\n",
    "            \"x_transforms\": [\"unit_power\"],\n",
    "            \"episode_transforms\": [],\n",
    "            \"domain_prefix\": \"ORACLE.run1_\",\n",
    "        },\n",
    "    ],\n",
    "}\n"
   ]
  },
  {
   "cell_type": "code",
   "execution_count": 5,
   "id": "8fa1cc33",
   "metadata": {
    "execution": {
     "iopub.execute_input": "2022-03-17T01:46:38.293040Z",
     "iopub.status.busy": "2022-03-17T01:46:38.292732Z",
     "iopub.status.idle": "2022-03-17T01:46:38.307641Z",
     "shell.execute_reply": "2022-03-17T01:46:38.307204Z"
    },
    "papermill": {
     "duration": 0.031581,
     "end_time": "2022-03-17T01:46:38.307731",
     "exception": false,
     "start_time": "2022-03-17T01:46:38.276150",
     "status": "completed"
    },
    "tags": []
   },
   "outputs": [],
   "source": [
    "# Set this to True if you want to run this template directly\n",
    "STANDALONE = False\n",
    "if STANDALONE:\n",
    "    print(\"parameters not injected, running with standalone_parameters\")\n",
    "    parameters = standalone_parameters\n",
    "\n",
    "if not 'parameters' in locals() and not 'parameters' in globals():\n",
    "    raise Exception(\"Parameter injection failed\")\n",
    "\n",
    "#Use an easy dict for all the parameters\n",
    "p = EasyDict(parameters)\n",
    "\n",
    "supplied_keys = set(p.keys())\n",
    "\n",
    "if  supplied_keys != required_parameters:\n",
    "    print(\"Parameters are incorrect\")\n",
    "    if len(supplied_keys - required_parameters)>0: print(\"Shouldn't have:\", str(supplied_keys - required_parameters))\n",
    "    if len(required_parameters - supplied_keys)>0: print(\"Need to have:\", str(required_parameters - supplied_keys))\n",
    "    raise RuntimeError(\"Parameters are incorrect\")\n",
    "\n"
   ]
  },
  {
   "cell_type": "code",
   "execution_count": 6,
   "id": "3a028d58",
   "metadata": {
    "execution": {
     "iopub.execute_input": "2022-03-17T01:46:38.342256Z",
     "iopub.status.busy": "2022-03-17T01:46:38.342003Z",
     "iopub.status.idle": "2022-03-17T01:46:38.355796Z",
     "shell.execute_reply": "2022-03-17T01:46:38.355576Z"
    },
    "papermill": {
     "duration": 0.029324,
     "end_time": "2022-03-17T01:46:38.355848",
     "exception": false,
     "start_time": "2022-03-17T01:46:38.326524",
     "status": "completed"
    },
    "tags": []
   },
   "outputs": [],
   "source": [
    "###################################\n",
    "# Set the RNGs and make it all deterministic\n",
    "###################################\n",
    "np.random.seed(p.seed)\n",
    "random.seed(p.seed)\n",
    "torch.manual_seed(p.seed)\n",
    "\n",
    "torch.use_deterministic_algorithms(True) "
   ]
  },
  {
   "cell_type": "code",
   "execution_count": 7,
   "id": "b691acf6",
   "metadata": {
    "execution": {
     "iopub.execute_input": "2022-03-17T01:46:38.390364Z",
     "iopub.status.busy": "2022-03-17T01:46:38.390107Z",
     "iopub.status.idle": "2022-03-17T01:46:38.405034Z",
     "shell.execute_reply": "2022-03-17T01:46:38.404557Z"
    },
    "papermill": {
     "duration": 0.030726,
     "end_time": "2022-03-17T01:46:38.405126",
     "exception": false,
     "start_time": "2022-03-17T01:46:38.374400",
     "status": "completed"
    },
    "tags": []
   },
   "outputs": [],
   "source": [
    "###########################################\n",
    "# The stratified datasets honor this\n",
    "###########################################\n",
    "torch.set_default_dtype(eval(p.torch_default_dtype))"
   ]
  },
  {
   "cell_type": "code",
   "execution_count": 8,
   "id": "b5fba671",
   "metadata": {
    "execution": {
     "iopub.execute_input": "2022-03-17T01:46:38.438308Z",
     "iopub.status.busy": "2022-03-17T01:46:38.438053Z",
     "iopub.status.idle": "2022-03-17T01:46:38.477902Z",
     "shell.execute_reply": "2022-03-17T01:46:38.477436Z"
    },
    "papermill": {
     "duration": 0.054795,
     "end_time": "2022-03-17T01:46:38.478008",
     "exception": false,
     "start_time": "2022-03-17T01:46:38.423213",
     "status": "completed"
    },
    "tags": []
   },
   "outputs": [],
   "source": [
    "###################################\n",
    "# Build the network(s)\n",
    "# Note: It's critical to do this AFTER setting the RNG\n",
    "###################################\n",
    "x_net = build_sequential(p.x_net)"
   ]
  },
  {
   "cell_type": "code",
   "execution_count": 9,
   "id": "5d7e61cc",
   "metadata": {
    "execution": {
     "iopub.execute_input": "2022-03-17T01:46:38.510668Z",
     "iopub.status.busy": "2022-03-17T01:46:38.510412Z",
     "iopub.status.idle": "2022-03-17T01:46:38.525204Z",
     "shell.execute_reply": "2022-03-17T01:46:38.524810Z"
    },
    "papermill": {
     "duration": 0.030508,
     "end_time": "2022-03-17T01:46:38.525294",
     "exception": false,
     "start_time": "2022-03-17T01:46:38.494786",
     "status": "completed"
    },
    "tags": []
   },
   "outputs": [],
   "source": [
    "start_time_secs = time.time()"
   ]
  },
  {
   "cell_type": "code",
   "execution_count": 10,
   "id": "c6b67dfd",
   "metadata": {
    "execution": {
     "iopub.execute_input": "2022-03-17T01:46:38.559171Z",
     "iopub.status.busy": "2022-03-17T01:46:38.558923Z",
     "iopub.status.idle": "2022-03-17T01:46:38.571696Z",
     "shell.execute_reply": "2022-03-17T01:46:38.571323Z"
    },
    "papermill": {
     "duration": 0.028529,
     "end_time": "2022-03-17T01:46:38.571785",
     "exception": false,
     "start_time": "2022-03-17T01:46:38.543256",
     "status": "completed"
    },
    "tags": []
   },
   "outputs": [],
   "source": [
    "p.domains_source = []\n",
    "p.domains_target = []\n",
    "\n",
    "\n",
    "train_original_source = []\n",
    "val_original_source   = []\n",
    "test_original_source  = []\n",
    "\n",
    "train_original_target = []\n",
    "val_original_target   = []\n",
    "test_original_target  = []"
   ]
  },
  {
   "cell_type": "code",
   "execution_count": 11,
   "id": "e3d9c3d3",
   "metadata": {
    "execution": {
     "iopub.execute_input": "2022-03-17T01:46:38.606134Z",
     "iopub.status.busy": "2022-03-17T01:46:38.605867Z",
     "iopub.status.idle": "2022-03-17T01:46:38.614991Z",
     "shell.execute_reply": "2022-03-17T01:46:38.614682Z"
    },
    "papermill": {
     "duration": 0.024656,
     "end_time": "2022-03-17T01:46:38.615061",
     "exception": false,
     "start_time": "2022-03-17T01:46:38.590405",
     "status": "completed"
    },
    "tags": []
   },
   "outputs": [],
   "source": [
    "# global_x_transform_func = lambda x: normalize(x.to(torch.get_default_dtype()), \"unit_power\") # unit_power, unit_mag\n",
    "# global_x_transform_func = lambda x: normalize(x, \"unit_power\") # unit_power, unit_mag"
   ]
  },
  {
   "cell_type": "code",
   "execution_count": 12,
   "id": "acb78fd2",
   "metadata": {
    "execution": {
     "iopub.execute_input": "2022-03-17T01:46:38.649564Z",
     "iopub.status.busy": "2022-03-17T01:46:38.649091Z",
     "iopub.status.idle": "2022-03-17T01:46:38.659532Z",
     "shell.execute_reply": "2022-03-17T01:46:38.659839Z"
    },
    "papermill": {
     "duration": 0.02865,
     "end_time": "2022-03-17T01:46:38.659950",
     "exception": false,
     "start_time": "2022-03-17T01:46:38.631300",
     "status": "completed"
    },
    "tags": []
   },
   "outputs": [],
   "source": [
    "def add_dataset(\n",
    "    labels,\n",
    "    domains,\n",
    "    pickle_path,\n",
    "    x_transforms,\n",
    "    episode_transforms,\n",
    "    domain_prefix,\n",
    "    num_examples_per_domain_per_label,\n",
    "    source_or_target_dataset:str,\n",
    "    iterator_seed=p.seed,\n",
    "    dataset_seed=p.dataset_seed,\n",
    "    n_shot=p.n_shot,\n",
    "    n_way=p.n_way,\n",
    "    n_query=p.n_query,\n",
    "    train_val_test_k_factors=(p.train_k_factor,p.val_k_factor,p.test_k_factor),\n",
    "):\n",
    "   \n",
    "    if x_transforms == []: x_transform = None\n",
    "    else: x_transform = get_chained_transform(x_transforms)\n",
    "    \n",
    "    if episode_transforms == []: episode_transform = None\n",
    "    else: raise Exception(\"episode_transforms not implemented\")\n",
    "    \n",
    "    episode_transform = lambda tup, _prefix=domain_prefix: (_prefix + str(tup[0]), tup[1])\n",
    "\n",
    "\n",
    "    eaf = Episodic_Accessor_Factory(\n",
    "        labels=labels,\n",
    "        domains=domains,\n",
    "        num_examples_per_domain_per_label=num_examples_per_domain_per_label,\n",
    "        iterator_seed=iterator_seed,\n",
    "        dataset_seed=dataset_seed,\n",
    "        n_shot=n_shot,\n",
    "        n_way=n_way,\n",
    "        n_query=n_query,\n",
    "        train_val_test_k_factors=train_val_test_k_factors,\n",
    "        pickle_path=pickle_path,\n",
    "        x_transform_func=x_transform,\n",
    "    )\n",
    "\n",
    "    train, val, test = eaf.get_train(), eaf.get_val(), eaf.get_test()\n",
    "    train = Lazy_Iterable_Wrapper(train, episode_transform)\n",
    "    val = Lazy_Iterable_Wrapper(val, episode_transform)\n",
    "    test = Lazy_Iterable_Wrapper(test, episode_transform)\n",
    "\n",
    "    if source_or_target_dataset==\"source\":\n",
    "        train_original_source.append(train)\n",
    "        val_original_source.append(val)\n",
    "        test_original_source.append(test)\n",
    "\n",
    "        p.domains_source.extend(\n",
    "            [domain_prefix + str(u) for u in domains]\n",
    "        )\n",
    "    elif source_or_target_dataset==\"target\":\n",
    "        train_original_target.append(train)\n",
    "        val_original_target.append(val)\n",
    "        test_original_target.append(test)\n",
    "        p.domains_target.extend(\n",
    "            [domain_prefix + str(u) for u in domains]\n",
    "        )\n",
    "    else:\n",
    "        raise Exception(f\"invalid source_or_target_dataset: {source_or_target_dataset}\")\n",
    "    "
   ]
  },
  {
   "cell_type": "code",
   "execution_count": 13,
   "id": "fe266617",
   "metadata": {
    "execution": {
     "iopub.execute_input": "2022-03-17T01:46:38.693695Z",
     "iopub.status.busy": "2022-03-17T01:46:38.693447Z",
     "iopub.status.idle": "2022-03-17T01:47:04.815963Z",
     "shell.execute_reply": "2022-03-17T01:47:04.815532Z"
    },
    "papermill": {
     "duration": 26.137336,
     "end_time": "2022-03-17T01:47:04.816066",
     "exception": false,
     "start_time": "2022-03-17T01:46:38.678730",
     "status": "completed"
    },
    "tags": []
   },
   "outputs": [],
   "source": [
    "for ds in p.datasets:\n",
    "    add_dataset(**ds)"
   ]
  },
  {
   "cell_type": "code",
   "execution_count": 14,
   "id": "b90d65ac",
   "metadata": {
    "execution": {
     "iopub.execute_input": "2022-03-17T01:47:04.851235Z",
     "iopub.status.busy": "2022-03-17T01:47:04.850958Z",
     "iopub.status.idle": "2022-03-17T01:47:04.864202Z",
     "shell.execute_reply": "2022-03-17T01:47:04.864496Z"
    },
    "papermill": {
     "duration": 0.029155,
     "end_time": "2022-03-17T01:47:04.864580",
     "exception": false,
     "start_time": "2022-03-17T01:47:04.835425",
     "status": "completed"
    },
    "tags": []
   },
   "outputs": [],
   "source": [
    "# from steves_utils.CORES.utils import (\n",
    "#     ALL_NODES,\n",
    "#     ALL_NODES_MINIMUM_1000_EXAMPLES,\n",
    "#     ALL_DAYS\n",
    "# )\n",
    "\n",
    "# add_dataset(\n",
    "#     labels=ALL_NODES,\n",
    "#     domains = ALL_DAYS,\n",
    "#     num_examples_per_domain_per_label=100,\n",
    "#     pickle_path=os.path.join(get_datasets_base_path(), \"cores.stratified_ds.2022A.pkl\"),\n",
    "#     source_or_target_dataset=\"target\",\n",
    "#     x_transform_func=global_x_transform_func,\n",
    "#     domain_modifier=lambda u: f\"cores_{u}\"\n",
    "# )"
   ]
  },
  {
   "cell_type": "code",
   "execution_count": 15,
   "id": "76db484d",
   "metadata": {
    "execution": {
     "iopub.execute_input": "2022-03-17T01:47:04.898356Z",
     "iopub.status.busy": "2022-03-17T01:47:04.898106Z",
     "iopub.status.idle": "2022-03-17T01:47:04.911773Z",
     "shell.execute_reply": "2022-03-17T01:47:04.911371Z"
    },
    "papermill": {
     "duration": 0.028976,
     "end_time": "2022-03-17T01:47:04.911863",
     "exception": false,
     "start_time": "2022-03-17T01:47:04.882887",
     "status": "completed"
    },
    "tags": []
   },
   "outputs": [],
   "source": [
    "# from steves_utils.ORACLE.utils_v2 import (\n",
    "#     ALL_DISTANCES_FEET,\n",
    "#     ALL_RUNS,\n",
    "#     ALL_SERIAL_NUMBERS,\n",
    "# )\n",
    "\n",
    "\n",
    "# add_dataset(\n",
    "#     labels=ALL_SERIAL_NUMBERS,\n",
    "#     domains = list(set(ALL_DISTANCES_FEET) - {2,62}),\n",
    "#     num_examples_per_domain_per_label=100,\n",
    "#     pickle_path=os.path.join(get_datasets_base_path(), \"oracle.Run2_framed_2000Examples_stratified_ds.2022A.pkl\"),\n",
    "#     source_or_target_dataset=\"source\",\n",
    "#     x_transform_func=global_x_transform_func,\n",
    "#     domain_modifier=lambda u: f\"oracle1_{u}\"\n",
    "# )\n"
   ]
  },
  {
   "cell_type": "code",
   "execution_count": 16,
   "id": "97dea9d2",
   "metadata": {
    "execution": {
     "iopub.execute_input": "2022-03-17T01:47:04.942651Z",
     "iopub.status.busy": "2022-03-17T01:47:04.942327Z",
     "iopub.status.idle": "2022-03-17T01:47:04.955592Z",
     "shell.execute_reply": "2022-03-17T01:47:04.955176Z"
    },
    "papermill": {
     "duration": 0.028253,
     "end_time": "2022-03-17T01:47:04.955668",
     "exception": false,
     "start_time": "2022-03-17T01:47:04.927415",
     "status": "completed"
    },
    "tags": []
   },
   "outputs": [],
   "source": [
    "# from steves_utils.ORACLE.utils_v2 import (\n",
    "#     ALL_DISTANCES_FEET,\n",
    "#     ALL_RUNS,\n",
    "#     ALL_SERIAL_NUMBERS,\n",
    "# )\n",
    "\n",
    "\n",
    "# add_dataset(\n",
    "#     labels=ALL_SERIAL_NUMBERS,\n",
    "#     domains = list(set(ALL_DISTANCES_FEET) - {2,62,56}),\n",
    "#     num_examples_per_domain_per_label=100,\n",
    "#     pickle_path=os.path.join(get_datasets_base_path(), \"oracle.Run2_framed_2000Examples_stratified_ds.2022A.pkl\"),\n",
    "#     source_or_target_dataset=\"source\",\n",
    "#     x_transform_func=global_x_transform_func,\n",
    "#     domain_modifier=lambda u: f\"oracle2_{u}\"\n",
    "# )"
   ]
  },
  {
   "cell_type": "code",
   "execution_count": 17,
   "id": "6f289866",
   "metadata": {
    "execution": {
     "iopub.execute_input": "2022-03-17T01:47:04.990511Z",
     "iopub.status.busy": "2022-03-17T01:47:04.990259Z",
     "iopub.status.idle": "2022-03-17T01:47:05.000057Z",
     "shell.execute_reply": "2022-03-17T01:47:05.000347Z"
    },
    "papermill": {
     "duration": 0.025433,
     "end_time": "2022-03-17T01:47:05.000427",
     "exception": false,
     "start_time": "2022-03-17T01:47:04.974994",
     "status": "completed"
    },
    "tags": []
   },
   "outputs": [],
   "source": [
    "# add_dataset(\n",
    "#     labels=list(range(19)),\n",
    "#     domains = [0,1,2],\n",
    "#     num_examples_per_domain_per_label=100,\n",
    "#     pickle_path=os.path.join(get_datasets_base_path(), \"metehan.stratified_ds.2022A.pkl\"),\n",
    "#     source_or_target_dataset=\"target\",\n",
    "#     x_transform_func=global_x_transform_func,\n",
    "#     domain_modifier=lambda u: f\"met_{u}\"\n",
    "# )"
   ]
  },
  {
   "cell_type": "code",
   "execution_count": 18,
   "id": "86a863c3",
   "metadata": {
    "execution": {
     "iopub.execute_input": "2022-03-17T01:47:05.034472Z",
     "iopub.status.busy": "2022-03-17T01:47:05.034224Z",
     "iopub.status.idle": "2022-03-17T01:47:05.044592Z",
     "shell.execute_reply": "2022-03-17T01:47:05.044350Z"
    },
    "papermill": {
     "duration": 0.025635,
     "end_time": "2022-03-17T01:47:05.044640",
     "exception": false,
     "start_time": "2022-03-17T01:47:05.019005",
     "status": "completed"
    },
    "tags": []
   },
   "outputs": [],
   "source": [
    "# # from steves_utils.wisig.utils import (\n",
    "# #     ALL_NODES_MINIMUM_100_EXAMPLES,\n",
    "# #     ALL_NODES_MINIMUM_500_EXAMPLES,\n",
    "# #     ALL_NODES_MINIMUM_1000_EXAMPLES,\n",
    "# #     ALL_DAYS\n",
    "# # )\n",
    "\n",
    "# import steves_utils.wisig.utils as wisig\n",
    "\n",
    "\n",
    "# add_dataset(\n",
    "#     labels=wisig.ALL_NODES_MINIMUM_100_EXAMPLES,\n",
    "#     domains = wisig.ALL_DAYS,\n",
    "#     num_examples_per_domain_per_label=100,\n",
    "#     pickle_path=os.path.join(get_datasets_base_path(), \"wisig.node3-19.stratified_ds.2022A.pkl\"),\n",
    "#     source_or_target_dataset=\"target\",\n",
    "#     x_transform_func=global_x_transform_func,\n",
    "#     domain_modifier=lambda u: f\"wisig_{u}\"\n",
    "# )"
   ]
  },
  {
   "cell_type": "code",
   "execution_count": 19,
   "id": "fd5442bc",
   "metadata": {
    "execution": {
     "iopub.execute_input": "2022-03-17T01:47:05.079872Z",
     "iopub.status.busy": "2022-03-17T01:47:05.079612Z",
     "iopub.status.idle": "2022-03-17T01:47:05.092881Z",
     "shell.execute_reply": "2022-03-17T01:47:05.092493Z"
    },
    "papermill": {
     "duration": 0.031854,
     "end_time": "2022-03-17T01:47:05.092969",
     "exception": false,
     "start_time": "2022-03-17T01:47:05.061115",
     "status": "completed"
    },
    "tags": []
   },
   "outputs": [],
   "source": [
    "###################################\n",
    "# Build the dataset\n",
    "###################################\n",
    "train_original_source = Iterable_Aggregator(train_original_source, p.seed)\n",
    "val_original_source = Iterable_Aggregator(val_original_source, p.seed)\n",
    "test_original_source = Iterable_Aggregator(test_original_source, p.seed)\n",
    "\n",
    "\n",
    "train_original_target = Iterable_Aggregator(train_original_target, p.seed)\n",
    "val_original_target = Iterable_Aggregator(val_original_target, p.seed)\n",
    "test_original_target = Iterable_Aggregator(test_original_target, p.seed)\n",
    "\n",
    "# For CNN We only use X and Y. And we only train on the source.\n",
    "# Properly form the data using a transform lambda and Lazy_Iterable_Wrapper. Finally wrap them in a dataloader\n",
    "\n",
    "transform_lambda = lambda ex: ex[1] # Original is (<domain>, <episode>) so we strip down to episode only\n",
    "\n",
    "train_processed_source = Lazy_Iterable_Wrapper(train_original_source, transform_lambda)\n",
    "val_processed_source   = Lazy_Iterable_Wrapper(val_original_source, transform_lambda)\n",
    "test_processed_source  = Lazy_Iterable_Wrapper(test_original_source, transform_lambda)\n",
    "\n",
    "train_processed_target = Lazy_Iterable_Wrapper(train_original_target, transform_lambda)\n",
    "val_processed_target   = Lazy_Iterable_Wrapper(val_original_target, transform_lambda)\n",
    "test_processed_target  = Lazy_Iterable_Wrapper(test_original_target, transform_lambda)\n",
    "\n",
    "datasets = EasyDict({\n",
    "    \"source\": {\n",
    "        \"original\": {\"train\":train_original_source, \"val\":val_original_source, \"test\":test_original_source},\n",
    "        \"processed\": {\"train\":train_processed_source, \"val\":val_processed_source, \"test\":test_processed_source}\n",
    "    },\n",
    "    \"target\": {\n",
    "        \"original\": {\"train\":train_original_target, \"val\":val_original_target, \"test\":test_original_target},\n",
    "        \"processed\": {\"train\":train_processed_target, \"val\":val_processed_target, \"test\":test_processed_target}\n",
    "    },\n",
    "})"
   ]
  },
  {
   "cell_type": "code",
   "execution_count": 20,
   "id": "5b3c01fc",
   "metadata": {
    "execution": {
     "iopub.execute_input": "2022-03-17T01:47:05.128716Z",
     "iopub.status.busy": "2022-03-17T01:47:05.128462Z",
     "iopub.status.idle": "2022-03-17T01:47:11.144508Z",
     "shell.execute_reply": "2022-03-17T01:47:11.144974Z"
    },
    "papermill": {
     "duration": 6.03341,
     "end_time": "2022-03-17T01:47:11.145103",
     "exception": false,
     "start_time": "2022-03-17T01:47:05.111693",
     "status": "completed"
    },
    "tags": []
   },
   "outputs": [
    {
     "name": "stdout",
     "output_type": "stream",
     "text": [
      "{'ORACLE.run1_50', 'ORACLE.run1_20', 'ORACLE.run1_14', 'ORACLE.run1_44', 'ORACLE.run1_32', 'ORACLE.run1_8', 'ORACLE.run1_26', 'ORACLE.run1_38'}\n"
     ]
    },
    {
     "name": "stdout",
     "output_type": "stream",
     "text": [
      "{'C_A_5', 'C_A_3', 'W_A_4', 'W_A_3', 'C_A_4', 'C_A_2', 'W_A_1', 'C_A_1', 'W_A_2'}\n"
     ]
    },
    {
     "name": "stdout",
     "output_type": "stream",
     "text": [
      "tensor([[[-0.0924,  1.1552, -0.1109,  ..., -0.9518, -0.2588, -0.5545],\n",
      "         [-0.6376, -0.2957,  1.0535,  ...,  0.2403, -1.4139, -0.4713]],\n",
      "\n",
      "        [[-0.4449,  0.6767,  0.5469,  ..., -1.2421, -1.1679, -0.1112],\n",
      "         [-1.1216, -0.3152,  1.1030,  ...,  0.4078, -0.1483,  1.2050]],\n",
      "\n",
      "        [[ 0.6507, -0.3532, -0.7623,  ...,  0.7901,  1.3665,  0.3254],\n",
      "         [ 0.8273,  0.6786, -0.8831,  ..., -0.7530,  0.4648, -1.1527]],\n",
      "\n",
      "        ...,\n",
      "\n",
      "        [[ 0.9828, -0.2394, -1.1718,  ...,  0.6363,  0.9828, -0.6489],\n",
      "         [ 0.5544,  0.7119, -0.3717,  ..., -0.9702, -0.6111, -1.1214]],\n",
      "\n",
      "        [[ 0.0252, -0.9847,  0.2840,  ...,  0.8963,  0.4671,  1.0667],\n",
      "         [ 0.7890,  0.4229, -1.1298,  ..., -0.1199,  1.2624, -0.2272]],\n",
      "\n",
      "        [[ 0.4796,  0.3281, -0.7194,  ..., -0.4544,  1.2306,  1.0223],\n",
      "         [-0.4102,  1.1043, -0.0316,  ..., -1.0728, -0.0568, -0.2461]]])\n"
     ]
    }
   ],
   "source": [
    "from steves_utils.transforms import get_average_magnitude, get_average_power\n",
    "\n",
    "print(set([u for u,_ in val_original_source]))\n",
    "print(set([u for u,_ in val_original_target]))\n",
    "\n",
    "s_x, s_y, q_x, q_y, _ = next(iter(train_processed_source))\n",
    "print(s_x)\n",
    "\n",
    "# for ds in [\n",
    "#     train_processed_source,\n",
    "#     val_processed_source,\n",
    "#     test_processed_source,\n",
    "#     train_processed_target,\n",
    "#     val_processed_target,\n",
    "#     test_processed_target\n",
    "# ]:\n",
    "#     for s_x, s_y, q_x, q_y, _ in ds:\n",
    "#         for X in (s_x, q_x):\n",
    "#             for x in X:\n",
    "#                 assert np.isclose(get_average_magnitude(x.numpy()), 1.0)\n",
    "#                 assert np.isclose(get_average_power(x.numpy()), 1.0)\n",
    "                "
   ]
  },
  {
   "cell_type": "code",
   "execution_count": 21,
   "id": "bbdacba1",
   "metadata": {
    "execution": {
     "iopub.execute_input": "2022-03-17T01:47:11.179387Z",
     "iopub.status.busy": "2022-03-17T01:47:11.177853Z",
     "iopub.status.idle": "2022-03-17T01:47:11.262338Z",
     "shell.execute_reply": "2022-03-17T01:47:11.261866Z"
    },
    "papermill": {
     "duration": 0.101099,
     "end_time": "2022-03-17T01:47:11.262431",
     "exception": false,
     "start_time": "2022-03-17T01:47:11.161332",
     "status": "completed"
    },
    "tags": []
   },
   "outputs": [
    {
     "name": "stdout",
     "output_type": "stream",
     "text": [
      "(2, 256)\n"
     ]
    }
   ],
   "source": [
    "###################################\n",
    "# Build the model\n",
    "###################################\n",
    "model = Steves_Prototypical_Network(x_net, device=p.device, x_shape=(2,256))\n",
    "optimizer = Adam(params=model.parameters(), lr=p.lr)"
   ]
  },
  {
   "cell_type": "code",
   "execution_count": 22,
   "id": "22b39ac5",
   "metadata": {
    "execution": {
     "iopub.execute_input": "2022-03-17T01:47:11.300105Z",
     "iopub.status.busy": "2022-03-17T01:47:11.297840Z",
     "iopub.status.idle": "2022-03-17T02:13:17.422086Z",
     "shell.execute_reply": "2022-03-17T02:13:17.421835Z"
    },
    "papermill": {
     "duration": 1566.140319,
     "end_time": "2022-03-17T02:13:17.422148",
     "exception": false,
     "start_time": "2022-03-17T01:47:11.281829",
     "status": "completed"
    },
    "tags": []
   },
   "outputs": [
    {
     "name": "stdout",
     "output_type": "stream",
     "text": [
      "epoch: 1, [batch: 1 / 6720], examples_per_second: 51.1734, train_label_loss: 3.1954, \n"
     ]
    },
    {
     "name": "stdout",
     "output_type": "stream",
     "text": [
      "epoch: 1, [batch: 672 / 6720], examples_per_second: 3304.7855, train_label_loss: 0.6354, \n"
     ]
    },
    {
     "name": "stdout",
     "output_type": "stream",
     "text": [
      "epoch: 1, [batch: 1344 / 6720], examples_per_second: 3285.6158, train_label_loss: 0.6933, \n"
     ]
    },
    {
     "name": "stdout",
     "output_type": "stream",
     "text": [
      "epoch: 1, [batch: 2016 / 6720], examples_per_second: 3260.8728, train_label_loss: 0.7972, \n"
     ]
    },
    {
     "name": "stdout",
     "output_type": "stream",
     "text": [
      "epoch: 1, [batch: 2688 / 6720], examples_per_second: 3258.7625, train_label_loss: 0.8621, \n"
     ]
    },
    {
     "name": "stdout",
     "output_type": "stream",
     "text": [
      "epoch: 1, [batch: 3360 / 6720], examples_per_second: 3290.0543, train_label_loss: 0.9537, \n"
     ]
    },
    {
     "name": "stdout",
     "output_type": "stream",
     "text": [
      "epoch: 1, [batch: 4032 / 6720], examples_per_second: 3290.6690, train_label_loss: 0.6714, \n"
     ]
    },
    {
     "name": "stdout",
     "output_type": "stream",
     "text": [
      "epoch: 1, [batch: 4704 / 6720], examples_per_second: 3280.8842, train_label_loss: 0.3359, \n"
     ]
    },
    {
     "name": "stdout",
     "output_type": "stream",
     "text": [
      "epoch: 1, [batch: 5376 / 6720], examples_per_second: 3281.4249, train_label_loss: 0.7886, \n"
     ]
    },
    {
     "name": "stdout",
     "output_type": "stream",
     "text": [
      "epoch: 1, [batch: 6048 / 6720], examples_per_second: 3283.4827, train_label_loss: 0.4479, \n"
     ]
    },
    {
     "name": "stdout",
     "output_type": "stream",
     "text": [
      "=============================================================\n",
      "epoch: 1, source_val_acc_label: 0.6793, target_val_acc_label: 0.7225, source_val_label_loss: 151.9512, target_val_label_loss: 4199.2192, \n",
      "=============================================================\n"
     ]
    },
    {
     "name": "stdout",
     "output_type": "stream",
     "text": [
      "New best\n"
     ]
    },
    {
     "name": "stdout",
     "output_type": "stream",
     "text": [
      "epoch: 2, [batch: 1 / 6720], examples_per_second: 5.6874, train_label_loss: 293.1590, \n"
     ]
    },
    {
     "name": "stdout",
     "output_type": "stream",
     "text": [
      "epoch: 2, [batch: 672 / 6720], examples_per_second: 3300.7146, train_label_loss: 0.8485, \n"
     ]
    },
    {
     "name": "stdout",
     "output_type": "stream",
     "text": [
      "epoch: 2, [batch: 1344 / 6720], examples_per_second: 3312.0554, train_label_loss: 0.4084, \n"
     ]
    },
    {
     "name": "stdout",
     "output_type": "stream",
     "text": [
      "epoch: 2, [batch: 2016 / 6720], examples_per_second: 3317.2036, train_label_loss: 1.2587, \n"
     ]
    },
    {
     "name": "stdout",
     "output_type": "stream",
     "text": [
      "epoch: 2, [batch: 2688 / 6720], examples_per_second: 3311.5197, train_label_loss: 0.9334, \n"
     ]
    },
    {
     "name": "stdout",
     "output_type": "stream",
     "text": [
      "epoch: 2, [batch: 3360 / 6720], examples_per_second: 3318.6335, train_label_loss: 0.6854, \n"
     ]
    },
    {
     "name": "stdout",
     "output_type": "stream",
     "text": [
      "epoch: 2, [batch: 4032 / 6720], examples_per_second: 3227.4370, train_label_loss: 1.0988, \n"
     ]
    },
    {
     "name": "stdout",
     "output_type": "stream",
     "text": [
      "epoch: 2, [batch: 4704 / 6720], examples_per_second: 3292.5137, train_label_loss: 0.6654, \n"
     ]
    },
    {
     "name": "stdout",
     "output_type": "stream",
     "text": [
      "epoch: 2, [batch: 5376 / 6720], examples_per_second: 3306.5047, train_label_loss: 0.6665, \n"
     ]
    },
    {
     "name": "stdout",
     "output_type": "stream",
     "text": [
      "epoch: 2, [batch: 6048 / 6720], examples_per_second: 3306.8621, train_label_loss: 0.4492, \n"
     ]
    },
    {
     "name": "stdout",
     "output_type": "stream",
     "text": [
      "=============================================================\n",
      "epoch: 2, source_val_acc_label: 0.7828, target_val_acc_label: 0.6659, source_val_label_loss: 0.6129, target_val_label_loss: 451.0785, \n",
      "=============================================================\n"
     ]
    },
    {
     "name": "stdout",
     "output_type": "stream",
     "text": [
      "New best\n"
     ]
    },
    {
     "name": "stdout",
     "output_type": "stream",
     "text": [
      "epoch: 3, [batch: 1 / 6720], examples_per_second: 5.6801, train_label_loss: 0.6657, \n"
     ]
    },
    {
     "name": "stdout",
     "output_type": "stream",
     "text": [
      "epoch: 3, [batch: 672 / 6720], examples_per_second: 3276.1125, train_label_loss: 0.2526, \n"
     ]
    },
    {
     "name": "stdout",
     "output_type": "stream",
     "text": [
      "epoch: 3, [batch: 1344 / 6720], examples_per_second: 3298.8664, train_label_loss: 0.4839, \n"
     ]
    },
    {
     "name": "stdout",
     "output_type": "stream",
     "text": [
      "epoch: 3, [batch: 2016 / 6720], examples_per_second: 3304.1406, train_label_loss: 0.3912, \n"
     ]
    },
    {
     "name": "stdout",
     "output_type": "stream",
     "text": [
      "epoch: 3, [batch: 2688 / 6720], examples_per_second: 3311.0376, train_label_loss: 0.5278, \n"
     ]
    },
    {
     "name": "stdout",
     "output_type": "stream",
     "text": [
      "epoch: 3, [batch: 3360 / 6720], examples_per_second: 3319.7733, train_label_loss: 0.9916, \n"
     ]
    },
    {
     "name": "stdout",
     "output_type": "stream",
     "text": [
      "epoch: 3, [batch: 4032 / 6720], examples_per_second: 3320.9397, train_label_loss: 0.6720, \n"
     ]
    },
    {
     "name": "stdout",
     "output_type": "stream",
     "text": [
      "epoch: 3, [batch: 4704 / 6720], examples_per_second: 3308.7202, train_label_loss: 0.3839, \n"
     ]
    },
    {
     "name": "stdout",
     "output_type": "stream",
     "text": [
      "epoch: 3, [batch: 5376 / 6720], examples_per_second: 3307.7550, train_label_loss: 0.2772, \n"
     ]
    },
    {
     "name": "stdout",
     "output_type": "stream",
     "text": [
      "epoch: 3, [batch: 6048 / 6720], examples_per_second: 3318.4421, train_label_loss: 0.2094, \n"
     ]
    },
    {
     "name": "stdout",
     "output_type": "stream",
     "text": [
      "=============================================================\n",
      "epoch: 3, source_val_acc_label: 0.7996, target_val_acc_label: 0.6361, source_val_label_loss: 0.5578, target_val_label_loss: 584.4811, \n",
      "=============================================================\n"
     ]
    },
    {
     "name": "stdout",
     "output_type": "stream",
     "text": [
      "epoch: 4, [batch: 1 / 6720], examples_per_second: 5.7300, train_label_loss: 0.6878, \n"
     ]
    },
    {
     "name": "stdout",
     "output_type": "stream",
     "text": [
      "epoch: 4, [batch: 672 / 6720], examples_per_second: 3294.9522, train_label_loss: 0.2368, \n"
     ]
    },
    {
     "name": "stdout",
     "output_type": "stream",
     "text": [
      "epoch: 4, [batch: 1344 / 6720], examples_per_second: 3323.2837, train_label_loss: 0.9024, \n"
     ]
    },
    {
     "name": "stdout",
     "output_type": "stream",
     "text": [
      "epoch: 4, [batch: 2016 / 6720], examples_per_second: 3321.7737, train_label_loss: 0.6430, \n"
     ]
    },
    {
     "name": "stdout",
     "output_type": "stream",
     "text": [
      "epoch: 4, [batch: 2688 / 6720], examples_per_second: 3311.3135, train_label_loss: 0.7506, \n"
     ]
    },
    {
     "name": "stdout",
     "output_type": "stream",
     "text": [
      "epoch: 4, [batch: 3360 / 6720], examples_per_second: 3321.5652, train_label_loss: 0.3354, \n"
     ]
    },
    {
     "name": "stdout",
     "output_type": "stream",
     "text": [
      "epoch: 4, [batch: 4032 / 6720], examples_per_second: 3316.3258, train_label_loss: 0.8741, \n"
     ]
    },
    {
     "name": "stdout",
     "output_type": "stream",
     "text": [
      "epoch: 4, [batch: 4704 / 6720], examples_per_second: 3310.6488, train_label_loss: 0.4592, \n"
     ]
    },
    {
     "name": "stdout",
     "output_type": "stream",
     "text": [
      "epoch: 4, [batch: 5376 / 6720], examples_per_second: 3324.0932, train_label_loss: 0.2999, \n"
     ]
    },
    {
     "name": "stdout",
     "output_type": "stream",
     "text": [
      "epoch: 4, [batch: 6048 / 6720], examples_per_second: 3319.0666, train_label_loss: 0.3979, \n"
     ]
    },
    {
     "name": "stdout",
     "output_type": "stream",
     "text": [
      "=============================================================\n",
      "epoch: 4, source_val_acc_label: 0.8254, target_val_acc_label: 0.6602, source_val_label_loss: 0.4990, target_val_label_loss: 549.6725, \n",
      "=============================================================\n"
     ]
    },
    {
     "name": "stdout",
     "output_type": "stream",
     "text": [
      "epoch: 5, [batch: 1 / 6720], examples_per_second: 5.7092, train_label_loss: 0.0796, \n"
     ]
    },
    {
     "name": "stdout",
     "output_type": "stream",
     "text": [
      "epoch: 5, [batch: 672 / 6720], examples_per_second: 3299.3730, train_label_loss: 0.2200, \n"
     ]
    },
    {
     "name": "stdout",
     "output_type": "stream",
     "text": [
      "epoch: 5, [batch: 1344 / 6720], examples_per_second: 3316.7258, train_label_loss: 0.6477, \n"
     ]
    },
    {
     "name": "stdout",
     "output_type": "stream",
     "text": [
      "epoch: 5, [batch: 2016 / 6720], examples_per_second: 3324.9220, train_label_loss: 0.6560, \n"
     ]
    },
    {
     "name": "stdout",
     "output_type": "stream",
     "text": [
      "epoch: 5, [batch: 2688 / 6720], examples_per_second: 3305.8268, train_label_loss: 0.5267, \n"
     ]
    },
    {
     "name": "stdout",
     "output_type": "stream",
     "text": [
      "epoch: 5, [batch: 3360 / 6720], examples_per_second: 3319.6279, train_label_loss: 0.1597, \n"
     ]
    },
    {
     "name": "stdout",
     "output_type": "stream",
     "text": [
      "epoch: 5, [batch: 4032 / 6720], examples_per_second: 3333.4550, train_label_loss: 0.4249, \n"
     ]
    },
    {
     "name": "stdout",
     "output_type": "stream",
     "text": [
      "epoch: 5, [batch: 4704 / 6720], examples_per_second: 3249.0491, train_label_loss: 0.2190, \n"
     ]
    },
    {
     "name": "stdout",
     "output_type": "stream",
     "text": [
      "epoch: 5, [batch: 5376 / 6720], examples_per_second: 3337.0559, train_label_loss: 0.5350, \n"
     ]
    },
    {
     "name": "stdout",
     "output_type": "stream",
     "text": [
      "epoch: 5, [batch: 6048 / 6720], examples_per_second: 3337.5477, train_label_loss: 0.3320, \n"
     ]
    },
    {
     "name": "stdout",
     "output_type": "stream",
     "text": [
      "=============================================================\n",
      "epoch: 5, source_val_acc_label: 0.8394, target_val_acc_label: 0.6399, source_val_label_loss: 0.4537, target_val_label_loss: 382.2718, \n",
      "=============================================================\n"
     ]
    },
    {
     "name": "stdout",
     "output_type": "stream",
     "text": [
      "New best\n"
     ]
    },
    {
     "name": "stdout",
     "output_type": "stream",
     "text": [
      "epoch: 6, [batch: 1 / 6720], examples_per_second: 5.7546, train_label_loss: 0.3170, \n"
     ]
    },
    {
     "name": "stdout",
     "output_type": "stream",
     "text": [
      "epoch: 6, [batch: 672 / 6720], examples_per_second: 3310.6957, train_label_loss: 0.5562, \n"
     ]
    },
    {
     "name": "stdout",
     "output_type": "stream",
     "text": [
      "epoch: 6, [batch: 1344 / 6720], examples_per_second: 3325.8636, train_label_loss: 0.4415, \n"
     ]
    },
    {
     "name": "stdout",
     "output_type": "stream",
     "text": [
      "epoch: 6, [batch: 2016 / 6720], examples_per_second: 3328.1016, train_label_loss: 0.1599, \n"
     ]
    },
    {
     "name": "stdout",
     "output_type": "stream",
     "text": [
      "epoch: 6, [batch: 2688 / 6720], examples_per_second: 3298.9683, train_label_loss: 0.2292, \n"
     ]
    },
    {
     "name": "stdout",
     "output_type": "stream",
     "text": [
      "epoch: 6, [batch: 3360 / 6720], examples_per_second: 3329.1048, train_label_loss: 0.0897, \n"
     ]
    },
    {
     "name": "stdout",
     "output_type": "stream",
     "text": [
      "epoch: 6, [batch: 4032 / 6720], examples_per_second: 3336.3261, train_label_loss: 0.4692, \n"
     ]
    },
    {
     "name": "stdout",
     "output_type": "stream",
     "text": [
      "epoch: 6, [batch: 4704 / 6720], examples_per_second: 3317.0230, train_label_loss: 0.5496, \n"
     ]
    },
    {
     "name": "stdout",
     "output_type": "stream",
     "text": [
      "epoch: 6, [batch: 5376 / 6720], examples_per_second: 3344.5290, train_label_loss: 0.3527, \n"
     ]
    },
    {
     "name": "stdout",
     "output_type": "stream",
     "text": [
      "epoch: 6, [batch: 6048 / 6720], examples_per_second: 3340.5500, train_label_loss: 0.1545, \n"
     ]
    },
    {
     "name": "stdout",
     "output_type": "stream",
     "text": [
      "=============================================================\n",
      "epoch: 6, source_val_acc_label: 0.8723, target_val_acc_label: 0.6283, source_val_label_loss: 0.3790, target_val_label_loss: 431.4618, \n",
      "=============================================================\n"
     ]
    },
    {
     "name": "stdout",
     "output_type": "stream",
     "text": [
      "epoch: 7, [batch: 1 / 6720], examples_per_second: 5.7751, train_label_loss: 0.1056, \n"
     ]
    },
    {
     "name": "stdout",
     "output_type": "stream",
     "text": [
      "epoch: 7, [batch: 672 / 6720], examples_per_second: 3317.4586, train_label_loss: 0.5770, \n"
     ]
    },
    {
     "name": "stdout",
     "output_type": "stream",
     "text": [
      "epoch: 7, [batch: 1344 / 6720], examples_per_second: 3341.5105, train_label_loss: 0.2567, \n"
     ]
    },
    {
     "name": "stdout",
     "output_type": "stream",
     "text": [
      "epoch: 7, [batch: 2016 / 6720], examples_per_second: 3326.7301, train_label_loss: 0.4135, \n"
     ]
    },
    {
     "name": "stdout",
     "output_type": "stream",
     "text": [
      "epoch: 7, [batch: 2688 / 6720], examples_per_second: 3331.8207, train_label_loss: 0.4462, \n"
     ]
    },
    {
     "name": "stdout",
     "output_type": "stream",
     "text": [
      "epoch: 7, [batch: 3360 / 6720], examples_per_second: 3342.8635, train_label_loss: 0.7909, \n"
     ]
    },
    {
     "name": "stdout",
     "output_type": "stream",
     "text": [
      "epoch: 7, [batch: 4032 / 6720], examples_per_second: 3357.5111, train_label_loss: 0.2075, \n"
     ]
    },
    {
     "name": "stdout",
     "output_type": "stream",
     "text": [
      "epoch: 7, [batch: 4704 / 6720], examples_per_second: 3332.3942, train_label_loss: 0.3845, \n"
     ]
    },
    {
     "name": "stdout",
     "output_type": "stream",
     "text": [
      "epoch: 7, [batch: 5376 / 6720], examples_per_second: 3348.4844, train_label_loss: 0.2567, \n"
     ]
    },
    {
     "name": "stdout",
     "output_type": "stream",
     "text": [
      "epoch: 7, [batch: 6048 / 6720], examples_per_second: 3329.4385, train_label_loss: 0.2330, \n"
     ]
    },
    {
     "name": "stdout",
     "output_type": "stream",
     "text": [
      "=============================================================\n",
      "epoch: 7, source_val_acc_label: 0.8589, target_val_acc_label: 0.6243, source_val_label_loss: 0.3983, target_val_label_loss: 640.6677, \n",
      "=============================================================\n"
     ]
    },
    {
     "name": "stdout",
     "output_type": "stream",
     "text": [
      "epoch: 8, [batch: 1 / 6720], examples_per_second: 5.7406, train_label_loss: 0.4708, \n"
     ]
    },
    {
     "name": "stdout",
     "output_type": "stream",
     "text": [
      "epoch: 8, [batch: 672 / 6720], examples_per_second: 3299.7898, train_label_loss: 0.5491, \n"
     ]
    },
    {
     "name": "stdout",
     "output_type": "stream",
     "text": [
      "epoch: 8, [batch: 1344 / 6720], examples_per_second: 3336.8164, train_label_loss: 0.5133, \n"
     ]
    },
    {
     "name": "stdout",
     "output_type": "stream",
     "text": [
      "epoch: 8, [batch: 2016 / 6720], examples_per_second: 3339.3082, train_label_loss: 0.1945, \n"
     ]
    },
    {
     "name": "stdout",
     "output_type": "stream",
     "text": [
      "epoch: 8, [batch: 2688 / 6720], examples_per_second: 3322.5229, train_label_loss: 0.0734, \n"
     ]
    },
    {
     "name": "stdout",
     "output_type": "stream",
     "text": [
      "epoch: 8, [batch: 3360 / 6720], examples_per_second: 3349.4231, train_label_loss: 0.3920, \n"
     ]
    },
    {
     "name": "stdout",
     "output_type": "stream",
     "text": [
      "epoch: 8, [batch: 4032 / 6720], examples_per_second: 3332.4201, train_label_loss: 0.5531, \n"
     ]
    },
    {
     "name": "stdout",
     "output_type": "stream",
     "text": [
      "epoch: 8, [batch: 4704 / 6720], examples_per_second: 3322.9567, train_label_loss: 0.2845, \n"
     ]
    },
    {
     "name": "stdout",
     "output_type": "stream",
     "text": [
      "epoch: 8, [batch: 5376 / 6720], examples_per_second: 3337.9941, train_label_loss: 0.2892, \n"
     ]
    },
    {
     "name": "stdout",
     "output_type": "stream",
     "text": [
      "epoch: 8, [batch: 6048 / 6720], examples_per_second: 3336.4661, train_label_loss: 0.5337, \n"
     ]
    },
    {
     "name": "stdout",
     "output_type": "stream",
     "text": [
      "=============================================================\n",
      "epoch: 8, source_val_acc_label: 0.8742, target_val_acc_label: 0.6150, source_val_label_loss: 0.3568, target_val_label_loss: 607.4142, \n",
      "=============================================================\n"
     ]
    },
    {
     "name": "stdout",
     "output_type": "stream",
     "text": [
      "epoch: 9, [batch: 1 / 6720], examples_per_second: 5.7333, train_label_loss: 0.0931, \n"
     ]
    },
    {
     "name": "stdout",
     "output_type": "stream",
     "text": [
      "epoch: 9, [batch: 672 / 6720], examples_per_second: 3296.5017, train_label_loss: 0.5541, \n"
     ]
    },
    {
     "name": "stdout",
     "output_type": "stream",
     "text": [
      "epoch: 9, [batch: 1344 / 6720], examples_per_second: 3311.1886, train_label_loss: 0.5986, \n"
     ]
    },
    {
     "name": "stdout",
     "output_type": "stream",
     "text": [
      "epoch: 9, [batch: 2016 / 6720], examples_per_second: 3310.0892, train_label_loss: 0.2445, \n"
     ]
    },
    {
     "name": "stdout",
     "output_type": "stream",
     "text": [
      "epoch: 9, [batch: 2688 / 6720], examples_per_second: 3302.3577, train_label_loss: 0.2337, \n"
     ]
    },
    {
     "name": "stdout",
     "output_type": "stream",
     "text": [
      "epoch: 9, [batch: 3360 / 6720], examples_per_second: 3278.1537, train_label_loss: 0.5308, \n"
     ]
    },
    {
     "name": "stdout",
     "output_type": "stream",
     "text": [
      "epoch: 9, [batch: 4032 / 6720], examples_per_second: 3295.2937, train_label_loss: 0.4497, \n"
     ]
    },
    {
     "name": "stdout",
     "output_type": "stream",
     "text": [
      "epoch: 9, [batch: 4704 / 6720], examples_per_second: 3295.2099, train_label_loss: 0.2078, \n"
     ]
    },
    {
     "name": "stdout",
     "output_type": "stream",
     "text": [
      "epoch: 9, [batch: 5376 / 6720], examples_per_second: 3310.2389, train_label_loss: 0.1965, \n"
     ]
    },
    {
     "name": "stdout",
     "output_type": "stream",
     "text": [
      "epoch: 9, [batch: 6048 / 6720], examples_per_second: 3320.4541, train_label_loss: 0.0225, \n"
     ]
    },
    {
     "name": "stdout",
     "output_type": "stream",
     "text": [
      "=============================================================\n",
      "epoch: 9, source_val_acc_label: 0.8792, target_val_acc_label: 0.6245, source_val_label_loss: 0.3396, target_val_label_loss: 738.9380, \n",
      "=============================================================\n"
     ]
    },
    {
     "name": "stdout",
     "output_type": "stream",
     "text": [
      "Patience (3) exhausted\n"
     ]
    }
   ],
   "source": [
    "###################################\n",
    "# train\n",
    "###################################\n",
    "jig = PTN_Train_Eval_Test_Jig(model, p.BEST_MODEL_PATH, p.device)\n",
    "\n",
    "jig.train(\n",
    "    train_iterable=datasets.source.processed.train,\n",
    "    source_val_iterable=datasets.source.processed.val,\n",
    "    target_val_iterable=datasets.target.processed.val,\n",
    "    num_epochs=p.n_epoch,\n",
    "    num_logs_per_epoch=p.NUM_LOGS_PER_EPOCH,\n",
    "    patience=p.patience,\n",
    "    optimizer=optimizer,\n",
    "    criteria_for_best=p.criteria_for_best,\n",
    ")"
   ]
  },
  {
   "cell_type": "code",
   "execution_count": 23,
   "id": "31e8fabf",
   "metadata": {
    "execution": {
     "iopub.execute_input": "2022-03-17T02:13:17.496706Z",
     "iopub.status.busy": "2022-03-17T02:13:17.496421Z",
     "iopub.status.idle": "2022-03-17T02:13:17.515186Z",
     "shell.execute_reply": "2022-03-17T02:13:17.515793Z"
    },
    "papermill": {
     "duration": 0.058557,
     "end_time": "2022-03-17T02:13:17.515982",
     "exception": false,
     "start_time": "2022-03-17T02:13:17.457425",
     "status": "completed"
    },
    "tags": []
   },
   "outputs": [],
   "source": [
    "total_experiment_time_secs = time.time() - start_time_secs"
   ]
  },
  {
   "cell_type": "code",
   "execution_count": 24,
   "id": "87b9595b",
   "metadata": {
    "execution": {
     "iopub.execute_input": "2022-03-17T02:13:17.596529Z",
     "iopub.status.busy": "2022-03-17T02:13:17.596162Z",
     "iopub.status.idle": "2022-03-17T02:14:22.455099Z",
     "shell.execute_reply": "2022-03-17T02:14:22.455489Z"
    },
    "papermill": {
     "duration": 64.900651,
     "end_time": "2022-03-17T02:14:22.455622",
     "exception": false,
     "start_time": "2022-03-17T02:13:17.554971",
     "status": "completed"
    },
    "tags": []
   },
   "outputs": [],
   "source": [
    "###################################\n",
    "# Evaluate the model\n",
    "###################################\n",
    "source_test_label_accuracy, source_test_label_loss = jig.test(datasets.source.processed.test)\n",
    "target_test_label_accuracy, target_test_label_loss = jig.test(datasets.target.processed.test)\n",
    "\n",
    "source_val_label_accuracy, source_val_label_loss = jig.test(datasets.source.processed.val)\n",
    "target_val_label_accuracy, target_val_label_loss = jig.test(datasets.target.processed.val)\n",
    "\n",
    "history = jig.get_history()\n",
    "\n",
    "total_epochs_trained = len(history[\"epoch_indices\"])\n",
    "\n",
    "val_dl = Iterable_Aggregator((datasets.source.original.val,datasets.target.original.val))\n",
    "\n",
    "confusion = ptn_confusion_by_domain_over_dataloader(model, p.device, val_dl)\n",
    "per_domain_accuracy = per_domain_accuracy_from_confusion(confusion)\n",
    "\n",
    "# Add a key to per_domain_accuracy for if it was a source domain\n",
    "for domain, accuracy in per_domain_accuracy.items():\n",
    "    per_domain_accuracy[domain] = {\n",
    "        \"accuracy\": accuracy,\n",
    "        \"source?\": domain in p.domains_source\n",
    "    }\n",
    "\n",
    "# Do an independent accuracy assesment JUST TO BE SURE!\n",
    "# _source_test_label_accuracy = independent_accuracy_assesment(model, datasets.source.processed.test, p.device)\n",
    "# _target_test_label_accuracy = independent_accuracy_assesment(model, datasets.target.processed.test, p.device)\n",
    "# _source_val_label_accuracy = independent_accuracy_assesment(model, datasets.source.processed.val, p.device)\n",
    "# _target_val_label_accuracy = independent_accuracy_assesment(model, datasets.target.processed.val, p.device)\n",
    "\n",
    "# assert(_source_test_label_accuracy == source_test_label_accuracy)\n",
    "# assert(_target_test_label_accuracy == target_test_label_accuracy)\n",
    "# assert(_source_val_label_accuracy == source_val_label_accuracy)\n",
    "# assert(_target_val_label_accuracy == target_val_label_accuracy)\n",
    "\n",
    "experiment = {\n",
    "    \"experiment_name\": p.experiment_name,\n",
    "    \"parameters\": dict(p),\n",
    "    \"results\": {\n",
    "        \"source_test_label_accuracy\": source_test_label_accuracy,\n",
    "        \"source_test_label_loss\": source_test_label_loss,\n",
    "        \"target_test_label_accuracy\": target_test_label_accuracy,\n",
    "        \"target_test_label_loss\": target_test_label_loss,\n",
    "        \"source_val_label_accuracy\": source_val_label_accuracy,\n",
    "        \"source_val_label_loss\": source_val_label_loss,\n",
    "        \"target_val_label_accuracy\": target_val_label_accuracy,\n",
    "        \"target_val_label_loss\": target_val_label_loss,\n",
    "        \"total_epochs_trained\": total_epochs_trained,\n",
    "        \"total_experiment_time_secs\": total_experiment_time_secs,\n",
    "        \"confusion\": confusion,\n",
    "        \"per_domain_accuracy\": per_domain_accuracy,\n",
    "    },\n",
    "    \"history\": history,\n",
    "    \"dataset_metrics\": get_dataset_metrics(datasets, \"ptn\"),\n",
    "}"
   ]
  },
  {
   "cell_type": "code",
   "execution_count": 25,
   "id": "54a21829",
   "metadata": {
    "execution": {
     "iopub.execute_input": "2022-03-17T02:14:22.528371Z",
     "iopub.status.busy": "2022-03-17T02:14:22.528113Z",
     "iopub.status.idle": "2022-03-17T02:14:22.652307Z",
     "shell.execute_reply": "2022-03-17T02:14:22.652607Z"
    },
    "papermill": {
     "duration": 0.159801,
     "end_time": "2022-03-17T02:14:22.652698",
     "exception": false,
     "start_time": "2022-03-17T02:14:22.492897",
     "status": "completed"
    },
    "tags": []
   },
   "outputs": [
    {
     "data": {
      "image/png": "[encoded data removed]",
      "text/plain": [
       "<Figure size 1080x504 with 1 Axes>"
      ]
     },
     "metadata": {
      "needs_background": "light"
     },
     "output_type": "display_data"
    }
   ],
   "source": [
    "ax = get_loss_curve(experiment)\n",
    "plt.show()"
   ]
  },
  {
   "cell_type": "code",
   "execution_count": 26,
   "id": "fd8a0f60",
   "metadata": {
    "execution": {
     "iopub.execute_input": "2022-03-17T02:14:22.724961Z",
     "iopub.status.busy": "2022-03-17T02:14:22.724600Z",
     "iopub.status.idle": "2022-03-17T02:14:22.867533Z",
     "shell.execute_reply": "2022-03-17T02:14:22.867287Z"
    },
    "papermill": {
     "duration": 0.178956,
     "end_time": "2022-03-17T02:14:22.867590",
     "exception": false,
     "start_time": "2022-03-17T02:14:22.688634",
     "status": "completed"
    },
    "tags": []
   },
   "outputs": [
    {
     "data": {
      "text/plain": [
       "<AxesSubplot:title={'center':'Results'}>"
      ]
     },
     "execution_count": 26,
     "metadata": {},
     "output_type": "execute_result"
    },
    {
     "data": {
      "image/png": "[encoded data removed]",
      "text/plain": [
       "<Figure size 1080x504 with 1 Axes>"
      ]
     },
     "metadata": {
      "needs_background": "light"
     },
     "output_type": "display_data"
    }
   ],
   "source": [
    "get_results_table(experiment)"
   ]
  },
  {
   "cell_type": "code",
   "execution_count": 27,
   "id": "cf8dc689",
   "metadata": {
    "execution": {
     "iopub.execute_input": "2022-03-17T02:14:22.942678Z",
     "iopub.status.busy": "2022-03-17T02:14:22.942366Z",
     "iopub.status.idle": "2022-03-17T02:14:23.103248Z",
     "shell.execute_reply": "2022-03-17T02:14:23.103610Z"
    },
    "papermill": {
     "duration": 0.198778,
     "end_time": "2022-03-17T02:14:23.103723",
     "exception": false,
     "start_time": "2022-03-17T02:14:22.904945",
     "status": "completed"
    },
    "tags": []
   },
   "outputs": [
    {
     "data": {
      "text/plain": [
       "<AxesSubplot:title={'center':'Per Domain Validation Accuracy'}, xlabel='domain'>"
      ]
     },
     "execution_count": 27,
     "metadata": {},
     "output_type": "execute_result"
    },
    {
     "data": {
      "image/png": "[encoded data removed]",
      "text/plain": [
       "<Figure size 1080x504 with 1 Axes>"
      ]
     },
     "metadata": {
      "needs_background": "light"
     },
     "output_type": "display_data"
    }
   ],
   "source": [
    "get_domain_accuracies(experiment)"
   ]
  },
  {
   "cell_type": "code",
   "execution_count": 28,
   "id": "a74ae082",
   "metadata": {
    "execution": {
     "iopub.execute_input": "2022-03-17T02:14:23.181599Z",
     "iopub.status.busy": "2022-03-17T02:14:23.181341Z",
     "iopub.status.idle": "2022-03-17T02:14:23.197616Z",
     "shell.execute_reply": "2022-03-17T02:14:23.197972Z"
    },
    "papermill": {
     "duration": 0.054507,
     "end_time": "2022-03-17T02:14:23.198081",
     "exception": false,
     "start_time": "2022-03-17T02:14:23.143574",
     "status": "completed"
    },
    "tags": []
   },
   "outputs": [
    {
     "name": "stdout",
     "output_type": "stream",
     "text": [
      "Source Test Label Accuracy: 0.84404296875 Target Test Label Accuracy: 0.6331335616438356\n",
      "Source Val Label Accuracy: 0.8393880208333333 Target Val Label Accuracy: 0.6398758561643836\n"
     ]
    }
   ],
   "source": [
    "print(\"Source Test Label Accuracy:\", experiment[\"results\"][\"source_test_label_accuracy\"], \"Target Test Label Accuracy:\", experiment[\"results\"][\"target_test_label_accuracy\"])\n",
    "print(\"Source Val Label Accuracy:\", experiment[\"results\"][\"source_val_label_accuracy\"], \"Target Val Label Accuracy:\", experiment[\"results\"][\"target_val_label_accuracy\"])"
   ]
  },
  {
   "cell_type": "code",
   "execution_count": 29,
   "id": "dacca602",
   "metadata": {
    "execution": {
     "iopub.execute_input": "2022-03-17T02:14:23.274941Z",
     "iopub.status.busy": "2022-03-17T02:14:23.274251Z",
     "iopub.status.idle": "2022-03-17T02:14:23.293340Z",
     "shell.execute_reply": "2022-03-17T02:14:23.293953Z"
    },
    "papermill": {
     "duration": 0.057159,
     "end_time": "2022-03-17T02:14:23.294071",
     "exception": false,
     "start_time": "2022-03-17T02:14:23.236912",
     "status": "completed"
    },
    "tags": [
     "experiment_json"
    ]
   },
   "outputs": [
    {
     "data": {
      "text/plain": [
       "'{\"experiment_name\": \"oracle.run1.framed -> cores+wisig\", \"parameters\": {\"experiment_name\": \"oracle.run1.framed -> cores+wisig\", \"device\": \"cuda\", \"lr\": 0.001, \"seed\": 1337, \"dataset_seed\": 1337, \"n_shot\": 3, \"n_query\": 2, \"train_k_factor\": 3, \"val_k_factor\": 2, \"test_k_factor\": 2, \"torch_default_dtype\": \"torch.float32\", \"n_epoch\": 50, \"patience\": 3, \"criteria_for_best\": \"target_loss\", \"x_net\": [{\"class\": \"nnReshape\", \"kargs\": {\"shape\": [-1, 1, 2, 256]}}, {\"class\": \"Conv2d\", \"kargs\": {\"in_channels\": 1, \"out_channels\": 256, \"kernel_size\": [1, 7], \"bias\": false, \"padding\": [0, 3]}}, {\"class\": \"ReLU\", \"kargs\": {\"inplace\": true}}, {\"class\": \"BatchNorm2d\", \"kargs\": {\"num_features\": 256}}, {\"class\": \"Conv2d\", \"kargs\": {\"in_channels\": 256, \"out_channels\": 80, \"kernel_size\": [2, 7], \"bias\": true, \"padding\": [0, 3]}}, {\"class\": \"ReLU\", \"kargs\": {\"inplace\": true}}, {\"class\": \"BatchNorm2d\", \"kargs\": {\"num_features\": 80}}, {\"class\": \"Flatten\", \"kargs\": {}}, {\"class\": \"Linear\", \"kargs\": {\"in_features\": 20480, \"out_features\": 256}}, {\"class\": \"ReLU\", \"kargs\": {\"inplace\": true}}, {\"class\": \"BatchNorm1d\", \"kargs\": {\"num_features\": 256}}, {\"class\": \"Linear\", \"kargs\": {\"in_features\": 256, \"out_features\": 256}}], \"NUM_LOGS_PER_EPOCH\": 10, \"BEST_MODEL_PATH\": \"./best_model.pth\", \"n_way\": 16, \"datasets\": [{\"labels\": [\"1-10.\", \"1-11.\", \"1-15.\", \"1-16.\", \"1-17.\", \"1-18.\", \"1-19.\", \"10-4.\", \"10-7.\", \"11-1.\", \"11-14.\", \"11-17.\", \"11-20.\", \"11-7.\", \"13-20.\", \"13-8.\", \"14-10.\", \"14-11.\", \"14-14.\", \"14-7.\", \"15-1.\", \"15-20.\", \"16-1.\", \"16-16.\", \"17-10.\", \"17-11.\", \"17-2.\", \"19-1.\", \"19-16.\", \"19-19.\", \"19-20.\", \"19-3.\", \"2-10.\", \"2-11.\", \"2-17.\", \"2-18.\", \"2-20.\", \"2-3.\", \"2-4.\", \"2-5.\", \"2-6.\", \"2-7.\", \"2-8.\", \"3-13.\", \"3-18.\", \"3-3.\", \"4-1.\", \"4-10.\", \"4-11.\", \"4-19.\", \"5-5.\", \"6-15.\", \"7-10.\", \"7-14.\", \"8-18.\", \"8-20.\", \"8-3.\", \"8-8.\"], \"domains\": [1, 2, 3, 4, 5], \"num_examples_per_domain_per_label\": 100, \"pickle_path\": \"/mnt/wd500GB/CSC500/csc500-main/datasets/cores.stratified_ds.2022A.pkl\", \"source_or_target_dataset\": \"target\", \"x_transforms\": [\"unit_power\"], \"episode_transforms\": [], \"domain_prefix\": \"C_A_\"}, {\"labels\": [\"1-10\", \"1-12\", \"1-14\", \"1-16\", \"1-18\", \"1-19\", \"1-8\", \"10-11\", \"10-17\", \"10-4\", \"10-7\", \"11-1\", \"11-10\", \"11-19\", \"11-20\", \"11-4\", \"11-7\", \"12-19\", \"12-20\", \"12-7\", \"13-14\", \"13-18\", \"13-19\", \"13-20\", \"13-3\", \"13-7\", \"14-10\", \"14-11\", \"14-12\", \"14-13\", \"14-14\", \"14-19\", \"14-20\", \"14-7\", \"14-8\", \"14-9\", \"15-1\", \"15-19\", \"15-6\", \"16-1\", \"16-16\", \"16-19\", \"16-20\", \"17-10\", \"17-11\", \"18-1\", \"18-10\", \"18-11\", \"18-12\", \"18-13\", \"18-14\", \"18-15\", \"18-16\", \"18-17\", \"18-19\", \"18-2\", \"18-20\", \"18-4\", \"18-5\", \"18-7\", \"18-8\", \"18-9\", \"19-1\", \"19-10\", \"19-11\", \"19-12\", \"19-13\", \"19-14\", \"19-15\", \"19-19\", \"19-2\", \"19-20\", \"19-3\", \"19-4\", \"19-6\", \"19-7\", \"19-8\", \"19-9\", \"2-1\", \"2-13\", \"2-15\", \"2-3\", \"2-4\", \"2-5\", \"2-6\", \"2-7\", \"2-8\", \"20-1\", \"20-12\", \"20-14\", \"20-15\", \"20-16\", \"20-18\", \"20-19\", \"20-20\", \"20-3\", \"20-4\", \"20-5\", \"20-7\", \"20-8\", \"3-1\", \"3-13\", \"3-18\", \"3-2\", \"3-8\", \"4-1\", \"4-10\", \"4-11\", \"5-1\", \"5-5\", \"6-1\", \"6-15\", \"6-6\", \"7-10\", \"7-11\", \"7-12\", \"7-13\", \"7-14\", \"7-7\", \"7-8\", \"7-9\", \"8-1\", \"8-13\", \"8-14\", \"8-18\", \"8-20\", \"8-3\", \"8-8\", \"9-1\", \"9-7\"], \"domains\": [1, 2, 3, 4], \"num_examples_per_domain_per_label\": 100, \"pickle_path\": \"/mnt/wd500GB/CSC500/csc500-main/datasets/wisig.node3-19.stratified_ds.2022A.pkl\", \"source_or_target_dataset\": \"target\", \"x_transforms\": [\"unit_power\"], \"episode_transforms\": [], \"domain_prefix\": \"W_A_\"}, {\"labels\": [\"3123D52\", \"3123D65\", \"3123D79\", \"3123D80\", \"3123D54\", \"3123D70\", \"3123D7B\", \"3123D89\", \"3123D58\", \"3123D76\", \"3123D7D\", \"3123EFE\", \"3123D64\", \"3123D78\", \"3123D7E\", \"3124E4A\"], \"domains\": [32, 38, 8, 44, 14, 50, 20, 26], \"num_examples_per_domain_per_label\": 2000, \"pickle_path\": \"/mnt/wd500GB/CSC500/csc500-main/datasets/oracle.Run1_framed_2000Examples_stratified_ds.2022A.pkl\", \"source_or_target_dataset\": \"source\", \"x_transforms\": [\"unit_power\"], \"episode_transforms\": [], \"domain_prefix\": \"ORACLE.run1_\"}], \"domains_source\": [\"ORACLE.run1_32\", \"ORACLE.run1_38\", \"ORACLE.run1_8\", \"ORACLE.run1_44\", \"ORACLE.run1_14\", \"ORACLE.run1_50\", \"ORACLE.run1_20\", \"ORACLE.run1_26\"], \"domains_target\": [\"C_A_1\", \"C_A_2\", \"C_A_3\", \"C_A_4\", \"C_A_5\", \"W_A_1\", \"W_A_2\", \"W_A_3\", \"W_A_4\"]}, \"results\": {\"source_test_label_accuracy\": 0.84404296875, \"source_test_label_loss\": 0.4516626298427582, \"target_test_label_accuracy\": 0.6331335616438356, \"target_test_label_loss\": 408.58612060546875, \"source_val_label_accuracy\": 0.8393880208333333, \"source_val_label_loss\": 0.45372143387794495, \"target_val_label_accuracy\": 0.6398758561643836, \"target_val_label_loss\": 382.27178955078125, \"total_epochs_trained\": 9, \"total_experiment_time_secs\": 1598.989618062973, \"confusion\": {\"ORACLE.run1_14\": {\"15\": {\"15\": 240}, \"3\": {\"3\": 232, \"2\": 4, \"4\": 3, \"14\": 1}, \"6\": {\"6\": 184, \"13\": 54, \"14\": 1, \"2\": 1}, \"1\": {\"1\": 232, \"5\": 8}, \"8\": {\"8\": 240}, \"10\": {\"10\": 240}, \"9\": {\"9\": 240}, \"13\": {\"13\": 121, \"14\": 23, \"6\": 72, \"5\": 7, \"2\": 15, \"4\": 2}, \"12\": {\"12\": 240}, \"5\": {\"5\": 186, \"4\": 25, \"1\": 14, \"2\": 9, \"3\": 6}, \"0\": {\"0\": 231, \"11\": 3, \"3\": 6}, \"2\": {\"2\": 141, \"6\": 8, \"5\": 35, \"14\": 46, \"13\": 4, \"15\": 2, \"3\": 3, \"4\": 1}, \"11\": {\"11\": 233, \"9\": 7}, \"14\": {\"14\": 211, \"2\": 22, \"13\": 5, \"6\": 1, \"3\": 1}, \"7\": {\"7\": 240}, \"4\": {\"4\": 228, \"5\": 11, \"3\": 1}}, \"ORACLE.run1_20\": {\"3\": {\"3\": 159, \"12\": 33, \"9\": 32, \"2\": 10, \"10\": 1, \"4\": 2, \"1\": 3}, \"15\": {\"15\": 201, \"5\": 14, \"0\": 6, \"1\": 6, \"13\": 7, \"12\": 4, \"9\": 1, \"2\": 1}, \"8\": {\"8\": 234, \"4\": 5, \"14\": 1}, \"4\": {\"4\": 233, \"8\": 6, \"10\": 1}, \"14\": {\"14\": 229, \"6\": 9, \"10\": 1, \"4\": 1}, \"0\": {\"5\": 37, \"0\": 190, \"15\": 11, \"7\": 1, \"13\": 1}, \"7\": {\"7\": 220, \"2\": 18, \"9\": 1, \"8\": 1}, \"6\": {\"6\": 229, \"14\": 11}, \"10\": {\"10\": 240}, \"5\": {\"5\": 196, \"15\": 15, \"0\": 25, \"12\": 3, \"1\": 1}, \"2\": {\"2\": 164, \"9\": 40, \"15\": 1, \"12\": 12, \"7\": 13, \"3\": 3, \"13\": 3, \"1\": 4}, \"12\": {\"12\": 132, \"9\": 19, \"1\": 42, \"3\": 39, \"5\": 2, \"2\": 5, \"15\": 1}, \"9\": {\"12\": 21, \"9\": 167, \"3\": 19, \"2\": 30, \"1\": 2, \"7\": 1}, \"1\": {\"1\": 170, \"12\": 48, \"5\": 5, \"15\": 14, \"9\": 1, \"3\": 2}, \"11\": {\"11\": 240}, \"13\": {\"13\": 231, \"2\": 4, \"15\": 4, \"7\": 1}}, \"ORACLE.run1_38\": {\"5\": {\"8\": 56, \"5\": 134, \"7\": 19, \"15\": 9, \"10\": 3, \"9\": 6, \"6\": 11, \"13\": 2}, \"8\": {\"0\": 10, \"8\": 186, \"7\": 14, \"15\": 7, \"5\": 23}, \"11\": {\"11\": 227, \"14\": 13}, \"1\": {\"1\": 231, \"15\": 7, \"5\": 2}, \"10\": {\"10\": 222, \"8\": 5, \"7\": 2, \"13\": 11}, \"15\": {\"15\": 217, \"8\": 4, \"1\": 11, \"13\": 5, \"5\": 3}, \"3\": {\"3\": 235, \"10\": 1, \"0\": 3, \"9\": 1}, \"7\": {\"7\": 208, \"5\": 8, \"8\": 11, \"0\": 13}, \"4\": {\"4\": 239, \"12\": 1}, \"14\": {\"14\": 234, \"2\": 5, \"12\": 1}, \"9\": {\"9\": 228, \"6\": 12}, \"12\": {\"12\": 239, \"4\": 1}, \"6\": {\"6\": 237, \"9\": 3}, \"2\": {\"2\": 227, \"13\": 4, \"14\": 9}, \"0\": {\"8\": 38, \"0\": 160, \"3\": 11, \"7\": 12, \"5\": 6, \"10\": 11, \"13\": 2}, \"13\": {\"13\": 214, \"2\": 3, \"10\": 10, \"15\": 7, \"8\": 4, \"0\": 1, \"14\": 1}}, \"ORACLE.run1_8\": {\"9\": {\"9\": 240}, \"10\": {\"10\": 199, \"13\": 24, \"14\": 14, \"4\": 2, \"5\": 1}, \"13\": {\"13\": 120, \"10\": 37, \"0\": 36, \"6\": 11, \"4\": 34, \"14\": 2}, \"0\": {\"0\": 205, \"13\": 19, \"10\": 4, \"7\": 8, \"4\": 3, \"6\": 1}, \"1\": {\"1\": 236, \"5\": 1, \"14\": 3}, \"15\": {\"15\": 192, \"12\": 43, \"8\": 5}, \"5\": {\"5\": 214, \"1\": 9, \"10\": 10, \"14\": 7}, \"3\": {\"2\": 6, \"3\": 233, \"12\": 1}, \"6\": {\"4\": 22, \"6\": 165, \"7\": 49, \"13\": 4}, \"11\": {\"11\": 233, \"1\": 7}, \"8\": {\"8\": 235, \"15\": 5}, \"4\": {\"4\": 162, \"7\": 1, \"13\": 25, \"6\": 23, \"14\": 29}, \"12\": {\"12\": 141, \"15\": 74, \"8\": 6, \"3\": 15, \"2\": 4}, \"14\": {\"14\": 183, \"4\": 30, \"10\": 18, \"13\": 3, \"1\": 6}, \"2\": {\"7\": 4, \"2\": 227, \"3\": 7, \"6\": 1, \"15\": 1}, \"7\": {\"7\": 183, \"0\": 5, \"6\": 52}}, \"ORACLE.run1_50\": {\"7\": {\"7\": 218, \"13\": 14, \"5\": 5, \"6\": 1, \"10\": 2}, \"3\": {\"3\": 239, \"8\": 1}, \"8\": {\"8\": 238, \"10\": 2}, \"2\": {\"2\": 229, \"0\": 11}, \"14\": {\"14\": 240}, \"4\": {\"15\": 21, \"4\": 171, \"1\": 10, \"5\": 33, \"13\": 2, \"6\": 1, \"7\": 2}, \"6\": {\"6\": 223, \"13\": 10, \"1\": 3, \"15\": 1, \"7\": 2, \"5\": 1}, \"15\": {\"15\": 200, \"1\": 24, \"4\": 9, \"6\": 3, \"11\": 4}, \"10\": {\"10\": 232, \"0\": 6, \"8\": 1, \"13\": 1}, \"11\": {\"11\": 235, \"15\": 1, \"12\": 1, \"9\": 3}, \"13\": {\"13\": 215, \"7\": 8, \"5\": 8, \"6\": 6, \"1\": 1, \"10\": 1, \"0\": 1}, \"9\": {\"9\": 222, \"11\": 11, \"12\": 7}, \"0\": {\"0\": 216, \"10\": 10, \"2\": 14}, \"1\": {\"15\": 29, \"1\": 193, \"4\": 8, \"2\": 1, \"11\": 1, \"5\": 4, \"6\": 3, \"0\": 1}, \"12\": {\"14\": 3, \"12\": 233, \"9\": 3, \"11\": 1}, \"5\": {\"5\": 136, \"4\": 43, \"7\": 14, \"1\": 18, \"13\": 26, \"6\": 2, \"15\": 1}}, \"ORACLE.run1_32\": {\"8\": {\"8\": 216, \"5\": 6, \"13\": 3, \"0\": 14, \"3\": 1}, \"14\": {\"14\": 165, \"11\": 40, \"0\": 14, \"7\": 16, \"8\": 2, \"13\": 1, \"3\": 1, \"5\": 1}, \"2\": {\"2\": 206, \"4\": 34}, \"0\": {\"0\": 210, \"14\": 12, \"13\": 3, \"8\": 14, \"7\": 1}, \"1\": {\"1\": 240}, \"10\": {\"10\": 240}, \"11\": {\"11\": 229, \"14\": 8, \"5\": 1, \"7\": 2}, \"5\": {\"5\": 129, \"11\": 3, \"7\": 46, \"3\": 11, \"0\": 1, \"13\": 25, \"8\": 7, \"4\": 15, \"2\": 1, \"14\": 2}, \"15\": {\"15\": 240}, \"3\": {\"3\": 233, \"13\": 3, \"8\": 2, \"5\": 2}, \"12\": {\"12\": 240}, \"7\": {\"7\": 191, \"14\": 2, \"5\": 21, \"4\": 17, \"13\": 4, \"0\": 1, \"8\": 1, \"11\": 1, \"2\": 2}, \"13\": {\"13\": 181, \"5\": 22, \"3\": 11, \"4\": 16, \"7\": 5, \"8\": 2, \"14\": 2, \"11\": 1}, \"6\": {\"6\": 240}, \"4\": {\"2\": 41, \"4\": 184, \"5\": 4, \"7\": 8, \"13\": 3}, \"9\": {\"9\": 240}}, \"ORACLE.run1_26\": {\"4\": {\"14\": 35, \"4\": 145, \"0\": 24, \"7\": 12, \"8\": 18, \"10\": 5, \"1\": 1}, \"12\": {\"12\": 240}, \"10\": {\"14\": 14, \"10\": 125, \"0\": 57, \"8\": 33, \"4\": 7, \"6\": 3, \"9\": 1}, \"0\": {\"0\": 85, \"10\": 56, \"8\": 33, \"14\": 30, \"4\": 29, \"7\": 7}, \"13\": {\"13\": 180, \"5\": 45, \"15\": 9, \"2\": 2, \"9\": 4}, \"9\": {\"9\": 181, \"6\": 14, \"15\": 42, \"13\": 2, \"5\": 1}, \"3\": {\"3\": 190, \"7\": 17, \"2\": 33}, \"2\": {\"5\": 22, \"3\": 73, \"2\": 103, \"7\": 29, \"15\": 8, \"9\": 2, \"8\": 1, \"13\": 2}, \"5\": {\"3\": 2, \"5\": 200, \"2\": 11, \"13\": 16, \"15\": 8, \"8\": 2, \"9\": 1}, \"14\": {\"10\": 20, \"14\": 129, \"4\": 48, \"0\": 29, \"1\": 8, \"8\": 5, \"6\": 1}, \"8\": {\"8\": 128, \"7\": 35, \"0\": 16, \"15\": 9, \"10\": 31, \"4\": 18, \"14\": 3}, \"7\": {\"7\": 181, \"2\": 17, \"0\": 1, \"3\": 18, \"8\": 14, \"4\": 8, \"14\": 1}, \"6\": {\"6\": 212, \"9\": 11, \"15\": 13, \"10\": 4}, \"11\": {\"11\": 240}, \"15\": {\"15\": 166, \"8\": 12, \"9\": 35, \"13\": 4, \"5\": 7, \"6\": 6, \"2\": 7, \"0\": 1, \"10\": 2}, \"1\": {\"1\": 216, \"14\": 16, \"4\": 7, \"7\": 1}}, \"ORACLE.run1_44\": {\"12\": {\"12\": 212, \"1\": 24, \"10\": 3, \"3\": 1}, \"7\": {\"7\": 179, \"2\": 22, \"9\": 37, \"6\": 2}, \"5\": {\"5\": 208, \"0\": 17, \"14\": 7, \"15\": 5, \"8\": 2, \"4\": 1}, \"15\": {\"15\": 212, \"14\": 6, \"5\": 5, \"4\": 1, \"0\": 13, \"8\": 3}, \"8\": {\"0\": 85, \"8\": 146, \"15\": 8, \"5\": 1}, \"2\": {\"2\": 184, \"7\": 38, \"1\": 12, \"10\": 4, \"3\": 2}, \"13\": {\"13\": 178, \"6\": 30, \"9\": 29, \"7\": 2, \"11\": 1}, \"4\": {\"14\": 73, \"4\": 166, \"5\": 1}, \"0\": {\"0\": 155, \"5\": 10, \"8\": 69, \"15\": 6}, \"6\": {\"6\": 182, \"9\": 21, \"13\": 32, \"7\": 5}, \"9\": {\"13\": 30, \"4\": 1, \"7\": 53, \"9\": 144, \"6\": 12}, \"11\": {\"11\": 234, \"13\": 5, \"6\": 1}, \"10\": {\"1\": 19, \"10\": 207, \"12\": 7, \"2\": 6, \"7\": 1}, \"14\": {\"14\": 163, \"4\": 67, \"15\": 7, \"5\": 3}, \"1\": {\"3\": 16, \"1\": 156, \"2\": 10, \"10\": 11, \"12\": 47}, \"3\": {\"3\": 235, \"1\": 4, \"12\": 1}}, \"C_A_3\": {\"43\": {\"43\": 8, \"14\": 1, \"28\": 2, \"13\": 1}, \"9\": {\"9\": 11, \"46\": 1}, \"6\": {\"6\": 5, \"33\": 3, \"44\": 1, \"27\": 1}, \"3\": {\"46\": 2, \"3\": 9, \"52\": 1}, \"16\": {\"16\": 9, \"23\": 2, \"39\": 1}, \"51\": {\"51\": 12}, \"31\": {\"31\": 11, \"0\": 1}, \"46\": {\"46\": 7, \"3\": 2, \"42\": 1}, \"19\": {\"19\": 8}, \"8\": {\"8\": 11, \"50\": 1}, \"18\": {\"46\": 1, \"18\": 9, \"29\": 1, \"30\": 1}, \"37\": {\"37\": 11, \"39\": 1}, \"24\": {\"10\": 1, \"24\": 9, \"14\": 2}, \"10\": {\"24\": 3, \"10\": 7, \"56\": 2}, \"44\": {\"44\": 10}, \"14\": {\"24\": 1, \"31\": 2, \"7\": 1, \"56\": 1, \"35\": 1, \"14\": 1, \"5\": 1, \"28\": 1, \"10\": 1, \"26\": 2}, \"38\": {\"38\": 10}, \"53\": {\"53\": 10, \"2\": 1, \"27\": 1}, \"20\": {\"36\": 1, \"20\": 7, \"21\": 1, \"40\": 1, \"6\": 1, \"19\": 1}, \"32\": {\"32\": 12}, \"36\": {\"36\": 10}, \"33\": {\"33\": 9, \"30\": 2, \"3\": 1}, \"56\": {\"56\": 10, \"24\": 1, \"10\": 1}, \"23\": {\"23\": 9, \"57\": 1, \"16\": 1, \"47\": 1}, \"54\": {\"54\": 10}, \"34\": {\"34\": 9, \"57\": 1, \"1\": 2}, \"13\": {\"13\": 7, \"43\": 1, \"49\": 1, \"22\": 1, \"35\": 1, \"7\": 1}, \"2\": {\"2\": 12}, \"55\": {\"34\": 1, \"55\": 4, \"5\": 2, \"42\": 1, \"3\": 2}, \"21\": {\"21\": 9, \"20\": 1}, \"49\": {\"49\": 8, \"57\": 1, \"22\": 1}, \"25\": {\"25\": 8, \"30\": 2, \"50\": 2}, \"5\": {\"5\": 7, \"57\": 1, \"26\": 1, \"47\": 1, \"42\": 1, \"28\": 1}, \"50\": {\"46\": 2, \"50\": 6}, \"40\": {\"40\": 11, \"36\": 1}, \"57\": {\"57\": 5, \"15\": 1, \"34\": 1, \"37\": 1}, \"22\": {\"22\": 3, \"55\": 1, \"13\": 1, \"35\": 2, \"7\": 1, \"0\": 1, \"49\": 1}, \"1\": {\"1\": 7, \"5\": 1, \"34\": 2}, \"17\": {\"17\": 12}, \"41\": {\"41\": 10, \"48\": 1, \"52\": 1}, \"4\": {\"4\": 9, \"51\": 1}, \"7\": {\"7\": 8, \"15\": 1, \"11\": 1}, \"26\": {\"26\": 8, \"16\": 1, \"37\": 1}, \"29\": {\"52\": 1, \"29\": 11}, \"52\": {\"3\": 1, \"52\": 5, \"48\": 4, \"46\": 2}, \"15\": {\"15\": 8, \"7\": 1, \"11\": 1, \"34\": 2}, \"35\": {\"35\": 12}, \"42\": {\"42\": 8, \"9\": 3, \"55\": 1}, \"30\": {\"30\": 8, \"33\": 2}, \"27\": {\"27\": 8}, \"45\": {\"45\": 10}, \"0\": {\"0\": 9, \"35\": 2, \"31\": 1}, \"28\": {\"0\": 1, \"28\": 11}, \"47\": {\"47\": 7, \"5\": 3, \"52\": 1, \"34\": 1}, \"11\": {\"5\": 1, \"15\": 1, \"34\": 2, \"35\": 1, \"11\": 5}, \"39\": {\"39\": 10}, \"48\": {\"41\": 1, \"48\": 10, \"33\": 1}, \"12\": {\"12\": 8}}, \"C_A_4\": {\"35\": {\"35\": 10}, \"25\": {\"25\": 12}, \"24\": {\"24\": 8, \"43\": 1, \"1\": 1}, \"48\": {\"48\": 9, \"26\": 2, \"36\": 1}, \"51\": {\"51\": 10, \"9\": 1, \"8\": 1}, \"13\": {\"13\": 12}, \"14\": {\"35\": 3, \"32\": 1, \"38\": 2, \"10\": 2}, \"32\": {\"32\": 8, \"46\": 2, \"41\": 2}, \"30\": {\"30\": 10, \"21\": 2}, \"34\": {\"40\": 1, \"34\": 7, \"26\": 2}, \"9\": {\"9\": 11, \"4\": 1}, \"1\": {\"1\": 12}, \"0\": {\"22\": 2, \"0\": 10}, \"38\": {\"38\": 10, \"13\": 1, \"22\": 1}, \"22\": {\"13\": 1, \"1\": 2, \"46\": 3, \"11\": 1, \"22\": 1}, \"40\": {\"40\": 11, \"28\": 1}, \"39\": {\"39\": 12}, \"46\": {\"46\": 7, \"5\": 1, \"11\": 1, \"49\": 1, \"31\": 1, \"41\": 1}, \"36\": {\"36\": 12}, \"50\": {\"50\": 7, \"6\": 2, \"20\": 2, \"4\": 1}, \"49\": {\"49\": 10, \"35\": 2}, \"17\": {\"17\": 12}, \"45\": {\"45\": 12}, \"6\": {\"6\": 5, \"19\": 3, \"51\": 1, \"20\": 2, \"34\": 1}, \"8\": {\"8\": 11, \"53\": 1}, \"5\": {\"39\": 3, \"54\": 1, \"52\": 1, \"5\": 4, \"57\": 1}, \"33\": {\"33\": 9, \"44\": 1, \"28\": 2}, \"31\": {\"31\": 12}, \"37\": {\"37\": 10}, \"47\": {\"31\": 1, \"47\": 6, \"57\": 1}, \"15\": {\"15\": 9, \"7\": 1}, \"7\": {\"7\": 10, \"32\": 2}, \"20\": {\"20\": 12}, \"4\": {\"4\": 11, \"9\": 1}, \"54\": {\"54\": 12}, \"44\": {\"44\": 10, \"19\": 1, \"33\": 1}, \"3\": {\"44\": 3, \"3\": 7, \"26\": 1, \"33\": 1}, \"11\": {\"46\": 1, \"11\": 4, \"1\": 2, \"7\": 2, \"32\": 1}, \"27\": {\"27\": 9, \"8\": 1}, \"19\": {\"44\": 2, \"19\": 10}, \"55\": {\"55\": 9, \"19\": 1, \"3\": 2}, \"16\": {\"16\": 12}, \"2\": {\"2\": 5, \"43\": 2, \"56\": 3}, \"52\": {\"16\": 1, \"33\": 1, \"23\": 2, \"5\": 3, \"54\": 1, \"11\": 1, \"52\": 1}, \"42\": {\"42\": 9, \"34\": 1}, \"26\": {\"26\": 11, \"34\": 1}, \"10\": {\"2\": 4, \"10\": 6, \"56\": 1, \"43\": 1}, \"53\": {\"28\": 1, \"53\": 7, \"25\": 1, \"26\": 1}, \"28\": {\"36\": 1, \"28\": 9, \"40\": 1, \"18\": 1}, \"21\": {\"21\": 10}, \"57\": {\"47\": 1, \"57\": 6, \"7\": 1, \"41\": 1, \"16\": 1}, \"23\": {\"52\": 2, \"18\": 2, \"54\": 1, \"39\": 1, \"23\": 2}, \"43\": {\"0\": 5, \"56\": 1, \"2\": 2, \"43\": 2}, \"12\": {\"12\": 12}, \"41\": {\"41\": 11, \"5\": 1}, \"56\": {\"56\": 5, \"16\": 1, \"43\": 1, \"2\": 1}, \"18\": {\"28\": 3, \"23\": 1, \"18\": 6}, \"29\": {\"18\": 1, \"29\": 3, \"16\": 1, \"47\": 2, \"57\": 1}}, \"W_A_3\": {\"109\": {\"109\": 8, \"33\": 1, \"89\": 1, \"82\": 2}, \"127\": {\"127\": 9, \"3\": 1, \"8\": 1, \"19\": 1}, \"14\": {\"14\": 6, \"107\": 1, \"45\": 1, \"115\": 2, \"20\": 2}, \"7\": {\"7\": 8, \"83\": 1, \"98\": 1, \"35\": 1, \"58\": 1}, \"129\": {\"129\": 8, \"16\": 1, \"40\": 1, \"74\": 1, \"115\": 1}, \"57\": {\"57\": 12}, \"84\": {\"84\": 4, \"44\": 1, \"31\": 1, \"29\": 1, \"111\": 1, \"54\": 1, \"49\": 1, \"82\": 1, \"109\": 1}, \"114\": {\"129\": 1, \"114\": 5, \"70\": 1, \"40\": 1, \"105\": 1, \"1\": 2, \"4\": 1}, \"44\": {\"44\": 5, \"109\": 1, \"31\": 2, \"1\": 1, \"102\": 1, \"60\": 1, \"96\": 1}, \"21\": {\"63\": 2, \"21\": 4, \"86\": 1, \"39\": 1, \"117\": 2, \"81\": 2}, \"46\": {\"46\": 7, \"86\": 2, \"85\": 1, \"28\": 1, \"55\": 1}, \"100\": {\"100\": 6, \"62\": 2, \"107\": 1, \"53\": 2, \"40\": 1}, \"63\": {\"63\": 6, \"24\": 1, \"113\": 2, \"27\": 1, \"2\": 1, \"54\": 1}, \"24\": {\"7\": 1, \"21\": 1, \"54\": 1, \"83\": 1, \"24\": 5, \"48\": 1, \"65\": 1, \"88\": 1}, \"107\": {\"107\": 11, \"129\": 1}, \"35\": {\"107\": 1, \"7\": 2, \"35\": 2, \"65\": 1, \"72\": 2, \"68\": 1, \"11\": 1}, \"81\": {\"81\": 12}, \"64\": {\"64\": 10, \"92\": 1, \"120\": 1}, \"59\": {\"36\": 1, \"59\": 6, \"97\": 1, \"73\": 1, \"111\": 2, \"83\": 1}, \"33\": {\"80\": 4, \"33\": 5, \"69\": 1, \"116\": 2}, \"34\": {\"34\": 6, \"94\": 2, \"60\": 2, \"0\": 1, \"75\": 1}, \"36\": {\"59\": 1, \"34\": 2, \"106\": 2, \"36\": 5, \"52\": 1, \"24\": 1}, \"79\": {\"79\": 10, \"20\": 2}, \"80\": {\"80\": 8, \"16\": 1, \"87\": 1, \"44\": 2}, \"77\": {\"77\": 9, \"48\": 1, \"91\": 1, \"101\": 1}, \"22\": {\"22\": 5, \"87\": 1, \"66\": 3, \"46\": 1, \"129\": 1, \"40\": 1}, \"124\": {\"124\": 4, \"105\": 2, \"86\": 1, \"85\": 1, \"127\": 1, \"9\": 1, \"57\": 1, \"108\": 1}, \"2\": {\"64\": 2, \"2\": 8, \"96\": 1, \"118\": 1}, \"87\": {\"79\": 1, \"22\": 1, \"106\": 1, \"1\": 2, \"31\": 1, \"87\": 4, \"107\": 1, \"69\": 1}, \"105\": {\"124\": 2, \"105\": 7, \"99\": 1, \"86\": 2}, \"95\": {\"95\": 9, \"3\": 1, \"30\": 1, \"98\": 1}, \"43\": {\"43\": 8, \"2\": 1, \"118\": 1, \"102\": 2}, \"56\": {\"56\": 7, \"128\": 1, \"9\": 1, \"91\": 1}, \"18\": {\"18\": 10, \"121\": 1, \"63\": 1}, \"85\": {\"85\": 7, \"114\": 2, \"46\": 1, \"105\": 1, \"88\": 1}, \"113\": {\"123\": 2, \"113\": 10}, \"97\": {\"59\": 1, \"97\": 6, \"51\": 1, \"94\": 1, \"101\": 1, \"58\": 1, \"7\": 1}, \"86\": {\"86\": 10, \"128\": 1, \"85\": 1}, \"128\": {\"86\": 2, \"128\": 4, \"105\": 1, \"82\": 1, \"124\": 1, \"104\": 1, \"32\": 1, \"60\": 1}, \"123\": {\"123\": 6, \"113\": 1, \"67\": 2, \"81\": 1, \"117\": 1, \"63\": 1}, \"8\": {\"128\": 1, \"8\": 3, \"55\": 1, \"5\": 1, \"85\": 1, \"127\": 1, \"41\": 1, \"9\": 2, \"40\": 1}, \"110\": {\"110\": 9, \"122\": 2, \"114\": 1}, \"126\": {\"21\": 4, \"126\": 8}, \"101\": {\"68\": 2, \"65\": 1, \"72\": 1, \"101\": 3, \"83\": 2, \"73\": 1, \"8\": 1, \"7\": 1}, \"115\": {\"115\": 10, \"107\": 1, \"129\": 1}, \"49\": {\"31\": 1, \"44\": 1, \"108\": 1, \"49\": 4, \"98\": 1, \"10\": 1, \"72\": 2, \"68\": 1}, \"45\": {\"45\": 12}, \"78\": {\"45\": 1, \"14\": 1, \"121\": 2, \"17\": 1, \"78\": 3, \"50\": 2, \"53\": 2}, \"65\": {\"101\": 2, \"10\": 3, \"65\": 2, \"35\": 2, \"81\": 1}, \"54\": {\"54\": 12}, \"31\": {\"44\": 2, \"31\": 7, \"90\": 1}, \"42\": {\"114\": 1, \"42\": 2, \"108\": 1, \"73\": 1, \"49\": 1, \"22\": 1, \"91\": 1, \"74\": 1, \"103\": 1, \"97\": 1, \"77\": 1}, \"68\": {\"68\": 8, \"72\": 1, \"7\": 2, \"35\": 1}, \"15\": {\"15\": 11, \"94\": 1}, \"69\": {\"69\": 10, \"33\": 1, \"116\": 1}, \"17\": {\"102\": 1, \"41\": 1, \"123\": 1, \"9\": 1, \"108\": 3, \"18\": 1, \"116\": 1, \"57\": 1}, \"73\": {\"73\": 10, \"101\": 1, \"7\": 1}, \"121\": {\"121\": 9, \"123\": 1, \"26\": 2}, \"102\": {\"102\": 12}, \"48\": {\"69\": 2, \"48\": 2, \"73\": 1, \"98\": 2, \"77\": 2, \"95\": 1, \"33\": 2}, \"23\": {\"121\": 2, \"55\": 2, \"105\": 1, \"113\": 1, \"91\": 1, \"9\": 1, \"61\": 2, \"40\": 2}, \"108\": {\"108\": 7, \"41\": 1, \"74\": 1, \"104\": 1, \"86\": 2}, \"53\": {\"53\": 8, \"31\": 2, \"60\": 1, \"50\": 1}, \"94\": {\"94\": 4, \"34\": 1, \"83\": 1, \"37\": 1, \"25\": 1, \"97\": 2}, \"41\": {\"41\": 6, \"108\": 1, \"85\": 2, \"99\": 1, \"74\": 1, \"86\": 1}, \"58\": {\"58\": 9, \"125\": 1, \"59\": 1, \"6\": 1}, \"29\": {\"29\": 7, \"62\": 1, \"129\": 1, \"82\": 1, \"60\": 2}, \"116\": {\"116\": 6, \"82\": 1, \"33\": 2, \"31\": 2, \"88\": 1}, \"60\": {\"60\": 5, \"20\": 1, \"53\": 1, \"74\": 1, \"28\": 1, \"32\": 1, \"62\": 1, \"107\": 1}, \"104\": {\"104\": 6, \"9\": 3, \"66\": 2, \"46\": 1}, \"106\": {\"78\": 1, \"106\": 10, \"101\": 1}, \"66\": {\"104\": 1, \"66\": 11}, \"47\": {\"47\": 7, \"4\": 3, \"127\": 1, \"56\": 1}, \"40\": {\"40\": 5, \"60\": 1, \"129\": 3, \"114\": 1, \"50\": 2}, \"82\": {\"82\": 9, \"29\": 1, \"115\": 1, \"89\": 1}, \"13\": {\"11\": 2, \"113\": 3, \"13\": 1, \"93\": 2, \"26\": 1, \"81\": 1, \"16\": 1, \"65\": 1}, \"19\": {\"9\": 1, \"19\": 1, \"115\": 1, \"103\": 1, \"105\": 1, \"107\": 1, \"28\": 2, \"86\": 1, \"49\": 1, \"129\": 1, \"8\": 1}, \"72\": {\"68\": 1, \"72\": 7, \"35\": 2, \"95\": 2}, \"9\": {\"9\": 7, \"55\": 2, \"99\": 1, \"128\": 2}, \"67\": {\"67\": 11, \"117\": 1}, \"11\": {\"76\": 1, \"11\": 7, \"102\": 1, \"16\": 2, \"84\": 1}, \"125\": {\"125\": 10, \"0\": 2}, \"76\": {\"76\": 8}, \"83\": {\"83\": 5, \"101\": 1, \"52\": 1, \"111\": 2, \"98\": 1, \"36\": 1, \"10\": 1}, \"74\": {\"74\": 7, \"54\": 1, \"122\": 1, \"129\": 1, \"9\": 2}, \"20\": {\"20\": 8, \"79\": 1, \"62\": 1, \"100\": 2}, \"119\": {\"119\": 10, \"33\": 2}, \"1\": {\"129\": 2, \"32\": 1, \"103\": 1, \"1\": 7, \"114\": 1}, \"16\": {\"16\": 9, \"48\": 1, \"20\": 1, \"62\": 1}, \"25\": {\"25\": 11, \"48\": 1}, \"90\": {\"79\": 2, \"90\": 3, \"62\": 1, \"17\": 1, \"31\": 1}, \"39\": {\"39\": 9, \"67\": 2, \"61\": 1}, \"28\": {\"28\": 9, \"74\": 2, \"50\": 1}, \"55\": {\"55\": 11, \"46\": 1}, \"117\": {\"117\": 8, \"119\": 1, \"123\": 1, \"2\": 2}, \"112\": {\"112\": 3, \"108\": 1, \"124\": 4, \"41\": 1, \"55\": 1, \"86\": 1, \"74\": 1}, \"38\": {\"38\": 8, \"107\": 1, \"105\": 1, \"115\": 1, \"129\": 1}, \"37\": {\"37\": 11, \"106\": 1}, \"120\": {\"64\": 3, \"120\": 7, \"13\": 1, \"102\": 1}, \"122\": {\"122\": 3, \"50\": 1, \"74\": 1, \"99\": 1, \"29\": 2, \"14\": 1, \"108\": 2, \"57\": 1}, \"50\": {\"50\": 12}, \"10\": {\"10\": 6, \"47\": 1, \"83\": 2, \"103\": 1, \"36\": 1, \"55\": 1}, \"5\": {\"122\": 2, \"71\": 1, \"55\": 1, \"86\": 1, \"5\": 5, \"85\": 1, \"108\": 1}, \"51\": {\"51\": 11, \"75\": 1}, \"3\": {\"3\": 8, \"42\": 1, \"103\": 1, \"127\": 1, \"12\": 1}, \"98\": {\"48\": 1, \"3\": 1, \"12\": 2, \"98\": 3, \"72\": 1, \"47\": 1, \"10\": 1, \"55\": 1, \"60\": 1}, \"70\": {\"60\": 1, \"22\": 1, \"110\": 2, \"114\": 1, \"50\": 2, \"107\": 1, \"23\": 1, \"100\": 1, \"41\": 1, \"115\": 1}, \"96\": {\"96\": 8, \"2\": 2, \"119\": 1, \"102\": 1}, \"12\": {\"12\": 5, \"124\": 1, \"5\": 1, \"30\": 1, \"72\": 1, \"3\": 1, \"56\": 2}, \"99\": {\"105\": 1, \"74\": 1, \"99\": 10}, \"52\": {\"52\": 5, \"70\": 1, \"68\": 1, \"5\": 1, \"55\": 2, \"122\": 1, \"3\": 1}, \"71\": {\"5\": 2, \"36\": 1, \"112\": 1, \"71\": 4, \"2\": 1, \"66\": 2, \"8\": 1}, \"89\": {\"89\": 10, \"93\": 1, \"119\": 1}, \"0\": {\"12\": 2, \"111\": 4, \"0\": 3, \"68\": 1, \"125\": 2}, \"4\": {\"55\": 1, \"71\": 1, \"114\": 1, \"85\": 1, \"111\": 1, \"4\": 3, \"15\": 1, \"128\": 1, \"59\": 1, \"8\": 1}, \"93\": {\"93\": 12}, \"6\": {\"6\": 7, \"37\": 2, \"58\": 1}, \"75\": {\"75\": 12}, \"62\": {\"62\": 9, \"107\": 2, \"11\": 1}, \"103\": {\"103\": 8, \"1\": 1, \"129\": 1, \"66\": 1, \"88\": 1}, \"30\": {\"56\": 1, \"72\": 1, \"59\": 1, \"95\": 1, \"28\": 1, \"103\": 1, \"68\": 1, \"5\": 1, \"77\": 1, \"30\": 1, \"85\": 1, \"105\": 1}, \"91\": {\"91\": 6, \"98\": 1, \"19\": 1, \"128\": 1, \"5\": 2, \"42\": 1}, \"27\": {\"72\": 2, \"97\": 1, \"51\": 2, \"111\": 1, \"27\": 1, \"37\": 2, \"24\": 1, \"48\": 1, \"47\": 1}, \"26\": {\"26\": 12}, \"61\": {\"61\": 12}, \"118\": {\"120\": 2, \"118\": 5, \"33\": 1, \"26\": 2, \"109\": 1, \"64\": 1}, \"92\": {\"93\": 2, \"92\": 8, \"102\": 1, \"43\": 1}, \"111\": {\"0\": 1, \"111\": 9, \"83\": 1, \"59\": 1}, \"32\": {\"85\": 1, \"62\": 1, \"28\": 1, \"53\": 1, \"50\": 2, \"87\": 1, \"57\": 1, \"32\": 2, \"4\": 1, \"46\": 1}, \"88\": {\"47\": 1, \"88\": 1, \"1\": 1, \"118\": 1, \"14\": 1, \"117\": 1, \"39\": 1, \"89\": 1, \"109\": 1, \"84\": 1}}, \"C_A_5\": {\"47\": {\"47\": 4, \"52\": 3, \"16\": 2, \"34\": 1}, \"53\": {\"53\": 9, \"27\": 2, \"50\": 1}, \"29\": {\"29\": 9, \"15\": 1, \"46\": 2}, \"52\": {\"52\": 7, \"47\": 1, \"34\": 1, \"16\": 1, \"57\": 2}, \"55\": {\"55\": 11, \"4\": 1}, \"17\": {\"17\": 8, \"30\": 4}, \"42\": {\"42\": 12}, \"33\": {\"33\": 10}, \"11\": {\"11\": 7, \"36\": 1, \"49\": 2, \"29\": 2}, \"19\": {\"19\": 8}, \"1\": {\"53\": 1, \"1\": 8, \"50\": 1, \"8\": 2}, \"44\": {\"44\": 10, \"15\": 2}, \"49\": {\"49\": 12}, \"4\": {\"4\": 11, \"45\": 1}, \"6\": {\"6\": 7, \"30\": 3, \"20\": 1, \"26\": 1}, \"39\": {\"39\": 12}, \"13\": {\"22\": 1, \"13\": 6, \"14\": 1, \"24\": 3, \"10\": 1}, \"5\": {\"5\": 10}, \"16\": {\"52\": 1, \"16\": 4, \"57\": 2, \"46\": 2, \"47\": 1}, \"25\": {\"25\": 8, \"18\": 1, \"21\": 1, \"41\": 2}, \"45\": {\"45\": 7, \"53\": 1, \"17\": 1, \"30\": 2, \"4\": 1}, \"7\": {\"7\": 10}, \"22\": {\"22\": 9, \"2\": 1, \"49\": 2}, \"40\": {\"47\": 1, \"40\": 7, \"16\": 1, \"44\": 1, \"29\": 2}, \"38\": {\"38\": 12}, \"35\": {\"35\": 5, \"24\": 3}, \"56\": {\"56\": 10, \"0\": 1, \"31\": 1}, \"50\": {\"50\": 9, \"21\": 1}, \"0\": {\"0\": 12}, \"10\": {\"10\": 11, \"24\": 1}, \"27\": {\"27\": 8, \"8\": 3, \"53\": 1}, \"20\": {\"20\": 7, \"27\": 1, \"21\": 1, \"6\": 1}, \"36\": {\"36\": 7, \"3\": 1}, \"34\": {\"34\": 12}, \"30\": {\"30\": 11, \"45\": 1}, \"2\": {\"2\": 7, \"22\": 1, \"11\": 1, \"36\": 1}, \"15\": {\"22\": 1, \"15\": 9, \"11\": 2}, \"18\": {\"18\": 9, \"41\": 1, \"33\": 2}, \"32\": {\"32\": 12}, \"31\": {\"31\": 12}, \"57\": {\"57\": 11, \"28\": 1}, \"48\": {\"48\": 7, \"32\": 1}, \"28\": {\"28\": 10}, \"14\": {\"3\": 1, \"28\": 2, \"36\": 1, \"41\": 1, \"23\": 1, \"37\": 2, \"43\": 3, \"14\": 1}, \"3\": {\"16\": 1, \"40\": 1, \"49\": 1, \"3\": 7, \"57\": 1, \"15\": 1}, \"8\": {\"8\": 5, \"27\": 3, \"50\": 1, \"1\": 3}, \"9\": {\"9\": 11, \"32\": 1}, \"21\": {\"50\": 2, \"21\": 8}, \"41\": {\"41\": 11, \"21\": 1}, \"24\": {\"0\": 1, \"24\": 7, \"35\": 1, \"13\": 3}, \"46\": {\"46\": 7, \"37\": 1, \"57\": 2}, \"43\": {\"43\": 8, \"46\": 1, \"36\": 1}, \"54\": {\"54\": 9, \"34\": 1}, \"23\": {\"23\": 8, \"18\": 1, \"39\": 1}, \"37\": {\"37\": 10}, \"12\": {\"12\": 10}, \"26\": {\"26\": 10}, \"51\": {\"51\": 6}}, \"C_A_1\": {\"46\": {\"46\": 8, \"4\": 3, \"6\": 1}, \"16\": {\"55\": 1, \"16\": 7, \"37\": 2, \"26\": 2}, \"26\": {\"26\": 9, \"1\": 1, \"45\": 2}, \"10\": {\"10\": 8, \"22\": 1, \"23\": 1, \"28\": 2}, \"9\": {\"9\": 10}, \"28\": {\"28\": 9, \"49\": 1, \"11\": 1, \"21\": 1}, \"51\": {\"42\": 1, \"51\": 10, \"7\": 1}, \"1\": {\"1\": 8, \"42\": 1, \"57\": 3}, \"55\": {\"55\": 10, \"3\": 2}, \"27\": {\"27\": 10}, \"22\": {\"10\": 1, \"22\": 7, \"15\": 1, \"11\": 1, \"28\": 2}, \"52\": {\"52\": 9, \"47\": 1, \"23\": 1, \"36\": 1}, \"3\": {\"3\": 11, \"55\": 1}, \"33\": {\"33\": 8}, \"47\": {\"47\": 9, \"55\": 1, \"44\": 1, \"52\": 1}, \"42\": {\"42\": 12}, \"12\": {\"12\": 2, \"7\": 1, \"13\": 1}, \"23\": {\"33\": 1, \"11\": 1, \"23\": 9, \"49\": 1}, \"49\": {\"49\": 9, \"23\": 1}, \"7\": {\"7\": 12}, \"4\": {\"4\": 12}, \"50\": {\"50\": 12}, \"19\": {\"19\": 9, \"57\": 1, \"1\": 1, \"29\": 1}, \"11\": {\"28\": 2, \"11\": 6, \"15\": 3, \"23\": 1}, \"31\": {\"31\": 10}, \"41\": {\"41\": 12}, \"56\": {\"56\": 5, \"42\": 1, \"19\": 1, \"1\": 1, \"45\": 2}, \"0\": {\"0\": 3, \"52\": 1, \"31\": 3, \"54\": 1, \"36\": 2, \"38\": 1, \"28\": 1}, \"57\": {\"26\": 1, \"57\": 9, \"1\": 2}, \"53\": {\"9\": 2, \"53\": 7, \"8\": 3}, \"43\": {\"43\": 12}, \"37\": {\"37\": 12}, \"2\": {\"2\": 8}, \"6\": {\"6\": 8, \"17\": 1, \"5\": 1, \"48\": 2}, \"18\": {\"18\": 8, \"1\": 2, \"37\": 1, \"26\": 1}, \"38\": {\"38\": 12}, \"15\": {\"11\": 3, \"15\": 2, \"35\": 5, \"32\": 1, \"23\": 1}, \"36\": {\"36\": 12}, \"39\": {\"39\": 6, \"10\": 2}, \"44\": {\"44\": 7, \"35\": 2, \"32\": 2, \"47\": 1}, \"8\": {\"8\": 12}, \"17\": {\"17\": 10}, \"5\": {\"5\": 11, \"41\": 1}, \"13\": {\"13\": 9, \"7\": 1}, \"40\": {\"40\": 10}, \"29\": {\"57\": 1, \"29\": 10, \"26\": 1}, \"48\": {\"48\": 10, \"6\": 1, \"2\": 1}, \"32\": {\"32\": 6, \"35\": 2, \"44\": 3, \"36\": 1}, \"30\": {\"18\": 2, \"30\": 6, \"14\": 4}, \"35\": {\"35\": 10, \"47\": 2}, \"25\": {\"25\": 12}, \"14\": {\"14\": 5, \"53\": 1, \"51\": 2, \"13\": 3, \"5\": 1}, \"54\": {\"54\": 10}, \"20\": {\"20\": 8}, \"21\": {\"21\": 9, \"31\": 1}, \"45\": {\"45\": 6, \"57\": 1, \"42\": 1}, \"24\": {\"24\": 8}, \"34\": {\"34\": 7, \"36\": 1}}, \"W_A_4\": {\"28\": {\"28\": 9, \"72\": 1, \"79\": 1, \"46\": 1}, \"4\": {\"4\": 4, \"82\": 2, \"95\": 1, \"19\": 1, \"71\": 1, \"17\": 1, \"7\": 1, \"98\": 1}, \"72\": {\"43\": 1, \"114\": 1, \"72\": 8, \"46\": 1, \"115\": 1}, \"111\": {\"12\": 3, \"30\": 1, \"111\": 7, \"125\": 1}, \"108\": {\"108\": 7, \"43\": 1, \"102\": 1, \"72\": 1, \"14\": 1, \"93\": 1}, \"43\": {\"43\": 6, \"72\": 1, \"102\": 1, \"79\": 1, \"22\": 1}, \"96\": {\"96\": 10, \"116\": 1, \"84\": 1}, \"89\": {\"89\": 10, \"1\": 1, \"46\": 1}, \"31\": {\"31\": 12}, \"45\": {\"45\": 11, \"20\": 1}, \"2\": {\"2\": 11, \"121\": 1}, \"114\": {\"72\": 2, \"31\": 1, \"40\": 1, \"114\": 2, \"83\": 1, \"105\": 1, \"82\": 1, \"124\": 1, \"1\": 1, \"32\": 1}, \"11\": {\"43\": 2, \"11\": 5, \"3\": 2, \"69\": 1, \"33\": 1, \"76\": 1}, \"12\": {\"111\": 5, \"12\": 6, \"55\": 1}, \"14\": {\"14\": 9, \"108\": 1, \"20\": 1, \"129\": 1}, \"90\": {\"96\": 1, \"90\": 7, \"84\": 2, \"66\": 1, \"38\": 1}, \"10\": {\"82\": 1, \"10\": 6, \"128\": 2, \"24\": 1, \"104\": 2}, \"63\": {\"82\": 2, \"63\": 9, \"35\": 1}, \"85\": {\"85\": 5, \"123\": 1, \"86\": 1, \"95\": 1, \"119\": 1, \"127\": 1, \"1\": 1, \"89\": 1}, \"64\": {\"64\": 11, \"73\": 1}, \"82\": {\"82\": 7, \"16\": 1, \"89\": 1, \"63\": 1, \"128\": 2}, \"58\": {\"58\": 9, \"125\": 1, \"59\": 1, \"15\": 1}, \"3\": {\"3\": 5, \"4\": 1, \"11\": 1, \"50\": 1, \"71\": 1, \"49\": 2, \"5\": 1}, \"54\": {\"54\": 12}, \"121\": {\"121\": 7, \"63\": 1, \"84\": 1, \"67\": 1, \"123\": 1, \"5\": 1}, \"42\": {\"42\": 3, \"82\": 2, \"7\": 1, \"71\": 1, \"104\": 1, \"37\": 1, \"32\": 1, \"129\": 1, \"98\": 1}, \"98\": {\"98\": 2, \"70\": 2, \"91\": 2, \"37\": 1, \"27\": 1, \"41\": 1, \"42\": 1, \"1\": 2}, \"123\": {\"63\": 2, \"123\": 7, \"16\": 1, \"49\": 1, \"35\": 1}, \"91\": {\"85\": 2, \"54\": 1, \"27\": 2, \"91\": 5, \"98\": 1, \"127\": 1}, \"66\": {\"66\": 8, \"102\": 1, \"90\": 1, \"38\": 2}, \"102\": {\"102\": 8, \"74\": 2, \"109\": 2}, \"122\": {\"62\": 1, \"72\": 2, \"110\": 1, \"118\": 1, \"104\": 1, \"92\": 1, \"122\": 3, \"68\": 1, \"99\": 1}, \"1\": {\"1\": 4, \"82\": 1, \"89\": 2, \"114\": 3, \"83\": 1, \"87\": 1}, \"15\": {\"125\": 1, \"75\": 1, \"9\": 2, \"15\": 6, \"52\": 1, \"111\": 1}, \"97\": {\"68\": 2, \"54\": 2, \"15\": 1, \"97\": 3, \"115\": 1, \"52\": 1, \"47\": 1, \"42\": 1}, \"75\": {\"75\": 12}, \"95\": {\"95\": 6, \"119\": 1, \"87\": 1, \"82\": 1, \"86\": 1, \"8\": 1, \"42\": 1}, \"57\": {\"57\": 10, \"48\": 2}, \"68\": {\"68\": 10, \"52\": 1, \"77\": 1}, \"125\": {\"125\": 10, \"30\": 1, \"53\": 1}, \"62\": {\"62\": 6, \"33\": 1, \"60\": 1, \"19\": 1, \"110\": 1}, \"27\": {\"46\": 1, \"83\": 1, \"55\": 1, \"21\": 1, \"27\": 3, \"100\": 1, \"98\": 1, \"124\": 2, \"126\": 1}, \"120\": {\"120\": 9, \"23\": 1, \"64\": 2}, \"26\": {\"63\": 1, \"35\": 1, \"26\": 9, \"117\": 1}, \"55\": {\"55\": 9, \"91\": 1, \"89\": 1, \"41\": 1}, \"71\": {\"83\": 3, \"71\": 3, \"35\": 1, \"3\": 1, \"124\": 2, \"82\": 1, \"72\": 1}, \"22\": {\"83\": 1, \"22\": 10, \"43\": 1}, \"99\": {\"99\": 8, \"14\": 2, \"21\": 1, \"43\": 1}, \"84\": {\"13\": 1, \"84\": 5, \"49\": 1, \"90\": 3, \"92\": 1, \"30\": 1}, \"37\": {\"37\": 12}, \"83\": {\"22\": 4, \"83\": 3, \"40\": 2, \"71\": 1, \"115\": 1, \"105\": 1}, \"46\": {\"83\": 2, \"46\": 4, \"70\": 1, \"0\": 1, \"40\": 3, \"32\": 1}, \"35\": {\"35\": 7, \"26\": 2, \"117\": 1, \"78\": 1, \"65\": 1}, \"13\": {\"84\": 2, \"13\": 10}, \"53\": {\"53\": 9, \"61\": 1, \"65\": 1, \"49\": 1}, \"127\": {\"53\": 2, \"9\": 1, \"127\": 4, \"52\": 1, \"101\": 1, \"111\": 1, \"49\": 2}, \"69\": {\"48\": 1, \"69\": 9, \"92\": 1, \"123\": 1}, \"48\": {\"48\": 4, \"113\": 1, \"44\": 1, \"121\": 1, \"109\": 1, \"20\": 1, \"90\": 1, \"66\": 1, \"59\": 1}, \"16\": {\"16\": 10, \"92\": 1, \"67\": 1}, \"0\": {\"53\": 1, \"89\": 1, \"42\": 2, \"49\": 1, \"0\": 1, \"55\": 2, \"129\": 1, \"98\": 1, \"37\": 2}, \"8\": {\"89\": 1, \"16\": 1, \"71\": 1, \"8\": 1, \"119\": 1, \"0\": 1, \"112\": 2, \"95\": 1, \"42\": 2, \"61\": 1}, \"9\": {\"9\": 7, \"34\": 1, \"106\": 2, \"19\": 1, \"111\": 1}, \"115\": {\"115\": 8, \"43\": 1, \"70\": 1, \"87\": 1, \"72\": 1}, \"70\": {\"46\": 1, \"60\": 1, \"74\": 1, \"19\": 1, \"87\": 1, \"112\": 1, \"82\": 2, \"107\": 1, \"100\": 1, \"11\": 1, \"70\": 1}, \"119\": {\"115\": 3, \"95\": 1, \"119\": 3, \"0\": 1, \"70\": 1, \"11\": 1, \"129\": 2}, \"59\": {\"59\": 6, \"6\": 1, \"52\": 2, \"47\": 2, \"15\": 1}, \"52\": {\"95\": 1, \"52\": 6, \"19\": 2, \"106\": 1, \"55\": 1, \"85\": 1}, \"60\": {\"46\": 1, \"60\": 4, \"128\": 1, \"99\": 1, \"114\": 1, \"83\": 1, \"89\": 2, \"11\": 1}, \"44\": {\"44\": 6, \"74\": 2, \"16\": 1, \"70\": 1, \"90\": 1, \"69\": 1}, \"51\": {\"15\": 1, \"44\": 1, \"111\": 1, \"17\": 1, \"47\": 1, \"101\": 1, \"9\": 1, \"25\": 1, \"68\": 1, \"51\": 1, \"36\": 1, \"49\": 1}, \"6\": {\"6\": 8, \"59\": 1, \"15\": 2, \"58\": 1}, \"73\": {\"69\": 1, \"50\": 1, \"73\": 5, \"129\": 1, \"3\": 1, \"108\": 2, \"31\": 1}, \"78\": {\"50\": 1, \"45\": 1, \"128\": 2, \"87\": 1, \"115\": 1, \"114\": 1, \"1\": 1, \"0\": 1, \"73\": 1, \"11\": 2}, \"92\": {\"74\": 3, \"92\": 7, \"122\": 1, \"66\": 1}, \"20\": {\"20\": 8, \"78\": 1, \"126\": 1, \"62\": 1, \"66\": 1}, \"17\": {\"17\": 9, \"19\": 1, \"82\": 2}, \"74\": {\"74\": 7, \"73\": 1, \"92\": 1, \"70\": 1, \"102\": 1, \"45\": 1}, \"19\": {\"70\": 1, \"69\": 1, \"31\": 2, \"93\": 1, \"118\": 1, \"8\": 1, \"87\": 1, \"60\": 2, \"112\": 1, \"62\": 1}, \"50\": {\"50\": 5, \"3\": 2, \"118\": 1, \"87\": 1, \"107\": 2, \"11\": 1}, \"34\": {\"19\": 1, \"17\": 1, \"34\": 6, \"15\": 1, \"89\": 1, \"10\": 2}, \"104\": {\"104\": 6, \"19\": 1, \"17\": 1}, \"33\": {\"33\": 4, \"5\": 1, \"118\": 2, \"109\": 1, \"31\": 1, \"79\": 1, \"39\": 1, \"66\": 1}, \"5\": {\"5\": 6, \"116\": 1, \"22\": 1, \"79\": 1, \"108\": 2, \"3\": 1}, \"7\": {\"7\": 6, \"40\": 1, \"128\": 1, \"103\": 1, \"27\": 1, \"125\": 1, \"98\": 1}, \"29\": {\"29\": 12}, \"25\": {\"25\": 11, \"75\": 1}, \"124\": {\"71\": 2, \"89\": 1, \"3\": 1, \"128\": 1, \"124\": 4, \"100\": 1, \"17\": 1, \"114\": 1}, \"117\": {\"117\": 10, \"26\": 1, \"61\": 1}, \"88\": {\"96\": 1, \"35\": 2, \"1\": 1, \"90\": 1, \"94\": 1, \"59\": 1, \"67\": 1, \"89\": 2, \"113\": 2}, \"61\": {\"61\": 12}, \"86\": {\"124\": 2, \"77\": 1, \"0\": 1, \"86\": 5, \"100\": 1, \"82\": 2}, \"116\": {\"69\": 2, \"116\": 7, \"20\": 1, \"57\": 1, \"64\": 1}, \"24\": {\"24\": 9, \"36\": 1, \"111\": 1, \"91\": 1}, \"128\": {\"128\": 7, \"21\": 1, \"100\": 1, \"129\": 1, \"83\": 1, \"46\": 1}, \"101\": {\"101\": 5, \"70\": 2, \"27\": 2, \"12\": 1, \"91\": 1, \"127\": 1}, \"65\": {\"65\": 9, \"0\": 1}, \"36\": {\"24\": 2, \"52\": 1, \"36\": 7, \"53\": 2}, \"21\": {\"52\": 1, \"65\": 3, \"21\": 5, \"81\": 1, \"111\": 1, \"63\": 1}, \"106\": {\"106\": 6, \"55\": 1, \"112\": 1, \"19\": 2, \"68\": 1, \"8\": 1}, \"118\": {\"33\": 2, \"26\": 1, \"110\": 1, \"118\": 6, \"79\": 1, \"65\": 1}, \"113\": {\"117\": 2, \"113\": 3, \"48\": 1, \"81\": 2, \"123\": 1, \"24\": 1, \"26\": 2}, \"40\": {\"83\": 2, \"40\": 5, \"46\": 2, \"72\": 1, \"87\": 2}, \"93\": {\"93\": 7, \"109\": 1}, \"94\": {\"94\": 5, \"34\": 1, \"25\": 1, \"6\": 2, \"10\": 2, \"58\": 1}, \"103\": {\"8\": 2, \"77\": 3, \"103\": 2, \"5\": 1, \"98\": 1, \"65\": 1, \"71\": 1, \"24\": 1}, \"110\": {\"110\": 8, \"93\": 1, \"108\": 1, \"60\": 1, \"118\": 1}, \"56\": {\"119\": 1, \"56\": 5, \"17\": 1, \"70\": 1, \"112\": 1, \"124\": 1, \"4\": 1, \"86\": 1}, \"39\": {\"39\": 11, \"18\": 1}, \"109\": {\"2\": 1, \"109\": 7, \"121\": 1, \"116\": 1, \"88\": 1, \"93\": 1}, \"67\": {\"74\": 2, \"121\": 2, \"110\": 1, \"39\": 2, \"62\": 1, \"88\": 1, \"63\": 1, \"28\": 1, \"81\": 1}, \"129\": {\"129\": 5, \"17\": 1, \"128\": 2, \"90\": 1, \"98\": 1, \"14\": 1, \"93\": 1}, \"30\": {\"30\": 9, \"111\": 1, \"125\": 1, \"112\": 1}, \"126\": {\"126\": 10, \"106\": 1, \"108\": 1}, \"87\": {\"81\": 1, \"87\": 7, \"115\": 1, \"3\": 2, \"73\": 1}, \"112\": {\"112\": 10, \"128\": 1, \"17\": 1}, \"100\": {\"87\": 1, \"112\": 1, \"100\": 7, \"105\": 1, \"46\": 2}, \"79\": {\"118\": 2, \"79\": 8}, \"81\": {\"81\": 11, \"61\": 1}, \"76\": {\"76\": 5, \"32\": 4, \"99\": 1}, \"47\": {\"47\": 9, \"100\": 1, \"59\": 2}, \"77\": {\"77\": 3, \"103\": 4, \"41\": 2, \"95\": 2, \"32\": 1}, \"23\": {\"23\": 2, \"0\": 1, \"22\": 1, \"123\": 2, \"41\": 2, \"121\": 1, \"98\": 1, \"65\": 1, \"49\": 1}, \"18\": {\"18\": 12}, \"49\": {\"72\": 1, \"84\": 1, \"41\": 1, \"48\": 1, \"102\": 1, \"49\": 5, \"31\": 1, \"53\": 1}, \"41\": {\"27\": 1, \"41\": 5, \"47\": 1, \"112\": 1, \"12\": 1, \"55\": 1, \"42\": 1, \"0\": 1}, \"32\": {\"87\": 1, \"76\": 4, \"129\": 1, \"107\": 1, \"62\": 1, \"72\": 1, \"32\": 1, \"45\": 1, \"114\": 1}, \"107\": {\"105\": 1, \"107\": 6, \"87\": 2, \"19\": 1}, \"80\": {\"80\": 9, \"38\": 1, \"126\": 1, \"44\": 1}, \"105\": {\"105\": 4, \"87\": 2, \"114\": 2, \"24\": 1, \"129\": 1}, \"38\": {\"38\": 6, \"109\": 1, \"80\": 2, \"44\": 1}}, \"W_A_1\": {\"108\": {\"57\": 2, \"74\": 2, \"116\": 1, \"35\": 2, \"108\": 1, \"54\": 2}, \"40\": {\"57\": 1, \"79\": 1, \"40\": 4, \"28\": 1, \"87\": 1, \"124\": 1, \"77\": 1, \"105\": 2}, \"68\": {\"110\": 1, \"23\": 1, \"68\": 5, \"41\": 1, \"0\": 1, \"31\": 2, \"101\": 1}, \"23\": {\"68\": 1, \"102\": 1, \"1\": 1, \"23\": 1, \"89\": 1, \"33\": 1, \"55\": 1, \"69\": 1, \"119\": 2, \"74\": 2}, \"26\": {\"79\": 1, \"26\": 10, \"100\": 1}, \"64\": {\"64\": 12}, \"22\": {\"22\": 8, \"129\": 1, \"19\": 1, \"109\": 1, \"42\": 1}, \"3\": {\"102\": 2, \"3\": 3, \"109\": 1, \"100\": 2, \"33\": 1, \"26\": 1, \"66\": 1, \"116\": 1}, \"4\": {\"40\": 2, \"83\": 2, \"29\": 1, \"31\": 1, \"44\": 1, \"48\": 1, \"104\": 1, \"106\": 1, \"113\": 1, \"73\": 1}, \"70\": {\"64\": 1, \"89\": 2, \"77\": 1, \"70\": 2, \"72\": 1, \"54\": 1, \"80\": 2, \"60\": 1, \"29\": 1}, \"57\": {\"57\": 12}, \"79\": {\"79\": 10, \"128\": 1, \"22\": 1}, \"9\": {\"89\": 2, \"73\": 1, \"17\": 1, \"8\": 1, \"74\": 1, \"9\": 1, \"72\": 1, \"47\": 1, \"101\": 1, \"103\": 2}, \"89\": {\"70\": 2, \"23\": 2, \"74\": 1, \"89\": 4, \"40\": 1, \"93\": 1, \"128\": 1}, \"110\": {\"68\": 1, \"23\": 1, \"110\": 6, \"5\": 2, \"101\": 1, \"93\": 1}, \"102\": {\"102\": 9, \"82\": 1, \"33\": 1, \"69\": 1}, \"31\": {\"68\": 1, \"83\": 1, \"31\": 4, \"55\": 1, \"126\": 2, \"17\": 1, \"103\": 1, \"86\": 1}, \"58\": {\"58\": 7, \"32\": 1, \"127\": 2, \"111\": 2}, \"47\": {\"17\": 2, \"35\": 2, \"47\": 5, \"19\": 1, \"14\": 1, \"54\": 1}, \"24\": {\"52\": 2, \"24\": 1, \"17\": 1, \"73\": 1, \"14\": 1, \"93\": 1, \"97\": 1, \"103\": 3, \"83\": 1}, \"19\": {\"19\": 10, \"73\": 1, \"84\": 1}, \"11\": {\"11\": 8, \"90\": 1, \"22\": 1, \"62\": 1, \"50\": 1}, \"52\": {\"68\": 2, \"52\": 3, \"44\": 1, \"126\": 2, \"24\": 3, \"46\": 1}, \"17\": {\"17\": 9, \"73\": 2, \"57\": 1}, \"25\": {\"25\": 8, \"11\": 1, \"81\": 1, \"100\": 1, \"69\": 1}, \"69\": {\"69\": 9, \"60\": 1, \"102\": 1, \"39\": 1}, \"96\": {\"115\": 1, \"96\": 10, \"84\": 1}, \"109\": {\"109\": 4, \"69\": 1, \"22\": 1, \"3\": 1, \"25\": 1, \"82\": 2, \"1\": 1, \"99\": 1}, \"115\": {\"115\": 9, \"45\": 1, \"96\": 1, \"114\": 1}, \"83\": {\"83\": 5, \"105\": 1, \"42\": 1, \"75\": 1, \"104\": 3, \"124\": 1}, \"84\": {\"84\": 7, \"1\": 1, \"126\": 3, \"73\": 1}, \"119\": {\"119\": 6, \"118\": 2, \"99\": 1, \"2\": 1}, \"122\": {\"74\": 1, \"84\": 1, \"76\": 1, \"122\": 5, \"105\": 1, \"104\": 1}, \"99\": {\"99\": 8, \"66\": 1, \"11\": 1, \"122\": 2}, \"1\": {\"84\": 1, \"1\": 9, \"81\": 1, \"42\": 1}, \"74\": {\"74\": 9, \"89\": 1, \"68\": 1, \"73\": 1}, \"85\": {\"85\": 8, \"127\": 1, \"12\": 1, \"97\": 2}, \"127\": {\"85\": 2, \"127\": 9, \"12\": 1}, \"111\": {\"111\": 11, \"58\": 1}, \"53\": {\"53\": 3, \"111\": 1, \"27\": 2, \"94\": 2, \"6\": 1, \"56\": 2, \"75\": 1}, \"88\": {\"89\": 1, \"23\": 1, \"36\": 1, \"71\": 1, \"88\": 2, \"3\": 2, \"44\": 2, \"49\": 1, \"92\": 1}, \"65\": {\"119\": 1, \"16\": 1, \"63\": 1, \"78\": 1, \"64\": 1, \"60\": 1, \"13\": 1, \"95\": 1, \"65\": 1, \"122\": 1}, \"7\": {\"7\": 4, \"23\": 1, \"54\": 1, \"1\": 3, \"80\": 1, \"90\": 1, \"99\": 1}, \"16\": {\"16\": 9, \"10\": 1, \"18\": 2}, \"128\": {\"17\": 1, \"129\": 1, \"61\": 3, \"105\": 1, \"79\": 2, \"1\": 1, \"84\": 1, \"128\": 1, \"126\": 1}, \"34\": {\"0\": 1, \"129\": 1, \"24\": 1, \"34\": 2, \"122\": 2, \"74\": 1, \"44\": 1, \"76\": 1, \"127\": 1, \"84\": 1}, \"129\": {\"118\": 1, \"129\": 3, \"33\": 2, \"114\": 1, \"20\": 2, \"19\": 2, \"117\": 1}, \"43\": {\"43\": 9, \"74\": 2, \"96\": 1}, \"92\": {\"92\": 12}, \"28\": {\"28\": 12}, \"27\": {\"53\": 1, \"27\": 4, \"83\": 1, \"32\": 2, \"30\": 2, \"71\": 1, \"52\": 1}, \"114\": {\"114\": 8, \"73\": 1, \"42\": 1, \"79\": 1, \"115\": 1}, \"73\": {\"28\": 1, \"129\": 1, \"19\": 1, \"73\": 6, \"104\": 1, \"86\": 1, \"43\": 1}, \"0\": {\"53\": 1, \"0\": 8, \"91\": 1, \"46\": 2}, \"104\": {\"128\": 1, \"73\": 1, \"46\": 1, \"14\": 1, \"104\": 7, \"124\": 1}, \"118\": {\"118\": 8, \"119\": 1, \"2\": 1, \"69\": 2}, \"41\": {\"41\": 6, \"86\": 1, \"110\": 1, \"55\": 2, \"106\": 1, \"31\": 1}, \"49\": {\"40\": 1, \"89\": 1, \"49\": 3, \"35\": 1, \"32\": 2, \"93\": 1, \"84\": 1, \"127\": 1, \"126\": 1}, \"14\": {\"14\": 9, \"43\": 1, \"104\": 2}, \"46\": {\"33\": 1, \"40\": 1, \"73\": 2, \"58\": 1, \"54\": 1, \"125\": 2, \"46\": 1, \"105\": 1, \"83\": 1, \"104\": 1}, \"33\": {\"33\": 11, \"116\": 1}, \"76\": {\"76\": 6, \"122\": 2, \"64\": 1, \"61\": 1, \"114\": 1, \"115\": 1}, \"125\": {\"125\": 10, \"75\": 1, \"12\": 1}, \"86\": {\"40\": 1, \"86\": 2, \"114\": 1, \"103\": 1, \"54\": 2, \"4\": 2, \"98\": 1}, \"66\": {\"66\": 5, \"11\": 2, \"61\": 2, \"90\": 1, \"82\": 1, \"15\": 1}, \"5\": {\"5\": 8, \"42\": 1, \"101\": 1, \"80\": 1, \"31\": 1}, \"117\": {\"117\": 12}, \"75\": {\"75\": 12}, \"61\": {\"61\": 11, \"109\": 1}, \"50\": {\"50\": 8, \"20\": 2, \"11\": 2}, \"67\": {\"61\": 1, \"67\": 6, \"11\": 1, \"81\": 1, \"62\": 1}, \"18\": {\"18\": 12}, \"98\": {\"98\": 6, \"93\": 2, \"44\": 2, \"108\": 1, \"86\": 1}, \"55\": {\"55\": 9, \"107\": 1}, \"32\": {\"58\": 1, \"46\": 1, \"32\": 5, \"97\": 1, \"27\": 1, \"85\": 2, \"75\": 1}, \"120\": {\"120\": 11, \"38\": 1}, \"97\": {\"46\": 2, \"34\": 1, \"97\": 3, \"32\": 4, \"85\": 1, \"91\": 1}, \"126\": {\"104\": 1, \"76\": 1, \"126\": 4, \"122\": 1, \"31\": 1, \"54\": 1, \"128\": 1, \"43\": 2}, \"45\": {\"126\": 1, \"50\": 1, \"120\": 1, \"115\": 1, \"20\": 1, \"45\": 4, \"67\": 1, \"79\": 2}, \"78\": {\"115\": 2, \"43\": 2, \"80\": 1, \"113\": 1, \"79\": 1, \"22\": 1, \"78\": 2}, \"100\": {\"100\": 9, \"126\": 1, \"23\": 2}, \"107\": {\"70\": 1, \"107\": 8, \"93\": 1, \"108\": 1, \"41\": 1}, \"93\": {\"93\": 2, \"107\": 3, \"44\": 1, \"14\": 1, \"64\": 2, \"105\": 1, \"55\": 2}, \"77\": {\"77\": 11, \"86\": 1}, \"63\": {\"63\": 10, \"117\": 1, \"123\": 1}, \"112\": {\"112\": 12}, \"113\": {\"113\": 12}, \"103\": {\"103\": 6, \"77\": 1, \"47\": 2, \"83\": 1}, \"71\": {\"71\": 7, \"37\": 1, \"36\": 1, \"112\": 1, \"30\": 1, \"126\": 1}, \"30\": {\"85\": 1, \"92\": 1, \"30\": 3, \"59\": 1, \"52\": 1, \"27\": 1, \"12\": 1, \"36\": 1, \"4\": 1, \"126\": 1}, \"90\": {\"90\": 7, \"82\": 1, \"99\": 2, \"66\": 2}, \"37\": {\"92\": 1, \"71\": 1, \"37\": 7, \"36\": 1, \"111\": 1, \"94\": 1}, \"60\": {\"118\": 2, \"64\": 1, \"49\": 1, \"60\": 2, \"84\": 1, \"117\": 1, \"81\": 1, \"50\": 1, \"104\": 2}, \"15\": {\"15\": 5, \"37\": 3, \"94\": 1, \"111\": 1, \"112\": 1, \"56\": 1}, \"39\": {\"117\": 1, \"2\": 1, \"39\": 9, \"118\": 1}, \"72\": {\"72\": 10, \"35\": 1, \"105\": 1}, \"54\": {\"60\": 2, \"28\": 1, \"54\": 8, \"74\": 1}, \"35\": {\"86\": 1, \"72\": 2, \"35\": 2, \"47\": 1, \"108\": 2, \"17\": 1, \"107\": 1, \"48\": 1, \"44\": 1}, \"2\": {\"96\": 1, \"117\": 1, \"121\": 2, \"2\": 5, \"123\": 1, \"26\": 2}, \"94\": {\"6\": 2, \"94\": 5, \"75\": 3, \"30\": 2}, \"42\": {\"25\": 2, \"74\": 1, \"87\": 1, \"100\": 2, \"105\": 1, \"69\": 1, \"28\": 1, \"42\": 1, \"33\": 1, \"8\": 1}, \"81\": {\"81\": 12}, \"8\": {\"8\": 11, \"29\": 1}, \"87\": {\"87\": 5, \"114\": 1, \"42\": 1, \"29\": 2, \"28\": 1, \"14\": 1, \"115\": 1}, \"6\": {\"53\": 2, \"6\": 4, \"56\": 2, \"127\": 1, \"75\": 1, \"27\": 1, \"111\": 1}, \"36\": {\"6\": 2, \"71\": 2, \"36\": 5, \"37\": 1, \"15\": 1, \"94\": 1}, \"91\": {\"49\": 1, \"72\": 1, \"91\": 5, \"106\": 1, \"107\": 1, \"35\": 1, \"0\": 2}, \"56\": {\"6\": 1, \"56\": 9, \"75\": 1, \"53\": 1}, \"80\": {\"80\": 7, \"128\": 3, \"112\": 1, \"45\": 1}, \"124\": {\"124\": 6, \"105\": 1, \"114\": 1, \"104\": 2}, \"44\": {\"110\": 1, \"44\": 4, \"5\": 1, \"101\": 1, \"52\": 1, \"0\": 1, \"74\": 1, \"48\": 1, \"108\": 1}, \"13\": {\"13\": 7, \"26\": 1, \"123\": 1, \"95\": 3}, \"10\": {\"58\": 4, \"10\": 4, \"21\": 1, \"29\": 1, \"55\": 1, \"34\": 1}, \"59\": {\"59\": 9, \"30\": 1, \"123\": 2}, \"95\": {\"16\": 1, \"95\": 9, \"117\": 1, \"13\": 1}, \"105\": {\"105\": 4, \"42\": 2, \"15\": 1, \"40\": 1, \"73\": 2, \"19\": 2}, \"101\": {\"101\": 6, \"47\": 2, \"106\": 1, \"4\": 2, \"93\": 1}, \"20\": {\"20\": 11, \"25\": 1}, \"48\": {\"28\": 1, \"35\": 1, \"79\": 1, \"98\": 1, \"93\": 1, \"24\": 1, \"34\": 1, \"74\": 1, \"46\": 1, \"17\": 1, \"123\": 1, \"44\": 1}, \"106\": {\"35\": 1, \"47\": 2, \"103\": 1, \"98\": 1, \"91\": 1, \"106\": 3, \"41\": 1, \"17\": 1, \"7\": 1}, \"51\": {\"51\": 7, \"125\": 1, \"88\": 1, \"59\": 1, \"58\": 1, \"56\": 1}, \"21\": {\"48\": 1, \"96\": 1, \"117\": 1, \"29\": 1, \"51\": 1, \"69\": 1, \"56\": 1, \"7\": 1, \"19\": 1, \"100\": 1, \"54\": 1, \"106\": 1}, \"123\": {\"123\": 11, \"63\": 1}, \"121\": {\"121\": 11, \"26\": 1}, \"38\": {\"38\": 10, \"8\": 2}, \"62\": {\"62\": 10, \"82\": 1, \"11\": 1}, \"29\": {\"29\": 12}, \"82\": {\"90\": 3, \"82\": 9}, \"116\": {\"116\": 9, \"2\": 2, \"11\": 1}, \"12\": {\"125\": 5, \"111\": 1, \"12\": 2}}, \"W_A_2\": {\"91\": {\"10\": 1, \"86\": 1, \"37\": 1, \"0\": 1, \"41\": 1, \"91\": 1, \"7\": 2, \"124\": 1, \"79\": 1, \"128\": 2}, \"12\": {\"10\": 1, \"86\": 1, \"29\": 1, \"110\": 1, \"12\": 2, \"109\": 1, \"54\": 2, \"98\": 2, \"53\": 1}, \"101\": {\"101\": 8, \"0\": 1, \"68\": 1}, \"121\": {\"117\": 4, \"121\": 6, \"72\": 1, \"113\": 1}, \"118\": {\"88\": 1, \"118\": 4, \"87\": 1, \"83\": 2, \"84\": 1, \"90\": 1, \"100\": 1, \"46\": 1}, \"10\": {\"110\": 5, \"10\": 4, \"19\": 1, \"112\": 2}, \"117\": {\"117\": 12}, \"110\": {\"110\": 9, \"97\": 1, \"22\": 1, \"37\": 1}, \"97\": {\"106\": 1, \"88\": 1, \"125\": 1, \"97\": 6, \"6\": 1, \"30\": 1, \"63\": 1}, \"28\": {\"121\": 1, \"28\": 5, \"67\": 1, \"50\": 1, \"97\": 1, \"73\": 1, \"70\": 1, \"25\": 1}, \"88\": {\"121\": 1, \"88\": 2, \"18\": 2, \"109\": 1, \"89\": 2, \"57\": 1, \"80\": 1, \"118\": 1, \"31\": 1}, \"17\": {\"86\": 2, \"105\": 2, \"129\": 2, \"102\": 1, \"32\": 1, \"17\": 1, \"8\": 3}, \"126\": {\"126\": 5, \"119\": 1, \"46\": 3, \"43\": 1, \"38\": 1, \"44\": 1}, \"33\": {\"33\": 10, \"60\": 2}, \"86\": {\"86\": 10, \"8\": 1, \"105\": 1}, \"106\": {\"106\": 8, \"125\": 1, \"103\": 1, \"30\": 2}, \"54\": {\"11\": 2, \"112\": 1, \"54\": 8, \"103\": 1}, \"125\": {\"125\": 9, \"97\": 1, \"77\": 1, \"101\": 1}, \"83\": {\"83\": 8, \"70\": 1, \"61\": 2, \"84\": 1}, \"98\": {\"98\": 4, \"11\": 1, \"52\": 2, \"37\": 2, \"0\": 1, \"68\": 1, \"54\": 1}, \"11\": {\"32\": 1, \"11\": 6, \"124\": 1, \"49\": 1, \"104\": 1, \"117\": 1, \"40\": 1}, \"32\": {\"32\": 6, \"66\": 1, \"47\": 1, \"50\": 2, \"123\": 2}, \"42\": {\"32\": 1, \"42\": 1, \"44\": 4, \"23\": 1, \"43\": 1, \"70\": 1, \"38\": 1, \"105\": 1, \"115\": 1}, \"103\": {\"103\": 7, \"98\": 1, \"11\": 1, \"41\": 1, \"56\": 2}, \"87\": {\"83\": 1, \"13\": 1, \"84\": 1, \"88\": 2, \"87\": 4, \"48\": 1, \"90\": 2}, \"61\": {\"118\": 1, \"32\": 1, \"61\": 6, \"129\": 1, \"41\": 1, \"105\": 2}, \"13\": {\"13\": 7, \"16\": 1, \"116\": 1, \"26\": 1, \"72\": 1, \"57\": 1}, \"4\": {\"32\": 4, \"4\": 6, \"108\": 1, \"98\": 1}, \"15\": {\"15\": 6, \"97\": 1, \"75\": 1, \"58\": 1, \"27\": 1}, \"120\": {\"120\": 12}, \"80\": {\"80\": 11, \"46\": 1}, \"72\": {\"72\": 8, \"13\": 1, \"92\": 1}, \"64\": {\"64\": 10, \"47\": 1, \"66\": 1}, \"81\": {\"72\": 1, \"81\": 11}, \"102\": {\"102\": 10, \"90\": 1, \"31\": 1}, \"76\": {\"64\": 1, \"76\": 9, \"80\": 1, \"45\": 1}, \"49\": {\"52\": 1, \"129\": 1, \"114\": 1, \"68\": 1, \"41\": 1, \"49\": 1, \"12\": 1, \"104\": 1, \"95\": 1, \"21\": 1}, \"129\": {\"110\": 4, \"107\": 2, \"129\": 3, \"85\": 1, \"61\": 2}, \"89\": {\"89\": 7, \"116\": 2, \"70\": 1, \"31\": 1, \"82\": 1}, \"52\": {\"110\": 2, \"52\": 8, \"42\": 2}, \"35\": {\"35\": 8, \"79\": 1, \"101\": 2, \"106\": 1}, \"53\": {\"53\": 2, \"110\": 2, \"37\": 1, \"79\": 1, \"104\": 3, \"105\": 1, \"33\": 1, \"58\": 1}, \"112\": {\"54\": 2, \"105\": 1, \"43\": 1, \"91\": 1, \"11\": 1, \"34\": 1, \"129\": 1, \"37\": 2, \"52\": 1, \"112\": 1}, \"105\": {\"105\": 6, \"19\": 1, \"122\": 1, \"115\": 3, \"40\": 1}, \"100\": {\"100\": 8, \"69\": 1, \"96\": 2, \"63\": 1}, \"9\": {\"9\": 12}, \"82\": {\"82\": 10, \"126\": 1, \"1\": 1}, \"51\": {\"51\": 8, \"125\": 3, \"77\": 1}, \"21\": {\"69\": 2, \"21\": 6, \"117\": 1, \"65\": 1, \"118\": 2}, \"92\": {\"82\": 2, \"118\": 2, \"55\": 1, \"92\": 4, \"85\": 1, \"33\": 2}, \"69\": {\"69\": 10, \"67\": 1, \"90\": 1}, \"77\": {\"77\": 12}, \"50\": {\"50\": 8, \"82\": 1, \"14\": 1, \"129\": 2}, \"36\": {\"36\": 5, \"35\": 1, \"111\": 1, \"68\": 1, \"9\": 2, \"75\": 2}, \"16\": {\"16\": 8, \"88\": 1, \"20\": 1, \"116\": 1, \"26\": 1}, \"8\": {\"18\": 1, \"8\": 9, \"86\": 1, \"120\": 1}, \"127\": {\"103\": 2, \"59\": 2, \"7\": 2, \"127\": 4, \"79\": 2}, \"46\": {\"46\": 7, \"80\": 1, \"126\": 1, \"73\": 1}, \"84\": {\"82\": 1, \"46\": 1, \"84\": 6, \"83\": 2, \"38\": 1, \"31\": 1}, \"18\": {\"18\": 12}, \"123\": {\"123\": 7, \"50\": 2, \"19\": 1}, \"56\": {\"66\": 1, \"14\": 1, \"108\": 1, \"56\": 2, \"129\": 2, \"123\": 1, \"52\": 1, \"107\": 1, \"15\": 1, \"32\": 1}, \"26\": {\"26\": 8, \"109\": 1, \"18\": 1, \"81\": 2}, \"14\": {\"111\": 1, \"14\": 5, \"107\": 2, \"129\": 2, \"97\": 1, \"40\": 1}, \"109\": {\"109\": 5, \"88\": 1, \"67\": 1, \"102\": 1, \"69\": 1, \"96\": 1, \"100\": 2}, \"66\": {\"66\": 10, \"47\": 1, \"64\": 1}, \"24\": {\"71\": 1, \"66\": 1, \"75\": 1, \"110\": 1, \"5\": 1, \"106\": 1, \"9\": 1, \"67\": 1, \"95\": 1, \"124\": 1, \"22\": 2}, \"71\": {\"65\": 1, \"71\": 3, \"112\": 1, \"43\": 1, \"95\": 2, \"105\": 2, \"122\": 1, \"60\": 1}, \"65\": {\"65\": 10, \"75\": 1, \"51\": 1}, \"75\": {\"75\": 8, \"25\": 1, \"15\": 1, \"6\": 1, \"21\": 1}, \"111\": {\"111\": 8, \"101\": 1, \"0\": 1, \"127\": 1, \"35\": 1}, \"30\": {\"30\": 2, \"51\": 3, \"127\": 1, \"71\": 2, \"106\": 2, \"57\": 1, \"128\": 1}, \"85\": {\"85\": 8, \"1\": 1, \"115\": 2, \"19\": 1}, \"113\": {\"113\": 5, \"118\": 2, \"21\": 1, \"111\": 1, \"121\": 1}, \"45\": {\"45\": 8, \"76\": 3, \"92\": 1}, \"29\": {\"29\": 8, \"128\": 1, \"59\": 1, \"12\": 1, \"21\": 1}, \"20\": {\"20\": 10, \"90\": 1, \"67\": 1}, \"25\": {\"25\": 10, \"75\": 1, \"97\": 1}, \"0\": {\"68\": 1, \"4\": 2, \"111\": 1, \"0\": 4, \"11\": 1, \"54\": 1, \"41\": 1, \"79\": 1}, \"68\": {\"68\": 12}, \"119\": {\"119\": 12}, \"90\": {\"90\": 7, \"102\": 3, \"119\": 1, \"31\": 1}, \"38\": {\"38\": 10, \"1\": 1, \"60\": 1}, \"99\": {\"81\": 4, \"99\": 8}, \"1\": {\"1\": 8, \"70\": 3, \"61\": 1}, \"67\": {\"1\": 1, \"90\": 1, \"67\": 8, \"51\": 1, \"75\": 1}, \"63\": {\"63\": 12}, \"34\": {\"34\": 5, \"86\": 2, \"79\": 1, \"37\": 1, \"10\": 1, \"129\": 1, \"124\": 1}, \"108\": {\"4\": 1, \"56\": 1, \"108\": 5, \"1\": 1, \"104\": 3, \"33\": 1}, \"40\": {\"28\": 2, \"53\": 1, \"40\": 6, \"1\": 1, \"61\": 1, \"5\": 1}, \"47\": {\"37\": 2, \"59\": 1, \"47\": 7, \"129\": 2}, \"37\": {\"37\": 11, \"14\": 1}, \"78\": {\"101\": 2, \"96\": 1, \"3\": 1, \"38\": 1, \"73\": 1, \"48\": 1, \"50\": 1, \"102\": 1, \"67\": 1, \"100\": 1, \"22\": 1}, \"96\": {\"96\": 8, \"90\": 1, \"82\": 2, \"109\": 1}, \"43\": {\"43\": 3, \"91\": 1, \"42\": 1, \"67\": 2, \"44\": 1, \"62\": 1, \"70\": 1, \"73\": 2}, \"5\": {\"5\": 6, \"22\": 2, \"107\": 1, \"122\": 1}, \"124\": {\"124\": 10, \"95\": 1, \"104\": 1}, \"44\": {\"44\": 7, \"43\": 1, \"38\": 2, \"22\": 1, \"70\": 1}, \"41\": {\"41\": 6, \"0\": 1, \"127\": 2, \"12\": 1, \"65\": 1, \"59\": 1}, \"116\": {\"116\": 7, \"16\": 1, \"84\": 1, \"33\": 3}, \"19\": {\"43\": 2, \"19\": 8, \"47\": 2}, \"115\": {\"78\": 1, \"32\": 1, \"22\": 1, \"95\": 1, \"85\": 2, \"129\": 1, \"110\": 1, \"115\": 1, \"40\": 1, \"105\": 1, \"53\": 1}, \"95\": {\"95\": 4, \"11\": 1, \"81\": 1, \"122\": 1, \"22\": 1, \"124\": 1, \"61\": 1, \"19\": 2}, \"3\": {\"11\": 2, \"22\": 1, \"122\": 1, \"107\": 1, \"3\": 3, \"44\": 1, \"56\": 1}, \"59\": {\"127\": 1, \"30\": 1, \"59\": 4, \"3\": 1, \"128\": 3, \"98\": 1, \"91\": 1}, \"55\": {\"19\": 1, \"47\": 3, \"55\": 7, \"70\": 1}, \"70\": {\"38\": 2, \"48\": 1, \"60\": 1, \"1\": 2, \"89\": 1, \"109\": 1, \"19\": 1, \"70\": 1, \"33\": 2}, \"6\": {\"77\": 1, \"6\": 7, \"25\": 1, \"41\": 1, \"24\": 1, \"94\": 1}, \"2\": {\"2\": 10, \"81\": 1, \"120\": 1}, \"48\": {\"48\": 8, \"81\": 1, \"93\": 1, \"31\": 1, \"13\": 1}, \"23\": {\"117\": 1, \"108\": 1, \"107\": 1, \"39\": 1, \"121\": 1, \"95\": 1, \"65\": 1, \"52\": 1, \"26\": 1, \"23\": 3}, \"7\": {\"7\": 7, \"29\": 3, \"127\": 2}, \"122\": {\"122\": 3, \"37\": 2, \"124\": 1, \"3\": 1, \"67\": 2, \"107\": 2, \"32\": 1}, \"57\": {\"57\": 7, \"117\": 1, \"72\": 1, \"13\": 1, \"18\": 1, \"92\": 1}, \"39\": {\"39\": 4, \"31\": 1, \"18\": 1, \"69\": 1, \"57\": 1, \"88\": 2}, \"79\": {\"79\": 6, \"35\": 1, \"7\": 1, \"56\": 2, \"34\": 1, \"101\": 1}, \"27\": {\"27\": 6, \"58\": 2, \"68\": 1, \"122\": 1}, \"74\": {\"74\": 7, \"79\": 1, \"104\": 1, \"4\": 1, \"120\": 1, \"51\": 1}, \"73\": {\"73\": 8, \"22\": 2, \"14\": 1, \"46\": 1}, \"62\": {\"62\": 11, \"115\": 1}, \"107\": {\"107\": 7, \"129\": 1, \"22\": 1, \"104\": 1, \"85\": 1, \"37\": 1}, \"128\": {\"53\": 2, \"40\": 2, \"59\": 1, \"128\": 3, \"22\": 1, \"115\": 1, \"33\": 2}, \"60\": {\"40\": 4, \"83\": 2, \"1\": 1, \"60\": 3, \"38\": 1, \"44\": 1}, \"114\": {\"40\": 2, \"114\": 3, \"49\": 1, \"124\": 2, \"4\": 1, \"50\": 1, \"74\": 1, \"5\": 1}, \"22\": {\"22\": 9, \"40\": 1, \"73\": 1, \"50\": 1}, \"93\": {\"93\": 10, \"72\": 1, \"109\": 1}, \"94\": {\"94\": 5, \"59\": 2, \"97\": 2, \"6\": 1, \"20\": 1, \"101\": 1}, \"31\": {\"93\": 2, \"31\": 7, \"84\": 1}, \"104\": {\"104\": 12}, \"58\": {\"58\": 11, \"94\": 1}}, \"C_A_2\": {\"14\": {\"47\": 2, \"14\": 5, \"24\": 1, \"28\": 2, \"10\": 2}, \"22\": {\"22\": 8, \"38\": 2, \"0\": 1, \"28\": 1}, \"9\": {\"9\": 10, \"6\": 2}, \"47\": {\"47\": 8, \"14\": 1, \"57\": 1, \"42\": 1, \"5\": 1}, \"13\": {\"13\": 9, \"22\": 1, \"0\": 1, \"43\": 1}, \"8\": {\"8\": 9, \"27\": 2, \"53\": 1}, \"7\": {\"47\": 2, \"7\": 8, \"46\": 1, \"28\": 1}, \"49\": {\"49\": 12}, \"20\": {\"20\": 10, \"51\": 1, \"4\": 1}, \"16\": {\"47\": 1, \"16\": 6, \"39\": 1, \"5\": 1, \"23\": 1, \"52\": 1, \"31\": 1}, \"34\": {\"34\": 12}, \"56\": {\"56\": 6, \"13\": 2, \"43\": 2, \"22\": 1, \"10\": 1}, \"38\": {\"38\": 5, \"22\": 1, \"47\": 1, \"15\": 1, \"28\": 2}, \"4\": {\"4\": 12}, \"43\": {\"14\": 2, \"13\": 1, \"56\": 1, \"43\": 5, \"22\": 1}, \"26\": {\"26\": 9, \"51\": 1}, \"35\": {\"35\": 12}, \"31\": {\"31\": 11, \"0\": 1}, \"1\": {\"1\": 9, \"42\": 1, \"15\": 2}, \"39\": {\"39\": 9, \"0\": 3}, \"5\": {\"39\": 3, \"5\": 8, \"47\": 1}, \"24\": {\"24\": 11, \"14\": 1}, \"54\": {\"54\": 10}, \"23\": {\"15\": 2, \"23\": 8, \"2\": 2}, \"51\": {\"20\": 2, \"9\": 1, \"51\": 8, \"35\": 1}, \"27\": {\"27\": 8, \"8\": 2}, \"15\": {\"15\": 10, \"1\": 2}, \"0\": {\"0\": 9, \"28\": 2, \"5\": 1}, \"19\": {\"19\": 9, \"40\": 1}, \"18\": {\"18\": 5, \"30\": 2, \"2\": 1}, \"30\": {\"2\": 1, \"30\": 8, \"23\": 1, \"18\": 2}, \"55\": {\"55\": 9, \"1\": 1}, \"57\": {\"16\": 3, \"57\": 7, \"14\": 1, \"5\": 1}, \"2\": {\"18\": 1, \"2\": 11}, \"12\": {\"12\": 8}, \"41\": {\"41\": 12}, \"42\": {\"42\": 10, \"7\": 1, \"15\": 1}, \"48\": {\"48\": 10, \"41\": 2}, \"37\": {\"37\": 12}, \"6\": {\"9\": 2, \"6\": 5, \"50\": 1, \"19\": 1, \"35\": 1}, \"11\": {\"11\": 7, \"15\": 2, \"1\": 1}, \"45\": {\"45\": 8}, \"21\": {\"9\": 1, \"21\": 8, \"54\": 1, \"19\": 1, \"17\": 1}, \"46\": {\"46\": 6, \"2\": 2, \"42\": 1, \"7\": 1}, \"25\": {\"25\": 10, \"36\": 1, \"50\": 1}, \"36\": {\"36\": 10}, \"53\": {\"53\": 10, \"35\": 1, \"36\": 1}, \"28\": {\"28\": 8, \"0\": 3, \"39\": 1}, \"40\": {\"40\": 10}, \"33\": {\"33\": 10}, \"44\": {\"44\": 10}, \"3\": {\"48\": 1, \"44\": 3, \"3\": 6, \"7\": 1, \"36\": 1}, \"17\": {\"17\": 12}, \"32\": {\"32\": 7, \"17\": 3}, \"10\": {\"10\": 9, \"56\": 1}, \"52\": {\"52\": 6, \"46\": 2, \"15\": 1, \"29\": 1}, \"50\": {\"3\": 1, \"50\": 5, \"25\": 1, \"40\": 1}, \"29\": {\"29\": 5, \"34\": 1}}}, \"per_domain_accuracy\": {\"ORACLE.run1_14\": {\"accuracy\": 0.8955729166666667, \"source?\": true}, \"ORACLE.run1_20\": {\"accuracy\": 0.8424479166666666, \"source?\": true}, \"ORACLE.run1_38\": {\"accuracy\": 0.8953125, \"source?\": true}, \"ORACLE.run1_8\": {\"accuracy\": 0.825, \"source?\": true}, \"ORACLE.run1_50\": {\"accuracy\": 0.8958333333333334, \"source?\": true}, \"ORACLE.run1_32\": {\"accuracy\": 0.88125, \"source?\": true}, \"ORACLE.run1_26\": {\"accuracy\": 0.70859375, \"source?\": true}, \"ORACLE.run1_44\": {\"accuracy\": 0.77109375, \"source?\": true}, \"C_A_3\": {\"accuracy\": 0.778125, \"source?\": false}, \"C_A_4\": {\"accuracy\": 0.765625, \"source?\": false}, \"W_A_3\": {\"accuracy\": 0.5846354166666666, \"source?\": false}, \"C_A_5\": {\"accuracy\": 0.7890625, \"source?\": false}, \"C_A_1\": {\"accuracy\": 0.79375, \"source?\": false}, \"W_A_4\": {\"accuracy\": 0.552734375, \"source?\": false}, \"W_A_1\": {\"accuracy\": 0.5598958333333334, \"source?\": false}, \"W_A_2\": {\"accuracy\": 0.5670572916666666, \"source?\": false}, \"C_A_2\": {\"accuracy\": 0.78125, \"source?\": false}}}, \"history\": {\"epoch_indices\": [1, 2, 3, 4, 5, 6, 7, 8, 9], \"train_label_loss\": [0.7889246857414643, 1.3913389663954843, 0.5331427043253955, 0.453206079414702, 0.41811748803870397, 0.37920632246241437, 0.34898296095530634, 0.32626034958541694, 0.311644133352924], \"source_val_label_loss\": [151.9512176513672, 0.6129381060600281, 0.5577613711357117, 0.4989992678165436, 0.45372143387794495, 0.3790363371372223, 0.39830777049064636, 0.3568015992641449, 0.33962592482566833], \"target_val_label_loss\": [4199.21923828125, 451.0784912109375, 584.4811401367188, 549.6724853515625, 382.27178955078125, 431.4617919921875, 640.667724609375, 607.4141845703125, 738.93798828125], \"source_val_acc_label\": [0.6792643229166667, 0.7827799479166667, 0.7995768229166667, 0.8254231770833333, 0.8393880208333333, 0.872265625, 0.8588541666666667, 0.8741536458333333, 0.87919921875], \"target_val_acc_label\": [0.7224957191780822, 0.6658818493150684, 0.6361301369863014, 0.6602097602739726, 0.6398758561643836, 0.6283176369863014, 0.6242508561643836, 0.6150470890410958, 0.624464897260274]}, \"dataset_metrics\": {\"source\": {\"train\": {\"n_unique_x\": 179200, \"n_unique_y\": 16, \"n_batch/episode\": 6720}, \"val\": {\"n_unique_x\": 38400, \"n_unique_y\": 16, \"n_batch/episode\": 960}, \"test\": {\"n_unique_x\": 38400, \"n_unique_y\": 16, \"n_batch/episode\": 960}}, \"target\": {\"train\": {\"n_unique_x\": 56700, \"n_unique_y\": 130, \"n_batch/episode\": 2080}, \"val\": {\"n_unique_x\": 12132, \"n_unique_y\": 130, \"n_batch/episode\": 292}, \"test\": {\"n_unique_x\": 12132, \"n_unique_y\": 130, \"n_batch/episode\": 292}}}}'"
      ]
     },
     "execution_count": 29,
     "metadata": {},
     "output_type": "execute_result"
    }
   ],
   "source": [
    "json.dumps(experiment)"
   ]
  }
 ],
 "metadata": {
  "celltoolbar": "Tags",
  "kernelspec": {
   "display_name": "Python 3 (ipykernel)",
   "language": "python",
   "name": "python3"
  },
  "language_info": {
   "codemirror_mode": {
    "name": "ipython",
    "version": 3
   },
   "file_extension": ".py",
   "mimetype": "text/x-python",
   "name": "python",
   "nbconvert_exporter": "python",
   "pygments_lexer": "ipython3",
   "version": "3.8.10"
  },
  "papermill": {
   "default_parameters": {},
   "duration": 1668.905721,
   "end_time": "2022-03-17T02:14:24.344679",
   "environment_variables": {},
   "exception": null,
   "input_path": "/mnt/wd500GB/CSC500/csc500-main/csc500-notebooks/templates/tl_ptn_template.ipynb",
   "output_path": "trial.ipynb",
   "parameters": {
    "parameters": {
     "BEST_MODEL_PATH": "./best_model.pth",
     "NUM_LOGS_PER_EPOCH": 10,
     "criteria_for_best": "target_loss",
     "dataset_seed": 1337,
     "datasets": [
      {
       "domain_prefix": "C_A_",
       "domains": [
        1,
        2,
        3,
        4,
        5
       ],
       "episode_transforms": [],
       "labels": [
        "1-10.",
        "1-11.",
        "1-15.",
        "1-16.",
        "1-17.",
        "1-18.",
        "1-19.",
        "10-4.",
        "10-7.",
        "11-1.",
        "11-14.",
        "11-17.",
        "11-20.",
        "11-7.",
        "13-20.",
        "13-8.",
        "14-10.",
        "14-11.",
        "14-14.",
        "14-7.",
        "15-1.",
        "15-20.",
        "16-1.",
        "16-16.",
        "17-10.",
        "17-11.",
        "17-2.",
        "19-1.",
        "19-16.",
        "19-19.",
        "19-20.",
        "19-3.",
        "2-10.",
        "2-11.",
        "2-17.",
        "2-18.",
        "2-20.",
        "2-3.",
        "2-4.",
        "2-5.",
        "2-6.",
        "2-7.",
        "2-8.",
        "3-13.",
        "3-18.",
        "3-3.",
        "4-1.",
        "4-10.",
        "4-11.",
        "4-19.",
        "5-5.",
        "6-15.",
        "7-10.",
        "7-14.",
        "8-18.",
        "8-20.",
        "8-3.",
        "8-8."
       ],
       "num_examples_per_domain_per_label": 100,
       "pickle_path": "/mnt/wd500GB/CSC500/csc500-main/datasets/cores.stratified_ds.2022A.pkl",
       "source_or_target_dataset": "target",
       "x_transforms": [
        "unit_power"
       ]
      },
      {
       "domain_prefix": "W_A_",
       "domains": [
        1,
        2,
        3,
        4
       ],
       "episode_transforms": [],
       "labels": [
        "1-10",
        "1-12",
        "1-14",
        "1-16",
        "1-18",
        "1-19",
        "1-8",
        "10-11",
        "10-17",
        "10-4",
        "10-7",
        "11-1",
        "11-10",
        "11-19",
        "11-20",
        "11-4",
        "11-7",
        "12-19",
        "12-20",
        "12-7",
        "13-14",
        "13-18",
        "13-19",
        "13-20",
        "13-3",
        "13-7",
        "14-10",
        "14-11",
        "14-12",
        "14-13",
        "14-14",
        "14-19",
        "14-20",
        "14-7",
        "14-8",
        "14-9",
        "15-1",
        "15-19",
        "15-6",
        "16-1",
        "16-16",
        "16-19",
        "16-20",
        "17-10",
        "17-11",
        "18-1",
        "18-10",
        "18-11",
        "18-12",
        "18-13",
        "18-14",
        "18-15",
        "18-16",
        "18-17",
        "18-19",
        "18-2",
        "18-20",
        "18-4",
        "18-5",
        "18-7",
        "18-8",
        "18-9",
        "19-1",
        "19-10",
        "19-11",
        "19-12",
        "19-13",
        "19-14",
        "19-15",
        "19-19",
        "19-2",
        "19-20",
        "19-3",
        "19-4",
        "19-6",
        "19-7",
        "19-8",
        "19-9",
        "2-1",
        "2-13",
        "2-15",
        "2-3",
        "2-4",
        "2-5",
        "2-6",
        "2-7",
        "2-8",
        "20-1",
        "20-12",
        "20-14",
        "20-15",
        "20-16",
        "20-18",
        "20-19",
        "20-20",
        "20-3",
        "20-4",
        "20-5",
        "20-7",
        "20-8",
        "3-1",
        "3-13",
        "3-18",
        "3-2",
        "3-8",
        "4-1",
        "4-10",
        "4-11",
        "5-1",
        "5-5",
        "6-1",
        "6-15",
        "6-6",
        "7-10",
        "7-11",
        "7-12",
        "7-13",
        "7-14",
        "7-7",
        "7-8",
        "7-9",
        "8-1",
        "8-13",
        "8-14",
        "8-18",
        "8-20",
        "8-3",
        "8-8",
        "9-1",
        "9-7"
       ],
       "num_examples_per_domain_per_label": 100,
       "pickle_path": "/mnt/wd500GB/CSC500/csc500-main/datasets/wisig.node3-19.stratified_ds.2022A.pkl",
       "source_or_target_dataset": "target",
       "x_transforms": [
        "unit_power"
       ]
      },
      {
       "domain_prefix": "ORACLE.run1_",
       "domains": [
        32,
        38,
        8,
        44,
        14,
        50,
        20,
        26
       ],
       "episode_transforms": [],
       "labels": [
        "3123D52",
        "3123D65",
        "3123D79",
        "3123D80",
        "3123D54",
        "3123D70",
        "3123D7B",
        "3123D89",
        "3123D58",
        "3123D76",
        "3123D7D",
        "3123EFE",
        "3123D64",
        "3123D78",
        "3123D7E",
        "3124E4A"
       ],
       "num_examples_per_domain_per_label": 2000,
       "pickle_path": "/mnt/wd500GB/CSC500/csc500-main/datasets/oracle.Run1_framed_2000Examples_stratified_ds.2022A.pkl",
       "source_or_target_dataset": "source",
       "x_transforms": [
        "unit_power"
       ]
      }
     ],
     "device": "cuda",
     "experiment_name": "oracle.run1.framed -> cores+wisig",
     "lr": 0.001,
     "n_epoch": 50,
     "n_query": 2,
     "n_shot": 3,
     "n_way": 16,
     "patience": 3,
     "seed": 1337,
     "test_k_factor": 2,
     "torch_default_dtype": "torch.float32",
     "train_k_factor": 3,
     "val_k_factor": 2,
     "x_net": [
      {
       "class": "nnReshape",
       "kargs": {
        "shape": [
         -1,
         1,
         2,
         256
        ]
       }
      },
      {
       "class": "Conv2d",
       "kargs": {
        "bias": false,
        "in_channels": 1,
        "kernel_size": [
         1,
         7
        ],
        "out_channels": 256,
        "padding": [
         0,
         3
        ]
       }
      },
      {
       "class": "ReLU",
       "kargs": {
        "inplace": true
       }
      },
      {
       "class": "BatchNorm2d",
       "kargs": {
        "num_features": 256
       }
      },
      {
       "class": "Conv2d",
       "kargs": {
        "bias": true,
        "in_channels": 256,
        "kernel_size": [
         2,
         7
        ],
        "out_channels": 80,
        "padding": [
         0,
         3
        ]
       }
      },
      {
       "class": "ReLU",
       "kargs": {
        "inplace": true
       }
      },
      {
       "class": "BatchNorm2d",
       "kargs": {
        "num_features": 80
       }
      },
      {
       "class": "Flatten",
       "kargs": {}
      },
      {
       "class": "Linear",
       "kargs": {
        "in_features": 20480,
        "out_features": 256
       }
      },
      {
       "class": "ReLU",
       "kargs": {
        "inplace": true
       }
      },
      {
       "class": "BatchNorm1d",
       "kargs": {
        "num_features": 256
       }
      },
      {
       "class": "Linear",
       "kargs": {
        "in_features": 256,
        "out_features": 256
       }
      }
     ]
    }
   },
   "start_time": "2022-03-17T01:46:35.438958",
   "version": "2.3.4"
  }
 },
 "nbformat": 4,
 "nbformat_minor": 5
}