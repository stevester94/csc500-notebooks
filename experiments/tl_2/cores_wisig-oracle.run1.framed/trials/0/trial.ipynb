{
 "cells": [
  {
   "cell_type": "markdown",
   "id": "9fea5f46",
   "metadata": {
    "papermill": {
     "duration": 0.017728,
     "end_time": "2022-03-17T04:43:20.631944",
     "exception": false,
     "start_time": "2022-03-17T04:43:20.614216",
     "status": "completed"
    },
    "tags": []
   },
   "source": [
    "# Transfer Learning Template"
   ]
  },
  {
   "cell_type": "code",
   "execution_count": 1,
   "id": "0902182a",
   "metadata": {
    "execution": {
     "iopub.execute_input": "2022-03-17T04:43:20.671757Z",
     "iopub.status.busy": "2022-03-17T04:43:20.671373Z",
     "iopub.status.idle": "2022-03-17T04:43:21.566861Z",
     "shell.execute_reply": "2022-03-17T04:43:21.567082Z"
    },
    "papermill": {
     "duration": 0.922857,
     "end_time": "2022-03-17T04:43:21.567178",
     "exception": false,
     "start_time": "2022-03-17T04:43:20.644321",
     "status": "completed"
    },
    "tags": []
   },
   "outputs": [],
   "source": [
    "%load_ext autoreload\n",
    "%autoreload 2\n",
    "%matplotlib inline\n",
    "\n",
    "    \n",
    "import os, json, sys, time, random\n",
    "import numpy as np\n",
    "import torch\n",
    "from torch.optim import Adam\n",
    "from  easydict import EasyDict\n",
    "import matplotlib.pyplot as plt\n",
    "\n",
    "from steves_models.steves_ptn import Steves_Prototypical_Network\n",
    "\n",
    "from steves_utils.lazy_iterable_wrapper import Lazy_Iterable_Wrapper\n",
    "from steves_utils.iterable_aggregator import Iterable_Aggregator\n",
    "from steves_utils.ptn_train_eval_test_jig import  PTN_Train_Eval_Test_Jig\n",
    "from steves_utils.torch_sequential_builder import build_sequential\n",
    "from steves_utils.torch_utils import get_dataset_metrics, ptn_confusion_by_domain_over_dataloader\n",
    "from steves_utils.utils_v2 import (per_domain_accuracy_from_confusion, get_datasets_base_path)\n",
    "from steves_utils.PTN.utils import independent_accuracy_assesment\n",
    "\n",
    "from torch.utils.data import DataLoader\n",
    "\n",
    "from steves_utils.stratified_dataset.episodic_accessor import Episodic_Accessor_Factory\n",
    "\n",
    "from steves_utils.ptn_do_report import (\n",
    "    get_loss_curve,\n",
    "    get_results_table,\n",
    "    get_parameters_table,\n",
    "    get_domain_accuracies,\n",
    ")\n",
    "\n",
    "from steves_utils.transforms import get_chained_transform"
   ]
  },
  {
   "cell_type": "markdown",
   "id": "41c840b4",
   "metadata": {
    "papermill": {
     "duration": 0.012702,
     "end_time": "2022-03-17T04:43:21.592825",
     "exception": false,
     "start_time": "2022-03-17T04:43:21.580123",
     "status": "completed"
    },
    "tags": []
   },
   "source": [
    "# Allowed Parameters\n",
    "These are allowed parameters, not defaults\n",
    "Each of these values need to be present in the injected parameters (the notebook will raise an exception if they are not present)\n",
    "\n",
    "Papermill uses the cell tag \"parameters\" to inject the real parameters below this cell.\n",
    "Enable tags to see what I mean"
   ]
  },
  {
   "cell_type": "code",
   "execution_count": 2,
   "id": "fd44eb83",
   "metadata": {
    "execution": {
     "iopub.execute_input": "2022-03-17T04:43:21.620028Z",
     "iopub.status.busy": "2022-03-17T04:43:21.619765Z",
     "iopub.status.idle": "2022-03-17T04:43:21.630711Z",
     "shell.execute_reply": "2022-03-17T04:43:21.630932Z"
    },
    "papermill": {
     "duration": 0.025602,
     "end_time": "2022-03-17T04:43:21.630990",
     "exception": false,
     "start_time": "2022-03-17T04:43:21.605388",
     "status": "completed"
    },
    "tags": []
   },
   "outputs": [],
   "source": [
    "required_parameters = {\n",
    "    \"experiment_name\",\n",
    "    \"lr\",\n",
    "    \"device\",\n",
    "    \"seed\",\n",
    "    \"dataset_seed\",\n",
    "    \"n_shot\",\n",
    "    \"n_query\",\n",
    "    \"n_way\",\n",
    "    \"train_k_factor\",\n",
    "    \"val_k_factor\",\n",
    "    \"test_k_factor\",\n",
    "    \"n_epoch\",\n",
    "    \"patience\",\n",
    "    \"criteria_for_best\",\n",
    "    \"x_net\",\n",
    "    \"datasets\",\n",
    "    \"torch_default_dtype\",\n",
    "    \"NUM_LOGS_PER_EPOCH\",\n",
    "    \"BEST_MODEL_PATH\",\n",
    "}"
   ]
  },
  {
   "cell_type": "code",
   "execution_count": 3,
   "id": "fa3f0049",
   "metadata": {
    "execution": {
     "iopub.execute_input": "2022-03-17T04:43:21.664367Z",
     "iopub.status.busy": "2022-03-17T04:43:21.664057Z",
     "iopub.status.idle": "2022-03-17T04:43:21.676368Z",
     "shell.execute_reply": "2022-03-17T04:43:21.675971Z"
    },
    "papermill": {
     "duration": 0.030918,
     "end_time": "2022-03-17T04:43:21.676465",
     "exception": false,
     "start_time": "2022-03-17T04:43:21.645547",
     "status": "completed"
    },
    "tags": [
     "parameters"
    ]
   },
   "outputs": [],
   "source": [
    "from steves_utils.CORES.utils import (\n",
    "    ALL_NODES,\n",
    "    ALL_NODES_MINIMUM_1000_EXAMPLES,\n",
    "    ALL_DAYS\n",
    ")\n",
    "\n",
    "from steves_utils.ORACLE.utils_v2 import (\n",
    "    ALL_DISTANCES_FEET_NARROWED,\n",
    "    ALL_RUNS,\n",
    "    ALL_SERIAL_NUMBERS,\n",
    ")\n",
    "\n",
    "standalone_parameters = {}\n",
    "standalone_parameters[\"experiment_name\"] = \"STANDALONE PTN\"\n",
    "standalone_parameters[\"lr\"] = 0.001\n",
    "standalone_parameters[\"device\"] = \"cuda\"\n",
    "\n",
    "standalone_parameters[\"seed\"] = 1337\n",
    "standalone_parameters[\"dataset_seed\"] = 1337\n",
    "\n",
    "standalone_parameters[\"n_way\"] = 8\n",
    "standalone_parameters[\"n_shot\"] = 3\n",
    "standalone_parameters[\"n_query\"]  = 2\n",
    "standalone_parameters[\"train_k_factor\"] = 1\n",
    "standalone_parameters[\"val_k_factor\"] = 2\n",
    "standalone_parameters[\"test_k_factor\"] = 2\n",
    "\n",
    "\n",
    "standalone_parameters[\"n_epoch\"] = 50\n",
    "\n",
    "standalone_parameters[\"patience\"] = 10\n",
    "standalone_parameters[\"criteria_for_best\"] = \"source_loss\"\n",
    "\n",
    "standalone_parameters[\"datasets\"] = [\n",
    "    {\n",
    "        \"labels\": ALL_SERIAL_NUMBERS,\n",
    "        \"domains\": ALL_DISTANCES_FEET_NARROWED,\n",
    "        \"num_examples_per_domain_per_label\": 100,\n",
    "        \"pickle_path\": os.path.join(get_datasets_base_path(), \"oracle.Run1_framed_2000Examples_stratified_ds.2022A.pkl\"),\n",
    "        \"source_or_target_dataset\": \"source\",\n",
    "        \"x_transforms\": [\"unit_mag\", \"minus_two\"],\n",
    "        \"episode_transforms\": [],\n",
    "        \"domain_prefix\": \"ORACLE_\"\n",
    "    },\n",
    "    {\n",
    "        \"labels\": ALL_NODES,\n",
    "        \"domains\": ALL_DAYS,\n",
    "        \"num_examples_per_domain_per_label\": 100,\n",
    "        \"pickle_path\": os.path.join(get_datasets_base_path(), \"cores.stratified_ds.2022A.pkl\"),\n",
    "        \"source_or_target_dataset\": \"target\",\n",
    "        \"x_transforms\": [\"unit_power\", \"times_zero\"],\n",
    "        \"episode_transforms\": [],\n",
    "        \"domain_prefix\": \"CORES_\"\n",
    "    }   \n",
    "]\n",
    "\n",
    "standalone_parameters[\"torch_default_dtype\"] = \"torch.float32\" \n",
    "\n",
    "\n",
    "\n",
    "standalone_parameters[\"x_net\"] =     [\n",
    "    {\"class\": \"nnReshape\", \"kargs\": {\"shape\":[-1, 1, 2, 256]}},\n",
    "    {\"class\": \"Conv2d\", \"kargs\": { \"in_channels\":1, \"out_channels\":256, \"kernel_size\":(1,7), \"bias\":False, \"padding\":(0,3), },},\n",
    "    {\"class\": \"ReLU\", \"kargs\": {\"inplace\": True}},\n",
    "    {\"class\": \"BatchNorm2d\", \"kargs\": {\"num_features\":256}},\n",
    "\n",
    "    {\"class\": \"Conv2d\", \"kargs\": { \"in_channels\":256, \"out_channels\":80, \"kernel_size\":(2,7), \"bias\":True, \"padding\":(0,3), },},\n",
    "    {\"class\": \"ReLU\", \"kargs\": {\"inplace\": True}},\n",
    "    {\"class\": \"BatchNorm2d\", \"kargs\": {\"num_features\":80}},\n",
    "    {\"class\": \"Flatten\", \"kargs\": {}},\n",
    "\n",
    "    {\"class\": \"Linear\", \"kargs\": {\"in_features\": 80*256, \"out_features\": 256}}, # 80 units per IQ pair\n",
    "    {\"class\": \"ReLU\", \"kargs\": {\"inplace\": True}},\n",
    "    {\"class\": \"BatchNorm1d\", \"kargs\": {\"num_features\":256}},\n",
    "\n",
    "    {\"class\": \"Linear\", \"kargs\": {\"in_features\": 256, \"out_features\": 256}},\n",
    "]\n",
    "\n",
    "# Parameters relevant to results\n",
    "# These parameters will basically never need to change\n",
    "standalone_parameters[\"NUM_LOGS_PER_EPOCH\"] = 10\n",
    "standalone_parameters[\"BEST_MODEL_PATH\"] = \"./best_model.pth\"\n",
    "\n",
    "\n",
    "\n",
    "\n"
   ]
  },
  {
   "cell_type": "code",
   "execution_count": 4,
   "id": "f82e3589",
   "metadata": {
    "execution": {
     "iopub.execute_input": "2022-03-17T04:43:21.723102Z",
     "iopub.status.busy": "2022-03-17T04:43:21.722490Z",
     "iopub.status.idle": "2022-03-17T04:43:21.735533Z",
     "shell.execute_reply": "2022-03-17T04:43:21.735915Z"
    },
    "papermill": {
     "duration": 0.040211,
     "end_time": "2022-03-17T04:43:21.736028",
     "exception": false,
     "start_time": "2022-03-17T04:43:21.695817",
     "status": "completed"
    },
    "tags": [
     "injected-parameters"
    ]
   },
   "outputs": [],
   "source": [
    "# Parameters\n",
    "parameters = {\n",
    "    \"experiment_name\": \"cores+wisig -> oracle.run1.framed\",\n",
    "    \"device\": \"cuda\",\n",
    "    \"lr\": 0.001,\n",
    "    \"seed\": 1337,\n",
    "    \"dataset_seed\": 1337,\n",
    "    \"n_shot\": 3,\n",
    "    \"n_query\": 2,\n",
    "    \"train_k_factor\": 3,\n",
    "    \"val_k_factor\": 2,\n",
    "    \"test_k_factor\": 2,\n",
    "    \"torch_default_dtype\": \"torch.float32\",\n",
    "    \"n_epoch\": 50,\n",
    "    \"patience\": 3,\n",
    "    \"criteria_for_best\": \"target_loss\",\n",
    "    \"x_net\": [\n",
    "        {\"class\": \"nnReshape\", \"kargs\": {\"shape\": [-1, 1, 2, 256]}},\n",
    "        {\n",
    "            \"class\": \"Conv2d\",\n",
    "            \"kargs\": {\n",
    "                \"in_channels\": 1,\n",
    "                \"out_channels\": 256,\n",
    "                \"kernel_size\": [1, 7],\n",
    "                \"bias\": False,\n",
    "                \"padding\": [0, 3],\n",
    "            },\n",
    "        },\n",
    "        {\"class\": \"ReLU\", \"kargs\": {\"inplace\": True}},\n",
    "        {\"class\": \"BatchNorm2d\", \"kargs\": {\"num_features\": 256}},\n",
    "        {\n",
    "            \"class\": \"Conv2d\",\n",
    "            \"kargs\": {\n",
    "                \"in_channels\": 256,\n",
    "                \"out_channels\": 80,\n",
    "                \"kernel_size\": [2, 7],\n",
    "                \"bias\": True,\n",
    "                \"padding\": [0, 3],\n",
    "            },\n",
    "        },\n",
    "        {\"class\": \"ReLU\", \"kargs\": {\"inplace\": True}},\n",
    "        {\"class\": \"BatchNorm2d\", \"kargs\": {\"num_features\": 80}},\n",
    "        {\"class\": \"Flatten\", \"kargs\": {}},\n",
    "        {\"class\": \"Linear\", \"kargs\": {\"in_features\": 20480, \"out_features\": 256}},\n",
    "        {\"class\": \"ReLU\", \"kargs\": {\"inplace\": True}},\n",
    "        {\"class\": \"BatchNorm1d\", \"kargs\": {\"num_features\": 256}},\n",
    "        {\"class\": \"Linear\", \"kargs\": {\"in_features\": 256, \"out_features\": 256}},\n",
    "    ],\n",
    "    \"NUM_LOGS_PER_EPOCH\": 10,\n",
    "    \"BEST_MODEL_PATH\": \"./best_model.pth\",\n",
    "    \"n_way\": 16,\n",
    "    \"datasets\": [\n",
    "        {\n",
    "            \"labels\": [\n",
    "                \"1-10.\",\n",
    "                \"1-11.\",\n",
    "                \"1-15.\",\n",
    "                \"1-16.\",\n",
    "                \"1-17.\",\n",
    "                \"1-18.\",\n",
    "                \"1-19.\",\n",
    "                \"10-4.\",\n",
    "                \"10-7.\",\n",
    "                \"11-1.\",\n",
    "                \"11-14.\",\n",
    "                \"11-17.\",\n",
    "                \"11-20.\",\n",
    "                \"11-7.\",\n",
    "                \"13-20.\",\n",
    "                \"13-8.\",\n",
    "                \"14-10.\",\n",
    "                \"14-11.\",\n",
    "                \"14-14.\",\n",
    "                \"14-7.\",\n",
    "                \"15-1.\",\n",
    "                \"15-20.\",\n",
    "                \"16-1.\",\n",
    "                \"16-16.\",\n",
    "                \"17-10.\",\n",
    "                \"17-11.\",\n",
    "                \"17-2.\",\n",
    "                \"19-1.\",\n",
    "                \"19-16.\",\n",
    "                \"19-19.\",\n",
    "                \"19-20.\",\n",
    "                \"19-3.\",\n",
    "                \"2-10.\",\n",
    "                \"2-11.\",\n",
    "                \"2-17.\",\n",
    "                \"2-18.\",\n",
    "                \"2-20.\",\n",
    "                \"2-3.\",\n",
    "                \"2-4.\",\n",
    "                \"2-5.\",\n",
    "                \"2-6.\",\n",
    "                \"2-7.\",\n",
    "                \"2-8.\",\n",
    "                \"3-13.\",\n",
    "                \"3-18.\",\n",
    "                \"3-3.\",\n",
    "                \"4-1.\",\n",
    "                \"4-10.\",\n",
    "                \"4-11.\",\n",
    "                \"4-19.\",\n",
    "                \"5-5.\",\n",
    "                \"6-15.\",\n",
    "                \"7-10.\",\n",
    "                \"7-14.\",\n",
    "                \"8-18.\",\n",
    "                \"8-20.\",\n",
    "                \"8-3.\",\n",
    "                \"8-8.\",\n",
    "            ],\n",
    "            \"domains\": [1, 2, 3, 4, 5],\n",
    "            \"num_examples_per_domain_per_label\": 100,\n",
    "            \"pickle_path\": \"/mnt/wd500GB/CSC500/csc500-main/datasets/cores.stratified_ds.2022A.pkl\",\n",
    "            \"source_or_target_dataset\": \"source\",\n",
    "            \"x_transforms\": [\"unit_power\"],\n",
    "            \"episode_transforms\": [],\n",
    "            \"domain_prefix\": \"C_A_\",\n",
    "        },\n",
    "        {\n",
    "            \"labels\": [\n",
    "                \"1-10\",\n",
    "                \"1-12\",\n",
    "                \"1-14\",\n",
    "                \"1-16\",\n",
    "                \"1-18\",\n",
    "                \"1-19\",\n",
    "                \"1-8\",\n",
    "                \"10-11\",\n",
    "                \"10-17\",\n",
    "                \"10-4\",\n",
    "                \"10-7\",\n",
    "                \"11-1\",\n",
    "                \"11-10\",\n",
    "                \"11-19\",\n",
    "                \"11-20\",\n",
    "                \"11-4\",\n",
    "                \"11-7\",\n",
    "                \"12-19\",\n",
    "                \"12-20\",\n",
    "                \"12-7\",\n",
    "                \"13-14\",\n",
    "                \"13-18\",\n",
    "                \"13-19\",\n",
    "                \"13-20\",\n",
    "                \"13-3\",\n",
    "                \"13-7\",\n",
    "                \"14-10\",\n",
    "                \"14-11\",\n",
    "                \"14-12\",\n",
    "                \"14-13\",\n",
    "                \"14-14\",\n",
    "                \"14-19\",\n",
    "                \"14-20\",\n",
    "                \"14-7\",\n",
    "                \"14-8\",\n",
    "                \"14-9\",\n",
    "                \"15-1\",\n",
    "                \"15-19\",\n",
    "                \"15-6\",\n",
    "                \"16-1\",\n",
    "                \"16-16\",\n",
    "                \"16-19\",\n",
    "                \"16-20\",\n",
    "                \"17-10\",\n",
    "                \"17-11\",\n",
    "                \"18-1\",\n",
    "                \"18-10\",\n",
    "                \"18-11\",\n",
    "                \"18-12\",\n",
    "                \"18-13\",\n",
    "                \"18-14\",\n",
    "                \"18-15\",\n",
    "                \"18-16\",\n",
    "                \"18-17\",\n",
    "                \"18-19\",\n",
    "                \"18-2\",\n",
    "                \"18-20\",\n",
    "                \"18-4\",\n",
    "                \"18-5\",\n",
    "                \"18-7\",\n",
    "                \"18-8\",\n",
    "                \"18-9\",\n",
    "                \"19-1\",\n",
    "                \"19-10\",\n",
    "                \"19-11\",\n",
    "                \"19-12\",\n",
    "                \"19-13\",\n",
    "                \"19-14\",\n",
    "                \"19-15\",\n",
    "                \"19-19\",\n",
    "                \"19-2\",\n",
    "                \"19-20\",\n",
    "                \"19-3\",\n",
    "                \"19-4\",\n",
    "                \"19-6\",\n",
    "                \"19-7\",\n",
    "                \"19-8\",\n",
    "                \"19-9\",\n",
    "                \"2-1\",\n",
    "                \"2-13\",\n",
    "                \"2-15\",\n",
    "                \"2-3\",\n",
    "                \"2-4\",\n",
    "                \"2-5\",\n",
    "                \"2-6\",\n",
    "                \"2-7\",\n",
    "                \"2-8\",\n",
    "                \"20-1\",\n",
    "                \"20-12\",\n",
    "                \"20-14\",\n",
    "                \"20-15\",\n",
    "                \"20-16\",\n",
    "                \"20-18\",\n",
    "                \"20-19\",\n",
    "                \"20-20\",\n",
    "                \"20-3\",\n",
    "                \"20-4\",\n",
    "                \"20-5\",\n",
    "                \"20-7\",\n",
    "                \"20-8\",\n",
    "                \"3-1\",\n",
    "                \"3-13\",\n",
    "                \"3-18\",\n",
    "                \"3-2\",\n",
    "                \"3-8\",\n",
    "                \"4-1\",\n",
    "                \"4-10\",\n",
    "                \"4-11\",\n",
    "                \"5-1\",\n",
    "                \"5-5\",\n",
    "                \"6-1\",\n",
    "                \"6-15\",\n",
    "                \"6-6\",\n",
    "                \"7-10\",\n",
    "                \"7-11\",\n",
    "                \"7-12\",\n",
    "                \"7-13\",\n",
    "                \"7-14\",\n",
    "                \"7-7\",\n",
    "                \"7-8\",\n",
    "                \"7-9\",\n",
    "                \"8-1\",\n",
    "                \"8-13\",\n",
    "                \"8-14\",\n",
    "                \"8-18\",\n",
    "                \"8-20\",\n",
    "                \"8-3\",\n",
    "                \"8-8\",\n",
    "                \"9-1\",\n",
    "                \"9-7\",\n",
    "            ],\n",
    "            \"domains\": [1, 2, 3, 4],\n",
    "            \"num_examples_per_domain_per_label\": 100,\n",
    "            \"pickle_path\": \"/mnt/wd500GB/CSC500/csc500-main/datasets/wisig.node3-19.stratified_ds.2022A.pkl\",\n",
    "            \"source_or_target_dataset\": \"source\",\n",
    "            \"x_transforms\": [\"unit_power\"],\n",
    "            \"episode_transforms\": [],\n",
    "            \"domain_prefix\": \"W_A_\",\n",
    "        },\n",
    "        {\n",
    "            \"labels\": [\n",
    "                \"3123D52\",\n",
    "                \"3123D65\",\n",
    "                \"3123D79\",\n",
    "                \"3123D80\",\n",
    "                \"3123D54\",\n",
    "                \"3123D70\",\n",
    "                \"3123D7B\",\n",
    "                \"3123D89\",\n",
    "                \"3123D58\",\n",
    "                \"3123D76\",\n",
    "                \"3123D7D\",\n",
    "                \"3123EFE\",\n",
    "                \"3123D64\",\n",
    "                \"3123D78\",\n",
    "                \"3123D7E\",\n",
    "                \"3124E4A\",\n",
    "            ],\n",
    "            \"domains\": [32, 38, 8, 44, 14, 50, 20, 26],\n",
    "            \"num_examples_per_domain_per_label\": 2000,\n",
    "            \"pickle_path\": \"/mnt/wd500GB/CSC500/csc500-main/datasets/oracle.Run1_framed_2000Examples_stratified_ds.2022A.pkl\",\n",
    "            \"source_or_target_dataset\": \"target\",\n",
    "            \"x_transforms\": [\"unit_power\"],\n",
    "            \"episode_transforms\": [],\n",
    "            \"domain_prefix\": \"ORACLE.run1_\",\n",
    "        },\n",
    "    ],\n",
    "}\n"
   ]
  },
  {
   "cell_type": "code",
   "execution_count": 5,
   "id": "8fa1cc33",
   "metadata": {
    "execution": {
     "iopub.execute_input": "2022-03-17T04:43:21.770701Z",
     "iopub.status.busy": "2022-03-17T04:43:21.770443Z",
     "iopub.status.idle": "2022-03-17T04:43:21.785841Z",
     "shell.execute_reply": "2022-03-17T04:43:21.785367Z"
    },
    "papermill": {
     "duration": 0.031725,
     "end_time": "2022-03-17T04:43:21.785934",
     "exception": false,
     "start_time": "2022-03-17T04:43:21.754209",
     "status": "completed"
    },
    "tags": []
   },
   "outputs": [],
   "source": [
    "# Set this to True if you want to run this template directly\n",
    "STANDALONE = False\n",
    "if STANDALONE:\n",
    "    print(\"parameters not injected, running with standalone_parameters\")\n",
    "    parameters = standalone_parameters\n",
    "\n",
    "if not 'parameters' in locals() and not 'parameters' in globals():\n",
    "    raise Exception(\"Parameter injection failed\")\n",
    "\n",
    "#Use an easy dict for all the parameters\n",
    "p = EasyDict(parameters)\n",
    "\n",
    "supplied_keys = set(p.keys())\n",
    "\n",
    "if  supplied_keys != required_parameters:\n",
    "    print(\"Parameters are incorrect\")\n",
    "    if len(supplied_keys - required_parameters)>0: print(\"Shouldn't have:\", str(supplied_keys - required_parameters))\n",
    "    if len(required_parameters - supplied_keys)>0: print(\"Need to have:\", str(required_parameters - supplied_keys))\n",
    "    raise RuntimeError(\"Parameters are incorrect\")\n",
    "\n"
   ]
  },
  {
   "cell_type": "code",
   "execution_count": 6,
   "id": "3a028d58",
   "metadata": {
    "execution": {
     "iopub.execute_input": "2022-03-17T04:43:21.820056Z",
     "iopub.status.busy": "2022-03-17T04:43:21.819803Z",
     "iopub.status.idle": "2022-03-17T04:43:21.834103Z",
     "shell.execute_reply": "2022-03-17T04:43:21.834307Z"
    },
    "papermill": {
     "duration": 0.03002,
     "end_time": "2022-03-17T04:43:21.834364",
     "exception": false,
     "start_time": "2022-03-17T04:43:21.804344",
     "status": "completed"
    },
    "tags": []
   },
   "outputs": [],
   "source": [
    "###################################\n",
    "# Set the RNGs and make it all deterministic\n",
    "###################################\n",
    "np.random.seed(p.seed)\n",
    "random.seed(p.seed)\n",
    "torch.manual_seed(p.seed)\n",
    "\n",
    "torch.use_deterministic_algorithms(True) "
   ]
  },
  {
   "cell_type": "code",
   "execution_count": 7,
   "id": "b691acf6",
   "metadata": {
    "execution": {
     "iopub.execute_input": "2022-03-17T04:43:21.866207Z",
     "iopub.status.busy": "2022-03-17T04:43:21.865962Z",
     "iopub.status.idle": "2022-03-17T04:43:21.881043Z",
     "shell.execute_reply": "2022-03-17T04:43:21.880596Z"
    },
    "papermill": {
     "duration": 0.030362,
     "end_time": "2022-03-17T04:43:21.881130",
     "exception": false,
     "start_time": "2022-03-17T04:43:21.850768",
     "status": "completed"
    },
    "tags": []
   },
   "outputs": [],
   "source": [
    "###########################################\n",
    "# The stratified datasets honor this\n",
    "###########################################\n",
    "torch.set_default_dtype(eval(p.torch_default_dtype))"
   ]
  },
  {
   "cell_type": "code",
   "execution_count": 8,
   "id": "b5fba671",
   "metadata": {
    "execution": {
     "iopub.execute_input": "2022-03-17T04:43:21.913969Z",
     "iopub.status.busy": "2022-03-17T04:43:21.913721Z",
     "iopub.status.idle": "2022-03-17T04:43:21.952982Z",
     "shell.execute_reply": "2022-03-17T04:43:21.952591Z"
    },
    "papermill": {
     "duration": 0.054109,
     "end_time": "2022-03-17T04:43:21.953070",
     "exception": false,
     "start_time": "2022-03-17T04:43:21.898961",
     "status": "completed"
    },
    "tags": []
   },
   "outputs": [],
   "source": [
    "###################################\n",
    "# Build the network(s)\n",
    "# Note: It's critical to do this AFTER setting the RNG\n",
    "###################################\n",
    "x_net = build_sequential(p.x_net)"
   ]
  },
  {
   "cell_type": "code",
   "execution_count": 9,
   "id": "5d7e61cc",
   "metadata": {
    "execution": {
     "iopub.execute_input": "2022-03-17T04:43:21.986920Z",
     "iopub.status.busy": "2022-03-17T04:43:21.986677Z",
     "iopub.status.idle": "2022-03-17T04:43:22.001612Z",
     "shell.execute_reply": "2022-03-17T04:43:22.001165Z"
    },
    "papermill": {
     "duration": 0.030615,
     "end_time": "2022-03-17T04:43:22.001699",
     "exception": false,
     "start_time": "2022-03-17T04:43:21.971084",
     "status": "completed"
    },
    "tags": []
   },
   "outputs": [],
   "source": [
    "start_time_secs = time.time()"
   ]
  },
  {
   "cell_type": "code",
   "execution_count": 10,
   "id": "c6b67dfd",
   "metadata": {
    "execution": {
     "iopub.execute_input": "2022-03-17T04:43:22.034987Z",
     "iopub.status.busy": "2022-03-17T04:43:22.034740Z",
     "iopub.status.idle": "2022-03-17T04:43:22.044869Z",
     "shell.execute_reply": "2022-03-17T04:43:22.044623Z"
    },
    "papermill": {
     "duration": 0.025541,
     "end_time": "2022-03-17T04:43:22.044917",
     "exception": false,
     "start_time": "2022-03-17T04:43:22.019376",
     "status": "completed"
    },
    "tags": []
   },
   "outputs": [],
   "source": [
    "p.domains_source = []\n",
    "p.domains_target = []\n",
    "\n",
    "\n",
    "train_original_source = []\n",
    "val_original_source   = []\n",
    "test_original_source  = []\n",
    "\n",
    "train_original_target = []\n",
    "val_original_target   = []\n",
    "test_original_target  = []"
   ]
  },
  {
   "cell_type": "code",
   "execution_count": 11,
   "id": "e3d9c3d3",
   "metadata": {
    "execution": {
     "iopub.execute_input": "2022-03-17T04:43:22.074859Z",
     "iopub.status.busy": "2022-03-17T04:43:22.074612Z",
     "iopub.status.idle": "2022-03-17T04:43:22.089440Z",
     "shell.execute_reply": "2022-03-17T04:43:22.089029Z"
    },
    "papermill": {
     "duration": 0.029146,
     "end_time": "2022-03-17T04:43:22.089526",
     "exception": false,
     "start_time": "2022-03-17T04:43:22.060380",
     "status": "completed"
    },
    "tags": []
   },
   "outputs": [],
   "source": [
    "# global_x_transform_func = lambda x: normalize(x.to(torch.get_default_dtype()), \"unit_power\") # unit_power, unit_mag\n",
    "# global_x_transform_func = lambda x: normalize(x, \"unit_power\") # unit_power, unit_mag"
   ]
  },
  {
   "cell_type": "code",
   "execution_count": 12,
   "id": "acb78fd2",
   "metadata": {
    "execution": {
     "iopub.execute_input": "2022-03-17T04:43:22.127139Z",
     "iopub.status.busy": "2022-03-17T04:43:22.126881Z",
     "iopub.status.idle": "2022-03-17T04:43:22.138123Z",
     "shell.execute_reply": "2022-03-17T04:43:22.138500Z"
    },
    "papermill": {
     "duration": 0.03084,
     "end_time": "2022-03-17T04:43:22.138603",
     "exception": false,
     "start_time": "2022-03-17T04:43:22.107763",
     "status": "completed"
    },
    "tags": []
   },
   "outputs": [],
   "source": [
    "def add_dataset(\n",
    "    labels,\n",
    "    domains,\n",
    "    pickle_path,\n",
    "    x_transforms,\n",
    "    episode_transforms,\n",
    "    domain_prefix,\n",
    "    num_examples_per_domain_per_label,\n",
    "    source_or_target_dataset:str,\n",
    "    iterator_seed=p.seed,\n",
    "    dataset_seed=p.dataset_seed,\n",
    "    n_shot=p.n_shot,\n",
    "    n_way=p.n_way,\n",
    "    n_query=p.n_query,\n",
    "    train_val_test_k_factors=(p.train_k_factor,p.val_k_factor,p.test_k_factor),\n",
    "):\n",
    "   \n",
    "    if x_transforms == []: x_transform = None\n",
    "    else: x_transform = get_chained_transform(x_transforms)\n",
    "    \n",
    "    if episode_transforms == []: episode_transform = None\n",
    "    else: raise Exception(\"episode_transforms not implemented\")\n",
    "    \n",
    "    episode_transform = lambda tup, _prefix=domain_prefix: (_prefix + str(tup[0]), tup[1])\n",
    "\n",
    "\n",
    "    eaf = Episodic_Accessor_Factory(\n",
    "        labels=labels,\n",
    "        domains=domains,\n",
    "        num_examples_per_domain_per_label=num_examples_per_domain_per_label,\n",
    "        iterator_seed=iterator_seed,\n",
    "        dataset_seed=dataset_seed,\n",
    "        n_shot=n_shot,\n",
    "        n_way=n_way,\n",
    "        n_query=n_query,\n",
    "        train_val_test_k_factors=train_val_test_k_factors,\n",
    "        pickle_path=pickle_path,\n",
    "        x_transform_func=x_transform,\n",
    "    )\n",
    "\n",
    "    train, val, test = eaf.get_train(), eaf.get_val(), eaf.get_test()\n",
    "    train = Lazy_Iterable_Wrapper(train, episode_transform)\n",
    "    val = Lazy_Iterable_Wrapper(val, episode_transform)\n",
    "    test = Lazy_Iterable_Wrapper(test, episode_transform)\n",
    "\n",
    "    if source_or_target_dataset==\"source\":\n",
    "        train_original_source.append(train)\n",
    "        val_original_source.append(val)\n",
    "        test_original_source.append(test)\n",
    "\n",
    "        p.domains_source.extend(\n",
    "            [domain_prefix + str(u) for u in domains]\n",
    "        )\n",
    "    elif source_or_target_dataset==\"target\":\n",
    "        train_original_target.append(train)\n",
    "        val_original_target.append(val)\n",
    "        test_original_target.append(test)\n",
    "        p.domains_target.extend(\n",
    "            [domain_prefix + str(u) for u in domains]\n",
    "        )\n",
    "    else:\n",
    "        raise Exception(f\"invalid source_or_target_dataset: {source_or_target_dataset}\")\n",
    "    "
   ]
  },
  {
   "cell_type": "code",
   "execution_count": 13,
   "id": "fe266617",
   "metadata": {
    "execution": {
     "iopub.execute_input": "2022-03-17T04:43:22.171567Z",
     "iopub.status.busy": "2022-03-17T04:43:22.171317Z",
     "iopub.status.idle": "2022-03-17T04:43:42.831930Z",
     "shell.execute_reply": "2022-03-17T04:43:42.831481Z"
    },
    "papermill": {
     "duration": 20.675766,
     "end_time": "2022-03-17T04:43:42.832029",
     "exception": false,
     "start_time": "2022-03-17T04:43:22.156263",
     "status": "completed"
    },
    "tags": []
   },
   "outputs": [],
   "source": [
    "for ds in p.datasets:\n",
    "    add_dataset(**ds)"
   ]
  },
  {
   "cell_type": "code",
   "execution_count": 14,
   "id": "b90d65ac",
   "metadata": {
    "execution": {
     "iopub.execute_input": "2022-03-17T04:43:42.866670Z",
     "iopub.status.busy": "2022-03-17T04:43:42.866416Z",
     "iopub.status.idle": "2022-03-17T04:43:42.881834Z",
     "shell.execute_reply": "2022-03-17T04:43:42.881527Z"
    },
    "papermill": {
     "duration": 0.030866,
     "end_time": "2022-03-17T04:43:42.881904",
     "exception": false,
     "start_time": "2022-03-17T04:43:42.851038",
     "status": "completed"
    },
    "tags": []
   },
   "outputs": [],
   "source": [
    "# from steves_utils.CORES.utils import (\n",
    "#     ALL_NODES,\n",
    "#     ALL_NODES_MINIMUM_1000_EXAMPLES,\n",
    "#     ALL_DAYS\n",
    "# )\n",
    "\n",
    "# add_dataset(\n",
    "#     labels=ALL_NODES,\n",
    "#     domains = ALL_DAYS,\n",
    "#     num_examples_per_domain_per_label=100,\n",
    "#     pickle_path=os.path.join(get_datasets_base_path(), \"cores.stratified_ds.2022A.pkl\"),\n",
    "#     source_or_target_dataset=\"target\",\n",
    "#     x_transform_func=global_x_transform_func,\n",
    "#     domain_modifier=lambda u: f\"cores_{u}\"\n",
    "# )"
   ]
  },
  {
   "cell_type": "code",
   "execution_count": 15,
   "id": "76db484d",
   "metadata": {
    "execution": {
     "iopub.execute_input": "2022-03-17T04:43:42.914736Z",
     "iopub.status.busy": "2022-03-17T04:43:42.914482Z",
     "iopub.status.idle": "2022-03-17T04:43:42.929429Z",
     "shell.execute_reply": "2022-03-17T04:43:42.928979Z"
    },
    "papermill": {
     "duration": 0.03015,
     "end_time": "2022-03-17T04:43:42.929521",
     "exception": false,
     "start_time": "2022-03-17T04:43:42.899371",
     "status": "completed"
    },
    "tags": []
   },
   "outputs": [],
   "source": [
    "# from steves_utils.ORACLE.utils_v2 import (\n",
    "#     ALL_DISTANCES_FEET,\n",
    "#     ALL_RUNS,\n",
    "#     ALL_SERIAL_NUMBERS,\n",
    "# )\n",
    "\n",
    "\n",
    "# add_dataset(\n",
    "#     labels=ALL_SERIAL_NUMBERS,\n",
    "#     domains = list(set(ALL_DISTANCES_FEET) - {2,62}),\n",
    "#     num_examples_per_domain_per_label=100,\n",
    "#     pickle_path=os.path.join(get_datasets_base_path(), \"oracle.Run2_framed_2000Examples_stratified_ds.2022A.pkl\"),\n",
    "#     source_or_target_dataset=\"source\",\n",
    "#     x_transform_func=global_x_transform_func,\n",
    "#     domain_modifier=lambda u: f\"oracle1_{u}\"\n",
    "# )\n"
   ]
  },
  {
   "cell_type": "code",
   "execution_count": 16,
   "id": "97dea9d2",
   "metadata": {
    "execution": {
     "iopub.execute_input": "2022-03-17T04:43:42.962968Z",
     "iopub.status.busy": "2022-03-17T04:43:42.962717Z",
     "iopub.status.idle": "2022-03-17T04:43:42.972640Z",
     "shell.execute_reply": "2022-03-17T04:43:42.972313Z"
    },
    "papermill": {
     "duration": 0.024826,
     "end_time": "2022-03-17T04:43:42.972708",
     "exception": false,
     "start_time": "2022-03-17T04:43:42.947882",
     "status": "completed"
    },
    "tags": []
   },
   "outputs": [],
   "source": [
    "# from steves_utils.ORACLE.utils_v2 import (\n",
    "#     ALL_DISTANCES_FEET,\n",
    "#     ALL_RUNS,\n",
    "#     ALL_SERIAL_NUMBERS,\n",
    "# )\n",
    "\n",
    "\n",
    "# add_dataset(\n",
    "#     labels=ALL_SERIAL_NUMBERS,\n",
    "#     domains = list(set(ALL_DISTANCES_FEET) - {2,62,56}),\n",
    "#     num_examples_per_domain_per_label=100,\n",
    "#     pickle_path=os.path.join(get_datasets_base_path(), \"oracle.Run2_framed_2000Examples_stratified_ds.2022A.pkl\"),\n",
    "#     source_or_target_dataset=\"source\",\n",
    "#     x_transform_func=global_x_transform_func,\n",
    "#     domain_modifier=lambda u: f\"oracle2_{u}\"\n",
    "# )"
   ]
  },
  {
   "cell_type": "code",
   "execution_count": 17,
   "id": "6f289866",
   "metadata": {
    "execution": {
     "iopub.execute_input": "2022-03-17T04:43:43.005865Z",
     "iopub.status.busy": "2022-03-17T04:43:43.005613Z",
     "iopub.status.idle": "2022-03-17T04:43:43.015554Z",
     "shell.execute_reply": "2022-03-17T04:43:43.015301Z"
    },
    "papermill": {
     "duration": 0.02464,
     "end_time": "2022-03-17T04:43:43.015606",
     "exception": false,
     "start_time": "2022-03-17T04:43:42.990966",
     "status": "completed"
    },
    "tags": []
   },
   "outputs": [],
   "source": [
    "# add_dataset(\n",
    "#     labels=list(range(19)),\n",
    "#     domains = [0,1,2],\n",
    "#     num_examples_per_domain_per_label=100,\n",
    "#     pickle_path=os.path.join(get_datasets_base_path(), \"metehan.stratified_ds.2022A.pkl\"),\n",
    "#     source_or_target_dataset=\"target\",\n",
    "#     x_transform_func=global_x_transform_func,\n",
    "#     domain_modifier=lambda u: f\"met_{u}\"\n",
    "# )"
   ]
  },
  {
   "cell_type": "code",
   "execution_count": 18,
   "id": "86a863c3",
   "metadata": {
    "execution": {
     "iopub.execute_input": "2022-03-17T04:43:43.050254Z",
     "iopub.status.busy": "2022-03-17T04:43:43.049994Z",
     "iopub.status.idle": "2022-03-17T04:43:43.065144Z",
     "shell.execute_reply": "2022-03-17T04:43:43.064691Z"
    },
    "papermill": {
     "duration": 0.03076,
     "end_time": "2022-03-17T04:43:43.065231",
     "exception": false,
     "start_time": "2022-03-17T04:43:43.034471",
     "status": "completed"
    },
    "tags": []
   },
   "outputs": [],
   "source": [
    "# # from steves_utils.wisig.utils import (\n",
    "# #     ALL_NODES_MINIMUM_100_EXAMPLES,\n",
    "# #     ALL_NODES_MINIMUM_500_EXAMPLES,\n",
    "# #     ALL_NODES_MINIMUM_1000_EXAMPLES,\n",
    "# #     ALL_DAYS\n",
    "# # )\n",
    "\n",
    "# import steves_utils.wisig.utils as wisig\n",
    "\n",
    "\n",
    "# add_dataset(\n",
    "#     labels=wisig.ALL_NODES_MINIMUM_100_EXAMPLES,\n",
    "#     domains = wisig.ALL_DAYS,\n",
    "#     num_examples_per_domain_per_label=100,\n",
    "#     pickle_path=os.path.join(get_datasets_base_path(), \"wisig.node3-19.stratified_ds.2022A.pkl\"),\n",
    "#     source_or_target_dataset=\"target\",\n",
    "#     x_transform_func=global_x_transform_func,\n",
    "#     domain_modifier=lambda u: f\"wisig_{u}\"\n",
    "# )"
   ]
  },
  {
   "cell_type": "code",
   "execution_count": 19,
   "id": "fd5442bc",
   "metadata": {
    "execution": {
     "iopub.execute_input": "2022-03-17T04:43:43.100024Z",
     "iopub.status.busy": "2022-03-17T04:43:43.099757Z",
     "iopub.status.idle": "2022-03-17T04:43:43.111135Z",
     "shell.execute_reply": "2022-03-17T04:43:43.110689Z"
    },
    "papermill": {
     "duration": 0.027835,
     "end_time": "2022-03-17T04:43:43.111223",
     "exception": false,
     "start_time": "2022-03-17T04:43:43.083388",
     "status": "completed"
    },
    "tags": []
   },
   "outputs": [],
   "source": [
    "###################################\n",
    "# Build the dataset\n",
    "###################################\n",
    "train_original_source = Iterable_Aggregator(train_original_source, p.seed)\n",
    "val_original_source = Iterable_Aggregator(val_original_source, p.seed)\n",
    "test_original_source = Iterable_Aggregator(test_original_source, p.seed)\n",
    "\n",
    "\n",
    "train_original_target = Iterable_Aggregator(train_original_target, p.seed)\n",
    "val_original_target = Iterable_Aggregator(val_original_target, p.seed)\n",
    "test_original_target = Iterable_Aggregator(test_original_target, p.seed)\n",
    "\n",
    "# For CNN We only use X and Y. And we only train on the source.\n",
    "# Properly form the data using a transform lambda and Lazy_Iterable_Wrapper. Finally wrap them in a dataloader\n",
    "\n",
    "transform_lambda = lambda ex: ex[1] # Original is (<domain>, <episode>) so we strip down to episode only\n",
    "\n",
    "train_processed_source = Lazy_Iterable_Wrapper(train_original_source, transform_lambda)\n",
    "val_processed_source   = Lazy_Iterable_Wrapper(val_original_source, transform_lambda)\n",
    "test_processed_source  = Lazy_Iterable_Wrapper(test_original_source, transform_lambda)\n",
    "\n",
    "train_processed_target = Lazy_Iterable_Wrapper(train_original_target, transform_lambda)\n",
    "val_processed_target   = Lazy_Iterable_Wrapper(val_original_target, transform_lambda)\n",
    "test_processed_target  = Lazy_Iterable_Wrapper(test_original_target, transform_lambda)\n",
    "\n",
    "datasets = EasyDict({\n",
    "    \"source\": {\n",
    "        \"original\": {\"train\":train_original_source, \"val\":val_original_source, \"test\":test_original_source},\n",
    "        \"processed\": {\"train\":train_processed_source, \"val\":val_processed_source, \"test\":test_processed_source}\n",
    "    },\n",
    "    \"target\": {\n",
    "        \"original\": {\"train\":train_original_target, \"val\":val_original_target, \"test\":test_original_target},\n",
    "        \"processed\": {\"train\":train_processed_target, \"val\":val_processed_target, \"test\":test_processed_target}\n",
    "    },\n",
    "})"
   ]
  },
  {
   "cell_type": "code",
   "execution_count": 20,
   "id": "5b3c01fc",
   "metadata": {
    "execution": {
     "iopub.execute_input": "2022-03-17T04:43:43.143336Z",
     "iopub.status.busy": "2022-03-17T04:43:43.143066Z",
     "iopub.status.idle": "2022-03-17T04:43:47.964273Z",
     "shell.execute_reply": "2022-03-17T04:43:47.963946Z"
    },
    "papermill": {
     "duration": 4.837198,
     "end_time": "2022-03-17T04:43:47.964355",
     "exception": false,
     "start_time": "2022-03-17T04:43:43.127157",
     "status": "completed"
    },
    "tags": []
   },
   "outputs": [
    {
     "name": "stdout",
     "output_type": "stream",
     "text": [
      "{'W_A_3', 'C_A_2', 'C_A_5', 'C_A_1', 'C_A_3', 'C_A_4', 'W_A_2', 'W_A_1', 'W_A_4'}\n"
     ]
    },
    {
     "name": "stdout",
     "output_type": "stream",
     "text": [
      "{'ORACLE.run1_44', 'ORACLE.run1_50', 'ORACLE.run1_38', 'ORACLE.run1_14', 'ORACLE.run1_26', 'ORACLE.run1_32', 'ORACLE.run1_20', 'ORACLE.run1_8'}\n"
     ]
    },
    {
     "name": "stdout",
     "output_type": "stream",
     "text": [
      "tensor([[[-1.1274, -0.5022, -0.0205,  ..., -1.0843,  0.0000,  0.6764],\n",
      "         [ 0.4469,  0.0041, -0.1189,  ..., -1.0003,  0.0000, -0.0102]],\n",
      "\n",
      "        [[-0.6446,  1.3212,  0.5265,  ..., -0.5645, -0.4904, -0.6566],\n",
      "         [-1.4673,  0.1001,  1.3272,  ...,  0.8328,  0.1221, -0.7207]],\n",
      "\n",
      "        [[-0.8172,  0.3120,  0.4650,  ...,  0.5032,  0.2697,  0.3160],\n",
      "         [-0.4227, -0.4549, -0.7428,  ...,  0.0060, -0.6844, -1.3164]],\n",
      "\n",
      "        ...,\n",
      "\n",
      "        [[ 0.5357, -0.6498, -0.2553,  ...,  0.0077,  0.0751,  0.5211],\n",
      "         [ 0.5162,  0.3158, -0.4167,  ...,  0.5364, -0.3298, -0.0348]],\n",
      "\n",
      "        [[-0.1846,  0.2182, -0.4022,  ..., -0.2592, -0.5694, -0.4150],\n",
      "         [-0.1370, -0.0980, -0.1571,  ...,  0.7272,  0.1887, -1.0784]],\n",
      "\n",
      "        [[ 0.1273,  0.6059, -0.8592,  ...,  0.8839,  0.1041, -0.1041],\n",
      "         [-0.7730,  0.2711,  0.4635,  ...,  0.0164,  0.1698, -0.3629]]])\n"
     ]
    }
   ],
   "source": [
    "from steves_utils.transforms import get_average_magnitude, get_average_power\n",
    "\n",
    "print(set([u for u,_ in val_original_source]))\n",
    "print(set([u for u,_ in val_original_target]))\n",
    "\n",
    "s_x, s_y, q_x, q_y, _ = next(iter(train_processed_source))\n",
    "print(s_x)\n",
    "\n",
    "# for ds in [\n",
    "#     train_processed_source,\n",
    "#     val_processed_source,\n",
    "#     test_processed_source,\n",
    "#     train_processed_target,\n",
    "#     val_processed_target,\n",
    "#     test_processed_target\n",
    "# ]:\n",
    "#     for s_x, s_y, q_x, q_y, _ in ds:\n",
    "#         for X in (s_x, q_x):\n",
    "#             for x in X:\n",
    "#                 assert np.isclose(get_average_magnitude(x.numpy()), 1.0)\n",
    "#                 assert np.isclose(get_average_power(x.numpy()), 1.0)\n",
    "                "
   ]
  },
  {
   "cell_type": "code",
   "execution_count": 21,
   "id": "bbdacba1",
   "metadata": {
    "execution": {
     "iopub.execute_input": "2022-03-17T04:43:48.003434Z",
     "iopub.status.busy": "2022-03-17T04:43:48.003169Z",
     "iopub.status.idle": "2022-03-17T04:43:48.060735Z",
     "shell.execute_reply": "2022-03-17T04:43:48.061095Z"
    },
    "papermill": {
     "duration": 0.075913,
     "end_time": "2022-03-17T04:43:48.061207",
     "exception": false,
     "start_time": "2022-03-17T04:43:47.985294",
     "status": "completed"
    },
    "tags": []
   },
   "outputs": [
    {
     "name": "stdout",
     "output_type": "stream",
     "text": [
      "(2, 256)\n"
     ]
    }
   ],
   "source": [
    "###################################\n",
    "# Build the model\n",
    "###################################\n",
    "model = Steves_Prototypical_Network(x_net, device=p.device, x_shape=(2,256))\n",
    "optimizer = Adam(params=model.parameters(), lr=p.lr)"
   ]
  },
  {
   "cell_type": "code",
   "execution_count": 22,
   "id": "22b39ac5",
   "metadata": {
    "execution": {
     "iopub.execute_input": "2022-03-17T04:43:48.098754Z",
     "iopub.status.busy": "2022-03-17T04:43:48.096855Z",
     "iopub.status.idle": "2022-03-17T04:50:02.077484Z",
     "shell.execute_reply": "2022-03-17T04:50:02.077108Z"
    },
    "papermill": {
     "duration": 373.997064,
     "end_time": "2022-03-17T04:50:02.077566",
     "exception": false,
     "start_time": "2022-03-17T04:43:48.080502",
     "status": "completed"
    },
    "tags": []
   },
   "outputs": [
    {
     "name": "stdout",
     "output_type": "stream",
     "text": [
      "epoch: 1, [batch: 1 / 2081], examples_per_second: 128.9635, train_label_loss: 2.9376, \n"
     ]
    },
    {
     "name": "stdout",
     "output_type": "stream",
     "text": [
      "epoch: 1, [batch: 209 / 2081], examples_per_second: 3223.9121, train_label_loss: 0.0794, \n"
     ]
    },
    {
     "name": "stdout",
     "output_type": "stream",
     "text": [
      "epoch: 1, [batch: 417 / 2081], examples_per_second: 3240.7150, train_label_loss: 0.6952, \n"
     ]
    },
    {
     "name": "stdout",
     "output_type": "stream",
     "text": [
      "epoch: 1, [batch: 625 / 2081], examples_per_second: 3234.6452, train_label_loss: 0.0459, \n"
     ]
    },
    {
     "name": "stdout",
     "output_type": "stream",
     "text": [
      "epoch: 1, [batch: 833 / 2081], examples_per_second: 3234.3384, train_label_loss: 0.6196, \n"
     ]
    },
    {
     "name": "stdout",
     "output_type": "stream",
     "text": [
      "epoch: 1, [batch: 1041 / 2081], examples_per_second: 3206.4146, train_label_loss: 0.0285, \n"
     ]
    },
    {
     "name": "stdout",
     "output_type": "stream",
     "text": [
      "epoch: 1, [batch: 1249 / 2081], examples_per_second: 3218.2690, train_label_loss: 0.4256, \n"
     ]
    },
    {
     "name": "stdout",
     "output_type": "stream",
     "text": [
      "epoch: 1, [batch: 1457 / 2081], examples_per_second: 3181.0810, train_label_loss: 0.2558, \n"
     ]
    },
    {
     "name": "stdout",
     "output_type": "stream",
     "text": [
      "epoch: 1, [batch: 1665 / 2081], examples_per_second: 3221.0785, train_label_loss: 0.0478, \n"
     ]
    },
    {
     "name": "stdout",
     "output_type": "stream",
     "text": [
      "epoch: 1, [batch: 1873 / 2081], examples_per_second: 3209.7547, train_label_loss: 0.1838, \n"
     ]
    },
    {
     "name": "stdout",
     "output_type": "stream",
     "text": [
      "=============================================================\n",
      "epoch: 1, source_val_acc_label: 0.9543, target_val_acc_label: 0.2057, source_val_label_loss: 0.1965, target_val_label_loss: 2.4502, \n",
      "=============================================================\n"
     ]
    },
    {
     "name": "stdout",
     "output_type": "stream",
     "text": [
      "New best\n"
     ]
    },
    {
     "name": "stdout",
     "output_type": "stream",
     "text": [
      "epoch: 2, [batch: 1 / 2079], examples_per_second: 10.5362, train_label_loss: 0.1391, \n"
     ]
    },
    {
     "name": "stdout",
     "output_type": "stream",
     "text": [
      "epoch: 2, [batch: 208 / 2079], examples_per_second: 3044.2642, train_label_loss: 0.2673, \n"
     ]
    },
    {
     "name": "stdout",
     "output_type": "stream",
     "text": [
      "epoch: 2, [batch: 416 / 2079], examples_per_second: 2955.0630, train_label_loss: 0.0242, \n"
     ]
    },
    {
     "name": "stdout",
     "output_type": "stream",
     "text": [
      "epoch: 2, [batch: 624 / 2079], examples_per_second: 2987.5565, train_label_loss: 0.2123, \n"
     ]
    },
    {
     "name": "stdout",
     "output_type": "stream",
     "text": [
      "epoch: 2, [batch: 832 / 2079], examples_per_second: 3095.3791, train_label_loss: 0.1614, \n"
     ]
    },
    {
     "name": "stdout",
     "output_type": "stream",
     "text": [
      "epoch: 2, [batch: 1040 / 2079], examples_per_second: 3149.0606, train_label_loss: 0.3569, \n"
     ]
    },
    {
     "name": "stdout",
     "output_type": "stream",
     "text": [
      "epoch: 2, [batch: 1247 / 2079], examples_per_second: 3228.8711, train_label_loss: 0.0320, \n"
     ]
    },
    {
     "name": "stdout",
     "output_type": "stream",
     "text": [
      "epoch: 2, [batch: 1455 / 2079], examples_per_second: 3163.6229, train_label_loss: 0.1067, \n"
     ]
    },
    {
     "name": "stdout",
     "output_type": "stream",
     "text": [
      "epoch: 2, [batch: 1663 / 2079], examples_per_second: 3183.8013, train_label_loss: 0.0168, \n"
     ]
    },
    {
     "name": "stdout",
     "output_type": "stream",
     "text": [
      "epoch: 2, [batch: 1871 / 2079], examples_per_second: 3202.1153, train_label_loss: 0.0394, \n"
     ]
    },
    {
     "name": "stdout",
     "output_type": "stream",
     "text": [
      "=============================================================\n",
      "epoch: 2, source_val_acc_label: 0.9658, target_val_acc_label: 0.1967, source_val_label_loss: 0.1640, target_val_label_loss: 2.4386, \n",
      "=============================================================\n"
     ]
    },
    {
     "name": "stdout",
     "output_type": "stream",
     "text": [
      "New best\n"
     ]
    },
    {
     "name": "stdout",
     "output_type": "stream",
     "text": [
      "epoch: 3, [batch: 1 / 2082], examples_per_second: 10.2118, train_label_loss: 0.4786, \n"
     ]
    },
    {
     "name": "stdout",
     "output_type": "stream",
     "text": [
      "epoch: 3, [batch: 209 / 2082], examples_per_second: 3183.0898, train_label_loss: 0.4529, \n"
     ]
    },
    {
     "name": "stdout",
     "output_type": "stream",
     "text": [
      "epoch: 3, [batch: 417 / 2082], examples_per_second: 3195.6660, train_label_loss: 0.4450, \n"
     ]
    },
    {
     "name": "stdout",
     "output_type": "stream",
     "text": [
      "epoch: 3, [batch: 625 / 2082], examples_per_second: 3091.3143, train_label_loss: 0.5288, \n"
     ]
    },
    {
     "name": "stdout",
     "output_type": "stream",
     "text": [
      "epoch: 3, [batch: 833 / 2082], examples_per_second: 3185.0223, train_label_loss: 0.2881, \n"
     ]
    },
    {
     "name": "stdout",
     "output_type": "stream",
     "text": [
      "epoch: 3, [batch: 1041 / 2082], examples_per_second: 3155.0145, train_label_loss: 0.0065, \n"
     ]
    },
    {
     "name": "stdout",
     "output_type": "stream",
     "text": [
      "epoch: 3, [batch: 1249 / 2082], examples_per_second: 3122.9786, train_label_loss: 0.0010, \n"
     ]
    },
    {
     "name": "stdout",
     "output_type": "stream",
     "text": [
      "epoch: 3, [batch: 1457 / 2082], examples_per_second: 3068.6721, train_label_loss: 0.0102, \n"
     ]
    },
    {
     "name": "stdout",
     "output_type": "stream",
     "text": [
      "epoch: 3, [batch: 1665 / 2082], examples_per_second: 3193.8363, train_label_loss: 0.0571, \n"
     ]
    },
    {
     "name": "stdout",
     "output_type": "stream",
     "text": [
      "epoch: 3, [batch: 1873 / 2082], examples_per_second: 3066.9389, train_label_loss: 0.0486, \n"
     ]
    },
    {
     "name": "stdout",
     "output_type": "stream",
     "text": [
      "=============================================================\n",
      "epoch: 3, source_val_acc_label: 0.9716, target_val_acc_label: 0.1800, source_val_label_loss: 0.1283, target_val_label_loss: 2.4876, \n",
      "=============================================================\n"
     ]
    },
    {
     "name": "stdout",
     "output_type": "stream",
     "text": [
      "epoch: 4, [batch: 1 / 2080], examples_per_second: 10.3010, train_label_loss: 0.1790, \n"
     ]
    },
    {
     "name": "stdout",
     "output_type": "stream",
     "text": [
      "epoch: 4, [batch: 208 / 2080], examples_per_second: 3158.3938, train_label_loss: 0.1084, \n"
     ]
    },
    {
     "name": "stdout",
     "output_type": "stream",
     "text": [
      "epoch: 4, [batch: 416 / 2080], examples_per_second: 3175.9286, train_label_loss: 0.0240, \n"
     ]
    },
    {
     "name": "stdout",
     "output_type": "stream",
     "text": [
      "epoch: 4, [batch: 624 / 2080], examples_per_second: 3172.8850, train_label_loss: 0.0031, \n"
     ]
    },
    {
     "name": "stdout",
     "output_type": "stream",
     "text": [
      "epoch: 4, [batch: 832 / 2080], examples_per_second: 3205.6828, train_label_loss: 0.0584, \n"
     ]
    },
    {
     "name": "stdout",
     "output_type": "stream",
     "text": [
      "epoch: 4, [batch: 1040 / 2080], examples_per_second: 3216.6432, train_label_loss: 0.0772, \n"
     ]
    },
    {
     "name": "stdout",
     "output_type": "stream",
     "text": [
      "epoch: 4, [batch: 1248 / 2080], examples_per_second: 3233.1397, train_label_loss: 0.0038, \n"
     ]
    },
    {
     "name": "stdout",
     "output_type": "stream",
     "text": [
      "epoch: 4, [batch: 1456 / 2080], examples_per_second: 3210.9008, train_label_loss: 0.0754, \n"
     ]
    },
    {
     "name": "stdout",
     "output_type": "stream",
     "text": [
      "epoch: 4, [batch: 1664 / 2080], examples_per_second: 3155.6011, train_label_loss: 0.0069, \n"
     ]
    },
    {
     "name": "stdout",
     "output_type": "stream",
     "text": [
      "epoch: 4, [batch: 1872 / 2080], examples_per_second: 3140.9620, train_label_loss: 0.3306, \n"
     ]
    },
    {
     "name": "stdout",
     "output_type": "stream",
     "text": [
      "=============================================================\n",
      "epoch: 4, source_val_acc_label: 0.9725, target_val_acc_label: 0.1734, source_val_label_loss: 0.1307, target_val_label_loss: 2.6225, \n",
      "=============================================================\n"
     ]
    },
    {
     "name": "stdout",
     "output_type": "stream",
     "text": [
      "epoch: 5, [batch: 1 / 2079], examples_per_second: 10.5867, train_label_loss: 0.0106, \n"
     ]
    },
    {
     "name": "stdout",
     "output_type": "stream",
     "text": [
      "epoch: 5, [batch: 208 / 2079], examples_per_second: 3209.7018, train_label_loss: 0.2561, \n"
     ]
    },
    {
     "name": "stdout",
     "output_type": "stream",
     "text": [
      "epoch: 5, [batch: 416 / 2079], examples_per_second: 3246.8382, train_label_loss: 0.1299, \n"
     ]
    },
    {
     "name": "stdout",
     "output_type": "stream",
     "text": [
      "epoch: 5, [batch: 624 / 2079], examples_per_second: 3243.7679, train_label_loss: 0.0051, \n"
     ]
    },
    {
     "name": "stdout",
     "output_type": "stream",
     "text": [
      "epoch: 5, [batch: 832 / 2079], examples_per_second: 3161.2238, train_label_loss: 0.0013, \n"
     ]
    },
    {
     "name": "stdout",
     "output_type": "stream",
     "text": [
      "epoch: 5, [batch: 1040 / 2079], examples_per_second: 3226.1667, train_label_loss: 0.4105, \n"
     ]
    },
    {
     "name": "stdout",
     "output_type": "stream",
     "text": [
      "epoch: 5, [batch: 1247 / 2079], examples_per_second: 3244.5065, train_label_loss: 0.0849, \n"
     ]
    },
    {
     "name": "stdout",
     "output_type": "stream",
     "text": [
      "epoch: 5, [batch: 1455 / 2079], examples_per_second: 3226.7933, train_label_loss: 0.3152, \n"
     ]
    },
    {
     "name": "stdout",
     "output_type": "stream",
     "text": [
      "epoch: 5, [batch: 1663 / 2079], examples_per_second: 3262.0335, train_label_loss: 0.1293, \n"
     ]
    },
    {
     "name": "stdout",
     "output_type": "stream",
     "text": [
      "epoch: 5, [batch: 1871 / 2079], examples_per_second: 3238.0496, train_label_loss: 0.1924, \n"
     ]
    },
    {
     "name": "stdout",
     "output_type": "stream",
     "text": [
      "=============================================================\n",
      "epoch: 5, source_val_acc_label: 0.9724, target_val_acc_label: 0.1631, source_val_label_loss: 0.1290, target_val_label_loss: 3.0091, \n",
      "=============================================================\n"
     ]
    },
    {
     "name": "stdout",
     "output_type": "stream",
     "text": [
      "epoch: 6, [batch: 1 / 2081], examples_per_second: 10.5238, train_label_loss: 0.0954, \n"
     ]
    },
    {
     "name": "stdout",
     "output_type": "stream",
     "text": [
      "epoch: 6, [batch: 209 / 2081], examples_per_second: 3204.7434, train_label_loss: 0.0009, \n"
     ]
    },
    {
     "name": "stdout",
     "output_type": "stream",
     "text": [
      "epoch: 6, [batch: 417 / 2081], examples_per_second: 3228.8720, train_label_loss: 0.0058, \n"
     ]
    },
    {
     "name": "stdout",
     "output_type": "stream",
     "text": [
      "epoch: 6, [batch: 625 / 2081], examples_per_second: 3230.4888, train_label_loss: 0.0048, \n"
     ]
    },
    {
     "name": "stdout",
     "output_type": "stream",
     "text": [
      "epoch: 6, [batch: 833 / 2081], examples_per_second: 3244.9956, train_label_loss: 0.0019, \n"
     ]
    },
    {
     "name": "stdout",
     "output_type": "stream",
     "text": [
      "epoch: 6, [batch: 1041 / 2081], examples_per_second: 3242.8986, train_label_loss: 0.0714, \n"
     ]
    },
    {
     "name": "stdout",
     "output_type": "stream",
     "text": [
      "epoch: 6, [batch: 1249 / 2081], examples_per_second: 3234.4109, train_label_loss: 0.0501, \n"
     ]
    },
    {
     "name": "stdout",
     "output_type": "stream",
     "text": [
      "epoch: 6, [batch: 1457 / 2081], examples_per_second: 3233.1454, train_label_loss: 0.0003, \n"
     ]
    },
    {
     "name": "stdout",
     "output_type": "stream",
     "text": [
      "epoch: 6, [batch: 1665 / 2081], examples_per_second: 3187.5323, train_label_loss: 0.0067, \n"
     ]
    },
    {
     "name": "stdout",
     "output_type": "stream",
     "text": [
      "epoch: 6, [batch: 1873 / 2081], examples_per_second: 3241.3067, train_label_loss: 0.0036, \n"
     ]
    },
    {
     "name": "stdout",
     "output_type": "stream",
     "text": [
      "=============================================================\n",
      "epoch: 6, source_val_acc_label: 0.9758, target_val_acc_label: 0.1723, source_val_label_loss: 0.1275, target_val_label_loss: 2.8371, \n",
      "=============================================================\n"
     ]
    },
    {
     "name": "stdout",
     "output_type": "stream",
     "text": [
      "Patience (3) exhausted\n"
     ]
    }
   ],
   "source": [
    "###################################\n",
    "# train\n",
    "###################################\n",
    "jig = PTN_Train_Eval_Test_Jig(model, p.BEST_MODEL_PATH, p.device)\n",
    "\n",
    "jig.train(\n",
    "    train_iterable=datasets.source.processed.train,\n",
    "    source_val_iterable=datasets.source.processed.val,\n",
    "    target_val_iterable=datasets.target.processed.val,\n",
    "    num_epochs=p.n_epoch,\n",
    "    num_logs_per_epoch=p.NUM_LOGS_PER_EPOCH,\n",
    "    patience=p.patience,\n",
    "    optimizer=optimizer,\n",
    "    criteria_for_best=p.criteria_for_best,\n",
    ")"
   ]
  },
  {
   "cell_type": "code",
   "execution_count": 23,
   "id": "31e8fabf",
   "metadata": {
    "execution": {
     "iopub.execute_input": "2022-03-17T04:50:02.137767Z",
     "iopub.status.busy": "2022-03-17T04:50:02.137515Z",
     "iopub.status.idle": "2022-03-17T04:50:02.155198Z",
     "shell.execute_reply": "2022-03-17T04:50:02.155560Z"
    },
    "papermill": {
     "duration": 0.047469,
     "end_time": "2022-03-17T04:50:02.155667",
     "exception": false,
     "start_time": "2022-03-17T04:50:02.108198",
     "status": "completed"
    },
    "tags": []
   },
   "outputs": [],
   "source": [
    "total_experiment_time_secs = time.time() - start_time_secs"
   ]
  },
  {
   "cell_type": "code",
   "execution_count": 24,
   "id": "87b9595b",
   "metadata": {
    "execution": {
     "iopub.execute_input": "2022-03-17T04:50:02.217148Z",
     "iopub.status.busy": "2022-03-17T04:50:02.216874Z",
     "iopub.status.idle": "2022-03-17T04:51:06.824080Z",
     "shell.execute_reply": "2022-03-17T04:51:06.823723Z"
    },
    "papermill": {
     "duration": 64.638673,
     "end_time": "2022-03-17T04:51:06.824168",
     "exception": false,
     "start_time": "2022-03-17T04:50:02.185495",
     "status": "completed"
    },
    "tags": []
   },
   "outputs": [],
   "source": [
    "###################################\n",
    "# Evaluate the model\n",
    "###################################\n",
    "source_test_label_accuracy, source_test_label_loss = jig.test(datasets.source.processed.test)\n",
    "target_test_label_accuracy, target_test_label_loss = jig.test(datasets.target.processed.test)\n",
    "\n",
    "source_val_label_accuracy, source_val_label_loss = jig.test(datasets.source.processed.val)\n",
    "target_val_label_accuracy, target_val_label_loss = jig.test(datasets.target.processed.val)\n",
    "\n",
    "history = jig.get_history()\n",
    "\n",
    "total_epochs_trained = len(history[\"epoch_indices\"])\n",
    "\n",
    "val_dl = Iterable_Aggregator((datasets.source.original.val,datasets.target.original.val))\n",
    "\n",
    "confusion = ptn_confusion_by_domain_over_dataloader(model, p.device, val_dl)\n",
    "per_domain_accuracy = per_domain_accuracy_from_confusion(confusion)\n",
    "\n",
    "# Add a key to per_domain_accuracy for if it was a source domain\n",
    "for domain, accuracy in per_domain_accuracy.items():\n",
    "    per_domain_accuracy[domain] = {\n",
    "        \"accuracy\": accuracy,\n",
    "        \"source?\": domain in p.domains_source\n",
    "    }\n",
    "\n",
    "# Do an independent accuracy assesment JUST TO BE SURE!\n",
    "# _source_test_label_accuracy = independent_accuracy_assesment(model, datasets.source.processed.test, p.device)\n",
    "# _target_test_label_accuracy = independent_accuracy_assesment(model, datasets.target.processed.test, p.device)\n",
    "# _source_val_label_accuracy = independent_accuracy_assesment(model, datasets.source.processed.val, p.device)\n",
    "# _target_val_label_accuracy = independent_accuracy_assesment(model, datasets.target.processed.val, p.device)\n",
    "\n",
    "# assert(_source_test_label_accuracy == source_test_label_accuracy)\n",
    "# assert(_target_test_label_accuracy == target_test_label_accuracy)\n",
    "# assert(_source_val_label_accuracy == source_val_label_accuracy)\n",
    "# assert(_target_val_label_accuracy == target_val_label_accuracy)\n",
    "\n",
    "experiment = {\n",
    "    \"experiment_name\": p.experiment_name,\n",
    "    \"parameters\": dict(p),\n",
    "    \"results\": {\n",
    "        \"source_test_label_accuracy\": source_test_label_accuracy,\n",
    "        \"source_test_label_loss\": source_test_label_loss,\n",
    "        \"target_test_label_accuracy\": target_test_label_accuracy,\n",
    "        \"target_test_label_loss\": target_test_label_loss,\n",
    "        \"source_val_label_accuracy\": source_val_label_accuracy,\n",
    "        \"source_val_label_loss\": source_val_label_loss,\n",
    "        \"target_val_label_accuracy\": target_val_label_accuracy,\n",
    "        \"target_val_label_loss\": target_val_label_loss,\n",
    "        \"total_epochs_trained\": total_epochs_trained,\n",
    "        \"total_experiment_time_secs\": total_experiment_time_secs,\n",
    "        \"confusion\": confusion,\n",
    "        \"per_domain_accuracy\": per_domain_accuracy,\n",
    "    },\n",
    "    \"history\": history,\n",
    "    \"dataset_metrics\": get_dataset_metrics(datasets, \"ptn\"),\n",
    "}"
   ]
  },
  {
   "cell_type": "code",
   "execution_count": 25,
   "id": "54a21829",
   "metadata": {
    "execution": {
     "iopub.execute_input": "2022-03-17T04:51:06.884808Z",
     "iopub.status.busy": "2022-03-17T04:51:06.884553Z",
     "iopub.status.idle": "2022-03-17T04:51:07.009120Z",
     "shell.execute_reply": "2022-03-17T04:51:07.009534Z"
    },
    "papermill": {
     "duration": 0.154339,
     "end_time": "2022-03-17T04:51:07.009662",
     "exception": false,
     "start_time": "2022-03-17T04:51:06.855323",
     "status": "completed"
    },
    "tags": []
   },
   "outputs": [
    {
     "data": {
      "image/png": "[encoded data removed]",
      "text/plain": [
       "<Figure size 1080x504 with 1 Axes>"
      ]
     },
     "metadata": {
      "needs_background": "light"
     },
     "output_type": "display_data"
    }
   ],
   "source": [
    "ax = get_loss_curve(experiment)\n",
    "plt.show()"
   ]
  },
  {
   "cell_type": "code",
   "execution_count": 26,
   "id": "fd8a0f60",
   "metadata": {
    "execution": {
     "iopub.execute_input": "2022-03-17T04:51:07.072020Z",
     "iopub.status.busy": "2022-03-17T04:51:07.071767Z",
     "iopub.status.idle": "2022-03-17T04:51:07.216084Z",
     "shell.execute_reply": "2022-03-17T04:51:07.215848Z"
    },
    "papermill": {
     "duration": 0.174827,
     "end_time": "2022-03-17T04:51:07.216143",
     "exception": false,
     "start_time": "2022-03-17T04:51:07.041316",
     "status": "completed"
    },
    "tags": []
   },
   "outputs": [
    {
     "data": {
      "text/plain": [
       "<AxesSubplot:title={'center':'Results'}>"
      ]
     },
     "execution_count": 26,
     "metadata": {},
     "output_type": "execute_result"
    },
    {
     "data": {
      "image/png": "[encoded data removed]",
      "text/plain": [
       "<Figure size 1080x504 with 1 Axes>"
      ]
     },
     "metadata": {
      "needs_background": "light"
     },
     "output_type": "display_data"
    }
   ],
   "source": [
    "get_results_table(experiment)"
   ]
  },
  {
   "cell_type": "code",
   "execution_count": 27,
   "id": "cf8dc689",
   "metadata": {
    "execution": {
     "iopub.execute_input": "2022-03-17T04:51:07.276661Z",
     "iopub.status.busy": "2022-03-17T04:51:07.275460Z",
     "iopub.status.idle": "2022-03-17T04:51:07.430241Z",
     "shell.execute_reply": "2022-03-17T04:51:07.430651Z"
    },
    "papermill": {
     "duration": 0.18546,
     "end_time": "2022-03-17T04:51:07.430782",
     "exception": false,
     "start_time": "2022-03-17T04:51:07.245322",
     "status": "completed"
    },
    "tags": []
   },
   "outputs": [
    {
     "data": {
      "text/plain": [
       "<AxesSubplot:title={'center':'Per Domain Validation Accuracy'}, xlabel='domain'>"
      ]
     },
     "execution_count": 27,
     "metadata": {},
     "output_type": "execute_result"
    },
    {
     "data": {
      "image/png": "[encoded data removed]",
      "text/plain": [
       "<Figure size 1080x504 with 1 Axes>"
      ]
     },
     "metadata": {
      "needs_background": "light"
     },
     "output_type": "display_data"
    }
   ],
   "source": [
    "get_domain_accuracies(experiment)"
   ]
  },
  {
   "cell_type": "code",
   "execution_count": 28,
   "id": "a74ae082",
   "metadata": {
    "execution": {
     "iopub.execute_input": "2022-03-17T04:51:07.498322Z",
     "iopub.status.busy": "2022-03-17T04:51:07.498067Z",
     "iopub.status.idle": "2022-03-17T04:51:07.514635Z",
     "shell.execute_reply": "2022-03-17T04:51:07.514140Z"
    },
    "papermill": {
     "duration": 0.048418,
     "end_time": "2022-03-17T04:51:07.514735",
     "exception": false,
     "start_time": "2022-03-17T04:51:07.466317",
     "status": "completed"
    },
    "tags": []
   },
   "outputs": [
    {
     "name": "stdout",
     "output_type": "stream",
     "text": [
      "Source Test Label Accuracy: 0.962007705479452 Target Test Label Accuracy: 0.19908854166666667\n",
      "Source Val Label Accuracy: 0.9657534246575342 Target Val Label Accuracy: 0.1966796875\n"
     ]
    }
   ],
   "source": [
    "print(\"Source Test Label Accuracy:\", experiment[\"results\"][\"source_test_label_accuracy\"], \"Target Test Label Accuracy:\", experiment[\"results\"][\"target_test_label_accuracy\"])\n",
    "print(\"Source Val Label Accuracy:\", experiment[\"results\"][\"source_val_label_accuracy\"], \"Target Val Label Accuracy:\", experiment[\"results\"][\"target_val_label_accuracy\"])"
   ]
  },
  {
   "cell_type": "code",
   "execution_count": 29,
   "id": "dacca602",
   "metadata": {
    "execution": {
     "iopub.execute_input": "2022-03-17T04:51:07.580716Z",
     "iopub.status.busy": "2022-03-17T04:51:07.580057Z",
     "iopub.status.idle": "2022-03-17T04:51:07.598062Z",
     "shell.execute_reply": "2022-03-17T04:51:07.598270Z"
    },
    "papermill": {
     "duration": 0.049137,
     "end_time": "2022-03-17T04:51:07.598342",
     "exception": false,
     "start_time": "2022-03-17T04:51:07.549205",
     "status": "completed"
    },
    "tags": [
     "experiment_json"
    ]
   },
   "outputs": [
    {
     "data": {
      "text/plain": [
       "'{\"experiment_name\": \"cores+wisig -> oracle.run1.framed\", \"parameters\": {\"experiment_name\": \"cores+wisig -> oracle.run1.framed\", \"device\": \"cuda\", \"lr\": 0.001, \"seed\": 1337, \"dataset_seed\": 1337, \"n_shot\": 3, \"n_query\": 2, \"train_k_factor\": 3, \"val_k_factor\": 2, \"test_k_factor\": 2, \"torch_default_dtype\": \"torch.float32\", \"n_epoch\": 50, \"patience\": 3, \"criteria_for_best\": \"target_loss\", \"x_net\": [{\"class\": \"nnReshape\", \"kargs\": {\"shape\": [-1, 1, 2, 256]}}, {\"class\": \"Conv2d\", \"kargs\": {\"in_channels\": 1, \"out_channels\": 256, \"kernel_size\": [1, 7], \"bias\": false, \"padding\": [0, 3]}}, {\"class\": \"ReLU\", \"kargs\": {\"inplace\": true}}, {\"class\": \"BatchNorm2d\", \"kargs\": {\"num_features\": 256}}, {\"class\": \"Conv2d\", \"kargs\": {\"in_channels\": 256, \"out_channels\": 80, \"kernel_size\": [2, 7], \"bias\": true, \"padding\": [0, 3]}}, {\"class\": \"ReLU\", \"kargs\": {\"inplace\": true}}, {\"class\": \"BatchNorm2d\", \"kargs\": {\"num_features\": 80}}, {\"class\": \"Flatten\", \"kargs\": {}}, {\"class\": \"Linear\", \"kargs\": {\"in_features\": 20480, \"out_features\": 256}}, {\"class\": \"ReLU\", \"kargs\": {\"inplace\": true}}, {\"class\": \"BatchNorm1d\", \"kargs\": {\"num_features\": 256}}, {\"class\": \"Linear\", \"kargs\": {\"in_features\": 256, \"out_features\": 256}}], \"NUM_LOGS_PER_EPOCH\": 10, \"BEST_MODEL_PATH\": \"./best_model.pth\", \"n_way\": 16, \"datasets\": [{\"labels\": [\"1-10.\", \"1-11.\", \"1-15.\", \"1-16.\", \"1-17.\", \"1-18.\", \"1-19.\", \"10-4.\", \"10-7.\", \"11-1.\", \"11-14.\", \"11-17.\", \"11-20.\", \"11-7.\", \"13-20.\", \"13-8.\", \"14-10.\", \"14-11.\", \"14-14.\", \"14-7.\", \"15-1.\", \"15-20.\", \"16-1.\", \"16-16.\", \"17-10.\", \"17-11.\", \"17-2.\", \"19-1.\", \"19-16.\", \"19-19.\", \"19-20.\", \"19-3.\", \"2-10.\", \"2-11.\", \"2-17.\", \"2-18.\", \"2-20.\", \"2-3.\", \"2-4.\", \"2-5.\", \"2-6.\", \"2-7.\", \"2-8.\", \"3-13.\", \"3-18.\", \"3-3.\", \"4-1.\", \"4-10.\", \"4-11.\", \"4-19.\", \"5-5.\", \"6-15.\", \"7-10.\", \"7-14.\", \"8-18.\", \"8-20.\", \"8-3.\", \"8-8.\"], \"domains\": [1, 2, 3, 4, 5], \"num_examples_per_domain_per_label\": 100, \"pickle_path\": \"/mnt/wd500GB/CSC500/csc500-main/datasets/cores.stratified_ds.2022A.pkl\", \"source_or_target_dataset\": \"source\", \"x_transforms\": [\"unit_power\"], \"episode_transforms\": [], \"domain_prefix\": \"C_A_\"}, {\"labels\": [\"1-10\", \"1-12\", \"1-14\", \"1-16\", \"1-18\", \"1-19\", \"1-8\", \"10-11\", \"10-17\", \"10-4\", \"10-7\", \"11-1\", \"11-10\", \"11-19\", \"11-20\", \"11-4\", \"11-7\", \"12-19\", \"12-20\", \"12-7\", \"13-14\", \"13-18\", \"13-19\", \"13-20\", \"13-3\", \"13-7\", \"14-10\", \"14-11\", \"14-12\", \"14-13\", \"14-14\", \"14-19\", \"14-20\", \"14-7\", \"14-8\", \"14-9\", \"15-1\", \"15-19\", \"15-6\", \"16-1\", \"16-16\", \"16-19\", \"16-20\", \"17-10\", \"17-11\", \"18-1\", \"18-10\", \"18-11\", \"18-12\", \"18-13\", \"18-14\", \"18-15\", \"18-16\", \"18-17\", \"18-19\", \"18-2\", \"18-20\", \"18-4\", \"18-5\", \"18-7\", \"18-8\", \"18-9\", \"19-1\", \"19-10\", \"19-11\", \"19-12\", \"19-13\", \"19-14\", \"19-15\", \"19-19\", \"19-2\", \"19-20\", \"19-3\", \"19-4\", \"19-6\", \"19-7\", \"19-8\", \"19-9\", \"2-1\", \"2-13\", \"2-15\", \"2-3\", \"2-4\", \"2-5\", \"2-6\", \"2-7\", \"2-8\", \"20-1\", \"20-12\", \"20-14\", \"20-15\", \"20-16\", \"20-18\", \"20-19\", \"20-20\", \"20-3\", \"20-4\", \"20-5\", \"20-7\", \"20-8\", \"3-1\", \"3-13\", \"3-18\", \"3-2\", \"3-8\", \"4-1\", \"4-10\", \"4-11\", \"5-1\", \"5-5\", \"6-1\", \"6-15\", \"6-6\", \"7-10\", \"7-11\", \"7-12\", \"7-13\", \"7-14\", \"7-7\", \"7-8\", \"7-9\", \"8-1\", \"8-13\", \"8-14\", \"8-18\", \"8-20\", \"8-3\", \"8-8\", \"9-1\", \"9-7\"], \"domains\": [1, 2, 3, 4], \"num_examples_per_domain_per_label\": 100, \"pickle_path\": \"/mnt/wd500GB/CSC500/csc500-main/datasets/wisig.node3-19.stratified_ds.2022A.pkl\", \"source_or_target_dataset\": \"source\", \"x_transforms\": [\"unit_power\"], \"episode_transforms\": [], \"domain_prefix\": \"W_A_\"}, {\"labels\": [\"3123D52\", \"3123D65\", \"3123D79\", \"3123D80\", \"3123D54\", \"3123D70\", \"3123D7B\", \"3123D89\", \"3123D58\", \"3123D76\", \"3123D7D\", \"3123EFE\", \"3123D64\", \"3123D78\", \"3123D7E\", \"3124E4A\"], \"domains\": [32, 38, 8, 44, 14, 50, 20, 26], \"num_examples_per_domain_per_label\": 2000, \"pickle_path\": \"/mnt/wd500GB/CSC500/csc500-main/datasets/oracle.Run1_framed_2000Examples_stratified_ds.2022A.pkl\", \"source_or_target_dataset\": \"target\", \"x_transforms\": [\"unit_power\"], \"episode_transforms\": [], \"domain_prefix\": \"ORACLE.run1_\"}], \"domains_source\": [\"C_A_1\", \"C_A_2\", \"C_A_3\", \"C_A_4\", \"C_A_5\", \"W_A_1\", \"W_A_2\", \"W_A_3\", \"W_A_4\"], \"domains_target\": [\"ORACLE.run1_32\", \"ORACLE.run1_38\", \"ORACLE.run1_8\", \"ORACLE.run1_44\", \"ORACLE.run1_14\", \"ORACLE.run1_50\", \"ORACLE.run1_20\", \"ORACLE.run1_26\"]}, \"results\": {\"source_test_label_accuracy\": 0.962007705479452, \"source_test_label_loss\": 0.17204265296459198, \"target_test_label_accuracy\": 0.19908854166666667, \"target_test_label_loss\": 2.434305191040039, \"source_val_label_accuracy\": 0.9657534246575342, \"source_val_label_loss\": 0.16400477290153503, \"target_val_label_accuracy\": 0.1966796875, \"target_val_label_loss\": 2.438568592071533, \"total_epochs_trained\": 6, \"total_experiment_time_secs\": 400.1539041996002, \"confusion\": {\"C_A_3\": {\"43\": {\"43\": 12}, \"9\": {\"9\": 12}, \"6\": {\"6\": 10}, \"3\": {\"3\": 12}, \"16\": {\"16\": 12}, \"51\": {\"51\": 12}, \"31\": {\"31\": 12}, \"46\": {\"46\": 8, \"38\": 2}, \"19\": {\"19\": 8}, \"8\": {\"8\": 12}, \"18\": {\"18\": 12}, \"37\": {\"37\": 12}, \"24\": {\"24\": 12}, \"10\": {\"10\": 12}, \"44\": {\"44\": 10}, \"14\": {\"14\": 8, \"3\": 1, \"31\": 3}, \"38\": {\"38\": 10}, \"53\": {\"53\": 12}, \"20\": {\"20\": 12}, \"32\": {\"32\": 12}, \"36\": {\"36\": 10}, \"33\": {\"33\": 12}, \"56\": {\"56\": 12}, \"23\": {\"23\": 12}, \"54\": {\"54\": 10}, \"34\": {\"34\": 12}, \"13\": {\"13\": 12}, \"2\": {\"2\": 11, \"45\": 1}, \"55\": {\"55\": 10}, \"21\": {\"21\": 10}, \"49\": {\"49\": 10}, \"25\": {\"25\": 12}, \"5\": {\"5\": 12}, \"50\": {\"50\": 8}, \"40\": {\"40\": 12}, \"57\": {\"57\": 8}, \"22\": {\"22\": 10}, \"1\": {\"1\": 10}, \"17\": {\"17\": 12}, \"41\": {\"41\": 12}, \"4\": {\"4\": 9, \"27\": 1}, \"7\": {\"7\": 10}, \"26\": {\"26\": 10}, \"29\": {\"29\": 12}, \"52\": {\"52\": 12}, \"15\": {\"15\": 12}, \"35\": {\"35\": 12}, \"42\": {\"42\": 12}, \"30\": {\"30\": 10}, \"27\": {\"27\": 8}, \"45\": {\"45\": 10}, \"0\": {\"0\": 12}, \"28\": {\"28\": 12}, \"47\": {\"47\": 12}, \"11\": {\"11\": 10}, \"39\": {\"39\": 10}, \"48\": {\"48\": 12}, \"12\": {\"12\": 8}}, \"C_A_4\": {\"35\": {\"35\": 10}, \"25\": {\"25\": 12}, \"24\": {\"24\": 10}, \"48\": {\"48\": 12}, \"51\": {\"51\": 12}, \"13\": {\"13\": 12}, \"14\": {\"14\": 8}, \"32\": {\"32\": 12}, \"30\": {\"30\": 12}, \"34\": {\"34\": 10}, \"9\": {\"9\": 12}, \"1\": {\"1\": 12}, \"0\": {\"0\": 12}, \"38\": {\"38\": 12}, \"22\": {\"22\": 8}, \"40\": {\"40\": 12}, \"39\": {\"39\": 12}, \"46\": {\"46\": 12}, \"36\": {\"36\": 12}, \"50\": {\"50\": 12}, \"49\": {\"49\": 12}, \"17\": {\"17\": 12}, \"45\": {\"45\": 12}, \"6\": {\"6\": 12}, \"8\": {\"8\": 12}, \"5\": {\"5\": 10}, \"33\": {\"33\": 12}, \"31\": {\"31\": 12}, \"37\": {\"37\": 10}, \"47\": {\"47\": 8}, \"15\": {\"15\": 9, \"11\": 1}, \"7\": {\"7\": 12}, \"20\": {\"20\": 12}, \"4\": {\"4\": 12}, \"54\": {\"54\": 12}, \"44\": {\"44\": 12}, \"3\": {\"3\": 11, \"50\": 1}, \"11\": {\"11\": 10}, \"27\": {\"27\": 10}, \"19\": {\"19\": 12}, \"55\": {\"55\": 12}, \"16\": {\"16\": 12}, \"2\": {\"2\": 10}, \"52\": {\"52\": 10}, \"42\": {\"42\": 10}, \"26\": {\"26\": 12}, \"10\": {\"10\": 12}, \"53\": {\"53\": 10}, \"28\": {\"28\": 12}, \"21\": {\"21\": 10}, \"57\": {\"57\": 10}, \"23\": {\"23\": 8}, \"43\": {\"43\": 10}, \"12\": {\"12\": 12}, \"41\": {\"41\": 12}, \"56\": {\"56\": 8}, \"18\": {\"18\": 10}, \"29\": {\"29\": 8}}, \"C_A_5\": {\"47\": {\"47\": 9, \"1\": 1}, \"53\": {\"53\": 12}, \"29\": {\"29\": 12}, \"52\": {\"52\": 12}, \"55\": {\"55\": 12}, \"17\": {\"17\": 12}, \"42\": {\"42\": 12}, \"33\": {\"33\": 10}, \"11\": {\"11\": 11, \"15\": 1}, \"19\": {\"19\": 8}, \"1\": {\"1\": 11, \"48\": 1}, \"44\": {\"44\": 12}, \"49\": {\"49\": 12}, \"4\": {\"4\": 12}, \"6\": {\"6\": 12}, \"39\": {\"39\": 12}, \"13\": {\"13\": 12}, \"5\": {\"5\": 10}, \"16\": {\"16\": 10}, \"25\": {\"25\": 12}, \"45\": {\"45\": 12}, \"7\": {\"7\": 10}, \"22\": {\"22\": 12}, \"40\": {\"40\": 12}, \"38\": {\"38\": 12}, \"35\": {\"35\": 8}, \"56\": {\"56\": 12}, \"50\": {\"50\": 9, \"20\": 1}, \"0\": {\"0\": 12}, \"10\": {\"10\": 12}, \"27\": {\"27\": 12}, \"20\": {\"20\": 10}, \"36\": {\"36\": 8}, \"34\": {\"34\": 12}, \"30\": {\"30\": 12}, \"2\": {\"2\": 10}, \"15\": {\"15\": 10, \"11\": 2}, \"18\": {\"18\": 12}, \"32\": {\"32\": 12}, \"31\": {\"31\": 12}, \"57\": {\"57\": 12}, \"48\": {\"48\": 8}, \"28\": {\"28\": 10}, \"14\": {\"14\": 8, \"31\": 1, \"37\": 3}, \"3\": {\"3\": 12}, \"8\": {\"8\": 12}, \"9\": {\"9\": 12}, \"21\": {\"21\": 10}, \"41\": {\"41\": 12}, \"24\": {\"24\": 12}, \"46\": {\"46\": 10}, \"43\": {\"43\": 10}, \"54\": {\"54\": 10}, \"23\": {\"23\": 10}, \"37\": {\"37\": 10}, \"12\": {\"12\": 10}, \"26\": {\"26\": 10}, \"51\": {\"51\": 6}}, \"W_A_3\": {\"109\": {\"109\": 12}, \"127\": {\"127\": 12}, \"14\": {\"14\": 12}, \"7\": {\"7\": 12}, \"129\": {\"129\": 12}, \"57\": {\"57\": 12}, \"84\": {\"84\": 10, \"62\": 1, \"0\": 1}, \"114\": {\"114\": 12}, \"44\": {\"44\": 11, \"80\": 1}, \"21\": {\"21\": 12}, \"46\": {\"46\": 12}, \"100\": {\"100\": 12}, \"63\": {\"63\": 9, \"114\": 1, \"47\": 1, \"60\": 1}, \"24\": {\"24\": 6, \"21\": 1, \"54\": 2, \"36\": 2, \"118\": 1}, \"107\": {\"107\": 12}, \"35\": {\"7\": 1, \"35\": 8, \"95\": 1}, \"81\": {\"81\": 12}, \"64\": {\"64\": 12}, \"59\": {\"124\": 1, \"59\": 11}, \"33\": {\"33\": 12}, \"34\": {\"34\": 12}, \"36\": {\"36\": 12}, \"79\": {\"79\": 12}, \"80\": {\"80\": 11, \"110\": 1}, \"77\": {\"77\": 12}, \"22\": {\"22\": 12}, \"124\": {\"124\": 12}, \"2\": {\"2\": 12}, \"87\": {\"87\": 11, \"16\": 1}, \"105\": {\"105\": 12}, \"95\": {\"95\": 12}, \"43\": {\"43\": 12}, \"56\": {\"56\": 10}, \"18\": {\"18\": 12}, \"85\": {\"85\": 12}, \"113\": {\"113\": 12}, \"97\": {\"97\": 12}, \"86\": {\"86\": 12}, \"128\": {\"86\": 1, \"128\": 10, \"44\": 1}, \"123\": {\"123\": 12}, \"8\": {\"8\": 11, \"59\": 1}, \"110\": {\"110\": 12}, \"126\": {\"18\": 1, \"126\": 11}, \"101\": {\"101\": 12}, \"115\": {\"115\": 12}, \"49\": {\"49\": 11, \"42\": 1}, \"45\": {\"45\": 12}, \"78\": {\"78\": 11, \"13\": 1}, \"65\": {\"65\": 10}, \"54\": {\"54\": 12}, \"31\": {\"31\": 10}, \"42\": {\"42\": 11, \"101\": 1}, \"68\": {\"68\": 12}, \"15\": {\"15\": 12}, \"69\": {\"69\": 12}, \"17\": {\"102\": 1, \"17\": 7, \"104\": 1, \"18\": 1}, \"73\": {\"73\": 12}, \"121\": {\"121\": 12}, \"102\": {\"102\": 12}, \"48\": {\"48\": 7, \"37\": 1, \"78\": 2, \"22\": 1, \"21\": 1}, \"23\": {\"23\": 10, \"51\": 1, \"71\": 1}, \"108\": {\"108\": 12}, \"53\": {\"53\": 12}, \"94\": {\"94\": 10}, \"41\": {\"41\": 12}, \"58\": {\"58\": 12}, \"29\": {\"29\": 12}, \"116\": {\"116\": 12}, \"60\": {\"60\": 12}, \"104\": {\"104\": 12}, \"106\": {\"106\": 12}, \"66\": {\"66\": 12}, \"47\": {\"47\": 12}, \"40\": {\"40\": 12}, \"82\": {\"82\": 12}, \"13\": {\"13\": 8, \"113\": 3, \"120\": 1}, \"19\": {\"19\": 11, \"29\": 1}, \"72\": {\"72\": 12}, \"9\": {\"9\": 12}, \"67\": {\"67\": 12}, \"11\": {\"11\": 12}, \"125\": {\"125\": 12}, \"76\": {\"76\": 8}, \"83\": {\"83\": 12}, \"74\": {\"74\": 11, \"24\": 1}, \"20\": {\"20\": 12}, \"119\": {\"119\": 12}, \"1\": {\"1\": 12}, \"16\": {\"16\": 12}, \"25\": {\"25\": 11, \"37\": 1}, \"90\": {\"90\": 8}, \"39\": {\"39\": 12}, \"28\": {\"28\": 12}, \"55\": {\"55\": 12}, \"117\": {\"117\": 12}, \"112\": {\"112\": 12}, \"38\": {\"38\": 12}, \"37\": {\"37\": 12}, \"120\": {\"120\": 12}, \"122\": {\"122\": 12}, \"50\": {\"50\": 12}, \"10\": {\"10\": 12}, \"5\": {\"5\": 12}, \"51\": {\"51\": 12}, \"3\": {\"3\": 10, \"70\": 1, \"122\": 1}, \"98\": {\"98\": 11, \"60\": 1}, \"70\": {\"70\": 9, \"49\": 1, \"110\": 1, \"88\": 1}, \"96\": {\"96\": 12}, \"12\": {\"12\": 12}, \"99\": {\"99\": 12}, \"52\": {\"52\": 12}, \"71\": {\"71\": 10, \"82\": 1, \"61\": 1}, \"89\": {\"89\": 12}, \"0\": {\"0\": 12}, \"4\": {\"4\": 9, \"118\": 2, \"101\": 1}, \"93\": {\"93\": 12}, \"6\": {\"6\": 10}, \"75\": {\"75\": 12}, \"62\": {\"62\": 12}, \"103\": {\"103\": 12}, \"30\": {\"30\": 12}, \"91\": {\"91\": 11, \"90\": 1}, \"27\": {\"27\": 12}, \"26\": {\"26\": 12}, \"61\": {\"61\": 12}, \"118\": {\"118\": 12}, \"92\": {\"92\": 12}, \"111\": {\"111\": 12}, \"32\": {\"32\": 12}, \"88\": {\"85\": 1, \"88\": 7, \"20\": 2}}, \"C_A_1\": {\"46\": {\"46\": 12}, \"16\": {\"16\": 12}, \"26\": {\"26\": 12}, \"10\": {\"10\": 12}, \"9\": {\"9\": 10}, \"28\": {\"28\": 12}, \"51\": {\"51\": 12}, \"1\": {\"1\": 12}, \"55\": {\"55\": 12}, \"27\": {\"27\": 10}, \"22\": {\"22\": 11, \"24\": 1}, \"52\": {\"52\": 12}, \"3\": {\"3\": 12}, \"33\": {\"33\": 8}, \"47\": {\"47\": 12}, \"42\": {\"42\": 12}, \"12\": {\"12\": 4}, \"23\": {\"23\": 12}, \"49\": {\"49\": 10}, \"7\": {\"7\": 12}, \"4\": {\"4\": 12}, \"50\": {\"50\": 12}, \"19\": {\"19\": 12}, \"11\": {\"11\": 12}, \"31\": {\"31\": 10}, \"41\": {\"41\": 12}, \"56\": {\"56\": 10}, \"0\": {\"0\": 12}, \"57\": {\"57\": 12}, \"53\": {\"53\": 12}, \"43\": {\"43\": 12}, \"37\": {\"37\": 12}, \"2\": {\"2\": 8}, \"6\": {\"6\": 12}, \"18\": {\"18\": 12}, \"38\": {\"38\": 12}, \"15\": {\"15\": 12}, \"36\": {\"36\": 12}, \"39\": {\"39\": 8}, \"44\": {\"44\": 12}, \"8\": {\"8\": 12}, \"17\": {\"17\": 10}, \"5\": {\"5\": 12}, \"13\": {\"13\": 10}, \"40\": {\"40\": 10}, \"29\": {\"29\": 12}, \"48\": {\"48\": 12}, \"32\": {\"32\": 12}, \"30\": {\"30\": 12}, \"35\": {\"35\": 12}, \"25\": {\"25\": 12}, \"14\": {\"14\": 10, \"30\": 2}, \"54\": {\"54\": 10}, \"20\": {\"20\": 8}, \"21\": {\"21\": 10}, \"45\": {\"45\": 8}, \"24\": {\"24\": 7, \"22\": 1}, \"34\": {\"34\": 8}}, \"W_A_4\": {\"28\": {\"28\": 12}, \"4\": {\"4\": 12}, \"72\": {\"72\": 12}, \"111\": {\"111\": 12}, \"108\": {\"108\": 11, \"73\": 1}, \"43\": {\"43\": 10}, \"96\": {\"96\": 12}, \"89\": {\"89\": 12}, \"31\": {\"31\": 12}, \"45\": {\"45\": 12}, \"2\": {\"2\": 11, \"63\": 1}, \"114\": {\"114\": 12}, \"11\": {\"11\": 12}, \"12\": {\"12\": 12}, \"14\": {\"14\": 12}, \"90\": {\"90\": 12}, \"10\": {\"10\": 10, \"36\": 1, \"94\": 1}, \"63\": {\"123\": 1, \"63\": 10, \"101\": 1}, \"85\": {\"85\": 11, \"12\": 1}, \"64\": {\"64\": 12}, \"82\": {\"82\": 10, \"89\": 1, \"63\": 1}, \"58\": {\"58\": 12}, \"3\": {\"3\": 12}, \"54\": {\"54\": 12}, \"121\": {\"121\": 11, \"48\": 1}, \"42\": {\"42\": 12}, \"98\": {\"98\": 12}, \"123\": {\"123\": 12}, \"91\": {\"91\": 11, \"42\": 1}, \"66\": {\"66\": 12}, \"102\": {\"102\": 12}, \"122\": {\"122\": 11, \"43\": 1}, \"1\": {\"1\": 12}, \"15\": {\"15\": 12}, \"97\": {\"15\": 2, \"97\": 9, \"101\": 1}, \"75\": {\"75\": 12}, \"95\": {\"95\": 12}, \"57\": {\"57\": 12}, \"68\": {\"68\": 12}, \"125\": {\"125\": 12}, \"62\": {\"62\": 10}, \"27\": {\"27\": 9, \"10\": 1, \"88\": 1, \"100\": 1}, \"120\": {\"120\": 11, \"103\": 1}, \"26\": {\"26\": 12}, \"55\": {\"55\": 12}, \"71\": {\"71\": 11, \"14\": 1}, \"22\": {\"22\": 12}, \"99\": {\"99\": 10, \"51\": 1, \"43\": 1}, \"84\": {\"84\": 10, \"103\": 1, \"0\": 1}, \"37\": {\"37\": 12}, \"83\": {\"83\": 12}, \"46\": {\"46\": 12}, \"35\": {\"35\": 12}, \"13\": {\"13\": 12}, \"53\": {\"53\": 10, \"88\": 1, \"0\": 1}, \"127\": {\"127\": 12}, \"69\": {\"97\": 1, \"69\": 10, \"77\": 1}, \"48\": {\"48\": 9, \"74\": 2, \"88\": 1}, \"16\": {\"16\": 12}, \"0\": {\"0\": 12}, \"8\": {\"8\": 10, \"53\": 1, \"100\": 1}, \"9\": {\"9\": 12}, \"115\": {\"115\": 11, \"128\": 1}, \"70\": {\"53\": 2, \"70\": 7, \"78\": 1, \"100\": 1, \"8\": 1}, \"119\": {\"119\": 12}, \"59\": {\"59\": 12}, \"52\": {\"52\": 12}, \"60\": {\"60\": 6, \"99\": 2, \"19\": 2, \"119\": 1, \"88\": 1}, \"44\": {\"44\": 11, \"90\": 1}, \"51\": {\"51\": 5, \"95\": 1, \"48\": 1, \"111\": 1, \"47\": 1, \"70\": 1, \"100\": 1, \"94\": 1}, \"6\": {\"59\": 2, \"6\": 9, \"34\": 1}, \"73\": {\"73\": 12}, \"78\": {\"50\": 1, \"78\": 9, \"87\": 1, \"33\": 1}, \"92\": {\"92\": 12}, \"20\": {\"20\": 11, \"5\": 1}, \"17\": {\"17\": 12}, \"74\": {\"74\": 12}, \"19\": {\"19\": 12}, \"50\": {\"50\": 12}, \"34\": {\"34\": 10, \"119\": 1, \"59\": 1}, \"104\": {\"104\": 8}, \"33\": {\"33\": 9, \"102\": 1, \"105\": 1, \"100\": 1}, \"5\": {\"5\": 12}, \"7\": {\"7\": 11, \"0\": 1}, \"29\": {\"29\": 12}, \"25\": {\"25\": 12}, \"124\": {\"124\": 12}, \"117\": {\"117\": 10, \"59\": 1, \"12\": 1}, \"88\": {\"88\": 10, \"14\": 1, \"71\": 1}, \"61\": {\"61\": 11, \"96\": 1}, \"86\": {\"86\": 12}, \"116\": {\"116\": 12}, \"24\": {\"24\": 10, \"36\": 2}, \"128\": {\"128\": 10, \"2\": 1, \"20\": 1}, \"101\": {\"101\": 12}, \"65\": {\"65\": 9, \"23\": 1}, \"36\": {\"24\": 3, \"36\": 9}, \"21\": {\"21\": 11, \"113\": 1}, \"106\": {\"106\": 12}, \"118\": {\"118\": 10, \"103\": 1, \"88\": 1}, \"113\": {\"113\": 10, \"123\": 1, \"39\": 1}, \"40\": {\"40\": 12}, \"93\": {\"93\": 7, \"110\": 1}, \"94\": {\"94\": 10, \"36\": 2}, \"103\": {\"103\": 8, \"49\": 3, \"5\": 1}, \"110\": {\"110\": 12}, \"56\": {\"56\": 12}, \"39\": {\"39\": 12}, \"109\": {\"31\": 1, \"109\": 10, \"118\": 1}, \"67\": {\"67\": 11, \"27\": 1}, \"129\": {\"129\": 12}, \"30\": {\"30\": 11, \"111\": 1}, \"126\": {\"126\": 9, \"23\": 1, \"65\": 1, \"108\": 1}, \"87\": {\"100\": 1, \"87\": 11}, \"112\": {\"112\": 12}, \"100\": {\"100\": 12}, \"79\": {\"79\": 10}, \"81\": {\"81\": 11, \"12\": 1}, \"76\": {\"76\": 10}, \"47\": {\"47\": 11, \"100\": 1}, \"77\": {\"77\": 12}, \"23\": {\"23\": 6, \"93\": 1, \"5\": 1, \"110\": 1, \"120\": 1, \"53\": 1, \"78\": 1}, \"18\": {\"18\": 12}, \"49\": {\"49\": 12}, \"41\": {\"41\": 11, \"47\": 1}, \"32\": {\"32\": 12}, \"107\": {\"107\": 10}, \"80\": {\"80\": 11, \"18\": 1}, \"105\": {\"105\": 7, \"87\": 2, \"16\": 1}, \"38\": {\"38\": 10}}, \"W_A_1\": {\"108\": {\"108\": 10}, \"40\": {\"40\": 12}, \"68\": {\"68\": 12}, \"23\": {\"23\": 10, \"86\": 1, \"60\": 1}, \"26\": {\"108\": 1, \"26\": 11}, \"64\": {\"64\": 12}, \"22\": {\"22\": 12}, \"3\": {\"3\": 11, \"23\": 1}, \"4\": {\"4\": 11, \"26\": 1}, \"70\": {\"70\": 12}, \"57\": {\"57\": 12}, \"79\": {\"79\": 12}, \"9\": {\"9\": 12}, \"89\": {\"89\": 12}, \"110\": {\"110\": 12}, \"102\": {\"102\": 12}, \"31\": {\"31\": 12}, \"58\": {\"58\": 12}, \"47\": {\"47\": 12}, \"24\": {\"24\": 11, \"88\": 1}, \"19\": {\"19\": 12}, \"11\": {\"11\": 12}, \"52\": {\"52\": 12}, \"17\": {\"17\": 12}, \"25\": {\"25\": 12}, \"69\": {\"69\": 12}, \"96\": {\"96\": 12}, \"109\": {\"109\": 12}, \"115\": {\"115\": 12}, \"83\": {\"83\": 11, \"94\": 1}, \"84\": {\"84\": 12}, \"119\": {\"119\": 10}, \"122\": {\"122\": 10}, \"99\": {\"99\": 12}, \"1\": {\"1\": 12}, \"74\": {\"74\": 10, \"65\": 1, \"34\": 1}, \"85\": {\"85\": 12}, \"127\": {\"127\": 12}, \"111\": {\"111\": 12}, \"53\": {\"53\": 12}, \"88\": {\"88\": 10, \"36\": 2}, \"65\": {\"65\": 7, \"60\": 1, \"95\": 1, \"83\": 1}, \"7\": {\"7\": 12}, \"16\": {\"16\": 11, \"95\": 1}, \"128\": {\"128\": 11, \"84\": 1}, \"34\": {\"34\": 10, \"28\": 1, \"71\": 1}, \"129\": {\"129\": 12}, \"43\": {\"43\": 12}, \"92\": {\"92\": 12}, \"28\": {\"28\": 12}, \"27\": {\"27\": 12}, \"114\": {\"114\": 12}, \"73\": {\"73\": 12}, \"0\": {\"0\": 12}, \"104\": {\"104\": 12}, \"118\": {\"118\": 12}, \"41\": {\"41\": 12}, \"49\": {\"49\": 11, \"72\": 1}, \"14\": {\"14\": 12}, \"46\": {\"14\": 1, \"46\": 7, \"97\": 1, \"12\": 2, \"83\": 1}, \"33\": {\"33\": 12}, \"76\": {\"76\": 12}, \"125\": {\"125\": 12}, \"86\": {\"86\": 10}, \"66\": {\"66\": 10, \"61\": 1, \"96\": 1}, \"5\": {\"5\": 12}, \"117\": {\"117\": 12}, \"75\": {\"75\": 12}, \"61\": {\"61\": 12}, \"50\": {\"50\": 11, \"60\": 1}, \"67\": {\"67\": 10}, \"18\": {\"18\": 12}, \"98\": {\"98\": 12}, \"55\": {\"55\": 10}, \"32\": {\"32\": 12}, \"120\": {\"120\": 12}, \"97\": {\"97\": 11, \"24\": 1}, \"126\": {\"126\": 12}, \"45\": {\"104\": 1, \"45\": 7, \"124\": 2, \"6\": 2}, \"78\": {\"78\": 8, \"43\": 2}, \"100\": {\"100\": 12}, \"107\": {\"107\": 12}, \"93\": {\"93\": 12}, \"77\": {\"77\": 12}, \"63\": {\"63\": 12}, \"112\": {\"112\": 12}, \"113\": {\"113\": 12}, \"103\": {\"103\": 10}, \"71\": {\"71\": 12}, \"30\": {\"30\": 12}, \"90\": {\"90\": 12}, \"37\": {\"103\": 1, \"37\": 11}, \"60\": {\"60\": 10, \"63\": 1, \"70\": 1}, \"15\": {\"15\": 10, \"111\": 1, \"27\": 1}, \"39\": {\"39\": 12}, \"72\": {\"72\": 12}, \"54\": {\"54\": 12}, \"35\": {\"35\": 12}, \"2\": {\"2\": 12}, \"94\": {\"94\": 11, \"60\": 1}, \"42\": {\"42\": 11, \"109\": 1}, \"81\": {\"81\": 12}, \"8\": {\"8\": 12}, \"87\": {\"87\": 12}, \"6\": {\"6\": 12}, \"36\": {\"36\": 9, \"88\": 1, \"24\": 2}, \"91\": {\"91\": 11, \"42\": 1}, \"56\": {\"56\": 12}, \"80\": {\"80\": 11, \"18\": 1}, \"124\": {\"124\": 10}, \"44\": {\"44\": 12}, \"13\": {\"13\": 12}, \"10\": {\"10\": 10, \"21\": 1, \"13\": 1}, \"59\": {\"59\": 10, \"123\": 2}, \"95\": {\"95\": 12}, \"105\": {\"105\": 11, \"66\": 1}, \"101\": {\"101\": 12}, \"20\": {\"20\": 12}, \"48\": {\"48\": 11, \"123\": 1}, \"106\": {\"106\": 12}, \"51\": {\"51\": 12}, \"21\": {\"21\": 10, \"84\": 1, \"70\": 1}, \"123\": {\"123\": 12}, \"121\": {\"121\": 11, \"116\": 1}, \"38\": {\"38\": 12}, \"62\": {\"62\": 12}, \"29\": {\"29\": 12}, \"82\": {\"82\": 12}, \"116\": {\"116\": 12}, \"12\": {\"12\": 8}}, \"W_A_2\": {\"91\": {\"91\": 12}, \"12\": {\"12\": 10, \"97\": 1, \"9\": 1}, \"101\": {\"101\": 10}, \"121\": {\"121\": 11, \"72\": 1}, \"118\": {\"118\": 12}, \"10\": {\"10\": 12}, \"117\": {\"117\": 12}, \"110\": {\"110\": 11, \"101\": 1}, \"97\": {\"97\": 8, \"88\": 1, \"106\": 2, \"2\": 1}, \"28\": {\"106\": 1, \"28\": 7, \"41\": 1, \"42\": 1, \"119\": 1, \"96\": 1}, \"88\": {\"88\": 12}, \"17\": {\"17\": 11, \"106\": 1}, \"126\": {\"126\": 12}, \"33\": {\"33\": 12}, \"86\": {\"86\": 12}, \"106\": {\"106\": 12}, \"54\": {\"54\": 12}, \"125\": {\"125\": 12}, \"83\": {\"83\": 12}, \"98\": {\"98\": 12}, \"11\": {\"11\": 11, \"2\": 1}, \"32\": {\"32\": 12}, \"42\": {\"42\": 12}, \"103\": {\"103\": 12}, \"87\": {\"87\": 11, \"23\": 1}, \"61\": {\"106\": 1, \"61\": 10, \"81\": 1}, \"13\": {\"13\": 12}, \"4\": {\"4\": 12}, \"15\": {\"15\": 10}, \"120\": {\"120\": 12}, \"80\": {\"80\": 12}, \"72\": {\"72\": 10}, \"64\": {\"64\": 12}, \"81\": {\"81\": 12}, \"102\": {\"102\": 12}, \"76\": {\"76\": 12}, \"49\": {\"49\": 8, \"126\": 1, \"106\": 1}, \"129\": {\"129\": 11, \"73\": 1}, \"89\": {\"89\": 12}, \"52\": {\"52\": 12}, \"35\": {\"35\": 12}, \"53\": {\"53\": 12}, \"112\": {\"9\": 1, \"112\": 8, \"3\": 1, \"126\": 1, \"25\": 1}, \"105\": {\"105\": 12}, \"100\": {\"100\": 12}, \"9\": {\"9\": 12}, \"82\": {\"82\": 12}, \"51\": {\"51\": 11, \"77\": 1}, \"21\": {\"21\": 12}, \"92\": {\"92\": 11, \"117\": 1}, \"69\": {\"69\": 12}, \"77\": {\"77\": 12}, \"50\": {\"50\": 11, \"13\": 1}, \"36\": {\"36\": 12}, \"16\": {\"16\": 10, \"24\": 1, \"9\": 1}, \"8\": {\"18\": 1, \"8\": 10, \"120\": 1}, \"127\": {\"127\": 12}, \"46\": {\"46\": 10}, \"84\": {\"84\": 12}, \"18\": {\"18\": 12}, \"123\": {\"123\": 9, \"19\": 1}, \"56\": {\"56\": 11, \"15\": 1}, \"26\": {\"26\": 12}, \"14\": {\"111\": 1, \"14\": 9, \"43\": 1, \"2\": 1}, \"109\": {\"109\": 12}, \"66\": {\"66\": 12}, \"24\": {\"24\": 10, \"36\": 1, \"28\": 1}, \"71\": {\"109\": 1, \"71\": 11}, \"65\": {\"65\": 10, \"20\": 1, \"47\": 1}, \"75\": {\"75\": 11, \"106\": 1}, \"111\": {\"111\": 12}, \"30\": {\"30\": 11, \"42\": 1}, \"85\": {\"85\": 12}, \"113\": {\"113\": 9, \"21\": 1}, \"45\": {\"45\": 12}, \"29\": {\"29\": 11, \"21\": 1}, \"20\": {\"20\": 12}, \"25\": {\"25\": 12}, \"0\": {\"0\": 10, \"101\": 2}, \"68\": {\"68\": 12}, \"119\": {\"119\": 12}, \"90\": {\"90\": 12}, \"38\": {\"38\": 12}, \"99\": {\"99\": 12}, \"1\": {\"1\": 12}, \"67\": {\"67\": 10, \"51\": 1, \"20\": 1}, \"63\": {\"63\": 12}, \"34\": {\"34\": 12}, \"108\": {\"108\": 12}, \"40\": {\"40\": 12}, \"47\": {\"47\": 11, \"51\": 1}, \"37\": {\"37\": 12}, \"78\": {\"78\": 12}, \"96\": {\"96\": 12}, \"43\": {\"43\": 10, \"21\": 1, \"70\": 1}, \"5\": {\"5\": 10}, \"124\": {\"124\": 12}, \"44\": {\"44\": 12}, \"41\": {\"41\": 11, \"47\": 1}, \"116\": {\"116\": 12}, \"19\": {\"19\": 12}, \"115\": {\"115\": 12}, \"95\": {\"95\": 11, \"126\": 1}, \"3\": {\"3\": 10}, \"59\": {\"59\": 11, \"51\": 1}, \"55\": {\"55\": 12}, \"70\": {\"70\": 12}, \"6\": {\"6\": 10, \"49\": 2}, \"2\": {\"2\": 12}, \"48\": {\"48\": 12}, \"23\": {\"23\": 8, \"19\": 1, \"129\": 1, \"68\": 1, \"70\": 1}, \"7\": {\"7\": 12}, \"122\": {\"122\": 12}, \"57\": {\"57\": 10, \"42\": 1, \"59\": 1}, \"39\": {\"39\": 9, \"108\": 1}, \"79\": {\"79\": 12}, \"27\": {\"27\": 10}, \"74\": {\"74\": 9, \"45\": 1, \"114\": 1, \"51\": 1}, \"73\": {\"73\": 12}, \"62\": {\"62\": 12}, \"107\": {\"107\": 12}, \"128\": {\"128\": 12}, \"60\": {\"60\": 11, \"19\": 1}, \"114\": {\"114\": 12}, \"22\": {\"22\": 12}, \"93\": {\"93\": 12}, \"94\": {\"94\": 11, \"12\": 1}, \"31\": {\"31\": 10}, \"104\": {\"104\": 12}, \"58\": {\"58\": 11, \"59\": 1}}, \"C_A_2\": {\"14\": {\"14\": 11, \"31\": 1}, \"22\": {\"22\": 12}, \"9\": {\"9\": 12}, \"47\": {\"47\": 12}, \"13\": {\"13\": 12}, \"8\": {\"8\": 12}, \"7\": {\"7\": 12}, \"49\": {\"49\": 12}, \"20\": {\"20\": 12}, \"16\": {\"16\": 12}, \"34\": {\"34\": 12}, \"56\": {\"56\": 12}, \"38\": {\"38\": 10}, \"4\": {\"4\": 12}, \"43\": {\"43\": 10}, \"26\": {\"26\": 10}, \"35\": {\"35\": 12}, \"31\": {\"31\": 12}, \"1\": {\"1\": 12}, \"39\": {\"39\": 12}, \"5\": {\"5\": 12}, \"24\": {\"24\": 12}, \"54\": {\"54\": 10}, \"23\": {\"23\": 12}, \"51\": {\"51\": 12}, \"27\": {\"27\": 10}, \"15\": {\"15\": 12}, \"0\": {\"0\": 12}, \"19\": {\"19\": 10}, \"18\": {\"18\": 8}, \"30\": {\"30\": 12}, \"55\": {\"55\": 10}, \"57\": {\"57\": 12}, \"2\": {\"2\": 12}, \"12\": {\"12\": 8}, \"41\": {\"41\": 12}, \"42\": {\"42\": 12}, \"48\": {\"48\": 12}, \"37\": {\"37\": 12}, \"6\": {\"6\": 10}, \"11\": {\"11\": 10}, \"45\": {\"45\": 8}, \"21\": {\"21\": 12}, \"46\": {\"46\": 10}, \"25\": {\"25\": 12}, \"36\": {\"36\": 10}, \"53\": {\"53\": 12}, \"28\": {\"28\": 12}, \"40\": {\"40\": 10}, \"33\": {\"33\": 10}, \"44\": {\"44\": 10}, \"3\": {\"3\": 12}, \"17\": {\"17\": 12}, \"32\": {\"32\": 10}, \"10\": {\"10\": 10}, \"52\": {\"52\": 10}, \"50\": {\"50\": 8}, \"29\": {\"29\": 6}}, \"ORACLE.run1_14\": {\"15\": {\"2\": 23, \"15\": 50, \"7\": 36, \"5\": 29, \"14\": 12, \"4\": 14, \"1\": 28, \"3\": 12, \"10\": 9, \"13\": 13, \"6\": 11, \"0\": 3}, \"3\": {\"13\": 8, \"4\": 23, \"3\": 30, \"1\": 16, \"15\": 14, \"5\": 26, \"2\": 14, \"7\": 24, \"11\": 14, \"10\": 23, \"6\": 12, \"0\": 18, \"9\": 8, \"14\": 9, \"8\": 1}, \"6\": {\"2\": 26, \"14\": 45, \"6\": 42, \"15\": 14, \"13\": 51, \"1\": 2, \"4\": 10, \"10\": 21, \"0\": 5, \"5\": 9, \"3\": 12, \"11\": 2, \"7\": 1}, \"1\": {\"0\": 19, \"1\": 36, \"4\": 28, \"7\": 27, \"11\": 4, \"15\": 20, \"3\": 28, \"5\": 34, \"9\": 6, \"8\": 6, \"10\": 11, \"13\": 5, \"2\": 12, \"14\": 2, \"6\": 2}, \"8\": {\"8\": 89, \"0\": 16, \"1\": 17, \"9\": 44, \"4\": 13, \"7\": 16, \"3\": 6, \"12\": 26, \"5\": 3, \"10\": 4, \"11\": 4, \"15\": 1, \"2\": 1}, \"10\": {\"10\": 26, \"0\": 21, \"6\": 8, \"3\": 33, \"14\": 15, \"11\": 23, \"4\": 29, \"13\": 14, \"1\": 13, \"5\": 16, \"2\": 18, \"15\": 8, \"9\": 4, \"8\": 1, \"7\": 8, \"12\": 3}, \"9\": {\"12\": 55, \"9\": 62, \"3\": 8, \"4\": 9, \"5\": 7, \"8\": 36, \"11\": 23, \"0\": 24, \"7\": 3, \"10\": 7, \"1\": 6}, \"13\": {\"4\": 9, \"10\": 14, \"6\": 39, \"14\": 49, \"3\": 13, \"15\": 10, \"13\": 34, \"2\": 39, \"5\": 12, \"1\": 5, \"7\": 7, \"11\": 4, \"0\": 5}, \"12\": {\"9\": 78, \"8\": 38, \"11\": 22, \"12\": 85, \"0\": 9, \"1\": 1, \"10\": 4, \"5\": 1, \"4\": 1, \"3\": 1}, \"5\": {\"0\": 21, \"5\": 31, \"13\": 10, \"7\": 25, \"15\": 14, \"4\": 25, \"14\": 10, \"3\": 27, \"1\": 28, \"10\": 20, \"2\": 14, \"11\": 6, \"6\": 7, \"8\": 2}, \"0\": {\"10\": 28, \"8\": 6, \"0\": 32, \"4\": 19, \"15\": 8, \"7\": 14, \"9\": 17, \"12\": 11, \"3\": 22, \"11\": 30, \"14\": 10, \"1\": 14, \"5\": 14, \"2\": 5, \"13\": 7, \"6\": 3}, \"2\": {\"14\": 33, \"5\": 21, \"10\": 10, \"6\": 36, \"11\": 5, \"15\": 10, \"2\": 39, \"4\": 9, \"13\": 29, \"1\": 12, \"0\": 13, \"7\": 5, \"3\": 18}, \"11\": {\"11\": 50, \"10\": 26, \"3\": 16, \"4\": 10, \"2\": 9, \"5\": 12, \"14\": 9, \"0\": 35, \"9\": 25, \"13\": 8, \"12\": 21, \"7\": 5, \"1\": 6, \"15\": 1, \"6\": 3, \"8\": 4}, \"14\": {\"4\": 11, \"6\": 30, \"10\": 20, \"7\": 8, \"3\": 17, \"14\": 50, \"13\": 37, \"15\": 13, \"11\": 6, \"2\": 23, \"5\": 13, \"0\": 9, \"8\": 1, \"1\": 2}, \"7\": {\"15\": 33, \"1\": 33, \"4\": 31, \"0\": 9, \"8\": 7, \"2\": 18, \"10\": 11, \"7\": 40, \"3\": 17, \"5\": 27, \"13\": 5, \"14\": 7, \"6\": 2}, \"4\": {\"1\": 24, \"2\": 18, \"9\": 6, \"5\": 25, \"10\": 24, \"4\": 29, \"7\": 35, \"15\": 14, \"13\": 9, \"14\": 7, \"3\": 23, \"0\": 16, \"6\": 3, \"8\": 2, \"11\": 4, \"12\": 1}}, \"ORACLE.run1_20\": {\"3\": {\"1\": 18, \"9\": 32, \"2\": 15, \"13\": 22, \"5\": 22, \"8\": 10, \"14\": 7, \"10\": 4, \"15\": 16, \"12\": 19, \"3\": 21, \"6\": 11, \"7\": 12, \"11\": 5, \"4\": 10, \"0\": 16}, \"15\": {\"9\": 20, \"0\": 26, \"11\": 10, \"13\": 24, \"2\": 23, \"8\": 1, \"15\": 33, \"5\": 22, \"1\": 19, \"12\": 20, \"3\": 20, \"6\": 5, \"7\": 11, \"10\": 2, \"4\": 4}, \"8\": {\"3\": 18, \"0\": 18, \"8\": 32, \"5\": 12, \"4\": 23, \"14\": 25, \"10\": 19, \"12\": 9, \"6\": 19, \"2\": 10, \"7\": 24, \"9\": 8, \"11\": 2, \"15\": 12, \"13\": 5, \"1\": 4}, \"4\": {\"5\": 10, \"2\": 11, \"10\": 36, \"4\": 32, \"12\": 10, \"0\": 12, \"9\": 21, \"8\": 17, \"3\": 15, \"14\": 21, \"13\": 6, \"15\": 4, \"7\": 16, \"11\": 3, \"6\": 21, \"1\": 5}, \"14\": {\"6\": 30, \"10\": 41, \"4\": 32, \"8\": 30, \"12\": 11, \"14\": 52, \"9\": 8, \"5\": 9, \"15\": 2, \"11\": 2, \"3\": 8, \"2\": 5, \"7\": 7, \"0\": 3}, \"0\": {\"3\": 21, \"9\": 19, \"7\": 17, \"0\": 17, \"2\": 16, \"1\": 15, \"4\": 13, \"13\": 22, \"5\": 27, \"15\": 22, \"12\": 15, \"10\": 3, \"11\": 14, \"8\": 8, \"6\": 10, \"14\": 1}, \"7\": {\"3\": 21, \"5\": 18, \"15\": 12, \"2\": 21, \"13\": 18, \"6\": 18, \"11\": 8, \"12\": 19, \"4\": 15, \"1\": 21, \"8\": 17, \"0\": 8, \"9\": 10, \"7\": 20, \"10\": 7, \"14\": 7}, \"6\": {\"14\": 38, \"6\": 31, \"10\": 33, \"5\": 6, \"7\": 17, \"4\": 27, \"8\": 29, \"0\": 6, \"9\": 11, \"3\": 11, \"2\": 9, \"15\": 7, \"1\": 3, \"11\": 2, \"12\": 9, \"13\": 1}, \"10\": {\"0\": 7, \"10\": 48, \"7\": 9, \"14\": 32, \"5\": 10, \"4\": 35, \"3\": 13, \"15\": 1, \"12\": 5, \"8\": 33, \"6\": 36, \"9\": 5, \"2\": 4, \"13\": 1, \"1\": 1}, \"5\": {\"3\": 20, \"8\": 12, \"5\": 23, \"9\": 24, \"1\": 21, \"14\": 8, \"15\": 26, \"13\": 19, \"12\": 13, \"0\": 15, \"7\": 19, \"4\": 2, \"6\": 8, \"11\": 9, \"2\": 17, \"10\": 4}, \"2\": {\"1\": 21, \"14\": 1, \"15\": 33, \"7\": 13, \"13\": 17, \"9\": 22, \"0\": 12, \"12\": 26, \"3\": 23, \"10\": 4, \"6\": 4, \"5\": 13, \"11\": 15, \"8\": 12, \"2\": 16, \"4\": 8}, \"12\": {\"8\": 11, \"9\": 24, \"15\": 20, \"13\": 18, \"10\": 5, \"1\": 20, \"2\": 21, \"12\": 18, \"7\": 19, \"6\": 10, \"14\": 3, \"3\": 30, \"11\": 7, \"4\": 6, \"5\": 14, \"0\": 14}, \"9\": {\"3\": 19, \"9\": 21, \"15\": 27, \"2\": 18, \"10\": 3, \"7\": 27, \"11\": 14, \"12\": 19, \"5\": 18, \"14\": 6, \"6\": 9, \"4\": 5, \"13\": 21, \"1\": 14, \"0\": 17, \"8\": 2}, \"1\": {\"5\": 19, \"9\": 18, \"13\": 25, \"15\": 21, \"1\": 23, \"3\": 19, \"11\": 16, \"12\": 23, \"2\": 25, \"0\": 15, \"6\": 2, \"8\": 8, \"7\": 12, \"14\": 2, \"4\": 7, \"10\": 5}, \"11\": {\"0\": 14, \"11\": 52, \"7\": 22, \"1\": 17, \"9\": 14, \"2\": 18, \"15\": 15, \"12\": 17, \"13\": 28, \"14\": 2, \"3\": 15, \"5\": 9, \"6\": 2, \"8\": 10, \"10\": 3, \"4\": 2}, \"13\": {\"2\": 17, \"13\": 31, \"1\": 23, \"9\": 31, \"15\": 26, \"11\": 26, \"12\": 20, \"7\": 9, \"3\": 14, \"0\": 16, \"5\": 19, \"6\": 2, \"14\": 2, \"8\": 2, \"10\": 2}}, \"ORACLE.run1_38\": {\"5\": {\"9\": 12, \"3\": 21, \"13\": 18, \"5\": 32, \"0\": 25, \"15\": 28, \"8\": 21, \"2\": 10, \"6\": 23, \"7\": 19, \"1\": 11, \"14\": 6, \"10\": 13, \"12\": 1}, \"8\": {\"8\": 28, \"14\": 13, \"15\": 22, \"13\": 14, \"3\": 22, \"5\": 27, \"2\": 9, \"9\": 6, \"10\": 31, \"0\": 21, \"6\": 9, \"1\": 8, \"7\": 24, \"11\": 4, \"12\": 2}, \"11\": {\"11\": 72, \"14\": 59, \"12\": 29, \"15\": 3, \"5\": 3, \"10\": 26, \"4\": 15, \"8\": 5, \"13\": 5, \"3\": 1, \"0\": 7, \"2\": 10, \"7\": 5}, \"1\": {\"5\": 21, \"3\": 11, \"15\": 36, \"8\": 8, \"1\": 68, \"6\": 28, \"2\": 15, \"13\": 29, \"9\": 17, \"10\": 4, \"14\": 3}, \"10\": {\"10\": 35, \"0\": 26, \"13\": 14, \"3\": 10, \"11\": 24, \"14\": 24, \"7\": 23, \"8\": 22, \"2\": 24, \"15\": 13, \"5\": 12, \"9\": 2, \"6\": 3, \"12\": 4, \"4\": 2, \"1\": 2}, \"15\": {\"8\": 18, \"13\": 34, \"10\": 7, \"15\": 36, \"1\": 28, \"3\": 7, \"5\": 28, \"0\": 9, \"9\": 14, \"2\": 29, \"11\": 5, \"14\": 11, \"6\": 11, \"7\": 3}, \"3\": {\"7\": 31, \"6\": 25, \"9\": 31, \"15\": 9, \"5\": 25, \"12\": 1, \"3\": 54, \"1\": 11, \"13\": 4, \"0\": 25, \"10\": 6, \"8\": 14, \"11\": 1, \"14\": 1, \"2\": 1, \"4\": 1}, \"7\": {\"5\": 24, \"8\": 27, \"0\": 44, \"10\": 30, \"7\": 56, \"3\": 20, \"14\": 9, \"2\": 4, \"12\": 9, \"15\": 2, \"11\": 7, \"6\": 1, \"9\": 3, \"4\": 3, \"13\": 1}, \"4\": {\"12\": 85, \"4\": 115, \"14\": 6, \"7\": 9, \"10\": 6, \"11\": 15, \"8\": 1, \"0\": 2, \"5\": 1}, \"14\": {\"11\": 54, \"12\": 17, \"14\": 70, \"7\": 10, \"2\": 16, \"5\": 3, \"10\": 29, \"0\": 9, \"8\": 9, \"15\": 9, \"4\": 3, \"13\": 8, \"6\": 2, \"9\": 1}, \"9\": {\"9\": 57, \"15\": 14, \"5\": 17, \"13\": 17, \"6\": 46, \"8\": 8, \"1\": 26, \"3\": 42, \"0\": 8, \"7\": 3, \"10\": 1, \"2\": 1}, \"12\": {\"4\": 59, \"12\": 105, \"7\": 11, \"11\": 21, \"10\": 16, \"3\": 1, \"14\": 20, \"8\": 2, \"0\": 4, \"5\": 1}, \"6\": {\"1\": 31, \"6\": 56, \"13\": 22, \"8\": 7, \"10\": 5, \"9\": 46, \"3\": 15, \"15\": 25, \"5\": 24, \"14\": 1, \"0\": 4, \"2\": 4}, \"2\": {\"8\": 25, \"13\": 27, \"2\": 63, \"1\": 17, \"10\": 19, \"5\": 11, \"6\": 2, \"14\": 30, \"15\": 20, \"0\": 9, \"11\": 13, \"9\": 3, \"12\": 1}, \"0\": {\"3\": 23, \"10\": 18, \"7\": 27, \"13\": 11, \"8\": 32, \"0\": 38, \"1\": 6, \"14\": 12, \"2\": 4, \"5\": 19, \"9\": 9, \"15\": 18, \"12\": 7, \"11\": 5, \"6\": 8, \"4\": 3}, \"13\": {\"15\": 36, \"14\": 9, \"13\": 35, \"2\": 42, \"8\": 14, \"0\": 6, \"9\": 15, \"6\": 17, \"5\": 14, \"1\": 34, \"10\": 10, \"3\": 5, \"11\": 2, \"7\": 1}}, \"ORACLE.run1_8\": {\"9\": {\"4\": 7, \"9\": 170, \"13\": 6, \"0\": 17, \"2\": 2, \"14\": 7, \"7\": 1, \"10\": 14, \"5\": 13, \"6\": 2, \"1\": 1}, \"10\": {\"13\": 24, \"4\": 21, \"10\": 18, \"14\": 30, \"7\": 19, \"8\": 5, \"5\": 26, \"11\": 14, \"0\": 18, \"6\": 23, \"2\": 10, \"1\": 18, \"12\": 3, \"3\": 8, \"15\": 3}, \"13\": {\"6\": 25, \"7\": 26, \"1\": 11, \"4\": 23, \"2\": 20, \"14\": 21, \"0\": 22, \"13\": 27, \"10\": 23, \"15\": 1, \"11\": 4, \"5\": 18, \"3\": 9, \"12\": 2, \"8\": 8}, \"0\": {\"14\": 28, \"13\": 33, \"11\": 6, \"10\": 25, \"4\": 10, \"1\": 5, \"0\": 28, \"6\": 22, \"2\": 20, \"5\": 24, \"7\": 23, \"9\": 7, \"3\": 3, \"15\": 1, \"12\": 2, \"8\": 3}, \"1\": {\"11\": 27, \"7\": 17, \"6\": 14, \"1\": 30, \"5\": 26, \"14\": 26, \"15\": 19, \"10\": 13, \"3\": 7, \"0\": 2, \"8\": 20, \"13\": 13, \"2\": 3, \"4\": 15, \"12\": 8}, \"15\": {\"15\": 39, \"2\": 19, \"5\": 4, \"6\": 7, \"8\": 30, \"12\": 38, \"3\": 33, \"1\": 13, \"14\": 11, \"4\": 8, \"11\": 21, \"7\": 8, \"0\": 2, \"10\": 1, \"13\": 6}, \"5\": {\"6\": 19, \"7\": 18, \"13\": 23, \"5\": 29, \"10\": 29, \"2\": 8, \"1\": 16, \"14\": 27, \"0\": 12, \"11\": 20, \"4\": 25, \"8\": 2, \"15\": 4, \"9\": 1, \"12\": 3, \"3\": 4}, \"3\": {\"2\": 40, \"3\": 35, \"12\": 22, \"7\": 15, \"6\": 10, \"13\": 13, \"15\": 27, \"4\": 12, \"14\": 10, \"8\": 25, \"11\": 6, \"1\": 11, \"5\": 5, \"0\": 7, \"10\": 2}, \"6\": {\"2\": 30, \"4\": 17, \"0\": 12, \"13\": 23, \"14\": 27, \"7\": 17, \"11\": 10, \"6\": 23, \"10\": 10, \"5\": 26, \"12\": 6, \"3\": 8, \"1\": 17, \"15\": 5, \"8\": 8, \"9\": 1}, \"11\": {\"10\": 6, \"11\": 40, \"5\": 18, \"13\": 8, \"2\": 12, \"15\": 19, \"12\": 18, \"8\": 30, \"1\": 19, \"14\": 16, \"6\": 11, \"7\": 18, \"3\": 6, \"4\": 15, \"0\": 4}, \"8\": {\"2\": 16, \"11\": 31, \"8\": 36, \"3\": 21, \"10\": 2, \"15\": 30, \"12\": 29, \"14\": 8, \"4\": 16, \"5\": 14, \"6\": 6, \"7\": 6, \"1\": 22, \"13\": 3}, \"4\": {\"1\": 24, \"2\": 18, \"13\": 30, \"7\": 19, \"14\": 18, \"0\": 18, \"5\": 20, \"8\": 5, \"10\": 18, \"15\": 7, \"4\": 20, \"6\": 21, \"3\": 11, \"12\": 3, \"11\": 8}, \"12\": {\"7\": 8, \"12\": 50, \"11\": 15, \"2\": 19, \"8\": 51, \"15\": 30, \"3\": 28, \"6\": 14, \"1\": 11, \"4\": 3, \"5\": 4, \"14\": 3, \"0\": 1, \"10\": 2, \"13\": 1}, \"14\": {\"0\": 21, \"13\": 23, \"6\": 23, \"11\": 7, \"5\": 28, \"1\": 13, \"14\": 27, \"10\": 15, \"4\": 18, \"8\": 9, \"7\": 23, \"2\": 10, \"15\": 6, \"3\": 10, \"12\": 4, \"9\": 3}, \"2\": {\"3\": 35, \"12\": 10, \"0\": 13, \"7\": 24, \"6\": 23, \"10\": 11, \"2\": 41, \"13\": 13, \"4\": 11, \"5\": 8, \"11\": 7, \"15\": 19, \"8\": 7, \"14\": 13, \"1\": 5}, \"7\": {\"2\": 18, \"1\": 14, \"13\": 23, \"6\": 21, \"15\": 8, \"12\": 6, \"14\": 23, \"11\": 6, \"8\": 12, \"0\": 16, \"3\": 18, \"7\": 21, \"5\": 10, \"4\": 29, \"10\": 15}}, \"ORACLE.run1_50\": {\"7\": {\"5\": 33, \"10\": 24, \"8\": 5, \"6\": 32, \"7\": 29, \"13\": 31, \"1\": 13, \"3\": 17, \"15\": 20, \"0\": 7, \"4\": 16, \"2\": 3, \"14\": 2, \"11\": 5, \"9\": 2, \"12\": 1}, \"3\": {\"3\": 92, \"8\": 49, \"7\": 21, \"1\": 3, \"13\": 14, \"10\": 33, \"5\": 5, \"0\": 16, \"2\": 3, \"6\": 3, \"14\": 1}, \"8\": {\"10\": 54, \"8\": 57, \"0\": 33, \"2\": 28, \"3\": 50, \"7\": 6, \"5\": 3, \"14\": 2, \"13\": 2, \"6\": 3, \"12\": 1, \"1\": 1}, \"2\": {\"2\": 73, \"0\": 53, \"8\": 25, \"10\": 22, \"12\": 19, \"14\": 24, \"5\": 5, \"3\": 3, \"9\": 2, \"11\": 3, \"1\": 2, \"6\": 4, \"13\": 4, \"15\": 1}, \"14\": {\"12\": 37, \"11\": 10, \"9\": 33, \"14\": 52, \"0\": 29, \"2\": 16, \"5\": 5, \"15\": 4, \"1\": 13, \"13\": 6, \"4\": 10, \"10\": 14, \"8\": 4, \"6\": 5, \"3\": 1, \"7\": 1}, \"4\": {\"11\": 22, \"1\": 29, \"4\": 36, \"13\": 38, \"15\": 22, \"5\": 23, \"6\": 25, \"7\": 14, \"12\": 6, \"9\": 12, \"14\": 3, \"3\": 2, \"10\": 4, \"0\": 3, \"8\": 1}, \"6\": {\"6\": 39, \"5\": 29, \"1\": 24, \"15\": 18, \"11\": 11, \"13\": 38, \"8\": 3, \"7\": 12, \"0\": 5, \"4\": 30, \"9\": 7, \"10\": 11, \"3\": 5, \"14\": 4, \"12\": 3, \"2\": 1}, \"15\": {\"15\": 47, \"5\": 32, \"7\": 15, \"11\": 26, \"1\": 27, \"6\": 27, \"4\": 27, \"13\": 12, \"8\": 2, \"9\": 16, \"12\": 3, \"14\": 5, \"10\": 1}, \"10\": {\"14\": 8, \"10\": 33, \"4\": 9, \"0\": 36, \"7\": 16, \"5\": 11, \"2\": 22, \"8\": 41, \"3\": 31, \"1\": 5, \"13\": 15, \"12\": 3, \"6\": 7, \"15\": 2, \"9\": 1}, \"11\": {\"1\": 29, \"13\": 13, \"9\": 35, \"14\": 18, \"11\": 41, \"15\": 27, \"4\": 25, \"7\": 5, \"12\": 15, \"6\": 13, \"2\": 2, \"0\": 3, \"5\": 8, \"10\": 4, \"8\": 2}, \"13\": {\"5\": 37, \"13\": 29, \"8\": 14, \"7\": 24, \"4\": 23, \"10\": 21, \"1\": 22, \"15\": 17, \"3\": 9, \"6\": 23, \"2\": 3, \"11\": 6, \"14\": 7, \"0\": 4, \"9\": 1}, \"9\": {\"15\": 23, \"9\": 48, \"11\": 50, \"1\": 16, \"14\": 26, \"5\": 12, \"6\": 8, \"7\": 4, \"4\": 17, \"0\": 2, \"12\": 22, \"13\": 10, \"10\": 2}, \"0\": {\"8\": 34, \"10\": 36, \"14\": 18, \"7\": 3, \"3\": 11, \"2\": 47, \"0\": 56, \"12\": 12, \"5\": 3, \"6\": 5, \"1\": 3, \"13\": 6, \"4\": 2, \"11\": 3, \"15\": 1}, \"1\": {\"4\": 27, \"1\": 26, \"13\": 22, \"15\": 24, \"0\": 7, \"12\": 6, \"5\": 19, \"9\": 20, \"14\": 8, \"11\": 18, \"7\": 16, \"10\": 11, \"8\": 3, \"6\": 31, \"3\": 1, \"2\": 1}, \"12\": {\"11\": 14, \"14\": 59, \"12\": 64, \"9\": 29, \"6\": 6, \"2\": 17, \"0\": 16, \"4\": 6, \"7\": 2, \"1\": 12, \"8\": 4, \"15\": 6, \"10\": 3, \"5\": 2}, \"5\": {\"7\": 27, \"13\": 27, \"11\": 13, \"5\": 23, \"14\": 4, \"10\": 14, \"3\": 12, \"12\": 2, \"0\": 5, \"9\": 5, \"6\": 19, \"1\": 29, \"15\": 23, \"4\": 25, \"8\": 12}}, \"ORACLE.run1_32\": {\"8\": {\"4\": 17, \"7\": 8, \"13\": 50, \"8\": 46, \"11\": 9, \"3\": 35, \"14\": 11, \"15\": 7, \"5\": 38, \"0\": 12, \"2\": 4, \"12\": 1, \"9\": 2}, \"14\": {\"11\": 41, \"2\": 19, \"13\": 10, \"5\": 16, \"14\": 39, \"7\": 31, \"4\": 26, \"0\": 32, \"3\": 4, \"9\": 9, \"8\": 13}, \"2\": {\"9\": 30, \"2\": 35, \"0\": 31, \"4\": 42, \"5\": 12, \"12\": 10, \"7\": 29, \"11\": 13, \"8\": 10, \"14\": 18, \"13\": 10}, \"0\": {\"11\": 27, \"4\": 24, \"0\": 29, \"14\": 23, \"13\": 23, \"2\": 26, \"8\": 20, \"7\": 23, \"12\": 6, \"5\": 28, \"9\": 9, \"3\": 2}, \"1\": {\"6\": 20, \"1\": 120, \"9\": 1, \"10\": 86, \"12\": 13}, \"10\": {\"10\": 104, \"1\": 67, \"9\": 9, \"12\": 51, \"6\": 6, \"2\": 1, \"4\": 2}, \"11\": {\"14\": 47, \"8\": 18, \"4\": 24, \"2\": 19, \"0\": 23, \"7\": 31, \"11\": 46, \"5\": 9, \"9\": 2, \"13\": 15, \"3\": 6}, \"5\": {\"0\": 21, \"8\": 26, \"11\": 16, \"5\": 31, \"2\": 10, \"4\": 30, \"7\": 28, \"12\": 2, \"15\": 5, \"3\": 21, \"13\": 30, \"14\": 17, \"9\": 3}, \"15\": {\"15\": 170, \"3\": 40, \"4\": 2, \"13\": 12, \"8\": 10, \"5\": 6}, \"3\": {\"3\": 71, \"13\": 46, \"8\": 50, \"0\": 3, \"5\": 25, \"15\": 28, \"4\": 6, \"11\": 4, \"14\": 3, \"7\": 4}, \"12\": {\"4\": 13, \"10\": 59, \"9\": 58, \"6\": 12, \"12\": 71, \"5\": 1, \"1\": 15, \"2\": 4, \"0\": 3, \"7\": 2, \"14\": 2}, \"7\": {\"4\": 26, \"14\": 24, \"13\": 19, \"3\": 5, \"11\": 34, \"5\": 23, \"7\": 27, \"2\": 31, \"0\": 27, \"9\": 11, \"8\": 12, \"12\": 1}, \"13\": {\"8\": 49, \"4\": 22, \"13\": 45, \"2\": 11, \"5\": 33, \"14\": 9, \"15\": 4, \"0\": 13, \"3\": 23, \"7\": 18, \"11\": 9, \"9\": 3, \"10\": 1}, \"6\": {\"6\": 167, \"12\": 15, \"1\": 35, \"2\": 3, \"10\": 9, \"9\": 11}, \"4\": {\"0\": 26, \"11\": 18, \"4\": 40, \"3\": 4, \"8\": 18, \"7\": 36, \"2\": 17, \"5\": 20, \"14\": 22, \"9\": 11, \"13\": 16, \"12\": 12}, \"9\": {\"9\": 74, \"4\": 16, \"7\": 15, \"6\": 17, \"2\": 28, \"12\": 50, \"11\": 4, \"0\": 17, \"5\": 6, \"13\": 1, \"1\": 1, \"14\": 6, \"10\": 3, \"8\": 2}}, \"ORACLE.run1_26\": {\"4\": {\"0\": 22, \"14\": 31, \"4\": 33, \"3\": 21, \"8\": 23, \"2\": 11, \"7\": 20, \"1\": 29, \"10\": 22, \"9\": 2, \"6\": 15, \"15\": 9, \"5\": 2}, \"12\": {\"0\": 6, \"11\": 19, \"12\": 72, \"5\": 16, \"10\": 13, \"7\": 10, \"6\": 20, \"9\": 22, \"2\": 9, \"15\": 15, \"4\": 3, \"13\": 13, \"8\": 14, \"3\": 5, \"1\": 2, \"14\": 1}, \"10\": {\"10\": 19, \"14\": 22, \"5\": 6, \"3\": 14, \"6\": 16, \"12\": 9, \"15\": 13, \"7\": 22, \"9\": 9, \"0\": 28, \"1\": 24, \"13\": 1, \"2\": 13, \"4\": 19, \"8\": 23, \"11\": 2}, \"0\": {\"3\": 17, \"14\": 32, \"10\": 21, \"4\": 28, \"6\": 20, \"12\": 11, \"8\": 30, \"1\": 16, \"2\": 12, \"0\": 17, \"9\": 9, \"15\": 6, \"7\": 15, \"5\": 5, \"13\": 1}, \"13\": {\"5\": 35, \"2\": 18, \"6\": 15, \"8\": 8, \"4\": 3, \"11\": 30, \"1\": 2, \"9\": 36, \"13\": 38, \"15\": 23, \"0\": 6, \"3\": 10, \"14\": 4, \"12\": 8, \"10\": 2, \"7\": 2}, \"9\": {\"8\": 11, \"12\": 18, \"6\": 21, \"5\": 19, \"9\": 42, \"13\": 19, \"14\": 7, \"7\": 7, \"15\": 24, \"1\": 8, \"10\": 12, \"2\": 18, \"3\": 17, \"0\": 7, \"4\": 8, \"11\": 2}, \"3\": {\"1\": 22, \"10\": 22, \"4\": 20, \"6\": 13, \"9\": 12, \"5\": 11, \"7\": 16, \"0\": 14, \"2\": 23, \"3\": 28, \"14\": 20, \"13\": 3, \"8\": 17, \"15\": 19}, \"2\": {\"4\": 12, \"3\": 24, \"5\": 23, \"6\": 14, \"9\": 18, \"2\": 36, \"11\": 3, \"1\": 8, \"15\": 12, \"10\": 13, \"0\": 18, \"13\": 8, \"8\": 20, \"7\": 19, \"14\": 12}, \"5\": {\"12\": 5, \"2\": 28, \"15\": 30, \"3\": 13, \"5\": 32, \"9\": 33, \"11\": 17, \"14\": 2, \"0\": 4, \"6\": 9, \"13\": 30, \"7\": 7, \"10\": 15, \"4\": 6, \"1\": 2, \"8\": 7}, \"14\": {\"1\": 35, \"12\": 4, \"4\": 26, \"10\": 23, \"3\": 19, \"6\": 12, \"7\": 22, \"8\": 21, \"5\": 2, \"0\": 26, \"14\": 28, \"2\": 8, \"15\": 6, \"9\": 6, \"13\": 2}, \"8\": {\"14\": 17, \"4\": 21, \"10\": 20, \"8\": 20, \"5\": 7, \"9\": 11, \"1\": 16, \"6\": 22, \"2\": 16, \"0\": 27, \"3\": 14, \"7\": 17, \"15\": 22, \"13\": 3, \"12\": 7}, \"7\": {\"14\": 18, \"4\": 20, \"10\": 13, \"6\": 16, \"1\": 22, \"3\": 28, \"5\": 7, \"2\": 24, \"15\": 12, \"0\": 14, \"9\": 16, \"8\": 23, \"7\": 21, \"12\": 3, \"13\": 3}, \"6\": {\"7\": 15, \"13\": 16, \"5\": 18, \"3\": 17, \"6\": 18, \"2\": 20, \"12\": 18, \"9\": 19, \"10\": 19, \"1\": 6, \"0\": 14, \"8\": 21, \"14\": 8, \"15\": 22, \"11\": 2, \"4\": 7}, \"11\": {\"9\": 19, \"8\": 3, \"11\": 121, \"5\": 21, \"12\": 26, \"13\": 35, \"15\": 8, \"7\": 1, \"2\": 2, \"10\": 2, \"6\": 2}, \"15\": {\"8\": 17, \"0\": 15, \"10\": 10, \"13\": 28, \"9\": 17, \"1\": 9, \"12\": 9, \"2\": 21, \"14\": 9, \"6\": 17, \"3\": 16, \"5\": 18, \"15\": 29, \"4\": 9, \"7\": 10, \"11\": 6}, \"1\": {\"1\": 26, \"3\": 13, \"2\": 12, \"10\": 30, \"8\": 26, \"6\": 8, \"4\": 33, \"14\": 24, \"0\": 21, \"7\": 24, \"15\": 8, \"9\": 10, \"13\": 3, \"5\": 2}}, \"ORACLE.run1_44\": {\"12\": {\"12\": 49, \"10\": 37, \"2\": 29, \"1\": 49, \"3\": 29, \"13\": 8, \"9\": 11, \"11\": 6, \"7\": 21, \"4\": 1}, \"7\": {\"1\": 20, \"13\": 27, \"12\": 25, \"6\": 17, \"10\": 26, \"11\": 13, \"4\": 4, \"7\": 40, \"9\": 32, \"2\": 25, \"3\": 11}, \"5\": {\"5\": 65, \"0\": 32, \"13\": 1, \"8\": 15, \"14\": 55, \"15\": 31, \"4\": 35, \"9\": 1, \"1\": 1, \"3\": 3, \"11\": 1}, \"15\": {\"5\": 30, \"14\": 29, \"8\": 56, \"15\": 57, \"0\": 45, \"4\": 17, \"3\": 5, \"12\": 1}, \"8\": {\"8\": 77, \"5\": 26, \"4\": 4, \"0\": 69, \"15\": 53, \"14\": 11}, \"2\": {\"13\": 23, \"6\": 19, \"2\": 31, \"7\": 37, \"11\": 19, \"10\": 39, \"12\": 23, \"9\": 25, \"3\": 7, \"1\": 17}, \"13\": {\"13\": 47, \"1\": 11, \"6\": 39, \"2\": 23, \"11\": 28, \"7\": 24, \"9\": 29, \"10\": 13, \"4\": 8, \"12\": 11, \"14\": 3, \"3\": 3, \"5\": 1}, \"4\": {\"7\": 9, \"14\": 47, \"9\": 13, \"0\": 6, \"4\": 67, \"3\": 20, \"1\": 7, \"5\": 37, \"15\": 18, \"13\": 7, \"12\": 4, \"8\": 3, \"6\": 2}, \"0\": {\"0\": 65, \"15\": 50, \"5\": 34, \"8\": 68, \"4\": 8, \"14\": 14, \"3\": 1}, \"6\": {\"7\": 18, \"6\": 57, \"10\": 16, \"2\": 18, \"11\": 45, \"13\": 46, \"12\": 2, \"9\": 30, \"1\": 5, \"14\": 1, \"3\": 1, \"4\": 1}, \"9\": {\"9\": 28, \"4\": 7, \"1\": 16, \"12\": 19, \"6\": 22, \"11\": 19, \"7\": 34, \"3\": 7, \"2\": 33, \"10\": 22, \"13\": 27, \"14\": 5, \"5\": 1}, \"11\": {\"6\": 48, \"10\": 16, \"11\": 63, \"7\": 22, \"2\": 23, \"9\": 17, \"12\": 6, \"13\": 39, \"1\": 4, \"3\": 1, \"4\": 1}, \"10\": {\"7\": 31, \"10\": 44, \"2\": 40, \"1\": 21, \"9\": 22, \"6\": 16, \"12\": 35, \"13\": 15, \"3\": 7, \"11\": 9}, \"14\": {\"4\": 51, \"0\": 18, \"14\": 53, \"2\": 2, \"5\": 32, \"9\": 8, \"3\": 22, \"15\": 31, \"1\": 6, \"11\": 1, \"12\": 2, \"8\": 5, \"13\": 3, \"7\": 3, \"6\": 3}, \"1\": {\"10\": 20, \"12\": 46, \"1\": 51, \"3\": 35, \"11\": 8, \"13\": 10, \"9\": 18, \"4\": 5, \"7\": 26, \"6\": 1, \"2\": 18, \"14\": 2}, \"3\": {\"12\": 37, \"1\": 54, \"3\": 59, \"9\": 17, \"7\": 18, \"4\": 11, \"13\": 10, \"14\": 9, \"10\": 12, \"2\": 8, \"15\": 1, \"5\": 1, \"11\": 3}}}, \"per_domain_accuracy\": {\"C_A_3\": {\"accuracy\": 0.9875, \"source?\": true}, \"C_A_4\": {\"accuracy\": 0.996875, \"source?\": true}, \"C_A_5\": {\"accuracy\": 0.984375, \"source?\": true}, \"W_A_3\": {\"accuracy\": 0.9635416666666666, \"source?\": true}, \"C_A_1\": {\"accuracy\": 0.99375, \"source?\": true}, \"W_A_4\": {\"accuracy\": 0.9270833333333334, \"source?\": true}, \"W_A_1\": {\"accuracy\": 0.9635416666666666, \"source?\": true}, \"W_A_2\": {\"accuracy\": 0.9537760416666666, \"source?\": true}, \"C_A_2\": {\"accuracy\": 0.9984375, \"source?\": true}, \"ORACLE.run1_14\": {\"accuracy\": 0.18880208333333334, \"source?\": false}, \"ORACLE.run1_20\": {\"accuracy\": 0.12239583333333333, \"source?\": false}, \"ORACLE.run1_38\": {\"accuracy\": 0.23958333333333334, \"source?\": false}, \"ORACLE.run1_8\": {\"accuracy\": 0.16510416666666666, \"source?\": false}, \"ORACLE.run1_50\": {\"accuracy\": 0.19401041666666666, \"source?\": false}, \"ORACLE.run1_32\": {\"accuracy\": 0.2903645833333333, \"source?\": false}, \"ORACLE.run1_26\": {\"accuracy\": 0.15104166666666666, \"source?\": false}, \"ORACLE.run1_44\": {\"accuracy\": 0.22213541666666667, \"source?\": false}}}, \"history\": {\"epoch_indices\": [1, 2, 3, 4, 5, 6], \"train_label_loss\": [0.28582569311298195, 0.15489278116563923, 0.11597898656600679, 0.0929684197899143, 0.07763965115585748, 0.06416403891498655], \"source_val_label_loss\": [0.1965259164571762, 0.16400475800037384, 0.12827567756175995, 0.13070432841777802, 0.12902846932411194, 0.12746335566043854], \"target_val_label_loss\": [2.450202465057373, 2.438568592071533, 2.4876062870025635, 2.622528314590454, 3.009145498275757, 2.8370847702026367], \"source_val_acc_label\": [0.9543022260273972, 0.9657534246575342, 0.9716395547945206, 0.9724957191780822, 0.972388698630137, 0.9758133561643836], \"target_val_acc_label\": [0.20572916666666666, 0.1966796875, 0.18001302083333334, 0.17340494791666666, 0.16305338541666667, 0.172265625]}, \"dataset_metrics\": {\"source\": {\"train\": {\"n_unique_x\": 56695, \"n_unique_y\": 130, \"n_batch/episode\": 2075}, \"val\": {\"n_unique_x\": 12132, \"n_unique_y\": 130, \"n_batch/episode\": 292}, \"test\": {\"n_unique_x\": 12132, \"n_unique_y\": 130, \"n_batch/episode\": 292}}, \"target\": {\"train\": {\"n_unique_x\": 179200, \"n_unique_y\": 16, \"n_batch/episode\": 6720}, \"val\": {\"n_unique_x\": 38400, \"n_unique_y\": 16, \"n_batch/episode\": 960}, \"test\": {\"n_unique_x\": 38400, \"n_unique_y\": 16, \"n_batch/episode\": 960}}}}'"
      ]
     },
     "execution_count": 29,
     "metadata": {},
     "output_type": "execute_result"
    }
   ],
   "source": [
    "json.dumps(experiment)"
   ]
  }
 ],
 "metadata": {
  "celltoolbar": "Tags",
  "kernelspec": {
   "display_name": "Python 3 (ipykernel)",
   "language": "python",
   "name": "python3"
  },
  "language_info": {
   "codemirror_mode": {
    "name": "ipython",
    "version": 3
   },
   "file_extension": ".py",
   "mimetype": "text/x-python",
   "name": "python",
   "nbconvert_exporter": "python",
   "pygments_lexer": "ipython3",
   "version": "3.8.10"
  },
  "papermill": {
   "default_parameters": {},
   "duration": 468.765994,
   "end_time": "2022-03-17T04:51:08.638399",
   "environment_variables": {},
   "exception": null,
   "input_path": "/mnt/wd500GB/CSC500/csc500-main/csc500-notebooks/templates/tl_ptn_template.ipynb",
   "output_path": "trial.ipynb",
   "parameters": {
    "parameters": {
     "BEST_MODEL_PATH": "./best_model.pth",
     "NUM_LOGS_PER_EPOCH": 10,
     "criteria_for_best": "target_loss",
     "dataset_seed": 1337,
     "datasets": [
      {
       "domain_prefix": "C_A_",
       "domains": [
        1,
        2,
        3,
        4,
        5
       ],
       "episode_transforms": [],
       "labels": [
        "1-10.",
        "1-11.",
        "1-15.",
        "1-16.",
        "1-17.",
        "1-18.",
        "1-19.",
        "10-4.",
        "10-7.",
        "11-1.",
        "11-14.",
        "11-17.",
        "11-20.",
        "11-7.",
        "13-20.",
        "13-8.",
        "14-10.",
        "14-11.",
        "14-14.",
        "14-7.",
        "15-1.",
        "15-20.",
        "16-1.",
        "16-16.",
        "17-10.",
        "17-11.",
        "17-2.",
        "19-1.",
        "19-16.",
        "19-19.",
        "19-20.",
        "19-3.",
        "2-10.",
        "2-11.",
        "2-17.",
        "2-18.",
        "2-20.",
        "2-3.",
        "2-4.",
        "2-5.",
        "2-6.",
        "2-7.",
        "2-8.",
        "3-13.",
        "3-18.",
        "3-3.",
        "4-1.",
        "4-10.",
        "4-11.",
        "4-19.",
        "5-5.",
        "6-15.",
        "7-10.",
        "7-14.",
        "8-18.",
        "8-20.",
        "8-3.",
        "8-8."
       ],
       "num_examples_per_domain_per_label": 100,
       "pickle_path": "/mnt/wd500GB/CSC500/csc500-main/datasets/cores.stratified_ds.2022A.pkl",
       "source_or_target_dataset": "source",
       "x_transforms": [
        "unit_power"
       ]
      },
      {
       "domain_prefix": "W_A_",
       "domains": [
        1,
        2,
        3,
        4
       ],
       "episode_transforms": [],
       "labels": [
        "1-10",
        "1-12",
        "1-14",
        "1-16",
        "1-18",
        "1-19",
        "1-8",
        "10-11",
        "10-17",
        "10-4",
        "10-7",
        "11-1",
        "11-10",
        "11-19",
        "11-20",
        "11-4",
        "11-7",
        "12-19",
        "12-20",
        "12-7",
        "13-14",
        "13-18",
        "13-19",
        "13-20",
        "13-3",
        "13-7",
        "14-10",
        "14-11",
        "14-12",
        "14-13",
        "14-14",
        "14-19",
        "14-20",
        "14-7",
        "14-8",
        "14-9",
        "15-1",
        "15-19",
        "15-6",
        "16-1",
        "16-16",
        "16-19",
        "16-20",
        "17-10",
        "17-11",
        "18-1",
        "18-10",
        "18-11",
        "18-12",
        "18-13",
        "18-14",
        "18-15",
        "18-16",
        "18-17",
        "18-19",
        "18-2",
        "18-20",
        "18-4",
        "18-5",
        "18-7",
        "18-8",
        "18-9",
        "19-1",
        "19-10",
        "19-11",
        "19-12",
        "19-13",
        "19-14",
        "19-15",
        "19-19",
        "19-2",
        "19-20",
        "19-3",
        "19-4",
        "19-6",
        "19-7",
        "19-8",
        "19-9",
        "2-1",
        "2-13",
        "2-15",
        "2-3",
        "2-4",
        "2-5",
        "2-6",
        "2-7",
        "2-8",
        "20-1",
        "20-12",
        "20-14",
        "20-15",
        "20-16",
        "20-18",
        "20-19",
        "20-20",
        "20-3",
        "20-4",
        "20-5",
        "20-7",
        "20-8",
        "3-1",
        "3-13",
        "3-18",
        "3-2",
        "3-8",
        "4-1",
        "4-10",
        "4-11",
        "5-1",
        "5-5",
        "6-1",
        "6-15",
        "6-6",
        "7-10",
        "7-11",
        "7-12",
        "7-13",
        "7-14",
        "7-7",
        "7-8",
        "7-9",
        "8-1",
        "8-13",
        "8-14",
        "8-18",
        "8-20",
        "8-3",
        "8-8",
        "9-1",
        "9-7"
       ],
       "num_examples_per_domain_per_label": 100,
       "pickle_path": "/mnt/wd500GB/CSC500/csc500-main/datasets/wisig.node3-19.stratified_ds.2022A.pkl",
       "source_or_target_dataset": "source",
       "x_transforms": [
        "unit_power"
       ]
      },
      {
       "domain_prefix": "ORACLE.run1_",
       "domains": [
        32,
        38,
        8,
        44,
        14,
        50,
        20,
        26
       ],
       "episode_transforms": [],
       "labels": [
        "3123D52",
        "3123D65",
        "3123D79",
        "3123D80",
        "3123D54",
        "3123D70",
        "3123D7B",
        "3123D89",
        "3123D58",
        "3123D76",
        "3123D7D",
        "3123EFE",
        "3123D64",
        "3123D78",
        "3123D7E",
        "3124E4A"
       ],
       "num_examples_per_domain_per_label": 2000,
       "pickle_path": "/mnt/wd500GB/CSC500/csc500-main/datasets/oracle.Run1_framed_2000Examples_stratified_ds.2022A.pkl",
       "source_or_target_dataset": "target",
       "x_transforms": [
        "unit_power"
       ]
      }
     ],
     "device": "cuda",
     "experiment_name": "cores+wisig -> oracle.run1.framed",
     "lr": 0.001,
     "n_epoch": 50,
     "n_query": 2,
     "n_shot": 3,
     "n_way": 16,
     "patience": 3,
     "seed": 1337,
     "test_k_factor": 2,
     "torch_default_dtype": "torch.float32",
     "train_k_factor": 3,
     "val_k_factor": 2,
     "x_net": [
      {
       "class": "nnReshape",
       "kargs": {
        "shape": [
         -1,
         1,
         2,
         256
        ]
       }
      },
      {
       "class": "Conv2d",
       "kargs": {
        "bias": false,
        "in_channels": 1,
        "kernel_size": [
         1,
         7
        ],
        "out_channels": 256,
        "padding": [
         0,
         3
        ]
       }
      },
      {
       "class": "ReLU",
       "kargs": {
        "inplace": true
       }
      },
      {
       "class": "BatchNorm2d",
       "kargs": {
        "num_features": 256
       }
      },
      {
       "class": "Conv2d",
       "kargs": {
        "bias": true,
        "in_channels": 256,
        "kernel_size": [
         2,
         7
        ],
        "out_channels": 80,
        "padding": [
         0,
         3
        ]
       }
      },
      {
       "class": "ReLU",
       "kargs": {
        "inplace": true
       }
      },
      {
       "class": "BatchNorm2d",
       "kargs": {
        "num_features": 80
       }
      },
      {
       "class": "Flatten",
       "kargs": {}
      },
      {
       "class": "Linear",
       "kargs": {
        "in_features": 20480,
        "out_features": 256
       }
      },
      {
       "class": "ReLU",
       "kargs": {
        "inplace": true
       }
      },
      {
       "class": "BatchNorm1d",
       "kargs": {
        "num_features": 256
       }
      },
      {
       "class": "Linear",
       "kargs": {
        "in_features": 256,
        "out_features": 256
       }
      }
     ]
    }
   },
   "start_time": "2022-03-17T04:43:19.872405",
   "version": "2.3.4"
  }
 },
 "nbformat": 4,
 "nbformat_minor": 5
}