{
 "cells": [
  {
   "cell_type": "markdown",
   "id": "9fea5f46",
   "metadata": {
    "papermill": {
     "duration": 0.018293,
     "end_time": "2022-03-17T04:51:09.611714",
     "exception": false,
     "start_time": "2022-03-17T04:51:09.593421",
     "status": "completed"
    },
    "tags": []
   },
   "source": [
    "# Transfer Learning Template"
   ]
  },
  {
   "cell_type": "code",
   "execution_count": 1,
   "id": "0902182a",
   "metadata": {
    "execution": {
     "iopub.execute_input": "2022-03-17T04:51:09.651863Z",
     "iopub.status.busy": "2022-03-17T04:51:09.651345Z",
     "iopub.status.idle": "2022-03-17T04:51:10.581838Z",
     "shell.execute_reply": "2022-03-17T04:51:10.581322Z"
    },
    "papermill": {
     "duration": 0.957747,
     "end_time": "2022-03-17T04:51:10.581952",
     "exception": false,
     "start_time": "2022-03-17T04:51:09.624205",
     "status": "completed"
    },
    "tags": []
   },
   "outputs": [],
   "source": [
    "%load_ext autoreload\n",
    "%autoreload 2\n",
    "%matplotlib inline\n",
    "\n",
    "    \n",
    "import os, json, sys, time, random\n",
    "import numpy as np\n",
    "import torch\n",
    "from torch.optim import Adam\n",
    "from  easydict import EasyDict\n",
    "import matplotlib.pyplot as plt\n",
    "\n",
    "from steves_models.steves_ptn import Steves_Prototypical_Network\n",
    "\n",
    "from steves_utils.lazy_iterable_wrapper import Lazy_Iterable_Wrapper\n",
    "from steves_utils.iterable_aggregator import Iterable_Aggregator\n",
    "from steves_utils.ptn_train_eval_test_jig import  PTN_Train_Eval_Test_Jig\n",
    "from steves_utils.torch_sequential_builder import build_sequential\n",
    "from steves_utils.torch_utils import get_dataset_metrics, ptn_confusion_by_domain_over_dataloader\n",
    "from steves_utils.utils_v2 import (per_domain_accuracy_from_confusion, get_datasets_base_path)\n",
    "from steves_utils.PTN.utils import independent_accuracy_assesment\n",
    "\n",
    "from torch.utils.data import DataLoader\n",
    "\n",
    "from steves_utils.stratified_dataset.episodic_accessor import Episodic_Accessor_Factory\n",
    "\n",
    "from steves_utils.ptn_do_report import (\n",
    "    get_loss_curve,\n",
    "    get_results_table,\n",
    "    get_parameters_table,\n",
    "    get_domain_accuracies,\n",
    ")\n",
    "\n",
    "from steves_utils.transforms import get_chained_transform"
   ]
  },
  {
   "cell_type": "markdown",
   "id": "41c840b4",
   "metadata": {
    "papermill": {
     "duration": 0.012376,
     "end_time": "2022-03-17T04:51:10.609920",
     "exception": false,
     "start_time": "2022-03-17T04:51:10.597544",
     "status": "completed"
    },
    "tags": []
   },
   "source": [
    "# Allowed Parameters\n",
    "These are allowed parameters, not defaults\n",
    "Each of these values need to be present in the injected parameters (the notebook will raise an exception if they are not present)\n",
    "\n",
    "Papermill uses the cell tag \"parameters\" to inject the real parameters below this cell.\n",
    "Enable tags to see what I mean"
   ]
  },
  {
   "cell_type": "code",
   "execution_count": 2,
   "id": "fd44eb83",
   "metadata": {
    "execution": {
     "iopub.execute_input": "2022-03-17T04:51:10.637523Z",
     "iopub.status.busy": "2022-03-17T04:51:10.637267Z",
     "iopub.status.idle": "2022-03-17T04:51:10.650696Z",
     "shell.execute_reply": "2022-03-17T04:51:10.651125Z"
    },
    "papermill": {
     "duration": 0.028965,
     "end_time": "2022-03-17T04:51:10.651250",
     "exception": false,
     "start_time": "2022-03-17T04:51:10.622285",
     "status": "completed"
    },
    "tags": []
   },
   "outputs": [],
   "source": [
    "required_parameters = {\n",
    "    \"experiment_name\",\n",
    "    \"lr\",\n",
    "    \"device\",\n",
    "    \"seed\",\n",
    "    \"dataset_seed\",\n",
    "    \"n_shot\",\n",
    "    \"n_query\",\n",
    "    \"n_way\",\n",
    "    \"train_k_factor\",\n",
    "    \"val_k_factor\",\n",
    "    \"test_k_factor\",\n",
    "    \"n_epoch\",\n",
    "    \"patience\",\n",
    "    \"criteria_for_best\",\n",
    "    \"x_net\",\n",
    "    \"datasets\",\n",
    "    \"torch_default_dtype\",\n",
    "    \"NUM_LOGS_PER_EPOCH\",\n",
    "    \"BEST_MODEL_PATH\",\n",
    "}"
   ]
  },
  {
   "cell_type": "code",
   "execution_count": 3,
   "id": "fa3f0049",
   "metadata": {
    "execution": {
     "iopub.execute_input": "2022-03-17T04:51:10.690444Z",
     "iopub.status.busy": "2022-03-17T04:51:10.682341Z",
     "iopub.status.idle": "2022-03-17T04:51:10.704026Z",
     "shell.execute_reply": "2022-03-17T04:51:10.704324Z"
    },
    "papermill": {
     "duration": 0.036098,
     "end_time": "2022-03-17T04:51:10.704413",
     "exception": false,
     "start_time": "2022-03-17T04:51:10.668315",
     "status": "completed"
    },
    "tags": [
     "parameters"
    ]
   },
   "outputs": [],
   "source": [
    "from steves_utils.CORES.utils import (\n",
    "    ALL_NODES,\n",
    "    ALL_NODES_MINIMUM_1000_EXAMPLES,\n",
    "    ALL_DAYS\n",
    ")\n",
    "\n",
    "from steves_utils.ORACLE.utils_v2 import (\n",
    "    ALL_DISTANCES_FEET_NARROWED,\n",
    "    ALL_RUNS,\n",
    "    ALL_SERIAL_NUMBERS,\n",
    ")\n",
    "\n",
    "standalone_parameters = {}\n",
    "standalone_parameters[\"experiment_name\"] = \"STANDALONE PTN\"\n",
    "standalone_parameters[\"lr\"] = 0.001\n",
    "standalone_parameters[\"device\"] = \"cuda\"\n",
    "\n",
    "standalone_parameters[\"seed\"] = 1337\n",
    "standalone_parameters[\"dataset_seed\"] = 1337\n",
    "\n",
    "standalone_parameters[\"n_way\"] = 8\n",
    "standalone_parameters[\"n_shot\"] = 3\n",
    "standalone_parameters[\"n_query\"]  = 2\n",
    "standalone_parameters[\"train_k_factor\"] = 1\n",
    "standalone_parameters[\"val_k_factor\"] = 2\n",
    "standalone_parameters[\"test_k_factor\"] = 2\n",
    "\n",
    "\n",
    "standalone_parameters[\"n_epoch\"] = 50\n",
    "\n",
    "standalone_parameters[\"patience\"] = 10\n",
    "standalone_parameters[\"criteria_for_best\"] = \"source_loss\"\n",
    "\n",
    "standalone_parameters[\"datasets\"] = [\n",
    "    {\n",
    "        \"labels\": ALL_SERIAL_NUMBERS,\n",
    "        \"domains\": ALL_DISTANCES_FEET_NARROWED,\n",
    "        \"num_examples_per_domain_per_label\": 100,\n",
    "        \"pickle_path\": os.path.join(get_datasets_base_path(), \"oracle.Run1_framed_2000Examples_stratified_ds.2022A.pkl\"),\n",
    "        \"source_or_target_dataset\": \"source\",\n",
    "        \"x_transforms\": [\"unit_mag\", \"minus_two\"],\n",
    "        \"episode_transforms\": [],\n",
    "        \"domain_prefix\": \"ORACLE_\"\n",
    "    },\n",
    "    {\n",
    "        \"labels\": ALL_NODES,\n",
    "        \"domains\": ALL_DAYS,\n",
    "        \"num_examples_per_domain_per_label\": 100,\n",
    "        \"pickle_path\": os.path.join(get_datasets_base_path(), \"cores.stratified_ds.2022A.pkl\"),\n",
    "        \"source_or_target_dataset\": \"target\",\n",
    "        \"x_transforms\": [\"unit_power\", \"times_zero\"],\n",
    "        \"episode_transforms\": [],\n",
    "        \"domain_prefix\": \"CORES_\"\n",
    "    }   \n",
    "]\n",
    "\n",
    "standalone_parameters[\"torch_default_dtype\"] = \"torch.float32\" \n",
    "\n",
    "\n",
    "\n",
    "standalone_parameters[\"x_net\"] =     [\n",
    "    {\"class\": \"nnReshape\", \"kargs\": {\"shape\":[-1, 1, 2, 256]}},\n",
    "    {\"class\": \"Conv2d\", \"kargs\": { \"in_channels\":1, \"out_channels\":256, \"kernel_size\":(1,7), \"bias\":False, \"padding\":(0,3), },},\n",
    "    {\"class\": \"ReLU\", \"kargs\": {\"inplace\": True}},\n",
    "    {\"class\": \"BatchNorm2d\", \"kargs\": {\"num_features\":256}},\n",
    "\n",
    "    {\"class\": \"Conv2d\", \"kargs\": { \"in_channels\":256, \"out_channels\":80, \"kernel_size\":(2,7), \"bias\":True, \"padding\":(0,3), },},\n",
    "    {\"class\": \"ReLU\", \"kargs\": {\"inplace\": True}},\n",
    "    {\"class\": \"BatchNorm2d\", \"kargs\": {\"num_features\":80}},\n",
    "    {\"class\": \"Flatten\", \"kargs\": {}},\n",
    "\n",
    "    {\"class\": \"Linear\", \"kargs\": {\"in_features\": 80*256, \"out_features\": 256}}, # 80 units per IQ pair\n",
    "    {\"class\": \"ReLU\", \"kargs\": {\"inplace\": True}},\n",
    "    {\"class\": \"BatchNorm1d\", \"kargs\": {\"num_features\":256}},\n",
    "\n",
    "    {\"class\": \"Linear\", \"kargs\": {\"in_features\": 256, \"out_features\": 256}},\n",
    "]\n",
    "\n",
    "# Parameters relevant to results\n",
    "# These parameters will basically never need to change\n",
    "standalone_parameters[\"NUM_LOGS_PER_EPOCH\"] = 10\n",
    "standalone_parameters[\"BEST_MODEL_PATH\"] = \"./best_model.pth\"\n",
    "\n",
    "\n",
    "\n",
    "\n"
   ]
  },
  {
   "cell_type": "code",
   "execution_count": 4,
   "id": "ad6afd3c",
   "metadata": {
    "execution": {
     "iopub.execute_input": "2022-03-17T04:51:10.744611Z",
     "iopub.status.busy": "2022-03-17T04:51:10.743942Z",
     "iopub.status.idle": "2022-03-17T04:51:10.758528Z",
     "shell.execute_reply": "2022-03-17T04:51:10.758222Z"
    },
    "papermill": {
     "duration": 0.039124,
     "end_time": "2022-03-17T04:51:10.758596",
     "exception": false,
     "start_time": "2022-03-17T04:51:10.719472",
     "status": "completed"
    },
    "tags": [
     "injected-parameters"
    ]
   },
   "outputs": [],
   "source": [
    "# Parameters\n",
    "parameters = {\n",
    "    \"experiment_name\": \"cores+wisig -> oracle.run1.framed\",\n",
    "    \"device\": \"cuda\",\n",
    "    \"lr\": 0.001,\n",
    "    \"seed\": 1337,\n",
    "    \"dataset_seed\": 1337,\n",
    "    \"n_shot\": 3,\n",
    "    \"n_query\": 2,\n",
    "    \"train_k_factor\": 3,\n",
    "    \"val_k_factor\": 2,\n",
    "    \"test_k_factor\": 2,\n",
    "    \"torch_default_dtype\": \"torch.float32\",\n",
    "    \"n_epoch\": 50,\n",
    "    \"patience\": 3,\n",
    "    \"criteria_for_best\": \"target_loss\",\n",
    "    \"x_net\": [\n",
    "        {\"class\": \"nnReshape\", \"kargs\": {\"shape\": [-1, 1, 2, 256]}},\n",
    "        {\n",
    "            \"class\": \"Conv2d\",\n",
    "            \"kargs\": {\n",
    "                \"in_channels\": 1,\n",
    "                \"out_channels\": 256,\n",
    "                \"kernel_size\": [1, 7],\n",
    "                \"bias\": False,\n",
    "                \"padding\": [0, 3],\n",
    "            },\n",
    "        },\n",
    "        {\"class\": \"ReLU\", \"kargs\": {\"inplace\": True}},\n",
    "        {\"class\": \"BatchNorm2d\", \"kargs\": {\"num_features\": 256}},\n",
    "        {\n",
    "            \"class\": \"Conv2d\",\n",
    "            \"kargs\": {\n",
    "                \"in_channels\": 256,\n",
    "                \"out_channels\": 80,\n",
    "                \"kernel_size\": [2, 7],\n",
    "                \"bias\": True,\n",
    "                \"padding\": [0, 3],\n",
    "            },\n",
    "        },\n",
    "        {\"class\": \"ReLU\", \"kargs\": {\"inplace\": True}},\n",
    "        {\"class\": \"BatchNorm2d\", \"kargs\": {\"num_features\": 80}},\n",
    "        {\"class\": \"Flatten\", \"kargs\": {}},\n",
    "        {\"class\": \"Linear\", \"kargs\": {\"in_features\": 20480, \"out_features\": 256}},\n",
    "        {\"class\": \"ReLU\", \"kargs\": {\"inplace\": True}},\n",
    "        {\"class\": \"BatchNorm1d\", \"kargs\": {\"num_features\": 256}},\n",
    "        {\"class\": \"Linear\", \"kargs\": {\"in_features\": 256, \"out_features\": 256}},\n",
    "    ],\n",
    "    \"NUM_LOGS_PER_EPOCH\": 10,\n",
    "    \"BEST_MODEL_PATH\": \"./best_model.pth\",\n",
    "    \"n_way\": 16,\n",
    "    \"datasets\": [\n",
    "        {\n",
    "            \"labels\": [\n",
    "                \"1-10.\",\n",
    "                \"1-11.\",\n",
    "                \"1-15.\",\n",
    "                \"1-16.\",\n",
    "                \"1-17.\",\n",
    "                \"1-18.\",\n",
    "                \"1-19.\",\n",
    "                \"10-4.\",\n",
    "                \"10-7.\",\n",
    "                \"11-1.\",\n",
    "                \"11-14.\",\n",
    "                \"11-17.\",\n",
    "                \"11-20.\",\n",
    "                \"11-7.\",\n",
    "                \"13-20.\",\n",
    "                \"13-8.\",\n",
    "                \"14-10.\",\n",
    "                \"14-11.\",\n",
    "                \"14-14.\",\n",
    "                \"14-7.\",\n",
    "                \"15-1.\",\n",
    "                \"15-20.\",\n",
    "                \"16-1.\",\n",
    "                \"16-16.\",\n",
    "                \"17-10.\",\n",
    "                \"17-11.\",\n",
    "                \"17-2.\",\n",
    "                \"19-1.\",\n",
    "                \"19-16.\",\n",
    "                \"19-19.\",\n",
    "                \"19-20.\",\n",
    "                \"19-3.\",\n",
    "                \"2-10.\",\n",
    "                \"2-11.\",\n",
    "                \"2-17.\",\n",
    "                \"2-18.\",\n",
    "                \"2-20.\",\n",
    "                \"2-3.\",\n",
    "                \"2-4.\",\n",
    "                \"2-5.\",\n",
    "                \"2-6.\",\n",
    "                \"2-7.\",\n",
    "                \"2-8.\",\n",
    "                \"3-13.\",\n",
    "                \"3-18.\",\n",
    "                \"3-3.\",\n",
    "                \"4-1.\",\n",
    "                \"4-10.\",\n",
    "                \"4-11.\",\n",
    "                \"4-19.\",\n",
    "                \"5-5.\",\n",
    "                \"6-15.\",\n",
    "                \"7-10.\",\n",
    "                \"7-14.\",\n",
    "                \"8-18.\",\n",
    "                \"8-20.\",\n",
    "                \"8-3.\",\n",
    "                \"8-8.\",\n",
    "            ],\n",
    "            \"domains\": [1, 2, 3, 4, 5],\n",
    "            \"num_examples_per_domain_per_label\": 100,\n",
    "            \"pickle_path\": \"/mnt/wd500GB/CSC500/csc500-main/datasets/cores.stratified_ds.2022A.pkl\",\n",
    "            \"source_or_target_dataset\": \"source\",\n",
    "            \"x_transforms\": [\"unit_mag\"],\n",
    "            \"episode_transforms\": [],\n",
    "            \"domain_prefix\": \"C_A_\",\n",
    "        },\n",
    "        {\n",
    "            \"labels\": [\n",
    "                \"1-10\",\n",
    "                \"1-12\",\n",
    "                \"1-14\",\n",
    "                \"1-16\",\n",
    "                \"1-18\",\n",
    "                \"1-19\",\n",
    "                \"1-8\",\n",
    "                \"10-11\",\n",
    "                \"10-17\",\n",
    "                \"10-4\",\n",
    "                \"10-7\",\n",
    "                \"11-1\",\n",
    "                \"11-10\",\n",
    "                \"11-19\",\n",
    "                \"11-20\",\n",
    "                \"11-4\",\n",
    "                \"11-7\",\n",
    "                \"12-19\",\n",
    "                \"12-20\",\n",
    "                \"12-7\",\n",
    "                \"13-14\",\n",
    "                \"13-18\",\n",
    "                \"13-19\",\n",
    "                \"13-20\",\n",
    "                \"13-3\",\n",
    "                \"13-7\",\n",
    "                \"14-10\",\n",
    "                \"14-11\",\n",
    "                \"14-12\",\n",
    "                \"14-13\",\n",
    "                \"14-14\",\n",
    "                \"14-19\",\n",
    "                \"14-20\",\n",
    "                \"14-7\",\n",
    "                \"14-8\",\n",
    "                \"14-9\",\n",
    "                \"15-1\",\n",
    "                \"15-19\",\n",
    "                \"15-6\",\n",
    "                \"16-1\",\n",
    "                \"16-16\",\n",
    "                \"16-19\",\n",
    "                \"16-20\",\n",
    "                \"17-10\",\n",
    "                \"17-11\",\n",
    "                \"18-1\",\n",
    "                \"18-10\",\n",
    "                \"18-11\",\n",
    "                \"18-12\",\n",
    "                \"18-13\",\n",
    "                \"18-14\",\n",
    "                \"18-15\",\n",
    "                \"18-16\",\n",
    "                \"18-17\",\n",
    "                \"18-19\",\n",
    "                \"18-2\",\n",
    "                \"18-20\",\n",
    "                \"18-4\",\n",
    "                \"18-5\",\n",
    "                \"18-7\",\n",
    "                \"18-8\",\n",
    "                \"18-9\",\n",
    "                \"19-1\",\n",
    "                \"19-10\",\n",
    "                \"19-11\",\n",
    "                \"19-12\",\n",
    "                \"19-13\",\n",
    "                \"19-14\",\n",
    "                \"19-15\",\n",
    "                \"19-19\",\n",
    "                \"19-2\",\n",
    "                \"19-20\",\n",
    "                \"19-3\",\n",
    "                \"19-4\",\n",
    "                \"19-6\",\n",
    "                \"19-7\",\n",
    "                \"19-8\",\n",
    "                \"19-9\",\n",
    "                \"2-1\",\n",
    "                \"2-13\",\n",
    "                \"2-15\",\n",
    "                \"2-3\",\n",
    "                \"2-4\",\n",
    "                \"2-5\",\n",
    "                \"2-6\",\n",
    "                \"2-7\",\n",
    "                \"2-8\",\n",
    "                \"20-1\",\n",
    "                \"20-12\",\n",
    "                \"20-14\",\n",
    "                \"20-15\",\n",
    "                \"20-16\",\n",
    "                \"20-18\",\n",
    "                \"20-19\",\n",
    "                \"20-20\",\n",
    "                \"20-3\",\n",
    "                \"20-4\",\n",
    "                \"20-5\",\n",
    "                \"20-7\",\n",
    "                \"20-8\",\n",
    "                \"3-1\",\n",
    "                \"3-13\",\n",
    "                \"3-18\",\n",
    "                \"3-2\",\n",
    "                \"3-8\",\n",
    "                \"4-1\",\n",
    "                \"4-10\",\n",
    "                \"4-11\",\n",
    "                \"5-1\",\n",
    "                \"5-5\",\n",
    "                \"6-1\",\n",
    "                \"6-15\",\n",
    "                \"6-6\",\n",
    "                \"7-10\",\n",
    "                \"7-11\",\n",
    "                \"7-12\",\n",
    "                \"7-13\",\n",
    "                \"7-14\",\n",
    "                \"7-7\",\n",
    "                \"7-8\",\n",
    "                \"7-9\",\n",
    "                \"8-1\",\n",
    "                \"8-13\",\n",
    "                \"8-14\",\n",
    "                \"8-18\",\n",
    "                \"8-20\",\n",
    "                \"8-3\",\n",
    "                \"8-8\",\n",
    "                \"9-1\",\n",
    "                \"9-7\",\n",
    "            ],\n",
    "            \"domains\": [1, 2, 3, 4],\n",
    "            \"num_examples_per_domain_per_label\": 100,\n",
    "            \"pickle_path\": \"/mnt/wd500GB/CSC500/csc500-main/datasets/wisig.node3-19.stratified_ds.2022A.pkl\",\n",
    "            \"source_or_target_dataset\": \"source\",\n",
    "            \"x_transforms\": [\"unit_mag\"],\n",
    "            \"episode_transforms\": [],\n",
    "            \"domain_prefix\": \"W_A_\",\n",
    "        },\n",
    "        {\n",
    "            \"labels\": [\n",
    "                \"3123D52\",\n",
    "                \"3123D65\",\n",
    "                \"3123D79\",\n",
    "                \"3123D80\",\n",
    "                \"3123D54\",\n",
    "                \"3123D70\",\n",
    "                \"3123D7B\",\n",
    "                \"3123D89\",\n",
    "                \"3123D58\",\n",
    "                \"3123D76\",\n",
    "                \"3123D7D\",\n",
    "                \"3123EFE\",\n",
    "                \"3123D64\",\n",
    "                \"3123D78\",\n",
    "                \"3123D7E\",\n",
    "                \"3124E4A\",\n",
    "            ],\n",
    "            \"domains\": [32, 38, 8, 44, 14, 50, 20, 26],\n",
    "            \"num_examples_per_domain_per_label\": 2000,\n",
    "            \"pickle_path\": \"/mnt/wd500GB/CSC500/csc500-main/datasets/oracle.Run1_framed_2000Examples_stratified_ds.2022A.pkl\",\n",
    "            \"source_or_target_dataset\": \"target\",\n",
    "            \"x_transforms\": [\"unit_mag\"],\n",
    "            \"episode_transforms\": [],\n",
    "            \"domain_prefix\": \"ORACLE.run1_\",\n",
    "        },\n",
    "    ],\n",
    "}\n"
   ]
  },
  {
   "cell_type": "code",
   "execution_count": 5,
   "id": "8fa1cc33",
   "metadata": {
    "execution": {
     "iopub.execute_input": "2022-03-17T04:51:10.792042Z",
     "iopub.status.busy": "2022-03-17T04:51:10.791761Z",
     "iopub.status.idle": "2022-03-17T04:51:10.806485Z",
     "shell.execute_reply": "2022-03-17T04:51:10.806034Z"
    },
    "papermill": {
     "duration": 0.030288,
     "end_time": "2022-03-17T04:51:10.806584",
     "exception": false,
     "start_time": "2022-03-17T04:51:10.776296",
     "status": "completed"
    },
    "tags": []
   },
   "outputs": [],
   "source": [
    "# Set this to True if you want to run this template directly\n",
    "STANDALONE = False\n",
    "if STANDALONE:\n",
    "    print(\"parameters not injected, running with standalone_parameters\")\n",
    "    parameters = standalone_parameters\n",
    "\n",
    "if not 'parameters' in locals() and not 'parameters' in globals():\n",
    "    raise Exception(\"Parameter injection failed\")\n",
    "\n",
    "#Use an easy dict for all the parameters\n",
    "p = EasyDict(parameters)\n",
    "\n",
    "supplied_keys = set(p.keys())\n",
    "\n",
    "if  supplied_keys != required_parameters:\n",
    "    print(\"Parameters are incorrect\")\n",
    "    if len(supplied_keys - required_parameters)>0: print(\"Shouldn't have:\", str(supplied_keys - required_parameters))\n",
    "    if len(required_parameters - supplied_keys)>0: print(\"Need to have:\", str(required_parameters - supplied_keys))\n",
    "    raise RuntimeError(\"Parameters are incorrect\")\n",
    "\n"
   ]
  },
  {
   "cell_type": "code",
   "execution_count": 6,
   "id": "3a028d58",
   "metadata": {
    "execution": {
     "iopub.execute_input": "2022-03-17T04:51:10.839101Z",
     "iopub.status.busy": "2022-03-17T04:51:10.838853Z",
     "iopub.status.idle": "2022-03-17T04:51:10.849982Z",
     "shell.execute_reply": "2022-03-17T04:51:10.849536Z"
    },
    "papermill": {
     "duration": 0.025653,
     "end_time": "2022-03-17T04:51:10.850070",
     "exception": false,
     "start_time": "2022-03-17T04:51:10.824417",
     "status": "completed"
    },
    "tags": []
   },
   "outputs": [],
   "source": [
    "###################################\n",
    "# Set the RNGs and make it all deterministic\n",
    "###################################\n",
    "np.random.seed(p.seed)\n",
    "random.seed(p.seed)\n",
    "torch.manual_seed(p.seed)\n",
    "\n",
    "torch.use_deterministic_algorithms(True) "
   ]
  },
  {
   "cell_type": "code",
   "execution_count": 7,
   "id": "b691acf6",
   "metadata": {
    "execution": {
     "iopub.execute_input": "2022-03-17T04:51:10.882498Z",
     "iopub.status.busy": "2022-03-17T04:51:10.882249Z",
     "iopub.status.idle": "2022-03-17T04:51:10.896484Z",
     "shell.execute_reply": "2022-03-17T04:51:10.896108Z"
    },
    "papermill": {
     "duration": 0.028905,
     "end_time": "2022-03-17T04:51:10.896572",
     "exception": false,
     "start_time": "2022-03-17T04:51:10.867667",
     "status": "completed"
    },
    "tags": []
   },
   "outputs": [],
   "source": [
    "###########################################\n",
    "# The stratified datasets honor this\n",
    "###########################################\n",
    "torch.set_default_dtype(eval(p.torch_default_dtype))"
   ]
  },
  {
   "cell_type": "code",
   "execution_count": 8,
   "id": "b5fba671",
   "metadata": {
    "execution": {
     "iopub.execute_input": "2022-03-17T04:51:10.929067Z",
     "iopub.status.busy": "2022-03-17T04:51:10.928823Z",
     "iopub.status.idle": "2022-03-17T04:51:10.965034Z",
     "shell.execute_reply": "2022-03-17T04:51:10.964638Z"
    },
    "papermill": {
     "duration": 0.050353,
     "end_time": "2022-03-17T04:51:10.965120",
     "exception": false,
     "start_time": "2022-03-17T04:51:10.914767",
     "status": "completed"
    },
    "tags": []
   },
   "outputs": [],
   "source": [
    "###################################\n",
    "# Build the network(s)\n",
    "# Note: It's critical to do this AFTER setting the RNG\n",
    "###################################\n",
    "x_net = build_sequential(p.x_net)"
   ]
  },
  {
   "cell_type": "code",
   "execution_count": 9,
   "id": "5d7e61cc",
   "metadata": {
    "execution": {
     "iopub.execute_input": "2022-03-17T04:51:10.998280Z",
     "iopub.status.busy": "2022-03-17T04:51:10.998032Z",
     "iopub.status.idle": "2022-03-17T04:51:11.009215Z",
     "shell.execute_reply": "2022-03-17T04:51:11.008861Z"
    },
    "papermill": {
     "duration": 0.02582,
     "end_time": "2022-03-17T04:51:11.009284",
     "exception": false,
     "start_time": "2022-03-17T04:51:10.983464",
     "status": "completed"
    },
    "tags": []
   },
   "outputs": [],
   "source": [
    "start_time_secs = time.time()"
   ]
  },
  {
   "cell_type": "code",
   "execution_count": 10,
   "id": "c6b67dfd",
   "metadata": {
    "execution": {
     "iopub.execute_input": "2022-03-17T04:51:11.042299Z",
     "iopub.status.busy": "2022-03-17T04:51:11.042055Z",
     "iopub.status.idle": "2022-03-17T04:51:11.056593Z",
     "shell.execute_reply": "2022-03-17T04:51:11.056149Z"
    },
    "papermill": {
     "duration": 0.029994,
     "end_time": "2022-03-17T04:51:11.056680",
     "exception": false,
     "start_time": "2022-03-17T04:51:11.026686",
     "status": "completed"
    },
    "tags": []
   },
   "outputs": [],
   "source": [
    "p.domains_source = []\n",
    "p.domains_target = []\n",
    "\n",
    "\n",
    "train_original_source = []\n",
    "val_original_source   = []\n",
    "test_original_source  = []\n",
    "\n",
    "train_original_target = []\n",
    "val_original_target   = []\n",
    "test_original_target  = []"
   ]
  },
  {
   "cell_type": "code",
   "execution_count": 11,
   "id": "e3d9c3d3",
   "metadata": {
    "execution": {
     "iopub.execute_input": "2022-03-17T04:51:11.089877Z",
     "iopub.status.busy": "2022-03-17T04:51:11.089627Z",
     "iopub.status.idle": "2022-03-17T04:51:11.104288Z",
     "shell.execute_reply": "2022-03-17T04:51:11.103846Z"
    },
    "papermill": {
     "duration": 0.029537,
     "end_time": "2022-03-17T04:51:11.104374",
     "exception": false,
     "start_time": "2022-03-17T04:51:11.074837",
     "status": "completed"
    },
    "tags": []
   },
   "outputs": [],
   "source": [
    "# global_x_transform_func = lambda x: normalize(x.to(torch.get_default_dtype()), \"unit_power\") # unit_power, unit_mag\n",
    "# global_x_transform_func = lambda x: normalize(x, \"unit_power\") # unit_power, unit_mag"
   ]
  },
  {
   "cell_type": "code",
   "execution_count": 12,
   "id": "acb78fd2",
   "metadata": {
    "execution": {
     "iopub.execute_input": "2022-03-17T04:51:11.142481Z",
     "iopub.status.busy": "2022-03-17T04:51:11.142191Z",
     "iopub.status.idle": "2022-03-17T04:51:11.155938Z",
     "shell.execute_reply": "2022-03-17T04:51:11.155492Z"
    },
    "papermill": {
     "duration": 0.033199,
     "end_time": "2022-03-17T04:51:11.156025",
     "exception": false,
     "start_time": "2022-03-17T04:51:11.122826",
     "status": "completed"
    },
    "tags": []
   },
   "outputs": [],
   "source": [
    "def add_dataset(\n",
    "    labels,\n",
    "    domains,\n",
    "    pickle_path,\n",
    "    x_transforms,\n",
    "    episode_transforms,\n",
    "    domain_prefix,\n",
    "    num_examples_per_domain_per_label,\n",
    "    source_or_target_dataset:str,\n",
    "    iterator_seed=p.seed,\n",
    "    dataset_seed=p.dataset_seed,\n",
    "    n_shot=p.n_shot,\n",
    "    n_way=p.n_way,\n",
    "    n_query=p.n_query,\n",
    "    train_val_test_k_factors=(p.train_k_factor,p.val_k_factor,p.test_k_factor),\n",
    "):\n",
    "   \n",
    "    if x_transforms == []: x_transform = None\n",
    "    else: x_transform = get_chained_transform(x_transforms)\n",
    "    \n",
    "    if episode_transforms == []: episode_transform = None\n",
    "    else: raise Exception(\"episode_transforms not implemented\")\n",
    "    \n",
    "    episode_transform = lambda tup, _prefix=domain_prefix: (_prefix + str(tup[0]), tup[1])\n",
    "\n",
    "\n",
    "    eaf = Episodic_Accessor_Factory(\n",
    "        labels=labels,\n",
    "        domains=domains,\n",
    "        num_examples_per_domain_per_label=num_examples_per_domain_per_label,\n",
    "        iterator_seed=iterator_seed,\n",
    "        dataset_seed=dataset_seed,\n",
    "        n_shot=n_shot,\n",
    "        n_way=n_way,\n",
    "        n_query=n_query,\n",
    "        train_val_test_k_factors=train_val_test_k_factors,\n",
    "        pickle_path=pickle_path,\n",
    "        x_transform_func=x_transform,\n",
    "    )\n",
    "\n",
    "    train, val, test = eaf.get_train(), eaf.get_val(), eaf.get_test()\n",
    "    train = Lazy_Iterable_Wrapper(train, episode_transform)\n",
    "    val = Lazy_Iterable_Wrapper(val, episode_transform)\n",
    "    test = Lazy_Iterable_Wrapper(test, episode_transform)\n",
    "\n",
    "    if source_or_target_dataset==\"source\":\n",
    "        train_original_source.append(train)\n",
    "        val_original_source.append(val)\n",
    "        test_original_source.append(test)\n",
    "\n",
    "        p.domains_source.extend(\n",
    "            [domain_prefix + str(u) for u in domains]\n",
    "        )\n",
    "    elif source_or_target_dataset==\"target\":\n",
    "        train_original_target.append(train)\n",
    "        val_original_target.append(val)\n",
    "        test_original_target.append(test)\n",
    "        p.domains_target.extend(\n",
    "            [domain_prefix + str(u) for u in domains]\n",
    "        )\n",
    "    else:\n",
    "        raise Exception(f\"invalid source_or_target_dataset: {source_or_target_dataset}\")\n",
    "    "
   ]
  },
  {
   "cell_type": "code",
   "execution_count": 13,
   "id": "fe266617",
   "metadata": {
    "execution": {
     "iopub.execute_input": "2022-03-17T04:51:11.187741Z",
     "iopub.status.busy": "2022-03-17T04:51:11.187498Z",
     "iopub.status.idle": "2022-03-17T04:51:32.018568Z",
     "shell.execute_reply": "2022-03-17T04:51:32.018161Z"
    },
    "papermill": {
     "duration": 20.845921,
     "end_time": "2022-03-17T04:51:32.018673",
     "exception": false,
     "start_time": "2022-03-17T04:51:11.172752",
     "status": "completed"
    },
    "tags": []
   },
   "outputs": [],
   "source": [
    "for ds in p.datasets:\n",
    "    add_dataset(**ds)"
   ]
  },
  {
   "cell_type": "code",
   "execution_count": 14,
   "id": "b90d65ac",
   "metadata": {
    "execution": {
     "iopub.execute_input": "2022-03-17T04:51:32.051718Z",
     "iopub.status.busy": "2022-03-17T04:51:32.051457Z",
     "iopub.status.idle": "2022-03-17T04:51:32.066593Z",
     "shell.execute_reply": "2022-03-17T04:51:32.066144Z"
    },
    "papermill": {
     "duration": 0.030171,
     "end_time": "2022-03-17T04:51:32.066682",
     "exception": false,
     "start_time": "2022-03-17T04:51:32.036511",
     "status": "completed"
    },
    "tags": []
   },
   "outputs": [],
   "source": [
    "# from steves_utils.CORES.utils import (\n",
    "#     ALL_NODES,\n",
    "#     ALL_NODES_MINIMUM_1000_EXAMPLES,\n",
    "#     ALL_DAYS\n",
    "# )\n",
    "\n",
    "# add_dataset(\n",
    "#     labels=ALL_NODES,\n",
    "#     domains = ALL_DAYS,\n",
    "#     num_examples_per_domain_per_label=100,\n",
    "#     pickle_path=os.path.join(get_datasets_base_path(), \"cores.stratified_ds.2022A.pkl\"),\n",
    "#     source_or_target_dataset=\"target\",\n",
    "#     x_transform_func=global_x_transform_func,\n",
    "#     domain_modifier=lambda u: f\"cores_{u}\"\n",
    "# )"
   ]
  },
  {
   "cell_type": "code",
   "execution_count": 15,
   "id": "76db484d",
   "metadata": {
    "execution": {
     "iopub.execute_input": "2022-03-17T04:51:32.099568Z",
     "iopub.status.busy": "2022-03-17T04:51:32.099313Z",
     "iopub.status.idle": "2022-03-17T04:51:32.109507Z",
     "shell.execute_reply": "2022-03-17T04:51:32.109169Z"
    },
    "papermill": {
     "duration": 0.025182,
     "end_time": "2022-03-17T04:51:32.109597",
     "exception": false,
     "start_time": "2022-03-17T04:51:32.084415",
     "status": "completed"
    },
    "tags": []
   },
   "outputs": [],
   "source": [
    "# from steves_utils.ORACLE.utils_v2 import (\n",
    "#     ALL_DISTANCES_FEET,\n",
    "#     ALL_RUNS,\n",
    "#     ALL_SERIAL_NUMBERS,\n",
    "# )\n",
    "\n",
    "\n",
    "# add_dataset(\n",
    "#     labels=ALL_SERIAL_NUMBERS,\n",
    "#     domains = list(set(ALL_DISTANCES_FEET) - {2,62}),\n",
    "#     num_examples_per_domain_per_label=100,\n",
    "#     pickle_path=os.path.join(get_datasets_base_path(), \"oracle.Run2_framed_2000Examples_stratified_ds.2022A.pkl\"),\n",
    "#     source_or_target_dataset=\"source\",\n",
    "#     x_transform_func=global_x_transform_func,\n",
    "#     domain_modifier=lambda u: f\"oracle1_{u}\"\n",
    "# )\n"
   ]
  },
  {
   "cell_type": "code",
   "execution_count": 16,
   "id": "97dea9d2",
   "metadata": {
    "execution": {
     "iopub.execute_input": "2022-03-17T04:51:32.143001Z",
     "iopub.status.busy": "2022-03-17T04:51:32.142754Z",
     "iopub.status.idle": "2022-03-17T04:51:32.157539Z",
     "shell.execute_reply": "2022-03-17T04:51:32.157105Z"
    },
    "papermill": {
     "duration": 0.029894,
     "end_time": "2022-03-17T04:51:32.157627",
     "exception": false,
     "start_time": "2022-03-17T04:51:32.127733",
     "status": "completed"
    },
    "tags": []
   },
   "outputs": [],
   "source": [
    "# from steves_utils.ORACLE.utils_v2 import (\n",
    "#     ALL_DISTANCES_FEET,\n",
    "#     ALL_RUNS,\n",
    "#     ALL_SERIAL_NUMBERS,\n",
    "# )\n",
    "\n",
    "\n",
    "# add_dataset(\n",
    "#     labels=ALL_SERIAL_NUMBERS,\n",
    "#     domains = list(set(ALL_DISTANCES_FEET) - {2,62,56}),\n",
    "#     num_examples_per_domain_per_label=100,\n",
    "#     pickle_path=os.path.join(get_datasets_base_path(), \"oracle.Run2_framed_2000Examples_stratified_ds.2022A.pkl\"),\n",
    "#     source_or_target_dataset=\"source\",\n",
    "#     x_transform_func=global_x_transform_func,\n",
    "#     domain_modifier=lambda u: f\"oracle2_{u}\"\n",
    "# )"
   ]
  },
  {
   "cell_type": "code",
   "execution_count": 17,
   "id": "6f289866",
   "metadata": {
    "execution": {
     "iopub.execute_input": "2022-03-17T04:51:32.191049Z",
     "iopub.status.busy": "2022-03-17T04:51:32.190799Z",
     "iopub.status.idle": "2022-03-17T04:51:32.200773Z",
     "shell.execute_reply": "2022-03-17T04:51:32.200354Z"
    },
    "papermill": {
     "duration": 0.024754,
     "end_time": "2022-03-17T04:51:32.200862",
     "exception": false,
     "start_time": "2022-03-17T04:51:32.176108",
     "status": "completed"
    },
    "tags": []
   },
   "outputs": [],
   "source": [
    "# add_dataset(\n",
    "#     labels=list(range(19)),\n",
    "#     domains = [0,1,2],\n",
    "#     num_examples_per_domain_per_label=100,\n",
    "#     pickle_path=os.path.join(get_datasets_base_path(), \"metehan.stratified_ds.2022A.pkl\"),\n",
    "#     source_or_target_dataset=\"target\",\n",
    "#     x_transform_func=global_x_transform_func,\n",
    "#     domain_modifier=lambda u: f\"met_{u}\"\n",
    "# )"
   ]
  },
  {
   "cell_type": "code",
   "execution_count": 18,
   "id": "86a863c3",
   "metadata": {
    "execution": {
     "iopub.execute_input": "2022-03-17T04:51:32.235217Z",
     "iopub.status.busy": "2022-03-17T04:51:32.234970Z",
     "iopub.status.idle": "2022-03-17T04:51:32.249591Z",
     "shell.execute_reply": "2022-03-17T04:51:32.249145Z"
    },
    "papermill": {
     "duration": 0.030116,
     "end_time": "2022-03-17T04:51:32.249679",
     "exception": false,
     "start_time": "2022-03-17T04:51:32.219563",
     "status": "completed"
    },
    "tags": []
   },
   "outputs": [],
   "source": [
    "# # from steves_utils.wisig.utils import (\n",
    "# #     ALL_NODES_MINIMUM_100_EXAMPLES,\n",
    "# #     ALL_NODES_MINIMUM_500_EXAMPLES,\n",
    "# #     ALL_NODES_MINIMUM_1000_EXAMPLES,\n",
    "# #     ALL_DAYS\n",
    "# # )\n",
    "\n",
    "# import steves_utils.wisig.utils as wisig\n",
    "\n",
    "\n",
    "# add_dataset(\n",
    "#     labels=wisig.ALL_NODES_MINIMUM_100_EXAMPLES,\n",
    "#     domains = wisig.ALL_DAYS,\n",
    "#     num_examples_per_domain_per_label=100,\n",
    "#     pickle_path=os.path.join(get_datasets_base_path(), \"wisig.node3-19.stratified_ds.2022A.pkl\"),\n",
    "#     source_or_target_dataset=\"target\",\n",
    "#     x_transform_func=global_x_transform_func,\n",
    "#     domain_modifier=lambda u: f\"wisig_{u}\"\n",
    "# )"
   ]
  },
  {
   "cell_type": "code",
   "execution_count": 19,
   "id": "fd5442bc",
   "metadata": {
    "execution": {
     "iopub.execute_input": "2022-03-17T04:51:32.284536Z",
     "iopub.status.busy": "2022-03-17T04:51:32.284248Z",
     "iopub.status.idle": "2022-03-17T04:51:32.295061Z",
     "shell.execute_reply": "2022-03-17T04:51:32.294847Z"
    },
    "papermill": {
     "duration": 0.027462,
     "end_time": "2022-03-17T04:51:32.295109",
     "exception": false,
     "start_time": "2022-03-17T04:51:32.267647",
     "status": "completed"
    },
    "tags": []
   },
   "outputs": [],
   "source": [
    "###################################\n",
    "# Build the dataset\n",
    "###################################\n",
    "train_original_source = Iterable_Aggregator(train_original_source, p.seed)\n",
    "val_original_source = Iterable_Aggregator(val_original_source, p.seed)\n",
    "test_original_source = Iterable_Aggregator(test_original_source, p.seed)\n",
    "\n",
    "\n",
    "train_original_target = Iterable_Aggregator(train_original_target, p.seed)\n",
    "val_original_target = Iterable_Aggregator(val_original_target, p.seed)\n",
    "test_original_target = Iterable_Aggregator(test_original_target, p.seed)\n",
    "\n",
    "# For CNN We only use X and Y. And we only train on the source.\n",
    "# Properly form the data using a transform lambda and Lazy_Iterable_Wrapper. Finally wrap them in a dataloader\n",
    "\n",
    "transform_lambda = lambda ex: ex[1] # Original is (<domain>, <episode>) so we strip down to episode only\n",
    "\n",
    "train_processed_source = Lazy_Iterable_Wrapper(train_original_source, transform_lambda)\n",
    "val_processed_source   = Lazy_Iterable_Wrapper(val_original_source, transform_lambda)\n",
    "test_processed_source  = Lazy_Iterable_Wrapper(test_original_source, transform_lambda)\n",
    "\n",
    "train_processed_target = Lazy_Iterable_Wrapper(train_original_target, transform_lambda)\n",
    "val_processed_target   = Lazy_Iterable_Wrapper(val_original_target, transform_lambda)\n",
    "test_processed_target  = Lazy_Iterable_Wrapper(test_original_target, transform_lambda)\n",
    "\n",
    "datasets = EasyDict({\n",
    "    \"source\": {\n",
    "        \"original\": {\"train\":train_original_source, \"val\":val_original_source, \"test\":test_original_source},\n",
    "        \"processed\": {\"train\":train_processed_source, \"val\":val_processed_source, \"test\":test_processed_source}\n",
    "    },\n",
    "    \"target\": {\n",
    "        \"original\": {\"train\":train_original_target, \"val\":val_original_target, \"test\":test_original_target},\n",
    "        \"processed\": {\"train\":train_processed_target, \"val\":val_processed_target, \"test\":test_processed_target}\n",
    "    },\n",
    "})"
   ]
  },
  {
   "cell_type": "code",
   "execution_count": 20,
   "id": "5b3c01fc",
   "metadata": {
    "execution": {
     "iopub.execute_input": "2022-03-17T04:51:32.328456Z",
     "iopub.status.busy": "2022-03-17T04:51:32.328207Z",
     "iopub.status.idle": "2022-03-17T04:51:37.257750Z",
     "shell.execute_reply": "2022-03-17T04:51:37.258073Z"
    },
    "papermill": {
     "duration": 4.945784,
     "end_time": "2022-03-17T04:51:37.258184",
     "exception": false,
     "start_time": "2022-03-17T04:51:32.312400",
     "status": "completed"
    },
    "tags": []
   },
   "outputs": [
    {
     "name": "stdout",
     "output_type": "stream",
     "text": [
      "{'C_A_4', 'W_A_3', 'C_A_5', 'C_A_1', 'W_A_1', 'W_A_2', 'W_A_4', 'C_A_2', 'C_A_3'}\n"
     ]
    },
    {
     "name": "stdout",
     "output_type": "stream",
     "text": [
      "{'ORACLE.run1_8', 'ORACLE.run1_38', 'ORACLE.run1_20', 'ORACLE.run1_14', 'ORACLE.run1_44', 'ORACLE.run1_26', 'ORACLE.run1_32', 'ORACLE.run1_50'}\n"
     ]
    },
    {
     "name": "stdout",
     "output_type": "stream",
     "text": [
      "tensor([[[-1.2417, -0.5531, -0.0226,  ..., -1.1943,  0.0000,  0.7450],\n",
      "         [ 0.4922,  0.0045, -0.1309,  ..., -1.1017,  0.0000, -0.0113]],\n",
      "\n",
      "        [[-0.7227,  1.4813,  0.5903,  ..., -0.6329, -0.5499, -0.7361],\n",
      "         [-1.6451,  0.1122,  1.4880,  ...,  0.9336,  0.1369, -0.8080]],\n",
      "\n",
      "        [[-0.9096,  0.3472,  0.5175,  ...,  0.5601,  0.3002,  0.3517],\n",
      "         [-0.4705, -0.5063, -0.8267,  ...,  0.0067, -0.7617, -1.4652]],\n",
      "\n",
      "        ...,\n",
      "\n",
      "        [[ 0.5750, -0.6974, -0.2740,  ...,  0.0082,  0.0806,  0.5593],\n",
      "         [ 0.5541,  0.3390, -0.4473,  ...,  0.5757, -0.3539, -0.0373]],\n",
      "\n",
      "        [[-0.1992,  0.2354, -0.4338,  ..., -0.2796, -0.6142, -0.4476],\n",
      "         [-0.1478, -0.1057, -0.1695,  ...,  0.7844,  0.2035, -1.1632]],\n",
      "\n",
      "        [[ 0.1379,  0.6563, -0.9306,  ...,  0.9573,  0.1127, -0.1127],\n",
      "         [-0.8372,  0.2936,  0.5020,  ...,  0.0178,  0.1839, -0.3930]]])\n"
     ]
    }
   ],
   "source": [
    "from steves_utils.transforms import get_average_magnitude, get_average_power\n",
    "\n",
    "print(set([u for u,_ in val_original_source]))\n",
    "print(set([u for u,_ in val_original_target]))\n",
    "\n",
    "s_x, s_y, q_x, q_y, _ = next(iter(train_processed_source))\n",
    "print(s_x)\n",
    "\n",
    "# for ds in [\n",
    "#     train_processed_source,\n",
    "#     val_processed_source,\n",
    "#     test_processed_source,\n",
    "#     train_processed_target,\n",
    "#     val_processed_target,\n",
    "#     test_processed_target\n",
    "# ]:\n",
    "#     for s_x, s_y, q_x, q_y, _ in ds:\n",
    "#         for X in (s_x, q_x):\n",
    "#             for x in X:\n",
    "#                 assert np.isclose(get_average_magnitude(x.numpy()), 1.0)\n",
    "#                 assert np.isclose(get_average_power(x.numpy()), 1.0)\n",
    "                "
   ]
  },
  {
   "cell_type": "code",
   "execution_count": 21,
   "id": "bbdacba1",
   "metadata": {
    "execution": {
     "iopub.execute_input": "2022-03-17T04:51:37.297533Z",
     "iopub.status.busy": "2022-03-17T04:51:37.297267Z",
     "iopub.status.idle": "2022-03-17T04:51:37.354132Z",
     "shell.execute_reply": "2022-03-17T04:51:37.353754Z"
    },
    "papermill": {
     "duration": 0.074121,
     "end_time": "2022-03-17T04:51:37.354228",
     "exception": false,
     "start_time": "2022-03-17T04:51:37.280107",
     "status": "completed"
    },
    "tags": []
   },
   "outputs": [
    {
     "name": "stdout",
     "output_type": "stream",
     "text": [
      "(2, 256)\n"
     ]
    }
   ],
   "source": [
    "###################################\n",
    "# Build the model\n",
    "###################################\n",
    "model = Steves_Prototypical_Network(x_net, device=p.device, x_shape=(2,256))\n",
    "optimizer = Adam(params=model.parameters(), lr=p.lr)"
   ]
  },
  {
   "cell_type": "code",
   "execution_count": 22,
   "id": "22b39ac5",
   "metadata": {
    "execution": {
     "iopub.execute_input": "2022-03-17T04:51:37.391138Z",
     "iopub.status.busy": "2022-03-17T04:51:37.390860Z",
     "iopub.status.idle": "2022-03-17T04:59:48.927655Z",
     "shell.execute_reply": "2022-03-17T04:59:48.928053Z"
    },
    "papermill": {
     "duration": 491.554981,
     "end_time": "2022-03-17T04:59:48.928180",
     "exception": false,
     "start_time": "2022-03-17T04:51:37.373199",
     "status": "completed"
    },
    "tags": []
   },
   "outputs": [
    {
     "name": "stdout",
     "output_type": "stream",
     "text": [
      "epoch: 1, [batch: 1 / 2081], examples_per_second: 125.3969, train_label_loss: 2.9273, \n"
     ]
    },
    {
     "name": "stdout",
     "output_type": "stream",
     "text": [
      "epoch: 1, [batch: 209 / 2081], examples_per_second: 3230.3676, train_label_loss: 0.0533, \n"
     ]
    },
    {
     "name": "stdout",
     "output_type": "stream",
     "text": [
      "epoch: 1, [batch: 417 / 2081], examples_per_second: 3250.6944, train_label_loss: 0.7230, \n"
     ]
    },
    {
     "name": "stdout",
     "output_type": "stream",
     "text": [
      "epoch: 1, [batch: 625 / 2081], examples_per_second: 3249.1849, train_label_loss: 0.0347, \n"
     ]
    },
    {
     "name": "stdout",
     "output_type": "stream",
     "text": [
      "epoch: 1, [batch: 833 / 2081], examples_per_second: 3233.9128, train_label_loss: 0.5963, \n"
     ]
    },
    {
     "name": "stdout",
     "output_type": "stream",
     "text": [
      "epoch: 1, [batch: 1041 / 2081], examples_per_second: 3255.8734, train_label_loss: 0.0219, \n"
     ]
    },
    {
     "name": "stdout",
     "output_type": "stream",
     "text": [
      "epoch: 1, [batch: 1249 / 2081], examples_per_second: 3245.6580, train_label_loss: 0.4171, \n"
     ]
    },
    {
     "name": "stdout",
     "output_type": "stream",
     "text": [
      "epoch: 1, [batch: 1457 / 2081], examples_per_second: 3193.1766, train_label_loss: 0.2009, \n"
     ]
    },
    {
     "name": "stdout",
     "output_type": "stream",
     "text": [
      "epoch: 1, [batch: 1665 / 2081], examples_per_second: 3230.7837, train_label_loss: 0.0388, \n"
     ]
    },
    {
     "name": "stdout",
     "output_type": "stream",
     "text": [
      "epoch: 1, [batch: 1873 / 2081], examples_per_second: 3228.2805, train_label_loss: 0.1325, \n"
     ]
    },
    {
     "name": "stdout",
     "output_type": "stream",
     "text": [
      "=============================================================\n",
      "epoch: 1, source_val_acc_label: 0.9542, target_val_acc_label: 0.1786, source_val_label_loss: 0.1908, target_val_label_loss: 2.5435, \n",
      "=============================================================\n"
     ]
    },
    {
     "name": "stdout",
     "output_type": "stream",
     "text": [
      "New best\n"
     ]
    },
    {
     "name": "stdout",
     "output_type": "stream",
     "text": [
      "epoch: 2, [batch: 1 / 2079], examples_per_second: 10.5627, train_label_loss: 0.0451, \n"
     ]
    },
    {
     "name": "stdout",
     "output_type": "stream",
     "text": [
      "epoch: 2, [batch: 208 / 2079], examples_per_second: 3228.2832, train_label_loss: 0.3382, \n"
     ]
    },
    {
     "name": "stdout",
     "output_type": "stream",
     "text": [
      "epoch: 2, [batch: 416 / 2079], examples_per_second: 3230.8613, train_label_loss: 0.0159, \n"
     ]
    },
    {
     "name": "stdout",
     "output_type": "stream",
     "text": [
      "epoch: 2, [batch: 624 / 2079], examples_per_second: 3250.0474, train_label_loss: 0.0742, \n"
     ]
    },
    {
     "name": "stdout",
     "output_type": "stream",
     "text": [
      "epoch: 2, [batch: 832 / 2079], examples_per_second: 3270.4473, train_label_loss: 0.1538, \n"
     ]
    },
    {
     "name": "stdout",
     "output_type": "stream",
     "text": [
      "epoch: 2, [batch: 1040 / 2079], examples_per_second: 3246.0282, train_label_loss: 0.3429, \n"
     ]
    },
    {
     "name": "stdout",
     "output_type": "stream",
     "text": [
      "epoch: 2, [batch: 1247 / 2079], examples_per_second: 3280.5560, train_label_loss: 0.0059, \n"
     ]
    },
    {
     "name": "stdout",
     "output_type": "stream",
     "text": [
      "epoch: 2, [batch: 1455 / 2079], examples_per_second: 3237.4482, train_label_loss: 0.1392, \n"
     ]
    },
    {
     "name": "stdout",
     "output_type": "stream",
     "text": [
      "epoch: 2, [batch: 1663 / 2079], examples_per_second: 3232.2714, train_label_loss: 0.0243, \n"
     ]
    },
    {
     "name": "stdout",
     "output_type": "stream",
     "text": [
      "epoch: 2, [batch: 1871 / 2079], examples_per_second: 3240.1937, train_label_loss: 0.0272, \n"
     ]
    },
    {
     "name": "stdout",
     "output_type": "stream",
     "text": [
      "=============================================================\n",
      "epoch: 2, source_val_acc_label: 0.9663, target_val_acc_label: 0.2135, source_val_label_loss: 0.1590, target_val_label_loss: 2.4347, \n",
      "=============================================================\n"
     ]
    },
    {
     "name": "stdout",
     "output_type": "stream",
     "text": [
      "New best\n"
     ]
    },
    {
     "name": "stdout",
     "output_type": "stream",
     "text": [
      "epoch: 3, [batch: 1 / 2082], examples_per_second: 10.4695, train_label_loss: 0.3335, \n"
     ]
    },
    {
     "name": "stdout",
     "output_type": "stream",
     "text": [
      "epoch: 3, [batch: 209 / 2082], examples_per_second: 3243.7255, train_label_loss: 0.3816, \n"
     ]
    },
    {
     "name": "stdout",
     "output_type": "stream",
     "text": [
      "epoch: 3, [batch: 417 / 2082], examples_per_second: 3273.1118, train_label_loss: 0.4771, \n"
     ]
    },
    {
     "name": "stdout",
     "output_type": "stream",
     "text": [
      "epoch: 3, [batch: 625 / 2082], examples_per_second: 3248.1454, train_label_loss: 0.3908, \n"
     ]
    },
    {
     "name": "stdout",
     "output_type": "stream",
     "text": [
      "epoch: 3, [batch: 833 / 2082], examples_per_second: 3239.0940, train_label_loss: 0.3268, \n"
     ]
    },
    {
     "name": "stdout",
     "output_type": "stream",
     "text": [
      "epoch: 3, [batch: 1041 / 2082], examples_per_second: 3246.6524, train_label_loss: 0.0136, \n"
     ]
    },
    {
     "name": "stdout",
     "output_type": "stream",
     "text": [
      "epoch: 3, [batch: 1249 / 2082], examples_per_second: 3257.4756, train_label_loss: 0.0035, \n"
     ]
    },
    {
     "name": "stdout",
     "output_type": "stream",
     "text": [
      "epoch: 3, [batch: 1457 / 2082], examples_per_second: 3223.2406, train_label_loss: 0.0623, \n"
     ]
    },
    {
     "name": "stdout",
     "output_type": "stream",
     "text": [
      "epoch: 3, [batch: 1665 / 2082], examples_per_second: 3241.8473, train_label_loss: 0.0899, \n"
     ]
    },
    {
     "name": "stdout",
     "output_type": "stream",
     "text": [
      "epoch: 3, [batch: 1873 / 2082], examples_per_second: 3228.5527, train_label_loss: 0.1089, \n"
     ]
    },
    {
     "name": "stdout",
     "output_type": "stream",
     "text": [
      "=============================================================\n",
      "epoch: 3, source_val_acc_label: 0.9731, target_val_acc_label: 0.1990, source_val_label_loss: 0.1246, target_val_label_loss: 2.4140, \n",
      "=============================================================\n"
     ]
    },
    {
     "name": "stdout",
     "output_type": "stream",
     "text": [
      "New best\n"
     ]
    },
    {
     "name": "stdout",
     "output_type": "stream",
     "text": [
      "epoch: 4, [batch: 1 / 2080], examples_per_second: 10.4641, train_label_loss: 0.1394, \n"
     ]
    },
    {
     "name": "stdout",
     "output_type": "stream",
     "text": [
      "epoch: 4, [batch: 208 / 2080], examples_per_second: 3253.3073, train_label_loss: 0.0388, \n"
     ]
    },
    {
     "name": "stdout",
     "output_type": "stream",
     "text": [
      "epoch: 4, [batch: 416 / 2080], examples_per_second: 3272.5239, train_label_loss: 0.0381, \n"
     ]
    },
    {
     "name": "stdout",
     "output_type": "stream",
     "text": [
      "epoch: 4, [batch: 624 / 2080], examples_per_second: 3248.3447, train_label_loss: 0.0097, \n"
     ]
    },
    {
     "name": "stdout",
     "output_type": "stream",
     "text": [
      "epoch: 4, [batch: 832 / 2080], examples_per_second: 3260.5813, train_label_loss: 0.0536, \n"
     ]
    },
    {
     "name": "stdout",
     "output_type": "stream",
     "text": [
      "epoch: 4, [batch: 1040 / 2080], examples_per_second: 3217.3490, train_label_loss: 0.0138, \n"
     ]
    },
    {
     "name": "stdout",
     "output_type": "stream",
     "text": [
      "epoch: 4, [batch: 1248 / 2080], examples_per_second: 3234.5349, train_label_loss: 0.0048, \n"
     ]
    },
    {
     "name": "stdout",
     "output_type": "stream",
     "text": [
      "epoch: 4, [batch: 1456 / 2080], examples_per_second: 3217.9489, train_label_loss: 0.0514, \n"
     ]
    },
    {
     "name": "stdout",
     "output_type": "stream",
     "text": [
      "epoch: 4, [batch: 1664 / 2080], examples_per_second: 3236.3056, train_label_loss: 0.0089, \n"
     ]
    },
    {
     "name": "stdout",
     "output_type": "stream",
     "text": [
      "epoch: 4, [batch: 1872 / 2080], examples_per_second: 3234.3952, train_label_loss: 0.3644, \n"
     ]
    },
    {
     "name": "stdout",
     "output_type": "stream",
     "text": [
      "=============================================================\n",
      "epoch: 4, source_val_acc_label: 0.9738, target_val_acc_label: 0.2033, source_val_label_loss: 0.1274, target_val_label_loss: 2.4064, \n",
      "=============================================================\n"
     ]
    },
    {
     "name": "stdout",
     "output_type": "stream",
     "text": [
      "New best\n"
     ]
    },
    {
     "name": "stdout",
     "output_type": "stream",
     "text": [
      "epoch: 5, [batch: 1 / 2079], examples_per_second: 10.4976, train_label_loss: 0.0021, \n"
     ]
    },
    {
     "name": "stdout",
     "output_type": "stream",
     "text": [
      "epoch: 5, [batch: 208 / 2079], examples_per_second: 3247.9777, train_label_loss: 0.1925, \n"
     ]
    },
    {
     "name": "stdout",
     "output_type": "stream",
     "text": [
      "epoch: 5, [batch: 416 / 2079], examples_per_second: 3274.5055, train_label_loss: 0.1026, \n"
     ]
    },
    {
     "name": "stdout",
     "output_type": "stream",
     "text": [
      "epoch: 5, [batch: 624 / 2079], examples_per_second: 3244.5082, train_label_loss: 0.0046, \n"
     ]
    },
    {
     "name": "stdout",
     "output_type": "stream",
     "text": [
      "epoch: 5, [batch: 832 / 2079], examples_per_second: 3159.3485, train_label_loss: 0.0027, \n"
     ]
    },
    {
     "name": "stdout",
     "output_type": "stream",
     "text": [
      "epoch: 5, [batch: 1040 / 2079], examples_per_second: 3126.2095, train_label_loss: 0.3345, \n"
     ]
    },
    {
     "name": "stdout",
     "output_type": "stream",
     "text": [
      "epoch: 5, [batch: 1247 / 2079], examples_per_second: 3227.9312, train_label_loss: 0.2527, \n"
     ]
    },
    {
     "name": "stdout",
     "output_type": "stream",
     "text": [
      "epoch: 5, [batch: 1455 / 2079], examples_per_second: 3248.1442, train_label_loss: 0.4167, \n"
     ]
    },
    {
     "name": "stdout",
     "output_type": "stream",
     "text": [
      "epoch: 5, [batch: 1663 / 2079], examples_per_second: 3223.5645, train_label_loss: 0.0578, \n"
     ]
    },
    {
     "name": "stdout",
     "output_type": "stream",
     "text": [
      "epoch: 5, [batch: 1871 / 2079], examples_per_second: 3226.0110, train_label_loss: 0.2941, \n"
     ]
    },
    {
     "name": "stdout",
     "output_type": "stream",
     "text": [
      "=============================================================\n",
      "epoch: 5, source_val_acc_label: 0.9732, target_val_acc_label: 0.1881, source_val_label_loss: 0.1321, target_val_label_loss: 2.5705, \n",
      "=============================================================\n"
     ]
    },
    {
     "name": "stdout",
     "output_type": "stream",
     "text": [
      "epoch: 6, [batch: 1 / 2081], examples_per_second: 10.4839, train_label_loss: 0.0831, \n"
     ]
    },
    {
     "name": "stdout",
     "output_type": "stream",
     "text": [
      "epoch: 6, [batch: 209 / 2081], examples_per_second: 3193.5508, train_label_loss: 0.0004, \n"
     ]
    },
    {
     "name": "stdout",
     "output_type": "stream",
     "text": [
      "epoch: 6, [batch: 417 / 2081], examples_per_second: 3223.1282, train_label_loss: 0.0346, \n"
     ]
    },
    {
     "name": "stdout",
     "output_type": "stream",
     "text": [
      "epoch: 6, [batch: 625 / 2081], examples_per_second: 3224.2738, train_label_loss: 0.0051, \n"
     ]
    },
    {
     "name": "stdout",
     "output_type": "stream",
     "text": [
      "epoch: 6, [batch: 833 / 2081], examples_per_second: 3251.3230, train_label_loss: 0.0010, \n"
     ]
    },
    {
     "name": "stdout",
     "output_type": "stream",
     "text": [
      "epoch: 6, [batch: 1041 / 2081], examples_per_second: 3249.7673, train_label_loss: 0.1442, \n"
     ]
    },
    {
     "name": "stdout",
     "output_type": "stream",
     "text": [
      "epoch: 6, [batch: 1249 / 2081], examples_per_second: 3262.5187, train_label_loss: 0.0093, \n"
     ]
    },
    {
     "name": "stdout",
     "output_type": "stream",
     "text": [
      "epoch: 6, [batch: 1457 / 2081], examples_per_second: 3258.5732, train_label_loss: 0.0007, \n"
     ]
    },
    {
     "name": "stdout",
     "output_type": "stream",
     "text": [
      "epoch: 6, [batch: 1665 / 2081], examples_per_second: 3220.8798, train_label_loss: 0.0168, \n"
     ]
    },
    {
     "name": "stdout",
     "output_type": "stream",
     "text": [
      "epoch: 6, [batch: 1873 / 2081], examples_per_second: 3266.8567, train_label_loss: 0.0113, \n"
     ]
    },
    {
     "name": "stdout",
     "output_type": "stream",
     "text": [
      "=============================================================\n",
      "epoch: 6, source_val_acc_label: 0.9759, target_val_acc_label: 0.1634, source_val_label_loss: 0.1220, target_val_label_loss: 2.7677, \n",
      "=============================================================\n"
     ]
    },
    {
     "name": "stdout",
     "output_type": "stream",
     "text": [
      "epoch: 7, [batch: 1 / 2075], examples_per_second: 10.5584, train_label_loss: 0.0004, \n"
     ]
    },
    {
     "name": "stdout",
     "output_type": "stream",
     "text": [
      "epoch: 7, [batch: 208 / 2075], examples_per_second: 3228.1472, train_label_loss: 0.0069, \n"
     ]
    },
    {
     "name": "stdout",
     "output_type": "stream",
     "text": [
      "epoch: 7, [batch: 415 / 2075], examples_per_second: 3241.1127, train_label_loss: 0.0011, \n"
     ]
    },
    {
     "name": "stdout",
     "output_type": "stream",
     "text": [
      "epoch: 7, [batch: 623 / 2075], examples_per_second: 3247.1503, train_label_loss: 0.0831, \n"
     ]
    },
    {
     "name": "stdout",
     "output_type": "stream",
     "text": [
      "epoch: 7, [batch: 830 / 2075], examples_per_second: 3252.1807, train_label_loss: 0.0059, \n"
     ]
    },
    {
     "name": "stdout",
     "output_type": "stream",
     "text": [
      "epoch: 7, [batch: 1038 / 2075], examples_per_second: 3248.2929, train_label_loss: 0.0055, \n"
     ]
    },
    {
     "name": "stdout",
     "output_type": "stream",
     "text": [
      "epoch: 7, [batch: 1245 / 2075], examples_per_second: 3266.1719, train_label_loss: 0.0004, \n"
     ]
    },
    {
     "name": "stdout",
     "output_type": "stream",
     "text": [
      "epoch: 7, [batch: 1452 / 2075], examples_per_second: 3218.4640, train_label_loss: 0.0388, \n"
     ]
    },
    {
     "name": "stdout",
     "output_type": "stream",
     "text": [
      "epoch: 7, [batch: 1660 / 2075], examples_per_second: 3238.8254, train_label_loss: 0.1004, \n"
     ]
    },
    {
     "name": "stdout",
     "output_type": "stream",
     "text": [
      "epoch: 7, [batch: 1867 / 2075], examples_per_second: 3243.0872, train_label_loss: 0.0175, \n"
     ]
    },
    {
     "name": "stdout",
     "output_type": "stream",
     "text": [
      "=============================================================\n",
      "epoch: 7, source_val_acc_label: 0.9758, target_val_acc_label: 0.1652, source_val_label_loss: 0.1251, target_val_label_loss: 2.7771, \n",
      "=============================================================\n"
     ]
    },
    {
     "name": "stdout",
     "output_type": "stream",
     "text": [
      "epoch: 8, [batch: 1 / 2082], examples_per_second: 10.5297, train_label_loss: 0.0085, \n"
     ]
    },
    {
     "name": "stdout",
     "output_type": "stream",
     "text": [
      "epoch: 8, [batch: 209 / 2082], examples_per_second: 3232.0026, train_label_loss: 0.0149, \n"
     ]
    },
    {
     "name": "stdout",
     "output_type": "stream",
     "text": [
      "epoch: 8, [batch: 417 / 2082], examples_per_second: 3232.3232, train_label_loss: 0.0646, \n"
     ]
    },
    {
     "name": "stdout",
     "output_type": "stream",
     "text": [
      "epoch: 8, [batch: 625 / 2082], examples_per_second: 3237.0022, train_label_loss: 0.1923, \n"
     ]
    },
    {
     "name": "stdout",
     "output_type": "stream",
     "text": [
      "epoch: 8, [batch: 833 / 2082], examples_per_second: 3246.0190, train_label_loss: 0.0002, \n"
     ]
    },
    {
     "name": "stdout",
     "output_type": "stream",
     "text": [
      "epoch: 8, [batch: 1041 / 2082], examples_per_second: 3235.3656, train_label_loss: 0.0007, \n"
     ]
    },
    {
     "name": "stdout",
     "output_type": "stream",
     "text": [
      "epoch: 8, [batch: 1249 / 2082], examples_per_second: 3234.9619, train_label_loss: 0.0011, \n"
     ]
    },
    {
     "name": "stdout",
     "output_type": "stream",
     "text": [
      "epoch: 8, [batch: 1457 / 2082], examples_per_second: 3248.2783, train_label_loss: 0.0184, \n"
     ]
    },
    {
     "name": "stdout",
     "output_type": "stream",
     "text": [
      "epoch: 8, [batch: 1665 / 2082], examples_per_second: 3227.4594, train_label_loss: 0.0019, \n"
     ]
    },
    {
     "name": "stdout",
     "output_type": "stream",
     "text": [
      "epoch: 8, [batch: 1873 / 2082], examples_per_second: 3256.4828, train_label_loss: 0.0447, \n"
     ]
    },
    {
     "name": "stdout",
     "output_type": "stream",
     "text": [
      "=============================================================\n",
      "epoch: 8, source_val_acc_label: 0.9784, target_val_acc_label: 0.1643, source_val_label_loss: 0.1282, target_val_label_loss: 3.3401, \n",
      "=============================================================\n"
     ]
    },
    {
     "name": "stdout",
     "output_type": "stream",
     "text": [
      "Patience (3) exhausted\n"
     ]
    }
   ],
   "source": [
    "###################################\n",
    "# train\n",
    "###################################\n",
    "jig = PTN_Train_Eval_Test_Jig(model, p.BEST_MODEL_PATH, p.device)\n",
    "\n",
    "jig.train(\n",
    "    train_iterable=datasets.source.processed.train,\n",
    "    source_val_iterable=datasets.source.processed.val,\n",
    "    target_val_iterable=datasets.target.processed.val,\n",
    "    num_epochs=p.n_epoch,\n",
    "    num_logs_per_epoch=p.NUM_LOGS_PER_EPOCH,\n",
    "    patience=p.patience,\n",
    "    optimizer=optimizer,\n",
    "    criteria_for_best=p.criteria_for_best,\n",
    ")"
   ]
  },
  {
   "cell_type": "code",
   "execution_count": 23,
   "id": "31e8fabf",
   "metadata": {
    "execution": {
     "iopub.execute_input": "2022-03-17T04:59:48.995931Z",
     "iopub.status.busy": "2022-03-17T04:59:48.995583Z",
     "iopub.status.idle": "2022-03-17T04:59:49.013333Z",
     "shell.execute_reply": "2022-03-17T04:59:49.012861Z"
    },
    "papermill": {
     "duration": 0.051586,
     "end_time": "2022-03-17T04:59:49.013428",
     "exception": false,
     "start_time": "2022-03-17T04:59:48.961842",
     "status": "completed"
    },
    "tags": []
   },
   "outputs": [],
   "source": [
    "total_experiment_time_secs = time.time() - start_time_secs"
   ]
  },
  {
   "cell_type": "code",
   "execution_count": 24,
   "id": "87b9595b",
   "metadata": {
    "execution": {
     "iopub.execute_input": "2022-03-17T04:59:49.082223Z",
     "iopub.status.busy": "2022-03-17T04:59:49.081956Z",
     "iopub.status.idle": "2022-03-17T05:00:53.238800Z",
     "shell.execute_reply": "2022-03-17T05:00:53.238394Z"
    },
    "papermill": {
     "duration": 64.191255,
     "end_time": "2022-03-17T05:00:53.238905",
     "exception": false,
     "start_time": "2022-03-17T04:59:49.047650",
     "status": "completed"
    },
    "tags": []
   },
   "outputs": [],
   "source": [
    "###################################\n",
    "# Evaluate the model\n",
    "###################################\n",
    "source_test_label_accuracy, source_test_label_loss = jig.test(datasets.source.processed.test)\n",
    "target_test_label_accuracy, target_test_label_loss = jig.test(datasets.target.processed.test)\n",
    "\n",
    "source_val_label_accuracy, source_val_label_loss = jig.test(datasets.source.processed.val)\n",
    "target_val_label_accuracy, target_val_label_loss = jig.test(datasets.target.processed.val)\n",
    "\n",
    "history = jig.get_history()\n",
    "\n",
    "total_epochs_trained = len(history[\"epoch_indices\"])\n",
    "\n",
    "val_dl = Iterable_Aggregator((datasets.source.original.val,datasets.target.original.val))\n",
    "\n",
    "confusion = ptn_confusion_by_domain_over_dataloader(model, p.device, val_dl)\n",
    "per_domain_accuracy = per_domain_accuracy_from_confusion(confusion)\n",
    "\n",
    "# Add a key to per_domain_accuracy for if it was a source domain\n",
    "for domain, accuracy in per_domain_accuracy.items():\n",
    "    per_domain_accuracy[domain] = {\n",
    "        \"accuracy\": accuracy,\n",
    "        \"source?\": domain in p.domains_source\n",
    "    }\n",
    "\n",
    "# Do an independent accuracy assesment JUST TO BE SURE!\n",
    "# _source_test_label_accuracy = independent_accuracy_assesment(model, datasets.source.processed.test, p.device)\n",
    "# _target_test_label_accuracy = independent_accuracy_assesment(model, datasets.target.processed.test, p.device)\n",
    "# _source_val_label_accuracy = independent_accuracy_assesment(model, datasets.source.processed.val, p.device)\n",
    "# _target_val_label_accuracy = independent_accuracy_assesment(model, datasets.target.processed.val, p.device)\n",
    "\n",
    "# assert(_source_test_label_accuracy == source_test_label_accuracy)\n",
    "# assert(_target_test_label_accuracy == target_test_label_accuracy)\n",
    "# assert(_source_val_label_accuracy == source_val_label_accuracy)\n",
    "# assert(_target_val_label_accuracy == target_val_label_accuracy)\n",
    "\n",
    "experiment = {\n",
    "    \"experiment_name\": p.experiment_name,\n",
    "    \"parameters\": dict(p),\n",
    "    \"results\": {\n",
    "        \"source_test_label_accuracy\": source_test_label_accuracy,\n",
    "        \"source_test_label_loss\": source_test_label_loss,\n",
    "        \"target_test_label_accuracy\": target_test_label_accuracy,\n",
    "        \"target_test_label_loss\": target_test_label_loss,\n",
    "        \"source_val_label_accuracy\": source_val_label_accuracy,\n",
    "        \"source_val_label_loss\": source_val_label_loss,\n",
    "        \"target_val_label_accuracy\": target_val_label_accuracy,\n",
    "        \"target_val_label_loss\": target_val_label_loss,\n",
    "        \"total_epochs_trained\": total_epochs_trained,\n",
    "        \"total_experiment_time_secs\": total_experiment_time_secs,\n",
    "        \"confusion\": confusion,\n",
    "        \"per_domain_accuracy\": per_domain_accuracy,\n",
    "    },\n",
    "    \"history\": history,\n",
    "    \"dataset_metrics\": get_dataset_metrics(datasets, \"ptn\"),\n",
    "}"
   ]
  },
  {
   "cell_type": "code",
   "execution_count": 25,
   "id": "54a21829",
   "metadata": {
    "execution": {
     "iopub.execute_input": "2022-03-17T05:00:53.308720Z",
     "iopub.status.busy": "2022-03-17T05:00:53.308462Z",
     "iopub.status.idle": "2022-03-17T05:00:53.434544Z",
     "shell.execute_reply": "2022-03-17T05:00:53.434166Z"
    },
    "papermill": {
     "duration": 0.15922,
     "end_time": "2022-03-17T05:00:53.434639",
     "exception": false,
     "start_time": "2022-03-17T05:00:53.275419",
     "status": "completed"
    },
    "tags": []
   },
   "outputs": [
    {
     "data": {
      "image/png": "[encoded data removed]",
      "text/plain": [
       "<Figure size 1080x504 with 1 Axes>"
      ]
     },
     "metadata": {
      "needs_background": "light"
     },
     "output_type": "display_data"
    }
   ],
   "source": [
    "ax = get_loss_curve(experiment)\n",
    "plt.show()"
   ]
  },
  {
   "cell_type": "code",
   "execution_count": 26,
   "id": "fd8a0f60",
   "metadata": {
    "execution": {
     "iopub.execute_input": "2022-03-17T05:00:53.504845Z",
     "iopub.status.busy": "2022-03-17T05:00:53.504596Z",
     "iopub.status.idle": "2022-03-17T05:00:53.646412Z",
     "shell.execute_reply": "2022-03-17T05:00:53.646635Z"
    },
    "papermill": {
     "duration": 0.176245,
     "end_time": "2022-03-17T05:00:53.646703",
     "exception": false,
     "start_time": "2022-03-17T05:00:53.470458",
     "status": "completed"
    },
    "tags": []
   },
   "outputs": [
    {
     "data": {
      "text/plain": [
       "<AxesSubplot:title={'center':'Results'}>"
      ]
     },
     "execution_count": 26,
     "metadata": {},
     "output_type": "execute_result"
    },
    {
     "data": {
      "image/png": "[encoded data removed]",
      "text/plain": [
       "<Figure size 1080x504 with 1 Axes>"
      ]
     },
     "metadata": {
      "needs_background": "light"
     },
     "output_type": "display_data"
    }
   ],
   "source": [
    "get_results_table(experiment)"
   ]
  },
  {
   "cell_type": "code",
   "execution_count": 27,
   "id": "cf8dc689",
   "metadata": {
    "execution": {
     "iopub.execute_input": "2022-03-17T05:00:53.714238Z",
     "iopub.status.busy": "2022-03-17T05:00:53.713985Z",
     "iopub.status.idle": "2022-03-17T05:00:53.870514Z",
     "shell.execute_reply": "2022-03-17T05:00:53.870921Z"
    },
    "papermill": {
     "duration": 0.191115,
     "end_time": "2022-03-17T05:00:53.871035",
     "exception": false,
     "start_time": "2022-03-17T05:00:53.679920",
     "status": "completed"
    },
    "tags": []
   },
   "outputs": [
    {
     "data": {
      "text/plain": [
       "<AxesSubplot:title={'center':'Per Domain Validation Accuracy'}, xlabel='domain'>"
      ]
     },
     "execution_count": 27,
     "metadata": {},
     "output_type": "execute_result"
    },
    {
     "data": {
      "image/png": "[encoded data removed]",
      "text/plain": [
       "<Figure size 1080x504 with 1 Axes>"
      ]
     },
     "metadata": {
      "needs_background": "light"
     },
     "output_type": "display_data"
    }
   ],
   "source": [
    "get_domain_accuracies(experiment)"
   ]
  },
  {
   "cell_type": "code",
   "execution_count": 28,
   "id": "a74ae082",
   "metadata": {
    "execution": {
     "iopub.execute_input": "2022-03-17T05:00:53.944844Z",
     "iopub.status.busy": "2022-03-17T05:00:53.943871Z",
     "iopub.status.idle": "2022-03-17T05:00:53.959814Z",
     "shell.execute_reply": "2022-03-17T05:00:53.960183Z"
    },
    "papermill": {
     "duration": 0.051665,
     "end_time": "2022-03-17T05:00:53.960297",
     "exception": false,
     "start_time": "2022-03-17T05:00:53.908632",
     "status": "completed"
    },
    "tags": []
   },
   "outputs": [
    {
     "name": "stdout",
     "output_type": "stream",
     "text": [
      "Source Test Label Accuracy: 0.9683219178082192 Target Test Label Accuracy: 0.19928385416666666\n",
      "Source Val Label Accuracy: 0.9737799657534246 Target Val Label Accuracy: 0.20325520833333333\n"
     ]
    }
   ],
   "source": [
    "print(\"Source Test Label Accuracy:\", experiment[\"results\"][\"source_test_label_accuracy\"], \"Target Test Label Accuracy:\", experiment[\"results\"][\"target_test_label_accuracy\"])\n",
    "print(\"Source Val Label Accuracy:\", experiment[\"results\"][\"source_val_label_accuracy\"], \"Target Val Label Accuracy:\", experiment[\"results\"][\"target_val_label_accuracy\"])"
   ]
  },
  {
   "cell_type": "code",
   "execution_count": 29,
   "id": "dacca602",
   "metadata": {
    "execution": {
     "iopub.execute_input": "2022-03-17T05:00:54.030867Z",
     "iopub.status.busy": "2022-03-17T05:00:54.030619Z",
     "iopub.status.idle": "2022-03-17T05:00:54.048315Z",
     "shell.execute_reply": "2022-03-17T05:00:54.048659Z"
    },
    "papermill": {
     "duration": 0.053238,
     "end_time": "2022-03-17T05:00:54.048752",
     "exception": false,
     "start_time": "2022-03-17T05:00:53.995514",
     "status": "completed"
    },
    "tags": [
     "experiment_json"
    ]
   },
   "outputs": [
    {
     "data": {
      "text/plain": [
       "'{\"experiment_name\": \"cores+wisig -> oracle.run1.framed\", \"parameters\": {\"experiment_name\": \"cores+wisig -> oracle.run1.framed\", \"device\": \"cuda\", \"lr\": 0.001, \"seed\": 1337, \"dataset_seed\": 1337, \"n_shot\": 3, \"n_query\": 2, \"train_k_factor\": 3, \"val_k_factor\": 2, \"test_k_factor\": 2, \"torch_default_dtype\": \"torch.float32\", \"n_epoch\": 50, \"patience\": 3, \"criteria_for_best\": \"target_loss\", \"x_net\": [{\"class\": \"nnReshape\", \"kargs\": {\"shape\": [-1, 1, 2, 256]}}, {\"class\": \"Conv2d\", \"kargs\": {\"in_channels\": 1, \"out_channels\": 256, \"kernel_size\": [1, 7], \"bias\": false, \"padding\": [0, 3]}}, {\"class\": \"ReLU\", \"kargs\": {\"inplace\": true}}, {\"class\": \"BatchNorm2d\", \"kargs\": {\"num_features\": 256}}, {\"class\": \"Conv2d\", \"kargs\": {\"in_channels\": 256, \"out_channels\": 80, \"kernel_size\": [2, 7], \"bias\": true, \"padding\": [0, 3]}}, {\"class\": \"ReLU\", \"kargs\": {\"inplace\": true}}, {\"class\": \"BatchNorm2d\", \"kargs\": {\"num_features\": 80}}, {\"class\": \"Flatten\", \"kargs\": {}}, {\"class\": \"Linear\", \"kargs\": {\"in_features\": 20480, \"out_features\": 256}}, {\"class\": \"ReLU\", \"kargs\": {\"inplace\": true}}, {\"class\": \"BatchNorm1d\", \"kargs\": {\"num_features\": 256}}, {\"class\": \"Linear\", \"kargs\": {\"in_features\": 256, \"out_features\": 256}}], \"NUM_LOGS_PER_EPOCH\": 10, \"BEST_MODEL_PATH\": \"./best_model.pth\", \"n_way\": 16, \"datasets\": [{\"labels\": [\"1-10.\", \"1-11.\", \"1-15.\", \"1-16.\", \"1-17.\", \"1-18.\", \"1-19.\", \"10-4.\", \"10-7.\", \"11-1.\", \"11-14.\", \"11-17.\", \"11-20.\", \"11-7.\", \"13-20.\", \"13-8.\", \"14-10.\", \"14-11.\", \"14-14.\", \"14-7.\", \"15-1.\", \"15-20.\", \"16-1.\", \"16-16.\", \"17-10.\", \"17-11.\", \"17-2.\", \"19-1.\", \"19-16.\", \"19-19.\", \"19-20.\", \"19-3.\", \"2-10.\", \"2-11.\", \"2-17.\", \"2-18.\", \"2-20.\", \"2-3.\", \"2-4.\", \"2-5.\", \"2-6.\", \"2-7.\", \"2-8.\", \"3-13.\", \"3-18.\", \"3-3.\", \"4-1.\", \"4-10.\", \"4-11.\", \"4-19.\", \"5-5.\", \"6-15.\", \"7-10.\", \"7-14.\", \"8-18.\", \"8-20.\", \"8-3.\", \"8-8.\"], \"domains\": [1, 2, 3, 4, 5], \"num_examples_per_domain_per_label\": 100, \"pickle_path\": \"/mnt/wd500GB/CSC500/csc500-main/datasets/cores.stratified_ds.2022A.pkl\", \"source_or_target_dataset\": \"source\", \"x_transforms\": [\"unit_mag\"], \"episode_transforms\": [], \"domain_prefix\": \"C_A_\"}, {\"labels\": [\"1-10\", \"1-12\", \"1-14\", \"1-16\", \"1-18\", \"1-19\", \"1-8\", \"10-11\", \"10-17\", \"10-4\", \"10-7\", \"11-1\", \"11-10\", \"11-19\", \"11-20\", \"11-4\", \"11-7\", \"12-19\", \"12-20\", \"12-7\", \"13-14\", \"13-18\", \"13-19\", \"13-20\", \"13-3\", \"13-7\", \"14-10\", \"14-11\", \"14-12\", \"14-13\", \"14-14\", \"14-19\", \"14-20\", \"14-7\", \"14-8\", \"14-9\", \"15-1\", \"15-19\", \"15-6\", \"16-1\", \"16-16\", \"16-19\", \"16-20\", \"17-10\", \"17-11\", \"18-1\", \"18-10\", \"18-11\", \"18-12\", \"18-13\", \"18-14\", \"18-15\", \"18-16\", \"18-17\", \"18-19\", \"18-2\", \"18-20\", \"18-4\", \"18-5\", \"18-7\", \"18-8\", \"18-9\", \"19-1\", \"19-10\", \"19-11\", \"19-12\", \"19-13\", \"19-14\", \"19-15\", \"19-19\", \"19-2\", \"19-20\", \"19-3\", \"19-4\", \"19-6\", \"19-7\", \"19-8\", \"19-9\", \"2-1\", \"2-13\", \"2-15\", \"2-3\", \"2-4\", \"2-5\", \"2-6\", \"2-7\", \"2-8\", \"20-1\", \"20-12\", \"20-14\", \"20-15\", \"20-16\", \"20-18\", \"20-19\", \"20-20\", \"20-3\", \"20-4\", \"20-5\", \"20-7\", \"20-8\", \"3-1\", \"3-13\", \"3-18\", \"3-2\", \"3-8\", \"4-1\", \"4-10\", \"4-11\", \"5-1\", \"5-5\", \"6-1\", \"6-15\", \"6-6\", \"7-10\", \"7-11\", \"7-12\", \"7-13\", \"7-14\", \"7-7\", \"7-8\", \"7-9\", \"8-1\", \"8-13\", \"8-14\", \"8-18\", \"8-20\", \"8-3\", \"8-8\", \"9-1\", \"9-7\"], \"domains\": [1, 2, 3, 4], \"num_examples_per_domain_per_label\": 100, \"pickle_path\": \"/mnt/wd500GB/CSC500/csc500-main/datasets/wisig.node3-19.stratified_ds.2022A.pkl\", \"source_or_target_dataset\": \"source\", \"x_transforms\": [\"unit_mag\"], \"episode_transforms\": [], \"domain_prefix\": \"W_A_\"}, {\"labels\": [\"3123D52\", \"3123D65\", \"3123D79\", \"3123D80\", \"3123D54\", \"3123D70\", \"3123D7B\", \"3123D89\", \"3123D58\", \"3123D76\", \"3123D7D\", \"3123EFE\", \"3123D64\", \"3123D78\", \"3123D7E\", \"3124E4A\"], \"domains\": [32, 38, 8, 44, 14, 50, 20, 26], \"num_examples_per_domain_per_label\": 2000, \"pickle_path\": \"/mnt/wd500GB/CSC500/csc500-main/datasets/oracle.Run1_framed_2000Examples_stratified_ds.2022A.pkl\", \"source_or_target_dataset\": \"target\", \"x_transforms\": [\"unit_mag\"], \"episode_transforms\": [], \"domain_prefix\": \"ORACLE.run1_\"}], \"domains_source\": [\"C_A_1\", \"C_A_2\", \"C_A_3\", \"C_A_4\", \"C_A_5\", \"W_A_1\", \"W_A_2\", \"W_A_3\", \"W_A_4\"], \"domains_target\": [\"ORACLE.run1_32\", \"ORACLE.run1_38\", \"ORACLE.run1_8\", \"ORACLE.run1_44\", \"ORACLE.run1_14\", \"ORACLE.run1_50\", \"ORACLE.run1_20\", \"ORACLE.run1_26\"]}, \"results\": {\"source_test_label_accuracy\": 0.9683219178082192, \"source_test_label_loss\": 0.14149147272109985, \"target_test_label_accuracy\": 0.19928385416666666, \"target_test_label_loss\": 2.400320291519165, \"source_val_label_accuracy\": 0.9737799657534246, \"source_val_label_loss\": 0.12736979126930237, \"target_val_label_accuracy\": 0.20325520833333333, \"target_val_label_loss\": 2.406428337097168, \"total_epochs_trained\": 8, \"total_experiment_time_secs\": 518.0036997795105, \"confusion\": {\"W_A_3\": {\"109\": {\"109\": 12}, \"127\": {\"127\": 12}, \"14\": {\"14\": 12}, \"7\": {\"7\": 12}, \"129\": {\"129\": 12}, \"57\": {\"57\": 12}, \"84\": {\"84\": 10, \"93\": 1, \"16\": 1}, \"114\": {\"114\": 12}, \"44\": {\"44\": 10, \"57\": 1, \"80\": 1}, \"21\": {\"21\": 12}, \"46\": {\"46\": 12}, \"100\": {\"100\": 12}, \"63\": {\"63\": 8, \"57\": 1, \"99\": 1, \"43\": 1, \"21\": 1}, \"24\": {\"24\": 10, \"21\": 1, \"54\": 1}, \"107\": {\"107\": 12}, \"35\": {\"109\": 1, \"35\": 8, \"13\": 1}, \"81\": {\"81\": 12}, \"64\": {\"64\": 12}, \"59\": {\"124\": 1, \"59\": 11}, \"33\": {\"33\": 12}, \"34\": {\"34\": 12}, \"36\": {\"36\": 12}, \"79\": {\"79\": 12}, \"80\": {\"80\": 11, \"5\": 1}, \"77\": {\"77\": 12}, \"22\": {\"22\": 11, \"105\": 1}, \"124\": {\"124\": 12}, \"2\": {\"2\": 12}, \"87\": {\"87\": 11, \"106\": 1}, \"105\": {\"105\": 12}, \"95\": {\"95\": 12}, \"43\": {\"43\": 11, \"60\": 1}, \"56\": {\"56\": 10}, \"18\": {\"18\": 12}, \"85\": {\"85\": 12}, \"113\": {\"113\": 12}, \"97\": {\"97\": 12}, \"86\": {\"86\": 12}, \"128\": {\"128\": 12}, \"123\": {\"123\": 12}, \"8\": {\"8\": 12}, \"110\": {\"110\": 12}, \"126\": {\"126\": 12}, \"101\": {\"101\": 12}, \"115\": {\"115\": 12}, \"49\": {\"49\": 11, \"42\": 1}, \"45\": {\"45\": 12}, \"78\": {\"78\": 10, \"106\": 1, \"13\": 1}, \"65\": {\"65\": 7, \"35\": 2, \"36\": 1}, \"54\": {\"54\": 12}, \"31\": {\"31\": 10}, \"42\": {\"42\": 11, \"82\": 1}, \"68\": {\"68\": 12}, \"15\": {\"15\": 12}, \"69\": {\"69\": 12}, \"17\": {\"31\": 1, \"17\": 7, \"68\": 1, \"24\": 1}, \"73\": {\"73\": 12}, \"121\": {\"121\": 12}, \"102\": {\"102\": 12}, \"48\": {\"48\": 11, \"56\": 1}, \"23\": {\"23\": 10, \"70\": 1, \"73\": 1}, \"108\": {\"108\": 12}, \"53\": {\"53\": 12}, \"94\": {\"94\": 10}, \"41\": {\"41\": 12}, \"58\": {\"58\": 12}, \"29\": {\"29\": 12}, \"116\": {\"116\": 11, \"39\": 1}, \"60\": {\"60\": 11, \"5\": 1}, \"104\": {\"104\": 12}, \"106\": {\"106\": 11, \"30\": 1}, \"66\": {\"66\": 12}, \"47\": {\"47\": 12}, \"40\": {\"40\": 12}, \"82\": {\"82\": 12}, \"13\": {\"13\": 10, \"113\": 1, \"120\": 1}, \"19\": {\"19\": 12}, \"72\": {\"72\": 12}, \"9\": {\"9\": 12}, \"67\": {\"67\": 12}, \"11\": {\"11\": 12}, \"125\": {\"125\": 12}, \"76\": {\"76\": 8}, \"83\": {\"83\": 12}, \"74\": {\"74\": 12}, \"20\": {\"20\": 12}, \"119\": {\"119\": 12}, \"1\": {\"1\": 12}, \"16\": {\"16\": 12}, \"25\": {\"25\": 11, \"73\": 1}, \"90\": {\"90\": 8}, \"39\": {\"39\": 11, \"126\": 1}, \"28\": {\"28\": 12}, \"55\": {\"55\": 12}, \"117\": {\"117\": 12}, \"112\": {\"112\": 12}, \"38\": {\"38\": 12}, \"37\": {\"37\": 12}, \"120\": {\"120\": 12}, \"122\": {\"122\": 12}, \"50\": {\"50\": 12}, \"10\": {\"10\": 12}, \"5\": {\"5\": 12}, \"51\": {\"51\": 12}, \"3\": {\"3\": 10, \"70\": 1, \"122\": 1}, \"98\": {\"98\": 11, \"60\": 1}, \"70\": {\"70\": 10, \"110\": 2}, \"96\": {\"96\": 12}, \"12\": {\"12\": 12}, \"99\": {\"99\": 12}, \"52\": {\"52\": 12}, \"71\": {\"71\": 11, \"61\": 1}, \"89\": {\"89\": 12}, \"0\": {\"0\": 12}, \"4\": {\"4\": 9, \"50\": 2, \"118\": 1}, \"93\": {\"93\": 12}, \"6\": {\"6\": 10}, \"75\": {\"75\": 12}, \"62\": {\"62\": 12}, \"103\": {\"103\": 12}, \"30\": {\"30\": 12}, \"91\": {\"91\": 12}, \"27\": {\"27\": 11, \"24\": 1}, \"26\": {\"26\": 12}, \"61\": {\"61\": 12}, \"118\": {\"118\": 12}, \"92\": {\"92\": 12}, \"111\": {\"111\": 12}, \"32\": {\"32\": 12}, \"88\": {\"88\": 9, \"112\": 1}}, \"W_A_4\": {\"28\": {\"28\": 12}, \"4\": {\"4\": 11, \"55\": 1}, \"72\": {\"72\": 12}, \"111\": {\"111\": 12}, \"108\": {\"11\": 1, \"108\": 11}, \"43\": {\"43\": 10}, \"96\": {\"96\": 12}, \"89\": {\"89\": 12}, \"31\": {\"31\": 12}, \"45\": {\"45\": 12}, \"2\": {\"2\": 12}, \"114\": {\"114\": 12}, \"11\": {\"11\": 12}, \"12\": {\"12\": 11, \"103\": 1}, \"14\": {\"14\": 12}, \"90\": {\"90\": 12}, \"10\": {\"10\": 9, \"24\": 1, \"27\": 1, \"34\": 1}, \"63\": {\"12\": 1, \"63\": 10, \"71\": 1}, \"85\": {\"85\": 11, \"12\": 1}, \"64\": {\"64\": 12}, \"82\": {\"82\": 10, \"127\": 1, \"95\": 1}, \"58\": {\"58\": 12}, \"3\": {\"3\": 12}, \"54\": {\"54\": 12}, \"121\": {\"121\": 12}, \"42\": {\"42\": 12}, \"98\": {\"98\": 12}, \"123\": {\"123\": 11, \"113\": 1}, \"91\": {\"91\": 10, \"12\": 1, \"37\": 1}, \"66\": {\"66\": 12}, \"102\": {\"102\": 12}, \"122\": {\"122\": 11, \"106\": 1}, \"1\": {\"1\": 12}, \"15\": {\"15\": 12}, \"97\": {\"97\": 10, \"54\": 1, \"12\": 1}, \"75\": {\"75\": 12}, \"95\": {\"95\": 12}, \"57\": {\"57\": 12}, \"68\": {\"68\": 12}, \"125\": {\"125\": 12}, \"62\": {\"62\": 10}, \"27\": {\"27\": 9, \"78\": 1, \"108\": 1, \"3\": 1}, \"120\": {\"120\": 11, \"23\": 1}, \"26\": {\"26\": 12}, \"55\": {\"55\": 12}, \"71\": {\"71\": 11, \"8\": 1}, \"22\": {\"22\": 12}, \"99\": {\"99\": 11, \"128\": 1}, \"84\": {\"84\": 10, \"103\": 1, \"30\": 1}, \"37\": {\"37\": 12}, \"83\": {\"83\": 12}, \"46\": {\"46\": 12}, \"35\": {\"35\": 12}, \"13\": {\"13\": 12}, \"53\": {\"53\": 10, \"3\": 1, \"21\": 1}, \"127\": {\"127\": 12}, \"69\": {\"54\": 1, \"69\": 10, \"98\": 1}, \"48\": {\"48\": 11, \"10\": 1}, \"16\": {\"16\": 12}, \"0\": {\"0\": 11, \"4\": 1}, \"8\": {\"8\": 10, \"53\": 1, \"100\": 1}, \"9\": {\"9\": 12}, \"115\": {\"115\": 11, \"110\": 1}, \"70\": {\"70\": 11, \"78\": 1}, \"119\": {\"119\": 12}, \"59\": {\"59\": 12}, \"52\": {\"52\": 12}, \"60\": {\"60\": 9, \"99\": 1, \"110\": 2}, \"44\": {\"44\": 11, \"90\": 1}, \"51\": {\"51\": 11, \"36\": 1}, \"6\": {\"6\": 12}, \"73\": {\"73\": 12}, \"78\": {\"78\": 11, \"87\": 1}, \"92\": {\"92\": 12}, \"20\": {\"20\": 10, \"73\": 1, \"5\": 1}, \"17\": {\"17\": 12}, \"74\": {\"74\": 12}, \"19\": {\"19\": 12}, \"50\": {\"50\": 12}, \"34\": {\"34\": 10, \"115\": 1, \"119\": 1}, \"104\": {\"104\": 8}, \"33\": {\"33\": 11, \"70\": 1}, \"5\": {\"5\": 12}, \"7\": {\"7\": 11, \"129\": 1}, \"29\": {\"29\": 12}, \"25\": {\"25\": 12}, \"124\": {\"124\": 12}, \"117\": {\"117\": 10, \"59\": 1, \"12\": 1}, \"88\": {\"88\": 10, \"122\": 1, \"31\": 1}, \"61\": {\"61\": 11, \"88\": 1}, \"86\": {\"86\": 12}, \"116\": {\"116\": 12}, \"24\": {\"24\": 10, \"36\": 2}, \"128\": {\"128\": 11, \"78\": 1}, \"101\": {\"101\": 12}, \"65\": {\"65\": 9, \"23\": 1}, \"36\": {\"36\": 9, \"24\": 3}, \"21\": {\"99\": 1, \"21\": 6, \"100\": 1, \"39\": 1, \"51\": 1, \"128\": 1, \"78\": 1}, \"106\": {\"106\": 12}, \"118\": {\"118\": 10, \"88\": 1, \"46\": 1}, \"113\": {\"113\": 11, \"36\": 1}, \"40\": {\"40\": 12}, \"93\": {\"93\": 7, \"110\": 1}, \"94\": {\"94\": 11, \"36\": 1}, \"103\": {\"8\": 2, \"6\": 2, \"103\": 5, \"5\": 1, \"65\": 1, \"120\": 1}, \"110\": {\"110\": 12}, \"56\": {\"56\": 12}, \"39\": {\"39\": 10, \"110\": 1, \"18\": 1}, \"109\": {\"109\": 12}, \"67\": {\"67\": 11, \"31\": 1}, \"129\": {\"129\": 12}, \"30\": {\"30\": 12}, \"126\": {\"126\": 10, \"76\": 1, \"108\": 1}, \"87\": {\"51\": 1, \"87\": 11}, \"112\": {\"112\": 12}, \"100\": {\"100\": 12}, \"79\": {\"79\": 10}, \"81\": {\"81\": 11, \"108\": 1}, \"76\": {\"76\": 10}, \"47\": {\"47\": 11, \"51\": 1}, \"77\": {\"77\": 12}, \"23\": {\"72\": 2, \"23\": 7, \"108\": 1, \"81\": 1, \"78\": 1}, \"18\": {\"18\": 12}, \"49\": {\"49\": 12}, \"41\": {\"41\": 10, \"30\": 1, \"12\": 1}, \"32\": {\"32\": 12}, \"107\": {\"107\": 10}, \"80\": {\"80\": 11, \"23\": 1}, \"105\": {\"105\": 7, \"87\": 2, \"113\": 1}, \"38\": {\"38\": 10}}, \"C_A_3\": {\"43\": {\"43\": 12}, \"9\": {\"9\": 12}, \"6\": {\"6\": 10}, \"3\": {\"3\": 12}, \"16\": {\"16\": 12}, \"51\": {\"51\": 12}, \"31\": {\"31\": 12}, \"46\": {\"46\": 8, \"38\": 1, \"47\": 1}, \"19\": {\"19\": 8}, \"8\": {\"8\": 12}, \"18\": {\"18\": 12}, \"37\": {\"37\": 12}, \"24\": {\"24\": 12}, \"10\": {\"10\": 12}, \"44\": {\"44\": 10}, \"14\": {\"14\": 12}, \"38\": {\"38\": 10}, \"53\": {\"53\": 12}, \"20\": {\"20\": 12}, \"32\": {\"32\": 12}, \"36\": {\"36\": 10}, \"33\": {\"33\": 12}, \"56\": {\"56\": 12}, \"23\": {\"23\": 12}, \"54\": {\"54\": 10}, \"34\": {\"34\": 12}, \"13\": {\"13\": 12}, \"2\": {\"2\": 12}, \"55\": {\"55\": 10}, \"21\": {\"21\": 10}, \"49\": {\"49\": 10}, \"25\": {\"25\": 12}, \"5\": {\"5\": 12}, \"50\": {\"25\": 1, \"50\": 7}, \"40\": {\"40\": 12}, \"57\": {\"57\": 8}, \"22\": {\"22\": 10}, \"1\": {\"1\": 10}, \"17\": {\"17\": 12}, \"41\": {\"41\": 12}, \"4\": {\"4\": 10}, \"7\": {\"7\": 10}, \"26\": {\"26\": 10}, \"29\": {\"29\": 12}, \"52\": {\"52\": 12}, \"15\": {\"15\": 12}, \"35\": {\"35\": 12}, \"42\": {\"42\": 12}, \"30\": {\"30\": 10}, \"27\": {\"27\": 8}, \"45\": {\"45\": 10}, \"0\": {\"0\": 12}, \"28\": {\"28\": 12}, \"47\": {\"47\": 12}, \"11\": {\"11\": 10}, \"39\": {\"39\": 10}, \"48\": {\"48\": 12}, \"12\": {\"12\": 8}}, \"C_A_4\": {\"35\": {\"35\": 10}, \"25\": {\"25\": 12}, \"24\": {\"24\": 10}, \"48\": {\"48\": 12}, \"51\": {\"51\": 12}, \"13\": {\"13\": 12}, \"14\": {\"14\": 8}, \"32\": {\"32\": 12}, \"30\": {\"30\": 12}, \"34\": {\"34\": 10}, \"9\": {\"9\": 12}, \"1\": {\"1\": 12}, \"0\": {\"0\": 12}, \"38\": {\"38\": 12}, \"22\": {\"22\": 8}, \"40\": {\"40\": 12}, \"39\": {\"39\": 12}, \"46\": {\"46\": 11, \"3\": 1}, \"36\": {\"36\": 12}, \"50\": {\"50\": 12}, \"49\": {\"49\": 12}, \"17\": {\"17\": 12}, \"45\": {\"45\": 12}, \"6\": {\"6\": 12}, \"8\": {\"8\": 12}, \"5\": {\"5\": 10}, \"33\": {\"33\": 12}, \"31\": {\"31\": 12}, \"37\": {\"37\": 10}, \"47\": {\"47\": 8}, \"15\": {\"15\": 10}, \"7\": {\"7\": 12}, \"20\": {\"20\": 12}, \"4\": {\"4\": 12}, \"54\": {\"54\": 12}, \"44\": {\"44\": 12}, \"3\": {\"3\": 12}, \"11\": {\"11\": 10}, \"27\": {\"27\": 10}, \"19\": {\"19\": 12}, \"55\": {\"55\": 12}, \"16\": {\"16\": 12}, \"2\": {\"2\": 10}, \"52\": {\"52\": 10}, \"42\": {\"42\": 10}, \"26\": {\"26\": 12}, \"10\": {\"10\": 12}, \"53\": {\"53\": 10}, \"28\": {\"28\": 12}, \"21\": {\"21\": 10}, \"57\": {\"57\": 10}, \"23\": {\"23\": 8}, \"43\": {\"43\": 10}, \"12\": {\"12\": 12}, \"41\": {\"41\": 12}, \"56\": {\"56\": 8}, \"18\": {\"18\": 10}, \"29\": {\"29\": 8}}, \"W_A_1\": {\"108\": {\"108\": 10}, \"40\": {\"40\": 12}, \"68\": {\"68\": 12}, \"23\": {\"23\": 12}, \"26\": {\"70\": 1, \"26\": 11}, \"64\": {\"64\": 12}, \"22\": {\"22\": 12}, \"3\": {\"3\": 12}, \"4\": {\"4\": 11, \"73\": 1}, \"70\": {\"70\": 12}, \"57\": {\"57\": 12}, \"79\": {\"79\": 12}, \"9\": {\"9\": 11, \"124\": 1}, \"89\": {\"89\": 12}, \"110\": {\"110\": 12}, \"102\": {\"102\": 12}, \"31\": {\"31\": 12}, \"58\": {\"58\": 12}, \"47\": {\"47\": 12}, \"24\": {\"24\": 11, \"97\": 1}, \"19\": {\"19\": 12}, \"11\": {\"11\": 12}, \"52\": {\"52\": 12}, \"17\": {\"17\": 12}, \"25\": {\"25\": 12}, \"69\": {\"69\": 12}, \"96\": {\"96\": 12}, \"109\": {\"109\": 11, \"126\": 1}, \"115\": {\"115\": 12}, \"83\": {\"83\": 11, \"14\": 1}, \"84\": {\"84\": 12}, \"119\": {\"119\": 10}, \"122\": {\"122\": 10}, \"99\": {\"99\": 12}, \"1\": {\"1\": 12}, \"74\": {\"74\": 10, \"65\": 1, \"34\": 1}, \"85\": {\"85\": 12}, \"127\": {\"127\": 12}, \"111\": {\"111\": 12}, \"53\": {\"53\": 12}, \"88\": {\"88\": 11, \"36\": 1}, \"65\": {\"65\": 8, \"103\": 1, \"83\": 1}, \"7\": {\"7\": 12}, \"16\": {\"16\": 11, \"122\": 1}, \"128\": {\"128\": 12}, \"34\": {\"34\": 12}, \"129\": {\"129\": 12}, \"43\": {\"43\": 12}, \"92\": {\"92\": 12}, \"28\": {\"28\": 12}, \"27\": {\"27\": 12}, \"114\": {\"114\": 12}, \"73\": {\"73\": 12}, \"0\": {\"0\": 12}, \"104\": {\"104\": 12}, \"118\": {\"118\": 12}, \"41\": {\"41\": 12}, \"49\": {\"49\": 12}, \"14\": {\"14\": 12}, \"46\": {\"66\": 1, \"46\": 10, \"45\": 1}, \"33\": {\"33\": 12}, \"76\": {\"76\": 12}, \"125\": {\"125\": 12}, \"86\": {\"86\": 10}, \"66\": {\"66\": 11, \"115\": 1}, \"5\": {\"5\": 12}, \"117\": {\"117\": 12}, \"75\": {\"75\": 12}, \"61\": {\"61\": 12}, \"50\": {\"50\": 11, \"12\": 1}, \"67\": {\"67\": 10}, \"18\": {\"18\": 12}, \"98\": {\"98\": 12}, \"55\": {\"55\": 10}, \"32\": {\"32\": 12}, \"120\": {\"120\": 12}, \"97\": {\"97\": 12}, \"126\": {\"126\": 12}, \"45\": {\"109\": 1, \"45\": 11}, \"78\": {\"78\": 9, \"43\": 1}, \"100\": {\"100\": 12}, \"107\": {\"107\": 12}, \"93\": {\"93\": 12}, \"77\": {\"77\": 12}, \"63\": {\"63\": 12}, \"112\": {\"112\": 12}, \"113\": {\"113\": 12}, \"103\": {\"103\": 9, \"9\": 1}, \"71\": {\"71\": 12}, \"30\": {\"30\": 12}, \"90\": {\"90\": 12}, \"37\": {\"65\": 1, \"37\": 11}, \"60\": {\"60\": 9, \"86\": 1, \"63\": 1, \"70\": 1}, \"15\": {\"15\": 10, \"111\": 2}, \"39\": {\"39\": 12}, \"72\": {\"72\": 12}, \"54\": {\"54\": 12}, \"35\": {\"35\": 12}, \"2\": {\"2\": 12}, \"94\": {\"94\": 11, \"30\": 1}, \"42\": {\"42\": 12}, \"81\": {\"81\": 12}, \"8\": {\"8\": 12}, \"87\": {\"87\": 12}, \"6\": {\"6\": 12}, \"36\": {\"36\": 10, \"88\": 2}, \"91\": {\"91\": 12}, \"56\": {\"56\": 12}, \"80\": {\"80\": 12}, \"124\": {\"124\": 10}, \"44\": {\"44\": 12}, \"13\": {\"13\": 12}, \"10\": {\"10\": 10, \"70\": 1, \"57\": 1}, \"59\": {\"59\": 12}, \"95\": {\"95\": 12}, \"105\": {\"105\": 11, \"66\": 1}, \"101\": {\"101\": 12}, \"20\": {\"20\": 12}, \"48\": {\"48\": 11, \"123\": 1}, \"106\": {\"106\": 12}, \"51\": {\"51\": 12}, \"21\": {\"21\": 10, \"84\": 1, \"23\": 1}, \"123\": {\"123\": 12}, \"121\": {\"121\": 12}, \"38\": {\"38\": 12}, \"62\": {\"62\": 12}, \"29\": {\"29\": 12}, \"82\": {\"82\": 12}, \"116\": {\"116\": 12}, \"12\": {\"12\": 8}}, \"C_A_5\": {\"47\": {\"47\": 10}, \"53\": {\"53\": 12}, \"29\": {\"29\": 12}, \"52\": {\"52\": 12}, \"55\": {\"55\": 12}, \"17\": {\"17\": 12}, \"42\": {\"42\": 12}, \"33\": {\"33\": 10}, \"11\": {\"11\": 12}, \"19\": {\"19\": 8}, \"1\": {\"1\": 12}, \"44\": {\"44\": 12}, \"49\": {\"49\": 12}, \"4\": {\"4\": 12}, \"6\": {\"6\": 12}, \"39\": {\"39\": 12}, \"13\": {\"13\": 12}, \"5\": {\"5\": 10}, \"16\": {\"16\": 10}, \"25\": {\"25\": 12}, \"45\": {\"45\": 12}, \"7\": {\"7\": 10}, \"22\": {\"22\": 12}, \"40\": {\"40\": 12}, \"38\": {\"38\": 12}, \"35\": {\"35\": 8}, \"56\": {\"56\": 12}, \"50\": {\"50\": 9, \"30\": 1}, \"0\": {\"0\": 12}, \"10\": {\"10\": 12}, \"27\": {\"27\": 12}, \"20\": {\"20\": 10}, \"36\": {\"36\": 8}, \"34\": {\"34\": 12}, \"30\": {\"30\": 12}, \"2\": {\"2\": 10}, \"15\": {\"15\": 11, \"11\": 1}, \"18\": {\"18\": 12}, \"32\": {\"32\": 12}, \"31\": {\"31\": 12}, \"57\": {\"57\": 12}, \"48\": {\"48\": 8}, \"28\": {\"28\": 10}, \"14\": {\"14\": 11, \"37\": 1}, \"3\": {\"3\": 12}, \"8\": {\"8\": 12}, \"9\": {\"9\": 12}, \"21\": {\"21\": 10}, \"41\": {\"41\": 12}, \"24\": {\"24\": 12}, \"46\": {\"46\": 10}, \"43\": {\"43\": 10}, \"54\": {\"54\": 10}, \"23\": {\"23\": 10}, \"37\": {\"37\": 10}, \"12\": {\"12\": 10}, \"26\": {\"26\": 10}, \"51\": {\"51\": 6}}, \"C_A_1\": {\"46\": {\"46\": 12}, \"16\": {\"16\": 12}, \"26\": {\"26\": 12}, \"10\": {\"10\": 12}, \"9\": {\"9\": 10}, \"28\": {\"28\": 12}, \"51\": {\"51\": 12}, \"1\": {\"1\": 12}, \"55\": {\"55\": 12}, \"27\": {\"27\": 10}, \"22\": {\"22\": 12}, \"52\": {\"52\": 12}, \"3\": {\"3\": 12}, \"33\": {\"33\": 8}, \"47\": {\"47\": 12}, \"42\": {\"42\": 12}, \"12\": {\"12\": 4}, \"23\": {\"23\": 12}, \"49\": {\"49\": 10}, \"7\": {\"7\": 12}, \"4\": {\"4\": 12}, \"50\": {\"50\": 12}, \"19\": {\"19\": 12}, \"11\": {\"11\": 12}, \"31\": {\"31\": 10}, \"41\": {\"41\": 12}, \"56\": {\"56\": 10}, \"0\": {\"0\": 12}, \"57\": {\"57\": 12}, \"53\": {\"53\": 12}, \"43\": {\"43\": 12}, \"37\": {\"37\": 12}, \"2\": {\"2\": 8}, \"6\": {\"6\": 12}, \"18\": {\"18\": 12}, \"38\": {\"38\": 12}, \"15\": {\"15\": 12}, \"36\": {\"36\": 12}, \"39\": {\"39\": 8}, \"44\": {\"44\": 12}, \"8\": {\"8\": 12}, \"17\": {\"17\": 10}, \"5\": {\"5\": 12}, \"13\": {\"13\": 10}, \"40\": {\"40\": 10}, \"29\": {\"29\": 12}, \"48\": {\"48\": 12}, \"32\": {\"32\": 12}, \"30\": {\"30\": 12}, \"35\": {\"35\": 12}, \"25\": {\"25\": 12}, \"14\": {\"14\": 11, \"18\": 1}, \"54\": {\"54\": 10}, \"20\": {\"20\": 8}, \"21\": {\"21\": 10}, \"45\": {\"45\": 8}, \"24\": {\"24\": 8}, \"34\": {\"34\": 8}}, \"W_A_2\": {\"91\": {\"91\": 12}, \"12\": {\"12\": 10, \"97\": 1, \"67\": 1}, \"101\": {\"101\": 10}, \"121\": {\"121\": 11, \"52\": 1}, \"118\": {\"118\": 12}, \"10\": {\"10\": 12}, \"117\": {\"117\": 12}, \"110\": {\"110\": 10, \"97\": 1, \"14\": 1}, \"97\": {\"97\": 9, \"12\": 1, \"15\": 1, \"28\": 1}, \"28\": {\"91\": 1, \"28\": 9, \"110\": 1, \"23\": 1}, \"88\": {\"88\": 12}, \"17\": {\"17\": 11, \"106\": 1}, \"126\": {\"126\": 12}, \"33\": {\"33\": 12}, \"86\": {\"86\": 12}, \"106\": {\"106\": 12}, \"54\": {\"54\": 12}, \"125\": {\"125\": 12}, \"83\": {\"83\": 11, \"20\": 1}, \"98\": {\"98\": 12}, \"11\": {\"11\": 10, \"108\": 1, \"71\": 1}, \"32\": {\"32\": 12}, \"42\": {\"42\": 12}, \"103\": {\"103\": 12}, \"87\": {\"87\": 11, \"23\": 1}, \"61\": {\"103\": 1, \"61\": 10, \"81\": 1}, \"13\": {\"13\": 12}, \"4\": {\"4\": 12}, \"15\": {\"15\": 10}, \"120\": {\"120\": 12}, \"80\": {\"80\": 12}, \"72\": {\"72\": 10}, \"64\": {\"64\": 12}, \"81\": {\"81\": 12}, \"102\": {\"102\": 12}, \"76\": {\"76\": 12}, \"49\": {\"49\": 9, \"67\": 1}, \"129\": {\"129\": 12}, \"89\": {\"89\": 10, \"31\": 1, \"69\": 1}, \"52\": {\"52\": 12}, \"35\": {\"35\": 12}, \"53\": {\"53\": 10, \"116\": 1, \"58\": 1}, \"112\": {\"112\": 12}, \"105\": {\"105\": 12}, \"100\": {\"100\": 12}, \"9\": {\"9\": 12}, \"82\": {\"82\": 12}, \"51\": {\"51\": 12}, \"21\": {\"21\": 12}, \"92\": {\"92\": 11, \"31\": 1}, \"69\": {\"69\": 12}, \"77\": {\"77\": 12}, \"50\": {\"50\": 11, \"13\": 1}, \"36\": {\"36\": 11, \"24\": 1}, \"16\": {\"16\": 10, \"11\": 1, \"36\": 1}, \"8\": {\"18\": 1, \"8\": 10, \"109\": 1}, \"127\": {\"127\": 12}, \"46\": {\"46\": 10}, \"84\": {\"84\": 12}, \"18\": {\"18\": 12}, \"123\": {\"123\": 10}, \"56\": {\"56\": 11, \"15\": 1}, \"26\": {\"26\": 12}, \"14\": {\"109\": 1, \"14\": 9, \"43\": 1, \"11\": 1}, \"109\": {\"109\": 12}, \"66\": {\"66\": 12}, \"24\": {\"24\": 11, \"106\": 1}, \"71\": {\"71\": 12}, \"65\": {\"65\": 10, \"85\": 1, \"74\": 1}, \"75\": {\"75\": 11, \"25\": 1}, \"111\": {\"111\": 12}, \"30\": {\"30\": 11, \"42\": 1}, \"85\": {\"85\": 12}, \"113\": {\"113\": 9, \"21\": 1}, \"45\": {\"45\": 12}, \"29\": {\"29\": 11, \"75\": 1}, \"20\": {\"20\": 12}, \"25\": {\"25\": 12}, \"0\": {\"0\": 12}, \"68\": {\"68\": 12}, \"119\": {\"119\": 12}, \"90\": {\"90\": 12}, \"38\": {\"38\": 12}, \"99\": {\"99\": 12}, \"1\": {\"1\": 12}, \"67\": {\"67\": 10, \"109\": 1, \"61\": 1}, \"63\": {\"63\": 12}, \"34\": {\"34\": 12}, \"108\": {\"108\": 12}, \"40\": {\"40\": 12}, \"47\": {\"47\": 11, \"59\": 1}, \"37\": {\"37\": 12}, \"78\": {\"78\": 12}, \"96\": {\"96\": 12}, \"43\": {\"43\": 11, \"21\": 1}, \"5\": {\"5\": 10}, \"124\": {\"124\": 12}, \"44\": {\"44\": 12}, \"41\": {\"41\": 11, \"121\": 1}, \"116\": {\"116\": 12}, \"19\": {\"19\": 11, \"82\": 1}, \"115\": {\"115\": 12}, \"95\": {\"95\": 11, \"46\": 1}, \"3\": {\"3\": 10}, \"59\": {\"59\": 12}, \"55\": {\"55\": 12}, \"70\": {\"70\": 12}, \"6\": {\"6\": 12}, \"2\": {\"2\": 12}, \"48\": {\"48\": 12}, \"23\": {\"23\": 9, \"122\": 1, \"129\": 1, \"70\": 1}, \"7\": {\"7\": 12}, \"122\": {\"122\": 12}, \"57\": {\"57\": 10, \"42\": 2}, \"39\": {\"39\": 9, \"108\": 1}, \"79\": {\"79\": 12}, \"27\": {\"27\": 10}, \"74\": {\"74\": 10, \"66\": 1, \"51\": 1}, \"73\": {\"73\": 12}, \"62\": {\"62\": 12}, \"107\": {\"107\": 12}, \"128\": {\"5\": 1, \"128\": 11}, \"60\": {\"60\": 12}, \"114\": {\"114\": 12}, \"22\": {\"22\": 12}, \"93\": {\"93\": 12}, \"94\": {\"94\": 11, \"12\": 1}, \"31\": {\"31\": 10}, \"104\": {\"104\": 12}, \"58\": {\"58\": 12}}, \"C_A_2\": {\"14\": {\"14\": 12}, \"22\": {\"22\": 12}, \"9\": {\"9\": 12}, \"47\": {\"47\": 12}, \"13\": {\"13\": 12}, \"8\": {\"8\": 12}, \"7\": {\"7\": 12}, \"49\": {\"49\": 12}, \"20\": {\"20\": 12}, \"16\": {\"16\": 12}, \"34\": {\"34\": 12}, \"56\": {\"56\": 12}, \"38\": {\"38\": 10}, \"4\": {\"4\": 12}, \"43\": {\"43\": 10}, \"26\": {\"26\": 10}, \"35\": {\"35\": 12}, \"31\": {\"31\": 12}, \"1\": {\"1\": 12}, \"39\": {\"39\": 12}, \"5\": {\"5\": 12}, \"24\": {\"24\": 12}, \"54\": {\"54\": 10}, \"23\": {\"23\": 12}, \"51\": {\"51\": 12}, \"27\": {\"27\": 10}, \"15\": {\"15\": 12}, \"0\": {\"0\": 12}, \"19\": {\"19\": 10}, \"18\": {\"18\": 8}, \"30\": {\"30\": 12}, \"55\": {\"55\": 10}, \"57\": {\"57\": 12}, \"2\": {\"2\": 12}, \"12\": {\"12\": 8}, \"41\": {\"41\": 12}, \"42\": {\"42\": 12}, \"48\": {\"48\": 12}, \"37\": {\"37\": 12}, \"6\": {\"6\": 10}, \"11\": {\"11\": 10}, \"45\": {\"45\": 8}, \"21\": {\"21\": 12}, \"46\": {\"46\": 9, \"6\": 1}, \"25\": {\"25\": 12}, \"36\": {\"36\": 10}, \"53\": {\"53\": 12}, \"28\": {\"28\": 12}, \"40\": {\"40\": 10}, \"33\": {\"33\": 10}, \"44\": {\"44\": 10}, \"3\": {\"3\": 12}, \"17\": {\"17\": 12}, \"32\": {\"32\": 10}, \"10\": {\"10\": 10}, \"52\": {\"52\": 10}, \"50\": {\"50\": 8}, \"29\": {\"29\": 6}}, \"ORACLE.run1_14\": {\"15\": {\"2\": 24, \"4\": 16, \"7\": 41, \"15\": 52, \"1\": 17, \"13\": 22, \"3\": 11, \"14\": 16, \"5\": 17, \"6\": 22, \"11\": 1, \"10\": 1}, \"3\": {\"13\": 12, \"7\": 23, \"3\": 25, \"1\": 18, \"4\": 19, \"14\": 16, \"2\": 18, \"0\": 33, \"5\": 25, \"11\": 17, \"15\": 13, \"8\": 2, \"10\": 13, \"6\": 5, \"12\": 1}, \"6\": {\"3\": 16, \"0\": 5, \"14\": 45, \"2\": 25, \"6\": 34, \"15\": 26, \"1\": 7, \"13\": 32, \"5\": 18, \"10\": 12, \"4\": 7, \"7\": 9, \"11\": 4}, \"1\": {\"0\": 24, \"4\": 28, \"10\": 13, \"7\": 19, \"5\": 32, \"15\": 13, \"14\": 7, \"3\": 22, \"1\": 40, \"11\": 19, \"6\": 4, \"8\": 6, \"13\": 5, \"2\": 8}, \"8\": {\"8\": 78, \"10\": 11, \"9\": 56, \"11\": 15, \"5\": 7, \"1\": 22, \"0\": 18, \"12\": 15, \"3\": 8, \"7\": 5, \"15\": 1, \"4\": 3, \"2\": 1}, \"10\": {\"10\": 40, \"8\": 5, \"4\": 27, \"1\": 18, \"3\": 34, \"11\": 31, \"14\": 14, \"0\": 23, \"7\": 6, \"15\": 1, \"13\": 8, \"2\": 15, \"5\": 12, \"6\": 3, \"12\": 1, \"9\": 2}, \"9\": {\"12\": 57, \"8\": 47, \"1\": 7, \"11\": 27, \"0\": 26, \"9\": 57, \"10\": 11, \"3\": 2, \"4\": 3, \"5\": 2, \"7\": 1}, \"13\": {\"7\": 14, \"2\": 31, \"1\": 12, \"6\": 44, \"13\": 33, \"14\": 28, \"15\": 20, \"0\": 8, \"4\": 11, \"5\": 15, \"11\": 3, \"10\": 9, \"3\": 12}, \"12\": {\"9\": 96, \"8\": 29, \"12\": 96, \"11\": 13, \"0\": 4, \"10\": 1, \"7\": 1}, \"5\": {\"0\": 14, \"10\": 21, \"5\": 27, \"2\": 19, \"8\": 3, \"7\": 24, \"4\": 27, \"14\": 17, \"13\": 14, \"1\": 27, \"3\": 24, \"6\": 4, \"11\": 6, \"15\": 13}, \"0\": {\"10\": 31, \"5\": 14, \"13\": 3, \"8\": 10, \"1\": 25, \"4\": 29, \"7\": 9, \"11\": 27, \"0\": 41, \"3\": 18, \"2\": 8, \"14\": 6, \"9\": 11, \"15\": 4, \"12\": 3, \"6\": 1}, \"2\": {\"7\": 19, \"2\": 28, \"6\": 31, \"13\": 37, \"5\": 12, \"14\": 35, \"15\": 19, \"4\": 12, \"1\": 9, \"0\": 9, \"10\": 9, \"3\": 17, \"11\": 3}, \"11\": {\"9\": 27, \"2\": 5, \"10\": 35, \"8\": 10, \"14\": 9, \"6\": 2, \"0\": 34, \"11\": 46, \"5\": 9, \"1\": 12, \"3\": 21, \"12\": 8, \"15\": 1, \"13\": 7, \"7\": 4, \"4\": 10}, \"14\": {\"4\": 19, \"2\": 25, \"6\": 24, \"15\": 21, \"3\": 18, \"13\": 30, \"10\": 12, \"11\": 8, \"14\": 32, \"7\": 15, \"5\": 14, \"0\": 13, \"1\": 9}, \"7\": {\"5\": 21, \"1\": 28, \"15\": 49, \"3\": 8, \"4\": 20, \"7\": 48, \"14\": 12, \"6\": 12, \"2\": 23, \"0\": 7, \"13\": 8, \"10\": 3, \"8\": 1}, \"4\": {\"3\": 25, \"5\": 23, \"1\": 27, \"15\": 13, \"14\": 13, \"4\": 17, \"10\": 28, \"2\": 15, \"11\": 20, \"7\": 22, \"0\": 20, \"13\": 8, \"8\": 2, \"6\": 6, \"9\": 1}}, \"ORACLE.run1_20\": {\"3\": {\"1\": 20, \"5\": 20, \"9\": 34, \"14\": 8, \"2\": 17, \"13\": 23, \"7\": 7, \"15\": 14, \"0\": 20, \"10\": 11, \"6\": 9, \"11\": 12, \"3\": 14, \"8\": 10, \"12\": 13, \"4\": 8}, \"15\": {\"9\": 19, \"15\": 32, \"11\": 7, \"13\": 23, \"2\": 21, \"0\": 22, \"8\": 4, \"3\": 16, \"1\": 38, \"5\": 14, \"12\": 25, \"6\": 4, \"10\": 3, \"7\": 4, \"4\": 7, \"14\": 1}, \"8\": {\"7\": 25, \"0\": 12, \"1\": 4, \"4\": 23, \"11\": 11, \"5\": 8, \"2\": 14, \"8\": 23, \"3\": 24, \"14\": 18, \"6\": 22, \"10\": 24, \"9\": 12, \"15\": 8, \"13\": 4, \"12\": 8}, \"4\": {\"2\": 14, \"1\": 4, \"12\": 10, \"4\": 26, \"0\": 14, \"11\": 10, \"14\": 22, \"9\": 20, \"8\": 25, \"10\": 21, \"7\": 17, \"13\": 10, \"15\": 4, \"3\": 10, \"5\": 14, \"6\": 19}, \"14\": {\"6\": 35, \"7\": 17, \"10\": 27, \"14\": 46, \"8\": 27, \"0\": 4, \"9\": 13, \"13\": 4, \"4\": 29, \"3\": 10, \"11\": 10, \"12\": 6, \"2\": 7, \"5\": 3, \"15\": 2}, \"0\": {\"7\": 11, \"5\": 22, \"14\": 6, \"12\": 14, \"2\": 18, \"3\": 23, \"1\": 16, \"4\": 12, \"9\": 20, \"11\": 19, \"15\": 21, \"13\": 21, \"10\": 5, \"6\": 4, \"0\": 18, \"8\": 10}, \"7\": {\"7\": 18, \"5\": 18, \"15\": 12, \"6\": 13, \"13\": 17, \"11\": 17, \"12\": 13, \"3\": 25, \"8\": 13, \"14\": 6, \"9\": 14, \"10\": 5, \"4\": 19, \"2\": 26, \"0\": 13, \"1\": 11}, \"6\": {\"10\": 28, \"6\": 23, \"5\": 8, \"14\": 37, \"3\": 12, \"8\": 22, \"4\": 24, \"9\": 15, \"11\": 19, \"2\": 14, \"7\": 13, \"13\": 5, \"0\": 8, \"15\": 5, \"12\": 5, \"1\": 2}, \"10\": {\"1\": 4, \"7\": 13, \"10\": 36, \"5\": 6, \"4\": 22, \"13\": 5, \"12\": 12, \"9\": 12, \"8\": 32, \"6\": 31, \"2\": 11, \"14\": 28, \"0\": 6, \"15\": 3, \"3\": 12, \"11\": 7}, \"5\": {\"7\": 20, \"15\": 21, \"13\": 26, \"9\": 22, \"5\": 24, \"1\": 20, \"2\": 21, \"8\": 10, \"0\": 20, \"3\": 12, \"10\": 9, \"12\": 11, \"11\": 9, \"4\": 7, \"14\": 3, \"6\": 5}, \"2\": {\"1\": 25, \"12\": 23, \"0\": 13, \"7\": 23, \"13\": 17, \"3\": 16, \"5\": 14, \"8\": 6, \"14\": 3, \"11\": 21, \"4\": 15, \"10\": 5, \"9\": 19, \"15\": 21, \"2\": 16, \"6\": 3}, \"12\": {\"8\": 10, \"13\": 22, \"15\": 20, \"10\": 6, \"0\": 16, \"9\": 24, \"2\": 27, \"1\": 17, \"14\": 6, \"7\": 16, \"6\": 7, \"5\": 16, \"12\": 20, \"3\": 19, \"4\": 9, \"11\": 5}, \"9\": {\"7\": 14, \"9\": 21, \"6\": 7, \"15\": 20, \"2\": 20, \"0\": 20, \"13\": 15, \"1\": 17, \"14\": 4, \"12\": 24, \"11\": 13, \"10\": 4, \"5\": 20, \"4\": 9, \"3\": 24, \"8\": 8}, \"1\": {\"5\": 23, \"9\": 20, \"13\": 19, \"15\": 28, \"1\": 16, \"3\": 18, \"2\": 20, \"0\": 22, \"12\": 22, \"4\": 11, \"8\": 6, \"10\": 4, \"7\": 11, \"11\": 17, \"14\": 2, \"6\": 1}, \"11\": {\"15\": 8, \"9\": 16, \"7\": 26, \"5\": 14, \"1\": 14, \"2\": 25, \"11\": 37, \"6\": 12, \"10\": 4, \"3\": 17, \"0\": 16, \"12\": 11, \"13\": 13, \"8\": 8, \"14\": 11, \"4\": 8}, \"13\": {\"0\": 20, \"5\": 21, \"2\": 21, \"9\": 25, \"15\": 22, \"3\": 22, \"12\": 22, \"14\": 3, \"8\": 4, \"7\": 11, \"13\": 20, \"11\": 22, \"1\": 21, \"4\": 3, \"10\": 2, \"6\": 1}}, \"ORACLE.run1_38\": {\"5\": {\"13\": 15, \"10\": 20, \"8\": 32, \"5\": 25, \"6\": 40, \"0\": 24, \"15\": 17, \"1\": 8, \"3\": 11, \"9\": 21, \"7\": 18, \"14\": 2, \"11\": 1, \"2\": 5, \"12\": 1}, \"8\": {\"5\": 26, \"10\": 28, \"15\": 16, \"2\": 6, \"3\": 16, \"9\": 12, \"8\": 41, \"7\": 29, \"1\": 7, \"0\": 21, \"13\": 10, \"12\": 4, \"6\": 14, \"14\": 6, \"11\": 3, \"4\": 1}, \"11\": {\"11\": 95, \"8\": 3, \"14\": 59, \"12\": 23, \"13\": 3, \"15\": 5, \"2\": 17, \"10\": 22, \"4\": 4, \"7\": 3, \"5\": 3, \"0\": 3}, \"1\": {\"9\": 18, \"13\": 32, \"15\": 43, \"1\": 61, \"6\": 29, \"14\": 2, \"2\": 22, \"8\": 9, \"10\": 4, \"5\": 15, \"3\": 4, \"0\": 1}, \"10\": {\"13\": 17, \"0\": 19, \"11\": 19, \"15\": 24, \"7\": 16, \"14\": 35, \"10\": 42, \"8\": 27, \"2\": 11, \"12\": 5, \"6\": 7, \"5\": 11, \"3\": 3, \"9\": 2, \"1\": 2}, \"15\": {\"13\": 29, \"5\": 25, \"2\": 30, \"14\": 20, \"8\": 23, \"15\": 42, \"1\": 29, \"6\": 18, \"11\": 2, \"10\": 9, \"0\": 3, \"9\": 6, \"3\": 2, \"7\": 2}, \"3\": {\"3\": 84, \"8\": 16, \"7\": 41, \"0\": 35, \"6\": 16, \"9\": 23, \"5\": 14, \"12\": 4, \"1\": 2, \"10\": 3, \"4\": 1, \"15\": 1}, \"7\": {\"10\": 22, \"3\": 33, \"0\": 45, \"8\": 25, \"7\": 53, \"12\": 14, \"11\": 1, \"15\": 4, \"4\": 3, \"9\": 9, \"6\": 7, \"5\": 17, \"14\": 3, \"13\": 2, \"1\": 2}, \"4\": {\"12\": 91, \"4\": 114, \"14\": 3, \"7\": 12, \"0\": 11, \"8\": 2, \"10\": 3, \"3\": 3, \"11\": 1}, \"14\": {\"14\": 82, \"11\": 50, \"2\": 27, \"10\": 24, \"1\": 3, \"12\": 8, \"0\": 5, \"7\": 5, \"15\": 10, \"5\": 3, \"13\": 12, \"8\": 11}, \"9\": {\"9\": 59, \"8\": 14, \"6\": 48, \"1\": 14, \"7\": 6, \"15\": 6, \"3\": 29, \"5\": 29, \"13\": 8, \"0\": 22, \"10\": 3, \"2\": 2}, \"12\": {\"4\": 60, \"8\": 7, \"12\": 101, \"5\": 7, \"2\": 1, \"7\": 23, \"14\": 10, \"3\": 1, \"0\": 9, \"10\": 17, \"11\": 4}, \"6\": {\"5\": 33, \"10\": 6, \"6\": 60, \"15\": 21, \"1\": 19, \"3\": 6, \"9\": 56, \"0\": 10, \"8\": 15, \"13\": 9, \"7\": 4, \"2\": 1}, \"2\": {\"14\": 33, \"2\": 67, \"11\": 15, \"1\": 21, \"8\": 5, \"5\": 6, \"15\": 43, \"0\": 2, \"13\": 40, \"10\": 5, \"6\": 1, \"3\": 1, \"7\": 1}, \"0\": {\"13\": 7, \"0\": 38, \"3\": 29, \"8\": 28, \"5\": 16, \"15\": 8, \"10\": 21, \"12\": 20, \"14\": 5, \"7\": 33, \"6\": 8, \"4\": 5, \"9\": 19, \"1\": 2, \"11\": 1}, \"13\": {\"2\": 38, \"13\": 44, \"0\": 6, \"6\": 18, \"8\": 14, \"15\": 29, \"1\": 38, \"10\": 12, \"11\": 3, \"5\": 16, \"7\": 3, \"14\": 12, \"9\": 4, \"3\": 3}}, \"ORACLE.run1_8\": {\"9\": {\"9\": 190, \"10\": 15, \"13\": 4, \"5\": 17, \"4\": 3, \"11\": 1, \"6\": 2, \"7\": 1, \"14\": 4, \"0\": 2, \"1\": 1}, \"10\": {\"14\": 28, \"13\": 29, \"4\": 20, \"3\": 6, \"1\": 13, \"0\": 21, \"5\": 31, \"11\": 13, \"10\": 24, \"6\": 20, \"7\": 26, \"2\": 5, \"8\": 3, \"9\": 1}, \"13\": {\"6\": 20, \"7\": 24, \"3\": 8, \"13\": 28, \"10\": 21, \"5\": 16, \"8\": 4, \"2\": 14, \"1\": 22, \"4\": 25, \"0\": 21, \"11\": 12, \"14\": 18, \"12\": 3, \"15\": 4}, \"0\": {\"14\": 32, \"6\": 22, \"11\": 6, \"10\": 18, \"13\": 36, \"7\": 25, \"2\": 17, \"15\": 4, \"5\": 22, \"0\": 24, \"1\": 9, \"4\": 17, \"8\": 2, \"3\": 5, \"12\": 1}, \"1\": {\"11\": 27, \"1\": 35, \"4\": 18, \"6\": 12, \"5\": 19, \"8\": 17, \"10\": 16, \"0\": 12, \"7\": 16, \"14\": 24, \"3\": 5, \"15\": 11, \"13\": 19, \"2\": 3, \"12\": 6}, \"15\": {\"15\": 39, \"2\": 26, \"3\": 37, \"4\": 5, \"7\": 14, \"10\": 4, \"8\": 36, \"13\": 7, \"6\": 7, \"5\": 1, \"12\": 28, \"11\": 22, \"1\": 9, \"0\": 2, \"14\": 3}, \"5\": {\"6\": 21, \"13\": 24, \"5\": 31, \"4\": 16, \"10\": 29, \"1\": 29, \"14\": 29, \"0\": 19, \"11\": 14, \"2\": 6, \"7\": 13, \"8\": 3, \"3\": 2, \"9\": 2, \"15\": 2}, \"3\": {\"2\": 40, \"3\": 45, \"12\": 30, \"11\": 10, \"10\": 3, \"7\": 18, \"1\": 9, \"0\": 4, \"8\": 32, \"13\": 4, \"15\": 26, \"4\": 8, \"6\": 8, \"14\": 3}, \"6\": {\"2\": 23, \"6\": 29, \"8\": 12, \"13\": 23, \"15\": 5, \"11\": 13, \"7\": 16, \"1\": 19, \"5\": 18, \"10\": 15, \"0\": 13, \"4\": 17, \"12\": 6, \"3\": 8, \"14\": 23}, \"11\": {\"10\": 15, \"11\": 29, \"5\": 19, \"0\": 12, \"13\": 11, \"1\": 22, \"15\": 17, \"14\": 12, \"8\": 24, \"6\": 21, \"7\": 15, \"4\": 17, \"2\": 15, \"12\": 8, \"3\": 3}, \"8\": {\"2\": 17, \"1\": 21, \"8\": 32, \"3\": 36, \"11\": 21, \"10\": 2, \"6\": 13, \"15\": 22, \"4\": 13, \"14\": 7, \"7\": 12, \"13\": 8, \"12\": 25, \"5\": 10, \"0\": 1}, \"4\": {\"1\": 24, \"13\": 29, \"14\": 18, \"0\": 25, \"4\": 21, \"10\": 13, \"11\": 19, \"7\": 26, \"6\": 13, \"2\": 21, \"3\": 7, \"5\": 13, \"8\": 8, \"12\": 2, \"15\": 1}, \"12\": {\"7\": 9, \"12\": 54, \"15\": 41, \"8\": 38, \"3\": 37, \"2\": 30, \"13\": 2, \"6\": 10, \"1\": 1, \"11\": 9, \"0\": 4, \"4\": 1, \"14\": 4}, \"14\": {\"11\": 14, \"0\": 26, \"5\": 19, \"7\": 19, \"6\": 31, \"13\": 22, \"10\": 21, \"1\": 19, \"14\": 20, \"4\": 20, \"15\": 3, \"12\": 1, \"8\": 8, \"2\": 10, \"3\": 7}, \"2\": {\"3\": 43, \"10\": 12, \"15\": 22, \"12\": 14, \"7\": 27, \"6\": 8, \"2\": 48, \"1\": 5, \"5\": 1, \"0\": 13, \"8\": 14, \"13\": 11, \"4\": 9, \"14\": 5, \"11\": 8}, \"7\": {\"10\": 13, \"13\": 16, \"6\": 23, \"7\": 26, \"0\": 22, \"8\": 19, \"11\": 12, \"14\": 16, \"5\": 8, \"1\": 13, \"2\": 19, \"4\": 30, \"3\": 10, \"12\": 6, \"15\": 7}}, \"ORACLE.run1_50\": {\"7\": {\"5\": 39, \"0\": 15, \"1\": 7, \"8\": 8, \"10\": 23, \"13\": 33, \"3\": 2, \"7\": 44, \"4\": 22, \"6\": 28, \"11\": 3, \"2\": 5, \"14\": 3, \"15\": 5, \"9\": 3}, \"3\": {\"3\": 115, \"8\": 60, \"13\": 5, \"5\": 8, \"10\": 27, \"0\": 9, \"7\": 12, \"2\": 2, \"15\": 1, \"6\": 1}, \"8\": {\"8\": 76, \"2\": 18, \"0\": 31, \"10\": 54, \"7\": 11, \"3\": 46, \"13\": 2, \"5\": 1, \"1\": 1}, \"2\": {\"10\": 39, \"14\": 15, \"0\": 66, \"12\": 9, \"8\": 13, \"2\": 71, \"13\": 8, \"11\": 2, \"3\": 1, \"1\": 4, \"7\": 3, \"4\": 1, \"6\": 3, \"5\": 4, \"9\": 1}, \"14\": {\"12\": 35, \"11\": 18, \"9\": 25, \"14\": 55, \"0\": 9, \"1\": 26, \"2\": 7, \"15\": 13, \"6\": 16, \"13\": 10, \"4\": 14, \"5\": 8, \"10\": 3, \"7\": 1}, \"4\": {\"15\": 26, \"13\": 24, \"4\": 28, \"5\": 24, \"11\": 24, \"7\": 17, \"1\": 31, \"9\": 10, \"14\": 11, \"12\": 13, \"6\": 25, \"10\": 6, \"0\": 1}, \"6\": {\"1\": 26, \"13\": 30, \"14\": 12, \"0\": 2, \"9\": 8, \"7\": 21, \"4\": 31, \"5\": 24, \"11\": 17, \"6\": 34, \"3\": 3, \"8\": 4, \"15\": 15, \"12\": 9, \"10\": 2, \"2\": 2}, \"15\": {\"15\": 44, \"1\": 21, \"11\": 32, \"5\": 19, \"14\": 7, \"6\": 26, \"7\": 10, \"4\": 23, \"9\": 28, \"12\": 12, \"13\": 18}, \"10\": {\"15\": 1, \"10\": 49, \"13\": 19, \"5\": 11, \"2\": 30, \"7\": 22, \"8\": 26, \"1\": 2, \"3\": 22, \"0\": 45, \"14\": 3, \"4\": 2, \"6\": 6, \"11\": 1, \"12\": 1}, \"11\": {\"1\": 21, \"6\": 18, \"9\": 39, \"15\": 41, \"11\": 49, \"12\": 28, \"4\": 20, \"5\": 6, \"14\": 11, \"13\": 6, \"7\": 1}, \"13\": {\"5\": 37, \"13\": 39, \"4\": 23, \"11\": 5, \"6\": 24, \"1\": 25, \"7\": 36, \"8\": 3, \"12\": 4, \"10\": 16, \"2\": 5, \"14\": 8, \"15\": 5, \"9\": 2, \"0\": 8}, \"9\": {\"15\": 25, \"12\": 32, \"9\": 64, \"11\": 49, \"14\": 22, \"6\": 12, \"4\": 16, \"5\": 2, \"1\": 13, \"7\": 3, \"13\": 2}, \"0\": {\"2\": 41, \"10\": 47, \"0\": 70, \"8\": 22, \"5\": 9, \"13\": 19, \"14\": 6, \"7\": 14, \"12\": 3, \"6\": 4, \"9\": 1, \"3\": 1, \"4\": 2, \"15\": 1}, \"1\": {\"4\": 27, \"1\": 37, \"13\": 24, \"5\": 24, \"15\": 29, \"2\": 4, \"14\": 14, \"12\": 12, \"6\": 31, \"11\": 15, \"9\": 12, \"7\": 9, \"10\": 1, \"0\": 1}, \"12\": {\"9\": 34, \"11\": 32, \"12\": 64, \"14\": 47, \"15\": 13, \"0\": 6, \"1\": 12, \"6\": 5, \"4\": 10, \"13\": 3, \"10\": 2, \"2\": 9, \"5\": 2, \"7\": 1}, \"5\": {\"10\": 15, \"11\": 9, \"7\": 37, \"6\": 32, \"1\": 26, \"13\": 28, \"14\": 14, \"9\": 4, \"15\": 11, \"4\": 25, \"3\": 3, \"5\": 26, \"2\": 4, \"0\": 3, \"8\": 2, \"12\": 1}}, \"ORACLE.run1_32\": {\"8\": {\"4\": 18, \"15\": 3, \"5\": 33, \"8\": 38, \"14\": 15, \"11\": 25, \"13\": 33, \"0\": 18, \"3\": 24, \"7\": 24, \"2\": 9}, \"14\": {\"11\": 36, \"3\": 9, \"5\": 22, \"0\": 31, \"2\": 18, \"7\": 25, \"14\": 38, \"13\": 21, \"8\": 12, \"9\": 3, \"4\": 25}, \"2\": {\"5\": 12, \"4\": 54, \"14\": 25, \"2\": 43, \"0\": 32, \"11\": 21, \"7\": 25, \"8\": 5, \"12\": 2, \"13\": 9, \"9\": 11, \"3\": 1}, \"0\": {\"11\": 26, \"3\": 5, \"0\": 33, \"14\": 26, \"7\": 29, \"2\": 26, \"8\": 27, \"13\": 22, \"4\": 24, \"5\": 18, \"9\": 3, \"12\": 1}, \"1\": {\"6\": 32, \"1\": 136, \"10\": 71, \"12\": 1}, \"10\": {\"10\": 112, \"6\": 41, \"12\": 26, \"1\": 60, \"9\": 1}, \"11\": {\"14\": 34, \"8\": 21, \"0\": 19, \"13\": 24, \"7\": 31, \"4\": 22, \"2\": 20, \"5\": 20, \"3\": 11, \"11\": 38}, \"5\": {\"0\": 17, \"8\": 24, \"13\": 37, \"5\": 36, \"2\": 12, \"4\": 21, \"7\": 23, \"11\": 35, \"3\": 14, \"15\": 3, \"14\": 18}, \"15\": {\"15\": 147, \"3\": 51, \"8\": 12, \"4\": 3, \"5\": 6, \"13\": 19, \"11\": 1, \"0\": 1}, \"3\": {\"3\": 50, \"13\": 35, \"0\": 3, \"5\": 38, \"14\": 14, \"4\": 5, \"15\": 21, \"8\": 39, \"11\": 28, \"7\": 7}, \"12\": {\"12\": 112, \"9\": 85, \"10\": 28, \"8\": 1, \"7\": 1, \"6\": 12, \"2\": 1}, \"7\": {\"4\": 27, \"14\": 28, \"11\": 34, \"7\": 32, \"5\": 21, \"0\": 29, \"13\": 23, \"3\": 6, \"8\": 22, \"2\": 16, \"9\": 2}, \"13\": {\"0\": 18, \"3\": 24, \"8\": 28, \"7\": 22, \"14\": 22, \"4\": 29, \"2\": 10, \"13\": 34, \"11\": 17, \"5\": 30, \"15\": 5, \"9\": 1}, \"6\": {\"6\": 168, \"1\": 25, \"9\": 3, \"10\": 37, \"12\": 7}, \"4\": {\"14\": 30, \"11\": 32, \"4\": 42, \"3\": 4, \"7\": 29, \"13\": 21, \"2\": 20, \"0\": 27, \"5\": 14, \"8\": 17, \"9\": 2, \"12\": 2}, \"9\": {\"9\": 113, \"12\": 76, \"4\": 8, \"2\": 17, \"7\": 2, \"0\": 11, \"14\": 8, \"10\": 1, \"6\": 3, \"8\": 1}}, \"ORACLE.run1_26\": {\"4\": {\"10\": 21, \"14\": 30, \"7\": 25, \"1\": 22, \"3\": 21, \"8\": 26, \"2\": 15, \"4\": 24, \"9\": 10, \"0\": 15, \"15\": 10, \"6\": 11, \"5\": 8, \"12\": 1, \"13\": 1}, \"12\": {\"5\": 23, \"12\": 70, \"8\": 17, \"11\": 23, \"6\": 12, \"3\": 3, \"15\": 17, \"2\": 8, \"0\": 7, \"13\": 21, \"10\": 9, \"9\": 14, \"7\": 3, \"14\": 3, \"4\": 6, \"1\": 4}, \"10\": {\"15\": 19, \"2\": 15, \"10\": 20, \"3\": 19, \"14\": 22, \"7\": 20, \"4\": 14, \"9\": 11, \"6\": 10, \"5\": 11, \"1\": 23, \"13\": 5, \"8\": 22, \"0\": 19, \"12\": 10}, \"0\": {\"1\": 25, \"4\": 36, \"12\": 6, \"14\": 29, \"10\": 17, \"3\": 18, \"2\": 17, \"8\": 18, \"0\": 19, \"15\": 10, \"5\": 7, \"9\": 8, \"7\": 15, \"6\": 13, \"13\": 2}, \"13\": {\"13\": 42, \"2\": 21, \"15\": 20, \"8\": 13, \"3\": 11, \"6\": 23, \"1\": 2, \"12\": 16, \"14\": 3, \"9\": 15, \"7\": 13, \"5\": 33, \"10\": 9, \"0\": 6, \"11\": 11, \"4\": 2}, \"9\": {\"8\": 20, \"14\": 9, \"3\": 19, \"15\": 28, \"10\": 11, \"5\": 19, \"6\": 17, \"0\": 10, \"13\": 22, \"12\": 7, \"2\": 11, \"1\": 8, \"7\": 12, \"9\": 36, \"4\": 11}, \"3\": {\"8\": 20, \"15\": 17, \"0\": 14, \"4\": 23, \"10\": 22, \"9\": 15, \"1\": 23, \"7\": 16, \"6\": 15, \"2\": 24, \"13\": 6, \"12\": 1, \"14\": 18, \"3\": 21, \"5\": 5}, \"2\": {\"4\": 20, \"3\": 21, \"10\": 10, \"0\": 11, \"14\": 18, \"8\": 26, \"13\": 11, \"7\": 25, \"5\": 13, \"12\": 3, \"6\": 12, \"9\": 16, \"2\": 29, \"1\": 7, \"15\": 18}, \"5\": {\"8\": 11, \"2\": 20, \"0\": 14, \"9\": 24, \"5\": 29, \"13\": 27, \"4\": 10, \"6\": 22, \"10\": 21, \"3\": 9, \"7\": 9, \"15\": 21, \"14\": 6, \"12\": 12, \"1\": 5}, \"14\": {\"1\": 30, \"10\": 22, \"0\": 20, \"14\": 27, \"3\": 20, \"4\": 24, \"5\": 9, \"8\": 22, \"7\": 22, \"2\": 9, \"9\": 8, \"13\": 1, \"12\": 5, \"6\": 10, \"15\": 11}, \"8\": {\"8\": 19, \"14\": 17, \"10\": 23, \"1\": 20, \"5\": 14, \"2\": 15, \"4\": 19, \"15\": 18, \"6\": 24, \"12\": 5, \"3\": 15, \"7\": 18, \"13\": 8, \"0\": 10, \"9\": 15}, \"7\": {\"4\": 21, \"14\": 15, \"1\": 19, \"2\": 23, \"7\": 30, \"3\": 25, \"8\": 20, \"15\": 18, \"10\": 5, \"0\": 22, \"5\": 12, \"6\": 14, \"9\": 12, \"13\": 4}, \"6\": {\"4\": 15, \"5\": 24, \"12\": 17, \"6\": 28, \"2\": 19, \"3\": 14, \"8\": 30, \"1\": 9, \"7\": 10, \"14\": 5, \"10\": 10, \"9\": 9, \"15\": 23, \"13\": 15, \"0\": 11, \"11\": 1}, \"11\": {\"12\": 46, \"11\": 139, \"5\": 11, \"13\": 29, \"6\": 4, \"15\": 4, \"9\": 4, \"8\": 2, \"2\": 1}, \"15\": {\"8\": 22, \"5\": 13, \"10\": 16, \"9\": 19, \"13\": 22, \"15\": 18, \"3\": 13, \"14\": 11, \"2\": 20, \"6\": 19, \"0\": 13, \"7\": 21, \"4\": 12, \"12\": 13, \"1\": 8}, \"1\": {\"1\": 28, \"3\": 15, \"2\": 21, \"12\": 3, \"4\": 26, \"15\": 9, \"10\": 24, \"14\": 24, \"13\": 2, \"0\": 26, \"6\": 7, \"8\": 16, \"5\": 10, \"9\": 10, \"7\": 19}}, \"ORACLE.run1_44\": {\"12\": {\"9\": 15, \"12\": 45, \"1\": 49, \"2\": 38, \"7\": 19, \"10\": 34, \"3\": 27, \"13\": 5, \"6\": 4, \"11\": 3, \"4\": 1}, \"7\": {\"12\": 18, \"1\": 24, \"6\": 25, \"9\": 27, \"3\": 21, \"13\": 22, \"7\": 33, \"2\": 27, \"11\": 20, \"10\": 21, \"4\": 2}, \"5\": {\"5\": 56, \"0\": 36, \"8\": 35, \"9\": 1, \"4\": 28, \"14\": 43, \"15\": 40, \"7\": 1}, \"15\": {\"5\": 51, \"15\": 54, \"0\": 43, \"8\": 41, \"14\": 32, \"4\": 17, \"1\": 1, \"13\": 1}, \"8\": {\"0\": 79, \"8\": 86, \"15\": 44, \"5\": 25, \"14\": 4, \"4\": 2}, \"2\": {\"13\": 20, \"7\": 29, \"12\": 28, \"6\": 24, \"1\": 32, \"2\": 33, \"11\": 12, \"10\": 20, \"9\": 30, \"3\": 11, \"4\": 1}, \"13\": {\"13\": 43, \"1\": 18, \"10\": 17, \"2\": 27, \"11\": 25, \"4\": 5, \"6\": 23, \"3\": 9, \"7\": 28, \"9\": 35, \"12\": 8, \"5\": 1, \"14\": 1}, \"4\": {\"5\": 30, \"4\": 82, \"9\": 10, \"14\": 48, \"3\": 17, \"15\": 12, \"13\": 14, \"1\": 7, \"12\": 4, \"7\": 5, \"8\": 2, \"2\": 1, \"0\": 5, \"11\": 2, \"6\": 1}, \"0\": {\"15\": 45, \"8\": 73, \"5\": 29, \"0\": 80, \"14\": 12, \"4\": 1}, \"6\": {\"10\": 20, \"6\": 50, \"9\": 25, \"2\": 24, \"11\": 30, \"13\": 37, \"7\": 27, \"12\": 14, \"4\": 2, \"1\": 9, \"3\": 2}, \"9\": {\"9\": 25, \"12\": 17, \"1\": 19, \"7\": 36, \"11\": 17, \"2\": 32, \"10\": 21, \"13\": 28, \"6\": 22, \"3\": 19, \"4\": 3, \"14\": 1}, \"11\": {\"7\": 21, \"13\": 49, \"9\": 26, \"11\": 59, \"1\": 7, \"3\": 4, \"6\": 47, \"2\": 15, \"10\": 8, \"12\": 2, \"4\": 2}, \"10\": {\"3\": 14, \"10\": 49, \"1\": 26, \"13\": 13, \"9\": 22, \"2\": 46, \"6\": 14, \"12\": 34, \"7\": 20, \"11\": 2}, \"14\": {\"4\": 65, \"0\": 10, \"14\": 62, \"2\": 1, \"9\": 4, \"15\": 29, \"5\": 37, \"3\": 15, \"1\": 3, \"7\": 4, \"8\": 3, \"13\": 5, \"11\": 2}, \"1\": {\"13\": 12, \"9\": 20, \"1\": 53, \"7\": 22, \"12\": 45, \"3\": 29, \"4\": 4, \"2\": 22, \"6\": 6, \"10\": 26, \"11\": 1}, \"3\": {\"1\": 58, \"12\": 33, \"9\": 20, \"3\": 51, \"7\": 22, \"10\": 11, \"6\": 1, \"4\": 14, \"13\": 6, \"14\": 4, \"2\": 17, \"11\": 3}}}, \"per_domain_accuracy\": {\"W_A_3\": {\"accuracy\": 0.96875, \"source?\": true}, \"W_A_4\": {\"accuracy\": 0.9375, \"source?\": true}, \"C_A_3\": {\"accuracy\": 0.9953125, \"source?\": true}, \"C_A_4\": {\"accuracy\": 0.9984375, \"source?\": true}, \"W_A_1\": {\"accuracy\": 0.9778645833333334, \"source?\": true}, \"C_A_5\": {\"accuracy\": 0.9953125, \"source?\": true}, \"C_A_1\": {\"accuracy\": 0.9984375, \"source?\": true}, \"W_A_2\": {\"accuracy\": 0.9622395833333334, \"source?\": true}, \"C_A_2\": {\"accuracy\": 0.9984375, \"source?\": true}, \"ORACLE.run1_14\": {\"accuracy\": 0.18072916666666666, \"source?\": false}, \"ORACLE.run1_20\": {\"accuracy\": 0.1015625, \"source?\": false}, \"ORACLE.run1_38\": {\"accuracy\": 0.2625, \"source?\": false}, \"ORACLE.run1_8\": {\"accuracy\": 0.17578125, \"source?\": false}, \"ORACLE.run1_50\": {\"accuracy\": 0.22526041666666666, \"source?\": false}, \"ORACLE.run1_32\": {\"accuracy\": 0.30520833333333336, \"source?\": false}, \"ORACLE.run1_26\": {\"accuracy\": 0.15078125, \"source?\": false}, \"ORACLE.run1_44\": {\"accuracy\": 0.22421875, \"source?\": false}}}, \"history\": {\"epoch_indices\": [1, 2, 3, 4, 5, 6, 7, 8], \"train_label_loss\": [0.2819814379839708, 0.15448715934329324, 0.11618689554091918, 0.09278165270763845, 0.0779072051635383, 0.06394902285044851, 0.05162335793040256, 0.042752426540775906], \"source_val_label_loss\": [0.19079473614692688, 0.15901906788349152, 0.12459176033735275, 0.12736979126930237, 0.13211745023727417, 0.12203595042228699, 0.12510661780834198, 0.12815101444721222], \"target_val_label_loss\": [2.543513774871826, 2.4347329139709473, 2.4140400886535645, 2.406428337097168, 2.570479154586792, 2.7676825523376465, 2.77710223197937, 3.3400614261627197], \"source_val_acc_label\": [0.954195205479452, 0.9662885273972602, 0.9731378424657534, 0.9737799657534246, 0.9732448630136986, 0.9759203767123288, 0.9758133561643836, 0.9783818493150684], \"target_val_acc_label\": [0.17861328125, 0.21350911458333333, 0.19899088541666668, 0.20325520833333333, 0.1880859375, 0.16337890625, 0.16520182291666666, 0.1642578125]}, \"dataset_metrics\": {\"source\": {\"train\": {\"n_unique_x\": 56700, \"n_unique_y\": 130, \"n_batch/episode\": 2079}, \"val\": {\"n_unique_x\": 12132, \"n_unique_y\": 130, \"n_batch/episode\": 292}, \"test\": {\"n_unique_x\": 12132, \"n_unique_y\": 130, \"n_batch/episode\": 292}}, \"target\": {\"train\": {\"n_unique_x\": 179200, \"n_unique_y\": 16, \"n_batch/episode\": 6720}, \"val\": {\"n_unique_x\": 38400, \"n_unique_y\": 16, \"n_batch/episode\": 960}, \"test\": {\"n_unique_x\": 38400, \"n_unique_y\": 16, \"n_batch/episode\": 960}}}}'"
      ]
     },
     "execution_count": 29,
     "metadata": {},
     "output_type": "execute_result"
    }
   ],
   "source": [
    "json.dumps(experiment)"
   ]
  }
 ],
 "metadata": {
  "celltoolbar": "Tags",
  "kernelspec": {
   "display_name": "Python 3 (ipykernel)",
   "language": "python",
   "name": "python3"
  },
  "language_info": {
   "codemirror_mode": {
    "name": "ipython",
    "version": 3
   },
   "file_extension": ".py",
   "mimetype": "text/x-python",
   "name": "python",
   "nbconvert_exporter": "python",
   "pygments_lexer": "ipython3",
   "version": "3.8.10"
  },
  "papermill": {
   "default_parameters": {},
   "duration": 586.340299,
   "end_time": "2022-03-17T05:00:55.094055",
   "environment_variables": {},
   "exception": null,
   "input_path": "/mnt/wd500GB/CSC500/csc500-main/csc500-notebooks/templates/tl_ptn_template.ipynb",
   "output_path": "trial.ipynb",
   "parameters": {
    "parameters": {
     "BEST_MODEL_PATH": "./best_model.pth",
     "NUM_LOGS_PER_EPOCH": 10,
     "criteria_for_best": "target_loss",
     "dataset_seed": 1337,
     "datasets": [
      {
       "domain_prefix": "C_A_",
       "domains": [
        1,
        2,
        3,
        4,
        5
       ],
       "episode_transforms": [],
       "labels": [
        "1-10.",
        "1-11.",
        "1-15.",
        "1-16.",
        "1-17.",
        "1-18.",
        "1-19.",
        "10-4.",
        "10-7.",
        "11-1.",
        "11-14.",
        "11-17.",
        "11-20.",
        "11-7.",
        "13-20.",
        "13-8.",
        "14-10.",
        "14-11.",
        "14-14.",
        "14-7.",
        "15-1.",
        "15-20.",
        "16-1.",
        "16-16.",
        "17-10.",
        "17-11.",
        "17-2.",
        "19-1.",
        "19-16.",
        "19-19.",
        "19-20.",
        "19-3.",
        "2-10.",
        "2-11.",
        "2-17.",
        "2-18.",
        "2-20.",
        "2-3.",
        "2-4.",
        "2-5.",
        "2-6.",
        "2-7.",
        "2-8.",
        "3-13.",
        "3-18.",
        "3-3.",
        "4-1.",
        "4-10.",
        "4-11.",
        "4-19.",
        "5-5.",
        "6-15.",
        "7-10.",
        "7-14.",
        "8-18.",
        "8-20.",
        "8-3.",
        "8-8."
       ],
       "num_examples_per_domain_per_label": 100,
       "pickle_path": "/mnt/wd500GB/CSC500/csc500-main/datasets/cores.stratified_ds.2022A.pkl",
       "source_or_target_dataset": "source",
       "x_transforms": [
        "unit_mag"
       ]
      },
      {
       "domain_prefix": "W_A_",
       "domains": [
        1,
        2,
        3,
        4
       ],
       "episode_transforms": [],
       "labels": [
        "1-10",
        "1-12",
        "1-14",
        "1-16",
        "1-18",
        "1-19",
        "1-8",
        "10-11",
        "10-17",
        "10-4",
        "10-7",
        "11-1",
        "11-10",
        "11-19",
        "11-20",
        "11-4",
        "11-7",
        "12-19",
        "12-20",
        "12-7",
        "13-14",
        "13-18",
        "13-19",
        "13-20",
        "13-3",
        "13-7",
        "14-10",
        "14-11",
        "14-12",
        "14-13",
        "14-14",
        "14-19",
        "14-20",
        "14-7",
        "14-8",
        "14-9",
        "15-1",
        "15-19",
        "15-6",
        "16-1",
        "16-16",
        "16-19",
        "16-20",
        "17-10",
        "17-11",
        "18-1",
        "18-10",
        "18-11",
        "18-12",
        "18-13",
        "18-14",
        "18-15",
        "18-16",
        "18-17",
        "18-19",
        "18-2",
        "18-20",
        "18-4",
        "18-5",
        "18-7",
        "18-8",
        "18-9",
        "19-1",
        "19-10",
        "19-11",
        "19-12",
        "19-13",
        "19-14",
        "19-15",
        "19-19",
        "19-2",
        "19-20",
        "19-3",
        "19-4",
        "19-6",
        "19-7",
        "19-8",
        "19-9",
        "2-1",
        "2-13",
        "2-15",
        "2-3",
        "2-4",
        "2-5",
        "2-6",
        "2-7",
        "2-8",
        "20-1",
        "20-12",
        "20-14",
        "20-15",
        "20-16",
        "20-18",
        "20-19",
        "20-20",
        "20-3",
        "20-4",
        "20-5",
        "20-7",
        "20-8",
        "3-1",
        "3-13",
        "3-18",
        "3-2",
        "3-8",
        "4-1",
        "4-10",
        "4-11",
        "5-1",
        "5-5",
        "6-1",
        "6-15",
        "6-6",
        "7-10",
        "7-11",
        "7-12",
        "7-13",
        "7-14",
        "7-7",
        "7-8",
        "7-9",
        "8-1",
        "8-13",
        "8-14",
        "8-18",
        "8-20",
        "8-3",
        "8-8",
        "9-1",
        "9-7"
       ],
       "num_examples_per_domain_per_label": 100,
       "pickle_path": "/mnt/wd500GB/CSC500/csc500-main/datasets/wisig.node3-19.stratified_ds.2022A.pkl",
       "source_or_target_dataset": "source",
       "x_transforms": [
        "unit_mag"
       ]
      },
      {
       "domain_prefix": "ORACLE.run1_",
       "domains": [
        32,
        38,
        8,
        44,
        14,
        50,
        20,
        26
       ],
       "episode_transforms": [],
       "labels": [
        "3123D52",
        "3123D65",
        "3123D79",
        "3123D80",
        "3123D54",
        "3123D70",
        "3123D7B",
        "3123D89",
        "3123D58",
        "3123D76",
        "3123D7D",
        "3123EFE",
        "3123D64",
        "3123D78",
        "3123D7E",
        "3124E4A"
       ],
       "num_examples_per_domain_per_label": 2000,
       "pickle_path": "/mnt/wd500GB/CSC500/csc500-main/datasets/oracle.Run1_framed_2000Examples_stratified_ds.2022A.pkl",
       "source_or_target_dataset": "target",
       "x_transforms": [
        "unit_mag"
       ]
      }
     ],
     "device": "cuda",
     "experiment_name": "cores+wisig -> oracle.run1.framed",
     "lr": 0.001,
     "n_epoch": 50,
     "n_query": 2,
     "n_shot": 3,
     "n_way": 16,
     "patience": 3,
     "seed": 1337,
     "test_k_factor": 2,
     "torch_default_dtype": "torch.float32",
     "train_k_factor": 3,
     "val_k_factor": 2,
     "x_net": [
      {
       "class": "nnReshape",
       "kargs": {
        "shape": [
         -1,
         1,
         2,
         256
        ]
       }
      },
      {
       "class": "Conv2d",
       "kargs": {
        "bias": false,
        "in_channels": 1,
        "kernel_size": [
         1,
         7
        ],
        "out_channels": 256,
        "padding": [
         0,
         3
        ]
       }
      },
      {
       "class": "ReLU",
       "kargs": {
        "inplace": true
       }
      },
      {
       "class": "BatchNorm2d",
       "kargs": {
        "num_features": 256
       }
      },
      {
       "class": "Conv2d",
       "kargs": {
        "bias": true,
        "in_channels": 256,
        "kernel_size": [
         2,
         7
        ],
        "out_channels": 80,
        "padding": [
         0,
         3
        ]
       }
      },
      {
       "class": "ReLU",
       "kargs": {
        "inplace": true
       }
      },
      {
       "class": "BatchNorm2d",
       "kargs": {
        "num_features": 80
       }
      },
      {
       "class": "Flatten",
       "kargs": {}
      },
      {
       "class": "Linear",
       "kargs": {
        "in_features": 20480,
        "out_features": 256
       }
      },
      {
       "class": "ReLU",
       "kargs": {
        "inplace": true
       }
      },
      {
       "class": "BatchNorm1d",
       "kargs": {
        "num_features": 256
       }
      },
      {
       "class": "Linear",
       "kargs": {
        "in_features": 256,
        "out_features": 256
       }
      }
     ]
    }
   },
   "start_time": "2022-03-17T04:51:08.753756",
   "version": "2.3.4"
  }
 },
 "nbformat": 4,
 "nbformat_minor": 5
}