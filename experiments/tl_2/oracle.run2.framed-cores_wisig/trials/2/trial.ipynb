{
 "cells": [
  {
   "cell_type": "markdown",
   "id": "9fea5f46",
   "metadata": {
    "papermill": {
     "duration": 0.017934,
     "end_time": "2022-03-17T03:42:14.227006",
     "exception": false,
     "start_time": "2022-03-17T03:42:14.209072",
     "status": "completed"
    },
    "tags": []
   },
   "source": [
    "# Transfer Learning Template"
   ]
  },
  {
   "cell_type": "code",
   "execution_count": 1,
   "id": "0902182a",
   "metadata": {
    "execution": {
     "iopub.execute_input": "2022-03-17T03:42:14.266451Z",
     "iopub.status.busy": "2022-03-17T03:42:14.264192Z",
     "iopub.status.idle": "2022-03-17T03:42:15.173108Z",
     "shell.execute_reply": "2022-03-17T03:42:15.173326Z"
    },
    "papermill": {
     "duration": 0.933767,
     "end_time": "2022-03-17T03:42:15.173414",
     "exception": false,
     "start_time": "2022-03-17T03:42:14.239647",
     "status": "completed"
    },
    "tags": []
   },
   "outputs": [],
   "source": [
    "%load_ext autoreload\n",
    "%autoreload 2\n",
    "%matplotlib inline\n",
    "\n",
    "    \n",
    "import os, json, sys, time, random\n",
    "import numpy as np\n",
    "import torch\n",
    "from torch.optim import Adam\n",
    "from  easydict import EasyDict\n",
    "import matplotlib.pyplot as plt\n",
    "\n",
    "from steves_models.steves_ptn import Steves_Prototypical_Network\n",
    "\n",
    "from steves_utils.lazy_iterable_wrapper import Lazy_Iterable_Wrapper\n",
    "from steves_utils.iterable_aggregator import Iterable_Aggregator\n",
    "from steves_utils.ptn_train_eval_test_jig import  PTN_Train_Eval_Test_Jig\n",
    "from steves_utils.torch_sequential_builder import build_sequential\n",
    "from steves_utils.torch_utils import get_dataset_metrics, ptn_confusion_by_domain_over_dataloader\n",
    "from steves_utils.utils_v2 import (per_domain_accuracy_from_confusion, get_datasets_base_path)\n",
    "from steves_utils.PTN.utils import independent_accuracy_assesment\n",
    "\n",
    "from torch.utils.data import DataLoader\n",
    "\n",
    "from steves_utils.stratified_dataset.episodic_accessor import Episodic_Accessor_Factory\n",
    "\n",
    "from steves_utils.ptn_do_report import (\n",
    "    get_loss_curve,\n",
    "    get_results_table,\n",
    "    get_parameters_table,\n",
    "    get_domain_accuracies,\n",
    ")\n",
    "\n",
    "from steves_utils.transforms import get_chained_transform"
   ]
  },
  {
   "cell_type": "markdown",
   "id": "41c840b4",
   "metadata": {
    "papermill": {
     "duration": 0.013275,
     "end_time": "2022-03-17T03:42:15.204173",
     "exception": false,
     "start_time": "2022-03-17T03:42:15.190898",
     "status": "completed"
    },
    "tags": []
   },
   "source": [
    "# Allowed Parameters\n",
    "These are allowed parameters, not defaults\n",
    "Each of these values need to be present in the injected parameters (the notebook will raise an exception if they are not present)\n",
    "\n",
    "Papermill uses the cell tag \"parameters\" to inject the real parameters below this cell.\n",
    "Enable tags to see what I mean"
   ]
  },
  {
   "cell_type": "code",
   "execution_count": 2,
   "id": "fd44eb83",
   "metadata": {
    "execution": {
     "iopub.execute_input": "2022-03-17T03:42:15.233610Z",
     "iopub.status.busy": "2022-03-17T03:42:15.233350Z",
     "iopub.status.idle": "2022-03-17T03:42:15.247037Z",
     "shell.execute_reply": "2022-03-17T03:42:15.247464Z"
    },
    "papermill": {
     "duration": 0.03007,
     "end_time": "2022-03-17T03:42:15.247576",
     "exception": false,
     "start_time": "2022-03-17T03:42:15.217506",
     "status": "completed"
    },
    "tags": []
   },
   "outputs": [],
   "source": [
    "required_parameters = {\n",
    "    \"experiment_name\",\n",
    "    \"lr\",\n",
    "    \"device\",\n",
    "    \"seed\",\n",
    "    \"dataset_seed\",\n",
    "    \"n_shot\",\n",
    "    \"n_query\",\n",
    "    \"n_way\",\n",
    "    \"train_k_factor\",\n",
    "    \"val_k_factor\",\n",
    "    \"test_k_factor\",\n",
    "    \"n_epoch\",\n",
    "    \"patience\",\n",
    "    \"criteria_for_best\",\n",
    "    \"x_net\",\n",
    "    \"datasets\",\n",
    "    \"torch_default_dtype\",\n",
    "    \"NUM_LOGS_PER_EPOCH\",\n",
    "    \"BEST_MODEL_PATH\",\n",
    "}"
   ]
  },
  {
   "cell_type": "code",
   "execution_count": 3,
   "id": "fa3f0049",
   "metadata": {
    "execution": {
     "iopub.execute_input": "2022-03-17T03:42:15.286655Z",
     "iopub.status.busy": "2022-03-17T03:42:15.286372Z",
     "iopub.status.idle": "2022-03-17T03:42:15.297741Z",
     "shell.execute_reply": "2022-03-17T03:42:15.298128Z"
    },
    "papermill": {
     "duration": 0.031202,
     "end_time": "2022-03-17T03:42:15.298233",
     "exception": false,
     "start_time": "2022-03-17T03:42:15.267031",
     "status": "completed"
    },
    "tags": [
     "parameters"
    ]
   },
   "outputs": [],
   "source": [
    "from steves_utils.CORES.utils import (\n",
    "    ALL_NODES,\n",
    "    ALL_NODES_MINIMUM_1000_EXAMPLES,\n",
    "    ALL_DAYS\n",
    ")\n",
    "\n",
    "from steves_utils.ORACLE.utils_v2 import (\n",
    "    ALL_DISTANCES_FEET_NARROWED,\n",
    "    ALL_RUNS,\n",
    "    ALL_SERIAL_NUMBERS,\n",
    ")\n",
    "\n",
    "standalone_parameters = {}\n",
    "standalone_parameters[\"experiment_name\"] = \"STANDALONE PTN\"\n",
    "standalone_parameters[\"lr\"] = 0.001\n",
    "standalone_parameters[\"device\"] = \"cuda\"\n",
    "\n",
    "standalone_parameters[\"seed\"] = 1337\n",
    "standalone_parameters[\"dataset_seed\"] = 1337\n",
    "\n",
    "standalone_parameters[\"n_way\"] = 8\n",
    "standalone_parameters[\"n_shot\"] = 3\n",
    "standalone_parameters[\"n_query\"]  = 2\n",
    "standalone_parameters[\"train_k_factor\"] = 1\n",
    "standalone_parameters[\"val_k_factor\"] = 2\n",
    "standalone_parameters[\"test_k_factor\"] = 2\n",
    "\n",
    "\n",
    "standalone_parameters[\"n_epoch\"] = 50\n",
    "\n",
    "standalone_parameters[\"patience\"] = 10\n",
    "standalone_parameters[\"criteria_for_best\"] = \"source_loss\"\n",
    "\n",
    "standalone_parameters[\"datasets\"] = [\n",
    "    {\n",
    "        \"labels\": ALL_SERIAL_NUMBERS,\n",
    "        \"domains\": ALL_DISTANCES_FEET_NARROWED,\n",
    "        \"num_examples_per_domain_per_label\": 100,\n",
    "        \"pickle_path\": os.path.join(get_datasets_base_path(), \"oracle.Run1_framed_2000Examples_stratified_ds.2022A.pkl\"),\n",
    "        \"source_or_target_dataset\": \"source\",\n",
    "        \"x_transforms\": [\"unit_mag\", \"minus_two\"],\n",
    "        \"episode_transforms\": [],\n",
    "        \"domain_prefix\": \"ORACLE_\"\n",
    "    },\n",
    "    {\n",
    "        \"labels\": ALL_NODES,\n",
    "        \"domains\": ALL_DAYS,\n",
    "        \"num_examples_per_domain_per_label\": 100,\n",
    "        \"pickle_path\": os.path.join(get_datasets_base_path(), \"cores.stratified_ds.2022A.pkl\"),\n",
    "        \"source_or_target_dataset\": \"target\",\n",
    "        \"x_transforms\": [\"unit_power\", \"times_zero\"],\n",
    "        \"episode_transforms\": [],\n",
    "        \"domain_prefix\": \"CORES_\"\n",
    "    }   \n",
    "]\n",
    "\n",
    "standalone_parameters[\"torch_default_dtype\"] = \"torch.float32\" \n",
    "\n",
    "\n",
    "\n",
    "standalone_parameters[\"x_net\"] =     [\n",
    "    {\"class\": \"nnReshape\", \"kargs\": {\"shape\":[-1, 1, 2, 256]}},\n",
    "    {\"class\": \"Conv2d\", \"kargs\": { \"in_channels\":1, \"out_channels\":256, \"kernel_size\":(1,7), \"bias\":False, \"padding\":(0,3), },},\n",
    "    {\"class\": \"ReLU\", \"kargs\": {\"inplace\": True}},\n",
    "    {\"class\": \"BatchNorm2d\", \"kargs\": {\"num_features\":256}},\n",
    "\n",
    "    {\"class\": \"Conv2d\", \"kargs\": { \"in_channels\":256, \"out_channels\":80, \"kernel_size\":(2,7), \"bias\":True, \"padding\":(0,3), },},\n",
    "    {\"class\": \"ReLU\", \"kargs\": {\"inplace\": True}},\n",
    "    {\"class\": \"BatchNorm2d\", \"kargs\": {\"num_features\":80}},\n",
    "    {\"class\": \"Flatten\", \"kargs\": {}},\n",
    "\n",
    "    {\"class\": \"Linear\", \"kargs\": {\"in_features\": 80*256, \"out_features\": 256}}, # 80 units per IQ pair\n",
    "    {\"class\": \"ReLU\", \"kargs\": {\"inplace\": True}},\n",
    "    {\"class\": \"BatchNorm1d\", \"kargs\": {\"num_features\":256}},\n",
    "\n",
    "    {\"class\": \"Linear\", \"kargs\": {\"in_features\": 256, \"out_features\": 256}},\n",
    "]\n",
    "\n",
    "# Parameters relevant to results\n",
    "# These parameters will basically never need to change\n",
    "standalone_parameters[\"NUM_LOGS_PER_EPOCH\"] = 10\n",
    "standalone_parameters[\"BEST_MODEL_PATH\"] = \"./best_model.pth\"\n",
    "\n",
    "\n",
    "\n",
    "\n"
   ]
  },
  {
   "cell_type": "code",
   "execution_count": 4,
   "id": "5614e008",
   "metadata": {
    "execution": {
     "iopub.execute_input": "2022-03-17T03:42:15.342303Z",
     "iopub.status.busy": "2022-03-17T03:42:15.341788Z",
     "iopub.status.idle": "2022-03-17T03:42:15.355208Z",
     "shell.execute_reply": "2022-03-17T03:42:15.354789Z"
    },
    "papermill": {
     "duration": 0.037722,
     "end_time": "2022-03-17T03:42:15.355322",
     "exception": false,
     "start_time": "2022-03-17T03:42:15.317600",
     "status": "completed"
    },
    "tags": [
     "injected-parameters"
    ]
   },
   "outputs": [],
   "source": [
    "# Parameters\n",
    "parameters = {\n",
    "    \"experiment_name\": \"oracle.run2.framed -> cores+wisig\",\n",
    "    \"device\": \"cuda\",\n",
    "    \"lr\": 0.001,\n",
    "    \"seed\": 1337,\n",
    "    \"dataset_seed\": 1337,\n",
    "    \"n_shot\": 3,\n",
    "    \"n_query\": 2,\n",
    "    \"train_k_factor\": 3,\n",
    "    \"val_k_factor\": 2,\n",
    "    \"test_k_factor\": 2,\n",
    "    \"torch_default_dtype\": \"torch.float32\",\n",
    "    \"n_epoch\": 50,\n",
    "    \"patience\": 3,\n",
    "    \"criteria_for_best\": \"target_loss\",\n",
    "    \"x_net\": [\n",
    "        {\"class\": \"nnReshape\", \"kargs\": {\"shape\": [-1, 1, 2, 256]}},\n",
    "        {\n",
    "            \"class\": \"Conv2d\",\n",
    "            \"kargs\": {\n",
    "                \"in_channels\": 1,\n",
    "                \"out_channels\": 256,\n",
    "                \"kernel_size\": [1, 7],\n",
    "                \"bias\": False,\n",
    "                \"padding\": [0, 3],\n",
    "            },\n",
    "        },\n",
    "        {\"class\": \"ReLU\", \"kargs\": {\"inplace\": True}},\n",
    "        {\"class\": \"BatchNorm2d\", \"kargs\": {\"num_features\": 256}},\n",
    "        {\n",
    "            \"class\": \"Conv2d\",\n",
    "            \"kargs\": {\n",
    "                \"in_channels\": 256,\n",
    "                \"out_channels\": 80,\n",
    "                \"kernel_size\": [2, 7],\n",
    "                \"bias\": True,\n",
    "                \"padding\": [0, 3],\n",
    "            },\n",
    "        },\n",
    "        {\"class\": \"ReLU\", \"kargs\": {\"inplace\": True}},\n",
    "        {\"class\": \"BatchNorm2d\", \"kargs\": {\"num_features\": 80}},\n",
    "        {\"class\": \"Flatten\", \"kargs\": {}},\n",
    "        {\"class\": \"Linear\", \"kargs\": {\"in_features\": 20480, \"out_features\": 256}},\n",
    "        {\"class\": \"ReLU\", \"kargs\": {\"inplace\": True}},\n",
    "        {\"class\": \"BatchNorm1d\", \"kargs\": {\"num_features\": 256}},\n",
    "        {\"class\": \"Linear\", \"kargs\": {\"in_features\": 256, \"out_features\": 256}},\n",
    "    ],\n",
    "    \"NUM_LOGS_PER_EPOCH\": 10,\n",
    "    \"BEST_MODEL_PATH\": \"./best_model.pth\",\n",
    "    \"n_way\": 16,\n",
    "    \"datasets\": [\n",
    "        {\n",
    "            \"labels\": [\n",
    "                \"1-10.\",\n",
    "                \"1-11.\",\n",
    "                \"1-15.\",\n",
    "                \"1-16.\",\n",
    "                \"1-17.\",\n",
    "                \"1-18.\",\n",
    "                \"1-19.\",\n",
    "                \"10-4.\",\n",
    "                \"10-7.\",\n",
    "                \"11-1.\",\n",
    "                \"11-14.\",\n",
    "                \"11-17.\",\n",
    "                \"11-20.\",\n",
    "                \"11-7.\",\n",
    "                \"13-20.\",\n",
    "                \"13-8.\",\n",
    "                \"14-10.\",\n",
    "                \"14-11.\",\n",
    "                \"14-14.\",\n",
    "                \"14-7.\",\n",
    "                \"15-1.\",\n",
    "                \"15-20.\",\n",
    "                \"16-1.\",\n",
    "                \"16-16.\",\n",
    "                \"17-10.\",\n",
    "                \"17-11.\",\n",
    "                \"17-2.\",\n",
    "                \"19-1.\",\n",
    "                \"19-16.\",\n",
    "                \"19-19.\",\n",
    "                \"19-20.\",\n",
    "                \"19-3.\",\n",
    "                \"2-10.\",\n",
    "                \"2-11.\",\n",
    "                \"2-17.\",\n",
    "                \"2-18.\",\n",
    "                \"2-20.\",\n",
    "                \"2-3.\",\n",
    "                \"2-4.\",\n",
    "                \"2-5.\",\n",
    "                \"2-6.\",\n",
    "                \"2-7.\",\n",
    "                \"2-8.\",\n",
    "                \"3-13.\",\n",
    "                \"3-18.\",\n",
    "                \"3-3.\",\n",
    "                \"4-1.\",\n",
    "                \"4-10.\",\n",
    "                \"4-11.\",\n",
    "                \"4-19.\",\n",
    "                \"5-5.\",\n",
    "                \"6-15.\",\n",
    "                \"7-10.\",\n",
    "                \"7-14.\",\n",
    "                \"8-18.\",\n",
    "                \"8-20.\",\n",
    "                \"8-3.\",\n",
    "                \"8-8.\",\n",
    "            ],\n",
    "            \"domains\": [1, 2, 3, 4, 5],\n",
    "            \"num_examples_per_domain_per_label\": 100,\n",
    "            \"pickle_path\": \"/mnt/wd500GB/CSC500/csc500-main/datasets/cores.stratified_ds.2022A.pkl\",\n",
    "            \"source_or_target_dataset\": \"target\",\n",
    "            \"x_transforms\": [],\n",
    "            \"episode_transforms\": [],\n",
    "            \"domain_prefix\": \"C_A_\",\n",
    "        },\n",
    "        {\n",
    "            \"labels\": [\n",
    "                \"1-10\",\n",
    "                \"1-12\",\n",
    "                \"1-14\",\n",
    "                \"1-16\",\n",
    "                \"1-18\",\n",
    "                \"1-19\",\n",
    "                \"1-8\",\n",
    "                \"10-11\",\n",
    "                \"10-17\",\n",
    "                \"10-4\",\n",
    "                \"10-7\",\n",
    "                \"11-1\",\n",
    "                \"11-10\",\n",
    "                \"11-19\",\n",
    "                \"11-20\",\n",
    "                \"11-4\",\n",
    "                \"11-7\",\n",
    "                \"12-19\",\n",
    "                \"12-20\",\n",
    "                \"12-7\",\n",
    "                \"13-14\",\n",
    "                \"13-18\",\n",
    "                \"13-19\",\n",
    "                \"13-20\",\n",
    "                \"13-3\",\n",
    "                \"13-7\",\n",
    "                \"14-10\",\n",
    "                \"14-11\",\n",
    "                \"14-12\",\n",
    "                \"14-13\",\n",
    "                \"14-14\",\n",
    "                \"14-19\",\n",
    "                \"14-20\",\n",
    "                \"14-7\",\n",
    "                \"14-8\",\n",
    "                \"14-9\",\n",
    "                \"15-1\",\n",
    "                \"15-19\",\n",
    "                \"15-6\",\n",
    "                \"16-1\",\n",
    "                \"16-16\",\n",
    "                \"16-19\",\n",
    "                \"16-20\",\n",
    "                \"17-10\",\n",
    "                \"17-11\",\n",
    "                \"18-1\",\n",
    "                \"18-10\",\n",
    "                \"18-11\",\n",
    "                \"18-12\",\n",
    "                \"18-13\",\n",
    "                \"18-14\",\n",
    "                \"18-15\",\n",
    "                \"18-16\",\n",
    "                \"18-17\",\n",
    "                \"18-19\",\n",
    "                \"18-2\",\n",
    "                \"18-20\",\n",
    "                \"18-4\",\n",
    "                \"18-5\",\n",
    "                \"18-7\",\n",
    "                \"18-8\",\n",
    "                \"18-9\",\n",
    "                \"19-1\",\n",
    "                \"19-10\",\n",
    "                \"19-11\",\n",
    "                \"19-12\",\n",
    "                \"19-13\",\n",
    "                \"19-14\",\n",
    "                \"19-15\",\n",
    "                \"19-19\",\n",
    "                \"19-2\",\n",
    "                \"19-20\",\n",
    "                \"19-3\",\n",
    "                \"19-4\",\n",
    "                \"19-6\",\n",
    "                \"19-7\",\n",
    "                \"19-8\",\n",
    "                \"19-9\",\n",
    "                \"2-1\",\n",
    "                \"2-13\",\n",
    "                \"2-15\",\n",
    "                \"2-3\",\n",
    "                \"2-4\",\n",
    "                \"2-5\",\n",
    "                \"2-6\",\n",
    "                \"2-7\",\n",
    "                \"2-8\",\n",
    "                \"20-1\",\n",
    "                \"20-12\",\n",
    "                \"20-14\",\n",
    "                \"20-15\",\n",
    "                \"20-16\",\n",
    "                \"20-18\",\n",
    "                \"20-19\",\n",
    "                \"20-20\",\n",
    "                \"20-3\",\n",
    "                \"20-4\",\n",
    "                \"20-5\",\n",
    "                \"20-7\",\n",
    "                \"20-8\",\n",
    "                \"3-1\",\n",
    "                \"3-13\",\n",
    "                \"3-18\",\n",
    "                \"3-2\",\n",
    "                \"3-8\",\n",
    "                \"4-1\",\n",
    "                \"4-10\",\n",
    "                \"4-11\",\n",
    "                \"5-1\",\n",
    "                \"5-5\",\n",
    "                \"6-1\",\n",
    "                \"6-15\",\n",
    "                \"6-6\",\n",
    "                \"7-10\",\n",
    "                \"7-11\",\n",
    "                \"7-12\",\n",
    "                \"7-13\",\n",
    "                \"7-14\",\n",
    "                \"7-7\",\n",
    "                \"7-8\",\n",
    "                \"7-9\",\n",
    "                \"8-1\",\n",
    "                \"8-13\",\n",
    "                \"8-14\",\n",
    "                \"8-18\",\n",
    "                \"8-20\",\n",
    "                \"8-3\",\n",
    "                \"8-8\",\n",
    "                \"9-1\",\n",
    "                \"9-7\",\n",
    "            ],\n",
    "            \"domains\": [1, 2, 3, 4],\n",
    "            \"num_examples_per_domain_per_label\": 100,\n",
    "            \"pickle_path\": \"/mnt/wd500GB/CSC500/csc500-main/datasets/wisig.node3-19.stratified_ds.2022A.pkl\",\n",
    "            \"source_or_target_dataset\": \"target\",\n",
    "            \"x_transforms\": [],\n",
    "            \"episode_transforms\": [],\n",
    "            \"domain_prefix\": \"W_A_\",\n",
    "        },\n",
    "        {\n",
    "            \"labels\": [\n",
    "                \"3123D52\",\n",
    "                \"3123D65\",\n",
    "                \"3123D79\",\n",
    "                \"3123D80\",\n",
    "                \"3123D54\",\n",
    "                \"3123D70\",\n",
    "                \"3123D7B\",\n",
    "                \"3123D89\",\n",
    "                \"3123D58\",\n",
    "                \"3123D76\",\n",
    "                \"3123D7D\",\n",
    "                \"3123EFE\",\n",
    "                \"3123D64\",\n",
    "                \"3123D78\",\n",
    "                \"3123D7E\",\n",
    "                \"3124E4A\",\n",
    "            ],\n",
    "            \"domains\": [32, 38, 8, 44, 14, 50, 20, 26],\n",
    "            \"num_examples_per_domain_per_label\": 2000,\n",
    "            \"pickle_path\": \"/mnt/wd500GB/CSC500/csc500-main/datasets/oracle.Run2_framed_2000Examples_stratified_ds.2022A.pkl\",\n",
    "            \"source_or_target_dataset\": \"source\",\n",
    "            \"x_transforms\": [],\n",
    "            \"episode_transforms\": [],\n",
    "            \"domain_prefix\": \"ORACLE.run2_\",\n",
    "        },\n",
    "    ],\n",
    "}\n"
   ]
  },
  {
   "cell_type": "code",
   "execution_count": 5,
   "id": "8fa1cc33",
   "metadata": {
    "execution": {
     "iopub.execute_input": "2022-03-17T03:42:15.391278Z",
     "iopub.status.busy": "2022-03-17T03:42:15.390989Z",
     "iopub.status.idle": "2022-03-17T03:42:15.406039Z",
     "shell.execute_reply": "2022-03-17T03:42:15.405581Z"
    },
    "papermill": {
     "duration": 0.031597,
     "end_time": "2022-03-17T03:42:15.406130",
     "exception": false,
     "start_time": "2022-03-17T03:42:15.374533",
     "status": "completed"
    },
    "tags": []
   },
   "outputs": [],
   "source": [
    "# Set this to True if you want to run this template directly\n",
    "STANDALONE = False\n",
    "if STANDALONE:\n",
    "    print(\"parameters not injected, running with standalone_parameters\")\n",
    "    parameters = standalone_parameters\n",
    "\n",
    "if not 'parameters' in locals() and not 'parameters' in globals():\n",
    "    raise Exception(\"Parameter injection failed\")\n",
    "\n",
    "#Use an easy dict for all the parameters\n",
    "p = EasyDict(parameters)\n",
    "\n",
    "supplied_keys = set(p.keys())\n",
    "\n",
    "if  supplied_keys != required_parameters:\n",
    "    print(\"Parameters are incorrect\")\n",
    "    if len(supplied_keys - required_parameters)>0: print(\"Shouldn't have:\", str(supplied_keys - required_parameters))\n",
    "    if len(required_parameters - supplied_keys)>0: print(\"Need to have:\", str(required_parameters - supplied_keys))\n",
    "    raise RuntimeError(\"Parameters are incorrect\")\n",
    "\n"
   ]
  },
  {
   "cell_type": "code",
   "execution_count": 6,
   "id": "3a028d58",
   "metadata": {
    "execution": {
     "iopub.execute_input": "2022-03-17T03:42:15.440178Z",
     "iopub.status.busy": "2022-03-17T03:42:15.439930Z",
     "iopub.status.idle": "2022-03-17T03:42:15.450164Z",
     "shell.execute_reply": "2022-03-17T03:42:15.449948Z"
    },
    "papermill": {
     "duration": 0.025372,
     "end_time": "2022-03-17T03:42:15.450213",
     "exception": false,
     "start_time": "2022-03-17T03:42:15.424841",
     "status": "completed"
    },
    "tags": []
   },
   "outputs": [],
   "source": [
    "###################################\n",
    "# Set the RNGs and make it all deterministic\n",
    "###################################\n",
    "np.random.seed(p.seed)\n",
    "random.seed(p.seed)\n",
    "torch.manual_seed(p.seed)\n",
    "\n",
    "torch.use_deterministic_algorithms(True) "
   ]
  },
  {
   "cell_type": "code",
   "execution_count": 7,
   "id": "b691acf6",
   "metadata": {
    "execution": {
     "iopub.execute_input": "2022-03-17T03:42:15.485115Z",
     "iopub.status.busy": "2022-03-17T03:42:15.482041Z",
     "iopub.status.idle": "2022-03-17T03:42:15.498965Z",
     "shell.execute_reply": "2022-03-17T03:42:15.498542Z"
    },
    "papermill": {
     "duration": 0.032734,
     "end_time": "2022-03-17T03:42:15.499065",
     "exception": false,
     "start_time": "2022-03-17T03:42:15.466331",
     "status": "completed"
    },
    "tags": []
   },
   "outputs": [],
   "source": [
    "###########################################\n",
    "# The stratified datasets honor this\n",
    "###########################################\n",
    "torch.set_default_dtype(eval(p.torch_default_dtype))"
   ]
  },
  {
   "cell_type": "code",
   "execution_count": 8,
   "id": "b5fba671",
   "metadata": {
    "execution": {
     "iopub.execute_input": "2022-03-17T03:42:15.537359Z",
     "iopub.status.busy": "2022-03-17T03:42:15.532316Z",
     "iopub.status.idle": "2022-03-17T03:42:15.573452Z",
     "shell.execute_reply": "2022-03-17T03:42:15.573012Z"
    },
    "papermill": {
     "duration": 0.056339,
     "end_time": "2022-03-17T03:42:15.573559",
     "exception": false,
     "start_time": "2022-03-17T03:42:15.517220",
     "status": "completed"
    },
    "tags": []
   },
   "outputs": [],
   "source": [
    "###################################\n",
    "# Build the network(s)\n",
    "# Note: It's critical to do this AFTER setting the RNG\n",
    "###################################\n",
    "x_net = build_sequential(p.x_net)"
   ]
  },
  {
   "cell_type": "code",
   "execution_count": 9,
   "id": "5d7e61cc",
   "metadata": {
    "execution": {
     "iopub.execute_input": "2022-03-17T03:42:15.610397Z",
     "iopub.status.busy": "2022-03-17T03:42:15.610069Z",
     "iopub.status.idle": "2022-03-17T03:42:15.625701Z",
     "shell.execute_reply": "2022-03-17T03:42:15.626094Z"
    },
    "papermill": {
     "duration": 0.032428,
     "end_time": "2022-03-17T03:42:15.626209",
     "exception": false,
     "start_time": "2022-03-17T03:42:15.593781",
     "status": "completed"
    },
    "tags": []
   },
   "outputs": [],
   "source": [
    "start_time_secs = time.time()"
   ]
  },
  {
   "cell_type": "code",
   "execution_count": 10,
   "id": "c6b67dfd",
   "metadata": {
    "execution": {
     "iopub.execute_input": "2022-03-17T03:42:15.660334Z",
     "iopub.status.busy": "2022-03-17T03:42:15.660057Z",
     "iopub.status.idle": "2022-03-17T03:42:15.674940Z",
     "shell.execute_reply": "2022-03-17T03:42:15.675329Z"
    },
    "papermill": {
     "duration": 0.030904,
     "end_time": "2022-03-17T03:42:15.675448",
     "exception": false,
     "start_time": "2022-03-17T03:42:15.644544",
     "status": "completed"
    },
    "tags": []
   },
   "outputs": [],
   "source": [
    "p.domains_source = []\n",
    "p.domains_target = []\n",
    "\n",
    "\n",
    "train_original_source = []\n",
    "val_original_source   = []\n",
    "test_original_source  = []\n",
    "\n",
    "train_original_target = []\n",
    "val_original_target   = []\n",
    "test_original_target  = []"
   ]
  },
  {
   "cell_type": "code",
   "execution_count": 11,
   "id": "e3d9c3d3",
   "metadata": {
    "execution": {
     "iopub.execute_input": "2022-03-17T03:42:15.716611Z",
     "iopub.status.busy": "2022-03-17T03:42:15.707906Z",
     "iopub.status.idle": "2022-03-17T03:42:15.722912Z",
     "shell.execute_reply": "2022-03-17T03:42:15.723312Z"
    },
    "papermill": {
     "duration": 0.030626,
     "end_time": "2022-03-17T03:42:15.723426",
     "exception": false,
     "start_time": "2022-03-17T03:42:15.692800",
     "status": "completed"
    },
    "tags": []
   },
   "outputs": [],
   "source": [
    "# global_x_transform_func = lambda x: normalize(x.to(torch.get_default_dtype()), \"unit_power\") # unit_power, unit_mag\n",
    "# global_x_transform_func = lambda x: normalize(x, \"unit_power\") # unit_power, unit_mag"
   ]
  },
  {
   "cell_type": "code",
   "execution_count": 12,
   "id": "acb78fd2",
   "metadata": {
    "execution": {
     "iopub.execute_input": "2022-03-17T03:42:15.764311Z",
     "iopub.status.busy": "2022-03-17T03:42:15.758281Z",
     "iopub.status.idle": "2022-03-17T03:42:15.777651Z",
     "shell.execute_reply": "2022-03-17T03:42:15.777232Z"
    },
    "papermill": {
     "duration": 0.034209,
     "end_time": "2022-03-17T03:42:15.777751",
     "exception": false,
     "start_time": "2022-03-17T03:42:15.743542",
     "status": "completed"
    },
    "tags": []
   },
   "outputs": [],
   "source": [
    "def add_dataset(\n",
    "    labels,\n",
    "    domains,\n",
    "    pickle_path,\n",
    "    x_transforms,\n",
    "    episode_transforms,\n",
    "    domain_prefix,\n",
    "    num_examples_per_domain_per_label,\n",
    "    source_or_target_dataset:str,\n",
    "    iterator_seed=p.seed,\n",
    "    dataset_seed=p.dataset_seed,\n",
    "    n_shot=p.n_shot,\n",
    "    n_way=p.n_way,\n",
    "    n_query=p.n_query,\n",
    "    train_val_test_k_factors=(p.train_k_factor,p.val_k_factor,p.test_k_factor),\n",
    "):\n",
    "   \n",
    "    if x_transforms == []: x_transform = None\n",
    "    else: x_transform = get_chained_transform(x_transforms)\n",
    "    \n",
    "    if episode_transforms == []: episode_transform = None\n",
    "    else: raise Exception(\"episode_transforms not implemented\")\n",
    "    \n",
    "    episode_transform = lambda tup, _prefix=domain_prefix: (_prefix + str(tup[0]), tup[1])\n",
    "\n",
    "\n",
    "    eaf = Episodic_Accessor_Factory(\n",
    "        labels=labels,\n",
    "        domains=domains,\n",
    "        num_examples_per_domain_per_label=num_examples_per_domain_per_label,\n",
    "        iterator_seed=iterator_seed,\n",
    "        dataset_seed=dataset_seed,\n",
    "        n_shot=n_shot,\n",
    "        n_way=n_way,\n",
    "        n_query=n_query,\n",
    "        train_val_test_k_factors=train_val_test_k_factors,\n",
    "        pickle_path=pickle_path,\n",
    "        x_transform_func=x_transform,\n",
    "    )\n",
    "\n",
    "    train, val, test = eaf.get_train(), eaf.get_val(), eaf.get_test()\n",
    "    train = Lazy_Iterable_Wrapper(train, episode_transform)\n",
    "    val = Lazy_Iterable_Wrapper(val, episode_transform)\n",
    "    test = Lazy_Iterable_Wrapper(test, episode_transform)\n",
    "\n",
    "    if source_or_target_dataset==\"source\":\n",
    "        train_original_source.append(train)\n",
    "        val_original_source.append(val)\n",
    "        test_original_source.append(test)\n",
    "\n",
    "        p.domains_source.extend(\n",
    "            [domain_prefix + str(u) for u in domains]\n",
    "        )\n",
    "    elif source_or_target_dataset==\"target\":\n",
    "        train_original_target.append(train)\n",
    "        val_original_target.append(val)\n",
    "        test_original_target.append(test)\n",
    "        p.domains_target.extend(\n",
    "            [domain_prefix + str(u) for u in domains]\n",
    "        )\n",
    "    else:\n",
    "        raise Exception(f\"invalid source_or_target_dataset: {source_or_target_dataset}\")\n",
    "    "
   ]
  },
  {
   "cell_type": "code",
   "execution_count": 13,
   "id": "fe266617",
   "metadata": {
    "execution": {
     "iopub.execute_input": "2022-03-17T03:42:15.816068Z",
     "iopub.status.busy": "2022-03-17T03:42:15.812022Z",
     "iopub.status.idle": "2022-03-17T03:42:17.628045Z",
     "shell.execute_reply": "2022-03-17T03:42:17.627521Z"
    },
    "papermill": {
     "duration": 1.83164,
     "end_time": "2022-03-17T03:42:17.628151",
     "exception": false,
     "start_time": "2022-03-17T03:42:15.796511",
     "status": "completed"
    },
    "tags": []
   },
   "outputs": [],
   "source": [
    "for ds in p.datasets:\n",
    "    add_dataset(**ds)"
   ]
  },
  {
   "cell_type": "code",
   "execution_count": 14,
   "id": "b90d65ac",
   "metadata": {
    "execution": {
     "iopub.execute_input": "2022-03-17T03:42:17.671619Z",
     "iopub.status.busy": "2022-03-17T03:42:17.663441Z",
     "iopub.status.idle": "2022-03-17T03:42:17.682145Z",
     "shell.execute_reply": "2022-03-17T03:42:17.681731Z"
    },
    "papermill": {
     "duration": 0.034073,
     "end_time": "2022-03-17T03:42:17.682243",
     "exception": false,
     "start_time": "2022-03-17T03:42:17.648170",
     "status": "completed"
    },
    "tags": []
   },
   "outputs": [],
   "source": [
    "# from steves_utils.CORES.utils import (\n",
    "#     ALL_NODES,\n",
    "#     ALL_NODES_MINIMUM_1000_EXAMPLES,\n",
    "#     ALL_DAYS\n",
    "# )\n",
    "\n",
    "# add_dataset(\n",
    "#     labels=ALL_NODES,\n",
    "#     domains = ALL_DAYS,\n",
    "#     num_examples_per_domain_per_label=100,\n",
    "#     pickle_path=os.path.join(get_datasets_base_path(), \"cores.stratified_ds.2022A.pkl\"),\n",
    "#     source_or_target_dataset=\"target\",\n",
    "#     x_transform_func=global_x_transform_func,\n",
    "#     domain_modifier=lambda u: f\"cores_{u}\"\n",
    "# )"
   ]
  },
  {
   "cell_type": "code",
   "execution_count": 15,
   "id": "76db484d",
   "metadata": {
    "execution": {
     "iopub.execute_input": "2022-03-17T03:42:17.724734Z",
     "iopub.status.busy": "2022-03-17T03:42:17.720581Z",
     "iopub.status.idle": "2022-03-17T03:42:17.731443Z",
     "shell.execute_reply": "2022-03-17T03:42:17.731820Z"
    },
    "papermill": {
     "duration": 0.031164,
     "end_time": "2022-03-17T03:42:17.731935",
     "exception": false,
     "start_time": "2022-03-17T03:42:17.700771",
     "status": "completed"
    },
    "tags": []
   },
   "outputs": [],
   "source": [
    "# from steves_utils.ORACLE.utils_v2 import (\n",
    "#     ALL_DISTANCES_FEET,\n",
    "#     ALL_RUNS,\n",
    "#     ALL_SERIAL_NUMBERS,\n",
    "# )\n",
    "\n",
    "\n",
    "# add_dataset(\n",
    "#     labels=ALL_SERIAL_NUMBERS,\n",
    "#     domains = list(set(ALL_DISTANCES_FEET) - {2,62}),\n",
    "#     num_examples_per_domain_per_label=100,\n",
    "#     pickle_path=os.path.join(get_datasets_base_path(), \"oracle.Run2_framed_2000Examples_stratified_ds.2022A.pkl\"),\n",
    "#     source_or_target_dataset=\"source\",\n",
    "#     x_transform_func=global_x_transform_func,\n",
    "#     domain_modifier=lambda u: f\"oracle1_{u}\"\n",
    "# )\n"
   ]
  },
  {
   "cell_type": "code",
   "execution_count": 16,
   "id": "97dea9d2",
   "metadata": {
    "execution": {
     "iopub.execute_input": "2022-03-17T03:42:17.765548Z",
     "iopub.status.busy": "2022-03-17T03:42:17.765297Z",
     "iopub.status.idle": "2022-03-17T03:42:17.779102Z",
     "shell.execute_reply": "2022-03-17T03:42:17.778850Z"
    },
    "papermill": {
     "duration": 0.029875,
     "end_time": "2022-03-17T03:42:17.779157",
     "exception": false,
     "start_time": "2022-03-17T03:42:17.749282",
     "status": "completed"
    },
    "tags": []
   },
   "outputs": [],
   "source": [
    "# from steves_utils.ORACLE.utils_v2 import (\n",
    "#     ALL_DISTANCES_FEET,\n",
    "#     ALL_RUNS,\n",
    "#     ALL_SERIAL_NUMBERS,\n",
    "# )\n",
    "\n",
    "\n",
    "# add_dataset(\n",
    "#     labels=ALL_SERIAL_NUMBERS,\n",
    "#     domains = list(set(ALL_DISTANCES_FEET) - {2,62,56}),\n",
    "#     num_examples_per_domain_per_label=100,\n",
    "#     pickle_path=os.path.join(get_datasets_base_path(), \"oracle.Run2_framed_2000Examples_stratified_ds.2022A.pkl\"),\n",
    "#     source_or_target_dataset=\"source\",\n",
    "#     x_transform_func=global_x_transform_func,\n",
    "#     domain_modifier=lambda u: f\"oracle2_{u}\"\n",
    "# )"
   ]
  },
  {
   "cell_type": "code",
   "execution_count": 17,
   "id": "6f289866",
   "metadata": {
    "execution": {
     "iopub.execute_input": "2022-03-17T03:42:17.808209Z",
     "iopub.status.busy": "2022-03-17T03:42:17.807755Z",
     "iopub.status.idle": "2022-03-17T03:42:17.819184Z",
     "shell.execute_reply": "2022-03-17T03:42:17.818933Z"
    },
    "papermill": {
     "duration": 0.02632,
     "end_time": "2022-03-17T03:42:17.819247",
     "exception": false,
     "start_time": "2022-03-17T03:42:17.792927",
     "status": "completed"
    },
    "tags": []
   },
   "outputs": [],
   "source": [
    "# add_dataset(\n",
    "#     labels=list(range(19)),\n",
    "#     domains = [0,1,2],\n",
    "#     num_examples_per_domain_per_label=100,\n",
    "#     pickle_path=os.path.join(get_datasets_base_path(), \"metehan.stratified_ds.2022A.pkl\"),\n",
    "#     source_or_target_dataset=\"target\",\n",
    "#     x_transform_func=global_x_transform_func,\n",
    "#     domain_modifier=lambda u: f\"met_{u}\"\n",
    "# )"
   ]
  },
  {
   "cell_type": "code",
   "execution_count": 18,
   "id": "86a863c3",
   "metadata": {
    "execution": {
     "iopub.execute_input": "2022-03-17T03:42:17.848639Z",
     "iopub.status.busy": "2022-03-17T03:42:17.847957Z",
     "iopub.status.idle": "2022-03-17T03:42:17.859495Z",
     "shell.execute_reply": "2022-03-17T03:42:17.859002Z"
    },
    "papermill": {
     "duration": 0.026654,
     "end_time": "2022-03-17T03:42:17.859595",
     "exception": false,
     "start_time": "2022-03-17T03:42:17.832941",
     "status": "completed"
    },
    "tags": []
   },
   "outputs": [],
   "source": [
    "# # from steves_utils.wisig.utils import (\n",
    "# #     ALL_NODES_MINIMUM_100_EXAMPLES,\n",
    "# #     ALL_NODES_MINIMUM_500_EXAMPLES,\n",
    "# #     ALL_NODES_MINIMUM_1000_EXAMPLES,\n",
    "# #     ALL_DAYS\n",
    "# # )\n",
    "\n",
    "# import steves_utils.wisig.utils as wisig\n",
    "\n",
    "\n",
    "# add_dataset(\n",
    "#     labels=wisig.ALL_NODES_MINIMUM_100_EXAMPLES,\n",
    "#     domains = wisig.ALL_DAYS,\n",
    "#     num_examples_per_domain_per_label=100,\n",
    "#     pickle_path=os.path.join(get_datasets_base_path(), \"wisig.node3-19.stratified_ds.2022A.pkl\"),\n",
    "#     source_or_target_dataset=\"target\",\n",
    "#     x_transform_func=global_x_transform_func,\n",
    "#     domain_modifier=lambda u: f\"wisig_{u}\"\n",
    "# )"
   ]
  },
  {
   "cell_type": "code",
   "execution_count": 19,
   "id": "fd5442bc",
   "metadata": {
    "execution": {
     "iopub.execute_input": "2022-03-17T03:42:17.895266Z",
     "iopub.status.busy": "2022-03-17T03:42:17.894996Z",
     "iopub.status.idle": "2022-03-17T03:42:17.907628Z",
     "shell.execute_reply": "2022-03-17T03:42:17.907162Z"
    },
    "papermill": {
     "duration": 0.030209,
     "end_time": "2022-03-17T03:42:17.907729",
     "exception": false,
     "start_time": "2022-03-17T03:42:17.877520",
     "status": "completed"
    },
    "tags": []
   },
   "outputs": [],
   "source": [
    "###################################\n",
    "# Build the dataset\n",
    "###################################\n",
    "train_original_source = Iterable_Aggregator(train_original_source, p.seed)\n",
    "val_original_source = Iterable_Aggregator(val_original_source, p.seed)\n",
    "test_original_source = Iterable_Aggregator(test_original_source, p.seed)\n",
    "\n",
    "\n",
    "train_original_target = Iterable_Aggregator(train_original_target, p.seed)\n",
    "val_original_target = Iterable_Aggregator(val_original_target, p.seed)\n",
    "test_original_target = Iterable_Aggregator(test_original_target, p.seed)\n",
    "\n",
    "# For CNN We only use X and Y. And we only train on the source.\n",
    "# Properly form the data using a transform lambda and Lazy_Iterable_Wrapper. Finally wrap them in a dataloader\n",
    "\n",
    "transform_lambda = lambda ex: ex[1] # Original is (<domain>, <episode>) so we strip down to episode only\n",
    "\n",
    "train_processed_source = Lazy_Iterable_Wrapper(train_original_source, transform_lambda)\n",
    "val_processed_source   = Lazy_Iterable_Wrapper(val_original_source, transform_lambda)\n",
    "test_processed_source  = Lazy_Iterable_Wrapper(test_original_source, transform_lambda)\n",
    "\n",
    "train_processed_target = Lazy_Iterable_Wrapper(train_original_target, transform_lambda)\n",
    "val_processed_target   = Lazy_Iterable_Wrapper(val_original_target, transform_lambda)\n",
    "test_processed_target  = Lazy_Iterable_Wrapper(test_original_target, transform_lambda)\n",
    "\n",
    "datasets = EasyDict({\n",
    "    \"source\": {\n",
    "        \"original\": {\"train\":train_original_source, \"val\":val_original_source, \"test\":test_original_source},\n",
    "        \"processed\": {\"train\":train_processed_source, \"val\":val_processed_source, \"test\":test_processed_source}\n",
    "    },\n",
    "    \"target\": {\n",
    "        \"original\": {\"train\":train_original_target, \"val\":val_original_target, \"test\":test_original_target},\n",
    "        \"processed\": {\"train\":train_processed_target, \"val\":val_processed_target, \"test\":test_processed_target}\n",
    "    },\n",
    "})"
   ]
  },
  {
   "cell_type": "code",
   "execution_count": 20,
   "id": "5b3c01fc",
   "metadata": {
    "execution": {
     "iopub.execute_input": "2022-03-17T03:42:17.944279Z",
     "iopub.status.busy": "2022-03-17T03:42:17.944026Z",
     "iopub.status.idle": "2022-03-17T03:42:22.877210Z",
     "shell.execute_reply": "2022-03-17T03:42:22.876804Z"
    },
    "papermill": {
     "duration": 4.949603,
     "end_time": "2022-03-17T03:42:22.877299",
     "exception": false,
     "start_time": "2022-03-17T03:42:17.927696",
     "status": "completed"
    },
    "tags": []
   },
   "outputs": [
    {
     "name": "stdout",
     "output_type": "stream",
     "text": [
      "{'ORACLE.run2_26', 'ORACLE.run2_38', 'ORACLE.run2_20', 'ORACLE.run2_14', 'ORACLE.run2_8', 'ORACLE.run2_32', 'ORACLE.run2_50', 'ORACLE.run2_44'}\n"
     ]
    },
    {
     "name": "stdout",
     "output_type": "stream",
     "text": [
      "{'C_A_3', 'W_A_4', 'W_A_1', 'C_A_4', 'W_A_2', 'C_A_2', 'C_A_1', 'C_A_5', 'W_A_3'}\n"
     ]
    },
    {
     "name": "stdout",
     "output_type": "stream",
     "text": [
      "tensor([[[ 0.0030,  0.0003, -0.0034,  ...,  0.0009,  0.0046,  0.0005],\n",
      "         [ 0.0013,  0.0038, -0.0016,  ..., -0.0031, -0.0002, -0.0034]],\n",
      "\n",
      "        [[ 0.0032,  0.0012, -0.0037,  ..., -0.0008,  0.0040, -0.0012],\n",
      "         [ 0.0002,  0.0033, -0.0003,  ..., -0.0040, -0.0022, -0.0033]],\n",
      "\n",
      "        [[ 0.0007,  0.0036, -0.0019,  ..., -0.0040,  0.0024,  0.0007],\n",
      "         [-0.0018,  0.0013,  0.0023,  ..., -0.0017, -0.0035, -0.0030]],\n",
      "\n",
      "        ...,\n",
      "\n",
      "        [[ 0.0002, -0.0060,  0.0011,  ...,  0.0057, -0.0016,  0.0004],\n",
      "         [ 0.0031, -0.0003, -0.0038,  ...,  0.0000,  0.0061,  0.0048]],\n",
      "\n",
      "        [[ 0.0035, -0.0027, -0.0044,  ...,  0.0052,  0.0043, -0.0018],\n",
      "         [ 0.0045,  0.0021, -0.0048,  ..., -0.0026, -0.0018, -0.0061]],\n",
      "\n",
      "        [[ 0.0018, -0.0033, -0.0020,  ...,  0.0052,  0.0054,  0.0034],\n",
      "         [ 0.0051,  0.0024, -0.0060,  ..., -0.0015,  0.0033, -0.0051]]])\n"
     ]
    }
   ],
   "source": [
    "from steves_utils.transforms import get_average_magnitude, get_average_power\n",
    "\n",
    "print(set([u for u,_ in val_original_source]))\n",
    "print(set([u for u,_ in val_original_target]))\n",
    "\n",
    "s_x, s_y, q_x, q_y, _ = next(iter(train_processed_source))\n",
    "print(s_x)\n",
    "\n",
    "# for ds in [\n",
    "#     train_processed_source,\n",
    "#     val_processed_source,\n",
    "#     test_processed_source,\n",
    "#     train_processed_target,\n",
    "#     val_processed_target,\n",
    "#     test_processed_target\n",
    "# ]:\n",
    "#     for s_x, s_y, q_x, q_y, _ in ds:\n",
    "#         for X in (s_x, q_x):\n",
    "#             for x in X:\n",
    "#                 assert np.isclose(get_average_magnitude(x.numpy()), 1.0)\n",
    "#                 assert np.isclose(get_average_power(x.numpy()), 1.0)\n",
    "                "
   ]
  },
  {
   "cell_type": "code",
   "execution_count": 21,
   "id": "bbdacba1",
   "metadata": {
    "execution": {
     "iopub.execute_input": "2022-03-17T03:42:22.918909Z",
     "iopub.status.busy": "2022-03-17T03:42:22.918653Z",
     "iopub.status.idle": "2022-03-17T03:42:22.978571Z",
     "shell.execute_reply": "2022-03-17T03:42:22.978158Z"
    },
    "papermill": {
     "duration": 0.077663,
     "end_time": "2022-03-17T03:42:22.978662",
     "exception": false,
     "start_time": "2022-03-17T03:42:22.900999",
     "status": "completed"
    },
    "tags": []
   },
   "outputs": [
    {
     "name": "stdout",
     "output_type": "stream",
     "text": [
      "(2, 256)\n"
     ]
    }
   ],
   "source": [
    "###################################\n",
    "# Build the model\n",
    "###################################\n",
    "model = Steves_Prototypical_Network(x_net, device=p.device, x_shape=(2,256))\n",
    "optimizer = Adam(params=model.parameters(), lr=p.lr)"
   ]
  },
  {
   "cell_type": "code",
   "execution_count": 22,
   "id": "22b39ac5",
   "metadata": {
    "execution": {
     "iopub.execute_input": "2022-03-17T03:42:23.017605Z",
     "iopub.status.busy": "2022-03-17T03:42:23.017344Z",
     "iopub.status.idle": "2022-03-17T04:09:09.938517Z",
     "shell.execute_reply": "2022-03-17T04:09:09.938289Z"
    },
    "papermill": {
     "duration": 1606.938837,
     "end_time": "2022-03-17T04:09:09.938575",
     "exception": false,
     "start_time": "2022-03-17T03:42:22.999738",
     "status": "completed"
    },
    "tags": []
   },
   "outputs": [
    {
     "name": "stdout",
     "output_type": "stream",
     "text": [
      "epoch: 1, [batch: 1 / 6720], examples_per_second: 49.4075, train_label_loss: 2.5571, \n"
     ]
    },
    {
     "name": "stdout",
     "output_type": "stream",
     "text": [
      "epoch: 1, [batch: 672 / 6720], examples_per_second: 3233.3341, train_label_loss: 0.2278, \n"
     ]
    },
    {
     "name": "stdout",
     "output_type": "stream",
     "text": [
      "epoch: 1, [batch: 1344 / 6720], examples_per_second: 3205.1269, train_label_loss: 0.1896, \n"
     ]
    },
    {
     "name": "stdout",
     "output_type": "stream",
     "text": [
      "epoch: 1, [batch: 2016 / 6720], examples_per_second: 3206.2444, train_label_loss: 0.2373, \n"
     ]
    },
    {
     "name": "stdout",
     "output_type": "stream",
     "text": [
      "epoch: 1, [batch: 2688 / 6720], examples_per_second: 3196.4699, train_label_loss: 0.3622, \n"
     ]
    },
    {
     "name": "stdout",
     "output_type": "stream",
     "text": [
      "epoch: 1, [batch: 3360 / 6720], examples_per_second: 3204.3004, train_label_loss: 0.2283, \n"
     ]
    },
    {
     "name": "stdout",
     "output_type": "stream",
     "text": [
      "epoch: 1, [batch: 4032 / 6720], examples_per_second: 3201.4830, train_label_loss: 0.1481, \n"
     ]
    },
    {
     "name": "stdout",
     "output_type": "stream",
     "text": [
      "epoch: 1, [batch: 4704 / 6720], examples_per_second: 3197.2839, train_label_loss: 0.1861, \n"
     ]
    },
    {
     "name": "stdout",
     "output_type": "stream",
     "text": [
      "epoch: 1, [batch: 5376 / 6720], examples_per_second: 3216.1839, train_label_loss: 0.0572, \n"
     ]
    },
    {
     "name": "stdout",
     "output_type": "stream",
     "text": [
      "epoch: 1, [batch: 6048 / 6720], examples_per_second: 3186.9352, train_label_loss: 0.3764, \n"
     ]
    },
    {
     "name": "stdout",
     "output_type": "stream",
     "text": [
      "=============================================================\n",
      "epoch: 1, source_val_acc_label: 0.6996, target_val_acc_label: 0.5881, source_val_label_loss: 873.4482, target_val_label_loss: 75205.7969, \n",
      "=============================================================\n"
     ]
    },
    {
     "name": "stdout",
     "output_type": "stream",
     "text": [
      "New best\n"
     ]
    },
    {
     "name": "stdout",
     "output_type": "stream",
     "text": [
      "epoch: 2, [batch: 1 / 6720], examples_per_second: 5.5322, train_label_loss: 910.0471, \n"
     ]
    },
    {
     "name": "stdout",
     "output_type": "stream",
     "text": [
      "epoch: 2, [batch: 672 / 6720], examples_per_second: 3222.0536, train_label_loss: 0.1825, \n"
     ]
    },
    {
     "name": "stdout",
     "output_type": "stream",
     "text": [
      "epoch: 2, [batch: 1344 / 6720], examples_per_second: 3228.8913, train_label_loss: 0.2449, \n"
     ]
    },
    {
     "name": "stdout",
     "output_type": "stream",
     "text": [
      "epoch: 2, [batch: 2016 / 6720], examples_per_second: 3232.2314, train_label_loss: 0.1168, \n"
     ]
    },
    {
     "name": "stdout",
     "output_type": "stream",
     "text": [
      "epoch: 2, [batch: 2688 / 6720], examples_per_second: 3219.9261, train_label_loss: 0.3927, \n"
     ]
    },
    {
     "name": "stdout",
     "output_type": "stream",
     "text": [
      "epoch: 2, [batch: 3360 / 6720], examples_per_second: 3236.0297, train_label_loss: 0.3054, \n"
     ]
    },
    {
     "name": "stdout",
     "output_type": "stream",
     "text": [
      "epoch: 2, [batch: 4032 / 6720], examples_per_second: 3245.3514, train_label_loss: 0.4258, \n"
     ]
    },
    {
     "name": "stdout",
     "output_type": "stream",
     "text": [
      "epoch: 2, [batch: 4704 / 6720], examples_per_second: 3231.4874, train_label_loss: 0.4806, \n"
     ]
    },
    {
     "name": "stdout",
     "output_type": "stream",
     "text": [
      "epoch: 2, [batch: 5376 / 6720], examples_per_second: 3228.8997, train_label_loss: 0.4037, \n"
     ]
    },
    {
     "name": "stdout",
     "output_type": "stream",
     "text": [
      "epoch: 2, [batch: 6048 / 6720], examples_per_second: 3236.4882, train_label_loss: 0.1177, \n"
     ]
    },
    {
     "name": "stdout",
     "output_type": "stream",
     "text": [
      "=============================================================\n",
      "epoch: 2, source_val_acc_label: 0.9062, target_val_acc_label: 0.7152, source_val_label_loss: 0.2960, target_val_label_loss: 14898.2861, \n",
      "=============================================================\n"
     ]
    },
    {
     "name": "stdout",
     "output_type": "stream",
     "text": [
      "New best\n"
     ]
    },
    {
     "name": "stdout",
     "output_type": "stream",
     "text": [
      "epoch: 3, [batch: 1 / 6720], examples_per_second: 5.5690, train_label_loss: 0.3317, \n"
     ]
    },
    {
     "name": "stdout",
     "output_type": "stream",
     "text": [
      "epoch: 3, [batch: 672 / 6720], examples_per_second: 3223.4321, train_label_loss: 0.1092, \n"
     ]
    },
    {
     "name": "stdout",
     "output_type": "stream",
     "text": [
      "epoch: 3, [batch: 1344 / 6720], examples_per_second: 3234.0555, train_label_loss: 0.2452, \n"
     ]
    },
    {
     "name": "stdout",
     "output_type": "stream",
     "text": [
      "epoch: 3, [batch: 2016 / 6720], examples_per_second: 3224.8879, train_label_loss: 0.1684, \n"
     ]
    },
    {
     "name": "stdout",
     "output_type": "stream",
     "text": [
      "epoch: 3, [batch: 2688 / 6720], examples_per_second: 3237.6004, train_label_loss: 0.2507, \n"
     ]
    },
    {
     "name": "stdout",
     "output_type": "stream",
     "text": [
      "epoch: 3, [batch: 3360 / 6720], examples_per_second: 3242.6242, train_label_loss: 0.2050, \n"
     ]
    },
    {
     "name": "stdout",
     "output_type": "stream",
     "text": [
      "epoch: 3, [batch: 4032 / 6720], examples_per_second: 3240.0167, train_label_loss: 0.3561, \n"
     ]
    },
    {
     "name": "stdout",
     "output_type": "stream",
     "text": [
      "epoch: 3, [batch: 4704 / 6720], examples_per_second: 3229.6198, train_label_loss: 0.1228, \n"
     ]
    },
    {
     "name": "stdout",
     "output_type": "stream",
     "text": [
      "epoch: 3, [batch: 5376 / 6720], examples_per_second: 3246.4314, train_label_loss: 0.1304, \n"
     ]
    },
    {
     "name": "stdout",
     "output_type": "stream",
     "text": [
      "epoch: 3, [batch: 6048 / 6720], examples_per_second: 3224.1168, train_label_loss: 0.1335, \n"
     ]
    },
    {
     "name": "stdout",
     "output_type": "stream",
     "text": [
      "=============================================================\n",
      "epoch: 3, source_val_acc_label: 0.9188, target_val_acc_label: 0.7484, source_val_label_loss: 0.2491, target_val_label_loss: 13230.0518, \n",
      "=============================================================\n"
     ]
    },
    {
     "name": "stdout",
     "output_type": "stream",
     "text": [
      "New best\n"
     ]
    },
    {
     "name": "stdout",
     "output_type": "stream",
     "text": [
      "epoch: 4, [batch: 1 / 6720], examples_per_second: 5.5799, train_label_loss: 0.0345, \n"
     ]
    },
    {
     "name": "stdout",
     "output_type": "stream",
     "text": [
      "epoch: 4, [batch: 672 / 6720], examples_per_second: 3214.7597, train_label_loss: 0.2037, \n"
     ]
    },
    {
     "name": "stdout",
     "output_type": "stream",
     "text": [
      "epoch: 4, [batch: 1344 / 6720], examples_per_second: 3247.6013, train_label_loss: 0.2171, \n"
     ]
    },
    {
     "name": "stdout",
     "output_type": "stream",
     "text": [
      "epoch: 4, [batch: 2016 / 6720], examples_per_second: 3239.7797, train_label_loss: 0.2980, \n"
     ]
    },
    {
     "name": "stdout",
     "output_type": "stream",
     "text": [
      "epoch: 4, [batch: 2688 / 6720], examples_per_second: 3207.0344, train_label_loss: 0.0982, \n"
     ]
    },
    {
     "name": "stdout",
     "output_type": "stream",
     "text": [
      "epoch: 4, [batch: 3360 / 6720], examples_per_second: 3223.3310, train_label_loss: 0.3914, \n"
     ]
    },
    {
     "name": "stdout",
     "output_type": "stream",
     "text": [
      "epoch: 4, [batch: 4032 / 6720], examples_per_second: 3234.0996, train_label_loss: 0.3154, \n"
     ]
    },
    {
     "name": "stdout",
     "output_type": "stream",
     "text": [
      "epoch: 4, [batch: 4704 / 6720], examples_per_second: 3218.7753, train_label_loss: 0.2028, \n"
     ]
    },
    {
     "name": "stdout",
     "output_type": "stream",
     "text": [
      "epoch: 4, [batch: 5376 / 6720], examples_per_second: 3234.5451, train_label_loss: 0.0817, \n"
     ]
    },
    {
     "name": "stdout",
     "output_type": "stream",
     "text": [
      "epoch: 4, [batch: 6048 / 6720], examples_per_second: 3246.2388, train_label_loss: 0.0732, \n"
     ]
    },
    {
     "name": "stdout",
     "output_type": "stream",
     "text": [
      "=============================================================\n",
      "epoch: 4, source_val_acc_label: 0.9334, target_val_acc_label: 0.7588, source_val_label_loss: 0.2085, target_val_label_loss: 9963.6172, \n",
      "=============================================================\n"
     ]
    },
    {
     "name": "stdout",
     "output_type": "stream",
     "text": [
      "New best\n"
     ]
    },
    {
     "name": "stdout",
     "output_type": "stream",
     "text": [
      "epoch: 5, [batch: 1 / 6720], examples_per_second: 5.6000, train_label_loss: 0.4003, \n"
     ]
    },
    {
     "name": "stdout",
     "output_type": "stream",
     "text": [
      "epoch: 5, [batch: 672 / 6720], examples_per_second: 3239.4661, train_label_loss: 0.0525, \n"
     ]
    },
    {
     "name": "stdout",
     "output_type": "stream",
     "text": [
      "epoch: 5, [batch: 1344 / 6720], examples_per_second: 3236.2365, train_label_loss: 0.1502, \n"
     ]
    },
    {
     "name": "stdout",
     "output_type": "stream",
     "text": [
      "epoch: 5, [batch: 2016 / 6720], examples_per_second: 3241.8609, train_label_loss: 0.2303, \n"
     ]
    },
    {
     "name": "stdout",
     "output_type": "stream",
     "text": [
      "epoch: 5, [batch: 2688 / 6720], examples_per_second: 3230.7859, train_label_loss: 0.1111, \n"
     ]
    },
    {
     "name": "stdout",
     "output_type": "stream",
     "text": [
      "epoch: 5, [batch: 3360 / 6720], examples_per_second: 3244.9892, train_label_loss: 0.6500, \n"
     ]
    },
    {
     "name": "stdout",
     "output_type": "stream",
     "text": [
      "epoch: 5, [batch: 4032 / 6720], examples_per_second: 3238.7113, train_label_loss: 0.0614, \n"
     ]
    },
    {
     "name": "stdout",
     "output_type": "stream",
     "text": [
      "epoch: 5, [batch: 4704 / 6720], examples_per_second: 3235.0813, train_label_loss: 0.0514, \n"
     ]
    },
    {
     "name": "stdout",
     "output_type": "stream",
     "text": [
      "epoch: 5, [batch: 5376 / 6720], examples_per_second: 3217.1941, train_label_loss: 0.1633, \n"
     ]
    },
    {
     "name": "stdout",
     "output_type": "stream",
     "text": [
      "epoch: 5, [batch: 6048 / 6720], examples_per_second: 3221.7373, train_label_loss: 0.1617, \n"
     ]
    },
    {
     "name": "stdout",
     "output_type": "stream",
     "text": [
      "=============================================================\n",
      "epoch: 5, source_val_acc_label: 0.9382, target_val_acc_label: 0.7692, source_val_label_loss: 0.1989, target_val_label_loss: 9086.9102, \n",
      "=============================================================\n"
     ]
    },
    {
     "name": "stdout",
     "output_type": "stream",
     "text": [
      "New best\n"
     ]
    },
    {
     "name": "stdout",
     "output_type": "stream",
     "text": [
      "epoch: 6, [batch: 1 / 6720], examples_per_second: 5.5694, train_label_loss: 0.3269, \n"
     ]
    },
    {
     "name": "stdout",
     "output_type": "stream",
     "text": [
      "epoch: 6, [batch: 672 / 6720], examples_per_second: 3236.0444, train_label_loss: 0.3204, \n"
     ]
    },
    {
     "name": "stdout",
     "output_type": "stream",
     "text": [
      "epoch: 6, [batch: 1344 / 6720], examples_per_second: 3221.1177, train_label_loss: 0.1471, \n"
     ]
    },
    {
     "name": "stdout",
     "output_type": "stream",
     "text": [
      "epoch: 6, [batch: 2016 / 6720], examples_per_second: 3219.0934, train_label_loss: 0.1008, \n"
     ]
    },
    {
     "name": "stdout",
     "output_type": "stream",
     "text": [
      "epoch: 6, [batch: 2688 / 6720], examples_per_second: 3217.9862, train_label_loss: 0.1661, \n"
     ]
    },
    {
     "name": "stdout",
     "output_type": "stream",
     "text": [
      "epoch: 6, [batch: 3360 / 6720], examples_per_second: 3233.2408, train_label_loss: 0.6186, \n"
     ]
    },
    {
     "name": "stdout",
     "output_type": "stream",
     "text": [
      "epoch: 6, [batch: 4032 / 6720], examples_per_second: 3224.2776, train_label_loss: 0.1657, \n"
     ]
    },
    {
     "name": "stdout",
     "output_type": "stream",
     "text": [
      "epoch: 6, [batch: 4704 / 6720], examples_per_second: 3213.8592, train_label_loss: 0.2385, \n"
     ]
    },
    {
     "name": "stdout",
     "output_type": "stream",
     "text": [
      "epoch: 6, [batch: 5376 / 6720], examples_per_second: 3218.3079, train_label_loss: 0.0484, \n"
     ]
    },
    {
     "name": "stdout",
     "output_type": "stream",
     "text": [
      "epoch: 6, [batch: 6048 / 6720], examples_per_second: 3220.3550, train_label_loss: 0.1143, \n"
     ]
    },
    {
     "name": "stdout",
     "output_type": "stream",
     "text": [
      "=============================================================\n",
      "epoch: 6, source_val_acc_label: 0.9378, target_val_acc_label: 0.5246, source_val_label_loss: 0.2037, target_val_label_loss: 16718.0742, \n",
      "=============================================================\n"
     ]
    },
    {
     "name": "stdout",
     "output_type": "stream",
     "text": [
      "epoch: 7, [batch: 1 / 6720], examples_per_second: 5.5813, train_label_loss: 0.1633, \n"
     ]
    },
    {
     "name": "stdout",
     "output_type": "stream",
     "text": [
      "epoch: 7, [batch: 672 / 6720], examples_per_second: 3235.6741, train_label_loss: 0.2865, \n"
     ]
    },
    {
     "name": "stdout",
     "output_type": "stream",
     "text": [
      "epoch: 7, [batch: 1344 / 6720], examples_per_second: 3231.4302, train_label_loss: 0.1658, \n"
     ]
    },
    {
     "name": "stdout",
     "output_type": "stream",
     "text": [
      "epoch: 7, [batch: 2016 / 6720], examples_per_second: 3239.1601, train_label_loss: 0.1692, \n"
     ]
    },
    {
     "name": "stdout",
     "output_type": "stream",
     "text": [
      "epoch: 7, [batch: 2688 / 6720], examples_per_second: 3233.0144, train_label_loss: 0.0174, \n"
     ]
    },
    {
     "name": "stdout",
     "output_type": "stream",
     "text": [
      "epoch: 7, [batch: 3360 / 6720], examples_per_second: 3250.6637, train_label_loss: 0.3605, \n"
     ]
    },
    {
     "name": "stdout",
     "output_type": "stream",
     "text": [
      "epoch: 7, [batch: 4032 / 6720], examples_per_second: 3225.1042, train_label_loss: 0.0535, \n"
     ]
    },
    {
     "name": "stdout",
     "output_type": "stream",
     "text": [
      "epoch: 7, [batch: 4704 / 6720], examples_per_second: 3230.9655, train_label_loss: 0.3125, \n"
     ]
    },
    {
     "name": "stdout",
     "output_type": "stream",
     "text": [
      "epoch: 7, [batch: 5376 / 6720], examples_per_second: 3229.0317, train_label_loss: 0.0640, \n"
     ]
    },
    {
     "name": "stdout",
     "output_type": "stream",
     "text": [
      "epoch: 7, [batch: 6048 / 6720], examples_per_second: 3237.5700, train_label_loss: 0.0127, \n"
     ]
    },
    {
     "name": "stdout",
     "output_type": "stream",
     "text": [
      "=============================================================\n",
      "epoch: 7, source_val_acc_label: 0.9227, target_val_acc_label: 0.5263, source_val_label_loss: 0.2287, target_val_label_loss: 16753.3691, \n",
      "=============================================================\n"
     ]
    },
    {
     "name": "stdout",
     "output_type": "stream",
     "text": [
      "epoch: 8, [batch: 1 / 6720], examples_per_second: 5.5701, train_label_loss: 0.2548, \n"
     ]
    },
    {
     "name": "stdout",
     "output_type": "stream",
     "text": [
      "epoch: 8, [batch: 672 / 6720], examples_per_second: 3232.4900, train_label_loss: 0.3201, \n"
     ]
    },
    {
     "name": "stdout",
     "output_type": "stream",
     "text": [
      "epoch: 8, [batch: 1344 / 6720], examples_per_second: 3241.2790, train_label_loss: 0.1410, \n"
     ]
    },
    {
     "name": "stdout",
     "output_type": "stream",
     "text": [
      "epoch: 8, [batch: 2016 / 6720], examples_per_second: 3240.0032, train_label_loss: 1.0368, \n"
     ]
    },
    {
     "name": "stdout",
     "output_type": "stream",
     "text": [
      "epoch: 8, [batch: 2688 / 6720], examples_per_second: 3220.3284, train_label_loss: 0.0821, \n"
     ]
    },
    {
     "name": "stdout",
     "output_type": "stream",
     "text": [
      "epoch: 8, [batch: 3360 / 6720], examples_per_second: 3239.9074, train_label_loss: 0.1133, \n"
     ]
    },
    {
     "name": "stdout",
     "output_type": "stream",
     "text": [
      "epoch: 8, [batch: 4032 / 6720], examples_per_second: 3245.3881, train_label_loss: 0.4618, \n"
     ]
    },
    {
     "name": "stdout",
     "output_type": "stream",
     "text": [
      "epoch: 8, [batch: 4704 / 6720], examples_per_second: 3228.4084, train_label_loss: 0.0532, \n"
     ]
    },
    {
     "name": "stdout",
     "output_type": "stream",
     "text": [
      "epoch: 8, [batch: 5376 / 6720], examples_per_second: 3239.2277, train_label_loss: 0.0331, \n"
     ]
    },
    {
     "name": "stdout",
     "output_type": "stream",
     "text": [
      "epoch: 8, [batch: 6048 / 6720], examples_per_second: 3240.7634, train_label_loss: 0.0555, \n"
     ]
    },
    {
     "name": "stdout",
     "output_type": "stream",
     "text": [
      "=============================================================\n",
      "epoch: 8, source_val_acc_label: 0.9362, target_val_acc_label: 0.5131, source_val_label_loss: 0.1891, target_val_label_loss: 18098.6992, \n",
      "=============================================================\n"
     ]
    },
    {
     "name": "stdout",
     "output_type": "stream",
     "text": [
      "epoch: 9, [batch: 1 / 6720], examples_per_second: 5.5755, train_label_loss: 0.1713, \n"
     ]
    },
    {
     "name": "stdout",
     "output_type": "stream",
     "text": [
      "epoch: 9, [batch: 672 / 6720], examples_per_second: 3228.4928, train_label_loss: 0.0261, \n"
     ]
    },
    {
     "name": "stdout",
     "output_type": "stream",
     "text": [
      "epoch: 9, [batch: 1344 / 6720], examples_per_second: 3233.9470, train_label_loss: 0.1010, \n"
     ]
    },
    {
     "name": "stdout",
     "output_type": "stream",
     "text": [
      "epoch: 9, [batch: 2016 / 6720], examples_per_second: 3258.6401, train_label_loss: 0.1764, \n"
     ]
    },
    {
     "name": "stdout",
     "output_type": "stream",
     "text": [
      "epoch: 9, [batch: 2688 / 6720], examples_per_second: 3228.5209, train_label_loss: 0.0303, \n"
     ]
    },
    {
     "name": "stdout",
     "output_type": "stream",
     "text": [
      "epoch: 9, [batch: 3360 / 6720], examples_per_second: 3237.8182, train_label_loss: 0.1776, \n"
     ]
    },
    {
     "name": "stdout",
     "output_type": "stream",
     "text": [
      "epoch: 9, [batch: 4032 / 6720], examples_per_second: 3238.1898, train_label_loss: 0.3504, \n"
     ]
    },
    {
     "name": "stdout",
     "output_type": "stream",
     "text": [
      "epoch: 9, [batch: 4704 / 6720], examples_per_second: 3188.6511, train_label_loss: 0.0252, \n"
     ]
    },
    {
     "name": "stdout",
     "output_type": "stream",
     "text": [
      "epoch: 9, [batch: 5376 / 6720], examples_per_second: 3229.9997, train_label_loss: 0.0492, \n"
     ]
    },
    {
     "name": "stdout",
     "output_type": "stream",
     "text": [
      "epoch: 9, [batch: 6048 / 6720], examples_per_second: 3227.9565, train_label_loss: 0.0608, \n"
     ]
    },
    {
     "name": "stdout",
     "output_type": "stream",
     "text": [
      "=============================================================\n",
      "epoch: 9, source_val_acc_label: 0.9444, target_val_acc_label: 0.5248, source_val_label_loss: 0.1677, target_val_label_loss: 19311.6758, \n",
      "=============================================================\n"
     ]
    },
    {
     "name": "stdout",
     "output_type": "stream",
     "text": [
      "Patience (3) exhausted\n"
     ]
    }
   ],
   "source": [
    "###################################\n",
    "# train\n",
    "###################################\n",
    "jig = PTN_Train_Eval_Test_Jig(model, p.BEST_MODEL_PATH, p.device)\n",
    "\n",
    "jig.train(\n",
    "    train_iterable=datasets.source.processed.train,\n",
    "    source_val_iterable=datasets.source.processed.val,\n",
    "    target_val_iterable=datasets.target.processed.val,\n",
    "    num_epochs=p.n_epoch,\n",
    "    num_logs_per_epoch=p.NUM_LOGS_PER_EPOCH,\n",
    "    patience=p.patience,\n",
    "    optimizer=optimizer,\n",
    "    criteria_for_best=p.criteria_for_best,\n",
    ")"
   ]
  },
  {
   "cell_type": "code",
   "execution_count": 23,
   "id": "31e8fabf",
   "metadata": {
    "execution": {
     "iopub.execute_input": "2022-03-17T04:09:10.006507Z",
     "iopub.status.busy": "2022-03-17T04:09:10.006257Z",
     "iopub.status.idle": "2022-03-17T04:09:10.023996Z",
     "shell.execute_reply": "2022-03-17T04:09:10.024403Z"
    },
    "papermill": {
     "duration": 0.053581,
     "end_time": "2022-03-17T04:09:10.024532",
     "exception": false,
     "start_time": "2022-03-17T04:09:09.970951",
     "status": "completed"
    },
    "tags": []
   },
   "outputs": [],
   "source": [
    "total_experiment_time_secs = time.time() - start_time_secs"
   ]
  },
  {
   "cell_type": "code",
   "execution_count": 24,
   "id": "87b9595b",
   "metadata": {
    "execution": {
     "iopub.execute_input": "2022-03-17T04:09:10.100489Z",
     "iopub.status.busy": "2022-03-17T04:09:10.095936Z",
     "iopub.status.idle": "2022-03-17T04:10:14.292556Z",
     "shell.execute_reply": "2022-03-17T04:10:14.292963Z"
    },
    "papermill": {
     "duration": 64.230687,
     "end_time": "2022-03-17T04:10:14.293105",
     "exception": false,
     "start_time": "2022-03-17T04:09:10.062418",
     "status": "completed"
    },
    "tags": []
   },
   "outputs": [],
   "source": [
    "###################################\n",
    "# Evaluate the model\n",
    "###################################\n",
    "source_test_label_accuracy, source_test_label_loss = jig.test(datasets.source.processed.test)\n",
    "target_test_label_accuracy, target_test_label_loss = jig.test(datasets.target.processed.test)\n",
    "\n",
    "source_val_label_accuracy, source_val_label_loss = jig.test(datasets.source.processed.val)\n",
    "target_val_label_accuracy, target_val_label_loss = jig.test(datasets.target.processed.val)\n",
    "\n",
    "history = jig.get_history()\n",
    "\n",
    "total_epochs_trained = len(history[\"epoch_indices\"])\n",
    "\n",
    "val_dl = Iterable_Aggregator((datasets.source.original.val,datasets.target.original.val))\n",
    "\n",
    "confusion = ptn_confusion_by_domain_over_dataloader(model, p.device, val_dl)\n",
    "per_domain_accuracy = per_domain_accuracy_from_confusion(confusion)\n",
    "\n",
    "# Add a key to per_domain_accuracy for if it was a source domain\n",
    "for domain, accuracy in per_domain_accuracy.items():\n",
    "    per_domain_accuracy[domain] = {\n",
    "        \"accuracy\": accuracy,\n",
    "        \"source?\": domain in p.domains_source\n",
    "    }\n",
    "\n",
    "# Do an independent accuracy assesment JUST TO BE SURE!\n",
    "# _source_test_label_accuracy = independent_accuracy_assesment(model, datasets.source.processed.test, p.device)\n",
    "# _target_test_label_accuracy = independent_accuracy_assesment(model, datasets.target.processed.test, p.device)\n",
    "# _source_val_label_accuracy = independent_accuracy_assesment(model, datasets.source.processed.val, p.device)\n",
    "# _target_val_label_accuracy = independent_accuracy_assesment(model, datasets.target.processed.val, p.device)\n",
    "\n",
    "# assert(_source_test_label_accuracy == source_test_label_accuracy)\n",
    "# assert(_target_test_label_accuracy == target_test_label_accuracy)\n",
    "# assert(_source_val_label_accuracy == source_val_label_accuracy)\n",
    "# assert(_target_val_label_accuracy == target_val_label_accuracy)\n",
    "\n",
    "experiment = {\n",
    "    \"experiment_name\": p.experiment_name,\n",
    "    \"parameters\": dict(p),\n",
    "    \"results\": {\n",
    "        \"source_test_label_accuracy\": source_test_label_accuracy,\n",
    "        \"source_test_label_loss\": source_test_label_loss,\n",
    "        \"target_test_label_accuracy\": target_test_label_accuracy,\n",
    "        \"target_test_label_loss\": target_test_label_loss,\n",
    "        \"source_val_label_accuracy\": source_val_label_accuracy,\n",
    "        \"source_val_label_loss\": source_val_label_loss,\n",
    "        \"target_val_label_accuracy\": target_val_label_accuracy,\n",
    "        \"target_val_label_loss\": target_val_label_loss,\n",
    "        \"total_epochs_trained\": total_epochs_trained,\n",
    "        \"total_experiment_time_secs\": total_experiment_time_secs,\n",
    "        \"confusion\": confusion,\n",
    "        \"per_domain_accuracy\": per_domain_accuracy,\n",
    "    },\n",
    "    \"history\": history,\n",
    "    \"dataset_metrics\": get_dataset_metrics(datasets, \"ptn\"),\n",
    "}"
   ]
  },
  {
   "cell_type": "code",
   "execution_count": 25,
   "id": "54a21829",
   "metadata": {
    "execution": {
     "iopub.execute_input": "2022-03-17T04:10:14.365798Z",
     "iopub.status.busy": "2022-03-17T04:10:14.365541Z",
     "iopub.status.idle": "2022-03-17T04:10:14.493855Z",
     "shell.execute_reply": "2022-03-17T04:10:14.494227Z"
    },
    "papermill": {
     "duration": 0.163672,
     "end_time": "2022-03-17T04:10:14.494334",
     "exception": false,
     "start_time": "2022-03-17T04:10:14.330662",
     "status": "completed"
    },
    "tags": []
   },
   "outputs": [
    {
     "data": {
      "image/png": "[encoded data removed]",
      "text/plain": [
       "<Figure size 1080x504 with 1 Axes>"
      ]
     },
     "metadata": {
      "needs_background": "light"
     },
     "output_type": "display_data"
    }
   ],
   "source": [
    "ax = get_loss_curve(experiment)\n",
    "plt.show()"
   ]
  },
  {
   "cell_type": "code",
   "execution_count": 26,
   "id": "fd8a0f60",
   "metadata": {
    "execution": {
     "iopub.execute_input": "2022-03-17T04:10:14.565681Z",
     "iopub.status.busy": "2022-03-17T04:10:14.565433Z",
     "iopub.status.idle": "2022-03-17T04:10:14.707018Z",
     "shell.execute_reply": "2022-03-17T04:10:14.707246Z"
    },
    "papermill": {
     "duration": 0.177452,
     "end_time": "2022-03-17T04:10:14.707311",
     "exception": false,
     "start_time": "2022-03-17T04:10:14.529859",
     "status": "completed"
    },
    "tags": []
   },
   "outputs": [
    {
     "data": {
      "text/plain": [
       "<AxesSubplot:title={'center':'Results'}>"
      ]
     },
     "execution_count": 26,
     "metadata": {},
     "output_type": "execute_result"
    },
    {
     "data": {
      "image/png": "[encoded data removed]",
      "text/plain": [
       "<Figure size 1080x504 with 1 Axes>"
      ]
     },
     "metadata": {
      "needs_background": "light"
     },
     "output_type": "display_data"
    }
   ],
   "source": [
    "get_results_table(experiment)"
   ]
  },
  {
   "cell_type": "code",
   "execution_count": 27,
   "id": "cf8dc689",
   "metadata": {
    "execution": {
     "iopub.execute_input": "2022-03-17T04:10:14.781298Z",
     "iopub.status.busy": "2022-03-17T04:10:14.781040Z",
     "iopub.status.idle": "2022-03-17T04:10:14.938482Z",
     "shell.execute_reply": "2022-03-17T04:10:14.938858Z"
    },
    "papermill": {
     "duration": 0.195217,
     "end_time": "2022-03-17T04:10:14.938972",
     "exception": false,
     "start_time": "2022-03-17T04:10:14.743755",
     "status": "completed"
    },
    "tags": []
   },
   "outputs": [
    {
     "data": {
      "text/plain": [
       "<AxesSubplot:title={'center':'Per Domain Validation Accuracy'}, xlabel='domain'>"
      ]
     },
     "execution_count": 27,
     "metadata": {},
     "output_type": "execute_result"
    },
    {
     "data": {
      "image/png": "[encoded data removed]",
      "text/plain": [
       "<Figure size 1080x504 with 1 Axes>"
      ]
     },
     "metadata": {
      "needs_background": "light"
     },
     "output_type": "display_data"
    }
   ],
   "source": [
    "get_domain_accuracies(experiment)"
   ]
  },
  {
   "cell_type": "code",
   "execution_count": 28,
   "id": "a74ae082",
   "metadata": {
    "execution": {
     "iopub.execute_input": "2022-03-17T04:10:15.018174Z",
     "iopub.status.busy": "2022-03-17T04:10:15.017916Z",
     "iopub.status.idle": "2022-03-17T04:10:15.034558Z",
     "shell.execute_reply": "2022-03-17T04:10:15.034927Z"
    },
    "papermill": {
     "duration": 0.055832,
     "end_time": "2022-03-17T04:10:15.035032",
     "exception": false,
     "start_time": "2022-03-17T04:10:14.979200",
     "status": "completed"
    },
    "tags": []
   },
   "outputs": [
    {
     "name": "stdout",
     "output_type": "stream",
     "text": [
      "Source Test Label Accuracy: 0.9359375 Target Test Label Accuracy: 0.7677654109589042\n",
      "Source Val Label Accuracy: 0.9381510416666666 Target Val Label Accuracy: 0.7691566780821918\n"
     ]
    }
   ],
   "source": [
    "print(\"Source Test Label Accuracy:\", experiment[\"results\"][\"source_test_label_accuracy\"], \"Target Test Label Accuracy:\", experiment[\"results\"][\"target_test_label_accuracy\"])\n",
    "print(\"Source Val Label Accuracy:\", experiment[\"results\"][\"source_val_label_accuracy\"], \"Target Val Label Accuracy:\", experiment[\"results\"][\"target_val_label_accuracy\"])"
   ]
  },
  {
   "cell_type": "code",
   "execution_count": 29,
   "id": "dacca602",
   "metadata": {
    "execution": {
     "iopub.execute_input": "2022-03-17T04:10:15.113612Z",
     "iopub.status.busy": "2022-03-17T04:10:15.113360Z",
     "iopub.status.idle": "2022-03-17T04:10:15.126311Z",
     "shell.execute_reply": "2022-03-17T04:10:15.126680Z"
    },
    "papermill": {
     "duration": 0.051475,
     "end_time": "2022-03-17T04:10:15.126783",
     "exception": false,
     "start_time": "2022-03-17T04:10:15.075308",
     "status": "completed"
    },
    "tags": [
     "experiment_json"
    ]
   },
   "outputs": [
    {
     "data": {
      "text/plain": [
       "'{\"experiment_name\": \"oracle.run2.framed -> cores+wisig\", \"parameters\": {\"experiment_name\": \"oracle.run2.framed -> cores+wisig\", \"device\": \"cuda\", \"lr\": 0.001, \"seed\": 1337, \"dataset_seed\": 1337, \"n_shot\": 3, \"n_query\": 2, \"train_k_factor\": 3, \"val_k_factor\": 2, \"test_k_factor\": 2, \"torch_default_dtype\": \"torch.float32\", \"n_epoch\": 50, \"patience\": 3, \"criteria_for_best\": \"target_loss\", \"x_net\": [{\"class\": \"nnReshape\", \"kargs\": {\"shape\": [-1, 1, 2, 256]}}, {\"class\": \"Conv2d\", \"kargs\": {\"in_channels\": 1, \"out_channels\": 256, \"kernel_size\": [1, 7], \"bias\": false, \"padding\": [0, 3]}}, {\"class\": \"ReLU\", \"kargs\": {\"inplace\": true}}, {\"class\": \"BatchNorm2d\", \"kargs\": {\"num_features\": 256}}, {\"class\": \"Conv2d\", \"kargs\": {\"in_channels\": 256, \"out_channels\": 80, \"kernel_size\": [2, 7], \"bias\": true, \"padding\": [0, 3]}}, {\"class\": \"ReLU\", \"kargs\": {\"inplace\": true}}, {\"class\": \"BatchNorm2d\", \"kargs\": {\"num_features\": 80}}, {\"class\": \"Flatten\", \"kargs\": {}}, {\"class\": \"Linear\", \"kargs\": {\"in_features\": 20480, \"out_features\": 256}}, {\"class\": \"ReLU\", \"kargs\": {\"inplace\": true}}, {\"class\": \"BatchNorm1d\", \"kargs\": {\"num_features\": 256}}, {\"class\": \"Linear\", \"kargs\": {\"in_features\": 256, \"out_features\": 256}}], \"NUM_LOGS_PER_EPOCH\": 10, \"BEST_MODEL_PATH\": \"./best_model.pth\", \"n_way\": 16, \"datasets\": [{\"labels\": [\"1-10.\", \"1-11.\", \"1-15.\", \"1-16.\", \"1-17.\", \"1-18.\", \"1-19.\", \"10-4.\", \"10-7.\", \"11-1.\", \"11-14.\", \"11-17.\", \"11-20.\", \"11-7.\", \"13-20.\", \"13-8.\", \"14-10.\", \"14-11.\", \"14-14.\", \"14-7.\", \"15-1.\", \"15-20.\", \"16-1.\", \"16-16.\", \"17-10.\", \"17-11.\", \"17-2.\", \"19-1.\", \"19-16.\", \"19-19.\", \"19-20.\", \"19-3.\", \"2-10.\", \"2-11.\", \"2-17.\", \"2-18.\", \"2-20.\", \"2-3.\", \"2-4.\", \"2-5.\", \"2-6.\", \"2-7.\", \"2-8.\", \"3-13.\", \"3-18.\", \"3-3.\", \"4-1.\", \"4-10.\", \"4-11.\", \"4-19.\", \"5-5.\", \"6-15.\", \"7-10.\", \"7-14.\", \"8-18.\", \"8-20.\", \"8-3.\", \"8-8.\"], \"domains\": [1, 2, 3, 4, 5], \"num_examples_per_domain_per_label\": 100, \"pickle_path\": \"/mnt/wd500GB/CSC500/csc500-main/datasets/cores.stratified_ds.2022A.pkl\", \"source_or_target_dataset\": \"target\", \"x_transforms\": [], \"episode_transforms\": [], \"domain_prefix\": \"C_A_\"}, {\"labels\": [\"1-10\", \"1-12\", \"1-14\", \"1-16\", \"1-18\", \"1-19\", \"1-8\", \"10-11\", \"10-17\", \"10-4\", \"10-7\", \"11-1\", \"11-10\", \"11-19\", \"11-20\", \"11-4\", \"11-7\", \"12-19\", \"12-20\", \"12-7\", \"13-14\", \"13-18\", \"13-19\", \"13-20\", \"13-3\", \"13-7\", \"14-10\", \"14-11\", \"14-12\", \"14-13\", \"14-14\", \"14-19\", \"14-20\", \"14-7\", \"14-8\", \"14-9\", \"15-1\", \"15-19\", \"15-6\", \"16-1\", \"16-16\", \"16-19\", \"16-20\", \"17-10\", \"17-11\", \"18-1\", \"18-10\", \"18-11\", \"18-12\", \"18-13\", \"18-14\", \"18-15\", \"18-16\", \"18-17\", \"18-19\", \"18-2\", \"18-20\", \"18-4\", \"18-5\", \"18-7\", \"18-8\", \"18-9\", \"19-1\", \"19-10\", \"19-11\", \"19-12\", \"19-13\", \"19-14\", \"19-15\", \"19-19\", \"19-2\", \"19-20\", \"19-3\", \"19-4\", \"19-6\", \"19-7\", \"19-8\", \"19-9\", \"2-1\", \"2-13\", \"2-15\", \"2-3\", \"2-4\", \"2-5\", \"2-6\", \"2-7\", \"2-8\", \"20-1\", \"20-12\", \"20-14\", \"20-15\", \"20-16\", \"20-18\", \"20-19\", \"20-20\", \"20-3\", \"20-4\", \"20-5\", \"20-7\", \"20-8\", \"3-1\", \"3-13\", \"3-18\", \"3-2\", \"3-8\", \"4-1\", \"4-10\", \"4-11\", \"5-1\", \"5-5\", \"6-1\", \"6-15\", \"6-6\", \"7-10\", \"7-11\", \"7-12\", \"7-13\", \"7-14\", \"7-7\", \"7-8\", \"7-9\", \"8-1\", \"8-13\", \"8-14\", \"8-18\", \"8-20\", \"8-3\", \"8-8\", \"9-1\", \"9-7\"], \"domains\": [1, 2, 3, 4], \"num_examples_per_domain_per_label\": 100, \"pickle_path\": \"/mnt/wd500GB/CSC500/csc500-main/datasets/wisig.node3-19.stratified_ds.2022A.pkl\", \"source_or_target_dataset\": \"target\", \"x_transforms\": [], \"episode_transforms\": [], \"domain_prefix\": \"W_A_\"}, {\"labels\": [\"3123D52\", \"3123D65\", \"3123D79\", \"3123D80\", \"3123D54\", \"3123D70\", \"3123D7B\", \"3123D89\", \"3123D58\", \"3123D76\", \"3123D7D\", \"3123EFE\", \"3123D64\", \"3123D78\", \"3123D7E\", \"3124E4A\"], \"domains\": [32, 38, 8, 44, 14, 50, 20, 26], \"num_examples_per_domain_per_label\": 2000, \"pickle_path\": \"/mnt/wd500GB/CSC500/csc500-main/datasets/oracle.Run2_framed_2000Examples_stratified_ds.2022A.pkl\", \"source_or_target_dataset\": \"source\", \"x_transforms\": [], \"episode_transforms\": [], \"domain_prefix\": \"ORACLE.run2_\"}], \"domains_source\": [\"ORACLE.run2_32\", \"ORACLE.run2_38\", \"ORACLE.run2_8\", \"ORACLE.run2_44\", \"ORACLE.run2_14\", \"ORACLE.run2_50\", \"ORACLE.run2_20\", \"ORACLE.run2_26\"], \"domains_target\": [\"C_A_1\", \"C_A_2\", \"C_A_3\", \"C_A_4\", \"C_A_5\", \"W_A_1\", \"W_A_2\", \"W_A_3\", \"W_A_4\"]}, \"results\": {\"source_test_label_accuracy\": 0.9359375, \"source_test_label_loss\": 0.20830777287483215, \"target_test_label_accuracy\": 0.7677654109589042, \"target_test_label_loss\": 9851.3115234375, \"source_val_label_accuracy\": 0.9381510416666666, \"source_val_label_loss\": 0.19891557097434998, \"target_val_label_accuracy\": 0.7691566780821918, \"target_val_label_loss\": 9086.91015625, \"total_epochs_trained\": 9, \"total_experiment_time_secs\": 1614.398077249527, \"confusion\": {\"ORACLE.run2_14\": {\"15\": {\"15\": 240}, \"3\": {\"3\": 239, \"2\": 1}, \"6\": {\"6\": 228, \"13\": 12}, \"1\": {\"1\": 240}, \"8\": {\"8\": 240}, \"10\": {\"10\": 240}, \"9\": {\"9\": 240}, \"13\": {\"13\": 211, \"6\": 29}, \"12\": {\"12\": 186, \"10\": 2, \"9\": 27, \"11\": 7, \"0\": 16, \"3\": 2}, \"5\": {\"5\": 229, \"2\": 11}, \"0\": {\"0\": 240}, \"2\": {\"14\": 46, \"2\": 149, \"5\": 32, \"3\": 12, \"4\": 1}, \"11\": {\"11\": 240}, \"14\": {\"5\": 1, \"14\": 223, \"2\": 15, \"3\": 1}, \"7\": {\"7\": 240}, \"4\": {\"4\": 240}}, \"ORACLE.run2_20\": {\"3\": {\"3\": 184, \"9\": 22, \"2\": 22, \"5\": 6, \"7\": 6}, \"15\": {\"15\": 229, \"13\": 3, \"2\": 4, \"9\": 2, \"5\": 1, \"3\": 1}, \"8\": {\"8\": 227, \"14\": 12, \"0\": 1}, \"4\": {\"3\": 2, \"4\": 235, \"7\": 1, \"5\": 1, \"2\": 1}, \"14\": {\"14\": 228, \"8\": 12}, \"0\": {\"0\": 240}, \"7\": {\"7\": 235, \"2\": 1, \"5\": 1, \"3\": 3}, \"6\": {\"6\": 240}, \"10\": {\"10\": 240}, \"5\": {\"5\": 196, \"2\": 19, \"15\": 11, \"3\": 4, \"1\": 4, \"0\": 2, \"7\": 3, \"8\": 1}, \"2\": {\"2\": 158, \"5\": 19, \"9\": 33, \"3\": 23, \"15\": 5, \"7\": 1, \"1\": 1}, \"12\": {\"12\": 240}, \"9\": {\"2\": 38, \"9\": 186, \"3\": 14, \"15\": 1, \"1\": 1}, \"1\": {\"1\": 237, \"2\": 2, \"5\": 1}, \"11\": {\"11\": 240}, \"13\": {\"13\": 236, \"12\": 3, \"15\": 1}}, \"ORACLE.run2_38\": {\"5\": {\"8\": 79, \"5\": 160, \"7\": 1}, \"8\": {\"8\": 229, \"5\": 11}, \"11\": {\"11\": 240}, \"1\": {\"1\": 230, \"15\": 10}, \"10\": {\"10\": 236, \"3\": 2, \"13\": 2}, \"15\": {\"1\": 45, \"15\": 185, \"6\": 7, \"5\": 3}, \"3\": {\"3\": 167, \"13\": 59, \"10\": 13, \"0\": 1}, \"7\": {\"7\": 238, \"14\": 1, \"0\": 1}, \"4\": {\"4\": 239, \"14\": 1}, \"14\": {\"14\": 165, \"2\": 52, \"7\": 18, \"12\": 3, \"8\": 1, \"4\": 1}, \"9\": {\"9\": 240}, \"12\": {\"12\": 240}, \"6\": {\"6\": 240}, \"2\": {\"2\": 235, \"14\": 5}, \"0\": {\"0\": 238, \"7\": 2}, \"13\": {\"13\": 206, \"3\": 28, \"10\": 6}}, \"ORACLE.run2_8\": {\"9\": {\"9\": 240}, \"10\": {\"10\": 232, \"13\": 4, \"5\": 4}, \"13\": {\"13\": 229, \"10\": 11}, \"0\": {\"0\": 240}, \"1\": {\"1\": 233, \"5\": 2, \"13\": 5}, \"15\": {\"15\": 237, \"12\": 3}, \"5\": {\"5\": 219, \"10\": 17, \"13\": 2, \"1\": 2}, \"3\": {\"3\": 240}, \"6\": {\"6\": 239, \"14\": 1}, \"11\": {\"11\": 196, \"8\": 44}, \"8\": {\"8\": 237, \"11\": 3}, \"4\": {\"4\": 216, \"6\": 6, \"7\": 18}, \"12\": {\"12\": 240}, \"14\": {\"14\": 234, \"6\": 6}, \"2\": {\"2\": 240}, \"7\": {\"7\": 235, \"4\": 5}}, \"ORACLE.run2_50\": {\"7\": {\"7\": 229, \"4\": 3, \"5\": 8}, \"3\": {\"3\": 238, \"7\": 2}, \"8\": {\"8\": 240}, \"2\": {\"2\": 239, \"0\": 1}, \"14\": {\"14\": 240}, \"4\": {\"4\": 200, \"5\": 35, \"7\": 5}, \"6\": {\"6\": 235, \"5\": 5}, \"15\": {\"15\": 239, \"6\": 1}, \"10\": {\"10\": 240}, \"11\": {\"11\": 240}, \"13\": {\"13\": 240}, \"9\": {\"9\": 240}, \"0\": {\"0\": 236, \"2\": 3, \"10\": 1}, \"1\": {\"1\": 240}, \"12\": {\"12\": 240}, \"5\": {\"5\": 168, \"4\": 47, \"7\": 18, \"6\": 7}}, \"ORACLE.run2_32\": {\"8\": {\"8\": 229, \"0\": 10, \"14\": 1}, \"14\": {\"14\": 218, \"0\": 13, \"2\": 6, \"8\": 1, \"5\": 2}, \"2\": {\"2\": 232, \"14\": 2, \"7\": 6}, \"0\": {\"0\": 220, \"8\": 12, \"14\": 2, \"7\": 5, \"4\": 1}, \"1\": {\"1\": 240}, \"10\": {\"10\": 240}, \"11\": {\"11\": 187, \"4\": 23, \"0\": 5, \"13\": 22, \"7\": 3}, \"5\": {\"5\": 230, \"7\": 2, \"15\": 1, \"14\": 5, \"8\": 1, \"2\": 1}, \"15\": {\"15\": 240}, \"3\": {\"3\": 238, \"13\": 2}, \"12\": {\"12\": 240}, \"7\": {\"7\": 234, \"2\": 5, \"8\": 1}, \"13\": {\"13\": 226, \"4\": 10, \"11\": 2, \"3\": 2}, \"6\": {\"6\": 240}, \"4\": {\"4\": 237, \"13\": 1, \"11\": 2}, \"9\": {\"9\": 240}}, \"ORACLE.run2_26\": {\"4\": {\"4\": 240}, \"12\": {\"12\": 240}, \"10\": {\"14\": 34, \"8\": 15, \"10\": 113, \"0\": 70, \"15\": 5, \"6\": 3}, \"0\": {\"0\": 180, \"10\": 32, \"15\": 2, \"14\": 24, \"8\": 2}, \"13\": {\"13\": 239, \"9\": 1}, \"9\": {\"9\": 229, \"7\": 1, \"13\": 6, \"8\": 2, \"2\": 2}, \"3\": {\"3\": 227, \"7\": 13}, \"2\": {\"2\": 221, \"8\": 14, \"9\": 2, \"7\": 3}, \"5\": {\"5\": 228, \"15\": 6, \"1\": 1, \"6\": 5}, \"14\": {\"10\": 11, \"14\": 196, \"0\": 27, \"1\": 6}, \"8\": {\"8\": 219, \"2\": 16, \"10\": 2, \"9\": 2, \"7\": 1}, \"7\": {\"7\": 176, \"2\": 41, \"3\": 22, \"13\": 1}, \"6\": {\"6\": 240}, \"11\": {\"11\": 240}, \"15\": {\"15\": 239, \"0\": 1}, \"1\": {\"1\": 240}}, \"ORACLE.run2_44\": {\"12\": {\"12\": 229, \"3\": 11}, \"7\": {\"9\": 52, \"7\": 187, \"6\": 1}, \"5\": {\"5\": 230, \"8\": 1, \"14\": 7, \"15\": 2}, \"15\": {\"15\": 236, \"5\": 1, \"14\": 1, \"8\": 1, \"0\": 1}, \"8\": {\"8\": 221, \"0\": 19}, \"2\": {\"2\": 240}, \"13\": {\"13\": 231, \"6\": 6, \"4\": 3}, \"4\": {\"4\": 226, \"14\": 14}, \"0\": {\"0\": 196, \"8\": 44}, \"6\": {\"6\": 239, \"7\": 1}, \"9\": {\"7\": 60, \"9\": 177, \"6\": 3}, \"11\": {\"11\": 238, \"13\": 2}, \"10\": {\"10\": 240}, \"14\": {\"14\": 228, \"4\": 12}, \"1\": {\"1\": 240}, \"3\": {\"3\": 229, \"12\": 11}}, \"C_A_3\": {\"43\": {\"43\": 12}, \"9\": {\"9\": 11, \"29\": 1}, \"6\": {\"6\": 9, \"45\": 1}, \"3\": {\"6\": 3, \"3\": 6, \"50\": 2, \"12\": 1}, \"16\": {\"16\": 12}, \"51\": {\"51\": 9, \"34\": 3}, \"31\": {\"31\": 12}, \"46\": {\"46\": 7, \"50\": 2, \"45\": 1}, \"19\": {\"19\": 8}, \"8\": {\"8\": 11, \"33\": 1}, \"18\": {\"18\": 12}, \"37\": {\"37\": 11, \"39\": 1}, \"24\": {\"31\": 3, \"24\": 9}, \"10\": {\"10\": 12}, \"44\": {\"6\": 5, \"44\": 2, \"46\": 1, \"45\": 2}, \"14\": {\"14\": 11, \"13\": 1}, \"38\": {\"38\": 10}, \"53\": {\"53\": 12}, \"20\": {\"20\": 10, \"48\": 2}, \"32\": {\"32\": 12}, \"36\": {\"36\": 10}, \"33\": {\"33\": 12}, \"56\": {\"56\": 12}, \"23\": {\"23\": 12}, \"54\": {\"54\": 9, \"19\": 1}, \"34\": {\"2\": 1, \"34\": 4, \"37\": 3, \"42\": 3, \"51\": 1}, \"13\": {\"13\": 12}, \"2\": {\"2\": 11, \"17\": 1}, \"55\": {\"43\": 1, \"55\": 7, \"37\": 1, \"2\": 1}, \"21\": {\"21\": 8, \"0\": 2}, \"49\": {\"49\": 6, \"13\": 2, \"7\": 1, \"35\": 1}, \"25\": {\"25\": 12}, \"5\": {\"5\": 12}, \"50\": {\"50\": 7, \"3\": 1}, \"40\": {\"40\": 11, \"29\": 1}, \"57\": {\"57\": 6, \"41\": 1, \"1\": 1}, \"22\": {\"22\": 10}, \"1\": {\"1\": 9, \"52\": 1}, \"17\": {\"17\": 12}, \"41\": {\"1\": 2, \"41\": 9, \"39\": 1}, \"4\": {\"4\": 8, \"48\": 1, \"9\": 1}, \"7\": {\"55\": 2, \"49\": 1, \"7\": 4, \"37\": 1, \"35\": 2}, \"26\": {\"26\": 10}, \"29\": {\"29\": 10, \"48\": 1, \"9\": 1}, \"52\": {\"29\": 1, \"52\": 11}, \"15\": {\"15\": 12}, \"35\": {\"42\": 1, \"35\": 8, \"37\": 1, \"7\": 2}, \"42\": {\"42\": 8, \"37\": 2, \"51\": 1, \"34\": 1}, \"30\": {\"30\": 10}, \"27\": {\"27\": 7, \"8\": 1}, \"45\": {\"6\": 2, \"21\": 1, \"45\": 5, \"50\": 1, \"3\": 1}, \"0\": {\"0\": 12}, \"28\": {\"28\": 12}, \"47\": {\"47\": 12}, \"11\": {\"15\": 1, \"11\": 9}, \"39\": {\"39\": 10}, \"48\": {\"41\": 4, \"48\": 7, \"20\": 1}, \"12\": {\"12\": 7, \"3\": 1}}, \"C_A_4\": {\"35\": {\"35\": 3, \"51\": 1, \"32\": 3, \"39\": 2, \"37\": 1}, \"25\": {\"25\": 11, \"34\": 1}, \"24\": {\"24\": 10}, \"48\": {\"48\": 9, \"9\": 3}, \"51\": {\"51\": 12}, \"13\": {\"13\": 12}, \"14\": {\"14\": 5, \"0\": 1, \"37\": 1, \"2\": 1}, \"32\": {\"32\": 5, \"24\": 1, \"31\": 1, \"35\": 2, \"41\": 2, \"37\": 1}, \"30\": {\"30\": 10, \"21\": 1, \"44\": 1}, \"34\": {\"25\": 1, \"32\": 1, \"34\": 3, \"19\": 2, \"42\": 1, \"26\": 1, \"53\": 1}, \"9\": {\"9\": 10, \"48\": 1, \"4\": 1}, \"1\": {\"1\": 11, \"57\": 1}, \"0\": {\"0\": 12}, \"38\": {\"13\": 1, \"14\": 1, \"38\": 10}, \"22\": {\"22\": 7, \"46\": 1}, \"40\": {\"40\": 12}, \"39\": {\"39\": 11, \"33\": 1}, \"46\": {\"46\": 12}, \"36\": {\"36\": 12}, \"50\": {\"6\": 4, \"40\": 2, \"50\": 2, \"45\": 4}, \"49\": {\"49\": 3, \"57\": 1, \"7\": 4, \"43\": 1, \"38\": 1, \"55\": 1, \"37\": 1}, \"17\": {\"17\": 12}, \"45\": {\"6\": 4, \"50\": 2, \"45\": 6}, \"6\": {\"6\": 12}, \"8\": {\"8\": 12}, \"5\": {\"5\": 10}, \"33\": {\"33\": 12}, \"31\": {\"31\": 11, \"32\": 1}, \"37\": {\"7\": 4, \"57\": 1, \"37\": 3, \"49\": 2}, \"47\": {\"47\": 5, \"1\": 3}, \"15\": {\"15\": 8, \"16\": 2}, \"7\": {\"37\": 1, \"7\": 4, \"55\": 1, \"49\": 2, \"39\": 1, \"43\": 2, \"2\": 1}, \"20\": {\"20\": 12}, \"4\": {\"4\": 11, \"39\": 1}, \"54\": {\"54\": 12}, \"44\": {\"44\": 8, \"3\": 3, \"30\": 1}, \"3\": {\"3\": 10, \"45\": 2}, \"11\": {\"11\": 7, \"10\": 1, \"15\": 2}, \"27\": {\"27\": 10}, \"19\": {\"19\": 12}, \"55\": {\"55\": 10, \"42\": 1, \"54\": 1}, \"16\": {\"16\": 12}, \"2\": {\"2\": 9, \"14\": 1}, \"52\": {\"52\": 10}, \"42\": {\"42\": 8, \"54\": 2}, \"26\": {\"26\": 9, \"28\": 2, \"42\": 1}, \"10\": {\"10\": 12}, \"53\": {\"53\": 10}, \"28\": {\"28\": 10, \"53\": 1, \"25\": 1}, \"21\": {\"21\": 10}, \"57\": {\"57\": 8, \"52\": 1, \"1\": 1}, \"23\": {\"23\": 8}, \"43\": {\"43\": 9, \"7\": 1}, \"12\": {\"12\": 11, \"21\": 1}, \"41\": {\"41\": 11, \"51\": 1}, \"56\": {\"56\": 8}, \"18\": {\"18\": 10}, \"29\": {\"29\": 8}}, \"W_A_3\": {\"109\": {\"109\": 12}, \"127\": {\"127\": 11, \"35\": 1}, \"14\": {\"14\": 8, \"84\": 2, \"93\": 2}, \"7\": {\"7\": 10, \"51\": 2}, \"129\": {\"129\": 11, \"42\": 1}, \"57\": {\"107\": 1, \"57\": 6, \"33\": 2, \"121\": 2, \"19\": 1}, \"84\": {\"14\": 2, \"84\": 7, \"26\": 1, \"8\": 1, \"30\": 1}, \"114\": {\"14\": 1, \"114\": 8, \"84\": 1, \"40\": 1, \"9\": 1}, \"44\": {\"57\": 2, \"44\": 7, \"32\": 3}, \"21\": {\"21\": 12}, \"46\": {\"46\": 8, \"85\": 2, \"91\": 2}, \"100\": {\"46\": 2, \"19\": 1, \"91\": 1, \"53\": 1, \"32\": 2, \"76\": 2, \"85\": 1, \"65\": 1, \"100\": 1}, \"63\": {\"63\": 8, \"35\": 1, \"6\": 1, \"2\": 1, \"75\": 1}, \"24\": {\"24\": 7, \"109\": 1, \"43\": 1, \"70\": 1, \"36\": 1, \"10\": 1}, \"107\": {\"107\": 10, \"114\": 1, \"33\": 1}, \"35\": {\"14\": 1, \"35\": 7, \"127\": 1, \"114\": 1}, \"81\": {\"81\": 9, \"64\": 1, \"61\": 2}, \"64\": {\"64\": 11, \"102\": 1}, \"59\": {\"105\": 1, \"59\": 10, \"112\": 1}, \"33\": {\"33\": 8, \"107\": 2, \"74\": 1, \"71\": 1}, \"34\": {\"34\": 9, \"20\": 2, \"75\": 1}, \"36\": {\"36\": 8, \"24\": 2, \"10\": 2}, \"79\": {\"79\": 4, \"80\": 1, \"115\": 2, \"13\": 2, \"120\": 2, \"117\": 1}, \"80\": {\"80\": 9, \"10\": 1, \"67\": 2}, \"77\": {\"77\": 11, \"100\": 1}, \"22\": {\"22\": 5, \"79\": 1, \"86\": 2, \"13\": 2, \"48\": 2}, \"124\": {\"77\": 2, \"124\": 9, \"112\": 1}, \"2\": {\"2\": 8, \"22\": 1, \"117\": 2, \"67\": 1}, \"87\": {\"87\": 10, \"11\": 1, \"122\": 1}, \"105\": {\"105\": 12}, \"95\": {\"126\": 2, \"34\": 1, \"3\": 2, \"95\": 4, \"66\": 2, \"83\": 1}, \"43\": {\"43\": 11, \"11\": 1}, \"56\": {\"56\": 7, \"9\": 1, \"83\": 2}, \"18\": {\"18\": 12}, \"85\": {\"85\": 8, \"98\": 1, \"50\": 1, \"66\": 2}, \"113\": {\"43\": 1, \"113\": 9, \"96\": 2}, \"97\": {\"8\": 1, \"97\": 9, \"27\": 1, \"94\": 1}, \"86\": {\"86\": 10, \"22\": 1, \"79\": 1}, \"128\": {\"18\": 1, \"46\": 1, \"38\": 1, \"74\": 1, \"128\": 5, \"95\": 1, \"100\": 1, \"28\": 1}, \"123\": {\"123\": 10, \"116\": 1, \"63\": 1}, \"8\": {\"8\": 9, \"110\": 1, \"0\": 2}, \"110\": {\"110\": 10, \"43\": 1, \"122\": 1}, \"126\": {\"43\": 2, \"126\": 4, \"96\": 2, \"118\": 2, \"39\": 2}, \"101\": {\"101\": 9, \"94\": 1, \"8\": 1, \"7\": 1}, \"115\": {\"45\": 2, \"115\": 8, \"79\": 2}, \"49\": {\"84\": 2, \"106\": 1, \"49\": 5, \"12\": 2, \"113\": 1, \"0\": 1}, \"45\": {\"45\": 10, \"82\": 1, \"115\": 1}, \"78\": {\"78\": 7, \"11\": 1, \"70\": 2, \"88\": 2}, \"65\": {\"65\": 5, \"32\": 2, \"85\": 2, \"81\": 1}, \"54\": {\"54\": 12}, \"31\": {\"14\": 1, \"31\": 6, \"57\": 1, \"113\": 1, \"116\": 1}, \"42\": {\"45\": 1, \"42\": 3, \"73\": 3, \"95\": 1, \"48\": 1, \"91\": 1, \"129\": 1, \"78\": 1}, \"68\": {\"68\": 12}, \"15\": {\"94\": 3, \"15\": 8, \"0\": 1}, \"69\": {\"69\": 12}, \"17\": {\"17\": 2, \"48\": 1, \"123\": 1, \"125\": 1, \"129\": 1, \"24\": 1, \"5\": 2, \"59\": 1}, \"73\": {\"73\": 10, \"41\": 1, \"37\": 1}, \"121\": {\"121\": 9, \"81\": 1, \"92\": 2}, \"102\": {\"102\": 12}, \"48\": {\"102\": 1, \"48\": 5, \"64\": 1, \"104\": 2, \"77\": 1, \"117\": 1, \"41\": 1}, \"23\": {\"69\": 2, \"39\": 2, \"122\": 1, \"74\": 1, \"23\": 1, \"87\": 1, \"14\": 2, \"8\": 2}, \"108\": {\"108\": 12}, \"53\": {\"57\": 1, \"53\": 5, \"38\": 1, \"1\": 1, \"3\": 3, \"107\": 1}, \"94\": {\"94\": 9, \"15\": 1}, \"41\": {\"77\": 1, \"41\": 7, \"5\": 1, \"85\": 1, \"91\": 2}, \"58\": {\"47\": 1, \"58\": 9, \"95\": 1, \"25\": 1}, \"29\": {\"29\": 9, \"82\": 1, \"89\": 1, \"115\": 1}, \"116\": {\"116\": 11, \"117\": 1}, \"60\": {\"60\": 8, \"49\": 1, \"96\": 1, \"122\": 1, \"62\": 1}, \"104\": {\"104\": 10, \"22\": 1, \"55\": 1}, \"106\": {\"106\": 12}, \"66\": {\"66\": 5, \"83\": 1, \"46\": 1, \"20\": 2, \"65\": 1, \"95\": 2}, \"47\": {\"47\": 9, \"3\": 1, \"35\": 2}, \"40\": {\"40\": 10, \"105\": 1, \"38\": 1}, \"82\": {\"82\": 6, \"29\": 2, \"45\": 1, \"36\": 1, \"92\": 1, \"89\": 1}, \"13\": {\"67\": 1, \"123\": 2, \"122\": 1, \"13\": 3, \"79\": 2, \"109\": 1, \"16\": 1, \"4\": 1}, \"19\": {\"19\": 8, \"128\": 1, \"103\": 1, \"55\": 1, \"112\": 1}, \"72\": {\"72\": 11, \"35\": 1}, \"9\": {\"9\": 10, \"1\": 1, \"82\": 1}, \"67\": {\"67\": 10, \"123\": 1, \"48\": 1}, \"11\": {\"11\": 10, \"87\": 1, \"39\": 1}, \"125\": {\"125\": 12}, \"76\": {\"76\": 4, \"18\": 2, \"107\": 1, \"69\": 1}, \"83\": {\"66\": 2, \"83\": 3, \"98\": 3, \"47\": 1, \"56\": 2, \"53\": 1}, \"74\": {\"74\": 8, \"54\": 1, \"57\": 1, \"76\": 2}, \"20\": {\"20\": 5, \"40\": 1, \"98\": 1, \"105\": 1, \"26\": 1, \"128\": 1, \"32\": 1, \"69\": 1}, \"119\": {\"119\": 7, \"115\": 1, \"86\": 1, \"22\": 3}, \"1\": {\"1\": 11, \"3\": 1}, \"16\": {\"16\": 12}, \"25\": {\"25\": 8, \"64\": 1, \"73\": 1, \"38\": 1, \"58\": 1}, \"90\": {\"28\": 2, \"90\": 3, \"120\": 1, \"116\": 1, \"57\": 1}, \"39\": {\"39\": 12}, \"28\": {\"33\": 1, \"28\": 3, \"74\": 1, \"100\": 2, \"19\": 2, \"50\": 1, \"18\": 1, \"44\": 1}, \"55\": {\"55\": 10, \"31\": 1, \"9\": 1}, \"117\": {\"117\": 10, \"92\": 1, \"2\": 1}, \"112\": {\"112\": 3, \"124\": 2, \"98\": 1, \"19\": 1, \"41\": 3, \"85\": 1, \"73\": 1}, \"38\": {\"38\": 5, \"56\": 1, \"99\": 2, \"105\": 1, \"100\": 1, \"127\": 2}, \"37\": {\"112\": 1, \"73\": 1, \"52\": 4, \"37\": 5, \"46\": 1}, \"120\": {\"117\": 1, \"120\": 4, \"90\": 1, \"13\": 2, \"81\": 1, \"65\": 1, \"92\": 2}, \"122\": {\"122\": 12}, \"50\": {\"55\": 1, \"50\": 6, \"65\": 2, \"100\": 2, \"53\": 1}, \"10\": {\"10\": 11, \"24\": 1}, \"5\": {\"5\": 11, \"22\": 1}, \"51\": {\"51\": 8, \"66\": 1, \"12\": 1, \"106\": 1, \"23\": 1}, \"3\": {\"3\": 10, \"70\": 1, \"108\": 1}, \"98\": {\"98\": 7, \"95\": 2, \"32\": 1, \"56\": 1, \"18\": 1}, \"70\": {\"39\": 1, \"10\": 1, \"109\": 2, \"70\": 8}, \"96\": {\"113\": 3, \"96\": 7, \"93\": 1, \"16\": 1}, \"12\": {\"12\": 11, \"51\": 1}, \"99\": {\"99\": 10, \"105\": 1, \"9\": 1}, \"52\": {\"52\": 7, \"46\": 1, \"83\": 2, \"98\": 1, \"37\": 1}, \"71\": {\"71\": 6, \"36\": 1, \"81\": 1, \"35\": 2, \"3\": 2}, \"89\": {\"89\": 9, \"50\": 1, \"82\": 1, \"76\": 1}, \"0\": {\"8\": 1, \"0\": 10, \"15\": 1}, \"4\": {\"4\": 6, \"119\": 2, \"88\": 1, \"43\": 1, \"79\": 1, \"8\": 1}, \"93\": {\"93\": 10, \"84\": 2}, \"6\": {\"6\": 8, \"37\": 2}, \"75\": {\"75\": 12}, \"62\": {\"62\": 12}, \"103\": {\"103\": 6, \"19\": 2, \"53\": 2, \"41\": 1, \"66\": 1}, \"30\": {\"30\": 8, \"27\": 1, \"36\": 2, \"0\": 1}, \"91\": {\"91\": 6, \"103\": 1, \"41\": 1, \"85\": 3, \"19\": 1}, \"27\": {\"27\": 9, \"30\": 1, \"24\": 2}, \"26\": {\"26\": 12}, \"61\": {\"61\": 12}, \"118\": {\"118\": 10, \"109\": 1, \"126\": 1}, \"92\": {\"81\": 2, \"89\": 2, \"92\": 7, \"120\": 1}, \"111\": {\"111\": 11, \"59\": 1}, \"32\": {\"32\": 11, \"57\": 1}, \"88\": {\"70\": 1, \"88\": 5, \"10\": 1, \"78\": 2, \"109\": 1}}, \"C_A_5\": {\"47\": {\"47\": 7, \"52\": 3}, \"53\": {\"53\": 12}, \"29\": {\"52\": 1, \"47\": 1, \"29\": 9, \"57\": 1}, \"52\": {\"52\": 9, \"47\": 1, \"21\": 2}, \"55\": {\"42\": 2, \"55\": 8, \"23\": 2}, \"17\": {\"17\": 12}, \"42\": {\"42\": 12}, \"33\": {\"33\": 10}, \"11\": {\"11\": 11, \"15\": 1}, \"19\": {\"55\": 1, \"19\": 7}, \"1\": {\"1\": 12}, \"44\": {\"44\": 8, \"6\": 2, \"45\": 1, \"22\": 1}, \"49\": {\"49\": 12}, \"4\": {\"4\": 12}, \"6\": {\"6\": 7, \"40\": 1, \"50\": 3, \"45\": 1}, \"39\": {\"39\": 10, \"36\": 1, \"14\": 1}, \"13\": {\"13\": 12}, \"5\": {\"40\": 1, \"44\": 2, \"5\": 5, \"50\": 2}, \"16\": {\"16\": 8, \"15\": 2}, \"25\": {\"25\": 12}, \"45\": {\"45\": 8, \"50\": 2, \"44\": 1, \"6\": 1}, \"7\": {\"7\": 10}, \"22\": {\"22\": 11, \"0\": 1}, \"40\": {\"44\": 4, \"40\": 7, \"5\": 1}, \"38\": {\"38\": 5, \"32\": 3, \"8\": 1, \"17\": 1, \"7\": 1, \"19\": 1}, \"35\": {\"35\": 7, \"24\": 1}, \"56\": {\"56\": 12}, \"50\": {\"50\": 10}, \"0\": {\"0\": 12}, \"10\": {\"10\": 12}, \"27\": {\"27\": 12}, \"20\": {\"20\": 10}, \"36\": {\"36\": 8}, \"34\": {\"34\": 12}, \"30\": {\"30\": 12}, \"2\": {\"2\": 9, \"43\": 1}, \"15\": {\"15\": 12}, \"18\": {\"18\": 12}, \"32\": {\"32\": 12}, \"31\": {\"31\": 11, \"24\": 1}, \"57\": {\"57\": 12}, \"48\": {\"48\": 7, \"8\": 1}, \"28\": {\"28\": 10}, \"14\": {\"14\": 8, \"57\": 1, \"29\": 1, \"39\": 2}, \"3\": {\"3\": 10, \"40\": 1, \"22\": 1}, \"8\": {\"8\": 12}, \"9\": {\"9\": 12}, \"21\": {\"21\": 8, \"52\": 2}, \"41\": {\"41\": 9, \"14\": 1, \"1\": 1, \"29\": 1}, \"24\": {\"24\": 12}, \"46\": {\"46\": 10}, \"43\": {\"43\": 9, \"2\": 1}, \"54\": {\"54\": 10}, \"23\": {\"23\": 9, \"55\": 1}, \"37\": {\"37\": 6, \"14\": 1, \"43\": 2, \"21\": 1}, \"12\": {\"12\": 9, \"40\": 1}, \"26\": {\"26\": 9, \"55\": 1}, \"51\": {\"51\": 6}}, \"C_A_1\": {\"46\": {\"46\": 6, \"56\": 3, \"6\": 1, \"45\": 1, \"40\": 1}, \"16\": {\"16\": 12}, \"26\": {\"26\": 12}, \"10\": {\"10\": 12}, \"9\": {\"9\": 10}, \"28\": {\"28\": 12}, \"51\": {\"51\": 8, \"35\": 1, \"37\": 1, \"7\": 1, \"41\": 1}, \"1\": {\"1\": 11, \"32\": 1}, \"55\": {\"55\": 11, \"39\": 1}, \"27\": {\"27\": 9, \"22\": 1}, \"22\": {\"22\": 12}, \"52\": {\"52\": 12}, \"3\": {\"3\": 12}, \"33\": {\"33\": 8}, \"47\": {\"47\": 12}, \"42\": {\"42\": 12}, \"12\": {\"12\": 4}, \"23\": {\"23\": 11, \"31\": 1}, \"49\": {\"49\": 8, \"43\": 2}, \"7\": {\"7\": 9, \"42\": 1, \"41\": 2}, \"4\": {\"4\": 11, \"30\": 1}, \"50\": {\"50\": 10, \"46\": 2}, \"19\": {\"19\": 9, \"26\": 3}, \"11\": {\"11\": 12}, \"31\": {\"31\": 10}, \"41\": {\"7\": 3, \"41\": 6, \"36\": 1, \"32\": 1, \"51\": 1}, \"56\": {\"56\": 8, \"45\": 2}, \"0\": {\"0\": 12}, \"57\": {\"57\": 12}, \"53\": {\"53\": 12}, \"43\": {\"43\": 9, \"49\": 3}, \"37\": {\"37\": 12}, \"2\": {\"2\": 8}, \"6\": {\"6\": 8, \"5\": 1, \"44\": 1, \"40\": 2}, \"18\": {\"18\": 12}, \"38\": {\"38\": 7, \"39\": 1, \"32\": 2, \"55\": 2}, \"15\": {\"15\": 12}, \"36\": {\"36\": 12}, \"39\": {\"36\": 1, \"39\": 4, \"38\": 2, \"55\": 1}, \"44\": {\"44\": 9, \"56\": 1, \"5\": 1, \"3\": 1}, \"8\": {\"8\": 11, \"1\": 1}, \"17\": {\"17\": 10}, \"5\": {\"5\": 12}, \"13\": {\"13\": 8, \"30\": 1, \"57\": 1}, \"40\": {\"6\": 1, \"40\": 6, \"5\": 1, \"4\": 1, \"46\": 1}, \"29\": {\"57\": 1, \"29\": 11}, \"48\": {\"48\": 12}, \"32\": {\"32\": 12}, \"30\": {\"30\": 11, \"14\": 1}, \"35\": {\"35\": 10, \"54\": 1, \"19\": 1}, \"25\": {\"25\": 12}, \"14\": {\"29\": 3, \"8\": 2, \"14\": 5, \"30\": 1, \"1\": 1}, \"54\": {\"54\": 10}, \"20\": {\"20\": 8}, \"21\": {\"21\": 10}, \"45\": {\"45\": 8}, \"24\": {\"24\": 8}, \"34\": {\"34\": 8}}, \"W_A_4\": {\"28\": {\"28\": 7, \"89\": 2, \"128\": 1, \"19\": 1, \"46\": 1}, \"4\": {\"4\": 11, \"86\": 1}, \"72\": {\"14\": 2, \"1\": 1, \"72\": 5, \"40\": 1, \"0\": 1, \"71\": 1, \"23\": 1}, \"111\": {\"111\": 10, \"48\": 1, \"17\": 1}, \"108\": {\"108\": 12}, \"43\": {\"43\": 5, \"0\": 1, \"7\": 1, \"118\": 1, \"122\": 2}, \"96\": {\"14\": 1, \"11\": 4, \"96\": 6, \"60\": 1}, \"89\": {\"89\": 8, \"114\": 1, \"53\": 1, \"1\": 1, \"60\": 1}, \"31\": {\"31\": 6, \"45\": 1, \"83\": 1, \"19\": 1, \"18\": 2, \"73\": 1}, \"45\": {\"45\": 7, \"73\": 2, \"19\": 1, \"50\": 2}, \"2\": {\"2\": 12}, \"114\": {\"114\": 8, \"1\": 4}, \"11\": {\"11\": 12}, \"12\": {\"12\": 11, \"101\": 1}, \"14\": {\"14\": 11, \"16\": 1}, \"90\": {\"90\": 10, \"67\": 1, \"38\": 1}, \"10\": {\"10\": 8, \"36\": 1, \"24\": 1, \"78\": 1, \"109\": 1}, \"63\": {\"42\": 2, \"63\": 10}, \"85\": {\"85\": 7, \"10\": 1, \"46\": 1, \"82\": 1, \"91\": 1, \"1\": 1}, \"64\": {\"64\": 5, \"42\": 1, \"128\": 1, \"19\": 1, \"9\": 1, \"61\": 1, \"41\": 1, \"98\": 1}, \"82\": {\"64\": 4, \"82\": 4, \"48\": 1, \"89\": 1, \"70\": 1, \"112\": 1}, \"58\": {\"58\": 11, \"41\": 1}, \"3\": {\"3\": 11, \"69\": 1}, \"54\": {\"54\": 12}, \"121\": {\"121\": 10, \"81\": 1, \"22\": 1}, \"42\": {\"91\": 1, \"98\": 1, \"68\": 1, \"37\": 2, \"42\": 2, \"58\": 1, \"82\": 1, \"47\": 1, \"129\": 1, \"41\": 1}, \"98\": {\"98\": 4, \"58\": 1, \"9\": 1, \"19\": 1, \"91\": 1, \"29\": 1, \"64\": 1, \"41\": 1, \"77\": 1}, \"123\": {\"123\": 12}, \"91\": {\"91\": 6, \"58\": 1, \"55\": 1, \"120\": 1, \"98\": 2, \"29\": 1}, \"66\": {\"66\": 9, \"90\": 2, \"38\": 1}, \"102\": {\"102\": 12}, \"122\": {\"122\": 9, \"118\": 2, \"70\": 1}, \"1\": {\"1\": 9, \"114\": 2, \"40\": 1}, \"15\": {\"15\": 9, \"8\": 2, \"30\": 1}, \"97\": {\"108\": 2, \"97\": 9, \"121\": 1}, \"75\": {\"75\": 8, \"25\": 4}, \"95\": {\"95\": 9, \"97\": 1, \"53\": 1, \"106\": 1}, \"57\": {\"66\": 1, \"82\": 1, \"57\": 9, \"92\": 1}, \"68\": {\"68\": 9, \"6\": 1, \"103\": 1, \"56\": 1}, \"125\": {\"125\": 12}, \"62\": {\"62\": 10}, \"27\": {\"27\": 8, \"10\": 1, \"78\": 1, \"101\": 1, \"97\": 1}, \"120\": {\"120\": 9, \"103\": 1, \"98\": 2}, \"26\": {\"84\": 2, \"26\": 9, \"113\": 1}, \"55\": {\"91\": 1, \"55\": 9, \"41\": 1, \"64\": 1}, \"71\": {\"71\": 9, \"14\": 1, \"88\": 1, \"53\": 1}, \"22\": {\"22\": 11, \"90\": 1}, \"99\": {\"46\": 2, \"14\": 2, \"84\": 2, \"21\": 1, \"99\": 3, \"107\": 1, \"40\": 1}, \"84\": {\"84\": 9, \"103\": 1, \"1\": 1, \"43\": 1}, \"37\": {\"37\": 9, \"124\": 2, \"42\": 1}, \"83\": {\"46\": 1, \"99\": 1, \"1\": 1, \"40\": 1, \"64\": 2, \"74\": 1, \"5\": 3, \"114\": 1, \"28\": 1}, \"46\": {\"120\": 2, \"46\": 5, \"53\": 1, \"86\": 1, \"28\": 1, \"48\": 1, \"89\": 1}, \"35\": {\"35\": 12}, \"13\": {\"13\": 9, \"2\": 1, \"65\": 2}, \"53\": {\"9\": 2, \"95\": 4, \"88\": 1, \"53\": 2, \"21\": 1, \"49\": 2}, \"127\": {\"127\": 12}, \"69\": {\"97\": 1, \"69\": 9, \"20\": 1, \"78\": 1}, \"48\": {\"48\": 4, \"129\": 2, \"22\": 1, \"123\": 1, \"2\": 2, \"66\": 1, \"46\": 1}, \"16\": {\"16\": 12}, \"0\": {\"8\": 2, \"0\": 7, \"23\": 1, \"87\": 2}, \"8\": {\"0\": 1, \"97\": 2, \"8\": 9}, \"9\": {\"9\": 6, \"98\": 1, \"34\": 1, \"106\": 2, \"114\": 1, \"77\": 1}, \"115\": {\"57\": 1, \"48\": 1, \"119\": 2, \"115\": 5, \"67\": 1, \"2\": 1, \"121\": 1}, \"70\": {\"70\": 9, \"63\": 1, \"36\": 1, \"8\": 1}, \"119\": {\"115\": 2, \"119\": 9, \"48\": 1}, \"59\": {\"59\": 10, \"17\": 1, \"111\": 1}, \"52\": {\"52\": 5, \"95\": 1, \"114\": 2, \"1\": 1, \"71\": 1, \"103\": 1, \"85\": 1}, \"60\": {\"60\": 7, \"99\": 1, \"105\": 1, \"62\": 1, \"110\": 1, \"118\": 1}, \"44\": {\"44\": 6, \"74\": 4, \"92\": 1, \"38\": 1}, \"51\": {\"51\": 4, \"70\": 1, \"114\": 1, \"100\": 2, \"9\": 1, \"68\": 1, \"49\": 1, \"53\": 1}, \"6\": {\"6\": 11, \"68\": 1}, \"73\": {\"73\": 8, \"98\": 1, \"48\": 1, \"56\": 1, \"31\": 1}, \"78\": {\"78\": 7, \"21\": 3, \"88\": 2}, \"92\": {\"92\": 10, \"61\": 1, \"18\": 1}, \"20\": {\"20\": 5, \"69\": 1, \"76\": 1, \"109\": 1, \"84\": 2, \"99\": 2}, \"17\": {\"104\": 3, \"17\": 8, \"86\": 1}, \"74\": {\"74\": 8, \"44\": 3, \"83\": 1}, \"19\": {\"19\": 11, \"45\": 1}, \"50\": {\"50\": 8, \"73\": 1, \"56\": 1, \"129\": 2}, \"34\": {\"20\": 2, \"34\": 8, \"6\": 1, \"59\": 1}, \"104\": {\"104\": 4, \"45\": 1, \"31\": 1, \"17\": 1, \"129\": 1}, \"33\": {\"33\": 9, \"31\": 2, \"70\": 1}, \"5\": {\"5\": 8, \"32\": 2, \"74\": 1, \"83\": 1}, \"7\": {\"7\": 9, \"51\": 1, \"0\": 1, \"23\": 1}, \"29\": {\"29\": 11, \"103\": 1}, \"25\": {\"25\": 10, \"75\": 1, \"58\": 1}, \"124\": {\"42\": 1, \"124\": 11}, \"117\": {\"117\": 9, \"88\": 1, \"108\": 1, \"65\": 1}, \"88\": {\"88\": 11, \"109\": 1}, \"61\": {\"57\": 1, \"88\": 1, \"61\": 6, \"92\": 1, \"18\": 1, \"81\": 2}, \"86\": {\"86\": 12}, \"116\": {\"116\": 7, \"124\": 1, \"129\": 3, \"73\": 1}, \"24\": {\"10\": 2, \"24\": 9, \"21\": 1}, \"128\": {\"28\": 1, \"52\": 1, \"33\": 1, \"78\": 1, \"107\": 1, \"100\": 1, \"5\": 1, \"46\": 1, \"9\": 2, \"77\": 1, \"128\": 1}, \"101\": {\"101\": 12}, \"65\": {\"65\": 9, \"73\": 1}, \"36\": {\"36\": 10, \"8\": 1, \"94\": 1}, \"21\": {\"21\": 11, \"78\": 1}, \"106\": {\"106\": 12}, \"118\": {\"118\": 8, \"88\": 2, \"113\": 1, \"110\": 1}, \"113\": {\"113\": 7, \"93\": 1, \"126\": 1, \"24\": 1, \"118\": 1, \"60\": 1}, \"40\": {\"40\": 9, \"49\": 2, \"76\": 1}, \"93\": {\"93\": 7, \"110\": 1}, \"94\": {\"94\": 9, \"36\": 3}, \"103\": {\"103\": 4, \"77\": 3, \"112\": 1, \"108\": 1, \"87\": 1, \"29\": 1, \"54\": 1}, \"110\": {\"122\": 2, \"110\": 5, \"39\": 1, \"23\": 3, \"118\": 1}, \"56\": {\"56\": 8, \"112\": 2, \"100\": 2}, \"39\": {\"39\": 11, \"109\": 1}, \"109\": {\"39\": 1, \"109\": 8, \"108\": 3}, \"67\": {\"104\": 2, \"86\": 2, \"55\": 1, \"115\": 1, \"19\": 1, \"2\": 1, \"88\": 1, \"63\": 1, \"73\": 1, \"67\": 1}, \"129\": {\"129\": 8, \"73\": 1, \"42\": 1, \"119\": 1, \"50\": 1}, \"30\": {\"30\": 11, \"36\": 1}, \"126\": {\"126\": 10, \"109\": 1, \"108\": 1}, \"87\": {\"21\": 1, \"87\": 11}, \"112\": {\"56\": 1, \"112\": 10, \"100\": 1}, \"100\": {\"112\": 1, \"47\": 1, \"100\": 5, \"99\": 1, \"49\": 2, \"3\": 1, \"46\": 1}, \"79\": {\"50\": 1, \"79\": 9}, \"81\": {\"81\": 7, \"67\": 2, \"121\": 1, \"38\": 1, \"108\": 1}, \"76\": {\"76\": 5, \"5\": 1, \"20\": 1, \"69\": 2, \"93\": 1}, \"47\": {\"47\": 9, \"21\": 1, \"59\": 2}, \"77\": {\"77\": 8, \"103\": 2, \"41\": 2}, \"23\": {\"103\": 1, \"0\": 3, \"23\": 1, \"108\": 1, \"126\": 1, \"106\": 1, \"110\": 2, \"21\": 1, \"87\": 1}, \"18\": {\"18\": 11, \"38\": 1}, \"49\": {\"46\": 1, \"49\": 6, \"7\": 1, \"40\": 1, \"107\": 1, \"3\": 1, \"53\": 1}, \"41\": {\"41\": 6, \"125\": 1, \"129\": 1, \"112\": 1, \"19\": 1, \"4\": 1, \"56\": 1}, \"32\": {\"81\": 1, \"76\": 1, \"23\": 2, \"5\": 1, \"32\": 3, \"18\": 2, \"33\": 2}, \"107\": {\"107\": 10}, \"80\": {\"80\": 11, \"116\": 1}, \"105\": {\"105\": 9, \"24\": 1}, \"38\": {\"38\": 8, \"18\": 1, \"5\": 1}}, \"W_A_1\": {\"108\": {\"108\": 9, \"88\": 1}, \"40\": {\"40\": 11, \"105\": 1}, \"68\": {\"3\": 1, \"68\": 10, \"77\": 1}, \"23\": {\"110\": 1, \"40\": 2, \"1\": 1, \"23\": 5, \"69\": 1, \"12\": 2}, \"26\": {\"70\": 1, \"26\": 8, \"44\": 2, \"113\": 1}, \"64\": {\"57\": 1, \"64\": 7, \"66\": 2, \"61\": 1, \"129\": 1}, \"22\": {\"64\": 2, \"129\": 1, \"22\": 6, \"67\": 1, \"117\": 1, \"57\": 1}, \"3\": {\"89\": 2, \"3\": 8, \"38\": 2}, \"4\": {\"102\": 2, \"4\": 9, \"11\": 1}, \"70\": {\"70\": 10, \"78\": 1, \"10\": 1}, \"57\": {\"57\": 9, \"22\": 1, \"61\": 2}, \"79\": {\"79\": 9, \"4\": 1, \"124\": 2}, \"9\": {\"9\": 6, \"3\": 1, \"75\": 1, \"72\": 1, \"47\": 1, \"31\": 2}, \"89\": {\"89\": 5, \"3\": 1, \"85\": 3, \"49\": 2, \"38\": 1}, \"110\": {\"110\": 11, \"36\": 1}, \"102\": {\"102\": 12}, \"31\": {\"31\": 8, \"40\": 1, \"32\": 1, \"84\": 1, \"9\": 1}, \"58\": {\"58\": 12}, \"47\": {\"47\": 7, \"75\": 2, \"54\": 2, \"128\": 1}, \"24\": {\"24\": 9, \"11\": 1, \"93\": 2}, \"19\": {\"19\": 11, \"73\": 1}, \"11\": {\"11\": 11, \"43\": 1}, \"52\": {\"52\": 11, \"29\": 1}, \"17\": {\"17\": 8, \"68\": 1, \"125\": 1, \"111\": 2}, \"25\": {\"19\": 2, \"25\": 5, \"42\": 4, \"82\": 1}, \"69\": {\"69\": 11, \"60\": 1}, \"96\": {\"11\": 1, \"96\": 6, \"60\": 1, \"84\": 1, \"93\": 1, \"35\": 1, \"43\": 1}, \"109\": {\"109\": 12}, \"115\": {\"115\": 11, \"48\": 1}, \"83\": {\"83\": 2, \"47\": 1, \"42\": 1, \"1\": 1, \"91\": 1, \"4\": 1, \"82\": 2, \"31\": 1, \"14\": 1, \"103\": 1}, \"84\": {\"7\": 1, \"84\": 8, \"96\": 1, \"69\": 1, \"60\": 1}, \"119\": {\"119\": 10}, \"122\": {\"122\": 10}, \"99\": {\"74\": 1, \"99\": 9, \"107\": 1, \"14\": 1}, \"1\": {\"74\": 1, \"1\": 11}, \"74\": {\"74\": 9, \"65\": 1, \"81\": 1, \"129\": 1}, \"85\": {\"85\": 9, \"89\": 1, \"29\": 2}, \"127\": {\"127\": 10, \"71\": 2}, \"111\": {\"111\": 9, \"112\": 2, \"6\": 1}, \"53\": {\"53\": 7, \"92\": 1, \"56\": 1, \"75\": 2, \"98\": 1}, \"88\": {\"88\": 8, \"97\": 2, \"108\": 1, \"10\": 1}, \"65\": {\"65\": 7, \"64\": 1, \"102\": 1, \"104\": 1}, \"7\": {\"7\": 10, \"84\": 1, \"105\": 1}, \"16\": {\"16\": 9, \"10\": 1, \"18\": 2}, \"128\": {\"53\": 1, \"28\": 3, \"128\": 4, \"38\": 1, \"25\": 1, \"42\": 1, \"100\": 1}, \"34\": {\"34\": 5, \"114\": 1, \"75\": 2, \"44\": 1, \"71\": 1, \"40\": 1, \"89\": 1}, \"129\": {\"129\": 7, \"46\": 1, \"86\": 2, \"80\": 1, \"117\": 1}, \"43\": {\"43\": 11, \"126\": 1}, \"92\": {\"92\": 12}, \"28\": {\"28\": 7, \"129\": 1, \"99\": 1, \"90\": 1, \"22\": 1, \"116\": 1}, \"27\": {\"27\": 10, \"30\": 2}, \"114\": {\"114\": 12}, \"73\": {\"41\": 1, \"73\": 8, \"22\": 1, \"45\": 1, \"46\": 1}, \"0\": {\"0\": 12}, \"104\": {\"129\": 2, \"104\": 9, \"41\": 1}, \"118\": {\"118\": 12}, \"41\": {\"41\": 11, \"57\": 1}, \"49\": {\"89\": 2, \"72\": 2, \"32\": 2, \"56\": 1, \"85\": 1, \"105\": 1, \"107\": 1, \"92\": 1, \"49\": 1}, \"14\": {\"14\": 11, \"44\": 1}, \"46\": {\"66\": 1, \"22\": 1, \"46\": 5, \"97\": 1, \"125\": 1, \"17\": 1, \"57\": 2}, \"33\": {\"33\": 12}, \"76\": {\"76\": 12}, \"125\": {\"125\": 12}, \"86\": {\"104\": 1, \"46\": 1, \"86\": 7, \"4\": 1}, \"66\": {\"129\": 1, \"66\": 5, \"119\": 1, \"61\": 2, \"2\": 1, \"82\": 1, \"51\": 1}, \"5\": {\"5\": 9, \"124\": 2, \"55\": 1}, \"117\": {\"117\": 12}, \"75\": {\"75\": 6, \"72\": 3, \"83\": 1, \"114\": 1, \"31\": 1}, \"61\": {\"61\": 10, \"57\": 2}, \"50\": {\"50\": 5, \"1\": 1, \"100\": 1, \"30\": 1, \"81\": 1, \"90\": 1, \"14\": 1, \"73\": 1}, \"67\": {\"67\": 7, \"48\": 1, \"82\": 1, \"13\": 1}, \"18\": {\"18\": 12}, \"98\": {\"98\": 9, \"103\": 1, \"47\": 1, \"52\": 1}, \"55\": {\"55\": 7, \"46\": 1, \"5\": 2}, \"32\": {\"32\": 4, \"49\": 3, \"56\": 1, \"89\": 2, \"75\": 1, \"31\": 1}, \"120\": {\"120\": 12}, \"97\": {\"97\": 8, \"126\": 1, \"70\": 1, \"93\": 1, \"110\": 1}, \"126\": {\"126\": 10, \"122\": 1, \"43\": 1}, \"45\": {\"46\": 1, \"104\": 1, \"45\": 8, \"79\": 1, \"22\": 1}, \"78\": {\"78\": 8, \"108\": 1, \"21\": 1}, \"100\": {\"100\": 8, \"19\": 1, \"128\": 1, \"120\": 1, \"50\": 1}, \"107\": {\"107\": 11, \"89\": 1}, \"93\": {\"97\": 2, \"93\": 10}, \"77\": {\"77\": 11, \"47\": 1}, \"63\": {\"115\": 1, \"63\": 11}, \"112\": {\"112\": 6, \"77\": 1, \"6\": 1, \"59\": 2, \"125\": 1, \"68\": 1}, \"113\": {\"113\": 10, \"69\": 2}, \"103\": {\"92\": 2, \"103\": 5, \"77\": 1, \"98\": 2}, \"71\": {\"71\": 12}, \"30\": {\"30\": 7, \"15\": 1, \"27\": 2, \"24\": 1, \"78\": 1}, \"90\": {\"90\": 10, \"82\": 2}, \"37\": {\"71\": 1, \"37\": 9, \"77\": 2}, \"60\": {\"60\": 7, \"118\": 1, \"96\": 1, \"70\": 1, \"72\": 1, \"23\": 1}, \"15\": {\"15\": 9, \"0\": 1, \"36\": 2}, \"39\": {\"39\": 12}, \"72\": {\"72\": 8, \"49\": 2, \"9\": 1, \"75\": 1}, \"54\": {\"54\": 6, \"29\": 1, \"47\": 4, \"53\": 1}, \"35\": {\"7\": 2, \"87\": 1, \"35\": 6, \"84\": 2, \"118\": 1}, \"2\": {\"86\": 1, \"2\": 11}, \"94\": {\"94\": 9, \"0\": 1, \"36\": 1, \"109\": 1}, \"42\": {\"42\": 3, \"81\": 2, \"19\": 2, \"80\": 1, \"124\": 1, \"45\": 1, \"66\": 1, \"128\": 1}, \"81\": {\"81\": 7, \"44\": 1, \"107\": 2, \"120\": 1, \"50\": 1}, \"8\": {\"0\": 2, \"8\": 8, \"93\": 2}, \"87\": {\"8\": 3, \"87\": 9}, \"6\": {\"6\": 8, \"42\": 1, \"55\": 1, \"37\": 1, \"111\": 1}, \"36\": {\"36\": 10, \"94\": 2}, \"91\": {\"91\": 9, \"47\": 1, \"77\": 2}, \"56\": {\"32\": 1, \"56\": 11}, \"80\": {\"80\": 8, \"79\": 2, \"56\": 1, \"45\": 1}, \"124\": {\"124\": 8, \"5\": 1, \"104\": 1}, \"44\": {\"44\": 12}, \"13\": {\"119\": 1, \"13\": 6, \"102\": 2, \"123\": 1, \"57\": 1, \"79\": 1}, \"10\": {\"10\": 8, \"88\": 1, \"21\": 2, \"70\": 1}, \"59\": {\"58\": 1, \"59\": 9, \"82\": 1, \"66\": 1}, \"95\": {\"95\": 12}, \"105\": {\"105\": 7, \"7\": 1, \"112\": 1, \"35\": 1, \"18\": 2}, \"101\": {\"101\": 12}, \"20\": {\"50\": 2, \"20\": 9, \"3\": 1}, \"48\": {\"48\": 11, \"123\": 1}, \"106\": {\"106\": 12}, \"51\": {\"51\": 12}, \"21\": {\"21\": 11, \"70\": 1}, \"123\": {\"123\": 8, \"13\": 2, \"115\": 1, \"48\": 1}, \"121\": {\"61\": 1, \"121\": 9, \"116\": 2}, \"38\": {\"38\": 12}, \"62\": {\"62\": 12}, \"29\": {\"29\": 12}, \"82\": {\"82\": 9, \"28\": 2, \"25\": 1}, \"116\": {\"116\": 7, \"61\": 1, \"2\": 1, \"86\": 1, \"65\": 2}, \"12\": {\"12\": 5, \"127\": 2, \"101\": 1}}, \"W_A_2\": {\"91\": {\"17\": 1, \"91\": 6, \"29\": 2, \"124\": 1, \"59\": 2}, \"12\": {\"12\": 9, \"109\": 1, \"7\": 1, \"110\": 1}, \"101\": {\"101\": 9, \"0\": 1}, \"121\": {\"121\": 8, \"110\": 1, \"81\": 2, \"123\": 1}, \"118\": {\"118\": 11, \"113\": 1}, \"10\": {\"126\": 2, \"10\": 8, \"70\": 2}, \"117\": {\"117\": 11, \"121\": 1}, \"110\": {\"110\": 10, \"101\": 1, \"97\": 1}, \"97\": {\"97\": 8, \"121\": 1, \"11\": 1, \"7\": 1, \"22\": 1}, \"28\": {\"88\": 1, \"28\": 4, \"41\": 1, \"103\": 3, \"76\": 1, \"112\": 1, \"25\": 1}, \"88\": {\"126\": 1, \"88\": 7, \"109\": 1, \"24\": 1, \"21\": 2}, \"17\": {\"86\": 2, \"125\": 2, \"79\": 2, \"78\": 1, \"4\": 1, \"17\": 2, \"59\": 2}, \"126\": {\"126\": 9, \"109\": 1, \"108\": 1, \"118\": 1}, \"33\": {\"33\": 11, \"76\": 1}, \"86\": {\"86\": 11, \"5\": 1}, \"106\": {\"106\": 11, \"35\": 1}, \"54\": {\"54\": 11, \"56\": 1}, \"125\": {\"125\": 12}, \"83\": {\"83\": 8, \"57\": 1, \"18\": 3}, \"98\": {\"98\": 5, \"103\": 1, \"53\": 1, \"91\": 2, \"77\": 1, \"68\": 1, \"19\": 1}, \"11\": {\"11\": 9, \"8\": 1, \"43\": 2}, \"32\": {\"32\": 8, \"34\": 1, \"47\": 1, \"3\": 2}, \"42\": {\"42\": 5, \"98\": 1, \"117\": 2, \"129\": 2, \"115\": 2}, \"103\": {\"103\": 9, \"52\": 1, \"111\": 2}, \"87\": {\"118\": 2, \"87\": 9, \"39\": 1}, \"61\": {\"87\": 1, \"83\": 1, \"61\": 5, \"100\": 1, \"31\": 1, \"102\": 1, \"44\": 2}, \"13\": {\"13\": 12}, \"4\": {\"4\": 11, \"80\": 1}, \"15\": {\"15\": 8, \"36\": 2}, \"120\": {\"121\": 2, \"116\": 1, \"120\": 9}, \"80\": {\"80\": 10, \"115\": 2}, \"72\": {\"76\": 1, \"72\": 8, \"69\": 1}, \"64\": {\"64\": 5, \"100\": 1, \"19\": 1, \"112\": 1, \"61\": 1, \"47\": 1, \"34\": 1, \"45\": 1}, \"81\": {\"121\": 2, \"89\": 1, \"38\": 1, \"81\": 7, \"19\": 1}, \"102\": {\"102\": 12}, \"76\": {\"64\": 1, \"76\": 6, \"66\": 2, \"1\": 2, \"73\": 1}, \"49\": {\"49\": 5, \"76\": 1, \"114\": 2, \"53\": 1, \"21\": 1}, \"129\": {\"129\": 11, \"42\": 1}, \"89\": {\"89\": 12}, \"52\": {\"52\": 9, \"58\": 2, \"54\": 1}, \"35\": {\"35\": 10, \"127\": 1, \"101\": 1}, \"53\": {\"53\": 5, \"122\": 1, \"61\": 2, \"66\": 2, \"128\": 1, \"108\": 1}, \"112\": {\"64\": 1, \"112\": 6, \"45\": 1, \"91\": 1, \"124\": 1, \"42\": 1, \"66\": 1}, \"105\": {\"105\": 12}, \"100\": {\"112\": 1, \"100\": 9, \"55\": 1, \"56\": 1}, \"9\": {\"9\": 10, \"51\": 2}, \"82\": {\"82\": 11, \"129\": 1}, \"51\": {\"51\": 7, \"109\": 1, \"59\": 1, \"127\": 1, \"9\": 2}, \"21\": {\"21\": 11, \"88\": 1}, \"92\": {\"82\": 1, \"64\": 1, \"18\": 1, \"45\": 2, \"47\": 1, \"55\": 1, \"92\": 1, \"32\": 1, \"84\": 1, \"57\": 2}, \"69\": {\"69\": 12}, \"77\": {\"17\": 2, \"112\": 2, \"77\": 6, \"85\": 2}, \"50\": {\"50\": 6, \"46\": 1, \"123\": 1, \"31\": 1, \"28\": 1, \"89\": 1, \"129\": 1}, \"36\": {\"36\": 11, \"8\": 1}, \"16\": {\"16\": 10, \"24\": 1, \"78\": 1}, \"8\": {\"18\": 1, \"8\": 7, \"11\": 2, \"0\": 1, \"76\": 1}, \"127\": {\"127\": 12}, \"46\": {\"46\": 9, \"90\": 1}, \"84\": {\"84\": 12}, \"18\": {\"18\": 12}, \"123\": {\"123\": 8, \"50\": 1, \"67\": 1}, \"56\": {\"76\": 1, \"56\": 5, \"34\": 1, \"1\": 2, \"3\": 2, \"107\": 1}, \"26\": {\"26\": 12}, \"14\": {\"109\": 1, \"14\": 7, \"3\": 2, \"43\": 1, \"27\": 1}, \"109\": {\"109\": 7, \"88\": 1, \"108\": 2, \"78\": 2}, \"66\": {\"66\": 5, \"47\": 2, \"19\": 1, \"73\": 1, \"55\": 1, \"64\": 2}, \"24\": {\"24\": 11, \"88\": 1}, \"71\": {\"65\": 1, \"71\": 6, \"95\": 1, \"84\": 2, \"40\": 2}, \"65\": {\"65\": 10, \"25\": 1, \"17\": 1}, \"75\": {\"56\": 2, \"75\": 7, \"54\": 2, \"21\": 1}, \"111\": {\"111\": 12}, \"30\": {\"30\": 12}, \"85\": {\"45\": 1, \"85\": 7, \"67\": 2, \"59\": 1, \"66\": 1}, \"113\": {\"113\": 7, \"32\": 2, \"88\": 1}, \"45\": {\"45\": 8, \"85\": 3, \"66\": 1}, \"29\": {\"29\": 7, \"58\": 1, \"128\": 1, \"17\": 1, \"77\": 1, \"67\": 1}, \"20\": {\"18\": 1, \"20\": 8, \"44\": 3}, \"25\": {\"25\": 8, \"103\": 2, \"29\": 2}, \"0\": {\"0\": 8, \"126\": 1, \"12\": 2, \"11\": 1}, \"68\": {\"68\": 11, \"128\": 1}, \"119\": {\"81\": 2, \"119\": 5, \"116\": 3, \"48\": 2}, \"90\": {\"99\": 1, \"90\": 9, \"63\": 1, \"92\": 1}, \"38\": {\"38\": 10, \"37\": 1, \"55\": 1}, \"99\": {\"99\": 8, \"90\": 1, \"63\": 1, \"81\": 1, \"44\": 1}, \"1\": {\"1\": 12}, \"67\": {\"85\": 1, \"81\": 2, \"67\": 6, \"109\": 1, \"42\": 1, \"75\": 1}, \"63\": {\"63\": 11, \"81\": 1}, \"34\": {\"28\": 1, \"34\": 9, \"128\": 1, \"1\": 1}, \"108\": {\"108\": 11, \"8\": 1}, \"40\": {\"40\": 11, \"62\": 1}, \"47\": {\"33\": 2, \"59\": 1, \"47\": 5, \"107\": 1, \"73\": 1, \"34\": 2}, \"37\": {\"37\": 10, \"22\": 2}, \"78\": {\"21\": 3, \"78\": 9}, \"96\": {\"96\": 8, \"72\": 2, \"1\": 1, \"60\": 1}, \"43\": {\"43\": 11, \"21\": 1}, \"5\": {\"5\": 9, \"86\": 1}, \"124\": {\"124\": 8, \"5\": 1, \"104\": 1, \"41\": 1, \"129\": 1}, \"44\": {\"44\": 12}, \"41\": {\"42\": 1, \"124\": 2, \"41\": 7, \"8\": 1, \"102\": 1}, \"116\": {\"116\": 10, \"37\": 1, \"119\": 1}, \"19\": {\"89\": 1, \"64\": 3, \"19\": 7, \"41\": 1}, \"115\": {\"115\": 4, \"65\": 1, \"119\": 1, \"2\": 1, \"79\": 1, \"80\": 4}, \"95\": {\"95\": 5, \"3\": 1, \"70\": 1, \"7\": 1, \"40\": 2, \"84\": 1, \"98\": 1}, \"3\": {\"95\": 4, \"3\": 6}, \"59\": {\"86\": 2, \"59\": 5, \"104\": 3, \"91\": 2}, \"55\": {\"55\": 8, \"38\": 1, \"100\": 1, \"89\": 1, \"44\": 1}, \"70\": {\"70\": 10, \"126\": 1, \"109\": 1}, \"6\": {\"6\": 12}, \"2\": {\"2\": 10, \"119\": 1, \"117\": 1}, \"48\": {\"48\": 6, \"2\": 1, \"119\": 3, \"42\": 1, \"115\": 1}, \"23\": {\"84\": 1, \"122\": 2, \"23\": 6, \"96\": 1, \"69\": 1, \"26\": 1}, \"7\": {\"7\": 11, \"12\": 1}, \"122\": {\"122\": 12}, \"57\": {\"57\": 8, \"108\": 1, \"89\": 1, \"83\": 1, \"30\": 1}, \"39\": {\"39\": 8, \"70\": 2}, \"79\": {\"79\": 11, \"86\": 1}, \"27\": {\"27\": 10}, \"74\": {\"74\": 6, \"70\": 1, \"76\": 1, \"128\": 1, \"78\": 1, \"8\": 1, \"47\": 1}, \"73\": {\"73\": 9, \"53\": 1, \"76\": 1, \"56\": 1}, \"62\": {\"62\": 12}, \"107\": {\"107\": 10, \"47\": 1, \"100\": 1}, \"128\": {\"53\": 2, \"128\": 6, \"58\": 1, \"31\": 1, \"33\": 2}, \"60\": {\"16\": 1, \"60\": 9, \"74\": 1, \"113\": 1}, \"114\": {\"34\": 2, \"114\": 9, \"49\": 1}, \"22\": {\"121\": 2, \"22\": 7, \"48\": 1, \"116\": 1, \"37\": 1}, \"93\": {\"93\": 11, \"40\": 1}, \"94\": {\"94\": 11, \"88\": 1}, \"31\": {\"31\": 8, \"45\": 1, \"76\": 1}, \"104\": {\"111\": 1, \"104\": 8, \"29\": 1, \"41\": 1, \"67\": 1}, \"58\": {\"58\": 9, \"9\": 2, \"68\": 1}}, \"C_A_2\": {\"14\": {\"14\": 12}, \"22\": {\"22\": 12}, \"9\": {\"9\": 10, \"48\": 1, \"8\": 1}, \"47\": {\"47\": 12}, \"13\": {\"13\": 12}, \"8\": {\"8\": 10, \"41\": 1, \"9\": 1}, \"7\": {\"7\": 8, \"49\": 1, \"23\": 1, \"42\": 2}, \"49\": {\"49\": 8, \"42\": 1, \"32\": 1, \"39\": 1, \"54\": 1}, \"20\": {\"20\": 12}, \"16\": {\"16\": 11, \"15\": 1}, \"34\": {\"34\": 9, \"53\": 1, \"26\": 1, \"19\": 1}, \"56\": {\"56\": 11, \"22\": 1}, \"38\": {\"38\": 10}, \"4\": {\"4\": 9, \"2\": 1, \"57\": 1, \"41\": 1}, \"43\": {\"43\": 10}, \"26\": {\"34\": 1, \"26\": 7, \"53\": 2}, \"35\": {\"35\": 4, \"36\": 2, \"23\": 2, \"51\": 2, \"32\": 2}, \"31\": {\"31\": 12}, \"1\": {\"1\": 11, \"47\": 1}, \"39\": {\"39\": 11, \"55\": 1}, \"5\": {\"5\": 12}, \"24\": {\"24\": 12}, \"54\": {\"54\": 10}, \"23\": {\"23\": 9, \"51\": 1, \"54\": 1, \"49\": 1}, \"51\": {\"51\": 11, \"42\": 1}, \"27\": {\"27\": 10}, \"15\": {\"15\": 8, \"11\": 3, \"16\": 1}, \"0\": {\"0\": 12}, \"19\": {\"19\": 8, \"26\": 2}, \"18\": {\"18\": 8}, \"30\": {\"30\": 11, \"52\": 1}, \"55\": {\"39\": 2, \"55\": 8}, \"57\": {\"57\": 11, \"52\": 1}, \"2\": {\"2\": 11, \"33\": 1}, \"12\": {\"12\": 7, \"44\": 1}, \"41\": {\"41\": 7, \"1\": 1, \"57\": 1, \"2\": 1, \"33\": 2}, \"42\": {\"42\": 9, \"34\": 2, \"49\": 1}, \"48\": {\"48\": 11, \"29\": 1}, \"37\": {\"37\": 9, \"39\": 1, \"55\": 1, \"13\": 1}, \"6\": {\"6\": 6, \"45\": 1, \"50\": 1, \"3\": 2}, \"11\": {\"15\": 2, \"11\": 8}, \"45\": {\"45\": 6, \"50\": 1, \"3\": 1}, \"21\": {\"21\": 12}, \"46\": {\"46\": 8, \"50\": 1, \"3\": 1}, \"25\": {\"25\": 12}, \"36\": {\"36\": 10}, \"53\": {\"53\": 12}, \"28\": {\"28\": 12}, \"40\": {\"40\": 10}, \"33\": {\"48\": 3, \"33\": 5, \"2\": 1, \"29\": 1}, \"44\": {\"3\": 2, \"44\": 8}, \"3\": {\"3\": 7, \"44\": 4, \"6\": 1}, \"17\": {\"17\": 12}, \"32\": {\"32\": 9, \"36\": 1}, \"10\": {\"10\": 10}, \"52\": {\"52\": 10}, \"50\": {\"50\": 8}, \"29\": {\"29\": 3, \"57\": 1, \"52\": 1, \"33\": 1}}}, \"per_domain_accuracy\": {\"ORACLE.run2_14\": {\"accuracy\": 0.9440104166666666, \"source?\": true}, \"ORACLE.run2_20\": {\"accuracy\": 0.9247395833333333, \"source?\": true}, \"ORACLE.run2_38\": {\"accuracy\": 0.9083333333333333, \"source?\": true}, \"ORACLE.run2_8\": {\"accuracy\": 0.9653645833333333, \"source?\": true}, \"ORACLE.run2_50\": {\"accuracy\": 0.9645833333333333, \"source?\": true}, \"ORACLE.run2_32\": {\"accuracy\": 0.9611979166666667, \"source?\": true}, \"ORACLE.run2_26\": {\"accuracy\": 0.9028645833333333, \"source?\": true}, \"ORACLE.run2_44\": {\"accuracy\": 0.9341145833333333, \"source?\": true}, \"C_A_3\": {\"accuracy\": 0.8609375, \"source?\": false}, \"C_A_4\": {\"accuracy\": 0.83125, \"source?\": false}, \"W_A_3\": {\"accuracy\": 0.701171875, \"source?\": false}, \"C_A_5\": {\"accuracy\": 0.8859375, \"source?\": false}, \"C_A_1\": {\"accuracy\": 0.890625, \"source?\": false}, \"W_A_4\": {\"accuracy\": 0.693359375, \"source?\": false}, \"W_A_1\": {\"accuracy\": 0.7493489583333334, \"source?\": false}, \"W_A_2\": {\"accuracy\": 0.7298177083333334, \"source?\": false}, \"C_A_2\": {\"accuracy\": 0.8640625, \"source?\": false}}}, \"history\": {\"epoch_indices\": [1, 2, 3, 4, 5, 6, 7, 8, 9], \"train_label_loss\": [0.3856328172381923, 2.8495140636438183, 0.25235190059167856, 0.21693583999772922, 0.19095205371974902, 0.21601819978899411, 0.18174309464434157, 0.17406293701995829, 0.15749117607634355], \"source_val_label_loss\": [873.4481811523438, 0.296033650636673, 0.24906879663467407, 0.2084653079509735, 0.19891557097434998, 0.20365725457668304, 0.22867213189601898, 0.18914425373077393, 0.16765019297599792], \"target_val_label_loss\": [75205.796875, 14898.2861328125, 13230.0517578125, 9963.6171875, 9086.91015625, 16718.07421875, 16753.369140625, 18098.69921875, 19311.67578125], \"source_val_acc_label\": [0.6996419270833333, 0.9062174479166667, 0.91884765625, 0.9333984375, 0.9381510416666666, 0.9377604166666667, 0.9227213541666667, 0.93623046875, 0.9444010416666667], \"target_val_acc_label\": [0.5880779109589042, 0.7152183219178082, 0.748394691780822, 0.7587756849315068, 0.7691566780821918, 0.5246147260273972, 0.5263270547945206, 0.513056506849315, 0.5248287671232876]}, \"dataset_metrics\": {\"source\": {\"train\": {\"n_unique_x\": 179200, \"n_unique_y\": 16, \"n_batch/episode\": 6720}, \"val\": {\"n_unique_x\": 38400, \"n_unique_y\": 16, \"n_batch/episode\": 960}, \"test\": {\"n_unique_x\": 38400, \"n_unique_y\": 16, \"n_batch/episode\": 960}}, \"target\": {\"train\": {\"n_unique_x\": 56700, \"n_unique_y\": 130, \"n_batch/episode\": 2080}, \"val\": {\"n_unique_x\": 12132, \"n_unique_y\": 130, \"n_batch/episode\": 292}, \"test\": {\"n_unique_x\": 12132, \"n_unique_y\": 130, \"n_batch/episode\": 292}}}}'"
      ]
     },
     "execution_count": 29,
     "metadata": {},
     "output_type": "execute_result"
    }
   ],
   "source": [
    "json.dumps(experiment)"
   ]
  }
 ],
 "metadata": {
  "celltoolbar": "Tags",
  "kernelspec": {
   "display_name": "Python 3 (ipykernel)",
   "language": "python",
   "name": "python3"
  },
  "language_info": {
   "codemirror_mode": {
    "name": "ipython",
    "version": 3
   },
   "file_extension": ".py",
   "mimetype": "text/x-python",
   "name": "python",
   "nbconvert_exporter": "python",
   "pygments_lexer": "ipython3",
   "version": "3.8.10"
  },
  "papermill": {
   "default_parameters": {},
   "duration": 1682.45285,
   "end_time": "2022-03-17T04:10:15.876624",
   "environment_variables": {},
   "exception": null,
   "input_path": "/mnt/wd500GB/CSC500/csc500-main/csc500-notebooks/templates/tl_ptn_template.ipynb",
   "output_path": "trial.ipynb",
   "parameters": {
    "parameters": {
     "BEST_MODEL_PATH": "./best_model.pth",
     "NUM_LOGS_PER_EPOCH": 10,
     "criteria_for_best": "target_loss",
     "dataset_seed": 1337,
     "datasets": [
      {
       "domain_prefix": "C_A_",
       "domains": [
        1,
        2,
        3,
        4,
        5
       ],
       "episode_transforms": [],
       "labels": [
        "1-10.",
        "1-11.",
        "1-15.",
        "1-16.",
        "1-17.",
        "1-18.",
        "1-19.",
        "10-4.",
        "10-7.",
        "11-1.",
        "11-14.",
        "11-17.",
        "11-20.",
        "11-7.",
        "13-20.",
        "13-8.",
        "14-10.",
        "14-11.",
        "14-14.",
        "14-7.",
        "15-1.",
        "15-20.",
        "16-1.",
        "16-16.",
        "17-10.",
        "17-11.",
        "17-2.",
        "19-1.",
        "19-16.",
        "19-19.",
        "19-20.",
        "19-3.",
        "2-10.",
        "2-11.",
        "2-17.",
        "2-18.",
        "2-20.",
        "2-3.",
        "2-4.",
        "2-5.",
        "2-6.",
        "2-7.",
        "2-8.",
        "3-13.",
        "3-18.",
        "3-3.",
        "4-1.",
        "4-10.",
        "4-11.",
        "4-19.",
        "5-5.",
        "6-15.",
        "7-10.",
        "7-14.",
        "8-18.",
        "8-20.",
        "8-3.",
        "8-8."
       ],
       "num_examples_per_domain_per_label": 100,
       "pickle_path": "/mnt/wd500GB/CSC500/csc500-main/datasets/cores.stratified_ds.2022A.pkl",
       "source_or_target_dataset": "target",
       "x_transforms": []
      },
      {
       "domain_prefix": "W_A_",
       "domains": [
        1,
        2,
        3,
        4
       ],
       "episode_transforms": [],
       "labels": [
        "1-10",
        "1-12",
        "1-14",
        "1-16",
        "1-18",
        "1-19",
        "1-8",
        "10-11",
        "10-17",
        "10-4",
        "10-7",
        "11-1",
        "11-10",
        "11-19",
        "11-20",
        "11-4",
        "11-7",
        "12-19",
        "12-20",
        "12-7",
        "13-14",
        "13-18",
        "13-19",
        "13-20",
        "13-3",
        "13-7",
        "14-10",
        "14-11",
        "14-12",
        "14-13",
        "14-14",
        "14-19",
        "14-20",
        "14-7",
        "14-8",
        "14-9",
        "15-1",
        "15-19",
        "15-6",
        "16-1",
        "16-16",
        "16-19",
        "16-20",
        "17-10",
        "17-11",
        "18-1",
        "18-10",
        "18-11",
        "18-12",
        "18-13",
        "18-14",
        "18-15",
        "18-16",
        "18-17",
        "18-19",
        "18-2",
        "18-20",
        "18-4",
        "18-5",
        "18-7",
        "18-8",
        "18-9",
        "19-1",
        "19-10",
        "19-11",
        "19-12",
        "19-13",
        "19-14",
        "19-15",
        "19-19",
        "19-2",
        "19-20",
        "19-3",
        "19-4",
        "19-6",
        "19-7",
        "19-8",
        "19-9",
        "2-1",
        "2-13",
        "2-15",
        "2-3",
        "2-4",
        "2-5",
        "2-6",
        "2-7",
        "2-8",
        "20-1",
        "20-12",
        "20-14",
        "20-15",
        "20-16",
        "20-18",
        "20-19",
        "20-20",
        "20-3",
        "20-4",
        "20-5",
        "20-7",
        "20-8",
        "3-1",
        "3-13",
        "3-18",
        "3-2",
        "3-8",
        "4-1",
        "4-10",
        "4-11",
        "5-1",
        "5-5",
        "6-1",
        "6-15",
        "6-6",
        "7-10",
        "7-11",
        "7-12",
        "7-13",
        "7-14",
        "7-7",
        "7-8",
        "7-9",
        "8-1",
        "8-13",
        "8-14",
        "8-18",
        "8-20",
        "8-3",
        "8-8",
        "9-1",
        "9-7"
       ],
       "num_examples_per_domain_per_label": 100,
       "pickle_path": "/mnt/wd500GB/CSC500/csc500-main/datasets/wisig.node3-19.stratified_ds.2022A.pkl",
       "source_or_target_dataset": "target",
       "x_transforms": []
      },
      {
       "domain_prefix": "ORACLE.run2_",
       "domains": [
        32,
        38,
        8,
        44,
        14,
        50,
        20,
        26
       ],
       "episode_transforms": [],
       "labels": [
        "3123D52",
        "3123D65",
        "3123D79",
        "3123D80",
        "3123D54",
        "3123D70",
        "3123D7B",
        "3123D89",
        "3123D58",
        "3123D76",
        "3123D7D",
        "3123EFE",
        "3123D64",
        "3123D78",
        "3123D7E",
        "3124E4A"
       ],
       "num_examples_per_domain_per_label": 2000,
       "pickle_path": "/mnt/wd500GB/CSC500/csc500-main/datasets/oracle.Run2_framed_2000Examples_stratified_ds.2022A.pkl",
       "source_or_target_dataset": "source",
       "x_transforms": []
      }
     ],
     "device": "cuda",
     "experiment_name": "oracle.run2.framed -> cores+wisig",
     "lr": 0.001,
     "n_epoch": 50,
     "n_query": 2,
     "n_shot": 3,
     "n_way": 16,
     "patience": 3,
     "seed": 1337,
     "test_k_factor": 2,
     "torch_default_dtype": "torch.float32",
     "train_k_factor": 3,
     "val_k_factor": 2,
     "x_net": [
      {
       "class": "nnReshape",
       "kargs": {
        "shape": [
         -1,
         1,
         2,
         256
        ]
       }
      },
      {
       "class": "Conv2d",
       "kargs": {
        "bias": false,
        "in_channels": 1,
        "kernel_size": [
         1,
         7
        ],
        "out_channels": 256,
        "padding": [
         0,
         3
        ]
       }
      },
      {
       "class": "ReLU",
       "kargs": {
        "inplace": true
       }
      },
      {
       "class": "BatchNorm2d",
       "kargs": {
        "num_features": 256
       }
      },
      {
       "class": "Conv2d",
       "kargs": {
        "bias": true,
        "in_channels": 256,
        "kernel_size": [
         2,
         7
        ],
        "out_channels": 80,
        "padding": [
         0,
         3
        ]
       }
      },
      {
       "class": "ReLU",
       "kargs": {
        "inplace": true
       }
      },
      {
       "class": "BatchNorm2d",
       "kargs": {
        "num_features": 80
       }
      },
      {
       "class": "Flatten",
       "kargs": {}
      },
      {
       "class": "Linear",
       "kargs": {
        "in_features": 20480,
        "out_features": 256
       }
      },
      {
       "class": "ReLU",
       "kargs": {
        "inplace": true
       }
      },
      {
       "class": "BatchNorm1d",
       "kargs": {
        "num_features": 256
       }
      },
      {
       "class": "Linear",
       "kargs": {
        "in_features": 256,
        "out_features": 256
       }
      }
     ]
    }
   },
   "start_time": "2022-03-17T03:42:13.423774",
   "version": "2.3.4"
  }
 },
 "nbformat": 4,
 "nbformat_minor": 5
}