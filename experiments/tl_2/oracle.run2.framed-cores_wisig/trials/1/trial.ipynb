{
 "cells": [
  {
   "cell_type": "markdown",
   "id": "9fea5f46",
   "metadata": {
    "papermill": {
     "duration": 0.018003,
     "end_time": "2022-03-17T03:22:23.979270",
     "exception": false,
     "start_time": "2022-03-17T03:22:23.961267",
     "status": "completed"
    },
    "tags": []
   },
   "source": [
    "# Transfer Learning Template"
   ]
  },
  {
   "cell_type": "code",
   "execution_count": 1,
   "id": "0902182a",
   "metadata": {
    "execution": {
     "iopub.execute_input": "2022-03-17T03:22:24.019466Z",
     "iopub.status.busy": "2022-03-17T03:22:24.018978Z",
     "iopub.status.idle": "2022-03-17T03:22:24.973486Z",
     "shell.execute_reply": "2022-03-17T03:22:24.973183Z"
    },
    "papermill": {
     "duration": 0.981446,
     "end_time": "2022-03-17T03:22:24.973555",
     "exception": false,
     "start_time": "2022-03-17T03:22:23.992109",
     "status": "completed"
    },
    "tags": []
   },
   "outputs": [],
   "source": [
    "%load_ext autoreload\n",
    "%autoreload 2\n",
    "%matplotlib inline\n",
    "\n",
    "    \n",
    "import os, json, sys, time, random\n",
    "import numpy as np\n",
    "import torch\n",
    "from torch.optim import Adam\n",
    "from  easydict import EasyDict\n",
    "import matplotlib.pyplot as plt\n",
    "\n",
    "from steves_models.steves_ptn import Steves_Prototypical_Network\n",
    "\n",
    "from steves_utils.lazy_iterable_wrapper import Lazy_Iterable_Wrapper\n",
    "from steves_utils.iterable_aggregator import Iterable_Aggregator\n",
    "from steves_utils.ptn_train_eval_test_jig import  PTN_Train_Eval_Test_Jig\n",
    "from steves_utils.torch_sequential_builder import build_sequential\n",
    "from steves_utils.torch_utils import get_dataset_metrics, ptn_confusion_by_domain_over_dataloader\n",
    "from steves_utils.utils_v2 import (per_domain_accuracy_from_confusion, get_datasets_base_path)\n",
    "from steves_utils.PTN.utils import independent_accuracy_assesment\n",
    "\n",
    "from torch.utils.data import DataLoader\n",
    "\n",
    "from steves_utils.stratified_dataset.episodic_accessor import Episodic_Accessor_Factory\n",
    "\n",
    "from steves_utils.ptn_do_report import (\n",
    "    get_loss_curve,\n",
    "    get_results_table,\n",
    "    get_parameters_table,\n",
    "    get_domain_accuracies,\n",
    ")\n",
    "\n",
    "from steves_utils.transforms import get_chained_transform"
   ]
  },
  {
   "cell_type": "markdown",
   "id": "41c840b4",
   "metadata": {
    "papermill": {
     "duration": 0.012752,
     "end_time": "2022-03-17T03:22:25.000187",
     "exception": false,
     "start_time": "2022-03-17T03:22:24.987435",
     "status": "completed"
    },
    "tags": []
   },
   "source": [
    "# Allowed Parameters\n",
    "These are allowed parameters, not defaults\n",
    "Each of these values need to be present in the injected parameters (the notebook will raise an exception if they are not present)\n",
    "\n",
    "Papermill uses the cell tag \"parameters\" to inject the real parameters below this cell.\n",
    "Enable tags to see what I mean"
   ]
  },
  {
   "cell_type": "code",
   "execution_count": 2,
   "id": "fd44eb83",
   "metadata": {
    "execution": {
     "iopub.execute_input": "2022-03-17T03:22:25.029197Z",
     "iopub.status.busy": "2022-03-17T03:22:25.028923Z",
     "iopub.status.idle": "2022-03-17T03:22:25.044081Z",
     "shell.execute_reply": "2022-03-17T03:22:25.043562Z"
    },
    "papermill": {
     "duration": 0.031158,
     "end_time": "2022-03-17T03:22:25.044184",
     "exception": false,
     "start_time": "2022-03-17T03:22:25.013026",
     "status": "completed"
    },
    "tags": []
   },
   "outputs": [],
   "source": [
    "required_parameters = {\n",
    "    \"experiment_name\",\n",
    "    \"lr\",\n",
    "    \"device\",\n",
    "    \"seed\",\n",
    "    \"dataset_seed\",\n",
    "    \"n_shot\",\n",
    "    \"n_query\",\n",
    "    \"n_way\",\n",
    "    \"train_k_factor\",\n",
    "    \"val_k_factor\",\n",
    "    \"test_k_factor\",\n",
    "    \"n_epoch\",\n",
    "    \"patience\",\n",
    "    \"criteria_for_best\",\n",
    "    \"x_net\",\n",
    "    \"datasets\",\n",
    "    \"torch_default_dtype\",\n",
    "    \"NUM_LOGS_PER_EPOCH\",\n",
    "    \"BEST_MODEL_PATH\",\n",
    "}"
   ]
  },
  {
   "cell_type": "code",
   "execution_count": 3,
   "id": "fa3f0049",
   "metadata": {
    "execution": {
     "iopub.execute_input": "2022-03-17T03:22:25.086822Z",
     "iopub.status.busy": "2022-03-17T03:22:25.077252Z",
     "iopub.status.idle": "2022-03-17T03:22:25.100504Z",
     "shell.execute_reply": "2022-03-17T03:22:25.100915Z"
    },
    "papermill": {
     "duration": 0.03829,
     "end_time": "2022-03-17T03:22:25.101044",
     "exception": false,
     "start_time": "2022-03-17T03:22:25.062754",
     "status": "completed"
    },
    "tags": [
     "parameters"
    ]
   },
   "outputs": [],
   "source": [
    "from steves_utils.CORES.utils import (\n",
    "    ALL_NODES,\n",
    "    ALL_NODES_MINIMUM_1000_EXAMPLES,\n",
    "    ALL_DAYS\n",
    ")\n",
    "\n",
    "from steves_utils.ORACLE.utils_v2 import (\n",
    "    ALL_DISTANCES_FEET_NARROWED,\n",
    "    ALL_RUNS,\n",
    "    ALL_SERIAL_NUMBERS,\n",
    ")\n",
    "\n",
    "standalone_parameters = {}\n",
    "standalone_parameters[\"experiment_name\"] = \"STANDALONE PTN\"\n",
    "standalone_parameters[\"lr\"] = 0.001\n",
    "standalone_parameters[\"device\"] = \"cuda\"\n",
    "\n",
    "standalone_parameters[\"seed\"] = 1337\n",
    "standalone_parameters[\"dataset_seed\"] = 1337\n",
    "\n",
    "standalone_parameters[\"n_way\"] = 8\n",
    "standalone_parameters[\"n_shot\"] = 3\n",
    "standalone_parameters[\"n_query\"]  = 2\n",
    "standalone_parameters[\"train_k_factor\"] = 1\n",
    "standalone_parameters[\"val_k_factor\"] = 2\n",
    "standalone_parameters[\"test_k_factor\"] = 2\n",
    "\n",
    "\n",
    "standalone_parameters[\"n_epoch\"] = 50\n",
    "\n",
    "standalone_parameters[\"patience\"] = 10\n",
    "standalone_parameters[\"criteria_for_best\"] = \"source_loss\"\n",
    "\n",
    "standalone_parameters[\"datasets\"] = [\n",
    "    {\n",
    "        \"labels\": ALL_SERIAL_NUMBERS,\n",
    "        \"domains\": ALL_DISTANCES_FEET_NARROWED,\n",
    "        \"num_examples_per_domain_per_label\": 100,\n",
    "        \"pickle_path\": os.path.join(get_datasets_base_path(), \"oracle.Run1_framed_2000Examples_stratified_ds.2022A.pkl\"),\n",
    "        \"source_or_target_dataset\": \"source\",\n",
    "        \"x_transforms\": [\"unit_mag\", \"minus_two\"],\n",
    "        \"episode_transforms\": [],\n",
    "        \"domain_prefix\": \"ORACLE_\"\n",
    "    },\n",
    "    {\n",
    "        \"labels\": ALL_NODES,\n",
    "        \"domains\": ALL_DAYS,\n",
    "        \"num_examples_per_domain_per_label\": 100,\n",
    "        \"pickle_path\": os.path.join(get_datasets_base_path(), \"cores.stratified_ds.2022A.pkl\"),\n",
    "        \"source_or_target_dataset\": \"target\",\n",
    "        \"x_transforms\": [\"unit_power\", \"times_zero\"],\n",
    "        \"episode_transforms\": [],\n",
    "        \"domain_prefix\": \"CORES_\"\n",
    "    }   \n",
    "]\n",
    "\n",
    "standalone_parameters[\"torch_default_dtype\"] = \"torch.float32\" \n",
    "\n",
    "\n",
    "\n",
    "standalone_parameters[\"x_net\"] =     [\n",
    "    {\"class\": \"nnReshape\", \"kargs\": {\"shape\":[-1, 1, 2, 256]}},\n",
    "    {\"class\": \"Conv2d\", \"kargs\": { \"in_channels\":1, \"out_channels\":256, \"kernel_size\":(1,7), \"bias\":False, \"padding\":(0,3), },},\n",
    "    {\"class\": \"ReLU\", \"kargs\": {\"inplace\": True}},\n",
    "    {\"class\": \"BatchNorm2d\", \"kargs\": {\"num_features\":256}},\n",
    "\n",
    "    {\"class\": \"Conv2d\", \"kargs\": { \"in_channels\":256, \"out_channels\":80, \"kernel_size\":(2,7), \"bias\":True, \"padding\":(0,3), },},\n",
    "    {\"class\": \"ReLU\", \"kargs\": {\"inplace\": True}},\n",
    "    {\"class\": \"BatchNorm2d\", \"kargs\": {\"num_features\":80}},\n",
    "    {\"class\": \"Flatten\", \"kargs\": {}},\n",
    "\n",
    "    {\"class\": \"Linear\", \"kargs\": {\"in_features\": 80*256, \"out_features\": 256}}, # 80 units per IQ pair\n",
    "    {\"class\": \"ReLU\", \"kargs\": {\"inplace\": True}},\n",
    "    {\"class\": \"BatchNorm1d\", \"kargs\": {\"num_features\":256}},\n",
    "\n",
    "    {\"class\": \"Linear\", \"kargs\": {\"in_features\": 256, \"out_features\": 256}},\n",
    "]\n",
    "\n",
    "# Parameters relevant to results\n",
    "# These parameters will basically never need to change\n",
    "standalone_parameters[\"NUM_LOGS_PER_EPOCH\"] = 10\n",
    "standalone_parameters[\"BEST_MODEL_PATH\"] = \"./best_model.pth\"\n",
    "\n",
    "\n",
    "\n",
    "\n"
   ]
  },
  {
   "cell_type": "code",
   "execution_count": 4,
   "id": "bde56908",
   "metadata": {
    "execution": {
     "iopub.execute_input": "2022-03-17T03:22:25.143967Z",
     "iopub.status.busy": "2022-03-17T03:22:25.143631Z",
     "iopub.status.idle": "2022-03-17T03:22:25.159704Z",
     "shell.execute_reply": "2022-03-17T03:22:25.160102Z"
    },
    "papermill": {
     "duration": 0.041278,
     "end_time": "2022-03-17T03:22:25.160230",
     "exception": false,
     "start_time": "2022-03-17T03:22:25.118952",
     "status": "completed"
    },
    "tags": [
     "injected-parameters"
    ]
   },
   "outputs": [],
   "source": [
    "# Parameters\n",
    "parameters = {\n",
    "    \"experiment_name\": \"oracle.run2.framed -> cores+wisig\",\n",
    "    \"device\": \"cuda\",\n",
    "    \"lr\": 0.001,\n",
    "    \"seed\": 1337,\n",
    "    \"dataset_seed\": 1337,\n",
    "    \"n_shot\": 3,\n",
    "    \"n_query\": 2,\n",
    "    \"train_k_factor\": 3,\n",
    "    \"val_k_factor\": 2,\n",
    "    \"test_k_factor\": 2,\n",
    "    \"torch_default_dtype\": \"torch.float32\",\n",
    "    \"n_epoch\": 50,\n",
    "    \"patience\": 3,\n",
    "    \"criteria_for_best\": \"target_loss\",\n",
    "    \"x_net\": [\n",
    "        {\"class\": \"nnReshape\", \"kargs\": {\"shape\": [-1, 1, 2, 256]}},\n",
    "        {\n",
    "            \"class\": \"Conv2d\",\n",
    "            \"kargs\": {\n",
    "                \"in_channels\": 1,\n",
    "                \"out_channels\": 256,\n",
    "                \"kernel_size\": [1, 7],\n",
    "                \"bias\": False,\n",
    "                \"padding\": [0, 3],\n",
    "            },\n",
    "        },\n",
    "        {\"class\": \"ReLU\", \"kargs\": {\"inplace\": True}},\n",
    "        {\"class\": \"BatchNorm2d\", \"kargs\": {\"num_features\": 256}},\n",
    "        {\n",
    "            \"class\": \"Conv2d\",\n",
    "            \"kargs\": {\n",
    "                \"in_channels\": 256,\n",
    "                \"out_channels\": 80,\n",
    "                \"kernel_size\": [2, 7],\n",
    "                \"bias\": True,\n",
    "                \"padding\": [0, 3],\n",
    "            },\n",
    "        },\n",
    "        {\"class\": \"ReLU\", \"kargs\": {\"inplace\": True}},\n",
    "        {\"class\": \"BatchNorm2d\", \"kargs\": {\"num_features\": 80}},\n",
    "        {\"class\": \"Flatten\", \"kargs\": {}},\n",
    "        {\"class\": \"Linear\", \"kargs\": {\"in_features\": 20480, \"out_features\": 256}},\n",
    "        {\"class\": \"ReLU\", \"kargs\": {\"inplace\": True}},\n",
    "        {\"class\": \"BatchNorm1d\", \"kargs\": {\"num_features\": 256}},\n",
    "        {\"class\": \"Linear\", \"kargs\": {\"in_features\": 256, \"out_features\": 256}},\n",
    "    ],\n",
    "    \"NUM_LOGS_PER_EPOCH\": 10,\n",
    "    \"BEST_MODEL_PATH\": \"./best_model.pth\",\n",
    "    \"n_way\": 16,\n",
    "    \"datasets\": [\n",
    "        {\n",
    "            \"labels\": [\n",
    "                \"1-10.\",\n",
    "                \"1-11.\",\n",
    "                \"1-15.\",\n",
    "                \"1-16.\",\n",
    "                \"1-17.\",\n",
    "                \"1-18.\",\n",
    "                \"1-19.\",\n",
    "                \"10-4.\",\n",
    "                \"10-7.\",\n",
    "                \"11-1.\",\n",
    "                \"11-14.\",\n",
    "                \"11-17.\",\n",
    "                \"11-20.\",\n",
    "                \"11-7.\",\n",
    "                \"13-20.\",\n",
    "                \"13-8.\",\n",
    "                \"14-10.\",\n",
    "                \"14-11.\",\n",
    "                \"14-14.\",\n",
    "                \"14-7.\",\n",
    "                \"15-1.\",\n",
    "                \"15-20.\",\n",
    "                \"16-1.\",\n",
    "                \"16-16.\",\n",
    "                \"17-10.\",\n",
    "                \"17-11.\",\n",
    "                \"17-2.\",\n",
    "                \"19-1.\",\n",
    "                \"19-16.\",\n",
    "                \"19-19.\",\n",
    "                \"19-20.\",\n",
    "                \"19-3.\",\n",
    "                \"2-10.\",\n",
    "                \"2-11.\",\n",
    "                \"2-17.\",\n",
    "                \"2-18.\",\n",
    "                \"2-20.\",\n",
    "                \"2-3.\",\n",
    "                \"2-4.\",\n",
    "                \"2-5.\",\n",
    "                \"2-6.\",\n",
    "                \"2-7.\",\n",
    "                \"2-8.\",\n",
    "                \"3-13.\",\n",
    "                \"3-18.\",\n",
    "                \"3-3.\",\n",
    "                \"4-1.\",\n",
    "                \"4-10.\",\n",
    "                \"4-11.\",\n",
    "                \"4-19.\",\n",
    "                \"5-5.\",\n",
    "                \"6-15.\",\n",
    "                \"7-10.\",\n",
    "                \"7-14.\",\n",
    "                \"8-18.\",\n",
    "                \"8-20.\",\n",
    "                \"8-3.\",\n",
    "                \"8-8.\",\n",
    "            ],\n",
    "            \"domains\": [1, 2, 3, 4, 5],\n",
    "            \"num_examples_per_domain_per_label\": 100,\n",
    "            \"pickle_path\": \"/mnt/wd500GB/CSC500/csc500-main/datasets/cores.stratified_ds.2022A.pkl\",\n",
    "            \"source_or_target_dataset\": \"target\",\n",
    "            \"x_transforms\": [\"unit_mag\"],\n",
    "            \"episode_transforms\": [],\n",
    "            \"domain_prefix\": \"C_A_\",\n",
    "        },\n",
    "        {\n",
    "            \"labels\": [\n",
    "                \"1-10\",\n",
    "                \"1-12\",\n",
    "                \"1-14\",\n",
    "                \"1-16\",\n",
    "                \"1-18\",\n",
    "                \"1-19\",\n",
    "                \"1-8\",\n",
    "                \"10-11\",\n",
    "                \"10-17\",\n",
    "                \"10-4\",\n",
    "                \"10-7\",\n",
    "                \"11-1\",\n",
    "                \"11-10\",\n",
    "                \"11-19\",\n",
    "                \"11-20\",\n",
    "                \"11-4\",\n",
    "                \"11-7\",\n",
    "                \"12-19\",\n",
    "                \"12-20\",\n",
    "                \"12-7\",\n",
    "                \"13-14\",\n",
    "                \"13-18\",\n",
    "                \"13-19\",\n",
    "                \"13-20\",\n",
    "                \"13-3\",\n",
    "                \"13-7\",\n",
    "                \"14-10\",\n",
    "                \"14-11\",\n",
    "                \"14-12\",\n",
    "                \"14-13\",\n",
    "                \"14-14\",\n",
    "                \"14-19\",\n",
    "                \"14-20\",\n",
    "                \"14-7\",\n",
    "                \"14-8\",\n",
    "                \"14-9\",\n",
    "                \"15-1\",\n",
    "                \"15-19\",\n",
    "                \"15-6\",\n",
    "                \"16-1\",\n",
    "                \"16-16\",\n",
    "                \"16-19\",\n",
    "                \"16-20\",\n",
    "                \"17-10\",\n",
    "                \"17-11\",\n",
    "                \"18-1\",\n",
    "                \"18-10\",\n",
    "                \"18-11\",\n",
    "                \"18-12\",\n",
    "                \"18-13\",\n",
    "                \"18-14\",\n",
    "                \"18-15\",\n",
    "                \"18-16\",\n",
    "                \"18-17\",\n",
    "                \"18-19\",\n",
    "                \"18-2\",\n",
    "                \"18-20\",\n",
    "                \"18-4\",\n",
    "                \"18-5\",\n",
    "                \"18-7\",\n",
    "                \"18-8\",\n",
    "                \"18-9\",\n",
    "                \"19-1\",\n",
    "                \"19-10\",\n",
    "                \"19-11\",\n",
    "                \"19-12\",\n",
    "                \"19-13\",\n",
    "                \"19-14\",\n",
    "                \"19-15\",\n",
    "                \"19-19\",\n",
    "                \"19-2\",\n",
    "                \"19-20\",\n",
    "                \"19-3\",\n",
    "                \"19-4\",\n",
    "                \"19-6\",\n",
    "                \"19-7\",\n",
    "                \"19-8\",\n",
    "                \"19-9\",\n",
    "                \"2-1\",\n",
    "                \"2-13\",\n",
    "                \"2-15\",\n",
    "                \"2-3\",\n",
    "                \"2-4\",\n",
    "                \"2-5\",\n",
    "                \"2-6\",\n",
    "                \"2-7\",\n",
    "                \"2-8\",\n",
    "                \"20-1\",\n",
    "                \"20-12\",\n",
    "                \"20-14\",\n",
    "                \"20-15\",\n",
    "                \"20-16\",\n",
    "                \"20-18\",\n",
    "                \"20-19\",\n",
    "                \"20-20\",\n",
    "                \"20-3\",\n",
    "                \"20-4\",\n",
    "                \"20-5\",\n",
    "                \"20-7\",\n",
    "                \"20-8\",\n",
    "                \"3-1\",\n",
    "                \"3-13\",\n",
    "                \"3-18\",\n",
    "                \"3-2\",\n",
    "                \"3-8\",\n",
    "                \"4-1\",\n",
    "                \"4-10\",\n",
    "                \"4-11\",\n",
    "                \"5-1\",\n",
    "                \"5-5\",\n",
    "                \"6-1\",\n",
    "                \"6-15\",\n",
    "                \"6-6\",\n",
    "                \"7-10\",\n",
    "                \"7-11\",\n",
    "                \"7-12\",\n",
    "                \"7-13\",\n",
    "                \"7-14\",\n",
    "                \"7-7\",\n",
    "                \"7-8\",\n",
    "                \"7-9\",\n",
    "                \"8-1\",\n",
    "                \"8-13\",\n",
    "                \"8-14\",\n",
    "                \"8-18\",\n",
    "                \"8-20\",\n",
    "                \"8-3\",\n",
    "                \"8-8\",\n",
    "                \"9-1\",\n",
    "                \"9-7\",\n",
    "            ],\n",
    "            \"domains\": [1, 2, 3, 4],\n",
    "            \"num_examples_per_domain_per_label\": 100,\n",
    "            \"pickle_path\": \"/mnt/wd500GB/CSC500/csc500-main/datasets/wisig.node3-19.stratified_ds.2022A.pkl\",\n",
    "            \"source_or_target_dataset\": \"target\",\n",
    "            \"x_transforms\": [\"unit_mag\"],\n",
    "            \"episode_transforms\": [],\n",
    "            \"domain_prefix\": \"W_A_\",\n",
    "        },\n",
    "        {\n",
    "            \"labels\": [\n",
    "                \"3123D52\",\n",
    "                \"3123D65\",\n",
    "                \"3123D79\",\n",
    "                \"3123D80\",\n",
    "                \"3123D54\",\n",
    "                \"3123D70\",\n",
    "                \"3123D7B\",\n",
    "                \"3123D89\",\n",
    "                \"3123D58\",\n",
    "                \"3123D76\",\n",
    "                \"3123D7D\",\n",
    "                \"3123EFE\",\n",
    "                \"3123D64\",\n",
    "                \"3123D78\",\n",
    "                \"3123D7E\",\n",
    "                \"3124E4A\",\n",
    "            ],\n",
    "            \"domains\": [32, 38, 8, 44, 14, 50, 20, 26],\n",
    "            \"num_examples_per_domain_per_label\": 2000,\n",
    "            \"pickle_path\": \"/mnt/wd500GB/CSC500/csc500-main/datasets/oracle.Run2_framed_2000Examples_stratified_ds.2022A.pkl\",\n",
    "            \"source_or_target_dataset\": \"source\",\n",
    "            \"x_transforms\": [\"unit_mag\"],\n",
    "            \"episode_transforms\": [],\n",
    "            \"domain_prefix\": \"ORACLE.run2_\",\n",
    "        },\n",
    "    ],\n",
    "}\n"
   ]
  },
  {
   "cell_type": "code",
   "execution_count": 5,
   "id": "8fa1cc33",
   "metadata": {
    "execution": {
     "iopub.execute_input": "2022-03-17T03:22:25.195352Z",
     "iopub.status.busy": "2022-03-17T03:22:25.192897Z",
     "iopub.status.idle": "2022-03-17T03:22:25.210881Z",
     "shell.execute_reply": "2022-03-17T03:22:25.211407Z"
    },
    "papermill": {
     "duration": 0.035007,
     "end_time": "2022-03-17T03:22:25.211546",
     "exception": false,
     "start_time": "2022-03-17T03:22:25.176539",
     "status": "completed"
    },
    "tags": []
   },
   "outputs": [],
   "source": [
    "# Set this to True if you want to run this template directly\n",
    "STANDALONE = False\n",
    "if STANDALONE:\n",
    "    print(\"parameters not injected, running with standalone_parameters\")\n",
    "    parameters = standalone_parameters\n",
    "\n",
    "if not 'parameters' in locals() and not 'parameters' in globals():\n",
    "    raise Exception(\"Parameter injection failed\")\n",
    "\n",
    "#Use an easy dict for all the parameters\n",
    "p = EasyDict(parameters)\n",
    "\n",
    "supplied_keys = set(p.keys())\n",
    "\n",
    "if  supplied_keys != required_parameters:\n",
    "    print(\"Parameters are incorrect\")\n",
    "    if len(supplied_keys - required_parameters)>0: print(\"Shouldn't have:\", str(supplied_keys - required_parameters))\n",
    "    if len(required_parameters - supplied_keys)>0: print(\"Need to have:\", str(required_parameters - supplied_keys))\n",
    "    raise RuntimeError(\"Parameters are incorrect\")\n",
    "\n"
   ]
  },
  {
   "cell_type": "code",
   "execution_count": 6,
   "id": "3a028d58",
   "metadata": {
    "execution": {
     "iopub.execute_input": "2022-03-17T03:22:25.246264Z",
     "iopub.status.busy": "2022-03-17T03:22:25.245992Z",
     "iopub.status.idle": "2022-03-17T03:22:25.262766Z",
     "shell.execute_reply": "2022-03-17T03:22:25.262295Z"
    },
    "papermill": {
     "duration": 0.032815,
     "end_time": "2022-03-17T03:22:25.262875",
     "exception": false,
     "start_time": "2022-03-17T03:22:25.230060",
     "status": "completed"
    },
    "tags": []
   },
   "outputs": [],
   "source": [
    "###################################\n",
    "# Set the RNGs and make it all deterministic\n",
    "###################################\n",
    "np.random.seed(p.seed)\n",
    "random.seed(p.seed)\n",
    "torch.manual_seed(p.seed)\n",
    "\n",
    "torch.use_deterministic_algorithms(True) "
   ]
  },
  {
   "cell_type": "code",
   "execution_count": 7,
   "id": "b691acf6",
   "metadata": {
    "execution": {
     "iopub.execute_input": "2022-03-17T03:22:25.295741Z",
     "iopub.status.busy": "2022-03-17T03:22:25.295480Z",
     "iopub.status.idle": "2022-03-17T03:22:25.311181Z",
     "shell.execute_reply": "2022-03-17T03:22:25.311639Z"
    },
    "papermill": {
     "duration": 0.031656,
     "end_time": "2022-03-17T03:22:25.311769",
     "exception": false,
     "start_time": "2022-03-17T03:22:25.280113",
     "status": "completed"
    },
    "tags": []
   },
   "outputs": [],
   "source": [
    "###########################################\n",
    "# The stratified datasets honor this\n",
    "###########################################\n",
    "torch.set_default_dtype(eval(p.torch_default_dtype))"
   ]
  },
  {
   "cell_type": "code",
   "execution_count": 8,
   "id": "b5fba671",
   "metadata": {
    "execution": {
     "iopub.execute_input": "2022-03-17T03:22:25.345001Z",
     "iopub.status.busy": "2022-03-17T03:22:25.344724Z",
     "iopub.status.idle": "2022-03-17T03:22:25.386322Z",
     "shell.execute_reply": "2022-03-17T03:22:25.386745Z"
    },
    "papermill": {
     "duration": 0.057535,
     "end_time": "2022-03-17T03:22:25.386876",
     "exception": false,
     "start_time": "2022-03-17T03:22:25.329341",
     "status": "completed"
    },
    "tags": []
   },
   "outputs": [],
   "source": [
    "###################################\n",
    "# Build the network(s)\n",
    "# Note: It's critical to do this AFTER setting the RNG\n",
    "###################################\n",
    "x_net = build_sequential(p.x_net)"
   ]
  },
  {
   "cell_type": "code",
   "execution_count": 9,
   "id": "5d7e61cc",
   "metadata": {
    "execution": {
     "iopub.execute_input": "2022-03-17T03:22:25.421504Z",
     "iopub.status.busy": "2022-03-17T03:22:25.421234Z",
     "iopub.status.idle": "2022-03-17T03:22:25.435742Z",
     "shell.execute_reply": "2022-03-17T03:22:25.436277Z"
    },
    "papermill": {
     "duration": 0.031008,
     "end_time": "2022-03-17T03:22:25.436420",
     "exception": false,
     "start_time": "2022-03-17T03:22:25.405412",
     "status": "completed"
    },
    "tags": []
   },
   "outputs": [],
   "source": [
    "start_time_secs = time.time()"
   ]
  },
  {
   "cell_type": "code",
   "execution_count": 10,
   "id": "c6b67dfd",
   "metadata": {
    "execution": {
     "iopub.execute_input": "2022-03-17T03:22:25.471827Z",
     "iopub.status.busy": "2022-03-17T03:22:25.471555Z",
     "iopub.status.idle": "2022-03-17T03:22:25.487086Z",
     "shell.execute_reply": "2022-03-17T03:22:25.487487Z"
    },
    "papermill": {
     "duration": 0.032076,
     "end_time": "2022-03-17T03:22:25.487656",
     "exception": false,
     "start_time": "2022-03-17T03:22:25.455580",
     "status": "completed"
    },
    "tags": []
   },
   "outputs": [],
   "source": [
    "p.domains_source = []\n",
    "p.domains_target = []\n",
    "\n",
    "\n",
    "train_original_source = []\n",
    "val_original_source   = []\n",
    "test_original_source  = []\n",
    "\n",
    "train_original_target = []\n",
    "val_original_target   = []\n",
    "test_original_target  = []"
   ]
  },
  {
   "cell_type": "code",
   "execution_count": 11,
   "id": "e3d9c3d3",
   "metadata": {
    "execution": {
     "iopub.execute_input": "2022-03-17T03:22:25.522016Z",
     "iopub.status.busy": "2022-03-17T03:22:25.521747Z",
     "iopub.status.idle": "2022-03-17T03:22:25.537073Z",
     "shell.execute_reply": "2022-03-17T03:22:25.537484Z"
    },
    "papermill": {
     "duration": 0.031565,
     "end_time": "2022-03-17T03:22:25.537610",
     "exception": false,
     "start_time": "2022-03-17T03:22:25.506045",
     "status": "completed"
    },
    "tags": []
   },
   "outputs": [],
   "source": [
    "# global_x_transform_func = lambda x: normalize(x.to(torch.get_default_dtype()), \"unit_power\") # unit_power, unit_mag\n",
    "# global_x_transform_func = lambda x: normalize(x, \"unit_power\") # unit_power, unit_mag"
   ]
  },
  {
   "cell_type": "code",
   "execution_count": 12,
   "id": "acb78fd2",
   "metadata": {
    "execution": {
     "iopub.execute_input": "2022-03-17T03:22:25.578342Z",
     "iopub.status.busy": "2022-03-17T03:22:25.578050Z",
     "iopub.status.idle": "2022-03-17T03:22:25.594688Z",
     "shell.execute_reply": "2022-03-17T03:22:25.594413Z"
    },
    "papermill": {
     "duration": 0.038349,
     "end_time": "2022-03-17T03:22:25.594751",
     "exception": false,
     "start_time": "2022-03-17T03:22:25.556402",
     "status": "completed"
    },
    "tags": []
   },
   "outputs": [],
   "source": [
    "def add_dataset(\n",
    "    labels,\n",
    "    domains,\n",
    "    pickle_path,\n",
    "    x_transforms,\n",
    "    episode_transforms,\n",
    "    domain_prefix,\n",
    "    num_examples_per_domain_per_label,\n",
    "    source_or_target_dataset:str,\n",
    "    iterator_seed=p.seed,\n",
    "    dataset_seed=p.dataset_seed,\n",
    "    n_shot=p.n_shot,\n",
    "    n_way=p.n_way,\n",
    "    n_query=p.n_query,\n",
    "    train_val_test_k_factors=(p.train_k_factor,p.val_k_factor,p.test_k_factor),\n",
    "):\n",
    "   \n",
    "    if x_transforms == []: x_transform = None\n",
    "    else: x_transform = get_chained_transform(x_transforms)\n",
    "    \n",
    "    if episode_transforms == []: episode_transform = None\n",
    "    else: raise Exception(\"episode_transforms not implemented\")\n",
    "    \n",
    "    episode_transform = lambda tup, _prefix=domain_prefix: (_prefix + str(tup[0]), tup[1])\n",
    "\n",
    "\n",
    "    eaf = Episodic_Accessor_Factory(\n",
    "        labels=labels,\n",
    "        domains=domains,\n",
    "        num_examples_per_domain_per_label=num_examples_per_domain_per_label,\n",
    "        iterator_seed=iterator_seed,\n",
    "        dataset_seed=dataset_seed,\n",
    "        n_shot=n_shot,\n",
    "        n_way=n_way,\n",
    "        n_query=n_query,\n",
    "        train_val_test_k_factors=train_val_test_k_factors,\n",
    "        pickle_path=pickle_path,\n",
    "        x_transform_func=x_transform,\n",
    "    )\n",
    "\n",
    "    train, val, test = eaf.get_train(), eaf.get_val(), eaf.get_test()\n",
    "    train = Lazy_Iterable_Wrapper(train, episode_transform)\n",
    "    val = Lazy_Iterable_Wrapper(val, episode_transform)\n",
    "    test = Lazy_Iterable_Wrapper(test, episode_transform)\n",
    "\n",
    "    if source_or_target_dataset==\"source\":\n",
    "        train_original_source.append(train)\n",
    "        val_original_source.append(val)\n",
    "        test_original_source.append(test)\n",
    "\n",
    "        p.domains_source.extend(\n",
    "            [domain_prefix + str(u) for u in domains]\n",
    "        )\n",
    "    elif source_or_target_dataset==\"target\":\n",
    "        train_original_target.append(train)\n",
    "        val_original_target.append(val)\n",
    "        test_original_target.append(test)\n",
    "        p.domains_target.extend(\n",
    "            [domain_prefix + str(u) for u in domains]\n",
    "        )\n",
    "    else:\n",
    "        raise Exception(f\"invalid source_or_target_dataset: {source_or_target_dataset}\")\n",
    "    "
   ]
  },
  {
   "cell_type": "code",
   "execution_count": 13,
   "id": "fe266617",
   "metadata": {
    "execution": {
     "iopub.execute_input": "2022-03-17T03:22:25.625687Z",
     "iopub.status.busy": "2022-03-17T03:22:25.625413Z",
     "iopub.status.idle": "2022-03-17T03:22:47.084811Z",
     "shell.execute_reply": "2022-03-17T03:22:47.085213Z"
    },
    "papermill": {
     "duration": 21.476469,
     "end_time": "2022-03-17T03:22:47.085350",
     "exception": false,
     "start_time": "2022-03-17T03:22:25.608881",
     "status": "completed"
    },
    "tags": []
   },
   "outputs": [],
   "source": [
    "for ds in p.datasets:\n",
    "    add_dataset(**ds)"
   ]
  },
  {
   "cell_type": "code",
   "execution_count": 14,
   "id": "b90d65ac",
   "metadata": {
    "execution": {
     "iopub.execute_input": "2022-03-17T03:22:47.120411Z",
     "iopub.status.busy": "2022-03-17T03:22:47.120138Z",
     "iopub.status.idle": "2022-03-17T03:22:47.137259Z",
     "shell.execute_reply": "2022-03-17T03:22:47.136825Z"
    },
    "papermill": {
     "duration": 0.032956,
     "end_time": "2022-03-17T03:22:47.137370",
     "exception": false,
     "start_time": "2022-03-17T03:22:47.104414",
     "status": "completed"
    },
    "tags": []
   },
   "outputs": [],
   "source": [
    "# from steves_utils.CORES.utils import (\n",
    "#     ALL_NODES,\n",
    "#     ALL_NODES_MINIMUM_1000_EXAMPLES,\n",
    "#     ALL_DAYS\n",
    "# )\n",
    "\n",
    "# add_dataset(\n",
    "#     labels=ALL_NODES,\n",
    "#     domains = ALL_DAYS,\n",
    "#     num_examples_per_domain_per_label=100,\n",
    "#     pickle_path=os.path.join(get_datasets_base_path(), \"cores.stratified_ds.2022A.pkl\"),\n",
    "#     source_or_target_dataset=\"target\",\n",
    "#     x_transform_func=global_x_transform_func,\n",
    "#     domain_modifier=lambda u: f\"cores_{u}\"\n",
    "# )"
   ]
  },
  {
   "cell_type": "code",
   "execution_count": 15,
   "id": "76db484d",
   "metadata": {
    "execution": {
     "iopub.execute_input": "2022-03-17T03:22:47.171904Z",
     "iopub.status.busy": "2022-03-17T03:22:47.171651Z",
     "iopub.status.idle": "2022-03-17T03:22:47.188072Z",
     "shell.execute_reply": "2022-03-17T03:22:47.188445Z"
    },
    "papermill": {
     "duration": 0.034002,
     "end_time": "2022-03-17T03:22:47.188564",
     "exception": false,
     "start_time": "2022-03-17T03:22:47.154562",
     "status": "completed"
    },
    "tags": []
   },
   "outputs": [],
   "source": [
    "# from steves_utils.ORACLE.utils_v2 import (\n",
    "#     ALL_DISTANCES_FEET,\n",
    "#     ALL_RUNS,\n",
    "#     ALL_SERIAL_NUMBERS,\n",
    "# )\n",
    "\n",
    "\n",
    "# add_dataset(\n",
    "#     labels=ALL_SERIAL_NUMBERS,\n",
    "#     domains = list(set(ALL_DISTANCES_FEET) - {2,62}),\n",
    "#     num_examples_per_domain_per_label=100,\n",
    "#     pickle_path=os.path.join(get_datasets_base_path(), \"oracle.Run2_framed_2000Examples_stratified_ds.2022A.pkl\"),\n",
    "#     source_or_target_dataset=\"source\",\n",
    "#     x_transform_func=global_x_transform_func,\n",
    "#     domain_modifier=lambda u: f\"oracle1_{u}\"\n",
    "# )\n"
   ]
  },
  {
   "cell_type": "code",
   "execution_count": 16,
   "id": "97dea9d2",
   "metadata": {
    "execution": {
     "iopub.execute_input": "2022-03-17T03:22:47.224273Z",
     "iopub.status.busy": "2022-03-17T03:22:47.223888Z",
     "iopub.status.idle": "2022-03-17T03:22:47.238895Z",
     "shell.execute_reply": "2022-03-17T03:22:47.238468Z"
    },
    "papermill": {
     "duration": 0.030558,
     "end_time": "2022-03-17T03:22:47.238979",
     "exception": false,
     "start_time": "2022-03-17T03:22:47.208421",
     "status": "completed"
    },
    "tags": []
   },
   "outputs": [],
   "source": [
    "# from steves_utils.ORACLE.utils_v2 import (\n",
    "#     ALL_DISTANCES_FEET,\n",
    "#     ALL_RUNS,\n",
    "#     ALL_SERIAL_NUMBERS,\n",
    "# )\n",
    "\n",
    "\n",
    "# add_dataset(\n",
    "#     labels=ALL_SERIAL_NUMBERS,\n",
    "#     domains = list(set(ALL_DISTANCES_FEET) - {2,62,56}),\n",
    "#     num_examples_per_domain_per_label=100,\n",
    "#     pickle_path=os.path.join(get_datasets_base_path(), \"oracle.Run2_framed_2000Examples_stratified_ds.2022A.pkl\"),\n",
    "#     source_or_target_dataset=\"source\",\n",
    "#     x_transform_func=global_x_transform_func,\n",
    "#     domain_modifier=lambda u: f\"oracle2_{u}\"\n",
    "# )"
   ]
  },
  {
   "cell_type": "code",
   "execution_count": 17,
   "id": "6f289866",
   "metadata": {
    "execution": {
     "iopub.execute_input": "2022-03-17T03:22:47.273704Z",
     "iopub.status.busy": "2022-03-17T03:22:47.273449Z",
     "iopub.status.idle": "2022-03-17T03:22:47.289791Z",
     "shell.execute_reply": "2022-03-17T03:22:47.289306Z"
    },
    "papermill": {
     "duration": 0.032253,
     "end_time": "2022-03-17T03:22:47.289889",
     "exception": false,
     "start_time": "2022-03-17T03:22:47.257636",
     "status": "completed"
    },
    "tags": []
   },
   "outputs": [],
   "source": [
    "# add_dataset(\n",
    "#     labels=list(range(19)),\n",
    "#     domains = [0,1,2],\n",
    "#     num_examples_per_domain_per_label=100,\n",
    "#     pickle_path=os.path.join(get_datasets_base_path(), \"metehan.stratified_ds.2022A.pkl\"),\n",
    "#     source_or_target_dataset=\"target\",\n",
    "#     x_transform_func=global_x_transform_func,\n",
    "#     domain_modifier=lambda u: f\"met_{u}\"\n",
    "# )"
   ]
  },
  {
   "cell_type": "code",
   "execution_count": 18,
   "id": "86a863c3",
   "metadata": {
    "execution": {
     "iopub.execute_input": "2022-03-17T03:22:47.325065Z",
     "iopub.status.busy": "2022-03-17T03:22:47.324806Z",
     "iopub.status.idle": "2022-03-17T03:22:47.340300Z",
     "shell.execute_reply": "2022-03-17T03:22:47.340717Z"
    },
    "papermill": {
     "duration": 0.031872,
     "end_time": "2022-03-17T03:22:47.340841",
     "exception": false,
     "start_time": "2022-03-17T03:22:47.308969",
     "status": "completed"
    },
    "tags": []
   },
   "outputs": [],
   "source": [
    "# # from steves_utils.wisig.utils import (\n",
    "# #     ALL_NODES_MINIMUM_100_EXAMPLES,\n",
    "# #     ALL_NODES_MINIMUM_500_EXAMPLES,\n",
    "# #     ALL_NODES_MINIMUM_1000_EXAMPLES,\n",
    "# #     ALL_DAYS\n",
    "# # )\n",
    "\n",
    "# import steves_utils.wisig.utils as wisig\n",
    "\n",
    "\n",
    "# add_dataset(\n",
    "#     labels=wisig.ALL_NODES_MINIMUM_100_EXAMPLES,\n",
    "#     domains = wisig.ALL_DAYS,\n",
    "#     num_examples_per_domain_per_label=100,\n",
    "#     pickle_path=os.path.join(get_datasets_base_path(), \"wisig.node3-19.stratified_ds.2022A.pkl\"),\n",
    "#     source_or_target_dataset=\"target\",\n",
    "#     x_transform_func=global_x_transform_func,\n",
    "#     domain_modifier=lambda u: f\"wisig_{u}\"\n",
    "# )"
   ]
  },
  {
   "cell_type": "code",
   "execution_count": 19,
   "id": "fd5442bc",
   "metadata": {
    "execution": {
     "iopub.execute_input": "2022-03-17T03:22:47.379241Z",
     "iopub.status.busy": "2022-03-17T03:22:47.378962Z",
     "iopub.status.idle": "2022-03-17T03:22:47.393566Z",
     "shell.execute_reply": "2022-03-17T03:22:47.393088Z"
    },
    "papermill": {
     "duration": 0.033376,
     "end_time": "2022-03-17T03:22:47.393671",
     "exception": false,
     "start_time": "2022-03-17T03:22:47.360295",
     "status": "completed"
    },
    "tags": []
   },
   "outputs": [],
   "source": [
    "###################################\n",
    "# Build the dataset\n",
    "###################################\n",
    "train_original_source = Iterable_Aggregator(train_original_source, p.seed)\n",
    "val_original_source = Iterable_Aggregator(val_original_source, p.seed)\n",
    "test_original_source = Iterable_Aggregator(test_original_source, p.seed)\n",
    "\n",
    "\n",
    "train_original_target = Iterable_Aggregator(train_original_target, p.seed)\n",
    "val_original_target = Iterable_Aggregator(val_original_target, p.seed)\n",
    "test_original_target = Iterable_Aggregator(test_original_target, p.seed)\n",
    "\n",
    "# For CNN We only use X and Y. And we only train on the source.\n",
    "# Properly form the data using a transform lambda and Lazy_Iterable_Wrapper. Finally wrap them in a dataloader\n",
    "\n",
    "transform_lambda = lambda ex: ex[1] # Original is (<domain>, <episode>) so we strip down to episode only\n",
    "\n",
    "train_processed_source = Lazy_Iterable_Wrapper(train_original_source, transform_lambda)\n",
    "val_processed_source   = Lazy_Iterable_Wrapper(val_original_source, transform_lambda)\n",
    "test_processed_source  = Lazy_Iterable_Wrapper(test_original_source, transform_lambda)\n",
    "\n",
    "train_processed_target = Lazy_Iterable_Wrapper(train_original_target, transform_lambda)\n",
    "val_processed_target   = Lazy_Iterable_Wrapper(val_original_target, transform_lambda)\n",
    "test_processed_target  = Lazy_Iterable_Wrapper(test_original_target, transform_lambda)\n",
    "\n",
    "datasets = EasyDict({\n",
    "    \"source\": {\n",
    "        \"original\": {\"train\":train_original_source, \"val\":val_original_source, \"test\":test_original_source},\n",
    "        \"processed\": {\"train\":train_processed_source, \"val\":val_processed_source, \"test\":test_processed_source}\n",
    "    },\n",
    "    \"target\": {\n",
    "        \"original\": {\"train\":train_original_target, \"val\":val_original_target, \"test\":test_original_target},\n",
    "        \"processed\": {\"train\":train_processed_target, \"val\":val_processed_target, \"test\":test_processed_target}\n",
    "    },\n",
    "})"
   ]
  },
  {
   "cell_type": "code",
   "execution_count": 20,
   "id": "5b3c01fc",
   "metadata": {
    "execution": {
     "iopub.execute_input": "2022-03-17T03:22:47.429348Z",
     "iopub.status.busy": "2022-03-17T03:22:47.429079Z",
     "iopub.status.idle": "2022-03-17T03:22:52.263896Z",
     "shell.execute_reply": "2022-03-17T03:22:52.264237Z"
    },
    "papermill": {
     "duration": 4.851106,
     "end_time": "2022-03-17T03:22:52.264349",
     "exception": false,
     "start_time": "2022-03-17T03:22:47.413243",
     "status": "completed"
    },
    "tags": []
   },
   "outputs": [
    {
     "name": "stdout",
     "output_type": "stream",
     "text": [
      "{'ORACLE.run2_32', 'ORACLE.run2_20', 'ORACLE.run2_26', 'ORACLE.run2_44', 'ORACLE.run2_14', 'ORACLE.run2_8', 'ORACLE.run2_50', 'ORACLE.run2_38'}\n"
     ]
    },
    {
     "name": "stdout",
     "output_type": "stream",
     "text": [
      "{'C_A_4', 'W_A_1', 'C_A_2', 'C_A_1', 'C_A_5', 'W_A_3', 'W_A_4', 'W_A_2', 'C_A_3'}\n"
     ]
    },
    {
     "name": "stdout",
     "output_type": "stream",
     "text": [
      "tensor([[[ 0.9296,  0.0939, -1.0517,  ...,  0.2911,  1.4179,  0.1502],\n",
      "         [ 0.3944,  1.1831, -0.4789,  ..., -0.9578, -0.0751, -1.0610]],\n",
      "\n",
      "        [[ 0.9965,  0.3760, -1.1469,  ..., -0.2538,  1.2410, -0.3666],\n",
      "         [ 0.0564,  1.0153, -0.1034,  ..., -1.2316, -0.6769, -1.0247]],\n",
      "\n",
      "        [[ 0.2116,  1.1347, -0.5866,  ..., -1.2694,  0.7597,  0.2308],\n",
      "         [-0.5770,  0.4135,  0.7309,  ..., -0.5385, -1.1155, -0.9328]],\n",
      "\n",
      "        ...,\n",
      "\n",
      "        [[ 0.0523, -1.2806,  0.2417,  ...,  1.2283, -0.3332,  0.0849],\n",
      "         [ 0.6729, -0.0719, -0.8167,  ...,  0.0000,  1.3132,  1.0258]],\n",
      "\n",
      "        [[ 0.7392, -0.5706, -0.9337,  ...,  1.1152,  0.9207, -0.3825],\n",
      "         [ 0.9596,  0.4409, -1.0115,  ..., -0.5511, -0.3890, -1.2903]],\n",
      "\n",
      "        [[ 0.3781, -0.7040, -0.4367,  ...,  1.1081,  1.1473,  0.7301],\n",
      "         [ 1.0821,  0.5150, -1.2907,  ..., -0.3259,  0.7040, -1.0821]]])\n"
     ]
    }
   ],
   "source": [
    "from steves_utils.transforms import get_average_magnitude, get_average_power\n",
    "\n",
    "print(set([u for u,_ in val_original_source]))\n",
    "print(set([u for u,_ in val_original_target]))\n",
    "\n",
    "s_x, s_y, q_x, q_y, _ = next(iter(train_processed_source))\n",
    "print(s_x)\n",
    "\n",
    "# for ds in [\n",
    "#     train_processed_source,\n",
    "#     val_processed_source,\n",
    "#     test_processed_source,\n",
    "#     train_processed_target,\n",
    "#     val_processed_target,\n",
    "#     test_processed_target\n",
    "# ]:\n",
    "#     for s_x, s_y, q_x, q_y, _ in ds:\n",
    "#         for X in (s_x, q_x):\n",
    "#             for x in X:\n",
    "#                 assert np.isclose(get_average_magnitude(x.numpy()), 1.0)\n",
    "#                 assert np.isclose(get_average_power(x.numpy()), 1.0)\n",
    "                "
   ]
  },
  {
   "cell_type": "code",
   "execution_count": 21,
   "id": "bbdacba1",
   "metadata": {
    "execution": {
     "iopub.execute_input": "2022-03-17T03:22:52.305645Z",
     "iopub.status.busy": "2022-03-17T03:22:52.305238Z",
     "iopub.status.idle": "2022-03-17T03:22:52.362547Z",
     "shell.execute_reply": "2022-03-17T03:22:52.362778Z"
    },
    "papermill": {
     "duration": 0.077499,
     "end_time": "2022-03-17T03:22:52.362860",
     "exception": false,
     "start_time": "2022-03-17T03:22:52.285361",
     "status": "completed"
    },
    "tags": []
   },
   "outputs": [
    {
     "name": "stdout",
     "output_type": "stream",
     "text": [
      "(2, 256)\n"
     ]
    }
   ],
   "source": [
    "###################################\n",
    "# Build the model\n",
    "###################################\n",
    "model = Steves_Prototypical_Network(x_net, device=p.device, x_shape=(2,256))\n",
    "optimizer = Adam(params=model.parameters(), lr=p.lr)"
   ]
  },
  {
   "cell_type": "code",
   "execution_count": 22,
   "id": "22b39ac5",
   "metadata": {
    "execution": {
     "iopub.execute_input": "2022-03-17T03:22:52.397110Z",
     "iopub.status.busy": "2022-03-17T03:22:52.396703Z",
     "iopub.status.idle": "2022-03-17T03:41:07.648325Z",
     "shell.execute_reply": "2022-03-17T03:41:07.648094Z"
    },
    "papermill": {
     "duration": 1095.268517,
     "end_time": "2022-03-17T03:41:07.648384",
     "exception": false,
     "start_time": "2022-03-17T03:22:52.379867",
     "status": "completed"
    },
    "tags": []
   },
   "outputs": [
    {
     "name": "stdout",
     "output_type": "stream",
     "text": [
      "epoch: 1, [batch: 1 / 6720], examples_per_second: 50.1489, train_label_loss: 2.8396, \n"
     ]
    },
    {
     "name": "stdout",
     "output_type": "stream",
     "text": [
      "epoch: 1, [batch: 672 / 6720], examples_per_second: 3285.8210, train_label_loss: 0.5454, \n"
     ]
    },
    {
     "name": "stdout",
     "output_type": "stream",
     "text": [
      "epoch: 1, [batch: 1344 / 6720], examples_per_second: 3267.5419, train_label_loss: 0.5288, \n"
     ]
    },
    {
     "name": "stdout",
     "output_type": "stream",
     "text": [
      "epoch: 1, [batch: 2016 / 6720], examples_per_second: 3259.0496, train_label_loss: 0.6206, \n"
     ]
    },
    {
     "name": "stdout",
     "output_type": "stream",
     "text": [
      "epoch: 1, [batch: 2688 / 6720], examples_per_second: 3185.5491, train_label_loss: 0.7611, \n"
     ]
    },
    {
     "name": "stdout",
     "output_type": "stream",
     "text": [
      "epoch: 1, [batch: 3360 / 6720], examples_per_second: 3232.4629, train_label_loss: 0.8251, \n"
     ]
    },
    {
     "name": "stdout",
     "output_type": "stream",
     "text": [
      "epoch: 1, [batch: 4032 / 6720], examples_per_second: 3219.9618, train_label_loss: 0.6054, \n"
     ]
    },
    {
     "name": "stdout",
     "output_type": "stream",
     "text": [
      "epoch: 1, [batch: 4704 / 6720], examples_per_second: 3194.4717, train_label_loss: 0.5449, \n"
     ]
    },
    {
     "name": "stdout",
     "output_type": "stream",
     "text": [
      "epoch: 1, [batch: 5376 / 6720], examples_per_second: 3090.1276, train_label_loss: 0.4096, \n"
     ]
    },
    {
     "name": "stdout",
     "output_type": "stream",
     "text": [
      "epoch: 1, [batch: 6048 / 6720], examples_per_second: 2959.0432, train_label_loss: 0.8106, \n"
     ]
    },
    {
     "name": "stdout",
     "output_type": "stream",
     "text": [
      "=============================================================\n",
      "epoch: 1, source_val_acc_label: 0.6496, target_val_acc_label: 0.6055, source_val_label_loss: 40.6080, target_val_label_loss: 743.0785, \n",
      "=============================================================\n"
     ]
    },
    {
     "name": "stdout",
     "output_type": "stream",
     "text": [
      "New best\n"
     ]
    },
    {
     "name": "stdout",
     "output_type": "stream",
     "text": [
      "epoch: 2, [batch: 1 / 6720], examples_per_second: 5.1373, train_label_loss: 140.1857, \n"
     ]
    },
    {
     "name": "stdout",
     "output_type": "stream",
     "text": [
      "epoch: 2, [batch: 672 / 6720], examples_per_second: 2952.3508, train_label_loss: 0.5712, \n"
     ]
    },
    {
     "name": "stdout",
     "output_type": "stream",
     "text": [
      "epoch: 2, [batch: 1344 / 6720], examples_per_second: 3116.7636, train_label_loss: 0.5588, \n"
     ]
    },
    {
     "name": "stdout",
     "output_type": "stream",
     "text": [
      "epoch: 2, [batch: 2016 / 6720], examples_per_second: 3207.9119, train_label_loss: 0.4829, \n"
     ]
    },
    {
     "name": "stdout",
     "output_type": "stream",
     "text": [
      "epoch: 2, [batch: 2688 / 6720], examples_per_second: 2985.9609, train_label_loss: 0.5170, \n"
     ]
    },
    {
     "name": "stdout",
     "output_type": "stream",
     "text": [
      "epoch: 2, [batch: 3360 / 6720], examples_per_second: 3062.3036, train_label_loss: 0.8331, \n"
     ]
    },
    {
     "name": "stdout",
     "output_type": "stream",
     "text": [
      "epoch: 2, [batch: 4032 / 6720], examples_per_second: 3012.3386, train_label_loss: 1.1932, \n"
     ]
    },
    {
     "name": "stdout",
     "output_type": "stream",
     "text": [
      "epoch: 2, [batch: 4704 / 6720], examples_per_second: 3119.9909, train_label_loss: 0.7156, \n"
     ]
    },
    {
     "name": "stdout",
     "output_type": "stream",
     "text": [
      "epoch: 2, [batch: 5376 / 6720], examples_per_second: 3071.5430, train_label_loss: 1.1813, \n"
     ]
    },
    {
     "name": "stdout",
     "output_type": "stream",
     "text": [
      "epoch: 2, [batch: 6048 / 6720], examples_per_second: 3078.2763, train_label_loss: 0.4890, \n"
     ]
    },
    {
     "name": "stdout",
     "output_type": "stream",
     "text": [
      "=============================================================\n",
      "epoch: 2, source_val_acc_label: 0.7886, target_val_acc_label: 0.7070, source_val_label_loss: 0.6258, target_val_label_loss: 48.5497, \n",
      "=============================================================\n"
     ]
    },
    {
     "name": "stdout",
     "output_type": "stream",
     "text": [
      "New best\n"
     ]
    },
    {
     "name": "stdout",
     "output_type": "stream",
     "text": [
      "epoch: 3, [batch: 1 / 6720], examples_per_second: 5.3019, train_label_loss: 0.7312, \n"
     ]
    },
    {
     "name": "stdout",
     "output_type": "stream",
     "text": [
      "epoch: 3, [batch: 672 / 6720], examples_per_second: 3061.8770, train_label_loss: 0.2916, \n"
     ]
    },
    {
     "name": "stdout",
     "output_type": "stream",
     "text": [
      "epoch: 3, [batch: 1344 / 6720], examples_per_second: 3077.8302, train_label_loss: 0.4102, \n"
     ]
    },
    {
     "name": "stdout",
     "output_type": "stream",
     "text": [
      "epoch: 3, [batch: 2016 / 6720], examples_per_second: 3074.5398, train_label_loss: 0.4972, \n"
     ]
    },
    {
     "name": "stdout",
     "output_type": "stream",
     "text": [
      "epoch: 3, [batch: 2688 / 6720], examples_per_second: 3073.9283, train_label_loss: 0.4398, \n"
     ]
    },
    {
     "name": "stdout",
     "output_type": "stream",
     "text": [
      "epoch: 3, [batch: 3360 / 6720], examples_per_second: 3085.2945, train_label_loss: 0.7341, \n"
     ]
    },
    {
     "name": "stdout",
     "output_type": "stream",
     "text": [
      "epoch: 3, [batch: 4032 / 6720], examples_per_second: 3094.9827, train_label_loss: 0.8131, \n"
     ]
    },
    {
     "name": "stdout",
     "output_type": "stream",
     "text": [
      "epoch: 3, [batch: 4704 / 6720], examples_per_second: 3074.2783, train_label_loss: 0.4841, \n"
     ]
    },
    {
     "name": "stdout",
     "output_type": "stream",
     "text": [
      "epoch: 3, [batch: 5376 / 6720], examples_per_second: 3086.5861, train_label_loss: 0.4054, \n"
     ]
    },
    {
     "name": "stdout",
     "output_type": "stream",
     "text": [
      "epoch: 3, [batch: 6048 / 6720], examples_per_second: 3084.7240, train_label_loss: 0.2256, \n"
     ]
    },
    {
     "name": "stdout",
     "output_type": "stream",
     "text": [
      "=============================================================\n",
      "epoch: 3, source_val_acc_label: 0.8127, target_val_acc_label: 0.6255, source_val_label_loss: 0.5422, target_val_label_loss: 192.4199, \n",
      "=============================================================\n"
     ]
    },
    {
     "name": "stdout",
     "output_type": "stream",
     "text": [
      "epoch: 4, [batch: 1 / 6720], examples_per_second: 5.2977, train_label_loss: 0.1856, \n"
     ]
    },
    {
     "name": "stdout",
     "output_type": "stream",
     "text": [
      "epoch: 4, [batch: 672 / 6720], examples_per_second: 3086.0650, train_label_loss: 0.2317, \n"
     ]
    },
    {
     "name": "stdout",
     "output_type": "stream",
     "text": [
      "epoch: 4, [batch: 1344 / 6720], examples_per_second: 3073.9546, train_label_loss: 0.7663, \n"
     ]
    },
    {
     "name": "stdout",
     "output_type": "stream",
     "text": [
      "epoch: 4, [batch: 2016 / 6720], examples_per_second: 3072.5927, train_label_loss: 0.6486, \n"
     ]
    },
    {
     "name": "stdout",
     "output_type": "stream",
     "text": [
      "epoch: 4, [batch: 2688 / 6720], examples_per_second: 3063.2391, train_label_loss: 0.1973, \n"
     ]
    },
    {
     "name": "stdout",
     "output_type": "stream",
     "text": [
      "epoch: 4, [batch: 3360 / 6720], examples_per_second: 3107.3347, train_label_loss: 0.1512, \n"
     ]
    },
    {
     "name": "stdout",
     "output_type": "stream",
     "text": [
      "epoch: 4, [batch: 4032 / 6720], examples_per_second: 3095.7575, train_label_loss: 0.6518, \n"
     ]
    },
    {
     "name": "stdout",
     "output_type": "stream",
     "text": [
      "epoch: 4, [batch: 4704 / 6720], examples_per_second: 3085.0045, train_label_loss: 0.4997, \n"
     ]
    },
    {
     "name": "stdout",
     "output_type": "stream",
     "text": [
      "epoch: 4, [batch: 5376 / 6720], examples_per_second: 3091.6805, train_label_loss: 0.5141, \n"
     ]
    },
    {
     "name": "stdout",
     "output_type": "stream",
     "text": [
      "epoch: 4, [batch: 6048 / 6720], examples_per_second: 3088.2298, train_label_loss: 0.5714, \n"
     ]
    },
    {
     "name": "stdout",
     "output_type": "stream",
     "text": [
      "=============================================================\n",
      "epoch: 4, source_val_acc_label: 0.8429, target_val_acc_label: 0.5595, source_val_label_loss: 0.4660, target_val_label_loss: 303.6930, \n",
      "=============================================================\n"
     ]
    },
    {
     "name": "stdout",
     "output_type": "stream",
     "text": [
      "epoch: 5, [batch: 1 / 6720], examples_per_second: 5.2585, train_label_loss: 0.2666, \n"
     ]
    },
    {
     "name": "stdout",
     "output_type": "stream",
     "text": [
      "epoch: 5, [batch: 672 / 6720], examples_per_second: 3082.5257, train_label_loss: 0.1782, \n"
     ]
    },
    {
     "name": "stdout",
     "output_type": "stream",
     "text": [
      "epoch: 5, [batch: 1344 / 6720], examples_per_second: 3133.4222, train_label_loss: 0.4830, \n"
     ]
    },
    {
     "name": "stdout",
     "output_type": "stream",
     "text": [
      "epoch: 5, [batch: 2016 / 6720], examples_per_second: 3291.7283, train_label_loss: 0.6341, \n"
     ]
    },
    {
     "name": "stdout",
     "output_type": "stream",
     "text": [
      "epoch: 5, [batch: 2688 / 6720], examples_per_second: 3298.0693, train_label_loss: 0.4374, \n"
     ]
    },
    {
     "name": "stdout",
     "output_type": "stream",
     "text": [
      "epoch: 5, [batch: 3360 / 6720], examples_per_second: 3320.4585, train_label_loss: 0.6768, \n"
     ]
    },
    {
     "name": "stdout",
     "output_type": "stream",
     "text": [
      "epoch: 5, [batch: 4032 / 6720], examples_per_second: 3316.7140, train_label_loss: 0.5788, \n"
     ]
    },
    {
     "name": "stdout",
     "output_type": "stream",
     "text": [
      "epoch: 5, [batch: 4704 / 6720], examples_per_second: 3300.0752, train_label_loss: 0.2171, \n"
     ]
    },
    {
     "name": "stdout",
     "output_type": "stream",
     "text": [
      "epoch: 5, [batch: 5376 / 6720], examples_per_second: 3304.9811, train_label_loss: 0.7254, \n"
     ]
    },
    {
     "name": "stdout",
     "output_type": "stream",
     "text": [
      "epoch: 5, [batch: 6048 / 6720], examples_per_second: 3337.3370, train_label_loss: 0.2643, \n"
     ]
    },
    {
     "name": "stdout",
     "output_type": "stream",
     "text": [
      "=============================================================\n",
      "epoch: 5, source_val_acc_label: 0.8430, target_val_acc_label: 0.5824, source_val_label_loss: 0.4574, target_val_label_loss: 323.0164, \n",
      "=============================================================\n"
     ]
    },
    {
     "name": "stdout",
     "output_type": "stream",
     "text": [
      "epoch: 6, [batch: 1 / 6720], examples_per_second: 5.6958, train_label_loss: 0.4106, \n"
     ]
    },
    {
     "name": "stdout",
     "output_type": "stream",
     "text": [
      "epoch: 6, [batch: 672 / 6720], examples_per_second: 3321.0694, train_label_loss: 0.6358, \n"
     ]
    },
    {
     "name": "stdout",
     "output_type": "stream",
     "text": [
      "epoch: 6, [batch: 1344 / 6720], examples_per_second: 3321.6587, train_label_loss: 0.4531, \n"
     ]
    },
    {
     "name": "stdout",
     "output_type": "stream",
     "text": [
      "epoch: 6, [batch: 2016 / 6720], examples_per_second: 3325.7875, train_label_loss: 0.2249, \n"
     ]
    },
    {
     "name": "stdout",
     "output_type": "stream",
     "text": [
      "epoch: 6, [batch: 2688 / 6720], examples_per_second: 3322.7258, train_label_loss: 0.9835, \n"
     ]
    },
    {
     "name": "stdout",
     "output_type": "stream",
     "text": [
      "epoch: 6, [batch: 3360 / 6720], examples_per_second: 3328.3876, train_label_loss: 0.5862, \n"
     ]
    },
    {
     "name": "stdout",
     "output_type": "stream",
     "text": [
      "epoch: 6, [batch: 4032 / 6720], examples_per_second: 3345.1965, train_label_loss: 0.5089, \n"
     ]
    },
    {
     "name": "stdout",
     "output_type": "stream",
     "text": [
      "epoch: 6, [batch: 4704 / 6720], examples_per_second: 3320.3077, train_label_loss: 0.2875, \n"
     ]
    },
    {
     "name": "stdout",
     "output_type": "stream",
     "text": [
      "epoch: 6, [batch: 5376 / 6720], examples_per_second: 3334.9206, train_label_loss: 0.0739, \n"
     ]
    },
    {
     "name": "stdout",
     "output_type": "stream",
     "text": [
      "epoch: 6, [batch: 6048 / 6720], examples_per_second: 3330.5881, train_label_loss: 0.1385, \n"
     ]
    },
    {
     "name": "stdout",
     "output_type": "stream",
     "text": [
      "=============================================================\n",
      "epoch: 6, source_val_acc_label: 0.8517, target_val_acc_label: 0.6431, source_val_label_loss: 0.4251, target_val_label_loss: 428.4622, \n",
      "=============================================================\n"
     ]
    },
    {
     "name": "stdout",
     "output_type": "stream",
     "text": [
      "Patience (3) exhausted\n"
     ]
    }
   ],
   "source": [
    "###################################\n",
    "# train\n",
    "###################################\n",
    "jig = PTN_Train_Eval_Test_Jig(model, p.BEST_MODEL_PATH, p.device)\n",
    "\n",
    "jig.train(\n",
    "    train_iterable=datasets.source.processed.train,\n",
    "    source_val_iterable=datasets.source.processed.val,\n",
    "    target_val_iterable=datasets.target.processed.val,\n",
    "    num_epochs=p.n_epoch,\n",
    "    num_logs_per_epoch=p.NUM_LOGS_PER_EPOCH,\n",
    "    patience=p.patience,\n",
    "    optimizer=optimizer,\n",
    "    criteria_for_best=p.criteria_for_best,\n",
    ")"
   ]
  },
  {
   "cell_type": "code",
   "execution_count": 23,
   "id": "31e8fabf",
   "metadata": {
    "execution": {
     "iopub.execute_input": "2022-03-17T03:41:07.703566Z",
     "iopub.status.busy": "2022-03-17T03:41:07.703311Z",
     "iopub.status.idle": "2022-03-17T03:41:07.717972Z",
     "shell.execute_reply": "2022-03-17T03:41:07.718341Z"
    },
    "papermill": {
     "duration": 0.043528,
     "end_time": "2022-03-17T03:41:07.718446",
     "exception": false,
     "start_time": "2022-03-17T03:41:07.674918",
     "status": "completed"
    },
    "tags": []
   },
   "outputs": [],
   "source": [
    "total_experiment_time_secs = time.time() - start_time_secs"
   ]
  },
  {
   "cell_type": "code",
   "execution_count": 24,
   "id": "87b9595b",
   "metadata": {
    "execution": {
     "iopub.execute_input": "2022-03-17T03:41:07.781415Z",
     "iopub.status.busy": "2022-03-17T03:41:07.781150Z",
     "iopub.status.idle": "2022-03-17T03:42:11.483175Z",
     "shell.execute_reply": "2022-03-17T03:42:11.483591Z"
    },
    "papermill": {
     "duration": 63.734474,
     "end_time": "2022-03-17T03:42:11.483720",
     "exception": false,
     "start_time": "2022-03-17T03:41:07.749246",
     "status": "completed"
    },
    "tags": []
   },
   "outputs": [],
   "source": [
    "###################################\n",
    "# Evaluate the model\n",
    "###################################\n",
    "source_test_label_accuracy, source_test_label_loss = jig.test(datasets.source.processed.test)\n",
    "target_test_label_accuracy, target_test_label_loss = jig.test(datasets.target.processed.test)\n",
    "\n",
    "source_val_label_accuracy, source_val_label_loss = jig.test(datasets.source.processed.val)\n",
    "target_val_label_accuracy, target_val_label_loss = jig.test(datasets.target.processed.val)\n",
    "\n",
    "history = jig.get_history()\n",
    "\n",
    "total_epochs_trained = len(history[\"epoch_indices\"])\n",
    "\n",
    "val_dl = Iterable_Aggregator((datasets.source.original.val,datasets.target.original.val))\n",
    "\n",
    "confusion = ptn_confusion_by_domain_over_dataloader(model, p.device, val_dl)\n",
    "per_domain_accuracy = per_domain_accuracy_from_confusion(confusion)\n",
    "\n",
    "# Add a key to per_domain_accuracy for if it was a source domain\n",
    "for domain, accuracy in per_domain_accuracy.items():\n",
    "    per_domain_accuracy[domain] = {\n",
    "        \"accuracy\": accuracy,\n",
    "        \"source?\": domain in p.domains_source\n",
    "    }\n",
    "\n",
    "# Do an independent accuracy assesment JUST TO BE SURE!\n",
    "# _source_test_label_accuracy = independent_accuracy_assesment(model, datasets.source.processed.test, p.device)\n",
    "# _target_test_label_accuracy = independent_accuracy_assesment(model, datasets.target.processed.test, p.device)\n",
    "# _source_val_label_accuracy = independent_accuracy_assesment(model, datasets.source.processed.val, p.device)\n",
    "# _target_val_label_accuracy = independent_accuracy_assesment(model, datasets.target.processed.val, p.device)\n",
    "\n",
    "# assert(_source_test_label_accuracy == source_test_label_accuracy)\n",
    "# assert(_target_test_label_accuracy == target_test_label_accuracy)\n",
    "# assert(_source_val_label_accuracy == source_val_label_accuracy)\n",
    "# assert(_target_val_label_accuracy == target_val_label_accuracy)\n",
    "\n",
    "experiment = {\n",
    "    \"experiment_name\": p.experiment_name,\n",
    "    \"parameters\": dict(p),\n",
    "    \"results\": {\n",
    "        \"source_test_label_accuracy\": source_test_label_accuracy,\n",
    "        \"source_test_label_loss\": source_test_label_loss,\n",
    "        \"target_test_label_accuracy\": target_test_label_accuracy,\n",
    "        \"target_test_label_loss\": target_test_label_loss,\n",
    "        \"source_val_label_accuracy\": source_val_label_accuracy,\n",
    "        \"source_val_label_loss\": source_val_label_loss,\n",
    "        \"target_val_label_accuracy\": target_val_label_accuracy,\n",
    "        \"target_val_label_loss\": target_val_label_loss,\n",
    "        \"total_epochs_trained\": total_epochs_trained,\n",
    "        \"total_experiment_time_secs\": total_experiment_time_secs,\n",
    "        \"confusion\": confusion,\n",
    "        \"per_domain_accuracy\": per_domain_accuracy,\n",
    "    },\n",
    "    \"history\": history,\n",
    "    \"dataset_metrics\": get_dataset_metrics(datasets, \"ptn\"),\n",
    "}"
   ]
  },
  {
   "cell_type": "code",
   "execution_count": 25,
   "id": "54a21829",
   "metadata": {
    "execution": {
     "iopub.execute_input": "2022-03-17T03:42:11.544395Z",
     "iopub.status.busy": "2022-03-17T03:42:11.544133Z",
     "iopub.status.idle": "2022-03-17T03:42:11.669793Z",
     "shell.execute_reply": "2022-03-17T03:42:11.670212Z"
    },
    "papermill": {
     "duration": 0.155538,
     "end_time": "2022-03-17T03:42:11.670343",
     "exception": false,
     "start_time": "2022-03-17T03:42:11.514805",
     "status": "completed"
    },
    "tags": []
   },
   "outputs": [
    {
     "data": {
      "image/png": "[encoded data removed]",
      "text/plain": [
       "<Figure size 1080x504 with 1 Axes>"
      ]
     },
     "metadata": {
      "needs_background": "light"
     },
     "output_type": "display_data"
    }
   ],
   "source": [
    "ax = get_loss_curve(experiment)\n",
    "plt.show()"
   ]
  },
  {
   "cell_type": "code",
   "execution_count": 26,
   "id": "fd8a0f60",
   "metadata": {
    "execution": {
     "iopub.execute_input": "2022-03-17T03:42:11.734681Z",
     "iopub.status.busy": "2022-03-17T03:42:11.734424Z",
     "iopub.status.idle": "2022-03-17T03:42:11.877195Z",
     "shell.execute_reply": "2022-03-17T03:42:11.876949Z"
    },
    "papermill": {
     "duration": 0.172469,
     "end_time": "2022-03-17T03:42:11.877258",
     "exception": false,
     "start_time": "2022-03-17T03:42:11.704789",
     "status": "completed"
    },
    "tags": []
   },
   "outputs": [
    {
     "data": {
      "text/plain": [
       "<AxesSubplot:title={'center':'Results'}>"
      ]
     },
     "execution_count": 26,
     "metadata": {},
     "output_type": "execute_result"
    },
    {
     "data": {
      "image/png": "[encoded data removed]",
      "text/plain": [
       "<Figure size 1080x504 with 1 Axes>"
      ]
     },
     "metadata": {
      "needs_background": "light"
     },
     "output_type": "display_data"
    }
   ],
   "source": [
    "get_results_table(experiment)"
   ]
  },
  {
   "cell_type": "code",
   "execution_count": 27,
   "id": "cf8dc689",
   "metadata": {
    "execution": {
     "iopub.execute_input": "2022-03-17T03:42:11.938845Z",
     "iopub.status.busy": "2022-03-17T03:42:11.938576Z",
     "iopub.status.idle": "2022-03-17T03:42:12.095410Z",
     "shell.execute_reply": "2022-03-17T03:42:12.095820Z"
    },
    "papermill": {
     "duration": 0.188779,
     "end_time": "2022-03-17T03:42:12.095951",
     "exception": false,
     "start_time": "2022-03-17T03:42:11.907172",
     "status": "completed"
    },
    "tags": []
   },
   "outputs": [
    {
     "data": {
      "text/plain": [
       "<AxesSubplot:title={'center':'Per Domain Validation Accuracy'}, xlabel='domain'>"
      ]
     },
     "execution_count": 27,
     "metadata": {},
     "output_type": "execute_result"
    },
    {
     "data": {
      "image/png": "[encoded data removed]",
      "text/plain": [
       "<Figure size 1080x504 with 1 Axes>"
      ]
     },
     "metadata": {
      "needs_background": "light"
     },
     "output_type": "display_data"
    }
   ],
   "source": [
    "get_domain_accuracies(experiment)"
   ]
  },
  {
   "cell_type": "code",
   "execution_count": 28,
   "id": "a74ae082",
   "metadata": {
    "execution": {
     "iopub.execute_input": "2022-03-17T03:42:12.164466Z",
     "iopub.status.busy": "2022-03-17T03:42:12.164206Z",
     "iopub.status.idle": "2022-03-17T03:42:12.181453Z",
     "shell.execute_reply": "2022-03-17T03:42:12.181863Z"
    },
    "papermill": {
     "duration": 0.050151,
     "end_time": "2022-03-17T03:42:12.181992",
     "exception": false,
     "start_time": "2022-03-17T03:42:12.131841",
     "status": "completed"
    },
    "tags": []
   },
   "outputs": [
    {
     "name": "stdout",
     "output_type": "stream",
     "text": [
      "Source Test Label Accuracy: 0.788671875 Target Test Label Accuracy: 0.7004494863013698\n",
      "Source Val Label Accuracy: 0.78857421875 Target Val Label Accuracy: 0.7069777397260274\n"
     ]
    }
   ],
   "source": [
    "print(\"Source Test Label Accuracy:\", experiment[\"results\"][\"source_test_label_accuracy\"], \"Target Test Label Accuracy:\", experiment[\"results\"][\"target_test_label_accuracy\"])\n",
    "print(\"Source Val Label Accuracy:\", experiment[\"results\"][\"source_val_label_accuracy\"], \"Target Val Label Accuracy:\", experiment[\"results\"][\"target_val_label_accuracy\"])"
   ]
  },
  {
   "cell_type": "code",
   "execution_count": 29,
   "id": "dacca602",
   "metadata": {
    "execution": {
     "iopub.execute_input": "2022-03-17T03:42:12.249195Z",
     "iopub.status.busy": "2022-03-17T03:42:12.248946Z",
     "iopub.status.idle": "2022-03-17T03:42:12.267932Z",
     "shell.execute_reply": "2022-03-17T03:42:12.268239Z"
    },
    "papermill": {
     "duration": 0.051089,
     "end_time": "2022-03-17T03:42:12.268338",
     "exception": false,
     "start_time": "2022-03-17T03:42:12.217249",
     "status": "completed"
    },
    "tags": [
     "experiment_json"
    ]
   },
   "outputs": [
    {
     "data": {
      "text/plain": [
       "'{\"experiment_name\": \"oracle.run2.framed -> cores+wisig\", \"parameters\": {\"experiment_name\": \"oracle.run2.framed -> cores+wisig\", \"device\": \"cuda\", \"lr\": 0.001, \"seed\": 1337, \"dataset_seed\": 1337, \"n_shot\": 3, \"n_query\": 2, \"train_k_factor\": 3, \"val_k_factor\": 2, \"test_k_factor\": 2, \"torch_default_dtype\": \"torch.float32\", \"n_epoch\": 50, \"patience\": 3, \"criteria_for_best\": \"target_loss\", \"x_net\": [{\"class\": \"nnReshape\", \"kargs\": {\"shape\": [-1, 1, 2, 256]}}, {\"class\": \"Conv2d\", \"kargs\": {\"in_channels\": 1, \"out_channels\": 256, \"kernel_size\": [1, 7], \"bias\": false, \"padding\": [0, 3]}}, {\"class\": \"ReLU\", \"kargs\": {\"inplace\": true}}, {\"class\": \"BatchNorm2d\", \"kargs\": {\"num_features\": 256}}, {\"class\": \"Conv2d\", \"kargs\": {\"in_channels\": 256, \"out_channels\": 80, \"kernel_size\": [2, 7], \"bias\": true, \"padding\": [0, 3]}}, {\"class\": \"ReLU\", \"kargs\": {\"inplace\": true}}, {\"class\": \"BatchNorm2d\", \"kargs\": {\"num_features\": 80}}, {\"class\": \"Flatten\", \"kargs\": {}}, {\"class\": \"Linear\", \"kargs\": {\"in_features\": 20480, \"out_features\": 256}}, {\"class\": \"ReLU\", \"kargs\": {\"inplace\": true}}, {\"class\": \"BatchNorm1d\", \"kargs\": {\"num_features\": 256}}, {\"class\": \"Linear\", \"kargs\": {\"in_features\": 256, \"out_features\": 256}}], \"NUM_LOGS_PER_EPOCH\": 10, \"BEST_MODEL_PATH\": \"./best_model.pth\", \"n_way\": 16, \"datasets\": [{\"labels\": [\"1-10.\", \"1-11.\", \"1-15.\", \"1-16.\", \"1-17.\", \"1-18.\", \"1-19.\", \"10-4.\", \"10-7.\", \"11-1.\", \"11-14.\", \"11-17.\", \"11-20.\", \"11-7.\", \"13-20.\", \"13-8.\", \"14-10.\", \"14-11.\", \"14-14.\", \"14-7.\", \"15-1.\", \"15-20.\", \"16-1.\", \"16-16.\", \"17-10.\", \"17-11.\", \"17-2.\", \"19-1.\", \"19-16.\", \"19-19.\", \"19-20.\", \"19-3.\", \"2-10.\", \"2-11.\", \"2-17.\", \"2-18.\", \"2-20.\", \"2-3.\", \"2-4.\", \"2-5.\", \"2-6.\", \"2-7.\", \"2-8.\", \"3-13.\", \"3-18.\", \"3-3.\", \"4-1.\", \"4-10.\", \"4-11.\", \"4-19.\", \"5-5.\", \"6-15.\", \"7-10.\", \"7-14.\", \"8-18.\", \"8-20.\", \"8-3.\", \"8-8.\"], \"domains\": [1, 2, 3, 4, 5], \"num_examples_per_domain_per_label\": 100, \"pickle_path\": \"/mnt/wd500GB/CSC500/csc500-main/datasets/cores.stratified_ds.2022A.pkl\", \"source_or_target_dataset\": \"target\", \"x_transforms\": [\"unit_mag\"], \"episode_transforms\": [], \"domain_prefix\": \"C_A_\"}, {\"labels\": [\"1-10\", \"1-12\", \"1-14\", \"1-16\", \"1-18\", \"1-19\", \"1-8\", \"10-11\", \"10-17\", \"10-4\", \"10-7\", \"11-1\", \"11-10\", \"11-19\", \"11-20\", \"11-4\", \"11-7\", \"12-19\", \"12-20\", \"12-7\", \"13-14\", \"13-18\", \"13-19\", \"13-20\", \"13-3\", \"13-7\", \"14-10\", \"14-11\", \"14-12\", \"14-13\", \"14-14\", \"14-19\", \"14-20\", \"14-7\", \"14-8\", \"14-9\", \"15-1\", \"15-19\", \"15-6\", \"16-1\", \"16-16\", \"16-19\", \"16-20\", \"17-10\", \"17-11\", \"18-1\", \"18-10\", \"18-11\", \"18-12\", \"18-13\", \"18-14\", \"18-15\", \"18-16\", \"18-17\", \"18-19\", \"18-2\", \"18-20\", \"18-4\", \"18-5\", \"18-7\", \"18-8\", \"18-9\", \"19-1\", \"19-10\", \"19-11\", \"19-12\", \"19-13\", \"19-14\", \"19-15\", \"19-19\", \"19-2\", \"19-20\", \"19-3\", \"19-4\", \"19-6\", \"19-7\", \"19-8\", \"19-9\", \"2-1\", \"2-13\", \"2-15\", \"2-3\", \"2-4\", \"2-5\", \"2-6\", \"2-7\", \"2-8\", \"20-1\", \"20-12\", \"20-14\", \"20-15\", \"20-16\", \"20-18\", \"20-19\", \"20-20\", \"20-3\", \"20-4\", \"20-5\", \"20-7\", \"20-8\", \"3-1\", \"3-13\", \"3-18\", \"3-2\", \"3-8\", \"4-1\", \"4-10\", \"4-11\", \"5-1\", \"5-5\", \"6-1\", \"6-15\", \"6-6\", \"7-10\", \"7-11\", \"7-12\", \"7-13\", \"7-14\", \"7-7\", \"7-8\", \"7-9\", \"8-1\", \"8-13\", \"8-14\", \"8-18\", \"8-20\", \"8-3\", \"8-8\", \"9-1\", \"9-7\"], \"domains\": [1, 2, 3, 4], \"num_examples_per_domain_per_label\": 100, \"pickle_path\": \"/mnt/wd500GB/CSC500/csc500-main/datasets/wisig.node3-19.stratified_ds.2022A.pkl\", \"source_or_target_dataset\": \"target\", \"x_transforms\": [\"unit_mag\"], \"episode_transforms\": [], \"domain_prefix\": \"W_A_\"}, {\"labels\": [\"3123D52\", \"3123D65\", \"3123D79\", \"3123D80\", \"3123D54\", \"3123D70\", \"3123D7B\", \"3123D89\", \"3123D58\", \"3123D76\", \"3123D7D\", \"3123EFE\", \"3123D64\", \"3123D78\", \"3123D7E\", \"3124E4A\"], \"domains\": [32, 38, 8, 44, 14, 50, 20, 26], \"num_examples_per_domain_per_label\": 2000, \"pickle_path\": \"/mnt/wd500GB/CSC500/csc500-main/datasets/oracle.Run2_framed_2000Examples_stratified_ds.2022A.pkl\", \"source_or_target_dataset\": \"source\", \"x_transforms\": [\"unit_mag\"], \"episode_transforms\": [], \"domain_prefix\": \"ORACLE.run2_\"}], \"domains_source\": [\"ORACLE.run2_32\", \"ORACLE.run2_38\", \"ORACLE.run2_8\", \"ORACLE.run2_44\", \"ORACLE.run2_14\", \"ORACLE.run2_50\", \"ORACLE.run2_20\", \"ORACLE.run2_26\"], \"domains_target\": [\"C_A_1\", \"C_A_2\", \"C_A_3\", \"C_A_4\", \"C_A_5\", \"W_A_1\", \"W_A_2\", \"W_A_3\", \"W_A_4\"]}, \"results\": {\"source_test_label_accuracy\": 0.788671875, \"source_test_label_loss\": 0.6289094090461731, \"target_test_label_accuracy\": 0.7004494863013698, \"target_test_label_loss\": 56.33645248413086, \"source_val_label_accuracy\": 0.78857421875, \"source_val_label_loss\": 0.6258087754249573, \"target_val_label_accuracy\": 0.7069777397260274, \"target_val_label_loss\": 48.5496826171875, \"total_epochs_trained\": 6, \"total_experiment_time_secs\": 1122.2824375629425, \"confusion\": {\"ORACLE.run2_14\": {\"15\": {\"15\": 240}, \"3\": {\"3\": 229, \"0\": 1, \"5\": 7, \"4\": 1, \"14\": 1, \"2\": 1}, \"6\": {\"6\": 200, \"13\": 38, \"14\": 1, \"2\": 1}, \"1\": {\"1\": 226, \"5\": 7, \"4\": 7}, \"8\": {\"8\": 240}, \"10\": {\"10\": 238, \"0\": 2}, \"9\": {\"9\": 240}, \"13\": {\"13\": 194, \"6\": 42, \"2\": 4}, \"12\": {\"12\": 144, \"9\": 31, \"11\": 42, \"8\": 6, \"0\": 17}, \"5\": {\"5\": 187, \"2\": 15, \"4\": 24, \"1\": 10, \"3\": 4}, \"0\": {\"0\": 240}, \"2\": {\"14\": 40, \"2\": 112, \"5\": 37, \"3\": 22, \"13\": 16, \"6\": 6, \"4\": 6, \"11\": 1}, \"11\": {\"11\": 240}, \"14\": {\"14\": 200, \"2\": 30, \"6\": 4, \"3\": 5, \"0\": 1}, \"7\": {\"7\": 240}, \"4\": {\"4\": 213, \"5\": 25, \"2\": 1, \"1\": 1}}, \"ORACLE.run2_20\": {\"3\": {\"3\": 155, \"9\": 22, \"5\": 5, \"2\": 39, \"12\": 4, \"7\": 13, \"4\": 2}, \"15\": {\"15\": 136, \"13\": 52, \"2\": 8, \"12\": 16, \"0\": 6, \"5\": 16, \"1\": 6}, \"8\": {\"4\": 7, \"8\": 192, \"14\": 21, \"7\": 18, \"6\": 2}, \"4\": {\"1\": 2, \"4\": 225, \"12\": 5, \"5\": 6, \"8\": 2}, \"14\": {\"14\": 204, \"6\": 23, \"8\": 13}, \"0\": {\"0\": 214, \"15\": 6, \"13\": 2, \"5\": 12, \"12\": 2, \"1\": 4}, \"7\": {\"7\": 222, \"5\": 2, \"3\": 6, \"8\": 9, \"2\": 1}, \"6\": {\"6\": 226, \"14\": 14}, \"10\": {\"10\": 237, \"6\": 2, \"14\": 1}, \"5\": {\"5\": 150, \"2\": 18, \"12\": 14, \"15\": 14, \"0\": 21, \"13\": 1, \"7\": 9, \"3\": 6, \"4\": 3, \"8\": 1, \"1\": 3}, \"2\": {\"15\": 9, \"2\": 120, \"12\": 23, \"9\": 34, \"5\": 11, \"3\": 41, \"13\": 2}, \"12\": {\"1\": 39, \"12\": 142, \"15\": 7, \"2\": 20, \"5\": 8, \"9\": 16, \"0\": 2, \"3\": 4, \"4\": 2}, \"9\": {\"9\": 147, \"2\": 55, \"3\": 24, \"12\": 9, \"5\": 1, \"1\": 4}, \"1\": {\"12\": 57, \"1\": 161, \"15\": 13, \"2\": 3, \"9\": 3, \"5\": 2, \"0\": 1}, \"11\": {\"11\": 240}, \"13\": {\"13\": 188, \"15\": 48, \"5\": 1, \"1\": 1, \"2\": 1, \"0\": 1}}, \"ORACLE.run2_38\": {\"5\": {\"5\": 112, \"10\": 4, \"7\": 19, \"15\": 23, \"8\": 79, \"13\": 3}, \"8\": {\"8\": 111, \"5\": 66, \"15\": 38, \"7\": 13, \"3\": 3, \"13\": 8, \"1\": 1}, \"11\": {\"11\": 190, \"14\": 27, \"12\": 9, \"2\": 3, \"4\": 10, \"10\": 1}, \"1\": {\"1\": 232, \"15\": 8}, \"10\": {\"7\": 75, \"10\": 149, \"5\": 9, \"8\": 5, \"13\": 2}, \"15\": {\"5\": 35, \"15\": 116, \"13\": 8, \"8\": 50, \"1\": 23, \"6\": 2, \"3\": 6}, \"3\": {\"0\": 62, \"3\": 81, \"8\": 22, \"15\": 15, \"10\": 9, \"13\": 24, \"5\": 7, \"6\": 8, \"9\": 4, \"7\": 8}, \"7\": {\"5\": 30, \"7\": 139, \"3\": 2, \"8\": 13, \"10\": 54, \"13\": 2}, \"4\": {\"4\": 238, \"12\": 2}, \"14\": {\"14\": 163, \"12\": 16, \"2\": 54, \"11\": 6, \"5\": 1}, \"9\": {\"9\": 197, \"6\": 43}, \"12\": {\"12\": 236, \"14\": 4}, \"6\": {\"6\": 204, \"9\": 36}, \"2\": {\"2\": 226, \"14\": 14}, \"0\": {\"3\": 35, \"0\": 201, \"8\": 1, \"10\": 3}, \"13\": {\"8\": 42, \"1\": 18, \"15\": 35, \"13\": 88, \"2\": 10, \"14\": 2, \"3\": 17, \"9\": 1, \"5\": 11, \"6\": 6, \"0\": 1, \"7\": 7, \"10\": 2}}, \"ORACLE.run2_8\": {\"9\": {\"9\": 240}, \"10\": {\"10\": 202, \"5\": 13, \"14\": 4, \"0\": 17, \"13\": 4}, \"13\": {\"13\": 215, \"14\": 16, \"10\": 6, \"1\": 3}, \"0\": {\"0\": 201, \"14\": 23, \"10\": 16}, \"1\": {\"1\": 235, \"13\": 4, \"5\": 1}, \"15\": {\"15\": 176, \"11\": 16, \"8\": 22, \"12\": 25, \"7\": 1}, \"5\": {\"10\": 26, \"5\": 214}, \"3\": {\"3\": 240}, \"6\": {\"6\": 163, \"4\": 48, \"7\": 29}, \"11\": {\"11\": 139, \"8\": 60, \"15\": 25, \"12\": 16}, \"8\": {\"11\": 13, \"8\": 215, \"13\": 1, \"15\": 11}, \"4\": {\"4\": 108, \"6\": 68, \"2\": 6, \"7\": 58}, \"12\": {\"12\": 215, \"15\": 22, \"3\": 3}, \"14\": {\"14\": 206, \"0\": 24, \"10\": 4, \"13\": 5, \"6\": 1}, \"2\": {\"2\": 206, \"7\": 20, \"4\": 13, \"6\": 1}, \"7\": {\"7\": 133, \"4\": 75, \"6\": 26, \"2\": 6}}, \"ORACLE.run2_50\": {\"7\": {\"7\": 128, \"5\": 10, \"13\": 93, \"10\": 8, \"4\": 1}, \"3\": {\"3\": 234, \"8\": 5, \"7\": 1}, \"8\": {\"8\": 237, \"3\": 3}, \"2\": {\"2\": 236, \"0\": 4}, \"14\": {\"14\": 240}, \"4\": {\"4\": 155, \"1\": 11, \"5\": 65, \"6\": 9}, \"6\": {\"6\": 183, \"4\": 18, \"1\": 29, \"5\": 9, \"15\": 1}, \"15\": {\"15\": 228, \"1\": 11, \"11\": 1}, \"10\": {\"10\": 216, \"7\": 6, \"0\": 1, \"13\": 15, \"5\": 2}, \"11\": {\"11\": 232, \"14\": 3, \"15\": 2, \"9\": 1, \"12\": 2}, \"13\": {\"7\": 80, \"13\": 125, \"5\": 7, \"10\": 28}, \"9\": {\"9\": 239, \"12\": 1}, \"0\": {\"0\": 225, \"2\": 11, \"10\": 4}, \"1\": {\"1\": 206, \"6\": 12, \"15\": 9, \"4\": 13}, \"12\": {\"12\": 235, \"9\": 1, \"14\": 4}, \"5\": {\"4\": 64, \"5\": 125, \"10\": 20, \"7\": 13, \"13\": 10, \"6\": 7, \"0\": 1}}, \"ORACLE.run2_32\": {\"8\": {\"8\": 203, \"0\": 17, \"5\": 3, \"13\": 10, \"7\": 1, \"3\": 5, \"4\": 1}, \"14\": {\"14\": 211, \"0\": 19, \"2\": 5, \"11\": 3, \"5\": 2}, \"2\": {\"14\": 1, \"2\": 228, \"5\": 3, \"4\": 6, \"7\": 2}, \"0\": {\"0\": 198, \"11\": 14, \"5\": 10, \"8\": 6, \"7\": 1, \"13\": 5, \"4\": 5, \"14\": 1}, \"1\": {\"1\": 239, \"10\": 1}, \"10\": {\"10\": 240}, \"11\": {\"11\": 179, \"0\": 17, \"7\": 30, \"14\": 2, \"13\": 4, \"4\": 6, \"5\": 2}, \"5\": {\"5\": 107, \"13\": 23, \"4\": 43, \"7\": 2, \"0\": 14, \"11\": 8, \"14\": 10, \"8\": 23, \"2\": 8, \"3\": 2}, \"15\": {\"15\": 238, \"8\": 2}, \"3\": {\"3\": 232, \"8\": 2, \"13\": 5, \"7\": 1}, \"12\": {\"12\": 240}, \"7\": {\"7\": 151, \"4\": 24, \"11\": 41, \"13\": 22, \"5\": 1, \"2\": 1}, \"13\": {\"4\": 46, \"7\": 14, \"13\": 166, \"5\": 2, \"11\": 7, \"0\": 3, \"8\": 2}, \"6\": {\"6\": 240}, \"4\": {\"5\": 21, \"4\": 155, \"13\": 42, \"7\": 11, \"0\": 2, \"11\": 5, \"2\": 3, \"8\": 1}, \"9\": {\"9\": 238, \"2\": 2}}, \"ORACLE.run2_26\": {\"4\": {\"4\": 169, \"0\": 20, \"15\": 8, \"8\": 8, \"2\": 14, \"3\": 8, \"14\": 10, \"7\": 3}, \"12\": {\"12\": 240}, \"10\": {\"10\": 100, \"6\": 18, \"14\": 28, \"0\": 52, \"8\": 27, \"1\": 1, \"3\": 1, \"5\": 1, \"4\": 9, \"15\": 2, \"2\": 1}, \"0\": {\"10\": 28, \"0\": 107, \"8\": 26, \"14\": 50, \"2\": 1, \"4\": 23, \"1\": 3, \"7\": 1, \"15\": 1}, \"13\": {\"13\": 202, \"5\": 32, \"9\": 5, \"6\": 1}, \"9\": {\"8\": 4, \"9\": 199, \"7\": 2, \"13\": 13, \"6\": 15, \"10\": 1, \"5\": 4, \"15\": 1, \"2\": 1}, \"3\": {\"3\": 188, \"2\": 16, \"7\": 15, \"15\": 15, \"4\": 6}, \"2\": {\"2\": 100, \"7\": 77, \"3\": 10, \"0\": 1, \"4\": 17, \"5\": 5, \"15\": 23, \"8\": 5, \"14\": 1, \"9\": 1}, \"5\": {\"13\": 54, \"8\": 8, \"5\": 107, \"2\": 17, \"15\": 1, \"9\": 8, \"7\": 34, \"6\": 6, \"3\": 4, \"4\": 1}, \"14\": {\"14\": 111, \"10\": 24, \"4\": 15, \"0\": 48, \"1\": 28, \"8\": 14}, \"8\": {\"4\": 14, \"8\": 141, \"10\": 10, \"9\": 5, \"7\": 18, \"14\": 10, \"2\": 14, \"0\": 19, \"5\": 7, \"13\": 1, \"15\": 1}, \"7\": {\"3\": 10, \"7\": 87, \"2\": 89, \"15\": 9, \"8\": 24, \"5\": 7, \"4\": 12, \"9\": 1, \"13\": 1}, \"6\": {\"6\": 219, \"9\": 17, \"8\": 1, \"10\": 1, \"5\": 1, \"13\": 1}, \"11\": {\"11\": 240}, \"15\": {\"2\": 25, \"15\": 187, \"7\": 8, \"4\": 5, \"3\": 14, \"8\": 1}, \"1\": {\"1\": 198, \"14\": 33, \"0\": 3, \"4\": 4, \"2\": 1, \"8\": 1}}, \"ORACLE.run2_44\": {\"12\": {\"12\": 160, \"1\": 72, \"3\": 8}, \"7\": {\"9\": 65, \"7\": 124, \"2\": 51}, \"5\": {\"5\": 218, \"14\": 21, \"15\": 1}, \"15\": {\"15\": 209, \"14\": 24, \"5\": 1, \"4\": 5, \"0\": 1}, \"8\": {\"0\": 91, \"8\": 147, \"5\": 1, \"15\": 1}, \"2\": {\"2\": 157, \"9\": 55, \"7\": 27, \"3\": 1}, \"13\": {\"13\": 234, \"4\": 3, \"6\": 3}, \"4\": {\"13\": 2, \"4\": 226, \"15\": 1, \"14\": 11}, \"0\": {\"8\": 95, \"0\": 145}, \"6\": {\"6\": 228, \"7\": 6, \"9\": 6}, \"9\": {\"2\": 71, \"7\": 60, \"9\": 106, \"6\": 3}, \"11\": {\"11\": 234, \"6\": 4, \"13\": 2}, \"10\": {\"10\": 236, \"12\": 2, \"1\": 2}, \"14\": {\"14\": 189, \"5\": 19, \"4\": 10, \"15\": 22}, \"1\": {\"1\": 149, \"12\": 79, \"3\": 12}, \"3\": {\"3\": 226, \"12\": 5, \"1\": 9}}, \"C_A_3\": {\"43\": {\"43\": 12}, \"9\": {\"9\": 11, \"46\": 1}, \"6\": {\"9\": 1, \"6\": 4, \"20\": 1, \"27\": 1, \"33\": 2, \"48\": 1}, \"3\": {\"3\": 10, \"9\": 1, \"42\": 1}, \"16\": {\"16\": 9, \"23\": 2, \"39\": 1}, \"51\": {\"51\": 11, \"2\": 1}, \"31\": {\"31\": 12}, \"46\": {\"46\": 7, \"9\": 1, \"25\": 1, \"3\": 1}, \"19\": {\"19\": 8}, \"8\": {\"8\": 12}, \"18\": {\"18\": 11, \"30\": 1}, \"37\": {\"37\": 12}, \"24\": {\"24\": 12}, \"10\": {\"10\": 11, \"43\": 1}, \"44\": {\"44\": 10}, \"14\": {\"43\": 1, \"14\": 3, \"5\": 3, \"56\": 1, \"15\": 1, \"1\": 2, \"34\": 1}, \"38\": {\"38\": 10}, \"53\": {\"53\": 12}, \"20\": {\"20\": 9, \"27\": 1, \"32\": 1, \"21\": 1}, \"32\": {\"32\": 11, \"20\": 1}, \"36\": {\"36\": 10}, \"33\": {\"33\": 12}, \"56\": {\"56\": 7, \"24\": 1, \"43\": 2, \"10\": 2}, \"23\": {\"23\": 8, \"57\": 1, \"16\": 1, \"47\": 2}, \"54\": {\"54\": 9, \"33\": 1}, \"34\": {\"34\": 10, \"1\": 2}, \"13\": {\"13\": 11, \"14\": 1}, \"2\": {\"2\": 12}, \"55\": {\"55\": 8, \"34\": 1, \"3\": 1}, \"21\": {\"21\": 10}, \"49\": {\"49\": 10}, \"25\": {\"25\": 5, \"54\": 1, \"20\": 1, \"30\": 2, \"32\": 1, \"33\": 2}, \"5\": {\"5\": 8, \"57\": 1, \"1\": 1, \"15\": 1, \"29\": 1}, \"50\": {\"25\": 1, \"50\": 5, \"36\": 1, \"17\": 1}, \"40\": {\"21\": 2, \"40\": 10}, \"57\": {\"57\": 4, \"15\": 2, \"23\": 1, \"1\": 1}, \"22\": {\"22\": 8, \"13\": 1, \"1\": 1}, \"1\": {\"1\": 9, \"34\": 1}, \"17\": {\"17\": 12}, \"41\": {\"18\": 1, \"41\": 5, \"30\": 2, \"33\": 1, \"48\": 2, \"52\": 1}, \"4\": {\"4\": 10}, \"7\": {\"7\": 9, \"15\": 1}, \"26\": {\"26\": 9, \"18\": 1}, \"29\": {\"29\": 12}, \"52\": {\"52\": 10, \"48\": 2}, \"15\": {\"15\": 9, \"7\": 1, \"5\": 2}, \"35\": {\"35\": 12}, \"42\": {\"29\": 1, \"42\": 7, \"9\": 2, \"41\": 2}, \"30\": {\"30\": 7, \"48\": 2, \"41\": 1}, \"27\": {\"27\": 8}, \"45\": {\"2\": 2, \"13\": 1, \"45\": 1, \"44\": 2, \"4\": 2, \"38\": 2}, \"0\": {\"0\": 11, \"28\": 1}, \"28\": {\"0\": 1, \"28\": 10, \"31\": 1}, \"47\": {\"47\": 8, \"5\": 2, \"26\": 1, \"16\": 1}, \"11\": {\"5\": 1, \"11\": 9}, \"39\": {\"39\": 10}, \"48\": {\"33\": 1, \"48\": 8, \"41\": 1, \"42\": 1, \"30\": 1}, \"12\": {\"12\": 8}}, \"C_A_4\": {\"35\": {\"35\": 10}, \"25\": {\"51\": 1, \"25\": 7, \"20\": 1, \"4\": 2, \"6\": 1}, \"24\": {\"38\": 1, \"24\": 8, \"43\": 1}, \"48\": {\"48\": 12}, \"51\": {\"51\": 12}, \"13\": {\"13\": 10, \"38\": 2}, \"14\": {\"14\": 2, \"32\": 1, \"24\": 1, \"38\": 2, \"2\": 2}, \"32\": {\"32\": 10, \"46\": 2}, \"30\": {\"30\": 8, \"17\": 1, \"21\": 3}, \"34\": {\"34\": 10}, \"9\": {\"9\": 12}, \"1\": {\"14\": 1, \"1\": 10, \"16\": 1}, \"0\": {\"0\": 11, \"35\": 1}, \"38\": {\"38\": 12}, \"22\": {\"24\": 1, \"14\": 1, \"22\": 5, \"41\": 1}, \"40\": {\"40\": 12}, \"39\": {\"39\": 9, \"11\": 1, \"57\": 1, \"37\": 1}, \"46\": {\"46\": 7, \"39\": 2, \"31\": 1, \"41\": 2}, \"36\": {\"36\": 12}, \"50\": {\"50\": 8, \"6\": 1, \"9\": 1, \"21\": 2}, \"49\": {\"49\": 12}, \"17\": {\"17\": 11, \"50\": 1}, \"45\": {\"45\": 10, \"21\": 2}, \"6\": {\"6\": 4, \"19\": 1, \"51\": 1, \"40\": 2, \"4\": 1, \"28\": 1, \"20\": 2}, \"8\": {\"8\": 12}, \"5\": {\"39\": 2, \"5\": 7, \"36\": 1}, \"33\": {\"33\": 8, \"31\": 1, \"44\": 1, \"40\": 2}, \"31\": {\"31\": 12}, \"37\": {\"37\": 10}, \"47\": {\"47\": 8}, \"15\": {\"15\": 6, \"16\": 1, \"49\": 3}, \"7\": {\"7\": 12}, \"20\": {\"20\": 12}, \"4\": {\"4\": 12}, \"54\": {\"54\": 12}, \"44\": {\"19\": 2, \"44\": 9, \"26\": 1}, \"3\": {\"25\": 1, \"3\": 7, \"48\": 3, \"28\": 1}, \"11\": {\"39\": 1, \"11\": 5, \"41\": 1, \"1\": 1, \"49\": 2}, \"27\": {\"27\": 10}, \"19\": {\"44\": 1, \"19\": 10, \"26\": 1}, \"55\": {\"55\": 9, \"26\": 1, \"4\": 2}, \"16\": {\"16\": 11, \"15\": 1}, \"2\": {\"2\": 10}, \"52\": {\"52\": 6, \"23\": 2, \"5\": 2}, \"42\": {\"52\": 1, \"42\": 8, \"34\": 1}, \"26\": {\"26\": 12}, \"10\": {\"2\": 1, \"10\": 5, \"43\": 3, \"56\": 2, \"13\": 1}, \"53\": {\"53\": 10}, \"28\": {\"28\": 10, \"53\": 1, \"25\": 1}, \"21\": {\"21\": 9, \"30\": 1}, \"57\": {\"46\": 1, \"57\": 6, \"32\": 1, \"16\": 2}, \"23\": {\"52\": 2, \"18\": 2, \"54\": 1, \"39\": 1, \"23\": 2}, \"43\": {\"10\": 2, \"0\": 1, \"43\": 7}, \"12\": {\"12\": 8, \"56\": 1, \"44\": 1, \"45\": 2}, \"41\": {\"41\": 11, \"5\": 1}, \"56\": {\"10\": 1, \"56\": 6, \"14\": 1}, \"18\": {\"18\": 9, \"23\": 1}, \"29\": {\"18\": 1, \"29\": 6, \"15\": 1}}, \"C_A_5\": {\"47\": {\"47\": 4, \"52\": 5, \"16\": 1}, \"53\": {\"53\": 12}, \"29\": {\"29\": 10, \"54\": 1, \"11\": 1}, \"52\": {\"52\": 8, \"47\": 1, \"42\": 1, \"39\": 1, \"57\": 1}, \"55\": {\"55\": 11, \"45\": 1}, \"17\": {\"17\": 10, \"30\": 2}, \"42\": {\"42\": 11, \"57\": 1}, \"33\": {\"33\": 10}, \"11\": {\"11\": 9, \"29\": 3}, \"19\": {\"19\": 8}, \"1\": {\"1\": 8, \"53\": 2, \"27\": 1, \"8\": 1}, \"44\": {\"44\": 12}, \"49\": {\"49\": 11, \"39\": 1}, \"4\": {\"4\": 10, \"45\": 2}, \"6\": {\"6\": 6, \"17\": 1, \"7\": 1, \"9\": 1, \"27\": 2, \"45\": 1}, \"39\": {\"39\": 11, \"49\": 1}, \"13\": {\"13\": 10, \"56\": 2}, \"5\": {\"5\": 9, \"25\": 1}, \"16\": {\"16\": 7, \"3\": 2, \"28\": 1}, \"25\": {\"25\": 5, \"8\": 1, \"5\": 1, \"50\": 2, \"33\": 2, \"51\": 1}, \"45\": {\"45\": 7, \"7\": 1, \"32\": 1, \"4\": 1, \"30\": 1, \"9\": 1}, \"7\": {\"7\": 10}, \"22\": {\"22\": 12}, \"40\": {\"40\": 9, \"33\": 2, \"44\": 1}, \"38\": {\"38\": 11, \"7\": 1}, \"35\": {\"35\": 8}, \"56\": {\"56\": 11, \"13\": 1}, \"50\": {\"50\": 3, \"20\": 2, \"5\": 1, \"25\": 2, \"21\": 2}, \"0\": {\"0\": 12}, \"10\": {\"10\": 11, \"56\": 1}, \"27\": {\"27\": 11, \"20\": 1}, \"20\": {\"20\": 8, \"27\": 1, \"32\": 1}, \"36\": {\"36\": 6, \"14\": 2}, \"34\": {\"34\": 12}, \"30\": {\"30\": 11, \"6\": 1}, \"2\": {\"2\": 5, \"57\": 2, \"37\": 1, \"29\": 1, \"16\": 1}, \"15\": {\"29\": 1, \"15\": 10, \"28\": 1}, \"18\": {\"18\": 9, \"41\": 3}, \"32\": {\"32\": 12}, \"31\": {\"31\": 12}, \"57\": {\"57\": 8, \"28\": 1, \"3\": 1, \"42\": 2}, \"48\": {\"32\": 2, \"48\": 6}, \"28\": {\"28\": 10}, \"14\": {\"3\": 1, \"39\": 3, \"14\": 3, \"41\": 3, \"0\": 2}, \"3\": {\"3\": 8, \"16\": 1, \"49\": 2, \"15\": 1}, \"8\": {\"8\": 9, \"20\": 1, \"1\": 2}, \"9\": {\"9\": 7, \"48\": 1, \"32\": 4}, \"21\": {\"21\": 10}, \"41\": {\"41\": 12}, \"24\": {\"24\": 11, \"0\": 1}, \"46\": {\"46\": 6, \"37\": 1, \"42\": 2, \"14\": 1}, \"43\": {\"43\": 9, \"15\": 1}, \"54\": {\"54\": 9, \"3\": 1}, \"23\": {\"23\": 8, \"18\": 1, \"39\": 1}, \"37\": {\"37\": 10}, \"12\": {\"12\": 9, \"38\": 1}, \"26\": {\"26\": 10}, \"51\": {\"51\": 6}}, \"W_A_3\": {\"109\": {\"44\": 1, \"109\": 6, \"80\": 2, \"29\": 1, \"33\": 2}, \"127\": {\"127\": 11, \"41\": 1}, \"14\": {\"14\": 7, \"44\": 1, \"115\": 2, \"20\": 2}, \"7\": {\"7\": 12}, \"129\": {\"129\": 9, \"87\": 1, \"1\": 1, \"82\": 1}, \"57\": {\"57\": 12}, \"84\": {\"84\": 8, \"29\": 1, \"26\": 1, \"121\": 1, \"49\": 1}, \"114\": {\"129\": 1, \"114\": 5, \"49\": 1, \"50\": 1, \"40\": 1, \"110\": 1, \"1\": 2}, \"44\": {\"44\": 7, \"109\": 1, \"1\": 1, \"102\": 1, \"29\": 1, \"80\": 1}, \"21\": {\"109\": 2, \"21\": 4, \"18\": 1, \"43\": 1, \"33\": 2, \"62\": 2}, \"46\": {\"46\": 8, \"85\": 1, \"28\": 2, \"66\": 1}, \"100\": {\"100\": 8, \"107\": 2, \"62\": 2}, \"63\": {\"63\": 6, \"35\": 1, \"23\": 2, \"6\": 1, \"11\": 1, \"75\": 1}, \"24\": {\"57\": 1, \"21\": 1, \"54\": 1, \"101\": 1, \"106\": 2, \"121\": 1, \"24\": 2, \"27\": 1, \"36\": 1, \"65\": 1}, \"107\": {\"14\": 1, \"129\": 1, \"107\": 10}, \"35\": {\"84\": 1, \"35\": 3, \"111\": 1, \"72\": 2, \"68\": 1, \"11\": 1, \"7\": 1}, \"81\": {\"81\": 10, \"18\": 1, \"109\": 1}, \"64\": {\"64\": 12}, \"59\": {\"59\": 9, \"101\": 1, \"10\": 1, \"0\": 1}, \"33\": {\"80\": 2, \"33\": 7, \"69\": 1, \"48\": 1, \"116\": 1}, \"34\": {\"34\": 6, \"15\": 2, \"60\": 2, \"68\": 1, \"75\": 1}, \"36\": {\"36\": 5, \"59\": 1, \"106\": 2, \"58\": 2, \"52\": 1, \"25\": 1}, \"79\": {\"79\": 8, \"45\": 2, \"100\": 2}, \"80\": {\"80\": 11, \"31\": 1}, \"77\": {\"77\": 12}, \"22\": {\"22\": 6, \"87\": 1, \"5\": 2, \"99\": 1, \"40\": 1, \"104\": 1}, \"124\": {\"124\": 10, \"9\": 1, \"108\": 1}, \"2\": {\"64\": 2, \"21\": 2, \"2\": 4, \"80\": 2, \"89\": 2}, \"87\": {\"87\": 6, \"18\": 1, \"49\": 1, \"90\": 2, \"107\": 1, \"1\": 1}, \"105\": {\"105\": 12}, \"95\": {\"95\": 12}, \"43\": {\"43\": 8, \"33\": 1, \"120\": 1, \"102\": 1, \"80\": 1}, \"56\": {\"56\": 10}, \"18\": {\"18\": 9, \"119\": 1, \"63\": 2}, \"85\": {\"46\": 1, \"85\": 8, \"105\": 1, \"103\": 1, \"88\": 1}, \"113\": {\"21\": 2, \"113\": 8, \"102\": 1, \"96\": 1}, \"97\": {\"59\": 1, \"97\": 8, \"94\": 1, \"58\": 2}, \"86\": {\"86\": 10, \"71\": 1, \"112\": 1}, \"128\": {\"46\": 1, \"86\": 1, \"128\": 4, \"74\": 1, \"103\": 1, \"112\": 1, \"70\": 2, \"28\": 1}, \"123\": {\"123\": 8, \"121\": 2, \"26\": 1, \"75\": 1}, \"8\": {\"8\": 11, \"42\": 1}, \"110\": {\"110\": 10, \"122\": 2}, \"126\": {\"18\": 1, \"21\": 1, \"48\": 2, \"126\": 3, \"118\": 2, \"80\": 1, \"117\": 1, \"39\": 1}, \"101\": {\"68\": 1, \"101\": 6, \"72\": 3, \"59\": 1, \"106\": 1}, \"115\": {\"49\": 1, \"115\": 8, \"107\": 1, \"29\": 1, \"14\": 1}, \"49\": {\"84\": 1, \"44\": 1, \"42\": 1, \"49\": 6, \"48\": 2, \"91\": 1}, \"45\": {\"45\": 12}, \"78\": {\"78\": 4, \"82\": 1, \"123\": 1, \"13\": 1, \"40\": 1, \"50\": 2, \"53\": 2}, \"65\": {\"65\": 5, \"10\": 2, \"30\": 2, \"109\": 1}, \"54\": {\"54\": 12}, \"31\": {\"31\": 8, \"78\": 1, \"17\": 1}, \"42\": {\"114\": 1, \"42\": 1, \"24\": 1, \"36\": 1, \"48\": 1, \"49\": 1, \"30\": 1, \"99\": 1, \"73\": 1, \"85\": 1, \"119\": 1, \"94\": 1}, \"68\": {\"68\": 10, \"0\": 1, \"35\": 1}, \"15\": {\"15\": 11, \"0\": 1}, \"69\": {\"69\": 11, \"116\": 1}, \"17\": {\"102\": 1, \"41\": 1, \"11\": 1, \"9\": 1, \"73\": 1, \"18\": 1, \"52\": 2, \"116\": 1, \"12\": 1}, \"73\": {\"73\": 12}, \"121\": {\"102\": 2, \"123\": 1, \"121\": 6, \"118\": 2, \"64\": 1}, \"102\": {\"102\": 11, \"69\": 1}, \"48\": {\"102\": 1, \"48\": 3, \"73\": 1, \"10\": 1, \"77\": 2, \"72\": 1, \"119\": 1, \"33\": 1, \"27\": 1}, \"23\": {\"102\": 2, \"55\": 2, \"98\": 1, \"63\": 1, \"91\": 2, \"23\": 1, \"80\": 1, \"8\": 2}, \"108\": {\"108\": 8, \"112\": 1, \"57\": 1, \"86\": 1, \"122\": 1}, \"53\": {\"53\": 9, \"31\": 2, \"88\": 1}, \"94\": {\"15\": 1, \"94\": 4, \"101\": 1, \"25\": 2, \"97\": 2}, \"41\": {\"41\": 8, \"55\": 2, \"98\": 1, \"86\": 1}, \"58\": {\"58\": 11, \"97\": 1}, \"29\": {\"29\": 10, \"62\": 1, \"115\": 1}, \"116\": {\"116\": 6, \"82\": 1, \"100\": 1, \"88\": 1, \"31\": 1, \"76\": 1, \"17\": 1}, \"60\": {\"78\": 2, \"60\": 3, \"16\": 1, \"122\": 1, \"32\": 1, \"28\": 1, \"62\": 2, \"107\": 1}, \"104\": {\"104\": 11, \"9\": 1}, \"106\": {\"106\": 8, \"15\": 2, \"72\": 1, \"101\": 1}, \"66\": {\"66\": 11, \"112\": 1}, \"47\": {\"47\": 12}, \"40\": {\"40\": 7, \"78\": 1, \"129\": 2, \"114\": 1, \"50\": 1}, \"82\": {\"82\": 9, \"115\": 1, \"92\": 1, \"129\": 1}, \"13\": {\"76\": 2, \"120\": 1, \"113\": 3, \"90\": 2, \"26\": 1, \"123\": 1, \"16\": 1, \"65\": 1}, \"19\": {\"9\": 1, \"19\": 1, \"115\": 2, \"105\": 1, \"62\": 1, \"29\": 2, \"86\": 1, \"49\": 1, \"129\": 1, \"8\": 1}, \"72\": {\"72\": 7, \"68\": 2, \"35\": 2, \"98\": 1}, \"9\": {\"9\": 12}, \"67\": {\"67\": 8, \"11\": 1, \"2\": 1, \"80\": 1, \"39\": 1}, \"11\": {\"76\": 1, \"11\": 7, \"20\": 1, \"17\": 1, \"43\": 1, \"116\": 1}, \"125\": {\"125\": 10, \"101\": 1, \"6\": 1}, \"76\": {\"76\": 6, \"100\": 1, \"53\": 1}, \"83\": {\"83\": 11, \"8\": 1}, \"74\": {\"74\": 9, \"54\": 1, \"9\": 2}, \"20\": {\"20\": 12}, \"119\": {\"119\": 12}, \"1\": {\"1\": 11, \"114\": 1}, \"16\": {\"11\": 2, \"16\": 9, \"120\": 1}, \"25\": {\"25\": 9, \"38\": 1, \"59\": 2}, \"90\": {\"90\": 7, \"31\": 1}, \"39\": {\"43\": 1, \"21\": 1, \"16\": 2, \"39\": 4, \"82\": 1, \"89\": 1, \"116\": 2}, \"28\": {\"28\": 10, \"74\": 2}, \"55\": {\"55\": 11, \"4\": 1}, \"117\": {\"117\": 8, \"23\": 1, \"119\": 1, \"69\": 1, \"2\": 1}, \"112\": {\"112\": 7, \"124\": 1, \"105\": 1, \"71\": 1, \"55\": 1, \"41\": 1}, \"38\": {\"38\": 6, \"105\": 2, \"22\": 2, \"19\": 2}, \"37\": {\"25\": 2, \"37\": 8, \"51\": 2}, \"120\": {\"120\": 9, \"80\": 2, \"16\": 1}, \"122\": {\"122\": 4, \"110\": 3, \"74\": 1, \"29\": 1, \"71\": 1, \"108\": 2}, \"50\": {\"50\": 10, \"1\": 2}, \"10\": {\"51\": 2, \"15\": 1, \"10\": 5, \"35\": 1, \"83\": 1, \"6\": 2}, \"5\": {\"5\": 10, \"85\": 1, \"112\": 1}, \"51\": {\"51\": 10, \"101\": 1, \"35\": 1}, \"3\": {\"98\": 1, \"42\": 1, \"3\": 6, \"4\": 1, \"55\": 1, \"37\": 1, \"5\": 1}, \"98\": {\"48\": 2, \"98\": 8, \"12\": 1, \"60\": 1}, \"70\": {\"60\": 1, \"3\": 1, \"110\": 2, \"85\": 1, \"70\": 1, \"107\": 1, \"104\": 1, \"28\": 1, \"50\": 1, \"112\": 1, \"115\": 1}, \"96\": {\"113\": 1, \"96\": 8, \"2\": 2, \"119\": 1}, \"12\": {\"12\": 9, \"52\": 3}, \"99\": {\"128\": 2, \"99\": 10}, \"52\": {\"52\": 9, \"98\": 2, \"12\": 1}, \"71\": {\"71\": 4, \"5\": 1, \"61\": 1, \"103\": 1, \"2\": 1, \"104\": 2, \"3\": 2}, \"89\": {\"89\": 12}, \"0\": {\"52\": 1, \"12\": 1, \"0\": 7, \"91\": 1, \"15\": 2}, \"4\": {\"4\": 7, \"85\": 2, \"65\": 1, \"121\": 1, \"23\": 1}, \"93\": {\"93\": 10, \"89\": 1, \"45\": 1}, \"6\": {\"6\": 7, \"37\": 2, \"25\": 1}, \"75\": {\"75\": 12}, \"62\": {\"62\": 12}, \"103\": {\"103\": 8, \"128\": 1, \"19\": 1, \"112\": 1, \"5\": 1}, \"30\": {\"30\": 6, \"72\": 1, \"59\": 1, \"91\": 2, \"77\": 1, \"97\": 1}, \"91\": {\"91\": 6, \"72\": 1, \"111\": 2, \"68\": 1, \"77\": 2}, \"27\": {\"30\": 2, \"27\": 4, \"97\": 1, \"6\": 2, \"24\": 1, \"83\": 1, \"106\": 1}, \"26\": {\"26\": 8, \"118\": 4}, \"61\": {\"61\": 12}, \"118\": {\"93\": 2, \"118\": 4, \"64\": 3, \"92\": 2, \"69\": 1}, \"92\": {\"92\": 10, \"89\": 1, \"120\": 1}, \"111\": {\"111\": 12}, \"32\": {\"32\": 2, \"84\": 1, \"3\": 1, \"53\": 1, \"88\": 2, \"87\": 1, \"128\": 1, \"4\": 1, \"46\": 1, \"29\": 1}, \"88\": {\"114\": 1, \"89\": 2, \"1\": 1, \"118\": 1, \"93\": 2, \"88\": 1, \"109\": 1, \"53\": 1}}, \"C_A_1\": {\"46\": {\"51\": 2, \"46\": 6, \"50\": 2, \"48\": 2}, \"16\": {\"16\": 8, \"37\": 2, \"36\": 1, \"26\": 1}, \"26\": {\"26\": 12}, \"10\": {\"10\": 7, \"22\": 2, \"23\": 1, \"24\": 1, \"39\": 1}, \"9\": {\"9\": 10}, \"28\": {\"28\": 10, \"47\": 1, \"11\": 1}, \"51\": {\"51\": 11, \"41\": 1}, \"1\": {\"1\": 8, \"42\": 1, \"57\": 2, \"45\": 1}, \"55\": {\"55\": 11, \"16\": 1}, \"27\": {\"27\": 8, \"43\": 2}, \"22\": {\"22\": 9, \"21\": 2, \"39\": 1}, \"52\": {\"33\": 1, \"52\": 6, \"15\": 2, \"49\": 1, \"28\": 2}, \"3\": {\"3\": 12}, \"33\": {\"33\": 8}, \"47\": {\"47\": 10, \"11\": 1, \"54\": 1}, \"42\": {\"42\": 11, \"56\": 1}, \"12\": {\"12\": 4}, \"23\": {\"49\": 2, \"23\": 8, \"10\": 1, \"15\": 1}, \"49\": {\"49\": 10}, \"7\": {\"7\": 12}, \"4\": {\"4\": 12}, \"50\": {\"50\": 12}, \"19\": {\"19\": 9, \"57\": 1, \"14\": 1, \"25\": 1}, \"11\": {\"28\": 4, \"11\": 8}, \"31\": {\"31\": 10}, \"41\": {\"41\": 11, \"51\": 1}, \"56\": {\"56\": 9, \"19\": 1}, \"0\": {\"0\": 10, \"28\": 1, \"21\": 1}, \"57\": {\"19\": 1, \"56\": 1, \"57\": 6, \"1\": 2, \"42\": 2}, \"53\": {\"53\": 12}, \"43\": {\"43\": 12}, \"37\": {\"37\": 12}, \"2\": {\"2\": 8}, \"6\": {\"6\": 9, \"2\": 1, \"40\": 1, \"48\": 1}, \"18\": {\"18\": 11, \"1\": 1}, \"38\": {\"38\": 12}, \"15\": {\"15\": 9, \"11\": 1, \"28\": 1, \"38\": 1}, \"36\": {\"36\": 11, \"28\": 1}, \"39\": {\"39\": 7, \"22\": 1}, \"44\": {\"44\": 10, \"32\": 1, \"35\": 1}, \"8\": {\"8\": 12}, \"17\": {\"17\": 10}, \"5\": {\"5\": 9, \"40\": 2, \"41\": 1}, \"13\": {\"13\": 10}, \"40\": {\"40\": 10}, \"29\": {\"29\": 12}, \"48\": {\"48\": 12}, \"32\": {\"32\": 10, \"54\": 1, \"44\": 1}, \"30\": {\"30\": 12}, \"35\": {\"35\": 10, \"44\": 2}, \"25\": {\"25\": 11, \"14\": 1}, \"14\": {\"14\": 9, \"13\": 2, \"30\": 1}, \"54\": {\"54\": 10}, \"20\": {\"20\": 8}, \"21\": {\"21\": 8, \"10\": 2}, \"45\": {\"45\": 4, \"57\": 2, \"1\": 1, \"42\": 1}, \"24\": {\"21\": 2, \"24\": 4, \"22\": 2}, \"34\": {\"34\": 8}}, \"W_A_4\": {\"28\": {\"28\": 10, \"73\": 1, \"122\": 1}, \"4\": {\"4\": 12}, \"72\": {\"14\": 2, \"72\": 5, \"49\": 1, \"46\": 2, \"70\": 1, \"115\": 1}, \"111\": {\"111\": 8, \"12\": 2, \"51\": 1, \"127\": 1}, \"108\": {\"108\": 4, \"28\": 1, \"72\": 1, \"66\": 1, \"93\": 1, \"64\": 1, \"73\": 1, \"50\": 1, \"14\": 1}, \"43\": {\"43\": 7, \"72\": 1, \"107\": 1, \"22\": 1}, \"96\": {\"96\": 11, \"13\": 1}, \"89\": {\"89\": 12}, \"31\": {\"11\": 1, \"31\": 10, \"66\": 1}, \"45\": {\"45\": 12}, \"2\": {\"96\": 2, \"13\": 2, \"2\": 7, \"121\": 1}, \"114\": {\"114\": 8, \"40\": 1, \"19\": 1, \"1\": 2}, \"11\": {\"108\": 1, \"96\": 1, \"11\": 3, \"116\": 1, \"84\": 1, \"33\": 1, \"102\": 2, \"93\": 2}, \"12\": {\"111\": 2, \"12\": 8, \"91\": 2}, \"14\": {\"14\": 8, \"43\": 1, \"79\": 1, \"100\": 1, \"76\": 1}, \"90\": {\"11\": 2, \"90\": 9, \"38\": 1}, \"10\": {\"42\": 1, \"54\": 1, \"52\": 1, \"10\": 6, \"37\": 1, \"58\": 1, \"6\": 1}, \"63\": {\"82\": 1, \"63\": 10, \"70\": 1}, \"85\": {\"85\": 8, \"121\": 1, \"52\": 1, \"111\": 1, \"127\": 1}, \"64\": {\"64\": 11, \"83\": 1}, \"82\": {\"82\": 10, \"48\": 1, \"63\": 1}, \"58\": {\"58\": 11, \"15\": 1}, \"3\": {\"3\": 11, \"100\": 1}, \"54\": {\"54\": 12}, \"121\": {\"121\": 7, \"11\": 1, \"84\": 2, \"74\": 1, \"38\": 1}, \"42\": {\"42\": 4, \"91\": 1, \"98\": 1, \"8\": 3, \"72\": 1, \"46\": 1, \"23\": 1}, \"98\": {\"98\": 5, \"85\": 1, \"68\": 2, \"91\": 1, \"103\": 1, \"0\": 2}, \"123\": {\"123\": 10, \"121\": 1, \"16\": 1}, \"91\": {\"12\": 2, \"54\": 1, \"91\": 7, \"37\": 1, \"97\": 1}, \"66\": {\"102\": 1, \"66\": 7, \"31\": 1, \"90\": 1, \"44\": 2}, \"102\": {\"102\": 11, \"31\": 1}, \"122\": {\"122\": 5, \"66\": 1, \"64\": 2, \"44\": 1, \"74\": 1, \"28\": 1, \"99\": 1}, \"1\": {\"1\": 8, \"40\": 1, \"114\": 2, \"87\": 1}, \"15\": {\"15\": 6, \"9\": 2, \"25\": 2, \"91\": 1, \"6\": 1}, \"97\": {\"97\": 3, \"54\": 1, \"9\": 1, \"59\": 2, \"83\": 1, \"29\": 1, \"52\": 1, \"47\": 1, \"8\": 1}, \"75\": {\"75\": 12}, \"95\": {\"68\": 1, \"95\": 10, \"86\": 1}, \"57\": {\"102\": 2, \"57\": 8, \"109\": 2}, \"68\": {\"68\": 10, \"52\": 1, \"103\": 1}, \"125\": {\"125\": 10, \"75\": 1, \"47\": 1}, \"62\": {\"62\": 10}, \"27\": {\"120\": 3, \"27\": 6, \"64\": 1, \"101\": 1, \"113\": 1}, \"120\": {\"120\": 9, \"23\": 1, \"42\": 2}, \"26\": {\"26\": 8, \"93\": 2, \"19\": 1, \"13\": 1}, \"55\": {\"55\": 11, \"12\": 1}, \"71\": {\"22\": 2, \"71\": 4, \"98\": 1, \"64\": 1, \"7\": 1, \"124\": 1, \"82\": 1, \"42\": 1}, \"22\": {\"22\": 11, \"1\": 1}, \"99\": {\"99\": 8, \"28\": 1, \"14\": 1, \"57\": 1, \"43\": 1}, \"84\": {\"84\": 8, \"103\": 1, \"92\": 1, \"35\": 1, \"96\": 1}, \"37\": {\"37\": 12}, \"83\": {\"83\": 5, \"19\": 1, \"14\": 1, \"110\": 1, \"115\": 2, \"60\": 1, \"62\": 1}, \"46\": {\"46\": 12}, \"35\": {\"13\": 3, \"117\": 2, \"96\": 1, \"35\": 3, \"78\": 1, \"123\": 1, \"65\": 1}, \"13\": {\"13\": 12}, \"53\": {\"53\": 8, \"57\": 1, \"101\": 2, \"73\": 1}, \"127\": {\"0\": 2, \"68\": 1, \"127\": 5, \"111\": 2, \"51\": 2}, \"69\": {\"48\": 1, \"69\": 9, \"78\": 1, \"44\": 1}, \"48\": {\"48\": 5, \"74\": 2, \"121\": 2, \"84\": 2, \"59\": 1}, \"16\": {\"16\": 7, \"57\": 1, \"92\": 4}, \"0\": {\"0\": 2, \"8\": 2, \"77\": 2, \"55\": 2, \"64\": 1, \"41\": 1, \"37\": 2}, \"8\": {\"8\": 9, \"48\": 1, \"53\": 1, \"13\": 1}, \"9\": {\"9\": 8, \"98\": 2, \"77\": 2}, \"115\": {\"115\": 7, \"43\": 1, \"46\": 1, \"87\": 1, \"83\": 1, \"72\": 1}, \"70\": {\"119\": 1, \"120\": 1, \"78\": 1, \"70\": 6, \"95\": 1, \"42\": 1, \"100\": 1}, \"119\": {\"119\": 11, \"104\": 1}, \"59\": {\"59\": 7, \"97\": 2, \"29\": 1, \"58\": 2}, \"52\": {\"52\": 12}, \"60\": {\"119\": 2, \"46\": 1, \"128\": 1, \"66\": 1, \"60\": 4, \"112\": 2, \"89\": 1}, \"44\": {\"44\": 9, \"92\": 1, \"74\": 1, \"48\": 1}, \"51\": {\"51\": 2, \"44\": 1, \"111\": 3, \"47\": 1, \"101\": 1, \"24\": 2, \"68\": 2}, \"6\": {\"59\": 1, \"6\": 8, \"58\": 3}, \"73\": {\"50\": 1, \"45\": 1, \"73\": 7, \"129\": 1, \"28\": 1, \"31\": 1}, \"78\": {\"19\": 1, \"92\": 1, \"27\": 1, \"128\": 1, \"87\": 2, \"110\": 1, \"114\": 1, \"32\": 1, \"0\": 1, \"70\": 1, \"119\": 1}, \"92\": {\"92\": 11, \"100\": 1}, \"20\": {\"20\": 8, \"74\": 1, \"5\": 1, \"90\": 2}, \"17\": {\"17\": 11, \"49\": 1}, \"74\": {\"74\": 7, \"69\": 1, \"44\": 2, \"102\": 2}, \"19\": {\"17\": 1, \"69\": 1, \"90\": 2, \"93\": 1, \"19\": 1, \"71\": 1, \"31\": 2, \"96\": 1, \"79\": 1, \"112\": 1}, \"50\": {\"50\": 7, \"118\": 2, \"3\": 1, \"107\": 2}, \"34\": {\"70\": 2, \"34\": 2, \"6\": 2, \"29\": 2, \"15\": 1, \"89\": 1, \"10\": 2}, \"104\": {\"104\": 8}, \"33\": {\"33\": 4, \"5\": 1, \"118\": 2, \"0\": 1, \"66\": 2, \"79\": 1, \"96\": 1}, \"5\": {\"5\": 7, \"33\": 1, \"129\": 2, \"108\": 2}, \"7\": {\"7\": 7, \"128\": 1, \"105\": 1, \"56\": 2, \"123\": 1}, \"29\": {\"29\": 12}, \"25\": {\"25\": 10, \"36\": 2}, \"124\": {\"98\": 1, \"71\": 1, \"124\": 8, \"1\": 1, \"62\": 1}, \"117\": {\"96\": 1, \"117\": 7, \"93\": 1, \"81\": 1, \"80\": 1, \"23\": 1}, \"88\": {\"57\": 2, \"1\": 1, \"93\": 1, \"35\": 1, \"64\": 1, \"16\": 1, \"31\": 1, \"89\": 2, \"109\": 1, \"88\": 1}, \"61\": {\"61\": 10, \"35\": 1, \"13\": 1}, \"86\": {\"86\": 10, \"111\": 1, \"56\": 1}, \"116\": {\"116\": 8, \"38\": 1, \"5\": 1, \"122\": 1, \"69\": 1}, \"24\": {\"10\": 2, \"36\": 2, \"30\": 1, \"6\": 1, \"24\": 4, \"9\": 1, \"25\": 1}, \"128\": {\"124\": 1, \"128\": 5, \"21\": 1, \"100\": 1, \"112\": 1, \"55\": 1, \"52\": 1, \"23\": 1}, \"101\": {\"52\": 1, \"101\": 8, \"41\": 1, \"29\": 1, \"12\": 1}, \"65\": {\"65\": 9, \"49\": 1}, \"36\": {\"10\": 1, \"36\": 9, \"101\": 1, \"6\": 1}, \"21\": {\"21\": 5, \"99\": 1, \"113\": 1, \"100\": 1, \"51\": 1, \"57\": 1, \"23\": 2}, \"106\": {\"106\": 9, \"41\": 1, \"77\": 1, \"8\": 1}, \"118\": {\"64\": 1, \"118\": 6, \"19\": 1, \"122\": 1, \"79\": 2, \"48\": 1}, \"113\": {\"93\": 2, \"74\": 1, \"126\": 1, \"21\": 1, \"100\": 1, \"16\": 1, \"113\": 1, \"121\": 2, \"102\": 2}, \"40\": {\"1\": 2, \"40\": 8, \"46\": 1, \"87\": 1}, \"93\": {\"93\": 6, \"90\": 1, \"109\": 1}, \"94\": {\"94\": 5, \"59\": 1, \"36\": 1, \"6\": 4, \"58\": 1}, \"103\": {\"103\": 4, \"8\": 1, \"77\": 1, \"85\": 1, \"121\": 1, \"101\": 1, \"13\": 1, \"106\": 1, \"24\": 1}, \"110\": {\"110\": 7, \"122\": 1, \"32\": 1, \"93\": 1, \"23\": 1, \"60\": 1}, \"56\": {\"56\": 10, \"4\": 2}, \"39\": {\"33\": 2, \"93\": 2, \"80\": 1, \"39\": 2, \"21\": 2, \"96\": 2, \"102\": 1}, \"109\": {\"109\": 5, \"48\": 1, \"20\": 1, \"38\": 1, \"88\": 1, \"102\": 1, \"93\": 2}, \"67\": {\"44\": 2, \"67\": 3, \"121\": 1, \"32\": 1, \"66\": 1, \"14\": 1, \"16\": 1, \"5\": 1, \"96\": 1}, \"129\": {\"44\": 1, \"17\": 1, \"112\": 2, \"129\": 3, \"105\": 1, \"90\": 1, \"4\": 1, \"32\": 1, \"50\": 1}, \"30\": {\"30\": 6, \"36\": 1, \"9\": 1, \"24\": 2, \"15\": 2}, \"126\": {\"113\": 3, \"18\": 1, \"5\": 1, \"80\": 1, \"126\": 2, \"54\": 1, \"74\": 2, \"108\": 1}, \"87\": {\"21\": 1, \"87\": 6, \"119\": 1, \"3\": 1, \"19\": 1, \"49\": 1, \"1\": 1}, \"112\": {\"112\": 10, \"70\": 1, \"17\": 1}, \"100\": {\"87\": 2, \"100\": 7, \"129\": 1, \"46\": 2}, \"79\": {\"118\": 2, \"79\": 7, \"60\": 1}, \"81\": {\"81\": 6, \"113\": 1, \"121\": 1, \"67\": 1, \"116\": 2, \"117\": 1}, \"76\": {\"76\": 6, \"32\": 2, \"14\": 2}, \"47\": {\"47\": 9, \"100\": 1, \"59\": 2}, \"77\": {\"77\": 10, \"106\": 1, \"30\": 1}, \"23\": {\"18\": 1, \"77\": 3, \"41\": 3, \"108\": 1, \"9\": 1, \"116\": 1, \"23\": 1, \"37\": 1}, \"18\": {\"18\": 11, \"63\": 1}, \"49\": {\"84\": 2, \"41\": 1, \"30\": 1, \"102\": 1, \"77\": 1, \"90\": 1, \"49\": 1, \"73\": 1, \"53\": 3}, \"41\": {\"41\": 8, \"47\": 1, \"77\": 1, \"12\": 1, \"0\": 1}, \"32\": {\"87\": 2, \"110\": 1, \"23\": 2, \"32\": 1, \"46\": 2, \"33\": 1, \"114\": 1, \"14\": 2}, \"107\": {\"107\": 7, \"100\": 2, \"62\": 1}, \"80\": {\"80\": 9, \"126\": 1, \"20\": 2}, \"105\": {\"105\": 6, \"87\": 2, \"113\": 1, \"3\": 1}, \"38\": {\"116\": 1, \"38\": 9}}, \"W_A_1\": {\"108\": {\"70\": 2, \"108\": 4, \"114\": 1, \"35\": 1, \"44\": 1, \"23\": 1}, \"40\": {\"89\": 2, \"40\": 6, \"87\": 1, \"5\": 2, \"105\": 1}, \"68\": {\"68\": 8, \"0\": 2, \"53\": 2}, \"23\": {\"110\": 1, \"22\": 1, \"1\": 1, \"53\": 1, \"86\": 1, \"129\": 1, \"55\": 1, \"80\": 1, \"79\": 2, \"127\": 2}, \"26\": {\"40\": 1, \"26\": 7, \"116\": 3, \"100\": 1}, \"64\": {\"64\": 11, \"80\": 1}, \"22\": {\"22\": 8, \"129\": 1, \"19\": 1, \"109\": 1, \"45\": 1}, \"3\": {\"102\": 2, \"50\": 1, \"3\": 5, \"96\": 2, \"116\": 2}, \"4\": {\"40\": 1, \"89\": 1, \"4\": 9, \"11\": 1}, \"70\": {\"70\": 3, \"108\": 1, \"93\": 1, \"77\": 1, \"86\": 1, \"54\": 1, \"23\": 1, \"60\": 1, \"29\": 2}, \"57\": {\"57\": 12}, \"79\": {\"23\": 1, \"79\": 9, \"114\": 2}, \"9\": {\"9\": 6, \"34\": 1, \"17\": 1, \"47\": 1, \"128\": 1, \"83\": 1, \"103\": 1}, \"89\": {\"9\": 1, \"89\": 9, \"74\": 1, \"93\": 1}, \"110\": {\"110\": 10, \"127\": 2}, \"102\": {\"102\": 8, \"116\": 1, \"69\": 2, \"50\": 1}, \"31\": {\"31\": 12}, \"58\": {\"58\": 12}, \"47\": {\"17\": 1, \"47\": 10, \"72\": 1}, \"24\": {\"52\": 3, \"24\": 6, \"101\": 1, \"88\": 1, \"103\": 1}, \"19\": {\"83\": 1, \"96\": 1, \"22\": 1, \"73\": 1, \"19\": 5, \"42\": 1, \"126\": 1, \"129\": 1}, \"11\": {\"11\": 12}, \"52\": {\"52\": 11, \"27\": 1}, \"17\": {\"17\": 10, \"34\": 1, \"35\": 1}, \"25\": {\"25\": 10, \"11\": 1, \"67\": 1}, \"69\": {\"69\": 9, \"60\": 1, \"102\": 2}, \"96\": {\"96\": 10, \"66\": 2}, \"109\": {\"115\": 1, \"109\": 2, \"50\": 3, \"25\": 1, \"82\": 3, \"104\": 1, \"99\": 1}, \"115\": {\"115\": 11, \"114\": 1}, \"83\": {\"83\": 5, \"105\": 1, \"42\": 1, \"75\": 1, \"104\": 2, \"14\": 1, \"103\": 1}, \"84\": {\"84\": 11, \"122\": 1}, \"119\": {\"119\": 8, \"118\": 2}, \"122\": {\"122\": 6, \"84\": 1, \"76\": 1, \"42\": 1, \"104\": 1}, \"99\": {\"99\": 10, \"65\": 1, \"11\": 1}, \"1\": {\"1\": 12}, \"74\": {\"74\": 10, \"88\": 1, \"0\": 1}, \"85\": {\"85\": 12}, \"127\": {\"111\": 3, \"127\": 9}, \"111\": {\"53\": 1, \"111\": 8, \"127\": 2, \"15\": 1}, \"53\": {\"53\": 9, \"0\": 2, \"56\": 1}, \"88\": {\"88\": 4, \"94\": 1, \"37\": 1, \"36\": 2, \"97\": 2, \"98\": 1, \"10\": 1}, \"65\": {\"65\": 2, \"119\": 1, \"100\": 2, \"64\": 1, \"118\": 1, \"95\": 2, \"104\": 1}, \"7\": {\"7\": 11, \"80\": 1}, \"16\": {\"119\": 2, \"16\": 3, \"10\": 1, \"11\": 1, \"118\": 1, \"39\": 2, \"100\": 2}, \"128\": {\"17\": 1, \"73\": 1, \"80\": 1, \"105\": 1, \"79\": 2, \"42\": 1, \"84\": 1, \"128\": 1, \"19\": 1, \"61\": 2}, \"34\": {\"68\": 2, \"128\": 2, \"9\": 2, \"34\": 1, \"115\": 1, \"80\": 1, \"111\": 1, \"5\": 1, \"127\": 1}, \"129\": {\"118\": 1, \"128\": 1, \"33\": 2, \"114\": 2, \"20\": 2, \"54\": 1, \"126\": 1, \"129\": 1, \"115\": 1}, \"43\": {\"43\": 10, \"54\": 1, \"38\": 1}, \"92\": {\"92\": 12}, \"28\": {\"28\": 12}, \"27\": {\"27\": 7, \"101\": 1, \"30\": 2, \"52\": 2}, \"114\": {\"114\": 8, \"129\": 1, \"42\": 1, \"79\": 1, \"124\": 1}, \"73\": {\"128\": 1, \"114\": 1, \"73\": 8, \"46\": 1, \"126\": 1}, \"0\": {\"0\": 7, \"53\": 2, \"71\": 1, \"112\": 1, \"91\": 1}, \"104\": {\"104\": 8, \"73\": 1, \"46\": 1, \"14\": 2}, \"118\": {\"118\": 8, \"39\": 2, \"95\": 2}, \"41\": {\"41\": 11, \"10\": 1}, \"49\": {\"89\": 1, \"86\": 1, \"41\": 2, \"72\": 1, \"32\": 1, \"105\": 1, \"53\": 1, \"34\": 1, \"88\": 1, \"52\": 1, \"47\": 1}, \"14\": {\"14\": 12}, \"46\": {\"33\": 1, \"104\": 3, \"32\": 1, \"46\": 2, \"125\": 1, \"12\": 1, \"73\": 2, \"1\": 1}, \"33\": {\"33\": 12}, \"76\": {\"76\": 12}, \"125\": {\"125\": 8, \"51\": 2, \"0\": 2}, \"86\": {\"49\": 1, \"86\": 4, \"70\": 2, \"77\": 1, \"83\": 2}, \"66\": {\"66\": 6, \"64\": 2, \"45\": 1, \"61\": 1, \"115\": 1, \"15\": 1}, \"5\": {\"5\": 6, \"40\": 2, \"105\": 2, \"66\": 1, \"17\": 1}, \"117\": {\"117\": 6, \"118\": 3, \"2\": 1, \"18\": 1, \"11\": 1}, \"75\": {\"75\": 12}, \"61\": {\"61\": 12}, \"50\": {\"50\": 8, \"81\": 1, \"100\": 2, \"11\": 1}, \"67\": {\"67\": 9, \"82\": 1}, \"18\": {\"18\": 10, \"119\": 1, \"39\": 1}, \"98\": {\"98\": 10, \"106\": 2}, \"55\": {\"55\": 8, \"107\": 1, \"93\": 1}, \"32\": {\"32\": 10, \"53\": 2}, \"120\": {\"120\": 10, \"45\": 1, \"96\": 1}, \"97\": {\"97\": 7, \"32\": 1, \"49\": 1, \"88\": 1, \"101\": 1, \"91\": 1}, \"126\": {\"76\": 1, \"73\": 2, \"126\": 3, \"122\": 1, \"61\": 1, \"54\": 2, \"128\": 1, \"78\": 1}, \"45\": {\"76\": 1, \"50\": 1, \"120\": 1, \"126\": 1, \"20\": 2, \"69\": 1, \"45\": 1, \"67\": 1, \"60\": 1, \"79\": 1, \"23\": 1}, \"78\": {\"115\": 2, \"43\": 3, \"5\": 1, \"78\": 2, \"79\": 1, \"23\": 1}, \"100\": {\"100\": 12}, \"107\": {\"107\": 10, \"35\": 1, \"49\": 1}, \"93\": {\"107\": 4, \"48\": 1, \"93\": 2, \"89\": 2, \"57\": 1, \"55\": 2}, \"77\": {\"34\": 1, \"77\": 10, \"86\": 1}, \"63\": {\"100\": 1, \"63\": 4, \"119\": 1, \"39\": 2, \"69\": 2, \"117\": 2}, \"112\": {\"112\": 11, \"6\": 1}, \"113\": {\"113\": 8, \"123\": 2, \"116\": 1, \"26\": 1}, \"103\": {\"103\": 4, \"86\": 2, \"47\": 1, \"106\": 1, \"24\": 2}, \"71\": {\"71\": 8, \"37\": 1, \"127\": 2, \"0\": 1}, \"30\": {\"30\": 7, \"15\": 1, \"59\": 1, \"27\": 2, \"36\": 1}, \"90\": {\"90\": 8, \"66\": 2, \"65\": 2}, \"37\": {\"92\": 1, \"37\": 7, \"71\": 2, \"112\": 1, \"6\": 1}, \"60\": {\"118\": 2, \"103\": 1, \"41\": 1, \"60\": 3, \"11\": 1, \"73\": 1, \"100\": 1, \"106\": 2}, \"15\": {\"15\": 6, \"71\": 1, \"94\": 1, \"112\": 1, \"37\": 2, \"91\": 1}, \"39\": {\"39\": 8, \"100\": 1, \"118\": 1, \"69\": 1, \"95\": 1}, \"72\": {\"72\": 7, \"97\": 1, \"47\": 1, \"9\": 2, \"70\": 1}, \"54\": {\"54\": 9, \"12\": 1, \"14\": 2}, \"35\": {\"35\": 6, \"86\": 1, \"72\": 1, \"48\": 1, \"107\": 1, \"4\": 2}, \"2\": {\"96\": 1, \"118\": 1, \"2\": 7, \"121\": 1, \"26\": 1, \"119\": 1}, \"94\": {\"94\": 6, \"71\": 1, \"91\": 2, \"6\": 1, \"13\": 1, \"30\": 1}, \"42\": {\"25\": 2, \"87\": 3, \"100\": 2, \"42\": 2, \"69\": 1, \"33\": 1, \"84\": 1}, \"81\": {\"81\": 11, \"1\": 1}, \"8\": {\"87\": 1, \"8\": 9, \"29\": 1, \"76\": 1}, \"87\": {\"87\": 4, \"114\": 1, \"80\": 1, \"38\": 2, \"40\": 1, \"122\": 1, \"70\": 1, \"129\": 1}, \"6\": {\"6\": 3, \"53\": 3, \"36\": 2, \"127\": 1, \"75\": 1, \"37\": 1, \"27\": 1}, \"36\": {\"32\": 1, \"36\": 8, \"94\": 1, \"59\": 2}, \"91\": {\"91\": 5, \"97\": 2, \"111\": 1, \"75\": 1, \"56\": 2, \"101\": 1}, \"56\": {\"56\": 11, \"85\": 1}, \"80\": {\"42\": 2, \"80\": 7, \"79\": 2, \"10\": 1}, \"124\": {\"124\": 8, \"64\": 1, \"122\": 1}, \"44\": {\"44\": 11, \"105\": 1}, \"13\": {\"13\": 4, \"119\": 1, \"116\": 2, \"69\": 1, \"95\": 3, \"62\": 1}, \"10\": {\"56\": 2, \"36\": 2, \"52\": 1, \"110\": 1, \"78\": 1, \"58\": 1, \"127\": 1, \"10\": 1, \"95\": 1, \"111\": 1}, \"59\": {\"59\": 8, \"30\": 1, \"123\": 1, \"33\": 1, \"58\": 1}, \"95\": {\"95\": 12}, \"105\": {\"105\": 6, \"5\": 2, \"15\": 1, \"40\": 1, \"54\": 2}, \"101\": {\"101\": 12}, \"20\": {\"20\": 12}, \"48\": {\"35\": 1, \"106\": 1, \"48\": 6, \"77\": 1, \"93\": 1, \"123\": 1, \"44\": 1}, \"106\": {\"35\": 1, \"106\": 10, \"48\": 1}, \"51\": {\"51\": 11, \"125\": 1}, \"21\": {\"84\": 1, \"28\": 1, \"102\": 1, \"29\": 1, \"0\": 1, \"67\": 1, \"56\": 1, \"69\": 1, \"126\": 1, \"21\": 1, \"74\": 1, \"101\": 1}, \"123\": {\"123\": 9, \"48\": 1, \"69\": 1, \"113\": 1}, \"121\": {\"20\": 2, \"116\": 1, \"121\": 5, \"69\": 2, \"95\": 2}, \"38\": {\"38\": 10, \"64\": 1, \"115\": 1}, \"62\": {\"62\": 11, \"82\": 1}, \"29\": {\"29\": 12}, \"82\": {\"33\": 1, \"82\": 8, \"81\": 2, \"109\": 1}, \"116\": {\"102\": 1, \"116\": 9, \"3\": 1, \"50\": 1}, \"12\": {\"51\": 1, \"125\": 1, \"12\": 2, \"127\": 1, \"111\": 1, \"0\": 2}}, \"W_A_2\": {\"91\": {\"10\": 1, \"12\": 1, \"91\": 3, \"0\": 2, \"29\": 2, \"127\": 1, \"77\": 1, \"128\": 1}, \"12\": {\"12\": 6, \"91\": 1, \"99\": 1, \"0\": 1, \"41\": 1, \"29\": 1, \"68\": 1}, \"101\": {\"106\": 1, \"101\": 5, \"0\": 1, \"79\": 1, \"24\": 1, \"94\": 1}, \"121\": {\"118\": 2, \"120\": 1, \"81\": 1, \"100\": 1, \"121\": 3, \"65\": 1, \"45\": 2, \"72\": 1}, \"118\": {\"126\": 1, \"118\": 2, \"83\": 2, \"45\": 2, \"95\": 1, \"90\": 1, \"46\": 3}, \"10\": {\"86\": 1, \"10\": 3, \"54\": 3, \"110\": 1, \"34\": 1, \"91\": 1, \"23\": 2}, \"117\": {\"117\": 10, \"23\": 1, \"121\": 1}, \"110\": {\"110\": 9, \"106\": 1, \"22\": 1, \"37\": 1}, \"97\": {\"97\": 4, \"126\": 1, \"103\": 2, \"106\": 2, \"125\": 1, \"6\": 1, \"63\": 1}, \"28\": {\"118\": 1, \"28\": 4, \"42\": 1, \"106\": 1, \"76\": 1, \"97\": 1, \"14\": 1, \"55\": 1, \"25\": 1}, \"88\": {\"88\": 3, \"13\": 2, \"109\": 1, \"90\": 2, \"20\": 1, \"83\": 1, \"118\": 2}, \"17\": {\"86\": 2, \"10\": 2, \"108\": 2, \"102\": 1, \"91\": 1, \"17\": 2, \"61\": 1, \"74\": 1}, \"126\": {\"126\": 4, \"28\": 1, \"90\": 1, \"46\": 3, \"82\": 1, \"62\": 1, \"32\": 1}, \"33\": {\"33\": 10, \"60\": 2}, \"86\": {\"86\": 11, \"34\": 1}, \"106\": {\"97\": 2, \"106\": 10}, \"54\": {\"54\": 12}, \"125\": {\"125\": 10, \"97\": 1, \"9\": 1}, \"83\": {\"83\": 11, \"118\": 1}, \"98\": {\"98\": 5, \"49\": 1, \"91\": 2, \"29\": 1, \"0\": 1, \"54\": 2}, \"11\": {\"11\": 4, \"25\": 2, \"124\": 2, \"108\": 1, \"2\": 1, \"128\": 1, \"4\": 1}, \"32\": {\"42\": 1, \"32\": 3, \"11\": 1, \"41\": 1, \"47\": 2, \"62\": 2, \"123\": 2}, \"42\": {\"83\": 1, \"98\": 1, \"44\": 5, \"42\": 2, \"50\": 1, \"80\": 1, \"62\": 1}, \"103\": {\"103\": 12}, \"87\": {\"83\": 2, \"84\": 1, \"46\": 1, \"87\": 6, \"88\": 1, \"126\": 1}, \"61\": {\"13\": 1, \"11\": 3, \"61\": 7, \"99\": 1}, \"13\": {\"13\": 10, \"72\": 2}, \"4\": {\"4\": 12}, \"15\": {\"15\": 7, \"97\": 1, \"103\": 1, \"77\": 1}, \"120\": {\"72\": 1, \"120\": 11}, \"80\": {\"80\": 12}, \"72\": {\"120\": 3, \"72\": 6, \"69\": 1}, \"64\": {\"64\": 11, \"76\": 1}, \"81\": {\"81\": 12}, \"102\": {\"102\": 12}, \"76\": {\"76\": 8, \"14\": 1, \"80\": 1, \"28\": 1, \"64\": 1}, \"49\": {\"110\": 2, \"107\": 1, \"52\": 1, \"41\": 1, \"49\": 2, \"12\": 1, \"61\": 1, \"21\": 1}, \"129\": {\"110\": 3, \"50\": 1, \"107\": 1, \"129\": 3, \"76\": 1, \"112\": 1, \"51\": 2}, \"89\": {\"89\": 11, \"96\": 1}, \"52\": {\"52\": 12}, \"35\": {\"35\": 8, \"74\": 1, \"79\": 2, \"24\": 1}, \"53\": {\"53\": 5, \"34\": 1, \"7\": 1, \"61\": 2, \"49\": 1, \"108\": 1, \"35\": 1}, \"112\": {\"105\": 1, \"112\": 5, \"19\": 1, \"11\": 1, \"32\": 1, \"37\": 2, \"66\": 1}, \"105\": {\"105\": 11, \"122\": 1}, \"100\": {\"100\": 12}, \"9\": {\"9\": 12}, \"82\": {\"82\": 12}, \"51\": {\"51\": 6, \"127\": 2, \"125\": 1, \"6\": 1, \"41\": 2}, \"21\": {\"69\": 2, \"21\": 7, \"100\": 2, \"39\": 1}, \"92\": {\"82\": 2, \"118\": 1, \"45\": 1, \"92\": 5, \"121\": 1, \"87\": 2}, \"69\": {\"69\": 12}, \"77\": {\"77\": 10, \"59\": 1, \"29\": 1}, \"50\": {\"50\": 9, \"46\": 1, \"129\": 2}, \"36\": {\"36\": 6, \"103\": 1, \"24\": 1, \"0\": 1, \"9\": 3}, \"16\": {\"16\": 8, \"88\": 1, \"20\": 1, \"69\": 1, \"120\": 1}, \"8\": {\"18\": 1, \"8\": 9, \"107\": 1, \"120\": 1}, \"127\": {\"127\": 12}, \"46\": {\"46\": 8, \"67\": 1, \"118\": 1}, \"84\": {\"46\": 2, \"84\": 6, \"83\": 2, \"90\": 2}, \"18\": {\"18\": 10, \"2\": 2}, \"123\": {\"123\": 10}, \"56\": {\"71\": 2, \"56\": 5, \"115\": 2, \"107\": 2, \"15\": 1}, \"26\": {\"26\": 8, \"21\": 2, \"99\": 1, \"81\": 1}, \"14\": {\"65\": 1, \"14\": 5, \"94\": 2, \"50\": 2, \"43\": 1, \"117\": 1}, \"109\": {\"109\": 6, \"87\": 1, \"90\": 1, \"102\": 2, \"100\": 2}, \"66\": {\"66\": 12}, \"24\": {\"24\": 2, \"66\": 1, \"25\": 1, \"8\": 1, \"11\": 3, \"6\": 1, \"122\": 1, \"34\": 2}, \"71\": {\"65\": 1, \"71\": 2, \"112\": 2, \"86\": 1, \"105\": 3, \"11\": 1, \"122\": 2}, \"65\": {\"65\": 8, \"75\": 1, \"26\": 1, \"81\": 1, \"41\": 1}, \"75\": {\"75\": 8, \"15\": 2, \"6\": 1, \"21\": 1}, \"111\": {\"111\": 9, \"91\": 1, \"127\": 1, \"35\": 1}, \"30\": {\"30\": 3, \"127\": 2, \"77\": 2, \"106\": 1, \"6\": 2, \"57\": 1, \"128\": 1}, \"85\": {\"85\": 10, \"129\": 1, \"19\": 1}, \"113\": {\"113\": 10}, \"45\": {\"45\": 8, \"83\": 2, \"90\": 2}, \"29\": {\"24\": 1, \"29\": 5, \"59\": 3, \"74\": 2, \"21\": 1}, \"20\": {\"20\": 12}, \"25\": {\"25\": 8, \"106\": 4}, \"0\": {\"0\": 8, \"91\": 2, \"36\": 1, \"98\": 1}, \"68\": {\"68\": 12}, \"119\": {\"119\": 12}, \"90\": {\"90\": 5, \"126\": 3, \"67\": 1, \"46\": 1, \"33\": 1, \"119\": 1}, \"38\": {\"38\": 12}, \"99\": {\"99\": 12}, \"1\": {\"1\": 10, \"70\": 1, \"55\": 1}, \"67\": {\"1\": 2, \"69\": 1, \"67\": 6, \"125\": 1, \"93\": 1, \"75\": 1}, \"63\": {\"63\": 12}, \"34\": {\"34\": 5, \"86\": 2, \"79\": 1, \"128\": 1, \"127\": 1, \"112\": 1, \"124\": 1}, \"108\": {\"108\": 8, \"34\": 1, \"129\": 1, \"123\": 1, \"104\": 1}, \"40\": {\"40\": 10, \"5\": 1, \"55\": 1}, \"47\": {\"43\": 2, \"127\": 1, \"47\": 7, \"129\": 2}, \"37\": {\"37\": 12}, \"78\": {\"21\": 1, \"90\": 1, \"3\": 1, \"78\": 1, \"40\": 1, \"49\": 1, \"50\": 1, \"31\": 1, \"122\": 1, \"67\": 1, \"120\": 1, \"66\": 1}, \"96\": {\"102\": 2, \"96\": 9, \"109\": 1}, \"43\": {\"78\": 1, \"98\": 1, \"44\": 2, \"42\": 1, \"43\": 1, \"62\": 2, \"19\": 1, \"123\": 1, \"14\": 2}, \"5\": {\"5\": 8, \"40\": 1, \"122\": 1}, \"124\": {\"124\": 10, \"122\": 1, \"114\": 1}, \"44\": {\"44\": 11, \"50\": 1}, \"41\": {\"103\": 2, \"41\": 8, \"0\": 1, \"99\": 1}, \"116\": {\"89\": 1, \"116\": 5, \"16\": 2, \"109\": 1, \"33\": 3}, \"19\": {\"44\": 1, \"64\": 1, \"19\": 6, \"123\": 1, \"47\": 2, \"85\": 1}, \"115\": {\"78\": 1, \"11\": 2, \"122\": 1, \"95\": 1, \"129\": 2, \"124\": 1, \"110\": 1, \"115\": 1, \"105\": 2}, \"95\": {\"95\": 8, \"48\": 1, \"122\": 1, \"54\": 2}, \"3\": {\"78\": 2, \"3\": 5, \"122\": 1, \"107\": 1, \"112\": 1}, \"59\": {\"127\": 2, \"59\": 6, \"74\": 1, \"29\": 1, \"91\": 2}, \"55\": {\"55\": 11, \"84\": 1}, \"70\": {\"55\": 2, \"46\": 1, \"76\": 1, \"1\": 1, \"70\": 2, \"60\": 1, \"67\": 1, \"123\": 1, \"33\": 2}, \"6\": {\"6\": 10, \"25\": 1, \"51\": 1}, \"2\": {\"48\": 1, \"2\": 8, \"16\": 2, \"45\": 1}, \"48\": {\"48\": 10, \"81\": 1, \"13\": 1}, \"23\": {\"23\": 3, \"108\": 1, \"61\": 1, \"100\": 2, \"68\": 1, \"65\": 1, \"52\": 1, \"26\": 1, \"48\": 1}, \"7\": {\"7\": 11, \"127\": 1}, \"122\": {\"122\": 6, \"128\": 1, \"22\": 1, \"95\": 1, \"107\": 1, \"32\": 1, \"123\": 1}, \"57\": {\"57\": 11, \"120\": 1}, \"39\": {\"96\": 1, \"100\": 1, \"48\": 1, \"39\": 3, \"72\": 1, \"69\": 1, \"88\": 2}, \"79\": {\"27\": 1, \"79\": 9, \"24\": 1, \"101\": 1}, \"27\": {\"27\": 7, \"58\": 3}, \"74\": {\"74\": 8, \"79\": 1, \"108\": 1, \"120\": 1, \"41\": 1}, \"73\": {\"73\": 12}, \"62\": {\"62\": 12}, \"107\": {\"107\": 10, \"114\": 1, \"112\": 1}, \"128\": {\"5\": 1, \"37\": 1, \"59\": 3, \"50\": 1, \"115\": 1, \"40\": 1, \"105\": 1, \"128\": 1, \"108\": 2}, \"60\": {\"37\": 1, \"62\": 1, \"83\": 1, \"60\": 4, \"118\": 1, \"55\": 2, \"123\": 1, \"40\": 1}, \"114\": {\"114\": 8, \"124\": 2, \"4\": 1, \"22\": 1}, \"22\": {\"22\": 9, \"122\": 1, \"40\": 2}, \"93\": {\"93\": 11, \"109\": 1}, \"94\": {\"29\": 1, \"27\": 1, \"59\": 1, \"58\": 1, \"94\": 5, \"97\": 1, \"20\": 1, \"101\": 1}, \"31\": {\"89\": 2, \"31\": 4, \"102\": 2, \"84\": 1, \"45\": 1}, \"104\": {\"104\": 10, \"128\": 1, \"11\": 1}, \"58\": {\"58\": 12}}, \"C_A_2\": {\"14\": {\"47\": 2, \"43\": 1, \"24\": 2, \"14\": 3, \"7\": 2, \"10\": 2}, \"22\": {\"22\": 12}, \"9\": {\"9\": 11, \"6\": 1}, \"47\": {\"47\": 8, \"14\": 1, \"23\": 1, \"57\": 2}, \"13\": {\"22\": 1, \"13\": 11}, \"8\": {\"8\": 10, \"53\": 2}, \"7\": {\"7\": 11, \"47\": 1}, \"49\": {\"49\": 12}, \"20\": {\"20\": 12}, \"16\": {\"14\": 2, \"16\": 7, \"5\": 1, \"23\": 1, \"31\": 1}, \"34\": {\"34\": 12}, \"56\": {\"56\": 10, \"22\": 1, \"10\": 1}, \"38\": {\"38\": 10}, \"4\": {\"4\": 10, \"35\": 2}, \"43\": {\"43\": 10}, \"26\": {\"26\": 10}, \"35\": {\"35\": 12}, \"31\": {\"31\": 12}, \"1\": {\"1\": 8, \"42\": 1, \"7\": 2, \"15\": 1}, \"39\": {\"39\": 10, \"0\": 2}, \"5\": {\"15\": 1, \"31\": 1, \"5\": 8, \"23\": 1, \"57\": 1}, \"24\": {\"24\": 12}, \"54\": {\"54\": 10}, \"23\": {\"15\": 2, \"23\": 8, \"47\": 2}, \"51\": {\"51\": 12}, \"27\": {\"27\": 10}, \"15\": {\"15\": 11, \"14\": 1}, \"0\": {\"0\": 9, \"31\": 1, \"14\": 1, \"28\": 1}, \"19\": {\"19\": 8, \"40\": 2}, \"18\": {\"18\": 6, \"30\": 2}, \"30\": {\"18\": 3, \"30\": 7, \"7\": 1, \"41\": 1}, \"55\": {\"55\": 8, \"33\": 1, \"3\": 1}, \"57\": {\"57\": 10, \"16\": 1, \"5\": 1}, \"2\": {\"30\": 1, \"2\": 11}, \"12\": {\"12\": 8}, \"41\": {\"41\": 7, \"42\": 3, \"48\": 1, \"49\": 1}, \"42\": {\"42\": 7, \"41\": 1, \"7\": 1, \"18\": 1, \"30\": 2}, \"48\": {\"48\": 12}, \"37\": {\"37\": 12}, \"6\": {\"6\": 6, \"9\": 2, \"53\": 1, \"50\": 1}, \"11\": {\"11\": 8, \"15\": 2}, \"45\": {\"12\": 2, \"35\": 4, \"4\": 2}, \"21\": {\"21\": 12}, \"46\": {\"41\": 1, \"36\": 1, \"46\": 3, \"48\": 1, \"3\": 3, \"42\": 1}, \"25\": {\"25\": 9, \"9\": 1, \"21\": 2}, \"36\": {\"36\": 10}, \"53\": {\"53\": 12}, \"28\": {\"28\": 8, \"0\": 3, \"39\": 1}, \"40\": {\"40\": 9, \"21\": 1}, \"33\": {\"33\": 10}, \"44\": {\"44\": 10}, \"3\": {\"3\": 6, \"30\": 2, \"21\": 1, \"48\": 1, \"6\": 1, \"46\": 1}, \"17\": {\"17\": 12}, \"32\": {\"32\": 7, \"17\": 1, \"53\": 1, \"26\": 1}, \"10\": {\"10\": 8, \"56\": 2}, \"52\": {\"52\": 8, \"30\": 1, \"29\": 1}, \"50\": {\"32\": 1, \"50\": 6, \"21\": 1}, \"29\": {\"29\": 4, \"49\": 1, \"33\": 1}}}, \"per_domain_accuracy\": {\"ORACLE.run2_14\": {\"accuracy\": 0.8809895833333333, \"source?\": true}, \"ORACLE.run2_20\": {\"accuracy\": 0.7705729166666667, \"source?\": true}, \"ORACLE.run2_38\": {\"accuracy\": 0.6986979166666667, \"source?\": true}, \"ORACLE.run2_8\": {\"accuracy\": 0.809375, \"source?\": true}, \"ORACLE.run2_50\": {\"accuracy\": 0.8447916666666667, \"source?\": true}, \"ORACLE.run2_32\": {\"accuracy\": 0.8502604166666666, \"source?\": true}, \"ORACLE.run2_26\": {\"accuracy\": 0.67578125, \"source?\": true}, \"ORACLE.run2_44\": {\"accuracy\": 0.778125, \"source?\": true}, \"C_A_3\": {\"accuracy\": 0.825, \"source?\": false}, \"C_A_4\": {\"accuracy\": 0.8140625, \"source?\": false}, \"C_A_5\": {\"accuracy\": 0.8171875, \"source?\": false}, \"W_A_3\": {\"accuracy\": 0.662109375, \"source?\": false}, \"C_A_1\": {\"accuracy\": 0.859375, \"source?\": false}, \"W_A_4\": {\"accuracy\": 0.619140625, \"source?\": false}, \"W_A_1\": {\"accuracy\": 0.64453125, \"source?\": false}, \"W_A_2\": {\"accuracy\": 0.6516927083333334, \"source?\": false}, \"C_A_2\": {\"accuracy\": 0.8203125, \"source?\": false}}}, \"history\": {\"epoch_indices\": [1, 2, 3, 4, 5, 6], \"train_label_loss\": [0.8842082228977233, 0.9817588115055558, 0.5508570763132801, 0.46482224159117325, 0.4333607284587786, 0.3940021879011987], \"source_val_label_loss\": [40.60803985595703, 0.6258087754249573, 0.5421609282493591, 0.46595633029937744, 0.45739850401878357, 0.42505180835723877], \"target_val_label_loss\": [743.0784912109375, 48.549686431884766, 192.419921875, 303.6929931640625, 323.01641845703125, 428.4621887207031], \"source_val_acc_label\": [0.649609375, 0.78857421875, 0.8126953125, 0.8429361979166666, 0.8430338541666667, 0.85166015625], \"target_val_acc_label\": [0.6055222602739726, 0.7069777397260274, 0.625535102739726, 0.5595034246575342, 0.5824058219178082, 0.6430864726027398]}, \"dataset_metrics\": {\"source\": {\"train\": {\"n_unique_x\": 179200, \"n_unique_y\": 16, \"n_batch/episode\": 6720}, \"val\": {\"n_unique_x\": 38400, \"n_unique_y\": 16, \"n_batch/episode\": 960}, \"test\": {\"n_unique_x\": 38400, \"n_unique_y\": 16, \"n_batch/episode\": 960}}, \"target\": {\"train\": {\"n_unique_x\": 56700, \"n_unique_y\": 130, \"n_batch/episode\": 2080}, \"val\": {\"n_unique_x\": 12132, \"n_unique_y\": 130, \"n_batch/episode\": 292}, \"test\": {\"n_unique_x\": 12132, \"n_unique_y\": 130, \"n_batch/episode\": 292}}}}'"
      ]
     },
     "execution_count": 29,
     "metadata": {},
     "output_type": "execute_result"
    }
   ],
   "source": [
    "json.dumps(experiment)"
   ]
  }
 ],
 "metadata": {
  "celltoolbar": "Tags",
  "kernelspec": {
   "display_name": "Python 3 (ipykernel)",
   "language": "python",
   "name": "python3"
  },
  "language_info": {
   "codemirror_mode": {
    "name": "ipython",
    "version": 3
   },
   "file_extension": ".py",
   "mimetype": "text/x-python",
   "name": "python",
   "nbconvert_exporter": "python",
   "pygments_lexer": "ipython3",
   "version": "3.8.10"
  },
  "papermill": {
   "default_parameters": {},
   "duration": 1190.110206,
   "end_time": "2022-03-17T03:42:13.310718",
   "environment_variables": {},
   "exception": null,
   "input_path": "/mnt/wd500GB/CSC500/csc500-main/csc500-notebooks/templates/tl_ptn_template.ipynb",
   "output_path": "trial.ipynb",
   "parameters": {
    "parameters": {
     "BEST_MODEL_PATH": "./best_model.pth",
     "NUM_LOGS_PER_EPOCH": 10,
     "criteria_for_best": "target_loss",
     "dataset_seed": 1337,
     "datasets": [
      {
       "domain_prefix": "C_A_",
       "domains": [
        1,
        2,
        3,
        4,
        5
       ],
       "episode_transforms": [],
       "labels": [
        "1-10.",
        "1-11.",
        "1-15.",
        "1-16.",
        "1-17.",
        "1-18.",
        "1-19.",
        "10-4.",
        "10-7.",
        "11-1.",
        "11-14.",
        "11-17.",
        "11-20.",
        "11-7.",
        "13-20.",
        "13-8.",
        "14-10.",
        "14-11.",
        "14-14.",
        "14-7.",
        "15-1.",
        "15-20.",
        "16-1.",
        "16-16.",
        "17-10.",
        "17-11.",
        "17-2.",
        "19-1.",
        "19-16.",
        "19-19.",
        "19-20.",
        "19-3.",
        "2-10.",
        "2-11.",
        "2-17.",
        "2-18.",
        "2-20.",
        "2-3.",
        "2-4.",
        "2-5.",
        "2-6.",
        "2-7.",
        "2-8.",
        "3-13.",
        "3-18.",
        "3-3.",
        "4-1.",
        "4-10.",
        "4-11.",
        "4-19.",
        "5-5.",
        "6-15.",
        "7-10.",
        "7-14.",
        "8-18.",
        "8-20.",
        "8-3.",
        "8-8."
       ],
       "num_examples_per_domain_per_label": 100,
       "pickle_path": "/mnt/wd500GB/CSC500/csc500-main/datasets/cores.stratified_ds.2022A.pkl",
       "source_or_target_dataset": "target",
       "x_transforms": [
        "unit_mag"
       ]
      },
      {
       "domain_prefix": "W_A_",
       "domains": [
        1,
        2,
        3,
        4
       ],
       "episode_transforms": [],
       "labels": [
        "1-10",
        "1-12",
        "1-14",
        "1-16",
        "1-18",
        "1-19",
        "1-8",
        "10-11",
        "10-17",
        "10-4",
        "10-7",
        "11-1",
        "11-10",
        "11-19",
        "11-20",
        "11-4",
        "11-7",
        "12-19",
        "12-20",
        "12-7",
        "13-14",
        "13-18",
        "13-19",
        "13-20",
        "13-3",
        "13-7",
        "14-10",
        "14-11",
        "14-12",
        "14-13",
        "14-14",
        "14-19",
        "14-20",
        "14-7",
        "14-8",
        "14-9",
        "15-1",
        "15-19",
        "15-6",
        "16-1",
        "16-16",
        "16-19",
        "16-20",
        "17-10",
        "17-11",
        "18-1",
        "18-10",
        "18-11",
        "18-12",
        "18-13",
        "18-14",
        "18-15",
        "18-16",
        "18-17",
        "18-19",
        "18-2",
        "18-20",
        "18-4",
        "18-5",
        "18-7",
        "18-8",
        "18-9",
        "19-1",
        "19-10",
        "19-11",
        "19-12",
        "19-13",
        "19-14",
        "19-15",
        "19-19",
        "19-2",
        "19-20",
        "19-3",
        "19-4",
        "19-6",
        "19-7",
        "19-8",
        "19-9",
        "2-1",
        "2-13",
        "2-15",
        "2-3",
        "2-4",
        "2-5",
        "2-6",
        "2-7",
        "2-8",
        "20-1",
        "20-12",
        "20-14",
        "20-15",
        "20-16",
        "20-18",
        "20-19",
        "20-20",
        "20-3",
        "20-4",
        "20-5",
        "20-7",
        "20-8",
        "3-1",
        "3-13",
        "3-18",
        "3-2",
        "3-8",
        "4-1",
        "4-10",
        "4-11",
        "5-1",
        "5-5",
        "6-1",
        "6-15",
        "6-6",
        "7-10",
        "7-11",
        "7-12",
        "7-13",
        "7-14",
        "7-7",
        "7-8",
        "7-9",
        "8-1",
        "8-13",
        "8-14",
        "8-18",
        "8-20",
        "8-3",
        "8-8",
        "9-1",
        "9-7"
       ],
       "num_examples_per_domain_per_label": 100,
       "pickle_path": "/mnt/wd500GB/CSC500/csc500-main/datasets/wisig.node3-19.stratified_ds.2022A.pkl",
       "source_or_target_dataset": "target",
       "x_transforms": [
        "unit_mag"
       ]
      },
      {
       "domain_prefix": "ORACLE.run2_",
       "domains": [
        32,
        38,
        8,
        44,
        14,
        50,
        20,
        26
       ],
       "episode_transforms": [],
       "labels": [
        "3123D52",
        "3123D65",
        "3123D79",
        "3123D80",
        "3123D54",
        "3123D70",
        "3123D7B",
        "3123D89",
        "3123D58",
        "3123D76",
        "3123D7D",
        "3123EFE",
        "3123D64",
        "3123D78",
        "3123D7E",
        "3124E4A"
       ],
       "num_examples_per_domain_per_label": 2000,
       "pickle_path": "/mnt/wd500GB/CSC500/csc500-main/datasets/oracle.Run2_framed_2000Examples_stratified_ds.2022A.pkl",
       "source_or_target_dataset": "source",
       "x_transforms": [
        "unit_mag"
       ]
      }
     ],
     "device": "cuda",
     "experiment_name": "oracle.run2.framed -> cores+wisig",
     "lr": 0.001,
     "n_epoch": 50,
     "n_query": 2,
     "n_shot": 3,
     "n_way": 16,
     "patience": 3,
     "seed": 1337,
     "test_k_factor": 2,
     "torch_default_dtype": "torch.float32",
     "train_k_factor": 3,
     "val_k_factor": 2,
     "x_net": [
      {
       "class": "nnReshape",
       "kargs": {
        "shape": [
         -1,
         1,
         2,
         256
        ]
       }
      },
      {
       "class": "Conv2d",
       "kargs": {
        "bias": false,
        "in_channels": 1,
        "kernel_size": [
         1,
         7
        ],
        "out_channels": 256,
        "padding": [
         0,
         3
        ]
       }
      },
      {
       "class": "ReLU",
       "kargs": {
        "inplace": true
       }
      },
      {
       "class": "BatchNorm2d",
       "kargs": {
        "num_features": 256
       }
      },
      {
       "class": "Conv2d",
       "kargs": {
        "bias": true,
        "in_channels": 256,
        "kernel_size": [
         2,
         7
        ],
        "out_channels": 80,
        "padding": [
         0,
         3
        ]
       }
      },
      {
       "class": "ReLU",
       "kargs": {
        "inplace": true
       }
      },
      {
       "class": "BatchNorm2d",
       "kargs": {
        "num_features": 80
       }
      },
      {
       "class": "Flatten",
       "kargs": {}
      },
      {
       "class": "Linear",
       "kargs": {
        "in_features": 20480,
        "out_features": 256
       }
      },
      {
       "class": "ReLU",
       "kargs": {
        "inplace": true
       }
      },
      {
       "class": "BatchNorm1d",
       "kargs": {
        "num_features": 256
       }
      },
      {
       "class": "Linear",
       "kargs": {
        "in_features": 256,
        "out_features": 256
       }
      }
     ]
    }
   },
   "start_time": "2022-03-17T03:22:23.200512",
   "version": "2.3.4"
  }
 },
 "nbformat": 4,
 "nbformat_minor": 5
}