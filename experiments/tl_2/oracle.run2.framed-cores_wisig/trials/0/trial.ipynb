{
 "cells": [
  {
   "cell_type": "markdown",
   "id": "9fea5f46",
   "metadata": {
    "papermill": {
     "duration": 0.018907,
     "end_time": "2022-03-17T02:56:33.739299",
     "exception": false,
     "start_time": "2022-03-17T02:56:33.720392",
     "status": "completed"
    },
    "tags": []
   },
   "source": [
    "# Transfer Learning Template"
   ]
  },
  {
   "cell_type": "code",
   "execution_count": 1,
   "id": "0902182a",
   "metadata": {
    "execution": {
     "iopub.execute_input": "2022-03-17T02:56:33.778941Z",
     "iopub.status.busy": "2022-03-17T02:56:33.778374Z",
     "iopub.status.idle": "2022-03-17T02:56:34.683903Z",
     "shell.execute_reply": "2022-03-17T02:56:34.684130Z"
    },
    "papermill": {
     "duration": 0.931539,
     "end_time": "2022-03-17T02:56:34.684246",
     "exception": false,
     "start_time": "2022-03-17T02:56:33.752707",
     "status": "completed"
    },
    "tags": []
   },
   "outputs": [],
   "source": [
    "%load_ext autoreload\n",
    "%autoreload 2\n",
    "%matplotlib inline\n",
    "\n",
    "    \n",
    "import os, json, sys, time, random\n",
    "import numpy as np\n",
    "import torch\n",
    "from torch.optim import Adam\n",
    "from  easydict import EasyDict\n",
    "import matplotlib.pyplot as plt\n",
    "\n",
    "from steves_models.steves_ptn import Steves_Prototypical_Network\n",
    "\n",
    "from steves_utils.lazy_iterable_wrapper import Lazy_Iterable_Wrapper\n",
    "from steves_utils.iterable_aggregator import Iterable_Aggregator\n",
    "from steves_utils.ptn_train_eval_test_jig import  PTN_Train_Eval_Test_Jig\n",
    "from steves_utils.torch_sequential_builder import build_sequential\n",
    "from steves_utils.torch_utils import get_dataset_metrics, ptn_confusion_by_domain_over_dataloader\n",
    "from steves_utils.utils_v2 import (per_domain_accuracy_from_confusion, get_datasets_base_path)\n",
    "from steves_utils.PTN.utils import independent_accuracy_assesment\n",
    "\n",
    "from torch.utils.data import DataLoader\n",
    "\n",
    "from steves_utils.stratified_dataset.episodic_accessor import Episodic_Accessor_Factory\n",
    "\n",
    "from steves_utils.ptn_do_report import (\n",
    "    get_loss_curve,\n",
    "    get_results_table,\n",
    "    get_parameters_table,\n",
    "    get_domain_accuracies,\n",
    ")\n",
    "\n",
    "from steves_utils.transforms import get_chained_transform"
   ]
  },
  {
   "cell_type": "markdown",
   "id": "41c840b4",
   "metadata": {
    "papermill": {
     "duration": 0.012584,
     "end_time": "2022-03-17T02:56:34.712327",
     "exception": false,
     "start_time": "2022-03-17T02:56:34.699743",
     "status": "completed"
    },
    "tags": []
   },
   "source": [
    "# Allowed Parameters\n",
    "These are allowed parameters, not defaults\n",
    "Each of these values need to be present in the injected parameters (the notebook will raise an exception if they are not present)\n",
    "\n",
    "Papermill uses the cell tag \"parameters\" to inject the real parameters below this cell.\n",
    "Enable tags to see what I mean"
   ]
  },
  {
   "cell_type": "code",
   "execution_count": 2,
   "id": "fd44eb83",
   "metadata": {
    "execution": {
     "iopub.execute_input": "2022-03-17T02:56:34.740751Z",
     "iopub.status.busy": "2022-03-17T02:56:34.740488Z",
     "iopub.status.idle": "2022-03-17T02:56:34.754965Z",
     "shell.execute_reply": "2022-03-17T02:56:34.754561Z"
    },
    "papermill": {
     "duration": 0.029981,
     "end_time": "2022-03-17T02:56:34.755057",
     "exception": false,
     "start_time": "2022-03-17T02:56:34.725076",
     "status": "completed"
    },
    "tags": []
   },
   "outputs": [],
   "source": [
    "required_parameters = {\n",
    "    \"experiment_name\",\n",
    "    \"lr\",\n",
    "    \"device\",\n",
    "    \"seed\",\n",
    "    \"dataset_seed\",\n",
    "    \"n_shot\",\n",
    "    \"n_query\",\n",
    "    \"n_way\",\n",
    "    \"train_k_factor\",\n",
    "    \"val_k_factor\",\n",
    "    \"test_k_factor\",\n",
    "    \"n_epoch\",\n",
    "    \"patience\",\n",
    "    \"criteria_for_best\",\n",
    "    \"x_net\",\n",
    "    \"datasets\",\n",
    "    \"torch_default_dtype\",\n",
    "    \"NUM_LOGS_PER_EPOCH\",\n",
    "    \"BEST_MODEL_PATH\",\n",
    "}"
   ]
  },
  {
   "cell_type": "code",
   "execution_count": 3,
   "id": "fa3f0049",
   "metadata": {
    "execution": {
     "iopub.execute_input": "2022-03-17T02:56:34.794955Z",
     "iopub.status.busy": "2022-03-17T02:56:34.786187Z",
     "iopub.status.idle": "2022-03-17T02:56:34.807468Z",
     "shell.execute_reply": "2022-03-17T02:56:34.807841Z"
    },
    "papermill": {
     "duration": 0.036076,
     "end_time": "2022-03-17T02:56:34.807946",
     "exception": false,
     "start_time": "2022-03-17T02:56:34.771870",
     "status": "completed"
    },
    "tags": [
     "parameters"
    ]
   },
   "outputs": [],
   "source": [
    "from steves_utils.CORES.utils import (\n",
    "    ALL_NODES,\n",
    "    ALL_NODES_MINIMUM_1000_EXAMPLES,\n",
    "    ALL_DAYS\n",
    ")\n",
    "\n",
    "from steves_utils.ORACLE.utils_v2 import (\n",
    "    ALL_DISTANCES_FEET_NARROWED,\n",
    "    ALL_RUNS,\n",
    "    ALL_SERIAL_NUMBERS,\n",
    ")\n",
    "\n",
    "standalone_parameters = {}\n",
    "standalone_parameters[\"experiment_name\"] = \"STANDALONE PTN\"\n",
    "standalone_parameters[\"lr\"] = 0.001\n",
    "standalone_parameters[\"device\"] = \"cuda\"\n",
    "\n",
    "standalone_parameters[\"seed\"] = 1337\n",
    "standalone_parameters[\"dataset_seed\"] = 1337\n",
    "\n",
    "standalone_parameters[\"n_way\"] = 8\n",
    "standalone_parameters[\"n_shot\"] = 3\n",
    "standalone_parameters[\"n_query\"]  = 2\n",
    "standalone_parameters[\"train_k_factor\"] = 1\n",
    "standalone_parameters[\"val_k_factor\"] = 2\n",
    "standalone_parameters[\"test_k_factor\"] = 2\n",
    "\n",
    "\n",
    "standalone_parameters[\"n_epoch\"] = 50\n",
    "\n",
    "standalone_parameters[\"patience\"] = 10\n",
    "standalone_parameters[\"criteria_for_best\"] = \"source_loss\"\n",
    "\n",
    "standalone_parameters[\"datasets\"] = [\n",
    "    {\n",
    "        \"labels\": ALL_SERIAL_NUMBERS,\n",
    "        \"domains\": ALL_DISTANCES_FEET_NARROWED,\n",
    "        \"num_examples_per_domain_per_label\": 100,\n",
    "        \"pickle_path\": os.path.join(get_datasets_base_path(), \"oracle.Run1_framed_2000Examples_stratified_ds.2022A.pkl\"),\n",
    "        \"source_or_target_dataset\": \"source\",\n",
    "        \"x_transforms\": [\"unit_mag\", \"minus_two\"],\n",
    "        \"episode_transforms\": [],\n",
    "        \"domain_prefix\": \"ORACLE_\"\n",
    "    },\n",
    "    {\n",
    "        \"labels\": ALL_NODES,\n",
    "        \"domains\": ALL_DAYS,\n",
    "        \"num_examples_per_domain_per_label\": 100,\n",
    "        \"pickle_path\": os.path.join(get_datasets_base_path(), \"cores.stratified_ds.2022A.pkl\"),\n",
    "        \"source_or_target_dataset\": \"target\",\n",
    "        \"x_transforms\": [\"unit_power\", \"times_zero\"],\n",
    "        \"episode_transforms\": [],\n",
    "        \"domain_prefix\": \"CORES_\"\n",
    "    }   \n",
    "]\n",
    "\n",
    "standalone_parameters[\"torch_default_dtype\"] = \"torch.float32\" \n",
    "\n",
    "\n",
    "\n",
    "standalone_parameters[\"x_net\"] =     [\n",
    "    {\"class\": \"nnReshape\", \"kargs\": {\"shape\":[-1, 1, 2, 256]}},\n",
    "    {\"class\": \"Conv2d\", \"kargs\": { \"in_channels\":1, \"out_channels\":256, \"kernel_size\":(1,7), \"bias\":False, \"padding\":(0,3), },},\n",
    "    {\"class\": \"ReLU\", \"kargs\": {\"inplace\": True}},\n",
    "    {\"class\": \"BatchNorm2d\", \"kargs\": {\"num_features\":256}},\n",
    "\n",
    "    {\"class\": \"Conv2d\", \"kargs\": { \"in_channels\":256, \"out_channels\":80, \"kernel_size\":(2,7), \"bias\":True, \"padding\":(0,3), },},\n",
    "    {\"class\": \"ReLU\", \"kargs\": {\"inplace\": True}},\n",
    "    {\"class\": \"BatchNorm2d\", \"kargs\": {\"num_features\":80}},\n",
    "    {\"class\": \"Flatten\", \"kargs\": {}},\n",
    "\n",
    "    {\"class\": \"Linear\", \"kargs\": {\"in_features\": 80*256, \"out_features\": 256}}, # 80 units per IQ pair\n",
    "    {\"class\": \"ReLU\", \"kargs\": {\"inplace\": True}},\n",
    "    {\"class\": \"BatchNorm1d\", \"kargs\": {\"num_features\":256}},\n",
    "\n",
    "    {\"class\": \"Linear\", \"kargs\": {\"in_features\": 256, \"out_features\": 256}},\n",
    "]\n",
    "\n",
    "# Parameters relevant to results\n",
    "# These parameters will basically never need to change\n",
    "standalone_parameters[\"NUM_LOGS_PER_EPOCH\"] = 10\n",
    "standalone_parameters[\"BEST_MODEL_PATH\"] = \"./best_model.pth\"\n",
    "\n",
    "\n",
    "\n",
    "\n"
   ]
  },
  {
   "cell_type": "code",
   "execution_count": 4,
   "id": "7cb33650",
   "metadata": {
    "execution": {
     "iopub.execute_input": "2022-03-17T02:56:34.851450Z",
     "iopub.status.busy": "2022-03-17T02:56:34.850852Z",
     "iopub.status.idle": "2022-03-17T02:56:34.863530Z",
     "shell.execute_reply": "2022-03-17T02:56:34.863901Z"
    },
    "papermill": {
     "duration": 0.039633,
     "end_time": "2022-03-17T02:56:34.864005",
     "exception": false,
     "start_time": "2022-03-17T02:56:34.824372",
     "status": "completed"
    },
    "tags": [
     "injected-parameters"
    ]
   },
   "outputs": [],
   "source": [
    "# Parameters\n",
    "parameters = {\n",
    "    \"experiment_name\": \"oracle.run2.framed -> cores+wisig\",\n",
    "    \"device\": \"cuda\",\n",
    "    \"lr\": 0.001,\n",
    "    \"seed\": 1337,\n",
    "    \"dataset_seed\": 1337,\n",
    "    \"n_shot\": 3,\n",
    "    \"n_query\": 2,\n",
    "    \"train_k_factor\": 3,\n",
    "    \"val_k_factor\": 2,\n",
    "    \"test_k_factor\": 2,\n",
    "    \"torch_default_dtype\": \"torch.float32\",\n",
    "    \"n_epoch\": 50,\n",
    "    \"patience\": 3,\n",
    "    \"criteria_for_best\": \"target_loss\",\n",
    "    \"x_net\": [\n",
    "        {\"class\": \"nnReshape\", \"kargs\": {\"shape\": [-1, 1, 2, 256]}},\n",
    "        {\n",
    "            \"class\": \"Conv2d\",\n",
    "            \"kargs\": {\n",
    "                \"in_channels\": 1,\n",
    "                \"out_channels\": 256,\n",
    "                \"kernel_size\": [1, 7],\n",
    "                \"bias\": False,\n",
    "                \"padding\": [0, 3],\n",
    "            },\n",
    "        },\n",
    "        {\"class\": \"ReLU\", \"kargs\": {\"inplace\": True}},\n",
    "        {\"class\": \"BatchNorm2d\", \"kargs\": {\"num_features\": 256}},\n",
    "        {\n",
    "            \"class\": \"Conv2d\",\n",
    "            \"kargs\": {\n",
    "                \"in_channels\": 256,\n",
    "                \"out_channels\": 80,\n",
    "                \"kernel_size\": [2, 7],\n",
    "                \"bias\": True,\n",
    "                \"padding\": [0, 3],\n",
    "            },\n",
    "        },\n",
    "        {\"class\": \"ReLU\", \"kargs\": {\"inplace\": True}},\n",
    "        {\"class\": \"BatchNorm2d\", \"kargs\": {\"num_features\": 80}},\n",
    "        {\"class\": \"Flatten\", \"kargs\": {}},\n",
    "        {\"class\": \"Linear\", \"kargs\": {\"in_features\": 20480, \"out_features\": 256}},\n",
    "        {\"class\": \"ReLU\", \"kargs\": {\"inplace\": True}},\n",
    "        {\"class\": \"BatchNorm1d\", \"kargs\": {\"num_features\": 256}},\n",
    "        {\"class\": \"Linear\", \"kargs\": {\"in_features\": 256, \"out_features\": 256}},\n",
    "    ],\n",
    "    \"NUM_LOGS_PER_EPOCH\": 10,\n",
    "    \"BEST_MODEL_PATH\": \"./best_model.pth\",\n",
    "    \"n_way\": 16,\n",
    "    \"datasets\": [\n",
    "        {\n",
    "            \"labels\": [\n",
    "                \"1-10.\",\n",
    "                \"1-11.\",\n",
    "                \"1-15.\",\n",
    "                \"1-16.\",\n",
    "                \"1-17.\",\n",
    "                \"1-18.\",\n",
    "                \"1-19.\",\n",
    "                \"10-4.\",\n",
    "                \"10-7.\",\n",
    "                \"11-1.\",\n",
    "                \"11-14.\",\n",
    "                \"11-17.\",\n",
    "                \"11-20.\",\n",
    "                \"11-7.\",\n",
    "                \"13-20.\",\n",
    "                \"13-8.\",\n",
    "                \"14-10.\",\n",
    "                \"14-11.\",\n",
    "                \"14-14.\",\n",
    "                \"14-7.\",\n",
    "                \"15-1.\",\n",
    "                \"15-20.\",\n",
    "                \"16-1.\",\n",
    "                \"16-16.\",\n",
    "                \"17-10.\",\n",
    "                \"17-11.\",\n",
    "                \"17-2.\",\n",
    "                \"19-1.\",\n",
    "                \"19-16.\",\n",
    "                \"19-19.\",\n",
    "                \"19-20.\",\n",
    "                \"19-3.\",\n",
    "                \"2-10.\",\n",
    "                \"2-11.\",\n",
    "                \"2-17.\",\n",
    "                \"2-18.\",\n",
    "                \"2-20.\",\n",
    "                \"2-3.\",\n",
    "                \"2-4.\",\n",
    "                \"2-5.\",\n",
    "                \"2-6.\",\n",
    "                \"2-7.\",\n",
    "                \"2-8.\",\n",
    "                \"3-13.\",\n",
    "                \"3-18.\",\n",
    "                \"3-3.\",\n",
    "                \"4-1.\",\n",
    "                \"4-10.\",\n",
    "                \"4-11.\",\n",
    "                \"4-19.\",\n",
    "                \"5-5.\",\n",
    "                \"6-15.\",\n",
    "                \"7-10.\",\n",
    "                \"7-14.\",\n",
    "                \"8-18.\",\n",
    "                \"8-20.\",\n",
    "                \"8-3.\",\n",
    "                \"8-8.\",\n",
    "            ],\n",
    "            \"domains\": [1, 2, 3, 4, 5],\n",
    "            \"num_examples_per_domain_per_label\": 100,\n",
    "            \"pickle_path\": \"/mnt/wd500GB/CSC500/csc500-main/datasets/cores.stratified_ds.2022A.pkl\",\n",
    "            \"source_or_target_dataset\": \"target\",\n",
    "            \"x_transforms\": [\"unit_power\"],\n",
    "            \"episode_transforms\": [],\n",
    "            \"domain_prefix\": \"C_A_\",\n",
    "        },\n",
    "        {\n",
    "            \"labels\": [\n",
    "                \"1-10\",\n",
    "                \"1-12\",\n",
    "                \"1-14\",\n",
    "                \"1-16\",\n",
    "                \"1-18\",\n",
    "                \"1-19\",\n",
    "                \"1-8\",\n",
    "                \"10-11\",\n",
    "                \"10-17\",\n",
    "                \"10-4\",\n",
    "                \"10-7\",\n",
    "                \"11-1\",\n",
    "                \"11-10\",\n",
    "                \"11-19\",\n",
    "                \"11-20\",\n",
    "                \"11-4\",\n",
    "                \"11-7\",\n",
    "                \"12-19\",\n",
    "                \"12-20\",\n",
    "                \"12-7\",\n",
    "                \"13-14\",\n",
    "                \"13-18\",\n",
    "                \"13-19\",\n",
    "                \"13-20\",\n",
    "                \"13-3\",\n",
    "                \"13-7\",\n",
    "                \"14-10\",\n",
    "                \"14-11\",\n",
    "                \"14-12\",\n",
    "                \"14-13\",\n",
    "                \"14-14\",\n",
    "                \"14-19\",\n",
    "                \"14-20\",\n",
    "                \"14-7\",\n",
    "                \"14-8\",\n",
    "                \"14-9\",\n",
    "                \"15-1\",\n",
    "                \"15-19\",\n",
    "                \"15-6\",\n",
    "                \"16-1\",\n",
    "                \"16-16\",\n",
    "                \"16-19\",\n",
    "                \"16-20\",\n",
    "                \"17-10\",\n",
    "                \"17-11\",\n",
    "                \"18-1\",\n",
    "                \"18-10\",\n",
    "                \"18-11\",\n",
    "                \"18-12\",\n",
    "                \"18-13\",\n",
    "                \"18-14\",\n",
    "                \"18-15\",\n",
    "                \"18-16\",\n",
    "                \"18-17\",\n",
    "                \"18-19\",\n",
    "                \"18-2\",\n",
    "                \"18-20\",\n",
    "                \"18-4\",\n",
    "                \"18-5\",\n",
    "                \"18-7\",\n",
    "                \"18-8\",\n",
    "                \"18-9\",\n",
    "                \"19-1\",\n",
    "                \"19-10\",\n",
    "                \"19-11\",\n",
    "                \"19-12\",\n",
    "                \"19-13\",\n",
    "                \"19-14\",\n",
    "                \"19-15\",\n",
    "                \"19-19\",\n",
    "                \"19-2\",\n",
    "                \"19-20\",\n",
    "                \"19-3\",\n",
    "                \"19-4\",\n",
    "                \"19-6\",\n",
    "                \"19-7\",\n",
    "                \"19-8\",\n",
    "                \"19-9\",\n",
    "                \"2-1\",\n",
    "                \"2-13\",\n",
    "                \"2-15\",\n",
    "                \"2-3\",\n",
    "                \"2-4\",\n",
    "                \"2-5\",\n",
    "                \"2-6\",\n",
    "                \"2-7\",\n",
    "                \"2-8\",\n",
    "                \"20-1\",\n",
    "                \"20-12\",\n",
    "                \"20-14\",\n",
    "                \"20-15\",\n",
    "                \"20-16\",\n",
    "                \"20-18\",\n",
    "                \"20-19\",\n",
    "                \"20-20\",\n",
    "                \"20-3\",\n",
    "                \"20-4\",\n",
    "                \"20-5\",\n",
    "                \"20-7\",\n",
    "                \"20-8\",\n",
    "                \"3-1\",\n",
    "                \"3-13\",\n",
    "                \"3-18\",\n",
    "                \"3-2\",\n",
    "                \"3-8\",\n",
    "                \"4-1\",\n",
    "                \"4-10\",\n",
    "                \"4-11\",\n",
    "                \"5-1\",\n",
    "                \"5-5\",\n",
    "                \"6-1\",\n",
    "                \"6-15\",\n",
    "                \"6-6\",\n",
    "                \"7-10\",\n",
    "                \"7-11\",\n",
    "                \"7-12\",\n",
    "                \"7-13\",\n",
    "                \"7-14\",\n",
    "                \"7-7\",\n",
    "                \"7-8\",\n",
    "                \"7-9\",\n",
    "                \"8-1\",\n",
    "                \"8-13\",\n",
    "                \"8-14\",\n",
    "                \"8-18\",\n",
    "                \"8-20\",\n",
    "                \"8-3\",\n",
    "                \"8-8\",\n",
    "                \"9-1\",\n",
    "                \"9-7\",\n",
    "            ],\n",
    "            \"domains\": [1, 2, 3, 4],\n",
    "            \"num_examples_per_domain_per_label\": 100,\n",
    "            \"pickle_path\": \"/mnt/wd500GB/CSC500/csc500-main/datasets/wisig.node3-19.stratified_ds.2022A.pkl\",\n",
    "            \"source_or_target_dataset\": \"target\",\n",
    "            \"x_transforms\": [\"unit_power\"],\n",
    "            \"episode_transforms\": [],\n",
    "            \"domain_prefix\": \"W_A_\",\n",
    "        },\n",
    "        {\n",
    "            \"labels\": [\n",
    "                \"3123D52\",\n",
    "                \"3123D65\",\n",
    "                \"3123D79\",\n",
    "                \"3123D80\",\n",
    "                \"3123D54\",\n",
    "                \"3123D70\",\n",
    "                \"3123D7B\",\n",
    "                \"3123D89\",\n",
    "                \"3123D58\",\n",
    "                \"3123D76\",\n",
    "                \"3123D7D\",\n",
    "                \"3123EFE\",\n",
    "                \"3123D64\",\n",
    "                \"3123D78\",\n",
    "                \"3123D7E\",\n",
    "                \"3124E4A\",\n",
    "            ],\n",
    "            \"domains\": [32, 38, 8, 44, 14, 50, 20, 26],\n",
    "            \"num_examples_per_domain_per_label\": 2000,\n",
    "            \"pickle_path\": \"/mnt/wd500GB/CSC500/csc500-main/datasets/oracle.Run2_framed_2000Examples_stratified_ds.2022A.pkl\",\n",
    "            \"source_or_target_dataset\": \"source\",\n",
    "            \"x_transforms\": [\"unit_power\"],\n",
    "            \"episode_transforms\": [],\n",
    "            \"domain_prefix\": \"ORACLE.run2_\",\n",
    "        },\n",
    "    ],\n",
    "}\n"
   ]
  },
  {
   "cell_type": "code",
   "execution_count": 5,
   "id": "8fa1cc33",
   "metadata": {
    "execution": {
     "iopub.execute_input": "2022-03-17T02:56:34.899194Z",
     "iopub.status.busy": "2022-03-17T02:56:34.898933Z",
     "iopub.status.idle": "2022-03-17T02:56:34.914058Z",
     "shell.execute_reply": "2022-03-17T02:56:34.914428Z"
    },
    "papermill": {
     "duration": 0.032175,
     "end_time": "2022-03-17T02:56:34.914530",
     "exception": false,
     "start_time": "2022-03-17T02:56:34.882355",
     "status": "completed"
    },
    "tags": []
   },
   "outputs": [],
   "source": [
    "# Set this to True if you want to run this template directly\n",
    "STANDALONE = False\n",
    "if STANDALONE:\n",
    "    print(\"parameters not injected, running with standalone_parameters\")\n",
    "    parameters = standalone_parameters\n",
    "\n",
    "if not 'parameters' in locals() and not 'parameters' in globals():\n",
    "    raise Exception(\"Parameter injection failed\")\n",
    "\n",
    "#Use an easy dict for all the parameters\n",
    "p = EasyDict(parameters)\n",
    "\n",
    "supplied_keys = set(p.keys())\n",
    "\n",
    "if  supplied_keys != required_parameters:\n",
    "    print(\"Parameters are incorrect\")\n",
    "    if len(supplied_keys - required_parameters)>0: print(\"Shouldn't have:\", str(supplied_keys - required_parameters))\n",
    "    if len(required_parameters - supplied_keys)>0: print(\"Need to have:\", str(required_parameters - supplied_keys))\n",
    "    raise RuntimeError(\"Parameters are incorrect\")\n",
    "\n"
   ]
  },
  {
   "cell_type": "code",
   "execution_count": 6,
   "id": "3a028d58",
   "metadata": {
    "execution": {
     "iopub.execute_input": "2022-03-17T02:56:34.947647Z",
     "iopub.status.busy": "2022-03-17T02:56:34.947385Z",
     "iopub.status.idle": "2022-03-17T02:56:34.963345Z",
     "shell.execute_reply": "2022-03-17T02:56:34.962943Z"
    },
    "papermill": {
     "duration": 0.031547,
     "end_time": "2022-03-17T02:56:34.963435",
     "exception": false,
     "start_time": "2022-03-17T02:56:34.931888",
     "status": "completed"
    },
    "tags": []
   },
   "outputs": [],
   "source": [
    "###################################\n",
    "# Set the RNGs and make it all deterministic\n",
    "###################################\n",
    "np.random.seed(p.seed)\n",
    "random.seed(p.seed)\n",
    "torch.manual_seed(p.seed)\n",
    "\n",
    "torch.use_deterministic_algorithms(True) "
   ]
  },
  {
   "cell_type": "code",
   "execution_count": 7,
   "id": "b691acf6",
   "metadata": {
    "execution": {
     "iopub.execute_input": "2022-03-17T02:56:34.996426Z",
     "iopub.status.busy": "2022-03-17T02:56:34.996157Z",
     "iopub.status.idle": "2022-03-17T02:56:35.010147Z",
     "shell.execute_reply": "2022-03-17T02:56:35.010519Z"
    },
    "papermill": {
     "duration": 0.03002,
     "end_time": "2022-03-17T02:56:35.010621",
     "exception": false,
     "start_time": "2022-03-17T02:56:34.980601",
     "status": "completed"
    },
    "tags": []
   },
   "outputs": [],
   "source": [
    "###########################################\n",
    "# The stratified datasets honor this\n",
    "###########################################\n",
    "torch.set_default_dtype(eval(p.torch_default_dtype))"
   ]
  },
  {
   "cell_type": "code",
   "execution_count": 8,
   "id": "b5fba671",
   "metadata": {
    "execution": {
     "iopub.execute_input": "2022-03-17T02:56:35.043532Z",
     "iopub.status.busy": "2022-03-17T02:56:35.043272Z",
     "iopub.status.idle": "2022-03-17T02:56:35.083896Z",
     "shell.execute_reply": "2022-03-17T02:56:35.083469Z"
    },
    "papermill": {
     "duration": 0.056005,
     "end_time": "2022-03-17T02:56:35.084002",
     "exception": false,
     "start_time": "2022-03-17T02:56:35.027997",
     "status": "completed"
    },
    "tags": []
   },
   "outputs": [],
   "source": [
    "###################################\n",
    "# Build the network(s)\n",
    "# Note: It's critical to do this AFTER setting the RNG\n",
    "###################################\n",
    "x_net = build_sequential(p.x_net)"
   ]
  },
  {
   "cell_type": "code",
   "execution_count": 9,
   "id": "5d7e61cc",
   "metadata": {
    "execution": {
     "iopub.execute_input": "2022-03-17T02:56:35.118068Z",
     "iopub.status.busy": "2022-03-17T02:56:35.117819Z",
     "iopub.status.idle": "2022-03-17T02:56:35.131553Z",
     "shell.execute_reply": "2022-03-17T02:56:35.131921Z"
    },
    "papermill": {
     "duration": 0.029453,
     "end_time": "2022-03-17T02:56:35.132021",
     "exception": false,
     "start_time": "2022-03-17T02:56:35.102568",
     "status": "completed"
    },
    "tags": []
   },
   "outputs": [],
   "source": [
    "start_time_secs = time.time()"
   ]
  },
  {
   "cell_type": "code",
   "execution_count": 10,
   "id": "c6b67dfd",
   "metadata": {
    "execution": {
     "iopub.execute_input": "2022-03-17T02:56:35.166690Z",
     "iopub.status.busy": "2022-03-17T02:56:35.166441Z",
     "iopub.status.idle": "2022-03-17T02:56:35.180541Z",
     "shell.execute_reply": "2022-03-17T02:56:35.180132Z"
    },
    "papermill": {
     "duration": 0.030053,
     "end_time": "2022-03-17T02:56:35.180629",
     "exception": false,
     "start_time": "2022-03-17T02:56:35.150576",
     "status": "completed"
    },
    "tags": []
   },
   "outputs": [],
   "source": [
    "p.domains_source = []\n",
    "p.domains_target = []\n",
    "\n",
    "\n",
    "train_original_source = []\n",
    "val_original_source   = []\n",
    "test_original_source  = []\n",
    "\n",
    "train_original_target = []\n",
    "val_original_target   = []\n",
    "test_original_target  = []"
   ]
  },
  {
   "cell_type": "code",
   "execution_count": 11,
   "id": "e3d9c3d3",
   "metadata": {
    "execution": {
     "iopub.execute_input": "2022-03-17T02:56:35.213911Z",
     "iopub.status.busy": "2022-03-17T02:56:35.213656Z",
     "iopub.status.idle": "2022-03-17T02:56:35.227141Z",
     "shell.execute_reply": "2022-03-17T02:56:35.226722Z"
    },
    "papermill": {
     "duration": 0.028545,
     "end_time": "2022-03-17T02:56:35.227246",
     "exception": false,
     "start_time": "2022-03-17T02:56:35.198701",
     "status": "completed"
    },
    "tags": []
   },
   "outputs": [],
   "source": [
    "# global_x_transform_func = lambda x: normalize(x.to(torch.get_default_dtype()), \"unit_power\") # unit_power, unit_mag\n",
    "# global_x_transform_func = lambda x: normalize(x, \"unit_power\") # unit_power, unit_mag"
   ]
  },
  {
   "cell_type": "code",
   "execution_count": 12,
   "id": "acb78fd2",
   "metadata": {
    "execution": {
     "iopub.execute_input": "2022-03-17T02:56:35.263961Z",
     "iopub.status.busy": "2022-03-17T02:56:35.263668Z",
     "iopub.status.idle": "2022-03-17T02:56:35.275263Z",
     "shell.execute_reply": "2022-03-17T02:56:35.275643Z"
    },
    "papermill": {
     "duration": 0.033008,
     "end_time": "2022-03-17T02:56:35.275755",
     "exception": false,
     "start_time": "2022-03-17T02:56:35.242747",
     "status": "completed"
    },
    "tags": []
   },
   "outputs": [],
   "source": [
    "def add_dataset(\n",
    "    labels,\n",
    "    domains,\n",
    "    pickle_path,\n",
    "    x_transforms,\n",
    "    episode_transforms,\n",
    "    domain_prefix,\n",
    "    num_examples_per_domain_per_label,\n",
    "    source_or_target_dataset:str,\n",
    "    iterator_seed=p.seed,\n",
    "    dataset_seed=p.dataset_seed,\n",
    "    n_shot=p.n_shot,\n",
    "    n_way=p.n_way,\n",
    "    n_query=p.n_query,\n",
    "    train_val_test_k_factors=(p.train_k_factor,p.val_k_factor,p.test_k_factor),\n",
    "):\n",
    "   \n",
    "    if x_transforms == []: x_transform = None\n",
    "    else: x_transform = get_chained_transform(x_transforms)\n",
    "    \n",
    "    if episode_transforms == []: episode_transform = None\n",
    "    else: raise Exception(\"episode_transforms not implemented\")\n",
    "    \n",
    "    episode_transform = lambda tup, _prefix=domain_prefix: (_prefix + str(tup[0]), tup[1])\n",
    "\n",
    "\n",
    "    eaf = Episodic_Accessor_Factory(\n",
    "        labels=labels,\n",
    "        domains=domains,\n",
    "        num_examples_per_domain_per_label=num_examples_per_domain_per_label,\n",
    "        iterator_seed=iterator_seed,\n",
    "        dataset_seed=dataset_seed,\n",
    "        n_shot=n_shot,\n",
    "        n_way=n_way,\n",
    "        n_query=n_query,\n",
    "        train_val_test_k_factors=train_val_test_k_factors,\n",
    "        pickle_path=pickle_path,\n",
    "        x_transform_func=x_transform,\n",
    "    )\n",
    "\n",
    "    train, val, test = eaf.get_train(), eaf.get_val(), eaf.get_test()\n",
    "    train = Lazy_Iterable_Wrapper(train, episode_transform)\n",
    "    val = Lazy_Iterable_Wrapper(val, episode_transform)\n",
    "    test = Lazy_Iterable_Wrapper(test, episode_transform)\n",
    "\n",
    "    if source_or_target_dataset==\"source\":\n",
    "        train_original_source.append(train)\n",
    "        val_original_source.append(val)\n",
    "        test_original_source.append(test)\n",
    "\n",
    "        p.domains_source.extend(\n",
    "            [domain_prefix + str(u) for u in domains]\n",
    "        )\n",
    "    elif source_or_target_dataset==\"target\":\n",
    "        train_original_target.append(train)\n",
    "        val_original_target.append(val)\n",
    "        test_original_target.append(test)\n",
    "        p.domains_target.extend(\n",
    "            [domain_prefix + str(u) for u in domains]\n",
    "        )\n",
    "    else:\n",
    "        raise Exception(f\"invalid source_or_target_dataset: {source_or_target_dataset}\")\n",
    "    "
   ]
  },
  {
   "cell_type": "code",
   "execution_count": 13,
   "id": "fe266617",
   "metadata": {
    "execution": {
     "iopub.execute_input": "2022-03-17T02:56:35.308432Z",
     "iopub.status.busy": "2022-03-17T02:56:35.308183Z",
     "iopub.status.idle": "2022-03-17T02:56:58.324055Z",
     "shell.execute_reply": "2022-03-17T02:56:58.323551Z"
    },
    "papermill": {
     "duration": 23.031361,
     "end_time": "2022-03-17T02:56:58.324160",
     "exception": false,
     "start_time": "2022-03-17T02:56:35.292799",
     "status": "completed"
    },
    "tags": []
   },
   "outputs": [],
   "source": [
    "for ds in p.datasets:\n",
    "    add_dataset(**ds)"
   ]
  },
  {
   "cell_type": "code",
   "execution_count": 14,
   "id": "b90d65ac",
   "metadata": {
    "execution": {
     "iopub.execute_input": "2022-03-17T02:56:58.359682Z",
     "iopub.status.busy": "2022-03-17T02:56:58.359421Z",
     "iopub.status.idle": "2022-03-17T02:56:58.375341Z",
     "shell.execute_reply": "2022-03-17T02:56:58.374863Z"
    },
    "papermill": {
     "duration": 0.031861,
     "end_time": "2022-03-17T02:56:58.375440",
     "exception": false,
     "start_time": "2022-03-17T02:56:58.343579",
     "status": "completed"
    },
    "tags": []
   },
   "outputs": [],
   "source": [
    "# from steves_utils.CORES.utils import (\n",
    "#     ALL_NODES,\n",
    "#     ALL_NODES_MINIMUM_1000_EXAMPLES,\n",
    "#     ALL_DAYS\n",
    "# )\n",
    "\n",
    "# add_dataset(\n",
    "#     labels=ALL_NODES,\n",
    "#     domains = ALL_DAYS,\n",
    "#     num_examples_per_domain_per_label=100,\n",
    "#     pickle_path=os.path.join(get_datasets_base_path(), \"cores.stratified_ds.2022A.pkl\"),\n",
    "#     source_or_target_dataset=\"target\",\n",
    "#     x_transform_func=global_x_transform_func,\n",
    "#     domain_modifier=lambda u: f\"cores_{u}\"\n",
    "# )"
   ]
  },
  {
   "cell_type": "code",
   "execution_count": 15,
   "id": "76db484d",
   "metadata": {
    "execution": {
     "iopub.execute_input": "2022-03-17T02:56:58.410511Z",
     "iopub.status.busy": "2022-03-17T02:56:58.410244Z",
     "iopub.status.idle": "2022-03-17T02:56:58.424438Z",
     "shell.execute_reply": "2022-03-17T02:56:58.424128Z"
    },
    "papermill": {
     "duration": 0.029654,
     "end_time": "2022-03-17T02:56:58.424509",
     "exception": false,
     "start_time": "2022-03-17T02:56:58.394855",
     "status": "completed"
    },
    "tags": []
   },
   "outputs": [],
   "source": [
    "# from steves_utils.ORACLE.utils_v2 import (\n",
    "#     ALL_DISTANCES_FEET,\n",
    "#     ALL_RUNS,\n",
    "#     ALL_SERIAL_NUMBERS,\n",
    "# )\n",
    "\n",
    "\n",
    "# add_dataset(\n",
    "#     labels=ALL_SERIAL_NUMBERS,\n",
    "#     domains = list(set(ALL_DISTANCES_FEET) - {2,62}),\n",
    "#     num_examples_per_domain_per_label=100,\n",
    "#     pickle_path=os.path.join(get_datasets_base_path(), \"oracle.Run2_framed_2000Examples_stratified_ds.2022A.pkl\"),\n",
    "#     source_or_target_dataset=\"source\",\n",
    "#     x_transform_func=global_x_transform_func,\n",
    "#     domain_modifier=lambda u: f\"oracle1_{u}\"\n",
    "# )\n"
   ]
  },
  {
   "cell_type": "code",
   "execution_count": 16,
   "id": "97dea9d2",
   "metadata": {
    "execution": {
     "iopub.execute_input": "2022-03-17T02:56:58.460669Z",
     "iopub.status.busy": "2022-03-17T02:56:58.460405Z",
     "iopub.status.idle": "2022-03-17T02:56:58.475489Z",
     "shell.execute_reply": "2022-03-17T02:56:58.474996Z"
    },
    "papermill": {
     "duration": 0.032573,
     "end_time": "2022-03-17T02:56:58.475584",
     "exception": false,
     "start_time": "2022-03-17T02:56:58.443011",
     "status": "completed"
    },
    "tags": []
   },
   "outputs": [],
   "source": [
    "# from steves_utils.ORACLE.utils_v2 import (\n",
    "#     ALL_DISTANCES_FEET,\n",
    "#     ALL_RUNS,\n",
    "#     ALL_SERIAL_NUMBERS,\n",
    "# )\n",
    "\n",
    "\n",
    "# add_dataset(\n",
    "#     labels=ALL_SERIAL_NUMBERS,\n",
    "#     domains = list(set(ALL_DISTANCES_FEET) - {2,62,56}),\n",
    "#     num_examples_per_domain_per_label=100,\n",
    "#     pickle_path=os.path.join(get_datasets_base_path(), \"oracle.Run2_framed_2000Examples_stratified_ds.2022A.pkl\"),\n",
    "#     source_or_target_dataset=\"source\",\n",
    "#     x_transform_func=global_x_transform_func,\n",
    "#     domain_modifier=lambda u: f\"oracle2_{u}\"\n",
    "# )"
   ]
  },
  {
   "cell_type": "code",
   "execution_count": 17,
   "id": "6f289866",
   "metadata": {
    "execution": {
     "iopub.execute_input": "2022-03-17T02:56:58.509212Z",
     "iopub.status.busy": "2022-03-17T02:56:58.508945Z",
     "iopub.status.idle": "2022-03-17T02:56:58.524136Z",
     "shell.execute_reply": "2022-03-17T02:56:58.523595Z"
    },
    "papermill": {
     "duration": 0.031189,
     "end_time": "2022-03-17T02:56:58.524262",
     "exception": false,
     "start_time": "2022-03-17T02:56:58.493073",
     "status": "completed"
    },
    "tags": []
   },
   "outputs": [],
   "source": [
    "# add_dataset(\n",
    "#     labels=list(range(19)),\n",
    "#     domains = [0,1,2],\n",
    "#     num_examples_per_domain_per_label=100,\n",
    "#     pickle_path=os.path.join(get_datasets_base_path(), \"metehan.stratified_ds.2022A.pkl\"),\n",
    "#     source_or_target_dataset=\"target\",\n",
    "#     x_transform_func=global_x_transform_func,\n",
    "#     domain_modifier=lambda u: f\"met_{u}\"\n",
    "# )"
   ]
  },
  {
   "cell_type": "code",
   "execution_count": 18,
   "id": "86a863c3",
   "metadata": {
    "execution": {
     "iopub.execute_input": "2022-03-17T02:56:58.556726Z",
     "iopub.status.busy": "2022-03-17T02:56:58.556263Z",
     "iopub.status.idle": "2022-03-17T02:56:58.566471Z",
     "shell.execute_reply": "2022-03-17T02:56:58.566687Z"
    },
    "papermill": {
     "duration": 0.026285,
     "end_time": "2022-03-17T02:56:58.566755",
     "exception": false,
     "start_time": "2022-03-17T02:56:58.540470",
     "status": "completed"
    },
    "tags": []
   },
   "outputs": [],
   "source": [
    "# # from steves_utils.wisig.utils import (\n",
    "# #     ALL_NODES_MINIMUM_100_EXAMPLES,\n",
    "# #     ALL_NODES_MINIMUM_500_EXAMPLES,\n",
    "# #     ALL_NODES_MINIMUM_1000_EXAMPLES,\n",
    "# #     ALL_DAYS\n",
    "# # )\n",
    "\n",
    "# import steves_utils.wisig.utils as wisig\n",
    "\n",
    "\n",
    "# add_dataset(\n",
    "#     labels=wisig.ALL_NODES_MINIMUM_100_EXAMPLES,\n",
    "#     domains = wisig.ALL_DAYS,\n",
    "#     num_examples_per_domain_per_label=100,\n",
    "#     pickle_path=os.path.join(get_datasets_base_path(), \"wisig.node3-19.stratified_ds.2022A.pkl\"),\n",
    "#     source_or_target_dataset=\"target\",\n",
    "#     x_transform_func=global_x_transform_func,\n",
    "#     domain_modifier=lambda u: f\"wisig_{u}\"\n",
    "# )"
   ]
  },
  {
   "cell_type": "code",
   "execution_count": 19,
   "id": "fd5442bc",
   "metadata": {
    "execution": {
     "iopub.execute_input": "2022-03-17T02:56:58.600608Z",
     "iopub.status.busy": "2022-03-17T02:56:58.600225Z",
     "iopub.status.idle": "2022-03-17T02:56:58.614209Z",
     "shell.execute_reply": "2022-03-17T02:56:58.613784Z"
    },
    "papermill": {
     "duration": 0.031945,
     "end_time": "2022-03-17T02:56:58.614302",
     "exception": false,
     "start_time": "2022-03-17T02:56:58.582357",
     "status": "completed"
    },
    "tags": []
   },
   "outputs": [],
   "source": [
    "###################################\n",
    "# Build the dataset\n",
    "###################################\n",
    "train_original_source = Iterable_Aggregator(train_original_source, p.seed)\n",
    "val_original_source = Iterable_Aggregator(val_original_source, p.seed)\n",
    "test_original_source = Iterable_Aggregator(test_original_source, p.seed)\n",
    "\n",
    "\n",
    "train_original_target = Iterable_Aggregator(train_original_target, p.seed)\n",
    "val_original_target = Iterable_Aggregator(val_original_target, p.seed)\n",
    "test_original_target = Iterable_Aggregator(test_original_target, p.seed)\n",
    "\n",
    "# For CNN We only use X and Y. And we only train on the source.\n",
    "# Properly form the data using a transform lambda and Lazy_Iterable_Wrapper. Finally wrap them in a dataloader\n",
    "\n",
    "transform_lambda = lambda ex: ex[1] # Original is (<domain>, <episode>) so we strip down to episode only\n",
    "\n",
    "train_processed_source = Lazy_Iterable_Wrapper(train_original_source, transform_lambda)\n",
    "val_processed_source   = Lazy_Iterable_Wrapper(val_original_source, transform_lambda)\n",
    "test_processed_source  = Lazy_Iterable_Wrapper(test_original_source, transform_lambda)\n",
    "\n",
    "train_processed_target = Lazy_Iterable_Wrapper(train_original_target, transform_lambda)\n",
    "val_processed_target   = Lazy_Iterable_Wrapper(val_original_target, transform_lambda)\n",
    "test_processed_target  = Lazy_Iterable_Wrapper(test_original_target, transform_lambda)\n",
    "\n",
    "datasets = EasyDict({\n",
    "    \"source\": {\n",
    "        \"original\": {\"train\":train_original_source, \"val\":val_original_source, \"test\":test_original_source},\n",
    "        \"processed\": {\"train\":train_processed_source, \"val\":val_processed_source, \"test\":test_processed_source}\n",
    "    },\n",
    "    \"target\": {\n",
    "        \"original\": {\"train\":train_original_target, \"val\":val_original_target, \"test\":test_original_target},\n",
    "        \"processed\": {\"train\":train_processed_target, \"val\":val_processed_target, \"test\":test_processed_target}\n",
    "    },\n",
    "})"
   ]
  },
  {
   "cell_type": "code",
   "execution_count": 20,
   "id": "5b3c01fc",
   "metadata": {
    "execution": {
     "iopub.execute_input": "2022-03-17T02:56:58.649322Z",
     "iopub.status.busy": "2022-03-17T02:56:58.649047Z",
     "iopub.status.idle": "2022-03-17T02:57:03.494432Z",
     "shell.execute_reply": "2022-03-17T02:57:03.494697Z"
    },
    "papermill": {
     "duration": 4.862242,
     "end_time": "2022-03-17T02:57:03.494777",
     "exception": false,
     "start_time": "2022-03-17T02:56:58.632535",
     "status": "completed"
    },
    "tags": []
   },
   "outputs": [
    {
     "name": "stdout",
     "output_type": "stream",
     "text": [
      "{'ORACLE.run2_8', 'ORACLE.run2_26', 'ORACLE.run2_50', 'ORACLE.run2_38', 'ORACLE.run2_14', 'ORACLE.run2_32', 'ORACLE.run2_44', 'ORACLE.run2_20'}\n"
     ]
    },
    {
     "name": "stdout",
     "output_type": "stream",
     "text": [
      "{'C_A_2', 'C_A_4', 'W_A_4', 'C_A_5', 'C_A_1', 'C_A_3', 'W_A_1', 'W_A_3', 'W_A_2'}\n"
     ]
    },
    {
     "name": "stdout",
     "output_type": "stream",
     "text": [
      "tensor([[[ 0.8991,  0.0908, -1.0172,  ...,  0.2816,  1.3714,  0.1453],\n",
      "         [ 0.3815,  1.1444, -0.4632,  ..., -0.9264, -0.0727, -1.0263]],\n",
      "\n",
      "        [[ 0.9651,  0.3642, -1.1107,  ..., -0.2458,  1.2018, -0.3551],\n",
      "         [ 0.0546,  0.9833, -0.1001,  ..., -1.1927, -0.6555, -0.9924]],\n",
      "\n",
      "        [[ 0.2039,  1.0937, -0.5654,  ..., -1.2235,  0.7322,  0.2225],\n",
      "         [-0.5561,  0.3986,  0.7044,  ..., -0.5191, -1.0752, -0.8991]],\n",
      "\n",
      "        ...,\n",
      "\n",
      "        [[ 0.0504, -1.2349,  0.2331,  ...,  1.1845, -0.3213,  0.0819],\n",
      "         [ 0.6490, -0.0693, -0.7876,  ...,  0.0000,  1.2665,  0.9892]],\n",
      "\n",
      "        [[ 0.7104, -0.5484, -0.8973,  ...,  1.0718,  0.8849, -0.3677],\n",
      "         [ 0.9222,  0.4237, -0.9721,  ..., -0.5297, -0.3739, -1.2400]],\n",
      "\n",
      "        [[ 0.3635, -0.6768, -0.4199,  ...,  1.0653,  1.1029,  0.7019],\n",
      "         [ 1.0402,  0.4951, -1.2408,  ..., -0.3133,  0.6768, -1.0402]]])\n"
     ]
    }
   ],
   "source": [
    "from steves_utils.transforms import get_average_magnitude, get_average_power\n",
    "\n",
    "print(set([u for u,_ in val_original_source]))\n",
    "print(set([u for u,_ in val_original_target]))\n",
    "\n",
    "s_x, s_y, q_x, q_y, _ = next(iter(train_processed_source))\n",
    "print(s_x)\n",
    "\n",
    "# for ds in [\n",
    "#     train_processed_source,\n",
    "#     val_processed_source,\n",
    "#     test_processed_source,\n",
    "#     train_processed_target,\n",
    "#     val_processed_target,\n",
    "#     test_processed_target\n",
    "# ]:\n",
    "#     for s_x, s_y, q_x, q_y, _ in ds:\n",
    "#         for X in (s_x, q_x):\n",
    "#             for x in X:\n",
    "#                 assert np.isclose(get_average_magnitude(x.numpy()), 1.0)\n",
    "#                 assert np.isclose(get_average_power(x.numpy()), 1.0)\n",
    "                "
   ]
  },
  {
   "cell_type": "code",
   "execution_count": 21,
   "id": "bbdacba1",
   "metadata": {
    "execution": {
     "iopub.execute_input": "2022-03-17T02:57:03.537622Z",
     "iopub.status.busy": "2022-03-17T02:57:03.537298Z",
     "iopub.status.idle": "2022-03-17T02:57:03.597888Z",
     "shell.execute_reply": "2022-03-17T02:57:03.598427Z"
    },
    "papermill": {
     "duration": 0.082945,
     "end_time": "2022-03-17T02:57:03.598559",
     "exception": false,
     "start_time": "2022-03-17T02:57:03.515614",
     "status": "completed"
    },
    "tags": []
   },
   "outputs": [
    {
     "name": "stdout",
     "output_type": "stream",
     "text": [
      "(2, 256)\n"
     ]
    }
   ],
   "source": [
    "###################################\n",
    "# Build the model\n",
    "###################################\n",
    "model = Steves_Prototypical_Network(x_net, device=p.device, x_shape=(2,256))\n",
    "optimizer = Adam(params=model.parameters(), lr=p.lr)"
   ]
  },
  {
   "cell_type": "code",
   "execution_count": 22,
   "id": "22b39ac5",
   "metadata": {
    "execution": {
     "iopub.execute_input": "2022-03-17T02:57:03.635551Z",
     "iopub.status.busy": "2022-03-17T02:57:03.635292Z",
     "iopub.status.idle": "2022-03-17T03:21:13.740608Z",
     "shell.execute_reply": "2022-03-17T03:21:13.740371Z"
    },
    "papermill": {
     "duration": 1450.12318,
     "end_time": "2022-03-17T03:21:13.740667",
     "exception": false,
     "start_time": "2022-03-17T02:57:03.617487",
     "status": "completed"
    },
    "tags": []
   },
   "outputs": [
    {
     "name": "stdout",
     "output_type": "stream",
     "text": [
      "epoch: 1, [batch: 1 / 6720], examples_per_second: 47.0688, train_label_loss: 2.8313, \n"
     ]
    },
    {
     "name": "stdout",
     "output_type": "stream",
     "text": [
      "epoch: 1, [batch: 672 / 6720], examples_per_second: 3045.5299, train_label_loss: 0.5869, \n"
     ]
    },
    {
     "name": "stdout",
     "output_type": "stream",
     "text": [
      "epoch: 1, [batch: 1344 / 6720], examples_per_second: 3049.7779, train_label_loss: 0.6585, \n"
     ]
    },
    {
     "name": "stdout",
     "output_type": "stream",
     "text": [
      "epoch: 1, [batch: 2016 / 6720], examples_per_second: 3090.6795, train_label_loss: 0.5264, \n"
     ]
    },
    {
     "name": "stdout",
     "output_type": "stream",
     "text": [
      "epoch: 1, [batch: 2688 / 6720], examples_per_second: 3103.7855, train_label_loss: 0.9666, \n"
     ]
    },
    {
     "name": "stdout",
     "output_type": "stream",
     "text": [
      "epoch: 1, [batch: 3360 / 6720], examples_per_second: 3026.3532, train_label_loss: 0.9488, \n"
     ]
    },
    {
     "name": "stdout",
     "output_type": "stream",
     "text": [
      "epoch: 1, [batch: 4032 / 6720], examples_per_second: 3076.4576, train_label_loss: 0.7438, \n"
     ]
    },
    {
     "name": "stdout",
     "output_type": "stream",
     "text": [
      "epoch: 1, [batch: 4704 / 6720], examples_per_second: 3091.6774, train_label_loss: 0.6028, \n"
     ]
    },
    {
     "name": "stdout",
     "output_type": "stream",
     "text": [
      "epoch: 1, [batch: 5376 / 6720], examples_per_second: 3101.5508, train_label_loss: 0.4213, \n"
     ]
    },
    {
     "name": "stdout",
     "output_type": "stream",
     "text": [
      "epoch: 1, [batch: 6048 / 6720], examples_per_second: 3023.6728, train_label_loss: 1.0426, \n"
     ]
    },
    {
     "name": "stdout",
     "output_type": "stream",
     "text": [
      "=============================================================\n",
      "epoch: 1, source_val_acc_label: 0.5858, target_val_acc_label: 0.4770, source_val_label_loss: 61.6414, target_val_label_loss: 7947.8936, \n",
      "=============================================================\n"
     ]
    },
    {
     "name": "stdout",
     "output_type": "stream",
     "text": [
      "New best\n"
     ]
    },
    {
     "name": "stdout",
     "output_type": "stream",
     "text": [
      "epoch: 2, [batch: 1 / 6720], examples_per_second: 5.3140, train_label_loss: 154.9282, \n"
     ]
    },
    {
     "name": "stdout",
     "output_type": "stream",
     "text": [
      "epoch: 2, [batch: 672 / 6720], examples_per_second: 3068.2078, train_label_loss: 0.5886, \n"
     ]
    },
    {
     "name": "stdout",
     "output_type": "stream",
     "text": [
      "epoch: 2, [batch: 1344 / 6720], examples_per_second: 3119.5408, train_label_loss: 0.6983, \n"
     ]
    },
    {
     "name": "stdout",
     "output_type": "stream",
     "text": [
      "epoch: 2, [batch: 2016 / 6720], examples_per_second: 3131.2347, train_label_loss: 0.5094, \n"
     ]
    },
    {
     "name": "stdout",
     "output_type": "stream",
     "text": [
      "epoch: 2, [batch: 2688 / 6720], examples_per_second: 3119.9233, train_label_loss: 0.6926, \n"
     ]
    },
    {
     "name": "stdout",
     "output_type": "stream",
     "text": [
      "epoch: 2, [batch: 3360 / 6720], examples_per_second: 3128.4368, train_label_loss: 1.4052, \n"
     ]
    },
    {
     "name": "stdout",
     "output_type": "stream",
     "text": [
      "epoch: 2, [batch: 4032 / 6720], examples_per_second: 3139.0097, train_label_loss: 1.1794, \n"
     ]
    },
    {
     "name": "stdout",
     "output_type": "stream",
     "text": [
      "epoch: 2, [batch: 4704 / 6720], examples_per_second: 3153.9523, train_label_loss: 0.8463, \n"
     ]
    },
    {
     "name": "stdout",
     "output_type": "stream",
     "text": [
      "epoch: 2, [batch: 5376 / 6720], examples_per_second: 3094.7266, train_label_loss: 1.1240, \n"
     ]
    },
    {
     "name": "stdout",
     "output_type": "stream",
     "text": [
      "epoch: 2, [batch: 6048 / 6720], examples_per_second: 3306.8631, train_label_loss: 0.5436, \n"
     ]
    },
    {
     "name": "stdout",
     "output_type": "stream",
     "text": [
      "=============================================================\n",
      "epoch: 2, source_val_acc_label: 0.7702, target_val_acc_label: 0.7170, source_val_label_loss: 0.6929, target_val_label_loss: 292.0322, \n",
      "=============================================================\n"
     ]
    },
    {
     "name": "stdout",
     "output_type": "stream",
     "text": [
      "New best\n"
     ]
    },
    {
     "name": "stdout",
     "output_type": "stream",
     "text": [
      "epoch: 3, [batch: 1 / 6720], examples_per_second: 5.6732, train_label_loss: 0.6970, \n"
     ]
    },
    {
     "name": "stdout",
     "output_type": "stream",
     "text": [
      "epoch: 3, [batch: 672 / 6720], examples_per_second: 3298.9843, train_label_loss: 0.5351, \n"
     ]
    },
    {
     "name": "stdout",
     "output_type": "stream",
     "text": [
      "epoch: 3, [batch: 1344 / 6720], examples_per_second: 3316.0200, train_label_loss: 0.4683, \n"
     ]
    },
    {
     "name": "stdout",
     "output_type": "stream",
     "text": [
      "epoch: 3, [batch: 2016 / 6720], examples_per_second: 3321.6493, train_label_loss: 0.5555, \n"
     ]
    },
    {
     "name": "stdout",
     "output_type": "stream",
     "text": [
      "epoch: 3, [batch: 2688 / 6720], examples_per_second: 3113.6756, train_label_loss: 0.4407, \n"
     ]
    },
    {
     "name": "stdout",
     "output_type": "stream",
     "text": [
      "epoch: 3, [batch: 3360 / 6720], examples_per_second: 3248.4023, train_label_loss: 0.6945, \n"
     ]
    },
    {
     "name": "stdout",
     "output_type": "stream",
     "text": [
      "epoch: 3, [batch: 4032 / 6720], examples_per_second: 2931.7227, train_label_loss: 0.9528, \n"
     ]
    },
    {
     "name": "stdout",
     "output_type": "stream",
     "text": [
      "epoch: 3, [batch: 4704 / 6720], examples_per_second: 2960.6233, train_label_loss: 0.2322, \n"
     ]
    },
    {
     "name": "stdout",
     "output_type": "stream",
     "text": [
      "epoch: 3, [batch: 5376 / 6720], examples_per_second: 2942.5700, train_label_loss: 0.4317, \n"
     ]
    },
    {
     "name": "stdout",
     "output_type": "stream",
     "text": [
      "epoch: 3, [batch: 6048 / 6720], examples_per_second: 2986.6853, train_label_loss: 0.3231, \n"
     ]
    },
    {
     "name": "stdout",
     "output_type": "stream",
     "text": [
      "=============================================================\n",
      "epoch: 3, source_val_acc_label: 0.7766, target_val_acc_label: 0.6614, source_val_label_loss: 0.6477, target_val_label_loss: 464.3011, \n",
      "=============================================================\n"
     ]
    },
    {
     "name": "stdout",
     "output_type": "stream",
     "text": [
      "epoch: 4, [batch: 1 / 6720], examples_per_second: 5.2117, train_label_loss: 0.2835, \n"
     ]
    },
    {
     "name": "stdout",
     "output_type": "stream",
     "text": [
      "epoch: 4, [batch: 672 / 6720], examples_per_second: 3003.7175, train_label_loss: 0.2410, \n"
     ]
    },
    {
     "name": "stdout",
     "output_type": "stream",
     "text": [
      "epoch: 4, [batch: 1344 / 6720], examples_per_second: 3001.4834, train_label_loss: 0.8904, \n"
     ]
    },
    {
     "name": "stdout",
     "output_type": "stream",
     "text": [
      "epoch: 4, [batch: 2016 / 6720], examples_per_second: 3181.5188, train_label_loss: 0.7242, \n"
     ]
    },
    {
     "name": "stdout",
     "output_type": "stream",
     "text": [
      "epoch: 4, [batch: 2688 / 6720], examples_per_second: 3122.1296, train_label_loss: 0.4111, \n"
     ]
    },
    {
     "name": "stdout",
     "output_type": "stream",
     "text": [
      "epoch: 4, [batch: 3360 / 6720], examples_per_second: 3037.4907, train_label_loss: 0.1084, \n"
     ]
    },
    {
     "name": "stdout",
     "output_type": "stream",
     "text": [
      "epoch: 4, [batch: 4032 / 6720], examples_per_second: 3050.9172, train_label_loss: 0.6714, \n"
     ]
    },
    {
     "name": "stdout",
     "output_type": "stream",
     "text": [
      "epoch: 4, [batch: 4704 / 6720], examples_per_second: 2970.6167, train_label_loss: 0.5372, \n"
     ]
    },
    {
     "name": "stdout",
     "output_type": "stream",
     "text": [
      "epoch: 4, [batch: 5376 / 6720], examples_per_second: 3226.6376, train_label_loss: 0.4716, \n"
     ]
    },
    {
     "name": "stdout",
     "output_type": "stream",
     "text": [
      "epoch: 4, [batch: 6048 / 6720], examples_per_second: 3267.6164, train_label_loss: 0.5130, \n"
     ]
    },
    {
     "name": "stdout",
     "output_type": "stream",
     "text": [
      "=============================================================\n",
      "epoch: 4, source_val_acc_label: 0.8141, target_val_acc_label: 0.6426, source_val_label_loss: 0.5458, target_val_label_loss: 222.9711, \n",
      "=============================================================\n"
     ]
    },
    {
     "name": "stdout",
     "output_type": "stream",
     "text": [
      "New best\n"
     ]
    },
    {
     "name": "stdout",
     "output_type": "stream",
     "text": [
      "epoch: 5, [batch: 1 / 6720], examples_per_second: 5.5997, train_label_loss: 0.4095, \n"
     ]
    },
    {
     "name": "stdout",
     "output_type": "stream",
     "text": [
      "epoch: 5, [batch: 672 / 6720], examples_per_second: 3231.2333, train_label_loss: 0.1690, \n"
     ]
    },
    {
     "name": "stdout",
     "output_type": "stream",
     "text": [
      "epoch: 5, [batch: 1344 / 6720], examples_per_second: 3237.1640, train_label_loss: 0.5212, \n"
     ]
    },
    {
     "name": "stdout",
     "output_type": "stream",
     "text": [
      "epoch: 5, [batch: 2016 / 6720], examples_per_second: 3258.8883, train_label_loss: 0.6629, \n"
     ]
    },
    {
     "name": "stdout",
     "output_type": "stream",
     "text": [
      "epoch: 5, [batch: 2688 / 6720], examples_per_second: 3259.0215, train_label_loss: 0.3404, \n"
     ]
    },
    {
     "name": "stdout",
     "output_type": "stream",
     "text": [
      "epoch: 5, [batch: 3360 / 6720], examples_per_second: 3263.8570, train_label_loss: 1.0837, \n"
     ]
    },
    {
     "name": "stdout",
     "output_type": "stream",
     "text": [
      "epoch: 5, [batch: 4032 / 6720], examples_per_second: 3250.6655, train_label_loss: 0.5678, \n"
     ]
    },
    {
     "name": "stdout",
     "output_type": "stream",
     "text": [
      "epoch: 5, [batch: 4704 / 6720], examples_per_second: 3235.4157, train_label_loss: 0.4752, \n"
     ]
    },
    {
     "name": "stdout",
     "output_type": "stream",
     "text": [
      "epoch: 5, [batch: 5376 / 6720], examples_per_second: 3245.9571, train_label_loss: 0.8309, \n"
     ]
    },
    {
     "name": "stdout",
     "output_type": "stream",
     "text": [
      "epoch: 5, [batch: 6048 / 6720], examples_per_second: 3260.8066, train_label_loss: 0.3949, \n"
     ]
    },
    {
     "name": "stdout",
     "output_type": "stream",
     "text": [
      "=============================================================\n",
      "epoch: 5, source_val_acc_label: 0.8369, target_val_acc_label: 0.6431, source_val_label_loss: 0.4683, target_val_label_loss: 554.8152, \n",
      "=============================================================\n"
     ]
    },
    {
     "name": "stdout",
     "output_type": "stream",
     "text": [
      "epoch: 6, [batch: 1 / 6720], examples_per_second: 5.5613, train_label_loss: 0.4439, \n"
     ]
    },
    {
     "name": "stdout",
     "output_type": "stream",
     "text": [
      "epoch: 6, [batch: 672 / 6720], examples_per_second: 3255.2077, train_label_loss: 0.6523, \n"
     ]
    },
    {
     "name": "stdout",
     "output_type": "stream",
     "text": [
      "epoch: 6, [batch: 1344 / 6720], examples_per_second: 3276.3306, train_label_loss: 0.4456, \n"
     ]
    },
    {
     "name": "stdout",
     "output_type": "stream",
     "text": [
      "epoch: 6, [batch: 2016 / 6720], examples_per_second: 3271.8244, train_label_loss: 0.3907, \n"
     ]
    },
    {
     "name": "stdout",
     "output_type": "stream",
     "text": [
      "epoch: 6, [batch: 2688 / 6720], examples_per_second: 3252.1949, train_label_loss: 0.8165, \n"
     ]
    },
    {
     "name": "stdout",
     "output_type": "stream",
     "text": [
      "epoch: 6, [batch: 3360 / 6720], examples_per_second: 3287.2434, train_label_loss: 0.3877, \n"
     ]
    },
    {
     "name": "stdout",
     "output_type": "stream",
     "text": [
      "epoch: 6, [batch: 4032 / 6720], examples_per_second: 3237.8913, train_label_loss: 0.4765, \n"
     ]
    },
    {
     "name": "stdout",
     "output_type": "stream",
     "text": [
      "epoch: 6, [batch: 4704 / 6720], examples_per_second: 3237.7476, train_label_loss: 0.3473, \n"
     ]
    },
    {
     "name": "stdout",
     "output_type": "stream",
     "text": [
      "epoch: 6, [batch: 5376 / 6720], examples_per_second: 3305.0534, train_label_loss: 0.1296, \n"
     ]
    },
    {
     "name": "stdout",
     "output_type": "stream",
     "text": [
      "epoch: 6, [batch: 6048 / 6720], examples_per_second: 3261.9492, train_label_loss: 0.2321, \n"
     ]
    },
    {
     "name": "stdout",
     "output_type": "stream",
     "text": [
      "=============================================================\n",
      "epoch: 6, source_val_acc_label: 0.8412, target_val_acc_label: 0.6354, source_val_label_loss: 0.4490, target_val_label_loss: 497.4173, \n",
      "=============================================================\n"
     ]
    },
    {
     "name": "stdout",
     "output_type": "stream",
     "text": [
      "epoch: 7, [batch: 1 / 6720], examples_per_second: 5.5233, train_label_loss: 0.2136, \n"
     ]
    },
    {
     "name": "stdout",
     "output_type": "stream",
     "text": [
      "epoch: 7, [batch: 672 / 6720], examples_per_second: 3199.3916, train_label_loss: 0.9643, \n"
     ]
    },
    {
     "name": "stdout",
     "output_type": "stream",
     "text": [
      "epoch: 7, [batch: 1344 / 6720], examples_per_second: 3240.1954, train_label_loss: 0.3782, \n"
     ]
    },
    {
     "name": "stdout",
     "output_type": "stream",
     "text": [
      "epoch: 7, [batch: 2016 / 6720], examples_per_second: 3211.9796, train_label_loss: 0.3399, \n"
     ]
    },
    {
     "name": "stdout",
     "output_type": "stream",
     "text": [
      "epoch: 7, [batch: 2688 / 6720], examples_per_second: 3194.0159, train_label_loss: 0.3199, \n"
     ]
    },
    {
     "name": "stdout",
     "output_type": "stream",
     "text": [
      "epoch: 7, [batch: 3360 / 6720], examples_per_second: 3277.2178, train_label_loss: 0.5331, \n"
     ]
    },
    {
     "name": "stdout",
     "output_type": "stream",
     "text": [
      "epoch: 7, [batch: 4032 / 6720], examples_per_second: 3248.3457, train_label_loss: 0.2462, \n"
     ]
    },
    {
     "name": "stdout",
     "output_type": "stream",
     "text": [
      "epoch: 7, [batch: 4704 / 6720], examples_per_second: 3299.5033, train_label_loss: 0.4921, \n"
     ]
    },
    {
     "name": "stdout",
     "output_type": "stream",
     "text": [
      "epoch: 7, [batch: 5376 / 6720], examples_per_second: 3295.9811, train_label_loss: 0.1345, \n"
     ]
    },
    {
     "name": "stdout",
     "output_type": "stream",
     "text": [
      "epoch: 7, [batch: 6048 / 6720], examples_per_second: 3312.2873, train_label_loss: 0.2591, \n"
     ]
    },
    {
     "name": "stdout",
     "output_type": "stream",
     "text": [
      "=============================================================\n",
      "epoch: 7, source_val_acc_label: 0.8428, target_val_acc_label: 0.6701, source_val_label_loss: 0.4348, target_val_label_loss: 362.6440, \n",
      "=============================================================\n"
     ]
    },
    {
     "name": "stdout",
     "output_type": "stream",
     "text": [
      "epoch: 8, [batch: 1 / 6720], examples_per_second: 5.4731, train_label_loss: 0.7072, \n"
     ]
    },
    {
     "name": "stdout",
     "output_type": "stream",
     "text": [
      "epoch: 8, [batch: 672 / 6720], examples_per_second: 3192.3059, train_label_loss: 0.7369, \n"
     ]
    },
    {
     "name": "stdout",
     "output_type": "stream",
     "text": [
      "epoch: 8, [batch: 1344 / 6720], examples_per_second: 3193.0452, train_label_loss: 0.5074, \n"
     ]
    },
    {
     "name": "stdout",
     "output_type": "stream",
     "text": [
      "epoch: 8, [batch: 2016 / 6720], examples_per_second: 3246.3636, train_label_loss: 0.5672, \n"
     ]
    },
    {
     "name": "stdout",
     "output_type": "stream",
     "text": [
      "epoch: 8, [batch: 2688 / 6720], examples_per_second: 3288.5709, train_label_loss: 0.0720, \n"
     ]
    },
    {
     "name": "stdout",
     "output_type": "stream",
     "text": [
      "epoch: 8, [batch: 3360 / 6720], examples_per_second: 3303.2509, train_label_loss: 0.4605, \n"
     ]
    },
    {
     "name": "stdout",
     "output_type": "stream",
     "text": [
      "epoch: 8, [batch: 4032 / 6720], examples_per_second: 3302.7871, train_label_loss: 0.8818, \n"
     ]
    },
    {
     "name": "stdout",
     "output_type": "stream",
     "text": [
      "epoch: 8, [batch: 4704 / 6720], examples_per_second: 3293.6981, train_label_loss: 0.3795, \n"
     ]
    },
    {
     "name": "stdout",
     "output_type": "stream",
     "text": [
      "epoch: 8, [batch: 5376 / 6720], examples_per_second: 3308.6915, train_label_loss: 0.1021, \n"
     ]
    },
    {
     "name": "stdout",
     "output_type": "stream",
     "text": [
      "epoch: 8, [batch: 6048 / 6720], examples_per_second: 3312.8980, train_label_loss: 0.2408, \n"
     ]
    },
    {
     "name": "stdout",
     "output_type": "stream",
     "text": [
      "=============================================================\n",
      "epoch: 8, source_val_acc_label: 0.8629, target_val_acc_label: 0.6510, source_val_label_loss: 0.3839, target_val_label_loss: 426.7308, \n",
      "=============================================================\n"
     ]
    },
    {
     "name": "stdout",
     "output_type": "stream",
     "text": [
      "Patience (3) exhausted\n"
     ]
    }
   ],
   "source": [
    "###################################\n",
    "# train\n",
    "###################################\n",
    "jig = PTN_Train_Eval_Test_Jig(model, p.BEST_MODEL_PATH, p.device)\n",
    "\n",
    "jig.train(\n",
    "    train_iterable=datasets.source.processed.train,\n",
    "    source_val_iterable=datasets.source.processed.val,\n",
    "    target_val_iterable=datasets.target.processed.val,\n",
    "    num_epochs=p.n_epoch,\n",
    "    num_logs_per_epoch=p.NUM_LOGS_PER_EPOCH,\n",
    "    patience=p.patience,\n",
    "    optimizer=optimizer,\n",
    "    criteria_for_best=p.criteria_for_best,\n",
    ")"
   ]
  },
  {
   "cell_type": "code",
   "execution_count": 23,
   "id": "31e8fabf",
   "metadata": {
    "execution": {
     "iopub.execute_input": "2022-03-17T03:21:13.805518Z",
     "iopub.status.busy": "2022-03-17T03:21:13.805243Z",
     "iopub.status.idle": "2022-03-17T03:21:13.823605Z",
     "shell.execute_reply": "2022-03-17T03:21:13.823112Z"
    },
    "papermill": {
     "duration": 0.052122,
     "end_time": "2022-03-17T03:21:13.823699",
     "exception": false,
     "start_time": "2022-03-17T03:21:13.771577",
     "status": "completed"
    },
    "tags": []
   },
   "outputs": [],
   "source": [
    "total_experiment_time_secs = time.time() - start_time_secs"
   ]
  },
  {
   "cell_type": "code",
   "execution_count": 24,
   "id": "87b9595b",
   "metadata": {
    "execution": {
     "iopub.execute_input": "2022-03-17T03:21:13.893937Z",
     "iopub.status.busy": "2022-03-17T03:21:13.893653Z",
     "iopub.status.idle": "2022-03-17T03:22:21.147079Z",
     "shell.execute_reply": "2022-03-17T03:22:21.147326Z"
    },
    "papermill": {
     "duration": 67.289244,
     "end_time": "2022-03-17T03:22:21.147411",
     "exception": false,
     "start_time": "2022-03-17T03:21:13.858167",
     "status": "completed"
    },
    "tags": []
   },
   "outputs": [],
   "source": [
    "###################################\n",
    "# Evaluate the model\n",
    "###################################\n",
    "source_test_label_accuracy, source_test_label_loss = jig.test(datasets.source.processed.test)\n",
    "target_test_label_accuracy, target_test_label_loss = jig.test(datasets.target.processed.test)\n",
    "\n",
    "source_val_label_accuracy, source_val_label_loss = jig.test(datasets.source.processed.val)\n",
    "target_val_label_accuracy, target_val_label_loss = jig.test(datasets.target.processed.val)\n",
    "\n",
    "history = jig.get_history()\n",
    "\n",
    "total_epochs_trained = len(history[\"epoch_indices\"])\n",
    "\n",
    "val_dl = Iterable_Aggregator((datasets.source.original.val,datasets.target.original.val))\n",
    "\n",
    "confusion = ptn_confusion_by_domain_over_dataloader(model, p.device, val_dl)\n",
    "per_domain_accuracy = per_domain_accuracy_from_confusion(confusion)\n",
    "\n",
    "# Add a key to per_domain_accuracy for if it was a source domain\n",
    "for domain, accuracy in per_domain_accuracy.items():\n",
    "    per_domain_accuracy[domain] = {\n",
    "        \"accuracy\": accuracy,\n",
    "        \"source?\": domain in p.domains_source\n",
    "    }\n",
    "\n",
    "# Do an independent accuracy assesment JUST TO BE SURE!\n",
    "# _source_test_label_accuracy = independent_accuracy_assesment(model, datasets.source.processed.test, p.device)\n",
    "# _target_test_label_accuracy = independent_accuracy_assesment(model, datasets.target.processed.test, p.device)\n",
    "# _source_val_label_accuracy = independent_accuracy_assesment(model, datasets.source.processed.val, p.device)\n",
    "# _target_val_label_accuracy = independent_accuracy_assesment(model, datasets.target.processed.val, p.device)\n",
    "\n",
    "# assert(_source_test_label_accuracy == source_test_label_accuracy)\n",
    "# assert(_target_test_label_accuracy == target_test_label_accuracy)\n",
    "# assert(_source_val_label_accuracy == source_val_label_accuracy)\n",
    "# assert(_target_val_label_accuracy == target_val_label_accuracy)\n",
    "\n",
    "experiment = {\n",
    "    \"experiment_name\": p.experiment_name,\n",
    "    \"parameters\": dict(p),\n",
    "    \"results\": {\n",
    "        \"source_test_label_accuracy\": source_test_label_accuracy,\n",
    "        \"source_test_label_loss\": source_test_label_loss,\n",
    "        \"target_test_label_accuracy\": target_test_label_accuracy,\n",
    "        \"target_test_label_loss\": target_test_label_loss,\n",
    "        \"source_val_label_accuracy\": source_val_label_accuracy,\n",
    "        \"source_val_label_loss\": source_val_label_loss,\n",
    "        \"target_val_label_accuracy\": target_val_label_accuracy,\n",
    "        \"target_val_label_loss\": target_val_label_loss,\n",
    "        \"total_epochs_trained\": total_epochs_trained,\n",
    "        \"total_experiment_time_secs\": total_experiment_time_secs,\n",
    "        \"confusion\": confusion,\n",
    "        \"per_domain_accuracy\": per_domain_accuracy,\n",
    "    },\n",
    "    \"history\": history,\n",
    "    \"dataset_metrics\": get_dataset_metrics(datasets, \"ptn\"),\n",
    "}"
   ]
  },
  {
   "cell_type": "code",
   "execution_count": 25,
   "id": "54a21829",
   "metadata": {
    "execution": {
     "iopub.execute_input": "2022-03-17T03:22:21.211764Z",
     "iopub.status.busy": "2022-03-17T03:22:21.211459Z",
     "iopub.status.idle": "2022-03-17T03:22:21.346291Z",
     "shell.execute_reply": "2022-03-17T03:22:21.346679Z"
    },
    "papermill": {
     "duration": 0.168402,
     "end_time": "2022-03-17T03:22:21.346800",
     "exception": false,
     "start_time": "2022-03-17T03:22:21.178398",
     "status": "completed"
    },
    "tags": []
   },
   "outputs": [
    {
     "data": {
      "image/png": "[encoded data removed]",
      "text/plain": [
       "<Figure size 1080x504 with 1 Axes>"
      ]
     },
     "metadata": {
      "needs_background": "light"
     },
     "output_type": "display_data"
    }
   ],
   "source": [
    "ax = get_loss_curve(experiment)\n",
    "plt.show()"
   ]
  },
  {
   "cell_type": "code",
   "execution_count": 26,
   "id": "fd8a0f60",
   "metadata": {
    "execution": {
     "iopub.execute_input": "2022-03-17T03:22:21.421170Z",
     "iopub.status.busy": "2022-03-17T03:22:21.420910Z",
     "iopub.status.idle": "2022-03-17T03:22:21.595365Z",
     "shell.execute_reply": "2022-03-17T03:22:21.595793Z"
    },
    "papermill": {
     "duration": 0.209135,
     "end_time": "2022-03-17T03:22:21.595932",
     "exception": false,
     "start_time": "2022-03-17T03:22:21.386797",
     "status": "completed"
    },
    "tags": []
   },
   "outputs": [
    {
     "data": {
      "text/plain": [
       "<AxesSubplot:title={'center':'Results'}>"
      ]
     },
     "execution_count": 26,
     "metadata": {},
     "output_type": "execute_result"
    },
    {
     "data": {
      "image/png": "[encoded data removed]",
      "text/plain": [
       "<Figure size 1080x504 with 1 Axes>"
      ]
     },
     "metadata": {
      "needs_background": "light"
     },
     "output_type": "display_data"
    }
   ],
   "source": [
    "get_results_table(experiment)"
   ]
  },
  {
   "cell_type": "code",
   "execution_count": 27,
   "id": "cf8dc689",
   "metadata": {
    "execution": {
     "iopub.execute_input": "2022-03-17T03:22:21.672277Z",
     "iopub.status.busy": "2022-03-17T03:22:21.672000Z",
     "iopub.status.idle": "2022-03-17T03:22:21.838986Z",
     "shell.execute_reply": "2022-03-17T03:22:21.839382Z"
    },
    "papermill": {
     "duration": 0.204349,
     "end_time": "2022-03-17T03:22:21.839505",
     "exception": false,
     "start_time": "2022-03-17T03:22:21.635156",
     "status": "completed"
    },
    "tags": []
   },
   "outputs": [
    {
     "data": {
      "text/plain": [
       "<AxesSubplot:title={'center':'Per Domain Validation Accuracy'}, xlabel='domain'>"
      ]
     },
     "execution_count": 27,
     "metadata": {},
     "output_type": "execute_result"
    },
    {
     "data": {
      "image/png": "[encoded data removed]",
      "text/plain": [
       "<Figure size 1080x504 with 1 Axes>"
      ]
     },
     "metadata": {
      "needs_background": "light"
     },
     "output_type": "display_data"
    }
   ],
   "source": [
    "get_domain_accuracies(experiment)"
   ]
  },
  {
   "cell_type": "code",
   "execution_count": 28,
   "id": "a74ae082",
   "metadata": {
    "execution": {
     "iopub.execute_input": "2022-03-17T03:22:21.912755Z",
     "iopub.status.busy": "2022-03-17T03:22:21.912493Z",
     "iopub.status.idle": "2022-03-17T03:22:21.929802Z",
     "shell.execute_reply": "2022-03-17T03:22:21.929342Z"
    },
    "papermill": {
     "duration": 0.054,
     "end_time": "2022-03-17T03:22:21.929896",
     "exception": false,
     "start_time": "2022-03-17T03:22:21.875896",
     "status": "completed"
    },
    "tags": []
   },
   "outputs": [
    {
     "name": "stdout",
     "output_type": "stream",
     "text": [
      "Source Test Label Accuracy: 0.8168619791666667 Target Test Label Accuracy: 0.6486515410958904\n",
      "Source Val Label Accuracy: 0.8140950520833333 Target Val Label Accuracy: 0.6425513698630136\n"
     ]
    }
   ],
   "source": [
    "print(\"Source Test Label Accuracy:\", experiment[\"results\"][\"source_test_label_accuracy\"], \"Target Test Label Accuracy:\", experiment[\"results\"][\"target_test_label_accuracy\"])\n",
    "print(\"Source Val Label Accuracy:\", experiment[\"results\"][\"source_val_label_accuracy\"], \"Target Val Label Accuracy:\", experiment[\"results\"][\"target_val_label_accuracy\"])"
   ]
  },
  {
   "cell_type": "code",
   "execution_count": 29,
   "id": "dacca602",
   "metadata": {
    "execution": {
     "iopub.execute_input": "2022-03-17T03:22:22.003161Z",
     "iopub.status.busy": "2022-03-17T03:22:22.002904Z",
     "iopub.status.idle": "2022-03-17T03:22:22.021162Z",
     "shell.execute_reply": "2022-03-17T03:22:22.021539Z"
    },
    "papermill": {
     "duration": 0.054841,
     "end_time": "2022-03-17T03:22:22.021649",
     "exception": false,
     "start_time": "2022-03-17T03:22:21.966808",
     "status": "completed"
    },
    "tags": [
     "experiment_json"
    ]
   },
   "outputs": [
    {
     "data": {
      "text/plain": [
       "'{\"experiment_name\": \"oracle.run2.framed -> cores+wisig\", \"parameters\": {\"experiment_name\": \"oracle.run2.framed -> cores+wisig\", \"device\": \"cuda\", \"lr\": 0.001, \"seed\": 1337, \"dataset_seed\": 1337, \"n_shot\": 3, \"n_query\": 2, \"train_k_factor\": 3, \"val_k_factor\": 2, \"test_k_factor\": 2, \"torch_default_dtype\": \"torch.float32\", \"n_epoch\": 50, \"patience\": 3, \"criteria_for_best\": \"target_loss\", \"x_net\": [{\"class\": \"nnReshape\", \"kargs\": {\"shape\": [-1, 1, 2, 256]}}, {\"class\": \"Conv2d\", \"kargs\": {\"in_channels\": 1, \"out_channels\": 256, \"kernel_size\": [1, 7], \"bias\": false, \"padding\": [0, 3]}}, {\"class\": \"ReLU\", \"kargs\": {\"inplace\": true}}, {\"class\": \"BatchNorm2d\", \"kargs\": {\"num_features\": 256}}, {\"class\": \"Conv2d\", \"kargs\": {\"in_channels\": 256, \"out_channels\": 80, \"kernel_size\": [2, 7], \"bias\": true, \"padding\": [0, 3]}}, {\"class\": \"ReLU\", \"kargs\": {\"inplace\": true}}, {\"class\": \"BatchNorm2d\", \"kargs\": {\"num_features\": 80}}, {\"class\": \"Flatten\", \"kargs\": {}}, {\"class\": \"Linear\", \"kargs\": {\"in_features\": 20480, \"out_features\": 256}}, {\"class\": \"ReLU\", \"kargs\": {\"inplace\": true}}, {\"class\": \"BatchNorm1d\", \"kargs\": {\"num_features\": 256}}, {\"class\": \"Linear\", \"kargs\": {\"in_features\": 256, \"out_features\": 256}}], \"NUM_LOGS_PER_EPOCH\": 10, \"BEST_MODEL_PATH\": \"./best_model.pth\", \"n_way\": 16, \"datasets\": [{\"labels\": [\"1-10.\", \"1-11.\", \"1-15.\", \"1-16.\", \"1-17.\", \"1-18.\", \"1-19.\", \"10-4.\", \"10-7.\", \"11-1.\", \"11-14.\", \"11-17.\", \"11-20.\", \"11-7.\", \"13-20.\", \"13-8.\", \"14-10.\", \"14-11.\", \"14-14.\", \"14-7.\", \"15-1.\", \"15-20.\", \"16-1.\", \"16-16.\", \"17-10.\", \"17-11.\", \"17-2.\", \"19-1.\", \"19-16.\", \"19-19.\", \"19-20.\", \"19-3.\", \"2-10.\", \"2-11.\", \"2-17.\", \"2-18.\", \"2-20.\", \"2-3.\", \"2-4.\", \"2-5.\", \"2-6.\", \"2-7.\", \"2-8.\", \"3-13.\", \"3-18.\", \"3-3.\", \"4-1.\", \"4-10.\", \"4-11.\", \"4-19.\", \"5-5.\", \"6-15.\", \"7-10.\", \"7-14.\", \"8-18.\", \"8-20.\", \"8-3.\", \"8-8.\"], \"domains\": [1, 2, 3, 4, 5], \"num_examples_per_domain_per_label\": 100, \"pickle_path\": \"/mnt/wd500GB/CSC500/csc500-main/datasets/cores.stratified_ds.2022A.pkl\", \"source_or_target_dataset\": \"target\", \"x_transforms\": [\"unit_power\"], \"episode_transforms\": [], \"domain_prefix\": \"C_A_\"}, {\"labels\": [\"1-10\", \"1-12\", \"1-14\", \"1-16\", \"1-18\", \"1-19\", \"1-8\", \"10-11\", \"10-17\", \"10-4\", \"10-7\", \"11-1\", \"11-10\", \"11-19\", \"11-20\", \"11-4\", \"11-7\", \"12-19\", \"12-20\", \"12-7\", \"13-14\", \"13-18\", \"13-19\", \"13-20\", \"13-3\", \"13-7\", \"14-10\", \"14-11\", \"14-12\", \"14-13\", \"14-14\", \"14-19\", \"14-20\", \"14-7\", \"14-8\", \"14-9\", \"15-1\", \"15-19\", \"15-6\", \"16-1\", \"16-16\", \"16-19\", \"16-20\", \"17-10\", \"17-11\", \"18-1\", \"18-10\", \"18-11\", \"18-12\", \"18-13\", \"18-14\", \"18-15\", \"18-16\", \"18-17\", \"18-19\", \"18-2\", \"18-20\", \"18-4\", \"18-5\", \"18-7\", \"18-8\", \"18-9\", \"19-1\", \"19-10\", \"19-11\", \"19-12\", \"19-13\", \"19-14\", \"19-15\", \"19-19\", \"19-2\", \"19-20\", \"19-3\", \"19-4\", \"19-6\", \"19-7\", \"19-8\", \"19-9\", \"2-1\", \"2-13\", \"2-15\", \"2-3\", \"2-4\", \"2-5\", \"2-6\", \"2-7\", \"2-8\", \"20-1\", \"20-12\", \"20-14\", \"20-15\", \"20-16\", \"20-18\", \"20-19\", \"20-20\", \"20-3\", \"20-4\", \"20-5\", \"20-7\", \"20-8\", \"3-1\", \"3-13\", \"3-18\", \"3-2\", \"3-8\", \"4-1\", \"4-10\", \"4-11\", \"5-1\", \"5-5\", \"6-1\", \"6-15\", \"6-6\", \"7-10\", \"7-11\", \"7-12\", \"7-13\", \"7-14\", \"7-7\", \"7-8\", \"7-9\", \"8-1\", \"8-13\", \"8-14\", \"8-18\", \"8-20\", \"8-3\", \"8-8\", \"9-1\", \"9-7\"], \"domains\": [1, 2, 3, 4], \"num_examples_per_domain_per_label\": 100, \"pickle_path\": \"/mnt/wd500GB/CSC500/csc500-main/datasets/wisig.node3-19.stratified_ds.2022A.pkl\", \"source_or_target_dataset\": \"target\", \"x_transforms\": [\"unit_power\"], \"episode_transforms\": [], \"domain_prefix\": \"W_A_\"}, {\"labels\": [\"3123D52\", \"3123D65\", \"3123D79\", \"3123D80\", \"3123D54\", \"3123D70\", \"3123D7B\", \"3123D89\", \"3123D58\", \"3123D76\", \"3123D7D\", \"3123EFE\", \"3123D64\", \"3123D78\", \"3123D7E\", \"3124E4A\"], \"domains\": [32, 38, 8, 44, 14, 50, 20, 26], \"num_examples_per_domain_per_label\": 2000, \"pickle_path\": \"/mnt/wd500GB/CSC500/csc500-main/datasets/oracle.Run2_framed_2000Examples_stratified_ds.2022A.pkl\", \"source_or_target_dataset\": \"source\", \"x_transforms\": [\"unit_power\"], \"episode_transforms\": [], \"domain_prefix\": \"ORACLE.run2_\"}], \"domains_source\": [\"ORACLE.run2_32\", \"ORACLE.run2_38\", \"ORACLE.run2_8\", \"ORACLE.run2_44\", \"ORACLE.run2_14\", \"ORACLE.run2_50\", \"ORACLE.run2_20\", \"ORACLE.run2_26\"], \"domains_target\": [\"C_A_1\", \"C_A_2\", \"C_A_3\", \"C_A_4\", \"C_A_5\", \"W_A_1\", \"W_A_2\", \"W_A_3\", \"W_A_4\"]}, \"results\": {\"source_test_label_accuracy\": 0.8168619791666667, \"source_test_label_loss\": 0.5446019768714905, \"target_test_label_accuracy\": 0.6486515410958904, \"target_test_label_loss\": 227.34030151367188, \"source_val_label_accuracy\": 0.8140950520833333, \"source_val_label_loss\": 0.5457804799079895, \"target_val_label_accuracy\": 0.6425513698630136, \"target_val_label_loss\": 222.9711151123047, \"total_epochs_trained\": 8, \"total_experiment_time_secs\": 1478.6915409564972, \"confusion\": {\"ORACLE.run2_14\": {\"15\": {\"15\": 240}, \"3\": {\"3\": 222, \"5\": 8, \"14\": 3, \"4\": 5, \"2\": 2}, \"6\": {\"6\": 212, \"13\": 23, \"14\": 4, \"2\": 1}, \"1\": {\"1\": 225, \"5\": 12, \"4\": 3}, \"8\": {\"8\": 240}, \"10\": {\"10\": 239, \"6\": 1}, \"9\": {\"9\": 240}, \"13\": {\"13\": 202, \"6\": 34, \"2\": 4}, \"12\": {\"12\": 157, \"9\": 22, \"8\": 11, \"11\": 34, \"0\": 16}, \"5\": {\"4\": 20, \"5\": 178, \"2\": 21, \"3\": 14, \"1\": 7}, \"0\": {\"0\": 240}, \"2\": {\"14\": 50, \"2\": 117, \"5\": 33, \"13\": 16, \"3\": 18, \"4\": 4, \"11\": 1, \"6\": 1}, \"11\": {\"11\": 240}, \"14\": {\"14\": 207, \"2\": 24, \"6\": 3, \"3\": 5, \"0\": 1}, \"7\": {\"7\": 240}, \"4\": {\"5\": 22, \"4\": 214, \"3\": 3, \"1\": 1}}, \"ORACLE.run2_20\": {\"3\": {\"2\": 43, \"9\": 33, \"3\": 144, \"12\": 6, \"4\": 6, \"7\": 5, \"5\": 2, \"1\": 1}, \"15\": {\"15\": 152, \"1\": 6, \"13\": 51, \"5\": 10, \"2\": 15, \"12\": 5, \"0\": 1}, \"8\": {\"8\": 195, \"7\": 19, \"14\": 20, \"4\": 3, \"10\": 1, \"6\": 2}, \"4\": {\"4\": 228, \"12\": 6, \"3\": 4, \"5\": 2}, \"14\": {\"14\": 200, \"6\": 29, \"8\": 10, \"10\": 1}, \"0\": {\"0\": 203, \"15\": 24, \"13\": 2, \"5\": 11}, \"7\": {\"8\": 14, \"3\": 6, \"7\": 217, \"5\": 2, \"2\": 1}, \"6\": {\"6\": 231, \"14\": 7, \"8\": 2}, \"10\": {\"10\": 240}, \"5\": {\"5\": 162, \"15\": 18, \"0\": 25, \"2\": 16, \"7\": 5, \"3\": 5, \"8\": 1, \"12\": 6, \"1\": 2}, \"2\": {\"2\": 129, \"5\": 18, \"9\": 37, \"7\": 2, \"3\": 27, \"12\": 19, \"1\": 2, \"15\": 5, \"13\": 1}, \"12\": {\"2\": 14, \"12\": 133, \"9\": 24, \"1\": 56, \"15\": 5, \"5\": 4, \"4\": 1, \"13\": 1, \"3\": 2}, \"9\": {\"2\": 20, \"9\": 171, \"3\": 22, \"12\": 21, \"1\": 6}, \"1\": {\"12\": 80, \"1\": 141, \"9\": 13, \"15\": 2, \"2\": 3, \"5\": 1}, \"11\": {\"11\": 240}, \"13\": {\"15\": 41, \"13\": 193, \"2\": 3, \"5\": 2, \"0\": 1}}, \"ORACLE.run2_38\": {\"5\": {\"5\": 120, \"8\": 73, \"10\": 2, \"15\": 22, \"7\": 22, \"1\": 1}, \"8\": {\"8\": 128, \"5\": 61, \"15\": 30, \"13\": 5, \"7\": 14, \"3\": 1, \"1\": 1}, \"11\": {\"11\": 222, \"14\": 12, \"12\": 3, \"4\": 3}, \"1\": {\"1\": 229, \"15\": 11}, \"10\": {\"7\": 77, \"10\": 151, \"15\": 1, \"8\": 2, \"5\": 7, \"13\": 2}, \"15\": {\"8\": 35, \"5\": 34, \"15\": 149, \"1\": 17, \"0\": 4, \"6\": 1}, \"3\": {\"3\": 124, \"0\": 39, \"8\": 16, \"10\": 9, \"13\": 41, \"15\": 4, \"6\": 1, \"9\": 2, \"7\": 2, \"5\": 1, \"11\": 1}, \"7\": {\"7\": 160, \"5\": 23, \"3\": 1, \"8\": 11, \"10\": 44, \"13\": 1}, \"4\": {\"4\": 238, \"12\": 2}, \"14\": {\"14\": 184, \"2\": 45, \"7\": 2, \"12\": 6, \"11\": 3}, \"9\": {\"9\": 210, \"6\": 30}, \"12\": {\"12\": 239, \"14\": 1}, \"6\": {\"6\": 216, \"9\": 24}, \"2\": {\"2\": 230, \"14\": 10}, \"0\": {\"0\": 224, \"10\": 3, \"3\": 12, \"8\": 1}, \"13\": {\"13\": 171, \"8\": 22, \"1\": 3, \"3\": 29, \"2\": 3, \"6\": 2, \"0\": 3, \"15\": 2, \"7\": 2, \"9\": 1, \"10\": 2}}, \"ORACLE.run2_8\": {\"9\": {\"9\": 240}, \"10\": {\"10\": 186, \"5\": 26, \"0\": 20, \"13\": 3, \"14\": 5}, \"13\": {\"13\": 207, \"1\": 19, \"14\": 12, \"10\": 2}, \"0\": {\"0\": 202, \"10\": 17, \"14\": 21}, \"1\": {\"1\": 237, \"13\": 3}, \"15\": {\"15\": 182, \"8\": 21, \"12\": 35, \"11\": 2}, \"5\": {\"10\": 34, \"5\": 205, \"13\": 1}, \"3\": {\"3\": 236, \"12\": 4}, \"6\": {\"7\": 24, \"4\": 61, \"6\": 151, \"13\": 1, \"14\": 2, \"2\": 1}, \"11\": {\"11\": 169, \"8\": 50, \"13\": 1, \"15\": 14, \"12\": 6}, \"8\": {\"15\": 22, \"8\": 217, \"11\": 1}, \"4\": {\"4\": 110, \"6\": 59, \"7\": 65, \"2\": 6}, \"12\": {\"12\": 204, \"15\": 30, \"3\": 6}, \"14\": {\"14\": 205, \"0\": 26, \"13\": 4, \"10\": 4, \"6\": 1}, \"2\": {\"4\": 10, \"2\": 222, \"7\": 8}, \"7\": {\"7\": 141, \"6\": 24, \"4\": 66, \"2\": 9}}, \"ORACLE.run2_50\": {\"7\": {\"7\": 194, \"5\": 11, \"13\": 30, \"10\": 5}, \"3\": {\"3\": 236, \"8\": 2, \"7\": 2}, \"8\": {\"8\": 239, \"3\": 1}, \"2\": {\"2\": 237, \"0\": 3}, \"14\": {\"14\": 240}, \"4\": {\"4\": 152, \"5\": 70, \"1\": 12, \"6\": 4, \"7\": 2}, \"6\": {\"6\": 213, \"4\": 8, \"1\": 10, \"5\": 8, \"15\": 1}, \"15\": {\"15\": 216, \"1\": 18, \"11\": 4, \"6\": 2}, \"10\": {\"10\": 211, \"13\": 25, \"0\": 4}, \"11\": {\"11\": 233, \"14\": 3, \"15\": 2, \"12\": 1, \"1\": 1}, \"13\": {\"13\": 167, \"7\": 34, \"5\": 8, \"4\": 3, \"10\": 28}, \"9\": {\"9\": 238, \"12\": 2}, \"0\": {\"0\": 235, \"2\": 4, \"10\": 1}, \"1\": {\"1\": 216, \"4\": 8, \"6\": 4, \"15\": 10, \"5\": 2}, \"12\": {\"12\": 236, \"9\": 1, \"11\": 2, \"14\": 1}, \"5\": {\"7\": 21, \"5\": 125, \"4\": 55, \"10\": 13, \"13\": 18, \"6\": 6, \"1\": 1, \"0\": 1}}, \"ORACLE.run2_32\": {\"8\": {\"8\": 208, \"5\": 1, \"0\": 17, \"13\": 4, \"3\": 8, \"14\": 1, \"4\": 1}, \"14\": {\"14\": 218, \"0\": 16, \"5\": 4, \"2\": 2}, \"2\": {\"2\": 225, \"4\": 6, \"5\": 4, \"14\": 2, \"7\": 3}, \"0\": {\"0\": 204, \"8\": 10, \"11\": 15, \"14\": 3, \"4\": 5, \"5\": 2, \"13\": 1}, \"1\": {\"1\": 239, \"10\": 1}, \"10\": {\"10\": 240}, \"11\": {\"11\": 184, \"5\": 3, \"13\": 4, \"14\": 2, \"0\": 18, \"7\": 22, \"2\": 3, \"4\": 3, \"8\": 1}, \"5\": {\"5\": 133, \"4\": 37, \"7\": 5, \"13\": 8, \"11\": 7, \"14\": 7, \"8\": 23, \"2\": 9, \"0\": 10, \"3\": 1}, \"15\": {\"15\": 240}, \"3\": {\"3\": 238, \"13\": 1, \"8\": 1}, \"12\": {\"12\": 240}, \"7\": {\"11\": 33, \"7\": 174, \"4\": 17, \"13\": 10, \"5\": 5, \"2\": 1}, \"13\": {\"4\": 46, \"11\": 6, \"13\": 182, \"5\": 2, \"7\": 3, \"8\": 1}, \"6\": {\"6\": 240}, \"4\": {\"5\": 16, \"4\": 161, \"13\": 50, \"2\": 6, \"7\": 5, \"8\": 1, \"11\": 1}, \"9\": {\"9\": 240}}, \"ORACLE.run2_26\": {\"4\": {\"4\": 173, \"0\": 17, \"14\": 13, \"3\": 11, \"2\": 14, \"7\": 5, \"8\": 5, \"15\": 2}, \"12\": {\"12\": 240}, \"10\": {\"0\": 64, \"6\": 19, \"10\": 98, \"8\": 24, \"4\": 9, \"14\": 22, \"9\": 1, \"15\": 2, \"2\": 1}, \"0\": {\"0\": 110, \"14\": 45, \"10\": 39, \"8\": 22, \"15\": 1, \"4\": 23}, \"13\": {\"13\": 201, \"5\": 30, \"8\": 1, \"9\": 6, \"6\": 1, \"7\": 1}, \"9\": {\"9\": 211, \"13\": 14, \"6\": 10, \"8\": 3, \"5\": 2}, \"3\": {\"3\": 185, \"2\": 28, \"15\": 11, \"7\": 10, \"4\": 6}, \"2\": {\"2\": 97, \"15\": 19, \"7\": 86, \"4\": 12, \"5\": 4, \"8\": 7, \"3\": 14, \"9\": 1}, \"5\": {\"13\": 49, \"9\": 2, \"5\": 129, \"2\": 23, \"6\": 5, \"3\": 5, \"7\": 22, \"8\": 5}, \"14\": {\"14\": 119, \"8\": 19, \"10\": 18, \"0\": 44, \"1\": 21, \"4\": 19}, \"8\": {\"8\": 141, \"10\": 10, \"14\": 16, \"4\": 11, \"2\": 15, \"7\": 17, \"0\": 23, \"5\": 5, \"9\": 1, \"6\": 1}, \"7\": {\"7\": 109, \"3\": 11, \"2\": 79, \"5\": 12, \"15\": 5, \"8\": 16, \"4\": 7, \"9\": 1}, \"6\": {\"6\": 216, \"9\": 21, \"5\": 2, \"10\": 1}, \"11\": {\"11\": 240}, \"15\": {\"4\": 2, \"3\": 17, \"2\": 28, \"15\": 182, \"7\": 9, \"0\": 1, \"9\": 1}, \"1\": {\"1\": 210, \"14\": 25, \"4\": 3, \"0\": 1, \"7\": 1}}, \"ORACLE.run2_44\": {\"12\": {\"12\": 180, \"1\": 55, \"3\": 5}, \"7\": {\"9\": 61, \"6\": 3, \"7\": 147, \"2\": 29}, \"5\": {\"5\": 222, \"14\": 18}, \"15\": {\"15\": 214, \"14\": 21, \"4\": 5}, \"8\": {\"0\": 103, \"8\": 136, \"5\": 1}, \"2\": {\"2\": 187, \"9\": 33, \"7\": 20}, \"13\": {\"13\": 230, \"4\": 8, \"6\": 2}, \"4\": {\"4\": 219, \"14\": 17, \"15\": 3, \"13\": 1}, \"0\": {\"8\": 95, \"0\": 145}, \"6\": {\"6\": 231, \"9\": 7, \"7\": 2}, \"9\": {\"9\": 125, \"7\": 62, \"2\": 52, \"6\": 1}, \"11\": {\"11\": 239, \"13\": 1}, \"10\": {\"10\": 236, \"12\": 3, \"1\": 1}, \"14\": {\"14\": 187, \"15\": 28, \"5\": 13, \"4\": 12}, \"1\": {\"1\": 170, \"12\": 58, \"3\": 10, \"2\": 1, \"7\": 1}, \"3\": {\"3\": 225, \"1\": 6, \"12\": 8, \"7\": 1}}, \"W_A_3\": {\"109\": {\"109\": 6, \"33\": 3, \"89\": 1, \"26\": 1, \"119\": 1}, \"127\": {\"127\": 12}, \"14\": {\"14\": 6, \"107\": 1, \"45\": 1, \"84\": 1, \"20\": 2, \"115\": 1}, \"7\": {\"7\": 7, \"66\": 1, \"98\": 4}, \"129\": {\"129\": 9, \"49\": 1, \"1\": 1, \"22\": 1}, \"57\": {\"57\": 12}, \"84\": {\"84\": 5, \"44\": 2, \"26\": 1, \"121\": 1, \"49\": 1, \"82\": 1, \"109\": 1}, \"114\": {\"57\": 1, \"114\": 6, \"40\": 1, \"110\": 1, \"1\": 2, \"4\": 1}, \"44\": {\"84\": 1, \"109\": 1, \"44\": 6, \"100\": 1, \"50\": 1, \"29\": 1, \"96\": 1}, \"21\": {\"63\": 2, \"21\": 5, \"39\": 1, \"117\": 2, \"81\": 2}, \"46\": {\"46\": 6, \"86\": 2, \"85\": 2, \"128\": 1, \"3\": 1}, \"100\": {\"14\": 1, \"100\": 7, \"62\": 3, \"40\": 1}, \"63\": {\"63\": 5, \"24\": 1, \"113\": 2, \"27\": 1, \"2\": 2, \"54\": 1}, \"24\": {\"35\": 1, \"21\": 1, \"54\": 1, \"101\": 1, \"24\": 3, \"121\": 1, \"68\": 1, \"112\": 1, \"10\": 1, \"65\": 1}, \"107\": {\"107\": 10, \"57\": 1, \"28\": 1}, \"35\": {\"107\": 1, \"35\": 4, \"111\": 1, \"10\": 1, \"60\": 1, \"32\": 1, \"114\": 1}, \"81\": {\"81\": 11, \"18\": 1}, \"64\": {\"64\": 10, \"26\": 1, \"120\": 1}, \"59\": {\"34\": 1, \"59\": 6, \"73\": 2, \"111\": 2, \"0\": 1}, \"33\": {\"33\": 11, \"116\": 1}, \"34\": {\"34\": 4, \"15\": 1, \"60\": 2, \"0\": 2, \"58\": 2, \"6\": 1}, \"36\": {\"59\": 1, \"34\": 1, \"24\": 3, \"36\": 4, \"52\": 1, \"25\": 1, \"10\": 1}, \"79\": {\"79\": 10, \"20\": 2}, \"80\": {\"80\": 9, \"31\": 1, \"2\": 1, \"44\": 1}, \"77\": {\"77\": 12}, \"22\": {\"22\": 8, \"46\": 1, \"5\": 1, \"104\": 2}, \"124\": {\"57\": 1, \"105\": 1, \"128\": 1, \"98\": 1, \"124\": 4, \"42\": 1, \"127\": 2, \"108\": 1}, \"2\": {\"2\": 12}, \"87\": {\"87\": 6, \"22\": 1, \"67\": 1, \"129\": 1, \"107\": 2, \"32\": 1}, \"105\": {\"57\": 1, \"105\": 8, \"19\": 1, \"108\": 2}, \"95\": {\"59\": 1, \"95\": 8, \"98\": 1, \"48\": 1, \"46\": 1}, \"43\": {\"43\": 9, \"102\": 1, \"80\": 1, \"96\": 1}, \"56\": {\"56\": 7, \"85\": 1, \"104\": 1, \"9\": 1}, \"18\": {\"18\": 10, \"81\": 1, \"63\": 1}, \"85\": {\"46\": 3, \"85\": 6, \"105\": 1, \"103\": 1, \"112\": 1}, \"113\": {\"123\": 2, \"113\": 10}, \"97\": {\"59\": 1, \"97\": 8, \"101\": 1, \"94\": 1, \"7\": 1}, \"86\": {\"86\": 4, \"46\": 1, \"66\": 1, \"128\": 1, \"105\": 1, \"108\": 1, \"5\": 1, \"85\": 1, \"74\": 1}, \"128\": {\"110\": 1, \"86\": 1, \"128\": 3, \"74\": 1, \"115\": 1, \"124\": 1, \"1\": 2, \"32\": 1, \"60\": 1}, \"123\": {\"123\": 7, \"113\": 1, \"121\": 1, \"67\": 2, \"18\": 1}, \"8\": {\"59\": 1, \"56\": 1, \"8\": 6, \"9\": 1, \"91\": 1, \"98\": 1, \"41\": 1}, \"110\": {\"110\": 9, \"122\": 3}, \"126\": {\"21\": 4, \"126\": 7, \"61\": 1}, \"101\": {\"114\": 1, \"65\": 1, \"68\": 2, \"101\": 5, \"7\": 1, \"72\": 1, \"95\": 1}, \"115\": {\"115\": 8, \"107\": 1, \"19\": 1, \"1\": 1, \"14\": 1}, \"49\": {\"84\": 1, \"44\": 1, \"108\": 1, \"49\": 1, \"48\": 1, \"98\": 1, \"86\": 2, \"28\": 1, \"100\": 1, \"1\": 1, \"30\": 1}, \"45\": {\"45\": 12}, \"78\": {\"31\": 1, \"43\": 1, \"121\": 1, \"123\": 1, \"13\": 1, \"19\": 1, \"28\": 2, \"92\": 2, \"53\": 2}, \"65\": {\"65\": 4, \"127\": 1, \"47\": 1, \"85\": 2, \"66\": 1, \"81\": 1}, \"54\": {\"54\": 12}, \"31\": {\"31\": 7, \"69\": 1, \"11\": 1, \"90\": 1}, \"42\": {\"114\": 1, \"42\": 2, \"108\": 1, \"36\": 1, \"10\": 1, \"3\": 1, \"30\": 1, \"57\": 1, \"5\": 1, \"92\": 1, \"94\": 1}, \"68\": {\"68\": 8, \"72\": 3, \"35\": 1}, \"15\": {\"94\": 3, \"15\": 5, \"51\": 1, \"24\": 2, \"0\": 1}, \"69\": {\"69\": 12}, \"17\": {\"102\": 1, \"77\": 1, \"123\": 1, \"104\": 1, \"108\": 2, \"18\": 1, \"5\": 1, \"116\": 1, \"124\": 1}, \"73\": {\"73\": 6, \"108\": 1, \"56\": 1, \"124\": 1, \"42\": 1, \"8\": 2}, \"121\": {\"121\": 9, \"123\": 1, \"64\": 2}, \"102\": {\"102\": 11, \"44\": 1}, \"48\": {\"102\": 1, \"69\": 1, \"16\": 1, \"56\": 1, \"48\": 2, \"127\": 2, \"66\": 1, \"33\": 2, \"112\": 1}, \"23\": {\"121\": 2, \"28\": 2, \"105\": 1, \"113\": 1, \"128\": 2, \"126\": 1, \"67\": 1, \"71\": 2}, \"108\": {\"108\": 3, \"77\": 1, \"1\": 1, \"104\": 1, \"112\": 1, \"105\": 1, \"86\": 1, \"5\": 1, \"122\": 1, \"57\": 1}, \"53\": {\"53\": 9, \"31\": 2, \"60\": 1}, \"94\": {\"94\": 4, \"34\": 1, \"101\": 1, \"25\": 2, \"97\": 2}, \"41\": {\"77\": 3, \"41\": 5, \"127\": 1, \"8\": 2, \"115\": 1}, \"58\": {\"106\": 1, \"58\": 7, \"36\": 1, \"97\": 1, \"6\": 2}, \"29\": {\"29\": 7, \"82\": 3, \"62\": 1, \"102\": 1}, \"116\": {\"116\": 9, \"44\": 2, \"11\": 1}, \"60\": {\"60\": 4, \"42\": 1, \"53\": 1, \"122\": 1, \"32\": 2, \"62\": 2, \"107\": 1}, \"104\": {\"104\": 6, \"9\": 1, \"56\": 1, \"128\": 2, \"66\": 2}, \"106\": {\"58\": 2, \"24\": 1, \"106\": 3, \"30\": 2, \"51\": 2, \"101\": 1, \"37\": 1}, \"66\": {\"66\": 10, \"85\": 2}, \"47\": {\"47\": 9, \"127\": 1, \"56\": 2}, \"40\": {\"40\": 3, \"19\": 2, \"74\": 1, \"22\": 1, \"57\": 1, \"110\": 1, \"114\": 1, \"50\": 2}, \"82\": {\"82\": 11, \"29\": 1}, \"13\": {\"11\": 3, \"113\": 2, \"120\": 1, \"90\": 1, \"93\": 1, \"26\": 1, \"81\": 1, \"100\": 1, \"63\": 1}, \"19\": {\"9\": 1, \"19\": 2, \"115\": 2, \"105\": 1, \"107\": 1, \"28\": 2, \"108\": 1, \"86\": 1, \"127\": 1}, \"72\": {\"101\": 1, \"68\": 1, \"103\": 1, \"72\": 4, \"66\": 1, \"7\": 2, \"65\": 1, \"98\": 1}, \"9\": {\"104\": 1, \"9\": 11}, \"67\": {\"67\": 10, \"123\": 1, \"61\": 1}, \"11\": {\"11\": 6, \"76\": 2, \"17\": 2, \"84\": 1, \"89\": 1}, \"125\": {\"125\": 9, \"0\": 2, \"30\": 1}, \"76\": {\"76\": 5, \"100\": 2, \"116\": 1}, \"83\": {\"83\": 8, \"29\": 1, \"71\": 1, \"47\": 2}, \"74\": {\"74\": 7, \"54\": 1, \"57\": 2, \"127\": 1, \"53\": 1}, \"20\": {\"20\": 10, \"79\": 2}, \"119\": {\"119\": 8, \"93\": 1, \"78\": 1, \"33\": 2}, \"1\": {\"1\": 7, \"32\": 2, \"28\": 1, \"46\": 1, \"114\": 1}, \"16\": {\"17\": 2, \"16\": 9, \"100\": 1}, \"25\": {\"25\": 11, \"16\": 1}, \"90\": {\"90\": 4, \"23\": 1, \"79\": 1, \"17\": 1, \"116\": 1}, \"39\": {\"39\": 8, \"67\": 3, \"61\": 1}, \"28\": {\"28\": 8, \"74\": 1, \"108\": 1, \"50\": 2}, \"55\": {\"55\": 10, \"5\": 1, \"71\": 1}, \"117\": {\"117\": 12}, \"112\": {\"112\": 6, \"38\": 2, \"99\": 1, \"71\": 1, \"55\": 1, \"127\": 1}, \"38\": {\"38\": 6, \"108\": 1, \"105\": 2, \"19\": 2, \"127\": 1}, \"37\": {\"37\": 10, \"0\": 1, \"106\": 1}, \"120\": {\"64\": 1, \"120\": 11}, \"122\": {\"122\": 4, \"110\": 1, \"38\": 1, \"74\": 1, \"29\": 1, \"71\": 1, \"14\": 1, \"57\": 2}, \"50\": {\"50\": 10, \"114\": 1, \"53\": 1}, \"10\": {\"10\": 7, \"34\": 1, \"127\": 1, \"111\": 1, \"56\": 1, \"3\": 1}, \"5\": {\"5\": 4, \"71\": 1, \"70\": 1, \"86\": 2, \"85\": 1, \"112\": 1, \"88\": 1, \"108\": 1}, \"51\": {\"51\": 5, \"27\": 2, \"22\": 1, \"106\": 2, \"75\": 1, \"15\": 1}, \"3\": {\"22\": 1, \"70\": 1, \"3\": 5, \"103\": 1, \"4\": 1, \"46\": 1, \"64\": 1, \"5\": 1}, \"98\": {\"48\": 2, \"98\": 8, \"47\": 1, \"34\": 1}, \"70\": {\"20\": 1, \"3\": 1, \"89\": 2, \"85\": 1, \"70\": 1, \"107\": 1, \"128\": 1, \"50\": 1, \"49\": 1, \"74\": 1, \"14\": 1}, \"96\": {\"113\": 1, \"96\": 8, \"2\": 2, \"119\": 1}, \"12\": {\"12\": 6, \"98\": 1, \"52\": 1, \"71\": 1, \"30\": 1, \"28\": 1, \"56\": 1}, \"99\": {\"128\": 2, \"99\": 7, \"85\": 1, \"114\": 1, \"122\": 1}, \"52\": {\"8\": 2, \"66\": 1, \"52\": 5, \"71\": 2, \"110\": 1, \"47\": 1}, \"71\": {\"71\": 6, \"61\": 1, \"96\": 1, \"104\": 2, \"3\": 2}, \"89\": {\"89\": 10, \"11\": 1, \"69\": 1}, \"0\": {\"8\": 1, \"52\": 1, \"0\": 9, \"46\": 1}, \"4\": {\"70\": 1, \"55\": 1, \"85\": 1, \"114\": 1, \"118\": 1, \"4\": 3, \"120\": 1, \"32\": 1, \"23\": 1, \"71\": 1}, \"93\": {\"93\": 12}, \"6\": {\"6\": 3, \"27\": 1, \"111\": 1, \"125\": 1, \"37\": 2, \"126\": 1, \"58\": 1}, \"75\": {\"75\": 12}, \"62\": {\"62\": 10, \"84\": 1, \"82\": 1}, \"103\": {\"103\": 8, \"3\": 1, \"55\": 1, \"88\": 1, \"5\": 1}, \"30\": {\"99\": 1, \"30\": 3, \"59\": 1, \"103\": 2, \"91\": 2, \"42\": 1, \"85\": 1, \"105\": 1}, \"91\": {\"91\": 10, \"56\": 1, \"99\": 1}, \"27\": {\"72\": 2, \"103\": 1, \"22\": 1, \"114\": 1, \"27\": 2, \"6\": 2, \"24\": 1, \"110\": 1, \"98\": 1}, \"26\": {\"26\": 11, \"118\": 1}, \"61\": {\"61\": 12}, \"118\": {\"92\": 5, \"26\": 2, \"33\": 1, \"109\": 1, \"118\": 2, \"102\": 1}, \"92\": {\"93\": 2, \"119\": 1, \"92\": 7, \"120\": 2}, \"111\": {\"7\": 1, \"111\": 8, \"114\": 1, \"103\": 1, \"78\": 1}, \"32\": {\"32\": 5, \"62\": 1, \"3\": 1, \"100\": 1, \"50\": 2, \"87\": 1, \"28\": 1}, \"88\": {\"114\": 1, \"88\": 1, \"3\": 1, \"118\": 1, \"123\": 2, \"67\": 2, \"81\": 1, \"109\": 1}}, \"W_A_4\": {\"28\": {\"28\": 8, \"14\": 1, \"83\": 1, \"72\": 2}, \"4\": {\"4\": 7, \"82\": 1, \"56\": 1, \"41\": 3}, \"72\": {\"28\": 1, \"14\": 1, \"72\": 7, \"49\": 1, \"46\": 1, \"64\": 1}, \"111\": {\"4\": 2, \"111\": 3, \"114\": 1, \"27\": 2, \"91\": 1, \"9\": 1, \"86\": 1, \"127\": 1}, \"108\": {\"45\": 1, \"28\": 1, \"122\": 1, \"62\": 1, \"110\": 1, \"108\": 4, \"64\": 1, \"11\": 1, \"32\": 1}, \"43\": {\"45\": 1, \"72\": 1, \"43\": 3, \"115\": 1, \"129\": 1, \"79\": 1, \"22\": 1, \"99\": 1}, \"96\": {\"96\": 9, \"90\": 1, \"88\": 1, \"117\": 1}, \"89\": {\"89\": 10, \"1\": 1, \"46\": 1}, \"31\": {\"108\": 1, \"45\": 1, \"31\": 7, \"109\": 1, \"50\": 1, \"88\": 1}, \"45\": {\"45\": 10, \"92\": 2}, \"2\": {\"2\": 11, \"80\": 1}, \"114\": {\"89\": 1, \"114\": 4, \"40\": 2, \"112\": 1, \"82\": 2, \"1\": 2}, \"11\": {\"28\": 2, \"11\": 5, \"116\": 1, \"33\": 1, \"99\": 1, \"119\": 2}, \"12\": {\"72\": 1, \"12\": 6, \"91\": 1, \"55\": 1, \"101\": 1, \"128\": 1, \"56\": 1}, \"14\": {\"14\": 7, \"28\": 2, \"20\": 1, \"3\": 1, \"76\": 1}, \"90\": {\"96\": 1, \"90\": 9, \"84\": 1, \"48\": 1}, \"10\": {\"82\": 1, \"10\": 4, \"52\": 1, \"24\": 1, \"128\": 1, \"94\": 2, \"104\": 1, \"50\": 1}, \"63\": {\"11\": 1, \"63\": 10, \"72\": 1}, \"85\": {\"85\": 7, \"123\": 1, \"40\": 1, \"17\": 1, \"1\": 1, \"127\": 1}, \"64\": {\"64\": 11, \"19\": 1}, \"82\": {\"82\": 10, \"48\": 1, \"63\": 1}, \"58\": {\"58\": 11, \"10\": 1}, \"3\": {\"3\": 8, \"82\": 1, \"28\": 1, \"50\": 1, \"100\": 1}, \"54\": {\"54\": 12}, \"121\": {\"121\": 4, \"123\": 3, \"67\": 1, \"90\": 1, \"2\": 2, \"38\": 1}, \"42\": {\"91\": 3, \"73\": 1, \"42\": 3, \"56\": 1, \"82\": 1, \"8\": 1, \"28\": 1, \"129\": 1}, \"98\": {\"42\": 1, \"98\": 3, \"17\": 2, \"124\": 1, \"91\": 1, \"27\": 2, \"41\": 2}, \"123\": {\"123\": 10, \"90\": 1, \"81\": 1}, \"91\": {\"91\": 8, \"54\": 1, \"27\": 1, \"127\": 2}, \"66\": {\"102\": 1, \"66\": 7, \"109\": 1, \"90\": 1, \"38\": 2}, \"102\": {\"102\": 12}, \"122\": {\"62\": 2, \"110\": 1, \"118\": 1, \"104\": 1, \"92\": 2, \"122\": 4, \"43\": 1}, \"1\": {\"1\": 5, \"82\": 1, \"3\": 1, \"114\": 4, \"89\": 1}, \"15\": {\"125\": 1, \"75\": 1, \"9\": 2, \"15\": 4, \"46\": 1, \"25\": 1, \"111\": 1, \"91\": 1}, \"97\": {\"4\": 1, \"68\": 1, \"54\": 2, \"9\": 1, \"97\": 4, \"115\": 1, \"83\": 1, \"8\": 1}, \"75\": {\"75\": 11, \"48\": 1}, \"95\": {\"82\": 1, \"95\": 8, \"127\": 1, \"85\": 1, \"46\": 1}, \"57\": {\"66\": 2, \"57\": 8, \"48\": 2}, \"68\": {\"82\": 1, \"4\": 1, \"53\": 1, \"127\": 1, \"29\": 1, \"68\": 3, \"30\": 1, \"120\": 1, \"106\": 1, \"56\": 1}, \"125\": {\"125\": 7, \"101\": 2, \"30\": 2, \"86\": 1}, \"62\": {\"62\": 7, \"79\": 2, \"19\": 1}, \"27\": {\"55\": 2, \"37\": 1, \"21\": 1, \"27\": 3, \"86\": 1, \"91\": 1, \"56\": 1, \"7\": 1, \"126\": 1}, \"120\": {\"120\": 9, \"23\": 1, \"64\": 2}, \"26\": {\"26\": 11, \"63\": 1}, \"55\": {\"55\": 8, \"128\": 1, \"27\": 1, \"0\": 1, \"4\": 1}, \"71\": {\"55\": 2, \"71\": 3, \"7\": 2, \"83\": 1, \"26\": 1, \"124\": 1, \"82\": 2}, \"22\": {\"83\": 1, \"22\": 10, \"43\": 1}, \"99\": {\"99\": 8, \"14\": 1, \"28\": 1, \"21\": 1, \"11\": 1}, \"84\": {\"13\": 2, \"84\": 5, \"103\": 1, \"67\": 2, \"35\": 1, \"96\": 1}, \"37\": {\"37\": 6, \"124\": 2, \"27\": 3, \"95\": 1}, \"83\": {\"22\": 1, \"120\": 1, \"83\": 3, \"40\": 2, \"71\": 1, \"115\": 1, \"105\": 1, \"28\": 1, \"19\": 1}, \"46\": {\"22\": 1, \"83\": 1, \"46\": 5, \"119\": 1, \"40\": 4}, \"35\": {\"35\": 9, \"117\": 2, \"78\": 1}, \"13\": {\"84\": 1, \"99\": 1, \"96\": 2, \"13\": 5, \"87\": 2, \"100\": 1}, \"53\": {\"0\": 2, \"95\": 1, \"127\": 1, \"61\": 1, \"53\": 3, \"74\": 1, \"101\": 1, \"65\": 1, \"37\": 1}, \"127\": {\"8\": 2, \"127\": 8, \"53\": 2}, \"69\": {\"48\": 1, \"69\": 9, \"129\": 1, \"123\": 1}, \"48\": {\"16\": 1, \"48\": 3, \"44\": 2, \"121\": 1, \"109\": 1, \"84\": 1, \"90\": 2, \"46\": 1}, \"16\": {\"16\": 12}, \"0\": {\"8\": 1, \"0\": 4, \"42\": 1, \"119\": 1, \"86\": 1, \"69\": 1, \"41\": 1, \"37\": 1, \"87\": 1}, \"8\": {\"0\": 1, \"48\": 1, \"8\": 2, \"56\": 2, \"41\": 2, \"37\": 1, \"53\": 1, \"106\": 1, \"18\": 1}, \"9\": {\"9\": 4, \"98\": 1, \"106\": 2, \"37\": 1, \"112\": 1, \"28\": 1, \"95\": 1, \"12\": 1}, \"115\": {\"115\": 6, \"119\": 2, \"32\": 1, \"83\": 1, \"105\": 1, \"72\": 1}, \"70\": {\"46\": 1, \"60\": 1, \"74\": 1, \"19\": 1, \"87\": 1, \"70\": 4, \"82\": 1, \"72\": 1, \"33\": 1}, \"119\": {\"46\": 3, \"119\": 7, \"115\": 1, \"14\": 1}, \"59\": {\"59\": 3, \"52\": 2, \"29\": 1, \"7\": 1, \"18\": 1, \"15\": 1, \"58\": 1, \"46\": 2}, \"52\": {\"95\": 2, \"52\": 4, \"127\": 1, \"40\": 2, \"4\": 1, \"85\": 2}, \"60\": {\"120\": 1, \"60\": 4, \"128\": 1, \"99\": 2, \"105\": 1, \"83\": 1, \"85\": 1, \"89\": 1}, \"44\": {\"44\": 7, \"74\": 3, \"123\": 1, \"90\": 1}, \"51\": {\"15\": 1, \"44\": 1, \"114\": 2, \"47\": 1, \"56\": 1, \"9\": 1, \"25\": 1, \"7\": 1, \"51\": 1, \"6\": 1, \"49\": 1}, \"6\": {\"15\": 1, \"68\": 1, \"6\": 4, \"119\": 1, \"34\": 1, \"91\": 2, \"58\": 1, \"94\": 1}, \"73\": {\"45\": 1, \"74\": 1, \"73\": 4, \"129\": 1, \"3\": 1, \"5\": 1, \"108\": 1, \"31\": 2}, \"78\": {\"70\": 3, \"63\": 1, \"27\": 1, \"128\": 1, \"119\": 1, \"110\": 1, \"114\": 1, \"1\": 1, \"102\": 1, \"87\": 1}, \"92\": {\"74\": 3, \"92\": 8, \"69\": 1}, \"20\": {\"20\": 7, \"92\": 1, \"102\": 1, \"126\": 1, \"67\": 2}, \"17\": {\"17\": 9, \"104\": 1, \"124\": 2}, \"74\": {\"74\": 6, \"69\": 1, \"44\": 2, \"108\": 1, \"70\": 1, \"102\": 1}, \"19\": {\"17\": 1, \"92\": 1, \"31\": 2, \"19\": 1, \"110\": 1, \"83\": 1, \"87\": 1, \"62\": 2, \"96\": 1, \"112\": 1}, \"50\": {\"19\": 2, \"50\": 4, \"3\": 1, \"76\": 2, \"107\": 2, \"32\": 1}, \"34\": {\"17\": 1, \"104\": 1, \"25\": 1, \"34\": 5, \"15\": 1, \"89\": 1, \"10\": 2}, \"104\": {\"104\": 6, \"17\": 2}, \"33\": {\"5\": 2, \"118\": 1, \"33\": 4, \"31\": 1, \"109\": 1, \"62\": 1, \"39\": 1, \"45\": 1}, \"5\": {\"5\": 8, \"129\": 2, \"108\": 2}, \"7\": {\"71\": 2, \"7\": 5, \"40\": 1, \"128\": 1, \"105\": 1, \"70\": 1, \"123\": 1}, \"29\": {\"68\": 2, \"29\": 7, \"8\": 1, \"101\": 2}, \"25\": {\"75\": 3, \"25\": 8, \"36\": 1}, \"124\": {\"7\": 1, \"71\": 1, \"89\": 2, \"128\": 1, \"124\": 5, \"100\": 1, \"112\": 1}, \"117\": {\"117\": 9, \"26\": 2, \"61\": 1}, \"88\": {\"35\": 2, \"114\": 1, \"117\": 1, \"26\": 3, \"63\": 1, \"67\": 1, \"119\": 2, \"113\": 1}, \"61\": {\"61\": 9, \"18\": 1, \"81\": 1, \"117\": 1}, \"86\": {\"86\": 4, \"53\": 1, \"40\": 1, \"46\": 1, \"41\": 1, \"95\": 2, \"87\": 1, \"37\": 1}, \"116\": {\"116\": 10, \"20\": 1, \"69\": 1}, \"24\": {\"24\": 5, \"36\": 3, \"111\": 1, \"54\": 2, \"128\": 1}, \"128\": {\"124\": 2, \"64\": 1, \"21\": 1, \"100\": 1, \"128\": 2, \"83\": 1, \"40\": 2, \"115\": 1, \"95\": 1}, \"101\": {\"127\": 3, \"56\": 2, \"101\": 2, \"27\": 1, \"29\": 1, \"91\": 1, \"53\": 2}, \"65\": {\"65\": 9, \"73\": 1}, \"36\": {\"24\": 1, \"101\": 2, \"36\": 8, \"49\": 1}, \"21\": {\"21\": 8, \"65\": 2, \"81\": 1, \"63\": 1}, \"106\": {\"37\": 1, \"55\": 1, \"77\": 3, \"112\": 1, \"106\": 3, \"52\": 2, \"8\": 1}, \"118\": {\"33\": 2, \"35\": 1, \"122\": 1, \"100\": 1, \"118\": 4, \"43\": 1, \"110\": 1, \"65\": 1}, \"113\": {\"26\": 4, \"113\": 5, \"126\": 1, \"81\": 1, \"123\": 1}, \"40\": {\"1\": 2, \"40\": 3, \"46\": 3, \"83\": 1, \"128\": 2, \"87\": 1}, \"93\": {\"93\": 6, \"109\": 2}, \"94\": {\"94\": 4, \"103\": 1, \"34\": 1, \"36\": 1, \"49\": 1, \"51\": 1, \"10\": 3}, \"103\": {\"8\": 2, \"86\": 2, \"49\": 1, \"103\": 2, \"5\": 1, \"65\": 1, \"29\": 1, \"54\": 1, \"120\": 1}, \"110\": {\"110\": 7, \"108\": 2, \"62\": 2, \"60\": 1}, \"56\": {\"56\": 8, \"17\": 2, \"27\": 1, \"41\": 1}, \"39\": {\"39\": 8, \"81\": 2, \"18\": 1, \"26\": 1}, \"109\": {\"2\": 1, \"109\": 4, \"121\": 1, \"38\": 1, \"116\": 1, \"48\": 1, \"88\": 1, \"93\": 2}, \"67\": {\"74\": 2, \"121\": 2, \"110\": 1, \"39\": 2, \"62\": 1, \"7\": 1, \"63\": 1, \"73\": 1, \"81\": 1}, \"129\": {\"129\": 4, \"73\": 1, \"128\": 1, \"105\": 1, \"49\": 1, \"41\": 1, \"69\": 1, \"93\": 2}, \"30\": {\"30\": 9, \"114\": 1, \"125\": 1, \"112\": 1}, \"126\": {\"126\": 11, \"108\": 1}, \"87\": {\"21\": 1, \"87\": 4, \"115\": 1, \"32\": 1, \"71\": 1, \"19\": 1, \"73\": 1, \"1\": 1, \"76\": 1}, \"112\": {\"70\": 1, \"112\": 7, \"128\": 1, \"114\": 1, \"105\": 1, \"82\": 1}, \"100\": {\"76\": 1, \"112\": 1, \"100\": 7, \"128\": 1, \"28\": 1, \"46\": 1}, \"79\": {\"76\": 1, \"79\": 7, \"22\": 2}, \"81\": {\"81\": 10, \"61\": 1, \"123\": 1}, \"76\": {\"76\": 5, \"32\": 3, \"22\": 1, \"87\": 1}, \"47\": {\"47\": 9, \"100\": 1, \"59\": 2}, \"77\": {\"77\": 7, \"86\": 1, \"41\": 1, \"103\": 1, \"95\": 1, \"9\": 1}, \"23\": {\"103\": 1, \"85\": 1, \"41\": 4, \"123\": 2, \"121\": 1, \"95\": 1, \"65\": 1, \"37\": 1}, \"18\": {\"18\": 12}, \"49\": {\"84\": 1, \"49\": 5, \"41\": 2, \"102\": 2, \"53\": 2}, \"41\": {\"86\": 1, \"41\": 7, \"47\": 1, \"112\": 1, \"12\": 1, \"42\": 1}, \"32\": {\"119\": 1, \"115\": 1, \"22\": 1, \"76\": 1, \"107\": 1, \"79\": 1, \"46\": 2, \"33\": 1, \"32\": 1, \"14\": 1, \"11\": 1}, \"107\": {\"128\": 1, \"107\": 7, \"87\": 2}, \"80\": {\"80\": 11, \"18\": 1}, \"105\": {\"105\": 4, \"87\": 1, \"112\": 1, \"114\": 2, \"113\": 1, \"3\": 1}, \"38\": {\"38\": 10}}, \"C_A_3\": {\"43\": {\"31\": 1, \"43\": 11}, \"9\": {\"19\": 1, \"9\": 11}, \"6\": {\"6\": 7, \"48\": 2, \"27\": 1}, \"3\": {\"44\": 2, \"3\": 7, \"18\": 1, \"52\": 1, \"46\": 1}, \"16\": {\"16\": 9, \"23\": 2, \"1\": 1}, \"51\": {\"51\": 12}, \"31\": {\"31\": 12}, \"46\": {\"46\": 8, \"3\": 1, \"52\": 1}, \"19\": {\"9\": 4, \"19\": 4}, \"8\": {\"8\": 10, \"51\": 1, \"32\": 1}, \"18\": {\"9\": 1, \"18\": 7, \"41\": 1, \"33\": 1, \"6\": 1, \"48\": 1}, \"37\": {\"37\": 12}, \"24\": {\"24\": 10, \"14\": 1, \"55\": 1}, \"10\": {\"14\": 1, \"43\": 3, \"10\": 5, \"22\": 1, \"13\": 2}, \"44\": {\"44\": 8, \"46\": 1, \"40\": 1}, \"14\": {\"24\": 1, \"31\": 1, \"7\": 1, \"56\": 1, \"35\": 2, \"14\": 2, \"5\": 2, \"0\": 1, \"13\": 1}, \"38\": {\"38\": 10}, \"53\": {\"53\": 10, \"32\": 1, \"20\": 1}, \"20\": {\"20\": 8, \"53\": 2, \"32\": 1, \"54\": 1}, \"32\": {\"32\": 12}, \"36\": {\"36\": 9, \"54\": 1}, \"33\": {\"33\": 11, \"18\": 1}, \"56\": {\"56\": 7, \"23\": 1, \"10\": 4}, \"23\": {\"23\": 8, \"34\": 1, \"16\": 1, \"1\": 1, \"47\": 1}, \"54\": {\"54\": 9, \"32\": 1}, \"34\": {\"57\": 1, \"5\": 1, \"34\": 6, \"1\": 1, \"39\": 2, \"47\": 1}, \"13\": {\"13\": 12}, \"2\": {\"2\": 12}, \"55\": {\"57\": 1, \"55\": 7, \"28\": 1, \"0\": 1}, \"21\": {\"21\": 9, \"20\": 1}, \"49\": {\"49\": 10}, \"25\": {\"25\": 8, \"20\": 1, \"30\": 2, \"48\": 1}, \"5\": {\"55\": 1, \"57\": 1, \"5\": 8, \"47\": 1, \"42\": 1}, \"50\": {\"46\": 1, \"50\": 6, \"36\": 1}, \"40\": {\"40\": 11, \"18\": 1}, \"57\": {\"57\": 7, \"1\": 1}, \"22\": {\"22\": 8, \"35\": 1, \"7\": 1}, \"1\": {\"1\": 6, \"5\": 1, \"23\": 1, \"57\": 1, \"39\": 1}, \"17\": {\"17\": 11, \"8\": 1}, \"41\": {\"41\": 8, \"18\": 1, \"48\": 2, \"52\": 1}, \"4\": {\"54\": 1, \"17\": 1, \"4\": 5, \"8\": 1, \"32\": 1, \"51\": 1}, \"7\": {\"7\": 8, \"47\": 1, \"15\": 1}, \"26\": {\"26\": 10}, \"29\": {\"29\": 12}, \"52\": {\"40\": 1, \"52\": 8, \"48\": 1, \"41\": 2}, \"15\": {\"15\": 11, \"47\": 1}, \"35\": {\"35\": 12}, \"42\": {\"15\": 3, \"42\": 6, \"29\": 2, \"1\": 1}, \"30\": {\"30\": 7, \"33\": 1, \"27\": 1, \"25\": 1}, \"27\": {\"27\": 7, \"30\": 1}, \"45\": {\"45\": 9, \"38\": 1}, \"0\": {\"0\": 11, \"11\": 1}, \"28\": {\"28\": 11, \"31\": 1}, \"47\": {\"47\": 6, \"5\": 3, \"0\": 1, \"34\": 1, \"16\": 1}, \"11\": {\"5\": 1, \"11\": 8, \"55\": 1}, \"39\": {\"39\": 10}, \"48\": {\"48\": 8, \"41\": 2, \"18\": 1, \"33\": 1}, \"12\": {\"12\": 8}}, \"C_A_4\": {\"35\": {\"35\": 10}, \"25\": {\"48\": 1, \"25\": 10, \"54\": 1}, \"24\": {\"24\": 5, \"38\": 1, \"43\": 4}, \"48\": {\"25\": 1, \"48\": 9, \"9\": 1, \"20\": 1}, \"51\": {\"51\": 9, \"8\": 2, \"27\": 1}, \"13\": {\"13\": 12}, \"14\": {\"14\": 6, \"56\": 2}, \"32\": {\"32\": 8, \"46\": 2, \"41\": 2}, \"30\": {\"30\": 10, \"21\": 1, \"8\": 1}, \"34\": {\"34\": 10}, \"9\": {\"9\": 9, \"8\": 2, \"48\": 1}, \"1\": {\"1\": 7, \"57\": 2, \"15\": 1, \"16\": 1, \"7\": 1}, \"0\": {\"14\": 2, \"0\": 8, \"43\": 2}, \"38\": {\"38\": 10, \"22\": 1, \"37\": 1}, \"22\": {\"38\": 1, \"14\": 1, \"11\": 1, \"22\": 2, \"49\": 1, \"41\": 2}, \"40\": {\"40\": 10, \"33\": 1, \"36\": 1}, \"39\": {\"5\": 1, \"39\": 11}, \"46\": {\"46\": 9, \"5\": 1, \"11\": 1, \"1\": 1}, \"36\": {\"6\": 1, \"36\": 11}, \"50\": {\"50\": 9, \"6\": 1, \"3\": 1, \"21\": 1}, \"49\": {\"49\": 12}, \"17\": {\"17\": 11, \"27\": 1}, \"45\": {\"45\": 12}, \"6\": {\"36\": 1, \"6\": 3, \"26\": 1, \"51\": 1, \"20\": 1, \"48\": 1, \"53\": 2, \"4\": 1, \"34\": 1}, \"8\": {\"8\": 12}, \"5\": {\"39\": 3, \"42\": 2, \"5\": 4, \"57\": 1}, \"33\": {\"33\": 11, \"34\": 1}, \"31\": {\"31\": 12}, \"37\": {\"37\": 10}, \"47\": {\"31\": 1, \"47\": 7}, \"15\": {\"15\": 8, \"16\": 1, \"55\": 1}, \"7\": {\"7\": 12}, \"20\": {\"20\": 10, \"48\": 1, \"50\": 1}, \"4\": {\"25\": 2, \"4\": 5, \"48\": 2, \"36\": 1, \"9\": 1, \"6\": 1}, \"54\": {\"54\": 12}, \"44\": {\"54\": 1, \"34\": 2, \"26\": 2, \"44\": 3, \"18\": 2, \"28\": 2}, \"3\": {\"54\": 1, \"3\": 8, \"26\": 1, \"18\": 1, \"53\": 1}, \"11\": {\"46\": 1, \"11\": 3, \"41\": 1, \"1\": 2, \"15\": 1, \"7\": 1, \"32\": 1}, \"27\": {\"27\": 10}, \"19\": {\"44\": 1, \"19\": 11}, \"55\": {\"55\": 7, \"33\": 1, \"52\": 1, \"42\": 1, \"43\": 1, \"5\": 1}, \"16\": {\"16\": 10, \"15\": 1, \"46\": 1}, \"2\": {\"2\": 10}, \"52\": {\"42\": 1, \"52\": 2, \"23\": 2, \"5\": 3, \"41\": 1, \"11\": 1}, \"42\": {\"42\": 8, \"33\": 1, \"34\": 1}, \"26\": {\"26\": 11, \"36\": 1}, \"10\": {\"7\": 1, \"10\": 6, \"43\": 3, \"56\": 1, \"0\": 1}, \"53\": {\"53\": 8, \"6\": 2}, \"28\": {\"28\": 10, \"54\": 1, \"19\": 1}, \"21\": {\"21\": 10}, \"57\": {\"46\": 1, \"57\": 8, \"16\": 1}, \"23\": {\"52\": 1, \"40\": 1, \"31\": 1, \"23\": 3, \"33\": 2}, \"43\": {\"10\": 3, \"43\": 7}, \"12\": {\"12\": 11, \"27\": 1}, \"41\": {\"41\": 11, \"5\": 1}, \"56\": {\"10\": 1, \"56\": 5, \"29\": 1, \"57\": 1}, \"18\": {\"18\": 8, \"28\": 1, \"23\": 1}, \"29\": {\"31\": 1, \"29\": 4, \"47\": 2, \"57\": 1}}, \"W_A_1\": {\"108\": {\"9\": 2, \"55\": 2, \"44\": 1, \"35\": 3, \"54\": 2}, \"40\": {\"40\": 6, \"5\": 3, \"55\": 1, \"105\": 2}, \"68\": {\"68\": 5, \"17\": 1, \"34\": 1, \"0\": 2, \"75\": 1, \"101\": 1, \"91\": 1}, \"23\": {\"4\": 1, \"23\": 1, \"65\": 1, \"84\": 1, \"5\": 1, \"33\": 1, \"55\": 1, \"69\": 1, \"11\": 2, \"120\": 2}, \"26\": {\"57\": 1, \"26\": 11}, \"64\": {\"64\": 11, \"81\": 1}, \"22\": {\"22\": 7, \"129\": 1, \"19\": 1, \"61\": 1, \"42\": 1, \"79\": 1}, \"3\": {\"102\": 2, \"3\": 8, \"2\": 2}, \"4\": {\"40\": 1, \"9\": 1, \"14\": 2, \"4\": 4, \"31\": 1, \"35\": 2, \"113\": 1}, \"70\": {\"64\": 1, \"9\": 1, \"93\": 2, \"70\": 1, \"41\": 2, \"80\": 2, \"5\": 1, \"129\": 1, \"29\": 1}, \"57\": {\"57\": 11, \"28\": 1}, \"79\": {\"79\": 8, \"128\": 1, \"114\": 2, \"54\": 1}, \"9\": {\"9\": 4, \"89\": 1, \"17\": 2, \"8\": 1, \"72\": 1, \"128\": 1, \"31\": 1, \"122\": 1}, \"89\": {\"9\": 1, \"4\": 1, \"7\": 1, \"111\": 1, \"89\": 5, \"93\": 1, \"107\": 1, \"38\": 1}, \"110\": {\"89\": 2, \"124\": 2, \"110\": 5, \"77\": 1, \"34\": 1, \"97\": 1}, \"102\": {\"102\": 11, \"69\": 1}, \"31\": {\"31\": 11, \"83\": 1}, \"58\": {\"58\": 12}, \"47\": {\"17\": 1, \"47\": 10, \"35\": 1}, \"24\": {\"19\": 1, \"47\": 1, \"17\": 2, \"24\": 2, \"120\": 1, \"89\": 1, \"103\": 2, \"14\": 1, \"31\": 1}, \"19\": {\"57\": 1, \"19\": 10, \"126\": 1}, \"11\": {\"11\": 8, \"48\": 1, \"90\": 1, \"116\": 1, \"50\": 1}, \"52\": {\"52\": 10, \"58\": 1, \"27\": 1}, \"17\": {\"17\": 11, \"47\": 1}, \"25\": {\"25\": 7, \"11\": 1, \"42\": 2, \"76\": 1, \"33\": 1}, \"69\": {\"69\": 10, \"102\": 2}, \"96\": {\"96\": 10, \"115\": 1, \"120\": 1}, \"109\": {\"115\": 1, \"11\": 1, \"67\": 1, \"109\": 5, \"76\": 1, \"66\": 1, \"82\": 1, \"99\": 1}, \"115\": {\"115\": 8, \"122\": 1, \"14\": 1, \"96\": 1, \"114\": 1}, \"83\": {\"83\": 4, \"42\": 2, \"4\": 3, \"56\": 1, \"86\": 1, \"122\": 1}, \"84\": {\"84\": 6, \"1\": 2, \"28\": 1, \"19\": 2, \"74\": 1}, \"119\": {\"119\": 6, \"118\": 2, \"66\": 1, \"2\": 1}, \"122\": {\"122\": 5, \"84\": 1, \"126\": 1, \"57\": 1, \"115\": 1, \"104\": 1}, \"99\": {\"99\": 7, \"66\": 1, \"11\": 1, \"90\": 1, \"65\": 2}, \"1\": {\"84\": 1, \"1\": 10, \"7\": 1}, \"74\": {\"84\": 3, \"74\": 8, \"8\": 1}, \"85\": {\"85\": 6, \"127\": 1, \"73\": 1, \"30\": 1, \"49\": 1, \"97\": 2}, \"127\": {\"23\": 1, \"84\": 1, \"103\": 2, \"127\": 2, \"105\": 1, \"40\": 1, \"110\": 1, \"89\": 1, \"49\": 1, \"120\": 1}, \"111\": {\"127\": 1, \"111\": 11}, \"53\": {\"53\": 11, \"89\": 1}, \"88\": {\"84\": 2, \"94\": 1, \"36\": 1, \"88\": 3, \"3\": 1, \"98\": 1, \"35\": 1, \"89\": 1, \"92\": 1}, \"65\": {\"119\": 2, \"78\": 2, \"129\": 1, \"118\": 1, \"13\": 1, \"95\": 1, \"65\": 1, \"99\": 1}, \"7\": {\"7\": 7, \"74\": 2, \"1\": 2, \"80\": 1}, \"16\": {\"16\": 8, \"95\": 1, \"39\": 1, \"18\": 2}, \"128\": {\"17\": 1, \"104\": 1, \"80\": 1, \"105\": 1, \"48\": 1, \"79\": 1, \"42\": 1, \"1\": 1, \"128\": 2, \"61\": 1, \"43\": 1}, \"34\": {\"68\": 1, \"43\": 1, \"75\": 1, \"98\": 1, \"122\": 1, \"93\": 1, \"74\": 1, \"0\": 1, \"34\": 1, \"79\": 1, \"127\": 1, \"84\": 1}, \"129\": {\"118\": 1, \"43\": 1, \"66\": 2, \"114\": 2, \"61\": 2, \"54\": 1, \"19\": 1, \"129\": 1, \"117\": 1}, \"43\": {\"114\": 2, \"14\": 2, \"74\": 2, \"57\": 1, \"79\": 1, \"43\": 3, \"28\": 1}, \"92\": {\"92\": 12}, \"28\": {\"28\": 12}, \"27\": {\"27\": 3, \"92\": 1, \"83\": 1, \"32\": 2, \"30\": 3, \"71\": 1, \"52\": 1}, \"114\": {\"114\": 9, \"129\": 1, \"74\": 1, \"79\": 1}, \"73\": {\"114\": 1, \"129\": 1, \"19\": 2, \"40\": 1, \"73\": 4, \"57\": 2, \"43\": 1}, \"0\": {\"34\": 2, \"41\": 1, \"0\": 7, \"107\": 1, \"68\": 1}, \"104\": {\"104\": 8, \"73\": 1, \"1\": 1, \"14\": 1, \"122\": 1}, \"118\": {\"118\": 8, \"2\": 2, \"69\": 1, \"39\": 1}, \"41\": {\"41\": 10, \"86\": 1, \"43\": 1}, \"49\": {\"5\": 1, \"46\": 1, \"49\": 3, \"80\": 1, \"105\": 1, \"73\": 1, \"8\": 1, \"127\": 1, \"32\": 1, \"54\": 1}, \"14\": {\"104\": 1, \"14\": 5, \"43\": 1, \"79\": 1, \"129\": 2, \"122\": 2}, \"46\": {\"66\": 1, \"40\": 1, \"73\": 1, \"97\": 2, \"46\": 2, \"51\": 1, \"105\": 2, \"41\": 1, \"104\": 1}, \"33\": {\"33\": 12}, \"76\": {\"76\": 8, \"100\": 1, \"64\": 1, \"33\": 1, \"82\": 1}, \"125\": {\"125\": 7, \"12\": 2, \"21\": 1, \"0\": 1, \"85\": 1}, \"86\": {\"5\": 1, \"86\": 5, \"41\": 2, \"122\": 2}, \"66\": {\"66\": 6, \"11\": 2, \"61\": 2, \"33\": 1, \"15\": 1}, \"5\": {\"5\": 8, \"40\": 2, \"105\": 1, \"19\": 1}, \"117\": {\"117\": 12}, \"75\": {\"75\": 11, \"91\": 1}, \"61\": {\"61\": 11, \"109\": 1}, \"50\": {\"50\": 8, \"76\": 1, \"20\": 1, \"100\": 1, \"65\": 1}, \"67\": {\"61\": 1, \"67\": 7, \"82\": 1, \"62\": 1}, \"18\": {\"18\": 11, \"13\": 1}, \"98\": {\"98\": 8, \"47\": 2, \"35\": 2}, \"55\": {\"55\": 6, \"40\": 1, \"107\": 1, \"5\": 1, \"41\": 1}, \"32\": {\"32\": 9, \"97\": 1, \"70\": 1, \"68\": 1}, \"120\": {\"120\": 8, \"82\": 2, \"96\": 1, \"84\": 1}, \"97\": {\"97\": 9, \"49\": 1, \"12\": 1, \"85\": 1}, \"126\": {\"104\": 2, \"126\": 4, \"122\": 1, \"60\": 1, \"84\": 2, \"19\": 1, \"78\": 1}, \"45\": {\"76\": 2, \"45\": 6, \"115\": 1, \"20\": 1, \"22\": 2}, \"78\": {\"93\": 2, \"43\": 3, \"80\": 1, \"113\": 1, \"79\": 2, \"78\": 1}, \"100\": {\"100\": 8, \"66\": 1, \"128\": 1, \"23\": 2}, \"107\": {\"77\": 1, \"107\": 10, \"128\": 1}, \"93\": {\"77\": 2, \"54\": 1, \"107\": 1, \"48\": 1, \"93\": 3, \"105\": 2, \"55\": 2}, \"77\": {\"77\": 9, \"47\": 1, \"34\": 1, \"128\": 1}, \"63\": {\"63\": 11, \"117\": 1}, \"112\": {\"112\": 11, \"97\": 1}, \"113\": {\"113\": 12}, \"103\": {\"103\": 6, \"120\": 1, \"47\": 2, \"98\": 1}, \"71\": {\"37\": 5, \"85\": 1, \"71\": 6}, \"30\": {\"85\": 1, \"15\": 1, \"30\": 2, \"59\": 2, \"44\": 1, \"127\": 1, \"36\": 1, \"106\": 1, \"86\": 2}, \"90\": {\"90\": 7, \"102\": 1, \"99\": 2, \"66\": 2}, \"37\": {\"15\": 1, \"37\": 8, \"111\": 2, \"6\": 1}, \"60\": {\"118\": 1, \"114\": 1, \"119\": 1, \"63\": 1, \"60\": 1, \"126\": 1, \"41\": 1, \"117\": 1, \"74\": 1, \"50\": 1, \"104\": 2}, \"15\": {\"15\": 2, \"85\": 1, \"94\": 1, \"6\": 1, \"111\": 1, \"112\": 1, \"37\": 2, \"52\": 1, \"105\": 1, \"56\": 1}, \"39\": {\"63\": 1, \"118\": 3, \"39\": 7, \"95\": 1}, \"72\": {\"72\": 9, \"35\": 1, \"9\": 2}, \"54\": {\"72\": 1, \"54\": 8, \"107\": 1, \"47\": 2}, \"35\": {\"54\": 1, \"72\": 3, \"35\": 6, \"48\": 1, \"17\": 1}, \"2\": {\"96\": 1, \"63\": 1, \"121\": 2, \"2\": 5, \"123\": 1, \"26\": 2}, \"94\": {\"6\": 1, \"0\": 1, \"37\": 1, \"71\": 1, \"56\": 2, \"94\": 2, \"92\": 2, \"13\": 1, \"30\": 1}, \"42\": {\"25\": 1, \"8\": 2, \"35\": 1, \"100\": 1, \"42\": 2, \"39\": 1, \"69\": 2, \"55\": 1, \"66\": 1}, \"81\": {\"81\": 12}, \"8\": {\"87\": 1, \"8\": 8, \"29\": 1, \"128\": 1, \"5\": 1}, \"87\": {\"87\": 7, \"80\": 1, \"8\": 2, \"14\": 1, \"129\": 1}, \"6\": {\"94\": 2, \"53\": 2, \"6\": 3, \"20\": 1, \"75\": 1, \"98\": 1, \"37\": 2}, \"36\": {\"6\": 2, \"36\": 6, \"37\": 1, \"60\": 1, \"59\": 2}, \"91\": {\"91\": 6, \"106\": 2, \"17\": 1, \"35\": 2, \"128\": 1}, \"56\": {\"6\": 2, \"56\": 8, \"58\": 1, \"10\": 1}, \"80\": {\"1\": 2, \"80\": 6, \"79\": 2, \"112\": 1, \"41\": 1}, \"124\": {\"124\": 5, \"44\": 1, \"105\": 1, \"5\": 1, \"122\": 2}, \"44\": {\"44\": 9, \"124\": 1, \"48\": 2}, \"13\": {\"13\": 7, \"26\": 2, \"78\": 1, \"95\": 2}, \"10\": {\"10\": 4, \"29\": 2, \"121\": 1, \"5\": 1, \"1\": 1, \"127\": 1, \"95\": 1, \"58\": 1}, \"59\": {\"59\": 10, \"123\": 2}, \"95\": {\"95\": 11, \"26\": 1}, \"105\": {\"105\": 3, \"126\": 2, \"5\": 2, \"66\": 1, \"40\": 1, \"35\": 1, \"9\": 1, \"54\": 1}, \"101\": {\"5\": 2, \"106\": 3, \"101\": 3, \"110\": 2, \"77\": 2}, \"20\": {\"20\": 10, \"64\": 1, \"25\": 1}, \"48\": {\"28\": 1, \"84\": 1, \"79\": 2, \"44\": 3, \"48\": 2, \"46\": 2, \"123\": 1}, \"106\": {\"106\": 10, \"98\": 1, \"17\": 1}, \"51\": {\"51\": 12}, \"21\": {\"84\": 1, \"28\": 1, \"117\": 1, \"8\": 1, \"51\": 1, \"69\": 1, \"58\": 1, \"21\": 1, \"100\": 2, \"74\": 1, \"121\": 1}, \"123\": {\"123\": 12}, \"121\": {\"121\": 12}, \"38\": {\"124\": 1, \"38\": 9, \"8\": 2}, \"62\": {\"62\": 10, \"82\": 1, \"67\": 1}, \"29\": {\"29\": 12}, \"82\": {\"8\": 1, \"82\": 11}, \"116\": {\"116\": 10, \"2\": 1, \"20\": 1}, \"12\": {\"125\": 3, \"97\": 2, \"12\": 2, \"111\": 1}}, \"C_A_5\": {\"47\": {\"47\": 4, \"52\": 4, \"34\": 1, \"16\": 1}, \"53\": {\"53\": 11, \"9\": 1}, \"29\": {\"29\": 11, \"46\": 1}, \"52\": {\"52\": 7, \"16\": 1, \"47\": 1, \"34\": 1, \"39\": 1, \"57\": 1}, \"55\": {\"55\": 11, \"53\": 1}, \"17\": {\"17\": 10, \"30\": 2}, \"42\": {\"42\": 12}, \"33\": {\"33\": 9, \"42\": 1}, \"11\": {\"11\": 7, \"16\": 1, \"46\": 3, \"36\": 1}, \"19\": {\"19\": 7, \"41\": 1}, \"1\": {\"1\": 7, \"4\": 1, \"53\": 1, \"8\": 2, \"32\": 1}, \"44\": {\"44\": 6, \"47\": 1, \"3\": 3, \"49\": 2}, \"49\": {\"49\": 12}, \"4\": {\"4\": 7, \"9\": 1, \"6\": 2, \"27\": 1, \"1\": 1}, \"6\": {\"6\": 8, \"30\": 2, \"4\": 1, \"20\": 1}, \"39\": {\"39\": 12}, \"13\": {\"35\": 2, \"13\": 8, \"31\": 1, \"56\": 1}, \"5\": {\"5\": 8, \"42\": 2}, \"16\": {\"52\": 1, \"16\": 4, \"34\": 1, \"15\": 1, \"46\": 2, \"47\": 1}, \"25\": {\"25\": 7, \"18\": 2, \"50\": 2, \"41\": 1}, \"45\": {\"7\": 1, \"53\": 2, \"30\": 2, \"45\": 7}, \"7\": {\"7\": 10}, \"22\": {\"22\": 11, \"15\": 1}, \"40\": {\"40\": 9, \"14\": 1, \"44\": 1, \"29\": 1}, \"38\": {\"38\": 12}, \"35\": {\"35\": 6, \"22\": 1, \"24\": 1}, \"56\": {\"56\": 12}, \"50\": {\"50\": 6, \"21\": 2, \"25\": 2}, \"0\": {\"0\": 12}, \"10\": {\"0\": 3, \"31\": 2, \"10\": 3, \"43\": 1, \"13\": 1, \"40\": 2}, \"27\": {\"27\": 10, \"8\": 2}, \"20\": {\"20\": 9, \"9\": 1}, \"36\": {\"36\": 4, \"3\": 1, \"14\": 2, \"16\": 1}, \"34\": {\"34\": 11, \"57\": 1}, \"30\": {\"30\": 12}, \"2\": {\"2\": 7, \"29\": 2, \"16\": 1}, \"15\": {\"2\": 1, \"15\": 11}, \"18\": {\"18\": 12}, \"32\": {\"32\": 12}, \"31\": {\"31\": 12}, \"57\": {\"57\": 12}, \"48\": {\"45\": 2, \"48\": 6}, \"28\": {\"28\": 10}, \"14\": {\"40\": 1, \"14\": 3, \"49\": 1, \"3\": 1, \"46\": 3, \"44\": 1, \"39\": 1, \"57\": 1}, \"3\": {\"16\": 2, \"3\": 8, \"34\": 1, \"40\": 1}, \"8\": {\"8\": 8, \"20\": 2, \"1\": 2}, \"9\": {\"9\": 8, \"48\": 1, \"27\": 1, \"8\": 1, \"53\": 1}, \"21\": {\"21\": 10}, \"41\": {\"41\": 12}, \"24\": {\"24\": 7, \"43\": 2, \"31\": 2, \"37\": 1}, \"46\": {\"46\": 5, \"11\": 1, \"52\": 1, \"14\": 3}, \"43\": {\"43\": 8, \"22\": 1, \"31\": 1}, \"54\": {\"54\": 9, \"23\": 1}, \"23\": {\"23\": 8, \"41\": 1, \"39\": 1}, \"37\": {\"37\": 10}, \"12\": {\"12\": 10}, \"26\": {\"26\": 10}, \"51\": {\"51\": 5, \"48\": 1}}, \"C_A_1\": {\"46\": {\"46\": 5, \"4\": 3, \"6\": 4}, \"16\": {\"16\": 10, \"37\": 1, \"19\": 1}, \"26\": {\"26\": 12}, \"10\": {\"10\": 7, \"28\": 1, \"0\": 2, \"21\": 1, \"38\": 1}, \"9\": {\"9\": 9, \"53\": 1}, \"28\": {\"28\": 10, \"52\": 1, \"21\": 1}, \"51\": {\"51\": 11, \"14\": 1}, \"1\": {\"1\": 7, \"42\": 1, \"26\": 2, \"45\": 2}, \"55\": {\"55\": 10, \"16\": 1, \"3\": 1}, \"27\": {\"27\": 8, \"43\": 2}, \"22\": {\"22\": 4, \"52\": 3, \"38\": 2, \"3\": 1, \"21\": 1, \"49\": 1}, \"52\": {\"47\": 1, \"10\": 1, \"52\": 6, \"23\": 1, \"49\": 1, \"28\": 2}, \"3\": {\"3\": 11, \"29\": 1}, \"33\": {\"33\": 8}, \"47\": {\"47\": 9, \"35\": 2, \"44\": 1}, \"42\": {\"1\": 1, \"42\": 11}, \"12\": {\"12\": 4}, \"23\": {\"11\": 2, \"47\": 1, \"23\": 8, \"15\": 1}, \"49\": {\"49\": 8, \"31\": 1, \"10\": 1}, \"7\": {\"7\": 12}, \"4\": {\"4\": 11, \"2\": 1}, \"50\": {\"50\": 12}, \"19\": {\"56\": 1, \"19\": 7, \"57\": 1, \"26\": 2, \"1\": 1}, \"11\": {\"23\": 1, \"11\": 7, \"38\": 2, \"15\": 1, \"47\": 1}, \"31\": {\"31\": 10}, \"41\": {\"41\": 12}, \"56\": {\"56\": 6, \"37\": 1, \"42\": 1, \"29\": 1, \"45\": 1}, \"0\": {\"52\": 1, \"0\": 8, \"31\": 1, \"28\": 2}, \"57\": {\"42\": 1, \"37\": 2, \"57\": 7, \"1\": 2}, \"53\": {\"9\": 3, \"53\": 8, \"41\": 1}, \"43\": {\"43\": 12}, \"37\": {\"37\": 12}, \"2\": {\"2\": 8}, \"6\": {\"6\": 8, \"2\": 1, \"5\": 1, \"48\": 2}, \"18\": {\"18\": 9, \"20\": 1, \"40\": 1, \"25\": 1}, \"38\": {\"38\": 12}, \"15\": {\"15\": 6, \"11\": 3, \"36\": 1, \"32\": 1, \"0\": 1}, \"36\": {\"36\": 10, \"15\": 2}, \"39\": {\"39\": 4, \"28\": 3, \"49\": 1}, \"44\": {\"44\": 9, \"35\": 2, \"34\": 1}, \"8\": {\"8\": 11, \"41\": 1}, \"17\": {\"17\": 10}, \"5\": {\"5\": 11, \"41\": 1}, \"13\": {\"13\": 10}, \"40\": {\"7\": 1, \"40\": 7, \"18\": 1, \"14\": 1}, \"29\": {\"57\": 1, \"29\": 9, \"19\": 2}, \"48\": {\"48\": 12}, \"32\": {\"32\": 9, \"15\": 1, \"44\": 1, \"36\": 1}, \"30\": {\"30\": 11, \"51\": 1}, \"35\": {\"35\": 12}, \"25\": {\"25\": 12}, \"14\": {\"14\": 5, \"53\": 1, \"51\": 1, \"41\": 4, \"30\": 1}, \"54\": {\"54\": 10}, \"20\": {\"20\": 8}, \"21\": {\"21\": 9, \"0\": 1}, \"45\": {\"45\": 6, \"13\": 1, \"42\": 1}, \"24\": {\"24\": 3, \"21\": 1, \"49\": 2, \"22\": 2}, \"34\": {\"34\": 7, \"36\": 1}}, \"W_A_2\": {\"91\": {\"86\": 2, \"37\": 1, \"91\": 7, \"127\": 1, \"128\": 1}, \"12\": {\"86\": 2, \"12\": 1, \"29\": 3, \"38\": 1, \"99\": 1, \"54\": 1, \"41\": 1, \"104\": 1, \"49\": 1}, \"101\": {\"101\": 9, \"37\": 1}, \"121\": {\"117\": 4, \"120\": 1, \"121\": 5, \"99\": 1, \"113\": 1}, \"118\": {\"88\": 1, \"118\": 4, \"87\": 1, \"83\": 1, \"84\": 1, \"46\": 4}, \"10\": {\"110\": 2, \"112\": 2, \"105\": 1, \"10\": 3, \"129\": 1, \"19\": 2, \"23\": 1}, \"117\": {\"117\": 11, \"121\": 1}, \"110\": {\"110\": 7, \"97\": 1, \"85\": 2, \"22\": 1, \"37\": 1}, \"97\": {\"101\": 1, \"88\": 1, \"125\": 3, \"97\": 5, \"30\": 1, \"63\": 1}, \"28\": {\"121\": 1, \"28\": 6, \"42\": 1, \"110\": 1, \"22\": 1, \"23\": 1, \"25\": 1}, \"88\": {\"121\": 1, \"88\": 1, \"18\": 2, \"109\": 1, \"87\": 1, \"119\": 1, \"89\": 1, \"20\": 1, \"61\": 1, \"46\": 1, \"118\": 1}, \"17\": {\"86\": 2, \"112\": 1, \"54\": 1, \"129\": 1, \"17\": 4, \"29\": 1, \"74\": 2}, \"126\": {\"33\": 1, \"126\": 4, \"67\": 1, \"48\": 1, \"46\": 3, \"43\": 1, \"112\": 1}, \"33\": {\"33\": 12}, \"86\": {\"86\": 8, \"34\": 1, \"124\": 1, \"104\": 1, \"114\": 1}, \"106\": {\"97\": 2, \"125\": 2, \"25\": 1, \"106\": 2, \"30\": 2, \"75\": 1, \"35\": 1, \"58\": 1}, \"54\": {\"54\": 8, \"98\": 1, \"112\": 1, \"52\": 2}, \"125\": {\"125\": 10, \"101\": 2}, \"83\": {\"83\": 8, \"87\": 1, \"45\": 1, \"96\": 1, \"48\": 1}, \"98\": {\"98\": 6, \"54\": 2, \"37\": 2, \"29\": 1, \"10\": 1}, \"11\": {\"32\": 2, \"11\": 3, \"124\": 1, \"5\": 1, \"112\": 1, \"114\": 1, \"49\": 1, \"117\": 1, \"4\": 1}, \"32\": {\"11\": 1, \"32\": 5, \"95\": 1, \"66\": 1, \"19\": 1, \"50\": 1, \"3\": 1, \"123\": 1}, \"42\": {\"11\": 1, \"54\": 1, \"5\": 2, \"44\": 2, \"42\": 1, \"19\": 1, \"50\": 1, \"38\": 1, \"53\": 1, \"62\": 1}, \"103\": {\"103\": 5, \"42\": 2, \"35\": 1, \"14\": 1, \"52\": 1, \"112\": 1, \"111\": 1}, \"87\": {\"83\": 2, \"87\": 7, \"48\": 1, \"13\": 1, \"118\": 1}, \"61\": {\"118\": 1, \"11\": 1, \"61\": 6, \"129\": 1, \"17\": 1, \"22\": 2}, \"13\": {\"13\": 9, \"16\": 1, \"72\": 2}, \"4\": {\"4\": 4, \"1\": 1, \"85\": 2, \"56\": 1, \"28\": 1, \"32\": 1, \"7\": 1, \"0\": 1}, \"15\": {\"15\": 5, \"36\": 2, \"75\": 1, \"58\": 1, \"27\": 1}, \"120\": {\"120\": 12}, \"80\": {\"80\": 12}, \"72\": {\"81\": 1, \"102\": 1, \"72\": 7, \"92\": 1}, \"64\": {\"64\": 10, \"47\": 1, \"76\": 1}, \"81\": {\"81\": 11, \"2\": 1}, \"102\": {\"102\": 12}, \"76\": {\"64\": 2, \"76\": 8, \"66\": 1, \"50\": 1}, \"49\": {\"53\": 3, \"107\": 1, \"66\": 1, \"8\": 1, \"49\": 1, \"104\": 1, \"95\": 1, \"21\": 1}, \"129\": {\"110\": 4, \"50\": 1, \"107\": 1, \"129\": 1, \"1\": 1, \"112\": 2, \"61\": 2}, \"89\": {\"89\": 9, \"31\": 2, \"82\": 1}, \"52\": {\"52\": 10, \"79\": 1, \"129\": 1}, \"35\": {\"35\": 11, \"79\": 1}, \"53\": {\"53\": 3, \"110\": 2, \"40\": 1, \"2\": 1, \"61\": 2, \"105\": 1, \"108\": 1, \"58\": 1}, \"112\": {\"105\": 2, \"112\": 4, \"32\": 2, \"3\": 2, \"107\": 2}, \"105\": {\"112\": 2, \"105\": 4, \"19\": 1, \"122\": 1, \"115\": 3, \"40\": 1}, \"100\": {\"100\": 9, \"92\": 1, \"119\": 1, \"63\": 1}, \"9\": {\"9\": 11, \"58\": 1}, \"82\": {\"82\": 11, \"126\": 1}, \"51\": {\"51\": 5, \"125\": 4, \"30\": 1, \"94\": 1, \"129\": 1}, \"21\": {\"17\": 1, \"21\": 9, \"118\": 1, \"113\": 1}, \"92\": {\"82\": 2, \"45\": 1, \"118\": 1, \"66\": 1, \"92\": 4, \"117\": 1, \"33\": 2}, \"69\": {\"69\": 10, \"109\": 1, \"102\": 1}, \"77\": {\"77\": 11, \"104\": 1}, \"50\": {\"50\": 8, \"16\": 1, \"61\": 1, \"112\": 2}, \"36\": {\"35\": 2, \"36\": 4, \"56\": 1, \"0\": 1, \"9\": 3, \"101\": 1}, \"16\": {\"16\": 8, \"88\": 1, \"20\": 1, \"69\": 1, \"120\": 1}, \"8\": {\"18\": 1, \"8\": 7, \"86\": 1, \"120\": 1, \"129\": 1, \"41\": 1}, \"127\": {\"127\": 10, \"91\": 2}, \"46\": {\"50\": 1, \"46\": 7, \"67\": 1, \"80\": 1}, \"84\": {\"46\": 2, \"84\": 5, \"44\": 1, \"83\": 1, \"80\": 1, \"31\": 1, \"92\": 1}, \"18\": {\"18\": 11, \"2\": 1}, \"123\": {\"50\": 2, \"62\": 1, \"123\": 5, \"43\": 1, \"46\": 1}, \"56\": {\"71\": 1, \"66\": 1, \"28\": 1, \"56\": 3, \"115\": 2, \"3\": 1, \"122\": 2, \"121\": 1}, \"26\": {\"26\": 12}, \"14\": {\"65\": 1, \"14\": 3, \"3\": 1, \"107\": 1, \"50\": 3, \"123\": 1, \"43\": 1, \"117\": 1}, \"109\": {\"88\": 1, \"87\": 1, \"81\": 1, \"67\": 1, \"69\": 1, \"90\": 1, \"109\": 4, \"100\": 1, \"63\": 1}, \"66\": {\"66\": 9, \"14\": 1, \"86\": 1, \"110\": 1}, \"24\": {\"111\": 1, \"71\": 1, \"24\": 1, \"10\": 1, \"5\": 1, \"20\": 1, \"6\": 1, \"122\": 1, \"124\": 1, \"95\": 1, \"11\": 1, \"4\": 1}, \"71\": {\"65\": 1, \"71\": 3, \"112\": 2, \"37\": 1, \"11\": 1, \"105\": 2, \"5\": 2}, \"65\": {\"65\": 10, \"75\": 1, \"51\": 1}, \"75\": {\"75\": 8, \"25\": 1, \"36\": 2, \"21\": 1}, \"111\": {\"111\": 5, \"66\": 1, \"91\": 1, \"114\": 1, \"127\": 1, \"108\": 1, \"52\": 2}, \"30\": {\"30\": 3, \"51\": 2, \"5\": 1, \"77\": 2, \"106\": 1, \"94\": 1, \"18\": 1, \"105\": 1}, \"85\": {\"10\": 1, \"110\": 1, \"85\": 5, \"115\": 2, \"19\": 1, \"112\": 1, \"107\": 1}, \"113\": {\"113\": 7, \"118\": 2, \"21\": 1}, \"45\": {\"45\": 7, \"1\": 1, \"60\": 1, \"80\": 1, \"92\": 2}, \"29\": {\"29\": 7, \"104\": 4, \"20\": 1}, \"20\": {\"18\": 2, \"90\": 1, \"20\": 8, \"67\": 1}, \"25\": {\"25\": 7, \"28\": 2, \"6\": 1, \"75\": 2}, \"0\": {\"68\": 1, \"1\": 1, \"111\": 1, \"37\": 1, \"0\": 5, \"91\": 1, \"54\": 1, \"98\": 1}, \"68\": {\"38\": 1, \"68\": 6, \"22\": 1, \"107\": 1, \"128\": 1, \"54\": 2}, \"119\": {\"119\": 11, \"78\": 1}, \"90\": {\"90\": 9, \"96\": 2, \"119\": 1}, \"38\": {\"38\": 10, \"1\": 1, \"55\": 1}, \"99\": {\"99\": 11, \"121\": 1}, \"1\": {\"1\": 9, \"55\": 2, \"80\": 1}, \"67\": {\"126\": 2, \"67\": 7, \"109\": 1, \"55\": 1, \"75\": 1}, \"63\": {\"63\": 9, \"42\": 2, \"119\": 1}, \"34\": {\"34\": 4, \"5\": 1, \"86\": 1, \"122\": 1, \"124\": 2, \"127\": 1, \"112\": 1, \"52\": 1}, \"108\": {\"56\": 2, \"108\": 3, \"105\": 1, \"115\": 2, \"49\": 1, \"11\": 1, \"19\": 1, \"70\": 1}, \"40\": {\"40\": 7, \"28\": 1, \"5\": 1, \"37\": 1, \"61\": 2}, \"47\": {\"37\": 2, \"127\": 1, \"47\": 7, \"64\": 2}, \"37\": {\"37\": 8, \"105\": 1, \"40\": 1, \"14\": 1, \"112\": 1}, \"78\": {\"98\": 1, \"96\": 1, \"3\": 1, \"11\": 1, \"40\": 1, \"48\": 1, \"114\": 1, \"102\": 1, \"122\": 1, \"100\": 1, \"120\": 1, \"22\": 1}, \"96\": {\"90\": 2, \"96\": 10}, \"43\": {\"43\": 4, \"98\": 1, \"67\": 2, \"44\": 1, \"62\": 1, \"42\": 1, \"33\": 1, \"22\": 1}, \"5\": {\"5\": 6, \"37\": 1, \"114\": 1, \"40\": 1, \"32\": 1}, \"124\": {\"8\": 2, \"124\": 8, \"95\": 1, \"49\": 1}, \"44\": {\"44\": 10, \"43\": 1, \"38\": 1}, \"41\": {\"8\": 2, \"41\": 9, \"99\": 1}, \"116\": {\"116\": 6, \"89\": 1, \"84\": 1, \"96\": 1, \"33\": 1, \"28\": 2}, \"19\": {\"64\": 1, \"112\": 1, \"19\": 6, \"105\": 1, \"47\": 2, \"85\": 1}, \"115\": {\"32\": 2, \"3\": 2, \"129\": 2, \"115\": 1, \"110\": 1, \"71\": 1, \"11\": 1, \"105\": 1, \"53\": 1}, \"95\": {\"95\": 6, \"81\": 1, \"22\": 1, \"124\": 2, \"19\": 1, \"85\": 1}, \"3\": {\"32\": 1, \"112\": 1, \"3\": 7, \"107\": 1}, \"59\": {\"127\": 2, \"59\": 6, \"41\": 2, \"91\": 2}, \"55\": {\"19\": 1, \"55\": 9, \"84\": 1, \"38\": 1}, \"70\": {\"105\": 1, \"48\": 1, \"70\": 2, \"1\": 2, \"93\": 2, \"19\": 1, \"3\": 1, \"33\": 2}, \"6\": {\"6\": 7, \"25\": 1, \"75\": 2, \"24\": 1, \"109\": 1}, \"2\": {\"81\": 1, \"2\": 11}, \"48\": {\"48\": 10, \"93\": 1, \"31\": 1}, \"23\": {\"117\": 1, \"7\": 2, \"74\": 1, \"39\": 1, \"121\": 1, \"65\": 1, \"112\": 1, \"23\": 4}, \"7\": {\"7\": 9, \"41\": 1, \"4\": 1, \"74\": 1}, \"122\": {\"122\": 6, \"114\": 2, \"95\": 1, \"107\": 1, \"32\": 1, \"40\": 1}, \"57\": {\"57\": 8, \"117\": 1, \"72\": 1, \"18\": 1, \"92\": 1}, \"39\": {\"39\": 6, \"18\": 1, \"70\": 1, \"88\": 2}, \"79\": {\"79\": 8, \"56\": 1, \"108\": 1, \"19\": 2}, \"27\": {\"27\": 6, \"58\": 2, \"128\": 1, \"73\": 1}, \"74\": {\"74\": 5, \"79\": 1, \"115\": 1, \"104\": 1, \"4\": 1, \"114\": 1, \"120\": 1, \"51\": 1}, \"73\": {\"50\": 2, \"73\": 6, \"47\": 2, \"14\": 1, \"122\": 1}, \"62\": {\"62\": 11, \"115\": 1}, \"107\": {\"107\": 7, \"3\": 1, \"37\": 2, \"122\": 1, \"40\": 1}, \"128\": {\"53\": 2, \"37\": 1, \"128\": 4, \"50\": 1, \"115\": 1, \"40\": 1, \"108\": 2}, \"60\": {\"40\": 1, \"37\": 1, \"83\": 2, \"76\": 1, \"60\": 3, \"38\": 1, \"3\": 1, \"123\": 1, \"5\": 1}, \"114\": {\"122\": 2, \"114\": 6, \"107\": 1, \"86\": 1, \"124\": 1, \"4\": 1}, \"22\": {\"22\": 11, \"3\": 1}, \"93\": {\"93\": 11, \"72\": 1}, \"94\": {\"94\": 6, \"128\": 2, \"97\": 2, \"20\": 1, \"101\": 1}, \"31\": {\"31\": 9, \"46\": 1}, \"104\": {\"104\": 9, \"107\": 1, \"86\": 2}, \"58\": {\"27\": 1, \"58\": 10, \"15\": 1}}, \"C_A_2\": {\"14\": {\"47\": 1, \"14\": 5, \"31\": 1, \"24\": 1, \"39\": 2, \"0\": 1, \"11\": 1}, \"22\": {\"22\": 7, \"31\": 1, \"29\": 1, \"0\": 1, \"43\": 2}, \"9\": {\"9\": 10, \"6\": 2}, \"47\": {\"16\": 1, \"47\": 8, \"15\": 1, \"57\": 1, \"42\": 1}, \"13\": {\"13\": 12}, \"8\": {\"8\": 9, \"27\": 1, \"53\": 1, \"51\": 1}, \"7\": {\"7\": 11, \"1\": 1}, \"49\": {\"34\": 1, \"49\": 11}, \"20\": {\"20\": 11, \"51\": 1}, \"16\": {\"47\": 3, \"16\": 5, \"39\": 1, \"5\": 1, \"15\": 1, \"42\": 1}, \"34\": {\"34\": 12}, \"56\": {\"56\": 4, \"14\": 1, \"22\": 4, \"13\": 1, \"43\": 1, \"10\": 1}, \"38\": {\"38\": 7, \"31\": 3}, \"4\": {\"4\": 8, \"53\": 2, \"54\": 2}, \"43\": {\"43\": 9, \"22\": 1}, \"26\": {\"26\": 10}, \"35\": {\"35\": 12}, \"31\": {\"31\": 12}, \"1\": {\"1\": 6, \"15\": 4, \"7\": 2}, \"39\": {\"39\": 7, \"0\": 1, \"16\": 1, \"11\": 3}, \"5\": {\"39\": 3, \"5\": 8, \"47\": 1}, \"24\": {\"24\": 10, \"56\": 1, \"14\": 1}, \"54\": {\"54\": 7, \"32\": 1, \"48\": 2}, \"23\": {\"15\": 1, \"1\": 1, \"23\": 7, \"2\": 2, \"44\": 1}, \"51\": {\"20\": 2, \"51\": 8, \"8\": 1, \"32\": 1}, \"27\": {\"27\": 10}, \"15\": {\"15\": 10, \"1\": 2}, \"0\": {\"0\": 7, \"39\": 1, \"28\": 2, \"16\": 1, \"47\": 1}, \"19\": {\"19\": 7, \"30\": 1, \"40\": 1, \"34\": 1}, \"18\": {\"18\": 5, \"19\": 1, \"30\": 1, \"40\": 1}, \"30\": {\"18\": 3, \"30\": 8, \"33\": 1}, \"55\": {\"55\": 5, \"16\": 1, \"1\": 1, \"47\": 2, \"39\": 1}, \"57\": {\"57\": 11, \"16\": 1}, \"2\": {\"34\": 1, \"2\": 11}, \"12\": {\"12\": 7, \"27\": 1}, \"41\": {\"41\": 10, \"49\": 1, \"19\": 1}, \"42\": {\"1\": 2, \"57\": 1, \"42\": 6, \"23\": 1, \"7\": 1, \"16\": 1}, \"48\": {\"48\": 10, \"18\": 1, \"50\": 1}, \"37\": {\"37\": 12}, \"6\": {\"6\": 9, \"21\": 1}, \"11\": {\"11\": 9, \"39\": 1}, \"45\": {\"45\": 8}, \"21\": {\"21\": 11, \"50\": 1}, \"46\": {\"46\": 4, \"52\": 2, \"2\": 2, \"55\": 1, \"7\": 1}, \"25\": {\"25\": 10, \"9\": 1, \"50\": 1}, \"36\": {\"36\": 10}, \"53\": {\"53\": 11, \"8\": 1}, \"28\": {\"11\": 1, \"28\": 8, \"39\": 1, \"0\": 2}, \"40\": {\"40\": 8, \"48\": 1, \"18\": 1}, \"33\": {\"33\": 10}, \"44\": {\"33\": 1, \"15\": 1, \"44\": 7, \"29\": 1}, \"3\": {\"41\": 1, \"3\": 7, \"48\": 1, \"52\": 1, \"46\": 1, \"18\": 1}, \"17\": {\"17\": 9, \"32\": 2, \"4\": 1}, \"32\": {\"32\": 10}, \"10\": {\"10\": 10}, \"52\": {\"52\": 7, \"33\": 1, \"34\": 1, \"44\": 1}, \"50\": {\"3\": 1, \"50\": 6, \"25\": 1}, \"29\": {\"29\": 5, \"33\": 1}}}, \"per_domain_accuracy\": {\"ORACLE.run2_14\": {\"accuracy\": 0.8888020833333333, \"source?\": true}, \"ORACLE.run2_20\": {\"accuracy\": 0.77578125, \"source?\": true}, \"ORACLE.run2_38\": {\"accuracy\": 0.7799479166666666, \"source?\": true}, \"ORACLE.run2_8\": {\"accuracy\": 0.8109375, \"source?\": true}, \"ORACLE.run2_50\": {\"accuracy\": 0.8822916666666667, \"source?\": true}, \"ORACLE.run2_32\": {\"accuracy\": 0.8765625, \"source?\": true}, \"ORACLE.run2_26\": {\"accuracy\": 0.69296875, \"source?\": true}, \"ORACLE.run2_44\": {\"accuracy\": 0.80546875, \"source?\": true}, \"W_A_3\": {\"accuracy\": 0.5846354166666666, \"source?\": false}, \"W_A_4\": {\"accuracy\": 0.5240885416666666, \"source?\": false}, \"C_A_3\": {\"accuracy\": 0.7890625, \"source?\": false}, \"C_A_4\": {\"accuracy\": 0.765625, \"source?\": false}, \"W_A_1\": {\"accuracy\": 0.5924479166666666, \"source?\": false}, \"C_A_5\": {\"accuracy\": 0.7890625, \"source?\": false}, \"C_A_1\": {\"accuracy\": 0.796875, \"source?\": false}, \"W_A_2\": {\"accuracy\": 0.5774739583333334, \"source?\": false}, \"C_A_2\": {\"accuracy\": 0.771875, \"source?\": false}}}, \"history\": {\"epoch_indices\": [1, 2, 3, 4, 5, 6, 7, 8], \"train_label_loss\": [0.9424676929378794, 1.6264327538998, 0.6240129662965912, 0.5131901490429993, 0.46611158984624557, 0.43571171582998, 0.3969946054062651, 0.3606465527482907], \"source_val_label_loss\": [61.6413688659668, 0.6929148435592651, 0.6477409601211548, 0.5457804799079895, 0.46829214692115784, 0.4490257501602173, 0.4347987771034241, 0.38387012481689453], \"target_val_label_loss\": [7947.8935546875, 292.03216552734375, 464.30108642578125, 222.97113037109375, 554.8152465820312, 497.4173278808594, 362.64404296875, 426.73077392578125], \"source_val_acc_label\": [0.5857747395833334, 0.7702473958333333, 0.7765625, 0.8140950520833333, 0.8369140625, 0.8411783854166667, 0.8427734375, 0.8628580729166667], \"target_val_acc_label\": [0.4769905821917808, 0.7170376712328768, 0.6613869863013698, 0.6425513698630136, 0.6430864726027398, 0.635380993150685, 0.6700556506849316, 0.651005993150685]}, \"dataset_metrics\": {\"source\": {\"train\": {\"n_unique_x\": 179200, \"n_unique_y\": 16, \"n_batch/episode\": 6720}, \"val\": {\"n_unique_x\": 38400, \"n_unique_y\": 16, \"n_batch/episode\": 960}, \"test\": {\"n_unique_x\": 38400, \"n_unique_y\": 16, \"n_batch/episode\": 960}}, \"target\": {\"train\": {\"n_unique_x\": 56700, \"n_unique_y\": 130, \"n_batch/episode\": 2080}, \"val\": {\"n_unique_x\": 12132, \"n_unique_y\": 130, \"n_batch/episode\": 292}, \"test\": {\"n_unique_x\": 12132, \"n_unique_y\": 130, \"n_batch/episode\": 292}}}}'"
      ]
     },
     "execution_count": 29,
     "metadata": {},
     "output_type": "execute_result"
    }
   ],
   "source": [
    "json.dumps(experiment)"
   ]
  }
 ],
 "metadata": {
  "celltoolbar": "Tags",
  "kernelspec": {
   "display_name": "Python 3 (ipykernel)",
   "language": "python",
   "name": "python3"
  },
  "language_info": {
   "codemirror_mode": {
    "name": "ipython",
    "version": 3
   },
   "file_extension": ".py",
   "mimetype": "text/x-python",
   "name": "python",
   "nbconvert_exporter": "python",
   "pygments_lexer": "ipython3",
   "version": "3.8.10"
  },
  "papermill": {
   "default_parameters": {},
   "duration": 1550.090607,
   "end_time": "2022-03-17T03:22:23.066215",
   "environment_variables": {},
   "exception": null,
   "input_path": "/mnt/wd500GB/CSC500/csc500-main/csc500-notebooks/templates/tl_ptn_template.ipynb",
   "output_path": "trial.ipynb",
   "parameters": {
    "parameters": {
     "BEST_MODEL_PATH": "./best_model.pth",
     "NUM_LOGS_PER_EPOCH": 10,
     "criteria_for_best": "target_loss",
     "dataset_seed": 1337,
     "datasets": [
      {
       "domain_prefix": "C_A_",
       "domains": [
        1,
        2,
        3,
        4,
        5
       ],
       "episode_transforms": [],
       "labels": [
        "1-10.",
        "1-11.",
        "1-15.",
        "1-16.",
        "1-17.",
        "1-18.",
        "1-19.",
        "10-4.",
        "10-7.",
        "11-1.",
        "11-14.",
        "11-17.",
        "11-20.",
        "11-7.",
        "13-20.",
        "13-8.",
        "14-10.",
        "14-11.",
        "14-14.",
        "14-7.",
        "15-1.",
        "15-20.",
        "16-1.",
        "16-16.",
        "17-10.",
        "17-11.",
        "17-2.",
        "19-1.",
        "19-16.",
        "19-19.",
        "19-20.",
        "19-3.",
        "2-10.",
        "2-11.",
        "2-17.",
        "2-18.",
        "2-20.",
        "2-3.",
        "2-4.",
        "2-5.",
        "2-6.",
        "2-7.",
        "2-8.",
        "3-13.",
        "3-18.",
        "3-3.",
        "4-1.",
        "4-10.",
        "4-11.",
        "4-19.",
        "5-5.",
        "6-15.",
        "7-10.",
        "7-14.",
        "8-18.",
        "8-20.",
        "8-3.",
        "8-8."
       ],
       "num_examples_per_domain_per_label": 100,
       "pickle_path": "/mnt/wd500GB/CSC500/csc500-main/datasets/cores.stratified_ds.2022A.pkl",
       "source_or_target_dataset": "target",
       "x_transforms": [
        "unit_power"
       ]
      },
      {
       "domain_prefix": "W_A_",
       "domains": [
        1,
        2,
        3,
        4
       ],
       "episode_transforms": [],
       "labels": [
        "1-10",
        "1-12",
        "1-14",
        "1-16",
        "1-18",
        "1-19",
        "1-8",
        "10-11",
        "10-17",
        "10-4",
        "10-7",
        "11-1",
        "11-10",
        "11-19",
        "11-20",
        "11-4",
        "11-7",
        "12-19",
        "12-20",
        "12-7",
        "13-14",
        "13-18",
        "13-19",
        "13-20",
        "13-3",
        "13-7",
        "14-10",
        "14-11",
        "14-12",
        "14-13",
        "14-14",
        "14-19",
        "14-20",
        "14-7",
        "14-8",
        "14-9",
        "15-1",
        "15-19",
        "15-6",
        "16-1",
        "16-16",
        "16-19",
        "16-20",
        "17-10",
        "17-11",
        "18-1",
        "18-10",
        "18-11",
        "18-12",
        "18-13",
        "18-14",
        "18-15",
        "18-16",
        "18-17",
        "18-19",
        "18-2",
        "18-20",
        "18-4",
        "18-5",
        "18-7",
        "18-8",
        "18-9",
        "19-1",
        "19-10",
        "19-11",
        "19-12",
        "19-13",
        "19-14",
        "19-15",
        "19-19",
        "19-2",
        "19-20",
        "19-3",
        "19-4",
        "19-6",
        "19-7",
        "19-8",
        "19-9",
        "2-1",
        "2-13",
        "2-15",
        "2-3",
        "2-4",
        "2-5",
        "2-6",
        "2-7",
        "2-8",
        "20-1",
        "20-12",
        "20-14",
        "20-15",
        "20-16",
        "20-18",
        "20-19",
        "20-20",
        "20-3",
        "20-4",
        "20-5",
        "20-7",
        "20-8",
        "3-1",
        "3-13",
        "3-18",
        "3-2",
        "3-8",
        "4-1",
        "4-10",
        "4-11",
        "5-1",
        "5-5",
        "6-1",
        "6-15",
        "6-6",
        "7-10",
        "7-11",
        "7-12",
        "7-13",
        "7-14",
        "7-7",
        "7-8",
        "7-9",
        "8-1",
        "8-13",
        "8-14",
        "8-18",
        "8-20",
        "8-3",
        "8-8",
        "9-1",
        "9-7"
       ],
       "num_examples_per_domain_per_label": 100,
       "pickle_path": "/mnt/wd500GB/CSC500/csc500-main/datasets/wisig.node3-19.stratified_ds.2022A.pkl",
       "source_or_target_dataset": "target",
       "x_transforms": [
        "unit_power"
       ]
      },
      {
       "domain_prefix": "ORACLE.run2_",
       "domains": [
        32,
        38,
        8,
        44,
        14,
        50,
        20,
        26
       ],
       "episode_transforms": [],
       "labels": [
        "3123D52",
        "3123D65",
        "3123D79",
        "3123D80",
        "3123D54",
        "3123D70",
        "3123D7B",
        "3123D89",
        "3123D58",
        "3123D76",
        "3123D7D",
        "3123EFE",
        "3123D64",
        "3123D78",
        "3123D7E",
        "3124E4A"
       ],
       "num_examples_per_domain_per_label": 2000,
       "pickle_path": "/mnt/wd500GB/CSC500/csc500-main/datasets/oracle.Run2_framed_2000Examples_stratified_ds.2022A.pkl",
       "source_or_target_dataset": "source",
       "x_transforms": [
        "unit_power"
       ]
      }
     ],
     "device": "cuda",
     "experiment_name": "oracle.run2.framed -> cores+wisig",
     "lr": 0.001,
     "n_epoch": 50,
     "n_query": 2,
     "n_shot": 3,
     "n_way": 16,
     "patience": 3,
     "seed": 1337,
     "test_k_factor": 2,
     "torch_default_dtype": "torch.float32",
     "train_k_factor": 3,
     "val_k_factor": 2,
     "x_net": [
      {
       "class": "nnReshape",
       "kargs": {
        "shape": [
         -1,
         1,
         2,
         256
        ]
       }
      },
      {
       "class": "Conv2d",
       "kargs": {
        "bias": false,
        "in_channels": 1,
        "kernel_size": [
         1,
         7
        ],
        "out_channels": 256,
        "padding": [
         0,
         3
        ]
       }
      },
      {
       "class": "ReLU",
       "kargs": {
        "inplace": true
       }
      },
      {
       "class": "BatchNorm2d",
       "kargs": {
        "num_features": 256
       }
      },
      {
       "class": "Conv2d",
       "kargs": {
        "bias": true,
        "in_channels": 256,
        "kernel_size": [
         2,
         7
        ],
        "out_channels": 80,
        "padding": [
         0,
         3
        ]
       }
      },
      {
       "class": "ReLU",
       "kargs": {
        "inplace": true
       }
      },
      {
       "class": "BatchNorm2d",
       "kargs": {
        "num_features": 80
       }
      },
      {
       "class": "Flatten",
       "kargs": {}
      },
      {
       "class": "Linear",
       "kargs": {
        "in_features": 20480,
        "out_features": 256
       }
      },
      {
       "class": "ReLU",
       "kargs": {
        "inplace": true
       }
      },
      {
       "class": "BatchNorm1d",
       "kargs": {
        "num_features": 256
       }
      },
      {
       "class": "Linear",
       "kargs": {
        "in_features": 256,
        "out_features": 256
       }
      }
     ]
    }
   },
   "start_time": "2022-03-17T02:56:32.975608",
   "version": "2.3.4"
  }
 },
 "nbformat": 4,
 "nbformat_minor": 5
}