{
 "cells": [
  {
   "cell_type": "markdown",
   "id": "9fea5f46",
   "metadata": {
    "papermill": {
     "duration": 0.016964,
     "end_time": "2022-03-18T06:45:41.555816",
     "exception": false,
     "start_time": "2022-03-18T06:45:41.538852",
     "status": "completed"
    },
    "tags": []
   },
   "source": [
    "# Transfer Learning Template"
   ]
  },
  {
   "cell_type": "code",
   "execution_count": 1,
   "id": "0902182a",
   "metadata": {
    "execution": {
     "iopub.execute_input": "2022-03-18T06:45:41.590213Z",
     "iopub.status.busy": "2022-03-18T06:45:41.589878Z",
     "iopub.status.idle": "2022-03-18T06:45:42.496958Z",
     "shell.execute_reply": "2022-03-18T06:45:42.496652Z"
    },
    "papermill": {
     "duration": 0.928526,
     "end_time": "2022-03-18T06:45:42.497017",
     "exception": false,
     "start_time": "2022-03-18T06:45:41.568491",
     "status": "completed"
    },
    "tags": []
   },
   "outputs": [],
   "source": [
    "%load_ext autoreload\n",
    "%autoreload 2\n",
    "%matplotlib inline\n",
    "\n",
    "    \n",
    "import os, json, sys, time, random\n",
    "import numpy as np\n",
    "import torch\n",
    "from torch.optim import Adam\n",
    "from  easydict import EasyDict\n",
    "import matplotlib.pyplot as plt\n",
    "\n",
    "from steves_models.steves_ptn import Steves_Prototypical_Network\n",
    "\n",
    "from steves_utils.lazy_iterable_wrapper import Lazy_Iterable_Wrapper\n",
    "from steves_utils.iterable_aggregator import Iterable_Aggregator\n",
    "from steves_utils.ptn_train_eval_test_jig import  PTN_Train_Eval_Test_Jig\n",
    "from steves_utils.torch_sequential_builder import build_sequential\n",
    "from steves_utils.torch_utils import get_dataset_metrics, ptn_confusion_by_domain_over_dataloader\n",
    "from steves_utils.utils_v2 import (per_domain_accuracy_from_confusion, get_datasets_base_path)\n",
    "from steves_utils.PTN.utils import independent_accuracy_assesment\n",
    "\n",
    "from torch.utils.data import DataLoader\n",
    "\n",
    "from steves_utils.stratified_dataset.episodic_accessor import Episodic_Accessor_Factory\n",
    "\n",
    "from steves_utils.ptn_do_report import (\n",
    "    get_loss_curve,\n",
    "    get_results_table,\n",
    "    get_parameters_table,\n",
    "    get_domain_accuracies,\n",
    ")\n",
    "\n",
    "from steves_utils.transforms import get_chained_transform"
   ]
  },
  {
   "cell_type": "markdown",
   "id": "41c840b4",
   "metadata": {
    "papermill": {
     "duration": 0.013065,
     "end_time": "2022-03-18T06:45:42.523711",
     "exception": false,
     "start_time": "2022-03-18T06:45:42.510646",
     "status": "completed"
    },
    "tags": []
   },
   "source": [
    "# Allowed Parameters\n",
    "These are allowed parameters, not defaults\n",
    "Each of these values need to be present in the injected parameters (the notebook will raise an exception if they are not present)\n",
    "\n",
    "Papermill uses the cell tag \"parameters\" to inject the real parameters below this cell.\n",
    "Enable tags to see what I mean"
   ]
  },
  {
   "cell_type": "code",
   "execution_count": 2,
   "id": "fd44eb83",
   "metadata": {
    "execution": {
     "iopub.execute_input": "2022-03-18T06:45:42.555539Z",
     "iopub.status.busy": "2022-03-18T06:45:42.553182Z",
     "iopub.status.idle": "2022-03-18T06:45:42.565238Z",
     "shell.execute_reply": "2022-03-18T06:45:42.565666Z"
    },
    "papermill": {
     "duration": 0.028745,
     "end_time": "2022-03-18T06:45:42.565785",
     "exception": false,
     "start_time": "2022-03-18T06:45:42.537040",
     "status": "completed"
    },
    "tags": []
   },
   "outputs": [],
   "source": [
    "required_parameters = {\n",
    "    \"experiment_name\",\n",
    "    \"lr\",\n",
    "    \"device\",\n",
    "    \"seed\",\n",
    "    \"dataset_seed\",\n",
    "    \"n_shot\",\n",
    "    \"n_query\",\n",
    "    \"n_way\",\n",
    "    \"train_k_factor\",\n",
    "    \"val_k_factor\",\n",
    "    \"test_k_factor\",\n",
    "    \"n_epoch\",\n",
    "    \"patience\",\n",
    "    \"criteria_for_best\",\n",
    "    \"x_net\",\n",
    "    \"datasets\",\n",
    "    \"torch_default_dtype\",\n",
    "    \"NUM_LOGS_PER_EPOCH\",\n",
    "    \"BEST_MODEL_PATH\",\n",
    "    \"x_shape\",\n",
    "}"
   ]
  },
  {
   "cell_type": "code",
   "execution_count": 3,
   "id": "fa3f0049",
   "metadata": {
    "execution": {
     "iopub.execute_input": "2022-03-18T06:45:42.605317Z",
     "iopub.status.busy": "2022-03-18T06:45:42.597654Z",
     "iopub.status.idle": "2022-03-18T06:45:42.618018Z",
     "shell.execute_reply": "2022-03-18T06:45:42.617624Z"
    },
    "papermill": {
     "duration": 0.03445,
     "end_time": "2022-03-18T06:45:42.618106",
     "exception": false,
     "start_time": "2022-03-18T06:45:42.583656",
     "status": "completed"
    },
    "tags": [
     "parameters"
    ]
   },
   "outputs": [],
   "source": [
    "from steves_utils.CORES.utils import (\n",
    "    ALL_NODES,\n",
    "    ALL_NODES_MINIMUM_1000_EXAMPLES,\n",
    "    ALL_DAYS\n",
    ")\n",
    "\n",
    "from steves_utils.ORACLE.utils_v2 import (\n",
    "    ALL_DISTANCES_FEET_NARROWED,\n",
    "    ALL_RUNS,\n",
    "    ALL_SERIAL_NUMBERS,\n",
    ")\n",
    "\n",
    "standalone_parameters = {}\n",
    "standalone_parameters[\"experiment_name\"] = \"STANDALONE PTN\"\n",
    "standalone_parameters[\"lr\"] = 0.001\n",
    "standalone_parameters[\"device\"] = \"cuda\"\n",
    "\n",
    "standalone_parameters[\"seed\"] = 1337\n",
    "standalone_parameters[\"dataset_seed\"] = 1337\n",
    "\n",
    "standalone_parameters[\"n_way\"] = 8\n",
    "standalone_parameters[\"n_shot\"] = 3\n",
    "standalone_parameters[\"n_query\"]  = 2\n",
    "standalone_parameters[\"train_k_factor\"] = 1\n",
    "standalone_parameters[\"val_k_factor\"] = 2\n",
    "standalone_parameters[\"test_k_factor\"] = 2\n",
    "\n",
    "\n",
    "standalone_parameters[\"n_epoch\"] = 50\n",
    "\n",
    "standalone_parameters[\"patience\"] = 10\n",
    "standalone_parameters[\"criteria_for_best\"] = \"source_loss\"\n",
    "\n",
    "standalone_parameters[\"datasets\"] = [\n",
    "    {\n",
    "        \"labels\": ALL_SERIAL_NUMBERS,\n",
    "        \"domains\": ALL_DISTANCES_FEET_NARROWED,\n",
    "        \"num_examples_per_domain_per_label\": 100,\n",
    "        \"pickle_path\": os.path.join(get_datasets_base_path(), \"oracle.Run1_framed_2000Examples_stratified_ds.2022A.pkl\"),\n",
    "        \"source_or_target_dataset\": \"source\",\n",
    "        \"x_transforms\": [\"unit_mag\", \"minus_two\"],\n",
    "        \"episode_transforms\": [],\n",
    "        \"domain_prefix\": \"ORACLE_\"\n",
    "    },\n",
    "    {\n",
    "        \"labels\": ALL_NODES,\n",
    "        \"domains\": ALL_DAYS,\n",
    "        \"num_examples_per_domain_per_label\": 100,\n",
    "        \"pickle_path\": os.path.join(get_datasets_base_path(), \"cores.stratified_ds.2022A.pkl\"),\n",
    "        \"source_or_target_dataset\": \"target\",\n",
    "        \"x_transforms\": [\"unit_power\", \"times_zero\"],\n",
    "        \"episode_transforms\": [],\n",
    "        \"domain_prefix\": \"CORES_\"\n",
    "    }   \n",
    "]\n",
    "\n",
    "standalone_parameters[\"torch_default_dtype\"] = \"torch.float32\" \n",
    "\n",
    "\n",
    "\n",
    "standalone_parameters[\"x_net\"] =     [\n",
    "    {\"class\": \"nnReshape\", \"kargs\": {\"shape\":[-1, 1, 2, 256]}},\n",
    "    {\"class\": \"Conv2d\", \"kargs\": { \"in_channels\":1, \"out_channels\":256, \"kernel_size\":(1,7), \"bias\":False, \"padding\":(0,3), },},\n",
    "    {\"class\": \"ReLU\", \"kargs\": {\"inplace\": True}},\n",
    "    {\"class\": \"BatchNorm2d\", \"kargs\": {\"num_features\":256}},\n",
    "\n",
    "    {\"class\": \"Conv2d\", \"kargs\": { \"in_channels\":256, \"out_channels\":80, \"kernel_size\":(2,7), \"bias\":True, \"padding\":(0,3), },},\n",
    "    {\"class\": \"ReLU\", \"kargs\": {\"inplace\": True}},\n",
    "    {\"class\": \"BatchNorm2d\", \"kargs\": {\"num_features\":80}},\n",
    "    {\"class\": \"Flatten\", \"kargs\": {}},\n",
    "\n",
    "    {\"class\": \"Linear\", \"kargs\": {\"in_features\": 80*256, \"out_features\": 256}}, # 80 units per IQ pair\n",
    "    {\"class\": \"ReLU\", \"kargs\": {\"inplace\": True}},\n",
    "    {\"class\": \"BatchNorm1d\", \"kargs\": {\"num_features\":256}},\n",
    "\n",
    "    {\"class\": \"Linear\", \"kargs\": {\"in_features\": 256, \"out_features\": 256}},\n",
    "]\n",
    "\n",
    "# Parameters relevant to results\n",
    "# These parameters will basically never need to change\n",
    "standalone_parameters[\"NUM_LOGS_PER_EPOCH\"] = 10\n",
    "standalone_parameters[\"BEST_MODEL_PATH\"] = \"./best_model.pth\"\n",
    "\n",
    "\n",
    "\n",
    "\n"
   ]
  },
  {
   "cell_type": "code",
   "execution_count": 4,
   "id": "99f6a896",
   "metadata": {
    "execution": {
     "iopub.execute_input": "2022-03-18T06:45:42.662099Z",
     "iopub.status.busy": "2022-03-18T06:45:42.659872Z",
     "iopub.status.idle": "2022-03-18T06:45:42.675037Z",
     "shell.execute_reply": "2022-03-18T06:45:42.674667Z"
    },
    "papermill": {
     "duration": 0.039787,
     "end_time": "2022-03-18T06:45:42.675128",
     "exception": false,
     "start_time": "2022-03-18T06:45:42.635341",
     "status": "completed"
    },
    "tags": [
     "injected-parameters"
    ]
   },
   "outputs": [],
   "source": [
    "# Parameters\n",
    "parameters = {\n",
    "    \"experiment_name\": \"tl_3-jitter10:oracle.run1.framed -> cores+wisig\",\n",
    "    \"device\": \"cuda\",\n",
    "    \"lr\": 0.001,\n",
    "    \"seed\": 1337,\n",
    "    \"dataset_seed\": 1337,\n",
    "    \"n_shot\": 3,\n",
    "    \"n_query\": 2,\n",
    "    \"train_k_factor\": 3,\n",
    "    \"val_k_factor\": 2,\n",
    "    \"test_k_factor\": 2,\n",
    "    \"torch_default_dtype\": \"torch.float32\",\n",
    "    \"n_epoch\": 50,\n",
    "    \"patience\": 3,\n",
    "    \"criteria_for_best\": \"target_loss\",\n",
    "    \"x_net\": [\n",
    "        {\"class\": \"nnReshape\", \"kargs\": {\"shape\": [-1, 1, 2, 256]}},\n",
    "        {\n",
    "            \"class\": \"Conv2d\",\n",
    "            \"kargs\": {\n",
    "                \"in_channels\": 1,\n",
    "                \"out_channels\": 256,\n",
    "                \"kernel_size\": [1, 7],\n",
    "                \"bias\": False,\n",
    "                \"padding\": [0, 3],\n",
    "            },\n",
    "        },\n",
    "        {\"class\": \"ReLU\", \"kargs\": {\"inplace\": True}},\n",
    "        {\"class\": \"BatchNorm2d\", \"kargs\": {\"num_features\": 256}},\n",
    "        {\n",
    "            \"class\": \"Conv2d\",\n",
    "            \"kargs\": {\n",
    "                \"in_channels\": 256,\n",
    "                \"out_channels\": 80,\n",
    "                \"kernel_size\": [2, 7],\n",
    "                \"bias\": True,\n",
    "                \"padding\": [0, 3],\n",
    "            },\n",
    "        },\n",
    "        {\"class\": \"ReLU\", \"kargs\": {\"inplace\": True}},\n",
    "        {\"class\": \"BatchNorm2d\", \"kargs\": {\"num_features\": 80}},\n",
    "        {\"class\": \"Flatten\", \"kargs\": {}},\n",
    "        {\"class\": \"Linear\", \"kargs\": {\"in_features\": 20480, \"out_features\": 256}},\n",
    "        {\"class\": \"ReLU\", \"kargs\": {\"inplace\": True}},\n",
    "        {\"class\": \"BatchNorm1d\", \"kargs\": {\"num_features\": 256}},\n",
    "        {\"class\": \"Linear\", \"kargs\": {\"in_features\": 256, \"out_features\": 256}},\n",
    "    ],\n",
    "    \"NUM_LOGS_PER_EPOCH\": 10,\n",
    "    \"BEST_MODEL_PATH\": \"./best_model.pth\",\n",
    "    \"n_way\": 16,\n",
    "    \"datasets\": [\n",
    "        {\n",
    "            \"labels\": [\n",
    "                \"1-10.\",\n",
    "                \"1-11.\",\n",
    "                \"1-15.\",\n",
    "                \"1-16.\",\n",
    "                \"1-17.\",\n",
    "                \"1-18.\",\n",
    "                \"1-19.\",\n",
    "                \"10-4.\",\n",
    "                \"10-7.\",\n",
    "                \"11-1.\",\n",
    "                \"11-14.\",\n",
    "                \"11-17.\",\n",
    "                \"11-20.\",\n",
    "                \"11-7.\",\n",
    "                \"13-20.\",\n",
    "                \"13-8.\",\n",
    "                \"14-10.\",\n",
    "                \"14-11.\",\n",
    "                \"14-14.\",\n",
    "                \"14-7.\",\n",
    "                \"15-1.\",\n",
    "                \"15-20.\",\n",
    "                \"16-1.\",\n",
    "                \"16-16.\",\n",
    "                \"17-10.\",\n",
    "                \"17-11.\",\n",
    "                \"17-2.\",\n",
    "                \"19-1.\",\n",
    "                \"19-16.\",\n",
    "                \"19-19.\",\n",
    "                \"19-20.\",\n",
    "                \"19-3.\",\n",
    "                \"2-10.\",\n",
    "                \"2-11.\",\n",
    "                \"2-17.\",\n",
    "                \"2-18.\",\n",
    "                \"2-20.\",\n",
    "                \"2-3.\",\n",
    "                \"2-4.\",\n",
    "                \"2-5.\",\n",
    "                \"2-6.\",\n",
    "                \"2-7.\",\n",
    "                \"2-8.\",\n",
    "                \"3-13.\",\n",
    "                \"3-18.\",\n",
    "                \"3-3.\",\n",
    "                \"4-1.\",\n",
    "                \"4-10.\",\n",
    "                \"4-11.\",\n",
    "                \"4-19.\",\n",
    "                \"5-5.\",\n",
    "                \"6-15.\",\n",
    "                \"7-10.\",\n",
    "                \"7-14.\",\n",
    "                \"8-18.\",\n",
    "                \"8-20.\",\n",
    "                \"8-3.\",\n",
    "                \"8-8.\",\n",
    "            ],\n",
    "            \"domains\": [1, 2, 3, 4, 5],\n",
    "            \"num_examples_per_domain_per_label\": 100,\n",
    "            \"pickle_path\": \"/mnt/wd500GB/CSC500/csc500-main/datasets/cores.stratified_ds.2022A.pkl\",\n",
    "            \"source_or_target_dataset\": \"target\",\n",
    "            \"x_transforms\": [\"unit_mag\", \"jitter_256_10\", \"take_200\"],\n",
    "            \"episode_transforms\": [],\n",
    "            \"domain_prefix\": \"C_A_\",\n",
    "        },\n",
    "        {\n",
    "            \"labels\": [\n",
    "                \"1-10\",\n",
    "                \"1-12\",\n",
    "                \"1-14\",\n",
    "                \"1-16\",\n",
    "                \"1-18\",\n",
    "                \"1-19\",\n",
    "                \"1-8\",\n",
    "                \"10-11\",\n",
    "                \"10-17\",\n",
    "                \"10-4\",\n",
    "                \"10-7\",\n",
    "                \"11-1\",\n",
    "                \"11-10\",\n",
    "                \"11-19\",\n",
    "                \"11-20\",\n",
    "                \"11-4\",\n",
    "                \"11-7\",\n",
    "                \"12-19\",\n",
    "                \"12-20\",\n",
    "                \"12-7\",\n",
    "                \"13-14\",\n",
    "                \"13-18\",\n",
    "                \"13-19\",\n",
    "                \"13-20\",\n",
    "                \"13-3\",\n",
    "                \"13-7\",\n",
    "                \"14-10\",\n",
    "                \"14-11\",\n",
    "                \"14-12\",\n",
    "                \"14-13\",\n",
    "                \"14-14\",\n",
    "                \"14-19\",\n",
    "                \"14-20\",\n",
    "                \"14-7\",\n",
    "                \"14-8\",\n",
    "                \"14-9\",\n",
    "                \"15-1\",\n",
    "                \"15-19\",\n",
    "                \"15-6\",\n",
    "                \"16-1\",\n",
    "                \"16-16\",\n",
    "                \"16-19\",\n",
    "                \"16-20\",\n",
    "                \"17-10\",\n",
    "                \"17-11\",\n",
    "                \"18-1\",\n",
    "                \"18-10\",\n",
    "                \"18-11\",\n",
    "                \"18-12\",\n",
    "                \"18-13\",\n",
    "                \"18-14\",\n",
    "                \"18-15\",\n",
    "                \"18-16\",\n",
    "                \"18-17\",\n",
    "                \"18-19\",\n",
    "                \"18-2\",\n",
    "                \"18-20\",\n",
    "                \"18-4\",\n",
    "                \"18-5\",\n",
    "                \"18-7\",\n",
    "                \"18-8\",\n",
    "                \"18-9\",\n",
    "                \"19-1\",\n",
    "                \"19-10\",\n",
    "                \"19-11\",\n",
    "                \"19-12\",\n",
    "                \"19-13\",\n",
    "                \"19-14\",\n",
    "                \"19-15\",\n",
    "                \"19-19\",\n",
    "                \"19-2\",\n",
    "                \"19-20\",\n",
    "                \"19-3\",\n",
    "                \"19-4\",\n",
    "                \"19-6\",\n",
    "                \"19-7\",\n",
    "                \"19-8\",\n",
    "                \"19-9\",\n",
    "                \"2-1\",\n",
    "                \"2-13\",\n",
    "                \"2-15\",\n",
    "                \"2-3\",\n",
    "                \"2-4\",\n",
    "                \"2-5\",\n",
    "                \"2-6\",\n",
    "                \"2-7\",\n",
    "                \"2-8\",\n",
    "                \"20-1\",\n",
    "                \"20-12\",\n",
    "                \"20-14\",\n",
    "                \"20-15\",\n",
    "                \"20-16\",\n",
    "                \"20-18\",\n",
    "                \"20-19\",\n",
    "                \"20-20\",\n",
    "                \"20-3\",\n",
    "                \"20-4\",\n",
    "                \"20-5\",\n",
    "                \"20-7\",\n",
    "                \"20-8\",\n",
    "                \"3-1\",\n",
    "                \"3-13\",\n",
    "                \"3-18\",\n",
    "                \"3-2\",\n",
    "                \"3-8\",\n",
    "                \"4-1\",\n",
    "                \"4-10\",\n",
    "                \"4-11\",\n",
    "                \"5-1\",\n",
    "                \"5-5\",\n",
    "                \"6-1\",\n",
    "                \"6-15\",\n",
    "                \"6-6\",\n",
    "                \"7-10\",\n",
    "                \"7-11\",\n",
    "                \"7-12\",\n",
    "                \"7-13\",\n",
    "                \"7-14\",\n",
    "                \"7-7\",\n",
    "                \"7-8\",\n",
    "                \"7-9\",\n",
    "                \"8-1\",\n",
    "                \"8-13\",\n",
    "                \"8-14\",\n",
    "                \"8-18\",\n",
    "                \"8-20\",\n",
    "                \"8-3\",\n",
    "                \"8-8\",\n",
    "                \"9-1\",\n",
    "                \"9-7\",\n",
    "            ],\n",
    "            \"domains\": [1, 2, 3, 4],\n",
    "            \"num_examples_per_domain_per_label\": 100,\n",
    "            \"pickle_path\": \"/mnt/wd500GB/CSC500/csc500-main/datasets/wisig.node3-19.stratified_ds.2022A.pkl\",\n",
    "            \"source_or_target_dataset\": \"target\",\n",
    "            \"x_transforms\": [\"unit_mag\", \"jitter_256_10\", \"take_200\"],\n",
    "            \"episode_transforms\": [],\n",
    "            \"domain_prefix\": \"W_A_\",\n",
    "        },\n",
    "        {\n",
    "            \"labels\": [\n",
    "                \"3123D52\",\n",
    "                \"3123D65\",\n",
    "                \"3123D79\",\n",
    "                \"3123D80\",\n",
    "                \"3123D54\",\n",
    "                \"3123D70\",\n",
    "                \"3123D7B\",\n",
    "                \"3123D89\",\n",
    "                \"3123D58\",\n",
    "                \"3123D76\",\n",
    "                \"3123D7D\",\n",
    "                \"3123EFE\",\n",
    "                \"3123D64\",\n",
    "                \"3123D78\",\n",
    "                \"3123D7E\",\n",
    "                \"3124E4A\",\n",
    "            ],\n",
    "            \"domains\": [32, 38, 8, 44, 14, 50, 20, 26],\n",
    "            \"num_examples_per_domain_per_label\": 2000,\n",
    "            \"pickle_path\": \"/mnt/wd500GB/CSC500/csc500-main/datasets/oracle.Run1_framed_2000Examples_stratified_ds.2022A.pkl\",\n",
    "            \"source_or_target_dataset\": \"source\",\n",
    "            \"x_transforms\": [\n",
    "                \"unit_mag\",\n",
    "                \"jitter_256_10\",\n",
    "                \"take_200\",\n",
    "                \"resample_20Msps_to_25Msps\",\n",
    "            ],\n",
    "            \"episode_transforms\": [],\n",
    "            \"domain_prefix\": \"ORACLE.run1_\",\n",
    "        },\n",
    "    ],\n",
    "}\n"
   ]
  },
  {
   "cell_type": "code",
   "execution_count": 5,
   "id": "8fa1cc33",
   "metadata": {
    "execution": {
     "iopub.execute_input": "2022-03-18T06:45:42.716665Z",
     "iopub.status.busy": "2022-03-18T06:45:42.710441Z",
     "iopub.status.idle": "2022-03-18T06:45:42.723301Z",
     "shell.execute_reply": "2022-03-18T06:45:42.722883Z"
    },
    "papermill": {
     "duration": 0.031537,
     "end_time": "2022-03-18T06:45:42.723398",
     "exception": false,
     "start_time": "2022-03-18T06:45:42.691861",
     "status": "completed"
    },
    "tags": []
   },
   "outputs": [],
   "source": [
    "# Set this to True if you want to run this template directly\n",
    "STANDALONE = False\n",
    "if STANDALONE:\n",
    "    print(\"parameters not injected, running with standalone_parameters\")\n",
    "    parameters = standalone_parameters\n",
    "\n",
    "if not 'parameters' in locals() and not 'parameters' in globals():\n",
    "    raise Exception(\"Parameter injection failed\")\n",
    "\n",
    "#Use an easy dict for all the parameters\n",
    "p = EasyDict(parameters)\n",
    "\n",
    "if \"x_shape\" not in p:\n",
    "    p.x_shape = [2,256] # Default to this if we dont supply x_shape\n",
    "\n",
    "\n",
    "supplied_keys = set(p.keys())\n",
    "\n",
    "if  supplied_keys != required_parameters:\n",
    "    print(\"Parameters are incorrect\")\n",
    "    if len(supplied_keys - required_parameters)>0: print(\"Shouldn't have:\", str(supplied_keys - required_parameters))\n",
    "    if len(required_parameters - supplied_keys)>0: print(\"Need to have:\", str(required_parameters - supplied_keys))\n",
    "    raise RuntimeError(\"Parameters are incorrect\")"
   ]
  },
  {
   "cell_type": "code",
   "execution_count": 6,
   "id": "3a028d58",
   "metadata": {
    "execution": {
     "iopub.execute_input": "2022-03-18T06:45:42.756217Z",
     "iopub.status.busy": "2022-03-18T06:45:42.755931Z",
     "iopub.status.idle": "2022-03-18T06:45:42.770487Z",
     "shell.execute_reply": "2022-03-18T06:45:42.770099Z"
    },
    "papermill": {
     "duration": 0.029557,
     "end_time": "2022-03-18T06:45:42.770575",
     "exception": false,
     "start_time": "2022-03-18T06:45:42.741018",
     "status": "completed"
    },
    "tags": []
   },
   "outputs": [],
   "source": [
    "###################################\n",
    "# Set the RNGs and make it all deterministic\n",
    "###################################\n",
    "np.random.seed(p.seed)\n",
    "random.seed(p.seed)\n",
    "torch.manual_seed(p.seed)\n",
    "\n",
    "torch.use_deterministic_algorithms(True) "
   ]
  },
  {
   "cell_type": "code",
   "execution_count": 7,
   "id": "b691acf6",
   "metadata": {
    "execution": {
     "iopub.execute_input": "2022-03-18T06:45:42.802838Z",
     "iopub.status.busy": "2022-03-18T06:45:42.802593Z",
     "iopub.status.idle": "2022-03-18T06:45:42.818821Z",
     "shell.execute_reply": "2022-03-18T06:45:42.818405Z"
    },
    "papermill": {
     "duration": 0.031273,
     "end_time": "2022-03-18T06:45:42.818921",
     "exception": false,
     "start_time": "2022-03-18T06:45:42.787648",
     "status": "completed"
    },
    "tags": []
   },
   "outputs": [],
   "source": [
    "###########################################\n",
    "# The stratified datasets honor this\n",
    "###########################################\n",
    "torch.set_default_dtype(eval(p.torch_default_dtype))"
   ]
  },
  {
   "cell_type": "code",
   "execution_count": 8,
   "id": "b5fba671",
   "metadata": {
    "execution": {
     "iopub.execute_input": "2022-03-18T06:45:42.852081Z",
     "iopub.status.busy": "2022-03-18T06:45:42.851837Z",
     "iopub.status.idle": "2022-03-18T06:45:42.891065Z",
     "shell.execute_reply": "2022-03-18T06:45:42.890623Z"
    },
    "papermill": {
     "duration": 0.054161,
     "end_time": "2022-03-18T06:45:42.891170",
     "exception": false,
     "start_time": "2022-03-18T06:45:42.837009",
     "status": "completed"
    },
    "tags": []
   },
   "outputs": [],
   "source": [
    "###################################\n",
    "# Build the network(s)\n",
    "# Note: It's critical to do this AFTER setting the RNG\n",
    "###################################\n",
    "x_net = build_sequential(p.x_net)"
   ]
  },
  {
   "cell_type": "code",
   "execution_count": 9,
   "id": "5d7e61cc",
   "metadata": {
    "execution": {
     "iopub.execute_input": "2022-03-18T06:45:42.924383Z",
     "iopub.status.busy": "2022-03-18T06:45:42.924137Z",
     "iopub.status.idle": "2022-03-18T06:45:42.938577Z",
     "shell.execute_reply": "2022-03-18T06:45:42.938350Z"
    },
    "papermill": {
     "duration": 0.029577,
     "end_time": "2022-03-18T06:45:42.938632",
     "exception": false,
     "start_time": "2022-03-18T06:45:42.909055",
     "status": "completed"
    },
    "tags": []
   },
   "outputs": [],
   "source": [
    "start_time_secs = time.time()"
   ]
  },
  {
   "cell_type": "code",
   "execution_count": 10,
   "id": "c6b67dfd",
   "metadata": {
    "execution": {
     "iopub.execute_input": "2022-03-18T06:45:42.972431Z",
     "iopub.status.busy": "2022-03-18T06:45:42.972180Z",
     "iopub.status.idle": "2022-03-18T06:45:42.987518Z",
     "shell.execute_reply": "2022-03-18T06:45:42.987082Z"
    },
    "papermill": {
     "duration": 0.031396,
     "end_time": "2022-03-18T06:45:42.987617",
     "exception": false,
     "start_time": "2022-03-18T06:45:42.956221",
     "status": "completed"
    },
    "tags": []
   },
   "outputs": [],
   "source": [
    "p.domains_source = []\n",
    "p.domains_target = []\n",
    "\n",
    "\n",
    "train_original_source = []\n",
    "val_original_source   = []\n",
    "test_original_source  = []\n",
    "\n",
    "train_original_target = []\n",
    "val_original_target   = []\n",
    "test_original_target  = []"
   ]
  },
  {
   "cell_type": "code",
   "execution_count": 11,
   "id": "e3d9c3d3",
   "metadata": {
    "execution": {
     "iopub.execute_input": "2022-03-18T06:45:43.018110Z",
     "iopub.status.busy": "2022-03-18T06:45:43.017862Z",
     "iopub.status.idle": "2022-03-18T06:45:43.028579Z",
     "shell.execute_reply": "2022-03-18T06:45:43.028099Z"
    },
    "papermill": {
     "duration": 0.025502,
     "end_time": "2022-03-18T06:45:43.028677",
     "exception": false,
     "start_time": "2022-03-18T06:45:43.003175",
     "status": "completed"
    },
    "tags": []
   },
   "outputs": [],
   "source": [
    "# global_x_transform_func = lambda x: normalize(x.to(torch.get_default_dtype()), \"unit_power\") # unit_power, unit_mag\n",
    "# global_x_transform_func = lambda x: normalize(x, \"unit_power\") # unit_power, unit_mag"
   ]
  },
  {
   "cell_type": "code",
   "execution_count": 12,
   "id": "acb78fd2",
   "metadata": {
    "execution": {
     "iopub.execute_input": "2022-03-18T06:45:43.067849Z",
     "iopub.status.busy": "2022-03-18T06:45:43.062073Z",
     "iopub.status.idle": "2022-03-18T06:45:43.079606Z",
     "shell.execute_reply": "2022-03-18T06:45:43.079096Z"
    },
    "papermill": {
     "duration": 0.032376,
     "end_time": "2022-03-18T06:45:43.079708",
     "exception": false,
     "start_time": "2022-03-18T06:45:43.047332",
     "status": "completed"
    },
    "tags": []
   },
   "outputs": [],
   "source": [
    "def add_dataset(\n",
    "    labels,\n",
    "    domains,\n",
    "    pickle_path,\n",
    "    x_transforms,\n",
    "    episode_transforms,\n",
    "    domain_prefix,\n",
    "    num_examples_per_domain_per_label,\n",
    "    source_or_target_dataset:str,\n",
    "    iterator_seed=p.seed,\n",
    "    dataset_seed=p.dataset_seed,\n",
    "    n_shot=p.n_shot,\n",
    "    n_way=p.n_way,\n",
    "    n_query=p.n_query,\n",
    "    train_val_test_k_factors=(p.train_k_factor,p.val_k_factor,p.test_k_factor),\n",
    "):\n",
    "   \n",
    "    if x_transforms == []: x_transform = None\n",
    "    else: x_transform = get_chained_transform(x_transforms)\n",
    "    \n",
    "    if episode_transforms == []: episode_transform = None\n",
    "    else: raise Exception(\"episode_transforms not implemented\")\n",
    "    \n",
    "    episode_transform = lambda tup, _prefix=domain_prefix: (_prefix + str(tup[0]), tup[1])\n",
    "\n",
    "\n",
    "    eaf = Episodic_Accessor_Factory(\n",
    "        labels=labels,\n",
    "        domains=domains,\n",
    "        num_examples_per_domain_per_label=num_examples_per_domain_per_label,\n",
    "        iterator_seed=iterator_seed,\n",
    "        dataset_seed=dataset_seed,\n",
    "        n_shot=n_shot,\n",
    "        n_way=n_way,\n",
    "        n_query=n_query,\n",
    "        train_val_test_k_factors=train_val_test_k_factors,\n",
    "        pickle_path=pickle_path,\n",
    "        x_transform_func=x_transform,\n",
    "    )\n",
    "\n",
    "    train, val, test = eaf.get_train(), eaf.get_val(), eaf.get_test()\n",
    "    train = Lazy_Iterable_Wrapper(train, episode_transform)\n",
    "    val = Lazy_Iterable_Wrapper(val, episode_transform)\n",
    "    test = Lazy_Iterable_Wrapper(test, episode_transform)\n",
    "\n",
    "    if source_or_target_dataset==\"source\":\n",
    "        train_original_source.append(train)\n",
    "        val_original_source.append(val)\n",
    "        test_original_source.append(test)\n",
    "\n",
    "        p.domains_source.extend(\n",
    "            [domain_prefix + str(u) for u in domains]\n",
    "        )\n",
    "    elif source_or_target_dataset==\"target\":\n",
    "        train_original_target.append(train)\n",
    "        val_original_target.append(val)\n",
    "        test_original_target.append(test)\n",
    "        p.domains_target.extend(\n",
    "            [domain_prefix + str(u) for u in domains]\n",
    "        )\n",
    "    else:\n",
    "        raise Exception(f\"invalid source_or_target_dataset: {source_or_target_dataset}\")\n",
    "    "
   ]
  },
  {
   "cell_type": "code",
   "execution_count": 13,
   "id": "fe266617",
   "metadata": {
    "execution": {
     "iopub.execute_input": "2022-03-18T06:45:43.114504Z",
     "iopub.status.busy": "2022-03-18T06:45:43.114260Z",
     "iopub.status.idle": "2022-03-18T06:46:40.483042Z",
     "shell.execute_reply": "2022-03-18T06:46:40.482591Z"
    },
    "papermill": {
     "duration": 57.38397,
     "end_time": "2022-03-18T06:46:40.483150",
     "exception": false,
     "start_time": "2022-03-18T06:45:43.099180",
     "status": "completed"
    },
    "tags": []
   },
   "outputs": [],
   "source": [
    "for ds in p.datasets:\n",
    "    add_dataset(**ds)"
   ]
  },
  {
   "cell_type": "code",
   "execution_count": 14,
   "id": "b90d65ac",
   "metadata": {
    "execution": {
     "iopub.execute_input": "2022-03-18T06:46:40.516715Z",
     "iopub.status.busy": "2022-03-18T06:46:40.516459Z",
     "iopub.status.idle": "2022-03-18T06:46:40.526982Z",
     "shell.execute_reply": "2022-03-18T06:46:40.527283Z"
    },
    "papermill": {
     "duration": 0.026288,
     "end_time": "2022-03-18T06:46:40.527381",
     "exception": false,
     "start_time": "2022-03-18T06:46:40.501093",
     "status": "completed"
    },
    "tags": []
   },
   "outputs": [],
   "source": [
    "# from steves_utils.CORES.utils import (\n",
    "#     ALL_NODES,\n",
    "#     ALL_NODES_MINIMUM_1000_EXAMPLES,\n",
    "#     ALL_DAYS\n",
    "# )\n",
    "\n",
    "# add_dataset(\n",
    "#     labels=ALL_NODES,\n",
    "#     domains = ALL_DAYS,\n",
    "#     num_examples_per_domain_per_label=100,\n",
    "#     pickle_path=os.path.join(get_datasets_base_path(), \"cores.stratified_ds.2022A.pkl\"),\n",
    "#     source_or_target_dataset=\"target\",\n",
    "#     x_transform_func=global_x_transform_func,\n",
    "#     domain_modifier=lambda u: f\"cores_{u}\"\n",
    "# )"
   ]
  },
  {
   "cell_type": "code",
   "execution_count": 15,
   "id": "76db484d",
   "metadata": {
    "execution": {
     "iopub.execute_input": "2022-03-18T06:46:40.562213Z",
     "iopub.status.busy": "2022-03-18T06:46:40.561963Z",
     "iopub.status.idle": "2022-03-18T06:46:40.572369Z",
     "shell.execute_reply": "2022-03-18T06:46:40.572743Z"
    },
    "papermill": {
     "duration": 0.025878,
     "end_time": "2022-03-18T06:46:40.572863",
     "exception": false,
     "start_time": "2022-03-18T06:46:40.546985",
     "status": "completed"
    },
    "tags": []
   },
   "outputs": [],
   "source": [
    "# from steves_utils.ORACLE.utils_v2 import (\n",
    "#     ALL_DISTANCES_FEET,\n",
    "#     ALL_RUNS,\n",
    "#     ALL_SERIAL_NUMBERS,\n",
    "# )\n",
    "\n",
    "\n",
    "# add_dataset(\n",
    "#     labels=ALL_SERIAL_NUMBERS,\n",
    "#     domains = list(set(ALL_DISTANCES_FEET) - {2,62}),\n",
    "#     num_examples_per_domain_per_label=100,\n",
    "#     pickle_path=os.path.join(get_datasets_base_path(), \"oracle.Run2_framed_2000Examples_stratified_ds.2022A.pkl\"),\n",
    "#     source_or_target_dataset=\"source\",\n",
    "#     x_transform_func=global_x_transform_func,\n",
    "#     domain_modifier=lambda u: f\"oracle1_{u}\"\n",
    "# )\n"
   ]
  },
  {
   "cell_type": "code",
   "execution_count": 16,
   "id": "97dea9d2",
   "metadata": {
    "execution": {
     "iopub.execute_input": "2022-03-18T06:46:40.607347Z",
     "iopub.status.busy": "2022-03-18T06:46:40.607072Z",
     "iopub.status.idle": "2022-03-18T06:46:40.617677Z",
     "shell.execute_reply": "2022-03-18T06:46:40.617197Z"
    },
    "papermill": {
     "duration": 0.025935,
     "end_time": "2022-03-18T06:46:40.617776",
     "exception": false,
     "start_time": "2022-03-18T06:46:40.591841",
     "status": "completed"
    },
    "tags": []
   },
   "outputs": [],
   "source": [
    "# from steves_utils.ORACLE.utils_v2 import (\n",
    "#     ALL_DISTANCES_FEET,\n",
    "#     ALL_RUNS,\n",
    "#     ALL_SERIAL_NUMBERS,\n",
    "# )\n",
    "\n",
    "\n",
    "# add_dataset(\n",
    "#     labels=ALL_SERIAL_NUMBERS,\n",
    "#     domains = list(set(ALL_DISTANCES_FEET) - {2,62,56}),\n",
    "#     num_examples_per_domain_per_label=100,\n",
    "#     pickle_path=os.path.join(get_datasets_base_path(), \"oracle.Run2_framed_2000Examples_stratified_ds.2022A.pkl\"),\n",
    "#     source_or_target_dataset=\"source\",\n",
    "#     x_transform_func=global_x_transform_func,\n",
    "#     domain_modifier=lambda u: f\"oracle2_{u}\"\n",
    "# )"
   ]
  },
  {
   "cell_type": "code",
   "execution_count": 17,
   "id": "6f289866",
   "metadata": {
    "execution": {
     "iopub.execute_input": "2022-03-18T06:46:40.651908Z",
     "iopub.status.busy": "2022-03-18T06:46:40.651661Z",
     "iopub.status.idle": "2022-03-18T06:46:40.662948Z",
     "shell.execute_reply": "2022-03-18T06:46:40.662530Z"
    },
    "papermill": {
     "duration": 0.026582,
     "end_time": "2022-03-18T06:46:40.663047",
     "exception": false,
     "start_time": "2022-03-18T06:46:40.636465",
     "status": "completed"
    },
    "tags": []
   },
   "outputs": [],
   "source": [
    "# add_dataset(\n",
    "#     labels=list(range(19)),\n",
    "#     domains = [0,1,2],\n",
    "#     num_examples_per_domain_per_label=100,\n",
    "#     pickle_path=os.path.join(get_datasets_base_path(), \"metehan.stratified_ds.2022A.pkl\"),\n",
    "#     source_or_target_dataset=\"target\",\n",
    "#     x_transform_func=global_x_transform_func,\n",
    "#     domain_modifier=lambda u: f\"met_{u}\"\n",
    "# )"
   ]
  },
  {
   "cell_type": "code",
   "execution_count": 18,
   "id": "86a863c3",
   "metadata": {
    "execution": {
     "iopub.execute_input": "2022-03-18T06:46:40.696614Z",
     "iopub.status.busy": "2022-03-18T06:46:40.696364Z",
     "iopub.status.idle": "2022-03-18T06:46:40.707453Z",
     "shell.execute_reply": "2022-03-18T06:46:40.707019Z"
    },
    "papermill": {
     "duration": 0.026448,
     "end_time": "2022-03-18T06:46:40.707557",
     "exception": false,
     "start_time": "2022-03-18T06:46:40.681109",
     "status": "completed"
    },
    "tags": []
   },
   "outputs": [],
   "source": [
    "# # from steves_utils.wisig.utils import (\n",
    "# #     ALL_NODES_MINIMUM_100_EXAMPLES,\n",
    "# #     ALL_NODES_MINIMUM_500_EXAMPLES,\n",
    "# #     ALL_NODES_MINIMUM_1000_EXAMPLES,\n",
    "# #     ALL_DAYS\n",
    "# # )\n",
    "\n",
    "# import steves_utils.wisig.utils as wisig\n",
    "\n",
    "\n",
    "# add_dataset(\n",
    "#     labels=wisig.ALL_NODES_MINIMUM_100_EXAMPLES,\n",
    "#     domains = wisig.ALL_DAYS,\n",
    "#     num_examples_per_domain_per_label=100,\n",
    "#     pickle_path=os.path.join(get_datasets_base_path(), \"wisig.node3-19.stratified_ds.2022A.pkl\"),\n",
    "#     source_or_target_dataset=\"target\",\n",
    "#     x_transform_func=global_x_transform_func,\n",
    "#     domain_modifier=lambda u: f\"wisig_{u}\"\n",
    "# )"
   ]
  },
  {
   "cell_type": "code",
   "execution_count": 19,
   "id": "fd5442bc",
   "metadata": {
    "execution": {
     "iopub.execute_input": "2022-03-18T06:46:40.744572Z",
     "iopub.status.busy": "2022-03-18T06:46:40.744310Z",
     "iopub.status.idle": "2022-03-18T06:46:40.761705Z",
     "shell.execute_reply": "2022-03-18T06:46:40.761220Z"
    },
    "papermill": {
     "duration": 0.036288,
     "end_time": "2022-03-18T06:46:40.761805",
     "exception": false,
     "start_time": "2022-03-18T06:46:40.725517",
     "status": "completed"
    },
    "tags": []
   },
   "outputs": [],
   "source": [
    "###################################\n",
    "# Build the dataset\n",
    "###################################\n",
    "train_original_source = Iterable_Aggregator(train_original_source, p.seed)\n",
    "val_original_source = Iterable_Aggregator(val_original_source, p.seed)\n",
    "test_original_source = Iterable_Aggregator(test_original_source, p.seed)\n",
    "\n",
    "\n",
    "train_original_target = Iterable_Aggregator(train_original_target, p.seed)\n",
    "val_original_target = Iterable_Aggregator(val_original_target, p.seed)\n",
    "test_original_target = Iterable_Aggregator(test_original_target, p.seed)\n",
    "\n",
    "# For CNN We only use X and Y. And we only train on the source.\n",
    "# Properly form the data using a transform lambda and Lazy_Iterable_Wrapper. Finally wrap them in a dataloader\n",
    "\n",
    "transform_lambda = lambda ex: ex[1] # Original is (<domain>, <episode>) so we strip down to episode only\n",
    "\n",
    "train_processed_source = Lazy_Iterable_Wrapper(train_original_source, transform_lambda)\n",
    "val_processed_source   = Lazy_Iterable_Wrapper(val_original_source, transform_lambda)\n",
    "test_processed_source  = Lazy_Iterable_Wrapper(test_original_source, transform_lambda)\n",
    "\n",
    "train_processed_target = Lazy_Iterable_Wrapper(train_original_target, transform_lambda)\n",
    "val_processed_target   = Lazy_Iterable_Wrapper(val_original_target, transform_lambda)\n",
    "test_processed_target  = Lazy_Iterable_Wrapper(test_original_target, transform_lambda)\n",
    "\n",
    "datasets = EasyDict({\n",
    "    \"source\": {\n",
    "        \"original\": {\"train\":train_original_source, \"val\":val_original_source, \"test\":test_original_source},\n",
    "        \"processed\": {\"train\":train_processed_source, \"val\":val_processed_source, \"test\":test_processed_source}\n",
    "    },\n",
    "    \"target\": {\n",
    "        \"original\": {\"train\":train_original_target, \"val\":val_original_target, \"test\":test_original_target},\n",
    "        \"processed\": {\"train\":train_processed_target, \"val\":val_processed_target, \"test\":test_processed_target}\n",
    "    },\n",
    "})"
   ]
  },
  {
   "cell_type": "code",
   "execution_count": 20,
   "id": "5b3c01fc",
   "metadata": {
    "execution": {
     "iopub.execute_input": "2022-03-18T06:46:40.795458Z",
     "iopub.status.busy": "2022-03-18T06:46:40.795181Z",
     "iopub.status.idle": "2022-03-18T06:46:45.729016Z",
     "shell.execute_reply": "2022-03-18T06:46:45.729454Z"
    },
    "papermill": {
     "duration": 4.950725,
     "end_time": "2022-03-18T06:46:45.729586",
     "exception": false,
     "start_time": "2022-03-18T06:46:40.778861",
     "status": "completed"
    },
    "tags": []
   },
   "outputs": [
    {
     "name": "stdout",
     "output_type": "stream",
     "text": [
      "{'ORACLE.run1_8', 'ORACLE.run1_50', 'ORACLE.run1_14', 'ORACLE.run1_26', 'ORACLE.run1_44', 'ORACLE.run1_38', 'ORACLE.run1_20', 'ORACLE.run1_32'}\n"
     ]
    },
    {
     "name": "stdout",
     "output_type": "stream",
     "text": [
      "{'W_A_3', 'C_A_4', 'C_A_2', 'W_A_1', 'W_A_4', 'C_A_1', 'W_A_2', 'C_A_3', 'C_A_5'}\n"
     ]
    },
    {
     "name": "stdout",
     "output_type": "stream",
     "text": [
      "tensor([[[0., 0., 0.,  ..., 0., 0., 0.],\n",
      "         [0., 0., 0.,  ..., 0., 0., 0.]],\n",
      "\n",
      "        [[0., 0., 0.,  ..., 0., 0., 0.],\n",
      "         [0., 0., 0.,  ..., 0., 0., 0.]],\n",
      "\n",
      "        [[0., 0., 0.,  ..., 0., 0., 0.],\n",
      "         [0., 0., 0.,  ..., 0., 0., 0.]],\n",
      "\n",
      "        ...,\n",
      "\n",
      "        [[0., 0., 0.,  ..., 0., 0., 0.],\n",
      "         [0., 0., 0.,  ..., 0., 0., 0.]],\n",
      "\n",
      "        [[0., 0., 0.,  ..., 0., 0., 0.],\n",
      "         [0., 0., 0.,  ..., 0., 0., 0.]],\n",
      "\n",
      "        [[0., 0., 0.,  ..., 0., 0., 0.],\n",
      "         [0., 0., 0.,  ..., 0., 0., 0.]]])\n"
     ]
    }
   ],
   "source": [
    "from steves_utils.transforms import get_average_magnitude, get_average_power\n",
    "\n",
    "print(set([u for u,_ in val_original_source]))\n",
    "print(set([u for u,_ in val_original_target]))\n",
    "\n",
    "s_x, s_y, q_x, q_y, _ = next(iter(train_processed_source))\n",
    "print(s_x)\n",
    "\n",
    "# for ds in [\n",
    "#     train_processed_source,\n",
    "#     val_processed_source,\n",
    "#     test_processed_source,\n",
    "#     train_processed_target,\n",
    "#     val_processed_target,\n",
    "#     test_processed_target\n",
    "# ]:\n",
    "#     for s_x, s_y, q_x, q_y, _ in ds:\n",
    "#         for X in (s_x, q_x):\n",
    "#             for x in X:\n",
    "#                 assert np.isclose(get_average_magnitude(x.numpy()), 1.0)\n",
    "#                 assert np.isclose(get_average_power(x.numpy()), 1.0)\n",
    "                "
   ]
  },
  {
   "cell_type": "code",
   "execution_count": 21,
   "id": "bbdacba1",
   "metadata": {
    "execution": {
     "iopub.execute_input": "2022-03-18T06:46:45.776026Z",
     "iopub.status.busy": "2022-03-18T06:46:45.775767Z",
     "iopub.status.idle": "2022-03-18T06:46:45.840957Z",
     "shell.execute_reply": "2022-03-18T06:46:45.841164Z"
    },
    "papermill": {
     "duration": 0.087155,
     "end_time": "2022-03-18T06:46:45.841234",
     "exception": false,
     "start_time": "2022-03-18T06:46:45.754079",
     "status": "completed"
    },
    "tags": []
   },
   "outputs": [
    {
     "name": "stdout",
     "output_type": "stream",
     "text": [
      "(2, 256)\n"
     ]
    }
   ],
   "source": [
    "###################################\n",
    "# Build the model\n",
    "###################################\n",
    "# easfsl only wants a tuple for the shape\n",
    "model = Steves_Prototypical_Network(x_net, device=p.device, x_shape=tuple(p.x_shape))\n",
    "optimizer = Adam(params=model.parameters(), lr=p.lr)"
   ]
  },
  {
   "cell_type": "code",
   "execution_count": 22,
   "id": "22b39ac5",
   "metadata": {
    "execution": {
     "iopub.execute_input": "2022-03-18T06:46:45.875316Z",
     "iopub.status.busy": "2022-03-18T06:46:45.875054Z",
     "iopub.status.idle": "2022-03-18T07:07:30.831062Z",
     "shell.execute_reply": "2022-03-18T07:07:30.830829Z"
    },
    "papermill": {
     "duration": 1244.972661,
     "end_time": "2022-03-18T07:07:30.831121",
     "exception": false,
     "start_time": "2022-03-18T06:46:45.858460",
     "status": "completed"
    },
    "tags": []
   },
   "outputs": [
    {
     "name": "stdout",
     "output_type": "stream",
     "text": [
      "epoch: 1, [batch: 1 / 6720], examples_per_second: 50.2675, train_label_loss: 2.7640, \n"
     ]
    },
    {
     "name": "stdout",
     "output_type": "stream",
     "text": [
      "epoch: 1, [batch: 672 / 6720], examples_per_second: 3234.1009, train_label_loss: 2.7882, \n"
     ]
    },
    {
     "name": "stdout",
     "output_type": "stream",
     "text": [
      "epoch: 1, [batch: 1344 / 6720], examples_per_second: 3258.4282, train_label_loss: 2.9163, \n"
     ]
    },
    {
     "name": "stdout",
     "output_type": "stream",
     "text": [
      "epoch: 1, [batch: 2016 / 6720], examples_per_second: 3233.1019, train_label_loss: 2.7689, \n"
     ]
    },
    {
     "name": "stdout",
     "output_type": "stream",
     "text": [
      "epoch: 1, [batch: 2688 / 6720], examples_per_second: 3210.0053, train_label_loss: 2.2004, \n"
     ]
    },
    {
     "name": "stdout",
     "output_type": "stream",
     "text": [
      "epoch: 1, [batch: 3360 / 6720], examples_per_second: 3215.7791, train_label_loss: 1.4964, \n"
     ]
    },
    {
     "name": "stdout",
     "output_type": "stream",
     "text": [
      "epoch: 1, [batch: 4032 / 6720], examples_per_second: 3216.0748, train_label_loss: 1.5271, \n"
     ]
    },
    {
     "name": "stdout",
     "output_type": "stream",
     "text": [
      "epoch: 1, [batch: 4704 / 6720], examples_per_second: 3207.8976, train_label_loss: 1.4630, \n"
     ]
    },
    {
     "name": "stdout",
     "output_type": "stream",
     "text": [
      "epoch: 1, [batch: 5376 / 6720], examples_per_second: 3217.6489, train_label_loss: 1.4068, \n"
     ]
    },
    {
     "name": "stdout",
     "output_type": "stream",
     "text": [
      "epoch: 1, [batch: 6048 / 6720], examples_per_second: 3219.9546, train_label_loss: 1.0414, \n"
     ]
    },
    {
     "name": "stdout",
     "output_type": "stream",
     "text": [
      "=============================================================\n",
      "epoch: 1, source_val_acc_label: 0.5629, target_val_acc_label: 0.3110, source_val_label_loss: 14.9124, target_val_label_loss: 2704.4751, \n",
      "=============================================================\n"
     ]
    },
    {
     "name": "stdout",
     "output_type": "stream",
     "text": [
      "New best\n"
     ]
    },
    {
     "name": "stdout",
     "output_type": "stream",
     "text": [
      "epoch: 2, [batch: 1 / 6720], examples_per_second: 5.5563, train_label_loss: 39.0811, \n"
     ]
    },
    {
     "name": "stdout",
     "output_type": "stream",
     "text": [
      "epoch: 2, [batch: 672 / 6720], examples_per_second: 3243.2724, train_label_loss: 0.7984, \n"
     ]
    },
    {
     "name": "stdout",
     "output_type": "stream",
     "text": [
      "epoch: 2, [batch: 1344 / 6720], examples_per_second: 3235.7212, train_label_loss: 0.7399, \n"
     ]
    },
    {
     "name": "stdout",
     "output_type": "stream",
     "text": [
      "epoch: 2, [batch: 2016 / 6720], examples_per_second: 3235.0821, train_label_loss: 1.3800, \n"
     ]
    },
    {
     "name": "stdout",
     "output_type": "stream",
     "text": [
      "epoch: 2, [batch: 2688 / 6720], examples_per_second: 3215.8143, train_label_loss: 0.9567, \n"
     ]
    },
    {
     "name": "stdout",
     "output_type": "stream",
     "text": [
      "epoch: 2, [batch: 3360 / 6720], examples_per_second: 3244.2499, train_label_loss: 1.1667, \n"
     ]
    },
    {
     "name": "stdout",
     "output_type": "stream",
     "text": [
      "epoch: 2, [batch: 4032 / 6720], examples_per_second: 3247.3332, train_label_loss: 0.7630, \n"
     ]
    },
    {
     "name": "stdout",
     "output_type": "stream",
     "text": [
      "epoch: 2, [batch: 4704 / 6720], examples_per_second: 3234.8425, train_label_loss: 1.1236, \n"
     ]
    },
    {
     "name": "stdout",
     "output_type": "stream",
     "text": [
      "epoch: 2, [batch: 5376 / 6720], examples_per_second: 3261.6914, train_label_loss: 1.3237, \n"
     ]
    },
    {
     "name": "stdout",
     "output_type": "stream",
     "text": [
      "epoch: 2, [batch: 6048 / 6720], examples_per_second: 3248.1445, train_label_loss: 0.7102, \n"
     ]
    },
    {
     "name": "stdout",
     "output_type": "stream",
     "text": [
      "=============================================================\n",
      "epoch: 2, source_val_acc_label: 0.6441, target_val_acc_label: 0.5580, source_val_label_loss: 0.9487, target_val_label_loss: 766.0661, \n",
      "=============================================================\n"
     ]
    },
    {
     "name": "stdout",
     "output_type": "stream",
     "text": [
      "New best\n"
     ]
    },
    {
     "name": "stdout",
     "output_type": "stream",
     "text": [
      "epoch: 3, [batch: 1 / 6720], examples_per_second: 5.6037, train_label_loss: 1.1685, \n"
     ]
    },
    {
     "name": "stdout",
     "output_type": "stream",
     "text": [
      "epoch: 3, [batch: 672 / 6720], examples_per_second: 3231.3972, train_label_loss: 0.5798, \n"
     ]
    },
    {
     "name": "stdout",
     "output_type": "stream",
     "text": [
      "epoch: 3, [batch: 1344 / 6720], examples_per_second: 3248.8783, train_label_loss: 0.6624, \n"
     ]
    },
    {
     "name": "stdout",
     "output_type": "stream",
     "text": [
      "epoch: 3, [batch: 2016 / 6720], examples_per_second: 3255.3917, train_label_loss: 0.7448, \n"
     ]
    },
    {
     "name": "stdout",
     "output_type": "stream",
     "text": [
      "epoch: 3, [batch: 2688 / 6720], examples_per_second: 3233.3173, train_label_loss: 0.7468, \n"
     ]
    },
    {
     "name": "stdout",
     "output_type": "stream",
     "text": [
      "epoch: 3, [batch: 3360 / 6720], examples_per_second: 3243.5788, train_label_loss: 1.3827, \n"
     ]
    },
    {
     "name": "stdout",
     "output_type": "stream",
     "text": [
      "epoch: 3, [batch: 4032 / 6720], examples_per_second: 3264.8707, train_label_loss: 1.2154, \n"
     ]
    },
    {
     "name": "stdout",
     "output_type": "stream",
     "text": [
      "epoch: 3, [batch: 4704 / 6720], examples_per_second: 3242.5058, train_label_loss: 0.6494, \n"
     ]
    },
    {
     "name": "stdout",
     "output_type": "stream",
     "text": [
      "epoch: 3, [batch: 5376 / 6720], examples_per_second: 3262.4295, train_label_loss: 0.9097, \n"
     ]
    },
    {
     "name": "stdout",
     "output_type": "stream",
     "text": [
      "epoch: 3, [batch: 6048 / 6720], examples_per_second: 3248.9367, train_label_loss: 0.6967, \n"
     ]
    },
    {
     "name": "stdout",
     "output_type": "stream",
     "text": [
      "=============================================================\n",
      "epoch: 3, source_val_acc_label: 0.6637, target_val_acc_label: 0.6833, source_val_label_loss: 0.9312, target_val_label_loss: 426.4367, \n",
      "=============================================================\n"
     ]
    },
    {
     "name": "stdout",
     "output_type": "stream",
     "text": [
      "New best\n"
     ]
    },
    {
     "name": "stdout",
     "output_type": "stream",
     "text": [
      "epoch: 4, [batch: 1 / 6720], examples_per_second: 5.6031, train_label_loss: 1.1415, \n"
     ]
    },
    {
     "name": "stdout",
     "output_type": "stream",
     "text": [
      "epoch: 4, [batch: 672 / 6720], examples_per_second: 3236.4590, train_label_loss: 0.6840, \n"
     ]
    },
    {
     "name": "stdout",
     "output_type": "stream",
     "text": [
      "epoch: 4, [batch: 1344 / 6720], examples_per_second: 3248.3548, train_label_loss: 1.6765, \n"
     ]
    },
    {
     "name": "stdout",
     "output_type": "stream",
     "text": [
      "epoch: 4, [batch: 2016 / 6720], examples_per_second: 3269.3979, train_label_loss: 1.0231, \n"
     ]
    },
    {
     "name": "stdout",
     "output_type": "stream",
     "text": [
      "epoch: 4, [batch: 2688 / 6720], examples_per_second: 3252.2085, train_label_loss: 0.9857, \n"
     ]
    },
    {
     "name": "stdout",
     "output_type": "stream",
     "text": [
      "epoch: 4, [batch: 3360 / 6720], examples_per_second: 3239.6964, train_label_loss: 0.6349, \n"
     ]
    },
    {
     "name": "stdout",
     "output_type": "stream",
     "text": [
      "epoch: 4, [batch: 4032 / 6720], examples_per_second: 3248.3929, train_label_loss: 1.3073, \n"
     ]
    },
    {
     "name": "stdout",
     "output_type": "stream",
     "text": [
      "epoch: 4, [batch: 4704 / 6720], examples_per_second: 3237.2981, train_label_loss: 0.7123, \n"
     ]
    },
    {
     "name": "stdout",
     "output_type": "stream",
     "text": [
      "epoch: 4, [batch: 5376 / 6720], examples_per_second: 3249.1070, train_label_loss: 1.1794, \n"
     ]
    },
    {
     "name": "stdout",
     "output_type": "stream",
     "text": [
      "epoch: 4, [batch: 6048 / 6720], examples_per_second: 3246.6258, train_label_loss: 0.6433, \n"
     ]
    },
    {
     "name": "stdout",
     "output_type": "stream",
     "text": [
      "=============================================================\n",
      "epoch: 4, source_val_acc_label: 0.6698, target_val_acc_label: 0.6554, source_val_label_loss: 0.8971, target_val_label_loss: 584.5916, \n",
      "=============================================================\n"
     ]
    },
    {
     "name": "stdout",
     "output_type": "stream",
     "text": [
      "epoch: 5, [batch: 1 / 6720], examples_per_second: 5.6281, train_label_loss: 0.6460, \n"
     ]
    },
    {
     "name": "stdout",
     "output_type": "stream",
     "text": [
      "epoch: 5, [batch: 672 / 6720], examples_per_second: 3240.3254, train_label_loss: 0.6835, \n"
     ]
    },
    {
     "name": "stdout",
     "output_type": "stream",
     "text": [
      "epoch: 5, [batch: 1344 / 6720], examples_per_second: 3251.1975, train_label_loss: 0.6128, \n"
     ]
    },
    {
     "name": "stdout",
     "output_type": "stream",
     "text": [
      "epoch: 5, [batch: 2016 / 6720], examples_per_second: 3250.4212, train_label_loss: 1.2449, \n"
     ]
    },
    {
     "name": "stdout",
     "output_type": "stream",
     "text": [
      "epoch: 5, [batch: 2688 / 6720], examples_per_second: 3233.5587, train_label_loss: 0.8323, \n"
     ]
    },
    {
     "name": "stdout",
     "output_type": "stream",
     "text": [
      "epoch: 5, [batch: 3360 / 6720], examples_per_second: 3237.5093, train_label_loss: 0.5711, \n"
     ]
    },
    {
     "name": "stdout",
     "output_type": "stream",
     "text": [
      "epoch: 5, [batch: 4032 / 6720], examples_per_second: 3219.6498, train_label_loss: 0.6583, \n"
     ]
    },
    {
     "name": "stdout",
     "output_type": "stream",
     "text": [
      "epoch: 5, [batch: 4704 / 6720], examples_per_second: 3244.4484, train_label_loss: 0.7243, \n"
     ]
    },
    {
     "name": "stdout",
     "output_type": "stream",
     "text": [
      "epoch: 5, [batch: 5376 / 6720], examples_per_second: 3246.7241, train_label_loss: 1.0890, \n"
     ]
    },
    {
     "name": "stdout",
     "output_type": "stream",
     "text": [
      "epoch: 5, [batch: 6048 / 6720], examples_per_second: 3258.2216, train_label_loss: 0.5345, \n"
     ]
    },
    {
     "name": "stdout",
     "output_type": "stream",
     "text": [
      "=============================================================\n",
      "epoch: 5, source_val_acc_label: 0.6886, target_val_acc_label: 0.6160, source_val_label_loss: 0.8484, target_val_label_loss: 1046.1879, \n",
      "=============================================================\n"
     ]
    },
    {
     "name": "stdout",
     "output_type": "stream",
     "text": [
      "epoch: 6, [batch: 1 / 6720], examples_per_second: 5.5964, train_label_loss: 0.6357, \n"
     ]
    },
    {
     "name": "stdout",
     "output_type": "stream",
     "text": [
      "epoch: 6, [batch: 672 / 6720], examples_per_second: 3230.0640, train_label_loss: 1.0078, \n"
     ]
    },
    {
     "name": "stdout",
     "output_type": "stream",
     "text": [
      "epoch: 6, [batch: 1344 / 6720], examples_per_second: 3230.7979, train_label_loss: 1.2194, \n"
     ]
    },
    {
     "name": "stdout",
     "output_type": "stream",
     "text": [
      "epoch: 6, [batch: 2016 / 6720], examples_per_second: 3255.4084, train_label_loss: 0.8213, \n"
     ]
    },
    {
     "name": "stdout",
     "output_type": "stream",
     "text": [
      "epoch: 6, [batch: 2688 / 6720], examples_per_second: 3229.2515, train_label_loss: 0.4924, \n"
     ]
    },
    {
     "name": "stdout",
     "output_type": "stream",
     "text": [
      "epoch: 6, [batch: 3360 / 6720], examples_per_second: 3242.4378, train_label_loss: 0.3901, \n"
     ]
    },
    {
     "name": "stdout",
     "output_type": "stream",
     "text": [
      "epoch: 6, [batch: 4032 / 6720], examples_per_second: 3238.2489, train_label_loss: 0.6883, \n"
     ]
    },
    {
     "name": "stdout",
     "output_type": "stream",
     "text": [
      "epoch: 6, [batch: 4704 / 6720], examples_per_second: 3225.3396, train_label_loss: 0.8547, \n"
     ]
    },
    {
     "name": "stdout",
     "output_type": "stream",
     "text": [
      "epoch: 6, [batch: 5376 / 6720], examples_per_second: 3236.0792, train_label_loss: 0.9246, \n"
     ]
    },
    {
     "name": "stdout",
     "output_type": "stream",
     "text": [
      "epoch: 6, [batch: 6048 / 6720], examples_per_second: 3237.1474, train_label_loss: 0.9729, \n"
     ]
    },
    {
     "name": "stdout",
     "output_type": "stream",
     "text": [
      "=============================================================\n",
      "epoch: 6, source_val_acc_label: 0.6897, target_val_acc_label: 0.5802, source_val_label_loss: 0.8282, target_val_label_loss: 1450.9526, \n",
      "=============================================================\n"
     ]
    },
    {
     "name": "stdout",
     "output_type": "stream",
     "text": [
      "epoch: 7, [batch: 1 / 6720], examples_per_second: 5.6067, train_label_loss: 0.3327, \n"
     ]
    },
    {
     "name": "stdout",
     "output_type": "stream",
     "text": [
      "epoch: 7, [batch: 672 / 6720], examples_per_second: 3221.6678, train_label_loss: 1.2396, \n"
     ]
    },
    {
     "name": "stdout",
     "output_type": "stream",
     "text": [
      "epoch: 7, [batch: 1344 / 6720], examples_per_second: 3251.7315, train_label_loss: 0.8051, \n"
     ]
    },
    {
     "name": "stdout",
     "output_type": "stream",
     "text": [
      "epoch: 7, [batch: 2016 / 6720], examples_per_second: 3244.0685, train_label_loss: 1.1417, \n"
     ]
    },
    {
     "name": "stdout",
     "output_type": "stream",
     "text": [
      "epoch: 7, [batch: 2688 / 6720], examples_per_second: 3248.6724, train_label_loss: 0.6821, \n"
     ]
    },
    {
     "name": "stdout",
     "output_type": "stream",
     "text": [
      "epoch: 7, [batch: 3360 / 6720], examples_per_second: 3262.1923, train_label_loss: 1.3685, \n"
     ]
    },
    {
     "name": "stdout",
     "output_type": "stream",
     "text": [
      "epoch: 7, [batch: 4032 / 6720], examples_per_second: 3256.5665, train_label_loss: 0.6550, \n"
     ]
    },
    {
     "name": "stdout",
     "output_type": "stream",
     "text": [
      "epoch: 7, [batch: 4704 / 6720], examples_per_second: 3240.4026, train_label_loss: 0.6289, \n"
     ]
    },
    {
     "name": "stdout",
     "output_type": "stream",
     "text": [
      "epoch: 7, [batch: 5376 / 6720], examples_per_second: 3252.5514, train_label_loss: 0.6175, \n"
     ]
    },
    {
     "name": "stdout",
     "output_type": "stream",
     "text": [
      "epoch: 7, [batch: 6048 / 6720], examples_per_second: 3251.8810, train_label_loss: 0.7379, \n"
     ]
    },
    {
     "name": "stdout",
     "output_type": "stream",
     "text": [
      "=============================================================\n",
      "epoch: 7, source_val_acc_label: 0.6854, target_val_acc_label: 0.5107, source_val_label_loss: 0.8852, target_val_label_loss: 2152.5962, \n",
      "=============================================================\n"
     ]
    },
    {
     "name": "stdout",
     "output_type": "stream",
     "text": [
      "Patience (3) exhausted\n"
     ]
    }
   ],
   "source": [
    "###################################\n",
    "# train\n",
    "###################################\n",
    "jig = PTN_Train_Eval_Test_Jig(model, p.BEST_MODEL_PATH, p.device)\n",
    "\n",
    "jig.train(\n",
    "    train_iterable=datasets.source.processed.train,\n",
    "    source_val_iterable=datasets.source.processed.val,\n",
    "    target_val_iterable=datasets.target.processed.val,\n",
    "    num_epochs=p.n_epoch,\n",
    "    num_logs_per_epoch=p.NUM_LOGS_PER_EPOCH,\n",
    "    patience=p.patience,\n",
    "    optimizer=optimizer,\n",
    "    criteria_for_best=p.criteria_for_best,\n",
    ")"
   ]
  },
  {
   "cell_type": "code",
   "execution_count": 23,
   "id": "31e8fabf",
   "metadata": {
    "execution": {
     "iopub.execute_input": "2022-03-18T07:07:30.892199Z",
     "iopub.status.busy": "2022-03-18T07:07:30.891942Z",
     "iopub.status.idle": "2022-03-18T07:07:30.911875Z",
     "shell.execute_reply": "2022-03-18T07:07:30.911484Z"
    },
    "papermill": {
     "duration": 0.051716,
     "end_time": "2022-03-18T07:07:30.911963",
     "exception": false,
     "start_time": "2022-03-18T07:07:30.860247",
     "status": "completed"
    },
    "tags": []
   },
   "outputs": [],
   "source": [
    "total_experiment_time_secs = time.time() - start_time_secs"
   ]
  },
  {
   "cell_type": "code",
   "execution_count": 24,
   "id": "87b9595b",
   "metadata": {
    "execution": {
     "iopub.execute_input": "2022-03-18T07:07:30.980409Z",
     "iopub.status.busy": "2022-03-18T07:07:30.980132Z",
     "iopub.status.idle": "2022-03-18T07:08:35.469627Z",
     "shell.execute_reply": "2022-03-18T07:08:35.469378Z"
    },
    "papermill": {
     "duration": 64.523497,
     "end_time": "2022-03-18T07:08:35.469695",
     "exception": false,
     "start_time": "2022-03-18T07:07:30.946198",
     "status": "completed"
    },
    "tags": []
   },
   "outputs": [],
   "source": [
    "###################################\n",
    "# Evaluate the model\n",
    "###################################\n",
    "source_test_label_accuracy, source_test_label_loss = jig.test(datasets.source.processed.test)\n",
    "target_test_label_accuracy, target_test_label_loss = jig.test(datasets.target.processed.test)\n",
    "\n",
    "source_val_label_accuracy, source_val_label_loss = jig.test(datasets.source.processed.val)\n",
    "target_val_label_accuracy, target_val_label_loss = jig.test(datasets.target.processed.val)\n",
    "\n",
    "history = jig.get_history()\n",
    "\n",
    "total_epochs_trained = len(history[\"epoch_indices\"])\n",
    "\n",
    "val_dl = Iterable_Aggregator((datasets.source.original.val,datasets.target.original.val))\n",
    "\n",
    "confusion = ptn_confusion_by_domain_over_dataloader(model, p.device, val_dl)\n",
    "per_domain_accuracy = per_domain_accuracy_from_confusion(confusion)\n",
    "\n",
    "# Add a key to per_domain_accuracy for if it was a source domain\n",
    "for domain, accuracy in per_domain_accuracy.items():\n",
    "    per_domain_accuracy[domain] = {\n",
    "        \"accuracy\": accuracy,\n",
    "        \"source?\": domain in p.domains_source\n",
    "    }\n",
    "\n",
    "# Do an independent accuracy assesment JUST TO BE SURE!\n",
    "# _source_test_label_accuracy = independent_accuracy_assesment(model, datasets.source.processed.test, p.device)\n",
    "# _target_test_label_accuracy = independent_accuracy_assesment(model, datasets.target.processed.test, p.device)\n",
    "# _source_val_label_accuracy = independent_accuracy_assesment(model, datasets.source.processed.val, p.device)\n",
    "# _target_val_label_accuracy = independent_accuracy_assesment(model, datasets.target.processed.val, p.device)\n",
    "\n",
    "# assert(_source_test_label_accuracy == source_test_label_accuracy)\n",
    "# assert(_target_test_label_accuracy == target_test_label_accuracy)\n",
    "# assert(_source_val_label_accuracy == source_val_label_accuracy)\n",
    "# assert(_target_val_label_accuracy == target_val_label_accuracy)\n",
    "\n",
    "experiment = {\n",
    "    \"experiment_name\": p.experiment_name,\n",
    "    \"parameters\": dict(p),\n",
    "    \"results\": {\n",
    "        \"source_test_label_accuracy\": source_test_label_accuracy,\n",
    "        \"source_test_label_loss\": source_test_label_loss,\n",
    "        \"target_test_label_accuracy\": target_test_label_accuracy,\n",
    "        \"target_test_label_loss\": target_test_label_loss,\n",
    "        \"source_val_label_accuracy\": source_val_label_accuracy,\n",
    "        \"source_val_label_loss\": source_val_label_loss,\n",
    "        \"target_val_label_accuracy\": target_val_label_accuracy,\n",
    "        \"target_val_label_loss\": target_val_label_loss,\n",
    "        \"total_epochs_trained\": total_epochs_trained,\n",
    "        \"total_experiment_time_secs\": total_experiment_time_secs,\n",
    "        \"confusion\": confusion,\n",
    "        \"per_domain_accuracy\": per_domain_accuracy,\n",
    "    },\n",
    "    \"history\": history,\n",
    "    \"dataset_metrics\": get_dataset_metrics(datasets, \"ptn\"),\n",
    "}"
   ]
  },
  {
   "cell_type": "code",
   "execution_count": 25,
   "id": "54a21829",
   "metadata": {
    "execution": {
     "iopub.execute_input": "2022-03-18T07:08:35.541866Z",
     "iopub.status.busy": "2022-03-18T07:08:35.533711Z",
     "iopub.status.idle": "2022-03-18T07:08:35.656729Z",
     "shell.execute_reply": "2022-03-18T07:08:35.656305Z"
    },
    "papermill": {
     "duration": 0.155065,
     "end_time": "2022-03-18T07:08:35.656840",
     "exception": false,
     "start_time": "2022-03-18T07:08:35.501775",
     "status": "completed"
    },
    "tags": []
   },
   "outputs": [
    {
     "data": {
      "image/png": "[encoded data removed]",
      "text/plain": [
       "<Figure size 1080x504 with 1 Axes>"
      ]
     },
     "metadata": {
      "needs_background": "light"
     },
     "output_type": "display_data"
    }
   ],
   "source": [
    "ax = get_loss_curve(experiment)\n",
    "plt.show()"
   ]
  },
  {
   "cell_type": "code",
   "execution_count": 26,
   "id": "fd8a0f60",
   "metadata": {
    "execution": {
     "iopub.execute_input": "2022-03-18T07:08:35.732867Z",
     "iopub.status.busy": "2022-03-18T07:08:35.728513Z",
     "iopub.status.idle": "2022-03-18T07:08:35.871100Z",
     "shell.execute_reply": "2022-03-18T07:08:35.871347Z"
    },
    "papermill": {
     "duration": 0.175071,
     "end_time": "2022-03-18T07:08:35.871427",
     "exception": false,
     "start_time": "2022-03-18T07:08:35.696356",
     "status": "completed"
    },
    "tags": []
   },
   "outputs": [
    {
     "data": {
      "text/plain": [
       "<AxesSubplot:title={'center':'Results'}>"
      ]
     },
     "execution_count": 26,
     "metadata": {},
     "output_type": "execute_result"
    },
    {
     "data": {
      "image/png": "[encoded data removed]",
      "text/plain": [
       "<Figure size 1080x504 with 1 Axes>"
      ]
     },
     "metadata": {
      "needs_background": "light"
     },
     "output_type": "display_data"
    }
   ],
   "source": [
    "get_results_table(experiment)"
   ]
  },
  {
   "cell_type": "code",
   "execution_count": 27,
   "id": "cf8dc689",
   "metadata": {
    "execution": {
     "iopub.execute_input": "2022-03-18T07:08:35.937278Z",
     "iopub.status.busy": "2022-03-18T07:08:35.936977Z",
     "iopub.status.idle": "2022-03-18T07:08:36.103146Z",
     "shell.execute_reply": "2022-03-18T07:08:36.102757Z"
    },
    "papermill": {
     "duration": 0.199954,
     "end_time": "2022-03-18T07:08:36.103268",
     "exception": false,
     "start_time": "2022-03-18T07:08:35.903314",
     "status": "completed"
    },
    "tags": []
   },
   "outputs": [
    {
     "data": {
      "text/plain": [
       "<AxesSubplot:title={'center':'Per Domain Validation Accuracy'}, xlabel='domain'>"
      ]
     },
     "execution_count": 27,
     "metadata": {},
     "output_type": "execute_result"
    },
    {
     "data": {
      "image/png": "[encoded data removed]",
      "text/plain": [
       "<Figure size 1080x504 with 1 Axes>"
      ]
     },
     "metadata": {
      "needs_background": "light"
     },
     "output_type": "display_data"
    }
   ],
   "source": [
    "get_domain_accuracies(experiment)"
   ]
  },
  {
   "cell_type": "code",
   "execution_count": 28,
   "id": "a74ae082",
   "metadata": {
    "execution": {
     "iopub.execute_input": "2022-03-18T07:08:36.173888Z",
     "iopub.status.busy": "2022-03-18T07:08:36.173633Z",
     "iopub.status.idle": "2022-03-18T07:08:36.188333Z",
     "shell.execute_reply": "2022-03-18T07:08:36.188683Z"
    },
    "papermill": {
     "duration": 0.049486,
     "end_time": "2022-03-18T07:08:36.188793",
     "exception": false,
     "start_time": "2022-03-18T07:08:36.139307",
     "status": "completed"
    },
    "tags": []
   },
   "outputs": [
    {
     "name": "stdout",
     "output_type": "stream",
     "text": [
      "Source Test Label Accuracy: 0.6665690104166667 Target Test Label Accuracy: 0.685466609589041\n",
      "Source Val Label Accuracy: 0.6637044270833333 Target Val Label Accuracy: 0.683326198630137\n"
     ]
    }
   ],
   "source": [
    "print(\"Source Test Label Accuracy:\", experiment[\"results\"][\"source_test_label_accuracy\"], \"Target Test Label Accuracy:\", experiment[\"results\"][\"target_test_label_accuracy\"])\n",
    "print(\"Source Val Label Accuracy:\", experiment[\"results\"][\"source_val_label_accuracy\"], \"Target Val Label Accuracy:\", experiment[\"results\"][\"target_val_label_accuracy\"])"
   ]
  },
  {
   "cell_type": "code",
   "execution_count": 29,
   "id": "dacca602",
   "metadata": {
    "execution": {
     "iopub.execute_input": "2022-03-18T07:08:36.260820Z",
     "iopub.status.busy": "2022-03-18T07:08:36.260570Z",
     "iopub.status.idle": "2022-03-18T07:08:36.277970Z",
     "shell.execute_reply": "2022-03-18T07:08:36.278346Z"
    },
    "papermill": {
     "duration": 0.052521,
     "end_time": "2022-03-18T07:08:36.278454",
     "exception": false,
     "start_time": "2022-03-18T07:08:36.225933",
     "status": "completed"
    },
    "tags": [
     "experiment_json"
    ]
   },
   "outputs": [
    {
     "data": {
      "text/plain": [
       "'{\"experiment_name\": \"tl_3-jitter10:oracle.run1.framed -> cores+wisig\", \"parameters\": {\"experiment_name\": \"tl_3-jitter10:oracle.run1.framed -> cores+wisig\", \"device\": \"cuda\", \"lr\": 0.001, \"seed\": 1337, \"dataset_seed\": 1337, \"n_shot\": 3, \"n_query\": 2, \"train_k_factor\": 3, \"val_k_factor\": 2, \"test_k_factor\": 2, \"torch_default_dtype\": \"torch.float32\", \"n_epoch\": 50, \"patience\": 3, \"criteria_for_best\": \"target_loss\", \"x_net\": [{\"class\": \"nnReshape\", \"kargs\": {\"shape\": [-1, 1, 2, 256]}}, {\"class\": \"Conv2d\", \"kargs\": {\"in_channels\": 1, \"out_channels\": 256, \"kernel_size\": [1, 7], \"bias\": false, \"padding\": [0, 3]}}, {\"class\": \"ReLU\", \"kargs\": {\"inplace\": true}}, {\"class\": \"BatchNorm2d\", \"kargs\": {\"num_features\": 256}}, {\"class\": \"Conv2d\", \"kargs\": {\"in_channels\": 256, \"out_channels\": 80, \"kernel_size\": [2, 7], \"bias\": true, \"padding\": [0, 3]}}, {\"class\": \"ReLU\", \"kargs\": {\"inplace\": true}}, {\"class\": \"BatchNorm2d\", \"kargs\": {\"num_features\": 80}}, {\"class\": \"Flatten\", \"kargs\": {}}, {\"class\": \"Linear\", \"kargs\": {\"in_features\": 20480, \"out_features\": 256}}, {\"class\": \"ReLU\", \"kargs\": {\"inplace\": true}}, {\"class\": \"BatchNorm1d\", \"kargs\": {\"num_features\": 256}}, {\"class\": \"Linear\", \"kargs\": {\"in_features\": 256, \"out_features\": 256}}], \"NUM_LOGS_PER_EPOCH\": 10, \"BEST_MODEL_PATH\": \"./best_model.pth\", \"n_way\": 16, \"datasets\": [{\"labels\": [\"1-10.\", \"1-11.\", \"1-15.\", \"1-16.\", \"1-17.\", \"1-18.\", \"1-19.\", \"10-4.\", \"10-7.\", \"11-1.\", \"11-14.\", \"11-17.\", \"11-20.\", \"11-7.\", \"13-20.\", \"13-8.\", \"14-10.\", \"14-11.\", \"14-14.\", \"14-7.\", \"15-1.\", \"15-20.\", \"16-1.\", \"16-16.\", \"17-10.\", \"17-11.\", \"17-2.\", \"19-1.\", \"19-16.\", \"19-19.\", \"19-20.\", \"19-3.\", \"2-10.\", \"2-11.\", \"2-17.\", \"2-18.\", \"2-20.\", \"2-3.\", \"2-4.\", \"2-5.\", \"2-6.\", \"2-7.\", \"2-8.\", \"3-13.\", \"3-18.\", \"3-3.\", \"4-1.\", \"4-10.\", \"4-11.\", \"4-19.\", \"5-5.\", \"6-15.\", \"7-10.\", \"7-14.\", \"8-18.\", \"8-20.\", \"8-3.\", \"8-8.\"], \"domains\": [1, 2, 3, 4, 5], \"num_examples_per_domain_per_label\": 100, \"pickle_path\": \"/mnt/wd500GB/CSC500/csc500-main/datasets/cores.stratified_ds.2022A.pkl\", \"source_or_target_dataset\": \"target\", \"x_transforms\": [\"unit_mag\", \"jitter_256_10\", \"take_200\"], \"episode_transforms\": [], \"domain_prefix\": \"C_A_\"}, {\"labels\": [\"1-10\", \"1-12\", \"1-14\", \"1-16\", \"1-18\", \"1-19\", \"1-8\", \"10-11\", \"10-17\", \"10-4\", \"10-7\", \"11-1\", \"11-10\", \"11-19\", \"11-20\", \"11-4\", \"11-7\", \"12-19\", \"12-20\", \"12-7\", \"13-14\", \"13-18\", \"13-19\", \"13-20\", \"13-3\", \"13-7\", \"14-10\", \"14-11\", \"14-12\", \"14-13\", \"14-14\", \"14-19\", \"14-20\", \"14-7\", \"14-8\", \"14-9\", \"15-1\", \"15-19\", \"15-6\", \"16-1\", \"16-16\", \"16-19\", \"16-20\", \"17-10\", \"17-11\", \"18-1\", \"18-10\", \"18-11\", \"18-12\", \"18-13\", \"18-14\", \"18-15\", \"18-16\", \"18-17\", \"18-19\", \"18-2\", \"18-20\", \"18-4\", \"18-5\", \"18-7\", \"18-8\", \"18-9\", \"19-1\", \"19-10\", \"19-11\", \"19-12\", \"19-13\", \"19-14\", \"19-15\", \"19-19\", \"19-2\", \"19-20\", \"19-3\", \"19-4\", \"19-6\", \"19-7\", \"19-8\", \"19-9\", \"2-1\", \"2-13\", \"2-15\", \"2-3\", \"2-4\", \"2-5\", \"2-6\", \"2-7\", \"2-8\", \"20-1\", \"20-12\", \"20-14\", \"20-15\", \"20-16\", \"20-18\", \"20-19\", \"20-20\", \"20-3\", \"20-4\", \"20-5\", \"20-7\", \"20-8\", \"3-1\", \"3-13\", \"3-18\", \"3-2\", \"3-8\", \"4-1\", \"4-10\", \"4-11\", \"5-1\", \"5-5\", \"6-1\", \"6-15\", \"6-6\", \"7-10\", \"7-11\", \"7-12\", \"7-13\", \"7-14\", \"7-7\", \"7-8\", \"7-9\", \"8-1\", \"8-13\", \"8-14\", \"8-18\", \"8-20\", \"8-3\", \"8-8\", \"9-1\", \"9-7\"], \"domains\": [1, 2, 3, 4], \"num_examples_per_domain_per_label\": 100, \"pickle_path\": \"/mnt/wd500GB/CSC500/csc500-main/datasets/wisig.node3-19.stratified_ds.2022A.pkl\", \"source_or_target_dataset\": \"target\", \"x_transforms\": [\"unit_mag\", \"jitter_256_10\", \"take_200\"], \"episode_transforms\": [], \"domain_prefix\": \"W_A_\"}, {\"labels\": [\"3123D52\", \"3123D65\", \"3123D79\", \"3123D80\", \"3123D54\", \"3123D70\", \"3123D7B\", \"3123D89\", \"3123D58\", \"3123D76\", \"3123D7D\", \"3123EFE\", \"3123D64\", \"3123D78\", \"3123D7E\", \"3124E4A\"], \"domains\": [32, 38, 8, 44, 14, 50, 20, 26], \"num_examples_per_domain_per_label\": 2000, \"pickle_path\": \"/mnt/wd500GB/CSC500/csc500-main/datasets/oracle.Run1_framed_2000Examples_stratified_ds.2022A.pkl\", \"source_or_target_dataset\": \"source\", \"x_transforms\": [\"unit_mag\", \"jitter_256_10\", \"take_200\", \"resample_20Msps_to_25Msps\"], \"episode_transforms\": [], \"domain_prefix\": \"ORACLE.run1_\"}], \"x_shape\": [2, 256], \"domains_source\": [\"ORACLE.run1_32\", \"ORACLE.run1_38\", \"ORACLE.run1_8\", \"ORACLE.run1_44\", \"ORACLE.run1_14\", \"ORACLE.run1_50\", \"ORACLE.run1_20\", \"ORACLE.run1_26\"], \"domains_target\": [\"C_A_1\", \"C_A_2\", \"C_A_3\", \"C_A_4\", \"C_A_5\", \"W_A_1\", \"W_A_2\", \"W_A_3\", \"W_A_4\"]}, \"results\": {\"source_test_label_accuracy\": 0.6665690104166667, \"source_test_label_loss\": 0.9256411790847778, \"target_test_label_accuracy\": 0.685466609589041, \"target_test_label_loss\": 459.657470703125, \"source_val_label_accuracy\": 0.6637044270833333, \"source_val_label_loss\": 0.9311966896057129, \"target_val_label_accuracy\": 0.683326198630137, \"target_val_label_loss\": 426.4366760253906, \"total_epochs_trained\": 7, \"total_experiment_time_secs\": 1307.9731576442719, \"confusion\": {\"ORACLE.run1_14\": {\"15\": {\"7\": 23, \"15\": 217}, \"3\": {\"3\": 209, \"4\": 25, \"2\": 4, \"14\": 1, \"0\": 1}, \"6\": {\"13\": 70, \"6\": 134, \"2\": 13, \"14\": 23}, \"1\": {\"1\": 212, \"5\": 22, \"4\": 6}, \"8\": {\"8\": 240}, \"10\": {\"10\": 210, \"0\": 30}, \"9\": {\"9\": 239, \"12\": 1}, \"13\": {\"14\": 82, \"5\": 4, \"13\": 55, \"6\": 75, \"2\": 21, \"10\": 1, \"15\": 1, \"3\": 1}, \"12\": {\"12\": 239, \"9\": 1}, \"5\": {\"5\": 144, \"1\": 26, \"4\": 53, \"2\": 10, \"7\": 3, \"3\": 2, \"6\": 1, \"15\": 1}, \"0\": {\"0\": 160, \"10\": 74, \"11\": 5, \"3\": 1}, \"2\": {\"6\": 27, \"4\": 11, \"5\": 14, \"2\": 113, \"14\": 40, \"3\": 4, \"15\": 5, \"13\": 26}, \"11\": {\"11\": 204, \"10\": 10, \"9\": 24, \"0\": 2}, \"14\": {\"14\": 167, \"6\": 14, \"13\": 42, \"2\": 11, \"3\": 6}, \"7\": {\"7\": 230, \"15\": 10}, \"4\": {\"4\": 177, \"1\": 11, \"5\": 34, \"14\": 1, \"3\": 13, \"2\": 4}}, \"ORACLE.run1_20\": {\"3\": {\"12\": 48, \"9\": 31, \"3\": 115, \"8\": 7, \"5\": 8, \"4\": 7, \"0\": 2, \"2\": 6, \"1\": 5, \"7\": 10, \"13\": 1}, \"15\": {\"15\": 129, \"5\": 6, \"1\": 55, \"0\": 38, \"12\": 7, \"13\": 4, \"9\": 1}, \"8\": {\"8\": 166, \"7\": 13, \"10\": 19, \"4\": 30, \"3\": 8, \"6\": 1, \"9\": 2, \"2\": 1}, \"4\": {\"4\": 187, \"8\": 31, \"5\": 3, \"3\": 15, \"10\": 2, \"7\": 1, \"12\": 1}, \"14\": {\"6\": 21, \"14\": 175, \"10\": 42, \"8\": 2}, \"0\": {\"1\": 48, \"3\": 11, \"5\": 49, \"0\": 66, \"15\": 42, \"9\": 3, \"12\": 20, \"13\": 1}, \"7\": {\"3\": 8, \"9\": 22, \"7\": 165, \"2\": 34, \"8\": 11}, \"6\": {\"6\": 221, \"14\": 15, \"10\": 4}, \"10\": {\"14\": 39, \"10\": 188, \"8\": 13}, \"5\": {\"0\": 63, \"5\": 100, \"1\": 32, \"12\": 29, \"2\": 1, \"3\": 6, \"15\": 8, \"9\": 1}, \"2\": {\"9\": 76, \"2\": 86, \"7\": 32, \"13\": 21, \"12\": 7, \"15\": 1, \"1\": 5, \"3\": 12}, \"12\": {\"12\": 95, \"3\": 43, \"1\": 32, \"5\": 28, \"9\": 12, \"2\": 7, \"15\": 8, \"0\": 14, \"13\": 1}, \"9\": {\"9\": 102, \"13\": 10, \"12\": 9, \"2\": 62, \"7\": 30, \"3\": 26, \"4\": 1}, \"1\": {\"5\": 39, \"0\": 47, \"12\": 37, \"1\": 74, \"15\": 39, \"3\": 3, \"13\": 1}, \"11\": {\"11\": 240}, \"13\": {\"13\": 203, \"9\": 10, \"2\": 18, \"12\": 2, \"15\": 5, \"1\": 2}}, \"ORACLE.run1_38\": {\"5\": {\"8\": 63, \"0\": 21, \"9\": 8, \"5\": 89, \"15\": 10, \"1\": 4, \"3\": 6, \"6\": 21, \"7\": 16, \"13\": 2}, \"8\": {\"8\": 135, \"7\": 13, \"13\": 5, \"0\": 31, \"1\": 1, \"15\": 7, \"10\": 8, \"5\": 40}, \"11\": {\"11\": 178, \"12\": 8, \"14\": 54}, \"1\": {\"1\": 227, \"15\": 12, \"13\": 1}, \"10\": {\"10\": 151, \"8\": 18, \"12\": 32, \"0\": 5, \"13\": 24, \"5\": 1, \"7\": 2, \"14\": 3, \"15\": 2, \"2\": 2}, \"15\": {\"13\": 77, \"15\": 136, \"8\": 7, \"1\": 15, \"5\": 5}, \"3\": {\"3\": 187, \"9\": 28, \"7\": 16, \"0\": 3, \"5\": 4, \"6\": 2}, \"7\": {\"7\": 159, \"0\": 59, \"5\": 9, \"8\": 9, \"3\": 4}, \"4\": {\"4\": 220, \"12\": 20}, \"14\": {\"11\": 22, \"14\": 195, \"10\": 4, \"2\": 16, \"12\": 3}, \"9\": {\"6\": 83, \"9\": 138, \"3\": 15, \"5\": 3, \"0\": 1}, \"12\": {\"12\": 210, \"4\": 15, \"10\": 13, \"14\": 2}, \"6\": {\"6\": 191, \"9\": 47, \"5\": 2}, \"2\": {\"2\": 220, \"14\": 15, \"10\": 1, \"13\": 4}, \"0\": {\"8\": 55, \"7\": 62, \"0\": 61, \"3\": 13, \"5\": 34, \"10\": 10, \"13\": 2, \"15\": 1, \"9\": 2}, \"13\": {\"13\": 131, \"15\": 74, \"10\": 15, \"2\": 12, \"1\": 5, \"8\": 1, \"0\": 1, \"5\": 1}}, \"ORACLE.run1_8\": {\"9\": {\"9\": 240}, \"10\": {\"10\": 166, \"13\": 12, \"14\": 54, \"4\": 7, \"5\": 1}, \"13\": {\"13\": 93, \"14\": 30, \"0\": 42, \"6\": 9, \"4\": 48, \"10\": 15, \"7\": 3}, \"0\": {\"13\": 44, \"0\": 174, \"7\": 17, \"6\": 3, \"4\": 1, \"10\": 1}, \"1\": {\"5\": 11, \"1\": 147, \"11\": 76, \"14\": 5, \"10\": 1}, \"15\": {\"15\": 205, \"12\": 31, \"8\": 4}, \"5\": {\"5\": 209, \"11\": 5, \"1\": 15, \"10\": 8, \"14\": 3}, \"3\": {\"2\": 24, \"3\": 209, \"12\": 6, \"15\": 1}, \"6\": {\"13\": 10, \"4\": 28, \"6\": 156, \"7\": 42, \"0\": 2, \"8\": 2}, \"11\": {\"11\": 115, \"1\": 106, \"5\": 15, \"14\": 3, \"10\": 1}, \"8\": {\"8\": 230, \"15\": 9, \"12\": 1}, \"4\": {\"13\": 54, \"4\": 119, \"14\": 31, \"6\": 30, \"0\": 3, \"10\": 3}, \"12\": {\"12\": 116, \"3\": 49, \"15\": 65, \"2\": 4, \"8\": 6}, \"14\": {\"10\": 64, \"14\": 123, \"13\": 14, \"1\": 6, \"4\": 30, \"5\": 1, \"6\": 1, \"11\": 1}, \"2\": {\"15\": 5, \"2\": 181, \"3\": 45, \"7\": 7, \"12\": 2}, \"7\": {\"7\": 194, \"6\": 36, \"0\": 7, \"4\": 1, \"13\": 2}}, \"ORACLE.run1_50\": {\"7\": {\"5\": 30, \"13\": 55, \"7\": 143, \"10\": 12}, \"3\": {\"3\": 232, \"8\": 8}, \"8\": {\"8\": 228, \"10\": 10, \"3\": 2}, \"2\": {\"2\": 217, \"0\": 23}, \"14\": {\"14\": 232, \"12\": 6, \"11\": 1, \"1\": 1}, \"4\": {\"15\": 56, \"4\": 80, \"1\": 40, \"7\": 5, \"5\": 17, \"6\": 37, \"13\": 5}, \"6\": {\"6\": 130, \"4\": 37, \"1\": 18, \"13\": 23, \"5\": 29, \"15\": 1, \"7\": 2}, \"15\": {\"15\": 157, \"1\": 47, \"4\": 23, \"11\": 12, \"6\": 1}, \"10\": {\"10\": 213, \"13\": 6, \"8\": 7, \"7\": 4, \"0\": 10}, \"11\": {\"11\": 195, \"9\": 27, \"15\": 6, \"12\": 3, \"14\": 8, \"1\": 1}, \"13\": {\"13\": 124, \"5\": 46, \"7\": 41, \"10\": 4, \"6\": 23, \"0\": 2}, \"9\": {\"11\": 35, \"9\": 177, \"12\": 28}, \"0\": {\"0\": 190, \"10\": 21, \"2\": 28, \"13\": 1}, \"1\": {\"4\": 30, \"1\": 137, \"15\": 37, \"6\": 30, \"2\": 1, \"11\": 1, \"5\": 4}, \"12\": {\"12\": 213, \"9\": 15, \"14\": 9, \"11\": 3}, \"5\": {\"5\": 64, \"6\": 53, \"7\": 56, \"13\": 40, \"4\": 15, \"1\": 11, \"10\": 1}}, \"ORACLE.run1_32\": {\"8\": {\"13\": 45, \"8\": 135, \"5\": 36, \"3\": 10, \"0\": 8, \"4\": 5, \"14\": 1}, \"14\": {\"11\": 64, \"7\": 56, \"4\": 15, \"14\": 73, \"0\": 3, \"3\": 6, \"13\": 13, \"5\": 7, \"2\": 3}, \"2\": {\"2\": 184, \"4\": 42, \"0\": 11, \"7\": 2, \"14\": 1}, \"0\": {\"2\": 14, \"0\": 108, \"4\": 63, \"7\": 16, \"5\": 14, \"8\": 13, \"14\": 2, \"13\": 10}, \"1\": {\"1\": 231, \"10\": 9}, \"10\": {\"10\": 232, \"1\": 8}, \"11\": {\"11\": 163, \"14\": 63, \"5\": 4, \"7\": 7, \"13\": 2, \"3\": 1}, \"5\": {\"7\": 31, \"14\": 14, \"13\": 58, \"3\": 26, \"5\": 47, \"8\": 24, \"4\": 18, \"0\": 20, \"11\": 2}, \"15\": {\"15\": 236, \"8\": 3, \"3\": 1}, \"3\": {\"3\": 213, \"13\": 9, \"8\": 3, \"5\": 12, \"11\": 3}, \"12\": {\"12\": 240}, \"7\": {\"5\": 23, \"7\": 99, \"14\": 48, \"8\": 2, \"0\": 11, \"11\": 11, \"4\": 29, \"13\": 14, \"2\": 3}, \"13\": {\"8\": 29, \"13\": 78, \"5\": 63, \"3\": 14, \"0\": 17, \"14\": 13, \"7\": 16, \"4\": 9, \"11\": 1}, \"6\": {\"6\": 240}, \"4\": {\"2\": 42, \"0\": 70, \"4\": 96, \"7\": 26, \"5\": 3, \"8\": 1, \"14\": 2}, \"9\": {\"9\": 239, \"12\": 1}}, \"ORACLE.run1_26\": {\"4\": {\"0\": 22, \"14\": 28, \"7\": 17, \"1\": 35, \"4\": 93, \"10\": 12, \"8\": 33}, \"12\": {\"12\": 232, \"11\": 8}, \"10\": {\"14\": 23, \"0\": 48, \"8\": 33, \"10\": 93, \"4\": 12, \"6\": 17, \"1\": 9, \"9\": 1, \"15\": 3, \"7\": 1}, \"0\": {\"8\": 27, \"10\": 53, \"14\": 40, \"4\": 42, \"0\": 44, \"6\": 14, \"1\": 18, \"7\": 2}, \"13\": {\"13\": 145, \"5\": 55, \"9\": 24, \"15\": 11, \"2\": 1, \"6\": 4}, \"9\": {\"13\": 9, \"5\": 24, \"15\": 75, \"9\": 98, \"8\": 10, \"7\": 4, \"6\": 16, \"10\": 3, \"0\": 1}, \"3\": {\"3\": 154, \"2\": 62, \"7\": 22, \"4\": 1, \"5\": 1}, \"2\": {\"5\": 24, \"3\": 91, \"2\": 75, \"7\": 24, \"15\": 16, \"9\": 7, \"8\": 1, \"13\": 1, \"10\": 1}, \"5\": {\"2\": 17, \"13\": 27, \"15\": 44, \"5\": 122, \"9\": 27, \"7\": 3}, \"14\": {\"1\": 55, \"4\": 31, \"7\": 2, \"14\": 84, \"0\": 48, \"10\": 14, \"6\": 1, \"8\": 4, \"15\": 1}, \"8\": {\"8\": 87, \"7\": 23, \"14\": 4, \"0\": 18, \"10\": 47, \"15\": 8, \"4\": 27, \"9\": 11, \"1\": 4, \"6\": 9, \"2\": 1, \"5\": 1}, \"7\": {\"8\": 19, \"3\": 25, \"7\": 138, \"15\": 8, \"2\": 25, \"4\": 20, \"0\": 2, \"10\": 1, \"5\": 1, \"1\": 1}, \"6\": {\"6\": 179, \"8\": 9, \"10\": 19, \"15\": 10, \"9\": 17, \"5\": 2, \"0\": 4}, \"11\": {\"11\": 234, \"12\": 6}, \"15\": {\"15\": 66, \"9\": 70, \"5\": 42, \"0\": 1, \"8\": 31, \"2\": 5, \"7\": 3, \"6\": 5, \"13\": 13, \"14\": 1, \"10\": 2, \"3\": 1}, \"1\": {\"4\": 30, \"14\": 77, \"0\": 15, \"1\": 96, \"10\": 9, \"7\": 9, \"3\": 1, \"8\": 3}}, \"ORACLE.run1_44\": {\"12\": {\"1\": 56, \"12\": 166, \"10\": 16, \"3\": 1, \"2\": 1}, \"7\": {\"7\": 148, \"2\": 36, \"9\": 46, \"1\": 4, \"6\": 5, \"13\": 1}, \"5\": {\"5\": 184, \"15\": 9, \"0\": 24, \"14\": 13, \"4\": 2, \"8\": 8}, \"15\": {\"14\": 18, \"15\": 187, \"4\": 2, \"0\": 18, \"5\": 8, \"8\": 7}, \"8\": {\"0\": 75, \"8\": 145, \"15\": 13, \"5\": 6, \"14\": 1}, \"2\": {\"2\": 163, \"1\": 12, \"10\": 19, \"7\": 41, \"3\": 2, \"9\": 2, \"12\": 1}, \"13\": {\"6\": 32, \"9\": 38, \"13\": 143, \"11\": 25, \"7\": 2}, \"4\": {\"4\": 159, \"14\": 78, \"15\": 1, \"13\": 1, \"5\": 1}, \"0\": {\"8\": 79, \"0\": 123, \"5\": 27, \"15\": 11}, \"6\": {\"9\": 27, \"6\": 157, \"13\": 34, \"7\": 8, \"11\": 14}, \"9\": {\"9\": 152, \"7\": 44, \"6\": 17, \"13\": 24, \"1\": 1, \"2\": 1, \"3\": 1}, \"11\": {\"6\": 21, \"11\": 191, \"13\": 27, \"9\": 1}, \"10\": {\"2\": 28, \"10\": 168, \"12\": 26, \"1\": 18}, \"14\": {\"4\": 79, \"14\": 129, \"15\": 22, \"5\": 10}, \"1\": {\"3\": 38, \"1\": 111, \"12\": 63, \"10\": 13, \"2\": 14, \"7\": 1}, \"3\": {\"3\": 210, \"1\": 28, \"12\": 1, \"2\": 1}}, \"C_A_3\": {\"43\": {\"43\": 12}, \"9\": {\"9\": 12}, \"6\": {\"6\": 9, \"25\": 1}, \"3\": {\"3\": 12}, \"16\": {\"16\": 12}, \"51\": {\"51\": 12}, \"31\": {\"31\": 12}, \"46\": {\"46\": 10}, \"19\": {\"19\": 8}, \"8\": {\"8\": 12}, \"18\": {\"18\": 12}, \"37\": {\"37\": 12}, \"24\": {\"24\": 12}, \"10\": {\"24\": 2, \"29\": 2, \"43\": 2, \"11\": 2, \"14\": 1, \"28\": 1, \"10\": 2}, \"44\": {\"44\": 5, \"19\": 1, \"9\": 2, \"29\": 2}, \"14\": {\"31\": 1, \"9\": 1, \"40\": 1, \"22\": 1, \"29\": 3, \"14\": 2, \"4\": 1, \"35\": 2}, \"38\": {\"20\": 1, \"38\": 7, \"25\": 2}, \"53\": {\"53\": 12}, \"20\": {\"20\": 12}, \"32\": {\"32\": 11, \"45\": 1}, \"36\": {\"36\": 10}, \"33\": {\"33\": 12}, \"56\": {\"24\": 2, \"56\": 3, \"22\": 2, \"43\": 2, \"10\": 2, \"28\": 1}, \"23\": {\"23\": 12}, \"54\": {\"54\": 9, \"36\": 1}, \"34\": {\"34\": 12}, \"13\": {\"13\": 12}, \"2\": {\"2\": 12}, \"55\": {\"2\": 1, \"55\": 8, \"5\": 1}, \"21\": {\"21\": 10}, \"49\": {\"49\": 10}, \"25\": {\"38\": 1, \"25\": 9, \"8\": 1, \"20\": 1}, \"5\": {\"5\": 11, \"39\": 1}, \"50\": {\"50\": 7, \"38\": 1}, \"40\": {\"40\": 4, \"29\": 2, \"4\": 4, \"45\": 2}, \"57\": {\"57\": 8}, \"22\": {\"22\": 10}, \"1\": {\"1\": 10}, \"17\": {\"17\": 12}, \"41\": {\"41\": 12}, \"4\": {\"4\": 10}, \"7\": {\"7\": 9, \"11\": 1}, \"26\": {\"26\": 10}, \"29\": {\"29\": 12}, \"52\": {\"52\": 12}, \"15\": {\"15\": 12}, \"35\": {\"35\": 11, \"57\": 1}, \"42\": {\"42\": 12}, \"30\": {\"30\": 10}, \"27\": {\"27\": 8}, \"45\": {\"45\": 10}, \"0\": {\"0\": 12}, \"28\": {\"28\": 12}, \"47\": {\"47\": 12}, \"11\": {\"11\": 10}, \"39\": {\"39\": 8, \"5\": 1, \"47\": 1}, \"48\": {\"48\": 11, \"39\": 1}, \"12\": {\"12\": 8}}, \"C_A_4\": {\"35\": {\"35\": 10}, \"25\": {\"25\": 9, \"50\": 1, \"8\": 2}, \"24\": {\"24\": 10}, \"48\": {\"48\": 11, \"54\": 1}, \"51\": {\"51\": 12}, \"13\": {\"38\": 1, \"13\": 7, \"15\": 2, \"0\": 1, \"19\": 1}, \"14\": {\"35\": 3, \"14\": 1, \"38\": 2, \"2\": 2}, \"32\": {\"32\": 12}, \"30\": {\"30\": 11, \"8\": 1}, \"34\": {\"34\": 10}, \"9\": {\"9\": 12}, \"1\": {\"1\": 12}, \"0\": {\"38\": 3, \"0\": 9}, \"38\": {\"38\": 12}, \"22\": {\"22\": 8}, \"40\": {\"9\": 3, \"40\": 7, \"4\": 2}, \"39\": {\"39\": 9, \"5\": 1, \"18\": 2}, \"46\": {\"32\": 1, \"46\": 10, \"23\": 1}, \"36\": {\"36\": 12}, \"50\": {\"50\": 8, \"20\": 2, \"25\": 1, \"36\": 1}, \"49\": {\"49\": 10, \"7\": 2}, \"17\": {\"17\": 12}, \"45\": {\"50\": 1, \"45\": 9, \"27\": 2}, \"6\": {\"6\": 11, \"51\": 1}, \"8\": {\"8\": 11, \"21\": 1}, \"5\": {\"46\": 2, \"5\": 7, \"39\": 1}, \"33\": {\"33\": 9, \"3\": 1, \"40\": 2}, \"31\": {\"31\": 12}, \"37\": {\"37\": 10}, \"47\": {\"47\": 8}, \"15\": {\"15\": 10}, \"7\": {\"7\": 10, \"49\": 2}, \"20\": {\"20\": 12}, \"4\": {\"4\": 12}, \"54\": {\"34\": 1, \"54\": 9, \"26\": 2}, \"44\": {\"44\": 12}, \"3\": {\"3\": 12}, \"11\": {\"11\": 10}, \"27\": {\"27\": 10}, \"19\": {\"19\": 12}, \"55\": {\"55\": 12}, \"16\": {\"16\": 12}, \"2\": {\"7\": 2, \"43\": 4, \"14\": 1, \"2\": 3}, \"52\": {\"52\": 10}, \"42\": {\"42\": 9, \"48\": 1}, \"26\": {\"26\": 12}, \"10\": {\"16\": 2, \"11\": 1, \"43\": 3, \"10\": 5, \"14\": 1}, \"53\": {\"53\": 10}, \"28\": {\"28\": 11, \"48\": 1}, \"21\": {\"21\": 10}, \"57\": {\"57\": 10}, \"23\": {\"23\": 8}, \"43\": {\"43\": 10}, \"12\": {\"12\": 11, \"50\": 1}, \"41\": {\"41\": 12}, \"56\": {\"56\": 8}, \"18\": {\"18\": 10}, \"29\": {\"29\": 8}}, \"W_A_3\": {\"109\": {\"63\": 2, \"109\": 4, \"2\": 1, \"13\": 1, \"118\": 1, \"119\": 1, \"104\": 2}, \"127\": {\"127\": 10, \"3\": 1, \"103\": 1}, \"14\": {\"14\": 4, \"31\": 2, \"29\": 2, \"93\": 2, \"80\": 2}, \"7\": {\"7\": 8, \"41\": 2, \"4\": 2}, \"129\": {\"129\": 8, \"40\": 2, \"87\": 1, \"77\": 1}, \"57\": {\"57\": 11, \"74\": 1}, \"84\": {\"84\": 8, \"115\": 1, \"32\": 1, \"93\": 1, \"16\": 1}, \"114\": {\"129\": 1, \"114\": 6, \"65\": 1, \"49\": 1, \"99\": 1, \"77\": 2}, \"44\": {\"44\": 6, \"14\": 1, \"100\": 1, \"116\": 1, \"40\": 1, \"29\": 1, \"102\": 1}, \"21\": {\"21\": 12}, \"46\": {\"46\": 10, \"5\": 1, \"128\": 1}, \"100\": {\"100\": 8, \"107\": 2, \"65\": 1, \"40\": 1}, \"63\": {\"63\": 4, \"24\": 1, \"113\": 2, \"27\": 1, \"2\": 2, \"75\": 1, \"123\": 1}, \"24\": {\"35\": 1, \"21\": 1, \"94\": 1, \"24\": 3, \"106\": 2, \"121\": 1, \"112\": 1, \"3\": 2}, \"107\": {\"100\": 1, \"107\": 7, \"90\": 2, \"122\": 2}, \"35\": {\"109\": 1, \"35\": 5, \"58\": 2, \"4\": 1, \"106\": 1}, \"81\": {\"81\": 6, \"18\": 2, \"118\": 2, \"88\": 2}, \"64\": {\"64\": 12}, \"59\": {\"124\": 1, \"59\": 5, \"36\": 1, \"101\": 1, \"8\": 1, \"98\": 1, \"15\": 2}, \"33\": {\"33\": 11, \"74\": 1}, \"34\": {\"34\": 5, \"73\": 2, \"22\": 2, \"97\": 1, \"126\": 1, \"21\": 1}, \"36\": {\"124\": 1, \"34\": 1, \"106\": 2, \"36\": 4, \"47\": 1, \"25\": 1, \"24\": 1, \"3\": 1}, \"79\": {\"87\": 2, \"45\": 2, \"79\": 5, \"16\": 1, \"92\": 2}, \"80\": {\"80\": 12}, \"77\": {\"105\": 1, \"77\": 10, \"114\": 1}, \"22\": {\"22\": 5, \"2\": 1, \"45\": 2, \"57\": 2, \"33\": 2}, \"124\": {\"124\": 5, \"99\": 1, \"128\": 1, \"71\": 1, \"19\": 1, \"5\": 1, \"73\": 1, \"15\": 1}, \"2\": {\"64\": 1, \"81\": 1, \"43\": 4, \"2\": 2, \"67\": 2, \"120\": 2}, \"87\": {\"22\": 2, \"11\": 1, \"80\": 1, \"122\": 2, \"79\": 1, \"107\": 1, \"87\": 4}, \"105\": {\"105\": 12}, \"95\": {\"86\": 1, \"95\": 8, \"58\": 2, \"46\": 1}, \"43\": {\"43\": 10, \"14\": 1, \"120\": 1}, \"56\": {\"86\": 2, \"56\": 6, \"124\": 2}, \"18\": {\"18\": 11, \"81\": 1}, \"85\": {\"46\": 2, \"85\": 7, \"47\": 1, \"5\": 2}, \"113\": {\"113\": 12}, \"97\": {\"8\": 1, \"97\": 3, \"42\": 3, \"52\": 3, \"101\": 2}, \"86\": {\"86\": 9, \"99\": 1, \"41\": 2}, \"128\": {\"110\": 2, \"128\": 2, \"53\": 1, \"115\": 1, \"71\": 1, \"107\": 2, \"68\": 1, \"100\": 1, \"28\": 1}, \"123\": {\"123\": 12}, \"8\": {\"8\": 7, \"0\": 1, \"12\": 1, \"83\": 1, \"101\": 2}, \"110\": {\"110\": 9, \"10\": 1, \"90\": 1, \"114\": 1}, \"126\": {\"18\": 2, \"117\": 3, \"109\": 2, \"26\": 1, \"126\": 1, \"2\": 1, \"39\": 2}, \"101\": {\"101\": 10, \"24\": 1, \"8\": 1}, \"115\": {\"31\": 1, \"84\": 1, \"115\": 10}, \"49\": {\"44\": 2, \"42\": 1, \"49\": 5, \"3\": 2, \"12\": 1, \"30\": 1}, \"45\": {\"45\": 11, \"80\": 1}, \"78\": {\"78\": 4, \"121\": 2, \"13\": 1, \"40\": 1, \"50\": 1, \"100\": 1, \"53\": 2}, \"65\": {\"65\": 5, \"10\": 2, \"114\": 2, \"109\": 1}, \"54\": {\"54\": 11, \"94\": 1}, \"31\": {\"31\": 10}, \"42\": {\"49\": 2, \"101\": 2, \"108\": 1, \"36\": 1, \"3\": 1, \"42\": 2, \"112\": 1, \"103\": 1, \"78\": 1}, \"68\": {\"68\": 12}, \"15\": {\"15\": 2, \"34\": 2, \"106\": 2, \"58\": 1, \"3\": 1, \"91\": 1, \"68\": 1, \"0\": 2}, \"69\": {\"69\": 6, \"121\": 1, \"64\": 3, \"116\": 1, \"118\": 1}, \"17\": {\"69\": 1, \"77\": 1, \"67\": 1, \"9\": 1, \"1\": 1, \"18\": 1, \"60\": 2, \"116\": 1, \"90\": 1}, \"73\": {\"34\": 2, \"106\": 1, \"24\": 1, \"73\": 3, \"25\": 1, \"19\": 1, \"112\": 1, \"59\": 2}, \"121\": {\"69\": 2, \"121\": 5, \"81\": 1, \"16\": 2, \"79\": 1, \"118\": 1}, \"102\": {\"102\": 12}, \"48\": {\"69\": 2, \"48\": 4, \"56\": 1, \"77\": 2, \"65\": 1, \"109\": 1, \"86\": 1}, \"23\": {\"69\": 2, \"55\": 2, \"99\": 1, \"113\": 1, \"91\": 1, \"128\": 1, \"126\": 2, \"7\": 2}, \"108\": {\"108\": 5, \"42\": 1, \"112\": 2, \"49\": 1, \"3\": 2, \"0\": 1}, \"53\": {\"53\": 9, \"31\": 2, \"60\": 1}, \"94\": {\"94\": 7, \"73\": 1, \"25\": 2}, \"41\": {\"41\": 10, \"7\": 1, \"77\": 1}, \"58\": {\"58\": 12}, \"29\": {\"29\": 10, \"28\": 1, \"32\": 1}, \"116\": {\"82\": 2, \"102\": 2, \"116\": 6, \"76\": 2}, \"60\": {\"66\": 2, \"20\": 1, \"16\": 1, \"53\": 1, \"60\": 5, \"29\": 1, \"122\": 1}, \"104\": {\"40\": 2, \"104\": 6, \"123\": 1, \"23\": 1, \"33\": 2}, \"106\": {\"106\": 7, \"15\": 1, \"73\": 1, \"51\": 3}, \"66\": {\"66\": 9, \"20\": 1, \"55\": 2}, \"47\": {\"47\": 8, \"85\": 1, \"10\": 1, \"103\": 2}, \"40\": {\"40\": 12}, \"82\": {\"82\": 9, \"119\": 1, \"62\": 2}, \"13\": {\"104\": 2, \"13\": 3, \"62\": 3, \"26\": 1, \"63\": 1, \"113\": 2}, \"19\": {\"68\": 1, \"19\": 3, \"128\": 2, \"107\": 1, \"20\": 2, \"86\": 1, \"12\": 1, \"127\": 1}, \"72\": {\"101\": 2, \"72\": 2, \"30\": 2, \"52\": 2, \"12\": 1, \"35\": 3}, \"9\": {\"9\": 10, \"1\": 2}, \"67\": {\"67\": 12}, \"11\": {\"11\": 11, \"31\": 1}, \"125\": {\"125\": 10, \"52\": 1, \"6\": 1}, \"76\": {\"76\": 6, \"64\": 1, \"17\": 1}, \"83\": {\"83\": 12}, \"74\": {\"74\": 9, \"54\": 1, \"116\": 2}, \"20\": {\"20\": 11, \"129\": 1}, \"119\": {\"119\": 12}, \"1\": {\"1\": 12}, \"16\": {\"16\": 11, \"62\": 1}, \"25\": {\"25\": 8, \"54\": 1, \"64\": 1, \"94\": 2}, \"90\": {\"90\": 8}, \"39\": {\"39\": 8, \"26\": 2, \"116\": 2}, \"28\": {\"28\": 7, \"29\": 3, \"50\": 2}, \"55\": {\"55\": 12}, \"117\": {\"39\": 2, \"117\": 4, \"27\": 1, \"63\": 1, \"75\": 1, \"14\": 1, \"48\": 2}, \"112\": {\"112\": 7, \"98\": 2, \"36\": 1, \"38\": 1, \"8\": 1}, \"38\": {\"37\": 1, \"73\": 1, \"74\": 1, \"96\": 1, \"62\": 2, \"22\": 2, \"55\": 1, \"18\": 1, \"92\": 2}, \"37\": {\"112\": 2, \"83\": 2, \"37\": 1, \"125\": 1, \"127\": 2, \"35\": 2, \"12\": 2}, \"120\": {\"120\": 12}, \"122\": {\"122\": 2, \"90\": 3, \"53\": 1, \"60\": 3, \"29\": 2, \"44\": 1}, \"50\": {\"50\": 8, \"32\": 1, \"28\": 1, \"40\": 2}, \"10\": {\"5\": 2, \"95\": 1, \"34\": 1, \"88\": 1, \"127\": 1, \"103\": 1, \"84\": 1, \"3\": 2, \"46\": 1, \"53\": 1}, \"5\": {\"5\": 11, \"85\": 1}, \"51\": {\"127\": 2, \"51\": 1, \"27\": 1, \"12\": 3, \"91\": 2, \"35\": 2, \"52\": 1}, \"3\": {\"95\": 1, \"39\": 1, \"3\": 8, \"127\": 1, \"37\": 1}, \"98\": {\"3\": 1, \"15\": 1, \"98\": 3, \"8\": 1, \"111\": 2, \"35\": 2, \"47\": 1, \"62\": 1}, \"70\": {\"70\": 7, \"3\": 1, \"47\": 1, \"87\": 1, \"91\": 1, \"112\": 1}, \"96\": {\"23\": 1, \"96\": 8, \"2\": 2, \"119\": 1}, \"12\": {\"12\": 9, \"51\": 1, \"0\": 2}, \"99\": {\"99\": 5, \"91\": 4, \"114\": 1, \"77\": 1, \"110\": 1}, \"52\": {\"0\": 2, \"52\": 4, \"83\": 2, \"2\": 1, \"47\": 1, \"97\": 1, \"12\": 1}, \"71\": {\"71\": 6, \"119\": 1, \"118\": 1, \"95\": 1, \"58\": 1, \"3\": 2}, \"89\": {\"109\": 1, \"96\": 1, \"26\": 1, \"89\": 6, \"117\": 1, \"78\": 1, \"64\": 1}, \"0\": {\"8\": 2, \"83\": 2, \"37\": 2, \"30\": 4, \"0\": 2}, \"4\": {\"4\": 5, \"85\": 2, \"118\": 1, \"10\": 1, \"43\": 1, \"23\": 1, \"72\": 1}, \"93\": {\"79\": 1, \"93\": 7, \"92\": 2, \"45\": 1, \"14\": 1}, \"6\": {\"6\": 4, \"72\": 1, \"88\": 1, \"27\": 2, \"19\": 1, \"21\": 1}, \"75\": {\"27\": 1, \"75\": 11}, \"62\": {\"62\": 11, \"33\": 1}, \"103\": {\"103\": 11, \"19\": 1}, \"30\": {\"30\": 8, \"59\": 1, \"12\": 2, \"42\": 1}, \"91\": {\"56\": 1, \"103\": 1, \"8\": 2, \"19\": 1, \"105\": 1, \"1\": 1, \"128\": 1, \"30\": 1, \"68\": 1, \"129\": 2}, \"27\": {\"30\": 2, \"52\": 1, \"22\": 1, \"111\": 1, \"27\": 5, \"112\": 1, \"83\": 1}, \"26\": {\"26\": 5, \"93\": 2, \"69\": 1, \"118\": 1, \"109\": 1, \"96\": 2}, \"61\": {\"119\": 1, \"61\": 6, \"44\": 1, \"102\": 1, \"69\": 1, \"67\": 1, \"39\": 1}, \"118\": {\"118\": 9, \"64\": 1, \"13\": 1, \"121\": 1}, \"92\": {\"92\": 12}, \"111\": {\"111\": 4, \"83\": 1, \"88\": 1, \"35\": 1, \"98\": 1, \"127\": 2, \"0\": 2}, \"32\": {\"32\": 6, \"29\": 1, \"28\": 2, \"50\": 1, \"87\": 1, \"60\": 1}, \"88\": {\"99\": 1, \"88\": 6, \"10\": 1, \"14\": 1, \"117\": 1}}, \"C_A_5\": {\"47\": {\"47\": 10}, \"53\": {\"53\": 11, \"20\": 1}, \"29\": {\"44\": 2, \"29\": 10}, \"52\": {\"52\": 12}, \"55\": {\"55\": 9, \"45\": 2, \"38\": 1}, \"17\": {\"17\": 12}, \"42\": {\"42\": 12}, \"33\": {\"33\": 10}, \"11\": {\"11\": 12}, \"19\": {\"19\": 8}, \"1\": {\"1\": 11, \"41\": 1}, \"44\": {\"44\": 12}, \"49\": {\"49\": 10, \"57\": 2}, \"4\": {\"4\": 4, \"45\": 2, \"27\": 3, \"40\": 2, \"26\": 1}, \"6\": {\"6\": 12}, \"39\": {\"39\": 12}, \"13\": {\"16\": 2, \"13\": 8, \"24\": 2}, \"5\": {\"40\": 2, \"5\": 8}, \"16\": {\"16\": 10}, \"25\": {\"25\": 9, \"8\": 3}, \"45\": {\"45\": 8, \"48\": 1, \"30\": 2, \"17\": 1}, \"7\": {\"7\": 10}, \"22\": {\"22\": 12}, \"40\": {\"40\": 8, \"19\": 2, \"34\": 2}, \"38\": {\"38\": 12}, \"35\": {\"35\": 8}, \"56\": {\"56\": 12}, \"50\": {\"50\": 6, \"20\": 3, \"25\": 1}, \"0\": {\"0\": 12}, \"10\": {\"10\": 8, \"15\": 2, \"41\": 2}, \"27\": {\"27\": 12}, \"20\": {\"53\": 2, \"20\": 8}, \"36\": {\"36\": 8}, \"34\": {\"34\": 12}, \"30\": {\"30\": 12}, \"2\": {\"2\": 10}, \"15\": {\"15\": 12}, \"18\": {\"18\": 12}, \"32\": {\"32\": 12}, \"31\": {\"31\": 12}, \"57\": {\"57\": 12}, \"48\": {\"48\": 8}, \"28\": {\"28\": 10}, \"14\": {\"3\": 1, \"14\": 3, \"19\": 1, \"36\": 1, \"32\": 1, \"1\": 2, \"46\": 3}, \"3\": {\"3\": 10, \"42\": 1, \"2\": 1}, \"8\": {\"8\": 12}, \"9\": {\"9\": 10, \"32\": 2}, \"21\": {\"21\": 10}, \"41\": {\"41\": 9, \"54\": 3}, \"24\": {\"24\": 12}, \"46\": {\"46\": 10}, \"43\": {\"43\": 10}, \"54\": {\"54\": 9, \"41\": 1}, \"23\": {\"23\": 10}, \"37\": {\"37\": 10}, \"12\": {\"12\": 10}, \"26\": {\"26\": 10}, \"51\": {\"51\": 6}}, \"C_A_1\": {\"46\": {\"46\": 12}, \"16\": {\"16\": 12}, \"26\": {\"26\": 12}, \"10\": {\"10\": 12}, \"9\": {\"9\": 10}, \"28\": {\"28\": 12}, \"51\": {\"51\": 12}, \"1\": {\"1\": 11, \"19\": 1}, \"55\": {\"55\": 12}, \"27\": {\"27\": 7, \"15\": 2, \"24\": 1}, \"22\": {\"22\": 10, \"11\": 2}, \"52\": {\"52\": 7, \"22\": 1, \"11\": 4}, \"3\": {\"3\": 12}, \"33\": {\"33\": 8}, \"47\": {\"47\": 12}, \"42\": {\"42\": 12}, \"12\": {\"12\": 4}, \"23\": {\"23\": 12}, \"49\": {\"23\": 2, \"49\": 8}, \"7\": {\"7\": 12}, \"4\": {\"4\": 5, \"2\": 4, \"8\": 2, \"46\": 1}, \"50\": {\"50\": 12}, \"19\": {\"19\": 10, \"56\": 2}, \"11\": {\"11\": 9, \"39\": 1, \"43\": 1, \"22\": 1}, \"31\": {\"31\": 10}, \"41\": {\"41\": 11, \"53\": 1}, \"56\": {\"19\": 4, \"56\": 6}, \"0\": {\"0\": 11, \"38\": 1}, \"57\": {\"19\": 1, \"57\": 11}, \"53\": {\"53\": 12}, \"43\": {\"43\": 4, \"52\": 1, \"29\": 1, \"15\": 2, \"24\": 1, \"40\": 2, \"34\": 1}, \"37\": {\"37\": 12}, \"2\": {\"2\": 8}, \"6\": {\"6\": 8, \"2\": 1, \"48\": 2, \"5\": 1}, \"18\": {\"18\": 12}, \"38\": {\"38\": 12}, \"15\": {\"15\": 11, \"31\": 1}, \"36\": {\"36\": 12}, \"39\": {\"15\": 2, \"39\": 6}, \"44\": {\"44\": 10, \"35\": 2}, \"8\": {\"8\": 11, \"6\": 1}, \"17\": {\"17\": 10}, \"5\": {\"5\": 12}, \"13\": {\"13\": 10}, \"40\": {\"17\": 1, \"40\": 5, \"4\": 1, \"19\": 1, \"57\": 1, \"34\": 1}, \"29\": {\"29\": 12}, \"48\": {\"48\": 10, \"6\": 2}, \"32\": {\"32\": 12}, \"30\": {\"30\": 11, \"14\": 1}, \"35\": {\"35\": 12}, \"25\": {\"25\": 12}, \"14\": {\"17\": 1, \"25\": 2, \"51\": 2, \"41\": 3, \"26\": 1, \"30\": 1, \"7\": 1, \"13\": 1}, \"54\": {\"54\": 9, \"32\": 1}, \"20\": {\"20\": 8}, \"21\": {\"21\": 10}, \"45\": {\"45\": 8}, \"24\": {\"21\": 1, \"24\": 4, \"31\": 1, \"22\": 1, \"52\": 1}, \"34\": {\"34\": 8}}, \"W_A_4\": {\"28\": {\"45\": 1, \"11\": 1, \"28\": 7, \"14\": 1, \"40\": 1, \"32\": 1}, \"4\": {\"4\": 11, \"55\": 1}, \"72\": {\"72\": 9, \"14\": 1, \"66\": 1, \"44\": 1}, \"111\": {\"12\": 1, \"111\": 10, \"58\": 1}, \"108\": {\"108\": 4, \"28\": 1, \"82\": 1, \"93\": 3, \"74\": 1, \"5\": 1, \"73\": 1}, \"43\": {\"43\": 5, \"89\": 2, \"82\": 1, \"107\": 1, \"79\": 1}, \"96\": {\"96\": 8, \"35\": 1, \"69\": 1, \"67\": 1, \"38\": 1}, \"89\": {\"89\": 11, \"1\": 1}, \"31\": {\"90\": 4, \"109\": 1, \"31\": 3, \"26\": 1, \"50\": 1, \"102\": 2}, \"45\": {\"2\": 1, \"90\": 2, \"74\": 2, \"93\": 1, \"57\": 1, \"69\": 2, \"45\": 1, \"102\": 2}, \"2\": {\"90\": 1, \"96\": 2, \"2\": 4, \"121\": 2, \"39\": 2, \"63\": 1}, \"114\": {\"114\": 11, \"1\": 1}, \"11\": {\"43\": 1, \"90\": 1, \"11\": 7, \"28\": 2, \"14\": 1}, \"12\": {\"111\": 4, \"108\": 1, \"58\": 1, \"10\": 1, \"12\": 3, \"98\": 2}, \"14\": {\"14\": 9, \"11\": 1, \"60\": 1, \"110\": 1}, \"90\": {\"72\": 1, \"14\": 1, \"90\": 8, \"22\": 2}, \"10\": {\"42\": 1, \"58\": 3, \"101\": 1, \"10\": 3, \"106\": 1, \"27\": 1, \"59\": 2}, \"63\": {\"11\": 1, \"63\": 10, \"44\": 1}, \"85\": {\"85\": 9, \"64\": 1, \"127\": 1, \"1\": 1}, \"64\": {\"64\": 10, \"13\": 1, \"121\": 1}, \"82\": {\"82\": 10, \"48\": 1, \"63\": 1}, \"58\": {\"58\": 10, \"12\": 1, \"111\": 1}, \"3\": {\"3\": 8, \"124\": 1, \"114\": 1, \"129\": 2}, \"54\": {\"54\": 10, \"97\": 2}, \"121\": {\"121\": 9, \"63\": 1, \"123\": 1, \"64\": 1}, \"42\": {\"42\": 7, \"91\": 1, \"29\": 1, \"8\": 1, \"0\": 2}, \"98\": {\"10\": 1, \"98\": 4, \"70\": 2, \"68\": 2, \"41\": 1, \"120\": 1, \"125\": 1}, \"123\": {\"63\": 1, \"123\": 10, \"113\": 1}, \"91\": {\"58\": 1, \"10\": 1, \"12\": 1, \"91\": 1, \"7\": 2, \"105\": 1, \"103\": 1, \"128\": 2, \"1\": 2}, \"66\": {\"66\": 8, \"60\": 2, \"90\": 1, \"32\": 1}, \"102\": {\"102\": 12}, \"122\": {\"122\": 2, \"66\": 1, \"64\": 1, \"118\": 1, \"44\": 2, \"72\": 1, \"13\": 1, \"116\": 1, \"99\": 1, \"39\": 1}, \"1\": {\"1\": 9, \"124\": 1, \"83\": 1, \"89\": 1}, \"15\": {\"68\": 1, \"97\": 1, \"53\": 2, \"52\": 2, \"6\": 1, \"128\": 1, \"34\": 1, \"30\": 1, \"58\": 1, \"15\": 1}, \"97\": {\"68\": 2, \"54\": 2, \"53\": 1, \"59\": 2, \"115\": 1, \"97\": 1, \"52\": 1, \"47\": 1, \"8\": 1}, \"75\": {\"75\": 8, \"125\": 2, \"25\": 2}, \"95\": {\"4\": 2, \"95\": 3, \"52\": 1, \"55\": 2, \"86\": 2, \"8\": 2}, \"57\": {\"102\": 1, \"122\": 2, \"57\": 7, \"60\": 2}, \"68\": {\"68\": 12}, \"125\": {\"125\": 10, \"47\": 1, \"25\": 1}, \"62\": {\"102\": 2, \"62\": 5, \"38\": 2, \"44\": 1}, \"27\": {\"71\": 2, \"27\": 4, \"21\": 1, \"58\": 1, \"98\": 1, \"88\": 2, \"126\": 1}, \"120\": {\"120\": 9, \"103\": 1, \"129\": 2}, \"26\": {\"63\": 2, \"113\": 1, \"26\": 3, \"118\": 1, \"31\": 1, \"65\": 1, \"39\": 1, \"126\": 1, \"109\": 1}, \"55\": {\"55\": 12}, \"71\": {\"55\": 2, \"71\": 5, \"88\": 1, \"56\": 2, \"42\": 1, \"95\": 1}, \"22\": {\"22\": 11, \"32\": 1}, \"99\": {\"99\": 3, \"22\": 1, \"66\": 2, \"90\": 1, \"21\": 1, \"57\": 1, \"33\": 1, \"44\": 2}, \"84\": {\"84\": 9, \"103\": 1, \"67\": 1, \"118\": 1}, \"37\": {\"37\": 10, \"33\": 2}, \"83\": {\"83\": 11, \"79\": 1}, \"46\": {\"46\": 9, \"85\": 2, \"89\": 1}, \"35\": {\"35\": 10, \"118\": 1, \"92\": 1}, \"13\": {\"13\": 6, \"2\": 1, \"18\": 1, \"84\": 1, \"65\": 2, \"118\": 1}, \"53\": {\"8\": 1, \"53\": 9, \"88\": 1, \"21\": 1}, \"127\": {\"9\": 1, \"53\": 3, \"68\": 2, \"127\": 4, \"101\": 1, \"111\": 1}, \"69\": {\"127\": 1, \"69\": 4, \"45\": 2, \"50\": 1, \"96\": 1, \"116\": 1, \"78\": 1, \"66\": 1}, \"48\": {\"48\": 5, \"113\": 2, \"121\": 2, \"67\": 2, \"85\": 1}, \"16\": {\"48\": 2, \"16\": 4, \"123\": 5, \"63\": 1}, \"0\": {\"53\": 1, \"0\": 1, \"42\": 2, \"119\": 1, \"85\": 1, \"49\": 2, \"55\": 2, \"120\": 1, \"73\": 1}, \"8\": {\"0\": 1, \"43\": 1, \"8\": 3, \"29\": 1, \"58\": 2, \"112\": 1, \"53\": 1, \"101\": 1, \"100\": 1}, \"9\": {\"53\": 2, \"98\": 1, \"70\": 1, \"106\": 1, \"9\": 2, \"112\": 2, \"77\": 2, \"12\": 1}, \"115\": {\"57\": 2, \"44\": 1, \"119\": 2, \"76\": 1, \"115\": 3, \"105\": 1, \"38\": 2}, \"70\": {\"53\": 1, \"70\": 5, \"63\": 1, \"9\": 1, \"100\": 1, \"42\": 1, \"68\": 1, \"58\": 1}, \"119\": {\"119\": 12}, \"59\": {\"6\": 3, \"97\": 1, \"59\": 5, \"34\": 1, \"47\": 1, \"91\": 1}, \"52\": {\"53\": 1, \"68\": 1, \"52\": 8, \"29\": 1, \"112\": 1}, \"60\": {\"46\": 1, \"120\": 1, \"128\": 1, \"28\": 1, \"99\": 1, \"90\": 1, \"83\": 2, \"89\": 2, \"60\": 2}, \"44\": {\"44\": 11, \"38\": 1}, \"51\": {\"68\": 1, \"70\": 1, \"51\": 3, \"24\": 2, \"112\": 1, \"47\": 1, \"25\": 1, \"111\": 1, \"53\": 1}, \"6\": {\"51\": 1, \"6\": 8, \"77\": 1, \"59\": 1, \"91\": 1}, \"73\": {\"73\": 8, \"5\": 2, \"129\": 1, \"87\": 1}, \"78\": {\"17\": 1, \"78\": 2, \"33\": 2, \"87\": 1, \"1\": 2, \"0\": 1, \"37\": 1, \"119\": 2}, \"92\": {\"34\": 1, \"104\": 1, \"16\": 1, \"92\": 4, \"123\": 1, \"84\": 1, \"35\": 3}, \"20\": {\"20\": 6, \"78\": 1, \"5\": 1, \"19\": 1, \"107\": 1, \"79\": 2}, \"17\": {\"17\": 11, \"50\": 1}, \"74\": {\"74\": 11, \"72\": 1}, \"19\": {\"70\": 1, \"74\": 1, \"93\": 1, \"90\": 2, \"110\": 1, \"71\": 1, \"50\": 2, \"60\": 1, \"28\": 1, \"41\": 1}, \"50\": {\"50\": 12}, \"34\": {\"73\": 2, \"34\": 6, \"25\": 1, \"43\": 1, \"59\": 2}, \"104\": {\"50\": 2, \"102\": 1, \"66\": 1, \"44\": 1, \"67\": 1, \"104\": 1, \"32\": 1}, \"33\": {\"33\": 8, \"66\": 2, \"22\": 1, \"51\": 1}, \"5\": {\"5\": 6, \"129\": 2, \"83\": 3, \"79\": 1}, \"7\": {\"124\": 2, \"7\": 4, \"128\": 1, \"105\": 1, \"115\": 1, \"56\": 1, \"120\": 1, \"129\": 1}, \"29\": {\"29\": 12}, \"25\": {\"25\": 11, \"75\": 1}, \"124\": {\"7\": 3, \"88\": 1, \"124\": 2, \"128\": 2, \"3\": 2, \"82\": 2}, \"117\": {\"61\": 1, \"117\": 3, \"88\": 1, \"64\": 2, \"96\": 1, \"81\": 1, \"108\": 1, \"23\": 2}, \"88\": {\"88\": 5, \"83\": 1, \"113\": 1, \"64\": 1, \"67\": 1, \"71\": 1, \"46\": 2}, \"61\": {\"35\": 1, \"88\": 1, \"61\": 4, \"32\": 2, \"26\": 1, \"18\": 1, \"117\": 2}, \"86\": {\"86\": 9, \"41\": 2, \"4\": 1}, \"116\": {\"57\": 3, \"116\": 2, \"22\": 1, \"62\": 2, \"40\": 1, \"80\": 1, \"69\": 2}, \"24\": {\"24\": 6, \"36\": 2, \"111\": 1, \"54\": 2, \"91\": 1}, \"128\": {\"101\": 1, \"128\": 4, \"21\": 1, \"129\": 1, \"73\": 1, \"83\": 1, \"82\": 2, \"20\": 1}, \"101\": {\"101\": 2, \"21\": 1, \"112\": 2, \"41\": 2, \"98\": 1, \"91\": 1, \"127\": 1, \"53\": 2}, \"65\": {\"65\": 9, \"102\": 1}, \"36\": {\"24\": 1, \"127\": 1, \"25\": 2, \"36\": 6, \"53\": 2}, \"21\": {\"21\": 12}, \"106\": {\"27\": 1, \"55\": 1, \"41\": 2, \"112\": 2, \"52\": 2, \"95\": 1, \"77\": 1, \"8\": 2}, \"118\": {\"96\": 1, \"118\": 3, \"88\": 2, \"113\": 2, \"84\": 2, \"60\": 1, \"102\": 1}, \"113\": {\"113\": 9, \"126\": 1, \"81\": 1, \"121\": 1}, \"40\": {\"40\": 12}, \"93\": {\"93\": 6, \"19\": 1, \"110\": 1}, \"94\": {\"94\": 4, \"103\": 1, \"59\": 1, \"25\": 1, \"6\": 3, \"127\": 1, \"10\": 1}, \"103\": {\"71\": 3, \"85\": 1, \"46\": 1, \"77\": 1, \"103\": 2, \"5\": 1, \"87\": 1, \"54\": 1, \"3\": 1}, \"110\": {\"110\": 5, \"14\": 1, \"87\": 1, \"22\": 1, \"128\": 1, \"90\": 1, \"60\": 2}, \"56\": {\"56\": 10, \"94\": 1, \"51\": 1}, \"39\": {\"39\": 11, \"18\": 1}, \"109\": {\"39\": 1, \"2\": 1, \"123\": 1, \"109\": 4, \"65\": 1, \"113\": 2, \"76\": 2}, \"67\": {\"44\": 2, \"121\": 2, \"76\": 1, \"81\": 2, \"66\": 1, \"39\": 1, \"71\": 1, \"63\": 1, \"38\": 1}, \"129\": {\"74\": 1, \"114\": 1, \"103\": 2, \"129\": 3, \"3\": 1, \"120\": 1, \"4\": 1, \"93\": 2}, \"30\": {\"30\": 2, \"111\": 1, \"51\": 2, \"41\": 1, \"125\": 1, \"9\": 1, \"112\": 1, \"103\": 1, \"15\": 2}, \"126\": {\"126\": 10, \"5\": 1, \"108\": 1}, \"87\": {\"21\": 1, \"87\": 3, \"93\": 1, \"110\": 1, \"79\": 1, \"19\": 1, \"50\": 1, \"102\": 1, \"1\": 1, \"40\": 1}, \"112\": {\"112\": 11, \"8\": 1}, \"100\": {\"56\": 2, \"100\": 7, \"129\": 1, \"46\": 2}, \"79\": {\"79\": 10}, \"81\": {\"81\": 9, \"121\": 2, \"108\": 1}, \"76\": {\"76\": 8, \"44\": 1, \"104\": 1}, \"47\": {\"30\": 1, \"21\": 1, \"47\": 7, \"106\": 2, \"95\": 1}, \"77\": {\"86\": 1, \"6\": 1, \"112\": 2, \"41\": 2, \"103\": 1, \"68\": 1, \"9\": 1, \"77\": 1, \"98\": 2}, \"23\": {\"103\": 1, \"85\": 1, \"49\": 2, \"108\": 1, \"41\": 2, \"64\": 1, \"106\": 1, \"120\": 1, \"0\": 1, \"21\": 1}, \"18\": {\"18\": 10, \"63\": 2}, \"49\": {\"120\": 2, \"41\": 2, \"20\": 1, \"112\": 1, \"49\": 2, \"73\": 1, \"53\": 3}, \"41\": {\"41\": 10, \"125\": 1, \"12\": 1}, \"32\": {\"115\": 1, \"110\": 1, \"80\": 2, \"116\": 1, \"79\": 1, \"72\": 2, \"57\": 1, \"66\": 1, \"11\": 2}, \"107\": {\"107\": 9, \"33\": 1}, \"80\": {\"80\": 11, \"126\": 1}, \"105\": {\"105\": 7, \"5\": 1, \"87\": 1, \"113\": 1}, \"38\": {\"38\": 6, \"116\": 1, \"72\": 1, \"44\": 2}}, \"W_A_1\": {\"108\": {\"70\": 2, \"108\": 6, \"0\": 1, \"44\": 1}, \"40\": {\"40\": 12}, \"68\": {\"68\": 5, \"52\": 1, \"0\": 4, \"32\": 2}, \"23\": {\"89\": 1, \"64\": 1, \"1\": 1, \"23\": 1, \"86\": 1, \"129\": 1, \"5\": 1, \"7\": 1, \"22\": 2, \"73\": 2}, \"26\": {\"64\": 1, \"102\": 1, \"95\": 1, \"10\": 1, \"26\": 1, \"121\": 1, \"38\": 2, \"123\": 2, \"113\": 2}, \"64\": {\"64\": 8, \"124\": 1, \"20\": 2, \"96\": 1}, \"22\": {\"22\": 12}, \"3\": {\"57\": 2, \"3\": 8, \"90\": 1, \"64\": 1}, \"4\": {\"110\": 2, \"4\": 9, \"113\": 1}, \"70\": {\"70\": 1, \"9\": 1, \"77\": 2, \"72\": 1, \"35\": 1, \"78\": 1, \"23\": 1, \"11\": 1, \"55\": 1, \"29\": 2}, \"57\": {\"57\": 9, \"25\": 1, \"28\": 2}, \"79\": {\"23\": 3, \"128\": 1, \"79\": 6, \"44\": 1, \"22\": 1}, \"9\": {\"89\": 2, \"73\": 3, \"9\": 4, \"0\": 1, \"31\": 2}, \"89\": {\"89\": 9, \"9\": 1, \"5\": 1, \"85\": 1}, \"110\": {\"110\": 7, \"55\": 2, \"5\": 2, \"89\": 1}, \"102\": {\"102\": 11, \"62\": 1}, \"31\": {\"47\": 1, \"31\": 9, \"29\": 2}, \"58\": {\"58\": 11, \"103\": 1}, \"47\": {\"47\": 8, \"31\": 1, \"91\": 1, \"77\": 1, \"9\": 1}, \"24\": {\"68\": 2, \"24\": 8, \"31\": 2}, \"19\": {\"115\": 1, \"19\": 4, \"3\": 1, \"87\": 2, \"54\": 1, \"129\": 1, \"8\": 1, \"128\": 1}, \"11\": {\"11\": 12}, \"52\": {\"52\": 4, \"68\": 1, \"29\": 1, \"15\": 1, \"49\": 1, \"103\": 2, \"24\": 2}, \"17\": {\"17\": 9, \"73\": 2, \"75\": 1}, \"25\": {\"83\": 1, \"25\": 9, \"42\": 2}, \"69\": {\"11\": 2, \"69\": 6, \"67\": 1, \"80\": 1, \"18\": 1, \"63\": 1}, \"96\": {\"96\": 6, \"54\": 1, \"84\": 1, \"64\": 2, \"10\": 2}, \"109\": {\"96\": 1, \"109\": 4, \"18\": 1, \"3\": 1, \"104\": 2, \"122\": 1, \"1\": 1, \"7\": 1}, \"115\": {\"115\": 10, \"93\": 1, \"35\": 1}, \"83\": {\"83\": 4, \"25\": 1, \"7\": 2, \"42\": 1, \"106\": 1, \"81\": 1, \"14\": 2}, \"84\": {\"1\": 1, \"84\": 10, \"34\": 1}, \"119\": {\"119\": 10}, \"122\": {\"7\": 2, \"122\": 4, \"3\": 1, \"42\": 1, \"14\": 1, \"99\": 1}, \"99\": {\"99\": 8, \"66\": 1, \"82\": 1, \"65\": 2}, \"1\": {\"1\": 10, \"124\": 1, \"84\": 1}, \"74\": {\"74\": 10, \"23\": 1, \"34\": 1}, \"85\": {\"89\": 2, \"85\": 8, \"97\": 1, \"56\": 1}, \"127\": {\"89\": 2, \"127\": 5, \"15\": 1, \"5\": 1, \"55\": 2, \"49\": 1}, \"111\": {\"89\": 2, \"75\": 2, \"66\": 1, \"5\": 1, \"77\": 1, \"36\": 1, \"111\": 2, \"30\": 1, \"27\": 1}, \"53\": {\"88\": 1, \"111\": 1, \"0\": 1, \"34\": 1, \"53\": 3, \"15\": 1, \"49\": 1, \"75\": 2, \"37\": 1}, \"88\": {\"89\": 2, \"36\": 4, \"3\": 2, \"108\": 2, \"49\": 1, \"88\": 1}, \"65\": {\"65\": 5, \"69\": 1, \"102\": 2, \"116\": 1, \"99\": 1}, \"7\": {\"7\": 10, \"1\": 1, \"90\": 1}, \"16\": {\"16\": 2, \"119\": 1, \"120\": 1, \"10\": 1, \"123\": 1, \"39\": 3, \"118\": 1, \"18\": 2}, \"128\": {\"0\": 1, \"28\": 1, \"45\": 1, \"5\": 1, \"128\": 2, \"25\": 1, \"42\": 1, \"8\": 1, \"100\": 1, \"57\": 2}, \"34\": {\"0\": 1, \"129\": 2, \"98\": 1, \"75\": 1, \"3\": 3, \"68\": 1, \"77\": 1, \"92\": 1, \"1\": 1}, \"129\": {\"28\": 1, \"114\": 3, \"66\": 2, \"81\": 2, \"19\": 1, \"54\": 1, \"129\": 1, \"38\": 1}, \"43\": {\"43\": 8, \"14\": 1, \"20\": 1, \"54\": 1, \"57\": 1}, \"92\": {\"53\": 1, \"92\": 4, \"49\": 3, \"15\": 2, \"32\": 1, \"108\": 1}, \"28\": {\"28\": 12}, \"27\": {\"0\": 2, \"27\": 4, \"101\": 1, \"59\": 2, \"71\": 1, \"49\": 2}, \"114\": {\"114\": 12}, \"73\": {\"73\": 11, \"9\": 1}, \"0\": {\"0\": 7, \"17\": 1, \"55\": 1, \"9\": 1, \"103\": 2}, \"104\": {\"104\": 12}, \"118\": {\"28\": 1, \"118\": 8, \"117\": 2, \"39\": 1}, \"41\": {\"41\": 12}, \"49\": {\"49\": 10, \"56\": 1, \"92\": 1}, \"14\": {\"14\": 4, \"43\": 2, \"48\": 2, \"7\": 2, \"122\": 2}, \"46\": {\"66\": 1, \"46\": 2, \"50\": 1, \"90\": 1, \"51\": 1, \"25\": 1, \"97\": 1, \"57\": 2, \"99\": 2}, \"33\": {\"33\": 8, \"76\": 2, \"82\": 1, \"66\": 1}, \"76\": {\"76\": 12}, \"125\": {\"125\": 10, \"51\": 2}, \"86\": {\"86\": 9, \"103\": 1}, \"66\": {\"66\": 9, \"45\": 2, \"51\": 1}, \"5\": {\"5\": 12}, \"117\": {\"117\": 4, \"118\": 4, \"18\": 1, \"11\": 2, \"123\": 1}, \"75\": {\"75\": 8, \"106\": 3, \"94\": 1}, \"61\": {\"61\": 12}, \"50\": {\"50\": 8, \"100\": 1, \"42\": 1, \"12\": 1, \"65\": 1}, \"67\": {\"117\": 2, \"67\": 5, \"11\": 1, \"62\": 2}, \"18\": {\"18\": 12}, \"98\": {\"75\": 4, \"106\": 1, \"80\": 1, \"107\": 2, \"53\": 1, \"92\": 1, \"24\": 1, \"98\": 1}, \"55\": {\"55\": 8, \"110\": 1, \"10\": 1}, \"32\": {\"55\": 1, \"97\": 1, \"35\": 1, \"49\": 1, \"5\": 2, \"32\": 2, \"89\": 2, \"17\": 2}, \"120\": {\"120\": 12}, \"97\": {\"97\": 8, \"112\": 1, \"91\": 1, \"101\": 1, \"24\": 1}, \"126\": {\"104\": 2, \"115\": 1, \"126\": 6, \"29\": 1, \"17\": 1, \"73\": 1}, \"45\": {\"104\": 1, \"50\": 1, \"57\": 1, \"45\": 4, \"42\": 2, \"11\": 1, \"22\": 2}, \"78\": {\"122\": 2, \"43\": 3, \"7\": 1, \"69\": 1, \"22\": 2, \"78\": 1}, \"100\": {\"65\": 1, \"100\": 11}, \"107\": {\"77\": 2, \"107\": 8, \"85\": 1, \"92\": 1}, \"93\": {\"77\": 2, \"107\": 2, \"93\": 3, \"96\": 2, \"56\": 1, \"55\": 2}, \"77\": {\"77\": 8, \"103\": 2, \"58\": 1, \"128\": 1}, \"63\": {\"63\": 11, \"69\": 1}, \"112\": {\"112\": 3, \"97\": 1, \"66\": 1, \"111\": 1, \"37\": 1, \"30\": 1, \"58\": 1, \"92\": 1, \"125\": 2}, \"113\": {\"113\": 8, \"39\": 1, \"63\": 1, \"62\": 2}, \"103\": {\"85\": 2, \"103\": 4, \"58\": 1, \"106\": 1, \"31\": 2}, \"71\": {\"71\": 5, \"88\": 1, \"94\": 1, \"59\": 1, \"127\": 1, \"68\": 1, \"80\": 1, \"30\": 1}, \"30\": {\"15\": 1, \"71\": 2, \"30\": 3, \"27\": 1, \"6\": 1, \"127\": 1, \"60\": 1, \"77\": 2}, \"90\": {\"90\": 12}, \"37\": {\"37\": 3, \"15\": 1, \"101\": 2, \"77\": 2, \"92\": 1, \"6\": 1, \"127\": 2}, \"60\": {\"69\": 1, \"64\": 1, \"63\": 1, \"49\": 1, \"60\": 2, \"45\": 1, \"11\": 1, \"23\": 1, \"120\": 1, \"1\": 2}, \"15\": {\"37\": 1, \"71\": 1, \"6\": 1, \"53\": 1, \"5\": 2, \"77\": 2, \"27\": 1, \"105\": 1, \"15\": 1, \"108\": 1}, \"39\": {\"39\": 7, \"118\": 3, \"63\": 2}, \"72\": {\"70\": 1, \"72\": 5, \"47\": 1, \"106\": 1, \"58\": 2, \"49\": 1, \"85\": 1}, \"54\": {\"54\": 9, \"93\": 2, \"21\": 1}, \"35\": {\"35\": 10, \"72\": 1, \"85\": 1}, \"2\": {\"7\": 1, \"63\": 1, \"61\": 4, \"2\": 3, \"116\": 1, \"120\": 2}, \"94\": {\"6\": 2, \"53\": 1, \"71\": 1, \"88\": 1, \"94\": 5, \"109\": 1, \"60\": 1}, \"42\": {\"42\": 6, \"25\": 3, \"45\": 1, \"122\": 1, \"8\": 1}, \"81\": {\"81\": 5, \"42\": 1, \"28\": 1, \"46\": 1, \"76\": 2, \"60\": 1, \"50\": 1}, \"8\": {\"8\": 10, \"90\": 1, \"129\": 1}, \"87\": {\"114\": 2, \"1\": 2, \"10\": 2, \"40\": 2, \"87\": 2, \"14\": 1, \"129\": 1}, \"6\": {\"6\": 6, \"0\": 1, \"66\": 1, \"111\": 1, \"60\": 1, \"94\": 1, \"53\": 1}, \"36\": {\"6\": 2, \"36\": 9, \"83\": 1}, \"91\": {\"91\": 1, \"35\": 4, \"106\": 1, \"75\": 1, \"4\": 1, \"15\": 1, \"56\": 1, \"9\": 1, \"101\": 1}, \"56\": {\"32\": 2, \"56\": 8, \"58\": 2}, \"80\": {\"80\": 5, \"45\": 2, \"48\": 2, \"74\": 2, \"112\": 1}, \"124\": {\"124\": 7, \"105\": 1, \"79\": 1, \"83\": 1}, \"44\": {\"44\": 11, \"20\": 1}, \"13\": {\"119\": 2, \"13\": 10}, \"10\": {\"115\": 1, \"56\": 1, \"103\": 2, \"8\": 1, \"90\": 1, \"21\": 1, \"7\": 1, \"25\": 1, \"10\": 1, \"13\": 1, \"17\": 1}, \"59\": {\"59\": 8, \"123\": 2, \"51\": 1, \"36\": 1}, \"95\": {\"95\": 6, \"26\": 1, \"10\": 1, \"18\": 2, \"13\": 2}, \"105\": {\"105\": 8, \"66\": 1, \"40\": 1, \"19\": 2}, \"101\": {\"101\": 8, \"106\": 2, \"112\": 1, \"91\": 1}, \"20\": {\"20\": 10, \"128\": 1, \"64\": 1}, \"48\": {\"84\": 2, \"48\": 9, \"123\": 1}, \"106\": {\"106\": 10, \"75\": 2}, \"51\": {\"51\": 7, \"111\": 1, \"125\": 3, \"59\": 1}, \"21\": {\"96\": 2, \"87\": 1, \"8\": 1, \"0\": 1, \"78\": 1, \"56\": 1, \"7\": 1, \"21\": 2, \"54\": 1, \"101\": 1}, \"123\": {\"123\": 12}, \"121\": {\"61\": 2, \"13\": 4, \"121\": 4, \"116\": 2}, \"38\": {\"38\": 8, \"82\": 2, \"120\": 1, \"2\": 1}, \"62\": {\"128\": 2, \"102\": 2, \"82\": 1, \"62\": 5, \"13\": 1, \"116\": 1}, \"29\": {\"29\": 12}, \"82\": {\"82\": 11, \"33\": 1}, \"116\": {\"33\": 1, \"102\": 1, \"61\": 2, \"116\": 4, \"2\": 1, \"28\": 1, \"50\": 2}, \"12\": {\"107\": 2, \"12\": 2, \"97\": 1, \"111\": 1, \"127\": 1, \"68\": 1}}, \"W_A_2\": {\"91\": {\"12\": 2, \"101\": 1, \"78\": 1, \"124\": 1, \"0\": 1, \"7\": 2, \"91\": 1, \"129\": 1, \"115\": 2}, \"12\": {\"12\": 7, \"67\": 1, \"41\": 2, \"77\": 1, \"68\": 1}, \"101\": {\"106\": 1, \"12\": 1, \"111\": 1, \"101\": 5, \"0\": 1, \"34\": 1}, \"121\": {\"117\": 2, \"72\": 1, \"64\": 3, \"23\": 1, \"121\": 2, \"81\": 1, \"45\": 1, \"113\": 1}, \"118\": {\"88\": 1, \"118\": 5, \"83\": 3, \"90\": 2, \"31\": 1}, \"10\": {\"126\": 2, \"105\": 2, \"45\": 1, \"85\": 2, \"10\": 2, \"110\": 1, \"38\": 2}, \"117\": {\"121\": 3, \"117\": 4, \"63\": 2, \"62\": 1, \"80\": 1, \"64\": 1}, \"110\": {\"110\": 5, \"106\": 1, \"29\": 2, \"129\": 2, \"73\": 2}, \"97\": {\"12\": 1, \"88\": 1, \"11\": 2, \"97\": 2, \"54\": 1, \"111\": 1, \"30\": 1, \"37\": 1, \"49\": 2}, \"28\": {\"17\": 1, \"33\": 1, \"28\": 5, \"43\": 1, \"110\": 1, \"93\": 1, \"25\": 2}, \"88\": {\"126\": 1, \"88\": 4, \"109\": 2, \"119\": 2, \"57\": 1, \"118\": 2}, \"17\": {\"110\": 1, \"106\": 1, \"105\": 2, \"85\": 1, \"129\": 1, \"29\": 1, \"7\": 1, \"54\": 1, \"8\": 1, \"59\": 2}, \"126\": {\"126\": 7, \"67\": 1, \"44\": 2, \"32\": 2}, \"33\": {\"33\": 10, \"14\": 1, \"55\": 1}, \"86\": {\"86\": 11, \"43\": 1}, \"106\": {\"106\": 7, \"15\": 2, \"98\": 1, \"91\": 1, \"75\": 1}, \"54\": {\"97\": 2, \"54\": 6, \"41\": 2, \"52\": 2}, \"125\": {\"125\": 11, \"9\": 1}, \"83\": {\"83\": 10, \"93\": 1, \"118\": 1}, \"98\": {\"11\": 4, \"98\": 2, \"111\": 2, \"12\": 2, \"54\": 2}, \"11\": {\"42\": 1, \"11\": 4, \"8\": 2, \"0\": 2, \"49\": 1, \"108\": 1, \"45\": 1}, \"32\": {\"4\": 1, \"32\": 5, \"19\": 2, \"29\": 2, \"123\": 2}, \"42\": {\"42\": 5, \"8\": 1, \"122\": 2, \"129\": 2, \"53\": 2}, \"103\": {\"103\": 8, \"5\": 2, \"52\": 2}, \"87\": {\"83\": 1, \"32\": 1, \"50\": 1, \"88\": 2, \"87\": 5, \"33\": 1, \"90\": 1}, \"61\": {\"118\": 1, \"32\": 1, \"61\": 7, \"99\": 1, \"80\": 2}, \"13\": {\"13\": 8, \"16\": 2, \"26\": 1, \"69\": 1}, \"4\": {\"4\": 12}, \"15\": {\"125\": 1, \"15\": 5, \"103\": 2, \"58\": 1, \"5\": 1}, \"120\": {\"120\": 12}, \"80\": {\"80\": 10, \"62\": 2}, \"72\": {\"120\": 2, \"57\": 2, \"72\": 4, \"96\": 1, \"100\": 1}, \"64\": {\"120\": 1, \"76\": 1, \"64\": 7, \"65\": 2, \"96\": 1}, \"81\": {\"81\": 5, \"64\": 1, \"69\": 1, \"48\": 2, \"121\": 1, \"63\": 2}, \"102\": {\"102\": 12}, \"76\": {\"76\": 4, \"120\": 1, \"83\": 2, \"96\": 2, \"31\": 2, \"56\": 1}, \"49\": {\"52\": 1, \"49\": 7, \"114\": 1, \"21\": 1}, \"129\": {\"129\": 10, \"85\": 1, \"8\": 1}, \"89\": {\"89\": 3, \"121\": 1, \"99\": 1, \"13\": 1, \"61\": 1, \"57\": 1, \"69\": 1, \"79\": 1, \"64\": 1, \"20\": 1}, \"52\": {\"49\": 1, \"52\": 8, \"114\": 2, \"84\": 1}, \"35\": {\"52\": 3, \"98\": 1, \"103\": 2, \"34\": 2, \"108\": 2, \"106\": 1, \"35\": 1}, \"53\": {\"53\": 7, \"114\": 1, \"29\": 2, \"108\": 1, \"35\": 1}, \"112\": {\"92\": 1, \"112\": 8, \"34\": 1, \"3\": 2}, \"105\": {\"105\": 12}, \"100\": {\"100\": 12}, \"9\": {\"9\": 9, \"94\": 1, \"125\": 2}, \"82\": {\"64\": 2, \"105\": 1, \"16\": 2, \"82\": 3, \"124\": 1, \"126\": 1, \"65\": 1, \"23\": 1}, \"51\": {\"51\": 8, \"125\": 1, \"127\": 2, \"41\": 1}, \"21\": {\"21\": 12}, \"92\": {\"105\": 1, \"64\": 2, \"18\": 2, \"92\": 3, \"63\": 1, \"17\": 1, \"45\": 1, \"35\": 1}, \"69\": {\"69\": 5, \"99\": 1, \"109\": 1, \"63\": 2, \"65\": 1, \"82\": 1, \"13\": 1}, \"77\": {\"77\": 8, \"71\": 1, \"126\": 1, \"127\": 2}, \"50\": {\"50\": 5, \"16\": 1, \"62\": 3, \"22\": 1, \"104\": 1, \"126\": 1}, \"36\": {\"15\": 1, \"103\": 1, \"36\": 4, \"71\": 1, \"67\": 1, \"75\": 2, \"101\": 1, \"125\": 1}, \"16\": {\"16\": 8, \"11\": 1, \"37\": 1, \"78\": 1, \"102\": 1}, \"8\": {\"16\": 1, \"8\": 10, \"120\": 1}, \"127\": {\"103\": 1, \"8\": 1, \"30\": 2, \"127\": 4, \"41\": 2, \"36\": 1, \"91\": 1}, \"46\": {\"46\": 10}, \"84\": {\"50\": 2, \"84\": 6, \"22\": 1, \"62\": 1, \"90\": 1, \"66\": 1}, \"18\": {\"16\": 2, \"18\": 8, \"2\": 2}, \"123\": {\"123\": 9, \"42\": 1}, \"56\": {\"66\": 2, \"56\": 5, \"85\": 2, \"107\": 1, \"73\": 1, \"27\": 1}, \"26\": {\"26\": 6, \"18\": 2, \"81\": 2, \"120\": 2}, \"14\": {\"109\": 1, \"33\": 1, \"104\": 2, \"14\": 4, \"38\": 2, \"43\": 1, \"45\": 1}, \"109\": {\"76\": 1, \"109\": 6, \"102\": 1, \"63\": 3, \"96\": 1}, \"66\": {\"14\": 1, \"66\": 10, \"55\": 1}, \"24\": {\"71\": 2, \"75\": 1, \"10\": 1, \"41\": 1, \"16\": 1, \"94\": 1, \"78\": 1, \"34\": 1, \"124\": 1, \"24\": 1, \"11\": 1}, \"71\": {\"109\": 1, \"71\": 5, \"54\": 1, \"77\": 1, \"53\": 1, \"128\": 1, \"5\": 2}, \"65\": {\"65\": 10, \"75\": 1, \"51\": 1}, \"75\": {\"75\": 5, \"25\": 1, \"15\": 2, \"6\": 2, \"36\": 1, \"21\": 1}, \"111\": {\"71\": 1, \"111\": 1, \"0\": 2, \"94\": 1, \"114\": 1, \"127\": 1, \"30\": 1, \"58\": 1, \"108\": 1, \"52\": 1, \"54\": 1}, \"30\": {\"25\": 1, \"30\": 5, \"127\": 1, \"114\": 2, \"111\": 1, \"71\": 1, \"128\": 1}, \"85\": {\"85\": 12}, \"113\": {\"18\": 2, \"113\": 7, \"21\": 1}, \"45\": {\"45\": 6, \"93\": 2, \"28\": 1, \"116\": 1, \"90\": 2}, \"29\": {\"29\": 9, \"59\": 2, \"20\": 1}, \"20\": {\"65\": 4, \"37\": 1, \"20\": 6, \"102\": 1}, \"25\": {\"25\": 7, \"24\": 1, \"127\": 2, \"75\": 1, \"112\": 1}, \"0\": {\"0\": 8, \"111\": 2, \"11\": 2}, \"68\": {\"68\": 10, \"3\": 1, \"114\": 1}, \"119\": {\"90\": 1, \"119\": 11}, \"90\": {\"119\": 1, \"90\": 11}, \"38\": {\"38\": 11, \"1\": 1}, \"99\": {\"99\": 12}, \"1\": {\"1\": 8, \"60\": 2, \"40\": 2}, \"67\": {\"90\": 1, \"69\": 1, \"67\": 6, \"125\": 1, \"26\": 1, \"102\": 1, \"75\": 1}, \"63\": {\"63\": 11, \"120\": 1}, \"34\": {\"34\": 4, \"19\": 3, \"79\": 1, \"73\": 1, \"91\": 1, \"38\": 1, \"52\": 1}, \"108\": {\"34\": 2, \"41\": 1, \"108\": 6, \"115\": 1, \"42\": 1, \"127\": 1}, \"40\": {\"40\": 10, \"1\": 1, \"105\": 1}, \"47\": {\"78\": 2, \"127\": 1, \"47\": 4, \"58\": 1, \"129\": 1, \"59\": 1, \"1\": 2}, \"37\": {\"37\": 7, \"102\": 1, \"16\": 1, \"116\": 1, \"31\": 2}, \"78\": {\"20\": 1, \"96\": 1, \"65\": 1, \"78\": 4, \"66\": 2, \"31\": 1, \"100\": 1, \"120\": 1}, \"96\": {\"37\": 2, \"96\": 10}, \"43\": {\"78\": 1, \"21\": 1, \"43\": 4, \"16\": 1, \"62\": 1, \"93\": 2, \"14\": 1, \"73\": 1}, \"5\": {\"5\": 9, \"34\": 1}, \"124\": {\"124\": 9, \"95\": 1, \"122\": 1, \"129\": 1}, \"44\": {\"44\": 11, \"10\": 1}, \"41\": {\"8\": 1, \"5\": 1, \"41\": 9, \"17\": 1}, \"116\": {\"116\": 6, \"62\": 2, \"50\": 1, \"96\": 1, \"37\": 2}, \"19\": {\"43\": 1, \"19\": 7, \"122\": 1, \"1\": 1, \"85\": 2}, \"115\": {\"41\": 2, \"68\": 2, \"115\": 4, \"77\": 2, \"53\": 2}, \"95\": {\"95\": 6, \"21\": 2, \"126\": 1, \"122\": 1, \"85\": 2}, \"3\": {\"41\": 2, \"3\": 6, \"8\": 1, \"128\": 1}, \"59\": {\"5\": 2, \"59\": 4, \"128\": 1, \"129\": 1, \"7\": 1, \"29\": 1, \"53\": 2}, \"55\": {\"55\": 7, \"84\": 1, \"116\": 1, \"66\": 1, \"104\": 1, \"33\": 1}, \"70\": {\"38\": 3, \"48\": 1, \"60\": 1, \"1\": 2, \"53\": 1, \"109\": 1, \"43\": 1, \"33\": 2}, \"6\": {\"30\": 1, \"6\": 8, \"11\": 1, \"75\": 1, \"94\": 1}, \"2\": {\"48\": 2, \"16\": 2, \"2\": 3, \"83\": 1, \"63\": 1, \"120\": 1, \"117\": 1, \"45\": 1}, \"48\": {\"48\": 11, \"13\": 1}, \"23\": {\"63\": 1, \"19\": 1, \"73\": 1, \"39\": 1, \"23\": 1, \"68\": 1, \"65\": 1, \"129\": 1, \"26\": 2, \"3\": 1, \"44\": 1}, \"7\": {\"122\": 3, \"7\": 6, \"5\": 1, \"124\": 2}, \"122\": {\"7\": 4, \"40\": 1, \"128\": 1, \"95\": 1, \"122\": 2, \"46\": 1, \"5\": 1, \"73\": 1}, \"57\": {\"57\": 10, \"42\": 1, \"71\": 1}, \"39\": {\"39\": 6, \"48\": 2, \"53\": 1, \"113\": 1}, \"79\": {\"52\": 2, \"79\": 3, \"115\": 2, \"91\": 2, \"114\": 1, \"34\": 2}, \"27\": {\"27\": 8, \"58\": 1, \"71\": 1}, \"74\": {\"74\": 8, \"79\": 1, \"60\": 1, \"78\": 1, \"51\": 1}, \"73\": {\"73\": 11, \"107\": 1}, \"62\": {\"100\": 1, \"62\": 8, \"104\": 1, \"80\": 1, \"84\": 1}, \"107\": {\"107\": 10, \"122\": 2}, \"128\": {\"73\": 1, \"40\": 1, \"128\": 2, \"58\": 1, \"59\": 1, \"123\": 1, \"86\": 1, \"105\": 2, \"33\": 2}, \"60\": {\"60\": 4, \"93\": 1, \"1\": 2, \"84\": 2, \"33\": 1, \"38\": 1, \"100\": 1}, \"114\": {\"79\": 3, \"114\": 6, \"68\": 1, \"41\": 2}, \"22\": {\"22\": 8, \"84\": 1, \"104\": 1, \"33\": 2}, \"93\": {\"93\": 9, \"119\": 3}, \"94\": {\"111\": 1, \"94\": 3, \"58\": 2, \"9\": 3, \"6\": 1, \"88\": 1, \"101\": 1}, \"31\": {\"93\": 1, \"57\": 1, \"31\": 4, \"37\": 1, \"121\": 1, \"118\": 1, \"76\": 1}, \"104\": {\"104\": 10, \"74\": 1, \"62\": 1}, \"58\": {\"52\": 1, \"58\": 4, \"9\": 1, \"128\": 1, \"59\": 1, \"11\": 1, \"35\": 1, \"15\": 1, \"106\": 1}}, \"C_A_2\": {\"14\": {\"4\": 1, \"22\": 2, \"14\": 5, \"19\": 2, \"42\": 1, \"9\": 1}, \"22\": {\"22\": 8, \"0\": 2, \"5\": 2}, \"9\": {\"9\": 12}, \"47\": {\"47\": 12}, \"13\": {\"13\": 12}, \"8\": {\"8\": 12}, \"7\": {\"7\": 12}, \"49\": {\"49\": 12}, \"20\": {\"20\": 12}, \"16\": {\"16\": 12}, \"34\": {\"34\": 12}, \"56\": {\"22\": 4, \"56\": 3, \"43\": 1, \"5\": 1, \"10\": 2, \"31\": 1}, \"38\": {\"38\": 10}, \"4\": {\"4\": 12}, \"43\": {\"43\": 10}, \"26\": {\"26\": 10}, \"35\": {\"27\": 2, \"45\": 2, \"19\": 1, \"35\": 1, \"9\": 2, \"14\": 2, \"40\": 2}, \"31\": {\"31\": 12}, \"1\": {\"1\": 12}, \"39\": {\"39\": 12}, \"5\": {\"5\": 10, \"47\": 2}, \"24\": {\"24\": 9, \"56\": 1, \"38\": 2}, \"54\": {\"27\": 4, \"54\": 6}, \"23\": {\"23\": 12}, \"51\": {\"51\": 12}, \"27\": {\"27\": 9, \"54\": 1}, \"15\": {\"15\": 12}, \"0\": {\"0\": 12}, \"19\": {\"19\": 10}, \"18\": {\"18\": 8}, \"30\": {\"30\": 12}, \"55\": {\"55\": 10}, \"57\": {\"57\": 12}, \"2\": {\"2\": 11, \"39\": 1}, \"12\": {\"12\": 8}, \"41\": {\"41\": 12}, \"42\": {\"42\": 12}, \"48\": {\"48\": 12}, \"37\": {\"37\": 8, \"46\": 2, \"15\": 2}, \"6\": {\"6\": 10}, \"11\": {\"11\": 10}, \"45\": {\"45\": 6, \"35\": 1, \"4\": 1}, \"21\": {\"21\": 12}, \"46\": {\"46\": 10}, \"25\": {\"25\": 11, \"8\": 1}, \"36\": {\"36\": 10}, \"53\": {\"53\": 12}, \"28\": {\"28\": 12}, \"40\": {\"40\": 8, \"4\": 2}, \"33\": {\"33\": 10}, \"44\": {\"40\": 1, \"44\": 4, \"33\": 2, \"9\": 2, \"32\": 1}, \"3\": {\"3\": 12}, \"17\": {\"17\": 12}, \"32\": {\"32\": 10}, \"10\": {\"10\": 9, \"44\": 1}, \"52\": {\"52\": 10}, \"50\": {\"50\": 7, \"25\": 1}, \"29\": {\"29\": 6}}}, \"per_domain_accuracy\": {\"ORACLE.run1_14\": {\"accuracy\": 0.7682291666666666, \"source?\": true}, \"ORACLE.run1_20\": {\"accuracy\": 0.6020833333333333, \"source?\": true}, \"ORACLE.run1_38\": {\"accuracy\": 0.684375, \"source?\": true}, \"ORACLE.run1_8\": {\"accuracy\": 0.6971354166666667, \"source?\": true}, \"ORACLE.run1_50\": {\"accuracy\": 0.7114583333333333, \"source?\": true}, \"ORACLE.run1_32\": {\"accuracy\": 0.6807291666666667, \"source?\": true}, \"ORACLE.run1_26\": {\"accuracy\": 0.5052083333333334, \"source?\": true}, \"ORACLE.run1_44\": {\"accuracy\": 0.6604166666666667, \"source?\": true}, \"C_A_3\": {\"accuracy\": 0.90625, \"source?\": false}, \"C_A_4\": {\"accuracy\": 0.8921875, \"source?\": false}, \"W_A_3\": {\"accuracy\": 0.5970052083333334, \"source?\": false}, \"C_A_5\": {\"accuracy\": 0.9046875, \"source?\": false}, \"C_A_1\": {\"accuracy\": 0.8828125, \"source?\": false}, \"W_A_4\": {\"accuracy\": 0.5462239583333334, \"source?\": false}, \"W_A_1\": {\"accuracy\": 0.5787760416666666, \"source?\": false}, \"W_A_2\": {\"accuracy\": 0.5625, \"source?\": false}, \"C_A_2\": {\"accuracy\": 0.9078125, \"source?\": false}}}, \"history\": {\"epoch_indices\": [1, 2, 3, 4, 5, 6, 7], \"train_label_loss\": [1.9407731474421563, 0.9709566940376092, 0.9041803667499196, 0.8967469405205477, 0.8513556617689098, 0.8276506630947724, 0.8047725814195084], \"source_val_label_loss\": [14.912449836730957, 0.9487128853797913, 0.9311966896057129, 0.8971484899520874, 0.8484205603599548, 0.8281571865081787, 0.8852213025093079], \"target_val_label_loss\": [2704.47509765625, 766.0661010742188, 426.4366760253906, 584.591552734375, 1046.1878662109375, 1450.95263671875, 2152.59619140625], \"source_val_acc_label\": [0.5628580729166667, 0.644140625, 0.6637044270833333, 0.66982421875, 0.6886067708333333, 0.6897135416666667, 0.6854166666666667], \"target_val_acc_label\": [0.3110017123287671, 0.5580051369863014, 0.683326198630137, 0.6553938356164384, 0.6160102739726028, 0.580158390410959, 0.5107020547945206]}, \"dataset_metrics\": {\"source\": {\"train\": {\"n_unique_x\": 179200, \"n_unique_y\": 16, \"n_batch/episode\": 6720}, \"val\": {\"n_unique_x\": 38400, \"n_unique_y\": 16, \"n_batch/episode\": 960}, \"test\": {\"n_unique_x\": 38400, \"n_unique_y\": 16, \"n_batch/episode\": 960}}, \"target\": {\"train\": {\"n_unique_x\": 56700, \"n_unique_y\": 130, \"n_batch/episode\": 2080}, \"val\": {\"n_unique_x\": 12132, \"n_unique_y\": 130, \"n_batch/episode\": 292}, \"test\": {\"n_unique_x\": 12132, \"n_unique_y\": 130, \"n_batch/episode\": 292}}}}'"
      ]
     },
     "execution_count": 29,
     "metadata": {},
     "output_type": "execute_result"
    }
   ],
   "source": [
    "json.dumps(experiment)"
   ]
  }
 ],
 "metadata": {
  "celltoolbar": "Tags",
  "kernelspec": {
   "display_name": "Python 3 (ipykernel)",
   "language": "python",
   "name": "python3"
  },
  "language_info": {
   "codemirror_mode": {
    "name": "ipython",
    "version": 3
   },
   "file_extension": ".py",
   "mimetype": "text/x-python",
   "name": "python",
   "nbconvert_exporter": "python",
   "pygments_lexer": "ipython3",
   "version": "3.8.10"
  },
  "papermill": {
   "default_parameters": {},
   "duration": 1376.44405,
   "end_time": "2022-03-18T07:08:37.223985",
   "environment_variables": {},
   "exception": null,
   "input_path": "/mnt/wd500GB/CSC500/csc500-main/csc500-notebooks/templates/tl_ptn_template.ipynb",
   "output_path": "trial.ipynb",
   "parameters": {
    "parameters": {
     "BEST_MODEL_PATH": "./best_model.pth",
     "NUM_LOGS_PER_EPOCH": 10,
     "criteria_for_best": "target_loss",
     "dataset_seed": 1337,
     "datasets": [
      {
       "domain_prefix": "C_A_",
       "domains": [
        1,
        2,
        3,
        4,
        5
       ],
       "episode_transforms": [],
       "labels": [
        "1-10.",
        "1-11.",
        "1-15.",
        "1-16.",
        "1-17.",
        "1-18.",
        "1-19.",
        "10-4.",
        "10-7.",
        "11-1.",
        "11-14.",
        "11-17.",
        "11-20.",
        "11-7.",
        "13-20.",
        "13-8.",
        "14-10.",
        "14-11.",
        "14-14.",
        "14-7.",
        "15-1.",
        "15-20.",
        "16-1.",
        "16-16.",
        "17-10.",
        "17-11.",
        "17-2.",
        "19-1.",
        "19-16.",
        "19-19.",
        "19-20.",
        "19-3.",
        "2-10.",
        "2-11.",
        "2-17.",
        "2-18.",
        "2-20.",
        "2-3.",
        "2-4.",
        "2-5.",
        "2-6.",
        "2-7.",
        "2-8.",
        "3-13.",
        "3-18.",
        "3-3.",
        "4-1.",
        "4-10.",
        "4-11.",
        "4-19.",
        "5-5.",
        "6-15.",
        "7-10.",
        "7-14.",
        "8-18.",
        "8-20.",
        "8-3.",
        "8-8."
       ],
       "num_examples_per_domain_per_label": 100,
       "pickle_path": "/mnt/wd500GB/CSC500/csc500-main/datasets/cores.stratified_ds.2022A.pkl",
       "source_or_target_dataset": "target",
       "x_transforms": [
        "unit_mag",
        "jitter_256_10",
        "take_200"
       ]
      },
      {
       "domain_prefix": "W_A_",
       "domains": [
        1,
        2,
        3,
        4
       ],
       "episode_transforms": [],
       "labels": [
        "1-10",
        "1-12",
        "1-14",
        "1-16",
        "1-18",
        "1-19",
        "1-8",
        "10-11",
        "10-17",
        "10-4",
        "10-7",
        "11-1",
        "11-10",
        "11-19",
        "11-20",
        "11-4",
        "11-7",
        "12-19",
        "12-20",
        "12-7",
        "13-14",
        "13-18",
        "13-19",
        "13-20",
        "13-3",
        "13-7",
        "14-10",
        "14-11",
        "14-12",
        "14-13",
        "14-14",
        "14-19",
        "14-20",
        "14-7",
        "14-8",
        "14-9",
        "15-1",
        "15-19",
        "15-6",
        "16-1",
        "16-16",
        "16-19",
        "16-20",
        "17-10",
        "17-11",
        "18-1",
        "18-10",
        "18-11",
        "18-12",
        "18-13",
        "18-14",
        "18-15",
        "18-16",
        "18-17",
        "18-19",
        "18-2",
        "18-20",
        "18-4",
        "18-5",
        "18-7",
        "18-8",
        "18-9",
        "19-1",
        "19-10",
        "19-11",
        "19-12",
        "19-13",
        "19-14",
        "19-15",
        "19-19",
        "19-2",
        "19-20",
        "19-3",
        "19-4",
        "19-6",
        "19-7",
        "19-8",
        "19-9",
        "2-1",
        "2-13",
        "2-15",
        "2-3",
        "2-4",
        "2-5",
        "2-6",
        "2-7",
        "2-8",
        "20-1",
        "20-12",
        "20-14",
        "20-15",
        "20-16",
        "20-18",
        "20-19",
        "20-20",
        "20-3",
        "20-4",
        "20-5",
        "20-7",
        "20-8",
        "3-1",
        "3-13",
        "3-18",
        "3-2",
        "3-8",
        "4-1",
        "4-10",
        "4-11",
        "5-1",
        "5-5",
        "6-1",
        "6-15",
        "6-6",
        "7-10",
        "7-11",
        "7-12",
        "7-13",
        "7-14",
        "7-7",
        "7-8",
        "7-9",
        "8-1",
        "8-13",
        "8-14",
        "8-18",
        "8-20",
        "8-3",
        "8-8",
        "9-1",
        "9-7"
       ],
       "num_examples_per_domain_per_label": 100,
       "pickle_path": "/mnt/wd500GB/CSC500/csc500-main/datasets/wisig.node3-19.stratified_ds.2022A.pkl",
       "source_or_target_dataset": "target",
       "x_transforms": [
        "unit_mag",
        "jitter_256_10",
        "take_200"
       ]
      },
      {
       "domain_prefix": "ORACLE.run1_",
       "domains": [
        32,
        38,
        8,
        44,
        14,
        50,
        20,
        26
       ],
       "episode_transforms": [],
       "labels": [
        "3123D52",
        "3123D65",
        "3123D79",
        "3123D80",
        "3123D54",
        "3123D70",
        "3123D7B",
        "3123D89",
        "3123D58",
        "3123D76",
        "3123D7D",
        "3123EFE",
        "3123D64",
        "3123D78",
        "3123D7E",
        "3124E4A"
       ],
       "num_examples_per_domain_per_label": 2000,
       "pickle_path": "/mnt/wd500GB/CSC500/csc500-main/datasets/oracle.Run1_framed_2000Examples_stratified_ds.2022A.pkl",
       "source_or_target_dataset": "source",
       "x_transforms": [
        "unit_mag",
        "jitter_256_10",
        "take_200",
        "resample_20Msps_to_25Msps"
       ]
      }
     ],
     "device": "cuda",
     "experiment_name": "tl_3-jitter10:oracle.run1.framed -> cores+wisig",
     "lr": 0.001,
     "n_epoch": 50,
     "n_query": 2,
     "n_shot": 3,
     "n_way": 16,
     "patience": 3,
     "seed": 1337,
     "test_k_factor": 2,
     "torch_default_dtype": "torch.float32",
     "train_k_factor": 3,
     "val_k_factor": 2,
     "x_net": [
      {
       "class": "nnReshape",
       "kargs": {
        "shape": [
         -1,
         1,
         2,
         256
        ]
       }
      },
      {
       "class": "Conv2d",
       "kargs": {
        "bias": false,
        "in_channels": 1,
        "kernel_size": [
         1,
         7
        ],
        "out_channels": 256,
        "padding": [
         0,
         3
        ]
       }
      },
      {
       "class": "ReLU",
       "kargs": {
        "inplace": true
       }
      },
      {
       "class": "BatchNorm2d",
       "kargs": {
        "num_features": 256
       }
      },
      {
       "class": "Conv2d",
       "kargs": {
        "bias": true,
        "in_channels": 256,
        "kernel_size": [
         2,
         7
        ],
        "out_channels": 80,
        "padding": [
         0,
         3
        ]
       }
      },
      {
       "class": "ReLU",
       "kargs": {
        "inplace": true
       }
      },
      {
       "class": "BatchNorm2d",
       "kargs": {
        "num_features": 80
       }
      },
      {
       "class": "Flatten",
       "kargs": {}
      },
      {
       "class": "Linear",
       "kargs": {
        "in_features": 20480,
        "out_features": 256
       }
      },
      {
       "class": "ReLU",
       "kargs": {
        "inplace": true
       }
      },
      {
       "class": "BatchNorm1d",
       "kargs": {
        "num_features": 256
       }
      },
      {
       "class": "Linear",
       "kargs": {
        "in_features": 256,
        "out_features": 256
       }
      }
     ]
    }
   },
   "start_time": "2022-03-18T06:45:40.779935",
   "version": "2.3.4"
  }
 },
 "nbformat": 4,
 "nbformat_minor": 5
}