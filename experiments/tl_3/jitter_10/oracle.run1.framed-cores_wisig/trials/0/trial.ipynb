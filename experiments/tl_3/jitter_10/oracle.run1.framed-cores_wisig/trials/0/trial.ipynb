{
 "cells": [
  {
   "cell_type": "markdown",
   "id": "9fea5f46",
   "metadata": {
    "papermill": {
     "duration": 0.018636,
     "end_time": "2022-03-18T06:25:43.907200",
     "exception": false,
     "start_time": "2022-03-18T06:25:43.888564",
     "status": "completed"
    },
    "tags": []
   },
   "source": [
    "# Transfer Learning Template"
   ]
  },
  {
   "cell_type": "code",
   "execution_count": 1,
   "id": "0902182a",
   "metadata": {
    "execution": {
     "iopub.execute_input": "2022-03-18T06:25:43.947336Z",
     "iopub.status.busy": "2022-03-18T06:25:43.946928Z",
     "iopub.status.idle": "2022-03-18T06:25:44.869233Z",
     "shell.execute_reply": "2022-03-18T06:25:44.868896Z"
    },
    "papermill": {
     "duration": 0.94931,
     "end_time": "2022-03-18T06:25:44.869301",
     "exception": false,
     "start_time": "2022-03-18T06:25:43.919991",
     "status": "completed"
    },
    "tags": []
   },
   "outputs": [],
   "source": [
    "%load_ext autoreload\n",
    "%autoreload 2\n",
    "%matplotlib inline\n",
    "\n",
    "    \n",
    "import os, json, sys, time, random\n",
    "import numpy as np\n",
    "import torch\n",
    "from torch.optim import Adam\n",
    "from  easydict import EasyDict\n",
    "import matplotlib.pyplot as plt\n",
    "\n",
    "from steves_models.steves_ptn import Steves_Prototypical_Network\n",
    "\n",
    "from steves_utils.lazy_iterable_wrapper import Lazy_Iterable_Wrapper\n",
    "from steves_utils.iterable_aggregator import Iterable_Aggregator\n",
    "from steves_utils.ptn_train_eval_test_jig import  PTN_Train_Eval_Test_Jig\n",
    "from steves_utils.torch_sequential_builder import build_sequential\n",
    "from steves_utils.torch_utils import get_dataset_metrics, ptn_confusion_by_domain_over_dataloader\n",
    "from steves_utils.utils_v2 import (per_domain_accuracy_from_confusion, get_datasets_base_path)\n",
    "from steves_utils.PTN.utils import independent_accuracy_assesment\n",
    "\n",
    "from torch.utils.data import DataLoader\n",
    "\n",
    "from steves_utils.stratified_dataset.episodic_accessor import Episodic_Accessor_Factory\n",
    "\n",
    "from steves_utils.ptn_do_report import (\n",
    "    get_loss_curve,\n",
    "    get_results_table,\n",
    "    get_parameters_table,\n",
    "    get_domain_accuracies,\n",
    ")\n",
    "\n",
    "from steves_utils.transforms import get_chained_transform"
   ]
  },
  {
   "cell_type": "markdown",
   "id": "41c840b4",
   "metadata": {
    "papermill": {
     "duration": 0.012743,
     "end_time": "2022-03-18T06:25:44.895362",
     "exception": false,
     "start_time": "2022-03-18T06:25:44.882619",
     "status": "completed"
    },
    "tags": []
   },
   "source": [
    "# Allowed Parameters\n",
    "These are allowed parameters, not defaults\n",
    "Each of these values need to be present in the injected parameters (the notebook will raise an exception if they are not present)\n",
    "\n",
    "Papermill uses the cell tag \"parameters\" to inject the real parameters below this cell.\n",
    "Enable tags to see what I mean"
   ]
  },
  {
   "cell_type": "code",
   "execution_count": 2,
   "id": "fd44eb83",
   "metadata": {
    "execution": {
     "iopub.execute_input": "2022-03-18T06:25:44.923912Z",
     "iopub.status.busy": "2022-03-18T06:25:44.923646Z",
     "iopub.status.idle": "2022-03-18T06:25:44.935158Z",
     "shell.execute_reply": "2022-03-18T06:25:44.934780Z"
    },
    "papermill": {
     "duration": 0.02708,
     "end_time": "2022-03-18T06:25:44.935273",
     "exception": false,
     "start_time": "2022-03-18T06:25:44.908193",
     "status": "completed"
    },
    "tags": []
   },
   "outputs": [],
   "source": [
    "required_parameters = {\n",
    "    \"experiment_name\",\n",
    "    \"lr\",\n",
    "    \"device\",\n",
    "    \"seed\",\n",
    "    \"dataset_seed\",\n",
    "    \"n_shot\",\n",
    "    \"n_query\",\n",
    "    \"n_way\",\n",
    "    \"train_k_factor\",\n",
    "    \"val_k_factor\",\n",
    "    \"test_k_factor\",\n",
    "    \"n_epoch\",\n",
    "    \"patience\",\n",
    "    \"criteria_for_best\",\n",
    "    \"x_net\",\n",
    "    \"datasets\",\n",
    "    \"torch_default_dtype\",\n",
    "    \"NUM_LOGS_PER_EPOCH\",\n",
    "    \"BEST_MODEL_PATH\",\n",
    "    \"x_shape\",\n",
    "}"
   ]
  },
  {
   "cell_type": "code",
   "execution_count": 3,
   "id": "fa3f0049",
   "metadata": {
    "execution": {
     "iopub.execute_input": "2022-03-18T06:25:44.974755Z",
     "iopub.status.busy": "2022-03-18T06:25:44.974407Z",
     "iopub.status.idle": "2022-03-18T06:25:44.987652Z",
     "shell.execute_reply": "2022-03-18T06:25:44.987175Z"
    },
    "papermill": {
     "duration": 0.033585,
     "end_time": "2022-03-18T06:25:44.987758",
     "exception": false,
     "start_time": "2022-03-18T06:25:44.954173",
     "status": "completed"
    },
    "tags": [
     "parameters"
    ]
   },
   "outputs": [],
   "source": [
    "from steves_utils.CORES.utils import (\n",
    "    ALL_NODES,\n",
    "    ALL_NODES_MINIMUM_1000_EXAMPLES,\n",
    "    ALL_DAYS\n",
    ")\n",
    "\n",
    "from steves_utils.ORACLE.utils_v2 import (\n",
    "    ALL_DISTANCES_FEET_NARROWED,\n",
    "    ALL_RUNS,\n",
    "    ALL_SERIAL_NUMBERS,\n",
    ")\n",
    "\n",
    "standalone_parameters = {}\n",
    "standalone_parameters[\"experiment_name\"] = \"STANDALONE PTN\"\n",
    "standalone_parameters[\"lr\"] = 0.001\n",
    "standalone_parameters[\"device\"] = \"cuda\"\n",
    "\n",
    "standalone_parameters[\"seed\"] = 1337\n",
    "standalone_parameters[\"dataset_seed\"] = 1337\n",
    "\n",
    "standalone_parameters[\"n_way\"] = 8\n",
    "standalone_parameters[\"n_shot\"] = 3\n",
    "standalone_parameters[\"n_query\"]  = 2\n",
    "standalone_parameters[\"train_k_factor\"] = 1\n",
    "standalone_parameters[\"val_k_factor\"] = 2\n",
    "standalone_parameters[\"test_k_factor\"] = 2\n",
    "\n",
    "\n",
    "standalone_parameters[\"n_epoch\"] = 50\n",
    "\n",
    "standalone_parameters[\"patience\"] = 10\n",
    "standalone_parameters[\"criteria_for_best\"] = \"source_loss\"\n",
    "\n",
    "standalone_parameters[\"datasets\"] = [\n",
    "    {\n",
    "        \"labels\": ALL_SERIAL_NUMBERS,\n",
    "        \"domains\": ALL_DISTANCES_FEET_NARROWED,\n",
    "        \"num_examples_per_domain_per_label\": 100,\n",
    "        \"pickle_path\": os.path.join(get_datasets_base_path(), \"oracle.Run1_framed_2000Examples_stratified_ds.2022A.pkl\"),\n",
    "        \"source_or_target_dataset\": \"source\",\n",
    "        \"x_transforms\": [\"unit_mag\", \"minus_two\"],\n",
    "        \"episode_transforms\": [],\n",
    "        \"domain_prefix\": \"ORACLE_\"\n",
    "    },\n",
    "    {\n",
    "        \"labels\": ALL_NODES,\n",
    "        \"domains\": ALL_DAYS,\n",
    "        \"num_examples_per_domain_per_label\": 100,\n",
    "        \"pickle_path\": os.path.join(get_datasets_base_path(), \"cores.stratified_ds.2022A.pkl\"),\n",
    "        \"source_or_target_dataset\": \"target\",\n",
    "        \"x_transforms\": [\"unit_power\", \"times_zero\"],\n",
    "        \"episode_transforms\": [],\n",
    "        \"domain_prefix\": \"CORES_\"\n",
    "    }   \n",
    "]\n",
    "\n",
    "standalone_parameters[\"torch_default_dtype\"] = \"torch.float32\" \n",
    "\n",
    "\n",
    "\n",
    "standalone_parameters[\"x_net\"] =     [\n",
    "    {\"class\": \"nnReshape\", \"kargs\": {\"shape\":[-1, 1, 2, 256]}},\n",
    "    {\"class\": \"Conv2d\", \"kargs\": { \"in_channels\":1, \"out_channels\":256, \"kernel_size\":(1,7), \"bias\":False, \"padding\":(0,3), },},\n",
    "    {\"class\": \"ReLU\", \"kargs\": {\"inplace\": True}},\n",
    "    {\"class\": \"BatchNorm2d\", \"kargs\": {\"num_features\":256}},\n",
    "\n",
    "    {\"class\": \"Conv2d\", \"kargs\": { \"in_channels\":256, \"out_channels\":80, \"kernel_size\":(2,7), \"bias\":True, \"padding\":(0,3), },},\n",
    "    {\"class\": \"ReLU\", \"kargs\": {\"inplace\": True}},\n",
    "    {\"class\": \"BatchNorm2d\", \"kargs\": {\"num_features\":80}},\n",
    "    {\"class\": \"Flatten\", \"kargs\": {}},\n",
    "\n",
    "    {\"class\": \"Linear\", \"kargs\": {\"in_features\": 80*256, \"out_features\": 256}}, # 80 units per IQ pair\n",
    "    {\"class\": \"ReLU\", \"kargs\": {\"inplace\": True}},\n",
    "    {\"class\": \"BatchNorm1d\", \"kargs\": {\"num_features\":256}},\n",
    "\n",
    "    {\"class\": \"Linear\", \"kargs\": {\"in_features\": 256, \"out_features\": 256}},\n",
    "]\n",
    "\n",
    "# Parameters relevant to results\n",
    "# These parameters will basically never need to change\n",
    "standalone_parameters[\"NUM_LOGS_PER_EPOCH\"] = 10\n",
    "standalone_parameters[\"BEST_MODEL_PATH\"] = \"./best_model.pth\"\n",
    "\n",
    "\n",
    "\n",
    "\n"
   ]
  },
  {
   "cell_type": "code",
   "execution_count": 4,
   "id": "6c35d702",
   "metadata": {
    "execution": {
     "iopub.execute_input": "2022-03-18T06:25:45.027012Z",
     "iopub.status.busy": "2022-03-18T06:25:45.026610Z",
     "iopub.status.idle": "2022-03-18T06:25:45.040653Z",
     "shell.execute_reply": "2022-03-18T06:25:45.040165Z"
    },
    "papermill": {
     "duration": 0.03575,
     "end_time": "2022-03-18T06:25:45.040755",
     "exception": false,
     "start_time": "2022-03-18T06:25:45.005005",
     "status": "completed"
    },
    "tags": [
     "injected-parameters"
    ]
   },
   "outputs": [],
   "source": [
    "# Parameters\n",
    "parameters = {\n",
    "    \"experiment_name\": \"tl_3-jitter10:oracle.run1.framed -> cores+wisig\",\n",
    "    \"device\": \"cuda\",\n",
    "    \"lr\": 0.001,\n",
    "    \"seed\": 1337,\n",
    "    \"dataset_seed\": 1337,\n",
    "    \"n_shot\": 3,\n",
    "    \"n_query\": 2,\n",
    "    \"train_k_factor\": 3,\n",
    "    \"val_k_factor\": 2,\n",
    "    \"test_k_factor\": 2,\n",
    "    \"torch_default_dtype\": \"torch.float32\",\n",
    "    \"n_epoch\": 50,\n",
    "    \"patience\": 3,\n",
    "    \"criteria_for_best\": \"target_loss\",\n",
    "    \"x_net\": [\n",
    "        {\"class\": \"nnReshape\", \"kargs\": {\"shape\": [-1, 1, 2, 256]}},\n",
    "        {\n",
    "            \"class\": \"Conv2d\",\n",
    "            \"kargs\": {\n",
    "                \"in_channels\": 1,\n",
    "                \"out_channels\": 256,\n",
    "                \"kernel_size\": [1, 7],\n",
    "                \"bias\": False,\n",
    "                \"padding\": [0, 3],\n",
    "            },\n",
    "        },\n",
    "        {\"class\": \"ReLU\", \"kargs\": {\"inplace\": True}},\n",
    "        {\"class\": \"BatchNorm2d\", \"kargs\": {\"num_features\": 256}},\n",
    "        {\n",
    "            \"class\": \"Conv2d\",\n",
    "            \"kargs\": {\n",
    "                \"in_channels\": 256,\n",
    "                \"out_channels\": 80,\n",
    "                \"kernel_size\": [2, 7],\n",
    "                \"bias\": True,\n",
    "                \"padding\": [0, 3],\n",
    "            },\n",
    "        },\n",
    "        {\"class\": \"ReLU\", \"kargs\": {\"inplace\": True}},\n",
    "        {\"class\": \"BatchNorm2d\", \"kargs\": {\"num_features\": 80}},\n",
    "        {\"class\": \"Flatten\", \"kargs\": {}},\n",
    "        {\"class\": \"Linear\", \"kargs\": {\"in_features\": 20480, \"out_features\": 256}},\n",
    "        {\"class\": \"ReLU\", \"kargs\": {\"inplace\": True}},\n",
    "        {\"class\": \"BatchNorm1d\", \"kargs\": {\"num_features\": 256}},\n",
    "        {\"class\": \"Linear\", \"kargs\": {\"in_features\": 256, \"out_features\": 256}},\n",
    "    ],\n",
    "    \"NUM_LOGS_PER_EPOCH\": 10,\n",
    "    \"BEST_MODEL_PATH\": \"./best_model.pth\",\n",
    "    \"n_way\": 16,\n",
    "    \"datasets\": [\n",
    "        {\n",
    "            \"labels\": [\n",
    "                \"1-10.\",\n",
    "                \"1-11.\",\n",
    "                \"1-15.\",\n",
    "                \"1-16.\",\n",
    "                \"1-17.\",\n",
    "                \"1-18.\",\n",
    "                \"1-19.\",\n",
    "                \"10-4.\",\n",
    "                \"10-7.\",\n",
    "                \"11-1.\",\n",
    "                \"11-14.\",\n",
    "                \"11-17.\",\n",
    "                \"11-20.\",\n",
    "                \"11-7.\",\n",
    "                \"13-20.\",\n",
    "                \"13-8.\",\n",
    "                \"14-10.\",\n",
    "                \"14-11.\",\n",
    "                \"14-14.\",\n",
    "                \"14-7.\",\n",
    "                \"15-1.\",\n",
    "                \"15-20.\",\n",
    "                \"16-1.\",\n",
    "                \"16-16.\",\n",
    "                \"17-10.\",\n",
    "                \"17-11.\",\n",
    "                \"17-2.\",\n",
    "                \"19-1.\",\n",
    "                \"19-16.\",\n",
    "                \"19-19.\",\n",
    "                \"19-20.\",\n",
    "                \"19-3.\",\n",
    "                \"2-10.\",\n",
    "                \"2-11.\",\n",
    "                \"2-17.\",\n",
    "                \"2-18.\",\n",
    "                \"2-20.\",\n",
    "                \"2-3.\",\n",
    "                \"2-4.\",\n",
    "                \"2-5.\",\n",
    "                \"2-6.\",\n",
    "                \"2-7.\",\n",
    "                \"2-8.\",\n",
    "                \"3-13.\",\n",
    "                \"3-18.\",\n",
    "                \"3-3.\",\n",
    "                \"4-1.\",\n",
    "                \"4-10.\",\n",
    "                \"4-11.\",\n",
    "                \"4-19.\",\n",
    "                \"5-5.\",\n",
    "                \"6-15.\",\n",
    "                \"7-10.\",\n",
    "                \"7-14.\",\n",
    "                \"8-18.\",\n",
    "                \"8-20.\",\n",
    "                \"8-3.\",\n",
    "                \"8-8.\",\n",
    "            ],\n",
    "            \"domains\": [1, 2, 3, 4, 5],\n",
    "            \"num_examples_per_domain_per_label\": 100,\n",
    "            \"pickle_path\": \"/mnt/wd500GB/CSC500/csc500-main/datasets/cores.stratified_ds.2022A.pkl\",\n",
    "            \"source_or_target_dataset\": \"target\",\n",
    "            \"x_transforms\": [\"unit_power\", \"jitter_256_10\", \"take_200\"],\n",
    "            \"episode_transforms\": [],\n",
    "            \"domain_prefix\": \"C_A_\",\n",
    "        },\n",
    "        {\n",
    "            \"labels\": [\n",
    "                \"1-10\",\n",
    "                \"1-12\",\n",
    "                \"1-14\",\n",
    "                \"1-16\",\n",
    "                \"1-18\",\n",
    "                \"1-19\",\n",
    "                \"1-8\",\n",
    "                \"10-11\",\n",
    "                \"10-17\",\n",
    "                \"10-4\",\n",
    "                \"10-7\",\n",
    "                \"11-1\",\n",
    "                \"11-10\",\n",
    "                \"11-19\",\n",
    "                \"11-20\",\n",
    "                \"11-4\",\n",
    "                \"11-7\",\n",
    "                \"12-19\",\n",
    "                \"12-20\",\n",
    "                \"12-7\",\n",
    "                \"13-14\",\n",
    "                \"13-18\",\n",
    "                \"13-19\",\n",
    "                \"13-20\",\n",
    "                \"13-3\",\n",
    "                \"13-7\",\n",
    "                \"14-10\",\n",
    "                \"14-11\",\n",
    "                \"14-12\",\n",
    "                \"14-13\",\n",
    "                \"14-14\",\n",
    "                \"14-19\",\n",
    "                \"14-20\",\n",
    "                \"14-7\",\n",
    "                \"14-8\",\n",
    "                \"14-9\",\n",
    "                \"15-1\",\n",
    "                \"15-19\",\n",
    "                \"15-6\",\n",
    "                \"16-1\",\n",
    "                \"16-16\",\n",
    "                \"16-19\",\n",
    "                \"16-20\",\n",
    "                \"17-10\",\n",
    "                \"17-11\",\n",
    "                \"18-1\",\n",
    "                \"18-10\",\n",
    "                \"18-11\",\n",
    "                \"18-12\",\n",
    "                \"18-13\",\n",
    "                \"18-14\",\n",
    "                \"18-15\",\n",
    "                \"18-16\",\n",
    "                \"18-17\",\n",
    "                \"18-19\",\n",
    "                \"18-2\",\n",
    "                \"18-20\",\n",
    "                \"18-4\",\n",
    "                \"18-5\",\n",
    "                \"18-7\",\n",
    "                \"18-8\",\n",
    "                \"18-9\",\n",
    "                \"19-1\",\n",
    "                \"19-10\",\n",
    "                \"19-11\",\n",
    "                \"19-12\",\n",
    "                \"19-13\",\n",
    "                \"19-14\",\n",
    "                \"19-15\",\n",
    "                \"19-19\",\n",
    "                \"19-2\",\n",
    "                \"19-20\",\n",
    "                \"19-3\",\n",
    "                \"19-4\",\n",
    "                \"19-6\",\n",
    "                \"19-7\",\n",
    "                \"19-8\",\n",
    "                \"19-9\",\n",
    "                \"2-1\",\n",
    "                \"2-13\",\n",
    "                \"2-15\",\n",
    "                \"2-3\",\n",
    "                \"2-4\",\n",
    "                \"2-5\",\n",
    "                \"2-6\",\n",
    "                \"2-7\",\n",
    "                \"2-8\",\n",
    "                \"20-1\",\n",
    "                \"20-12\",\n",
    "                \"20-14\",\n",
    "                \"20-15\",\n",
    "                \"20-16\",\n",
    "                \"20-18\",\n",
    "                \"20-19\",\n",
    "                \"20-20\",\n",
    "                \"20-3\",\n",
    "                \"20-4\",\n",
    "                \"20-5\",\n",
    "                \"20-7\",\n",
    "                \"20-8\",\n",
    "                \"3-1\",\n",
    "                \"3-13\",\n",
    "                \"3-18\",\n",
    "                \"3-2\",\n",
    "                \"3-8\",\n",
    "                \"4-1\",\n",
    "                \"4-10\",\n",
    "                \"4-11\",\n",
    "                \"5-1\",\n",
    "                \"5-5\",\n",
    "                \"6-1\",\n",
    "                \"6-15\",\n",
    "                \"6-6\",\n",
    "                \"7-10\",\n",
    "                \"7-11\",\n",
    "                \"7-12\",\n",
    "                \"7-13\",\n",
    "                \"7-14\",\n",
    "                \"7-7\",\n",
    "                \"7-8\",\n",
    "                \"7-9\",\n",
    "                \"8-1\",\n",
    "                \"8-13\",\n",
    "                \"8-14\",\n",
    "                \"8-18\",\n",
    "                \"8-20\",\n",
    "                \"8-3\",\n",
    "                \"8-8\",\n",
    "                \"9-1\",\n",
    "                \"9-7\",\n",
    "            ],\n",
    "            \"domains\": [1, 2, 3, 4],\n",
    "            \"num_examples_per_domain_per_label\": 100,\n",
    "            \"pickle_path\": \"/mnt/wd500GB/CSC500/csc500-main/datasets/wisig.node3-19.stratified_ds.2022A.pkl\",\n",
    "            \"source_or_target_dataset\": \"target\",\n",
    "            \"x_transforms\": [\"unit_power\", \"jitter_256_10\", \"take_200\"],\n",
    "            \"episode_transforms\": [],\n",
    "            \"domain_prefix\": \"W_A_\",\n",
    "        },\n",
    "        {\n",
    "            \"labels\": [\n",
    "                \"3123D52\",\n",
    "                \"3123D65\",\n",
    "                \"3123D79\",\n",
    "                \"3123D80\",\n",
    "                \"3123D54\",\n",
    "                \"3123D70\",\n",
    "                \"3123D7B\",\n",
    "                \"3123D89\",\n",
    "                \"3123D58\",\n",
    "                \"3123D76\",\n",
    "                \"3123D7D\",\n",
    "                \"3123EFE\",\n",
    "                \"3123D64\",\n",
    "                \"3123D78\",\n",
    "                \"3123D7E\",\n",
    "                \"3124E4A\",\n",
    "            ],\n",
    "            \"domains\": [32, 38, 8, 44, 14, 50, 20, 26],\n",
    "            \"num_examples_per_domain_per_label\": 2000,\n",
    "            \"pickle_path\": \"/mnt/wd500GB/CSC500/csc500-main/datasets/oracle.Run1_framed_2000Examples_stratified_ds.2022A.pkl\",\n",
    "            \"source_or_target_dataset\": \"source\",\n",
    "            \"x_transforms\": [\n",
    "                \"unit_power\",\n",
    "                \"jitter_256_10\",\n",
    "                \"take_200\",\n",
    "                \"resample_20Msps_to_25Msps\",\n",
    "            ],\n",
    "            \"episode_transforms\": [],\n",
    "            \"domain_prefix\": \"ORACLE.run1_\",\n",
    "        },\n",
    "    ],\n",
    "}\n"
   ]
  },
  {
   "cell_type": "code",
   "execution_count": 5,
   "id": "8fa1cc33",
   "metadata": {
    "execution": {
     "iopub.execute_input": "2022-03-18T06:25:45.076239Z",
     "iopub.status.busy": "2022-03-18T06:25:45.075985Z",
     "iopub.status.idle": "2022-03-18T06:25:45.087559Z",
     "shell.execute_reply": "2022-03-18T06:25:45.087051Z"
    },
    "papermill": {
     "duration": 0.027598,
     "end_time": "2022-03-18T06:25:45.087663",
     "exception": false,
     "start_time": "2022-03-18T06:25:45.060065",
     "status": "completed"
    },
    "tags": []
   },
   "outputs": [],
   "source": [
    "# Set this to True if you want to run this template directly\n",
    "STANDALONE = False\n",
    "if STANDALONE:\n",
    "    print(\"parameters not injected, running with standalone_parameters\")\n",
    "    parameters = standalone_parameters\n",
    "\n",
    "if not 'parameters' in locals() and not 'parameters' in globals():\n",
    "    raise Exception(\"Parameter injection failed\")\n",
    "\n",
    "#Use an easy dict for all the parameters\n",
    "p = EasyDict(parameters)\n",
    "\n",
    "if \"x_shape\" not in p:\n",
    "    p.x_shape = [2,256] # Default to this if we dont supply x_shape\n",
    "\n",
    "\n",
    "supplied_keys = set(p.keys())\n",
    "\n",
    "if  supplied_keys != required_parameters:\n",
    "    print(\"Parameters are incorrect\")\n",
    "    if len(supplied_keys - required_parameters)>0: print(\"Shouldn't have:\", str(supplied_keys - required_parameters))\n",
    "    if len(required_parameters - supplied_keys)>0: print(\"Need to have:\", str(required_parameters - supplied_keys))\n",
    "    raise RuntimeError(\"Parameters are incorrect\")"
   ]
  },
  {
   "cell_type": "code",
   "execution_count": 6,
   "id": "3a028d58",
   "metadata": {
    "execution": {
     "iopub.execute_input": "2022-03-18T06:25:45.125984Z",
     "iopub.status.busy": "2022-03-18T06:25:45.118601Z",
     "iopub.status.idle": "2022-03-18T06:25:45.134414Z",
     "shell.execute_reply": "2022-03-18T06:25:45.133991Z"
    },
    "papermill": {
     "duration": 0.031527,
     "end_time": "2022-03-18T06:25:45.134515",
     "exception": false,
     "start_time": "2022-03-18T06:25:45.102988",
     "status": "completed"
    },
    "tags": []
   },
   "outputs": [],
   "source": [
    "###################################\n",
    "# Set the RNGs and make it all deterministic\n",
    "###################################\n",
    "np.random.seed(p.seed)\n",
    "random.seed(p.seed)\n",
    "torch.manual_seed(p.seed)\n",
    "\n",
    "torch.use_deterministic_algorithms(True) "
   ]
  },
  {
   "cell_type": "code",
   "execution_count": 7,
   "id": "b691acf6",
   "metadata": {
    "execution": {
     "iopub.execute_input": "2022-03-18T06:25:45.169356Z",
     "iopub.status.busy": "2022-03-18T06:25:45.169106Z",
     "iopub.status.idle": "2022-03-18T06:25:45.182986Z",
     "shell.execute_reply": "2022-03-18T06:25:45.182565Z"
    },
    "papermill": {
     "duration": 0.030561,
     "end_time": "2022-03-18T06:25:45.183084",
     "exception": false,
     "start_time": "2022-03-18T06:25:45.152523",
     "status": "completed"
    },
    "tags": []
   },
   "outputs": [],
   "source": [
    "###########################################\n",
    "# The stratified datasets honor this\n",
    "###########################################\n",
    "torch.set_default_dtype(eval(p.torch_default_dtype))"
   ]
  },
  {
   "cell_type": "code",
   "execution_count": 8,
   "id": "b5fba671",
   "metadata": {
    "execution": {
     "iopub.execute_input": "2022-03-18T06:25:45.217376Z",
     "iopub.status.busy": "2022-03-18T06:25:45.217130Z",
     "iopub.status.idle": "2022-03-18T06:25:45.254544Z",
     "shell.execute_reply": "2022-03-18T06:25:45.254031Z"
    },
    "papermill": {
     "duration": 0.05227,
     "end_time": "2022-03-18T06:25:45.254651",
     "exception": false,
     "start_time": "2022-03-18T06:25:45.202381",
     "status": "completed"
    },
    "tags": []
   },
   "outputs": [],
   "source": [
    "###################################\n",
    "# Build the network(s)\n",
    "# Note: It's critical to do this AFTER setting the RNG\n",
    "###################################\n",
    "x_net = build_sequential(p.x_net)"
   ]
  },
  {
   "cell_type": "code",
   "execution_count": 9,
   "id": "5d7e61cc",
   "metadata": {
    "execution": {
     "iopub.execute_input": "2022-03-18T06:25:45.293631Z",
     "iopub.status.busy": "2022-03-18T06:25:45.290610Z",
     "iopub.status.idle": "2022-03-18T06:25:45.303095Z",
     "shell.execute_reply": "2022-03-18T06:25:45.303527Z"
    },
    "papermill": {
     "duration": 0.029378,
     "end_time": "2022-03-18T06:25:45.303650",
     "exception": false,
     "start_time": "2022-03-18T06:25:45.274272",
     "status": "completed"
    },
    "tags": []
   },
   "outputs": [],
   "source": [
    "start_time_secs = time.time()"
   ]
  },
  {
   "cell_type": "code",
   "execution_count": 10,
   "id": "c6b67dfd",
   "metadata": {
    "execution": {
     "iopub.execute_input": "2022-03-18T06:25:45.340028Z",
     "iopub.status.busy": "2022-03-18T06:25:45.338386Z",
     "iopub.status.idle": "2022-03-18T06:25:45.353979Z",
     "shell.execute_reply": "2022-03-18T06:25:45.354373Z"
    },
    "papermill": {
     "duration": 0.031854,
     "end_time": "2022-03-18T06:25:45.354489",
     "exception": false,
     "start_time": "2022-03-18T06:25:45.322635",
     "status": "completed"
    },
    "tags": []
   },
   "outputs": [],
   "source": [
    "p.domains_source = []\n",
    "p.domains_target = []\n",
    "\n",
    "\n",
    "train_original_source = []\n",
    "val_original_source   = []\n",
    "test_original_source  = []\n",
    "\n",
    "train_original_target = []\n",
    "val_original_target   = []\n",
    "test_original_target  = []"
   ]
  },
  {
   "cell_type": "code",
   "execution_count": 11,
   "id": "e3d9c3d3",
   "metadata": {
    "execution": {
     "iopub.execute_input": "2022-03-18T06:25:45.388067Z",
     "iopub.status.busy": "2022-03-18T06:25:45.387821Z",
     "iopub.status.idle": "2022-03-18T06:25:45.402435Z",
     "shell.execute_reply": "2022-03-18T06:25:45.402044Z"
    },
    "papermill": {
     "duration": 0.029823,
     "end_time": "2022-03-18T06:25:45.402523",
     "exception": false,
     "start_time": "2022-03-18T06:25:45.372700",
     "status": "completed"
    },
    "tags": []
   },
   "outputs": [],
   "source": [
    "# global_x_transform_func = lambda x: normalize(x.to(torch.get_default_dtype()), \"unit_power\") # unit_power, unit_mag\n",
    "# global_x_transform_func = lambda x: normalize(x, \"unit_power\") # unit_power, unit_mag"
   ]
  },
  {
   "cell_type": "code",
   "execution_count": 12,
   "id": "acb78fd2",
   "metadata": {
    "execution": {
     "iopub.execute_input": "2022-03-18T06:25:45.442171Z",
     "iopub.status.busy": "2022-03-18T06:25:45.441892Z",
     "iopub.status.idle": "2022-03-18T06:25:45.455603Z",
     "shell.execute_reply": "2022-03-18T06:25:45.455392Z"
    },
    "papermill": {
     "duration": 0.033598,
     "end_time": "2022-03-18T06:25:45.455652",
     "exception": false,
     "start_time": "2022-03-18T06:25:45.422054",
     "status": "completed"
    },
    "tags": []
   },
   "outputs": [],
   "source": [
    "def add_dataset(\n",
    "    labels,\n",
    "    domains,\n",
    "    pickle_path,\n",
    "    x_transforms,\n",
    "    episode_transforms,\n",
    "    domain_prefix,\n",
    "    num_examples_per_domain_per_label,\n",
    "    source_or_target_dataset:str,\n",
    "    iterator_seed=p.seed,\n",
    "    dataset_seed=p.dataset_seed,\n",
    "    n_shot=p.n_shot,\n",
    "    n_way=p.n_way,\n",
    "    n_query=p.n_query,\n",
    "    train_val_test_k_factors=(p.train_k_factor,p.val_k_factor,p.test_k_factor),\n",
    "):\n",
    "   \n",
    "    if x_transforms == []: x_transform = None\n",
    "    else: x_transform = get_chained_transform(x_transforms)\n",
    "    \n",
    "    if episode_transforms == []: episode_transform = None\n",
    "    else: raise Exception(\"episode_transforms not implemented\")\n",
    "    \n",
    "    episode_transform = lambda tup, _prefix=domain_prefix: (_prefix + str(tup[0]), tup[1])\n",
    "\n",
    "\n",
    "    eaf = Episodic_Accessor_Factory(\n",
    "        labels=labels,\n",
    "        domains=domains,\n",
    "        num_examples_per_domain_per_label=num_examples_per_domain_per_label,\n",
    "        iterator_seed=iterator_seed,\n",
    "        dataset_seed=dataset_seed,\n",
    "        n_shot=n_shot,\n",
    "        n_way=n_way,\n",
    "        n_query=n_query,\n",
    "        train_val_test_k_factors=train_val_test_k_factors,\n",
    "        pickle_path=pickle_path,\n",
    "        x_transform_func=x_transform,\n",
    "    )\n",
    "\n",
    "    train, val, test = eaf.get_train(), eaf.get_val(), eaf.get_test()\n",
    "    train = Lazy_Iterable_Wrapper(train, episode_transform)\n",
    "    val = Lazy_Iterable_Wrapper(val, episode_transform)\n",
    "    test = Lazy_Iterable_Wrapper(test, episode_transform)\n",
    "\n",
    "    if source_or_target_dataset==\"source\":\n",
    "        train_original_source.append(train)\n",
    "        val_original_source.append(val)\n",
    "        test_original_source.append(test)\n",
    "\n",
    "        p.domains_source.extend(\n",
    "            [domain_prefix + str(u) for u in domains]\n",
    "        )\n",
    "    elif source_or_target_dataset==\"target\":\n",
    "        train_original_target.append(train)\n",
    "        val_original_target.append(val)\n",
    "        test_original_target.append(test)\n",
    "        p.domains_target.extend(\n",
    "            [domain_prefix + str(u) for u in domains]\n",
    "        )\n",
    "    else:\n",
    "        raise Exception(f\"invalid source_or_target_dataset: {source_or_target_dataset}\")\n",
    "    "
   ]
  },
  {
   "cell_type": "code",
   "execution_count": 13,
   "id": "fe266617",
   "metadata": {
    "execution": {
     "iopub.execute_input": "2022-03-18T06:25:45.489009Z",
     "iopub.status.busy": "2022-03-18T06:25:45.488763Z",
     "iopub.status.idle": "2022-03-18T06:26:42.644802Z",
     "shell.execute_reply": "2022-03-18T06:26:42.644344Z"
    },
    "papermill": {
     "duration": 57.171396,
     "end_time": "2022-03-18T06:26:42.644909",
     "exception": false,
     "start_time": "2022-03-18T06:25:45.473513",
     "status": "completed"
    },
    "tags": []
   },
   "outputs": [],
   "source": [
    "for ds in p.datasets:\n",
    "    add_dataset(**ds)"
   ]
  },
  {
   "cell_type": "code",
   "execution_count": 14,
   "id": "b90d65ac",
   "metadata": {
    "execution": {
     "iopub.execute_input": "2022-03-18T06:26:42.687391Z",
     "iopub.status.busy": "2022-03-18T06:26:42.683699Z",
     "iopub.status.idle": "2022-03-18T06:26:42.693333Z",
     "shell.execute_reply": "2022-03-18T06:26:42.693728Z"
    },
    "papermill": {
     "duration": 0.030247,
     "end_time": "2022-03-18T06:26:42.693847",
     "exception": false,
     "start_time": "2022-03-18T06:26:42.663600",
     "status": "completed"
    },
    "tags": []
   },
   "outputs": [],
   "source": [
    "# from steves_utils.CORES.utils import (\n",
    "#     ALL_NODES,\n",
    "#     ALL_NODES_MINIMUM_1000_EXAMPLES,\n",
    "#     ALL_DAYS\n",
    "# )\n",
    "\n",
    "# add_dataset(\n",
    "#     labels=ALL_NODES,\n",
    "#     domains = ALL_DAYS,\n",
    "#     num_examples_per_domain_per_label=100,\n",
    "#     pickle_path=os.path.join(get_datasets_base_path(), \"cores.stratified_ds.2022A.pkl\"),\n",
    "#     source_or_target_dataset=\"target\",\n",
    "#     x_transform_func=global_x_transform_func,\n",
    "#     domain_modifier=lambda u: f\"cores_{u}\"\n",
    "# )"
   ]
  },
  {
   "cell_type": "code",
   "execution_count": 15,
   "id": "76db484d",
   "metadata": {
    "execution": {
     "iopub.execute_input": "2022-03-18T06:26:42.727944Z",
     "iopub.status.busy": "2022-03-18T06:26:42.727682Z",
     "iopub.status.idle": "2022-03-18T06:26:42.738714Z",
     "shell.execute_reply": "2022-03-18T06:26:42.738292Z"
    },
    "papermill": {
     "duration": 0.026611,
     "end_time": "2022-03-18T06:26:42.738813",
     "exception": false,
     "start_time": "2022-03-18T06:26:42.712202",
     "status": "completed"
    },
    "tags": []
   },
   "outputs": [],
   "source": [
    "# from steves_utils.ORACLE.utils_v2 import (\n",
    "#     ALL_DISTANCES_FEET,\n",
    "#     ALL_RUNS,\n",
    "#     ALL_SERIAL_NUMBERS,\n",
    "# )\n",
    "\n",
    "\n",
    "# add_dataset(\n",
    "#     labels=ALL_SERIAL_NUMBERS,\n",
    "#     domains = list(set(ALL_DISTANCES_FEET) - {2,62}),\n",
    "#     num_examples_per_domain_per_label=100,\n",
    "#     pickle_path=os.path.join(get_datasets_base_path(), \"oracle.Run2_framed_2000Examples_stratified_ds.2022A.pkl\"),\n",
    "#     source_or_target_dataset=\"source\",\n",
    "#     x_transform_func=global_x_transform_func,\n",
    "#     domain_modifier=lambda u: f\"oracle1_{u}\"\n",
    "# )\n"
   ]
  },
  {
   "cell_type": "code",
   "execution_count": 16,
   "id": "97dea9d2",
   "metadata": {
    "execution": {
     "iopub.execute_input": "2022-03-18T06:26:42.780586Z",
     "iopub.status.busy": "2022-03-18T06:26:42.780331Z",
     "iopub.status.idle": "2022-03-18T06:26:42.786976Z",
     "shell.execute_reply": "2022-03-18T06:26:42.786555Z"
    },
    "papermill": {
     "duration": 0.032221,
     "end_time": "2022-03-18T06:26:42.787075",
     "exception": false,
     "start_time": "2022-03-18T06:26:42.754854",
     "status": "completed"
    },
    "tags": []
   },
   "outputs": [],
   "source": [
    "# from steves_utils.ORACLE.utils_v2 import (\n",
    "#     ALL_DISTANCES_FEET,\n",
    "#     ALL_RUNS,\n",
    "#     ALL_SERIAL_NUMBERS,\n",
    "# )\n",
    "\n",
    "\n",
    "# add_dataset(\n",
    "#     labels=ALL_SERIAL_NUMBERS,\n",
    "#     domains = list(set(ALL_DISTANCES_FEET) - {2,62,56}),\n",
    "#     num_examples_per_domain_per_label=100,\n",
    "#     pickle_path=os.path.join(get_datasets_base_path(), \"oracle.Run2_framed_2000Examples_stratified_ds.2022A.pkl\"),\n",
    "#     source_or_target_dataset=\"source\",\n",
    "#     x_transform_func=global_x_transform_func,\n",
    "#     domain_modifier=lambda u: f\"oracle2_{u}\"\n",
    "# )"
   ]
  },
  {
   "cell_type": "code",
   "execution_count": 17,
   "id": "6f289866",
   "metadata": {
    "execution": {
     "iopub.execute_input": "2022-03-18T06:26:42.821245Z",
     "iopub.status.busy": "2022-03-18T06:26:42.820445Z",
     "iopub.status.idle": "2022-03-18T06:26:42.834747Z",
     "shell.execute_reply": "2022-03-18T06:26:42.834526Z"
    },
    "papermill": {
     "duration": 0.029902,
     "end_time": "2022-03-18T06:26:42.834802",
     "exception": false,
     "start_time": "2022-03-18T06:26:42.804900",
     "status": "completed"
    },
    "tags": []
   },
   "outputs": [],
   "source": [
    "# add_dataset(\n",
    "#     labels=list(range(19)),\n",
    "#     domains = [0,1,2],\n",
    "#     num_examples_per_domain_per_label=100,\n",
    "#     pickle_path=os.path.join(get_datasets_base_path(), \"metehan.stratified_ds.2022A.pkl\"),\n",
    "#     source_or_target_dataset=\"target\",\n",
    "#     x_transform_func=global_x_transform_func,\n",
    "#     domain_modifier=lambda u: f\"met_{u}\"\n",
    "# )"
   ]
  },
  {
   "cell_type": "code",
   "execution_count": 18,
   "id": "86a863c3",
   "metadata": {
    "execution": {
     "iopub.execute_input": "2022-03-18T06:26:42.871721Z",
     "iopub.status.busy": "2022-03-18T06:26:42.865801Z",
     "iopub.status.idle": "2022-03-18T06:26:42.877624Z",
     "shell.execute_reply": "2022-03-18T06:26:42.877817Z"
    },
    "papermill": {
     "duration": 0.029184,
     "end_time": "2022-03-18T06:26:42.877883",
     "exception": false,
     "start_time": "2022-03-18T06:26:42.848699",
     "status": "completed"
    },
    "tags": []
   },
   "outputs": [],
   "source": [
    "# # from steves_utils.wisig.utils import (\n",
    "# #     ALL_NODES_MINIMUM_100_EXAMPLES,\n",
    "# #     ALL_NODES_MINIMUM_500_EXAMPLES,\n",
    "# #     ALL_NODES_MINIMUM_1000_EXAMPLES,\n",
    "# #     ALL_DAYS\n",
    "# # )\n",
    "\n",
    "# import steves_utils.wisig.utils as wisig\n",
    "\n",
    "\n",
    "# add_dataset(\n",
    "#     labels=wisig.ALL_NODES_MINIMUM_100_EXAMPLES,\n",
    "#     domains = wisig.ALL_DAYS,\n",
    "#     num_examples_per_domain_per_label=100,\n",
    "#     pickle_path=os.path.join(get_datasets_base_path(), \"wisig.node3-19.stratified_ds.2022A.pkl\"),\n",
    "#     source_or_target_dataset=\"target\",\n",
    "#     x_transform_func=global_x_transform_func,\n",
    "#     domain_modifier=lambda u: f\"wisig_{u}\"\n",
    "# )"
   ]
  },
  {
   "cell_type": "code",
   "execution_count": 19,
   "id": "fd5442bc",
   "metadata": {
    "execution": {
     "iopub.execute_input": "2022-03-18T06:26:42.915468Z",
     "iopub.status.busy": "2022-03-18T06:26:42.914817Z",
     "iopub.status.idle": "2022-03-18T06:26:42.924029Z",
     "shell.execute_reply": "2022-03-18T06:26:42.924233Z"
    },
    "papermill": {
     "duration": 0.032754,
     "end_time": "2022-03-18T06:26:42.924300",
     "exception": false,
     "start_time": "2022-03-18T06:26:42.891546",
     "status": "completed"
    },
    "tags": []
   },
   "outputs": [],
   "source": [
    "###################################\n",
    "# Build the dataset\n",
    "###################################\n",
    "train_original_source = Iterable_Aggregator(train_original_source, p.seed)\n",
    "val_original_source = Iterable_Aggregator(val_original_source, p.seed)\n",
    "test_original_source = Iterable_Aggregator(test_original_source, p.seed)\n",
    "\n",
    "\n",
    "train_original_target = Iterable_Aggregator(train_original_target, p.seed)\n",
    "val_original_target = Iterable_Aggregator(val_original_target, p.seed)\n",
    "test_original_target = Iterable_Aggregator(test_original_target, p.seed)\n",
    "\n",
    "# For CNN We only use X and Y. And we only train on the source.\n",
    "# Properly form the data using a transform lambda and Lazy_Iterable_Wrapper. Finally wrap them in a dataloader\n",
    "\n",
    "transform_lambda = lambda ex: ex[1] # Original is (<domain>, <episode>) so we strip down to episode only\n",
    "\n",
    "train_processed_source = Lazy_Iterable_Wrapper(train_original_source, transform_lambda)\n",
    "val_processed_source   = Lazy_Iterable_Wrapper(val_original_source, transform_lambda)\n",
    "test_processed_source  = Lazy_Iterable_Wrapper(test_original_source, transform_lambda)\n",
    "\n",
    "train_processed_target = Lazy_Iterable_Wrapper(train_original_target, transform_lambda)\n",
    "val_processed_target   = Lazy_Iterable_Wrapper(val_original_target, transform_lambda)\n",
    "test_processed_target  = Lazy_Iterable_Wrapper(test_original_target, transform_lambda)\n",
    "\n",
    "datasets = EasyDict({\n",
    "    \"source\": {\n",
    "        \"original\": {\"train\":train_original_source, \"val\":val_original_source, \"test\":test_original_source},\n",
    "        \"processed\": {\"train\":train_processed_source, \"val\":val_processed_source, \"test\":test_processed_source}\n",
    "    },\n",
    "    \"target\": {\n",
    "        \"original\": {\"train\":train_original_target, \"val\":val_original_target, \"test\":test_original_target},\n",
    "        \"processed\": {\"train\":train_processed_target, \"val\":val_processed_target, \"test\":test_processed_target}\n",
    "    },\n",
    "})"
   ]
  },
  {
   "cell_type": "code",
   "execution_count": 20,
   "id": "5b3c01fc",
   "metadata": {
    "execution": {
     "iopub.execute_input": "2022-03-18T06:26:42.954699Z",
     "iopub.status.busy": "2022-03-18T06:26:42.954392Z",
     "iopub.status.idle": "2022-03-18T06:26:47.755143Z",
     "shell.execute_reply": "2022-03-18T06:26:47.755673Z"
    },
    "papermill": {
     "duration": 4.817547,
     "end_time": "2022-03-18T06:26:47.755812",
     "exception": false,
     "start_time": "2022-03-18T06:26:42.938265",
     "status": "completed"
    },
    "tags": []
   },
   "outputs": [
    {
     "name": "stdout",
     "output_type": "stream",
     "text": [
      "{'ORACLE.run1_50', 'ORACLE.run1_38', 'ORACLE.run1_20', 'ORACLE.run1_14', 'ORACLE.run1_26', 'ORACLE.run1_8', 'ORACLE.run1_44', 'ORACLE.run1_32'}\n"
     ]
    },
    {
     "name": "stdout",
     "output_type": "stream",
     "text": [
      "{'C_A_3', 'W_A_2', 'C_A_5', 'W_A_3', 'W_A_1', 'C_A_2', 'C_A_1', 'C_A_4', 'W_A_4'}\n"
     ]
    },
    {
     "name": "stdout",
     "output_type": "stream",
     "text": [
      "tensor([[[0., 0., 0.,  ..., 0., 0., 0.],\n",
      "         [0., 0., 0.,  ..., 0., 0., 0.]],\n",
      "\n",
      "        [[0., 0., 0.,  ..., 0., 0., 0.],\n",
      "         [0., 0., 0.,  ..., 0., 0., 0.]],\n",
      "\n",
      "        [[0., 0., 0.,  ..., 0., 0., 0.],\n",
      "         [0., 0., 0.,  ..., 0., 0., 0.]],\n",
      "\n",
      "        ...,\n",
      "\n",
      "        [[0., 0., 0.,  ..., 0., 0., 0.],\n",
      "         [0., 0., 0.,  ..., 0., 0., 0.]],\n",
      "\n",
      "        [[0., 0., 0.,  ..., 0., 0., 0.],\n",
      "         [0., 0., 0.,  ..., 0., 0., 0.]],\n",
      "\n",
      "        [[0., 0., 0.,  ..., 0., 0., 0.],\n",
      "         [0., 0., 0.,  ..., 0., 0., 0.]]])\n"
     ]
    }
   ],
   "source": [
    "from steves_utils.transforms import get_average_magnitude, get_average_power\n",
    "\n",
    "print(set([u for u,_ in val_original_source]))\n",
    "print(set([u for u,_ in val_original_target]))\n",
    "\n",
    "s_x, s_y, q_x, q_y, _ = next(iter(train_processed_source))\n",
    "print(s_x)\n",
    "\n",
    "# for ds in [\n",
    "#     train_processed_source,\n",
    "#     val_processed_source,\n",
    "#     test_processed_source,\n",
    "#     train_processed_target,\n",
    "#     val_processed_target,\n",
    "#     test_processed_target\n",
    "# ]:\n",
    "#     for s_x, s_y, q_x, q_y, _ in ds:\n",
    "#         for X in (s_x, q_x):\n",
    "#             for x in X:\n",
    "#                 assert np.isclose(get_average_magnitude(x.numpy()), 1.0)\n",
    "#                 assert np.isclose(get_average_power(x.numpy()), 1.0)\n",
    "                "
   ]
  },
  {
   "cell_type": "code",
   "execution_count": 21,
   "id": "bbdacba1",
   "metadata": {
    "execution": {
     "iopub.execute_input": "2022-03-18T06:26:47.799174Z",
     "iopub.status.busy": "2022-03-18T06:26:47.798917Z",
     "iopub.status.idle": "2022-03-18T06:26:47.860630Z",
     "shell.execute_reply": "2022-03-18T06:26:47.861057Z"
    },
    "papermill": {
     "duration": 0.081466,
     "end_time": "2022-03-18T06:26:47.861183",
     "exception": false,
     "start_time": "2022-03-18T06:26:47.779717",
     "status": "completed"
    },
    "tags": []
   },
   "outputs": [
    {
     "name": "stdout",
     "output_type": "stream",
     "text": [
      "(2, 256)\n"
     ]
    }
   ],
   "source": [
    "###################################\n",
    "# Build the model\n",
    "###################################\n",
    "# easfsl only wants a tuple for the shape\n",
    "model = Steves_Prototypical_Network(x_net, device=p.device, x_shape=tuple(p.x_shape))\n",
    "optimizer = Adam(params=model.parameters(), lr=p.lr)"
   ]
  },
  {
   "cell_type": "code",
   "execution_count": 22,
   "id": "22b39ac5",
   "metadata": {
    "execution": {
     "iopub.execute_input": "2022-03-18T06:26:47.899967Z",
     "iopub.status.busy": "2022-03-18T06:26:47.899688Z",
     "iopub.status.idle": "2022-03-18T06:44:33.531350Z",
     "shell.execute_reply": "2022-03-18T06:44:33.531102Z"
    },
    "papermill": {
     "duration": 1065.649449,
     "end_time": "2022-03-18T06:44:33.531408",
     "exception": false,
     "start_time": "2022-03-18T06:26:47.881959",
     "status": "completed"
    },
    "tags": []
   },
   "outputs": [
    {
     "name": "stdout",
     "output_type": "stream",
     "text": [
      "epoch: 1, [batch: 1 / 6720], examples_per_second: 51.0759, train_label_loss: 2.7269, \n"
     ]
    },
    {
     "name": "stdout",
     "output_type": "stream",
     "text": [
      "epoch: 1, [batch: 672 / 6720], examples_per_second: 3237.8906, train_label_loss: 2.8870, \n"
     ]
    },
    {
     "name": "stdout",
     "output_type": "stream",
     "text": [
      "epoch: 1, [batch: 1344 / 6720], examples_per_second: 3245.7615, train_label_loss: 1.4558, \n"
     ]
    },
    {
     "name": "stdout",
     "output_type": "stream",
     "text": [
      "epoch: 1, [batch: 2016 / 6720], examples_per_second: 3227.4328, train_label_loss: 1.1465, \n"
     ]
    },
    {
     "name": "stdout",
     "output_type": "stream",
     "text": [
      "epoch: 1, [batch: 2688 / 6720], examples_per_second: 3207.3541, train_label_loss: 1.5637, \n"
     ]
    },
    {
     "name": "stdout",
     "output_type": "stream",
     "text": [
      "epoch: 1, [batch: 3360 / 6720], examples_per_second: 3224.9397, train_label_loss: 1.0913, \n"
     ]
    },
    {
     "name": "stdout",
     "output_type": "stream",
     "text": [
      "epoch: 1, [batch: 4032 / 6720], examples_per_second: 3230.0818, train_label_loss: 1.1222, \n"
     ]
    },
    {
     "name": "stdout",
     "output_type": "stream",
     "text": [
      "epoch: 1, [batch: 4704 / 6720], examples_per_second: 3215.2714, train_label_loss: 0.6942, \n"
     ]
    },
    {
     "name": "stdout",
     "output_type": "stream",
     "text": [
      "epoch: 1, [batch: 5376 / 6720], examples_per_second: 3220.9052, train_label_loss: 0.8517, \n"
     ]
    },
    {
     "name": "stdout",
     "output_type": "stream",
     "text": [
      "epoch: 1, [batch: 6048 / 6720], examples_per_second: 3241.5958, train_label_loss: 0.7732, \n"
     ]
    },
    {
     "name": "stdout",
     "output_type": "stream",
     "text": [
      "=============================================================\n",
      "epoch: 1, source_val_acc_label: 0.5903, target_val_acc_label: 0.4452, source_val_label_loss: 3.1361, target_val_label_loss: 1071.3099, \n",
      "=============================================================\n"
     ]
    },
    {
     "name": "stdout",
     "output_type": "stream",
     "text": [
      "New best\n"
     ]
    },
    {
     "name": "stdout",
     "output_type": "stream",
     "text": [
      "epoch: 2, [batch: 1 / 6720], examples_per_second: 5.5550, train_label_loss: 1.8014, \n"
     ]
    },
    {
     "name": "stdout",
     "output_type": "stream",
     "text": [
      "epoch: 2, [batch: 672 / 6720], examples_per_second: 3243.7014, train_label_loss: 0.8638, \n"
     ]
    },
    {
     "name": "stdout",
     "output_type": "stream",
     "text": [
      "epoch: 2, [batch: 1344 / 6720], examples_per_second: 3261.7285, train_label_loss: 0.8225, \n"
     ]
    },
    {
     "name": "stdout",
     "output_type": "stream",
     "text": [
      "epoch: 2, [batch: 2016 / 6720], examples_per_second: 3261.5656, train_label_loss: 1.2764, \n"
     ]
    },
    {
     "name": "stdout",
     "output_type": "stream",
     "text": [
      "epoch: 2, [batch: 2688 / 6720], examples_per_second: 3241.7521, train_label_loss: 0.9611, \n"
     ]
    },
    {
     "name": "stdout",
     "output_type": "stream",
     "text": [
      "epoch: 2, [batch: 3360 / 6720], examples_per_second: 3251.1935, train_label_loss: 1.0006, \n"
     ]
    },
    {
     "name": "stdout",
     "output_type": "stream",
     "text": [
      "epoch: 2, [batch: 4032 / 6720], examples_per_second: 3259.4762, train_label_loss: 0.9621, \n"
     ]
    },
    {
     "name": "stdout",
     "output_type": "stream",
     "text": [
      "epoch: 2, [batch: 4704 / 6720], examples_per_second: 3242.0400, train_label_loss: 1.1145, \n"
     ]
    },
    {
     "name": "stdout",
     "output_type": "stream",
     "text": [
      "epoch: 2, [batch: 5376 / 6720], examples_per_second: 3247.7131, train_label_loss: 1.4553, \n"
     ]
    },
    {
     "name": "stdout",
     "output_type": "stream",
     "text": [
      "epoch: 2, [batch: 6048 / 6720], examples_per_second: 3250.8220, train_label_loss: 0.7510, \n"
     ]
    },
    {
     "name": "stdout",
     "output_type": "stream",
     "text": [
      "=============================================================\n",
      "epoch: 2, source_val_acc_label: 0.6240, target_val_acc_label: 0.6873, source_val_label_loss: 1.0138, target_val_label_loss: 122.5409, \n",
      "=============================================================\n"
     ]
    },
    {
     "name": "stdout",
     "output_type": "stream",
     "text": [
      "New best\n"
     ]
    },
    {
     "name": "stdout",
     "output_type": "stream",
     "text": [
      "epoch: 3, [batch: 1 / 6720], examples_per_second: 5.6179, train_label_loss: 1.2943, \n"
     ]
    },
    {
     "name": "stdout",
     "output_type": "stream",
     "text": [
      "epoch: 3, [batch: 672 / 6720], examples_per_second: 3234.8536, train_label_loss: 0.6111, \n"
     ]
    },
    {
     "name": "stdout",
     "output_type": "stream",
     "text": [
      "epoch: 3, [batch: 1344 / 6720], examples_per_second: 3261.0510, train_label_loss: 0.6018, \n"
     ]
    },
    {
     "name": "stdout",
     "output_type": "stream",
     "text": [
      "epoch: 3, [batch: 2016 / 6720], examples_per_second: 3265.1204, train_label_loss: 0.7035, \n"
     ]
    },
    {
     "name": "stdout",
     "output_type": "stream",
     "text": [
      "epoch: 3, [batch: 2688 / 6720], examples_per_second: 3239.4434, train_label_loss: 0.7913, \n"
     ]
    },
    {
     "name": "stdout",
     "output_type": "stream",
     "text": [
      "epoch: 3, [batch: 3360 / 6720], examples_per_second: 3245.2697, train_label_loss: 1.2770, \n"
     ]
    },
    {
     "name": "stdout",
     "output_type": "stream",
     "text": [
      "epoch: 3, [batch: 4032 / 6720], examples_per_second: 3271.6154, train_label_loss: 1.1727, \n"
     ]
    },
    {
     "name": "stdout",
     "output_type": "stream",
     "text": [
      "epoch: 3, [batch: 4704 / 6720], examples_per_second: 3251.8506, train_label_loss: 0.5777, \n"
     ]
    },
    {
     "name": "stdout",
     "output_type": "stream",
     "text": [
      "epoch: 3, [batch: 5376 / 6720], examples_per_second: 3241.3643, train_label_loss: 1.0977, \n"
     ]
    },
    {
     "name": "stdout",
     "output_type": "stream",
     "text": [
      "epoch: 3, [batch: 6048 / 6720], examples_per_second: 3261.3521, train_label_loss: 0.6747, \n"
     ]
    },
    {
     "name": "stdout",
     "output_type": "stream",
     "text": [
      "=============================================================\n",
      "epoch: 3, source_val_acc_label: 0.6588, target_val_acc_label: 0.6818, source_val_label_loss: 0.9278, target_val_label_loss: 134.8586, \n",
      "=============================================================\n"
     ]
    },
    {
     "name": "stdout",
     "output_type": "stream",
     "text": [
      "epoch: 4, [batch: 1 / 6720], examples_per_second: 5.5695, train_label_loss: 1.0097, \n"
     ]
    },
    {
     "name": "stdout",
     "output_type": "stream",
     "text": [
      "epoch: 4, [batch: 672 / 6720], examples_per_second: 3240.7110, train_label_loss: 0.6577, \n"
     ]
    },
    {
     "name": "stdout",
     "output_type": "stream",
     "text": [
      "epoch: 4, [batch: 1344 / 6720], examples_per_second: 3237.6569, train_label_loss: 1.2896, \n"
     ]
    },
    {
     "name": "stdout",
     "output_type": "stream",
     "text": [
      "epoch: 4, [batch: 2016 / 6720], examples_per_second: 3248.0925, train_label_loss: 1.0047, \n"
     ]
    },
    {
     "name": "stdout",
     "output_type": "stream",
     "text": [
      "epoch: 4, [batch: 2688 / 6720], examples_per_second: 3239.3445, train_label_loss: 0.8368, \n"
     ]
    },
    {
     "name": "stdout",
     "output_type": "stream",
     "text": [
      "epoch: 4, [batch: 3360 / 6720], examples_per_second: 3253.0630, train_label_loss: 0.5942, \n"
     ]
    },
    {
     "name": "stdout",
     "output_type": "stream",
     "text": [
      "epoch: 4, [batch: 4032 / 6720], examples_per_second: 3243.1264, train_label_loss: 1.2446, \n"
     ]
    },
    {
     "name": "stdout",
     "output_type": "stream",
     "text": [
      "epoch: 4, [batch: 4704 / 6720], examples_per_second: 3245.9536, train_label_loss: 0.5541, \n"
     ]
    },
    {
     "name": "stdout",
     "output_type": "stream",
     "text": [
      "epoch: 4, [batch: 5376 / 6720], examples_per_second: 3254.7310, train_label_loss: 1.1237, \n"
     ]
    },
    {
     "name": "stdout",
     "output_type": "stream",
     "text": [
      "epoch: 4, [batch: 6048 / 6720], examples_per_second: 3257.0655, train_label_loss: 0.7278, \n"
     ]
    },
    {
     "name": "stdout",
     "output_type": "stream",
     "text": [
      "=============================================================\n",
      "epoch: 4, source_val_acc_label: 0.6742, target_val_acc_label: 0.6787, source_val_label_loss: 0.8832, target_val_label_loss: 138.3217, \n",
      "=============================================================\n"
     ]
    },
    {
     "name": "stdout",
     "output_type": "stream",
     "text": [
      "epoch: 5, [batch: 1 / 6720], examples_per_second: 5.6096, train_label_loss: 0.6134, \n"
     ]
    },
    {
     "name": "stdout",
     "output_type": "stream",
     "text": [
      "epoch: 5, [batch: 672 / 6720], examples_per_second: 3248.9384, train_label_loss: 0.5354, \n"
     ]
    },
    {
     "name": "stdout",
     "output_type": "stream",
     "text": [
      "epoch: 5, [batch: 1344 / 6720], examples_per_second: 3234.2189, train_label_loss: 0.6282, \n"
     ]
    },
    {
     "name": "stdout",
     "output_type": "stream",
     "text": [
      "epoch: 5, [batch: 2016 / 6720], examples_per_second: 3256.8627, train_label_loss: 1.2163, \n"
     ]
    },
    {
     "name": "stdout",
     "output_type": "stream",
     "text": [
      "epoch: 5, [batch: 2688 / 6720], examples_per_second: 3245.5053, train_label_loss: 0.8346, \n"
     ]
    },
    {
     "name": "stdout",
     "output_type": "stream",
     "text": [
      "epoch: 5, [batch: 3360 / 6720], examples_per_second: 3261.6002, train_label_loss: 0.5743, \n"
     ]
    },
    {
     "name": "stdout",
     "output_type": "stream",
     "text": [
      "epoch: 5, [batch: 4032 / 6720], examples_per_second: 3255.9757, train_label_loss: 0.6700, \n"
     ]
    },
    {
     "name": "stdout",
     "output_type": "stream",
     "text": [
      "epoch: 5, [batch: 4704 / 6720], examples_per_second: 3237.1301, train_label_loss: 0.7081, \n"
     ]
    },
    {
     "name": "stdout",
     "output_type": "stream",
     "text": [
      "epoch: 5, [batch: 5376 / 6720], examples_per_second: 3258.2722, train_label_loss: 1.1481, \n"
     ]
    },
    {
     "name": "stdout",
     "output_type": "stream",
     "text": [
      "epoch: 5, [batch: 6048 / 6720], examples_per_second: 3250.1034, train_label_loss: 0.4740, \n"
     ]
    },
    {
     "name": "stdout",
     "output_type": "stream",
     "text": [
      "=============================================================\n",
      "epoch: 5, source_val_acc_label: 0.6834, target_val_acc_label: 0.6215, source_val_label_loss: 0.8543, target_val_label_loss: 305.7167, \n",
      "=============================================================\n"
     ]
    },
    {
     "name": "stdout",
     "output_type": "stream",
     "text": [
      "epoch: 6, [batch: 1 / 6720], examples_per_second: 5.5960, train_label_loss: 0.7094, \n"
     ]
    },
    {
     "name": "stdout",
     "output_type": "stream",
     "text": [
      "epoch: 6, [batch: 672 / 6720], examples_per_second: 3242.9018, train_label_loss: 1.1096, \n"
     ]
    },
    {
     "name": "stdout",
     "output_type": "stream",
     "text": [
      "epoch: 6, [batch: 1344 / 6720], examples_per_second: 3273.7294, train_label_loss: 1.2717, \n"
     ]
    },
    {
     "name": "stdout",
     "output_type": "stream",
     "text": [
      "epoch: 6, [batch: 2016 / 6720], examples_per_second: 3254.5754, train_label_loss: 0.7431, \n"
     ]
    },
    {
     "name": "stdout",
     "output_type": "stream",
     "text": [
      "epoch: 6, [batch: 2688 / 6720], examples_per_second: 3248.9003, train_label_loss: 0.4415, \n"
     ]
    },
    {
     "name": "stdout",
     "output_type": "stream",
     "text": [
      "epoch: 6, [batch: 3360 / 6720], examples_per_second: 3263.8431, train_label_loss: 0.3757, \n"
     ]
    },
    {
     "name": "stdout",
     "output_type": "stream",
     "text": [
      "epoch: 6, [batch: 4032 / 6720], examples_per_second: 3271.5258, train_label_loss: 0.6014, \n"
     ]
    },
    {
     "name": "stdout",
     "output_type": "stream",
     "text": [
      "epoch: 6, [batch: 4704 / 6720], examples_per_second: 3221.3294, train_label_loss: 0.8068, \n"
     ]
    },
    {
     "name": "stdout",
     "output_type": "stream",
     "text": [
      "epoch: 6, [batch: 5376 / 6720], examples_per_second: 3245.9549, train_label_loss: 0.6653, \n"
     ]
    },
    {
     "name": "stdout",
     "output_type": "stream",
     "text": [
      "epoch: 6, [batch: 6048 / 6720], examples_per_second: 3252.3206, train_label_loss: 0.7032, \n"
     ]
    },
    {
     "name": "stdout",
     "output_type": "stream",
     "text": [
      "=============================================================\n",
      "epoch: 6, source_val_acc_label: 0.7139, target_val_acc_label: 0.5725, source_val_label_loss: 0.7637, target_val_label_loss: 975.8027, \n",
      "=============================================================\n"
     ]
    },
    {
     "name": "stdout",
     "output_type": "stream",
     "text": [
      "Patience (3) exhausted\n"
     ]
    }
   ],
   "source": [
    "###################################\n",
    "# train\n",
    "###################################\n",
    "jig = PTN_Train_Eval_Test_Jig(model, p.BEST_MODEL_PATH, p.device)\n",
    "\n",
    "jig.train(\n",
    "    train_iterable=datasets.source.processed.train,\n",
    "    source_val_iterable=datasets.source.processed.val,\n",
    "    target_val_iterable=datasets.target.processed.val,\n",
    "    num_epochs=p.n_epoch,\n",
    "    num_logs_per_epoch=p.NUM_LOGS_PER_EPOCH,\n",
    "    patience=p.patience,\n",
    "    optimizer=optimizer,\n",
    "    criteria_for_best=p.criteria_for_best,\n",
    ")"
   ]
  },
  {
   "cell_type": "code",
   "execution_count": 23,
   "id": "31e8fabf",
   "metadata": {
    "execution": {
     "iopub.execute_input": "2022-03-18T06:44:33.587877Z",
     "iopub.status.busy": "2022-03-18T06:44:33.587625Z",
     "iopub.status.idle": "2022-03-18T06:44:33.605754Z",
     "shell.execute_reply": "2022-03-18T06:44:33.605306Z"
    },
    "papermill": {
     "duration": 0.047832,
     "end_time": "2022-03-18T06:44:33.605845",
     "exception": false,
     "start_time": "2022-03-18T06:44:33.558013",
     "status": "completed"
    },
    "tags": []
   },
   "outputs": [],
   "source": [
    "total_experiment_time_secs = time.time() - start_time_secs"
   ]
  },
  {
   "cell_type": "code",
   "execution_count": 24,
   "id": "87b9595b",
   "metadata": {
    "execution": {
     "iopub.execute_input": "2022-03-18T06:44:33.667609Z",
     "iopub.status.busy": "2022-03-18T06:44:33.667345Z",
     "iopub.status.idle": "2022-03-18T06:45:38.841883Z",
     "shell.execute_reply": "2022-03-18T06:45:38.842111Z"
    },
    "papermill": {
     "duration": 65.205213,
     "end_time": "2022-03-18T06:45:38.842195",
     "exception": false,
     "start_time": "2022-03-18T06:44:33.636982",
     "status": "completed"
    },
    "tags": []
   },
   "outputs": [],
   "source": [
    "###################################\n",
    "# Evaluate the model\n",
    "###################################\n",
    "source_test_label_accuracy, source_test_label_loss = jig.test(datasets.source.processed.test)\n",
    "target_test_label_accuracy, target_test_label_loss = jig.test(datasets.target.processed.test)\n",
    "\n",
    "source_val_label_accuracy, source_val_label_loss = jig.test(datasets.source.processed.val)\n",
    "target_val_label_accuracy, target_val_label_loss = jig.test(datasets.target.processed.val)\n",
    "\n",
    "history = jig.get_history()\n",
    "\n",
    "total_epochs_trained = len(history[\"epoch_indices\"])\n",
    "\n",
    "val_dl = Iterable_Aggregator((datasets.source.original.val,datasets.target.original.val))\n",
    "\n",
    "confusion = ptn_confusion_by_domain_over_dataloader(model, p.device, val_dl)\n",
    "per_domain_accuracy = per_domain_accuracy_from_confusion(confusion)\n",
    "\n",
    "# Add a key to per_domain_accuracy for if it was a source domain\n",
    "for domain, accuracy in per_domain_accuracy.items():\n",
    "    per_domain_accuracy[domain] = {\n",
    "        \"accuracy\": accuracy,\n",
    "        \"source?\": domain in p.domains_source\n",
    "    }\n",
    "\n",
    "# Do an independent accuracy assesment JUST TO BE SURE!\n",
    "# _source_test_label_accuracy = independent_accuracy_assesment(model, datasets.source.processed.test, p.device)\n",
    "# _target_test_label_accuracy = independent_accuracy_assesment(model, datasets.target.processed.test, p.device)\n",
    "# _source_val_label_accuracy = independent_accuracy_assesment(model, datasets.source.processed.val, p.device)\n",
    "# _target_val_label_accuracy = independent_accuracy_assesment(model, datasets.target.processed.val, p.device)\n",
    "\n",
    "# assert(_source_test_label_accuracy == source_test_label_accuracy)\n",
    "# assert(_target_test_label_accuracy == target_test_label_accuracy)\n",
    "# assert(_source_val_label_accuracy == source_val_label_accuracy)\n",
    "# assert(_target_val_label_accuracy == target_val_label_accuracy)\n",
    "\n",
    "experiment = {\n",
    "    \"experiment_name\": p.experiment_name,\n",
    "    \"parameters\": dict(p),\n",
    "    \"results\": {\n",
    "        \"source_test_label_accuracy\": source_test_label_accuracy,\n",
    "        \"source_test_label_loss\": source_test_label_loss,\n",
    "        \"target_test_label_accuracy\": target_test_label_accuracy,\n",
    "        \"target_test_label_loss\": target_test_label_loss,\n",
    "        \"source_val_label_accuracy\": source_val_label_accuracy,\n",
    "        \"source_val_label_loss\": source_val_label_loss,\n",
    "        \"target_val_label_accuracy\": target_val_label_accuracy,\n",
    "        \"target_val_label_loss\": target_val_label_loss,\n",
    "        \"total_epochs_trained\": total_epochs_trained,\n",
    "        \"total_experiment_time_secs\": total_experiment_time_secs,\n",
    "        \"confusion\": confusion,\n",
    "        \"per_domain_accuracy\": per_domain_accuracy,\n",
    "    },\n",
    "    \"history\": history,\n",
    "    \"dataset_metrics\": get_dataset_metrics(datasets, \"ptn\"),\n",
    "}"
   ]
  },
  {
   "cell_type": "code",
   "execution_count": 25,
   "id": "54a21829",
   "metadata": {
    "execution": {
     "iopub.execute_input": "2022-03-18T06:45:38.898246Z",
     "iopub.status.busy": "2022-03-18T06:45:38.897992Z",
     "iopub.status.idle": "2022-03-18T06:45:39.031192Z",
     "shell.execute_reply": "2022-03-18T06:45:39.030730Z"
    },
    "papermill": {
     "duration": 0.162228,
     "end_time": "2022-03-18T06:45:39.031300",
     "exception": false,
     "start_time": "2022-03-18T06:45:38.869072",
     "status": "completed"
    },
    "tags": []
   },
   "outputs": [
    {
     "data": {
      "image/png": "[encoded data removed]",
      "text/plain": [
       "<Figure size 1080x504 with 1 Axes>"
      ]
     },
     "metadata": {
      "needs_background": "light"
     },
     "output_type": "display_data"
    }
   ],
   "source": [
    "ax = get_loss_curve(experiment)\n",
    "plt.show()"
   ]
  },
  {
   "cell_type": "code",
   "execution_count": 26,
   "id": "fd8a0f60",
   "metadata": {
    "execution": {
     "iopub.execute_input": "2022-03-18T06:45:39.095345Z",
     "iopub.status.busy": "2022-03-18T06:45:39.094777Z",
     "iopub.status.idle": "2022-03-18T06:45:39.239592Z",
     "shell.execute_reply": "2022-03-18T06:45:39.239807Z"
    },
    "papermill": {
     "duration": 0.175841,
     "end_time": "2022-03-18T06:45:39.239868",
     "exception": false,
     "start_time": "2022-03-18T06:45:39.064027",
     "status": "completed"
    },
    "tags": []
   },
   "outputs": [
    {
     "data": {
      "text/plain": [
       "<AxesSubplot:title={'center':'Results'}>"
      ]
     },
     "execution_count": 26,
     "metadata": {},
     "output_type": "execute_result"
    },
    {
     "data": {
      "image/png": "[encoded data removed]",
      "text/plain": [
       "<Figure size 1080x504 with 1 Axes>"
      ]
     },
     "metadata": {
      "needs_background": "light"
     },
     "output_type": "display_data"
    }
   ],
   "source": [
    "get_results_table(experiment)"
   ]
  },
  {
   "cell_type": "code",
   "execution_count": 27,
   "id": "cf8dc689",
   "metadata": {
    "execution": {
     "iopub.execute_input": "2022-03-18T06:45:39.303425Z",
     "iopub.status.busy": "2022-03-18T06:45:39.303168Z",
     "iopub.status.idle": "2022-03-18T06:45:39.463654Z",
     "shell.execute_reply": "2022-03-18T06:45:39.463863Z"
    },
    "papermill": {
     "duration": 0.193259,
     "end_time": "2022-03-18T06:45:39.463923",
     "exception": false,
     "start_time": "2022-03-18T06:45:39.270664",
     "status": "completed"
    },
    "tags": []
   },
   "outputs": [
    {
     "data": {
      "text/plain": [
       "<AxesSubplot:title={'center':'Per Domain Validation Accuracy'}, xlabel='domain'>"
      ]
     },
     "execution_count": 27,
     "metadata": {},
     "output_type": "execute_result"
    },
    {
     "data": {
      "image/png": "[encoded data removed]",
      "text/plain": [
       "<Figure size 1080x504 with 1 Axes>"
      ]
     },
     "metadata": {
      "needs_background": "light"
     },
     "output_type": "display_data"
    }
   ],
   "source": [
    "get_domain_accuracies(experiment)"
   ]
  },
  {
   "cell_type": "code",
   "execution_count": 28,
   "id": "a74ae082",
   "metadata": {
    "execution": {
     "iopub.execute_input": "2022-03-18T06:45:39.526157Z",
     "iopub.status.busy": "2022-03-18T06:45:39.525906Z",
     "iopub.status.idle": "2022-03-18T06:45:39.542629Z",
     "shell.execute_reply": "2022-03-18T06:45:39.542999Z"
    },
    "papermill": {
     "duration": 0.049421,
     "end_time": "2022-03-18T06:45:39.543105",
     "exception": false,
     "start_time": "2022-03-18T06:45:39.493684",
     "status": "completed"
    },
    "tags": []
   },
   "outputs": [
    {
     "name": "stdout",
     "output_type": "stream",
     "text": [
      "Source Test Label Accuracy: 0.6310221354166666 Target Test Label Accuracy: 0.698416095890411\n",
      "Source Val Label Accuracy: 0.6240234375 Target Val Label Accuracy: 0.6872859589041096\n"
     ]
    }
   ],
   "source": [
    "print(\"Source Test Label Accuracy:\", experiment[\"results\"][\"source_test_label_accuracy\"], \"Target Test Label Accuracy:\", experiment[\"results\"][\"target_test_label_accuracy\"])\n",
    "print(\"Source Val Label Accuracy:\", experiment[\"results\"][\"source_val_label_accuracy\"], \"Target Val Label Accuracy:\", experiment[\"results\"][\"target_val_label_accuracy\"])"
   ]
  },
  {
   "cell_type": "code",
   "execution_count": 29,
   "id": "dacca602",
   "metadata": {
    "execution": {
     "iopub.execute_input": "2022-03-18T06:45:39.608343Z",
     "iopub.status.busy": "2022-03-18T06:45:39.608090Z",
     "iopub.status.idle": "2022-03-18T06:45:39.621346Z",
     "shell.execute_reply": "2022-03-18T06:45:39.621719Z"
    },
    "papermill": {
     "duration": 0.044954,
     "end_time": "2022-03-18T06:45:39.621823",
     "exception": false,
     "start_time": "2022-03-18T06:45:39.576869",
     "status": "completed"
    },
    "tags": [
     "experiment_json"
    ]
   },
   "outputs": [
    {
     "data": {
      "text/plain": [
       "'{\"experiment_name\": \"tl_3-jitter10:oracle.run1.framed -> cores+wisig\", \"parameters\": {\"experiment_name\": \"tl_3-jitter10:oracle.run1.framed -> cores+wisig\", \"device\": \"cuda\", \"lr\": 0.001, \"seed\": 1337, \"dataset_seed\": 1337, \"n_shot\": 3, \"n_query\": 2, \"train_k_factor\": 3, \"val_k_factor\": 2, \"test_k_factor\": 2, \"torch_default_dtype\": \"torch.float32\", \"n_epoch\": 50, \"patience\": 3, \"criteria_for_best\": \"target_loss\", \"x_net\": [{\"class\": \"nnReshape\", \"kargs\": {\"shape\": [-1, 1, 2, 256]}}, {\"class\": \"Conv2d\", \"kargs\": {\"in_channels\": 1, \"out_channels\": 256, \"kernel_size\": [1, 7], \"bias\": false, \"padding\": [0, 3]}}, {\"class\": \"ReLU\", \"kargs\": {\"inplace\": true}}, {\"class\": \"BatchNorm2d\", \"kargs\": {\"num_features\": 256}}, {\"class\": \"Conv2d\", \"kargs\": {\"in_channels\": 256, \"out_channels\": 80, \"kernel_size\": [2, 7], \"bias\": true, \"padding\": [0, 3]}}, {\"class\": \"ReLU\", \"kargs\": {\"inplace\": true}}, {\"class\": \"BatchNorm2d\", \"kargs\": {\"num_features\": 80}}, {\"class\": \"Flatten\", \"kargs\": {}}, {\"class\": \"Linear\", \"kargs\": {\"in_features\": 20480, \"out_features\": 256}}, {\"class\": \"ReLU\", \"kargs\": {\"inplace\": true}}, {\"class\": \"BatchNorm1d\", \"kargs\": {\"num_features\": 256}}, {\"class\": \"Linear\", \"kargs\": {\"in_features\": 256, \"out_features\": 256}}], \"NUM_LOGS_PER_EPOCH\": 10, \"BEST_MODEL_PATH\": \"./best_model.pth\", \"n_way\": 16, \"datasets\": [{\"labels\": [\"1-10.\", \"1-11.\", \"1-15.\", \"1-16.\", \"1-17.\", \"1-18.\", \"1-19.\", \"10-4.\", \"10-7.\", \"11-1.\", \"11-14.\", \"11-17.\", \"11-20.\", \"11-7.\", \"13-20.\", \"13-8.\", \"14-10.\", \"14-11.\", \"14-14.\", \"14-7.\", \"15-1.\", \"15-20.\", \"16-1.\", \"16-16.\", \"17-10.\", \"17-11.\", \"17-2.\", \"19-1.\", \"19-16.\", \"19-19.\", \"19-20.\", \"19-3.\", \"2-10.\", \"2-11.\", \"2-17.\", \"2-18.\", \"2-20.\", \"2-3.\", \"2-4.\", \"2-5.\", \"2-6.\", \"2-7.\", \"2-8.\", \"3-13.\", \"3-18.\", \"3-3.\", \"4-1.\", \"4-10.\", \"4-11.\", \"4-19.\", \"5-5.\", \"6-15.\", \"7-10.\", \"7-14.\", \"8-18.\", \"8-20.\", \"8-3.\", \"8-8.\"], \"domains\": [1, 2, 3, 4, 5], \"num_examples_per_domain_per_label\": 100, \"pickle_path\": \"/mnt/wd500GB/CSC500/csc500-main/datasets/cores.stratified_ds.2022A.pkl\", \"source_or_target_dataset\": \"target\", \"x_transforms\": [\"unit_power\", \"jitter_256_10\", \"take_200\"], \"episode_transforms\": [], \"domain_prefix\": \"C_A_\"}, {\"labels\": [\"1-10\", \"1-12\", \"1-14\", \"1-16\", \"1-18\", \"1-19\", \"1-8\", \"10-11\", \"10-17\", \"10-4\", \"10-7\", \"11-1\", \"11-10\", \"11-19\", \"11-20\", \"11-4\", \"11-7\", \"12-19\", \"12-20\", \"12-7\", \"13-14\", \"13-18\", \"13-19\", \"13-20\", \"13-3\", \"13-7\", \"14-10\", \"14-11\", \"14-12\", \"14-13\", \"14-14\", \"14-19\", \"14-20\", \"14-7\", \"14-8\", \"14-9\", \"15-1\", \"15-19\", \"15-6\", \"16-1\", \"16-16\", \"16-19\", \"16-20\", \"17-10\", \"17-11\", \"18-1\", \"18-10\", \"18-11\", \"18-12\", \"18-13\", \"18-14\", \"18-15\", \"18-16\", \"18-17\", \"18-19\", \"18-2\", \"18-20\", \"18-4\", \"18-5\", \"18-7\", \"18-8\", \"18-9\", \"19-1\", \"19-10\", \"19-11\", \"19-12\", \"19-13\", \"19-14\", \"19-15\", \"19-19\", \"19-2\", \"19-20\", \"19-3\", \"19-4\", \"19-6\", \"19-7\", \"19-8\", \"19-9\", \"2-1\", \"2-13\", \"2-15\", \"2-3\", \"2-4\", \"2-5\", \"2-6\", \"2-7\", \"2-8\", \"20-1\", \"20-12\", \"20-14\", \"20-15\", \"20-16\", \"20-18\", \"20-19\", \"20-20\", \"20-3\", \"20-4\", \"20-5\", \"20-7\", \"20-8\", \"3-1\", \"3-13\", \"3-18\", \"3-2\", \"3-8\", \"4-1\", \"4-10\", \"4-11\", \"5-1\", \"5-5\", \"6-1\", \"6-15\", \"6-6\", \"7-10\", \"7-11\", \"7-12\", \"7-13\", \"7-14\", \"7-7\", \"7-8\", \"7-9\", \"8-1\", \"8-13\", \"8-14\", \"8-18\", \"8-20\", \"8-3\", \"8-8\", \"9-1\", \"9-7\"], \"domains\": [1, 2, 3, 4], \"num_examples_per_domain_per_label\": 100, \"pickle_path\": \"/mnt/wd500GB/CSC500/csc500-main/datasets/wisig.node3-19.stratified_ds.2022A.pkl\", \"source_or_target_dataset\": \"target\", \"x_transforms\": [\"unit_power\", \"jitter_256_10\", \"take_200\"], \"episode_transforms\": [], \"domain_prefix\": \"W_A_\"}, {\"labels\": [\"3123D52\", \"3123D65\", \"3123D79\", \"3123D80\", \"3123D54\", \"3123D70\", \"3123D7B\", \"3123D89\", \"3123D58\", \"3123D76\", \"3123D7D\", \"3123EFE\", \"3123D64\", \"3123D78\", \"3123D7E\", \"3124E4A\"], \"domains\": [32, 38, 8, 44, 14, 50, 20, 26], \"num_examples_per_domain_per_label\": 2000, \"pickle_path\": \"/mnt/wd500GB/CSC500/csc500-main/datasets/oracle.Run1_framed_2000Examples_stratified_ds.2022A.pkl\", \"source_or_target_dataset\": \"source\", \"x_transforms\": [\"unit_power\", \"jitter_256_10\", \"take_200\", \"resample_20Msps_to_25Msps\"], \"episode_transforms\": [], \"domain_prefix\": \"ORACLE.run1_\"}], \"x_shape\": [2, 256], \"domains_source\": [\"ORACLE.run1_32\", \"ORACLE.run1_38\", \"ORACLE.run1_8\", \"ORACLE.run1_44\", \"ORACLE.run1_14\", \"ORACLE.run1_50\", \"ORACLE.run1_20\", \"ORACLE.run1_26\"], \"domains_target\": [\"C_A_1\", \"C_A_2\", \"C_A_3\", \"C_A_4\", \"C_A_5\", \"W_A_1\", \"W_A_2\", \"W_A_3\", \"W_A_4\"]}, \"results\": {\"source_test_label_accuracy\": 0.6310221354166666, \"source_test_label_loss\": 1.0011285543441772, \"target_test_label_accuracy\": 0.698416095890411, \"target_test_label_loss\": 115.34962463378906, \"source_val_label_accuracy\": 0.6240234375, \"source_val_label_loss\": 1.013808012008667, \"target_val_label_accuracy\": 0.6872859589041096, \"target_val_label_loss\": 122.54093170166016, \"total_epochs_trained\": 6, \"total_experiment_time_secs\": 1128.3022589683533, \"confusion\": {\"ORACLE.run1_14\": {\"15\": {\"7\": 39, \"15\": 201}, \"3\": {\"3\": 198, \"14\": 10, \"4\": 20, \"0\": 7, \"2\": 5}, \"6\": {\"6\": 114, \"13\": 63, \"2\": 26, \"14\": 36, \"3\": 1}, \"1\": {\"1\": 199, \"4\": 6, \"5\": 31, \"3\": 1, \"15\": 1, \"7\": 2}, \"8\": {\"8\": 240}, \"10\": {\"10\": 205, \"0\": 35}, \"9\": {\"9\": 239, \"12\": 1}, \"13\": {\"14\": 85, \"2\": 23, \"6\": 61, \"13\": 63, \"5\": 6, \"10\": 1, \"3\": 1}, \"12\": {\"12\": 238, \"9\": 2}, \"5\": {\"5\": 135, \"4\": 47, \"1\": 46, \"2\": 9, \"3\": 2, \"7\": 1}, \"0\": {\"0\": 158, \"10\": 76, \"11\": 3, \"3\": 3}, \"2\": {\"6\": 23, \"2\": 100, \"5\": 36, \"4\": 21, \"13\": 14, \"3\": 12, \"14\": 28, \"15\": 5, \"1\": 1}, \"11\": {\"11\": 200, \"10\": 23, \"9\": 17}, \"14\": {\"14\": 137, \"13\": 45, \"2\": 13, \"6\": 30, \"3\": 14, \"10\": 1}, \"7\": {\"7\": 205, \"15\": 34, \"1\": 1}, \"4\": {\"3\": 21, \"4\": 158, \"5\": 41, \"1\": 7, \"2\": 13}}, \"ORACLE.run1_20\": {\"3\": {\"12\": 43, \"3\": 90, \"5\": 16, \"9\": 40, \"7\": 14, \"4\": 8, \"2\": 12, \"8\": 8, \"0\": 4, \"1\": 2, \"15\": 2, \"13\": 1}, \"15\": {\"15\": 118, \"1\": 53, \"13\": 7, \"5\": 14, \"2\": 2, \"12\": 13, \"0\": 31, \"9\": 2}, \"8\": {\"8\": 153, \"6\": 3, \"4\": 29, \"10\": 23, \"7\": 18, \"3\": 6, \"14\": 3, \"9\": 4, \"12\": 1}, \"4\": {\"4\": 163, \"8\": 38, \"3\": 14, \"12\": 6, \"10\": 11, \"5\": 4, \"14\": 1, \"0\": 3}, \"14\": {\"6\": 40, \"14\": 163, \"10\": 27, \"8\": 9, \"7\": 1}, \"0\": {\"5\": 46, \"12\": 35, \"3\": 11, \"0\": 64, \"9\": 5, \"1\": 45, \"15\": 30, \"2\": 2, \"13\": 2}, \"7\": {\"3\": 11, \"7\": 152, \"2\": 32, \"8\": 13, \"9\": 27, \"6\": 4, \"4\": 1}, \"6\": {\"6\": 213, \"14\": 23, \"8\": 2, \"7\": 1, \"10\": 1}, \"10\": {\"10\": 154, \"8\": 30, \"14\": 44, \"4\": 12}, \"5\": {\"5\": 79, \"0\": 58, \"1\": 46, \"2\": 1, \"12\": 32, \"3\": 8, \"15\": 11, \"8\": 1, \"9\": 2, \"4\": 2}, \"2\": {\"2\": 88, \"9\": 87, \"3\": 7, \"7\": 31, \"13\": 11, \"12\": 10, \"0\": 1, \"15\": 1, \"5\": 1, \"1\": 2, \"8\": 1}, \"12\": {\"12\": 64, \"3\": 49, \"1\": 21, \"9\": 22, \"0\": 28, \"2\": 11, \"5\": 33, \"15\": 9, \"8\": 1, \"13\": 1, \"7\": 1}, \"9\": {\"7\": 36, \"2\": 68, \"3\": 29, \"9\": 71, \"12\": 16, \"13\": 7, \"1\": 4, \"8\": 4, \"5\": 2, \"0\": 2, \"15\": 1}, \"1\": {\"1\": 62, \"5\": 52, \"0\": 40, \"15\": 47, \"12\": 29, \"9\": 3, \"3\": 5, \"13\": 1, \"2\": 1}, \"11\": {\"11\": 240}, \"13\": {\"13\": 201, \"9\": 4, \"2\": 22, \"15\": 6, \"1\": 5, \"12\": 2}}, \"ORACLE.run1_38\": {\"5\": {\"8\": 65, \"7\": 18, \"9\": 4, \"5\": 72, \"15\": 9, \"1\": 7, \"0\": 34, \"3\": 3, \"6\": 24, \"13\": 4}, \"8\": {\"0\": 25, \"7\": 17, \"8\": 134, \"13\": 3, \"15\": 10, \"10\": 9, \"1\": 2, \"5\": 40}, \"11\": {\"11\": 156, \"14\": 76, \"10\": 2, \"2\": 3, \"12\": 3}, \"1\": {\"1\": 219, \"13\": 3, \"15\": 16, \"5\": 2}, \"10\": {\"10\": 145, \"13\": 28, \"8\": 21, \"12\": 23, \"0\": 3, \"2\": 3, \"15\": 8, \"5\": 3, \"7\": 2, \"11\": 1, \"14\": 3}, \"15\": {\"10\": 7, \"15\": 123, \"13\": 79, \"8\": 10, \"1\": 14, \"5\": 6, \"2\": 1}, \"3\": {\"3\": 179, \"9\": 31, \"6\": 13, \"7\": 9, \"0\": 5, \"5\": 3}, \"7\": {\"7\": 144, \"0\": 66, \"5\": 13, \"8\": 14, \"4\": 1, \"3\": 2}, \"4\": {\"4\": 199, \"12\": 41}, \"14\": {\"14\": 150, \"11\": 59, \"10\": 3, \"2\": 27, \"12\": 1}, \"9\": {\"9\": 118, \"6\": 92, \"3\": 29, \"5\": 1}, \"12\": {\"4\": 22, \"12\": 204, \"10\": 11, \"11\": 2, \"14\": 1}, \"6\": {\"5\": 3, \"6\": 174, \"9\": 62, \"3\": 1}, \"2\": {\"2\": 213, \"14\": 18, \"13\": 7, \"10\": 2}, \"0\": {\"8\": 56, \"7\": 62, \"0\": 53, \"5\": 39, \"9\": 4, \"3\": 14, \"10\": 7, \"13\": 2, \"15\": 1, \"6\": 2}, \"13\": {\"13\": 137, \"15\": 64, \"10\": 15, \"2\": 12, \"1\": 6, \"8\": 3, \"0\": 1, \"5\": 2}}, \"ORACLE.run1_8\": {\"9\": {\"9\": 240}, \"10\": {\"10\": 150, \"13\": 13, \"14\": 57, \"5\": 9, \"4\": 10, \"1\": 1}, \"13\": {\"13\": 79, \"10\": 23, \"0\": 56, \"6\": 11, \"14\": 29, \"4\": 38, \"5\": 1, \"11\": 1, \"7\": 2}, \"0\": {\"10\": 5, \"0\": 156, \"13\": 48, \"6\": 9, \"7\": 16, \"4\": 6}, \"1\": {\"11\": 91, \"1\": 137, \"10\": 3, \"5\": 4, \"14\": 4, \"4\": 1}, \"15\": {\"15\": 178, \"12\": 43, \"8\": 17, \"7\": 1, \"3\": 1}, \"5\": {\"5\": 201, \"11\": 7, \"14\": 6, \"1\": 15, \"10\": 11}, \"3\": {\"2\": 33, \"3\": 188, \"12\": 19}, \"6\": {\"4\": 21, \"6\": 143, \"7\": 54, \"13\": 9, \"0\": 10, \"12\": 1, \"14\": 2}, \"11\": {\"11\": 112, \"1\": 104, \"5\": 17, \"14\": 6, \"4\": 1}, \"8\": {\"8\": 216, \"15\": 21, \"6\": 3}, \"4\": {\"4\": 98, \"0\": 9, \"13\": 54, \"6\": 36, \"14\": 36, \"10\": 6, \"1\": 1}, \"12\": {\"12\": 116, \"8\": 10, \"15\": 61, \"3\": 51, \"2\": 1, \"7\": 1}, \"14\": {\"10\": 63, \"14\": 111, \"4\": 39, \"11\": 5, \"13\": 13, \"5\": 1, \"1\": 7, \"6\": 1}, \"2\": {\"15\": 11, \"2\": 177, \"3\": 41, \"7\": 4, \"12\": 6, \"6\": 1}, \"7\": {\"7\": 195, \"6\": 37, \"4\": 1, \"13\": 2, \"0\": 5}}, \"ORACLE.run1_50\": {\"7\": {\"5\": 38, \"7\": 126, \"13\": 49, \"10\": 25, \"0\": 1, \"6\": 1}, \"3\": {\"3\": 231, \"8\": 9}, \"8\": {\"8\": 225, \"10\": 12, \"3\": 3}, \"2\": {\"2\": 220, \"0\": 18, \"1\": 1, \"6\": 1}, \"14\": {\"14\": 233, \"1\": 1, \"11\": 3, \"12\": 2, \"9\": 1}, \"4\": {\"15\": 54, \"4\": 71, \"1\": 42, \"13\": 9, \"5\": 20, \"7\": 3, \"6\": 40, \"0\": 1}, \"6\": {\"6\": 135, \"15\": 2, \"4\": 36, \"1\": 19, \"13\": 24, \"5\": 21, \"0\": 1, \"7\": 1, \"2\": 1}, \"15\": {\"15\": 152, \"1\": 46, \"11\": 13, \"4\": 28, \"6\": 1}, \"10\": {\"10\": 214, \"13\": 5, \"0\": 12, \"7\": 7, \"8\": 2}, \"11\": {\"11\": 186, \"15\": 12, \"9\": 29, \"14\": 11, \"1\": 1, \"12\": 1}, \"13\": {\"13\": 106, \"5\": 57, \"7\": 54, \"6\": 18, \"0\": 1, \"10\": 3, \"4\": 1}, \"9\": {\"11\": 42, \"9\": 163, \"12\": 33, \"14\": 2}, \"0\": {\"2\": 27, \"10\": 25, \"0\": 182, \"13\": 4, \"6\": 2}, \"1\": {\"15\": 52, \"1\": 112, \"4\": 39, \"6\": 34, \"11\": 1, \"0\": 1, \"5\": 1}, \"12\": {\"14\": 13, \"9\": 19, \"12\": 206, \"11\": 2}, \"5\": {\"5\": 59, \"6\": 49, \"7\": 59, \"13\": 47, \"1\": 8, \"4\": 17, \"10\": 1}}, \"ORACLE.run1_32\": {\"8\": {\"13\": 36, \"5\": 15, \"8\": 161, \"3\": 4, \"4\": 7, \"0\": 16, \"14\": 1}, \"14\": {\"11\": 72, \"4\": 10, \"7\": 63, \"14\": 64, \"5\": 10, \"13\": 10, \"0\": 2, \"3\": 6, \"2\": 3}, \"2\": {\"2\": 170, \"4\": 35, \"0\": 30, \"14\": 1, \"7\": 3, \"5\": 1}, \"0\": {\"2\": 30, \"4\": 63, \"0\": 106, \"7\": 11, \"5\": 6, \"14\": 3, \"8\": 19, \"13\": 2}, \"1\": {\"1\": 235, \"10\": 5}, \"10\": {\"10\": 234, \"1\": 6}, \"11\": {\"11\": 153, \"14\": 67, \"5\": 5, \"7\": 8, \"3\": 5, \"13\": 2}, \"5\": {\"7\": 38, \"11\": 8, \"3\": 24, \"13\": 55, \"14\": 17, \"5\": 42, \"8\": 33, \"0\": 10, \"4\": 12, \"2\": 1}, \"15\": {\"15\": 234, \"8\": 5, \"3\": 1}, \"3\": {\"3\": 209, \"5\": 17, \"14\": 1, \"8\": 1, \"13\": 8, \"11\": 4}, \"12\": {\"12\": 240}, \"7\": {\"5\": 21, \"7\": 107, \"14\": 50, \"13\": 15, \"11\": 10, \"4\": 23, \"8\": 1, \"0\": 9, \"2\": 3, \"3\": 1}, \"13\": {\"13\": 71, \"8\": 38, \"3\": 20, \"5\": 54, \"7\": 14, \"4\": 16, \"0\": 9, \"14\": 11, \"11\": 6, \"2\": 1}, \"6\": {\"6\": 240}, \"4\": {\"0\": 57, \"2\": 46, \"4\": 80, \"5\": 11, \"7\": 30, \"13\": 7, \"8\": 4, \"14\": 5}, \"9\": {\"9\": 239, \"12\": 1}}, \"ORACLE.run1_26\": {\"4\": {\"1\": 37, \"14\": 35, \"0\": 34, \"8\": 28, \"4\": 80, \"7\": 11, \"10\": 14, \"9\": 1}, \"12\": {\"12\": 238, \"11\": 2}, \"10\": {\"10\": 82, \"0\": 47, \"9\": 5, \"4\": 14, \"14\": 19, \"8\": 29, \"6\": 28, \"15\": 3, \"1\": 13}, \"0\": {\"1\": 28, \"10\": 53, \"14\": 31, \"4\": 46, \"0\": 38, \"6\": 11, \"8\": 23, \"7\": 6, \"15\": 2, \"9\": 2}, \"13\": {\"13\": 150, \"5\": 46, \"15\": 20, \"6\": 8, \"9\": 11, \"2\": 3, \"3\": 1, \"8\": 1}, \"9\": {\"5\": 41, \"7\": 6, \"6\": 27, \"9\": 68, \"15\": 66, \"8\": 19, \"10\": 5, \"13\": 4, \"2\": 3, \"4\": 1}, \"3\": {\"3\": 154, \"2\": 53, \"7\": 29, \"0\": 1, \"4\": 1, \"5\": 1, \"8\": 1}, \"2\": {\"2\": 80, \"7\": 27, \"3\": 81, \"5\": 19, \"8\": 5, \"9\": 12, \"15\": 13, \"4\": 1, \"0\": 2}, \"5\": {\"2\": 18, \"5\": 89, \"15\": 61, \"9\": 35, \"13\": 27, \"7\": 7, \"6\": 2, \"3\": 1}, \"14\": {\"4\": 34, \"1\": 54, \"10\": 27, \"14\": 55, \"8\": 16, \"6\": 1, \"0\": 51, \"7\": 2}, \"8\": {\"4\": 18, \"1\": 4, \"7\": 22, \"0\": 23, \"15\": 11, \"8\": 81, \"10\": 36, \"6\": 14, \"9\": 22, \"14\": 7, \"5\": 1, \"2\": 1}, \"7\": {\"7\": 131, \"2\": 30, \"8\": 23, \"3\": 23, \"0\": 2, \"4\": 19, \"15\": 3, \"5\": 4, \"9\": 1, \"14\": 3, \"1\": 1}, \"6\": {\"6\": 161, \"10\": 22, \"8\": 9, \"0\": 8, \"15\": 17, \"9\": 17, \"13\": 5, \"5\": 1}, \"11\": {\"11\": 234, \"12\": 6}, \"15\": {\"15\": 60, \"6\": 10, \"5\": 55, \"8\": 23, \"9\": 56, \"13\": 20, \"2\": 8, \"7\": 3, \"10\": 4, \"0\": 1}, \"1\": {\"4\": 37, \"0\": 33, \"1\": 79, \"14\": 60, \"10\": 15, \"8\": 6, \"7\": 10}}, \"ORACLE.run1_44\": {\"12\": {\"12\": 173, \"1\": 45, \"10\": 20, \"3\": 1, \"2\": 1}, \"7\": {\"7\": 140, \"2\": 40, \"6\": 7, \"9\": 47, \"3\": 4, \"10\": 1, \"13\": 1}, \"5\": {\"5\": 175, \"15\": 11, \"8\": 8, \"0\": 32, \"4\": 4, \"14\": 10}, \"15\": {\"14\": 19, \"15\": 176, \"5\": 13, \"8\": 8, \"4\": 3, \"0\": 21}, \"8\": {\"0\": 78, \"8\": 146, \"15\": 8, \"5\": 8}, \"2\": {\"2\": 158, \"10\": 17, \"1\": 11, \"7\": 48, \"6\": 1, \"3\": 3, \"9\": 1, \"12\": 1}, \"13\": {\"6\": 44, \"13\": 130, \"9\": 35, \"11\": 28, \"4\": 1, \"7\": 2}, \"4\": {\"4\": 157, \"14\": 82, \"15\": 1}, \"0\": {\"8\": 77, \"0\": 127, \"5\": 25, \"15\": 10, \"14\": 1}, \"6\": {\"9\": 38, \"6\": 141, \"13\": 34, \"2\": 1, \"11\": 16, \"7\": 10}, \"9\": {\"13\": 34, \"7\": 42, \"9\": 136, \"6\": 22, \"2\": 5, \"1\": 1}, \"11\": {\"6\": 15, \"11\": 179, \"13\": 46}, \"10\": {\"1\": 28, \"10\": 150, \"2\": 28, \"12\": 33, \"3\": 1}, \"14\": {\"14\": 130, \"5\": 13, \"4\": 74, \"15\": 22, \"0\": 1}, \"1\": {\"3\": 47, \"12\": 67, \"1\": 89, \"2\": 14, \"10\": 23}, \"3\": {\"3\": 195, \"1\": 36, \"7\": 1, \"2\": 3, \"12\": 5}}, \"C_A_3\": {\"43\": {\"43\": 12}, \"9\": {\"9\": 12}, \"6\": {\"6\": 8, \"30\": 1, \"18\": 1}, \"3\": {\"51\": 1, \"3\": 8, \"20\": 2, \"52\": 1}, \"16\": {\"16\": 12}, \"51\": {\"51\": 12}, \"31\": {\"31\": 12}, \"46\": {\"46\": 10}, \"19\": {\"19\": 8}, \"8\": {\"8\": 10, \"38\": 2}, \"18\": {\"18\": 12}, \"37\": {\"37\": 12}, \"24\": {\"24\": 12}, \"10\": {\"10\": 12}, \"44\": {\"44\": 7, \"24\": 1, \"32\": 2}, \"14\": {\"24\": 1, \"14\": 4, \"56\": 1, \"35\": 3, \"29\": 2, \"28\": 1}, \"38\": {\"8\": 1, \"38\": 9}, \"53\": {\"53\": 12}, \"20\": {\"20\": 12}, \"32\": {\"32\": 12}, \"36\": {\"36\": 10}, \"33\": {\"33\": 12}, \"56\": {\"56\": 12}, \"23\": {\"23\": 12}, \"54\": {\"54\": 10}, \"34\": {\"34\": 12}, \"13\": {\"13\": 12}, \"2\": {\"2\": 12}, \"55\": {\"55\": 9, \"42\": 1}, \"21\": {\"21\": 10}, \"49\": {\"49\": 10}, \"25\": {\"25\": 9, \"8\": 1, \"20\": 1, \"50\": 1}, \"5\": {\"5\": 8, \"34\": 1, \"1\": 2, \"42\": 1}, \"50\": {\"50\": 3, \"3\": 2, \"46\": 1, \"25\": 2}, \"40\": {\"40\": 7, \"17\": 2, \"29\": 2, \"32\": 1}, \"57\": {\"57\": 8}, \"22\": {\"22\": 10}, \"1\": {\"1\": 10}, \"17\": {\"17\": 12}, \"41\": {\"41\": 12}, \"4\": {\"17\": 1, \"40\": 4, \"27\": 1, \"4\": 2, \"45\": 2}, \"7\": {\"7\": 10}, \"26\": {\"26\": 10}, \"29\": {\"29\": 12}, \"52\": {\"52\": 11, \"46\": 1}, \"15\": {\"15\": 12}, \"35\": {\"35\": 12}, \"42\": {\"42\": 12}, \"30\": {\"6\": 1, \"30\": 9}, \"27\": {\"27\": 8}, \"45\": {\"44\": 2, \"17\": 2, \"4\": 1, \"32\": 2, \"45\": 3}, \"0\": {\"0\": 12}, \"28\": {\"28\": 12}, \"47\": {\"47\": 12}, \"11\": {\"11\": 10}, \"39\": {\"39\": 10}, \"48\": {\"48\": 12}, \"12\": {\"12\": 6, \"25\": 1, \"8\": 1}}, \"C_A_4\": {\"35\": {\"35\": 10}, \"25\": {\"25\": 8, \"50\": 1, \"3\": 1, \"21\": 2}, \"24\": {\"24\": 10}, \"48\": {\"48\": 12}, \"51\": {\"51\": 11, \"53\": 1}, \"13\": {\"13\": 12}, \"14\": {\"35\": 3, \"14\": 1, \"38\": 2, \"2\": 2}, \"32\": {\"32\": 12}, \"30\": {\"30\": 11, \"21\": 1}, \"34\": {\"34\": 10}, \"9\": {\"40\": 2, \"9\": 8, \"27\": 2}, \"1\": {\"1\": 12}, \"0\": {\"0\": 12}, \"38\": {\"38\": 12}, \"22\": {\"38\": 1, \"0\": 1, \"22\": 6}, \"40\": {\"40\": 11, \"19\": 1}, \"39\": {\"39\": 12}, \"46\": {\"32\": 3, \"46\": 9}, \"36\": {\"36\": 12}, \"50\": {\"8\": 2, \"50\": 6, \"25\": 1, \"20\": 2, \"21\": 1}, \"49\": {\"49\": 11, \"7\": 1}, \"17\": {\"17\": 12}, \"45\": {\"17\": 3, \"45\": 3, \"4\": 2, \"24\": 1, \"40\": 1, \"28\": 1, \"19\": 1}, \"6\": {\"6\": 7, \"51\": 1, \"20\": 3, \"53\": 1}, \"8\": {\"8\": 12}, \"5\": {\"5\": 8, \"47\": 1, \"39\": 1}, \"33\": {\"33\": 11, \"4\": 1}, \"31\": {\"31\": 12}, \"37\": {\"37\": 10}, \"47\": {\"47\": 8}, \"15\": {\"15\": 10}, \"7\": {\"7\": 12}, \"20\": {\"20\": 11, \"6\": 1}, \"4\": {\"4\": 6, \"38\": 1, \"40\": 1, \"9\": 1, \"44\": 1, \"27\": 2}, \"54\": {\"54\": 12}, \"44\": {\"44\": 8, \"26\": 2, \"9\": 2}, \"3\": {\"3\": 12}, \"11\": {\"11\": 10}, \"27\": {\"27\": 10}, \"19\": {\"19\": 8, \"33\": 3, \"40\": 1}, \"55\": {\"55\": 12}, \"16\": {\"16\": 12}, \"2\": {\"2\": 10}, \"52\": {\"52\": 10}, \"42\": {\"55\": 1, \"42\": 7, \"28\": 1, \"48\": 1}, \"26\": {\"26\": 12}, \"10\": {\"10\": 12}, \"53\": {\"51\": 1, \"53\": 9}, \"28\": {\"28\": 12}, \"21\": {\"21\": 8, \"30\": 1, \"8\": 1}, \"57\": {\"57\": 10}, \"23\": {\"23\": 8}, \"43\": {\"43\": 10}, \"12\": {\"12\": 8, \"44\": 1, \"50\": 1, \"8\": 2}, \"41\": {\"41\": 12}, \"56\": {\"56\": 8}, \"18\": {\"18\": 10}, \"29\": {\"29\": 8}}, \"C_A_5\": {\"47\": {\"47\": 10}, \"53\": {\"53\": 11, \"25\": 1}, \"29\": {\"29\": 12}, \"52\": {\"52\": 12}, \"55\": {\"17\": 2, \"6\": 1, \"55\": 5, \"48\": 1, \"30\": 1, \"13\": 1, \"12\": 1}, \"17\": {\"17\": 12}, \"42\": {\"42\": 12}, \"33\": {\"33\": 10}, \"11\": {\"11\": 12}, \"19\": {\"19\": 7, \"55\": 1}, \"1\": {\"1\": 12}, \"44\": {\"44\": 12}, \"49\": {\"49\": 12}, \"4\": {\"4\": 10, \"55\": 1, \"24\": 1}, \"6\": {\"6\": 12}, \"39\": {\"39\": 12}, \"13\": {\"13\": 12}, \"5\": {\"5\": 10}, \"16\": {\"16\": 10}, \"25\": {\"25\": 8, \"8\": 2, \"7\": 1, \"53\": 1}, \"45\": {\"55\": 2, \"17\": 2, \"38\": 1, \"48\": 1, \"24\": 2, \"56\": 1, \"30\": 1, \"9\": 1, \"45\": 1}, \"7\": {\"7\": 10}, \"22\": {\"22\": 12}, \"40\": {\"40\": 12}, \"38\": {\"7\": 3, \"38\": 9}, \"35\": {\"35\": 8}, \"56\": {\"56\": 12}, \"50\": {\"50\": 7, \"7\": 1, \"20\": 1, \"53\": 1}, \"0\": {\"0\": 12}, \"10\": {\"10\": 12}, \"27\": {\"27\": 9, \"9\": 3}, \"20\": {\"20\": 10}, \"36\": {\"36\": 8}, \"34\": {\"34\": 12}, \"30\": {\"30\": 12}, \"2\": {\"2\": 10}, \"15\": {\"15\": 12}, \"18\": {\"18\": 12}, \"32\": {\"32\": 12}, \"31\": {\"31\": 12}, \"57\": {\"57\": 12}, \"48\": {\"1\": 1, \"48\": 7}, \"28\": {\"28\": 10}, \"14\": {\"3\": 1, \"28\": 4, \"14\": 1, \"36\": 1, \"44\": 2, \"46\": 3}, \"3\": {\"3\": 12}, \"8\": {\"8\": 12}, \"9\": {\"9\": 11, \"27\": 1}, \"21\": {\"21\": 10}, \"41\": {\"41\": 12}, \"24\": {\"24\": 12}, \"46\": {\"46\": 10}, \"43\": {\"43\": 8, \"11\": 2}, \"54\": {\"54\": 10}, \"23\": {\"23\": 10}, \"37\": {\"37\": 8, \"21\": 2}, \"12\": {\"12\": 6, \"26\": 2, \"38\": 1, \"55\": 1}, \"26\": {\"26\": 10}, \"51\": {\"51\": 6}}, \"W_A_3\": {\"109\": {\"14\": 1, \"109\": 4, \"96\": 2, \"118\": 1, \"123\": 1, \"67\": 2, \"81\": 1}, \"127\": {\"127\": 7, \"41\": 1, \"3\": 1, \"47\": 1, \"103\": 1, \"77\": 1}, \"14\": {\"63\": 1, \"14\": 4, \"43\": 2, \"93\": 2, \"45\": 2, \"117\": 1}, \"7\": {\"35\": 1, \"7\": 10, \"85\": 1}, \"129\": {\"129\": 8, \"74\": 1, \"40\": 1, \"17\": 1, \"1\": 1}, \"57\": {\"57\": 12}, \"84\": {\"84\": 6, \"115\": 1, \"26\": 1, \"62\": 1, \"16\": 1, \"121\": 1, \"107\": 1}, \"114\": {\"114\": 12}, \"44\": {\"44\": 6, \"84\": 1, \"53\": 1, \"32\": 2, \"122\": 1, \"29\": 1}, \"21\": {\"109\": 2, \"21\": 7, \"81\": 1, \"33\": 2}, \"46\": {\"46\": 7, \"86\": 1, \"5\": 3, \"65\": 1}, \"100\": {\"100\": 6, \"107\": 2, \"40\": 2, \"32\": 2}, \"63\": {\"109\": 1, \"24\": 1, \"23\": 2, \"4\": 1, \"27\": 1, \"63\": 1, \"16\": 1, \"62\": 2, \"75\": 1, \"81\": 1}, \"24\": {\"24\": 2, \"109\": 1, \"94\": 2, \"106\": 2, \"43\": 1, \"15\": 1, \"27\": 1, \"36\": 2}, \"107\": {\"107\": 9, \"100\": 1, \"79\": 1, \"84\": 1}, \"35\": {\"109\": 1, \"35\": 7, \"11\": 1, \"7\": 1}, \"81\": {\"109\": 3, \"11\": 1, \"121\": 1, \"61\": 1, \"122\": 1, \"26\": 1, \"38\": 1, \"81\": 3}, \"64\": {\"64\": 6, \"120\": 3, \"92\": 1, \"119\": 1, \"33\": 1}, \"59\": {\"59\": 12}, \"33\": {\"64\": 1, \"33\": 8, \"14\": 1, \"50\": 2}, \"34\": {\"59\": 1, \"34\": 6, \"15\": 2, \"22\": 2, \"97\": 1}, \"36\": {\"36\": 8, \"106\": 2, \"52\": 1, \"25\": 1}, \"79\": {\"79\": 8, \"107\": 2, \"100\": 1, \"92\": 1}, \"80\": {\"80\": 10, \"87\": 1, \"60\": 1}, \"77\": {\"77\": 12}, \"22\": {\"22\": 5, \"109\": 1, \"82\": 2, \"74\": 2, \"119\": 1, \"64\": 1}, \"124\": {\"124\": 11, \"127\": 1}, \"2\": {\"109\": 2, \"45\": 1, \"43\": 1, \"2\": 1, \"93\": 1, \"67\": 1, \"14\": 1, \"23\": 1, \"50\": 1, \"62\": 2}, \"87\": {\"57\": 3, \"67\": 1, \"80\": 1, \"122\": 2, \"79\": 2, \"87\": 3}, \"105\": {\"105\": 12}, \"95\": {\"56\": 1, \"95\": 8, \"48\": 2, \"65\": 1}, \"43\": {\"43\": 7, \"33\": 2, \"64\": 1, \"79\": 1, \"96\": 1}, \"56\": {\"86\": 2, \"56\": 7, \"124\": 1}, \"18\": {\"113\": 3, \"11\": 2, \"18\": 1, \"67\": 1, \"93\": 2, \"102\": 1, \"63\": 1, \"123\": 1}, \"85\": {\"85\": 7, \"91\": 3, \"47\": 1, \"103\": 1}, \"113\": {\"113\": 7, \"23\": 2, \"102\": 1, \"11\": 2}, \"97\": {\"97\": 9, \"27\": 1, \"98\": 2}, \"86\": {\"86\": 7, \"46\": 2, \"124\": 2, \"5\": 1}, \"128\": {\"110\": 2, \"128\": 4, \"105\": 1, \"95\": 1, \"1\": 2, \"4\": 1, \"28\": 1}, \"123\": {\"113\": 2, \"14\": 2, \"67\": 1, \"13\": 1, \"118\": 1, \"109\": 1, \"69\": 2, \"18\": 1, \"62\": 1}, \"8\": {\"8\": 8, \"52\": 1, \"83\": 1, \"101\": 2}, \"110\": {\"110\": 10, \"10\": 1, \"44\": 1}, \"126\": {\"18\": 2, \"126\": 3, \"96\": 1, \"89\": 1, \"26\": 1, \"121\": 1, \"2\": 1, \"39\": 2}, \"101\": {\"42\": 2, \"58\": 2, \"101\": 6, \"8\": 1, \"35\": 1}, \"115\": {\"115\": 7, \"107\": 1, \"33\": 1, \"82\": 1, \"119\": 1, \"116\": 1}, \"49\": {\"114\": 2, \"108\": 1, \"49\": 4, \"98\": 2, \"12\": 2, \"30\": 1}, \"45\": {\"43\": 2, \"45\": 3, \"117\": 1, \"26\": 1, \"7\": 1, \"93\": 3, \"14\": 1}, \"78\": {\"78\": 4, \"82\": 1, \"14\": 1, \"67\": 1, \"19\": 1, \"100\": 2, \"31\": 1, \"53\": 1}, \"65\": {\"65\": 5, \"3\": 2, \"85\": 2, \"81\": 1}, \"54\": {\"54\": 12}, \"31\": {\"31\": 9, \"53\": 1}, \"42\": {\"49\": 2, \"101\": 1, \"42\": 2, \"73\": 2, \"15\": 1, \"30\": 1, \"88\": 1, \"115\": 1, \"97\": 1}, \"68\": {\"68\": 12}, \"15\": {\"15\": 7, \"106\": 4, \"59\": 1}, \"69\": {\"102\": 1, \"69\": 3, \"38\": 1, \"62\": 1, \"118\": 2, \"32\": 2, \"76\": 1, \"60\": 1}, \"17\": {\"102\": 1, \"41\": 1, \"11\": 1, \"9\": 1, \"1\": 1, \"67\": 1, \"5\": 2, \"116\": 1, \"56\": 1}, \"73\": {\"73\": 12}, \"121\": {\"102\": 1, \"48\": 1, \"104\": 1, \"123\": 1, \"81\": 1, \"11\": 1, \"32\": 2, \"46\": 1, \"16\": 1, \"43\": 2}, \"102\": {\"102\": 5, \"11\": 2, \"76\": 2, \"43\": 2, \"113\": 1}, \"48\": {\"48\": 3, \"102\": 1, \"56\": 1, \"3\": 1, \"127\": 2, \"95\": 1, \"109\": 1, \"14\": 1, \"41\": 1}, \"23\": {\"102\": 2, \"28\": 1, \"23\": 2, \"99\": 1, \"91\": 1, \"128\": 1, \"2\": 2, \"7\": 1, \"71\": 1}, \"108\": {\"108\": 6, \"42\": 1, \"112\": 2, \"49\": 1, \"3\": 2}, \"53\": {\"53\": 8, \"31\": 2, \"60\": 1, \"1\": 1}, \"94\": {\"94\": 7, \"15\": 1, \"25\": 2}, \"41\": {\"41\": 11, \"127\": 1}, \"58\": {\"58\": 10, \"101\": 1, \"52\": 1}, \"29\": {\"29\": 12}, \"116\": {\"82\": 1, \"116\": 8, \"50\": 1, \"14\": 1, \"33\": 1}, \"60\": {\"60\": 7, \"66\": 1, \"22\": 1, \"29\": 2, \"122\": 1}, \"104\": {\"40\": 3, \"104\": 7, \"55\": 2}, \"106\": {\"15\": 1, \"106\": 11}, \"66\": {\"66\": 11, \"55\": 1}, \"47\": {\"47\": 7, \"77\": 1, \"3\": 1, \"127\": 1, \"103\": 2}, \"40\": {\"40\": 8, \"104\": 1, \"129\": 2, \"110\": 1}, \"82\": {\"82\": 7, \"14\": 1, \"115\": 2, \"33\": 1, \"109\": 1}, \"13\": {\"40\": 3, \"13\": 2, \"113\": 2, \"79\": 2, \"26\": 1, \"16\": 1, \"11\": 1}, \"19\": {\"68\": 1, \"19\": 2, \"128\": 2, \"105\": 1, \"28\": 2, \"86\": 2, \"129\": 1, \"127\": 1}, \"72\": {\"101\": 3, \"72\": 9}, \"9\": {\"9\": 11, \"4\": 1}, \"67\": {\"67\": 11, \"45\": 1}, \"11\": {\"11\": 4, \"16\": 2, \"13\": 2, \"43\": 2, \"116\": 2}, \"125\": {\"125\": 12}, \"76\": {\"67\": 1, \"76\": 3, \"102\": 1, \"77\": 1, \"69\": 2}, \"83\": {\"83\": 8, \"52\": 1, \"98\": 2, \"51\": 1}, \"74\": {\"74\": 9, \"54\": 1, \"116\": 2}, \"20\": {\"20\": 12}, \"119\": {\"74\": 1, \"119\": 7, \"115\": 1, \"92\": 1, \"129\": 1, \"64\": 1}, \"1\": {\"1\": 10, \"9\": 1, \"114\": 1}, \"16\": {\"16\": 11, \"48\": 1}, \"25\": {\"25\": 9, \"64\": 1, \"59\": 2}, \"90\": {\"90\": 8}, \"39\": {\"117\": 1, \"2\": 1, \"67\": 3, \"26\": 1, \"45\": 1, \"33\": 2, \"89\": 1, \"122\": 2}, \"28\": {\"28\": 9, \"53\": 1, \"1\": 1, \"29\": 1}, \"55\": {\"55\": 11, \"122\": 1}, \"117\": {\"117\": 2, \"115\": 1, \"48\": 2, \"89\": 1, \"4\": 1, \"20\": 1, \"2\": 2, \"86\": 1, \"21\": 1}, \"112\": {\"112\": 8, \"99\": 1, \"12\": 1, \"8\": 2}, \"38\": {\"64\": 3, \"23\": 2, \"96\": 1, \"107\": 1, \"22\": 2, \"115\": 2, \"50\": 1}, \"37\": {\"73\": 2, \"37\": 6, \"0\": 2, \"51\": 2}, \"120\": {\"64\": 2, \"120\": 5, \"50\": 3, \"92\": 1, \"16\": 1}, \"122\": {\"122\": 3, \"10\": 1, \"60\": 3, \"29\": 2, \"80\": 1, \"90\": 2}, \"50\": {\"120\": 3, \"119\": 1, \"50\": 7, \"116\": 1}, \"10\": {\"127\": 2, \"95\": 2, \"3\": 3, \"88\": 2, \"47\": 2, \"10\": 1}, \"5\": {\"5\": 10, \"46\": 2}, \"51\": {\"51\": 9, \"97\": 1, \"98\": 2}, \"3\": {\"10\": 4, \"67\": 1, \"103\": 2, \"127\": 1, \"47\": 1, \"3\": 2, \"69\": 1}, \"98\": {\"15\": 2, \"98\": 7, \"83\": 2, \"60\": 1}, \"70\": {\"70\": 6, \"48\": 1, \"96\": 1, \"85\": 1, \"128\": 1, \"49\": 1, \"86\": 1}, \"96\": {\"96\": 9, \"92\": 1, \"93\": 1, \"119\": 1}, \"12\": {\"12\": 10, \"52\": 1, \"108\": 1}, \"99\": {\"99\": 6, \"91\": 2, \"85\": 3, \"47\": 1}, \"52\": {\"12\": 4, \"52\": 8}, \"71\": {\"71\": 6, \"115\": 1, \"118\": 1, \"95\": 2, \"3\": 2}, \"89\": {\"109\": 2, \"26\": 1, \"62\": 2, \"89\": 3, \"4\": 1, \"39\": 1, \"67\": 1, \"76\": 1}, \"0\": {\"52\": 1, \"12\": 1, \"0\": 7, \"30\": 1, \"111\": 2}, \"4\": {\"4\": 7, \"114\": 2, \"118\": 1, \"43\": 1, \"23\": 1}, \"93\": {\"93\": 10, \"62\": 1, \"96\": 1}, \"6\": {\"6\": 9, \"34\": 1}, \"75\": {\"75\": 12}, \"62\": {\"93\": 3, \"62\": 6, \"16\": 2, \"82\": 1}, \"103\": {\"103\": 9, \"71\": 2, \"3\": 1}, \"30\": {\"30\": 10, \"6\": 1, \"59\": 1}, \"91\": {\"99\": 3, \"72\": 1, \"8\": 1, \"111\": 1, \"0\": 1, \"19\": 1, \"128\": 1, \"91\": 1, \"30\": 2}, \"27\": {\"6\": 5, \"27\": 4, \"24\": 1, \"83\": 1, \"106\": 1}, \"26\": {\"26\": 2, \"45\": 1, \"62\": 4, \"13\": 2, \"87\": 1, \"32\": 1, \"121\": 1}, \"61\": {\"115\": 1, \"61\": 5, \"2\": 3, \"44\": 1, \"26\": 1, \"32\": 1}, \"118\": {\"93\": 1, \"122\": 1, \"62\": 2, \"118\": 2, \"22\": 1, \"123\": 1, \"32\": 2, \"43\": 2}, \"92\": {\"120\": 2, \"92\": 8, \"50\": 1, \"119\": 1}, \"111\": {\"0\": 1, \"111\": 11}, \"32\": {\"32\": 3, \"84\": 1, \"100\": 3, \"116\": 1, \"92\": 1, \"50\": 1, \"28\": 1, \"96\": 1}, \"88\": {\"99\": 1, \"88\": 4, \"10\": 1, \"118\": 1, \"93\": 1, \"69\": 1, \"109\": 1}}, \"C_A_1\": {\"46\": {\"51\": 1, \"26\": 1, \"46\": 6, \"4\": 1, \"52\": 1, \"41\": 1, \"40\": 1}, \"16\": {\"16\": 12}, \"26\": {\"26\": 12}, \"10\": {\"10\": 12}, \"9\": {\"9\": 10}, \"28\": {\"28\": 11, \"21\": 1}, \"51\": {\"51\": 12}, \"1\": {\"1\": 11, \"45\": 1}, \"55\": {\"55\": 12}, \"27\": {\"27\": 10}, \"22\": {\"28\": 1, \"22\": 8, \"15\": 1, \"24\": 1, \"52\": 1}, \"52\": {\"52\": 10, \"22\": 1, \"28\": 1}, \"3\": {\"3\": 12}, \"33\": {\"33\": 8}, \"47\": {\"47\": 12}, \"42\": {\"42\": 12}, \"12\": {\"12\": 4}, \"23\": {\"23\": 12}, \"49\": {\"49\": 10}, \"7\": {\"7\": 12}, \"4\": {\"4\": 5, \"50\": 3, \"40\": 1, \"21\": 1, \"8\": 1, \"44\": 1}, \"50\": {\"50\": 12}, \"19\": {\"19\": 12}, \"11\": {\"11\": 12}, \"31\": {\"31\": 8, \"21\": 2}, \"41\": {\"46\": 2, \"41\": 8, \"51\": 2}, \"56\": {\"56\": 10}, \"0\": {\"0\": 12}, \"57\": {\"57\": 10, \"19\": 2}, \"53\": {\"53\": 12}, \"43\": {\"43\": 12}, \"37\": {\"37\": 12}, \"2\": {\"2\": 8}, \"6\": {\"2\": 2, \"6\": 8, \"8\": 1, \"48\": 1}, \"18\": {\"18\": 12}, \"38\": {\"38\": 12}, \"15\": {\"15\": 12}, \"36\": {\"36\": 12}, \"39\": {\"39\": 8}, \"44\": {\"44\": 11, \"35\": 1}, \"8\": {\"8\": 12}, \"17\": {\"17\": 10}, \"5\": {\"5\": 10, \"8\": 2}, \"13\": {\"13\": 8, \"53\": 2}, \"40\": {\"39\": 1, \"40\": 1, \"2\": 1, \"19\": 3, \"4\": 1, \"48\": 1, \"17\": 2}, \"29\": {\"57\": 2, \"29\": 8, \"19\": 2}, \"48\": {\"48\": 12}, \"32\": {\"32\": 12}, \"30\": {\"30\": 12}, \"35\": {\"35\": 11, \"44\": 1}, \"25\": {\"25\": 12}, \"14\": {\"14\": 1, \"53\": 1, \"51\": 2, \"13\": 3, \"5\": 1, \"30\": 1, \"7\": 1, \"41\": 2}, \"54\": {\"54\": 10}, \"20\": {\"20\": 8}, \"21\": {\"21\": 10}, \"45\": {\"45\": 6, \"1\": 1, \"42\": 1}, \"24\": {\"24\": 6, \"52\": 2}, \"34\": {\"34\": 8}}, \"W_A_4\": {\"28\": {\"43\": 2, \"28\": 8, \"33\": 1, \"122\": 1}, \"4\": {\"4\": 9, \"71\": 1, \"55\": 1, \"56\": 1}, \"72\": {\"72\": 12}, \"111\": {\"111\": 10, \"91\": 2}, \"108\": {\"108\": 2, \"11\": 3, \"72\": 2, \"40\": 2, \"74\": 1, \"56\": 1, \"73\": 1}, \"43\": {\"43\": 6, \"89\": 2, \"82\": 1, \"107\": 1}, \"96\": {\"96\": 5, \"117\": 2, \"69\": 1, \"78\": 1, \"28\": 1, \"67\": 1, \"81\": 1}, \"89\": {\"89\": 8, \"82\": 2, \"50\": 2}, \"31\": {\"96\": 2, \"31\": 3, \"26\": 1, \"104\": 1, \"65\": 1, \"67\": 2, \"21\": 1, \"102\": 1}, \"45\": {\"96\": 2, \"92\": 1, \"45\": 4, \"117\": 1, \"31\": 1, \"69\": 1, \"76\": 1, \"107\": 1}, \"2\": {\"96\": 1, \"45\": 1, \"64\": 1, \"78\": 1, \"2\": 4, \"102\": 1, \"5\": 1, \"39\": 1, \"8\": 1}, \"114\": {\"114\": 11, \"1\": 1}, \"11\": {\"11\": 9, \"43\": 1, \"124\": 1, \"99\": 1}, \"12\": {\"12\": 7, \"58\": 2, \"98\": 1, \"9\": 1, \"111\": 1}, \"14\": {\"90\": 1, \"14\": 9, \"80\": 1, \"93\": 1}, \"90\": {\"90\": 11, \"66\": 1}, \"10\": {\"85\": 1, \"54\": 1, \"52\": 1, \"10\": 5, \"27\": 1, \"59\": 1, \"6\": 2}, \"63\": {\"82\": 1, \"63\": 5, \"84\": 2, \"92\": 2, \"44\": 1, \"2\": 1}, \"85\": {\"85\": 8, \"63\": 1, \"52\": 1, \"111\": 1, \"91\": 1}, \"64\": {\"11\": 2, \"64\": 5, \"35\": 1, \"14\": 1, \"17\": 1, \"129\": 2}, \"82\": {\"82\": 9, \"57\": 1, \"2\": 1, \"17\": 1}, \"58\": {\"58\": 12}, \"3\": {\"3\": 8, \"124\": 1, \"114\": 1, \"49\": 2}, \"54\": {\"54\": 10, \"97\": 2}, \"121\": {\"63\": 2, \"84\": 2, \"93\": 2, \"121\": 2, \"80\": 1, \"126\": 1, \"9\": 1, \"64\": 1}, \"42\": {\"91\": 2, \"42\": 5, \"8\": 2, \"95\": 1, \"7\": 1, \"0\": 1}, \"98\": {\"98\": 8, \"29\": 2, \"41\": 2}, \"123\": {\"63\": 1, \"64\": 1, \"67\": 2, \"93\": 2, \"113\": 1, \"123\": 1, \"69\": 3, \"120\": 1}, \"91\": {\"98\": 1, \"54\": 1, \"12\": 1, \"91\": 1, \"7\": 2, \"103\": 1, \"101\": 1, \"128\": 2, \"127\": 2}, \"66\": {\"66\": 9, \"107\": 1, \"44\": 1, \"90\": 1}, \"102\": {\"102\": 8, \"31\": 2, \"107\": 2}, \"122\": {\"122\": 5, \"118\": 1, \"64\": 1, \"104\": 2, \"13\": 1, \"57\": 1, \"96\": 1}, \"1\": {\"1\": 11, \"114\": 1}, \"15\": {\"15\": 6, \"125\": 1, \"9\": 2, \"6\": 2, \"25\": 1}, \"97\": {\"97\": 4, \"15\": 3, \"54\": 1, \"59\": 2, \"74\": 1, \"47\": 1}, \"75\": {\"75\": 12}, \"95\": {\"95\": 9, \"4\": 1, \"55\": 1, \"86\": 1}, \"57\": {\"122\": 3, \"48\": 3, \"57\": 6}, \"68\": {\"68\": 12}, \"125\": {\"125\": 12}, \"62\": {\"102\": 1, \"1\": 1, \"62\": 2, \"65\": 1, \"28\": 1, \"84\": 2, \"48\": 1, \"110\": 1}, \"27\": {\"27\": 6, \"106\": 1, \"78\": 1, \"111\": 1, \"91\": 1, \"113\": 1, \"101\": 1}, \"120\": {\"120\": 8, \"60\": 1, \"103\": 1, \"129\": 2}, \"26\": {\"35\": 1, \"83\": 1, \"113\": 1, \"45\": 1, \"26\": 3, \"118\": 1, \"61\": 2, \"102\": 1, \"126\": 1}, \"55\": {\"55\": 9, \"37\": 1, \"4\": 1, \"56\": 1}, \"71\": {\"83\": 1, \"37\": 3, \"71\": 5, \"118\": 1, \"7\": 2}, \"22\": {\"22\": 10, \"33\": 1, \"90\": 1}, \"99\": {\"99\": 9, \"128\": 2, \"63\": 1}, \"84\": {\"13\": 2, \"103\": 1, \"18\": 1, \"84\": 5, \"67\": 1, \"118\": 2}, \"37\": {\"37\": 10, \"55\": 1, \"128\": 1}, \"83\": {\"83\": 12}, \"46\": {\"46\": 12}, \"35\": {\"35\": 3, \"26\": 2, \"61\": 1, \"69\": 1, \"118\": 3, \"109\": 1, \"65\": 1}, \"13\": {\"84\": 3, \"13\": 5, \"64\": 2, \"118\": 2}, \"53\": {\"53\": 10, \"116\": 1, \"0\": 1}, \"127\": {\"8\": 2, \"127\": 5, \"52\": 1, \"101\": 2, \"51\": 2}, \"69\": {\"127\": 1, \"57\": 1, \"92\": 1, \"45\": 1, \"69\": 3, \"96\": 1, \"64\": 1, \"120\": 1, \"78\": 1, \"76\": 1}, \"48\": {\"57\": 2, \"3\": 1, \"44\": 1, \"93\": 2, \"107\": 1, \"67\": 1, \"110\": 2, \"10\": 1, \"48\": 1}, \"16\": {\"57\": 1, \"48\": 1, \"16\": 2, \"33\": 1, \"122\": 2, \"31\": 1, \"113\": 1, \"90\": 1, \"69\": 2}, \"0\": {\"0\": 4, \"42\": 1, \"119\": 1, \"86\": 1, \"49\": 3, \"120\": 1, \"7\": 1}, \"8\": {\"0\": 1, \"127\": 1, \"8\": 4, \"103\": 1, \"41\": 1, \"112\": 1, \"101\": 2, \"100\": 1}, \"9\": {\"9\": 7, \"98\": 2, \"106\": 3}, \"115\": {\"48\": 1, \"57\": 1, \"44\": 1, \"46\": 1, \"87\": 1, \"110\": 1, \"115\": 3, \"105\": 1, \"38\": 1, \"64\": 1}, \"70\": {\"95\": 1, \"70\": 5, \"104\": 1, \"34\": 1, \"112\": 1, \"42\": 1, \"7\": 1, \"119\": 1}, \"119\": {\"119\": 12}, \"59\": {\"6\": 1, \"59\": 8, \"97\": 2, \"34\": 1}, \"52\": {\"52\": 11, \"68\": 1}, \"60\": {\"46\": 3, \"120\": 1, \"124\": 1, \"28\": 1, \"60\": 3, \"90\": 1, \"79\": 2}, \"44\": {\"44\": 8, \"104\": 1, \"80\": 1, \"38\": 1, \"110\": 1}, \"51\": {\"51\": 1, \"15\": 1, \"30\": 3, \"47\": 1, \"24\": 1, \"9\": 1, \"68\": 2, \"53\": 1, \"6\": 1}, \"6\": {\"59\": 3, \"15\": 1, \"6\": 8}, \"73\": {\"74\": 1, \"73\": 10, \"40\": 1}, \"78\": {\"50\": 1, \"92\": 1, \"128\": 2, \"87\": 2, \"119\": 1, \"114\": 1, \"1\": 1, \"0\": 1, \"11\": 2}, \"92\": {\"92\": 1, \"9\": 1, \"33\": 2, \"123\": 1, \"67\": 1, \"18\": 2, \"35\": 1, \"118\": 1, \"69\": 2}, \"20\": {\"20\": 8, \"5\": 1, \"19\": 2, \"99\": 1}, \"17\": {\"17\": 12}, \"74\": {\"20\": 1, \"74\": 10, \"73\": 1}, \"19\": {\"70\": 1, \"73\": 1, \"90\": 2, \"110\": 1, \"71\": 1, \"50\": 2, \"28\": 1, \"33\": 1, \"112\": 1, \"66\": 1}, \"50\": {\"50\": 11, \"129\": 1}, \"34\": {\"50\": 1, \"74\": 1, \"34\": 4, \"6\": 2, \"25\": 1, \"89\": 1, \"59\": 2}, \"104\": {\"104\": 3, \"69\": 1, \"66\": 2, \"76\": 2}, \"33\": {\"33\": 4, \"66\": 3, \"28\": 2, \"107\": 1, \"96\": 1, \"57\": 1}, \"5\": {\"5\": 6, \"124\": 1, \"20\": 2, \"79\": 1, \"105\": 2}, \"7\": {\"7\": 8, \"49\": 1, \"128\": 1, \"100\": 1, \"120\": 1}, \"29\": {\"29\": 12}, \"25\": {\"75\": 3, \"25\": 9}, \"124\": {\"5\": 1, \"124\": 5, \"11\": 1, \"128\": 2, \"115\": 1, \"79\": 1, \"82\": 1}, \"117\": {\"35\": 1, \"69\": 1, \"113\": 1, \"26\": 2, \"118\": 1, \"28\": 2, \"4\": 1, \"64\": 1, \"65\": 1, \"102\": 1}, \"88\": {\"88\": 4, \"83\": 1, \"113\": 1, \"118\": 2, \"63\": 1, \"71\": 1, \"119\": 2}, \"61\": {\"35\": 1, \"69\": 1, \"61\": 7, \"26\": 1, \"117\": 1, \"64\": 1}, \"86\": {\"86\": 11, \"4\": 1}, \"116\": {\"28\": 1, \"89\": 1, \"116\": 1, \"80\": 2, \"62\": 1, \"32\": 1, \"40\": 1, \"122\": 1, \"64\": 1, \"120\": 2}, \"24\": {\"36\": 5, \"30\": 1, \"6\": 2, \"54\": 2, \"91\": 1, \"25\": 1}, \"128\": {\"128\": 8, \"78\": 1, \"46\": 2, \"86\": 1}, \"101\": {\"52\": 2, \"101\": 8, \"86\": 1, \"127\": 1}, \"65\": {\"99\": 1, \"65\": 1, \"62\": 2, \"31\": 2, \"73\": 1, \"102\": 1, \"109\": 1, \"35\": 1}, \"36\": {\"36\": 9, \"25\": 2, \"24\": 1}, \"21\": {\"61\": 1, \"99\": 1, \"21\": 2, \"78\": 1, \"81\": 2, \"8\": 1, \"63\": 2, \"117\": 1, \"102\": 1}, \"106\": {\"106\": 11, \"29\": 1}, \"118\": {\"64\": 1, \"96\": 1, \"118\": 6, \"13\": 1, \"57\": 1, \"102\": 2}, \"113\": {\"31\": 1, \"45\": 1, \"129\": 1, \"113\": 4, \"123\": 1, \"16\": 1, \"126\": 1, \"102\": 2}, \"40\": {\"40\": 9, \"120\": 1, \"93\": 1, \"38\": 1}, \"93\": {\"90\": 2, \"110\": 4, \"93\": 2}, \"94\": {\"94\": 6, \"59\": 1, \"25\": 1, \"6\": 4}, \"103\": {\"71\": 3, \"86\": 2, \"103\": 4, \"5\": 1, \"31\": 1, \"54\": 1}, \"110\": {\"110\": 5, \"122\": 1, \"93\": 1, \"115\": 1, \"64\": 1, \"90\": 1, \"48\": 2}, \"56\": {\"56\": 12}, \"39\": {\"2\": 1, \"39\": 4, \"7\": 1, \"18\": 1, \"21\": 1, \"96\": 2, \"102\": 2}, \"109\": {\"33\": 1, \"31\": 1, \"123\": 1, \"93\": 1, \"116\": 1, \"5\": 1, \"65\": 1, \"118\": 1, \"102\": 2, \"32\": 1, \"109\": 1}, \"67\": {\"104\": 1, \"67\": 7, \"84\": 3, \"88\": 1}, \"129\": {\"44\": 1, \"114\": 1, \"128\": 2, \"129\": 3, \"3\": 1, \"22\": 1, \"4\": 1, \"76\": 1, \"93\": 1}, \"30\": {\"30\": 9, \"77\": 2, \"15\": 1}, \"126\": {\"126\": 4, \"5\": 2, \"62\": 2, \"113\": 2, \"127\": 2}, \"87\": {\"81\": 1, \"50\": 3, \"115\": 1, \"87\": 4, \"79\": 1, \"99\": 1, \"40\": 1}, \"112\": {\"112\": 12}, \"100\": {\"70\": 1, \"56\": 1, \"100\": 8, \"46\": 1, \"95\": 1}, \"79\": {\"79\": 7, \"5\": 3}, \"81\": {\"81\": 2, \"51\": 1, \"121\": 1, \"78\": 1, \"39\": 1, \"67\": 2, \"12\": 1, \"64\": 1, \"120\": 2}, \"76\": {\"76\": 6, \"110\": 2, \"129\": 2}, \"47\": {\"47\": 9, \"100\": 1, \"59\": 2}, \"77\": {\"77\": 11, \"30\": 1}, \"23\": {\"18\": 1, \"86\": 1, \"41\": 3, \"48\": 1, \"9\": 1, \"95\": 1, \"120\": 1, \"0\": 1, \"102\": 1, \"49\": 1}, \"18\": {\"18\": 3, \"103\": 1, \"102\": 2, \"5\": 1, \"76\": 1, \"63\": 1, \"13\": 1, \"51\": 1, \"33\": 1}, \"49\": {\"46\": 1, \"72\": 1, \"41\": 2, \"128\": 1, \"112\": 1, \"49\": 3, \"87\": 1, \"51\": 2}, \"41\": {\"41\": 8, \"125\": 1, \"8\": 2, \"12\": 1}, \"32\": {\"93\": 1, \"67\": 1, \"32\": 2, \"116\": 1, \"107\": 1, \"28\": 2, \"35\": 1, \"66\": 1, \"14\": 2}, \"107\": {\"107\": 7, \"38\": 2, \"66\": 1}, \"80\": {\"80\": 7, \"38\": 1, \"5\": 1, \"20\": 2, \"44\": 1}, \"105\": {\"105\": 7, \"5\": 1, \"87\": 1, \"16\": 1}, \"38\": {\"80\": 2, \"38\": 7, \"44\": 1}}, \"W_A_1\": {\"108\": {\"70\": 2, \"108\": 5, \"0\": 1, \"44\": 1, \"56\": 1}, \"40\": {\"40\": 12}, \"68\": {\"68\": 12}, \"23\": {\"110\": 1, \"64\": 1, \"1\": 1, \"89\": 1, \"86\": 1, \"46\": 1, \"70\": 1, \"7\": 1, \"79\": 2, \"73\": 2}, \"26\": {\"70\": 1, \"22\": 1, \"10\": 2, \"26\": 3, \"120\": 1, \"2\": 1, \"100\": 2, \"113\": 1}, \"64\": {\"64\": 12}, \"22\": {\"22\": 10, \"42\": 2}, \"3\": {\"22\": 2, \"3\": 8, \"90\": 1, \"66\": 1}, \"4\": {\"40\": 2, \"4\": 9, \"26\": 1}, \"70\": {\"70\": 1, \"9\": 1, \"77\": 1, \"93\": 1, \"41\": 2, \"35\": 1, \"23\": 2, \"45\": 1, \"85\": 1, \"32\": 1}, \"57\": {\"57\": 12}, \"79\": {\"23\": 2, \"79\": 9, \"10\": 1}, \"9\": {\"9\": 5, \"110\": 1, \"17\": 2, \"128\": 1, \"47\": 1, \"103\": 2}, \"89\": {\"89\": 12}, \"110\": {\"110\": 8, \"29\": 3, \"89\": 1}, \"102\": {\"22\": 2, \"95\": 2, \"102\": 4, \"63\": 1, \"39\": 2, \"18\": 1}, \"31\": {\"31\": 11, \"101\": 1}, \"58\": {\"58\": 12}, \"47\": {\"47\": 10, \"72\": 2}, \"24\": {\"24\": 9, \"27\": 1, \"97\": 1, \"52\": 1}, \"19\": {\"83\": 1, \"19\": 4, \"22\": 1, \"25\": 1, \"87\": 1, \"42\": 1, \"28\": 1, \"8\": 2}, \"11\": {\"11\": 12}, \"52\": {\"52\": 11, \"30\": 1}, \"17\": {\"17\": 10, \"107\": 2}, \"25\": {\"25\": 12}, \"69\": {\"31\": 1, \"11\": 1, \"60\": 1, \"118\": 1, \"69\": 4, \"63\": 3, \"70\": 1}, \"96\": {\"96\": 7, \"84\": 2, \"64\": 2, \"43\": 1}, \"109\": {\"109\": 6, \"50\": 1, \"40\": 2, \"33\": 1, \"1\": 2}, \"115\": {\"115\": 12}, \"83\": {\"19\": 2, \"1\": 3, \"42\": 1, \"83\": 2, \"91\": 1, \"7\": 1, \"124\": 2}, \"84\": {\"84\": 11, \"1\": 1}, \"119\": {\"119\": 9, \"7\": 1}, \"122\": {\"122\": 7, \"74\": 1, \"100\": 1, \"82\": 1}, \"99\": {\"99\": 8, \"64\": 1, \"8\": 1, \"90\": 2}, \"1\": {\"1\": 12}, \"74\": {\"74\": 9, \"23\": 1, \"76\": 1, \"44\": 1}, \"85\": {\"85\": 11, \"32\": 1}, \"127\": {\"127\": 10, \"58\": 1, \"111\": 1}, \"111\": {\"111\": 12}, \"53\": {\"53\": 12}, \"88\": {\"88\": 6, \"36\": 4, \"98\": 2}, \"65\": {\"119\": 2, \"107\": 1, \"65\": 1, \"90\": 1, \"60\": 1, \"102\": 2, \"116\": 1, \"99\": 1}, \"7\": {\"7\": 10, \"23\": 1, \"104\": 1}, \"16\": {\"119\": 1, \"65\": 1, \"10\": 2, \"123\": 2, \"16\": 1, \"95\": 1, \"39\": 2, \"18\": 2}, \"128\": {\"0\": 1, \"129\": 1, \"124\": 1, \"5\": 1, \"128\": 2, \"84\": 1, \"1\": 1, \"8\": 2, \"43\": 2}, \"34\": {\"53\": 1, \"28\": 1, \"98\": 1, \"75\": 1, \"122\": 1, \"3\": 2, \"61\": 1, \"71\": 1, \"111\": 1, \"92\": 1, \"25\": 1}, \"129\": {\"28\": 1, \"114\": 2, \"33\": 2, \"64\": 1, \"81\": 2, \"19\": 2, \"129\": 1, \"63\": 1}, \"43\": {\"43\": 7, \"28\": 2, \"83\": 2, \"96\": 1}, \"92\": {\"92\": 12}, \"28\": {\"28\": 12}, \"27\": {\"27\": 8, \"52\": 2, \"15\": 2}, \"114\": {\"114\": 11, \"96\": 1}, \"73\": {\"128\": 2, \"73\": 10}, \"0\": {\"0\": 10, \"128\": 1, \"103\": 1}, \"104\": {\"104\": 12}, \"118\": {\"43\": 1, \"118\": 2, \"60\": 2, \"39\": 2, \"63\": 3, \"67\": 1, \"16\": 1}, \"41\": {\"41\": 10, \"35\": 1, \"72\": 1}, \"49\": {\"49\": 10, \"56\": 1, \"85\": 1}, \"14\": {\"33\": 1, \"14\": 8, \"116\": 2, \"119\": 1}, \"46\": {\"104\": 1, \"22\": 2, \"40\": 1, \"97\": 1, \"8\": 1, \"51\": 1, \"46\": 1, \"125\": 1, \"105\": 1, \"99\": 2}, \"33\": {\"33\": 12}, \"76\": {\"76\": 12}, \"125\": {\"125\": 11, \"51\": 1}, \"86\": {\"86\": 9, \"31\": 1}, \"66\": {\"66\": 8, \"61\": 2, \"90\": 1, \"51\": 1}, \"5\": {\"5\": 12}, \"117\": {\"18\": 1, \"117\": 7, \"95\": 1, \"110\": 1, \"45\": 1, \"123\": 1}, \"75\": {\"75\": 8, \"91\": 3, \"68\": 1}, \"61\": {\"61\": 12}, \"50\": {\"50\": 8, \"81\": 3, \"116\": 1}, \"67\": {\"18\": 2, \"69\": 2, \"118\": 1, \"67\": 1, \"11\": 2, \"13\": 1, \"81\": 1}, \"18\": {\"18\": 7, \"67\": 1, \"102\": 1, \"39\": 1, \"100\": 1, \"21\": 1}, \"98\": {\"98\": 12}, \"55\": {\"55\": 10}, \"32\": {\"85\": 3, \"58\": 1, \"72\": 1, \"56\": 1, \"5\": 2, \"47\": 2, \"17\": 2}, \"120\": {\"50\": 2, \"120\": 5, \"2\": 3, \"38\": 2}, \"97\": {\"97\": 8, \"112\": 1, \"6\": 2, \"12\": 1}, \"126\": {\"104\": 2, \"126\": 6, \"29\": 1, \"47\": 1, \"5\": 1, \"73\": 1}, \"45\": {\"40\": 1, \"120\": 2, \"115\": 1, \"20\": 1, \"38\": 1, \"63\": 1, \"39\": 1, \"11\": 1, \"93\": 1, \"79\": 2}, \"78\": {\"3\": 2, \"43\": 3, \"7\": 1, \"113\": 1, \"22\": 1, \"79\": 1, \"78\": 1}, \"100\": {\"122\": 1, \"100\": 11}, \"107\": {\"107\": 9, \"17\": 1, \"89\": 1, \"10\": 1}, \"93\": {\"107\": 3, \"29\": 1, \"93\": 4, \"79\": 1, \"9\": 1, \"72\": 2}, \"77\": {\"77\": 11, \"56\": 1}, \"63\": {\"63\": 11, \"65\": 1}, \"112\": {\"112\": 12}, \"113\": {\"63\": 3, \"113\": 7, \"13\": 1, \"26\": 1}, \"103\": {\"85\": 2, \"103\": 5, \"106\": 1, \"31\": 2}, \"71\": {\"37\": 1, \"71\": 8, \"112\": 2, \"30\": 1}, \"30\": {\"71\": 3, \"15\": 1, \"30\": 3, \"59\": 1, \"52\": 1, \"24\": 1, \"27\": 1, \"94\": 1}, \"90\": {\"90\": 11, \"99\": 1}, \"37\": {\"15\": 1, \"37\": 6, \"71\": 1, \"111\": 2, \"53\": 1, \"30\": 1}, \"60\": {\"60\": 3, \"90\": 2, \"119\": 1, \"49\": 1, \"11\": 1, \"84\": 1, \"50\": 1, \"1\": 2}, \"15\": {\"15\": 3, \"37\": 1, \"53\": 1, \"6\": 1, \"112\": 1, \"36\": 2, \"52\": 1, \"56\": 1, \"51\": 1}, \"39\": {\"119\": 1, \"63\": 4, \"81\": 2, \"39\": 3, \"118\": 2}, \"72\": {\"72\": 11, \"70\": 1}, \"54\": {\"35\": 2, \"54\": 9, \"7\": 1}, \"35\": {\"35\": 10, \"41\": 1, \"107\": 1}, \"2\": {\"60\": 1, \"63\": 1, \"121\": 2, \"123\": 1, \"2\": 7}, \"94\": {\"15\": 2, \"94\": 6, \"88\": 1, \"56\": 2, \"13\": 1}, \"42\": {\"25\": 3, \"87\": 2, \"19\": 2, \"42\": 2, \"100\": 1, \"122\": 1, \"84\": 1}, \"81\": {\"81\": 6, \"39\": 1, \"38\": 2, \"50\": 1, \"67\": 2}, \"8\": {\"87\": 1, \"8\": 6, \"10\": 1, \"46\": 1, \"64\": 1, \"42\": 1, \"84\": 1}, \"87\": {\"114\": 2, \"1\": 2, \"8\": 2, \"40\": 2, \"42\": 2, \"129\": 1, \"115\": 1}, \"6\": {\"15\": 1, \"53\": 3, \"6\": 6, \"112\": 1, \"27\": 1}, \"36\": {\"6\": 2, \"36\": 9, \"94\": 1}, \"91\": {\"91\": 1, \"32\": 1, \"75\": 2, \"106\": 2, \"85\": 2, \"56\": 2, \"101\": 1, \"12\": 1}, \"56\": {\"56\": 12}, \"80\": {\"80\": 6, \"25\": 1, \"128\": 2, \"112\": 1, \"11\": 2}, \"124\": {\"124\": 6, \"99\": 2, \"42\": 2}, \"44\": {\"44\": 12}, \"13\": {\"37\": 2, \"13\": 7, \"38\": 1, \"95\": 1, \"121\": 1}, \"10\": {\"103\": 2, \"47\": 2, \"10\": 2, \"8\": 1, \"69\": 1, \"23\": 1, \"42\": 1, \"38\": 1, \"17\": 1}, \"59\": {\"59\": 8, \"52\": 1, \"123\": 2, \"51\": 1}, \"95\": {\"16\": 2, \"10\": 3, \"117\": 2, \"95\": 3, \"38\": 1, \"13\": 1}, \"105\": {\"105\": 7, \"15\": 1, \"40\": 2, \"19\": 2}, \"101\": {\"101\": 10, \"0\": 1, \"128\": 1}, \"20\": {\"20\": 11, \"3\": 1}, \"48\": {\"35\": 2, \"48\": 9, \"123\": 1}, \"106\": {\"106\": 9, \"91\": 3}, \"51\": {\"51\": 8, \"125\": 2, \"88\": 2}, \"21\": {\"96\": 1, \"35\": 1, \"87\": 1, \"10\": 1, \"51\": 1, \"21\": 3, \"112\": 1, \"7\": 1, \"54\": 1, \"106\": 1}, \"123\": {\"123\": 2, \"21\": 1, \"120\": 1, \"62\": 1, \"69\": 2, \"122\": 1, \"63\": 2, \"100\": 1, \"114\": 1}, \"121\": {\"38\": 2, \"102\": 3, \"106\": 1, \"121\": 4, \"18\": 2}, \"38\": {\"38\": 10, \"33\": 1, \"82\": 1}, \"62\": {\"10\": 1, \"26\": 2, \"62\": 4, \"2\": 2, \"67\": 2, \"46\": 1}, \"29\": {\"29\": 10, \"10\": 1, \"89\": 1}, \"82\": {\"82\": 11, \"122\": 1}, \"116\": {\"116\": 5, \"33\": 1, \"121\": 2, \"120\": 1, \"20\": 1, \"11\": 1, \"78\": 1}, \"12\": {\"98\": 2, \"12\": 4, \"37\": 2}}, \"W_A_2\": {\"91\": {\"101\": 2, \"91\": 2, \"0\": 2, \"112\": 1, \"114\": 1, \"7\": 1, \"79\": 1, \"53\": 2}, \"12\": {\"12\": 4, \"29\": 3, \"0\": 1, \"67\": 1, \"41\": 1, \"54\": 1, \"49\": 1}, \"101\": {\"97\": 1, \"101\": 8, \"91\": 1}, \"121\": {\"118\": 2, \"120\": 2, \"23\": 1, \"121\": 4, \"65\": 1, \"84\": 1, \"72\": 1}, \"118\": {\"33\": 1, \"118\": 4, \"87\": 2, \"48\": 1, \"32\": 1, \"100\": 1, \"76\": 2}, \"10\": {\"126\": 2, \"112\": 1, \"105\": 1, \"10\": 3, \"85\": 2, \"124\": 1, \"3\": 2}, \"117\": {\"17\": 1, \"121\": 2, \"117\": 7, \"57\": 1, \"86\": 1}, \"110\": {\"110\": 6, \"106\": 1, \"129\": 3, \"73\": 2}, \"97\": {\"97\": 8, \"33\": 1, \"98\": 1, \"30\": 1, \"116\": 1}, \"28\": {\"17\": 1, \"110\": 1, \"46\": 1, \"28\": 3, \"43\": 1, \"106\": 1, \"97\": 1, \"73\": 1, \"60\": 1, \"25\": 1}, \"88\": {\"118\": 2, \"13\": 2, \"109\": 1, \"88\": 2, \"55\": 1, \"20\": 1, \"22\": 1, \"76\": 1, \"46\": 1}, \"17\": {\"10\": 2, \"112\": 2, \"85\": 1, \"129\": 1, \"17\": 3, \"4\": 1, \"8\": 2}, \"126\": {\"126\": 9, \"46\": 1, \"43\": 1, \"38\": 1}, \"33\": {\"33\": 10, \"116\": 2}, \"86\": {\"10\": 1, \"86\": 8, \"74\": 1, \"1\": 2}, \"106\": {\"106\": 10, \"97\": 1, \"75\": 1}, \"54\": {\"54\": 9, \"77\": 2, \"103\": 1}, \"125\": {\"125\": 11, \"9\": 1}, \"83\": {\"83\": 12}, \"98\": {\"98\": 8, \"101\": 2, \"25\": 2}, \"11\": {\"42\": 1, \"11\": 5, \"25\": 1, \"8\": 1, \"0\": 2, \"49\": 1, \"117\": 1}, \"32\": {\"4\": 2, \"32\": 2, \"78\": 2, \"5\": 1, \"66\": 1, \"46\": 1, \"123\": 1, \"100\": 2}, \"42\": {\"4\": 1, \"42\": 5, \"44\": 2, \"112\": 2, \"53\": 2}, \"103\": {\"103\": 12}, \"87\": {\"87\": 8, \"32\": 2, \"88\": 1, \"33\": 1}, \"61\": {\"13\": 1, \"32\": 1, \"61\": 7, \"65\": 1, \"105\": 2}, \"13\": {\"13\": 6, \"82\": 1, \"18\": 1, \"71\": 1, \"22\": 1, \"69\": 2}, \"4\": {\"4\": 12}, \"15\": {\"125\": 1, \"106\": 2, \"15\": 7}, \"120\": {\"120\": 7, \"99\": 1, \"45\": 1, \"57\": 1, \"63\": 2}, \"80\": {\"80\": 5, \"64\": 1, \"33\": 1, \"4\": 1, \"69\": 1, \"22\": 1, \"62\": 2}, \"72\": {\"102\": 1, \"120\": 1, \"72\": 3, \"96\": 1, \"69\": 2, \"113\": 1, \"121\": 1}, \"64\": {\"64\": 10, \"80\": 1, \"93\": 1}, \"81\": {\"120\": 2, \"69\": 1, \"81\": 2, \"48\": 2, \"93\": 1, \"65\": 1, \"17\": 1, \"82\": 1, \"35\": 1}, \"102\": {\"120\": 2, \"63\": 1, \"40\": 1, \"102\": 6, \"99\": 2}, \"76\": {\"102\": 1, \"76\": 2, \"14\": 1, \"88\": 1, \"93\": 2, \"28\": 1, \"109\": 1, \"64\": 1, \"84\": 1, \"46\": 1}, \"49\": {\"49\": 5, \"52\": 2, \"41\": 1, \"12\": 1, \"67\": 1}, \"129\": {\"129\": 7, \"107\": 2, \"1\": 1, \"124\": 2}, \"89\": {\"120\": 1, \"102\": 1, \"71\": 1, \"13\": 1, \"72\": 1, \"31\": 1, \"65\": 1, \"89\": 1, \"82\": 2, \"88\": 1, \"68\": 1}, \"52\": {\"52\": 11, \"111\": 1}, \"35\": {\"35\": 6, \"52\": 2, \"79\": 2, \"111\": 2}, \"53\": {\"53\": 7, \"79\": 1, \"114\": 2, \"128\": 1, \"58\": 1}, \"112\": {\"112\": 11, \"34\": 1}, \"105\": {\"105\": 11, \"40\": 1}, \"100\": {\"100\": 11, \"87\": 1}, \"9\": {\"9\": 11, \"51\": 1}, \"82\": {\"100\": 1, \"64\": 1, \"82\": 4, \"39\": 1, \"96\": 1, \"86\": 1, \"14\": 1, \"89\": 1, \"47\": 1}, \"51\": {\"51\": 6, \"125\": 2, \"127\": 1, \"108\": 1, \"41\": 2}, \"21\": {\"17\": 2, \"102\": 2, \"65\": 1, \"26\": 1, \"21\": 1, \"67\": 1, \"118\": 2, \"113\": 1, \"31\": 1}, \"92\": {\"21\": 1, \"82\": 1, \"118\": 2, \"99\": 1, \"5\": 1, \"102\": 2, \"84\": 1, \"45\": 1, \"72\": 1, \"69\": 1}, \"69\": {\"82\": 2, \"69\": 4, \"81\": 1, \"63\": 1, \"16\": 1, \"65\": 2, \"72\": 1}, \"77\": {\"77\": 10, \"54\": 1, \"127\": 1}, \"50\": {\"50\": 5, \"87\": 1, \"22\": 1, \"62\": 3, \"116\": 2}, \"36\": {\"36\": 7, \"15\": 1, \"24\": 1, \"9\": 3}, \"16\": {\"16\": 8, \"41\": 1, \"26\": 1, \"102\": 2}, \"8\": {\"16\": 1, \"8\": 8, \"5\": 1, \"3\": 1, \"50\": 1}, \"127\": {\"127\": 11, \"77\": 1}, \"46\": {\"46\": 10}, \"84\": {\"87\": 2, \"84\": 6, \"100\": 1, \"83\": 1, \"64\": 2}, \"18\": {\"18\": 2, \"13\": 1, \"65\": 2, \"26\": 1, \"112\": 1, \"16\": 2, \"57\": 1, \"25\": 1, \"83\": 1}, \"123\": {\"123\": 10}, \"56\": {\"71\": 2, \"4\": 2, \"129\": 1, \"85\": 1, \"56\": 1, \"123\": 1, \"122\": 2, \"107\": 1, \"15\": 1}, \"26\": {\"26\": 4, \"65\": 1, \"99\": 1, \"5\": 1, \"81\": 2, \"9\": 1, \"79\": 1, \"29\": 1}, \"14\": {\"26\": 1, \"14\": 3, \"57\": 2, \"62\": 1, \"50\": 2, \"93\": 1, \"43\": 1, \"2\": 1}, \"109\": {\"88\": 2, \"99\": 2, \"67\": 3, \"102\": 1, \"109\": 1, \"93\": 1, \"96\": 1, \"76\": 1}, \"66\": {\"66\": 7, \"47\": 3, \"90\": 1, \"37\": 1}, \"24\": {\"24\": 6, \"75\": 1, \"16\": 1, \"51\": 1, \"34\": 1, \"11\": 2}, \"71\": {\"65\": 1, \"71\": 5, \"112\": 2, \"53\": 2, \"5\": 2}, \"65\": {\"26\": 4, \"45\": 1, \"75\": 1, \"65\": 4, \"14\": 1, \"51\": 1}, \"75\": {\"75\": 6, \"25\": 1, \"15\": 2, \"6\": 1, \"36\": 1, \"67\": 1}, \"111\": {\"111\": 11, \"52\": 1}, \"30\": {\"30\": 7, \"127\": 2, \"97\": 1, \"42\": 1, \"128\": 1}, \"85\": {\"85\": 12}, \"113\": {\"113\": 7, \"39\": 1, \"118\": 1, \"72\": 1}, \"45\": {\"118\": 2, \"45\": 3, \"99\": 1, \"93\": 2, \"96\": 2, \"84\": 1, \"76\": 1}, \"29\": {\"29\": 9, \"59\": 2, \"21\": 1}, \"20\": {\"118\": 2, \"20\": 8, \"57\": 1, \"80\": 1}, \"25\": {\"75\": 3, \"25\": 7, \"106\": 2}, \"0\": {\"0\": 8, \"111\": 2, \"91\": 1, \"54\": 1}, \"68\": {\"68\": 12}, \"119\": {\"119\": 10, \"90\": 2}, \"90\": {\"90\": 9, \"119\": 1, \"37\": 2}, \"38\": {\"38\": 12}, \"99\": {\"99\": 11, \"93\": 1}, \"1\": {\"1\": 9, \"60\": 1, \"47\": 1, \"40\": 1}, \"67\": {\"99\": 1, \"81\": 2, \"67\": 3, \"125\": 1, \"16\": 1, \"20\": 1, \"93\": 1, \"102\": 1, \"75\": 1}, \"63\": {\"67\": 3, \"63\": 4, \"99\": 1, \"26\": 1, \"84\": 2, \"103\": 1}, \"34\": {\"108\": 2, \"66\": 1, \"19\": 1, \"79\": 2, \"73\": 1, \"34\": 1, \"91\": 1, \"38\": 1, \"52\": 1, \"1\": 1}, \"108\": {\"108\": 10, \"41\": 1, \"56\": 1}, \"40\": {\"40\": 6, \"46\": 1, \"73\": 2, \"47\": 1, \"1\": 2}, \"47\": {\"43\": 2, \"127\": 1, \"66\": 2, \"47\": 4, \"74\": 1, \"61\": 1, \"1\": 1}, \"37\": {\"90\": 3, \"37\": 7, \"119\": 1, \"60\": 1}, \"78\": {\"20\": 1, \"102\": 2, \"3\": 1, \"78\": 3, \"119\": 1, \"48\": 1, \"122\": 1, \"16\": 1, \"74\": 1}, \"96\": {\"102\": 1, \"117\": 1, \"35\": 1, \"39\": 1, \"57\": 1, \"96\": 4, \"82\": 1, \"63\": 1, \"44\": 1}, \"43\": {\"37\": 1, \"102\": 1, \"43\": 7, \"126\": 1, \"119\": 1, \"73\": 1}, \"5\": {\"5\": 9, \"56\": 1}, \"124\": {\"124\": 8, \"95\": 2, \"115\": 1, \"19\": 1}, \"44\": {\"44\": 12}, \"41\": {\"25\": 2, \"41\": 9, \"65\": 1}, \"116\": {\"64\": 1, \"99\": 1, \"62\": 1, \"37\": 1, \"116\": 4, \"76\": 1, \"63\": 1, \"73\": 1, \"55\": 1}, \"19\": {\"44\": 1, \"43\": 1, \"19\": 3, \"122\": 1, \"123\": 2, \"1\": 1, \"124\": 1, \"38\": 2}, \"115\": {\"112\": 2, \"3\": 2, \"115\": 4, \"124\": 2, \"53\": 2}, \"95\": {\"95\": 8, \"48\": 1, \"115\": 1, \"85\": 2}, \"3\": {\"112\": 2, \"3\": 7, \"8\": 1}, \"59\": {\"127\": 2, \"59\": 7, \"29\": 1, \"91\": 2}, \"55\": {\"55\": 6, \"46\": 1, \"116\": 3, \"119\": 1, \"89\": 1}, \"70\": {\"105\": 1, \"48\": 1, \"60\": 5, \"93\": 1, \"109\": 1, \"123\": 1, \"33\": 2}, \"6\": {\"6\": 9, \"25\": 1, \"51\": 1, \"94\": 1}, \"2\": {\"48\": 2, \"16\": 2, \"45\": 2, \"18\": 1, \"69\": 1, \"43\": 2, \"2\": 2}, \"48\": {\"48\": 9, \"93\": 2, \"118\": 1}, \"23\": {\"84\": 1, \"7\": 1, \"79\": 1, \"39\": 1, \"23\": 2, \"68\": 1, \"14\": 1, \"112\": 2, \"13\": 2}, \"7\": {\"7\": 8, \"114\": 3, \"68\": 1}, \"122\": {\"122\": 6, \"73\": 1, \"115\": 1, \"7\": 1, \"46\": 1, \"5\": 1, \"123\": 1}, \"57\": {\"84\": 1, \"42\": 2, \"57\": 7, \"59\": 1, \"99\": 1}, \"39\": {\"96\": 2, \"31\": 1, \"39\": 4, \"70\": 2, \"88\": 1}, \"79\": {\"79\": 8, \"56\": 2, \"34\": 2}, \"27\": {\"27\": 8, \"58\": 1, \"15\": 1}, \"74\": {\"74\": 8, \"79\": 1, \"60\": 1, \"26\": 1, \"41\": 1}, \"73\": {\"73\": 11, \"40\": 1}, \"62\": {\"62\": 10, \"50\": 1, \"48\": 1}, \"107\": {\"129\": 1, \"107\": 11}, \"128\": {\"5\": 2, \"58\": 1, \"128\": 4, \"59\": 1, \"123\": 1, \"115\": 3}, \"60\": {\"60\": 8, \"40\": 1, \"83\": 2, \"1\": 1}, \"114\": {\"114\": 10, \"7\": 2}, \"22\": {\"84\": 1, \"119\": 1, \"22\": 8, \"83\": 2}, \"93\": {\"93\": 11, \"14\": 1}, \"94\": {\"94\": 7, \"58\": 1, \"9\": 1, \"51\": 1, \"6\": 1, \"88\": 1}, \"31\": {\"61\": 1, \"31\": 4, \"102\": 2, \"45\": 1, \"121\": 1, \"76\": 1}, \"104\": {\"104\": 11, \"43\": 1}, \"58\": {\"58\": 12}}, \"C_A_2\": {\"14\": {\"14\": 5, \"56\": 1, \"24\": 2, \"19\": 1, \"1\": 1, \"42\": 1, \"22\": 1}, \"22\": {\"22\": 12}, \"9\": {\"9\": 9, \"27\": 2, \"35\": 1}, \"47\": {\"47\": 12}, \"13\": {\"13\": 12}, \"8\": {\"8\": 10, \"12\": 2}, \"7\": {\"7\": 12}, \"49\": {\"49\": 12}, \"20\": {\"20\": 10, \"51\": 1, \"53\": 1}, \"16\": {\"16\": 12}, \"34\": {\"34\": 11, \"2\": 1}, \"56\": {\"56\": 11, \"22\": 1}, \"38\": {\"38\": 10}, \"4\": {\"9\": 1, \"4\": 5, \"19\": 1, \"45\": 2, \"40\": 1, \"54\": 1, \"48\": 1}, \"43\": {\"43\": 10}, \"26\": {\"26\": 10}, \"35\": {\"27\": 2, \"45\": 1, \"40\": 1, \"32\": 1, \"22\": 1, \"9\": 2, \"44\": 1, \"35\": 3}, \"31\": {\"31\": 12}, \"1\": {\"1\": 12}, \"39\": {\"39\": 12}, \"5\": {\"5\": 12}, \"24\": {\"24\": 12}, \"54\": {\"54\": 10}, \"23\": {\"23\": 12}, \"51\": {\"20\": 1, \"51\": 11}, \"27\": {\"27\": 10}, \"15\": {\"15\": 12}, \"0\": {\"0\": 12}, \"19\": {\"19\": 10}, \"18\": {\"18\": 8}, \"30\": {\"18\": 1, \"30\": 11}, \"55\": {\"55\": 8, \"1\": 2}, \"57\": {\"57\": 12}, \"2\": {\"2\": 12}, \"12\": {\"12\": 8}, \"41\": {\"41\": 12}, \"42\": {\"42\": 12}, \"48\": {\"48\": 12}, \"37\": {\"37\": 12}, \"6\": {\"6\": 10}, \"11\": {\"11\": 10}, \"45\": {\"9\": 1, \"27\": 1, \"45\": 2, \"32\": 2, \"54\": 2}, \"21\": {\"21\": 11, \"3\": 1}, \"46\": {\"46\": 8, \"52\": 2}, \"25\": {\"53\": 1, \"25\": 9, \"8\": 1, \"50\": 1}, \"36\": {\"36\": 7, \"44\": 1, \"26\": 1, \"27\": 1}, \"53\": {\"53\": 11, \"20\": 1}, \"28\": {\"28\": 12}, \"40\": {\"19\": 2, \"45\": 1, \"40\": 2, \"48\": 2, \"5\": 1, \"16\": 1, \"35\": 1}, \"33\": {\"19\": 2, \"33\": 4, \"48\": 2, \"32\": 2}, \"44\": {\"19\": 2, \"44\": 3, \"32\": 1, \"33\": 2, \"9\": 1, \"24\": 1}, \"3\": {\"51\": 2, \"3\": 9, \"20\": 1}, \"17\": {\"17\": 12}, \"32\": {\"32\": 10}, \"10\": {\"10\": 10}, \"52\": {\"52\": 10}, \"50\": {\"6\": 1, \"50\": 6, \"25\": 1}, \"29\": {\"29\": 6}}}, \"per_domain_accuracy\": {\"ORACLE.run1_14\": {\"accuracy\": 0.7265625, \"source?\": true}, \"ORACLE.run1_20\": {\"accuracy\": 0.5403645833333334, \"source?\": true}, \"ORACLE.run1_38\": {\"accuracy\": 0.6302083333333334, \"source?\": true}, \"ORACLE.run1_8\": {\"accuracy\": 0.6502604166666667, \"source?\": true}, \"ORACLE.run1_50\": {\"accuracy\": 0.6825520833333333, \"source?\": true}, \"ORACLE.run1_32\": {\"accuracy\": 0.6731770833333334, \"source?\": true}, \"ORACLE.run1_26\": {\"accuracy\": 0.4635416666666667, \"source?\": true}, \"ORACLE.run1_44\": {\"accuracy\": 0.6255208333333333, \"source?\": true}, \"C_A_3\": {\"accuracy\": 0.9109375, \"source?\": false}, \"C_A_4\": {\"accuracy\": 0.8875, \"source?\": false}, \"C_A_5\": {\"accuracy\": 0.9125, \"source?\": false}, \"W_A_3\": {\"accuracy\": 0.568359375, \"source?\": false}, \"C_A_1\": {\"accuracy\": 0.8953125, \"source?\": false}, \"W_A_4\": {\"accuracy\": 0.5397135416666666, \"source?\": false}, \"W_A_1\": {\"accuracy\": 0.6321614583333334, \"source?\": false}, \"W_A_2\": {\"accuracy\": 0.572265625, \"source?\": false}, \"C_A_2\": {\"accuracy\": 0.878125, \"source?\": false}}}, \"history\": {\"epoch_indices\": [1, 2, 3, 4, 5, 6], \"train_label_loss\": [1.3866219745194983, 1.0101842593046881, 0.9149438480669189, 0.8675933789727943, 0.8331232194300918, 0.7825145972183063], \"source_val_label_loss\": [3.1361029148101807, 1.013808012008667, 0.9278296828269958, 0.8832197189331055, 0.8542662262916565, 0.7636592984199524], \"target_val_label_loss\": [1071.3099365234375, 122.54094696044922, 134.85855102539062, 138.3217315673828, 305.71673583984375, 975.802734375], \"source_val_acc_label\": [0.59033203125, 0.6240234375, 0.6588216145833333, 0.6741861979166667, 0.6833658854166667, 0.7139322916666667], \"target_val_acc_label\": [0.4452054794520548, 0.6872859589041096, 0.6818279109589042, 0.6787243150684932, 0.6214683219178082, 0.5724529109589042]}, \"dataset_metrics\": {\"source\": {\"train\": {\"n_unique_x\": 179200, \"n_unique_y\": 16, \"n_batch/episode\": 6720}, \"val\": {\"n_unique_x\": 38400, \"n_unique_y\": 16, \"n_batch/episode\": 960}, \"test\": {\"n_unique_x\": 38400, \"n_unique_y\": 16, \"n_batch/episode\": 960}}, \"target\": {\"train\": {\"n_unique_x\": 56700, \"n_unique_y\": 130, \"n_batch/episode\": 2080}, \"val\": {\"n_unique_x\": 12132, \"n_unique_y\": 130, \"n_batch/episode\": 292}, \"test\": {\"n_unique_x\": 12132, \"n_unique_y\": 130, \"n_batch/episode\": 292}}}}'"
      ]
     },
     "execution_count": 29,
     "metadata": {},
     "output_type": "execute_result"
    }
   ],
   "source": [
    "json.dumps(experiment)"
   ]
  }
 ],
 "metadata": {
  "celltoolbar": "Tags",
  "kernelspec": {
   "display_name": "Python 3 (ipykernel)",
   "language": "python",
   "name": "python3"
  },
  "language_info": {
   "codemirror_mode": {
    "name": "ipython",
    "version": 3
   },
   "file_extension": ".py",
   "mimetype": "text/x-python",
   "name": "python",
   "nbconvert_exporter": "python",
   "pygments_lexer": "ipython3",
   "version": "3.8.10"
  },
  "papermill": {
   "default_parameters": {},
   "duration": 1197.717075,
   "end_time": "2022-03-18T06:45:40.664436",
   "environment_variables": {},
   "exception": null,
   "input_path": "/mnt/wd500GB/CSC500/csc500-main/csc500-notebooks/templates/tl_ptn_template.ipynb",
   "output_path": "trial.ipynb",
   "parameters": {
    "parameters": {
     "BEST_MODEL_PATH": "./best_model.pth",
     "NUM_LOGS_PER_EPOCH": 10,
     "criteria_for_best": "target_loss",
     "dataset_seed": 1337,
     "datasets": [
      {
       "domain_prefix": "C_A_",
       "domains": [
        1,
        2,
        3,
        4,
        5
       ],
       "episode_transforms": [],
       "labels": [
        "1-10.",
        "1-11.",
        "1-15.",
        "1-16.",
        "1-17.",
        "1-18.",
        "1-19.",
        "10-4.",
        "10-7.",
        "11-1.",
        "11-14.",
        "11-17.",
        "11-20.",
        "11-7.",
        "13-20.",
        "13-8.",
        "14-10.",
        "14-11.",
        "14-14.",
        "14-7.",
        "15-1.",
        "15-20.",
        "16-1.",
        "16-16.",
        "17-10.",
        "17-11.",
        "17-2.",
        "19-1.",
        "19-16.",
        "19-19.",
        "19-20.",
        "19-3.",
        "2-10.",
        "2-11.",
        "2-17.",
        "2-18.",
        "2-20.",
        "2-3.",
        "2-4.",
        "2-5.",
        "2-6.",
        "2-7.",
        "2-8.",
        "3-13.",
        "3-18.",
        "3-3.",
        "4-1.",
        "4-10.",
        "4-11.",
        "4-19.",
        "5-5.",
        "6-15.",
        "7-10.",
        "7-14.",
        "8-18.",
        "8-20.",
        "8-3.",
        "8-8."
       ],
       "num_examples_per_domain_per_label": 100,
       "pickle_path": "/mnt/wd500GB/CSC500/csc500-main/datasets/cores.stratified_ds.2022A.pkl",
       "source_or_target_dataset": "target",
       "x_transforms": [
        "unit_power",
        "jitter_256_10",
        "take_200"
       ]
      },
      {
       "domain_prefix": "W_A_",
       "domains": [
        1,
        2,
        3,
        4
       ],
       "episode_transforms": [],
       "labels": [
        "1-10",
        "1-12",
        "1-14",
        "1-16",
        "1-18",
        "1-19",
        "1-8",
        "10-11",
        "10-17",
        "10-4",
        "10-7",
        "11-1",
        "11-10",
        "11-19",
        "11-20",
        "11-4",
        "11-7",
        "12-19",
        "12-20",
        "12-7",
        "13-14",
        "13-18",
        "13-19",
        "13-20",
        "13-3",
        "13-7",
        "14-10",
        "14-11",
        "14-12",
        "14-13",
        "14-14",
        "14-19",
        "14-20",
        "14-7",
        "14-8",
        "14-9",
        "15-1",
        "15-19",
        "15-6",
        "16-1",
        "16-16",
        "16-19",
        "16-20",
        "17-10",
        "17-11",
        "18-1",
        "18-10",
        "18-11",
        "18-12",
        "18-13",
        "18-14",
        "18-15",
        "18-16",
        "18-17",
        "18-19",
        "18-2",
        "18-20",
        "18-4",
        "18-5",
        "18-7",
        "18-8",
        "18-9",
        "19-1",
        "19-10",
        "19-11",
        "19-12",
        "19-13",
        "19-14",
        "19-15",
        "19-19",
        "19-2",
        "19-20",
        "19-3",
        "19-4",
        "19-6",
        "19-7",
        "19-8",
        "19-9",
        "2-1",
        "2-13",
        "2-15",
        "2-3",
        "2-4",
        "2-5",
        "2-6",
        "2-7",
        "2-8",
        "20-1",
        "20-12",
        "20-14",
        "20-15",
        "20-16",
        "20-18",
        "20-19",
        "20-20",
        "20-3",
        "20-4",
        "20-5",
        "20-7",
        "20-8",
        "3-1",
        "3-13",
        "3-18",
        "3-2",
        "3-8",
        "4-1",
        "4-10",
        "4-11",
        "5-1",
        "5-5",
        "6-1",
        "6-15",
        "6-6",
        "7-10",
        "7-11",
        "7-12",
        "7-13",
        "7-14",
        "7-7",
        "7-8",
        "7-9",
        "8-1",
        "8-13",
        "8-14",
        "8-18",
        "8-20",
        "8-3",
        "8-8",
        "9-1",
        "9-7"
       ],
       "num_examples_per_domain_per_label": 100,
       "pickle_path": "/mnt/wd500GB/CSC500/csc500-main/datasets/wisig.node3-19.stratified_ds.2022A.pkl",
       "source_or_target_dataset": "target",
       "x_transforms": [
        "unit_power",
        "jitter_256_10",
        "take_200"
       ]
      },
      {
       "domain_prefix": "ORACLE.run1_",
       "domains": [
        32,
        38,
        8,
        44,
        14,
        50,
        20,
        26
       ],
       "episode_transforms": [],
       "labels": [
        "3123D52",
        "3123D65",
        "3123D79",
        "3123D80",
        "3123D54",
        "3123D70",
        "3123D7B",
        "3123D89",
        "3123D58",
        "3123D76",
        "3123D7D",
        "3123EFE",
        "3123D64",
        "3123D78",
        "3123D7E",
        "3124E4A"
       ],
       "num_examples_per_domain_per_label": 2000,
       "pickle_path": "/mnt/wd500GB/CSC500/csc500-main/datasets/oracle.Run1_framed_2000Examples_stratified_ds.2022A.pkl",
       "source_or_target_dataset": "source",
       "x_transforms": [
        "unit_power",
        "jitter_256_10",
        "take_200",
        "resample_20Msps_to_25Msps"
       ]
      }
     ],
     "device": "cuda",
     "experiment_name": "tl_3-jitter10:oracle.run1.framed -> cores+wisig",
     "lr": 0.001,
     "n_epoch": 50,
     "n_query": 2,
     "n_shot": 3,
     "n_way": 16,
     "patience": 3,
     "seed": 1337,
     "test_k_factor": 2,
     "torch_default_dtype": "torch.float32",
     "train_k_factor": 3,
     "val_k_factor": 2,
     "x_net": [
      {
       "class": "nnReshape",
       "kargs": {
        "shape": [
         -1,
         1,
         2,
         256
        ]
       }
      },
      {
       "class": "Conv2d",
       "kargs": {
        "bias": false,
        "in_channels": 1,
        "kernel_size": [
         1,
         7
        ],
        "out_channels": 256,
        "padding": [
         0,
         3
        ]
       }
      },
      {
       "class": "ReLU",
       "kargs": {
        "inplace": true
       }
      },
      {
       "class": "BatchNorm2d",
       "kargs": {
        "num_features": 256
       }
      },
      {
       "class": "Conv2d",
       "kargs": {
        "bias": true,
        "in_channels": 256,
        "kernel_size": [
         2,
         7
        ],
        "out_channels": 80,
        "padding": [
         0,
         3
        ]
       }
      },
      {
       "class": "ReLU",
       "kargs": {
        "inplace": true
       }
      },
      {
       "class": "BatchNorm2d",
       "kargs": {
        "num_features": 80
       }
      },
      {
       "class": "Flatten",
       "kargs": {}
      },
      {
       "class": "Linear",
       "kargs": {
        "in_features": 20480,
        "out_features": 256
       }
      },
      {
       "class": "ReLU",
       "kargs": {
        "inplace": true
       }
      },
      {
       "class": "BatchNorm1d",
       "kargs": {
        "num_features": 256
       }
      },
      {
       "class": "Linear",
       "kargs": {
        "in_features": 256,
        "out_features": 256
       }
      }
     ]
    }
   },
   "start_time": "2022-03-18T06:25:42.947361",
   "version": "2.3.4"
  }
 },
 "nbformat": 4,
 "nbformat_minor": 5
}