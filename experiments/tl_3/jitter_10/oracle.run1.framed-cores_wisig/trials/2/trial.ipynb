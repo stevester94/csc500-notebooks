{
 "cells": [
  {
   "cell_type": "markdown",
   "id": "9fea5f46",
   "metadata": {
    "papermill": {
     "duration": 0.017029,
     "end_time": "2022-03-18T07:08:38.100542",
     "exception": false,
     "start_time": "2022-03-18T07:08:38.083513",
     "status": "completed"
    },
    "tags": []
   },
   "source": [
    "# Transfer Learning Template"
   ]
  },
  {
   "cell_type": "code",
   "execution_count": 1,
   "id": "0902182a",
   "metadata": {
    "execution": {
     "iopub.execute_input": "2022-03-18T07:08:38.139301Z",
     "iopub.status.busy": "2022-03-18T07:08:38.138805Z",
     "iopub.status.idle": "2022-03-18T07:08:39.042408Z",
     "shell.execute_reply": "2022-03-18T07:08:39.041917Z"
    },
    "papermill": {
     "duration": 0.92933,
     "end_time": "2022-03-18T07:08:39.042520",
     "exception": false,
     "start_time": "2022-03-18T07:08:38.113190",
     "status": "completed"
    },
    "tags": []
   },
   "outputs": [],
   "source": [
    "%load_ext autoreload\n",
    "%autoreload 2\n",
    "%matplotlib inline\n",
    "\n",
    "    \n",
    "import os, json, sys, time, random\n",
    "import numpy as np\n",
    "import torch\n",
    "from torch.optim import Adam\n",
    "from  easydict import EasyDict\n",
    "import matplotlib.pyplot as plt\n",
    "\n",
    "from steves_models.steves_ptn import Steves_Prototypical_Network\n",
    "\n",
    "from steves_utils.lazy_iterable_wrapper import Lazy_Iterable_Wrapper\n",
    "from steves_utils.iterable_aggregator import Iterable_Aggregator\n",
    "from steves_utils.ptn_train_eval_test_jig import  PTN_Train_Eval_Test_Jig\n",
    "from steves_utils.torch_sequential_builder import build_sequential\n",
    "from steves_utils.torch_utils import get_dataset_metrics, ptn_confusion_by_domain_over_dataloader\n",
    "from steves_utils.utils_v2 import (per_domain_accuracy_from_confusion, get_datasets_base_path)\n",
    "from steves_utils.PTN.utils import independent_accuracy_assesment\n",
    "\n",
    "from torch.utils.data import DataLoader\n",
    "\n",
    "from steves_utils.stratified_dataset.episodic_accessor import Episodic_Accessor_Factory\n",
    "\n",
    "from steves_utils.ptn_do_report import (\n",
    "    get_loss_curve,\n",
    "    get_results_table,\n",
    "    get_parameters_table,\n",
    "    get_domain_accuracies,\n",
    ")\n",
    "\n",
    "from steves_utils.transforms import get_chained_transform"
   ]
  },
  {
   "cell_type": "markdown",
   "id": "41c840b4",
   "metadata": {
    "papermill": {
     "duration": 0.01316,
     "end_time": "2022-03-18T07:08:39.074089",
     "exception": false,
     "start_time": "2022-03-18T07:08:39.060929",
     "status": "completed"
    },
    "tags": []
   },
   "source": [
    "# Allowed Parameters\n",
    "These are allowed parameters, not defaults\n",
    "Each of these values need to be present in the injected parameters (the notebook will raise an exception if they are not present)\n",
    "\n",
    "Papermill uses the cell tag \"parameters\" to inject the real parameters below this cell.\n",
    "Enable tags to see what I mean"
   ]
  },
  {
   "cell_type": "code",
   "execution_count": 2,
   "id": "fd44eb83",
   "metadata": {
    "execution": {
     "iopub.execute_input": "2022-03-18T07:08:39.103249Z",
     "iopub.status.busy": "2022-03-18T07:08:39.101912Z",
     "iopub.status.idle": "2022-03-18T07:08:39.118682Z",
     "shell.execute_reply": "2022-03-18T07:08:39.118290Z"
    },
    "papermill": {
     "duration": 0.031451,
     "end_time": "2022-03-18T07:08:39.118772",
     "exception": false,
     "start_time": "2022-03-18T07:08:39.087321",
     "status": "completed"
    },
    "tags": []
   },
   "outputs": [],
   "source": [
    "required_parameters = {\n",
    "    \"experiment_name\",\n",
    "    \"lr\",\n",
    "    \"device\",\n",
    "    \"seed\",\n",
    "    \"dataset_seed\",\n",
    "    \"n_shot\",\n",
    "    \"n_query\",\n",
    "    \"n_way\",\n",
    "    \"train_k_factor\",\n",
    "    \"val_k_factor\",\n",
    "    \"test_k_factor\",\n",
    "    \"n_epoch\",\n",
    "    \"patience\",\n",
    "    \"criteria_for_best\",\n",
    "    \"x_net\",\n",
    "    \"datasets\",\n",
    "    \"torch_default_dtype\",\n",
    "    \"NUM_LOGS_PER_EPOCH\",\n",
    "    \"BEST_MODEL_PATH\",\n",
    "    \"x_shape\",\n",
    "}"
   ]
  },
  {
   "cell_type": "code",
   "execution_count": 3,
   "id": "fa3f0049",
   "metadata": {
    "execution": {
     "iopub.execute_input": "2022-03-18T07:08:39.159782Z",
     "iopub.status.busy": "2022-03-18T07:08:39.159385Z",
     "iopub.status.idle": "2022-03-18T07:08:39.177738Z",
     "shell.execute_reply": "2022-03-18T07:08:39.177297Z"
    },
    "papermill": {
     "duration": 0.041366,
     "end_time": "2022-03-18T07:08:39.177828",
     "exception": false,
     "start_time": "2022-03-18T07:08:39.136462",
     "status": "completed"
    },
    "tags": [
     "parameters"
    ]
   },
   "outputs": [],
   "source": [
    "from steves_utils.CORES.utils import (\n",
    "    ALL_NODES,\n",
    "    ALL_NODES_MINIMUM_1000_EXAMPLES,\n",
    "    ALL_DAYS\n",
    ")\n",
    "\n",
    "from steves_utils.ORACLE.utils_v2 import (\n",
    "    ALL_DISTANCES_FEET_NARROWED,\n",
    "    ALL_RUNS,\n",
    "    ALL_SERIAL_NUMBERS,\n",
    ")\n",
    "\n",
    "standalone_parameters = {}\n",
    "standalone_parameters[\"experiment_name\"] = \"STANDALONE PTN\"\n",
    "standalone_parameters[\"lr\"] = 0.001\n",
    "standalone_parameters[\"device\"] = \"cuda\"\n",
    "\n",
    "standalone_parameters[\"seed\"] = 1337\n",
    "standalone_parameters[\"dataset_seed\"] = 1337\n",
    "\n",
    "standalone_parameters[\"n_way\"] = 8\n",
    "standalone_parameters[\"n_shot\"] = 3\n",
    "standalone_parameters[\"n_query\"]  = 2\n",
    "standalone_parameters[\"train_k_factor\"] = 1\n",
    "standalone_parameters[\"val_k_factor\"] = 2\n",
    "standalone_parameters[\"test_k_factor\"] = 2\n",
    "\n",
    "\n",
    "standalone_parameters[\"n_epoch\"] = 50\n",
    "\n",
    "standalone_parameters[\"patience\"] = 10\n",
    "standalone_parameters[\"criteria_for_best\"] = \"source_loss\"\n",
    "\n",
    "standalone_parameters[\"datasets\"] = [\n",
    "    {\n",
    "        \"labels\": ALL_SERIAL_NUMBERS,\n",
    "        \"domains\": ALL_DISTANCES_FEET_NARROWED,\n",
    "        \"num_examples_per_domain_per_label\": 100,\n",
    "        \"pickle_path\": os.path.join(get_datasets_base_path(), \"oracle.Run1_framed_2000Examples_stratified_ds.2022A.pkl\"),\n",
    "        \"source_or_target_dataset\": \"source\",\n",
    "        \"x_transforms\": [\"unit_mag\", \"minus_two\"],\n",
    "        \"episode_transforms\": [],\n",
    "        \"domain_prefix\": \"ORACLE_\"\n",
    "    },\n",
    "    {\n",
    "        \"labels\": ALL_NODES,\n",
    "        \"domains\": ALL_DAYS,\n",
    "        \"num_examples_per_domain_per_label\": 100,\n",
    "        \"pickle_path\": os.path.join(get_datasets_base_path(), \"cores.stratified_ds.2022A.pkl\"),\n",
    "        \"source_or_target_dataset\": \"target\",\n",
    "        \"x_transforms\": [\"unit_power\", \"times_zero\"],\n",
    "        \"episode_transforms\": [],\n",
    "        \"domain_prefix\": \"CORES_\"\n",
    "    }   \n",
    "]\n",
    "\n",
    "standalone_parameters[\"torch_default_dtype\"] = \"torch.float32\" \n",
    "\n",
    "\n",
    "\n",
    "standalone_parameters[\"x_net\"] =     [\n",
    "    {\"class\": \"nnReshape\", \"kargs\": {\"shape\":[-1, 1, 2, 256]}},\n",
    "    {\"class\": \"Conv2d\", \"kargs\": { \"in_channels\":1, \"out_channels\":256, \"kernel_size\":(1,7), \"bias\":False, \"padding\":(0,3), },},\n",
    "    {\"class\": \"ReLU\", \"kargs\": {\"inplace\": True}},\n",
    "    {\"class\": \"BatchNorm2d\", \"kargs\": {\"num_features\":256}},\n",
    "\n",
    "    {\"class\": \"Conv2d\", \"kargs\": { \"in_channels\":256, \"out_channels\":80, \"kernel_size\":(2,7), \"bias\":True, \"padding\":(0,3), },},\n",
    "    {\"class\": \"ReLU\", \"kargs\": {\"inplace\": True}},\n",
    "    {\"class\": \"BatchNorm2d\", \"kargs\": {\"num_features\":80}},\n",
    "    {\"class\": \"Flatten\", \"kargs\": {}},\n",
    "\n",
    "    {\"class\": \"Linear\", \"kargs\": {\"in_features\": 80*256, \"out_features\": 256}}, # 80 units per IQ pair\n",
    "    {\"class\": \"ReLU\", \"kargs\": {\"inplace\": True}},\n",
    "    {\"class\": \"BatchNorm1d\", \"kargs\": {\"num_features\":256}},\n",
    "\n",
    "    {\"class\": \"Linear\", \"kargs\": {\"in_features\": 256, \"out_features\": 256}},\n",
    "]\n",
    "\n",
    "# Parameters relevant to results\n",
    "# These parameters will basically never need to change\n",
    "standalone_parameters[\"NUM_LOGS_PER_EPOCH\"] = 10\n",
    "standalone_parameters[\"BEST_MODEL_PATH\"] = \"./best_model.pth\"\n",
    "\n",
    "\n",
    "\n",
    "\n"
   ]
  },
  {
   "cell_type": "code",
   "execution_count": 4,
   "id": "9b3ed1ed",
   "metadata": {
    "execution": {
     "iopub.execute_input": "2022-03-18T07:08:39.220488Z",
     "iopub.status.busy": "2022-03-18T07:08:39.215989Z",
     "iopub.status.idle": "2022-03-18T07:08:39.233216Z",
     "shell.execute_reply": "2022-03-18T07:08:39.233570Z"
    },
    "papermill": {
     "duration": 0.037952,
     "end_time": "2022-03-18T07:08:39.233677",
     "exception": false,
     "start_time": "2022-03-18T07:08:39.195725",
     "status": "completed"
    },
    "tags": [
     "injected-parameters"
    ]
   },
   "outputs": [],
   "source": [
    "# Parameters\n",
    "parameters = {\n",
    "    \"experiment_name\": \"tl_3-jitter10:oracle.run1.framed -> cores+wisig\",\n",
    "    \"device\": \"cuda\",\n",
    "    \"lr\": 0.001,\n",
    "    \"seed\": 1337,\n",
    "    \"dataset_seed\": 1337,\n",
    "    \"n_shot\": 3,\n",
    "    \"n_query\": 2,\n",
    "    \"train_k_factor\": 3,\n",
    "    \"val_k_factor\": 2,\n",
    "    \"test_k_factor\": 2,\n",
    "    \"torch_default_dtype\": \"torch.float32\",\n",
    "    \"n_epoch\": 50,\n",
    "    \"patience\": 3,\n",
    "    \"criteria_for_best\": \"target_loss\",\n",
    "    \"x_net\": [\n",
    "        {\"class\": \"nnReshape\", \"kargs\": {\"shape\": [-1, 1, 2, 256]}},\n",
    "        {\n",
    "            \"class\": \"Conv2d\",\n",
    "            \"kargs\": {\n",
    "                \"in_channels\": 1,\n",
    "                \"out_channels\": 256,\n",
    "                \"kernel_size\": [1, 7],\n",
    "                \"bias\": False,\n",
    "                \"padding\": [0, 3],\n",
    "            },\n",
    "        },\n",
    "        {\"class\": \"ReLU\", \"kargs\": {\"inplace\": True}},\n",
    "        {\"class\": \"BatchNorm2d\", \"kargs\": {\"num_features\": 256}},\n",
    "        {\n",
    "            \"class\": \"Conv2d\",\n",
    "            \"kargs\": {\n",
    "                \"in_channels\": 256,\n",
    "                \"out_channels\": 80,\n",
    "                \"kernel_size\": [2, 7],\n",
    "                \"bias\": True,\n",
    "                \"padding\": [0, 3],\n",
    "            },\n",
    "        },\n",
    "        {\"class\": \"ReLU\", \"kargs\": {\"inplace\": True}},\n",
    "        {\"class\": \"BatchNorm2d\", \"kargs\": {\"num_features\": 80}},\n",
    "        {\"class\": \"Flatten\", \"kargs\": {}},\n",
    "        {\"class\": \"Linear\", \"kargs\": {\"in_features\": 20480, \"out_features\": 256}},\n",
    "        {\"class\": \"ReLU\", \"kargs\": {\"inplace\": True}},\n",
    "        {\"class\": \"BatchNorm1d\", \"kargs\": {\"num_features\": 256}},\n",
    "        {\"class\": \"Linear\", \"kargs\": {\"in_features\": 256, \"out_features\": 256}},\n",
    "    ],\n",
    "    \"NUM_LOGS_PER_EPOCH\": 10,\n",
    "    \"BEST_MODEL_PATH\": \"./best_model.pth\",\n",
    "    \"n_way\": 16,\n",
    "    \"datasets\": [\n",
    "        {\n",
    "            \"labels\": [\n",
    "                \"1-10.\",\n",
    "                \"1-11.\",\n",
    "                \"1-15.\",\n",
    "                \"1-16.\",\n",
    "                \"1-17.\",\n",
    "                \"1-18.\",\n",
    "                \"1-19.\",\n",
    "                \"10-4.\",\n",
    "                \"10-7.\",\n",
    "                \"11-1.\",\n",
    "                \"11-14.\",\n",
    "                \"11-17.\",\n",
    "                \"11-20.\",\n",
    "                \"11-7.\",\n",
    "                \"13-20.\",\n",
    "                \"13-8.\",\n",
    "                \"14-10.\",\n",
    "                \"14-11.\",\n",
    "                \"14-14.\",\n",
    "                \"14-7.\",\n",
    "                \"15-1.\",\n",
    "                \"15-20.\",\n",
    "                \"16-1.\",\n",
    "                \"16-16.\",\n",
    "                \"17-10.\",\n",
    "                \"17-11.\",\n",
    "                \"17-2.\",\n",
    "                \"19-1.\",\n",
    "                \"19-16.\",\n",
    "                \"19-19.\",\n",
    "                \"19-20.\",\n",
    "                \"19-3.\",\n",
    "                \"2-10.\",\n",
    "                \"2-11.\",\n",
    "                \"2-17.\",\n",
    "                \"2-18.\",\n",
    "                \"2-20.\",\n",
    "                \"2-3.\",\n",
    "                \"2-4.\",\n",
    "                \"2-5.\",\n",
    "                \"2-6.\",\n",
    "                \"2-7.\",\n",
    "                \"2-8.\",\n",
    "                \"3-13.\",\n",
    "                \"3-18.\",\n",
    "                \"3-3.\",\n",
    "                \"4-1.\",\n",
    "                \"4-10.\",\n",
    "                \"4-11.\",\n",
    "                \"4-19.\",\n",
    "                \"5-5.\",\n",
    "                \"6-15.\",\n",
    "                \"7-10.\",\n",
    "                \"7-14.\",\n",
    "                \"8-18.\",\n",
    "                \"8-20.\",\n",
    "                \"8-3.\",\n",
    "                \"8-8.\",\n",
    "            ],\n",
    "            \"domains\": [1, 2, 3, 4, 5],\n",
    "            \"num_examples_per_domain_per_label\": 100,\n",
    "            \"pickle_path\": \"/mnt/wd500GB/CSC500/csc500-main/datasets/cores.stratified_ds.2022A.pkl\",\n",
    "            \"source_or_target_dataset\": \"target\",\n",
    "            \"x_transforms\": [\"jitter_256_10\", \"take_200\"],\n",
    "            \"episode_transforms\": [],\n",
    "            \"domain_prefix\": \"C_A_\",\n",
    "        },\n",
    "        {\n",
    "            \"labels\": [\n",
    "                \"1-10\",\n",
    "                \"1-12\",\n",
    "                \"1-14\",\n",
    "                \"1-16\",\n",
    "                \"1-18\",\n",
    "                \"1-19\",\n",
    "                \"1-8\",\n",
    "                \"10-11\",\n",
    "                \"10-17\",\n",
    "                \"10-4\",\n",
    "                \"10-7\",\n",
    "                \"11-1\",\n",
    "                \"11-10\",\n",
    "                \"11-19\",\n",
    "                \"11-20\",\n",
    "                \"11-4\",\n",
    "                \"11-7\",\n",
    "                \"12-19\",\n",
    "                \"12-20\",\n",
    "                \"12-7\",\n",
    "                \"13-14\",\n",
    "                \"13-18\",\n",
    "                \"13-19\",\n",
    "                \"13-20\",\n",
    "                \"13-3\",\n",
    "                \"13-7\",\n",
    "                \"14-10\",\n",
    "                \"14-11\",\n",
    "                \"14-12\",\n",
    "                \"14-13\",\n",
    "                \"14-14\",\n",
    "                \"14-19\",\n",
    "                \"14-20\",\n",
    "                \"14-7\",\n",
    "                \"14-8\",\n",
    "                \"14-9\",\n",
    "                \"15-1\",\n",
    "                \"15-19\",\n",
    "                \"15-6\",\n",
    "                \"16-1\",\n",
    "                \"16-16\",\n",
    "                \"16-19\",\n",
    "                \"16-20\",\n",
    "                \"17-10\",\n",
    "                \"17-11\",\n",
    "                \"18-1\",\n",
    "                \"18-10\",\n",
    "                \"18-11\",\n",
    "                \"18-12\",\n",
    "                \"18-13\",\n",
    "                \"18-14\",\n",
    "                \"18-15\",\n",
    "                \"18-16\",\n",
    "                \"18-17\",\n",
    "                \"18-19\",\n",
    "                \"18-2\",\n",
    "                \"18-20\",\n",
    "                \"18-4\",\n",
    "                \"18-5\",\n",
    "                \"18-7\",\n",
    "                \"18-8\",\n",
    "                \"18-9\",\n",
    "                \"19-1\",\n",
    "                \"19-10\",\n",
    "                \"19-11\",\n",
    "                \"19-12\",\n",
    "                \"19-13\",\n",
    "                \"19-14\",\n",
    "                \"19-15\",\n",
    "                \"19-19\",\n",
    "                \"19-2\",\n",
    "                \"19-20\",\n",
    "                \"19-3\",\n",
    "                \"19-4\",\n",
    "                \"19-6\",\n",
    "                \"19-7\",\n",
    "                \"19-8\",\n",
    "                \"19-9\",\n",
    "                \"2-1\",\n",
    "                \"2-13\",\n",
    "                \"2-15\",\n",
    "                \"2-3\",\n",
    "                \"2-4\",\n",
    "                \"2-5\",\n",
    "                \"2-6\",\n",
    "                \"2-7\",\n",
    "                \"2-8\",\n",
    "                \"20-1\",\n",
    "                \"20-12\",\n",
    "                \"20-14\",\n",
    "                \"20-15\",\n",
    "                \"20-16\",\n",
    "                \"20-18\",\n",
    "                \"20-19\",\n",
    "                \"20-20\",\n",
    "                \"20-3\",\n",
    "                \"20-4\",\n",
    "                \"20-5\",\n",
    "                \"20-7\",\n",
    "                \"20-8\",\n",
    "                \"3-1\",\n",
    "                \"3-13\",\n",
    "                \"3-18\",\n",
    "                \"3-2\",\n",
    "                \"3-8\",\n",
    "                \"4-1\",\n",
    "                \"4-10\",\n",
    "                \"4-11\",\n",
    "                \"5-1\",\n",
    "                \"5-5\",\n",
    "                \"6-1\",\n",
    "                \"6-15\",\n",
    "                \"6-6\",\n",
    "                \"7-10\",\n",
    "                \"7-11\",\n",
    "                \"7-12\",\n",
    "                \"7-13\",\n",
    "                \"7-14\",\n",
    "                \"7-7\",\n",
    "                \"7-8\",\n",
    "                \"7-9\",\n",
    "                \"8-1\",\n",
    "                \"8-13\",\n",
    "                \"8-14\",\n",
    "                \"8-18\",\n",
    "                \"8-20\",\n",
    "                \"8-3\",\n",
    "                \"8-8\",\n",
    "                \"9-1\",\n",
    "                \"9-7\",\n",
    "            ],\n",
    "            \"domains\": [1, 2, 3, 4],\n",
    "            \"num_examples_per_domain_per_label\": 100,\n",
    "            \"pickle_path\": \"/mnt/wd500GB/CSC500/csc500-main/datasets/wisig.node3-19.stratified_ds.2022A.pkl\",\n",
    "            \"source_or_target_dataset\": \"target\",\n",
    "            \"x_transforms\": [\"jitter_256_10\", \"take_200\"],\n",
    "            \"episode_transforms\": [],\n",
    "            \"domain_prefix\": \"W_A_\",\n",
    "        },\n",
    "        {\n",
    "            \"labels\": [\n",
    "                \"3123D52\",\n",
    "                \"3123D65\",\n",
    "                \"3123D79\",\n",
    "                \"3123D80\",\n",
    "                \"3123D54\",\n",
    "                \"3123D70\",\n",
    "                \"3123D7B\",\n",
    "                \"3123D89\",\n",
    "                \"3123D58\",\n",
    "                \"3123D76\",\n",
    "                \"3123D7D\",\n",
    "                \"3123EFE\",\n",
    "                \"3123D64\",\n",
    "                \"3123D78\",\n",
    "                \"3123D7E\",\n",
    "                \"3124E4A\",\n",
    "            ],\n",
    "            \"domains\": [32, 38, 8, 44, 14, 50, 20, 26],\n",
    "            \"num_examples_per_domain_per_label\": 2000,\n",
    "            \"pickle_path\": \"/mnt/wd500GB/CSC500/csc500-main/datasets/oracle.Run1_framed_2000Examples_stratified_ds.2022A.pkl\",\n",
    "            \"source_or_target_dataset\": \"source\",\n",
    "            \"x_transforms\": [\"jitter_256_10\", \"take_200\", \"resample_20Msps_to_25Msps\"],\n",
    "            \"episode_transforms\": [],\n",
    "            \"domain_prefix\": \"ORACLE.run1_\",\n",
    "        },\n",
    "    ],\n",
    "}\n"
   ]
  },
  {
   "cell_type": "code",
   "execution_count": 5,
   "id": "8fa1cc33",
   "metadata": {
    "execution": {
     "iopub.execute_input": "2022-03-18T07:08:39.268995Z",
     "iopub.status.busy": "2022-03-18T07:08:39.268739Z",
     "iopub.status.idle": "2022-03-18T07:08:39.284208Z",
     "shell.execute_reply": "2022-03-18T07:08:39.284498Z"
    },
    "papermill": {
     "duration": 0.032918,
     "end_time": "2022-03-18T07:08:39.284579",
     "exception": false,
     "start_time": "2022-03-18T07:08:39.251661",
     "status": "completed"
    },
    "tags": []
   },
   "outputs": [],
   "source": [
    "# Set this to True if you want to run this template directly\n",
    "STANDALONE = False\n",
    "if STANDALONE:\n",
    "    print(\"parameters not injected, running with standalone_parameters\")\n",
    "    parameters = standalone_parameters\n",
    "\n",
    "if not 'parameters' in locals() and not 'parameters' in globals():\n",
    "    raise Exception(\"Parameter injection failed\")\n",
    "\n",
    "#Use an easy dict for all the parameters\n",
    "p = EasyDict(parameters)\n",
    "\n",
    "if \"x_shape\" not in p:\n",
    "    p.x_shape = [2,256] # Default to this if we dont supply x_shape\n",
    "\n",
    "\n",
    "supplied_keys = set(p.keys())\n",
    "\n",
    "if  supplied_keys != required_parameters:\n",
    "    print(\"Parameters are incorrect\")\n",
    "    if len(supplied_keys - required_parameters)>0: print(\"Shouldn't have:\", str(supplied_keys - required_parameters))\n",
    "    if len(required_parameters - supplied_keys)>0: print(\"Need to have:\", str(required_parameters - supplied_keys))\n",
    "    raise RuntimeError(\"Parameters are incorrect\")"
   ]
  },
  {
   "cell_type": "code",
   "execution_count": 6,
   "id": "3a028d58",
   "metadata": {
    "execution": {
     "iopub.execute_input": "2022-03-18T07:08:39.317943Z",
     "iopub.status.busy": "2022-03-18T07:08:39.317691Z",
     "iopub.status.idle": "2022-03-18T07:08:39.333037Z",
     "shell.execute_reply": "2022-03-18T07:08:39.332791Z"
    },
    "papermill": {
     "duration": 0.030346,
     "end_time": "2022-03-18T07:08:39.333087",
     "exception": false,
     "start_time": "2022-03-18T07:08:39.302741",
     "status": "completed"
    },
    "tags": []
   },
   "outputs": [],
   "source": [
    "###################################\n",
    "# Set the RNGs and make it all deterministic\n",
    "###################################\n",
    "np.random.seed(p.seed)\n",
    "random.seed(p.seed)\n",
    "torch.manual_seed(p.seed)\n",
    "\n",
    "torch.use_deterministic_algorithms(True) "
   ]
  },
  {
   "cell_type": "code",
   "execution_count": 7,
   "id": "b691acf6",
   "metadata": {
    "execution": {
     "iopub.execute_input": "2022-03-18T07:08:39.361308Z",
     "iopub.status.busy": "2022-03-18T07:08:39.361056Z",
     "iopub.status.idle": "2022-03-18T07:08:39.375698Z",
     "shell.execute_reply": "2022-03-18T07:08:39.375903Z"
    },
    "papermill": {
     "duration": 0.029956,
     "end_time": "2022-03-18T07:08:39.375961",
     "exception": false,
     "start_time": "2022-03-18T07:08:39.346005",
     "status": "completed"
    },
    "tags": []
   },
   "outputs": [],
   "source": [
    "###########################################\n",
    "# The stratified datasets honor this\n",
    "###########################################\n",
    "torch.set_default_dtype(eval(p.torch_default_dtype))"
   ]
  },
  {
   "cell_type": "code",
   "execution_count": 8,
   "id": "b5fba671",
   "metadata": {
    "execution": {
     "iopub.execute_input": "2022-03-18T07:08:39.403783Z",
     "iopub.status.busy": "2022-03-18T07:08:39.403536Z",
     "iopub.status.idle": "2022-03-18T07:08:39.439571Z",
     "shell.execute_reply": "2022-03-18T07:08:39.439352Z"
    },
    "papermill": {
     "duration": 0.050676,
     "end_time": "2022-03-18T07:08:39.439622",
     "exception": false,
     "start_time": "2022-03-18T07:08:39.388946",
     "status": "completed"
    },
    "tags": []
   },
   "outputs": [],
   "source": [
    "###################################\n",
    "# Build the network(s)\n",
    "# Note: It's critical to do this AFTER setting the RNG\n",
    "###################################\n",
    "x_net = build_sequential(p.x_net)"
   ]
  },
  {
   "cell_type": "code",
   "execution_count": 9,
   "id": "5d7e61cc",
   "metadata": {
    "execution": {
     "iopub.execute_input": "2022-03-18T07:08:39.468456Z",
     "iopub.status.busy": "2022-03-18T07:08:39.468210Z",
     "iopub.status.idle": "2022-03-18T07:08:39.479964Z",
     "shell.execute_reply": "2022-03-18T07:08:39.479577Z"
    },
    "papermill": {
     "duration": 0.02696,
     "end_time": "2022-03-18T07:08:39.480053",
     "exception": false,
     "start_time": "2022-03-18T07:08:39.453093",
     "status": "completed"
    },
    "tags": []
   },
   "outputs": [],
   "source": [
    "start_time_secs = time.time()"
   ]
  },
  {
   "cell_type": "code",
   "execution_count": 10,
   "id": "c6b67dfd",
   "metadata": {
    "execution": {
     "iopub.execute_input": "2022-03-18T07:08:39.512075Z",
     "iopub.status.busy": "2022-03-18T07:08:39.511527Z",
     "iopub.status.idle": "2022-03-18T07:08:39.522344Z",
     "shell.execute_reply": "2022-03-18T07:08:39.521958Z"
    },
    "papermill": {
     "duration": 0.025612,
     "end_time": "2022-03-18T07:08:39.522432",
     "exception": false,
     "start_time": "2022-03-18T07:08:39.496820",
     "status": "completed"
    },
    "tags": []
   },
   "outputs": [],
   "source": [
    "p.domains_source = []\n",
    "p.domains_target = []\n",
    "\n",
    "\n",
    "train_original_source = []\n",
    "val_original_source   = []\n",
    "test_original_source  = []\n",
    "\n",
    "train_original_target = []\n",
    "val_original_target   = []\n",
    "test_original_target  = []"
   ]
  },
  {
   "cell_type": "code",
   "execution_count": 11,
   "id": "e3d9c3d3",
   "metadata": {
    "execution": {
     "iopub.execute_input": "2022-03-18T07:08:39.553438Z",
     "iopub.status.busy": "2022-03-18T07:08:39.553188Z",
     "iopub.status.idle": "2022-03-18T07:08:39.568419Z",
     "shell.execute_reply": "2022-03-18T07:08:39.567971Z"
    },
    "papermill": {
     "duration": 0.030258,
     "end_time": "2022-03-18T07:08:39.568508",
     "exception": false,
     "start_time": "2022-03-18T07:08:39.538250",
     "status": "completed"
    },
    "tags": []
   },
   "outputs": [],
   "source": [
    "# global_x_transform_func = lambda x: normalize(x.to(torch.get_default_dtype()), \"unit_power\") # unit_power, unit_mag\n",
    "# global_x_transform_func = lambda x: normalize(x, \"unit_power\") # unit_power, unit_mag"
   ]
  },
  {
   "cell_type": "code",
   "execution_count": 12,
   "id": "acb78fd2",
   "metadata": {
    "execution": {
     "iopub.execute_input": "2022-03-18T07:08:39.607688Z",
     "iopub.status.busy": "2022-03-18T07:08:39.606787Z",
     "iopub.status.idle": "2022-03-18T07:08:39.619241Z",
     "shell.execute_reply": "2022-03-18T07:08:39.618847Z"
    },
    "papermill": {
     "duration": 0.032042,
     "end_time": "2022-03-18T07:08:39.619331",
     "exception": false,
     "start_time": "2022-03-18T07:08:39.587289",
     "status": "completed"
    },
    "tags": []
   },
   "outputs": [],
   "source": [
    "def add_dataset(\n",
    "    labels,\n",
    "    domains,\n",
    "    pickle_path,\n",
    "    x_transforms,\n",
    "    episode_transforms,\n",
    "    domain_prefix,\n",
    "    num_examples_per_domain_per_label,\n",
    "    source_or_target_dataset:str,\n",
    "    iterator_seed=p.seed,\n",
    "    dataset_seed=p.dataset_seed,\n",
    "    n_shot=p.n_shot,\n",
    "    n_way=p.n_way,\n",
    "    n_query=p.n_query,\n",
    "    train_val_test_k_factors=(p.train_k_factor,p.val_k_factor,p.test_k_factor),\n",
    "):\n",
    "   \n",
    "    if x_transforms == []: x_transform = None\n",
    "    else: x_transform = get_chained_transform(x_transforms)\n",
    "    \n",
    "    if episode_transforms == []: episode_transform = None\n",
    "    else: raise Exception(\"episode_transforms not implemented\")\n",
    "    \n",
    "    episode_transform = lambda tup, _prefix=domain_prefix: (_prefix + str(tup[0]), tup[1])\n",
    "\n",
    "\n",
    "    eaf = Episodic_Accessor_Factory(\n",
    "        labels=labels,\n",
    "        domains=domains,\n",
    "        num_examples_per_domain_per_label=num_examples_per_domain_per_label,\n",
    "        iterator_seed=iterator_seed,\n",
    "        dataset_seed=dataset_seed,\n",
    "        n_shot=n_shot,\n",
    "        n_way=n_way,\n",
    "        n_query=n_query,\n",
    "        train_val_test_k_factors=train_val_test_k_factors,\n",
    "        pickle_path=pickle_path,\n",
    "        x_transform_func=x_transform,\n",
    "    )\n",
    "\n",
    "    train, val, test = eaf.get_train(), eaf.get_val(), eaf.get_test()\n",
    "    train = Lazy_Iterable_Wrapper(train, episode_transform)\n",
    "    val = Lazy_Iterable_Wrapper(val, episode_transform)\n",
    "    test = Lazy_Iterable_Wrapper(test, episode_transform)\n",
    "\n",
    "    if source_or_target_dataset==\"source\":\n",
    "        train_original_source.append(train)\n",
    "        val_original_source.append(val)\n",
    "        test_original_source.append(test)\n",
    "\n",
    "        p.domains_source.extend(\n",
    "            [domain_prefix + str(u) for u in domains]\n",
    "        )\n",
    "    elif source_or_target_dataset==\"target\":\n",
    "        train_original_target.append(train)\n",
    "        val_original_target.append(val)\n",
    "        test_original_target.append(test)\n",
    "        p.domains_target.extend(\n",
    "            [domain_prefix + str(u) for u in domains]\n",
    "        )\n",
    "    else:\n",
    "        raise Exception(f\"invalid source_or_target_dataset: {source_or_target_dataset}\")\n",
    "    "
   ]
  },
  {
   "cell_type": "code",
   "execution_count": 13,
   "id": "fe266617",
   "metadata": {
    "execution": {
     "iopub.execute_input": "2022-03-18T07:08:39.652517Z",
     "iopub.status.busy": "2022-03-18T07:08:39.652269Z",
     "iopub.status.idle": "2022-03-18T07:09:14.822043Z",
     "shell.execute_reply": "2022-03-18T07:09:14.821589Z"
    },
    "papermill": {
     "duration": 35.185301,
     "end_time": "2022-03-18T07:09:14.822146",
     "exception": false,
     "start_time": "2022-03-18T07:08:39.636845",
     "status": "completed"
    },
    "tags": []
   },
   "outputs": [],
   "source": [
    "for ds in p.datasets:\n",
    "    add_dataset(**ds)"
   ]
  },
  {
   "cell_type": "code",
   "execution_count": 14,
   "id": "b90d65ac",
   "metadata": {
    "execution": {
     "iopub.execute_input": "2022-03-18T07:09:14.858051Z",
     "iopub.status.busy": "2022-03-18T07:09:14.857779Z",
     "iopub.status.idle": "2022-03-18T07:09:14.873023Z",
     "shell.execute_reply": "2022-03-18T07:09:14.872558Z"
    },
    "papermill": {
     "duration": 0.030925,
     "end_time": "2022-03-18T07:09:14.873114",
     "exception": false,
     "start_time": "2022-03-18T07:09:14.842189",
     "status": "completed"
    },
    "tags": []
   },
   "outputs": [],
   "source": [
    "# from steves_utils.CORES.utils import (\n",
    "#     ALL_NODES,\n",
    "#     ALL_NODES_MINIMUM_1000_EXAMPLES,\n",
    "#     ALL_DAYS\n",
    "# )\n",
    "\n",
    "# add_dataset(\n",
    "#     labels=ALL_NODES,\n",
    "#     domains = ALL_DAYS,\n",
    "#     num_examples_per_domain_per_label=100,\n",
    "#     pickle_path=os.path.join(get_datasets_base_path(), \"cores.stratified_ds.2022A.pkl\"),\n",
    "#     source_or_target_dataset=\"target\",\n",
    "#     x_transform_func=global_x_transform_func,\n",
    "#     domain_modifier=lambda u: f\"cores_{u}\"\n",
    "# )"
   ]
  },
  {
   "cell_type": "code",
   "execution_count": 15,
   "id": "76db484d",
   "metadata": {
    "execution": {
     "iopub.execute_input": "2022-03-18T07:09:14.907001Z",
     "iopub.status.busy": "2022-03-18T07:09:14.906739Z",
     "iopub.status.idle": "2022-03-18T07:09:14.920640Z",
     "shell.execute_reply": "2022-03-18T07:09:14.920254Z"
    },
    "papermill": {
     "duration": 0.029344,
     "end_time": "2022-03-18T07:09:14.920730",
     "exception": false,
     "start_time": "2022-03-18T07:09:14.891386",
     "status": "completed"
    },
    "tags": []
   },
   "outputs": [],
   "source": [
    "# from steves_utils.ORACLE.utils_v2 import (\n",
    "#     ALL_DISTANCES_FEET,\n",
    "#     ALL_RUNS,\n",
    "#     ALL_SERIAL_NUMBERS,\n",
    "# )\n",
    "\n",
    "\n",
    "# add_dataset(\n",
    "#     labels=ALL_SERIAL_NUMBERS,\n",
    "#     domains = list(set(ALL_DISTANCES_FEET) - {2,62}),\n",
    "#     num_examples_per_domain_per_label=100,\n",
    "#     pickle_path=os.path.join(get_datasets_base_path(), \"oracle.Run2_framed_2000Examples_stratified_ds.2022A.pkl\"),\n",
    "#     source_or_target_dataset=\"source\",\n",
    "#     x_transform_func=global_x_transform_func,\n",
    "#     domain_modifier=lambda u: f\"oracle1_{u}\"\n",
    "# )\n"
   ]
  },
  {
   "cell_type": "code",
   "execution_count": 16,
   "id": "97dea9d2",
   "metadata": {
    "execution": {
     "iopub.execute_input": "2022-03-18T07:09:14.955034Z",
     "iopub.status.busy": "2022-03-18T07:09:14.954774Z",
     "iopub.status.idle": "2022-03-18T07:09:14.969069Z",
     "shell.execute_reply": "2022-03-18T07:09:14.968629Z"
    },
    "papermill": {
     "duration": 0.029908,
     "end_time": "2022-03-18T07:09:14.969157",
     "exception": false,
     "start_time": "2022-03-18T07:09:14.939249",
     "status": "completed"
    },
    "tags": []
   },
   "outputs": [],
   "source": [
    "# from steves_utils.ORACLE.utils_v2 import (\n",
    "#     ALL_DISTANCES_FEET,\n",
    "#     ALL_RUNS,\n",
    "#     ALL_SERIAL_NUMBERS,\n",
    "# )\n",
    "\n",
    "\n",
    "# add_dataset(\n",
    "#     labels=ALL_SERIAL_NUMBERS,\n",
    "#     domains = list(set(ALL_DISTANCES_FEET) - {2,62,56}),\n",
    "#     num_examples_per_domain_per_label=100,\n",
    "#     pickle_path=os.path.join(get_datasets_base_path(), \"oracle.Run2_framed_2000Examples_stratified_ds.2022A.pkl\"),\n",
    "#     source_or_target_dataset=\"source\",\n",
    "#     x_transform_func=global_x_transform_func,\n",
    "#     domain_modifier=lambda u: f\"oracle2_{u}\"\n",
    "# )"
   ]
  },
  {
   "cell_type": "code",
   "execution_count": 17,
   "id": "6f289866",
   "metadata": {
    "execution": {
     "iopub.execute_input": "2022-03-18T07:09:15.003155Z",
     "iopub.status.busy": "2022-03-18T07:09:15.002634Z",
     "iopub.status.idle": "2022-03-18T07:09:15.013639Z",
     "shell.execute_reply": "2022-03-18T07:09:15.013195Z"
    },
    "papermill": {
     "duration": 0.025904,
     "end_time": "2022-03-18T07:09:15.013728",
     "exception": false,
     "start_time": "2022-03-18T07:09:14.987824",
     "status": "completed"
    },
    "tags": []
   },
   "outputs": [],
   "source": [
    "# add_dataset(\n",
    "#     labels=list(range(19)),\n",
    "#     domains = [0,1,2],\n",
    "#     num_examples_per_domain_per_label=100,\n",
    "#     pickle_path=os.path.join(get_datasets_base_path(), \"metehan.stratified_ds.2022A.pkl\"),\n",
    "#     source_or_target_dataset=\"target\",\n",
    "#     x_transform_func=global_x_transform_func,\n",
    "#     domain_modifier=lambda u: f\"met_{u}\"\n",
    "# )"
   ]
  },
  {
   "cell_type": "code",
   "execution_count": 18,
   "id": "86a863c3",
   "metadata": {
    "execution": {
     "iopub.execute_input": "2022-03-18T07:09:15.047832Z",
     "iopub.status.busy": "2022-03-18T07:09:15.047583Z",
     "iopub.status.idle": "2022-03-18T07:09:15.062739Z",
     "shell.execute_reply": "2022-03-18T07:09:15.063030Z"
    },
    "papermill": {
     "duration": 0.031128,
     "end_time": "2022-03-18T07:09:15.063116",
     "exception": false,
     "start_time": "2022-03-18T07:09:15.031988",
     "status": "completed"
    },
    "tags": []
   },
   "outputs": [],
   "source": [
    "# # from steves_utils.wisig.utils import (\n",
    "# #     ALL_NODES_MINIMUM_100_EXAMPLES,\n",
    "# #     ALL_NODES_MINIMUM_500_EXAMPLES,\n",
    "# #     ALL_NODES_MINIMUM_1000_EXAMPLES,\n",
    "# #     ALL_DAYS\n",
    "# # )\n",
    "\n",
    "# import steves_utils.wisig.utils as wisig\n",
    "\n",
    "\n",
    "# add_dataset(\n",
    "#     labels=wisig.ALL_NODES_MINIMUM_100_EXAMPLES,\n",
    "#     domains = wisig.ALL_DAYS,\n",
    "#     num_examples_per_domain_per_label=100,\n",
    "#     pickle_path=os.path.join(get_datasets_base_path(), \"wisig.node3-19.stratified_ds.2022A.pkl\"),\n",
    "#     source_or_target_dataset=\"target\",\n",
    "#     x_transform_func=global_x_transform_func,\n",
    "#     domain_modifier=lambda u: f\"wisig_{u}\"\n",
    "# )"
   ]
  },
  {
   "cell_type": "code",
   "execution_count": 19,
   "id": "fd5442bc",
   "metadata": {
    "execution": {
     "iopub.execute_input": "2022-03-18T07:09:15.098324Z",
     "iopub.status.busy": "2022-03-18T07:09:15.098062Z",
     "iopub.status.idle": "2022-03-18T07:09:15.111083Z",
     "shell.execute_reply": "2022-03-18T07:09:15.110643Z"
    },
    "papermill": {
     "duration": 0.030623,
     "end_time": "2022-03-18T07:09:15.111171",
     "exception": false,
     "start_time": "2022-03-18T07:09:15.080548",
     "status": "completed"
    },
    "tags": []
   },
   "outputs": [],
   "source": [
    "###################################\n",
    "# Build the dataset\n",
    "###################################\n",
    "train_original_source = Iterable_Aggregator(train_original_source, p.seed)\n",
    "val_original_source = Iterable_Aggregator(val_original_source, p.seed)\n",
    "test_original_source = Iterable_Aggregator(test_original_source, p.seed)\n",
    "\n",
    "\n",
    "train_original_target = Iterable_Aggregator(train_original_target, p.seed)\n",
    "val_original_target = Iterable_Aggregator(val_original_target, p.seed)\n",
    "test_original_target = Iterable_Aggregator(test_original_target, p.seed)\n",
    "\n",
    "# For CNN We only use X and Y. And we only train on the source.\n",
    "# Properly form the data using a transform lambda and Lazy_Iterable_Wrapper. Finally wrap them in a dataloader\n",
    "\n",
    "transform_lambda = lambda ex: ex[1] # Original is (<domain>, <episode>) so we strip down to episode only\n",
    "\n",
    "train_processed_source = Lazy_Iterable_Wrapper(train_original_source, transform_lambda)\n",
    "val_processed_source   = Lazy_Iterable_Wrapper(val_original_source, transform_lambda)\n",
    "test_processed_source  = Lazy_Iterable_Wrapper(test_original_source, transform_lambda)\n",
    "\n",
    "train_processed_target = Lazy_Iterable_Wrapper(train_original_target, transform_lambda)\n",
    "val_processed_target   = Lazy_Iterable_Wrapper(val_original_target, transform_lambda)\n",
    "test_processed_target  = Lazy_Iterable_Wrapper(test_original_target, transform_lambda)\n",
    "\n",
    "datasets = EasyDict({\n",
    "    \"source\": {\n",
    "        \"original\": {\"train\":train_original_source, \"val\":val_original_source, \"test\":test_original_source},\n",
    "        \"processed\": {\"train\":train_processed_source, \"val\":val_processed_source, \"test\":test_processed_source}\n",
    "    },\n",
    "    \"target\": {\n",
    "        \"original\": {\"train\":train_original_target, \"val\":val_original_target, \"test\":test_original_target},\n",
    "        \"processed\": {\"train\":train_processed_target, \"val\":val_processed_target, \"test\":test_processed_target}\n",
    "    },\n",
    "})"
   ]
  },
  {
   "cell_type": "code",
   "execution_count": 20,
   "id": "5b3c01fc",
   "metadata": {
    "execution": {
     "iopub.execute_input": "2022-03-18T07:09:15.144805Z",
     "iopub.status.busy": "2022-03-18T07:09:15.144553Z",
     "iopub.status.idle": "2022-03-18T07:09:20.109109Z",
     "shell.execute_reply": "2022-03-18T07:09:20.108692Z"
    },
    "papermill": {
     "duration": 4.980186,
     "end_time": "2022-03-18T07:09:20.109218",
     "exception": false,
     "start_time": "2022-03-18T07:09:15.129032",
     "status": "completed"
    },
    "tags": []
   },
   "outputs": [
    {
     "name": "stdout",
     "output_type": "stream",
     "text": [
      "{'ORACLE.run1_14', 'ORACLE.run1_20', 'ORACLE.run1_32', 'ORACLE.run1_38', 'ORACLE.run1_50', 'ORACLE.run1_8', 'ORACLE.run1_44', 'ORACLE.run1_26'}\n"
     ]
    },
    {
     "name": "stdout",
     "output_type": "stream",
     "text": [
      "{'W_A_3', 'W_A_2', 'C_A_2', 'C_A_1', 'C_A_3', 'C_A_5', 'C_A_4', 'W_A_1', 'W_A_4'}\n"
     ]
    },
    {
     "name": "stdout",
     "output_type": "stream",
     "text": [
      "tensor([[[0., 0., 0.,  ..., 0., 0., 0.],\n",
      "         [0., 0., 0.,  ..., 0., 0., 0.]],\n",
      "\n",
      "        [[0., 0., 0.,  ..., 0., 0., 0.],\n",
      "         [0., 0., 0.,  ..., 0., 0., 0.]],\n",
      "\n",
      "        [[0., 0., 0.,  ..., 0., 0., 0.],\n",
      "         [0., 0., 0.,  ..., 0., 0., 0.]],\n",
      "\n",
      "        ...,\n",
      "\n",
      "        [[0., 0., 0.,  ..., 0., 0., 0.],\n",
      "         [0., 0., 0.,  ..., 0., 0., 0.]],\n",
      "\n",
      "        [[0., 0., 0.,  ..., 0., 0., 0.],\n",
      "         [0., 0., 0.,  ..., 0., 0., 0.]],\n",
      "\n",
      "        [[0., 0., 0.,  ..., 0., 0., 0.],\n",
      "         [0., 0., 0.,  ..., 0., 0., 0.]]])\n"
     ]
    }
   ],
   "source": [
    "from steves_utils.transforms import get_average_magnitude, get_average_power\n",
    "\n",
    "print(set([u for u,_ in val_original_source]))\n",
    "print(set([u for u,_ in val_original_target]))\n",
    "\n",
    "s_x, s_y, q_x, q_y, _ = next(iter(train_processed_source))\n",
    "print(s_x)\n",
    "\n",
    "# for ds in [\n",
    "#     train_processed_source,\n",
    "#     val_processed_source,\n",
    "#     test_processed_source,\n",
    "#     train_processed_target,\n",
    "#     val_processed_target,\n",
    "#     test_processed_target\n",
    "# ]:\n",
    "#     for s_x, s_y, q_x, q_y, _ in ds:\n",
    "#         for X in (s_x, q_x):\n",
    "#             for x in X:\n",
    "#                 assert np.isclose(get_average_magnitude(x.numpy()), 1.0)\n",
    "#                 assert np.isclose(get_average_power(x.numpy()), 1.0)\n",
    "                "
   ]
  },
  {
   "cell_type": "code",
   "execution_count": 21,
   "id": "bbdacba1",
   "metadata": {
    "execution": {
     "iopub.execute_input": "2022-03-18T07:09:20.146442Z",
     "iopub.status.busy": "2022-03-18T07:09:20.146192Z",
     "iopub.status.idle": "2022-03-18T07:09:20.208640Z",
     "shell.execute_reply": "2022-03-18T07:09:20.208227Z"
    },
    "papermill": {
     "duration": 0.079926,
     "end_time": "2022-03-18T07:09:20.208750",
     "exception": false,
     "start_time": "2022-03-18T07:09:20.128824",
     "status": "completed"
    },
    "tags": []
   },
   "outputs": [
    {
     "name": "stdout",
     "output_type": "stream",
     "text": [
      "(2, 256)\n"
     ]
    }
   ],
   "source": [
    "###################################\n",
    "# Build the model\n",
    "###################################\n",
    "# easfsl only wants a tuple for the shape\n",
    "model = Steves_Prototypical_Network(x_net, device=p.device, x_shape=tuple(p.x_shape))\n",
    "optimizer = Adam(params=model.parameters(), lr=p.lr)"
   ]
  },
  {
   "cell_type": "code",
   "execution_count": 22,
   "id": "22b39ac5",
   "metadata": {
    "execution": {
     "iopub.execute_input": "2022-03-18T07:09:20.246579Z",
     "iopub.status.busy": "2022-03-18T07:09:20.246301Z",
     "iopub.status.idle": "2022-03-18T07:27:11.762487Z",
     "shell.execute_reply": "2022-03-18T07:27:11.762256Z"
    },
    "papermill": {
     "duration": 1071.533781,
     "end_time": "2022-03-18T07:27:11.762546",
     "exception": false,
     "start_time": "2022-03-18T07:09:20.228765",
     "status": "completed"
    },
    "tags": []
   },
   "outputs": [
    {
     "name": "stdout",
     "output_type": "stream",
     "text": [
      "epoch: 1, [batch: 1 / 6720], examples_per_second: 48.8255, train_label_loss: 2.6473, \n"
     ]
    },
    {
     "name": "stdout",
     "output_type": "stream",
     "text": [
      "epoch: 1, [batch: 672 / 6720], examples_per_second: 3206.7179, train_label_loss: 1.2739, \n"
     ]
    },
    {
     "name": "stdout",
     "output_type": "stream",
     "text": [
      "epoch: 1, [batch: 1344 / 6720], examples_per_second: 3216.7394, train_label_loss: 1.0950, \n"
     ]
    },
    {
     "name": "stdout",
     "output_type": "stream",
     "text": [
      "epoch: 1, [batch: 2016 / 6720], examples_per_second: 3202.7716, train_label_loss: 0.8659, \n"
     ]
    },
    {
     "name": "stdout",
     "output_type": "stream",
     "text": [
      "epoch: 1, [batch: 2688 / 6720], examples_per_second: 3203.7664, train_label_loss: 1.0047, \n"
     ]
    },
    {
     "name": "stdout",
     "output_type": "stream",
     "text": [
      "epoch: 1, [batch: 3360 / 6720], examples_per_second: 3208.4884, train_label_loss: 1.1562, \n"
     ]
    },
    {
     "name": "stdout",
     "output_type": "stream",
     "text": [
      "epoch: 1, [batch: 4032 / 6720], examples_per_second: 3208.0072, train_label_loss: 0.9347, \n"
     ]
    },
    {
     "name": "stdout",
     "output_type": "stream",
     "text": [
      "epoch: 1, [batch: 4704 / 6720], examples_per_second: 3204.2228, train_label_loss: 1.3363, \n"
     ]
    },
    {
     "name": "stdout",
     "output_type": "stream",
     "text": [
      "epoch: 1, [batch: 5376 / 6720], examples_per_second: 3208.4672, train_label_loss: 0.9635, \n"
     ]
    },
    {
     "name": "stdout",
     "output_type": "stream",
     "text": [
      "epoch: 1, [batch: 6048 / 6720], examples_per_second: 3221.8292, train_label_loss: 1.0343, \n"
     ]
    },
    {
     "name": "stdout",
     "output_type": "stream",
     "text": [
      "=============================================================\n",
      "epoch: 1, source_val_acc_label: 0.3720, target_val_acc_label: 0.2380, source_val_label_loss: 552.9266, target_val_label_loss: 78366.8359, \n",
      "=============================================================\n"
     ]
    },
    {
     "name": "stdout",
     "output_type": "stream",
     "text": [
      "New best\n"
     ]
    },
    {
     "name": "stdout",
     "output_type": "stream",
     "text": [
      "epoch: 2, [batch: 1 / 6720], examples_per_second: 5.5375, train_label_loss: 927.1784, \n"
     ]
    },
    {
     "name": "stdout",
     "output_type": "stream",
     "text": [
      "epoch: 2, [batch: 672 / 6720], examples_per_second: 3214.2067, train_label_loss: 2.7726, \n"
     ]
    },
    {
     "name": "stdout",
     "output_type": "stream",
     "text": [
      "epoch: 2, [batch: 1344 / 6720], examples_per_second: 3230.4854, train_label_loss: 1.6782, \n"
     ]
    },
    {
     "name": "stdout",
     "output_type": "stream",
     "text": [
      "epoch: 2, [batch: 2016 / 6720], examples_per_second: 3237.5841, train_label_loss: 1.4281, \n"
     ]
    },
    {
     "name": "stdout",
     "output_type": "stream",
     "text": [
      "epoch: 2, [batch: 2688 / 6720], examples_per_second: 3233.8912, train_label_loss: 1.6570, \n"
     ]
    },
    {
     "name": "stdout",
     "output_type": "stream",
     "text": [
      "epoch: 2, [batch: 3360 / 6720], examples_per_second: 3260.8833, train_label_loss: 4.1281, \n"
     ]
    },
    {
     "name": "stdout",
     "output_type": "stream",
     "text": [
      "epoch: 2, [batch: 4032 / 6720], examples_per_second: 3225.5818, train_label_loss: 1.0926, \n"
     ]
    },
    {
     "name": "stdout",
     "output_type": "stream",
     "text": [
      "epoch: 2, [batch: 4704 / 6720], examples_per_second: 3239.1353, train_label_loss: 1.5672, \n"
     ]
    },
    {
     "name": "stdout",
     "output_type": "stream",
     "text": [
      "epoch: 2, [batch: 5376 / 6720], examples_per_second: 3253.9301, train_label_loss: 5.2272, \n"
     ]
    },
    {
     "name": "stdout",
     "output_type": "stream",
     "text": [
      "epoch: 2, [batch: 6048 / 6720], examples_per_second: 3238.9463, train_label_loss: 1.8769, \n"
     ]
    },
    {
     "name": "stdout",
     "output_type": "stream",
     "text": [
      "=============================================================\n",
      "epoch: 2, source_val_acc_label: 0.3890, target_val_acc_label: 0.5185, source_val_label_loss: 3.9279, target_val_label_loss: 40854.1719, \n",
      "=============================================================\n"
     ]
    },
    {
     "name": "stdout",
     "output_type": "stream",
     "text": [
      "New best\n"
     ]
    },
    {
     "name": "stdout",
     "output_type": "stream",
     "text": [
      "epoch: 3, [batch: 1 / 6720], examples_per_second: 5.5756, train_label_loss: 4.9424, \n"
     ]
    },
    {
     "name": "stdout",
     "output_type": "stream",
     "text": [
      "epoch: 3, [batch: 672 / 6720], examples_per_second: 3202.0224, train_label_loss: 1.3971, \n"
     ]
    },
    {
     "name": "stdout",
     "output_type": "stream",
     "text": [
      "epoch: 3, [batch: 1344 / 6720], examples_per_second: 3245.2001, train_label_loss: 1.5775, \n"
     ]
    },
    {
     "name": "stdout",
     "output_type": "stream",
     "text": [
      "epoch: 3, [batch: 2016 / 6720], examples_per_second: 3245.8982, train_label_loss: 2.8803, \n"
     ]
    },
    {
     "name": "stdout",
     "output_type": "stream",
     "text": [
      "epoch: 3, [batch: 2688 / 6720], examples_per_second: 3234.6119, train_label_loss: 1.1623, \n"
     ]
    },
    {
     "name": "stdout",
     "output_type": "stream",
     "text": [
      "epoch: 3, [batch: 3360 / 6720], examples_per_second: 3212.8490, train_label_loss: 1.2879, \n"
     ]
    },
    {
     "name": "stdout",
     "output_type": "stream",
     "text": [
      "epoch: 3, [batch: 4032 / 6720], examples_per_second: 3227.9102, train_label_loss: 1.2461, \n"
     ]
    },
    {
     "name": "stdout",
     "output_type": "stream",
     "text": [
      "epoch: 3, [batch: 4704 / 6720], examples_per_second: 3228.0736, train_label_loss: 1.2304, \n"
     ]
    },
    {
     "name": "stdout",
     "output_type": "stream",
     "text": [
      "epoch: 3, [batch: 5376 / 6720], examples_per_second: 3240.1321, train_label_loss: 1.0357, \n"
     ]
    },
    {
     "name": "stdout",
     "output_type": "stream",
     "text": [
      "epoch: 3, [batch: 6048 / 6720], examples_per_second: 3232.9396, train_label_loss: 1.1156, \n"
     ]
    },
    {
     "name": "stdout",
     "output_type": "stream",
     "text": [
      "=============================================================\n",
      "epoch: 3, source_val_acc_label: 0.5424, target_val_acc_label: 0.4685, source_val_label_loss: 1.2113, target_val_label_loss: 42389.1016, \n",
      "=============================================================\n"
     ]
    },
    {
     "name": "stdout",
     "output_type": "stream",
     "text": [
      "epoch: 4, [batch: 1 / 6720], examples_per_second: 5.5628, train_label_loss: 1.2269, \n"
     ]
    },
    {
     "name": "stdout",
     "output_type": "stream",
     "text": [
      "epoch: 4, [batch: 672 / 6720], examples_per_second: 3216.0865, train_label_loss: 1.4179, \n"
     ]
    },
    {
     "name": "stdout",
     "output_type": "stream",
     "text": [
      "epoch: 4, [batch: 1344 / 6720], examples_per_second: 3244.7997, train_label_loss: 1.1914, \n"
     ]
    },
    {
     "name": "stdout",
     "output_type": "stream",
     "text": [
      "epoch: 4, [batch: 2016 / 6720], examples_per_second: 3230.9020, train_label_loss: 1.2292, \n"
     ]
    },
    {
     "name": "stdout",
     "output_type": "stream",
     "text": [
      "epoch: 4, [batch: 2688 / 6720], examples_per_second: 3216.8267, train_label_loss: 1.1234, \n"
     ]
    },
    {
     "name": "stdout",
     "output_type": "stream",
     "text": [
      "epoch: 4, [batch: 3360 / 6720], examples_per_second: 3227.7825, train_label_loss: 0.9030, \n"
     ]
    },
    {
     "name": "stdout",
     "output_type": "stream",
     "text": [
      "epoch: 4, [batch: 4032 / 6720], examples_per_second: 3241.4437, train_label_loss: 1.2710, \n"
     ]
    },
    {
     "name": "stdout",
     "output_type": "stream",
     "text": [
      "epoch: 4, [batch: 4704 / 6720], examples_per_second: 3242.2409, train_label_loss: 1.2010, \n"
     ]
    },
    {
     "name": "stdout",
     "output_type": "stream",
     "text": [
      "epoch: 4, [batch: 5376 / 6720], examples_per_second: 3239.5922, train_label_loss: 1.1441, \n"
     ]
    },
    {
     "name": "stdout",
     "output_type": "stream",
     "text": [
      "epoch: 4, [batch: 6048 / 6720], examples_per_second: 3235.5635, train_label_loss: 1.1826, \n"
     ]
    },
    {
     "name": "stdout",
     "output_type": "stream",
     "text": [
      "=============================================================\n",
      "epoch: 4, source_val_acc_label: 0.5449, target_val_acc_label: 0.5356, source_val_label_loss: 1.2147, target_val_label_loss: 48406.0664, \n",
      "=============================================================\n"
     ]
    },
    {
     "name": "stdout",
     "output_type": "stream",
     "text": [
      "epoch: 5, [batch: 1 / 6720], examples_per_second: 5.5526, train_label_loss: 1.1188, \n"
     ]
    },
    {
     "name": "stdout",
     "output_type": "stream",
     "text": [
      "epoch: 5, [batch: 672 / 6720], examples_per_second: 3214.2377, train_label_loss: 1.0065, \n"
     ]
    },
    {
     "name": "stdout",
     "output_type": "stream",
     "text": [
      "epoch: 5, [batch: 1344 / 6720], examples_per_second: 3230.9639, train_label_loss: 1.5791, \n"
     ]
    },
    {
     "name": "stdout",
     "output_type": "stream",
     "text": [
      "epoch: 5, [batch: 2016 / 6720], examples_per_second: 3242.1691, train_label_loss: 1.4885, \n"
     ]
    },
    {
     "name": "stdout",
     "output_type": "stream",
     "text": [
      "epoch: 5, [batch: 2688 / 6720], examples_per_second: 3230.7034, train_label_loss: 0.7868, \n"
     ]
    },
    {
     "name": "stdout",
     "output_type": "stream",
     "text": [
      "epoch: 5, [batch: 3360 / 6720], examples_per_second: 3245.7052, train_label_loss: 1.5619, \n"
     ]
    },
    {
     "name": "stdout",
     "output_type": "stream",
     "text": [
      "epoch: 5, [batch: 4032 / 6720], examples_per_second: 3235.1498, train_label_loss: 1.2239, \n"
     ]
    },
    {
     "name": "stdout",
     "output_type": "stream",
     "text": [
      "epoch: 5, [batch: 4704 / 6720], examples_per_second: 3225.0202, train_label_loss: 0.9184, \n"
     ]
    },
    {
     "name": "stdout",
     "output_type": "stream",
     "text": [
      "epoch: 5, [batch: 5376 / 6720], examples_per_second: 3231.9488, train_label_loss: 1.3917, \n"
     ]
    },
    {
     "name": "stdout",
     "output_type": "stream",
     "text": [
      "epoch: 5, [batch: 6048 / 6720], examples_per_second: 3244.2634, train_label_loss: 1.4618, \n"
     ]
    },
    {
     "name": "stdout",
     "output_type": "stream",
     "text": [
      "=============================================================\n",
      "epoch: 5, source_val_acc_label: 0.5415, target_val_acc_label: 0.5341, source_val_label_loss: 1.2011, target_val_label_loss: 50509.9102, \n",
      "=============================================================\n"
     ]
    },
    {
     "name": "stdout",
     "output_type": "stream",
     "text": [
      "epoch: 6, [batch: 1 / 6720], examples_per_second: 5.5653, train_label_loss: 1.1914, \n"
     ]
    },
    {
     "name": "stdout",
     "output_type": "stream",
     "text": [
      "epoch: 6, [batch: 672 / 6720], examples_per_second: 3224.1895, train_label_loss: 1.1366, \n"
     ]
    },
    {
     "name": "stdout",
     "output_type": "stream",
     "text": [
      "epoch: 6, [batch: 1344 / 6720], examples_per_second: 3239.0498, train_label_loss: 1.1354, \n"
     ]
    },
    {
     "name": "stdout",
     "output_type": "stream",
     "text": [
      "epoch: 6, [batch: 2016 / 6720], examples_per_second: 3240.7216, train_label_loss: 1.0276, \n"
     ]
    },
    {
     "name": "stdout",
     "output_type": "stream",
     "text": [
      "epoch: 6, [batch: 2688 / 6720], examples_per_second: 3238.6784, train_label_loss: 1.5697, \n"
     ]
    },
    {
     "name": "stdout",
     "output_type": "stream",
     "text": [
      "epoch: 6, [batch: 3360 / 6720], examples_per_second: 3232.5850, train_label_loss: 1.3283, \n"
     ]
    },
    {
     "name": "stdout",
     "output_type": "stream",
     "text": [
      "epoch: 6, [batch: 4032 / 6720], examples_per_second: 3238.0407, train_label_loss: 1.4623, \n"
     ]
    },
    {
     "name": "stdout",
     "output_type": "stream",
     "text": [
      "epoch: 6, [batch: 4704 / 6720], examples_per_second: 3220.6979, train_label_loss: 1.3920, \n"
     ]
    },
    {
     "name": "stdout",
     "output_type": "stream",
     "text": [
      "epoch: 6, [batch: 5376 / 6720], examples_per_second: 3233.4103, train_label_loss: 1.3891, \n"
     ]
    },
    {
     "name": "stdout",
     "output_type": "stream",
     "text": [
      "epoch: 6, [batch: 6048 / 6720], examples_per_second: 3242.5722, train_label_loss: 1.0015, \n"
     ]
    },
    {
     "name": "stdout",
     "output_type": "stream",
     "text": [
      "=============================================================\n",
      "epoch: 6, source_val_acc_label: 0.5434, target_val_acc_label: 0.5634, source_val_label_loss: 1.1958, target_val_label_loss: 74237.3594, \n",
      "=============================================================\n"
     ]
    },
    {
     "name": "stdout",
     "output_type": "stream",
     "text": [
      "Patience (3) exhausted\n"
     ]
    }
   ],
   "source": [
    "###################################\n",
    "# train\n",
    "###################################\n",
    "jig = PTN_Train_Eval_Test_Jig(model, p.BEST_MODEL_PATH, p.device)\n",
    "\n",
    "jig.train(\n",
    "    train_iterable=datasets.source.processed.train,\n",
    "    source_val_iterable=datasets.source.processed.val,\n",
    "    target_val_iterable=datasets.target.processed.val,\n",
    "    num_epochs=p.n_epoch,\n",
    "    num_logs_per_epoch=p.NUM_LOGS_PER_EPOCH,\n",
    "    patience=p.patience,\n",
    "    optimizer=optimizer,\n",
    "    criteria_for_best=p.criteria_for_best,\n",
    ")"
   ]
  },
  {
   "cell_type": "code",
   "execution_count": 23,
   "id": "31e8fabf",
   "metadata": {
    "execution": {
     "iopub.execute_input": "2022-03-18T07:27:11.819765Z",
     "iopub.status.busy": "2022-03-18T07:27:11.819517Z",
     "iopub.status.idle": "2022-03-18T07:27:11.837966Z",
     "shell.execute_reply": "2022-03-18T07:27:11.837664Z"
    },
    "papermill": {
     "duration": 0.048453,
     "end_time": "2022-03-18T07:27:11.838037",
     "exception": false,
     "start_time": "2022-03-18T07:27:11.789584",
     "status": "completed"
    },
    "tags": []
   },
   "outputs": [],
   "source": [
    "total_experiment_time_secs = time.time() - start_time_secs"
   ]
  },
  {
   "cell_type": "code",
   "execution_count": 24,
   "id": "87b9595b",
   "metadata": {
    "execution": {
     "iopub.execute_input": "2022-03-18T07:27:11.902447Z",
     "iopub.status.busy": "2022-03-18T07:27:11.902183Z",
     "iopub.status.idle": "2022-03-18T07:28:16.640948Z",
     "shell.execute_reply": "2022-03-18T07:28:16.640494Z"
    },
    "papermill": {
     "duration": 64.771533,
     "end_time": "2022-03-18T07:28:16.641057",
     "exception": false,
     "start_time": "2022-03-18T07:27:11.869524",
     "status": "completed"
    },
    "tags": []
   },
   "outputs": [],
   "source": [
    "###################################\n",
    "# Evaluate the model\n",
    "###################################\n",
    "source_test_label_accuracy, source_test_label_loss = jig.test(datasets.source.processed.test)\n",
    "target_test_label_accuracy, target_test_label_loss = jig.test(datasets.target.processed.test)\n",
    "\n",
    "source_val_label_accuracy, source_val_label_loss = jig.test(datasets.source.processed.val)\n",
    "target_val_label_accuracy, target_val_label_loss = jig.test(datasets.target.processed.val)\n",
    "\n",
    "history = jig.get_history()\n",
    "\n",
    "total_epochs_trained = len(history[\"epoch_indices\"])\n",
    "\n",
    "val_dl = Iterable_Aggregator((datasets.source.original.val,datasets.target.original.val))\n",
    "\n",
    "confusion = ptn_confusion_by_domain_over_dataloader(model, p.device, val_dl)\n",
    "per_domain_accuracy = per_domain_accuracy_from_confusion(confusion)\n",
    "\n",
    "# Add a key to per_domain_accuracy for if it was a source domain\n",
    "for domain, accuracy in per_domain_accuracy.items():\n",
    "    per_domain_accuracy[domain] = {\n",
    "        \"accuracy\": accuracy,\n",
    "        \"source?\": domain in p.domains_source\n",
    "    }\n",
    "\n",
    "# Do an independent accuracy assesment JUST TO BE SURE!\n",
    "# _source_test_label_accuracy = independent_accuracy_assesment(model, datasets.source.processed.test, p.device)\n",
    "# _target_test_label_accuracy = independent_accuracy_assesment(model, datasets.target.processed.test, p.device)\n",
    "# _source_val_label_accuracy = independent_accuracy_assesment(model, datasets.source.processed.val, p.device)\n",
    "# _target_val_label_accuracy = independent_accuracy_assesment(model, datasets.target.processed.val, p.device)\n",
    "\n",
    "# assert(_source_test_label_accuracy == source_test_label_accuracy)\n",
    "# assert(_target_test_label_accuracy == target_test_label_accuracy)\n",
    "# assert(_source_val_label_accuracy == source_val_label_accuracy)\n",
    "# assert(_target_val_label_accuracy == target_val_label_accuracy)\n",
    "\n",
    "experiment = {\n",
    "    \"experiment_name\": p.experiment_name,\n",
    "    \"parameters\": dict(p),\n",
    "    \"results\": {\n",
    "        \"source_test_label_accuracy\": source_test_label_accuracy,\n",
    "        \"source_test_label_loss\": source_test_label_loss,\n",
    "        \"target_test_label_accuracy\": target_test_label_accuracy,\n",
    "        \"target_test_label_loss\": target_test_label_loss,\n",
    "        \"source_val_label_accuracy\": source_val_label_accuracy,\n",
    "        \"source_val_label_loss\": source_val_label_loss,\n",
    "        \"target_val_label_accuracy\": target_val_label_accuracy,\n",
    "        \"target_val_label_loss\": target_val_label_loss,\n",
    "        \"total_epochs_trained\": total_epochs_trained,\n",
    "        \"total_experiment_time_secs\": total_experiment_time_secs,\n",
    "        \"confusion\": confusion,\n",
    "        \"per_domain_accuracy\": per_domain_accuracy,\n",
    "    },\n",
    "    \"history\": history,\n",
    "    \"dataset_metrics\": get_dataset_metrics(datasets, \"ptn\"),\n",
    "}"
   ]
  },
  {
   "cell_type": "code",
   "execution_count": 25,
   "id": "54a21829",
   "metadata": {
    "execution": {
     "iopub.execute_input": "2022-03-18T07:28:16.704754Z",
     "iopub.status.busy": "2022-03-18T07:28:16.704491Z",
     "iopub.status.idle": "2022-03-18T07:28:16.831266Z",
     "shell.execute_reply": "2022-03-18T07:28:16.831667Z"
    },
    "papermill": {
     "duration": 0.157011,
     "end_time": "2022-03-18T07:28:16.831797",
     "exception": false,
     "start_time": "2022-03-18T07:28:16.674786",
     "status": "completed"
    },
    "tags": []
   },
   "outputs": [
    {
     "data": {
      "image/png": "[encoded data removed]",
      "text/plain": [
       "<Figure size 1080x504 with 1 Axes>"
      ]
     },
     "metadata": {
      "needs_background": "light"
     },
     "output_type": "display_data"
    }
   ],
   "source": [
    "ax = get_loss_curve(experiment)\n",
    "plt.show()"
   ]
  },
  {
   "cell_type": "code",
   "execution_count": 26,
   "id": "fd8a0f60",
   "metadata": {
    "execution": {
     "iopub.execute_input": "2022-03-18T07:28:16.894506Z",
     "iopub.status.busy": "2022-03-18T07:28:16.894241Z",
     "iopub.status.idle": "2022-03-18T07:28:17.038973Z",
     "shell.execute_reply": "2022-03-18T07:28:17.039307Z"
    },
    "papermill": {
     "duration": 0.175424,
     "end_time": "2022-03-18T07:28:17.039418",
     "exception": false,
     "start_time": "2022-03-18T07:28:16.863994",
     "status": "completed"
    },
    "tags": []
   },
   "outputs": [
    {
     "data": {
      "text/plain": [
       "<AxesSubplot:title={'center':'Results'}>"
      ]
     },
     "execution_count": 26,
     "metadata": {},
     "output_type": "execute_result"
    },
    {
     "data": {
      "image/png": "[encoded data removed]",
      "text/plain": [
       "<Figure size 1080x504 with 1 Axes>"
      ]
     },
     "metadata": {
      "needs_background": "light"
     },
     "output_type": "display_data"
    }
   ],
   "source": [
    "get_results_table(experiment)"
   ]
  },
  {
   "cell_type": "code",
   "execution_count": 27,
   "id": "cf8dc689",
   "metadata": {
    "execution": {
     "iopub.execute_input": "2022-03-18T07:28:17.104122Z",
     "iopub.status.busy": "2022-03-18T07:28:17.103868Z",
     "iopub.status.idle": "2022-03-18T07:28:17.259559Z",
     "shell.execute_reply": "2022-03-18T07:28:17.259935Z"
    },
    "papermill": {
     "duration": 0.187809,
     "end_time": "2022-03-18T07:28:17.260046",
     "exception": false,
     "start_time": "2022-03-18T07:28:17.072237",
     "status": "completed"
    },
    "tags": []
   },
   "outputs": [
    {
     "data": {
      "text/plain": [
       "<AxesSubplot:title={'center':'Per Domain Validation Accuracy'}, xlabel='domain'>"
      ]
     },
     "execution_count": 27,
     "metadata": {},
     "output_type": "execute_result"
    },
    {
     "data": {
      "image/png": "[encoded data removed]",
      "text/plain": [
       "<Figure size 1080x504 with 1 Axes>"
      ]
     },
     "metadata": {
      "needs_background": "light"
     },
     "output_type": "display_data"
    }
   ],
   "source": [
    "get_domain_accuracies(experiment)"
   ]
  },
  {
   "cell_type": "code",
   "execution_count": 28,
   "id": "a74ae082",
   "metadata": {
    "execution": {
     "iopub.execute_input": "2022-03-18T07:28:17.328506Z",
     "iopub.status.busy": "2022-03-18T07:28:17.328254Z",
     "iopub.status.idle": "2022-03-18T07:28:17.344056Z",
     "shell.execute_reply": "2022-03-18T07:28:17.343609Z"
    },
    "papermill": {
     "duration": 0.048675,
     "end_time": "2022-03-18T07:28:17.344145",
     "exception": false,
     "start_time": "2022-03-18T07:28:17.295470",
     "status": "completed"
    },
    "tags": []
   },
   "outputs": [
    {
     "name": "stdout",
     "output_type": "stream",
     "text": [
      "Source Test Label Accuracy: 0.39430338541666665 Target Test Label Accuracy: 0.5184075342465754\n",
      "Source Val Label Accuracy: 0.38896484375 Target Val Label Accuracy: 0.5185145547945206\n"
     ]
    }
   ],
   "source": [
    "print(\"Source Test Label Accuracy:\", experiment[\"results\"][\"source_test_label_accuracy\"], \"Target Test Label Accuracy:\", experiment[\"results\"][\"target_test_label_accuracy\"])\n",
    "print(\"Source Val Label Accuracy:\", experiment[\"results\"][\"source_val_label_accuracy\"], \"Target Val Label Accuracy:\", experiment[\"results\"][\"target_val_label_accuracy\"])"
   ]
  },
  {
   "cell_type": "code",
   "execution_count": 29,
   "id": "dacca602",
   "metadata": {
    "execution": {
     "iopub.execute_input": "2022-03-18T07:28:17.410397Z",
     "iopub.status.busy": "2022-03-18T07:28:17.410148Z",
     "iopub.status.idle": "2022-03-18T07:28:17.430512Z",
     "shell.execute_reply": "2022-03-18T07:28:17.430882Z"
    },
    "papermill": {
     "duration": 0.053268,
     "end_time": "2022-03-18T07:28:17.430989",
     "exception": false,
     "start_time": "2022-03-18T07:28:17.377721",
     "status": "completed"
    },
    "tags": [
     "experiment_json"
    ]
   },
   "outputs": [
    {
     "data": {
      "text/plain": [
       "'{\"experiment_name\": \"tl_3-jitter10:oracle.run1.framed -> cores+wisig\", \"parameters\": {\"experiment_name\": \"tl_3-jitter10:oracle.run1.framed -> cores+wisig\", \"device\": \"cuda\", \"lr\": 0.001, \"seed\": 1337, \"dataset_seed\": 1337, \"n_shot\": 3, \"n_query\": 2, \"train_k_factor\": 3, \"val_k_factor\": 2, \"test_k_factor\": 2, \"torch_default_dtype\": \"torch.float32\", \"n_epoch\": 50, \"patience\": 3, \"criteria_for_best\": \"target_loss\", \"x_net\": [{\"class\": \"nnReshape\", \"kargs\": {\"shape\": [-1, 1, 2, 256]}}, {\"class\": \"Conv2d\", \"kargs\": {\"in_channels\": 1, \"out_channels\": 256, \"kernel_size\": [1, 7], \"bias\": false, \"padding\": [0, 3]}}, {\"class\": \"ReLU\", \"kargs\": {\"inplace\": true}}, {\"class\": \"BatchNorm2d\", \"kargs\": {\"num_features\": 256}}, {\"class\": \"Conv2d\", \"kargs\": {\"in_channels\": 256, \"out_channels\": 80, \"kernel_size\": [2, 7], \"bias\": true, \"padding\": [0, 3]}}, {\"class\": \"ReLU\", \"kargs\": {\"inplace\": true}}, {\"class\": \"BatchNorm2d\", \"kargs\": {\"num_features\": 80}}, {\"class\": \"Flatten\", \"kargs\": {}}, {\"class\": \"Linear\", \"kargs\": {\"in_features\": 20480, \"out_features\": 256}}, {\"class\": \"ReLU\", \"kargs\": {\"inplace\": true}}, {\"class\": \"BatchNorm1d\", \"kargs\": {\"num_features\": 256}}, {\"class\": \"Linear\", \"kargs\": {\"in_features\": 256, \"out_features\": 256}}], \"NUM_LOGS_PER_EPOCH\": 10, \"BEST_MODEL_PATH\": \"./best_model.pth\", \"n_way\": 16, \"datasets\": [{\"labels\": [\"1-10.\", \"1-11.\", \"1-15.\", \"1-16.\", \"1-17.\", \"1-18.\", \"1-19.\", \"10-4.\", \"10-7.\", \"11-1.\", \"11-14.\", \"11-17.\", \"11-20.\", \"11-7.\", \"13-20.\", \"13-8.\", \"14-10.\", \"14-11.\", \"14-14.\", \"14-7.\", \"15-1.\", \"15-20.\", \"16-1.\", \"16-16.\", \"17-10.\", \"17-11.\", \"17-2.\", \"19-1.\", \"19-16.\", \"19-19.\", \"19-20.\", \"19-3.\", \"2-10.\", \"2-11.\", \"2-17.\", \"2-18.\", \"2-20.\", \"2-3.\", \"2-4.\", \"2-5.\", \"2-6.\", \"2-7.\", \"2-8.\", \"3-13.\", \"3-18.\", \"3-3.\", \"4-1.\", \"4-10.\", \"4-11.\", \"4-19.\", \"5-5.\", \"6-15.\", \"7-10.\", \"7-14.\", \"8-18.\", \"8-20.\", \"8-3.\", \"8-8.\"], \"domains\": [1, 2, 3, 4, 5], \"num_examples_per_domain_per_label\": 100, \"pickle_path\": \"/mnt/wd500GB/CSC500/csc500-main/datasets/cores.stratified_ds.2022A.pkl\", \"source_or_target_dataset\": \"target\", \"x_transforms\": [\"jitter_256_10\", \"take_200\"], \"episode_transforms\": [], \"domain_prefix\": \"C_A_\"}, {\"labels\": [\"1-10\", \"1-12\", \"1-14\", \"1-16\", \"1-18\", \"1-19\", \"1-8\", \"10-11\", \"10-17\", \"10-4\", \"10-7\", \"11-1\", \"11-10\", \"11-19\", \"11-20\", \"11-4\", \"11-7\", \"12-19\", \"12-20\", \"12-7\", \"13-14\", \"13-18\", \"13-19\", \"13-20\", \"13-3\", \"13-7\", \"14-10\", \"14-11\", \"14-12\", \"14-13\", \"14-14\", \"14-19\", \"14-20\", \"14-7\", \"14-8\", \"14-9\", \"15-1\", \"15-19\", \"15-6\", \"16-1\", \"16-16\", \"16-19\", \"16-20\", \"17-10\", \"17-11\", \"18-1\", \"18-10\", \"18-11\", \"18-12\", \"18-13\", \"18-14\", \"18-15\", \"18-16\", \"18-17\", \"18-19\", \"18-2\", \"18-20\", \"18-4\", \"18-5\", \"18-7\", \"18-8\", \"18-9\", \"19-1\", \"19-10\", \"19-11\", \"19-12\", \"19-13\", \"19-14\", \"19-15\", \"19-19\", \"19-2\", \"19-20\", \"19-3\", \"19-4\", \"19-6\", \"19-7\", \"19-8\", \"19-9\", \"2-1\", \"2-13\", \"2-15\", \"2-3\", \"2-4\", \"2-5\", \"2-6\", \"2-7\", \"2-8\", \"20-1\", \"20-12\", \"20-14\", \"20-15\", \"20-16\", \"20-18\", \"20-19\", \"20-20\", \"20-3\", \"20-4\", \"20-5\", \"20-7\", \"20-8\", \"3-1\", \"3-13\", \"3-18\", \"3-2\", \"3-8\", \"4-1\", \"4-10\", \"4-11\", \"5-1\", \"5-5\", \"6-1\", \"6-15\", \"6-6\", \"7-10\", \"7-11\", \"7-12\", \"7-13\", \"7-14\", \"7-7\", \"7-8\", \"7-9\", \"8-1\", \"8-13\", \"8-14\", \"8-18\", \"8-20\", \"8-3\", \"8-8\", \"9-1\", \"9-7\"], \"domains\": [1, 2, 3, 4], \"num_examples_per_domain_per_label\": 100, \"pickle_path\": \"/mnt/wd500GB/CSC500/csc500-main/datasets/wisig.node3-19.stratified_ds.2022A.pkl\", \"source_or_target_dataset\": \"target\", \"x_transforms\": [\"jitter_256_10\", \"take_200\"], \"episode_transforms\": [], \"domain_prefix\": \"W_A_\"}, {\"labels\": [\"3123D52\", \"3123D65\", \"3123D79\", \"3123D80\", \"3123D54\", \"3123D70\", \"3123D7B\", \"3123D89\", \"3123D58\", \"3123D76\", \"3123D7D\", \"3123EFE\", \"3123D64\", \"3123D78\", \"3123D7E\", \"3124E4A\"], \"domains\": [32, 38, 8, 44, 14, 50, 20, 26], \"num_examples_per_domain_per_label\": 2000, \"pickle_path\": \"/mnt/wd500GB/CSC500/csc500-main/datasets/oracle.Run1_framed_2000Examples_stratified_ds.2022A.pkl\", \"source_or_target_dataset\": \"source\", \"x_transforms\": [\"jitter_256_10\", \"take_200\", \"resample_20Msps_to_25Msps\"], \"episode_transforms\": [], \"domain_prefix\": \"ORACLE.run1_\"}], \"x_shape\": [2, 256], \"domains_source\": [\"ORACLE.run1_32\", \"ORACLE.run1_38\", \"ORACLE.run1_8\", \"ORACLE.run1_44\", \"ORACLE.run1_14\", \"ORACLE.run1_50\", \"ORACLE.run1_20\", \"ORACLE.run1_26\"], \"domains_target\": [\"C_A_1\", \"C_A_2\", \"C_A_3\", \"C_A_4\", \"C_A_5\", \"W_A_1\", \"W_A_2\", \"W_A_3\", \"W_A_4\"]}, \"results\": {\"source_test_label_accuracy\": 0.39430338541666665, \"source_test_label_loss\": 3.8697118759155273, \"target_test_label_accuracy\": 0.5184075342465754, \"target_test_label_loss\": 40608.12109375, \"source_val_label_accuracy\": 0.38896484375, \"source_val_label_loss\": 3.927903175354004, \"target_val_label_accuracy\": 0.5185145547945206, \"target_val_label_loss\": 40854.16796875, \"total_epochs_trained\": 6, \"total_experiment_time_secs\": 1112.3583295345306, \"confusion\": {\"ORACLE.run1_14\": {\"15\": {\"15\": 240}, \"3\": {\"2\": 13, \"3\": 109, \"6\": 29, \"0\": 22, \"7\": 44, \"14\": 7, \"13\": 16}, \"6\": {\"6\": 103, \"0\": 13, \"14\": 6, \"7\": 12, \"3\": 64, \"13\": 37, \"2\": 4, \"8\": 1}, \"1\": {\"1\": 154, \"9\": 86}, \"8\": {\"0\": 39, \"14\": 7, \"2\": 50, \"5\": 78, \"8\": 50, \"12\": 14, \"13\": 2}, \"10\": {\"10\": 198, \"4\": 38, \"1\": 1, \"9\": 2, \"12\": 1}, \"9\": {\"1\": 141, \"9\": 96, \"10\": 3}, \"13\": {\"5\": 21, \"8\": 14, \"2\": 12, \"3\": 21, \"15\": 23, \"6\": 54, \"7\": 12, \"12\": 12, \"13\": 30, \"14\": 9, \"0\": 25, \"4\": 7}, \"12\": {\"4\": 106, \"12\": 106, \"5\": 9, \"8\": 5, \"2\": 13, \"13\": 1}, \"5\": {\"14\": 6, \"0\": 45, \"2\": 46, \"5\": 85, \"12\": 13, \"8\": 40, \"13\": 1, \"7\": 3, \"4\": 1}, \"0\": {\"14\": 21, \"5\": 37, \"7\": 21, \"0\": 51, \"3\": 23, \"12\": 18, \"4\": 9, \"8\": 15, \"6\": 8, \"13\": 11, \"2\": 26}, \"2\": {\"4\": 21, \"0\": 25, \"5\": 36, \"6\": 17, \"12\": 31, \"8\": 28, \"3\": 21, \"13\": 7, \"2\": 25, \"14\": 10, \"7\": 19}, \"11\": {\"11\": 240}, \"14\": {\"2\": 31, \"14\": 37, \"3\": 24, \"7\": 42, \"0\": 76, \"8\": 6, \"13\": 14, \"5\": 9, \"6\": 1}, \"7\": {\"2\": 23, \"3\": 45, \"7\": 67, \"0\": 62, \"14\": 35, \"13\": 6, \"5\": 1, \"6\": 1}, \"4\": {\"4\": 194, \"12\": 33, \"10\": 11, \"2\": 2}}, \"ORACLE.run1_20\": {\"3\": {\"1\": 58, \"5\": 52, \"3\": 64, \"14\": 28, \"8\": 22, \"9\": 16}, \"15\": {\"6\": 33, \"13\": 10, \"12\": 28, \"1\": 18, \"2\": 58, \"4\": 41, \"9\": 4, \"7\": 27, \"15\": 17, \"5\": 3, \"3\": 1}, \"8\": {\"8\": 108, \"14\": 64, \"3\": 41, \"5\": 14, \"1\": 6, \"0\": 6, \"9\": 1}, \"4\": {\"6\": 18, \"2\": 64, \"13\": 22, \"7\": 12, \"4\": 85, \"12\": 23, \"15\": 13, \"10\": 3}, \"14\": {\"8\": 73, \"14\": 51, \"1\": 16, \"3\": 64, \"5\": 30, \"9\": 4, \"0\": 2}, \"0\": {\"0\": 142, \"11\": 63, \"14\": 9, \"8\": 21, \"3\": 5}, \"7\": {\"7\": 35, \"5\": 6, \"1\": 80, \"6\": 43, \"2\": 34, \"12\": 10, \"3\": 2, \"9\": 7, \"15\": 9, \"4\": 14}, \"6\": {\"7\": 44, \"6\": 34, \"1\": 56, \"15\": 13, \"12\": 11, \"9\": 11, \"2\": 45, \"4\": 19, \"3\": 3, \"5\": 4}, \"10\": {\"10\": 149, \"13\": 85, \"4\": 6}, \"5\": {\"5\": 53, \"3\": 51, \"1\": 89, \"14\": 12, \"9\": 27, \"6\": 2, \"8\": 5, \"7\": 1}, \"2\": {\"7\": 23, \"6\": 38, \"2\": 71, \"4\": 41, \"12\": 32, \"15\": 17, \"1\": 9, \"9\": 3, \"13\": 6}, \"12\": {\"6\": 28, \"2\": 72, \"15\": 13, \"7\": 20, \"1\": 7, \"12\": 30, \"4\": 66, \"9\": 1, \"13\": 3}, \"9\": {\"1\": 134, \"3\": 23, \"6\": 10, \"5\": 36, \"7\": 14, \"9\": 18, \"4\": 2, \"15\": 1, \"8\": 2}, \"1\": {\"1\": 125, \"9\": 27, \"3\": 21, \"5\": 40, \"7\": 9, \"6\": 14, \"2\": 2, \"15\": 1, \"4\": 1}, \"11\": {\"11\": 177, \"0\": 63}, \"13\": {\"13\": 116, \"10\": 41, \"15\": 2, \"2\": 8, \"4\": 65, \"12\": 8}}, \"ORACLE.run1_38\": {\"5\": {\"5\": 73, \"12\": 45, \"8\": 33, \"9\": 27, \"2\": 37, \"15\": 19, \"0\": 1, \"7\": 5}, \"8\": {\"7\": 14, \"5\": 64, \"15\": 11, \"9\": 24, \"2\": 45, \"12\": 53, \"8\": 27, \"14\": 2}, \"11\": {\"11\": 184, \"3\": 56}, \"1\": {\"1\": 177, \"6\": 63}, \"10\": {\"10\": 100, \"0\": 77, \"4\": 36, \"13\": 16, \"3\": 10, \"7\": 1}, \"15\": {\"15\": 175, \"12\": 19, \"8\": 6, \"6\": 7, \"5\": 22, \"1\": 10, \"9\": 1}, \"3\": {\"3\": 224, \"11\": 16}, \"7\": {\"2\": 119, \"9\": 12, \"7\": 59, \"4\": 3, \"8\": 6, \"0\": 13, \"14\": 19, \"13\": 6, \"5\": 3}, \"4\": {\"13\": 48, \"10\": 25, \"0\": 94, \"4\": 69, \"7\": 2, \"2\": 1, \"14\": 1}, \"14\": {\"2\": 117, \"0\": 19, \"14\": 10, \"9\": 12, \"4\": 15, \"7\": 49, \"13\": 10, \"8\": 4, \"5\": 4}, \"9\": {\"2\": 94, \"8\": 21, \"9\": 42, \"14\": 6, \"5\": 45, \"7\": 24, \"12\": 7, \"0\": 1}, \"12\": {\"5\": 108, \"12\": 86, \"8\": 39, \"9\": 5, \"15\": 2}, \"6\": {\"6\": 56, \"1\": 184}, \"2\": {\"5\": 9, \"7\": 64, \"2\": 112, \"9\": 27, \"14\": 16, \"8\": 8, \"13\": 2, \"0\": 2}, \"0\": {\"13\": 42, \"2\": 12, \"14\": 4, \"0\": 65, \"4\": 49, \"3\": 9, \"7\": 9, \"10\": 49, \"9\": 1}, \"13\": {\"13\": 56, \"0\": 91, \"4\": 54, \"2\": 6, \"10\": 17, \"14\": 6, \"7\": 10}}, \"ORACLE.run1_8\": {\"9\": {\"9\": 161, \"3\": 79}, \"10\": {\"5\": 52, \"7\": 34, \"10\": 24, \"13\": 52, \"6\": 26, \"1\": 50, \"11\": 2}, \"13\": {\"5\": 60, \"7\": 40, \"10\": 44, \"1\": 15, \"13\": 76, \"6\": 5}, \"0\": {\"0\": 240}, \"1\": {\"6\": 77, \"1\": 66, \"5\": 17, \"7\": 21, \"13\": 8, \"11\": 27, \"10\": 17, \"8\": 7}, \"15\": {\"12\": 85, \"15\": 109, \"2\": 46}, \"5\": {\"5\": 53, \"13\": 80, \"10\": 25, \"7\": 33, \"6\": 12, \"1\": 25, \"8\": 4, \"4\": 3, \"11\": 3, \"12\": 2}, \"3\": {\"3\": 225, \"9\": 12, \"2\": 3}, \"6\": {\"6\": 79, \"1\": 91, \"5\": 15, \"10\": 7, \"8\": 4, \"7\": 20, \"11\": 24}, \"11\": {\"1\": 49, \"11\": 34, \"7\": 9, \"6\": 50, \"8\": 33, \"4\": 45, \"5\": 8, \"10\": 5, \"14\": 7}, \"8\": {\"8\": 75, \"4\": 99, \"11\": 31, \"14\": 12, \"1\": 13, \"6\": 9, \"5\": 1}, \"4\": {\"8\": 75, \"4\": 148, \"11\": 13, \"14\": 4}, \"12\": {\"12\": 201, \"15\": 35, \"2\": 4}, \"14\": {\"14\": 190, \"4\": 30, \"8\": 16, \"11\": 4}, \"2\": {\"3\": 41, \"15\": 52, \"12\": 13, \"2\": 134}, \"7\": {\"7\": 78, \"5\": 41, \"6\": 28, \"10\": 23, \"1\": 52, \"13\": 14, \"11\": 4}}, \"ORACLE.run1_50\": {\"7\": {\"4\": 139, \"5\": 34, \"7\": 62, \"6\": 4, \"9\": 1}, \"3\": {\"3\": 164, \"12\": 10, \"11\": 21, \"6\": 25, \"9\": 12, \"5\": 8}, \"8\": {\"1\": 112, \"8\": 104, \"13\": 3, \"10\": 21}, \"2\": {\"14\": 79, \"2\": 99, \"0\": 60, \"10\": 2}, \"14\": {\"14\": 92, \"0\": 62, \"2\": 86}, \"4\": {\"5\": 36, \"7\": 68, \"4\": 124, \"15\": 3, \"9\": 5, \"6\": 4}, \"6\": {\"3\": 121, \"15\": 12, \"6\": 31, \"5\": 23, \"9\": 26, \"12\": 14, \"4\": 4, \"11\": 9}, \"15\": {\"3\": 93, \"5\": 54, \"9\": 19, \"12\": 11, \"6\": 43, \"4\": 3, \"15\": 13, \"11\": 4}, \"10\": {\"10\": 131, \"8\": 55, \"0\": 43, \"1\": 10, \"2\": 1}, \"11\": {\"3\": 110, \"11\": 59, \"15\": 3, \"6\": 30, \"5\": 8, \"9\": 15, \"12\": 13, \"13\": 2}, \"13\": {\"13\": 109, \"1\": 111, \"11\": 14, \"3\": 3, \"5\": 1, \"9\": 1, \"8\": 1}, \"9\": {\"3\": 96, \"6\": 45, \"9\": 20, \"5\": 48, \"12\": 8, \"11\": 10, \"15\": 9, \"4\": 3, \"7\": 1}, \"0\": {\"10\": 35, \"0\": 138, \"14\": 33, \"2\": 34}, \"1\": {\"1\": 127, \"8\": 59, \"13\": 38, \"10\": 13, \"0\": 2, \"12\": 1}, \"12\": {\"11\": 15, \"6\": 36, \"3\": 152, \"15\": 8, \"5\": 8, \"9\": 11, \"12\": 10}, \"5\": {\"7\": 34, \"5\": 70, \"3\": 28, \"1\": 2, \"9\": 11, \"4\": 53, \"6\": 17, \"12\": 7, \"11\": 8, \"15\": 10}}, \"ORACLE.run1_32\": {\"8\": {\"14\": 10, \"0\": 140, \"8\": 30, \"2\": 10, \"5\": 16, \"1\": 13, \"7\": 19, \"4\": 2}, \"14\": {\"0\": 136, \"7\": 19, \"2\": 16, \"5\": 7, \"14\": 17, \"8\": 22, \"1\": 20, \"4\": 3}, \"2\": {\"1\": 144, \"3\": 14, \"2\": 67, \"4\": 15}, \"0\": {\"0\": 165, \"15\": 1, \"8\": 12, \"5\": 19, \"7\": 34, \"14\": 9}, \"1\": {\"3\": 11, \"1\": 145, \"2\": 61, \"13\": 1, \"4\": 21, \"8\": 1}, \"10\": {\"10\": 236, \"12\": 4}, \"11\": {\"11\": 125, \"9\": 99, \"13\": 5, \"12\": 10, \"3\": 1}, \"5\": {\"15\": 49, \"5\": 52, \"7\": 24, \"0\": 96, \"8\": 17, \"14\": 2}, \"15\": {\"0\": 37, \"7\": 36, \"5\": 76, \"15\": 82, \"8\": 2, \"14\": 7}, \"3\": {\"4\": 32, \"3\": 81, \"1\": 76, \"2\": 38, \"13\": 13}, \"12\": {\"12\": 211, \"11\": 9, \"10\": 8, \"9\": 12}, \"7\": {\"0\": 150, \"7\": 35, \"14\": 7, \"8\": 18, \"5\": 27, \"15\": 3}, \"13\": {\"3\": 95, \"4\": 31, \"2\": 14, \"9\": 19, \"13\": 48, \"1\": 31, \"11\": 2}, \"6\": {\"6\": 240}, \"4\": {\"3\": 59, \"1\": 97, \"2\": 56, \"4\": 22, \"13\": 6}, \"9\": {\"10\": 3, \"3\": 24, \"11\": 62, \"12\": 46, \"13\": 41, \"4\": 6, \"9\": 57, \"1\": 1}}, \"ORACLE.run1_26\": {\"4\": {\"4\": 226, \"13\": 14}, \"12\": {\"12\": 27, \"3\": 89, \"2\": 42, \"9\": 22, \"8\": 18, \"13\": 2, \"7\": 40}, \"10\": {\"0\": 77, \"5\": 25, \"1\": 14, \"6\": 30, \"15\": 28, \"10\": 41, \"14\": 25}, \"0\": {\"0\": 165, \"2\": 17, \"1\": 6, \"10\": 25, \"14\": 14, \"8\": 2, \"15\": 3, \"6\": 3, \"5\": 2, \"7\": 2, \"9\": 1}, \"13\": {\"2\": 10, \"4\": 22, \"12\": 24, \"13\": 102, \"3\": 60, \"9\": 11, \"8\": 5, \"7\": 5, \"0\": 1}, \"9\": {\"2\": 54, \"3\": 54, \"7\": 46, \"0\": 11, \"9\": 25, \"12\": 19, \"13\": 3, \"8\": 28}, \"3\": {\"3\": 113, \"7\": 26, \"12\": 33, \"13\": 19, \"9\": 22, \"8\": 15, \"2\": 12}, \"2\": {\"2\": 105, \"3\": 16, \"9\": 11, \"8\": 26, \"12\": 6, \"7\": 36, \"10\": 1, \"0\": 35, \"14\": 2, \"15\": 1, \"6\": 1}, \"5\": {\"1\": 171, \"5\": 56, \"6\": 10, \"10\": 1, \"11\": 1, \"14\": 1}, \"14\": {\"10\": 42, \"14\": 19, \"0\": 70, \"1\": 29, \"6\": 38, \"5\": 30, \"11\": 2, \"15\": 10}, \"8\": {\"12\": 8, \"3\": 26, \"2\": 90, \"7\": 55, \"8\": 39, \"0\": 6, \"9\": 16}, \"7\": {\"7\": 53, \"3\": 51, \"2\": 71, \"9\": 17, \"12\": 19, \"8\": 28, \"0\": 1}, \"6\": {\"5\": 72, \"1\": 147, \"6\": 13, \"11\": 1, \"0\": 5, \"15\": 2}, \"11\": {\"5\": 34, \"1\": 133, \"6\": 7, \"11\": 66}, \"15\": {\"14\": 10, \"1\": 95, \"6\": 25, \"10\": 20, \"5\": 56, \"0\": 29, \"15\": 5}, \"1\": {\"1\": 140, \"11\": 32, \"5\": 43, \"6\": 17, \"15\": 5, \"0\": 3}}, \"ORACLE.run1_44\": {\"12\": {\"3\": 176, \"12\": 64}, \"7\": {\"9\": 23, \"4\": 98, \"7\": 41, \"14\": 14, \"5\": 42, \"6\": 5, \"10\": 15, \"2\": 2}, \"5\": {\"2\": 44, \"4\": 60, \"15\": 7, \"5\": 43, \"8\": 3, \"10\": 16, \"1\": 29, \"7\": 19, \"9\": 6, \"14\": 13}, \"15\": {\"2\": 84, \"14\": 10, \"15\": 15, \"1\": 75, \"0\": 8, \"4\": 14, \"5\": 14, \"7\": 2, \"8\": 14, \"10\": 3, \"9\": 1}, \"8\": {\"0\": 62, \"15\": 13, \"1\": 98, \"12\": 1, \"2\": 35, \"8\": 25, \"5\": 3, \"14\": 2, \"10\": 1}, \"2\": {\"2\": 73, \"15\": 24, \"1\": 114, \"4\": 5, \"8\": 15, \"5\": 7, \"10\": 2}, \"13\": {\"6\": 151, \"13\": 68, \"9\": 18, \"4\": 2, \"11\": 1}, \"4\": {\"4\": 57, \"7\": 33, \"15\": 8, \"2\": 41, \"1\": 21, \"10\": 16, \"9\": 23, \"5\": 22, \"6\": 8, \"14\": 9, \"8\": 2}, \"0\": {\"0\": 170, \"1\": 35, \"8\": 30, \"2\": 4, \"15\": 1}, \"6\": {\"6\": 190, \"9\": 23, \"13\": 18, \"4\": 5, \"10\": 2, \"5\": 1, \"7\": 1}, \"9\": {\"14\": 8, \"4\": 63, \"9\": 22, \"6\": 64, \"7\": 35, \"5\": 18, \"13\": 7, \"10\": 11, \"2\": 10, \"1\": 1, \"15\": 1}, \"11\": {\"11\": 238, \"13\": 2}, \"10\": {\"4\": 89, \"9\": 20, \"6\": 10, \"10\": 17, \"7\": 33, \"14\": 8, \"1\": 8, \"2\": 10, \"5\": 41, \"15\": 2, \"8\": 2}, \"14\": {\"14\": 10, \"4\": 73, \"9\": 5, \"7\": 41, \"2\": 34, \"10\": 22, \"5\": 41, \"1\": 8, \"15\": 5, \"8\": 1}, \"1\": {\"0\": 41, \"1\": 120, \"2\": 47, \"8\": 17, \"15\": 13, \"14\": 1, \"4\": 1}, \"3\": {\"3\": 167, \"12\": 70, \"0\": 3}}, \"C_A_3\": {\"43\": {\"37\": 1, \"43\": 7, \"49\": 1, \"53\": 1, \"34\": 1, \"23\": 1}, \"9\": {\"9\": 9, \"41\": 1, \"4\": 2}, \"6\": {\"6\": 9, \"45\": 1}, \"3\": {\"3\": 12}, \"16\": {\"10\": 2, \"16\": 8, \"25\": 1, \"11\": 1}, \"51\": {\"51\": 9, \"2\": 3}, \"31\": {\"24\": 4, \"19\": 1, \"42\": 1, \"54\": 2, \"31\": 2, \"26\": 1, \"49\": 1}, \"46\": {\"44\": 2, \"46\": 6, \"5\": 1, \"50\": 1}, \"19\": {\"10\": 2, \"19\": 5, \"15\": 1}, \"8\": {\"14\": 1, \"8\": 7, \"9\": 1, \"4\": 1, \"29\": 1, \"33\": 1}, \"18\": {\"18\": 10, \"16\": 1, \"25\": 1}, \"37\": {\"37\": 10, \"17\": 1, \"36\": 1}, \"24\": {\"19\": 1, \"31\": 2, \"23\": 2, \"49\": 2, \"24\": 3, \"26\": 2}, \"10\": {\"10\": 7, \"11\": 2, \"28\": 2, \"15\": 1}, \"44\": {\"44\": 8, \"46\": 2}, \"14\": {\"14\": 8, \"8\": 1, \"33\": 1, \"39\": 2}, \"38\": {\"36\": 4, \"2\": 3, \"38\": 3}, \"53\": {\"53\": 9, \"25\": 1, \"23\": 1, \"11\": 1}, \"20\": {\"20\": 12}, \"32\": {\"36\": 1, \"32\": 6, \"13\": 3, \"39\": 2}, \"36\": {\"36\": 8, \"38\": 2}, \"33\": {\"33\": 11, \"39\": 1}, \"56\": {\"56\": 10, \"30\": 2}, \"23\": {\"23\": 9, \"31\": 2, \"24\": 1}, \"54\": {\"23\": 1, \"53\": 1, \"26\": 2, \"54\": 5, \"49\": 1}, \"34\": {\"43\": 3, \"37\": 3, \"34\": 4, \"42\": 1, \"55\": 1}, \"13\": {\"13\": 11, \"7\": 1}, \"2\": {\"2\": 10, \"38\": 1, \"17\": 1}, \"55\": {\"43\": 1, \"34\": 2, \"54\": 2, \"55\": 3, \"42\": 1, \"35\": 1}, \"21\": {\"50\": 1, \"21\": 7, \"44\": 2}, \"49\": {\"43\": 1, \"2\": 1, \"42\": 1, \"49\": 2, \"36\": 1, \"51\": 1, \"34\": 1, \"7\": 1, \"31\": 1}, \"25\": {\"25\": 8, \"18\": 1, \"53\": 1, \"16\": 1, \"11\": 1}, \"5\": {\"5\": 10, \"44\": 1, \"3\": 1}, \"50\": {\"21\": 1, \"5\": 1, \"3\": 3, \"50\": 3}, \"40\": {\"40\": 8, \"22\": 1, \"56\": 2, \"0\": 1}, \"57\": {\"57\": 4, \"29\": 1, \"27\": 1, \"14\": 1, \"1\": 1}, \"22\": {\"5\": 1, \"22\": 7, \"0\": 2}, \"1\": {\"41\": 2, \"1\": 3, \"48\": 2, \"9\": 1, \"4\": 2}, \"17\": {\"17\": 8, \"35\": 4}, \"41\": {\"4\": 1, \"1\": 3, \"41\": 3, \"48\": 1, \"29\": 2, \"9\": 1, \"47\": 1}, \"4\": {\"4\": 4, \"41\": 1, \"48\": 2, \"9\": 2, \"1\": 1}, \"7\": {\"37\": 2, \"36\": 1, \"13\": 2, \"9\": 1, \"7\": 2, \"47\": 2}, \"26\": {\"26\": 8, \"24\": 1, \"49\": 1}, \"29\": {\"57\": 2, \"29\": 8, \"8\": 1, \"27\": 1}, \"52\": {\"52\": 8, \"47\": 4}, \"15\": {\"15\": 11, \"25\": 1}, \"35\": {\"24\": 1, \"35\": 7, \"51\": 1, \"43\": 1, \"49\": 1, \"31\": 1}, \"42\": {\"42\": 9, \"37\": 1, \"43\": 1, \"34\": 1}, \"30\": {\"30\": 6, \"0\": 4}, \"27\": {\"27\": 6, \"57\": 1, \"14\": 1}, \"45\": {\"45\": 8, \"6\": 2}, \"0\": {\"0\": 11, \"22\": 1}, \"28\": {\"28\": 10, \"11\": 1, \"10\": 1}, \"47\": {\"47\": 10, \"52\": 2}, \"11\": {\"11\": 6, \"15\": 1, \"10\": 2, \"16\": 1}, \"39\": {\"39\": 9, \"13\": 1}, \"48\": {\"41\": 2, \"48\": 5, \"1\": 3, \"47\": 1, \"4\": 1}, \"12\": {\"12\": 5, \"3\": 1, \"50\": 1, \"6\": 1}}, \"C_A_4\": {\"35\": {\"51\": 1, \"24\": 1, \"17\": 2, \"33\": 1, \"31\": 1, \"37\": 2, \"38\": 1, \"32\": 1}, \"25\": {\"24\": 1, \"25\": 5, \"15\": 1, \"11\": 1, \"10\": 1, \"28\": 2, \"26\": 1}, \"24\": {\"32\": 3, \"24\": 4, \"42\": 1, \"55\": 1, \"31\": 1}, \"48\": {\"1\": 1, \"13\": 1, \"48\": 5, \"9\": 5}, \"51\": {\"51\": 12}, \"13\": {\"13\": 9, \"14\": 1, \"57\": 1, \"8\": 1}, \"14\": {\"13\": 2, \"1\": 1, \"39\": 1, \"14\": 2, \"37\": 1, \"48\": 1}, \"32\": {\"32\": 2, \"24\": 2, \"17\": 1, \"31\": 1, \"35\": 1, \"41\": 2, \"54\": 1, \"37\": 2}, \"30\": {\"30\": 8, \"5\": 2, \"46\": 1, \"44\": 1}, \"34\": {\"25\": 2, \"32\": 2, \"34\": 2, \"31\": 2, \"42\": 1, \"10\": 1}, \"9\": {\"48\": 4, \"9\": 7, \"4\": 1}, \"1\": {\"1\": 8, \"48\": 2, \"9\": 1, \"20\": 1}, \"0\": {\"0\": 11, \"21\": 1}, \"38\": {\"14\": 2, \"38\": 1, \"37\": 3, \"27\": 2, \"49\": 1, \"29\": 1, \"33\": 1, \"51\": 1}, \"22\": {\"30\": 1, \"22\": 6, \"5\": 1}, \"40\": {\"40\": 11, \"21\": 1}, \"39\": {\"14\": 1, \"39\": 8, \"27\": 3}, \"46\": {\"30\": 1, \"46\": 8, \"22\": 2, \"5\": 1}, \"36\": {\"36\": 11, \"7\": 1}, \"50\": {\"50\": 7, \"45\": 4, \"5\": 1}, \"49\": {\"36\": 5, \"49\": 2, \"23\": 2, \"54\": 1, \"51\": 1, \"37\": 1}, \"17\": {\"17\": 8, \"31\": 1, \"54\": 2, \"33\": 1}, \"45\": {\"50\": 5, \"45\": 5, \"3\": 2}, \"6\": {\"6\": 12}, \"8\": {\"8\": 11, \"4\": 1}, \"5\": {\"45\": 2, \"5\": 7, \"3\": 1}, \"33\": {\"38\": 3, \"33\": 7, \"7\": 2}, \"31\": {\"31\": 6, \"19\": 3, \"43\": 1, \"23\": 1, \"32\": 1}, \"37\": {\"35\": 3, \"37\": 5, \"33\": 1, \"57\": 1}, \"47\": {\"20\": 3, \"47\": 3, \"1\": 1, \"48\": 1}, \"15\": {\"15\": 6, \"16\": 1, \"11\": 1, \"10\": 2}, \"7\": {\"38\": 1, \"32\": 1, \"7\": 2, \"36\": 3, \"41\": 1, \"43\": 1, \"54\": 1, \"2\": 2}, \"20\": {\"20\": 9, \"52\": 1, \"1\": 2}, \"4\": {\"4\": 10, \"8\": 2}, \"54\": {\"54\": 10, \"55\": 1, \"43\": 1}, \"44\": {\"44\": 11, \"21\": 1}, \"3\": {\"3\": 9, \"45\": 1, \"50\": 1, \"5\": 1}, \"11\": {\"34\": 1, \"11\": 4, \"10\": 1, \"16\": 1, \"15\": 3}, \"27\": {\"39\": 2, \"27\": 8}, \"19\": {\"31\": 2, \"19\": 7, \"24\": 2, \"23\": 1}, \"55\": {\"54\": 3, \"33\": 1, \"7\": 2, \"41\": 2, \"55\": 3, \"49\": 1}, \"16\": {\"16\": 8, \"18\": 2, \"11\": 2}, \"2\": {\"8\": 2, \"2\": 2, \"29\": 3, \"27\": 1, \"14\": 1, \"39\": 1}, \"52\": {\"52\": 10}, \"42\": {\"26\": 3, \"42\": 5, \"15\": 1, \"41\": 1}, \"26\": {\"26\": 7, \"10\": 1, \"28\": 2, \"31\": 1, \"41\": 1}, \"10\": {\"10\": 9, \"16\": 1, \"15\": 1, \"26\": 1}, \"53\": {\"53\": 5, \"19\": 3, \"32\": 1, \"26\": 1}, \"28\": {\"28\": 9, \"10\": 1, \"16\": 2}, \"21\": {\"21\": 7, \"44\": 3}, \"57\": {\"57\": 5, \"13\": 1, \"4\": 1, \"48\": 1, \"29\": 2}, \"23\": {\"23\": 4, \"43\": 2, \"31\": 1, \"19\": 1}, \"43\": {\"42\": 1, \"43\": 6, \"41\": 1, \"55\": 1, \"24\": 1}, \"12\": {\"3\": 2, \"12\": 6, \"44\": 1, \"45\": 1, \"22\": 2}, \"41\": {\"43\": 1, \"54\": 1, \"41\": 9, \"33\": 1}, \"56\": {\"56\": 8}, \"18\": {\"18\": 10}, \"29\": {\"29\": 8}}, \"C_A_5\": {\"47\": {\"47\": 7, \"20\": 3}, \"53\": {\"53\": 11, \"31\": 1}, \"29\": {\"29\": 10, \"48\": 2}, \"52\": {\"52\": 11, \"1\": 1}, \"55\": {\"17\": 1, \"19\": 1, \"53\": 1, \"55\": 7, \"23\": 2}, \"17\": {\"49\": 1, \"55\": 1, \"34\": 2, \"17\": 5, \"23\": 1, \"54\": 1, \"33\": 1}, \"42\": {\"53\": 2, \"42\": 8, \"31\": 1, \"24\": 1}, \"33\": {\"49\": 2, \"54\": 3, \"34\": 1, \"55\": 1, \"38\": 1, \"33\": 2}, \"11\": {\"11\": 8, \"16\": 2, \"25\": 2}, \"19\": {\"53\": 3, \"19\": 4, \"24\": 1}, \"1\": {\"1\": 10, \"47\": 1, \"52\": 1}, \"44\": {\"44\": 10, \"5\": 1, \"12\": 1}, \"49\": {\"49\": 9, \"41\": 3}, \"4\": {\"4\": 10, \"40\": 2}, \"6\": {\"6\": 8, \"50\": 3, \"45\": 1}, \"39\": {\"39\": 8, \"27\": 1, \"7\": 1, \"14\": 2}, \"13\": {\"13\": 9, \"14\": 1, \"8\": 1, \"27\": 1}, \"5\": {\"5\": 5, \"44\": 1, \"3\": 1, \"6\": 1, \"12\": 2}, \"16\": {\"16\": 3, \"28\": 2, \"15\": 4, \"25\": 1}, \"25\": {\"25\": 3, \"16\": 4, \"15\": 1, \"19\": 1, \"18\": 1, \"42\": 1, \"11\": 1}, \"45\": {\"45\": 12}, \"7\": {\"7\": 9, \"14\": 1}, \"22\": {\"22\": 5, \"4\": 1, \"56\": 1, \"6\": 1, \"21\": 1, \"44\": 3}, \"40\": {\"22\": 1, \"4\": 3, \"40\": 5, \"46\": 1, \"44\": 2}, \"38\": {\"35\": 1, \"38\": 3, \"29\": 1, \"49\": 1, \"27\": 2, \"17\": 2, \"2\": 1, \"32\": 1}, \"35\": {\"7\": 1, \"38\": 1, \"36\": 1, \"35\": 3, \"32\": 1, \"23\": 1}, \"56\": {\"30\": 2, \"56\": 8, \"9\": 2}, \"50\": {\"50\": 8, \"6\": 2}, \"0\": {\"0\": 8, \"46\": 4}, \"10\": {\"10\": 11, \"28\": 1}, \"27\": {\"27\": 8, \"8\": 4}, \"20\": {\"20\": 7, \"47\": 1, \"57\": 2}, \"36\": {\"36\": 2, \"17\": 2, \"35\": 2, \"41\": 1, \"32\": 1}, \"34\": {\"34\": 7, \"38\": 1, \"33\": 2, \"55\": 1, \"54\": 1}, \"30\": {\"30\": 10, \"0\": 1, \"56\": 1}, \"2\": {\"2\": 3, \"43\": 3, \"37\": 1, \"38\": 2, \"36\": 1}, \"15\": {\"15\": 9, \"28\": 3}, \"18\": {\"18\": 12}, \"32\": {\"32\": 10, \"41\": 1, \"51\": 1}, \"31\": {\"31\": 5, \"49\": 2, \"26\": 3, \"42\": 2}, \"57\": {\"1\": 3, \"57\": 7, \"20\": 2}, \"48\": {\"48\": 6, \"29\": 2}, \"28\": {\"28\": 8, \"15\": 1, \"25\": 1}, \"14\": {\"14\": 8, \"8\": 4}, \"3\": {\"5\": 2, \"6\": 4, \"3\": 5, \"44\": 1}, \"8\": {\"8\": 8, \"14\": 1, \"27\": 3}, \"9\": {\"9\": 11, \"56\": 1}, \"21\": {\"21\": 9, \"9\": 1}, \"41\": {\"35\": 1, \"49\": 3, \"41\": 3, \"14\": 1, \"23\": 1, \"39\": 1, \"8\": 1, \"37\": 1}, \"24\": {\"49\": 2, \"24\": 6, \"55\": 1, \"31\": 1, \"34\": 2}, \"46\": {\"46\": 9, \"0\": 1}, \"43\": {\"41\": 1, \"43\": 6, \"2\": 3}, \"54\": {\"54\": 5, \"17\": 3, \"34\": 2}, \"23\": {\"23\": 9, \"31\": 1}, \"37\": {\"37\": 5, \"14\": 1, \"2\": 1, \"43\": 1, \"51\": 1, \"13\": 1}, \"12\": {\"12\": 8, \"5\": 2}, \"26\": {\"26\": 4, \"28\": 1, \"24\": 1, \"55\": 1, \"10\": 1, \"11\": 2}, \"51\": {\"51\": 6}}, \"W_A_3\": {\"109\": {\"109\": 10, \"36\": 2}, \"127\": {\"14\": 2, \"127\": 8, \"49\": 1, \"18\": 1}, \"14\": {\"14\": 7, \"127\": 1, \"84\": 2, \"69\": 2}, \"7\": {\"7\": 5, \"26\": 1, \"62\": 3, \"101\": 1, \"106\": 2}, \"129\": {\"46\": 1, \"129\": 7, \"119\": 1, \"73\": 2, \"42\": 1}, \"57\": {\"46\": 2, \"57\": 4, \"48\": 1, \"121\": 2, \"74\": 1, \"56\": 2}, \"84\": {\"84\": 8, \"7\": 1, \"62\": 1, \"8\": 1, \"0\": 1}, \"114\": {\"107\": 2, \"114\": 3, \"54\": 1, \"99\": 1, \"92\": 1, \"1\": 2, \"47\": 1, \"95\": 1}, \"44\": {\"107\": 1, \"100\": 1, \"14\": 2, \"1\": 2, \"44\": 4, \"38\": 1, \"75\": 1}, \"21\": {\"24\": 2, \"21\": 10}, \"46\": {\"57\": 1, \"46\": 5, \"85\": 1, \"66\": 1, \"121\": 1, \"28\": 2, \"65\": 1}, \"100\": {\"57\": 2, \"19\": 2, \"28\": 1, \"53\": 1, \"76\": 2, \"120\": 2, \"20\": 1, \"32\": 1}, \"63\": {\"63\": 7, \"100\": 1, \"119\": 2, \"13\": 1, \"98\": 1}, \"24\": {\"109\": 4, \"24\": 5, \"15\": 1, \"70\": 1, \"21\": 1}, \"107\": {\"107\": 7, \"54\": 1, \"100\": 1, \"1\": 1, \"53\": 1, \"76\": 1}, \"35\": {\"84\": 1, \"35\": 5, \"1\": 1, \"33\": 1, \"7\": 1, \"47\": 1}, \"81\": {\"33\": 1, \"57\": 1, \"83\": 4, \"29\": 1, \"38\": 1, \"54\": 1, \"75\": 1, \"53\": 1, \"107\": 1}, \"64\": {\"2\": 1, \"64\": 3, \"37\": 2, \"91\": 1, \"125\": 1, \"102\": 1, \"121\": 1, \"65\": 2}, \"59\": {\"105\": 1, \"59\": 6, \"86\": 1, \"124\": 2, \"2\": 2}, \"33\": {\"33\": 7, \"107\": 1, \"69\": 1, \"35\": 1, \"72\": 1, \"126\": 1}, \"34\": {\"57\": 2, \"53\": 2, \"3\": 1, \"34\": 3, \"54\": 1, \"75\": 1, \"25\": 2}, \"36\": {\"36\": 6, \"109\": 2, \"24\": 2, \"126\": 1, \"39\": 1}, \"79\": {\"79\": 9, \"80\": 1, \"104\": 1, \"102\": 1}, \"80\": {\"79\": 2, \"80\": 8, \"17\": 1, \"10\": 1}, \"77\": {\"64\": 1, \"77\": 2, \"102\": 1, \"41\": 1, \"29\": 2, \"58\": 1, \"50\": 1, \"28\": 1, \"42\": 1, \"45\": 1}, \"22\": {\"59\": 1, \"77\": 1, \"67\": 2, \"22\": 1, \"86\": 2, \"125\": 2, \"119\": 2, \"48\": 1}, \"124\": {\"77\": 1, \"2\": 1, \"124\": 5, \"103\": 1, \"117\": 1, \"123\": 1, \"89\": 1, \"90\": 1}, \"2\": {\"124\": 1, \"2\": 3, \"45\": 2, \"37\": 2, \"67\": 2, \"59\": 1, \"111\": 1}, \"87\": {\"87\": 10, \"122\": 2}, \"105\": {\"33\": 1, \"105\": 7, \"69\": 2, \"40\": 1, \"114\": 1}, \"95\": {\"97\": 1, \"126\": 1, \"95\": 3, \"3\": 1, \"61\": 2, \"66\": 1, \"64\": 1, \"81\": 1, \"107\": 1}, \"43\": {\"43\": 12}, \"56\": {\"128\": 2, \"25\": 1, \"56\": 4, \"9\": 1, \"83\": 1, \"57\": 1}, \"18\": {\"18\": 6, \"40\": 1, \"49\": 1, \"1\": 1, \"127\": 2, \"75\": 1}, \"85\": {\"46\": 1, \"85\": 4, \"32\": 1, \"41\": 1, \"117\": 1, \"92\": 1, \"121\": 2, \"14\": 1}, \"113\": {\"113\": 10, \"96\": 2}, \"97\": {\"113\": 2, \"43\": 2, \"97\": 3, \"7\": 1, \"93\": 1, \"96\": 1, \"94\": 2}, \"86\": {\"123\": 1, \"59\": 2, \"86\": 5, \"119\": 1, \"121\": 1, \"115\": 1, \"79\": 1}, \"128\": {\"95\": 2, \"38\": 2, \"61\": 1, \"128\": 4, \"92\": 1, \"44\": 1, \"28\": 1}, \"123\": {\"123\": 3, \"86\": 1, \"104\": 1, \"116\": 1, \"17\": 1, \"68\": 1, \"125\": 2, \"42\": 1, \"63\": 1}, \"8\": {\"113\": 2, \"0\": 2, \"8\": 7, \"97\": 1}, \"110\": {\"8\": 2, \"110\": 7, \"113\": 2, \"0\": 1}, \"126\": {\"43\": 2, \"126\": 3, \"109\": 2, \"87\": 2, \"122\": 1, \"36\": 2}, \"101\": {\"49\": 1, \"101\": 10, \"7\": 1}, \"115\": {\"68\": 1, \"115\": 7, \"79\": 2, \"58\": 1, \"119\": 1}, \"49\": {\"84\": 3, \"16\": 2, \"106\": 1, \"15\": 1, \"12\": 1, \"118\": 1, \"127\": 2, \"0\": 1}, \"45\": {\"65\": 1, \"42\": 3, \"45\": 2, \"90\": 1, \"52\": 3, \"115\": 1, \"117\": 1}, \"78\": {\"78\": 7, \"11\": 1, \"27\": 2, \"88\": 2}, \"65\": {\"65\": 2, \"42\": 1, \"92\": 1, \"50\": 1, \"25\": 2, \"58\": 1, \"46\": 1, \"55\": 1}, \"54\": {\"114\": 1, \"31\": 1, \"20\": 2, \"54\": 3, \"107\": 1, \"112\": 1, \"1\": 1, \"34\": 2}, \"31\": {\"44\": 1, \"54\": 1, \"34\": 1, \"31\": 3, \"127\": 2, \"116\": 1, \"56\": 1}, \"42\": {\"115\": 1, \"42\": 4, \"73\": 3, \"48\": 1, \"22\": 1, \"8\": 1, \"129\": 1}, \"68\": {\"68\": 7, \"104\": 1, \"5\": 2, \"37\": 2}, \"15\": {\"94\": 3, \"15\": 8, \"96\": 1}, \"69\": {\"69\": 6, \"105\": 3, \"26\": 1, \"35\": 1, \"51\": 1}, \"17\": {\"102\": 2, \"125\": 2, \"17\": 2, \"24\": 1, \"5\": 1, \"59\": 2}, \"73\": {\"73\": 7, \"120\": 1, \"28\": 1, \"66\": 1, \"92\": 1, \"50\": 1}, \"121\": {\"121\": 6, \"73\": 1, \"66\": 2, \"82\": 1, \"85\": 1, \"91\": 1}, \"102\": {\"102\": 8, \"119\": 1, \"6\": 1, \"68\": 1, \"37\": 1}, \"48\": {\"102\": 3, \"28\": 1, \"48\": 4, \"6\": 1, \"67\": 1, \"79\": 1, \"115\": 1}, \"23\": {\"69\": 2, \"43\": 2, \"113\": 1, \"23\": 1, \"96\": 1, \"15\": 1, \"14\": 2, \"8\": 2}, \"108\": {\"108\": 9, \"36\": 1, \"126\": 1, \"39\": 1}, \"53\": {\"57\": 1, \"53\": 3, \"99\": 2, \"1\": 1, \"71\": 2, \"31\": 1, \"107\": 2}, \"94\": {\"94\": 5, \"118\": 2, \"8\": 2, \"0\": 1}, \"41\": {\"41\": 1, \"73\": 1, \"5\": 1, \"55\": 1, \"85\": 1, \"89\": 1, \"38\": 1, \"129\": 1, \"45\": 1, \"57\": 1, \"117\": 1, \"115\": 1}, \"58\": {\"121\": 1, \"29\": 1, \"19\": 1, \"58\": 2, \"103\": 1, \"95\": 1, \"64\": 2, \"55\": 1, \"50\": 2}, \"29\": {\"82\": 1, \"58\": 1, \"120\": 1, \"52\": 1, \"91\": 2, \"29\": 5, \"42\": 1}, \"116\": {\"116\": 6, \"111\": 2, \"48\": 1, \"89\": 1, \"124\": 1, \"90\": 1}, \"60\": {\"60\": 5, \"49\": 1, \"3\": 1, \"96\": 2, \"62\": 2, \"12\": 1}, \"104\": {\"123\": 1, \"104\": 3, \"58\": 1, \"67\": 1, \"48\": 2, \"79\": 2, \"22\": 1, \"55\": 1}, \"106\": {\"106\": 4, \"16\": 3, \"12\": 2, \"7\": 1, \"101\": 1, \"60\": 1}, \"66\": {\"58\": 2, \"66\": 2, \"81\": 1, \"68\": 1, \"46\": 2, \"14\": 1, \"73\": 1, \"64\": 1, \"65\": 1}, \"47\": {\"47\": 9, \"99\": 2, \"114\": 1}, \"40\": {\"47\": 1, \"40\": 6, \"72\": 1, \"18\": 1, \"100\": 1, \"71\": 2}, \"82\": {\"121\": 2, \"82\": 3, \"52\": 1, \"36\": 1, \"58\": 1, \"42\": 1, \"29\": 1, \"64\": 1, \"103\": 1}, \"13\": {\"67\": 1, \"125\": 2, \"10\": 1, \"5\": 1, \"79\": 2, \"109\": 1, \"13\": 3, \"114\": 1}, \"19\": {\"58\": 1, \"76\": 1, \"95\": 1, \"128\": 1, \"19\": 2, \"100\": 1, \"20\": 2, \"61\": 2, \"112\": 1}, \"72\": {\"76\": 2, \"56\": 1, \"20\": 1, \"72\": 4, \"57\": 1, \"95\": 1, \"83\": 1, \"35\": 1}, \"9\": {\"76\": 1, \"72\": 1, \"9\": 4, \"103\": 1, \"56\": 1, \"1\": 1, \"42\": 1, \"74\": 1, \"53\": 1}, \"67\": {\"17\": 1, \"125\": 1, \"67\": 5, \"42\": 1, \"48\": 1, \"104\": 1, \"58\": 1, \"111\": 1}, \"11\": {\"11\": 9, \"36\": 2, \"43\": 1}, \"125\": {\"125\": 8, \"123\": 1, \"5\": 2, \"115\": 1}, \"76\": {\"76\": 3, \"9\": 1, \"100\": 1, \"31\": 1, \"107\": 1, \"64\": 1}, \"83\": {\"74\": 1, \"81\": 1, \"83\": 4, \"25\": 2, \"32\": 1, \"95\": 1, \"47\": 2}, \"74\": {\"81\": 1, \"102\": 1, \"74\": 3, \"25\": 1, \"38\": 1, \"99\": 1, \"57\": 1, \"33\": 1, \"61\": 1, \"53\": 1}, \"20\": {\"83\": 1, \"18\": 1, \"34\": 2, \"99\": 1, \"56\": 1, \"105\": 2, \"32\": 1, \"128\": 1, \"14\": 1, \"75\": 1}, \"119\": {\"119\": 4, \"129\": 1, \"82\": 1, \"86\": 1, \"111\": 1, \"42\": 1, \"115\": 1, \"58\": 1, \"64\": 1}, \"1\": {\"1\": 7, \"18\": 1, \"75\": 1, \"51\": 1, \"84\": 1, \"54\": 1}, \"16\": {\"106\": 4, \"16\": 5, \"49\": 2, \"62\": 1}, \"25\": {\"25\": 2, \"90\": 1, \"64\": 1, \"48\": 1, \"81\": 2, \"100\": 2, \"44\": 2, \"71\": 1}, \"90\": {\"90\": 3, \"45\": 1, \"55\": 1, \"50\": 1, \"6\": 1, \"124\": 1}, \"39\": {\"39\": 9, \"10\": 2, \"21\": 1}, \"28\": {\"25\": 2, \"28\": 1, \"120\": 1, \"103\": 2, \"20\": 1, \"73\": 1, \"50\": 1, \"76\": 1, \"29\": 1, \"44\": 1}, \"55\": {\"45\": 1, \"55\": 1, \"90\": 1, \"31\": 1, \"52\": 3, \"9\": 1, \"41\": 1, \"103\": 1, \"66\": 1, \"65\": 1}, \"117\": {\"45\": 3, \"104\": 1, \"48\": 1, \"114\": 1, \"85\": 1, \"124\": 1, \"69\": 1, \"117\": 3}, \"112\": {\"64\": 2, \"98\": 2, \"103\": 2, \"82\": 1, \"129\": 1, \"66\": 1, \"85\": 1, \"112\": 1, \"41\": 1}, \"38\": {\"38\": 3, \"74\": 2, \"53\": 1, \"100\": 1, \"19\": 1, \"20\": 1, \"55\": 1, \"112\": 1, \"92\": 1}, \"37\": {\"104\": 1, \"48\": 1, \"52\": 2, \"37\": 4, \"28\": 1, \"46\": 1, \"5\": 1, \"64\": 1}, \"120\": {\"48\": 1, \"120\": 3, \"55\": 1, \"5\": 1, \"61\": 1, \"125\": 1, \"85\": 1, \"92\": 2, \"25\": 1}, \"122\": {\"87\": 1, \"110\": 1, \"122\": 6, \"113\": 1, \"126\": 1, \"0\": 1, \"94\": 1}, \"50\": {\"120\": 1, \"5\": 1, \"92\": 1, \"50\": 5, \"25\": 2, \"83\": 1, \"6\": 1}, \"10\": {\"10\": 7, \"39\": 1, \"88\": 1, \"21\": 2, \"109\": 1}, \"5\": {\"5\": 8, \"13\": 1, \"68\": 1, \"112\": 1, \"117\": 1}, \"51\": {\"51\": 6, \"26\": 2, \"66\": 1, \"12\": 1, \"106\": 2}, \"3\": {\"34\": 1, \"10\": 1, \"3\": 6, \"75\": 1, \"35\": 1, \"1\": 1, \"108\": 1}, \"98\": {\"42\": 1, \"67\": 1, \"98\": 4, \"32\": 1, \"95\": 1, \"82\": 1, \"47\": 1, \"52\": 1, \"54\": 1}, \"70\": {\"39\": 2, \"70\": 6, \"88\": 1, \"27\": 2, \"21\": 1}, \"96\": {\"96\": 4, \"110\": 2, \"94\": 1, \"122\": 1, \"26\": 1, \"15\": 1, \"30\": 1, \"113\": 1}, \"12\": {\"60\": 1, \"12\": 7, \"106\": 3, \"26\": 1}, \"99\": {\"105\": 2, \"75\": 1, \"99\": 4, \"47\": 2, \"54\": 1, \"34\": 1, \"40\": 1}, \"52\": {\"55\": 2, \"89\": 1, \"66\": 2, \"81\": 1, \"52\": 2, \"45\": 1, \"98\": 1, \"64\": 1, \"37\": 1}, \"71\": {\"71\": 6, \"30\": 1, \"2\": 1, \"35\": 1, \"40\": 1, \"3\": 2}, \"89\": {\"9\": 2, \"91\": 1, \"85\": 1, \"92\": 1, \"50\": 1, \"89\": 4, \"76\": 2}, \"0\": {\"8\": 2, \"0\": 7, \"118\": 2, \"30\": 1}, \"4\": {\"4\": 7, \"119\": 2, \"118\": 1, \"15\": 1, \"8\": 1}, \"93\": {\"62\": 1, \"30\": 1, \"93\": 8, \"96\": 1, \"8\": 1}, \"6\": {\"91\": 1, \"79\": 1, \"117\": 1, \"111\": 1, \"22\": 2, \"50\": 2, \"6\": 2}, \"75\": {\"9\": 1, \"20\": 2, \"19\": 1, \"100\": 1, \"1\": 1, \"32\": 1, \"69\": 1, \"44\": 1, \"35\": 1, \"75\": 1, \"18\": 1}, \"62\": {\"62\": 9, \"93\": 2, \"7\": 1}, \"103\": {\"91\": 2, \"112\": 2, \"103\": 3, \"38\": 1, \"129\": 1, \"73\": 1, \"66\": 1, \"98\": 1}, \"30\": {\"30\": 11, \"36\": 1}, \"91\": {\"90\": 1, \"91\": 5, \"41\": 1, \"89\": 1, \"38\": 1, \"128\": 1, \"85\": 1, \"57\": 1}, \"27\": {\"27\": 9, \"39\": 2, \"24\": 1}, \"26\": {\"26\": 6, \"84\": 1, \"62\": 1, \"75\": 1, \"105\": 1, \"16\": 2}, \"61\": {\"95\": 1, \"128\": 1, \"92\": 1, \"83\": 1, \"32\": 3, \"28\": 1, \"44\": 2, \"76\": 1, \"53\": 1}, \"118\": {\"122\": 2, \"118\": 9, \"87\": 1}, \"92\": {\"61\": 1, \"92\": 6, \"65\": 1, \"32\": 1, \"82\": 1, \"120\": 2}, \"111\": {\"111\": 6, \"41\": 1, \"119\": 1, \"116\": 2, \"59\": 1, \"124\": 1}, \"32\": {\"32\": 7, \"44\": 1, \"61\": 1, \"92\": 2, \"57\": 1}, \"88\": {\"88\": 8, \"78\": 1, \"24\": 1}}, \"C_A_1\": {\"46\": {\"46\": 10, \"45\": 1, \"44\": 1}, \"16\": {\"16\": 11, \"28\": 1}, \"26\": {\"28\": 1, \"26\": 5, \"53\": 2, \"23\": 2, \"15\": 1, \"19\": 1}, \"10\": {\"16\": 1, \"10\": 9, \"25\": 1, \"28\": 1}, \"9\": {\"9\": 10}, \"28\": {\"16\": 3, \"28\": 7, \"53\": 1, \"10\": 1}, \"51\": {\"51\": 7, \"32\": 4, \"38\": 1}, \"1\": {\"1\": 11, \"36\": 1}, \"55\": {\"33\": 3, \"55\": 3, \"51\": 2, \"37\": 2, \"17\": 1, \"42\": 1}, \"27\": {\"27\": 10}, \"22\": {\"22\": 11, \"4\": 1}, \"52\": {\"52\": 8, \"22\": 1, \"57\": 2, \"30\": 1}, \"3\": {\"3\": 8, \"46\": 1, \"50\": 1, \"6\": 2}, \"33\": {\"33\": 8}, \"47\": {\"47\": 11, \"8\": 1}, \"42\": {\"42\": 10, \"55\": 1, \"17\": 1}, \"12\": {\"12\": 3, \"4\": 1}, \"23\": {\"19\": 3, \"26\": 1, \"23\": 6, \"35\": 1, \"34\": 1}, \"49\": {\"49\": 3, \"7\": 1, \"43\": 6}, \"7\": {\"55\": 2, \"7\": 4, \"37\": 1, \"43\": 2, \"32\": 1, \"51\": 1, \"49\": 1}, \"4\": {\"12\": 2, \"4\": 5, \"40\": 1, \"22\": 4}, \"50\": {\"50\": 11, \"45\": 1}, \"19\": {\"19\": 7, \"54\": 1, \"35\": 2, \"26\": 2}, \"11\": {\"11\": 11, \"16\": 1}, \"31\": {\"31\": 9, \"35\": 1}, \"41\": {\"49\": 1, \"33\": 1, \"38\": 2, \"41\": 4, \"43\": 2, \"36\": 2}, \"56\": {\"56\": 10}, \"0\": {\"0\": 11, \"20\": 1}, \"57\": {\"57\": 8, \"30\": 3, \"13\": 1}, \"53\": {\"53\": 10, \"26\": 1, \"34\": 1}, \"43\": {\"43\": 5, \"37\": 1, \"49\": 6}, \"37\": {\"33\": 2, \"39\": 1, \"37\": 5, \"55\": 1, \"31\": 1, \"49\": 2}, \"2\": {\"2\": 8}, \"6\": {\"6\": 10, \"56\": 1, \"44\": 1}, \"18\": {\"18\": 10, \"25\": 2}, \"38\": {\"39\": 5, \"36\": 1, \"43\": 2, \"51\": 2, \"38\": 1, \"9\": 1}, \"15\": {\"15\": 9, \"11\": 1, \"26\": 1, \"18\": 1}, \"36\": {\"36\": 10, \"48\": 2}, \"39\": {\"36\": 2, \"39\": 1, \"37\": 1, \"55\": 2, \"33\": 1, \"48\": 1}, \"44\": {\"44\": 12}, \"8\": {\"8\": 9, \"48\": 1, \"29\": 2}, \"17\": {\"42\": 2, \"31\": 1, \"17\": 5, \"24\": 1, \"33\": 1}, \"5\": {\"5\": 12}, \"13\": {\"13\": 7, \"21\": 1, \"14\": 1, \"57\": 1}, \"40\": {\"40\": 8, \"20\": 1, \"4\": 1}, \"29\": {\"29\": 12}, \"48\": {\"36\": 1, \"48\": 10, \"2\": 1}, \"32\": {\"32\": 11, \"51\": 1}, \"30\": {\"57\": 2, \"30\": 9, \"21\": 1}, \"35\": {\"35\": 6, \"53\": 1, \"54\": 4, \"26\": 1}, \"25\": {\"25\": 7, \"10\": 3, \"16\": 2}, \"14\": {\"14\": 7, \"8\": 1, \"57\": 1, \"29\": 1, \"30\": 1, \"27\": 1}, \"54\": {\"35\": 2, \"54\": 7, \"17\": 1}, \"20\": {\"44\": 2, \"20\": 3, \"0\": 1, \"56\": 2}, \"21\": {\"21\": 7, \"30\": 2, \"13\": 1}, \"45\": {\"45\": 7, \"50\": 1}, \"24\": {\"24\": 5, \"34\": 2, \"54\": 1}, \"34\": {\"34\": 6, \"53\": 2}}, \"W_A_4\": {\"28\": {\"90\": 2, \"57\": 2, \"61\": 1, \"128\": 1, \"112\": 1, \"22\": 1, \"73\": 1, \"46\": 1, \"47\": 1, \"92\": 1}, \"4\": {\"4\": 9, \"80\": 1, \"86\": 1, \"125\": 1}, \"72\": {\"12\": 1, \"96\": 1, \"72\": 3, \"84\": 1, \"23\": 2, \"101\": 1, \"71\": 1, \"100\": 1, \"106\": 1}, \"111\": {\"111\": 6, \"48\": 1, \"129\": 1, \"63\": 1, \"116\": 1, \"59\": 2}, \"108\": {\"108\": 9, \"97\": 1, \"10\": 1, \"109\": 1}, \"43\": {\"43\": 8, \"30\": 2}, \"96\": {\"14\": 1, \"43\": 1, \"11\": 2, \"106\": 2, \"96\": 2, \"60\": 1, \"15\": 1, \"122\": 2}, \"89\": {\"89\": 8, \"53\": 1, \"57\": 1, \"46\": 1, \"51\": 1}, \"31\": {\"89\": 1, \"90\": 1, \"31\": 3, \"19\": 1, \"56\": 3, \"29\": 1, \"25\": 1, \"73\": 1}, \"45\": {\"90\": 1, \"2\": 1, \"73\": 2, \"59\": 1, \"19\": 1, \"92\": 2, \"45\": 3, \"91\": 1}, \"2\": {\"111\": 1, \"45\": 1, \"13\": 1, \"64\": 1, \"42\": 3, \"91\": 2, \"67\": 1, \"41\": 1, \"37\": 1}, \"114\": {\"114\": 5, \"52\": 1, \"1\": 2, \"44\": 2, \"105\": 1, \"34\": 1}, \"11\": {\"11\": 7, \"43\": 1, \"122\": 1, \"118\": 2, \"93\": 1}, \"12\": {\"12\": 11, \"26\": 1}, \"14\": {\"114\": 1, \"12\": 1, \"127\": 3, \"71\": 2, \"14\": 3, \"101\": 1, \"32\": 1}, \"90\": {\"90\": 8, \"59\": 1, \"45\": 1, \"2\": 1, \"77\": 1}, \"10\": {\"10\": 9, \"24\": 1, \"21\": 1, \"88\": 1}, \"63\": {\"63\": 6, \"37\": 3, \"104\": 1, \"116\": 1, \"111\": 1}, \"85\": {\"85\": 3, \"10\": 1, \"46\": 2, \"95\": 1, \"76\": 3, \"52\": 1, \"35\": 1}, \"64\": {\"91\": 1, \"63\": 1, \"55\": 1, \"2\": 1, \"64\": 3, \"128\": 1, \"77\": 1, \"81\": 1, \"41\": 2}, \"82\": {\"42\": 2, \"58\": 1, \"75\": 1, \"57\": 1, \"82\": 1, \"53\": 1, \"74\": 1, \"77\": 2, \"48\": 1, \"38\": 1}, \"58\": {\"82\": 1, \"121\": 1, \"56\": 1, \"58\": 7, \"90\": 1, \"6\": 1}, \"3\": {\"3\": 8, \"53\": 1, \"1\": 1, \"49\": 1, \"127\": 1}, \"54\": {\"54\": 6, \"9\": 2, \"53\": 1, \"2\": 1, \"37\": 1, \"5\": 1}, \"121\": {\"98\": 2, \"82\": 1, \"90\": 1, \"41\": 1, \"47\": 2, \"29\": 1, \"121\": 2, \"100\": 1, \"38\": 1}, \"42\": {\"98\": 2, \"82\": 1, \"42\": 2, \"124\": 1, \"104\": 1, \"31\": 1, \"63\": 1, \"74\": 1, \"92\": 1, \"129\": 1}, \"98\": {\"98\": 4, \"19\": 2, \"29\": 2, \"73\": 1, \"103\": 1, \"75\": 1, \"42\": 1}, \"123\": {\"123\": 6, \"104\": 1, \"68\": 1, \"129\": 1, \"4\": 1, \"125\": 2}, \"91\": {\"42\": 1, \"58\": 2, \"22\": 1, \"55\": 1, \"91\": 3, \"29\": 1, \"98\": 1, \"57\": 2}, \"66\": {\"66\": 3, \"28\": 1, \"42\": 1, \"75\": 2, \"2\": 1, \"29\": 1, \"90\": 1, \"92\": 2}, \"102\": {\"125\": 1, \"102\": 7, \"119\": 2, \"37\": 1, \"17\": 1}, \"122\": {\"15\": 2, \"122\": 8, \"8\": 1, \"39\": 1}, \"1\": {\"97\": 1, \"1\": 7, \"69\": 2, \"99\": 1, \"40\": 1}, \"15\": {\"122\": 2, \"0\": 3, \"15\": 6, \"87\": 1}, \"97\": {\"108\": 3, \"97\": 5, \"43\": 1, \"88\": 2, \"2\": 1}, \"75\": {\"75\": 3, \"42\": 1, \"73\": 1, \"25\": 2, \"19\": 2, \"121\": 1, \"41\": 1, \"120\": 1}, \"95\": {\"95\": 3, \"72\": 2, \"44\": 3, \"34\": 1, \"71\": 1, \"9\": 1, \"46\": 1}, \"57\": {\"66\": 2, \"57\": 6, \"28\": 2, \"25\": 1, \"92\": 1}, \"68\": {\"68\": 4, \"6\": 1, \"59\": 1, \"42\": 2, \"120\": 1, \"22\": 1, \"56\": 2}, \"125\": {\"102\": 1, \"125\": 5, \"86\": 2, \"123\": 3, \"37\": 1}, \"62\": {\"122\": 2, \"62\": 6, \"30\": 1, \"60\": 1}, \"27\": {\"27\": 8, \"78\": 1, \"21\": 1, \"97\": 1, \"126\": 1}, \"120\": {\"91\": 1, \"55\": 1, \"120\": 3, \"24\": 1, \"77\": 3, \"31\": 1, \"41\": 2}, \"26\": {\"71\": 4, \"26\": 4, \"113\": 1, \"106\": 1, \"60\": 1, \"14\": 1}, \"55\": {\"63\": 1, \"55\": 3, \"33\": 1, \"67\": 2, \"73\": 1, \"92\": 2, \"117\": 2}, \"71\": {\"99\": 1, \"71\": 7, \"5\": 1, \"88\": 1, \"14\": 2}, \"22\": {\"22\": 8, \"48\": 1, \"116\": 1, \"123\": 1, \"68\": 1}, \"99\": {\"35\": 2, \"99\": 2, \"52\": 1, \"84\": 2, \"21\": 1, \"107\": 1, \"18\": 1, \"44\": 1, \"127\": 1}, \"84\": {\"71\": 2, \"0\": 2, \"84\": 6, \"1\": 1, \"99\": 1}, \"37\": {\"13\": 1, \"37\": 6, \"124\": 1, \"42\": 1, \"2\": 1, \"65\": 2}, \"83\": {\"83\": 1, \"99\": 1, \"40\": 1, \"114\": 1, \"19\": 1, \"103\": 1, \"5\": 1, \"74\": 1, \"105\": 1, \"33\": 1, \"38\": 2}, \"46\": {\"55\": 3, \"83\": 1, \"53\": 2, \"6\": 2, \"61\": 1, \"46\": 1, \"59\": 1, \"89\": 1}, \"35\": {\"83\": 2, \"35\": 5, \"53\": 1, \"34\": 2, \"89\": 1, \"1\": 1}, \"13\": {\"13\": 7, \"37\": 1, \"2\": 1, \"86\": 1, \"65\": 1, \"42\": 1}, \"53\": {\"54\": 1, \"69\": 1, \"51\": 2, \"88\": 1, \"1\": 1, \"53\": 2, \"78\": 1, \"49\": 1, \"107\": 2}, \"127\": {\"127\": 9, \"14\": 3}, \"69\": {\"97\": 1, \"69\": 8, \"1\": 1, \"78\": 1, \"127\": 1}, \"48\": {\"48\": 5, \"17\": 1, \"111\": 1, \"123\": 1, \"22\": 1, \"90\": 1, \"57\": 1, \"65\": 1}, \"16\": {\"127\": 1, \"16\": 9, \"7\": 2}, \"0\": {\"0\": 7, \"8\": 2, \"15\": 1, \"87\": 2}, \"8\": {\"0\": 1, \"97\": 2, \"110\": 1, \"122\": 1, \"8\": 7}, \"9\": {\"9\": 4, \"89\": 1, \"20\": 1, \"33\": 1, \"114\": 1, \"105\": 1, \"72\": 1, \"95\": 1, \"128\": 1}, \"115\": {\"82\": 1, \"48\": 1, \"119\": 2, \"115\": 6, \"2\": 1, \"77\": 1}, \"70\": {\"70\": 6, \"17\": 1, \"36\": 2, \"39\": 1, \"109\": 1, \"88\": 1}, \"119\": {\"59\": 3, \"104\": 2, \"119\": 4, \"65\": 1, \"102\": 1, \"129\": 1}, \"59\": {\"59\": 5, \"117\": 2, \"123\": 1, \"63\": 1, \"124\": 1, \"111\": 1, \"65\": 1}, \"52\": {\"44\": 1, \"53\": 1, \"14\": 1, \"61\": 1, \"52\": 3, \"83\": 1, \"3\": 1, \"38\": 1, \"81\": 1, \"34\": 1}, \"60\": {\"15\": 1, \"60\": 6, \"14\": 1, \"84\": 1, \"110\": 2, \"113\": 1}, \"44\": {\"44\": 5, \"34\": 1, \"25\": 1, \"53\": 2, \"85\": 2, \"76\": 1}, \"51\": {\"127\": 1, \"70\": 1, \"44\": 1, \"51\": 2, \"47\": 1, \"76\": 1, \"9\": 1, \"100\": 1, \"56\": 1, \"49\": 1, \"107\": 1}, \"6\": {\"68\": 2, \"6\": 7, \"119\": 1, \"67\": 1, \"45\": 1}, \"73\": {\"73\": 3, \"50\": 1, \"42\": 1, \"33\": 1, \"55\": 3, \"81\": 1, \"53\": 1, \"65\": 1}, \"78\": {\"78\": 8, \"21\": 2, \"88\": 2}, \"92\": {\"73\": 1, \"92\": 3, \"42\": 1, \"91\": 1, \"56\": 1, \"46\": 1, \"25\": 1, \"22\": 1, \"57\": 1, \"45\": 1}, \"20\": {\"20\": 3, \"9\": 1, \"18\": 1, \"109\": 1, \"84\": 1, \"107\": 1, \"3\": 1, \"14\": 1, \"40\": 2}, \"17\": {\"63\": 1, \"17\": 4, \"59\": 1, \"123\": 1, \"111\": 1, \"48\": 1, \"124\": 1, \"80\": 1, \"102\": 1}, \"74\": {\"98\": 1, \"74\": 2, \"44\": 1, \"34\": 1, \"51\": 1, \"83\": 1, \"103\": 1, \"82\": 2, \"107\": 1, \"89\": 1}, \"19\": {\"73\": 1, \"19\": 5, \"83\": 2, \"103\": 1, \"29\": 1, \"47\": 1, \"9\": 1}, \"50\": {\"73\": 2, \"17\": 1, \"48\": 1, \"56\": 2, \"50\": 2, \"65\": 1, \"45\": 1, \"129\": 1, \"104\": 1}, \"34\": {\"20\": 1, \"69\": 1, \"34\": 4, \"95\": 1, \"119\": 1, \"114\": 1, \"89\": 1, \"84\": 1, \"65\": 1}, \"104\": {\"17\": 1, \"63\": 1, \"2\": 1, \"119\": 1, \"104\": 1, \"123\": 1, \"129\": 1, \"50\": 1}, \"33\": {\"5\": 1, \"71\": 1, \"33\": 4, \"58\": 1, \"75\": 1, \"83\": 1, \"105\": 1, \"70\": 1, \"32\": 1}, \"5\": {\"75\": 1, \"5\": 5, \"20\": 1, \"23\": 1, \"107\": 1, \"74\": 1, \"3\": 1, \"100\": 1}, \"7\": {\"7\": 10, \"96\": 1, \"0\": 1}, \"29\": {\"29\": 7, \"124\": 1, \"92\": 1, \"2\": 1, \"19\": 1, \"112\": 1}, \"25\": {\"25\": 3, \"73\": 1, \"33\": 1, \"58\": 1, \"29\": 1, \"128\": 2, \"89\": 1, \"23\": 1, \"31\": 1}, \"124\": {\"91\": 1, \"42\": 1, \"117\": 1, \"57\": 1, \"65\": 2, \"63\": 2, \"37\": 1, \"124\": 1, \"17\": 1, \"29\": 1}, \"117\": {\"57\": 1, \"124\": 1, \"88\": 1, \"117\": 6, \"64\": 1, \"108\": 1, \"65\": 1}, \"88\": {\"88\": 8, \"110\": 1, \"27\": 1, \"10\": 2}, \"61\": {\"89\": 1, \"88\": 1, \"61\": 3, \"47\": 3, \"103\": 1, \"92\": 1, \"56\": 1, \"55\": 1}, \"86\": {\"86\": 7, \"13\": 1, \"125\": 2, \"80\": 1, \"17\": 1}, \"116\": {\"86\": 1, \"124\": 1, \"129\": 3, \"65\": 1, \"79\": 1, \"63\": 1, \"116\": 2, \"111\": 1, \"123\": 1}, \"24\": {\"24\": 10, \"36\": 1, \"21\": 1}, \"128\": {\"128\": 1, \"52\": 1, \"33\": 1, \"21\": 1, \"107\": 1, \"100\": 1, \"38\": 1, \"46\": 1, \"95\": 1, \"82\": 1, \"25\": 2}, \"101\": {\"101\": 11, \"60\": 1}, \"65\": {\"124\": 2, \"116\": 1, \"65\": 6, \"102\": 1}, \"36\": {\"36\": 9, \"24\": 2, \"126\": 1}, \"21\": {\"24\": 1, \"10\": 1, \"21\": 7, \"122\": 1, \"78\": 2}, \"106\": {\"106\": 7, \"62\": 2, \"23\": 2, \"72\": 1}, \"118\": {\"118\": 3, \"88\": 1, \"110\": 2, \"113\": 2, \"0\": 2, \"10\": 1, \"11\": 1}, \"113\": {\"93\": 2, \"113\": 3, \"126\": 1, \"101\": 1, \"118\": 3, \"30\": 2}, \"40\": {\"40\": 6, \"84\": 1, \"49\": 1, \"20\": 2, \"44\": 1, \"85\": 1}, \"93\": {\"93\": 5, \"110\": 1, \"23\": 1, \"7\": 1}, \"94\": {\"122\": 4, \"94\": 8}, \"103\": {\"103\": 3, \"46\": 1, \"77\": 2, \"129\": 1, \"112\": 1, \"108\": 1, \"87\": 1, \"31\": 1, \"54\": 1}, \"110\": {\"110\": 8, \"87\": 1, \"7\": 1, \"118\": 2}, \"56\": {\"31\": 1, \"25\": 1, \"92\": 1, \"29\": 1, \"81\": 1, \"47\": 1, \"56\": 3, \"120\": 1, \"100\": 2}, \"39\": {\"109\": 2, \"39\": 9, \"70\": 1}, \"109\": {\"0\": 1, \"109\": 8, \"108\": 1, \"126\": 2}, \"67\": {\"29\": 1, \"67\": 5, \"111\": 2, \"6\": 1, \"75\": 1, \"66\": 1, \"88\": 1}, \"129\": {\"48\": 1, \"73\": 1, \"129\": 5, \"116\": 3, \"68\": 1, \"104\": 1}, \"30\": {\"30\": 11, \"126\": 1}, \"126\": {\"126\": 5, \"36\": 1, \"109\": 3, \"87\": 1, \"94\": 2}, \"87\": {\"21\": 1, \"87\": 10, \"15\": 1}, \"112\": {\"56\": 1, \"81\": 1, \"112\": 2, \"128\": 1, \"65\": 1, \"117\": 1, \"22\": 1, \"19\": 1, \"90\": 2, \"29\": 1}, \"100\": {\"81\": 2, \"58\": 1, \"99\": 1, \"20\": 2, \"3\": 1, \"54\": 1, \"18\": 1, \"32\": 1, \"100\": 1, \"33\": 1}, \"79\": {\"50\": 1, \"79\": 6, \"80\": 2, \"13\": 1}, \"81\": {\"76\": 2, \"58\": 1, \"99\": 1, \"85\": 1, \"95\": 1, \"54\": 1, \"46\": 1, \"108\": 1, \"61\": 1, \"81\": 1, \"98\": 1}, \"76\": {\"81\": 1, \"76\": 4, \"95\": 2, \"23\": 1, \"44\": 1, \"32\": 1}, \"47\": {\"47\": 5, \"21\": 1, \"112\": 1, \"29\": 1, \"61\": 1, \"59\": 1, \"56\": 1, \"32\": 1}, \"77\": {\"120\": 1, \"77\": 5, \"112\": 1, \"32\": 1, \"41\": 1, \"123\": 1, \"45\": 2}, \"23\": {\"24\": 1, \"0\": 4, \"110\": 3, \"108\": 1, \"126\": 1, \"106\": 1, \"78\": 1}, \"18\": {\"40\": 1, \"84\": 1, \"18\": 6, \"5\": 1, \"100\": 2, \"51\": 1}, \"49\": {\"40\": 2, \"18\": 2, \"49\": 6, \"3\": 1, \"127\": 1}, \"41\": {\"41\": 2, \"67\": 1, \"47\": 1, \"125\": 1, \"116\": 1, \"32\": 1, \"19\": 1, \"75\": 1, \"4\": 1, \"73\": 1, \"64\": 1}, \"32\": {\"85\": 1, \"95\": 1, \"76\": 3, \"23\": 1, \"32\": 3, \"5\": 1, \"46\": 1, \"98\": 1}, \"107\": {\"107\": 10}, \"80\": {\"80\": 8, \"38\": 1, \"70\": 1, \"86\": 2}, \"105\": {\"105\": 6, \"49\": 1, \"5\": 2, \"30\": 1}, \"38\": {\"76\": 2, \"61\": 1, \"32\": 1, \"52\": 2, \"40\": 1, \"75\": 2, \"85\": 1}}, \"W_A_1\": {\"108\": {\"108\": 8, \"78\": 1, \"88\": 1}, \"40\": {\"9\": 1, \"40\": 4, \"76\": 3, \"49\": 1, \"127\": 1, \"3\": 1, \"35\": 1}, \"68\": {\"3\": 1, \"22\": 1, \"68\": 6, \"28\": 1, \"64\": 1, \"129\": 1, \"91\": 1}, \"23\": {\"110\": 1, \"23\": 5, \"127\": 1, \"122\": 1, \"78\": 1, \"18\": 1, \"27\": 2}, \"26\": {\"70\": 1, \"26\": 3, \"106\": 4, \"96\": 2, \"62\": 2}, \"64\": {\"57\": 1, \"64\": 4, \"103\": 1, \"37\": 2, \"41\": 1, \"129\": 1, \"2\": 1, \"77\": 1}, \"22\": {\"57\": 2, \"22\": 3, \"129\": 1, \"104\": 1, \"67\": 1, \"55\": 1, \"42\": 1, \"46\": 1, \"37\": 1}, \"3\": {\"40\": 1, \"9\": 2, \"3\": 3, \"76\": 2, \"34\": 1, \"101\": 2, \"44\": 1}, \"4\": {\"79\": 2, \"4\": 9, \"78\": 1}, \"70\": {\"70\": 10, \"10\": 2}, \"57\": {\"102\": 2, \"17\": 2, \"57\": 5, \"59\": 1, \"22\": 1, \"2\": 1}, \"79\": {\"4\": 1, \"79\": 7, \"48\": 1, \"124\": 2, \"17\": 1}, \"9\": {\"40\": 1, \"89\": 1, \"3\": 2, \"74\": 1, \"9\": 1, \"72\": 2, \"128\": 1, \"101\": 1, \"52\": 2}, \"89\": {\"89\": 5, \"3\": 1, \"85\": 2, \"49\": 1, \"38\": 1, \"107\": 1, \"32\": 1}, \"110\": {\"110\": 12}, \"102\": {\"102\": 6, \"79\": 1, \"4\": 1, \"63\": 1, \"129\": 1, \"65\": 2}, \"31\": {\"31\": 6, \"76\": 2, \"101\": 1, \"71\": 1, \"62\": 1, \"9\": 1}, \"58\": {\"57\": 1, \"68\": 1, \"58\": 5, \"104\": 1, \"59\": 1, \"123\": 1, \"41\": 1, \"61\": 1}, \"47\": {\"47\": 2, \"52\": 1, \"51\": 1, \"75\": 1, \"98\": 2, \"54\": 1, \"28\": 1, \"128\": 1, \"74\": 2}, \"24\": {\"109\": 1, \"24\": 10, \"97\": 1}, \"19\": {\"19\": 2, \"68\": 1, \"98\": 2, \"100\": 1, \"56\": 1, \"40\": 1, \"32\": 2, \"47\": 1, \"53\": 1}, \"11\": {\"11\": 10, \"94\": 1, \"126\": 1}, \"52\": {\"52\": 6, \"29\": 2, \"33\": 1, \"49\": 1, \"99\": 2}, \"17\": {\"68\": 3, \"17\": 3, \"129\": 1, \"22\": 1, \"46\": 2, \"58\": 1, \"5\": 1}, \"25\": {\"47\": 1, \"25\": 6, \"6\": 2, \"66\": 1, \"58\": 1, \"82\": 1}, \"69\": {\"69\": 9, \"96\": 1, \"113\": 1, \"18\": 1}, \"96\": {\"11\": 2, \"35\": 1, \"118\": 1, \"96\": 1, \"16\": 1, \"110\": 1, \"101\": 1, \"15\": 2, \"106\": 1, \"43\": 1}, \"109\": {\"109\": 10, \"24\": 2}, \"115\": {\"115\": 6, \"57\": 1, \"63\": 2, \"123\": 2, \"48\": 1}, \"83\": {\"83\": 2, \"52\": 2, \"42\": 1, \"50\": 1, \"121\": 1, \"4\": 1, \"82\": 1, \"67\": 1, \"99\": 1, \"98\": 1}, \"84\": {\"7\": 1, \"84\": 4, \"16\": 1, \"35\": 1, \"101\": 1, \"69\": 1, \"18\": 1, \"23\": 2}, \"119\": {\"65\": 2, \"119\": 3, \"117\": 1, \"13\": 1, \"22\": 2, \"83\": 1}, \"122\": {\"122\": 8, \"87\": 2}, \"99\": {\"1\": 1, \"89\": 1, \"99\": 2, \"54\": 1, \"12\": 1, \"95\": 2, \"52\": 3, \"31\": 1}, \"1\": {\"127\": 1, \"1\": 5, \"44\": 1, \"34\": 1, \"81\": 2, \"31\": 2}, \"74\": {\"89\": 1, \"119\": 1, \"114\": 1, \"74\": 4, \"54\": 1, \"80\": 1, \"100\": 1, \"95\": 2}, \"85\": {\"85\": 6, \"53\": 1, \"90\": 1, \"103\": 1, \"25\": 1, \"92\": 2}, \"127\": {\"127\": 11, \"40\": 1}, \"111\": {\"65\": 1, \"111\": 4, \"48\": 1, \"124\": 1, \"45\": 1, \"77\": 1, \"17\": 1, \"58\": 1, \"6\": 1}, \"53\": {\"53\": 5, \"99\": 1, \"34\": 1, \"128\": 1, \"74\": 1, \"85\": 1, \"100\": 1, \"32\": 1}, \"88\": {\"88\": 10, \"10\": 2}, \"65\": {\"111\": 2, \"112\": 1, \"65\": 3, \"64\": 1, \"129\": 1, \"86\": 1, \"116\": 1}, \"7\": {\"16\": 1, \"84\": 1, \"96\": 2, \"101\": 3, \"69\": 2, \"7\": 2, \"62\": 1}, \"16\": {\"16\": 4, \"7\": 1, \"10\": 1, \"84\": 3, \"106\": 1, \"18\": 2}, \"128\": {\"92\": 2, \"73\": 1, \"38\": 1, \"66\": 1, \"128\": 7}, \"34\": {\"53\": 1, \"114\": 1, \"34\": 4, \"76\": 2, \"71\": 1, \"74\": 1, \"33\": 1, \"49\": 1}, \"129\": {\"17\": 1, \"41\": 1, \"104\": 1, \"129\": 6, \"64\": 2, \"117\": 1}, \"43\": {\"43\": 12}, \"92\": {\"73\": 1, \"128\": 3, \"92\": 6, \"85\": 2}, \"28\": {\"92\": 1, \"17\": 1, \"28\": 5, \"98\": 1, \"90\": 1, \"42\": 1, \"125\": 1, \"68\": 1}, \"27\": {\"27\": 7, \"24\": 2, \"8\": 1, \"39\": 1, \"30\": 1}, \"114\": {\"114\": 5, \"92\": 1, \"74\": 2, \"33\": 1, \"20\": 2, \"56\": 1}, \"73\": {\"28\": 1, \"92\": 1, \"98\": 1, \"73\": 3, \"85\": 3, \"46\": 1, \"50\": 1, \"77\": 1}, \"0\": {\"0\": 12}, \"104\": {\"104\": 5, \"66\": 2, \"58\": 1, \"55\": 1, \"67\": 2, \"59\": 1}, \"118\": {\"118\": 12}, \"41\": {\"129\": 1, \"104\": 2, \"41\": 4, \"37\": 1, \"64\": 1, \"67\": 1, \"55\": 1, \"57\": 1}, \"49\": {\"49\": 5, \"89\": 1, \"72\": 1, \"32\": 1, \"56\": 1, \"16\": 1, \"107\": 1, \"33\": 1}, \"14\": {\"40\": 2, \"14\": 10}, \"46\": {\"66\": 1, \"129\": 1, \"55\": 1, \"109\": 1, \"46\": 2, \"28\": 1, \"48\": 1, \"17\": 1, \"22\": 2, \"59\": 1}, \"33\": {\"76\": 1, \"33\": 3, \"29\": 2, \"20\": 1, \"75\": 1, \"34\": 1, \"51\": 2, \"49\": 1}, \"76\": {\"76\": 7, \"89\": 1, \"50\": 1, \"20\": 1, \"71\": 1, \"72\": 1}, \"125\": {\"125\": 10, \"46\": 1, \"48\": 1}, \"86\": {\"129\": 1, \"125\": 1, \"86\": 5, \"65\": 1, \"119\": 1, \"116\": 1}, \"66\": {\"104\": 1, \"66\": 3, \"124\": 1, \"37\": 1, \"61\": 1, \"38\": 1, \"90\": 1, \"2\": 1, \"91\": 1, \"51\": 1}, \"5\": {\"129\": 1, \"104\": 1, \"5\": 4, \"112\": 2, \"6\": 1, \"111\": 2, \"68\": 1}, \"117\": {\"22\": 2, \"41\": 2, \"102\": 1, \"117\": 4, \"46\": 1, \"129\": 2}, \"75\": {\"34\": 1, \"19\": 1, \"75\": 4, \"72\": 1, \"56\": 2, \"114\": 1, \"53\": 1, \"31\": 1}, \"61\": {\"61\": 6, \"112\": 2, \"37\": 1, \"64\": 2, \"41\": 1}, \"50\": {\"19\": 2, \"50\": 3, \"44\": 1, \"100\": 1, \"30\": 1, \"81\": 1, \"90\": 1, \"14\": 1, \"73\": 1}, \"67\": {\"61\": 2, \"54\": 2, \"25\": 1, \"46\": 1, \"41\": 1, \"67\": 1, \"82\": 1, \"13\": 1}, \"18\": {\"18\": 10, \"7\": 1, \"84\": 1}, \"98\": {\"98\": 6, \"73\": 1, \"28\": 2, \"53\": 2, \"52\": 1}, \"55\": {\"55\": 3, \"67\": 2, \"45\": 1, \"5\": 1, \"80\": 1, \"117\": 2}, \"32\": {\"50\": 2, \"100\": 2, \"56\": 1, \"32\": 2, \"33\": 1, \"89\": 1, \"85\": 1, \"5\": 1, \"75\": 1}, \"120\": {\"120\": 8, \"85\": 1, \"77\": 2, \"90\": 1}, \"97\": {\"97\": 9, \"78\": 1, \"93\": 2}, \"126\": {\"97\": 2, \"126\": 7, \"30\": 2, \"11\": 1}, \"45\": {\"55\": 3, \"46\": 1, \"45\": 2, \"58\": 1, \"5\": 1, \"22\": 1, \"41\": 1, \"6\": 2}, \"78\": {\"78\": 9, \"70\": 1}, \"100\": {\"107\": 1, \"100\": 3, \"72\": 1, \"81\": 1, \"20\": 1, \"51\": 1, \"91\": 1, \"128\": 1, \"19\": 1, \"50\": 1}, \"107\": {\"100\": 1, \"34\": 1, \"29\": 2, \"51\": 1, \"107\": 3, \"20\": 1, \"49\": 1, \"95\": 2}, \"93\": {\"93\": 9, \"30\": 1, \"39\": 1, \"11\": 1}, \"77\": {\"77\": 6, \"58\": 1, \"120\": 1, \"98\": 1, \"37\": 1, \"28\": 2}, \"63\": {\"63\": 4, \"115\": 3, \"119\": 1, \"6\": 2, \"102\": 2}, \"112\": {\"65\": 1, \"112\": 3, \"5\": 2, \"61\": 1, \"59\": 2, \"80\": 1, \"129\": 1, \"2\": 1}, \"113\": {\"122\": 1, \"113\": 6, \"0\": 3, \"26\": 2}, \"103\": {\"85\": 1, \"37\": 1, \"103\": 3, \"56\": 1, \"95\": 1, \"77\": 1, \"83\": 1, \"52\": 1}, \"71\": {\"71\": 7, \"18\": 1, \"127\": 2, \"44\": 2}, \"30\": {\"30\": 7, \"24\": 1, \"27\": 1, \"109\": 1, \"126\": 1, \"11\": 1}, \"90\": {\"90\": 5, \"103\": 1, \"38\": 3, \"82\": 1, \"54\": 1, \"121\": 1}, \"37\": {\"114\": 1, \"37\": 6, \"41\": 1, \"61\": 2, \"77\": 1, \"22\": 1}, \"60\": {\"60\": 7, \"69\": 1, \"96\": 1, \"39\": 1, \"84\": 1, \"7\": 1}, \"15\": {\"15\": 11, \"36\": 1}, \"39\": {\"39\": 10, \"27\": 2}, \"72\": {\"35\": 1, \"72\": 5, \"49\": 3, \"51\": 2, \"76\": 1}, \"54\": {\"54\": 7, \"82\": 1, \"99\": 1, \"47\": 2, \"92\": 1}, \"35\": {\"49\": 1, \"35\": 10, \"56\": 1}, \"2\": {\"41\": 1, \"117\": 1, \"2\": 4, \"59\": 1, \"116\": 2, \"6\": 2, \"125\": 1}, \"94\": {\"15\": 1, \"87\": 1, \"94\": 5, \"36\": 1, \"43\": 2, \"11\": 1, \"109\": 1}, \"42\": {\"6\": 1, \"25\": 1, \"42\": 5, \"91\": 1, \"83\": 1, \"124\": 1, \"28\": 1, \"66\": 1}, \"81\": {\"53\": 1, \"74\": 3, \"105\": 1, \"32\": 1, \"51\": 2, \"100\": 1, \"120\": 1, \"83\": 1, \"81\": 1}, \"8\": {\"15\": 1, \"8\": 9, \"93\": 2}, \"87\": {\"8\": 3, \"94\": 1, \"87\": 6, \"36\": 1, \"122\": 1}, \"6\": {\"6\": 8, \"111\": 1, \"45\": 1, \"117\": 1, \"2\": 1}, \"36\": {\"36\": 8, \"94\": 3, \"15\": 1}, \"91\": {\"6\": 1, \"25\": 2, \"28\": 3, \"91\": 1, \"121\": 1, \"82\": 1, \"66\": 2, \"61\": 1}, \"56\": {\"56\": 7, \"83\": 1, \"95\": 1, \"72\": 1, \"114\": 1, \"66\": 1}, \"80\": {\"80\": 8, \"79\": 1, \"48\": 1, \"56\": 1, \"45\": 1}, \"124\": {\"119\": 1, \"41\": 1, \"124\": 4, \"111\": 2, \"104\": 2}, \"44\": {\"44\": 9, \"76\": 1, \"71\": 1, \"3\": 1}, \"13\": {\"13\": 6, \"102\": 2, \"57\": 1, \"79\": 1, \"121\": 1, \"65\": 1}, \"10\": {\"10\": 9, \"78\": 2, \"88\": 1}, \"59\": {\"45\": 1, \"58\": 1, \"59\": 3, \"116\": 1, \"120\": 1, \"42\": 1, \"123\": 1, \"55\": 1, \"80\": 1, \"46\": 1}, \"95\": {\"56\": 3, \"95\": 4, \"103\": 1, \"29\": 2, \"120\": 1, \"99\": 1}, \"105\": {\"127\": 3, \"105\": 4, \"80\": 1, \"35\": 2, \"16\": 2}, \"101\": {\"101\": 8, \"62\": 1, \"12\": 2, \"106\": 1}, \"20\": {\"20\": 9, \"50\": 1, \"33\": 1, \"76\": 1}, \"48\": {\"123\": 3, \"79\": 3, \"48\": 6}, \"106\": {\"84\": 2, \"106\": 6, \"7\": 3, \"60\": 1}, \"51\": {\"51\": 3, \"75\": 1, \"29\": 2, \"107\": 1, \"74\": 1, \"20\": 1, \"114\": 2, \"33\": 1}, \"21\": {\"21\": 12}, \"123\": {\"48\": 1, \"123\": 4, \"13\": 2, \"115\": 2, \"129\": 1, \"4\": 1, \"66\": 1}, \"121\": {\"121\": 5, \"61\": 1, \"91\": 2, \"112\": 1, \"28\": 1, \"116\": 1, \"90\": 1}, \"38\": {\"66\": 1, \"61\": 1, \"90\": 3, \"82\": 2, \"89\": 1, \"85\": 1, \"38\": 1, \"120\": 2}, \"62\": {\"101\": 1, \"106\": 1, \"62\": 8, \"71\": 1, \"26\": 1}, \"29\": {\"29\": 3, \"81\": 1, \"38\": 1, \"31\": 1, \"34\": 1, \"33\": 1, \"72\": 2, \"14\": 1, \"32\": 1}, \"82\": {\"38\": 1, \"90\": 2, \"82\": 4, \"120\": 1, \"42\": 2, \"67\": 1, \"25\": 1}, \"116\": {\"102\": 1, \"13\": 1, \"37\": 1, \"59\": 1, \"116\": 4, \"86\": 2, \"124\": 2}, \"12\": {\"12\": 5, \"23\": 1, \"84\": 1, \"101\": 1}}, \"W_A_2\": {\"91\": {\"117\": 2, \"91\": 4, \"90\": 1, \"112\": 1, \"92\": 1, \"129\": 1, \"77\": 1, \"59\": 1}, \"12\": {\"110\": 3, \"12\": 4, \"109\": 1, \"96\": 2, \"7\": 2}, \"101\": {\"101\": 9, \"0\": 1}, \"121\": {\"28\": 1, \"121\": 3, \"110\": 1, \"120\": 1, \"64\": 2, \"85\": 1, \"90\": 1, \"73\": 2}, \"118\": {\"118\": 7, \"15\": 4, \"122\": 1}, \"10\": {\"126\": 2, \"10\": 6, \"21\": 1, \"39\": 1, \"70\": 2}, \"117\": {\"117\": 3, \"86\": 2, \"37\": 1, \"6\": 1, \"41\": 1, \"104\": 1, \"2\": 2, \"85\": 1}, \"110\": {\"110\": 8, \"106\": 1, \"113\": 2, \"93\": 1}, \"97\": {\"97\": 6, \"117\": 1, \"15\": 1, \"106\": 2, \"2\": 1, \"43\": 1}, \"28\": {\"88\": 1, \"17\": 1, \"28\": 1, \"90\": 1, \"103\": 1, \"25\": 3, \"50\": 1, \"120\": 1, \"2\": 2}, \"88\": {\"10\": 1, \"88\": 8, \"109\": 1, \"21\": 2}, \"17\": {\"86\": 1, \"33\": 1, \"125\": 2, \"115\": 1, \"79\": 1, \"78\": 1, \"102\": 1, \"116\": 2, \"41\": 2}, \"126\": {\"126\": 9, \"109\": 1, \"70\": 1, \"87\": 1}, \"33\": {\"33\": 10, \"47\": 2}, \"86\": {\"117\": 1, \"86\": 9, \"5\": 1, \"48\": 1}, \"106\": {\"106\": 9, \"16\": 2, \"7\": 1}, \"54\": {\"83\": 4, \"51\": 1, \"9\": 1, \"54\": 4, \"31\": 2}, \"125\": {\"13\": 1, \"125\": 7, \"102\": 1, \"80\": 1, \"65\": 2}, \"83\": {\"103\": 1, \"32\": 1, \"83\": 3, \"56\": 1, \"120\": 1, \"98\": 1, \"128\": 1, \"42\": 1, \"54\": 2}, \"98\": {\"103\": 1, \"98\": 6, \"121\": 1, \"90\": 2, \"57\": 1, \"38\": 1}, \"11\": {\"11\": 8, \"43\": 1, \"8\": 2, \"27\": 1}, \"32\": {\"32\": 7, \"34\": 1, \"31\": 1, \"58\": 1, \"100\": 2}, \"42\": {\"13\": 1, \"103\": 1, \"124\": 1, \"42\": 1, \"6\": 1, \"41\": 1, \"104\": 2, \"129\": 2, \"91\": 2}, \"103\": {\"98\": 1, \"103\": 3, \"13\": 1, \"82\": 1, \"25\": 1, \"67\": 1, \"63\": 1, \"45\": 1, \"85\": 1, \"111\": 1}, \"87\": {\"11\": 1, \"87\": 10, \"108\": 1}, \"61\": {\"87\": 1, \"103\": 1, \"107\": 1, \"61\": 4, \"31\": 2, \"74\": 1, \"102\": 1, \"55\": 1}, \"13\": {\"13\": 6, \"4\": 1, \"116\": 2, \"48\": 1, \"22\": 1, \"80\": 1}, \"4\": {\"4\": 10, \"102\": 1, \"80\": 1}, \"15\": {\"15\": 8, \"97\": 1, \"122\": 1}, \"120\": {\"52\": 1, \"89\": 1, \"77\": 1, \"120\": 4, \"58\": 1, \"28\": 1, \"66\": 1, \"103\": 1, \"63\": 1}, \"80\": {\"80\": 8, \"111\": 1, \"86\": 2, \"115\": 1}, \"72\": {\"72\": 3, \"35\": 3, \"1\": 1, \"3\": 2, \"40\": 1}, \"64\": {\"52\": 2, \"121\": 1, \"77\": 2, \"54\": 1, \"64\": 3, \"61\": 1, \"81\": 1, \"47\": 1}, \"81\": {\"52\": 1, \"49\": 1, \"69\": 1, \"38\": 2, \"81\": 2, \"77\": 1, \"51\": 1, \"74\": 1, \"47\": 2}, \"102\": {\"80\": 1, \"102\": 9, \"67\": 1, \"37\": 1}, \"76\": {\"64\": 1, \"53\": 1, \"65\": 1, \"66\": 1, \"76\": 2, \"54\": 3, \"31\": 1, \"52\": 1, \"46\": 1}, \"49\": {\"49\": 4, \"47\": 1, \"114\": 2, \"53\": 1, \"95\": 1, \"21\": 1}, \"129\": {\"129\": 7, \"124\": 1, \"2\": 1, \"42\": 1, \"65\": 1, \"59\": 1}, \"89\": {\"89\": 6, \"54\": 2, \"57\": 1, \"82\": 1, \"81\": 1, \"55\": 1}, \"52\": {\"76\": 1, \"89\": 1, \"61\": 1, \"82\": 1, \"47\": 1, \"107\": 1, \"112\": 1, \"52\": 3, \"45\": 2}, \"35\": {\"35\": 5, \"62\": 1, \"95\": 2, \"72\": 2, \"3\": 2}, \"53\": {\"52\": 1, \"121\": 1, \"53\": 4, \"122\": 1, \"61\": 1, \"89\": 1, \"57\": 2, \"70\": 1}, \"112\": {\"51\": 1, \"92\": 1, \"99\": 1, \"120\": 1, \"38\": 3, \"82\": 1, \"42\": 1, \"116\": 1, \"90\": 1, \"112\": 1}, \"105\": {\"97\": 2, \"105\": 7, \"23\": 1, \"7\": 1, \"11\": 1}, \"100\": {\"77\": 1, \"51\": 2, \"107\": 2, \"74\": 1, \"100\": 1, \"95\": 1, \"9\": 1, \"32\": 2, \"58\": 1}, \"9\": {\"54\": 1, \"51\": 1, \"9\": 6, \"128\": 1, \"100\": 2, \"74\": 1}, \"82\": {\"54\": 1, \"77\": 1, \"82\": 5, \"50\": 1, \"75\": 1, \"89\": 2, \"112\": 1}, \"51\": {\"51\": 6, \"54\": 1, \"92\": 1, \"127\": 1, \"100\": 1, \"74\": 2}, \"21\": {\"21\": 12}, \"92\": {\"54\": 1, \"112\": 1, \"85\": 2, \"45\": 1, \"99\": 1, \"63\": 1, \"29\": 1, \"32\": 1, \"84\": 1, \"57\": 2}, \"69\": {\"69\": 5, \"1\": 1, \"40\": 2, \"127\": 1, \"14\": 2, \"35\": 1}, \"77\": {\"77\": 5, \"112\": 1, \"45\": 1, \"38\": 1, \"123\": 1, \"91\": 1, \"85\": 1, \"29\": 1}, \"50\": {\"46\": 1, \"103\": 1, \"82\": 1, \"129\": 2, \"123\": 1, \"31\": 1, \"50\": 1, \"102\": 1, \"45\": 1, \"76\": 1, \"112\": 1}, \"36\": {\"36\": 10, \"87\": 2}, \"16\": {\"16\": 4, \"127\": 1, \"24\": 1, \"122\": 1, \"110\": 2, \"78\": 1, \"0\": 1, \"97\": 1}, \"8\": {\"82\": 1, \"8\": 10, \"54\": 1}, \"127\": {\"127\": 11, \"84\": 1}, \"46\": {\"50\": 1, \"46\": 4, \"90\": 2, \"38\": 1, \"77\": 1, \"103\": 1}, \"84\": {\"84\": 8, \"127\": 1, \"3\": 1, \"62\": 1, \"95\": 1}, \"18\": {\"35\": 1, \"18\": 2, \"20\": 1, \"95\": 1, \"32\": 1, \"69\": 1, \"127\": 1, \"84\": 3, \"54\": 1}, \"123\": {\"50\": 1, \"13\": 1, \"123\": 4, \"42\": 1, \"46\": 1, \"73\": 2}, \"56\": {\"76\": 1, \"56\": 3, \"34\": 2, \"83\": 1, \"45\": 1, \"100\": 2, \"54\": 1, \"107\": 1}, \"26\": {\"26\": 8, \"3\": 1, \"127\": 2, \"7\": 1}, \"14\": {\"36\": 1, \"71\": 1, \"107\": 1, \"3\": 1, \"14\": 4, \"69\": 1, \"44\": 1, \"43\": 1, \"27\": 1}, \"109\": {\"88\": 1, \"109\": 7, \"108\": 2, \"78\": 2}, \"66\": {\"66\": 3, \"92\": 2, \"73\": 1, \"22\": 2, \"90\": 2, \"68\": 1, \"112\": 1}, \"24\": {\"24\": 7, \"88\": 3, \"43\": 1, \"78\": 1}, \"71\": {\"33\": 1, \"71\": 5, \"95\": 2, \"84\": 2, \"72\": 1, \"40\": 1}, \"65\": {\"111\": 2, \"65\": 3, \"29\": 1, \"41\": 1, \"129\": 2, \"64\": 1, \"99\": 1, \"22\": 1}, \"75\": {\"33\": 1, \"56\": 1, \"75\": 3, \"54\": 1, \"49\": 1, \"114\": 1, \"34\": 1, \"69\": 1, \"21\": 1, \"95\": 1}, \"111\": {\"65\": 2, \"111\": 5, \"102\": 1, \"104\": 2, \"6\": 1, \"46\": 1}, \"30\": {\"30\": 12}, \"85\": {\"29\": 1, \"45\": 1, \"81\": 1, \"67\": 1, \"2\": 1, \"85\": 6, \"77\": 1}, \"113\": {\"113\": 4, \"94\": 2, \"15\": 3, \"122\": 1}, \"45\": {\"45\": 2, \"85\": 1, \"77\": 1, \"56\": 1, \"129\": 1, \"28\": 1, \"116\": 1, \"58\": 1, \"117\": 1, \"112\": 1, \"90\": 1}, \"29\": {\"45\": 1, \"29\": 5, \"58\": 1, \"50\": 1, \"17\": 1, \"77\": 2, \"25\": 1}, \"20\": {\"18\": 2, \"90\": 1, \"47\": 1, \"20\": 6, \"106\": 1, \"67\": 1}, \"25\": {\"45\": 1, \"85\": 2, \"44\": 1, \"41\": 2, \"25\": 3, \"29\": 1, \"68\": 1, \"99\": 1}, \"0\": {\"0\": 11, \"11\": 1}, \"68\": {\"99\": 1, \"67\": 1, \"68\": 5, \"48\": 2, \"58\": 2, \"45\": 1}, \"119\": {\"85\": 2, \"119\": 2, \"121\": 1, \"73\": 1, \"66\": 1, \"59\": 1, \"104\": 1, \"90\": 1, \"2\": 1, \"63\": 1}, \"90\": {\"67\": 1, \"85\": 1, \"90\": 2, \"46\": 3, \"117\": 1, \"68\": 1, \"66\": 1, \"112\": 2}, \"38\": {\"38\": 5, \"81\": 3, \"25\": 1, \"85\": 1, \"37\": 1, \"55\": 1}, \"99\": {\"81\": 1, \"99\": 5, \"19\": 2, \"55\": 1, \"92\": 1, \"38\": 1, \"33\": 1}, \"1\": {\"69\": 2, \"74\": 1, \"1\": 4, \"72\": 1, \"95\": 2, \"35\": 1, \"71\": 1}, \"67\": {\"119\": 1, \"69\": 1, \"67\": 2, \"46\": 1, \"42\": 1, \"51\": 1, \"77\": 1, \"6\": 1, \"111\": 1, \"25\": 2}, \"63\": {\"90\": 2, \"92\": 1, \"63\": 3, \"42\": 1, \"109\": 1, \"64\": 1, \"82\": 1, \"120\": 2}, \"34\": {\"56\": 1, \"34\": 6, \"53\": 1, \"128\": 1, \"75\": 1, \"44\": 1, \"52\": 1}, \"108\": {\"108\": 10, \"43\": 1, \"87\": 1}, \"40\": {\"40\": 5, \"69\": 1, \"114\": 1, \"95\": 1, \"1\": 2, \"14\": 1, \"72\": 1}, \"47\": {\"98\": 2, \"63\": 1, \"34\": 3, \"47\": 4, \"66\": 2}, \"37\": {\"117\": 1, \"111\": 1, \"2\": 3, \"46\": 1, \"5\": 1, \"22\": 1, \"37\": 1, \"116\": 1, \"66\": 1, \"103\": 1}, \"78\": {\"43\": 1, \"78\": 10, \"36\": 1}, \"96\": {\"96\": 6, \"0\": 1, \"3\": 2, \"95\": 1, \"60\": 1, \"23\": 1}, \"43\": {\"43\": 9, \"78\": 1, \"11\": 2}, \"5\": {\"124\": 2, \"86\": 1, \"59\": 1, \"5\": 4, \"22\": 1, \"73\": 1}, \"124\": {\"124\": 7, \"119\": 1, \"121\": 1, \"104\": 1, \"41\": 1, \"2\": 1}, \"44\": {\"44\": 5, \"54\": 2, \"19\": 1, \"34\": 1, \"61\": 1, \"28\": 2}, \"41\": {\"5\": 1, \"42\": 1, \"115\": 1, \"41\": 3, \"117\": 1, \"25\": 1, \"28\": 2, \"8\": 1, \"102\": 1}, \"116\": {\"77\": 2, \"116\": 2, \"37\": 2, \"119\": 2, \"6\": 1, \"41\": 2, \"2\": 1}, \"19\": {\"19\": 6, \"75\": 1, \"92\": 1, \"25\": 2, \"64\": 1, \"34\": 1}, \"115\": {\"115\": 7, \"6\": 1, \"79\": 3, \"2\": 1}, \"95\": {\"18\": 3, \"95\": 2, \"70\": 1, \"100\": 1, \"3\": 1, \"34\": 1, \"1\": 2, \"84\": 1}, \"3\": {\"3\": 8, \"18\": 1, \"35\": 1}, \"59\": {\"86\": 1, \"5\": 1, \"59\": 4, \"48\": 3, \"22\": 1, \"119\": 1, \"115\": 1}, \"55\": {\"34\": 1, \"19\": 1, \"81\": 2, \"100\": 2, \"68\": 1, \"89\": 1, \"75\": 1, \"55\": 2, \"99\": 1}, \"70\": {\"70\": 10, \"109\": 2}, \"6\": {\"77\": 1, \"2\": 1, \"41\": 2, \"6\": 3, \"124\": 1, \"116\": 1, \"86\": 1, \"59\": 1, \"119\": 1}, \"2\": {\"37\": 1, \"77\": 2, \"5\": 1, \"79\": 2, \"85\": 1, \"2\": 2, \"22\": 1, \"119\": 1, \"45\": 1}, \"48\": {\"48\": 6, \"37\": 1, \"59\": 2, \"119\": 1, \"91\": 1, \"80\": 1}, \"23\": {\"7\": 2, \"122\": 2, \"23\": 5, \"84\": 1, \"14\": 1, \"12\": 1}, \"7\": {\"105\": 2, \"60\": 1, \"7\": 8, \"23\": 1}, \"122\": {\"122\": 11, \"30\": 1}, \"57\": {\"25\": 1, \"108\": 1, \"57\": 3, \"89\": 1, \"58\": 1, \"29\": 1, \"83\": 1, \"30\": 1, \"92\": 1, \"99\": 1}, \"39\": {\"39\": 8, \"70\": 2}, \"79\": {\"79\": 8, \"115\": 1, \"22\": 1, \"124\": 2}, \"27\": {\"27\": 7, \"70\": 2, \"78\": 1}, \"74\": {\"35\": 2, \"70\": 1, \"45\": 1, \"128\": 1, \"31\": 1, \"114\": 2, \"9\": 1, \"78\": 1, \"8\": 1, \"81\": 1}, \"73\": {\"50\": 2, \"2\": 1, \"128\": 1, \"73\": 5, \"31\": 1, \"54\": 1, \"123\": 1}, \"62\": {\"62\": 11, \"105\": 1}, \"107\": {\"61\": 1, \"74\": 1, \"47\": 1, \"107\": 5, \"9\": 1, \"83\": 1, \"31\": 2}, \"128\": {\"34\": 1, \"53\": 1, \"128\": 3, \"58\": 6, \"83\": 1}, \"60\": {\"16\": 2, \"60\": 4, \"108\": 1, \"94\": 2, \"84\": 1, \"23\": 2}, \"114\": {\"114\": 8, \"53\": 1, \"47\": 1, \"32\": 1, \"9\": 1}, \"22\": {\"116\": 1, \"6\": 1, \"22\": 4, \"73\": 1, \"50\": 1, \"5\": 1, \"119\": 1, \"2\": 1, \"80\": 1}, \"93\": {\"93\": 11, \"60\": 1}, \"94\": {\"94\": 5, \"8\": 2, \"113\": 1, \"122\": 2, \"12\": 1, \"88\": 1}, \"31\": {\"61\": 2, \"58\": 1, \"128\": 1, \"74\": 1, \"31\": 2, \"64\": 1, \"56\": 1, \"107\": 1}, \"104\": {\"111\": 1, \"104\": 7, \"6\": 1, \"42\": 1, \"123\": 1, \"90\": 1}, \"58\": {\"107\": 2, \"73\": 1, \"9\": 1, \"31\": 1, \"58\": 3, \"2\": 1, \"128\": 1, \"92\": 1, \"32\": 1}}, \"C_A_2\": {\"14\": {\"14\": 9, \"27\": 3}, \"22\": {\"22\": 11, \"0\": 1}, \"9\": {\"9\": 5, \"20\": 2, \"8\": 1, \"57\": 3, \"1\": 1}, \"47\": {\"47\": 6, \"1\": 2, \"48\": 1, \"4\": 1, \"56\": 2}, \"13\": {\"13\": 9, \"27\": 2, \"41\": 1}, \"8\": {\"14\": 2, \"8\": 7, \"4\": 1, \"9\": 1, \"57\": 1}, \"7\": {\"7\": 7, \"43\": 1, \"23\": 1, \"39\": 1, \"17\": 2}, \"49\": {\"49\": 5, \"26\": 2, \"37\": 1, \"54\": 1, \"17\": 1, \"7\": 1, \"19\": 1}, \"20\": {\"20\": 6, \"1\": 3, \"4\": 3}, \"16\": {\"16\": 9, \"25\": 1, \"11\": 1, \"15\": 1}, \"34\": {\"16\": 3, \"26\": 3, \"34\": 1, \"19\": 1, \"11\": 1, \"10\": 1, \"28\": 1, \"49\": 1}, \"56\": {\"47\": 4, \"22\": 2, \"56\": 2, \"30\": 2, \"52\": 2}, \"38\": {\"13\": 2, \"38\": 5, \"2\": 2, \"27\": 1}, \"4\": {\"4\": 7, \"20\": 2, \"57\": 1, \"48\": 2}, \"43\": {\"43\": 9, \"54\": 1}, \"26\": {\"49\": 1, \"34\": 4, \"26\": 3, \"28\": 2}, \"35\": {\"31\": 2, \"55\": 2, \"23\": 1, \"35\": 4, \"42\": 1, \"7\": 1, \"33\": 1}, \"31\": {\"31\": 7, \"17\": 2, \"42\": 1, \"7\": 1, \"35\": 1}, \"1\": {\"20\": 2, \"1\": 3, \"47\": 1, \"48\": 3, \"4\": 2, \"22\": 1}, \"39\": {\"35\": 3, \"31\": 1, \"55\": 2, \"7\": 3, \"37\": 1, \"39\": 2}, \"5\": {\"5\": 11, \"50\": 1}, \"24\": {\"54\": 2, \"24\": 5, \"43\": 2, \"42\": 1, \"7\": 1, \"26\": 1}, \"54\": {\"24\": 3, \"31\": 1, \"23\": 4, \"43\": 1, \"54\": 1}, \"23\": {\"54\": 1, \"24\": 2, \"23\": 7, \"34\": 1, \"49\": 1}, \"51\": {\"51\": 8, \"41\": 2, \"33\": 1, \"32\": 1}, \"27\": {\"27\": 8, \"41\": 1, \"14\": 1}, \"15\": {\"15\": 7, \"11\": 4, \"16\": 1}, \"0\": {\"0\": 12}, \"19\": {\"19\": 8, \"49\": 1, \"34\": 1}, \"18\": {\"18\": 8}, \"30\": {\"0\": 2, \"30\": 10}, \"55\": {\"55\": 5, \"43\": 1, \"37\": 1, \"35\": 2, \"39\": 1}, \"57\": {\"57\": 11, \"20\": 1}, \"2\": {\"2\": 10, \"13\": 1, \"32\": 1}, \"12\": {\"12\": 6, \"21\": 1, \"5\": 1}, \"41\": {\"41\": 6, \"47\": 1, \"9\": 1, \"2\": 1, \"13\": 3}, \"42\": {\"42\": 5, \"26\": 2, \"37\": 1, \"31\": 2, \"49\": 1, \"34\": 1}, \"48\": {\"48\": 4, \"1\": 3, \"4\": 5}, \"37\": {\"37\": 6, \"51\": 1, \"33\": 1, \"55\": 1, \"2\": 1, \"17\": 2}, \"6\": {\"6\": 10}, \"11\": {\"11\": 7, \"16\": 1, \"15\": 2}, \"45\": {\"6\": 3, \"45\": 5}, \"21\": {\"21\": 12}, \"46\": {\"46\": 7, \"50\": 2, \"5\": 1}, \"25\": {\"25\": 10, \"53\": 1, \"16\": 1}, \"36\": {\"36\": 10}, \"53\": {\"53\": 11, \"26\": 1}, \"28\": {\"11\": 1, \"28\": 8, \"49\": 1, \"34\": 1, \"26\": 1}, \"40\": {\"30\": 1, \"40\": 8, \"22\": 1}, \"33\": {\"41\": 3, \"33\": 4, \"36\": 1, \"37\": 1, \"38\": 1}, \"44\": {\"44\": 9, \"21\": 1}, \"3\": {\"3\": 12}, \"17\": {\"17\": 10, \"55\": 1, \"7\": 1}, \"32\": {\"2\": 2, \"32\": 4, \"36\": 1, \"51\": 1, \"33\": 2}, \"10\": {\"10\": 8, \"28\": 1, \"15\": 1}, \"52\": {\"52\": 9, \"56\": 1}, \"50\": {\"50\": 7, \"46\": 1}, \"29\": {\"29\": 5, \"57\": 1}}}, \"per_domain_accuracy\": {\"ORACLE.run1_14\": {\"accuracy\": 0.46484375, \"source?\": true}, \"ORACLE.run1_20\": {\"accuracy\": 0.33203125, \"source?\": true}, \"ORACLE.run1_38\": {\"accuracy\": 0.39453125, \"source?\": true}, \"ORACLE.run1_8\": {\"accuracy\": 0.49296875, \"source?\": true}, \"ORACLE.run1_50\": {\"accuracy\": 0.35234375, \"source?\": true}, \"ORACLE.run1_32\": {\"accuracy\": 0.4200520833333333, \"source?\": true}, \"ORACLE.run1_26\": {\"accuracy\": 0.3111979166666667, \"source?\": true}, \"ORACLE.run1_44\": {\"accuracy\": 0.34375, \"source?\": true}, \"C_A_3\": {\"accuracy\": 0.6515625, \"source?\": false}, \"C_A_4\": {\"accuracy\": 0.609375, \"source?\": false}, \"C_A_5\": {\"accuracy\": 0.65, \"source?\": false}, \"W_A_3\": {\"accuracy\": 0.4270833333333333, \"source?\": false}, \"C_A_1\": {\"accuracy\": 0.703125, \"source?\": false}, \"W_A_4\": {\"accuracy\": 0.431640625, \"source?\": false}, \"W_A_1\": {\"accuracy\": 0.4830729166666667, \"source?\": false}, \"W_A_2\": {\"accuracy\": 0.4557291666666667, \"source?\": false}, \"C_A_2\": {\"accuracy\": 0.6421875, \"source?\": false}}}, \"history\": {\"epoch_indices\": [1, 2, 3, 4, 5, 6], \"train_label_loss\": [1.162216994246202, 4.052028841516447, 1.7252817663231066, 1.2151562209817626, 1.2049432693936286, 1.1931032409891487], \"source_val_label_loss\": [552.9266357421875, 3.927903175354004, 1.2112741470336914, 1.2147278785705566, 1.2010501623153687, 1.1958038806915283], \"target_val_label_loss\": [78366.8359375, 40854.171875, 42389.1015625, 48406.06640625, 50509.91015625, 74237.359375], \"source_val_acc_label\": [0.37200520833333334, 0.38896484375, 0.5423502604166667, 0.544921875, 0.54150390625, 0.543359375], \"target_val_acc_label\": [0.238013698630137, 0.5185145547945206, 0.4685359589041096, 0.5356378424657534, 0.5341395547945206, 0.5633561643835616]}, \"dataset_metrics\": {\"source\": {\"train\": {\"n_unique_x\": 179200, \"n_unique_y\": 16, \"n_batch/episode\": 6720}, \"val\": {\"n_unique_x\": 38400, \"n_unique_y\": 16, \"n_batch/episode\": 960}, \"test\": {\"n_unique_x\": 38400, \"n_unique_y\": 16, \"n_batch/episode\": 960}}, \"target\": {\"train\": {\"n_unique_x\": 56700, \"n_unique_y\": 130, \"n_batch/episode\": 2080}, \"val\": {\"n_unique_x\": 12132, \"n_unique_y\": 130, \"n_batch/episode\": 292}, \"test\": {\"n_unique_x\": 12132, \"n_unique_y\": 130, \"n_batch/episode\": 292}}}}'"
      ]
     },
     "execution_count": 29,
     "metadata": {},
     "output_type": "execute_result"
    }
   ],
   "source": [
    "json.dumps(experiment)"
   ]
  }
 ],
 "metadata": {
  "celltoolbar": "Tags",
  "kernelspec": {
   "display_name": "Python 3 (ipykernel)",
   "language": "python",
   "name": "python3"
  },
  "language_info": {
   "codemirror_mode": {
    "name": "ipython",
    "version": 3
   },
   "file_extension": ".py",
   "mimetype": "text/x-python",
   "name": "python",
   "nbconvert_exporter": "python",
   "pygments_lexer": "ipython3",
   "version": "3.8.10"
  },
  "papermill": {
   "default_parameters": {},
   "duration": 1181.130397,
   "end_time": "2022-03-18T07:28:18.474212",
   "environment_variables": {},
   "exception": null,
   "input_path": "/mnt/wd500GB/CSC500/csc500-main/csc500-notebooks/templates/tl_ptn_template.ipynb",
   "output_path": "trial.ipynb",
   "parameters": {
    "parameters": {
     "BEST_MODEL_PATH": "./best_model.pth",
     "NUM_LOGS_PER_EPOCH": 10,
     "criteria_for_best": "target_loss",
     "dataset_seed": 1337,
     "datasets": [
      {
       "domain_prefix": "C_A_",
       "domains": [
        1,
        2,
        3,
        4,
        5
       ],
       "episode_transforms": [],
       "labels": [
        "1-10.",
        "1-11.",
        "1-15.",
        "1-16.",
        "1-17.",
        "1-18.",
        "1-19.",
        "10-4.",
        "10-7.",
        "11-1.",
        "11-14.",
        "11-17.",
        "11-20.",
        "11-7.",
        "13-20.",
        "13-8.",
        "14-10.",
        "14-11.",
        "14-14.",
        "14-7.",
        "15-1.",
        "15-20.",
        "16-1.",
        "16-16.",
        "17-10.",
        "17-11.",
        "17-2.",
        "19-1.",
        "19-16.",
        "19-19.",
        "19-20.",
        "19-3.",
        "2-10.",
        "2-11.",
        "2-17.",
        "2-18.",
        "2-20.",
        "2-3.",
        "2-4.",
        "2-5.",
        "2-6.",
        "2-7.",
        "2-8.",
        "3-13.",
        "3-18.",
        "3-3.",
        "4-1.",
        "4-10.",
        "4-11.",
        "4-19.",
        "5-5.",
        "6-15.",
        "7-10.",
        "7-14.",
        "8-18.",
        "8-20.",
        "8-3.",
        "8-8."
       ],
       "num_examples_per_domain_per_label": 100,
       "pickle_path": "/mnt/wd500GB/CSC500/csc500-main/datasets/cores.stratified_ds.2022A.pkl",
       "source_or_target_dataset": "target",
       "x_transforms": [
        "jitter_256_10",
        "take_200"
       ]
      },
      {
       "domain_prefix": "W_A_",
       "domains": [
        1,
        2,
        3,
        4
       ],
       "episode_transforms": [],
       "labels": [
        "1-10",
        "1-12",
        "1-14",
        "1-16",
        "1-18",
        "1-19",
        "1-8",
        "10-11",
        "10-17",
        "10-4",
        "10-7",
        "11-1",
        "11-10",
        "11-19",
        "11-20",
        "11-4",
        "11-7",
        "12-19",
        "12-20",
        "12-7",
        "13-14",
        "13-18",
        "13-19",
        "13-20",
        "13-3",
        "13-7",
        "14-10",
        "14-11",
        "14-12",
        "14-13",
        "14-14",
        "14-19",
        "14-20",
        "14-7",
        "14-8",
        "14-9",
        "15-1",
        "15-19",
        "15-6",
        "16-1",
        "16-16",
        "16-19",
        "16-20",
        "17-10",
        "17-11",
        "18-1",
        "18-10",
        "18-11",
        "18-12",
        "18-13",
        "18-14",
        "18-15",
        "18-16",
        "18-17",
        "18-19",
        "18-2",
        "18-20",
        "18-4",
        "18-5",
        "18-7",
        "18-8",
        "18-9",
        "19-1",
        "19-10",
        "19-11",
        "19-12",
        "19-13",
        "19-14",
        "19-15",
        "19-19",
        "19-2",
        "19-20",
        "19-3",
        "19-4",
        "19-6",
        "19-7",
        "19-8",
        "19-9",
        "2-1",
        "2-13",
        "2-15",
        "2-3",
        "2-4",
        "2-5",
        "2-6",
        "2-7",
        "2-8",
        "20-1",
        "20-12",
        "20-14",
        "20-15",
        "20-16",
        "20-18",
        "20-19",
        "20-20",
        "20-3",
        "20-4",
        "20-5",
        "20-7",
        "20-8",
        "3-1",
        "3-13",
        "3-18",
        "3-2",
        "3-8",
        "4-1",
        "4-10",
        "4-11",
        "5-1",
        "5-5",
        "6-1",
        "6-15",
        "6-6",
        "7-10",
        "7-11",
        "7-12",
        "7-13",
        "7-14",
        "7-7",
        "7-8",
        "7-9",
        "8-1",
        "8-13",
        "8-14",
        "8-18",
        "8-20",
        "8-3",
        "8-8",
        "9-1",
        "9-7"
       ],
       "num_examples_per_domain_per_label": 100,
       "pickle_path": "/mnt/wd500GB/CSC500/csc500-main/datasets/wisig.node3-19.stratified_ds.2022A.pkl",
       "source_or_target_dataset": "target",
       "x_transforms": [
        "jitter_256_10",
        "take_200"
       ]
      },
      {
       "domain_prefix": "ORACLE.run1_",
       "domains": [
        32,
        38,
        8,
        44,
        14,
        50,
        20,
        26
       ],
       "episode_transforms": [],
       "labels": [
        "3123D52",
        "3123D65",
        "3123D79",
        "3123D80",
        "3123D54",
        "3123D70",
        "3123D7B",
        "3123D89",
        "3123D58",
        "3123D76",
        "3123D7D",
        "3123EFE",
        "3123D64",
        "3123D78",
        "3123D7E",
        "3124E4A"
       ],
       "num_examples_per_domain_per_label": 2000,
       "pickle_path": "/mnt/wd500GB/CSC500/csc500-main/datasets/oracle.Run1_framed_2000Examples_stratified_ds.2022A.pkl",
       "source_or_target_dataset": "source",
       "x_transforms": [
        "jitter_256_10",
        "take_200",
        "resample_20Msps_to_25Msps"
       ]
      }
     ],
     "device": "cuda",
     "experiment_name": "tl_3-jitter10:oracle.run1.framed -> cores+wisig",
     "lr": 0.001,
     "n_epoch": 50,
     "n_query": 2,
     "n_shot": 3,
     "n_way": 16,
     "patience": 3,
     "seed": 1337,
     "test_k_factor": 2,
     "torch_default_dtype": "torch.float32",
     "train_k_factor": 3,
     "val_k_factor": 2,
     "x_net": [
      {
       "class": "nnReshape",
       "kargs": {
        "shape": [
         -1,
         1,
         2,
         256
        ]
       }
      },
      {
       "class": "Conv2d",
       "kargs": {
        "bias": false,
        "in_channels": 1,
        "kernel_size": [
         1,
         7
        ],
        "out_channels": 256,
        "padding": [
         0,
         3
        ]
       }
      },
      {
       "class": "ReLU",
       "kargs": {
        "inplace": true
       }
      },
      {
       "class": "BatchNorm2d",
       "kargs": {
        "num_features": 256
       }
      },
      {
       "class": "Conv2d",
       "kargs": {
        "bias": true,
        "in_channels": 256,
        "kernel_size": [
         2,
         7
        ],
        "out_channels": 80,
        "padding": [
         0,
         3
        ]
       }
      },
      {
       "class": "ReLU",
       "kargs": {
        "inplace": true
       }
      },
      {
       "class": "BatchNorm2d",
       "kargs": {
        "num_features": 80
       }
      },
      {
       "class": "Flatten",
       "kargs": {}
      },
      {
       "class": "Linear",
       "kargs": {
        "in_features": 20480,
        "out_features": 256
       }
      },
      {
       "class": "ReLU",
       "kargs": {
        "inplace": true
       }
      },
      {
       "class": "BatchNorm1d",
       "kargs": {
        "num_features": 256
       }
      },
      {
       "class": "Linear",
       "kargs": {
        "in_features": 256,
        "out_features": 256
       }
      }
     ]
    }
   },
   "start_time": "2022-03-18T07:08:37.343815",
   "version": "2.3.4"
  }
 },
 "nbformat": 4,
 "nbformat_minor": 5
}