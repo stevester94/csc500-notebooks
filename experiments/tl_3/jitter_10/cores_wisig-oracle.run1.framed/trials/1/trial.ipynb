{
 "cells": [
  {
   "cell_type": "markdown",
   "id": "9fea5f46",
   "metadata": {
    "papermill": {
     "duration": 0.018177,
     "end_time": "2022-03-18T07:38:43.693255",
     "exception": false,
     "start_time": "2022-03-18T07:38:43.675078",
     "status": "completed"
    },
    "tags": []
   },
   "source": [
    "# Transfer Learning Template"
   ]
  },
  {
   "cell_type": "code",
   "execution_count": 1,
   "id": "0902182a",
   "metadata": {
    "execution": {
     "iopub.execute_input": "2022-03-18T07:38:43.731343Z",
     "iopub.status.busy": "2022-03-18T07:38:43.730840Z",
     "iopub.status.idle": "2022-03-18T07:38:44.635240Z",
     "shell.execute_reply": "2022-03-18T07:38:44.634948Z"
    },
    "papermill": {
     "duration": 0.929393,
     "end_time": "2022-03-18T07:38:44.635305",
     "exception": false,
     "start_time": "2022-03-18T07:38:43.705912",
     "status": "completed"
    },
    "tags": []
   },
   "outputs": [],
   "source": [
    "%load_ext autoreload\n",
    "%autoreload 2\n",
    "%matplotlib inline\n",
    "\n",
    "    \n",
    "import os, json, sys, time, random\n",
    "import numpy as np\n",
    "import torch\n",
    "from torch.optim import Adam\n",
    "from  easydict import EasyDict\n",
    "import matplotlib.pyplot as plt\n",
    "\n",
    "from steves_models.steves_ptn import Steves_Prototypical_Network\n",
    "\n",
    "from steves_utils.lazy_iterable_wrapper import Lazy_Iterable_Wrapper\n",
    "from steves_utils.iterable_aggregator import Iterable_Aggregator\n",
    "from steves_utils.ptn_train_eval_test_jig import  PTN_Train_Eval_Test_Jig\n",
    "from steves_utils.torch_sequential_builder import build_sequential\n",
    "from steves_utils.torch_utils import get_dataset_metrics, ptn_confusion_by_domain_over_dataloader\n",
    "from steves_utils.utils_v2 import (per_domain_accuracy_from_confusion, get_datasets_base_path)\n",
    "from steves_utils.PTN.utils import independent_accuracy_assesment\n",
    "\n",
    "from torch.utils.data import DataLoader\n",
    "\n",
    "from steves_utils.stratified_dataset.episodic_accessor import Episodic_Accessor_Factory\n",
    "\n",
    "from steves_utils.ptn_do_report import (\n",
    "    get_loss_curve,\n",
    "    get_results_table,\n",
    "    get_parameters_table,\n",
    "    get_domain_accuracies,\n",
    ")\n",
    "\n",
    "from steves_utils.transforms import get_chained_transform"
   ]
  },
  {
   "cell_type": "markdown",
   "id": "41c840b4",
   "metadata": {
    "papermill": {
     "duration": 0.013276,
     "end_time": "2022-03-18T07:38:44.662167",
     "exception": false,
     "start_time": "2022-03-18T07:38:44.648891",
     "status": "completed"
    },
    "tags": []
   },
   "source": [
    "# Allowed Parameters\n",
    "These are allowed parameters, not defaults\n",
    "Each of these values need to be present in the injected parameters (the notebook will raise an exception if they are not present)\n",
    "\n",
    "Papermill uses the cell tag \"parameters\" to inject the real parameters below this cell.\n",
    "Enable tags to see what I mean"
   ]
  },
  {
   "cell_type": "code",
   "execution_count": 2,
   "id": "fd44eb83",
   "metadata": {
    "execution": {
     "iopub.execute_input": "2022-03-18T07:38:44.690780Z",
     "iopub.status.busy": "2022-03-18T07:38:44.690514Z",
     "iopub.status.idle": "2022-03-18T07:38:44.701398Z",
     "shell.execute_reply": "2022-03-18T07:38:44.701144Z"
    },
    "papermill": {
     "duration": 0.026005,
     "end_time": "2022-03-18T07:38:44.701449",
     "exception": false,
     "start_time": "2022-03-18T07:38:44.675444",
     "status": "completed"
    },
    "tags": []
   },
   "outputs": [],
   "source": [
    "required_parameters = {\n",
    "    \"experiment_name\",\n",
    "    \"lr\",\n",
    "    \"device\",\n",
    "    \"seed\",\n",
    "    \"dataset_seed\",\n",
    "    \"n_shot\",\n",
    "    \"n_query\",\n",
    "    \"n_way\",\n",
    "    \"train_k_factor\",\n",
    "    \"val_k_factor\",\n",
    "    \"test_k_factor\",\n",
    "    \"n_epoch\",\n",
    "    \"patience\",\n",
    "    \"criteria_for_best\",\n",
    "    \"x_net\",\n",
    "    \"datasets\",\n",
    "    \"torch_default_dtype\",\n",
    "    \"NUM_LOGS_PER_EPOCH\",\n",
    "    \"BEST_MODEL_PATH\",\n",
    "    \"x_shape\",\n",
    "}"
   ]
  },
  {
   "cell_type": "code",
   "execution_count": 3,
   "id": "fa3f0049",
   "metadata": {
    "execution": {
     "iopub.execute_input": "2022-03-18T07:38:44.739000Z",
     "iopub.status.busy": "2022-03-18T07:38:44.738705Z",
     "iopub.status.idle": "2022-03-18T07:38:44.751175Z",
     "shell.execute_reply": "2022-03-18T07:38:44.750772Z"
    },
    "papermill": {
     "duration": 0.031933,
     "end_time": "2022-03-18T07:38:44.751285",
     "exception": false,
     "start_time": "2022-03-18T07:38:44.719352",
     "status": "completed"
    },
    "tags": [
     "parameters"
    ]
   },
   "outputs": [],
   "source": [
    "from steves_utils.CORES.utils import (\n",
    "    ALL_NODES,\n",
    "    ALL_NODES_MINIMUM_1000_EXAMPLES,\n",
    "    ALL_DAYS\n",
    ")\n",
    "\n",
    "from steves_utils.ORACLE.utils_v2 import (\n",
    "    ALL_DISTANCES_FEET_NARROWED,\n",
    "    ALL_RUNS,\n",
    "    ALL_SERIAL_NUMBERS,\n",
    ")\n",
    "\n",
    "standalone_parameters = {}\n",
    "standalone_parameters[\"experiment_name\"] = \"STANDALONE PTN\"\n",
    "standalone_parameters[\"lr\"] = 0.001\n",
    "standalone_parameters[\"device\"] = \"cuda\"\n",
    "\n",
    "standalone_parameters[\"seed\"] = 1337\n",
    "standalone_parameters[\"dataset_seed\"] = 1337\n",
    "\n",
    "standalone_parameters[\"n_way\"] = 8\n",
    "standalone_parameters[\"n_shot\"] = 3\n",
    "standalone_parameters[\"n_query\"]  = 2\n",
    "standalone_parameters[\"train_k_factor\"] = 1\n",
    "standalone_parameters[\"val_k_factor\"] = 2\n",
    "standalone_parameters[\"test_k_factor\"] = 2\n",
    "\n",
    "\n",
    "standalone_parameters[\"n_epoch\"] = 50\n",
    "\n",
    "standalone_parameters[\"patience\"] = 10\n",
    "standalone_parameters[\"criteria_for_best\"] = \"source_loss\"\n",
    "\n",
    "standalone_parameters[\"datasets\"] = [\n",
    "    {\n",
    "        \"labels\": ALL_SERIAL_NUMBERS,\n",
    "        \"domains\": ALL_DISTANCES_FEET_NARROWED,\n",
    "        \"num_examples_per_domain_per_label\": 100,\n",
    "        \"pickle_path\": os.path.join(get_datasets_base_path(), \"oracle.Run1_framed_2000Examples_stratified_ds.2022A.pkl\"),\n",
    "        \"source_or_target_dataset\": \"source\",\n",
    "        \"x_transforms\": [\"unit_mag\", \"minus_two\"],\n",
    "        \"episode_transforms\": [],\n",
    "        \"domain_prefix\": \"ORACLE_\"\n",
    "    },\n",
    "    {\n",
    "        \"labels\": ALL_NODES,\n",
    "        \"domains\": ALL_DAYS,\n",
    "        \"num_examples_per_domain_per_label\": 100,\n",
    "        \"pickle_path\": os.path.join(get_datasets_base_path(), \"cores.stratified_ds.2022A.pkl\"),\n",
    "        \"source_or_target_dataset\": \"target\",\n",
    "        \"x_transforms\": [\"unit_power\", \"times_zero\"],\n",
    "        \"episode_transforms\": [],\n",
    "        \"domain_prefix\": \"CORES_\"\n",
    "    }   \n",
    "]\n",
    "\n",
    "standalone_parameters[\"torch_default_dtype\"] = \"torch.float32\" \n",
    "\n",
    "\n",
    "\n",
    "standalone_parameters[\"x_net\"] =     [\n",
    "    {\"class\": \"nnReshape\", \"kargs\": {\"shape\":[-1, 1, 2, 256]}},\n",
    "    {\"class\": \"Conv2d\", \"kargs\": { \"in_channels\":1, \"out_channels\":256, \"kernel_size\":(1,7), \"bias\":False, \"padding\":(0,3), },},\n",
    "    {\"class\": \"ReLU\", \"kargs\": {\"inplace\": True}},\n",
    "    {\"class\": \"BatchNorm2d\", \"kargs\": {\"num_features\":256}},\n",
    "\n",
    "    {\"class\": \"Conv2d\", \"kargs\": { \"in_channels\":256, \"out_channels\":80, \"kernel_size\":(2,7), \"bias\":True, \"padding\":(0,3), },},\n",
    "    {\"class\": \"ReLU\", \"kargs\": {\"inplace\": True}},\n",
    "    {\"class\": \"BatchNorm2d\", \"kargs\": {\"num_features\":80}},\n",
    "    {\"class\": \"Flatten\", \"kargs\": {}},\n",
    "\n",
    "    {\"class\": \"Linear\", \"kargs\": {\"in_features\": 80*256, \"out_features\": 256}}, # 80 units per IQ pair\n",
    "    {\"class\": \"ReLU\", \"kargs\": {\"inplace\": True}},\n",
    "    {\"class\": \"BatchNorm1d\", \"kargs\": {\"num_features\":256}},\n",
    "\n",
    "    {\"class\": \"Linear\", \"kargs\": {\"in_features\": 256, \"out_features\": 256}},\n",
    "]\n",
    "\n",
    "# Parameters relevant to results\n",
    "# These parameters will basically never need to change\n",
    "standalone_parameters[\"NUM_LOGS_PER_EPOCH\"] = 10\n",
    "standalone_parameters[\"BEST_MODEL_PATH\"] = \"./best_model.pth\"\n",
    "\n",
    "\n",
    "\n",
    "\n"
   ]
  },
  {
   "cell_type": "code",
   "execution_count": 4,
   "id": "2287b554",
   "metadata": {
    "execution": {
     "iopub.execute_input": "2022-03-18T07:38:44.791357Z",
     "iopub.status.busy": "2022-03-18T07:38:44.790877Z",
     "iopub.status.idle": "2022-03-18T07:38:44.803977Z",
     "shell.execute_reply": "2022-03-18T07:38:44.804334Z"
    },
    "papermill": {
     "duration": 0.035813,
     "end_time": "2022-03-18T07:38:44.804440",
     "exception": false,
     "start_time": "2022-03-18T07:38:44.768627",
     "status": "completed"
    },
    "tags": [
     "injected-parameters"
    ]
   },
   "outputs": [],
   "source": [
    "# Parameters\n",
    "parameters = {\n",
    "    \"experiment_name\": \"tl_3-jitter10:cores+wisig -> oracle.run1.framed\",\n",
    "    \"device\": \"cuda\",\n",
    "    \"lr\": 0.001,\n",
    "    \"seed\": 1337,\n",
    "    \"dataset_seed\": 1337,\n",
    "    \"n_shot\": 3,\n",
    "    \"n_query\": 2,\n",
    "    \"train_k_factor\": 3,\n",
    "    \"val_k_factor\": 2,\n",
    "    \"test_k_factor\": 2,\n",
    "    \"torch_default_dtype\": \"torch.float32\",\n",
    "    \"n_epoch\": 50,\n",
    "    \"patience\": 3,\n",
    "    \"criteria_for_best\": \"target_loss\",\n",
    "    \"x_net\": [\n",
    "        {\"class\": \"nnReshape\", \"kargs\": {\"shape\": [-1, 1, 2, 256]}},\n",
    "        {\n",
    "            \"class\": \"Conv2d\",\n",
    "            \"kargs\": {\n",
    "                \"in_channels\": 1,\n",
    "                \"out_channels\": 256,\n",
    "                \"kernel_size\": [1, 7],\n",
    "                \"bias\": False,\n",
    "                \"padding\": [0, 3],\n",
    "            },\n",
    "        },\n",
    "        {\"class\": \"ReLU\", \"kargs\": {\"inplace\": True}},\n",
    "        {\"class\": \"BatchNorm2d\", \"kargs\": {\"num_features\": 256}},\n",
    "        {\n",
    "            \"class\": \"Conv2d\",\n",
    "            \"kargs\": {\n",
    "                \"in_channels\": 256,\n",
    "                \"out_channels\": 80,\n",
    "                \"kernel_size\": [2, 7],\n",
    "                \"bias\": True,\n",
    "                \"padding\": [0, 3],\n",
    "            },\n",
    "        },\n",
    "        {\"class\": \"ReLU\", \"kargs\": {\"inplace\": True}},\n",
    "        {\"class\": \"BatchNorm2d\", \"kargs\": {\"num_features\": 80}},\n",
    "        {\"class\": \"Flatten\", \"kargs\": {}},\n",
    "        {\"class\": \"Linear\", \"kargs\": {\"in_features\": 20480, \"out_features\": 256}},\n",
    "        {\"class\": \"ReLU\", \"kargs\": {\"inplace\": True}},\n",
    "        {\"class\": \"BatchNorm1d\", \"kargs\": {\"num_features\": 256}},\n",
    "        {\"class\": \"Linear\", \"kargs\": {\"in_features\": 256, \"out_features\": 256}},\n",
    "    ],\n",
    "    \"NUM_LOGS_PER_EPOCH\": 10,\n",
    "    \"BEST_MODEL_PATH\": \"./best_model.pth\",\n",
    "    \"n_way\": 16,\n",
    "    \"datasets\": [\n",
    "        {\n",
    "            \"labels\": [\n",
    "                \"1-10.\",\n",
    "                \"1-11.\",\n",
    "                \"1-15.\",\n",
    "                \"1-16.\",\n",
    "                \"1-17.\",\n",
    "                \"1-18.\",\n",
    "                \"1-19.\",\n",
    "                \"10-4.\",\n",
    "                \"10-7.\",\n",
    "                \"11-1.\",\n",
    "                \"11-14.\",\n",
    "                \"11-17.\",\n",
    "                \"11-20.\",\n",
    "                \"11-7.\",\n",
    "                \"13-20.\",\n",
    "                \"13-8.\",\n",
    "                \"14-10.\",\n",
    "                \"14-11.\",\n",
    "                \"14-14.\",\n",
    "                \"14-7.\",\n",
    "                \"15-1.\",\n",
    "                \"15-20.\",\n",
    "                \"16-1.\",\n",
    "                \"16-16.\",\n",
    "                \"17-10.\",\n",
    "                \"17-11.\",\n",
    "                \"17-2.\",\n",
    "                \"19-1.\",\n",
    "                \"19-16.\",\n",
    "                \"19-19.\",\n",
    "                \"19-20.\",\n",
    "                \"19-3.\",\n",
    "                \"2-10.\",\n",
    "                \"2-11.\",\n",
    "                \"2-17.\",\n",
    "                \"2-18.\",\n",
    "                \"2-20.\",\n",
    "                \"2-3.\",\n",
    "                \"2-4.\",\n",
    "                \"2-5.\",\n",
    "                \"2-6.\",\n",
    "                \"2-7.\",\n",
    "                \"2-8.\",\n",
    "                \"3-13.\",\n",
    "                \"3-18.\",\n",
    "                \"3-3.\",\n",
    "                \"4-1.\",\n",
    "                \"4-10.\",\n",
    "                \"4-11.\",\n",
    "                \"4-19.\",\n",
    "                \"5-5.\",\n",
    "                \"6-15.\",\n",
    "                \"7-10.\",\n",
    "                \"7-14.\",\n",
    "                \"8-18.\",\n",
    "                \"8-20.\",\n",
    "                \"8-3.\",\n",
    "                \"8-8.\",\n",
    "            ],\n",
    "            \"domains\": [1, 2, 3, 4, 5],\n",
    "            \"num_examples_per_domain_per_label\": 100,\n",
    "            \"pickle_path\": \"/mnt/wd500GB/CSC500/csc500-main/datasets/cores.stratified_ds.2022A.pkl\",\n",
    "            \"source_or_target_dataset\": \"source\",\n",
    "            \"x_transforms\": [\"unit_mag\", \"jitter_256_10\", \"take_200\"],\n",
    "            \"episode_transforms\": [],\n",
    "            \"domain_prefix\": \"C_A_\",\n",
    "        },\n",
    "        {\n",
    "            \"labels\": [\n",
    "                \"1-10\",\n",
    "                \"1-12\",\n",
    "                \"1-14\",\n",
    "                \"1-16\",\n",
    "                \"1-18\",\n",
    "                \"1-19\",\n",
    "                \"1-8\",\n",
    "                \"10-11\",\n",
    "                \"10-17\",\n",
    "                \"10-4\",\n",
    "                \"10-7\",\n",
    "                \"11-1\",\n",
    "                \"11-10\",\n",
    "                \"11-19\",\n",
    "                \"11-20\",\n",
    "                \"11-4\",\n",
    "                \"11-7\",\n",
    "                \"12-19\",\n",
    "                \"12-20\",\n",
    "                \"12-7\",\n",
    "                \"13-14\",\n",
    "                \"13-18\",\n",
    "                \"13-19\",\n",
    "                \"13-20\",\n",
    "                \"13-3\",\n",
    "                \"13-7\",\n",
    "                \"14-10\",\n",
    "                \"14-11\",\n",
    "                \"14-12\",\n",
    "                \"14-13\",\n",
    "                \"14-14\",\n",
    "                \"14-19\",\n",
    "                \"14-20\",\n",
    "                \"14-7\",\n",
    "                \"14-8\",\n",
    "                \"14-9\",\n",
    "                \"15-1\",\n",
    "                \"15-19\",\n",
    "                \"15-6\",\n",
    "                \"16-1\",\n",
    "                \"16-16\",\n",
    "                \"16-19\",\n",
    "                \"16-20\",\n",
    "                \"17-10\",\n",
    "                \"17-11\",\n",
    "                \"18-1\",\n",
    "                \"18-10\",\n",
    "                \"18-11\",\n",
    "                \"18-12\",\n",
    "                \"18-13\",\n",
    "                \"18-14\",\n",
    "                \"18-15\",\n",
    "                \"18-16\",\n",
    "                \"18-17\",\n",
    "                \"18-19\",\n",
    "                \"18-2\",\n",
    "                \"18-20\",\n",
    "                \"18-4\",\n",
    "                \"18-5\",\n",
    "                \"18-7\",\n",
    "                \"18-8\",\n",
    "                \"18-9\",\n",
    "                \"19-1\",\n",
    "                \"19-10\",\n",
    "                \"19-11\",\n",
    "                \"19-12\",\n",
    "                \"19-13\",\n",
    "                \"19-14\",\n",
    "                \"19-15\",\n",
    "                \"19-19\",\n",
    "                \"19-2\",\n",
    "                \"19-20\",\n",
    "                \"19-3\",\n",
    "                \"19-4\",\n",
    "                \"19-6\",\n",
    "                \"19-7\",\n",
    "                \"19-8\",\n",
    "                \"19-9\",\n",
    "                \"2-1\",\n",
    "                \"2-13\",\n",
    "                \"2-15\",\n",
    "                \"2-3\",\n",
    "                \"2-4\",\n",
    "                \"2-5\",\n",
    "                \"2-6\",\n",
    "                \"2-7\",\n",
    "                \"2-8\",\n",
    "                \"20-1\",\n",
    "                \"20-12\",\n",
    "                \"20-14\",\n",
    "                \"20-15\",\n",
    "                \"20-16\",\n",
    "                \"20-18\",\n",
    "                \"20-19\",\n",
    "                \"20-20\",\n",
    "                \"20-3\",\n",
    "                \"20-4\",\n",
    "                \"20-5\",\n",
    "                \"20-7\",\n",
    "                \"20-8\",\n",
    "                \"3-1\",\n",
    "                \"3-13\",\n",
    "                \"3-18\",\n",
    "                \"3-2\",\n",
    "                \"3-8\",\n",
    "                \"4-1\",\n",
    "                \"4-10\",\n",
    "                \"4-11\",\n",
    "                \"5-1\",\n",
    "                \"5-5\",\n",
    "                \"6-1\",\n",
    "                \"6-15\",\n",
    "                \"6-6\",\n",
    "                \"7-10\",\n",
    "                \"7-11\",\n",
    "                \"7-12\",\n",
    "                \"7-13\",\n",
    "                \"7-14\",\n",
    "                \"7-7\",\n",
    "                \"7-8\",\n",
    "                \"7-9\",\n",
    "                \"8-1\",\n",
    "                \"8-13\",\n",
    "                \"8-14\",\n",
    "                \"8-18\",\n",
    "                \"8-20\",\n",
    "                \"8-3\",\n",
    "                \"8-8\",\n",
    "                \"9-1\",\n",
    "                \"9-7\",\n",
    "            ],\n",
    "            \"domains\": [1, 2, 3, 4],\n",
    "            \"num_examples_per_domain_per_label\": 100,\n",
    "            \"pickle_path\": \"/mnt/wd500GB/CSC500/csc500-main/datasets/wisig.node3-19.stratified_ds.2022A.pkl\",\n",
    "            \"source_or_target_dataset\": \"source\",\n",
    "            \"x_transforms\": [\"unit_mag\", \"jitter_256_10\", \"take_200\"],\n",
    "            \"episode_transforms\": [],\n",
    "            \"domain_prefix\": \"W_A_\",\n",
    "        },\n",
    "        {\n",
    "            \"labels\": [\n",
    "                \"3123D52\",\n",
    "                \"3123D65\",\n",
    "                \"3123D79\",\n",
    "                \"3123D80\",\n",
    "                \"3123D54\",\n",
    "                \"3123D70\",\n",
    "                \"3123D7B\",\n",
    "                \"3123D89\",\n",
    "                \"3123D58\",\n",
    "                \"3123D76\",\n",
    "                \"3123D7D\",\n",
    "                \"3123EFE\",\n",
    "                \"3123D64\",\n",
    "                \"3123D78\",\n",
    "                \"3123D7E\",\n",
    "                \"3124E4A\",\n",
    "            ],\n",
    "            \"domains\": [32, 38, 8, 44, 14, 50, 20, 26],\n",
    "            \"num_examples_per_domain_per_label\": 2000,\n",
    "            \"pickle_path\": \"/mnt/wd500GB/CSC500/csc500-main/datasets/oracle.Run1_framed_2000Examples_stratified_ds.2022A.pkl\",\n",
    "            \"source_or_target_dataset\": \"target\",\n",
    "            \"x_transforms\": [\n",
    "                \"unit_mag\",\n",
    "                \"jitter_256_10\",\n",
    "                \"take_200\",\n",
    "                \"resample_20Msps_to_25Msps\",\n",
    "            ],\n",
    "            \"episode_transforms\": [],\n",
    "            \"domain_prefix\": \"ORACLE.run1_\",\n",
    "        },\n",
    "    ],\n",
    "}\n"
   ]
  },
  {
   "cell_type": "code",
   "execution_count": 5,
   "id": "8fa1cc33",
   "metadata": {
    "execution": {
     "iopub.execute_input": "2022-03-18T07:38:44.839711Z",
     "iopub.status.busy": "2022-03-18T07:38:44.839456Z",
     "iopub.status.idle": "2022-03-18T07:38:44.850139Z",
     "shell.execute_reply": "2022-03-18T07:38:44.849690Z"
    },
    "papermill": {
     "duration": 0.027145,
     "end_time": "2022-03-18T07:38:44.850229",
     "exception": false,
     "start_time": "2022-03-18T07:38:44.823084",
     "status": "completed"
    },
    "tags": []
   },
   "outputs": [],
   "source": [
    "# Set this to True if you want to run this template directly\n",
    "STANDALONE = False\n",
    "if STANDALONE:\n",
    "    print(\"parameters not injected, running with standalone_parameters\")\n",
    "    parameters = standalone_parameters\n",
    "\n",
    "if not 'parameters' in locals() and not 'parameters' in globals():\n",
    "    raise Exception(\"Parameter injection failed\")\n",
    "\n",
    "#Use an easy dict for all the parameters\n",
    "p = EasyDict(parameters)\n",
    "\n",
    "if \"x_shape\" not in p:\n",
    "    p.x_shape = [2,256] # Default to this if we dont supply x_shape\n",
    "\n",
    "\n",
    "supplied_keys = set(p.keys())\n",
    "\n",
    "if  supplied_keys != required_parameters:\n",
    "    print(\"Parameters are incorrect\")\n",
    "    if len(supplied_keys - required_parameters)>0: print(\"Shouldn't have:\", str(supplied_keys - required_parameters))\n",
    "    if len(required_parameters - supplied_keys)>0: print(\"Need to have:\", str(required_parameters - supplied_keys))\n",
    "    raise RuntimeError(\"Parameters are incorrect\")"
   ]
  },
  {
   "cell_type": "code",
   "execution_count": 6,
   "id": "3a028d58",
   "metadata": {
    "execution": {
     "iopub.execute_input": "2022-03-18T07:38:44.884175Z",
     "iopub.status.busy": "2022-03-18T07:38:44.883922Z",
     "iopub.status.idle": "2022-03-18T07:38:44.893965Z",
     "shell.execute_reply": "2022-03-18T07:38:44.893653Z"
    },
    "papermill": {
     "duration": 0.025929,
     "end_time": "2022-03-18T07:38:44.894035",
     "exception": false,
     "start_time": "2022-03-18T07:38:44.868106",
     "status": "completed"
    },
    "tags": []
   },
   "outputs": [],
   "source": [
    "###################################\n",
    "# Set the RNGs and make it all deterministic\n",
    "###################################\n",
    "np.random.seed(p.seed)\n",
    "random.seed(p.seed)\n",
    "torch.manual_seed(p.seed)\n",
    "\n",
    "torch.use_deterministic_algorithms(True) "
   ]
  },
  {
   "cell_type": "code",
   "execution_count": 7,
   "id": "b691acf6",
   "metadata": {
    "execution": {
     "iopub.execute_input": "2022-03-18T07:38:44.927667Z",
     "iopub.status.busy": "2022-03-18T07:38:44.927416Z",
     "iopub.status.idle": "2022-03-18T07:38:44.937325Z",
     "shell.execute_reply": "2022-03-18T07:38:44.937077Z"
    },
    "papermill": {
     "duration": 0.025421,
     "end_time": "2022-03-18T07:38:44.937374",
     "exception": false,
     "start_time": "2022-03-18T07:38:44.911953",
     "status": "completed"
    },
    "tags": []
   },
   "outputs": [],
   "source": [
    "###########################################\n",
    "# The stratified datasets honor this\n",
    "###########################################\n",
    "torch.set_default_dtype(eval(p.torch_default_dtype))"
   ]
  },
  {
   "cell_type": "code",
   "execution_count": 8,
   "id": "b5fba671",
   "metadata": {
    "execution": {
     "iopub.execute_input": "2022-03-18T07:38:44.971653Z",
     "iopub.status.busy": "2022-03-18T07:38:44.971401Z",
     "iopub.status.idle": "2022-03-18T07:38:45.008198Z",
     "shell.execute_reply": "2022-03-18T07:38:45.007802Z"
    },
    "papermill": {
     "duration": 0.052366,
     "end_time": "2022-03-18T07:38:45.008288",
     "exception": false,
     "start_time": "2022-03-18T07:38:44.955922",
     "status": "completed"
    },
    "tags": []
   },
   "outputs": [],
   "source": [
    "###################################\n",
    "# Build the network(s)\n",
    "# Note: It's critical to do this AFTER setting the RNG\n",
    "###################################\n",
    "x_net = build_sequential(p.x_net)"
   ]
  },
  {
   "cell_type": "code",
   "execution_count": 9,
   "id": "5d7e61cc",
   "metadata": {
    "execution": {
     "iopub.execute_input": "2022-03-18T07:38:45.044238Z",
     "iopub.status.busy": "2022-03-18T07:38:45.043895Z",
     "iopub.status.idle": "2022-03-18T07:38:45.060126Z",
     "shell.execute_reply": "2022-03-18T07:38:45.059728Z"
    },
    "papermill": {
     "duration": 0.032374,
     "end_time": "2022-03-18T07:38:45.060216",
     "exception": false,
     "start_time": "2022-03-18T07:38:45.027842",
     "status": "completed"
    },
    "tags": []
   },
   "outputs": [],
   "source": [
    "start_time_secs = time.time()"
   ]
  },
  {
   "cell_type": "code",
   "execution_count": 10,
   "id": "c6b67dfd",
   "metadata": {
    "execution": {
     "iopub.execute_input": "2022-03-18T07:38:45.095569Z",
     "iopub.status.busy": "2022-03-18T07:38:45.095305Z",
     "iopub.status.idle": "2022-03-18T07:38:45.109160Z",
     "shell.execute_reply": "2022-03-18T07:38:45.108690Z"
    },
    "papermill": {
     "duration": 0.030249,
     "end_time": "2022-03-18T07:38:45.109255",
     "exception": false,
     "start_time": "2022-03-18T07:38:45.079006",
     "status": "completed"
    },
    "tags": []
   },
   "outputs": [],
   "source": [
    "p.domains_source = []\n",
    "p.domains_target = []\n",
    "\n",
    "\n",
    "train_original_source = []\n",
    "val_original_source   = []\n",
    "test_original_source  = []\n",
    "\n",
    "train_original_target = []\n",
    "val_original_target   = []\n",
    "test_original_target  = []"
   ]
  },
  {
   "cell_type": "code",
   "execution_count": 11,
   "id": "e3d9c3d3",
   "metadata": {
    "execution": {
     "iopub.execute_input": "2022-03-18T07:38:45.144886Z",
     "iopub.status.busy": "2022-03-18T07:38:45.142413Z",
     "iopub.status.idle": "2022-03-18T07:38:45.156335Z",
     "shell.execute_reply": "2022-03-18T07:38:45.156708Z"
    },
    "papermill": {
     "duration": 0.029511,
     "end_time": "2022-03-18T07:38:45.156822",
     "exception": false,
     "start_time": "2022-03-18T07:38:45.127311",
     "status": "completed"
    },
    "tags": []
   },
   "outputs": [],
   "source": [
    "# global_x_transform_func = lambda x: normalize(x.to(torch.get_default_dtype()), \"unit_power\") # unit_power, unit_mag\n",
    "# global_x_transform_func = lambda x: normalize(x, \"unit_power\") # unit_power, unit_mag"
   ]
  },
  {
   "cell_type": "code",
   "execution_count": 12,
   "id": "acb78fd2",
   "metadata": {
    "execution": {
     "iopub.execute_input": "2022-03-18T07:38:45.205320Z",
     "iopub.status.busy": "2022-03-18T07:38:45.204744Z",
     "iopub.status.idle": "2022-03-18T07:38:45.209820Z",
     "shell.execute_reply": "2022-03-18T07:38:45.209493Z"
    },
    "papermill": {
     "duration": 0.034344,
     "end_time": "2022-03-18T07:38:45.209894",
     "exception": false,
     "start_time": "2022-03-18T07:38:45.175550",
     "status": "completed"
    },
    "tags": []
   },
   "outputs": [],
   "source": [
    "def add_dataset(\n",
    "    labels,\n",
    "    domains,\n",
    "    pickle_path,\n",
    "    x_transforms,\n",
    "    episode_transforms,\n",
    "    domain_prefix,\n",
    "    num_examples_per_domain_per_label,\n",
    "    source_or_target_dataset:str,\n",
    "    iterator_seed=p.seed,\n",
    "    dataset_seed=p.dataset_seed,\n",
    "    n_shot=p.n_shot,\n",
    "    n_way=p.n_way,\n",
    "    n_query=p.n_query,\n",
    "    train_val_test_k_factors=(p.train_k_factor,p.val_k_factor,p.test_k_factor),\n",
    "):\n",
    "   \n",
    "    if x_transforms == []: x_transform = None\n",
    "    else: x_transform = get_chained_transform(x_transforms)\n",
    "    \n",
    "    if episode_transforms == []: episode_transform = None\n",
    "    else: raise Exception(\"episode_transforms not implemented\")\n",
    "    \n",
    "    episode_transform = lambda tup, _prefix=domain_prefix: (_prefix + str(tup[0]), tup[1])\n",
    "\n",
    "\n",
    "    eaf = Episodic_Accessor_Factory(\n",
    "        labels=labels,\n",
    "        domains=domains,\n",
    "        num_examples_per_domain_per_label=num_examples_per_domain_per_label,\n",
    "        iterator_seed=iterator_seed,\n",
    "        dataset_seed=dataset_seed,\n",
    "        n_shot=n_shot,\n",
    "        n_way=n_way,\n",
    "        n_query=n_query,\n",
    "        train_val_test_k_factors=train_val_test_k_factors,\n",
    "        pickle_path=pickle_path,\n",
    "        x_transform_func=x_transform,\n",
    "    )\n",
    "\n",
    "    train, val, test = eaf.get_train(), eaf.get_val(), eaf.get_test()\n",
    "    train = Lazy_Iterable_Wrapper(train, episode_transform)\n",
    "    val = Lazy_Iterable_Wrapper(val, episode_transform)\n",
    "    test = Lazy_Iterable_Wrapper(test, episode_transform)\n",
    "\n",
    "    if source_or_target_dataset==\"source\":\n",
    "        train_original_source.append(train)\n",
    "        val_original_source.append(val)\n",
    "        test_original_source.append(test)\n",
    "\n",
    "        p.domains_source.extend(\n",
    "            [domain_prefix + str(u) for u in domains]\n",
    "        )\n",
    "    elif source_or_target_dataset==\"target\":\n",
    "        train_original_target.append(train)\n",
    "        val_original_target.append(val)\n",
    "        test_original_target.append(test)\n",
    "        p.domains_target.extend(\n",
    "            [domain_prefix + str(u) for u in domains]\n",
    "        )\n",
    "    else:\n",
    "        raise Exception(f\"invalid source_or_target_dataset: {source_or_target_dataset}\")\n",
    "    "
   ]
  },
  {
   "cell_type": "code",
   "execution_count": 13,
   "id": "fe266617",
   "metadata": {
    "execution": {
     "iopub.execute_input": "2022-03-18T07:38:45.244375Z",
     "iopub.status.busy": "2022-03-18T07:38:45.241409Z",
     "iopub.status.idle": "2022-03-18T07:39:43.442811Z",
     "shell.execute_reply": "2022-03-18T07:39:43.442358Z"
    },
    "papermill": {
     "duration": 58.216663,
     "end_time": "2022-03-18T07:39:43.442912",
     "exception": false,
     "start_time": "2022-03-18T07:38:45.226249",
     "status": "completed"
    },
    "tags": []
   },
   "outputs": [],
   "source": [
    "for ds in p.datasets:\n",
    "    add_dataset(**ds)"
   ]
  },
  {
   "cell_type": "code",
   "execution_count": 14,
   "id": "b90d65ac",
   "metadata": {
    "execution": {
     "iopub.execute_input": "2022-03-18T07:39:43.476865Z",
     "iopub.status.busy": "2022-03-18T07:39:43.476584Z",
     "iopub.status.idle": "2022-03-18T07:39:43.493026Z",
     "shell.execute_reply": "2022-03-18T07:39:43.492542Z"
    },
    "papermill": {
     "duration": 0.032126,
     "end_time": "2022-03-18T07:39:43.493123",
     "exception": false,
     "start_time": "2022-03-18T07:39:43.460997",
     "status": "completed"
    },
    "tags": []
   },
   "outputs": [],
   "source": [
    "# from steves_utils.CORES.utils import (\n",
    "#     ALL_NODES,\n",
    "#     ALL_NODES_MINIMUM_1000_EXAMPLES,\n",
    "#     ALL_DAYS\n",
    "# )\n",
    "\n",
    "# add_dataset(\n",
    "#     labels=ALL_NODES,\n",
    "#     domains = ALL_DAYS,\n",
    "#     num_examples_per_domain_per_label=100,\n",
    "#     pickle_path=os.path.join(get_datasets_base_path(), \"cores.stratified_ds.2022A.pkl\"),\n",
    "#     source_or_target_dataset=\"target\",\n",
    "#     x_transform_func=global_x_transform_func,\n",
    "#     domain_modifier=lambda u: f\"cores_{u}\"\n",
    "# )"
   ]
  },
  {
   "cell_type": "code",
   "execution_count": 15,
   "id": "76db484d",
   "metadata": {
    "execution": {
     "iopub.execute_input": "2022-03-18T07:39:43.531295Z",
     "iopub.status.busy": "2022-03-18T07:39:43.526743Z",
     "iopub.status.idle": "2022-03-18T07:39:43.541699Z",
     "shell.execute_reply": "2022-03-18T07:39:43.541232Z"
    },
    "papermill": {
     "duration": 0.029699,
     "end_time": "2022-03-18T07:39:43.541795",
     "exception": false,
     "start_time": "2022-03-18T07:39:43.512096",
     "status": "completed"
    },
    "tags": []
   },
   "outputs": [],
   "source": [
    "# from steves_utils.ORACLE.utils_v2 import (\n",
    "#     ALL_DISTANCES_FEET,\n",
    "#     ALL_RUNS,\n",
    "#     ALL_SERIAL_NUMBERS,\n",
    "# )\n",
    "\n",
    "\n",
    "# add_dataset(\n",
    "#     labels=ALL_SERIAL_NUMBERS,\n",
    "#     domains = list(set(ALL_DISTANCES_FEET) - {2,62}),\n",
    "#     num_examples_per_domain_per_label=100,\n",
    "#     pickle_path=os.path.join(get_datasets_base_path(), \"oracle.Run2_framed_2000Examples_stratified_ds.2022A.pkl\"),\n",
    "#     source_or_target_dataset=\"source\",\n",
    "#     x_transform_func=global_x_transform_func,\n",
    "#     domain_modifier=lambda u: f\"oracle1_{u}\"\n",
    "# )\n"
   ]
  },
  {
   "cell_type": "code",
   "execution_count": 16,
   "id": "97dea9d2",
   "metadata": {
    "execution": {
     "iopub.execute_input": "2022-03-18T07:39:43.574988Z",
     "iopub.status.busy": "2022-03-18T07:39:43.574724Z",
     "iopub.status.idle": "2022-03-18T07:39:43.584428Z",
     "shell.execute_reply": "2022-03-18T07:39:43.584033Z"
    },
    "papermill": {
     "duration": 0.024722,
     "end_time": "2022-03-18T07:39:43.584528",
     "exception": false,
     "start_time": "2022-03-18T07:39:43.559806",
     "status": "completed"
    },
    "tags": []
   },
   "outputs": [],
   "source": [
    "# from steves_utils.ORACLE.utils_v2 import (\n",
    "#     ALL_DISTANCES_FEET,\n",
    "#     ALL_RUNS,\n",
    "#     ALL_SERIAL_NUMBERS,\n",
    "# )\n",
    "\n",
    "\n",
    "# add_dataset(\n",
    "#     labels=ALL_SERIAL_NUMBERS,\n",
    "#     domains = list(set(ALL_DISTANCES_FEET) - {2,62,56}),\n",
    "#     num_examples_per_domain_per_label=100,\n",
    "#     pickle_path=os.path.join(get_datasets_base_path(), \"oracle.Run2_framed_2000Examples_stratified_ds.2022A.pkl\"),\n",
    "#     source_or_target_dataset=\"source\",\n",
    "#     x_transform_func=global_x_transform_func,\n",
    "#     domain_modifier=lambda u: f\"oracle2_{u}\"\n",
    "# )"
   ]
  },
  {
   "cell_type": "code",
   "execution_count": 17,
   "id": "6f289866",
   "metadata": {
    "execution": {
     "iopub.execute_input": "2022-03-18T07:39:43.619790Z",
     "iopub.status.busy": "2022-03-18T07:39:43.618943Z",
     "iopub.status.idle": "2022-03-18T07:39:43.633305Z",
     "shell.execute_reply": "2022-03-18T07:39:43.632853Z"
    },
    "papermill": {
     "duration": 0.030279,
     "end_time": "2022-03-18T07:39:43.633396",
     "exception": false,
     "start_time": "2022-03-18T07:39:43.603117",
     "status": "completed"
    },
    "tags": []
   },
   "outputs": [],
   "source": [
    "# add_dataset(\n",
    "#     labels=list(range(19)),\n",
    "#     domains = [0,1,2],\n",
    "#     num_examples_per_domain_per_label=100,\n",
    "#     pickle_path=os.path.join(get_datasets_base_path(), \"metehan.stratified_ds.2022A.pkl\"),\n",
    "#     source_or_target_dataset=\"target\",\n",
    "#     x_transform_func=global_x_transform_func,\n",
    "#     domain_modifier=lambda u: f\"met_{u}\"\n",
    "# )"
   ]
  },
  {
   "cell_type": "code",
   "execution_count": 18,
   "id": "86a863c3",
   "metadata": {
    "execution": {
     "iopub.execute_input": "2022-03-18T07:39:43.673093Z",
     "iopub.status.busy": "2022-03-18T07:39:43.672731Z",
     "iopub.status.idle": "2022-03-18T07:39:43.681808Z",
     "shell.execute_reply": "2022-03-18T07:39:43.682213Z"
    },
    "papermill": {
     "duration": 0.030684,
     "end_time": "2022-03-18T07:39:43.682334",
     "exception": false,
     "start_time": "2022-03-18T07:39:43.651650",
     "status": "completed"
    },
    "tags": []
   },
   "outputs": [],
   "source": [
    "# # from steves_utils.wisig.utils import (\n",
    "# #     ALL_NODES_MINIMUM_100_EXAMPLES,\n",
    "# #     ALL_NODES_MINIMUM_500_EXAMPLES,\n",
    "# #     ALL_NODES_MINIMUM_1000_EXAMPLES,\n",
    "# #     ALL_DAYS\n",
    "# # )\n",
    "\n",
    "# import steves_utils.wisig.utils as wisig\n",
    "\n",
    "\n",
    "# add_dataset(\n",
    "#     labels=wisig.ALL_NODES_MINIMUM_100_EXAMPLES,\n",
    "#     domains = wisig.ALL_DAYS,\n",
    "#     num_examples_per_domain_per_label=100,\n",
    "#     pickle_path=os.path.join(get_datasets_base_path(), \"wisig.node3-19.stratified_ds.2022A.pkl\"),\n",
    "#     source_or_target_dataset=\"target\",\n",
    "#     x_transform_func=global_x_transform_func,\n",
    "#     domain_modifier=lambda u: f\"wisig_{u}\"\n",
    "# )"
   ]
  },
  {
   "cell_type": "code",
   "execution_count": 19,
   "id": "fd5442bc",
   "metadata": {
    "execution": {
     "iopub.execute_input": "2022-03-18T07:39:43.720888Z",
     "iopub.status.busy": "2022-03-18T07:39:43.720515Z",
     "iopub.status.idle": "2022-03-18T07:39:43.735160Z",
     "shell.execute_reply": "2022-03-18T07:39:43.734783Z"
    },
    "papermill": {
     "duration": 0.034229,
     "end_time": "2022-03-18T07:39:43.735260",
     "exception": false,
     "start_time": "2022-03-18T07:39:43.701031",
     "status": "completed"
    },
    "tags": []
   },
   "outputs": [],
   "source": [
    "###################################\n",
    "# Build the dataset\n",
    "###################################\n",
    "train_original_source = Iterable_Aggregator(train_original_source, p.seed)\n",
    "val_original_source = Iterable_Aggregator(val_original_source, p.seed)\n",
    "test_original_source = Iterable_Aggregator(test_original_source, p.seed)\n",
    "\n",
    "\n",
    "train_original_target = Iterable_Aggregator(train_original_target, p.seed)\n",
    "val_original_target = Iterable_Aggregator(val_original_target, p.seed)\n",
    "test_original_target = Iterable_Aggregator(test_original_target, p.seed)\n",
    "\n",
    "# For CNN We only use X and Y. And we only train on the source.\n",
    "# Properly form the data using a transform lambda and Lazy_Iterable_Wrapper. Finally wrap them in a dataloader\n",
    "\n",
    "transform_lambda = lambda ex: ex[1] # Original is (<domain>, <episode>) so we strip down to episode only\n",
    "\n",
    "train_processed_source = Lazy_Iterable_Wrapper(train_original_source, transform_lambda)\n",
    "val_processed_source   = Lazy_Iterable_Wrapper(val_original_source, transform_lambda)\n",
    "test_processed_source  = Lazy_Iterable_Wrapper(test_original_source, transform_lambda)\n",
    "\n",
    "train_processed_target = Lazy_Iterable_Wrapper(train_original_target, transform_lambda)\n",
    "val_processed_target   = Lazy_Iterable_Wrapper(val_original_target, transform_lambda)\n",
    "test_processed_target  = Lazy_Iterable_Wrapper(test_original_target, transform_lambda)\n",
    "\n",
    "datasets = EasyDict({\n",
    "    \"source\": {\n",
    "        \"original\": {\"train\":train_original_source, \"val\":val_original_source, \"test\":test_original_source},\n",
    "        \"processed\": {\"train\":train_processed_source, \"val\":val_processed_source, \"test\":test_processed_source}\n",
    "    },\n",
    "    \"target\": {\n",
    "        \"original\": {\"train\":train_original_target, \"val\":val_original_target, \"test\":test_original_target},\n",
    "        \"processed\": {\"train\":train_processed_target, \"val\":val_processed_target, \"test\":test_processed_target}\n",
    "    },\n",
    "})"
   ]
  },
  {
   "cell_type": "code",
   "execution_count": 20,
   "id": "5b3c01fc",
   "metadata": {
    "execution": {
     "iopub.execute_input": "2022-03-18T07:39:43.776571Z",
     "iopub.status.busy": "2022-03-18T07:39:43.775851Z",
     "iopub.status.idle": "2022-03-18T07:39:48.766091Z",
     "shell.execute_reply": "2022-03-18T07:39:48.766564Z"
    },
    "papermill": {
     "duration": 5.01556,
     "end_time": "2022-03-18T07:39:48.766702",
     "exception": false,
     "start_time": "2022-03-18T07:39:43.751142",
     "status": "completed"
    },
    "tags": []
   },
   "outputs": [
    {
     "name": "stdout",
     "output_type": "stream",
     "text": [
      "{'W_A_4', 'W_A_1', 'C_A_1', 'C_A_2', 'W_A_3', 'C_A_4', 'W_A_2', 'C_A_5', 'C_A_3'}\n"
     ]
    },
    {
     "name": "stdout",
     "output_type": "stream",
     "text": [
      "{'ORACLE.run1_38', 'ORACLE.run1_20', 'ORACLE.run1_50', 'ORACLE.run1_32', 'ORACLE.run1_14', 'ORACLE.run1_8', 'ORACLE.run1_44', 'ORACLE.run1_26'}\n"
     ]
    },
    {
     "name": "stdout",
     "output_type": "stream",
     "text": [
      "tensor([[[0., 0., 0.,  ..., 0., 0., 0.],\n",
      "         [0., 0., 0.,  ..., 0., 0., 0.]],\n",
      "\n",
      "        [[0., 0., 0.,  ..., 0., 0., 0.],\n",
      "         [0., 0., 0.,  ..., 0., 0., 0.]],\n",
      "\n",
      "        [[0., 0., 0.,  ..., 0., 0., 0.],\n",
      "         [0., 0., 0.,  ..., 0., 0., 0.]],\n",
      "\n",
      "        ...,\n",
      "\n",
      "        [[0., 0., 0.,  ..., 0., 0., 0.],\n",
      "         [0., 0., 0.,  ..., 0., 0., 0.]],\n",
      "\n",
      "        [[0., 0., 0.,  ..., 0., 0., 0.],\n",
      "         [0., 0., 0.,  ..., 0., 0., 0.]],\n",
      "\n",
      "        [[0., 0., 0.,  ..., 0., 0., 0.],\n",
      "         [0., 0., 0.,  ..., 0., 0., 0.]]])\n"
     ]
    }
   ],
   "source": [
    "from steves_utils.transforms import get_average_magnitude, get_average_power\n",
    "\n",
    "print(set([u for u,_ in val_original_source]))\n",
    "print(set([u for u,_ in val_original_target]))\n",
    "\n",
    "s_x, s_y, q_x, q_y, _ = next(iter(train_processed_source))\n",
    "print(s_x)\n",
    "\n",
    "# for ds in [\n",
    "#     train_processed_source,\n",
    "#     val_processed_source,\n",
    "#     test_processed_source,\n",
    "#     train_processed_target,\n",
    "#     val_processed_target,\n",
    "#     test_processed_target\n",
    "# ]:\n",
    "#     for s_x, s_y, q_x, q_y, _ in ds:\n",
    "#         for X in (s_x, q_x):\n",
    "#             for x in X:\n",
    "#                 assert np.isclose(get_average_magnitude(x.numpy()), 1.0)\n",
    "#                 assert np.isclose(get_average_power(x.numpy()), 1.0)\n",
    "                "
   ]
  },
  {
   "cell_type": "code",
   "execution_count": 21,
   "id": "bbdacba1",
   "metadata": {
    "execution": {
     "iopub.execute_input": "2022-03-18T07:39:48.812050Z",
     "iopub.status.busy": "2022-03-18T07:39:48.811786Z",
     "iopub.status.idle": "2022-03-18T07:39:48.874405Z",
     "shell.execute_reply": "2022-03-18T07:39:48.874143Z"
    },
    "papermill": {
     "duration": 0.083423,
     "end_time": "2022-03-18T07:39:48.874472",
     "exception": false,
     "start_time": "2022-03-18T07:39:48.791049",
     "status": "completed"
    },
    "tags": []
   },
   "outputs": [
    {
     "name": "stdout",
     "output_type": "stream",
     "text": [
      "(2, 256)\n"
     ]
    }
   ],
   "source": [
    "###################################\n",
    "# Build the model\n",
    "###################################\n",
    "# easfsl only wants a tuple for the shape\n",
    "model = Steves_Prototypical_Network(x_net, device=p.device, x_shape=tuple(p.x_shape))\n",
    "optimizer = Adam(params=model.parameters(), lr=p.lr)"
   ]
  },
  {
   "cell_type": "code",
   "execution_count": 22,
   "id": "22b39ac5",
   "metadata": {
    "execution": {
     "iopub.execute_input": "2022-03-18T07:39:48.907077Z",
     "iopub.status.busy": "2022-03-18T07:39:48.906619Z",
     "iopub.status.idle": "2022-03-18T07:44:57.875619Z",
     "shell.execute_reply": "2022-03-18T07:44:57.875186Z"
    },
    "papermill": {
     "duration": 308.985938,
     "end_time": "2022-03-18T07:44:57.875722",
     "exception": false,
     "start_time": "2022-03-18T07:39:48.889784",
     "status": "completed"
    },
    "tags": []
   },
   "outputs": [
    {
     "name": "stdout",
     "output_type": "stream",
     "text": [
      "epoch: 1, [batch: 1 / 2081], examples_per_second: 126.6545, train_label_loss: 2.6118, \n"
     ]
    },
    {
     "name": "stdout",
     "output_type": "stream",
     "text": [
      "epoch: 1, [batch: 209 / 2081], examples_per_second: 3182.1849, train_label_loss: 0.4235, \n"
     ]
    },
    {
     "name": "stdout",
     "output_type": "stream",
     "text": [
      "epoch: 1, [batch: 417 / 2081], examples_per_second: 3182.0161, train_label_loss: 1.1309, \n"
     ]
    },
    {
     "name": "stdout",
     "output_type": "stream",
     "text": [
      "epoch: 1, [batch: 625 / 2081], examples_per_second: 3210.7987, train_label_loss: 0.0873, \n"
     ]
    },
    {
     "name": "stdout",
     "output_type": "stream",
     "text": [
      "epoch: 1, [batch: 833 / 2081], examples_per_second: 3224.0685, train_label_loss: 1.5012, \n"
     ]
    },
    {
     "name": "stdout",
     "output_type": "stream",
     "text": [
      "epoch: 1, [batch: 1041 / 2081], examples_per_second: 3203.0598, train_label_loss: 0.2762, \n"
     ]
    },
    {
     "name": "stdout",
     "output_type": "stream",
     "text": [
      "epoch: 1, [batch: 1249 / 2081], examples_per_second: 3211.0029, train_label_loss: 0.4579, \n"
     ]
    },
    {
     "name": "stdout",
     "output_type": "stream",
     "text": [
      "epoch: 1, [batch: 1457 / 2081], examples_per_second: 3184.3787, train_label_loss: 0.8079, \n"
     ]
    },
    {
     "name": "stdout",
     "output_type": "stream",
     "text": [
      "epoch: 1, [batch: 1665 / 2081], examples_per_second: 3190.7656, train_label_loss: 0.1742, \n"
     ]
    },
    {
     "name": "stdout",
     "output_type": "stream",
     "text": [
      "epoch: 1, [batch: 1873 / 2081], examples_per_second: 3181.4589, train_label_loss: 0.3055, \n"
     ]
    },
    {
     "name": "stdout",
     "output_type": "stream",
     "text": [
      "=============================================================\n",
      "epoch: 1, source_val_acc_label: 0.9214, target_val_acc_label: 0.2241, source_val_label_loss: 0.3521, target_val_label_loss: 2.3167, \n",
      "=============================================================\n"
     ]
    },
    {
     "name": "stdout",
     "output_type": "stream",
     "text": [
      "New best\n"
     ]
    },
    {
     "name": "stdout",
     "output_type": "stream",
     "text": [
      "epoch: 2, [batch: 1 / 2079], examples_per_second: 10.5298, train_label_loss: 0.2636, \n"
     ]
    },
    {
     "name": "stdout",
     "output_type": "stream",
     "text": [
      "epoch: 2, [batch: 208 / 2079], examples_per_second: 3199.7074, train_label_loss: 0.4131, \n"
     ]
    },
    {
     "name": "stdout",
     "output_type": "stream",
     "text": [
      "epoch: 2, [batch: 416 / 2079], examples_per_second: 3206.5657, train_label_loss: 0.0382, \n"
     ]
    },
    {
     "name": "stdout",
     "output_type": "stream",
     "text": [
      "epoch: 2, [batch: 624 / 2079], examples_per_second: 3205.3825, train_label_loss: 0.2344, \n"
     ]
    },
    {
     "name": "stdout",
     "output_type": "stream",
     "text": [
      "epoch: 2, [batch: 832 / 2079], examples_per_second: 3228.8396, train_label_loss: 0.4645, \n"
     ]
    },
    {
     "name": "stdout",
     "output_type": "stream",
     "text": [
      "epoch: 2, [batch: 1040 / 2079], examples_per_second: 3245.8363, train_label_loss: 0.5591, \n"
     ]
    },
    {
     "name": "stdout",
     "output_type": "stream",
     "text": [
      "epoch: 2, [batch: 1247 / 2079], examples_per_second: 3210.4751, train_label_loss: 0.0097, \n"
     ]
    },
    {
     "name": "stdout",
     "output_type": "stream",
     "text": [
      "epoch: 2, [batch: 1455 / 2079], examples_per_second: 3205.5571, train_label_loss: 0.4505, \n"
     ]
    },
    {
     "name": "stdout",
     "output_type": "stream",
     "text": [
      "epoch: 2, [batch: 1663 / 2079], examples_per_second: 3220.3830, train_label_loss: 0.1300, \n"
     ]
    },
    {
     "name": "stdout",
     "output_type": "stream",
     "text": [
      "epoch: 2, [batch: 1871 / 2079], examples_per_second: 3221.2251, train_label_loss: 0.0545, \n"
     ]
    },
    {
     "name": "stdout",
     "output_type": "stream",
     "text": [
      "=============================================================\n",
      "epoch: 2, source_val_acc_label: 0.9543, target_val_acc_label: 0.2013, source_val_label_loss: 0.1993, target_val_label_loss: 2.3715, \n",
      "=============================================================\n"
     ]
    },
    {
     "name": "stdout",
     "output_type": "stream",
     "text": [
      "epoch: 3, [batch: 1 / 2082], examples_per_second: 10.6117, train_label_loss: 0.4486, \n"
     ]
    },
    {
     "name": "stdout",
     "output_type": "stream",
     "text": [
      "epoch: 3, [batch: 209 / 2082], examples_per_second: 3194.1376, train_label_loss: 0.6885, \n"
     ]
    },
    {
     "name": "stdout",
     "output_type": "stream",
     "text": [
      "epoch: 3, [batch: 417 / 2082], examples_per_second: 3232.6766, train_label_loss: 0.3526, \n"
     ]
    },
    {
     "name": "stdout",
     "output_type": "stream",
     "text": [
      "epoch: 3, [batch: 625 / 2082], examples_per_second: 3221.5020, train_label_loss: 0.4269, \n"
     ]
    },
    {
     "name": "stdout",
     "output_type": "stream",
     "text": [
      "epoch: 3, [batch: 833 / 2082], examples_per_second: 3222.0655, train_label_loss: 0.2712, \n"
     ]
    },
    {
     "name": "stdout",
     "output_type": "stream",
     "text": [
      "epoch: 3, [batch: 1041 / 2082], examples_per_second: 3211.0100, train_label_loss: 0.0120, \n"
     ]
    },
    {
     "name": "stdout",
     "output_type": "stream",
     "text": [
      "epoch: 3, [batch: 1249 / 2082], examples_per_second: 3218.9163, train_label_loss: 0.0114, \n"
     ]
    },
    {
     "name": "stdout",
     "output_type": "stream",
     "text": [
      "epoch: 3, [batch: 1457 / 2082], examples_per_second: 3196.8185, train_label_loss: 0.0978, \n"
     ]
    },
    {
     "name": "stdout",
     "output_type": "stream",
     "text": [
      "epoch: 3, [batch: 1665 / 2082], examples_per_second: 3222.8404, train_label_loss: 0.0726, \n"
     ]
    },
    {
     "name": "stdout",
     "output_type": "stream",
     "text": [
      "epoch: 3, [batch: 1873 / 2082], examples_per_second: 3232.9780, train_label_loss: 0.2839, \n"
     ]
    },
    {
     "name": "stdout",
     "output_type": "stream",
     "text": [
      "=============================================================\n",
      "epoch: 3, source_val_acc_label: 0.9623, target_val_acc_label: 0.2007, source_val_label_loss: 0.1687, target_val_label_loss: 2.3927, \n",
      "=============================================================\n"
     ]
    },
    {
     "name": "stdout",
     "output_type": "stream",
     "text": [
      "epoch: 4, [batch: 1 / 2080], examples_per_second: 10.5632, train_label_loss: 0.1025, \n"
     ]
    },
    {
     "name": "stdout",
     "output_type": "stream",
     "text": [
      "epoch: 4, [batch: 208 / 2080], examples_per_second: 3187.9882, train_label_loss: 0.1816, \n"
     ]
    },
    {
     "name": "stdout",
     "output_type": "stream",
     "text": [
      "epoch: 4, [batch: 416 / 2080], examples_per_second: 3215.3136, train_label_loss: 0.0555, \n"
     ]
    },
    {
     "name": "stdout",
     "output_type": "stream",
     "text": [
      "epoch: 4, [batch: 624 / 2080], examples_per_second: 3211.4065, train_label_loss: 0.0070, \n"
     ]
    },
    {
     "name": "stdout",
     "output_type": "stream",
     "text": [
      "epoch: 4, [batch: 832 / 2080], examples_per_second: 3223.3153, train_label_loss: 0.0734, \n"
     ]
    },
    {
     "name": "stdout",
     "output_type": "stream",
     "text": [
      "epoch: 4, [batch: 1040 / 2080], examples_per_second: 3208.9600, train_label_loss: 0.0502, \n"
     ]
    },
    {
     "name": "stdout",
     "output_type": "stream",
     "text": [
      "epoch: 4, [batch: 1248 / 2080], examples_per_second: 3222.8448, train_label_loss: 0.0075, \n"
     ]
    },
    {
     "name": "stdout",
     "output_type": "stream",
     "text": [
      "epoch: 4, [batch: 1456 / 2080], examples_per_second: 3188.2105, train_label_loss: 0.1726, \n"
     ]
    },
    {
     "name": "stdout",
     "output_type": "stream",
     "text": [
      "epoch: 4, [batch: 1664 / 2080], examples_per_second: 3221.1944, train_label_loss: 0.0539, \n"
     ]
    },
    {
     "name": "stdout",
     "output_type": "stream",
     "text": [
      "epoch: 4, [batch: 1872 / 2080], examples_per_second: 3212.1092, train_label_loss: 0.4160, \n"
     ]
    },
    {
     "name": "stdout",
     "output_type": "stream",
     "text": [
      "=============================================================\n",
      "epoch: 4, source_val_acc_label: 0.9600, target_val_acc_label: 0.1640, source_val_label_loss: 0.1679, target_val_label_loss: 2.5800, \n",
      "=============================================================\n"
     ]
    },
    {
     "name": "stdout",
     "output_type": "stream",
     "text": [
      "epoch: 5, [batch: 1 / 2079], examples_per_second: 10.6218, train_label_loss: 0.0111, \n"
     ]
    },
    {
     "name": "stdout",
     "output_type": "stream",
     "text": [
      "epoch: 5, [batch: 208 / 2079], examples_per_second: 3185.8153, train_label_loss: 0.0459, \n"
     ]
    },
    {
     "name": "stdout",
     "output_type": "stream",
     "text": [
      "epoch: 5, [batch: 416 / 2079], examples_per_second: 3205.5678, train_label_loss: 0.2225, \n"
     ]
    },
    {
     "name": "stdout",
     "output_type": "stream",
     "text": [
      "epoch: 5, [batch: 624 / 2079], examples_per_second: 3203.1190, train_label_loss: 0.1966, \n"
     ]
    },
    {
     "name": "stdout",
     "output_type": "stream",
     "text": [
      "epoch: 5, [batch: 832 / 2079], examples_per_second: 3219.3345, train_label_loss: 0.0023, \n"
     ]
    },
    {
     "name": "stdout",
     "output_type": "stream",
     "text": [
      "epoch: 5, [batch: 1040 / 2079], examples_per_second: 3205.3891, train_label_loss: 0.2114, \n"
     ]
    },
    {
     "name": "stdout",
     "output_type": "stream",
     "text": [
      "epoch: 5, [batch: 1247 / 2079], examples_per_second: 3211.9618, train_label_loss: 0.2945, \n"
     ]
    },
    {
     "name": "stdout",
     "output_type": "stream",
     "text": [
      "epoch: 5, [batch: 1455 / 2079], examples_per_second: 3194.3634, train_label_loss: 0.2561, \n"
     ]
    },
    {
     "name": "stdout",
     "output_type": "stream",
     "text": [
      "epoch: 5, [batch: 1663 / 2079], examples_per_second: 3215.1790, train_label_loss: 0.3905, \n"
     ]
    },
    {
     "name": "stdout",
     "output_type": "stream",
     "text": [
      "epoch: 5, [batch: 1871 / 2079], examples_per_second: 3221.6688, train_label_loss: 0.1956, \n"
     ]
    },
    {
     "name": "stdout",
     "output_type": "stream",
     "text": [
      "=============================================================\n",
      "epoch: 5, source_val_acc_label: 0.9693, target_val_acc_label: 0.1862, source_val_label_loss: 0.1404, target_val_label_loss: 2.4669, \n",
      "=============================================================\n"
     ]
    },
    {
     "name": "stdout",
     "output_type": "stream",
     "text": [
      "Patience (3) exhausted\n"
     ]
    }
   ],
   "source": [
    "###################################\n",
    "# train\n",
    "###################################\n",
    "jig = PTN_Train_Eval_Test_Jig(model, p.BEST_MODEL_PATH, p.device)\n",
    "\n",
    "jig.train(\n",
    "    train_iterable=datasets.source.processed.train,\n",
    "    source_val_iterable=datasets.source.processed.val,\n",
    "    target_val_iterable=datasets.target.processed.val,\n",
    "    num_epochs=p.n_epoch,\n",
    "    num_logs_per_epoch=p.NUM_LOGS_PER_EPOCH,\n",
    "    patience=p.patience,\n",
    "    optimizer=optimizer,\n",
    "    criteria_for_best=p.criteria_for_best,\n",
    ")"
   ]
  },
  {
   "cell_type": "code",
   "execution_count": 23,
   "id": "31e8fabf",
   "metadata": {
    "execution": {
     "iopub.execute_input": "2022-03-18T07:44:57.931881Z",
     "iopub.status.busy": "2022-03-18T07:44:57.931627Z",
     "iopub.status.idle": "2022-03-18T07:44:57.950360Z",
     "shell.execute_reply": "2022-03-18T07:44:57.950047Z"
    },
    "papermill": {
     "duration": 0.04569,
     "end_time": "2022-03-18T07:44:57.950433",
     "exception": false,
     "start_time": "2022-03-18T07:44:57.904743",
     "status": "completed"
    },
    "tags": []
   },
   "outputs": [],
   "source": [
    "total_experiment_time_secs = time.time() - start_time_secs"
   ]
  },
  {
   "cell_type": "code",
   "execution_count": 24,
   "id": "87b9595b",
   "metadata": {
    "execution": {
     "iopub.execute_input": "2022-03-18T07:44:58.009353Z",
     "iopub.status.busy": "2022-03-18T07:44:58.009086Z",
     "iopub.status.idle": "2022-03-18T07:46:03.183321Z",
     "shell.execute_reply": "2022-03-18T07:46:03.182832Z"
    },
    "papermill": {
     "duration": 65.204356,
     "end_time": "2022-03-18T07:46:03.183434",
     "exception": false,
     "start_time": "2022-03-18T07:44:57.979078",
     "status": "completed"
    },
    "tags": []
   },
   "outputs": [],
   "source": [
    "###################################\n",
    "# Evaluate the model\n",
    "###################################\n",
    "source_test_label_accuracy, source_test_label_loss = jig.test(datasets.source.processed.test)\n",
    "target_test_label_accuracy, target_test_label_loss = jig.test(datasets.target.processed.test)\n",
    "\n",
    "source_val_label_accuracy, source_val_label_loss = jig.test(datasets.source.processed.val)\n",
    "target_val_label_accuracy, target_val_label_loss = jig.test(datasets.target.processed.val)\n",
    "\n",
    "history = jig.get_history()\n",
    "\n",
    "total_epochs_trained = len(history[\"epoch_indices\"])\n",
    "\n",
    "val_dl = Iterable_Aggregator((datasets.source.original.val,datasets.target.original.val))\n",
    "\n",
    "confusion = ptn_confusion_by_domain_over_dataloader(model, p.device, val_dl)\n",
    "per_domain_accuracy = per_domain_accuracy_from_confusion(confusion)\n",
    "\n",
    "# Add a key to per_domain_accuracy for if it was a source domain\n",
    "for domain, accuracy in per_domain_accuracy.items():\n",
    "    per_domain_accuracy[domain] = {\n",
    "        \"accuracy\": accuracy,\n",
    "        \"source?\": domain in p.domains_source\n",
    "    }\n",
    "\n",
    "# Do an independent accuracy assesment JUST TO BE SURE!\n",
    "# _source_test_label_accuracy = independent_accuracy_assesment(model, datasets.source.processed.test, p.device)\n",
    "# _target_test_label_accuracy = independent_accuracy_assesment(model, datasets.target.processed.test, p.device)\n",
    "# _source_val_label_accuracy = independent_accuracy_assesment(model, datasets.source.processed.val, p.device)\n",
    "# _target_val_label_accuracy = independent_accuracy_assesment(model, datasets.target.processed.val, p.device)\n",
    "\n",
    "# assert(_source_test_label_accuracy == source_test_label_accuracy)\n",
    "# assert(_target_test_label_accuracy == target_test_label_accuracy)\n",
    "# assert(_source_val_label_accuracy == source_val_label_accuracy)\n",
    "# assert(_target_val_label_accuracy == target_val_label_accuracy)\n",
    "\n",
    "experiment = {\n",
    "    \"experiment_name\": p.experiment_name,\n",
    "    \"parameters\": dict(p),\n",
    "    \"results\": {\n",
    "        \"source_test_label_accuracy\": source_test_label_accuracy,\n",
    "        \"source_test_label_loss\": source_test_label_loss,\n",
    "        \"target_test_label_accuracy\": target_test_label_accuracy,\n",
    "        \"target_test_label_loss\": target_test_label_loss,\n",
    "        \"source_val_label_accuracy\": source_val_label_accuracy,\n",
    "        \"source_val_label_loss\": source_val_label_loss,\n",
    "        \"target_val_label_accuracy\": target_val_label_accuracy,\n",
    "        \"target_val_label_loss\": target_val_label_loss,\n",
    "        \"total_epochs_trained\": total_epochs_trained,\n",
    "        \"total_experiment_time_secs\": total_experiment_time_secs,\n",
    "        \"confusion\": confusion,\n",
    "        \"per_domain_accuracy\": per_domain_accuracy,\n",
    "    },\n",
    "    \"history\": history,\n",
    "    \"dataset_metrics\": get_dataset_metrics(datasets, \"ptn\"),\n",
    "}"
   ]
  },
  {
   "cell_type": "code",
   "execution_count": 25,
   "id": "54a21829",
   "metadata": {
    "execution": {
     "iopub.execute_input": "2022-03-18T07:46:03.239594Z",
     "iopub.status.busy": "2022-03-18T07:46:03.239322Z",
     "iopub.status.idle": "2022-03-18T07:46:03.361427Z",
     "shell.execute_reply": "2022-03-18T07:46:03.361863Z"
    },
    "papermill": {
     "duration": 0.149258,
     "end_time": "2022-03-18T07:46:03.362002",
     "exception": false,
     "start_time": "2022-03-18T07:46:03.212744",
     "status": "completed"
    },
    "tags": []
   },
   "outputs": [
    {
     "data": {
      "image/png": "[encoded data removed]",
      "text/plain": [
       "<Figure size 1080x504 with 1 Axes>"
      ]
     },
     "metadata": {
      "needs_background": "light"
     },
     "output_type": "display_data"
    }
   ],
   "source": [
    "ax = get_loss_curve(experiment)\n",
    "plt.show()"
   ]
  },
  {
   "cell_type": "code",
   "execution_count": 26,
   "id": "fd8a0f60",
   "metadata": {
    "execution": {
     "iopub.execute_input": "2022-03-18T07:46:03.419433Z",
     "iopub.status.busy": "2022-03-18T07:46:03.419152Z",
     "iopub.status.idle": "2022-03-18T07:46:03.564869Z",
     "shell.execute_reply": "2022-03-18T07:46:03.565107Z"
    },
    "papermill": {
     "duration": 0.173019,
     "end_time": "2022-03-18T07:46:03.565190",
     "exception": false,
     "start_time": "2022-03-18T07:46:03.392171",
     "status": "completed"
    },
    "tags": []
   },
   "outputs": [
    {
     "data": {
      "text/plain": [
       "<AxesSubplot:title={'center':'Results'}>"
      ]
     },
     "execution_count": 26,
     "metadata": {},
     "output_type": "execute_result"
    },
    {
     "data": {
      "image/png": "[encoded data removed]",
      "text/plain": [
       "<Figure size 1080x504 with 1 Axes>"
      ]
     },
     "metadata": {
      "needs_background": "light"
     },
     "output_type": "display_data"
    }
   ],
   "source": [
    "get_results_table(experiment)"
   ]
  },
  {
   "cell_type": "code",
   "execution_count": 27,
   "id": "cf8dc689",
   "metadata": {
    "execution": {
     "iopub.execute_input": "2022-03-18T07:46:03.625771Z",
     "iopub.status.busy": "2022-03-18T07:46:03.625221Z",
     "iopub.status.idle": "2022-03-18T07:46:03.789111Z",
     "shell.execute_reply": "2022-03-18T07:46:03.789534Z"
    },
    "papermill": {
     "duration": 0.19291,
     "end_time": "2022-03-18T07:46:03.789666",
     "exception": false,
     "start_time": "2022-03-18T07:46:03.596756",
     "status": "completed"
    },
    "tags": []
   },
   "outputs": [
    {
     "data": {
      "text/plain": [
       "<AxesSubplot:title={'center':'Per Domain Validation Accuracy'}, xlabel='domain'>"
      ]
     },
     "execution_count": 27,
     "metadata": {},
     "output_type": "execute_result"
    },
    {
     "data": {
      "image/png": "[encoded data removed]",
      "text/plain": [
       "<Figure size 1080x504 with 1 Axes>"
      ]
     },
     "metadata": {
      "needs_background": "light"
     },
     "output_type": "display_data"
    }
   ],
   "source": [
    "get_domain_accuracies(experiment)"
   ]
  },
  {
   "cell_type": "code",
   "execution_count": 28,
   "id": "a74ae082",
   "metadata": {
    "execution": {
     "iopub.execute_input": "2022-03-18T07:46:03.854081Z",
     "iopub.status.busy": "2022-03-18T07:46:03.852760Z",
     "iopub.status.idle": "2022-03-18T07:46:03.871968Z",
     "shell.execute_reply": "2022-03-18T07:46:03.871518Z"
    },
    "papermill": {
     "duration": 0.04919,
     "end_time": "2022-03-18T07:46:03.872079",
     "exception": false,
     "start_time": "2022-03-18T07:46:03.822889",
     "status": "completed"
    },
    "tags": []
   },
   "outputs": [
    {
     "name": "stdout",
     "output_type": "stream",
     "text": [
      "Source Test Label Accuracy: 0.9127782534246576 Target Test Label Accuracy: 0.22542317708333334\n",
      "Source Val Label Accuracy: 0.9214469178082192 Target Val Label Accuracy: 0.22408854166666667\n"
     ]
    }
   ],
   "source": [
    "print(\"Source Test Label Accuracy:\", experiment[\"results\"][\"source_test_label_accuracy\"], \"Target Test Label Accuracy:\", experiment[\"results\"][\"target_test_label_accuracy\"])\n",
    "print(\"Source Val Label Accuracy:\", experiment[\"results\"][\"source_val_label_accuracy\"], \"Target Val Label Accuracy:\", experiment[\"results\"][\"target_val_label_accuracy\"])"
   ]
  },
  {
   "cell_type": "code",
   "execution_count": 29,
   "id": "dacca602",
   "metadata": {
    "execution": {
     "iopub.execute_input": "2022-03-18T07:46:03.934695Z",
     "iopub.status.busy": "2022-03-18T07:46:03.934434Z",
     "iopub.status.idle": "2022-03-18T07:46:03.955028Z",
     "shell.execute_reply": "2022-03-18T07:46:03.955451Z"
    },
    "papermill": {
     "duration": 0.050907,
     "end_time": "2022-03-18T07:46:03.955579",
     "exception": false,
     "start_time": "2022-03-18T07:46:03.904672",
     "status": "completed"
    },
    "tags": [
     "experiment_json"
    ]
   },
   "outputs": [
    {
     "data": {
      "text/plain": [
       "'{\"experiment_name\": \"tl_3-jitter10:cores+wisig -> oracle.run1.framed\", \"parameters\": {\"experiment_name\": \"tl_3-jitter10:cores+wisig -> oracle.run1.framed\", \"device\": \"cuda\", \"lr\": 0.001, \"seed\": 1337, \"dataset_seed\": 1337, \"n_shot\": 3, \"n_query\": 2, \"train_k_factor\": 3, \"val_k_factor\": 2, \"test_k_factor\": 2, \"torch_default_dtype\": \"torch.float32\", \"n_epoch\": 50, \"patience\": 3, \"criteria_for_best\": \"target_loss\", \"x_net\": [{\"class\": \"nnReshape\", \"kargs\": {\"shape\": [-1, 1, 2, 256]}}, {\"class\": \"Conv2d\", \"kargs\": {\"in_channels\": 1, \"out_channels\": 256, \"kernel_size\": [1, 7], \"bias\": false, \"padding\": [0, 3]}}, {\"class\": \"ReLU\", \"kargs\": {\"inplace\": true}}, {\"class\": \"BatchNorm2d\", \"kargs\": {\"num_features\": 256}}, {\"class\": \"Conv2d\", \"kargs\": {\"in_channels\": 256, \"out_channels\": 80, \"kernel_size\": [2, 7], \"bias\": true, \"padding\": [0, 3]}}, {\"class\": \"ReLU\", \"kargs\": {\"inplace\": true}}, {\"class\": \"BatchNorm2d\", \"kargs\": {\"num_features\": 80}}, {\"class\": \"Flatten\", \"kargs\": {}}, {\"class\": \"Linear\", \"kargs\": {\"in_features\": 20480, \"out_features\": 256}}, {\"class\": \"ReLU\", \"kargs\": {\"inplace\": true}}, {\"class\": \"BatchNorm1d\", \"kargs\": {\"num_features\": 256}}, {\"class\": \"Linear\", \"kargs\": {\"in_features\": 256, \"out_features\": 256}}], \"NUM_LOGS_PER_EPOCH\": 10, \"BEST_MODEL_PATH\": \"./best_model.pth\", \"n_way\": 16, \"datasets\": [{\"labels\": [\"1-10.\", \"1-11.\", \"1-15.\", \"1-16.\", \"1-17.\", \"1-18.\", \"1-19.\", \"10-4.\", \"10-7.\", \"11-1.\", \"11-14.\", \"11-17.\", \"11-20.\", \"11-7.\", \"13-20.\", \"13-8.\", \"14-10.\", \"14-11.\", \"14-14.\", \"14-7.\", \"15-1.\", \"15-20.\", \"16-1.\", \"16-16.\", \"17-10.\", \"17-11.\", \"17-2.\", \"19-1.\", \"19-16.\", \"19-19.\", \"19-20.\", \"19-3.\", \"2-10.\", \"2-11.\", \"2-17.\", \"2-18.\", \"2-20.\", \"2-3.\", \"2-4.\", \"2-5.\", \"2-6.\", \"2-7.\", \"2-8.\", \"3-13.\", \"3-18.\", \"3-3.\", \"4-1.\", \"4-10.\", \"4-11.\", \"4-19.\", \"5-5.\", \"6-15.\", \"7-10.\", \"7-14.\", \"8-18.\", \"8-20.\", \"8-3.\", \"8-8.\"], \"domains\": [1, 2, 3, 4, 5], \"num_examples_per_domain_per_label\": 100, \"pickle_path\": \"/mnt/wd500GB/CSC500/csc500-main/datasets/cores.stratified_ds.2022A.pkl\", \"source_or_target_dataset\": \"source\", \"x_transforms\": [\"unit_mag\", \"jitter_256_10\", \"take_200\"], \"episode_transforms\": [], \"domain_prefix\": \"C_A_\"}, {\"labels\": [\"1-10\", \"1-12\", \"1-14\", \"1-16\", \"1-18\", \"1-19\", \"1-8\", \"10-11\", \"10-17\", \"10-4\", \"10-7\", \"11-1\", \"11-10\", \"11-19\", \"11-20\", \"11-4\", \"11-7\", \"12-19\", \"12-20\", \"12-7\", \"13-14\", \"13-18\", \"13-19\", \"13-20\", \"13-3\", \"13-7\", \"14-10\", \"14-11\", \"14-12\", \"14-13\", \"14-14\", \"14-19\", \"14-20\", \"14-7\", \"14-8\", \"14-9\", \"15-1\", \"15-19\", \"15-6\", \"16-1\", \"16-16\", \"16-19\", \"16-20\", \"17-10\", \"17-11\", \"18-1\", \"18-10\", \"18-11\", \"18-12\", \"18-13\", \"18-14\", \"18-15\", \"18-16\", \"18-17\", \"18-19\", \"18-2\", \"18-20\", \"18-4\", \"18-5\", \"18-7\", \"18-8\", \"18-9\", \"19-1\", \"19-10\", \"19-11\", \"19-12\", \"19-13\", \"19-14\", \"19-15\", \"19-19\", \"19-2\", \"19-20\", \"19-3\", \"19-4\", \"19-6\", \"19-7\", \"19-8\", \"19-9\", \"2-1\", \"2-13\", \"2-15\", \"2-3\", \"2-4\", \"2-5\", \"2-6\", \"2-7\", \"2-8\", \"20-1\", \"20-12\", \"20-14\", \"20-15\", \"20-16\", \"20-18\", \"20-19\", \"20-20\", \"20-3\", \"20-4\", \"20-5\", \"20-7\", \"20-8\", \"3-1\", \"3-13\", \"3-18\", \"3-2\", \"3-8\", \"4-1\", \"4-10\", \"4-11\", \"5-1\", \"5-5\", \"6-1\", \"6-15\", \"6-6\", \"7-10\", \"7-11\", \"7-12\", \"7-13\", \"7-14\", \"7-7\", \"7-8\", \"7-9\", \"8-1\", \"8-13\", \"8-14\", \"8-18\", \"8-20\", \"8-3\", \"8-8\", \"9-1\", \"9-7\"], \"domains\": [1, 2, 3, 4], \"num_examples_per_domain_per_label\": 100, \"pickle_path\": \"/mnt/wd500GB/CSC500/csc500-main/datasets/wisig.node3-19.stratified_ds.2022A.pkl\", \"source_or_target_dataset\": \"source\", \"x_transforms\": [\"unit_mag\", \"jitter_256_10\", \"take_200\"], \"episode_transforms\": [], \"domain_prefix\": \"W_A_\"}, {\"labels\": [\"3123D52\", \"3123D65\", \"3123D79\", \"3123D80\", \"3123D54\", \"3123D70\", \"3123D7B\", \"3123D89\", \"3123D58\", \"3123D76\", \"3123D7D\", \"3123EFE\", \"3123D64\", \"3123D78\", \"3123D7E\", \"3124E4A\"], \"domains\": [32, 38, 8, 44, 14, 50, 20, 26], \"num_examples_per_domain_per_label\": 2000, \"pickle_path\": \"/mnt/wd500GB/CSC500/csc500-main/datasets/oracle.Run1_framed_2000Examples_stratified_ds.2022A.pkl\", \"source_or_target_dataset\": \"target\", \"x_transforms\": [\"unit_mag\", \"jitter_256_10\", \"take_200\", \"resample_20Msps_to_25Msps\"], \"episode_transforms\": [], \"domain_prefix\": \"ORACLE.run1_\"}], \"x_shape\": [2, 256], \"domains_source\": [\"C_A_1\", \"C_A_2\", \"C_A_3\", \"C_A_4\", \"C_A_5\", \"W_A_1\", \"W_A_2\", \"W_A_3\", \"W_A_4\"], \"domains_target\": [\"ORACLE.run1_32\", \"ORACLE.run1_38\", \"ORACLE.run1_8\", \"ORACLE.run1_44\", \"ORACLE.run1_14\", \"ORACLE.run1_50\", \"ORACLE.run1_20\", \"ORACLE.run1_26\"]}, \"results\": {\"source_test_label_accuracy\": 0.9127782534246576, \"source_test_label_loss\": 0.3783126771450043, \"target_test_label_accuracy\": 0.22542317708333334, \"target_test_label_loss\": 2.306612253189087, \"source_val_label_accuracy\": 0.9214469178082192, \"source_val_label_loss\": 0.35206782817840576, \"target_val_label_accuracy\": 0.22408854166666667, \"target_val_label_loss\": 2.3167269229888916, \"total_epochs_trained\": 5, \"total_experiment_time_secs\": 372.8909637928009, \"confusion\": {\"W_A_3\": {\"109\": {\"109\": 12}, \"127\": {\"127\": 12}, \"14\": {\"14\": 10, \"115\": 2}, \"7\": {\"7\": 12}, \"129\": {\"129\": 12}, \"57\": {\"57\": 12}, \"84\": {\"84\": 12}, \"114\": {\"114\": 12}, \"44\": {\"44\": 9, \"63\": 1, \"116\": 1, \"80\": 1}, \"21\": {\"21\": 12}, \"46\": {\"46\": 12}, \"100\": {\"100\": 11, \"107\": 1}, \"63\": {\"63\": 6, \"14\": 1, \"113\": 1, \"6\": 1, \"11\": 1, \"2\": 1, \"75\": 1}, \"24\": {\"24\": 7, \"21\": 1, \"54\": 1, \"36\": 2, \"102\": 1}, \"107\": {\"107\": 12}, \"35\": {\"109\": 1, \"35\": 7, \"68\": 1, \"106\": 1}, \"81\": {\"81\": 12}, \"64\": {\"64\": 12}, \"59\": {\"124\": 1, \"59\": 11}, \"33\": {\"33\": 11, \"43\": 1}, \"34\": {\"34\": 9, \"16\": 2, \"75\": 1}, \"36\": {\"36\": 12}, \"79\": {\"79\": 12}, \"80\": {\"80\": 11, \"122\": 1}, \"77\": {\"77\": 12}, \"22\": {\"22\": 12}, \"124\": {\"124\": 12}, \"2\": {\"64\": 1, \"2\": 9, \"23\": 2}, \"87\": {\"87\": 12}, \"105\": {\"105\": 11, \"86\": 1}, \"95\": {\"95\": 12}, \"43\": {\"43\": 10, \"33\": 1, \"102\": 1}, \"56\": {\"56\": 10}, \"18\": {\"18\": 12}, \"85\": {\"85\": 12}, \"113\": {\"113\": 12}, \"97\": {\"97\": 12}, \"86\": {\"86\": 11, \"105\": 1}, \"128\": {\"56\": 2, \"128\": 4, \"122\": 1, \"103\": 1, \"30\": 1, \"1\": 2, \"28\": 1}, \"123\": {\"123\": 12}, \"8\": {\"8\": 11, \"85\": 1}, \"110\": {\"110\": 12}, \"126\": {\"126\": 12}, \"101\": {\"101\": 12}, \"115\": {\"115\": 12}, \"49\": {\"49\": 10, \"108\": 1, \"85\": 1}, \"45\": {\"45\": 12}, \"78\": {\"78\": 11, \"13\": 1}, \"65\": {\"65\": 8, \"127\": 1, \"109\": 1}, \"54\": {\"54\": 12}, \"31\": {\"31\": 9, \"90\": 1}, \"42\": {\"42\": 6, \"24\": 2, \"97\": 1, \"124\": 1, \"112\": 1, \"78\": 1}, \"68\": {\"68\": 11, \"0\": 1}, \"15\": {\"15\": 10, \"58\": 1, \"111\": 1}, \"69\": {\"69\": 12}, \"17\": {\"31\": 1, \"41\": 1, \"17\": 5, \"9\": 1, \"87\": 1, \"0\": 1}, \"73\": {\"73\": 12}, \"121\": {\"121\": 10, \"126\": 2}, \"102\": {\"102\": 11, \"118\": 1}, \"48\": {\"48\": 8, \"37\": 3, \"86\": 1}, \"23\": {\"121\": 2, \"23\": 3, \"12\": 1, \"91\": 2, \"126\": 2, \"101\": 1, \"59\": 1}, \"108\": {\"108\": 12}, \"53\": {\"53\": 12}, \"94\": {\"94\": 10}, \"41\": {\"41\": 12}, \"58\": {\"58\": 12}, \"29\": {\"29\": 12}, \"116\": {\"116\": 10, \"31\": 2}, \"60\": {\"60\": 10, \"122\": 1, \"46\": 1}, \"104\": {\"104\": 12}, \"106\": {\"106\": 11, \"30\": 1}, \"66\": {\"66\": 12}, \"47\": {\"47\": 12}, \"40\": {\"40\": 12}, \"82\": {\"82\": 11, \"115\": 1}, \"13\": {\"78\": 2, \"87\": 1, \"13\": 2, \"90\": 2, \"6\": 1, \"120\": 1, \"100\": 1, \"106\": 1, \"72\": 1}, \"19\": {\"11\": 1, \"19\": 6, \"103\": 1, \"100\": 1, \"49\": 2, \"8\": 1}, \"72\": {\"72\": 12}, \"9\": {\"9\": 12}, \"67\": {\"67\": 12}, \"11\": {\"11\": 12}, \"125\": {\"125\": 12}, \"76\": {\"76\": 8}, \"83\": {\"83\": 12}, \"74\": {\"74\": 11, \"54\": 1}, \"20\": {\"20\": 12}, \"119\": {\"119\": 11, \"93\": 1}, \"1\": {\"1\": 12}, \"16\": {\"16\": 12}, \"25\": {\"25\": 11, \"74\": 1}, \"90\": {\"90\": 8}, \"39\": {\"39\": 9, \"67\": 1, \"126\": 2}, \"28\": {\"28\": 12}, \"55\": {\"55\": 12}, \"117\": {\"117\": 12}, \"112\": {\"112\": 12}, \"38\": {\"38\": 12}, \"37\": {\"37\": 12}, \"120\": {\"120\": 12}, \"122\": {\"122\": 12}, \"50\": {\"50\": 12}, \"10\": {\"10\": 11, \"66\": 1}, \"5\": {\"5\": 12}, \"51\": {\"51\": 12}, \"3\": {\"3\": 9, \"34\": 1, \"103\": 1, \"122\": 1}, \"98\": {\"98\": 12}, \"70\": {\"70\": 9, \"49\": 1, \"110\": 1, \"47\": 1}, \"96\": {\"96\": 12}, \"12\": {\"12\": 12}, \"99\": {\"99\": 12}, \"52\": {\"52\": 12}, \"71\": {\"71\": 8, \"82\": 1, \"61\": 1, \"3\": 2}, \"89\": {\"89\": 12}, \"0\": {\"0\": 12}, \"4\": {\"4\": 9, \"32\": 1, \"128\": 1, \"40\": 1}, \"93\": {\"93\": 12}, \"6\": {\"6\": 7, \"72\": 1, \"125\": 1, \"58\": 1}, \"75\": {\"75\": 12}, \"62\": {\"62\": 12}, \"103\": {\"103\": 12}, \"30\": {\"30\": 11, \"97\": 1}, \"91\": {\"91\": 7, \"103\": 1, \"98\": 2, \"86\": 1, \"77\": 1}, \"27\": {\"27\": 12}, \"26\": {\"26\": 12}, \"61\": {\"61\": 12}, \"118\": {\"118\": 12}, \"92\": {\"92\": 12}, \"111\": {\"111\": 12}, \"32\": {\"32\": 12}, \"88\": {\"85\": 1, \"88\": 6, \"4\": 1, \"20\": 1, \"5\": 1}}, \"W_A_4\": {\"28\": {\"28\": 12}, \"4\": {\"4\": 12}, \"72\": {\"72\": 12}, \"111\": {\"111\": 12}, \"108\": {\"108\": 10, \"73\": 1, \"93\": 1}, \"43\": {\"43\": 9, \"115\": 1}, \"96\": {\"96\": 12}, \"89\": {\"89\": 12}, \"31\": {\"31\": 12}, \"45\": {\"45\": 12}, \"2\": {\"96\": 2, \"2\": 9, \"63\": 1}, \"114\": {\"114\": 12}, \"11\": {\"11\": 12}, \"12\": {\"12\": 12}, \"14\": {\"14\": 12}, \"90\": {\"90\": 10, \"66\": 1, \"44\": 1}, \"10\": {\"10\": 7, \"36\": 2, \"106\": 1, \"6\": 1, \"94\": 1}, \"63\": {\"82\": 1, \"63\": 10, \"70\": 1}, \"85\": {\"85\": 12}, \"64\": {\"64\": 12}, \"82\": {\"82\": 10, \"0\": 1, \"2\": 1}, \"58\": {\"58\": 12}, \"3\": {\"3\": 12}, \"54\": {\"54\": 11, \"97\": 1}, \"121\": {\"121\": 4, \"63\": 1, \"86\": 1, \"60\": 1, \"123\": 2, \"2\": 2, \"23\": 1}, \"42\": {\"42\": 9, \"8\": 3}, \"98\": {\"98\": 10, \"41\": 2}, \"123\": {\"123\": 11, \"113\": 1}, \"91\": {\"12\": 3, \"91\": 7, \"103\": 2}, \"66\": {\"66\": 11, \"90\": 1}, \"102\": {\"102\": 12}, \"122\": {\"122\": 12}, \"1\": {\"1\": 11, \"114\": 1}, \"15\": {\"15\": 11, \"58\": 1}, \"97\": {\"97\": 10, \"115\": 1, \"54\": 1}, \"75\": {\"75\": 12}, \"95\": {\"95\": 11, \"127\": 1}, \"57\": {\"57\": 12}, \"68\": {\"68\": 12}, \"125\": {\"125\": 12}, \"62\": {\"62\": 10}, \"27\": {\"27\": 10, \"128\": 1, \"100\": 1}, \"120\": {\"120\": 11, \"103\": 1}, \"26\": {\"35\": 1, \"26\": 10, \"117\": 1}, \"55\": {\"55\": 12}, \"71\": {\"71\": 11, \"122\": 1}, \"22\": {\"22\": 12}, \"99\": {\"99\": 11, \"51\": 1}, \"84\": {\"84\": 10, \"103\": 1, \"43\": 1}, \"37\": {\"37\": 12}, \"83\": {\"83\": 12}, \"46\": {\"46\": 12}, \"35\": {\"35\": 10, \"117\": 2}, \"13\": {\"13\": 12}, \"53\": {\"53\": 10, \"89\": 1, \"21\": 1}, \"127\": {\"127\": 12}, \"69\": {\"127\": 1, \"69\": 10, \"78\": 1}, \"48\": {\"48\": 11, \"88\": 1}, \"16\": {\"16\": 12}, \"0\": {\"0\": 11, \"116\": 1}, \"8\": {\"8\": 10, \"127\": 1, \"100\": 1}, \"9\": {\"9\": 10, \"70\": 2}, \"115\": {\"0\": 2, \"95\": 1, \"115\": 5, \"87\": 1, \"32\": 1, \"105\": 1, \"72\": 1}, \"70\": {\"52\": 1, \"70\": 7, \"74\": 1, \"100\": 1, \"42\": 1, \"53\": 1}, \"119\": {\"119\": 12}, \"59\": {\"59\": 12}, \"52\": {\"53\": 1, \"52\": 11}, \"60\": {\"70\": 1, \"60\": 6, \"28\": 1, \"114\": 2, \"88\": 2}, \"44\": {\"44\": 12}, \"51\": {\"51\": 3, \"115\": 1, \"24\": 2, \"47\": 1, \"25\": 1, \"12\": 1, \"70\": 1, \"68\": 1, \"49\": 1}, \"6\": {\"15\": 2, \"6\": 6, \"115\": 1, \"58\": 1, \"94\": 1, \"10\": 1}, \"73\": {\"73\": 10, \"108\": 2}, \"78\": {\"78\": 8, \"115\": 1, \"34\": 1, \"57\": 2}, \"92\": {\"92\": 12}, \"20\": {\"20\": 10, \"73\": 1, \"5\": 1}, \"17\": {\"17\": 12}, \"74\": {\"74\": 12}, \"19\": {\"19\": 7, \"74\": 1, \"110\": 1, \"88\": 1, \"28\": 1, \"60\": 1}, \"50\": {\"50\": 12}, \"34\": {\"19\": 2, \"34\": 7, \"6\": 1, \"0\": 1, \"59\": 1}, \"104\": {\"104\": 8}, \"33\": {\"33\": 11, \"122\": 1}, \"5\": {\"5\": 12}, \"7\": {\"7\": 11, \"4\": 1}, \"29\": {\"29\": 12}, \"25\": {\"25\": 12}, \"124\": {\"124\": 12}, \"117\": {\"117\": 8, \"35\": 1, \"113\": 1, \"26\": 1, \"4\": 1}, \"88\": {\"88\": 5, \"83\": 1, \"122\": 1, \"71\": 3, \"46\": 2}, \"61\": {\"61\": 11, \"89\": 1}, \"86\": {\"86\": 12}, \"116\": {\"57\": 3, \"116\": 9}, \"24\": {\"24\": 11, \"36\": 1}, \"128\": {\"28\": 2, \"128\": 5, \"78\": 1, \"100\": 1, \"129\": 1, \"106\": 2}, \"101\": {\"101\": 12}, \"65\": {\"65\": 9, \"78\": 1}, \"36\": {\"36\": 11, \"6\": 1}, \"21\": {\"21\": 11, \"122\": 1}, \"106\": {\"106\": 12}, \"118\": {\"118\": 10, \"122\": 1, \"57\": 1}, \"113\": {\"113\": 9, \"51\": 1, \"105\": 1, \"39\": 1}, \"40\": {\"40\": 12}, \"93\": {\"93\": 8}, \"94\": {\"94\": 8, \"36\": 3, \"10\": 1}, \"103\": {\"103\": 7, \"6\": 2, \"91\": 1, \"87\": 1, \"77\": 1}, \"110\": {\"110\": 12}, \"56\": {\"56\": 11, \"86\": 1}, \"39\": {\"39\": 11, \"81\": 1}, \"109\": {\"102\": 1, \"109\": 10, \"118\": 1}, \"67\": {\"67\": 8, \"76\": 1, \"39\": 1, \"59\": 1, \"81\": 1}, \"129\": {\"129\": 11, \"11\": 1}, \"30\": {\"30\": 12}, \"126\": {\"126\": 10, \"22\": 1, \"14\": 1}, \"87\": {\"51\": 1, \"87\": 9, \"115\": 1, \"78\": 1}, \"112\": {\"112\": 12}, \"100\": {\"100\": 12}, \"79\": {\"79\": 10}, \"81\": {\"81\": 11, \"116\": 1}, \"76\": {\"76\": 10}, \"47\": {\"47\": 11, \"100\": 1}, \"77\": {\"77\": 12}, \"23\": {\"103\": 1, \"0\": 2, \"23\": 2, \"40\": 1, \"106\": 2, \"128\": 1, \"68\": 1, \"116\": 1, \"21\": 1}, \"18\": {\"18\": 12}, \"49\": {\"49\": 11, \"80\": 1}, \"41\": {\"41\": 10, \"125\": 1, \"12\": 1}, \"32\": {\"115\": 1, \"32\": 5, \"76\": 2, \"105\": 1, \"100\": 1, \"122\": 1, \"45\": 1}, \"107\": {\"107\": 10}, \"80\": {\"80\": 11, \"23\": 1}, \"105\": {\"105\": 7, \"87\": 2, \"22\": 1}, \"38\": {\"38\": 10}}, \"W_A_1\": {\"108\": {\"108\": 10}, \"40\": {\"40\": 11, \"55\": 1}, \"68\": {\"68\": 12}, \"23\": {\"110\": 1, \"23\": 7, \"125\": 1, \"58\": 1, \"30\": 1, \"60\": 1}, \"26\": {\"70\": 1, \"26\": 11}, \"64\": {\"64\": 12}, \"22\": {\"22\": 12}, \"3\": {\"64\": 4, \"3\": 8}, \"4\": {\"40\": 2, \"4\": 9, \"78\": 1}, \"70\": {\"70\": 8, \"89\": 3, \"21\": 1}, \"57\": {\"57\": 12}, \"79\": {\"79\": 12}, \"9\": {\"9\": 8, \"24\": 3, \"124\": 1}, \"89\": {\"89\": 12}, \"110\": {\"110\": 12}, \"102\": {\"102\": 9, \"33\": 3}, \"31\": {\"31\": 12}, \"58\": {\"58\": 12}, \"47\": {\"47\": 12}, \"24\": {\"24\": 11, \"103\": 1}, \"19\": {\"19\": 11, \"54\": 1}, \"11\": {\"11\": 12}, \"52\": {\"52\": 12}, \"17\": {\"17\": 12}, \"25\": {\"25\": 12}, \"69\": {\"69\": 12}, \"96\": {\"96\": 12}, \"109\": {\"109\": 9, \"126\": 2, \"1\": 1}, \"115\": {\"115\": 12}, \"83\": {\"83\": 10, \"5\": 1, \"4\": 1}, \"84\": {\"84\": 12}, \"119\": {\"119\": 10}, \"122\": {\"122\": 9, \"57\": 1}, \"99\": {\"99\": 12}, \"1\": {\"1\": 12}, \"74\": {\"74\": 10, \"23\": 1, \"34\": 1}, \"85\": {\"85\": 12}, \"127\": {\"127\": 12}, \"111\": {\"111\": 11, \"127\": 1}, \"53\": {\"53\": 12}, \"88\": {\"88\": 11, \"97\": 1}, \"65\": {\"65\": 8, \"129\": 1, \"83\": 1}, \"7\": {\"7\": 12}, \"16\": {\"16\": 11, \"122\": 1}, \"128\": {\"128\": 7, \"15\": 1, \"1\": 2, \"61\": 2}, \"34\": {\"34\": 10, \"98\": 2}, \"129\": {\"104\": 1, \"129\": 11}, \"43\": {\"43\": 11, \"78\": 1}, \"92\": {\"92\": 12}, \"28\": {\"28\": 12}, \"27\": {\"27\": 12}, \"114\": {\"114\": 12}, \"73\": {\"73\": 12}, \"0\": {\"0\": 12}, \"104\": {\"104\": 9, \"73\": 1, \"1\": 2}, \"118\": {\"118\": 12}, \"41\": {\"41\": 12}, \"49\": {\"49\": 8, \"72\": 2, \"128\": 1, \"15\": 1}, \"14\": {\"14\": 12}, \"46\": {\"125\": 3, \"46\": 5, \"97\": 1, \"73\": 1, \"1\": 2}, \"33\": {\"33\": 12}, \"76\": {\"76\": 12}, \"125\": {\"125\": 12}, \"86\": {\"86\": 10}, \"66\": {\"66\": 9, \"61\": 1, \"90\": 1, \"108\": 1}, \"5\": {\"5\": 12}, \"117\": {\"117\": 12}, \"75\": {\"75\": 12}, \"61\": {\"61\": 12}, \"50\": {\"50\": 12}, \"67\": {\"67\": 10}, \"18\": {\"18\": 12}, \"98\": {\"98\": 12}, \"55\": {\"55\": 10}, \"32\": {\"32\": 12}, \"120\": {\"120\": 12}, \"97\": {\"97\": 11, \"89\": 1}, \"126\": {\"126\": 12}, \"45\": {\"31\": 1, \"45\": 5, \"105\": 1, \"20\": 2, \"11\": 1, \"23\": 2}, \"78\": {\"78\": 5, \"43\": 4, \"22\": 1}, \"100\": {\"100\": 12}, \"107\": {\"107\": 12}, \"93\": {\"93\": 12}, \"77\": {\"77\": 12}, \"63\": {\"63\": 12}, \"112\": {\"112\": 12}, \"113\": {\"113\": 12}, \"103\": {\"103\": 9, \"9\": 1}, \"71\": {\"71\": 12}, \"30\": {\"30\": 12}, \"90\": {\"90\": 12}, \"37\": {\"30\": 1, \"37\": 11}, \"60\": {\"60\": 8, \"30\": 1, \"63\": 1, \"117\": 2}, \"15\": {\"15\": 10, \"53\": 1, \"111\": 1}, \"39\": {\"39\": 11, \"63\": 1}, \"72\": {\"72\": 12}, \"54\": {\"54\": 12}, \"35\": {\"35\": 12}, \"2\": {\"54\": 1, \"119\": 3, \"2\": 6, \"110\": 2}, \"94\": {\"94\": 11, \"81\": 1}, \"42\": {\"42\": 8, \"100\": 2, \"109\": 1, \"25\": 1}, \"81\": {\"81\": 12}, \"8\": {\"8\": 11, \"29\": 1}, \"87\": {\"87\": 12}, \"6\": {\"6\": 3, \"87\": 1, \"72\": 2, \"75\": 2, \"98\": 2, \"12\": 1, \"27\": 1}, \"36\": {\"36\": 9, \"88\": 1, \"103\": 2}, \"91\": {\"91\": 4, \"42\": 1, \"75\": 2, \"17\": 2, \"56\": 1, \"4\": 1, \"101\": 1}, \"56\": {\"56\": 12}, \"80\": {\"80\": 11, \"23\": 1}, \"124\": {\"124\": 10}, \"44\": {\"44\": 12}, \"13\": {\"13\": 11, \"95\": 1}, \"10\": {\"10\": 10, \"78\": 1, \"43\": 1}, \"59\": {\"59\": 11, \"51\": 1}, \"95\": {\"95\": 11, \"117\": 1}, \"105\": {\"105\": 11, \"15\": 1}, \"101\": {\"101\": 12}, \"20\": {\"20\": 12}, \"48\": {\"28\": 2, \"48\": 9, \"123\": 1}, \"106\": {\"106\": 12}, \"51\": {\"51\": 12}, \"21\": {\"11\": 1, \"75\": 1, \"33\": 1, \"21\": 3, \"125\": 1, \"78\": 1, \"23\": 1, \"8\": 1, \"106\": 2}, \"123\": {\"123\": 12}, \"121\": {\"121\": 11, \"18\": 1}, \"38\": {\"38\": 12}, \"62\": {\"62\": 12}, \"29\": {\"29\": 12}, \"82\": {\"82\": 12}, \"116\": {\"116\": 11, \"33\": 1}, \"12\": {\"98\": 2, \"12\": 6}}, \"C_A_3\": {\"43\": {\"43\": 12}, \"9\": {\"9\": 12}, \"6\": {\"6\": 8, \"48\": 2}, \"3\": {\"3\": 10, \"27\": 1, \"18\": 1}, \"16\": {\"16\": 12}, \"51\": {\"51\": 12}, \"31\": {\"31\": 12}, \"46\": {\"46\": 10}, \"19\": {\"19\": 8}, \"8\": {\"8\": 12}, \"18\": {\"18\": 12}, \"37\": {\"44\": 1, \"37\": 10, \"39\": 1}, \"24\": {\"24\": 12}, \"10\": {\"10\": 12}, \"44\": {\"44\": 10}, \"14\": {\"14\": 11, \"0\": 1}, \"38\": {\"38\": 10}, \"53\": {\"53\": 12}, \"20\": {\"20\": 12}, \"32\": {\"32\": 12}, \"36\": {\"36\": 9, \"54\": 1}, \"33\": {\"33\": 11, \"18\": 1}, \"56\": {\"56\": 12}, \"23\": {\"23\": 12}, \"54\": {\"54\": 10}, \"34\": {\"34\": 12}, \"13\": {\"13\": 12}, \"2\": {\"2\": 12}, \"55\": {\"55\": 10}, \"21\": {\"21\": 10}, \"49\": {\"49\": 10}, \"25\": {\"25\": 12}, \"5\": {\"5\": 11, \"15\": 1}, \"50\": {\"18\": 1, \"50\": 6, \"17\": 1}, \"40\": {\"40\": 11, \"25\": 1}, \"57\": {\"57\": 7, \"34\": 1}, \"22\": {\"22\": 9, \"56\": 1}, \"1\": {\"1\": 10}, \"17\": {\"17\": 12}, \"41\": {\"41\": 12}, \"4\": {\"4\": 10}, \"7\": {\"7\": 10}, \"26\": {\"26\": 10}, \"29\": {\"29\": 12}, \"52\": {\"52\": 12}, \"15\": {\"15\": 12}, \"35\": {\"35\": 12}, \"42\": {\"42\": 12}, \"30\": {\"30\": 10}, \"27\": {\"27\": 8}, \"45\": {\"45\": 10}, \"0\": {\"0\": 12}, \"28\": {\"28\": 12}, \"47\": {\"47\": 12}, \"11\": {\"11\": 10}, \"39\": {\"39\": 10}, \"48\": {\"48\": 12}, \"12\": {\"12\": 8}}, \"C_A_4\": {\"35\": {\"35\": 10}, \"25\": {\"25\": 12}, \"24\": {\"24\": 10}, \"48\": {\"48\": 12}, \"51\": {\"51\": 12}, \"13\": {\"13\": 12}, \"14\": {\"14\": 6, \"10\": 2}, \"32\": {\"32\": 12}, \"30\": {\"30\": 12}, \"34\": {\"34\": 10}, \"9\": {\"9\": 12}, \"1\": {\"1\": 12}, \"0\": {\"0\": 12}, \"38\": {\"38\": 12}, \"22\": {\"22\": 8}, \"40\": {\"40\": 12}, \"39\": {\"39\": 12}, \"46\": {\"46\": 12}, \"36\": {\"36\": 12}, \"50\": {\"50\": 12}, \"49\": {\"49\": 12}, \"17\": {\"17\": 12}, \"45\": {\"45\": 12}, \"6\": {\"6\": 12}, \"8\": {\"8\": 12}, \"5\": {\"46\": 1, \"5\": 9}, \"33\": {\"33\": 12}, \"31\": {\"31\": 12}, \"37\": {\"37\": 10}, \"47\": {\"47\": 8}, \"15\": {\"15\": 10}, \"7\": {\"7\": 12}, \"20\": {\"20\": 12}, \"4\": {\"4\": 12}, \"54\": {\"54\": 12}, \"44\": {\"44\": 12}, \"3\": {\"3\": 10, \"18\": 1, \"50\": 1}, \"11\": {\"11\": 10}, \"27\": {\"27\": 10}, \"19\": {\"19\": 10, \"28\": 2}, \"55\": {\"55\": 12}, \"16\": {\"16\": 12}, \"2\": {\"2\": 10}, \"52\": {\"52\": 10}, \"42\": {\"33\": 1, \"42\": 9}, \"26\": {\"26\": 12}, \"10\": {\"7\": 1, \"10\": 11}, \"53\": {\"53\": 10}, \"28\": {\"28\": 12}, \"21\": {\"21\": 10}, \"57\": {\"57\": 10}, \"23\": {\"23\": 8}, \"43\": {\"43\": 10}, \"12\": {\"12\": 12}, \"41\": {\"41\": 12}, \"56\": {\"56\": 8}, \"18\": {\"18\": 10}, \"29\": {\"29\": 8}}, \"W_A_2\": {\"91\": {\"12\": 2, \"91\": 5, \"0\": 1, \"115\": 1, \"30\": 2, \"127\": 1}, \"12\": {\"12\": 10, \"4\": 1, \"0\": 1}, \"101\": {\"101\": 10}, \"121\": {\"117\": 3, \"72\": 2, \"121\": 6, \"23\": 1}, \"118\": {\"118\": 12}, \"10\": {\"10\": 12}, \"117\": {\"117\": 12}, \"110\": {\"110\": 9, \"86\": 1, \"28\": 1, \"37\": 1}, \"97\": {\"97\": 7, \"118\": 1, \"125\": 1, \"111\": 1, \"14\": 1, \"25\": 1}, \"28\": {\"118\": 1, \"28\": 7, \"124\": 1, \"106\": 1, \"97\": 1, \"23\": 1}, \"88\": {\"110\": 1, \"88\": 5, \"13\": 2, \"47\": 2, \"57\": 1, \"73\": 1}, \"17\": {\"86\": 1, \"17\": 10, \"91\": 1}, \"126\": {\"126\": 12}, \"33\": {\"33\": 12}, \"86\": {\"86\": 10, \"66\": 2}, \"106\": {\"106\": 12}, \"54\": {\"54\": 12}, \"125\": {\"125\": 12}, \"83\": {\"83\": 12}, \"98\": {\"98\": 12}, \"11\": {\"11\": 9, \"5\": 1, \"49\": 1, \"115\": 1}, \"32\": {\"118\": 1, \"32\": 10, \"17\": 1}, \"42\": {\"42\": 10, \"112\": 1, \"126\": 1}, \"103\": {\"103\": 12}, \"87\": {\"87\": 12}, \"61\": {\"118\": 1, \"61\": 10, \"102\": 1}, \"13\": {\"13\": 11, \"57\": 1}, \"4\": {\"4\": 12}, \"15\": {\"15\": 10}, \"120\": {\"120\": 12}, \"80\": {\"80\": 12}, \"72\": {\"72\": 10}, \"64\": {\"64\": 12}, \"81\": {\"81\": 11, \"2\": 1}, \"102\": {\"102\": 12}, \"76\": {\"76\": 12}, \"49\": {\"53\": 1, \"98\": 1, \"49\": 4, \"58\": 1, \"124\": 1, \"12\": 1, \"21\": 1}, \"129\": {\"129\": 10, \"73\": 1, \"85\": 1}, \"89\": {\"89\": 12}, \"52\": {\"52\": 12}, \"35\": {\"35\": 10, \"95\": 1, \"79\": 1}, \"53\": {\"53\": 7, \"128\": 1, \"114\": 2, \"49\": 1, \"58\": 1}, \"112\": {\"112\": 8, \"100\": 1, \"77\": 1, \"11\": 1, \"44\": 1}, \"105\": {\"105\": 12}, \"100\": {\"100\": 12}, \"9\": {\"9\": 12}, \"82\": {\"82\": 12}, \"51\": {\"51\": 11, \"77\": 1}, \"21\": {\"21\": 12}, \"92\": {\"92\": 11, \"84\": 1}, \"69\": {\"69\": 12}, \"77\": {\"77\": 12}, \"50\": {\"50\": 11, \"82\": 1}, \"36\": {\"36\": 12}, \"16\": {\"16\": 10, \"28\": 1, \"22\": 1}, \"8\": {\"13\": 1, \"8\": 10, \"120\": 1}, \"127\": {\"127\": 12}, \"46\": {\"46\": 10}, \"84\": {\"84\": 12}, \"18\": {\"18\": 12}, \"123\": {\"123\": 10}, \"56\": {\"56\": 10, \"4\": 1, \"15\": 1}, \"26\": {\"26\": 11, \"81\": 1}, \"14\": {\"109\": 1, \"14\": 8, \"107\": 1, \"43\": 1, \"40\": 1}, \"109\": {\"14\": 1, \"109\": 10, \"102\": 1}, \"66\": {\"66\": 10, \"86\": 2}, \"24\": {\"24\": 11, \"28\": 1}, \"71\": {\"109\": 1, \"71\": 10, \"5\": 1}, \"65\": {\"65\": 10, \"24\": 1, \"51\": 1}, \"75\": {\"75\": 11, \"21\": 1}, \"111\": {\"111\": 12}, \"30\": {\"30\": 11, \"71\": 1}, \"85\": {\"85\": 11, \"129\": 1}, \"113\": {\"113\": 9, \"21\": 1}, \"45\": {\"45\": 12}, \"29\": {\"29\": 9, \"59\": 2, \"75\": 1}, \"20\": {\"20\": 11, \"96\": 1}, \"25\": {\"25\": 12}, \"0\": {\"0\": 12}, \"68\": {\"68\": 12}, \"119\": {\"119\": 12}, \"90\": {\"90\": 12}, \"38\": {\"38\": 12}, \"99\": {\"99\": 12}, \"1\": {\"1\": 12}, \"67\": {\"67\": 10, \"51\": 1, \"106\": 1}, \"63\": {\"63\": 12}, \"34\": {\"34\": 6, \"32\": 1, \"66\": 1, \"7\": 1, \"115\": 1, \"52\": 1, \"79\": 1}, \"108\": {\"108\": 12}, \"40\": {\"40\": 12}, \"47\": {\"47\": 9, \"59\": 1, \"129\": 2}, \"37\": {\"37\": 12}, \"78\": {\"78\": 10, \"21\": 1, \"107\": 1}, \"96\": {\"96\": 12}, \"43\": {\"43\": 10, \"21\": 1, \"70\": 1}, \"5\": {\"5\": 9, \"114\": 1}, \"124\": {\"124\": 12}, \"44\": {\"44\": 12}, \"41\": {\"41\": 11, \"47\": 1}, \"116\": {\"116\": 10, \"93\": 2}, \"19\": {\"43\": 1, \"19\": 6, \"123\": 2, \"124\": 1, \"1\": 1, \"85\": 1}, \"115\": {\"115\": 12}, \"95\": {\"95\": 11, \"6\": 1}, \"3\": {\"3\": 10}, \"59\": {\"59\": 12}, \"55\": {\"55\": 12}, \"70\": {\"70\": 9, \"1\": 1, \"19\": 1, \"53\": 1}, \"6\": {\"30\": 1, \"6\": 7, \"68\": 2, \"8\": 2}, \"2\": {\"48\": 1, \"81\": 1, \"16\": 2, \"2\": 3, \"93\": 2, \"69\": 2, \"80\": 1}, \"48\": {\"48\": 12}, \"23\": {\"23\": 7, \"127\": 1, \"73\": 1, \"95\": 1, \"52\": 1, \"28\": 1}, \"7\": {\"7\": 12}, \"122\": {\"122\": 10, \"34\": 1, \"107\": 1}, \"57\": {\"57\": 10, \"6\": 1, \"71\": 1}, \"39\": {\"39\": 9, \"53\": 1}, \"79\": {\"79\": 12}, \"27\": {\"27\": 10}, \"74\": {\"74\": 9, \"45\": 1, \"22\": 1, \"51\": 1}, \"73\": {\"73\": 12}, \"62\": {\"62\": 12}, \"107\": {\"107\": 12}, \"128\": {\"53\": 5, \"58\": 3, \"128\": 4}, \"60\": {\"5\": 2, \"60\": 6, \"1\": 3, \"83\": 1}, \"114\": {\"114\": 12}, \"22\": {\"22\": 11, \"40\": 1}, \"93\": {\"93\": 12}, \"94\": {\"94\": 10, \"24\": 1, \"68\": 1}, \"31\": {\"31\": 9, \"118\": 1}, \"104\": {\"104\": 12}, \"58\": {\"58\": 12}}, \"C_A_5\": {\"47\": {\"47\": 10}, \"53\": {\"53\": 10, \"9\": 1, \"17\": 1}, \"29\": {\"29\": 12}, \"52\": {\"52\": 12}, \"55\": {\"55\": 12}, \"17\": {\"53\": 3, \"17\": 9}, \"42\": {\"42\": 12}, \"33\": {\"33\": 10}, \"11\": {\"11\": 12}, \"19\": {\"19\": 8}, \"1\": {\"1\": 12}, \"44\": {\"44\": 12}, \"49\": {\"49\": 12}, \"4\": {\"4\": 12}, \"6\": {\"17\": 2, \"6\": 10}, \"39\": {\"39\": 12}, \"13\": {\"13\": 12}, \"5\": {\"5\": 10}, \"16\": {\"16\": 10}, \"25\": {\"25\": 12}, \"45\": {\"45\": 10, \"17\": 1, \"9\": 1}, \"7\": {\"7\": 10}, \"22\": {\"22\": 12}, \"40\": {\"40\": 12}, \"38\": {\"38\": 12}, \"35\": {\"35\": 8}, \"56\": {\"56\": 11, \"22\": 1}, \"50\": {\"50\": 8, \"39\": 2}, \"0\": {\"0\": 12}, \"10\": {\"10\": 12}, \"27\": {\"27\": 12}, \"20\": {\"20\": 10}, \"36\": {\"36\": 8}, \"34\": {\"34\": 12}, \"30\": {\"30\": 12}, \"2\": {\"2\": 10}, \"15\": {\"15\": 12}, \"18\": {\"18\": 12}, \"32\": {\"32\": 12}, \"31\": {\"31\": 12}, \"57\": {\"57\": 12}, \"48\": {\"48\": 8}, \"28\": {\"28\": 10}, \"14\": {\"11\": 1, \"14\": 3, \"0\": 1, \"31\": 2, \"29\": 2, \"46\": 3}, \"3\": {\"3\": 12}, \"8\": {\"8\": 11, \"26\": 1}, \"9\": {\"9\": 11, \"45\": 1}, \"21\": {\"21\": 10}, \"41\": {\"41\": 12}, \"24\": {\"24\": 12}, \"46\": {\"46\": 10}, \"43\": {\"43\": 10}, \"54\": {\"54\": 10}, \"23\": {\"23\": 10}, \"37\": {\"37\": 10}, \"12\": {\"12\": 10}, \"26\": {\"26\": 9, \"8\": 1}, \"51\": {\"51\": 6}}, \"C_A_1\": {\"46\": {\"46\": 12}, \"16\": {\"16\": 12}, \"26\": {\"26\": 12}, \"10\": {\"10\": 11, \"22\": 1}, \"9\": {\"9\": 10}, \"28\": {\"28\": 12}, \"51\": {\"51\": 12}, \"1\": {\"1\": 11, \"57\": 1}, \"55\": {\"55\": 11, \"38\": 1}, \"27\": {\"27\": 10}, \"22\": {\"22\": 12}, \"52\": {\"52\": 12}, \"3\": {\"3\": 12}, \"33\": {\"33\": 8}, \"47\": {\"47\": 12}, \"42\": {\"42\": 12}, \"12\": {\"12\": 4}, \"23\": {\"23\": 12}, \"49\": {\"49\": 10}, \"7\": {\"7\": 12}, \"4\": {\"4\": 12}, \"50\": {\"50\": 12}, \"19\": {\"19\": 12}, \"11\": {\"11\": 11, \"15\": 1}, \"31\": {\"31\": 10}, \"41\": {\"41\": 12}, \"56\": {\"56\": 9, \"37\": 1}, \"0\": {\"0\": 12}, \"57\": {\"57\": 12}, \"53\": {\"53\": 12}, \"43\": {\"43\": 12}, \"37\": {\"37\": 12}, \"2\": {\"2\": 8}, \"6\": {\"6\": 11, \"48\": 1}, \"18\": {\"18\": 12}, \"38\": {\"38\": 12}, \"15\": {\"15\": 12}, \"36\": {\"36\": 12}, \"39\": {\"39\": 8}, \"44\": {\"44\": 12}, \"8\": {\"8\": 12}, \"17\": {\"17\": 10}, \"5\": {\"5\": 12}, \"13\": {\"13\": 10}, \"40\": {\"40\": 10}, \"29\": {\"29\": 12}, \"48\": {\"48\": 12}, \"32\": {\"32\": 12}, \"30\": {\"30\": 11, \"14\": 1}, \"35\": {\"35\": 12}, \"25\": {\"25\": 12}, \"14\": {\"14\": 3, \"53\": 1, \"2\": 2, \"13\": 2, \"30\": 1, \"8\": 1, \"5\": 2}, \"54\": {\"54\": 10}, \"20\": {\"20\": 8}, \"21\": {\"21\": 10}, \"45\": {\"29\": 1, \"45\": 6, \"42\": 1}, \"24\": {\"24\": 5, \"10\": 1, \"22\": 2}, \"34\": {\"34\": 8}}, \"C_A_2\": {\"14\": {\"14\": 9, \"13\": 1, \"0\": 1, \"1\": 1}, \"22\": {\"22\": 12}, \"9\": {\"9\": 12}, \"47\": {\"47\": 10, \"42\": 2}, \"13\": {\"13\": 12}, \"8\": {\"8\": 12}, \"7\": {\"7\": 12}, \"49\": {\"49\": 12}, \"20\": {\"20\": 12}, \"16\": {\"16\": 12}, \"34\": {\"34\": 12}, \"56\": {\"56\": 12}, \"38\": {\"38\": 10}, \"4\": {\"4\": 12}, \"43\": {\"43\": 10}, \"26\": {\"8\": 1, \"26\": 9}, \"35\": {\"35\": 12}, \"31\": {\"31\": 12}, \"1\": {\"1\": 12}, \"39\": {\"39\": 12}, \"5\": {\"5\": 12}, \"24\": {\"24\": 12}, \"54\": {\"54\": 10}, \"23\": {\"23\": 12}, \"51\": {\"51\": 12}, \"27\": {\"27\": 10}, \"15\": {\"15\": 11, \"11\": 1}, \"0\": {\"0\": 12}, \"19\": {\"19\": 10}, \"18\": {\"30\": 1, \"18\": 7}, \"30\": {\"30\": 10, \"18\": 2}, \"55\": {\"55\": 10}, \"57\": {\"57\": 12}, \"2\": {\"2\": 11, \"23\": 1}, \"12\": {\"12\": 8}, \"41\": {\"41\": 12}, \"42\": {\"42\": 12}, \"48\": {\"48\": 12}, \"37\": {\"37\": 12}, \"6\": {\"6\": 10}, \"11\": {\"11\": 10}, \"45\": {\"45\": 8}, \"21\": {\"21\": 12}, \"46\": {\"46\": 10}, \"25\": {\"25\": 11, \"40\": 1}, \"36\": {\"36\": 10}, \"53\": {\"53\": 12}, \"28\": {\"28\": 12}, \"40\": {\"40\": 10}, \"33\": {\"33\": 10}, \"44\": {\"44\": 10}, \"3\": {\"3\": 11, \"9\": 1}, \"17\": {\"17\": 12}, \"32\": {\"32\": 10}, \"10\": {\"10\": 10}, \"52\": {\"52\": 9, \"15\": 1}, \"50\": {\"53\": 1, \"50\": 5, \"9\": 1, \"18\": 1}, \"29\": {\"29\": 6}}, \"ORACLE.run1_14\": {\"15\": {\"2\": 21, \"14\": 10, \"6\": 9, \"15\": 70, \"13\": 21, \"7\": 61, \"1\": 5, \"4\": 13, \"5\": 18, \"3\": 7, \"0\": 3, \"10\": 2}, \"3\": {\"11\": 23, \"10\": 22, \"7\": 3, \"9\": 5, \"14\": 14, \"2\": 17, \"5\": 21, \"0\": 28, \"3\": 26, \"4\": 24, \"1\": 15, \"8\": 5, \"13\": 9, \"6\": 18, \"12\": 3, \"15\": 7}, \"6\": {\"10\": 13, \"14\": 33, \"5\": 13, \"15\": 15, \"6\": 71, \"3\": 10, \"1\": 3, \"11\": 4, \"13\": 37, \"2\": 21, \"4\": 12, \"7\": 5, \"0\": 3}, \"1\": {\"5\": 28, \"7\": 10, \"9\": 10, \"3\": 23, \"4\": 26, \"0\": 29, \"14\": 9, \"1\": 47, \"2\": 8, \"11\": 14, \"10\": 18, \"8\": 11, \"15\": 6, \"13\": 1}, \"8\": {\"9\": 51, \"4\": 8, \"8\": 112, \"7\": 10, \"5\": 6, \"1\": 16, \"12\": 23, \"10\": 4, \"11\": 4, \"0\": 3, \"3\": 3}, \"10\": {\"3\": 22, \"6\": 11, \"2\": 18, \"7\": 3, \"10\": 46, \"0\": 37, \"11\": 31, \"14\": 21, \"13\": 8, \"4\": 15, \"5\": 11, \"1\": 10, \"9\": 4, \"8\": 2, \"15\": 1}, \"9\": {\"12\": 76, \"8\": 39, \"9\": 68, \"0\": 13, \"11\": 15, \"10\": 12, \"1\": 6, \"4\": 4, \"5\": 2, \"7\": 2, \"2\": 1, \"3\": 2}, \"13\": {\"6\": 62, \"13\": 40, \"15\": 31, \"14\": 35, \"2\": 24, \"5\": 7, \"10\": 12, \"4\": 10, \"0\": 4, \"7\": 10, \"11\": 1, \"3\": 4}, \"12\": {\"12\": 120, \"9\": 61, \"8\": 30, \"5\": 1, \"10\": 8, \"1\": 2, \"4\": 4, \"11\": 9, \"3\": 3, \"0\": 2}, \"5\": {\"10\": 12, \"7\": 30, \"1\": 23, \"0\": 19, \"5\": 27, \"4\": 19, \"3\": 30, \"14\": 11, \"2\": 17, \"13\": 10, \"15\": 19, \"11\": 14, \"8\": 2, \"6\": 7}, \"0\": {\"8\": 10, \"1\": 26, \"11\": 26, \"9\": 15, \"14\": 10, \"10\": 33, \"3\": 21, \"0\": 41, \"2\": 12, \"4\": 11, \"15\": 3, \"7\": 8, \"12\": 7, \"5\": 15, \"13\": 1, \"6\": 1}, \"2\": {\"10\": 14, \"14\": 34, \"15\": 21, \"0\": 13, \"3\": 18, \"5\": 20, \"6\": 29, \"13\": 26, \"7\": 20, \"11\": 9, \"2\": 20, \"4\": 15, \"1\": 1}, \"11\": {\"8\": 12, \"11\": 29, \"3\": 25, \"10\": 36, \"6\": 4, \"13\": 4, \"9\": 25, \"14\": 13, \"15\": 3, \"1\": 20, \"5\": 18, \"0\": 27, \"12\": 9, \"7\": 3, \"2\": 6, \"4\": 6}, \"14\": {\"14\": 42, \"6\": 42, \"2\": 20, \"10\": 22, \"4\": 12, \"13\": 29, \"1\": 8, \"3\": 15, \"11\": 10, \"15\": 12, \"7\": 7, \"5\": 9, \"0\": 12}, \"7\": {\"7\": 81, \"15\": 59, \"2\": 11, \"1\": 23, \"5\": 16, \"3\": 7, \"14\": 6, \"0\": 8, \"13\": 10, \"4\": 12, \"6\": 4, \"11\": 3}, \"4\": {\"15\": 15, \"0\": 27, \"6\": 6, \"7\": 28, \"10\": 15, \"4\": 24, \"1\": 22, \"3\": 23, \"11\": 14, \"14\": 17, \"9\": 2, \"2\": 14, \"5\": 23, \"8\": 5, \"13\": 5}}, \"ORACLE.run1_20\": {\"3\": {\"9\": 19, \"12\": 8, \"4\": 19, \"0\": 16, \"11\": 15, \"3\": 20, \"1\": 21, \"8\": 14, \"10\": 11, \"13\": 7, \"15\": 17, \"14\": 14, \"2\": 12, \"6\": 14, \"5\": 18, \"7\": 15}, \"15\": {\"9\": 10, \"7\": 9, \"6\": 8, \"13\": 38, \"5\": 19, \"3\": 19, \"10\": 5, \"11\": 12, \"2\": 25, \"15\": 28, \"12\": 15, \"1\": 20, \"8\": 6, \"4\": 7, \"0\": 16, \"14\": 3}, \"8\": {\"14\": 22, \"0\": 17, \"2\": 10, \"9\": 11, \"8\": 29, \"6\": 25, \"4\": 22, \"11\": 21, \"3\": 15, \"10\": 22, \"5\": 7, \"12\": 13, \"7\": 16, \"13\": 4, \"1\": 3, \"15\": 3}, \"4\": {\"7\": 12, \"11\": 6, \"4\": 25, \"1\": 5, \"3\": 19, \"14\": 26, \"10\": 28, \"5\": 13, \"6\": 30, \"8\": 31, \"2\": 12, \"12\": 13, \"15\": 4, \"9\": 7, \"13\": 2, \"0\": 7}, \"14\": {\"6\": 42, \"4\": 32, \"12\": 9, \"14\": 41, \"3\": 9, \"9\": 8, \"7\": 13, \"15\": 3, \"8\": 34, \"10\": 24, \"2\": 5, \"0\": 7, \"5\": 3, \"13\": 2, \"11\": 5, \"1\": 3}, \"0\": {\"12\": 23, \"1\": 19, \"10\": 3, \"15\": 20, \"7\": 12, \"8\": 15, \"9\": 20, \"2\": 15, \"5\": 18, \"14\": 7, \"0\": 20, \"4\": 12, \"13\": 16, \"11\": 18, \"6\": 10, \"3\": 12}, \"7\": {\"9\": 17, \"13\": 15, \"2\": 13, \"6\": 9, \"11\": 18, \"5\": 17, \"3\": 16, \"1\": 15, \"4\": 17, \"0\": 14, \"7\": 18, \"8\": 20, \"10\": 11, \"14\": 13, \"12\": 12, \"15\": 15}, \"6\": {\"7\": 19, \"6\": 30, \"1\": 6, \"11\": 20, \"10\": 27, \"8\": 27, \"14\": 41, \"9\": 9, \"15\": 5, \"4\": 14, \"5\": 6, \"3\": 10, \"0\": 12, \"12\": 5, \"2\": 8, \"13\": 1}, \"10\": {\"4\": 22, \"7\": 12, \"6\": 30, \"3\": 22, \"10\": 46, \"2\": 5, \"14\": 33, \"8\": 21, \"12\": 7, \"5\": 13, \"13\": 3, \"15\": 5, \"0\": 6, \"1\": 5, \"9\": 9, \"11\": 1}, \"5\": {\"12\": 18, \"15\": 18, \"1\": 21, \"5\": 22, \"2\": 18, \"6\": 12, \"9\": 16, \"11\": 10, \"8\": 8, \"14\": 6, \"7\": 18, \"0\": 12, \"10\": 12, \"13\": 24, \"3\": 15, \"4\": 10}, \"2\": {\"0\": 19, \"9\": 16, \"15\": 26, \"13\": 36, \"6\": 12, \"8\": 9, \"14\": 5, \"2\": 10, \"1\": 18, \"12\": 17, \"11\": 17, \"5\": 21, \"7\": 10, \"4\": 11, \"3\": 9, \"10\": 4}, \"12\": {\"2\": 20, \"5\": 16, \"9\": 12, \"8\": 11, \"10\": 7, \"15\": 18, \"12\": 14, \"3\": 19, \"6\": 14, \"11\": 13, \"7\": 17, \"13\": 19, \"0\": 14, \"14\": 6, \"4\": 19, \"1\": 21}, \"9\": {\"14\": 9, \"9\": 19, \"6\": 8, \"13\": 20, \"2\": 18, \"10\": 8, \"11\": 19, \"15\": 18, \"1\": 18, \"8\": 8, \"12\": 22, \"5\": 18, \"0\": 17, \"7\": 13, \"3\": 17, \"4\": 8}, \"1\": {\"9\": 21, \"5\": 13, \"6\": 11, \"13\": 29, \"3\": 13, \"7\": 15, \"11\": 12, \"0\": 22, \"2\": 18, \"14\": 4, \"8\": 7, \"1\": 18, \"15\": 28, \"12\": 19, \"4\": 7, \"10\": 3}, \"11\": {\"1\": 6, \"11\": 101, \"15\": 11, \"13\": 22, \"6\": 12, \"7\": 6, \"2\": 14, \"3\": 3, \"14\": 6, \"0\": 14, \"8\": 16, \"10\": 2, \"9\": 9, \"4\": 8, \"5\": 5, \"12\": 5}, \"13\": {\"1\": 28, \"14\": 2, \"2\": 13, \"15\": 28, \"13\": 41, \"3\": 10, \"12\": 22, \"9\": 19, \"4\": 5, \"11\": 15, \"5\": 19, \"7\": 13, \"6\": 5, \"0\": 14, \"8\": 6}}, \"ORACLE.run1_38\": {\"5\": {\"2\": 14, \"14\": 5, \"5\": 30, \"0\": 19, \"10\": 19, \"8\": 43, \"6\": 24, \"7\": 16, \"9\": 17, \"3\": 5, \"1\": 4, \"11\": 5, \"15\": 19, \"13\": 19, \"12\": 1}, \"8\": {\"5\": 28, \"3\": 18, \"6\": 14, \"11\": 2, \"7\": 30, \"8\": 40, \"2\": 12, \"1\": 10, \"15\": 17, \"10\": 15, \"0\": 20, \"9\": 20, \"14\": 2, \"4\": 1, \"13\": 11}, \"11\": {\"11\": 100, \"10\": 27, \"14\": 66, \"8\": 4, \"13\": 8, \"12\": 11, \"4\": 8, \"7\": 5, \"5\": 1, \"6\": 1, \"2\": 8, \"15\": 1}, \"1\": {\"1\": 81, \"6\": 33, \"13\": 22, \"2\": 24, \"3\": 1, \"15\": 38, \"9\": 18, \"5\": 12, \"0\": 3, \"10\": 3, \"14\": 1, \"11\": 1, \"8\": 2, \"7\": 1}, \"10\": {\"15\": 11, \"7\": 18, \"0\": 11, \"5\": 16, \"12\": 23, \"14\": 35, \"2\": 22, \"10\": 36, \"11\": 32, \"13\": 7, \"8\": 16, \"1\": 1, \"6\": 6, \"9\": 3, \"4\": 2, \"3\": 1}, \"15\": {\"1\": 31, \"5\": 25, \"15\": 39, \"13\": 34, \"7\": 5, \"10\": 9, \"3\": 3, \"2\": 41, \"14\": 8, \"6\": 12, \"8\": 22, \"0\": 3, \"11\": 4, \"9\": 4}, \"3\": {\"3\": 137, \"0\": 38, \"7\": 12, \"6\": 9, \"9\": 25, \"5\": 10, \"8\": 5, \"15\": 2, \"4\": 1, \"1\": 1}, \"7\": {\"3\": 14, \"8\": 31, \"10\": 23, \"5\": 17, \"6\": 5, \"7\": 61, \"0\": 36, \"12\": 30, \"4\": 4, \"9\": 7, \"11\": 3, \"15\": 5, \"2\": 2, \"14\": 1, \"1\": 1}, \"4\": {\"4\": 158, \"12\": 67, \"7\": 6, \"11\": 4, \"10\": 2, \"0\": 2, \"14\": 1}, \"14\": {\"11\": 80, \"14\": 55, \"10\": 28, \"13\": 12, \"5\": 6, \"15\": 10, \"0\": 4, \"7\": 10, \"2\": 21, \"6\": 1, \"8\": 8, \"12\": 3, \"1\": 1, \"4\": 1}, \"9\": {\"0\": 17, \"3\": 29, \"1\": 20, \"5\": 23, \"6\": 37, \"9\": 68, \"7\": 5, \"13\": 9, \"15\": 9, \"8\": 16, \"2\": 5, \"10\": 2}, \"12\": {\"4\": 62, \"12\": 93, \"7\": 29, \"8\": 4, \"3\": 2, \"11\": 13, \"5\": 3, \"0\": 12, \"14\": 12, \"10\": 9, \"2\": 1}, \"6\": {\"6\": 47, \"9\": 61, \"1\": 33, \"2\": 5, \"3\": 7, \"7\": 5, \"13\": 10, \"15\": 22, \"0\": 13, \"8\": 16, \"5\": 17, \"10\": 3, \"14\": 1}, \"2\": {\"13\": 33, \"14\": 23, \"11\": 15, \"15\": 37, \"10\": 20, \"2\": 62, \"5\": 9, \"6\": 3, \"8\": 7, \"7\": 2, \"1\": 20, \"0\": 7, \"9\": 2}, \"0\": {\"8\": 25, \"3\": 52, \"0\": 42, \"5\": 23, \"7\": 33, \"13\": 7, \"12\": 11, \"9\": 14, \"6\": 13, \"14\": 5, \"10\": 7, \"15\": 6, \"2\": 1, \"4\": 1}, \"13\": {\"15\": 32, \"5\": 22, \"1\": 24, \"11\": 6, \"13\": 33, \"2\": 52, \"0\": 7, \"3\": 3, \"14\": 10, \"9\": 9, \"8\": 14, \"6\": 19, \"10\": 9}}, \"ORACLE.run1_8\": {\"9\": {\"9\": 214, \"4\": 2, \"10\": 5, \"0\": 5, \"5\": 7, \"13\": 3, \"6\": 1, \"14\": 2, \"1\": 1}, \"10\": {\"5\": 47, \"3\": 5, \"11\": 18, \"4\": 27, \"10\": 21, \"13\": 21, \"1\": 22, \"15\": 5, \"14\": 14, \"0\": 23, \"6\": 13, \"7\": 11, \"12\": 3, \"9\": 3, \"2\": 4, \"8\": 3}, \"13\": {\"7\": 13, \"0\": 29, \"1\": 14, \"10\": 27, \"11\": 6, \"6\": 19, \"9\": 1, \"13\": 31, \"5\": 24, \"2\": 10, \"15\": 5, \"12\": 5, \"4\": 19, \"14\": 23, \"8\": 7, \"3\": 7}, \"0\": {\"14\": 19, \"13\": 30, \"7\": 25, \"0\": 43, \"2\": 24, \"4\": 21, \"6\": 19, \"10\": 13, \"1\": 5, \"15\": 3, \"5\": 15, \"3\": 10, \"12\": 2, \"8\": 6, \"11\": 5}, \"1\": {\"14\": 22, \"4\": 18, \"10\": 17, \"5\": 38, \"7\": 9, \"13\": 8, \"15\": 9, \"11\": 30, \"6\": 10, \"12\": 12, \"8\": 13, \"3\": 12, \"1\": 32, \"0\": 5, \"2\": 5}, \"15\": {\"3\": 26, \"12\": 46, \"1\": 14, \"10\": 4, \"15\": 37, \"11\": 24, \"8\": 33, \"2\": 11, \"14\": 9, \"6\": 9, \"4\": 5, \"13\": 6, \"7\": 9, \"5\": 5, \"0\": 2}, \"5\": {\"7\": 9, \"1\": 30, \"5\": 56, \"4\": 20, \"10\": 38, \"6\": 13, \"2\": 2, \"14\": 16, \"13\": 18, \"0\": 7, \"11\": 12, \"9\": 6, \"8\": 5, \"15\": 5, \"3\": 1, \"12\": 2}, \"3\": {\"2\": 38, \"7\": 15, \"11\": 19, \"3\": 31, \"12\": 46, \"1\": 6, \"0\": 9, \"6\": 5, \"15\": 27, \"8\": 20, \"4\": 6, \"10\": 3, \"14\": 9, \"5\": 3, \"13\": 3}, \"6\": {\"4\": 28, \"7\": 14, \"15\": 5, \"0\": 20, \"1\": 20, \"3\": 13, \"5\": 12, \"10\": 18, \"14\": 18, \"2\": 13, \"8\": 14, \"12\": 12, \"13\": 19, \"6\": 18, \"11\": 16}, \"11\": {\"11\": 25, \"14\": 14, \"3\": 12, \"4\": 23, \"8\": 26, \"2\": 15, \"1\": 25, \"0\": 8, \"7\": 19, \"12\": 14, \"10\": 8, \"5\": 14, \"13\": 7, \"6\": 8, \"15\": 22}, \"8\": {\"15\": 21, \"4\": 10, \"11\": 27, \"3\": 24, \"2\": 19, \"8\": 23, \"0\": 3, \"12\": 30, \"5\": 10, \"1\": 29, \"6\": 10, \"14\": 10, \"13\": 5, \"10\": 4, \"7\": 15}, \"4\": {\"10\": 23, \"0\": 23, \"14\": 16, \"3\": 12, \"11\": 9, \"13\": 23, \"5\": 14, \"2\": 16, \"1\": 17, \"12\": 8, \"6\": 18, \"7\": 17, \"15\": 10, \"8\": 15, \"4\": 19}, \"12\": {\"2\": 31, \"15\": 32, \"3\": 36, \"12\": 57, \"8\": 26, \"11\": 19, \"14\": 5, \"7\": 7, \"4\": 6, \"10\": 3, \"0\": 3, \"6\": 9, \"13\": 3, \"1\": 3}, \"14\": {\"7\": 19, \"4\": 22, \"11\": 12, \"6\": 27, \"1\": 22, \"5\": 23, \"3\": 6, \"13\": 13, \"0\": 25, \"14\": 14, \"2\": 15, \"10\": 21, \"8\": 7, \"15\": 6, \"12\": 8}, \"2\": {\"11\": 6, \"13\": 3, \"7\": 14, \"2\": 77, \"12\": 21, \"3\": 30, \"6\": 22, \"4\": 10, \"0\": 16, \"8\": 14, \"15\": 5, \"1\": 8, \"5\": 2, \"14\": 9, \"10\": 3}, \"7\": {\"14\": 25, \"13\": 29, \"12\": 9, \"1\": 18, \"4\": 17, \"5\": 11, \"0\": 21, \"8\": 9, \"6\": 19, \"11\": 10, \"2\": 19, \"3\": 14, \"7\": 17, \"10\": 16, \"15\": 6}}, \"ORACLE.run1_50\": {\"7\": {\"5\": 34, \"10\": 34, \"13\": 25, \"7\": 30, \"1\": 15, \"6\": 20, \"2\": 4, \"15\": 13, \"4\": 26, \"14\": 3, \"3\": 10, \"11\": 3, \"9\": 5, \"0\": 9, \"8\": 8, \"12\": 1}, \"3\": {\"8\": 48, \"10\": 24, \"3\": 130, \"0\": 9, \"13\": 4, \"5\": 10, \"7\": 10, \"4\": 2, \"2\": 1, \"6\": 2}, \"8\": {\"3\": 63, \"8\": 87, \"10\": 33, \"0\": 30, \"1\": 2, \"2\": 11, \"5\": 6, \"7\": 7, \"13\": 1}, \"2\": {\"0\": 51, \"8\": 17, \"2\": 77, \"12\": 21, \"14\": 32, \"10\": 19, \"11\": 3, \"1\": 5, \"13\": 3, \"7\": 2, \"6\": 4, \"3\": 1, \"9\": 3, \"4\": 2}, \"14\": {\"4\": 5, \"12\": 59, \"14\": 69, \"0\": 8, \"6\": 11, \"10\": 7, \"9\": 33, \"2\": 17, \"1\": 14, \"11\": 10, \"5\": 2, \"15\": 2, \"7\": 1, \"13\": 1, \"8\": 1}, \"4\": {\"9\": 12, \"1\": 19, \"15\": 28, \"12\": 5, \"13\": 27, \"10\": 13, \"6\": 31, \"7\": 27, \"5\": 24, \"14\": 7, \"4\": 27, \"11\": 12, \"3\": 1, \"0\": 6, \"2\": 1}, \"6\": {\"1\": 18, \"11\": 20, \"4\": 32, \"13\": 17, \"15\": 21, \"7\": 27, \"5\": 15, \"6\": 27, \"12\": 9, \"0\": 7, \"9\": 16, \"14\": 19, \"8\": 2, \"10\": 6, \"2\": 3, \"3\": 1}, \"15\": {\"15\": 38, \"14\": 12, \"7\": 13, \"12\": 11, \"11\": 36, \"4\": 39, \"6\": 20, \"9\": 20, \"13\": 13, \"5\": 16, \"1\": 18, \"10\": 2, \"2\": 1, \"0\": 1}, \"10\": {\"6\": 8, \"0\": 38, \"13\": 15, \"10\": 59, \"8\": 32, \"1\": 11, \"4\": 7, \"2\": 17, \"3\": 16, \"5\": 17, \"14\": 5, \"11\": 3, \"7\": 10, \"9\": 2}, \"11\": {\"1\": 12, \"12\": 32, \"4\": 19, \"15\": 30, \"11\": 44, \"9\": 52, \"6\": 14, \"5\": 9, \"14\": 17, \"7\": 4, \"13\": 5, \"10\": 2}, \"13\": {\"6\": 16, \"15\": 14, \"13\": 36, \"14\": 6, \"10\": 20, \"7\": 31, \"11\": 5, \"5\": 41, \"9\": 6, \"1\": 15, \"3\": 8, \"8\": 7, \"4\": 19, \"2\": 5, \"0\": 10, \"12\": 1}, \"9\": {\"4\": 18, \"11\": 47, \"5\": 4, \"1\": 19, \"9\": 50, \"6\": 19, \"14\": 21, \"7\": 3, \"12\": 24, \"15\": 26, \"10\": 1, \"13\": 5, \"2\": 2, \"0\": 1}, \"0\": {\"7\": 11, \"0\": 39, \"8\": 31, \"13\": 9, \"1\": 14, \"10\": 31, \"2\": 57, \"4\": 2, \"14\": 15, \"12\": 3, \"6\": 9, \"5\": 6, \"11\": 3, \"3\": 8, \"9\": 2}, \"1\": {\"6\": 18, \"9\": 24, \"0\": 5, \"4\": 26, \"13\": 19, \"10\": 8, \"15\": 20, \"2\": 8, \"1\": 25, \"14\": 16, \"12\": 20, \"11\": 19, \"7\": 18, \"5\": 14}, \"12\": {\"7\": 1, \"14\": 68, \"11\": 15, \"9\": 23, \"15\": 6, \"1\": 10, \"2\": 10, \"12\": 82, \"6\": 7, \"0\": 5, \"10\": 6, \"4\": 3, \"13\": 2, \"5\": 2}, \"5\": {\"15\": 16, \"6\": 18, \"7\": 26, \"3\": 9, \"5\": 45, \"1\": 13, \"2\": 9, \"4\": 31, \"10\": 24, \"11\": 9, \"0\": 6, \"13\": 26, \"14\": 2, \"9\": 4, \"8\": 2}}, \"ORACLE.run1_32\": {\"8\": {\"5\": 29, \"0\": 29, \"3\": 34, \"13\": 36, \"4\": 14, \"7\": 9, \"11\": 16, \"8\": 45, \"9\": 2, \"14\": 9, \"2\": 9, \"15\": 7, \"12\": 1}, \"14\": {\"0\": 22, \"11\": 37, \"7\": 36, \"5\": 22, \"12\": 3, \"3\": 6, \"9\": 11, \"13\": 18, \"4\": 14, \"14\": 31, \"2\": 26, \"8\": 14}, \"2\": {\"9\": 13, \"2\": 70, \"0\": 29, \"12\": 3, \"5\": 14, \"4\": 24, \"14\": 30, \"7\": 24, \"13\": 11, \"11\": 20, \"8\": 2}, \"0\": {\"9\": 8, \"2\": 32, \"7\": 26, \"0\": 54, \"12\": 4, \"14\": 21, \"8\": 17, \"5\": 18, \"11\": 20, \"4\": 21, \"13\": 16, \"3\": 3}, \"1\": {\"1\": 158, \"6\": 9, \"10\": 71, \"12\": 1, \"9\": 1}, \"10\": {\"10\": 141, \"6\": 15, \"1\": 52, \"12\": 32}, \"11\": {\"11\": 44, \"4\": 19, \"13\": 18, \"14\": 42, \"3\": 12, \"8\": 13, \"2\": 23, \"7\": 27, \"0\": 20, \"5\": 20, \"9\": 2}, \"5\": {\"11\": 25, \"4\": 15, \"3\": 36, \"8\": 25, \"5\": 43, \"7\": 30, \"13\": 21, \"0\": 16, \"2\": 13, \"14\": 15, \"9\": 1}, \"15\": {\"15\": 196, \"3\": 28, \"8\": 10, \"5\": 2, \"13\": 3, \"0\": 1}, \"3\": {\"3\": 77, \"15\": 20, \"4\": 9, \"0\": 11, \"13\": 24, \"8\": 37, \"7\": 13, \"5\": 30, \"11\": 12, \"14\": 7}, \"12\": {\"12\": 130, \"10\": 27, \"6\": 13, \"9\": 65, \"2\": 3, \"1\": 2}, \"7\": {\"2\": 33, \"11\": 34, \"7\": 31, \"14\": 31, \"5\": 32, \"3\": 10, \"0\": 33, \"8\": 10, \"13\": 10, \"4\": 14, \"9\": 2}, \"13\": {\"7\": 14, \"3\": 29, \"11\": 16, \"13\": 39, \"5\": 25, \"2\": 12, \"8\": 42, \"4\": 18, \"14\": 13, \"0\": 27, \"12\": 1, \"15\": 3, \"9\": 1}, \"6\": {\"6\": 182, \"12\": 15, \"9\": 5, \"10\": 10, \"1\": 28}, \"4\": {\"0\": 45, \"3\": 6, \"4\": 31, \"2\": 28, \"8\": 16, \"7\": 23, \"11\": 24, \"14\": 18, \"5\": 21, \"13\": 24, \"9\": 4}, \"9\": {\"0\": 10, \"9\": 119, \"12\": 80, \"2\": 13, \"10\": 3, \"4\": 6, \"13\": 3, \"7\": 2, \"14\": 2, \"6\": 2}}, \"ORACLE.run1_26\": {\"4\": {\"15\": 17, \"14\": 37, \"1\": 19, \"0\": 22, \"7\": 18, \"10\": 21, \"13\": 6, \"9\": 11, \"4\": 27, \"3\": 17, \"5\": 7, \"2\": 12, \"6\": 11, \"12\": 3, \"8\": 12}, \"12\": {\"6\": 21, \"12\": 59, \"10\": 14, \"1\": 4, \"13\": 26, \"7\": 5, \"9\": 11, \"11\": 28, \"5\": 29, \"14\": 1, \"4\": 4, \"15\": 11, \"2\": 7, \"3\": 5, \"8\": 9, \"0\": 6}, \"10\": {\"10\": 18, \"1\": 11, \"12\": 11, \"3\": 14, \"8\": 14, \"14\": 31, \"7\": 21, \"4\": 20, \"6\": 18, \"9\": 10, \"5\": 11, \"2\": 18, \"0\": 27, \"15\": 8, \"13\": 7, \"11\": 1}, \"0\": {\"2\": 19, \"0\": 23, \"7\": 17, \"9\": 14, \"10\": 15, \"1\": 22, \"6\": 12, \"3\": 15, \"14\": 31, \"12\": 5, \"4\": 28, \"15\": 7, \"8\": 19, \"5\": 7, \"13\": 6}, \"13\": {\"13\": 44, \"2\": 8, \"5\": 43, \"4\": 5, \"6\": 14, \"8\": 10, \"12\": 31, \"7\": 7, \"9\": 27, \"15\": 21, \"11\": 11, \"0\": 2, \"3\": 9, \"10\": 5, \"14\": 3}, \"9\": {\"15\": 23, \"6\": 14, \"3\": 22, \"12\": 10, \"13\": 21, \"4\": 7, \"5\": 30, \"7\": 17, \"1\": 6, \"8\": 20, \"9\": 25, \"10\": 14, \"2\": 21, \"14\": 3, \"0\": 6, \"11\": 1}, \"3\": {\"14\": 11, \"8\": 14, \"3\": 31, \"4\": 15, \"6\": 18, \"1\": 18, \"0\": 19, \"2\": 19, \"10\": 13, \"15\": 21, \"12\": 5, \"9\": 21, \"7\": 20, \"5\": 10, \"13\": 5}, \"2\": {\"6\": 12, \"3\": 28, \"7\": 18, \"0\": 16, \"5\": 16, \"2\": 21, \"4\": 11, \"1\": 11, \"8\": 13, \"14\": 8, \"12\": 6, \"9\": 28, \"10\": 13, \"15\": 23, \"13\": 15, \"11\": 1}, \"5\": {\"6\": 15, \"9\": 24, \"12\": 23, \"10\": 10, \"13\": 37, \"8\": 14, \"5\": 28, \"7\": 7, \"15\": 22, \"0\": 3, \"3\": 13, \"4\": 10, \"2\": 24, \"1\": 5, \"11\": 3, \"14\": 2}, \"14\": {\"10\": 28, \"4\": 27, \"3\": 11, \"15\": 10, \"0\": 27, \"14\": 25, \"5\": 5, \"6\": 10, \"1\": 23, \"7\": 27, \"13\": 3, \"9\": 14, \"8\": 16, \"12\": 7, \"2\": 7}, \"8\": {\"14\": 23, \"10\": 20, \"2\": 17, \"0\": 20, \"3\": 7, \"4\": 12, \"1\": 13, \"9\": 11, \"6\": 29, \"7\": 20, \"12\": 13, \"13\": 11, \"15\": 19, \"5\": 13, \"8\": 12}, \"7\": {\"9\": 22, \"4\": 20, \"7\": 27, \"10\": 17, \"1\": 11, \"14\": 17, \"5\": 9, \"15\": 15, \"6\": 10, \"3\": 29, \"0\": 18, \"13\": 6, \"2\": 22, \"8\": 13, \"12\": 4}, \"6\": {\"2\": 11, \"5\": 21, \"7\": 15, \"6\": 20, \"0\": 12, \"14\": 13, \"9\": 21, \"15\": 21, \"13\": 19, \"1\": 9, \"12\": 14, \"10\": 16, \"11\": 5, \"3\": 17, \"4\": 12, \"8\": 14}, \"11\": {\"11\": 172, \"6\": 4, \"13\": 21, \"12\": 33, \"5\": 3, \"10\": 2, \"14\": 2, \"9\": 2, \"8\": 1}, \"15\": {\"14\": 11, \"9\": 18, \"13\": 24, \"12\": 19, \"4\": 13, \"1\": 12, \"7\": 15, \"15\": 15, \"10\": 15, \"8\": 21, \"5\": 23, \"3\": 14, \"6\": 13, \"2\": 15, \"0\": 7, \"11\": 5}, \"1\": {\"1\": 25, \"14\": 31, \"7\": 19, \"2\": 14, \"10\": 23, \"9\": 14, \"4\": 32, \"8\": 13, \"15\": 7, \"12\": 4, \"6\": 12, \"0\": 22, \"3\": 18, \"13\": 4, \"5\": 2}}, \"ORACLE.run1_44\": {\"12\": {\"3\": 41, \"9\": 24, \"12\": 50, \"1\": 40, \"10\": 23, \"2\": 24, \"7\": 14, \"13\": 13, \"11\": 2, \"4\": 3, \"6\": 6}, \"7\": {\"2\": 25, \"4\": 4, \"11\": 17, \"13\": 23, \"10\": 25, \"9\": 22, \"12\": 29, \"1\": 18, \"7\": 40, \"3\": 14, \"6\": 20, \"15\": 1, \"14\": 2}, \"5\": {\"4\": 33, \"0\": 38, \"8\": 21, \"14\": 38, \"5\": 73, \"15\": 30, \"1\": 2, \"12\": 1, \"3\": 4}, \"15\": {\"5\": 47, \"0\": 43, \"15\": 59, \"4\": 26, \"8\": 32, \"14\": 27, \"1\": 2, \"3\": 4}, \"8\": {\"0\": 71, \"8\": 94, \"15\": 43, \"4\": 4, \"5\": 24, \"14\": 4}, \"2\": {\"10\": 28, \"12\": 20, \"13\": 19, \"9\": 30, \"2\": 35, \"1\": 24, \"3\": 12, \"7\": 34, \"6\": 22, \"11\": 15, \"4\": 1}, \"13\": {\"9\": 31, \"6\": 21, \"11\": 47, \"10\": 13, \"13\": 34, \"12\": 13, \"7\": 34, \"2\": 24, \"14\": 3, \"4\": 2, \"3\": 9, \"1\": 9}, \"4\": {\"14\": 49, \"4\": 67, \"5\": 25, \"3\": 36, \"7\": 6, \"15\": 16, \"1\": 9, \"13\": 1, \"0\": 11, \"10\": 1, \"9\": 8, \"12\": 5, \"8\": 3, \"11\": 2, \"2\": 1}, \"0\": {\"0\": 55, \"15\": 42, \"14\": 15, \"4\": 10, \"8\": 83, \"5\": 33, \"12\": 1, \"9\": 1}, \"6\": {\"9\": 21, \"2\": 23, \"12\": 10, \"6\": 58, \"7\": 27, \"10\": 21, \"11\": 45, \"13\": 29, \"4\": 1, \"1\": 5}, \"9\": {\"9\": 32, \"4\": 11, \"1\": 21, \"12\": 22, \"6\": 19, \"11\": 14, \"7\": 36, \"10\": 17, \"3\": 17, \"13\": 26, \"2\": 19, \"5\": 2, \"14\": 4}, \"11\": {\"11\": 102, \"13\": 34, \"6\": 51, \"7\": 12, \"10\": 8, \"2\": 11, \"9\": 13, \"1\": 3, \"4\": 1, \"12\": 4, \"5\": 1}, \"10\": {\"12\": 30, \"2\": 28, \"13\": 13, \"10\": 44, \"6\": 23, \"1\": 25, \"9\": 26, \"7\": 22, \"3\": 10, \"11\": 18, \"4\": 1}, \"14\": {\"1\": 7, \"15\": 27, \"4\": 67, \"5\": 52, \"14\": 45, \"3\": 15, \"12\": 4, \"8\": 2, \"2\": 1, \"0\": 10, \"9\": 5, \"7\": 3, \"10\": 2}, \"1\": {\"3\": 44, \"12\": 34, \"1\": 47, \"13\": 11, \"2\": 20, \"9\": 24, \"11\": 3, \"10\": 23, \"7\": 23, \"6\": 2, \"14\": 5, \"15\": 1, \"4\": 3}, \"3\": {\"4\": 29, \"14\": 19, \"3\": 78, \"12\": 30, \"10\": 10, \"1\": 32, \"9\": 19, \"7\": 9, \"13\": 2, \"5\": 4, \"2\": 4, \"15\": 2, \"6\": 1, \"0\": 1}}}, \"per_domain_accuracy\": {\"W_A_3\": {\"accuracy\": 0.9134114583333334, \"source?\": true}, \"W_A_4\": {\"accuracy\": 0.87109375, \"source?\": true}, \"W_A_1\": {\"accuracy\": 0.9069010416666666, \"source?\": true}, \"C_A_3\": {\"accuracy\": 0.9765625, \"source?\": true}, \"C_A_4\": {\"accuracy\": 0.9859375, \"source?\": true}, \"W_A_2\": {\"accuracy\": 0.88671875, \"source?\": true}, \"C_A_5\": {\"accuracy\": 0.9625, \"source?\": true}, \"C_A_1\": {\"accuracy\": 0.9671875, \"source?\": true}, \"C_A_2\": {\"accuracy\": 0.9734375, \"source?\": true}, \"ORACLE.run1_14\": {\"accuracy\": 0.225, \"source?\": false}, \"ORACLE.run1_20\": {\"accuracy\": 0.12552083333333333, \"source?\": false}, \"ORACLE.run1_38\": {\"accuracy\": 0.28177083333333336, \"source?\": false}, \"ORACLE.run1_8\": {\"accuracy\": 0.18619791666666666, \"source?\": false}, \"ORACLE.run1_50\": {\"accuracy\": 0.22526041666666666, \"source?\": false}, \"ORACLE.run1_32\": {\"accuracy\": 0.36223958333333334, \"source?\": false}, \"ORACLE.run1_26\": {\"accuracy\": 0.14895833333333333, \"source?\": false}, \"ORACLE.run1_44\": {\"accuracy\": 0.23776041666666667, \"source?\": false}}}, \"history\": {\"epoch_indices\": [1, 2, 3, 4, 5], \"train_label_loss\": [0.4735899328391557, 0.24609395599162037, 0.16477056061528605, 0.12830322528746785, 0.1052694488958714], \"source_val_label_loss\": [0.35206782817840576, 0.19933199882507324, 0.1687241643667221, 0.16787606477737427, 0.1404227316379547], \"target_val_label_loss\": [2.3167269229888916, 2.371453046798706, 2.3927085399627686, 2.580016851425171, 2.4669148921966553], \"source_val_acc_label\": [0.9214469178082192, 0.9543022260273972, 0.9623287671232876, 0.9599743150684932, 0.969285102739726], \"target_val_acc_label\": [0.22408854166666667, 0.20126953125, 0.20068359375, 0.16402994791666667, 0.18623046875]}, \"dataset_metrics\": {\"source\": {\"train\": {\"n_unique_x\": 56700, \"n_unique_y\": 130, \"n_batch/episode\": 2081}, \"val\": {\"n_unique_x\": 12132, \"n_unique_y\": 130, \"n_batch/episode\": 292}, \"test\": {\"n_unique_x\": 12132, \"n_unique_y\": 130, \"n_batch/episode\": 292}}, \"target\": {\"train\": {\"n_unique_x\": 179200, \"n_unique_y\": 16, \"n_batch/episode\": 6720}, \"val\": {\"n_unique_x\": 38400, \"n_unique_y\": 16, \"n_batch/episode\": 960}, \"test\": {\"n_unique_x\": 38400, \"n_unique_y\": 16, \"n_batch/episode\": 960}}}}'"
      ]
     },
     "execution_count": 29,
     "metadata": {},
     "output_type": "execute_result"
    }
   ],
   "source": [
    "json.dumps(experiment)"
   ]
  }
 ],
 "metadata": {
  "celltoolbar": "Tags",
  "kernelspec": {
   "display_name": "Python 3 (ipykernel)",
   "language": "python",
   "name": "python3"
  },
  "language_info": {
   "codemirror_mode": {
    "name": "ipython",
    "version": 3
   },
   "file_extension": ".py",
   "mimetype": "text/x-python",
   "name": "python",
   "nbconvert_exporter": "python",
   "pygments_lexer": "ipython3",
   "version": "3.8.10"
  },
  "papermill": {
   "default_parameters": {},
   "duration": 441.826071,
   "end_time": "2022-03-18T07:46:04.896006",
   "environment_variables": {},
   "exception": null,
   "input_path": "/mnt/wd500GB/CSC500/csc500-main/csc500-notebooks/templates/tl_ptn_template.ipynb",
   "output_path": "trial.ipynb",
   "parameters": {
    "parameters": {
     "BEST_MODEL_PATH": "./best_model.pth",
     "NUM_LOGS_PER_EPOCH": 10,
     "criteria_for_best": "target_loss",
     "dataset_seed": 1337,
     "datasets": [
      {
       "domain_prefix": "C_A_",
       "domains": [
        1,
        2,
        3,
        4,
        5
       ],
       "episode_transforms": [],
       "labels": [
        "1-10.",
        "1-11.",
        "1-15.",
        "1-16.",
        "1-17.",
        "1-18.",
        "1-19.",
        "10-4.",
        "10-7.",
        "11-1.",
        "11-14.",
        "11-17.",
        "11-20.",
        "11-7.",
        "13-20.",
        "13-8.",
        "14-10.",
        "14-11.",
        "14-14.",
        "14-7.",
        "15-1.",
        "15-20.",
        "16-1.",
        "16-16.",
        "17-10.",
        "17-11.",
        "17-2.",
        "19-1.",
        "19-16.",
        "19-19.",
        "19-20.",
        "19-3.",
        "2-10.",
        "2-11.",
        "2-17.",
        "2-18.",
        "2-20.",
        "2-3.",
        "2-4.",
        "2-5.",
        "2-6.",
        "2-7.",
        "2-8.",
        "3-13.",
        "3-18.",
        "3-3.",
        "4-1.",
        "4-10.",
        "4-11.",
        "4-19.",
        "5-5.",
        "6-15.",
        "7-10.",
        "7-14.",
        "8-18.",
        "8-20.",
        "8-3.",
        "8-8."
       ],
       "num_examples_per_domain_per_label": 100,
       "pickle_path": "/mnt/wd500GB/CSC500/csc500-main/datasets/cores.stratified_ds.2022A.pkl",
       "source_or_target_dataset": "source",
       "x_transforms": [
        "unit_mag",
        "jitter_256_10",
        "take_200"
       ]
      },
      {
       "domain_prefix": "W_A_",
       "domains": [
        1,
        2,
        3,
        4
       ],
       "episode_transforms": [],
       "labels": [
        "1-10",
        "1-12",
        "1-14",
        "1-16",
        "1-18",
        "1-19",
        "1-8",
        "10-11",
        "10-17",
        "10-4",
        "10-7",
        "11-1",
        "11-10",
        "11-19",
        "11-20",
        "11-4",
        "11-7",
        "12-19",
        "12-20",
        "12-7",
        "13-14",
        "13-18",
        "13-19",
        "13-20",
        "13-3",
        "13-7",
        "14-10",
        "14-11",
        "14-12",
        "14-13",
        "14-14",
        "14-19",
        "14-20",
        "14-7",
        "14-8",
        "14-9",
        "15-1",
        "15-19",
        "15-6",
        "16-1",
        "16-16",
        "16-19",
        "16-20",
        "17-10",
        "17-11",
        "18-1",
        "18-10",
        "18-11",
        "18-12",
        "18-13",
        "18-14",
        "18-15",
        "18-16",
        "18-17",
        "18-19",
        "18-2",
        "18-20",
        "18-4",
        "18-5",
        "18-7",
        "18-8",
        "18-9",
        "19-1",
        "19-10",
        "19-11",
        "19-12",
        "19-13",
        "19-14",
        "19-15",
        "19-19",
        "19-2",
        "19-20",
        "19-3",
        "19-4",
        "19-6",
        "19-7",
        "19-8",
        "19-9",
        "2-1",
        "2-13",
        "2-15",
        "2-3",
        "2-4",
        "2-5",
        "2-6",
        "2-7",
        "2-8",
        "20-1",
        "20-12",
        "20-14",
        "20-15",
        "20-16",
        "20-18",
        "20-19",
        "20-20",
        "20-3",
        "20-4",
        "20-5",
        "20-7",
        "20-8",
        "3-1",
        "3-13",
        "3-18",
        "3-2",
        "3-8",
        "4-1",
        "4-10",
        "4-11",
        "5-1",
        "5-5",
        "6-1",
        "6-15",
        "6-6",
        "7-10",
        "7-11",
        "7-12",
        "7-13",
        "7-14",
        "7-7",
        "7-8",
        "7-9",
        "8-1",
        "8-13",
        "8-14",
        "8-18",
        "8-20",
        "8-3",
        "8-8",
        "9-1",
        "9-7"
       ],
       "num_examples_per_domain_per_label": 100,
       "pickle_path": "/mnt/wd500GB/CSC500/csc500-main/datasets/wisig.node3-19.stratified_ds.2022A.pkl",
       "source_or_target_dataset": "source",
       "x_transforms": [
        "unit_mag",
        "jitter_256_10",
        "take_200"
       ]
      },
      {
       "domain_prefix": "ORACLE.run1_",
       "domains": [
        32,
        38,
        8,
        44,
        14,
        50,
        20,
        26
       ],
       "episode_transforms": [],
       "labels": [
        "3123D52",
        "3123D65",
        "3123D79",
        "3123D80",
        "3123D54",
        "3123D70",
        "3123D7B",
        "3123D89",
        "3123D58",
        "3123D76",
        "3123D7D",
        "3123EFE",
        "3123D64",
        "3123D78",
        "3123D7E",
        "3124E4A"
       ],
       "num_examples_per_domain_per_label": 2000,
       "pickle_path": "/mnt/wd500GB/CSC500/csc500-main/datasets/oracle.Run1_framed_2000Examples_stratified_ds.2022A.pkl",
       "source_or_target_dataset": "target",
       "x_transforms": [
        "unit_mag",
        "jitter_256_10",
        "take_200",
        "resample_20Msps_to_25Msps"
       ]
      }
     ],
     "device": "cuda",
     "experiment_name": "tl_3-jitter10:cores+wisig -> oracle.run1.framed",
     "lr": 0.001,
     "n_epoch": 50,
     "n_query": 2,
     "n_shot": 3,
     "n_way": 16,
     "patience": 3,
     "seed": 1337,
     "test_k_factor": 2,
     "torch_default_dtype": "torch.float32",
     "train_k_factor": 3,
     "val_k_factor": 2,
     "x_net": [
      {
       "class": "nnReshape",
       "kargs": {
        "shape": [
         -1,
         1,
         2,
         256
        ]
       }
      },
      {
       "class": "Conv2d",
       "kargs": {
        "bias": false,
        "in_channels": 1,
        "kernel_size": [
         1,
         7
        ],
        "out_channels": 256,
        "padding": [
         0,
         3
        ]
       }
      },
      {
       "class": "ReLU",
       "kargs": {
        "inplace": true
       }
      },
      {
       "class": "BatchNorm2d",
       "kargs": {
        "num_features": 256
       }
      },
      {
       "class": "Conv2d",
       "kargs": {
        "bias": true,
        "in_channels": 256,
        "kernel_size": [
         2,
         7
        ],
        "out_channels": 80,
        "padding": [
         0,
         3
        ]
       }
      },
      {
       "class": "ReLU",
       "kargs": {
        "inplace": true
       }
      },
      {
       "class": "BatchNorm2d",
       "kargs": {
        "num_features": 80
       }
      },
      {
       "class": "Flatten",
       "kargs": {}
      },
      {
       "class": "Linear",
       "kargs": {
        "in_features": 20480,
        "out_features": 256
       }
      },
      {
       "class": "ReLU",
       "kargs": {
        "inplace": true
       }
      },
      {
       "class": "BatchNorm1d",
       "kargs": {
        "num_features": 256
       }
      },
      {
       "class": "Linear",
       "kargs": {
        "in_features": 256,
        "out_features": 256
       }
      }
     ]
    }
   },
   "start_time": "2022-03-18T07:38:43.069935",
   "version": "2.3.4"
  }
 },
 "nbformat": 4,
 "nbformat_minor": 5
}