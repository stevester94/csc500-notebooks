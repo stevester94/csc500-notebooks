{
 "cells": [
  {
   "cell_type": "markdown",
   "id": "9fea5f46",
   "metadata": {
    "papermill": {
     "duration": 0.013149,
     "end_time": "2022-03-18T07:46:05.812416",
     "exception": false,
     "start_time": "2022-03-18T07:46:05.799267",
     "status": "completed"
    },
    "tags": []
   },
   "source": [
    "# Transfer Learning Template"
   ]
  },
  {
   "cell_type": "code",
   "execution_count": 1,
   "id": "0902182a",
   "metadata": {
    "execution": {
     "iopub.execute_input": "2022-03-18T07:46:05.851489Z",
     "iopub.status.busy": "2022-03-18T07:46:05.845153Z",
     "iopub.status.idle": "2022-03-18T07:46:06.782506Z",
     "shell.execute_reply": "2022-03-18T07:46:06.782193Z"
    },
    "papermill": {
     "duration": 0.957317,
     "end_time": "2022-03-18T07:46:06.782574",
     "exception": false,
     "start_time": "2022-03-18T07:46:05.825257",
     "status": "completed"
    },
    "tags": []
   },
   "outputs": [],
   "source": [
    "%load_ext autoreload\n",
    "%autoreload 2\n",
    "%matplotlib inline\n",
    "\n",
    "    \n",
    "import os, json, sys, time, random\n",
    "import numpy as np\n",
    "import torch\n",
    "from torch.optim import Adam\n",
    "from  easydict import EasyDict\n",
    "import matplotlib.pyplot as plt\n",
    "\n",
    "from steves_models.steves_ptn import Steves_Prototypical_Network\n",
    "\n",
    "from steves_utils.lazy_iterable_wrapper import Lazy_Iterable_Wrapper\n",
    "from steves_utils.iterable_aggregator import Iterable_Aggregator\n",
    "from steves_utils.ptn_train_eval_test_jig import  PTN_Train_Eval_Test_Jig\n",
    "from steves_utils.torch_sequential_builder import build_sequential\n",
    "from steves_utils.torch_utils import get_dataset_metrics, ptn_confusion_by_domain_over_dataloader\n",
    "from steves_utils.utils_v2 import (per_domain_accuracy_from_confusion, get_datasets_base_path)\n",
    "from steves_utils.PTN.utils import independent_accuracy_assesment\n",
    "\n",
    "from torch.utils.data import DataLoader\n",
    "\n",
    "from steves_utils.stratified_dataset.episodic_accessor import Episodic_Accessor_Factory\n",
    "\n",
    "from steves_utils.ptn_do_report import (\n",
    "    get_loss_curve,\n",
    "    get_results_table,\n",
    "    get_parameters_table,\n",
    "    get_domain_accuracies,\n",
    ")\n",
    "\n",
    "from steves_utils.transforms import get_chained_transform"
   ]
  },
  {
   "cell_type": "markdown",
   "id": "41c840b4",
   "metadata": {
    "papermill": {
     "duration": 0.012844,
     "end_time": "2022-03-18T07:46:06.808931",
     "exception": false,
     "start_time": "2022-03-18T07:46:06.796087",
     "status": "completed"
    },
    "tags": []
   },
   "source": [
    "# Allowed Parameters\n",
    "These are allowed parameters, not defaults\n",
    "Each of these values need to be present in the injected parameters (the notebook will raise an exception if they are not present)\n",
    "\n",
    "Papermill uses the cell tag \"parameters\" to inject the real parameters below this cell.\n",
    "Enable tags to see what I mean"
   ]
  },
  {
   "cell_type": "code",
   "execution_count": 2,
   "id": "fd44eb83",
   "metadata": {
    "execution": {
     "iopub.execute_input": "2022-03-18T07:46:06.837331Z",
     "iopub.status.busy": "2022-03-18T07:46:06.837058Z",
     "iopub.status.idle": "2022-03-18T07:46:06.852603Z",
     "shell.execute_reply": "2022-03-18T07:46:06.852103Z"
    },
    "papermill": {
     "duration": 0.030679,
     "end_time": "2022-03-18T07:46:06.852706",
     "exception": false,
     "start_time": "2022-03-18T07:46:06.822027",
     "status": "completed"
    },
    "tags": []
   },
   "outputs": [],
   "source": [
    "required_parameters = {\n",
    "    \"experiment_name\",\n",
    "    \"lr\",\n",
    "    \"device\",\n",
    "    \"seed\",\n",
    "    \"dataset_seed\",\n",
    "    \"n_shot\",\n",
    "    \"n_query\",\n",
    "    \"n_way\",\n",
    "    \"train_k_factor\",\n",
    "    \"val_k_factor\",\n",
    "    \"test_k_factor\",\n",
    "    \"n_epoch\",\n",
    "    \"patience\",\n",
    "    \"criteria_for_best\",\n",
    "    \"x_net\",\n",
    "    \"datasets\",\n",
    "    \"torch_default_dtype\",\n",
    "    \"NUM_LOGS_PER_EPOCH\",\n",
    "    \"BEST_MODEL_PATH\",\n",
    "    \"x_shape\",\n",
    "}"
   ]
  },
  {
   "cell_type": "code",
   "execution_count": 3,
   "id": "fa3f0049",
   "metadata": {
    "execution": {
     "iopub.execute_input": "2022-03-18T07:46:06.893202Z",
     "iopub.status.busy": "2022-03-18T07:46:06.891128Z",
     "iopub.status.idle": "2022-03-18T07:46:06.907890Z",
     "shell.execute_reply": "2022-03-18T07:46:06.907602Z"
    },
    "papermill": {
     "duration": 0.03683,
     "end_time": "2022-03-18T07:46:06.907954",
     "exception": false,
     "start_time": "2022-03-18T07:46:06.871124",
     "status": "completed"
    },
    "tags": [
     "parameters"
    ]
   },
   "outputs": [],
   "source": [
    "from steves_utils.CORES.utils import (\n",
    "    ALL_NODES,\n",
    "    ALL_NODES_MINIMUM_1000_EXAMPLES,\n",
    "    ALL_DAYS\n",
    ")\n",
    "\n",
    "from steves_utils.ORACLE.utils_v2 import (\n",
    "    ALL_DISTANCES_FEET_NARROWED,\n",
    "    ALL_RUNS,\n",
    "    ALL_SERIAL_NUMBERS,\n",
    ")\n",
    "\n",
    "standalone_parameters = {}\n",
    "standalone_parameters[\"experiment_name\"] = \"STANDALONE PTN\"\n",
    "standalone_parameters[\"lr\"] = 0.001\n",
    "standalone_parameters[\"device\"] = \"cuda\"\n",
    "\n",
    "standalone_parameters[\"seed\"] = 1337\n",
    "standalone_parameters[\"dataset_seed\"] = 1337\n",
    "\n",
    "standalone_parameters[\"n_way\"] = 8\n",
    "standalone_parameters[\"n_shot\"] = 3\n",
    "standalone_parameters[\"n_query\"]  = 2\n",
    "standalone_parameters[\"train_k_factor\"] = 1\n",
    "standalone_parameters[\"val_k_factor\"] = 2\n",
    "standalone_parameters[\"test_k_factor\"] = 2\n",
    "\n",
    "\n",
    "standalone_parameters[\"n_epoch\"] = 50\n",
    "\n",
    "standalone_parameters[\"patience\"] = 10\n",
    "standalone_parameters[\"criteria_for_best\"] = \"source_loss\"\n",
    "\n",
    "standalone_parameters[\"datasets\"] = [\n",
    "    {\n",
    "        \"labels\": ALL_SERIAL_NUMBERS,\n",
    "        \"domains\": ALL_DISTANCES_FEET_NARROWED,\n",
    "        \"num_examples_per_domain_per_label\": 100,\n",
    "        \"pickle_path\": os.path.join(get_datasets_base_path(), \"oracle.Run1_framed_2000Examples_stratified_ds.2022A.pkl\"),\n",
    "        \"source_or_target_dataset\": \"source\",\n",
    "        \"x_transforms\": [\"unit_mag\", \"minus_two\"],\n",
    "        \"episode_transforms\": [],\n",
    "        \"domain_prefix\": \"ORACLE_\"\n",
    "    },\n",
    "    {\n",
    "        \"labels\": ALL_NODES,\n",
    "        \"domains\": ALL_DAYS,\n",
    "        \"num_examples_per_domain_per_label\": 100,\n",
    "        \"pickle_path\": os.path.join(get_datasets_base_path(), \"cores.stratified_ds.2022A.pkl\"),\n",
    "        \"source_or_target_dataset\": \"target\",\n",
    "        \"x_transforms\": [\"unit_power\", \"times_zero\"],\n",
    "        \"episode_transforms\": [],\n",
    "        \"domain_prefix\": \"CORES_\"\n",
    "    }   \n",
    "]\n",
    "\n",
    "standalone_parameters[\"torch_default_dtype\"] = \"torch.float32\" \n",
    "\n",
    "\n",
    "\n",
    "standalone_parameters[\"x_net\"] =     [\n",
    "    {\"class\": \"nnReshape\", \"kargs\": {\"shape\":[-1, 1, 2, 256]}},\n",
    "    {\"class\": \"Conv2d\", \"kargs\": { \"in_channels\":1, \"out_channels\":256, \"kernel_size\":(1,7), \"bias\":False, \"padding\":(0,3), },},\n",
    "    {\"class\": \"ReLU\", \"kargs\": {\"inplace\": True}},\n",
    "    {\"class\": \"BatchNorm2d\", \"kargs\": {\"num_features\":256}},\n",
    "\n",
    "    {\"class\": \"Conv2d\", \"kargs\": { \"in_channels\":256, \"out_channels\":80, \"kernel_size\":(2,7), \"bias\":True, \"padding\":(0,3), },},\n",
    "    {\"class\": \"ReLU\", \"kargs\": {\"inplace\": True}},\n",
    "    {\"class\": \"BatchNorm2d\", \"kargs\": {\"num_features\":80}},\n",
    "    {\"class\": \"Flatten\", \"kargs\": {}},\n",
    "\n",
    "    {\"class\": \"Linear\", \"kargs\": {\"in_features\": 80*256, \"out_features\": 256}}, # 80 units per IQ pair\n",
    "    {\"class\": \"ReLU\", \"kargs\": {\"inplace\": True}},\n",
    "    {\"class\": \"BatchNorm1d\", \"kargs\": {\"num_features\":256}},\n",
    "\n",
    "    {\"class\": \"Linear\", \"kargs\": {\"in_features\": 256, \"out_features\": 256}},\n",
    "]\n",
    "\n",
    "# Parameters relevant to results\n",
    "# These parameters will basically never need to change\n",
    "standalone_parameters[\"NUM_LOGS_PER_EPOCH\"] = 10\n",
    "standalone_parameters[\"BEST_MODEL_PATH\"] = \"./best_model.pth\"\n",
    "\n",
    "\n",
    "\n",
    "\n"
   ]
  },
  {
   "cell_type": "code",
   "execution_count": 4,
   "id": "e5f77f51",
   "metadata": {
    "execution": {
     "iopub.execute_input": "2022-03-18T07:46:06.946450Z",
     "iopub.status.busy": "2022-03-18T07:46:06.945926Z",
     "iopub.status.idle": "2022-03-18T07:46:06.959901Z",
     "shell.execute_reply": "2022-03-18T07:46:06.959653Z"
    },
    "papermill": {
     "duration": 0.036745,
     "end_time": "2022-03-18T07:46:06.959964",
     "exception": false,
     "start_time": "2022-03-18T07:46:06.923219",
     "status": "completed"
    },
    "tags": [
     "injected-parameters"
    ]
   },
   "outputs": [],
   "source": [
    "# Parameters\n",
    "parameters = {\n",
    "    \"experiment_name\": \"tl_3-jitter10:cores+wisig -> oracle.run1.framed\",\n",
    "    \"device\": \"cuda\",\n",
    "    \"lr\": 0.001,\n",
    "    \"seed\": 1337,\n",
    "    \"dataset_seed\": 1337,\n",
    "    \"n_shot\": 3,\n",
    "    \"n_query\": 2,\n",
    "    \"train_k_factor\": 3,\n",
    "    \"val_k_factor\": 2,\n",
    "    \"test_k_factor\": 2,\n",
    "    \"torch_default_dtype\": \"torch.float32\",\n",
    "    \"n_epoch\": 50,\n",
    "    \"patience\": 3,\n",
    "    \"criteria_for_best\": \"target_loss\",\n",
    "    \"x_net\": [\n",
    "        {\"class\": \"nnReshape\", \"kargs\": {\"shape\": [-1, 1, 2, 256]}},\n",
    "        {\n",
    "            \"class\": \"Conv2d\",\n",
    "            \"kargs\": {\n",
    "                \"in_channels\": 1,\n",
    "                \"out_channels\": 256,\n",
    "                \"kernel_size\": [1, 7],\n",
    "                \"bias\": False,\n",
    "                \"padding\": [0, 3],\n",
    "            },\n",
    "        },\n",
    "        {\"class\": \"ReLU\", \"kargs\": {\"inplace\": True}},\n",
    "        {\"class\": \"BatchNorm2d\", \"kargs\": {\"num_features\": 256}},\n",
    "        {\n",
    "            \"class\": \"Conv2d\",\n",
    "            \"kargs\": {\n",
    "                \"in_channels\": 256,\n",
    "                \"out_channels\": 80,\n",
    "                \"kernel_size\": [2, 7],\n",
    "                \"bias\": True,\n",
    "                \"padding\": [0, 3],\n",
    "            },\n",
    "        },\n",
    "        {\"class\": \"ReLU\", \"kargs\": {\"inplace\": True}},\n",
    "        {\"class\": \"BatchNorm2d\", \"kargs\": {\"num_features\": 80}},\n",
    "        {\"class\": \"Flatten\", \"kargs\": {}},\n",
    "        {\"class\": \"Linear\", \"kargs\": {\"in_features\": 20480, \"out_features\": 256}},\n",
    "        {\"class\": \"ReLU\", \"kargs\": {\"inplace\": True}},\n",
    "        {\"class\": \"BatchNorm1d\", \"kargs\": {\"num_features\": 256}},\n",
    "        {\"class\": \"Linear\", \"kargs\": {\"in_features\": 256, \"out_features\": 256}},\n",
    "    ],\n",
    "    \"NUM_LOGS_PER_EPOCH\": 10,\n",
    "    \"BEST_MODEL_PATH\": \"./best_model.pth\",\n",
    "    \"n_way\": 16,\n",
    "    \"datasets\": [\n",
    "        {\n",
    "            \"labels\": [\n",
    "                \"1-10.\",\n",
    "                \"1-11.\",\n",
    "                \"1-15.\",\n",
    "                \"1-16.\",\n",
    "                \"1-17.\",\n",
    "                \"1-18.\",\n",
    "                \"1-19.\",\n",
    "                \"10-4.\",\n",
    "                \"10-7.\",\n",
    "                \"11-1.\",\n",
    "                \"11-14.\",\n",
    "                \"11-17.\",\n",
    "                \"11-20.\",\n",
    "                \"11-7.\",\n",
    "                \"13-20.\",\n",
    "                \"13-8.\",\n",
    "                \"14-10.\",\n",
    "                \"14-11.\",\n",
    "                \"14-14.\",\n",
    "                \"14-7.\",\n",
    "                \"15-1.\",\n",
    "                \"15-20.\",\n",
    "                \"16-1.\",\n",
    "                \"16-16.\",\n",
    "                \"17-10.\",\n",
    "                \"17-11.\",\n",
    "                \"17-2.\",\n",
    "                \"19-1.\",\n",
    "                \"19-16.\",\n",
    "                \"19-19.\",\n",
    "                \"19-20.\",\n",
    "                \"19-3.\",\n",
    "                \"2-10.\",\n",
    "                \"2-11.\",\n",
    "                \"2-17.\",\n",
    "                \"2-18.\",\n",
    "                \"2-20.\",\n",
    "                \"2-3.\",\n",
    "                \"2-4.\",\n",
    "                \"2-5.\",\n",
    "                \"2-6.\",\n",
    "                \"2-7.\",\n",
    "                \"2-8.\",\n",
    "                \"3-13.\",\n",
    "                \"3-18.\",\n",
    "                \"3-3.\",\n",
    "                \"4-1.\",\n",
    "                \"4-10.\",\n",
    "                \"4-11.\",\n",
    "                \"4-19.\",\n",
    "                \"5-5.\",\n",
    "                \"6-15.\",\n",
    "                \"7-10.\",\n",
    "                \"7-14.\",\n",
    "                \"8-18.\",\n",
    "                \"8-20.\",\n",
    "                \"8-3.\",\n",
    "                \"8-8.\",\n",
    "            ],\n",
    "            \"domains\": [1, 2, 3, 4, 5],\n",
    "            \"num_examples_per_domain_per_label\": 100,\n",
    "            \"pickle_path\": \"/mnt/wd500GB/CSC500/csc500-main/datasets/cores.stratified_ds.2022A.pkl\",\n",
    "            \"source_or_target_dataset\": \"source\",\n",
    "            \"x_transforms\": [\"jitter_256_10\", \"take_200\"],\n",
    "            \"episode_transforms\": [],\n",
    "            \"domain_prefix\": \"C_A_\",\n",
    "        },\n",
    "        {\n",
    "            \"labels\": [\n",
    "                \"1-10\",\n",
    "                \"1-12\",\n",
    "                \"1-14\",\n",
    "                \"1-16\",\n",
    "                \"1-18\",\n",
    "                \"1-19\",\n",
    "                \"1-8\",\n",
    "                \"10-11\",\n",
    "                \"10-17\",\n",
    "                \"10-4\",\n",
    "                \"10-7\",\n",
    "                \"11-1\",\n",
    "                \"11-10\",\n",
    "                \"11-19\",\n",
    "                \"11-20\",\n",
    "                \"11-4\",\n",
    "                \"11-7\",\n",
    "                \"12-19\",\n",
    "                \"12-20\",\n",
    "                \"12-7\",\n",
    "                \"13-14\",\n",
    "                \"13-18\",\n",
    "                \"13-19\",\n",
    "                \"13-20\",\n",
    "                \"13-3\",\n",
    "                \"13-7\",\n",
    "                \"14-10\",\n",
    "                \"14-11\",\n",
    "                \"14-12\",\n",
    "                \"14-13\",\n",
    "                \"14-14\",\n",
    "                \"14-19\",\n",
    "                \"14-20\",\n",
    "                \"14-7\",\n",
    "                \"14-8\",\n",
    "                \"14-9\",\n",
    "                \"15-1\",\n",
    "                \"15-19\",\n",
    "                \"15-6\",\n",
    "                \"16-1\",\n",
    "                \"16-16\",\n",
    "                \"16-19\",\n",
    "                \"16-20\",\n",
    "                \"17-10\",\n",
    "                \"17-11\",\n",
    "                \"18-1\",\n",
    "                \"18-10\",\n",
    "                \"18-11\",\n",
    "                \"18-12\",\n",
    "                \"18-13\",\n",
    "                \"18-14\",\n",
    "                \"18-15\",\n",
    "                \"18-16\",\n",
    "                \"18-17\",\n",
    "                \"18-19\",\n",
    "                \"18-2\",\n",
    "                \"18-20\",\n",
    "                \"18-4\",\n",
    "                \"18-5\",\n",
    "                \"18-7\",\n",
    "                \"18-8\",\n",
    "                \"18-9\",\n",
    "                \"19-1\",\n",
    "                \"19-10\",\n",
    "                \"19-11\",\n",
    "                \"19-12\",\n",
    "                \"19-13\",\n",
    "                \"19-14\",\n",
    "                \"19-15\",\n",
    "                \"19-19\",\n",
    "                \"19-2\",\n",
    "                \"19-20\",\n",
    "                \"19-3\",\n",
    "                \"19-4\",\n",
    "                \"19-6\",\n",
    "                \"19-7\",\n",
    "                \"19-8\",\n",
    "                \"19-9\",\n",
    "                \"2-1\",\n",
    "                \"2-13\",\n",
    "                \"2-15\",\n",
    "                \"2-3\",\n",
    "                \"2-4\",\n",
    "                \"2-5\",\n",
    "                \"2-6\",\n",
    "                \"2-7\",\n",
    "                \"2-8\",\n",
    "                \"20-1\",\n",
    "                \"20-12\",\n",
    "                \"20-14\",\n",
    "                \"20-15\",\n",
    "                \"20-16\",\n",
    "                \"20-18\",\n",
    "                \"20-19\",\n",
    "                \"20-20\",\n",
    "                \"20-3\",\n",
    "                \"20-4\",\n",
    "                \"20-5\",\n",
    "                \"20-7\",\n",
    "                \"20-8\",\n",
    "                \"3-1\",\n",
    "                \"3-13\",\n",
    "                \"3-18\",\n",
    "                \"3-2\",\n",
    "                \"3-8\",\n",
    "                \"4-1\",\n",
    "                \"4-10\",\n",
    "                \"4-11\",\n",
    "                \"5-1\",\n",
    "                \"5-5\",\n",
    "                \"6-1\",\n",
    "                \"6-15\",\n",
    "                \"6-6\",\n",
    "                \"7-10\",\n",
    "                \"7-11\",\n",
    "                \"7-12\",\n",
    "                \"7-13\",\n",
    "                \"7-14\",\n",
    "                \"7-7\",\n",
    "                \"7-8\",\n",
    "                \"7-9\",\n",
    "                \"8-1\",\n",
    "                \"8-13\",\n",
    "                \"8-14\",\n",
    "                \"8-18\",\n",
    "                \"8-20\",\n",
    "                \"8-3\",\n",
    "                \"8-8\",\n",
    "                \"9-1\",\n",
    "                \"9-7\",\n",
    "            ],\n",
    "            \"domains\": [1, 2, 3, 4],\n",
    "            \"num_examples_per_domain_per_label\": 100,\n",
    "            \"pickle_path\": \"/mnt/wd500GB/CSC500/csc500-main/datasets/wisig.node3-19.stratified_ds.2022A.pkl\",\n",
    "            \"source_or_target_dataset\": \"source\",\n",
    "            \"x_transforms\": [\"jitter_256_10\", \"take_200\"],\n",
    "            \"episode_transforms\": [],\n",
    "            \"domain_prefix\": \"W_A_\",\n",
    "        },\n",
    "        {\n",
    "            \"labels\": [\n",
    "                \"3123D52\",\n",
    "                \"3123D65\",\n",
    "                \"3123D79\",\n",
    "                \"3123D80\",\n",
    "                \"3123D54\",\n",
    "                \"3123D70\",\n",
    "                \"3123D7B\",\n",
    "                \"3123D89\",\n",
    "                \"3123D58\",\n",
    "                \"3123D76\",\n",
    "                \"3123D7D\",\n",
    "                \"3123EFE\",\n",
    "                \"3123D64\",\n",
    "                \"3123D78\",\n",
    "                \"3123D7E\",\n",
    "                \"3124E4A\",\n",
    "            ],\n",
    "            \"domains\": [32, 38, 8, 44, 14, 50, 20, 26],\n",
    "            \"num_examples_per_domain_per_label\": 2000,\n",
    "            \"pickle_path\": \"/mnt/wd500GB/CSC500/csc500-main/datasets/oracle.Run1_framed_2000Examples_stratified_ds.2022A.pkl\",\n",
    "            \"source_or_target_dataset\": \"target\",\n",
    "            \"x_transforms\": [\"jitter_256_10\", \"take_200\", \"resample_20Msps_to_25Msps\"],\n",
    "            \"episode_transforms\": [],\n",
    "            \"domain_prefix\": \"ORACLE.run1_\",\n",
    "        },\n",
    "    ],\n",
    "}\n"
   ]
  },
  {
   "cell_type": "code",
   "execution_count": 5,
   "id": "8fa1cc33",
   "metadata": {
    "execution": {
     "iopub.execute_input": "2022-03-18T07:46:06.992602Z",
     "iopub.status.busy": "2022-03-18T07:46:06.992079Z",
     "iopub.status.idle": "2022-03-18T07:46:07.005060Z",
     "shell.execute_reply": "2022-03-18T07:46:07.004782Z"
    },
    "papermill": {
     "duration": 0.028814,
     "end_time": "2022-03-18T07:46:07.005123",
     "exception": false,
     "start_time": "2022-03-18T07:46:06.976309",
     "status": "completed"
    },
    "tags": []
   },
   "outputs": [],
   "source": [
    "# Set this to True if you want to run this template directly\n",
    "STANDALONE = False\n",
    "if STANDALONE:\n",
    "    print(\"parameters not injected, running with standalone_parameters\")\n",
    "    parameters = standalone_parameters\n",
    "\n",
    "if not 'parameters' in locals() and not 'parameters' in globals():\n",
    "    raise Exception(\"Parameter injection failed\")\n",
    "\n",
    "#Use an easy dict for all the parameters\n",
    "p = EasyDict(parameters)\n",
    "\n",
    "if \"x_shape\" not in p:\n",
    "    p.x_shape = [2,256] # Default to this if we dont supply x_shape\n",
    "\n",
    "\n",
    "supplied_keys = set(p.keys())\n",
    "\n",
    "if  supplied_keys != required_parameters:\n",
    "    print(\"Parameters are incorrect\")\n",
    "    if len(supplied_keys - required_parameters)>0: print(\"Shouldn't have:\", str(supplied_keys - required_parameters))\n",
    "    if len(required_parameters - supplied_keys)>0: print(\"Need to have:\", str(required_parameters - supplied_keys))\n",
    "    raise RuntimeError(\"Parameters are incorrect\")"
   ]
  },
  {
   "cell_type": "code",
   "execution_count": 6,
   "id": "3a028d58",
   "metadata": {
    "execution": {
     "iopub.execute_input": "2022-03-18T07:46:07.035486Z",
     "iopub.status.busy": "2022-03-18T07:46:07.035086Z",
     "iopub.status.idle": "2022-03-18T07:46:07.047169Z",
     "shell.execute_reply": "2022-03-18T07:46:07.046438Z"
    },
    "papermill": {
     "duration": 0.028143,
     "end_time": "2022-03-18T07:46:07.047292",
     "exception": false,
     "start_time": "2022-03-18T07:46:07.019149",
     "status": "completed"
    },
    "tags": []
   },
   "outputs": [],
   "source": [
    "###################################\n",
    "# Set the RNGs and make it all deterministic\n",
    "###################################\n",
    "np.random.seed(p.seed)\n",
    "random.seed(p.seed)\n",
    "torch.manual_seed(p.seed)\n",
    "\n",
    "torch.use_deterministic_algorithms(True) "
   ]
  },
  {
   "cell_type": "code",
   "execution_count": 7,
   "id": "b691acf6",
   "metadata": {
    "execution": {
     "iopub.execute_input": "2022-03-18T07:46:07.079764Z",
     "iopub.status.busy": "2022-03-18T07:46:07.079503Z",
     "iopub.status.idle": "2022-03-18T07:46:07.090311Z",
     "shell.execute_reply": "2022-03-18T07:46:07.089988Z"
    },
    "papermill": {
     "duration": 0.025355,
     "end_time": "2022-03-18T07:46:07.090368",
     "exception": false,
     "start_time": "2022-03-18T07:46:07.065013",
     "status": "completed"
    },
    "tags": []
   },
   "outputs": [],
   "source": [
    "###########################################\n",
    "# The stratified datasets honor this\n",
    "###########################################\n",
    "torch.set_default_dtype(eval(p.torch_default_dtype))"
   ]
  },
  {
   "cell_type": "code",
   "execution_count": 8,
   "id": "b5fba671",
   "metadata": {
    "execution": {
     "iopub.execute_input": "2022-03-18T07:46:07.127739Z",
     "iopub.status.busy": "2022-03-18T07:46:07.123191Z",
     "iopub.status.idle": "2022-03-18T07:46:07.164920Z",
     "shell.execute_reply": "2022-03-18T07:46:07.164463Z"
    },
    "papermill": {
     "duration": 0.056857,
     "end_time": "2022-03-18T07:46:07.165030",
     "exception": false,
     "start_time": "2022-03-18T07:46:07.108173",
     "status": "completed"
    },
    "tags": []
   },
   "outputs": [],
   "source": [
    "###################################\n",
    "# Build the network(s)\n",
    "# Note: It's critical to do this AFTER setting the RNG\n",
    "###################################\n",
    "x_net = build_sequential(p.x_net)"
   ]
  },
  {
   "cell_type": "code",
   "execution_count": 9,
   "id": "5d7e61cc",
   "metadata": {
    "execution": {
     "iopub.execute_input": "2022-03-18T07:46:07.206198Z",
     "iopub.status.busy": "2022-03-18T07:46:07.205929Z",
     "iopub.status.idle": "2022-03-18T07:46:07.222276Z",
     "shell.execute_reply": "2022-03-18T07:46:07.221949Z"
    },
    "papermill": {
     "duration": 0.031592,
     "end_time": "2022-03-18T07:46:07.222355",
     "exception": false,
     "start_time": "2022-03-18T07:46:07.190763",
     "status": "completed"
    },
    "tags": []
   },
   "outputs": [],
   "source": [
    "start_time_secs = time.time()"
   ]
  },
  {
   "cell_type": "code",
   "execution_count": 10,
   "id": "c6b67dfd",
   "metadata": {
    "execution": {
     "iopub.execute_input": "2022-03-18T07:46:07.254690Z",
     "iopub.status.busy": "2022-03-18T07:46:07.254059Z",
     "iopub.status.idle": "2022-03-18T07:46:07.269961Z",
     "shell.execute_reply": "2022-03-18T07:46:07.270345Z"
    },
    "papermill": {
     "duration": 0.032236,
     "end_time": "2022-03-18T07:46:07.270468",
     "exception": false,
     "start_time": "2022-03-18T07:46:07.238232",
     "status": "completed"
    },
    "tags": []
   },
   "outputs": [],
   "source": [
    "p.domains_source = []\n",
    "p.domains_target = []\n",
    "\n",
    "\n",
    "train_original_source = []\n",
    "val_original_source   = []\n",
    "test_original_source  = []\n",
    "\n",
    "train_original_target = []\n",
    "val_original_target   = []\n",
    "test_original_target  = []"
   ]
  },
  {
   "cell_type": "code",
   "execution_count": 11,
   "id": "e3d9c3d3",
   "metadata": {
    "execution": {
     "iopub.execute_input": "2022-03-18T07:46:07.303760Z",
     "iopub.status.busy": "2022-03-18T07:46:07.303489Z",
     "iopub.status.idle": "2022-03-18T07:46:07.318765Z",
     "shell.execute_reply": "2022-03-18T07:46:07.318356Z"
    },
    "papermill": {
     "duration": 0.030637,
     "end_time": "2022-03-18T07:46:07.318866",
     "exception": false,
     "start_time": "2022-03-18T07:46:07.288229",
     "status": "completed"
    },
    "tags": []
   },
   "outputs": [],
   "source": [
    "# global_x_transform_func = lambda x: normalize(x.to(torch.get_default_dtype()), \"unit_power\") # unit_power, unit_mag\n",
    "# global_x_transform_func = lambda x: normalize(x, \"unit_power\") # unit_power, unit_mag"
   ]
  },
  {
   "cell_type": "code",
   "execution_count": 12,
   "id": "acb78fd2",
   "metadata": {
    "execution": {
     "iopub.execute_input": "2022-03-18T07:46:07.354670Z",
     "iopub.status.busy": "2022-03-18T07:46:07.354409Z",
     "iopub.status.idle": "2022-03-18T07:46:07.366508Z",
     "shell.execute_reply": "2022-03-18T07:46:07.366078Z"
    },
    "papermill": {
     "duration": 0.029714,
     "end_time": "2022-03-18T07:46:07.366609",
     "exception": false,
     "start_time": "2022-03-18T07:46:07.336895",
     "status": "completed"
    },
    "tags": []
   },
   "outputs": [],
   "source": [
    "def add_dataset(\n",
    "    labels,\n",
    "    domains,\n",
    "    pickle_path,\n",
    "    x_transforms,\n",
    "    episode_transforms,\n",
    "    domain_prefix,\n",
    "    num_examples_per_domain_per_label,\n",
    "    source_or_target_dataset:str,\n",
    "    iterator_seed=p.seed,\n",
    "    dataset_seed=p.dataset_seed,\n",
    "    n_shot=p.n_shot,\n",
    "    n_way=p.n_way,\n",
    "    n_query=p.n_query,\n",
    "    train_val_test_k_factors=(p.train_k_factor,p.val_k_factor,p.test_k_factor),\n",
    "):\n",
    "   \n",
    "    if x_transforms == []: x_transform = None\n",
    "    else: x_transform = get_chained_transform(x_transforms)\n",
    "    \n",
    "    if episode_transforms == []: episode_transform = None\n",
    "    else: raise Exception(\"episode_transforms not implemented\")\n",
    "    \n",
    "    episode_transform = lambda tup, _prefix=domain_prefix: (_prefix + str(tup[0]), tup[1])\n",
    "\n",
    "\n",
    "    eaf = Episodic_Accessor_Factory(\n",
    "        labels=labels,\n",
    "        domains=domains,\n",
    "        num_examples_per_domain_per_label=num_examples_per_domain_per_label,\n",
    "        iterator_seed=iterator_seed,\n",
    "        dataset_seed=dataset_seed,\n",
    "        n_shot=n_shot,\n",
    "        n_way=n_way,\n",
    "        n_query=n_query,\n",
    "        train_val_test_k_factors=train_val_test_k_factors,\n",
    "        pickle_path=pickle_path,\n",
    "        x_transform_func=x_transform,\n",
    "    )\n",
    "\n",
    "    train, val, test = eaf.get_train(), eaf.get_val(), eaf.get_test()\n",
    "    train = Lazy_Iterable_Wrapper(train, episode_transform)\n",
    "    val = Lazy_Iterable_Wrapper(val, episode_transform)\n",
    "    test = Lazy_Iterable_Wrapper(test, episode_transform)\n",
    "\n",
    "    if source_or_target_dataset==\"source\":\n",
    "        train_original_source.append(train)\n",
    "        val_original_source.append(val)\n",
    "        test_original_source.append(test)\n",
    "\n",
    "        p.domains_source.extend(\n",
    "            [domain_prefix + str(u) for u in domains]\n",
    "        )\n",
    "    elif source_or_target_dataset==\"target\":\n",
    "        train_original_target.append(train)\n",
    "        val_original_target.append(val)\n",
    "        test_original_target.append(test)\n",
    "        p.domains_target.extend(\n",
    "            [domain_prefix + str(u) for u in domains]\n",
    "        )\n",
    "    else:\n",
    "        raise Exception(f\"invalid source_or_target_dataset: {source_or_target_dataset}\")\n",
    "    "
   ]
  },
  {
   "cell_type": "code",
   "execution_count": 13,
   "id": "fe266617",
   "metadata": {
    "execution": {
     "iopub.execute_input": "2022-03-18T07:46:07.400753Z",
     "iopub.status.busy": "2022-03-18T07:46:07.400256Z",
     "iopub.status.idle": "2022-03-18T07:46:42.039592Z",
     "shell.execute_reply": "2022-03-18T07:46:42.039054Z"
    },
    "papermill": {
     "duration": 34.654913,
     "end_time": "2022-03-18T07:46:42.039701",
     "exception": false,
     "start_time": "2022-03-18T07:46:07.384788",
     "status": "completed"
    },
    "tags": []
   },
   "outputs": [],
   "source": [
    "for ds in p.datasets:\n",
    "    add_dataset(**ds)"
   ]
  },
  {
   "cell_type": "code",
   "execution_count": 14,
   "id": "b90d65ac",
   "metadata": {
    "execution": {
     "iopub.execute_input": "2022-03-18T07:46:42.073972Z",
     "iopub.status.busy": "2022-03-18T07:46:42.073678Z",
     "iopub.status.idle": "2022-03-18T07:46:42.089946Z",
     "shell.execute_reply": "2022-03-18T07:46:42.089541Z"
    },
    "papermill": {
     "duration": 0.032391,
     "end_time": "2022-03-18T07:46:42.090049",
     "exception": false,
     "start_time": "2022-03-18T07:46:42.057658",
     "status": "completed"
    },
    "tags": []
   },
   "outputs": [],
   "source": [
    "# from steves_utils.CORES.utils import (\n",
    "#     ALL_NODES,\n",
    "#     ALL_NODES_MINIMUM_1000_EXAMPLES,\n",
    "#     ALL_DAYS\n",
    "# )\n",
    "\n",
    "# add_dataset(\n",
    "#     labels=ALL_NODES,\n",
    "#     domains = ALL_DAYS,\n",
    "#     num_examples_per_domain_per_label=100,\n",
    "#     pickle_path=os.path.join(get_datasets_base_path(), \"cores.stratified_ds.2022A.pkl\"),\n",
    "#     source_or_target_dataset=\"target\",\n",
    "#     x_transform_func=global_x_transform_func,\n",
    "#     domain_modifier=lambda u: f\"cores_{u}\"\n",
    "# )"
   ]
  },
  {
   "cell_type": "code",
   "execution_count": 15,
   "id": "76db484d",
   "metadata": {
    "execution": {
     "iopub.execute_input": "2022-03-18T07:46:42.124139Z",
     "iopub.status.busy": "2022-03-18T07:46:42.123868Z",
     "iopub.status.idle": "2022-03-18T07:46:42.135063Z",
     "shell.execute_reply": "2022-03-18T07:46:42.134742Z"
    },
    "papermill": {
     "duration": 0.026549,
     "end_time": "2022-03-18T07:46:42.135140",
     "exception": false,
     "start_time": "2022-03-18T07:46:42.108591",
     "status": "completed"
    },
    "tags": []
   },
   "outputs": [],
   "source": [
    "# from steves_utils.ORACLE.utils_v2 import (\n",
    "#     ALL_DISTANCES_FEET,\n",
    "#     ALL_RUNS,\n",
    "#     ALL_SERIAL_NUMBERS,\n",
    "# )\n",
    "\n",
    "\n",
    "# add_dataset(\n",
    "#     labels=ALL_SERIAL_NUMBERS,\n",
    "#     domains = list(set(ALL_DISTANCES_FEET) - {2,62}),\n",
    "#     num_examples_per_domain_per_label=100,\n",
    "#     pickle_path=os.path.join(get_datasets_base_path(), \"oracle.Run2_framed_2000Examples_stratified_ds.2022A.pkl\"),\n",
    "#     source_or_target_dataset=\"source\",\n",
    "#     x_transform_func=global_x_transform_func,\n",
    "#     domain_modifier=lambda u: f\"oracle1_{u}\"\n",
    "# )\n"
   ]
  },
  {
   "cell_type": "code",
   "execution_count": 16,
   "id": "97dea9d2",
   "metadata": {
    "execution": {
     "iopub.execute_input": "2022-03-18T07:46:42.181266Z",
     "iopub.status.busy": "2022-03-18T07:46:42.180782Z",
     "iopub.status.idle": "2022-03-18T07:46:42.186832Z",
     "shell.execute_reply": "2022-03-18T07:46:42.187203Z"
    },
    "papermill": {
     "duration": 0.032006,
     "end_time": "2022-03-18T07:46:42.187347",
     "exception": false,
     "start_time": "2022-03-18T07:46:42.155341",
     "status": "completed"
    },
    "tags": []
   },
   "outputs": [],
   "source": [
    "# from steves_utils.ORACLE.utils_v2 import (\n",
    "#     ALL_DISTANCES_FEET,\n",
    "#     ALL_RUNS,\n",
    "#     ALL_SERIAL_NUMBERS,\n",
    "# )\n",
    "\n",
    "\n",
    "# add_dataset(\n",
    "#     labels=ALL_SERIAL_NUMBERS,\n",
    "#     domains = list(set(ALL_DISTANCES_FEET) - {2,62,56}),\n",
    "#     num_examples_per_domain_per_label=100,\n",
    "#     pickle_path=os.path.join(get_datasets_base_path(), \"oracle.Run2_framed_2000Examples_stratified_ds.2022A.pkl\"),\n",
    "#     source_or_target_dataset=\"source\",\n",
    "#     x_transform_func=global_x_transform_func,\n",
    "#     domain_modifier=lambda u: f\"oracle2_{u}\"\n",
    "# )"
   ]
  },
  {
   "cell_type": "code",
   "execution_count": 17,
   "id": "6f289866",
   "metadata": {
    "execution": {
     "iopub.execute_input": "2022-03-18T07:46:42.224392Z",
     "iopub.status.busy": "2022-03-18T07:46:42.221756Z",
     "iopub.status.idle": "2022-03-18T07:46:42.237860Z",
     "shell.execute_reply": "2022-03-18T07:46:42.237443Z"
    },
    "papermill": {
     "duration": 0.032006,
     "end_time": "2022-03-18T07:46:42.237959",
     "exception": false,
     "start_time": "2022-03-18T07:46:42.205953",
     "status": "completed"
    },
    "tags": []
   },
   "outputs": [],
   "source": [
    "# add_dataset(\n",
    "#     labels=list(range(19)),\n",
    "#     domains = [0,1,2],\n",
    "#     num_examples_per_domain_per_label=100,\n",
    "#     pickle_path=os.path.join(get_datasets_base_path(), \"metehan.stratified_ds.2022A.pkl\"),\n",
    "#     source_or_target_dataset=\"target\",\n",
    "#     x_transform_func=global_x_transform_func,\n",
    "#     domain_modifier=lambda u: f\"met_{u}\"\n",
    "# )"
   ]
  },
  {
   "cell_type": "code",
   "execution_count": 18,
   "id": "86a863c3",
   "metadata": {
    "execution": {
     "iopub.execute_input": "2022-03-18T07:46:42.274607Z",
     "iopub.status.busy": "2022-03-18T07:46:42.274347Z",
     "iopub.status.idle": "2022-03-18T07:46:42.285488Z",
     "shell.execute_reply": "2022-03-18T07:46:42.285013Z"
    },
    "papermill": {
     "duration": 0.026877,
     "end_time": "2022-03-18T07:46:42.285585",
     "exception": false,
     "start_time": "2022-03-18T07:46:42.258708",
     "status": "completed"
    },
    "tags": []
   },
   "outputs": [],
   "source": [
    "# # from steves_utils.wisig.utils import (\n",
    "# #     ALL_NODES_MINIMUM_100_EXAMPLES,\n",
    "# #     ALL_NODES_MINIMUM_500_EXAMPLES,\n",
    "# #     ALL_NODES_MINIMUM_1000_EXAMPLES,\n",
    "# #     ALL_DAYS\n",
    "# # )\n",
    "\n",
    "# import steves_utils.wisig.utils as wisig\n",
    "\n",
    "\n",
    "# add_dataset(\n",
    "#     labels=wisig.ALL_NODES_MINIMUM_100_EXAMPLES,\n",
    "#     domains = wisig.ALL_DAYS,\n",
    "#     num_examples_per_domain_per_label=100,\n",
    "#     pickle_path=os.path.join(get_datasets_base_path(), \"wisig.node3-19.stratified_ds.2022A.pkl\"),\n",
    "#     source_or_target_dataset=\"target\",\n",
    "#     x_transform_func=global_x_transform_func,\n",
    "#     domain_modifier=lambda u: f\"wisig_{u}\"\n",
    "# )"
   ]
  },
  {
   "cell_type": "code",
   "execution_count": 19,
   "id": "fd5442bc",
   "metadata": {
    "execution": {
     "iopub.execute_input": "2022-03-18T07:46:42.324853Z",
     "iopub.status.busy": "2022-03-18T07:46:42.324130Z",
     "iopub.status.idle": "2022-03-18T07:46:42.338438Z",
     "shell.execute_reply": "2022-03-18T07:46:42.338831Z"
    },
    "papermill": {
     "duration": 0.034472,
     "end_time": "2022-03-18T07:46:42.338953",
     "exception": false,
     "start_time": "2022-03-18T07:46:42.304481",
     "status": "completed"
    },
    "tags": []
   },
   "outputs": [],
   "source": [
    "###################################\n",
    "# Build the dataset\n",
    "###################################\n",
    "train_original_source = Iterable_Aggregator(train_original_source, p.seed)\n",
    "val_original_source = Iterable_Aggregator(val_original_source, p.seed)\n",
    "test_original_source = Iterable_Aggregator(test_original_source, p.seed)\n",
    "\n",
    "\n",
    "train_original_target = Iterable_Aggregator(train_original_target, p.seed)\n",
    "val_original_target = Iterable_Aggregator(val_original_target, p.seed)\n",
    "test_original_target = Iterable_Aggregator(test_original_target, p.seed)\n",
    "\n",
    "# For CNN We only use X and Y. And we only train on the source.\n",
    "# Properly form the data using a transform lambda and Lazy_Iterable_Wrapper. Finally wrap them in a dataloader\n",
    "\n",
    "transform_lambda = lambda ex: ex[1] # Original is (<domain>, <episode>) so we strip down to episode only\n",
    "\n",
    "train_processed_source = Lazy_Iterable_Wrapper(train_original_source, transform_lambda)\n",
    "val_processed_source   = Lazy_Iterable_Wrapper(val_original_source, transform_lambda)\n",
    "test_processed_source  = Lazy_Iterable_Wrapper(test_original_source, transform_lambda)\n",
    "\n",
    "train_processed_target = Lazy_Iterable_Wrapper(train_original_target, transform_lambda)\n",
    "val_processed_target   = Lazy_Iterable_Wrapper(val_original_target, transform_lambda)\n",
    "test_processed_target  = Lazy_Iterable_Wrapper(test_original_target, transform_lambda)\n",
    "\n",
    "datasets = EasyDict({\n",
    "    \"source\": {\n",
    "        \"original\": {\"train\":train_original_source, \"val\":val_original_source, \"test\":test_original_source},\n",
    "        \"processed\": {\"train\":train_processed_source, \"val\":val_processed_source, \"test\":test_processed_source}\n",
    "    },\n",
    "    \"target\": {\n",
    "        \"original\": {\"train\":train_original_target, \"val\":val_original_target, \"test\":test_original_target},\n",
    "        \"processed\": {\"train\":train_processed_target, \"val\":val_processed_target, \"test\":test_processed_target}\n",
    "    },\n",
    "})"
   ]
  },
  {
   "cell_type": "code",
   "execution_count": 20,
   "id": "5b3c01fc",
   "metadata": {
    "execution": {
     "iopub.execute_input": "2022-03-18T07:46:42.375585Z",
     "iopub.status.busy": "2022-03-18T07:46:42.375318Z",
     "iopub.status.idle": "2022-03-18T07:46:47.212159Z",
     "shell.execute_reply": "2022-03-18T07:46:47.212517Z"
    },
    "papermill": {
     "duration": 4.854943,
     "end_time": "2022-03-18T07:46:47.212634",
     "exception": false,
     "start_time": "2022-03-18T07:46:42.357691",
     "status": "completed"
    },
    "tags": []
   },
   "outputs": [
    {
     "name": "stdout",
     "output_type": "stream",
     "text": [
      "{'C_A_4', 'C_A_1', 'C_A_3', 'C_A_5', 'C_A_2', 'W_A_3', 'W_A_1', 'W_A_4', 'W_A_2'}\n"
     ]
    },
    {
     "name": "stdout",
     "output_type": "stream",
     "text": [
      "{'ORACLE.run1_50', 'ORACLE.run1_44', 'ORACLE.run1_38', 'ORACLE.run1_32', 'ORACLE.run1_20', 'ORACLE.run1_8', 'ORACLE.run1_26', 'ORACLE.run1_14'}\n"
     ]
    },
    {
     "name": "stdout",
     "output_type": "stream",
     "text": [
      "tensor([[[0., 0., 0.,  ..., 0., 0., 0.],\n",
      "         [0., 0., 0.,  ..., 0., 0., 0.]],\n",
      "\n",
      "        [[0., 0., 0.,  ..., 0., 0., 0.],\n",
      "         [0., 0., 0.,  ..., 0., 0., 0.]],\n",
      "\n",
      "        [[0., 0., 0.,  ..., 0., 0., 0.],\n",
      "         [0., 0., 0.,  ..., 0., 0., 0.]],\n",
      "\n",
      "        ...,\n",
      "\n",
      "        [[0., 0., 0.,  ..., 0., 0., 0.],\n",
      "         [0., 0., 0.,  ..., 0., 0., 0.]],\n",
      "\n",
      "        [[0., 0., 0.,  ..., 0., 0., 0.],\n",
      "         [0., 0., 0.,  ..., 0., 0., 0.]],\n",
      "\n",
      "        [[0., 0., 0.,  ..., 0., 0., 0.],\n",
      "         [0., 0., 0.,  ..., 0., 0., 0.]]])\n"
     ]
    }
   ],
   "source": [
    "from steves_utils.transforms import get_average_magnitude, get_average_power\n",
    "\n",
    "print(set([u for u,_ in val_original_source]))\n",
    "print(set([u for u,_ in val_original_target]))\n",
    "\n",
    "s_x, s_y, q_x, q_y, _ = next(iter(train_processed_source))\n",
    "print(s_x)\n",
    "\n",
    "# for ds in [\n",
    "#     train_processed_source,\n",
    "#     val_processed_source,\n",
    "#     test_processed_source,\n",
    "#     train_processed_target,\n",
    "#     val_processed_target,\n",
    "#     test_processed_target\n",
    "# ]:\n",
    "#     for s_x, s_y, q_x, q_y, _ in ds:\n",
    "#         for X in (s_x, q_x):\n",
    "#             for x in X:\n",
    "#                 assert np.isclose(get_average_magnitude(x.numpy()), 1.0)\n",
    "#                 assert np.isclose(get_average_power(x.numpy()), 1.0)\n",
    "                "
   ]
  },
  {
   "cell_type": "code",
   "execution_count": 21,
   "id": "bbdacba1",
   "metadata": {
    "execution": {
     "iopub.execute_input": "2022-03-18T07:46:47.255695Z",
     "iopub.status.busy": "2022-03-18T07:46:47.255424Z",
     "iopub.status.idle": "2022-03-18T07:46:47.315993Z",
     "shell.execute_reply": "2022-03-18T07:46:47.316394Z"
    },
    "papermill": {
     "duration": 0.081075,
     "end_time": "2022-03-18T07:46:47.316512",
     "exception": false,
     "start_time": "2022-03-18T07:46:47.235437",
     "status": "completed"
    },
    "tags": []
   },
   "outputs": [
    {
     "name": "stdout",
     "output_type": "stream",
     "text": [
      "(2, 256)\n"
     ]
    }
   ],
   "source": [
    "###################################\n",
    "# Build the model\n",
    "###################################\n",
    "# easfsl only wants a tuple for the shape\n",
    "model = Steves_Prototypical_Network(x_net, device=p.device, x_shape=tuple(p.x_shape))\n",
    "optimizer = Adam(params=model.parameters(), lr=p.lr)"
   ]
  },
  {
   "cell_type": "code",
   "execution_count": 22,
   "id": "22b39ac5",
   "metadata": {
    "execution": {
     "iopub.execute_input": "2022-03-18T07:46:47.354039Z",
     "iopub.status.busy": "2022-03-18T07:46:47.353780Z",
     "iopub.status.idle": "2022-03-18T07:53:58.500316Z",
     "shell.execute_reply": "2022-03-18T07:53:58.499916Z"
    },
    "papermill": {
     "duration": 431.164541,
     "end_time": "2022-03-18T07:53:58.500421",
     "exception": false,
     "start_time": "2022-03-18T07:46:47.335880",
     "status": "completed"
    },
    "tags": []
   },
   "outputs": [
    {
     "name": "stdout",
     "output_type": "stream",
     "text": [
      "epoch: 1, [batch: 1 / 2081], examples_per_second: 127.3765, train_label_loss: 1.7561, \n"
     ]
    },
    {
     "name": "stdout",
     "output_type": "stream",
     "text": [
      "epoch: 1, [batch: 209 / 2081], examples_per_second: 3186.4321, train_label_loss: 0.4474, \n"
     ]
    },
    {
     "name": "stdout",
     "output_type": "stream",
     "text": [
      "epoch: 1, [batch: 417 / 2081], examples_per_second: 3220.7982, train_label_loss: 0.9639, \n"
     ]
    },
    {
     "name": "stdout",
     "output_type": "stream",
     "text": [
      "epoch: 1, [batch: 625 / 2081], examples_per_second: 3228.1143, train_label_loss: 0.0972, \n"
     ]
    },
    {
     "name": "stdout",
     "output_type": "stream",
     "text": [
      "epoch: 1, [batch: 833 / 2081], examples_per_second: 3248.3513, train_label_loss: 0.5573, \n"
     ]
    },
    {
     "name": "stdout",
     "output_type": "stream",
     "text": [
      "epoch: 1, [batch: 1041 / 2081], examples_per_second: 3218.0369, train_label_loss: 0.2095, \n"
     ]
    },
    {
     "name": "stdout",
     "output_type": "stream",
     "text": [
      "epoch: 1, [batch: 1249 / 2081], examples_per_second: 3242.3473, train_label_loss: 0.6152, \n"
     ]
    },
    {
     "name": "stdout",
     "output_type": "stream",
     "text": [
      "epoch: 1, [batch: 1457 / 2081], examples_per_second: 3209.4438, train_label_loss: 0.5590, \n"
     ]
    },
    {
     "name": "stdout",
     "output_type": "stream",
     "text": [
      "epoch: 1, [batch: 1665 / 2081], examples_per_second: 3206.6148, train_label_loss: 0.2710, \n"
     ]
    },
    {
     "name": "stdout",
     "output_type": "stream",
     "text": [
      "epoch: 1, [batch: 1873 / 2081], examples_per_second: 3230.1022, train_label_loss: 0.3193, \n"
     ]
    },
    {
     "name": "stdout",
     "output_type": "stream",
     "text": [
      "=============================================================\n",
      "epoch: 1, source_val_acc_label: 0.9425, target_val_acc_label: 0.4063, source_val_label_loss: 0.3030, target_val_label_loss: 2.5477, \n",
      "=============================================================\n"
     ]
    },
    {
     "name": "stdout",
     "output_type": "stream",
     "text": [
      "New best\n"
     ]
    },
    {
     "name": "stdout",
     "output_type": "stream",
     "text": [
      "epoch: 2, [batch: 1 / 2079], examples_per_second: 10.4692, train_label_loss: 0.0919, \n"
     ]
    },
    {
     "name": "stdout",
     "output_type": "stream",
     "text": [
      "epoch: 2, [batch: 208 / 2079], examples_per_second: 3189.2882, train_label_loss: 0.5523, \n"
     ]
    },
    {
     "name": "stdout",
     "output_type": "stream",
     "text": [
      "epoch: 2, [batch: 416 / 2079], examples_per_second: 3230.7125, train_label_loss: 0.0896, \n"
     ]
    },
    {
     "name": "stdout",
     "output_type": "stream",
     "text": [
      "epoch: 2, [batch: 624 / 2079], examples_per_second: 3231.9992, train_label_loss: 0.3689, \n"
     ]
    },
    {
     "name": "stdout",
     "output_type": "stream",
     "text": [
      "epoch: 2, [batch: 832 / 2079], examples_per_second: 3243.1511, train_label_loss: 0.0690, \n"
     ]
    },
    {
     "name": "stdout",
     "output_type": "stream",
     "text": [
      "epoch: 2, [batch: 1040 / 2079], examples_per_second: 3237.5434, train_label_loss: 0.5087, \n"
     ]
    },
    {
     "name": "stdout",
     "output_type": "stream",
     "text": [
      "epoch: 2, [batch: 1247 / 2079], examples_per_second: 3235.3316, train_label_loss: 0.0259, \n"
     ]
    },
    {
     "name": "stdout",
     "output_type": "stream",
     "text": [
      "epoch: 2, [batch: 1455 / 2079], examples_per_second: 3212.8949, train_label_loss: 0.3828, \n"
     ]
    },
    {
     "name": "stdout",
     "output_type": "stream",
     "text": [
      "epoch: 2, [batch: 1663 / 2079], examples_per_second: 3236.6388, train_label_loss: 0.0781, \n"
     ]
    },
    {
     "name": "stdout",
     "output_type": "stream",
     "text": [
      "epoch: 2, [batch: 1871 / 2079], examples_per_second: 3251.8655, train_label_loss: 0.0823, \n"
     ]
    },
    {
     "name": "stdout",
     "output_type": "stream",
     "text": [
      "=============================================================\n",
      "epoch: 2, source_val_acc_label: 0.9330, target_val_acc_label: 0.4722, source_val_label_loss: 0.3233, target_val_label_loss: 2.3966, \n",
      "=============================================================\n"
     ]
    },
    {
     "name": "stdout",
     "output_type": "stream",
     "text": [
      "New best\n"
     ]
    },
    {
     "name": "stdout",
     "output_type": "stream",
     "text": [
      "epoch: 3, [batch: 1 / 2082], examples_per_second: 10.4843, train_label_loss: 0.4751, \n"
     ]
    },
    {
     "name": "stdout",
     "output_type": "stream",
     "text": [
      "epoch: 3, [batch: 209 / 2082], examples_per_second: 3182.2623, train_label_loss: 0.8491, \n"
     ]
    },
    {
     "name": "stdout",
     "output_type": "stream",
     "text": [
      "epoch: 3, [batch: 417 / 2082], examples_per_second: 3236.8743, train_label_loss: 0.3398, \n"
     ]
    },
    {
     "name": "stdout",
     "output_type": "stream",
     "text": [
      "epoch: 3, [batch: 625 / 2082], examples_per_second: 3236.4737, train_label_loss: 0.3316, \n"
     ]
    },
    {
     "name": "stdout",
     "output_type": "stream",
     "text": [
      "epoch: 3, [batch: 833 / 2082], examples_per_second: 3258.3925, train_label_loss: 0.3433, \n"
     ]
    },
    {
     "name": "stdout",
     "output_type": "stream",
     "text": [
      "epoch: 3, [batch: 1041 / 2082], examples_per_second: 3235.4619, train_label_loss: 0.1020, \n"
     ]
    },
    {
     "name": "stdout",
     "output_type": "stream",
     "text": [
      "epoch: 3, [batch: 1249 / 2082], examples_per_second: 3238.9572, train_label_loss: 0.0202, \n"
     ]
    },
    {
     "name": "stdout",
     "output_type": "stream",
     "text": [
      "epoch: 3, [batch: 1457 / 2082], examples_per_second: 3222.9992, train_label_loss: 0.2476, \n"
     ]
    },
    {
     "name": "stdout",
     "output_type": "stream",
     "text": [
      "epoch: 3, [batch: 1665 / 2082], examples_per_second: 3226.7006, train_label_loss: 0.0786, \n"
     ]
    },
    {
     "name": "stdout",
     "output_type": "stream",
     "text": [
      "epoch: 3, [batch: 1873 / 2082], examples_per_second: 3230.8830, train_label_loss: 0.1889, \n"
     ]
    },
    {
     "name": "stdout",
     "output_type": "stream",
     "text": [
      "=============================================================\n",
      "epoch: 3, source_val_acc_label: 0.9523, target_val_acc_label: 0.4776, source_val_label_loss: 0.2019, target_val_label_loss: 2.0974, \n",
      "=============================================================\n"
     ]
    },
    {
     "name": "stdout",
     "output_type": "stream",
     "text": [
      "New best\n"
     ]
    },
    {
     "name": "stdout",
     "output_type": "stream",
     "text": [
      "epoch: 4, [batch: 1 / 2080], examples_per_second: 10.3931, train_label_loss: 0.3649, \n"
     ]
    },
    {
     "name": "stdout",
     "output_type": "stream",
     "text": [
      "epoch: 4, [batch: 208 / 2080], examples_per_second: 3205.4359, train_label_loss: 0.2328, \n"
     ]
    },
    {
     "name": "stdout",
     "output_type": "stream",
     "text": [
      "epoch: 4, [batch: 416 / 2080], examples_per_second: 3235.8354, train_label_loss: 0.0263, \n"
     ]
    },
    {
     "name": "stdout",
     "output_type": "stream",
     "text": [
      "epoch: 4, [batch: 624 / 2080], examples_per_second: 3231.9028, train_label_loss: 0.0340, \n"
     ]
    },
    {
     "name": "stdout",
     "output_type": "stream",
     "text": [
      "epoch: 4, [batch: 832 / 2080], examples_per_second: 3240.8720, train_label_loss: 0.1618, \n"
     ]
    },
    {
     "name": "stdout",
     "output_type": "stream",
     "text": [
      "epoch: 4, [batch: 1040 / 2080], examples_per_second: 3234.7992, train_label_loss: 0.0253, \n"
     ]
    },
    {
     "name": "stdout",
     "output_type": "stream",
     "text": [
      "epoch: 4, [batch: 1248 / 2080], examples_per_second: 3236.2358, train_label_loss: 0.0514, \n"
     ]
    },
    {
     "name": "stdout",
     "output_type": "stream",
     "text": [
      "epoch: 4, [batch: 1456 / 2080], examples_per_second: 3242.1032, train_label_loss: 0.2172, \n"
     ]
    },
    {
     "name": "stdout",
     "output_type": "stream",
     "text": [
      "epoch: 4, [batch: 1664 / 2080], examples_per_second: 3226.4957, train_label_loss: 0.1705, \n"
     ]
    },
    {
     "name": "stdout",
     "output_type": "stream",
     "text": [
      "epoch: 4, [batch: 1872 / 2080], examples_per_second: 3240.9490, train_label_loss: 0.4046, \n"
     ]
    },
    {
     "name": "stdout",
     "output_type": "stream",
     "text": [
      "=============================================================\n",
      "epoch: 4, source_val_acc_label: 0.9600, target_val_acc_label: 0.5032, source_val_label_loss: 0.1761, target_val_label_loss: 2.1114, \n",
      "=============================================================\n"
     ]
    },
    {
     "name": "stdout",
     "output_type": "stream",
     "text": [
      "epoch: 5, [batch: 1 / 2079], examples_per_second: 10.4848, train_label_loss: 0.0337, \n"
     ]
    },
    {
     "name": "stdout",
     "output_type": "stream",
     "text": [
      "epoch: 5, [batch: 208 / 2079], examples_per_second: 3185.0270, train_label_loss: 0.1745, \n"
     ]
    },
    {
     "name": "stdout",
     "output_type": "stream",
     "text": [
      "epoch: 5, [batch: 416 / 2079], examples_per_second: 3233.6227, train_label_loss: 0.2697, \n"
     ]
    },
    {
     "name": "stdout",
     "output_type": "stream",
     "text": [
      "epoch: 5, [batch: 624 / 2079], examples_per_second: 3224.5612, train_label_loss: 0.0721, \n"
     ]
    },
    {
     "name": "stdout",
     "output_type": "stream",
     "text": [
      "epoch: 5, [batch: 832 / 2079], examples_per_second: 3250.4843, train_label_loss: 0.0156, \n"
     ]
    },
    {
     "name": "stdout",
     "output_type": "stream",
     "text": [
      "epoch: 5, [batch: 1040 / 2079], examples_per_second: 3212.0935, train_label_loss: 0.4053, \n"
     ]
    },
    {
     "name": "stdout",
     "output_type": "stream",
     "text": [
      "epoch: 5, [batch: 1247 / 2079], examples_per_second: 3239.1786, train_label_loss: 0.2269, \n"
     ]
    },
    {
     "name": "stdout",
     "output_type": "stream",
     "text": [
      "epoch: 5, [batch: 1455 / 2079], examples_per_second: 3220.1069, train_label_loss: 0.3989, \n"
     ]
    },
    {
     "name": "stdout",
     "output_type": "stream",
     "text": [
      "epoch: 5, [batch: 1663 / 2079], examples_per_second: 3250.8417, train_label_loss: 0.1754, \n"
     ]
    },
    {
     "name": "stdout",
     "output_type": "stream",
     "text": [
      "epoch: 5, [batch: 1871 / 2079], examples_per_second: 3264.1582, train_label_loss: 0.4514, \n"
     ]
    },
    {
     "name": "stdout",
     "output_type": "stream",
     "text": [
      "=============================================================\n",
      "epoch: 5, source_val_acc_label: 0.9652, target_val_acc_label: 0.4937, source_val_label_loss: 0.1616, target_val_label_loss: 2.1687, \n",
      "=============================================================\n"
     ]
    },
    {
     "name": "stdout",
     "output_type": "stream",
     "text": [
      "epoch: 6, [batch: 1 / 2081], examples_per_second: 10.5388, train_label_loss: 0.3643, \n"
     ]
    },
    {
     "name": "stdout",
     "output_type": "stream",
     "text": [
      "epoch: 6, [batch: 209 / 2081], examples_per_second: 3192.5622, train_label_loss: 0.0458, \n"
     ]
    },
    {
     "name": "stdout",
     "output_type": "stream",
     "text": [
      "epoch: 6, [batch: 417 / 2081], examples_per_second: 3248.8801, train_label_loss: 0.2808, \n"
     ]
    },
    {
     "name": "stdout",
     "output_type": "stream",
     "text": [
      "epoch: 6, [batch: 625 / 2081], examples_per_second: 3237.7193, train_label_loss: 0.0159, \n"
     ]
    },
    {
     "name": "stdout",
     "output_type": "stream",
     "text": [
      "epoch: 6, [batch: 833 / 2081], examples_per_second: 3255.2909, train_label_loss: 0.0341, \n"
     ]
    },
    {
     "name": "stdout",
     "output_type": "stream",
     "text": [
      "epoch: 6, [batch: 1041 / 2081], examples_per_second: 3233.2606, train_label_loss: 0.3417, \n"
     ]
    },
    {
     "name": "stdout",
     "output_type": "stream",
     "text": [
      "epoch: 6, [batch: 1249 / 2081], examples_per_second: 3240.6851, train_label_loss: 0.2002, \n"
     ]
    },
    {
     "name": "stdout",
     "output_type": "stream",
     "text": [
      "epoch: 6, [batch: 1457 / 2081], examples_per_second: 3251.3707, train_label_loss: 0.0007, \n"
     ]
    },
    {
     "name": "stdout",
     "output_type": "stream",
     "text": [
      "epoch: 6, [batch: 1665 / 2081], examples_per_second: 3201.3637, train_label_loss: 0.1381, \n"
     ]
    },
    {
     "name": "stdout",
     "output_type": "stream",
     "text": [
      "epoch: 6, [batch: 1873 / 2081], examples_per_second: 3248.5113, train_label_loss: 0.0811, \n"
     ]
    },
    {
     "name": "stdout",
     "output_type": "stream",
     "text": [
      "=============================================================\n",
      "epoch: 6, source_val_acc_label: 0.9702, target_val_acc_label: 0.4547, source_val_label_loss: 0.1323, target_val_label_loss: 2.1809, \n",
      "=============================================================\n"
     ]
    },
    {
     "name": "stdout",
     "output_type": "stream",
     "text": [
      "epoch: 7, [batch: 1 / 2075], examples_per_second: 10.4951, train_label_loss: 0.0168, \n"
     ]
    },
    {
     "name": "stdout",
     "output_type": "stream",
     "text": [
      "epoch: 7, [batch: 208 / 2075], examples_per_second: 3178.8793, train_label_loss: 0.0022, \n"
     ]
    },
    {
     "name": "stdout",
     "output_type": "stream",
     "text": [
      "epoch: 7, [batch: 415 / 2075], examples_per_second: 3225.2817, train_label_loss: 0.0041, \n"
     ]
    },
    {
     "name": "stdout",
     "output_type": "stream",
     "text": [
      "epoch: 7, [batch: 623 / 2075], examples_per_second: 3234.9214, train_label_loss: 0.2157, \n"
     ]
    },
    {
     "name": "stdout",
     "output_type": "stream",
     "text": [
      "epoch: 7, [batch: 830 / 2075], examples_per_second: 3232.0877, train_label_loss: 0.0715, \n"
     ]
    },
    {
     "name": "stdout",
     "output_type": "stream",
     "text": [
      "epoch: 7, [batch: 1038 / 2075], examples_per_second: 3240.3711, train_label_loss: 0.0082, \n"
     ]
    },
    {
     "name": "stdout",
     "output_type": "stream",
     "text": [
      "epoch: 7, [batch: 1245 / 2075], examples_per_second: 3246.0164, train_label_loss: 0.0007, \n"
     ]
    },
    {
     "name": "stdout",
     "output_type": "stream",
     "text": [
      "epoch: 7, [batch: 1452 / 2075], examples_per_second: 3220.5447, train_label_loss: 0.2149, \n"
     ]
    },
    {
     "name": "stdout",
     "output_type": "stream",
     "text": [
      "epoch: 7, [batch: 1660 / 2075], examples_per_second: 3256.7270, train_label_loss: 0.5362, \n"
     ]
    },
    {
     "name": "stdout",
     "output_type": "stream",
     "text": [
      "epoch: 7, [batch: 1867 / 2075], examples_per_second: 3246.0045, train_label_loss: 0.1172, \n"
     ]
    },
    {
     "name": "stdout",
     "output_type": "stream",
     "text": [
      "=============================================================\n",
      "epoch: 7, source_val_acc_label: 0.9716, target_val_acc_label: 0.4380, source_val_label_loss: 0.1324, target_val_label_loss: 2.0975, \n",
      "=============================================================\n"
     ]
    },
    {
     "name": "stdout",
     "output_type": "stream",
     "text": [
      "Patience (3) exhausted\n"
     ]
    }
   ],
   "source": [
    "###################################\n",
    "# train\n",
    "###################################\n",
    "jig = PTN_Train_Eval_Test_Jig(model, p.BEST_MODEL_PATH, p.device)\n",
    "\n",
    "jig.train(\n",
    "    train_iterable=datasets.source.processed.train,\n",
    "    source_val_iterable=datasets.source.processed.val,\n",
    "    target_val_iterable=datasets.target.processed.val,\n",
    "    num_epochs=p.n_epoch,\n",
    "    num_logs_per_epoch=p.NUM_LOGS_PER_EPOCH,\n",
    "    patience=p.patience,\n",
    "    optimizer=optimizer,\n",
    "    criteria_for_best=p.criteria_for_best,\n",
    ")"
   ]
  },
  {
   "cell_type": "code",
   "execution_count": 23,
   "id": "31e8fabf",
   "metadata": {
    "execution": {
     "iopub.execute_input": "2022-03-18T07:53:58.564531Z",
     "iopub.status.busy": "2022-03-18T07:53:58.564278Z",
     "iopub.status.idle": "2022-03-18T07:53:58.582583Z",
     "shell.execute_reply": "2022-03-18T07:53:58.582135Z"
    },
    "papermill": {
     "duration": 0.049758,
     "end_time": "2022-03-18T07:53:58.582672",
     "exception": false,
     "start_time": "2022-03-18T07:53:58.532914",
     "status": "completed"
    },
    "tags": []
   },
   "outputs": [],
   "source": [
    "total_experiment_time_secs = time.time() - start_time_secs"
   ]
  },
  {
   "cell_type": "code",
   "execution_count": 24,
   "id": "87b9595b",
   "metadata": {
    "execution": {
     "iopub.execute_input": "2022-03-18T07:53:58.651735Z",
     "iopub.status.busy": "2022-03-18T07:53:58.651466Z",
     "iopub.status.idle": "2022-03-18T07:55:03.521187Z",
     "shell.execute_reply": "2022-03-18T07:55:03.520709Z"
    },
    "papermill": {
     "duration": 64.90414,
     "end_time": "2022-03-18T07:55:03.521312",
     "exception": false,
     "start_time": "2022-03-18T07:53:58.617172",
     "status": "completed"
    },
    "tags": []
   },
   "outputs": [],
   "source": [
    "###################################\n",
    "# Evaluate the model\n",
    "###################################\n",
    "source_test_label_accuracy, source_test_label_loss = jig.test(datasets.source.processed.test)\n",
    "target_test_label_accuracy, target_test_label_loss = jig.test(datasets.target.processed.test)\n",
    "\n",
    "source_val_label_accuracy, source_val_label_loss = jig.test(datasets.source.processed.val)\n",
    "target_val_label_accuracy, target_val_label_loss = jig.test(datasets.target.processed.val)\n",
    "\n",
    "history = jig.get_history()\n",
    "\n",
    "total_epochs_trained = len(history[\"epoch_indices\"])\n",
    "\n",
    "val_dl = Iterable_Aggregator((datasets.source.original.val,datasets.target.original.val))\n",
    "\n",
    "confusion = ptn_confusion_by_domain_over_dataloader(model, p.device, val_dl)\n",
    "per_domain_accuracy = per_domain_accuracy_from_confusion(confusion)\n",
    "\n",
    "# Add a key to per_domain_accuracy for if it was a source domain\n",
    "for domain, accuracy in per_domain_accuracy.items():\n",
    "    per_domain_accuracy[domain] = {\n",
    "        \"accuracy\": accuracy,\n",
    "        \"source?\": domain in p.domains_source\n",
    "    }\n",
    "\n",
    "# Do an independent accuracy assesment JUST TO BE SURE!\n",
    "# _source_test_label_accuracy = independent_accuracy_assesment(model, datasets.source.processed.test, p.device)\n",
    "# _target_test_label_accuracy = independent_accuracy_assesment(model, datasets.target.processed.test, p.device)\n",
    "# _source_val_label_accuracy = independent_accuracy_assesment(model, datasets.source.processed.val, p.device)\n",
    "# _target_val_label_accuracy = independent_accuracy_assesment(model, datasets.target.processed.val, p.device)\n",
    "\n",
    "# assert(_source_test_label_accuracy == source_test_label_accuracy)\n",
    "# assert(_target_test_label_accuracy == target_test_label_accuracy)\n",
    "# assert(_source_val_label_accuracy == source_val_label_accuracy)\n",
    "# assert(_target_val_label_accuracy == target_val_label_accuracy)\n",
    "\n",
    "experiment = {\n",
    "    \"experiment_name\": p.experiment_name,\n",
    "    \"parameters\": dict(p),\n",
    "    \"results\": {\n",
    "        \"source_test_label_accuracy\": source_test_label_accuracy,\n",
    "        \"source_test_label_loss\": source_test_label_loss,\n",
    "        \"target_test_label_accuracy\": target_test_label_accuracy,\n",
    "        \"target_test_label_loss\": target_test_label_loss,\n",
    "        \"source_val_label_accuracy\": source_val_label_accuracy,\n",
    "        \"source_val_label_loss\": source_val_label_loss,\n",
    "        \"target_val_label_accuracy\": target_val_label_accuracy,\n",
    "        \"target_val_label_loss\": target_val_label_loss,\n",
    "        \"total_epochs_trained\": total_epochs_trained,\n",
    "        \"total_experiment_time_secs\": total_experiment_time_secs,\n",
    "        \"confusion\": confusion,\n",
    "        \"per_domain_accuracy\": per_domain_accuracy,\n",
    "    },\n",
    "    \"history\": history,\n",
    "    \"dataset_metrics\": get_dataset_metrics(datasets, \"ptn\"),\n",
    "}"
   ]
  },
  {
   "cell_type": "code",
   "execution_count": 25,
   "id": "54a21829",
   "metadata": {
    "execution": {
     "iopub.execute_input": "2022-03-18T07:55:03.587154Z",
     "iopub.status.busy": "2022-03-18T07:55:03.586899Z",
     "iopub.status.idle": "2022-03-18T07:55:03.709644Z",
     "shell.execute_reply": "2022-03-18T07:55:03.710023Z"
    },
    "papermill": {
     "duration": 0.153919,
     "end_time": "2022-03-18T07:55:03.710132",
     "exception": false,
     "start_time": "2022-03-18T07:55:03.556213",
     "status": "completed"
    },
    "tags": []
   },
   "outputs": [
    {
     "data": {
      "image/png": "[encoded data removed]",
      "text/plain": [
       "<Figure size 1080x504 with 1 Axes>"
      ]
     },
     "metadata": {
      "needs_background": "light"
     },
     "output_type": "display_data"
    }
   ],
   "source": [
    "ax = get_loss_curve(experiment)\n",
    "plt.show()"
   ]
  },
  {
   "cell_type": "code",
   "execution_count": 26,
   "id": "fd8a0f60",
   "metadata": {
    "execution": {
     "iopub.execute_input": "2022-03-18T07:55:03.776162Z",
     "iopub.status.busy": "2022-03-18T07:55:03.775908Z",
     "iopub.status.idle": "2022-03-18T07:55:03.921947Z",
     "shell.execute_reply": "2022-03-18T07:55:03.922168Z"
    },
    "papermill": {
     "duration": 0.178292,
     "end_time": "2022-03-18T07:55:03.922234",
     "exception": false,
     "start_time": "2022-03-18T07:55:03.743942",
     "status": "completed"
    },
    "tags": []
   },
   "outputs": [
    {
     "data": {
      "text/plain": [
       "<AxesSubplot:title={'center':'Results'}>"
      ]
     },
     "execution_count": 26,
     "metadata": {},
     "output_type": "execute_result"
    },
    {
     "data": {
      "image/png": "[encoded data removed]",
      "text/plain": [
       "<Figure size 1080x504 with 1 Axes>"
      ]
     },
     "metadata": {
      "needs_background": "light"
     },
     "output_type": "display_data"
    }
   ],
   "source": [
    "get_results_table(experiment)"
   ]
  },
  {
   "cell_type": "code",
   "execution_count": 27,
   "id": "cf8dc689",
   "metadata": {
    "execution": {
     "iopub.execute_input": "2022-03-18T07:55:03.987731Z",
     "iopub.status.busy": "2022-03-18T07:55:03.987474Z",
     "iopub.status.idle": "2022-03-18T07:55:04.151383Z",
     "shell.execute_reply": "2022-03-18T07:55:04.150968Z"
    },
    "papermill": {
     "duration": 0.197293,
     "end_time": "2022-03-18T07:55:04.151481",
     "exception": false,
     "start_time": "2022-03-18T07:55:03.954188",
     "status": "completed"
    },
    "tags": []
   },
   "outputs": [
    {
     "data": {
      "text/plain": [
       "<AxesSubplot:title={'center':'Per Domain Validation Accuracy'}, xlabel='domain'>"
      ]
     },
     "execution_count": 27,
     "metadata": {},
     "output_type": "execute_result"
    },
    {
     "data": {
      "image/png": "[encoded data removed]",
      "text/plain": [
       "<Figure size 1080x504 with 1 Axes>"
      ]
     },
     "metadata": {
      "needs_background": "light"
     },
     "output_type": "display_data"
    }
   ],
   "source": [
    "get_domain_accuracies(experiment)"
   ]
  },
  {
   "cell_type": "code",
   "execution_count": 28,
   "id": "a74ae082",
   "metadata": {
    "execution": {
     "iopub.execute_input": "2022-03-18T07:55:04.222194Z",
     "iopub.status.busy": "2022-03-18T07:55:04.221933Z",
     "iopub.status.idle": "2022-03-18T07:55:04.238300Z",
     "shell.execute_reply": "2022-03-18T07:55:04.237888Z"
    },
    "papermill": {
     "duration": 0.051076,
     "end_time": "2022-03-18T07:55:04.238391",
     "exception": false,
     "start_time": "2022-03-18T07:55:04.187315",
     "status": "completed"
    },
    "tags": []
   },
   "outputs": [
    {
     "name": "stdout",
     "output_type": "stream",
     "text": [
      "Source Test Label Accuracy: 0.9497003424657534 Target Test Label Accuracy: 0.47994791666666664\n",
      "Source Val Label Accuracy: 0.9522688356164384 Target Val Label Accuracy: 0.47760416666666666\n"
     ]
    }
   ],
   "source": [
    "print(\"Source Test Label Accuracy:\", experiment[\"results\"][\"source_test_label_accuracy\"], \"Target Test Label Accuracy:\", experiment[\"results\"][\"target_test_label_accuracy\"])\n",
    "print(\"Source Val Label Accuracy:\", experiment[\"results\"][\"source_val_label_accuracy\"], \"Target Val Label Accuracy:\", experiment[\"results\"][\"target_val_label_accuracy\"])"
   ]
  },
  {
   "cell_type": "code",
   "execution_count": 29,
   "id": "dacca602",
   "metadata": {
    "execution": {
     "iopub.execute_input": "2022-03-18T07:55:04.309437Z",
     "iopub.status.busy": "2022-03-18T07:55:04.309186Z",
     "iopub.status.idle": "2022-03-18T07:55:04.327165Z",
     "shell.execute_reply": "2022-03-18T07:55:04.327577Z"
    },
    "papermill": {
     "duration": 0.052786,
     "end_time": "2022-03-18T07:55:04.327685",
     "exception": false,
     "start_time": "2022-03-18T07:55:04.274899",
     "status": "completed"
    },
    "tags": [
     "experiment_json"
    ]
   },
   "outputs": [
    {
     "data": {
      "text/plain": [
       "'{\"experiment_name\": \"tl_3-jitter10:cores+wisig -> oracle.run1.framed\", \"parameters\": {\"experiment_name\": \"tl_3-jitter10:cores+wisig -> oracle.run1.framed\", \"device\": \"cuda\", \"lr\": 0.001, \"seed\": 1337, \"dataset_seed\": 1337, \"n_shot\": 3, \"n_query\": 2, \"train_k_factor\": 3, \"val_k_factor\": 2, \"test_k_factor\": 2, \"torch_default_dtype\": \"torch.float32\", \"n_epoch\": 50, \"patience\": 3, \"criteria_for_best\": \"target_loss\", \"x_net\": [{\"class\": \"nnReshape\", \"kargs\": {\"shape\": [-1, 1, 2, 256]}}, {\"class\": \"Conv2d\", \"kargs\": {\"in_channels\": 1, \"out_channels\": 256, \"kernel_size\": [1, 7], \"bias\": false, \"padding\": [0, 3]}}, {\"class\": \"ReLU\", \"kargs\": {\"inplace\": true}}, {\"class\": \"BatchNorm2d\", \"kargs\": {\"num_features\": 256}}, {\"class\": \"Conv2d\", \"kargs\": {\"in_channels\": 256, \"out_channels\": 80, \"kernel_size\": [2, 7], \"bias\": true, \"padding\": [0, 3]}}, {\"class\": \"ReLU\", \"kargs\": {\"inplace\": true}}, {\"class\": \"BatchNorm2d\", \"kargs\": {\"num_features\": 80}}, {\"class\": \"Flatten\", \"kargs\": {}}, {\"class\": \"Linear\", \"kargs\": {\"in_features\": 20480, \"out_features\": 256}}, {\"class\": \"ReLU\", \"kargs\": {\"inplace\": true}}, {\"class\": \"BatchNorm1d\", \"kargs\": {\"num_features\": 256}}, {\"class\": \"Linear\", \"kargs\": {\"in_features\": 256, \"out_features\": 256}}], \"NUM_LOGS_PER_EPOCH\": 10, \"BEST_MODEL_PATH\": \"./best_model.pth\", \"n_way\": 16, \"datasets\": [{\"labels\": [\"1-10.\", \"1-11.\", \"1-15.\", \"1-16.\", \"1-17.\", \"1-18.\", \"1-19.\", \"10-4.\", \"10-7.\", \"11-1.\", \"11-14.\", \"11-17.\", \"11-20.\", \"11-7.\", \"13-20.\", \"13-8.\", \"14-10.\", \"14-11.\", \"14-14.\", \"14-7.\", \"15-1.\", \"15-20.\", \"16-1.\", \"16-16.\", \"17-10.\", \"17-11.\", \"17-2.\", \"19-1.\", \"19-16.\", \"19-19.\", \"19-20.\", \"19-3.\", \"2-10.\", \"2-11.\", \"2-17.\", \"2-18.\", \"2-20.\", \"2-3.\", \"2-4.\", \"2-5.\", \"2-6.\", \"2-7.\", \"2-8.\", \"3-13.\", \"3-18.\", \"3-3.\", \"4-1.\", \"4-10.\", \"4-11.\", \"4-19.\", \"5-5.\", \"6-15.\", \"7-10.\", \"7-14.\", \"8-18.\", \"8-20.\", \"8-3.\", \"8-8.\"], \"domains\": [1, 2, 3, 4, 5], \"num_examples_per_domain_per_label\": 100, \"pickle_path\": \"/mnt/wd500GB/CSC500/csc500-main/datasets/cores.stratified_ds.2022A.pkl\", \"source_or_target_dataset\": \"source\", \"x_transforms\": [\"jitter_256_10\", \"take_200\"], \"episode_transforms\": [], \"domain_prefix\": \"C_A_\"}, {\"labels\": [\"1-10\", \"1-12\", \"1-14\", \"1-16\", \"1-18\", \"1-19\", \"1-8\", \"10-11\", \"10-17\", \"10-4\", \"10-7\", \"11-1\", \"11-10\", \"11-19\", \"11-20\", \"11-4\", \"11-7\", \"12-19\", \"12-20\", \"12-7\", \"13-14\", \"13-18\", \"13-19\", \"13-20\", \"13-3\", \"13-7\", \"14-10\", \"14-11\", \"14-12\", \"14-13\", \"14-14\", \"14-19\", \"14-20\", \"14-7\", \"14-8\", \"14-9\", \"15-1\", \"15-19\", \"15-6\", \"16-1\", \"16-16\", \"16-19\", \"16-20\", \"17-10\", \"17-11\", \"18-1\", \"18-10\", \"18-11\", \"18-12\", \"18-13\", \"18-14\", \"18-15\", \"18-16\", \"18-17\", \"18-19\", \"18-2\", \"18-20\", \"18-4\", \"18-5\", \"18-7\", \"18-8\", \"18-9\", \"19-1\", \"19-10\", \"19-11\", \"19-12\", \"19-13\", \"19-14\", \"19-15\", \"19-19\", \"19-2\", \"19-20\", \"19-3\", \"19-4\", \"19-6\", \"19-7\", \"19-8\", \"19-9\", \"2-1\", \"2-13\", \"2-15\", \"2-3\", \"2-4\", \"2-5\", \"2-6\", \"2-7\", \"2-8\", \"20-1\", \"20-12\", \"20-14\", \"20-15\", \"20-16\", \"20-18\", \"20-19\", \"20-20\", \"20-3\", \"20-4\", \"20-5\", \"20-7\", \"20-8\", \"3-1\", \"3-13\", \"3-18\", \"3-2\", \"3-8\", \"4-1\", \"4-10\", \"4-11\", \"5-1\", \"5-5\", \"6-1\", \"6-15\", \"6-6\", \"7-10\", \"7-11\", \"7-12\", \"7-13\", \"7-14\", \"7-7\", \"7-8\", \"7-9\", \"8-1\", \"8-13\", \"8-14\", \"8-18\", \"8-20\", \"8-3\", \"8-8\", \"9-1\", \"9-7\"], \"domains\": [1, 2, 3, 4], \"num_examples_per_domain_per_label\": 100, \"pickle_path\": \"/mnt/wd500GB/CSC500/csc500-main/datasets/wisig.node3-19.stratified_ds.2022A.pkl\", \"source_or_target_dataset\": \"source\", \"x_transforms\": [\"jitter_256_10\", \"take_200\"], \"episode_transforms\": [], \"domain_prefix\": \"W_A_\"}, {\"labels\": [\"3123D52\", \"3123D65\", \"3123D79\", \"3123D80\", \"3123D54\", \"3123D70\", \"3123D7B\", \"3123D89\", \"3123D58\", \"3123D76\", \"3123D7D\", \"3123EFE\", \"3123D64\", \"3123D78\", \"3123D7E\", \"3124E4A\"], \"domains\": [32, 38, 8, 44, 14, 50, 20, 26], \"num_examples_per_domain_per_label\": 2000, \"pickle_path\": \"/mnt/wd500GB/CSC500/csc500-main/datasets/oracle.Run1_framed_2000Examples_stratified_ds.2022A.pkl\", \"source_or_target_dataset\": \"target\", \"x_transforms\": [\"jitter_256_10\", \"take_200\", \"resample_20Msps_to_25Msps\"], \"episode_transforms\": [], \"domain_prefix\": \"ORACLE.run1_\"}], \"x_shape\": [2, 256], \"domains_source\": [\"C_A_1\", \"C_A_2\", \"C_A_3\", \"C_A_4\", \"C_A_5\", \"W_A_1\", \"W_A_2\", \"W_A_3\", \"W_A_4\"], \"domains_target\": [\"ORACLE.run1_32\", \"ORACLE.run1_38\", \"ORACLE.run1_8\", \"ORACLE.run1_44\", \"ORACLE.run1_14\", \"ORACLE.run1_50\", \"ORACLE.run1_20\", \"ORACLE.run1_26\"]}, \"results\": {\"source_test_label_accuracy\": 0.9497003424657534, \"source_test_label_loss\": 0.22046037018299103, \"target_test_label_accuracy\": 0.47994791666666664, \"target_test_label_loss\": 2.0966243743896484, \"source_val_label_accuracy\": 0.9522688356164384, \"source_val_label_loss\": 0.2019468992948532, \"target_val_label_accuracy\": 0.47760416666666666, \"target_val_label_loss\": 2.097357749938965, \"total_epochs_trained\": 7, \"total_experiment_time_secs\": 471.3600330352783, \"confusion\": {\"C_A_3\": {\"43\": {\"43\": 12}, \"9\": {\"9\": 12}, \"6\": {\"6\": 10}, \"3\": {\"3\": 11, \"50\": 1}, \"16\": {\"16\": 12}, \"51\": {\"51\": 12}, \"31\": {\"31\": 12}, \"46\": {\"46\": 10}, \"19\": {\"19\": 8}, \"8\": {\"8\": 12}, \"18\": {\"18\": 12}, \"37\": {\"37\": 12}, \"24\": {\"24\": 12}, \"10\": {\"10\": 12}, \"44\": {\"44\": 10}, \"14\": {\"14\": 9, \"33\": 2, \"13\": 1}, \"38\": {\"38\": 10}, \"53\": {\"53\": 12}, \"20\": {\"20\": 12}, \"32\": {\"32\": 12}, \"36\": {\"36\": 10}, \"33\": {\"33\": 12}, \"56\": {\"56\": 12}, \"23\": {\"23\": 12}, \"54\": {\"54\": 10}, \"34\": {\"34\": 12}, \"13\": {\"13\": 12}, \"2\": {\"2\": 11, \"17\": 1}, \"55\": {\"55\": 10}, \"21\": {\"21\": 10}, \"49\": {\"49\": 7, \"13\": 1, \"7\": 2}, \"25\": {\"25\": 12}, \"5\": {\"5\": 12}, \"50\": {\"50\": 7, \"46\": 1}, \"40\": {\"40\": 12}, \"57\": {\"57\": 8}, \"22\": {\"22\": 10}, \"1\": {\"1\": 10}, \"17\": {\"17\": 12}, \"41\": {\"41\": 10, \"48\": 2}, \"4\": {\"4\": 10}, \"7\": {\"7\": 10}, \"26\": {\"26\": 10}, \"29\": {\"29\": 11, \"57\": 1}, \"52\": {\"52\": 12}, \"15\": {\"15\": 12}, \"35\": {\"35\": 12}, \"42\": {\"42\": 12}, \"30\": {\"30\": 10}, \"27\": {\"27\": 8}, \"45\": {\"45\": 10}, \"0\": {\"0\": 12}, \"28\": {\"28\": 12}, \"47\": {\"47\": 12}, \"11\": {\"11\": 10}, \"39\": {\"39\": 10}, \"48\": {\"41\": 2, \"48\": 10}, \"12\": {\"12\": 8}}, \"C_A_4\": {\"35\": {\"35\": 10}, \"25\": {\"25\": 12}, \"24\": {\"24\": 10}, \"48\": {\"48\": 12}, \"51\": {\"51\": 12}, \"13\": {\"13\": 12}, \"14\": {\"14\": 5, \"0\": 1, \"2\": 1, \"56\": 1}, \"32\": {\"32\": 12}, \"30\": {\"30\": 12}, \"34\": {\"34\": 8, \"19\": 1, \"53\": 1}, \"9\": {\"9\": 12}, \"1\": {\"1\": 12}, \"0\": {\"0\": 12}, \"38\": {\"38\": 12}, \"22\": {\"22\": 8}, \"40\": {\"40\": 12}, \"39\": {\"39\": 12}, \"46\": {\"46\": 12}, \"36\": {\"36\": 12}, \"50\": {\"50\": 11, \"5\": 1}, \"49\": {\"49\": 10, \"7\": 2}, \"17\": {\"17\": 12}, \"45\": {\"50\": 1, \"45\": 11}, \"6\": {\"6\": 12}, \"8\": {\"8\": 12}, \"5\": {\"5\": 10}, \"33\": {\"33\": 12}, \"31\": {\"31\": 11, \"32\": 1}, \"37\": {\"37\": 10}, \"47\": {\"47\": 8}, \"15\": {\"15\": 10}, \"7\": {\"7\": 12}, \"20\": {\"20\": 12}, \"4\": {\"4\": 12}, \"54\": {\"54\": 12}, \"44\": {\"44\": 12}, \"3\": {\"3\": 12}, \"11\": {\"11\": 10}, \"27\": {\"27\": 10}, \"19\": {\"19\": 12}, \"55\": {\"55\": 12}, \"16\": {\"16\": 12}, \"2\": {\"2\": 10}, \"52\": {\"52\": 10}, \"42\": {\"42\": 10}, \"26\": {\"26\": 12}, \"10\": {\"10\": 12}, \"53\": {\"53\": 10}, \"28\": {\"28\": 12}, \"21\": {\"21\": 10}, \"57\": {\"57\": 10}, \"23\": {\"23\": 8}, \"43\": {\"43\": 10}, \"12\": {\"12\": 12}, \"41\": {\"41\": 12}, \"56\": {\"56\": 8}, \"18\": {\"18\": 10}, \"29\": {\"29\": 8}}, \"W_A_3\": {\"109\": {\"109\": 12}, \"127\": {\"127\": 12}, \"14\": {\"14\": 12}, \"7\": {\"7\": 12}, \"129\": {\"129\": 12}, \"57\": {\"57\": 11, \"17\": 1}, \"84\": {\"84\": 11, \"26\": 1}, \"114\": {\"114\": 12}, \"44\": {\"44\": 12}, \"21\": {\"21\": 12}, \"46\": {\"46\": 12}, \"100\": {\"100\": 10, \"107\": 2}, \"63\": {\"63\": 8, \"57\": 1, \"6\": 1, \"2\": 1, \"54\": 1}, \"24\": {\"24\": 10, \"21\": 1, \"118\": 1}, \"107\": {\"107\": 12}, \"35\": {\"21\": 1, \"35\": 8, \"95\": 1}, \"81\": {\"81\": 12}, \"64\": {\"64\": 12}, \"59\": {\"36\": 1, \"59\": 11}, \"33\": {\"33\": 12}, \"34\": {\"34\": 11, \"58\": 1}, \"36\": {\"36\": 11, \"24\": 1}, \"79\": {\"79\": 12}, \"80\": {\"80\": 11, \"10\": 1}, \"77\": {\"77\": 12}, \"22\": {\"22\": 12}, \"124\": {\"124\": 12}, \"2\": {\"2\": 11, \"80\": 1}, \"87\": {\"87\": 11, \"11\": 1}, \"105\": {\"105\": 12}, \"95\": {\"95\": 12}, \"43\": {\"43\": 12}, \"56\": {\"56\": 10}, \"18\": {\"18\": 12}, \"85\": {\"85\": 12}, \"113\": {\"113\": 12}, \"97\": {\"97\": 11, \"94\": 1}, \"86\": {\"86\": 12}, \"128\": {\"128\": 12}, \"123\": {\"123\": 12}, \"8\": {\"8\": 12}, \"110\": {\"110\": 12}, \"126\": {\"43\": 2, \"126\": 8, \"39\": 2}, \"101\": {\"101\": 12}, \"115\": {\"115\": 10, \"45\": 2}, \"49\": {\"49\": 11, \"106\": 1}, \"45\": {\"45\": 12}, \"78\": {\"78\": 12}, \"65\": {\"65\": 9, \"81\": 1}, \"54\": {\"54\": 12}, \"31\": {\"31\": 10}, \"42\": {\"42\": 11, \"78\": 1}, \"68\": {\"68\": 12}, \"15\": {\"15\": 12}, \"69\": {\"69\": 12}, \"17\": {\"102\": 1, \"17\": 3, \"104\": 1, \"18\": 1, \"37\": 2, \"116\": 1, \"57\": 1}, \"73\": {\"73\": 12}, \"121\": {\"121\": 12}, \"102\": {\"102\": 12}, \"48\": {\"48\": 7, \"104\": 1, \"50\": 2, \"22\": 1, \"86\": 1}, \"23\": {\"23\": 9, \"122\": 1, \"8\": 2}, \"108\": {\"108\": 11, \"24\": 1}, \"53\": {\"53\": 12}, \"94\": {\"94\": 10}, \"41\": {\"41\": 12}, \"58\": {\"58\": 12}, \"29\": {\"29\": 12}, \"116\": {\"116\": 12}, \"60\": {\"60\": 12}, \"104\": {\"104\": 12}, \"106\": {\"106\": 12}, \"66\": {\"66\": 12}, \"47\": {\"47\": 12}, \"40\": {\"40\": 12}, \"82\": {\"82\": 9, \"30\": 1, \"92\": 2}, \"13\": {\"17\": 2, \"113\": 1, \"13\": 7, \"109\": 1, \"16\": 1}, \"19\": {\"19\": 9, \"103\": 2, \"100\": 1}, \"72\": {\"72\": 11, \"51\": 1}, \"9\": {\"9\": 12}, \"67\": {\"67\": 11, \"123\": 1}, \"11\": {\"11\": 12}, \"125\": {\"125\": 12}, \"76\": {\"76\": 8}, \"83\": {\"83\": 12}, \"74\": {\"74\": 11, \"18\": 1}, \"20\": {\"20\": 12}, \"119\": {\"119\": 12}, \"1\": {\"1\": 12}, \"16\": {\"16\": 12}, \"25\": {\"25\": 11, \"120\": 1}, \"90\": {\"90\": 8}, \"39\": {\"39\": 12}, \"28\": {\"28\": 11, \"100\": 1}, \"55\": {\"55\": 12}, \"117\": {\"117\": 12}, \"112\": {\"112\": 10, \"53\": 2}, \"38\": {\"38\": 12}, \"37\": {\"37\": 12}, \"120\": {\"117\": 1, \"120\": 8, \"13\": 3}, \"122\": {\"122\": 9, \"110\": 1, \"0\": 2}, \"50\": {\"50\": 12}, \"10\": {\"10\": 12}, \"5\": {\"5\": 12}, \"51\": {\"51\": 11, \"72\": 1}, \"3\": {\"3\": 11, \"70\": 1}, \"98\": {\"98\": 12}, \"70\": {\"70\": 12}, \"96\": {\"96\": 12}, \"12\": {\"12\": 12}, \"99\": {\"99\": 11, \"105\": 1}, \"52\": {\"52\": 12}, \"71\": {\"71\": 8, \"59\": 1, \"81\": 1, \"3\": 2}, \"89\": {\"89\": 12}, \"0\": {\"0\": 12}, \"4\": {\"4\": 9, \"88\": 1, \"118\": 1, \"59\": 1}, \"93\": {\"93\": 12}, \"6\": {\"6\": 10}, \"75\": {\"75\": 12}, \"62\": {\"62\": 12}, \"103\": {\"103\": 12}, \"30\": {\"30\": 12}, \"91\": {\"91\": 11, \"77\": 1}, \"27\": {\"27\": 12}, \"26\": {\"26\": 12}, \"61\": {\"61\": 12}, \"118\": {\"118\": 12}, \"92\": {\"92\": 12}, \"111\": {\"111\": 12}, \"32\": {\"32\": 10, \"91\": 1, \"28\": 1}, \"88\": {\"88\": 10}}, \"C_A_5\": {\"47\": {\"47\": 10}, \"53\": {\"53\": 12}, \"29\": {\"29\": 12}, \"52\": {\"52\": 12}, \"55\": {\"55\": 12}, \"17\": {\"17\": 12}, \"42\": {\"42\": 12}, \"33\": {\"33\": 8, \"41\": 2}, \"11\": {\"11\": 12}, \"19\": {\"19\": 8}, \"1\": {\"1\": 12}, \"44\": {\"44\": 12}, \"49\": {\"49\": 12}, \"4\": {\"4\": 12}, \"6\": {\"6\": 12}, \"39\": {\"39\": 12}, \"13\": {\"13\": 12}, \"5\": {\"5\": 10}, \"16\": {\"16\": 10}, \"25\": {\"25\": 12}, \"45\": {\"45\": 12}, \"7\": {\"7\": 10}, \"22\": {\"22\": 11, \"56\": 1}, \"40\": {\"40\": 12}, \"38\": {\"38\": 11, \"48\": 1}, \"35\": {\"35\": 8}, \"56\": {\"56\": 12}, \"50\": {\"50\": 10}, \"0\": {\"0\": 12}, \"10\": {\"10\": 12}, \"27\": {\"27\": 12}, \"20\": {\"20\": 10}, \"36\": {\"36\": 8}, \"34\": {\"34\": 12}, \"30\": {\"30\": 12}, \"2\": {\"2\": 10}, \"15\": {\"15\": 11, \"11\": 1}, \"18\": {\"18\": 12}, \"32\": {\"32\": 10, \"51\": 2}, \"31\": {\"31\": 12}, \"57\": {\"57\": 12}, \"48\": {\"48\": 8}, \"28\": {\"28\": 10}, \"14\": {\"14\": 11, \"29\": 1}, \"3\": {\"3\": 11, \"44\": 1}, \"8\": {\"8\": 12}, \"9\": {\"9\": 12}, \"21\": {\"21\": 10}, \"41\": {\"41\": 9, \"36\": 1, \"39\": 1, \"8\": 1}, \"24\": {\"24\": 12}, \"46\": {\"46\": 10}, \"43\": {\"43\": 10}, \"54\": {\"54\": 10}, \"23\": {\"23\": 10}, \"37\": {\"37\": 10}, \"12\": {\"12\": 10}, \"26\": {\"26\": 10}, \"51\": {\"51\": 6}}, \"C_A_1\": {\"46\": {\"46\": 12}, \"16\": {\"16\": 12}, \"26\": {\"26\": 12}, \"10\": {\"10\": 12}, \"9\": {\"9\": 10}, \"28\": {\"28\": 12}, \"51\": {\"51\": 12}, \"1\": {\"1\": 12}, \"55\": {\"55\": 12}, \"27\": {\"27\": 10}, \"22\": {\"22\": 12}, \"52\": {\"52\": 12}, \"3\": {\"3\": 11, \"44\": 1}, \"33\": {\"33\": 8}, \"47\": {\"47\": 12}, \"42\": {\"42\": 12}, \"12\": {\"12\": 4}, \"23\": {\"23\": 12}, \"49\": {\"49\": 10}, \"7\": {\"7\": 12}, \"4\": {\"4\": 12}, \"50\": {\"50\": 12}, \"19\": {\"19\": 12}, \"11\": {\"11\": 12}, \"31\": {\"31\": 10}, \"41\": {\"41\": 10, \"14\": 1, \"8\": 1}, \"56\": {\"56\": 10}, \"0\": {\"0\": 12}, \"57\": {\"57\": 12}, \"53\": {\"53\": 12}, \"43\": {\"43\": 12}, \"37\": {\"37\": 12}, \"2\": {\"2\": 8}, \"6\": {\"6\": 12}, \"18\": {\"18\": 12}, \"38\": {\"38\": 12}, \"15\": {\"15\": 12}, \"36\": {\"36\": 12}, \"39\": {\"39\": 8}, \"44\": {\"44\": 12}, \"8\": {\"8\": 12}, \"17\": {\"17\": 10}, \"5\": {\"5\": 12}, \"13\": {\"13\": 10}, \"40\": {\"40\": 10}, \"29\": {\"29\": 12}, \"48\": {\"48\": 12}, \"32\": {\"32\": 12}, \"30\": {\"30\": 12}, \"35\": {\"35\": 12}, \"25\": {\"25\": 12}, \"14\": {\"14\": 6, \"30\": 6}, \"54\": {\"54\": 10}, \"20\": {\"20\": 8}, \"21\": {\"21\": 10}, \"45\": {\"45\": 8}, \"24\": {\"24\": 8}, \"34\": {\"34\": 8}}, \"W_A_4\": {\"28\": {\"28\": 12}, \"4\": {\"4\": 12}, \"72\": {\"72\": 11, \"1\": 1}, \"111\": {\"111\": 12}, \"108\": {\"108\": 12}, \"43\": {\"43\": 10}, \"96\": {\"96\": 12}, \"89\": {\"89\": 12}, \"31\": {\"31\": 12}, \"45\": {\"45\": 12}, \"2\": {\"2\": 12}, \"114\": {\"114\": 12}, \"11\": {\"11\": 11, \"93\": 1}, \"12\": {\"12\": 12}, \"14\": {\"14\": 12}, \"90\": {\"90\": 12}, \"10\": {\"10\": 11, \"24\": 1}, \"63\": {\"64\": 1, \"63\": 10, \"82\": 1}, \"85\": {\"85\": 9, \"10\": 1, \"1\": 2}, \"64\": {\"64\": 12}, \"82\": {\"82\": 10, \"57\": 1, \"63\": 1}, \"58\": {\"58\": 12}, \"3\": {\"3\": 12}, \"54\": {\"54\": 11, \"2\": 1}, \"121\": {\"121\": 9, \"63\": 1, \"90\": 2}, \"42\": {\"42\": 12}, \"98\": {\"98\": 12}, \"123\": {\"123\": 11, \"90\": 1}, \"91\": {\"91\": 11, \"121\": 1}, \"66\": {\"66\": 8, \"38\": 2, \"57\": 2}, \"102\": {\"102\": 12}, \"122\": {\"122\": 10, \"110\": 1, \"51\": 1}, \"1\": {\"1\": 11, \"114\": 1}, \"15\": {\"15\": 10, \"8\": 2}, \"97\": {\"97\": 11, \"2\": 1}, \"75\": {\"75\": 12}, \"95\": {\"95\": 12}, \"57\": {\"66\": 2, \"57\": 10}, \"68\": {\"68\": 12}, \"125\": {\"125\": 12}, \"62\": {\"62\": 10}, \"27\": {\"27\": 10, \"21\": 1, \"3\": 1}, \"120\": {\"120\": 9, \"103\": 1, \"64\": 2}, \"26\": {\"26\": 12}, \"55\": {\"55\": 12}, \"71\": {\"71\": 11, \"88\": 1}, \"22\": {\"22\": 12}, \"99\": {\"99\": 9, \"84\": 2, \"21\": 1}, \"84\": {\"84\": 10, \"103\": 1, \"43\": 1}, \"37\": {\"37\": 12}, \"83\": {\"83\": 12}, \"46\": {\"46\": 11, \"48\": 1}, \"35\": {\"35\": 12}, \"13\": {\"13\": 12}, \"53\": {\"53\": 10, \"88\": 1, \"21\": 1}, \"127\": {\"127\": 12}, \"69\": {\"127\": 1, \"69\": 10, \"78\": 1}, \"48\": {\"48\": 10, \"129\": 1, \"46\": 1}, \"16\": {\"16\": 12}, \"0\": {\"0\": 9, \"23\": 1, \"87\": 2}, \"8\": {\"8\": 10, \"127\": 1, \"100\": 1}, \"9\": {\"9\": 12}, \"115\": {\"57\": 2, \"115\": 9, \"128\": 1}, \"70\": {\"70\": 10, \"63\": 1, \"36\": 1}, \"119\": {\"119\": 12}, \"59\": {\"59\": 12}, \"52\": {\"52\": 12}, \"60\": {\"60\": 12}, \"44\": {\"44\": 11, \"38\": 1}, \"51\": {\"51\": 3, \"70\": 1, \"114\": 2, \"47\": 1, \"25\": 1, \"100\": 1, \"18\": 1, \"127\": 1, \"53\": 1}, \"6\": {\"6\": 12}, \"73\": {\"73\": 12}, \"78\": {\"78\": 12}, \"92\": {\"92\": 12}, \"20\": {\"20\": 11, \"5\": 1}, \"17\": {\"17\": 12}, \"74\": {\"74\": 12}, \"19\": {\"19\": 11, \"74\": 1}, \"50\": {\"50\": 12}, \"34\": {\"34\": 10, \"6\": 1, \"59\": 1}, \"104\": {\"104\": 6, \"17\": 2}, \"33\": {\"33\": 11, \"70\": 1}, \"5\": {\"5\": 10, \"20\": 2}, \"7\": {\"7\": 11, \"98\": 1}, \"29\": {\"29\": 12}, \"25\": {\"25\": 12}, \"124\": {\"124\": 12}, \"117\": {\"117\": 10, \"88\": 1, \"61\": 1}, \"88\": {\"88\": 10, \"71\": 1, \"10\": 1}, \"61\": {\"61\": 11, \"88\": 1}, \"86\": {\"86\": 12}, \"116\": {\"116\": 12}, \"24\": {\"24\": 12}, \"128\": {\"128\": 4, \"52\": 1, \"21\": 1, \"77\": 3, \"100\": 1, \"40\": 2}, \"101\": {\"101\": 12}, \"65\": {\"65\": 9, \"86\": 1}, \"36\": {\"36\": 12}, \"21\": {\"21\": 12}, \"106\": {\"106\": 12}, \"118\": {\"118\": 10, \"88\": 2}, \"113\": {\"113\": 11, \"51\": 1}, \"40\": {\"40\": 12}, \"93\": {\"93\": 8}, \"94\": {\"94\": 10, \"36\": 2}, \"103\": {\"103\": 7, \"77\": 2, \"108\": 1, \"71\": 1, \"54\": 1}, \"110\": {\"110\": 12}, \"56\": {\"56\": 10, \"55\": 2}, \"39\": {\"39\": 12}, \"109\": {\"109\": 12}, \"67\": {\"67\": 9, \"90\": 1, \"88\": 1, \"63\": 1}, \"129\": {\"129\": 11, \"120\": 1}, \"30\": {\"30\": 12}, \"126\": {\"126\": 10, \"5\": 1, \"108\": 1}, \"87\": {\"21\": 1, \"87\": 10, \"110\": 1}, \"112\": {\"112\": 12}, \"100\": {\"100\": 10, \"46\": 2}, \"79\": {\"79\": 10}, \"81\": {\"81\": 10, \"121\": 1, \"108\": 1}, \"76\": {\"76\": 10}, \"47\": {\"47\": 11, \"21\": 1}, \"77\": {\"77\": 12}, \"23\": {\"103\": 1, \"0\": 2, \"23\": 3, \"108\": 1, \"106\": 2, \"9\": 1, \"98\": 1, \"21\": 1}, \"18\": {\"18\": 12}, \"49\": {\"49\": 12}, \"41\": {\"41\": 10, \"7\": 1, \"81\": 1}, \"32\": {\"76\": 1, \"32\": 11}, \"107\": {\"107\": 10}, \"80\": {\"80\": 11, \"38\": 1}, \"105\": {\"105\": 9, \"113\": 1}, \"38\": {\"38\": 10}}, \"W_A_1\": {\"108\": {\"108\": 10}, \"40\": {\"40\": 11, \"105\": 1}, \"68\": {\"68\": 12}, \"23\": {\"110\": 1, \"23\": 9, \"60\": 2}, \"26\": {\"70\": 1, \"26\": 11}, \"64\": {\"64\": 12}, \"22\": {\"22\": 12}, \"3\": {\"3\": 12}, \"4\": {\"4\": 11, \"26\": 1}, \"70\": {\"70\": 12}, \"57\": {\"57\": 12}, \"79\": {\"79\": 12}, \"9\": {\"9\": 11, \"99\": 1}, \"89\": {\"89\": 12}, \"110\": {\"110\": 12}, \"102\": {\"102\": 12}, \"31\": {\"31\": 11, \"71\": 1}, \"58\": {\"58\": 12}, \"47\": {\"47\": 11, \"9\": 1}, \"24\": {\"24\": 12}, \"19\": {\"19\": 10, \"73\": 1, \"47\": 1}, \"11\": {\"11\": 12}, \"52\": {\"52\": 12}, \"17\": {\"17\": 12}, \"25\": {\"19\": 1, \"25\": 11}, \"69\": {\"69\": 12}, \"96\": {\"96\": 12}, \"109\": {\"109\": 12}, \"115\": {\"115\": 12}, \"83\": {\"83\": 7, \"42\": 1, \"20\": 1, \"4\": 1, \"82\": 2}, \"84\": {\"84\": 12}, \"119\": {\"119\": 10}, \"122\": {\"122\": 10}, \"99\": {\"99\": 12}, \"1\": {\"1\": 12}, \"74\": {\"74\": 10, \"65\": 1, \"129\": 1}, \"85\": {\"85\": 12}, \"127\": {\"127\": 12}, \"111\": {\"111\": 12}, \"53\": {\"53\": 12}, \"88\": {\"88\": 12}, \"65\": {\"65\": 6, \"129\": 1, \"102\": 2, \"86\": 1}, \"7\": {\"7\": 12}, \"16\": {\"16\": 11, \"127\": 1}, \"128\": {\"128\": 11, \"73\": 1}, \"34\": {\"34\": 7, \"114\": 1, \"98\": 2, \"40\": 1, \"49\": 1}, \"129\": {\"129\": 12}, \"43\": {\"43\": 12}, \"92\": {\"92\": 12}, \"28\": {\"28\": 11, \"116\": 1}, \"27\": {\"27\": 12}, \"114\": {\"114\": 12}, \"73\": {\"73\": 12}, \"0\": {\"0\": 12}, \"104\": {\"104\": 12}, \"118\": {\"118\": 12}, \"41\": {\"41\": 12}, \"49\": {\"49\": 10, \"73\": 1, \"52\": 1}, \"14\": {\"14\": 12}, \"46\": {\"129\": 1, \"46\": 7, \"109\": 1, \"98\": 1, \"91\": 1, \"83\": 1}, \"33\": {\"33\": 12}, \"76\": {\"76\": 12}, \"125\": {\"125\": 12}, \"86\": {\"86\": 10}, \"66\": {\"22\": 1, \"66\": 8, \"61\": 2, \"15\": 1}, \"5\": {\"5\": 12}, \"117\": {\"117\": 12}, \"75\": {\"75\": 12}, \"61\": {\"61\": 12}, \"50\": {\"50\": 11, \"12\": 1}, \"67\": {\"67\": 10}, \"18\": {\"18\": 12}, \"98\": {\"98\": 12}, \"55\": {\"55\": 10}, \"32\": {\"32\": 12}, \"120\": {\"120\": 12}, \"97\": {\"97\": 12}, \"126\": {\"126\": 12}, \"45\": {\"104\": 1, \"45\": 5, \"95\": 1, \"124\": 2, \"90\": 1, \"2\": 1, \"79\": 1}, \"78\": {\"78\": 8, \"21\": 1, \"11\": 1}, \"100\": {\"100\": 12}, \"107\": {\"107\": 12}, \"93\": {\"93\": 12}, \"77\": {\"77\": 12}, \"63\": {\"63\": 12}, \"112\": {\"112\": 12}, \"113\": {\"113\": 12}, \"103\": {\"103\": 10}, \"71\": {\"71\": 12}, \"30\": {\"30\": 12}, \"90\": {\"90\": 12}, \"37\": {\"103\": 1, \"37\": 11}, \"60\": {\"60\": 10, \"96\": 1, \"23\": 1}, \"15\": {\"15\": 11, \"94\": 1}, \"39\": {\"39\": 12}, \"72\": {\"72\": 12}, \"54\": {\"54\": 11, \"98\": 1}, \"35\": {\"35\": 12}, \"2\": {\"86\": 1, \"2\": 11}, \"94\": {\"94\": 11, \"109\": 1}, \"42\": {\"25\": 4, \"42\": 6, \"100\": 1, \"45\": 1}, \"81\": {\"81\": 11, \"105\": 1}, \"8\": {\"8\": 12}, \"87\": {\"87\": 11, \"8\": 1}, \"6\": {\"6\": 12}, \"36\": {\"36\": 12}, \"91\": {\"91\": 11, \"77\": 1}, \"56\": {\"56\": 12}, \"80\": {\"80\": 10, \"48\": 1, \"121\": 1}, \"124\": {\"124\": 10}, \"44\": {\"44\": 12}, \"13\": {\"13\": 12}, \"10\": {\"10\": 10, \"21\": 1, \"106\": 1}, \"59\": {\"59\": 12}, \"95\": {\"95\": 12}, \"105\": {\"105\": 11, \"66\": 1}, \"101\": {\"101\": 12}, \"20\": {\"20\": 12}, \"48\": {\"48\": 11, \"123\": 1}, \"106\": {\"106\": 12}, \"51\": {\"51\": 12}, \"21\": {\"21\": 11, \"70\": 1}, \"123\": {\"123\": 12}, \"121\": {\"121\": 12}, \"38\": {\"38\": 12}, \"62\": {\"62\": 12}, \"29\": {\"29\": 12}, \"82\": {\"82\": 12}, \"116\": {\"116\": 12}, \"12\": {\"12\": 8}}, \"W_A_2\": {\"91\": {\"91\": 10, \"17\": 2}, \"12\": {\"12\": 10, \"126\": 1, \"0\": 1}, \"101\": {\"101\": 10}, \"121\": {\"117\": 3, \"72\": 1, \"121\": 6, \"81\": 2}, \"118\": {\"118\": 12}, \"10\": {\"10\": 12}, \"117\": {\"117\": 12}, \"110\": {\"110\": 11, \"97\": 1}, \"97\": {\"97\": 7, \"121\": 1, \"106\": 2, \"37\": 1, \"110\": 1}, \"28\": {\"88\": 1, \"28\": 7, \"103\": 1, \"67\": 1, \"22\": 1, \"25\": 1}, \"88\": {\"88\": 12}, \"17\": {\"86\": 1, \"17\": 7, \"79\": 2, \"78\": 1, \"4\": 1}, \"126\": {\"126\": 12}, \"33\": {\"33\": 12}, \"86\": {\"86\": 12}, \"106\": {\"106\": 12}, \"54\": {\"54\": 12}, \"125\": {\"125\": 12}, \"83\": {\"83\": 12}, \"98\": {\"98\": 12}, \"11\": {\"11\": 9, \"8\": 2, \"71\": 1}, \"32\": {\"103\": 1, \"32\": 6, \"34\": 2, \"91\": 1, \"56\": 1, \"123\": 1}, \"42\": {\"42\": 12}, \"103\": {\"103\": 12}, \"87\": {\"87\": 12}, \"61\": {\"118\": 1, \"61\": 10, \"102\": 1}, \"13\": {\"13\": 12}, \"4\": {\"4\": 12}, \"15\": {\"15\": 10}, \"120\": {\"120\": 12}, \"80\": {\"80\": 12}, \"72\": {\"72\": 10}, \"64\": {\"64\": 12}, \"81\": {\"81\": 12}, \"102\": {\"102\": 12}, \"76\": {\"76\": 12}, \"49\": {\"49\": 7, \"114\": 2, \"21\": 1}, \"129\": {\"129\": 12}, \"89\": {\"89\": 12}, \"52\": {\"52\": 12}, \"35\": {\"35\": 12}, \"53\": {\"53\": 11, \"40\": 1}, \"112\": {\"112\": 7, \"100\": 1, \"77\": 1, \"52\": 1, \"99\": 2}, \"105\": {\"105\": 12}, \"100\": {\"100\": 12}, \"9\": {\"9\": 12}, \"82\": {\"82\": 12}, \"51\": {\"51\": 11, \"127\": 1}, \"21\": {\"21\": 12}, \"92\": {\"92\": 11, \"84\": 1}, \"69\": {\"69\": 12}, \"77\": {\"77\": 12}, \"50\": {\"50\": 11, \"82\": 1}, \"36\": {\"36\": 12}, \"16\": {\"16\": 10, \"41\": 1, \"78\": 1}, \"8\": {\"16\": 1, \"8\": 10, \"120\": 1}, \"127\": {\"127\": 12}, \"46\": {\"46\": 10}, \"84\": {\"84\": 12}, \"18\": {\"18\": 12}, \"123\": {\"123\": 9, \"73\": 1}, \"56\": {\"56\": 9, \"107\": 2, \"71\": 1}, \"26\": {\"26\": 12}, \"14\": {\"88\": 1, \"14\": 7, \"72\": 2, \"43\": 1, \"71\": 1}, \"109\": {\"109\": 10, \"78\": 2}, \"66\": {\"66\": 12}, \"24\": {\"24\": 11, \"28\": 1}, \"71\": {\"75\": 1, \"71\": 11}, \"65\": {\"65\": 10, \"92\": 1, \"121\": 1}, \"75\": {\"75\": 11, \"21\": 1}, \"111\": {\"111\": 12}, \"30\": {\"30\": 11, \"59\": 1}, \"85\": {\"85\": 12}, \"113\": {\"113\": 9, \"21\": 1}, \"45\": {\"45\": 10, \"37\": 2}, \"29\": {\"29\": 11, \"67\": 1}, \"20\": {\"20\": 12}, \"25\": {\"25\": 12}, \"0\": {\"0\": 12}, \"68\": {\"68\": 12}, \"119\": {\"119\": 12}, \"90\": {\"90\": 12}, \"38\": {\"38\": 12}, \"99\": {\"99\": 12}, \"1\": {\"1\": 12}, \"67\": {\"67\": 11, \"69\": 1}, \"63\": {\"63\": 12}, \"34\": {\"34\": 10, \"91\": 1, \"19\": 1}, \"108\": {\"108\": 12}, \"40\": {\"40\": 12}, \"47\": {\"47\": 9, \"59\": 1, \"73\": 1, \"99\": 1}, \"37\": {\"37\": 12}, \"78\": {\"78\": 12}, \"96\": {\"96\": 11, \"83\": 1}, \"43\": {\"43\": 11, \"21\": 1}, \"5\": {\"5\": 10}, \"124\": {\"124\": 12}, \"44\": {\"44\": 12}, \"41\": {\"5\": 1, \"41\": 10, \"47\": 1}, \"116\": {\"116\": 12}, \"19\": {\"19\": 9, \"123\": 2, \"1\": 1}, \"115\": {\"115\": 12}, \"95\": {\"95\": 9, \"126\": 1, \"40\": 2}, \"3\": {\"3\": 10}, \"59\": {\"59\": 12}, \"55\": {\"55\": 12}, \"70\": {\"70\": 11, \"109\": 1}, \"6\": {\"6\": 12}, \"2\": {\"48\": 1, \"2\": 10, \"117\": 1}, \"48\": {\"48\": 12}, \"23\": {\"23\": 10, \"96\": 1, \"122\": 1}, \"7\": {\"7\": 12}, \"122\": {\"122\": 12}, \"57\": {\"57\": 10, \"42\": 1, \"59\": 1}, \"39\": {\"39\": 9, \"53\": 1}, \"79\": {\"79\": 12}, \"27\": {\"27\": 10}, \"74\": {\"74\": 9, \"17\": 1, \"78\": 1, \"47\": 1}, \"73\": {\"73\": 11, \"53\": 1}, \"62\": {\"62\": 12}, \"107\": {\"107\": 12}, \"128\": {\"53\": 4, \"128\": 7, \"58\": 1}, \"60\": {\"60\": 11, \"93\": 1}, \"114\": {\"114\": 12}, \"22\": {\"22\": 12}, \"93\": {\"93\": 12}, \"94\": {\"94\": 11, \"88\": 1}, \"31\": {\"31\": 10}, \"104\": {\"104\": 12}, \"58\": {\"58\": 12}}, \"C_A_2\": {\"14\": {\"14\": 10, \"38\": 1, \"1\": 1}, \"22\": {\"22\": 11, \"56\": 1}, \"9\": {\"9\": 12}, \"47\": {\"47\": 12}, \"13\": {\"13\": 12}, \"8\": {\"8\": 12}, \"7\": {\"7\": 12}, \"49\": {\"49\": 12}, \"20\": {\"20\": 12}, \"16\": {\"16\": 12}, \"34\": {\"34\": 12}, \"56\": {\"56\": 12}, \"38\": {\"38\": 10}, \"4\": {\"4\": 12}, \"43\": {\"43\": 10}, \"26\": {\"26\": 10}, \"35\": {\"35\": 12}, \"31\": {\"31\": 12}, \"1\": {\"1\": 11, \"47\": 1}, \"39\": {\"39\": 12}, \"5\": {\"5\": 12}, \"24\": {\"24\": 12}, \"54\": {\"54\": 10}, \"23\": {\"23\": 12}, \"51\": {\"51\": 12}, \"27\": {\"27\": 10}, \"15\": {\"15\": 12}, \"0\": {\"0\": 12}, \"19\": {\"19\": 10}, \"18\": {\"18\": 8}, \"30\": {\"30\": 12}, \"55\": {\"55\": 10}, \"57\": {\"57\": 12}, \"2\": {\"2\": 12}, \"12\": {\"12\": 8}, \"41\": {\"41\": 10, \"47\": 1, \"9\": 1}, \"42\": {\"42\": 12}, \"48\": {\"48\": 12}, \"37\": {\"37\": 12}, \"6\": {\"6\": 10}, \"11\": {\"11\": 10}, \"45\": {\"45\": 8}, \"21\": {\"21\": 12}, \"46\": {\"46\": 10}, \"25\": {\"25\": 12}, \"36\": {\"36\": 10}, \"53\": {\"53\": 12}, \"28\": {\"28\": 12}, \"40\": {\"40\": 10}, \"33\": {\"33\": 10}, \"44\": {\"44\": 10}, \"3\": {\"3\": 12}, \"17\": {\"17\": 12}, \"32\": {\"32\": 10}, \"10\": {\"10\": 10}, \"52\": {\"52\": 10}, \"50\": {\"50\": 8}, \"29\": {\"29\": 6}}, \"ORACLE.run1_14\": {\"15\": {\"15\": 240}, \"3\": {\"7\": 23, \"6\": 52, \"3\": 105, \"13\": 18, \"2\": 7, \"0\": 16, \"14\": 19}, \"6\": {\"14\": 18, \"7\": 2, \"3\": 41, \"6\": 108, \"13\": 61, \"2\": 4, \"0\": 5, \"5\": 1}, \"1\": {\"9\": 106, \"1\": 124, \"4\": 2, \"10\": 8}, \"8\": {\"8\": 143, \"12\": 33, \"5\": 30, \"0\": 5, \"2\": 5, \"7\": 23, \"13\": 1}, \"10\": {\"10\": 166, \"4\": 38, \"9\": 21, \"1\": 9, \"12\": 5, \"2\": 1}, \"9\": {\"1\": 99, \"9\": 111, \"10\": 28, \"4\": 2}, \"13\": {\"0\": 17, \"4\": 17, \"14\": 24, \"2\": 16, \"5\": 21, \"13\": 40, \"15\": 20, \"6\": 55, \"3\": 18, \"12\": 11, \"7\": 1}, \"12\": {\"4\": 62, \"2\": 27, \"5\": 36, \"12\": 104, \"8\": 5, \"0\": 4, \"14\": 1, \"13\": 1}, \"5\": {\"5\": 94, \"12\": 38, \"14\": 14, \"8\": 21, \"2\": 33, \"0\": 32, \"4\": 3, \"6\": 2, \"3\": 1, \"13\": 2}, \"0\": {\"0\": 40, \"2\": 34, \"7\": 9, \"3\": 36, \"5\": 36, \"14\": 33, \"4\": 5, \"12\": 15, \"13\": 13, \"6\": 16, \"8\": 2, \"10\": 1}, \"2\": {\"4\": 18, \"0\": 22, \"12\": 44, \"14\": 25, \"3\": 19, \"5\": 24, \"2\": 48, \"13\": 18, \"6\": 18, \"7\": 2, \"8\": 1, \"10\": 1}, \"11\": {\"11\": 238, \"1\": 1, \"9\": 1}, \"14\": {\"13\": 19, \"0\": 30, \"14\": 95, \"3\": 28, \"2\": 36, \"5\": 18, \"6\": 8, \"7\": 3, \"8\": 1, \"12\": 2}, \"7\": {\"7\": 154, \"2\": 3, \"0\": 11, \"6\": 7, \"5\": 6, \"8\": 22, \"3\": 32, \"13\": 4, \"14\": 1}, \"4\": {\"4\": 136, \"10\": 34, \"12\": 62, \"5\": 6, \"13\": 1, \"2\": 1}}, \"ORACLE.run1_20\": {\"3\": {\"1\": 27, \"5\": 39, \"14\": 35, \"8\": 54, \"9\": 21, \"0\": 7, \"3\": 33, \"15\": 3, \"12\": 4, \"7\": 12, \"6\": 5}, \"15\": {\"2\": 40, \"15\": 27, \"9\": 10, \"7\": 31, \"12\": 45, \"1\": 7, \"13\": 44, \"6\": 17, \"3\": 5, \"5\": 4, \"4\": 6, \"8\": 1, \"14\": 1, \"10\": 1, \"0\": 1}, \"8\": {\"3\": 31, \"0\": 30, \"5\": 32, \"8\": 78, \"9\": 7, \"14\": 46, \"1\": 10, \"7\": 4, \"11\": 1, \"12\": 1}, \"4\": {\"13\": 25, \"4\": 83, \"3\": 3, \"12\": 26, \"2\": 9, \"6\": 37, \"10\": 23, \"14\": 3, \"15\": 14, \"9\": 2, \"7\": 8, \"1\": 3, \"5\": 2, \"8\": 2}, \"14\": {\"8\": 67, \"14\": 73, \"3\": 36, \"7\": 6, \"0\": 2, \"1\": 13, \"5\": 24, \"9\": 13, \"6\": 4, \"15\": 1, \"2\": 1}, \"0\": {\"0\": 151, \"11\": 46, \"14\": 6, \"8\": 29, \"3\": 7, \"1\": 1}, \"7\": {\"7\": 31, \"2\": 28, \"9\": 26, \"15\": 23, \"12\": 23, \"6\": 36, \"3\": 9, \"1\": 17, \"5\": 24, \"13\": 7, \"8\": 5, \"14\": 6, \"0\": 3, \"4\": 2}, \"6\": {\"2\": 31, \"6\": 61, \"4\": 19, \"12\": 34, \"5\": 10, \"14\": 3, \"7\": 26, \"1\": 11, \"15\": 24, \"9\": 11, \"3\": 5, \"13\": 5}, \"10\": {\"10\": 194, \"13\": 15, \"4\": 22, \"12\": 5, \"15\": 1, \"6\": 2, \"9\": 1}, \"5\": {\"8\": 31, \"9\": 33, \"0\": 1, \"3\": 32, \"15\": 5, \"14\": 33, \"5\": 41, \"1\": 36, \"2\": 6, \"7\": 17, \"6\": 3, \"12\": 1, \"13\": 1}, \"2\": {\"15\": 38, \"13\": 49, \"2\": 46, \"7\": 16, \"6\": 18, \"12\": 45, \"9\": 9, \"4\": 6, \"1\": 8, \"5\": 3, \"3\": 1, \"14\": 1}, \"12\": {\"6\": 31, \"2\": 35, \"13\": 49, \"15\": 23, \"12\": 43, \"1\": 8, \"7\": 20, \"4\": 14, \"9\": 14, \"8\": 1, \"5\": 1, \"3\": 1}, \"9\": {\"5\": 39, \"9\": 37, \"1\": 39, \"12\": 9, \"2\": 17, \"3\": 27, \"7\": 22, \"15\": 16, \"8\": 7, \"14\": 14, \"6\": 12, \"13\": 1}, \"1\": {\"12\": 11, \"3\": 25, \"2\": 23, \"8\": 9, \"7\": 24, \"1\": 38, \"9\": 29, \"6\": 14, \"14\": 10, \"15\": 17, \"5\": 37, \"0\": 3}, \"11\": {\"0\": 39, \"11\": 201}, \"13\": {\"13\": 111, \"12\": 21, \"15\": 17, \"7\": 4, \"2\": 25, \"4\": 22, \"8\": 1, \"6\": 7, \"10\": 27, \"9\": 2, \"1\": 1, \"3\": 2}}, \"ORACLE.run1_38\": {\"5\": {\"5\": 77, \"8\": 59, \"9\": 40, \"12\": 18, \"2\": 10, \"15\": 28, \"14\": 5, \"7\": 3}, \"8\": {\"9\": 29, \"8\": 50, \"15\": 31, \"5\": 56, \"7\": 17, \"12\": 30, \"2\": 24, \"14\": 2, \"13\": 1}, \"11\": {\"11\": 240}, \"1\": {\"6\": 109, \"1\": 129, \"15\": 2}, \"10\": {\"0\": 52, \"10\": 159, \"13\": 20, \"3\": 3, \"4\": 6}, \"15\": {\"15\": 177, \"12\": 15, \"5\": 15, \"8\": 12, \"6\": 12, \"1\": 9}, \"3\": {\"3\": 235, \"11\": 5}, \"7\": {\"9\": 9, \"2\": 61, \"7\": 83, \"14\": 77, \"8\": 4, \"5\": 5, \"13\": 1}, \"4\": {\"4\": 219, \"0\": 12, \"10\": 4, \"13\": 4, \"14\": 1}, \"14\": {\"8\": 3, \"2\": 41, \"7\": 76, \"14\": 107, \"9\": 2, \"4\": 4, \"13\": 3, \"0\": 4}, \"9\": {\"5\": 31, \"9\": 144, \"8\": 17, \"2\": 36, \"7\": 11, \"13\": 1}, \"12\": {\"12\": 217, \"5\": 7, \"15\": 6, \"8\": 10}, \"6\": {\"6\": 110, \"1\": 130}, \"2\": {\"2\": 103, \"5\": 7, \"7\": 58, \"9\": 28, \"14\": 26, \"8\": 14, \"4\": 1, \"13\": 3}, \"0\": {\"13\": 72, \"14\": 9, \"0\": 52, \"3\": 5, \"10\": 77, \"7\": 9, \"2\": 9, \"4\": 6, \"8\": 1}, \"13\": {\"13\": 156, \"0\": 66, \"2\": 4, \"10\": 6, \"4\": 2, \"7\": 5, \"14\": 1}}, \"ORACLE.run1_8\": {\"9\": {\"9\": 209, \"3\": 31}, \"10\": {\"10\": 49, \"13\": 56, \"6\": 37, \"7\": 42, \"1\": 12, \"5\": 37, \"11\": 5, \"12\": 1, \"4\": 1}, \"13\": {\"13\": 81, \"5\": 39, \"10\": 61, \"6\": 16, \"7\": 41, \"12\": 1, \"1\": 1}, \"0\": {\"0\": 239, \"14\": 1}, \"1\": {\"11\": 42, \"8\": 12, \"13\": 7, \"1\": 73, \"6\": 45, \"10\": 21, \"5\": 19, \"7\": 17, \"4\": 4}, \"15\": {\"12\": 76, \"15\": 140, \"2\": 24}, \"5\": {\"13\": 54, \"5\": 49, \"10\": 56, \"7\": 37, \"1\": 8, \"6\": 21, \"4\": 5, \"12\": 3, \"11\": 6, \"8\": 1}, \"3\": {\"3\": 217, \"9\": 15, \"2\": 8}, \"6\": {\"6\": 75, \"1\": 46, \"11\": 29, \"7\": 31, \"8\": 3, \"4\": 10, \"5\": 18, \"10\": 18, \"13\": 10}, \"11\": {\"10\": 8, \"1\": 49, \"11\": 50, \"8\": 46, \"6\": 27, \"13\": 5, \"14\": 12, \"7\": 10, \"4\": 26, \"5\": 7}, \"8\": {\"8\": 82, \"14\": 35, \"11\": 57, \"1\": 19, \"4\": 39, \"6\": 8}, \"4\": {\"14\": 35, \"4\": 89, \"11\": 41, \"1\": 8, \"6\": 10, \"8\": 54, \"7\": 2, \"5\": 1}, \"12\": {\"12\": 162, \"15\": 70, \"2\": 8}, \"14\": {\"14\": 171, \"4\": 31, \"8\": 33, \"11\": 4, \"7\": 1}, \"2\": {\"3\": 49, \"12\": 16, \"15\": 36, \"2\": 138, \"9\": 1}, \"7\": {\"10\": 53, \"7\": 64, \"6\": 50, \"5\": 28, \"13\": 31, \"4\": 1, \"1\": 9, \"11\": 4}}, \"ORACLE.run1_50\": {\"7\": {\"5\": 12, \"4\": 88, \"7\": 140}, \"3\": {\"3\": 79, \"6\": 48, \"9\": 9, \"15\": 34, \"5\": 9, \"11\": 56, \"12\": 1, \"13\": 4}, \"8\": {\"8\": 153, \"1\": 66, \"13\": 5, \"10\": 16}, \"2\": {\"2\": 101, \"0\": 45, \"14\": 93, \"10\": 1}, \"14\": {\"2\": 94, \"0\": 49, \"14\": 94, \"10\": 3}, \"4\": {\"4\": 106, \"7\": 107, \"5\": 23, \"15\": 3, \"9\": 1}, \"6\": {\"6\": 66, \"9\": 33, \"5\": 37, \"12\": 4, \"15\": 65, \"11\": 9, \"3\": 26}, \"15\": {\"15\": 75, \"6\": 73, \"9\": 27, \"3\": 26, \"12\": 3, \"5\": 32, \"11\": 3, \"4\": 1}, \"10\": {\"8\": 15, \"10\": 196, \"0\": 23, \"1\": 4, \"14\": 2}, \"11\": {\"11\": 163, \"13\": 4, \"3\": 43, \"12\": 12, \"6\": 12, \"15\": 1, \"9\": 1, \"5\": 4}, \"13\": {\"13\": 206, \"1\": 26, \"11\": 6, \"8\": 1, \"3\": 1}, \"9\": {\"15\": 30, \"6\": 37, \"5\": 23, \"9\": 99, \"12\": 35, \"11\": 6, \"3\": 9, \"7\": 1}, \"0\": {\"0\": 143, \"10\": 36, \"2\": 26, \"14\": 35}, \"1\": {\"13\": 47, \"1\": 103, \"8\": 62, \"10\": 27, \"11\": 1}, \"12\": {\"9\": 41, \"12\": 150, \"11\": 34, \"15\": 3, \"6\": 7, \"5\": 2, \"3\": 3}, \"5\": {\"5\": 72, \"9\": 14, \"4\": 28, \"15\": 32, \"11\": 27, \"7\": 36, \"3\": 10, \"6\": 16, \"13\": 5}}, \"ORACLE.run1_32\": {\"8\": {\"1\": 12, \"14\": 24, \"0\": 77, \"8\": 81, \"4\": 3, \"2\": 11, \"7\": 17, \"5\": 13, \"15\": 2}, \"14\": {\"14\": 83, \"0\": 41, \"2\": 30, \"7\": 40, \"8\": 29, \"5\": 15, \"1\": 2}, \"2\": {\"2\": 122, \"4\": 62, \"13\": 3, \"1\": 33, \"14\": 7, \"0\": 3, \"8\": 5, \"3\": 5}, \"0\": {\"7\": 46, \"14\": 47, \"0\": 72, \"8\": 47, \"5\": 24, \"2\": 1, \"1\": 1, \"15\": 2}, \"1\": {\"8\": 2, \"13\": 5, \"3\": 27, \"14\": 2, \"1\": 157, \"4\": 25, \"2\": 21, \"0\": 1}, \"10\": {\"10\": 229, \"12\": 11}, \"11\": {\"11\": 182, \"13\": 8, \"9\": 39, \"12\": 10, \"3\": 1}, \"5\": {\"0\": 32, \"5\": 108, \"8\": 17, \"7\": 43, \"14\": 14, \"15\": 25, \"2\": 1}, \"15\": {\"15\": 183, \"7\": 7, \"0\": 13, \"8\": 6, \"5\": 31}, \"3\": {\"3\": 109, \"13\": 56, \"2\": 11, \"1\": 26, \"4\": 36, \"9\": 2}, \"12\": {\"9\": 12, \"12\": 211, \"10\": 14, \"11\": 3}, \"7\": {\"14\": 32, \"5\": 57, \"7\": 96, \"0\": 44, \"8\": 9, \"15\": 2}, \"13\": {\"3\": 51, \"13\": 121, \"9\": 27, \"4\": 15, \"1\": 15, \"11\": 7, \"8\": 1, \"2\": 3}, \"6\": {\"6\": 234, \"10\": 6}, \"4\": {\"2\": 44, \"4\": 89, \"14\": 2, \"3\": 40, \"13\": 16, \"1\": 48, \"8\": 1}, \"9\": {\"12\": 42, \"11\": 41, \"13\": 52, \"9\": 92, \"10\": 1, \"3\": 9, \"1\": 3}}, \"ORACLE.run1_26\": {\"4\": {\"4\": 233, \"13\": 5, \"12\": 1, \"3\": 1}, \"12\": {\"3\": 66, \"13\": 18, \"12\": 49, \"8\": 21, \"7\": 46, \"9\": 27, \"2\": 12, \"0\": 1}, \"10\": {\"10\": 85, \"6\": 14, \"0\": 45, \"14\": 73, \"1\": 3, \"15\": 18, \"5\": 2}, \"0\": {\"0\": 114, \"14\": 33, \"2\": 34, \"7\": 4, \"10\": 35, \"1\": 1, \"8\": 7, \"15\": 4, \"6\": 4, \"9\": 4}, \"13\": {\"9\": 18, \"4\": 21, \"3\": 70, \"13\": 95, \"12\": 15, \"2\": 15, \"7\": 3, \"8\": 3}, \"9\": {\"2\": 57, \"12\": 35, \"9\": 37, \"7\": 20, \"13\": 15, \"3\": 35, \"0\": 14, \"8\": 24, \"10\": 2, \"14\": 1}, \"3\": {\"3\": 95, \"13\": 38, \"9\": 26, \"7\": 28, \"12\": 36, \"8\": 11, \"2\": 5, \"4\": 1}, \"2\": {\"2\": 84, \"12\": 20, \"7\": 15, \"8\": 36, \"9\": 28, \"0\": 42, \"3\": 4, \"10\": 5, \"14\": 4, \"13\": 1, \"6\": 1}, \"5\": {\"5\": 92, \"11\": 46, \"15\": 45, \"6\": 37, \"1\": 16, \"14\": 2, \"10\": 2}, \"14\": {\"10\": 61, \"0\": 48, \"14\": 76, \"1\": 13, \"15\": 23, \"6\": 17, \"11\": 1, \"5\": 1}, \"8\": {\"7\": 53, \"9\": 31, \"8\": 70, \"12\": 23, \"2\": 38, \"3\": 10, \"0\": 13, \"13\": 2}, \"7\": {\"8\": 56, \"9\": 21, \"12\": 41, \"7\": 56, \"3\": 39, \"2\": 22, \"0\": 2, \"13\": 3}, \"6\": {\"6\": 75, \"15\": 75, \"14\": 10, \"1\": 42, \"10\": 7, \"5\": 20, \"0\": 3, \"11\": 8}, \"11\": {\"11\": 138, \"15\": 10, \"5\": 66, \"6\": 6, \"1\": 20}, \"15\": {\"14\": 16, \"6\": 57, \"10\": 44, \"15\": 64, \"1\": 20, \"0\": 10, \"5\": 22, \"11\": 7}, \"1\": {\"11\": 36, \"6\": 46, \"5\": 16, \"15\": 21, \"1\": 90, \"14\": 9, \"10\": 18, \"0\": 4}}, \"ORACLE.run1_44\": {\"12\": {\"3\": 101, \"12\": 137, \"0\": 2}, \"7\": {\"4\": 31, \"7\": 102, \"10\": 51, \"9\": 32, \"14\": 12, \"5\": 8, \"6\": 4}, \"5\": {\"5\": 50, \"4\": 27, \"14\": 54, \"15\": 27, \"2\": 21, \"10\": 24, \"7\": 14, \"8\": 3, \"1\": 9, \"9\": 11}, \"15\": {\"5\": 40, \"14\": 35, \"2\": 22, \"8\": 25, \"15\": 78, \"4\": 9, \"10\": 5, \"1\": 22, \"9\": 1, \"0\": 2, \"7\": 1}, \"8\": {\"0\": 47, \"8\": 78, \"1\": 55, \"5\": 4, \"14\": 4, \"2\": 11, \"15\": 37, \"4\": 2, \"10\": 1, \"12\": 1}, \"2\": {\"2\": 145, \"15\": 15, \"1\": 44, \"8\": 10, \"5\": 11, \"7\": 2, \"14\": 6, \"10\": 2, \"4\": 5}, \"13\": {\"6\": 73, \"13\": 155, \"11\": 3, \"9\": 9}, \"4\": {\"7\": 33, \"10\": 42, \"6\": 2, \"2\": 24, \"8\": 4, \"9\": 43, \"5\": 22, \"14\": 16, \"4\": 33, \"15\": 13, \"1\": 7, \"13\": 1}, \"0\": {\"0\": 193, \"8\": 25, \"1\": 20, \"2\": 1, \"12\": 1}, \"6\": {\"13\": 56, \"9\": 27, \"6\": 156, \"7\": 1}, \"9\": {\"10\": 24, \"14\": 18, \"4\": 20, \"6\": 30, \"13\": 31, \"7\": 60, \"9\": 40, \"5\": 12, \"2\": 3, \"15\": 2}, \"11\": {\"11\": 240}, \"10\": {\"14\": 26, \"9\": 42, \"5\": 17, \"10\": 52, \"7\": 63, \"4\": 24, \"1\": 4, \"6\": 3, \"15\": 2, \"2\": 5, \"13\": 1, \"0\": 1}, \"14\": {\"10\": 35, \"14\": 67, \"4\": 39, \"15\": 23, \"5\": 51, \"8\": 1, \"9\": 7, \"7\": 11, \"2\": 5, \"1\": 1}, \"1\": {\"1\": 106, \"15\": 12, \"8\": 49, \"0\": 33, \"2\": 34, \"4\": 1, \"14\": 3, \"5\": 2}, \"3\": {\"3\": 132, \"12\": 106, \"0\": 2}}}, \"per_domain_accuracy\": {\"C_A_3\": {\"accuracy\": 0.978125, \"source?\": true}, \"C_A_4\": {\"accuracy\": 0.984375, \"source?\": true}, \"W_A_3\": {\"accuracy\": 0.9466145833333334, \"source?\": true}, \"C_A_5\": {\"accuracy\": 0.98125, \"source?\": true}, \"C_A_1\": {\"accuracy\": 0.9859375, \"source?\": true}, \"W_A_4\": {\"accuracy\": 0.916015625, \"source?\": true}, \"W_A_1\": {\"accuracy\": 0.951171875, \"source?\": true}, \"W_A_2\": {\"accuracy\": 0.9290364583333334, \"source?\": true}, \"C_A_2\": {\"accuracy\": 0.990625, \"source?\": true}, \"ORACLE.run1_14\": {\"accuracy\": 0.5067708333333333, \"source?\": false}, \"ORACLE.run1_20\": {\"accuracy\": 0.325, \"source?\": false}, \"ORACLE.run1_38\": {\"accuracy\": 0.5880208333333333, \"source?\": false}, \"ORACLE.run1_8\": {\"accuracy\": 0.49166666666666664, \"source?\": false}, \"ORACLE.run1_50\": {\"accuracy\": 0.5067708333333333, \"source?\": false}, \"ORACLE.run1_32\": {\"accuracy\": 0.56484375, \"source?\": false}, \"ORACLE.run1_26\": {\"accuracy\": 0.37838541666666664, \"source?\": false}, \"ORACLE.run1_44\": {\"accuracy\": 0.459375, \"source?\": false}}}, \"history\": {\"epoch_indices\": [1, 2, 3, 4, 5, 6, 7], \"train_label_loss\": [0.40736201492660484, 0.29839493300516684, 0.2282724922051426, 0.18008859600953517, 0.15949983902065243, 0.141978923637782, 0.12659068876394233], \"source_val_label_loss\": [0.3029879927635193, 0.3233133554458618, 0.2019469141960144, 0.17607481777668, 0.1615774929523468, 0.13231593370437622, 0.13239909708499908], \"target_val_label_loss\": [2.5476877689361572, 2.396632432937622, 2.097357749938965, 2.1113619804382324, 2.16869854927063, 2.180940628051758, 2.097501754760742], \"source_val_acc_label\": [0.9425299657534246, 0.9330051369863014, 0.9522688356164384, 0.9599743150684932, 0.9652183219178082, 0.9702482876712328, 0.9716395547945206], \"target_val_acc_label\": [0.40631510416666666, 0.47216796875, 0.47760416666666666, 0.5031901041666667, 0.49368489583333336, 0.4546875, 0.43798828125]}, \"dataset_metrics\": {\"source\": {\"train\": {\"n_unique_x\": 56700, \"n_unique_y\": 130, \"n_batch/episode\": 2082}, \"val\": {\"n_unique_x\": 12132, \"n_unique_y\": 130, \"n_batch/episode\": 292}, \"test\": {\"n_unique_x\": 12132, \"n_unique_y\": 130, \"n_batch/episode\": 292}}, \"target\": {\"train\": {\"n_unique_x\": 179200, \"n_unique_y\": 16, \"n_batch/episode\": 6720}, \"val\": {\"n_unique_x\": 38400, \"n_unique_y\": 16, \"n_batch/episode\": 960}, \"test\": {\"n_unique_x\": 38400, \"n_unique_y\": 16, \"n_batch/episode\": 960}}}}'"
      ]
     },
     "execution_count": 29,
     "metadata": {},
     "output_type": "execute_result"
    }
   ],
   "source": [
    "json.dumps(experiment)"
   ]
  }
 ],
 "metadata": {
  "celltoolbar": "Tags",
  "kernelspec": {
   "display_name": "Python 3 (ipykernel)",
   "language": "python",
   "name": "python3"
  },
  "language_info": {
   "codemirror_mode": {
    "name": "ipython",
    "version": 3
   },
   "file_extension": ".py",
   "mimetype": "text/x-python",
   "name": "python",
   "nbconvert_exporter": "python",
   "pygments_lexer": "ipython3",
   "version": "3.8.10"
  },
  "papermill": {
   "default_parameters": {},
   "duration": 540.359384,
   "end_time": "2022-03-18T07:55:05.371066",
   "environment_variables": {},
   "exception": null,
   "input_path": "/mnt/wd500GB/CSC500/csc500-main/csc500-notebooks/templates/tl_ptn_template.ipynb",
   "output_path": "trial.ipynb",
   "parameters": {
    "parameters": {
     "BEST_MODEL_PATH": "./best_model.pth",
     "NUM_LOGS_PER_EPOCH": 10,
     "criteria_for_best": "target_loss",
     "dataset_seed": 1337,
     "datasets": [
      {
       "domain_prefix": "C_A_",
       "domains": [
        1,
        2,
        3,
        4,
        5
       ],
       "episode_transforms": [],
       "labels": [
        "1-10.",
        "1-11.",
        "1-15.",
        "1-16.",
        "1-17.",
        "1-18.",
        "1-19.",
        "10-4.",
        "10-7.",
        "11-1.",
        "11-14.",
        "11-17.",
        "11-20.",
        "11-7.",
        "13-20.",
        "13-8.",
        "14-10.",
        "14-11.",
        "14-14.",
        "14-7.",
        "15-1.",
        "15-20.",
        "16-1.",
        "16-16.",
        "17-10.",
        "17-11.",
        "17-2.",
        "19-1.",
        "19-16.",
        "19-19.",
        "19-20.",
        "19-3.",
        "2-10.",
        "2-11.",
        "2-17.",
        "2-18.",
        "2-20.",
        "2-3.",
        "2-4.",
        "2-5.",
        "2-6.",
        "2-7.",
        "2-8.",
        "3-13.",
        "3-18.",
        "3-3.",
        "4-1.",
        "4-10.",
        "4-11.",
        "4-19.",
        "5-5.",
        "6-15.",
        "7-10.",
        "7-14.",
        "8-18.",
        "8-20.",
        "8-3.",
        "8-8."
       ],
       "num_examples_per_domain_per_label": 100,
       "pickle_path": "/mnt/wd500GB/CSC500/csc500-main/datasets/cores.stratified_ds.2022A.pkl",
       "source_or_target_dataset": "source",
       "x_transforms": [
        "jitter_256_10",
        "take_200"
       ]
      },
      {
       "domain_prefix": "W_A_",
       "domains": [
        1,
        2,
        3,
        4
       ],
       "episode_transforms": [],
       "labels": [
        "1-10",
        "1-12",
        "1-14",
        "1-16",
        "1-18",
        "1-19",
        "1-8",
        "10-11",
        "10-17",
        "10-4",
        "10-7",
        "11-1",
        "11-10",
        "11-19",
        "11-20",
        "11-4",
        "11-7",
        "12-19",
        "12-20",
        "12-7",
        "13-14",
        "13-18",
        "13-19",
        "13-20",
        "13-3",
        "13-7",
        "14-10",
        "14-11",
        "14-12",
        "14-13",
        "14-14",
        "14-19",
        "14-20",
        "14-7",
        "14-8",
        "14-9",
        "15-1",
        "15-19",
        "15-6",
        "16-1",
        "16-16",
        "16-19",
        "16-20",
        "17-10",
        "17-11",
        "18-1",
        "18-10",
        "18-11",
        "18-12",
        "18-13",
        "18-14",
        "18-15",
        "18-16",
        "18-17",
        "18-19",
        "18-2",
        "18-20",
        "18-4",
        "18-5",
        "18-7",
        "18-8",
        "18-9",
        "19-1",
        "19-10",
        "19-11",
        "19-12",
        "19-13",
        "19-14",
        "19-15",
        "19-19",
        "19-2",
        "19-20",
        "19-3",
        "19-4",
        "19-6",
        "19-7",
        "19-8",
        "19-9",
        "2-1",
        "2-13",
        "2-15",
        "2-3",
        "2-4",
        "2-5",
        "2-6",
        "2-7",
        "2-8",
        "20-1",
        "20-12",
        "20-14",
        "20-15",
        "20-16",
        "20-18",
        "20-19",
        "20-20",
        "20-3",
        "20-4",
        "20-5",
        "20-7",
        "20-8",
        "3-1",
        "3-13",
        "3-18",
        "3-2",
        "3-8",
        "4-1",
        "4-10",
        "4-11",
        "5-1",
        "5-5",
        "6-1",
        "6-15",
        "6-6",
        "7-10",
        "7-11",
        "7-12",
        "7-13",
        "7-14",
        "7-7",
        "7-8",
        "7-9",
        "8-1",
        "8-13",
        "8-14",
        "8-18",
        "8-20",
        "8-3",
        "8-8",
        "9-1",
        "9-7"
       ],
       "num_examples_per_domain_per_label": 100,
       "pickle_path": "/mnt/wd500GB/CSC500/csc500-main/datasets/wisig.node3-19.stratified_ds.2022A.pkl",
       "source_or_target_dataset": "source",
       "x_transforms": [
        "jitter_256_10",
        "take_200"
       ]
      },
      {
       "domain_prefix": "ORACLE.run1_",
       "domains": [
        32,
        38,
        8,
        44,
        14,
        50,
        20,
        26
       ],
       "episode_transforms": [],
       "labels": [
        "3123D52",
        "3123D65",
        "3123D79",
        "3123D80",
        "3123D54",
        "3123D70",
        "3123D7B",
        "3123D89",
        "3123D58",
        "3123D76",
        "3123D7D",
        "3123EFE",
        "3123D64",
        "3123D78",
        "3123D7E",
        "3124E4A"
       ],
       "num_examples_per_domain_per_label": 2000,
       "pickle_path": "/mnt/wd500GB/CSC500/csc500-main/datasets/oracle.Run1_framed_2000Examples_stratified_ds.2022A.pkl",
       "source_or_target_dataset": "target",
       "x_transforms": [
        "jitter_256_10",
        "take_200",
        "resample_20Msps_to_25Msps"
       ]
      }
     ],
     "device": "cuda",
     "experiment_name": "tl_3-jitter10:cores+wisig -> oracle.run1.framed",
     "lr": 0.001,
     "n_epoch": 50,
     "n_query": 2,
     "n_shot": 3,
     "n_way": 16,
     "patience": 3,
     "seed": 1337,
     "test_k_factor": 2,
     "torch_default_dtype": "torch.float32",
     "train_k_factor": 3,
     "val_k_factor": 2,
     "x_net": [
      {
       "class": "nnReshape",
       "kargs": {
        "shape": [
         -1,
         1,
         2,
         256
        ]
       }
      },
      {
       "class": "Conv2d",
       "kargs": {
        "bias": false,
        "in_channels": 1,
        "kernel_size": [
         1,
         7
        ],
        "out_channels": 256,
        "padding": [
         0,
         3
        ]
       }
      },
      {
       "class": "ReLU",
       "kargs": {
        "inplace": true
       }
      },
      {
       "class": "BatchNorm2d",
       "kargs": {
        "num_features": 256
       }
      },
      {
       "class": "Conv2d",
       "kargs": {
        "bias": true,
        "in_channels": 256,
        "kernel_size": [
         2,
         7
        ],
        "out_channels": 80,
        "padding": [
         0,
         3
        ]
       }
      },
      {
       "class": "ReLU",
       "kargs": {
        "inplace": true
       }
      },
      {
       "class": "BatchNorm2d",
       "kargs": {
        "num_features": 80
       }
      },
      {
       "class": "Flatten",
       "kargs": {}
      },
      {
       "class": "Linear",
       "kargs": {
        "in_features": 20480,
        "out_features": 256
       }
      },
      {
       "class": "ReLU",
       "kargs": {
        "inplace": true
       }
      },
      {
       "class": "BatchNorm1d",
       "kargs": {
        "num_features": 256
       }
      },
      {
       "class": "Linear",
       "kargs": {
        "in_features": 256,
        "out_features": 256
       }
      }
     ]
    }
   },
   "start_time": "2022-03-18T07:46:05.011682",
   "version": "2.3.4"
  }
 },
 "nbformat": 4,
 "nbformat_minor": 5
}