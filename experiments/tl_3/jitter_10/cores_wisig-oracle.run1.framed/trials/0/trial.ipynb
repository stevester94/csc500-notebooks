{
 "cells": [
  {
   "cell_type": "markdown",
   "id": "9fea5f46",
   "metadata": {
    "papermill": {
     "duration": 0.019409,
     "end_time": "2022-03-18T07:28:19.898215",
     "exception": false,
     "start_time": "2022-03-18T07:28:19.878806",
     "status": "completed"
    },
    "tags": []
   },
   "source": [
    "# Transfer Learning Template"
   ]
  },
  {
   "cell_type": "code",
   "execution_count": 1,
   "id": "0902182a",
   "metadata": {
    "execution": {
     "iopub.execute_input": "2022-03-18T07:28:19.938761Z",
     "iopub.status.busy": "2022-03-18T07:28:19.938373Z",
     "iopub.status.idle": "2022-03-18T07:28:20.839170Z",
     "shell.execute_reply": "2022-03-18T07:28:20.838864Z"
    },
    "papermill": {
     "duration": 0.928341,
     "end_time": "2022-03-18T07:28:20.839254",
     "exception": false,
     "start_time": "2022-03-18T07:28:19.910913",
     "status": "completed"
    },
    "tags": []
   },
   "outputs": [],
   "source": [
    "%load_ext autoreload\n",
    "%autoreload 2\n",
    "%matplotlib inline\n",
    "\n",
    "    \n",
    "import os, json, sys, time, random\n",
    "import numpy as np\n",
    "import torch\n",
    "from torch.optim import Adam\n",
    "from  easydict import EasyDict\n",
    "import matplotlib.pyplot as plt\n",
    "\n",
    "from steves_models.steves_ptn import Steves_Prototypical_Network\n",
    "\n",
    "from steves_utils.lazy_iterable_wrapper import Lazy_Iterable_Wrapper\n",
    "from steves_utils.iterable_aggregator import Iterable_Aggregator\n",
    "from steves_utils.ptn_train_eval_test_jig import  PTN_Train_Eval_Test_Jig\n",
    "from steves_utils.torch_sequential_builder import build_sequential\n",
    "from steves_utils.torch_utils import get_dataset_metrics, ptn_confusion_by_domain_over_dataloader\n",
    "from steves_utils.utils_v2 import (per_domain_accuracy_from_confusion, get_datasets_base_path)\n",
    "from steves_utils.PTN.utils import independent_accuracy_assesment\n",
    "\n",
    "from torch.utils.data import DataLoader\n",
    "\n",
    "from steves_utils.stratified_dataset.episodic_accessor import Episodic_Accessor_Factory\n",
    "\n",
    "from steves_utils.ptn_do_report import (\n",
    "    get_loss_curve,\n",
    "    get_results_table,\n",
    "    get_parameters_table,\n",
    "    get_domain_accuracies,\n",
    ")\n",
    "\n",
    "from steves_utils.transforms import get_chained_transform"
   ]
  },
  {
   "cell_type": "markdown",
   "id": "41c840b4",
   "metadata": {
    "papermill": {
     "duration": 0.013433,
     "end_time": "2022-03-18T07:28:20.866601",
     "exception": false,
     "start_time": "2022-03-18T07:28:20.853168",
     "status": "completed"
    },
    "tags": []
   },
   "source": [
    "# Allowed Parameters\n",
    "These are allowed parameters, not defaults\n",
    "Each of these values need to be present in the injected parameters (the notebook will raise an exception if they are not present)\n",
    "\n",
    "Papermill uses the cell tag \"parameters\" to inject the real parameters below this cell.\n",
    "Enable tags to see what I mean"
   ]
  },
  {
   "cell_type": "code",
   "execution_count": 2,
   "id": "fd44eb83",
   "metadata": {
    "execution": {
     "iopub.execute_input": "2022-03-18T07:28:20.895710Z",
     "iopub.status.busy": "2022-03-18T07:28:20.895438Z",
     "iopub.status.idle": "2022-03-18T07:28:20.906110Z",
     "shell.execute_reply": "2022-03-18T07:28:20.906408Z"
    },
    "papermill": {
     "duration": 0.026502,
     "end_time": "2022-03-18T07:28:20.906492",
     "exception": false,
     "start_time": "2022-03-18T07:28:20.879990",
     "status": "completed"
    },
    "tags": []
   },
   "outputs": [],
   "source": [
    "required_parameters = {\n",
    "    \"experiment_name\",\n",
    "    \"lr\",\n",
    "    \"device\",\n",
    "    \"seed\",\n",
    "    \"dataset_seed\",\n",
    "    \"n_shot\",\n",
    "    \"n_query\",\n",
    "    \"n_way\",\n",
    "    \"train_k_factor\",\n",
    "    \"val_k_factor\",\n",
    "    \"test_k_factor\",\n",
    "    \"n_epoch\",\n",
    "    \"patience\",\n",
    "    \"criteria_for_best\",\n",
    "    \"x_net\",\n",
    "    \"datasets\",\n",
    "    \"torch_default_dtype\",\n",
    "    \"NUM_LOGS_PER_EPOCH\",\n",
    "    \"BEST_MODEL_PATH\",\n",
    "    \"x_shape\",\n",
    "}"
   ]
  },
  {
   "cell_type": "code",
   "execution_count": 3,
   "id": "fa3f0049",
   "metadata": {
    "execution": {
     "iopub.execute_input": "2022-03-18T07:28:20.948683Z",
     "iopub.status.busy": "2022-03-18T07:28:20.940195Z",
     "iopub.status.idle": "2022-03-18T07:28:20.961014Z",
     "shell.execute_reply": "2022-03-18T07:28:20.960554Z"
    },
    "papermill": {
     "duration": 0.035873,
     "end_time": "2022-03-18T07:28:20.961105",
     "exception": false,
     "start_time": "2022-03-18T07:28:20.925232",
     "status": "completed"
    },
    "tags": [
     "parameters"
    ]
   },
   "outputs": [],
   "source": [
    "from steves_utils.CORES.utils import (\n",
    "    ALL_NODES,\n",
    "    ALL_NODES_MINIMUM_1000_EXAMPLES,\n",
    "    ALL_DAYS\n",
    ")\n",
    "\n",
    "from steves_utils.ORACLE.utils_v2 import (\n",
    "    ALL_DISTANCES_FEET_NARROWED,\n",
    "    ALL_RUNS,\n",
    "    ALL_SERIAL_NUMBERS,\n",
    ")\n",
    "\n",
    "standalone_parameters = {}\n",
    "standalone_parameters[\"experiment_name\"] = \"STANDALONE PTN\"\n",
    "standalone_parameters[\"lr\"] = 0.001\n",
    "standalone_parameters[\"device\"] = \"cuda\"\n",
    "\n",
    "standalone_parameters[\"seed\"] = 1337\n",
    "standalone_parameters[\"dataset_seed\"] = 1337\n",
    "\n",
    "standalone_parameters[\"n_way\"] = 8\n",
    "standalone_parameters[\"n_shot\"] = 3\n",
    "standalone_parameters[\"n_query\"]  = 2\n",
    "standalone_parameters[\"train_k_factor\"] = 1\n",
    "standalone_parameters[\"val_k_factor\"] = 2\n",
    "standalone_parameters[\"test_k_factor\"] = 2\n",
    "\n",
    "\n",
    "standalone_parameters[\"n_epoch\"] = 50\n",
    "\n",
    "standalone_parameters[\"patience\"] = 10\n",
    "standalone_parameters[\"criteria_for_best\"] = \"source_loss\"\n",
    "\n",
    "standalone_parameters[\"datasets\"] = [\n",
    "    {\n",
    "        \"labels\": ALL_SERIAL_NUMBERS,\n",
    "        \"domains\": ALL_DISTANCES_FEET_NARROWED,\n",
    "        \"num_examples_per_domain_per_label\": 100,\n",
    "        \"pickle_path\": os.path.join(get_datasets_base_path(), \"oracle.Run1_framed_2000Examples_stratified_ds.2022A.pkl\"),\n",
    "        \"source_or_target_dataset\": \"source\",\n",
    "        \"x_transforms\": [\"unit_mag\", \"minus_two\"],\n",
    "        \"episode_transforms\": [],\n",
    "        \"domain_prefix\": \"ORACLE_\"\n",
    "    },\n",
    "    {\n",
    "        \"labels\": ALL_NODES,\n",
    "        \"domains\": ALL_DAYS,\n",
    "        \"num_examples_per_domain_per_label\": 100,\n",
    "        \"pickle_path\": os.path.join(get_datasets_base_path(), \"cores.stratified_ds.2022A.pkl\"),\n",
    "        \"source_or_target_dataset\": \"target\",\n",
    "        \"x_transforms\": [\"unit_power\", \"times_zero\"],\n",
    "        \"episode_transforms\": [],\n",
    "        \"domain_prefix\": \"CORES_\"\n",
    "    }   \n",
    "]\n",
    "\n",
    "standalone_parameters[\"torch_default_dtype\"] = \"torch.float32\" \n",
    "\n",
    "\n",
    "\n",
    "standalone_parameters[\"x_net\"] =     [\n",
    "    {\"class\": \"nnReshape\", \"kargs\": {\"shape\":[-1, 1, 2, 256]}},\n",
    "    {\"class\": \"Conv2d\", \"kargs\": { \"in_channels\":1, \"out_channels\":256, \"kernel_size\":(1,7), \"bias\":False, \"padding\":(0,3), },},\n",
    "    {\"class\": \"ReLU\", \"kargs\": {\"inplace\": True}},\n",
    "    {\"class\": \"BatchNorm2d\", \"kargs\": {\"num_features\":256}},\n",
    "\n",
    "    {\"class\": \"Conv2d\", \"kargs\": { \"in_channels\":256, \"out_channels\":80, \"kernel_size\":(2,7), \"bias\":True, \"padding\":(0,3), },},\n",
    "    {\"class\": \"ReLU\", \"kargs\": {\"inplace\": True}},\n",
    "    {\"class\": \"BatchNorm2d\", \"kargs\": {\"num_features\":80}},\n",
    "    {\"class\": \"Flatten\", \"kargs\": {}},\n",
    "\n",
    "    {\"class\": \"Linear\", \"kargs\": {\"in_features\": 80*256, \"out_features\": 256}}, # 80 units per IQ pair\n",
    "    {\"class\": \"ReLU\", \"kargs\": {\"inplace\": True}},\n",
    "    {\"class\": \"BatchNorm1d\", \"kargs\": {\"num_features\":256}},\n",
    "\n",
    "    {\"class\": \"Linear\", \"kargs\": {\"in_features\": 256, \"out_features\": 256}},\n",
    "]\n",
    "\n",
    "# Parameters relevant to results\n",
    "# These parameters will basically never need to change\n",
    "standalone_parameters[\"NUM_LOGS_PER_EPOCH\"] = 10\n",
    "standalone_parameters[\"BEST_MODEL_PATH\"] = \"./best_model.pth\"\n",
    "\n",
    "\n",
    "\n",
    "\n"
   ]
  },
  {
   "cell_type": "code",
   "execution_count": 4,
   "id": "3a30497a",
   "metadata": {
    "execution": {
     "iopub.execute_input": "2022-03-18T07:28:21.004639Z",
     "iopub.status.busy": "2022-03-18T07:28:21.004309Z",
     "iopub.status.idle": "2022-03-18T07:28:21.017411Z",
     "shell.execute_reply": "2022-03-18T07:28:21.016955Z"
    },
    "papermill": {
     "duration": 0.038186,
     "end_time": "2022-03-18T07:28:21.017501",
     "exception": false,
     "start_time": "2022-03-18T07:28:20.979315",
     "status": "completed"
    },
    "tags": [
     "injected-parameters"
    ]
   },
   "outputs": [],
   "source": [
    "# Parameters\n",
    "parameters = {\n",
    "    \"experiment_name\": \"tl_3-jitter10:cores+wisig -> oracle.run1.framed\",\n",
    "    \"device\": \"cuda\",\n",
    "    \"lr\": 0.001,\n",
    "    \"seed\": 1337,\n",
    "    \"dataset_seed\": 1337,\n",
    "    \"n_shot\": 3,\n",
    "    \"n_query\": 2,\n",
    "    \"train_k_factor\": 3,\n",
    "    \"val_k_factor\": 2,\n",
    "    \"test_k_factor\": 2,\n",
    "    \"torch_default_dtype\": \"torch.float32\",\n",
    "    \"n_epoch\": 50,\n",
    "    \"patience\": 3,\n",
    "    \"criteria_for_best\": \"target_loss\",\n",
    "    \"x_net\": [\n",
    "        {\"class\": \"nnReshape\", \"kargs\": {\"shape\": [-1, 1, 2, 256]}},\n",
    "        {\n",
    "            \"class\": \"Conv2d\",\n",
    "            \"kargs\": {\n",
    "                \"in_channels\": 1,\n",
    "                \"out_channels\": 256,\n",
    "                \"kernel_size\": [1, 7],\n",
    "                \"bias\": False,\n",
    "                \"padding\": [0, 3],\n",
    "            },\n",
    "        },\n",
    "        {\"class\": \"ReLU\", \"kargs\": {\"inplace\": True}},\n",
    "        {\"class\": \"BatchNorm2d\", \"kargs\": {\"num_features\": 256}},\n",
    "        {\n",
    "            \"class\": \"Conv2d\",\n",
    "            \"kargs\": {\n",
    "                \"in_channels\": 256,\n",
    "                \"out_channels\": 80,\n",
    "                \"kernel_size\": [2, 7],\n",
    "                \"bias\": True,\n",
    "                \"padding\": [0, 3],\n",
    "            },\n",
    "        },\n",
    "        {\"class\": \"ReLU\", \"kargs\": {\"inplace\": True}},\n",
    "        {\"class\": \"BatchNorm2d\", \"kargs\": {\"num_features\": 80}},\n",
    "        {\"class\": \"Flatten\", \"kargs\": {}},\n",
    "        {\"class\": \"Linear\", \"kargs\": {\"in_features\": 20480, \"out_features\": 256}},\n",
    "        {\"class\": \"ReLU\", \"kargs\": {\"inplace\": True}},\n",
    "        {\"class\": \"BatchNorm1d\", \"kargs\": {\"num_features\": 256}},\n",
    "        {\"class\": \"Linear\", \"kargs\": {\"in_features\": 256, \"out_features\": 256}},\n",
    "    ],\n",
    "    \"NUM_LOGS_PER_EPOCH\": 10,\n",
    "    \"BEST_MODEL_PATH\": \"./best_model.pth\",\n",
    "    \"n_way\": 16,\n",
    "    \"datasets\": [\n",
    "        {\n",
    "            \"labels\": [\n",
    "                \"1-10.\",\n",
    "                \"1-11.\",\n",
    "                \"1-15.\",\n",
    "                \"1-16.\",\n",
    "                \"1-17.\",\n",
    "                \"1-18.\",\n",
    "                \"1-19.\",\n",
    "                \"10-4.\",\n",
    "                \"10-7.\",\n",
    "                \"11-1.\",\n",
    "                \"11-14.\",\n",
    "                \"11-17.\",\n",
    "                \"11-20.\",\n",
    "                \"11-7.\",\n",
    "                \"13-20.\",\n",
    "                \"13-8.\",\n",
    "                \"14-10.\",\n",
    "                \"14-11.\",\n",
    "                \"14-14.\",\n",
    "                \"14-7.\",\n",
    "                \"15-1.\",\n",
    "                \"15-20.\",\n",
    "                \"16-1.\",\n",
    "                \"16-16.\",\n",
    "                \"17-10.\",\n",
    "                \"17-11.\",\n",
    "                \"17-2.\",\n",
    "                \"19-1.\",\n",
    "                \"19-16.\",\n",
    "                \"19-19.\",\n",
    "                \"19-20.\",\n",
    "                \"19-3.\",\n",
    "                \"2-10.\",\n",
    "                \"2-11.\",\n",
    "                \"2-17.\",\n",
    "                \"2-18.\",\n",
    "                \"2-20.\",\n",
    "                \"2-3.\",\n",
    "                \"2-4.\",\n",
    "                \"2-5.\",\n",
    "                \"2-6.\",\n",
    "                \"2-7.\",\n",
    "                \"2-8.\",\n",
    "                \"3-13.\",\n",
    "                \"3-18.\",\n",
    "                \"3-3.\",\n",
    "                \"4-1.\",\n",
    "                \"4-10.\",\n",
    "                \"4-11.\",\n",
    "                \"4-19.\",\n",
    "                \"5-5.\",\n",
    "                \"6-15.\",\n",
    "                \"7-10.\",\n",
    "                \"7-14.\",\n",
    "                \"8-18.\",\n",
    "                \"8-20.\",\n",
    "                \"8-3.\",\n",
    "                \"8-8.\",\n",
    "            ],\n",
    "            \"domains\": [1, 2, 3, 4, 5],\n",
    "            \"num_examples_per_domain_per_label\": 100,\n",
    "            \"pickle_path\": \"/mnt/wd500GB/CSC500/csc500-main/datasets/cores.stratified_ds.2022A.pkl\",\n",
    "            \"source_or_target_dataset\": \"source\",\n",
    "            \"x_transforms\": [\"unit_power\", \"jitter_256_10\", \"take_200\"],\n",
    "            \"episode_transforms\": [],\n",
    "            \"domain_prefix\": \"C_A_\",\n",
    "        },\n",
    "        {\n",
    "            \"labels\": [\n",
    "                \"1-10\",\n",
    "                \"1-12\",\n",
    "                \"1-14\",\n",
    "                \"1-16\",\n",
    "                \"1-18\",\n",
    "                \"1-19\",\n",
    "                \"1-8\",\n",
    "                \"10-11\",\n",
    "                \"10-17\",\n",
    "                \"10-4\",\n",
    "                \"10-7\",\n",
    "                \"11-1\",\n",
    "                \"11-10\",\n",
    "                \"11-19\",\n",
    "                \"11-20\",\n",
    "                \"11-4\",\n",
    "                \"11-7\",\n",
    "                \"12-19\",\n",
    "                \"12-20\",\n",
    "                \"12-7\",\n",
    "                \"13-14\",\n",
    "                \"13-18\",\n",
    "                \"13-19\",\n",
    "                \"13-20\",\n",
    "                \"13-3\",\n",
    "                \"13-7\",\n",
    "                \"14-10\",\n",
    "                \"14-11\",\n",
    "                \"14-12\",\n",
    "                \"14-13\",\n",
    "                \"14-14\",\n",
    "                \"14-19\",\n",
    "                \"14-20\",\n",
    "                \"14-7\",\n",
    "                \"14-8\",\n",
    "                \"14-9\",\n",
    "                \"15-1\",\n",
    "                \"15-19\",\n",
    "                \"15-6\",\n",
    "                \"16-1\",\n",
    "                \"16-16\",\n",
    "                \"16-19\",\n",
    "                \"16-20\",\n",
    "                \"17-10\",\n",
    "                \"17-11\",\n",
    "                \"18-1\",\n",
    "                \"18-10\",\n",
    "                \"18-11\",\n",
    "                \"18-12\",\n",
    "                \"18-13\",\n",
    "                \"18-14\",\n",
    "                \"18-15\",\n",
    "                \"18-16\",\n",
    "                \"18-17\",\n",
    "                \"18-19\",\n",
    "                \"18-2\",\n",
    "                \"18-20\",\n",
    "                \"18-4\",\n",
    "                \"18-5\",\n",
    "                \"18-7\",\n",
    "                \"18-8\",\n",
    "                \"18-9\",\n",
    "                \"19-1\",\n",
    "                \"19-10\",\n",
    "                \"19-11\",\n",
    "                \"19-12\",\n",
    "                \"19-13\",\n",
    "                \"19-14\",\n",
    "                \"19-15\",\n",
    "                \"19-19\",\n",
    "                \"19-2\",\n",
    "                \"19-20\",\n",
    "                \"19-3\",\n",
    "                \"19-4\",\n",
    "                \"19-6\",\n",
    "                \"19-7\",\n",
    "                \"19-8\",\n",
    "                \"19-9\",\n",
    "                \"2-1\",\n",
    "                \"2-13\",\n",
    "                \"2-15\",\n",
    "                \"2-3\",\n",
    "                \"2-4\",\n",
    "                \"2-5\",\n",
    "                \"2-6\",\n",
    "                \"2-7\",\n",
    "                \"2-8\",\n",
    "                \"20-1\",\n",
    "                \"20-12\",\n",
    "                \"20-14\",\n",
    "                \"20-15\",\n",
    "                \"20-16\",\n",
    "                \"20-18\",\n",
    "                \"20-19\",\n",
    "                \"20-20\",\n",
    "                \"20-3\",\n",
    "                \"20-4\",\n",
    "                \"20-5\",\n",
    "                \"20-7\",\n",
    "                \"20-8\",\n",
    "                \"3-1\",\n",
    "                \"3-13\",\n",
    "                \"3-18\",\n",
    "                \"3-2\",\n",
    "                \"3-8\",\n",
    "                \"4-1\",\n",
    "                \"4-10\",\n",
    "                \"4-11\",\n",
    "                \"5-1\",\n",
    "                \"5-5\",\n",
    "                \"6-1\",\n",
    "                \"6-15\",\n",
    "                \"6-6\",\n",
    "                \"7-10\",\n",
    "                \"7-11\",\n",
    "                \"7-12\",\n",
    "                \"7-13\",\n",
    "                \"7-14\",\n",
    "                \"7-7\",\n",
    "                \"7-8\",\n",
    "                \"7-9\",\n",
    "                \"8-1\",\n",
    "                \"8-13\",\n",
    "                \"8-14\",\n",
    "                \"8-18\",\n",
    "                \"8-20\",\n",
    "                \"8-3\",\n",
    "                \"8-8\",\n",
    "                \"9-1\",\n",
    "                \"9-7\",\n",
    "            ],\n",
    "            \"domains\": [1, 2, 3, 4],\n",
    "            \"num_examples_per_domain_per_label\": 100,\n",
    "            \"pickle_path\": \"/mnt/wd500GB/CSC500/csc500-main/datasets/wisig.node3-19.stratified_ds.2022A.pkl\",\n",
    "            \"source_or_target_dataset\": \"source\",\n",
    "            \"x_transforms\": [\"unit_power\", \"jitter_256_10\", \"take_200\"],\n",
    "            \"episode_transforms\": [],\n",
    "            \"domain_prefix\": \"W_A_\",\n",
    "        },\n",
    "        {\n",
    "            \"labels\": [\n",
    "                \"3123D52\",\n",
    "                \"3123D65\",\n",
    "                \"3123D79\",\n",
    "                \"3123D80\",\n",
    "                \"3123D54\",\n",
    "                \"3123D70\",\n",
    "                \"3123D7B\",\n",
    "                \"3123D89\",\n",
    "                \"3123D58\",\n",
    "                \"3123D76\",\n",
    "                \"3123D7D\",\n",
    "                \"3123EFE\",\n",
    "                \"3123D64\",\n",
    "                \"3123D78\",\n",
    "                \"3123D7E\",\n",
    "                \"3124E4A\",\n",
    "            ],\n",
    "            \"domains\": [32, 38, 8, 44, 14, 50, 20, 26],\n",
    "            \"num_examples_per_domain_per_label\": 2000,\n",
    "            \"pickle_path\": \"/mnt/wd500GB/CSC500/csc500-main/datasets/oracle.Run1_framed_2000Examples_stratified_ds.2022A.pkl\",\n",
    "            \"source_or_target_dataset\": \"target\",\n",
    "            \"x_transforms\": [\n",
    "                \"unit_power\",\n",
    "                \"jitter_256_10\",\n",
    "                \"take_200\",\n",
    "                \"resample_20Msps_to_25Msps\",\n",
    "            ],\n",
    "            \"episode_transforms\": [],\n",
    "            \"domain_prefix\": \"ORACLE.run1_\",\n",
    "        },\n",
    "    ],\n",
    "}\n"
   ]
  },
  {
   "cell_type": "code",
   "execution_count": 5,
   "id": "8fa1cc33",
   "metadata": {
    "execution": {
     "iopub.execute_input": "2022-03-18T07:28:21.052232Z",
     "iopub.status.busy": "2022-03-18T07:28:21.051969Z",
     "iopub.status.idle": "2022-03-18T07:28:21.061996Z",
     "shell.execute_reply": "2022-03-18T07:28:21.062208Z"
    },
    "papermill": {
     "duration": 0.026656,
     "end_time": "2022-03-18T07:28:21.062267",
     "exception": false,
     "start_time": "2022-03-18T07:28:21.035611",
     "status": "completed"
    },
    "tags": []
   },
   "outputs": [],
   "source": [
    "# Set this to True if you want to run this template directly\n",
    "STANDALONE = False\n",
    "if STANDALONE:\n",
    "    print(\"parameters not injected, running with standalone_parameters\")\n",
    "    parameters = standalone_parameters\n",
    "\n",
    "if not 'parameters' in locals() and not 'parameters' in globals():\n",
    "    raise Exception(\"Parameter injection failed\")\n",
    "\n",
    "#Use an easy dict for all the parameters\n",
    "p = EasyDict(parameters)\n",
    "\n",
    "if \"x_shape\" not in p:\n",
    "    p.x_shape = [2,256] # Default to this if we dont supply x_shape\n",
    "\n",
    "\n",
    "supplied_keys = set(p.keys())\n",
    "\n",
    "if  supplied_keys != required_parameters:\n",
    "    print(\"Parameters are incorrect\")\n",
    "    if len(supplied_keys - required_parameters)>0: print(\"Shouldn't have:\", str(supplied_keys - required_parameters))\n",
    "    if len(required_parameters - supplied_keys)>0: print(\"Need to have:\", str(required_parameters - supplied_keys))\n",
    "    raise RuntimeError(\"Parameters are incorrect\")"
   ]
  },
  {
   "cell_type": "code",
   "execution_count": 6,
   "id": "3a028d58",
   "metadata": {
    "execution": {
     "iopub.execute_input": "2022-03-18T07:28:21.095728Z",
     "iopub.status.busy": "2022-03-18T07:28:21.095467Z",
     "iopub.status.idle": "2022-03-18T07:28:21.110090Z",
     "shell.execute_reply": "2022-03-18T07:28:21.109601Z"
    },
    "papermill": {
     "duration": 0.031494,
     "end_time": "2022-03-18T07:28:21.110187",
     "exception": false,
     "start_time": "2022-03-18T07:28:21.078693",
     "status": "completed"
    },
    "tags": []
   },
   "outputs": [],
   "source": [
    "###################################\n",
    "# Set the RNGs and make it all deterministic\n",
    "###################################\n",
    "np.random.seed(p.seed)\n",
    "random.seed(p.seed)\n",
    "torch.manual_seed(p.seed)\n",
    "\n",
    "torch.use_deterministic_algorithms(True) "
   ]
  },
  {
   "cell_type": "code",
   "execution_count": 7,
   "id": "b691acf6",
   "metadata": {
    "execution": {
     "iopub.execute_input": "2022-03-18T07:28:21.145219Z",
     "iopub.status.busy": "2022-03-18T07:28:21.144484Z",
     "iopub.status.idle": "2022-03-18T07:28:21.160494Z",
     "shell.execute_reply": "2022-03-18T07:28:21.160042Z"
    },
    "papermill": {
     "duration": 0.03128,
     "end_time": "2022-03-18T07:28:21.160585",
     "exception": false,
     "start_time": "2022-03-18T07:28:21.129305",
     "status": "completed"
    },
    "tags": []
   },
   "outputs": [],
   "source": [
    "###########################################\n",
    "# The stratified datasets honor this\n",
    "###########################################\n",
    "torch.set_default_dtype(eval(p.torch_default_dtype))"
   ]
  },
  {
   "cell_type": "code",
   "execution_count": 8,
   "id": "b5fba671",
   "metadata": {
    "execution": {
     "iopub.execute_input": "2022-03-18T07:28:21.198099Z",
     "iopub.status.busy": "2022-03-18T07:28:21.197829Z",
     "iopub.status.idle": "2022-03-18T07:28:21.235065Z",
     "shell.execute_reply": "2022-03-18T07:28:21.235449Z"
    },
    "papermill": {
     "duration": 0.055266,
     "end_time": "2022-03-18T07:28:21.235563",
     "exception": false,
     "start_time": "2022-03-18T07:28:21.180297",
     "status": "completed"
    },
    "tags": []
   },
   "outputs": [],
   "source": [
    "###################################\n",
    "# Build the network(s)\n",
    "# Note: It's critical to do this AFTER setting the RNG\n",
    "###################################\n",
    "x_net = build_sequential(p.x_net)"
   ]
  },
  {
   "cell_type": "code",
   "execution_count": 9,
   "id": "5d7e61cc",
   "metadata": {
    "execution": {
     "iopub.execute_input": "2022-03-18T07:28:21.271422Z",
     "iopub.status.busy": "2022-03-18T07:28:21.271152Z",
     "iopub.status.idle": "2022-03-18T07:28:21.285855Z",
     "shell.execute_reply": "2022-03-18T07:28:21.286205Z"
    },
    "papermill": {
     "duration": 0.0313,
     "end_time": "2022-03-18T07:28:21.286313",
     "exception": false,
     "start_time": "2022-03-18T07:28:21.255013",
     "status": "completed"
    },
    "tags": []
   },
   "outputs": [],
   "source": [
    "start_time_secs = time.time()"
   ]
  },
  {
   "cell_type": "code",
   "execution_count": 10,
   "id": "c6b67dfd",
   "metadata": {
    "execution": {
     "iopub.execute_input": "2022-03-18T07:28:21.319679Z",
     "iopub.status.busy": "2022-03-18T07:28:21.319426Z",
     "iopub.status.idle": "2022-03-18T07:28:21.331922Z",
     "shell.execute_reply": "2022-03-18T07:28:21.331673Z"
    },
    "papermill": {
     "duration": 0.027996,
     "end_time": "2022-03-18T07:28:21.331973",
     "exception": false,
     "start_time": "2022-03-18T07:28:21.303977",
     "status": "completed"
    },
    "tags": []
   },
   "outputs": [],
   "source": [
    "p.domains_source = []\n",
    "p.domains_target = []\n",
    "\n",
    "\n",
    "train_original_source = []\n",
    "val_original_source   = []\n",
    "test_original_source  = []\n",
    "\n",
    "train_original_target = []\n",
    "val_original_target   = []\n",
    "test_original_target  = []"
   ]
  },
  {
   "cell_type": "code",
   "execution_count": 11,
   "id": "e3d9c3d3",
   "metadata": {
    "execution": {
     "iopub.execute_input": "2022-03-18T07:28:21.366305Z",
     "iopub.status.busy": "2022-03-18T07:28:21.366054Z",
     "iopub.status.idle": "2022-03-18T07:28:21.380655Z",
     "shell.execute_reply": "2022-03-18T07:28:21.380304Z"
    },
    "papermill": {
     "duration": 0.030053,
     "end_time": "2022-03-18T07:28:21.380726",
     "exception": false,
     "start_time": "2022-03-18T07:28:21.350673",
     "status": "completed"
    },
    "tags": []
   },
   "outputs": [],
   "source": [
    "# global_x_transform_func = lambda x: normalize(x.to(torch.get_default_dtype()), \"unit_power\") # unit_power, unit_mag\n",
    "# global_x_transform_func = lambda x: normalize(x, \"unit_power\") # unit_power, unit_mag"
   ]
  },
  {
   "cell_type": "code",
   "execution_count": 12,
   "id": "acb78fd2",
   "metadata": {
    "execution": {
     "iopub.execute_input": "2022-03-18T07:28:21.419200Z",
     "iopub.status.busy": "2022-03-18T07:28:21.418936Z",
     "iopub.status.idle": "2022-03-18T07:28:21.433258Z",
     "shell.execute_reply": "2022-03-18T07:28:21.432802Z"
    },
    "papermill": {
     "duration": 0.034517,
     "end_time": "2022-03-18T07:28:21.433362",
     "exception": false,
     "start_time": "2022-03-18T07:28:21.398845",
     "status": "completed"
    },
    "tags": []
   },
   "outputs": [],
   "source": [
    "def add_dataset(\n",
    "    labels,\n",
    "    domains,\n",
    "    pickle_path,\n",
    "    x_transforms,\n",
    "    episode_transforms,\n",
    "    domain_prefix,\n",
    "    num_examples_per_domain_per_label,\n",
    "    source_or_target_dataset:str,\n",
    "    iterator_seed=p.seed,\n",
    "    dataset_seed=p.dataset_seed,\n",
    "    n_shot=p.n_shot,\n",
    "    n_way=p.n_way,\n",
    "    n_query=p.n_query,\n",
    "    train_val_test_k_factors=(p.train_k_factor,p.val_k_factor,p.test_k_factor),\n",
    "):\n",
    "   \n",
    "    if x_transforms == []: x_transform = None\n",
    "    else: x_transform = get_chained_transform(x_transforms)\n",
    "    \n",
    "    if episode_transforms == []: episode_transform = None\n",
    "    else: raise Exception(\"episode_transforms not implemented\")\n",
    "    \n",
    "    episode_transform = lambda tup, _prefix=domain_prefix: (_prefix + str(tup[0]), tup[1])\n",
    "\n",
    "\n",
    "    eaf = Episodic_Accessor_Factory(\n",
    "        labels=labels,\n",
    "        domains=domains,\n",
    "        num_examples_per_domain_per_label=num_examples_per_domain_per_label,\n",
    "        iterator_seed=iterator_seed,\n",
    "        dataset_seed=dataset_seed,\n",
    "        n_shot=n_shot,\n",
    "        n_way=n_way,\n",
    "        n_query=n_query,\n",
    "        train_val_test_k_factors=train_val_test_k_factors,\n",
    "        pickle_path=pickle_path,\n",
    "        x_transform_func=x_transform,\n",
    "    )\n",
    "\n",
    "    train, val, test = eaf.get_train(), eaf.get_val(), eaf.get_test()\n",
    "    train = Lazy_Iterable_Wrapper(train, episode_transform)\n",
    "    val = Lazy_Iterable_Wrapper(val, episode_transform)\n",
    "    test = Lazy_Iterable_Wrapper(test, episode_transform)\n",
    "\n",
    "    if source_or_target_dataset==\"source\":\n",
    "        train_original_source.append(train)\n",
    "        val_original_source.append(val)\n",
    "        test_original_source.append(test)\n",
    "\n",
    "        p.domains_source.extend(\n",
    "            [domain_prefix + str(u) for u in domains]\n",
    "        )\n",
    "    elif source_or_target_dataset==\"target\":\n",
    "        train_original_target.append(train)\n",
    "        val_original_target.append(val)\n",
    "        test_original_target.append(test)\n",
    "        p.domains_target.extend(\n",
    "            [domain_prefix + str(u) for u in domains]\n",
    "        )\n",
    "    else:\n",
    "        raise Exception(f\"invalid source_or_target_dataset: {source_or_target_dataset}\")\n",
    "    "
   ]
  },
  {
   "cell_type": "code",
   "execution_count": 13,
   "id": "fe266617",
   "metadata": {
    "execution": {
     "iopub.execute_input": "2022-03-18T07:28:21.466994Z",
     "iopub.status.busy": "2022-03-18T07:28:21.466657Z",
     "iopub.status.idle": "2022-03-18T07:29:19.688654Z",
     "shell.execute_reply": "2022-03-18T07:29:19.688163Z"
    },
    "papermill": {
     "duration": 58.236899,
     "end_time": "2022-03-18T07:29:19.688756",
     "exception": false,
     "start_time": "2022-03-18T07:28:21.451857",
     "status": "completed"
    },
    "tags": []
   },
   "outputs": [],
   "source": [
    "for ds in p.datasets:\n",
    "    add_dataset(**ds)"
   ]
  },
  {
   "cell_type": "code",
   "execution_count": 14,
   "id": "b90d65ac",
   "metadata": {
    "execution": {
     "iopub.execute_input": "2022-03-18T07:29:19.721235Z",
     "iopub.status.busy": "2022-03-18T07:29:19.720970Z",
     "iopub.status.idle": "2022-03-18T07:29:19.735086Z",
     "shell.execute_reply": "2022-03-18T07:29:19.734870Z"
    },
    "papermill": {
     "duration": 0.029411,
     "end_time": "2022-03-18T07:29:19.735136",
     "exception": false,
     "start_time": "2022-03-18T07:29:19.705725",
     "status": "completed"
    },
    "tags": []
   },
   "outputs": [],
   "source": [
    "# from steves_utils.CORES.utils import (\n",
    "#     ALL_NODES,\n",
    "#     ALL_NODES_MINIMUM_1000_EXAMPLES,\n",
    "#     ALL_DAYS\n",
    "# )\n",
    "\n",
    "# add_dataset(\n",
    "#     labels=ALL_NODES,\n",
    "#     domains = ALL_DAYS,\n",
    "#     num_examples_per_domain_per_label=100,\n",
    "#     pickle_path=os.path.join(get_datasets_base_path(), \"cores.stratified_ds.2022A.pkl\"),\n",
    "#     source_or_target_dataset=\"target\",\n",
    "#     x_transform_func=global_x_transform_func,\n",
    "#     domain_modifier=lambda u: f\"cores_{u}\"\n",
    "# )"
   ]
  },
  {
   "cell_type": "code",
   "execution_count": 15,
   "id": "76db484d",
   "metadata": {
    "execution": {
     "iopub.execute_input": "2022-03-18T07:29:19.767639Z",
     "iopub.status.busy": "2022-03-18T07:29:19.767384Z",
     "iopub.status.idle": "2022-03-18T07:29:19.781372Z",
     "shell.execute_reply": "2022-03-18T07:29:19.780921Z"
    },
    "papermill": {
     "duration": 0.029336,
     "end_time": "2022-03-18T07:29:19.781463",
     "exception": false,
     "start_time": "2022-03-18T07:29:19.752127",
     "status": "completed"
    },
    "tags": []
   },
   "outputs": [],
   "source": [
    "# from steves_utils.ORACLE.utils_v2 import (\n",
    "#     ALL_DISTANCES_FEET,\n",
    "#     ALL_RUNS,\n",
    "#     ALL_SERIAL_NUMBERS,\n",
    "# )\n",
    "\n",
    "\n",
    "# add_dataset(\n",
    "#     labels=ALL_SERIAL_NUMBERS,\n",
    "#     domains = list(set(ALL_DISTANCES_FEET) - {2,62}),\n",
    "#     num_examples_per_domain_per_label=100,\n",
    "#     pickle_path=os.path.join(get_datasets_base_path(), \"oracle.Run2_framed_2000Examples_stratified_ds.2022A.pkl\"),\n",
    "#     source_or_target_dataset=\"source\",\n",
    "#     x_transform_func=global_x_transform_func,\n",
    "#     domain_modifier=lambda u: f\"oracle1_{u}\"\n",
    "# )\n"
   ]
  },
  {
   "cell_type": "code",
   "execution_count": 16,
   "id": "97dea9d2",
   "metadata": {
    "execution": {
     "iopub.execute_input": "2022-03-18T07:29:19.815650Z",
     "iopub.status.busy": "2022-03-18T07:29:19.815226Z",
     "iopub.status.idle": "2022-03-18T07:29:19.829443Z",
     "shell.execute_reply": "2022-03-18T07:29:19.828990Z"
    },
    "papermill": {
     "duration": 0.029644,
     "end_time": "2022-03-18T07:29:19.829532",
     "exception": false,
     "start_time": "2022-03-18T07:29:19.799888",
     "status": "completed"
    },
    "tags": []
   },
   "outputs": [],
   "source": [
    "# from steves_utils.ORACLE.utils_v2 import (\n",
    "#     ALL_DISTANCES_FEET,\n",
    "#     ALL_RUNS,\n",
    "#     ALL_SERIAL_NUMBERS,\n",
    "# )\n",
    "\n",
    "\n",
    "# add_dataset(\n",
    "#     labels=ALL_SERIAL_NUMBERS,\n",
    "#     domains = list(set(ALL_DISTANCES_FEET) - {2,62,56}),\n",
    "#     num_examples_per_domain_per_label=100,\n",
    "#     pickle_path=os.path.join(get_datasets_base_path(), \"oracle.Run2_framed_2000Examples_stratified_ds.2022A.pkl\"),\n",
    "#     source_or_target_dataset=\"source\",\n",
    "#     x_transform_func=global_x_transform_func,\n",
    "#     domain_modifier=lambda u: f\"oracle2_{u}\"\n",
    "# )"
   ]
  },
  {
   "cell_type": "code",
   "execution_count": 17,
   "id": "6f289866",
   "metadata": {
    "execution": {
     "iopub.execute_input": "2022-03-18T07:29:19.863346Z",
     "iopub.status.busy": "2022-03-18T07:29:19.863085Z",
     "iopub.status.idle": "2022-03-18T07:29:19.872837Z",
     "shell.execute_reply": "2022-03-18T07:29:19.872477Z"
    },
    "papermill": {
     "duration": 0.024753,
     "end_time": "2022-03-18T07:29:19.872909",
     "exception": false,
     "start_time": "2022-03-18T07:29:19.848156",
     "status": "completed"
    },
    "tags": []
   },
   "outputs": [],
   "source": [
    "# add_dataset(\n",
    "#     labels=list(range(19)),\n",
    "#     domains = [0,1,2],\n",
    "#     num_examples_per_domain_per_label=100,\n",
    "#     pickle_path=os.path.join(get_datasets_base_path(), \"metehan.stratified_ds.2022A.pkl\"),\n",
    "#     source_or_target_dataset=\"target\",\n",
    "#     x_transform_func=global_x_transform_func,\n",
    "#     domain_modifier=lambda u: f\"met_{u}\"\n",
    "# )"
   ]
  },
  {
   "cell_type": "code",
   "execution_count": 18,
   "id": "86a863c3",
   "metadata": {
    "execution": {
     "iopub.execute_input": "2022-03-18T07:29:19.907613Z",
     "iopub.status.busy": "2022-03-18T07:29:19.907354Z",
     "iopub.status.idle": "2022-03-18T07:29:19.920453Z",
     "shell.execute_reply": "2022-03-18T07:29:19.920210Z"
    },
    "papermill": {
     "duration": 0.028772,
     "end_time": "2022-03-18T07:29:19.920503",
     "exception": false,
     "start_time": "2022-03-18T07:29:19.891731",
     "status": "completed"
    },
    "tags": []
   },
   "outputs": [],
   "source": [
    "# # from steves_utils.wisig.utils import (\n",
    "# #     ALL_NODES_MINIMUM_100_EXAMPLES,\n",
    "# #     ALL_NODES_MINIMUM_500_EXAMPLES,\n",
    "# #     ALL_NODES_MINIMUM_1000_EXAMPLES,\n",
    "# #     ALL_DAYS\n",
    "# # )\n",
    "\n",
    "# import steves_utils.wisig.utils as wisig\n",
    "\n",
    "\n",
    "# add_dataset(\n",
    "#     labels=wisig.ALL_NODES_MINIMUM_100_EXAMPLES,\n",
    "#     domains = wisig.ALL_DAYS,\n",
    "#     num_examples_per_domain_per_label=100,\n",
    "#     pickle_path=os.path.join(get_datasets_base_path(), \"wisig.node3-19.stratified_ds.2022A.pkl\"),\n",
    "#     source_or_target_dataset=\"target\",\n",
    "#     x_transform_func=global_x_transform_func,\n",
    "#     domain_modifier=lambda u: f\"wisig_{u}\"\n",
    "# )"
   ]
  },
  {
   "cell_type": "code",
   "execution_count": 19,
   "id": "fd5442bc",
   "metadata": {
    "execution": {
     "iopub.execute_input": "2022-03-18T07:29:19.953173Z",
     "iopub.status.busy": "2022-03-18T07:29:19.952910Z",
     "iopub.status.idle": "2022-03-18T07:29:19.967067Z",
     "shell.execute_reply": "2022-03-18T07:29:19.966662Z"
    },
    "papermill": {
     "duration": 0.032989,
     "end_time": "2022-03-18T07:29:19.967158",
     "exception": false,
     "start_time": "2022-03-18T07:29:19.934169",
     "status": "completed"
    },
    "tags": []
   },
   "outputs": [],
   "source": [
    "###################################\n",
    "# Build the dataset\n",
    "###################################\n",
    "train_original_source = Iterable_Aggregator(train_original_source, p.seed)\n",
    "val_original_source = Iterable_Aggregator(val_original_source, p.seed)\n",
    "test_original_source = Iterable_Aggregator(test_original_source, p.seed)\n",
    "\n",
    "\n",
    "train_original_target = Iterable_Aggregator(train_original_target, p.seed)\n",
    "val_original_target = Iterable_Aggregator(val_original_target, p.seed)\n",
    "test_original_target = Iterable_Aggregator(test_original_target, p.seed)\n",
    "\n",
    "# For CNN We only use X and Y. And we only train on the source.\n",
    "# Properly form the data using a transform lambda and Lazy_Iterable_Wrapper. Finally wrap them in a dataloader\n",
    "\n",
    "transform_lambda = lambda ex: ex[1] # Original is (<domain>, <episode>) so we strip down to episode only\n",
    "\n",
    "train_processed_source = Lazy_Iterable_Wrapper(train_original_source, transform_lambda)\n",
    "val_processed_source   = Lazy_Iterable_Wrapper(val_original_source, transform_lambda)\n",
    "test_processed_source  = Lazy_Iterable_Wrapper(test_original_source, transform_lambda)\n",
    "\n",
    "train_processed_target = Lazy_Iterable_Wrapper(train_original_target, transform_lambda)\n",
    "val_processed_target   = Lazy_Iterable_Wrapper(val_original_target, transform_lambda)\n",
    "test_processed_target  = Lazy_Iterable_Wrapper(test_original_target, transform_lambda)\n",
    "\n",
    "datasets = EasyDict({\n",
    "    \"source\": {\n",
    "        \"original\": {\"train\":train_original_source, \"val\":val_original_source, \"test\":test_original_source},\n",
    "        \"processed\": {\"train\":train_processed_source, \"val\":val_processed_source, \"test\":test_processed_source}\n",
    "    },\n",
    "    \"target\": {\n",
    "        \"original\": {\"train\":train_original_target, \"val\":val_original_target, \"test\":test_original_target},\n",
    "        \"processed\": {\"train\":train_processed_target, \"val\":val_processed_target, \"test\":test_processed_target}\n",
    "    },\n",
    "})"
   ]
  },
  {
   "cell_type": "code",
   "execution_count": 20,
   "id": "5b3c01fc",
   "metadata": {
    "execution": {
     "iopub.execute_input": "2022-03-18T07:29:20.000903Z",
     "iopub.status.busy": "2022-03-18T07:29:20.000652Z",
     "iopub.status.idle": "2022-03-18T07:29:24.751607Z",
     "shell.execute_reply": "2022-03-18T07:29:24.751979Z"
    },
    "papermill": {
     "duration": 4.767243,
     "end_time": "2022-03-18T07:29:24.752087",
     "exception": false,
     "start_time": "2022-03-18T07:29:19.984844",
     "status": "completed"
    },
    "tags": []
   },
   "outputs": [
    {
     "name": "stdout",
     "output_type": "stream",
     "text": [
      "{'C_A_2', 'C_A_4', 'W_A_3', 'W_A_1', 'C_A_1', 'W_A_2', 'C_A_3', 'W_A_4', 'C_A_5'}\n"
     ]
    },
    {
     "name": "stdout",
     "output_type": "stream",
     "text": [
      "{'ORACLE.run1_44', 'ORACLE.run1_26', 'ORACLE.run1_38', 'ORACLE.run1_20', 'ORACLE.run1_32', 'ORACLE.run1_50', 'ORACLE.run1_14', 'ORACLE.run1_8'}\n"
     ]
    },
    {
     "name": "stdout",
     "output_type": "stream",
     "text": [
      "tensor([[[0., 0., 0.,  ..., 0., 0., 0.],\n",
      "         [0., 0., 0.,  ..., 0., 0., 0.]],\n",
      "\n",
      "        [[0., 0., 0.,  ..., 0., 0., 0.],\n",
      "         [0., 0., 0.,  ..., 0., 0., 0.]],\n",
      "\n",
      "        [[0., 0., 0.,  ..., 0., 0., 0.],\n",
      "         [0., 0., 0.,  ..., 0., 0., 0.]],\n",
      "\n",
      "        ...,\n",
      "\n",
      "        [[0., 0., 0.,  ..., 0., 0., 0.],\n",
      "         [0., 0., 0.,  ..., 0., 0., 0.]],\n",
      "\n",
      "        [[0., 0., 0.,  ..., 0., 0., 0.],\n",
      "         [0., 0., 0.,  ..., 0., 0., 0.]],\n",
      "\n",
      "        [[0., 0., 0.,  ..., 0., 0., 0.],\n",
      "         [0., 0., 0.,  ..., 0., 0., 0.]]])\n"
     ]
    }
   ],
   "source": [
    "from steves_utils.transforms import get_average_magnitude, get_average_power\n",
    "\n",
    "print(set([u for u,_ in val_original_source]))\n",
    "print(set([u for u,_ in val_original_target]))\n",
    "\n",
    "s_x, s_y, q_x, q_y, _ = next(iter(train_processed_source))\n",
    "print(s_x)\n",
    "\n",
    "# for ds in [\n",
    "#     train_processed_source,\n",
    "#     val_processed_source,\n",
    "#     test_processed_source,\n",
    "#     train_processed_target,\n",
    "#     val_processed_target,\n",
    "#     test_processed_target\n",
    "# ]:\n",
    "#     for s_x, s_y, q_x, q_y, _ in ds:\n",
    "#         for X in (s_x, q_x):\n",
    "#             for x in X:\n",
    "#                 assert np.isclose(get_average_magnitude(x.numpy()), 1.0)\n",
    "#                 assert np.isclose(get_average_power(x.numpy()), 1.0)\n",
    "                "
   ]
  },
  {
   "cell_type": "code",
   "execution_count": 21,
   "id": "bbdacba1",
   "metadata": {
    "execution": {
     "iopub.execute_input": "2022-03-18T07:29:24.794814Z",
     "iopub.status.busy": "2022-03-18T07:29:24.794459Z",
     "iopub.status.idle": "2022-03-18T07:29:24.856434Z",
     "shell.execute_reply": "2022-03-18T07:29:24.856872Z"
    },
    "papermill": {
     "duration": 0.080242,
     "end_time": "2022-03-18T07:29:24.857000",
     "exception": false,
     "start_time": "2022-03-18T07:29:24.776758",
     "status": "completed"
    },
    "tags": []
   },
   "outputs": [
    {
     "name": "stdout",
     "output_type": "stream",
     "text": [
      "(2, 256)\n"
     ]
    }
   ],
   "source": [
    "###################################\n",
    "# Build the model\n",
    "###################################\n",
    "# easfsl only wants a tuple for the shape\n",
    "model = Steves_Prototypical_Network(x_net, device=p.device, x_shape=tuple(p.x_shape))\n",
    "optimizer = Adam(params=model.parameters(), lr=p.lr)"
   ]
  },
  {
   "cell_type": "code",
   "execution_count": 22,
   "id": "22b39ac5",
   "metadata": {
    "execution": {
     "iopub.execute_input": "2022-03-18T07:29:24.897351Z",
     "iopub.status.busy": "2022-03-18T07:29:24.895494Z",
     "iopub.status.idle": "2022-03-18T07:37:36.315089Z",
     "shell.execute_reply": "2022-03-18T07:37:36.314665Z"
    },
    "papermill": {
     "duration": 491.435642,
     "end_time": "2022-03-18T07:37:36.315203",
     "exception": false,
     "start_time": "2022-03-18T07:29:24.879561",
     "status": "completed"
    },
    "tags": []
   },
   "outputs": [
    {
     "name": "stdout",
     "output_type": "stream",
     "text": [
      "epoch: 1, [batch: 1 / 2081], examples_per_second: 130.1828, train_label_loss: 2.7437, \n"
     ]
    },
    {
     "name": "stdout",
     "output_type": "stream",
     "text": [
      "epoch: 1, [batch: 209 / 2081], examples_per_second: 3209.2823, train_label_loss: 0.1073, \n"
     ]
    },
    {
     "name": "stdout",
     "output_type": "stream",
     "text": [
      "epoch: 1, [batch: 417 / 2081], examples_per_second: 3223.4864, train_label_loss: 1.2631, \n"
     ]
    },
    {
     "name": "stdout",
     "output_type": "stream",
     "text": [
      "epoch: 1, [batch: 625 / 2081], examples_per_second: 3224.7649, train_label_loss: 0.0839, \n"
     ]
    },
    {
     "name": "stdout",
     "output_type": "stream",
     "text": [
      "epoch: 1, [batch: 833 / 2081], examples_per_second: 3247.9896, train_label_loss: 1.2709, \n"
     ]
    },
    {
     "name": "stdout",
     "output_type": "stream",
     "text": [
      "epoch: 1, [batch: 1041 / 2081], examples_per_second: 3222.6157, train_label_loss: 0.0385, \n"
     ]
    },
    {
     "name": "stdout",
     "output_type": "stream",
     "text": [
      "epoch: 1, [batch: 1249 / 2081], examples_per_second: 3223.6440, train_label_loss: 0.5291, \n"
     ]
    },
    {
     "name": "stdout",
     "output_type": "stream",
     "text": [
      "epoch: 1, [batch: 1457 / 2081], examples_per_second: 3207.9482, train_label_loss: 0.4876, \n"
     ]
    },
    {
     "name": "stdout",
     "output_type": "stream",
     "text": [
      "epoch: 1, [batch: 1665 / 2081], examples_per_second: 3206.2180, train_label_loss: 0.1071, \n"
     ]
    },
    {
     "name": "stdout",
     "output_type": "stream",
     "text": [
      "epoch: 1, [batch: 1873 / 2081], examples_per_second: 3222.3339, train_label_loss: 0.3363, \n"
     ]
    },
    {
     "name": "stdout",
     "output_type": "stream",
     "text": [
      "=============================================================\n",
      "epoch: 1, source_val_acc_label: 0.9364, target_val_acc_label: 0.1993, source_val_label_loss: 0.2873, target_val_label_loss: 2.3803, \n",
      "=============================================================\n"
     ]
    },
    {
     "name": "stdout",
     "output_type": "stream",
     "text": [
      "New best\n"
     ]
    },
    {
     "name": "stdout",
     "output_type": "stream",
     "text": [
      "epoch: 2, [batch: 1 / 2079], examples_per_second: 10.5446, train_label_loss: 0.1155, \n"
     ]
    },
    {
     "name": "stdout",
     "output_type": "stream",
     "text": [
      "epoch: 2, [batch: 208 / 2079], examples_per_second: 3234.2231, train_label_loss: 0.4340, \n"
     ]
    },
    {
     "name": "stdout",
     "output_type": "stream",
     "text": [
      "epoch: 2, [batch: 416 / 2079], examples_per_second: 3236.2827, train_label_loss: 0.0335, \n"
     ]
    },
    {
     "name": "stdout",
     "output_type": "stream",
     "text": [
      "epoch: 2, [batch: 624 / 2079], examples_per_second: 3257.6176, train_label_loss: 0.3140, \n"
     ]
    },
    {
     "name": "stdout",
     "output_type": "stream",
     "text": [
      "epoch: 2, [batch: 832 / 2079], examples_per_second: 3243.9430, train_label_loss: 0.3883, \n"
     ]
    },
    {
     "name": "stdout",
     "output_type": "stream",
     "text": [
      "epoch: 2, [batch: 1040 / 2079], examples_per_second: 3231.4020, train_label_loss: 0.2214, \n"
     ]
    },
    {
     "name": "stdout",
     "output_type": "stream",
     "text": [
      "epoch: 2, [batch: 1247 / 2079], examples_per_second: 3212.0145, train_label_loss: 0.0074, \n"
     ]
    },
    {
     "name": "stdout",
     "output_type": "stream",
     "text": [
      "epoch: 2, [batch: 1455 / 2079], examples_per_second: 3189.5174, train_label_loss: 0.4267, \n"
     ]
    },
    {
     "name": "stdout",
     "output_type": "stream",
     "text": [
      "epoch: 2, [batch: 1663 / 2079], examples_per_second: 3250.9049, train_label_loss: 0.0945, \n"
     ]
    },
    {
     "name": "stdout",
     "output_type": "stream",
     "text": [
      "epoch: 2, [batch: 1871 / 2079], examples_per_second: 3256.7200, train_label_loss: 0.0575, \n"
     ]
    },
    {
     "name": "stdout",
     "output_type": "stream",
     "text": [
      "=============================================================\n",
      "epoch: 2, source_val_acc_label: 0.9576, target_val_acc_label: 0.2317, source_val_label_loss: 0.1946, target_val_label_loss: 2.2953, \n",
      "=============================================================\n"
     ]
    },
    {
     "name": "stdout",
     "output_type": "stream",
     "text": [
      "New best\n"
     ]
    },
    {
     "name": "stdout",
     "output_type": "stream",
     "text": [
      "epoch: 3, [batch: 1 / 2082], examples_per_second: 10.5741, train_label_loss: 0.3422, \n"
     ]
    },
    {
     "name": "stdout",
     "output_type": "stream",
     "text": [
      "epoch: 3, [batch: 209 / 2082], examples_per_second: 3209.5429, train_label_loss: 1.0831, \n"
     ]
    },
    {
     "name": "stdout",
     "output_type": "stream",
     "text": [
      "epoch: 3, [batch: 417 / 2082], examples_per_second: 3233.1290, train_label_loss: 0.3706, \n"
     ]
    },
    {
     "name": "stdout",
     "output_type": "stream",
     "text": [
      "epoch: 3, [batch: 625 / 2082], examples_per_second: 3240.8333, train_label_loss: 0.5634, \n"
     ]
    },
    {
     "name": "stdout",
     "output_type": "stream",
     "text": [
      "epoch: 3, [batch: 833 / 2082], examples_per_second: 3241.1653, train_label_loss: 0.1361, \n"
     ]
    },
    {
     "name": "stdout",
     "output_type": "stream",
     "text": [
      "epoch: 3, [batch: 1041 / 2082], examples_per_second: 3222.0094, train_label_loss: 0.0105, \n"
     ]
    },
    {
     "name": "stdout",
     "output_type": "stream",
     "text": [
      "epoch: 3, [batch: 1249 / 2082], examples_per_second: 3261.2067, train_label_loss: 0.0045, \n"
     ]
    },
    {
     "name": "stdout",
     "output_type": "stream",
     "text": [
      "epoch: 3, [batch: 1457 / 2082], examples_per_second: 3221.9419, train_label_loss: 0.1566, \n"
     ]
    },
    {
     "name": "stdout",
     "output_type": "stream",
     "text": [
      "epoch: 3, [batch: 1665 / 2082], examples_per_second: 3255.2344, train_label_loss: 0.1539, \n"
     ]
    },
    {
     "name": "stdout",
     "output_type": "stream",
     "text": [
      "epoch: 3, [batch: 1873 / 2082], examples_per_second: 3241.6376, train_label_loss: 0.2714, \n"
     ]
    },
    {
     "name": "stdout",
     "output_type": "stream",
     "text": [
      "=============================================================\n",
      "epoch: 3, source_val_acc_label: 0.9594, target_val_acc_label: 0.2371, source_val_label_loss: 0.1803, target_val_label_loss: 2.2466, \n",
      "=============================================================\n"
     ]
    },
    {
     "name": "stdout",
     "output_type": "stream",
     "text": [
      "New best\n"
     ]
    },
    {
     "name": "stdout",
     "output_type": "stream",
     "text": [
      "epoch: 4, [batch: 1 / 2080], examples_per_second: 10.4927, train_label_loss: 0.1588, \n"
     ]
    },
    {
     "name": "stdout",
     "output_type": "stream",
     "text": [
      "epoch: 4, [batch: 208 / 2080], examples_per_second: 3212.7792, train_label_loss: 0.1982, \n"
     ]
    },
    {
     "name": "stdout",
     "output_type": "stream",
     "text": [
      "epoch: 4, [batch: 416 / 2080], examples_per_second: 3248.5383, train_label_loss: 0.0203, \n"
     ]
    },
    {
     "name": "stdout",
     "output_type": "stream",
     "text": [
      "epoch: 4, [batch: 624 / 2080], examples_per_second: 3236.4288, train_label_loss: 0.0223, \n"
     ]
    },
    {
     "name": "stdout",
     "output_type": "stream",
     "text": [
      "epoch: 4, [batch: 832 / 2080], examples_per_second: 3242.4374, train_label_loss: 0.0848, \n"
     ]
    },
    {
     "name": "stdout",
     "output_type": "stream",
     "text": [
      "epoch: 4, [batch: 1040 / 2080], examples_per_second: 3238.2145, train_label_loss: 0.0183, \n"
     ]
    },
    {
     "name": "stdout",
     "output_type": "stream",
     "text": [
      "epoch: 4, [batch: 1248 / 2080], examples_per_second: 3246.8586, train_label_loss: 0.0068, \n"
     ]
    },
    {
     "name": "stdout",
     "output_type": "stream",
     "text": [
      "epoch: 4, [batch: 1456 / 2080], examples_per_second: 3227.1590, train_label_loss: 0.1023, \n"
     ]
    },
    {
     "name": "stdout",
     "output_type": "stream",
     "text": [
      "epoch: 4, [batch: 1664 / 2080], examples_per_second: 3248.9584, train_label_loss: 0.0189, \n"
     ]
    },
    {
     "name": "stdout",
     "output_type": "stream",
     "text": [
      "epoch: 4, [batch: 1872 / 2080], examples_per_second: 3250.6392, train_label_loss: 0.2469, \n"
     ]
    },
    {
     "name": "stdout",
     "output_type": "stream",
     "text": [
      "=============================================================\n",
      "epoch: 4, source_val_acc_label: 0.9666, target_val_acc_label: 0.2499, source_val_label_loss: 0.1565, target_val_label_loss: 2.1751, \n",
      "=============================================================\n"
     ]
    },
    {
     "name": "stdout",
     "output_type": "stream",
     "text": [
      "New best\n"
     ]
    },
    {
     "name": "stdout",
     "output_type": "stream",
     "text": [
      "epoch: 5, [batch: 1 / 2079], examples_per_second: 10.5707, train_label_loss: 0.0046, \n"
     ]
    },
    {
     "name": "stdout",
     "output_type": "stream",
     "text": [
      "epoch: 5, [batch: 208 / 2079], examples_per_second: 3205.5587, train_label_loss: 0.0520, \n"
     ]
    },
    {
     "name": "stdout",
     "output_type": "stream",
     "text": [
      "epoch: 5, [batch: 416 / 2079], examples_per_second: 3240.7806, train_label_loss: 0.0389, \n"
     ]
    },
    {
     "name": "stdout",
     "output_type": "stream",
     "text": [
      "epoch: 5, [batch: 624 / 2079], examples_per_second: 3243.8231, train_label_loss: 0.2372, \n"
     ]
    },
    {
     "name": "stdout",
     "output_type": "stream",
     "text": [
      "epoch: 5, [batch: 832 / 2079], examples_per_second: 3261.1657, train_label_loss: 0.0199, \n"
     ]
    },
    {
     "name": "stdout",
     "output_type": "stream",
     "text": [
      "epoch: 5, [batch: 1040 / 2079], examples_per_second: 3241.3610, train_label_loss: 0.4449, \n"
     ]
    },
    {
     "name": "stdout",
     "output_type": "stream",
     "text": [
      "epoch: 5, [batch: 1247 / 2079], examples_per_second: 3239.9782, train_label_loss: 0.0875, \n"
     ]
    },
    {
     "name": "stdout",
     "output_type": "stream",
     "text": [
      "epoch: 5, [batch: 1455 / 2079], examples_per_second: 3215.3212, train_label_loss: 0.4053, \n"
     ]
    },
    {
     "name": "stdout",
     "output_type": "stream",
     "text": [
      "epoch: 5, [batch: 1663 / 2079], examples_per_second: 3236.3463, train_label_loss: 0.0876, \n"
     ]
    },
    {
     "name": "stdout",
     "output_type": "stream",
     "text": [
      "epoch: 5, [batch: 1871 / 2079], examples_per_second: 3231.9248, train_label_loss: 0.2809, \n"
     ]
    },
    {
     "name": "stdout",
     "output_type": "stream",
     "text": [
      "=============================================================\n",
      "epoch: 5, source_val_acc_label: 0.9669, target_val_acc_label: 0.2340, source_val_label_loss: 0.1531, target_val_label_loss: 2.2537, \n",
      "=============================================================\n"
     ]
    },
    {
     "name": "stdout",
     "output_type": "stream",
     "text": [
      "epoch: 6, [batch: 1 / 2081], examples_per_second: 10.6089, train_label_loss: 0.3755, \n"
     ]
    },
    {
     "name": "stdout",
     "output_type": "stream",
     "text": [
      "epoch: 6, [batch: 209 / 2081], examples_per_second: 3208.7755, train_label_loss: 0.0025, \n"
     ]
    },
    {
     "name": "stdout",
     "output_type": "stream",
     "text": [
      "epoch: 6, [batch: 417 / 2081], examples_per_second: 3240.5715, train_label_loss: 0.0154, \n"
     ]
    },
    {
     "name": "stdout",
     "output_type": "stream",
     "text": [
      "epoch: 6, [batch: 625 / 2081], examples_per_second: 3235.7274, train_label_loss: 0.0024, \n"
     ]
    },
    {
     "name": "stdout",
     "output_type": "stream",
     "text": [
      "epoch: 6, [batch: 833 / 2081], examples_per_second: 3240.6955, train_label_loss: 0.0125, \n"
     ]
    },
    {
     "name": "stdout",
     "output_type": "stream",
     "text": [
      "epoch: 6, [batch: 1041 / 2081], examples_per_second: 3235.4926, train_label_loss: 0.1090, \n"
     ]
    },
    {
     "name": "stdout",
     "output_type": "stream",
     "text": [
      "epoch: 6, [batch: 1249 / 2081], examples_per_second: 3259.4558, train_label_loss: 0.1850, \n"
     ]
    },
    {
     "name": "stdout",
     "output_type": "stream",
     "text": [
      "epoch: 6, [batch: 1457 / 2081], examples_per_second: 3255.3068, train_label_loss: 0.0230, \n"
     ]
    },
    {
     "name": "stdout",
     "output_type": "stream",
     "text": [
      "epoch: 6, [batch: 1665 / 2081], examples_per_second: 3210.5537, train_label_loss: 0.0594, \n"
     ]
    },
    {
     "name": "stdout",
     "output_type": "stream",
     "text": [
      "epoch: 6, [batch: 1873 / 2081], examples_per_second: 3240.2330, train_label_loss: 0.0200, \n"
     ]
    },
    {
     "name": "stdout",
     "output_type": "stream",
     "text": [
      "=============================================================\n",
      "epoch: 6, source_val_acc_label: 0.9656, target_val_acc_label: 0.2330, source_val_label_loss: 0.1674, target_val_label_loss: 2.2729, \n",
      "=============================================================\n"
     ]
    },
    {
     "name": "stdout",
     "output_type": "stream",
     "text": [
      "epoch: 7, [batch: 1 / 2075], examples_per_second: 10.5354, train_label_loss: 0.0073, \n"
     ]
    },
    {
     "name": "stdout",
     "output_type": "stream",
     "text": [
      "epoch: 7, [batch: 208 / 2075], examples_per_second: 3211.6885, train_label_loss: 0.1036, \n"
     ]
    },
    {
     "name": "stdout",
     "output_type": "stream",
     "text": [
      "epoch: 7, [batch: 415 / 2075], examples_per_second: 3233.7377, train_label_loss: 0.0006, \n"
     ]
    },
    {
     "name": "stdout",
     "output_type": "stream",
     "text": [
      "epoch: 7, [batch: 623 / 2075], examples_per_second: 3247.3332, train_label_loss: 0.2732, \n"
     ]
    },
    {
     "name": "stdout",
     "output_type": "stream",
     "text": [
      "epoch: 7, [batch: 830 / 2075], examples_per_second: 3252.8014, train_label_loss: 0.0088, \n"
     ]
    },
    {
     "name": "stdout",
     "output_type": "stream",
     "text": [
      "epoch: 7, [batch: 1038 / 2075], examples_per_second: 3225.1611, train_label_loss: 0.0146, \n"
     ]
    },
    {
     "name": "stdout",
     "output_type": "stream",
     "text": [
      "epoch: 7, [batch: 1245 / 2075], examples_per_second: 3235.8943, train_label_loss: 0.0074, \n"
     ]
    },
    {
     "name": "stdout",
     "output_type": "stream",
     "text": [
      "epoch: 7, [batch: 1452 / 2075], examples_per_second: 3217.3031, train_label_loss: 0.1347, \n"
     ]
    },
    {
     "name": "stdout",
     "output_type": "stream",
     "text": [
      "epoch: 7, [batch: 1660 / 2075], examples_per_second: 3242.1970, train_label_loss: 0.2772, \n"
     ]
    },
    {
     "name": "stdout",
     "output_type": "stream",
     "text": [
      "epoch: 7, [batch: 1867 / 2075], examples_per_second: 3255.6684, train_label_loss: 0.0413, \n"
     ]
    },
    {
     "name": "stdout",
     "output_type": "stream",
     "text": [
      "=============================================================\n",
      "epoch: 7, source_val_acc_label: 0.9621, target_val_acc_label: 0.2353, source_val_label_loss: 0.1836, target_val_label_loss: 2.3309, \n",
      "=============================================================\n"
     ]
    },
    {
     "name": "stdout",
     "output_type": "stream",
     "text": [
      "epoch: 8, [batch: 1 / 2082], examples_per_second: 10.6194, train_label_loss: 0.0439, \n"
     ]
    },
    {
     "name": "stdout",
     "output_type": "stream",
     "text": [
      "epoch: 8, [batch: 209 / 2082], examples_per_second: 3219.7646, train_label_loss: 0.0049, \n"
     ]
    },
    {
     "name": "stdout",
     "output_type": "stream",
     "text": [
      "epoch: 8, [batch: 417 / 2082], examples_per_second: 3235.0743, train_label_loss: 0.0645, \n"
     ]
    },
    {
     "name": "stdout",
     "output_type": "stream",
     "text": [
      "epoch: 8, [batch: 625 / 2082], examples_per_second: 3253.1609, train_label_loss: 0.1190, \n"
     ]
    },
    {
     "name": "stdout",
     "output_type": "stream",
     "text": [
      "epoch: 8, [batch: 833 / 2082], examples_per_second: 3246.7917, train_label_loss: 0.0002, \n"
     ]
    },
    {
     "name": "stdout",
     "output_type": "stream",
     "text": [
      "epoch: 8, [batch: 1041 / 2082], examples_per_second: 3235.5030, train_label_loss: 0.0179, \n"
     ]
    },
    {
     "name": "stdout",
     "output_type": "stream",
     "text": [
      "epoch: 8, [batch: 1249 / 2082], examples_per_second: 3246.2791, train_label_loss: 0.0010, \n"
     ]
    },
    {
     "name": "stdout",
     "output_type": "stream",
     "text": [
      "epoch: 8, [batch: 1457 / 2082], examples_per_second: 3252.3860, train_label_loss: 0.0003, \n"
     ]
    },
    {
     "name": "stdout",
     "output_type": "stream",
     "text": [
      "epoch: 8, [batch: 1665 / 2082], examples_per_second: 3213.2752, train_label_loss: 0.0513, \n"
     ]
    },
    {
     "name": "stdout",
     "output_type": "stream",
     "text": [
      "epoch: 8, [batch: 1873 / 2082], examples_per_second: 3242.3241, train_label_loss: 0.0682, \n"
     ]
    },
    {
     "name": "stdout",
     "output_type": "stream",
     "text": [
      "=============================================================\n",
      "epoch: 8, source_val_acc_label: 0.9690, target_val_acc_label: 0.2278, source_val_label_loss: 0.1671, target_val_label_loss: 2.3881, \n",
      "=============================================================\n"
     ]
    },
    {
     "name": "stdout",
     "output_type": "stream",
     "text": [
      "Patience (3) exhausted\n"
     ]
    }
   ],
   "source": [
    "###################################\n",
    "# train\n",
    "###################################\n",
    "jig = PTN_Train_Eval_Test_Jig(model, p.BEST_MODEL_PATH, p.device)\n",
    "\n",
    "jig.train(\n",
    "    train_iterable=datasets.source.processed.train,\n",
    "    source_val_iterable=datasets.source.processed.val,\n",
    "    target_val_iterable=datasets.target.processed.val,\n",
    "    num_epochs=p.n_epoch,\n",
    "    num_logs_per_epoch=p.NUM_LOGS_PER_EPOCH,\n",
    "    patience=p.patience,\n",
    "    optimizer=optimizer,\n",
    "    criteria_for_best=p.criteria_for_best,\n",
    ")"
   ]
  },
  {
   "cell_type": "code",
   "execution_count": 23,
   "id": "31e8fabf",
   "metadata": {
    "execution": {
     "iopub.execute_input": "2022-03-18T07:37:36.388561Z",
     "iopub.status.busy": "2022-03-18T07:37:36.388296Z",
     "iopub.status.idle": "2022-03-18T07:37:36.403782Z",
     "shell.execute_reply": "2022-03-18T07:37:36.404156Z"
    },
    "papermill": {
     "duration": 0.05068,
     "end_time": "2022-03-18T07:37:36.404275",
     "exception": false,
     "start_time": "2022-03-18T07:37:36.353595",
     "status": "completed"
    },
    "tags": []
   },
   "outputs": [],
   "source": [
    "total_experiment_time_secs = time.time() - start_time_secs"
   ]
  },
  {
   "cell_type": "code",
   "execution_count": 24,
   "id": "87b9595b",
   "metadata": {
    "execution": {
     "iopub.execute_input": "2022-03-18T07:37:36.480231Z",
     "iopub.status.busy": "2022-03-18T07:37:36.479914Z",
     "iopub.status.idle": "2022-03-18T07:38:41.166174Z",
     "shell.execute_reply": "2022-03-18T07:38:41.165914Z"
    },
    "papermill": {
     "duration": 64.724172,
     "end_time": "2022-03-18T07:38:41.166239",
     "exception": false,
     "start_time": "2022-03-18T07:37:36.442067",
     "status": "completed"
    },
    "tags": []
   },
   "outputs": [],
   "source": [
    "###################################\n",
    "# Evaluate the model\n",
    "###################################\n",
    "source_test_label_accuracy, source_test_label_loss = jig.test(datasets.source.processed.test)\n",
    "target_test_label_accuracy, target_test_label_loss = jig.test(datasets.target.processed.test)\n",
    "\n",
    "source_val_label_accuracy, source_val_label_loss = jig.test(datasets.source.processed.val)\n",
    "target_val_label_accuracy, target_val_label_loss = jig.test(datasets.target.processed.val)\n",
    "\n",
    "history = jig.get_history()\n",
    "\n",
    "total_epochs_trained = len(history[\"epoch_indices\"])\n",
    "\n",
    "val_dl = Iterable_Aggregator((datasets.source.original.val,datasets.target.original.val))\n",
    "\n",
    "confusion = ptn_confusion_by_domain_over_dataloader(model, p.device, val_dl)\n",
    "per_domain_accuracy = per_domain_accuracy_from_confusion(confusion)\n",
    "\n",
    "# Add a key to per_domain_accuracy for if it was a source domain\n",
    "for domain, accuracy in per_domain_accuracy.items():\n",
    "    per_domain_accuracy[domain] = {\n",
    "        \"accuracy\": accuracy,\n",
    "        \"source?\": domain in p.domains_source\n",
    "    }\n",
    "\n",
    "# Do an independent accuracy assesment JUST TO BE SURE!\n",
    "# _source_test_label_accuracy = independent_accuracy_assesment(model, datasets.source.processed.test, p.device)\n",
    "# _target_test_label_accuracy = independent_accuracy_assesment(model, datasets.target.processed.test, p.device)\n",
    "# _source_val_label_accuracy = independent_accuracy_assesment(model, datasets.source.processed.val, p.device)\n",
    "# _target_val_label_accuracy = independent_accuracy_assesment(model, datasets.target.processed.val, p.device)\n",
    "\n",
    "# assert(_source_test_label_accuracy == source_test_label_accuracy)\n",
    "# assert(_target_test_label_accuracy == target_test_label_accuracy)\n",
    "# assert(_source_val_label_accuracy == source_val_label_accuracy)\n",
    "# assert(_target_val_label_accuracy == target_val_label_accuracy)\n",
    "\n",
    "experiment = {\n",
    "    \"experiment_name\": p.experiment_name,\n",
    "    \"parameters\": dict(p),\n",
    "    \"results\": {\n",
    "        \"source_test_label_accuracy\": source_test_label_accuracy,\n",
    "        \"source_test_label_loss\": source_test_label_loss,\n",
    "        \"target_test_label_accuracy\": target_test_label_accuracy,\n",
    "        \"target_test_label_loss\": target_test_label_loss,\n",
    "        \"source_val_label_accuracy\": source_val_label_accuracy,\n",
    "        \"source_val_label_loss\": source_val_label_loss,\n",
    "        \"target_val_label_accuracy\": target_val_label_accuracy,\n",
    "        \"target_val_label_loss\": target_val_label_loss,\n",
    "        \"total_epochs_trained\": total_epochs_trained,\n",
    "        \"total_experiment_time_secs\": total_experiment_time_secs,\n",
    "        \"confusion\": confusion,\n",
    "        \"per_domain_accuracy\": per_domain_accuracy,\n",
    "    },\n",
    "    \"history\": history,\n",
    "    \"dataset_metrics\": get_dataset_metrics(datasets, \"ptn\"),\n",
    "}"
   ]
  },
  {
   "cell_type": "code",
   "execution_count": 25,
   "id": "54a21829",
   "metadata": {
    "execution": {
     "iopub.execute_input": "2022-03-18T07:38:41.242223Z",
     "iopub.status.busy": "2022-03-18T07:38:41.241960Z",
     "iopub.status.idle": "2022-03-18T07:38:41.370692Z",
     "shell.execute_reply": "2022-03-18T07:38:41.371115Z"
    },
    "papermill": {
     "duration": 0.172259,
     "end_time": "2022-03-18T07:38:41.371274",
     "exception": false,
     "start_time": "2022-03-18T07:38:41.199015",
     "status": "completed"
    },
    "tags": []
   },
   "outputs": [
    {
     "data": {
      "image/png": "[encoded data removed]",
      "text/plain": [
       "<Figure size 1080x504 with 1 Axes>"
      ]
     },
     "metadata": {
      "needs_background": "light"
     },
     "output_type": "display_data"
    }
   ],
   "source": [
    "ax = get_loss_curve(experiment)\n",
    "plt.show()"
   ]
  },
  {
   "cell_type": "code",
   "execution_count": 26,
   "id": "fd8a0f60",
   "metadata": {
    "execution": {
     "iopub.execute_input": "2022-03-18T07:38:41.446811Z",
     "iopub.status.busy": "2022-03-18T07:38:41.445010Z",
     "iopub.status.idle": "2022-03-18T07:38:41.586198Z",
     "shell.execute_reply": "2022-03-18T07:38:41.586418Z"
    },
    "papermill": {
     "duration": 0.17729,
     "end_time": "2022-03-18T07:38:41.586498",
     "exception": false,
     "start_time": "2022-03-18T07:38:41.409208",
     "status": "completed"
    },
    "tags": []
   },
   "outputs": [
    {
     "data": {
      "text/plain": [
       "<AxesSubplot:title={'center':'Results'}>"
      ]
     },
     "execution_count": 26,
     "metadata": {},
     "output_type": "execute_result"
    },
    {
     "data": {
      "image/png": "[encoded data removed]",
      "text/plain": [
       "<Figure size 1080x504 with 1 Axes>"
      ]
     },
     "metadata": {
      "needs_background": "light"
     },
     "output_type": "display_data"
    }
   ],
   "source": [
    "get_results_table(experiment)"
   ]
  },
  {
   "cell_type": "code",
   "execution_count": 27,
   "id": "cf8dc689",
   "metadata": {
    "execution": {
     "iopub.execute_input": "2022-03-18T07:38:41.656347Z",
     "iopub.status.busy": "2022-03-18T07:38:41.656089Z",
     "iopub.status.idle": "2022-03-18T07:38:41.813957Z",
     "shell.execute_reply": "2022-03-18T07:38:41.813456Z"
    },
    "papermill": {
     "duration": 0.192738,
     "end_time": "2022-03-18T07:38:41.814065",
     "exception": false,
     "start_time": "2022-03-18T07:38:41.621327",
     "status": "completed"
    },
    "tags": []
   },
   "outputs": [
    {
     "data": {
      "text/plain": [
       "<AxesSubplot:title={'center':'Per Domain Validation Accuracy'}, xlabel='domain'>"
      ]
     },
     "execution_count": 27,
     "metadata": {},
     "output_type": "execute_result"
    },
    {
     "data": {
      "image/png": "[encoded data removed]",
      "text/plain": [
       "<Figure size 1080x504 with 1 Axes>"
      ]
     },
     "metadata": {
      "needs_background": "light"
     },
     "output_type": "display_data"
    }
   ],
   "source": [
    "get_domain_accuracies(experiment)"
   ]
  },
  {
   "cell_type": "code",
   "execution_count": 28,
   "id": "a74ae082",
   "metadata": {
    "execution": {
     "iopub.execute_input": "2022-03-18T07:38:41.890493Z",
     "iopub.status.busy": "2022-03-18T07:38:41.890230Z",
     "iopub.status.idle": "2022-03-18T07:38:41.907765Z",
     "shell.execute_reply": "2022-03-18T07:38:41.907524Z"
    },
    "papermill": {
     "duration": 0.05479,
     "end_time": "2022-03-18T07:38:41.907823",
     "exception": false,
     "start_time": "2022-03-18T07:38:41.853033",
     "status": "completed"
    },
    "tags": []
   },
   "outputs": [
    {
     "name": "stdout",
     "output_type": "stream",
     "text": [
      "Source Test Label Accuracy: 0.9613655821917808 Target Test Label Accuracy: 0.24833984375\n",
      "Source Val Label Accuracy: 0.9666095890410958 Target Val Label Accuracy: 0.24990234375\n"
     ]
    }
   ],
   "source": [
    "print(\"Source Test Label Accuracy:\", experiment[\"results\"][\"source_test_label_accuracy\"], \"Target Test Label Accuracy:\", experiment[\"results\"][\"target_test_label_accuracy\"])\n",
    "print(\"Source Val Label Accuracy:\", experiment[\"results\"][\"source_val_label_accuracy\"], \"Target Val Label Accuracy:\", experiment[\"results\"][\"target_val_label_accuracy\"])"
   ]
  },
  {
   "cell_type": "code",
   "execution_count": 29,
   "id": "dacca602",
   "metadata": {
    "execution": {
     "iopub.execute_input": "2022-03-18T07:38:41.978618Z",
     "iopub.status.busy": "2022-03-18T07:38:41.978366Z",
     "iopub.status.idle": "2022-03-18T07:38:41.995712Z",
     "shell.execute_reply": "2022-03-18T07:38:41.996020Z"
    },
    "papermill": {
     "duration": 0.054122,
     "end_time": "2022-03-18T07:38:41.996118",
     "exception": false,
     "start_time": "2022-03-18T07:38:41.941996",
     "status": "completed"
    },
    "tags": [
     "experiment_json"
    ]
   },
   "outputs": [
    {
     "data": {
      "text/plain": [
       "'{\"experiment_name\": \"tl_3-jitter10:cores+wisig -> oracle.run1.framed\", \"parameters\": {\"experiment_name\": \"tl_3-jitter10:cores+wisig -> oracle.run1.framed\", \"device\": \"cuda\", \"lr\": 0.001, \"seed\": 1337, \"dataset_seed\": 1337, \"n_shot\": 3, \"n_query\": 2, \"train_k_factor\": 3, \"val_k_factor\": 2, \"test_k_factor\": 2, \"torch_default_dtype\": \"torch.float32\", \"n_epoch\": 50, \"patience\": 3, \"criteria_for_best\": \"target_loss\", \"x_net\": [{\"class\": \"nnReshape\", \"kargs\": {\"shape\": [-1, 1, 2, 256]}}, {\"class\": \"Conv2d\", \"kargs\": {\"in_channels\": 1, \"out_channels\": 256, \"kernel_size\": [1, 7], \"bias\": false, \"padding\": [0, 3]}}, {\"class\": \"ReLU\", \"kargs\": {\"inplace\": true}}, {\"class\": \"BatchNorm2d\", \"kargs\": {\"num_features\": 256}}, {\"class\": \"Conv2d\", \"kargs\": {\"in_channels\": 256, \"out_channels\": 80, \"kernel_size\": [2, 7], \"bias\": true, \"padding\": [0, 3]}}, {\"class\": \"ReLU\", \"kargs\": {\"inplace\": true}}, {\"class\": \"BatchNorm2d\", \"kargs\": {\"num_features\": 80}}, {\"class\": \"Flatten\", \"kargs\": {}}, {\"class\": \"Linear\", \"kargs\": {\"in_features\": 20480, \"out_features\": 256}}, {\"class\": \"ReLU\", \"kargs\": {\"inplace\": true}}, {\"class\": \"BatchNorm1d\", \"kargs\": {\"num_features\": 256}}, {\"class\": \"Linear\", \"kargs\": {\"in_features\": 256, \"out_features\": 256}}], \"NUM_LOGS_PER_EPOCH\": 10, \"BEST_MODEL_PATH\": \"./best_model.pth\", \"n_way\": 16, \"datasets\": [{\"labels\": [\"1-10.\", \"1-11.\", \"1-15.\", \"1-16.\", \"1-17.\", \"1-18.\", \"1-19.\", \"10-4.\", \"10-7.\", \"11-1.\", \"11-14.\", \"11-17.\", \"11-20.\", \"11-7.\", \"13-20.\", \"13-8.\", \"14-10.\", \"14-11.\", \"14-14.\", \"14-7.\", \"15-1.\", \"15-20.\", \"16-1.\", \"16-16.\", \"17-10.\", \"17-11.\", \"17-2.\", \"19-1.\", \"19-16.\", \"19-19.\", \"19-20.\", \"19-3.\", \"2-10.\", \"2-11.\", \"2-17.\", \"2-18.\", \"2-20.\", \"2-3.\", \"2-4.\", \"2-5.\", \"2-6.\", \"2-7.\", \"2-8.\", \"3-13.\", \"3-18.\", \"3-3.\", \"4-1.\", \"4-10.\", \"4-11.\", \"4-19.\", \"5-5.\", \"6-15.\", \"7-10.\", \"7-14.\", \"8-18.\", \"8-20.\", \"8-3.\", \"8-8.\"], \"domains\": [1, 2, 3, 4, 5], \"num_examples_per_domain_per_label\": 100, \"pickle_path\": \"/mnt/wd500GB/CSC500/csc500-main/datasets/cores.stratified_ds.2022A.pkl\", \"source_or_target_dataset\": \"source\", \"x_transforms\": [\"unit_power\", \"jitter_256_10\", \"take_200\"], \"episode_transforms\": [], \"domain_prefix\": \"C_A_\"}, {\"labels\": [\"1-10\", \"1-12\", \"1-14\", \"1-16\", \"1-18\", \"1-19\", \"1-8\", \"10-11\", \"10-17\", \"10-4\", \"10-7\", \"11-1\", \"11-10\", \"11-19\", \"11-20\", \"11-4\", \"11-7\", \"12-19\", \"12-20\", \"12-7\", \"13-14\", \"13-18\", \"13-19\", \"13-20\", \"13-3\", \"13-7\", \"14-10\", \"14-11\", \"14-12\", \"14-13\", \"14-14\", \"14-19\", \"14-20\", \"14-7\", \"14-8\", \"14-9\", \"15-1\", \"15-19\", \"15-6\", \"16-1\", \"16-16\", \"16-19\", \"16-20\", \"17-10\", \"17-11\", \"18-1\", \"18-10\", \"18-11\", \"18-12\", \"18-13\", \"18-14\", \"18-15\", \"18-16\", \"18-17\", \"18-19\", \"18-2\", \"18-20\", \"18-4\", \"18-5\", \"18-7\", \"18-8\", \"18-9\", \"19-1\", \"19-10\", \"19-11\", \"19-12\", \"19-13\", \"19-14\", \"19-15\", \"19-19\", \"19-2\", \"19-20\", \"19-3\", \"19-4\", \"19-6\", \"19-7\", \"19-8\", \"19-9\", \"2-1\", \"2-13\", \"2-15\", \"2-3\", \"2-4\", \"2-5\", \"2-6\", \"2-7\", \"2-8\", \"20-1\", \"20-12\", \"20-14\", \"20-15\", \"20-16\", \"20-18\", \"20-19\", \"20-20\", \"20-3\", \"20-4\", \"20-5\", \"20-7\", \"20-8\", \"3-1\", \"3-13\", \"3-18\", \"3-2\", \"3-8\", \"4-1\", \"4-10\", \"4-11\", \"5-1\", \"5-5\", \"6-1\", \"6-15\", \"6-6\", \"7-10\", \"7-11\", \"7-12\", \"7-13\", \"7-14\", \"7-7\", \"7-8\", \"7-9\", \"8-1\", \"8-13\", \"8-14\", \"8-18\", \"8-20\", \"8-3\", \"8-8\", \"9-1\", \"9-7\"], \"domains\": [1, 2, 3, 4], \"num_examples_per_domain_per_label\": 100, \"pickle_path\": \"/mnt/wd500GB/CSC500/csc500-main/datasets/wisig.node3-19.stratified_ds.2022A.pkl\", \"source_or_target_dataset\": \"source\", \"x_transforms\": [\"unit_power\", \"jitter_256_10\", \"take_200\"], \"episode_transforms\": [], \"domain_prefix\": \"W_A_\"}, {\"labels\": [\"3123D52\", \"3123D65\", \"3123D79\", \"3123D80\", \"3123D54\", \"3123D70\", \"3123D7B\", \"3123D89\", \"3123D58\", \"3123D76\", \"3123D7D\", \"3123EFE\", \"3123D64\", \"3123D78\", \"3123D7E\", \"3124E4A\"], \"domains\": [32, 38, 8, 44, 14, 50, 20, 26], \"num_examples_per_domain_per_label\": 2000, \"pickle_path\": \"/mnt/wd500GB/CSC500/csc500-main/datasets/oracle.Run1_framed_2000Examples_stratified_ds.2022A.pkl\", \"source_or_target_dataset\": \"target\", \"x_transforms\": [\"unit_power\", \"jitter_256_10\", \"take_200\", \"resample_20Msps_to_25Msps\"], \"episode_transforms\": [], \"domain_prefix\": \"ORACLE.run1_\"}], \"x_shape\": [2, 256], \"domains_source\": [\"C_A_1\", \"C_A_2\", \"C_A_3\", \"C_A_4\", \"C_A_5\", \"W_A_1\", \"W_A_2\", \"W_A_3\", \"W_A_4\"], \"domains_target\": [\"ORACLE.run1_32\", \"ORACLE.run1_38\", \"ORACLE.run1_8\", \"ORACLE.run1_44\", \"ORACLE.run1_14\", \"ORACLE.run1_50\", \"ORACLE.run1_20\", \"ORACLE.run1_26\"]}, \"results\": {\"source_test_label_accuracy\": 0.9613655821917808, \"source_test_label_loss\": 0.1740344911813736, \"target_test_label_accuracy\": 0.24833984375, \"target_test_label_loss\": 2.17175030708313, \"source_val_label_accuracy\": 0.9666095890410958, \"source_val_label_loss\": 0.15646159648895264, \"target_val_label_accuracy\": 0.24990234375, \"target_val_label_loss\": 2.175116777420044, \"total_epochs_trained\": 8, \"total_experiment_time_secs\": 555.1171224117279, \"confusion\": {\"W_A_3\": {\"109\": {\"109\": 12}, \"127\": {\"127\": 12}, \"14\": {\"14\": 12}, \"7\": {\"7\": 12}, \"129\": {\"129\": 12}, \"57\": {\"57\": 12}, \"84\": {\"84\": 10, \"8\": 1, \"30\": 1}, \"114\": {\"114\": 12}, \"44\": {\"44\": 9, \"21\": 1, \"28\": 2}, \"21\": {\"21\": 12}, \"46\": {\"46\": 12}, \"100\": {\"100\": 12}, \"63\": {\"63\": 8, \"24\": 1, \"50\": 1, \"2\": 1, \"60\": 1}, \"24\": {\"24\": 10, \"21\": 1, \"36\": 1}, \"107\": {\"107\": 12}, \"35\": {\"84\": 1, \"35\": 8, \"13\": 1}, \"81\": {\"81\": 12}, \"64\": {\"64\": 12}, \"59\": {\"36\": 1, \"59\": 11}, \"33\": {\"33\": 12}, \"34\": {\"34\": 11, \"75\": 1}, \"36\": {\"36\": 12}, \"79\": {\"79\": 12}, \"80\": {\"80\": 11, \"5\": 1}, \"77\": {\"77\": 12}, \"22\": {\"22\": 12}, \"124\": {\"124\": 12}, \"2\": {\"2\": 11, \"23\": 1}, \"87\": {\"87\": 11, \"1\": 1}, \"105\": {\"105\": 12}, \"95\": {\"95\": 12}, \"43\": {\"43\": 10, \"84\": 1, \"33\": 1}, \"56\": {\"56\": 10}, \"18\": {\"18\": 12}, \"85\": {\"85\": 12}, \"113\": {\"113\": 12}, \"97\": {\"97\": 11, \"72\": 1}, \"86\": {\"86\": 12}, \"128\": {\"128\": 10, \"60\": 2}, \"123\": {\"123\": 12}, \"8\": {\"8\": 12}, \"110\": {\"110\": 12}, \"126\": {\"113\": 2, \"126\": 8, \"39\": 2}, \"101\": {\"101\": 12}, \"115\": {\"115\": 12}, \"49\": {\"49\": 11, \"30\": 1}, \"45\": {\"45\": 12}, \"78\": {\"78\": 8, \"82\": 1, \"13\": 1, \"116\": 2}, \"65\": {\"65\": 9, \"24\": 1}, \"54\": {\"54\": 12}, \"31\": {\"31\": 10}, \"42\": {\"42\": 11, \"101\": 1}, \"68\": {\"68\": 12}, \"15\": {\"15\": 12}, \"69\": {\"69\": 12}, \"17\": {\"23\": 1, \"17\": 6, \"67\": 1, \"104\": 1, \"87\": 1}, \"73\": {\"73\": 12}, \"121\": {\"121\": 12}, \"102\": {\"102\": 12}, \"48\": {\"48\": 11, \"37\": 1}, \"23\": {\"23\": 9, \"67\": 1, \"59\": 2}, \"108\": {\"108\": 12}, \"53\": {\"108\": 1, \"53\": 11}, \"94\": {\"94\": 10}, \"41\": {\"41\": 12}, \"58\": {\"58\": 12}, \"29\": {\"29\": 12}, \"116\": {\"116\": 12}, \"60\": {\"60\": 12}, \"104\": {\"104\": 12}, \"106\": {\"106\": 12}, \"66\": {\"66\": 12}, \"47\": {\"60\": 1, \"47\": 11}, \"40\": {\"40\": 12}, \"82\": {\"82\": 12}, \"13\": {\"13\": 8, \"110\": 1, \"19\": 1, \"11\": 2}, \"19\": {\"19\": 12}, \"72\": {\"72\": 12}, \"9\": {\"9\": 12}, \"67\": {\"67\": 12}, \"11\": {\"11\": 12}, \"125\": {\"125\": 12}, \"76\": {\"76\": 8}, \"83\": {\"83\": 12}, \"74\": {\"74\": 11, \"54\": 1}, \"20\": {\"20\": 12}, \"119\": {\"119\": 12}, \"1\": {\"1\": 12}, \"16\": {\"16\": 12}, \"25\": {\"25\": 11, \"73\": 1}, \"90\": {\"90\": 8}, \"39\": {\"39\": 12}, \"28\": {\"28\": 12}, \"55\": {\"55\": 12}, \"117\": {\"117\": 12}, \"112\": {\"112\": 12}, \"38\": {\"38\": 12}, \"37\": {\"37\": 12}, \"120\": {\"120\": 12}, \"122\": {\"122\": 12}, \"50\": {\"50\": 12}, \"10\": {\"10\": 12}, \"5\": {\"5\": 12}, \"51\": {\"51\": 12}, \"3\": {\"3\": 10, \"22\": 1, \"17\": 1}, \"98\": {\"98\": 11, \"60\": 1}, \"70\": {\"70\": 11, \"114\": 1}, \"96\": {\"96\": 12}, \"12\": {\"12\": 12}, \"99\": {\"99\": 12}, \"52\": {\"52\": 12}, \"71\": {\"71\": 10, \"30\": 1, \"61\": 1}, \"89\": {\"89\": 12}, \"0\": {\"0\": 12}, \"4\": {\"4\": 9, \"116\": 1, \"121\": 1, \"2\": 1}, \"93\": {\"93\": 12}, \"6\": {\"6\": 10}, \"75\": {\"75\": 12}, \"62\": {\"62\": 12}, \"103\": {\"103\": 12}, \"30\": {\"30\": 12}, \"91\": {\"91\": 9, \"98\": 2, \"19\": 1}, \"27\": {\"27\": 12}, \"26\": {\"26\": 12}, \"61\": {\"61\": 12}, \"118\": {\"118\": 12}, \"92\": {\"92\": 12}, \"111\": {\"111\": 12}, \"32\": {\"32\": 12}, \"88\": {\"88\": 10}}, \"W_A_4\": {\"28\": {\"28\": 12}, \"4\": {\"4\": 12}, \"72\": {\"72\": 12}, \"111\": {\"111\": 12}, \"108\": {\"108\": 10, \"73\": 2}, \"43\": {\"43\": 10}, \"96\": {\"96\": 12}, \"89\": {\"89\": 12}, \"31\": {\"31\": 12}, \"45\": {\"45\": 12}, \"2\": {\"2\": 11, \"63\": 1}, \"114\": {\"114\": 12}, \"11\": {\"11\": 12}, \"12\": {\"12\": 12}, \"14\": {\"14\": 12}, \"90\": {\"90\": 12}, \"10\": {\"10\": 10, \"24\": 2}, \"63\": {\"12\": 1, \"63\": 10, \"2\": 1}, \"85\": {\"85\": 11, \"82\": 1}, \"64\": {\"64\": 12}, \"82\": {\"82\": 10, \"127\": 1, \"2\": 1}, \"58\": {\"58\": 12}, \"3\": {\"3\": 12}, \"54\": {\"54\": 12}, \"121\": {\"121\": 12}, \"42\": {\"42\": 12}, \"98\": {\"98\": 12}, \"123\": {\"123\": 11, \"129\": 1}, \"91\": {\"91\": 11, \"12\": 1}, \"66\": {\"66\": 12}, \"102\": {\"102\": 12}, \"122\": {\"122\": 10, \"102\": 1, \"51\": 1}, \"1\": {\"1\": 12}, \"15\": {\"15\": 12}, \"97\": {\"97\": 9, \"15\": 2, \"2\": 1}, \"75\": {\"75\": 12}, \"95\": {\"95\": 12}, \"57\": {\"57\": 12}, \"68\": {\"68\": 12}, \"125\": {\"125\": 12}, \"62\": {\"62\": 10}, \"27\": {\"27\": 10, \"78\": 1, \"127\": 1}, \"120\": {\"120\": 11, \"103\": 1}, \"26\": {\"26\": 12}, \"55\": {\"55\": 12}, \"71\": {\"71\": 11, \"110\": 1}, \"22\": {\"22\": 12}, \"99\": {\"99\": 11, \"51\": 1}, \"84\": {\"84\": 10, \"103\": 1, \"30\": 1}, \"37\": {\"37\": 12}, \"83\": {\"83\": 12}, \"46\": {\"46\": 12}, \"35\": {\"35\": 12}, \"13\": {\"13\": 12}, \"53\": {\"53\": 11, \"3\": 1}, \"127\": {\"127\": 12}, \"69\": {\"127\": 1, \"69\": 10, \"78\": 1}, \"48\": {\"48\": 11, \"60\": 1}, \"16\": {\"16\": 12}, \"0\": {\"0\": 12}, \"8\": {\"8\": 10, \"97\": 1, \"100\": 1}, \"9\": {\"9\": 12}, \"115\": {\"57\": 2, \"115\": 10}, \"70\": {\"70\": 10, \"63\": 1, \"53\": 1}, \"119\": {\"119\": 12}, \"59\": {\"59\": 11, \"97\": 1}, \"52\": {\"52\": 12}, \"60\": {\"60\": 8, \"114\": 2, \"110\": 2}, \"44\": {\"44\": 11, \"90\": 1}, \"51\": {\"51\": 11, \"115\": 1}, \"6\": {\"6\": 8, \"34\": 1, \"59\": 1, \"58\": 1, \"10\": 1}, \"73\": {\"73\": 12}, \"78\": {\"78\": 10, \"1\": 1, \"57\": 1}, \"92\": {\"92\": 12}, \"20\": {\"20\": 10, \"73\": 1, \"5\": 1}, \"17\": {\"17\": 12}, \"74\": {\"74\": 12}, \"19\": {\"19\": 12}, \"50\": {\"50\": 12}, \"34\": {\"34\": 10, \"32\": 1, \"89\": 1}, \"104\": {\"104\": 8}, \"33\": {\"33\": 11, \"51\": 1}, \"5\": {\"5\": 11, \"108\": 1}, \"7\": {\"7\": 11, \"98\": 1}, \"29\": {\"29\": 12}, \"25\": {\"25\": 12}, \"124\": {\"124\": 12}, \"117\": {\"117\": 10, \"59\": 1, \"12\": 1}, \"88\": {\"88\": 8, \"8\": 1, \"67\": 1, \"70\": 2}, \"61\": {\"61\": 11, \"1\": 1}, \"86\": {\"86\": 12}, \"116\": {\"116\": 12}, \"24\": {\"24\": 12}, \"128\": {\"128\": 10, \"78\": 1, \"115\": 1}, \"101\": {\"101\": 12}, \"65\": {\"65\": 9, \"0\": 1}, \"36\": {\"36\": 11, \"24\": 1}, \"21\": {\"21\": 11, \"51\": 1}, \"106\": {\"106\": 12}, \"118\": {\"118\": 10, \"88\": 2}, \"113\": {\"113\": 11, \"48\": 1}, \"40\": {\"40\": 12}, \"93\": {\"93\": 8}, \"94\": {\"94\": 10, \"36\": 2}, \"103\": {\"103\": 8, \"13\": 2, \"108\": 1, \"77\": 1}, \"110\": {\"110\": 12}, \"56\": {\"56\": 12}, \"39\": {\"39\": 11, \"78\": 1}, \"109\": {\"31\": 1, \"109\": 11}, \"67\": {\"67\": 10, \"76\": 1, \"59\": 1}, \"129\": {\"129\": 11, \"100\": 1}, \"30\": {\"30\": 11, \"24\": 1}, \"126\": {\"126\": 10, \"23\": 1, \"108\": 1}, \"87\": {\"113\": 1, \"87\": 11}, \"112\": {\"112\": 12}, \"100\": {\"100\": 12}, \"79\": {\"79\": 10}, \"81\": {\"81\": 11, \"73\": 1}, \"76\": {\"76\": 10}, \"47\": {\"47\": 11, \"30\": 1}, \"77\": {\"77\": 12}, \"23\": {\"23\": 5, \"77\": 4, \"110\": 1, \"78\": 1, \"86\": 1}, \"18\": {\"18\": 12}, \"49\": {\"49\": 12}, \"41\": {\"41\": 10, \"22\": 1, \"55\": 1}, \"32\": {\"32\": 11, \"45\": 1}, \"107\": {\"107\": 10}, \"80\": {\"80\": 11, \"126\": 1}, \"105\": {\"105\": 7, \"87\": 2, \"113\": 1}, \"38\": {\"38\": 10}}, \"C_A_3\": {\"43\": {\"43\": 12}, \"9\": {\"9\": 12}, \"6\": {\"6\": 10}, \"3\": {\"3\": 12}, \"16\": {\"16\": 12}, \"51\": {\"51\": 12}, \"31\": {\"31\": 12}, \"46\": {\"46\": 10}, \"19\": {\"19\": 8}, \"8\": {\"8\": 12}, \"18\": {\"18\": 12}, \"37\": {\"37\": 12}, \"24\": {\"24\": 12}, \"10\": {\"10\": 12}, \"44\": {\"44\": 10}, \"14\": {\"14\": 12}, \"38\": {\"38\": 10}, \"53\": {\"53\": 12}, \"20\": {\"20\": 12}, \"32\": {\"32\": 12}, \"36\": {\"36\": 10}, \"33\": {\"33\": 12}, \"56\": {\"56\": 12}, \"23\": {\"23\": 12}, \"54\": {\"54\": 10}, \"34\": {\"34\": 12}, \"13\": {\"13\": 12}, \"2\": {\"2\": 12}, \"55\": {\"55\": 10}, \"21\": {\"21\": 10}, \"49\": {\"49\": 10}, \"25\": {\"25\": 12}, \"5\": {\"5\": 12}, \"50\": {\"50\": 8}, \"40\": {\"40\": 12}, \"57\": {\"57\": 8}, \"22\": {\"22\": 10}, \"1\": {\"1\": 10}, \"17\": {\"17\": 12}, \"41\": {\"41\": 12}, \"4\": {\"4\": 10}, \"7\": {\"7\": 10}, \"26\": {\"26\": 10}, \"29\": {\"29\": 12}, \"52\": {\"52\": 12}, \"15\": {\"15\": 12}, \"35\": {\"35\": 12}, \"42\": {\"42\": 12}, \"30\": {\"30\": 10}, \"27\": {\"27\": 8}, \"45\": {\"45\": 10}, \"0\": {\"0\": 12}, \"28\": {\"28\": 12}, \"47\": {\"47\": 12}, \"11\": {\"11\": 10}, \"39\": {\"39\": 10}, \"48\": {\"48\": 12}, \"12\": {\"12\": 8}}, \"C_A_4\": {\"35\": {\"35\": 10}, \"25\": {\"25\": 12}, \"24\": {\"24\": 10}, \"48\": {\"48\": 12}, \"51\": {\"51\": 12}, \"13\": {\"13\": 12}, \"14\": {\"14\": 8}, \"32\": {\"32\": 12}, \"30\": {\"30\": 12}, \"34\": {\"34\": 10}, \"9\": {\"9\": 12}, \"1\": {\"1\": 12}, \"0\": {\"0\": 12}, \"38\": {\"38\": 12}, \"22\": {\"22\": 8}, \"40\": {\"40\": 12}, \"39\": {\"39\": 12}, \"46\": {\"46\": 11, \"50\": 1}, \"36\": {\"36\": 12}, \"50\": {\"50\": 12}, \"49\": {\"49\": 12}, \"17\": {\"17\": 12}, \"45\": {\"45\": 12}, \"6\": {\"6\": 12}, \"8\": {\"8\": 12}, \"5\": {\"5\": 9, \"40\": 1}, \"33\": {\"33\": 12}, \"31\": {\"31\": 12}, \"37\": {\"37\": 10}, \"47\": {\"47\": 8}, \"15\": {\"15\": 10}, \"7\": {\"7\": 12}, \"20\": {\"20\": 12}, \"4\": {\"4\": 12}, \"54\": {\"54\": 12}, \"44\": {\"44\": 12}, \"3\": {\"3\": 12}, \"11\": {\"11\": 10}, \"27\": {\"27\": 10}, \"19\": {\"19\": 12}, \"55\": {\"55\": 12}, \"16\": {\"16\": 12}, \"2\": {\"2\": 10}, \"52\": {\"52\": 10}, \"42\": {\"42\": 10}, \"26\": {\"26\": 12}, \"10\": {\"10\": 12}, \"53\": {\"53\": 10}, \"28\": {\"28\": 12}, \"21\": {\"21\": 10}, \"57\": {\"57\": 10}, \"23\": {\"23\": 8}, \"43\": {\"43\": 10}, \"12\": {\"12\": 12}, \"41\": {\"41\": 12}, \"56\": {\"56\": 8}, \"18\": {\"18\": 10}, \"29\": {\"29\": 8}}, \"W_A_1\": {\"108\": {\"108\": 10}, \"40\": {\"40\": 12}, \"68\": {\"68\": 12}, \"23\": {\"110\": 1, \"23\": 9, \"60\": 2}, \"26\": {\"3\": 1, \"26\": 11}, \"64\": {\"64\": 12}, \"22\": {\"22\": 12}, \"3\": {\"3\": 12}, \"4\": {\"4\": 11, \"43\": 1}, \"70\": {\"70\": 12}, \"57\": {\"57\": 12}, \"79\": {\"79\": 12}, \"9\": {\"9\": 10, \"124\": 2}, \"89\": {\"89\": 12}, \"110\": {\"110\": 12}, \"102\": {\"102\": 12}, \"31\": {\"31\": 12}, \"58\": {\"58\": 12}, \"47\": {\"47\": 12}, \"24\": {\"24\": 11, \"36\": 1}, \"19\": {\"19\": 11, \"129\": 1}, \"11\": {\"11\": 12}, \"52\": {\"52\": 12}, \"17\": {\"17\": 12}, \"25\": {\"25\": 12}, \"69\": {\"69\": 12}, \"96\": {\"96\": 12}, \"109\": {\"109\": 12}, \"115\": {\"115\": 12}, \"83\": {\"83\": 11, \"43\": 1}, \"84\": {\"84\": 12}, \"119\": {\"119\": 10}, \"122\": {\"122\": 10}, \"99\": {\"99\": 12}, \"1\": {\"1\": 12}, \"74\": {\"74\": 10, \"122\": 1, \"80\": 1}, \"85\": {\"85\": 12}, \"127\": {\"127\": 12}, \"111\": {\"111\": 11, \"127\": 1}, \"53\": {\"53\": 12}, \"88\": {\"88\": 10, \"36\": 2}, \"65\": {\"65\": 8, \"129\": 1, \"52\": 1}, \"7\": {\"7\": 12}, \"16\": {\"16\": 11, \"122\": 1}, \"128\": {\"128\": 12}, \"34\": {\"34\": 12}, \"129\": {\"129\": 12}, \"43\": {\"43\": 12}, \"92\": {\"92\": 12}, \"28\": {\"28\": 12}, \"27\": {\"27\": 12}, \"114\": {\"114\": 12}, \"73\": {\"73\": 12}, \"0\": {\"0\": 12}, \"104\": {\"104\": 12}, \"118\": {\"118\": 12}, \"41\": {\"41\": 12}, \"49\": {\"49\": 12}, \"14\": {\"14\": 12}, \"46\": {\"66\": 1, \"46\": 6, \"76\": 1, \"12\": 2, \"104\": 2}, \"33\": {\"33\": 12}, \"76\": {\"76\": 12}, \"125\": {\"125\": 12}, \"86\": {\"86\": 10}, \"66\": {\"66\": 11, \"35\": 1}, \"5\": {\"5\": 12}, \"117\": {\"117\": 12}, \"75\": {\"75\": 12}, \"61\": {\"61\": 12}, \"50\": {\"50\": 10, \"81\": 2}, \"67\": {\"67\": 10}, \"18\": {\"18\": 12}, \"98\": {\"98\": 12}, \"55\": {\"55\": 10}, \"32\": {\"32\": 12}, \"120\": {\"120\": 12}, \"97\": {\"97\": 11, \"36\": 1}, \"126\": {\"126\": 12}, \"45\": {\"109\": 1, \"45\": 10, \"66\": 1}, \"78\": {\"78\": 6, \"122\": 1, \"43\": 2, \"21\": 1}, \"100\": {\"100\": 12}, \"107\": {\"107\": 12}, \"93\": {\"93\": 12}, \"77\": {\"77\": 12}, \"63\": {\"63\": 12}, \"112\": {\"112\": 12}, \"113\": {\"113\": 12}, \"103\": {\"103\": 10}, \"71\": {\"71\": 12}, \"30\": {\"30\": 12}, \"90\": {\"90\": 12}, \"37\": {\"129\": 1, \"37\": 11}, \"60\": {\"60\": 8, \"86\": 1, \"39\": 1, \"81\": 2}, \"15\": {\"15\": 11, \"111\": 1}, \"39\": {\"39\": 12}, \"72\": {\"72\": 12}, \"54\": {\"54\": 12}, \"35\": {\"35\": 12}, \"2\": {\"2\": 12}, \"94\": {\"94\": 11, \"83\": 1}, \"42\": {\"42\": 10, \"83\": 1, \"109\": 1}, \"81\": {\"81\": 12}, \"8\": {\"8\": 12}, \"87\": {\"87\": 12}, \"6\": {\"6\": 12}, \"36\": {\"36\": 12}, \"91\": {\"91\": 11, \"42\": 1}, \"56\": {\"56\": 12}, \"80\": {\"80\": 11, \"10\": 1}, \"124\": {\"124\": 10}, \"44\": {\"44\": 12}, \"13\": {\"13\": 12}, \"10\": {\"10\": 10, \"55\": 1, \"13\": 1}, \"59\": {\"59\": 11, \"120\": 1}, \"95\": {\"95\": 12}, \"105\": {\"105\": 11, \"66\": 1}, \"101\": {\"101\": 11, \"128\": 1}, \"20\": {\"20\": 12}, \"48\": {\"28\": 1, \"48\": 10, \"123\": 1}, \"106\": {\"106\": 12}, \"51\": {\"51\": 12}, \"21\": {\"84\": 3, \"21\": 7, \"112\": 1, \"106\": 1}, \"123\": {\"123\": 12}, \"121\": {\"121\": 12}, \"38\": {\"38\": 12}, \"62\": {\"62\": 12}, \"29\": {\"29\": 12}, \"82\": {\"82\": 12}, \"116\": {\"116\": 11, \"11\": 1}, \"12\": {\"12\": 7, \"111\": 1}}, \"C_A_5\": {\"47\": {\"47\": 10}, \"53\": {\"53\": 12}, \"29\": {\"29\": 12}, \"52\": {\"52\": 12}, \"55\": {\"55\": 12}, \"17\": {\"17\": 12}, \"42\": {\"42\": 12}, \"33\": {\"33\": 10}, \"11\": {\"11\": 12}, \"19\": {\"19\": 8}, \"1\": {\"1\": 12}, \"44\": {\"44\": 12}, \"49\": {\"49\": 12}, \"4\": {\"4\": 12}, \"6\": {\"6\": 11, \"21\": 1}, \"39\": {\"39\": 12}, \"13\": {\"13\": 12}, \"5\": {\"5\": 10}, \"16\": {\"16\": 10}, \"25\": {\"25\": 12}, \"45\": {\"45\": 12}, \"7\": {\"7\": 10}, \"22\": {\"22\": 12}, \"40\": {\"40\": 11, \"5\": 1}, \"38\": {\"38\": 12}, \"35\": {\"35\": 8}, \"56\": {\"56\": 12}, \"50\": {\"50\": 10}, \"0\": {\"0\": 12}, \"10\": {\"10\": 12}, \"27\": {\"27\": 12}, \"20\": {\"20\": 10}, \"36\": {\"36\": 8}, \"34\": {\"34\": 12}, \"30\": {\"30\": 12}, \"2\": {\"2\": 10}, \"15\": {\"15\": 12}, \"18\": {\"18\": 12}, \"32\": {\"32\": 12}, \"31\": {\"31\": 12}, \"57\": {\"57\": 12}, \"48\": {\"48\": 8}, \"28\": {\"28\": 10}, \"14\": {\"14\": 11, \"46\": 1}, \"3\": {\"3\": 12}, \"8\": {\"8\": 12}, \"9\": {\"9\": 12}, \"21\": {\"21\": 10}, \"41\": {\"41\": 12}, \"24\": {\"24\": 12}, \"46\": {\"46\": 10}, \"43\": {\"43\": 10}, \"54\": {\"54\": 10}, \"23\": {\"23\": 10}, \"37\": {\"37\": 10}, \"12\": {\"12\": 10}, \"26\": {\"26\": 10}, \"51\": {\"51\": 6}}, \"C_A_1\": {\"46\": {\"46\": 12}, \"16\": {\"16\": 12}, \"26\": {\"26\": 12}, \"10\": {\"10\": 12}, \"9\": {\"9\": 10}, \"28\": {\"28\": 12}, \"51\": {\"51\": 12}, \"1\": {\"1\": 12}, \"55\": {\"55\": 12}, \"27\": {\"27\": 10}, \"22\": {\"22\": 11, \"21\": 1}, \"52\": {\"52\": 12}, \"3\": {\"3\": 12}, \"33\": {\"33\": 8}, \"47\": {\"47\": 12}, \"42\": {\"42\": 12}, \"12\": {\"12\": 4}, \"23\": {\"23\": 12}, \"49\": {\"49\": 10}, \"7\": {\"7\": 12}, \"4\": {\"4\": 12}, \"50\": {\"50\": 12}, \"19\": {\"19\": 12}, \"11\": {\"11\": 12}, \"31\": {\"31\": 10}, \"41\": {\"41\": 12}, \"56\": {\"56\": 8, \"57\": 2}, \"0\": {\"0\": 12}, \"57\": {\"57\": 11, \"1\": 1}, \"53\": {\"53\": 12}, \"43\": {\"43\": 12}, \"37\": {\"37\": 12}, \"2\": {\"2\": 8}, \"6\": {\"6\": 12}, \"18\": {\"18\": 12}, \"38\": {\"38\": 12}, \"15\": {\"15\": 12}, \"36\": {\"36\": 12}, \"39\": {\"39\": 8}, \"44\": {\"44\": 11, \"35\": 1}, \"8\": {\"8\": 12}, \"17\": {\"17\": 10}, \"5\": {\"5\": 12}, \"13\": {\"13\": 10}, \"40\": {\"40\": 10}, \"29\": {\"29\": 11, \"19\": 1}, \"48\": {\"48\": 12}, \"32\": {\"32\": 12}, \"30\": {\"30\": 12}, \"35\": {\"35\": 12}, \"25\": {\"25\": 12}, \"14\": {\"14\": 12}, \"54\": {\"54\": 10}, \"20\": {\"20\": 8}, \"21\": {\"21\": 10}, \"45\": {\"45\": 8}, \"24\": {\"21\": 1, \"24\": 6, \"10\": 1}, \"34\": {\"34\": 8}}, \"W_A_2\": {\"91\": {\"91\": 12}, \"12\": {\"12\": 11, \"67\": 1}, \"101\": {\"101\": 10}, \"121\": {\"121\": 11, \"72\": 1}, \"118\": {\"118\": 12}, \"10\": {\"10\": 11, \"110\": 1}, \"117\": {\"117\": 12}, \"110\": {\"110\": 11, \"121\": 1}, \"97\": {\"97\": 9, \"17\": 1, \"30\": 1, \"93\": 1}, \"28\": {\"126\": 1, \"28\": 9, \"22\": 1, \"23\": 1}, \"88\": {\"88\": 11, \"47\": 1}, \"17\": {\"17\": 11, \"62\": 1}, \"126\": {\"126\": 12}, \"33\": {\"33\": 12}, \"86\": {\"86\": 12}, \"106\": {\"106\": 12}, \"54\": {\"54\": 12}, \"125\": {\"125\": 12}, \"83\": {\"83\": 12}, \"98\": {\"98\": 12}, \"11\": {\"11\": 12}, \"32\": {\"32\": 11, \"100\": 1}, \"42\": {\"11\": 1, \"42\": 10, \"112\": 1}, \"103\": {\"103\": 12}, \"87\": {\"87\": 11, \"84\": 1}, \"61\": {\"13\": 1, \"61\": 10, \"102\": 1}, \"13\": {\"13\": 12}, \"4\": {\"4\": 12}, \"15\": {\"15\": 10}, \"120\": {\"120\": 12}, \"80\": {\"80\": 12}, \"72\": {\"72\": 10}, \"64\": {\"64\": 12}, \"81\": {\"81\": 12}, \"102\": {\"102\": 12}, \"76\": {\"76\": 12}, \"49\": {\"49\": 8, \"11\": 1, \"67\": 1}, \"129\": {\"129\": 12}, \"89\": {\"89\": 12}, \"52\": {\"52\": 12}, \"35\": {\"35\": 12}, \"53\": {\"53\": 11, \"114\": 1}, \"112\": {\"112\": 11, \"11\": 1}, \"105\": {\"105\": 12}, \"100\": {\"100\": 12}, \"9\": {\"9\": 12}, \"82\": {\"82\": 12}, \"51\": {\"51\": 12}, \"21\": {\"21\": 12}, \"92\": {\"92\": 11, \"84\": 1}, \"69\": {\"69\": 12}, \"77\": {\"77\": 12}, \"50\": {\"50\": 11, \"16\": 1}, \"36\": {\"36\": 12}, \"16\": {\"16\": 10, \"28\": 1, \"22\": 1}, \"8\": {\"103\": 1, \"8\": 10, \"120\": 1}, \"127\": {\"127\": 12}, \"46\": {\"46\": 10}, \"84\": {\"84\": 12}, \"18\": {\"18\": 12}, \"123\": {\"123\": 10}, \"56\": {\"56\": 10, \"107\": 1, \"15\": 1}, \"26\": {\"26\": 12}, \"14\": {\"87\": 1, \"14\": 9, \"43\": 1, \"11\": 1}, \"109\": {\"109\": 12}, \"66\": {\"66\": 12}, \"24\": {\"24\": 10, \"28\": 1, \"94\": 1}, \"71\": {\"80\": 1, \"71\": 11}, \"65\": {\"65\": 10, \"12\": 1, \"51\": 1}, \"75\": {\"75\": 11, \"67\": 1}, \"111\": {\"111\": 11, \"127\": 1}, \"30\": {\"30\": 11, \"71\": 1}, \"85\": {\"85\": 12}, \"113\": {\"113\": 9, \"21\": 1}, \"45\": {\"45\": 12}, \"29\": {\"29\": 11, \"25\": 1}, \"20\": {\"20\": 12}, \"25\": {\"25\": 12}, \"0\": {\"0\": 12}, \"68\": {\"68\": 12}, \"119\": {\"119\": 12}, \"90\": {\"90\": 12}, \"38\": {\"38\": 12}, \"99\": {\"99\": 12}, \"1\": {\"1\": 12}, \"67\": {\"67\": 10, \"125\": 1, \"106\": 1}, \"63\": {\"63\": 12}, \"34\": {\"34\": 12}, \"108\": {\"108\": 11, \"11\": 1}, \"40\": {\"40\": 12}, \"47\": {\"47\": 11, \"59\": 1}, \"37\": {\"37\": 12}, \"78\": {\"78\": 12}, \"96\": {\"96\": 12}, \"43\": {\"43\": 11, \"21\": 1}, \"5\": {\"5\": 10}, \"124\": {\"124\": 12}, \"44\": {\"44\": 12}, \"41\": {\"41\": 11, \"47\": 1}, \"116\": {\"116\": 12}, \"19\": {\"116\": 1, \"71\": 1, \"19\": 9, \"82\": 1}, \"115\": {\"115\": 12}, \"95\": {\"95\": 11, \"71\": 1}, \"3\": {\"3\": 10}, \"59\": {\"59\": 12}, \"55\": {\"55\": 12}, \"70\": {\"70\": 12}, \"6\": {\"6\": 12}, \"2\": {\"2\": 8, \"53\": 1, \"16\": 1, \"93\": 2}, \"48\": {\"48\": 12}, \"23\": {\"23\": 9, \"122\": 1, \"73\": 1, \"70\": 1}, \"7\": {\"7\": 12}, \"122\": {\"122\": 10, \"54\": 1, \"107\": 1}, \"57\": {\"57\": 10, \"19\": 1, \"71\": 1}, \"39\": {\"39\": 9, \"53\": 1}, \"79\": {\"79\": 11, \"101\": 1}, \"27\": {\"27\": 10}, \"74\": {\"74\": 9, \"56\": 1, \"22\": 1, \"51\": 1}, \"73\": {\"73\": 12}, \"62\": {\"62\": 12}, \"107\": {\"107\": 12}, \"128\": {\"128\": 11, \"71\": 1}, \"60\": {\"53\": 2, \"1\": 1, \"60\": 7, \"70\": 2}, \"114\": {\"114\": 12}, \"22\": {\"22\": 12}, \"93\": {\"93\": 12}, \"94\": {\"94\": 10, \"24\": 1, \"12\": 1}, \"31\": {\"31\": 10}, \"104\": {\"104\": 12}, \"58\": {\"58\": 12}}, \"C_A_2\": {\"14\": {\"14\": 12}, \"22\": {\"22\": 12}, \"9\": {\"9\": 12}, \"47\": {\"47\": 12}, \"13\": {\"13\": 12}, \"8\": {\"8\": 12}, \"7\": {\"7\": 12}, \"49\": {\"49\": 12}, \"20\": {\"20\": 12}, \"16\": {\"16\": 12}, \"34\": {\"34\": 12}, \"56\": {\"56\": 12}, \"38\": {\"38\": 10}, \"4\": {\"4\": 12}, \"43\": {\"43\": 10}, \"26\": {\"26\": 10}, \"35\": {\"35\": 12}, \"31\": {\"31\": 12}, \"1\": {\"1\": 12}, \"39\": {\"39\": 12}, \"5\": {\"5\": 12}, \"24\": {\"24\": 12}, \"54\": {\"54\": 10}, \"23\": {\"23\": 12}, \"51\": {\"51\": 12}, \"27\": {\"27\": 10}, \"15\": {\"15\": 12}, \"0\": {\"0\": 12}, \"19\": {\"19\": 10}, \"18\": {\"18\": 8}, \"30\": {\"30\": 12}, \"55\": {\"55\": 10}, \"57\": {\"57\": 12}, \"2\": {\"2\": 12}, \"12\": {\"12\": 8}, \"41\": {\"41\": 12}, \"42\": {\"42\": 12}, \"48\": {\"48\": 12}, \"37\": {\"37\": 12}, \"6\": {\"6\": 9, \"11\": 1}, \"11\": {\"11\": 10}, \"45\": {\"45\": 8}, \"21\": {\"21\": 12}, \"46\": {\"46\": 10}, \"25\": {\"25\": 12}, \"36\": {\"36\": 10}, \"53\": {\"53\": 12}, \"28\": {\"28\": 12}, \"40\": {\"40\": 10}, \"33\": {\"33\": 10}, \"44\": {\"44\": 10}, \"3\": {\"3\": 12}, \"17\": {\"17\": 12}, \"32\": {\"32\": 10}, \"10\": {\"10\": 10}, \"52\": {\"52\": 10}, \"50\": {\"50\": 8}, \"29\": {\"29\": 6}}, \"ORACLE.run1_14\": {\"15\": {\"15\": 90, \"7\": 67, \"4\": 15, \"13\": 12, \"1\": 14, \"5\": 19, \"2\": 9, \"14\": 4, \"6\": 9, \"0\": 1}, \"3\": {\"14\": 13, \"0\": 26, \"13\": 15, \"2\": 27, \"1\": 17, \"6\": 13, \"11\": 9, \"8\": 7, \"4\": 31, \"3\": 23, \"5\": 26, \"10\": 25, \"7\": 3, \"15\": 2, \"9\": 3}, \"6\": {\"3\": 18, \"2\": 41, \"14\": 35, \"7\": 6, \"6\": 43, \"13\": 44, \"5\": 21, \"1\": 7, \"15\": 5, \"4\": 9, \"10\": 8, \"0\": 3}, \"1\": {\"0\": 10, \"8\": 10, \"2\": 17, \"5\": 34, \"6\": 13, \"1\": 53, \"3\": 12, \"4\": 38, \"7\": 26, \"13\": 7, \"15\": 12, \"10\": 4, \"14\": 3, \"11\": 1}, \"8\": {\"8\": 110, \"5\": 9, \"9\": 21, \"3\": 10, \"11\": 14, \"10\": 11, \"0\": 21, \"1\": 19, \"7\": 5, \"12\": 6, \"4\": 12, \"14\": 2}, \"10\": {\"14\": 16, \"10\": 67, \"2\": 10, \"3\": 20, \"6\": 7, \"0\": 41, \"13\": 7, \"9\": 8, \"1\": 7, \"11\": 25, \"8\": 8, \"5\": 8, \"4\": 16}, \"9\": {\"9\": 80, \"11\": 56, \"8\": 27, \"3\": 4, \"12\": 55, \"10\": 5, \"0\": 12, \"1\": 1}, \"13\": {\"14\": 34, \"15\": 9, \"2\": 39, \"3\": 7, \"7\": 9, \"13\": 38, \"5\": 15, \"4\": 16, \"11\": 5, \"6\": 42, \"10\": 7, \"0\": 7, \"1\": 12}, \"12\": {\"12\": 133, \"9\": 82, \"0\": 2, \"11\": 19, \"8\": 2, \"10\": 2}, \"5\": {\"3\": 19, \"0\": 6, \"5\": 38, \"2\": 18, \"7\": 26, \"8\": 5, \"4\": 41, \"14\": 12, \"1\": 27, \"6\": 13, \"13\": 17, \"15\": 14, \"11\": 1, \"10\": 3}, \"0\": {\"14\": 14, \"8\": 11, \"0\": 51, \"11\": 42, \"1\": 9, \"10\": 40, \"2\": 10, \"3\": 26, \"5\": 7, \"9\": 9, \"12\": 2, \"6\": 2, \"4\": 9, \"13\": 8}, \"2\": {\"13\": 42, \"3\": 20, \"10\": 9, \"0\": 8, \"14\": 33, \"7\": 13, \"15\": 13, \"2\": 25, \"6\": 28, \"5\": 20, \"1\": 12, \"4\": 11, \"11\": 6}, \"11\": {\"11\": 83, \"10\": 27, \"8\": 11, \"3\": 13, \"14\": 6, \"12\": 12, \"9\": 34, \"0\": 40, \"2\": 5, \"5\": 3, \"4\": 3, \"1\": 2, \"13\": 1}, \"14\": {\"5\": 15, \"6\": 26, \"14\": 44, \"2\": 40, \"13\": 49, \"10\": 15, \"3\": 14, \"1\": 6, \"7\": 5, \"0\": 8, \"4\": 12, \"11\": 2, \"15\": 4}, \"7\": {\"15\": 71, \"7\": 75, \"13\": 4, \"5\": 18, \"1\": 29, \"4\": 19, \"6\": 2, \"2\": 10, \"3\": 6, \"14\": 5, \"10\": 1}, \"4\": {\"4\": 38, \"3\": 21, \"0\": 10, \"5\": 40, \"6\": 7, \"2\": 20, \"15\": 8, \"1\": 36, \"7\": 21, \"14\": 10, \"10\": 9, \"13\": 11, \"8\": 5, \"11\": 3, \"9\": 1}}, \"ORACLE.run1_20\": {\"3\": {\"9\": 12, \"4\": 9, \"1\": 17, \"0\": 14, \"15\": 19, \"5\": 15, \"7\": 26, \"12\": 19, \"11\": 14, \"6\": 18, \"14\": 8, \"10\": 11, \"13\": 10, \"3\": 19, \"8\": 12, \"2\": 17}, \"15\": {\"2\": 25, \"3\": 16, \"15\": 26, \"8\": 7, \"1\": 22, \"0\": 22, \"9\": 19, \"5\": 30, \"6\": 1, \"10\": 1, \"13\": 21, \"12\": 25, \"7\": 8, \"11\": 6, \"4\": 9, \"14\": 2}, \"8\": {\"6\": 31, \"5\": 6, \"3\": 15, \"12\": 10, \"11\": 11, \"10\": 24, \"8\": 31, \"15\": 5, \"7\": 17, \"0\": 9, \"14\": 31, \"4\": 23, \"9\": 9, \"2\": 10, \"13\": 4, \"1\": 4}, \"4\": {\"6\": 13, \"5\": 19, \"15\": 15, \"4\": 36, \"13\": 12, \"7\": 15, \"8\": 19, \"2\": 11, \"10\": 24, \"14\": 12, \"12\": 11, \"3\": 10, \"1\": 6, \"9\": 17, \"0\": 11, \"11\": 9}, \"14\": {\"1\": 4, \"6\": 50, \"14\": 40, \"10\": 37, \"4\": 18, \"2\": 5, \"5\": 8, \"7\": 18, \"12\": 4, \"9\": 5, \"8\": 26, \"3\": 7, \"13\": 5, \"11\": 4, \"15\": 3, \"0\": 6}, \"0\": {\"4\": 15, \"13\": 15, \"0\": 35, \"2\": 16, \"9\": 10, \"8\": 15, \"5\": 31, \"3\": 10, \"1\": 24, \"15\": 20, \"12\": 24, \"7\": 18, \"6\": 1, \"11\": 4, \"10\": 1, \"14\": 1}, \"7\": {\"12\": 14, \"14\": 6, \"8\": 15, \"15\": 6, \"4\": 25, \"13\": 19, \"2\": 20, \"11\": 13, \"10\": 12, \"9\": 17, \"7\": 21, \"3\": 17, \"1\": 10, \"0\": 10, \"6\": 16, \"5\": 19}, \"6\": {\"6\": 51, \"1\": 5, \"10\": 31, \"14\": 48, \"4\": 18, \"8\": 22, \"3\": 8, \"7\": 18, \"2\": 6, \"9\": 9, \"11\": 15, \"13\": 2, \"0\": 1, \"12\": 5, \"5\": 1}, \"10\": {\"6\": 32, \"7\": 17, \"10\": 41, \"9\": 13, \"3\": 17, \"8\": 25, \"2\": 10, \"14\": 40, \"13\": 4, \"1\": 8, \"5\": 7, \"0\": 2, \"4\": 16, \"15\": 2, \"12\": 5, \"11\": 1}, \"5\": {\"0\": 25, \"4\": 22, \"5\": 20, \"9\": 15, \"12\": 28, \"10\": 7, \"15\": 19, \"14\": 6, \"1\": 14, \"13\": 16, \"8\": 11, \"3\": 19, \"2\": 15, \"7\": 15, \"6\": 4, \"11\": 4}, \"2\": {\"5\": 12, \"2\": 36, \"6\": 11, \"13\": 20, \"7\": 17, \"3\": 12, \"15\": 22, \"1\": 18, \"9\": 24, \"0\": 8, \"8\": 9, \"12\": 15, \"11\": 14, \"4\": 10, \"14\": 6, \"10\": 6}, \"12\": {\"3\": 16, \"12\": 17, \"11\": 14, \"1\": 21, \"8\": 9, \"0\": 18, \"6\": 8, \"5\": 13, \"15\": 26, \"2\": 27, \"13\": 18, \"9\": 20, \"4\": 8, \"7\": 15, \"10\": 7, \"14\": 3}, \"9\": {\"6\": 13, \"9\": 27, \"2\": 17, \"3\": 16, \"13\": 18, \"12\": 18, \"1\": 27, \"11\": 11, \"4\": 11, \"10\": 9, \"14\": 6, \"7\": 14, \"15\": 17, \"5\": 16, \"8\": 12, \"0\": 8}, \"1\": {\"6\": 8, \"13\": 27, \"15\": 32, \"1\": 20, \"12\": 29, \"2\": 16, \"3\": 14, \"9\": 15, \"5\": 18, \"0\": 19, \"14\": 4, \"7\": 13, \"8\": 9, \"10\": 4, \"11\": 4, \"4\": 8}, \"11\": {\"11\": 97, \"12\": 6, \"0\": 6, \"7\": 26, \"13\": 19, \"4\": 6, \"9\": 11, \"8\": 8, \"6\": 16, \"2\": 19, \"3\": 9, \"14\": 6, \"5\": 4, \"15\": 5, \"1\": 1, \"10\": 1}, \"13\": {\"3\": 18, \"7\": 19, \"1\": 16, \"12\": 17, \"11\": 13, \"0\": 22, \"5\": 19, \"14\": 7, \"9\": 18, \"13\": 28, \"15\": 32, \"8\": 6, \"6\": 4, \"2\": 10, \"4\": 8, \"10\": 3}}, \"ORACLE.run1_38\": {\"5\": {\"0\": 23, \"15\": 19, \"8\": 36, \"3\": 14, \"5\": 38, \"9\": 14, \"7\": 20, \"13\": 16, \"10\": 17, \"12\": 4, \"1\": 12, \"11\": 1, \"6\": 24, \"2\": 2}, \"8\": {\"1\": 13, \"7\": 26, \"8\": 42, \"10\": 26, \"9\": 9, \"5\": 31, \"3\": 7, \"11\": 2, \"15\": 16, \"13\": 10, \"0\": 35, \"12\": 2, \"14\": 1, \"6\": 19, \"2\": 1}, \"11\": {\"11\": 61, \"10\": 18, \"14\": 69, \"2\": 26, \"4\": 6, \"15\": 19, \"0\": 1, \"1\": 3, \"7\": 4, \"12\": 20, \"8\": 4, \"13\": 8, \"5\": 1}, \"1\": {\"1\": 67, \"13\": 52, \"15\": 30, \"6\": 27, \"8\": 8, \"5\": 17, \"3\": 1, \"2\": 14, \"10\": 11, \"9\": 4, \"11\": 1, \"0\": 3, \"14\": 3, \"7\": 2}, \"10\": {\"14\": 12, \"10\": 42, \"8\": 20, \"15\": 28, \"1\": 10, \"12\": 9, \"4\": 2, \"7\": 18, \"0\": 27, \"11\": 19, \"2\": 17, \"3\": 2, \"13\": 10, \"5\": 20, \"6\": 4}, \"15\": {\"15\": 41, \"14\": 11, \"11\": 7, \"10\": 28, \"13\": 45, \"2\": 21, \"1\": 29, \"8\": 19, \"6\": 10, \"5\": 16, \"7\": 4, \"12\": 1, \"9\": 2, \"0\": 6}, \"3\": {\"3\": 136, \"9\": 44, \"5\": 9, \"0\": 18, \"8\": 8, \"6\": 12, \"7\": 12, \"1\": 1}, \"7\": {\"9\": 8, \"3\": 23, \"0\": 47, \"5\": 22, \"12\": 8, \"4\": 10, \"7\": 69, \"1\": 2, \"10\": 9, \"8\": 24, \"15\": 1, \"13\": 3, \"6\": 13, \"11\": 1}, \"4\": {\"0\": 10, \"4\": 129, \"7\": 23, \"12\": 65, \"3\": 1, \"11\": 5, \"10\": 5, \"8\": 1, \"14\": 1}, \"14\": {\"14\": 84, \"13\": 8, \"11\": 62, \"15\": 19, \"2\": 26, \"0\": 3, \"1\": 4, \"10\": 12, \"12\": 17, \"8\": 3, \"5\": 2}, \"9\": {\"9\": 77, \"1\": 8, \"8\": 13, \"7\": 7, \"3\": 35, \"6\": 55, \"5\": 22, \"13\": 4, \"0\": 14, \"10\": 2, \"15\": 3}, \"12\": {\"4\": 62, \"11\": 7, \"12\": 124, \"14\": 15, \"10\": 12, \"8\": 5, \"0\": 6, \"13\": 1, \"7\": 5, \"15\": 3}, \"6\": {\"1\": 7, \"6\": 62, \"9\": 64, \"8\": 19, \"5\": 37, \"15\": 12, \"0\": 6, \"3\": 14, \"13\": 9, \"10\": 3, \"7\": 7}, \"2\": {\"13\": 27, \"14\": 50, \"11\": 29, \"2\": 68, \"10\": 16, \"1\": 21, \"0\": 2, \"15\": 21, \"5\": 3, \"8\": 3}, \"0\": {\"0\": 45, \"3\": 29, \"13\": 4, \"10\": 15, \"1\": 2, \"7\": 38, \"8\": 42, \"9\": 12, \"5\": 22, \"6\": 17, \"15\": 5, \"12\": 5, \"2\": 1, \"4\": 2, \"11\": 1}, \"13\": {\"15\": 36, \"13\": 53, \"1\": 40, \"2\": 26, \"10\": 22, \"6\": 8, \"0\": 8, \"8\": 17, \"14\": 10, \"5\": 11, \"9\": 2, \"12\": 1, \"7\": 1, \"11\": 5}}, \"ORACLE.run1_8\": {\"9\": {\"9\": 188, \"14\": 6, \"10\": 14, \"4\": 4, \"0\": 3, \"13\": 5, \"5\": 17, \"11\": 1, \"6\": 1, \"1\": 1}, \"10\": {\"13\": 25, \"10\": 34, \"4\": 16, \"5\": 35, \"14\": 21, \"11\": 12, \"8\": 4, \"7\": 20, \"1\": 22, \"2\": 2, \"3\": 1, \"0\": 17, \"15\": 5, \"6\": 23, \"9\": 3}, \"13\": {\"0\": 22, \"8\": 10, \"13\": 22, \"3\": 3, \"10\": 25, \"11\": 15, \"4\": 23, \"5\": 22, \"14\": 25, \"6\": 21, \"1\": 16, \"15\": 5, \"2\": 8, \"12\": 5, \"7\": 17, \"9\": 1}, \"0\": {\"5\": 20, \"4\": 22, \"8\": 6, \"14\": 26, \"3\": 6, \"2\": 11, \"10\": 18, \"0\": 30, \"7\": 20, \"9\": 1, \"13\": 39, \"6\": 16, \"11\": 7, \"12\": 2, \"1\": 10, \"15\": 6}, \"1\": {\"7\": 11, \"15\": 10, \"14\": 30, \"0\": 8, \"5\": 27, \"11\": 31, \"13\": 16, \"4\": 21, \"10\": 19, \"8\": 24, \"1\": 24, \"3\": 3, \"2\": 1, \"6\": 13, \"9\": 1, \"12\": 1}, \"15\": {\"15\": 48, \"2\": 24, \"12\": 28, \"8\": 41, \"6\": 11, \"4\": 11, \"11\": 9, \"14\": 6, \"3\": 26, \"0\": 10, \"13\": 5, \"1\": 5, \"5\": 4, \"10\": 2, \"7\": 10}, \"5\": {\"5\": 55, \"11\": 22, \"14\": 36, \"9\": 7, \"2\": 3, \"1\": 22, \"13\": 14, \"7\": 5, \"0\": 20, \"6\": 12, \"4\": 17, \"10\": 23, \"8\": 2, \"15\": 1, \"3\": 1}, \"3\": {\"12\": 41, \"15\": 35, \"3\": 78, \"13\": 4, \"2\": 44, \"7\": 11, \"6\": 10, \"4\": 4, \"8\": 9, \"14\": 2, \"11\": 1, \"0\": 1}, \"6\": {\"13\": 22, \"4\": 21, \"11\": 20, \"3\": 10, \"8\": 18, \"7\": 21, \"12\": 7, \"0\": 22, \"6\": 17, \"2\": 16, \"15\": 6, \"1\": 14, \"10\": 16, \"5\": 11, \"14\": 19}, \"11\": {\"1\": 33, \"13\": 11, \"14\": 18, \"5\": 31, \"4\": 16, \"11\": 51, \"7\": 14, \"8\": 18, \"6\": 12, \"9\": 1, \"0\": 6, \"2\": 4, \"10\": 18, \"3\": 1, \"15\": 3, \"12\": 3}, \"8\": {\"4\": 8, \"3\": 15, \"6\": 24, \"11\": 16, \"10\": 6, \"0\": 4, \"12\": 27, \"13\": 9, \"1\": 9, \"7\": 21, \"8\": 45, \"2\": 11, \"15\": 32, \"14\": 11, \"5\": 2}, \"4\": {\"1\": 17, \"11\": 18, \"5\": 18, \"0\": 13, \"6\": 17, \"13\": 22, \"10\": 26, \"2\": 9, \"7\": 22, \"4\": 23, \"14\": 31, \"15\": 7, \"8\": 10, \"12\": 4, \"3\": 3}, \"12\": {\"12\": 54, \"8\": 28, \"15\": 48, \"6\": 10, \"1\": 5, \"3\": 49, \"2\": 24, \"4\": 5, \"13\": 1, \"14\": 2, \"0\": 3, \"7\": 7, \"10\": 3, \"11\": 1}, \"14\": {\"15\": 9, \"13\": 23, \"10\": 29, \"11\": 28, \"14\": 29, \"5\": 30, \"0\": 13, \"4\": 16, \"8\": 14, \"7\": 8, \"1\": 16, \"2\": 6, \"6\": 14, \"3\": 3, \"12\": 1, \"9\": 1}, \"2\": {\"4\": 4, \"3\": 59, \"2\": 67, \"15\": 23, \"0\": 14, \"7\": 11, \"12\": 24, \"11\": 2, \"14\": 3, \"8\": 9, \"6\": 8, \"1\": 2, \"10\": 5, \"13\": 9}, \"7\": {\"10\": 16, \"1\": 13, \"13\": 17, \"6\": 27, \"11\": 7, \"14\": 10, \"15\": 21, \"3\": 9, \"2\": 25, \"12\": 9, \"0\": 18, \"4\": 18, \"8\": 16, \"7\": 30, \"5\": 4}}, \"ORACLE.run1_50\": {\"7\": {\"7\": 48, \"3\": 11, \"4\": 11, \"10\": 37, \"1\": 10, \"13\": 24, \"15\": 7, \"6\": 26, \"0\": 20, \"5\": 29, \"2\": 6, \"8\": 8, \"14\": 2, \"11\": 1}, \"3\": {\"0\": 8, \"3\": 129, \"8\": 67, \"10\": 17, \"5\": 4, \"7\": 5, \"13\": 7, \"2\": 3}, \"8\": {\"8\": 86, \"0\": 34, \"3\": 48, \"10\": 47, \"13\": 5, \"5\": 2, \"2\": 9, \"1\": 1, \"7\": 6, \"6\": 2}, \"2\": {\"2\": 63, \"5\": 8, \"0\": 68, \"10\": 27, \"12\": 5, \"13\": 12, \"6\": 9, \"1\": 5, \"8\": 12, \"7\": 7, \"14\": 16, \"4\": 5, \"3\": 2, \"9\": 1}, \"14\": {\"14\": 70, \"12\": 49, \"15\": 2, \"9\": 18, \"11\": 29, \"1\": 25, \"4\": 16, \"5\": 4, \"2\": 17, \"0\": 5, \"6\": 1, \"13\": 2, \"7\": 2}, \"4\": {\"15\": 39, \"6\": 29, \"7\": 15, \"4\": 33, \"10\": 4, \"5\": 17, \"14\": 11, \"11\": 20, \"13\": 24, \"2\": 4, \"12\": 4, \"1\": 30, \"0\": 7, \"9\": 3}, \"6\": {\"15\": 24, \"13\": 29, \"5\": 31, \"1\": 31, \"6\": 41, \"4\": 24, \"7\": 20, \"0\": 10, \"9\": 2, \"14\": 5, \"11\": 7, \"2\": 9, \"10\": 6, \"8\": 1}, \"15\": {\"15\": 68, \"11\": 25, \"6\": 24, \"4\": 34, \"1\": 36, \"13\": 6, \"9\": 16, \"14\": 16, \"5\": 11, \"12\": 3, \"10\": 1}, \"10\": {\"8\": 41, \"3\": 15, \"2\": 21, \"0\": 38, \"10\": 47, \"1\": 6, \"13\": 24, \"7\": 25, \"6\": 6, \"5\": 13, \"4\": 3, \"14\": 1}, \"11\": {\"12\": 32, \"11\": 71, \"9\": 43, \"15\": 37, \"14\": 28, \"5\": 1, \"1\": 11, \"6\": 3, \"4\": 13, \"0\": 1}, \"13\": {\"7\": 34, \"13\": 49, \"4\": 25, \"5\": 41, \"10\": 15, \"3\": 4, \"1\": 13, \"0\": 14, \"14\": 7, \"6\": 24, \"15\": 6, \"2\": 6, \"8\": 2}, \"9\": {\"11\": 53, \"9\": 97, \"12\": 43, \"6\": 2, \"15\": 16, \"4\": 10, \"14\": 9, \"1\": 9, \"5\": 1}, \"0\": {\"2\": 32, \"7\": 16, \"8\": 21, \"13\": 20, \"10\": 40, \"4\": 5, \"5\": 18, \"0\": 56, \"6\": 10, \"1\": 12, \"14\": 3, \"15\": 2, \"12\": 2, \"3\": 2, \"11\": 1}, \"1\": {\"4\": 37, \"14\": 28, \"15\": 29, \"6\": 22, \"2\": 6, \"1\": 37, \"13\": 16, \"0\": 6, \"10\": 3, \"7\": 11, \"9\": 6, \"5\": 18, \"12\": 5, \"11\": 16}, \"12\": {\"2\": 9, \"14\": 39, \"12\": 92, \"9\": 50, \"11\": 35, \"1\": 6, \"4\": 3, \"15\": 4, \"6\": 1, \"0\": 1}, \"5\": {\"10\": 17, \"13\": 31, \"5\": 39, \"6\": 19, \"8\": 5, \"0\": 17, \"14\": 9, \"4\": 25, \"7\": 23, \"1\": 27, \"15\": 13, \"2\": 9, \"11\": 2, \"3\": 3, \"12\": 1}}, \"ORACLE.run1_32\": {\"8\": {\"4\": 20, \"13\": 37, \"8\": 42, \"5\": 22, \"3\": 40, \"7\": 14, \"0\": 21, \"11\": 10, \"15\": 14, \"14\": 11, \"2\": 8, \"9\": 1}, \"14\": {\"0\": 22, \"11\": 39, \"5\": 26, \"2\": 17, \"14\": 39, \"3\": 9, \"7\": 34, \"13\": 17, \"4\": 17, \"8\": 18, \"9\": 1, \"15\": 1}, \"2\": {\"2\": 66, \"14\": 15, \"11\": 18, \"4\": 41, \"5\": 23, \"7\": 30, \"8\": 6, \"9\": 8, \"0\": 27, \"13\": 6}, \"0\": {\"4\": 27, \"5\": 24, \"7\": 31, \"11\": 21, \"0\": 46, \"8\": 22, \"14\": 17, \"15\": 4, \"2\": 22, \"13\": 14, \"3\": 10, \"9\": 2}, \"1\": {\"1\": 149, \"12\": 2, \"6\": 23, \"10\": 66}, \"10\": {\"10\": 117, \"1\": 67, \"12\": 27, \"6\": 29}, \"11\": {\"0\": 14, \"3\": 12, \"11\": 62, \"7\": 40, \"4\": 12, \"8\": 14, \"5\": 14, \"14\": 54, \"13\": 11, \"2\": 7}, \"5\": {\"11\": 19, \"2\": 13, \"13\": 29, \"3\": 27, \"7\": 17, \"14\": 12, \"8\": 29, \"5\": 35, \"15\": 6, \"0\": 17, \"4\": 35, \"9\": 1}, \"15\": {\"15\": 172, \"3\": 36, \"8\": 17, \"11\": 1, \"13\": 10, \"5\": 4}, \"3\": {\"3\": 102, \"8\": 34, \"15\": 23, \"13\": 21, \"5\": 14, \"0\": 10, \"14\": 15, \"2\": 1, \"11\": 11, \"7\": 7, \"4\": 2}, \"12\": {\"12\": 163, \"6\": 14, \"9\": 43, \"10\": 19, \"1\": 1}, \"7\": {\"5\": 28, \"0\": 22, \"14\": 35, \"11\": 28, \"3\": 9, \"7\": 35, \"13\": 14, \"2\": 19, \"4\": 30, \"15\": 1, \"8\": 19}, \"13\": {\"7\": 17, \"5\": 32, \"8\": 44, \"4\": 28, \"13\": 45, \"0\": 11, \"3\": 34, \"14\": 13, \"15\": 5, \"11\": 4, \"2\": 7}, \"6\": {\"10\": 32, \"6\": 158, \"1\": 15, \"12\": 31, \"9\": 4}, \"4\": {\"0\": 35, \"11\": 15, \"2\": 32, \"7\": 29, \"14\": 11, \"4\": 42, \"8\": 18, \"5\": 22, \"15\": 1, \"13\": 29, \"9\": 4, \"3\": 2}, \"9\": {\"12\": 65, \"2\": 22, \"9\": 136, \"0\": 7, \"13\": 1, \"6\": 3, \"14\": 1, \"4\": 4, \"5\": 1}}, \"ORACLE.run1_26\": {\"4\": {\"1\": 27, \"2\": 10, \"14\": 36, \"0\": 26, \"9\": 9, \"7\": 19, \"4\": 28, \"13\": 3, \"8\": 16, \"10\": 20, \"6\": 14, \"15\": 12, \"5\": 3, \"3\": 17}, \"12\": {\"12\": 115, \"6\": 17, \"13\": 11, \"9\": 17, \"11\": 47, \"8\": 3, \"0\": 5, \"15\": 7, \"10\": 6, \"5\": 5, \"4\": 2, \"1\": 1, \"2\": 1, \"14\": 3}, \"10\": {\"3\": 9, \"10\": 26, \"6\": 19, \"9\": 13, \"5\": 10, \"15\": 15, \"12\": 2, \"8\": 19, \"1\": 28, \"4\": 23, \"14\": 20, \"7\": 15, \"0\": 29, \"2\": 6, \"13\": 5, \"11\": 1}, \"0\": {\"3\": 12, \"4\": 31, \"9\": 7, \"1\": 18, \"0\": 29, \"14\": 24, \"10\": 23, \"15\": 11, \"2\": 15, \"5\": 5, \"7\": 17, \"6\": 19, \"8\": 20, \"13\": 6, \"12\": 3}, \"13\": {\"5\": 35, \"13\": 52, \"7\": 10, \"3\": 9, \"12\": 9, \"2\": 10, \"9\": 27, \"8\": 16, \"15\": 19, \"6\": 19, \"4\": 4, \"1\": 6, \"0\": 9, \"14\": 3, \"11\": 8, \"10\": 4}, \"9\": {\"0\": 12, \"2\": 17, \"10\": 8, \"7\": 17, \"13\": 31, \"9\": 29, \"14\": 9, \"6\": 20, \"15\": 25, \"1\": 8, \"5\": 17, \"4\": 6, \"12\": 7, \"8\": 16, \"3\": 14, \"11\": 4}, \"3\": {\"14\": 23, \"1\": 14, \"5\": 15, \"9\": 9, \"3\": 43, \"10\": 9, \"7\": 24, \"15\": 19, \"2\": 34, \"0\": 10, \"4\": 23, \"6\": 6, \"8\": 11}, \"2\": {\"4\": 17, \"7\": 33, \"9\": 16, \"5\": 19, \"1\": 11, \"3\": 38, \"8\": 12, \"0\": 8, \"2\": 34, \"6\": 9, \"15\": 14, \"13\": 12, \"14\": 9, \"10\": 7, \"12\": 1}, \"5\": {\"13\": 35, \"6\": 13, \"5\": 32, \"11\": 4, \"1\": 8, \"9\": 27, \"4\": 7, \"2\": 25, \"15\": 22, \"10\": 12, \"7\": 9, \"3\": 18, \"0\": 7, \"8\": 11, \"12\": 6, \"14\": 4}, \"14\": {\"14\": 25, \"8\": 20, \"5\": 4, \"9\": 6, \"0\": 18, \"10\": 25, \"3\": 13, \"4\": 28, \"12\": 1, \"7\": 24, \"1\": 27, \"6\": 18, \"2\": 16, \"13\": 7, \"15\": 8}, \"8\": {\"10\": 13, \"15\": 22, \"5\": 6, \"6\": 15, \"2\": 14, \"7\": 19, \"8\": 25, \"0\": 23, \"1\": 21, \"9\": 16, \"14\": 21, \"4\": 25, \"13\": 9, \"11\": 1, \"3\": 6, \"12\": 4}, \"7\": {\"2\": 21, \"7\": 37, \"15\": 18, \"5\": 12, \"3\": 32, \"6\": 10, \"4\": 20, \"10\": 13, \"0\": 14, \"1\": 17, \"8\": 16, \"14\": 13, \"13\": 9, \"9\": 7, \"12\": 1}, \"6\": {\"0\": 20, \"6\": 29, \"15\": 23, \"9\": 19, \"14\": 17, \"12\": 15, \"5\": 16, \"4\": 12, \"3\": 5, \"7\": 9, \"10\": 27, \"13\": 15, \"8\": 16, \"1\": 7, \"2\": 6, \"11\": 4}, \"11\": {\"12\": 59, \"13\": 14, \"11\": 150, \"9\": 7, \"8\": 1, \"0\": 1, \"2\": 1, \"6\": 1, \"5\": 5, \"15\": 1}, \"15\": {\"7\": 19, \"5\": 19, \"4\": 14, \"3\": 17, \"6\": 20, \"2\": 15, \"0\": 16, \"10\": 12, \"13\": 26, \"1\": 14, \"15\": 22, \"9\": 11, \"12\": 6, \"8\": 18, \"14\": 9, \"11\": 2}, \"1\": {\"9\": 4, \"4\": 20, \"2\": 15, \"1\": 26, \"15\": 10, \"8\": 27, \"7\": 23, \"10\": 26, \"14\": 24, \"3\": 22, \"0\": 22, \"6\": 11, \"5\": 6, \"13\": 4}}, \"ORACLE.run1_44\": {\"12\": {\"1\": 52, \"3\": 25, \"12\": 75, \"7\": 12, \"10\": 53, \"9\": 4, \"2\": 18, \"13\": 1}, \"7\": {\"2\": 32, \"6\": 23, \"9\": 41, \"11\": 25, \"7\": 47, \"13\": 25, \"12\": 8, \"1\": 13, \"10\": 18, \"3\": 7, \"14\": 1}, \"5\": {\"14\": 42, \"8\": 34, \"5\": 63, \"0\": 43, \"15\": 40, \"4\": 18}, \"15\": {\"4\": 22, \"14\": 39, \"5\": 38, \"15\": 64, \"0\": 45, \"8\": 31, \"9\": 1}, \"8\": {\"8\": 92, \"0\": 66, \"5\": 35, \"15\": 38, \"14\": 8, \"4\": 1}, \"2\": {\"10\": 42, \"6\": 21, \"1\": 20, \"7\": 38, \"12\": 21, \"9\": 21, \"11\": 13, \"2\": 46, \"13\": 9, \"3\": 9}, \"13\": {\"11\": 43, \"13\": 57, \"9\": 43, \"7\": 25, \"6\": 34, \"3\": 7, \"14\": 3, \"2\": 14, \"4\": 10, \"1\": 3, \"12\": 1}, \"4\": {\"4\": 85, \"14\": 69, \"13\": 13, \"9\": 10, \"15\": 24, \"6\": 4, \"3\": 5, \"5\": 17, \"0\": 8, \"1\": 1, \"7\": 3, \"11\": 1}, \"0\": {\"0\": 65, \"8\": 68, \"5\": 49, \"15\": 40, \"14\": 15, \"4\": 3}, \"6\": {\"6\": 81, \"9\": 30, \"7\": 22, \"2\": 16, \"11\": 37, \"13\": 42, \"3\": 3, \"10\": 5, \"1\": 3, \"4\": 1}, \"9\": {\"9\": 52, \"13\": 39, \"7\": 30, \"1\": 15, \"6\": 26, \"12\": 6, \"2\": 27, \"11\": 19, \"10\": 8, \"4\": 7, \"3\": 9, \"14\": 2}, \"11\": {\"7\": 24, \"11\": 85, \"9\": 30, \"2\": 12, \"6\": 25, \"13\": 50, \"1\": 4, \"3\": 2, \"4\": 3, \"10\": 3, \"14\": 1, \"5\": 1}, \"10\": {\"1\": 37, \"2\": 46, \"10\": 61, \"7\": 17, \"12\": 47, \"3\": 12, \"13\": 3, \"9\": 5, \"6\": 7, \"11\": 5}, \"14\": {\"0\": 12, \"5\": 26, \"4\": 71, \"15\": 50, \"14\": 58, \"8\": 11, \"9\": 7, \"11\": 2, \"3\": 2, \"13\": 1}, \"1\": {\"3\": 43, \"2\": 24, \"1\": 60, \"10\": 38, \"7\": 15, \"12\": 53, \"6\": 3, \"9\": 3, \"11\": 1}, \"3\": {\"1\": 52, \"3\": 80, \"12\": 43, \"2\": 14, \"4\": 1, \"10\": 15, \"9\": 12, \"7\": 16, \"15\": 1, \"6\": 1, \"13\": 4, \"14\": 1}}}, \"per_domain_accuracy\": {\"W_A_3\": {\"accuracy\": 0.9596354166666666, \"source?\": true}, \"W_A_4\": {\"accuracy\": 0.9348958333333334, \"source?\": true}, \"C_A_3\": {\"accuracy\": 1.0, \"source?\": true}, \"C_A_4\": {\"accuracy\": 0.996875, \"source?\": true}, \"W_A_1\": {\"accuracy\": 0.9615885416666666, \"source?\": true}, \"C_A_5\": {\"accuracy\": 0.9953125, \"source?\": true}, \"C_A_1\": {\"accuracy\": 0.9875, \"source?\": true}, \"W_A_2\": {\"accuracy\": 0.9498697916666666, \"source?\": true}, \"C_A_2\": {\"accuracy\": 0.9984375, \"source?\": true}, \"ORACLE.run1_14\": {\"accuracy\": 0.25807291666666665, \"source?\": false}, \"ORACLE.run1_20\": {\"accuracy\": 0.14192708333333334, \"source?\": false}, \"ORACLE.run1_38\": {\"accuracy\": 0.29635416666666664, \"source?\": false}, \"ORACLE.run1_8\": {\"accuracy\": 0.20703125, \"source?\": false}, \"ORACLE.run1_50\": {\"accuracy\": 0.2671875, \"source?\": false}, \"ORACLE.run1_32\": {\"accuracy\": 0.36692708333333335, \"source?\": false}, \"ORACLE.run1_26\": {\"accuracy\": 0.1828125, \"source?\": false}, \"ORACLE.run1_44\": {\"accuracy\": 0.27890625, \"source?\": false}}}, \"history\": {\"epoch_indices\": [1, 2, 3, 4, 5, 6, 7, 8], \"train_label_loss\": [0.41639209774303565, 0.21427817048447748, 0.158033038249372, 0.12329531954033322, 0.1043097764325774, 0.08581760412569632, 0.06997679778586699, 0.05856261502745265], \"source_val_label_loss\": [0.2873033881187439, 0.1945710927248001, 0.18027524650096893, 0.15646159648895264, 0.1531132459640503, 0.1673942506313324, 0.18361404538154602, 0.16709518432617188], \"target_val_label_loss\": [2.3802945613861084, 2.2953011989593506, 2.246633768081665, 2.175116777420044, 2.2536911964416504, 2.272916793823242, 2.330946207046509, 2.388129711151123], \"source_val_acc_label\": [0.936429794520548, 0.9576198630136986, 0.9594392123287672, 0.9666095890410958, 0.9669306506849316, 0.965646404109589, 0.9621147260273972, 0.9689640410958904], \"target_val_acc_label\": [0.19925130208333333, 0.23167317708333332, 0.237109375, 0.24990234375, 0.23395182291666666, 0.23297526041666666, 0.23525390625, 0.22776692708333332]}, \"dataset_metrics\": {\"source\": {\"train\": {\"n_unique_x\": 56700, \"n_unique_y\": 130, \"n_batch/episode\": 2079}, \"val\": {\"n_unique_x\": 12132, \"n_unique_y\": 130, \"n_batch/episode\": 292}, \"test\": {\"n_unique_x\": 12132, \"n_unique_y\": 130, \"n_batch/episode\": 292}}, \"target\": {\"train\": {\"n_unique_x\": 179200, \"n_unique_y\": 16, \"n_batch/episode\": 6720}, \"val\": {\"n_unique_x\": 38400, \"n_unique_y\": 16, \"n_batch/episode\": 960}, \"test\": {\"n_unique_x\": 38400, \"n_unique_y\": 16, \"n_batch/episode\": 960}}}}'"
      ]
     },
     "execution_count": 29,
     "metadata": {},
     "output_type": "execute_result"
    }
   ],
   "source": [
    "json.dumps(experiment)"
   ]
  }
 ],
 "metadata": {
  "celltoolbar": "Tags",
  "kernelspec": {
   "display_name": "Python 3 (ipykernel)",
   "language": "python",
   "name": "python3"
  },
  "language_info": {
   "codemirror_mode": {
    "name": "ipython",
    "version": 3
   },
   "file_extension": ".py",
   "mimetype": "text/x-python",
   "name": "python",
   "nbconvert_exporter": "python",
   "pygments_lexer": "ipython3",
   "version": "3.8.10"
  },
  "papermill": {
   "default_parameters": {},
   "duration": 624.01634,
   "end_time": "2022-03-18T07:38:42.942091",
   "environment_variables": {},
   "exception": null,
   "input_path": "/mnt/wd500GB/CSC500/csc500-main/csc500-notebooks/templates/tl_ptn_template.ipynb",
   "output_path": "trial.ipynb",
   "parameters": {
    "parameters": {
     "BEST_MODEL_PATH": "./best_model.pth",
     "NUM_LOGS_PER_EPOCH": 10,
     "criteria_for_best": "target_loss",
     "dataset_seed": 1337,
     "datasets": [
      {
       "domain_prefix": "C_A_",
       "domains": [
        1,
        2,
        3,
        4,
        5
       ],
       "episode_transforms": [],
       "labels": [
        "1-10.",
        "1-11.",
        "1-15.",
        "1-16.",
        "1-17.",
        "1-18.",
        "1-19.",
        "10-4.",
        "10-7.",
        "11-1.",
        "11-14.",
        "11-17.",
        "11-20.",
        "11-7.",
        "13-20.",
        "13-8.",
        "14-10.",
        "14-11.",
        "14-14.",
        "14-7.",
        "15-1.",
        "15-20.",
        "16-1.",
        "16-16.",
        "17-10.",
        "17-11.",
        "17-2.",
        "19-1.",
        "19-16.",
        "19-19.",
        "19-20.",
        "19-3.",
        "2-10.",
        "2-11.",
        "2-17.",
        "2-18.",
        "2-20.",
        "2-3.",
        "2-4.",
        "2-5.",
        "2-6.",
        "2-7.",
        "2-8.",
        "3-13.",
        "3-18.",
        "3-3.",
        "4-1.",
        "4-10.",
        "4-11.",
        "4-19.",
        "5-5.",
        "6-15.",
        "7-10.",
        "7-14.",
        "8-18.",
        "8-20.",
        "8-3.",
        "8-8."
       ],
       "num_examples_per_domain_per_label": 100,
       "pickle_path": "/mnt/wd500GB/CSC500/csc500-main/datasets/cores.stratified_ds.2022A.pkl",
       "source_or_target_dataset": "source",
       "x_transforms": [
        "unit_power",
        "jitter_256_10",
        "take_200"
       ]
      },
      {
       "domain_prefix": "W_A_",
       "domains": [
        1,
        2,
        3,
        4
       ],
       "episode_transforms": [],
       "labels": [
        "1-10",
        "1-12",
        "1-14",
        "1-16",
        "1-18",
        "1-19",
        "1-8",
        "10-11",
        "10-17",
        "10-4",
        "10-7",
        "11-1",
        "11-10",
        "11-19",
        "11-20",
        "11-4",
        "11-7",
        "12-19",
        "12-20",
        "12-7",
        "13-14",
        "13-18",
        "13-19",
        "13-20",
        "13-3",
        "13-7",
        "14-10",
        "14-11",
        "14-12",
        "14-13",
        "14-14",
        "14-19",
        "14-20",
        "14-7",
        "14-8",
        "14-9",
        "15-1",
        "15-19",
        "15-6",
        "16-1",
        "16-16",
        "16-19",
        "16-20",
        "17-10",
        "17-11",
        "18-1",
        "18-10",
        "18-11",
        "18-12",
        "18-13",
        "18-14",
        "18-15",
        "18-16",
        "18-17",
        "18-19",
        "18-2",
        "18-20",
        "18-4",
        "18-5",
        "18-7",
        "18-8",
        "18-9",
        "19-1",
        "19-10",
        "19-11",
        "19-12",
        "19-13",
        "19-14",
        "19-15",
        "19-19",
        "19-2",
        "19-20",
        "19-3",
        "19-4",
        "19-6",
        "19-7",
        "19-8",
        "19-9",
        "2-1",
        "2-13",
        "2-15",
        "2-3",
        "2-4",
        "2-5",
        "2-6",
        "2-7",
        "2-8",
        "20-1",
        "20-12",
        "20-14",
        "20-15",
        "20-16",
        "20-18",
        "20-19",
        "20-20",
        "20-3",
        "20-4",
        "20-5",
        "20-7",
        "20-8",
        "3-1",
        "3-13",
        "3-18",
        "3-2",
        "3-8",
        "4-1",
        "4-10",
        "4-11",
        "5-1",
        "5-5",
        "6-1",
        "6-15",
        "6-6",
        "7-10",
        "7-11",
        "7-12",
        "7-13",
        "7-14",
        "7-7",
        "7-8",
        "7-9",
        "8-1",
        "8-13",
        "8-14",
        "8-18",
        "8-20",
        "8-3",
        "8-8",
        "9-1",
        "9-7"
       ],
       "num_examples_per_domain_per_label": 100,
       "pickle_path": "/mnt/wd500GB/CSC500/csc500-main/datasets/wisig.node3-19.stratified_ds.2022A.pkl",
       "source_or_target_dataset": "source",
       "x_transforms": [
        "unit_power",
        "jitter_256_10",
        "take_200"
       ]
      },
      {
       "domain_prefix": "ORACLE.run1_",
       "domains": [
        32,
        38,
        8,
        44,
        14,
        50,
        20,
        26
       ],
       "episode_transforms": [],
       "labels": [
        "3123D52",
        "3123D65",
        "3123D79",
        "3123D80",
        "3123D54",
        "3123D70",
        "3123D7B",
        "3123D89",
        "3123D58",
        "3123D76",
        "3123D7D",
        "3123EFE",
        "3123D64",
        "3123D78",
        "3123D7E",
        "3124E4A"
       ],
       "num_examples_per_domain_per_label": 2000,
       "pickle_path": "/mnt/wd500GB/CSC500/csc500-main/datasets/oracle.Run1_framed_2000Examples_stratified_ds.2022A.pkl",
       "source_or_target_dataset": "target",
       "x_transforms": [
        "unit_power",
        "jitter_256_10",
        "take_200",
        "resample_20Msps_to_25Msps"
       ]
      }
     ],
     "device": "cuda",
     "experiment_name": "tl_3-jitter10:cores+wisig -> oracle.run1.framed",
     "lr": 0.001,
     "n_epoch": 50,
     "n_query": 2,
     "n_shot": 3,
     "n_way": 16,
     "patience": 3,
     "seed": 1337,
     "test_k_factor": 2,
     "torch_default_dtype": "torch.float32",
     "train_k_factor": 3,
     "val_k_factor": 2,
     "x_net": [
      {
       "class": "nnReshape",
       "kargs": {
        "shape": [
         -1,
         1,
         2,
         256
        ]
       }
      },
      {
       "class": "Conv2d",
       "kargs": {
        "bias": false,
        "in_channels": 1,
        "kernel_size": [
         1,
         7
        ],
        "out_channels": 256,
        "padding": [
         0,
         3
        ]
       }
      },
      {
       "class": "ReLU",
       "kargs": {
        "inplace": true
       }
      },
      {
       "class": "BatchNorm2d",
       "kargs": {
        "num_features": 256
       }
      },
      {
       "class": "Conv2d",
       "kargs": {
        "bias": true,
        "in_channels": 256,
        "kernel_size": [
         2,
         7
        ],
        "out_channels": 80,
        "padding": [
         0,
         3
        ]
       }
      },
      {
       "class": "ReLU",
       "kargs": {
        "inplace": true
       }
      },
      {
       "class": "BatchNorm2d",
       "kargs": {
        "num_features": 80
       }
      },
      {
       "class": "Flatten",
       "kargs": {}
      },
      {
       "class": "Linear",
       "kargs": {
        "in_features": 20480,
        "out_features": 256
       }
      },
      {
       "class": "ReLU",
       "kargs": {
        "inplace": true
       }
      },
      {
       "class": "BatchNorm1d",
       "kargs": {
        "num_features": 256
       }
      },
      {
       "class": "Linear",
       "kargs": {
        "in_features": 256,
        "out_features": 256
       }
      }
     ]
    }
   },
   "start_time": "2022-03-18T07:28:18.925751",
   "version": "2.3.4"
  }
 },
 "nbformat": 4,
 "nbformat_minor": 5
}