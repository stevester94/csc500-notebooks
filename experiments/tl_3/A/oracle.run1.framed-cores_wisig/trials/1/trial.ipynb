{
 "cells": [
  {
   "cell_type": "markdown",
   "id": "9fea5f46",
   "metadata": {
    "papermill": {
     "duration": 0.020302,
     "end_time": "2022-03-18T02:04:52.140762",
     "exception": false,
     "start_time": "2022-03-18T02:04:52.120460",
     "status": "completed"
    },
    "tags": []
   },
   "source": [
    "# Transfer Learning Template"
   ]
  },
  {
   "cell_type": "code",
   "execution_count": 1,
   "id": "0902182a",
   "metadata": {
    "execution": {
     "iopub.execute_input": "2022-03-18T02:04:52.187972Z",
     "iopub.status.busy": "2022-03-18T02:04:52.187436Z",
     "iopub.status.idle": "2022-03-18T02:04:53.182549Z",
     "shell.execute_reply": "2022-03-18T02:04:53.182989Z"
    },
    "papermill": {
     "duration": 1.022152,
     "end_time": "2022-03-18T02:04:53.183209",
     "exception": false,
     "start_time": "2022-03-18T02:04:52.161057",
     "status": "completed"
    },
    "tags": []
   },
   "outputs": [],
   "source": [
    "%load_ext autoreload\n",
    "%autoreload 2\n",
    "%matplotlib inline\n",
    "\n",
    "    \n",
    "import os, json, sys, time, random\n",
    "import numpy as np\n",
    "import torch\n",
    "from torch.optim import Adam\n",
    "from  easydict import EasyDict\n",
    "import matplotlib.pyplot as plt\n",
    "\n",
    "from steves_models.steves_ptn import Steves_Prototypical_Network\n",
    "\n",
    "from steves_utils.lazy_iterable_wrapper import Lazy_Iterable_Wrapper\n",
    "from steves_utils.iterable_aggregator import Iterable_Aggregator\n",
    "from steves_utils.ptn_train_eval_test_jig import  PTN_Train_Eval_Test_Jig\n",
    "from steves_utils.torch_sequential_builder import build_sequential\n",
    "from steves_utils.torch_utils import get_dataset_metrics, ptn_confusion_by_domain_over_dataloader\n",
    "from steves_utils.utils_v2 import (per_domain_accuracy_from_confusion, get_datasets_base_path)\n",
    "from steves_utils.PTN.utils import independent_accuracy_assesment\n",
    "\n",
    "from torch.utils.data import DataLoader\n",
    "\n",
    "from steves_utils.stratified_dataset.episodic_accessor import Episodic_Accessor_Factory\n",
    "\n",
    "from steves_utils.ptn_do_report import (\n",
    "    get_loss_curve,\n",
    "    get_results_table,\n",
    "    get_parameters_table,\n",
    "    get_domain_accuracies,\n",
    ")\n",
    "\n",
    "from steves_utils.transforms import get_chained_transform"
   ]
  },
  {
   "cell_type": "markdown",
   "id": "41c840b4",
   "metadata": {
    "papermill": {
     "duration": 0.017042,
     "end_time": "2022-03-18T02:04:53.218094",
     "exception": false,
     "start_time": "2022-03-18T02:04:53.201052",
     "status": "completed"
    },
    "tags": []
   },
   "source": [
    "# Allowed Parameters\n",
    "These are allowed parameters, not defaults\n",
    "Each of these values need to be present in the injected parameters (the notebook will raise an exception if they are not present)\n",
    "\n",
    "Papermill uses the cell tag \"parameters\" to inject the real parameters below this cell.\n",
    "Enable tags to see what I mean"
   ]
  },
  {
   "cell_type": "code",
   "execution_count": 2,
   "id": "fd44eb83",
   "metadata": {
    "execution": {
     "iopub.execute_input": "2022-03-18T02:04:53.257380Z",
     "iopub.status.busy": "2022-03-18T02:04:53.256943Z",
     "iopub.status.idle": "2022-03-18T02:04:53.270221Z",
     "shell.execute_reply": "2022-03-18T02:04:53.270654Z"
    },
    "papermill": {
     "duration": 0.03405,
     "end_time": "2022-03-18T02:04:53.270791",
     "exception": false,
     "start_time": "2022-03-18T02:04:53.236741",
     "status": "completed"
    },
    "tags": []
   },
   "outputs": [],
   "source": [
    "required_parameters = {\n",
    "    \"experiment_name\",\n",
    "    \"lr\",\n",
    "    \"device\",\n",
    "    \"seed\",\n",
    "    \"dataset_seed\",\n",
    "    \"n_shot\",\n",
    "    \"n_query\",\n",
    "    \"n_way\",\n",
    "    \"train_k_factor\",\n",
    "    \"val_k_factor\",\n",
    "    \"test_k_factor\",\n",
    "    \"n_epoch\",\n",
    "    \"patience\",\n",
    "    \"criteria_for_best\",\n",
    "    \"x_net\",\n",
    "    \"datasets\",\n",
    "    \"torch_default_dtype\",\n",
    "    \"NUM_LOGS_PER_EPOCH\",\n",
    "    \"BEST_MODEL_PATH\",\n",
    "    \"x_shape\",\n",
    "}"
   ]
  },
  {
   "cell_type": "code",
   "execution_count": 3,
   "id": "fa3f0049",
   "metadata": {
    "execution": {
     "iopub.execute_input": "2022-03-18T02:04:53.317639Z",
     "iopub.status.busy": "2022-03-18T02:04:53.317061Z",
     "iopub.status.idle": "2022-03-18T02:04:53.330537Z",
     "shell.execute_reply": "2022-03-18T02:04:53.330283Z"
    },
    "papermill": {
     "duration": 0.042744,
     "end_time": "2022-03-18T02:04:53.330602",
     "exception": false,
     "start_time": "2022-03-18T02:04:53.287858",
     "status": "completed"
    },
    "tags": [
     "parameters"
    ]
   },
   "outputs": [],
   "source": [
    "from steves_utils.CORES.utils import (\n",
    "    ALL_NODES,\n",
    "    ALL_NODES_MINIMUM_1000_EXAMPLES,\n",
    "    ALL_DAYS\n",
    ")\n",
    "\n",
    "from steves_utils.ORACLE.utils_v2 import (\n",
    "    ALL_DISTANCES_FEET_NARROWED,\n",
    "    ALL_RUNS,\n",
    "    ALL_SERIAL_NUMBERS,\n",
    ")\n",
    "\n",
    "standalone_parameters = {}\n",
    "standalone_parameters[\"experiment_name\"] = \"STANDALONE PTN\"\n",
    "standalone_parameters[\"lr\"] = 0.001\n",
    "standalone_parameters[\"device\"] = \"cuda\"\n",
    "\n",
    "standalone_parameters[\"seed\"] = 1337\n",
    "standalone_parameters[\"dataset_seed\"] = 1337\n",
    "\n",
    "standalone_parameters[\"n_way\"] = 8\n",
    "standalone_parameters[\"n_shot\"] = 3\n",
    "standalone_parameters[\"n_query\"]  = 2\n",
    "standalone_parameters[\"train_k_factor\"] = 1\n",
    "standalone_parameters[\"val_k_factor\"] = 2\n",
    "standalone_parameters[\"test_k_factor\"] = 2\n",
    "\n",
    "\n",
    "standalone_parameters[\"n_epoch\"] = 50\n",
    "\n",
    "standalone_parameters[\"patience\"] = 10\n",
    "standalone_parameters[\"criteria_for_best\"] = \"source_loss\"\n",
    "\n",
    "standalone_parameters[\"datasets\"] = [\n",
    "    {\n",
    "        \"labels\": ALL_SERIAL_NUMBERS,\n",
    "        \"domains\": ALL_DISTANCES_FEET_NARROWED,\n",
    "        \"num_examples_per_domain_per_label\": 100,\n",
    "        \"pickle_path\": os.path.join(get_datasets_base_path(), \"oracle.Run1_framed_2000Examples_stratified_ds.2022A.pkl\"),\n",
    "        \"source_or_target_dataset\": \"source\",\n",
    "        \"x_transforms\": [\"unit_mag\", \"minus_two\"],\n",
    "        \"episode_transforms\": [],\n",
    "        \"domain_prefix\": \"ORACLE_\"\n",
    "    },\n",
    "    {\n",
    "        \"labels\": ALL_NODES,\n",
    "        \"domains\": ALL_DAYS,\n",
    "        \"num_examples_per_domain_per_label\": 100,\n",
    "        \"pickle_path\": os.path.join(get_datasets_base_path(), \"cores.stratified_ds.2022A.pkl\"),\n",
    "        \"source_or_target_dataset\": \"target\",\n",
    "        \"x_transforms\": [\"unit_power\", \"times_zero\"],\n",
    "        \"episode_transforms\": [],\n",
    "        \"domain_prefix\": \"CORES_\"\n",
    "    }   \n",
    "]\n",
    "\n",
    "standalone_parameters[\"torch_default_dtype\"] = \"torch.float32\" \n",
    "\n",
    "\n",
    "\n",
    "standalone_parameters[\"x_net\"] =     [\n",
    "    {\"class\": \"nnReshape\", \"kargs\": {\"shape\":[-1, 1, 2, 256]}},\n",
    "    {\"class\": \"Conv2d\", \"kargs\": { \"in_channels\":1, \"out_channels\":256, \"kernel_size\":(1,7), \"bias\":False, \"padding\":(0,3), },},\n",
    "    {\"class\": \"ReLU\", \"kargs\": {\"inplace\": True}},\n",
    "    {\"class\": \"BatchNorm2d\", \"kargs\": {\"num_features\":256}},\n",
    "\n",
    "    {\"class\": \"Conv2d\", \"kargs\": { \"in_channels\":256, \"out_channels\":80, \"kernel_size\":(2,7), \"bias\":True, \"padding\":(0,3), },},\n",
    "    {\"class\": \"ReLU\", \"kargs\": {\"inplace\": True}},\n",
    "    {\"class\": \"BatchNorm2d\", \"kargs\": {\"num_features\":80}},\n",
    "    {\"class\": \"Flatten\", \"kargs\": {}},\n",
    "\n",
    "    {\"class\": \"Linear\", \"kargs\": {\"in_features\": 80*256, \"out_features\": 256}}, # 80 units per IQ pair\n",
    "    {\"class\": \"ReLU\", \"kargs\": {\"inplace\": True}},\n",
    "    {\"class\": \"BatchNorm1d\", \"kargs\": {\"num_features\":256}},\n",
    "\n",
    "    {\"class\": \"Linear\", \"kargs\": {\"in_features\": 256, \"out_features\": 256}},\n",
    "]\n",
    "\n",
    "# Parameters relevant to results\n",
    "# These parameters will basically never need to change\n",
    "standalone_parameters[\"NUM_LOGS_PER_EPOCH\"] = 10\n",
    "standalone_parameters[\"BEST_MODEL_PATH\"] = \"./best_model.pth\"\n",
    "\n",
    "\n",
    "\n",
    "\n"
   ]
  },
  {
   "cell_type": "code",
   "execution_count": 4,
   "id": "eaec3e0e",
   "metadata": {
    "execution": {
     "iopub.execute_input": "2022-03-18T02:04:53.383986Z",
     "iopub.status.busy": "2022-03-18T02:04:53.381678Z",
     "iopub.status.idle": "2022-03-18T02:04:53.398007Z",
     "shell.execute_reply": "2022-03-18T02:04:53.398236Z"
    },
    "papermill": {
     "duration": 0.046767,
     "end_time": "2022-03-18T02:04:53.398322",
     "exception": false,
     "start_time": "2022-03-18T02:04:53.351555",
     "status": "completed"
    },
    "tags": [
     "injected-parameters"
    ]
   },
   "outputs": [],
   "source": [
    "# Parameters\n",
    "parameters = {\n",
    "    \"experiment_name\": \"tl_3A:oracle.run1.framed -> cores+wisig\",\n",
    "    \"device\": \"cuda\",\n",
    "    \"lr\": 0.001,\n",
    "    \"seed\": 1337,\n",
    "    \"dataset_seed\": 1337,\n",
    "    \"x_shape\": [2, 200],\n",
    "    \"n_shot\": 3,\n",
    "    \"n_query\": 2,\n",
    "    \"train_k_factor\": 3,\n",
    "    \"val_k_factor\": 2,\n",
    "    \"test_k_factor\": 2,\n",
    "    \"torch_default_dtype\": \"torch.float32\",\n",
    "    \"n_epoch\": 50,\n",
    "    \"patience\": 3,\n",
    "    \"criteria_for_best\": \"target_loss\",\n",
    "    \"x_net\": [\n",
    "        {\"class\": \"nnReshape\", \"kargs\": {\"shape\": [-1, 1, 2, 200]}},\n",
    "        {\n",
    "            \"class\": \"Conv2d\",\n",
    "            \"kargs\": {\n",
    "                \"in_channels\": 1,\n",
    "                \"out_channels\": 256,\n",
    "                \"kernel_size\": [1, 7],\n",
    "                \"bias\": False,\n",
    "                \"padding\": [0, 3],\n",
    "            },\n",
    "        },\n",
    "        {\"class\": \"ReLU\", \"kargs\": {\"inplace\": True}},\n",
    "        {\"class\": \"BatchNorm2d\", \"kargs\": {\"num_features\": 256}},\n",
    "        {\n",
    "            \"class\": \"Conv2d\",\n",
    "            \"kargs\": {\n",
    "                \"in_channels\": 256,\n",
    "                \"out_channels\": 80,\n",
    "                \"kernel_size\": [2, 7],\n",
    "                \"bias\": True,\n",
    "                \"padding\": [0, 3],\n",
    "            },\n",
    "        },\n",
    "        {\"class\": \"ReLU\", \"kargs\": {\"inplace\": True}},\n",
    "        {\"class\": \"BatchNorm2d\", \"kargs\": {\"num_features\": 80}},\n",
    "        {\"class\": \"Flatten\", \"kargs\": {}},\n",
    "        {\"class\": \"Linear\", \"kargs\": {\"in_features\": 16000, \"out_features\": 256}},\n",
    "        {\"class\": \"ReLU\", \"kargs\": {\"inplace\": True}},\n",
    "        {\"class\": \"BatchNorm1d\", \"kargs\": {\"num_features\": 256}},\n",
    "        {\"class\": \"Linear\", \"kargs\": {\"in_features\": 256, \"out_features\": 256}},\n",
    "    ],\n",
    "    \"NUM_LOGS_PER_EPOCH\": 10,\n",
    "    \"BEST_MODEL_PATH\": \"./best_model.pth\",\n",
    "    \"n_way\": 16,\n",
    "    \"datasets\": [\n",
    "        {\n",
    "            \"labels\": [\n",
    "                \"1-10.\",\n",
    "                \"1-11.\",\n",
    "                \"1-15.\",\n",
    "                \"1-16.\",\n",
    "                \"1-17.\",\n",
    "                \"1-18.\",\n",
    "                \"1-19.\",\n",
    "                \"10-4.\",\n",
    "                \"10-7.\",\n",
    "                \"11-1.\",\n",
    "                \"11-14.\",\n",
    "                \"11-17.\",\n",
    "                \"11-20.\",\n",
    "                \"11-7.\",\n",
    "                \"13-20.\",\n",
    "                \"13-8.\",\n",
    "                \"14-10.\",\n",
    "                \"14-11.\",\n",
    "                \"14-14.\",\n",
    "                \"14-7.\",\n",
    "                \"15-1.\",\n",
    "                \"15-20.\",\n",
    "                \"16-1.\",\n",
    "                \"16-16.\",\n",
    "                \"17-10.\",\n",
    "                \"17-11.\",\n",
    "                \"17-2.\",\n",
    "                \"19-1.\",\n",
    "                \"19-16.\",\n",
    "                \"19-19.\",\n",
    "                \"19-20.\",\n",
    "                \"19-3.\",\n",
    "                \"2-10.\",\n",
    "                \"2-11.\",\n",
    "                \"2-17.\",\n",
    "                \"2-18.\",\n",
    "                \"2-20.\",\n",
    "                \"2-3.\",\n",
    "                \"2-4.\",\n",
    "                \"2-5.\",\n",
    "                \"2-6.\",\n",
    "                \"2-7.\",\n",
    "                \"2-8.\",\n",
    "                \"3-13.\",\n",
    "                \"3-18.\",\n",
    "                \"3-3.\",\n",
    "                \"4-1.\",\n",
    "                \"4-10.\",\n",
    "                \"4-11.\",\n",
    "                \"4-19.\",\n",
    "                \"5-5.\",\n",
    "                \"6-15.\",\n",
    "                \"7-10.\",\n",
    "                \"7-14.\",\n",
    "                \"8-18.\",\n",
    "                \"8-20.\",\n",
    "                \"8-3.\",\n",
    "                \"8-8.\",\n",
    "            ],\n",
    "            \"domains\": [1, 2, 3, 4, 5],\n",
    "            \"num_examples_per_domain_per_label\": 100,\n",
    "            \"pickle_path\": \"/mnt/wd500GB/CSC500/csc500-main/datasets/cores.stratified_ds.2022A.pkl\",\n",
    "            \"source_or_target_dataset\": \"target\",\n",
    "            \"x_transforms\": [\"unit_mag\", \"take_200\"],\n",
    "            \"episode_transforms\": [],\n",
    "            \"domain_prefix\": \"C_A_\",\n",
    "        },\n",
    "        {\n",
    "            \"labels\": [\n",
    "                \"1-10\",\n",
    "                \"1-12\",\n",
    "                \"1-14\",\n",
    "                \"1-16\",\n",
    "                \"1-18\",\n",
    "                \"1-19\",\n",
    "                \"1-8\",\n",
    "                \"10-11\",\n",
    "                \"10-17\",\n",
    "                \"10-4\",\n",
    "                \"10-7\",\n",
    "                \"11-1\",\n",
    "                \"11-10\",\n",
    "                \"11-19\",\n",
    "                \"11-20\",\n",
    "                \"11-4\",\n",
    "                \"11-7\",\n",
    "                \"12-19\",\n",
    "                \"12-20\",\n",
    "                \"12-7\",\n",
    "                \"13-14\",\n",
    "                \"13-18\",\n",
    "                \"13-19\",\n",
    "                \"13-20\",\n",
    "                \"13-3\",\n",
    "                \"13-7\",\n",
    "                \"14-10\",\n",
    "                \"14-11\",\n",
    "                \"14-12\",\n",
    "                \"14-13\",\n",
    "                \"14-14\",\n",
    "                \"14-19\",\n",
    "                \"14-20\",\n",
    "                \"14-7\",\n",
    "                \"14-8\",\n",
    "                \"14-9\",\n",
    "                \"15-1\",\n",
    "                \"15-19\",\n",
    "                \"15-6\",\n",
    "                \"16-1\",\n",
    "                \"16-16\",\n",
    "                \"16-19\",\n",
    "                \"16-20\",\n",
    "                \"17-10\",\n",
    "                \"17-11\",\n",
    "                \"18-1\",\n",
    "                \"18-10\",\n",
    "                \"18-11\",\n",
    "                \"18-12\",\n",
    "                \"18-13\",\n",
    "                \"18-14\",\n",
    "                \"18-15\",\n",
    "                \"18-16\",\n",
    "                \"18-17\",\n",
    "                \"18-19\",\n",
    "                \"18-2\",\n",
    "                \"18-20\",\n",
    "                \"18-4\",\n",
    "                \"18-5\",\n",
    "                \"18-7\",\n",
    "                \"18-8\",\n",
    "                \"18-9\",\n",
    "                \"19-1\",\n",
    "                \"19-10\",\n",
    "                \"19-11\",\n",
    "                \"19-12\",\n",
    "                \"19-13\",\n",
    "                \"19-14\",\n",
    "                \"19-15\",\n",
    "                \"19-19\",\n",
    "                \"19-2\",\n",
    "                \"19-20\",\n",
    "                \"19-3\",\n",
    "                \"19-4\",\n",
    "                \"19-6\",\n",
    "                \"19-7\",\n",
    "                \"19-8\",\n",
    "                \"19-9\",\n",
    "                \"2-1\",\n",
    "                \"2-13\",\n",
    "                \"2-15\",\n",
    "                \"2-3\",\n",
    "                \"2-4\",\n",
    "                \"2-5\",\n",
    "                \"2-6\",\n",
    "                \"2-7\",\n",
    "                \"2-8\",\n",
    "                \"20-1\",\n",
    "                \"20-12\",\n",
    "                \"20-14\",\n",
    "                \"20-15\",\n",
    "                \"20-16\",\n",
    "                \"20-18\",\n",
    "                \"20-19\",\n",
    "                \"20-20\",\n",
    "                \"20-3\",\n",
    "                \"20-4\",\n",
    "                \"20-5\",\n",
    "                \"20-7\",\n",
    "                \"20-8\",\n",
    "                \"3-1\",\n",
    "                \"3-13\",\n",
    "                \"3-18\",\n",
    "                \"3-2\",\n",
    "                \"3-8\",\n",
    "                \"4-1\",\n",
    "                \"4-10\",\n",
    "                \"4-11\",\n",
    "                \"5-1\",\n",
    "                \"5-5\",\n",
    "                \"6-1\",\n",
    "                \"6-15\",\n",
    "                \"6-6\",\n",
    "                \"7-10\",\n",
    "                \"7-11\",\n",
    "                \"7-12\",\n",
    "                \"7-13\",\n",
    "                \"7-14\",\n",
    "                \"7-7\",\n",
    "                \"7-8\",\n",
    "                \"7-9\",\n",
    "                \"8-1\",\n",
    "                \"8-13\",\n",
    "                \"8-14\",\n",
    "                \"8-18\",\n",
    "                \"8-20\",\n",
    "                \"8-3\",\n",
    "                \"8-8\",\n",
    "                \"9-1\",\n",
    "                \"9-7\",\n",
    "            ],\n",
    "            \"domains\": [1, 2, 3, 4],\n",
    "            \"num_examples_per_domain_per_label\": 100,\n",
    "            \"pickle_path\": \"/mnt/wd500GB/CSC500/csc500-main/datasets/wisig.node3-19.stratified_ds.2022A.pkl\",\n",
    "            \"source_or_target_dataset\": \"target\",\n",
    "            \"x_transforms\": [\"unit_mag\", \"take_200\"],\n",
    "            \"episode_transforms\": [],\n",
    "            \"domain_prefix\": \"W_A_\",\n",
    "        },\n",
    "        {\n",
    "            \"labels\": [\n",
    "                \"3123D52\",\n",
    "                \"3123D65\",\n",
    "                \"3123D79\",\n",
    "                \"3123D80\",\n",
    "                \"3123D54\",\n",
    "                \"3123D70\",\n",
    "                \"3123D7B\",\n",
    "                \"3123D89\",\n",
    "                \"3123D58\",\n",
    "                \"3123D76\",\n",
    "                \"3123D7D\",\n",
    "                \"3123EFE\",\n",
    "                \"3123D64\",\n",
    "                \"3123D78\",\n",
    "                \"3123D7E\",\n",
    "                \"3124E4A\",\n",
    "            ],\n",
    "            \"domains\": [32, 38, 8, 44, 14, 50, 20, 26],\n",
    "            \"num_examples_per_domain_per_label\": 2000,\n",
    "            \"pickle_path\": \"/mnt/wd500GB/CSC500/csc500-main/datasets/oracle.Run1_framed_2000Examples_stratified_ds.2022A.pkl\",\n",
    "            \"source_or_target_dataset\": \"source\",\n",
    "            \"x_transforms\": [\"unit_mag\", \"take_200\", \"resample_20Msps_to_25Msps\"],\n",
    "            \"episode_transforms\": [],\n",
    "            \"domain_prefix\": \"ORACLE.run1_\",\n",
    "        },\n",
    "    ],\n",
    "}\n"
   ]
  },
  {
   "cell_type": "code",
   "execution_count": 5,
   "id": "8fa1cc33",
   "metadata": {
    "execution": {
     "iopub.execute_input": "2022-03-18T02:04:53.442406Z",
     "iopub.status.busy": "2022-03-18T02:04:53.442123Z",
     "iopub.status.idle": "2022-03-18T02:04:53.456846Z",
     "shell.execute_reply": "2022-03-18T02:04:53.457322Z"
    },
    "papermill": {
     "duration": 0.037455,
     "end_time": "2022-03-18T02:04:53.457458",
     "exception": false,
     "start_time": "2022-03-18T02:04:53.420003",
     "status": "completed"
    },
    "tags": []
   },
   "outputs": [],
   "source": [
    "# Set this to True if you want to run this template directly\n",
    "STANDALONE = False\n",
    "if STANDALONE:\n",
    "    print(\"parameters not injected, running with standalone_parameters\")\n",
    "    parameters = standalone_parameters\n",
    "\n",
    "if not 'parameters' in locals() and not 'parameters' in globals():\n",
    "    raise Exception(\"Parameter injection failed\")\n",
    "\n",
    "#Use an easy dict for all the parameters\n",
    "p = EasyDict(parameters)\n",
    "\n",
    "if \"x_shape\" not in p:\n",
    "    p.x_shape = [2,256] # Default to this if we dont supply x_shape\n",
    "\n",
    "\n",
    "supplied_keys = set(p.keys())\n",
    "\n",
    "if  supplied_keys != required_parameters:\n",
    "    print(\"Parameters are incorrect\")\n",
    "    if len(supplied_keys - required_parameters)>0: print(\"Shouldn't have:\", str(supplied_keys - required_parameters))\n",
    "    if len(required_parameters - supplied_keys)>0: print(\"Need to have:\", str(required_parameters - supplied_keys))\n",
    "    raise RuntimeError(\"Parameters are incorrect\")"
   ]
  },
  {
   "cell_type": "code",
   "execution_count": 6,
   "id": "3a028d58",
   "metadata": {
    "execution": {
     "iopub.execute_input": "2022-03-18T02:04:53.495616Z",
     "iopub.status.busy": "2022-03-18T02:04:53.495253Z",
     "iopub.status.idle": "2022-03-18T02:04:53.510512Z",
     "shell.execute_reply": "2022-03-18T02:04:53.510748Z"
    },
    "papermill": {
     "duration": 0.035849,
     "end_time": "2022-03-18T02:04:53.510836",
     "exception": false,
     "start_time": "2022-03-18T02:04:53.474987",
     "status": "completed"
    },
    "tags": []
   },
   "outputs": [],
   "source": [
    "###################################\n",
    "# Set the RNGs and make it all deterministic\n",
    "###################################\n",
    "np.random.seed(p.seed)\n",
    "random.seed(p.seed)\n",
    "torch.manual_seed(p.seed)\n",
    "\n",
    "torch.use_deterministic_algorithms(True) "
   ]
  },
  {
   "cell_type": "code",
   "execution_count": 7,
   "id": "b691acf6",
   "metadata": {
    "execution": {
     "iopub.execute_input": "2022-03-18T02:04:53.551473Z",
     "iopub.status.busy": "2022-03-18T02:04:53.550978Z",
     "iopub.status.idle": "2022-03-18T02:04:53.565898Z",
     "shell.execute_reply": "2022-03-18T02:04:53.566232Z"
    },
    "papermill": {
     "duration": 0.034652,
     "end_time": "2022-03-18T02:04:53.566348",
     "exception": false,
     "start_time": "2022-03-18T02:04:53.531696",
     "status": "completed"
    },
    "tags": []
   },
   "outputs": [],
   "source": [
    "###########################################\n",
    "# The stratified datasets honor this\n",
    "###########################################\n",
    "torch.set_default_dtype(eval(p.torch_default_dtype))"
   ]
  },
  {
   "cell_type": "code",
   "execution_count": 8,
   "id": "b5fba671",
   "metadata": {
    "execution": {
     "iopub.execute_input": "2022-03-18T02:04:53.601405Z",
     "iopub.status.busy": "2022-03-18T02:04:53.601128Z",
     "iopub.status.idle": "2022-03-18T02:04:53.633900Z",
     "shell.execute_reply": "2022-03-18T02:04:53.634427Z"
    },
    "papermill": {
     "duration": 0.049311,
     "end_time": "2022-03-18T02:04:53.634607",
     "exception": false,
     "start_time": "2022-03-18T02:04:53.585296",
     "status": "completed"
    },
    "tags": []
   },
   "outputs": [],
   "source": [
    "###################################\n",
    "# Build the network(s)\n",
    "# Note: It's critical to do this AFTER setting the RNG\n",
    "###################################\n",
    "x_net = build_sequential(p.x_net)"
   ]
  },
  {
   "cell_type": "code",
   "execution_count": 9,
   "id": "5d7e61cc",
   "metadata": {
    "execution": {
     "iopub.execute_input": "2022-03-18T02:04:53.674930Z",
     "iopub.status.busy": "2022-03-18T02:04:53.674391Z",
     "iopub.status.idle": "2022-03-18T02:04:53.685896Z",
     "shell.execute_reply": "2022-03-18T02:04:53.685419Z"
    },
    "papermill": {
     "duration": 0.031817,
     "end_time": "2022-03-18T02:04:53.686011",
     "exception": false,
     "start_time": "2022-03-18T02:04:53.654194",
     "status": "completed"
    },
    "tags": []
   },
   "outputs": [],
   "source": [
    "start_time_secs = time.time()"
   ]
  },
  {
   "cell_type": "code",
   "execution_count": 10,
   "id": "c6b67dfd",
   "metadata": {
    "execution": {
     "iopub.execute_input": "2022-03-18T02:04:53.722835Z",
     "iopub.status.busy": "2022-03-18T02:04:53.722448Z",
     "iopub.status.idle": "2022-03-18T02:04:53.738524Z",
     "shell.execute_reply": "2022-03-18T02:04:53.738871Z"
    },
    "papermill": {
     "duration": 0.033913,
     "end_time": "2022-03-18T02:04:53.738993",
     "exception": false,
     "start_time": "2022-03-18T02:04:53.705080",
     "status": "completed"
    },
    "tags": []
   },
   "outputs": [],
   "source": [
    "p.domains_source = []\n",
    "p.domains_target = []\n",
    "\n",
    "\n",
    "train_original_source = []\n",
    "val_original_source   = []\n",
    "test_original_source  = []\n",
    "\n",
    "train_original_target = []\n",
    "val_original_target   = []\n",
    "test_original_target  = []"
   ]
  },
  {
   "cell_type": "code",
   "execution_count": 11,
   "id": "e3d9c3d3",
   "metadata": {
    "execution": {
     "iopub.execute_input": "2022-03-18T02:04:53.775715Z",
     "iopub.status.busy": "2022-03-18T02:04:53.775436Z",
     "iopub.status.idle": "2022-03-18T02:04:53.790882Z",
     "shell.execute_reply": "2022-03-18T02:04:53.790445Z"
    },
    "papermill": {
     "duration": 0.032319,
     "end_time": "2022-03-18T02:04:53.790975",
     "exception": false,
     "start_time": "2022-03-18T02:04:53.758656",
     "status": "completed"
    },
    "tags": []
   },
   "outputs": [],
   "source": [
    "# global_x_transform_func = lambda x: normalize(x.to(torch.get_default_dtype()), \"unit_power\") # unit_power, unit_mag\n",
    "# global_x_transform_func = lambda x: normalize(x, \"unit_power\") # unit_power, unit_mag"
   ]
  },
  {
   "cell_type": "code",
   "execution_count": 12,
   "id": "acb78fd2",
   "metadata": {
    "execution": {
     "iopub.execute_input": "2022-03-18T02:04:53.831174Z",
     "iopub.status.busy": "2022-03-18T02:04:53.830880Z",
     "iopub.status.idle": "2022-03-18T02:04:53.844162Z",
     "shell.execute_reply": "2022-03-18T02:04:53.844607Z"
    },
    "papermill": {
     "duration": 0.036396,
     "end_time": "2022-03-18T02:04:53.844752",
     "exception": false,
     "start_time": "2022-03-18T02:04:53.808356",
     "status": "completed"
    },
    "tags": []
   },
   "outputs": [],
   "source": [
    "def add_dataset(\n",
    "    labels,\n",
    "    domains,\n",
    "    pickle_path,\n",
    "    x_transforms,\n",
    "    episode_transforms,\n",
    "    domain_prefix,\n",
    "    num_examples_per_domain_per_label,\n",
    "    source_or_target_dataset:str,\n",
    "    iterator_seed=p.seed,\n",
    "    dataset_seed=p.dataset_seed,\n",
    "    n_shot=p.n_shot,\n",
    "    n_way=p.n_way,\n",
    "    n_query=p.n_query,\n",
    "    train_val_test_k_factors=(p.train_k_factor,p.val_k_factor,p.test_k_factor),\n",
    "):\n",
    "   \n",
    "    if x_transforms == []: x_transform = None\n",
    "    else: x_transform = get_chained_transform(x_transforms)\n",
    "    \n",
    "    if episode_transforms == []: episode_transform = None\n",
    "    else: raise Exception(\"episode_transforms not implemented\")\n",
    "    \n",
    "    episode_transform = lambda tup, _prefix=domain_prefix: (_prefix + str(tup[0]), tup[1])\n",
    "\n",
    "\n",
    "    eaf = Episodic_Accessor_Factory(\n",
    "        labels=labels,\n",
    "        domains=domains,\n",
    "        num_examples_per_domain_per_label=num_examples_per_domain_per_label,\n",
    "        iterator_seed=iterator_seed,\n",
    "        dataset_seed=dataset_seed,\n",
    "        n_shot=n_shot,\n",
    "        n_way=n_way,\n",
    "        n_query=n_query,\n",
    "        train_val_test_k_factors=train_val_test_k_factors,\n",
    "        pickle_path=pickle_path,\n",
    "        x_transform_func=x_transform,\n",
    "    )\n",
    "\n",
    "    train, val, test = eaf.get_train(), eaf.get_val(), eaf.get_test()\n",
    "    train = Lazy_Iterable_Wrapper(train, episode_transform)\n",
    "    val = Lazy_Iterable_Wrapper(val, episode_transform)\n",
    "    test = Lazy_Iterable_Wrapper(test, episode_transform)\n",
    "\n",
    "    if source_or_target_dataset==\"source\":\n",
    "        train_original_source.append(train)\n",
    "        val_original_source.append(val)\n",
    "        test_original_source.append(test)\n",
    "\n",
    "        p.domains_source.extend(\n",
    "            [domain_prefix + str(u) for u in domains]\n",
    "        )\n",
    "    elif source_or_target_dataset==\"target\":\n",
    "        train_original_target.append(train)\n",
    "        val_original_target.append(val)\n",
    "        test_original_target.append(test)\n",
    "        p.domains_target.extend(\n",
    "            [domain_prefix + str(u) for u in domains]\n",
    "        )\n",
    "    else:\n",
    "        raise Exception(f\"invalid source_or_target_dataset: {source_or_target_dataset}\")\n",
    "    "
   ]
  },
  {
   "cell_type": "code",
   "execution_count": 13,
   "id": "fe266617",
   "metadata": {
    "execution": {
     "iopub.execute_input": "2022-03-18T02:04:53.883190Z",
     "iopub.status.busy": "2022-03-18T02:04:53.882912Z",
     "iopub.status.idle": "2022-03-18T02:05:32.876434Z",
     "shell.execute_reply": "2022-03-18T02:05:32.876762Z"
    },
    "papermill": {
     "duration": 39.011471,
     "end_time": "2022-03-18T02:05:32.876874",
     "exception": false,
     "start_time": "2022-03-18T02:04:53.865403",
     "status": "completed"
    },
    "tags": []
   },
   "outputs": [],
   "source": [
    "for ds in p.datasets:\n",
    "    add_dataset(**ds)"
   ]
  },
  {
   "cell_type": "code",
   "execution_count": 14,
   "id": "b90d65ac",
   "metadata": {
    "execution": {
     "iopub.execute_input": "2022-03-18T02:05:32.913229Z",
     "iopub.status.busy": "2022-03-18T02:05:32.912959Z",
     "iopub.status.idle": "2022-03-18T02:05:32.927389Z",
     "shell.execute_reply": "2022-03-18T02:05:32.927099Z"
    },
    "papermill": {
     "duration": 0.031312,
     "end_time": "2022-03-18T02:05:32.927457",
     "exception": false,
     "start_time": "2022-03-18T02:05:32.896145",
     "status": "completed"
    },
    "tags": []
   },
   "outputs": [],
   "source": [
    "# from steves_utils.CORES.utils import (\n",
    "#     ALL_NODES,\n",
    "#     ALL_NODES_MINIMUM_1000_EXAMPLES,\n",
    "#     ALL_DAYS\n",
    "# )\n",
    "\n",
    "# add_dataset(\n",
    "#     labels=ALL_NODES,\n",
    "#     domains = ALL_DAYS,\n",
    "#     num_examples_per_domain_per_label=100,\n",
    "#     pickle_path=os.path.join(get_datasets_base_path(), \"cores.stratified_ds.2022A.pkl\"),\n",
    "#     source_or_target_dataset=\"target\",\n",
    "#     x_transform_func=global_x_transform_func,\n",
    "#     domain_modifier=lambda u: f\"cores_{u}\"\n",
    "# )"
   ]
  },
  {
   "cell_type": "code",
   "execution_count": 15,
   "id": "76db484d",
   "metadata": {
    "execution": {
     "iopub.execute_input": "2022-03-18T02:05:32.972005Z",
     "iopub.status.busy": "2022-03-18T02:05:32.971732Z",
     "iopub.status.idle": "2022-03-18T02:05:32.986134Z",
     "shell.execute_reply": "2022-03-18T02:05:32.985612Z"
    },
    "papermill": {
     "duration": 0.035435,
     "end_time": "2022-03-18T02:05:32.986239",
     "exception": false,
     "start_time": "2022-03-18T02:05:32.950804",
     "status": "completed"
    },
    "tags": []
   },
   "outputs": [],
   "source": [
    "# from steves_utils.ORACLE.utils_v2 import (\n",
    "#     ALL_DISTANCES_FEET,\n",
    "#     ALL_RUNS,\n",
    "#     ALL_SERIAL_NUMBERS,\n",
    "# )\n",
    "\n",
    "\n",
    "# add_dataset(\n",
    "#     labels=ALL_SERIAL_NUMBERS,\n",
    "#     domains = list(set(ALL_DISTANCES_FEET) - {2,62}),\n",
    "#     num_examples_per_domain_per_label=100,\n",
    "#     pickle_path=os.path.join(get_datasets_base_path(), \"oracle.Run2_framed_2000Examples_stratified_ds.2022A.pkl\"),\n",
    "#     source_or_target_dataset=\"source\",\n",
    "#     x_transform_func=global_x_transform_func,\n",
    "#     domain_modifier=lambda u: f\"oracle1_{u}\"\n",
    "# )\n"
   ]
  },
  {
   "cell_type": "code",
   "execution_count": 16,
   "id": "97dea9d2",
   "metadata": {
    "execution": {
     "iopub.execute_input": "2022-03-18T02:05:33.024385Z",
     "iopub.status.busy": "2022-03-18T02:05:33.024115Z",
     "iopub.status.idle": "2022-03-18T02:05:33.037973Z",
     "shell.execute_reply": "2022-03-18T02:05:33.037741Z"
    },
    "papermill": {
     "duration": 0.033323,
     "end_time": "2022-03-18T02:05:33.038038",
     "exception": false,
     "start_time": "2022-03-18T02:05:33.004715",
     "status": "completed"
    },
    "tags": []
   },
   "outputs": [],
   "source": [
    "# from steves_utils.ORACLE.utils_v2 import (\n",
    "#     ALL_DISTANCES_FEET,\n",
    "#     ALL_RUNS,\n",
    "#     ALL_SERIAL_NUMBERS,\n",
    "# )\n",
    "\n",
    "\n",
    "# add_dataset(\n",
    "#     labels=ALL_SERIAL_NUMBERS,\n",
    "#     domains = list(set(ALL_DISTANCES_FEET) - {2,62,56}),\n",
    "#     num_examples_per_domain_per_label=100,\n",
    "#     pickle_path=os.path.join(get_datasets_base_path(), \"oracle.Run2_framed_2000Examples_stratified_ds.2022A.pkl\"),\n",
    "#     source_or_target_dataset=\"source\",\n",
    "#     x_transform_func=global_x_transform_func,\n",
    "#     domain_modifier=lambda u: f\"oracle2_{u}\"\n",
    "# )"
   ]
  },
  {
   "cell_type": "code",
   "execution_count": 17,
   "id": "6f289866",
   "metadata": {
    "execution": {
     "iopub.execute_input": "2022-03-18T02:05:33.073943Z",
     "iopub.status.busy": "2022-03-18T02:05:33.073672Z",
     "iopub.status.idle": "2022-03-18T02:05:33.088335Z",
     "shell.execute_reply": "2022-03-18T02:05:33.087827Z"
    },
    "papermill": {
     "duration": 0.031219,
     "end_time": "2022-03-18T02:05:33.088441",
     "exception": false,
     "start_time": "2022-03-18T02:05:33.057222",
     "status": "completed"
    },
    "tags": []
   },
   "outputs": [],
   "source": [
    "# add_dataset(\n",
    "#     labels=list(range(19)),\n",
    "#     domains = [0,1,2],\n",
    "#     num_examples_per_domain_per_label=100,\n",
    "#     pickle_path=os.path.join(get_datasets_base_path(), \"metehan.stratified_ds.2022A.pkl\"),\n",
    "#     source_or_target_dataset=\"target\",\n",
    "#     x_transform_func=global_x_transform_func,\n",
    "#     domain_modifier=lambda u: f\"met_{u}\"\n",
    "# )"
   ]
  },
  {
   "cell_type": "code",
   "execution_count": 18,
   "id": "86a863c3",
   "metadata": {
    "execution": {
     "iopub.execute_input": "2022-03-18T02:05:33.124640Z",
     "iopub.status.busy": "2022-03-18T02:05:33.124375Z",
     "iopub.status.idle": "2022-03-18T02:05:33.134687Z",
     "shell.execute_reply": "2022-03-18T02:05:33.134405Z"
    },
    "papermill": {
     "duration": 0.026234,
     "end_time": "2022-03-18T02:05:33.134795",
     "exception": false,
     "start_time": "2022-03-18T02:05:33.108561",
     "status": "completed"
    },
    "tags": []
   },
   "outputs": [],
   "source": [
    "# # from steves_utils.wisig.utils import (\n",
    "# #     ALL_NODES_MINIMUM_100_EXAMPLES,\n",
    "# #     ALL_NODES_MINIMUM_500_EXAMPLES,\n",
    "# #     ALL_NODES_MINIMUM_1000_EXAMPLES,\n",
    "# #     ALL_DAYS\n",
    "# # )\n",
    "\n",
    "# import steves_utils.wisig.utils as wisig\n",
    "\n",
    "\n",
    "# add_dataset(\n",
    "#     labels=wisig.ALL_NODES_MINIMUM_100_EXAMPLES,\n",
    "#     domains = wisig.ALL_DAYS,\n",
    "#     num_examples_per_domain_per_label=100,\n",
    "#     pickle_path=os.path.join(get_datasets_base_path(), \"wisig.node3-19.stratified_ds.2022A.pkl\"),\n",
    "#     source_or_target_dataset=\"target\",\n",
    "#     x_transform_func=global_x_transform_func,\n",
    "#     domain_modifier=lambda u: f\"wisig_{u}\"\n",
    "# )"
   ]
  },
  {
   "cell_type": "code",
   "execution_count": 19,
   "id": "fd5442bc",
   "metadata": {
    "execution": {
     "iopub.execute_input": "2022-03-18T02:05:33.172636Z",
     "iopub.status.busy": "2022-03-18T02:05:33.172362Z",
     "iopub.status.idle": "2022-03-18T02:05:33.187052Z",
     "shell.execute_reply": "2022-03-18T02:05:33.187382Z"
    },
    "papermill": {
     "duration": 0.033896,
     "end_time": "2022-03-18T02:05:33.187491",
     "exception": false,
     "start_time": "2022-03-18T02:05:33.153595",
     "status": "completed"
    },
    "tags": []
   },
   "outputs": [],
   "source": [
    "###################################\n",
    "# Build the dataset\n",
    "###################################\n",
    "train_original_source = Iterable_Aggregator(train_original_source, p.seed)\n",
    "val_original_source = Iterable_Aggregator(val_original_source, p.seed)\n",
    "test_original_source = Iterable_Aggregator(test_original_source, p.seed)\n",
    "\n",
    "\n",
    "train_original_target = Iterable_Aggregator(train_original_target, p.seed)\n",
    "val_original_target = Iterable_Aggregator(val_original_target, p.seed)\n",
    "test_original_target = Iterable_Aggregator(test_original_target, p.seed)\n",
    "\n",
    "# For CNN We only use X and Y. And we only train on the source.\n",
    "# Properly form the data using a transform lambda and Lazy_Iterable_Wrapper. Finally wrap them in a dataloader\n",
    "\n",
    "transform_lambda = lambda ex: ex[1] # Original is (<domain>, <episode>) so we strip down to episode only\n",
    "\n",
    "train_processed_source = Lazy_Iterable_Wrapper(train_original_source, transform_lambda)\n",
    "val_processed_source   = Lazy_Iterable_Wrapper(val_original_source, transform_lambda)\n",
    "test_processed_source  = Lazy_Iterable_Wrapper(test_original_source, transform_lambda)\n",
    "\n",
    "train_processed_target = Lazy_Iterable_Wrapper(train_original_target, transform_lambda)\n",
    "val_processed_target   = Lazy_Iterable_Wrapper(val_original_target, transform_lambda)\n",
    "test_processed_target  = Lazy_Iterable_Wrapper(test_original_target, transform_lambda)\n",
    "\n",
    "datasets = EasyDict({\n",
    "    \"source\": {\n",
    "        \"original\": {\"train\":train_original_source, \"val\":val_original_source, \"test\":test_original_source},\n",
    "        \"processed\": {\"train\":train_processed_source, \"val\":val_processed_source, \"test\":test_processed_source}\n",
    "    },\n",
    "    \"target\": {\n",
    "        \"original\": {\"train\":train_original_target, \"val\":val_original_target, \"test\":test_original_target},\n",
    "        \"processed\": {\"train\":train_processed_target, \"val\":val_processed_target, \"test\":test_processed_target}\n",
    "    },\n",
    "})"
   ]
  },
  {
   "cell_type": "code",
   "execution_count": 20,
   "id": "5b3c01fc",
   "metadata": {
    "execution": {
     "iopub.execute_input": "2022-03-18T02:05:33.223544Z",
     "iopub.status.busy": "2022-03-18T02:05:33.223261Z",
     "iopub.status.idle": "2022-03-18T02:05:38.676499Z",
     "shell.execute_reply": "2022-03-18T02:05:38.676771Z"
    },
    "papermill": {
     "duration": 5.470979,
     "end_time": "2022-03-18T02:05:38.676854",
     "exception": false,
     "start_time": "2022-03-18T02:05:33.205875",
     "status": "completed"
    },
    "tags": []
   },
   "outputs": [
    {
     "name": "stdout",
     "output_type": "stream",
     "text": [
      "{'ORACLE.run1_8', 'ORACLE.run1_20', 'ORACLE.run1_50', 'ORACLE.run1_26', 'ORACLE.run1_14', 'ORACLE.run1_38', 'ORACLE.run1_32', 'ORACLE.run1_44'}\n"
     ]
    },
    {
     "name": "stdout",
     "output_type": "stream",
     "text": [
      "{'W_A_1', 'C_A_3', 'W_A_3', 'C_A_1', 'C_A_4', 'C_A_5', 'W_A_2', 'C_A_2', 'W_A_4'}\n"
     ]
    },
    {
     "name": "stdout",
     "output_type": "stream",
     "text": [
      "tensor([[[-0.0971,  1.1311,  0.6428,  ...,  0.6900,  0.5495,  0.7515],\n",
      "         [-0.6699, -0.6023,  0.7298,  ..., -0.1188,  1.1722,  0.1223]],\n",
      "\n",
      "        [[-0.4650,  0.4729,  0.8381,  ...,  1.1898,  0.5315,  0.0195],\n",
      "         [-1.1721, -0.8223,  0.9095,  ..., -0.4716, -0.6551, -1.4318]],\n",
      "\n",
      "        [[ 0.6704, -0.0551, -0.9197,  ..., -0.8651, -0.9602, -0.1043],\n",
      "         [ 0.8524,  1.1014, -0.5470,  ...,  0.4879,  0.2662,  1.2135]],\n",
      "\n",
      "        ...,\n",
      "\n",
      "        [[ 1.0094,  0.2418, -1.2327,  ..., -0.7204, -0.1579,  0.9442],\n",
      "         [ 0.5694,  0.9394, -0.0507,  ...,  1.0085,  0.7567,  1.0278]],\n",
      "\n",
      "        [[ 0.0259, -1.0459, -0.2935,  ..., -0.8818, -0.8675, -0.9829],\n",
      "         [ 0.8104,  0.8015, -0.7676,  ..., -0.1278, -0.7103,  0.6759]],\n",
      "\n",
      "        [[ 0.4981,  0.4795, -0.3590,  ...,  0.5028, -1.2225, -0.6749],\n",
      "         [-0.4260,  0.9681,  0.7596,  ...,  0.6907,  0.2936,  0.4766]]])\n"
     ]
    }
   ],
   "source": [
    "from steves_utils.transforms import get_average_magnitude, get_average_power\n",
    "\n",
    "print(set([u for u,_ in val_original_source]))\n",
    "print(set([u for u,_ in val_original_target]))\n",
    "\n",
    "s_x, s_y, q_x, q_y, _ = next(iter(train_processed_source))\n",
    "print(s_x)\n",
    "\n",
    "# for ds in [\n",
    "#     train_processed_source,\n",
    "#     val_processed_source,\n",
    "#     test_processed_source,\n",
    "#     train_processed_target,\n",
    "#     val_processed_target,\n",
    "#     test_processed_target\n",
    "# ]:\n",
    "#     for s_x, s_y, q_x, q_y, _ in ds:\n",
    "#         for X in (s_x, q_x):\n",
    "#             for x in X:\n",
    "#                 assert np.isclose(get_average_magnitude(x.numpy()), 1.0)\n",
    "#                 assert np.isclose(get_average_power(x.numpy()), 1.0)\n",
    "                "
   ]
  },
  {
   "cell_type": "code",
   "execution_count": 21,
   "id": "bbdacba1",
   "metadata": {
    "execution": {
     "iopub.execute_input": "2022-03-18T02:05:38.721880Z",
     "iopub.status.busy": "2022-03-18T02:05:38.721607Z",
     "iopub.status.idle": "2022-03-18T02:05:38.774494Z",
     "shell.execute_reply": "2022-03-18T02:05:38.774792Z"
    },
    "papermill": {
     "duration": 0.076453,
     "end_time": "2022-03-18T02:05:38.774893",
     "exception": false,
     "start_time": "2022-03-18T02:05:38.698440",
     "status": "completed"
    },
    "tags": []
   },
   "outputs": [
    {
     "name": "stdout",
     "output_type": "stream",
     "text": [
      "(2, 200)\n"
     ]
    }
   ],
   "source": [
    "###################################\n",
    "# Build the model\n",
    "###################################\n",
    "# easfsl only wants a tuple for the shape\n",
    "model = Steves_Prototypical_Network(x_net, device=p.device, x_shape=tuple(p.x_shape))\n",
    "optimizer = Adam(params=model.parameters(), lr=p.lr)"
   ]
  },
  {
   "cell_type": "code",
   "execution_count": 22,
   "id": "22b39ac5",
   "metadata": {
    "execution": {
     "iopub.execute_input": "2022-03-18T02:05:38.820373Z",
     "iopub.status.busy": "2022-03-18T02:05:38.820022Z",
     "iopub.status.idle": "2022-03-18T02:33:29.183671Z",
     "shell.execute_reply": "2022-03-18T02:33:29.183423Z"
    },
    "papermill": {
     "duration": 1670.389323,
     "end_time": "2022-03-18T02:33:29.183734",
     "exception": false,
     "start_time": "2022-03-18T02:05:38.794411",
     "status": "completed"
    },
    "tags": []
   },
   "outputs": [
    {
     "name": "stdout",
     "output_type": "stream",
     "text": [
      "epoch: 1, [batch: 1 / 6720], examples_per_second: 47.1744, train_label_loss: 3.1626, \n"
     ]
    },
    {
     "name": "stdout",
     "output_type": "stream",
     "text": [
      "epoch: 1, [batch: 672 / 6720], examples_per_second: 1921.8610, train_label_loss: 1.1548, \n"
     ]
    },
    {
     "name": "stdout",
     "output_type": "stream",
     "text": [
      "epoch: 1, [batch: 1344 / 6720], examples_per_second: 1927.2240, train_label_loss: 0.8464, \n"
     ]
    },
    {
     "name": "stdout",
     "output_type": "stream",
     "text": [
      "epoch: 1, [batch: 2016 / 6720], examples_per_second: 1921.7317, train_label_loss: 0.7378, \n"
     ]
    },
    {
     "name": "stdout",
     "output_type": "stream",
     "text": [
      "epoch: 1, [batch: 2688 / 6720], examples_per_second: 1917.9348, train_label_loss: 0.9128, \n"
     ]
    },
    {
     "name": "stdout",
     "output_type": "stream",
     "text": [
      "epoch: 1, [batch: 3360 / 6720], examples_per_second: 1922.5679, train_label_loss: 1.1848, \n"
     ]
    },
    {
     "name": "stdout",
     "output_type": "stream",
     "text": [
      "epoch: 1, [batch: 4032 / 6720], examples_per_second: 1923.5458, train_label_loss: 0.9505, \n"
     ]
    },
    {
     "name": "stdout",
     "output_type": "stream",
     "text": [
      "epoch: 1, [batch: 4704 / 6720], examples_per_second: 1917.2267, train_label_loss: 0.6665, \n"
     ]
    },
    {
     "name": "stdout",
     "output_type": "stream",
     "text": [
      "epoch: 1, [batch: 5376 / 6720], examples_per_second: 1921.8816, train_label_loss: 0.8874, \n"
     ]
    },
    {
     "name": "stdout",
     "output_type": "stream",
     "text": [
      "epoch: 1, [batch: 6048 / 6720], examples_per_second: 2098.5546, train_label_loss: 0.6665, \n"
     ]
    },
    {
     "name": "stdout",
     "output_type": "stream",
     "text": [
      "=============================================================\n",
      "epoch: 1, source_val_acc_label: 0.5831, target_val_acc_label: 0.4196, source_val_label_loss: 48.9705, target_val_label_loss: 9027.3213, \n",
      "=============================================================\n"
     ]
    },
    {
     "name": "stdout",
     "output_type": "stream",
     "text": [
      "New best\n"
     ]
    },
    {
     "name": "stdout",
     "output_type": "stream",
     "text": [
      "epoch: 2, [batch: 1 / 6720], examples_per_second: 3.6634, train_label_loss: 52.8091, \n"
     ]
    },
    {
     "name": "stdout",
     "output_type": "stream",
     "text": [
      "epoch: 2, [batch: 672 / 6720], examples_per_second: 1943.5548, train_label_loss: 0.9612, \n"
     ]
    },
    {
     "name": "stdout",
     "output_type": "stream",
     "text": [
      "epoch: 2, [batch: 1344 / 6720], examples_per_second: 1947.9593, train_label_loss: 0.8770, \n"
     ]
    },
    {
     "name": "stdout",
     "output_type": "stream",
     "text": [
      "epoch: 2, [batch: 2016 / 6720], examples_per_second: 1943.4156, train_label_loss: 1.2093, \n"
     ]
    },
    {
     "name": "stdout",
     "output_type": "stream",
     "text": [
      "epoch: 2, [batch: 2688 / 6720], examples_per_second: 1937.4820, train_label_loss: 1.0552, \n"
     ]
    },
    {
     "name": "stdout",
     "output_type": "stream",
     "text": [
      "epoch: 2, [batch: 3360 / 6720], examples_per_second: 1944.4211, train_label_loss: 1.0605, \n"
     ]
    },
    {
     "name": "stdout",
     "output_type": "stream",
     "text": [
      "epoch: 2, [batch: 4032 / 6720], examples_per_second: 1948.7292, train_label_loss: 1.1225, \n"
     ]
    },
    {
     "name": "stdout",
     "output_type": "stream",
     "text": [
      "epoch: 2, [batch: 4704 / 6720], examples_per_second: 1941.3037, train_label_loss: 1.0005, \n"
     ]
    },
    {
     "name": "stdout",
     "output_type": "stream",
     "text": [
      "epoch: 2, [batch: 5376 / 6720], examples_per_second: 1945.1945, train_label_loss: 1.1615, \n"
     ]
    },
    {
     "name": "stdout",
     "output_type": "stream",
     "text": [
      "epoch: 2, [batch: 6048 / 6720], examples_per_second: 2143.2230, train_label_loss: 0.6262, \n"
     ]
    },
    {
     "name": "stdout",
     "output_type": "stream",
     "text": [
      "=============================================================\n",
      "epoch: 2, source_val_acc_label: 0.6915, target_val_acc_label: 0.5566, source_val_label_loss: 0.8598, target_val_label_loss: 595.9996, \n",
      "=============================================================\n"
     ]
    },
    {
     "name": "stdout",
     "output_type": "stream",
     "text": [
      "New best\n"
     ]
    },
    {
     "name": "stdout",
     "output_type": "stream",
     "text": [
      "epoch: 3, [batch: 1 / 6720], examples_per_second: 3.6617, train_label_loss: 1.0868, \n"
     ]
    },
    {
     "name": "stdout",
     "output_type": "stream",
     "text": [
      "epoch: 3, [batch: 672 / 6720], examples_per_second: 1943.8134, train_label_loss: 0.5117, \n"
     ]
    },
    {
     "name": "stdout",
     "output_type": "stream",
     "text": [
      "epoch: 3, [batch: 1344 / 6720], examples_per_second: 1948.1587, train_label_loss: 0.6457, \n"
     ]
    },
    {
     "name": "stdout",
     "output_type": "stream",
     "text": [
      "epoch: 3, [batch: 2016 / 6720], examples_per_second: 1943.0534, train_label_loss: 0.6106, \n"
     ]
    },
    {
     "name": "stdout",
     "output_type": "stream",
     "text": [
      "epoch: 3, [batch: 2688 / 6720], examples_per_second: 1938.8763, train_label_loss: 0.7386, \n"
     ]
    },
    {
     "name": "stdout",
     "output_type": "stream",
     "text": [
      "epoch: 3, [batch: 3360 / 6720], examples_per_second: 1944.8298, train_label_loss: 1.3068, \n"
     ]
    },
    {
     "name": "stdout",
     "output_type": "stream",
     "text": [
      "epoch: 3, [batch: 4032 / 6720], examples_per_second: 1945.7381, train_label_loss: 1.0918, \n"
     ]
    },
    {
     "name": "stdout",
     "output_type": "stream",
     "text": [
      "epoch: 3, [batch: 4704 / 6720], examples_per_second: 1939.1725, train_label_loss: 0.4621, \n"
     ]
    },
    {
     "name": "stdout",
     "output_type": "stream",
     "text": [
      "epoch: 3, [batch: 5376 / 6720], examples_per_second: 1942.5295, train_label_loss: 0.5677, \n"
     ]
    },
    {
     "name": "stdout",
     "output_type": "stream",
     "text": [
      "epoch: 3, [batch: 6048 / 6720], examples_per_second: 2131.8608, train_label_loss: 0.5467, \n"
     ]
    },
    {
     "name": "stdout",
     "output_type": "stream",
     "text": [
      "=============================================================\n",
      "epoch: 3, source_val_acc_label: 0.6927, target_val_acc_label: 0.5463, source_val_label_loss: 0.8487, target_val_label_loss: 1282.8230, \n",
      "=============================================================\n"
     ]
    },
    {
     "name": "stdout",
     "output_type": "stream",
     "text": [
      "epoch: 4, [batch: 1 / 6720], examples_per_second: 4.1404, train_label_loss: 0.7075, \n"
     ]
    },
    {
     "name": "stdout",
     "output_type": "stream",
     "text": [
      "epoch: 4, [batch: 672 / 6720], examples_per_second: 2344.7527, train_label_loss: 0.4408, \n"
     ]
    },
    {
     "name": "stdout",
     "output_type": "stream",
     "text": [
      "epoch: 4, [batch: 1344 / 6720], examples_per_second: 3287.3278, train_label_loss: 1.0185, \n"
     ]
    },
    {
     "name": "stdout",
     "output_type": "stream",
     "text": [
      "epoch: 4, [batch: 2016 / 6720], examples_per_second: 3673.3694, train_label_loss: 1.0395, \n"
     ]
    },
    {
     "name": "stdout",
     "output_type": "stream",
     "text": [
      "epoch: 4, [batch: 2688 / 6720], examples_per_second: 3675.9394, train_label_loss: 0.6945, \n"
     ]
    },
    {
     "name": "stdout",
     "output_type": "stream",
     "text": [
      "epoch: 4, [batch: 3360 / 6720], examples_per_second: 3701.7255, train_label_loss: 0.3737, \n"
     ]
    },
    {
     "name": "stdout",
     "output_type": "stream",
     "text": [
      "epoch: 4, [batch: 4032 / 6720], examples_per_second: 3705.8138, train_label_loss: 1.0671, \n"
     ]
    },
    {
     "name": "stdout",
     "output_type": "stream",
     "text": [
      "epoch: 4, [batch: 4704 / 6720], examples_per_second: 3668.1702, train_label_loss: 0.6117, \n"
     ]
    },
    {
     "name": "stdout",
     "output_type": "stream",
     "text": [
      "epoch: 4, [batch: 5376 / 6720], examples_per_second: 2069.8727, train_label_loss: 0.8462, \n"
     ]
    },
    {
     "name": "stdout",
     "output_type": "stream",
     "text": [
      "epoch: 4, [batch: 6048 / 6720], examples_per_second: 1914.3443, train_label_loss: 0.5687, \n"
     ]
    },
    {
     "name": "stdout",
     "output_type": "stream",
     "text": [
      "=============================================================\n",
      "epoch: 4, source_val_acc_label: 0.7564, target_val_acc_label: 0.5165, source_val_label_loss: 0.6756, target_val_label_loss: 3284.9751, \n",
      "=============================================================\n"
     ]
    },
    {
     "name": "stdout",
     "output_type": "stream",
     "text": [
      "epoch: 5, [batch: 1 / 6720], examples_per_second: 3.2696, train_label_loss: 0.3089, \n"
     ]
    },
    {
     "name": "stdout",
     "output_type": "stream",
     "text": [
      "epoch: 5, [batch: 672 / 6720], examples_per_second: 1915.9051, train_label_loss: 0.5286, \n"
     ]
    },
    {
     "name": "stdout",
     "output_type": "stream",
     "text": [
      "epoch: 5, [batch: 1344 / 6720], examples_per_second: 1913.4942, train_label_loss: 0.5917, \n"
     ]
    },
    {
     "name": "stdout",
     "output_type": "stream",
     "text": [
      "epoch: 5, [batch: 2016 / 6720], examples_per_second: 1917.6331, train_label_loss: 1.0762, \n"
     ]
    },
    {
     "name": "stdout",
     "output_type": "stream",
     "text": [
      "epoch: 5, [batch: 2688 / 6720], examples_per_second: 1912.0847, train_label_loss: 0.6581, \n"
     ]
    },
    {
     "name": "stdout",
     "output_type": "stream",
     "text": [
      "epoch: 5, [batch: 3360 / 6720], examples_per_second: 1916.7365, train_label_loss: 0.4070, \n"
     ]
    },
    {
     "name": "stdout",
     "output_type": "stream",
     "text": [
      "epoch: 5, [batch: 4032 / 6720], examples_per_second: 1920.3798, train_label_loss: 0.4551, \n"
     ]
    },
    {
     "name": "stdout",
     "output_type": "stream",
     "text": [
      "epoch: 5, [batch: 4704 / 6720], examples_per_second: 2365.5972, train_label_loss: 0.3303, \n"
     ]
    },
    {
     "name": "stdout",
     "output_type": "stream",
     "text": [
      "epoch: 5, [batch: 5376 / 6720], examples_per_second: 2090.9142, train_label_loss: 0.7227, \n"
     ]
    },
    {
     "name": "stdout",
     "output_type": "stream",
     "text": [
      "epoch: 5, [batch: 6048 / 6720], examples_per_second: 1923.6933, train_label_loss: 0.5205, \n"
     ]
    },
    {
     "name": "stdout",
     "output_type": "stream",
     "text": [
      "=============================================================\n",
      "epoch: 5, source_val_acc_label: 0.7961, target_val_acc_label: 0.5300, source_val_label_loss: 0.5644, target_val_label_loss: 3196.5994, \n",
      "=============================================================\n"
     ]
    },
    {
     "name": "stdout",
     "output_type": "stream",
     "text": [
      "epoch: 6, [batch: 1 / 6720], examples_per_second: 3.2702, train_label_loss: 0.4483, \n"
     ]
    },
    {
     "name": "stdout",
     "output_type": "stream",
     "text": [
      "epoch: 6, [batch: 672 / 6720], examples_per_second: 1920.7867, train_label_loss: 0.6953, \n"
     ]
    },
    {
     "name": "stdout",
     "output_type": "stream",
     "text": [
      "epoch: 6, [batch: 1344 / 6720], examples_per_second: 1920.4660, train_label_loss: 0.7272, \n"
     ]
    },
    {
     "name": "stdout",
     "output_type": "stream",
     "text": [
      "epoch: 6, [batch: 2016 / 6720], examples_per_second: 1925.9590, train_label_loss: 0.4081, \n"
     ]
    },
    {
     "name": "stdout",
     "output_type": "stream",
     "text": [
      "epoch: 6, [batch: 2688 / 6720], examples_per_second: 1917.3046, train_label_loss: 0.1915, \n"
     ]
    },
    {
     "name": "stdout",
     "output_type": "stream",
     "text": [
      "epoch: 6, [batch: 3360 / 6720], examples_per_second: 1921.4825, train_label_loss: 0.3238, \n"
     ]
    },
    {
     "name": "stdout",
     "output_type": "stream",
     "text": [
      "epoch: 6, [batch: 4032 / 6720], examples_per_second: 1921.2611, train_label_loss: 0.5562, \n"
     ]
    },
    {
     "name": "stdout",
     "output_type": "stream",
     "text": [
      "epoch: 6, [batch: 4704 / 6720], examples_per_second: 2353.3846, train_label_loss: 0.7643, \n"
     ]
    },
    {
     "name": "stdout",
     "output_type": "stream",
     "text": [
      "epoch: 6, [batch: 5376 / 6720], examples_per_second: 2100.4564, train_label_loss: 0.3633, \n"
     ]
    },
    {
     "name": "stdout",
     "output_type": "stream",
     "text": [
      "epoch: 6, [batch: 6048 / 6720], examples_per_second: 1922.6665, train_label_loss: 0.3937, \n"
     ]
    },
    {
     "name": "stdout",
     "output_type": "stream",
     "text": [
      "=============================================================\n",
      "epoch: 6, source_val_acc_label: 0.8162, target_val_acc_label: 0.5308, source_val_label_loss: 0.5057, target_val_label_loss: 3047.2449, \n",
      "=============================================================\n"
     ]
    },
    {
     "name": "stdout",
     "output_type": "stream",
     "text": [
      "Patience (3) exhausted\n"
     ]
    }
   ],
   "source": [
    "###################################\n",
    "# train\n",
    "###################################\n",
    "jig = PTN_Train_Eval_Test_Jig(model, p.BEST_MODEL_PATH, p.device)\n",
    "\n",
    "jig.train(\n",
    "    train_iterable=datasets.source.processed.train,\n",
    "    source_val_iterable=datasets.source.processed.val,\n",
    "    target_val_iterable=datasets.target.processed.val,\n",
    "    num_epochs=p.n_epoch,\n",
    "    num_logs_per_epoch=p.NUM_LOGS_PER_EPOCH,\n",
    "    patience=p.patience,\n",
    "    optimizer=optimizer,\n",
    "    criteria_for_best=p.criteria_for_best,\n",
    ")"
   ]
  },
  {
   "cell_type": "code",
   "execution_count": 23,
   "id": "31e8fabf",
   "metadata": {
    "execution": {
     "iopub.execute_input": "2022-03-18T02:33:29.245132Z",
     "iopub.status.busy": "2022-03-18T02:33:29.244862Z",
     "iopub.status.idle": "2022-03-18T02:33:29.263051Z",
     "shell.execute_reply": "2022-03-18T02:33:29.262707Z"
    },
    "papermill": {
     "duration": 0.050009,
     "end_time": "2022-03-18T02:33:29.263130",
     "exception": false,
     "start_time": "2022-03-18T02:33:29.213121",
     "status": "completed"
    },
    "tags": []
   },
   "outputs": [],
   "source": [
    "total_experiment_time_secs = time.time() - start_time_secs"
   ]
  },
  {
   "cell_type": "code",
   "execution_count": 24,
   "id": "87b9595b",
   "metadata": {
    "execution": {
     "iopub.execute_input": "2022-03-18T02:33:29.326199Z",
     "iopub.status.busy": "2022-03-18T02:33:29.325912Z",
     "iopub.status.idle": "2022-03-18T02:35:10.092076Z",
     "shell.execute_reply": "2022-03-18T02:35:10.092490Z"
    },
    "papermill": {
     "duration": 100.798798,
     "end_time": "2022-03-18T02:35:10.092631",
     "exception": false,
     "start_time": "2022-03-18T02:33:29.293833",
     "status": "completed"
    },
    "tags": []
   },
   "outputs": [],
   "source": [
    "###################################\n",
    "# Evaluate the model\n",
    "###################################\n",
    "source_test_label_accuracy, source_test_label_loss = jig.test(datasets.source.processed.test)\n",
    "target_test_label_accuracy, target_test_label_loss = jig.test(datasets.target.processed.test)\n",
    "\n",
    "source_val_label_accuracy, source_val_label_loss = jig.test(datasets.source.processed.val)\n",
    "target_val_label_accuracy, target_val_label_loss = jig.test(datasets.target.processed.val)\n",
    "\n",
    "history = jig.get_history()\n",
    "\n",
    "total_epochs_trained = len(history[\"epoch_indices\"])\n",
    "\n",
    "val_dl = Iterable_Aggregator((datasets.source.original.val,datasets.target.original.val))\n",
    "\n",
    "confusion = ptn_confusion_by_domain_over_dataloader(model, p.device, val_dl)\n",
    "per_domain_accuracy = per_domain_accuracy_from_confusion(confusion)\n",
    "\n",
    "# Add a key to per_domain_accuracy for if it was a source domain\n",
    "for domain, accuracy in per_domain_accuracy.items():\n",
    "    per_domain_accuracy[domain] = {\n",
    "        \"accuracy\": accuracy,\n",
    "        \"source?\": domain in p.domains_source\n",
    "    }\n",
    "\n",
    "# Do an independent accuracy assesment JUST TO BE SURE!\n",
    "# _source_test_label_accuracy = independent_accuracy_assesment(model, datasets.source.processed.test, p.device)\n",
    "# _target_test_label_accuracy = independent_accuracy_assesment(model, datasets.target.processed.test, p.device)\n",
    "# _source_val_label_accuracy = independent_accuracy_assesment(model, datasets.source.processed.val, p.device)\n",
    "# _target_val_label_accuracy = independent_accuracy_assesment(model, datasets.target.processed.val, p.device)\n",
    "\n",
    "# assert(_source_test_label_accuracy == source_test_label_accuracy)\n",
    "# assert(_target_test_label_accuracy == target_test_label_accuracy)\n",
    "# assert(_source_val_label_accuracy == source_val_label_accuracy)\n",
    "# assert(_target_val_label_accuracy == target_val_label_accuracy)\n",
    "\n",
    "experiment = {\n",
    "    \"experiment_name\": p.experiment_name,\n",
    "    \"parameters\": dict(p),\n",
    "    \"results\": {\n",
    "        \"source_test_label_accuracy\": source_test_label_accuracy,\n",
    "        \"source_test_label_loss\": source_test_label_loss,\n",
    "        \"target_test_label_accuracy\": target_test_label_accuracy,\n",
    "        \"target_test_label_loss\": target_test_label_loss,\n",
    "        \"source_val_label_accuracy\": source_val_label_accuracy,\n",
    "        \"source_val_label_loss\": source_val_label_loss,\n",
    "        \"target_val_label_accuracy\": target_val_label_accuracy,\n",
    "        \"target_val_label_loss\": target_val_label_loss,\n",
    "        \"total_epochs_trained\": total_epochs_trained,\n",
    "        \"total_experiment_time_secs\": total_experiment_time_secs,\n",
    "        \"confusion\": confusion,\n",
    "        \"per_domain_accuracy\": per_domain_accuracy,\n",
    "    },\n",
    "    \"history\": history,\n",
    "    \"dataset_metrics\": get_dataset_metrics(datasets, \"ptn\"),\n",
    "}"
   ]
  },
  {
   "cell_type": "code",
   "execution_count": 25,
   "id": "54a21829",
   "metadata": {
    "execution": {
     "iopub.execute_input": "2022-03-18T02:35:10.155842Z",
     "iopub.status.busy": "2022-03-18T02:35:10.155579Z",
     "iopub.status.idle": "2022-03-18T02:35:10.278980Z",
     "shell.execute_reply": "2022-03-18T02:35:10.279487Z"
    },
    "papermill": {
     "duration": 0.153658,
     "end_time": "2022-03-18T02:35:10.279630",
     "exception": false,
     "start_time": "2022-03-18T02:35:10.125972",
     "status": "completed"
    },
    "tags": []
   },
   "outputs": [
    {
     "data": {
      "image/png": "[encoded data removed]",
      "text/plain": [
       "<Figure size 1080x504 with 1 Axes>"
      ]
     },
     "metadata": {
      "needs_background": "light"
     },
     "output_type": "display_data"
    }
   ],
   "source": [
    "ax = get_loss_curve(experiment)\n",
    "plt.show()"
   ]
  },
  {
   "cell_type": "code",
   "execution_count": 26,
   "id": "fd8a0f60",
   "metadata": {
    "execution": {
     "iopub.execute_input": "2022-03-18T02:35:10.345783Z",
     "iopub.status.busy": "2022-03-18T02:35:10.345523Z",
     "iopub.status.idle": "2022-03-18T02:35:10.525299Z",
     "shell.execute_reply": "2022-03-18T02:35:10.524926Z"
    },
    "papermill": {
     "duration": 0.210304,
     "end_time": "2022-03-18T02:35:10.525374",
     "exception": false,
     "start_time": "2022-03-18T02:35:10.315070",
     "status": "completed"
    },
    "tags": []
   },
   "outputs": [
    {
     "data": {
      "text/plain": [
       "<AxesSubplot:title={'center':'Results'}>"
      ]
     },
     "execution_count": 26,
     "metadata": {},
     "output_type": "execute_result"
    },
    {
     "data": {
      "image/png": "[encoded data removed]",
      "text/plain": [
       "<Figure size 1080x504 with 1 Axes>"
      ]
     },
     "metadata": {
      "needs_background": "light"
     },
     "output_type": "display_data"
    }
   ],
   "source": [
    "get_results_table(experiment)"
   ]
  },
  {
   "cell_type": "code",
   "execution_count": 27,
   "id": "cf8dc689",
   "metadata": {
    "execution": {
     "iopub.execute_input": "2022-03-18T02:35:10.589538Z",
     "iopub.status.busy": "2022-03-18T02:35:10.589259Z",
     "iopub.status.idle": "2022-03-18T02:35:10.756117Z",
     "shell.execute_reply": "2022-03-18T02:35:10.755789Z"
    },
    "papermill": {
     "duration": 0.199577,
     "end_time": "2022-03-18T02:35:10.756221",
     "exception": false,
     "start_time": "2022-03-18T02:35:10.556644",
     "status": "completed"
    },
    "tags": []
   },
   "outputs": [
    {
     "data": {
      "text/plain": [
       "<AxesSubplot:title={'center':'Per Domain Validation Accuracy'}, xlabel='domain'>"
      ]
     },
     "execution_count": 27,
     "metadata": {},
     "output_type": "execute_result"
    },
    {
     "data": {
      "image/png": "[encoded data removed]",
      "text/plain": [
       "<Figure size 1080x504 with 1 Axes>"
      ]
     },
     "metadata": {
      "needs_background": "light"
     },
     "output_type": "display_data"
    }
   ],
   "source": [
    "get_domain_accuracies(experiment)"
   ]
  },
  {
   "cell_type": "code",
   "execution_count": 28,
   "id": "a74ae082",
   "metadata": {
    "execution": {
     "iopub.execute_input": "2022-03-18T02:35:10.826615Z",
     "iopub.status.busy": "2022-03-18T02:35:10.826245Z",
     "iopub.status.idle": "2022-03-18T02:35:10.839925Z",
     "shell.execute_reply": "2022-03-18T02:35:10.839487Z"
    },
    "papermill": {
     "duration": 0.047622,
     "end_time": "2022-03-18T02:35:10.840041",
     "exception": false,
     "start_time": "2022-03-18T02:35:10.792419",
     "status": "completed"
    },
    "tags": []
   },
   "outputs": [
    {
     "name": "stdout",
     "output_type": "stream",
     "text": [
      "Source Test Label Accuracy: 0.6996419270833333 Target Test Label Accuracy: 0.552119006849315\n",
      "Source Val Label Accuracy: 0.69150390625 Target Val Label Accuracy: 0.5566138698630136\n"
     ]
    }
   ],
   "source": [
    "print(\"Source Test Label Accuracy:\", experiment[\"results\"][\"source_test_label_accuracy\"], \"Target Test Label Accuracy:\", experiment[\"results\"][\"target_test_label_accuracy\"])\n",
    "print(\"Source Val Label Accuracy:\", experiment[\"results\"][\"source_val_label_accuracy\"], \"Target Val Label Accuracy:\", experiment[\"results\"][\"target_val_label_accuracy\"])"
   ]
  },
  {
   "cell_type": "code",
   "execution_count": 29,
   "id": "dacca602",
   "metadata": {
    "execution": {
     "iopub.execute_input": "2022-03-18T02:35:10.911483Z",
     "iopub.status.busy": "2022-03-18T02:35:10.911150Z",
     "iopub.status.idle": "2022-03-18T02:35:10.929357Z",
     "shell.execute_reply": "2022-03-18T02:35:10.929586Z"
    },
    "papermill": {
     "duration": 0.052947,
     "end_time": "2022-03-18T02:35:10.929666",
     "exception": false,
     "start_time": "2022-03-18T02:35:10.876719",
     "status": "completed"
    },
    "tags": [
     "experiment_json"
    ]
   },
   "outputs": [
    {
     "data": {
      "text/plain": [
       "'{\"experiment_name\": \"tl_3A:oracle.run1.framed -> cores+wisig\", \"parameters\": {\"experiment_name\": \"tl_3A:oracle.run1.framed -> cores+wisig\", \"device\": \"cuda\", \"lr\": 0.001, \"seed\": 1337, \"dataset_seed\": 1337, \"x_shape\": [2, 200], \"n_shot\": 3, \"n_query\": 2, \"train_k_factor\": 3, \"val_k_factor\": 2, \"test_k_factor\": 2, \"torch_default_dtype\": \"torch.float32\", \"n_epoch\": 50, \"patience\": 3, \"criteria_for_best\": \"target_loss\", \"x_net\": [{\"class\": \"nnReshape\", \"kargs\": {\"shape\": [-1, 1, 2, 200]}}, {\"class\": \"Conv2d\", \"kargs\": {\"in_channels\": 1, \"out_channels\": 256, \"kernel_size\": [1, 7], \"bias\": false, \"padding\": [0, 3]}}, {\"class\": \"ReLU\", \"kargs\": {\"inplace\": true}}, {\"class\": \"BatchNorm2d\", \"kargs\": {\"num_features\": 256}}, {\"class\": \"Conv2d\", \"kargs\": {\"in_channels\": 256, \"out_channels\": 80, \"kernel_size\": [2, 7], \"bias\": true, \"padding\": [0, 3]}}, {\"class\": \"ReLU\", \"kargs\": {\"inplace\": true}}, {\"class\": \"BatchNorm2d\", \"kargs\": {\"num_features\": 80}}, {\"class\": \"Flatten\", \"kargs\": {}}, {\"class\": \"Linear\", \"kargs\": {\"in_features\": 16000, \"out_features\": 256}}, {\"class\": \"ReLU\", \"kargs\": {\"inplace\": true}}, {\"class\": \"BatchNorm1d\", \"kargs\": {\"num_features\": 256}}, {\"class\": \"Linear\", \"kargs\": {\"in_features\": 256, \"out_features\": 256}}], \"NUM_LOGS_PER_EPOCH\": 10, \"BEST_MODEL_PATH\": \"./best_model.pth\", \"n_way\": 16, \"datasets\": [{\"labels\": [\"1-10.\", \"1-11.\", \"1-15.\", \"1-16.\", \"1-17.\", \"1-18.\", \"1-19.\", \"10-4.\", \"10-7.\", \"11-1.\", \"11-14.\", \"11-17.\", \"11-20.\", \"11-7.\", \"13-20.\", \"13-8.\", \"14-10.\", \"14-11.\", \"14-14.\", \"14-7.\", \"15-1.\", \"15-20.\", \"16-1.\", \"16-16.\", \"17-10.\", \"17-11.\", \"17-2.\", \"19-1.\", \"19-16.\", \"19-19.\", \"19-20.\", \"19-3.\", \"2-10.\", \"2-11.\", \"2-17.\", \"2-18.\", \"2-20.\", \"2-3.\", \"2-4.\", \"2-5.\", \"2-6.\", \"2-7.\", \"2-8.\", \"3-13.\", \"3-18.\", \"3-3.\", \"4-1.\", \"4-10.\", \"4-11.\", \"4-19.\", \"5-5.\", \"6-15.\", \"7-10.\", \"7-14.\", \"8-18.\", \"8-20.\", \"8-3.\", \"8-8.\"], \"domains\": [1, 2, 3, 4, 5], \"num_examples_per_domain_per_label\": 100, \"pickle_path\": \"/mnt/wd500GB/CSC500/csc500-main/datasets/cores.stratified_ds.2022A.pkl\", \"source_or_target_dataset\": \"target\", \"x_transforms\": [\"unit_mag\", \"take_200\"], \"episode_transforms\": [], \"domain_prefix\": \"C_A_\"}, {\"labels\": [\"1-10\", \"1-12\", \"1-14\", \"1-16\", \"1-18\", \"1-19\", \"1-8\", \"10-11\", \"10-17\", \"10-4\", \"10-7\", \"11-1\", \"11-10\", \"11-19\", \"11-20\", \"11-4\", \"11-7\", \"12-19\", \"12-20\", \"12-7\", \"13-14\", \"13-18\", \"13-19\", \"13-20\", \"13-3\", \"13-7\", \"14-10\", \"14-11\", \"14-12\", \"14-13\", \"14-14\", \"14-19\", \"14-20\", \"14-7\", \"14-8\", \"14-9\", \"15-1\", \"15-19\", \"15-6\", \"16-1\", \"16-16\", \"16-19\", \"16-20\", \"17-10\", \"17-11\", \"18-1\", \"18-10\", \"18-11\", \"18-12\", \"18-13\", \"18-14\", \"18-15\", \"18-16\", \"18-17\", \"18-19\", \"18-2\", \"18-20\", \"18-4\", \"18-5\", \"18-7\", \"18-8\", \"18-9\", \"19-1\", \"19-10\", \"19-11\", \"19-12\", \"19-13\", \"19-14\", \"19-15\", \"19-19\", \"19-2\", \"19-20\", \"19-3\", \"19-4\", \"19-6\", \"19-7\", \"19-8\", \"19-9\", \"2-1\", \"2-13\", \"2-15\", \"2-3\", \"2-4\", \"2-5\", \"2-6\", \"2-7\", \"2-8\", \"20-1\", \"20-12\", \"20-14\", \"20-15\", \"20-16\", \"20-18\", \"20-19\", \"20-20\", \"20-3\", \"20-4\", \"20-5\", \"20-7\", \"20-8\", \"3-1\", \"3-13\", \"3-18\", \"3-2\", \"3-8\", \"4-1\", \"4-10\", \"4-11\", \"5-1\", \"5-5\", \"6-1\", \"6-15\", \"6-6\", \"7-10\", \"7-11\", \"7-12\", \"7-13\", \"7-14\", \"7-7\", \"7-8\", \"7-9\", \"8-1\", \"8-13\", \"8-14\", \"8-18\", \"8-20\", \"8-3\", \"8-8\", \"9-1\", \"9-7\"], \"domains\": [1, 2, 3, 4], \"num_examples_per_domain_per_label\": 100, \"pickle_path\": \"/mnt/wd500GB/CSC500/csc500-main/datasets/wisig.node3-19.stratified_ds.2022A.pkl\", \"source_or_target_dataset\": \"target\", \"x_transforms\": [\"unit_mag\", \"take_200\"], \"episode_transforms\": [], \"domain_prefix\": \"W_A_\"}, {\"labels\": [\"3123D52\", \"3123D65\", \"3123D79\", \"3123D80\", \"3123D54\", \"3123D70\", \"3123D7B\", \"3123D89\", \"3123D58\", \"3123D76\", \"3123D7D\", \"3123EFE\", \"3123D64\", \"3123D78\", \"3123D7E\", \"3124E4A\"], \"domains\": [32, 38, 8, 44, 14, 50, 20, 26], \"num_examples_per_domain_per_label\": 2000, \"pickle_path\": \"/mnt/wd500GB/CSC500/csc500-main/datasets/oracle.Run1_framed_2000Examples_stratified_ds.2022A.pkl\", \"source_or_target_dataset\": \"source\", \"x_transforms\": [\"unit_mag\", \"take_200\", \"resample_20Msps_to_25Msps\"], \"episode_transforms\": [], \"domain_prefix\": \"ORACLE.run1_\"}], \"domains_source\": [\"ORACLE.run1_32\", \"ORACLE.run1_38\", \"ORACLE.run1_8\", \"ORACLE.run1_44\", \"ORACLE.run1_14\", \"ORACLE.run1_50\", \"ORACLE.run1_20\", \"ORACLE.run1_26\"], \"domains_target\": [\"C_A_1\", \"C_A_2\", \"C_A_3\", \"C_A_4\", \"C_A_5\", \"W_A_1\", \"W_A_2\", \"W_A_3\", \"W_A_4\"]}, \"results\": {\"source_test_label_accuracy\": 0.6996419270833333, \"source_test_label_loss\": 0.8448700308799744, \"target_test_label_accuracy\": 0.552119006849315, \"target_test_label_loss\": 652.3634033203125, \"source_val_label_accuracy\": 0.69150390625, \"source_val_label_loss\": 0.8597903251647949, \"target_val_label_accuracy\": 0.5566138698630136, \"target_val_label_loss\": 595.999755859375, \"total_epochs_trained\": 6, \"total_experiment_time_secs\": 1715.577315568924, \"confusion\": {\"ORACLE.run1_14\": {\"15\": {\"15\": 224, \"7\": 16}, \"3\": {\"3\": 228, \"4\": 9, \"0\": 1, \"2\": 1, \"14\": 1}, \"6\": {\"13\": 65, \"6\": 145, \"2\": 7, \"14\": 23}, \"1\": {\"1\": 211, \"5\": 26, \"4\": 3}, \"8\": {\"8\": 240}, \"10\": {\"10\": 223, \"0\": 17}, \"9\": {\"9\": 240}, \"13\": {\"14\": 66, \"13\": 65, \"2\": 18, \"6\": 84, \"5\": 7}, \"12\": {\"12\": 240}, \"5\": {\"5\": 143, \"4\": 47, \"1\": 38, \"2\": 8, \"3\": 3, \"6\": 1}, \"0\": {\"0\": 180, \"10\": 50, \"11\": 4, \"3\": 6}, \"2\": {\"2\": 110, \"6\": 24, \"3\": 13, \"4\": 11, \"14\": 38, \"13\": 12, \"15\": 2, \"5\": 30}, \"11\": {\"11\": 228, \"9\": 11, \"10\": 1}, \"14\": {\"14\": 178, \"13\": 34, \"2\": 16, \"6\": 9, \"3\": 3}, \"7\": {\"7\": 235, \"15\": 5}, \"4\": {\"4\": 194, \"3\": 5, \"5\": 36, \"2\": 3, \"1\": 2}}, \"ORACLE.run1_20\": {\"3\": {\"3\": 123, \"9\": 47, \"12\": 40, \"1\": 2, \"5\": 7, \"4\": 4, \"2\": 13, \"7\": 2, \"0\": 1, \"8\": 1}, \"15\": {\"15\": 130, \"1\": 51, \"5\": 15, \"12\": 5, \"0\": 33, \"13\": 6}, \"8\": {\"8\": 197, \"7\": 12, \"4\": 22, \"10\": 4, \"14\": 2, \"3\": 2, \"2\": 1}, \"4\": {\"4\": 192, \"3\": 12, \"8\": 23, \"12\": 2, \"10\": 7, \"5\": 4}, \"14\": {\"6\": 25, \"14\": 197, \"10\": 14, \"8\": 4}, \"0\": {\"5\": 71, \"3\": 6, \"0\": 85, \"1\": 19, \"15\": 35, \"12\": 18, \"2\": 2, \"4\": 1, \"13\": 2, \"9\": 1}, \"7\": {\"2\": 31, \"8\": 11, \"7\": 172, \"3\": 5, \"9\": 19, \"10\": 1, \"13\": 1}, \"6\": {\"6\": 213, \"10\": 1, \"14\": 25, \"7\": 1}, \"10\": {\"14\": 20, \"10\": 212, \"4\": 4, \"8\": 4}, \"5\": {\"0\": 81, \"1\": 23, \"5\": 98, \"12\": 24, \"3\": 6, \"15\": 7, \"4\": 1}, \"2\": {\"2\": 111, \"7\": 17, \"15\": 2, \"9\": 78, \"3\": 10, \"13\": 16, \"12\": 5, \"0\": 1}, \"12\": {\"12\": 104, \"3\": 52, \"1\": 33, \"5\": 20, \"0\": 8, \"2\": 4, \"9\": 13, \"4\": 1, \"15\": 4, \"13\": 1}, \"9\": {\"9\": 124, \"2\": 65, \"3\": 34, \"12\": 8, \"4\": 1, \"7\": 5, \"13\": 2, \"8\": 1}, \"1\": {\"1\": 99, \"12\": 37, \"5\": 34, \"0\": 31, \"15\": 37, \"3\": 2}, \"11\": {\"11\": 240}, \"13\": {\"13\": 220, \"2\": 17, \"5\": 1, \"1\": 1, \"9\": 1}}, \"ORACLE.run1_38\": {\"5\": {\"8\": 62, \"0\": 13, \"9\": 6, \"5\": 94, \"1\": 7, \"15\": 8, \"3\": 6, \"7\": 25, \"6\": 18, \"13\": 1}, \"8\": {\"8\": 141, \"7\": 19, \"15\": 8, \"10\": 5, \"1\": 2, \"5\": 30, \"0\": 33, \"13\": 2}, \"11\": {\"11\": 165, \"14\": 67, \"4\": 1, \"3\": 1, \"12\": 4, \"10\": 1, \"0\": 1}, \"1\": {\"1\": 226, \"8\": 1, \"15\": 13}, \"10\": {\"10\": 149, \"13\": 30, \"0\": 7, \"12\": 10, \"8\": 21, \"7\": 5, \"2\": 3, \"5\": 4, \"15\": 3, \"4\": 4, \"14\": 3, \"11\": 1}, \"15\": {\"13\": 53, \"8\": 10, \"15\": 152, \"1\": 20, \"2\": 1, \"5\": 2, \"0\": 1, \"10\": 1}, \"3\": {\"3\": 208, \"5\": 3, \"7\": 7, \"9\": 17, \"0\": 3, \"6\": 2}, \"7\": {\"7\": 155, \"0\": 53, \"5\": 16, \"8\": 12, \"3\": 4}, \"4\": {\"4\": 202, \"12\": 38}, \"14\": {\"14\": 194, \"11\": 19, \"2\": 22, \"10\": 5}, \"9\": {\"9\": 151, \"6\": 72, \"3\": 17}, \"12\": {\"12\": 219, \"4\": 19, \"10\": 2}, \"6\": {\"6\": 189, \"9\": 48, \"5\": 2, \"3\": 1}, \"2\": {\"2\": 207, \"14\": 19, \"11\": 1, \"13\": 12, \"10\": 1}, \"0\": {\"8\": 63, \"7\": 57, \"0\": 71, \"5\": 21, \"10\": 9, \"6\": 3, \"3\": 6, \"9\": 3, \"13\": 2, \"15\": 4, \"14\": 1}, \"13\": {\"13\": 143, \"2\": 15, \"15\": 61, \"10\": 16, \"1\": 3, \"5\": 1, \"8\": 1}}, \"ORACLE.run1_8\": {\"9\": {\"9\": 240}, \"10\": {\"10\": 175, \"14\": 46, \"4\": 5, \"13\": 13, \"5\": 1}, \"13\": {\"13\": 80, \"4\": 45, \"0\": 63, \"10\": 18, \"14\": 27, \"6\": 6, \"7\": 1}, \"0\": {\"13\": 51, \"0\": 162, \"7\": 15, \"4\": 4, \"6\": 8}, \"1\": {\"1\": 185, \"11\": 46, \"5\": 3, \"14\": 5, \"10\": 1}, \"15\": {\"15\": 187, \"12\": 44, \"8\": 9}, \"5\": {\"5\": 215, \"11\": 1, \"1\": 14, \"10\": 6, \"14\": 4}, \"3\": {\"2\": 16, \"3\": 212, \"12\": 12}, \"6\": {\"6\": 145, \"0\": 5, \"7\": 55, \"4\": 26, \"13\": 7, \"14\": 2}, \"11\": {\"11\": 177, \"1\": 54, \"14\": 3, \"5\": 6}, \"8\": {\"8\": 231, \"15\": 9}, \"4\": {\"13\": 43, \"4\": 143, \"6\": 21, \"14\": 26, \"10\": 3, \"0\": 4}, \"12\": {\"12\": 119, \"15\": 74, \"3\": 42, \"8\": 5}, \"14\": {\"4\": 23, \"14\": 129, \"10\": 55, \"6\": 1, \"1\": 17, \"13\": 13, \"11\": 2}, \"2\": {\"15\": 7, \"2\": 188, \"3\": 36, \"12\": 2, \"7\": 7}, \"7\": {\"7\": 193, \"6\": 44, \"0\": 2, \"13\": 1}}, \"ORACLE.run1_50\": {\"7\": {\"7\": 145, \"13\": 51, \"10\": 24, \"5\": 20}, \"3\": {\"3\": 238, \"8\": 2}, \"8\": {\"8\": 226, \"10\": 13, \"3\": 1}, \"2\": {\"2\": 210, \"0\": 30}, \"14\": {\"14\": 237, \"12\": 1, \"11\": 2}, \"4\": {\"15\": 39, \"4\": 102, \"1\": 52, \"5\": 22, \"6\": 16, \"13\": 6, \"7\": 2, \"11\": 1}, \"6\": {\"4\": 14, \"15\": 4, \"2\": 2, \"6\": 162, \"1\": 15, \"13\": 30, \"5\": 11, \"7\": 2}, \"15\": {\"15\": 142, \"11\": 21, \"4\": 28, \"1\": 47, \"5\": 1, \"6\": 1}, \"10\": {\"10\": 210, \"8\": 6, \"13\": 8, \"0\": 6, \"7\": 9, \"5\": 1}, \"11\": {\"11\": 200, \"15\": 14, \"9\": 14, \"14\": 6, \"12\": 4, \"1\": 2}, \"13\": {\"13\": 131, \"5\": 38, \"7\": 42, \"6\": 24, \"10\": 4, \"0\": 1}, \"9\": {\"9\": 193, \"12\": 31, \"11\": 16}, \"0\": {\"0\": 199, \"10\": 14, \"2\": 25, \"13\": 1, \"6\": 1}, \"1\": {\"4\": 26, \"1\": 138, \"15\": 43, \"6\": 31, \"5\": 2}, \"12\": {\"12\": 215, \"9\": 16, \"14\": 7, \"11\": 2}, \"5\": {\"5\": 72, \"4\": 39, \"7\": 45, \"13\": 45, \"1\": 16, \"6\": 20, \"10\": 2, \"15\": 1}}, \"ORACLE.run1_32\": {\"8\": {\"5\": 26, \"8\": 171, \"13\": 20, \"14\": 3, \"0\": 15, \"7\": 2, \"3\": 1, \"4\": 2}, \"14\": {\"11\": 72, \"0\": 14, \"14\": 86, \"13\": 4, \"5\": 10, \"7\": 43, \"8\": 4, \"3\": 6, \"4\": 1}, \"2\": {\"2\": 191, \"4\": 42, \"0\": 3, \"7\": 4}, \"0\": {\"2\": 9, \"0\": 156, \"4\": 11, \"7\": 16, \"5\": 8, \"8\": 27, \"14\": 8, \"13\": 5}, \"1\": {\"1\": 237, \"10\": 3}, \"10\": {\"10\": 240}, \"11\": {\"11\": 163, \"14\": 53, \"5\": 4, \"7\": 18, \"13\": 2}, \"5\": {\"5\": 54, \"11\": 11, \"3\": 28, \"13\": 51, \"14\": 11, \"8\": 26, \"7\": 34, \"4\": 13, \"0\": 12}, \"15\": {\"15\": 239, \"8\": 1}, \"3\": {\"3\": 216, \"14\": 2, \"5\": 16, \"11\": 3, \"13\": 2, \"8\": 1}, \"12\": {\"12\": 240}, \"7\": {\"4\": 29, \"14\": 23, \"7\": 111, \"5\": 23, \"11\": 14, \"0\": 12, \"13\": 21, \"8\": 2, \"3\": 2, \"2\": 3}, \"13\": {\"8\": 22, \"13\": 93, \"5\": 49, \"0\": 7, \"3\": 12, \"4\": 26, \"14\": 4, \"7\": 24, \"11\": 3}, \"6\": {\"6\": 240}, \"4\": {\"4\": 139, \"7\": 27, \"2\": 55, \"0\": 8, \"13\": 4, \"5\": 4, \"8\": 2, \"14\": 1}, \"9\": {\"9\": 239, \"12\": 1}}, \"ORACLE.run1_26\": {\"4\": {\"14\": 49, \"4\": 93, \"7\": 8, \"1\": 18, \"8\": 33, \"0\": 33, \"10\": 6}, \"12\": {\"12\": 239, \"11\": 1}, \"10\": {\"1\": 4, \"0\": 63, \"10\": 85, \"6\": 23, \"8\": 29, \"14\": 25, \"4\": 8, \"9\": 3}, \"0\": {\"8\": 26, \"0\": 64, \"1\": 7, \"14\": 34, \"9\": 3, \"6\": 9, \"4\": 28, \"10\": 66, \"7\": 3}, \"13\": {\"13\": 156, \"5\": 41, \"15\": 20, \"2\": 6, \"6\": 5, \"9\": 12}, \"9\": {\"5\": 17, \"15\": 81, \"9\": 84, \"6\": 23, \"8\": 13, \"4\": 1, \"13\": 9, \"10\": 7, \"0\": 1, \"2\": 2, \"7\": 2}, \"3\": {\"3\": 155, \"2\": 56, \"8\": 3, \"7\": 24, \"1\": 1, \"5\": 1}, \"2\": {\"2\": 92, \"7\": 28, \"15\": 9, \"3\": 72, \"5\": 21, \"9\": 9, \"8\": 8, \"13\": 1}, \"5\": {\"2\": 17, \"13\": 18, \"15\": 29, \"5\": 147, \"9\": 17, \"8\": 3, \"7\": 6, \"3\": 3}, \"14\": {\"4\": 51, \"1\": 37, \"14\": 84, \"0\": 37, \"8\": 8, \"10\": 21, \"7\": 2}, \"8\": {\"8\": 90, \"7\": 20, \"4\": 23, \"14\": 14, \"0\": 22, \"10\": 29, \"6\": 11, \"9\": 15, \"15\": 10, \"2\": 3, \"3\": 2, \"1\": 1}, \"7\": {\"7\": 155, \"2\": 22, \"1\": 2, \"15\": 4, \"3\": 17, \"4\": 18, \"9\": 2, \"8\": 16, \"0\": 2, \"14\": 2}, \"6\": {\"6\": 179, \"9\": 15, \"8\": 8, \"4\": 1, \"10\": 22, \"13\": 2, \"15\": 9, \"0\": 4}, \"11\": {\"11\": 239, \"12\": 1}, \"15\": {\"15\": 88, \"9\": 72, \"8\": 22, \"13\": 20, \"0\": 3, \"5\": 21, \"7\": 3, \"2\": 4, \"6\": 6, \"10\": 1}, \"1\": {\"1\": 146, \"14\": 48, \"10\": 4, \"4\": 25, \"0\": 4, \"7\": 7, \"8\": 5, \"2\": 1}}, \"ORACLE.run1_44\": {\"12\": {\"12\": 161, \"1\": 57, \"10\": 20, \"3\": 1, \"2\": 1}, \"7\": {\"7\": 138, \"2\": 38, \"6\": 9, \"9\": 51, \"10\": 1, \"3\": 3}, \"5\": {\"5\": 174, \"15\": 15, \"0\": 24, \"8\": 12, \"4\": 3, \"14\": 12}, \"15\": {\"15\": 175, \"14\": 23, \"5\": 8, \"0\": 24, \"8\": 8, \"4\": 2}, \"8\": {\"0\": 90, \"8\": 137, \"15\": 10, \"5\": 3}, \"2\": {\"2\": 171, \"7\": 42, \"10\": 15, \"1\": 10, \"3\": 1, \"12\": 1}, \"13\": {\"6\": 37, \"13\": 146, \"9\": 40, \"7\": 2, \"11\": 14, \"4\": 1}, \"4\": {\"4\": 168, \"14\": 70, \"13\": 1, \"15\": 1}, \"0\": {\"8\": 77, \"5\": 31, \"0\": 120, \"15\": 12}, \"6\": {\"9\": 36, \"6\": 139, \"13\": 42, \"7\": 12, \"11\": 11}, \"9\": {\"13\": 36, \"7\": 47, \"9\": 128, \"6\": 24, \"2\": 4, \"1\": 1}, \"11\": {\"11\": 200, \"6\": 10, \"9\": 3, \"13\": 27}, \"10\": {\"1\": 25, \"10\": 169, \"12\": 30, \"2\": 15, \"3\": 1}, \"14\": {\"4\": 86, \"14\": 122, \"15\": 22, \"5\": 10}, \"1\": {\"3\": 24, \"12\": 73, \"1\": 110, \"10\": 20, \"2\": 13}, \"3\": {\"3\": 206, \"1\": 19, \"7\": 1, \"12\": 9, \"2\": 5}}, \"C_A_3\": {\"43\": {\"43\": 12}, \"9\": {\"9\": 12}, \"6\": {\"6\": 8, \"3\": 1, \"33\": 1}, \"3\": {\"9\": 1, \"6\": 1, \"3\": 2, \"54\": 1, \"50\": 2, \"20\": 1, \"33\": 1, \"41\": 2, \"35\": 1}, \"16\": {\"16\": 12}, \"51\": {\"51\": 12}, \"31\": {\"31\": 12}, \"46\": {\"3\": 4, \"46\": 4, \"5\": 1, \"50\": 1}, \"19\": {\"44\": 2, \"19\": 6}, \"8\": {\"8\": 11, \"54\": 1}, \"18\": {\"18\": 10, \"26\": 1, \"30\": 1}, \"37\": {\"37\": 12}, \"24\": {\"24\": 7, \"10\": 1, \"16\": 1, \"55\": 1, \"7\": 1, \"13\": 1}, \"10\": {\"10\": 12}, \"44\": {\"44\": 7, \"36\": 1, \"9\": 1, \"19\": 1}, \"14\": {\"10\": 1, \"24\": 1, \"4\": 2, \"14\": 3, \"29\": 3, \"37\": 1, \"35\": 1}, \"38\": {\"38\": 10}, \"53\": {\"53\": 12}, \"20\": {\"54\": 1, \"20\": 8, \"53\": 2, \"25\": 1}, \"32\": {\"32\": 12}, \"36\": {\"36\": 8, \"54\": 2}, \"33\": {\"33\": 11, \"6\": 1}, \"56\": {\"56\": 7, \"43\": 4, \"37\": 1}, \"23\": {\"23\": 11, \"18\": 1}, \"54\": {\"54\": 10}, \"34\": {\"34\": 12}, \"13\": {\"13\": 11, \"37\": 1}, \"2\": {\"53\": 2, \"2\": 10}, \"55\": {\"34\": 2, \"55\": 4, \"11\": 2, \"1\": 2}, \"21\": {\"21\": 6, \"6\": 1, \"51\": 2, \"54\": 1}, \"49\": {\"49\": 10}, \"25\": {\"25\": 10, \"20\": 2}, \"5\": {\"5\": 10, \"57\": 1, \"39\": 1}, \"50\": {\"25\": 1, \"50\": 5, \"36\": 1, \"54\": 1}, \"40\": {\"57\": 2, \"40\": 7, \"4\": 2, \"45\": 1}, \"57\": {\"57\": 8}, \"22\": {\"26\": 1, \"37\": 1, \"22\": 2, \"0\": 1, \"11\": 1, \"55\": 1, \"49\": 3}, \"1\": {\"1\": 10}, \"17\": {\"17\": 12}, \"41\": {\"41\": 11, \"48\": 1}, \"4\": {\"4\": 8, \"8\": 1, \"1\": 1}, \"7\": {\"26\": 1, \"7\": 5, \"15\": 3, \"55\": 1}, \"26\": {\"26\": 10}, \"29\": {\"29\": 12}, \"52\": {\"23\": 1, \"52\": 9, \"47\": 1, \"39\": 1}, \"15\": {\"15\": 12}, \"35\": {\"29\": 1, \"35\": 11}, \"42\": {\"42\": 12}, \"30\": {\"30\": 10}, \"27\": {\"27\": 8}, \"45\": {\"44\": 3, \"13\": 1, \"4\": 3, \"32\": 1, \"54\": 1, \"17\": 1}, \"0\": {\"0\": 12}, \"28\": {\"31\": 3, \"5\": 3, \"28\": 4, \"1\": 1, \"47\": 1}, \"47\": {\"47\": 8, \"5\": 1, \"39\": 1, \"23\": 1, \"34\": 1}, \"11\": {\"26\": 1, \"11\": 9}, \"39\": {\"39\": 10}, \"48\": {\"41\": 2, \"48\": 8, \"17\": 1, \"6\": 1}, \"12\": {\"12\": 7, \"20\": 1}}, \"C_A_4\": {\"35\": {\"35\": 7, \"49\": 1, \"7\": 1, \"55\": 1}, \"25\": {\"25\": 8, \"4\": 1, \"26\": 1, \"21\": 2}, \"24\": {\"24\": 4, \"0\": 1, \"46\": 3, \"43\": 2}, \"48\": {\"48\": 12}, \"51\": {\"51\": 9, \"42\": 1, \"8\": 1, \"21\": 1}, \"13\": {\"13\": 7, \"14\": 1, \"0\": 2, \"22\": 2}, \"14\": {\"35\": 1, \"51\": 1, \"36\": 1, \"49\": 1, \"14\": 2, \"2\": 2}, \"32\": {\"32\": 12}, \"30\": {\"30\": 11, \"8\": 1}, \"34\": {\"34\": 10}, \"9\": {\"9\": 12}, \"1\": {\"1\": 12}, \"0\": {\"0\": 12}, \"38\": {\"32\": 1, \"1\": 1, \"7\": 2, \"38\": 5, \"49\": 2, \"46\": 1}, \"22\": {\"13\": 1, \"0\": 1, \"22\": 4, \"38\": 1, \"46\": 1}, \"40\": {\"25\": 1, \"9\": 1, \"33\": 1, \"40\": 6, \"48\": 1, \"24\": 1, \"44\": 1}, \"39\": {\"39\": 10, \"18\": 2}, \"46\": {\"32\": 1, \"5\": 1, \"46\": 8, \"39\": 1, \"23\": 1}, \"36\": {\"36\": 12}, \"50\": {\"50\": 5, \"20\": 1, \"25\": 1, \"4\": 1, \"36\": 3, \"40\": 1}, \"49\": {\"49\": 12}, \"17\": {\"17\": 8, \"33\": 2, \"26\": 1, \"19\": 1}, \"45\": {\"45\": 8, \"50\": 1, \"19\": 1, \"17\": 2}, \"6\": {\"6\": 7, \"8\": 1, \"48\": 1, \"18\": 1, \"4\": 1, \"34\": 1}, \"8\": {\"8\": 10, \"30\": 2}, \"5\": {\"39\": 2, \"32\": 1, \"5\": 3, \"57\": 1, \"47\": 1, \"52\": 1, \"34\": 1}, \"33\": {\"33\": 8, \"31\": 1, \"19\": 1, \"44\": 2}, \"31\": {\"31\": 12}, \"37\": {\"37\": 10}, \"47\": {\"47\": 8}, \"15\": {\"15\": 9, \"0\": 1}, \"7\": {\"7\": 12}, \"20\": {\"20\": 12}, \"4\": {\"44\": 2, \"4\": 8, \"40\": 1, \"30\": 1}, \"54\": {\"54\": 11, \"36\": 1}, \"44\": {\"19\": 2, \"44\": 9, \"4\": 1}, \"3\": {\"3\": 8, \"25\": 1, \"48\": 1, \"36\": 1, \"53\": 1}, \"11\": {\"11\": 7, \"15\": 2, \"0\": 1}, \"27\": {\"27\": 10}, \"19\": {\"19\": 12}, \"55\": {\"55\": 7, \"16\": 1, \"28\": 2, \"24\": 1, \"7\": 1}, \"16\": {\"16\": 12}, \"2\": {\"2\": 9, \"10\": 1}, \"52\": {\"52\": 9, \"23\": 1}, \"42\": {\"42\": 9, \"25\": 1}, \"26\": {\"26\": 12}, \"10\": {\"10\": 12}, \"53\": {\"54\": 1, \"53\": 6, \"50\": 1, \"8\": 2}, \"28\": {\"28\": 11, \"6\": 1}, \"21\": {\"21\": 10}, \"57\": {\"57\": 10}, \"23\": {\"23\": 8}, \"43\": {\"43\": 10}, \"12\": {\"12\": 9, \"27\": 2, \"45\": 1}, \"41\": {\"41\": 11, \"52\": 1}, \"56\": {\"16\": 2, \"43\": 1, \"56\": 4, \"10\": 1}, \"18\": {\"18\": 7, \"39\": 2, \"23\": 1}, \"29\": {\"29\": 8}}, \"C_A_5\": {\"47\": {\"47\": 8, \"42\": 1, \"23\": 1}, \"53\": {\"53\": 12}, \"29\": {\"29\": 8, \"54\": 2, \"44\": 2}, \"52\": {\"52\": 12}, \"55\": {\"17\": 1, \"6\": 1, \"55\": 4, \"40\": 1, \"9\": 1, \"27\": 3, \"30\": 1}, \"17\": {\"17\": 11, \"38\": 1}, \"42\": {\"42\": 10, \"57\": 1, \"18\": 1}, \"33\": {\"33\": 10}, \"11\": {\"11\": 12}, \"19\": {\"19\": 8}, \"1\": {\"1\": 11, \"39\": 1}, \"44\": {\"44\": 7, \"11\": 2, \"5\": 2, \"33\": 1}, \"49\": {\"49\": 12}, \"4\": {\"4\": 10, \"27\": 2}, \"6\": {\"6\": 6, \"30\": 3, \"25\": 1, \"27\": 1, \"17\": 1}, \"39\": {\"39\": 12}, \"13\": {\"13\": 11, \"56\": 1}, \"5\": {\"5\": 8, \"50\": 1, \"28\": 1}, \"16\": {\"16\": 9, \"11\": 1}, \"25\": {\"25\": 12}, \"45\": {\"45\": 9, \"30\": 3}, \"7\": {\"7\": 10}, \"22\": {\"22\": 5, \"29\": 4, \"54\": 2, \"49\": 1}, \"40\": {\"5\": 1, \"40\": 2, \"50\": 1, \"28\": 1, \"29\": 1, \"19\": 3, \"44\": 2, \"34\": 1}, \"38\": {\"38\": 12}, \"35\": {\"35\": 8}, \"56\": {\"56\": 12}, \"50\": {\"20\": 2, \"39\": 2, \"6\": 2, \"50\": 2, \"8\": 1, \"53\": 1}, \"0\": {\"0\": 12}, \"10\": {\"10\": 12}, \"27\": {\"27\": 12}, \"20\": {\"20\": 9, \"53\": 1}, \"36\": {\"36\": 8}, \"34\": {\"34\": 12}, \"30\": {\"30\": 12}, \"2\": {\"2\": 10}, \"15\": {\"15\": 10, \"11\": 2}, \"18\": {\"18\": 10, \"42\": 2}, \"32\": {\"32\": 12}, \"31\": {\"31\": 12}, \"57\": {\"57\": 12}, \"48\": {\"32\": 2, \"48\": 6}, \"28\": {\"28\": 10}, \"14\": {\"14\": 2, \"6\": 1, \"35\": 1, \"25\": 2, \"32\": 1, \"31\": 1, \"39\": 1, \"37\": 1, \"21\": 2}, \"3\": {\"34\": 1, \"16\": 1, \"3\": 7, \"31\": 1, \"49\": 1, \"21\": 1}, \"8\": {\"8\": 12}, \"9\": {\"9\": 10, \"19\": 2}, \"21\": {\"21\": 9, \"46\": 1}, \"41\": {\"41\": 12}, \"24\": {\"14\": 1, \"24\": 7, \"0\": 2, \"11\": 1, \"13\": 1}, \"46\": {\"46\": 10}, \"43\": {\"43\": 10}, \"54\": {\"54\": 10}, \"23\": {\"23\": 10}, \"37\": {\"31\": 1, \"46\": 1, \"37\": 5, \"21\": 2, \"14\": 1}, \"12\": {\"26\": 1, \"32\": 1, \"12\": 6, \"55\": 1, \"25\": 1}, \"26\": {\"26\": 10}, \"51\": {\"51\": 6}}, \"W_A_3\": {\"109\": {\"21\": 1, \"100\": 1, \"33\": 1, \"2\": 1, \"55\": 2, \"126\": 1, \"29\": 1, \"105\": 1, \"82\": 1, \"109\": 2}, \"127\": {\"7\": 1, \"127\": 5, \"87\": 1, \"32\": 1, \"3\": 1, \"77\": 1, \"111\": 2}, \"14\": {\"14\": 5, \"114\": 1, \"43\": 1, \"82\": 1, \"69\": 2, \"2\": 2}, \"7\": {\"7\": 8, \"127\": 1, \"5\": 1, \"101\": 2}, \"129\": {\"129\": 6, \"14\": 1, \"108\": 1, \"115\": 1, \"93\": 1, \"40\": 1, \"82\": 1}, \"57\": {\"44\": 1, \"57\": 7, \"87\": 2, \"74\": 1, \"122\": 1}, \"84\": {\"114\": 2, \"14\": 1, \"115\": 1, \"93\": 1, \"29\": 1, \"49\": 1, \"1\": 1, \"10\": 1, \"62\": 1, \"46\": 1, \"84\": 1}, \"114\": {\"46\": 1, \"127\": 1, \"114\": 2, \"68\": 1, \"50\": 1, \"85\": 2, \"1\": 2, \"13\": 1, \"7\": 1}, \"44\": {\"21\": 2, \"44\": 5, \"32\": 2, \"99\": 1, \"128\": 1, \"113\": 1}, \"21\": {\"21\": 8, \"63\": 1, \"70\": 2, \"123\": 1}, \"46\": {\"44\": 1, \"127\": 1, \"8\": 2, \"5\": 2, \"91\": 1, \"1\": 1, \"68\": 2, \"55\": 1, \"46\": 1}, \"100\": {\"109\": 2, \"33\": 1, \"105\": 1, \"1\": 2, \"100\": 2, \"76\": 1, \"16\": 1, \"118\": 2}, \"63\": {\"63\": 6, \"24\": 1, \"27\": 1, \"43\": 1, \"2\": 1, \"54\": 1, \"123\": 1}, \"24\": {\"7\": 1, \"21\": 1, \"54\": 1, \"83\": 1, \"36\": 2, \"43\": 1, \"24\": 2, \"48\": 1, \"3\": 2}, \"107\": {\"109\": 1, \"21\": 1, \"55\": 2, \"26\": 1, \"33\": 1, \"16\": 2, \"107\": 2, \"69\": 2}, \"35\": {\"21\": 1, \"7\": 1, \"10\": 1, \"4\": 1, \"66\": 1, \"109\": 1, \"35\": 3, \"13\": 1}, \"81\": {\"2\": 1, \"64\": 1, \"81\": 7, \"120\": 1, \"18\": 1, \"107\": 1}, \"64\": {\"64\": 9, \"80\": 1, \"121\": 1, \"119\": 1}, \"59\": {\"59\": 11, \"15\": 1}, \"33\": {\"33\": 8, \"43\": 1, \"118\": 1, \"14\": 1, \"115\": 1}, \"34\": {\"34\": 5, \"94\": 2, \"10\": 1, \"70\": 1, \"75\": 1, \"62\": 1, \"6\": 1}, \"36\": {\"36\": 9, \"52\": 1, \"25\": 1, \"24\": 1}, \"79\": {\"79\": 7, \"90\": 1, \"9\": 1, \"23\": 1, \"48\": 1, \"74\": 1}, \"80\": {\"80\": 6, \"57\": 1, \"10\": 2, \"67\": 1, \"128\": 1, \"32\": 1}, \"77\": {\"77\": 8, \"127\": 1, \"57\": 1, \"9\": 2}, \"22\": {\"77\": 2, \"10\": 1, \"60\": 1, \"82\": 1, \"66\": 3, \"22\": 2, \"13\": 1, \"41\": 1}, \"124\": {\"87\": 1, \"33\": 1, \"105\": 1, \"60\": 1, \"124\": 3, \"66\": 1, \"42\": 1, \"53\": 1, \"90\": 1, \"12\": 1}, \"2\": {\"87\": 1, \"33\": 1, \"21\": 2, \"2\": 3, \"67\": 1, \"44\": 2, \"40\": 1, \"43\": 1}, \"87\": {\"105\": 2, \"77\": 1, \"49\": 2, \"122\": 1, \"110\": 1, \"9\": 1, \"87\": 2, \"127\": 1, \"45\": 1}, \"105\": {\"105\": 6, \"74\": 1, \"19\": 2, \"62\": 1, \"114\": 2}, \"95\": {\"97\": 1, \"95\": 7, \"10\": 1, \"58\": 2, \"88\": 1}, \"43\": {\"43\": 4, \"44\": 2, \"21\": 2, \"102\": 1, \"128\": 2, \"11\": 1}, \"56\": {\"110\": 1, \"43\": 1, \"73\": 1, \"56\": 3, \"91\": 1, \"98\": 1, \"57\": 1, \"124\": 1}, \"18\": {\"18\": 9, \"102\": 1, \"16\": 1, \"81\": 1}, \"85\": {\"128\": 1, \"85\": 3, \"114\": 1, \"50\": 1, \"99\": 1, \"1\": 1, \"100\": 1, \"30\": 1, \"88\": 1, \"5\": 1}, \"113\": {\"43\": 1, \"123\": 1, \"10\": 1, \"113\": 3, \"128\": 1, \"70\": 1, \"18\": 1, \"102\": 1, \"13\": 2}, \"97\": {\"95\": 1, \"97\": 5, \"101\": 2, \"51\": 1, \"91\": 1, \"98\": 1, \"58\": 1}, \"86\": {\"86\": 4, \"46\": 1, \"5\": 2, \"32\": 1, \"99\": 2, \"70\": 2}, \"128\": {\"128\": 9, \"74\": 1, \"86\": 1, \"4\": 1}, \"123\": {\"18\": 1, \"123\": 6, \"14\": 1, \"67\": 1, \"81\": 1, \"21\": 1, \"63\": 1}, \"8\": {\"86\": 1, \"8\": 5, \"71\": 2, \"29\": 2, \"85\": 1, \"73\": 1}, \"110\": {\"110\": 4, \"43\": 1, \"10\": 2, \"100\": 1, \"114\": 1, \"44\": 1, \"74\": 1, \"70\": 1}, \"126\": {\"123\": 1, \"18\": 1, \"108\": 2, \"96\": 2, \"118\": 2, \"44\": 1, \"67\": 1, \"80\": 2}, \"101\": {\"49\": 2, \"58\": 2, \"101\": 3, \"129\": 1, \"4\": 1, \"73\": 1, \"72\": 1, \"7\": 1}, \"115\": {\"44\": 1, \"115\": 3, \"33\": 1, \"55\": 1, \"128\": 1, \"45\": 1, \"29\": 1, \"9\": 1, \"74\": 1, \"14\": 1}, \"49\": {\"78\": 4, \"42\": 1, \"17\": 1, \"95\": 2, \"72\": 1, \"12\": 1, \"49\": 1, \"91\": 1}, \"45\": {\"114\": 1, \"45\": 6, \"33\": 1, \"115\": 1, \"82\": 1, \"41\": 1, \"2\": 1}, \"78\": {\"44\": 2, \"29\": 4, \"19\": 1, \"9\": 2, \"77\": 1, \"100\": 1, \"11\": 1}, \"65\": {\"114\": 2, \"65\": 4, \"3\": 1, \"88\": 1, \"110\": 1, \"66\": 1}, \"54\": {\"54\": 12}, \"31\": {\"114\": 1, \"44\": 1, \"31\": 3, \"17\": 2, \"10\": 1, \"88\": 1, \"122\": 1}, \"42\": {\"42\": 6, \"95\": 1, \"91\": 2, \"112\": 2, \"29\": 1}, \"68\": {\"114\": 1, \"68\": 6, \"9\": 2, \"5\": 2, \"99\": 1}, \"15\": {\"15\": 7, \"106\": 1, \"78\": 1, \"51\": 1, \"12\": 1, \"0\": 1}, \"69\": {\"102\": 2, \"100\": 1, \"69\": 6, \"50\": 2, \"105\": 1}, \"17\": {\"17\": 1, \"53\": 1, \"67\": 1, \"9\": 1, \"87\": 1, \"49\": 1, \"5\": 1, \"108\": 1, \"122\": 1, \"57\": 1}, \"73\": {\"77\": 1, \"15\": 1, \"73\": 8, \"112\": 1, \"105\": 1}, \"121\": {\"121\": 5, \"104\": 1, \"123\": 1, \"61\": 2, \"85\": 1, \"64\": 1, \"43\": 1}, \"102\": {\"102\": 11, \"50\": 1}, \"48\": {\"31\": 1, \"102\": 1, \"16\": 1, \"37\": 1, \"3\": 1, \"48\": 2, \"77\": 1, \"78\": 1, \"71\": 1, \"82\": 1, \"116\": 1}, \"23\": {\"17\": 2, \"79\": 2, \"128\": 2, \"96\": 1, \"9\": 1, \"126\": 1, \"44\": 2, \"101\": 1}, \"108\": {\"17\": 2, \"49\": 1, \"87\": 1, \"108\": 2, \"74\": 1, \"118\": 1, \"86\": 1, \"5\": 1, \"122\": 2}, \"53\": {\"48\": 1, \"23\": 1, \"74\": 1, \"53\": 2, \"1\": 1, \"28\": 1, \"50\": 1, \"116\": 1, \"76\": 1, \"46\": 1, \"104\": 1}, \"94\": {\"94\": 8, \"15\": 1, \"83\": 1}, \"41\": {\"41\": 2, \"23\": 1, \"10\": 1, \"90\": 1, \"91\": 1, \"29\": 1, \"19\": 1, \"22\": 1, \"45\": 1, \"70\": 2}, \"58\": {\"58\": 7, \"19\": 1, \"35\": 1, \"71\": 2, \"7\": 1}, \"29\": {\"29\": 5, \"122\": 2, \"32\": 1, \"92\": 2, \"128\": 2}, \"116\": {\"29\": 1, \"123\": 1, \"61\": 2, \"116\": 2, \"118\": 1, \"70\": 1, \"88\": 2, \"124\": 1, \"122\": 1}, \"60\": {\"47\": 2, \"16\": 1, \"10\": 1, \"113\": 1, \"128\": 3, \"60\": 2, \"62\": 1, \"108\": 1}, \"104\": {\"40\": 1, \"82\": 1, \"68\": 1, \"11\": 1, \"120\": 1, \"38\": 1, \"128\": 1, \"16\": 1, \"104\": 2, \"66\": 1, \"46\": 1}, \"106\": {\"15\": 1, \"106\": 10, \"101\": 1}, \"66\": {\"29\": 1, \"60\": 1, \"66\": 8, \"119\": 1, \"46\": 1}, \"47\": {\"58\": 1, \"47\": 8, \"3\": 1, \"52\": 1, \"56\": 1}, \"40\": {\"82\": 1, \"14\": 1, \"9\": 2, \"11\": 1, \"40\": 3, \"93\": 1, \"114\": 1, \"4\": 1, \"71\": 1}, \"82\": {\"104\": 1, \"14\": 1, \"82\": 5, \"26\": 1, \"128\": 1, \"33\": 1, \"62\": 1, \"84\": 1}, \"13\": {\"19\": 2, \"10\": 1, \"55\": 1, \"99\": 2, \"26\": 1, \"29\": 1, \"100\": 1, \"63\": 1, \"11\": 1, \"13\": 1}, \"19\": {\"19\": 2, \"9\": 1, \"86\": 2, \"91\": 1, \"105\": 3, \"49\": 1, \"127\": 1, \"103\": 1}, \"72\": {\"72\": 3, \"58\": 1, \"9\": 1, \"51\": 2, \"49\": 1, \"12\": 1, \"71\": 1, \"101\": 1, \"7\": 1}, \"9\": {\"19\": 1, \"58\": 1, \"110\": 1, \"9\": 3, \"23\": 2, \"78\": 2, \"53\": 1, \"127\": 1}, \"67\": {\"67\": 10, \"17\": 1, \"61\": 1}, \"11\": {\"19\": 1, \"11\": 4, \"102\": 1, \"49\": 2, \"13\": 1, \"113\": 1, \"62\": 1, \"88\": 1}, \"125\": {\"125\": 11, \"75\": 1}, \"76\": {\"76\": 3, \"19\": 1, \"100\": 1, \"78\": 1, \"116\": 1, \"88\": 1}, \"83\": {\"83\": 10, \"98\": 1, \"27\": 1}, \"74\": {\"74\": 7, \"54\": 1, \"57\": 2, \"53\": 2}, \"20\": {\"20\": 7, \"99\": 1, \"29\": 1, \"79\": 2, \"88\": 1}, \"119\": {\"119\": 7, \"11\": 1, \"114\": 1, \"63\": 1, \"57\": 1, \"104\": 1}, \"1\": {\"129\": 2, \"32\": 3, \"100\": 1, \"87\": 1, \"1\": 2, \"85\": 1, \"29\": 1, \"82\": 1}, \"16\": {\"129\": 2, \"48\": 1, \"16\": 6, \"26\": 1, \"1\": 1, \"49\": 1}, \"25\": {\"25\": 10, \"108\": 1, \"125\": 1}, \"90\": {\"79\": 2, \"90\": 2, \"10\": 1, \"20\": 1, \"122\": 1, \"56\": 1}, \"39\": {\"21\": 2, \"16\": 1, \"70\": 1, \"39\": 1, \"5\": 1, \"80\": 2, \"88\": 1, \"61\": 1, \"122\": 2}, \"28\": {\"43\": 1, \"28\": 5, \"104\": 1, \"53\": 1, \"44\": 1, \"76\": 1, \"113\": 1, \"80\": 1}, \"55\": {\"55\": 4, \"122\": 2, \"110\": 1, \"129\": 2, \"62\": 2, \"84\": 1}, \"117\": {\"117\": 6, \"16\": 1, \"126\": 1, \"70\": 1, \"88\": 1, \"14\": 2}, \"112\": {\"112\": 5, \"37\": 1, \"99\": 1, \"98\": 1, \"59\": 1, \"38\": 1, \"8\": 1, \"73\": 1}, \"38\": {\"104\": 1, \"38\": 3, \"53\": 1, \"60\": 1, \"91\": 1, \"105\": 2, \"22\": 1, \"41\": 1, \"45\": 1}, \"37\": {\"73\": 1, \"37\": 10, \"71\": 1}, \"120\": {\"108\": 1, \"120\": 8, \"71\": 2, \"100\": 1}, \"122\": {\"122\": 6, \"10\": 1, \"124\": 1, \"128\": 1, \"44\": 1, \"5\": 2}, \"50\": {\"55\": 1, \"5\": 1, \"50\": 5, \"127\": 3, \"100\": 1, \"53\": 1}, \"10\": {\"10\": 8, \"88\": 2, \"4\": 1, \"43\": 1}, \"5\": {\"87\": 2, \"110\": 2, \"5\": 5, \"99\": 1, \"1\": 1, \"103\": 1}, \"51\": {\"51\": 11, \"95\": 1}, \"3\": {\"95\": 2, \"10\": 1, \"3\": 2, \"12\": 1, \"127\": 1, \"35\": 1, \"33\": 1, \"71\": 1, \"108\": 1, \"5\": 1}, \"98\": {\"15\": 1, \"34\": 1, \"98\": 6, \"0\": 1, \"72\": 1, \"97\": 1, \"21\": 1}, \"70\": {\"10\": 1, \"95\": 1, \"126\": 2, \"99\": 2, \"128\": 1, \"9\": 1, \"78\": 2, \"112\": 1, \"70\": 1}, \"96\": {\"96\": 3, \"4\": 1, \"126\": 1, \"2\": 2, \"128\": 1, \"16\": 1, \"119\": 2, \"113\": 1}, \"12\": {\"12\": 4, \"99\": 1, \"71\": 2, \"3\": 2, \"72\": 1, \"111\": 1, \"108\": 1}, \"99\": {\"128\": 2, \"99\": 4, \"103\": 1, \"49\": 2, \"57\": 1, \"44\": 2}, \"52\": {\"71\": 1, \"52\": 7, \"7\": 1, \"51\": 1, \"94\": 1, \"58\": 1}, \"71\": {\"71\": 7, \"128\": 1, \"86\": 1, \"122\": 1, \"65\": 1, \"101\": 1}, \"89\": {\"55\": 1, \"89\": 5, \"26\": 1, \"41\": 1, \"84\": 1, \"31\": 1, \"76\": 1, \"5\": 1}, \"0\": {\"71\": 2, \"111\": 1, \"0\": 6, \"91\": 1, \"12\": 2}, \"4\": {\"110\": 2, \"114\": 3, \"118\": 1, \"4\": 2, \"92\": 1, \"68\": 1, \"44\": 1, \"71\": 1}, \"93\": {\"93\": 7, \"32\": 2, \"99\": 1, \"96\": 1, \"14\": 1}, \"6\": {\"6\": 6, \"91\": 1, \"111\": 1, \"73\": 1, \"125\": 1}, \"75\": {\"75\": 12}, \"62\": {\"62\": 7, \"103\": 1, \"26\": 1, \"69\": 1, \"107\": 1, \"82\": 1}, \"103\": {\"103\": 6, \"1\": 2, \"8\": 1, \"85\": 1, \"5\": 1, \"10\": 1}, \"30\": {\"103\": 3, \"91\": 2, \"112\": 1, \"3\": 1, \"30\": 3, \"77\": 1, \"97\": 1}, \"91\": {\"20\": 1, \"91\": 3, \"98\": 2, \"37\": 1, \"79\": 2, \"0\": 1, \"77\": 2}, \"27\": {\"30\": 2, \"97\": 1, \"27\": 5, \"111\": 1, \"24\": 1, \"112\": 1, \"98\": 1}, \"26\": {\"26\": 7, \"93\": 1, \"69\": 3, \"81\": 1}, \"61\": {\"119\": 2, \"120\": 2, \"61\": 7, \"87\": 1}, \"118\": {\"122\": 1, \"71\": 1, \"62\": 1, \"26\": 2, \"50\": 1, \"1\": 1, \"29\": 2, \"105\": 1, \"128\": 1, \"4\": 1}, \"92\": {\"29\": 2, \"114\": 1, \"99\": 1, \"92\": 3, \"128\": 1, \"43\": 1, \"78\": 1, \"44\": 2}, \"111\": {\"0\": 1, \"7\": 1, \"111\": 6, \"3\": 2, \"98\": 1, \"78\": 1}, \"32\": {\"32\": 6, \"44\": 1, \"118\": 1, \"19\": 1, \"128\": 3}, \"88\": {\"99\": 2, \"88\": 7, \"118\": 1}}, \"C_A_1\": {\"46\": {\"46\": 9, \"9\": 1, \"8\": 1, \"50\": 1}, \"16\": {\"55\": 1, \"16\": 7, \"36\": 1, \"37\": 1, \"38\": 2}, \"26\": {\"26\": 12}, \"10\": {\"10\": 12}, \"9\": {\"9\": 10}, \"28\": {\"28\": 11, \"52\": 1}, \"51\": {\"51\": 10, \"14\": 1, \"16\": 1}, \"1\": {\"1\": 8, \"7\": 1, \"19\": 1, \"57\": 2}, \"55\": {\"55\": 12}, \"27\": {\"27\": 7, \"47\": 1, \"52\": 1, \"28\": 1}, \"22\": {\"16\": 2, \"22\": 7, \"15\": 2, \"21\": 1}, \"52\": {\"28\": 2, \"52\": 6, \"0\": 1, \"39\": 1, \"11\": 2}, \"3\": {\"3\": 11, \"7\": 1}, \"33\": {\"33\": 8}, \"47\": {\"42\": 5, \"55\": 1, \"47\": 4, \"44\": 2}, \"42\": {\"42\": 12}, \"12\": {\"41\": 1, \"46\": 1, \"13\": 1, \"12\": 1}, \"23\": {\"23\": 12}, \"49\": {\"49\": 10}, \"7\": {\"7\": 12}, \"4\": {\"4\": 11, \"50\": 1}, \"50\": {\"50\": 12}, \"19\": {\"56\": 1, \"19\": 9, \"57\": 1, \"1\": 1}, \"11\": {\"12\": 1, \"11\": 8, \"52\": 1, \"15\": 1, \"24\": 1}, \"31\": {\"31\": 10}, \"41\": {\"41\": 10, \"26\": 1, \"51\": 1}, \"56\": {\"56\": 5, \"19\": 2, \"44\": 1, \"1\": 1, \"29\": 1}, \"0\": {\"0\": 11, \"38\": 1}, \"57\": {\"19\": 3, \"57\": 6, \"1\": 3}, \"53\": {\"53\": 12}, \"43\": {\"43\": 12}, \"37\": {\"37\": 12}, \"2\": {\"2\": 8}, \"6\": {\"6\": 8, \"46\": 2, \"17\": 1, \"8\": 1}, \"18\": {\"18\": 11, \"37\": 1}, \"38\": {\"38\": 12}, \"15\": {\"11\": 3, \"15\": 6, \"27\": 1, \"18\": 2}, \"36\": {\"36\": 12}, \"39\": {\"39\": 8}, \"44\": {\"44\": 8, \"21\": 1, \"55\": 1, \"41\": 1, \"35\": 1}, \"8\": {\"8\": 12}, \"17\": {\"17\": 10}, \"5\": {\"6\": 2, \"5\": 7, \"45\": 1, \"50\": 1, \"8\": 1}, \"13\": {\"13\": 10}, \"40\": {\"6\": 1, \"40\": 5, \"4\": 1, \"19\": 1, \"36\": 1, \"37\": 1}, \"29\": {\"29\": 6, \"51\": 1, \"57\": 2, \"42\": 2, \"53\": 1}, \"48\": {\"48\": 11, \"6\": 1}, \"32\": {\"32\": 12}, \"30\": {\"30\": 12}, \"35\": {\"35\": 11, \"44\": 1}, \"25\": {\"25\": 12}, \"14\": {\"8\": 3, \"14\": 4, \"51\": 2, \"13\": 3}, \"54\": {\"0\": 1, \"53\": 1, \"54\": 8}, \"20\": {\"20\": 8}, \"21\": {\"0\": 2, \"22\": 4, \"49\": 2, \"38\": 2}, \"45\": {\"45\": 6, \"34\": 1, \"42\": 1}, \"24\": {\"21\": 1, \"24\": 3, \"36\": 1, \"10\": 1, \"52\": 1, \"11\": 1}, \"34\": {\"34\": 8}}, \"W_A_4\": {\"28\": {\"45\": 1, \"4\": 1, \"3\": 1, \"28\": 3, \"101\": 1, \"79\": 1, \"114\": 1, \"73\": 1, \"46\": 2}, \"4\": {\"4\": 3, \"11\": 1, \"95\": 2, \"50\": 2, \"55\": 1, \"108\": 1, \"120\": 2}, \"72\": {\"11\": 1, \"72\": 4, \"0\": 2, \"71\": 1, \"70\": 1, \"128\": 2, \"32\": 1}, \"111\": {\"111\": 4, \"114\": 1, \"3\": 1, \"27\": 1, \"41\": 1, \"57\": 2, \"12\": 1, \"127\": 1}, \"108\": {\"11\": 1, \"31\": 1, \"72\": 1, \"122\": 1, \"93\": 1, \"110\": 1, \"108\": 2, \"27\": 1, \"73\": 1, \"129\": 1, \"119\": 1}, \"43\": {\"11\": 2, \"114\": 1, \"8\": 1, \"57\": 1, \"43\": 2, \"105\": 1, \"118\": 1, \"122\": 1}, \"96\": {\"90\": 1, \"96\": 3, \"88\": 1, \"116\": 1, \"64\": 2, \"83\": 1, \"62\": 1, \"43\": 1, \"56\": 1}, \"89\": {\"45\": 1, \"11\": 1, \"89\": 4, \"96\": 1, \"28\": 1, \"22\": 1, \"118\": 1, \"60\": 1, \"50\": 1}, \"31\": {\"4\": 1, \"45\": 1, \"90\": 1, \"31\": 2, \"104\": 1, \"50\": 2, \"124\": 1, \"120\": 1, \"65\": 2}, \"45\": {\"45\": 6, \"104\": 1, \"31\": 1, \"114\": 1, \"92\": 2, \"17\": 1}, \"2\": {\"96\": 1, \"31\": 1, \"2\": 6, \"102\": 1, \"5\": 1, \"108\": 1, \"70\": 1}, \"114\": {\"4\": 2, \"114\": 4, \"17\": 1, \"50\": 1, \"112\": 1, \"105\": 1, \"1\": 2}, \"11\": {\"72\": 1, \"96\": 1, \"11\": 6, \"84\": 1, \"43\": 1, \"119\": 1, \"50\": 1}, \"12\": {\"12\": 7, \"111\": 2, \"101\": 2, \"57\": 1}, \"14\": {\"14\": 2, \"90\": 1, \"128\": 2, \"117\": 2, \"115\": 1, \"121\": 1, \"113\": 1, \"50\": 1, \"129\": 1}, \"90\": {\"90\": 10, \"113\": 1, \"67\": 1}, \"10\": {\"11\": 1, \"10\": 5, \"99\": 1, \"24\": 1, \"27\": 1, \"6\": 1, \"119\": 2}, \"63\": {\"11\": 1, \"63\": 10, \"70\": 1}, \"85\": {\"98\": 1, \"11\": 1, \"85\": 9, \"52\": 1}, \"64\": {\"64\": 9, \"37\": 1, \"108\": 1, \"120\": 1}, \"82\": {\"82\": 7, \"122\": 1, \"57\": 1, \"44\": 1, \"115\": 2}, \"58\": {\"58\": 9, \"41\": 1, \"10\": 2}, \"3\": {\"11\": 2, \"3\": 4, \"73\": 1, \"50\": 1, \"71\": 1, \"120\": 1, \"5\": 1, \"100\": 1}, \"54\": {\"54\": 10, \"97\": 2}, \"121\": {\"64\": 1, \"123\": 2, \"99\": 2, \"121\": 5, \"27\": 1, \"37\": 1}, \"42\": {\"91\": 1, \"64\": 1, \"71\": 1, \"42\": 4, \"72\": 1, \"74\": 1, \"95\": 1, \"0\": 1, \"23\": 1}, \"98\": {\"98\": 4, \"85\": 1, \"9\": 2, \"91\": 2, \"29\": 1, \"41\": 1, \"77\": 1}, \"123\": {\"123\": 6, \"67\": 1, \"121\": 1, \"108\": 1, \"113\": 1, \"81\": 1, \"78\": 1}, \"91\": {\"98\": 2, \"54\": 1, \"12\": 1, \"99\": 2, \"42\": 1, \"74\": 1, \"27\": 1, \"20\": 1, \"127\": 2}, \"66\": {\"95\": 1, \"66\": 2, \"21\": 1, \"128\": 1, \"104\": 1, \"90\": 3, \"124\": 1, \"33\": 1, \"16\": 1}, \"102\": {\"102\": 9, \"107\": 2, \"109\": 1}, \"122\": {\"122\": 5, \"102\": 1, \"88\": 1, \"14\": 1, \"32\": 1, \"40\": 1, \"99\": 1, \"107\": 1}, \"1\": {\"122\": 1, \"95\": 1, \"1\": 2, \"28\": 1, \"114\": 2, \"43\": 1, \"118\": 1, \"57\": 1, \"33\": 1, \"87\": 1}, \"15\": {\"68\": 1, \"15\": 5, \"53\": 2, \"51\": 1, \"30\": 1, \"34\": 1, \"127\": 1}, \"97\": {\"72\": 1, \"15\": 1, \"54\": 1, \"9\": 1, \"97\": 4, \"59\": 1, \"27\": 1, \"46\": 1, \"106\": 1}, \"75\": {\"75\": 11, \"125\": 1}, \"95\": {\"1\": 1, \"95\": 7, \"110\": 1, \"71\": 1, \"37\": 1, \"72\": 1}, \"57\": {\"57\": 11, \"28\": 1}, \"68\": {\"95\": 3, \"127\": 1, \"68\": 4, \"98\": 1, \"103\": 1, \"77\": 1, \"100\": 1}, \"125\": {\"75\": 3, \"125\": 6, \"94\": 1, \"47\": 1, \"25\": 1}, \"62\": {\"95\": 1, \"122\": 1, \"87\": 2, \"33\": 1, \"114\": 1, \"2\": 1, \"62\": 2, \"82\": 1}, \"27\": {\"99\": 3, \"27\": 3, \"21\": 1, \"12\": 1, \"88\": 2, \"37\": 1, \"127\": 1}, \"120\": {\"37\": 1, \"99\": 1, \"120\": 7, \"23\": 1, \"88\": 1, \"42\": 1}, \"26\": {\"63\": 1, \"13\": 2, \"26\": 4, \"113\": 1, \"19\": 1, \"4\": 1, \"14\": 1, \"119\": 1}, \"55\": {\"46\": 1, \"84\": 2, \"128\": 1, \"55\": 5, \"83\": 1, \"43\": 1, \"73\": 1}, \"71\": {\"120\": 1, \"55\": 1, \"71\": 3, \"5\": 1, \"88\": 2, \"50\": 2, \"8\": 1, \"37\": 1}, \"22\": {\"99\": 1, \"22\": 7, \"116\": 1, \"20\": 1, \"89\": 1, \"118\": 1}, \"99\": {\"99\": 11, \"43\": 1}, \"84\": {\"99\": 1, \"26\": 1, \"23\": 1, \"40\": 1, \"84\": 2, \"107\": 2, \"43\": 1, \"118\": 1, \"122\": 2}, \"37\": {\"120\": 1, \"71\": 3, \"37\": 3, \"78\": 1, \"5\": 2, \"70\": 1, \"74\": 1}, \"83\": {\"71\": 1, \"55\": 1, \"114\": 2, \"19\": 1, \"88\": 1, \"108\": 1, \"105\": 2, \"83\": 3}, \"46\": {\"120\": 4, \"127\": 1, \"49\": 1, \"83\": 1, \"73\": 1, \"46\": 2, \"72\": 1, \"57\": 1}, \"35\": {\"26\": 1, \"99\": 1, \"69\": 1, \"117\": 1, \"64\": 2, \"118\": 1, \"92\": 1, \"78\": 1, \"16\": 1, \"48\": 1, \"46\": 1}, \"13\": {\"26\": 2, \"64\": 2, \"120\": 1, \"84\": 1, \"31\": 1, \"50\": 1, \"46\": 1, \"122\": 1, \"118\": 1, \"13\": 1}, \"53\": {\"53\": 9, \"11\": 1, \"23\": 1, \"49\": 1}, \"127\": {\"127\": 5, \"57\": 1, \"95\": 1, \"101\": 2, \"111\": 1, \"53\": 2}, \"69\": {\"8\": 1, \"69\": 7, \"50\": 1, \"1\": 1, \"78\": 1, \"16\": 1}, \"48\": {\"69\": 1, \"48\": 3, \"126\": 1, \"114\": 1, \"109\": 1, \"67\": 1, \"90\": 1, \"17\": 1, \"82\": 1, \"89\": 1}, \"16\": {\"16\": 9, \"33\": 1, \"122\": 1, \"120\": 1}, \"0\": {\"115\": 1, \"43\": 3, \"119\": 2, \"86\": 1, \"72\": 1, \"0\": 3, \"87\": 1}, \"8\": {\"8\": 7, \"119\": 2, \"70\": 1, \"101\": 1, \"32\": 1}, \"9\": {\"9\": 6, \"53\": 1, \"34\": 1, \"98\": 1, \"10\": 1, \"30\": 1, \"77\": 1}, \"115\": {\"82\": 1, \"57\": 1, \"115\": 2, \"95\": 1, \"87\": 1, \"93\": 1, \"108\": 1, \"105\": 1, \"71\": 2, \"128\": 1}, \"70\": {\"95\": 1, \"70\": 3, \"78\": 2, \"21\": 2, \"43\": 2, \"119\": 1, \"11\": 1}, \"119\": {\"119\": 12}, \"59\": {\"59\": 8, \"97\": 2, \"47\": 2}, \"52\": {\"53\": 2, \"52\": 7, \"106\": 1, \"112\": 1, \"85\": 1}, \"60\": {\"60\": 2, \"70\": 1, \"128\": 1, \"99\": 2, \"90\": 1, \"62\": 1, \"105\": 1, \"48\": 2, \"119\": 1}, \"44\": {\"44\": 3, \"122\": 1, \"67\": 1, \"50\": 2, \"70\": 1, \"72\": 1, \"110\": 1, \"38\": 1, \"87\": 1}, \"51\": {\"52\": 1, \"70\": 1, \"51\": 7, \"47\": 1, \"9\": 1, \"6\": 1}, \"6\": {\"59\": 3, \"6\": 4, \"34\": 2, \"91\": 1, \"94\": 1, \"10\": 1}, \"73\": {\"50\": 2, \"73\": 3, \"17\": 2, \"113\": 1, \"40\": 1, \"64\": 1, \"37\": 2}, \"78\": {\"50\": 1, \"78\": 5, \"110\": 1, \"119\": 1, \"0\": 2, \"11\": 2}, \"92\": {\"104\": 2, \"92\": 6, \"16\": 1, \"32\": 1, \"28\": 1, \"69\": 1}, \"20\": {\"78\": 2, \"103\": 1, \"43\": 1, \"20\": 5, \"80\": 1, \"37\": 1, \"128\": 1}, \"17\": {\"50\": 3, \"17\": 6, \"74\": 1, \"62\": 1, \"82\": 1}, \"74\": {\"17\": 4, \"20\": 1, \"104\": 1, \"114\": 1, \"74\": 2, \"70\": 2, \"45\": 1}, \"19\": {\"50\": 3, \"17\": 1, \"114\": 3, \"93\": 1, \"71\": 2, \"19\": 1, \"8\": 1}, \"50\": {\"50\": 8, \"73\": 1, \"87\": 2, \"11\": 1}, \"34\": {\"78\": 1, \"45\": 1, \"34\": 7, \"13\": 1, \"59\": 2}, \"104\": {\"20\": 1, \"69\": 1, \"109\": 2, \"104\": 1, \"122\": 1, \"92\": 1, \"14\": 1}, \"33\": {\"71\": 1, \"91\": 1, \"118\": 2, \"33\": 1, \"0\": 1, \"62\": 1, \"19\": 1, \"84\": 1, \"43\": 1, \"57\": 1, \"1\": 1}, \"5\": {\"71\": 1, \"33\": 1, \"109\": 1, \"32\": 1, \"107\": 1, \"87\": 1, \"115\": 1, \"108\": 1, \"5\": 2, \"55\": 1, \"83\": 1}, \"7\": {\"7\": 4, \"68\": 2, \"108\": 1, \"43\": 1, \"112\": 1, \"27\": 1, \"0\": 2}, \"29\": {\"91\": 1, \"98\": 2, \"29\": 9}, \"25\": {\"25\": 12}, \"124\": {\"91\": 1, \"33\": 1, \"89\": 1, \"61\": 1, \"128\": 1, \"124\": 3, \"31\": 1, \"121\": 1, \"110\": 1, \"48\": 1}, \"117\": {\"124\": 1, \"117\": 6, \"113\": 1, \"26\": 2, \"81\": 1, \"108\": 1}, \"88\": {\"11\": 2, \"113\": 2, \"88\": 6, \"119\": 2}, \"61\": {\"61\": 8, \"11\": 1, \"65\": 2, \"32\": 1}, \"86\": {\"57\": 1, \"124\": 1, \"0\": 1, \"49\": 1, \"86\": 3, \"100\": 1, \"95\": 2, \"55\": 1, \"37\": 1}, \"116\": {\"96\": 2, \"109\": 2, \"126\": 2, \"122\": 1, \"116\": 1, \"86\": 1, \"56\": 1, \"120\": 1, \"123\": 1}, \"24\": {\"24\": 4, \"36\": 3, \"111\": 1, \"54\": 2, \"99\": 1, \"25\": 1}, \"128\": {\"128\": 2, \"127\": 1, \"78\": 1, \"21\": 1, \"105\": 1, \"20\": 2, \"83\": 2, \"95\": 1, \"57\": 1}, \"101\": {\"127\": 3, \"128\": 1, \"50\": 1, \"101\": 3, \"99\": 1, \"84\": 1, \"105\": 1, \"53\": 1}, \"65\": {\"128\": 2, \"65\": 6, \"0\": 1, \"57\": 1}, \"36\": {\"24\": 1, \"10\": 1, \"25\": 2, \"36\": 6, \"53\": 1, \"51\": 1}, \"21\": {\"21\": 8, \"99\": 2, \"23\": 2}, \"106\": {\"128\": 1, \"106\": 7, \"32\": 1, \"41\": 1, \"112\": 2}, \"118\": {\"78\": 1, \"2\": 1, \"88\": 1, \"117\": 1, \"118\": 3, \"87\": 1, \"46\": 1, \"60\": 1, \"109\": 1, \"11\": 1}, \"113\": {\"113\": 6, \"73\": 1, \"44\": 1, \"118\": 1, \"37\": 2, \"88\": 1}, \"40\": {\"1\": 1, \"40\": 4, \"84\": 1, \"120\": 1, \"73\": 1, \"55\": 1, \"122\": 2, \"69\": 1}, \"93\": {\"40\": 1, \"1\": 1, \"93\": 2, \"110\": 1, \"109\": 1, \"108\": 1, \"50\": 1}, \"94\": {\"94\": 6, \"34\": 1, \"36\": 1, \"6\": 3, \"58\": 1}, \"103\": {\"64\": 2, \"77\": 2, \"49\": 1, \"112\": 1, \"27\": 1, \"105\": 1, \"50\": 2, \"54\": 1, \"3\": 1}, \"110\": {\"88\": 2, \"71\": 1, \"76\": 1, \"115\": 2, \"109\": 1, \"108\": 1, \"64\": 1, \"17\": 1, \"110\": 1, \"57\": 1}, \"56\": {\"42\": 1, \"56\": 4, \"29\": 1, \"122\": 1, \"50\": 1, \"112\": 1, \"7\": 1, \"64\": 1, \"116\": 1}, \"39\": {\"119\": 2, \"78\": 1, \"39\": 2, \"43\": 3, \"102\": 1, \"21\": 2, \"26\": 1}, \"109\": {\"119\": 1, \"0\": 1, \"108\": 1, \"40\": 1, \"32\": 1, \"109\": 2, \"60\": 2, \"11\": 1, \"50\": 1, \"14\": 1}, \"67\": {\"17\": 2, \"67\": 4, \"76\": 1, \"20\": 1, \"39\": 1, \"88\": 1, \"63\": 1, \"73\": 1}, \"129\": {\"114\": 2, \"105\": 2, \"32\": 1, \"109\": 1, \"113\": 2, \"69\": 1, \"120\": 1, \"14\": 1, \"50\": 1}, \"30\": {\"30\": 7, \"111\": 1, \"23\": 1, \"112\": 1, \"77\": 1, \"15\": 1}, \"126\": {\"126\": 1, \"44\": 1, \"18\": 1, \"32\": 2, \"65\": 1, \"37\": 2, \"50\": 2, \"26\": 1, \"119\": 1}, \"87\": {\"21\": 1, \"50\": 2, \"115\": 1, \"119\": 1, \"32\": 1, \"87\": 1, \"71\": 1, \"0\": 1, \"37\": 1, \"1\": 1, \"99\": 1}, \"112\": {\"101\": 1, \"112\": 6, \"106\": 1, \"114\": 1, \"41\": 2, \"44\": 1}, \"100\": {\"112\": 2, \"100\": 2, \"101\": 1, \"99\": 1, \"43\": 1, \"37\": 1, \"5\": 1, \"95\": 1, \"7\": 2}, \"79\": {\"79\": 6, \"76\": 1, \"116\": 1, \"60\": 1, \"22\": 1}, \"81\": {\"113\": 1, \"81\": 5, \"99\": 1, \"39\": 1, \"67\": 1, \"80\": 2, \"64\": 1}, \"76\": {\"112\": 1, \"76\": 5, \"38\": 1, \"20\": 1, \"1\": 1, \"45\": 1}, \"47\": {\"47\": 8, \"21\": 1, \"52\": 2, \"106\": 1}, \"77\": {\"77\": 8, \"49\": 1, \"41\": 2, \"106\": 1}, \"23\": {\"23\": 2, \"0\": 3, \"41\": 1, \"108\": 1, \"32\": 2, \"128\": 1, \"77\": 1, \"87\": 1}, \"18\": {\"18\": 11, \"102\": 1}, \"49\": {\"18\": 1, \"0\": 1, \"41\": 1, \"7\": 1, \"43\": 1, \"49\": 1, \"105\": 2, \"87\": 1, \"86\": 1, \"127\": 1, \"53\": 1}, \"41\": {\"99\": 1, \"41\": 4, \"23\": 2, \"125\": 1, \"112\": 1, \"12\": 1, \"111\": 1, \"0\": 1}, \"32\": {\"87\": 1, \"119\": 3, \"32\": 4, \"72\": 2, \"78\": 2}, \"107\": {\"105\": 1, \"102\": 1, \"87\": 1, \"107\": 4, \"84\": 2, \"17\": 1}, \"80\": {\"43\": 1, \"18\": 1, \"80\": 6, \"109\": 1, \"37\": 2, \"63\": 1}, \"105\": {\"105\": 3, \"87\": 2, \"115\": 1, \"114\": 2, \"113\": 2}, \"38\": {\"80\": 2, \"32\": 2, \"38\": 6}}, \"W_A_1\": {\"108\": {\"23\": 4, \"78\": 1, \"108\": 2, \"44\": 2, \"98\": 1}, \"40\": {\"40\": 4, \"5\": 1, \"33\": 2, \"19\": 2, \"114\": 2, \"105\": 1}, \"68\": {\"68\": 7, \"4\": 1, \"31\": 1, \"41\": 1, \"0\": 1, \"101\": 1}, \"23\": {\"108\": 1, \"23\": 6, \"85\": 1, \"78\": 1, \"21\": 1, \"127\": 2}, \"26\": {\"23\": 1, \"26\": 9, \"102\": 2}, \"64\": {\"23\": 2, \"114\": 1, \"64\": 3, \"44\": 1, \"110\": 1, \"80\": 1, \"93\": 1, \"11\": 2}, \"22\": {\"89\": 1, \"79\": 1, \"104\": 1, \"22\": 3, \"19\": 1, \"50\": 1, \"45\": 2, \"72\": 2}, \"3\": {\"57\": 1, \"23\": 1, \"3\": 2, \"19\": 1, \"122\": 2, \"5\": 1, \"93\": 1, \"2\": 1, \"114\": 1, \"105\": 1}, \"4\": {\"57\": 2, \"91\": 1, \"4\": 4, \"101\": 2, \"115\": 1, \"114\": 1, \"11\": 1}, \"70\": {\"23\": 1, \"68\": 1, \"63\": 1, \"70\": 3, \"49\": 1, \"72\": 1, \"21\": 2, \"45\": 1, \"85\": 1}, \"57\": {\"57\": 7, \"23\": 1, \"122\": 1, \"115\": 1, \"105\": 1, \"72\": 1}, \"79\": {\"89\": 1, \"79\": 7, \"116\": 1, \"120\": 1, \"124\": 2}, \"9\": {\"110\": 1, \"64\": 1, \"22\": 1, \"19\": 1, \"0\": 1, \"74\": 1, \"72\": 1, \"85\": 1, \"77\": 1, \"43\": 1, \"124\": 1, \"31\": 1}, \"89\": {\"9\": 1, \"4\": 1, \"7\": 1, \"85\": 1, \"89\": 4, \"101\": 1, \"64\": 1, \"127\": 1, \"32\": 1}, \"110\": {\"110\": 10, \"93\": 2}, \"102\": {\"26\": 2, \"117\": 1, \"62\": 1, \"33\": 1, \"102\": 2, \"39\": 1, \"32\": 1, \"16\": 1, \"14\": 2}, \"31\": {\"58\": 2, \"109\": 1, \"31\": 7, \"68\": 1, \"41\": 1}, \"58\": {\"58\": 7, \"31\": 1, \"127\": 1, \"29\": 1, \"111\": 1, \"41\": 1}, \"47\": {\"57\": 1, \"47\": 7, \"91\": 2, \"129\": 1, \"54\": 1}, \"24\": {\"52\": 2, \"17\": 2, \"24\": 4, \"59\": 1, \"46\": 1, \"41\": 1, \"31\": 1}, \"19\": {\"19\": 5, \"57\": 1, \"50\": 1, \"3\": 1, \"32\": 1, \"129\": 1, \"5\": 2}, \"11\": {\"109\": 2, \"11\": 3, \"44\": 1, \"84\": 2, \"45\": 2, \"23\": 2}, \"52\": {\"52\": 10, \"49\": 1, \"31\": 1}, \"17\": {\"57\": 1, \"17\": 5, \"43\": 1, \"50\": 2, \"67\": 1, \"85\": 1, \"5\": 1}, \"25\": {\"25\": 5, \"57\": 1, \"8\": 1, \"19\": 1, \"76\": 1, \"48\": 1, \"107\": 1, \"128\": 1}, \"69\": {\"69\": 5, \"118\": 2, \"129\": 1, \"13\": 1, \"67\": 1, \"102\": 1, \"1\": 1}, \"96\": {\"25\": 1, \"109\": 1, \"96\": 2, \"49\": 1, \"72\": 2, \"24\": 1, \"35\": 1, \"44\": 1, \"79\": 1, \"61\": 1}, \"109\": {\"109\": 7, \"61\": 1, \"76\": 2, \"7\": 2}, \"115\": {\"96\": 1, \"19\": 1, \"115\": 9, \"32\": 1}, \"83\": {\"57\": 1, \"47\": 1, \"42\": 2, \"83\": 3, \"75\": 1, \"4\": 1, \"7\": 1, \"1\": 1, \"104\": 1}, \"84\": {\"84\": 2, \"65\": 1, \"11\": 1, \"72\": 1, \"4\": 2, \"1\": 1, \"5\": 2, \"74\": 2}, \"119\": {\"119\": 8, \"2\": 1, \"78\": 1}, \"122\": {\"122\": 2, \"84\": 1, \"100\": 1, \"113\": 1, \"105\": 1, \"10\": 1, \"82\": 1, \"14\": 1, \"104\": 1}, \"99\": {\"99\": 9, \"74\": 1, \"119\": 1, \"107\": 1}, \"1\": {\"122\": 1, \"84\": 1, \"19\": 1, \"1\": 2, \"5\": 2, \"107\": 1, \"25\": 1, \"4\": 2, \"62\": 1}, \"74\": {\"74\": 9, \"7\": 1, \"20\": 1, \"48\": 1}, \"85\": {\"127\": 2, \"31\": 1, \"32\": 2, \"85\": 4, \"86\": 1, \"72\": 1, \"49\": 1}, \"127\": {\"85\": 2, \"58\": 2, \"127\": 8}, \"111\": {\"111\": 4, \"85\": 1, \"75\": 1, \"127\": 3, \"15\": 1, \"29\": 1, \"41\": 1}, \"53\": {\"53\": 10, \"6\": 1, \"15\": 1}, \"88\": {\"53\": 1, \"111\": 1, \"36\": 4, \"88\": 2, \"3\": 1, \"98\": 1, \"108\": 1, \"127\": 1}, \"65\": {\"119\": 1, \"65\": 1, \"115\": 1, \"76\": 1, \"114\": 2, \"50\": 1, \"90\": 1, \"122\": 1, \"104\": 1}, \"7\": {\"127\": 1, \"23\": 1, \"70\": 2, \"32\": 2, \"21\": 1, \"7\": 3, \"106\": 1, \"104\": 1}, \"16\": {\"16\": 9, \"10\": 1, \"18\": 1, \"102\": 1}, \"128\": {\"0\": 1, \"73\": 1, \"61\": 3, \"5\": 1, \"101\": 1, \"128\": 1, \"8\": 4}, \"34\": {\"92\": 2, \"17\": 1, \"34\": 3, \"100\": 1, \"113\": 1, \"81\": 1, \"71\": 1, \"76\": 1, \"89\": 1}, \"129\": {\"43\": 1, \"129\": 2, \"14\": 2, \"5\": 1, \"114\": 2, \"80\": 1, \"33\": 2, \"63\": 1}, \"43\": {\"114\": 1, \"129\": 1, \"33\": 2, \"107\": 1, \"55\": 1, \"43\": 2, \"61\": 1, \"128\": 1, \"78\": 2}, \"92\": {\"92\": 11, \"27\": 1}, \"28\": {\"73\": 1, \"28\": 6, \"93\": 2, \"87\": 1, \"44\": 1, \"57\": 1}, \"27\": {\"53\": 2, \"27\": 2, \"101\": 1, \"59\": 2, \"71\": 1, \"52\": 1, \"49\": 1, \"6\": 1, \"37\": 1}, \"114\": {\"129\": 1, \"43\": 1, \"114\": 5, \"74\": 1, \"110\": 1, \"33\": 1, \"105\": 1, \"40\": 1}, \"73\": {\"129\": 1, \"114\": 1, \"3\": 1, \"67\": 1, \"40\": 1, \"55\": 1, \"72\": 1, \"39\": 1, \"74\": 1, \"73\": 1, \"43\": 2}, \"0\": {\"73\": 1, \"41\": 1, \"74\": 3, \"0\": 1, \"68\": 1, \"20\": 1, \"77\": 1, \"128\": 1, \"1\": 1, \"109\": 1}, \"104\": {\"73\": 2, \"104\": 5, \"5\": 1, \"45\": 1, \"106\": 1, \"109\": 1, \"86\": 1}, \"118\": {\"118\": 9, \"69\": 1, \"39\": 1, \"82\": 1}, \"41\": {\"41\": 5, \"73\": 1, \"7\": 1, \"55\": 2, \"96\": 1, \"31\": 1, \"0\": 1}, \"49\": {\"86\": 1, \"49\": 3, \"41\": 1, \"91\": 1, \"72\": 1, \"85\": 1, \"9\": 1, \"127\": 2, \"126\": 1}, \"14\": {\"33\": 3, \"14\": 6, \"82\": 1, \"2\": 1, \"74\": 1}, \"46\": {\"23\": 1, \"33\": 1, \"73\": 1, \"46\": 1, \"8\": 1, \"98\": 1, \"25\": 1, \"125\": 1, \"22\": 1, \"72\": 1, \"1\": 1, \"62\": 1}, \"33\": {\"33\": 8, \"82\": 2, \"43\": 1, \"114\": 1}, \"76\": {\"23\": 2, \"109\": 2, \"63\": 2, \"61\": 1, \"76\": 3, \"5\": 1, \"72\": 1}, \"125\": {\"92\": 1, \"125\": 9, \"51\": 2}, \"86\": {\"86\": 3, \"23\": 1, \"7\": 1, \"41\": 1, \"77\": 1, \"11\": 1, \"31\": 2}, \"66\": {\"23\": 2, \"99\": 2, \"80\": 1, \"61\": 1, \"90\": 1, \"2\": 1, \"82\": 1, \"66\": 1, \"44\": 1, \"51\": 1}, \"5\": {\"5\": 7, \"40\": 2, \"105\": 2, \"114\": 1}, \"117\": {\"18\": 2, \"118\": 3, \"117\": 6, \"32\": 1}, \"75\": {\"19\": 1, \"75\": 9, \"91\": 1, \"108\": 1}, \"61\": {\"61\": 12}, \"50\": {\"50\": 4, \"45\": 1, \"109\": 1, \"1\": 1, \"7\": 2, \"23\": 1, \"11\": 1, \"43\": 1}, \"67\": {\"18\": 1, \"67\": 5, \"55\": 1, \"82\": 1, \"80\": 1, \"62\": 1}, \"18\": {\"18\": 4, \"13\": 2, \"87\": 1, \"117\": 1, \"69\": 1, \"33\": 1, \"16\": 1, \"21\": 1}, \"98\": {\"98\": 6, \"24\": 1, \"77\": 2, \"108\": 1, \"75\": 1, \"52\": 1}, \"55\": {\"55\": 3, \"40\": 1, \"107\": 1, \"19\": 2, \"5\": 2, \"67\": 1}, \"32\": {\"73\": 1, \"32\": 4, \"101\": 2, \"126\": 1, \"19\": 1, \"115\": 2, \"5\": 1}, \"120\": {\"50\": 2, \"122\": 1, \"95\": 2, \"120\": 3, \"62\": 1, \"110\": 2, \"23\": 1}, \"97\": {\"97\": 7, \"46\": 1, \"77\": 1, \"112\": 1, \"91\": 1, \"12\": 1}, \"126\": {\"109\": 2, \"115\": 1, \"120\": 1, \"61\": 1, \"101\": 1, \"126\": 3, \"21\": 1, \"73\": 1, \"113\": 1}, \"45\": {\"109\": 2, \"95\": 1, \"57\": 1, \"105\": 1, \"45\": 2, \"118\": 2, \"11\": 1, \"23\": 1, \"78\": 1}, \"78\": {\"65\": 1, \"63\": 1, \"107\": 1, \"43\": 1, \"113\": 1, \"18\": 1, \"108\": 1, \"23\": 1, \"50\": 1, \"78\": 1}, \"100\": {\"100\": 6, \"19\": 1, \"1\": 1, \"26\": 1, \"16\": 1, \"84\": 2}, \"107\": {\"65\": 2, \"107\": 6, \"10\": 1, \"1\": 1, \"57\": 1, \"17\": 1}, \"93\": {\"76\": 1, \"93\": 4, \"29\": 1, \"107\": 1, \"2\": 2, \"39\": 1, \"55\": 1, \"80\": 1}, \"77\": {\"77\": 8, \"127\": 1, \"110\": 1, \"128\": 1, \"86\": 1}, \"63\": {\"3\": 1, \"107\": 1, \"118\": 1, \"72\": 1, \"63\": 2, \"74\": 1, \"110\": 1, \"1\": 1, \"69\": 1, \"70\": 2}, \"112\": {\"112\": 7, \"97\": 1, \"15\": 1, \"71\": 2, \"56\": 1}, \"113\": {\"113\": 9, \"81\": 1, \"11\": 1, \"26\": 1}, \"103\": {\"85\": 2, \"77\": 1, \"122\": 1, \"106\": 2, \"31\": 1, \"103\": 1, \"65\": 1, \"52\": 1}, \"71\": {\"30\": 1, \"71\": 7, \"37\": 1, \"59\": 1, \"27\": 2}, \"30\": {\"30\": 2, \"37\": 2, \"31\": 1, \"59\": 1, \"52\": 1, \"6\": 1, \"127\": 1, \"94\": 1, \"86\": 2}, \"90\": {\"90\": 8, \"60\": 2, \"95\": 1, \"81\": 1}, \"37\": {\"92\": 1, \"37\": 9, \"15\": 2}, \"60\": {\"60\": 6, \"114\": 1, \"96\": 1, \"49\": 1, \"45\": 1, \"90\": 1, \"1\": 1}, \"15\": {\"15\": 6, \"86\": 1, \"0\": 2, \"111\": 1, \"27\": 1, \"51\": 1}, \"39\": {\"39\": 5, \"63\": 1, \"81\": 1, \"42\": 1, \"87\": 1, \"118\": 1, \"93\": 1, \"16\": 1}, \"72\": {\"72\": 5, \"19\": 2, \"106\": 1, \"115\": 1, \"73\": 1, \"67\": 1, \"55\": 1}, \"54\": {\"86\": 1, \"72\": 1, \"93\": 1, \"29\": 1, \"0\": 1, \"54\": 5, \"78\": 1, \"90\": 1}, \"35\": {\"35\": 1, \"60\": 1, \"87\": 1, \"91\": 5, \"21\": 1, \"75\": 2, \"20\": 1}, \"2\": {\"2\": 7, \"44\": 1, \"120\": 1, \"11\": 1, \"57\": 2}, \"94\": {\"15\": 2, \"71\": 1, \"94\": 6, \"6\": 1, \"59\": 1, \"109\": 1}, \"42\": {\"87\": 1, \"42\": 5, \"25\": 1, \"19\": 2, \"39\": 1, \"45\": 1, \"82\": 1}, \"81\": {\"81\": 7, \"100\": 2, \"39\": 1, \"62\": 1, \"104\": 1}, \"8\": {\"8\": 4, \"21\": 1, \"18\": 2, \"93\": 2, \"61\": 2, \"69\": 1}, \"87\": {\"74\": 2, \"19\": 4, \"10\": 1, \"62\": 1, \"115\": 2, \"14\": 1, \"87\": 1}, \"6\": {\"15\": 1, \"94\": 2, \"97\": 1, \"6\": 4, \"112\": 1, \"59\": 2, \"37\": 1}, \"36\": {\"6\": 2, \"36\": 9, \"94\": 1}, \"91\": {\"91\": 3, \"72\": 1, \"75\": 1, \"94\": 1, \"106\": 1, \"85\": 2, \"15\": 1, \"68\": 1, \"12\": 1}, \"56\": {\"91\": 1, \"56\": 7, \"77\": 1, \"58\": 1, \"93\": 1, \"85\": 1}, \"80\": {\"19\": 2, \"5\": 1, \"105\": 1, \"101\": 1, \"106\": 1, \"80\": 2, \"69\": 1, \"112\": 1, \"55\": 1, \"67\": 1}, \"124\": {\"119\": 1, \"110\": 1, \"1\": 1, \"101\": 1, \"80\": 1, \"38\": 1, \"124\": 1, \"33\": 1, \"14\": 1, \"31\": 1}, \"44\": {\"44\": 12}, \"13\": {\"13\": 5, \"43\": 2, \"102\": 1, \"96\": 1, \"14\": 1, \"81\": 1, \"67\": 1}, \"10\": {\"77\": 1, \"10\": 5, \"21\": 4, \"8\": 1, \"61\": 1}, \"59\": {\"59\": 9, \"120\": 1, \"82\": 1, \"51\": 1}, \"95\": {\"95\": 7, \"62\": 1, \"101\": 1, \"21\": 1, \"7\": 1, \"99\": 1}, \"105\": {\"122\": 1, \"10\": 1, \"5\": 1, \"105\": 3, \"66\": 1, \"40\": 1, \"72\": 1, \"93\": 1, \"129\": 2}, \"101\": {\"5\": 2, \"101\": 4, \"4\": 1, \"93\": 2, \"128\": 2, \"74\": 1}, \"20\": {\"5\": 2, \"20\": 8, \"105\": 2}, \"48\": {\"84\": 1, \"72\": 1, \"128\": 2, \"93\": 2, \"48\": 2, \"74\": 1, \"20\": 1, \"123\": 1, \"44\": 1}, \"106\": {\"84\": 1, \"106\": 5, \"10\": 1, \"103\": 1, \"41\": 1, \"107\": 1, \"54\": 1, \"4\": 1}, \"51\": {\"51\": 10, \"125\": 2}, \"21\": {\"84\": 2, \"21\": 5, \"0\": 1, \"78\": 1, \"112\": 1, \"7\": 1, \"106\": 1}, \"123\": {\"123\": 6, \"48\": 1, \"120\": 1, \"78\": 1, \"69\": 1, \"66\": 1, \"96\": 1}, \"121\": {\"121\": 10, \"116\": 2}, \"38\": {\"38\": 6, \"21\": 1, \"93\": 1, \"90\": 1, \"29\": 1, \"70\": 1, \"79\": 1}, \"62\": {\"62\": 8, \"33\": 1, \"2\": 1, \"7\": 1, \"43\": 1}, \"29\": {\"29\": 10, \"54\": 1, \"85\": 1}, \"82\": {\"18\": 1, \"33\": 2, \"8\": 2, \"82\": 7}, \"116\": {\"116\": 5, \"121\": 1, \"29\": 1, \"101\": 1, \"62\": 1, \"108\": 1, \"119\": 2}, \"12\": {\"12\": 4, \"97\": 1, \"111\": 1, \"127\": 1, \"91\": 1}}, \"W_A_2\": {\"91\": {\"101\": 2, \"91\": 2, \"37\": 1, \"3\": 1, \"41\": 1, \"29\": 1, \"114\": 1, \"79\": 1, \"71\": 1, \"53\": 1}, \"12\": {\"110\": 1, \"86\": 1, \"85\": 2, \"10\": 1, \"12\": 1, \"38\": 1, \"0\": 2, \"7\": 1, \"101\": 1, \"68\": 1}, \"101\": {\"97\": 2, \"91\": 1, \"101\": 4, \"0\": 1, \"34\": 1, \"49\": 1}, \"121\": {\"121\": 5, \"53\": 1, \"89\": 1, \"23\": 1, \"47\": 1, \"85\": 1, \"90\": 1, \"100\": 1}, \"118\": {\"88\": 1, \"118\": 3, \"4\": 2, \"10\": 1, \"85\": 1, \"32\": 1, \"46\": 1, \"21\": 1, \"39\": 1}, \"10\": {\"88\": 2, \"10\": 10}, \"117\": {\"117\": 9, \"57\": 2, \"76\": 1}, \"110\": {\"110\": 7, \"106\": 1, \"85\": 2, \"73\": 1, \"93\": 1}, \"97\": {\"97\": 5, \"88\": 1, \"54\": 3, \"11\": 1, \"43\": 1, \"49\": 1}, \"28\": {\"88\": 1, \"28\": 2, \"67\": 2, \"25\": 2, \"45\": 1, \"8\": 1, \"110\": 1, \"73\": 1, \"23\": 1}, \"88\": {\"88\": 4, \"8\": 2, \"109\": 2, \"119\": 2, \"21\": 2}, \"17\": {\"110\": 1, \"33\": 1, \"10\": 1, \"64\": 1, \"85\": 2, \"17\": 5, \"62\": 1}, \"126\": {\"88\": 2, \"119\": 1, \"126\": 1, \"38\": 2, \"48\": 1, \"82\": 1, \"8\": 1, \"65\": 1, \"21\": 2}, \"33\": {\"118\": 1, \"110\": 1, \"33\": 7, \"73\": 1, \"37\": 2}, \"86\": {\"118\": 1, \"33\": 1, \"86\": 5, \"55\": 1, \"43\": 1, \"74\": 1, \"16\": 1, \"71\": 1}, \"106\": {\"106\": 6, \"97\": 1, \"11\": 1, \"25\": 1, \"91\": 1, \"3\": 1, \"15\": 1}, \"54\": {\"4\": 1, \"54\": 7, \"77\": 2, \"52\": 1, \"122\": 1}, \"125\": {\"125\": 8, \"9\": 1, \"51\": 1, \"36\": 2}, \"83\": {\"83\": 5, \"61\": 1, \"74\": 1, \"96\": 1, \"22\": 1, \"57\": 1, \"10\": 1, \"60\": 1}, \"98\": {\"106\": 1, \"15\": 1, \"98\": 10}, \"11\": {\"54\": 1, \"11\": 3, \"24\": 1, \"42\": 1, \"0\": 1, \"49\": 1, \"114\": 1, \"2\": 1, \"71\": 1, \"98\": 1}, \"32\": {\"61\": 1, \"32\": 5, \"95\": 1, \"5\": 1, \"17\": 2, \"21\": 1, \"100\": 1}, \"42\": {\"4\": 2, \"43\": 2, \"44\": 1, \"23\": 1, \"70\": 1, \"109\": 1, \"38\": 2, \"115\": 1, \"53\": 1}, \"103\": {\"54\": 1, \"4\": 1, \"46\": 1, \"127\": 1, \"103\": 5, \"41\": 1, \"52\": 1, \"73\": 1}, \"87\": {\"61\": 1, \"32\": 2, \"84\": 1, \"8\": 1, \"109\": 2, \"119\": 2, \"70\": 1, \"57\": 1, \"21\": 1}, \"61\": {\"61\": 4, \"4\": 1, \"53\": 1, \"1\": 1, \"8\": 1, \"21\": 2, \"105\": 1, \"24\": 1}, \"13\": {\"13\": 3, \"4\": 1, \"84\": 1, \"16\": 1, \"44\": 2, \"119\": 1, \"48\": 1, \"72\": 2}, \"4\": {\"4\": 3, \"85\": 4, \"67\": 2, \"62\": 1, \"78\": 1, \"105\": 1}, \"15\": {\"106\": 2, \"15\": 7, \"77\": 1}, \"120\": {\"53\": 1, \"72\": 1, \"120\": 6, \"8\": 3, \"63\": 1}, \"80\": {\"110\": 1, \"80\": 7, \"46\": 1, \"67\": 1, \"57\": 1, \"105\": 1}, \"72\": {\"110\": 1, \"80\": 1, \"104\": 1, \"57\": 4, \"70\": 1, \"100\": 1, \"73\": 1}, \"64\": {\"76\": 1, \"64\": 4, \"100\": 1, \"44\": 1, \"45\": 2, \"17\": 1, \"81\": 1, \"37\": 1}, \"81\": {\"102\": 2, \"81\": 8, \"69\": 1, \"2\": 1}, \"102\": {\"102\": 12}, \"76\": {\"53\": 1, \"76\": 5, \"66\": 1, \"109\": 1, \"45\": 3, \"8\": 1}, \"49\": {\"49\": 3, \"52\": 1, \"114\": 1, \"11\": 1, \"101\": 2, \"97\": 1, \"21\": 1}, \"129\": {\"110\": 3, \"62\": 1, \"107\": 1, \"1\": 1, \"17\": 1, \"115\": 1, \"50\": 1, \"14\": 1, \"74\": 2}, \"89\": {\"89\": 3, \"13\": 1, \"45\": 1, \"53\": 1, \"93\": 1, \"69\": 1, \"95\": 1, \"64\": 1, \"47\": 1, \"55\": 1}, \"52\": {\"49\": 1, \"53\": 1, \"74\": 1, \"61\": 1, \"52\": 3, \"38\": 1, \"42\": 1, \"85\": 1, \"21\": 1, \"111\": 1}, \"35\": {\"35\": 8, \"15\": 1, \"79\": 1, \"24\": 1, \"34\": 1}, \"53\": {\"53\": 10, \"60\": 1, \"58\": 1}, \"112\": {\"64\": 1, \"54\": 1, \"44\": 1, \"43\": 1, \"112\": 1, \"32\": 1, \"38\": 2, \"70\": 1, \"37\": 1, \"31\": 1, \"52\": 1}, \"105\": {\"17\": 2, \"105\": 2, \"95\": 1, \"122\": 2, \"115\": 2, \"4\": 1, \"84\": 1, \"62\": 1}, \"100\": {\"64\": 1, \"17\": 1, \"73\": 3, \"95\": 1, \"55\": 1, \"63\": 1, \"100\": 3, \"32\": 1}, \"9\": {\"9\": 9, \"94\": 1, \"125\": 2}, \"82\": {\"69\": 2, \"50\": 1, \"82\": 6, \"107\": 1, \"81\": 1, \"95\": 1}, \"51\": {\"51\": 10, \"125\": 1, \"127\": 1}, \"21\": {\"21\": 12}, \"92\": {\"100\": 1, \"21\": 1, \"45\": 1, \"113\": 1, \"32\": 2, \"92\": 3, \"85\": 2, \"72\": 1}, \"69\": {\"69\": 4, \"17\": 1, \"119\": 1, \"40\": 1, \"2\": 2, \"14\": 2, \"13\": 1}, \"77\": {\"54\": 1, \"112\": 1, \"77\": 6, \"71\": 1, \"127\": 1, \"42\": 1, \"12\": 1}, \"50\": {\"84\": 1, \"8\": 1, \"73\": 1, \"107\": 1, \"50\": 3, \"14\": 1, \"74\": 1, \"17\": 2, \"69\": 1}, \"36\": {\"36\": 10, \"24\": 1, \"0\": 1}, \"16\": {\"84\": 1, \"8\": 2, \"44\": 1, \"16\": 3, \"2\": 2, \"78\": 1, \"102\": 2}, \"8\": {\"88\": 1, \"46\": 1, \"8\": 8, \"67\": 1, \"114\": 1}, \"127\": {\"46\": 1, \"103\": 1, \"59\": 2, \"127\": 5, \"108\": 1, \"7\": 1, \"110\": 1}, \"46\": {\"46\": 3, \"63\": 1, \"40\": 1, \"37\": 2, \"32\": 1, \"100\": 1, \"118\": 1}, \"84\": {\"50\": 1, \"84\": 3, \"122\": 2, \"100\": 1, \"80\": 1, \"53\": 1, \"118\": 1, \"37\": 1, \"85\": 1}, \"18\": {\"18\": 6, \"13\": 1, \"113\": 2, \"2\": 2, \"57\": 1}, \"123\": {\"123\": 2, \"46\": 1, \"62\": 1, \"109\": 1, \"77\": 1, \"3\": 1, \"118\": 1, \"113\": 1, \"122\": 1}, \"56\": {\"109\": 1, \"33\": 1, \"28\": 1, \"56\": 2, \"60\": 3, \"21\": 1, \"52\": 1, \"118\": 1, \"15\": 1}, \"26\": {\"26\": 9, \"95\": 1, \"55\": 1, \"13\": 1}, \"14\": {\"109\": 1, \"14\": 2, \"72\": 1, \"107\": 1, \"39\": 1, \"50\": 1, \"69\": 2, \"37\": 1, \"43\": 1, \"105\": 1}, \"109\": {\"109\": 5, \"119\": 1, \"85\": 1, \"63\": 2, \"8\": 1, \"78\": 2}, \"66\": {\"33\": 2, \"66\": 2, \"86\": 1, \"52\": 2, \"22\": 1, \"104\": 1, \"110\": 1, \"45\": 1, \"103\": 1}, \"24\": {\"88\": 1, \"109\": 1, \"75\": 1, \"10\": 1, \"8\": 2, \"9\": 1, \"78\": 1, \"63\": 2, \"24\": 2}, \"71\": {\"109\": 1, \"71\": 4, \"19\": 2, \"77\": 1, \"68\": 1, \"59\": 2, \"122\": 1}, \"65\": {\"33\": 1, \"65\": 3, \"85\": 1, \"25\": 1, \"32\": 1, \"82\": 1, \"102\": 1, \"51\": 1, \"80\": 1, \"83\": 1}, \"75\": {\"24\": 3, \"75\": 7, \"11\": 1, \"21\": 1}, \"111\": {\"71\": 1, \"111\": 4, \"0\": 1, \"91\": 1, \"29\": 1, \"97\": 1, \"127\": 1, \"128\": 1, \"52\": 1}, \"30\": {\"30\": 5, \"59\": 1, \"77\": 1, \"71\": 1, \"97\": 2, \"53\": 1, \"91\": 1}, \"85\": {\"10\": 1, \"85\": 7, \"119\": 1, \"74\": 1, \"84\": 1, \"37\": 1}, \"113\": {\"113\": 6, \"39\": 2, \"118\": 1, \"21\": 1}, \"45\": {\"110\": 1, \"45\": 3, \"13\": 1, \"93\": 1, \"129\": 1, \"28\": 1, \"14\": 1, \"86\": 1, \"37\": 1, \"66\": 1}, \"29\": {\"29\": 8, \"12\": 1, \"3\": 1, \"7\": 1, \"21\": 1}, \"20\": {\"20\": 6, \"43\": 1, \"8\": 1, \"119\": 1, \"88\": 1, \"21\": 2}, \"25\": {\"25\": 9, \"6\": 1, \"75\": 2}, \"0\": {\"12\": 3, \"38\": 1, \"0\": 4, \"3\": 1, \"79\": 2, \"44\": 1}, \"68\": {\"85\": 2, \"68\": 5, \"84\": 2, \"107\": 1, \"52\": 1, \"110\": 1}, \"119\": {\"38\": 1, \"119\": 11}, \"90\": {\"90\": 7, \"63\": 1, \"43\": 1, \"76\": 1, \"66\": 1, \"126\": 1}, \"38\": {\"38\": 5, \"85\": 1, \"21\": 2, \"37\": 2, \"10\": 2}, \"99\": {\"126\": 1, \"119\": 1, \"116\": 1, \"99\": 4, \"32\": 2, \"121\": 1, \"96\": 1, \"70\": 1}, \"1\": {\"1\": 4, \"17\": 1, \"115\": 2, \"70\": 2, \"55\": 1, \"16\": 1, \"14\": 1}, \"67\": {\"67\": 8, \"38\": 1, \"125\": 1, \"109\": 1, \"75\": 1}, \"63\": {\"63\": 6, \"32\": 1, \"44\": 1, \"122\": 1, \"78\": 1, \"1\": 1, \"37\": 1}, \"34\": {\"34\": 5, \"32\": 1, \"59\": 1, \"114\": 1, \"77\": 1, \"91\": 1, \"38\": 1, \"64\": 1}, \"108\": {\"63\": 1, \"108\": 3, \"127\": 1, \"44\": 1, \"60\": 1, \"8\": 2, \"109\": 1, \"53\": 1, \"128\": 1}, \"40\": {\"67\": 2, \"16\": 1, \"62\": 1, \"40\": 4, \"1\": 2, \"72\": 1, \"32\": 1}, \"47\": {\"90\": 3, \"51\": 1, \"92\": 1, \"22\": 2, \"47\": 2, \"121\": 1, \"124\": 1, \"89\": 1}, \"37\": {\"37\": 6, \"105\": 2, \"62\": 1, \"53\": 1, \"33\": 2}, \"78\": {\"43\": 2, \"21\": 1, \"95\": 1, \"78\": 5, \"119\": 1, \"50\": 1, \"17\": 1}, \"96\": {\"47\": 2, \"39\": 1, \"96\": 3, \"104\": 1, \"116\": 2, \"8\": 1, \"64\": 1, \"10\": 1}, \"43\": {\"37\": 1, \"21\": 1, \"8\": 3, \"44\": 2, \"43\": 2, \"109\": 2, \"33\": 1}, \"5\": {\"43\": 2, \"5\": 2, \"114\": 1, \"62\": 1, \"86\": 1, \"74\": 1, \"122\": 1, \"32\": 1}, \"124\": {\"5\": 1, \"44\": 1, \"112\": 1, \"124\": 3, \"68\": 1, \"117\": 1, \"41\": 1, \"34\": 1, \"110\": 1, \"47\": 1}, \"44\": {\"8\": 1, \"43\": 1, \"44\": 4, \"105\": 1, \"38\": 2, \"61\": 1, \"37\": 1, \"10\": 1}, \"41\": {\"11\": 1, \"41\": 8, \"112\": 1, \"54\": 1, \"8\": 1}, \"116\": {\"44\": 2, \"34\": 1, \"116\": 1, \"124\": 1, \"122\": 1, \"8\": 2, \"37\": 1, \"22\": 1, \"99\": 1, \"28\": 1}, \"19\": {\"19\": 3, \"112\": 1, \"55\": 1, \"84\": 1, \"93\": 2, \"63\": 1, \"1\": 1, \"118\": 1, \"85\": 1}, \"115\": {\"3\": 1, \"115\": 6, \"68\": 1, \"110\": 1, \"71\": 2, \"42\": 1}, \"95\": {\"95\": 4, \"38\": 1, \"84\": 3, \"1\": 2, \"67\": 2}, \"3\": {\"115\": 2, \"3\": 4, \"29\": 2, \"23\": 1, \"37\": 1}, \"59\": {\"127\": 1, \"59\": 6, \"128\": 1, \"41\": 2, \"29\": 1, \"71\": 1}, \"55\": {\"55\": 6, \"86\": 1, \"100\": 1, \"53\": 1, \"110\": 1, \"102\": 1, \"37\": 1}, \"70\": {\"38\": 2, \"74\": 1, \"129\": 1, \"53\": 1, \"1\": 1, \"109\": 2, \"10\": 1, \"33\": 1, \"87\": 1, \"72\": 1}, \"6\": {\"30\": 1, \"6\": 5, \"41\": 1, \"49\": 1, \"11\": 1, \"51\": 2, \"98\": 1}, \"2\": {\"38\": 1, \"55\": 1, \"16\": 1, \"2\": 5, \"10\": 1, \"14\": 2, \"105\": 1}, \"48\": {\"46\": 1, \"38\": 1, \"48\": 5, \"66\": 1, \"50\": 1, \"74\": 1, \"119\": 1, \"85\": 1}, \"23\": {\"63\": 1, \"44\": 1, \"61\": 2, \"119\": 2, \"3\": 2, \"65\": 1, \"52\": 1, \"23\": 1, \"10\": 1}, \"7\": {\"44\": 2, \"79\": 1, \"114\": 1, \"3\": 2, \"29\": 3, \"7\": 1, \"122\": 1, \"85\": 1}, \"122\": {\"122\": 7, \"5\": 1, \"84\": 1, \"78\": 1, \"107\": 1, \"88\": 1}, \"57\": {\"63\": 1, \"44\": 1, \"57\": 5, \"8\": 1, \"65\": 1, \"62\": 1, \"53\": 1, \"70\": 1}, \"39\": {\"39\": 2, \"62\": 2, \"118\": 1, \"10\": 1, \"53\": 1, \"70\": 1, \"113\": 1, \"21\": 1}, \"79\": {\"79\": 4, \"34\": 1, \"70\": 1, \"108\": 1, \"127\": 1, \"10\": 1, \"114\": 1, \"19\": 1, \"101\": 1}, \"27\": {\"27\": 9, \"58\": 1}, \"74\": {\"73\": 2, \"79\": 1, \"85\": 1, \"74\": 4, \"4\": 1, \"78\": 1, \"51\": 1, \"17\": 1}, \"73\": {\"73\": 8, \"107\": 2, \"93\": 1, \"118\": 1}, \"62\": {\"74\": 1, \"73\": 1, \"62\": 7, \"43\": 1, \"31\": 1, \"84\": 1}, \"107\": {\"107\": 4, \"62\": 1, \"73\": 1, \"29\": 1, \"37\": 1, \"118\": 1, \"122\": 1, \"40\": 2}, \"128\": {\"62\": 1, \"122\": 1, \"128\": 5, \"105\": 2, \"115\": 1, \"70\": 1, \"53\": 1}, \"60\": {\"53\": 1, \"60\": 6, \"76\": 2, \"118\": 1, \"122\": 1, \"56\": 1}, \"114\": {\"37\": 1, \"62\": 2, \"114\": 1, \"1\": 1, \"52\": 1, \"107\": 1, \"8\": 1, \"4\": 2, \"5\": 1, \"79\": 1}, \"22\": {\"116\": 1, \"22\": 7, \"66\": 2, \"78\": 1, \"103\": 1}, \"93\": {\"1\": 2, \"93\": 4, \"107\": 1, \"109\": 2, \"61\": 1, \"17\": 1, \"14\": 1}, \"94\": {\"94\": 6, \"58\": 1, \"9\": 3, \"6\": 1, \"119\": 1}, \"31\": {\"53\": 2, \"74\": 1, \"48\": 1, \"92\": 2, \"121\": 1, \"76\": 1, \"73\": 1, \"39\": 1}, \"104\": {\"104\": 6, \"111\": 1, \"14\": 1, \"74\": 1, \"124\": 1, \"93\": 1, \"67\": 1}, \"58\": {\"58\": 10, \"59\": 1, \"11\": 1}}, \"C_A_2\": {\"14\": {\"7\": 1, \"14\": 6, \"24\": 1, \"4\": 1, \"1\": 1, \"17\": 1, \"10\": 1}, \"22\": {\"22\": 9, \"56\": 1, \"11\": 2}, \"9\": {\"4\": 2, \"9\": 9, \"51\": 1}, \"47\": {\"47\": 12}, \"13\": {\"13\": 11, \"51\": 1}, \"8\": {\"8\": 12}, \"7\": {\"7\": 12}, \"49\": {\"49\": 12}, \"20\": {\"20\": 11, \"36\": 1}, \"16\": {\"16\": 11, \"15\": 1}, \"34\": {\"34\": 11, \"41\": 1}, \"56\": {\"56\": 5, \"22\": 3, \"55\": 2, \"37\": 1, \"10\": 1}, \"38\": {\"38\": 6, \"24\": 2, \"10\": 1, \"28\": 1}, \"4\": {\"4\": 9, \"53\": 1, \"36\": 1, \"54\": 1}, \"43\": {\"16\": 3, \"24\": 1, \"11\": 3, \"43\": 1, \"28\": 2}, \"26\": {\"26\": 9, \"25\": 1}, \"35\": {\"35\": 12}, \"31\": {\"31\": 12}, \"1\": {\"1\": 11, \"41\": 1}, \"39\": {\"39\": 12}, \"5\": {\"5\": 8, \"31\": 2, \"47\": 1, \"57\": 1}, \"24\": {\"38\": 1, \"24\": 11}, \"54\": {\"54\": 10}, \"23\": {\"23\": 12}, \"51\": {\"20\": 1, \"51\": 8, \"26\": 3}, \"27\": {\"27\": 10}, \"15\": {\"15\": 12}, \"0\": {\"0\": 11, \"23\": 1}, \"19\": {\"19\": 4, \"40\": 1, \"33\": 1, \"4\": 2, \"29\": 2}, \"18\": {\"18\": 6, \"30\": 2}, \"30\": {\"18\": 3, \"30\": 8, \"3\": 1}, \"55\": {\"55\": 5, \"1\": 2, \"47\": 1, \"39\": 2}, \"57\": {\"57\": 12}, \"2\": {\"2\": 6, \"47\": 2, \"1\": 1, \"41\": 3}, \"12\": {\"12\": 6, \"32\": 1, \"36\": 1}, \"41\": {\"41\": 12}, \"42\": {\"42\": 12}, \"48\": {\"48\": 12}, \"37\": {\"37\": 11, \"2\": 1}, \"6\": {\"49\": 1, \"42\": 3, \"6\": 5, \"3\": 1}, \"11\": {\"11\": 10}, \"45\": {\"9\": 2, \"45\": 2, \"35\": 2, \"32\": 1, \"11\": 1}, \"21\": {\"21\": 12}, \"46\": {\"46\": 7, \"23\": 1, \"39\": 1, \"6\": 1}, \"25\": {\"25\": 10, \"20\": 1, \"6\": 1}, \"36\": {\"36\": 10}, \"53\": {\"53\": 11, \"50\": 1}, \"28\": {\"28\": 12}, \"40\": {\"33\": 3, \"40\": 3, \"19\": 1, \"22\": 1, \"4\": 1, \"9\": 1}, \"33\": {\"33\": 10}, \"44\": {\"44\": 9, \"33\": 1}, \"3\": {\"48\": 2, \"3\": 6, \"6\": 3, \"17\": 1}, \"17\": {\"17\": 12}, \"32\": {\"32\": 10}, \"10\": {\"10\": 10}, \"52\": {\"52\": 8, \"23\": 2}, \"50\": {\"50\": 7, \"8\": 1}, \"29\": {\"29\": 5, \"52\": 1}}}, \"per_domain_accuracy\": {\"ORACLE.run1_14\": {\"accuracy\": 0.803125, \"source?\": true}, \"ORACLE.run1_20\": {\"accuracy\": 0.65546875, \"source?\": true}, \"ORACLE.run1_38\": {\"accuracy\": 0.6942708333333333, \"source?\": true}, \"ORACLE.run1_8\": {\"accuracy\": 0.72421875, \"source?\": true}, \"ORACLE.run1_50\": {\"accuracy\": 0.734375, \"source?\": true}, \"ORACLE.run1_32\": {\"accuracy\": 0.7330729166666666, \"source?\": true}, \"ORACLE.run1_26\": {\"accuracy\": 0.5458333333333333, \"source?\": true}, \"ORACLE.run1_44\": {\"accuracy\": 0.6416666666666667, \"source?\": true}, \"C_A_3\": {\"accuracy\": 0.803125, \"source?\": false}, \"C_A_4\": {\"accuracy\": 0.80625, \"source?\": false}, \"C_A_5\": {\"accuracy\": 0.840625, \"source?\": false}, \"W_A_3\": {\"accuracy\": 0.4296875, \"source?\": false}, \"C_A_1\": {\"accuracy\": 0.8078125, \"source?\": false}, \"W_A_4\": {\"accuracy\": 0.4069010416666667, \"source?\": false}, \"W_A_1\": {\"accuracy\": 0.4375, \"source?\": false}, \"W_A_2\": {\"accuracy\": 0.4108072916666667, \"source?\": false}, \"C_A_2\": {\"accuracy\": 0.825, \"source?\": false}}}, \"history\": {\"epoch_indices\": [1, 2, 3, 4, 5, 6], \"train_label_loss\": [0.9723367938860541, 1.8083100833486587, 0.7945910763682886, 0.6697905680918622, 0.5865200463211209, 0.5315019216161176], \"source_val_label_loss\": [48.97054672241211, 0.8597903251647949, 0.8487143516540527, 0.6755939722061157, 0.5643911361694336, 0.5057269930839539], \"target_val_label_loss\": [9027.3212890625, 595.9996337890625, 1282.822998046875, 3284.97509765625, 3196.599365234375, 3047.244873046875], \"source_val_acc_label\": [0.5830729166666667, 0.69150390625, 0.6927408854166667, 0.7564127604166667, 0.7961263020833333, 0.8162434895833334], \"target_val_acc_label\": [0.4196275684931507, 0.5566138698630136, 0.546339897260274, 0.5164811643835616, 0.5299657534246576, 0.5308219178082192]}, \"dataset_metrics\": {\"source\": {\"train\": {\"n_unique_x\": 179200, \"n_unique_y\": 16, \"n_batch/episode\": 6720}, \"val\": {\"n_unique_x\": 38400, \"n_unique_y\": 16, \"n_batch/episode\": 960}, \"test\": {\"n_unique_x\": 38400, \"n_unique_y\": 16, \"n_batch/episode\": 960}}, \"target\": {\"train\": {\"n_unique_x\": 56700, \"n_unique_y\": 130, \"n_batch/episode\": 2080}, \"val\": {\"n_unique_x\": 12132, \"n_unique_y\": 130, \"n_batch/episode\": 292}, \"test\": {\"n_unique_x\": 12132, \"n_unique_y\": 130, \"n_batch/episode\": 292}}}}'"
      ]
     },
     "execution_count": 29,
     "metadata": {},
     "output_type": "execute_result"
    }
   ],
   "source": [
    "json.dumps(experiment)"
   ]
  }
 ],
 "metadata": {
  "celltoolbar": "Tags",
  "kernelspec": {
   "display_name": "Python 3 (ipykernel)",
   "language": "python",
   "name": "python3"
  },
  "language_info": {
   "codemirror_mode": {
    "name": "ipython",
    "version": 3
   },
   "file_extension": ".py",
   "mimetype": "text/x-python",
   "name": "python",
   "nbconvert_exporter": "python",
   "pygments_lexer": "ipython3",
   "version": "3.8.10"
  },
  "papermill": {
   "default_parameters": {},
   "duration": 1820.615234,
   "end_time": "2022-03-18T02:35:11.978461",
   "environment_variables": {},
   "exception": null,
   "input_path": "/mnt/wd500GB/CSC500/csc500-main/csc500-notebooks/templates/tl_ptn_template.ipynb",
   "output_path": "trial.ipynb",
   "parameters": {
    "parameters": {
     "BEST_MODEL_PATH": "./best_model.pth",
     "NUM_LOGS_PER_EPOCH": 10,
     "criteria_for_best": "target_loss",
     "dataset_seed": 1337,
     "datasets": [
      {
       "domain_prefix": "C_A_",
       "domains": [
        1,
        2,
        3,
        4,
        5
       ],
       "episode_transforms": [],
       "labels": [
        "1-10.",
        "1-11.",
        "1-15.",
        "1-16.",
        "1-17.",
        "1-18.",
        "1-19.",
        "10-4.",
        "10-7.",
        "11-1.",
        "11-14.",
        "11-17.",
        "11-20.",
        "11-7.",
        "13-20.",
        "13-8.",
        "14-10.",
        "14-11.",
        "14-14.",
        "14-7.",
        "15-1.",
        "15-20.",
        "16-1.",
        "16-16.",
        "17-10.",
        "17-11.",
        "17-2.",
        "19-1.",
        "19-16.",
        "19-19.",
        "19-20.",
        "19-3.",
        "2-10.",
        "2-11.",
        "2-17.",
        "2-18.",
        "2-20.",
        "2-3.",
        "2-4.",
        "2-5.",
        "2-6.",
        "2-7.",
        "2-8.",
        "3-13.",
        "3-18.",
        "3-3.",
        "4-1.",
        "4-10.",
        "4-11.",
        "4-19.",
        "5-5.",
        "6-15.",
        "7-10.",
        "7-14.",
        "8-18.",
        "8-20.",
        "8-3.",
        "8-8."
       ],
       "num_examples_per_domain_per_label": 100,
       "pickle_path": "/mnt/wd500GB/CSC500/csc500-main/datasets/cores.stratified_ds.2022A.pkl",
       "source_or_target_dataset": "target",
       "x_transforms": [
        "unit_mag",
        "take_200"
       ]
      },
      {
       "domain_prefix": "W_A_",
       "domains": [
        1,
        2,
        3,
        4
       ],
       "episode_transforms": [],
       "labels": [
        "1-10",
        "1-12",
        "1-14",
        "1-16",
        "1-18",
        "1-19",
        "1-8",
        "10-11",
        "10-17",
        "10-4",
        "10-7",
        "11-1",
        "11-10",
        "11-19",
        "11-20",
        "11-4",
        "11-7",
        "12-19",
        "12-20",
        "12-7",
        "13-14",
        "13-18",
        "13-19",
        "13-20",
        "13-3",
        "13-7",
        "14-10",
        "14-11",
        "14-12",
        "14-13",
        "14-14",
        "14-19",
        "14-20",
        "14-7",
        "14-8",
        "14-9",
        "15-1",
        "15-19",
        "15-6",
        "16-1",
        "16-16",
        "16-19",
        "16-20",
        "17-10",
        "17-11",
        "18-1",
        "18-10",
        "18-11",
        "18-12",
        "18-13",
        "18-14",
        "18-15",
        "18-16",
        "18-17",
        "18-19",
        "18-2",
        "18-20",
        "18-4",
        "18-5",
        "18-7",
        "18-8",
        "18-9",
        "19-1",
        "19-10",
        "19-11",
        "19-12",
        "19-13",
        "19-14",
        "19-15",
        "19-19",
        "19-2",
        "19-20",
        "19-3",
        "19-4",
        "19-6",
        "19-7",
        "19-8",
        "19-9",
        "2-1",
        "2-13",
        "2-15",
        "2-3",
        "2-4",
        "2-5",
        "2-6",
        "2-7",
        "2-8",
        "20-1",
        "20-12",
        "20-14",
        "20-15",
        "20-16",
        "20-18",
        "20-19",
        "20-20",
        "20-3",
        "20-4",
        "20-5",
        "20-7",
        "20-8",
        "3-1",
        "3-13",
        "3-18",
        "3-2",
        "3-8",
        "4-1",
        "4-10",
        "4-11",
        "5-1",
        "5-5",
        "6-1",
        "6-15",
        "6-6",
        "7-10",
        "7-11",
        "7-12",
        "7-13",
        "7-14",
        "7-7",
        "7-8",
        "7-9",
        "8-1",
        "8-13",
        "8-14",
        "8-18",
        "8-20",
        "8-3",
        "8-8",
        "9-1",
        "9-7"
       ],
       "num_examples_per_domain_per_label": 100,
       "pickle_path": "/mnt/wd500GB/CSC500/csc500-main/datasets/wisig.node3-19.stratified_ds.2022A.pkl",
       "source_or_target_dataset": "target",
       "x_transforms": [
        "unit_mag",
        "take_200"
       ]
      },
      {
       "domain_prefix": "ORACLE.run1_",
       "domains": [
        32,
        38,
        8,
        44,
        14,
        50,
        20,
        26
       ],
       "episode_transforms": [],
       "labels": [
        "3123D52",
        "3123D65",
        "3123D79",
        "3123D80",
        "3123D54",
        "3123D70",
        "3123D7B",
        "3123D89",
        "3123D58",
        "3123D76",
        "3123D7D",
        "3123EFE",
        "3123D64",
        "3123D78",
        "3123D7E",
        "3124E4A"
       ],
       "num_examples_per_domain_per_label": 2000,
       "pickle_path": "/mnt/wd500GB/CSC500/csc500-main/datasets/oracle.Run1_framed_2000Examples_stratified_ds.2022A.pkl",
       "source_or_target_dataset": "source",
       "x_transforms": [
        "unit_mag",
        "take_200",
        "resample_20Msps_to_25Msps"
       ]
      }
     ],
     "device": "cuda",
     "experiment_name": "tl_3A:oracle.run1.framed -> cores+wisig",
     "lr": 0.001,
     "n_epoch": 50,
     "n_query": 2,
     "n_shot": 3,
     "n_way": 16,
     "patience": 3,
     "seed": 1337,
     "test_k_factor": 2,
     "torch_default_dtype": "torch.float32",
     "train_k_factor": 3,
     "val_k_factor": 2,
     "x_net": [
      {
       "class": "nnReshape",
       "kargs": {
        "shape": [
         -1,
         1,
         2,
         200
        ]
       }
      },
      {
       "class": "Conv2d",
       "kargs": {
        "bias": false,
        "in_channels": 1,
        "kernel_size": [
         1,
         7
        ],
        "out_channels": 256,
        "padding": [
         0,
         3
        ]
       }
      },
      {
       "class": "ReLU",
       "kargs": {
        "inplace": true
       }
      },
      {
       "class": "BatchNorm2d",
       "kargs": {
        "num_features": 256
       }
      },
      {
       "class": "Conv2d",
       "kargs": {
        "bias": true,
        "in_channels": 256,
        "kernel_size": [
         2,
         7
        ],
        "out_channels": 80,
        "padding": [
         0,
         3
        ]
       }
      },
      {
       "class": "ReLU",
       "kargs": {
        "inplace": true
       }
      },
      {
       "class": "BatchNorm2d",
       "kargs": {
        "num_features": 80
       }
      },
      {
       "class": "Flatten",
       "kargs": {}
      },
      {
       "class": "Linear",
       "kargs": {
        "in_features": 16000,
        "out_features": 256
       }
      },
      {
       "class": "ReLU",
       "kargs": {
        "inplace": true
       }
      },
      {
       "class": "BatchNorm1d",
       "kargs": {
        "num_features": 256
       }
      },
      {
       "class": "Linear",
       "kargs": {
        "in_features": 256,
        "out_features": 256
       }
      }
     ],
     "x_shape": [
      2,
      200
     ]
    }
   },
   "start_time": "2022-03-18T02:04:51.363227",
   "version": "2.3.4"
  }
 },
 "nbformat": 4,
 "nbformat_minor": 5
}