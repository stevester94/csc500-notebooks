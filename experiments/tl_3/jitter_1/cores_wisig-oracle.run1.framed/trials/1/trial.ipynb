{
 "cells": [
  {
   "cell_type": "markdown",
   "id": "9fea5f46",
   "metadata": {
    "papermill": {
     "duration": 0.01752,
     "end_time": "2022-03-18T11:00:55.731401",
     "exception": false,
     "start_time": "2022-03-18T11:00:55.713881",
     "status": "completed"
    },
    "tags": []
   },
   "source": [
    "# Transfer Learning Template"
   ]
  },
  {
   "cell_type": "code",
   "execution_count": 1,
   "id": "0902182a",
   "metadata": {
    "execution": {
     "iopub.execute_input": "2022-03-18T11:00:55.772574Z",
     "iopub.status.busy": "2022-03-18T11:00:55.772076Z",
     "iopub.status.idle": "2022-03-18T11:00:56.673888Z",
     "shell.execute_reply": "2022-03-18T11:00:56.673494Z"
    },
    "papermill": {
     "duration": 0.930005,
     "end_time": "2022-03-18T11:00:56.673985",
     "exception": false,
     "start_time": "2022-03-18T11:00:55.743980",
     "status": "completed"
    },
    "tags": []
   },
   "outputs": [],
   "source": [
    "%load_ext autoreload\n",
    "%autoreload 2\n",
    "%matplotlib inline\n",
    "\n",
    "    \n",
    "import os, json, sys, time, random\n",
    "import numpy as np\n",
    "import torch\n",
    "from torch.optim import Adam\n",
    "from  easydict import EasyDict\n",
    "import matplotlib.pyplot as plt\n",
    "\n",
    "from steves_models.steves_ptn import Steves_Prototypical_Network\n",
    "\n",
    "from steves_utils.lazy_iterable_wrapper import Lazy_Iterable_Wrapper\n",
    "from steves_utils.iterable_aggregator import Iterable_Aggregator\n",
    "from steves_utils.ptn_train_eval_test_jig import  PTN_Train_Eval_Test_Jig\n",
    "from steves_utils.torch_sequential_builder import build_sequential\n",
    "from steves_utils.torch_utils import get_dataset_metrics, ptn_confusion_by_domain_over_dataloader\n",
    "from steves_utils.utils_v2 import (per_domain_accuracy_from_confusion, get_datasets_base_path)\n",
    "from steves_utils.PTN.utils import independent_accuracy_assesment\n",
    "\n",
    "from torch.utils.data import DataLoader\n",
    "\n",
    "from steves_utils.stratified_dataset.episodic_accessor import Episodic_Accessor_Factory\n",
    "\n",
    "from steves_utils.ptn_do_report import (\n",
    "    get_loss_curve,\n",
    "    get_results_table,\n",
    "    get_parameters_table,\n",
    "    get_domain_accuracies,\n",
    ")\n",
    "\n",
    "from steves_utils.transforms import get_chained_transform"
   ]
  },
  {
   "cell_type": "markdown",
   "id": "41c840b4",
   "metadata": {
    "papermill": {
     "duration": 0.014599,
     "end_time": "2022-03-18T11:00:56.704765",
     "exception": false,
     "start_time": "2022-03-18T11:00:56.690166",
     "status": "completed"
    },
    "tags": []
   },
   "source": [
    "# Allowed Parameters\n",
    "These are allowed parameters, not defaults\n",
    "Each of these values need to be present in the injected parameters (the notebook will raise an exception if they are not present)\n",
    "\n",
    "Papermill uses the cell tag \"parameters\" to inject the real parameters below this cell.\n",
    "Enable tags to see what I mean"
   ]
  },
  {
   "cell_type": "code",
   "execution_count": 2,
   "id": "fd44eb83",
   "metadata": {
    "execution": {
     "iopub.execute_input": "2022-03-18T11:00:56.733319Z",
     "iopub.status.busy": "2022-03-18T11:00:56.733056Z",
     "iopub.status.idle": "2022-03-18T11:00:56.747591Z",
     "shell.execute_reply": "2022-03-18T11:00:56.747909Z"
    },
    "papermill": {
     "duration": 0.030703,
     "end_time": "2022-03-18T11:00:56.748033",
     "exception": false,
     "start_time": "2022-03-18T11:00:56.717330",
     "status": "completed"
    },
    "tags": []
   },
   "outputs": [],
   "source": [
    "required_parameters = {\n",
    "    \"experiment_name\",\n",
    "    \"lr\",\n",
    "    \"device\",\n",
    "    \"seed\",\n",
    "    \"dataset_seed\",\n",
    "    \"n_shot\",\n",
    "    \"n_query\",\n",
    "    \"n_way\",\n",
    "    \"train_k_factor\",\n",
    "    \"val_k_factor\",\n",
    "    \"test_k_factor\",\n",
    "    \"n_epoch\",\n",
    "    \"patience\",\n",
    "    \"criteria_for_best\",\n",
    "    \"x_net\",\n",
    "    \"datasets\",\n",
    "    \"torch_default_dtype\",\n",
    "    \"NUM_LOGS_PER_EPOCH\",\n",
    "    \"BEST_MODEL_PATH\",\n",
    "    \"x_shape\",\n",
    "}"
   ]
  },
  {
   "cell_type": "code",
   "execution_count": 3,
   "id": "fa3f0049",
   "metadata": {
    "execution": {
     "iopub.execute_input": "2022-03-18T11:00:56.786650Z",
     "iopub.status.busy": "2022-03-18T11:00:56.786364Z",
     "iopub.status.idle": "2022-03-18T11:00:56.798597Z",
     "shell.execute_reply": "2022-03-18T11:00:56.798363Z"
    },
    "papermill": {
     "duration": 0.034177,
     "end_time": "2022-03-18T11:00:56.798656",
     "exception": false,
     "start_time": "2022-03-18T11:00:56.764479",
     "status": "completed"
    },
    "tags": [
     "parameters"
    ]
   },
   "outputs": [],
   "source": [
    "from steves_utils.CORES.utils import (\n",
    "    ALL_NODES,\n",
    "    ALL_NODES_MINIMUM_1000_EXAMPLES,\n",
    "    ALL_DAYS\n",
    ")\n",
    "\n",
    "from steves_utils.ORACLE.utils_v2 import (\n",
    "    ALL_DISTANCES_FEET_NARROWED,\n",
    "    ALL_RUNS,\n",
    "    ALL_SERIAL_NUMBERS,\n",
    ")\n",
    "\n",
    "standalone_parameters = {}\n",
    "standalone_parameters[\"experiment_name\"] = \"STANDALONE PTN\"\n",
    "standalone_parameters[\"lr\"] = 0.001\n",
    "standalone_parameters[\"device\"] = \"cuda\"\n",
    "\n",
    "standalone_parameters[\"seed\"] = 1337\n",
    "standalone_parameters[\"dataset_seed\"] = 1337\n",
    "\n",
    "standalone_parameters[\"n_way\"] = 8\n",
    "standalone_parameters[\"n_shot\"] = 3\n",
    "standalone_parameters[\"n_query\"]  = 2\n",
    "standalone_parameters[\"train_k_factor\"] = 1\n",
    "standalone_parameters[\"val_k_factor\"] = 2\n",
    "standalone_parameters[\"test_k_factor\"] = 2\n",
    "\n",
    "\n",
    "standalone_parameters[\"n_epoch\"] = 50\n",
    "\n",
    "standalone_parameters[\"patience\"] = 10\n",
    "standalone_parameters[\"criteria_for_best\"] = \"source_loss\"\n",
    "\n",
    "standalone_parameters[\"datasets\"] = [\n",
    "    {\n",
    "        \"labels\": ALL_SERIAL_NUMBERS,\n",
    "        \"domains\": ALL_DISTANCES_FEET_NARROWED,\n",
    "        \"num_examples_per_domain_per_label\": 100,\n",
    "        \"pickle_path\": os.path.join(get_datasets_base_path(), \"oracle.Run1_framed_2000Examples_stratified_ds.2022A.pkl\"),\n",
    "        \"source_or_target_dataset\": \"source\",\n",
    "        \"x_transforms\": [\"unit_mag\", \"minus_two\"],\n",
    "        \"episode_transforms\": [],\n",
    "        \"domain_prefix\": \"ORACLE_\"\n",
    "    },\n",
    "    {\n",
    "        \"labels\": ALL_NODES,\n",
    "        \"domains\": ALL_DAYS,\n",
    "        \"num_examples_per_domain_per_label\": 100,\n",
    "        \"pickle_path\": os.path.join(get_datasets_base_path(), \"cores.stratified_ds.2022A.pkl\"),\n",
    "        \"source_or_target_dataset\": \"target\",\n",
    "        \"x_transforms\": [\"unit_power\", \"times_zero\"],\n",
    "        \"episode_transforms\": [],\n",
    "        \"domain_prefix\": \"CORES_\"\n",
    "    }   \n",
    "]\n",
    "\n",
    "standalone_parameters[\"torch_default_dtype\"] = \"torch.float32\" \n",
    "\n",
    "\n",
    "\n",
    "standalone_parameters[\"x_net\"] =     [\n",
    "    {\"class\": \"nnReshape\", \"kargs\": {\"shape\":[-1, 1, 2, 256]}},\n",
    "    {\"class\": \"Conv2d\", \"kargs\": { \"in_channels\":1, \"out_channels\":256, \"kernel_size\":(1,7), \"bias\":False, \"padding\":(0,3), },},\n",
    "    {\"class\": \"ReLU\", \"kargs\": {\"inplace\": True}},\n",
    "    {\"class\": \"BatchNorm2d\", \"kargs\": {\"num_features\":256}},\n",
    "\n",
    "    {\"class\": \"Conv2d\", \"kargs\": { \"in_channels\":256, \"out_channels\":80, \"kernel_size\":(2,7), \"bias\":True, \"padding\":(0,3), },},\n",
    "    {\"class\": \"ReLU\", \"kargs\": {\"inplace\": True}},\n",
    "    {\"class\": \"BatchNorm2d\", \"kargs\": {\"num_features\":80}},\n",
    "    {\"class\": \"Flatten\", \"kargs\": {}},\n",
    "\n",
    "    {\"class\": \"Linear\", \"kargs\": {\"in_features\": 80*256, \"out_features\": 256}}, # 80 units per IQ pair\n",
    "    {\"class\": \"ReLU\", \"kargs\": {\"inplace\": True}},\n",
    "    {\"class\": \"BatchNorm1d\", \"kargs\": {\"num_features\":256}},\n",
    "\n",
    "    {\"class\": \"Linear\", \"kargs\": {\"in_features\": 256, \"out_features\": 256}},\n",
    "]\n",
    "\n",
    "# Parameters relevant to results\n",
    "# These parameters will basically never need to change\n",
    "standalone_parameters[\"NUM_LOGS_PER_EPOCH\"] = 10\n",
    "standalone_parameters[\"BEST_MODEL_PATH\"] = \"./best_model.pth\"\n",
    "\n",
    "\n",
    "\n",
    "\n"
   ]
  },
  {
   "cell_type": "code",
   "execution_count": 4,
   "id": "a7b78e36",
   "metadata": {
    "execution": {
     "iopub.execute_input": "2022-03-18T11:00:56.838959Z",
     "iopub.status.busy": "2022-03-18T11:00:56.838634Z",
     "iopub.status.idle": "2022-03-18T11:00:56.852158Z",
     "shell.execute_reply": "2022-03-18T11:00:56.851927Z"
    },
    "papermill": {
     "duration": 0.040498,
     "end_time": "2022-03-18T11:00:56.852217",
     "exception": false,
     "start_time": "2022-03-18T11:00:56.811719",
     "status": "completed"
    },
    "tags": [
     "injected-parameters"
    ]
   },
   "outputs": [],
   "source": [
    "# Parameters\n",
    "parameters = {\n",
    "    \"experiment_name\": \"tl_3-jitter1:cores+wisig -> oracle.run1.framed\",\n",
    "    \"device\": \"cuda\",\n",
    "    \"lr\": 0.001,\n",
    "    \"seed\": 1337,\n",
    "    \"dataset_seed\": 1337,\n",
    "    \"n_shot\": 3,\n",
    "    \"n_query\": 2,\n",
    "    \"train_k_factor\": 3,\n",
    "    \"val_k_factor\": 2,\n",
    "    \"test_k_factor\": 2,\n",
    "    \"torch_default_dtype\": \"torch.float32\",\n",
    "    \"n_epoch\": 50,\n",
    "    \"patience\": 3,\n",
    "    \"criteria_for_best\": \"target_loss\",\n",
    "    \"x_net\": [\n",
    "        {\"class\": \"nnReshape\", \"kargs\": {\"shape\": [-1, 1, 2, 256]}},\n",
    "        {\n",
    "            \"class\": \"Conv2d\",\n",
    "            \"kargs\": {\n",
    "                \"in_channels\": 1,\n",
    "                \"out_channels\": 256,\n",
    "                \"kernel_size\": [1, 7],\n",
    "                \"bias\": False,\n",
    "                \"padding\": [0, 3],\n",
    "            },\n",
    "        },\n",
    "        {\"class\": \"ReLU\", \"kargs\": {\"inplace\": True}},\n",
    "        {\"class\": \"BatchNorm2d\", \"kargs\": {\"num_features\": 256}},\n",
    "        {\n",
    "            \"class\": \"Conv2d\",\n",
    "            \"kargs\": {\n",
    "                \"in_channels\": 256,\n",
    "                \"out_channels\": 80,\n",
    "                \"kernel_size\": [2, 7],\n",
    "                \"bias\": True,\n",
    "                \"padding\": [0, 3],\n",
    "            },\n",
    "        },\n",
    "        {\"class\": \"ReLU\", \"kargs\": {\"inplace\": True}},\n",
    "        {\"class\": \"BatchNorm2d\", \"kargs\": {\"num_features\": 80}},\n",
    "        {\"class\": \"Flatten\", \"kargs\": {}},\n",
    "        {\"class\": \"Linear\", \"kargs\": {\"in_features\": 20480, \"out_features\": 256}},\n",
    "        {\"class\": \"ReLU\", \"kargs\": {\"inplace\": True}},\n",
    "        {\"class\": \"BatchNorm1d\", \"kargs\": {\"num_features\": 256}},\n",
    "        {\"class\": \"Linear\", \"kargs\": {\"in_features\": 256, \"out_features\": 256}},\n",
    "    ],\n",
    "    \"NUM_LOGS_PER_EPOCH\": 10,\n",
    "    \"BEST_MODEL_PATH\": \"./best_model.pth\",\n",
    "    \"n_way\": 16,\n",
    "    \"datasets\": [\n",
    "        {\n",
    "            \"labels\": [\n",
    "                \"1-10.\",\n",
    "                \"1-11.\",\n",
    "                \"1-15.\",\n",
    "                \"1-16.\",\n",
    "                \"1-17.\",\n",
    "                \"1-18.\",\n",
    "                \"1-19.\",\n",
    "                \"10-4.\",\n",
    "                \"10-7.\",\n",
    "                \"11-1.\",\n",
    "                \"11-14.\",\n",
    "                \"11-17.\",\n",
    "                \"11-20.\",\n",
    "                \"11-7.\",\n",
    "                \"13-20.\",\n",
    "                \"13-8.\",\n",
    "                \"14-10.\",\n",
    "                \"14-11.\",\n",
    "                \"14-14.\",\n",
    "                \"14-7.\",\n",
    "                \"15-1.\",\n",
    "                \"15-20.\",\n",
    "                \"16-1.\",\n",
    "                \"16-16.\",\n",
    "                \"17-10.\",\n",
    "                \"17-11.\",\n",
    "                \"17-2.\",\n",
    "                \"19-1.\",\n",
    "                \"19-16.\",\n",
    "                \"19-19.\",\n",
    "                \"19-20.\",\n",
    "                \"19-3.\",\n",
    "                \"2-10.\",\n",
    "                \"2-11.\",\n",
    "                \"2-17.\",\n",
    "                \"2-18.\",\n",
    "                \"2-20.\",\n",
    "                \"2-3.\",\n",
    "                \"2-4.\",\n",
    "                \"2-5.\",\n",
    "                \"2-6.\",\n",
    "                \"2-7.\",\n",
    "                \"2-8.\",\n",
    "                \"3-13.\",\n",
    "                \"3-18.\",\n",
    "                \"3-3.\",\n",
    "                \"4-1.\",\n",
    "                \"4-10.\",\n",
    "                \"4-11.\",\n",
    "                \"4-19.\",\n",
    "                \"5-5.\",\n",
    "                \"6-15.\",\n",
    "                \"7-10.\",\n",
    "                \"7-14.\",\n",
    "                \"8-18.\",\n",
    "                \"8-20.\",\n",
    "                \"8-3.\",\n",
    "                \"8-8.\",\n",
    "            ],\n",
    "            \"domains\": [1, 2, 3, 4, 5],\n",
    "            \"num_examples_per_domain_per_label\": 100,\n",
    "            \"pickle_path\": \"/mnt/wd500GB/CSC500/csc500-main/datasets/cores.stratified_ds.2022A.pkl\",\n",
    "            \"source_or_target_dataset\": \"source\",\n",
    "            \"x_transforms\": [\"unit_mag\", \"jitter_256_1\", \"take_200\"],\n",
    "            \"episode_transforms\": [],\n",
    "            \"domain_prefix\": \"C_A_\",\n",
    "        },\n",
    "        {\n",
    "            \"labels\": [\n",
    "                \"1-10\",\n",
    "                \"1-12\",\n",
    "                \"1-14\",\n",
    "                \"1-16\",\n",
    "                \"1-18\",\n",
    "                \"1-19\",\n",
    "                \"1-8\",\n",
    "                \"10-11\",\n",
    "                \"10-17\",\n",
    "                \"10-4\",\n",
    "                \"10-7\",\n",
    "                \"11-1\",\n",
    "                \"11-10\",\n",
    "                \"11-19\",\n",
    "                \"11-20\",\n",
    "                \"11-4\",\n",
    "                \"11-7\",\n",
    "                \"12-19\",\n",
    "                \"12-20\",\n",
    "                \"12-7\",\n",
    "                \"13-14\",\n",
    "                \"13-18\",\n",
    "                \"13-19\",\n",
    "                \"13-20\",\n",
    "                \"13-3\",\n",
    "                \"13-7\",\n",
    "                \"14-10\",\n",
    "                \"14-11\",\n",
    "                \"14-12\",\n",
    "                \"14-13\",\n",
    "                \"14-14\",\n",
    "                \"14-19\",\n",
    "                \"14-20\",\n",
    "                \"14-7\",\n",
    "                \"14-8\",\n",
    "                \"14-9\",\n",
    "                \"15-1\",\n",
    "                \"15-19\",\n",
    "                \"15-6\",\n",
    "                \"16-1\",\n",
    "                \"16-16\",\n",
    "                \"16-19\",\n",
    "                \"16-20\",\n",
    "                \"17-10\",\n",
    "                \"17-11\",\n",
    "                \"18-1\",\n",
    "                \"18-10\",\n",
    "                \"18-11\",\n",
    "                \"18-12\",\n",
    "                \"18-13\",\n",
    "                \"18-14\",\n",
    "                \"18-15\",\n",
    "                \"18-16\",\n",
    "                \"18-17\",\n",
    "                \"18-19\",\n",
    "                \"18-2\",\n",
    "                \"18-20\",\n",
    "                \"18-4\",\n",
    "                \"18-5\",\n",
    "                \"18-7\",\n",
    "                \"18-8\",\n",
    "                \"18-9\",\n",
    "                \"19-1\",\n",
    "                \"19-10\",\n",
    "                \"19-11\",\n",
    "                \"19-12\",\n",
    "                \"19-13\",\n",
    "                \"19-14\",\n",
    "                \"19-15\",\n",
    "                \"19-19\",\n",
    "                \"19-2\",\n",
    "                \"19-20\",\n",
    "                \"19-3\",\n",
    "                \"19-4\",\n",
    "                \"19-6\",\n",
    "                \"19-7\",\n",
    "                \"19-8\",\n",
    "                \"19-9\",\n",
    "                \"2-1\",\n",
    "                \"2-13\",\n",
    "                \"2-15\",\n",
    "                \"2-3\",\n",
    "                \"2-4\",\n",
    "                \"2-5\",\n",
    "                \"2-6\",\n",
    "                \"2-7\",\n",
    "                \"2-8\",\n",
    "                \"20-1\",\n",
    "                \"20-12\",\n",
    "                \"20-14\",\n",
    "                \"20-15\",\n",
    "                \"20-16\",\n",
    "                \"20-18\",\n",
    "                \"20-19\",\n",
    "                \"20-20\",\n",
    "                \"20-3\",\n",
    "                \"20-4\",\n",
    "                \"20-5\",\n",
    "                \"20-7\",\n",
    "                \"20-8\",\n",
    "                \"3-1\",\n",
    "                \"3-13\",\n",
    "                \"3-18\",\n",
    "                \"3-2\",\n",
    "                \"3-8\",\n",
    "                \"4-1\",\n",
    "                \"4-10\",\n",
    "                \"4-11\",\n",
    "                \"5-1\",\n",
    "                \"5-5\",\n",
    "                \"6-1\",\n",
    "                \"6-15\",\n",
    "                \"6-6\",\n",
    "                \"7-10\",\n",
    "                \"7-11\",\n",
    "                \"7-12\",\n",
    "                \"7-13\",\n",
    "                \"7-14\",\n",
    "                \"7-7\",\n",
    "                \"7-8\",\n",
    "                \"7-9\",\n",
    "                \"8-1\",\n",
    "                \"8-13\",\n",
    "                \"8-14\",\n",
    "                \"8-18\",\n",
    "                \"8-20\",\n",
    "                \"8-3\",\n",
    "                \"8-8\",\n",
    "                \"9-1\",\n",
    "                \"9-7\",\n",
    "            ],\n",
    "            \"domains\": [1, 2, 3, 4],\n",
    "            \"num_examples_per_domain_per_label\": 100,\n",
    "            \"pickle_path\": \"/mnt/wd500GB/CSC500/csc500-main/datasets/wisig.node3-19.stratified_ds.2022A.pkl\",\n",
    "            \"source_or_target_dataset\": \"source\",\n",
    "            \"x_transforms\": [\"unit_mag\", \"jitter_256_1\", \"take_200\"],\n",
    "            \"episode_transforms\": [],\n",
    "            \"domain_prefix\": \"W_A_\",\n",
    "        },\n",
    "        {\n",
    "            \"labels\": [\n",
    "                \"3123D52\",\n",
    "                \"3123D65\",\n",
    "                \"3123D79\",\n",
    "                \"3123D80\",\n",
    "                \"3123D54\",\n",
    "                \"3123D70\",\n",
    "                \"3123D7B\",\n",
    "                \"3123D89\",\n",
    "                \"3123D58\",\n",
    "                \"3123D76\",\n",
    "                \"3123D7D\",\n",
    "                \"3123EFE\",\n",
    "                \"3123D64\",\n",
    "                \"3123D78\",\n",
    "                \"3123D7E\",\n",
    "                \"3124E4A\",\n",
    "            ],\n",
    "            \"domains\": [32, 38, 8, 44, 14, 50, 20, 26],\n",
    "            \"num_examples_per_domain_per_label\": 2000,\n",
    "            \"pickle_path\": \"/mnt/wd500GB/CSC500/csc500-main/datasets/oracle.Run1_framed_2000Examples_stratified_ds.2022A.pkl\",\n",
    "            \"source_or_target_dataset\": \"target\",\n",
    "            \"x_transforms\": [\n",
    "                \"unit_mag\",\n",
    "                \"jitter_256_1\",\n",
    "                \"take_200\",\n",
    "                \"resample_20Msps_to_25Msps\",\n",
    "            ],\n",
    "            \"episode_transforms\": [],\n",
    "            \"domain_prefix\": \"ORACLE.run1_\",\n",
    "        },\n",
    "    ],\n",
    "}\n"
   ]
  },
  {
   "cell_type": "code",
   "execution_count": 5,
   "id": "8fa1cc33",
   "metadata": {
    "execution": {
     "iopub.execute_input": "2022-03-18T11:00:56.881626Z",
     "iopub.status.busy": "2022-03-18T11:00:56.881366Z",
     "iopub.status.idle": "2022-03-18T11:00:56.894675Z",
     "shell.execute_reply": "2022-03-18T11:00:56.894885Z"
    },
    "papermill": {
     "duration": 0.029846,
     "end_time": "2022-03-18T11:00:56.894955",
     "exception": false,
     "start_time": "2022-03-18T11:00:56.865109",
     "status": "completed"
    },
    "tags": []
   },
   "outputs": [],
   "source": [
    "# Set this to True if you want to run this template directly\n",
    "STANDALONE = False\n",
    "if STANDALONE:\n",
    "    print(\"parameters not injected, running with standalone_parameters\")\n",
    "    parameters = standalone_parameters\n",
    "\n",
    "if not 'parameters' in locals() and not 'parameters' in globals():\n",
    "    raise Exception(\"Parameter injection failed\")\n",
    "\n",
    "#Use an easy dict for all the parameters\n",
    "p = EasyDict(parameters)\n",
    "\n",
    "if \"x_shape\" not in p:\n",
    "    p.x_shape = [2,256] # Default to this if we dont supply x_shape\n",
    "\n",
    "\n",
    "supplied_keys = set(p.keys())\n",
    "\n",
    "if  supplied_keys != required_parameters:\n",
    "    print(\"Parameters are incorrect\")\n",
    "    if len(supplied_keys - required_parameters)>0: print(\"Shouldn't have:\", str(supplied_keys - required_parameters))\n",
    "    if len(required_parameters - supplied_keys)>0: print(\"Need to have:\", str(required_parameters - supplied_keys))\n",
    "    raise RuntimeError(\"Parameters are incorrect\")"
   ]
  },
  {
   "cell_type": "code",
   "execution_count": 6,
   "id": "3a028d58",
   "metadata": {
    "execution": {
     "iopub.execute_input": "2022-03-18T11:00:56.925033Z",
     "iopub.status.busy": "2022-03-18T11:00:56.924779Z",
     "iopub.status.idle": "2022-03-18T11:00:56.936388Z",
     "shell.execute_reply": "2022-03-18T11:00:56.935896Z"
    },
    "papermill": {
     "duration": 0.026662,
     "end_time": "2022-03-18T11:00:56.936488",
     "exception": false,
     "start_time": "2022-03-18T11:00:56.909826",
     "status": "completed"
    },
    "tags": []
   },
   "outputs": [],
   "source": [
    "###################################\n",
    "# Set the RNGs and make it all deterministic\n",
    "###################################\n",
    "np.random.seed(p.seed)\n",
    "random.seed(p.seed)\n",
    "torch.manual_seed(p.seed)\n",
    "\n",
    "torch.use_deterministic_algorithms(True) "
   ]
  },
  {
   "cell_type": "code",
   "execution_count": 7,
   "id": "b691acf6",
   "metadata": {
    "execution": {
     "iopub.execute_input": "2022-03-18T11:00:56.970414Z",
     "iopub.status.busy": "2022-03-18T11:00:56.970161Z",
     "iopub.status.idle": "2022-03-18T11:00:56.985983Z",
     "shell.execute_reply": "2022-03-18T11:00:56.985484Z"
    },
    "papermill": {
     "duration": 0.031018,
     "end_time": "2022-03-18T11:00:56.986085",
     "exception": false,
     "start_time": "2022-03-18T11:00:56.955067",
     "status": "completed"
    },
    "tags": []
   },
   "outputs": [],
   "source": [
    "###########################################\n",
    "# The stratified datasets honor this\n",
    "###########################################\n",
    "torch.set_default_dtype(eval(p.torch_default_dtype))"
   ]
  },
  {
   "cell_type": "code",
   "execution_count": 8,
   "id": "b5fba671",
   "metadata": {
    "execution": {
     "iopub.execute_input": "2022-03-18T11:00:57.021220Z",
     "iopub.status.busy": "2022-03-18T11:00:57.020964Z",
     "iopub.status.idle": "2022-03-18T11:00:57.061680Z",
     "shell.execute_reply": "2022-03-18T11:00:57.061158Z"
    },
    "papermill": {
     "duration": 0.056692,
     "end_time": "2022-03-18T11:00:57.061790",
     "exception": false,
     "start_time": "2022-03-18T11:00:57.005098",
     "status": "completed"
    },
    "tags": []
   },
   "outputs": [],
   "source": [
    "###################################\n",
    "# Build the network(s)\n",
    "# Note: It's critical to do this AFTER setting the RNG\n",
    "###################################\n",
    "x_net = build_sequential(p.x_net)"
   ]
  },
  {
   "cell_type": "code",
   "execution_count": 9,
   "id": "5d7e61cc",
   "metadata": {
    "execution": {
     "iopub.execute_input": "2022-03-18T11:00:57.094970Z",
     "iopub.status.busy": "2022-03-18T11:00:57.094715Z",
     "iopub.status.idle": "2022-03-18T11:00:57.106473Z",
     "shell.execute_reply": "2022-03-18T11:00:57.105982Z"
    },
    "papermill": {
     "duration": 0.026511,
     "end_time": "2022-03-18T11:00:57.106575",
     "exception": false,
     "start_time": "2022-03-18T11:00:57.080064",
     "status": "completed"
    },
    "tags": []
   },
   "outputs": [],
   "source": [
    "start_time_secs = time.time()"
   ]
  },
  {
   "cell_type": "code",
   "execution_count": 10,
   "id": "c6b67dfd",
   "metadata": {
    "execution": {
     "iopub.execute_input": "2022-03-18T11:00:57.140554Z",
     "iopub.status.busy": "2022-03-18T11:00:57.140045Z",
     "iopub.status.idle": "2022-03-18T11:00:57.154389Z",
     "shell.execute_reply": "2022-03-18T11:00:57.153885Z"
    },
    "papermill": {
     "duration": 0.030393,
     "end_time": "2022-03-18T11:00:57.154491",
     "exception": false,
     "start_time": "2022-03-18T11:00:57.124098",
     "status": "completed"
    },
    "tags": []
   },
   "outputs": [],
   "source": [
    "p.domains_source = []\n",
    "p.domains_target = []\n",
    "\n",
    "\n",
    "train_original_source = []\n",
    "val_original_source   = []\n",
    "test_original_source  = []\n",
    "\n",
    "train_original_target = []\n",
    "val_original_target   = []\n",
    "test_original_target  = []"
   ]
  },
  {
   "cell_type": "code",
   "execution_count": 11,
   "id": "e3d9c3d3",
   "metadata": {
    "execution": {
     "iopub.execute_input": "2022-03-18T11:00:57.186887Z",
     "iopub.status.busy": "2022-03-18T11:00:57.186627Z",
     "iopub.status.idle": "2022-03-18T11:00:57.197429Z",
     "shell.execute_reply": "2022-03-18T11:00:57.197107Z"
    },
    "papermill": {
     "duration": 0.025465,
     "end_time": "2022-03-18T11:00:57.197506",
     "exception": false,
     "start_time": "2022-03-18T11:00:57.172041",
     "status": "completed"
    },
    "tags": []
   },
   "outputs": [],
   "source": [
    "# global_x_transform_func = lambda x: normalize(x.to(torch.get_default_dtype()), \"unit_power\") # unit_power, unit_mag\n",
    "# global_x_transform_func = lambda x: normalize(x, \"unit_power\") # unit_power, unit_mag"
   ]
  },
  {
   "cell_type": "code",
   "execution_count": 12,
   "id": "acb78fd2",
   "metadata": {
    "execution": {
     "iopub.execute_input": "2022-03-18T11:00:57.236062Z",
     "iopub.status.busy": "2022-03-18T11:00:57.235789Z",
     "iopub.status.idle": "2022-03-18T11:00:57.249010Z",
     "shell.execute_reply": "2022-03-18T11:00:57.249395Z"
    },
    "papermill": {
     "duration": 0.033834,
     "end_time": "2022-03-18T11:00:57.249519",
     "exception": false,
     "start_time": "2022-03-18T11:00:57.215685",
     "status": "completed"
    },
    "tags": []
   },
   "outputs": [],
   "source": [
    "def add_dataset(\n",
    "    labels,\n",
    "    domains,\n",
    "    pickle_path,\n",
    "    x_transforms,\n",
    "    episode_transforms,\n",
    "    domain_prefix,\n",
    "    num_examples_per_domain_per_label,\n",
    "    source_or_target_dataset:str,\n",
    "    iterator_seed=p.seed,\n",
    "    dataset_seed=p.dataset_seed,\n",
    "    n_shot=p.n_shot,\n",
    "    n_way=p.n_way,\n",
    "    n_query=p.n_query,\n",
    "    train_val_test_k_factors=(p.train_k_factor,p.val_k_factor,p.test_k_factor),\n",
    "):\n",
    "   \n",
    "    if x_transforms == []: x_transform = None\n",
    "    else: x_transform = get_chained_transform(x_transforms)\n",
    "    \n",
    "    if episode_transforms == []: episode_transform = None\n",
    "    else: raise Exception(\"episode_transforms not implemented\")\n",
    "    \n",
    "    episode_transform = lambda tup, _prefix=domain_prefix: (_prefix + str(tup[0]), tup[1])\n",
    "\n",
    "\n",
    "    eaf = Episodic_Accessor_Factory(\n",
    "        labels=labels,\n",
    "        domains=domains,\n",
    "        num_examples_per_domain_per_label=num_examples_per_domain_per_label,\n",
    "        iterator_seed=iterator_seed,\n",
    "        dataset_seed=dataset_seed,\n",
    "        n_shot=n_shot,\n",
    "        n_way=n_way,\n",
    "        n_query=n_query,\n",
    "        train_val_test_k_factors=train_val_test_k_factors,\n",
    "        pickle_path=pickle_path,\n",
    "        x_transform_func=x_transform,\n",
    "    )\n",
    "\n",
    "    train, val, test = eaf.get_train(), eaf.get_val(), eaf.get_test()\n",
    "    train = Lazy_Iterable_Wrapper(train, episode_transform)\n",
    "    val = Lazy_Iterable_Wrapper(val, episode_transform)\n",
    "    test = Lazy_Iterable_Wrapper(test, episode_transform)\n",
    "\n",
    "    if source_or_target_dataset==\"source\":\n",
    "        train_original_source.append(train)\n",
    "        val_original_source.append(val)\n",
    "        test_original_source.append(test)\n",
    "\n",
    "        p.domains_source.extend(\n",
    "            [domain_prefix + str(u) for u in domains]\n",
    "        )\n",
    "    elif source_or_target_dataset==\"target\":\n",
    "        train_original_target.append(train)\n",
    "        val_original_target.append(val)\n",
    "        test_original_target.append(test)\n",
    "        p.domains_target.extend(\n",
    "            [domain_prefix + str(u) for u in domains]\n",
    "        )\n",
    "    else:\n",
    "        raise Exception(f\"invalid source_or_target_dataset: {source_or_target_dataset}\")\n",
    "    "
   ]
  },
  {
   "cell_type": "code",
   "execution_count": 13,
   "id": "fe266617",
   "metadata": {
    "execution": {
     "iopub.execute_input": "2022-03-18T11:00:57.282820Z",
     "iopub.status.busy": "2022-03-18T11:00:57.282256Z",
     "iopub.status.idle": "2022-03-18T11:01:54.497334Z",
     "shell.execute_reply": "2022-03-18T11:01:54.496876Z"
    },
    "papermill": {
     "duration": 57.229721,
     "end_time": "2022-03-18T11:01:54.497445",
     "exception": false,
     "start_time": "2022-03-18T11:00:57.267724",
     "status": "completed"
    },
    "tags": []
   },
   "outputs": [],
   "source": [
    "for ds in p.datasets:\n",
    "    add_dataset(**ds)"
   ]
  },
  {
   "cell_type": "code",
   "execution_count": 14,
   "id": "b90d65ac",
   "metadata": {
    "execution": {
     "iopub.execute_input": "2022-03-18T11:01:54.531980Z",
     "iopub.status.busy": "2022-03-18T11:01:54.531718Z",
     "iopub.status.idle": "2022-03-18T11:01:54.545181Z",
     "shell.execute_reply": "2022-03-18T11:01:54.545480Z"
    },
    "papermill": {
     "duration": 0.028971,
     "end_time": "2022-03-18T11:01:54.545574",
     "exception": false,
     "start_time": "2022-03-18T11:01:54.516603",
     "status": "completed"
    },
    "tags": []
   },
   "outputs": [],
   "source": [
    "# from steves_utils.CORES.utils import (\n",
    "#     ALL_NODES,\n",
    "#     ALL_NODES_MINIMUM_1000_EXAMPLES,\n",
    "#     ALL_DAYS\n",
    "# )\n",
    "\n",
    "# add_dataset(\n",
    "#     labels=ALL_NODES,\n",
    "#     domains = ALL_DAYS,\n",
    "#     num_examples_per_domain_per_label=100,\n",
    "#     pickle_path=os.path.join(get_datasets_base_path(), \"cores.stratified_ds.2022A.pkl\"),\n",
    "#     source_or_target_dataset=\"target\",\n",
    "#     x_transform_func=global_x_transform_func,\n",
    "#     domain_modifier=lambda u: f\"cores_{u}\"\n",
    "# )"
   ]
  },
  {
   "cell_type": "code",
   "execution_count": 15,
   "id": "76db484d",
   "metadata": {
    "execution": {
     "iopub.execute_input": "2022-03-18T11:01:54.578931Z",
     "iopub.status.busy": "2022-03-18T11:01:54.578674Z",
     "iopub.status.idle": "2022-03-18T11:01:54.594001Z",
     "shell.execute_reply": "2022-03-18T11:01:54.593576Z"
    },
    "papermill": {
     "duration": 0.030781,
     "end_time": "2022-03-18T11:01:54.594099",
     "exception": false,
     "start_time": "2022-03-18T11:01:54.563318",
     "status": "completed"
    },
    "tags": []
   },
   "outputs": [],
   "source": [
    "# from steves_utils.ORACLE.utils_v2 import (\n",
    "#     ALL_DISTANCES_FEET,\n",
    "#     ALL_RUNS,\n",
    "#     ALL_SERIAL_NUMBERS,\n",
    "# )\n",
    "\n",
    "\n",
    "# add_dataset(\n",
    "#     labels=ALL_SERIAL_NUMBERS,\n",
    "#     domains = list(set(ALL_DISTANCES_FEET) - {2,62}),\n",
    "#     num_examples_per_domain_per_label=100,\n",
    "#     pickle_path=os.path.join(get_datasets_base_path(), \"oracle.Run2_framed_2000Examples_stratified_ds.2022A.pkl\"),\n",
    "#     source_or_target_dataset=\"source\",\n",
    "#     x_transform_func=global_x_transform_func,\n",
    "#     domain_modifier=lambda u: f\"oracle1_{u}\"\n",
    "# )\n"
   ]
  },
  {
   "cell_type": "code",
   "execution_count": 16,
   "id": "97dea9d2",
   "metadata": {
    "execution": {
     "iopub.execute_input": "2022-03-18T11:01:54.628817Z",
     "iopub.status.busy": "2022-03-18T11:01:54.628558Z",
     "iopub.status.idle": "2022-03-18T11:01:54.642397Z",
     "shell.execute_reply": "2022-03-18T11:01:54.642768Z"
    },
    "papermill": {
     "duration": 0.029457,
     "end_time": "2022-03-18T11:01:54.642887",
     "exception": false,
     "start_time": "2022-03-18T11:01:54.613430",
     "status": "completed"
    },
    "tags": []
   },
   "outputs": [],
   "source": [
    "# from steves_utils.ORACLE.utils_v2 import (\n",
    "#     ALL_DISTANCES_FEET,\n",
    "#     ALL_RUNS,\n",
    "#     ALL_SERIAL_NUMBERS,\n",
    "# )\n",
    "\n",
    "\n",
    "# add_dataset(\n",
    "#     labels=ALL_SERIAL_NUMBERS,\n",
    "#     domains = list(set(ALL_DISTANCES_FEET) - {2,62,56}),\n",
    "#     num_examples_per_domain_per_label=100,\n",
    "#     pickle_path=os.path.join(get_datasets_base_path(), \"oracle.Run2_framed_2000Examples_stratified_ds.2022A.pkl\"),\n",
    "#     source_or_target_dataset=\"source\",\n",
    "#     x_transform_func=global_x_transform_func,\n",
    "#     domain_modifier=lambda u: f\"oracle2_{u}\"\n",
    "# )"
   ]
  },
  {
   "cell_type": "code",
   "execution_count": 17,
   "id": "6f289866",
   "metadata": {
    "execution": {
     "iopub.execute_input": "2022-03-18T11:01:54.674082Z",
     "iopub.status.busy": "2022-03-18T11:01:54.673824Z",
     "iopub.status.idle": "2022-03-18T11:01:54.684471Z",
     "shell.execute_reply": "2022-03-18T11:01:54.684153Z"
    },
    "papermill": {
     "duration": 0.025603,
     "end_time": "2022-03-18T11:01:54.684548",
     "exception": false,
     "start_time": "2022-03-18T11:01:54.658945",
     "status": "completed"
    },
    "tags": []
   },
   "outputs": [],
   "source": [
    "# add_dataset(\n",
    "#     labels=list(range(19)),\n",
    "#     domains = [0,1,2],\n",
    "#     num_examples_per_domain_per_label=100,\n",
    "#     pickle_path=os.path.join(get_datasets_base_path(), \"metehan.stratified_ds.2022A.pkl\"),\n",
    "#     source_or_target_dataset=\"target\",\n",
    "#     x_transform_func=global_x_transform_func,\n",
    "#     domain_modifier=lambda u: f\"met_{u}\"\n",
    "# )"
   ]
  },
  {
   "cell_type": "code",
   "execution_count": 18,
   "id": "86a863c3",
   "metadata": {
    "execution": {
     "iopub.execute_input": "2022-03-18T11:01:54.719286Z",
     "iopub.status.busy": "2022-03-18T11:01:54.719005Z",
     "iopub.status.idle": "2022-03-18T11:01:54.733552Z",
     "shell.execute_reply": "2022-03-18T11:01:54.733924Z"
    },
    "papermill": {
     "duration": 0.030455,
     "end_time": "2022-03-18T11:01:54.734043",
     "exception": false,
     "start_time": "2022-03-18T11:01:54.703588",
     "status": "completed"
    },
    "tags": []
   },
   "outputs": [],
   "source": [
    "# # from steves_utils.wisig.utils import (\n",
    "# #     ALL_NODES_MINIMUM_100_EXAMPLES,\n",
    "# #     ALL_NODES_MINIMUM_500_EXAMPLES,\n",
    "# #     ALL_NODES_MINIMUM_1000_EXAMPLES,\n",
    "# #     ALL_DAYS\n",
    "# # )\n",
    "\n",
    "# import steves_utils.wisig.utils as wisig\n",
    "\n",
    "\n",
    "# add_dataset(\n",
    "#     labels=wisig.ALL_NODES_MINIMUM_100_EXAMPLES,\n",
    "#     domains = wisig.ALL_DAYS,\n",
    "#     num_examples_per_domain_per_label=100,\n",
    "#     pickle_path=os.path.join(get_datasets_base_path(), \"wisig.node3-19.stratified_ds.2022A.pkl\"),\n",
    "#     source_or_target_dataset=\"target\",\n",
    "#     x_transform_func=global_x_transform_func,\n",
    "#     domain_modifier=lambda u: f\"wisig_{u}\"\n",
    "# )"
   ]
  },
  {
   "cell_type": "code",
   "execution_count": 19,
   "id": "fd5442bc",
   "metadata": {
    "execution": {
     "iopub.execute_input": "2022-03-18T11:01:54.771911Z",
     "iopub.status.busy": "2022-03-18T11:01:54.771647Z",
     "iopub.status.idle": "2022-03-18T11:01:54.785148Z",
     "shell.execute_reply": "2022-03-18T11:01:54.785523Z"
    },
    "papermill": {
     "duration": 0.032723,
     "end_time": "2022-03-18T11:01:54.785643",
     "exception": false,
     "start_time": "2022-03-18T11:01:54.752920",
     "status": "completed"
    },
    "tags": []
   },
   "outputs": [],
   "source": [
    "###################################\n",
    "# Build the dataset\n",
    "###################################\n",
    "train_original_source = Iterable_Aggregator(train_original_source, p.seed)\n",
    "val_original_source = Iterable_Aggregator(val_original_source, p.seed)\n",
    "test_original_source = Iterable_Aggregator(test_original_source, p.seed)\n",
    "\n",
    "\n",
    "train_original_target = Iterable_Aggregator(train_original_target, p.seed)\n",
    "val_original_target = Iterable_Aggregator(val_original_target, p.seed)\n",
    "test_original_target = Iterable_Aggregator(test_original_target, p.seed)\n",
    "\n",
    "# For CNN We only use X and Y. And we only train on the source.\n",
    "# Properly form the data using a transform lambda and Lazy_Iterable_Wrapper. Finally wrap them in a dataloader\n",
    "\n",
    "transform_lambda = lambda ex: ex[1] # Original is (<domain>, <episode>) so we strip down to episode only\n",
    "\n",
    "train_processed_source = Lazy_Iterable_Wrapper(train_original_source, transform_lambda)\n",
    "val_processed_source   = Lazy_Iterable_Wrapper(val_original_source, transform_lambda)\n",
    "test_processed_source  = Lazy_Iterable_Wrapper(test_original_source, transform_lambda)\n",
    "\n",
    "train_processed_target = Lazy_Iterable_Wrapper(train_original_target, transform_lambda)\n",
    "val_processed_target   = Lazy_Iterable_Wrapper(val_original_target, transform_lambda)\n",
    "test_processed_target  = Lazy_Iterable_Wrapper(test_original_target, transform_lambda)\n",
    "\n",
    "datasets = EasyDict({\n",
    "    \"source\": {\n",
    "        \"original\": {\"train\":train_original_source, \"val\":val_original_source, \"test\":test_original_source},\n",
    "        \"processed\": {\"train\":train_processed_source, \"val\":val_processed_source, \"test\":test_processed_source}\n",
    "    },\n",
    "    \"target\": {\n",
    "        \"original\": {\"train\":train_original_target, \"val\":val_original_target, \"test\":test_original_target},\n",
    "        \"processed\": {\"train\":train_processed_target, \"val\":val_processed_target, \"test\":test_processed_target}\n",
    "    },\n",
    "})"
   ]
  },
  {
   "cell_type": "code",
   "execution_count": 20,
   "id": "5b3c01fc",
   "metadata": {
    "execution": {
     "iopub.execute_input": "2022-03-18T11:01:54.821795Z",
     "iopub.status.busy": "2022-03-18T11:01:54.821515Z",
     "iopub.status.idle": "2022-03-18T11:01:59.766024Z",
     "shell.execute_reply": "2022-03-18T11:01:59.766401Z"
    },
    "papermill": {
     "duration": 4.961733,
     "end_time": "2022-03-18T11:01:59.766509",
     "exception": false,
     "start_time": "2022-03-18T11:01:54.804776",
     "status": "completed"
    },
    "tags": []
   },
   "outputs": [
    {
     "name": "stdout",
     "output_type": "stream",
     "text": [
      "{'W_A_4', 'W_A_1', 'C_A_5', 'C_A_2', 'C_A_3', 'C_A_1', 'W_A_3', 'W_A_2', 'C_A_4'}\n"
     ]
    },
    {
     "name": "stdout",
     "output_type": "stream",
     "text": [
      "{'ORACLE.run1_38', 'ORACLE.run1_50', 'ORACLE.run1_26', 'ORACLE.run1_8', 'ORACLE.run1_14', 'ORACLE.run1_20', 'ORACLE.run1_32', 'ORACLE.run1_44'}\n"
     ]
    },
    {
     "name": "stdout",
     "output_type": "stream",
     "text": [
      "tensor([[[0., 0., 0.,  ..., 0., 0., 0.],\n",
      "         [0., 0., 0.,  ..., 0., 0., 0.]],\n",
      "\n",
      "        [[0., 0., 0.,  ..., 0., 0., 0.],\n",
      "         [0., 0., 0.,  ..., 0., 0., 0.]],\n",
      "\n",
      "        [[0., 0., 0.,  ..., 0., 0., 0.],\n",
      "         [0., 0., 0.,  ..., 0., 0., 0.]],\n",
      "\n",
      "        ...,\n",
      "\n",
      "        [[0., 0., 0.,  ..., 0., 0., 0.],\n",
      "         [0., 0., 0.,  ..., 0., 0., 0.]],\n",
      "\n",
      "        [[0., 0., 0.,  ..., 0., 0., 0.],\n",
      "         [0., 0., 0.,  ..., 0., 0., 0.]],\n",
      "\n",
      "        [[0., 0., 0.,  ..., 0., 0., 0.],\n",
      "         [0., 0., 0.,  ..., 0., 0., 0.]]])\n"
     ]
    }
   ],
   "source": [
    "from steves_utils.transforms import get_average_magnitude, get_average_power\n",
    "\n",
    "print(set([u for u,_ in val_original_source]))\n",
    "print(set([u for u,_ in val_original_target]))\n",
    "\n",
    "s_x, s_y, q_x, q_y, _ = next(iter(train_processed_source))\n",
    "print(s_x)\n",
    "\n",
    "# for ds in [\n",
    "#     train_processed_source,\n",
    "#     val_processed_source,\n",
    "#     test_processed_source,\n",
    "#     train_processed_target,\n",
    "#     val_processed_target,\n",
    "#     test_processed_target\n",
    "# ]:\n",
    "#     for s_x, s_y, q_x, q_y, _ in ds:\n",
    "#         for X in (s_x, q_x):\n",
    "#             for x in X:\n",
    "#                 assert np.isclose(get_average_magnitude(x.numpy()), 1.0)\n",
    "#                 assert np.isclose(get_average_power(x.numpy()), 1.0)\n",
    "                "
   ]
  },
  {
   "cell_type": "code",
   "execution_count": 21,
   "id": "bbdacba1",
   "metadata": {
    "execution": {
     "iopub.execute_input": "2022-03-18T11:01:59.819444Z",
     "iopub.status.busy": "2022-03-18T11:01:59.811658Z",
     "iopub.status.idle": "2022-03-18T11:01:59.871319Z",
     "shell.execute_reply": "2022-03-18T11:01:59.871546Z"
    },
    "papermill": {
     "duration": 0.081895,
     "end_time": "2022-03-18T11:01:59.871628",
     "exception": false,
     "start_time": "2022-03-18T11:01:59.789733",
     "status": "completed"
    },
    "tags": []
   },
   "outputs": [
    {
     "name": "stdout",
     "output_type": "stream",
     "text": [
      "(2, 256)\n"
     ]
    }
   ],
   "source": [
    "###################################\n",
    "# Build the model\n",
    "###################################\n",
    "# easfsl only wants a tuple for the shape\n",
    "model = Steves_Prototypical_Network(x_net, device=p.device, x_shape=tuple(p.x_shape))\n",
    "optimizer = Adam(params=model.parameters(), lr=p.lr)"
   ]
  },
  {
   "cell_type": "code",
   "execution_count": 22,
   "id": "22b39ac5",
   "metadata": {
    "execution": {
     "iopub.execute_input": "2022-03-18T11:01:59.903993Z",
     "iopub.status.busy": "2022-03-18T11:01:59.903542Z",
     "iopub.status.idle": "2022-03-18T11:08:10.599868Z",
     "shell.execute_reply": "2022-03-18T11:08:10.600266Z"
    },
    "papermill": {
     "duration": 370.713818,
     "end_time": "2022-03-18T11:08:10.600386",
     "exception": false,
     "start_time": "2022-03-18T11:01:59.886568",
     "status": "completed"
    },
    "tags": []
   },
   "outputs": [
    {
     "name": "stdout",
     "output_type": "stream",
     "text": [
      "epoch: 1, [batch: 1 / 2081], examples_per_second: 127.6679, train_label_loss: 2.7720, \n"
     ]
    },
    {
     "name": "stdout",
     "output_type": "stream",
     "text": [
      "epoch: 1, [batch: 209 / 2081], examples_per_second: 3173.5459, train_label_loss: 0.1927, \n"
     ]
    },
    {
     "name": "stdout",
     "output_type": "stream",
     "text": [
      "epoch: 1, [batch: 417 / 2081], examples_per_second: 3195.1253, train_label_loss: 1.0462, \n"
     ]
    },
    {
     "name": "stdout",
     "output_type": "stream",
     "text": [
      "epoch: 1, [batch: 625 / 2081], examples_per_second: 3202.2362, train_label_loss: 0.0383, \n"
     ]
    },
    {
     "name": "stdout",
     "output_type": "stream",
     "text": [
      "epoch: 1, [batch: 833 / 2081], examples_per_second: 3195.3069, train_label_loss: 1.2714, \n"
     ]
    },
    {
     "name": "stdout",
     "output_type": "stream",
     "text": [
      "epoch: 1, [batch: 1041 / 2081], examples_per_second: 3190.5684, train_label_loss: 0.0881, \n"
     ]
    },
    {
     "name": "stdout",
     "output_type": "stream",
     "text": [
      "epoch: 1, [batch: 1249 / 2081], examples_per_second: 3217.7578, train_label_loss: 0.4738, \n"
     ]
    },
    {
     "name": "stdout",
     "output_type": "stream",
     "text": [
      "epoch: 1, [batch: 1457 / 2081], examples_per_second: 3189.0952, train_label_loss: 0.5136, \n"
     ]
    },
    {
     "name": "stdout",
     "output_type": "stream",
     "text": [
      "epoch: 1, [batch: 1665 / 2081], examples_per_second: 3229.4278, train_label_loss: 0.2287, \n"
     ]
    },
    {
     "name": "stdout",
     "output_type": "stream",
     "text": [
      "epoch: 1, [batch: 1873 / 2081], examples_per_second: 3190.2073, train_label_loss: 0.2515, \n"
     ]
    },
    {
     "name": "stdout",
     "output_type": "stream",
     "text": [
      "=============================================================\n",
      "epoch: 1, source_val_acc_label: 0.8280, target_val_acc_label: 0.1463, source_val_label_loss: 76.3395, target_val_label_loss: 42.5016, \n",
      "=============================================================\n"
     ]
    },
    {
     "name": "stdout",
     "output_type": "stream",
     "text": [
      "New best\n"
     ]
    },
    {
     "name": "stdout",
     "output_type": "stream",
     "text": [
      "epoch: 2, [batch: 1 / 2079], examples_per_second: 10.5215, train_label_loss: 159.8598, \n"
     ]
    },
    {
     "name": "stdout",
     "output_type": "stream",
     "text": [
      "epoch: 2, [batch: 208 / 2079], examples_per_second: 3212.8230, train_label_loss: 0.8877, \n"
     ]
    },
    {
     "name": "stdout",
     "output_type": "stream",
     "text": [
      "epoch: 2, [batch: 416 / 2079], examples_per_second: 3237.2247, train_label_loss: 0.1762, \n"
     ]
    },
    {
     "name": "stdout",
     "output_type": "stream",
     "text": [
      "epoch: 2, [batch: 624 / 2079], examples_per_second: 3219.9518, train_label_loss: 0.3828, \n"
     ]
    },
    {
     "name": "stdout",
     "output_type": "stream",
     "text": [
      "epoch: 2, [batch: 832 / 2079], examples_per_second: 3222.2126, train_label_loss: 0.7328, \n"
     ]
    },
    {
     "name": "stdout",
     "output_type": "stream",
     "text": [
      "epoch: 2, [batch: 1040 / 2079], examples_per_second: 3215.2857, train_label_loss: 0.6039, \n"
     ]
    },
    {
     "name": "stdout",
     "output_type": "stream",
     "text": [
      "epoch: 2, [batch: 1247 / 2079], examples_per_second: 3213.3593, train_label_loss: 0.0410, \n"
     ]
    },
    {
     "name": "stdout",
     "output_type": "stream",
     "text": [
      "epoch: 2, [batch: 1455 / 2079], examples_per_second: 3193.5543, train_label_loss: 0.7497, \n"
     ]
    },
    {
     "name": "stdout",
     "output_type": "stream",
     "text": [
      "epoch: 2, [batch: 1663 / 2079], examples_per_second: 3219.3709, train_label_loss: 0.4580, \n"
     ]
    },
    {
     "name": "stdout",
     "output_type": "stream",
     "text": [
      "epoch: 2, [batch: 1871 / 2079], examples_per_second: 3239.3127, train_label_loss: 0.1704, \n"
     ]
    },
    {
     "name": "stdout",
     "output_type": "stream",
     "text": [
      "=============================================================\n",
      "epoch: 2, source_val_acc_label: 0.9300, target_val_acc_label: 0.2324, source_val_label_loss: 0.3084, target_val_label_loss: 2.2972, \n",
      "=============================================================\n"
     ]
    },
    {
     "name": "stdout",
     "output_type": "stream",
     "text": [
      "New best\n"
     ]
    },
    {
     "name": "stdout",
     "output_type": "stream",
     "text": [
      "epoch: 3, [batch: 1 / 2082], examples_per_second: 10.5463, train_label_loss: 0.4358, \n"
     ]
    },
    {
     "name": "stdout",
     "output_type": "stream",
     "text": [
      "epoch: 3, [batch: 209 / 2082], examples_per_second: 3200.6690, train_label_loss: 0.9630, \n"
     ]
    },
    {
     "name": "stdout",
     "output_type": "stream",
     "text": [
      "epoch: 3, [batch: 417 / 2082], examples_per_second: 3234.5640, train_label_loss: 0.5661, \n"
     ]
    },
    {
     "name": "stdout",
     "output_type": "stream",
     "text": [
      "epoch: 3, [batch: 625 / 2082], examples_per_second: 3224.8677, train_label_loss: 0.5551, \n"
     ]
    },
    {
     "name": "stdout",
     "output_type": "stream",
     "text": [
      "epoch: 3, [batch: 833 / 2082], examples_per_second: 3219.4701, train_label_loss: 0.4350, \n"
     ]
    },
    {
     "name": "stdout",
     "output_type": "stream",
     "text": [
      "epoch: 3, [batch: 1041 / 2082], examples_per_second: 3209.5139, train_label_loss: 0.0262, \n"
     ]
    },
    {
     "name": "stdout",
     "output_type": "stream",
     "text": [
      "epoch: 3, [batch: 1249 / 2082], examples_per_second: 3230.2121, train_label_loss: 0.0348, \n"
     ]
    },
    {
     "name": "stdout",
     "output_type": "stream",
     "text": [
      "epoch: 3, [batch: 1457 / 2082], examples_per_second: 3189.3223, train_label_loss: 0.2316, \n"
     ]
    },
    {
     "name": "stdout",
     "output_type": "stream",
     "text": [
      "epoch: 3, [batch: 1665 / 2082], examples_per_second: 3213.2946, train_label_loss: 0.1670, \n"
     ]
    },
    {
     "name": "stdout",
     "output_type": "stream",
     "text": [
      "epoch: 3, [batch: 1873 / 2082], examples_per_second: 3220.2256, train_label_loss: 0.3171, \n"
     ]
    },
    {
     "name": "stdout",
     "output_type": "stream",
     "text": [
      "=============================================================\n",
      "epoch: 3, source_val_acc_label: 0.9396, target_val_acc_label: 0.2177, source_val_label_loss: 0.2684, target_val_label_loss: 2.3327, \n",
      "=============================================================\n"
     ]
    },
    {
     "name": "stdout",
     "output_type": "stream",
     "text": [
      "epoch: 4, [batch: 1 / 2080], examples_per_second: 10.5451, train_label_loss: 0.1746, \n"
     ]
    },
    {
     "name": "stdout",
     "output_type": "stream",
     "text": [
      "epoch: 4, [batch: 208 / 2080], examples_per_second: 3183.0905, train_label_loss: 0.1357, \n"
     ]
    },
    {
     "name": "stdout",
     "output_type": "stream",
     "text": [
      "epoch: 4, [batch: 416 / 2080], examples_per_second: 3215.2037, train_label_loss: 0.0524, \n"
     ]
    },
    {
     "name": "stdout",
     "output_type": "stream",
     "text": [
      "epoch: 4, [batch: 624 / 2080], examples_per_second: 3202.3739, train_label_loss: 0.0360, \n"
     ]
    },
    {
     "name": "stdout",
     "output_type": "stream",
     "text": [
      "epoch: 4, [batch: 832 / 2080], examples_per_second: 3203.8817, train_label_loss: 0.1238, \n"
     ]
    },
    {
     "name": "stdout",
     "output_type": "stream",
     "text": [
      "epoch: 4, [batch: 1040 / 2080], examples_per_second: 3210.1740, train_label_loss: 0.0721, \n"
     ]
    },
    {
     "name": "stdout",
     "output_type": "stream",
     "text": [
      "epoch: 4, [batch: 1248 / 2080], examples_per_second: 3217.2677, train_label_loss: 0.0249, \n"
     ]
    },
    {
     "name": "stdout",
     "output_type": "stream",
     "text": [
      "epoch: 4, [batch: 1456 / 2080], examples_per_second: 3188.6992, train_label_loss: 0.1939, \n"
     ]
    },
    {
     "name": "stdout",
     "output_type": "stream",
     "text": [
      "epoch: 4, [batch: 1664 / 2080], examples_per_second: 3242.4338, train_label_loss: 0.2189, \n"
     ]
    },
    {
     "name": "stdout",
     "output_type": "stream",
     "text": [
      "epoch: 4, [batch: 1872 / 2080], examples_per_second: 3250.1876, train_label_loss: 0.4478, \n"
     ]
    },
    {
     "name": "stdout",
     "output_type": "stream",
     "text": [
      "=============================================================\n",
      "epoch: 4, source_val_acc_label: 0.9437, target_val_acc_label: 0.2178, source_val_label_loss: 0.2383, target_val_label_loss: 2.3453, \n",
      "=============================================================\n"
     ]
    },
    {
     "name": "stdout",
     "output_type": "stream",
     "text": [
      "epoch: 5, [batch: 1 / 2079], examples_per_second: 10.5495, train_label_loss: 0.0891, \n"
     ]
    },
    {
     "name": "stdout",
     "output_type": "stream",
     "text": [
      "epoch: 5, [batch: 208 / 2079], examples_per_second: 3187.8322, train_label_loss: 0.1761, \n"
     ]
    },
    {
     "name": "stdout",
     "output_type": "stream",
     "text": [
      "epoch: 5, [batch: 416 / 2079], examples_per_second: 3222.5887, train_label_loss: 0.3861, \n"
     ]
    },
    {
     "name": "stdout",
     "output_type": "stream",
     "text": [
      "epoch: 5, [batch: 624 / 2079], examples_per_second: 3217.2229, train_label_loss: 0.1242, \n"
     ]
    },
    {
     "name": "stdout",
     "output_type": "stream",
     "text": [
      "epoch: 5, [batch: 832 / 2079], examples_per_second: 3230.0533, train_label_loss: 0.0068, \n"
     ]
    },
    {
     "name": "stdout",
     "output_type": "stream",
     "text": [
      "epoch: 5, [batch: 1040 / 2079], examples_per_second: 3230.9279, train_label_loss: 0.5120, \n"
     ]
    },
    {
     "name": "stdout",
     "output_type": "stream",
     "text": [
      "epoch: 5, [batch: 1247 / 2079], examples_per_second: 3231.1418, train_label_loss: 0.4043, \n"
     ]
    },
    {
     "name": "stdout",
     "output_type": "stream",
     "text": [
      "epoch: 5, [batch: 1455 / 2079], examples_per_second: 3190.1531, train_label_loss: 0.3858, \n"
     ]
    },
    {
     "name": "stdout",
     "output_type": "stream",
     "text": [
      "epoch: 5, [batch: 1663 / 2079], examples_per_second: 3208.9605, train_label_loss: 0.1639, \n"
     ]
    },
    {
     "name": "stdout",
     "output_type": "stream",
     "text": [
      "epoch: 5, [batch: 1871 / 2079], examples_per_second: 3204.4569, train_label_loss: 0.2909, \n"
     ]
    },
    {
     "name": "stdout",
     "output_type": "stream",
     "text": [
      "=============================================================\n",
      "epoch: 5, source_val_acc_label: 0.9511, target_val_acc_label: 0.1915, source_val_label_loss: 0.2221, target_val_label_loss: 2.4092, \n",
      "=============================================================\n"
     ]
    },
    {
     "name": "stdout",
     "output_type": "stream",
     "text": [
      "epoch: 6, [batch: 1 / 2081], examples_per_second: 10.5406, train_label_loss: 0.3628, \n"
     ]
    },
    {
     "name": "stdout",
     "output_type": "stream",
     "text": [
      "epoch: 6, [batch: 209 / 2081], examples_per_second: 3197.2345, train_label_loss: 0.0367, \n"
     ]
    },
    {
     "name": "stdout",
     "output_type": "stream",
     "text": [
      "epoch: 6, [batch: 417 / 2081], examples_per_second: 3221.3152, train_label_loss: 0.1185, \n"
     ]
    },
    {
     "name": "stdout",
     "output_type": "stream",
     "text": [
      "epoch: 6, [batch: 625 / 2081], examples_per_second: 3220.2223, train_label_loss: 0.0302, \n"
     ]
    },
    {
     "name": "stdout",
     "output_type": "stream",
     "text": [
      "epoch: 6, [batch: 833 / 2081], examples_per_second: 3237.8022, train_label_loss: 0.0094, \n"
     ]
    },
    {
     "name": "stdout",
     "output_type": "stream",
     "text": [
      "epoch: 6, [batch: 1041 / 2081], examples_per_second: 3228.3233, train_label_loss: 0.6025, \n"
     ]
    },
    {
     "name": "stdout",
     "output_type": "stream",
     "text": [
      "epoch: 6, [batch: 1249 / 2081], examples_per_second: 3219.0364, train_label_loss: 0.3729, \n"
     ]
    },
    {
     "name": "stdout",
     "output_type": "stream",
     "text": [
      "epoch: 6, [batch: 1457 / 2081], examples_per_second: 3229.6678, train_label_loss: 0.0167, \n"
     ]
    },
    {
     "name": "stdout",
     "output_type": "stream",
     "text": [
      "epoch: 6, [batch: 1665 / 2081], examples_per_second: 3187.2593, train_label_loss: 0.2093, \n"
     ]
    },
    {
     "name": "stdout",
     "output_type": "stream",
     "text": [
      "epoch: 6, [batch: 1873 / 2081], examples_per_second: 3222.5642, train_label_loss: 0.1057, \n"
     ]
    },
    {
     "name": "stdout",
     "output_type": "stream",
     "text": [
      "=============================================================\n",
      "epoch: 6, source_val_acc_label: 0.9427, target_val_acc_label: 0.1898, source_val_label_loss: 0.2428, target_val_label_loss: 2.4203, \n",
      "=============================================================\n"
     ]
    },
    {
     "name": "stdout",
     "output_type": "stream",
     "text": [
      "Patience (3) exhausted\n"
     ]
    }
   ],
   "source": [
    "###################################\n",
    "# train\n",
    "###################################\n",
    "jig = PTN_Train_Eval_Test_Jig(model, p.BEST_MODEL_PATH, p.device)\n",
    "\n",
    "jig.train(\n",
    "    train_iterable=datasets.source.processed.train,\n",
    "    source_val_iterable=datasets.source.processed.val,\n",
    "    target_val_iterable=datasets.target.processed.val,\n",
    "    num_epochs=p.n_epoch,\n",
    "    num_logs_per_epoch=p.NUM_LOGS_PER_EPOCH,\n",
    "    patience=p.patience,\n",
    "    optimizer=optimizer,\n",
    "    criteria_for_best=p.criteria_for_best,\n",
    ")"
   ]
  },
  {
   "cell_type": "code",
   "execution_count": 23,
   "id": "31e8fabf",
   "metadata": {
    "execution": {
     "iopub.execute_input": "2022-03-18T11:08:10.659287Z",
     "iopub.status.busy": "2022-03-18T11:08:10.659024Z",
     "iopub.status.idle": "2022-03-18T11:08:10.676756Z",
     "shell.execute_reply": "2022-03-18T11:08:10.676292Z"
    },
    "papermill": {
     "duration": 0.046748,
     "end_time": "2022-03-18T11:08:10.676845",
     "exception": false,
     "start_time": "2022-03-18T11:08:10.630097",
     "status": "completed"
    },
    "tags": []
   },
   "outputs": [],
   "source": [
    "total_experiment_time_secs = time.time() - start_time_secs"
   ]
  },
  {
   "cell_type": "code",
   "execution_count": 24,
   "id": "87b9595b",
   "metadata": {
    "execution": {
     "iopub.execute_input": "2022-03-18T11:08:10.739666Z",
     "iopub.status.busy": "2022-03-18T11:08:10.739394Z",
     "iopub.status.idle": "2022-03-18T11:09:15.165542Z",
     "shell.execute_reply": "2022-03-18T11:09:15.165966Z"
    },
    "papermill": {
     "duration": 64.457995,
     "end_time": "2022-03-18T11:09:15.166100",
     "exception": false,
     "start_time": "2022-03-18T11:08:10.708105",
     "status": "completed"
    },
    "tags": []
   },
   "outputs": [],
   "source": [
    "###################################\n",
    "# Evaluate the model\n",
    "###################################\n",
    "source_test_label_accuracy, source_test_label_loss = jig.test(datasets.source.processed.test)\n",
    "target_test_label_accuracy, target_test_label_loss = jig.test(datasets.target.processed.test)\n",
    "\n",
    "source_val_label_accuracy, source_val_label_loss = jig.test(datasets.source.processed.val)\n",
    "target_val_label_accuracy, target_val_label_loss = jig.test(datasets.target.processed.val)\n",
    "\n",
    "history = jig.get_history()\n",
    "\n",
    "total_epochs_trained = len(history[\"epoch_indices\"])\n",
    "\n",
    "val_dl = Iterable_Aggregator((datasets.source.original.val,datasets.target.original.val))\n",
    "\n",
    "confusion = ptn_confusion_by_domain_over_dataloader(model, p.device, val_dl)\n",
    "per_domain_accuracy = per_domain_accuracy_from_confusion(confusion)\n",
    "\n",
    "# Add a key to per_domain_accuracy for if it was a source domain\n",
    "for domain, accuracy in per_domain_accuracy.items():\n",
    "    per_domain_accuracy[domain] = {\n",
    "        \"accuracy\": accuracy,\n",
    "        \"source?\": domain in p.domains_source\n",
    "    }\n",
    "\n",
    "# Do an independent accuracy assesment JUST TO BE SURE!\n",
    "# _source_test_label_accuracy = independent_accuracy_assesment(model, datasets.source.processed.test, p.device)\n",
    "# _target_test_label_accuracy = independent_accuracy_assesment(model, datasets.target.processed.test, p.device)\n",
    "# _source_val_label_accuracy = independent_accuracy_assesment(model, datasets.source.processed.val, p.device)\n",
    "# _target_val_label_accuracy = independent_accuracy_assesment(model, datasets.target.processed.val, p.device)\n",
    "\n",
    "# assert(_source_test_label_accuracy == source_test_label_accuracy)\n",
    "# assert(_target_test_label_accuracy == target_test_label_accuracy)\n",
    "# assert(_source_val_label_accuracy == source_val_label_accuracy)\n",
    "# assert(_target_val_label_accuracy == target_val_label_accuracy)\n",
    "\n",
    "experiment = {\n",
    "    \"experiment_name\": p.experiment_name,\n",
    "    \"parameters\": dict(p),\n",
    "    \"results\": {\n",
    "        \"source_test_label_accuracy\": source_test_label_accuracy,\n",
    "        \"source_test_label_loss\": source_test_label_loss,\n",
    "        \"target_test_label_accuracy\": target_test_label_accuracy,\n",
    "        \"target_test_label_loss\": target_test_label_loss,\n",
    "        \"source_val_label_accuracy\": source_val_label_accuracy,\n",
    "        \"source_val_label_loss\": source_val_label_loss,\n",
    "        \"target_val_label_accuracy\": target_val_label_accuracy,\n",
    "        \"target_val_label_loss\": target_val_label_loss,\n",
    "        \"total_epochs_trained\": total_epochs_trained,\n",
    "        \"total_experiment_time_secs\": total_experiment_time_secs,\n",
    "        \"confusion\": confusion,\n",
    "        \"per_domain_accuracy\": per_domain_accuracy,\n",
    "    },\n",
    "    \"history\": history,\n",
    "    \"dataset_metrics\": get_dataset_metrics(datasets, \"ptn\"),\n",
    "}"
   ]
  },
  {
   "cell_type": "code",
   "execution_count": 25,
   "id": "54a21829",
   "metadata": {
    "execution": {
     "iopub.execute_input": "2022-03-18T11:09:15.228165Z",
     "iopub.status.busy": "2022-03-18T11:09:15.227903Z",
     "iopub.status.idle": "2022-03-18T11:09:15.354012Z",
     "shell.execute_reply": "2022-03-18T11:09:15.354452Z"
    },
    "papermill": {
     "duration": 0.155301,
     "end_time": "2022-03-18T11:09:15.354594",
     "exception": false,
     "start_time": "2022-03-18T11:09:15.199293",
     "status": "completed"
    },
    "tags": []
   },
   "outputs": [
    {
     "data": {
      "image/png": "[encoded data removed]",
      "text/plain": [
       "<Figure size 1080x504 with 1 Axes>"
      ]
     },
     "metadata": {
      "needs_background": "light"
     },
     "output_type": "display_data"
    }
   ],
   "source": [
    "ax = get_loss_curve(experiment)\n",
    "plt.show()"
   ]
  },
  {
   "cell_type": "code",
   "execution_count": 26,
   "id": "fd8a0f60",
   "metadata": {
    "execution": {
     "iopub.execute_input": "2022-03-18T11:09:15.414242Z",
     "iopub.status.busy": "2022-03-18T11:09:15.413521Z",
     "iopub.status.idle": "2022-03-18T11:09:15.557669Z",
     "shell.execute_reply": "2022-03-18T11:09:15.557912Z"
    },
    "papermill": {
     "duration": 0.173096,
     "end_time": "2022-03-18T11:09:15.557994",
     "exception": false,
     "start_time": "2022-03-18T11:09:15.384898",
     "status": "completed"
    },
    "tags": []
   },
   "outputs": [
    {
     "data": {
      "text/plain": [
       "<AxesSubplot:title={'center':'Results'}>"
      ]
     },
     "execution_count": 26,
     "metadata": {},
     "output_type": "execute_result"
    },
    {
     "data": {
      "image/png": "[encoded data removed]",
      "text/plain": [
       "<Figure size 1080x504 with 1 Axes>"
      ]
     },
     "metadata": {
      "needs_background": "light"
     },
     "output_type": "display_data"
    }
   ],
   "source": [
    "get_results_table(experiment)"
   ]
  },
  {
   "cell_type": "code",
   "execution_count": 27,
   "id": "cf8dc689",
   "metadata": {
    "execution": {
     "iopub.execute_input": "2022-03-18T11:09:15.618395Z",
     "iopub.status.busy": "2022-03-18T11:09:15.617604Z",
     "iopub.status.idle": "2022-03-18T11:09:15.777926Z",
     "shell.execute_reply": "2022-03-18T11:09:15.778342Z"
    },
    "papermill": {
     "duration": 0.190796,
     "end_time": "2022-03-18T11:09:15.778474",
     "exception": false,
     "start_time": "2022-03-18T11:09:15.587678",
     "status": "completed"
    },
    "tags": []
   },
   "outputs": [
    {
     "data": {
      "text/plain": [
       "<AxesSubplot:title={'center':'Per Domain Validation Accuracy'}, xlabel='domain'>"
      ]
     },
     "execution_count": 27,
     "metadata": {},
     "output_type": "execute_result"
    },
    {
     "data": {
      "image/png": "[encoded data removed]",
      "text/plain": [
       "<Figure size 1080x504 with 1 Axes>"
      ]
     },
     "metadata": {
      "needs_background": "light"
     },
     "output_type": "display_data"
    }
   ],
   "source": [
    "get_domain_accuracies(experiment)"
   ]
  },
  {
   "cell_type": "code",
   "execution_count": 28,
   "id": "a74ae082",
   "metadata": {
    "execution": {
     "iopub.execute_input": "2022-03-18T11:09:15.845235Z",
     "iopub.status.busy": "2022-03-18T11:09:15.844977Z",
     "iopub.status.idle": "2022-03-18T11:09:15.860188Z",
     "shell.execute_reply": "2022-03-18T11:09:15.859775Z"
    },
    "papermill": {
     "duration": 0.047406,
     "end_time": "2022-03-18T11:09:15.860294",
     "exception": false,
     "start_time": "2022-03-18T11:09:15.812888",
     "status": "completed"
    },
    "tags": []
   },
   "outputs": [
    {
     "name": "stdout",
     "output_type": "stream",
     "text": [
      "Source Test Label Accuracy: 0.9240154109589042 Target Test Label Accuracy: 0.23219401041666668\n",
      "Source Val Label Accuracy: 0.9300085616438356 Target Val Label Accuracy: 0.23235677083333334\n"
     ]
    }
   ],
   "source": [
    "print(\"Source Test Label Accuracy:\", experiment[\"results\"][\"source_test_label_accuracy\"], \"Target Test Label Accuracy:\", experiment[\"results\"][\"target_test_label_accuracy\"])\n",
    "print(\"Source Val Label Accuracy:\", experiment[\"results\"][\"source_val_label_accuracy\"], \"Target Val Label Accuracy:\", experiment[\"results\"][\"target_val_label_accuracy\"])"
   ]
  },
  {
   "cell_type": "code",
   "execution_count": 29,
   "id": "dacca602",
   "metadata": {
    "execution": {
     "iopub.execute_input": "2022-03-18T11:09:15.924126Z",
     "iopub.status.busy": "2022-03-18T11:09:15.923868Z",
     "iopub.status.idle": "2022-03-18T11:09:15.939944Z",
     "shell.execute_reply": "2022-03-18T11:09:15.940271Z"
    },
    "papermill": {
     "duration": 0.048172,
     "end_time": "2022-03-18T11:09:15.940372",
     "exception": false,
     "start_time": "2022-03-18T11:09:15.892200",
     "status": "completed"
    },
    "tags": [
     "experiment_json"
    ]
   },
   "outputs": [
    {
     "data": {
      "text/plain": [
       "'{\"experiment_name\": \"tl_3-jitter1:cores+wisig -> oracle.run1.framed\", \"parameters\": {\"experiment_name\": \"tl_3-jitter1:cores+wisig -> oracle.run1.framed\", \"device\": \"cuda\", \"lr\": 0.001, \"seed\": 1337, \"dataset_seed\": 1337, \"n_shot\": 3, \"n_query\": 2, \"train_k_factor\": 3, \"val_k_factor\": 2, \"test_k_factor\": 2, \"torch_default_dtype\": \"torch.float32\", \"n_epoch\": 50, \"patience\": 3, \"criteria_for_best\": \"target_loss\", \"x_net\": [{\"class\": \"nnReshape\", \"kargs\": {\"shape\": [-1, 1, 2, 256]}}, {\"class\": \"Conv2d\", \"kargs\": {\"in_channels\": 1, \"out_channels\": 256, \"kernel_size\": [1, 7], \"bias\": false, \"padding\": [0, 3]}}, {\"class\": \"ReLU\", \"kargs\": {\"inplace\": true}}, {\"class\": \"BatchNorm2d\", \"kargs\": {\"num_features\": 256}}, {\"class\": \"Conv2d\", \"kargs\": {\"in_channels\": 256, \"out_channels\": 80, \"kernel_size\": [2, 7], \"bias\": true, \"padding\": [0, 3]}}, {\"class\": \"ReLU\", \"kargs\": {\"inplace\": true}}, {\"class\": \"BatchNorm2d\", \"kargs\": {\"num_features\": 80}}, {\"class\": \"Flatten\", \"kargs\": {}}, {\"class\": \"Linear\", \"kargs\": {\"in_features\": 20480, \"out_features\": 256}}, {\"class\": \"ReLU\", \"kargs\": {\"inplace\": true}}, {\"class\": \"BatchNorm1d\", \"kargs\": {\"num_features\": 256}}, {\"class\": \"Linear\", \"kargs\": {\"in_features\": 256, \"out_features\": 256}}], \"NUM_LOGS_PER_EPOCH\": 10, \"BEST_MODEL_PATH\": \"./best_model.pth\", \"n_way\": 16, \"datasets\": [{\"labels\": [\"1-10.\", \"1-11.\", \"1-15.\", \"1-16.\", \"1-17.\", \"1-18.\", \"1-19.\", \"10-4.\", \"10-7.\", \"11-1.\", \"11-14.\", \"11-17.\", \"11-20.\", \"11-7.\", \"13-20.\", \"13-8.\", \"14-10.\", \"14-11.\", \"14-14.\", \"14-7.\", \"15-1.\", \"15-20.\", \"16-1.\", \"16-16.\", \"17-10.\", \"17-11.\", \"17-2.\", \"19-1.\", \"19-16.\", \"19-19.\", \"19-20.\", \"19-3.\", \"2-10.\", \"2-11.\", \"2-17.\", \"2-18.\", \"2-20.\", \"2-3.\", \"2-4.\", \"2-5.\", \"2-6.\", \"2-7.\", \"2-8.\", \"3-13.\", \"3-18.\", \"3-3.\", \"4-1.\", \"4-10.\", \"4-11.\", \"4-19.\", \"5-5.\", \"6-15.\", \"7-10.\", \"7-14.\", \"8-18.\", \"8-20.\", \"8-3.\", \"8-8.\"], \"domains\": [1, 2, 3, 4, 5], \"num_examples_per_domain_per_label\": 100, \"pickle_path\": \"/mnt/wd500GB/CSC500/csc500-main/datasets/cores.stratified_ds.2022A.pkl\", \"source_or_target_dataset\": \"source\", \"x_transforms\": [\"unit_mag\", \"jitter_256_1\", \"take_200\"], \"episode_transforms\": [], \"domain_prefix\": \"C_A_\"}, {\"labels\": [\"1-10\", \"1-12\", \"1-14\", \"1-16\", \"1-18\", \"1-19\", \"1-8\", \"10-11\", \"10-17\", \"10-4\", \"10-7\", \"11-1\", \"11-10\", \"11-19\", \"11-20\", \"11-4\", \"11-7\", \"12-19\", \"12-20\", \"12-7\", \"13-14\", \"13-18\", \"13-19\", \"13-20\", \"13-3\", \"13-7\", \"14-10\", \"14-11\", \"14-12\", \"14-13\", \"14-14\", \"14-19\", \"14-20\", \"14-7\", \"14-8\", \"14-9\", \"15-1\", \"15-19\", \"15-6\", \"16-1\", \"16-16\", \"16-19\", \"16-20\", \"17-10\", \"17-11\", \"18-1\", \"18-10\", \"18-11\", \"18-12\", \"18-13\", \"18-14\", \"18-15\", \"18-16\", \"18-17\", \"18-19\", \"18-2\", \"18-20\", \"18-4\", \"18-5\", \"18-7\", \"18-8\", \"18-9\", \"19-1\", \"19-10\", \"19-11\", \"19-12\", \"19-13\", \"19-14\", \"19-15\", \"19-19\", \"19-2\", \"19-20\", \"19-3\", \"19-4\", \"19-6\", \"19-7\", \"19-8\", \"19-9\", \"2-1\", \"2-13\", \"2-15\", \"2-3\", \"2-4\", \"2-5\", \"2-6\", \"2-7\", \"2-8\", \"20-1\", \"20-12\", \"20-14\", \"20-15\", \"20-16\", \"20-18\", \"20-19\", \"20-20\", \"20-3\", \"20-4\", \"20-5\", \"20-7\", \"20-8\", \"3-1\", \"3-13\", \"3-18\", \"3-2\", \"3-8\", \"4-1\", \"4-10\", \"4-11\", \"5-1\", \"5-5\", \"6-1\", \"6-15\", \"6-6\", \"7-10\", \"7-11\", \"7-12\", \"7-13\", \"7-14\", \"7-7\", \"7-8\", \"7-9\", \"8-1\", \"8-13\", \"8-14\", \"8-18\", \"8-20\", \"8-3\", \"8-8\", \"9-1\", \"9-7\"], \"domains\": [1, 2, 3, 4], \"num_examples_per_domain_per_label\": 100, \"pickle_path\": \"/mnt/wd500GB/CSC500/csc500-main/datasets/wisig.node3-19.stratified_ds.2022A.pkl\", \"source_or_target_dataset\": \"source\", \"x_transforms\": [\"unit_mag\", \"jitter_256_1\", \"take_200\"], \"episode_transforms\": [], \"domain_prefix\": \"W_A_\"}, {\"labels\": [\"3123D52\", \"3123D65\", \"3123D79\", \"3123D80\", \"3123D54\", \"3123D70\", \"3123D7B\", \"3123D89\", \"3123D58\", \"3123D76\", \"3123D7D\", \"3123EFE\", \"3123D64\", \"3123D78\", \"3123D7E\", \"3124E4A\"], \"domains\": [32, 38, 8, 44, 14, 50, 20, 26], \"num_examples_per_domain_per_label\": 2000, \"pickle_path\": \"/mnt/wd500GB/CSC500/csc500-main/datasets/oracle.Run1_framed_2000Examples_stratified_ds.2022A.pkl\", \"source_or_target_dataset\": \"target\", \"x_transforms\": [\"unit_mag\", \"jitter_256_1\", \"take_200\", \"resample_20Msps_to_25Msps\"], \"episode_transforms\": [], \"domain_prefix\": \"ORACLE.run1_\"}], \"x_shape\": [2, 256], \"domains_source\": [\"C_A_1\", \"C_A_2\", \"C_A_3\", \"C_A_4\", \"C_A_5\", \"W_A_1\", \"W_A_2\", \"W_A_3\", \"W_A_4\"], \"domains_target\": [\"ORACLE.run1_32\", \"ORACLE.run1_38\", \"ORACLE.run1_8\", \"ORACLE.run1_44\", \"ORACLE.run1_14\", \"ORACLE.run1_50\", \"ORACLE.run1_20\", \"ORACLE.run1_26\"]}, \"results\": {\"source_test_label_accuracy\": 0.9240154109589042, \"source_test_label_loss\": 0.32369348406791687, \"target_test_label_accuracy\": 0.23219401041666668, \"target_test_label_loss\": 2.2987332344055176, \"source_val_label_accuracy\": 0.9300085616438356, \"source_val_label_loss\": 0.3084106743335724, \"target_val_label_accuracy\": 0.23235677083333334, \"target_val_label_loss\": 2.2972424030303955, \"total_epochs_trained\": 6, \"total_experiment_time_secs\": 433.57034730911255, \"confusion\": {\"C_A_3\": {\"43\": {\"43\": 12}, \"9\": {\"9\": 12}, \"6\": {\"6\": 10}, \"3\": {\"18\": 1, \"3\": 10, \"8\": 1}, \"16\": {\"16\": 12}, \"51\": {\"51\": 12}, \"31\": {\"31\": 12}, \"46\": {\"46\": 10}, \"19\": {\"19\": 8}, \"8\": {\"8\": 12}, \"18\": {\"18\": 12}, \"37\": {\"37\": 12}, \"24\": {\"24\": 12}, \"10\": {\"10\": 12}, \"44\": {\"44\": 10}, \"14\": {\"14\": 8, \"29\": 3, \"0\": 1}, \"38\": {\"38\": 10}, \"53\": {\"53\": 12}, \"20\": {\"20\": 12}, \"32\": {\"32\": 11, \"36\": 1}, \"36\": {\"36\": 10}, \"33\": {\"33\": 12}, \"56\": {\"56\": 12}, \"23\": {\"23\": 12}, \"54\": {\"54\": 10}, \"34\": {\"34\": 12}, \"13\": {\"13\": 12}, \"2\": {\"2\": 12}, \"55\": {\"55\": 10}, \"21\": {\"21\": 10}, \"49\": {\"49\": 10}, \"25\": {\"25\": 12}, \"5\": {\"5\": 12}, \"50\": {\"50\": 8}, \"40\": {\"40\": 11, \"39\": 1}, \"57\": {\"57\": 8}, \"22\": {\"22\": 10}, \"1\": {\"1\": 10}, \"17\": {\"17\": 12}, \"41\": {\"41\": 12}, \"4\": {\"4\": 10}, \"7\": {\"7\": 10}, \"26\": {\"26\": 10}, \"29\": {\"29\": 12}, \"52\": {\"52\": 12}, \"15\": {\"15\": 12}, \"35\": {\"35\": 12}, \"42\": {\"42\": 12}, \"30\": {\"30\": 10}, \"27\": {\"27\": 8}, \"45\": {\"45\": 10}, \"0\": {\"0\": 12}, \"28\": {\"28\": 12}, \"47\": {\"47\": 12}, \"11\": {\"11\": 10}, \"39\": {\"39\": 10}, \"48\": {\"48\": 12}, \"12\": {\"12\": 8}}, \"C_A_4\": {\"35\": {\"35\": 10}, \"25\": {\"25\": 12}, \"24\": {\"24\": 10}, \"48\": {\"48\": 12}, \"51\": {\"51\": 12}, \"13\": {\"13\": 12}, \"14\": {\"14\": 8}, \"32\": {\"32\": 12}, \"30\": {\"30\": 12}, \"34\": {\"34\": 10}, \"9\": {\"9\": 12}, \"1\": {\"1\": 12}, \"0\": {\"0\": 12}, \"38\": {\"38\": 12}, \"22\": {\"22\": 8}, \"40\": {\"40\": 12}, \"39\": {\"39\": 11, \"54\": 1}, \"46\": {\"46\": 11, \"47\": 1}, \"36\": {\"36\": 12}, \"50\": {\"50\": 12}, \"49\": {\"49\": 12}, \"17\": {\"17\": 12}, \"45\": {\"45\": 11, \"17\": 1}, \"6\": {\"6\": 12}, \"8\": {\"8\": 12}, \"5\": {\"5\": 9, \"28\": 1}, \"33\": {\"33\": 12}, \"31\": {\"31\": 12}, \"37\": {\"37\": 10}, \"47\": {\"47\": 8}, \"15\": {\"15\": 9, \"11\": 1}, \"7\": {\"7\": 12}, \"20\": {\"20\": 12}, \"4\": {\"4\": 12}, \"54\": {\"54\": 11, \"39\": 1}, \"44\": {\"44\": 12}, \"3\": {\"3\": 10, \"18\": 1, \"53\": 1}, \"11\": {\"11\": 10}, \"27\": {\"27\": 10}, \"19\": {\"19\": 12}, \"55\": {\"55\": 12}, \"16\": {\"16\": 12}, \"2\": {\"2\": 10}, \"52\": {\"52\": 10}, \"42\": {\"42\": 10}, \"26\": {\"26\": 12}, \"10\": {\"10\": 12}, \"53\": {\"53\": 10}, \"28\": {\"28\": 12}, \"21\": {\"21\": 10}, \"57\": {\"57\": 10}, \"23\": {\"23\": 8}, \"43\": {\"43\": 10}, \"12\": {\"12\": 12}, \"41\": {\"41\": 12}, \"56\": {\"56\": 8}, \"18\": {\"18\": 10}, \"29\": {\"29\": 8}}, \"C_A_5\": {\"47\": {\"47\": 10}, \"53\": {\"53\": 12}, \"29\": {\"29\": 12}, \"52\": {\"52\": 12}, \"55\": {\"55\": 12}, \"17\": {\"17\": 12}, \"42\": {\"42\": 12}, \"33\": {\"33\": 10}, \"11\": {\"11\": 12}, \"19\": {\"19\": 8}, \"1\": {\"1\": 12}, \"44\": {\"44\": 12}, \"49\": {\"49\": 12}, \"4\": {\"4\": 12}, \"6\": {\"6\": 10, \"17\": 2}, \"39\": {\"39\": 12}, \"13\": {\"13\": 12}, \"5\": {\"5\": 10}, \"16\": {\"16\": 10}, \"25\": {\"25\": 12}, \"45\": {\"45\": 12}, \"7\": {\"7\": 10}, \"22\": {\"22\": 12}, \"40\": {\"40\": 12}, \"38\": {\"38\": 12}, \"35\": {\"35\": 8}, \"56\": {\"56\": 12}, \"50\": {\"50\": 10}, \"0\": {\"0\": 12}, \"10\": {\"10\": 12}, \"27\": {\"27\": 12}, \"20\": {\"20\": 10}, \"36\": {\"36\": 8}, \"34\": {\"34\": 12}, \"30\": {\"30\": 12}, \"2\": {\"2\": 10}, \"15\": {\"15\": 11, \"11\": 1}, \"18\": {\"18\": 12}, \"32\": {\"32\": 12}, \"31\": {\"31\": 12}, \"57\": {\"57\": 12}, \"48\": {\"48\": 8}, \"28\": {\"28\": 10}, \"14\": {\"14\": 5, \"5\": 1, \"0\": 2, \"32\": 1, \"46\": 1, \"44\": 1, \"31\": 1}, \"3\": {\"3\": 12}, \"8\": {\"8\": 12}, \"9\": {\"9\": 12}, \"21\": {\"21\": 10}, \"41\": {\"41\": 12}, \"24\": {\"24\": 12}, \"46\": {\"46\": 10}, \"43\": {\"43\": 10}, \"54\": {\"54\": 10}, \"23\": {\"23\": 10}, \"37\": {\"37\": 10}, \"12\": {\"12\": 10}, \"26\": {\"26\": 10}, \"51\": {\"51\": 6}}, \"W_A_3\": {\"109\": {\"109\": 12}, \"127\": {\"127\": 12}, \"14\": {\"14\": 12}, \"7\": {\"7\": 12}, \"129\": {\"129\": 12}, \"57\": {\"57\": 12}, \"84\": {\"84\": 10, \"111\": 1, \"30\": 1}, \"114\": {\"114\": 12}, \"44\": {\"44\": 8, \"100\": 1, \"3\": 1, \"29\": 1, \"113\": 1}, \"21\": {\"21\": 12}, \"46\": {\"46\": 12}, \"100\": {\"100\": 10, \"16\": 2}, \"63\": {\"63\": 8, \"21\": 1, \"6\": 1, \"11\": 1, \"123\": 1}, \"24\": {\"24\": 8, \"21\": 1, \"36\": 2, \"15\": 1}, \"107\": {\"107\": 11, \"84\": 1}, \"35\": {\"57\": 1, \"35\": 8, \"7\": 1}, \"81\": {\"81\": 12}, \"64\": {\"64\": 12}, \"59\": {\"36\": 1, \"59\": 11}, \"33\": {\"33\": 12}, \"34\": {\"34\": 9, \"60\": 1, \"58\": 1, \"6\": 1}, \"36\": {\"36\": 12}, \"79\": {\"79\": 12}, \"80\": {\"80\": 11, \"127\": 1}, \"77\": {\"77\": 12}, \"22\": {\"22\": 10, \"57\": 1, \"86\": 1}, \"124\": {\"124\": 12}, \"2\": {\"64\": 1, \"2\": 9, \"117\": 2}, \"87\": {\"33\": 2, \"67\": 1, \"87\": 9}, \"105\": {\"105\": 12}, \"95\": {\"95\": 12}, \"43\": {\"43\": 8, \"78\": 1, \"33\": 1, \"44\": 2}, \"56\": {\"56\": 10}, \"18\": {\"18\": 12}, \"85\": {\"85\": 12}, \"113\": {\"113\": 11, \"31\": 1}, \"97\": {\"97\": 11, \"27\": 1}, \"86\": {\"86\": 12}, \"128\": {\"43\": 3, \"128\": 6, \"122\": 1, \"103\": 1, \"60\": 1}, \"123\": {\"123\": 12}, \"8\": {\"8\": 12}, \"110\": {\"110\": 12}, \"126\": {\"126\": 10, \"39\": 2}, \"101\": {\"101\": 12}, \"115\": {\"115\": 12}, \"49\": {\"49\": 10, \"42\": 1, \"85\": 1}, \"45\": {\"45\": 12}, \"78\": {\"43\": 1, \"78\": 6, \"82\": 1, \"13\": 1, \"127\": 3}, \"65\": {\"65\": 9, \"81\": 1}, \"54\": {\"54\": 12}, \"31\": {\"31\": 10}, \"42\": {\"49\": 2, \"42\": 5, \"36\": 1, \"15\": 1, \"119\": 1, \"112\": 1, \"82\": 1}, \"68\": {\"68\": 12}, \"15\": {\"15\": 12}, \"69\": {\"69\": 12}, \"17\": {\"31\": 1, \"17\": 4, \"68\": 1, \"37\": 2, \"39\": 1, \"57\": 1}, \"73\": {\"73\": 12}, \"121\": {\"121\": 12}, \"102\": {\"102\": 12}, \"48\": {\"48\": 6, \"37\": 3, \"65\": 1, \"119\": 1, \"86\": 1}, \"23\": {\"121\": 2, \"23\": 4, \"60\": 1, \"128\": 1, \"67\": 1, \"126\": 1, \"25\": 2}, \"108\": {\"108\": 11, \"42\": 1}, \"53\": {\"53\": 12}, \"94\": {\"94\": 10}, \"41\": {\"41\": 12}, \"58\": {\"58\": 12}, \"29\": {\"29\": 12}, \"116\": {\"116\": 6, \"123\": 1, \"44\": 2, \"92\": 1, \"31\": 1, \"11\": 1}, \"60\": {\"60\": 10, \"70\": 1, \"128\": 1}, \"104\": {\"104\": 10, \"38\": 2}, \"106\": {\"106\": 12}, \"66\": {\"66\": 12}, \"47\": {\"47\": 12}, \"40\": {\"40\": 10, \"105\": 2}, \"82\": {\"82\": 11, \"115\": 1}, \"13\": {\"78\": 1, \"19\": 1, \"127\": 1, \"13\": 4, \"90\": 1, \"120\": 1, \"40\": 1, \"11\": 2}, \"19\": {\"11\": 1, \"19\": 6, \"128\": 1, \"100\": 1, \"29\": 1, \"12\": 1, \"8\": 1}, \"72\": {\"72\": 12}, \"9\": {\"9\": 12}, \"67\": {\"67\": 12}, \"11\": {\"11\": 12}, \"125\": {\"125\": 12}, \"76\": {\"76\": 8}, \"83\": {\"83\": 12}, \"74\": {\"74\": 9, \"24\": 1, \"76\": 2}, \"20\": {\"20\": 11, \"88\": 1}, \"119\": {\"119\": 12}, \"1\": {\"1\": 10, \"5\": 1, \"114\": 1}, \"16\": {\"16\": 11, \"64\": 1}, \"25\": {\"25\": 9, \"74\": 1, \"59\": 2}, \"90\": {\"90\": 8}, \"39\": {\"39\": 11, \"67\": 1}, \"28\": {\"28\": 12}, \"55\": {\"55\": 12}, \"117\": {\"117\": 11, \"92\": 1}, \"112\": {\"112\": 8, \"53\": 2, \"8\": 2}, \"38\": {\"38\": 12}, \"37\": {\"37\": 12}, \"120\": {\"120\": 12}, \"122\": {\"122\": 9, \"87\": 1, \"31\": 2}, \"50\": {\"50\": 12}, \"10\": {\"10\": 12}, \"5\": {\"5\": 12}, \"51\": {\"51\": 12}, \"3\": {\"3\": 10, \"70\": 1, \"17\": 1}, \"98\": {\"98\": 11, \"60\": 1}, \"70\": {\"49\": 1, \"20\": 1, \"70\": 10}, \"96\": {\"96\": 12}, \"12\": {\"12\": 12}, \"99\": {\"99\": 12}, \"52\": {\"52\": 11, \"108\": 1}, \"71\": {\"71\": 8, \"30\": 1, \"61\": 1, \"3\": 2}, \"89\": {\"89\": 12}, \"0\": {\"0\": 12}, \"4\": {\"4\": 9, \"127\": 1, \"43\": 1, \"2\": 1}, \"93\": {\"93\": 12}, \"6\": {\"6\": 9, \"75\": 1}, \"75\": {\"75\": 12}, \"62\": {\"62\": 12}, \"103\": {\"103\": 12}, \"30\": {\"30\": 12}, \"91\": {\"91\": 4, \"103\": 1, \"0\": 2, \"98\": 1, \"86\": 2, \"77\": 1, \"41\": 1}, \"27\": {\"27\": 12}, \"26\": {\"26\": 12}, \"61\": {\"61\": 12}, \"118\": {\"118\": 12}, \"92\": {\"92\": 12}, \"111\": {\"111\": 12}, \"32\": {\"32\": 8, \"84\": 1, \"47\": 1, \"19\": 1, \"128\": 1}, \"88\": {\"88\": 9, \"85\": 1}}, \"C_A_1\": {\"46\": {\"46\": 12}, \"16\": {\"16\": 12}, \"26\": {\"26\": 12}, \"10\": {\"10\": 11, \"24\": 1}, \"9\": {\"9\": 10}, \"28\": {\"28\": 12}, \"51\": {\"51\": 12}, \"1\": {\"1\": 12}, \"55\": {\"55\": 11, \"0\": 1}, \"27\": {\"27\": 10}, \"22\": {\"22\": 12}, \"52\": {\"52\": 12}, \"3\": {\"3\": 12}, \"33\": {\"33\": 8}, \"47\": {\"47\": 12}, \"42\": {\"42\": 12}, \"12\": {\"12\": 4}, \"23\": {\"23\": 12}, \"49\": {\"49\": 10}, \"7\": {\"7\": 12}, \"4\": {\"4\": 12}, \"50\": {\"50\": 12}, \"19\": {\"19\": 12}, \"11\": {\"11\": 12}, \"31\": {\"31\": 10}, \"41\": {\"41\": 12}, \"56\": {\"56\": 10}, \"0\": {\"0\": 12}, \"57\": {\"57\": 12}, \"53\": {\"53\": 12}, \"43\": {\"43\": 12}, \"37\": {\"37\": 12}, \"2\": {\"2\": 8}, \"6\": {\"6\": 11, \"2\": 1}, \"18\": {\"18\": 12}, \"38\": {\"38\": 12}, \"15\": {\"15\": 12}, \"36\": {\"36\": 12}, \"39\": {\"39\": 8}, \"44\": {\"44\": 12}, \"8\": {\"8\": 11, \"14\": 1}, \"17\": {\"17\": 10}, \"5\": {\"5\": 12}, \"13\": {\"13\": 10}, \"40\": {\"40\": 10}, \"29\": {\"29\": 12}, \"48\": {\"48\": 12}, \"32\": {\"32\": 12}, \"30\": {\"30\": 12}, \"35\": {\"35\": 12}, \"25\": {\"25\": 12}, \"14\": {\"14\": 8, \"2\": 2, \"30\": 2}, \"54\": {\"54\": 10}, \"20\": {\"20\": 8}, \"21\": {\"21\": 10}, \"45\": {\"45\": 7, \"23\": 1}, \"24\": {\"24\": 8}, \"34\": {\"34\": 8}}, \"W_A_4\": {\"28\": {\"28\": 12}, \"4\": {\"4\": 10, \"95\": 1, \"86\": 1}, \"72\": {\"72\": 12}, \"111\": {\"111\": 11, \"12\": 1}, \"108\": {\"108\": 12}, \"43\": {\"43\": 8, \"105\": 1, \"33\": 1}, \"96\": {\"96\": 12}, \"89\": {\"89\": 12}, \"31\": {\"31\": 12}, \"45\": {\"45\": 12}, \"2\": {\"2\": 10, \"121\": 1, \"63\": 1}, \"114\": {\"114\": 12}, \"11\": {\"11\": 12}, \"12\": {\"12\": 12}, \"14\": {\"14\": 11, \"89\": 1}, \"90\": {\"90\": 12}, \"10\": {\"10\": 9, \"36\": 1, \"24\": 1, \"94\": 1}, \"63\": {\"63\": 11, \"72\": 1}, \"85\": {\"85\": 11, \"10\": 1}, \"64\": {\"64\": 12}, \"82\": {\"82\": 10, \"57\": 1, \"63\": 1}, \"58\": {\"58\": 12}, \"3\": {\"3\": 12}, \"54\": {\"54\": 12}, \"121\": {\"121\": 6, \"123\": 3, \"60\": 2, \"2\": 1}, \"42\": {\"42\": 9, \"124\": 1, \"8\": 2}, \"98\": {\"98\": 12}, \"123\": {\"123\": 11, \"113\": 1}, \"91\": {\"91\": 6, \"123\": 1, \"12\": 1, \"128\": 2, \"85\": 1, \"58\": 1}, \"66\": {\"66\": 11, \"38\": 1}, \"102\": {\"102\": 12}, \"122\": {\"122\": 7, \"110\": 2, \"67\": 2, \"99\": 1}, \"1\": {\"1\": 12}, \"15\": {\"15\": 12}, \"97\": {\"15\": 3, \"97\": 8, \"101\": 1}, \"75\": {\"75\": 12}, \"95\": {\"95\": 12}, \"57\": {\"57\": 12}, \"68\": {\"68\": 12}, \"125\": {\"125\": 12}, \"62\": {\"62\": 10}, \"27\": {\"27\": 9, \"78\": 1, \"88\": 1, \"80\": 1}, \"120\": {\"120\": 11, \"103\": 1}, \"26\": {\"26\": 12}, \"55\": {\"55\": 12}, \"71\": {\"71\": 10, \"103\": 1, \"70\": 1}, \"22\": {\"22\": 11, \"118\": 1}, \"99\": {\"99\": 11, \"51\": 1}, \"84\": {\"84\": 10, \"103\": 1, \"15\": 1}, \"37\": {\"37\": 12}, \"83\": {\"83\": 12}, \"46\": {\"46\": 12}, \"35\": {\"26\": 2, \"35\": 9, \"61\": 1}, \"13\": {\"13\": 12}, \"53\": {\"53\": 10, \"88\": 1, \"21\": 1}, \"127\": {\"127\": 12}, \"69\": {\"8\": 1, \"69\": 10, \"78\": 1}, \"48\": {\"48\": 11, \"88\": 1}, \"16\": {\"16\": 12}, \"0\": {\"0\": 9, \"89\": 1, \"120\": 1, \"86\": 1}, \"8\": {\"8\": 11, \"100\": 1}, \"9\": {\"9\": 10, \"70\": 1, \"27\": 1}, \"115\": {\"57\": 1, \"8\": 1, \"115\": 9, \"38\": 1}, \"70\": {\"46\": 1, \"70\": 7, \"78\": 1, \"51\": 1, \"53\": 2}, \"119\": {\"119\": 12}, \"59\": {\"59\": 11, \"47\": 1}, \"52\": {\"52\": 12}, \"60\": {\"60\": 5, \"99\": 1, \"52\": 1, \"19\": 2, \"85\": 2, \"11\": 1}, \"44\": {\"44\": 11, \"90\": 1}, \"51\": {\"51\": 4, \"115\": 1, \"111\": 3, \"79\": 1, \"68\": 1, \"11\": 1, \"49\": 1}, \"6\": {\"6\": 7, \"34\": 1, \"59\": 2, \"58\": 1, \"10\": 1}, \"73\": {\"73\": 12}, \"78\": {\"50\": 1, \"78\": 6, \"128\": 1, \"21\": 1, \"87\": 1, \"6\": 1, \"102\": 1}, \"92\": {\"92\": 12}, \"20\": {\"20\": 9, \"9\": 1, \"129\": 1, \"5\": 1}, \"17\": {\"17\": 12}, \"74\": {\"74\": 10, \"44\": 2}, \"19\": {\"19\": 12}, \"50\": {\"50\": 12}, \"34\": {\"34\": 10, \"6\": 1, \"59\": 1}, \"104\": {\"104\": 8}, \"33\": {\"33\": 11, \"51\": 1}, \"5\": {\"5\": 12}, \"7\": {\"7\": 10, \"128\": 1, \"23\": 1}, \"29\": {\"29\": 12}, \"25\": {\"25\": 12}, \"124\": {\"124\": 12}, \"117\": {\"117\": 10, \"113\": 1, \"12\": 1}, \"88\": {\"88\": 9, \"71\": 2, \"46\": 1}, \"61\": {\"61\": 11, \"96\": 1}, \"86\": {\"86\": 12}, \"116\": {\"116\": 11, \"41\": 1}, \"24\": {\"24\": 11, \"36\": 1}, \"128\": {\"28\": 1, \"99\": 2, \"128\": 4, \"78\": 1, \"100\": 1, \"49\": 1, \"38\": 1, \"91\": 1}, \"101\": {\"101\": 12}, \"65\": {\"65\": 9, \"31\": 1}, \"36\": {\"36\": 12}, \"21\": {\"21\": 10, \"51\": 1, \"78\": 1}, \"106\": {\"106\": 12}, \"118\": {\"118\": 10, \"8\": 1, \"88\": 1}, \"113\": {\"113\": 10, \"51\": 1, \"80\": 1}, \"40\": {\"40\": 12}, \"93\": {\"93\": 8}, \"94\": {\"94\": 7, \"36\": 2, \"6\": 3}, \"103\": {\"103\": 8, \"6\": 1, \"23\": 1, \"5\": 1, \"77\": 1}, \"110\": {\"110\": 12}, \"56\": {\"56\": 12}, \"39\": {\"39\": 11, \"67\": 1}, \"109\": {\"109\": 11, \"32\": 1}, \"67\": {\"67\": 8, \"87\": 1, \"39\": 1, \"59\": 1, \"40\": 1}, \"129\": {\"129\": 11, \"108\": 1}, \"30\": {\"30\": 12}, \"126\": {\"126\": 9, \"5\": 1, \"80\": 1, \"108\": 1}, \"87\": {\"51\": 1, \"87\": 7, \"115\": 2, \"4\": 1, \"78\": 1}, \"112\": {\"112\": 12}, \"100\": {\"100\": 12}, \"79\": {\"79\": 10}, \"81\": {\"81\": 11, \"12\": 1}, \"76\": {\"76\": 10}, \"47\": {\"47\": 11, \"100\": 1}, \"77\": {\"77\": 11, \"68\": 1}, \"23\": {\"103\": 1, \"86\": 1, \"23\": 7, \"77\": 1, \"0\": 1, \"78\": 1}, \"18\": {\"18\": 12}, \"49\": {\"49\": 11, \"80\": 1}, \"41\": {\"41\": 10, \"125\": 1, \"12\": 1}, \"32\": {\"32\": 10, \"62\": 1, \"45\": 1}, \"107\": {\"107\": 10}, \"80\": {\"80\": 11, \"126\": 1}, \"105\": {\"105\": 7, \"87\": 2, \"113\": 1}, \"38\": {\"38\": 10}}, \"W_A_1\": {\"108\": {\"108\": 10}, \"40\": {\"40\": 11, \"105\": 1}, \"68\": {\"68\": 12}, \"23\": {\"68\": 1, \"23\": 5, \"53\": 3, \"112\": 1, \"127\": 1, \"37\": 1}, \"26\": {\"70\": 1, \"26\": 11}, \"64\": {\"64\": 12}, \"22\": {\"22\": 12}, \"3\": {\"64\": 1, \"70\": 1, \"3\": 8, \"2\": 2}, \"4\": {\"4\": 10, \"40\": 1, \"77\": 1}, \"70\": {\"70\": 11, \"72\": 1}, \"57\": {\"57\": 12}, \"79\": {\"79\": 12}, \"9\": {\"9\": 10, \"103\": 2}, \"89\": {\"89\": 12}, \"110\": {\"110\": 12}, \"102\": {\"102\": 12}, \"31\": {\"31\": 12}, \"58\": {\"58\": 12}, \"47\": {\"47\": 12}, \"24\": {\"24\": 11, \"36\": 1}, \"19\": {\"19\": 12}, \"11\": {\"11\": 12}, \"52\": {\"52\": 12}, \"17\": {\"17\": 12}, \"25\": {\"25\": 11, \"46\": 1}, \"69\": {\"69\": 12}, \"96\": {\"96\": 11, \"24\": 1}, \"109\": {\"109\": 11, \"104\": 1}, \"115\": {\"115\": 12}, \"83\": {\"83\": 7, \"20\": 1, \"42\": 1, \"116\": 1, \"7\": 1, \"86\": 1}, \"84\": {\"84\": 12}, \"119\": {\"119\": 10}, \"122\": {\"122\": 9, \"78\": 1}, \"99\": {\"99\": 12}, \"1\": {\"1\": 12}, \"74\": {\"74\": 10, \"23\": 1, \"34\": 1}, \"85\": {\"85\": 12}, \"127\": {\"127\": 12}, \"111\": {\"111\": 12}, \"53\": {\"53\": 12}, \"88\": {\"88\": 10, \"36\": 2}, \"65\": {\"65\": 10}, \"7\": {\"7\": 12}, \"16\": {\"16\": 11, \"127\": 1}, \"128\": {\"128\": 8, \"34\": 1, \"20\": 1, \"2\": 2}, \"34\": {\"34\": 6, \"41\": 1, \"98\": 2, \"71\": 1, \"77\": 1, \"127\": 1}, \"129\": {\"129\": 11, \"19\": 1}, \"43\": {\"43\": 9, \"4\": 2, \"57\": 1}, \"92\": {\"92\": 12}, \"28\": {\"28\": 12}, \"27\": {\"27\": 12}, \"114\": {\"114\": 12}, \"73\": {\"73\": 12}, \"0\": {\"0\": 12}, \"104\": {\"104\": 12}, \"118\": {\"118\": 12}, \"41\": {\"41\": 12}, \"49\": {\"49\": 7, \"72\": 2, \"73\": 1, \"128\": 1, \"15\": 1}, \"14\": {\"14\": 12}, \"46\": {\"14\": 1, \"46\": 8, \"97\": 1, \"12\": 2}, \"33\": {\"33\": 12}, \"76\": {\"76\": 12}, \"125\": {\"125\": 12}, \"86\": {\"86\": 10}, \"66\": {\"66\": 9, \"61\": 2, \"15\": 1}, \"5\": {\"5\": 11, \"114\": 1}, \"117\": {\"117\": 12}, \"75\": {\"75\": 12}, \"61\": {\"61\": 12}, \"50\": {\"50\": 11, \"60\": 1}, \"67\": {\"67\": 10}, \"18\": {\"18\": 12}, \"98\": {\"98\": 11, \"86\": 1}, \"55\": {\"55\": 10}, \"32\": {\"32\": 12}, \"120\": {\"120\": 12}, \"97\": {\"97\": 9, \"70\": 1, \"88\": 1, \"24\": 1}, \"126\": {\"126\": 12}, \"45\": {\"109\": 1, \"45\": 8, \"11\": 1, \"2\": 2}, \"78\": {\"78\": 8, \"43\": 2}, \"100\": {\"100\": 12}, \"107\": {\"107\": 12}, \"93\": {\"93\": 12}, \"77\": {\"77\": 12}, \"63\": {\"63\": 12}, \"112\": {\"112\": 11, \"77\": 1}, \"113\": {\"113\": 12}, \"103\": {\"103\": 8, \"9\": 2}, \"71\": {\"71\": 12}, \"30\": {\"30\": 10, \"59\": 1, \"12\": 1}, \"90\": {\"90\": 12}, \"37\": {\"15\": 1, \"37\": 11}, \"60\": {\"60\": 7, \"65\": 1, \"63\": 1, \"49\": 1, \"11\": 1, \"81\": 1}, \"15\": {\"15\": 8, \"53\": 1, \"111\": 2, \"27\": 1}, \"39\": {\"39\": 9, \"63\": 1, \"16\": 2}, \"72\": {\"72\": 12}, \"54\": {\"54\": 12}, \"35\": {\"35\": 12}, \"2\": {\"70\": 1, \"2\": 11}, \"94\": {\"94\": 10, \"6\": 1, \"60\": 1}, \"42\": {\"42\": 9, \"44\": 1, \"45\": 1, \"109\": 1}, \"81\": {\"81\": 12}, \"8\": {\"8\": 12}, \"87\": {\"87\": 12}, \"6\": {\"6\": 7, \"53\": 1, \"59\": 1, \"75\": 1, \"98\": 2}, \"36\": {\"36\": 12}, \"91\": {\"91\": 8, \"6\": 1, \"75\": 2, \"77\": 1}, \"56\": {\"56\": 12}, \"80\": {\"80\": 11, \"78\": 1}, \"124\": {\"124\": 10}, \"44\": {\"44\": 11, \"64\": 1}, \"13\": {\"13\": 12}, \"10\": {\"10\": 10, \"78\": 1, \"107\": 1}, \"59\": {\"59\": 8, \"30\": 1, \"123\": 2, \"51\": 1}, \"95\": {\"95\": 12}, \"105\": {\"105\": 11, \"15\": 1}, \"101\": {\"101\": 11, \"128\": 1}, \"20\": {\"20\": 12}, \"48\": {\"28\": 2, \"48\": 9, \"123\": 1}, \"106\": {\"111\": 1, \"106\": 11}, \"51\": {\"51\": 11, \"125\": 1}, \"21\": {\"11\": 2, \"87\": 1, \"21\": 7, \"23\": 1, \"106\": 1}, \"123\": {\"123\": 12}, \"121\": {\"121\": 12}, \"38\": {\"38\": 12}, \"62\": {\"62\": 12}, \"29\": {\"29\": 12}, \"82\": {\"82\": 12}, \"116\": {\"116\": 12}, \"12\": {\"12\": 8}}, \"W_A_2\": {\"91\": {\"97\": 2, \"91\": 7, \"115\": 1, \"17\": 2}, \"12\": {\"12\": 11, \"126\": 1}, \"101\": {\"101\": 10}, \"121\": {\"117\": 2, \"49\": 1, \"121\": 9}, \"118\": {\"118\": 12}, \"10\": {\"10\": 12}, \"117\": {\"117\": 11, \"121\": 1}, \"110\": {\"110\": 9, \"101\": 1, \"33\": 1, \"14\": 1}, \"97\": {\"97\": 8, \"118\": 1, \"106\": 2, \"14\": 1}, \"28\": {\"12\": 1, \"28\": 8, \"106\": 1, \"103\": 1, \"116\": 1}, \"88\": {\"88\": 11, \"47\": 1}, \"17\": {\"17\": 10, \"91\": 1, \"106\": 1}, \"126\": {\"126\": 12}, \"33\": {\"33\": 12}, \"86\": {\"86\": 12}, \"106\": {\"106\": 12}, \"54\": {\"54\": 9, \"103\": 1, \"97\": 2}, \"125\": {\"106\": 1, \"125\": 11}, \"83\": {\"83\": 12}, \"98\": {\"98\": 12}, \"11\": {\"11\": 10, \"44\": 1, \"2\": 1}, \"32\": {\"13\": 1, \"32\": 6, \"47\": 1, \"29\": 1, \"31\": 1, \"123\": 2}, \"42\": {\"11\": 1, \"42\": 9, \"112\": 2}, \"103\": {\"103\": 12}, \"87\": {\"87\": 10, \"119\": 1, \"33\": 1}, \"61\": {\"83\": 1, \"61\": 9, \"102\": 1, \"22\": 1}, \"13\": {\"13\": 12}, \"4\": {\"4\": 11, \"78\": 1}, \"15\": {\"15\": 10}, \"120\": {\"120\": 12}, \"80\": {\"80\": 12}, \"72\": {\"72\": 10}, \"64\": {\"64\": 12}, \"81\": {\"81\": 12}, \"102\": {\"102\": 12}, \"76\": {\"76\": 12}, \"49\": {\"53\": 2, \"49\": 5, \"8\": 1, \"47\": 1, \"21\": 1}, \"129\": {\"129\": 12}, \"89\": {\"89\": 11, \"69\": 1}, \"52\": {\"52\": 12}, \"35\": {\"35\": 12}, \"53\": {\"53\": 10, \"114\": 1, \"58\": 1}, \"112\": {\"112\": 9, \"44\": 1, \"3\": 1, \"129\": 1}, \"105\": {\"105\": 12}, \"100\": {\"100\": 12}, \"9\": {\"9\": 12}, \"82\": {\"82\": 12}, \"51\": {\"51\": 11, \"125\": 1}, \"21\": {\"21\": 12}, \"92\": {\"92\": 11, \"84\": 1}, \"69\": {\"69\": 12}, \"77\": {\"77\": 11, \"59\": 1}, \"50\": {\"50\": 11, \"13\": 1}, \"36\": {\"36\": 11, \"24\": 1}, \"16\": {\"16\": 11, \"11\": 1}, \"8\": {\"88\": 1, \"8\": 10, \"120\": 1}, \"127\": {\"127\": 12}, \"46\": {\"46\": 10}, \"84\": {\"87\": 2, \"84\": 10}, \"18\": {\"18\": 12}, \"123\": {\"123\": 10}, \"56\": {\"56\": 10, \"34\": 1, \"15\": 1}, \"26\": {\"26\": 12}, \"14\": {\"87\": 1, \"14\": 7, \"107\": 2, \"43\": 1, \"80\": 1}, \"109\": {\"109\": 12}, \"66\": {\"66\": 12}, \"24\": {\"24\": 9, \"28\": 1, \"94\": 2}, \"71\": {\"87\": 1, \"71\": 11}, \"65\": {\"65\": 10, \"110\": 1, \"51\": 1}, \"75\": {\"75\": 10, \"6\": 1, \"21\": 1}, \"111\": {\"111\": 12}, \"30\": {\"30\": 11, \"42\": 1}, \"85\": {\"85\": 12}, \"113\": {\"113\": 9, \"21\": 1}, \"45\": {\"45\": 12}, \"29\": {\"29\": 9, \"128\": 2, \"102\": 1}, \"20\": {\"20\": 12}, \"25\": {\"25\": 10, \"42\": 2}, \"0\": {\"0\": 12}, \"68\": {\"68\": 12}, \"119\": {\"119\": 12}, \"90\": {\"90\": 12}, \"38\": {\"38\": 12}, \"99\": {\"99\": 12}, \"1\": {\"1\": 12}, \"67\": {\"67\": 8, \"4\": 1, \"51\": 1, \"55\": 1, \"75\": 1}, \"63\": {\"63\": 12}, \"34\": {\"34\": 9, \"32\": 1, \"91\": 1, \"14\": 1}, \"108\": {\"108\": 12}, \"40\": {\"40\": 12}, \"47\": {\"47\": 10, \"59\": 1, \"129\": 1}, \"37\": {\"37\": 12}, \"78\": {\"43\": 1, \"78\": 8, \"21\": 1, \"4\": 1, \"17\": 1}, \"96\": {\"96\": 12}, \"43\": {\"33\": 2, \"21\": 1, \"43\": 8, \"70\": 1}, \"5\": {\"5\": 10}, \"124\": {\"124\": 11, \"114\": 1}, \"44\": {\"44\": 11, \"42\": 1}, \"41\": {\"41\": 11, \"47\": 1}, \"116\": {\"116\": 10, \"43\": 1, \"60\": 1}, \"19\": {\"71\": 1, \"112\": 1, \"19\": 7, \"47\": 2, \"60\": 1}, \"115\": {\"115\": 11, \"78\": 1}, \"95\": {\"95\": 11, \"70\": 1}, \"3\": {\"3\": 10}, \"59\": {\"59\": 11, \"53\": 1}, \"55\": {\"55\": 11, \"22\": 1}, \"70\": {\"70\": 8, \"1\": 1, \"53\": 1, \"19\": 1, \"33\": 1}, \"6\": {\"6\": 12}, \"2\": {\"2\": 6, \"16\": 2, \"93\": 2, \"69\": 1, \"117\": 1}, \"48\": {\"48\": 12}, \"23\": {\"117\": 1, \"41\": 1, \"129\": 1, \"100\": 1, \"23\": 5, \"68\": 1, \"34\": 1, \"28\": 1}, \"7\": {\"7\": 12}, \"122\": {\"122\": 12}, \"57\": {\"57\": 9, \"42\": 1, \"71\": 1, \"87\": 1}, \"39\": {\"39\": 9, \"53\": 1}, \"79\": {\"79\": 12}, \"27\": {\"27\": 10}, \"74\": {\"74\": 9, \"108\": 1, \"36\": 1, \"51\": 1}, \"73\": {\"73\": 12}, \"62\": {\"62\": 12}, \"107\": {\"107\": 12}, \"128\": {\"5\": 1, \"128\": 6, \"71\": 2, \"53\": 1, \"87\": 2}, \"60\": {\"16\": 1, \"116\": 2, \"60\": 6, \"83\": 1, \"70\": 1, \"107\": 1}, \"114\": {\"114\": 12}, \"22\": {\"22\": 12}, \"93\": {\"93\": 12}, \"94\": {\"94\": 11, \"88\": 1}, \"31\": {\"31\": 9, \"90\": 1}, \"104\": {\"104\": 12}, \"58\": {\"58\": 12}}, \"C_A_2\": {\"14\": {\"14\": 10, \"0\": 1, \"1\": 1}, \"22\": {\"22\": 11, \"56\": 1}, \"9\": {\"9\": 12}, \"47\": {\"47\": 12}, \"13\": {\"13\": 12}, \"8\": {\"8\": 12}, \"7\": {\"7\": 12}, \"49\": {\"49\": 12}, \"20\": {\"20\": 12}, \"16\": {\"16\": 12}, \"34\": {\"34\": 12}, \"56\": {\"56\": 12}, \"38\": {\"38\": 10}, \"4\": {\"4\": 11, \"2\": 1}, \"43\": {\"43\": 10}, \"26\": {\"26\": 10}, \"35\": {\"35\": 12}, \"31\": {\"31\": 12}, \"1\": {\"1\": 12}, \"39\": {\"39\": 12}, \"5\": {\"5\": 12}, \"24\": {\"24\": 12}, \"54\": {\"54\": 10}, \"23\": {\"23\": 12}, \"51\": {\"51\": 12}, \"27\": {\"27\": 10}, \"15\": {\"15\": 12}, \"0\": {\"0\": 12}, \"19\": {\"19\": 10}, \"18\": {\"18\": 8}, \"30\": {\"30\": 12}, \"55\": {\"55\": 10}, \"57\": {\"57\": 12}, \"2\": {\"2\": 12}, \"12\": {\"12\": 8}, \"41\": {\"41\": 12}, \"42\": {\"42\": 12}, \"48\": {\"48\": 12}, \"37\": {\"37\": 12}, \"6\": {\"6\": 10}, \"11\": {\"11\": 10}, \"45\": {\"45\": 8}, \"21\": {\"21\": 12}, \"46\": {\"46\": 9, \"48\": 1}, \"25\": {\"25\": 12}, \"36\": {\"36\": 10}, \"53\": {\"53\": 12}, \"28\": {\"28\": 12}, \"40\": {\"40\": 10}, \"33\": {\"33\": 10}, \"44\": {\"44\": 10}, \"3\": {\"3\": 11, \"20\": 1}, \"17\": {\"17\": 12}, \"32\": {\"32\": 10}, \"10\": {\"10\": 10}, \"52\": {\"52\": 10}, \"50\": {\"50\": 8}, \"29\": {\"29\": 5, \"0\": 1}}, \"ORACLE.run1_14\": {\"15\": {\"7\": 52, \"15\": 101, \"5\": 12, \"13\": 19, \"2\": 8, \"4\": 14, \"6\": 19, \"14\": 6, \"1\": 8, \"8\": 1}, \"3\": {\"10\": 32, \"1\": 35, \"15\": 1, \"4\": 20, \"3\": 36, \"6\": 9, \"5\": 20, \"2\": 10, \"14\": 18, \"0\": 29, \"8\": 5, \"9\": 5, \"11\": 8, \"7\": 5, \"13\": 7}, \"6\": {\"2\": 31, \"6\": 43, \"14\": 19, \"7\": 26, \"15\": 24, \"3\": 17, \"13\": 32, \"10\": 6, \"4\": 9, \"5\": 19, \"1\": 11, \"0\": 3}, \"1\": {\"3\": 18, \"4\": 26, \"10\": 14, \"1\": 40, \"8\": 10, \"6\": 18, \"7\": 17, \"2\": 24, \"5\": 32, \"13\": 9, \"14\": 15, \"0\": 13, \"11\": 2, \"15\": 2}, \"8\": {\"8\": 81, \"9\": 34, \"10\": 16, \"11\": 27, \"0\": 42, \"4\": 6, \"1\": 8, \"12\": 5, \"3\": 11, \"7\": 2, \"5\": 8}, \"10\": {\"0\": 40, \"1\": 15, \"4\": 23, \"10\": 39, \"3\": 47, \"8\": 15, \"11\": 7, \"5\": 16, \"14\": 13, \"2\": 12, \"13\": 6, \"7\": 3, \"9\": 1, \"6\": 3}, \"9\": {\"9\": 108, \"11\": 34, \"12\": 51, \"8\": 29, \"0\": 16, \"10\": 2}, \"13\": {\"14\": 28, \"13\": 37, \"6\": 46, \"1\": 11, \"15\": 13, \"2\": 28, \"4\": 20, \"5\": 18, \"10\": 9, \"3\": 11, \"11\": 2, \"7\": 15, \"0\": 2}, \"12\": {\"9\": 80, \"12\": 135, \"8\": 6, \"0\": 1, \"11\": 17, \"10\": 1}, \"5\": {\"14\": 20, \"3\": 18, \"15\": 9, \"6\": 21, \"4\": 35, \"1\": 24, \"2\": 20, \"7\": 24, \"5\": 33, \"13\": 9, \"10\": 17, \"8\": 1, \"0\": 9}, \"0\": {\"10\": 32, \"1\": 13, \"3\": 28, \"8\": 33, \"0\": 48, \"11\": 42, \"14\": 12, \"4\": 6, \"2\": 11, \"9\": 7, \"13\": 4, \"5\": 4}, \"2\": {\"14\": 23, \"2\": 34, \"13\": 32, \"10\": 10, \"4\": 14, \"3\": 21, \"7\": 15, \"6\": 31, \"5\": 21, \"1\": 23, \"0\": 6, \"15\": 9, \"8\": 1}, \"11\": {\"11\": 79, \"9\": 40, \"8\": 34, \"0\": 43, \"4\": 1, \"10\": 22, \"3\": 13, \"12\": 3, \"14\": 1, \"1\": 1, \"5\": 1, \"2\": 2}, \"14\": {\"5\": 13, \"1\": 16, \"2\": 30, \"14\": 39, \"3\": 27, \"4\": 27, \"6\": 21, \"13\": 22, \"0\": 13, \"7\": 11, \"10\": 14, \"15\": 3, \"8\": 2, \"11\": 2}, \"7\": {\"5\": 24, \"15\": 55, \"7\": 60, \"4\": 19, \"14\": 11, \"13\": 17, \"1\": 15, \"2\": 19, \"0\": 1, \"10\": 2, \"6\": 15, \"3\": 2}, \"4\": {\"13\": 15, \"10\": 18, \"14\": 25, \"7\": 18, \"5\": 14, \"6\": 16, \"3\": 30, \"4\": 29, \"1\": 28, \"2\": 27, \"15\": 8, \"8\": 3, \"0\": 9}}, \"ORACLE.run1_20\": {\"3\": {\"2\": 17, \"13\": 17, \"14\": 8, \"8\": 11, \"12\": 21, \"5\": 17, \"11\": 15, \"15\": 9, \"1\": 22, \"3\": 16, \"10\": 10, \"9\": 23, \"4\": 13, \"0\": 18, \"7\": 20, \"6\": 3}, \"15\": {\"12\": 23, \"1\": 27, \"5\": 33, \"4\": 11, \"13\": 20, \"3\": 16, \"15\": 34, \"9\": 13, \"0\": 18, \"8\": 4, \"2\": 22, \"7\": 10, \"11\": 4, \"10\": 2, \"14\": 2, \"6\": 1}, \"8\": {\"11\": 15, \"8\": 32, \"4\": 20, \"5\": 5, \"10\": 24, \"3\": 14, \"6\": 22, \"14\": 17, \"7\": 22, \"0\": 14, \"9\": 7, \"15\": 6, \"12\": 14, \"13\": 8, \"1\": 13, \"2\": 7}, \"4\": {\"4\": 20, \"6\": 19, \"11\": 11, \"1\": 15, \"0\": 11, \"14\": 24, \"12\": 14, \"5\": 15, \"7\": 10, \"9\": 21, \"3\": 20, \"15\": 7, \"2\": 14, \"13\": 5, \"10\": 22, \"8\": 12}, \"14\": {\"4\": 25, \"11\": 21, \"8\": 29, \"6\": 42, \"10\": 30, \"14\": 38, \"5\": 4, \"9\": 5, \"7\": 14, \"2\": 14, \"15\": 2, \"3\": 7, \"1\": 2, \"12\": 6, \"0\": 1}, \"0\": {\"4\": 13, \"14\": 3, \"1\": 21, \"0\": 37, \"15\": 27, \"3\": 20, \"8\": 16, \"9\": 6, \"7\": 11, \"5\": 24, \"6\": 4, \"11\": 8, \"12\": 12, \"2\": 13, \"13\": 23, \"10\": 2}, \"7\": {\"4\": 18, \"2\": 14, \"15\": 7, \"11\": 23, \"5\": 16, \"8\": 16, \"14\": 8, \"7\": 29, \"9\": 20, \"12\": 14, \"13\": 10, \"6\": 19, \"10\": 10, \"0\": 8, \"3\": 20, \"1\": 8}, \"6\": {\"14\": 29, \"4\": 16, \"11\": 34, \"10\": 28, \"6\": 44, \"7\": 21, \"9\": 9, \"5\": 5, \"2\": 8, \"3\": 11, \"0\": 7, \"12\": 2, \"8\": 17, \"13\": 4, \"1\": 5}, \"10\": {\"6\": 30, \"11\": 21, \"5\": 5, \"14\": 38, \"10\": 37, \"7\": 16, \"4\": 24, \"12\": 9, \"8\": 22, \"2\": 13, \"3\": 8, \"9\": 9, \"1\": 5, \"15\": 1, \"13\": 2}, \"5\": {\"12\": 16, \"8\": 10, \"10\": 6, \"0\": 34, \"9\": 18, \"13\": 18, \"1\": 26, \"2\": 11, \"15\": 20, \"5\": 25, \"14\": 1, \"11\": 5, \"4\": 13, \"3\": 23, \"7\": 11, \"6\": 3}, \"2\": {\"1\": 23, \"8\": 15, \"12\": 23, \"7\": 13, \"9\": 15, \"2\": 19, \"6\": 14, \"4\": 16, \"13\": 20, \"3\": 18, \"11\": 9, \"0\": 16, \"10\": 10, \"15\": 15, \"14\": 9, \"5\": 5}, \"12\": {\"8\": 15, \"12\": 19, \"0\": 19, \"3\": 21, \"4\": 11, \"1\": 21, \"10\": 8, \"6\": 9, \"7\": 9, \"9\": 20, \"15\": 13, \"2\": 19, \"5\": 23, \"11\": 10, \"13\": 20, \"14\": 3}, \"9\": {\"6\": 12, \"9\": 19, \"3\": 25, \"15\": 15, \"7\": 19, \"1\": 24, \"10\": 12, \"12\": 16, \"2\": 23, \"5\": 17, \"11\": 10, \"0\": 8, \"4\": 15, \"13\": 9, \"14\": 6, \"8\": 10}, \"1\": {\"2\": 19, \"5\": 23, \"12\": 22, \"15\": 16, \"0\": 24, \"9\": 20, \"3\": 19, \"10\": 6, \"1\": 26, \"13\": 20, \"11\": 10, \"7\": 9, \"8\": 12, \"4\": 11, \"14\": 3}, \"11\": {\"14\": 19, \"5\": 7, \"3\": 22, \"7\": 22, \"4\": 17, \"9\": 12, \"11\": 44, \"8\": 15, \"12\": 11, \"10\": 8, \"15\": 3, \"2\": 8, \"6\": 29, \"1\": 6, \"13\": 10, \"0\": 7}, \"13\": {\"13\": 31, \"8\": 7, \"9\": 11, \"5\": 26, \"12\": 30, \"4\": 13, \"11\": 5, \"3\": 12, \"2\": 13, \"0\": 28, \"15\": 26, \"7\": 9, \"1\": 24, \"14\": 4, \"10\": 1}}, \"ORACLE.run1_38\": {\"5\": {\"8\": 33, \"6\": 35, \"5\": 29, \"9\": 24, \"10\": 23, \"4\": 2, \"15\": 13, \"13\": 13, \"2\": 2, \"0\": 22, \"1\": 9, \"7\": 19, \"3\": 10, \"11\": 3, \"14\": 2, \"12\": 1}, \"8\": {\"6\": 17, \"12\": 14, \"7\": 23, \"11\": 3, \"2\": 2, \"8\": 42, \"10\": 18, \"5\": 40, \"4\": 6, \"13\": 11, \"1\": 9, \"0\": 18, \"9\": 13, \"15\": 16, \"3\": 7, \"14\": 1}, \"11\": {\"2\": 36, \"15\": 12, \"14\": 72, \"11\": 70, \"10\": 14, \"8\": 3, \"12\": 7, \"13\": 11, \"1\": 9, \"7\": 1, \"4\": 3, \"6\": 2}, \"1\": {\"13\": 36, \"15\": 58, \"9\": 4, \"0\": 8, \"2\": 16, \"8\": 17, \"1\": 57, \"11\": 3, \"10\": 15, \"14\": 10, \"5\": 8, \"6\": 8}, \"10\": {\"13\": 26, \"14\": 11, \"5\": 20, \"9\": 5, \"0\": 25, \"10\": 35, \"8\": 19, \"12\": 17, \"11\": 12, \"6\": 13, \"15\": 24, \"1\": 13, \"4\": 5, \"2\": 6, \"7\": 7, \"3\": 2}, \"15\": {\"15\": 43, \"11\": 8, \"2\": 12, \"13\": 41, \"6\": 11, \"8\": 20, \"1\": 49, \"0\": 3, \"10\": 23, \"7\": 1, \"14\": 13, \"5\": 11, \"12\": 1, \"9\": 4}, \"3\": {\"3\": 120, \"7\": 15, \"4\": 6, \"9\": 34, \"0\": 28, \"6\": 11, \"12\": 4, \"8\": 8, \"5\": 10, \"1\": 2, \"10\": 2}, \"7\": {\"8\": 28, \"4\": 20, \"7\": 68, \"3\": 22, \"0\": 28, \"5\": 23, \"9\": 21, \"6\": 14, \"10\": 11, \"12\": 3, \"13\": 1, \"15\": 1}, \"4\": {\"4\": 118, \"7\": 22, \"12\": 59, \"0\": 17, \"3\": 4, \"9\": 2, \"10\": 5, \"5\": 4, \"8\": 8, \"13\": 1}, \"14\": {\"14\": 81, \"15\": 14, \"2\": 38, \"11\": 56, \"1\": 17, \"10\": 13, \"5\": 1, \"12\": 5, \"0\": 1, \"13\": 13, \"8\": 1}, \"9\": {\"3\": 41, \"9\": 58, \"13\": 4, \"7\": 20, \"6\": 51, \"0\": 20, \"8\": 13, \"10\": 2, \"5\": 25, \"1\": 3, \"15\": 2, \"2\": 1}, \"12\": {\"12\": 117, \"4\": 53, \"9\": 1, \"0\": 11, \"13\": 2, \"7\": 5, \"3\": 2, \"5\": 10, \"10\": 11, \"11\": 5, \"8\": 10, \"1\": 1, \"14\": 8, \"6\": 1, \"15\": 3}, \"6\": {\"8\": 16, \"6\": 57, \"9\": 43, \"13\": 6, \"0\": 21, \"5\": 23, \"1\": 6, \"10\": 17, \"15\": 17, \"7\": 23, \"3\": 11}, \"2\": {\"14\": 44, \"15\": 26, \"11\": 28, \"2\": 71, \"10\": 8, \"1\": 32, \"13\": 23, \"8\": 3, \"12\": 2, \"0\": 1, \"5\": 1, \"9\": 1}, \"0\": {\"6\": 14, \"5\": 18, \"7\": 30, \"0\": 36, \"8\": 23, \"4\": 29, \"9\": 19, \"13\": 8, \"3\": 20, \"12\": 14, \"15\": 8, \"10\": 13, \"14\": 1, \"1\": 6, \"11\": 1}, \"13\": {\"14\": 15, \"11\": 8, \"2\": 18, \"10\": 22, \"6\": 12, \"1\": 57, \"0\": 5, \"5\": 12, \"13\": 30, \"9\": 5, \"15\": 37, \"8\": 15, \"3\": 1, \"7\": 2, \"12\": 1}}, \"ORACLE.run1_8\": {\"9\": {\"9\": 208, \"5\": 18, \"10\": 5, \"13\": 3, \"11\": 1, \"4\": 1, \"14\": 3, \"1\": 1}, \"10\": {\"13\": 34, \"10\": 29, \"4\": 27, \"0\": 22, \"5\": 20, \"6\": 24, \"14\": 30, \"11\": 14, \"9\": 1, \"7\": 6, \"1\": 23, \"8\": 5, \"15\": 1, \"2\": 3, \"3\": 1}, \"13\": {\"6\": 24, \"1\": 24, \"5\": 15, \"0\": 27, \"14\": 25, \"11\": 9, \"15\": 3, \"13\": 27, \"10\": 36, \"7\": 16, \"4\": 19, \"8\": 8, \"2\": 3, \"3\": 2, \"9\": 2}, \"0\": {\"0\": 40, \"11\": 15, \"14\": 20, \"13\": 30, \"5\": 11, \"8\": 8, \"4\": 29, \"6\": 23, \"7\": 20, \"10\": 18, \"9\": 1, \"3\": 4, \"12\": 1, \"15\": 4, \"1\": 10, \"2\": 6}, \"1\": {\"6\": 18, \"11\": 22, \"13\": 23, \"5\": 28, \"4\": 26, \"7\": 5, \"10\": 22, \"14\": 23, \"8\": 11, \"0\": 19, \"1\": 37, \"15\": 3, \"12\": 2, \"2\": 1}, \"15\": {\"4\": 4, \"8\": 45, \"3\": 27, \"15\": 52, \"7\": 24, \"6\": 12, \"2\": 29, \"12\": 28, \"11\": 5, \"13\": 3, \"0\": 4, \"10\": 2, \"1\": 1, \"14\": 3, \"5\": 1}, \"5\": {\"6\": 16, \"11\": 22, \"5\": 55, \"13\": 30, \"10\": 41, \"0\": 8, \"1\": 26, \"14\": 22, \"8\": 2, \"4\": 11, \"9\": 4, \"7\": 3}, \"3\": {\"0\": 3, \"2\": 37, \"15\": 38, \"11\": 1, \"12\": 48, \"8\": 26, \"4\": 1, \"3\": 70, \"7\": 9, \"6\": 3, \"13\": 2, \"10\": 2}, \"6\": {\"10\": 12, \"11\": 14, \"0\": 27, \"4\": 21, \"12\": 5, \"1\": 25, \"14\": 13, \"13\": 15, \"6\": 36, \"3\": 4, \"8\": 16, \"2\": 10, \"5\": 8, \"7\": 22, \"15\": 12}, \"11\": {\"11\": 47, \"13\": 12, \"10\": 18, \"14\": 22, \"1\": 39, \"4\": 19, \"5\": 14, \"0\": 12, \"7\": 13, \"6\": 18, \"15\": 3, \"8\": 19, \"9\": 1, \"2\": 1, \"12\": 2}, \"8\": {\"10\": 7, \"14\": 7, \"15\": 24, \"8\": 46, \"3\": 7, \"12\": 23, \"11\": 10, \"2\": 18, \"7\": 26, \"13\": 12, \"4\": 15, \"6\": 20, \"1\": 13, \"0\": 12}, \"4\": {\"8\": 15, \"10\": 17, \"11\": 21, \"5\": 14, \"0\": 21, \"14\": 22, \"4\": 25, \"6\": 22, \"1\": 24, \"7\": 24, \"2\": 4, \"13\": 26, \"15\": 3, \"12\": 1, \"3\": 1}, \"12\": {\"15\": 32, \"3\": 48, \"2\": 26, \"8\": 50, \"12\": 45, \"7\": 16, \"0\": 3, \"6\": 11, \"4\": 2, \"14\": 1, \"13\": 2, \"11\": 2, \"1\": 1, \"10\": 1}, \"14\": {\"6\": 26, \"4\": 23, \"1\": 26, \"0\": 27, \"10\": 23, \"14\": 25, \"11\": 22, \"13\": 19, \"5\": 20, \"7\": 12, \"8\": 7, \"12\": 1, \"2\": 8, \"15\": 1}, \"2\": {\"3\": 55, \"8\": 21, \"15\": 29, \"2\": 47, \"12\": 34, \"7\": 20, \"6\": 12, \"0\": 6, \"13\": 4, \"1\": 2, \"14\": 2, \"4\": 3, \"11\": 3, \"10\": 2}, \"7\": {\"10\": 12, \"7\": 28, \"1\": 14, \"6\": 22, \"0\": 25, \"2\": 23, \"14\": 10, \"11\": 8, \"13\": 19, \"4\": 19, \"12\": 5, \"15\": 21, \"8\": 25, \"3\": 8, \"5\": 1}}, \"ORACLE.run1_50\": {\"7\": {\"7\": 49, \"10\": 21, \"12\": 1, \"2\": 20, \"0\": 22, \"5\": 34, \"13\": 34, \"1\": 8, \"6\": 26, \"15\": 4, \"8\": 7, \"14\": 4, \"4\": 7, \"11\": 1, \"3\": 2}, \"3\": {\"8\": 95, \"3\": 117, \"10\": 13, \"0\": 5, \"7\": 8, \"5\": 2}, \"8\": {\"3\": 68, \"10\": 32, \"0\": 27, \"8\": 92, \"2\": 14, \"7\": 5, \"5\": 1, \"13\": 1}, \"2\": {\"0\": 57, \"2\": 66, \"12\": 5, \"10\": 25, \"6\": 11, \"13\": 14, \"8\": 13, \"5\": 12, \"1\": 7, \"15\": 1, \"14\": 14, \"3\": 2, \"7\": 12, \"4\": 1}, \"14\": {\"4\": 21, \"11\": 19, \"15\": 19, \"6\": 17, \"2\": 12, \"14\": 55, \"12\": 22, \"9\": 12, \"1\": 32, \"5\": 16, \"13\": 8, \"10\": 1, \"7\": 4, \"0\": 2}, \"4\": {\"11\": 13, \"14\": 28, \"7\": 14, \"1\": 29, \"13\": 15, \"10\": 1, \"15\": 30, \"9\": 8, \"4\": 26, \"5\": 28, \"6\": 24, \"12\": 13, \"2\": 4, \"0\": 7}, \"6\": {\"2\": 14, \"15\": 21, \"6\": 47, \"0\": 10, \"13\": 32, \"1\": 18, \"7\": 23, \"5\": 27, \"10\": 11, \"4\": 22, \"14\": 11, \"11\": 3, \"12\": 1}, \"15\": {\"9\": 15, \"11\": 33, \"6\": 19, \"2\": 2, \"4\": 34, \"1\": 29, \"15\": 53, \"7\": 3, \"14\": 12, \"5\": 17, \"10\": 2, \"12\": 11, \"0\": 3, \"13\": 7}, \"10\": {\"5\": 14, \"10\": 53, \"0\": 42, \"13\": 20, \"7\": 36, \"8\": 26, \"2\": 30, \"1\": 4, \"3\": 5, \"6\": 9, \"4\": 1}, \"11\": {\"9\": 50, \"11\": 50, \"12\": 35, \"15\": 31, \"5\": 6, \"1\": 17, \"14\": 24, \"6\": 6, \"4\": 20, \"13\": 1}, \"13\": {\"7\": 34, \"1\": 25, \"2\": 17, \"13\": 33, \"0\": 10, \"5\": 43, \"4\": 15, \"6\": 25, \"8\": 5, \"14\": 8, \"10\": 14, \"15\": 6, \"12\": 3, \"11\": 2}, \"9\": {\"9\": 79, \"11\": 62, \"12\": 48, \"4\": 9, \"1\": 11, \"14\": 13, \"15\": 17, \"5\": 1}, \"0\": {\"10\": 43, \"0\": 48, \"2\": 49, \"8\": 18, \"1\": 6, \"7\": 19, \"5\": 13, \"3\": 3, \"13\": 20, \"14\": 9, \"6\": 9, \"4\": 3}, \"1\": {\"13\": 16, \"1\": 36, \"2\": 12, \"5\": 17, \"11\": 23, \"4\": 27, \"15\": 41, \"7\": 8, \"0\": 3, \"12\": 12, \"14\": 20, \"6\": 16, \"9\": 4, \"10\": 5}, \"12\": {\"12\": 70, \"1\": 15, \"11\": 45, \"9\": 51, \"4\": 13, \"15\": 14, \"14\": 23, \"5\": 1, \"0\": 2, \"2\": 4, \"6\": 2}, \"5\": {\"13\": 24, \"4\": 26, \"10\": 17, \"14\": 15, \"6\": 19, \"5\": 37, \"15\": 11, \"12\": 4, \"0\": 17, \"1\": 21, \"2\": 12, \"7\": 26, \"3\": 2, \"11\": 7, \"9\": 1, \"8\": 1}}, \"ORACLE.run1_32\": {\"8\": {\"8\": 42, \"0\": 23, \"7\": 19, \"13\": 36, \"5\": 27, \"14\": 19, \"2\": 3, \"11\": 20, \"15\": 14, \"3\": 24, \"4\": 13}, \"14\": {\"11\": 45, \"13\": 22, \"8\": 19, \"4\": 14, \"14\": 42, \"7\": 24, \"5\": 14, \"3\": 13, \"2\": 16, \"0\": 29, \"15\": 2}, \"2\": {\"7\": 35, \"4\": 46, \"9\": 15, \"14\": 17, \"2\": 62, \"11\": 5, \"0\": 28, \"5\": 6, \"8\": 14, \"13\": 11, \"3\": 1}, \"0\": {\"5\": 19, \"4\": 32, \"8\": 23, \"7\": 15, \"2\": 29, \"14\": 14, \"11\": 21, \"13\": 30, \"0\": 48, \"9\": 3, \"15\": 2, \"3\": 4}, \"1\": {\"1\": 165, \"10\": 56, \"6\": 19}, \"10\": {\"10\": 111, \"1\": 38, \"6\": 82, \"12\": 9}, \"11\": {\"14\": 37, \"7\": 19, \"8\": 32, \"15\": 6, \"11\": 59, \"3\": 24, \"13\": 22, \"5\": 16, \"4\": 5, \"0\": 18, \"2\": 2}, \"5\": {\"5\": 32, \"11\": 15, \"4\": 27, \"8\": 22, \"13\": 28, \"14\": 21, \"7\": 36, \"2\": 16, \"0\": 18, \"3\": 23, \"15\": 2}, \"15\": {\"13\": 23, \"3\": 43, \"8\": 17, \"15\": 144, \"11\": 4, \"0\": 2, \"7\": 1, \"5\": 5, \"14\": 1}, \"3\": {\"3\": 70, \"15\": 32, \"7\": 10, \"13\": 23, \"11\": 31, \"5\": 23, \"8\": 21, \"14\": 18, \"4\": 3, \"0\": 8, \"2\": 1}, \"12\": {\"10\": 11, \"12\": 155, \"9\": 55, \"6\": 19}, \"7\": {\"4\": 30, \"13\": 18, \"0\": 25, \"3\": 17, \"5\": 26, \"8\": 15, \"11\": 23, \"7\": 27, \"2\": 32, \"14\": 23, \"9\": 3, \"15\": 1}, \"13\": {\"13\": 38, \"4\": 24, \"11\": 24, \"3\": 21, \"0\": 23, \"8\": 26, \"15\": 6, \"7\": 18, \"5\": 28, \"2\": 17, \"14\": 15}, \"6\": {\"6\": 162, \"12\": 18, \"10\": 47, \"1\": 13}, \"4\": {\"5\": 25, \"0\": 33, \"4\": 48, \"2\": 40, \"14\": 12, \"7\": 33, \"13\": 21, \"8\": 13, \"9\": 4, \"11\": 9, \"3\": 1, \"12\": 1}, \"9\": {\"9\": 159, \"12\": 64, \"0\": 1, \"2\": 9, \"8\": 1, \"4\": 4, \"7\": 1, \"5\": 1}}, \"ORACLE.run1_26\": {\"4\": {\"15\": 12, \"14\": 25, \"4\": 21, \"2\": 16, \"3\": 26, \"8\": 16, \"1\": 22, \"7\": 28, \"10\": 16, \"5\": 11, \"9\": 12, \"0\": 23, \"6\": 8, \"13\": 4}, \"12\": {\"12\": 117, \"13\": 15, \"11\": 52, \"6\": 30, \"5\": 4, \"15\": 5, \"9\": 7, \"8\": 4, \"10\": 2, \"1\": 1, \"2\": 1, \"0\": 2}, \"10\": {\"1\": 18, \"9\": 12, \"10\": 28, \"3\": 12, \"7\": 20, \"8\": 27, \"5\": 11, \"14\": 18, \"0\": 26, \"6\": 13, \"13\": 12, \"4\": 21, \"15\": 10, \"2\": 8, \"12\": 3, \"11\": 1}, \"0\": {\"3\": 12, \"14\": 23, \"10\": 21, \"4\": 19, \"0\": 27, \"6\": 25, \"5\": 11, \"13\": 3, \"7\": 17, \"1\": 18, \"8\": 15, \"15\": 13, \"9\": 15, \"12\": 5, \"2\": 16}, \"13\": {\"5\": 33, \"2\": 9, \"8\": 15, \"13\": 29, \"3\": 11, \"10\": 16, \"9\": 26, \"12\": 10, \"0\": 13, \"15\": 21, \"6\": 19, \"7\": 10, \"1\": 6, \"11\": 10, \"4\": 6, \"14\": 6}, \"9\": {\"15\": 15, \"5\": 29, \"3\": 10, \"9\": 29, \"6\": 32, \"0\": 8, \"12\": 4, \"10\": 14, \"4\": 10, \"13\": 20, \"1\": 12, \"14\": 12, \"7\": 14, \"8\": 15, \"2\": 15, \"11\": 1}, \"3\": {\"7\": 21, \"15\": 10, \"2\": 33, \"4\": 25, \"10\": 18, \"3\": 33, \"8\": 15, \"1\": 25, \"0\": 7, \"9\": 12, \"5\": 11, \"14\": 22, \"6\": 5, \"13\": 3}, \"2\": {\"5\": 16, \"3\": 30, \"1\": 19, \"2\": 25, \"4\": 18, \"10\": 7, \"14\": 18, \"9\": 10, \"7\": 27, \"6\": 10, \"8\": 22, \"0\": 16, \"15\": 10, \"13\": 11, \"12\": 1}, \"5\": {\"2\": 16, \"7\": 18, \"1\": 10, \"6\": 14, \"5\": 31, \"9\": 20, \"8\": 12, \"15\": 26, \"4\": 13, \"3\": 12, \"10\": 17, \"14\": 16, \"13\": 27, \"0\": 8}, \"14\": {\"9\": 18, \"14\": 20, \"3\": 20, \"1\": 17, \"0\": 25, \"10\": 18, \"8\": 24, \"4\": 25, \"15\": 14, \"7\": 19, \"5\": 7, \"2\": 14, \"13\": 5, \"6\": 13, \"11\": 1}, \"8\": {\"2\": 16, \"5\": 16, \"8\": 29, \"10\": 21, \"0\": 22, \"7\": 12, \"13\": 9, \"1\": 13, \"14\": 19, \"3\": 12, \"6\": 24, \"15\": 18, \"9\": 15, \"4\": 11, \"12\": 3}, \"7\": {\"14\": 14, \"4\": 31, \"1\": 22, \"5\": 6, \"3\": 30, \"10\": 19, \"7\": 32, \"13\": 12, \"0\": 14, \"2\": 20, \"15\": 7, \"9\": 12, \"6\": 7, \"8\": 14}, \"6\": {\"13\": 20, \"6\": 44, \"12\": 16, \"9\": 31, \"7\": 10, \"14\": 12, \"10\": 14, \"15\": 25, \"8\": 17, \"4\": 8, \"0\": 14, \"5\": 18, \"3\": 5, \"2\": 4, \"1\": 2}, \"11\": {\"11\": 146, \"12\": 56, \"5\": 1, \"13\": 20, \"6\": 7, \"10\": 2, \"9\": 1, \"8\": 1, \"15\": 5, \"14\": 1}, \"15\": {\"2\": 13, \"6\": 18, \"15\": 27, \"10\": 20, \"0\": 18, \"13\": 28, \"14\": 15, \"9\": 17, \"7\": 15, \"5\": 25, \"8\": 19, \"1\": 9, \"4\": 6, \"3\": 6, \"12\": 3, \"11\": 1}, \"1\": {\"2\": 14, \"7\": 34, \"10\": 17, \"1\": 23, \"5\": 11, \"0\": 22, \"6\": 6, \"14\": 23, \"15\": 7, \"4\": 23, \"3\": 28, \"8\": 15, \"13\": 5, \"9\": 12}}, \"ORACLE.run1_44\": {\"12\": {\"12\": 59, \"7\": 18, \"1\": 50, \"10\": 38, \"2\": 34, \"3\": 21, \"9\": 7, \"11\": 7, \"6\": 4, \"13\": 2}, \"7\": {\"1\": 17, \"3\": 24, \"6\": 27, \"13\": 22, \"9\": 44, \"11\": 21, \"12\": 7, \"2\": 26, \"7\": 32, \"10\": 17, \"4\": 3}, \"5\": {\"14\": 29, \"0\": 39, \"5\": 92, \"15\": 34, \"8\": 35, \"4\": 11}, \"15\": {\"4\": 28, \"14\": 47, \"15\": 63, \"0\": 40, \"8\": 35, \"5\": 27}, \"8\": {\"0\": 85, \"8\": 82, \"5\": 45, \"15\": 21, \"14\": 5, \"4\": 2}, \"2\": {\"12\": 23, \"6\": 25, \"1\": 26, \"7\": 27, \"3\": 19, \"9\": 17, \"2\": 33, \"13\": 16, \"11\": 15, \"10\": 38, \"4\": 1}, \"13\": {\"13\": 56, \"11\": 30, \"6\": 44, \"2\": 12, \"9\": 41, \"3\": 11, \"7\": 27, \"4\": 6, \"10\": 5, \"1\": 5, \"14\": 3}, \"4\": {\"6\": 2, \"4\": 96, \"14\": 70, \"13\": 10, \"15\": 31, \"9\": 5, \"5\": 17, \"8\": 4, \"0\": 3, \"3\": 2}, \"0\": {\"14\": 15, \"0\": 52, \"8\": 71, \"5\": 53, \"15\": 42, \"4\": 7}, \"6\": {\"10\": 9, \"3\": 5, \"11\": 30, \"2\": 19, \"6\": 57, \"9\": 40, \"1\": 7, \"13\": 39, \"7\": 24, \"14\": 2, \"12\": 5, \"4\": 3}, \"9\": {\"9\": 37, \"3\": 14, \"7\": 28, \"6\": 38, \"11\": 26, \"14\": 4, \"10\": 2, \"2\": 25, \"13\": 46, \"4\": 4, \"1\": 10, \"12\": 6}, \"11\": {\"11\": 55, \"2\": 13, \"9\": 26, \"12\": 13, \"13\": 36, \"1\": 9, \"3\": 11, \"6\": 38, \"10\": 10, \"7\": 29}, \"10\": {\"1\": 50, \"3\": 14, \"10\": 54, \"2\": 38, \"12\": 41, \"7\": 21, \"11\": 9, \"13\": 4, \"9\": 2, \"6\": 7}, \"14\": {\"14\": 76, \"5\": 29, \"15\": 44, \"4\": 59, \"7\": 2, \"0\": 9, \"8\": 5, \"13\": 11, \"9\": 4, \"3\": 1}, \"1\": {\"12\": 62, \"1\": 41, \"7\": 21, \"3\": 28, \"2\": 31, \"10\": 30, \"11\": 7, \"6\": 3, \"13\": 5, \"9\": 12}, \"3\": {\"1\": 48, \"12\": 21, \"9\": 23, \"3\": 56, \"2\": 26, \"10\": 15, \"7\": 22, \"4\": 3, \"13\": 11, \"6\": 5, \"11\": 9, \"15\": 1}}}, \"per_domain_accuracy\": {\"C_A_3\": {\"accuracy\": 0.9875, \"source?\": true}, \"C_A_4\": {\"accuracy\": 0.9875, \"source?\": true}, \"C_A_5\": {\"accuracy\": 0.984375, \"source?\": true}, \"W_A_3\": {\"accuracy\": 0.8984375, \"source?\": true}, \"C_A_1\": {\"accuracy\": 0.9859375, \"source?\": true}, \"W_A_4\": {\"accuracy\": 0.8860677083333334, \"source?\": true}, \"W_A_1\": {\"accuracy\": 0.9192708333333334, \"source?\": true}, \"W_A_2\": {\"accuracy\": 0.8977864583333334, \"source?\": true}, \"C_A_2\": {\"accuracy\": 0.9890625, \"source?\": true}, \"ORACLE.run1_14\": {\"accuracy\": 0.2453125, \"source?\": false}, \"ORACLE.run1_20\": {\"accuracy\": 0.12239583333333333, \"source?\": false}, \"ORACLE.run1_38\": {\"accuracy\": 0.26875, \"source?\": false}, \"ORACLE.run1_8\": {\"accuracy\": 0.21276041666666667, \"source?\": false}, \"ORACLE.run1_50\": {\"accuracy\": 0.23723958333333334, \"source?\": false}, \"ORACLE.run1_32\": {\"accuracy\": 0.35520833333333335, \"source?\": false}, \"ORACLE.run1_26\": {\"accuracy\": 0.17213541666666668, \"source?\": false}, \"ORACLE.run1_44\": {\"accuracy\": 0.24505208333333334, \"source?\": false}}}, \"history\": {\"epoch_indices\": [1, 2, 3, 4, 5, 6], \"train_label_loss\": [0.4111522537446234, 1.069118094745891, 0.26132349471412203, 0.20890311695634758, 0.17728596664845322, 0.3103648540294241], \"source_val_label_loss\": [76.33953857421875, 0.3084106743335724, 0.26841333508491516, 0.23834280669689178, 0.22213222086429596, 0.24283578991889954], \"target_val_label_loss\": [42.50163650512695, 2.2972424030303955, 2.332705020904541, 2.3452556133270264, 2.4091994762420654, 2.420278310775757], \"source_val_acc_label\": [0.8280179794520548, 0.9300085616438356, 0.9396404109589042, 0.943707191780822, 0.951091609589041, 0.942744006849315], \"target_val_acc_label\": [0.14632161458333334, 0.23235677083333334, 0.21774088541666667, 0.2177734375, 0.19153645833333333, 0.18977864583333334]}, \"dataset_metrics\": {\"source\": {\"train\": {\"n_unique_x\": 56695, \"n_unique_y\": 130, \"n_batch/episode\": 2075}, \"val\": {\"n_unique_x\": 12132, \"n_unique_y\": 130, \"n_batch/episode\": 292}, \"test\": {\"n_unique_x\": 12132, \"n_unique_y\": 130, \"n_batch/episode\": 292}}, \"target\": {\"train\": {\"n_unique_x\": 179200, \"n_unique_y\": 16, \"n_batch/episode\": 6720}, \"val\": {\"n_unique_x\": 38400, \"n_unique_y\": 16, \"n_batch/episode\": 960}, \"test\": {\"n_unique_x\": 38400, \"n_unique_y\": 16, \"n_batch/episode\": 960}}}}'"
      ]
     },
     "execution_count": 29,
     "metadata": {},
     "output_type": "execute_result"
    }
   ],
   "source": [
    "json.dumps(experiment)"
   ]
  }
 ],
 "metadata": {
  "celltoolbar": "Tags",
  "kernelspec": {
   "display_name": "Python 3 (ipykernel)",
   "language": "python",
   "name": "python3"
  },
  "language_info": {
   "codemirror_mode": {
    "name": "ipython",
    "version": 3
   },
   "file_extension": ".py",
   "mimetype": "text/x-python",
   "name": "python",
   "nbconvert_exporter": "python",
   "pygments_lexer": "ipython3",
   "version": "3.8.10"
  },
  "papermill": {
   "default_parameters": {},
   "duration": 501.823228,
   "end_time": "2022-03-18T11:09:16.982676",
   "environment_variables": {},
   "exception": null,
   "input_path": "/mnt/wd500GB/CSC500/csc500-main/csc500-notebooks/templates/tl_ptn_template.ipynb",
   "output_path": "trial.ipynb",
   "parameters": {
    "parameters": {
     "BEST_MODEL_PATH": "./best_model.pth",
     "NUM_LOGS_PER_EPOCH": 10,
     "criteria_for_best": "target_loss",
     "dataset_seed": 1337,
     "datasets": [
      {
       "domain_prefix": "C_A_",
       "domains": [
        1,
        2,
        3,
        4,
        5
       ],
       "episode_transforms": [],
       "labels": [
        "1-10.",
        "1-11.",
        "1-15.",
        "1-16.",
        "1-17.",
        "1-18.",
        "1-19.",
        "10-4.",
        "10-7.",
        "11-1.",
        "11-14.",
        "11-17.",
        "11-20.",
        "11-7.",
        "13-20.",
        "13-8.",
        "14-10.",
        "14-11.",
        "14-14.",
        "14-7.",
        "15-1.",
        "15-20.",
        "16-1.",
        "16-16.",
        "17-10.",
        "17-11.",
        "17-2.",
        "19-1.",
        "19-16.",
        "19-19.",
        "19-20.",
        "19-3.",
        "2-10.",
        "2-11.",
        "2-17.",
        "2-18.",
        "2-20.",
        "2-3.",
        "2-4.",
        "2-5.",
        "2-6.",
        "2-7.",
        "2-8.",
        "3-13.",
        "3-18.",
        "3-3.",
        "4-1.",
        "4-10.",
        "4-11.",
        "4-19.",
        "5-5.",
        "6-15.",
        "7-10.",
        "7-14.",
        "8-18.",
        "8-20.",
        "8-3.",
        "8-8."
       ],
       "num_examples_per_domain_per_label": 100,
       "pickle_path": "/mnt/wd500GB/CSC500/csc500-main/datasets/cores.stratified_ds.2022A.pkl",
       "source_or_target_dataset": "source",
       "x_transforms": [
        "unit_mag",
        "jitter_256_1",
        "take_200"
       ]
      },
      {
       "domain_prefix": "W_A_",
       "domains": [
        1,
        2,
        3,
        4
       ],
       "episode_transforms": [],
       "labels": [
        "1-10",
        "1-12",
        "1-14",
        "1-16",
        "1-18",
        "1-19",
        "1-8",
        "10-11",
        "10-17",
        "10-4",
        "10-7",
        "11-1",
        "11-10",
        "11-19",
        "11-20",
        "11-4",
        "11-7",
        "12-19",
        "12-20",
        "12-7",
        "13-14",
        "13-18",
        "13-19",
        "13-20",
        "13-3",
        "13-7",
        "14-10",
        "14-11",
        "14-12",
        "14-13",
        "14-14",
        "14-19",
        "14-20",
        "14-7",
        "14-8",
        "14-9",
        "15-1",
        "15-19",
        "15-6",
        "16-1",
        "16-16",
        "16-19",
        "16-20",
        "17-10",
        "17-11",
        "18-1",
        "18-10",
        "18-11",
        "18-12",
        "18-13",
        "18-14",
        "18-15",
        "18-16",
        "18-17",
        "18-19",
        "18-2",
        "18-20",
        "18-4",
        "18-5",
        "18-7",
        "18-8",
        "18-9",
        "19-1",
        "19-10",
        "19-11",
        "19-12",
        "19-13",
        "19-14",
        "19-15",
        "19-19",
        "19-2",
        "19-20",
        "19-3",
        "19-4",
        "19-6",
        "19-7",
        "19-8",
        "19-9",
        "2-1",
        "2-13",
        "2-15",
        "2-3",
        "2-4",
        "2-5",
        "2-6",
        "2-7",
        "2-8",
        "20-1",
        "20-12",
        "20-14",
        "20-15",
        "20-16",
        "20-18",
        "20-19",
        "20-20",
        "20-3",
        "20-4",
        "20-5",
        "20-7",
        "20-8",
        "3-1",
        "3-13",
        "3-18",
        "3-2",
        "3-8",
        "4-1",
        "4-10",
        "4-11",
        "5-1",
        "5-5",
        "6-1",
        "6-15",
        "6-6",
        "7-10",
        "7-11",
        "7-12",
        "7-13",
        "7-14",
        "7-7",
        "7-8",
        "7-9",
        "8-1",
        "8-13",
        "8-14",
        "8-18",
        "8-20",
        "8-3",
        "8-8",
        "9-1",
        "9-7"
       ],
       "num_examples_per_domain_per_label": 100,
       "pickle_path": "/mnt/wd500GB/CSC500/csc500-main/datasets/wisig.node3-19.stratified_ds.2022A.pkl",
       "source_or_target_dataset": "source",
       "x_transforms": [
        "unit_mag",
        "jitter_256_1",
        "take_200"
       ]
      },
      {
       "domain_prefix": "ORACLE.run1_",
       "domains": [
        32,
        38,
        8,
        44,
        14,
        50,
        20,
        26
       ],
       "episode_transforms": [],
       "labels": [
        "3123D52",
        "3123D65",
        "3123D79",
        "3123D80",
        "3123D54",
        "3123D70",
        "3123D7B",
        "3123D89",
        "3123D58",
        "3123D76",
        "3123D7D",
        "3123EFE",
        "3123D64",
        "3123D78",
        "3123D7E",
        "3124E4A"
       ],
       "num_examples_per_domain_per_label": 2000,
       "pickle_path": "/mnt/wd500GB/CSC500/csc500-main/datasets/oracle.Run1_framed_2000Examples_stratified_ds.2022A.pkl",
       "source_or_target_dataset": "target",
       "x_transforms": [
        "unit_mag",
        "jitter_256_1",
        "take_200",
        "resample_20Msps_to_25Msps"
       ]
      }
     ],
     "device": "cuda",
     "experiment_name": "tl_3-jitter1:cores+wisig -> oracle.run1.framed",
     "lr": 0.001,
     "n_epoch": 50,
     "n_query": 2,
     "n_shot": 3,
     "n_way": 16,
     "patience": 3,
     "seed": 1337,
     "test_k_factor": 2,
     "torch_default_dtype": "torch.float32",
     "train_k_factor": 3,
     "val_k_factor": 2,
     "x_net": [
      {
       "class": "nnReshape",
       "kargs": {
        "shape": [
         -1,
         1,
         2,
         256
        ]
       }
      },
      {
       "class": "Conv2d",
       "kargs": {
        "bias": false,
        "in_channels": 1,
        "kernel_size": [
         1,
         7
        ],
        "out_channels": 256,
        "padding": [
         0,
         3
        ]
       }
      },
      {
       "class": "ReLU",
       "kargs": {
        "inplace": true
       }
      },
      {
       "class": "BatchNorm2d",
       "kargs": {
        "num_features": 256
       }
      },
      {
       "class": "Conv2d",
       "kargs": {
        "bias": true,
        "in_channels": 256,
        "kernel_size": [
         2,
         7
        ],
        "out_channels": 80,
        "padding": [
         0,
         3
        ]
       }
      },
      {
       "class": "ReLU",
       "kargs": {
        "inplace": true
       }
      },
      {
       "class": "BatchNorm2d",
       "kargs": {
        "num_features": 80
       }
      },
      {
       "class": "Flatten",
       "kargs": {}
      },
      {
       "class": "Linear",
       "kargs": {
        "in_features": 20480,
        "out_features": 256
       }
      },
      {
       "class": "ReLU",
       "kargs": {
        "inplace": true
       }
      },
      {
       "class": "BatchNorm1d",
       "kargs": {
        "num_features": 256
       }
      },
      {
       "class": "Linear",
       "kargs": {
        "in_features": 256,
        "out_features": 256
       }
      }
     ]
    }
   },
   "start_time": "2022-03-18T11:00:55.159448",
   "version": "2.3.4"
  }
 },
 "nbformat": 4,
 "nbformat_minor": 5
}