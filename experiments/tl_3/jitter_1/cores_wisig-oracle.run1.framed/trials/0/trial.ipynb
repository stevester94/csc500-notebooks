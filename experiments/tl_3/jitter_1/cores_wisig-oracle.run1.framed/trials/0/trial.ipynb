{
 "cells": [
  {
   "cell_type": "markdown",
   "id": "9fea5f46",
   "metadata": {
    "papermill": {
     "duration": 0.017773,
     "end_time": "2022-03-18T10:51:32.799369",
     "exception": false,
     "start_time": "2022-03-18T10:51:32.781596",
     "status": "completed"
    },
    "tags": []
   },
   "source": [
    "# Transfer Learning Template"
   ]
  },
  {
   "cell_type": "code",
   "execution_count": 1,
   "id": "0902182a",
   "metadata": {
    "execution": {
     "iopub.execute_input": "2022-03-18T10:51:32.839403Z",
     "iopub.status.busy": "2022-03-18T10:51:32.832366Z",
     "iopub.status.idle": "2022-03-18T10:51:33.746276Z",
     "shell.execute_reply": "2022-03-18T10:51:33.745977Z"
    },
    "papermill": {
     "duration": 0.934525,
     "end_time": "2022-03-18T10:51:33.746345",
     "exception": false,
     "start_time": "2022-03-18T10:51:32.811820",
     "status": "completed"
    },
    "tags": []
   },
   "outputs": [],
   "source": [
    "%load_ext autoreload\n",
    "%autoreload 2\n",
    "%matplotlib inline\n",
    "\n",
    "    \n",
    "import os, json, sys, time, random\n",
    "import numpy as np\n",
    "import torch\n",
    "from torch.optim import Adam\n",
    "from  easydict import EasyDict\n",
    "import matplotlib.pyplot as plt\n",
    "\n",
    "from steves_models.steves_ptn import Steves_Prototypical_Network\n",
    "\n",
    "from steves_utils.lazy_iterable_wrapper import Lazy_Iterable_Wrapper\n",
    "from steves_utils.iterable_aggregator import Iterable_Aggregator\n",
    "from steves_utils.ptn_train_eval_test_jig import  PTN_Train_Eval_Test_Jig\n",
    "from steves_utils.torch_sequential_builder import build_sequential\n",
    "from steves_utils.torch_utils import get_dataset_metrics, ptn_confusion_by_domain_over_dataloader\n",
    "from steves_utils.utils_v2 import (per_domain_accuracy_from_confusion, get_datasets_base_path)\n",
    "from steves_utils.PTN.utils import independent_accuracy_assesment\n",
    "\n",
    "from torch.utils.data import DataLoader\n",
    "\n",
    "from steves_utils.stratified_dataset.episodic_accessor import Episodic_Accessor_Factory\n",
    "\n",
    "from steves_utils.ptn_do_report import (\n",
    "    get_loss_curve,\n",
    "    get_results_table,\n",
    "    get_parameters_table,\n",
    "    get_domain_accuracies,\n",
    ")\n",
    "\n",
    "from steves_utils.transforms import get_chained_transform"
   ]
  },
  {
   "cell_type": "markdown",
   "id": "41c840b4",
   "metadata": {
    "papermill": {
     "duration": 0.012287,
     "end_time": "2022-03-18T10:51:33.775487",
     "exception": false,
     "start_time": "2022-03-18T10:51:33.763200",
     "status": "completed"
    },
    "tags": []
   },
   "source": [
    "# Allowed Parameters\n",
    "These are allowed parameters, not defaults\n",
    "Each of these values need to be present in the injected parameters (the notebook will raise an exception if they are not present)\n",
    "\n",
    "Papermill uses the cell tag \"parameters\" to inject the real parameters below this cell.\n",
    "Enable tags to see what I mean"
   ]
  },
  {
   "cell_type": "code",
   "execution_count": 2,
   "id": "fd44eb83",
   "metadata": {
    "execution": {
     "iopub.execute_input": "2022-03-18T10:51:33.803931Z",
     "iopub.status.busy": "2022-03-18T10:51:33.803667Z",
     "iopub.status.idle": "2022-03-18T10:51:33.816890Z",
     "shell.execute_reply": "2022-03-18T10:51:33.816630Z"
    },
    "papermill": {
     "duration": 0.028965,
     "end_time": "2022-03-18T10:51:33.816946",
     "exception": false,
     "start_time": "2022-03-18T10:51:33.787981",
     "status": "completed"
    },
    "tags": []
   },
   "outputs": [],
   "source": [
    "required_parameters = {\n",
    "    \"experiment_name\",\n",
    "    \"lr\",\n",
    "    \"device\",\n",
    "    \"seed\",\n",
    "    \"dataset_seed\",\n",
    "    \"n_shot\",\n",
    "    \"n_query\",\n",
    "    \"n_way\",\n",
    "    \"train_k_factor\",\n",
    "    \"val_k_factor\",\n",
    "    \"test_k_factor\",\n",
    "    \"n_epoch\",\n",
    "    \"patience\",\n",
    "    \"criteria_for_best\",\n",
    "    \"x_net\",\n",
    "    \"datasets\",\n",
    "    \"torch_default_dtype\",\n",
    "    \"NUM_LOGS_PER_EPOCH\",\n",
    "    \"BEST_MODEL_PATH\",\n",
    "    \"x_shape\",\n",
    "}"
   ]
  },
  {
   "cell_type": "code",
   "execution_count": 3,
   "id": "fa3f0049",
   "metadata": {
    "execution": {
     "iopub.execute_input": "2022-03-18T10:51:33.848637Z",
     "iopub.status.busy": "2022-03-18T10:51:33.848347Z",
     "iopub.status.idle": "2022-03-18T10:51:33.861245Z",
     "shell.execute_reply": "2022-03-18T10:51:33.860981Z"
    },
    "papermill": {
     "duration": 0.031574,
     "end_time": "2022-03-18T10:51:33.861317",
     "exception": false,
     "start_time": "2022-03-18T10:51:33.829743",
     "status": "completed"
    },
    "tags": [
     "parameters"
    ]
   },
   "outputs": [],
   "source": [
    "from steves_utils.CORES.utils import (\n",
    "    ALL_NODES,\n",
    "    ALL_NODES_MINIMUM_1000_EXAMPLES,\n",
    "    ALL_DAYS\n",
    ")\n",
    "\n",
    "from steves_utils.ORACLE.utils_v2 import (\n",
    "    ALL_DISTANCES_FEET_NARROWED,\n",
    "    ALL_RUNS,\n",
    "    ALL_SERIAL_NUMBERS,\n",
    ")\n",
    "\n",
    "standalone_parameters = {}\n",
    "standalone_parameters[\"experiment_name\"] = \"STANDALONE PTN\"\n",
    "standalone_parameters[\"lr\"] = 0.001\n",
    "standalone_parameters[\"device\"] = \"cuda\"\n",
    "\n",
    "standalone_parameters[\"seed\"] = 1337\n",
    "standalone_parameters[\"dataset_seed\"] = 1337\n",
    "\n",
    "standalone_parameters[\"n_way\"] = 8\n",
    "standalone_parameters[\"n_shot\"] = 3\n",
    "standalone_parameters[\"n_query\"]  = 2\n",
    "standalone_parameters[\"train_k_factor\"] = 1\n",
    "standalone_parameters[\"val_k_factor\"] = 2\n",
    "standalone_parameters[\"test_k_factor\"] = 2\n",
    "\n",
    "\n",
    "standalone_parameters[\"n_epoch\"] = 50\n",
    "\n",
    "standalone_parameters[\"patience\"] = 10\n",
    "standalone_parameters[\"criteria_for_best\"] = \"source_loss\"\n",
    "\n",
    "standalone_parameters[\"datasets\"] = [\n",
    "    {\n",
    "        \"labels\": ALL_SERIAL_NUMBERS,\n",
    "        \"domains\": ALL_DISTANCES_FEET_NARROWED,\n",
    "        \"num_examples_per_domain_per_label\": 100,\n",
    "        \"pickle_path\": os.path.join(get_datasets_base_path(), \"oracle.Run1_framed_2000Examples_stratified_ds.2022A.pkl\"),\n",
    "        \"source_or_target_dataset\": \"source\",\n",
    "        \"x_transforms\": [\"unit_mag\", \"minus_two\"],\n",
    "        \"episode_transforms\": [],\n",
    "        \"domain_prefix\": \"ORACLE_\"\n",
    "    },\n",
    "    {\n",
    "        \"labels\": ALL_NODES,\n",
    "        \"domains\": ALL_DAYS,\n",
    "        \"num_examples_per_domain_per_label\": 100,\n",
    "        \"pickle_path\": os.path.join(get_datasets_base_path(), \"cores.stratified_ds.2022A.pkl\"),\n",
    "        \"source_or_target_dataset\": \"target\",\n",
    "        \"x_transforms\": [\"unit_power\", \"times_zero\"],\n",
    "        \"episode_transforms\": [],\n",
    "        \"domain_prefix\": \"CORES_\"\n",
    "    }   \n",
    "]\n",
    "\n",
    "standalone_parameters[\"torch_default_dtype\"] = \"torch.float32\" \n",
    "\n",
    "\n",
    "\n",
    "standalone_parameters[\"x_net\"] =     [\n",
    "    {\"class\": \"nnReshape\", \"kargs\": {\"shape\":[-1, 1, 2, 256]}},\n",
    "    {\"class\": \"Conv2d\", \"kargs\": { \"in_channels\":1, \"out_channels\":256, \"kernel_size\":(1,7), \"bias\":False, \"padding\":(0,3), },},\n",
    "    {\"class\": \"ReLU\", \"kargs\": {\"inplace\": True}},\n",
    "    {\"class\": \"BatchNorm2d\", \"kargs\": {\"num_features\":256}},\n",
    "\n",
    "    {\"class\": \"Conv2d\", \"kargs\": { \"in_channels\":256, \"out_channels\":80, \"kernel_size\":(2,7), \"bias\":True, \"padding\":(0,3), },},\n",
    "    {\"class\": \"ReLU\", \"kargs\": {\"inplace\": True}},\n",
    "    {\"class\": \"BatchNorm2d\", \"kargs\": {\"num_features\":80}},\n",
    "    {\"class\": \"Flatten\", \"kargs\": {}},\n",
    "\n",
    "    {\"class\": \"Linear\", \"kargs\": {\"in_features\": 80*256, \"out_features\": 256}}, # 80 units per IQ pair\n",
    "    {\"class\": \"ReLU\", \"kargs\": {\"inplace\": True}},\n",
    "    {\"class\": \"BatchNorm1d\", \"kargs\": {\"num_features\":256}},\n",
    "\n",
    "    {\"class\": \"Linear\", \"kargs\": {\"in_features\": 256, \"out_features\": 256}},\n",
    "]\n",
    "\n",
    "# Parameters relevant to results\n",
    "# These parameters will basically never need to change\n",
    "standalone_parameters[\"NUM_LOGS_PER_EPOCH\"] = 10\n",
    "standalone_parameters[\"BEST_MODEL_PATH\"] = \"./best_model.pth\"\n",
    "\n",
    "\n",
    "\n",
    "\n"
   ]
  },
  {
   "cell_type": "code",
   "execution_count": 4,
   "id": "b88514fa",
   "metadata": {
    "execution": {
     "iopub.execute_input": "2022-03-18T10:51:33.896536Z",
     "iopub.status.busy": "2022-03-18T10:51:33.888724Z",
     "iopub.status.idle": "2022-03-18T10:51:33.910229Z",
     "shell.execute_reply": "2022-03-18T10:51:33.909790Z"
    },
    "papermill": {
     "duration": 0.035907,
     "end_time": "2022-03-18T10:51:33.910331",
     "exception": false,
     "start_time": "2022-03-18T10:51:33.874424",
     "status": "completed"
    },
    "tags": [
     "injected-parameters"
    ]
   },
   "outputs": [],
   "source": [
    "# Parameters\n",
    "parameters = {\n",
    "    \"experiment_name\": \"tl_3-jitter1:cores+wisig -> oracle.run1.framed\",\n",
    "    \"device\": \"cuda\",\n",
    "    \"lr\": 0.001,\n",
    "    \"seed\": 1337,\n",
    "    \"dataset_seed\": 1337,\n",
    "    \"n_shot\": 3,\n",
    "    \"n_query\": 2,\n",
    "    \"train_k_factor\": 3,\n",
    "    \"val_k_factor\": 2,\n",
    "    \"test_k_factor\": 2,\n",
    "    \"torch_default_dtype\": \"torch.float32\",\n",
    "    \"n_epoch\": 50,\n",
    "    \"patience\": 3,\n",
    "    \"criteria_for_best\": \"target_loss\",\n",
    "    \"x_net\": [\n",
    "        {\"class\": \"nnReshape\", \"kargs\": {\"shape\": [-1, 1, 2, 256]}},\n",
    "        {\n",
    "            \"class\": \"Conv2d\",\n",
    "            \"kargs\": {\n",
    "                \"in_channels\": 1,\n",
    "                \"out_channels\": 256,\n",
    "                \"kernel_size\": [1, 7],\n",
    "                \"bias\": False,\n",
    "                \"padding\": [0, 3],\n",
    "            },\n",
    "        },\n",
    "        {\"class\": \"ReLU\", \"kargs\": {\"inplace\": True}},\n",
    "        {\"class\": \"BatchNorm2d\", \"kargs\": {\"num_features\": 256}},\n",
    "        {\n",
    "            \"class\": \"Conv2d\",\n",
    "            \"kargs\": {\n",
    "                \"in_channels\": 256,\n",
    "                \"out_channels\": 80,\n",
    "                \"kernel_size\": [2, 7],\n",
    "                \"bias\": True,\n",
    "                \"padding\": [0, 3],\n",
    "            },\n",
    "        },\n",
    "        {\"class\": \"ReLU\", \"kargs\": {\"inplace\": True}},\n",
    "        {\"class\": \"BatchNorm2d\", \"kargs\": {\"num_features\": 80}},\n",
    "        {\"class\": \"Flatten\", \"kargs\": {}},\n",
    "        {\"class\": \"Linear\", \"kargs\": {\"in_features\": 20480, \"out_features\": 256}},\n",
    "        {\"class\": \"ReLU\", \"kargs\": {\"inplace\": True}},\n",
    "        {\"class\": \"BatchNorm1d\", \"kargs\": {\"num_features\": 256}},\n",
    "        {\"class\": \"Linear\", \"kargs\": {\"in_features\": 256, \"out_features\": 256}},\n",
    "    ],\n",
    "    \"NUM_LOGS_PER_EPOCH\": 10,\n",
    "    \"BEST_MODEL_PATH\": \"./best_model.pth\",\n",
    "    \"n_way\": 16,\n",
    "    \"datasets\": [\n",
    "        {\n",
    "            \"labels\": [\n",
    "                \"1-10.\",\n",
    "                \"1-11.\",\n",
    "                \"1-15.\",\n",
    "                \"1-16.\",\n",
    "                \"1-17.\",\n",
    "                \"1-18.\",\n",
    "                \"1-19.\",\n",
    "                \"10-4.\",\n",
    "                \"10-7.\",\n",
    "                \"11-1.\",\n",
    "                \"11-14.\",\n",
    "                \"11-17.\",\n",
    "                \"11-20.\",\n",
    "                \"11-7.\",\n",
    "                \"13-20.\",\n",
    "                \"13-8.\",\n",
    "                \"14-10.\",\n",
    "                \"14-11.\",\n",
    "                \"14-14.\",\n",
    "                \"14-7.\",\n",
    "                \"15-1.\",\n",
    "                \"15-20.\",\n",
    "                \"16-1.\",\n",
    "                \"16-16.\",\n",
    "                \"17-10.\",\n",
    "                \"17-11.\",\n",
    "                \"17-2.\",\n",
    "                \"19-1.\",\n",
    "                \"19-16.\",\n",
    "                \"19-19.\",\n",
    "                \"19-20.\",\n",
    "                \"19-3.\",\n",
    "                \"2-10.\",\n",
    "                \"2-11.\",\n",
    "                \"2-17.\",\n",
    "                \"2-18.\",\n",
    "                \"2-20.\",\n",
    "                \"2-3.\",\n",
    "                \"2-4.\",\n",
    "                \"2-5.\",\n",
    "                \"2-6.\",\n",
    "                \"2-7.\",\n",
    "                \"2-8.\",\n",
    "                \"3-13.\",\n",
    "                \"3-18.\",\n",
    "                \"3-3.\",\n",
    "                \"4-1.\",\n",
    "                \"4-10.\",\n",
    "                \"4-11.\",\n",
    "                \"4-19.\",\n",
    "                \"5-5.\",\n",
    "                \"6-15.\",\n",
    "                \"7-10.\",\n",
    "                \"7-14.\",\n",
    "                \"8-18.\",\n",
    "                \"8-20.\",\n",
    "                \"8-3.\",\n",
    "                \"8-8.\",\n",
    "            ],\n",
    "            \"domains\": [1, 2, 3, 4, 5],\n",
    "            \"num_examples_per_domain_per_label\": 100,\n",
    "            \"pickle_path\": \"/mnt/wd500GB/CSC500/csc500-main/datasets/cores.stratified_ds.2022A.pkl\",\n",
    "            \"source_or_target_dataset\": \"source\",\n",
    "            \"x_transforms\": [\"unit_power\", \"jitter_256_1\", \"take_200\"],\n",
    "            \"episode_transforms\": [],\n",
    "            \"domain_prefix\": \"C_A_\",\n",
    "        },\n",
    "        {\n",
    "            \"labels\": [\n",
    "                \"1-10\",\n",
    "                \"1-12\",\n",
    "                \"1-14\",\n",
    "                \"1-16\",\n",
    "                \"1-18\",\n",
    "                \"1-19\",\n",
    "                \"1-8\",\n",
    "                \"10-11\",\n",
    "                \"10-17\",\n",
    "                \"10-4\",\n",
    "                \"10-7\",\n",
    "                \"11-1\",\n",
    "                \"11-10\",\n",
    "                \"11-19\",\n",
    "                \"11-20\",\n",
    "                \"11-4\",\n",
    "                \"11-7\",\n",
    "                \"12-19\",\n",
    "                \"12-20\",\n",
    "                \"12-7\",\n",
    "                \"13-14\",\n",
    "                \"13-18\",\n",
    "                \"13-19\",\n",
    "                \"13-20\",\n",
    "                \"13-3\",\n",
    "                \"13-7\",\n",
    "                \"14-10\",\n",
    "                \"14-11\",\n",
    "                \"14-12\",\n",
    "                \"14-13\",\n",
    "                \"14-14\",\n",
    "                \"14-19\",\n",
    "                \"14-20\",\n",
    "                \"14-7\",\n",
    "                \"14-8\",\n",
    "                \"14-9\",\n",
    "                \"15-1\",\n",
    "                \"15-19\",\n",
    "                \"15-6\",\n",
    "                \"16-1\",\n",
    "                \"16-16\",\n",
    "                \"16-19\",\n",
    "                \"16-20\",\n",
    "                \"17-10\",\n",
    "                \"17-11\",\n",
    "                \"18-1\",\n",
    "                \"18-10\",\n",
    "                \"18-11\",\n",
    "                \"18-12\",\n",
    "                \"18-13\",\n",
    "                \"18-14\",\n",
    "                \"18-15\",\n",
    "                \"18-16\",\n",
    "                \"18-17\",\n",
    "                \"18-19\",\n",
    "                \"18-2\",\n",
    "                \"18-20\",\n",
    "                \"18-4\",\n",
    "                \"18-5\",\n",
    "                \"18-7\",\n",
    "                \"18-8\",\n",
    "                \"18-9\",\n",
    "                \"19-1\",\n",
    "                \"19-10\",\n",
    "                \"19-11\",\n",
    "                \"19-12\",\n",
    "                \"19-13\",\n",
    "                \"19-14\",\n",
    "                \"19-15\",\n",
    "                \"19-19\",\n",
    "                \"19-2\",\n",
    "                \"19-20\",\n",
    "                \"19-3\",\n",
    "                \"19-4\",\n",
    "                \"19-6\",\n",
    "                \"19-7\",\n",
    "                \"19-8\",\n",
    "                \"19-9\",\n",
    "                \"2-1\",\n",
    "                \"2-13\",\n",
    "                \"2-15\",\n",
    "                \"2-3\",\n",
    "                \"2-4\",\n",
    "                \"2-5\",\n",
    "                \"2-6\",\n",
    "                \"2-7\",\n",
    "                \"2-8\",\n",
    "                \"20-1\",\n",
    "                \"20-12\",\n",
    "                \"20-14\",\n",
    "                \"20-15\",\n",
    "                \"20-16\",\n",
    "                \"20-18\",\n",
    "                \"20-19\",\n",
    "                \"20-20\",\n",
    "                \"20-3\",\n",
    "                \"20-4\",\n",
    "                \"20-5\",\n",
    "                \"20-7\",\n",
    "                \"20-8\",\n",
    "                \"3-1\",\n",
    "                \"3-13\",\n",
    "                \"3-18\",\n",
    "                \"3-2\",\n",
    "                \"3-8\",\n",
    "                \"4-1\",\n",
    "                \"4-10\",\n",
    "                \"4-11\",\n",
    "                \"5-1\",\n",
    "                \"5-5\",\n",
    "                \"6-1\",\n",
    "                \"6-15\",\n",
    "                \"6-6\",\n",
    "                \"7-10\",\n",
    "                \"7-11\",\n",
    "                \"7-12\",\n",
    "                \"7-13\",\n",
    "                \"7-14\",\n",
    "                \"7-7\",\n",
    "                \"7-8\",\n",
    "                \"7-9\",\n",
    "                \"8-1\",\n",
    "                \"8-13\",\n",
    "                \"8-14\",\n",
    "                \"8-18\",\n",
    "                \"8-20\",\n",
    "                \"8-3\",\n",
    "                \"8-8\",\n",
    "                \"9-1\",\n",
    "                \"9-7\",\n",
    "            ],\n",
    "            \"domains\": [1, 2, 3, 4],\n",
    "            \"num_examples_per_domain_per_label\": 100,\n",
    "            \"pickle_path\": \"/mnt/wd500GB/CSC500/csc500-main/datasets/wisig.node3-19.stratified_ds.2022A.pkl\",\n",
    "            \"source_or_target_dataset\": \"source\",\n",
    "            \"x_transforms\": [\"unit_power\", \"jitter_256_1\", \"take_200\"],\n",
    "            \"episode_transforms\": [],\n",
    "            \"domain_prefix\": \"W_A_\",\n",
    "        },\n",
    "        {\n",
    "            \"labels\": [\n",
    "                \"3123D52\",\n",
    "                \"3123D65\",\n",
    "                \"3123D79\",\n",
    "                \"3123D80\",\n",
    "                \"3123D54\",\n",
    "                \"3123D70\",\n",
    "                \"3123D7B\",\n",
    "                \"3123D89\",\n",
    "                \"3123D58\",\n",
    "                \"3123D76\",\n",
    "                \"3123D7D\",\n",
    "                \"3123EFE\",\n",
    "                \"3123D64\",\n",
    "                \"3123D78\",\n",
    "                \"3123D7E\",\n",
    "                \"3124E4A\",\n",
    "            ],\n",
    "            \"domains\": [32, 38, 8, 44, 14, 50, 20, 26],\n",
    "            \"num_examples_per_domain_per_label\": 2000,\n",
    "            \"pickle_path\": \"/mnt/wd500GB/CSC500/csc500-main/datasets/oracle.Run1_framed_2000Examples_stratified_ds.2022A.pkl\",\n",
    "            \"source_or_target_dataset\": \"target\",\n",
    "            \"x_transforms\": [\n",
    "                \"unit_power\",\n",
    "                \"jitter_256_1\",\n",
    "                \"take_200\",\n",
    "                \"resample_20Msps_to_25Msps\",\n",
    "            ],\n",
    "            \"episode_transforms\": [],\n",
    "            \"domain_prefix\": \"ORACLE.run1_\",\n",
    "        },\n",
    "    ],\n",
    "}\n"
   ]
  },
  {
   "cell_type": "code",
   "execution_count": 5,
   "id": "8fa1cc33",
   "metadata": {
    "execution": {
     "iopub.execute_input": "2022-03-18T10:51:33.944719Z",
     "iopub.status.busy": "2022-03-18T10:51:33.944162Z",
     "iopub.status.idle": "2022-03-18T10:51:33.956058Z",
     "shell.execute_reply": "2022-03-18T10:51:33.955799Z"
    },
    "papermill": {
     "duration": 0.027254,
     "end_time": "2022-03-18T10:51:33.956114",
     "exception": false,
     "start_time": "2022-03-18T10:51:33.928860",
     "status": "completed"
    },
    "tags": []
   },
   "outputs": [],
   "source": [
    "# Set this to True if you want to run this template directly\n",
    "STANDALONE = False\n",
    "if STANDALONE:\n",
    "    print(\"parameters not injected, running with standalone_parameters\")\n",
    "    parameters = standalone_parameters\n",
    "\n",
    "if not 'parameters' in locals() and not 'parameters' in globals():\n",
    "    raise Exception(\"Parameter injection failed\")\n",
    "\n",
    "#Use an easy dict for all the parameters\n",
    "p = EasyDict(parameters)\n",
    "\n",
    "if \"x_shape\" not in p:\n",
    "    p.x_shape = [2,256] # Default to this if we dont supply x_shape\n",
    "\n",
    "\n",
    "supplied_keys = set(p.keys())\n",
    "\n",
    "if  supplied_keys != required_parameters:\n",
    "    print(\"Parameters are incorrect\")\n",
    "    if len(supplied_keys - required_parameters)>0: print(\"Shouldn't have:\", str(supplied_keys - required_parameters))\n",
    "    if len(required_parameters - supplied_keys)>0: print(\"Need to have:\", str(required_parameters - supplied_keys))\n",
    "    raise RuntimeError(\"Parameters are incorrect\")"
   ]
  },
  {
   "cell_type": "code",
   "execution_count": 6,
   "id": "3a028d58",
   "metadata": {
    "execution": {
     "iopub.execute_input": "2022-03-18T10:51:33.988418Z",
     "iopub.status.busy": "2022-03-18T10:51:33.988165Z",
     "iopub.status.idle": "2022-03-18T10:51:34.003410Z",
     "shell.execute_reply": "2022-03-18T10:51:34.002966Z"
    },
    "papermill": {
     "duration": 0.030799,
     "end_time": "2022-03-18T10:51:34.003506",
     "exception": false,
     "start_time": "2022-03-18T10:51:33.972707",
     "status": "completed"
    },
    "tags": []
   },
   "outputs": [],
   "source": [
    "###################################\n",
    "# Set the RNGs and make it all deterministic\n",
    "###################################\n",
    "np.random.seed(p.seed)\n",
    "random.seed(p.seed)\n",
    "torch.manual_seed(p.seed)\n",
    "\n",
    "torch.use_deterministic_algorithms(True) "
   ]
  },
  {
   "cell_type": "code",
   "execution_count": 7,
   "id": "b691acf6",
   "metadata": {
    "execution": {
     "iopub.execute_input": "2022-03-18T10:51:34.037836Z",
     "iopub.status.busy": "2022-03-18T10:51:34.037582Z",
     "iopub.status.idle": "2022-03-18T10:51:34.050974Z",
     "shell.execute_reply": "2022-03-18T10:51:34.050557Z"
    },
    "papermill": {
     "duration": 0.028563,
     "end_time": "2022-03-18T10:51:34.051068",
     "exception": false,
     "start_time": "2022-03-18T10:51:34.022505",
     "status": "completed"
    },
    "tags": []
   },
   "outputs": [],
   "source": [
    "###########################################\n",
    "# The stratified datasets honor this\n",
    "###########################################\n",
    "torch.set_default_dtype(eval(p.torch_default_dtype))"
   ]
  },
  {
   "cell_type": "code",
   "execution_count": 8,
   "id": "b5fba671",
   "metadata": {
    "execution": {
     "iopub.execute_input": "2022-03-18T10:51:34.081415Z",
     "iopub.status.busy": "2022-03-18T10:51:34.081011Z",
     "iopub.status.idle": "2022-03-18T10:51:34.122644Z",
     "shell.execute_reply": "2022-03-18T10:51:34.122220Z"
    },
    "papermill": {
     "duration": 0.056327,
     "end_time": "2022-03-18T10:51:34.122740",
     "exception": false,
     "start_time": "2022-03-18T10:51:34.066413",
     "status": "completed"
    },
    "tags": []
   },
   "outputs": [],
   "source": [
    "###################################\n",
    "# Build the network(s)\n",
    "# Note: It's critical to do this AFTER setting the RNG\n",
    "###################################\n",
    "x_net = build_sequential(p.x_net)"
   ]
  },
  {
   "cell_type": "code",
   "execution_count": 9,
   "id": "5d7e61cc",
   "metadata": {
    "execution": {
     "iopub.execute_input": "2022-03-18T10:51:34.157567Z",
     "iopub.status.busy": "2022-03-18T10:51:34.157317Z",
     "iopub.status.idle": "2022-03-18T10:51:34.172866Z",
     "shell.execute_reply": "2022-03-18T10:51:34.173251Z"
    },
    "papermill": {
     "duration": 0.030996,
     "end_time": "2022-03-18T10:51:34.173356",
     "exception": false,
     "start_time": "2022-03-18T10:51:34.142360",
     "status": "completed"
    },
    "tags": []
   },
   "outputs": [],
   "source": [
    "start_time_secs = time.time()"
   ]
  },
  {
   "cell_type": "code",
   "execution_count": 10,
   "id": "c6b67dfd",
   "metadata": {
    "execution": {
     "iopub.execute_input": "2022-03-18T10:51:34.207101Z",
     "iopub.status.busy": "2022-03-18T10:51:34.206824Z",
     "iopub.status.idle": "2022-03-18T10:51:34.221284Z",
     "shell.execute_reply": "2022-03-18T10:51:34.220813Z"
    },
    "papermill": {
     "duration": 0.029873,
     "end_time": "2022-03-18T10:51:34.221375",
     "exception": false,
     "start_time": "2022-03-18T10:51:34.191502",
     "status": "completed"
    },
    "tags": []
   },
   "outputs": [],
   "source": [
    "p.domains_source = []\n",
    "p.domains_target = []\n",
    "\n",
    "\n",
    "train_original_source = []\n",
    "val_original_source   = []\n",
    "test_original_source  = []\n",
    "\n",
    "train_original_target = []\n",
    "val_original_target   = []\n",
    "test_original_target  = []"
   ]
  },
  {
   "cell_type": "code",
   "execution_count": 11,
   "id": "e3d9c3d3",
   "metadata": {
    "execution": {
     "iopub.execute_input": "2022-03-18T10:51:34.254753Z",
     "iopub.status.busy": "2022-03-18T10:51:34.254506Z",
     "iopub.status.idle": "2022-03-18T10:51:34.264020Z",
     "shell.execute_reply": "2022-03-18T10:51:34.263807Z"
    },
    "papermill": {
     "duration": 0.023961,
     "end_time": "2022-03-18T10:51:34.264068",
     "exception": false,
     "start_time": "2022-03-18T10:51:34.240107",
     "status": "completed"
    },
    "tags": []
   },
   "outputs": [],
   "source": [
    "# global_x_transform_func = lambda x: normalize(x.to(torch.get_default_dtype()), \"unit_power\") # unit_power, unit_mag\n",
    "# global_x_transform_func = lambda x: normalize(x, \"unit_power\") # unit_power, unit_mag"
   ]
  },
  {
   "cell_type": "code",
   "execution_count": 12,
   "id": "acb78fd2",
   "metadata": {
    "execution": {
     "iopub.execute_input": "2022-03-18T10:51:34.300492Z",
     "iopub.status.busy": "2022-03-18T10:51:34.300221Z",
     "iopub.status.idle": "2022-03-18T10:51:34.313945Z",
     "shell.execute_reply": "2022-03-18T10:51:34.313531Z"
    },
    "papermill": {
     "duration": 0.033564,
     "end_time": "2022-03-18T10:51:34.314039",
     "exception": false,
     "start_time": "2022-03-18T10:51:34.280475",
     "status": "completed"
    },
    "tags": []
   },
   "outputs": [],
   "source": [
    "def add_dataset(\n",
    "    labels,\n",
    "    domains,\n",
    "    pickle_path,\n",
    "    x_transforms,\n",
    "    episode_transforms,\n",
    "    domain_prefix,\n",
    "    num_examples_per_domain_per_label,\n",
    "    source_or_target_dataset:str,\n",
    "    iterator_seed=p.seed,\n",
    "    dataset_seed=p.dataset_seed,\n",
    "    n_shot=p.n_shot,\n",
    "    n_way=p.n_way,\n",
    "    n_query=p.n_query,\n",
    "    train_val_test_k_factors=(p.train_k_factor,p.val_k_factor,p.test_k_factor),\n",
    "):\n",
    "   \n",
    "    if x_transforms == []: x_transform = None\n",
    "    else: x_transform = get_chained_transform(x_transforms)\n",
    "    \n",
    "    if episode_transforms == []: episode_transform = None\n",
    "    else: raise Exception(\"episode_transforms not implemented\")\n",
    "    \n",
    "    episode_transform = lambda tup, _prefix=domain_prefix: (_prefix + str(tup[0]), tup[1])\n",
    "\n",
    "\n",
    "    eaf = Episodic_Accessor_Factory(\n",
    "        labels=labels,\n",
    "        domains=domains,\n",
    "        num_examples_per_domain_per_label=num_examples_per_domain_per_label,\n",
    "        iterator_seed=iterator_seed,\n",
    "        dataset_seed=dataset_seed,\n",
    "        n_shot=n_shot,\n",
    "        n_way=n_way,\n",
    "        n_query=n_query,\n",
    "        train_val_test_k_factors=train_val_test_k_factors,\n",
    "        pickle_path=pickle_path,\n",
    "        x_transform_func=x_transform,\n",
    "    )\n",
    "\n",
    "    train, val, test = eaf.get_train(), eaf.get_val(), eaf.get_test()\n",
    "    train = Lazy_Iterable_Wrapper(train, episode_transform)\n",
    "    val = Lazy_Iterable_Wrapper(val, episode_transform)\n",
    "    test = Lazy_Iterable_Wrapper(test, episode_transform)\n",
    "\n",
    "    if source_or_target_dataset==\"source\":\n",
    "        train_original_source.append(train)\n",
    "        val_original_source.append(val)\n",
    "        test_original_source.append(test)\n",
    "\n",
    "        p.domains_source.extend(\n",
    "            [domain_prefix + str(u) for u in domains]\n",
    "        )\n",
    "    elif source_or_target_dataset==\"target\":\n",
    "        train_original_target.append(train)\n",
    "        val_original_target.append(val)\n",
    "        test_original_target.append(test)\n",
    "        p.domains_target.extend(\n",
    "            [domain_prefix + str(u) for u in domains]\n",
    "        )\n",
    "    else:\n",
    "        raise Exception(f\"invalid source_or_target_dataset: {source_or_target_dataset}\")\n",
    "    "
   ]
  },
  {
   "cell_type": "code",
   "execution_count": 13,
   "id": "fe266617",
   "metadata": {
    "execution": {
     "iopub.execute_input": "2022-03-18T10:51:34.345778Z",
     "iopub.status.busy": "2022-03-18T10:51:34.345530Z",
     "iopub.status.idle": "2022-03-18T10:52:31.766114Z",
     "shell.execute_reply": "2022-03-18T10:52:31.765618Z"
    },
    "papermill": {
     "duration": 57.436041,
     "end_time": "2022-03-18T10:52:31.766216",
     "exception": false,
     "start_time": "2022-03-18T10:51:34.330175",
     "status": "completed"
    },
    "tags": []
   },
   "outputs": [],
   "source": [
    "for ds in p.datasets:\n",
    "    add_dataset(**ds)"
   ]
  },
  {
   "cell_type": "code",
   "execution_count": 14,
   "id": "b90d65ac",
   "metadata": {
    "execution": {
     "iopub.execute_input": "2022-03-18T10:52:31.799738Z",
     "iopub.status.busy": "2022-03-18T10:52:31.799482Z",
     "iopub.status.idle": "2022-03-18T10:52:31.815751Z",
     "shell.execute_reply": "2022-03-18T10:52:31.816046Z"
    },
    "papermill": {
     "duration": 0.032117,
     "end_time": "2022-03-18T10:52:31.816128",
     "exception": false,
     "start_time": "2022-03-18T10:52:31.784011",
     "status": "completed"
    },
    "tags": []
   },
   "outputs": [],
   "source": [
    "# from steves_utils.CORES.utils import (\n",
    "#     ALL_NODES,\n",
    "#     ALL_NODES_MINIMUM_1000_EXAMPLES,\n",
    "#     ALL_DAYS\n",
    "# )\n",
    "\n",
    "# add_dataset(\n",
    "#     labels=ALL_NODES,\n",
    "#     domains = ALL_DAYS,\n",
    "#     num_examples_per_domain_per_label=100,\n",
    "#     pickle_path=os.path.join(get_datasets_base_path(), \"cores.stratified_ds.2022A.pkl\"),\n",
    "#     source_or_target_dataset=\"target\",\n",
    "#     x_transform_func=global_x_transform_func,\n",
    "#     domain_modifier=lambda u: f\"cores_{u}\"\n",
    "# )"
   ]
  },
  {
   "cell_type": "code",
   "execution_count": 15,
   "id": "76db484d",
   "metadata": {
    "execution": {
     "iopub.execute_input": "2022-03-18T10:52:31.850020Z",
     "iopub.status.busy": "2022-03-18T10:52:31.849763Z",
     "iopub.status.idle": "2022-03-18T10:52:31.865180Z",
     "shell.execute_reply": "2022-03-18T10:52:31.864788Z"
    },
    "papermill": {
     "duration": 0.03105,
     "end_time": "2022-03-18T10:52:31.865268",
     "exception": false,
     "start_time": "2022-03-18T10:52:31.834218",
     "status": "completed"
    },
    "tags": []
   },
   "outputs": [],
   "source": [
    "# from steves_utils.ORACLE.utils_v2 import (\n",
    "#     ALL_DISTANCES_FEET,\n",
    "#     ALL_RUNS,\n",
    "#     ALL_SERIAL_NUMBERS,\n",
    "# )\n",
    "\n",
    "\n",
    "# add_dataset(\n",
    "#     labels=ALL_SERIAL_NUMBERS,\n",
    "#     domains = list(set(ALL_DISTANCES_FEET) - {2,62}),\n",
    "#     num_examples_per_domain_per_label=100,\n",
    "#     pickle_path=os.path.join(get_datasets_base_path(), \"oracle.Run2_framed_2000Examples_stratified_ds.2022A.pkl\"),\n",
    "#     source_or_target_dataset=\"source\",\n",
    "#     x_transform_func=global_x_transform_func,\n",
    "#     domain_modifier=lambda u: f\"oracle1_{u}\"\n",
    "# )\n"
   ]
  },
  {
   "cell_type": "code",
   "execution_count": 16,
   "id": "97dea9d2",
   "metadata": {
    "execution": {
     "iopub.execute_input": "2022-03-18T10:52:31.899074Z",
     "iopub.status.busy": "2022-03-18T10:52:31.898821Z",
     "iopub.status.idle": "2022-03-18T10:52:31.913062Z",
     "shell.execute_reply": "2022-03-18T10:52:31.912665Z"
    },
    "papermill": {
     "duration": 0.029744,
     "end_time": "2022-03-18T10:52:31.913152",
     "exception": false,
     "start_time": "2022-03-18T10:52:31.883408",
     "status": "completed"
    },
    "tags": []
   },
   "outputs": [],
   "source": [
    "# from steves_utils.ORACLE.utils_v2 import (\n",
    "#     ALL_DISTANCES_FEET,\n",
    "#     ALL_RUNS,\n",
    "#     ALL_SERIAL_NUMBERS,\n",
    "# )\n",
    "\n",
    "\n",
    "# add_dataset(\n",
    "#     labels=ALL_SERIAL_NUMBERS,\n",
    "#     domains = list(set(ALL_DISTANCES_FEET) - {2,62,56}),\n",
    "#     num_examples_per_domain_per_label=100,\n",
    "#     pickle_path=os.path.join(get_datasets_base_path(), \"oracle.Run2_framed_2000Examples_stratified_ds.2022A.pkl\"),\n",
    "#     source_or_target_dataset=\"source\",\n",
    "#     x_transform_func=global_x_transform_func,\n",
    "#     domain_modifier=lambda u: f\"oracle2_{u}\"\n",
    "# )"
   ]
  },
  {
   "cell_type": "code",
   "execution_count": 17,
   "id": "6f289866",
   "metadata": {
    "execution": {
     "iopub.execute_input": "2022-03-18T10:52:31.947065Z",
     "iopub.status.busy": "2022-03-18T10:52:31.946816Z",
     "iopub.status.idle": "2022-03-18T10:52:31.961134Z",
     "shell.execute_reply": "2022-03-18T10:52:31.960743Z"
    },
    "papermill": {
     "duration": 0.029713,
     "end_time": "2022-03-18T10:52:31.961223",
     "exception": false,
     "start_time": "2022-03-18T10:52:31.931510",
     "status": "completed"
    },
    "tags": []
   },
   "outputs": [],
   "source": [
    "# add_dataset(\n",
    "#     labels=list(range(19)),\n",
    "#     domains = [0,1,2],\n",
    "#     num_examples_per_domain_per_label=100,\n",
    "#     pickle_path=os.path.join(get_datasets_base_path(), \"metehan.stratified_ds.2022A.pkl\"),\n",
    "#     source_or_target_dataset=\"target\",\n",
    "#     x_transform_func=global_x_transform_func,\n",
    "#     domain_modifier=lambda u: f\"met_{u}\"\n",
    "# )"
   ]
  },
  {
   "cell_type": "code",
   "execution_count": 18,
   "id": "86a863c3",
   "metadata": {
    "execution": {
     "iopub.execute_input": "2022-03-18T10:52:31.994806Z",
     "iopub.status.busy": "2022-03-18T10:52:31.994552Z",
     "iopub.status.idle": "2022-03-18T10:52:32.008498Z",
     "shell.execute_reply": "2022-03-18T10:52:32.008129Z"
    },
    "papermill": {
     "duration": 0.029006,
     "end_time": "2022-03-18T10:52:32.008588",
     "exception": false,
     "start_time": "2022-03-18T10:52:31.979582",
     "status": "completed"
    },
    "tags": []
   },
   "outputs": [],
   "source": [
    "# # from steves_utils.wisig.utils import (\n",
    "# #     ALL_NODES_MINIMUM_100_EXAMPLES,\n",
    "# #     ALL_NODES_MINIMUM_500_EXAMPLES,\n",
    "# #     ALL_NODES_MINIMUM_1000_EXAMPLES,\n",
    "# #     ALL_DAYS\n",
    "# # )\n",
    "\n",
    "# import steves_utils.wisig.utils as wisig\n",
    "\n",
    "\n",
    "# add_dataset(\n",
    "#     labels=wisig.ALL_NODES_MINIMUM_100_EXAMPLES,\n",
    "#     domains = wisig.ALL_DAYS,\n",
    "#     num_examples_per_domain_per_label=100,\n",
    "#     pickle_path=os.path.join(get_datasets_base_path(), \"wisig.node3-19.stratified_ds.2022A.pkl\"),\n",
    "#     source_or_target_dataset=\"target\",\n",
    "#     x_transform_func=global_x_transform_func,\n",
    "#     domain_modifier=lambda u: f\"wisig_{u}\"\n",
    "# )"
   ]
  },
  {
   "cell_type": "code",
   "execution_count": 19,
   "id": "fd5442bc",
   "metadata": {
    "execution": {
     "iopub.execute_input": "2022-03-18T10:52:32.045625Z",
     "iopub.status.busy": "2022-03-18T10:52:32.045368Z",
     "iopub.status.idle": "2022-03-18T10:52:32.059857Z",
     "shell.execute_reply": "2022-03-18T10:52:32.059407Z"
    },
    "papermill": {
     "duration": 0.032594,
     "end_time": "2022-03-18T10:52:32.059946",
     "exception": false,
     "start_time": "2022-03-18T10:52:32.027352",
     "status": "completed"
    },
    "tags": []
   },
   "outputs": [],
   "source": [
    "###################################\n",
    "# Build the dataset\n",
    "###################################\n",
    "train_original_source = Iterable_Aggregator(train_original_source, p.seed)\n",
    "val_original_source = Iterable_Aggregator(val_original_source, p.seed)\n",
    "test_original_source = Iterable_Aggregator(test_original_source, p.seed)\n",
    "\n",
    "\n",
    "train_original_target = Iterable_Aggregator(train_original_target, p.seed)\n",
    "val_original_target = Iterable_Aggregator(val_original_target, p.seed)\n",
    "test_original_target = Iterable_Aggregator(test_original_target, p.seed)\n",
    "\n",
    "# For CNN We only use X and Y. And we only train on the source.\n",
    "# Properly form the data using a transform lambda and Lazy_Iterable_Wrapper. Finally wrap them in a dataloader\n",
    "\n",
    "transform_lambda = lambda ex: ex[1] # Original is (<domain>, <episode>) so we strip down to episode only\n",
    "\n",
    "train_processed_source = Lazy_Iterable_Wrapper(train_original_source, transform_lambda)\n",
    "val_processed_source   = Lazy_Iterable_Wrapper(val_original_source, transform_lambda)\n",
    "test_processed_source  = Lazy_Iterable_Wrapper(test_original_source, transform_lambda)\n",
    "\n",
    "train_processed_target = Lazy_Iterable_Wrapper(train_original_target, transform_lambda)\n",
    "val_processed_target   = Lazy_Iterable_Wrapper(val_original_target, transform_lambda)\n",
    "test_processed_target  = Lazy_Iterable_Wrapper(test_original_target, transform_lambda)\n",
    "\n",
    "datasets = EasyDict({\n",
    "    \"source\": {\n",
    "        \"original\": {\"train\":train_original_source, \"val\":val_original_source, \"test\":test_original_source},\n",
    "        \"processed\": {\"train\":train_processed_source, \"val\":val_processed_source, \"test\":test_processed_source}\n",
    "    },\n",
    "    \"target\": {\n",
    "        \"original\": {\"train\":train_original_target, \"val\":val_original_target, \"test\":test_original_target},\n",
    "        \"processed\": {\"train\":train_processed_target, \"val\":val_processed_target, \"test\":test_processed_target}\n",
    "    },\n",
    "})"
   ]
  },
  {
   "cell_type": "code",
   "execution_count": 20,
   "id": "5b3c01fc",
   "metadata": {
    "execution": {
     "iopub.execute_input": "2022-03-18T10:52:32.095700Z",
     "iopub.status.busy": "2022-03-18T10:52:32.095446Z",
     "iopub.status.idle": "2022-03-18T10:52:36.942029Z",
     "shell.execute_reply": "2022-03-18T10:52:36.942430Z"
    },
    "papermill": {
     "duration": 4.863386,
     "end_time": "2022-03-18T10:52:36.942555",
     "exception": false,
     "start_time": "2022-03-18T10:52:32.079169",
     "status": "completed"
    },
    "tags": []
   },
   "outputs": [
    {
     "name": "stdout",
     "output_type": "stream",
     "text": [
      "{'C_A_2', 'W_A_3', 'W_A_4', 'C_A_4', 'C_A_3', 'C_A_5', 'W_A_1', 'W_A_2', 'C_A_1'}\n"
     ]
    },
    {
     "name": "stdout",
     "output_type": "stream",
     "text": [
      "{'ORACLE.run1_14', 'ORACLE.run1_38', 'ORACLE.run1_50', 'ORACLE.run1_44', 'ORACLE.run1_26', 'ORACLE.run1_20', 'ORACLE.run1_8', 'ORACLE.run1_32'}\n"
     ]
    },
    {
     "name": "stdout",
     "output_type": "stream",
     "text": [
      "tensor([[[0., 0., 0.,  ..., 0., 0., 0.],\n",
      "         [0., 0., 0.,  ..., 0., 0., 0.]],\n",
      "\n",
      "        [[0., 0., 0.,  ..., 0., 0., 0.],\n",
      "         [0., 0., 0.,  ..., 0., 0., 0.]],\n",
      "\n",
      "        [[0., 0., 0.,  ..., 0., 0., 0.],\n",
      "         [0., 0., 0.,  ..., 0., 0., 0.]],\n",
      "\n",
      "        ...,\n",
      "\n",
      "        [[0., 0., 0.,  ..., 0., 0., 0.],\n",
      "         [0., 0., 0.,  ..., 0., 0., 0.]],\n",
      "\n",
      "        [[0., 0., 0.,  ..., 0., 0., 0.],\n",
      "         [0., 0., 0.,  ..., 0., 0., 0.]],\n",
      "\n",
      "        [[0., 0., 0.,  ..., 0., 0., 0.],\n",
      "         [0., 0., 0.,  ..., 0., 0., 0.]]])\n"
     ]
    }
   ],
   "source": [
    "from steves_utils.transforms import get_average_magnitude, get_average_power\n",
    "\n",
    "print(set([u for u,_ in val_original_source]))\n",
    "print(set([u for u,_ in val_original_target]))\n",
    "\n",
    "s_x, s_y, q_x, q_y, _ = next(iter(train_processed_source))\n",
    "print(s_x)\n",
    "\n",
    "# for ds in [\n",
    "#     train_processed_source,\n",
    "#     val_processed_source,\n",
    "#     test_processed_source,\n",
    "#     train_processed_target,\n",
    "#     val_processed_target,\n",
    "#     test_processed_target\n",
    "# ]:\n",
    "#     for s_x, s_y, q_x, q_y, _ in ds:\n",
    "#         for X in (s_x, q_x):\n",
    "#             for x in X:\n",
    "#                 assert np.isclose(get_average_magnitude(x.numpy()), 1.0)\n",
    "#                 assert np.isclose(get_average_power(x.numpy()), 1.0)\n",
    "                "
   ]
  },
  {
   "cell_type": "code",
   "execution_count": 21,
   "id": "bbdacba1",
   "metadata": {
    "execution": {
     "iopub.execute_input": "2022-03-18T10:52:36.983295Z",
     "iopub.status.busy": "2022-03-18T10:52:36.983007Z",
     "iopub.status.idle": "2022-03-18T10:52:37.047787Z",
     "shell.execute_reply": "2022-03-18T10:52:37.048191Z"
    },
    "papermill": {
     "duration": 0.083164,
     "end_time": "2022-03-18T10:52:37.048307",
     "exception": false,
     "start_time": "2022-03-18T10:52:36.965143",
     "status": "completed"
    },
    "tags": []
   },
   "outputs": [
    {
     "name": "stdout",
     "output_type": "stream",
     "text": [
      "(2, 256)\n"
     ]
    }
   ],
   "source": [
    "###################################\n",
    "# Build the model\n",
    "###################################\n",
    "# easfsl only wants a tuple for the shape\n",
    "model = Steves_Prototypical_Network(x_net, device=p.device, x_shape=tuple(p.x_shape))\n",
    "optimizer = Adam(params=model.parameters(), lr=p.lr)"
   ]
  },
  {
   "cell_type": "code",
   "execution_count": 22,
   "id": "22b39ac5",
   "metadata": {
    "execution": {
     "iopub.execute_input": "2022-03-18T10:52:37.086578Z",
     "iopub.status.busy": "2022-03-18T10:52:37.086296Z",
     "iopub.status.idle": "2022-03-18T10:59:48.350823Z",
     "shell.execute_reply": "2022-03-18T10:59:48.350318Z"
    },
    "papermill": {
     "duration": 431.281844,
     "end_time": "2022-03-18T10:59:48.350929",
     "exception": false,
     "start_time": "2022-03-18T10:52:37.069085",
     "status": "completed"
    },
    "tags": []
   },
   "outputs": [
    {
     "name": "stdout",
     "output_type": "stream",
     "text": [
      "epoch: 1, [batch: 1 / 2081], examples_per_second: 126.5331, train_label_loss: 2.8074, \n"
     ]
    },
    {
     "name": "stdout",
     "output_type": "stream",
     "text": [
      "epoch: 1, [batch: 209 / 2081], examples_per_second: 3197.5354, train_label_loss: 0.2543, \n"
     ]
    },
    {
     "name": "stdout",
     "output_type": "stream",
     "text": [
      "epoch: 1, [batch: 417 / 2081], examples_per_second: 3234.2027, train_label_loss: 0.9874, \n"
     ]
    },
    {
     "name": "stdout",
     "output_type": "stream",
     "text": [
      "epoch: 1, [batch: 625 / 2081], examples_per_second: 3224.6154, train_label_loss: 0.0593, \n"
     ]
    },
    {
     "name": "stdout",
     "output_type": "stream",
     "text": [
      "epoch: 1, [batch: 833 / 2081], examples_per_second: 3243.3963, train_label_loss: 1.2266, \n"
     ]
    },
    {
     "name": "stdout",
     "output_type": "stream",
     "text": [
      "epoch: 1, [batch: 1041 / 2081], examples_per_second: 3223.6560, train_label_loss: 0.1403, \n"
     ]
    },
    {
     "name": "stdout",
     "output_type": "stream",
     "text": [
      "epoch: 1, [batch: 1249 / 2081], examples_per_second: 3238.8589, train_label_loss: 0.4947, \n"
     ]
    },
    {
     "name": "stdout",
     "output_type": "stream",
     "text": [
      "epoch: 1, [batch: 1457 / 2081], examples_per_second: 3195.5191, train_label_loss: 0.5530, \n"
     ]
    },
    {
     "name": "stdout",
     "output_type": "stream",
     "text": [
      "epoch: 1, [batch: 1665 / 2081], examples_per_second: 3206.4081, train_label_loss: 0.1121, \n"
     ]
    },
    {
     "name": "stdout",
     "output_type": "stream",
     "text": [
      "epoch: 1, [batch: 1873 / 2081], examples_per_second: 3214.2470, train_label_loss: 0.3424, \n"
     ]
    },
    {
     "name": "stdout",
     "output_type": "stream",
     "text": [
      "=============================================================\n",
      "epoch: 1, source_val_acc_label: 0.9270, target_val_acc_label: 0.1969, source_val_label_loss: 2.1825, target_val_label_loss: 2.4436, \n",
      "=============================================================\n"
     ]
    },
    {
     "name": "stdout",
     "output_type": "stream",
     "text": [
      "New best\n"
     ]
    },
    {
     "name": "stdout",
     "output_type": "stream",
     "text": [
      "epoch: 2, [batch: 1 / 2079], examples_per_second: 10.4930, train_label_loss: 9.2437, \n"
     ]
    },
    {
     "name": "stdout",
     "output_type": "stream",
     "text": [
      "epoch: 2, [batch: 208 / 2079], examples_per_second: 3201.3468, train_label_loss: 0.9906, \n"
     ]
    },
    {
     "name": "stdout",
     "output_type": "stream",
     "text": [
      "epoch: 2, [batch: 416 / 2079], examples_per_second: 3243.9555, train_label_loss: 0.0609, \n"
     ]
    },
    {
     "name": "stdout",
     "output_type": "stream",
     "text": [
      "epoch: 2, [batch: 624 / 2079], examples_per_second: 3215.0467, train_label_loss: 0.2409, \n"
     ]
    },
    {
     "name": "stdout",
     "output_type": "stream",
     "text": [
      "epoch: 2, [batch: 832 / 2079], examples_per_second: 3227.2140, train_label_loss: 0.8096, \n"
     ]
    },
    {
     "name": "stdout",
     "output_type": "stream",
     "text": [
      "epoch: 2, [batch: 1040 / 2079], examples_per_second: 3222.1619, train_label_loss: 0.5866, \n"
     ]
    },
    {
     "name": "stdout",
     "output_type": "stream",
     "text": [
      "epoch: 2, [batch: 1247 / 2079], examples_per_second: 3241.3216, train_label_loss: 0.0768, \n"
     ]
    },
    {
     "name": "stdout",
     "output_type": "stream",
     "text": [
      "epoch: 2, [batch: 1455 / 2079], examples_per_second: 3210.5490, train_label_loss: 0.8951, \n"
     ]
    },
    {
     "name": "stdout",
     "output_type": "stream",
     "text": [
      "epoch: 2, [batch: 1663 / 2079], examples_per_second: 3241.0782, train_label_loss: 0.2638, \n"
     ]
    },
    {
     "name": "stdout",
     "output_type": "stream",
     "text": [
      "epoch: 2, [batch: 1871 / 2079], examples_per_second: 3243.7038, train_label_loss: 0.0997, \n"
     ]
    },
    {
     "name": "stdout",
     "output_type": "stream",
     "text": [
      "=============================================================\n",
      "epoch: 2, source_val_acc_label: 0.9368, target_val_acc_label: 0.2024, source_val_label_loss: 0.2975, target_val_label_loss: 2.4114, \n",
      "=============================================================\n"
     ]
    },
    {
     "name": "stdout",
     "output_type": "stream",
     "text": [
      "New best\n"
     ]
    },
    {
     "name": "stdout",
     "output_type": "stream",
     "text": [
      "epoch: 3, [batch: 1 / 2082], examples_per_second: 10.4667, train_label_loss: 0.5109, \n"
     ]
    },
    {
     "name": "stdout",
     "output_type": "stream",
     "text": [
      "epoch: 3, [batch: 209 / 2082], examples_per_second: 3213.6142, train_label_loss: 1.2411, \n"
     ]
    },
    {
     "name": "stdout",
     "output_type": "stream",
     "text": [
      "epoch: 3, [batch: 417 / 2082], examples_per_second: 3244.1096, train_label_loss: 0.2923, \n"
     ]
    },
    {
     "name": "stdout",
     "output_type": "stream",
     "text": [
      "epoch: 3, [batch: 625 / 2082], examples_per_second: 3240.1566, train_label_loss: 0.7771, \n"
     ]
    },
    {
     "name": "stdout",
     "output_type": "stream",
     "text": [
      "epoch: 3, [batch: 833 / 2082], examples_per_second: 3250.3364, train_label_loss: 0.4299, \n"
     ]
    },
    {
     "name": "stdout",
     "output_type": "stream",
     "text": [
      "epoch: 3, [batch: 1041 / 2082], examples_per_second: 3243.9980, train_label_loss: 0.0101, \n"
     ]
    },
    {
     "name": "stdout",
     "output_type": "stream",
     "text": [
      "epoch: 3, [batch: 1249 / 2082], examples_per_second: 3245.3406, train_label_loss: 0.0179, \n"
     ]
    },
    {
     "name": "stdout",
     "output_type": "stream",
     "text": [
      "epoch: 3, [batch: 1457 / 2082], examples_per_second: 3215.7845, train_label_loss: 0.1634, \n"
     ]
    },
    {
     "name": "stdout",
     "output_type": "stream",
     "text": [
      "epoch: 3, [batch: 1665 / 2082], examples_per_second: 3233.1971, train_label_loss: 0.0813, \n"
     ]
    },
    {
     "name": "stdout",
     "output_type": "stream",
     "text": [
      "epoch: 3, [batch: 1873 / 2082], examples_per_second: 3249.0132, train_label_loss: 0.2638, \n"
     ]
    },
    {
     "name": "stdout",
     "output_type": "stream",
     "text": [
      "=============================================================\n",
      "epoch: 3, source_val_acc_label: 0.9503, target_val_acc_label: 0.2362, source_val_label_loss: 0.2153, target_val_label_loss: 2.2792, \n",
      "=============================================================\n"
     ]
    },
    {
     "name": "stdout",
     "output_type": "stream",
     "text": [
      "New best\n"
     ]
    },
    {
     "name": "stdout",
     "output_type": "stream",
     "text": [
      "epoch: 4, [batch: 1 / 2080], examples_per_second: 10.4569, train_label_loss: 0.2680, \n"
     ]
    },
    {
     "name": "stdout",
     "output_type": "stream",
     "text": [
      "epoch: 4, [batch: 208 / 2080], examples_per_second: 3206.4556, train_label_loss: 0.1736, \n"
     ]
    },
    {
     "name": "stdout",
     "output_type": "stream",
     "text": [
      "epoch: 4, [batch: 416 / 2080], examples_per_second: 3232.5917, train_label_loss: 0.1918, \n"
     ]
    },
    {
     "name": "stdout",
     "output_type": "stream",
     "text": [
      "epoch: 4, [batch: 624 / 2080], examples_per_second: 3225.9864, train_label_loss: 0.0907, \n"
     ]
    },
    {
     "name": "stdout",
     "output_type": "stream",
     "text": [
      "epoch: 4, [batch: 832 / 2080], examples_per_second: 3245.3425, train_label_loss: 0.1224, \n"
     ]
    },
    {
     "name": "stdout",
     "output_type": "stream",
     "text": [
      "epoch: 4, [batch: 1040 / 2080], examples_per_second: 3229.1412, train_label_loss: 0.0496, \n"
     ]
    },
    {
     "name": "stdout",
     "output_type": "stream",
     "text": [
      "epoch: 4, [batch: 1248 / 2080], examples_per_second: 3228.8540, train_label_loss: 0.0334, \n"
     ]
    },
    {
     "name": "stdout",
     "output_type": "stream",
     "text": [
      "epoch: 4, [batch: 1456 / 2080], examples_per_second: 3217.6038, train_label_loss: 0.1802, \n"
     ]
    },
    {
     "name": "stdout",
     "output_type": "stream",
     "text": [
      "epoch: 4, [batch: 1664 / 2080], examples_per_second: 3235.8939, train_label_loss: 0.2039, \n"
     ]
    },
    {
     "name": "stdout",
     "output_type": "stream",
     "text": [
      "epoch: 4, [batch: 1872 / 2080], examples_per_second: 3253.4704, train_label_loss: 0.3967, \n"
     ]
    },
    {
     "name": "stdout",
     "output_type": "stream",
     "text": [
      "=============================================================\n",
      "epoch: 4, source_val_acc_label: 0.9515, target_val_acc_label: 0.2221, source_val_label_loss: 0.2089, target_val_label_loss: 2.3429, \n",
      "=============================================================\n"
     ]
    },
    {
     "name": "stdout",
     "output_type": "stream",
     "text": [
      "epoch: 5, [batch: 1 / 2079], examples_per_second: 10.5359, train_label_loss: 0.0458, \n"
     ]
    },
    {
     "name": "stdout",
     "output_type": "stream",
     "text": [
      "epoch: 5, [batch: 208 / 2079], examples_per_second: 3190.0498, train_label_loss: 0.2097, \n"
     ]
    },
    {
     "name": "stdout",
     "output_type": "stream",
     "text": [
      "epoch: 5, [batch: 416 / 2079], examples_per_second: 3236.2917, train_label_loss: 0.1593, \n"
     ]
    },
    {
     "name": "stdout",
     "output_type": "stream",
     "text": [
      "epoch: 5, [batch: 624 / 2079], examples_per_second: 3232.3794, train_label_loss: 0.0675, \n"
     ]
    },
    {
     "name": "stdout",
     "output_type": "stream",
     "text": [
      "epoch: 5, [batch: 832 / 2079], examples_per_second: 3241.4522, train_label_loss: 0.0130, \n"
     ]
    },
    {
     "name": "stdout",
     "output_type": "stream",
     "text": [
      "epoch: 5, [batch: 1040 / 2079], examples_per_second: 3248.2453, train_label_loss: 0.3865, \n"
     ]
    },
    {
     "name": "stdout",
     "output_type": "stream",
     "text": [
      "epoch: 5, [batch: 1247 / 2079], examples_per_second: 3238.8964, train_label_loss: 0.3679, \n"
     ]
    },
    {
     "name": "stdout",
     "output_type": "stream",
     "text": [
      "epoch: 5, [batch: 1455 / 2079], examples_per_second: 3211.1528, train_label_loss: 0.3182, \n"
     ]
    },
    {
     "name": "stdout",
     "output_type": "stream",
     "text": [
      "epoch: 5, [batch: 1663 / 2079], examples_per_second: 3223.1364, train_label_loss: 0.0755, \n"
     ]
    },
    {
     "name": "stdout",
     "output_type": "stream",
     "text": [
      "epoch: 5, [batch: 1871 / 2079], examples_per_second: 3231.4651, train_label_loss: 0.3866, \n"
     ]
    },
    {
     "name": "stdout",
     "output_type": "stream",
     "text": [
      "=============================================================\n",
      "epoch: 5, source_val_acc_label: 0.9635, target_val_acc_label: 0.2338, source_val_label_loss: 0.3907, target_val_label_loss: 2.2960, \n",
      "=============================================================\n"
     ]
    },
    {
     "name": "stdout",
     "output_type": "stream",
     "text": [
      "epoch: 6, [batch: 1 / 2081], examples_per_second: 10.4834, train_label_loss: 0.3424, \n"
     ]
    },
    {
     "name": "stdout",
     "output_type": "stream",
     "text": [
      "epoch: 6, [batch: 209 / 2081], examples_per_second: 3200.5812, train_label_loss: 0.0073, \n"
     ]
    },
    {
     "name": "stdout",
     "output_type": "stream",
     "text": [
      "epoch: 6, [batch: 417 / 2081], examples_per_second: 3243.7637, train_label_loss: 0.0380, \n"
     ]
    },
    {
     "name": "stdout",
     "output_type": "stream",
     "text": [
      "epoch: 6, [batch: 625 / 2081], examples_per_second: 3221.7212, train_label_loss: 0.0070, \n"
     ]
    },
    {
     "name": "stdout",
     "output_type": "stream",
     "text": [
      "epoch: 6, [batch: 833 / 2081], examples_per_second: 3234.5871, train_label_loss: 0.0523, \n"
     ]
    },
    {
     "name": "stdout",
     "output_type": "stream",
     "text": [
      "epoch: 6, [batch: 1041 / 2081], examples_per_second: 3208.8857, train_label_loss: 0.3824, \n"
     ]
    },
    {
     "name": "stdout",
     "output_type": "stream",
     "text": [
      "epoch: 6, [batch: 1249 / 2081], examples_per_second: 3229.4834, train_label_loss: 0.1393, \n"
     ]
    },
    {
     "name": "stdout",
     "output_type": "stream",
     "text": [
      "epoch: 6, [batch: 1457 / 2081], examples_per_second: 3237.2096, train_label_loss: 0.0040, \n"
     ]
    },
    {
     "name": "stdout",
     "output_type": "stream",
     "text": [
      "epoch: 6, [batch: 1665 / 2081], examples_per_second: 3210.4153, train_label_loss: 0.0354, \n"
     ]
    },
    {
     "name": "stdout",
     "output_type": "stream",
     "text": [
      "epoch: 6, [batch: 1873 / 2081], examples_per_second: 3239.2347, train_label_loss: 0.0241, \n"
     ]
    },
    {
     "name": "stdout",
     "output_type": "stream",
     "text": [
      "=============================================================\n",
      "epoch: 6, source_val_acc_label: 0.9624, target_val_acc_label: 0.2379, source_val_label_loss: 0.1669, target_val_label_loss: 2.2828, \n",
      "=============================================================\n"
     ]
    },
    {
     "name": "stdout",
     "output_type": "stream",
     "text": [
      "epoch: 7, [batch: 1 / 2075], examples_per_second: 10.5198, train_label_loss: 0.0285, \n"
     ]
    },
    {
     "name": "stdout",
     "output_type": "stream",
     "text": [
      "epoch: 7, [batch: 208 / 2075], examples_per_second: 3195.7068, train_label_loss: 0.0814, \n"
     ]
    },
    {
     "name": "stdout",
     "output_type": "stream",
     "text": [
      "epoch: 7, [batch: 415 / 2075], examples_per_second: 3230.4012, train_label_loss: 0.0037, \n"
     ]
    },
    {
     "name": "stdout",
     "output_type": "stream",
     "text": [
      "epoch: 7, [batch: 623 / 2075], examples_per_second: 3235.7092, train_label_loss: 0.3306, \n"
     ]
    },
    {
     "name": "stdout",
     "output_type": "stream",
     "text": [
      "epoch: 7, [batch: 830 / 2075], examples_per_second: 3245.2963, train_label_loss: 0.0993, \n"
     ]
    },
    {
     "name": "stdout",
     "output_type": "stream",
     "text": [
      "epoch: 7, [batch: 1038 / 2075], examples_per_second: 3215.3316, train_label_loss: 0.0609, \n"
     ]
    },
    {
     "name": "stdout",
     "output_type": "stream",
     "text": [
      "epoch: 7, [batch: 1245 / 2075], examples_per_second: 3240.3786, train_label_loss: 0.0010, \n"
     ]
    },
    {
     "name": "stdout",
     "output_type": "stream",
     "text": [
      "epoch: 7, [batch: 1452 / 2075], examples_per_second: 3224.6762, train_label_loss: 0.3192, \n"
     ]
    },
    {
     "name": "stdout",
     "output_type": "stream",
     "text": [
      "epoch: 7, [batch: 1660 / 2075], examples_per_second: 3219.7548, train_label_loss: 0.1310, \n"
     ]
    },
    {
     "name": "stdout",
     "output_type": "stream",
     "text": [
      "epoch: 7, [batch: 1867 / 2075], examples_per_second: 3234.1428, train_label_loss: 0.0788, \n"
     ]
    },
    {
     "name": "stdout",
     "output_type": "stream",
     "text": [
      "=============================================================\n",
      "epoch: 7, source_val_acc_label: 0.9621, target_val_acc_label: 0.2053, source_val_label_loss: 0.1771, target_val_label_loss: 2.4092, \n",
      "=============================================================\n"
     ]
    },
    {
     "name": "stdout",
     "output_type": "stream",
     "text": [
      "Patience (3) exhausted\n"
     ]
    }
   ],
   "source": [
    "###################################\n",
    "# train\n",
    "###################################\n",
    "jig = PTN_Train_Eval_Test_Jig(model, p.BEST_MODEL_PATH, p.device)\n",
    "\n",
    "jig.train(\n",
    "    train_iterable=datasets.source.processed.train,\n",
    "    source_val_iterable=datasets.source.processed.val,\n",
    "    target_val_iterable=datasets.target.processed.val,\n",
    "    num_epochs=p.n_epoch,\n",
    "    num_logs_per_epoch=p.NUM_LOGS_PER_EPOCH,\n",
    "    patience=p.patience,\n",
    "    optimizer=optimizer,\n",
    "    criteria_for_best=p.criteria_for_best,\n",
    ")"
   ]
  },
  {
   "cell_type": "code",
   "execution_count": 23,
   "id": "31e8fabf",
   "metadata": {
    "execution": {
     "iopub.execute_input": "2022-03-18T10:59:48.415894Z",
     "iopub.status.busy": "2022-03-18T10:59:48.415556Z",
     "iopub.status.idle": "2022-03-18T10:59:48.434430Z",
     "shell.execute_reply": "2022-03-18T10:59:48.433995Z"
    },
    "papermill": {
     "duration": 0.050544,
     "end_time": "2022-03-18T10:59:48.434536",
     "exception": false,
     "start_time": "2022-03-18T10:59:48.383992",
     "status": "completed"
    },
    "tags": []
   },
   "outputs": [],
   "source": [
    "total_experiment_time_secs = time.time() - start_time_secs"
   ]
  },
  {
   "cell_type": "code",
   "execution_count": 24,
   "id": "87b9595b",
   "metadata": {
    "execution": {
     "iopub.execute_input": "2022-03-18T10:59:48.509512Z",
     "iopub.status.busy": "2022-03-18T10:59:48.509027Z",
     "iopub.status.idle": "2022-03-18T11:00:53.204626Z",
     "shell.execute_reply": "2022-03-18T11:00:53.205010Z"
    },
    "papermill": {
     "duration": 64.73595,
     "end_time": "2022-03-18T11:00:53.205148",
     "exception": false,
     "start_time": "2022-03-18T10:59:48.469198",
     "status": "completed"
    },
    "tags": []
   },
   "outputs": [],
   "source": [
    "###################################\n",
    "# Evaluate the model\n",
    "###################################\n",
    "source_test_label_accuracy, source_test_label_loss = jig.test(datasets.source.processed.test)\n",
    "target_test_label_accuracy, target_test_label_loss = jig.test(datasets.target.processed.test)\n",
    "\n",
    "source_val_label_accuracy, source_val_label_loss = jig.test(datasets.source.processed.val)\n",
    "target_val_label_accuracy, target_val_label_loss = jig.test(datasets.target.processed.val)\n",
    "\n",
    "history = jig.get_history()\n",
    "\n",
    "total_epochs_trained = len(history[\"epoch_indices\"])\n",
    "\n",
    "val_dl = Iterable_Aggregator((datasets.source.original.val,datasets.target.original.val))\n",
    "\n",
    "confusion = ptn_confusion_by_domain_over_dataloader(model, p.device, val_dl)\n",
    "per_domain_accuracy = per_domain_accuracy_from_confusion(confusion)\n",
    "\n",
    "# Add a key to per_domain_accuracy for if it was a source domain\n",
    "for domain, accuracy in per_domain_accuracy.items():\n",
    "    per_domain_accuracy[domain] = {\n",
    "        \"accuracy\": accuracy,\n",
    "        \"source?\": domain in p.domains_source\n",
    "    }\n",
    "\n",
    "# Do an independent accuracy assesment JUST TO BE SURE!\n",
    "# _source_test_label_accuracy = independent_accuracy_assesment(model, datasets.source.processed.test, p.device)\n",
    "# _target_test_label_accuracy = independent_accuracy_assesment(model, datasets.target.processed.test, p.device)\n",
    "# _source_val_label_accuracy = independent_accuracy_assesment(model, datasets.source.processed.val, p.device)\n",
    "# _target_val_label_accuracy = independent_accuracy_assesment(model, datasets.target.processed.val, p.device)\n",
    "\n",
    "# assert(_source_test_label_accuracy == source_test_label_accuracy)\n",
    "# assert(_target_test_label_accuracy == target_test_label_accuracy)\n",
    "# assert(_source_val_label_accuracy == source_val_label_accuracy)\n",
    "# assert(_target_val_label_accuracy == target_val_label_accuracy)\n",
    "\n",
    "experiment = {\n",
    "    \"experiment_name\": p.experiment_name,\n",
    "    \"parameters\": dict(p),\n",
    "    \"results\": {\n",
    "        \"source_test_label_accuracy\": source_test_label_accuracy,\n",
    "        \"source_test_label_loss\": source_test_label_loss,\n",
    "        \"target_test_label_accuracy\": target_test_label_accuracy,\n",
    "        \"target_test_label_loss\": target_test_label_loss,\n",
    "        \"source_val_label_accuracy\": source_val_label_accuracy,\n",
    "        \"source_val_label_loss\": source_val_label_loss,\n",
    "        \"target_val_label_accuracy\": target_val_label_accuracy,\n",
    "        \"target_val_label_loss\": target_val_label_loss,\n",
    "        \"total_epochs_trained\": total_epochs_trained,\n",
    "        \"total_experiment_time_secs\": total_experiment_time_secs,\n",
    "        \"confusion\": confusion,\n",
    "        \"per_domain_accuracy\": per_domain_accuracy,\n",
    "    },\n",
    "    \"history\": history,\n",
    "    \"dataset_metrics\": get_dataset_metrics(datasets, \"ptn\"),\n",
    "}"
   ]
  },
  {
   "cell_type": "code",
   "execution_count": 25,
   "id": "54a21829",
   "metadata": {
    "execution": {
     "iopub.execute_input": "2022-03-18T11:00:53.268612Z",
     "iopub.status.busy": "2022-03-18T11:00:53.268355Z",
     "iopub.status.idle": "2022-03-18T11:00:53.391294Z",
     "shell.execute_reply": "2022-03-18T11:00:53.391682Z"
    },
    "papermill": {
     "duration": 0.153352,
     "end_time": "2022-03-18T11:00:53.391791",
     "exception": false,
     "start_time": "2022-03-18T11:00:53.238439",
     "status": "completed"
    },
    "tags": []
   },
   "outputs": [
    {
     "data": {
      "image/png": "[encoded data removed]",
      "text/plain": [
       "<Figure size 1080x504 with 1 Axes>"
      ]
     },
     "metadata": {
      "needs_background": "light"
     },
     "output_type": "display_data"
    }
   ],
   "source": [
    "ax = get_loss_curve(experiment)\n",
    "plt.show()"
   ]
  },
  {
   "cell_type": "code",
   "execution_count": 26,
   "id": "fd8a0f60",
   "metadata": {
    "execution": {
     "iopub.execute_input": "2022-03-18T11:00:53.458498Z",
     "iopub.status.busy": "2022-03-18T11:00:53.458245Z",
     "iopub.status.idle": "2022-03-18T11:00:53.600130Z",
     "shell.execute_reply": "2022-03-18T11:00:53.599903Z"
    },
    "papermill": {
     "duration": 0.174533,
     "end_time": "2022-03-18T11:00:53.600182",
     "exception": false,
     "start_time": "2022-03-18T11:00:53.425649",
     "status": "completed"
    },
    "tags": []
   },
   "outputs": [
    {
     "data": {
      "text/plain": [
       "<AxesSubplot:title={'center':'Results'}>"
      ]
     },
     "execution_count": 26,
     "metadata": {},
     "output_type": "execute_result"
    },
    {
     "data": {
      "image/png": "[encoded data removed]",
      "text/plain": [
       "<Figure size 1080x504 with 1 Axes>"
      ]
     },
     "metadata": {
      "needs_background": "light"
     },
     "output_type": "display_data"
    }
   ],
   "source": [
    "get_results_table(experiment)"
   ]
  },
  {
   "cell_type": "code",
   "execution_count": 27,
   "id": "cf8dc689",
   "metadata": {
    "execution": {
     "iopub.execute_input": "2022-03-18T11:00:53.664494Z",
     "iopub.status.busy": "2022-03-18T11:00:53.664238Z",
     "iopub.status.idle": "2022-03-18T11:00:53.822448Z",
     "shell.execute_reply": "2022-03-18T11:00:53.822882Z"
    },
    "papermill": {
     "duration": 0.191827,
     "end_time": "2022-03-18T11:00:53.823003",
     "exception": false,
     "start_time": "2022-03-18T11:00:53.631176",
     "status": "completed"
    },
    "tags": []
   },
   "outputs": [
    {
     "data": {
      "text/plain": [
       "<AxesSubplot:title={'center':'Per Domain Validation Accuracy'}, xlabel='domain'>"
      ]
     },
     "execution_count": 27,
     "metadata": {},
     "output_type": "execute_result"
    },
    {
     "data": {
      "image/png": "[encoded data removed]",
      "text/plain": [
       "<Figure size 1080x504 with 1 Axes>"
      ]
     },
     "metadata": {
      "needs_background": "light"
     },
     "output_type": "display_data"
    }
   ],
   "source": [
    "get_domain_accuracies(experiment)"
   ]
  },
  {
   "cell_type": "code",
   "execution_count": 28,
   "id": "a74ae082",
   "metadata": {
    "execution": {
     "iopub.execute_input": "2022-03-18T11:00:53.893339Z",
     "iopub.status.busy": "2022-03-18T11:00:53.893081Z",
     "iopub.status.idle": "2022-03-18T11:00:53.909828Z",
     "shell.execute_reply": "2022-03-18T11:00:53.909435Z"
    },
    "papermill": {
     "duration": 0.050345,
     "end_time": "2022-03-18T11:00:53.909917",
     "exception": false,
     "start_time": "2022-03-18T11:00:53.859572",
     "status": "completed"
    },
    "tags": []
   },
   "outputs": [
    {
     "name": "stdout",
     "output_type": "stream",
     "text": [
      "Source Test Label Accuracy: 0.9428510273972602 Target Test Label Accuracy: 0.23375651041666667\n",
      "Source Val Label Accuracy: 0.9503424657534246 Target Val Label Accuracy: 0.23616536458333334\n"
     ]
    }
   ],
   "source": [
    "print(\"Source Test Label Accuracy:\", experiment[\"results\"][\"source_test_label_accuracy\"], \"Target Test Label Accuracy:\", experiment[\"results\"][\"target_test_label_accuracy\"])\n",
    "print(\"Source Val Label Accuracy:\", experiment[\"results\"][\"source_val_label_accuracy\"], \"Target Val Label Accuracy:\", experiment[\"results\"][\"target_val_label_accuracy\"])"
   ]
  },
  {
   "cell_type": "code",
   "execution_count": 29,
   "id": "dacca602",
   "metadata": {
    "execution": {
     "iopub.execute_input": "2022-03-18T11:00:53.979918Z",
     "iopub.status.busy": "2022-03-18T11:00:53.979667Z",
     "iopub.status.idle": "2022-03-18T11:00:53.996081Z",
     "shell.execute_reply": "2022-03-18T11:00:53.996458Z"
    },
    "papermill": {
     "duration": 0.050376,
     "end_time": "2022-03-18T11:00:53.996563",
     "exception": false,
     "start_time": "2022-03-18T11:00:53.946187",
     "status": "completed"
    },
    "tags": [
     "experiment_json"
    ]
   },
   "outputs": [
    {
     "data": {
      "text/plain": [
       "'{\"experiment_name\": \"tl_3-jitter1:cores+wisig -> oracle.run1.framed\", \"parameters\": {\"experiment_name\": \"tl_3-jitter1:cores+wisig -> oracle.run1.framed\", \"device\": \"cuda\", \"lr\": 0.001, \"seed\": 1337, \"dataset_seed\": 1337, \"n_shot\": 3, \"n_query\": 2, \"train_k_factor\": 3, \"val_k_factor\": 2, \"test_k_factor\": 2, \"torch_default_dtype\": \"torch.float32\", \"n_epoch\": 50, \"patience\": 3, \"criteria_for_best\": \"target_loss\", \"x_net\": [{\"class\": \"nnReshape\", \"kargs\": {\"shape\": [-1, 1, 2, 256]}}, {\"class\": \"Conv2d\", \"kargs\": {\"in_channels\": 1, \"out_channels\": 256, \"kernel_size\": [1, 7], \"bias\": false, \"padding\": [0, 3]}}, {\"class\": \"ReLU\", \"kargs\": {\"inplace\": true}}, {\"class\": \"BatchNorm2d\", \"kargs\": {\"num_features\": 256}}, {\"class\": \"Conv2d\", \"kargs\": {\"in_channels\": 256, \"out_channels\": 80, \"kernel_size\": [2, 7], \"bias\": true, \"padding\": [0, 3]}}, {\"class\": \"ReLU\", \"kargs\": {\"inplace\": true}}, {\"class\": \"BatchNorm2d\", \"kargs\": {\"num_features\": 80}}, {\"class\": \"Flatten\", \"kargs\": {}}, {\"class\": \"Linear\", \"kargs\": {\"in_features\": 20480, \"out_features\": 256}}, {\"class\": \"ReLU\", \"kargs\": {\"inplace\": true}}, {\"class\": \"BatchNorm1d\", \"kargs\": {\"num_features\": 256}}, {\"class\": \"Linear\", \"kargs\": {\"in_features\": 256, \"out_features\": 256}}], \"NUM_LOGS_PER_EPOCH\": 10, \"BEST_MODEL_PATH\": \"./best_model.pth\", \"n_way\": 16, \"datasets\": [{\"labels\": [\"1-10.\", \"1-11.\", \"1-15.\", \"1-16.\", \"1-17.\", \"1-18.\", \"1-19.\", \"10-4.\", \"10-7.\", \"11-1.\", \"11-14.\", \"11-17.\", \"11-20.\", \"11-7.\", \"13-20.\", \"13-8.\", \"14-10.\", \"14-11.\", \"14-14.\", \"14-7.\", \"15-1.\", \"15-20.\", \"16-1.\", \"16-16.\", \"17-10.\", \"17-11.\", \"17-2.\", \"19-1.\", \"19-16.\", \"19-19.\", \"19-20.\", \"19-3.\", \"2-10.\", \"2-11.\", \"2-17.\", \"2-18.\", \"2-20.\", \"2-3.\", \"2-4.\", \"2-5.\", \"2-6.\", \"2-7.\", \"2-8.\", \"3-13.\", \"3-18.\", \"3-3.\", \"4-1.\", \"4-10.\", \"4-11.\", \"4-19.\", \"5-5.\", \"6-15.\", \"7-10.\", \"7-14.\", \"8-18.\", \"8-20.\", \"8-3.\", \"8-8.\"], \"domains\": [1, 2, 3, 4, 5], \"num_examples_per_domain_per_label\": 100, \"pickle_path\": \"/mnt/wd500GB/CSC500/csc500-main/datasets/cores.stratified_ds.2022A.pkl\", \"source_or_target_dataset\": \"source\", \"x_transforms\": [\"unit_power\", \"jitter_256_1\", \"take_200\"], \"episode_transforms\": [], \"domain_prefix\": \"C_A_\"}, {\"labels\": [\"1-10\", \"1-12\", \"1-14\", \"1-16\", \"1-18\", \"1-19\", \"1-8\", \"10-11\", \"10-17\", \"10-4\", \"10-7\", \"11-1\", \"11-10\", \"11-19\", \"11-20\", \"11-4\", \"11-7\", \"12-19\", \"12-20\", \"12-7\", \"13-14\", \"13-18\", \"13-19\", \"13-20\", \"13-3\", \"13-7\", \"14-10\", \"14-11\", \"14-12\", \"14-13\", \"14-14\", \"14-19\", \"14-20\", \"14-7\", \"14-8\", \"14-9\", \"15-1\", \"15-19\", \"15-6\", \"16-1\", \"16-16\", \"16-19\", \"16-20\", \"17-10\", \"17-11\", \"18-1\", \"18-10\", \"18-11\", \"18-12\", \"18-13\", \"18-14\", \"18-15\", \"18-16\", \"18-17\", \"18-19\", \"18-2\", \"18-20\", \"18-4\", \"18-5\", \"18-7\", \"18-8\", \"18-9\", \"19-1\", \"19-10\", \"19-11\", \"19-12\", \"19-13\", \"19-14\", \"19-15\", \"19-19\", \"19-2\", \"19-20\", \"19-3\", \"19-4\", \"19-6\", \"19-7\", \"19-8\", \"19-9\", \"2-1\", \"2-13\", \"2-15\", \"2-3\", \"2-4\", \"2-5\", \"2-6\", \"2-7\", \"2-8\", \"20-1\", \"20-12\", \"20-14\", \"20-15\", \"20-16\", \"20-18\", \"20-19\", \"20-20\", \"20-3\", \"20-4\", \"20-5\", \"20-7\", \"20-8\", \"3-1\", \"3-13\", \"3-18\", \"3-2\", \"3-8\", \"4-1\", \"4-10\", \"4-11\", \"5-1\", \"5-5\", \"6-1\", \"6-15\", \"6-6\", \"7-10\", \"7-11\", \"7-12\", \"7-13\", \"7-14\", \"7-7\", \"7-8\", \"7-9\", \"8-1\", \"8-13\", \"8-14\", \"8-18\", \"8-20\", \"8-3\", \"8-8\", \"9-1\", \"9-7\"], \"domains\": [1, 2, 3, 4], \"num_examples_per_domain_per_label\": 100, \"pickle_path\": \"/mnt/wd500GB/CSC500/csc500-main/datasets/wisig.node3-19.stratified_ds.2022A.pkl\", \"source_or_target_dataset\": \"source\", \"x_transforms\": [\"unit_power\", \"jitter_256_1\", \"take_200\"], \"episode_transforms\": [], \"domain_prefix\": \"W_A_\"}, {\"labels\": [\"3123D52\", \"3123D65\", \"3123D79\", \"3123D80\", \"3123D54\", \"3123D70\", \"3123D7B\", \"3123D89\", \"3123D58\", \"3123D76\", \"3123D7D\", \"3123EFE\", \"3123D64\", \"3123D78\", \"3123D7E\", \"3124E4A\"], \"domains\": [32, 38, 8, 44, 14, 50, 20, 26], \"num_examples_per_domain_per_label\": 2000, \"pickle_path\": \"/mnt/wd500GB/CSC500/csc500-main/datasets/oracle.Run1_framed_2000Examples_stratified_ds.2022A.pkl\", \"source_or_target_dataset\": \"target\", \"x_transforms\": [\"unit_power\", \"jitter_256_1\", \"take_200\", \"resample_20Msps_to_25Msps\"], \"episode_transforms\": [], \"domain_prefix\": \"ORACLE.run1_\"}], \"x_shape\": [2, 256], \"domains_source\": [\"C_A_1\", \"C_A_2\", \"C_A_3\", \"C_A_4\", \"C_A_5\", \"W_A_1\", \"W_A_2\", \"W_A_3\", \"W_A_4\"], \"domains_target\": [\"ORACLE.run1_32\", \"ORACLE.run1_38\", \"ORACLE.run1_8\", \"ORACLE.run1_44\", \"ORACLE.run1_14\", \"ORACLE.run1_50\", \"ORACLE.run1_20\", \"ORACLE.run1_26\"]}, \"results\": {\"source_test_label_accuracy\": 0.9428510273972602, \"source_test_label_loss\": 0.4434981048107147, \"target_test_label_accuracy\": 0.23375651041666667, \"target_test_label_loss\": 2.272132635116577, \"source_val_label_accuracy\": 0.9503424657534246, \"source_val_label_loss\": 0.2153017371892929, \"target_val_label_accuracy\": 0.23616536458333334, \"target_val_label_loss\": 2.279186725616455, \"total_epochs_trained\": 7, \"total_experiment_time_secs\": 494.2608172893524, \"confusion\": {\"C_A_3\": {\"43\": {\"43\": 12}, \"9\": {\"9\": 12}, \"6\": {\"6\": 10}, \"3\": {\"3\": 12}, \"16\": {\"16\": 12}, \"51\": {\"51\": 12}, \"31\": {\"31\": 12}, \"46\": {\"46\": 10}, \"19\": {\"19\": 8}, \"8\": {\"8\": 12}, \"18\": {\"18\": 12}, \"37\": {\"37\": 12}, \"24\": {\"24\": 12}, \"10\": {\"10\": 12}, \"44\": {\"44\": 10}, \"14\": {\"14\": 10, \"31\": 1, \"28\": 1}, \"38\": {\"38\": 10}, \"53\": {\"53\": 12}, \"20\": {\"20\": 12}, \"32\": {\"32\": 12}, \"36\": {\"36\": 10}, \"33\": {\"33\": 12}, \"56\": {\"56\": 12}, \"23\": {\"23\": 12}, \"54\": {\"54\": 10}, \"34\": {\"34\": 12}, \"13\": {\"13\": 12}, \"2\": {\"2\": 12}, \"55\": {\"55\": 9, \"42\": 1}, \"21\": {\"21\": 10}, \"49\": {\"49\": 10}, \"25\": {\"25\": 12}, \"5\": {\"5\": 12}, \"50\": {\"2\": 1, \"50\": 6, \"38\": 1}, \"40\": {\"40\": 12}, \"57\": {\"57\": 8}, \"22\": {\"22\": 10}, \"1\": {\"1\": 10}, \"17\": {\"17\": 12}, \"41\": {\"41\": 12}, \"4\": {\"4\": 10}, \"7\": {\"7\": 10}, \"26\": {\"26\": 10}, \"29\": {\"29\": 12}, \"52\": {\"52\": 12}, \"15\": {\"15\": 12}, \"35\": {\"35\": 12}, \"42\": {\"42\": 12}, \"30\": {\"30\": 10}, \"27\": {\"27\": 8}, \"45\": {\"45\": 10}, \"0\": {\"0\": 12}, \"28\": {\"28\": 12}, \"47\": {\"47\": 12}, \"11\": {\"11\": 10}, \"39\": {\"39\": 10}, \"48\": {\"48\": 12}, \"12\": {\"12\": 8}}, \"C_A_4\": {\"35\": {\"35\": 10}, \"25\": {\"25\": 12}, \"24\": {\"24\": 10}, \"48\": {\"48\": 12}, \"51\": {\"51\": 12}, \"13\": {\"13\": 12}, \"14\": {\"14\": 7, \"57\": 1}, \"32\": {\"32\": 12}, \"30\": {\"30\": 12}, \"34\": {\"34\": 10}, \"9\": {\"9\": 12}, \"1\": {\"1\": 12}, \"0\": {\"0\": 12}, \"38\": {\"38\": 12}, \"22\": {\"22\": 8}, \"40\": {\"40\": 12}, \"39\": {\"39\": 12}, \"46\": {\"46\": 12}, \"36\": {\"36\": 12}, \"50\": {\"50\": 11, \"3\": 1}, \"49\": {\"49\": 12}, \"17\": {\"17\": 12}, \"45\": {\"45\": 11, \"17\": 1}, \"6\": {\"6\": 12}, \"8\": {\"8\": 12}, \"5\": {\"5\": 9, \"15\": 1}, \"33\": {\"33\": 12}, \"31\": {\"31\": 12}, \"37\": {\"37\": 10}, \"47\": {\"47\": 8}, \"15\": {\"15\": 10}, \"7\": {\"7\": 12}, \"20\": {\"20\": 12}, \"4\": {\"4\": 11, \"18\": 1}, \"54\": {\"54\": 12}, \"44\": {\"44\": 12}, \"3\": {\"3\": 12}, \"11\": {\"11\": 10}, \"27\": {\"27\": 10}, \"19\": {\"19\": 12}, \"55\": {\"55\": 12}, \"16\": {\"16\": 12}, \"2\": {\"2\": 10}, \"52\": {\"52\": 10}, \"42\": {\"42\": 10}, \"26\": {\"26\": 12}, \"10\": {\"10\": 12}, \"53\": {\"53\": 10}, \"28\": {\"28\": 12}, \"21\": {\"21\": 10}, \"57\": {\"57\": 10}, \"23\": {\"23\": 8}, \"43\": {\"43\": 10}, \"12\": {\"12\": 12}, \"41\": {\"41\": 12}, \"56\": {\"56\": 8}, \"18\": {\"18\": 10}, \"29\": {\"29\": 8}}, \"W_A_3\": {\"109\": {\"109\": 12}, \"127\": {\"127\": 12}, \"14\": {\"14\": 12}, \"7\": {\"7\": 12}, \"129\": {\"129\": 11, \"16\": 1}, \"57\": {\"57\": 12}, \"84\": {\"84\": 12}, \"114\": {\"114\": 12}, \"44\": {\"44\": 10, \"63\": 1, \"28\": 1}, \"21\": {\"21\": 12}, \"46\": {\"46\": 12}, \"100\": {\"100\": 10, \"48\": 1, \"16\": 1}, \"63\": {\"63\": 8, \"14\": 1, \"111\": 1, \"43\": 1, \"34\": 1}, \"24\": {\"24\": 8, \"21\": 1, \"94\": 1, \"36\": 1, \"43\": 1}, \"107\": {\"107\": 12}, \"35\": {\"35\": 9, \"7\": 1}, \"81\": {\"81\": 12}, \"64\": {\"64\": 12}, \"59\": {\"36\": 1, \"59\": 11}, \"33\": {\"33\": 12}, \"34\": {\"34\": 9, \"75\": 1, \"6\": 2}, \"36\": {\"36\": 12}, \"79\": {\"79\": 12}, \"80\": {\"80\": 11, \"127\": 1}, \"77\": {\"77\": 12}, \"22\": {\"22\": 10, \"109\": 1, \"86\": 1}, \"124\": {\"124\": 12}, \"2\": {\"2\": 12}, \"87\": {\"87\": 12}, \"105\": {\"105\": 12}, \"95\": {\"86\": 1, \"95\": 11}, \"43\": {\"43\": 10, \"33\": 1, \"113\": 1}, \"56\": {\"56\": 10}, \"18\": {\"18\": 11, \"81\": 1}, \"85\": {\"85\": 12}, \"113\": {\"113\": 12}, \"97\": {\"97\": 11, \"27\": 1}, \"86\": {\"86\": 12}, \"128\": {\"21\": 2, \"128\": 5, \"122\": 1, \"19\": 1, \"87\": 2, \"68\": 1}, \"123\": {\"123\": 12}, \"8\": {\"8\": 12}, \"110\": {\"110\": 12}, \"126\": {\"18\": 1, \"126\": 10, \"39\": 1}, \"101\": {\"101\": 12}, \"115\": {\"45\": 1, \"115\": 11}, \"49\": {\"49\": 10, \"108\": 1, \"30\": 1}, \"45\": {\"45\": 12}, \"78\": {\"78\": 9, \"40\": 1, \"13\": 1, \"82\": 1}, \"65\": {\"65\": 8, \"35\": 1, \"24\": 1}, \"54\": {\"54\": 12}, \"31\": {\"31\": 10}, \"42\": {\"49\": 2, \"42\": 9, \"78\": 1}, \"68\": {\"68\": 12}, \"15\": {\"15\": 11, \"106\": 1}, \"69\": {\"69\": 12}, \"17\": {\"23\": 1, \"17\": 4, \"67\": 1, \"104\": 1, \"87\": 1, \"37\": 2}, \"73\": {\"73\": 12}, \"121\": {\"121\": 12}, \"102\": {\"102\": 12}, \"48\": {\"48\": 6, \"28\": 2, \"37\": 1, \"35\": 1, \"79\": 1, \"86\": 1}, \"23\": {\"23\": 6, \"12\": 1, \"128\": 1, \"67\": 2, \"44\": 1, \"71\": 1}, \"108\": {\"108\": 12}, \"53\": {\"53\": 12}, \"94\": {\"94\": 10}, \"41\": {\"41\": 12}, \"58\": {\"58\": 12}, \"29\": {\"29\": 12}, \"116\": {\"116\": 12}, \"60\": {\"60\": 10, \"70\": 1, \"122\": 1}, \"104\": {\"104\": 12}, \"106\": {\"106\": 12}, \"66\": {\"66\": 12}, \"47\": {\"47\": 12}, \"40\": {\"40\": 12}, \"82\": {\"82\": 11, \"86\": 1}, \"13\": {\"17\": 2, \"122\": 1, \"13\": 4, \"123\": 1, \"120\": 1, \"40\": 1, \"11\": 2}, \"19\": {\"19\": 8, \"128\": 1, \"100\": 1, \"29\": 2}, \"72\": {\"72\": 12}, \"9\": {\"9\": 12}, \"67\": {\"67\": 11, \"123\": 1}, \"11\": {\"67\": 1, \"11\": 11}, \"125\": {\"125\": 12}, \"76\": {\"76\": 8}, \"83\": {\"83\": 12}, \"74\": {\"74\": 11, \"24\": 1}, \"20\": {\"20\": 12}, \"119\": {\"119\": 12}, \"1\": {\"1\": 12}, \"16\": {\"16\": 12}, \"25\": {\"25\": 11, \"120\": 1}, \"90\": {\"90\": 8}, \"39\": {\"39\": 12}, \"28\": {\"28\": 12}, \"55\": {\"55\": 12}, \"117\": {\"117\": 11, \"14\": 1}, \"112\": {\"112\": 10, \"8\": 2}, \"38\": {\"38\": 11, \"41\": 1}, \"37\": {\"37\": 12}, \"120\": {\"120\": 11, \"13\": 1}, \"122\": {\"122\": 10, \"105\": 1, \"107\": 1}, \"50\": {\"50\": 12}, \"10\": {\"10\": 12}, \"5\": {\"5\": 12}, \"51\": {\"51\": 12}, \"3\": {\"3\": 10, \"70\": 1, \"12\": 1}, \"98\": {\"98\": 11, \"60\": 1}, \"70\": {\"70\": 11, \"85\": 1}, \"96\": {\"96\": 12}, \"12\": {\"12\": 12}, \"99\": {\"99\": 12}, \"52\": {\"52\": 12}, \"71\": {\"71\": 10, \"61\": 1, \"3\": 1}, \"89\": {\"89\": 12}, \"0\": {\"0\": 12}, \"4\": {\"4\": 9, \"118\": 1, \"43\": 1, \"40\": 1}, \"93\": {\"93\": 12}, \"6\": {\"6\": 8, \"72\": 1, \"58\": 1}, \"75\": {\"75\": 11, \"51\": 1}, \"62\": {\"62\": 12}, \"103\": {\"103\": 12}, \"30\": {\"30\": 12}, \"91\": {\"91\": 9, \"103\": 1, \"98\": 1, \"77\": 1}, \"27\": {\"27\": 12}, \"26\": {\"26\": 12}, \"61\": {\"61\": 12}, \"118\": {\"118\": 11, \"13\": 1}, \"92\": {\"92\": 12}, \"111\": {\"111\": 12}, \"32\": {\"32\": 11, \"29\": 1}, \"88\": {\"88\": 8, \"85\": 1, \"53\": 1}}, \"C_A_5\": {\"47\": {\"47\": 9, \"11\": 1}, \"53\": {\"53\": 12}, \"29\": {\"29\": 12}, \"52\": {\"52\": 12}, \"55\": {\"55\": 12}, \"17\": {\"17\": 12}, \"42\": {\"42\": 12}, \"33\": {\"33\": 10}, \"11\": {\"11\": 11, \"15\": 1}, \"19\": {\"19\": 8}, \"1\": {\"1\": 10, \"48\": 2}, \"44\": {\"44\": 12}, \"49\": {\"49\": 12}, \"4\": {\"4\": 12}, \"6\": {\"6\": 12}, \"39\": {\"39\": 12}, \"13\": {\"13\": 12}, \"5\": {\"5\": 10}, \"16\": {\"16\": 10}, \"25\": {\"25\": 12}, \"45\": {\"45\": 11, \"17\": 1}, \"7\": {\"7\": 10}, \"22\": {\"22\": 12}, \"40\": {\"40\": 12}, \"38\": {\"38\": 12}, \"35\": {\"35\": 8}, \"56\": {\"56\": 12}, \"50\": {\"50\": 10}, \"0\": {\"0\": 12}, \"10\": {\"10\": 12}, \"27\": {\"27\": 12}, \"20\": {\"20\": 10}, \"36\": {\"36\": 8}, \"34\": {\"34\": 12}, \"30\": {\"30\": 12}, \"2\": {\"2\": 10}, \"15\": {\"15\": 10, \"11\": 2}, \"18\": {\"18\": 12}, \"32\": {\"32\": 12}, \"31\": {\"31\": 12}, \"57\": {\"57\": 12}, \"48\": {\"48\": 8}, \"28\": {\"28\": 10}, \"14\": {\"57\": 3, \"14\": 4, \"3\": 1, \"46\": 1, \"31\": 3}, \"3\": {\"3\": 12}, \"8\": {\"8\": 12}, \"9\": {\"9\": 12}, \"21\": {\"21\": 10}, \"41\": {\"41\": 12}, \"24\": {\"24\": 12}, \"46\": {\"46\": 10}, \"43\": {\"43\": 10}, \"54\": {\"54\": 10}, \"23\": {\"23\": 10}, \"37\": {\"37\": 10}, \"12\": {\"12\": 10}, \"26\": {\"26\": 10}, \"51\": {\"51\": 6}}, \"C_A_1\": {\"46\": {\"46\": 12}, \"16\": {\"16\": 12}, \"26\": {\"26\": 12}, \"10\": {\"10\": 12}, \"9\": {\"9\": 10}, \"28\": {\"28\": 12}, \"51\": {\"51\": 12}, \"1\": {\"1\": 12}, \"55\": {\"55\": 12}, \"27\": {\"27\": 10}, \"22\": {\"22\": 11, \"24\": 1}, \"52\": {\"52\": 12}, \"3\": {\"3\": 12}, \"33\": {\"33\": 8}, \"47\": {\"47\": 12}, \"42\": {\"42\": 12}, \"12\": {\"12\": 4}, \"23\": {\"23\": 12}, \"49\": {\"49\": 10}, \"7\": {\"7\": 12}, \"4\": {\"4\": 12}, \"50\": {\"50\": 12}, \"19\": {\"19\": 12}, \"11\": {\"11\": 12}, \"31\": {\"31\": 10}, \"41\": {\"41\": 12}, \"56\": {\"56\": 10}, \"0\": {\"0\": 12}, \"57\": {\"57\": 12}, \"53\": {\"53\": 12}, \"43\": {\"43\": 12}, \"37\": {\"37\": 12}, \"2\": {\"2\": 8}, \"6\": {\"6\": 12}, \"18\": {\"18\": 12}, \"38\": {\"38\": 12}, \"15\": {\"15\": 12}, \"36\": {\"36\": 12}, \"39\": {\"39\": 8}, \"44\": {\"44\": 12}, \"8\": {\"8\": 12}, \"17\": {\"17\": 10}, \"5\": {\"5\": 12}, \"13\": {\"13\": 10}, \"40\": {\"40\": 10}, \"29\": {\"29\": 12}, \"48\": {\"48\": 12}, \"32\": {\"32\": 12}, \"30\": {\"30\": 12}, \"35\": {\"35\": 12}, \"25\": {\"25\": 12}, \"14\": {\"14\": 7, \"8\": 3, \"30\": 2}, \"54\": {\"54\": 10}, \"20\": {\"20\": 8}, \"21\": {\"21\": 10}, \"45\": {\"45\": 8}, \"24\": {\"24\": 8}, \"34\": {\"34\": 8}}, \"W_A_4\": {\"28\": {\"28\": 12}, \"4\": {\"4\": 12}, \"72\": {\"72\": 11, \"128\": 1}, \"111\": {\"111\": 12}, \"108\": {\"108\": 11, \"129\": 1}, \"43\": {\"43\": 9, \"105\": 1}, \"96\": {\"96\": 11, \"117\": 1}, \"89\": {\"89\": 12}, \"31\": {\"31\": 12}, \"45\": {\"45\": 12}, \"2\": {\"2\": 12}, \"114\": {\"114\": 12}, \"11\": {\"11\": 12}, \"12\": {\"12\": 12}, \"14\": {\"14\": 10, \"89\": 1, \"121\": 1}, \"90\": {\"90\": 11, \"66\": 1}, \"10\": {\"10\": 11, \"24\": 1}, \"63\": {\"91\": 1, \"63\": 10, \"70\": 1}, \"85\": {\"85\": 11, \"63\": 1}, \"64\": {\"64\": 12}, \"82\": {\"82\": 10, \"16\": 1, \"70\": 1}, \"58\": {\"58\": 12}, \"3\": {\"3\": 12}, \"54\": {\"54\": 12}, \"121\": {\"121\": 5, \"63\": 1, \"67\": 2, \"23\": 1, \"123\": 1, \"108\": 1, \"74\": 1}, \"42\": {\"42\": 11, \"124\": 1}, \"98\": {\"98\": 12}, \"123\": {\"123\": 11, \"113\": 1}, \"91\": {\"98\": 1, \"63\": 1, \"91\": 9, \"128\": 1}, \"66\": {\"66\": 10, \"90\": 2}, \"102\": {\"102\": 12}, \"122\": {\"122\": 12}, \"1\": {\"1\": 12}, \"15\": {\"15\": 12}, \"97\": {\"15\": 3, \"97\": 8, \"29\": 1}, \"75\": {\"75\": 12}, \"95\": {\"95\": 12}, \"57\": {\"57\": 12}, \"68\": {\"68\": 12}, \"125\": {\"125\": 12}, \"62\": {\"62\": 10}, \"27\": {\"27\": 10, \"78\": 1, \"14\": 1}, \"120\": {\"120\": 11, \"103\": 1}, \"26\": {\"26\": 12}, \"55\": {\"55\": 12}, \"71\": {\"71\": 11, \"122\": 1}, \"22\": {\"22\": 11, \"118\": 1}, \"99\": {\"99\": 10, \"21\": 1, \"43\": 1}, \"84\": {\"84\": 11, \"103\": 1}, \"37\": {\"37\": 12}, \"83\": {\"83\": 12}, \"46\": {\"46\": 12}, \"35\": {\"35\": 11, \"117\": 1}, \"13\": {\"13\": 12}, \"53\": {\"53\": 10, \"69\": 1, \"21\": 1}, \"127\": {\"127\": 12}, \"69\": {\"15\": 1, \"69\": 10, \"78\": 1}, \"48\": {\"48\": 11, \"119\": 1}, \"16\": {\"16\": 12}, \"0\": {\"0\": 11, \"4\": 1}, \"8\": {\"8\": 10, \"69\": 1, \"106\": 1}, \"9\": {\"9\": 12}, \"115\": {\"8\": 1, \"115\": 9, \"76\": 1, \"72\": 1}, \"70\": {\"70\": 6, \"78\": 1, \"9\": 1, \"100\": 1, \"112\": 1, \"53\": 2}, \"119\": {\"119\": 12}, \"59\": {\"59\": 12}, \"52\": {\"52\": 12}, \"60\": {\"60\": 9, \"14\": 1, \"19\": 2}, \"44\": {\"44\": 11, \"90\": 1}, \"51\": {\"51\": 4, \"44\": 1, \"111\": 2, \"47\": 1, \"12\": 1, \"96\": 1, \"94\": 2}, \"6\": {\"6\": 9, \"59\": 2, \"10\": 1}, \"73\": {\"73\": 12}, \"78\": {\"78\": 8, \"128\": 1, \"87\": 1, \"32\": 1, \"21\": 1}, \"92\": {\"92\": 12}, \"20\": {\"20\": 9, \"73\": 1, \"77\": 1, \"48\": 1}, \"17\": {\"17\": 12}, \"74\": {\"74\": 12}, \"19\": {\"19\": 12}, \"50\": {\"50\": 12}, \"34\": {\"34\": 11, \"35\": 1}, \"104\": {\"104\": 8}, \"33\": {\"33\": 11, \"51\": 1}, \"5\": {\"5\": 12}, \"7\": {\"7\": 11, \"69\": 1}, \"29\": {\"29\": 12}, \"25\": {\"25\": 12}, \"124\": {\"124\": 12}, \"117\": {\"117\": 10, \"113\": 1, \"61\": 1}, \"88\": {\"88\": 9, \"118\": 1, \"47\": 1, \"46\": 1}, \"61\": {\"61\": 11, \"69\": 1}, \"86\": {\"86\": 11, \"56\": 1}, \"116\": {\"116\": 12}, \"24\": {\"24\": 11, \"36\": 1}, \"128\": {\"128\": 9, \"78\": 1, \"77\": 2}, \"101\": {\"101\": 12}, \"65\": {\"65\": 9, \"78\": 1}, \"36\": {\"36\": 12}, \"21\": {\"21\": 11, \"122\": 1}, \"106\": {\"106\": 12}, \"118\": {\"118\": 10, \"8\": 1, \"88\": 1}, \"113\": {\"113\": 9, \"51\": 1, \"123\": 1, \"16\": 1}, \"40\": {\"40\": 12}, \"93\": {\"93\": 8}, \"94\": {\"94\": 9, \"36\": 3}, \"103\": {\"103\": 7, \"77\": 2, \"49\": 1, \"5\": 1, \"87\": 1}, \"110\": {\"110\": 12}, \"56\": {\"56\": 12}, \"39\": {\"39\": 12}, \"109\": {\"39\": 1, \"109\": 10, \"118\": 1}, \"67\": {\"67\": 10, \"115\": 1, \"59\": 1}, \"129\": {\"129\": 12}, \"30\": {\"30\": 12}, \"126\": {\"126\": 9, \"32\": 1, \"113\": 1, \"108\": 1}, \"87\": {\"100\": 1, \"87\": 10, \"4\": 1}, \"112\": {\"112\": 12}, \"100\": {\"100\": 12}, \"79\": {\"79\": 10}, \"81\": {\"81\": 11, \"12\": 1}, \"76\": {\"76\": 10}, \"47\": {\"47\": 11, \"100\": 1}, \"77\": {\"77\": 12}, \"23\": {\"103\": 1, \"72\": 1, \"23\": 4, \"77\": 2, \"41\": 1, \"69\": 1, \"78\": 1, \"0\": 1}, \"18\": {\"18\": 12}, \"49\": {\"49\": 10, \"80\": 1, \"53\": 1}, \"41\": {\"41\": 10, \"47\": 1, \"61\": 1}, \"32\": {\"78\": 1, \"32\": 9, \"72\": 1, \"45\": 1}, \"107\": {\"107\": 10}, \"80\": {\"80\": 11, \"18\": 1}, \"105\": {\"105\": 7, \"87\": 2, \"113\": 1}, \"38\": {\"38\": 10}}, \"W_A_1\": {\"108\": {\"108\": 10}, \"40\": {\"40\": 11, \"105\": 1}, \"68\": {\"68\": 12}, \"23\": {\"23\": 9, \"86\": 1, \"60\": 2}, \"26\": {\"70\": 1, \"26\": 11}, \"64\": {\"64\": 12}, \"22\": {\"22\": 12}, \"3\": {\"3\": 10, \"64\": 1, \"2\": 1}, \"4\": {\"4\": 11, \"11\": 1}, \"70\": {\"70\": 11, \"72\": 1}, \"57\": {\"57\": 12}, \"79\": {\"79\": 12}, \"9\": {\"9\": 12}, \"89\": {\"89\": 12}, \"110\": {\"110\": 12}, \"102\": {\"102\": 12}, \"31\": {\"31\": 12}, \"58\": {\"58\": 12}, \"47\": {\"47\": 12}, \"24\": {\"24\": 11, \"36\": 1}, \"19\": {\"19\": 12}, \"11\": {\"11\": 12}, \"52\": {\"52\": 12}, \"17\": {\"17\": 12}, \"25\": {\"25\": 12}, \"69\": {\"69\": 12}, \"96\": {\"96\": 12}, \"109\": {\"109\": 9, \"104\": 3}, \"115\": {\"115\": 12}, \"83\": {\"83\": 11, \"42\": 1}, \"84\": {\"84\": 12}, \"119\": {\"119\": 10}, \"122\": {\"122\": 10}, \"99\": {\"99\": 12}, \"1\": {\"1\": 12}, \"74\": {\"74\": 10, \"23\": 1, \"68\": 1}, \"85\": {\"85\": 12}, \"127\": {\"127\": 12}, \"111\": {\"111\": 12}, \"53\": {\"53\": 12}, \"88\": {\"88\": 11, \"36\": 1}, \"65\": {\"65\": 8, \"60\": 1, \"83\": 1}, \"7\": {\"7\": 12}, \"16\": {\"16\": 11, \"122\": 1}, \"128\": {\"128\": 9, \"84\": 1, \"61\": 1, \"68\": 1}, \"34\": {\"34\": 7, \"41\": 1, \"98\": 1, \"68\": 1, \"110\": 1, \"49\": 1}, \"129\": {\"129\": 11, \"123\": 1}, \"43\": {\"43\": 12}, \"92\": {\"92\": 12}, \"28\": {\"28\": 11, \"48\": 1}, \"27\": {\"27\": 12}, \"114\": {\"114\": 12}, \"73\": {\"73\": 12}, \"0\": {\"0\": 12}, \"104\": {\"104\": 12}, \"118\": {\"118\": 12}, \"41\": {\"41\": 12}, \"49\": {\"49\": 12}, \"14\": {\"14\": 12}, \"46\": {\"129\": 1, \"46\": 6, \"97\": 1, \"12\": 2, \"31\": 1, \"1\": 1}, \"33\": {\"33\": 12}, \"76\": {\"76\": 12}, \"125\": {\"125\": 12}, \"86\": {\"23\": 1, \"86\": 9}, \"66\": {\"66\": 11, \"108\": 1}, \"5\": {\"5\": 12}, \"117\": {\"117\": 12}, \"75\": {\"75\": 12}, \"61\": {\"61\": 12}, \"50\": {\"50\": 12}, \"67\": {\"67\": 10}, \"18\": {\"18\": 12}, \"98\": {\"98\": 12}, \"55\": {\"55\": 10}, \"32\": {\"32\": 12}, \"120\": {\"120\": 12}, \"97\": {\"97\": 10, \"70\": 1, \"88\": 1}, \"126\": {\"126\": 12}, \"45\": {\"104\": 1, \"45\": 10, \"23\": 1}, \"78\": {\"78\": 7, \"43\": 2, \"22\": 1}, \"100\": {\"100\": 12}, \"107\": {\"107\": 12}, \"93\": {\"93\": 11, \"107\": 1}, \"77\": {\"77\": 12}, \"63\": {\"63\": 12}, \"112\": {\"112\": 12}, \"113\": {\"113\": 12}, \"103\": {\"103\": 10}, \"71\": {\"71\": 12}, \"30\": {\"30\": 11, \"112\": 1}, \"90\": {\"90\": 12}, \"37\": {\"15\": 1, \"37\": 11}, \"60\": {\"60\": 7, \"64\": 1, \"119\": 1, \"49\": 1, \"45\": 1, \"81\": 1}, \"15\": {\"15\": 9, \"94\": 1, \"111\": 1, \"27\": 1}, \"39\": {\"39\": 12}, \"72\": {\"72\": 12}, \"54\": {\"54\": 12}, \"35\": {\"35\": 12}, \"2\": {\"2\": 12}, \"94\": {\"94\": 11, \"60\": 1}, \"42\": {\"42\": 11, \"109\": 1}, \"81\": {\"81\": 12}, \"8\": {\"8\": 12}, \"87\": {\"87\": 12}, \"6\": {\"6\": 11, \"98\": 1}, \"36\": {\"36\": 12}, \"91\": {\"91\": 11, \"77\": 1}, \"56\": {\"56\": 12}, \"80\": {\"80\": 11, \"78\": 1}, \"124\": {\"124\": 10}, \"44\": {\"44\": 12}, \"13\": {\"13\": 12}, \"10\": {\"10\": 10, \"78\": 1, \"111\": 1}, \"59\": {\"59\": 10, \"123\": 1, \"51\": 1}, \"95\": {\"95\": 12}, \"105\": {\"105\": 10, \"66\": 1, \"40\": 1}, \"101\": {\"101\": 12}, \"20\": {\"20\": 12}, \"48\": {\"28\": 2, \"48\": 9, \"123\": 1}, \"106\": {\"106\": 12}, \"51\": {\"51\": 12}, \"21\": {\"84\": 2, \"21\": 4, \"87\": 1, \"51\": 1, \"78\": 1, \"70\": 1, \"68\": 1, \"50\": 1}, \"123\": {\"123\": 12}, \"121\": {\"121\": 12}, \"38\": {\"38\": 12}, \"62\": {\"62\": 12}, \"29\": {\"29\": 12}, \"82\": {\"82\": 12}, \"116\": {\"116\": 12}, \"12\": {\"12\": 8}}, \"W_A_2\": {\"91\": {\"91\": 12}, \"12\": {\"12\": 12}, \"101\": {\"101\": 10}, \"121\": {\"117\": 1, \"121\": 9, \"72\": 1, \"90\": 1}, \"118\": {\"118\": 12}, \"10\": {\"10\": 12}, \"117\": {\"117\": 11, \"121\": 1}, \"110\": {\"110\": 9, \"101\": 1, \"14\": 2}, \"97\": {\"97\": 8, \"88\": 1, \"106\": 2, \"28\": 1}, \"28\": {\"17\": 1, \"28\": 8, \"124\": 1, \"97\": 1, \"116\": 1}, \"88\": {\"118\": 1, \"88\": 8, \"47\": 2, \"13\": 1}, \"17\": {\"17\": 10, \"91\": 1, \"106\": 1}, \"126\": {\"126\": 11, \"129\": 1}, \"33\": {\"33\": 12}, \"86\": {\"86\": 12}, \"106\": {\"106\": 12}, \"54\": {\"54\": 12}, \"125\": {\"125\": 12}, \"83\": {\"83\": 12}, \"98\": {\"98\": 12}, \"11\": {\"11\": 11, \"40\": 1}, \"32\": {\"32\": 11, \"123\": 1}, \"42\": {\"42\": 8, \"44\": 4}, \"103\": {\"103\": 12}, \"87\": {\"87\": 11, \"21\": 1}, \"61\": {\"118\": 1, \"61\": 10, \"22\": 1}, \"13\": {\"13\": 12}, \"4\": {\"4\": 12}, \"15\": {\"15\": 10}, \"120\": {\"120\": 12}, \"80\": {\"80\": 12}, \"72\": {\"72\": 10}, \"64\": {\"64\": 12}, \"81\": {\"81\": 12}, \"102\": {\"102\": 12}, \"76\": {\"76\": 12}, \"49\": {\"49\": 8, \"11\": 1, \"67\": 1}, \"129\": {\"129\": 12}, \"89\": {\"89\": 12}, \"52\": {\"52\": 12}, \"35\": {\"35\": 12}, \"53\": {\"53\": 10, \"114\": 1, \"111\": 1}, \"112\": {\"112\": 11, \"3\": 1}, \"105\": {\"105\": 12}, \"100\": {\"100\": 12}, \"9\": {\"9\": 12}, \"82\": {\"82\": 12}, \"51\": {\"51\": 11, \"125\": 1}, \"21\": {\"21\": 12}, \"92\": {\"92\": 11, \"84\": 1}, \"69\": {\"69\": 12}, \"77\": {\"77\": 12}, \"50\": {\"50\": 11, \"88\": 1}, \"36\": {\"36\": 11, \"24\": 1}, \"16\": {\"16\": 10, \"41\": 1, \"114\": 1}, \"8\": {\"18\": 1, \"8\": 10, \"120\": 1}, \"127\": {\"127\": 12}, \"46\": {\"46\": 10}, \"84\": {\"84\": 12}, \"18\": {\"18\": 12}, \"123\": {\"123\": 9, \"19\": 1}, \"56\": {\"56\": 11, \"15\": 1}, \"26\": {\"26\": 12}, \"14\": {\"109\": 1, \"14\": 7, \"72\": 2, \"43\": 1, \"71\": 1}, \"109\": {\"109\": 12}, \"66\": {\"66\": 12}, \"24\": {\"24\": 10, \"28\": 1, \"94\": 1}, \"71\": {\"87\": 1, \"71\": 11}, \"65\": {\"65\": 10, \"92\": 1, \"121\": 1}, \"75\": {\"75\": 11, \"21\": 1}, \"111\": {\"111\": 12}, \"30\": {\"30\": 11, \"71\": 1}, \"85\": {\"85\": 12}, \"113\": {\"113\": 9, \"31\": 1}, \"45\": {\"45\": 12}, \"29\": {\"29\": 9, \"128\": 2, \"21\": 1}, \"20\": {\"20\": 12}, \"25\": {\"25\": 12}, \"0\": {\"0\": 11, \"101\": 1}, \"68\": {\"68\": 12}, \"119\": {\"119\": 12}, \"90\": {\"90\": 12}, \"38\": {\"38\": 12}, \"99\": {\"99\": 12}, \"1\": {\"1\": 12}, \"67\": {\"67\": 10, \"109\": 1, \"25\": 1}, \"63\": {\"63\": 12}, \"34\": {\"34\": 11, \"91\": 1}, \"108\": {\"108\": 12}, \"40\": {\"40\": 12}, \"47\": {\"47\": 10, \"59\": 1, \"129\": 1}, \"37\": {\"37\": 12}, \"78\": {\"78\": 11, \"21\": 1}, \"96\": {\"96\": 10, \"116\": 2}, \"43\": {\"43\": 10, \"21\": 1, \"33\": 1}, \"5\": {\"5\": 10}, \"124\": {\"124\": 12}, \"44\": {\"44\": 12}, \"41\": {\"41\": 11, \"47\": 1}, \"116\": {\"116\": 12}, \"19\": {\"19\": 10, \"44\": 1, \"82\": 1}, \"115\": {\"115\": 12}, \"95\": {\"95\": 11, \"55\": 1}, \"3\": {\"3\": 10}, \"59\": {\"59\": 12}, \"55\": {\"55\": 11, \"22\": 1}, \"70\": {\"70\": 10, \"53\": 1, \"93\": 1}, \"6\": {\"6\": 12}, \"2\": {\"2\": 9, \"16\": 2, \"117\": 1}, \"48\": {\"48\": 12}, \"23\": {\"23\": 9, \"122\": 1, \"100\": 1, \"115\": 1}, \"7\": {\"7\": 12}, \"122\": {\"122\": 12}, \"57\": {\"57\": 10, \"108\": 1, \"71\": 1}, \"39\": {\"39\": 8, \"128\": 1, \"113\": 1}, \"79\": {\"79\": 12}, \"27\": {\"27\": 10}, \"74\": {\"74\": 9, \"56\": 1, \"120\": 1, \"51\": 1}, \"73\": {\"73\": 12}, \"62\": {\"62\": 12}, \"107\": {\"107\": 12}, \"128\": {\"122\": 1, \"128\": 7, \"71\": 2, \"53\": 2}, \"60\": {\"122\": 1, \"60\": 8, \"48\": 1, \"116\": 1, \"107\": 1}, \"114\": {\"114\": 12}, \"22\": {\"22\": 12}, \"93\": {\"93\": 12}, \"94\": {\"94\": 11, \"55\": 1}, \"31\": {\"31\": 9, \"39\": 1}, \"104\": {\"104\": 12}, \"58\": {\"58\": 12}}, \"C_A_2\": {\"14\": {\"14\": 12}, \"22\": {\"22\": 12}, \"9\": {\"9\": 12}, \"47\": {\"47\": 12}, \"13\": {\"13\": 12}, \"8\": {\"8\": 12}, \"7\": {\"7\": 12}, \"49\": {\"49\": 12}, \"20\": {\"20\": 12}, \"16\": {\"16\": 11, \"2\": 1}, \"34\": {\"34\": 12}, \"56\": {\"56\": 11, \"22\": 1}, \"38\": {\"38\": 10}, \"4\": {\"4\": 12}, \"43\": {\"43\": 10}, \"26\": {\"26\": 10}, \"35\": {\"35\": 12}, \"31\": {\"31\": 12}, \"1\": {\"1\": 12}, \"39\": {\"39\": 12}, \"5\": {\"5\": 12}, \"24\": {\"24\": 12}, \"54\": {\"54\": 10}, \"23\": {\"23\": 12}, \"51\": {\"51\": 12}, \"27\": {\"27\": 10}, \"15\": {\"15\": 12}, \"0\": {\"0\": 12}, \"19\": {\"19\": 10}, \"18\": {\"18\": 8}, \"30\": {\"30\": 12}, \"55\": {\"55\": 10}, \"57\": {\"57\": 12}, \"2\": {\"2\": 12}, \"12\": {\"12\": 8}, \"41\": {\"41\": 12}, \"42\": {\"42\": 12}, \"48\": {\"48\": 12}, \"37\": {\"37\": 12}, \"6\": {\"6\": 10}, \"11\": {\"11\": 10}, \"45\": {\"45\": 8}, \"21\": {\"21\": 12}, \"46\": {\"46\": 10}, \"25\": {\"25\": 12}, \"36\": {\"36\": 10}, \"53\": {\"53\": 12}, \"28\": {\"28\": 12}, \"40\": {\"40\": 10}, \"33\": {\"33\": 10}, \"44\": {\"44\": 10}, \"3\": {\"3\": 12}, \"17\": {\"17\": 12}, \"32\": {\"32\": 10}, \"10\": {\"10\": 10}, \"52\": {\"52\": 10}, \"50\": {\"53\": 1, \"50\": 7}, \"29\": {\"29\": 6}}, \"ORACLE.run1_14\": {\"15\": {\"15\": 93, \"7\": 47, \"13\": 20, \"5\": 14, \"4\": 16, \"6\": 15, \"14\": 6, \"2\": 16, \"1\": 9, \"3\": 3, \"10\": 1}, \"3\": {\"5\": 28, \"11\": 11, \"4\": 22, \"1\": 35, \"3\": 30, \"14\": 11, \"0\": 30, \"7\": 12, \"2\": 17, \"10\": 29, \"8\": 4, \"13\": 6, \"6\": 3, \"15\": 2}, \"6\": {\"3\": 3, \"6\": 56, \"14\": 33, \"13\": 59, \"5\": 17, \"2\": 36, \"15\": 14, \"10\": 5, \"1\": 3, \"4\": 7, \"7\": 6, \"0\": 1}, \"1\": {\"1\": 52, \"14\": 8, \"7\": 22, \"4\": 20, \"3\": 37, \"10\": 12, \"0\": 20, \"5\": 31, \"8\": 10, \"15\": 3, \"6\": 8, \"2\": 13, \"11\": 2, \"13\": 2}, \"8\": {\"9\": 41, \"8\": 112, \"0\": 28, \"1\": 12, \"4\": 7, \"3\": 10, \"10\": 3, \"12\": 15, \"5\": 2, \"11\": 9, \"7\": 1}, \"10\": {\"3\": 26, \"10\": 46, \"2\": 11, \"1\": 15, \"11\": 30, \"4\": 20, \"14\": 19, \"5\": 17, \"0\": 37, \"13\": 7, \"6\": 5, \"8\": 1, \"7\": 4, \"12\": 1, \"15\": 1}, \"9\": {\"0\": 15, \"11\": 29, \"8\": 40, \"12\": 73, \"9\": 78, \"10\": 2, \"3\": 2, \"1\": 1}, \"13\": {\"14\": 28, \"13\": 34, \"6\": 60, \"5\": 18, \"10\": 10, \"3\": 10, \"2\": 34, \"7\": 11, \"4\": 16, \"15\": 16, \"1\": 2, \"0\": 1}, \"12\": {\"12\": 129, \"9\": 82, \"8\": 18, \"11\": 8, \"3\": 1, \"0\": 2}, \"5\": {\"4\": 35, \"2\": 22, \"1\": 28, \"6\": 10, \"3\": 26, \"7\": 28, \"13\": 9, \"5\": 39, \"10\": 14, \"14\": 13, \"0\": 5, \"15\": 6, \"11\": 4, \"8\": 1}, \"0\": {\"0\": 43, \"8\": 7, \"10\": 37, \"4\": 13, \"1\": 27, \"3\": 35, \"11\": 44, \"14\": 7, \"5\": 6, \"2\": 5, \"9\": 11, \"7\": 2, \"15\": 1, \"6\": 2}, \"2\": {\"7\": 13, \"6\": 29, \"10\": 14, \"4\": 24, \"5\": 29, \"1\": 11, \"2\": 38, \"13\": 26, \"3\": 17, \"14\": 26, \"15\": 10, \"0\": 3}, \"11\": {\"11\": 86, \"1\": 3, \"8\": 11, \"10\": 22, \"4\": 5, \"3\": 15, \"0\": 43, \"9\": 34, \"5\": 3, \"12\": 9, \"2\": 5, \"14\": 3, \"6\": 1}, \"14\": {\"4\": 23, \"6\": 38, \"1\": 11, \"5\": 13, \"3\": 18, \"13\": 23, \"2\": 33, \"14\": 36, \"10\": 23, \"11\": 6, \"7\": 7, \"0\": 7, \"15\": 2}, \"7\": {\"15\": 39, \"3\": 13, \"4\": 25, \"7\": 72, \"5\": 28, \"1\": 31, \"2\": 15, \"10\": 3, \"14\": 6, \"13\": 4, \"6\": 4}, \"4\": {\"14\": 16, \"4\": 35, \"0\": 11, \"2\": 25, \"7\": 24, \"11\": 1, \"5\": 24, \"13\": 17, \"10\": 25, \"1\": 14, \"3\": 32, \"6\": 7, \"15\": 8, \"8\": 1}}, \"ORACLE.run1_20\": {\"3\": {\"2\": 17, \"12\": 18, \"11\": 11, \"4\": 18, \"8\": 14, \"0\": 13, \"9\": 34, \"5\": 10, \"15\": 9, \"10\": 9, \"6\": 10, \"13\": 17, \"7\": 20, \"3\": 15, \"1\": 17, \"14\": 8}, \"15\": {\"5\": 25, \"11\": 9, \"8\": 6, \"0\": 24, \"9\": 17, \"1\": 28, \"3\": 11, \"12\": 24, \"15\": 29, \"2\": 23, \"6\": 3, \"13\": 22, \"7\": 14, \"4\": 4, \"10\": 1}, \"8\": {\"6\": 25, \"10\": 27, \"7\": 21, \"8\": 24, \"2\": 13, \"15\": 5, \"1\": 6, \"11\": 14, \"0\": 6, \"4\": 22, \"3\": 17, \"5\": 11, \"14\": 17, \"9\": 13, \"12\": 17, \"13\": 2}, \"4\": {\"2\": 14, \"12\": 18, \"1\": 11, \"4\": 31, \"3\": 16, \"9\": 19, \"14\": 24, \"5\": 6, \"8\": 20, \"10\": 32, \"13\": 1, \"6\": 18, \"0\": 6, \"15\": 3, \"7\": 15, \"11\": 6}, \"14\": {\"2\": 6, \"6\": 40, \"10\": 31, \"14\": 52, \"4\": 24, \"7\": 17, \"11\": 4, \"8\": 30, \"9\": 6, \"15\": 1, \"12\": 7, \"3\": 12, \"5\": 6, \"1\": 2, \"0\": 2}, \"0\": {\"9\": 17, \"13\": 18, \"0\": 27, \"2\": 20, \"3\": 16, \"8\": 12, \"5\": 28, \"15\": 24, \"1\": 17, \"12\": 19, \"7\": 14, \"11\": 10, \"10\": 3, \"4\": 9, \"6\": 5, \"14\": 1}, \"7\": {\"5\": 22, \"2\": 24, \"1\": 14, \"8\": 17, \"6\": 18, \"3\": 26, \"14\": 5, \"13\": 8, \"0\": 12, \"7\": 17, \"15\": 8, \"4\": 16, \"12\": 22, \"10\": 10, \"11\": 7, \"9\": 14}, \"6\": {\"2\": 15, \"6\": 29, \"10\": 35, \"4\": 22, \"8\": 30, \"11\": 13, \"14\": 29, \"3\": 12, \"1\": 4, \"9\": 16, \"7\": 17, \"5\": 3, \"12\": 9, \"0\": 2, \"13\": 2, \"15\": 2}, \"10\": {\"10\": 43, \"7\": 13, \"6\": 35, \"12\": 14, \"2\": 10, \"8\": 19, \"14\": 42, \"11\": 4, \"4\": 22, \"5\": 6, \"9\": 3, \"3\": 20, \"1\": 3, \"15\": 1, \"13\": 2, \"0\": 3}, \"5\": {\"5\": 20, \"11\": 10, \"8\": 23, \"9\": 17, \"2\": 15, \"15\": 31, \"13\": 19, \"12\": 19, \"4\": 7, \"7\": 19, \"1\": 22, \"6\": 4, \"0\": 24, \"14\": 2, \"3\": 6, \"10\": 2}, \"2\": {\"1\": 19, \"7\": 24, \"2\": 20, \"5\": 17, \"6\": 11, \"14\": 7, \"9\": 23, \"4\": 10, \"10\": 7, \"3\": 20, \"13\": 14, \"11\": 12, \"8\": 15, \"12\": 15, \"15\": 18, \"0\": 8}, \"12\": {\"7\": 15, \"2\": 18, \"6\": 6, \"3\": 17, \"4\": 19, \"11\": 11, \"13\": 13, \"15\": 15, \"12\": 25, \"8\": 17, \"0\": 14, \"10\": 8, \"14\": 5, \"1\": 14, \"9\": 24, \"5\": 19}, \"9\": {\"9\": 16, \"8\": 20, \"1\": 21, \"15\": 11, \"14\": 5, \"12\": 22, \"4\": 16, \"6\": 13, \"10\": 9, \"5\": 16, \"2\": 20, \"13\": 13, \"7\": 18, \"3\": 25, \"11\": 11, \"0\": 4}, \"1\": {\"13\": 19, \"5\": 23, \"3\": 15, \"9\": 21, \"4\": 6, \"7\": 14, \"12\": 28, \"11\": 14, \"14\": 3, \"2\": 23, \"6\": 5, \"10\": 6, \"1\": 19, \"0\": 19, \"15\": 21, \"8\": 4}, \"11\": {\"2\": 17, \"1\": 12, \"9\": 18, \"11\": 49, \"15\": 13, \"14\": 9, \"12\": 20, \"5\": 8, \"7\": 25, \"13\": 22, \"0\": 14, \"6\": 10, \"3\": 11, \"8\": 7, \"4\": 5}, \"13\": {\"1\": 21, \"3\": 17, \"5\": 22, \"9\": 14, \"4\": 7, \"13\": 39, \"11\": 21, \"15\": 21, \"7\": 16, \"0\": 19, \"2\": 17, \"8\": 5, \"12\": 18, \"14\": 1, \"6\": 2}}, \"ORACLE.run1_38\": {\"5\": {\"15\": 17, \"9\": 24, \"10\": 18, \"6\": 34, \"7\": 20, \"5\": 42, \"3\": 9, \"0\": 18, \"8\": 24, \"13\": 17, \"4\": 1, \"12\": 3, \"2\": 3, \"1\": 7, \"14\": 3}, \"8\": {\"6\": 23, \"7\": 22, \"9\": 8, \"1\": 6, \"0\": 36, \"15\": 14, \"5\": 38, \"2\": 2, \"10\": 33, \"14\": 5, \"13\": 10, \"11\": 2, \"3\": 6, \"8\": 32, \"12\": 3}, \"11\": {\"2\": 24, \"11\": 50, \"10\": 28, \"14\": 71, \"15\": 11, \"13\": 14, \"12\": 14, \"7\": 4, \"8\": 8, \"5\": 4, \"1\": 3, \"0\": 5, \"4\": 4}, \"1\": {\"15\": 47, \"1\": 76, \"13\": 29, \"10\": 4, \"6\": 24, \"8\": 7, \"5\": 13, \"2\": 24, \"11\": 3, \"0\": 7, \"9\": 5, \"14\": 1}, \"10\": {\"15\": 10, \"0\": 19, \"8\": 29, \"9\": 7, \"10\": 39, \"7\": 17, \"11\": 16, \"12\": 11, \"13\": 26, \"6\": 11, \"14\": 24, \"4\": 5, \"5\": 19, \"2\": 6, \"3\": 1}, \"15\": {\"13\": 32, \"15\": 45, \"0\": 8, \"11\": 8, \"8\": 13, \"1\": 30, \"6\": 17, \"14\": 10, \"2\": 34, \"10\": 15, \"12\": 2, \"7\": 2, \"5\": 19, \"9\": 4, \"3\": 1}, \"3\": {\"3\": 107, \"6\": 13, \"0\": 28, \"15\": 1, \"7\": 24, \"5\": 13, \"9\": 39, \"8\": 9, \"4\": 2, \"13\": 2, \"10\": 2}, \"7\": {\"3\": 26, \"10\": 19, \"8\": 24, \"7\": 74, \"5\": 21, \"9\": 8, \"15\": 3, \"0\": 34, \"6\": 5, \"12\": 12, \"4\": 9, \"13\": 2, \"14\": 2, \"2\": 1}, \"4\": {\"4\": 168, \"12\": 49, \"7\": 14, \"5\": 1, \"10\": 3, \"11\": 1, \"0\": 3, \"14\": 1}, \"14\": {\"14\": 78, \"10\": 27, \"11\": 50, \"5\": 4, \"2\": 26, \"15\": 19, \"13\": 16, \"12\": 6, \"8\": 6, \"1\": 5, \"7\": 1, \"0\": 2}, \"9\": {\"3\": 40, \"8\": 21, \"13\": 9, \"5\": 22, \"0\": 16, \"9\": 63, \"1\": 6, \"6\": 47, \"15\": 7, \"7\": 5, \"10\": 2, \"2\": 1, \"11\": 1}, \"12\": {\"4\": 45, \"12\": 121, \"10\": 16, \"3\": 1, \"7\": 9, \"14\": 13, \"11\": 16, \"13\": 2, \"5\": 6, \"15\": 1, \"0\": 5, \"8\": 3, \"2\": 1, \"9\": 1}, \"6\": {\"8\": 13, \"6\": 58, \"9\": 44, \"5\": 27, \"15\": 21, \"3\": 20, \"0\": 14, \"10\": 8, \"13\": 6, \"7\": 9, \"1\": 19, \"2\": 1}, \"2\": {\"15\": 25, \"13\": 40, \"11\": 20, \"2\": 69, \"1\": 21, \"14\": 39, \"5\": 7, \"10\": 12, \"8\": 3, \"0\": 3, \"7\": 1}, \"0\": {\"15\": 9, \"12\": 9, \"0\": 50, \"8\": 24, \"3\": 23, \"5\": 29, \"7\": 28, \"13\": 15, \"10\": 16, \"9\": 13, \"6\": 13, \"4\": 2, \"11\": 4, \"14\": 1, \"2\": 2, \"1\": 2}, \"13\": {\"15\": 32, \"14\": 17, \"1\": 35, \"8\": 13, \"13\": 40, \"6\": 14, \"2\": 37, \"10\": 17, \"0\": 10, \"5\": 10, \"3\": 6, \"11\": 6, \"9\": 1, \"12\": 2}}, \"ORACLE.run1_8\": {\"9\": {\"9\": 195, \"6\": 1, \"14\": 4, \"0\": 7, \"10\": 10, \"5\": 11, \"11\": 1, \"13\": 11}, \"10\": {\"1\": 18, \"10\": 34, \"0\": 24, \"6\": 19, \"7\": 13, \"15\": 3, \"11\": 12, \"14\": 35, \"4\": 26, \"5\": 26, \"13\": 24, \"9\": 2, \"2\": 4}, \"13\": {\"4\": 18, \"1\": 16, \"14\": 28, \"7\": 23, \"13\": 28, \"2\": 8, \"15\": 8, \"10\": 32, \"0\": 23, \"5\": 28, \"6\": 11, \"11\": 9, \"8\": 6, \"3\": 2}, \"0\": {\"5\": 18, \"8\": 5, \"7\": 27, \"13\": 32, \"4\": 27, \"15\": 4, \"0\": 37, \"10\": 19, \"14\": 25, \"6\": 17, \"12\": 2, \"3\": 4, \"2\": 9, \"1\": 8, \"11\": 6}, \"1\": {\"15\": 7, \"8\": 9, \"5\": 18, \"10\": 26, \"13\": 18, \"1\": 32, \"6\": 19, \"0\": 8, \"12\": 3, \"14\": 30, \"11\": 28, \"7\": 17, \"4\": 20, \"2\": 4, \"3\": 1}, \"15\": {\"8\": 37, \"2\": 38, \"14\": 7, \"3\": 30, \"4\": 7, \"12\": 39, \"15\": 33, \"7\": 10, \"6\": 12, \"11\": 9, \"0\": 3, \"5\": 3, \"1\": 8, \"13\": 4}, \"5\": {\"4\": 22, \"11\": 16, \"5\": 33, \"1\": 33, \"10\": 27, \"0\": 17, \"13\": 28, \"14\": 30, \"6\": 12, \"8\": 3, \"7\": 12, \"9\": 5, \"15\": 1, \"12\": 1}, \"3\": {\"2\": 31, \"3\": 76, \"12\": 38, \"11\": 2, \"7\": 11, \"14\": 2, \"10\": 1, \"8\": 24, \"15\": 30, \"6\": 9, \"0\": 4, \"5\": 1, \"1\": 4, \"4\": 6, \"13\": 1}, \"6\": {\"8\": 18, \"15\": 11, \"4\": 19, \"5\": 15, \"1\": 12, \"13\": 22, \"2\": 14, \"10\": 16, \"0\": 17, \"6\": 28, \"11\": 24, \"3\": 7, \"14\": 17, \"7\": 14, \"12\": 6}, \"11\": {\"10\": 14, \"1\": 42, \"2\": 3, \"8\": 18, \"5\": 31, \"11\": 33, \"6\": 7, \"14\": 20, \"4\": 21, \"13\": 18, \"7\": 14, \"3\": 2, \"0\": 7, \"12\": 4, \"15\": 6}, \"8\": {\"2\": 17, \"1\": 12, \"7\": 16, \"6\": 13, \"8\": 32, \"3\": 20, \"11\": 16, \"15\": 32, \"4\": 20, \"0\": 8, \"13\": 12, \"12\": 24, \"14\": 8, \"5\": 6, \"10\": 4}, \"4\": {\"5\": 24, \"4\": 16, \"3\": 4, \"2\": 11, \"15\": 4, \"13\": 30, \"11\": 24, \"7\": 33, \"10\": 13, \"14\": 19, \"0\": 19, \"1\": 17, \"8\": 8, \"6\": 16, \"12\": 2}, \"12\": {\"2\": 27, \"8\": 37, \"11\": 5, \"15\": 49, \"10\": 3, \"3\": 44, \"6\": 10, \"7\": 9, \"12\": 43, \"14\": 6, \"13\": 1, \"4\": 2, \"1\": 4}, \"14\": {\"6\": 19, \"1\": 19, \"10\": 28, \"0\": 23, \"5\": 22, \"11\": 19, \"7\": 23, \"13\": 19, \"8\": 8, \"14\": 29, \"15\": 5, \"4\": 18, \"2\": 5, \"3\": 2, \"12\": 1}, \"2\": {\"4\": 7, \"7\": 17, \"2\": 53, \"3\": 46, \"12\": 27, \"15\": 18, \"6\": 15, \"8\": 16, \"13\": 5, \"11\": 5, \"0\": 11, \"10\": 9, \"14\": 9, \"1\": 2}, \"7\": {\"4\": 16, \"6\": 25, \"11\": 16, \"3\": 13, \"7\": 24, \"0\": 19, \"12\": 9, \"13\": 13, \"8\": 13, \"1\": 12, \"15\": 13, \"14\": 18, \"5\": 10, \"10\": 19, \"2\": 20}}, \"ORACLE.run1_50\": {\"7\": {\"5\": 34, \"14\": 6, \"7\": 37, \"6\": 25, \"8\": 11, \"1\": 6, \"3\": 13, \"13\": 45, \"0\": 9, \"4\": 17, \"10\": 21, \"2\": 4, \"12\": 1, \"11\": 4, \"15\": 7}, \"3\": {\"3\": 110, \"5\": 2, \"8\": 68, \"0\": 10, \"10\": 31, \"7\": 6, \"13\": 6, \"2\": 6, \"6\": 1}, \"8\": {\"3\": 54, \"8\": 82, \"10\": 50, \"0\": 29, \"2\": 13, \"6\": 2, \"7\": 3, \"1\": 1, \"5\": 3, \"13\": 3}, \"2\": {\"0\": 59, \"8\": 19, \"5\": 4, \"2\": 62, \"14\": 30, \"6\": 8, \"10\": 26, \"13\": 5, \"12\": 8, \"7\": 8, \"1\": 4, \"4\": 3, \"3\": 4}, \"14\": {\"6\": 11, \"14\": 76, \"15\": 7, \"7\": 4, \"9\": 19, \"12\": 45, \"0\": 12, \"1\": 15, \"4\": 10, \"2\": 14, \"13\": 7, \"5\": 6, \"10\": 2, \"11\": 12}, \"4\": {\"11\": 19, \"6\": 19, \"1\": 36, \"4\": 30, \"9\": 10, \"5\": 29, \"7\": 23, \"15\": 35, \"13\": 21, \"14\": 6, \"12\": 8, \"0\": 3, \"2\": 1}, \"6\": {\"2\": 10, \"13\": 23, \"4\": 23, \"6\": 35, \"7\": 23, \"8\": 2, \"1\": 26, \"5\": 29, \"15\": 19, \"14\": 7, \"10\": 15, \"11\": 9, \"3\": 4, \"0\": 9, \"12\": 5, \"9\": 1}, \"15\": {\"12\": 12, \"4\": 23, \"7\": 10, \"5\": 16, \"11\": 37, \"1\": 29, \"9\": 21, \"14\": 10, \"13\": 7, \"15\": 50, \"6\": 24, \"2\": 1}, \"10\": {\"6\": 11, \"3\": 19, \"10\": 50, \"0\": 39, \"8\": 33, \"7\": 18, \"2\": 23, \"4\": 2, \"13\": 29, \"5\": 11, \"1\": 4, \"14\": 1}, \"11\": {\"12\": 30, \"4\": 14, \"6\": 5, \"9\": 53, \"11\": 51, \"1\": 23, \"15\": 43, \"14\": 14, \"13\": 2, \"7\": 2, \"5\": 3}, \"13\": {\"7\": 40, \"10\": 20, \"13\": 39, \"8\": 4, \"0\": 10, \"1\": 17, \"5\": 46, \"14\": 8, \"3\": 5, \"6\": 18, \"4\": 23, \"15\": 6, \"2\": 2, \"11\": 1, \"9\": 1}, \"9\": {\"9\": 78, \"1\": 16, \"11\": 55, \"12\": 44, \"4\": 10, \"14\": 9, \"15\": 22, \"6\": 3, \"13\": 1, \"5\": 2}, \"0\": {\"0\": 55, \"10\": 36, \"7\": 15, \"13\": 17, \"14\": 15, \"2\": 49, \"6\": 5, \"1\": 7, \"8\": 25, \"3\": 10, \"5\": 5, \"12\": 1}, \"1\": {\"13\": 17, \"9\": 12, \"7\": 22, \"5\": 24, \"11\": 17, \"6\": 28, \"0\": 8, \"1\": 36, \"15\": 29, \"14\": 12, \"4\": 21, \"10\": 3, \"12\": 7, \"2\": 4}, \"12\": {\"14\": 59, \"9\": 37, \"1\": 10, \"12\": 86, \"11\": 21, \"15\": 11, \"5\": 1, \"0\": 2, \"4\": 2, \"6\": 3, \"10\": 1, \"2\": 7}, \"5\": {\"15\": 18, \"10\": 20, \"6\": 28, \"7\": 35, \"5\": 38, \"13\": 39, \"4\": 17, \"1\": 20, \"14\": 7, \"3\": 1, \"9\": 1, \"11\": 7, \"12\": 2, \"0\": 4, \"8\": 2, \"2\": 1}}, \"ORACLE.run1_32\": {\"8\": {\"3\": 33, \"8\": 46, \"13\": 37, \"5\": 36, \"14\": 18, \"11\": 15, \"7\": 12, \"15\": 6, \"0\": 23, \"4\": 11, \"2\": 3}, \"14\": {\"13\": 17, \"11\": 44, \"5\": 22, \"8\": 16, \"7\": 33, \"3\": 10, \"14\": 40, \"2\": 18, \"15\": 1, \"4\": 15, \"0\": 24}, \"2\": {\"9\": 22, \"7\": 32, \"8\": 8, \"2\": 69, \"14\": 14, \"4\": 48, \"0\": 18, \"5\": 14, \"13\": 9, \"11\": 6}, \"0\": {\"13\": 21, \"14\": 23, \"0\": 52, \"4\": 24, \"2\": 25, \"7\": 32, \"11\": 17, \"8\": 22, \"5\": 20, \"3\": 3, \"9\": 1}, \"1\": {\"10\": 63, \"1\": 138, \"6\": 38, \"12\": 1}, \"10\": {\"10\": 125, \"6\": 28, \"1\": 62, \"12\": 22, \"9\": 3}, \"11\": {\"11\": 68, \"14\": 34, \"0\": 17, \"4\": 13, \"3\": 21, \"5\": 24, \"7\": 27, \"8\": 10, \"13\": 19, \"2\": 7}, \"5\": {\"5\": 41, \"0\": 23, \"13\": 26, \"14\": 19, \"15\": 2, \"3\": 14, \"7\": 32, \"11\": 17, \"8\": 29, \"2\": 10, \"4\": 26, \"9\": 1}, \"15\": {\"15\": 203, \"3\": 22, \"8\": 9, \"5\": 4, \"13\": 1, \"11\": 1}, \"3\": {\"11\": 16, \"3\": 84, \"8\": 48, \"15\": 15, \"0\": 9, \"14\": 12, \"13\": 27, \"5\": 24, \"4\": 4, \"7\": 1}, \"12\": {\"12\": 125, \"10\": 32, \"9\": 71, \"6\": 9, \"4\": 1, \"1\": 2}, \"7\": {\"4\": 27, \"0\": 38, \"5\": 27, \"14\": 31, \"2\": 28, \"11\": 23, \"7\": 33, \"13\": 17, \"8\": 13, \"3\": 3}, \"13\": {\"4\": 17, \"3\": 26, \"5\": 34, \"8\": 39, \"2\": 14, \"11\": 14, \"13\": 40, \"14\": 18, \"0\": 24, \"7\": 13, \"15\": 1}, \"6\": {\"6\": 146, \"12\": 18, \"10\": 24, \"1\": 46, \"9\": 6}, \"4\": {\"7\": 41, \"5\": 22, \"4\": 47, \"13\": 15, \"11\": 12, \"8\": 10, \"0\": 22, \"2\": 49, \"14\": 18, \"9\": 2, \"3\": 2}, \"9\": {\"9\": 128, \"12\": 70, \"2\": 24, \"4\": 10, \"6\": 5, \"7\": 2, \"14\": 1}}, \"ORACLE.run1_26\": {\"4\": {\"3\": 18, \"4\": 26, \"6\": 13, \"2\": 17, \"1\": 37, \"8\": 20, \"10\": 18, \"9\": 10, \"0\": 11, \"5\": 8, \"15\": 11, \"7\": 21, \"14\": 28, \"12\": 1, \"13\": 1}, \"12\": {\"6\": 23, \"11\": 50, \"12\": 100, \"13\": 16, \"8\": 5, \"15\": 10, \"9\": 10, \"10\": 12, \"14\": 1, \"5\": 6, \"0\": 4, \"2\": 2, \"1\": 1}, \"10\": {\"10\": 18, \"6\": 14, \"15\": 18, \"14\": 18, \"9\": 15, \"5\": 11, \"7\": 27, \"2\": 12, \"4\": 19, \"13\": 9, \"0\": 33, \"8\": 21, \"1\": 15, \"3\": 6, \"12\": 4}, \"0\": {\"15\": 13, \"8\": 23, \"3\": 17, \"4\": 26, \"6\": 22, \"14\": 20, \"2\": 15, \"0\": 24, \"9\": 10, \"1\": 13, \"5\": 14, \"13\": 3, \"10\": 27, \"12\": 4, \"7\": 9}, \"13\": {\"11\": 9, \"12\": 19, \"15\": 31, \"1\": 2, \"4\": 4, \"13\": 45, \"5\": 33, \"6\": 15, \"7\": 8, \"9\": 21, \"2\": 13, \"3\": 8, \"0\": 6, \"14\": 1, \"8\": 16, \"10\": 9}, \"9\": {\"6\": 24, \"15\": 20, \"14\": 16, \"1\": 8, \"13\": 18, \"9\": 32, \"0\": 14, \"7\": 15, \"12\": 8, \"10\": 20, \"2\": 11, \"8\": 14, \"4\": 8, \"5\": 23, \"3\": 7, \"11\": 2}, \"3\": {\"1\": 28, \"5\": 11, \"15\": 16, \"9\": 10, \"7\": 32, \"10\": 16, \"3\": 29, \"4\": 19, \"2\": 20, \"0\": 16, \"8\": 13, \"13\": 3, \"14\": 23, \"6\": 4}, \"2\": {\"8\": 23, \"3\": 22, \"5\": 20, \"1\": 12, \"4\": 20, \"2\": 31, \"15\": 13, \"10\": 14, \"13\": 7, \"14\": 12, \"0\": 15, \"9\": 16, \"7\": 24, \"6\": 10, \"12\": 1}, \"5\": {\"15\": 16, \"6\": 14, \"8\": 17, \"4\": 15, \"10\": 20, \"9\": 18, \"2\": 23, \"3\": 10, \"14\": 10, \"5\": 33, \"11\": 3, \"13\": 31, \"12\": 6, \"7\": 14, \"0\": 8, \"1\": 2}, \"14\": {\"14\": 33, \"6\": 9, \"2\": 11, \"5\": 12, \"1\": 39, \"10\": 21, \"4\": 12, \"8\": 24, \"0\": 28, \"9\": 13, \"3\": 8, \"7\": 26, \"15\": 3, \"13\": 1}, \"8\": {\"9\": 11, \"7\": 25, \"3\": 11, \"4\": 21, \"1\": 11, \"13\": 8, \"0\": 20, \"5\": 13, \"8\": 24, \"6\": 25, \"2\": 18, \"10\": 22, \"15\": 20, \"14\": 11}, \"7\": {\"4\": 24, \"7\": 20, \"10\": 20, \"8\": 25, \"1\": 28, \"6\": 10, \"15\": 11, \"2\": 18, \"0\": 16, \"5\": 13, \"9\": 19, \"14\": 21, \"3\": 14, \"13\": 1}, \"6\": {\"8\": 15, \"5\": 21, \"13\": 19, \"6\": 42, \"11\": 2, \"4\": 10, \"9\": 21, \"10\": 24, \"12\": 21, \"14\": 4, \"7\": 17, \"15\": 16, \"3\": 7, \"2\": 8, \"0\": 10, \"1\": 3}, \"11\": {\"11\": 145, \"12\": 56, \"13\": 23, \"15\": 2, \"5\": 5, \"2\": 2, \"9\": 4, \"6\": 3}, \"15\": {\"6\": 27, \"13\": 20, \"3\": 9, \"0\": 15, \"8\": 23, \"15\": 25, \"12\": 11, \"10\": 25, \"14\": 10, \"1\": 4, \"9\": 11, \"4\": 8, \"5\": 26, \"2\": 18, \"7\": 8}, \"1\": {\"14\": 33, \"7\": 27, \"5\": 5, \"4\": 34, \"1\": 32, \"9\": 3, \"2\": 17, \"10\": 21, \"3\": 20, \"6\": 6, \"0\": 22, \"8\": 12, \"15\": 3, \"13\": 5}}, \"ORACLE.run1_44\": {\"12\": {\"7\": 16, \"12\": 62, \"1\": 37, \"10\": 47, \"3\": 30, \"11\": 2, \"2\": 29, \"9\": 10, \"6\": 5, \"13\": 2}, \"7\": {\"3\": 13, \"1\": 20, \"10\": 23, \"6\": 19, \"7\": 41, \"11\": 20, \"2\": 32, \"13\": 24, \"12\": 17, \"9\": 30, \"4\": 1}, \"5\": {\"4\": 28, \"5\": 66, \"0\": 32, \"14\": 53, \"8\": 28, \"15\": 33}, \"15\": {\"5\": 35, \"4\": 30, \"0\": 39, \"15\": 48, \"14\": 48, \"8\": 39, \"3\": 1}, \"8\": {\"0\": 75, \"8\": 93, \"5\": 28, \"15\": 35, \"14\": 8, \"4\": 1}, \"2\": {\"12\": 16, \"10\": 36, \"13\": 16, \"6\": 25, \"7\": 36, \"2\": 41, \"1\": 19, \"3\": 14, \"9\": 23, \"11\": 14}, \"13\": {\"6\": 44, \"13\": 69, \"9\": 40, \"7\": 32, \"11\": 27, \"1\": 4, \"2\": 11, \"3\": 7, \"4\": 3, \"10\": 2, \"12\": 1}, \"4\": {\"4\": 74, \"15\": 24, \"14\": 86, \"7\": 2, \"5\": 14, \"13\": 13, \"3\": 7, \"0\": 6, \"9\": 12, \"8\": 2}, \"0\": {\"5\": 45, \"15\": 48, \"8\": 75, \"14\": 12, \"0\": 53, \"4\": 7}, \"6\": {\"7\": 21, \"11\": 39, \"6\": 58, \"13\": 49, \"2\": 25, \"9\": 30, \"10\": 4, \"1\": 8, \"3\": 2, \"12\": 3, \"4\": 1}, \"9\": {\"9\": 54, \"13\": 33, \"7\": 39, \"6\": 22, \"1\": 9, \"2\": 23, \"11\": 16, \"10\": 10, \"4\": 10, \"14\": 3, \"12\": 13, \"3\": 7, \"5\": 1}, \"11\": {\"6\": 48, \"13\": 39, \"11\": 98, \"9\": 12, \"7\": 15, \"2\": 16, \"12\": 3, \"10\": 7, \"4\": 2}, \"10\": {\"1\": 38, \"12\": 34, \"2\": 43, \"10\": 58, \"9\": 13, \"11\": 10, \"7\": 24, \"3\": 8, \"6\": 8, \"13\": 4}, \"14\": {\"4\": 73, \"15\": 28, \"14\": 71, \"5\": 35, \"9\": 4, \"0\": 9, \"13\": 5, \"3\": 6, \"6\": 1, \"8\": 6, \"7\": 2}, \"1\": {\"12\": 48, \"3\": 45, \"10\": 33, \"7\": 19, \"2\": 27, \"1\": 49, \"13\": 7, \"9\": 11, \"11\": 1}, \"3\": {\"3\": 89, \"9\": 11, \"7\": 11, \"1\": 52, \"13\": 5, \"12\": 32, \"10\": 20, \"2\": 12, \"4\": 4, \"6\": 1, \"11\": 2, \"14\": 1}}}, \"per_domain_accuracy\": {\"C_A_3\": {\"accuracy\": 0.9921875, \"source?\": true}, \"C_A_4\": {\"accuracy\": 0.9921875, \"source?\": true}, \"W_A_3\": {\"accuracy\": 0.9283854166666666, \"source?\": true}, \"C_A_5\": {\"accuracy\": 0.9765625, \"source?\": true}, \"C_A_1\": {\"accuracy\": 0.990625, \"source?\": true}, \"W_A_4\": {\"accuracy\": 0.91015625, \"source?\": true}, \"W_A_1\": {\"accuracy\": 0.94921875, \"source?\": true}, \"W_A_2\": {\"accuracy\": 0.9322916666666666, \"source?\": true}, \"C_A_2\": {\"accuracy\": 0.9953125, \"source?\": true}, \"ORACLE.run1_14\": {\"accuracy\": 0.25494791666666666, \"source?\": false}, \"ORACLE.run1_20\": {\"accuracy\": 0.11848958333333333, \"source?\": false}, \"ORACLE.run1_38\": {\"accuracy\": 0.28958333333333336, \"source?\": false}, \"ORACLE.run1_8\": {\"accuracy\": 0.1890625, \"source?\": false}, \"ORACLE.run1_50\": {\"accuracy\": 0.23828125, \"source?\": false}, \"ORACLE.run1_32\": {\"accuracy\": 0.3606770833333333, \"source?\": false}, \"ORACLE.run1_26\": {\"accuracy\": 0.17161458333333332, \"source?\": false}, \"ORACLE.run1_44\": {\"accuracy\": 0.26666666666666666, \"source?\": false}}}, \"history\": {\"epoch_indices\": [1, 2, 3, 4, 5, 6, 7], \"train_label_loss\": [0.3983853787126925, 0.6509657495132343, 0.2342283460021951, 0.1773794873303184, 0.14905412201841325, 0.16580220217511535, 0.12675799639813506], \"source_val_label_loss\": [2.18253755569458, 0.29752182960510254, 0.2153017669916153, 0.20890097320079803, 0.3907497823238373, 0.16685037314891815, 0.17710261046886444], \"target_val_label_loss\": [2.443643808364868, 2.4114437103271484, 2.279186725616455, 2.342900514602661, 2.296020269393921, 2.2827587127685547, 2.409179210662842], \"source_val_acc_label\": [0.9270119863013698, 0.9367508561643836, 0.9503424657534246, 0.951519691780822, 0.963505993150685, 0.9624357876712328, 0.9621147260273972], \"target_val_acc_label\": [0.196875, 0.20240885416666668, 0.23616536458333334, 0.22210286458333334, 0.23382161458333334, 0.237890625, 0.2052734375]}, \"dataset_metrics\": {\"source\": {\"train\": {\"n_unique_x\": 56700, \"n_unique_y\": 130, \"n_batch/episode\": 2082}, \"val\": {\"n_unique_x\": 12132, \"n_unique_y\": 130, \"n_batch/episode\": 292}, \"test\": {\"n_unique_x\": 12132, \"n_unique_y\": 130, \"n_batch/episode\": 292}}, \"target\": {\"train\": {\"n_unique_x\": 179200, \"n_unique_y\": 16, \"n_batch/episode\": 6720}, \"val\": {\"n_unique_x\": 38400, \"n_unique_y\": 16, \"n_batch/episode\": 960}, \"test\": {\"n_unique_x\": 38400, \"n_unique_y\": 16, \"n_batch/episode\": 960}}}}'"
      ]
     },
     "execution_count": 29,
     "metadata": {},
     "output_type": "execute_result"
    }
   ],
   "source": [
    "json.dumps(experiment)"
   ]
  }
 ],
 "metadata": {
  "celltoolbar": "Tags",
  "kernelspec": {
   "display_name": "Python 3 (ipykernel)",
   "language": "python",
   "name": "python3"
  },
  "language_info": {
   "codemirror_mode": {
    "name": "ipython",
    "version": 3
   },
   "file_extension": ".py",
   "mimetype": "text/x-python",
   "name": "python",
   "nbconvert_exporter": "python",
   "pygments_lexer": "ipython3",
   "version": "3.8.10"
  },
  "papermill": {
   "default_parameters": {},
   "duration": 562.992842,
   "end_time": "2022-03-18T11:00:55.040421",
   "environment_variables": {},
   "exception": null,
   "input_path": "/mnt/wd500GB/CSC500/csc500-main/csc500-notebooks/templates/tl_ptn_template.ipynb",
   "output_path": "trial.ipynb",
   "parameters": {
    "parameters": {
     "BEST_MODEL_PATH": "./best_model.pth",
     "NUM_LOGS_PER_EPOCH": 10,
     "criteria_for_best": "target_loss",
     "dataset_seed": 1337,
     "datasets": [
      {
       "domain_prefix": "C_A_",
       "domains": [
        1,
        2,
        3,
        4,
        5
       ],
       "episode_transforms": [],
       "labels": [
        "1-10.",
        "1-11.",
        "1-15.",
        "1-16.",
        "1-17.",
        "1-18.",
        "1-19.",
        "10-4.",
        "10-7.",
        "11-1.",
        "11-14.",
        "11-17.",
        "11-20.",
        "11-7.",
        "13-20.",
        "13-8.",
        "14-10.",
        "14-11.",
        "14-14.",
        "14-7.",
        "15-1.",
        "15-20.",
        "16-1.",
        "16-16.",
        "17-10.",
        "17-11.",
        "17-2.",
        "19-1.",
        "19-16.",
        "19-19.",
        "19-20.",
        "19-3.",
        "2-10.",
        "2-11.",
        "2-17.",
        "2-18.",
        "2-20.",
        "2-3.",
        "2-4.",
        "2-5.",
        "2-6.",
        "2-7.",
        "2-8.",
        "3-13.",
        "3-18.",
        "3-3.",
        "4-1.",
        "4-10.",
        "4-11.",
        "4-19.",
        "5-5.",
        "6-15.",
        "7-10.",
        "7-14.",
        "8-18.",
        "8-20.",
        "8-3.",
        "8-8."
       ],
       "num_examples_per_domain_per_label": 100,
       "pickle_path": "/mnt/wd500GB/CSC500/csc500-main/datasets/cores.stratified_ds.2022A.pkl",
       "source_or_target_dataset": "source",
       "x_transforms": [
        "unit_power",
        "jitter_256_1",
        "take_200"
       ]
      },
      {
       "domain_prefix": "W_A_",
       "domains": [
        1,
        2,
        3,
        4
       ],
       "episode_transforms": [],
       "labels": [
        "1-10",
        "1-12",
        "1-14",
        "1-16",
        "1-18",
        "1-19",
        "1-8",
        "10-11",
        "10-17",
        "10-4",
        "10-7",
        "11-1",
        "11-10",
        "11-19",
        "11-20",
        "11-4",
        "11-7",
        "12-19",
        "12-20",
        "12-7",
        "13-14",
        "13-18",
        "13-19",
        "13-20",
        "13-3",
        "13-7",
        "14-10",
        "14-11",
        "14-12",
        "14-13",
        "14-14",
        "14-19",
        "14-20",
        "14-7",
        "14-8",
        "14-9",
        "15-1",
        "15-19",
        "15-6",
        "16-1",
        "16-16",
        "16-19",
        "16-20",
        "17-10",
        "17-11",
        "18-1",
        "18-10",
        "18-11",
        "18-12",
        "18-13",
        "18-14",
        "18-15",
        "18-16",
        "18-17",
        "18-19",
        "18-2",
        "18-20",
        "18-4",
        "18-5",
        "18-7",
        "18-8",
        "18-9",
        "19-1",
        "19-10",
        "19-11",
        "19-12",
        "19-13",
        "19-14",
        "19-15",
        "19-19",
        "19-2",
        "19-20",
        "19-3",
        "19-4",
        "19-6",
        "19-7",
        "19-8",
        "19-9",
        "2-1",
        "2-13",
        "2-15",
        "2-3",
        "2-4",
        "2-5",
        "2-6",
        "2-7",
        "2-8",
        "20-1",
        "20-12",
        "20-14",
        "20-15",
        "20-16",
        "20-18",
        "20-19",
        "20-20",
        "20-3",
        "20-4",
        "20-5",
        "20-7",
        "20-8",
        "3-1",
        "3-13",
        "3-18",
        "3-2",
        "3-8",
        "4-1",
        "4-10",
        "4-11",
        "5-1",
        "5-5",
        "6-1",
        "6-15",
        "6-6",
        "7-10",
        "7-11",
        "7-12",
        "7-13",
        "7-14",
        "7-7",
        "7-8",
        "7-9",
        "8-1",
        "8-13",
        "8-14",
        "8-18",
        "8-20",
        "8-3",
        "8-8",
        "9-1",
        "9-7"
       ],
       "num_examples_per_domain_per_label": 100,
       "pickle_path": "/mnt/wd500GB/CSC500/csc500-main/datasets/wisig.node3-19.stratified_ds.2022A.pkl",
       "source_or_target_dataset": "source",
       "x_transforms": [
        "unit_power",
        "jitter_256_1",
        "take_200"
       ]
      },
      {
       "domain_prefix": "ORACLE.run1_",
       "domains": [
        32,
        38,
        8,
        44,
        14,
        50,
        20,
        26
       ],
       "episode_transforms": [],
       "labels": [
        "3123D52",
        "3123D65",
        "3123D79",
        "3123D80",
        "3123D54",
        "3123D70",
        "3123D7B",
        "3123D89",
        "3123D58",
        "3123D76",
        "3123D7D",
        "3123EFE",
        "3123D64",
        "3123D78",
        "3123D7E",
        "3124E4A"
       ],
       "num_examples_per_domain_per_label": 2000,
       "pickle_path": "/mnt/wd500GB/CSC500/csc500-main/datasets/oracle.Run1_framed_2000Examples_stratified_ds.2022A.pkl",
       "source_or_target_dataset": "target",
       "x_transforms": [
        "unit_power",
        "jitter_256_1",
        "take_200",
        "resample_20Msps_to_25Msps"
       ]
      }
     ],
     "device": "cuda",
     "experiment_name": "tl_3-jitter1:cores+wisig -> oracle.run1.framed",
     "lr": 0.001,
     "n_epoch": 50,
     "n_query": 2,
     "n_shot": 3,
     "n_way": 16,
     "patience": 3,
     "seed": 1337,
     "test_k_factor": 2,
     "torch_default_dtype": "torch.float32",
     "train_k_factor": 3,
     "val_k_factor": 2,
     "x_net": [
      {
       "class": "nnReshape",
       "kargs": {
        "shape": [
         -1,
         1,
         2,
         256
        ]
       }
      },
      {
       "class": "Conv2d",
       "kargs": {
        "bias": false,
        "in_channels": 1,
        "kernel_size": [
         1,
         7
        ],
        "out_channels": 256,
        "padding": [
         0,
         3
        ]
       }
      },
      {
       "class": "ReLU",
       "kargs": {
        "inplace": true
       }
      },
      {
       "class": "BatchNorm2d",
       "kargs": {
        "num_features": 256
       }
      },
      {
       "class": "Conv2d",
       "kargs": {
        "bias": true,
        "in_channels": 256,
        "kernel_size": [
         2,
         7
        ],
        "out_channels": 80,
        "padding": [
         0,
         3
        ]
       }
      },
      {
       "class": "ReLU",
       "kargs": {
        "inplace": true
       }
      },
      {
       "class": "BatchNorm2d",
       "kargs": {
        "num_features": 80
       }
      },
      {
       "class": "Flatten",
       "kargs": {}
      },
      {
       "class": "Linear",
       "kargs": {
        "in_features": 20480,
        "out_features": 256
       }
      },
      {
       "class": "ReLU",
       "kargs": {
        "inplace": true
       }
      },
      {
       "class": "BatchNorm1d",
       "kargs": {
        "num_features": 256
       }
      },
      {
       "class": "Linear",
       "kargs": {
        "in_features": 256,
        "out_features": 256
       }
      }
     ]
    }
   },
   "start_time": "2022-03-18T10:51:32.047579",
   "version": "2.3.4"
  }
 },
 "nbformat": 4,
 "nbformat_minor": 5
}